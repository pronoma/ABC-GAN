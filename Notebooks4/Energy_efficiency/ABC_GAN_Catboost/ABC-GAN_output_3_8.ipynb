{
 "cells": [
  {
   "cell_type": "markdown",
   "id": "4a645eeb",
   "metadata": {
    "tags": [
     "papermill-error-cell-tag"
    ]
   },
   "source": [
    "<span style=\"color:red; font-family:Helvetica Neue, Helvetica, Arial, sans-serif; font-size:2em;\">An Exception was encountered at '<a href=\"#papermill-error-cell\">In [15]</a>'.</span>"
   ]
  },
  {
   "cell_type": "markdown",
   "id": "622780e6",
   "metadata": {
    "id": "622780e6",
    "papermill": {
     "duration": 0.010578,
     "end_time": "2022-07-24T13:19:31.090410",
     "exception": false,
     "start_time": "2022-07-24T13:19:31.079832",
     "status": "completed"
    },
    "tags": []
   },
   "source": [
    "## Import Libraries "
   ]
  },
  {
   "cell_type": "code",
   "execution_count": 1,
   "id": "a62397e3",
   "metadata": {
    "execution": {
     "iopub.execute_input": "2022-07-24T13:19:31.116440Z",
     "iopub.status.busy": "2022-07-24T13:19:31.115804Z",
     "iopub.status.idle": "2022-07-24T13:19:31.132705Z",
     "shell.execute_reply": "2022-07-24T13:19:31.131740Z"
    },
    "id": "a62397e3",
    "papermill": {
     "duration": 0.033843,
     "end_time": "2022-07-24T13:19:31.136810",
     "exception": false,
     "start_time": "2022-07-24T13:19:31.102967",
     "status": "completed"
    },
    "tags": []
   },
   "outputs": [],
   "source": [
    "import warnings\n",
    "import sys\n",
    "sys.path.insert(0, '../../src')\n",
    "warnings.filterwarnings('ignore')"
   ]
  },
  {
   "cell_type": "code",
   "execution_count": 2,
   "id": "d6a4e155",
   "metadata": {
    "execution": {
     "iopub.execute_input": "2022-07-24T13:19:31.162542Z",
     "iopub.status.busy": "2022-07-24T13:19:31.161752Z",
     "iopub.status.idle": "2022-07-24T13:19:38.645314Z",
     "shell.execute_reply": "2022-07-24T13:19:38.643587Z"
    },
    "id": "d6a4e155",
    "papermill": {
     "duration": 7.499573,
     "end_time": "2022-07-24T13:19:38.648489",
     "exception": false,
     "start_time": "2022-07-24T13:19:31.148916",
     "status": "completed"
    },
    "tags": []
   },
   "outputs": [],
   "source": [
    "import ABC_train_test2\n",
    "import energyefficiencyDataset\n",
    "import network\n",
    "import dataset\n",
    "import sanityChecks\n",
    "import torch \n",
    "import scrapbook as sb\n",
    "from statistics import mean \n",
    "import catboost as ctb \n",
    "from sklearn.model_selection import train_test_split\n",
    "from sklearn.metrics import mean_squared_error,mean_absolute_error\n",
    "import numpy as np"
   ]
  },
  {
   "cell_type": "markdown",
   "id": "2fa5b0f7",
   "metadata": {
    "id": "2fa5b0f7",
    "papermill": {
     "duration": 0.008568,
     "end_time": "2022-07-24T13:19:38.668169",
     "exception": false,
     "start_time": "2022-07-24T13:19:38.659601",
     "status": "completed"
    },
    "tags": []
   },
   "source": [
    "## Parameters "
   ]
  },
  {
   "cell_type": "code",
   "execution_count": 3,
   "id": "783186fb",
   "metadata": {
    "execution": {
     "iopub.execute_input": "2022-07-24T13:19:38.692292Z",
     "iopub.status.busy": "2022-07-24T13:19:38.690950Z",
     "iopub.status.idle": "2022-07-24T13:19:38.698197Z",
     "shell.execute_reply": "2022-07-24T13:19:38.696600Z"
    },
    "id": "783186fb",
    "papermill": {
     "duration": 0.023492,
     "end_time": "2022-07-24T13:19:38.703391",
     "exception": false,
     "start_time": "2022-07-24T13:19:38.679899",
     "status": "completed"
    },
    "tags": [
     "parameters"
    ]
   },
   "outputs": [],
   "source": [
    "variance = 1\n",
    "bias = 1 "
   ]
  },
  {
   "cell_type": "code",
   "execution_count": 4,
   "id": "e4b66d54",
   "metadata": {
    "execution": {
     "iopub.execute_input": "2022-07-24T13:19:38.720511Z",
     "iopub.status.busy": "2022-07-24T13:19:38.720129Z",
     "iopub.status.idle": "2022-07-24T13:19:38.726078Z",
     "shell.execute_reply": "2022-07-24T13:19:38.724069Z"
    },
    "papermill": {
     "duration": 0.01958,
     "end_time": "2022-07-24T13:19:38.730052",
     "exception": false,
     "start_time": "2022-07-24T13:19:38.710472",
     "status": "completed"
    },
    "tags": [
     "injected-parameters"
    ]
   },
   "outputs": [],
   "source": [
    "# Parameters\n",
    "variance = 0.01\n",
    "bias = 0.01\n"
   ]
  },
  {
   "cell_type": "markdown",
   "id": "391cdbfd",
   "metadata": {
    "id": "391cdbfd",
    "papermill": {
     "duration": 0.007171,
     "end_time": "2022-07-24T13:19:38.747002",
     "exception": false,
     "start_time": "2022-07-24T13:19:38.739831",
     "status": "completed"
    },
    "tags": []
   },
   "source": [
    "## Dataset \n"
   ]
  },
  {
   "cell_type": "code",
   "execution_count": 5,
   "id": "5b51f161",
   "metadata": {
    "execution": {
     "iopub.execute_input": "2022-07-24T13:19:38.786401Z",
     "iopub.status.busy": "2022-07-24T13:19:38.782008Z",
     "iopub.status.idle": "2022-07-24T13:19:38.795913Z",
     "shell.execute_reply": "2022-07-24T13:19:38.792217Z"
    },
    "id": "5b51f161",
    "papermill": {
     "duration": 0.04765,
     "end_time": "2022-07-24T13:19:38.804139",
     "exception": false,
     "start_time": "2022-07-24T13:19:38.756489",
     "status": "completed"
    },
    "tags": []
   },
   "outputs": [],
   "source": [
    "#Parameters \n",
    "n_features = 8\n",
    "n_samples= 768\n",
    "n_target = 1 "
   ]
  },
  {
   "cell_type": "code",
   "execution_count": 6,
   "id": "5d6eced4",
   "metadata": {
    "execution": {
     "iopub.execute_input": "2022-07-24T13:19:38.834318Z",
     "iopub.status.busy": "2022-07-24T13:19:38.833608Z",
     "iopub.status.idle": "2022-07-24T13:19:39.664040Z",
     "shell.execute_reply": "2022-07-24T13:19:39.662964Z"
    },
    "id": "5d6eced4",
    "papermill": {
     "duration": 0.849075,
     "end_time": "2022-07-24T13:19:39.666985",
     "exception": false,
     "start_time": "2022-07-24T13:19:38.817910",
     "status": "completed"
    },
    "tags": []
   },
   "outputs": [
    {
     "name": "stdout",
     "output_type": "stream",
     "text": [
      "     X1     X2     X3      X4   X5  X6   X7  X8     Y1     Y2\n",
      "0  0.98  514.5  294.0  110.25  7.0   2  0.0   0  15.55  21.33\n",
      "1  0.98  514.5  294.0  110.25  7.0   3  0.0   0  15.55  21.33\n",
      "2  0.98  514.5  294.0  110.25  7.0   4  0.0   0  15.55  21.33\n",
      "3  0.98  514.5  294.0  110.25  7.0   5  0.0   0  15.55  21.33\n",
      "4  0.90  563.5  318.5  122.50  7.0   2  0.0   0  20.84  28.28\n"
     ]
    }
   ],
   "source": [
    "X,Y = energyefficiencyDataset.energy_data()"
   ]
  },
  {
   "cell_type": "code",
   "execution_count": 7,
   "id": "fe007438",
   "metadata": {
    "execution": {
     "iopub.execute_input": "2022-07-24T13:19:39.684109Z",
     "iopub.status.busy": "2022-07-24T13:19:39.683774Z",
     "iopub.status.idle": "2022-07-24T13:19:39.691395Z",
     "shell.execute_reply": "2022-07-24T13:19:39.690249Z"
    },
    "id": "fe007438",
    "papermill": {
     "duration": 0.021096,
     "end_time": "2022-07-24T13:19:39.695507",
     "exception": false,
     "start_time": "2022-07-24T13:19:39.674411",
     "status": "completed"
    },
    "tags": []
   },
   "outputs": [],
   "source": [
    "#Train test split for dataset \n",
    "X_train,X_test,Y_train,Y_test = train_test_split(X,Y,test_size = 0.2)\n",
    "train_data = dataset.CustomDataset(X_train,Y_train)\n",
    "test_data = dataset.CustomDataset(X_test,Y_test)\n"
   ]
  },
  {
   "cell_type": "markdown",
   "id": "a9a1af34",
   "metadata": {
    "id": "a9a1af34",
    "papermill": {
     "duration": 0.013833,
     "end_time": "2022-07-24T13:19:39.724483",
     "exception": false,
     "start_time": "2022-07-24T13:19:39.710650",
     "status": "completed"
    },
    "tags": []
   },
   "source": [
    "## Training Parameters "
   ]
  },
  {
   "cell_type": "code",
   "execution_count": 8,
   "id": "952b7fc8",
   "metadata": {
    "execution": {
     "iopub.execute_input": "2022-07-24T13:19:39.749804Z",
     "iopub.status.busy": "2022-07-24T13:19:39.748994Z",
     "iopub.status.idle": "2022-07-24T13:19:39.761709Z",
     "shell.execute_reply": "2022-07-24T13:19:39.759612Z"
    },
    "id": "952b7fc8",
    "papermill": {
     "duration": 0.030753,
     "end_time": "2022-07-24T13:19:39.765165",
     "exception": false,
     "start_time": "2022-07-24T13:19:39.734412",
     "status": "completed"
    },
    "tags": []
   },
   "outputs": [],
   "source": [
    "batch_size = 32\n",
    "n_epochs = 1000\n",
    "#Select the device \n",
    "device = torch.device('cuda' if torch.cuda.is_available() else 'cpu')"
   ]
  },
  {
   "cell_type": "markdown",
   "id": "a95e1600",
   "metadata": {
    "id": "a95e1600",
    "papermill": {
     "duration": 0.013865,
     "end_time": "2022-07-24T13:19:39.796905",
     "exception": false,
     "start_time": "2022-07-24T13:19:39.783040",
     "status": "completed"
    },
    "tags": []
   },
   "source": [
    "# ABC Pre-generator Model \n",
    "\n",
    "1. The catboost model is used as a pre-generator model for the ABC-GAN. \n",
    "2. The model is first trained on the entire dataset \n",
    "3. It generats X,Y pairs and we add some Gaussian noise with mean 0 and variance 1 to it which is then feed as input to the generator.\n"
   ]
  },
  {
   "cell_type": "code",
   "execution_count": 9,
   "id": "ff8ce7bd",
   "metadata": {
    "execution": {
     "iopub.execute_input": "2022-07-24T13:19:39.818501Z",
     "iopub.status.busy": "2022-07-24T13:19:39.817723Z",
     "iopub.status.idle": "2022-07-24T13:19:40.580902Z",
     "shell.execute_reply": "2022-07-24T13:19:40.579592Z"
    },
    "id": "ff8ce7bd",
    "papermill": {
     "duration": 0.77564,
     "end_time": "2022-07-24T13:19:40.584010",
     "exception": false,
     "start_time": "2022-07-24T13:19:39.808370",
     "status": "completed"
    },
    "tags": []
   },
   "outputs": [
    {
     "name": "stdout",
     "output_type": "stream",
     "text": [
      "Learning rate set to 0.037906\n"
     ]
    },
    {
     "name": "stdout",
     "output_type": "stream",
     "text": [
      "0:\tlearn: 0.9699579\ttotal: 55ms\tremaining: 55s\n",
      "1:\tlearn: 0.9376578\ttotal: 57.3ms\tremaining: 28.6s\n",
      "2:\tlearn: 0.9060645\ttotal: 57.9ms\tremaining: 19.2s\n",
      "3:\tlearn: 0.8754937\ttotal: 58.3ms\tremaining: 14.5s\n",
      "4:\tlearn: 0.8503831\ttotal: 59.5ms\tremaining: 11.8s\n",
      "5:\tlearn: 0.8226671\ttotal: 60.3ms\tremaining: 9.98s\n",
      "6:\tlearn: 0.7998671\ttotal: 60.7ms\tremaining: 8.61s\n",
      "7:\tlearn: 0.7766987\ttotal: 61.2ms\tremaining: 7.58s\n",
      "8:\tlearn: 0.7507463\ttotal: 61.8ms\tremaining: 6.8s\n",
      "9:\tlearn: 0.7266499\ttotal: 62.3ms\tremaining: 6.17s\n",
      "10:\tlearn: 0.7049581\ttotal: 63ms\tremaining: 5.67s\n",
      "11:\tlearn: 0.6839661\ttotal: 63.6ms\tremaining: 5.23s\n",
      "12:\tlearn: 0.6639904\ttotal: 65.4ms\tremaining: 4.97s\n",
      "13:\tlearn: 0.6437553\ttotal: 66.1ms\tremaining: 4.65s\n",
      "14:\tlearn: 0.6238009\ttotal: 66.7ms\tremaining: 4.38s\n",
      "15:\tlearn: 0.6033950\ttotal: 67.1ms\tremaining: 4.13s\n",
      "16:\tlearn: 0.5844410\ttotal: 67.7ms\tremaining: 3.92s\n",
      "17:\tlearn: 0.5670461\ttotal: 68.3ms\tremaining: 3.72s\n",
      "18:\tlearn: 0.5509519\ttotal: 69.2ms\tremaining: 3.57s\n",
      "19:\tlearn: 0.5349124\ttotal: 69.7ms\tremaining: 3.42s\n",
      "20:\tlearn: 0.5189697\ttotal: 70.6ms\tremaining: 3.29s\n",
      "21:\tlearn: 0.5025476\ttotal: 71.4ms\tremaining: 3.17s\n",
      "22:\tlearn: 0.4866121\ttotal: 71.7ms\tremaining: 3.04s\n",
      "23:\tlearn: 0.4732194\ttotal: 72.5ms\tremaining: 2.95s\n",
      "24:\tlearn: 0.4584312\ttotal: 73.4ms\tremaining: 2.86s\n",
      "25:\tlearn: 0.4442759\ttotal: 74ms\tremaining: 2.77s\n",
      "26:\tlearn: 0.4327854\ttotal: 74.6ms\tremaining: 2.69s\n",
      "27:\tlearn: 0.4194585\ttotal: 75.1ms\tremaining: 2.61s\n",
      "28:\tlearn: 0.4083985\ttotal: 75.5ms\tremaining: 2.53s\n",
      "29:\tlearn: 0.3958785\ttotal: 76ms\tremaining: 2.46s\n",
      "30:\tlearn: 0.3874827\ttotal: 76.2ms\tremaining: 2.38s\n",
      "31:\tlearn: 0.3780984\ttotal: 76.7ms\tremaining: 2.32s\n",
      "32:\tlearn: 0.3666412\ttotal: 77.2ms\tremaining: 2.26s\n",
      "33:\tlearn: 0.3563019\ttotal: 77.5ms\tremaining: 2.2s\n",
      "34:\tlearn: 0.3468690\ttotal: 78ms\tremaining: 2.15s\n",
      "35:\tlearn: 0.3373379\ttotal: 78.3ms\tremaining: 2.1s\n",
      "36:\tlearn: 0.3286986\ttotal: 78.7ms\tremaining: 2.05s\n",
      "37:\tlearn: 0.3202987\ttotal: 79.3ms\tremaining: 2.01s\n",
      "38:\tlearn: 0.3119085\ttotal: 79.7ms\tremaining: 1.96s\n",
      "39:\tlearn: 0.3034845\ttotal: 80.3ms\tremaining: 1.93s\n",
      "40:\tlearn: 0.2956581\ttotal: 80.8ms\tremaining: 1.89s\n",
      "41:\tlearn: 0.2884812\ttotal: 81.3ms\tremaining: 1.85s\n",
      "42:\tlearn: 0.2801275\ttotal: 81.8ms\tremaining: 1.82s\n",
      "43:\tlearn: 0.2725039\ttotal: 82.3ms\tremaining: 1.79s\n",
      "44:\tlearn: 0.2655212\ttotal: 82.8ms\tremaining: 1.76s\n",
      "45:\tlearn: 0.2591169\ttotal: 83.2ms\tremaining: 1.73s\n",
      "46:\tlearn: 0.2535611\ttotal: 83.7ms\tremaining: 1.7s\n",
      "47:\tlearn: 0.2486196\ttotal: 84.1ms\tremaining: 1.67s\n",
      "48:\tlearn: 0.2421445\ttotal: 84.6ms\tremaining: 1.64s\n",
      "49:\tlearn: 0.2351047\ttotal: 85ms\tremaining: 1.61s\n",
      "50:\tlearn: 0.2284278\ttotal: 85.5ms\tremaining: 1.59s\n",
      "51:\tlearn: 0.2227709\ttotal: 85.9ms\tremaining: 1.56s\n",
      "52:\tlearn: 0.2186424\ttotal: 86.2ms\tremaining: 1.54s\n",
      "53:\tlearn: 0.2137259\ttotal: 86.7ms\tremaining: 1.52s\n",
      "54:\tlearn: 0.2076136\ttotal: 87.2ms\tremaining: 1.5s\n",
      "55:\tlearn: 0.2017961\ttotal: 87.6ms\tremaining: 1.48s\n",
      "56:\tlearn: 0.1961760\ttotal: 88ms\tremaining: 1.46s\n",
      "57:\tlearn: 0.1911771\ttotal: 88.5ms\tremaining: 1.44s\n",
      "58:\tlearn: 0.1860409\ttotal: 89ms\tremaining: 1.42s\n",
      "59:\tlearn: 0.1810061\ttotal: 89.6ms\tremaining: 1.4s\n",
      "60:\tlearn: 0.1762947\ttotal: 90.2ms\tremaining: 1.39s\n",
      "61:\tlearn: 0.1728855\ttotal: 90.6ms\tremaining: 1.37s\n",
      "62:\tlearn: 0.1681109\ttotal: 91.1ms\tremaining: 1.35s\n",
      "63:\tlearn: 0.1635563\ttotal: 91.6ms\tremaining: 1.34s\n",
      "64:\tlearn: 0.1605154\ttotal: 92.1ms\tremaining: 1.32s\n",
      "65:\tlearn: 0.1578346\ttotal: 92.6ms\tremaining: 1.31s\n",
      "66:\tlearn: 0.1545019\ttotal: 93.1ms\tremaining: 1.3s\n",
      "67:\tlearn: 0.1508008\ttotal: 93.6ms\tremaining: 1.28s\n",
      "68:\tlearn: 0.1477000\ttotal: 94.1ms\tremaining: 1.27s\n",
      "69:\tlearn: 0.1437367\ttotal: 94.5ms\tremaining: 1.25s\n",
      "70:\tlearn: 0.1404602\ttotal: 94.9ms\tremaining: 1.24s\n",
      "71:\tlearn: 0.1381578\ttotal: 95.2ms\tremaining: 1.23s\n",
      "72:\tlearn: 0.1360615\ttotal: 95.6ms\tremaining: 1.21s\n",
      "73:\tlearn: 0.1331300\ttotal: 96ms\tremaining: 1.2s\n",
      "74:\tlearn: 0.1300361\ttotal: 96.5ms\tremaining: 1.19s\n",
      "75:\tlearn: 0.1273708\ttotal: 97ms\tremaining: 1.18s\n",
      "76:\tlearn: 0.1247500\ttotal: 97.4ms\tremaining: 1.17s\n",
      "77:\tlearn: 0.1221346\ttotal: 98.1ms\tremaining: 1.16s\n",
      "78:\tlearn: 0.1192144\ttotal: 98.6ms\tremaining: 1.15s\n",
      "79:\tlearn: 0.1166147\ttotal: 99.1ms\tremaining: 1.14s\n",
      "80:\tlearn: 0.1138887\ttotal: 99.6ms\tremaining: 1.13s\n",
      "81:\tlearn: 0.1114431\ttotal: 100ms\tremaining: 1.12s\n",
      "82:\tlearn: 0.1096174\ttotal: 101ms\tremaining: 1.11s\n",
      "83:\tlearn: 0.1071363\ttotal: 101ms\tremaining: 1.1s\n",
      "84:\tlearn: 0.1049853\ttotal: 102ms\tremaining: 1.09s\n",
      "85:\tlearn: 0.1030026\ttotal: 102ms\tremaining: 1.08s\n",
      "86:\tlearn: 0.1011406\ttotal: 103ms\tremaining: 1.08s\n",
      "87:\tlearn: 0.0996192\ttotal: 103ms\tremaining: 1.07s\n",
      "88:\tlearn: 0.0980597\ttotal: 104ms\tremaining: 1.06s\n",
      "89:\tlearn: 0.0967497\ttotal: 104ms\tremaining: 1.05s\n",
      "90:\tlearn: 0.0944782\ttotal: 105ms\tremaining: 1.04s\n",
      "91:\tlearn: 0.0928151\ttotal: 105ms\tremaining: 1.04s\n",
      "92:\tlearn: 0.0913888\ttotal: 106ms\tremaining: 1.03s\n",
      "93:\tlearn: 0.0895151\ttotal: 106ms\tremaining: 1.02s\n",
      "94:\tlearn: 0.0877076\ttotal: 106ms\tremaining: 1.01s\n",
      "95:\tlearn: 0.0865787\ttotal: 107ms\tremaining: 1.01s\n",
      "96:\tlearn: 0.0847165\ttotal: 107ms\tremaining: 1s\n",
      "97:\tlearn: 0.0831134\ttotal: 108ms\tremaining: 993ms\n",
      "98:\tlearn: 0.0818170\ttotal: 108ms\tremaining: 987ms\n",
      "99:\tlearn: 0.0810620\ttotal: 109ms\tremaining: 980ms\n",
      "100:\tlearn: 0.0796072\ttotal: 109ms\tremaining: 973ms\n",
      "101:\tlearn: 0.0784349\ttotal: 110ms\tremaining: 970ms\n",
      "102:\tlearn: 0.0779821\ttotal: 110ms\tremaining: 962ms\n",
      "103:\tlearn: 0.0769142\ttotal: 111ms\tremaining: 956ms\n",
      "104:\tlearn: 0.0756226\ttotal: 112ms\tremaining: 950ms\n",
      "105:\tlearn: 0.0747382\ttotal: 112ms\tremaining: 945ms\n",
      "106:\tlearn: 0.0734303\ttotal: 113ms\tremaining: 939ms\n",
      "107:\tlearn: 0.0726974\ttotal: 113ms\tremaining: 932ms\n",
      "108:\tlearn: 0.0715717\ttotal: 113ms\tremaining: 927ms\n",
      "109:\tlearn: 0.0703096\ttotal: 115ms\tremaining: 927ms\n",
      "110:\tlearn: 0.0697619\ttotal: 115ms\tremaining: 921ms\n",
      "111:\tlearn: 0.0688129\ttotal: 115ms\tremaining: 915ms\n",
      "112:\tlearn: 0.0677936\ttotal: 116ms\tremaining: 910ms\n",
      "113:\tlearn: 0.0668910\ttotal: 116ms\tremaining: 904ms\n",
      "114:\tlearn: 0.0660727\ttotal: 117ms\tremaining: 897ms\n",
      "115:\tlearn: 0.0652003\ttotal: 117ms\tremaining: 891ms\n",
      "116:\tlearn: 0.0645537\ttotal: 117ms\tremaining: 884ms\n",
      "117:\tlearn: 0.0637502\ttotal: 117ms\tremaining: 878ms\n",
      "118:\tlearn: 0.0628607\ttotal: 118ms\tremaining: 873ms\n",
      "119:\tlearn: 0.0621392\ttotal: 118ms\tremaining: 867ms\n",
      "120:\tlearn: 0.0617857\ttotal: 118ms\tremaining: 861ms\n",
      "121:\tlearn: 0.0610647\ttotal: 119ms\tremaining: 857ms\n",
      "122:\tlearn: 0.0605737\ttotal: 120ms\tremaining: 854ms\n",
      "123:\tlearn: 0.0599534\ttotal: 120ms\tremaining: 848ms\n",
      "124:\tlearn: 0.0591859\ttotal: 120ms\tremaining: 843ms\n",
      "125:\tlearn: 0.0586759\ttotal: 121ms\tremaining: 837ms\n",
      "126:\tlearn: 0.0580276\ttotal: 121ms\tremaining: 833ms\n",
      "127:\tlearn: 0.0575385\ttotal: 121ms\tremaining: 827ms\n",
      "128:\tlearn: 0.0572551\ttotal: 122ms\tremaining: 822ms\n",
      "129:\tlearn: 0.0566671\ttotal: 122ms\tremaining: 817ms\n",
      "130:\tlearn: 0.0561697\ttotal: 123ms\tremaining: 813ms\n",
      "131:\tlearn: 0.0557198\ttotal: 123ms\tremaining: 808ms\n",
      "132:\tlearn: 0.0555542\ttotal: 123ms\tremaining: 802ms\n",
      "133:\tlearn: 0.0552088\ttotal: 123ms\tremaining: 796ms\n",
      "134:\tlearn: 0.0548398\ttotal: 124ms\tremaining: 791ms\n",
      "135:\tlearn: 0.0543241\ttotal: 124ms\tremaining: 787ms\n",
      "136:\tlearn: 0.0538722\ttotal: 124ms\tremaining: 783ms\n",
      "137:\tlearn: 0.0534248\ttotal: 125ms\tremaining: 778ms\n",
      "138:\tlearn: 0.0530433\ttotal: 125ms\tremaining: 773ms\n",
      "139:\tlearn: 0.0526727\ttotal: 125ms\tremaining: 768ms\n",
      "140:\tlearn: 0.0524156\ttotal: 126ms\tremaining: 765ms\n",
      "141:\tlearn: 0.0520294\ttotal: 126ms\tremaining: 760ms\n",
      "142:\tlearn: 0.0516639\ttotal: 126ms\tremaining: 756ms\n",
      "143:\tlearn: 0.0514053\ttotal: 127ms\tremaining: 752ms\n",
      "144:\tlearn: 0.0511338\ttotal: 127ms\tremaining: 749ms\n",
      "145:\tlearn: 0.0509366\ttotal: 127ms\tremaining: 745ms\n",
      "146:\tlearn: 0.0506519\ttotal: 128ms\tremaining: 741ms\n",
      "147:\tlearn: 0.0503435\ttotal: 128ms\tremaining: 736ms\n",
      "148:\tlearn: 0.0500273\ttotal: 128ms\tremaining: 733ms\n",
      "149:\tlearn: 0.0498244\ttotal: 129ms\tremaining: 729ms\n",
      "150:\tlearn: 0.0496269\ttotal: 129ms\tremaining: 725ms\n",
      "151:\tlearn: 0.0493669\ttotal: 129ms\tremaining: 721ms\n",
      "152:\tlearn: 0.0491279\ttotal: 130ms\tremaining: 719ms\n",
      "153:\tlearn: 0.0488963\ttotal: 130ms\tremaining: 715ms\n",
      "154:\tlearn: 0.0485644\ttotal: 131ms\tremaining: 715ms\n",
      "155:\tlearn: 0.0482934\ttotal: 131ms\tremaining: 711ms\n",
      "156:\tlearn: 0.0480536\ttotal: 132ms\tremaining: 707ms\n",
      "157:\tlearn: 0.0478179\ttotal: 132ms\tremaining: 703ms\n",
      "158:\tlearn: 0.0476604\ttotal: 132ms\tremaining: 699ms\n",
      "159:\tlearn: 0.0474491\ttotal: 133ms\tremaining: 696ms\n"
     ]
    },
    {
     "name": "stdout",
     "output_type": "stream",
     "text": [
      "160:\tlearn: 0.0472936\ttotal: 133ms\tremaining: 692ms\n",
      "161:\tlearn: 0.0470394\ttotal: 133ms\tremaining: 689ms\n",
      "162:\tlearn: 0.0468424\ttotal: 133ms\tremaining: 685ms\n",
      "163:\tlearn: 0.0466755\ttotal: 137ms\tremaining: 696ms\n",
      "164:\tlearn: 0.0465288\ttotal: 137ms\tremaining: 694ms\n",
      "165:\tlearn: 0.0463581\ttotal: 137ms\tremaining: 690ms\n",
      "166:\tlearn: 0.0462310\ttotal: 138ms\tremaining: 686ms\n",
      "167:\tlearn: 0.0460343\ttotal: 138ms\tremaining: 683ms\n",
      "168:\tlearn: 0.0458019\ttotal: 138ms\tremaining: 680ms\n",
      "169:\tlearn: 0.0456099\ttotal: 139ms\tremaining: 677ms\n",
      "170:\tlearn: 0.0454852\ttotal: 139ms\tremaining: 673ms\n",
      "171:\tlearn: 0.0453656\ttotal: 139ms\tremaining: 670ms\n",
      "172:\tlearn: 0.0452343\ttotal: 140ms\tremaining: 668ms\n",
      "173:\tlearn: 0.0451078\ttotal: 140ms\tremaining: 664ms\n",
      "174:\tlearn: 0.0449783\ttotal: 140ms\tremaining: 661ms\n",
      "175:\tlearn: 0.0448790\ttotal: 140ms\tremaining: 658ms\n",
      "176:\tlearn: 0.0447237\ttotal: 141ms\tremaining: 656ms\n",
      "177:\tlearn: 0.0445969\ttotal: 142ms\tremaining: 654ms\n",
      "178:\tlearn: 0.0444986\ttotal: 142ms\tremaining: 650ms\n",
      "179:\tlearn: 0.0443250\ttotal: 142ms\tremaining: 647ms\n",
      "180:\tlearn: 0.0439944\ttotal: 142ms\tremaining: 644ms\n",
      "181:\tlearn: 0.0438468\ttotal: 143ms\tremaining: 644ms\n",
      "182:\tlearn: 0.0436742\ttotal: 144ms\tremaining: 642ms\n",
      "183:\tlearn: 0.0435044\ttotal: 144ms\tremaining: 639ms\n",
      "184:\tlearn: 0.0433982\ttotal: 144ms\tremaining: 636ms\n",
      "185:\tlearn: 0.0433031\ttotal: 145ms\tremaining: 633ms\n",
      "186:\tlearn: 0.0431490\ttotal: 145ms\tremaining: 632ms\n",
      "187:\tlearn: 0.0430469\ttotal: 146ms\tremaining: 630ms\n",
      "188:\tlearn: 0.0429451\ttotal: 147ms\tremaining: 630ms\n",
      "189:\tlearn: 0.0427870\ttotal: 147ms\tremaining: 627ms\n",
      "190:\tlearn: 0.0426684\ttotal: 147ms\tremaining: 625ms\n",
      "191:\tlearn: 0.0425451\ttotal: 148ms\tremaining: 623ms\n",
      "192:\tlearn: 0.0424765\ttotal: 148ms\tremaining: 620ms\n",
      "193:\tlearn: 0.0423582\ttotal: 149ms\tremaining: 618ms\n",
      "194:\tlearn: 0.0422079\ttotal: 149ms\tremaining: 616ms\n",
      "195:\tlearn: 0.0421080\ttotal: 150ms\tremaining: 614ms\n",
      "196:\tlearn: 0.0420005\ttotal: 150ms\tremaining: 612ms\n",
      "197:\tlearn: 0.0418111\ttotal: 151ms\tremaining: 610ms\n",
      "198:\tlearn: 0.0417440\ttotal: 151ms\tremaining: 608ms\n",
      "199:\tlearn: 0.0415587\ttotal: 152ms\tremaining: 606ms\n",
      "200:\tlearn: 0.0413984\ttotal: 152ms\tremaining: 605ms\n",
      "201:\tlearn: 0.0412109\ttotal: 153ms\tremaining: 603ms\n",
      "202:\tlearn: 0.0410753\ttotal: 153ms\tremaining: 601ms\n",
      "203:\tlearn: 0.0409413\ttotal: 154ms\tremaining: 600ms\n",
      "204:\tlearn: 0.0406810\ttotal: 154ms\tremaining: 597ms\n",
      "205:\tlearn: 0.0404383\ttotal: 155ms\tremaining: 596ms\n",
      "206:\tlearn: 0.0403409\ttotal: 155ms\tremaining: 594ms\n",
      "207:\tlearn: 0.0402667\ttotal: 156ms\tremaining: 592ms\n",
      "208:\tlearn: 0.0401869\ttotal: 156ms\tremaining: 590ms\n",
      "209:\tlearn: 0.0399693\ttotal: 156ms\tremaining: 587ms\n",
      "210:\tlearn: 0.0398071\ttotal: 156ms\tremaining: 585ms\n",
      "211:\tlearn: 0.0396935\ttotal: 157ms\tremaining: 582ms\n",
      "212:\tlearn: 0.0395693\ttotal: 157ms\tremaining: 580ms\n",
      "213:\tlearn: 0.0394882\ttotal: 157ms\tremaining: 578ms\n",
      "214:\tlearn: 0.0393771\ttotal: 158ms\tremaining: 579ms\n",
      "215:\tlearn: 0.0391469\ttotal: 159ms\tremaining: 576ms\n",
      "216:\tlearn: 0.0390411\ttotal: 159ms\tremaining: 575ms\n",
      "217:\tlearn: 0.0389595\ttotal: 160ms\tremaining: 573ms\n",
      "218:\tlearn: 0.0388830\ttotal: 160ms\tremaining: 570ms\n",
      "219:\tlearn: 0.0388332\ttotal: 160ms\tremaining: 568ms\n",
      "220:\tlearn: 0.0387628\ttotal: 161ms\tremaining: 566ms\n",
      "221:\tlearn: 0.0386876\ttotal: 161ms\tremaining: 564ms\n",
      "222:\tlearn: 0.0385587\ttotal: 161ms\tremaining: 562ms\n",
      "223:\tlearn: 0.0384259\ttotal: 161ms\tremaining: 559ms\n",
      "224:\tlearn: 0.0383169\ttotal: 162ms\tremaining: 558ms\n",
      "225:\tlearn: 0.0382193\ttotal: 162ms\tremaining: 556ms\n",
      "226:\tlearn: 0.0381652\ttotal: 163ms\tremaining: 555ms\n",
      "227:\tlearn: 0.0381058\ttotal: 163ms\tremaining: 553ms\n",
      "228:\tlearn: 0.0380203\ttotal: 164ms\tremaining: 551ms\n",
      "229:\tlearn: 0.0378661\ttotal: 164ms\tremaining: 548ms\n",
      "230:\tlearn: 0.0378027\ttotal: 164ms\tremaining: 546ms\n",
      "231:\tlearn: 0.0376206\ttotal: 164ms\tremaining: 544ms\n",
      "232:\tlearn: 0.0374968\ttotal: 165ms\tremaining: 542ms\n",
      "233:\tlearn: 0.0373615\ttotal: 165ms\tremaining: 540ms\n",
      "234:\tlearn: 0.0373057\ttotal: 165ms\tremaining: 538ms\n",
      "235:\tlearn: 0.0372544\ttotal: 166ms\tremaining: 536ms\n",
      "236:\tlearn: 0.0371961\ttotal: 166ms\tremaining: 534ms\n",
      "237:\tlearn: 0.0370934\ttotal: 166ms\tremaining: 532ms\n",
      "238:\tlearn: 0.0369437\ttotal: 167ms\tremaining: 533ms\n",
      "239:\tlearn: 0.0368027\ttotal: 168ms\tremaining: 531ms\n",
      "240:\tlearn: 0.0366502\ttotal: 168ms\tremaining: 530ms\n",
      "241:\tlearn: 0.0365958\ttotal: 169ms\tremaining: 528ms\n",
      "242:\tlearn: 0.0364889\ttotal: 169ms\tremaining: 526ms\n",
      "243:\tlearn: 0.0363888\ttotal: 169ms\tremaining: 524ms\n",
      "244:\tlearn: 0.0362689\ttotal: 170ms\tremaining: 523ms\n",
      "245:\tlearn: 0.0362205\ttotal: 170ms\tremaining: 522ms\n",
      "246:\tlearn: 0.0361369\ttotal: 171ms\tremaining: 520ms\n",
      "247:\tlearn: 0.0359955\ttotal: 171ms\tremaining: 519ms\n",
      "248:\tlearn: 0.0358350\ttotal: 171ms\tremaining: 517ms\n",
      "249:\tlearn: 0.0357880\ttotal: 172ms\tremaining: 515ms\n",
      "250:\tlearn: 0.0356672\ttotal: 172ms\tremaining: 513ms\n",
      "251:\tlearn: 0.0355618\ttotal: 173ms\tremaining: 512ms\n",
      "252:\tlearn: 0.0354979\ttotal: 173ms\tremaining: 510ms\n",
      "253:\tlearn: 0.0354239\ttotal: 173ms\tremaining: 508ms\n",
      "254:\tlearn: 0.0352718\ttotal: 173ms\tremaining: 506ms\n",
      "255:\tlearn: 0.0351640\ttotal: 174ms\tremaining: 505ms\n",
      "256:\tlearn: 0.0350877\ttotal: 174ms\tremaining: 504ms\n",
      "257:\tlearn: 0.0349835\ttotal: 175ms\tremaining: 502ms\n",
      "258:\tlearn: 0.0349375\ttotal: 175ms\tremaining: 501ms\n",
      "259:\tlearn: 0.0348393\ttotal: 175ms\tremaining: 499ms\n",
      "260:\tlearn: 0.0347482\ttotal: 176ms\tremaining: 498ms\n",
      "261:\tlearn: 0.0346277\ttotal: 176ms\tremaining: 496ms\n",
      "262:\tlearn: 0.0345382\ttotal: 177ms\tremaining: 495ms\n",
      "263:\tlearn: 0.0344096\ttotal: 177ms\tremaining: 493ms\n",
      "264:\tlearn: 0.0343663\ttotal: 177ms\tremaining: 491ms\n",
      "265:\tlearn: 0.0342841\ttotal: 177ms\tremaining: 489ms\n",
      "266:\tlearn: 0.0341642\ttotal: 178ms\tremaining: 488ms\n",
      "267:\tlearn: 0.0340457\ttotal: 178ms\tremaining: 487ms\n",
      "268:\tlearn: 0.0340064\ttotal: 178ms\tremaining: 485ms\n",
      "269:\tlearn: 0.0339419\ttotal: 179ms\tremaining: 483ms\n"
     ]
    },
    {
     "name": "stdout",
     "output_type": "stream",
     "text": [
      "270:\tlearn: 0.0337913\ttotal: 179ms\tremaining: 482ms\n",
      "271:\tlearn: 0.0337387\ttotal: 179ms\tremaining: 480ms\n",
      "272:\tlearn: 0.0336551\ttotal: 180ms\tremaining: 478ms\n",
      "273:\tlearn: 0.0335025\ttotal: 180ms\tremaining: 477ms\n",
      "274:\tlearn: 0.0334002\ttotal: 182ms\tremaining: 481ms\n",
      "275:\tlearn: 0.0333321\ttotal: 183ms\tremaining: 480ms\n",
      "276:\tlearn: 0.0332079\ttotal: 183ms\tremaining: 478ms\n",
      "277:\tlearn: 0.0331424\ttotal: 184ms\tremaining: 477ms\n",
      "278:\tlearn: 0.0330363\ttotal: 184ms\tremaining: 475ms\n",
      "279:\tlearn: 0.0330009\ttotal: 184ms\tremaining: 474ms\n",
      "280:\tlearn: 0.0329559\ttotal: 185ms\tremaining: 473ms\n",
      "281:\tlearn: 0.0328788\ttotal: 185ms\tremaining: 472ms\n",
      "282:\tlearn: 0.0327540\ttotal: 186ms\tremaining: 471ms\n",
      "283:\tlearn: 0.0326635\ttotal: 186ms\tremaining: 469ms\n",
      "284:\tlearn: 0.0325584\ttotal: 186ms\tremaining: 467ms\n",
      "285:\tlearn: 0.0324878\ttotal: 187ms\tremaining: 466ms\n",
      "286:\tlearn: 0.0324016\ttotal: 187ms\tremaining: 465ms\n",
      "287:\tlearn: 0.0323199\ttotal: 187ms\tremaining: 463ms\n",
      "288:\tlearn: 0.0321663\ttotal: 188ms\tremaining: 461ms\n",
      "289:\tlearn: 0.0321035\ttotal: 188ms\tremaining: 460ms\n",
      "290:\tlearn: 0.0320150\ttotal: 188ms\tremaining: 459ms\n",
      "291:\tlearn: 0.0319498\ttotal: 189ms\tremaining: 458ms\n",
      "292:\tlearn: 0.0319022\ttotal: 189ms\tremaining: 456ms\n",
      "293:\tlearn: 0.0317894\ttotal: 189ms\tremaining: 455ms\n",
      "294:\tlearn: 0.0317209\ttotal: 190ms\tremaining: 453ms\n",
      "295:\tlearn: 0.0316558\ttotal: 190ms\tremaining: 452ms\n",
      "296:\tlearn: 0.0315914\ttotal: 190ms\tremaining: 450ms\n",
      "297:\tlearn: 0.0314931\ttotal: 190ms\tremaining: 449ms\n",
      "298:\tlearn: 0.0314172\ttotal: 191ms\tremaining: 448ms\n",
      "299:\tlearn: 0.0313501\ttotal: 191ms\tremaining: 447ms\n",
      "300:\tlearn: 0.0312874\ttotal: 192ms\tremaining: 445ms\n",
      "301:\tlearn: 0.0312268\ttotal: 193ms\tremaining: 445ms\n",
      "302:\tlearn: 0.0311487\ttotal: 193ms\tremaining: 444ms\n",
      "303:\tlearn: 0.0310907\ttotal: 193ms\tremaining: 443ms\n",
      "304:\tlearn: 0.0310400\ttotal: 194ms\tremaining: 442ms\n",
      "305:\tlearn: 0.0309856\ttotal: 194ms\tremaining: 441ms\n",
      "306:\tlearn: 0.0309231\ttotal: 195ms\tremaining: 439ms\n",
      "307:\tlearn: 0.0308353\ttotal: 195ms\tremaining: 438ms\n",
      "308:\tlearn: 0.0307650\ttotal: 195ms\tremaining: 437ms\n",
      "309:\tlearn: 0.0307293\ttotal: 196ms\tremaining: 436ms\n",
      "310:\tlearn: 0.0306703\ttotal: 196ms\tremaining: 435ms\n",
      "311:\tlearn: 0.0306232\ttotal: 197ms\tremaining: 434ms\n",
      "312:\tlearn: 0.0305675\ttotal: 197ms\tremaining: 432ms\n",
      "313:\tlearn: 0.0305037\ttotal: 197ms\tremaining: 431ms\n",
      "314:\tlearn: 0.0304374\ttotal: 197ms\tremaining: 429ms\n",
      "315:\tlearn: 0.0303887\ttotal: 198ms\tremaining: 428ms\n",
      "316:\tlearn: 0.0303025\ttotal: 198ms\tremaining: 427ms\n",
      "317:\tlearn: 0.0302727\ttotal: 198ms\tremaining: 426ms\n",
      "318:\tlearn: 0.0302222\ttotal: 199ms\tremaining: 424ms\n",
      "319:\tlearn: 0.0301762\ttotal: 199ms\tremaining: 423ms\n",
      "320:\tlearn: 0.0301107\ttotal: 200ms\tremaining: 422ms\n",
      "321:\tlearn: 0.0300380\ttotal: 200ms\tremaining: 421ms\n",
      "322:\tlearn: 0.0299681\ttotal: 200ms\tremaining: 419ms\n",
      "323:\tlearn: 0.0299100\ttotal: 200ms\tremaining: 418ms\n",
      "324:\tlearn: 0.0298648\ttotal: 201ms\tremaining: 417ms\n",
      "325:\tlearn: 0.0298129\ttotal: 201ms\tremaining: 416ms\n",
      "326:\tlearn: 0.0297320\ttotal: 201ms\tremaining: 414ms\n",
      "327:\tlearn: 0.0296727\ttotal: 202ms\tremaining: 413ms\n",
      "328:\tlearn: 0.0296233\ttotal: 202ms\tremaining: 412ms\n",
      "329:\tlearn: 0.0295936\ttotal: 202ms\tremaining: 411ms\n",
      "330:\tlearn: 0.0295284\ttotal: 203ms\tremaining: 410ms\n",
      "331:\tlearn: 0.0294812\ttotal: 203ms\tremaining: 409ms\n",
      "332:\tlearn: 0.0294377\ttotal: 204ms\tremaining: 408ms\n",
      "333:\tlearn: 0.0293927\ttotal: 204ms\tremaining: 407ms\n",
      "334:\tlearn: 0.0293463\ttotal: 204ms\tremaining: 406ms\n",
      "335:\tlearn: 0.0292541\ttotal: 205ms\tremaining: 404ms\n",
      "336:\tlearn: 0.0292071\ttotal: 205ms\tremaining: 403ms\n",
      "337:\tlearn: 0.0291796\ttotal: 205ms\tremaining: 402ms\n",
      "338:\tlearn: 0.0291041\ttotal: 208ms\tremaining: 405ms\n",
      "339:\tlearn: 0.0290783\ttotal: 208ms\tremaining: 404ms\n",
      "340:\tlearn: 0.0290204\ttotal: 209ms\tremaining: 404ms\n",
      "341:\tlearn: 0.0289790\ttotal: 209ms\tremaining: 403ms\n",
      "342:\tlearn: 0.0289208\ttotal: 210ms\tremaining: 403ms\n",
      "343:\tlearn: 0.0288655\ttotal: 211ms\tremaining: 402ms\n",
      "344:\tlearn: 0.0288164\ttotal: 211ms\tremaining: 401ms\n",
      "345:\tlearn: 0.0287639\ttotal: 212ms\tremaining: 401ms\n",
      "346:\tlearn: 0.0287088\ttotal: 213ms\tremaining: 400ms\n",
      "347:\tlearn: 0.0286451\ttotal: 213ms\tremaining: 399ms\n",
      "348:\tlearn: 0.0285989\ttotal: 213ms\tremaining: 398ms\n",
      "349:\tlearn: 0.0285402\ttotal: 214ms\tremaining: 397ms\n",
      "350:\tlearn: 0.0285004\ttotal: 214ms\tremaining: 396ms\n",
      "351:\tlearn: 0.0284632\ttotal: 215ms\tremaining: 395ms\n",
      "352:\tlearn: 0.0283689\ttotal: 215ms\tremaining: 394ms\n",
      "353:\tlearn: 0.0283274\ttotal: 216ms\tremaining: 393ms\n",
      "354:\tlearn: 0.0282713\ttotal: 217ms\tremaining: 394ms\n",
      "355:\tlearn: 0.0282360\ttotal: 217ms\tremaining: 393ms\n",
      "356:\tlearn: 0.0282011\ttotal: 217ms\tremaining: 392ms\n",
      "357:\tlearn: 0.0281592\ttotal: 218ms\tremaining: 390ms\n",
      "358:\tlearn: 0.0281056\ttotal: 218ms\tremaining: 389ms\n",
      "359:\tlearn: 0.0280659\ttotal: 218ms\tremaining: 388ms\n",
      "360:\tlearn: 0.0280319\ttotal: 219ms\tremaining: 387ms\n",
      "361:\tlearn: 0.0279809\ttotal: 219ms\tremaining: 386ms\n",
      "362:\tlearn: 0.0279435\ttotal: 219ms\tremaining: 385ms\n",
      "363:\tlearn: 0.0279220\ttotal: 220ms\tremaining: 384ms\n",
      "364:\tlearn: 0.0278294\ttotal: 220ms\tremaining: 383ms\n",
      "365:\tlearn: 0.0277205\ttotal: 220ms\tremaining: 382ms\n",
      "366:\tlearn: 0.0276327\ttotal: 221ms\tremaining: 381ms\n",
      "367:\tlearn: 0.0275843\ttotal: 221ms\tremaining: 380ms\n",
      "368:\tlearn: 0.0275378\ttotal: 221ms\tremaining: 379ms\n",
      "369:\tlearn: 0.0274753\ttotal: 222ms\tremaining: 377ms\n",
      "370:\tlearn: 0.0274430\ttotal: 222ms\tremaining: 376ms\n",
      "371:\tlearn: 0.0274204\ttotal: 222ms\tremaining: 375ms\n",
      "372:\tlearn: 0.0273338\ttotal: 223ms\tremaining: 374ms\n",
      "373:\tlearn: 0.0272980\ttotal: 223ms\tremaining: 373ms\n",
      "374:\tlearn: 0.0272752\ttotal: 223ms\tremaining: 372ms\n",
      "375:\tlearn: 0.0272519\ttotal: 224ms\tremaining: 371ms\n",
      "376:\tlearn: 0.0272176\ttotal: 225ms\tremaining: 372ms\n",
      "377:\tlearn: 0.0271355\ttotal: 226ms\tremaining: 372ms\n",
      "378:\tlearn: 0.0270929\ttotal: 227ms\tremaining: 372ms\n",
      "379:\tlearn: 0.0270450\ttotal: 227ms\tremaining: 371ms\n",
      "380:\tlearn: 0.0270110\ttotal: 228ms\tremaining: 370ms\n",
      "381:\tlearn: 0.0269811\ttotal: 228ms\tremaining: 369ms\n",
      "382:\tlearn: 0.0269348\ttotal: 229ms\tremaining: 368ms\n",
      "383:\tlearn: 0.0268897\ttotal: 229ms\tremaining: 368ms\n",
      "384:\tlearn: 0.0268410\ttotal: 230ms\tremaining: 368ms\n",
      "385:\tlearn: 0.0268098\ttotal: 232ms\tremaining: 368ms\n",
      "386:\tlearn: 0.0267738\ttotal: 238ms\tremaining: 377ms\n",
      "387:\tlearn: 0.0267564\ttotal: 239ms\tremaining: 377ms\n",
      "388:\tlearn: 0.0267072\ttotal: 239ms\tremaining: 376ms\n",
      "389:\tlearn: 0.0266762\ttotal: 239ms\tremaining: 374ms\n",
      "390:\tlearn: 0.0266210\ttotal: 240ms\tremaining: 373ms\n",
      "391:\tlearn: 0.0265515\ttotal: 240ms\tremaining: 372ms\n",
      "392:\tlearn: 0.0264975\ttotal: 240ms\tremaining: 371ms\n",
      "393:\tlearn: 0.0264452\ttotal: 241ms\tremaining: 370ms\n",
      "394:\tlearn: 0.0264145\ttotal: 241ms\tremaining: 369ms\n",
      "395:\tlearn: 0.0263698\ttotal: 242ms\tremaining: 369ms\n",
      "396:\tlearn: 0.0262705\ttotal: 243ms\tremaining: 368ms\n",
      "397:\tlearn: 0.0262443\ttotal: 243ms\tremaining: 368ms\n",
      "398:\tlearn: 0.0262154\ttotal: 243ms\tremaining: 367ms\n",
      "399:\tlearn: 0.0261732\ttotal: 244ms\tremaining: 366ms\n",
      "400:\tlearn: 0.0261393\ttotal: 244ms\tremaining: 365ms\n",
      "401:\tlearn: 0.0260982\ttotal: 244ms\tremaining: 363ms\n",
      "402:\tlearn: 0.0260758\ttotal: 245ms\tremaining: 362ms\n",
      "403:\tlearn: 0.0260361\ttotal: 245ms\tremaining: 361ms\n",
      "404:\tlearn: 0.0259463\ttotal: 245ms\tremaining: 360ms\n",
      "405:\tlearn: 0.0259104\ttotal: 246ms\tremaining: 360ms\n",
      "406:\tlearn: 0.0258717\ttotal: 246ms\tremaining: 359ms\n",
      "407:\tlearn: 0.0258434\ttotal: 247ms\tremaining: 358ms\n",
      "408:\tlearn: 0.0258133\ttotal: 247ms\tremaining: 357ms\n",
      "409:\tlearn: 0.0257879\ttotal: 247ms\tremaining: 356ms\n",
      "410:\tlearn: 0.0257472\ttotal: 248ms\tremaining: 355ms\n",
      "411:\tlearn: 0.0257301\ttotal: 248ms\tremaining: 354ms\n",
      "412:\tlearn: 0.0257097\ttotal: 248ms\tremaining: 353ms\n",
      "413:\tlearn: 0.0256757\ttotal: 249ms\tremaining: 352ms\n",
      "414:\tlearn: 0.0255914\ttotal: 249ms\tremaining: 351ms\n",
      "415:\tlearn: 0.0255675\ttotal: 249ms\tremaining: 350ms\n",
      "416:\tlearn: 0.0255158\ttotal: 249ms\tremaining: 349ms\n",
      "417:\tlearn: 0.0254629\ttotal: 250ms\tremaining: 348ms\n",
      "418:\tlearn: 0.0254470\ttotal: 251ms\tremaining: 347ms\n",
      "419:\tlearn: 0.0254175\ttotal: 251ms\tremaining: 346ms\n",
      "420:\tlearn: 0.0253761\ttotal: 251ms\tremaining: 345ms\n",
      "421:\tlearn: 0.0253388\ttotal: 252ms\tremaining: 345ms\n",
      "422:\tlearn: 0.0253139\ttotal: 252ms\tremaining: 344ms\n",
      "423:\tlearn: 0.0252255\ttotal: 253ms\tremaining: 343ms\n",
      "424:\tlearn: 0.0251971\ttotal: 253ms\tremaining: 342ms\n",
      "425:\tlearn: 0.0251508\ttotal: 253ms\tremaining: 341ms\n",
      "426:\tlearn: 0.0250802\ttotal: 253ms\tremaining: 340ms\n",
      "427:\tlearn: 0.0250322\ttotal: 254ms\tremaining: 339ms\n",
      "428:\tlearn: 0.0250151\ttotal: 254ms\tremaining: 338ms\n",
      "429:\tlearn: 0.0249813\ttotal: 254ms\tremaining: 337ms\n",
      "430:\tlearn: 0.0249557\ttotal: 255ms\tremaining: 336ms\n",
      "431:\tlearn: 0.0249346\ttotal: 255ms\tremaining: 335ms\n",
      "432:\tlearn: 0.0248974\ttotal: 255ms\tremaining: 334ms\n",
      "433:\tlearn: 0.0248753\ttotal: 256ms\tremaining: 334ms\n",
      "434:\tlearn: 0.0248403\ttotal: 256ms\tremaining: 333ms\n",
      "435:\tlearn: 0.0248251\ttotal: 257ms\tremaining: 333ms\n",
      "436:\tlearn: 0.0247871\ttotal: 257ms\tremaining: 332ms\n",
      "437:\tlearn: 0.0247064\ttotal: 258ms\tremaining: 331ms\n",
      "438:\tlearn: 0.0246718\ttotal: 258ms\tremaining: 330ms\n",
      "439:\tlearn: 0.0246467\ttotal: 258ms\tremaining: 329ms\n",
      "440:\tlearn: 0.0246182\ttotal: 259ms\tremaining: 328ms\n",
      "441:\tlearn: 0.0245859\ttotal: 259ms\tremaining: 327ms\n"
     ]
    },
    {
     "name": "stdout",
     "output_type": "stream",
     "text": [
      "442:\tlearn: 0.0245455\ttotal: 259ms\tremaining: 326ms\n",
      "443:\tlearn: 0.0245036\ttotal: 260ms\tremaining: 325ms\n",
      "444:\tlearn: 0.0244646\ttotal: 260ms\tremaining: 324ms\n",
      "445:\tlearn: 0.0244439\ttotal: 260ms\tremaining: 323ms\n",
      "446:\tlearn: 0.0244108\ttotal: 262ms\tremaining: 324ms\n",
      "447:\tlearn: 0.0243902\ttotal: 262ms\tremaining: 323ms\n",
      "448:\tlearn: 0.0243679\ttotal: 262ms\tremaining: 322ms\n",
      "449:\tlearn: 0.0243347\ttotal: 263ms\tremaining: 321ms\n",
      "450:\tlearn: 0.0243143\ttotal: 263ms\tremaining: 320ms\n",
      "451:\tlearn: 0.0242941\ttotal: 264ms\tremaining: 320ms\n",
      "452:\tlearn: 0.0242695\ttotal: 264ms\tremaining: 319ms\n",
      "453:\tlearn: 0.0242196\ttotal: 265ms\tremaining: 318ms\n",
      "454:\tlearn: 0.0241438\ttotal: 265ms\tremaining: 317ms\n",
      "455:\tlearn: 0.0241041\ttotal: 265ms\tremaining: 316ms\n",
      "456:\tlearn: 0.0240793\ttotal: 265ms\tremaining: 315ms\n",
      "457:\tlearn: 0.0240413\ttotal: 266ms\tremaining: 315ms\n",
      "458:\tlearn: 0.0239749\ttotal: 266ms\tremaining: 314ms\n",
      "459:\tlearn: 0.0239575\ttotal: 266ms\tremaining: 313ms\n",
      "460:\tlearn: 0.0239143\ttotal: 267ms\tremaining: 312ms\n",
      "461:\tlearn: 0.0238937\ttotal: 267ms\tremaining: 311ms\n",
      "462:\tlearn: 0.0238640\ttotal: 267ms\tremaining: 310ms\n",
      "463:\tlearn: 0.0238496\ttotal: 268ms\tremaining: 309ms\n",
      "464:\tlearn: 0.0238213\ttotal: 269ms\tremaining: 309ms\n",
      "465:\tlearn: 0.0237982\ttotal: 270ms\tremaining: 309ms\n",
      "466:\tlearn: 0.0237761\ttotal: 270ms\tremaining: 308ms\n",
      "467:\tlearn: 0.0237511\ttotal: 270ms\tremaining: 307ms\n",
      "468:\tlearn: 0.0237325\ttotal: 271ms\tremaining: 307ms\n",
      "469:\tlearn: 0.0236832\ttotal: 271ms\tremaining: 306ms\n",
      "470:\tlearn: 0.0236626\ttotal: 271ms\tremaining: 305ms\n",
      "471:\tlearn: 0.0236426\ttotal: 272ms\tremaining: 304ms\n",
      "472:\tlearn: 0.0236033\ttotal: 272ms\tremaining: 303ms\n",
      "473:\tlearn: 0.0235870\ttotal: 272ms\tremaining: 302ms\n",
      "474:\tlearn: 0.0235460\ttotal: 273ms\tremaining: 302ms\n",
      "475:\tlearn: 0.0234835\ttotal: 273ms\tremaining: 301ms\n",
      "476:\tlearn: 0.0234058\ttotal: 274ms\tremaining: 300ms\n",
      "477:\tlearn: 0.0233663\ttotal: 274ms\tremaining: 299ms\n",
      "478:\tlearn: 0.0233557\ttotal: 274ms\tremaining: 298ms\n",
      "479:\tlearn: 0.0233378\ttotal: 275ms\tremaining: 297ms\n",
      "480:\tlearn: 0.0232820\ttotal: 275ms\tremaining: 297ms\n",
      "481:\tlearn: 0.0232519\ttotal: 275ms\tremaining: 296ms\n",
      "482:\tlearn: 0.0232271\ttotal: 275ms\tremaining: 295ms\n",
      "483:\tlearn: 0.0231909\ttotal: 276ms\tremaining: 294ms\n",
      "484:\tlearn: 0.0231699\ttotal: 276ms\tremaining: 293ms\n",
      "485:\tlearn: 0.0231496\ttotal: 276ms\tremaining: 292ms\n",
      "486:\tlearn: 0.0231331\ttotal: 277ms\tremaining: 291ms\n",
      "487:\tlearn: 0.0231015\ttotal: 277ms\tremaining: 291ms\n",
      "488:\tlearn: 0.0230813\ttotal: 277ms\tremaining: 290ms\n",
      "489:\tlearn: 0.0230632\ttotal: 278ms\tremaining: 289ms\n",
      "490:\tlearn: 0.0230350\ttotal: 278ms\tremaining: 288ms\n",
      "491:\tlearn: 0.0230002\ttotal: 278ms\tremaining: 287ms\n",
      "492:\tlearn: 0.0229671\ttotal: 278ms\tremaining: 286ms\n",
      "493:\tlearn: 0.0229403\ttotal: 279ms\tremaining: 285ms\n",
      "494:\tlearn: 0.0228921\ttotal: 280ms\tremaining: 286ms\n",
      "495:\tlearn: 0.0228536\ttotal: 280ms\tremaining: 285ms\n",
      "496:\tlearn: 0.0228356\ttotal: 281ms\tremaining: 284ms\n",
      "497:\tlearn: 0.0227667\ttotal: 281ms\tremaining: 283ms\n",
      "498:\tlearn: 0.0226995\ttotal: 281ms\tremaining: 282ms\n",
      "499:\tlearn: 0.0226661\ttotal: 282ms\tremaining: 282ms\n",
      "500:\tlearn: 0.0226498\ttotal: 282ms\tremaining: 281ms\n",
      "501:\tlearn: 0.0226313\ttotal: 282ms\tremaining: 280ms\n",
      "502:\tlearn: 0.0226046\ttotal: 283ms\tremaining: 279ms\n",
      "503:\tlearn: 0.0225867\ttotal: 284ms\tremaining: 279ms\n",
      "504:\tlearn: 0.0225543\ttotal: 284ms\tremaining: 278ms\n",
      "505:\tlearn: 0.0225391\ttotal: 284ms\tremaining: 278ms\n",
      "506:\tlearn: 0.0225063\ttotal: 285ms\tremaining: 277ms\n",
      "507:\tlearn: 0.0224897\ttotal: 285ms\tremaining: 276ms\n",
      "508:\tlearn: 0.0224588\ttotal: 285ms\tremaining: 275ms\n",
      "509:\tlearn: 0.0224396\ttotal: 286ms\tremaining: 274ms\n",
      "510:\tlearn: 0.0224231\ttotal: 286ms\tremaining: 274ms\n",
      "511:\tlearn: 0.0223901\ttotal: 286ms\tremaining: 273ms\n",
      "512:\tlearn: 0.0223741\ttotal: 287ms\tremaining: 272ms\n",
      "513:\tlearn: 0.0223474\ttotal: 287ms\tremaining: 271ms\n",
      "514:\tlearn: 0.0223136\ttotal: 287ms\tremaining: 270ms\n",
      "515:\tlearn: 0.0222804\ttotal: 287ms\tremaining: 270ms\n",
      "516:\tlearn: 0.0222555\ttotal: 288ms\tremaining: 269ms\n",
      "517:\tlearn: 0.0222257\ttotal: 288ms\tremaining: 268ms\n",
      "518:\tlearn: 0.0222160\ttotal: 288ms\tremaining: 267ms\n",
      "519:\tlearn: 0.0221899\ttotal: 289ms\tremaining: 266ms\n",
      "520:\tlearn: 0.0221350\ttotal: 289ms\tremaining: 266ms\n",
      "521:\tlearn: 0.0221099\ttotal: 289ms\tremaining: 265ms\n",
      "522:\tlearn: 0.0220944\ttotal: 290ms\tremaining: 264ms\n",
      "523:\tlearn: 0.0220427\ttotal: 290ms\tremaining: 263ms\n",
      "524:\tlearn: 0.0220075\ttotal: 290ms\tremaining: 263ms\n",
      "525:\tlearn: 0.0219702\ttotal: 290ms\tremaining: 262ms\n",
      "526:\tlearn: 0.0219224\ttotal: 291ms\tremaining: 261ms\n",
      "527:\tlearn: 0.0218881\ttotal: 291ms\tremaining: 260ms\n",
      "528:\tlearn: 0.0218555\ttotal: 291ms\tremaining: 259ms\n",
      "529:\tlearn: 0.0218455\ttotal: 292ms\tremaining: 259ms\n",
      "530:\tlearn: 0.0218153\ttotal: 292ms\tremaining: 258ms\n",
      "531:\tlearn: 0.0218017\ttotal: 292ms\tremaining: 257ms\n",
      "532:\tlearn: 0.0217795\ttotal: 293ms\tremaining: 256ms\n",
      "533:\tlearn: 0.0217316\ttotal: 293ms\tremaining: 256ms\n",
      "534:\tlearn: 0.0217180\ttotal: 293ms\tremaining: 255ms\n",
      "535:\tlearn: 0.0216860\ttotal: 294ms\tremaining: 254ms\n",
      "536:\tlearn: 0.0216711\ttotal: 294ms\tremaining: 253ms\n",
      "537:\tlearn: 0.0216419\ttotal: 294ms\tremaining: 253ms\n",
      "538:\tlearn: 0.0216139\ttotal: 294ms\tremaining: 252ms\n",
      "539:\tlearn: 0.0216011\ttotal: 295ms\tremaining: 251ms\n",
      "540:\tlearn: 0.0215388\ttotal: 295ms\tremaining: 250ms\n",
      "541:\tlearn: 0.0215065\ttotal: 295ms\tremaining: 250ms\n",
      "542:\tlearn: 0.0214753\ttotal: 296ms\tremaining: 249ms\n",
      "543:\tlearn: 0.0214591\ttotal: 296ms\tremaining: 248ms\n",
      "544:\tlearn: 0.0214305\ttotal: 296ms\tremaining: 247ms\n",
      "545:\tlearn: 0.0214054\ttotal: 297ms\tremaining: 247ms\n",
      "546:\tlearn: 0.0213800\ttotal: 297ms\tremaining: 246ms\n",
      "547:\tlearn: 0.0213393\ttotal: 297ms\tremaining: 245ms\n",
      "548:\tlearn: 0.0213250\ttotal: 298ms\tremaining: 245ms\n",
      "549:\tlearn: 0.0212655\ttotal: 298ms\tremaining: 244ms\n",
      "550:\tlearn: 0.0212222\ttotal: 298ms\tremaining: 243ms\n",
      "551:\tlearn: 0.0211891\ttotal: 299ms\tremaining: 242ms\n",
      "552:\tlearn: 0.0211598\ttotal: 299ms\tremaining: 242ms\n",
      "553:\tlearn: 0.0211429\ttotal: 299ms\tremaining: 241ms\n",
      "554:\tlearn: 0.0210829\ttotal: 300ms\tremaining: 240ms\n",
      "555:\tlearn: 0.0210677\ttotal: 300ms\tremaining: 239ms\n",
      "556:\tlearn: 0.0210369\ttotal: 300ms\tremaining: 239ms\n",
      "557:\tlearn: 0.0210223\ttotal: 301ms\tremaining: 238ms\n",
      "558:\tlearn: 0.0210109\ttotal: 301ms\tremaining: 237ms\n",
      "559:\tlearn: 0.0209923\ttotal: 301ms\tremaining: 237ms\n",
      "560:\tlearn: 0.0209709\ttotal: 302ms\tremaining: 236ms\n",
      "561:\tlearn: 0.0209586\ttotal: 302ms\tremaining: 235ms\n",
      "562:\tlearn: 0.0209315\ttotal: 302ms\tremaining: 235ms\n",
      "563:\tlearn: 0.0209108\ttotal: 303ms\tremaining: 234ms\n"
     ]
    },
    {
     "name": "stdout",
     "output_type": "stream",
     "text": [
      "564:\tlearn: 0.0208844\ttotal: 303ms\tremaining: 233ms\n",
      "565:\tlearn: 0.0208705\ttotal: 303ms\tremaining: 232ms\n",
      "566:\tlearn: 0.0208324\ttotal: 303ms\tremaining: 232ms\n",
      "567:\tlearn: 0.0208189\ttotal: 304ms\tremaining: 231ms\n",
      "568:\tlearn: 0.0207924\ttotal: 306ms\tremaining: 232ms\n",
      "569:\tlearn: 0.0207724\ttotal: 307ms\tremaining: 231ms\n",
      "570:\tlearn: 0.0207351\ttotal: 307ms\tremaining: 231ms\n",
      "571:\tlearn: 0.0207130\ttotal: 307ms\tremaining: 230ms\n",
      "572:\tlearn: 0.0206905\ttotal: 308ms\tremaining: 229ms\n",
      "573:\tlearn: 0.0206462\ttotal: 308ms\tremaining: 229ms\n",
      "574:\tlearn: 0.0206182\ttotal: 308ms\tremaining: 228ms\n",
      "575:\tlearn: 0.0205700\ttotal: 308ms\tremaining: 227ms\n",
      "576:\tlearn: 0.0205532\ttotal: 309ms\tremaining: 226ms\n",
      "577:\tlearn: 0.0205071\ttotal: 309ms\tremaining: 226ms\n",
      "578:\tlearn: 0.0204927\ttotal: 309ms\tremaining: 225ms\n",
      "579:\tlearn: 0.0204788\ttotal: 310ms\tremaining: 224ms\n",
      "580:\tlearn: 0.0204382\ttotal: 310ms\tremaining: 223ms\n",
      "581:\tlearn: 0.0204068\ttotal: 310ms\tremaining: 223ms\n",
      "582:\tlearn: 0.0203806\ttotal: 310ms\tremaining: 222ms\n",
      "583:\tlearn: 0.0203504\ttotal: 311ms\tremaining: 221ms\n",
      "584:\tlearn: 0.0203203\ttotal: 311ms\tremaining: 221ms\n",
      "585:\tlearn: 0.0202787\ttotal: 311ms\tremaining: 220ms\n",
      "586:\tlearn: 0.0202492\ttotal: 312ms\tremaining: 219ms\n",
      "587:\tlearn: 0.0202213\ttotal: 312ms\tremaining: 219ms\n",
      "588:\tlearn: 0.0201973\ttotal: 312ms\tremaining: 218ms\n",
      "589:\tlearn: 0.0201431\ttotal: 313ms\tremaining: 217ms\n",
      "590:\tlearn: 0.0201202\ttotal: 313ms\tremaining: 217ms\n",
      "591:\tlearn: 0.0200725\ttotal: 313ms\tremaining: 216ms\n",
      "592:\tlearn: 0.0200308\ttotal: 314ms\tremaining: 215ms\n",
      "593:\tlearn: 0.0199890\ttotal: 314ms\tremaining: 215ms\n",
      "594:\tlearn: 0.0199732\ttotal: 314ms\tremaining: 214ms\n",
      "595:\tlearn: 0.0199479\ttotal: 314ms\tremaining: 213ms\n",
      "596:\tlearn: 0.0199265\ttotal: 315ms\tremaining: 212ms\n",
      "597:\tlearn: 0.0198871\ttotal: 315ms\tremaining: 212ms\n",
      "598:\tlearn: 0.0198752\ttotal: 315ms\tremaining: 211ms\n",
      "599:\tlearn: 0.0198554\ttotal: 316ms\tremaining: 210ms\n",
      "600:\tlearn: 0.0198403\ttotal: 317ms\tremaining: 211ms\n",
      "601:\tlearn: 0.0198136\ttotal: 317ms\tremaining: 210ms\n",
      "602:\tlearn: 0.0197794\ttotal: 318ms\tremaining: 209ms\n",
      "603:\tlearn: 0.0197528\ttotal: 318ms\tremaining: 209ms\n",
      "604:\tlearn: 0.0197223\ttotal: 318ms\tremaining: 208ms\n",
      "605:\tlearn: 0.0197095\ttotal: 319ms\tremaining: 207ms\n",
      "606:\tlearn: 0.0196721\ttotal: 319ms\tremaining: 206ms\n",
      "607:\tlearn: 0.0196501\ttotal: 319ms\tremaining: 206ms\n",
      "608:\tlearn: 0.0196269\ttotal: 319ms\tremaining: 205ms\n",
      "609:\tlearn: 0.0196117\ttotal: 320ms\tremaining: 204ms\n",
      "610:\tlearn: 0.0196004\ttotal: 320ms\tremaining: 204ms\n",
      "611:\tlearn: 0.0195828\ttotal: 320ms\tremaining: 203ms\n",
      "612:\tlearn: 0.0195324\ttotal: 320ms\tremaining: 202ms\n",
      "613:\tlearn: 0.0195201\ttotal: 321ms\tremaining: 202ms\n",
      "614:\tlearn: 0.0195048\ttotal: 322ms\tremaining: 201ms\n",
      "615:\tlearn: 0.0194797\ttotal: 322ms\tremaining: 201ms\n",
      "616:\tlearn: 0.0194298\ttotal: 322ms\tremaining: 200ms\n",
      "617:\tlearn: 0.0194055\ttotal: 322ms\tremaining: 199ms\n",
      "618:\tlearn: 0.0193808\ttotal: 323ms\tremaining: 199ms\n",
      "619:\tlearn: 0.0193537\ttotal: 323ms\tremaining: 198ms\n",
      "620:\tlearn: 0.0193378\ttotal: 323ms\tremaining: 197ms\n",
      "621:\tlearn: 0.0193155\ttotal: 323ms\tremaining: 197ms\n",
      "622:\tlearn: 0.0192880\ttotal: 324ms\tremaining: 196ms\n",
      "623:\tlearn: 0.0192789\ttotal: 324ms\tremaining: 195ms\n",
      "624:\tlearn: 0.0192566\ttotal: 324ms\tremaining: 195ms\n",
      "625:\tlearn: 0.0192435\ttotal: 325ms\tremaining: 194ms\n",
      "626:\tlearn: 0.0192225\ttotal: 325ms\tremaining: 194ms\n",
      "627:\tlearn: 0.0192108\ttotal: 326ms\tremaining: 193ms\n",
      "628:\tlearn: 0.0191881\ttotal: 326ms\tremaining: 192ms\n",
      "629:\tlearn: 0.0191756\ttotal: 326ms\tremaining: 192ms\n",
      "630:\tlearn: 0.0191536\ttotal: 327ms\tremaining: 191ms\n",
      "631:\tlearn: 0.0191338\ttotal: 327ms\tremaining: 190ms\n",
      "632:\tlearn: 0.0191149\ttotal: 327ms\tremaining: 190ms\n",
      "633:\tlearn: 0.0191036\ttotal: 327ms\tremaining: 189ms\n",
      "634:\tlearn: 0.0190851\ttotal: 328ms\tremaining: 188ms\n",
      "635:\tlearn: 0.0190496\ttotal: 328ms\tremaining: 188ms\n",
      "636:\tlearn: 0.0190433\ttotal: 328ms\tremaining: 187ms\n",
      "637:\tlearn: 0.0190166\ttotal: 328ms\tremaining: 186ms\n",
      "638:\tlearn: 0.0189954\ttotal: 329ms\tremaining: 186ms\n",
      "639:\tlearn: 0.0189890\ttotal: 329ms\tremaining: 185ms\n",
      "640:\tlearn: 0.0189828\ttotal: 329ms\tremaining: 184ms\n",
      "641:\tlearn: 0.0189617\ttotal: 329ms\tremaining: 184ms\n",
      "642:\tlearn: 0.0189517\ttotal: 330ms\tremaining: 183ms\n",
      "643:\tlearn: 0.0189349\ttotal: 330ms\tremaining: 182ms\n",
      "644:\tlearn: 0.0188882\ttotal: 330ms\tremaining: 182ms\n",
      "645:\tlearn: 0.0188521\ttotal: 331ms\tremaining: 181ms\n",
      "646:\tlearn: 0.0188259\ttotal: 331ms\tremaining: 181ms\n",
      "647:\tlearn: 0.0187914\ttotal: 331ms\tremaining: 180ms\n",
      "648:\tlearn: 0.0187804\ttotal: 332ms\tremaining: 179ms\n",
      "649:\tlearn: 0.0187521\ttotal: 332ms\tremaining: 179ms\n",
      "650:\tlearn: 0.0187356\ttotal: 332ms\tremaining: 178ms\n",
      "651:\tlearn: 0.0187217\ttotal: 333ms\tremaining: 177ms\n",
      "652:\tlearn: 0.0187051\ttotal: 333ms\tremaining: 177ms\n",
      "653:\tlearn: 0.0186612\ttotal: 333ms\tremaining: 176ms\n",
      "654:\tlearn: 0.0186481\ttotal: 334ms\tremaining: 176ms\n",
      "655:\tlearn: 0.0186156\ttotal: 336ms\tremaining: 176ms\n",
      "656:\tlearn: 0.0186002\ttotal: 337ms\tremaining: 176ms\n",
      "657:\tlearn: 0.0185800\ttotal: 337ms\tremaining: 175ms\n",
      "658:\tlearn: 0.0185704\ttotal: 338ms\tremaining: 175ms\n",
      "659:\tlearn: 0.0185287\ttotal: 338ms\tremaining: 174ms\n",
      "660:\tlearn: 0.0185173\ttotal: 338ms\tremaining: 173ms\n",
      "661:\tlearn: 0.0185001\ttotal: 339ms\tremaining: 173ms\n",
      "662:\tlearn: 0.0184796\ttotal: 339ms\tremaining: 172ms\n",
      "663:\tlearn: 0.0184340\ttotal: 342ms\tremaining: 173ms\n",
      "664:\tlearn: 0.0184149\ttotal: 343ms\tremaining: 173ms\n",
      "665:\tlearn: 0.0183768\ttotal: 343ms\tremaining: 172ms\n",
      "666:\tlearn: 0.0183490\ttotal: 343ms\tremaining: 171ms\n",
      "667:\tlearn: 0.0183277\ttotal: 344ms\tremaining: 171ms\n",
      "668:\tlearn: 0.0183041\ttotal: 345ms\tremaining: 171ms\n",
      "669:\tlearn: 0.0182941\ttotal: 345ms\tremaining: 170ms\n",
      "670:\tlearn: 0.0182725\ttotal: 346ms\tremaining: 169ms\n",
      "671:\tlearn: 0.0182509\ttotal: 346ms\tremaining: 169ms\n",
      "672:\tlearn: 0.0182389\ttotal: 346ms\tremaining: 168ms\n",
      "673:\tlearn: 0.0182184\ttotal: 346ms\tremaining: 167ms\n",
      "674:\tlearn: 0.0181983\ttotal: 347ms\tremaining: 167ms\n",
      "675:\tlearn: 0.0181866\ttotal: 347ms\tremaining: 166ms\n",
      "676:\tlearn: 0.0181568\ttotal: 347ms\tremaining: 166ms\n",
      "677:\tlearn: 0.0181199\ttotal: 348ms\tremaining: 165ms\n",
      "678:\tlearn: 0.0180848\ttotal: 348ms\tremaining: 164ms\n",
      "679:\tlearn: 0.0180686\ttotal: 348ms\tremaining: 164ms\n",
      "680:\tlearn: 0.0180491\ttotal: 348ms\tremaining: 163ms\n",
      "681:\tlearn: 0.0180217\ttotal: 349ms\tremaining: 163ms\n",
      "682:\tlearn: 0.0180031\ttotal: 349ms\tremaining: 162ms\n",
      "683:\tlearn: 0.0179791\ttotal: 349ms\tremaining: 161ms\n",
      "684:\tlearn: 0.0179618\ttotal: 350ms\tremaining: 161ms\n",
      "685:\tlearn: 0.0179334\ttotal: 350ms\tremaining: 160ms\n",
      "686:\tlearn: 0.0179102\ttotal: 351ms\tremaining: 160ms\n",
      "687:\tlearn: 0.0178814\ttotal: 351ms\tremaining: 159ms\n",
      "688:\tlearn: 0.0178465\ttotal: 351ms\tremaining: 159ms\n",
      "689:\tlearn: 0.0178249\ttotal: 352ms\tremaining: 158ms\n",
      "690:\tlearn: 0.0177862\ttotal: 352ms\tremaining: 157ms\n",
      "691:\tlearn: 0.0177735\ttotal: 352ms\tremaining: 157ms\n",
      "692:\tlearn: 0.0177471\ttotal: 353ms\tremaining: 156ms\n",
      "693:\tlearn: 0.0177362\ttotal: 353ms\tremaining: 156ms\n",
      "694:\tlearn: 0.0177297\ttotal: 354ms\tremaining: 155ms\n",
      "695:\tlearn: 0.0177149\ttotal: 354ms\tremaining: 155ms\n",
      "696:\tlearn: 0.0176965\ttotal: 355ms\tremaining: 154ms\n",
      "697:\tlearn: 0.0176741\ttotal: 355ms\tremaining: 154ms\n",
      "698:\tlearn: 0.0176638\ttotal: 356ms\tremaining: 153ms\n",
      "699:\tlearn: 0.0176579\ttotal: 356ms\tremaining: 152ms\n",
      "700:\tlearn: 0.0176367\ttotal: 356ms\tremaining: 152ms\n",
      "701:\tlearn: 0.0176191\ttotal: 356ms\tremaining: 151ms\n",
      "702:\tlearn: 0.0176014\ttotal: 357ms\tremaining: 151ms\n",
      "703:\tlearn: 0.0175915\ttotal: 357ms\tremaining: 150ms\n",
      "704:\tlearn: 0.0175742\ttotal: 357ms\tremaining: 149ms\n",
      "705:\tlearn: 0.0175638\ttotal: 357ms\tremaining: 149ms\n",
      "706:\tlearn: 0.0175495\ttotal: 358ms\tremaining: 148ms\n",
      "707:\tlearn: 0.0175246\ttotal: 358ms\tremaining: 148ms\n",
      "708:\tlearn: 0.0174954\ttotal: 358ms\tremaining: 147ms\n",
      "709:\tlearn: 0.0174772\ttotal: 358ms\tremaining: 146ms\n",
      "710:\tlearn: 0.0174582\ttotal: 359ms\tremaining: 146ms\n",
      "711:\tlearn: 0.0174346\ttotal: 359ms\tremaining: 145ms\n",
      "712:\tlearn: 0.0174128\ttotal: 360ms\tremaining: 145ms\n",
      "713:\tlearn: 0.0173947\ttotal: 360ms\tremaining: 144ms\n",
      "714:\tlearn: 0.0173848\ttotal: 360ms\tremaining: 144ms\n",
      "715:\tlearn: 0.0173801\ttotal: 361ms\tremaining: 143ms\n",
      "716:\tlearn: 0.0173570\ttotal: 363ms\tremaining: 143ms\n",
      "717:\tlearn: 0.0173464\ttotal: 363ms\tremaining: 143ms\n",
      "718:\tlearn: 0.0173245\ttotal: 363ms\tremaining: 142ms\n",
      "719:\tlearn: 0.0173078\ttotal: 363ms\tremaining: 141ms\n",
      "720:\tlearn: 0.0172911\ttotal: 364ms\tremaining: 141ms\n",
      "721:\tlearn: 0.0172697\ttotal: 364ms\tremaining: 140ms\n",
      "722:\tlearn: 0.0172601\ttotal: 364ms\tremaining: 140ms\n",
      "723:\tlearn: 0.0172428\ttotal: 364ms\tremaining: 139ms\n",
      "724:\tlearn: 0.0172219\ttotal: 365ms\tremaining: 138ms\n",
      "725:\tlearn: 0.0172117\ttotal: 366ms\tremaining: 138ms\n",
      "726:\tlearn: 0.0171954\ttotal: 366ms\tremaining: 137ms\n",
      "727:\tlearn: 0.0171859\ttotal: 366ms\tremaining: 137ms\n",
      "728:\tlearn: 0.0171652\ttotal: 366ms\tremaining: 136ms\n",
      "729:\tlearn: 0.0171413\ttotal: 367ms\tremaining: 136ms\n",
      "730:\tlearn: 0.0171222\ttotal: 367ms\tremaining: 135ms\n",
      "731:\tlearn: 0.0171148\ttotal: 367ms\tremaining: 134ms\n",
      "732:\tlearn: 0.0170928\ttotal: 367ms\tremaining: 134ms\n",
      "733:\tlearn: 0.0170675\ttotal: 368ms\tremaining: 133ms\n",
      "734:\tlearn: 0.0170616\ttotal: 368ms\tremaining: 133ms\n",
      "735:\tlearn: 0.0170414\ttotal: 368ms\tremaining: 132ms\n",
      "736:\tlearn: 0.0170102\ttotal: 370ms\tremaining: 132ms\n",
      "737:\tlearn: 0.0169913\ttotal: 370ms\tremaining: 131ms\n",
      "738:\tlearn: 0.0169718\ttotal: 370ms\tremaining: 131ms\n",
      "739:\tlearn: 0.0169366\ttotal: 371ms\tremaining: 130ms\n",
      "740:\tlearn: 0.0169276\ttotal: 371ms\tremaining: 130ms\n",
      "741:\tlearn: 0.0169106\ttotal: 371ms\tremaining: 129ms\n",
      "742:\tlearn: 0.0169056\ttotal: 372ms\tremaining: 129ms\n",
      "743:\tlearn: 0.0168906\ttotal: 372ms\tremaining: 128ms\n",
      "744:\tlearn: 0.0168778\ttotal: 373ms\tremaining: 128ms\n",
      "745:\tlearn: 0.0168669\ttotal: 373ms\tremaining: 127ms\n",
      "746:\tlearn: 0.0168509\ttotal: 373ms\tremaining: 126ms\n",
      "747:\tlearn: 0.0168439\ttotal: 374ms\tremaining: 126ms\n",
      "748:\tlearn: 0.0168235\ttotal: 374ms\tremaining: 125ms\n",
      "749:\tlearn: 0.0168068\ttotal: 374ms\tremaining: 125ms\n",
      "750:\tlearn: 0.0167935\ttotal: 374ms\tremaining: 124ms\n",
      "751:\tlearn: 0.0167856\ttotal: 375ms\tremaining: 124ms\n",
      "752:\tlearn: 0.0167782\ttotal: 375ms\tremaining: 123ms\n",
      "753:\tlearn: 0.0167633\ttotal: 375ms\tremaining: 122ms\n",
      "754:\tlearn: 0.0167467\ttotal: 376ms\tremaining: 122ms\n",
      "755:\tlearn: 0.0167293\ttotal: 376ms\tremaining: 121ms\n",
      "756:\tlearn: 0.0167157\ttotal: 376ms\tremaining: 121ms\n",
      "757:\tlearn: 0.0167039\ttotal: 377ms\tremaining: 120ms\n",
      "758:\tlearn: 0.0166894\ttotal: 377ms\tremaining: 120ms\n",
      "759:\tlearn: 0.0166692\ttotal: 377ms\tremaining: 119ms\n",
      "760:\tlearn: 0.0166632\ttotal: 378ms\tremaining: 119ms\n",
      "761:\tlearn: 0.0166416\ttotal: 378ms\tremaining: 118ms\n",
      "762:\tlearn: 0.0166310\ttotal: 378ms\tremaining: 117ms\n",
      "763:\tlearn: 0.0166141\ttotal: 378ms\tremaining: 117ms\n",
      "764:\tlearn: 0.0165899\ttotal: 379ms\tremaining: 116ms\n",
      "765:\tlearn: 0.0165650\ttotal: 379ms\tremaining: 116ms\n",
      "766:\tlearn: 0.0165543\ttotal: 379ms\tremaining: 115ms\n",
      "767:\tlearn: 0.0165355\ttotal: 382ms\tremaining: 115ms\n",
      "768:\tlearn: 0.0165265\ttotal: 382ms\tremaining: 115ms\n",
      "769:\tlearn: 0.0165141\ttotal: 382ms\tremaining: 114ms\n",
      "770:\tlearn: 0.0165080\ttotal: 383ms\tremaining: 114ms\n",
      "771:\tlearn: 0.0164984\ttotal: 383ms\tremaining: 113ms\n",
      "772:\tlearn: 0.0164896\ttotal: 383ms\tremaining: 113ms\n",
      "773:\tlearn: 0.0164758\ttotal: 384ms\tremaining: 112ms\n",
      "774:\tlearn: 0.0164635\ttotal: 384ms\tremaining: 111ms\n",
      "775:\tlearn: 0.0164438\ttotal: 384ms\tremaining: 111ms\n",
      "776:\tlearn: 0.0164369\ttotal: 384ms\tremaining: 110ms\n",
      "777:\tlearn: 0.0164200\ttotal: 385ms\tremaining: 110ms\n",
      "778:\tlearn: 0.0163982\ttotal: 385ms\tremaining: 109ms\n",
      "779:\tlearn: 0.0163777\ttotal: 385ms\tremaining: 109ms\n",
      "780:\tlearn: 0.0163634\ttotal: 386ms\tremaining: 108ms\n",
      "781:\tlearn: 0.0163484\ttotal: 386ms\tremaining: 108ms\n",
      "782:\tlearn: 0.0163315\ttotal: 386ms\tremaining: 107ms\n",
      "783:\tlearn: 0.0163105\ttotal: 386ms\tremaining: 106ms\n",
      "784:\tlearn: 0.0162947\ttotal: 387ms\tremaining: 106ms\n",
      "785:\tlearn: 0.0162849\ttotal: 388ms\tremaining: 106ms\n",
      "786:\tlearn: 0.0162751\ttotal: 388ms\tremaining: 105ms\n",
      "787:\tlearn: 0.0162628\ttotal: 389ms\tremaining: 105ms\n",
      "788:\tlearn: 0.0162353\ttotal: 389ms\tremaining: 104ms\n",
      "789:\tlearn: 0.0162286\ttotal: 390ms\tremaining: 104ms\n",
      "790:\tlearn: 0.0162080\ttotal: 391ms\tremaining: 103ms\n",
      "791:\tlearn: 0.0162027\ttotal: 391ms\tremaining: 103ms\n",
      "792:\tlearn: 0.0161814\ttotal: 391ms\tremaining: 102ms\n",
      "793:\tlearn: 0.0161763\ttotal: 392ms\tremaining: 102ms\n"
     ]
    },
    {
     "name": "stdout",
     "output_type": "stream",
     "text": [
      "794:\tlearn: 0.0161715\ttotal: 392ms\tremaining: 101ms\n",
      "795:\tlearn: 0.0161524\ttotal: 392ms\tremaining: 101ms\n",
      "796:\tlearn: 0.0161442\ttotal: 393ms\tremaining: 100ms\n",
      "797:\tlearn: 0.0161314\ttotal: 396ms\tremaining: 100ms\n",
      "798:\tlearn: 0.0161168\ttotal: 396ms\tremaining: 99.6ms\n",
      "799:\tlearn: 0.0161039\ttotal: 396ms\tremaining: 99ms\n",
      "800:\tlearn: 0.0160889\ttotal: 396ms\tremaining: 98.5ms\n",
      "801:\tlearn: 0.0160680\ttotal: 397ms\tremaining: 97.9ms\n",
      "802:\tlearn: 0.0160523\ttotal: 397ms\tremaining: 97.4ms\n",
      "803:\tlearn: 0.0160478\ttotal: 397ms\tremaining: 96.8ms\n",
      "804:\tlearn: 0.0160436\ttotal: 398ms\tremaining: 96.4ms\n",
      "805:\tlearn: 0.0160275\ttotal: 398ms\tremaining: 95.8ms\n",
      "806:\tlearn: 0.0160236\ttotal: 398ms\tremaining: 95.3ms\n",
      "807:\tlearn: 0.0160101\ttotal: 399ms\tremaining: 94.8ms\n",
      "808:\tlearn: 0.0159912\ttotal: 399ms\tremaining: 94.2ms\n",
      "809:\tlearn: 0.0159788\ttotal: 400ms\tremaining: 93.8ms\n",
      "810:\tlearn: 0.0159698\ttotal: 400ms\tremaining: 93.2ms\n",
      "811:\tlearn: 0.0159568\ttotal: 400ms\tremaining: 92.7ms\n",
      "812:\tlearn: 0.0159435\ttotal: 401ms\tremaining: 92.1ms\n",
      "813:\tlearn: 0.0159371\ttotal: 401ms\tremaining: 91.6ms\n",
      "814:\tlearn: 0.0159175\ttotal: 401ms\tremaining: 91ms\n",
      "815:\tlearn: 0.0159055\ttotal: 401ms\tremaining: 90.5ms\n",
      "816:\tlearn: 0.0158877\ttotal: 402ms\tremaining: 90ms\n",
      "817:\tlearn: 0.0158783\ttotal: 402ms\tremaining: 89.4ms\n",
      "818:\tlearn: 0.0158629\ttotal: 402ms\tremaining: 88.9ms\n",
      "819:\tlearn: 0.0158415\ttotal: 402ms\tremaining: 88.3ms\n",
      "820:\tlearn: 0.0158279\ttotal: 404ms\tremaining: 88ms\n",
      "821:\tlearn: 0.0158202\ttotal: 404ms\tremaining: 87.5ms\n",
      "822:\tlearn: 0.0158023\ttotal: 405ms\tremaining: 87ms\n",
      "823:\tlearn: 0.0157948\ttotal: 405ms\tremaining: 86.5ms\n",
      "824:\tlearn: 0.0157886\ttotal: 405ms\tremaining: 86ms\n",
      "825:\tlearn: 0.0157631\ttotal: 406ms\tremaining: 85.4ms\n",
      "826:\tlearn: 0.0157480\ttotal: 406ms\tremaining: 85ms\n",
      "827:\tlearn: 0.0157350\ttotal: 406ms\tremaining: 84.4ms\n",
      "828:\tlearn: 0.0157228\ttotal: 407ms\tremaining: 83.9ms\n",
      "829:\tlearn: 0.0157084\ttotal: 407ms\tremaining: 83.4ms\n",
      "830:\tlearn: 0.0156692\ttotal: 407ms\tremaining: 82.8ms\n",
      "831:\tlearn: 0.0156556\ttotal: 408ms\tremaining: 82.3ms\n",
      "832:\tlearn: 0.0156292\ttotal: 408ms\tremaining: 81.8ms\n",
      "833:\tlearn: 0.0155979\ttotal: 408ms\tremaining: 81.2ms\n",
      "834:\tlearn: 0.0155795\ttotal: 408ms\tremaining: 80.7ms\n",
      "835:\tlearn: 0.0155750\ttotal: 409ms\tremaining: 80.2ms\n",
      "836:\tlearn: 0.0155625\ttotal: 409ms\tremaining: 79.6ms\n",
      "837:\tlearn: 0.0155515\ttotal: 409ms\tremaining: 79.1ms\n",
      "838:\tlearn: 0.0155396\ttotal: 411ms\tremaining: 78.8ms\n",
      "839:\tlearn: 0.0155183\ttotal: 411ms\tremaining: 78.3ms\n",
      "840:\tlearn: 0.0155002\ttotal: 411ms\tremaining: 77.8ms\n",
      "841:\tlearn: 0.0154842\ttotal: 412ms\tremaining: 77.2ms\n",
      "842:\tlearn: 0.0154677\ttotal: 412ms\tremaining: 76.7ms\n",
      "843:\tlearn: 0.0154531\ttotal: 412ms\tremaining: 76.2ms\n",
      "844:\tlearn: 0.0154419\ttotal: 413ms\tremaining: 75.7ms\n",
      "845:\tlearn: 0.0154292\ttotal: 413ms\tremaining: 75.1ms\n",
      "846:\tlearn: 0.0154044\ttotal: 413ms\tremaining: 74.6ms\n",
      "847:\tlearn: 0.0153929\ttotal: 413ms\tremaining: 74.1ms\n",
      "848:\tlearn: 0.0153677\ttotal: 414ms\tremaining: 73.6ms\n",
      "849:\tlearn: 0.0153626\ttotal: 414ms\tremaining: 73.1ms\n",
      "850:\tlearn: 0.0153522\ttotal: 414ms\tremaining: 72.5ms\n",
      "851:\tlearn: 0.0153450\ttotal: 414ms\tremaining: 72ms\n",
      "852:\tlearn: 0.0153385\ttotal: 416ms\tremaining: 71.6ms\n",
      "853:\tlearn: 0.0153356\ttotal: 416ms\tremaining: 71.1ms\n",
      "854:\tlearn: 0.0153317\ttotal: 416ms\tremaining: 70.6ms\n",
      "855:\tlearn: 0.0152947\ttotal: 417ms\tremaining: 70.2ms\n",
      "856:\tlearn: 0.0152920\ttotal: 418ms\tremaining: 69.7ms\n",
      "857:\tlearn: 0.0152718\ttotal: 418ms\tremaining: 69.2ms\n",
      "858:\tlearn: 0.0152535\ttotal: 419ms\tremaining: 68.7ms\n",
      "859:\tlearn: 0.0152460\ttotal: 419ms\tremaining: 68.3ms\n",
      "860:\tlearn: 0.0152320\ttotal: 420ms\tremaining: 67.8ms\n",
      "861:\tlearn: 0.0152160\ttotal: 420ms\tremaining: 67.2ms\n",
      "862:\tlearn: 0.0152104\ttotal: 420ms\tremaining: 66.7ms\n",
      "863:\tlearn: 0.0151969\ttotal: 421ms\tremaining: 66.2ms\n",
      "864:\tlearn: 0.0151850\ttotal: 421ms\tremaining: 65.7ms\n",
      "865:\tlearn: 0.0151742\ttotal: 421ms\tremaining: 65.2ms\n",
      "866:\tlearn: 0.0151712\ttotal: 421ms\tremaining: 64.6ms\n",
      "867:\tlearn: 0.0151657\ttotal: 422ms\tremaining: 64.2ms\n",
      "868:\tlearn: 0.0151364\ttotal: 423ms\tremaining: 63.7ms\n",
      "869:\tlearn: 0.0151310\ttotal: 423ms\tremaining: 63.2ms\n",
      "870:\tlearn: 0.0151205\ttotal: 423ms\tremaining: 62.7ms\n",
      "871:\tlearn: 0.0151042\ttotal: 423ms\tremaining: 62.1ms\n",
      "872:\tlearn: 0.0150969\ttotal: 424ms\tremaining: 61.7ms\n",
      "873:\tlearn: 0.0150851\ttotal: 425ms\tremaining: 61.2ms\n",
      "874:\tlearn: 0.0150819\ttotal: 425ms\tremaining: 60.7ms\n",
      "875:\tlearn: 0.0150576\ttotal: 425ms\tremaining: 60.2ms\n",
      "876:\tlearn: 0.0150361\ttotal: 425ms\tremaining: 59.6ms\n",
      "877:\tlearn: 0.0150239\ttotal: 426ms\tremaining: 59.1ms\n",
      "878:\tlearn: 0.0150136\ttotal: 426ms\tremaining: 58.6ms\n",
      "879:\tlearn: 0.0150021\ttotal: 426ms\tremaining: 58.1ms\n",
      "880:\tlearn: 0.0149888\ttotal: 427ms\tremaining: 57.6ms\n",
      "881:\tlearn: 0.0149851\ttotal: 427ms\tremaining: 57.1ms\n",
      "882:\tlearn: 0.0149697\ttotal: 427ms\tremaining: 56.6ms\n",
      "883:\tlearn: 0.0149619\ttotal: 428ms\tremaining: 56.1ms\n",
      "884:\tlearn: 0.0149410\ttotal: 428ms\tremaining: 55.6ms\n",
      "885:\tlearn: 0.0149313\ttotal: 428ms\tremaining: 55.1ms\n",
      "886:\tlearn: 0.0149162\ttotal: 428ms\tremaining: 54.6ms\n",
      "887:\tlearn: 0.0149128\ttotal: 429ms\tremaining: 54.1ms\n",
      "888:\tlearn: 0.0148966\ttotal: 429ms\tremaining: 53.6ms\n",
      "889:\tlearn: 0.0148829\ttotal: 429ms\tremaining: 53.1ms\n",
      "890:\tlearn: 0.0148757\ttotal: 430ms\tremaining: 52.5ms\n",
      "891:\tlearn: 0.0148732\ttotal: 430ms\tremaining: 52ms\n",
      "892:\tlearn: 0.0148636\ttotal: 430ms\tremaining: 51.5ms\n",
      "893:\tlearn: 0.0148602\ttotal: 430ms\tremaining: 51ms\n",
      "894:\tlearn: 0.0148538\ttotal: 431ms\tremaining: 50.5ms\n",
      "895:\tlearn: 0.0148391\ttotal: 431ms\tremaining: 50ms\n",
      "896:\tlearn: 0.0148245\ttotal: 431ms\tremaining: 49.5ms\n",
      "897:\tlearn: 0.0148014\ttotal: 432ms\tremaining: 49ms\n",
      "898:\tlearn: 0.0147928\ttotal: 432ms\tremaining: 48.5ms\n",
      "899:\tlearn: 0.0147713\ttotal: 432ms\tremaining: 48ms\n",
      "900:\tlearn: 0.0147677\ttotal: 432ms\tremaining: 47.5ms\n",
      "901:\tlearn: 0.0147578\ttotal: 433ms\tremaining: 47.1ms\n",
      "902:\tlearn: 0.0147510\ttotal: 434ms\tremaining: 46.6ms\n",
      "903:\tlearn: 0.0147186\ttotal: 434ms\tremaining: 46.1ms\n",
      "904:\tlearn: 0.0146958\ttotal: 435ms\tremaining: 45.6ms\n"
     ]
    },
    {
     "name": "stdout",
     "output_type": "stream",
     "text": [
      "905:\tlearn: 0.0146933\ttotal: 435ms\tremaining: 45.2ms\n",
      "906:\tlearn: 0.0146837\ttotal: 436ms\tremaining: 44.7ms\n",
      "907:\tlearn: 0.0146724\ttotal: 436ms\tremaining: 44.2ms\n",
      "908:\tlearn: 0.0146692\ttotal: 436ms\tremaining: 43.7ms\n",
      "909:\tlearn: 0.0146552\ttotal: 437ms\tremaining: 43.2ms\n",
      "910:\tlearn: 0.0146317\ttotal: 438ms\tremaining: 42.8ms\n",
      "911:\tlearn: 0.0146205\ttotal: 439ms\tremaining: 42.3ms\n",
      "912:\tlearn: 0.0146168\ttotal: 440ms\tremaining: 41.9ms\n",
      "913:\tlearn: 0.0146078\ttotal: 440ms\tremaining: 41.4ms\n",
      "914:\tlearn: 0.0145941\ttotal: 441ms\tremaining: 40.9ms\n",
      "915:\tlearn: 0.0145735\ttotal: 441ms\tremaining: 40.4ms\n",
      "916:\tlearn: 0.0145674\ttotal: 441ms\tremaining: 39.9ms\n",
      "917:\tlearn: 0.0145501\ttotal: 441ms\tremaining: 39.4ms\n",
      "918:\tlearn: 0.0145297\ttotal: 442ms\tremaining: 38.9ms\n",
      "919:\tlearn: 0.0145083\ttotal: 442ms\tremaining: 38.4ms\n",
      "920:\tlearn: 0.0144988\ttotal: 442ms\tremaining: 37.9ms\n",
      "921:\tlearn: 0.0144800\ttotal: 442ms\tremaining: 37.4ms\n",
      "922:\tlearn: 0.0144744\ttotal: 443ms\tremaining: 36.9ms\n",
      "923:\tlearn: 0.0144617\ttotal: 443ms\tremaining: 36.4ms\n",
      "924:\tlearn: 0.0144575\ttotal: 443ms\tremaining: 35.9ms\n",
      "925:\tlearn: 0.0144549\ttotal: 444ms\tremaining: 35.4ms\n",
      "926:\tlearn: 0.0144428\ttotal: 445ms\tremaining: 35ms\n",
      "927:\tlearn: 0.0144206\ttotal: 445ms\tremaining: 34.5ms\n",
      "928:\tlearn: 0.0144118\ttotal: 445ms\tremaining: 34ms\n",
      "929:\tlearn: 0.0143994\ttotal: 446ms\tremaining: 33.5ms\n",
      "930:\tlearn: 0.0143805\ttotal: 446ms\tremaining: 33ms\n",
      "931:\tlearn: 0.0143662\ttotal: 446ms\tremaining: 32.6ms\n",
      "932:\tlearn: 0.0143541\ttotal: 446ms\tremaining: 32.1ms\n",
      "933:\tlearn: 0.0143467\ttotal: 447ms\tremaining: 31.6ms\n",
      "934:\tlearn: 0.0143140\ttotal: 447ms\tremaining: 31.1ms\n",
      "935:\tlearn: 0.0142983\ttotal: 447ms\tremaining: 30.6ms\n",
      "936:\tlearn: 0.0142912\ttotal: 448ms\tremaining: 30.1ms\n",
      "937:\tlearn: 0.0142814\ttotal: 448ms\tremaining: 29.6ms\n",
      "938:\tlearn: 0.0142684\ttotal: 448ms\tremaining: 29.1ms\n",
      "939:\tlearn: 0.0142653\ttotal: 448ms\tremaining: 28.6ms\n",
      "940:\tlearn: 0.0142484\ttotal: 449ms\tremaining: 28.1ms\n",
      "941:\tlearn: 0.0142390\ttotal: 449ms\tremaining: 27.6ms\n",
      "942:\tlearn: 0.0142267\ttotal: 449ms\tremaining: 27.1ms\n",
      "943:\tlearn: 0.0142054\ttotal: 449ms\tremaining: 26.7ms\n",
      "944:\tlearn: 0.0142004\ttotal: 450ms\tremaining: 26.2ms\n",
      "945:\tlearn: 0.0141969\ttotal: 450ms\tremaining: 25.7ms\n",
      "946:\tlearn: 0.0141876\ttotal: 451ms\tremaining: 25.2ms\n",
      "947:\tlearn: 0.0141743\ttotal: 452ms\tremaining: 24.8ms\n",
      "948:\tlearn: 0.0141655\ttotal: 452ms\tremaining: 24.3ms\n",
      "949:\tlearn: 0.0141626\ttotal: 452ms\tremaining: 23.8ms\n",
      "950:\tlearn: 0.0141544\ttotal: 452ms\tremaining: 23.3ms\n",
      "951:\tlearn: 0.0141509\ttotal: 453ms\tremaining: 22.8ms\n",
      "952:\tlearn: 0.0141366\ttotal: 453ms\tremaining: 22.3ms\n",
      "953:\tlearn: 0.0141244\ttotal: 453ms\tremaining: 21.9ms\n",
      "954:\tlearn: 0.0141216\ttotal: 454ms\tremaining: 21.4ms\n",
      "955:\tlearn: 0.0141014\ttotal: 454ms\tremaining: 20.9ms\n",
      "956:\tlearn: 0.0140907\ttotal: 454ms\tremaining: 20.4ms\n",
      "957:\tlearn: 0.0140849\ttotal: 454ms\tremaining: 19.9ms\n",
      "958:\tlearn: 0.0140700\ttotal: 455ms\tremaining: 19.4ms\n",
      "959:\tlearn: 0.0140508\ttotal: 455ms\tremaining: 19ms\n",
      "960:\tlearn: 0.0140410\ttotal: 455ms\tremaining: 18.5ms\n",
      "961:\tlearn: 0.0140293\ttotal: 456ms\tremaining: 18ms\n",
      "962:\tlearn: 0.0140191\ttotal: 456ms\tremaining: 17.5ms\n",
      "963:\tlearn: 0.0140050\ttotal: 456ms\tremaining: 17ms\n",
      "964:\tlearn: 0.0139945\ttotal: 456ms\tremaining: 16.6ms\n",
      "965:\tlearn: 0.0139855\ttotal: 457ms\tremaining: 16.1ms\n",
      "966:\tlearn: 0.0139745\ttotal: 457ms\tremaining: 15.6ms\n",
      "967:\tlearn: 0.0139717\ttotal: 457ms\tremaining: 15.1ms\n",
      "968:\tlearn: 0.0139564\ttotal: 458ms\tremaining: 14.6ms\n",
      "969:\tlearn: 0.0139448\ttotal: 458ms\tremaining: 14.2ms\n",
      "970:\tlearn: 0.0139420\ttotal: 458ms\tremaining: 13.7ms\n",
      "971:\tlearn: 0.0139263\ttotal: 458ms\tremaining: 13.2ms\n",
      "972:\tlearn: 0.0139181\ttotal: 459ms\tremaining: 12.7ms\n",
      "973:\tlearn: 0.0139109\ttotal: 459ms\tremaining: 12.2ms\n",
      "974:\tlearn: 0.0138919\ttotal: 459ms\tremaining: 11.8ms\n",
      "975:\tlearn: 0.0138782\ttotal: 460ms\tremaining: 11.3ms\n",
      "976:\tlearn: 0.0138676\ttotal: 460ms\tremaining: 10.8ms\n",
      "977:\tlearn: 0.0138552\ttotal: 460ms\tremaining: 10.3ms\n",
      "978:\tlearn: 0.0138419\ttotal: 460ms\tremaining: 9.88ms\n",
      "979:\tlearn: 0.0138342\ttotal: 461ms\tremaining: 9.4ms\n",
      "980:\tlearn: 0.0138288\ttotal: 461ms\tremaining: 8.93ms\n",
      "981:\tlearn: 0.0138193\ttotal: 462ms\tremaining: 8.46ms\n",
      "982:\tlearn: 0.0138082\ttotal: 462ms\tremaining: 7.99ms\n",
      "983:\tlearn: 0.0137949\ttotal: 462ms\tremaining: 7.51ms\n",
      "984:\tlearn: 0.0137917\ttotal: 462ms\tremaining: 7.04ms\n",
      "985:\tlearn: 0.0137685\ttotal: 463ms\tremaining: 6.58ms\n",
      "986:\tlearn: 0.0137592\ttotal: 464ms\tremaining: 6.11ms\n",
      "987:\tlearn: 0.0137521\ttotal: 464ms\tremaining: 5.63ms\n",
      "988:\tlearn: 0.0137408\ttotal: 464ms\tremaining: 5.16ms\n",
      "989:\tlearn: 0.0137309\ttotal: 464ms\tremaining: 4.69ms\n",
      "990:\tlearn: 0.0137237\ttotal: 465ms\tremaining: 4.22ms\n",
      "991:\tlearn: 0.0137083\ttotal: 465ms\tremaining: 3.75ms\n",
      "992:\tlearn: 0.0136907\ttotal: 466ms\tremaining: 3.28ms\n",
      "993:\tlearn: 0.0136765\ttotal: 466ms\tremaining: 2.81ms\n",
      "994:\tlearn: 0.0136671\ttotal: 466ms\tremaining: 2.34ms\n",
      "995:\tlearn: 0.0136380\ttotal: 466ms\tremaining: 1.87ms\n",
      "996:\tlearn: 0.0136291\ttotal: 467ms\tremaining: 1.4ms\n",
      "997:\tlearn: 0.0136163\ttotal: 467ms\tremaining: 935us\n",
      "998:\tlearn: 0.0136000\ttotal: 467ms\tremaining: 467us\n",
      "999:\tlearn: 0.0135960\ttotal: 467ms\tremaining: 0us\n"
     ]
    },
    {
     "data": {
      "text/plain": [
       "<catboost.core.CatBoostRegressor at 0x7f8a895f4a30>"
      ]
     },
     "execution_count": 9,
     "metadata": {},
     "output_type": "execute_result"
    }
   ],
   "source": [
    "#Train the Model \n",
    "prior_model = ctb.CatBoostRegressor()\n",
    "prior_model.fit(X_train,Y_train)"
   ]
  },
  {
   "cell_type": "code",
   "execution_count": 10,
   "id": "af65dcda",
   "metadata": {
    "execution": {
     "iopub.execute_input": "2022-07-24T13:19:40.611871Z",
     "iopub.status.busy": "2022-07-24T13:19:40.611611Z",
     "iopub.status.idle": "2022-07-24T13:19:40.646161Z",
     "shell.execute_reply": "2022-07-24T13:19:40.645120Z"
    },
    "id": "af65dcda",
    "papermill": {
     "duration": 0.052344,
     "end_time": "2022-07-24T13:19:40.649495",
     "exception": false,
     "start_time": "2022-07-24T13:19:40.597151",
     "status": "completed"
    },
    "tags": []
   },
   "outputs": [
    {
     "data": {
      "application/scrapbook.scrap.json+json": {
       "data": 0.0012308035198792273,
       "encoder": "json",
       "name": "Prior Model MSE",
       "version": 1
      }
     },
     "metadata": {
      "scrapbook": {
       "data": true,
       "display": false,
       "name": "Prior Model MSE"
      }
     },
     "output_type": "display_data"
    },
    {
     "data": {
      "application/scrapbook.scrap.json+json": {
       "data": 0.0015460748418374577,
       "encoder": "json",
       "name": "ABC Pre-generator MSE",
       "version": 1
      }
     },
     "metadata": {
      "scrapbook": {
       "data": true,
       "display": false,
       "name": "ABC Pre-generator MSE"
      }
     },
     "output_type": "display_data"
    },
    {
     "data": {
      "application/scrapbook.scrap.json+json": {
       "data": 0.02408771853630235,
       "encoder": "json",
       "name": "Prior Model MAE",
       "version": 1
      }
     },
     "metadata": {
      "scrapbook": {
       "data": true,
       "display": false,
       "name": "Prior Model MAE"
      }
     },
     "output_type": "display_data"
    },
    {
     "name": "stdout",
     "output_type": "stream",
     "text": [
      "Prior Model MAE 0.02408771853630235\n",
      "ABC Pre-generator MAE 0.028604513573341647\n"
     ]
    }
   ],
   "source": [
    "y_pred = prior_model.predict(X_test)\n",
    "y_abc = y_pred + np.random.normal(0,variance, y_pred.shape) + bias \n",
    "mse = mean_squared_error(y_pred,Y_test)\n",
    "sb.glue(\"Prior Model MSE\",mse)\n",
    "mse = mean_squared_error(y_abc,Y_test)\n",
    "sb.glue(\"ABC Pre-generator MSE\",mse)\n",
    "mae = mean_absolute_error(y_pred,Y_test)\n",
    "sb.glue(\"Prior Model MAE\",mae)\n",
    "print(\"Prior Model MAE\",mae)\n",
    "mae = mean_absolute_error(y_abc,Y_test)\n",
    "print(\"ABC Pre-generator MAE\",mae)"
   ]
  },
  {
   "cell_type": "markdown",
   "id": "25609da2",
   "metadata": {
    "papermill": {
     "duration": 0.019553,
     "end_time": "2022-07-24T13:19:40.682863",
     "exception": false,
     "start_time": "2022-07-24T13:19:40.663310",
     "status": "completed"
    },
    "tags": []
   },
   "source": [
    "# mGAN Model"
   ]
  },
  {
   "cell_type": "code",
   "execution_count": 11,
   "id": "dfc3464d",
   "metadata": {
    "execution": {
     "iopub.execute_input": "2022-07-24T13:19:40.762134Z",
     "iopub.status.busy": "2022-07-24T13:19:40.761674Z",
     "iopub.status.idle": "2022-07-24T13:19:40.768282Z",
     "shell.execute_reply": "2022-07-24T13:19:40.767103Z"
    },
    "papermill": {
     "duration": 0.069647,
     "end_time": "2022-07-24T13:19:40.775313",
     "exception": false,
     "start_time": "2022-07-24T13:19:40.705666",
     "status": "completed"
    },
    "tags": []
   },
   "outputs": [],
   "source": [
    "# gen = network.Generator(n_features+1).to(device)\n",
    "# disc = network.Discriminator(n_features+1).to(device)\n",
    "\n",
    "# criterion = torch.nn.BCELoss()\n",
    "# gen_opt = torch.optim.Adam(gen.parameters(), lr=0.01, betas=(0.5, 0.999))\n",
    "# disc_opt = torch.optim.Adam(disc.parameters(), lr=0.01, betas=(0.5, 0.999))"
   ]
  },
  {
   "cell_type": "code",
   "execution_count": 12,
   "id": "b75fdd85",
   "metadata": {
    "execution": {
     "iopub.execute_input": "2022-07-24T13:19:40.862338Z",
     "iopub.status.busy": "2022-07-24T13:19:40.861702Z",
     "iopub.status.idle": "2022-07-24T13:19:40.866445Z",
     "shell.execute_reply": "2022-07-24T13:19:40.865248Z"
    },
    "papermill": {
     "duration": 0.08219,
     "end_time": "2022-07-24T13:19:40.876743",
     "exception": false,
     "start_time": "2022-07-24T13:19:40.794553",
     "status": "completed"
    },
    "tags": []
   },
   "outputs": [],
   "source": [
    "#Training the ABC_GAN \n",
    "# ABC_train_test2.training_GAN(disc,gen,disc_opt,gen_opt,train_data,batch_size,n_epochs,criterion,prior_model,variance,bias,device)"
   ]
  },
  {
   "cell_type": "code",
   "execution_count": 13,
   "id": "1fa7c368",
   "metadata": {
    "execution": {
     "iopub.execute_input": "2022-07-24T13:19:40.922639Z",
     "iopub.status.busy": "2022-07-24T13:19:40.921715Z",
     "iopub.status.idle": "2022-07-24T13:19:40.928132Z",
     "shell.execute_reply": "2022-07-24T13:19:40.927357Z"
    },
    "papermill": {
     "duration": 0.031157,
     "end_time": "2022-07-24T13:19:40.931031",
     "exception": false,
     "start_time": "2022-07-24T13:19:40.899874",
     "status": "completed"
    },
    "tags": []
   },
   "outputs": [],
   "source": [
    "# ABC_GAN1_metrics=ABC_train_test2.test_generator(gen,test_data,prior_model,variance,bias,\"1\",device)\n",
    "# sb.glue(\"ABC_GAN_1 Metrics\",ABC_GAN1_metrics)\n",
    "\n",
    "# print(\"MAE\")\n",
    "# print(mean(ABC_GAN1_metrics[1]))"
   ]
  },
  {
   "cell_type": "code",
   "execution_count": 14,
   "id": "eb22ce5c",
   "metadata": {
    "execution": {
     "iopub.execute_input": "2022-07-24T13:19:40.969971Z",
     "iopub.status.busy": "2022-07-24T13:19:40.969204Z",
     "iopub.status.idle": "2022-07-24T13:19:40.975420Z",
     "shell.execute_reply": "2022-07-24T13:19:40.974401Z"
    },
    "papermill": {
     "duration": 0.03004,
     "end_time": "2022-07-24T13:19:40.982161",
     "exception": false,
     "start_time": "2022-07-24T13:19:40.952121",
     "status": "completed"
    },
    "tags": []
   },
   "outputs": [],
   "source": [
    "# sanityChecks.discProbVsError(train_data,disc,device)\n",
    "# sanityChecks.discProbVsError(test_data,disc,device)"
   ]
  },
  {
   "cell_type": "markdown",
   "id": "e1d0c930",
   "metadata": {
    "papermill": {
     "duration": 0.02595,
     "end_time": "2022-07-24T13:19:41.025927",
     "exception": false,
     "start_time": "2022-07-24T13:19:40.999977",
     "status": "completed"
    },
    "tags": []
   },
   "source": [
    "# mGAN Model with TabNet Generator"
   ]
  },
  {
   "cell_type": "markdown",
   "id": "24b9400e",
   "metadata": {
    "tags": [
     "papermill-error-cell-tag"
    ]
   },
   "source": [
    "<span id=\"papermill-error-cell\" style=\"color:red; font-family:Helvetica Neue, Helvetica, Arial, sans-serif; font-size:2em;\">Execution using papermill encountered an exception here and stopped:</span>"
   ]
  },
  {
   "cell_type": "code",
   "execution_count": 15,
   "id": "c2c87d7d",
   "metadata": {
    "execution": {
     "iopub.execute_input": "2022-07-24T13:19:41.061197Z",
     "iopub.status.busy": "2022-07-24T13:19:41.060292Z",
     "iopub.status.idle": "2022-07-24T13:19:42.265206Z",
     "shell.execute_reply": "2022-07-24T13:19:42.258888Z"
    },
    "papermill": {
     "duration": 1.226164,
     "end_time": "2022-07-24T13:19:42.270180",
     "exception": true,
     "start_time": "2022-07-24T13:19:41.044016",
     "status": "failed"
    },
    "tags": []
   },
   "outputs": [
    {
     "ename": "NameError",
     "evalue": "name 'pytorch_tabnet' is not defined",
     "output_type": "error",
     "traceback": [
      "\u001b[0;31m---------------------------------------------------------------------------\u001b[0m",
      "\u001b[0;31mNameError\u001b[0m                                 Traceback (most recent call last)",
      "Input \u001b[0;32mIn [15]\u001b[0m, in \u001b[0;36m<cell line: 1>\u001b[0;34m()\u001b[0m\n\u001b[0;32m----> 1\u001b[0m gen2 \u001b[38;5;241m=\u001b[39m \u001b[43mnetwork\u001b[49m\u001b[38;5;241;43m.\u001b[39;49m\u001b[43mGeneratorTabnet\u001b[49m\u001b[43m(\u001b[49m\u001b[43mn_features\u001b[49m\u001b[38;5;241;43m+\u001b[39;49m\u001b[38;5;241;43m1\u001b[39;49m\u001b[43m)\u001b[49m\u001b[38;5;241m.\u001b[39mto(device)\n\u001b[1;32m      2\u001b[0m disc2 \u001b[38;5;241m=\u001b[39m network\u001b[38;5;241m.\u001b[39mDiscriminator(n_features\u001b[38;5;241m+\u001b[39m\u001b[38;5;241m1\u001b[39m)\u001b[38;5;241m.\u001b[39mto(device)\n\u001b[1;32m      4\u001b[0m criterion \u001b[38;5;241m=\u001b[39m torch\u001b[38;5;241m.\u001b[39mnn\u001b[38;5;241m.\u001b[39mBCELoss()\n",
      "File \u001b[0;32m~/Dropbox/My Mac (Pronoma’s MacBook Air)/Desktop/ABC_GAN/ABC_GAN-2/Notebooks4/Energy_efficiency/../../src/network.py:133\u001b[0m, in \u001b[0;36mGeneratorTabnet.__init__\u001b[0;34m(self, n_input)\u001b[0m\n\u001b[1;32m    131\u001b[0m \u001b[38;5;28;01mdef\u001b[39;00m \u001b[38;5;21m__init__\u001b[39m(\u001b[38;5;28mself\u001b[39m,n_input):\n\u001b[1;32m    132\u001b[0m   \u001b[38;5;28msuper\u001b[39m()\u001b[38;5;241m.\u001b[39m\u001b[38;5;21m__init__\u001b[39m()\n\u001b[0;32m--> 133\u001b[0m   \u001b[38;5;28mself\u001b[39m\u001b[38;5;241m.\u001b[39moutput \u001b[38;5;241m=\u001b[39m \u001b[43mpytorch_tabnet\u001b[49m\u001b[38;5;241m.\u001b[39mtab_network\u001b[38;5;241m.\u001b[39mTabNet(n_input, \u001b[38;5;241m1\u001b[39m)\n",
      "\u001b[0;31mNameError\u001b[0m: name 'pytorch_tabnet' is not defined"
     ]
    }
   ],
   "source": [
    "gen2 = network.GeneratorTabnet(n_features+1).to(device)\n",
    "disc2 = network.Discriminator(n_features+1).to(device)\n",
    "\n",
    "criterion = torch.nn.BCELoss()\n",
    "gen_opt = torch.optim.Adam(gen2.parameters(), lr=0.01, betas=(0.5, 0.999))\n",
    "disc_opt = torch.optim.Adam(disc2.parameters(), lr=0.01, betas=(0.5, 0.999))"
   ]
  },
  {
   "cell_type": "code",
   "execution_count": null,
   "id": "372121db",
   "metadata": {
    "papermill": {
     "duration": null,
     "end_time": null,
     "exception": null,
     "start_time": null,
     "status": "pending"
    },
    "tags": []
   },
   "outputs": [],
   "source": [
    "#Training the ABC_GAN \n",
    "ABC_train_test2.training_GAN(disc2,gen2,disc_opt,gen_opt,train_data,batch_size,n_epochs,criterion,prior_model,variance,bias,device)"
   ]
  },
  {
   "cell_type": "code",
   "execution_count": null,
   "id": "d2fd72bf",
   "metadata": {
    "papermill": {
     "duration": null,
     "end_time": null,
     "exception": null,
     "start_time": null,
     "status": "pending"
    },
    "tags": []
   },
   "outputs": [],
   "source": [
    "ABC_GAN2_metrics=ABC_train_test2.test_generator(gen2,test_data,prior_model,variance,bias,\"1\",device)\n",
    "sb.glue(\"ABC_GAN_2 Metrics\",ABC_GAN2_metrics)\n",
    "\n",
    "print(\"MAE\")\n",
    "print(mean(ABC_GAN2_metrics[1]))"
   ]
  },
  {
   "cell_type": "code",
   "execution_count": null,
   "id": "3873535a",
   "metadata": {
    "papermill": {
     "duration": null,
     "end_time": null,
     "exception": null,
     "start_time": null,
     "status": "pending"
    },
    "tags": []
   },
   "outputs": [],
   "source": [
    "sanityChecks.discProbVsError(train_data,disc2,device)\n",
    "sanityChecks.discProbVsError(test_data,disc2,device)"
   ]
  },
  {
   "cell_type": "markdown",
   "id": "130f3a4d",
   "metadata": {
    "id": "130f3a4d",
    "papermill": {
     "duration": null,
     "end_time": null,
     "exception": null,
     "start_time": null,
     "status": "pending"
    },
    "tags": []
   },
   "source": [
    "# skipGAN Model"
   ]
  },
  {
   "cell_type": "code",
   "execution_count": null,
   "id": "4e43dad1",
   "metadata": {
    "id": "4e43dad1",
    "papermill": {
     "duration": null,
     "end_time": null,
     "exception": null,
     "start_time": null,
     "status": "pending"
    },
    "tags": []
   },
   "outputs": [],
   "source": [
    "# #Generator\n",
    "# gen3 = network.GeneratorWithSkipConnection(n_features+1).to(device)\n",
    "# constraints=network.weightConstraint()\n",
    "# #Discriminator \n",
    "# disc3 = network.Discriminator(n_features+1).to(device)\n",
    "\n",
    "# criterion = torch.nn.BCELoss()\n",
    "# gen_opt = torch.optim.Adam(gen3.parameters(), lr=0.01, betas=(0.5, 0.999))\n",
    "# disc_opt = torch.optim.Adam(disc3.parameters(), lr=0.01, betas=(0.5, 0.999))\n"
   ]
  },
  {
   "cell_type": "code",
   "execution_count": null,
   "id": "26acbc37",
   "metadata": {
    "id": "26acbc37",
    "papermill": {
     "duration": null,
     "end_time": null,
     "exception": null,
     "start_time": null,
     "status": "pending"
    },
    "tags": []
   },
   "outputs": [],
   "source": [
    "ABC_train_test2.training_GAN_skip_connection(disc3,gen3,disc_opt,gen_opt,train_data,batch_size,n_epochs,criterion,prior_model,variance,bias,device)"
   ]
  },
  {
   "cell_type": "code",
   "execution_count": null,
   "id": "c5e0717b",
   "metadata": {
    "id": "c5e0717b",
    "papermill": {
     "duration": null,
     "end_time": null,
     "exception": null,
     "start_time": null,
     "status": "pending"
    },
    "tags": []
   },
   "outputs": [],
   "source": [
    "# ABC_GAN3_metrics=ABC_train_test2.test_generator(gen3,test_data,prior_model,variance,bias,\"3\",device)\n",
    "# sb.glue(\"ABC_GAN_3 Metrics\",ABC_GAN3_metrics)\n",
    "\n",
    "# print(\"MAE\")\n",
    "# print(mean(ABC_GAN3_metrics[1]))"
   ]
  },
  {
   "cell_type": "code",
   "execution_count": null,
   "id": "c8e46b48",
   "metadata": {
    "id": "c8e46b48",
    "papermill": {
     "duration": null,
     "end_time": null,
     "exception": null,
     "start_time": null,
     "status": "pending"
    },
    "tags": []
   },
   "outputs": [],
   "source": [
    "# sanityChecks.discProbVsError(train_data,disc3,device)\n",
    "# sanityChecks.discProbVsError(test_data,disc3,device)"
   ]
  },
  {
   "cell_type": "markdown",
   "id": "b1a42d31",
   "metadata": {
    "id": "130f3a4d",
    "papermill": {
     "duration": null,
     "end_time": null,
     "exception": null,
     "start_time": null,
     "status": "pending"
    },
    "tags": []
   },
   "source": [
    "# skipGAN Model with TabNet Generator"
   ]
  },
  {
   "cell_type": "code",
   "execution_count": null,
   "id": "e0e3db0a",
   "metadata": {
    "id": "4e43dad1",
    "papermill": {
     "duration": null,
     "end_time": null,
     "exception": null,
     "start_time": null,
     "status": "pending"
    },
    "tags": []
   },
   "outputs": [],
   "source": [
    "# #Generator\n",
    "# gen4 = network.GeneratorTabnetskipConnection(n_features+1).to(device)\n",
    "# constraints=network.weightConstraint()\n",
    "# #Discriminator \n",
    "# disc4 = network.Discriminator(n_features+1).to(device)\n",
    "\n",
    "# criterion = torch.nn.BCELoss()\n",
    "# gen_opt = torch.optim.Adam(gen4.parameters(), lr=0.01, betas=(0.5, 0.999))\n",
    "# disc_opt = torch.optim.Adam(disc4.parameters(), lr=0.01, betas=(0.5, 0.999))\n"
   ]
  },
  {
   "cell_type": "code",
   "execution_count": null,
   "id": "2e8ccb73",
   "metadata": {
    "id": "26acbc37",
    "papermill": {
     "duration": null,
     "end_time": null,
     "exception": null,
     "start_time": null,
     "status": "pending"
    },
    "tags": []
   },
   "outputs": [],
   "source": [
    "# ABC_train_test2.training_GAN_skip_connection(disc4,gen4,disc_opt,gen_opt,train_data,batch_size,n_epochs,criterion,prior_model,variance,bias,device)"
   ]
  },
  {
   "cell_type": "code",
   "execution_count": null,
   "id": "f74f93aa",
   "metadata": {
    "id": "c5e0717b",
    "papermill": {
     "duration": null,
     "end_time": null,
     "exception": null,
     "start_time": null,
     "status": "pending"
    },
    "tags": []
   },
   "outputs": [],
   "source": [
    "# ABC_GAN4_metrics=ABC_train_test2.test_generator(gen4,test_data,prior_model,variance,bias,\"3\",device)\n",
    "# sb.glue(\"ABC_GAN_4 Metrics\",ABC_GAN4_metrics)\n",
    "\n",
    "# print(\"MAE\")\n",
    "# print(mean(ABC_GAN4_metrics[1]))"
   ]
  },
  {
   "cell_type": "code",
   "execution_count": null,
   "id": "195c199e",
   "metadata": {
    "id": "c8e46b48",
    "papermill": {
     "duration": null,
     "end_time": null,
     "exception": null,
     "start_time": null,
     "status": "pending"
    },
    "tags": []
   },
   "outputs": [],
   "source": [
    "# sanityChecks.discProbVsError(train_data,disc4,device)\n",
    "# sanityChecks.discProbVsError(test_data,disc4,device)"
   ]
  },
  {
   "cell_type": "markdown",
   "id": "a5bd74c3",
   "metadata": {
    "id": "a5bd74c3",
    "papermill": {
     "duration": null,
     "end_time": null,
     "exception": null,
     "start_time": null,
     "status": "pending"
    },
    "tags": []
   },
   "source": [
    "## Skip Connection Model Analysis - ABC-GAN "
   ]
  },
  {
   "cell_type": "markdown",
   "id": "5744a8bf",
   "metadata": {
    "id": "5744a8bf",
    "papermill": {
     "duration": null,
     "end_time": null,
     "exception": null,
     "start_time": null,
     "status": "pending"
    },
    "tags": []
   },
   "source": [
    "### Weight Analysis \n",
    "\n",
    "Study the weights of the skip connection layer\n",
    "\n",
    "Equation of the skip connection is \n",
    "\n",
    "$output = y_{gan} * w + y_{abc} * (1-w)$"
   ]
  },
  {
   "cell_type": "code",
   "execution_count": null,
   "id": "52c31dea",
   "metadata": {
    "id": "52c31dea",
    "papermill": {
     "duration": null,
     "end_time": null,
     "exception": null,
     "start_time": null,
     "status": "pending"
    },
    "tags": []
   },
   "outputs": [],
   "source": [
    "# print(\"Weight of the node at skip connection\")\n",
    "# for name,param in gen3.named_parameters():\n",
    "#     if(name == \"skipNode.weight\"):\n",
    "#         print(param)\n",
    "#         sb.glue(\"Skip Connection Weight\",param.item())"
   ]
  },
  {
   "cell_type": "markdown",
   "id": "aecbf660",
   "metadata": {
    "id": "a5bd74c3",
    "papermill": {
     "duration": null,
     "end_time": null,
     "exception": null,
     "start_time": null,
     "status": "pending"
    },
    "tags": []
   },
   "source": [
    "## skipGAN Model Analysis (TabNet Generator) "
   ]
  },
  {
   "cell_type": "markdown",
   "id": "76d624fb",
   "metadata": {
    "id": "5744a8bf",
    "papermill": {
     "duration": null,
     "end_time": null,
     "exception": null,
     "start_time": null,
     "status": "pending"
    },
    "tags": []
   },
   "source": [
    "### Weight Analysis \n",
    "\n",
    "Study the weights of the skip connection layer\n",
    "\n",
    "Equation of the skip connection is \n",
    "\n",
    "$output = y_{gan} * w + y_{abc} * (1-w)$"
   ]
  },
  {
   "cell_type": "code",
   "execution_count": null,
   "id": "678135e3",
   "metadata": {
    "id": "52c31dea",
    "papermill": {
     "duration": null,
     "end_time": null,
     "exception": null,
     "start_time": null,
     "status": "pending"
    },
    "tags": []
   },
   "outputs": [],
   "source": [
    "# print(\"Weight of the node at skip connection\")\n",
    "# for name,param in gen4.named_parameters():\n",
    "#     if(name == \"skipNode.weight\"):\n",
    "#         print(param)\n",
    "#         sb.glue(\"Skip Connection Weight\",param.item())"
   ]
  }
 ],
 "metadata": {
  "colab": {
   "collapsed_sections": [],
   "name": "ABC_GAN_Model-Catboost_Pre-gen.ipynb",
   "provenance": []
  },
  "interpreter": {
   "hash": "31f2aee4e71d21fbe5cf8b01ff0e069b9275f58929596ceb00d14d90e3e16cd6"
  },
  "kernelspec": {
   "display_name": "Python 3 (ipykernel)",
   "language": "python",
   "name": "python3"
  },
  "language_info": {
   "codemirror_mode": {
    "name": "ipython",
    "version": 3
   },
   "file_extension": ".py",
   "mimetype": "text/x-python",
   "name": "python",
   "nbconvert_exporter": "python",
   "pygments_lexer": "ipython3",
   "version": "3.8.13"
  },
  "papermill": {
   "default_parameters": {},
   "duration": 19.597346,
   "end_time": "2022-07-24T13:19:43.658099",
   "environment_variables": {},
   "exception": true,
   "input_path": "ABC_GAN-Catboost.ipynb",
   "output_path": "./ABC_GAN_Catboost/ABC-GAN_output_3_8.ipynb",
   "parameters": {
    "bias": 0.01,
    "variance": 0.01
   },
   "start_time": "2022-07-24T13:19:24.060753",
   "version": "2.3.3"
  }
 },
 "nbformat": 4,
 "nbformat_minor": 5
}