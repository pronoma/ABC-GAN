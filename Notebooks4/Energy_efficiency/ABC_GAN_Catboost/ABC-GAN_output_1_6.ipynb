{
 "cells": [
  {
   "cell_type": "markdown",
   "id": "622780e6",
   "metadata": {
    "id": "622780e6",
    "papermill": {
     "duration": 0.009127,
     "end_time": "2022-07-24T19:04:15.401042",
     "exception": false,
     "start_time": "2022-07-24T19:04:15.391915",
     "status": "completed"
    },
    "tags": []
   },
   "source": [
    "## Import Libraries "
   ]
  },
  {
   "cell_type": "code",
   "execution_count": 1,
   "id": "a62397e3",
   "metadata": {
    "execution": {
     "iopub.execute_input": "2022-07-24T19:04:15.425353Z",
     "iopub.status.busy": "2022-07-24T19:04:15.423897Z",
     "iopub.status.idle": "2022-07-24T19:04:15.439488Z",
     "shell.execute_reply": "2022-07-24T19:04:15.438535Z"
    },
    "id": "a62397e3",
    "papermill": {
     "duration": 0.032356,
     "end_time": "2022-07-24T19:04:15.442485",
     "exception": false,
     "start_time": "2022-07-24T19:04:15.410129",
     "status": "completed"
    },
    "tags": []
   },
   "outputs": [],
   "source": [
    "import warnings\n",
    "import sys\n",
    "sys.path.insert(0, '../../src')\n",
    "warnings.filterwarnings('ignore')"
   ]
  },
  {
   "cell_type": "code",
   "execution_count": 2,
   "id": "d6a4e155",
   "metadata": {
    "execution": {
     "iopub.execute_input": "2022-07-24T19:04:15.464322Z",
     "iopub.status.busy": "2022-07-24T19:04:15.463705Z",
     "iopub.status.idle": "2022-07-24T19:04:29.142577Z",
     "shell.execute_reply": "2022-07-24T19:04:29.137795Z"
    },
    "id": "d6a4e155",
    "papermill": {
     "duration": 13.701804,
     "end_time": "2022-07-24T19:04:29.153722",
     "exception": false,
     "start_time": "2022-07-24T19:04:15.451918",
     "status": "completed"
    },
    "tags": []
   },
   "outputs": [],
   "source": [
    "import ABC_train_test2\n",
    "import energyefficiencyDataset\n",
    "import network\n",
    "import dataset\n",
    "import sanityChecks\n",
    "import torch \n",
    "import scrapbook as sb\n",
    "from statistics import mean \n",
    "import catboost as ctb \n",
    "from sklearn.model_selection import train_test_split\n",
    "from sklearn.metrics import mean_squared_error,mean_absolute_error\n",
    "import numpy as np"
   ]
  },
  {
   "cell_type": "markdown",
   "id": "2fa5b0f7",
   "metadata": {
    "id": "2fa5b0f7",
    "papermill": {
     "duration": 0.014772,
     "end_time": "2022-07-24T19:04:29.185834",
     "exception": false,
     "start_time": "2022-07-24T19:04:29.171062",
     "status": "completed"
    },
    "tags": []
   },
   "source": [
    "## Parameters "
   ]
  },
  {
   "cell_type": "code",
   "execution_count": 3,
   "id": "783186fb",
   "metadata": {
    "execution": {
     "iopub.execute_input": "2022-07-24T19:04:29.221563Z",
     "iopub.status.busy": "2022-07-24T19:04:29.220298Z",
     "iopub.status.idle": "2022-07-24T19:04:29.236960Z",
     "shell.execute_reply": "2022-07-24T19:04:29.233628Z"
    },
    "id": "783186fb",
    "papermill": {
     "duration": 0.04519,
     "end_time": "2022-07-24T19:04:29.245457",
     "exception": false,
     "start_time": "2022-07-24T19:04:29.200267",
     "status": "completed"
    },
    "tags": [
     "parameters"
    ]
   },
   "outputs": [],
   "source": [
    "variance = 1\n",
    "bias = 1 "
   ]
  },
  {
   "cell_type": "code",
   "execution_count": 4,
   "id": "a22e7e16",
   "metadata": {
    "execution": {
     "iopub.execute_input": "2022-07-24T19:04:29.314728Z",
     "iopub.status.busy": "2022-07-24T19:04:29.314138Z",
     "iopub.status.idle": "2022-07-24T19:04:29.321522Z",
     "shell.execute_reply": "2022-07-24T19:04:29.320119Z"
    },
    "papermill": {
     "duration": 0.029739,
     "end_time": "2022-07-24T19:04:29.328551",
     "exception": false,
     "start_time": "2022-07-24T19:04:29.298812",
     "status": "completed"
    },
    "tags": [
     "injected-parameters"
    ]
   },
   "outputs": [],
   "source": [
    "# Parameters\n",
    "variance = 1\n",
    "bias = 0.01\n"
   ]
  },
  {
   "cell_type": "markdown",
   "id": "391cdbfd",
   "metadata": {
    "id": "391cdbfd",
    "papermill": {
     "duration": 0.014279,
     "end_time": "2022-07-24T19:04:29.358175",
     "exception": false,
     "start_time": "2022-07-24T19:04:29.343896",
     "status": "completed"
    },
    "tags": []
   },
   "source": [
    "## Dataset \n"
   ]
  },
  {
   "cell_type": "code",
   "execution_count": 5,
   "id": "5b51f161",
   "metadata": {
    "execution": {
     "iopub.execute_input": "2022-07-24T19:04:29.400068Z",
     "iopub.status.busy": "2022-07-24T19:04:29.398460Z",
     "iopub.status.idle": "2022-07-24T19:04:29.408143Z",
     "shell.execute_reply": "2022-07-24T19:04:29.406074Z"
    },
    "id": "5b51f161",
    "papermill": {
     "duration": 0.031891,
     "end_time": "2022-07-24T19:04:29.413721",
     "exception": false,
     "start_time": "2022-07-24T19:04:29.381830",
     "status": "completed"
    },
    "tags": []
   },
   "outputs": [],
   "source": [
    "#Parameters \n",
    "n_features = 8\n",
    "n_samples= 768\n",
    "n_target = 1 "
   ]
  },
  {
   "cell_type": "code",
   "execution_count": 6,
   "id": "5d6eced4",
   "metadata": {
    "execution": {
     "iopub.execute_input": "2022-07-24T19:04:29.439099Z",
     "iopub.status.busy": "2022-07-24T19:04:29.437906Z",
     "iopub.status.idle": "2022-07-24T19:04:30.156456Z",
     "shell.execute_reply": "2022-07-24T19:04:30.153983Z"
    },
    "id": "5d6eced4",
    "papermill": {
     "duration": 0.736671,
     "end_time": "2022-07-24T19:04:30.160484",
     "exception": false,
     "start_time": "2022-07-24T19:04:29.423813",
     "status": "completed"
    },
    "tags": []
   },
   "outputs": [
    {
     "name": "stdout",
     "output_type": "stream",
     "text": [
      "     X1     X2     X3      X4   X5  X6   X7  X8     Y1     Y2\n",
      "0  0.98  514.5  294.0  110.25  7.0   2  0.0   0  15.55  21.33\n",
      "1  0.98  514.5  294.0  110.25  7.0   3  0.0   0  15.55  21.33\n",
      "2  0.98  514.5  294.0  110.25  7.0   4  0.0   0  15.55  21.33\n",
      "3  0.98  514.5  294.0  110.25  7.0   5  0.0   0  15.55  21.33\n",
      "4  0.90  563.5  318.5  122.50  7.0   2  0.0   0  20.84  28.28\n"
     ]
    }
   ],
   "source": [
    "X,Y = energyefficiencyDataset.energy_data()"
   ]
  },
  {
   "cell_type": "code",
   "execution_count": 7,
   "id": "fe007438",
   "metadata": {
    "execution": {
     "iopub.execute_input": "2022-07-24T19:04:30.186480Z",
     "iopub.status.busy": "2022-07-24T19:04:30.185763Z",
     "iopub.status.idle": "2022-07-24T19:04:30.193615Z",
     "shell.execute_reply": "2022-07-24T19:04:30.192041Z"
    },
    "id": "fe007438",
    "papermill": {
     "duration": 0.024629,
     "end_time": "2022-07-24T19:04:30.196611",
     "exception": false,
     "start_time": "2022-07-24T19:04:30.171982",
     "status": "completed"
    },
    "tags": []
   },
   "outputs": [],
   "source": [
    "#Train test split for dataset \n",
    "X_train,X_test,Y_train,Y_test = train_test_split(X,Y,test_size = 0.2)\n",
    "train_data = dataset.CustomDataset(X_train,Y_train)\n",
    "test_data = dataset.CustomDataset(X_test,Y_test)\n"
   ]
  },
  {
   "cell_type": "markdown",
   "id": "a9a1af34",
   "metadata": {
    "id": "a9a1af34",
    "papermill": {
     "duration": 0.009698,
     "end_time": "2022-07-24T19:04:30.216068",
     "exception": false,
     "start_time": "2022-07-24T19:04:30.206370",
     "status": "completed"
    },
    "tags": []
   },
   "source": [
    "## Training Parameters "
   ]
  },
  {
   "cell_type": "code",
   "execution_count": 8,
   "id": "952b7fc8",
   "metadata": {
    "execution": {
     "iopub.execute_input": "2022-07-24T19:04:30.237311Z",
     "iopub.status.busy": "2022-07-24T19:04:30.236684Z",
     "iopub.status.idle": "2022-07-24T19:04:30.245273Z",
     "shell.execute_reply": "2022-07-24T19:04:30.242833Z"
    },
    "id": "952b7fc8",
    "papermill": {
     "duration": 0.024263,
     "end_time": "2022-07-24T19:04:30.249234",
     "exception": false,
     "start_time": "2022-07-24T19:04:30.224971",
     "status": "completed"
    },
    "tags": []
   },
   "outputs": [],
   "source": [
    "batch_size = 32\n",
    "n_epochs = 1000\n",
    "#Select the device \n",
    "device = torch.device('cuda' if torch.cuda.is_available() else 'cpu')"
   ]
  },
  {
   "cell_type": "markdown",
   "id": "a95e1600",
   "metadata": {
    "id": "a95e1600",
    "papermill": {
     "duration": 0.009728,
     "end_time": "2022-07-24T19:04:30.268413",
     "exception": false,
     "start_time": "2022-07-24T19:04:30.258685",
     "status": "completed"
    },
    "tags": []
   },
   "source": [
    "# ABC Pre-generator Model \n",
    "\n",
    "1. The catboost model is used as a pre-generator model for the ABC-GAN. \n",
    "2. The model is first trained on the entire dataset \n",
    "3. It generats X,Y pairs and we add some Gaussian noise with mean 0 and variance 1 to it which is then feed as input to the generator.\n"
   ]
  },
  {
   "cell_type": "code",
   "execution_count": 9,
   "id": "ff8ce7bd",
   "metadata": {
    "execution": {
     "iopub.execute_input": "2022-07-24T19:04:30.288004Z",
     "iopub.status.busy": "2022-07-24T19:04:30.287342Z",
     "iopub.status.idle": "2022-07-24T19:04:31.399023Z",
     "shell.execute_reply": "2022-07-24T19:04:31.398158Z"
    },
    "id": "ff8ce7bd",
    "papermill": {
     "duration": 1.125086,
     "end_time": "2022-07-24T19:04:31.401707",
     "exception": false,
     "start_time": "2022-07-24T19:04:30.276621",
     "status": "completed"
    },
    "tags": []
   },
   "outputs": [
    {
     "name": "stdout",
     "output_type": "stream",
     "text": [
      "Learning rate set to 0.037906\n"
     ]
    },
    {
     "name": "stdout",
     "output_type": "stream",
     "text": [
      "0:\tlearn: 0.9805587\ttotal: 52.2ms\tremaining: 52.1s\n",
      "1:\tlearn: 0.9476229\ttotal: 53.9ms\tremaining: 26.9s\n",
      "2:\tlearn: 0.9197232\ttotal: 54.4ms\tremaining: 18.1s\n",
      "3:\tlearn: 0.8887383\ttotal: 56ms\tremaining: 13.9s\n",
      "4:\tlearn: 0.8595208\ttotal: 56.9ms\tremaining: 11.3s\n",
      "5:\tlearn: 0.8333135\ttotal: 57.6ms\tremaining: 9.54s\n",
      "6:\tlearn: 0.8086424\ttotal: 58.1ms\tremaining: 8.25s\n",
      "7:\tlearn: 0.7838206\ttotal: 58.9ms\tremaining: 7.31s\n",
      "8:\tlearn: 0.7578430\ttotal: 59.7ms\tremaining: 6.58s\n",
      "9:\tlearn: 0.7342204\ttotal: 61.9ms\tremaining: 6.13s\n",
      "10:\tlearn: 0.7113019\ttotal: 62.3ms\tremaining: 5.6s\n",
      "11:\tlearn: 0.6901567\ttotal: 62.7ms\tremaining: 5.17s\n",
      "12:\tlearn: 0.6680900\ttotal: 63.8ms\tremaining: 4.84s\n",
      "13:\tlearn: 0.6473822\ttotal: 65ms\tremaining: 4.58s\n",
      "14:\tlearn: 0.6270713\ttotal: 66.2ms\tremaining: 4.34s\n",
      "15:\tlearn: 0.6065429\ttotal: 66.8ms\tremaining: 4.11s\n",
      "16:\tlearn: 0.5877742\ttotal: 67.2ms\tremaining: 3.88s\n",
      "17:\tlearn: 0.5704327\ttotal: 68ms\tremaining: 3.71s\n",
      "18:\tlearn: 0.5538438\ttotal: 68.4ms\tremaining: 3.53s\n",
      "19:\tlearn: 0.5364078\ttotal: 69ms\tremaining: 3.38s\n",
      "20:\tlearn: 0.5219542\ttotal: 70ms\tremaining: 3.26s\n",
      "21:\tlearn: 0.5072496\ttotal: 70.7ms\tremaining: 3.14s\n",
      "22:\tlearn: 0.4921401\ttotal: 71.1ms\tremaining: 3.02s\n",
      "23:\tlearn: 0.4780401\ttotal: 71.7ms\tremaining: 2.91s\n",
      "24:\tlearn: 0.4654501\ttotal: 72.3ms\tremaining: 2.82s\n",
      "25:\tlearn: 0.4514853\ttotal: 72.7ms\tremaining: 2.72s\n",
      "26:\tlearn: 0.4381021\ttotal: 73.2ms\tremaining: 2.64s\n",
      "27:\tlearn: 0.4249576\ttotal: 73.7ms\tremaining: 2.56s\n",
      "28:\tlearn: 0.4142968\ttotal: 74.3ms\tremaining: 2.49s\n",
      "29:\tlearn: 0.4044718\ttotal: 74.6ms\tremaining: 2.41s\n",
      "30:\tlearn: 0.3927960\ttotal: 75ms\tremaining: 2.34s\n",
      "31:\tlearn: 0.3815030\ttotal: 75.4ms\tremaining: 2.28s\n",
      "32:\tlearn: 0.3705888\ttotal: 76ms\tremaining: 2.23s\n",
      "33:\tlearn: 0.3604197\ttotal: 76.5ms\tremaining: 2.17s\n",
      "34:\tlearn: 0.3509391\ttotal: 76.9ms\tremaining: 2.12s\n",
      "35:\tlearn: 0.3411009\ttotal: 77.3ms\tremaining: 2.07s\n",
      "36:\tlearn: 0.3306697\ttotal: 77.8ms\tremaining: 2.02s\n",
      "37:\tlearn: 0.3212282\ttotal: 78.2ms\tremaining: 1.98s\n",
      "38:\tlearn: 0.3133840\ttotal: 78.7ms\tremaining: 1.94s\n",
      "39:\tlearn: 0.3039111\ttotal: 79.3ms\tremaining: 1.9s\n",
      "40:\tlearn: 0.2957954\ttotal: 79.6ms\tremaining: 1.86s\n",
      "41:\tlearn: 0.2878805\ttotal: 80ms\tremaining: 1.82s\n",
      "42:\tlearn: 0.2804030\ttotal: 80.6ms\tremaining: 1.79s\n",
      "43:\tlearn: 0.2722971\ttotal: 81.2ms\tremaining: 1.76s\n",
      "44:\tlearn: 0.2649912\ttotal: 81.5ms\tremaining: 1.73s\n",
      "45:\tlearn: 0.2581110\ttotal: 81.9ms\tremaining: 1.7s\n",
      "46:\tlearn: 0.2518154\ttotal: 82.3ms\tremaining: 1.67s\n",
      "47:\tlearn: 0.2451430\ttotal: 82.8ms\tremaining: 1.64s\n",
      "48:\tlearn: 0.2388619\ttotal: 83.4ms\tremaining: 1.62s\n",
      "49:\tlearn: 0.2335128\ttotal: 84ms\tremaining: 1.6s\n",
      "50:\tlearn: 0.2270538\ttotal: 84.5ms\tremaining: 1.57s\n",
      "51:\tlearn: 0.2215779\ttotal: 85ms\tremaining: 1.55s\n",
      "52:\tlearn: 0.2167923\ttotal: 85.5ms\tremaining: 1.53s\n",
      "53:\tlearn: 0.2117503\ttotal: 85.8ms\tremaining: 1.5s\n",
      "54:\tlearn: 0.2059111\ttotal: 86.3ms\tremaining: 1.48s\n",
      "55:\tlearn: 0.2003084\ttotal: 86.9ms\tremaining: 1.46s\n",
      "56:\tlearn: 0.1952501\ttotal: 87.5ms\tremaining: 1.45s\n",
      "57:\tlearn: 0.1900478\ttotal: 87.9ms\tremaining: 1.43s\n",
      "58:\tlearn: 0.1845980\ttotal: 88.3ms\tremaining: 1.41s\n",
      "59:\tlearn: 0.1811782\ttotal: 88.6ms\tremaining: 1.39s\n",
      "60:\tlearn: 0.1766306\ttotal: 89.1ms\tremaining: 1.37s\n",
      "61:\tlearn: 0.1719752\ttotal: 89.9ms\tremaining: 1.36s\n",
      "62:\tlearn: 0.1690886\ttotal: 90.5ms\tremaining: 1.34s\n",
      "63:\tlearn: 0.1651400\ttotal: 90.9ms\tremaining: 1.33s\n",
      "64:\tlearn: 0.1623392\ttotal: 91.4ms\tremaining: 1.31s\n",
      "65:\tlearn: 0.1585227\ttotal: 91.9ms\tremaining: 1.3s\n",
      "66:\tlearn: 0.1547119\ttotal: 92.3ms\tremaining: 1.28s\n",
      "67:\tlearn: 0.1515254\ttotal: 92.9ms\tremaining: 1.27s\n",
      "68:\tlearn: 0.1483357\ttotal: 93.7ms\tremaining: 1.26s\n",
      "69:\tlearn: 0.1450202\ttotal: 94.2ms\tremaining: 1.25s\n",
      "70:\tlearn: 0.1430465\ttotal: 94.5ms\tremaining: 1.24s\n",
      "71:\tlearn: 0.1402569\ttotal: 94.9ms\tremaining: 1.22s\n",
      "72:\tlearn: 0.1370818\ttotal: 95.5ms\tremaining: 1.21s\n",
      "73:\tlearn: 0.1337075\ttotal: 96.3ms\tremaining: 1.2s\n",
      "74:\tlearn: 0.1307373\ttotal: 96.8ms\tremaining: 1.19s\n",
      "75:\tlearn: 0.1280638\ttotal: 97.4ms\tremaining: 1.18s\n",
      "76:\tlearn: 0.1253689\ttotal: 98.7ms\tremaining: 1.18s\n",
      "77:\tlearn: 0.1226090\ttotal: 99.1ms\tremaining: 1.17s\n",
      "78:\tlearn: 0.1198032\ttotal: 99.6ms\tremaining: 1.16s\n",
      "79:\tlearn: 0.1176285\ttotal: 101ms\tremaining: 1.16s\n",
      "80:\tlearn: 0.1152726\ttotal: 102ms\tremaining: 1.15s\n",
      "81:\tlearn: 0.1134502\ttotal: 102ms\tremaining: 1.14s\n",
      "82:\tlearn: 0.1110768\ttotal: 103ms\tremaining: 1.14s\n",
      "83:\tlearn: 0.1087903\ttotal: 103ms\tremaining: 1.13s\n",
      "84:\tlearn: 0.1070179\ttotal: 104ms\tremaining: 1.12s\n",
      "85:\tlearn: 0.1049735\ttotal: 104ms\tremaining: 1.11s\n",
      "86:\tlearn: 0.1035817\ttotal: 105ms\tremaining: 1.1s\n",
      "87:\tlearn: 0.1020858\ttotal: 106ms\tremaining: 1.1s\n",
      "88:\tlearn: 0.1007586\ttotal: 107ms\tremaining: 1.09s\n",
      "89:\tlearn: 0.0987508\ttotal: 108ms\tremaining: 1.09s\n",
      "90:\tlearn: 0.0972966\ttotal: 108ms\tremaining: 1.08s\n",
      "91:\tlearn: 0.0958450\ttotal: 109ms\tremaining: 1.08s\n",
      "92:\tlearn: 0.0938603\ttotal: 110ms\tremaining: 1.07s\n",
      "93:\tlearn: 0.0919622\ttotal: 110ms\tremaining: 1.06s\n",
      "94:\tlearn: 0.0900077\ttotal: 111ms\tremaining: 1.05s\n",
      "95:\tlearn: 0.0880661\ttotal: 111ms\tremaining: 1.05s\n",
      "96:\tlearn: 0.0870602\ttotal: 112ms\tremaining: 1.04s\n",
      "97:\tlearn: 0.0860401\ttotal: 113ms\tremaining: 1.04s\n",
      "98:\tlearn: 0.0851334\ttotal: 114ms\tremaining: 1.03s\n",
      "99:\tlearn: 0.0834263\ttotal: 114ms\tremaining: 1.03s\n",
      "100:\tlearn: 0.0827364\ttotal: 115ms\tremaining: 1.02s\n",
      "101:\tlearn: 0.0816677\ttotal: 115ms\tremaining: 1.01s\n",
      "102:\tlearn: 0.0802530\ttotal: 116ms\tremaining: 1.01s\n",
      "103:\tlearn: 0.0789068\ttotal: 116ms\tremaining: 1s\n",
      "104:\tlearn: 0.0776673\ttotal: 118ms\tremaining: 1s\n",
      "105:\tlearn: 0.0770570\ttotal: 118ms\tremaining: 998ms\n",
      "106:\tlearn: 0.0758799\ttotal: 119ms\tremaining: 992ms\n",
      "107:\tlearn: 0.0745024\ttotal: 119ms\tremaining: 986ms\n",
      "108:\tlearn: 0.0733292\ttotal: 120ms\tremaining: 978ms\n",
      "109:\tlearn: 0.0724295\ttotal: 121ms\tremaining: 976ms\n",
      "110:\tlearn: 0.0716317\ttotal: 121ms\tremaining: 971ms\n",
      "111:\tlearn: 0.0706255\ttotal: 122ms\tremaining: 966ms\n",
      "112:\tlearn: 0.0699620\ttotal: 122ms\tremaining: 961ms\n",
      "113:\tlearn: 0.0689542\ttotal: 123ms\tremaining: 955ms\n",
      "114:\tlearn: 0.0679271\ttotal: 123ms\tremaining: 950ms\n",
      "115:\tlearn: 0.0671765\ttotal: 124ms\tremaining: 946ms\n",
      "116:\tlearn: 0.0663215\ttotal: 125ms\tremaining: 941ms\n",
      "117:\tlearn: 0.0654314\ttotal: 125ms\tremaining: 936ms\n",
      "118:\tlearn: 0.0645940\ttotal: 126ms\tremaining: 931ms\n",
      "119:\tlearn: 0.0642142\ttotal: 126ms\tremaining: 926ms\n",
      "120:\tlearn: 0.0633983\ttotal: 127ms\tremaining: 922ms\n",
      "121:\tlearn: 0.0628153\ttotal: 128ms\tremaining: 918ms\n",
      "122:\tlearn: 0.0620489\ttotal: 128ms\tremaining: 914ms\n",
      "123:\tlearn: 0.0613647\ttotal: 129ms\tremaining: 909ms\n",
      "124:\tlearn: 0.0608930\ttotal: 129ms\tremaining: 905ms\n",
      "125:\tlearn: 0.0605675\ttotal: 130ms\tremaining: 901ms\n",
      "126:\tlearn: 0.0600621\ttotal: 130ms\tremaining: 896ms\n",
      "127:\tlearn: 0.0594875\ttotal: 131ms\tremaining: 893ms\n",
      "128:\tlearn: 0.0590662\ttotal: 132ms\tremaining: 891ms\n",
      "129:\tlearn: 0.0585811\ttotal: 133ms\tremaining: 889ms\n",
      "130:\tlearn: 0.0581761\ttotal: 133ms\tremaining: 884ms\n",
      "131:\tlearn: 0.0578195\ttotal: 134ms\tremaining: 881ms\n",
      "132:\tlearn: 0.0574525\ttotal: 135ms\tremaining: 878ms\n",
      "133:\tlearn: 0.0571622\ttotal: 135ms\tremaining: 874ms\n",
      "134:\tlearn: 0.0566647\ttotal: 136ms\tremaining: 870ms\n",
      "135:\tlearn: 0.0562925\ttotal: 136ms\tremaining: 867ms\n",
      "136:\tlearn: 0.0559736\ttotal: 137ms\tremaining: 864ms\n",
      "137:\tlearn: 0.0558414\ttotal: 137ms\tremaining: 858ms\n",
      "138:\tlearn: 0.0555481\ttotal: 138ms\tremaining: 856ms\n",
      "139:\tlearn: 0.0551148\ttotal: 139ms\tremaining: 854ms\n",
      "140:\tlearn: 0.0547415\ttotal: 140ms\tremaining: 852ms\n",
      "141:\tlearn: 0.0545013\ttotal: 141ms\tremaining: 849ms\n",
      "142:\tlearn: 0.0542331\ttotal: 141ms\tremaining: 847ms\n",
      "143:\tlearn: 0.0538324\ttotal: 142ms\tremaining: 844ms\n",
      "144:\tlearn: 0.0534482\ttotal: 142ms\tremaining: 840ms\n",
      "145:\tlearn: 0.0531276\ttotal: 143ms\tremaining: 837ms\n",
      "146:\tlearn: 0.0529055\ttotal: 143ms\tremaining: 832ms\n",
      "147:\tlearn: 0.0526340\ttotal: 144ms\tremaining: 828ms\n",
      "148:\tlearn: 0.0524079\ttotal: 144ms\tremaining: 825ms\n",
      "149:\tlearn: 0.0521920\ttotal: 145ms\tremaining: 824ms\n",
      "150:\tlearn: 0.0518986\ttotal: 146ms\tremaining: 820ms\n",
      "151:\tlearn: 0.0515593\ttotal: 146ms\tremaining: 817ms\n",
      "152:\tlearn: 0.0511776\ttotal: 147ms\tremaining: 813ms\n",
      "153:\tlearn: 0.0509078\ttotal: 148ms\tremaining: 811ms\n",
      "154:\tlearn: 0.0507048\ttotal: 148ms\tremaining: 808ms\n",
      "155:\tlearn: 0.0505191\ttotal: 149ms\tremaining: 804ms\n",
      "156:\tlearn: 0.0502528\ttotal: 149ms\tremaining: 802ms\n",
      "157:\tlearn: 0.0500667\ttotal: 150ms\tremaining: 799ms\n",
      "158:\tlearn: 0.0497716\ttotal: 150ms\tremaining: 796ms\n",
      "159:\tlearn: 0.0495655\ttotal: 151ms\tremaining: 794ms\n",
      "160:\tlearn: 0.0493226\ttotal: 152ms\tremaining: 791ms\n",
      "161:\tlearn: 0.0491487\ttotal: 152ms\tremaining: 789ms\n",
      "162:\tlearn: 0.0488745\ttotal: 153ms\tremaining: 787ms\n",
      "163:\tlearn: 0.0486305\ttotal: 154ms\tremaining: 784ms\n",
      "164:\tlearn: 0.0484712\ttotal: 154ms\tremaining: 782ms\n"
     ]
    },
    {
     "name": "stdout",
     "output_type": "stream",
     "text": [
      "165:\tlearn: 0.0482850\ttotal: 156ms\tremaining: 784ms\n",
      "166:\tlearn: 0.0480865\ttotal: 157ms\tremaining: 782ms\n",
      "167:\tlearn: 0.0478480\ttotal: 158ms\tremaining: 780ms\n",
      "168:\tlearn: 0.0476411\ttotal: 159ms\tremaining: 780ms\n",
      "169:\tlearn: 0.0474496\ttotal: 159ms\tremaining: 778ms\n",
      "170:\tlearn: 0.0472415\ttotal: 160ms\tremaining: 775ms\n",
      "171:\tlearn: 0.0470498\ttotal: 160ms\tremaining: 772ms\n",
      "172:\tlearn: 0.0467808\ttotal: 161ms\tremaining: 769ms\n",
      "173:\tlearn: 0.0465794\ttotal: 162ms\tremaining: 767ms\n",
      "174:\tlearn: 0.0464332\ttotal: 162ms\tremaining: 764ms\n",
      "175:\tlearn: 0.0462698\ttotal: 163ms\tremaining: 761ms\n",
      "176:\tlearn: 0.0461811\ttotal: 163ms\tremaining: 758ms\n",
      "177:\tlearn: 0.0460208\ttotal: 164ms\tremaining: 755ms\n",
      "178:\tlearn: 0.0458057\ttotal: 164ms\tremaining: 754ms\n",
      "179:\tlearn: 0.0456481\ttotal: 166ms\tremaining: 757ms\n",
      "180:\tlearn: 0.0455174\ttotal: 167ms\tremaining: 755ms\n",
      "181:\tlearn: 0.0453176\ttotal: 168ms\tremaining: 753ms\n",
      "182:\tlearn: 0.0451504\ttotal: 169ms\tremaining: 754ms\n",
      "183:\tlearn: 0.0450403\ttotal: 170ms\tremaining: 753ms\n",
      "184:\tlearn: 0.0449147\ttotal: 171ms\tremaining: 752ms\n",
      "185:\tlearn: 0.0447406\ttotal: 171ms\tremaining: 750ms\n",
      "186:\tlearn: 0.0446021\ttotal: 172ms\tremaining: 747ms\n",
      "187:\tlearn: 0.0444589\ttotal: 173ms\tremaining: 745ms\n",
      "188:\tlearn: 0.0443302\ttotal: 174ms\tremaining: 744ms\n",
      "189:\tlearn: 0.0442116\ttotal: 175ms\tremaining: 745ms\n",
      "190:\tlearn: 0.0440162\ttotal: 175ms\tremaining: 743ms\n",
      "191:\tlearn: 0.0438634\ttotal: 176ms\tremaining: 741ms\n",
      "192:\tlearn: 0.0435695\ttotal: 176ms\tremaining: 738ms\n",
      "193:\tlearn: 0.0434287\ttotal: 177ms\tremaining: 737ms\n",
      "194:\tlearn: 0.0433159\ttotal: 178ms\tremaining: 734ms\n",
      "195:\tlearn: 0.0431405\ttotal: 178ms\tremaining: 730ms\n",
      "196:\tlearn: 0.0429318\ttotal: 179ms\tremaining: 729ms\n",
      "197:\tlearn: 0.0428219\ttotal: 180ms\tremaining: 727ms\n",
      "198:\tlearn: 0.0425867\ttotal: 180ms\tremaining: 725ms\n",
      "199:\tlearn: 0.0424665\ttotal: 181ms\tremaining: 723ms\n",
      "200:\tlearn: 0.0423422\ttotal: 181ms\tremaining: 721ms\n",
      "201:\tlearn: 0.0422158\ttotal: 182ms\tremaining: 719ms\n",
      "202:\tlearn: 0.0421108\ttotal: 183ms\tremaining: 717ms\n",
      "203:\tlearn: 0.0420027\ttotal: 183ms\tremaining: 715ms\n",
      "204:\tlearn: 0.0418800\ttotal: 184ms\tremaining: 713ms\n",
      "205:\tlearn: 0.0418328\ttotal: 184ms\tremaining: 711ms\n",
      "206:\tlearn: 0.0417096\ttotal: 185ms\tremaining: 709ms\n",
      "207:\tlearn: 0.0415549\ttotal: 185ms\tremaining: 706ms\n",
      "208:\tlearn: 0.0414601\ttotal: 186ms\tremaining: 704ms\n",
      "209:\tlearn: 0.0412519\ttotal: 187ms\tremaining: 703ms\n",
      "210:\tlearn: 0.0411163\ttotal: 187ms\tremaining: 701ms\n",
      "211:\tlearn: 0.0410039\ttotal: 188ms\tremaining: 700ms\n",
      "212:\tlearn: 0.0408915\ttotal: 189ms\tremaining: 698ms\n",
      "213:\tlearn: 0.0408019\ttotal: 190ms\tremaining: 697ms\n",
      "214:\tlearn: 0.0406058\ttotal: 190ms\tremaining: 694ms\n",
      "215:\tlearn: 0.0405166\ttotal: 191ms\tremaining: 692ms\n",
      "216:\tlearn: 0.0403886\ttotal: 191ms\tremaining: 691ms\n",
      "217:\tlearn: 0.0403209\ttotal: 192ms\tremaining: 688ms\n",
      "218:\tlearn: 0.0401629\ttotal: 192ms\tremaining: 686ms\n",
      "219:\tlearn: 0.0399634\ttotal: 193ms\tremaining: 684ms\n",
      "220:\tlearn: 0.0398817\ttotal: 193ms\tremaining: 682ms\n",
      "221:\tlearn: 0.0398176\ttotal: 194ms\tremaining: 679ms\n",
      "222:\tlearn: 0.0396732\ttotal: 194ms\tremaining: 676ms\n",
      "223:\tlearn: 0.0396036\ttotal: 194ms\tremaining: 673ms\n",
      "224:\tlearn: 0.0394894\ttotal: 194ms\tremaining: 670ms\n"
     ]
    },
    {
     "name": "stdout",
     "output_type": "stream",
     "text": [
      "225:\tlearn: 0.0393970\ttotal: 196ms\tremaining: 670ms\n",
      "226:\tlearn: 0.0393271\ttotal: 196ms\tremaining: 669ms\n",
      "227:\tlearn: 0.0392068\ttotal: 197ms\tremaining: 667ms\n",
      "228:\tlearn: 0.0390738\ttotal: 198ms\tremaining: 666ms\n",
      "229:\tlearn: 0.0388383\ttotal: 198ms\tremaining: 664ms\n",
      "230:\tlearn: 0.0386994\ttotal: 199ms\tremaining: 662ms\n",
      "231:\tlearn: 0.0386076\ttotal: 199ms\tremaining: 660ms\n",
      "232:\tlearn: 0.0385302\ttotal: 200ms\tremaining: 658ms\n",
      "233:\tlearn: 0.0384228\ttotal: 200ms\tremaining: 656ms\n",
      "234:\tlearn: 0.0382271\ttotal: 201ms\tremaining: 655ms\n",
      "235:\tlearn: 0.0380971\ttotal: 202ms\tremaining: 653ms\n",
      "236:\tlearn: 0.0378780\ttotal: 202ms\tremaining: 651ms\n",
      "237:\tlearn: 0.0376724\ttotal: 203ms\tremaining: 649ms\n",
      "238:\tlearn: 0.0375546\ttotal: 203ms\tremaining: 647ms\n",
      "239:\tlearn: 0.0374320\ttotal: 204ms\tremaining: 645ms\n",
      "240:\tlearn: 0.0373341\ttotal: 204ms\tremaining: 643ms\n",
      "241:\tlearn: 0.0372329\ttotal: 205ms\tremaining: 641ms\n",
      "242:\tlearn: 0.0371341\ttotal: 205ms\tremaining: 640ms\n",
      "243:\tlearn: 0.0370136\ttotal: 206ms\tremaining: 639ms\n",
      "244:\tlearn: 0.0369649\ttotal: 207ms\tremaining: 637ms\n",
      "245:\tlearn: 0.0368670\ttotal: 207ms\tremaining: 635ms\n",
      "246:\tlearn: 0.0366936\ttotal: 208ms\tremaining: 634ms\n",
      "247:\tlearn: 0.0366401\ttotal: 209ms\tremaining: 633ms\n",
      "248:\tlearn: 0.0364525\ttotal: 209ms\tremaining: 632ms\n",
      "249:\tlearn: 0.0363555\ttotal: 210ms\tremaining: 630ms\n",
      "250:\tlearn: 0.0362557\ttotal: 211ms\tremaining: 629ms\n",
      "251:\tlearn: 0.0360915\ttotal: 211ms\tremaining: 627ms\n",
      "252:\tlearn: 0.0360140\ttotal: 212ms\tremaining: 627ms\n",
      "253:\tlearn: 0.0358855\ttotal: 214ms\tremaining: 628ms\n",
      "254:\tlearn: 0.0357644\ttotal: 214ms\tremaining: 626ms\n",
      "255:\tlearn: 0.0356696\ttotal: 215ms\tremaining: 625ms\n",
      "256:\tlearn: 0.0355136\ttotal: 216ms\tremaining: 623ms\n",
      "257:\tlearn: 0.0354641\ttotal: 216ms\tremaining: 622ms\n",
      "258:\tlearn: 0.0353580\ttotal: 217ms\tremaining: 620ms\n",
      "259:\tlearn: 0.0352619\ttotal: 217ms\tremaining: 618ms\n",
      "260:\tlearn: 0.0351746\ttotal: 218ms\tremaining: 616ms\n",
      "261:\tlearn: 0.0350386\ttotal: 218ms\tremaining: 615ms\n",
      "262:\tlearn: 0.0349613\ttotal: 219ms\tremaining: 613ms\n",
      "263:\tlearn: 0.0349265\ttotal: 219ms\tremaining: 611ms\n",
      "264:\tlearn: 0.0348377\ttotal: 220ms\tremaining: 609ms\n",
      "265:\tlearn: 0.0346937\ttotal: 221ms\tremaining: 609ms\n",
      "266:\tlearn: 0.0345964\ttotal: 221ms\tremaining: 607ms\n",
      "267:\tlearn: 0.0344641\ttotal: 221ms\tremaining: 604ms\n",
      "268:\tlearn: 0.0343417\ttotal: 222ms\tremaining: 602ms\n",
      "269:\tlearn: 0.0342741\ttotal: 222ms\tremaining: 601ms\n",
      "270:\tlearn: 0.0341743\ttotal: 223ms\tremaining: 600ms\n",
      "271:\tlearn: 0.0340816\ttotal: 224ms\tremaining: 599ms\n",
      "272:\tlearn: 0.0339862\ttotal: 224ms\tremaining: 597ms\n",
      "273:\tlearn: 0.0338562\ttotal: 225ms\tremaining: 596ms\n",
      "274:\tlearn: 0.0338166\ttotal: 225ms\tremaining: 594ms\n",
      "275:\tlearn: 0.0337415\ttotal: 226ms\tremaining: 593ms\n",
      "276:\tlearn: 0.0336669\ttotal: 227ms\tremaining: 592ms\n",
      "277:\tlearn: 0.0336155\ttotal: 227ms\tremaining: 591ms\n",
      "278:\tlearn: 0.0335317\ttotal: 228ms\tremaining: 589ms\n",
      "279:\tlearn: 0.0334535\ttotal: 228ms\tremaining: 587ms\n",
      "280:\tlearn: 0.0333436\ttotal: 229ms\tremaining: 585ms\n",
      "281:\tlearn: 0.0332492\ttotal: 229ms\tremaining: 583ms\n",
      "282:\tlearn: 0.0331608\ttotal: 229ms\tremaining: 580ms\n",
      "283:\tlearn: 0.0330960\ttotal: 230ms\tremaining: 579ms\n",
      "284:\tlearn: 0.0329819\ttotal: 230ms\tremaining: 577ms\n",
      "285:\tlearn: 0.0328656\ttotal: 230ms\tremaining: 575ms\n",
      "286:\tlearn: 0.0327622\ttotal: 231ms\tremaining: 574ms\n",
      "287:\tlearn: 0.0326936\ttotal: 232ms\tremaining: 573ms\n",
      "288:\tlearn: 0.0326172\ttotal: 233ms\tremaining: 572ms\n",
      "289:\tlearn: 0.0325398\ttotal: 233ms\tremaining: 571ms\n",
      "290:\tlearn: 0.0324746\ttotal: 234ms\tremaining: 569ms\n",
      "291:\tlearn: 0.0323774\ttotal: 234ms\tremaining: 568ms\n",
      "292:\tlearn: 0.0323361\ttotal: 235ms\tremaining: 566ms\n",
      "293:\tlearn: 0.0322854\ttotal: 235ms\tremaining: 565ms\n",
      "294:\tlearn: 0.0321891\ttotal: 236ms\tremaining: 564ms\n",
      "295:\tlearn: 0.0320860\ttotal: 236ms\tremaining: 562ms\n",
      "296:\tlearn: 0.0319917\ttotal: 237ms\tremaining: 561ms\n",
      "297:\tlearn: 0.0319024\ttotal: 237ms\tremaining: 559ms\n",
      "298:\tlearn: 0.0318584\ttotal: 238ms\tremaining: 558ms\n",
      "299:\tlearn: 0.0317839\ttotal: 238ms\tremaining: 556ms\n",
      "300:\tlearn: 0.0316552\ttotal: 238ms\tremaining: 554ms\n",
      "301:\tlearn: 0.0316259\ttotal: 239ms\tremaining: 552ms\n",
      "302:\tlearn: 0.0315812\ttotal: 239ms\tremaining: 551ms\n",
      "303:\tlearn: 0.0314855\ttotal: 240ms\tremaining: 549ms\n",
      "304:\tlearn: 0.0314278\ttotal: 241ms\tremaining: 548ms\n",
      "305:\tlearn: 0.0313246\ttotal: 241ms\tremaining: 547ms\n",
      "306:\tlearn: 0.0312400\ttotal: 242ms\tremaining: 547ms\n",
      "307:\tlearn: 0.0311561\ttotal: 243ms\tremaining: 546ms\n",
      "308:\tlearn: 0.0311029\ttotal: 244ms\tremaining: 546ms\n",
      "309:\tlearn: 0.0310234\ttotal: 245ms\tremaining: 545ms\n",
      "310:\tlearn: 0.0309715\ttotal: 246ms\tremaining: 544ms\n",
      "311:\tlearn: 0.0308607\ttotal: 246ms\tremaining: 543ms\n",
      "312:\tlearn: 0.0307900\ttotal: 247ms\tremaining: 542ms\n",
      "313:\tlearn: 0.0307121\ttotal: 247ms\tremaining: 541ms\n",
      "314:\tlearn: 0.0306623\ttotal: 248ms\tremaining: 539ms\n",
      "315:\tlearn: 0.0306129\ttotal: 249ms\tremaining: 538ms\n",
      "316:\tlearn: 0.0305388\ttotal: 249ms\tremaining: 537ms\n",
      "317:\tlearn: 0.0304259\ttotal: 250ms\tremaining: 536ms\n",
      "318:\tlearn: 0.0303401\ttotal: 250ms\tremaining: 534ms\n",
      "319:\tlearn: 0.0302706\ttotal: 251ms\tremaining: 533ms\n",
      "320:\tlearn: 0.0301970\ttotal: 251ms\tremaining: 532ms\n",
      "321:\tlearn: 0.0301315\ttotal: 252ms\tremaining: 530ms\n",
      "322:\tlearn: 0.0300512\ttotal: 253ms\tremaining: 530ms\n",
      "323:\tlearn: 0.0299816\ttotal: 254ms\tremaining: 529ms\n",
      "324:\tlearn: 0.0299092\ttotal: 255ms\tremaining: 529ms\n",
      "325:\tlearn: 0.0298595\ttotal: 255ms\tremaining: 528ms\n",
      "326:\tlearn: 0.0297931\ttotal: 257ms\tremaining: 528ms\n",
      "327:\tlearn: 0.0296948\ttotal: 262ms\tremaining: 537ms\n",
      "328:\tlearn: 0.0295888\ttotal: 263ms\tremaining: 537ms\n",
      "329:\tlearn: 0.0295423\ttotal: 264ms\tremaining: 537ms\n",
      "330:\tlearn: 0.0294359\ttotal: 266ms\tremaining: 537ms\n",
      "331:\tlearn: 0.0294141\ttotal: 266ms\tremaining: 536ms\n",
      "332:\tlearn: 0.0293713\ttotal: 267ms\tremaining: 535ms\n",
      "333:\tlearn: 0.0292722\ttotal: 268ms\tremaining: 534ms\n",
      "334:\tlearn: 0.0292297\ttotal: 269ms\tremaining: 533ms\n",
      "335:\tlearn: 0.0291838\ttotal: 269ms\tremaining: 532ms\n",
      "336:\tlearn: 0.0291299\ttotal: 270ms\tremaining: 531ms\n",
      "337:\tlearn: 0.0290460\ttotal: 271ms\tremaining: 530ms\n",
      "338:\tlearn: 0.0289507\ttotal: 271ms\tremaining: 528ms\n",
      "339:\tlearn: 0.0288836\ttotal: 272ms\tremaining: 527ms\n",
      "340:\tlearn: 0.0288304\ttotal: 272ms\tremaining: 527ms\n",
      "341:\tlearn: 0.0288039\ttotal: 273ms\tremaining: 526ms\n",
      "342:\tlearn: 0.0287666\ttotal: 274ms\tremaining: 526ms\n",
      "343:\tlearn: 0.0287270\ttotal: 275ms\tremaining: 525ms\n",
      "344:\tlearn: 0.0286634\ttotal: 276ms\tremaining: 524ms\n",
      "345:\tlearn: 0.0285742\ttotal: 277ms\tremaining: 523ms\n",
      "346:\tlearn: 0.0284840\ttotal: 277ms\tremaining: 521ms\n",
      "347:\tlearn: 0.0284345\ttotal: 278ms\tremaining: 520ms\n",
      "348:\tlearn: 0.0283484\ttotal: 278ms\tremaining: 519ms\n",
      "349:\tlearn: 0.0282895\ttotal: 279ms\tremaining: 518ms\n",
      "350:\tlearn: 0.0282026\ttotal: 279ms\tremaining: 516ms\n",
      "351:\tlearn: 0.0281208\ttotal: 280ms\tremaining: 516ms\n",
      "352:\tlearn: 0.0280469\ttotal: 282ms\tremaining: 516ms\n",
      "353:\tlearn: 0.0280274\ttotal: 282ms\tremaining: 516ms\n",
      "354:\tlearn: 0.0279816\ttotal: 283ms\tremaining: 515ms\n",
      "355:\tlearn: 0.0279225\ttotal: 284ms\tremaining: 514ms\n",
      "356:\tlearn: 0.0278662\ttotal: 285ms\tremaining: 513ms\n",
      "357:\tlearn: 0.0277900\ttotal: 286ms\tremaining: 512ms\n",
      "358:\tlearn: 0.0277288\ttotal: 286ms\tremaining: 511ms\n",
      "359:\tlearn: 0.0276930\ttotal: 287ms\tremaining: 510ms\n",
      "360:\tlearn: 0.0276348\ttotal: 287ms\tremaining: 509ms\n",
      "361:\tlearn: 0.0275787\ttotal: 289ms\tremaining: 509ms\n",
      "362:\tlearn: 0.0275263\ttotal: 290ms\tremaining: 508ms\n",
      "363:\tlearn: 0.0274855\ttotal: 291ms\tremaining: 508ms\n",
      "364:\tlearn: 0.0274337\ttotal: 291ms\tremaining: 507ms\n",
      "365:\tlearn: 0.0274090\ttotal: 292ms\tremaining: 506ms\n",
      "366:\tlearn: 0.0273589\ttotal: 293ms\tremaining: 505ms\n",
      "367:\tlearn: 0.0273014\ttotal: 293ms\tremaining: 503ms\n",
      "368:\tlearn: 0.0272520\ttotal: 293ms\tremaining: 502ms\n",
      "369:\tlearn: 0.0271809\ttotal: 294ms\tremaining: 500ms\n",
      "370:\tlearn: 0.0271414\ttotal: 294ms\tremaining: 499ms\n",
      "371:\tlearn: 0.0270917\ttotal: 295ms\tremaining: 498ms\n",
      "372:\tlearn: 0.0270340\ttotal: 295ms\tremaining: 496ms\n",
      "373:\tlearn: 0.0269569\ttotal: 296ms\tremaining: 495ms\n",
      "374:\tlearn: 0.0268854\ttotal: 296ms\tremaining: 494ms\n",
      "375:\tlearn: 0.0268459\ttotal: 297ms\tremaining: 493ms\n",
      "376:\tlearn: 0.0267696\ttotal: 297ms\tremaining: 491ms\n",
      "377:\tlearn: 0.0267107\ttotal: 298ms\tremaining: 490ms\n",
      "378:\tlearn: 0.0266652\ttotal: 298ms\tremaining: 489ms\n",
      "379:\tlearn: 0.0266281\ttotal: 299ms\tremaining: 488ms\n",
      "380:\tlearn: 0.0265991\ttotal: 299ms\tremaining: 486ms\n",
      "381:\tlearn: 0.0265672\ttotal: 300ms\tremaining: 485ms\n",
      "382:\tlearn: 0.0265314\ttotal: 300ms\tremaining: 484ms\n",
      "383:\tlearn: 0.0264778\ttotal: 301ms\tremaining: 483ms\n",
      "384:\tlearn: 0.0264635\ttotal: 302ms\tremaining: 482ms\n",
      "385:\tlearn: 0.0264244\ttotal: 302ms\tremaining: 481ms\n",
      "386:\tlearn: 0.0263594\ttotal: 303ms\tremaining: 479ms\n",
      "387:\tlearn: 0.0263331\ttotal: 303ms\tremaining: 478ms\n",
      "388:\tlearn: 0.0262605\ttotal: 303ms\tremaining: 476ms\n",
      "389:\tlearn: 0.0262082\ttotal: 303ms\tremaining: 475ms\n"
     ]
    },
    {
     "name": "stdout",
     "output_type": "stream",
     "text": [
      "390:\tlearn: 0.0261575\ttotal: 304ms\tremaining: 474ms\n",
      "391:\tlearn: 0.0261219\ttotal: 304ms\tremaining: 472ms\n",
      "392:\tlearn: 0.0260880\ttotal: 306ms\tremaining: 472ms\n",
      "393:\tlearn: 0.0260432\ttotal: 307ms\tremaining: 472ms\n",
      "394:\tlearn: 0.0259980\ttotal: 308ms\tremaining: 471ms\n",
      "395:\tlearn: 0.0259671\ttotal: 309ms\tremaining: 471ms\n",
      "396:\tlearn: 0.0259313\ttotal: 310ms\tremaining: 470ms\n",
      "397:\tlearn: 0.0258973\ttotal: 310ms\tremaining: 469ms\n",
      "398:\tlearn: 0.0258294\ttotal: 310ms\tremaining: 468ms\n",
      "399:\tlearn: 0.0257958\ttotal: 312ms\tremaining: 468ms\n",
      "400:\tlearn: 0.0257340\ttotal: 313ms\tremaining: 468ms\n",
      "401:\tlearn: 0.0257079\ttotal: 314ms\tremaining: 467ms\n",
      "402:\tlearn: 0.0256843\ttotal: 316ms\tremaining: 468ms\n",
      "403:\tlearn: 0.0256178\ttotal: 317ms\tremaining: 468ms\n",
      "404:\tlearn: 0.0255661\ttotal: 317ms\tremaining: 466ms\n",
      "405:\tlearn: 0.0255337\ttotal: 318ms\tremaining: 465ms\n",
      "406:\tlearn: 0.0254693\ttotal: 318ms\tremaining: 464ms\n",
      "407:\tlearn: 0.0254277\ttotal: 319ms\tremaining: 462ms\n",
      "408:\tlearn: 0.0253652\ttotal: 319ms\tremaining: 461ms\n",
      "409:\tlearn: 0.0253282\ttotal: 319ms\tremaining: 459ms\n",
      "410:\tlearn: 0.0252796\ttotal: 320ms\tremaining: 459ms\n",
      "411:\tlearn: 0.0252220\ttotal: 321ms\tremaining: 457ms\n",
      "412:\tlearn: 0.0251916\ttotal: 321ms\tremaining: 456ms\n",
      "413:\tlearn: 0.0251617\ttotal: 321ms\tremaining: 455ms\n",
      "414:\tlearn: 0.0251373\ttotal: 322ms\tremaining: 454ms\n",
      "415:\tlearn: 0.0251107\ttotal: 322ms\tremaining: 453ms\n",
      "416:\tlearn: 0.0250786\ttotal: 323ms\tremaining: 452ms\n",
      "417:\tlearn: 0.0250462\ttotal: 324ms\tremaining: 451ms\n",
      "418:\tlearn: 0.0249982\ttotal: 324ms\tremaining: 450ms\n",
      "419:\tlearn: 0.0249526\ttotal: 325ms\tremaining: 449ms\n",
      "420:\tlearn: 0.0249124\ttotal: 325ms\tremaining: 447ms\n",
      "421:\tlearn: 0.0248789\ttotal: 326ms\tremaining: 446ms\n",
      "422:\tlearn: 0.0248294\ttotal: 327ms\tremaining: 445ms\n",
      "423:\tlearn: 0.0247708\ttotal: 327ms\tremaining: 444ms\n",
      "424:\tlearn: 0.0247433\ttotal: 328ms\tremaining: 443ms\n",
      "425:\tlearn: 0.0246858\ttotal: 328ms\tremaining: 442ms\n",
      "426:\tlearn: 0.0246382\ttotal: 328ms\tremaining: 440ms\n",
      "427:\tlearn: 0.0245793\ttotal: 329ms\tremaining: 439ms\n",
      "428:\tlearn: 0.0245558\ttotal: 330ms\tremaining: 439ms\n",
      "429:\tlearn: 0.0245080\ttotal: 330ms\tremaining: 438ms\n",
      "430:\tlearn: 0.0244804\ttotal: 331ms\tremaining: 437ms\n",
      "431:\tlearn: 0.0244420\ttotal: 331ms\tremaining: 436ms\n",
      "432:\tlearn: 0.0243969\ttotal: 332ms\tremaining: 435ms\n",
      "433:\tlearn: 0.0243542\ttotal: 333ms\tremaining: 434ms\n",
      "434:\tlearn: 0.0242925\ttotal: 333ms\tremaining: 433ms\n",
      "435:\tlearn: 0.0242672\ttotal: 334ms\tremaining: 432ms\n",
      "436:\tlearn: 0.0242419\ttotal: 334ms\tremaining: 431ms\n",
      "437:\tlearn: 0.0241913\ttotal: 335ms\tremaining: 430ms\n",
      "438:\tlearn: 0.0241371\ttotal: 336ms\tremaining: 430ms\n",
      "439:\tlearn: 0.0241133\ttotal: 337ms\tremaining: 429ms\n",
      "440:\tlearn: 0.0240767\ttotal: 337ms\tremaining: 428ms\n",
      "441:\tlearn: 0.0240531\ttotal: 338ms\tremaining: 426ms\n",
      "442:\tlearn: 0.0240083\ttotal: 338ms\tremaining: 425ms\n",
      "443:\tlearn: 0.0239691\ttotal: 338ms\tremaining: 424ms\n",
      "444:\tlearn: 0.0239359\ttotal: 339ms\tremaining: 423ms\n",
      "445:\tlearn: 0.0239110\ttotal: 340ms\tremaining: 422ms\n",
      "446:\tlearn: 0.0238378\ttotal: 340ms\tremaining: 421ms\n",
      "447:\tlearn: 0.0238019\ttotal: 340ms\tremaining: 420ms\n",
      "448:\tlearn: 0.0237577\ttotal: 341ms\tremaining: 418ms\n",
      "449:\tlearn: 0.0237334\ttotal: 341ms\tremaining: 417ms\n",
      "450:\tlearn: 0.0237103\ttotal: 342ms\tremaining: 416ms\n",
      "451:\tlearn: 0.0236870\ttotal: 343ms\tremaining: 416ms\n",
      "452:\tlearn: 0.0236562\ttotal: 344ms\tremaining: 415ms\n",
      "453:\tlearn: 0.0236082\ttotal: 344ms\tremaining: 414ms\n"
     ]
    },
    {
     "name": "stdout",
     "output_type": "stream",
     "text": [
      "454:\tlearn: 0.0235846\ttotal: 345ms\tremaining: 413ms\n",
      "455:\tlearn: 0.0235344\ttotal: 346ms\tremaining: 412ms\n",
      "456:\tlearn: 0.0235163\ttotal: 346ms\tremaining: 411ms\n",
      "457:\tlearn: 0.0234953\ttotal: 347ms\tremaining: 411ms\n",
      "458:\tlearn: 0.0234548\ttotal: 347ms\tremaining: 410ms\n",
      "459:\tlearn: 0.0234113\ttotal: 348ms\tremaining: 408ms\n",
      "460:\tlearn: 0.0233689\ttotal: 349ms\tremaining: 408ms\n",
      "461:\tlearn: 0.0233110\ttotal: 349ms\tremaining: 407ms\n",
      "462:\tlearn: 0.0232761\ttotal: 350ms\tremaining: 406ms\n",
      "463:\tlearn: 0.0232378\ttotal: 350ms\tremaining: 405ms\n",
      "464:\tlearn: 0.0232126\ttotal: 351ms\tremaining: 403ms\n",
      "465:\tlearn: 0.0231730\ttotal: 351ms\tremaining: 402ms\n",
      "466:\tlearn: 0.0231271\ttotal: 352ms\tremaining: 401ms\n",
      "467:\tlearn: 0.0230803\ttotal: 352ms\tremaining: 400ms\n",
      "468:\tlearn: 0.0230439\ttotal: 353ms\tremaining: 399ms\n",
      "469:\tlearn: 0.0229886\ttotal: 353ms\tremaining: 398ms\n",
      "470:\tlearn: 0.0229402\ttotal: 353ms\tremaining: 397ms\n",
      "471:\tlearn: 0.0229098\ttotal: 354ms\tremaining: 396ms\n",
      "472:\tlearn: 0.0228775\ttotal: 355ms\tremaining: 395ms\n",
      "473:\tlearn: 0.0228390\ttotal: 355ms\tremaining: 394ms\n",
      "474:\tlearn: 0.0227999\ttotal: 355ms\tremaining: 392ms\n",
      "475:\tlearn: 0.0227511\ttotal: 355ms\tremaining: 391ms\n",
      "476:\tlearn: 0.0227120\ttotal: 356ms\tremaining: 390ms\n",
      "477:\tlearn: 0.0226916\ttotal: 356ms\tremaining: 389ms\n",
      "478:\tlearn: 0.0226593\ttotal: 357ms\tremaining: 388ms\n",
      "479:\tlearn: 0.0226336\ttotal: 357ms\tremaining: 387ms\n",
      "480:\tlearn: 0.0226026\ttotal: 358ms\tremaining: 386ms\n",
      "481:\tlearn: 0.0225639\ttotal: 358ms\tremaining: 385ms\n",
      "482:\tlearn: 0.0225333\ttotal: 359ms\tremaining: 384ms\n",
      "483:\tlearn: 0.0225092\ttotal: 359ms\tremaining: 383ms\n",
      "484:\tlearn: 0.0224655\ttotal: 359ms\tremaining: 382ms\n",
      "485:\tlearn: 0.0224262\ttotal: 360ms\tremaining: 381ms\n",
      "486:\tlearn: 0.0223976\ttotal: 360ms\tremaining: 380ms\n",
      "487:\tlearn: 0.0223250\ttotal: 361ms\tremaining: 379ms\n",
      "488:\tlearn: 0.0223019\ttotal: 362ms\tremaining: 378ms\n",
      "489:\tlearn: 0.0222726\ttotal: 362ms\tremaining: 377ms\n",
      "490:\tlearn: 0.0222556\ttotal: 363ms\tremaining: 376ms\n",
      "491:\tlearn: 0.0222372\ttotal: 363ms\tremaining: 375ms\n",
      "492:\tlearn: 0.0221856\ttotal: 364ms\tremaining: 374ms\n",
      "493:\tlearn: 0.0221478\ttotal: 364ms\tremaining: 373ms\n",
      "494:\tlearn: 0.0221269\ttotal: 365ms\tremaining: 372ms\n",
      "495:\tlearn: 0.0220851\ttotal: 365ms\tremaining: 371ms\n",
      "496:\tlearn: 0.0220562\ttotal: 365ms\tremaining: 370ms\n",
      "497:\tlearn: 0.0220278\ttotal: 366ms\tremaining: 369ms\n",
      "498:\tlearn: 0.0219964\ttotal: 366ms\tremaining: 367ms\n",
      "499:\tlearn: 0.0219736\ttotal: 366ms\tremaining: 366ms\n",
      "500:\tlearn: 0.0219638\ttotal: 367ms\tremaining: 366ms\n",
      "501:\tlearn: 0.0219487\ttotal: 368ms\tremaining: 365ms\n",
      "502:\tlearn: 0.0219201\ttotal: 369ms\tremaining: 364ms\n",
      "503:\tlearn: 0.0219012\ttotal: 369ms\tremaining: 363ms\n",
      "504:\tlearn: 0.0218602\ttotal: 370ms\tremaining: 362ms\n",
      "505:\tlearn: 0.0218264\ttotal: 370ms\tremaining: 362ms\n",
      "506:\tlearn: 0.0217874\ttotal: 371ms\tremaining: 361ms\n",
      "507:\tlearn: 0.0217499\ttotal: 371ms\tremaining: 360ms\n",
      "508:\tlearn: 0.0217195\ttotal: 372ms\tremaining: 359ms\n",
      "509:\tlearn: 0.0217027\ttotal: 373ms\tremaining: 358ms\n",
      "510:\tlearn: 0.0216714\ttotal: 373ms\tremaining: 357ms\n",
      "511:\tlearn: 0.0216550\ttotal: 374ms\tremaining: 356ms\n",
      "512:\tlearn: 0.0216232\ttotal: 374ms\tremaining: 355ms\n",
      "513:\tlearn: 0.0215897\ttotal: 375ms\tremaining: 354ms\n",
      "514:\tlearn: 0.0215556\ttotal: 375ms\tremaining: 353ms\n",
      "515:\tlearn: 0.0215288\ttotal: 376ms\tremaining: 352ms\n",
      "516:\tlearn: 0.0214962\ttotal: 376ms\tremaining: 352ms\n",
      "517:\tlearn: 0.0214721\ttotal: 377ms\tremaining: 351ms\n",
      "518:\tlearn: 0.0214444\ttotal: 377ms\tremaining: 350ms\n",
      "519:\tlearn: 0.0213957\ttotal: 378ms\tremaining: 349ms\n",
      "520:\tlearn: 0.0213580\ttotal: 379ms\tremaining: 348ms\n",
      "521:\tlearn: 0.0213311\ttotal: 379ms\tremaining: 347ms\n",
      "522:\tlearn: 0.0213143\ttotal: 380ms\tremaining: 346ms\n",
      "523:\tlearn: 0.0212626\ttotal: 380ms\tremaining: 346ms\n",
      "524:\tlearn: 0.0212376\ttotal: 382ms\tremaining: 345ms\n",
      "525:\tlearn: 0.0212223\ttotal: 382ms\tremaining: 344ms\n",
      "526:\tlearn: 0.0211859\ttotal: 382ms\tremaining: 343ms\n",
      "527:\tlearn: 0.0211623\ttotal: 383ms\tremaining: 342ms\n",
      "528:\tlearn: 0.0211537\ttotal: 383ms\tremaining: 341ms\n",
      "529:\tlearn: 0.0211391\ttotal: 384ms\tremaining: 341ms\n",
      "530:\tlearn: 0.0211170\ttotal: 385ms\tremaining: 340ms\n",
      "531:\tlearn: 0.0210813\ttotal: 386ms\tremaining: 339ms\n",
      "532:\tlearn: 0.0210644\ttotal: 386ms\tremaining: 338ms\n",
      "533:\tlearn: 0.0210349\ttotal: 387ms\tremaining: 337ms\n",
      "534:\tlearn: 0.0210071\ttotal: 387ms\tremaining: 337ms\n",
      "535:\tlearn: 0.0209885\ttotal: 388ms\tremaining: 336ms\n",
      "536:\tlearn: 0.0209597\ttotal: 389ms\tremaining: 335ms\n",
      "537:\tlearn: 0.0209339\ttotal: 390ms\tremaining: 335ms\n",
      "538:\tlearn: 0.0209091\ttotal: 390ms\tremaining: 334ms\n",
      "539:\tlearn: 0.0208777\ttotal: 391ms\tremaining: 333ms\n",
      "540:\tlearn: 0.0208590\ttotal: 392ms\tremaining: 333ms\n",
      "541:\tlearn: 0.0208273\ttotal: 393ms\tremaining: 332ms\n",
      "542:\tlearn: 0.0208142\ttotal: 394ms\tremaining: 332ms\n",
      "543:\tlearn: 0.0207898\ttotal: 396ms\tremaining: 332ms\n",
      "544:\tlearn: 0.0207621\ttotal: 397ms\tremaining: 331ms\n",
      "545:\tlearn: 0.0207396\ttotal: 398ms\tremaining: 331ms\n",
      "546:\tlearn: 0.0207114\ttotal: 400ms\tremaining: 331ms\n",
      "547:\tlearn: 0.0206899\ttotal: 400ms\tremaining: 330ms\n",
      "548:\tlearn: 0.0206727\ttotal: 401ms\tremaining: 329ms\n",
      "549:\tlearn: 0.0206524\ttotal: 402ms\tremaining: 329ms\n",
      "550:\tlearn: 0.0206332\ttotal: 403ms\tremaining: 329ms\n",
      "551:\tlearn: 0.0206150\ttotal: 404ms\tremaining: 328ms\n",
      "552:\tlearn: 0.0205878\ttotal: 405ms\tremaining: 327ms\n",
      "553:\tlearn: 0.0205617\ttotal: 405ms\tremaining: 326ms\n",
      "554:\tlearn: 0.0205452\ttotal: 407ms\tremaining: 326ms\n",
      "555:\tlearn: 0.0205165\ttotal: 408ms\tremaining: 326ms\n",
      "556:\tlearn: 0.0204826\ttotal: 408ms\tremaining: 325ms\n",
      "557:\tlearn: 0.0204705\ttotal: 421ms\tremaining: 334ms\n",
      "558:\tlearn: 0.0204454\ttotal: 422ms\tremaining: 333ms\n",
      "559:\tlearn: 0.0204243\ttotal: 424ms\tremaining: 333ms\n",
      "560:\tlearn: 0.0203982\ttotal: 424ms\tremaining: 332ms\n",
      "561:\tlearn: 0.0203738\ttotal: 425ms\tremaining: 331ms\n",
      "562:\tlearn: 0.0203592\ttotal: 425ms\tremaining: 330ms\n",
      "563:\tlearn: 0.0203308\ttotal: 426ms\tremaining: 330ms\n",
      "564:\tlearn: 0.0203097\ttotal: 427ms\tremaining: 329ms\n",
      "565:\tlearn: 0.0202868\ttotal: 428ms\tremaining: 328ms\n",
      "566:\tlearn: 0.0202743\ttotal: 429ms\tremaining: 327ms\n",
      "567:\tlearn: 0.0202503\ttotal: 429ms\tremaining: 326ms\n",
      "568:\tlearn: 0.0202231\ttotal: 430ms\tremaining: 325ms\n",
      "569:\tlearn: 0.0202012\ttotal: 430ms\tremaining: 325ms\n",
      "570:\tlearn: 0.0201938\ttotal: 431ms\tremaining: 324ms\n",
      "571:\tlearn: 0.0201635\ttotal: 431ms\tremaining: 323ms\n",
      "572:\tlearn: 0.0201528\ttotal: 432ms\tremaining: 322ms\n",
      "573:\tlearn: 0.0201425\ttotal: 433ms\tremaining: 321ms\n",
      "574:\tlearn: 0.0201163\ttotal: 433ms\tremaining: 320ms\n",
      "575:\tlearn: 0.0200790\ttotal: 434ms\tremaining: 319ms\n",
      "576:\tlearn: 0.0200563\ttotal: 434ms\tremaining: 318ms\n",
      "577:\tlearn: 0.0200086\ttotal: 435ms\tremaining: 318ms\n",
      "578:\tlearn: 0.0199902\ttotal: 435ms\tremaining: 316ms\n",
      "579:\tlearn: 0.0199742\ttotal: 436ms\tremaining: 315ms\n",
      "580:\tlearn: 0.0199581\ttotal: 436ms\tremaining: 315ms\n",
      "581:\tlearn: 0.0199335\ttotal: 437ms\tremaining: 314ms\n",
      "582:\tlearn: 0.0199218\ttotal: 437ms\tremaining: 313ms\n",
      "583:\tlearn: 0.0199080\ttotal: 439ms\tremaining: 312ms\n"
     ]
    },
    {
     "name": "stdout",
     "output_type": "stream",
     "text": [
      "584:\tlearn: 0.0198876\ttotal: 441ms\tremaining: 313ms\n"
     ]
    },
    {
     "name": "stdout",
     "output_type": "stream",
     "text": [
      "585:\tlearn: 0.0198493\ttotal: 442ms\tremaining: 312ms\n",
      "586:\tlearn: 0.0198273\ttotal: 444ms\tremaining: 312ms\n",
      "587:\tlearn: 0.0198178\ttotal: 445ms\tremaining: 312ms\n",
      "588:\tlearn: 0.0198023\ttotal: 445ms\tremaining: 310ms\n",
      "589:\tlearn: 0.0197875\ttotal: 447ms\tremaining: 311ms\n",
      "590:\tlearn: 0.0197654\ttotal: 449ms\tremaining: 311ms\n",
      "591:\tlearn: 0.0197513\ttotal: 449ms\tremaining: 310ms\n",
      "592:\tlearn: 0.0197259\ttotal: 450ms\tremaining: 309ms\n",
      "593:\tlearn: 0.0197193\ttotal: 456ms\tremaining: 312ms\n",
      "594:\tlearn: 0.0197067\ttotal: 457ms\tremaining: 311ms\n",
      "595:\tlearn: 0.0196693\ttotal: 457ms\tremaining: 310ms\n",
      "596:\tlearn: 0.0196551\ttotal: 458ms\tremaining: 309ms\n",
      "597:\tlearn: 0.0196246\ttotal: 458ms\tremaining: 308ms\n",
      "598:\tlearn: 0.0196035\ttotal: 460ms\tremaining: 308ms\n",
      "599:\tlearn: 0.0195863\ttotal: 461ms\tremaining: 307ms\n",
      "600:\tlearn: 0.0195691\ttotal: 462ms\tremaining: 307ms\n",
      "601:\tlearn: 0.0195544\ttotal: 463ms\tremaining: 306ms\n",
      "602:\tlearn: 0.0195401\ttotal: 463ms\tremaining: 305ms\n",
      "603:\tlearn: 0.0195153\ttotal: 464ms\tremaining: 304ms\n",
      "604:\tlearn: 0.0195022\ttotal: 465ms\tremaining: 303ms\n",
      "605:\tlearn: 0.0194876\ttotal: 466ms\tremaining: 303ms\n",
      "606:\tlearn: 0.0194661\ttotal: 466ms\tremaining: 302ms\n",
      "607:\tlearn: 0.0194525\ttotal: 467ms\tremaining: 301ms\n",
      "608:\tlearn: 0.0194313\ttotal: 468ms\tremaining: 300ms\n",
      "609:\tlearn: 0.0194027\ttotal: 468ms\tremaining: 299ms\n",
      "610:\tlearn: 0.0193881\ttotal: 469ms\tremaining: 298ms\n",
      "611:\tlearn: 0.0193657\ttotal: 469ms\tremaining: 298ms\n",
      "612:\tlearn: 0.0193516\ttotal: 470ms\tremaining: 297ms\n",
      "613:\tlearn: 0.0193213\ttotal: 471ms\tremaining: 296ms\n",
      "614:\tlearn: 0.0192902\ttotal: 471ms\tremaining: 295ms\n",
      "615:\tlearn: 0.0192709\ttotal: 472ms\tremaining: 294ms\n",
      "616:\tlearn: 0.0192466\ttotal: 473ms\tremaining: 293ms\n",
      "617:\tlearn: 0.0192153\ttotal: 473ms\tremaining: 292ms\n",
      "618:\tlearn: 0.0191892\ttotal: 474ms\tremaining: 291ms\n",
      "619:\tlearn: 0.0191758\ttotal: 474ms\tremaining: 291ms\n",
      "620:\tlearn: 0.0191560\ttotal: 475ms\tremaining: 290ms\n",
      "621:\tlearn: 0.0191381\ttotal: 475ms\tremaining: 289ms\n",
      "622:\tlearn: 0.0191245\ttotal: 476ms\tremaining: 288ms\n",
      "623:\tlearn: 0.0191001\ttotal: 477ms\tremaining: 287ms\n",
      "624:\tlearn: 0.0190700\ttotal: 478ms\tremaining: 287ms\n",
      "625:\tlearn: 0.0190606\ttotal: 479ms\tremaining: 286ms\n",
      "626:\tlearn: 0.0190493\ttotal: 480ms\tremaining: 285ms\n",
      "627:\tlearn: 0.0190247\ttotal: 480ms\tremaining: 284ms\n",
      "628:\tlearn: 0.0190016\ttotal: 481ms\tremaining: 283ms\n",
      "629:\tlearn: 0.0189787\ttotal: 481ms\tremaining: 282ms\n",
      "630:\tlearn: 0.0189603\ttotal: 482ms\tremaining: 282ms\n",
      "631:\tlearn: 0.0189459\ttotal: 482ms\tremaining: 281ms\n",
      "632:\tlearn: 0.0189195\ttotal: 483ms\tremaining: 280ms\n",
      "633:\tlearn: 0.0188976\ttotal: 483ms\tremaining: 279ms\n",
      "634:\tlearn: 0.0188743\ttotal: 484ms\tremaining: 278ms\n",
      "635:\tlearn: 0.0188508\ttotal: 484ms\tremaining: 277ms\n",
      "636:\tlearn: 0.0188376\ttotal: 485ms\tremaining: 276ms\n",
      "637:\tlearn: 0.0188127\ttotal: 485ms\tremaining: 275ms\n",
      "638:\tlearn: 0.0187863\ttotal: 486ms\tremaining: 274ms\n",
      "639:\tlearn: 0.0187520\ttotal: 486ms\tremaining: 273ms\n",
      "640:\tlearn: 0.0187306\ttotal: 486ms\tremaining: 272ms\n",
      "641:\tlearn: 0.0186977\ttotal: 487ms\tremaining: 271ms\n",
      "642:\tlearn: 0.0186858\ttotal: 487ms\tremaining: 271ms\n",
      "643:\tlearn: 0.0186511\ttotal: 488ms\tremaining: 270ms\n",
      "644:\tlearn: 0.0186382\ttotal: 489ms\tremaining: 269ms\n",
      "645:\tlearn: 0.0186166\ttotal: 490ms\tremaining: 268ms\n",
      "646:\tlearn: 0.0186005\ttotal: 494ms\tremaining: 269ms\n",
      "647:\tlearn: 0.0185781\ttotal: 494ms\tremaining: 268ms\n",
      "648:\tlearn: 0.0185613\ttotal: 496ms\tremaining: 268ms\n",
      "649:\tlearn: 0.0185442\ttotal: 496ms\tremaining: 267ms\n",
      "650:\tlearn: 0.0185280\ttotal: 497ms\tremaining: 266ms\n",
      "651:\tlearn: 0.0184686\ttotal: 497ms\tremaining: 265ms\n",
      "652:\tlearn: 0.0184416\ttotal: 498ms\tremaining: 265ms\n",
      "653:\tlearn: 0.0184206\ttotal: 499ms\tremaining: 264ms\n",
      "654:\tlearn: 0.0184080\ttotal: 499ms\tremaining: 263ms\n",
      "655:\tlearn: 0.0184012\ttotal: 500ms\tremaining: 262ms\n",
      "656:\tlearn: 0.0183851\ttotal: 501ms\tremaining: 261ms\n",
      "657:\tlearn: 0.0183653\ttotal: 501ms\tremaining: 260ms\n",
      "658:\tlearn: 0.0183501\ttotal: 502ms\tremaining: 260ms\n",
      "659:\tlearn: 0.0183335\ttotal: 502ms\tremaining: 259ms\n",
      "660:\tlearn: 0.0183164\ttotal: 503ms\tremaining: 258ms\n",
      "661:\tlearn: 0.0183042\ttotal: 503ms\tremaining: 257ms\n",
      "662:\tlearn: 0.0182857\ttotal: 504ms\tremaining: 256ms\n",
      "663:\tlearn: 0.0182676\ttotal: 505ms\tremaining: 255ms\n",
      "664:\tlearn: 0.0182495\ttotal: 505ms\tremaining: 254ms\n",
      "665:\tlearn: 0.0182382\ttotal: 506ms\tremaining: 254ms\n",
      "666:\tlearn: 0.0182247\ttotal: 506ms\tremaining: 253ms\n",
      "667:\tlearn: 0.0181996\ttotal: 507ms\tremaining: 252ms\n",
      "668:\tlearn: 0.0181916\ttotal: 508ms\tremaining: 251ms\n",
      "669:\tlearn: 0.0181826\ttotal: 508ms\tremaining: 250ms\n",
      "670:\tlearn: 0.0181697\ttotal: 509ms\tremaining: 250ms\n",
      "671:\tlearn: 0.0181482\ttotal: 510ms\tremaining: 249ms\n",
      "672:\tlearn: 0.0181328\ttotal: 510ms\tremaining: 248ms\n",
      "673:\tlearn: 0.0181128\ttotal: 512ms\tremaining: 248ms\n",
      "674:\tlearn: 0.0180950\ttotal: 513ms\tremaining: 247ms\n",
      "675:\tlearn: 0.0180824\ttotal: 514ms\tremaining: 246ms\n",
      "676:\tlearn: 0.0180691\ttotal: 514ms\tremaining: 245ms\n",
      "677:\tlearn: 0.0180130\ttotal: 515ms\tremaining: 245ms\n",
      "678:\tlearn: 0.0179958\ttotal: 516ms\tremaining: 244ms\n",
      "679:\tlearn: 0.0179835\ttotal: 516ms\tremaining: 243ms\n",
      "680:\tlearn: 0.0179694\ttotal: 517ms\tremaining: 242ms\n",
      "681:\tlearn: 0.0179528\ttotal: 518ms\tremaining: 241ms\n",
      "682:\tlearn: 0.0179419\ttotal: 518ms\tremaining: 240ms\n",
      "683:\tlearn: 0.0179094\ttotal: 518ms\tremaining: 239ms\n",
      "684:\tlearn: 0.0178773\ttotal: 519ms\tremaining: 239ms\n",
      "685:\tlearn: 0.0178710\ttotal: 519ms\tremaining: 238ms\n",
      "686:\tlearn: 0.0178557\ttotal: 519ms\tremaining: 237ms\n",
      "687:\tlearn: 0.0178408\ttotal: 519ms\tremaining: 236ms\n",
      "688:\tlearn: 0.0178251\ttotal: 520ms\tremaining: 235ms\n",
      "689:\tlearn: 0.0178098\ttotal: 521ms\tremaining: 234ms\n",
      "690:\tlearn: 0.0177901\ttotal: 521ms\tremaining: 233ms\n",
      "691:\tlearn: 0.0177851\ttotal: 522ms\tremaining: 232ms\n",
      "692:\tlearn: 0.0177576\ttotal: 522ms\tremaining: 231ms\n",
      "693:\tlearn: 0.0177453\ttotal: 523ms\tremaining: 231ms\n",
      "694:\tlearn: 0.0177280\ttotal: 524ms\tremaining: 230ms\n",
      "695:\tlearn: 0.0177118\ttotal: 524ms\tremaining: 229ms\n",
      "696:\tlearn: 0.0177005\ttotal: 525ms\tremaining: 228ms\n",
      "697:\tlearn: 0.0176814\ttotal: 525ms\tremaining: 227ms\n",
      "698:\tlearn: 0.0176722\ttotal: 526ms\tremaining: 226ms\n",
      "699:\tlearn: 0.0176328\ttotal: 526ms\tremaining: 226ms\n",
      "700:\tlearn: 0.0176189\ttotal: 526ms\tremaining: 225ms\n",
      "701:\tlearn: 0.0176075\ttotal: 529ms\tremaining: 224ms\n",
      "702:\tlearn: 0.0175882\ttotal: 529ms\tremaining: 223ms\n",
      "703:\tlearn: 0.0175535\ttotal: 529ms\tremaining: 223ms\n",
      "704:\tlearn: 0.0175409\ttotal: 530ms\tremaining: 222ms\n",
      "705:\tlearn: 0.0175299\ttotal: 530ms\tremaining: 221ms\n",
      "706:\tlearn: 0.0175220\ttotal: 531ms\tremaining: 220ms\n",
      "707:\tlearn: 0.0175072\ttotal: 531ms\tremaining: 219ms\n",
      "708:\tlearn: 0.0174958\ttotal: 531ms\tremaining: 218ms\n",
      "709:\tlearn: 0.0174816\ttotal: 532ms\tremaining: 217ms\n",
      "710:\tlearn: 0.0174560\ttotal: 532ms\tremaining: 216ms\n",
      "711:\tlearn: 0.0174184\ttotal: 533ms\tremaining: 215ms\n",
      "712:\tlearn: 0.0174042\ttotal: 533ms\tremaining: 215ms\n",
      "713:\tlearn: 0.0173910\ttotal: 533ms\tremaining: 214ms\n",
      "714:\tlearn: 0.0173842\ttotal: 535ms\tremaining: 213ms\n",
      "715:\tlearn: 0.0173333\ttotal: 536ms\tremaining: 212ms\n",
      "716:\tlearn: 0.0173232\ttotal: 537ms\tremaining: 212ms\n",
      "717:\tlearn: 0.0173126\ttotal: 537ms\tremaining: 211ms\n",
      "718:\tlearn: 0.0173001\ttotal: 537ms\tremaining: 210ms\n",
      "719:\tlearn: 0.0172939\ttotal: 538ms\tremaining: 209ms\n",
      "720:\tlearn: 0.0172696\ttotal: 540ms\tremaining: 209ms\n",
      "721:\tlearn: 0.0172176\ttotal: 541ms\tremaining: 208ms\n",
      "722:\tlearn: 0.0172068\ttotal: 541ms\tremaining: 207ms\n",
      "723:\tlearn: 0.0171980\ttotal: 542ms\tremaining: 207ms\n",
      "724:\tlearn: 0.0171871\ttotal: 543ms\tremaining: 206ms\n",
      "725:\tlearn: 0.0171778\ttotal: 544ms\tremaining: 205ms\n",
      "726:\tlearn: 0.0171282\ttotal: 544ms\tremaining: 204ms\n",
      "727:\tlearn: 0.0171181\ttotal: 545ms\tremaining: 204ms\n",
      "728:\tlearn: 0.0171090\ttotal: 546ms\tremaining: 203ms\n",
      "729:\tlearn: 0.0171017\ttotal: 546ms\tremaining: 202ms\n",
      "730:\tlearn: 0.0170931\ttotal: 547ms\tremaining: 201ms\n",
      "731:\tlearn: 0.0170748\ttotal: 548ms\tremaining: 201ms\n",
      "732:\tlearn: 0.0170646\ttotal: 549ms\tremaining: 200ms\n",
      "733:\tlearn: 0.0170541\ttotal: 549ms\tremaining: 199ms\n",
      "734:\tlearn: 0.0170422\ttotal: 550ms\tremaining: 198ms\n",
      "735:\tlearn: 0.0170283\ttotal: 551ms\tremaining: 198ms\n",
      "736:\tlearn: 0.0170132\ttotal: 552ms\tremaining: 197ms\n",
      "737:\tlearn: 0.0170053\ttotal: 553ms\tremaining: 196ms\n",
      "738:\tlearn: 0.0169919\ttotal: 554ms\tremaining: 196ms\n",
      "739:\tlearn: 0.0169843\ttotal: 554ms\tremaining: 195ms\n",
      "740:\tlearn: 0.0169585\ttotal: 555ms\tremaining: 194ms\n",
      "741:\tlearn: 0.0169487\ttotal: 555ms\tremaining: 193ms\n",
      "742:\tlearn: 0.0169386\ttotal: 556ms\tremaining: 192ms\n",
      "743:\tlearn: 0.0169024\ttotal: 556ms\tremaining: 191ms\n",
      "744:\tlearn: 0.0168773\ttotal: 557ms\tremaining: 191ms\n",
      "745:\tlearn: 0.0168696\ttotal: 558ms\tremaining: 190ms\n",
      "746:\tlearn: 0.0168597\ttotal: 558ms\tremaining: 189ms\n",
      "747:\tlearn: 0.0168499\ttotal: 558ms\tremaining: 188ms\n",
      "748:\tlearn: 0.0168213\ttotal: 559ms\tremaining: 187ms\n",
      "749:\tlearn: 0.0168046\ttotal: 560ms\tremaining: 187ms\n",
      "750:\tlearn: 0.0167734\ttotal: 560ms\tremaining: 186ms\n",
      "751:\tlearn: 0.0167684\ttotal: 561ms\tremaining: 185ms\n",
      "752:\tlearn: 0.0167552\ttotal: 561ms\tremaining: 184ms\n",
      "753:\tlearn: 0.0167405\ttotal: 562ms\tremaining: 183ms\n",
      "754:\tlearn: 0.0167310\ttotal: 562ms\tremaining: 182ms\n"
     ]
    },
    {
     "name": "stdout",
     "output_type": "stream",
     "text": [
      "755:\tlearn: 0.0167079\ttotal: 562ms\tremaining: 182ms\n",
      "756:\tlearn: 0.0166938\ttotal: 565ms\tremaining: 181ms\n",
      "757:\tlearn: 0.0166804\ttotal: 566ms\tremaining: 181ms\n",
      "758:\tlearn: 0.0166735\ttotal: 566ms\tremaining: 180ms\n",
      "759:\tlearn: 0.0166685\ttotal: 567ms\tremaining: 179ms\n",
      "760:\tlearn: 0.0166464\ttotal: 568ms\tremaining: 178ms\n",
      "761:\tlearn: 0.0166226\ttotal: 568ms\tremaining: 178ms\n",
      "762:\tlearn: 0.0166110\ttotal: 569ms\tremaining: 177ms\n",
      "763:\tlearn: 0.0165979\ttotal: 569ms\tremaining: 176ms\n",
      "764:\tlearn: 0.0165684\ttotal: 570ms\tremaining: 175ms\n",
      "765:\tlearn: 0.0165592\ttotal: 570ms\tremaining: 174ms\n",
      "766:\tlearn: 0.0165481\ttotal: 571ms\tremaining: 173ms\n",
      "767:\tlearn: 0.0165361\ttotal: 572ms\tremaining: 173ms\n",
      "768:\tlearn: 0.0165275\ttotal: 573ms\tremaining: 172ms\n",
      "769:\tlearn: 0.0165119\ttotal: 573ms\tremaining: 171ms\n",
      "770:\tlearn: 0.0165031\ttotal: 574ms\tremaining: 170ms\n",
      "771:\tlearn: 0.0164904\ttotal: 575ms\tremaining: 170ms\n",
      "772:\tlearn: 0.0164694\ttotal: 576ms\tremaining: 169ms\n",
      "773:\tlearn: 0.0164467\ttotal: 577ms\tremaining: 169ms\n"
     ]
    },
    {
     "name": "stdout",
     "output_type": "stream",
     "text": [
      "774:\tlearn: 0.0164344\ttotal: 580ms\tremaining: 168ms\n",
      "775:\tlearn: 0.0164220\ttotal: 581ms\tremaining: 168ms\n",
      "776:\tlearn: 0.0164140\ttotal: 582ms\tremaining: 167ms\n",
      "777:\tlearn: 0.0163891\ttotal: 583ms\tremaining: 166ms\n",
      "778:\tlearn: 0.0163772\ttotal: 584ms\tremaining: 166ms\n",
      "779:\tlearn: 0.0163684\ttotal: 587ms\tremaining: 166ms\n",
      "780:\tlearn: 0.0163605\ttotal: 588ms\tremaining: 165ms\n",
      "781:\tlearn: 0.0163487\ttotal: 589ms\tremaining: 164ms\n",
      "782:\tlearn: 0.0163297\ttotal: 590ms\tremaining: 163ms\n",
      "783:\tlearn: 0.0163079\ttotal: 591ms\tremaining: 163ms\n",
      "784:\tlearn: 0.0162965\ttotal: 592ms\tremaining: 162ms\n",
      "785:\tlearn: 0.0162909\ttotal: 593ms\tremaining: 161ms\n",
      "786:\tlearn: 0.0162729\ttotal: 593ms\tremaining: 161ms\n",
      "787:\tlearn: 0.0162618\ttotal: 594ms\tremaining: 160ms\n",
      "788:\tlearn: 0.0162486\ttotal: 595ms\tremaining: 159ms\n",
      "789:\tlearn: 0.0162380\ttotal: 595ms\tremaining: 158ms\n",
      "790:\tlearn: 0.0162296\ttotal: 596ms\tremaining: 157ms\n",
      "791:\tlearn: 0.0162190\ttotal: 596ms\tremaining: 157ms\n",
      "792:\tlearn: 0.0161844\ttotal: 597ms\tremaining: 156ms\n",
      "793:\tlearn: 0.0161771\ttotal: 598ms\tremaining: 155ms\n",
      "794:\tlearn: 0.0161632\ttotal: 599ms\tremaining: 154ms\n",
      "795:\tlearn: 0.0161570\ttotal: 599ms\tremaining: 154ms\n",
      "796:\tlearn: 0.0161297\ttotal: 602ms\tremaining: 153ms\n",
      "797:\tlearn: 0.0161229\ttotal: 603ms\tremaining: 153ms\n",
      "798:\tlearn: 0.0160911\ttotal: 604ms\tremaining: 152ms\n",
      "799:\tlearn: 0.0160827\ttotal: 605ms\tremaining: 151ms\n",
      "800:\tlearn: 0.0160653\ttotal: 606ms\tremaining: 151ms\n",
      "801:\tlearn: 0.0160567\ttotal: 608ms\tremaining: 150ms\n",
      "802:\tlearn: 0.0160370\ttotal: 609ms\tremaining: 149ms\n",
      "803:\tlearn: 0.0160334\ttotal: 610ms\tremaining: 149ms\n",
      "804:\tlearn: 0.0160082\ttotal: 611ms\tremaining: 148ms\n",
      "805:\tlearn: 0.0159978\ttotal: 613ms\tremaining: 147ms\n",
      "806:\tlearn: 0.0159853\ttotal: 613ms\tremaining: 147ms\n",
      "807:\tlearn: 0.0159772\ttotal: 615ms\tremaining: 146ms\n",
      "808:\tlearn: 0.0159557\ttotal: 616ms\tremaining: 145ms\n",
      "809:\tlearn: 0.0159265\ttotal: 618ms\tremaining: 145ms\n",
      "810:\tlearn: 0.0159162\ttotal: 618ms\tremaining: 144ms\n",
      "811:\tlearn: 0.0159056\ttotal: 619ms\tremaining: 143ms\n",
      "812:\tlearn: 0.0158938\ttotal: 620ms\tremaining: 143ms\n",
      "813:\tlearn: 0.0158838\ttotal: 621ms\tremaining: 142ms\n",
      "814:\tlearn: 0.0158781\ttotal: 621ms\tremaining: 141ms\n",
      "815:\tlearn: 0.0158700\ttotal: 622ms\tremaining: 140ms\n",
      "816:\tlearn: 0.0158600\ttotal: 623ms\tremaining: 140ms\n",
      "817:\tlearn: 0.0158320\ttotal: 624ms\tremaining: 139ms\n",
      "818:\tlearn: 0.0158053\ttotal: 625ms\tremaining: 138ms\n",
      "819:\tlearn: 0.0157983\ttotal: 626ms\tremaining: 137ms\n",
      "820:\tlearn: 0.0157910\ttotal: 626ms\tremaining: 137ms\n",
      "821:\tlearn: 0.0157623\ttotal: 627ms\tremaining: 136ms\n",
      "822:\tlearn: 0.0157523\ttotal: 628ms\tremaining: 135ms\n",
      "823:\tlearn: 0.0157425\ttotal: 628ms\tremaining: 134ms\n",
      "824:\tlearn: 0.0157341\ttotal: 628ms\tremaining: 133ms\n",
      "825:\tlearn: 0.0157275\ttotal: 629ms\tremaining: 133ms\n",
      "826:\tlearn: 0.0157180\ttotal: 630ms\tremaining: 132ms\n",
      "827:\tlearn: 0.0157085\ttotal: 630ms\tremaining: 131ms\n",
      "828:\tlearn: 0.0156909\ttotal: 630ms\tremaining: 130ms\n",
      "829:\tlearn: 0.0156876\ttotal: 631ms\tremaining: 129ms\n",
      "830:\tlearn: 0.0156786\ttotal: 631ms\tremaining: 128ms\n",
      "831:\tlearn: 0.0156692\ttotal: 632ms\tremaining: 128ms\n",
      "832:\tlearn: 0.0156652\ttotal: 632ms\tremaining: 127ms\n",
      "833:\tlearn: 0.0156534\ttotal: 633ms\tremaining: 126ms\n",
      "834:\tlearn: 0.0156458\ttotal: 634ms\tremaining: 125ms\n",
      "835:\tlearn: 0.0156366\ttotal: 634ms\tremaining: 124ms\n",
      "836:\tlearn: 0.0156200\ttotal: 635ms\tremaining: 124ms\n",
      "837:\tlearn: 0.0156111\ttotal: 635ms\tremaining: 123ms\n",
      "838:\tlearn: 0.0155930\ttotal: 636ms\tremaining: 122ms\n",
      "839:\tlearn: 0.0155851\ttotal: 636ms\tremaining: 121ms\n",
      "840:\tlearn: 0.0155776\ttotal: 637ms\tremaining: 120ms\n",
      "841:\tlearn: 0.0155643\ttotal: 637ms\tremaining: 120ms\n",
      "842:\tlearn: 0.0155556\ttotal: 638ms\tremaining: 119ms\n",
      "843:\tlearn: 0.0155484\ttotal: 638ms\tremaining: 118ms\n",
      "844:\tlearn: 0.0155386\ttotal: 638ms\tremaining: 117ms\n",
      "845:\tlearn: 0.0155301\ttotal: 639ms\tremaining: 116ms\n",
      "846:\tlearn: 0.0155213\ttotal: 639ms\tremaining: 115ms\n",
      "847:\tlearn: 0.0155058\ttotal: 639ms\tremaining: 115ms\n",
      "848:\tlearn: 0.0154877\ttotal: 640ms\tremaining: 114ms\n",
      "849:\tlearn: 0.0154806\ttotal: 640ms\tremaining: 113ms\n",
      "850:\tlearn: 0.0154771\ttotal: 641ms\tremaining: 112ms\n",
      "851:\tlearn: 0.0154550\ttotal: 642ms\tremaining: 111ms\n",
      "852:\tlearn: 0.0154393\ttotal: 642ms\tremaining: 111ms\n",
      "853:\tlearn: 0.0154201\ttotal: 643ms\tremaining: 110ms\n",
      "854:\tlearn: 0.0154119\ttotal: 644ms\tremaining: 109ms\n",
      "855:\tlearn: 0.0153912\ttotal: 645ms\tremaining: 108ms\n",
      "856:\tlearn: 0.0153843\ttotal: 645ms\tremaining: 108ms\n",
      "857:\tlearn: 0.0153633\ttotal: 646ms\tremaining: 107ms\n",
      "858:\tlearn: 0.0153509\ttotal: 647ms\tremaining: 106ms\n",
      "859:\tlearn: 0.0153314\ttotal: 647ms\tremaining: 105ms\n",
      "860:\tlearn: 0.0153268\ttotal: 647ms\tremaining: 104ms\n",
      "861:\tlearn: 0.0152961\ttotal: 648ms\tremaining: 104ms\n",
      "862:\tlearn: 0.0152782\ttotal: 649ms\tremaining: 103ms\n",
      "863:\tlearn: 0.0152703\ttotal: 650ms\tremaining: 102ms\n",
      "864:\tlearn: 0.0152639\ttotal: 650ms\tremaining: 101ms\n",
      "865:\tlearn: 0.0152583\ttotal: 650ms\tremaining: 101ms\n",
      "866:\tlearn: 0.0152397\ttotal: 651ms\tremaining: 99.8ms\n",
      "867:\tlearn: 0.0152213\ttotal: 651ms\tremaining: 99ms\n",
      "868:\tlearn: 0.0152132\ttotal: 651ms\tremaining: 98.2ms\n",
      "869:\tlearn: 0.0151872\ttotal: 652ms\tremaining: 97.4ms\n",
      "870:\tlearn: 0.0151442\ttotal: 652ms\tremaining: 96.6ms\n",
      "871:\tlearn: 0.0151317\ttotal: 653ms\tremaining: 95.8ms\n",
      "872:\tlearn: 0.0151232\ttotal: 654ms\tremaining: 95.1ms\n",
      "873:\tlearn: 0.0151113\ttotal: 655ms\tremaining: 94.4ms\n",
      "874:\tlearn: 0.0151029\ttotal: 655ms\tremaining: 93.6ms\n",
      "875:\tlearn: 0.0150966\ttotal: 656ms\tremaining: 92.8ms\n",
      "876:\tlearn: 0.0150814\ttotal: 656ms\tremaining: 92ms\n",
      "877:\tlearn: 0.0150735\ttotal: 657ms\tremaining: 91.3ms\n",
      "878:\tlearn: 0.0150648\ttotal: 658ms\tremaining: 90.5ms\n",
      "879:\tlearn: 0.0150595\ttotal: 658ms\tremaining: 89.8ms\n",
      "880:\tlearn: 0.0150491\ttotal: 659ms\tremaining: 89ms\n",
      "881:\tlearn: 0.0150438\ttotal: 659ms\tremaining: 88.2ms\n",
      "882:\tlearn: 0.0150242\ttotal: 660ms\tremaining: 87.4ms\n",
      "883:\tlearn: 0.0150150\ttotal: 660ms\tremaining: 86.7ms\n",
      "884:\tlearn: 0.0150049\ttotal: 661ms\tremaining: 85.9ms\n",
      "885:\tlearn: 0.0149801\ttotal: 662ms\tremaining: 85.1ms\n",
      "886:\tlearn: 0.0149702\ttotal: 662ms\tremaining: 84.4ms\n",
      "887:\tlearn: 0.0149561\ttotal: 663ms\tremaining: 83.6ms\n",
      "888:\tlearn: 0.0149445\ttotal: 664ms\tremaining: 82.9ms\n",
      "889:\tlearn: 0.0149377\ttotal: 664ms\tremaining: 82.1ms\n",
      "890:\tlearn: 0.0149285\ttotal: 665ms\tremaining: 81.3ms\n",
      "891:\tlearn: 0.0149202\ttotal: 665ms\tremaining: 80.6ms\n",
      "892:\tlearn: 0.0149141\ttotal: 666ms\tremaining: 79.8ms\n",
      "893:\tlearn: 0.0148964\ttotal: 666ms\tremaining: 79ms\n",
      "894:\tlearn: 0.0148888\ttotal: 667ms\tremaining: 78.2ms\n",
      "895:\tlearn: 0.0148764\ttotal: 667ms\tremaining: 77.5ms\n",
      "896:\tlearn: 0.0148702\ttotal: 668ms\tremaining: 76.7ms\n",
      "897:\tlearn: 0.0148509\ttotal: 668ms\tremaining: 75.9ms\n",
      "898:\tlearn: 0.0148445\ttotal: 669ms\tremaining: 75.2ms\n",
      "899:\tlearn: 0.0148380\ttotal: 670ms\tremaining: 74.4ms\n",
      "900:\tlearn: 0.0148202\ttotal: 670ms\tremaining: 73.6ms\n",
      "901:\tlearn: 0.0148105\ttotal: 671ms\tremaining: 72.9ms\n",
      "902:\tlearn: 0.0147945\ttotal: 671ms\tremaining: 72.1ms\n",
      "903:\tlearn: 0.0147840\ttotal: 672ms\tremaining: 71.3ms\n",
      "904:\tlearn: 0.0147781\ttotal: 672ms\tremaining: 70.6ms\n",
      "905:\tlearn: 0.0147637\ttotal: 673ms\tremaining: 69.9ms\n",
      "906:\tlearn: 0.0147576\ttotal: 674ms\tremaining: 69.1ms\n",
      "907:\tlearn: 0.0147514\ttotal: 674ms\tremaining: 68.3ms\n",
      "908:\tlearn: 0.0147453\ttotal: 675ms\tremaining: 67.6ms\n",
      "909:\tlearn: 0.0147278\ttotal: 676ms\tremaining: 66.8ms\n",
      "910:\tlearn: 0.0147051\ttotal: 676ms\tremaining: 66ms\n",
      "911:\tlearn: 0.0147007\ttotal: 676ms\tremaining: 65.3ms\n",
      "912:\tlearn: 0.0146865\ttotal: 677ms\tremaining: 64.5ms\n",
      "913:\tlearn: 0.0146626\ttotal: 677ms\tremaining: 63.7ms\n",
      "914:\tlearn: 0.0146532\ttotal: 678ms\tremaining: 63ms\n",
      "915:\tlearn: 0.0146497\ttotal: 678ms\tremaining: 62.2ms\n",
      "916:\tlearn: 0.0146343\ttotal: 679ms\tremaining: 61.5ms\n",
      "917:\tlearn: 0.0146299\ttotal: 679ms\tremaining: 60.7ms\n",
      "918:\tlearn: 0.0146166\ttotal: 680ms\tremaining: 59.9ms\n",
      "919:\tlearn: 0.0146141\ttotal: 681ms\tremaining: 59.2ms\n",
      "920:\tlearn: 0.0145779\ttotal: 681ms\tremaining: 58.4ms\n",
      "921:\tlearn: 0.0145746\ttotal: 682ms\tremaining: 57.7ms\n",
      "922:\tlearn: 0.0145689\ttotal: 682ms\tremaining: 56.9ms\n",
      "923:\tlearn: 0.0145585\ttotal: 683ms\tremaining: 56.2ms\n",
      "924:\tlearn: 0.0145503\ttotal: 683ms\tremaining: 55.4ms\n",
      "925:\tlearn: 0.0145333\ttotal: 684ms\tremaining: 54.7ms\n",
      "926:\tlearn: 0.0145279\ttotal: 685ms\tremaining: 53.9ms\n",
      "927:\tlearn: 0.0145204\ttotal: 685ms\tremaining: 53.2ms\n",
      "928:\tlearn: 0.0145042\ttotal: 686ms\tremaining: 52.4ms\n",
      "929:\tlearn: 0.0144807\ttotal: 687ms\tremaining: 51.7ms\n",
      "930:\tlearn: 0.0144723\ttotal: 687ms\tremaining: 50.9ms\n",
      "931:\tlearn: 0.0144511\ttotal: 688ms\tremaining: 50.2ms\n",
      "932:\tlearn: 0.0144423\ttotal: 688ms\tremaining: 49.4ms\n",
      "933:\tlearn: 0.0144347\ttotal: 689ms\tremaining: 48.7ms\n",
      "934:\tlearn: 0.0144215\ttotal: 689ms\tremaining: 47.9ms\n",
      "935:\tlearn: 0.0144140\ttotal: 690ms\tremaining: 47.2ms\n",
      "936:\tlearn: 0.0144038\ttotal: 690ms\tremaining: 46.4ms\n",
      "937:\tlearn: 0.0143959\ttotal: 691ms\tremaining: 45.7ms\n",
      "938:\tlearn: 0.0143883\ttotal: 691ms\tremaining: 44.9ms\n",
      "939:\tlearn: 0.0143800\ttotal: 692ms\tremaining: 44.2ms\n",
      "940:\tlearn: 0.0143702\ttotal: 693ms\tremaining: 43.4ms\n",
      "941:\tlearn: 0.0143398\ttotal: 694ms\tremaining: 42.7ms\n",
      "942:\tlearn: 0.0143318\ttotal: 694ms\tremaining: 42ms\n",
      "943:\tlearn: 0.0143070\ttotal: 695ms\tremaining: 41.2ms\n",
      "944:\tlearn: 0.0143004\ttotal: 695ms\tremaining: 40.5ms\n",
      "945:\tlearn: 0.0142901\ttotal: 696ms\tremaining: 39.7ms\n",
      "946:\tlearn: 0.0142824\ttotal: 696ms\tremaining: 39ms\n",
      "947:\tlearn: 0.0142389\ttotal: 697ms\tremaining: 38.2ms\n",
      "948:\tlearn: 0.0142252\ttotal: 697ms\tremaining: 37.5ms\n",
      "949:\tlearn: 0.0142180\ttotal: 698ms\tremaining: 36.7ms\n",
      "950:\tlearn: 0.0142170\ttotal: 699ms\tremaining: 36ms\n",
      "951:\tlearn: 0.0142099\ttotal: 699ms\tremaining: 35.3ms\n",
      "952:\tlearn: 0.0141906\ttotal: 700ms\tremaining: 34.5ms\n",
      "953:\tlearn: 0.0141828\ttotal: 700ms\tremaining: 33.8ms\n",
      "954:\tlearn: 0.0141813\ttotal: 701ms\tremaining: 33ms\n",
      "955:\tlearn: 0.0141748\ttotal: 701ms\tremaining: 32.3ms\n",
      "956:\tlearn: 0.0141651\ttotal: 702ms\tremaining: 31.5ms\n",
      "957:\tlearn: 0.0141584\ttotal: 702ms\tremaining: 30.8ms\n",
      "958:\tlearn: 0.0141515\ttotal: 702ms\tremaining: 30ms\n",
      "959:\tlearn: 0.0141441\ttotal: 703ms\tremaining: 29.3ms\n",
      "960:\tlearn: 0.0141339\ttotal: 703ms\tremaining: 28.5ms\n",
      "961:\tlearn: 0.0141254\ttotal: 704ms\tremaining: 27.8ms\n",
      "962:\tlearn: 0.0140841\ttotal: 704ms\tremaining: 27.1ms\n",
      "963:\tlearn: 0.0140791\ttotal: 704ms\tremaining: 26.3ms\n",
      "964:\tlearn: 0.0140731\ttotal: 705ms\tremaining: 25.6ms\n",
      "965:\tlearn: 0.0140577\ttotal: 706ms\tremaining: 24.8ms\n",
      "966:\tlearn: 0.0140520\ttotal: 706ms\tremaining: 24.1ms\n",
      "967:\tlearn: 0.0140448\ttotal: 707ms\tremaining: 23.4ms\n",
      "968:\tlearn: 0.0140412\ttotal: 708ms\tremaining: 22.6ms\n"
     ]
    },
    {
     "name": "stdout",
     "output_type": "stream",
     "text": [
      "969:\tlearn: 0.0140369\ttotal: 710ms\tremaining: 21.9ms\n",
      "970:\tlearn: 0.0140150\ttotal: 710ms\tremaining: 21.2ms\n",
      "971:\tlearn: 0.0140098\ttotal: 711ms\tremaining: 20.5ms\n",
      "972:\tlearn: 0.0140037\ttotal: 711ms\tremaining: 19.7ms\n",
      "973:\tlearn: 0.0139978\ttotal: 712ms\tremaining: 19ms\n",
      "974:\tlearn: 0.0139819\ttotal: 713ms\tremaining: 18.3ms\n",
      "975:\tlearn: 0.0139769\ttotal: 713ms\tremaining: 17.5ms\n",
      "976:\tlearn: 0.0139722\ttotal: 714ms\tremaining: 16.8ms\n",
      "977:\tlearn: 0.0139655\ttotal: 714ms\tremaining: 16.1ms\n",
      "978:\tlearn: 0.0139590\ttotal: 715ms\tremaining: 15.3ms\n",
      "979:\tlearn: 0.0139501\ttotal: 715ms\tremaining: 14.6ms\n",
      "980:\tlearn: 0.0139430\ttotal: 716ms\tremaining: 13.9ms\n",
      "981:\tlearn: 0.0139339\ttotal: 717ms\tremaining: 13.1ms\n",
      "982:\tlearn: 0.0139283\ttotal: 717ms\tremaining: 12.4ms\n",
      "983:\tlearn: 0.0139216\ttotal: 718ms\tremaining: 11.7ms\n",
      "984:\tlearn: 0.0139030\ttotal: 718ms\tremaining: 10.9ms\n",
      "985:\tlearn: 0.0138942\ttotal: 719ms\tremaining: 10.2ms\n",
      "986:\tlearn: 0.0138764\ttotal: 719ms\tremaining: 9.47ms\n",
      "987:\tlearn: 0.0138738\ttotal: 720ms\tremaining: 8.74ms\n",
      "988:\tlearn: 0.0138709\ttotal: 720ms\tremaining: 8.01ms\n",
      "989:\tlearn: 0.0138508\ttotal: 721ms\tremaining: 7.28ms\n",
      "990:\tlearn: 0.0138481\ttotal: 722ms\tremaining: 6.55ms\n",
      "991:\tlearn: 0.0138402\ttotal: 722ms\tremaining: 5.82ms\n",
      "992:\tlearn: 0.0138336\ttotal: 723ms\tremaining: 5.09ms\n"
     ]
    },
    {
     "name": "stdout",
     "output_type": "stream",
     "text": [
      "993:\tlearn: 0.0138230\ttotal: 723ms\tremaining: 4.37ms\n",
      "994:\tlearn: 0.0138151\ttotal: 726ms\tremaining: 3.65ms\n",
      "995:\tlearn: 0.0137940\ttotal: 726ms\tremaining: 2.92ms\n",
      "996:\tlearn: 0.0137839\ttotal: 727ms\tremaining: 2.19ms\n",
      "997:\tlearn: 0.0137617\ttotal: 727ms\tremaining: 1.46ms\n",
      "998:\tlearn: 0.0137581\ttotal: 728ms\tremaining: 728us\n",
      "999:\tlearn: 0.0137479\ttotal: 728ms\tremaining: 0us\n"
     ]
    },
    {
     "data": {
      "text/plain": [
       "<catboost.core.CatBoostRegressor at 0x7fca0ef37eb0>"
      ]
     },
     "execution_count": 9,
     "metadata": {},
     "output_type": "execute_result"
    }
   ],
   "source": [
    "#Train the Model \n",
    "prior_model = ctb.CatBoostRegressor()\n",
    "prior_model.fit(X_train,Y_train)"
   ]
  },
  {
   "cell_type": "code",
   "execution_count": 10,
   "id": "af65dcda",
   "metadata": {
    "execution": {
     "iopub.execute_input": "2022-07-24T19:04:31.440693Z",
     "iopub.status.busy": "2022-07-24T19:04:31.436138Z",
     "iopub.status.idle": "2022-07-24T19:04:31.479584Z",
     "shell.execute_reply": "2022-07-24T19:04:31.477007Z"
    },
    "id": "af65dcda",
    "papermill": {
     "duration": 0.065336,
     "end_time": "2022-07-24T19:04:31.483777",
     "exception": false,
     "start_time": "2022-07-24T19:04:31.418441",
     "status": "completed"
    },
    "tags": []
   },
   "outputs": [
    {
     "data": {
      "application/scrapbook.scrap.json+json": {
       "data": 0.0006938939020969691,
       "encoder": "json",
       "name": "Prior Model MSE",
       "version": 1
      }
     },
     "metadata": {
      "scrapbook": {
       "data": true,
       "display": false,
       "name": "Prior Model MSE"
      }
     },
     "output_type": "display_data"
    },
    {
     "data": {
      "application/scrapbook.scrap.json+json": {
       "data": 1.1275406845584202,
       "encoder": "json",
       "name": "ABC Pre-generator MSE",
       "version": 1
      }
     },
     "metadata": {
      "scrapbook": {
       "data": true,
       "display": false,
       "name": "ABC Pre-generator MSE"
      }
     },
     "output_type": "display_data"
    },
    {
     "data": {
      "application/scrapbook.scrap.json+json": {
       "data": 0.018739141682081552,
       "encoder": "json",
       "name": "Prior Model MAE",
       "version": 1
      }
     },
     "metadata": {
      "scrapbook": {
       "data": true,
       "display": false,
       "name": "Prior Model MAE"
      }
     },
     "output_type": "display_data"
    },
    {
     "name": "stdout",
     "output_type": "stream",
     "text": [
      "Prior Model MAE 0.018739141682081552\n",
      "ABC Pre-generator MAE 0.8196407185865369\n"
     ]
    }
   ],
   "source": [
    "y_pred = prior_model.predict(X_test)\n",
    "y_abc = y_pred + np.random.normal(0,variance, y_pred.shape) + bias \n",
    "mse = mean_squared_error(y_pred,Y_test)\n",
    "sb.glue(\"Prior Model MSE\",mse)\n",
    "mse = mean_squared_error(y_abc,Y_test)\n",
    "sb.glue(\"ABC Pre-generator MSE\",mse)\n",
    "mae = mean_absolute_error(y_pred,Y_test)\n",
    "sb.glue(\"Prior Model MAE\",mae)\n",
    "print(\"Prior Model MAE\",mae)\n",
    "mae = mean_absolute_error(y_abc,Y_test)\n",
    "print(\"ABC Pre-generator MAE\",mae)"
   ]
  },
  {
   "cell_type": "markdown",
   "id": "25609da2",
   "metadata": {
    "papermill": {
     "duration": 0.026592,
     "end_time": "2022-07-24T19:04:31.530876",
     "exception": false,
     "start_time": "2022-07-24T19:04:31.504284",
     "status": "completed"
    },
    "tags": []
   },
   "source": [
    "# mGAN Model"
   ]
  },
  {
   "cell_type": "code",
   "execution_count": 11,
   "id": "dfc3464d",
   "metadata": {
    "execution": {
     "iopub.execute_input": "2022-07-24T19:04:31.567092Z",
     "iopub.status.busy": "2022-07-24T19:04:31.566519Z",
     "iopub.status.idle": "2022-07-24T19:04:31.576132Z",
     "shell.execute_reply": "2022-07-24T19:04:31.573927Z"
    },
    "papermill": {
     "duration": 0.0361,
     "end_time": "2022-07-24T19:04:31.581128",
     "exception": false,
     "start_time": "2022-07-24T19:04:31.545028",
     "status": "completed"
    },
    "tags": []
   },
   "outputs": [],
   "source": [
    "# gen = network.Generator(n_features+1).to(device)\n",
    "# disc = network.Discriminator(n_features+1).to(device)\n",
    "\n",
    "# criterion = torch.nn.BCELoss()\n",
    "# gen_opt = torch.optim.Adam(gen.parameters(), lr=0.01, betas=(0.5, 0.999))\n",
    "# disc_opt = torch.optim.Adam(disc.parameters(), lr=0.01, betas=(0.5, 0.999))"
   ]
  },
  {
   "cell_type": "code",
   "execution_count": 12,
   "id": "b75fdd85",
   "metadata": {
    "execution": {
     "iopub.execute_input": "2022-07-24T19:04:31.615066Z",
     "iopub.status.busy": "2022-07-24T19:04:31.614441Z",
     "iopub.status.idle": "2022-07-24T19:04:31.619886Z",
     "shell.execute_reply": "2022-07-24T19:04:31.618814Z"
    },
    "papermill": {
     "duration": 0.028053,
     "end_time": "2022-07-24T19:04:31.623291",
     "exception": false,
     "start_time": "2022-07-24T19:04:31.595238",
     "status": "completed"
    },
    "tags": []
   },
   "outputs": [],
   "source": [
    "#Training the ABC_GAN \n",
    "# ABC_train_test2.training_GAN(disc,gen,disc_opt,gen_opt,train_data,batch_size,n_epochs,criterion,prior_model,variance,bias,device)"
   ]
  },
  {
   "cell_type": "code",
   "execution_count": 13,
   "id": "1fa7c368",
   "metadata": {
    "execution": {
     "iopub.execute_input": "2022-07-24T19:04:31.648369Z",
     "iopub.status.busy": "2022-07-24T19:04:31.647915Z",
     "iopub.status.idle": "2022-07-24T19:04:31.654056Z",
     "shell.execute_reply": "2022-07-24T19:04:31.653174Z"
    },
    "papermill": {
     "duration": 0.02326,
     "end_time": "2022-07-24T19:04:31.657583",
     "exception": false,
     "start_time": "2022-07-24T19:04:31.634323",
     "status": "completed"
    },
    "tags": []
   },
   "outputs": [],
   "source": [
    "# ABC_GAN1_metrics=ABC_train_test2.test_generator(gen,test_data,prior_model,variance,bias,\"1\",device)\n",
    "# sb.glue(\"ABC_GAN_1 Metrics\",ABC_GAN1_metrics)\n",
    "\n",
    "# print(\"MAE\")\n",
    "# print(mean(ABC_GAN1_metrics[1]))"
   ]
  },
  {
   "cell_type": "code",
   "execution_count": 14,
   "id": "eb22ce5c",
   "metadata": {
    "execution": {
     "iopub.execute_input": "2022-07-24T19:04:31.687100Z",
     "iopub.status.busy": "2022-07-24T19:04:31.686563Z",
     "iopub.status.idle": "2022-07-24T19:04:31.693010Z",
     "shell.execute_reply": "2022-07-24T19:04:31.691356Z"
    },
    "papermill": {
     "duration": 0.025697,
     "end_time": "2022-07-24T19:04:31.696005",
     "exception": false,
     "start_time": "2022-07-24T19:04:31.670308",
     "status": "completed"
    },
    "tags": []
   },
   "outputs": [],
   "source": [
    "# sanityChecks.discProbVsError(train_data,disc,device)\n",
    "# sanityChecks.discProbVsError(test_data,disc,device)"
   ]
  },
  {
   "cell_type": "markdown",
   "id": "03202451",
   "metadata": {
    "papermill": {
     "duration": 0.01326,
     "end_time": "2022-07-24T19:04:31.721988",
     "exception": false,
     "start_time": "2022-07-24T19:04:31.708728",
     "status": "completed"
    },
    "tags": []
   },
   "source": [
    "# mGAN Model with TabNet Generator"
   ]
  },
  {
   "cell_type": "code",
   "execution_count": 15,
   "id": "b3f16241",
   "metadata": {
    "execution": {
     "iopub.execute_input": "2022-07-24T19:04:31.766331Z",
     "iopub.status.busy": "2022-07-24T19:04:31.765871Z",
     "iopub.status.idle": "2022-07-24T19:04:31.790526Z",
     "shell.execute_reply": "2022-07-24T19:04:31.786254Z"
    },
    "papermill": {
     "duration": 0.047123,
     "end_time": "2022-07-24T19:04:31.793470",
     "exception": false,
     "start_time": "2022-07-24T19:04:31.746347",
     "status": "completed"
    },
    "tags": []
   },
   "outputs": [],
   "source": [
    "gen2 = network.GeneratorTabnet(n_features+1).to(device)\n",
    "disc2 = network.Discriminator(n_features+1).to(device)\n",
    "\n",
    "criterion = torch.nn.BCELoss()\n",
    "gen_opt = torch.optim.Adam(gen2.parameters(), lr=0.01, betas=(0.5, 0.999))\n",
    "disc_opt = torch.optim.Adam(disc2.parameters(), lr=0.01, betas=(0.5, 0.999))"
   ]
  },
  {
   "cell_type": "code",
   "execution_count": 16,
   "id": "b80b99b1",
   "metadata": {
    "execution": {
     "iopub.execute_input": "2022-07-24T19:04:31.820558Z",
     "iopub.status.busy": "2022-07-24T19:04:31.819770Z",
     "iopub.status.idle": "2022-07-24T19:30:20.988714Z",
     "shell.execute_reply": "2022-07-24T19:30:20.985273Z"
    },
    "papermill": {
     "duration": 1549.189101,
     "end_time": "2022-07-24T19:30:20.995345",
     "exception": false,
     "start_time": "2022-07-24T19:04:31.806244",
     "status": "completed"
    },
    "tags": []
   },
   "outputs": [
    {
     "data": {
      "image/png": "[encoded data removed]",
      "text/plain": [
       "<Figure size 432x288 with 1 Axes>"
      ]
     },
     "metadata": {
      "needs_background": "light"
     },
     "output_type": "display_data"
    },
    {
     "data": {
      "image/png": "[encoded data removed]",
      "text/plain": [
       "<Figure size 432x288 with 1 Axes>"
      ]
     },
     "metadata": {
      "needs_background": "light"
     },
     "output_type": "display_data"
    }
   ],
   "source": [
    "#Training the ABC_GAN \n",
    "ABC_train_test2.training_GAN(disc2,gen2,disc_opt,gen_opt,train_data,batch_size,n_epochs,criterion,prior_model,variance,bias,device)"
   ]
  },
  {
   "cell_type": "code",
   "execution_count": 17,
   "id": "56847a23",
   "metadata": {
    "execution": {
     "iopub.execute_input": "2022-07-24T19:30:21.184223Z",
     "iopub.status.busy": "2022-07-24T19:30:21.183478Z",
     "iopub.status.idle": "2022-07-24T19:30:24.418525Z",
     "shell.execute_reply": "2022-07-24T19:30:24.417129Z"
    },
    "papermill": {
     "duration": 3.405193,
     "end_time": "2022-07-24T19:30:24.421723",
     "exception": false,
     "start_time": "2022-07-24T19:30:21.016530",
     "status": "completed"
    },
    "tags": []
   },
   "outputs": [
    {
     "data": {
      "application/scrapbook.scrap.json+json": {
       "data": 0.06802315448994616,
       "encoder": "json",
       "name": "ABC-GAN Model 1 MSE",
       "version": 1
      }
     },
     "metadata": {
      "scrapbook": {
       "data": true,
       "display": false,
       "name": "ABC-GAN Model 1 MSE"
      }
     },
     "output_type": "display_data"
    },
    {
     "data": {
      "application/scrapbook.scrap.json+json": {
       "data": 0.12890103221762103,
       "encoder": "json",
       "name": "ABC-GAN Model 1 MAE",
       "version": 1
      }
     },
     "metadata": {
      "scrapbook": {
       "data": true,
       "display": false,
       "name": "ABC-GAN Model 1 MAE"
      }
     },
     "output_type": "display_data"
    },
    {
     "data": {
      "application/scrapbook.scrap.json+json": {
       "data": 19.850758961513638,
       "encoder": "json",
       "name": "ABC-GAN Model 1 Manhattan Distance",
       "version": 1
      }
     },
     "metadata": {
      "scrapbook": {
       "data": true,
       "display": false,
       "name": "ABC-GAN Model 1 Manhattan Distance"
      }
     },
     "output_type": "display_data"
    },
    {
     "data": {
      "application/scrapbook.scrap.json+json": {
       "data": 3.235921159969795,
       "encoder": "json",
       "name": "ABC-GAN Model 1 Euclidean distance",
       "version": 1
      }
     },
     "metadata": {
      "scrapbook": {
       "data": true,
       "display": false,
       "name": "ABC-GAN Model 1 Euclidean distance"
      }
     },
     "output_type": "display_data"
    },
    {
     "data": {
      "application/scrapbook.scrap.json+json": {
       "data": [
        [
         0.06362172352826691,
         0.06179141269459519,
         0.07066481431827827,
         0.07059557668227737,
         0.06834447291141298,
         0.07069474442775006,
         0.06965580542246294,
         0.06869226102207715,
         0.06873234758555485,
         0.06949416988850014,
         0.06971527167544792,
         0.06425609147072911,
         0.06497763192731389,
         0.06306285093300375,
         0.06809840040304369,
         0.06155803533309191,
         0.06794825960893625,
         0.07181161135257864,
         0.06670528656672288,
         0.06653333097250215,
         0.06775430268635708,
         0.06636664841104498,
         0.0697811843616048,
         0.0739443266840138,
         0.0677653206288994,
         0.06890590699927276,
         0.0647349139290193,
         0.06749696491832267,
         0.07215463181716397,
         0.06860306640285176,
         0.06497351409500089,
         0.06989222680135451,
         0.06370362306038906,
         0.06310962670477002,
         0.06938083075644409,
         0.06858326657738463,
         0.06789730331105792,
         0.0699671200973736,
         0.06431701902685277,
         0.06673452382109182,
         0.07066254023985881,
         0.0725157369027163,
         0.06663872403516409,
         0.06838862210709634,
         0.06718827477443433,
         0.06871255174251696,
         0.0695784569857693,
         0.061024566147249555,
         0.06856681734082865,
         0.06825957882232708,
         0.0676435673723926,
         0.06564308520815434,
         0.06919053541313064,
         0.07124954138976225,
         0.06801464202479046,
         0.06708234451018054,
         0.06952880227801722,
         0.07050664528407806,
         0.06838453092833313,
         0.06736333392192345,
         0.06768776416192424,
         0.06445245266059678,
         0.06946861625158407,
         0.06745782421980633,
         0.06569169146741774,
         0.06820318727286759,
         0.0644871329926418,
         0.06975884992185437,
         0.0646880142492846,
         0.0687831555762392,
         0.06909133068874072,
         0.07281069095873381,
         0.06594234914820167,
         0.06905425349745767,
         0.07450257587132857,
         0.06963841047606492,
         0.06996865271327216,
         0.06884062913192818,
         0.0695417386540765,
         0.06565259603650822,
         0.07098883784642383,
         0.06524053516918339,
         0.07032354487500289,
         0.06596383257955278,
         0.06938756354426533,
         0.06673856769350342,
         0.06774340464376863,
         0.06913520511565331,
         0.06616396843441391,
         0.06879281190487563,
         0.06617223565249329,
         0.06593971335974048,
         0.07093134608755022,
         0.06577118899412256,
         0.06744822675843641,
         0.07718894386479623,
         0.07406281436667898,
         0.06506854095315748,
         0.06766576845460957,
         0.06670316550231868
        ],
        [
         0.12506838549267163,
         0.12544589083303104,
         0.13154799055743527,
         0.13289578660548507,
         0.12763313170183788,
         0.130233447369817,
         0.13024723133096447,
         0.130369418143452,
         0.12818278502914812,
         0.1299324410108777,
         0.12939285414365978,
         0.1288031576709314,
         0.12408150809925872,
         0.1267729363851733,
         0.12917999420073126,
         0.11880731848733765,
         0.1291139963288586,
         0.13347299924338019,
         0.1284933653357741,
         0.1255573317795605,
         0.12665203910369377,
         0.12722752896415723,
         0.13085891137068922,
         0.1353462187500743,
         0.1295613499430867,
         0.127754023032529,
         0.12578701798792008,
         0.1259301754754859,
         0.13456992621158625,
         0.12807715790612356,
         0.12602453640142044,
         0.1316565213265357,
         0.1265560049902309,
         0.12503470078884782,
         0.13338510353456845,
         0.12785585524586887,
         0.12832577550759564,
         0.12830178284799898,
         0.12192298665449217,
         0.12792962895972387,
         0.13087404964419155,
         0.1376065591519529,
         0.12529401248925692,
         0.12919362557011765,
         0.12724745791260297,
         0.1288328937605604,
         0.13586854954044542,
         0.11792739674255445,
         0.1289695357637746,
         0.12794578235064233,
         0.12983415928947462,
         0.12551656365394592,
         0.1324382440320083,
         0.13467717819012603,
         0.12746930364277456,
         0.12923948969933893,
         0.12828380493568137,
         0.13397603201401698,
         0.12862213817122695,
         0.12733746668348064,
         0.12993253070812721,
         0.12535964058978216,
         0.13013068959116936,
         0.12724873438090473,
         0.12483797914215497,
         0.13117351721633563,
         0.1262950287140035,
         0.13293436406688255,
         0.12724389653507764,
         0.13074707776888625,
         0.1326586961649455,
         0.13316511541798517,
         0.12385954969115072,
         0.13187446856460014,
         0.13421917435797778,
         0.13102010255316635,
         0.12854028831828723,
         0.13595804455992463,
         0.13030542051056762,
         0.12468611134530662,
         0.1325016784687321,
         0.12595898648361106,
         0.12880119526541078,
         0.12781575307637066,
         0.1266905737968234,
         0.12779453687079542,
         0.13012477378179502,
         0.12576616773164118,
         0.12691869804417932,
         0.1301485893691515,
         0.1286585329027919,
         0.12708623049321113,
         0.12959476081388338,
         0.1269131451845169,
         0.13083459794908375,
         0.1381358154988908,
         0.13296118422181574,
         0.12084582433491559,
         0.1318944138172385,
         0.12732387546982085
        ],
        [
         19.26053136587143,
         19.31866718828678,
         20.25839054584503,
         20.4659511372447,
         19.655502282083035,
         20.05595089495182,
         20.05807362496853,
         20.076890394091606,
         19.74014889448881,
         20.009595915675163,
         19.926499538123608,
         19.835686281323433,
         19.108552247285843,
         19.52303220331669,
         19.893719106912613,
         18.29632704705,
         19.883555434644222,
         20.55484188348055,
         19.787978261709213,
         19.335829094052315,
         19.50441402196884,
         19.593039460480213,
         20.15227235108614,
         20.843317687511444,
         19.95244789123535,
         19.674119547009468,
         19.371200770139694,
         19.39324702322483,
         20.723768636584282,
         19.72388231754303,
         19.40777860581875,
         20.2751042842865,
         19.48962476849556,
         19.255343921482563,
         20.54130594432354,
         19.689801707863808,
         19.762169428169727,
         19.758474558591843,
         18.776139944791794,
         19.701162859797478,
         20.154603645205498,
         21.19141010940075,
         19.295277923345566,
         19.89581833779812,
         19.59610851854086,
         19.8402656391263,
         20.923756629228592,
         18.160819098353386,
         19.86130850762129,
         19.70365048199892,
         19.99446053057909,
         19.329550802707672,
         20.39548958092928,
         20.74028544127941,
         19.630272760987282,
         19.902881413698196,
         19.75570596009493,
         20.632308930158615,
         19.80780927836895,
         19.60996986925602,
         20.00960972905159,
         19.305384650826454,
         20.04012619704008,
         19.59630509465933,
         19.225048787891865,
         20.20072165131569,
         19.44943442195654,
         20.471892066299915,
         19.59556006640196,
         20.13504997640848,
         20.429439209401608,
         20.507427774369717,
         19.07437065243721,
         20.30866815894842,
         20.669752851128578,
         20.17709579318762,
         19.795204401016235,
         20.937538862228394,
         20.067034758627415,
         19.20166114717722,
         20.405258484184742,
         19.397683918476105,
         19.83538407087326,
         19.68362597376108,
         19.510348364710808,
         19.680358678102493,
         20.03921516239643,
         19.36798983067274,
         19.545479498803616,
         20.04288276284933,
         19.813414067029953,
         19.571279495954514,
         19.95759316533804,
         19.544624358415604,
         20.148528084158897,
         21.272915586829185,
         20.476022370159626,
         18.610256947577,
         20.31173972785473,
         19.60787682235241
        ],
        [
         3.1301350487404056,
         3.084781605716628,
         3.2988454654643724,
         3.297228959152019,
         3.244233164918575,
         3.299544005142756,
         3.2752090063168917,
         3.252477240104821,
         3.2534261215179674,
         3.2714067559429254,
         3.276606756694946,
         3.1457015253345757,
         3.163313976956182,
         3.116356693910788,
         3.2383875095591512,
         3.0789507045901456,
         3.2348156021288412,
         3.325505698130302,
         3.2050919068375125,
         3.2009581330853623,
         3.2301954451238686,
         3.1969460200793076,
         3.278155333672756,
         3.374526086628776,
         3.230458075389697,
         3.25753122439187,
         3.1574003143518197,
         3.224055303096039,
         3.333438659979099,
         3.25036493736306,
         3.1632137409018277,
         3.2807625527320003,
         3.132149094679229,
         3.117512231336805,
         3.2687379730551025,
         3.2498958526262394,
         3.233602435350227,
         3.28251983923868,
         3.1471925473563456,
         3.205794233641351,
         3.2987923846368763,
         3.3417695137484134,
         3.203492391346555,
         3.245280851404518,
         3.2166744185980165,
         3.2529575724788673,
         3.273390043335574,
         3.0655803996431783,
         3.2495060963918205,
         3.2422176266620917,
         3.227554705244894,
         3.179470887121907,
         3.2642522043528004,
         3.312465754392547,
         3.236395351593765,
         3.2141376844447405,
         3.2722218064817437,
         3.295151494809915,
         3.2451837795359597,
         3.2208622174778303,
         3.228608938991579,
         3.1505043579928436,
         3.2708052376660928,
         3.223120371604227,
         3.180647809170693,
         3.2408780970628324,
         3.151351849741129,
         3.27763068205763,
         3.1562563575206983,
         3.254628390268363,
         3.2619112382261513,
         3.3485588553353813,
         3.186710179608911,
         3.2610358842871503,
         3.387240275531777,
         3.2748000264617674,
         3.2825557905150533,
         3.25598785107023,
         3.27252620352042,
         3.1797012107464226,
         3.306400010335904,
         3.1697069921452106,
         3.2908700841495464,
         3.187229238264974,
         3.2688965700702206,
         3.2058913619771214,
         3.229935651857536,
         3.2629467644769514,
         3.1920606414821977,
         3.254856837612192,
         3.1922600599706734,
         3.186646490811309,
         3.305060861388596,
         3.182571775324929,
         3.2228910811256406,
         3.4477670099904687,
         3.377228658599912,
         3.165526071095648,
         3.2280843145757316,
         3.2050409494040903
        ]
       ],
       "encoder": "json",
       "name": "ABC_GAN_2 Metrics",
       "version": 1
      }
     },
     "metadata": {
      "scrapbook": {
       "data": true,
       "display": false,
       "name": "ABC_GAN_2 Metrics"
      }
     },
     "output_type": "display_data"
    },
    {
     "name": "stdout",
     "output_type": "stream",
     "text": [
      "MAE\n",
      "0.12890103221762103\n"
     ]
    }
   ],
   "source": [
    "ABC_GAN2_metrics=ABC_train_test2.test_generator(gen2,test_data,prior_model,variance,bias,\"1\",device)\n",
    "sb.glue(\"ABC_GAN_2 Metrics\",ABC_GAN2_metrics)\n",
    "\n",
    "print(\"MAE\")\n",
    "print(mean(ABC_GAN2_metrics[1]))"
   ]
  },
  {
   "cell_type": "code",
   "execution_count": 18,
   "id": "2eeaaf12",
   "metadata": {
    "execution": {
     "iopub.execute_input": "2022-07-24T19:30:24.460907Z",
     "iopub.status.busy": "2022-07-24T19:30:24.460439Z",
     "iopub.status.idle": "2022-07-24T19:30:25.427906Z",
     "shell.execute_reply": "2022-07-24T19:30:25.425320Z"
    },
    "papermill": {
     "duration": 0.989723,
     "end_time": "2022-07-24T19:30:25.431707",
     "exception": false,
     "start_time": "2022-07-24T19:30:24.441984",
     "status": "completed"
    },
    "tags": []
   },
   "outputs": [
    {
     "data": {
      "image/png": "[encoded data removed]",
      "text/plain": [
       "<Figure size 432x288 with 1 Axes>"
      ]
     },
     "metadata": {
      "needs_background": "light"
     },
     "output_type": "display_data"
    },
    {
     "data": {
      "image/png": "[encoded data removed]",
      "text/plain": [
       "<Figure size 432x288 with 1 Axes>"
      ]
     },
     "metadata": {
      "needs_background": "light"
     },
     "output_type": "display_data"
    },
    {
     "data": {
      "image/png": "[encoded data removed]",
      "text/plain": [
       "<Figure size 432x288 with 1 Axes>"
      ]
     },
     "metadata": {
      "needs_background": "light"
     },
     "output_type": "display_data"
    },
    {
     "data": {
      "image/png": "[encoded data removed]",
      "text/plain": [
       "<Figure size 432x288 with 1 Axes>"
      ]
     },
     "metadata": {
      "needs_background": "light"
     },
     "output_type": "display_data"
    }
   ],
   "source": [
    "sanityChecks.discProbVsError(train_data,disc2,device)\n",
    "sanityChecks.discProbVsError(test_data,disc2,device)"
   ]
  },
  {
   "cell_type": "markdown",
   "id": "130f3a4d",
   "metadata": {
    "id": "130f3a4d",
    "papermill": {
     "duration": 0.01797,
     "end_time": "2022-07-24T19:30:25.469114",
     "exception": false,
     "start_time": "2022-07-24T19:30:25.451144",
     "status": "completed"
    },
    "tags": []
   },
   "source": [
    "# skipGAN Model"
   ]
  },
  {
   "cell_type": "code",
   "execution_count": 19,
   "id": "4e43dad1",
   "metadata": {
    "execution": {
     "iopub.execute_input": "2022-07-24T19:30:25.508323Z",
     "iopub.status.busy": "2022-07-24T19:30:25.507874Z",
     "iopub.status.idle": "2022-07-24T19:30:25.526954Z",
     "shell.execute_reply": "2022-07-24T19:30:25.526225Z"
    },
    "id": "4e43dad1",
    "papermill": {
     "duration": 0.043128,
     "end_time": "2022-07-24T19:30:25.531073",
     "exception": false,
     "start_time": "2022-07-24T19:30:25.487945",
     "status": "completed"
    },
    "tags": []
   },
   "outputs": [],
   "source": [
    "#Generator\n",
    "gen3 = network.GeneratorWithSkipConnection(n_features+1).to(device)\n",
    "constraints=network.weightConstraint()\n",
    "#Discriminator \n",
    "disc3 = network.Discriminator(n_features+1).to(device)\n",
    "\n",
    "criterion = torch.nn.BCELoss()\n",
    "gen_opt = torch.optim.Adam(gen3.parameters(), lr=0.01, betas=(0.5, 0.999))\n",
    "disc_opt = torch.optim.Adam(disc3.parameters(), lr=0.01, betas=(0.5, 0.999))\n"
   ]
  },
  {
   "cell_type": "code",
   "execution_count": 20,
   "id": "26acbc37",
   "metadata": {
    "execution": {
     "iopub.execute_input": "2022-07-24T19:30:25.573347Z",
     "iopub.status.busy": "2022-07-24T19:30:25.572743Z",
     "iopub.status.idle": "2022-07-24T19:41:25.679707Z",
     "shell.execute_reply": "2022-07-24T19:41:25.676683Z"
    },
    "id": "26acbc37",
    "papermill": {
     "duration": 660.136595,
     "end_time": "2022-07-24T19:41:25.686000",
     "exception": false,
     "start_time": "2022-07-24T19:30:25.549405",
     "status": "completed"
    },
    "tags": []
   },
   "outputs": [
    {
     "data": {
      "image/png": "[encoded data removed]",
      "text/plain": [
       "<Figure size 432x288 with 1 Axes>"
      ]
     },
     "metadata": {
      "needs_background": "light"
     },
     "output_type": "display_data"
    },
    {
     "data": {
      "image/png": "[encoded data removed]",
      "text/plain": [
       "<Figure size 432x288 with 1 Axes>"
      ]
     },
     "metadata": {
      "needs_background": "light"
     },
     "output_type": "display_data"
    }
   ],
   "source": [
    "ABC_train_test2.training_GAN_skip_connection(disc3,gen3,disc_opt,gen_opt,train_data,batch_size,n_epochs,criterion,prior_model,variance,bias,device)"
   ]
  },
  {
   "cell_type": "code",
   "execution_count": 21,
   "id": "c5e0717b",
   "metadata": {
    "execution": {
     "iopub.execute_input": "2022-07-24T19:41:25.747240Z",
     "iopub.status.busy": "2022-07-24T19:41:25.746351Z",
     "iopub.status.idle": "2022-07-24T19:41:31.451201Z",
     "shell.execute_reply": "2022-07-24T19:41:31.449851Z"
    },
    "id": "c5e0717b",
    "papermill": {
     "duration": 5.748021,
     "end_time": "2022-07-24T19:41:31.457996",
     "exception": false,
     "start_time": "2022-07-24T19:41:25.709975",
     "status": "completed"
    },
    "tags": []
   },
   "outputs": [
    {
     "data": {
      "application/scrapbook.scrap.json+json": {
       "data": 0.11973264321596969,
       "encoder": "json",
       "name": "ABC-GAN Model 3 MSE",
       "version": 1
      }
     },
     "metadata": {
      "scrapbook": {
       "data": true,
       "display": false,
       "name": "ABC-GAN Model 3 MSE"
      }
     },
     "output_type": "display_data"
    },
    {
     "data": {
      "application/scrapbook.scrap.json+json": {
       "data": 0.20672737848154246,
       "encoder": "json",
       "name": "ABC-GAN Model 3 MAE",
       "version": 1
      }
     },
     "metadata": {
      "scrapbook": {
       "data": true,
       "display": false,
       "name": "ABC-GAN Model 3 MAE"
      }
     },
     "output_type": "display_data"
    },
    {
     "data": {
      "application/scrapbook.scrap.json+json": {
       "data": 31.836016286157538,
       "encoder": "json",
       "name": "ABC-GAN Model 3 Manhattan Distance",
       "version": 1
      }
     },
     "metadata": {
      "scrapbook": {
       "data": true,
       "display": false,
       "name": "ABC-GAN Model 3 Manhattan Distance"
      }
     },
     "output_type": "display_data"
    },
    {
     "data": {
      "application/scrapbook.scrap.json+json": {
       "data": 4.293800593929522,
       "encoder": "json",
       "name": "ABC-GAN Model 3 Euclidean distance",
       "version": 1
      }
     },
     "metadata": {
      "scrapbook": {
       "data": true,
       "display": false,
       "name": "ABC-GAN Model 3 Euclidean distance"
      }
     },
     "output_type": "display_data"
    },
    {
     "data": {
      "application/scrapbook.scrap.json+json": {
       "data": [
        [
         0.11612036012319947,
         0.12351565431856239,
         0.1183367083649495,
         0.11865561022935295,
         0.11930252436003358,
         0.1190086220482243,
         0.11741102453889654,
         0.11737455090001507,
         0.1191545702818957,
         0.12501305489055492,
         0.11982440976978054,
         0.12545626847607907,
         0.1189311664107097,
         0.12320487875429623,
         0.12246080578578217,
         0.11868549052360004,
         0.11809946786409069,
         0.11863978995835478,
         0.11898678626639028,
         0.12370315427652126,
         0.11855764426387444,
         0.11706379230944032,
         0.11927671465755169,
         0.1197380477886102,
         0.12054143880160567,
         0.11775579867560379,
         0.12014441819285392,
         0.11924323085418638,
         0.11637835459977641,
         0.1184397795450936,
         0.12524284000652028,
         0.11926486929475588,
         0.11972786773253749,
         0.11940026711266631,
         0.12325150712842753,
         0.12057107334985703,
         0.12008557660285157,
         0.11769144850995704,
         0.12064598648080212,
         0.11970639447328903,
         0.11687798496658927,
         0.12113768595514665,
         0.1169521762799425,
         0.11907653523593945,
         0.11761860528331831,
         0.11698736428565752,
         0.12066720830518973,
         0.12767582111442516,
         0.11982118236218776,
         0.126540233461866,
         0.12134618809195555,
         0.11819209385262858,
         0.1165103197921179,
         0.11994954577650746,
         0.11760951688867043,
         0.12003691977751686,
         0.11655370552453362,
         0.11950535939198315,
         0.11634924777061512,
         0.12196165612502784,
         0.11841222013889875,
         0.11353230110901293,
         0.11613060863825582,
         0.1205805666427727,
         0.11671375763038826,
         0.120192490507783,
         0.12240910583258169,
         0.11995270134879937,
         0.11997937827727564,
         0.1198049387944202,
         0.11860922119930176,
         0.12382882206317576,
         0.11561852469358873,
         0.11911146981000013,
         0.11982981463838917,
         0.120996157428667,
         0.12071080847998919,
         0.12203965501497953,
         0.11794334771693822,
         0.11921788942926537,
         0.12034861424726476,
         0.11882486700309619,
         0.11647331455788486,
         0.11865114006617834,
         0.11745254087338178,
         0.12711164097207453,
         0.12453226130929523,
         0.11939945597150001,
         0.11629422850417642,
         0.12047832523406524,
         0.12093374350339836,
         0.11980170890300373,
         0.11986319684523837,
         0.11992918581316261,
         0.12019373108808679,
         0.12011834134663438,
         0.120540935714184,
         0.11628450991449013,
         0.1220623853791183,
         0.1223751161928826
        ],
        [
         0.20195789089087735,
         0.20817957667319417,
         0.20340310079468923,
         0.2069814603703169,
         0.20702110026515536,
         0.20617619754940078,
         0.20623077123196093,
         0.20797819584341987,
         0.2075620411030416,
         0.20946457604696225,
         0.2079478387491076,
         0.2101123829964887,
         0.20821752141580566,
         0.2112174385360309,
         0.20706415925682944,
         0.20822477005664017,
         0.20432084830864877,
         0.2047284058742709,
         0.202538383798069,
         0.20945885507752757,
         0.20322663861919532,
         0.20152567770307908,
         0.20597934965407114,
         0.20570755453006206,
         0.20672942089618412,
         0.20681823845106093,
         0.20796558547571495,
         0.20543036486518074,
         0.20333753854592707,
         0.20710699366671698,
         0.21328146716386273,
         0.20567313730474804,
         0.20447451990799276,
         0.20698133689750517,
         0.20825026021036622,
         0.20696460737471845,
         0.20745528179112,
         0.20550377765525277,
         0.20943638600723505,
         0.20830054486823546,
         0.20438734954827792,
         0.20921812701801007,
         0.2022404422221536,
         0.20803355836829582,
         0.20599638654354524,
         0.20387853683250678,
         0.2106890544513023,
         0.21460699582738535,
         0.2046583965662625,
         0.21389334123164366,
         0.20433700185075596,
         0.20684787653410783,
         0.20509235610483917,
         0.20794011362187273,
         0.20758902632280604,
         0.2033315360267925,
         0.20346945087582646,
         0.2090162398874179,
         0.20408211190059974,
         0.21114561228420248,
         0.2049862863616897,
         0.20148274472418737,
         0.20303901617548295,
         0.20773573606214546,
         0.20497997713505062,
         0.20831977520379927,
         0.20560695290226827,
         0.2080750451846556,
         0.2079515953838535,
         0.20529191989403267,
         0.20722163699615698,
         0.20793872130671878,
         0.19892596597359938,
         0.20777956660014468,
         0.20513833655866903,
         0.20858960541860236,
         0.2088744103932729,
         0.2082927878946066,
         0.20940851364526655,
         0.2040641153557831,
         0.2068606133560662,
         0.206069144819464,
         0.2011760152489334,
         0.20703545297411355,
         0.20596391595174351,
         0.21393499343184294,
         0.21064695649381196,
         0.2066218076551986,
         0.20491031049327416,
         0.21049287000235606,
         0.20685618546150333,
         0.20400317413611457,
         0.20721651662092705,
         0.20580348235180046,
         0.2055799032428435,
         0.21177349875789958,
         0.2058608691123399,
         0.20218098333540868,
         0.2070316284979609,
         0.20962910659538656
        ],
        [
         31.101515197195113,
         32.059654807671905,
         31.32407752238214,
         31.875144897028804,
         31.881249440833926,
         31.75113442260772,
         31.759538769721985,
         32.02864215988666,
         31.964554329868406,
         32.257544711232185,
         32.02396716736257,
         32.35730698145926,
         32.06549829803407,
         32.52748553454876,
         31.887880525551736,
         32.06661458872259,
         31.46541063953191,
         31.528174504637718,
         31.190911104902625,
         32.256663681939244,
         31.29690234735608,
         31.034954366274178,
         31.720819846726954,
         31.67896339762956,
         31.836330818012357,
         31.850008721463382,
         32.0267001632601,
         31.636276189237833,
         31.313980936072767,
         31.894477024674416,
         32.84534594323486,
         31.673663144931197,
         31.489076065830886,
         31.875125882215798,
         32.0705400723964,
         31.87254953570664,
         31.94811339583248,
         31.647581758908927,
         32.253203445114195,
         32.07828390970826,
         31.4756518304348,
         32.21959156077355,
         31.145028102211654,
         32.037167988717556,
         31.723443527705967,
         31.397294672206044,
         32.44611438550055,
         33.049477357417345,
         31.517393071204424,
         32.939574549673125,
         31.467898285016418,
         31.854572986252606,
         31.58422284014523,
         32.0227774977684,
         31.96871005371213,
         31.313056548126042,
         31.334295434877276,
         32.18850094266236,
         31.42864523269236,
         32.51642429176718,
         31.567888099700212,
         31.028342687524855,
         31.268008491024375,
         31.9913033535704,
         31.566916478797793,
         32.08124538138509,
         31.663470746949315,
         32.043556958436966,
         32.02454568911344,
         31.61495566368103,
         31.912132097408175,
         32.02256308123469,
         30.634598759934306,
         31.99805325642228,
         31.59130383003503,
         32.122799234464765,
         32.16665920056403,
         32.077089335769415,
         32.24891110137105,
         31.425873764790595,
         31.856534456834197,
         31.734648302197456,
         30.981106348335743,
         31.883459758013487,
         31.718443056568503,
         32.945988988503814,
         32.43963130004704,
         31.819758378900588,
         31.556187815964222,
         32.41590198036283,
         31.855852561071515,
         31.416488816961646,
         31.911343559622765,
         31.69373628217727,
         31.659305099397898,
         32.613118808716536,
         31.702573843300343,
         31.135871433652937,
         31.882870788685977,
         32.28288241568953
        ],
        [
         4.228774699481248,
         4.3613542352185295,
         4.268940511204415,
         4.274688757713285,
         4.286325786900147,
         4.281042839709332,
         4.252210928327764,
         4.251550404099935,
         4.283667099975433,
         4.3877113001137005,
         4.295690759883235,
         4.395482379138401,
         4.27964947481091,
         4.355864016261483,
         4.342690881355758,
         4.275226957792347,
         4.264659195184295,
         4.2744037775561905,
         4.280650077385922,
         4.364663304148932,
         4.272923731666254,
         4.245918512601697,
         4.285862113654959,
         4.294142447502874,
         4.308524292080442,
         4.258449600035555,
         4.301423067044149,
         4.285260499846503,
         4.233469807187192,
         4.270799228475206,
         4.391741950639191,
         4.2856492940268,
         4.2939599009318625,
         4.288081288332885,
         4.356688202956213,
         4.309053874794092,
         4.3003696116542285,
         4.257285880761753,
         4.310392316024555,
         4.293574821624343,
         4.242547546563825,
         4.31916700731664,
         4.243893866145941,
         4.282264170545142,
         4.255968187572719,
         4.2445322592708905,
         4.310771401849003,
         4.4341940024790825,
         4.2956329084055715,
         4.414430422277301,
         4.322882483501159,
         4.266331263896979,
         4.235869361534436,
         4.297933230005108,
         4.255803754974523,
         4.299498301632133,
         4.236657957727786,
         4.2899679889674465,
         4.232940367720141,
         4.333831450720515,
         4.270302319671337,
         4.181384264904146,
         4.228961306312863,
         4.309223510446747,
         4.239565859269058,
         4.302283526012504,
         4.341774095714514,
         4.297989763565649,
         4.2984676635634305,
         4.295341729634641,
         4.273853070087045,
         4.366879732455322,
         4.219627092861721,
         4.282892288015193,
         4.295787640737369,
         4.316643168483435,
         4.311550127960746,
         4.335217050195624,
         4.261839455963644,
         4.284805126503056,
         4.305076839509229,
         4.277736494745418,
         4.235196623760728,
         4.274608235872787,
         4.2529626490836705,
         4.424386139307855,
         4.379265719459309,
         4.288066722849703,
         4.231939412331321,
         4.30739620722845,
         4.315529689334015,
         4.295283828929419,
         4.296385959637089,
         4.297568453815138,
         4.302305729206767,
         4.3009562387196745,
         4.308515301119904,
         4.231762579213474,
         4.335620756983273,
         4.3411712582785675
        ]
       ],
       "encoder": "json",
       "name": "ABC_GAN_3 Metrics",
       "version": 1
      }
     },
     "metadata": {
      "scrapbook": {
       "data": true,
       "display": false,
       "name": "ABC_GAN_3 Metrics"
      }
     },
     "output_type": "display_data"
    },
    {
     "name": "stdout",
     "output_type": "stream",
     "text": [
      "MAE\n",
      "0.20672737848154246\n"
     ]
    }
   ],
   "source": [
    "ABC_GAN3_metrics=ABC_train_test2.test_generator(gen3,test_data,prior_model,variance,bias,\"3\",device)\n",
    "sb.glue(\"ABC_GAN_3 Metrics\",ABC_GAN3_metrics)\n",
    "\n",
    "print(\"MAE\")\n",
    "print(mean(ABC_GAN3_metrics[1]))"
   ]
  },
  {
   "cell_type": "code",
   "execution_count": 22,
   "id": "c8e46b48",
   "metadata": {
    "execution": {
     "iopub.execute_input": "2022-07-24T19:41:31.508161Z",
     "iopub.status.busy": "2022-07-24T19:41:31.507505Z",
     "iopub.status.idle": "2022-07-24T19:41:34.529827Z",
     "shell.execute_reply": "2022-07-24T19:41:34.527685Z"
    },
    "id": "c8e46b48",
    "papermill": {
     "duration": 3.051911,
     "end_time": "2022-07-24T19:41:34.535074",
     "exception": false,
     "start_time": "2022-07-24T19:41:31.483163",
     "status": "completed"
    },
    "tags": []
   },
   "outputs": [
    {
     "data": {
      "image/png": "[encoded data removed]",
      "text/plain": [
       "<Figure size 432x288 with 1 Axes>"
      ]
     },
     "metadata": {
      "needs_background": "light"
     },
     "output_type": "display_data"
    },
    {
     "data": {
      "image/png": "[encoded data removed]",
      "text/plain": [
       "<Figure size 432x288 with 1 Axes>"
      ]
     },
     "metadata": {
      "needs_background": "light"
     },
     "output_type": "display_data"
    },
    {
     "data": {
      "image/png": "[encoded data removed]",
      "text/plain": [
       "<Figure size 432x288 with 1 Axes>"
      ]
     },
     "metadata": {
      "needs_background": "light"
     },
     "output_type": "display_data"
    },
    {
     "data": {
      "image/png": "[encoded data removed]",
      "text/plain": [
       "<Figure size 432x288 with 1 Axes>"
      ]
     },
     "metadata": {
      "needs_background": "light"
     },
     "output_type": "display_data"
    }
   ],
   "source": [
    "sanityChecks.discProbVsError(train_data,disc3,device)\n",
    "sanityChecks.discProbVsError(test_data,disc3,device)"
   ]
  },
  {
   "cell_type": "markdown",
   "id": "bca108d8",
   "metadata": {
    "id": "130f3a4d",
    "papermill": {
     "duration": 0.025879,
     "end_time": "2022-07-24T19:41:34.589163",
     "exception": false,
     "start_time": "2022-07-24T19:41:34.563284",
     "status": "completed"
    },
    "tags": []
   },
   "source": [
    "# skipGAN Model with TabNet Generator"
   ]
  },
  {
   "cell_type": "code",
   "execution_count": 23,
   "id": "32d3886b",
   "metadata": {
    "execution": {
     "iopub.execute_input": "2022-07-24T19:41:34.648329Z",
     "iopub.status.busy": "2022-07-24T19:41:34.647966Z",
     "iopub.status.idle": "2022-07-24T19:41:34.675826Z",
     "shell.execute_reply": "2022-07-24T19:41:34.668920Z"
    },
    "id": "4e43dad1",
    "papermill": {
     "duration": 0.061472,
     "end_time": "2022-07-24T19:41:34.679411",
     "exception": false,
     "start_time": "2022-07-24T19:41:34.617939",
     "status": "completed"
    },
    "tags": []
   },
   "outputs": [],
   "source": [
    "#Generator\n",
    "gen4 = network.GeneratorTabnetskipConnection(n_features+1).to(device)\n",
    "constraints=network.weightConstraint()\n",
    "#Discriminator \n",
    "disc4 = network.Discriminator(n_features+1).to(device)\n",
    "\n",
    "criterion = torch.nn.BCELoss()\n",
    "gen_opt = torch.optim.Adam(gen4.parameters(), lr=0.01, betas=(0.5, 0.999))\n",
    "disc_opt = torch.optim.Adam(disc4.parameters(), lr=0.01, betas=(0.5, 0.999))\n"
   ]
  },
  {
   "cell_type": "code",
   "execution_count": 24,
   "id": "e5435dba",
   "metadata": {
    "execution": {
     "iopub.execute_input": "2022-07-24T19:41:34.746097Z",
     "iopub.status.busy": "2022-07-24T19:41:34.744879Z",
     "iopub.status.idle": "2022-07-24T20:10:47.431163Z",
     "shell.execute_reply": "2022-07-24T20:10:47.422984Z"
    },
    "id": "26acbc37",
    "papermill": {
     "duration": 1752.730384,
     "end_time": "2022-07-24T20:10:47.444917",
     "exception": false,
     "start_time": "2022-07-24T19:41:34.714533",
     "status": "completed"
    },
    "tags": []
   },
   "outputs": [
    {
     "data": {
      "image/png": "[encoded data removed]",
      "text/plain": [
       "<Figure size 432x288 with 1 Axes>"
      ]
     },
     "metadata": {
      "needs_background": "light"
     },
     "output_type": "display_data"
    },
    {
     "data": {
      "image/png": "[encoded data removed]",
      "text/plain": [
       "<Figure size 432x288 with 1 Axes>"
      ]
     },
     "metadata": {
      "needs_background": "light"
     },
     "output_type": "display_data"
    }
   ],
   "source": [
    "ABC_train_test2.training_GAN_skip_connection(disc4,gen4,disc_opt,gen_opt,train_data,batch_size,n_epochs,criterion,prior_model,variance,bias,device)"
   ]
  },
  {
   "cell_type": "code",
   "execution_count": 25,
   "id": "5d37f3f8",
   "metadata": {
    "execution": {
     "iopub.execute_input": "2022-07-24T20:10:47.553285Z",
     "iopub.status.busy": "2022-07-24T20:10:47.552395Z",
     "iopub.status.idle": "2022-07-24T20:10:52.132097Z",
     "shell.execute_reply": "2022-07-24T20:10:52.130493Z"
    },
    "id": "c5e0717b",
    "papermill": {
     "duration": 4.633689,
     "end_time": "2022-07-24T20:10:52.134774",
     "exception": false,
     "start_time": "2022-07-24T20:10:47.501085",
     "status": "completed"
    },
    "tags": []
   },
   "outputs": [
    {
     "data": {
      "application/scrapbook.scrap.json+json": {
       "data": 0.06731163830118204,
       "encoder": "json",
       "name": "ABC-GAN Model 3 MSE",
       "version": 1
      }
     },
     "metadata": {
      "scrapbook": {
       "data": true,
       "display": false,
       "name": "ABC-GAN Model 3 MSE"
      }
     },
     "output_type": "display_data"
    },
    {
     "data": {
      "application/scrapbook.scrap.json+json": {
       "data": 0.14161054748412852,
       "encoder": "json",
       "name": "ABC-GAN Model 3 MAE",
       "version": 1
      }
     },
     "metadata": {
      "scrapbook": {
       "data": true,
       "display": false,
       "name": "ABC-GAN Model 3 MAE"
      }
     },
     "output_type": "display_data"
    },
    {
     "data": {
      "application/scrapbook.scrap.json+json": {
       "data": 21.80802431255579,
       "encoder": "json",
       "name": "ABC-GAN Model 3 Manhattan Distance",
       "version": 1
      }
     },
     "metadata": {
      "scrapbook": {
       "data": true,
       "display": false,
       "name": "ABC-GAN Model 3 Manhattan Distance"
      }
     },
     "output_type": "display_data"
    },
    {
     "data": {
      "application/scrapbook.scrap.json+json": {
       "data": 3.2195649875627375,
       "encoder": "json",
       "name": "ABC-GAN Model 3 Euclidean distance",
       "version": 1
      }
     },
     "metadata": {
      "scrapbook": {
       "data": true,
       "display": false,
       "name": "ABC-GAN Model 3 Euclidean distance"
      }
     },
     "output_type": "display_data"
    },
    {
     "data": {
      "application/scrapbook.scrap.json+json": {
       "data": [
        [
         0.0664239338424001,
         0.06738244381755111,
         0.06691483446607531,
         0.06673504797507865,
         0.06751671260129614,
         0.06630063956801183,
         0.06708460781362251,
         0.06715511177933814,
         0.06656840699440861,
         0.06720494990551043,
         0.06759491153356995,
         0.06780110192069107,
         0.0670238345919319,
         0.06634811046577357,
         0.06724232459733713,
         0.06630753329513898,
         0.06724442081558481,
         0.06778451537945343,
         0.06702878954203859,
         0.06666170166311405,
         0.06686590493275778,
         0.06737498939689719,
         0.06756243366792691,
         0.06779174805711306,
         0.06772512464711083,
         0.06782121411676148,
         0.06614803058312571,
         0.06689141336746046,
         0.06777156086331283,
         0.06742383047955033,
         0.06738231866593415,
         0.06773424334374814,
         0.06783792697421842,
         0.06681979543761228,
         0.06750747752361203,
         0.06721651846836375,
         0.06772892357184326,
         0.06713125966241695,
         0.06689967262727793,
         0.06761742717066183,
         0.06746813802508998,
         0.0666518267916516,
         0.0672562984144546,
         0.06666295792391934,
         0.06818523081222268,
         0.06773390992776232,
         0.06679148173777331,
         0.07071348661829441,
         0.0667896634016324,
         0.06741122216653597,
         0.06732068496829341,
         0.06746620872759074,
         0.06724761134357153,
         0.0681252736305423,
         0.06772376306048156,
         0.06638746083302051,
         0.06688807374136017,
         0.06690931967211672,
         0.06818268008586081,
         0.06698099886894752,
         0.06739004296348275,
         0.06672644100824324,
         0.06686990336201577,
         0.06759499674550748,
         0.06683023727176755,
         0.06775319171553053,
         0.07136375996974785,
         0.06740680389965598,
         0.06699020825456276,
         0.06653847032618392,
         0.06734050791494386,
         0.06641207789658972,
         0.06767753116250048,
         0.06677409953413074,
         0.06704356458210844,
         0.06794190273368003,
         0.06669653581348767,
         0.06695309497615275,
         0.06649329759095145,
         0.06823416830906147,
         0.06745201190129839,
         0.06670608642164444,
         0.06753962838598247,
         0.0670390857430176,
         0.06734428572935787,
         0.06561063441811106,
         0.06640123654169253,
         0.06719860086407568,
         0.06770723126255203,
         0.0667761440704079,
         0.07128416721528545,
         0.06745950990635802,
         0.06700330128034973,
         0.06736975004411279,
         0.06743153098976072,
         0.06722123025600955,
         0.06803927360288244,
         0.06727397742090761,
         0.0675002630799811,
         0.06730300807735895
        ],
        [
         0.14126999690741687,
         0.14079750943687055,
         0.14154945134923055,
         0.1408752484077757,
         0.14122317484640456,
         0.13964417334887888,
         0.1419511397744154,
         0.14175291465861456,
         0.13994042483436597,
         0.14161244668550305,
         0.14090523510784297,
         0.14089961301583748,
         0.1405570941505494,
         0.1403067603997596,
         0.14197032700304862,
         0.1415047055811851,
         0.14209375617566047,
         0.14391021875592022,
         0.14193844558163124,
         0.14127507191393282,
         0.14090161281940225,
         0.14156250558890304,
         0.1411786630943224,
         0.14283949175438324,
         0.143087903497281,
         0.14317386902191423,
         0.14047269648932792,
         0.14241934417710675,
         0.14080621021521555,
         0.1421078195819607,
         0.14180058429574038,
         0.14236655729738149,
         0.1436382331341118,
         0.1407101731021683,
         0.1417978922655056,
         0.1406245113096454,
         0.14282288392642875,
         0.14120171693238345,
         0.141512395547969,
         0.14203936998526773,
         0.14143030384144226,
         0.14179149337790228,
         0.14002702622251076,
         0.1417584755010419,
         0.14123360193394996,
         0.14235953110959623,
         0.1392541973331532,
         0.14514298964436953,
         0.14223436121042674,
         0.14122173083680017,
         0.14078728467613072,
         0.14142718553156047,
         0.1416377013960442,
         0.14243767812074004,
         0.1432741414997485,
         0.14001810555527736,
         0.14097886039065077,
         0.14145323459978226,
         0.14249781001504366,
         0.14153757222093544,
         0.1414838396012783,
         0.14064278627757903,
         0.14108171696206193,
         0.1425074554205715,
         0.14141227406534282,
         0.1416379889691031,
         0.14520121375461678,
         0.14288246757411338,
         0.14114857813367596,
         0.14095368352416274,
         0.1408501849933104,
         0.14167821866931854,
         0.14307452331889758,
         0.14187043237608749,
         0.14166469097911538,
         0.14265965418769166,
         0.1403104704986145,
         0.13968755140320047,
         0.14072756977243858,
         0.14026539327649326,
         0.14304394541042192,
         0.14028259226447576,
         0.14121301878582349,
         0.1414308190926329,
         0.14157914084854065,
         0.13945759073286862,
         0.14121885186472496,
         0.14177504365707372,
         0.14273262048115978,
         0.14102137021043085,
         0.14429221016826568,
         0.1429959073565997,
         0.14103722141741157,
         0.1414168542371942,
         0.1424821439114484,
         0.14036343730502315,
         0.1421276791529222,
         0.14107688501864285,
         0.14314228243061475,
         0.14107901332053271
        ],
        [
         21.7555795237422,
         21.682816453278065,
         21.798615507781506,
         21.69478825479746,
         21.748368926346302,
         21.50520269572735,
         21.86047552525997,
         21.829948857426643,
         21.55082542449236,
         21.80831678956747,
         21.69940620660782,
         21.698540404438972,
         21.64579249918461,
         21.607241101562977,
         21.863430358469486,
         21.791724659502506,
         21.882438451051712,
         22.162173688411713,
         21.85852061957121,
         21.756361074745655,
         21.698848374187946,
         21.80062586069107,
         21.74151411652565,
         21.99728173017502,
         22.035537138581276,
         22.04877582937479,
         21.6327952593565,
         21.93257900327444,
         21.684156373143196,
         21.88460421562195,
         21.837289981544018,
         21.92444982379675,
         22.120287902653217,
         21.669366657733917,
         21.836875408887863,
         21.65617474168539,
         21.99472412467003,
         21.74506440758705,
         21.792908914387226,
         21.874062977731228,
         21.780266791582108,
         21.835889980196953,
         21.56416203826666,
         21.830805227160454,
         21.749974697828293,
         21.92336779087782,
         21.44514638930559,
         22.352020405232906,
         21.904091626405716,
         21.748146548867226,
         21.68124184012413,
         21.779786571860313,
         21.812206014990807,
         21.935402430593967,
         22.064217790961266,
         21.562788255512714,
         21.710744500160217,
         21.78379812836647,
         21.944662742316723,
         21.79678612202406,
         21.78851129859686,
         21.65898908674717,
         21.726584412157536,
         21.94614813476801,
         21.777490206062794,
         21.812250301241875,
         22.360986918210983,
         22.00390000641346,
         21.736881032586098,
         21.70686726272106,
         21.690928488969803,
         21.818445675075054,
         22.03347659111023,
         21.848046585917473,
         21.816362410783768,
         21.969586744904518,
         21.607812456786633,
         21.511882916092873,
         21.67204574495554,
         21.600870564579964,
         22.028767593204975,
         21.603519208729267,
         21.746804893016815,
         21.780346140265465,
         21.80318769067526,
         21.476468972861767,
         21.747703187167645,
         21.833356723189354,
         21.980823554098606,
         21.71729101240635,
         22.221000365912914,
         22.021369732916355,
         21.719732098281384,
         21.778195552527905,
         21.942250162363052,
         21.615969344973564,
         21.88766258955002,
         21.725840292871,
         22.04391149431467,
         21.726168051362038
        ],
        [
         3.1983254699498014,
         3.2213190385155688,
         3.2101221951470316,
         3.2058068232758674,
         3.2245269018260028,
         3.1953557694682173,
         3.214191905175835,
         3.215880472595036,
         3.2018017860478065,
         3.217073559222512,
         3.226393710657422,
         3.231310832431077,
         3.2127356765158117,
         3.196499493466114,
         3.217967990516674,
         3.195521886554902,
         3.2180181487368995,
         3.2309155619477,
         3.212854430171703,
         3.204044640157119,
         3.2089483261100815,
         3.221140848693544,
         3.2256185119850644,
         3.2310879283602625,
         3.2294998367634373,
         3.231790057225448,
         3.19167615991995,
         3.2095603528503576,
         3.2306068118776348,
         3.222308162459132,
         3.221316046983571,
         3.2297172438059047,
         3.232188229981297,
         3.207841719504297,
         3.2243063655050292,
         3.2173504385018448,
         3.229590412120995,
         3.2153093145158227,
         3.2097584931892924,
         3.226931016350043,
         3.223366757889001,
         3.2038073172265435,
         3.2183023406488713,
         3.204074830631079,
         3.2404514415559893,
         3.2297092947934796,
         3.2071620145569644,
         3.2999813543741934,
         3.207118358254242,
         3.2220068612041377,
         3.21984246277938,
         3.223320670372244,
         3.218094490053082,
         3.2390264184016018,
         3.2294673726969525,
         3.197447258092798,
         3.209480231465754,
         3.2099899111221473,
         3.2403908303200963,
         3.211708863801001,
         3.2215006776929815,
         3.205600086609285,
         3.2090442685868994,
         3.226395744295506,
         3.208092352138915,
         3.2301689621739134,
         3.3151197618398593,
         3.2219012710738077,
         3.2119296491677187,
         3.201081759379526,
         3.220316478065681,
         3.1980400241514824,
         3.2283648800941127,
         3.206744662154462,
         3.2132085126310583,
         3.234664282578135,
         3.204881669465675,
         3.211039804538013,
         3.199994973278321,
         3.2416140917134877,
         3.222981512947282,
         3.205111122712166,
         3.2250740722410236,
         3.213101181790686,
         3.220406806961056,
         3.178684901085526,
         3.1977789835166286,
         3.2169215926204435,
         3.2290731819568617,
         3.206793754958808,
         3.313270552060902,
         3.2231606422235815,
         3.2122435146130903,
         3.2210156017618674,
         3.222492167938217,
         3.2174632024974996,
         3.2369813306294946,
         3.218725294712142,
         3.2241340720133036,
         3.2194197060826464
        ]
       ],
       "encoder": "json",
       "name": "ABC_GAN_4 Metrics",
       "version": 1
      }
     },
     "metadata": {
      "scrapbook": {
       "data": true,
       "display": false,
       "name": "ABC_GAN_4 Metrics"
      }
     },
     "output_type": "display_data"
    },
    {
     "name": "stdout",
     "output_type": "stream",
     "text": [
      "MAE\n",
      "0.14161054748412852\n"
     ]
    }
   ],
   "source": [
    "ABC_GAN4_metrics=ABC_train_test2.test_generator(gen4,test_data,prior_model,variance,bias,\"3\",device)\n",
    "sb.glue(\"ABC_GAN_4 Metrics\",ABC_GAN4_metrics)\n",
    "\n",
    "print(\"MAE\")\n",
    "print(mean(ABC_GAN4_metrics[1]))"
   ]
  },
  {
   "cell_type": "code",
   "execution_count": 26,
   "id": "90fb495e",
   "metadata": {
    "execution": {
     "iopub.execute_input": "2022-07-24T20:10:52.189315Z",
     "iopub.status.busy": "2022-07-24T20:10:52.188937Z",
     "iopub.status.idle": "2022-07-24T20:10:53.189657Z",
     "shell.execute_reply": "2022-07-24T20:10:53.188530Z"
    },
    "id": "c8e46b48",
    "papermill": {
     "duration": 1.030157,
     "end_time": "2022-07-24T20:10:53.193055",
     "exception": false,
     "start_time": "2022-07-24T20:10:52.162898",
     "status": "completed"
    },
    "tags": []
   },
   "outputs": [
    {
     "data": {
      "image/png": "[encoded data removed]",
      "text/plain": [
       "<Figure size 432x288 with 1 Axes>"
      ]
     },
     "metadata": {
      "needs_background": "light"
     },
     "output_type": "display_data"
    },
    {
     "data": {
      "image/png": "[encoded data removed]",
      "text/plain": [
       "<Figure size 432x288 with 1 Axes>"
      ]
     },
     "metadata": {
      "needs_background": "light"
     },
     "output_type": "display_data"
    },
    {
     "data": {
      "image/png": "[encoded data removed]",
      "text/plain": [
       "<Figure size 432x288 with 1 Axes>"
      ]
     },
     "metadata": {
      "needs_background": "light"
     },
     "output_type": "display_data"
    },
    {
     "data": {
      "image/png": "[encoded data removed]",
      "text/plain": [
       "<Figure size 432x288 with 1 Axes>"
      ]
     },
     "metadata": {
      "needs_background": "light"
     },
     "output_type": "display_data"
    }
   ],
   "source": [
    "sanityChecks.discProbVsError(train_data,disc4,device)\n",
    "sanityChecks.discProbVsError(test_data,disc4,device)"
   ]
  },
  {
   "cell_type": "markdown",
   "id": "a5bd74c3",
   "metadata": {
    "id": "a5bd74c3",
    "papermill": {
     "duration": 0.030463,
     "end_time": "2022-07-24T20:10:53.269241",
     "exception": false,
     "start_time": "2022-07-24T20:10:53.238778",
     "status": "completed"
    },
    "tags": []
   },
   "source": [
    "## Skip Connection Model Analysis - ABC-GAN "
   ]
  },
  {
   "cell_type": "markdown",
   "id": "5744a8bf",
   "metadata": {
    "id": "5744a8bf",
    "papermill": {
     "duration": 0.026897,
     "end_time": "2022-07-24T20:10:53.323037",
     "exception": false,
     "start_time": "2022-07-24T20:10:53.296140",
     "status": "completed"
    },
    "tags": []
   },
   "source": [
    "### Weight Analysis \n",
    "\n",
    "Study the weights of the skip connection layer\n",
    "\n",
    "Equation of the skip connection is \n",
    "\n",
    "$output = y_{gan} * w + y_{abc} * (1-w)$"
   ]
  },
  {
   "cell_type": "code",
   "execution_count": 27,
   "id": "52c31dea",
   "metadata": {
    "execution": {
     "iopub.execute_input": "2022-07-24T20:10:53.384158Z",
     "iopub.status.busy": "2022-07-24T20:10:53.383817Z",
     "iopub.status.idle": "2022-07-24T20:10:53.432927Z",
     "shell.execute_reply": "2022-07-24T20:10:53.429819Z"
    },
    "id": "52c31dea",
    "papermill": {
     "duration": 0.084896,
     "end_time": "2022-07-24T20:10:53.435656",
     "exception": false,
     "start_time": "2022-07-24T20:10:53.350760",
     "status": "completed"
    },
    "tags": []
   },
   "outputs": [
    {
     "name": "stdout",
     "output_type": "stream",
     "text": [
      "Weight of the node at skip connection\n",
      "Parameter containing:\n",
      "tensor([[0.9704]], requires_grad=True)\n"
     ]
    },
    {
     "data": {
      "application/scrapbook.scrap.json+json": {
       "data": 0.970368504524231,
       "encoder": "json",
       "name": "Skip Connection Weight",
       "version": 1
      }
     },
     "metadata": {
      "scrapbook": {
       "data": true,
       "display": false,
       "name": "Skip Connection Weight"
      }
     },
     "output_type": "display_data"
    }
   ],
   "source": [
    "print(\"Weight of the node at skip connection\")\n",
    "for name,param in gen3.named_parameters():\n",
    "    if(name == \"skipNode.weight\"):\n",
    "        print(param)\n",
    "        sb.glue(\"Skip Connection Weight\",param.item())"
   ]
  },
  {
   "cell_type": "markdown",
   "id": "cba3e3e0",
   "metadata": {
    "id": "a5bd74c3",
    "papermill": {
     "duration": 0.028466,
     "end_time": "2022-07-24T20:10:53.496366",
     "exception": false,
     "start_time": "2022-07-24T20:10:53.467900",
     "status": "completed"
    },
    "tags": []
   },
   "source": [
    "## skipGAN Model Analysis (TabNet Generator) "
   ]
  },
  {
   "cell_type": "markdown",
   "id": "266d2862",
   "metadata": {
    "id": "5744a8bf",
    "papermill": {
     "duration": 0.029826,
     "end_time": "2022-07-24T20:10:53.557653",
     "exception": false,
     "start_time": "2022-07-24T20:10:53.527827",
     "status": "completed"
    },
    "tags": []
   },
   "source": [
    "### Weight Analysis \n",
    "\n",
    "Study the weights of the skip connection layer\n",
    "\n",
    "Equation of the skip connection is \n",
    "\n",
    "$output = y_{gan} * w + y_{abc} * (1-w)$"
   ]
  },
  {
   "cell_type": "code",
   "execution_count": 28,
   "id": "906b55aa",
   "metadata": {
    "execution": {
     "iopub.execute_input": "2022-07-24T20:10:53.622905Z",
     "iopub.status.busy": "2022-07-24T20:10:53.622572Z",
     "iopub.status.idle": "2022-07-24T20:10:53.636325Z",
     "shell.execute_reply": "2022-07-24T20:10:53.634892Z"
    },
    "id": "52c31dea",
    "papermill": {
     "duration": 0.049057,
     "end_time": "2022-07-24T20:10:53.639673",
     "exception": false,
     "start_time": "2022-07-24T20:10:53.590616",
     "status": "completed"
    },
    "tags": []
   },
   "outputs": [
    {
     "name": "stdout",
     "output_type": "stream",
     "text": [
      "Weight of the node at skip connection\n",
      "Parameter containing:\n",
      "tensor([[0.9855]], requires_grad=True)\n"
     ]
    },
    {
     "data": {
      "application/scrapbook.scrap.json+json": {
       "data": 0.9854777455329895,
       "encoder": "json",
       "name": "Skip Connection Weight",
       "version": 1
      }
     },
     "metadata": {
      "scrapbook": {
       "data": true,
       "display": false,
       "name": "Skip Connection Weight"
      }
     },
     "output_type": "display_data"
    }
   ],
   "source": [
    "print(\"Weight of the node at skip connection\")\n",
    "for name,param in gen4.named_parameters():\n",
    "    if(name == \"skipNode.weight\"):\n",
    "        print(param)\n",
    "        sb.glue(\"Skip Connection Weight\",param.item())"
   ]
  }
 ],
 "metadata": {
  "colab": {
   "collapsed_sections": [],
   "name": "ABC_GAN_Model-Catboost_Pre-gen.ipynb",
   "provenance": []
  },
  "interpreter": {
   "hash": "31f2aee4e71d21fbe5cf8b01ff0e069b9275f58929596ceb00d14d90e3e16cd6"
  },
  "kernelspec": {
   "display_name": "Python 3 (ipykernel)",
   "language": "python",
   "name": "python3"
  },
  "language_info": {
   "codemirror_mode": {
    "name": "ipython",
    "version": 3
   },
   "file_extension": ".py",
   "mimetype": "text/x-python",
   "name": "python",
   "nbconvert_exporter": "python",
   "pygments_lexer": "ipython3",
   "version": "3.8.13"
  },
  "papermill": {
   "default_parameters": {},
   "duration": 4007.112454,
   "end_time": "2022-07-24T20:10:57.614163",
   "environment_variables": {},
   "exception": null,
   "input_path": "ABC_GAN-Catboost.ipynb",
   "output_path": "./ABC_GAN_Catboost/ABC-GAN_output_1_6.ipynb",
   "parameters": {
    "bias": 0.01,
    "variance": 1
   },
   "start_time": "2022-07-24T19:04:10.501709",
   "version": "2.3.3"
  }
 },
 "nbformat": 4,
 "nbformat_minor": 5
}