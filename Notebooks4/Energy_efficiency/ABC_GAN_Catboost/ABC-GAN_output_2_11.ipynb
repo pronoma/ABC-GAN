{
 "cells": [
  {
   "cell_type": "markdown",
   "id": "171fae9c",
   "metadata": {
    "tags": [
     "papermill-error-cell-tag"
    ]
   },
   "source": [
    "<span style=\"color:red; font-family:Helvetica Neue, Helvetica, Arial, sans-serif; font-size:2em;\">An Exception was encountered at '<a href=\"#papermill-error-cell\">In [20]</a>'.</span>"
   ]
  },
  {
   "cell_type": "markdown",
   "id": "622780e6",
   "metadata": {
    "id": "622780e6",
    "papermill": {
     "duration": 0.01582,
     "end_time": "2022-07-24T12:38:49.721630",
     "exception": false,
     "start_time": "2022-07-24T12:38:49.705810",
     "status": "completed"
    },
    "tags": []
   },
   "source": [
    "## Import Libraries "
   ]
  },
  {
   "cell_type": "code",
   "execution_count": 1,
   "id": "a62397e3",
   "metadata": {
    "execution": {
     "iopub.execute_input": "2022-07-24T12:38:49.745068Z",
     "iopub.status.busy": "2022-07-24T12:38:49.742148Z",
     "iopub.status.idle": "2022-07-24T12:38:49.793448Z",
     "shell.execute_reply": "2022-07-24T12:38:49.792353Z"
    },
    "id": "a62397e3",
    "papermill": {
     "duration": 0.068061,
     "end_time": "2022-07-24T12:38:49.797826",
     "exception": false,
     "start_time": "2022-07-24T12:38:49.729765",
     "status": "completed"
    },
    "tags": []
   },
   "outputs": [],
   "source": [
    "import warnings\n",
    "import sys\n",
    "sys.path.insert(0, '../../src')\n",
    "warnings.filterwarnings('ignore')"
   ]
  },
  {
   "cell_type": "code",
   "execution_count": 2,
   "id": "d6a4e155",
   "metadata": {
    "execution": {
     "iopub.execute_input": "2022-07-24T12:38:49.824643Z",
     "iopub.status.busy": "2022-07-24T12:38:49.824243Z",
     "iopub.status.idle": "2022-07-24T12:38:58.806016Z",
     "shell.execute_reply": "2022-07-24T12:38:58.802968Z"
    },
    "id": "d6a4e155",
    "papermill": {
     "duration": 9.001467,
     "end_time": "2022-07-24T12:38:58.810882",
     "exception": false,
     "start_time": "2022-07-24T12:38:49.809415",
     "status": "completed"
    },
    "tags": []
   },
   "outputs": [],
   "source": [
    "import ABC_train_test2\n",
    "import energyefficiencyDataset\n",
    "import network\n",
    "import dataset\n",
    "import sanityChecks\n",
    "import torch \n",
    "import scrapbook as sb\n",
    "from statistics import mean \n",
    "import catboost as ctb \n",
    "from sklearn.model_selection import train_test_split\n",
    "from sklearn.metrics import mean_squared_error,mean_absolute_error\n",
    "import numpy as np"
   ]
  },
  {
   "cell_type": "markdown",
   "id": "2fa5b0f7",
   "metadata": {
    "id": "2fa5b0f7",
    "papermill": {
     "duration": 0.007304,
     "end_time": "2022-07-24T12:38:58.830950",
     "exception": false,
     "start_time": "2022-07-24T12:38:58.823646",
     "status": "completed"
    },
    "tags": []
   },
   "source": [
    "## Parameters "
   ]
  },
  {
   "cell_type": "code",
   "execution_count": 3,
   "id": "783186fb",
   "metadata": {
    "execution": {
     "iopub.execute_input": "2022-07-24T12:38:58.848159Z",
     "iopub.status.busy": "2022-07-24T12:38:58.847629Z",
     "iopub.status.idle": "2022-07-24T12:38:58.853069Z",
     "shell.execute_reply": "2022-07-24T12:38:58.852114Z"
    },
    "id": "783186fb",
    "papermill": {
     "duration": 0.017612,
     "end_time": "2022-07-24T12:38:58.856134",
     "exception": false,
     "start_time": "2022-07-24T12:38:58.838522",
     "status": "completed"
    },
    "tags": [
     "parameters"
    ]
   },
   "outputs": [],
   "source": [
    "variance = 1\n",
    "bias = 1 "
   ]
  },
  {
   "cell_type": "code",
   "execution_count": 4,
   "id": "d9971ec3",
   "metadata": {
    "execution": {
     "iopub.execute_input": "2022-07-24T12:38:58.875668Z",
     "iopub.status.busy": "2022-07-24T12:38:58.875082Z",
     "iopub.status.idle": "2022-07-24T12:38:58.879445Z",
     "shell.execute_reply": "2022-07-24T12:38:58.878558Z"
    },
    "papermill": {
     "duration": 0.016283,
     "end_time": "2022-07-24T12:38:58.882553",
     "exception": false,
     "start_time": "2022-07-24T12:38:58.866270",
     "status": "completed"
    },
    "tags": [
     "injected-parameters"
    ]
   },
   "outputs": [],
   "source": [
    "# Parameters\n",
    "variance = 0.01\n",
    "bias = 0\n"
   ]
  },
  {
   "cell_type": "markdown",
   "id": "391cdbfd",
   "metadata": {
    "id": "391cdbfd",
    "papermill": {
     "duration": 0.006852,
     "end_time": "2022-07-24T12:38:58.896688",
     "exception": false,
     "start_time": "2022-07-24T12:38:58.889836",
     "status": "completed"
    },
    "tags": []
   },
   "source": [
    "## Dataset \n"
   ]
  },
  {
   "cell_type": "code",
   "execution_count": 5,
   "id": "5b51f161",
   "metadata": {
    "execution": {
     "iopub.execute_input": "2022-07-24T12:38:58.917137Z",
     "iopub.status.busy": "2022-07-24T12:38:58.916125Z",
     "iopub.status.idle": "2022-07-24T12:38:58.921860Z",
     "shell.execute_reply": "2022-07-24T12:38:58.920457Z"
    },
    "id": "5b51f161",
    "papermill": {
     "duration": 0.019414,
     "end_time": "2022-07-24T12:38:58.924993",
     "exception": false,
     "start_time": "2022-07-24T12:38:58.905579",
     "status": "completed"
    },
    "tags": []
   },
   "outputs": [],
   "source": [
    "#Parameters \n",
    "n_features = 8\n",
    "n_samples= 768\n",
    "n_target = 1 "
   ]
  },
  {
   "cell_type": "code",
   "execution_count": 6,
   "id": "5d6eced4",
   "metadata": {
    "execution": {
     "iopub.execute_input": "2022-07-24T12:38:58.945655Z",
     "iopub.status.busy": "2022-07-24T12:38:58.945291Z",
     "iopub.status.idle": "2022-07-24T12:38:59.579408Z",
     "shell.execute_reply": "2022-07-24T12:38:59.566700Z"
    },
    "id": "5d6eced4",
    "papermill": {
     "duration": 0.679722,
     "end_time": "2022-07-24T12:38:59.612483",
     "exception": false,
     "start_time": "2022-07-24T12:38:58.932761",
     "status": "completed"
    },
    "tags": []
   },
   "outputs": [
    {
     "name": "stdout",
     "output_type": "stream",
     "text": [
      "     X1     X2     X3      X4   X5  X6   X7  X8     Y1     Y2\n",
      "0  0.98  514.5  294.0  110.25  7.0   2  0.0   0  15.55  21.33\n",
      "1  0.98  514.5  294.0  110.25  7.0   3  0.0   0  15.55  21.33\n",
      "2  0.98  514.5  294.0  110.25  7.0   4  0.0   0  15.55  21.33\n",
      "3  0.98  514.5  294.0  110.25  7.0   5  0.0   0  15.55  21.33\n",
      "4  0.90  563.5  318.5  122.50  7.0   2  0.0   0  20.84  28.28\n"
     ]
    }
   ],
   "source": [
    "X,Y = energyefficiencyDataset.energy_data()"
   ]
  },
  {
   "cell_type": "code",
   "execution_count": 7,
   "id": "fe007438",
   "metadata": {
    "execution": {
     "iopub.execute_input": "2022-07-24T12:38:59.636497Z",
     "iopub.status.busy": "2022-07-24T12:38:59.635079Z",
     "iopub.status.idle": "2022-07-24T12:38:59.648159Z",
     "shell.execute_reply": "2022-07-24T12:38:59.644647Z"
    },
    "id": "fe007438",
    "papermill": {
     "duration": 0.036757,
     "end_time": "2022-07-24T12:38:59.660109",
     "exception": false,
     "start_time": "2022-07-24T12:38:59.623352",
     "status": "completed"
    },
    "tags": []
   },
   "outputs": [],
   "source": [
    "#Train test split for dataset \n",
    "X_train,X_test,Y_train,Y_test = train_test_split(X,Y,test_size = 0.2)\n",
    "train_data = dataset.CustomDataset(X_train,Y_train)\n",
    "test_data = dataset.CustomDataset(X_test,Y_test)\n"
   ]
  },
  {
   "cell_type": "markdown",
   "id": "a9a1af34",
   "metadata": {
    "id": "a9a1af34",
    "papermill": {
     "duration": 0.015538,
     "end_time": "2022-07-24T12:38:59.691657",
     "exception": false,
     "start_time": "2022-07-24T12:38:59.676119",
     "status": "completed"
    },
    "tags": []
   },
   "source": [
    "## Training Parameters "
   ]
  },
  {
   "cell_type": "code",
   "execution_count": 8,
   "id": "952b7fc8",
   "metadata": {
    "execution": {
     "iopub.execute_input": "2022-07-24T12:38:59.717012Z",
     "iopub.status.busy": "2022-07-24T12:38:59.715566Z",
     "iopub.status.idle": "2022-07-24T12:38:59.725903Z",
     "shell.execute_reply": "2022-07-24T12:38:59.723604Z"
    },
    "id": "952b7fc8",
    "papermill": {
     "duration": 0.040892,
     "end_time": "2022-07-24T12:38:59.745878",
     "exception": false,
     "start_time": "2022-07-24T12:38:59.704986",
     "status": "completed"
    },
    "tags": []
   },
   "outputs": [],
   "source": [
    "batch_size = 32\n",
    "n_epochs = 1000\n",
    "#Select the device \n",
    "device = torch.device('cuda' if torch.cuda.is_available() else 'cpu')"
   ]
  },
  {
   "cell_type": "markdown",
   "id": "a95e1600",
   "metadata": {
    "id": "a95e1600",
    "papermill": {
     "duration": 0.031709,
     "end_time": "2022-07-24T12:38:59.785936",
     "exception": false,
     "start_time": "2022-07-24T12:38:59.754227",
     "status": "completed"
    },
    "tags": []
   },
   "source": [
    "# ABC Pre-generator Model \n",
    "\n",
    "1. The catboost model is used as a pre-generator model for the ABC-GAN. \n",
    "2. The model is first trained on the entire dataset \n",
    "3. It generats X,Y pairs and we add some Gaussian noise with mean 0 and variance 1 to it which is then feed as input to the generator.\n"
   ]
  },
  {
   "cell_type": "code",
   "execution_count": 9,
   "id": "ff8ce7bd",
   "metadata": {
    "execution": {
     "iopub.execute_input": "2022-07-24T12:38:59.816991Z",
     "iopub.status.busy": "2022-07-24T12:38:59.816178Z",
     "iopub.status.idle": "2022-07-24T12:39:02.408977Z",
     "shell.execute_reply": "2022-07-24T12:39:02.406842Z"
    },
    "id": "ff8ce7bd",
    "papermill": {
     "duration": 2.618406,
     "end_time": "2022-07-24T12:39:02.413386",
     "exception": false,
     "start_time": "2022-07-24T12:38:59.794980",
     "status": "completed"
    },
    "tags": []
   },
   "outputs": [
    {
     "name": "stdout",
     "output_type": "stream",
     "text": [
      "Learning rate set to 0.037906\n",
      "0:\tlearn: 0.9694535\ttotal: 81.3ms\tremaining: 1m 21s\n",
      "1:\tlearn: 0.9371150\ttotal: 81.8ms\tremaining: 40.8s\n",
      "2:\tlearn: 0.9095517\ttotal: 84.2ms\tremaining: 28s\n",
      "3:\tlearn: 0.8787314\ttotal: 84.9ms\tremaining: 21.1s\n",
      "4:\tlearn: 0.8536744\ttotal: 85.3ms\tremaining: 17s\n",
      "5:\tlearn: 0.8256260\ttotal: 88.9ms\tremaining: 14.7s\n",
      "6:\tlearn: 0.8029055\ttotal: 89.1ms\tremaining: 12.6s\n",
      "7:\tlearn: 0.7797524\ttotal: 89.6ms\tremaining: 11.1s\n",
      "8:\tlearn: 0.7541991\ttotal: 89.9ms\tremaining: 9.9s\n",
      "9:\tlearn: 0.7315010\ttotal: 90.2ms\tremaining: 8.93s\n",
      "10:\tlearn: 0.7085233\ttotal: 90.5ms\tremaining: 8.13s\n",
      "11:\tlearn: 0.6856101\ttotal: 90.7ms\tremaining: 7.47s\n",
      "12:\tlearn: 0.6670719\ttotal: 90.9ms\tremaining: 6.9s\n",
      "13:\tlearn: 0.6481108\ttotal: 91.2ms\tremaining: 6.42s\n",
      "14:\tlearn: 0.6278192\ttotal: 91.4ms\tremaining: 6s\n",
      "15:\tlearn: 0.6094367\ttotal: 91.7ms\tremaining: 5.64s\n",
      "16:\tlearn: 0.5903573\ttotal: 91.9ms\tremaining: 5.32s\n",
      "17:\tlearn: 0.5722177\ttotal: 92.2ms\tremaining: 5.03s\n",
      "18:\tlearn: 0.5561757\ttotal: 92.4ms\tremaining: 4.77s\n",
      "19:\tlearn: 0.5427709\ttotal: 92.9ms\tremaining: 4.55s\n",
      "20:\tlearn: 0.5256066\ttotal: 93.6ms\tremaining: 4.37s\n",
      "21:\tlearn: 0.5096065\ttotal: 93.9ms\tremaining: 4.17s\n",
      "22:\tlearn: 0.4960856\ttotal: 94.1ms\tremaining: 4s\n",
      "23:\tlearn: 0.4810438\ttotal: 95.3ms\tremaining: 3.88s\n",
      "24:\tlearn: 0.4654837\ttotal: 96ms\tremaining: 3.74s\n",
      "25:\tlearn: 0.4512613\ttotal: 108ms\tremaining: 4.03s\n",
      "26:\tlearn: 0.4384036\ttotal: 109ms\tremaining: 3.94s\n",
      "27:\tlearn: 0.4259463\ttotal: 111ms\tremaining: 3.87s\n"
     ]
    },
    {
     "name": "stdout",
     "output_type": "stream",
     "text": [
      "28:\tlearn: 0.4149342\ttotal: 112ms\tremaining: 3.75s\n",
      "29:\tlearn: 0.4026775\ttotal: 112ms\tremaining: 3.63s\n",
      "30:\tlearn: 0.3912478\ttotal: 113ms\tremaining: 3.54s\n",
      "31:\tlearn: 0.3805967\ttotal: 114ms\tremaining: 3.44s\n",
      "32:\tlearn: 0.3714436\ttotal: 120ms\tremaining: 3.52s\n",
      "33:\tlearn: 0.3610343\ttotal: 120ms\tremaining: 3.42s\n",
      "34:\tlearn: 0.3508905\ttotal: 125ms\tremaining: 3.45s\n",
      "35:\tlearn: 0.3407481\ttotal: 125ms\tremaining: 3.36s\n",
      "36:\tlearn: 0.3311267\ttotal: 126ms\tremaining: 3.27s\n",
      "37:\tlearn: 0.3213769\ttotal: 126ms\tremaining: 3.19s\n",
      "38:\tlearn: 0.3121474\ttotal: 126ms\tremaining: 3.11s\n",
      "39:\tlearn: 0.3046213\ttotal: 127ms\tremaining: 3.04s\n",
      "40:\tlearn: 0.2955283\ttotal: 127ms\tremaining: 2.97s\n",
      "41:\tlearn: 0.2887698\ttotal: 127ms\tremaining: 2.91s\n",
      "42:\tlearn: 0.2818063\ttotal: 128ms\tremaining: 2.84s\n",
      "43:\tlearn: 0.2744464\ttotal: 128ms\tremaining: 2.78s\n",
      "44:\tlearn: 0.2669841\ttotal: 128ms\tremaining: 2.72s\n",
      "45:\tlearn: 0.2602525\ttotal: 129ms\tremaining: 2.67s\n",
      "46:\tlearn: 0.2531086\ttotal: 132ms\tremaining: 2.67s\n",
      "47:\tlearn: 0.2471811\ttotal: 133ms\tremaining: 2.64s\n",
      "48:\tlearn: 0.2411832\ttotal: 142ms\tremaining: 2.77s\n",
      "49:\tlearn: 0.2341727\ttotal: 143ms\tremaining: 2.71s\n",
      "50:\tlearn: 0.2276393\ttotal: 143ms\tremaining: 2.67s\n",
      "51:\tlearn: 0.2221188\ttotal: 146ms\tremaining: 2.65s\n",
      "52:\tlearn: 0.2164217\ttotal: 150ms\tremaining: 2.68s\n",
      "53:\tlearn: 0.2108652\ttotal: 155ms\tremaining: 2.71s\n",
      "54:\tlearn: 0.2051677\ttotal: 155ms\tremaining: 2.66s\n",
      "55:\tlearn: 0.2002403\ttotal: 155ms\tremaining: 2.61s\n",
      "56:\tlearn: 0.1951422\ttotal: 155ms\tremaining: 2.57s\n",
      "57:\tlearn: 0.1901348\ttotal: 160ms\tremaining: 2.6s\n",
      "58:\tlearn: 0.1855481\ttotal: 161ms\tremaining: 2.56s\n",
      "59:\tlearn: 0.1820345\ttotal: 161ms\tremaining: 2.52s\n",
      "60:\tlearn: 0.1774514\ttotal: 161ms\tremaining: 2.48s\n",
      "61:\tlearn: 0.1736195\ttotal: 161ms\tremaining: 2.44s\n",
      "62:\tlearn: 0.1692918\ttotal: 162ms\tremaining: 2.4s\n",
      "63:\tlearn: 0.1651901\ttotal: 166ms\tremaining: 2.42s\n",
      "64:\tlearn: 0.1608192\ttotal: 166ms\tremaining: 2.39s\n",
      "65:\tlearn: 0.1574377\ttotal: 166ms\tremaining: 2.35s\n",
      "66:\tlearn: 0.1538287\ttotal: 167ms\tremaining: 2.32s\n",
      "67:\tlearn: 0.1503599\ttotal: 167ms\tremaining: 2.29s\n",
      "68:\tlearn: 0.1465838\ttotal: 167ms\tremaining: 2.25s\n",
      "69:\tlearn: 0.1428848\ttotal: 172ms\tremaining: 2.29s\n",
      "70:\tlearn: 0.1394662\ttotal: 172ms\tremaining: 2.26s\n",
      "71:\tlearn: 0.1364946\ttotal: 173ms\tremaining: 2.23s\n",
      "72:\tlearn: 0.1332510\ttotal: 173ms\tremaining: 2.2s\n",
      "73:\tlearn: 0.1314533\ttotal: 173ms\tremaining: 2.17s\n",
      "74:\tlearn: 0.1283853\ttotal: 174ms\tremaining: 2.14s\n",
      "75:\tlearn: 0.1262897\ttotal: 174ms\tremaining: 2.11s\n",
      "76:\tlearn: 0.1238016\ttotal: 174ms\tremaining: 2.09s\n",
      "77:\tlearn: 0.1222572\ttotal: 175ms\tremaining: 2.06s\n",
      "78:\tlearn: 0.1201258\ttotal: 175ms\tremaining: 2.04s\n",
      "79:\tlearn: 0.1173921\ttotal: 175ms\tremaining: 2.02s\n",
      "80:\tlearn: 0.1147738\ttotal: 176ms\tremaining: 1.99s\n",
      "81:\tlearn: 0.1122273\ttotal: 176ms\tremaining: 1.97s\n",
      "82:\tlearn: 0.1100578\ttotal: 185ms\tremaining: 2.04s\n",
      "83:\tlearn: 0.1081965\ttotal: 185ms\tremaining: 2.02s\n",
      "84:\tlearn: 0.1070435\ttotal: 186ms\tremaining: 2s\n",
      "85:\tlearn: 0.1046826\ttotal: 186ms\tremaining: 1.98s\n",
      "86:\tlearn: 0.1034362\ttotal: 186ms\tremaining: 1.95s\n",
      "87:\tlearn: 0.1019116\ttotal: 186ms\tremaining: 1.93s\n",
      "88:\tlearn: 0.0997052\ttotal: 187ms\tremaining: 1.91s\n",
      "89:\tlearn: 0.0976180\ttotal: 188ms\tremaining: 1.9s\n",
      "90:\tlearn: 0.0957539\ttotal: 188ms\tremaining: 1.88s\n",
      "91:\tlearn: 0.0943552\ttotal: 188ms\tremaining: 1.86s\n",
      "92:\tlearn: 0.0926996\ttotal: 188ms\tremaining: 1.84s\n",
      "93:\tlearn: 0.0909492\ttotal: 189ms\tremaining: 1.82s\n",
      "94:\tlearn: 0.0899389\ttotal: 189ms\tremaining: 1.8s\n",
      "95:\tlearn: 0.0883926\ttotal: 189ms\tremaining: 1.78s\n",
      "96:\tlearn: 0.0871154\ttotal: 190ms\tremaining: 1.76s\n",
      "97:\tlearn: 0.0854617\ttotal: 190ms\tremaining: 1.75s\n",
      "98:\tlearn: 0.0841337\ttotal: 193ms\tremaining: 1.75s\n",
      "99:\tlearn: 0.0827715\ttotal: 193ms\tremaining: 1.74s\n",
      "100:\tlearn: 0.0813845\ttotal: 193ms\tremaining: 1.72s\n",
      "101:\tlearn: 0.0803290\ttotal: 193ms\tremaining: 1.7s\n",
      "102:\tlearn: 0.0788763\ttotal: 194ms\tremaining: 1.69s\n",
      "103:\tlearn: 0.0776890\ttotal: 194ms\tremaining: 1.67s\n",
      "104:\tlearn: 0.0767236\ttotal: 194ms\tremaining: 1.66s\n",
      "105:\tlearn: 0.0758648\ttotal: 195ms\tremaining: 1.64s\n",
      "106:\tlearn: 0.0748050\ttotal: 196ms\tremaining: 1.64s\n",
      "107:\tlearn: 0.0742054\ttotal: 197ms\tremaining: 1.62s\n",
      "108:\tlearn: 0.0735085\ttotal: 197ms\tremaining: 1.61s\n",
      "109:\tlearn: 0.0724082\ttotal: 197ms\tremaining: 1.59s\n",
      "110:\tlearn: 0.0715182\ttotal: 197ms\tremaining: 1.58s\n",
      "111:\tlearn: 0.0704355\ttotal: 206ms\tremaining: 1.63s\n",
      "112:\tlearn: 0.0698060\ttotal: 206ms\tremaining: 1.62s\n",
      "113:\tlearn: 0.0690497\ttotal: 207ms\tremaining: 1.61s\n",
      "114:\tlearn: 0.0681028\ttotal: 207ms\tremaining: 1.59s\n",
      "115:\tlearn: 0.0673214\ttotal: 211ms\tremaining: 1.61s\n",
      "116:\tlearn: 0.0666542\ttotal: 211ms\tremaining: 1.59s\n",
      "117:\tlearn: 0.0657383\ttotal: 212ms\tremaining: 1.58s\n",
      "118:\tlearn: 0.0647654\ttotal: 212ms\tremaining: 1.57s\n",
      "119:\tlearn: 0.0642857\ttotal: 212ms\tremaining: 1.56s\n",
      "120:\tlearn: 0.0638582\ttotal: 213ms\tremaining: 1.54s\n",
      "121:\tlearn: 0.0631998\ttotal: 213ms\tremaining: 1.53s\n",
      "122:\tlearn: 0.0624372\ttotal: 215ms\tremaining: 1.53s\n",
      "123:\tlearn: 0.0618647\ttotal: 215ms\tremaining: 1.52s\n",
      "124:\tlearn: 0.0611245\ttotal: 216ms\tremaining: 1.51s\n",
      "125:\tlearn: 0.0607934\ttotal: 216ms\tremaining: 1.5s\n",
      "126:\tlearn: 0.0602768\ttotal: 216ms\tremaining: 1.49s\n",
      "127:\tlearn: 0.0596466\ttotal: 217ms\tremaining: 1.48s\n",
      "128:\tlearn: 0.0591523\ttotal: 217ms\tremaining: 1.46s\n",
      "129:\tlearn: 0.0585943\ttotal: 217ms\tremaining: 1.45s\n",
      "130:\tlearn: 0.0579910\ttotal: 218ms\tremaining: 1.44s\n",
      "131:\tlearn: 0.0573858\ttotal: 218ms\tremaining: 1.43s\n",
      "132:\tlearn: 0.0568119\ttotal: 218ms\tremaining: 1.42s\n",
      "133:\tlearn: 0.0563711\ttotal: 218ms\tremaining: 1.41s\n",
      "134:\tlearn: 0.0559138\ttotal: 219ms\tremaining: 1.4s\n",
      "135:\tlearn: 0.0554231\ttotal: 219ms\tremaining: 1.39s\n",
      "136:\tlearn: 0.0550146\ttotal: 219ms\tremaining: 1.38s\n",
      "137:\tlearn: 0.0545752\ttotal: 220ms\tremaining: 1.37s\n",
      "138:\tlearn: 0.0542131\ttotal: 220ms\tremaining: 1.36s\n",
      "139:\tlearn: 0.0537837\ttotal: 220ms\tremaining: 1.35s\n",
      "140:\tlearn: 0.0533604\ttotal: 220ms\tremaining: 1.34s\n",
      "141:\tlearn: 0.0529814\ttotal: 221ms\tremaining: 1.33s\n",
      "142:\tlearn: 0.0526532\ttotal: 221ms\tremaining: 1.32s\n",
      "143:\tlearn: 0.0522893\ttotal: 222ms\tremaining: 1.32s\n",
      "144:\tlearn: 0.0519823\ttotal: 222ms\tremaining: 1.31s\n"
     ]
    },
    {
     "name": "stdout",
     "output_type": "stream",
     "text": [
      "145:\tlearn: 0.0516624\ttotal: 222ms\tremaining: 1.3s\n",
      "146:\tlearn: 0.0514292\ttotal: 222ms\tremaining: 1.29s\n",
      "147:\tlearn: 0.0511199\ttotal: 223ms\tremaining: 1.28s\n",
      "148:\tlearn: 0.0508871\ttotal: 223ms\tremaining: 1.27s\n",
      "149:\tlearn: 0.0505776\ttotal: 223ms\tremaining: 1.26s\n",
      "150:\tlearn: 0.0503218\ttotal: 224ms\tremaining: 1.26s\n",
      "151:\tlearn: 0.0499411\ttotal: 224ms\tremaining: 1.25s\n",
      "152:\tlearn: 0.0496379\ttotal: 224ms\tremaining: 1.24s\n",
      "153:\tlearn: 0.0493722\ttotal: 224ms\tremaining: 1.23s\n",
      "154:\tlearn: 0.0491833\ttotal: 225ms\tremaining: 1.22s\n",
      "155:\tlearn: 0.0489459\ttotal: 225ms\tremaining: 1.22s\n",
      "156:\tlearn: 0.0486761\ttotal: 225ms\tremaining: 1.21s\n",
      "157:\tlearn: 0.0484976\ttotal: 225ms\tremaining: 1.2s\n",
      "158:\tlearn: 0.0482744\ttotal: 226ms\tremaining: 1.19s\n",
      "159:\tlearn: 0.0480626\ttotal: 226ms\tremaining: 1.19s\n",
      "160:\tlearn: 0.0478949\ttotal: 226ms\tremaining: 1.18s\n",
      "161:\tlearn: 0.0476853\ttotal: 227ms\tremaining: 1.17s\n",
      "162:\tlearn: 0.0474444\ttotal: 227ms\tremaining: 1.16s\n",
      "163:\tlearn: 0.0472863\ttotal: 227ms\tremaining: 1.16s\n",
      "164:\tlearn: 0.0470918\ttotal: 227ms\tremaining: 1.15s\n",
      "165:\tlearn: 0.0468799\ttotal: 228ms\tremaining: 1.14s\n",
      "166:\tlearn: 0.0467044\ttotal: 230ms\tremaining: 1.15s\n",
      "167:\tlearn: 0.0465497\ttotal: 230ms\tremaining: 1.14s\n",
      "168:\tlearn: 0.0463742\ttotal: 231ms\tremaining: 1.13s\n",
      "169:\tlearn: 0.0461928\ttotal: 233ms\tremaining: 1.14s\n",
      "170:\tlearn: 0.0460091\ttotal: 253ms\tremaining: 1.23s\n",
      "171:\tlearn: 0.0458635\ttotal: 254ms\tremaining: 1.22s\n",
      "172:\tlearn: 0.0456827\ttotal: 254ms\tremaining: 1.21s\n",
      "173:\tlearn: 0.0455536\ttotal: 259ms\tremaining: 1.23s\n",
      "174:\tlearn: 0.0453391\ttotal: 259ms\tremaining: 1.22s\n",
      "175:\tlearn: 0.0451111\ttotal: 259ms\tremaining: 1.21s\n",
      "176:\tlearn: 0.0449269\ttotal: 260ms\tremaining: 1.21s\n",
      "177:\tlearn: 0.0447403\ttotal: 260ms\tremaining: 1.2s\n",
      "178:\tlearn: 0.0446211\ttotal: 272ms\tremaining: 1.25s\n",
      "179:\tlearn: 0.0444041\ttotal: 272ms\tremaining: 1.24s\n",
      "180:\tlearn: 0.0442682\ttotal: 273ms\tremaining: 1.23s\n",
      "181:\tlearn: 0.0441728\ttotal: 273ms\tremaining: 1.23s\n",
      "182:\tlearn: 0.0439847\ttotal: 273ms\tremaining: 1.22s\n",
      "183:\tlearn: 0.0438500\ttotal: 273ms\tremaining: 1.21s\n",
      "184:\tlearn: 0.0437184\ttotal: 274ms\tremaining: 1.21s\n",
      "185:\tlearn: 0.0435751\ttotal: 274ms\tremaining: 1.2s\n",
      "186:\tlearn: 0.0434426\ttotal: 274ms\tremaining: 1.19s\n",
      "187:\tlearn: 0.0433005\ttotal: 275ms\tremaining: 1.19s\n",
      "188:\tlearn: 0.0431541\ttotal: 275ms\tremaining: 1.18s\n",
      "189:\tlearn: 0.0430365\ttotal: 275ms\tremaining: 1.17s\n",
      "190:\tlearn: 0.0429067\ttotal: 282ms\tremaining: 1.19s\n",
      "191:\tlearn: 0.0427622\ttotal: 285ms\tremaining: 1.2s\n",
      "192:\tlearn: 0.0425004\ttotal: 285ms\tremaining: 1.19s\n",
      "193:\tlearn: 0.0423503\ttotal: 285ms\tremaining: 1.19s\n",
      "194:\tlearn: 0.0422408\ttotal: 286ms\tremaining: 1.18s\n",
      "195:\tlearn: 0.0420527\ttotal: 286ms\tremaining: 1.17s\n",
      "196:\tlearn: 0.0419142\ttotal: 286ms\tremaining: 1.17s\n",
      "197:\tlearn: 0.0417816\ttotal: 292ms\tremaining: 1.18s\n",
      "198:\tlearn: 0.0416570\ttotal: 293ms\tremaining: 1.18s\n",
      "199:\tlearn: 0.0415353\ttotal: 301ms\tremaining: 1.2s\n",
      "200:\tlearn: 0.0413776\ttotal: 302ms\tremaining: 1.2s\n",
      "201:\tlearn: 0.0412963\ttotal: 302ms\tremaining: 1.19s\n",
      "202:\tlearn: 0.0411662\ttotal: 302ms\tremaining: 1.19s\n",
      "203:\tlearn: 0.0409530\ttotal: 304ms\tremaining: 1.19s\n",
      "204:\tlearn: 0.0408449\ttotal: 304ms\tremaining: 1.18s\n",
      "205:\tlearn: 0.0407017\ttotal: 305ms\tremaining: 1.17s\n",
      "206:\tlearn: 0.0405814\ttotal: 305ms\tremaining: 1.17s\n",
      "207:\tlearn: 0.0405124\ttotal: 305ms\tremaining: 1.16s\n",
      "208:\tlearn: 0.0403256\ttotal: 308ms\tremaining: 1.17s\n"
     ]
    },
    {
     "name": "stdout",
     "output_type": "stream",
     "text": [
      "209:\tlearn: 0.0402518\ttotal: 308ms\tremaining: 1.16s\n",
      "210:\tlearn: 0.0401608\ttotal: 309ms\tremaining: 1.15s\n",
      "211:\tlearn: 0.0400424\ttotal: 311ms\tremaining: 1.16s\n",
      "212:\tlearn: 0.0399708\ttotal: 311ms\tremaining: 1.15s\n",
      "213:\tlearn: 0.0398968\ttotal: 312ms\tremaining: 1.15s\n",
      "214:\tlearn: 0.0397529\ttotal: 316ms\tremaining: 1.15s\n",
      "215:\tlearn: 0.0396393\ttotal: 316ms\tremaining: 1.15s\n",
      "216:\tlearn: 0.0395264\ttotal: 318ms\tremaining: 1.15s\n",
      "217:\tlearn: 0.0393888\ttotal: 321ms\tremaining: 1.15s\n",
      "218:\tlearn: 0.0393331\ttotal: 322ms\tremaining: 1.15s\n",
      "219:\tlearn: 0.0391505\ttotal: 322ms\tremaining: 1.14s\n",
      "220:\tlearn: 0.0390821\ttotal: 322ms\tremaining: 1.14s\n",
      "221:\tlearn: 0.0389632\ttotal: 322ms\tremaining: 1.13s\n",
      "222:\tlearn: 0.0387889\ttotal: 323ms\tremaining: 1.12s\n",
      "223:\tlearn: 0.0386961\ttotal: 323ms\tremaining: 1.12s\n",
      "224:\tlearn: 0.0385906\ttotal: 328ms\tremaining: 1.13s\n",
      "225:\tlearn: 0.0385127\ttotal: 329ms\tremaining: 1.13s\n",
      "226:\tlearn: 0.0383703\ttotal: 329ms\tremaining: 1.12s\n",
      "227:\tlearn: 0.0383066\ttotal: 329ms\tremaining: 1.11s\n",
      "228:\tlearn: 0.0381825\ttotal: 330ms\tremaining: 1.11s\n",
      "229:\tlearn: 0.0380942\ttotal: 330ms\tremaining: 1.1s\n",
      "230:\tlearn: 0.0378581\ttotal: 333ms\tremaining: 1.11s\n",
      "231:\tlearn: 0.0377743\ttotal: 333ms\tremaining: 1.1s\n",
      "232:\tlearn: 0.0375424\ttotal: 334ms\tremaining: 1.1s\n",
      "233:\tlearn: 0.0374486\ttotal: 340ms\tremaining: 1.11s\n",
      "234:\tlearn: 0.0373457\ttotal: 340ms\tremaining: 1.11s\n",
      "235:\tlearn: 0.0371870\ttotal: 341ms\tremaining: 1.1s\n",
      "236:\tlearn: 0.0370563\ttotal: 346ms\tremaining: 1.11s\n",
      "237:\tlearn: 0.0369842\ttotal: 351ms\tremaining: 1.12s\n",
      "238:\tlearn: 0.0368115\ttotal: 355ms\tremaining: 1.13s\n",
      "239:\tlearn: 0.0367470\ttotal: 355ms\tremaining: 1.13s\n",
      "240:\tlearn: 0.0366597\ttotal: 357ms\tremaining: 1.12s\n",
      "241:\tlearn: 0.0364645\ttotal: 357ms\tremaining: 1.12s\n",
      "242:\tlearn: 0.0362634\ttotal: 359ms\tremaining: 1.12s\n",
      "243:\tlearn: 0.0361240\ttotal: 359ms\tremaining: 1.11s\n",
      "244:\tlearn: 0.0360050\ttotal: 361ms\tremaining: 1.11s\n",
      "245:\tlearn: 0.0359042\ttotal: 361ms\tremaining: 1.11s\n",
      "246:\tlearn: 0.0357329\ttotal: 363ms\tremaining: 1.1s\n",
      "247:\tlearn: 0.0356445\ttotal: 367ms\tremaining: 1.11s\n",
      "248:\tlearn: 0.0355058\ttotal: 367ms\tremaining: 1.11s\n",
      "249:\tlearn: 0.0353841\ttotal: 367ms\tremaining: 1.1s\n",
      "250:\tlearn: 0.0352668\ttotal: 368ms\tremaining: 1.1s\n",
      "251:\tlearn: 0.0351427\ttotal: 368ms\tremaining: 1.09s\n",
      "252:\tlearn: 0.0350314\ttotal: 371ms\tremaining: 1.1s\n",
      "253:\tlearn: 0.0349519\ttotal: 373ms\tremaining: 1.09s\n",
      "254:\tlearn: 0.0347833\ttotal: 373ms\tremaining: 1.09s\n",
      "255:\tlearn: 0.0346714\ttotal: 374ms\tremaining: 1.09s\n",
      "256:\tlearn: 0.0345699\ttotal: 375ms\tremaining: 1.08s\n",
      "257:\tlearn: 0.0344913\ttotal: 378ms\tremaining: 1.09s\n",
      "258:\tlearn: 0.0344439\ttotal: 379ms\tremaining: 1.08s\n",
      "259:\tlearn: 0.0343485\ttotal: 379ms\tremaining: 1.08s\n",
      "260:\tlearn: 0.0342491\ttotal: 380ms\tremaining: 1.07s\n",
      "261:\tlearn: 0.0342028\ttotal: 380ms\tremaining: 1.07s\n",
      "262:\tlearn: 0.0340861\ttotal: 380ms\tremaining: 1.07s\n",
      "263:\tlearn: 0.0339535\ttotal: 381ms\tremaining: 1.06s\n",
      "264:\tlearn: 0.0339138\ttotal: 381ms\tremaining: 1.06s\n",
      "265:\tlearn: 0.0337890\ttotal: 381ms\tremaining: 1.05s\n",
      "266:\tlearn: 0.0336322\ttotal: 383ms\tremaining: 1.05s\n",
      "267:\tlearn: 0.0335650\ttotal: 384ms\tremaining: 1.05s\n",
      "268:\tlearn: 0.0334689\ttotal: 384ms\tremaining: 1.04s\n",
      "269:\tlearn: 0.0333758\ttotal: 384ms\tremaining: 1.04s\n",
      "270:\tlearn: 0.0332874\ttotal: 385ms\tremaining: 1.03s\n",
      "271:\tlearn: 0.0332116\ttotal: 385ms\tremaining: 1.03s\n",
      "272:\tlearn: 0.0331319\ttotal: 388ms\tremaining: 1.03s\n",
      "273:\tlearn: 0.0329893\ttotal: 390ms\tremaining: 1.03s\n",
      "274:\tlearn: 0.0328976\ttotal: 393ms\tremaining: 1.03s\n",
      "275:\tlearn: 0.0328164\ttotal: 401ms\tremaining: 1.05s\n",
      "276:\tlearn: 0.0327086\ttotal: 416ms\tremaining: 1.09s\n",
      "277:\tlearn: 0.0326399\ttotal: 417ms\tremaining: 1.08s\n",
      "278:\tlearn: 0.0325195\ttotal: 420ms\tremaining: 1.08s\n",
      "279:\tlearn: 0.0324862\ttotal: 420ms\tremaining: 1.08s\n",
      "280:\tlearn: 0.0324012\ttotal: 422ms\tremaining: 1.08s\n",
      "281:\tlearn: 0.0323579\ttotal: 423ms\tremaining: 1.08s\n",
      "282:\tlearn: 0.0322815\ttotal: 425ms\tremaining: 1.08s\n",
      "283:\tlearn: 0.0321728\ttotal: 438ms\tremaining: 1.1s\n"
     ]
    },
    {
     "name": "stdout",
     "output_type": "stream",
     "text": [
      "284:\tlearn: 0.0321156\ttotal: 441ms\tremaining: 1.11s\n",
      "285:\tlearn: 0.0320843\ttotal: 442ms\tremaining: 1.1s\n",
      "286:\tlearn: 0.0320130\ttotal: 445ms\tremaining: 1.11s\n",
      "287:\tlearn: 0.0319270\ttotal: 446ms\tremaining: 1.1s\n",
      "288:\tlearn: 0.0318638\ttotal: 446ms\tremaining: 1.1s\n",
      "289:\tlearn: 0.0317993\ttotal: 446ms\tremaining: 1.09s\n",
      "290:\tlearn: 0.0317387\ttotal: 447ms\tremaining: 1.09s\n",
      "291:\tlearn: 0.0316754\ttotal: 447ms\tremaining: 1.08s\n",
      "292:\tlearn: 0.0316287\ttotal: 453ms\tremaining: 1.09s\n",
      "293:\tlearn: 0.0315816\ttotal: 457ms\tremaining: 1.1s\n",
      "294:\tlearn: 0.0315216\ttotal: 459ms\tremaining: 1.09s\n",
      "295:\tlearn: 0.0314193\ttotal: 460ms\tremaining: 1.09s\n",
      "296:\tlearn: 0.0313282\ttotal: 460ms\tremaining: 1.09s\n",
      "297:\tlearn: 0.0312397\ttotal: 460ms\tremaining: 1.08s\n",
      "298:\tlearn: 0.0311429\ttotal: 470ms\tremaining: 1.1s\n",
      "299:\tlearn: 0.0310857\ttotal: 472ms\tremaining: 1.1s\n",
      "300:\tlearn: 0.0310318\ttotal: 476ms\tremaining: 1.1s\n",
      "301:\tlearn: 0.0309457\ttotal: 476ms\tremaining: 1.1s\n",
      "302:\tlearn: 0.0308619\ttotal: 476ms\tremaining: 1.09s\n",
      "303:\tlearn: 0.0307874\ttotal: 478ms\tremaining: 1.09s\n",
      "304:\tlearn: 0.0307574\ttotal: 479ms\tremaining: 1.09s\n",
      "305:\tlearn: 0.0307122\ttotal: 480ms\tremaining: 1.09s\n",
      "306:\tlearn: 0.0306624\ttotal: 482ms\tremaining: 1.09s\n",
      "307:\tlearn: 0.0305657\ttotal: 483ms\tremaining: 1.08s\n",
      "308:\tlearn: 0.0304972\ttotal: 483ms\tremaining: 1.08s\n",
      "309:\tlearn: 0.0304412\ttotal: 483ms\tremaining: 1.07s\n",
      "310:\tlearn: 0.0303694\ttotal: 484ms\tremaining: 1.07s\n",
      "311:\tlearn: 0.0303398\ttotal: 484ms\tremaining: 1.07s\n",
      "312:\tlearn: 0.0302622\ttotal: 484ms\tremaining: 1.06s\n",
      "313:\tlearn: 0.0301688\ttotal: 484ms\tremaining: 1.06s\n",
      "314:\tlearn: 0.0301063\ttotal: 485ms\tremaining: 1.05s\n",
      "315:\tlearn: 0.0300043\ttotal: 488ms\tremaining: 1.06s\n",
      "316:\tlearn: 0.0299603\ttotal: 489ms\tremaining: 1.05s\n",
      "317:\tlearn: 0.0299069\ttotal: 489ms\tremaining: 1.05s\n",
      "318:\tlearn: 0.0298306\ttotal: 489ms\tremaining: 1.04s\n",
      "319:\tlearn: 0.0297657\ttotal: 490ms\tremaining: 1.04s\n",
      "320:\tlearn: 0.0297406\ttotal: 492ms\tremaining: 1.04s\n",
      "321:\tlearn: 0.0296647\ttotal: 495ms\tremaining: 1.04s\n",
      "322:\tlearn: 0.0295936\ttotal: 497ms\tremaining: 1.04s\n",
      "323:\tlearn: 0.0295463\ttotal: 501ms\tremaining: 1.04s\n",
      "324:\tlearn: 0.0294512\ttotal: 502ms\tremaining: 1.04s\n",
      "325:\tlearn: 0.0293623\ttotal: 503ms\tremaining: 1.04s\n",
      "326:\tlearn: 0.0292800\ttotal: 503ms\tremaining: 1.03s\n",
      "327:\tlearn: 0.0292276\ttotal: 504ms\tremaining: 1.03s\n",
      "328:\tlearn: 0.0291758\ttotal: 504ms\tremaining: 1.03s\n",
      "329:\tlearn: 0.0291299\ttotal: 504ms\tremaining: 1.02s\n",
      "330:\tlearn: 0.0290679\ttotal: 506ms\tremaining: 1.02s\n",
      "331:\tlearn: 0.0289995\ttotal: 506ms\tremaining: 1.02s\n",
      "332:\tlearn: 0.0289383\ttotal: 507ms\tremaining: 1.01s\n",
      "333:\tlearn: 0.0288503\ttotal: 508ms\tremaining: 1.01s\n",
      "334:\tlearn: 0.0287812\ttotal: 509ms\tremaining: 1.01s\n",
      "335:\tlearn: 0.0287292\ttotal: 509ms\tremaining: 1s\n",
      "336:\tlearn: 0.0286471\ttotal: 510ms\tremaining: 1s\n",
      "337:\tlearn: 0.0286194\ttotal: 514ms\tremaining: 1.01s\n",
      "338:\tlearn: 0.0285764\ttotal: 516ms\tremaining: 1s\n",
      "339:\tlearn: 0.0285334\ttotal: 516ms\tremaining: 1s\n",
      "340:\tlearn: 0.0284983\ttotal: 517ms\tremaining: 998ms\n",
      "341:\tlearn: 0.0284605\ttotal: 517ms\tremaining: 995ms\n",
      "342:\tlearn: 0.0283937\ttotal: 518ms\tremaining: 991ms\n",
      "343:\tlearn: 0.0283678\ttotal: 518ms\tremaining: 988ms\n",
      "344:\tlearn: 0.0282985\ttotal: 518ms\tremaining: 984ms\n",
      "345:\tlearn: 0.0282354\ttotal: 518ms\tremaining: 980ms\n",
      "346:\tlearn: 0.0281595\ttotal: 519ms\tremaining: 976ms\n",
      "347:\tlearn: 0.0280924\ttotal: 519ms\tremaining: 973ms\n",
      "348:\tlearn: 0.0280446\ttotal: 524ms\tremaining: 977ms\n",
      "349:\tlearn: 0.0279732\ttotal: 524ms\tremaining: 974ms\n",
      "350:\tlearn: 0.0279308\ttotal: 525ms\tremaining: 970ms\n",
      "351:\tlearn: 0.0278876\ttotal: 525ms\tremaining: 966ms\n",
      "352:\tlearn: 0.0278507\ttotal: 525ms\tremaining: 962ms\n",
      "353:\tlearn: 0.0277865\ttotal: 525ms\tremaining: 959ms\n",
      "354:\tlearn: 0.0277338\ttotal: 531ms\tremaining: 965ms\n",
      "355:\tlearn: 0.0276716\ttotal: 532ms\tremaining: 962ms\n",
      "356:\tlearn: 0.0276334\ttotal: 533ms\tremaining: 960ms\n",
      "357:\tlearn: 0.0275346\ttotal: 534ms\tremaining: 958ms\n",
      "358:\tlearn: 0.0274966\ttotal: 535ms\tremaining: 955ms\n",
      "359:\tlearn: 0.0274428\ttotal: 535ms\tremaining: 952ms\n",
      "360:\tlearn: 0.0274039\ttotal: 536ms\tremaining: 948ms\n",
      "361:\tlearn: 0.0273700\ttotal: 536ms\tremaining: 945ms\n",
      "362:\tlearn: 0.0273305\ttotal: 536ms\tremaining: 941ms\n",
      "363:\tlearn: 0.0272772\ttotal: 539ms\tremaining: 943ms\n",
      "364:\tlearn: 0.0272145\ttotal: 541ms\tremaining: 940ms\n",
      "365:\tlearn: 0.0271805\ttotal: 542ms\tremaining: 939ms\n",
      "366:\tlearn: 0.0271197\ttotal: 543ms\tremaining: 937ms\n",
      "367:\tlearn: 0.0270783\ttotal: 544ms\tremaining: 934ms\n",
      "368:\tlearn: 0.0270412\ttotal: 545ms\tremaining: 932ms\n",
      "369:\tlearn: 0.0269891\ttotal: 548ms\tremaining: 932ms\n",
      "370:\tlearn: 0.0269583\ttotal: 548ms\tremaining: 930ms\n",
      "371:\tlearn: 0.0269024\ttotal: 550ms\tremaining: 929ms\n",
      "372:\tlearn: 0.0268620\ttotal: 550ms\tremaining: 925ms\n",
      "373:\tlearn: 0.0268086\ttotal: 551ms\tremaining: 922ms\n",
      "374:\tlearn: 0.0267728\ttotal: 551ms\tremaining: 919ms\n",
      "375:\tlearn: 0.0267083\ttotal: 553ms\tremaining: 917ms\n"
     ]
    },
    {
     "name": "stdout",
     "output_type": "stream",
     "text": [
      "376:\tlearn: 0.0266727\ttotal: 554ms\tremaining: 915ms\n",
      "377:\tlearn: 0.0266233\ttotal: 554ms\tremaining: 912ms\n",
      "378:\tlearn: 0.0265612\ttotal: 555ms\tremaining: 909ms\n",
      "379:\tlearn: 0.0265083\ttotal: 557ms\tremaining: 908ms\n",
      "380:\tlearn: 0.0264365\ttotal: 562ms\tremaining: 914ms\n",
      "381:\tlearn: 0.0263473\ttotal: 564ms\tremaining: 912ms\n",
      "382:\tlearn: 0.0262942\ttotal: 565ms\tremaining: 910ms\n",
      "383:\tlearn: 0.0262383\ttotal: 566ms\tremaining: 909ms\n",
      "384:\tlearn: 0.0262031\ttotal: 567ms\tremaining: 906ms\n",
      "385:\tlearn: 0.0261183\ttotal: 567ms\tremaining: 902ms\n",
      "386:\tlearn: 0.0260910\ttotal: 568ms\tremaining: 899ms\n",
      "387:\tlearn: 0.0260419\ttotal: 570ms\tremaining: 899ms\n",
      "388:\tlearn: 0.0259610\ttotal: 577ms\tremaining: 907ms\n",
      "389:\tlearn: 0.0259172\ttotal: 588ms\tremaining: 920ms\n",
      "390:\tlearn: 0.0258819\ttotal: 589ms\tremaining: 917ms\n",
      "391:\tlearn: 0.0258514\ttotal: 590ms\tremaining: 915ms\n",
      "392:\tlearn: 0.0258071\ttotal: 592ms\tremaining: 914ms\n",
      "393:\tlearn: 0.0257737\ttotal: 592ms\tremaining: 911ms\n",
      "394:\tlearn: 0.0257425\ttotal: 592ms\tremaining: 907ms\n",
      "395:\tlearn: 0.0257106\ttotal: 593ms\tremaining: 904ms\n",
      "396:\tlearn: 0.0256639\ttotal: 593ms\tremaining: 901ms\n",
      "397:\tlearn: 0.0256092\ttotal: 594ms\tremaining: 898ms\n",
      "398:\tlearn: 0.0255682\ttotal: 602ms\tremaining: 906ms\n",
      "399:\tlearn: 0.0255412\ttotal: 602ms\tremaining: 904ms\n",
      "400:\tlearn: 0.0254858\ttotal: 603ms\tremaining: 901ms\n",
      "401:\tlearn: 0.0254606\ttotal: 603ms\tremaining: 897ms\n",
      "402:\tlearn: 0.0254093\ttotal: 604ms\tremaining: 894ms\n",
      "403:\tlearn: 0.0253741\ttotal: 604ms\tremaining: 891ms\n",
      "404:\tlearn: 0.0253290\ttotal: 604ms\tremaining: 888ms\n",
      "405:\tlearn: 0.0252993\ttotal: 604ms\tremaining: 884ms\n",
      "406:\tlearn: 0.0252485\ttotal: 605ms\tremaining: 881ms\n",
      "407:\tlearn: 0.0252203\ttotal: 605ms\tremaining: 878ms\n",
      "408:\tlearn: 0.0251439\ttotal: 605ms\tremaining: 875ms\n",
      "409:\tlearn: 0.0250711\ttotal: 606ms\tremaining: 871ms\n",
      "410:\tlearn: 0.0250230\ttotal: 606ms\tremaining: 868ms\n",
      "411:\tlearn: 0.0249970\ttotal: 611ms\tremaining: 872ms\n",
      "412:\tlearn: 0.0249543\ttotal: 611ms\tremaining: 869ms\n",
      "413:\tlearn: 0.0249134\ttotal: 612ms\tremaining: 866ms\n",
      "414:\tlearn: 0.0248697\ttotal: 612ms\tremaining: 862ms\n",
      "415:\tlearn: 0.0248377\ttotal: 613ms\tremaining: 861ms\n",
      "416:\tlearn: 0.0248069\ttotal: 616ms\tremaining: 861ms\n",
      "417:\tlearn: 0.0247762\ttotal: 617ms\tremaining: 859ms\n",
      "418:\tlearn: 0.0247257\ttotal: 618ms\tremaining: 856ms\n",
      "419:\tlearn: 0.0246916\ttotal: 620ms\tremaining: 856ms\n",
      "420:\tlearn: 0.0246505\ttotal: 620ms\tremaining: 853ms\n",
      "421:\tlearn: 0.0246210\ttotal: 621ms\tremaining: 850ms\n",
      "422:\tlearn: 0.0245905\ttotal: 621ms\tremaining: 847ms\n",
      "423:\tlearn: 0.0245567\ttotal: 621ms\tremaining: 844ms\n",
      "424:\tlearn: 0.0245315\ttotal: 621ms\tremaining: 841ms\n",
      "425:\tlearn: 0.0244779\ttotal: 623ms\tremaining: 840ms\n",
      "426:\tlearn: 0.0244439\ttotal: 623ms\tremaining: 837ms\n",
      "427:\tlearn: 0.0244182\ttotal: 624ms\tremaining: 834ms\n",
      "428:\tlearn: 0.0243656\ttotal: 624ms\tremaining: 831ms\n",
      "429:\tlearn: 0.0243427\ttotal: 624ms\tremaining: 828ms\n",
      "430:\tlearn: 0.0243043\ttotal: 625ms\tremaining: 825ms\n",
      "431:\tlearn: 0.0242894\ttotal: 625ms\tremaining: 822ms\n",
      "432:\tlearn: 0.0242621\ttotal: 625ms\tremaining: 819ms\n",
      "433:\tlearn: 0.0242124\ttotal: 626ms\tremaining: 816ms\n",
      "434:\tlearn: 0.0241698\ttotal: 626ms\tremaining: 813ms\n",
      "435:\tlearn: 0.0241458\ttotal: 626ms\tremaining: 810ms\n",
      "436:\tlearn: 0.0241192\ttotal: 626ms\tremaining: 807ms\n",
      "437:\tlearn: 0.0240825\ttotal: 627ms\tremaining: 804ms\n",
      "438:\tlearn: 0.0240351\ttotal: 628ms\tremaining: 802ms\n",
      "439:\tlearn: 0.0240066\ttotal: 632ms\tremaining: 804ms\n",
      "440:\tlearn: 0.0239600\ttotal: 633ms\tremaining: 802ms\n",
      "441:\tlearn: 0.0239379\ttotal: 633ms\tremaining: 799ms\n",
      "442:\tlearn: 0.0239004\ttotal: 634ms\tremaining: 797ms\n",
      "443:\tlearn: 0.0238842\ttotal: 636ms\tremaining: 796ms\n",
      "444:\tlearn: 0.0238454\ttotal: 636ms\tremaining: 793ms\n",
      "445:\tlearn: 0.0238103\ttotal: 643ms\tremaining: 799ms\n",
      "446:\tlearn: 0.0237818\ttotal: 648ms\tremaining: 802ms\n",
      "447:\tlearn: 0.0237557\ttotal: 648ms\tremaining: 799ms\n",
      "448:\tlearn: 0.0237216\ttotal: 649ms\tremaining: 796ms\n",
      "449:\tlearn: 0.0236773\ttotal: 649ms\tremaining: 793ms\n",
      "450:\tlearn: 0.0236348\ttotal: 649ms\tremaining: 790ms\n",
      "451:\tlearn: 0.0236084\ttotal: 649ms\tremaining: 787ms\n",
      "452:\tlearn: 0.0235668\ttotal: 650ms\tremaining: 785ms\n",
      "453:\tlearn: 0.0235420\ttotal: 650ms\tremaining: 782ms\n",
      "454:\tlearn: 0.0235177\ttotal: 650ms\tremaining: 779ms\n",
      "455:\tlearn: 0.0234738\ttotal: 654ms\tremaining: 780ms\n",
      "456:\tlearn: 0.0234268\ttotal: 654ms\tremaining: 778ms\n",
      "457:\tlearn: 0.0234036\ttotal: 655ms\tremaining: 775ms\n",
      "458:\tlearn: 0.0233591\ttotal: 655ms\tremaining: 772ms\n",
      "459:\tlearn: 0.0233374\ttotal: 655ms\tremaining: 769ms\n",
      "460:\tlearn: 0.0233123\ttotal: 656ms\tremaining: 767ms\n",
      "461:\tlearn: 0.0232679\ttotal: 656ms\tremaining: 764ms\n",
      "462:\tlearn: 0.0232446\ttotal: 656ms\tremaining: 761ms\n",
      "463:\tlearn: 0.0232169\ttotal: 656ms\tremaining: 758ms\n",
      "464:\tlearn: 0.0231968\ttotal: 657ms\tremaining: 756ms\n",
      "465:\tlearn: 0.0231629\ttotal: 657ms\tremaining: 753ms\n",
      "466:\tlearn: 0.0231442\ttotal: 657ms\tremaining: 750ms\n",
      "467:\tlearn: 0.0231109\ttotal: 658ms\tremaining: 748ms\n",
      "468:\tlearn: 0.0230568\ttotal: 658ms\tremaining: 745ms\n",
      "469:\tlearn: 0.0230330\ttotal: 662ms\tremaining: 747ms\n",
      "470:\tlearn: 0.0229985\ttotal: 663ms\tremaining: 744ms\n",
      "471:\tlearn: 0.0229761\ttotal: 665ms\tremaining: 744ms\n",
      "472:\tlearn: 0.0229387\ttotal: 666ms\tremaining: 742ms\n",
      "473:\tlearn: 0.0229169\ttotal: 667ms\tremaining: 740ms\n",
      "474:\tlearn: 0.0228901\ttotal: 669ms\tremaining: 740ms\n"
     ]
    },
    {
     "name": "stdout",
     "output_type": "stream",
     "text": [
      "475:\tlearn: 0.0228580\ttotal: 673ms\tremaining: 741ms\n",
      "476:\tlearn: 0.0228417\ttotal: 675ms\tremaining: 740ms\n",
      "477:\tlearn: 0.0228095\ttotal: 676ms\tremaining: 738ms\n",
      "478:\tlearn: 0.0227914\ttotal: 676ms\tremaining: 735ms\n",
      "479:\tlearn: 0.0227674\ttotal: 676ms\tremaining: 733ms\n",
      "480:\tlearn: 0.0227435\ttotal: 676ms\tremaining: 730ms\n",
      "481:\tlearn: 0.0227044\ttotal: 677ms\tremaining: 727ms\n",
      "482:\tlearn: 0.0226664\ttotal: 677ms\tremaining: 725ms\n",
      "483:\tlearn: 0.0226455\ttotal: 677ms\tremaining: 722ms\n",
      "484:\tlearn: 0.0226189\ttotal: 678ms\tremaining: 719ms\n",
      "485:\tlearn: 0.0225557\ttotal: 678ms\tremaining: 717ms\n",
      "486:\tlearn: 0.0225133\ttotal: 678ms\tremaining: 714ms\n",
      "487:\tlearn: 0.0224969\ttotal: 678ms\tremaining: 712ms\n",
      "488:\tlearn: 0.0224607\ttotal: 679ms\tremaining: 709ms\n",
      "489:\tlearn: 0.0224382\ttotal: 679ms\tremaining: 707ms\n",
      "490:\tlearn: 0.0224131\ttotal: 679ms\tremaining: 704ms\n",
      "491:\tlearn: 0.0223821\ttotal: 679ms\tremaining: 702ms\n",
      "492:\tlearn: 0.0223409\ttotal: 680ms\tremaining: 699ms\n",
      "493:\tlearn: 0.0223159\ttotal: 680ms\tremaining: 696ms\n",
      "494:\tlearn: 0.0222885\ttotal: 681ms\tremaining: 695ms\n",
      "495:\tlearn: 0.0222659\ttotal: 682ms\tremaining: 693ms\n",
      "496:\tlearn: 0.0222351\ttotal: 682ms\tremaining: 691ms\n",
      "497:\tlearn: 0.0222146\ttotal: 686ms\tremaining: 691ms\n",
      "498:\tlearn: 0.0221974\ttotal: 686ms\tremaining: 689ms\n",
      "499:\tlearn: 0.0221805\ttotal: 686ms\tremaining: 686ms\n",
      "500:\tlearn: 0.0221452\ttotal: 687ms\tremaining: 685ms\n",
      "501:\tlearn: 0.0221308\ttotal: 688ms\tremaining: 683ms\n",
      "502:\tlearn: 0.0221117\ttotal: 688ms\tremaining: 680ms\n",
      "503:\tlearn: 0.0220911\ttotal: 690ms\tremaining: 679ms\n",
      "504:\tlearn: 0.0220514\ttotal: 690ms\tremaining: 677ms\n",
      "505:\tlearn: 0.0220117\ttotal: 691ms\tremaining: 674ms\n",
      "506:\tlearn: 0.0219909\ttotal: 691ms\tremaining: 672ms\n",
      "507:\tlearn: 0.0219604\ttotal: 691ms\tremaining: 669ms\n",
      "508:\tlearn: 0.0219312\ttotal: 692ms\tremaining: 668ms\n",
      "509:\tlearn: 0.0218716\ttotal: 693ms\tremaining: 666ms\n",
      "510:\tlearn: 0.0218358\ttotal: 695ms\tremaining: 665ms\n",
      "511:\tlearn: 0.0218016\ttotal: 695ms\tremaining: 663ms\n",
      "512:\tlearn: 0.0217858\ttotal: 696ms\tremaining: 660ms\n",
      "513:\tlearn: 0.0217778\ttotal: 696ms\tremaining: 658ms\n",
      "514:\tlearn: 0.0217514\ttotal: 697ms\tremaining: 656ms\n",
      "515:\tlearn: 0.0217252\ttotal: 698ms\tremaining: 654ms\n",
      "516:\tlearn: 0.0216930\ttotal: 698ms\tremaining: 652ms\n",
      "517:\tlearn: 0.0216642\ttotal: 699ms\tremaining: 650ms\n",
      "518:\tlearn: 0.0216443\ttotal: 699ms\tremaining: 648ms\n",
      "519:\tlearn: 0.0216241\ttotal: 699ms\tremaining: 646ms\n",
      "520:\tlearn: 0.0215915\ttotal: 700ms\tremaining: 643ms\n",
      "521:\tlearn: 0.0215694\ttotal: 702ms\tremaining: 643ms\n",
      "522:\tlearn: 0.0215426\ttotal: 703ms\tremaining: 641ms\n",
      "523:\tlearn: 0.0215209\ttotal: 703ms\tremaining: 639ms\n",
      "524:\tlearn: 0.0214890\ttotal: 703ms\tremaining: 636ms\n",
      "525:\tlearn: 0.0214511\ttotal: 704ms\tremaining: 634ms\n",
      "526:\tlearn: 0.0214149\ttotal: 705ms\tremaining: 632ms\n",
      "527:\tlearn: 0.0213766\ttotal: 706ms\tremaining: 631ms\n",
      "528:\tlearn: 0.0213473\ttotal: 707ms\tremaining: 630ms\n",
      "529:\tlearn: 0.0213057\ttotal: 708ms\tremaining: 628ms\n",
      "530:\tlearn: 0.0212736\ttotal: 708ms\tremaining: 626ms\n",
      "531:\tlearn: 0.0212453\ttotal: 709ms\tremaining: 623ms\n",
      "532:\tlearn: 0.0212178\ttotal: 710ms\tremaining: 622ms\n",
      "533:\tlearn: 0.0211876\ttotal: 711ms\tremaining: 621ms\n",
      "534:\tlearn: 0.0211659\ttotal: 712ms\tremaining: 619ms\n",
      "535:\tlearn: 0.0211478\ttotal: 715ms\tremaining: 619ms\n",
      "536:\tlearn: 0.0211067\ttotal: 716ms\tremaining: 617ms\n",
      "537:\tlearn: 0.0210753\ttotal: 717ms\tremaining: 616ms\n",
      "538:\tlearn: 0.0210547\ttotal: 717ms\tremaining: 613ms\n",
      "539:\tlearn: 0.0210354\ttotal: 718ms\tremaining: 611ms\n",
      "540:\tlearn: 0.0210083\ttotal: 720ms\tremaining: 611ms\n",
      "541:\tlearn: 0.0209819\ttotal: 721ms\tremaining: 609ms\n",
      "542:\tlearn: 0.0209617\ttotal: 722ms\tremaining: 608ms\n",
      "543:\tlearn: 0.0209361\ttotal: 723ms\tremaining: 606ms\n",
      "544:\tlearn: 0.0209165\ttotal: 724ms\tremaining: 605ms\n",
      "545:\tlearn: 0.0208918\ttotal: 725ms\tremaining: 603ms\n",
      "546:\tlearn: 0.0208677\ttotal: 726ms\tremaining: 601ms\n",
      "547:\tlearn: 0.0208534\ttotal: 727ms\tremaining: 600ms\n",
      "548:\tlearn: 0.0208271\ttotal: 728ms\tremaining: 598ms\n",
      "549:\tlearn: 0.0208093\ttotal: 729ms\tremaining: 596ms\n",
      "550:\tlearn: 0.0207760\ttotal: 731ms\tremaining: 596ms\n",
      "551:\tlearn: 0.0207681\ttotal: 732ms\tremaining: 594ms\n",
      "552:\tlearn: 0.0207554\ttotal: 735ms\tremaining: 595ms\n",
      "553:\tlearn: 0.0207014\ttotal: 736ms\tremaining: 592ms\n",
      "554:\tlearn: 0.0206809\ttotal: 737ms\tremaining: 591ms\n",
      "555:\tlearn: 0.0206481\ttotal: 740ms\tremaining: 591ms\n",
      "556:\tlearn: 0.0206210\ttotal: 748ms\tremaining: 595ms\n",
      "557:\tlearn: 0.0206143\ttotal: 749ms\tremaining: 593ms\n",
      "558:\tlearn: 0.0205796\ttotal: 750ms\tremaining: 591ms\n",
      "559:\tlearn: 0.0205658\ttotal: 751ms\tremaining: 590ms\n",
      "560:\tlearn: 0.0205390\ttotal: 751ms\tremaining: 588ms\n",
      "561:\tlearn: 0.0205029\ttotal: 754ms\tremaining: 587ms\n",
      "562:\tlearn: 0.0204889\ttotal: 754ms\tremaining: 585ms\n",
      "563:\tlearn: 0.0204594\ttotal: 755ms\tremaining: 583ms\n",
      "564:\tlearn: 0.0204370\ttotal: 756ms\tremaining: 582ms\n",
      "565:\tlearn: 0.0204272\ttotal: 758ms\tremaining: 581ms\n",
      "566:\tlearn: 0.0204046\ttotal: 758ms\tremaining: 579ms\n",
      "567:\tlearn: 0.0203912\ttotal: 759ms\tremaining: 577ms\n",
      "568:\tlearn: 0.0203741\ttotal: 760ms\tremaining: 575ms\n",
      "569:\tlearn: 0.0203574\ttotal: 760ms\tremaining: 573ms\n",
      "570:\tlearn: 0.0203057\ttotal: 761ms\tremaining: 572ms\n",
      "571:\tlearn: 0.0202872\ttotal: 762ms\tremaining: 570ms\n",
      "572:\tlearn: 0.0202658\ttotal: 762ms\tremaining: 568ms\n",
      "573:\tlearn: 0.0202471\ttotal: 762ms\tremaining: 566ms\n",
      "574:\tlearn: 0.0202267\ttotal: 763ms\tremaining: 564ms\n",
      "575:\tlearn: 0.0202109\ttotal: 765ms\tremaining: 563ms\n",
      "576:\tlearn: 0.0201825\ttotal: 767ms\tremaining: 562ms\n",
      "577:\tlearn: 0.0201528\ttotal: 769ms\tremaining: 562ms\n",
      "578:\tlearn: 0.0201417\ttotal: 771ms\tremaining: 561ms\n",
      "579:\tlearn: 0.0201234\ttotal: 773ms\tremaining: 560ms\n",
      "580:\tlearn: 0.0201037\ttotal: 774ms\tremaining: 558ms\n",
      "581:\tlearn: 0.0200897\ttotal: 774ms\tremaining: 556ms\n",
      "582:\tlearn: 0.0200592\ttotal: 775ms\tremaining: 555ms\n",
      "583:\tlearn: 0.0200320\ttotal: 777ms\tremaining: 553ms\n",
      "584:\tlearn: 0.0200147\ttotal: 778ms\tremaining: 552ms\n",
      "585:\tlearn: 0.0199886\ttotal: 780ms\tremaining: 551ms\n",
      "586:\tlearn: 0.0199697\ttotal: 781ms\tremaining: 550ms\n",
      "587:\tlearn: 0.0199197\ttotal: 784ms\tremaining: 549ms\n",
      "588:\tlearn: 0.0199024\ttotal: 785ms\tremaining: 548ms\n",
      "589:\tlearn: 0.0198818\ttotal: 786ms\tremaining: 546ms\n",
      "590:\tlearn: 0.0198723\ttotal: 787ms\tremaining: 544ms\n",
      "591:\tlearn: 0.0198589\ttotal: 788ms\tremaining: 543ms\n",
      "592:\tlearn: 0.0198389\ttotal: 789ms\tremaining: 541ms\n",
      "593:\tlearn: 0.0198206\ttotal: 790ms\tremaining: 540ms\n",
      "594:\tlearn: 0.0197725\ttotal: 791ms\tremaining: 538ms\n",
      "595:\tlearn: 0.0197531\ttotal: 792ms\tremaining: 537ms\n",
      "596:\tlearn: 0.0197478\ttotal: 793ms\tremaining: 535ms\n",
      "597:\tlearn: 0.0197214\ttotal: 794ms\tremaining: 534ms\n",
      "598:\tlearn: 0.0197089\ttotal: 795ms\tremaining: 532ms\n",
      "599:\tlearn: 0.0196919\ttotal: 795ms\tremaining: 530ms\n",
      "600:\tlearn: 0.0196618\ttotal: 796ms\tremaining: 528ms\n",
      "601:\tlearn: 0.0196446\ttotal: 796ms\tremaining: 526ms\n",
      "602:\tlearn: 0.0196300\ttotal: 798ms\tremaining: 525ms\n",
      "603:\tlearn: 0.0196137\ttotal: 798ms\tremaining: 523ms\n",
      "604:\tlearn: 0.0196044\ttotal: 799ms\tremaining: 521ms\n",
      "605:\tlearn: 0.0195784\ttotal: 802ms\tremaining: 522ms\n",
      "606:\tlearn: 0.0195608\ttotal: 804ms\tremaining: 520ms\n",
      "607:\tlearn: 0.0195331\ttotal: 804ms\tremaining: 519ms\n",
      "608:\tlearn: 0.0195135\ttotal: 805ms\tremaining: 517ms\n",
      "609:\tlearn: 0.0194985\ttotal: 805ms\tremaining: 515ms\n",
      "610:\tlearn: 0.0194741\ttotal: 806ms\tremaining: 513ms\n",
      "611:\tlearn: 0.0194491\ttotal: 807ms\tremaining: 511ms\n",
      "612:\tlearn: 0.0194287\ttotal: 807ms\tremaining: 509ms\n",
      "613:\tlearn: 0.0194025\ttotal: 807ms\tremaining: 507ms\n"
     ]
    },
    {
     "name": "stdout",
     "output_type": "stream",
     "text": [
      "614:\tlearn: 0.0193762\ttotal: 812ms\tremaining: 508ms\n",
      "615:\tlearn: 0.0193577\ttotal: 813ms\tremaining: 507ms\n",
      "616:\tlearn: 0.0193371\ttotal: 813ms\tremaining: 505ms\n",
      "617:\tlearn: 0.0193196\ttotal: 814ms\tremaining: 503ms\n",
      "618:\tlearn: 0.0193027\ttotal: 814ms\tremaining: 501ms\n",
      "619:\tlearn: 0.0192799\ttotal: 814ms\tremaining: 499ms\n",
      "620:\tlearn: 0.0192715\ttotal: 815ms\tremaining: 497ms\n",
      "621:\tlearn: 0.0192538\ttotal: 815ms\tremaining: 495ms\n",
      "622:\tlearn: 0.0192124\ttotal: 815ms\tremaining: 493ms\n",
      "623:\tlearn: 0.0191960\ttotal: 816ms\tremaining: 492ms\n",
      "624:\tlearn: 0.0191576\ttotal: 817ms\tremaining: 490ms\n",
      "625:\tlearn: 0.0191438\ttotal: 818ms\tremaining: 489ms\n",
      "626:\tlearn: 0.0191256\ttotal: 820ms\tremaining: 488ms\n",
      "627:\tlearn: 0.0191080\ttotal: 820ms\tremaining: 486ms\n",
      "628:\tlearn: 0.0190990\ttotal: 821ms\tremaining: 484ms\n",
      "629:\tlearn: 0.0190859\ttotal: 821ms\tremaining: 482ms\n",
      "630:\tlearn: 0.0190504\ttotal: 822ms\tremaining: 480ms\n",
      "631:\tlearn: 0.0190332\ttotal: 822ms\tremaining: 479ms\n",
      "632:\tlearn: 0.0190186\ttotal: 822ms\tremaining: 477ms\n",
      "633:\tlearn: 0.0189945\ttotal: 823ms\tremaining: 475ms\n",
      "634:\tlearn: 0.0189661\ttotal: 825ms\tremaining: 474ms\n",
      "635:\tlearn: 0.0189470\ttotal: 826ms\tremaining: 473ms\n",
      "636:\tlearn: 0.0189288\ttotal: 826ms\tremaining: 471ms\n",
      "637:\tlearn: 0.0189103\ttotal: 827ms\tremaining: 469ms\n",
      "638:\tlearn: 0.0188830\ttotal: 827ms\tremaining: 467ms\n",
      "639:\tlearn: 0.0188707\ttotal: 828ms\tremaining: 466ms\n",
      "640:\tlearn: 0.0188474\ttotal: 829ms\tremaining: 464ms\n",
      "641:\tlearn: 0.0188314\ttotal: 830ms\tremaining: 463ms\n",
      "642:\tlearn: 0.0188158\ttotal: 832ms\tremaining: 462ms\n",
      "643:\tlearn: 0.0187952\ttotal: 833ms\tremaining: 460ms\n",
      "644:\tlearn: 0.0187667\ttotal: 833ms\tremaining: 459ms\n",
      "645:\tlearn: 0.0187409\ttotal: 834ms\tremaining: 457ms\n",
      "646:\tlearn: 0.0187272\ttotal: 836ms\tremaining: 456ms\n",
      "647:\tlearn: 0.0187102\ttotal: 836ms\tremaining: 454ms\n",
      "648:\tlearn: 0.0187023\ttotal: 837ms\tremaining: 453ms\n",
      "649:\tlearn: 0.0186761\ttotal: 839ms\tremaining: 452ms\n",
      "650:\tlearn: 0.0186618\ttotal: 841ms\tremaining: 451ms\n",
      "651:\tlearn: 0.0186451\ttotal: 842ms\tremaining: 449ms\n",
      "652:\tlearn: 0.0186302\ttotal: 842ms\tremaining: 448ms\n",
      "653:\tlearn: 0.0186077\ttotal: 843ms\tremaining: 446ms\n",
      "654:\tlearn: 0.0186018\ttotal: 843ms\tremaining: 444ms\n",
      "655:\tlearn: 0.0185797\ttotal: 844ms\tremaining: 442ms\n",
      "656:\tlearn: 0.0185556\ttotal: 844ms\tremaining: 441ms\n",
      "657:\tlearn: 0.0185425\ttotal: 845ms\tremaining: 439ms\n",
      "658:\tlearn: 0.0185272\ttotal: 846ms\tremaining: 438ms\n",
      "659:\tlearn: 0.0185073\ttotal: 847ms\tremaining: 436ms\n",
      "660:\tlearn: 0.0184904\ttotal: 848ms\tremaining: 435ms\n",
      "661:\tlearn: 0.0184760\ttotal: 848ms\tremaining: 433ms\n",
      "662:\tlearn: 0.0184630\ttotal: 849ms\tremaining: 431ms\n",
      "663:\tlearn: 0.0184470\ttotal: 850ms\tremaining: 430ms\n",
      "664:\tlearn: 0.0184265\ttotal: 851ms\tremaining: 429ms\n",
      "665:\tlearn: 0.0184117\ttotal: 852ms\tremaining: 427ms\n",
      "666:\tlearn: 0.0183845\ttotal: 853ms\tremaining: 426ms\n",
      "667:\tlearn: 0.0183674\ttotal: 855ms\tremaining: 425ms\n",
      "668:\tlearn: 0.0183363\ttotal: 856ms\tremaining: 424ms\n",
      "669:\tlearn: 0.0183223\ttotal: 858ms\tremaining: 423ms\n",
      "670:\tlearn: 0.0183099\ttotal: 859ms\tremaining: 421ms\n",
      "671:\tlearn: 0.0182911\ttotal: 861ms\tremaining: 420ms\n",
      "672:\tlearn: 0.0182783\ttotal: 862ms\tremaining: 419ms\n",
      "673:\tlearn: 0.0182646\ttotal: 862ms\tremaining: 417ms\n",
      "674:\tlearn: 0.0182534\ttotal: 863ms\tremaining: 416ms\n",
      "675:\tlearn: 0.0182386\ttotal: 865ms\tremaining: 415ms\n",
      "676:\tlearn: 0.0182148\ttotal: 866ms\tremaining: 413ms\n",
      "677:\tlearn: 0.0181967\ttotal: 867ms\tremaining: 412ms\n",
      "678:\tlearn: 0.0181625\ttotal: 868ms\tremaining: 410ms\n",
      "679:\tlearn: 0.0181508\ttotal: 868ms\tremaining: 409ms\n",
      "680:\tlearn: 0.0181344\ttotal: 870ms\tremaining: 407ms\n",
      "681:\tlearn: 0.0180910\ttotal: 870ms\tremaining: 406ms\n",
      "682:\tlearn: 0.0180680\ttotal: 871ms\tremaining: 404ms\n",
      "683:\tlearn: 0.0180548\ttotal: 873ms\tremaining: 403ms\n",
      "684:\tlearn: 0.0180324\ttotal: 873ms\tremaining: 402ms\n",
      "685:\tlearn: 0.0180073\ttotal: 874ms\tremaining: 400ms\n",
      "686:\tlearn: 0.0179890\ttotal: 875ms\tremaining: 399ms\n",
      "687:\tlearn: 0.0179805\ttotal: 876ms\tremaining: 397ms\n",
      "688:\tlearn: 0.0179650\ttotal: 878ms\tremaining: 396ms\n",
      "689:\tlearn: 0.0179485\ttotal: 906ms\tremaining: 407ms\n",
      "690:\tlearn: 0.0179377\ttotal: 908ms\tremaining: 406ms\n",
      "691:\tlearn: 0.0178998\ttotal: 910ms\tremaining: 405ms\n",
      "692:\tlearn: 0.0178744\ttotal: 929ms\tremaining: 412ms\n"
     ]
    },
    {
     "name": "stdout",
     "output_type": "stream",
     "text": [
      "693:\tlearn: 0.0178672\ttotal: 932ms\tremaining: 411ms\n",
      "694:\tlearn: 0.0178340\ttotal: 935ms\tremaining: 410ms\n",
      "695:\tlearn: 0.0178178\ttotal: 935ms\tremaining: 408ms\n",
      "696:\tlearn: 0.0177638\ttotal: 935ms\tremaining: 407ms\n",
      "697:\tlearn: 0.0177126\ttotal: 938ms\tremaining: 406ms\n",
      "698:\tlearn: 0.0176984\ttotal: 939ms\tremaining: 404ms\n",
      "699:\tlearn: 0.0176924\ttotal: 940ms\tremaining: 403ms\n",
      "700:\tlearn: 0.0176812\ttotal: 941ms\tremaining: 401ms\n",
      "701:\tlearn: 0.0176759\ttotal: 943ms\tremaining: 400ms\n",
      "702:\tlearn: 0.0176610\ttotal: 944ms\tremaining: 399ms\n",
      "703:\tlearn: 0.0176433\ttotal: 945ms\tremaining: 397ms\n",
      "704:\tlearn: 0.0176260\ttotal: 946ms\tremaining: 396ms\n",
      "705:\tlearn: 0.0176153\ttotal: 947ms\tremaining: 394ms\n",
      "706:\tlearn: 0.0175958\ttotal: 949ms\tremaining: 393ms\n",
      "707:\tlearn: 0.0175813\ttotal: 950ms\tremaining: 392ms\n",
      "708:\tlearn: 0.0175693\ttotal: 951ms\tremaining: 390ms\n",
      "709:\tlearn: 0.0175541\ttotal: 952ms\tremaining: 389ms\n",
      "710:\tlearn: 0.0175399\ttotal: 953ms\tremaining: 388ms\n",
      "711:\tlearn: 0.0175207\ttotal: 954ms\tremaining: 386ms\n",
      "712:\tlearn: 0.0175010\ttotal: 956ms\tremaining: 385ms\n",
      "713:\tlearn: 0.0174848\ttotal: 957ms\tremaining: 383ms\n",
      "714:\tlearn: 0.0174662\ttotal: 959ms\tremaining: 382ms\n",
      "715:\tlearn: 0.0174551\ttotal: 960ms\tremaining: 381ms\n",
      "716:\tlearn: 0.0174323\ttotal: 961ms\tremaining: 379ms\n",
      "717:\tlearn: 0.0174215\ttotal: 962ms\tremaining: 378ms\n",
      "718:\tlearn: 0.0173968\ttotal: 964ms\tremaining: 377ms\n",
      "719:\tlearn: 0.0173819\ttotal: 964ms\tremaining: 375ms\n",
      "720:\tlearn: 0.0173719\ttotal: 965ms\tremaining: 373ms\n",
      "721:\tlearn: 0.0173661\ttotal: 965ms\tremaining: 372ms\n",
      "722:\tlearn: 0.0173418\ttotal: 966ms\tremaining: 370ms\n",
      "723:\tlearn: 0.0173148\ttotal: 966ms\tremaining: 368ms\n",
      "724:\tlearn: 0.0172992\ttotal: 968ms\tremaining: 367ms\n",
      "725:\tlearn: 0.0172754\ttotal: 969ms\tremaining: 366ms\n",
      "726:\tlearn: 0.0172627\ttotal: 971ms\tremaining: 365ms\n",
      "727:\tlearn: 0.0172395\ttotal: 972ms\tremaining: 363ms\n",
      "728:\tlearn: 0.0172177\ttotal: 975ms\tremaining: 362ms\n",
      "729:\tlearn: 0.0172055\ttotal: 976ms\tremaining: 361ms\n",
      "730:\tlearn: 0.0171919\ttotal: 978ms\tremaining: 360ms\n",
      "731:\tlearn: 0.0171796\ttotal: 979ms\tremaining: 358ms\n",
      "732:\tlearn: 0.0171645\ttotal: 980ms\tremaining: 357ms\n",
      "733:\tlearn: 0.0171432\ttotal: 982ms\tremaining: 356ms\n",
      "734:\tlearn: 0.0171334\ttotal: 983ms\tremaining: 354ms\n",
      "735:\tlearn: 0.0171184\ttotal: 985ms\tremaining: 353ms\n",
      "736:\tlearn: 0.0170979\ttotal: 987ms\tremaining: 352ms\n",
      "737:\tlearn: 0.0170783\ttotal: 988ms\tremaining: 351ms\n",
      "738:\tlearn: 0.0170648\ttotal: 989ms\tremaining: 349ms\n",
      "739:\tlearn: 0.0170507\ttotal: 992ms\tremaining: 348ms\n",
      "740:\tlearn: 0.0170164\ttotal: 993ms\tremaining: 347ms\n",
      "741:\tlearn: 0.0170023\ttotal: 995ms\tremaining: 346ms\n",
      "742:\tlearn: 0.0169855\ttotal: 996ms\tremaining: 345ms\n",
      "743:\tlearn: 0.0169732\ttotal: 998ms\tremaining: 343ms\n",
      "744:\tlearn: 0.0169638\ttotal: 999ms\tremaining: 342ms\n",
      "745:\tlearn: 0.0169524\ttotal: 1000ms\tremaining: 340ms\n",
      "746:\tlearn: 0.0169406\ttotal: 1s\tremaining: 339ms\n",
      "747:\tlearn: 0.0169292\ttotal: 1s\tremaining: 338ms\n",
      "748:\tlearn: 0.0168967\ttotal: 1s\tremaining: 336ms\n",
      "749:\tlearn: 0.0168823\ttotal: 1s\tremaining: 335ms\n",
      "750:\tlearn: 0.0168710\ttotal: 1s\tremaining: 333ms\n",
      "751:\tlearn: 0.0168472\ttotal: 1s\tremaining: 332ms\n",
      "752:\tlearn: 0.0168364\ttotal: 1.01s\tremaining: 330ms\n",
      "753:\tlearn: 0.0168208\ttotal: 1.01s\tremaining: 329ms\n",
      "754:\tlearn: 0.0167984\ttotal: 1.01s\tremaining: 327ms\n",
      "755:\tlearn: 0.0167863\ttotal: 1.01s\tremaining: 326ms\n",
      "756:\tlearn: 0.0167680\ttotal: 1.01s\tremaining: 325ms\n",
      "757:\tlearn: 0.0167469\ttotal: 1.01s\tremaining: 323ms\n",
      "758:\tlearn: 0.0167290\ttotal: 1.01s\tremaining: 322ms\n",
      "759:\tlearn: 0.0167116\ttotal: 1.01s\tremaining: 321ms\n",
      "760:\tlearn: 0.0166998\ttotal: 1.02s\tremaining: 319ms\n",
      "761:\tlearn: 0.0166724\ttotal: 1.02s\tremaining: 318ms\n",
      "762:\tlearn: 0.0166537\ttotal: 1.02s\tremaining: 316ms\n",
      "763:\tlearn: 0.0166410\ttotal: 1.02s\tremaining: 315ms\n",
      "764:\tlearn: 0.0166382\ttotal: 1.02s\tremaining: 313ms\n",
      "765:\tlearn: 0.0166279\ttotal: 1.02s\tremaining: 312ms\n",
      "766:\tlearn: 0.0166194\ttotal: 1.02s\tremaining: 310ms\n",
      "767:\tlearn: 0.0166098\ttotal: 1.02s\tremaining: 309ms\n",
      "768:\tlearn: 0.0165974\ttotal: 1.02s\tremaining: 307ms\n",
      "769:\tlearn: 0.0165852\ttotal: 1.02s\tremaining: 306ms\n",
      "770:\tlearn: 0.0165694\ttotal: 1.02s\tremaining: 304ms\n",
      "771:\tlearn: 0.0165603\ttotal: 1.03s\tremaining: 303ms\n",
      "772:\tlearn: 0.0165500\ttotal: 1.03s\tremaining: 302ms\n"
     ]
    },
    {
     "name": "stdout",
     "output_type": "stream",
     "text": [
      "773:\tlearn: 0.0165409\ttotal: 1.03s\tremaining: 300ms\n",
      "774:\tlearn: 0.0165179\ttotal: 1.03s\tremaining: 299ms\n",
      "775:\tlearn: 0.0164804\ttotal: 1.03s\tremaining: 298ms\n",
      "776:\tlearn: 0.0164655\ttotal: 1.03s\tremaining: 296ms\n",
      "777:\tlearn: 0.0164518\ttotal: 1.03s\tremaining: 295ms\n",
      "778:\tlearn: 0.0164400\ttotal: 1.03s\tremaining: 293ms\n",
      "779:\tlearn: 0.0164307\ttotal: 1.03s\tremaining: 292ms\n",
      "780:\tlearn: 0.0164175\ttotal: 1.03s\tremaining: 290ms\n",
      "781:\tlearn: 0.0164138\ttotal: 1.03s\tremaining: 289ms\n",
      "782:\tlearn: 0.0163997\ttotal: 1.04s\tremaining: 287ms\n",
      "783:\tlearn: 0.0163839\ttotal: 1.04s\tremaining: 286ms\n",
      "784:\tlearn: 0.0163596\ttotal: 1.04s\tremaining: 284ms\n",
      "785:\tlearn: 0.0163443\ttotal: 1.04s\tremaining: 283ms\n",
      "786:\tlearn: 0.0163316\ttotal: 1.04s\tremaining: 281ms\n",
      "787:\tlearn: 0.0163096\ttotal: 1.04s\tremaining: 280ms\n",
      "788:\tlearn: 0.0162849\ttotal: 1.04s\tremaining: 278ms\n",
      "789:\tlearn: 0.0162714\ttotal: 1.04s\tremaining: 277ms\n",
      "790:\tlearn: 0.0162638\ttotal: 1.04s\tremaining: 275ms\n",
      "791:\tlearn: 0.0162528\ttotal: 1.04s\tremaining: 274ms\n",
      "792:\tlearn: 0.0162443\ttotal: 1.04s\tremaining: 272ms\n",
      "793:\tlearn: 0.0162309\ttotal: 1.04s\tremaining: 271ms\n",
      "794:\tlearn: 0.0162120\ttotal: 1.04s\tremaining: 269ms\n",
      "795:\tlearn: 0.0162006\ttotal: 1.04s\tremaining: 268ms\n",
      "796:\tlearn: 0.0161892\ttotal: 1.04s\tremaining: 266ms\n",
      "797:\tlearn: 0.0161669\ttotal: 1.05s\tremaining: 265ms\n",
      "798:\tlearn: 0.0161506\ttotal: 1.05s\tremaining: 263ms\n",
      "799:\tlearn: 0.0161404\ttotal: 1.05s\tremaining: 262ms\n",
      "800:\tlearn: 0.0161318\ttotal: 1.05s\tremaining: 260ms\n",
      "801:\tlearn: 0.0161200\ttotal: 1.05s\tremaining: 259ms\n",
      "802:\tlearn: 0.0161051\ttotal: 1.05s\tremaining: 258ms\n",
      "803:\tlearn: 0.0160956\ttotal: 1.05s\tremaining: 256ms\n",
      "804:\tlearn: 0.0160883\ttotal: 1.05s\tremaining: 255ms\n",
      "805:\tlearn: 0.0160635\ttotal: 1.05s\tremaining: 253ms\n",
      "806:\tlearn: 0.0160509\ttotal: 1.05s\tremaining: 252ms\n",
      "807:\tlearn: 0.0160456\ttotal: 1.05s\tremaining: 250ms\n",
      "808:\tlearn: 0.0160374\ttotal: 1.05s\tremaining: 249ms\n",
      "809:\tlearn: 0.0160200\ttotal: 1.05s\tremaining: 247ms\n",
      "810:\tlearn: 0.0160095\ttotal: 1.05s\tremaining: 246ms\n",
      "811:\tlearn: 0.0160003\ttotal: 1.05s\tremaining: 244ms\n",
      "812:\tlearn: 0.0159880\ttotal: 1.06s\tremaining: 243ms\n",
      "813:\tlearn: 0.0159755\ttotal: 1.06s\tremaining: 242ms\n",
      "814:\tlearn: 0.0159665\ttotal: 1.06s\tremaining: 240ms\n",
      "815:\tlearn: 0.0159545\ttotal: 1.06s\tremaining: 239ms\n",
      "816:\tlearn: 0.0159390\ttotal: 1.06s\tremaining: 237ms\n",
      "817:\tlearn: 0.0159283\ttotal: 1.06s\tremaining: 236ms\n",
      "818:\tlearn: 0.0159164\ttotal: 1.06s\tremaining: 234ms\n",
      "819:\tlearn: 0.0159057\ttotal: 1.06s\tremaining: 233ms\n",
      "820:\tlearn: 0.0158877\ttotal: 1.06s\tremaining: 232ms\n",
      "821:\tlearn: 0.0158780\ttotal: 1.06s\tremaining: 230ms\n",
      "822:\tlearn: 0.0158679\ttotal: 1.06s\tremaining: 229ms\n",
      "823:\tlearn: 0.0158495\ttotal: 1.06s\tremaining: 227ms\n",
      "824:\tlearn: 0.0158431\ttotal: 1.06s\tremaining: 226ms\n",
      "825:\tlearn: 0.0158348\ttotal: 1.06s\tremaining: 224ms\n",
      "826:\tlearn: 0.0158124\ttotal: 1.07s\tremaining: 223ms\n",
      "827:\tlearn: 0.0158014\ttotal: 1.07s\tremaining: 222ms\n",
      "828:\tlearn: 0.0157933\ttotal: 1.07s\tremaining: 220ms\n",
      "829:\tlearn: 0.0157676\ttotal: 1.07s\tremaining: 219ms\n",
      "830:\tlearn: 0.0157472\ttotal: 1.07s\tremaining: 218ms\n",
      "831:\tlearn: 0.0157301\ttotal: 1.07s\tremaining: 216ms\n",
      "832:\tlearn: 0.0157259\ttotal: 1.07s\tremaining: 215ms\n",
      "833:\tlearn: 0.0157129\ttotal: 1.07s\tremaining: 214ms\n",
      "834:\tlearn: 0.0156952\ttotal: 1.07s\tremaining: 212ms\n",
      "835:\tlearn: 0.0156835\ttotal: 1.07s\tremaining: 211ms\n",
      "836:\tlearn: 0.0156613\ttotal: 1.08s\tremaining: 210ms\n",
      "837:\tlearn: 0.0156492\ttotal: 1.08s\tremaining: 208ms\n",
      "838:\tlearn: 0.0156379\ttotal: 1.08s\tremaining: 207ms\n",
      "839:\tlearn: 0.0156238\ttotal: 1.08s\tremaining: 205ms\n",
      "840:\tlearn: 0.0156116\ttotal: 1.08s\tremaining: 204ms\n",
      "841:\tlearn: 0.0156018\ttotal: 1.08s\tremaining: 203ms\n",
      "842:\tlearn: 0.0155786\ttotal: 1.08s\tremaining: 202ms\n",
      "843:\tlearn: 0.0155718\ttotal: 1.08s\tremaining: 200ms\n",
      "844:\tlearn: 0.0155642\ttotal: 1.08s\tremaining: 199ms\n",
      "845:\tlearn: 0.0155535\ttotal: 1.08s\tremaining: 198ms\n",
      "846:\tlearn: 0.0155366\ttotal: 1.09s\tremaining: 196ms\n",
      "847:\tlearn: 0.0155266\ttotal: 1.09s\tremaining: 195ms\n",
      "848:\tlearn: 0.0155161\ttotal: 1.09s\tremaining: 193ms\n"
     ]
    },
    {
     "name": "stdout",
     "output_type": "stream",
     "text": [
      "849:\tlearn: 0.0155070\ttotal: 1.09s\tremaining: 192ms\n",
      "850:\tlearn: 0.0154967\ttotal: 1.09s\tremaining: 191ms\n",
      "851:\tlearn: 0.0154791\ttotal: 1.09s\tremaining: 190ms\n",
      "852:\tlearn: 0.0154711\ttotal: 1.09s\tremaining: 188ms\n",
      "853:\tlearn: 0.0154557\ttotal: 1.09s\tremaining: 187ms\n",
      "854:\tlearn: 0.0154481\ttotal: 1.09s\tremaining: 186ms\n",
      "855:\tlearn: 0.0154397\ttotal: 1.09s\tremaining: 184ms\n",
      "856:\tlearn: 0.0154323\ttotal: 1.09s\tremaining: 183ms\n",
      "857:\tlearn: 0.0154167\ttotal: 1.1s\tremaining: 182ms\n",
      "858:\tlearn: 0.0154063\ttotal: 1.1s\tremaining: 180ms\n",
      "859:\tlearn: 0.0153862\ttotal: 1.1s\tremaining: 179ms\n",
      "860:\tlearn: 0.0153759\ttotal: 1.1s\tremaining: 177ms\n",
      "861:\tlearn: 0.0153652\ttotal: 1.1s\tremaining: 176ms\n",
      "862:\tlearn: 0.0153571\ttotal: 1.1s\tremaining: 175ms\n",
      "863:\tlearn: 0.0153438\ttotal: 1.1s\tremaining: 173ms\n",
      "864:\tlearn: 0.0153374\ttotal: 1.1s\tremaining: 172ms\n",
      "865:\tlearn: 0.0153206\ttotal: 1.1s\tremaining: 170ms\n",
      "866:\tlearn: 0.0153099\ttotal: 1.1s\tremaining: 169ms\n",
      "867:\tlearn: 0.0152995\ttotal: 1.1s\tremaining: 168ms\n",
      "868:\tlearn: 0.0152825\ttotal: 1.1s\tremaining: 166ms\n",
      "869:\tlearn: 0.0152789\ttotal: 1.1s\tremaining: 165ms\n",
      "870:\tlearn: 0.0152691\ttotal: 1.1s\tremaining: 163ms\n",
      "871:\tlearn: 0.0152605\ttotal: 1.1s\tremaining: 162ms\n",
      "872:\tlearn: 0.0152391\ttotal: 1.11s\tremaining: 161ms\n",
      "873:\tlearn: 0.0152207\ttotal: 1.11s\tremaining: 160ms\n",
      "874:\tlearn: 0.0152131\ttotal: 1.11s\tremaining: 159ms\n",
      "875:\tlearn: 0.0152044\ttotal: 1.11s\tremaining: 157ms\n",
      "876:\tlearn: 0.0151944\ttotal: 1.11s\tremaining: 156ms\n",
      "877:\tlearn: 0.0151848\ttotal: 1.11s\tremaining: 154ms\n",
      "878:\tlearn: 0.0151776\ttotal: 1.11s\tremaining: 153ms\n",
      "879:\tlearn: 0.0151616\ttotal: 1.11s\tremaining: 152ms\n",
      "880:\tlearn: 0.0151525\ttotal: 1.11s\tremaining: 151ms\n",
      "881:\tlearn: 0.0151370\ttotal: 1.11s\tremaining: 149ms\n",
      "882:\tlearn: 0.0151304\ttotal: 1.11s\tremaining: 148ms\n",
      "883:\tlearn: 0.0151148\ttotal: 1.12s\tremaining: 146ms\n",
      "884:\tlearn: 0.0151055\ttotal: 1.12s\tremaining: 145ms\n",
      "885:\tlearn: 0.0150977\ttotal: 1.12s\tremaining: 144ms\n",
      "886:\tlearn: 0.0150931\ttotal: 1.12s\tremaining: 143ms\n",
      "887:\tlearn: 0.0150861\ttotal: 1.12s\tremaining: 141ms\n",
      "888:\tlearn: 0.0150773\ttotal: 1.12s\tremaining: 140ms\n"
     ]
    },
    {
     "name": "stdout",
     "output_type": "stream",
     "text": [
      "889:\tlearn: 0.0150702\ttotal: 1.12s\tremaining: 139ms\n",
      "890:\tlearn: 0.0150498\ttotal: 1.13s\tremaining: 138ms\n",
      "891:\tlearn: 0.0150405\ttotal: 1.13s\tremaining: 137ms\n",
      "892:\tlearn: 0.0150301\ttotal: 1.13s\tremaining: 135ms\n",
      "893:\tlearn: 0.0150201\ttotal: 1.13s\tremaining: 134ms\n",
      "894:\tlearn: 0.0150065\ttotal: 1.13s\tremaining: 133ms\n",
      "895:\tlearn: 0.0149997\ttotal: 1.13s\tremaining: 131ms\n",
      "896:\tlearn: 0.0149868\ttotal: 1.13s\tremaining: 130ms\n",
      "897:\tlearn: 0.0149790\ttotal: 1.13s\tremaining: 129ms\n",
      "898:\tlearn: 0.0149637\ttotal: 1.14s\tremaining: 128ms\n",
      "899:\tlearn: 0.0149553\ttotal: 1.14s\tremaining: 126ms\n",
      "900:\tlearn: 0.0149441\ttotal: 1.14s\tremaining: 125ms\n",
      "901:\tlearn: 0.0149361\ttotal: 1.14s\tremaining: 124ms\n",
      "902:\tlearn: 0.0149200\ttotal: 1.14s\tremaining: 122ms\n",
      "903:\tlearn: 0.0149108\ttotal: 1.14s\tremaining: 121ms\n",
      "904:\tlearn: 0.0149015\ttotal: 1.14s\tremaining: 120ms\n",
      "905:\tlearn: 0.0148946\ttotal: 1.14s\tremaining: 118ms\n",
      "906:\tlearn: 0.0148851\ttotal: 1.14s\tremaining: 117ms\n",
      "907:\tlearn: 0.0148698\ttotal: 1.14s\tremaining: 116ms\n",
      "908:\tlearn: 0.0148617\ttotal: 1.14s\tremaining: 114ms\n",
      "909:\tlearn: 0.0148553\ttotal: 1.14s\tremaining: 113ms\n",
      "910:\tlearn: 0.0148473\ttotal: 1.14s\tremaining: 112ms\n",
      "911:\tlearn: 0.0148386\ttotal: 1.15s\tremaining: 111ms\n",
      "912:\tlearn: 0.0148087\ttotal: 1.15s\tremaining: 109ms\n",
      "913:\tlearn: 0.0147987\ttotal: 1.15s\tremaining: 108ms\n",
      "914:\tlearn: 0.0147831\ttotal: 1.15s\tremaining: 107ms\n",
      "915:\tlearn: 0.0147691\ttotal: 1.15s\tremaining: 105ms\n",
      "916:\tlearn: 0.0147605\ttotal: 1.15s\tremaining: 104ms\n",
      "917:\tlearn: 0.0147375\ttotal: 1.15s\tremaining: 103ms\n",
      "918:\tlearn: 0.0147303\ttotal: 1.15s\tremaining: 101ms\n",
      "919:\tlearn: 0.0147163\ttotal: 1.15s\tremaining: 100ms\n",
      "920:\tlearn: 0.0147099\ttotal: 1.15s\tremaining: 98.8ms\n",
      "921:\tlearn: 0.0147021\ttotal: 1.15s\tremaining: 97.5ms\n",
      "922:\tlearn: 0.0146946\ttotal: 1.15s\tremaining: 96.2ms\n",
      "923:\tlearn: 0.0146855\ttotal: 1.15s\tremaining: 94.9ms\n",
      "924:\tlearn: 0.0146792\ttotal: 1.15s\tremaining: 93.6ms\n",
      "925:\tlearn: 0.0146705\ttotal: 1.16s\tremaining: 92.3ms\n",
      "926:\tlearn: 0.0146535\ttotal: 1.16s\tremaining: 91ms\n",
      "927:\tlearn: 0.0146463\ttotal: 1.16s\tremaining: 89.7ms\n",
      "928:\tlearn: 0.0146400\ttotal: 1.16s\tremaining: 88.4ms\n",
      "929:\tlearn: 0.0146340\ttotal: 1.16s\tremaining: 87.1ms\n",
      "930:\tlearn: 0.0146256\ttotal: 1.16s\tremaining: 85.8ms\n",
      "931:\tlearn: 0.0146177\ttotal: 1.16s\tremaining: 84.6ms\n",
      "932:\tlearn: 0.0146084\ttotal: 1.16s\tremaining: 83.3ms\n",
      "933:\tlearn: 0.0146043\ttotal: 1.16s\tremaining: 82.2ms\n",
      "934:\tlearn: 0.0145914\ttotal: 1.16s\tremaining: 81ms\n",
      "935:\tlearn: 0.0145828\ttotal: 1.17s\tremaining: 79.7ms\n",
      "936:\tlearn: 0.0145749\ttotal: 1.17s\tremaining: 78.5ms\n",
      "937:\tlearn: 0.0145691\ttotal: 1.17s\tremaining: 77.4ms\n",
      "938:\tlearn: 0.0145630\ttotal: 1.17s\tremaining: 76.3ms\n",
      "939:\tlearn: 0.0145562\ttotal: 1.18s\tremaining: 75ms\n",
      "940:\tlearn: 0.0145395\ttotal: 1.18s\tremaining: 73.7ms\n",
      "941:\tlearn: 0.0145324\ttotal: 1.18s\tremaining: 72.6ms\n",
      "942:\tlearn: 0.0145265\ttotal: 1.18s\tremaining: 71.4ms\n",
      "943:\tlearn: 0.0145201\ttotal: 1.18s\tremaining: 70.2ms\n",
      "944:\tlearn: 0.0145044\ttotal: 1.18s\tremaining: 68.9ms\n",
      "945:\tlearn: 0.0144964\ttotal: 1.18s\tremaining: 67.6ms\n",
      "946:\tlearn: 0.0144855\ttotal: 1.19s\tremaining: 66.4ms\n",
      "947:\tlearn: 0.0144748\ttotal: 1.19s\tremaining: 65.1ms\n",
      "948:\tlearn: 0.0144665\ttotal: 1.19s\tremaining: 63.8ms\n",
      "949:\tlearn: 0.0144538\ttotal: 1.19s\tremaining: 62.6ms\n",
      "950:\tlearn: 0.0144464\ttotal: 1.19s\tremaining: 61.3ms\n",
      "951:\tlearn: 0.0144388\ttotal: 1.19s\tremaining: 60ms\n",
      "952:\tlearn: 0.0144292\ttotal: 1.19s\tremaining: 58.7ms\n",
      "953:\tlearn: 0.0144229\ttotal: 1.19s\tremaining: 57.5ms\n",
      "954:\tlearn: 0.0144149\ttotal: 1.19s\tremaining: 56.3ms\n",
      "955:\tlearn: 0.0143942\ttotal: 1.19s\tremaining: 55ms\n",
      "956:\tlearn: 0.0143837\ttotal: 1.2s\tremaining: 53.7ms\n",
      "957:\tlearn: 0.0143761\ttotal: 1.2s\tremaining: 52.5ms\n",
      "958:\tlearn: 0.0143681\ttotal: 1.2s\tremaining: 51.3ms\n",
      "959:\tlearn: 0.0143522\ttotal: 1.2s\tremaining: 50ms\n",
      "960:\tlearn: 0.0143422\ttotal: 1.2s\tremaining: 48.7ms\n",
      "961:\tlearn: 0.0143341\ttotal: 1.2s\tremaining: 47.4ms\n",
      "962:\tlearn: 0.0143131\ttotal: 1.2s\tremaining: 46.2ms\n",
      "963:\tlearn: 0.0142993\ttotal: 1.2s\tremaining: 44.9ms\n",
      "964:\tlearn: 0.0142933\ttotal: 1.21s\tremaining: 43.7ms\n",
      "965:\tlearn: 0.0142850\ttotal: 1.21s\tremaining: 42.5ms\n",
      "966:\tlearn: 0.0142765\ttotal: 1.21s\tremaining: 41.3ms\n",
      "967:\tlearn: 0.0142651\ttotal: 1.21s\tremaining: 40.1ms\n",
      "968:\tlearn: 0.0142531\ttotal: 1.21s\tremaining: 38.8ms\n",
      "969:\tlearn: 0.0142376\ttotal: 1.21s\tremaining: 37.5ms\n",
      "970:\tlearn: 0.0142198\ttotal: 1.21s\tremaining: 36.3ms\n",
      "971:\tlearn: 0.0142068\ttotal: 1.21s\tremaining: 35ms\n",
      "972:\tlearn: 0.0141952\ttotal: 1.22s\tremaining: 33.8ms\n",
      "973:\tlearn: 0.0141801\ttotal: 1.22s\tremaining: 32.5ms\n",
      "974:\tlearn: 0.0141698\ttotal: 1.22s\tremaining: 31.2ms\n",
      "975:\tlearn: 0.0141631\ttotal: 1.22s\tremaining: 30ms\n",
      "976:\tlearn: 0.0141543\ttotal: 1.22s\tremaining: 28.7ms\n",
      "977:\tlearn: 0.0141452\ttotal: 1.22s\tremaining: 27.4ms\n"
     ]
    },
    {
     "name": "stdout",
     "output_type": "stream",
     "text": [
      "978:\tlearn: 0.0141254\ttotal: 1.22s\tremaining: 26.2ms\n",
      "979:\tlearn: 0.0141127\ttotal: 1.22s\tremaining: 25ms\n",
      "980:\tlearn: 0.0140997\ttotal: 1.22s\tremaining: 23.7ms\n",
      "981:\tlearn: 0.0140874\ttotal: 1.22s\tremaining: 22.4ms\n",
      "982:\tlearn: 0.0140819\ttotal: 1.22s\tremaining: 21.2ms\n",
      "983:\tlearn: 0.0140663\ttotal: 1.22s\tremaining: 19.9ms\n",
      "984:\tlearn: 0.0140606\ttotal: 1.23s\tremaining: 18.7ms\n",
      "985:\tlearn: 0.0140552\ttotal: 1.23s\tremaining: 17.4ms\n",
      "986:\tlearn: 0.0140403\ttotal: 1.23s\tremaining: 16.2ms\n",
      "987:\tlearn: 0.0140317\ttotal: 1.23s\tremaining: 14.9ms\n",
      "988:\tlearn: 0.0140241\ttotal: 1.23s\tremaining: 13.7ms\n",
      "989:\tlearn: 0.0140180\ttotal: 1.23s\tremaining: 12.4ms\n",
      "990:\tlearn: 0.0139887\ttotal: 1.23s\tremaining: 11.2ms\n",
      "991:\tlearn: 0.0139812\ttotal: 1.23s\tremaining: 9.91ms\n",
      "992:\tlearn: 0.0139717\ttotal: 1.23s\tremaining: 8.66ms\n",
      "993:\tlearn: 0.0139630\ttotal: 1.23s\tremaining: 7.42ms\n",
      "994:\tlearn: 0.0139571\ttotal: 1.23s\tremaining: 6.18ms\n",
      "995:\tlearn: 0.0139409\ttotal: 1.23s\tremaining: 4.94ms\n",
      "996:\tlearn: 0.0139303\ttotal: 1.23s\tremaining: 3.71ms\n",
      "997:\tlearn: 0.0139024\ttotal: 1.23s\tremaining: 2.47ms\n",
      "998:\tlearn: 0.0138965\ttotal: 1.23s\tremaining: 1.23ms\n",
      "999:\tlearn: 0.0138879\ttotal: 1.24s\tremaining: 0us\n"
     ]
    },
    {
     "data": {
      "text/plain": [
       "<catboost.core.CatBoostRegressor at 0x7f9866edf2b0>"
      ]
     },
     "execution_count": 9,
     "metadata": {},
     "output_type": "execute_result"
    }
   ],
   "source": [
    "#Train the Model \n",
    "prior_model = ctb.CatBoostRegressor()\n",
    "prior_model.fit(X_train,Y_train)"
   ]
  },
  {
   "cell_type": "code",
   "execution_count": 10,
   "id": "af65dcda",
   "metadata": {
    "execution": {
     "iopub.execute_input": "2022-07-24T12:39:02.455208Z",
     "iopub.status.busy": "2022-07-24T12:39:02.454555Z",
     "iopub.status.idle": "2022-07-24T12:39:02.496441Z",
     "shell.execute_reply": "2022-07-24T12:39:02.494486Z"
    },
    "id": "af65dcda",
    "papermill": {
     "duration": 0.06639,
     "end_time": "2022-07-24T12:39:02.502093",
     "exception": false,
     "start_time": "2022-07-24T12:39:02.435703",
     "status": "completed"
    },
    "tags": []
   },
   "outputs": [
    {
     "data": {
      "application/scrapbook.scrap.json+json": {
       "data": 0.0007970400438806125,
       "encoder": "json",
       "name": "Prior Model MSE",
       "version": 1
      }
     },
     "metadata": {
      "scrapbook": {
       "data": true,
       "display": false,
       "name": "Prior Model MSE"
      }
     },
     "output_type": "display_data"
    },
    {
     "data": {
      "application/scrapbook.scrap.json+json": {
       "data": 0.000999395550219711,
       "encoder": "json",
       "name": "ABC Pre-generator MSE",
       "version": 1
      }
     },
     "metadata": {
      "scrapbook": {
       "data": true,
       "display": false,
       "name": "ABC Pre-generator MSE"
      }
     },
     "output_type": "display_data"
    },
    {
     "data": {
      "application/scrapbook.scrap.json+json": {
       "data": 0.020206188845231197,
       "encoder": "json",
       "name": "Prior Model MAE",
       "version": 1
      }
     },
     "metadata": {
      "scrapbook": {
       "data": true,
       "display": false,
       "name": "Prior Model MAE"
      }
     },
     "output_type": "display_data"
    },
    {
     "name": "stdout",
     "output_type": "stream",
     "text": [
      "Prior Model MAE 0.020206188845231197\n",
      "ABC Pre-generator MAE 0.022889236150586093\n"
     ]
    }
   ],
   "source": [
    "y_pred = prior_model.predict(X_test)\n",
    "y_abc = y_pred + np.random.normal(0,variance, y_pred.shape) + bias \n",
    "mse = mean_squared_error(y_pred,Y_test)\n",
    "sb.glue(\"Prior Model MSE\",mse)\n",
    "mse = mean_squared_error(y_abc,Y_test)\n",
    "sb.glue(\"ABC Pre-generator MSE\",mse)\n",
    "mae = mean_absolute_error(y_pred,Y_test)\n",
    "sb.glue(\"Prior Model MAE\",mae)\n",
    "print(\"Prior Model MAE\",mae)\n",
    "mae = mean_absolute_error(y_abc,Y_test)\n",
    "print(\"ABC Pre-generator MAE\",mae)"
   ]
  },
  {
   "cell_type": "markdown",
   "id": "25609da2",
   "metadata": {
    "papermill": {
     "duration": 0.011877,
     "end_time": "2022-07-24T12:39:02.536219",
     "exception": false,
     "start_time": "2022-07-24T12:39:02.524342",
     "status": "completed"
    },
    "tags": []
   },
   "source": [
    "# mGAN Model"
   ]
  },
  {
   "cell_type": "code",
   "execution_count": 11,
   "id": "dfc3464d",
   "metadata": {
    "execution": {
     "iopub.execute_input": "2022-07-24T12:39:02.561524Z",
     "iopub.status.busy": "2022-07-24T12:39:02.560739Z",
     "iopub.status.idle": "2022-07-24T12:39:02.568192Z",
     "shell.execute_reply": "2022-07-24T12:39:02.565652Z"
    },
    "papermill": {
     "duration": 0.024572,
     "end_time": "2022-07-24T12:39:02.571479",
     "exception": false,
     "start_time": "2022-07-24T12:39:02.546907",
     "status": "completed"
    },
    "tags": []
   },
   "outputs": [],
   "source": [
    "# gen = network.Generator(n_features+1).to(device)\n",
    "# disc = network.Discriminator(n_features+1).to(device)\n",
    "\n",
    "# criterion = torch.nn.BCELoss()\n",
    "# gen_opt = torch.optim.Adam(gen.parameters(), lr=0.01, betas=(0.5, 0.999))\n",
    "# disc_opt = torch.optim.Adam(disc.parameters(), lr=0.01, betas=(0.5, 0.999))"
   ]
  },
  {
   "cell_type": "code",
   "execution_count": 12,
   "id": "b75fdd85",
   "metadata": {
    "execution": {
     "iopub.execute_input": "2022-07-24T12:39:02.607853Z",
     "iopub.status.busy": "2022-07-24T12:39:02.607186Z",
     "iopub.status.idle": "2022-07-24T12:39:02.613625Z",
     "shell.execute_reply": "2022-07-24T12:39:02.611313Z"
    },
    "papermill": {
     "duration": 0.034246,
     "end_time": "2022-07-24T12:39:02.621323",
     "exception": false,
     "start_time": "2022-07-24T12:39:02.587077",
     "status": "completed"
    },
    "tags": []
   },
   "outputs": [],
   "source": [
    "#Training the ABC_GAN \n",
    "# ABC_train_test2.training_GAN(disc,gen,disc_opt,gen_opt,train_data,batch_size,n_epochs,criterion,prior_model,variance,bias,device)"
   ]
  },
  {
   "cell_type": "code",
   "execution_count": 13,
   "id": "1fa7c368",
   "metadata": {
    "execution": {
     "iopub.execute_input": "2022-07-24T12:39:02.648958Z",
     "iopub.status.busy": "2022-07-24T12:39:02.648139Z",
     "iopub.status.idle": "2022-07-24T12:39:02.655857Z",
     "shell.execute_reply": "2022-07-24T12:39:02.653793Z"
    },
    "papermill": {
     "duration": 0.031162,
     "end_time": "2022-07-24T12:39:02.665185",
     "exception": false,
     "start_time": "2022-07-24T12:39:02.634023",
     "status": "completed"
    },
    "tags": []
   },
   "outputs": [],
   "source": [
    "# ABC_GAN1_metrics=ABC_train_test2.test_generator(gen,test_data,prior_model,variance,bias,\"1\",device)\n",
    "# sb.glue(\"ABC_GAN_1 Metrics\",ABC_GAN1_metrics)\n",
    "\n",
    "# print(\"MAE\")\n",
    "# print(mean(ABC_GAN1_metrics[1]))"
   ]
  },
  {
   "cell_type": "code",
   "execution_count": 14,
   "id": "eb22ce5c",
   "metadata": {
    "execution": {
     "iopub.execute_input": "2022-07-24T12:39:02.700930Z",
     "iopub.status.busy": "2022-07-24T12:39:02.699964Z",
     "iopub.status.idle": "2022-07-24T12:39:02.705527Z",
     "shell.execute_reply": "2022-07-24T12:39:02.704328Z"
    },
    "papermill": {
     "duration": 0.027617,
     "end_time": "2022-07-24T12:39:02.712713",
     "exception": false,
     "start_time": "2022-07-24T12:39:02.685096",
     "status": "completed"
    },
    "tags": []
   },
   "outputs": [],
   "source": [
    "# sanityChecks.discProbVsError(train_data,disc,device)\n",
    "# sanityChecks.discProbVsError(test_data,disc,device)"
   ]
  },
  {
   "cell_type": "markdown",
   "id": "e5426136",
   "metadata": {
    "papermill": {
     "duration": 0.10472,
     "end_time": "2022-07-24T12:39:02.863378",
     "exception": false,
     "start_time": "2022-07-24T12:39:02.758658",
     "status": "completed"
    },
    "tags": []
   },
   "source": [
    "# mGAN Model with TabNet Generator"
   ]
  },
  {
   "cell_type": "code",
   "execution_count": 15,
   "id": "c2b3bf0f",
   "metadata": {
    "execution": {
     "iopub.execute_input": "2022-07-24T12:39:02.957680Z",
     "iopub.status.busy": "2022-07-24T12:39:02.956313Z",
     "iopub.status.idle": "2022-07-24T12:39:02.984393Z",
     "shell.execute_reply": "2022-07-24T12:39:02.979330Z"
    },
    "papermill": {
     "duration": 0.070051,
     "end_time": "2022-07-24T12:39:02.997083",
     "exception": false,
     "start_time": "2022-07-24T12:39:02.927032",
     "status": "completed"
    },
    "tags": []
   },
   "outputs": [],
   "source": [
    "gen2 = network.GeneratorTabnet(n_features+1).to(device)\n",
    "disc2 = network.Discriminator(n_features+1).to(device)\n",
    "\n",
    "criterion = torch.nn.BCELoss()\n",
    "gen_opt = torch.optim.Adam(gen2.parameters(), lr=0.01, betas=(0.5, 0.999))\n",
    "disc_opt = torch.optim.Adam(disc2.parameters(), lr=0.01, betas=(0.5, 0.999))"
   ]
  },
  {
   "cell_type": "code",
   "execution_count": 16,
   "id": "ce090bbb",
   "metadata": {
    "execution": {
     "iopub.execute_input": "2022-07-24T12:39:03.062058Z",
     "iopub.status.busy": "2022-07-24T12:39:03.061584Z",
     "iopub.status.idle": "2022-07-24T12:43:15.451796Z",
     "shell.execute_reply": "2022-07-24T12:43:15.448265Z"
    },
    "papermill": {
     "duration": 252.425782,
     "end_time": "2022-07-24T12:43:15.456538",
     "exception": false,
     "start_time": "2022-07-24T12:39:03.030756",
     "status": "completed"
    },
    "tags": []
   },
   "outputs": [
    {
     "data": {
      "image/png": "[encoded data removed]",
      "text/plain": [
       "<Figure size 432x288 with 1 Axes>"
      ]
     },
     "metadata": {
      "needs_background": "light"
     },
     "output_type": "display_data"
    },
    {
     "data": {
      "image/png": "[encoded data removed]",
      "text/plain": [
       "<Figure size 432x288 with 1 Axes>"
      ]
     },
     "metadata": {
      "needs_background": "light"
     },
     "output_type": "display_data"
    }
   ],
   "source": [
    "#Training the ABC_GAN \n",
    "ABC_train_test2.training_GAN(disc2,gen2,disc_opt,gen_opt,train_data,batch_size,n_epochs,criterion,prior_model,variance,bias,device)"
   ]
  },
  {
   "cell_type": "code",
   "execution_count": 17,
   "id": "a5b173f3",
   "metadata": {
    "execution": {
     "iopub.execute_input": "2022-07-24T12:43:15.523027Z",
     "iopub.status.busy": "2022-07-24T12:43:15.520111Z",
     "iopub.status.idle": "2022-07-24T12:43:16.473787Z",
     "shell.execute_reply": "2022-07-24T12:43:16.472922Z"
    },
    "papermill": {
     "duration": 0.984933,
     "end_time": "2022-07-24T12:43:16.477539",
     "exception": false,
     "start_time": "2022-07-24T12:43:15.492606",
     "status": "completed"
    },
    "tags": []
   },
   "outputs": [
    {
     "data": {
      "application/scrapbook.scrap.json+json": {
       "data": 0.01731955930903953,
       "encoder": "json",
       "name": "ABC-GAN Model 1 MSE",
       "version": 1
      }
     },
     "metadata": {
      "scrapbook": {
       "data": true,
       "display": false,
       "name": "ABC-GAN Model 1 MSE"
      }
     },
     "output_type": "display_data"
    },
    {
     "data": {
      "application/scrapbook.scrap.json+json": {
       "data": 0.0913542382631983,
       "encoder": "json",
       "name": "ABC-GAN Model 1 MAE",
       "version": 1
      }
     },
     "metadata": {
      "scrapbook": {
       "data": true,
       "display": false,
       "name": "ABC-GAN Model 1 MAE"
      }
     },
     "output_type": "display_data"
    },
    {
     "data": {
      "application/scrapbook.scrap.json+json": {
       "data": 14.06855269253254,
       "encoder": "json",
       "name": "ABC-GAN Model 1 Manhattan Distance",
       "version": 1
      }
     },
     "metadata": {
      "scrapbook": {
       "data": true,
       "display": false,
       "name": "ABC-GAN Model 1 Manhattan Distance"
      }
     },
     "output_type": "display_data"
    },
    {
     "data": {
      "application/scrapbook.scrap.json+json": {
       "data": 1.6331515583669145,
       "encoder": "json",
       "name": "ABC-GAN Model 1 Euclidean distance",
       "version": 1
      }
     },
     "metadata": {
      "scrapbook": {
       "data": true,
       "display": false,
       "name": "ABC-GAN Model 1 Euclidean distance"
      }
     },
     "output_type": "display_data"
    },
    {
     "data": {
      "application/scrapbook.scrap.json+json": {
       "data": [
        [
         0.01715012068465474,
         0.017469646616806132,
         0.01715398369615298,
         0.017356908702727554,
         0.01724908345671534,
         0.017428981163941093,
         0.017074455235246474,
         0.017072758984976722,
         0.017393618345949272,
         0.017347979475732325,
         0.01730831619863001,
         0.017341897169315543,
         0.017176464701264115,
         0.0171348145479545,
         0.01729182850705774,
         0.017421936541281623,
         0.0172625465270586,
         0.017237606450064877,
         0.017391750897175443,
         0.01729867382056631,
         0.01732388785301556,
         0.01731538067731686,
         0.017255084354866612,
         0.01719802014816939,
         0.017148521834709787,
         0.017335270789542872,
         0.01745382888329461,
         0.01747882053444903,
         0.01727316272767269,
         0.017428791612135456,
         0.017377560844523618,
         0.017318423520482962,
         0.01748311420592419,
         0.017349927546196336,
         0.017350019275598916,
         0.017296797984027855,
         0.017258184545283065,
         0.017307868672336787,
         0.01732945701883982,
         0.017156089981471764,
         0.017324090539840353,
         0.017382047088752375,
         0.017231289578532146,
         0.01735917390289637,
         0.017315561839117373,
         0.017356880596888405,
         0.017077406523324314,
         0.01717668346667667,
         0.01729696558863499,
         0.017134744223979575,
         0.017419750954450187,
         0.017368653152157233,
         0.017270773786343323,
         0.017126755965145502,
         0.017318231467876886,
         0.017324180031241393,
         0.017421166927594774,
         0.017392803222383017,
         0.017477189260317223,
         0.017300810306644047,
         0.017253947668071132,
         0.017259517494807638,
         0.017327302262981414,
         0.017479611461201618,
         0.017245847099070094,
         0.0173984597666665,
         0.01753621788465325,
         0.017338802323771708,
         0.017225140854773804,
         0.017196736367869933,
         0.017314572712169674,
         0.017452115062087426,
         0.01713601719620024,
         0.017234380342440563,
         0.017370114717281962,
         0.017295890146833356,
         0.017370999263643213,
         0.017177873876128395,
         0.017337929089938295,
         0.017396605292306907,
         0.017175286961130753,
         0.017177369667159482,
         0.01721971665461677,
         0.017227997699530026,
         0.017538363067991305,
         0.01744297606851948,
         0.017476079787546374,
         0.017553780048755255,
         0.01737849757009578,
         0.017514025285143606,
         0.017379577225595477,
         0.01734564796397447,
         0.01725784614556624,
         0.017486091926456414,
         0.017207166061507725,
         0.01745781593682357,
         0.017396060249298594,
         0.017385197176627166,
         0.017421378768706048,
         0.01749023260008554
        ],
        [
         0.09038422488934034,
         0.09176981671677008,
         0.09096868432961501,
         0.09168442706396053,
         0.09084879161862584,
         0.0915757491217031,
         0.09038504871068062,
         0.09031370620835912,
         0.09204251261113526,
         0.0913067026571794,
         0.09153809630638593,
         0.0916812831124702,
         0.09088874366376307,
         0.09076254389115743,
         0.09109063765832356,
         0.09172331686917838,
         0.09116106528740425,
         0.09113156447162876,
         0.09176146142281495,
         0.091308263989238,
         0.09204244071787054,
         0.09178402100677614,
         0.0910333294373054,
         0.09119319635165202,
         0.09105846160030984,
         0.09163269448977013,
         0.09138606924128223,
         0.09159100752372246,
         0.09150057847236658,
         0.09163071040983324,
         0.09135629507628354,
         0.09101263907822696,
         0.09197797916539303,
         0.09156764734100986,
         0.09158288939045621,
         0.09153226124388832,
         0.09161865595099214,
         0.09150745497121439,
         0.0918021108229439,
         0.09089868128686757,
         0.09148102456873114,
         0.09115444801070473,
         0.09070822461084886,
         0.09130095574375871,
         0.09140237082134593,
         0.09121939743107016,
         0.09062689387953127,
         0.09114917319316368,
         0.0905606672167778,
         0.0910960164937106,
         0.09162298299662479,
         0.09133312802810173,
         0.09139098526982518,
         0.09052205753403825,
         0.09159626444051792,
         0.09125897414111472,
         0.09137442214535428,
         0.09180793214540978,
         0.09175355297017407,
         0.0912800066463359,
         0.09160222916247009,
         0.09135340860524735,
         0.09121348254092328,
         0.09170237406120672,
         0.09111125738202751,
         0.09164012262186447,
         0.091788645011264,
         0.09139154967549559,
         0.09110270827621608,
         0.09148425628225525,
         0.09143445476309045,
         0.09174505001925803,
         0.09087607070997164,
         0.09106510800200623,
         0.09173499473503657,
         0.09130060053490974,
         0.09097907547052804,
         0.09087290285856693,
         0.09128276287735283,
         0.0915147808271569,
         0.09068538558173489,
         0.09068744581241112,
         0.09106677857699333,
         0.0911489874124527,
         0.09195725048904295,
         0.091358982026577,
         0.09159128242111825,
         0.09162302179770036,
         0.0915288697783049,
         0.0921644905170837,
         0.09152868554576651,
         0.09161995593216513,
         0.09090240589984051,
         0.09219199554486708,
         0.09118825671347705,
         0.09207580228904624,
         0.09134858701523248,
         0.09152339602058585,
         0.09148646291200217,
         0.09187470715154301
        ],
        [
         13.919170632958412,
         14.132551774382591,
         14.009177386760712,
         14.119401767849922,
         13.99071390926838,
         14.102665364742279,
         13.919297501444817,
         13.908310756087303,
         14.17454694211483,
         14.061232209205627,
         14.096866831183434,
         14.118917599320412,
         13.996866524219513,
         13.977431759238243,
         14.027958199381828,
         14.12539079785347,
         14.038804054260254,
         14.034260928630829,
         14.131265059113503,
         14.061472654342651,
         14.174535870552063,
         14.134739235043526,
         14.019132733345032,
         14.043752238154411,
         14.023003086447716,
         14.111434951424599,
         14.073454663157463,
         14.10501515865326,
         14.091089084744453,
         14.111129403114319,
         14.068869441747665,
         14.015946418046951,
         14.164608791470528,
         14.101417690515518,
         14.103764966130257,
         14.0959682315588,
         14.10927301645279,
         14.092148065567017,
         14.13752506673336,
         13.998396918177605,
         14.088077783584595,
         14.037784993648529,
         13.969066590070724,
         14.060347184538841,
         14.075965106487274,
         14.047787204384804,
         13.956541657447815,
         14.036972671747208,
         13.946342751383781,
         14.028786540031433,
         14.109939381480217,
         14.065301716327667,
         14.074211731553078,
         13.94039686024189,
         14.10582472383976,
         14.053882017731667,
         14.07166101038456,
         14.138421550393105,
         14.130047157406807,
         14.057121023535728,
         14.106743291020393,
         14.068424925208092,
         14.046876311302185,
         14.122165605425835,
         14.031133636832237,
         14.112578883767128,
         14.135451331734657,
         14.074298650026321,
         14.029817074537277,
         14.088575467467308,
         14.08090603351593,
         14.128737702965736,
         13.994914889335632,
         14.02402663230896,
         14.127189189195633,
         14.060292482376099,
         14.010777622461319,
         13.994427040219307,
         14.057545483112335,
         14.093276247382164,
         13.965549379587173,
         13.965866655111313,
         14.024283900856972,
         14.036944061517715,
         14.161416575312614,
         14.069283232092857,
         14.105057492852211,
         14.109945356845856,
         14.095445945858955,
         14.19333153963089,
         14.095417574048042,
         14.109473213553429,
         13.99897050857544,
         14.19756731390953,
         14.042991533875465,
         14.179673552513123,
         14.067682400345802,
         14.09460298717022,
         14.088915288448334,
         14.148704901337624
        ],
        [
         1.6251518653457684,
         1.6402211981888737,
         1.625334885249055,
         1.6349201632556996,
         1.629833995330249,
         1.63831105082244,
         1.6215628591664144,
         1.6214823106301268,
         1.6366481678345495,
         1.63449956844986,
         1.6326299931671664,
         1.6342130106184425,
         1.6263995708295895,
         1.6244264958393757,
         1.631852196152241,
         1.637979922757715,
         1.6304699215769125,
         1.6292916845396317,
         1.636560306913564,
         1.6321751647317795,
         1.633364236587907,
         1.6329631423601687,
         1.6301174775608835,
         1.627419768473422,
         1.625076109770034,
         1.6339007624668036,
         1.6394784683024568,
         1.640651810197749,
         1.6309712014813733,
         1.6383021419350154,
         1.6358925301060083,
         1.6331066168974935,
         1.6408533108454042,
         1.6345913379539962,
         1.634595659006298,
         1.6320866672883183,
         1.6302639111424848,
         1.6326088862737043,
         1.6336267569127694,
         1.6254346671418853,
         1.6333737916151998,
         1.6361036799872635,
         1.6289931230959662,
         1.6350268441362183,
         1.632971684758825,
         1.6349188395516194,
         1.6217029951849826,
         1.626409927991159,
         1.6320945746646511,
         1.624423162384991,
         1.6378771770146041,
         1.6354731992399674,
         1.6308584129521704,
         1.624044463255981,
         1.6330975617069057,
         1.6333780103855857,
         1.637943743493529,
         1.6366098179611976,
         1.6405752485298724,
         1.6322759531473785,
         1.6300637842989318,
         1.6303268672877769,
         1.6335251906533725,
         1.6406889300001535,
         1.629681089433388,
         1.636875928122422,
         1.6433434072757285,
         1.6340671827868163,
         1.6287024564465928,
         1.6273590263528113,
         1.6329250434953007,
         1.6393979747338543,
         1.6244835019829649,
         1.6291392122025194,
         1.6355420099958977,
         1.6320438359959382,
         1.635583653195719,
         1.626466285209679,
         1.6340260340185824,
         1.6367886897871893,
         1.6263438111340836,
         1.6264424148252405,
         1.6284459968973435,
         1.6288375136052167,
         1.6434439182614844,
         1.6389686740606118,
         1.6405231748689628,
         1.644166088784314,
         1.635936620347729,
         1.6423032283692665,
         1.6359874366087606,
         1.6343897290585463,
         1.6302479278984532,
         1.6409930398006836,
         1.6278524421679594,
         1.6396657141840925,
         1.6367630489450766,
         1.636251925957792,
         1.6379537021481199,
         1.6411873203303677
        ]
       ],
       "encoder": "json",
       "name": "ABC_GAN_2 Metrics",
       "version": 1
      }
     },
     "metadata": {
      "scrapbook": {
       "data": true,
       "display": false,
       "name": "ABC_GAN_2 Metrics"
      }
     },
     "output_type": "display_data"
    },
    {
     "name": "stdout",
     "output_type": "stream",
     "text": [
      "MAE\n",
      "0.0913542382631983\n"
     ]
    }
   ],
   "source": [
    "ABC_GAN2_metrics=ABC_train_test2.test_generator(gen2,test_data,prior_model,variance,bias,\"1\",device)\n",
    "sb.glue(\"ABC_GAN_2 Metrics\",ABC_GAN2_metrics)\n",
    "\n",
    "print(\"MAE\")\n",
    "print(mean(ABC_GAN2_metrics[1]))"
   ]
  },
  {
   "cell_type": "code",
   "execution_count": 18,
   "id": "097c5087",
   "metadata": {
    "execution": {
     "iopub.execute_input": "2022-07-24T12:43:16.516386Z",
     "iopub.status.busy": "2022-07-24T12:43:16.514370Z",
     "iopub.status.idle": "2022-07-24T12:43:17.850452Z",
     "shell.execute_reply": "2022-07-24T12:43:17.849517Z"
    },
    "papermill": {
     "duration": 1.359994,
     "end_time": "2022-07-24T12:43:17.853207",
     "exception": false,
     "start_time": "2022-07-24T12:43:16.493213",
     "status": "completed"
    },
    "tags": []
   },
   "outputs": [
    {
     "data": {
      "image/png": "[encoded data removed]",
      "text/plain": [
       "<Figure size 432x288 with 1 Axes>"
      ]
     },
     "metadata": {
      "needs_background": "light"
     },
     "output_type": "display_data"
    },
    {
     "data": {
      "image/png": "[encoded data removed]",
      "text/plain": [
       "<Figure size 432x288 with 1 Axes>"
      ]
     },
     "metadata": {
      "needs_background": "light"
     },
     "output_type": "display_data"
    },
    {
     "data": {
      "image/png": "[encoded data removed]",
      "text/plain": [
       "<Figure size 432x288 with 1 Axes>"
      ]
     },
     "metadata": {
      "needs_background": "light"
     },
     "output_type": "display_data"
    },
    {
     "data": {
      "image/png": "[encoded data removed]",
      "text/plain": [
       "<Figure size 432x288 with 1 Axes>"
      ]
     },
     "metadata": {
      "needs_background": "light"
     },
     "output_type": "display_data"
    }
   ],
   "source": [
    "sanityChecks.discProbVsError(train_data,disc2,device)\n",
    "sanityChecks.discProbVsError(test_data,disc2,device)"
   ]
  },
  {
   "cell_type": "markdown",
   "id": "130f3a4d",
   "metadata": {
    "id": "130f3a4d",
    "papermill": {
     "duration": 0.015877,
     "end_time": "2022-07-24T12:43:17.887467",
     "exception": false,
     "start_time": "2022-07-24T12:43:17.871590",
     "status": "completed"
    },
    "tags": []
   },
   "source": [
    "# skipGAN Model"
   ]
  },
  {
   "cell_type": "code",
   "execution_count": 19,
   "id": "4e43dad1",
   "metadata": {
    "execution": {
     "iopub.execute_input": "2022-07-24T12:43:17.924422Z",
     "iopub.status.busy": "2022-07-24T12:43:17.924079Z",
     "iopub.status.idle": "2022-07-24T12:43:17.928681Z",
     "shell.execute_reply": "2022-07-24T12:43:17.927431Z"
    },
    "id": "4e43dad1",
    "papermill": {
     "duration": 0.026787,
     "end_time": "2022-07-24T12:43:17.932087",
     "exception": false,
     "start_time": "2022-07-24T12:43:17.905300",
     "status": "completed"
    },
    "tags": []
   },
   "outputs": [],
   "source": [
    "# #Generator\n",
    "# gen3 = network.GeneratorWithSkipConnection(n_features+1).to(device)\n",
    "# constraints=network.weightConstraint()\n",
    "# #Discriminator \n",
    "# disc3 = network.Discriminator(n_features+1).to(device)\n",
    "\n",
    "# criterion = torch.nn.BCELoss()\n",
    "# gen_opt = torch.optim.Adam(gen3.parameters(), lr=0.01, betas=(0.5, 0.999))\n",
    "# disc_opt = torch.optim.Adam(disc3.parameters(), lr=0.01, betas=(0.5, 0.999))\n"
   ]
  },
  {
   "cell_type": "markdown",
   "id": "80d09851",
   "metadata": {
    "tags": [
     "papermill-error-cell-tag"
    ]
   },
   "source": [
    "<span id=\"papermill-error-cell\" style=\"color:red; font-family:Helvetica Neue, Helvetica, Arial, sans-serif; font-size:2em;\">Execution using papermill encountered an exception here and stopped:</span>"
   ]
  },
  {
   "cell_type": "code",
   "execution_count": 20,
   "id": "26acbc37",
   "metadata": {
    "execution": {
     "iopub.execute_input": "2022-07-24T12:43:17.966493Z",
     "iopub.status.busy": "2022-07-24T12:43:17.966140Z",
     "iopub.status.idle": "2022-07-24T12:43:21.046365Z",
     "shell.execute_reply": "2022-07-24T12:43:21.043559Z"
    },
    "id": "26acbc37",
    "papermill": {
     "duration": 3.101702,
     "end_time": "2022-07-24T12:43:21.049215",
     "exception": true,
     "start_time": "2022-07-24T12:43:17.947513",
     "status": "failed"
    },
    "tags": []
   },
   "outputs": [
    {
     "ename": "NameError",
     "evalue": "name 'disc3' is not defined",
     "output_type": "error",
     "traceback": [
      "\u001b[0;31m---------------------------------------------------------------------------\u001b[0m",
      "\u001b[0;31mNameError\u001b[0m                                 Traceback (most recent call last)",
      "Input \u001b[0;32mIn [20]\u001b[0m, in \u001b[0;36m<cell line: 1>\u001b[0;34m()\u001b[0m\n\u001b[0;32m----> 1\u001b[0m ABC_train_test2\u001b[38;5;241m.\u001b[39mtraining_GAN_skip_connection(\u001b[43mdisc3\u001b[49m,gen3,disc_opt,gen_opt,train_data,batch_size,n_epochs,criterion,prior_model,variance,bias,device)\n",
      "\u001b[0;31mNameError\u001b[0m: name 'disc3' is not defined"
     ]
    }
   ],
   "source": [
    "ABC_train_test2.training_GAN_skip_connection(disc3,gen3,disc_opt,gen_opt,train_data,batch_size,n_epochs,criterion,prior_model,variance,bias,device)"
   ]
  },
  {
   "cell_type": "code",
   "execution_count": null,
   "id": "c5e0717b",
   "metadata": {
    "id": "c5e0717b",
    "papermill": {
     "duration": null,
     "end_time": null,
     "exception": null,
     "start_time": null,
     "status": "pending"
    },
    "tags": []
   },
   "outputs": [],
   "source": [
    "# ABC_GAN3_metrics=ABC_train_test2.test_generator(gen3,test_data,prior_model,variance,bias,\"3\",device)\n",
    "# sb.glue(\"ABC_GAN_3 Metrics\",ABC_GAN3_metrics)\n",
    "\n",
    "# print(\"MAE\")\n",
    "# print(mean(ABC_GAN3_metrics[1]))"
   ]
  },
  {
   "cell_type": "code",
   "execution_count": null,
   "id": "c8e46b48",
   "metadata": {
    "id": "c8e46b48",
    "papermill": {
     "duration": null,
     "end_time": null,
     "exception": null,
     "start_time": null,
     "status": "pending"
    },
    "tags": []
   },
   "outputs": [],
   "source": [
    "# sanityChecks.discProbVsError(train_data,disc3,device)\n",
    "# sanityChecks.discProbVsError(test_data,disc3,device)"
   ]
  },
  {
   "cell_type": "markdown",
   "id": "6295b2a2",
   "metadata": {
    "id": "130f3a4d",
    "papermill": {
     "duration": null,
     "end_time": null,
     "exception": null,
     "start_time": null,
     "status": "pending"
    },
    "tags": []
   },
   "source": [
    "# skipGAN Model with TabNet Generator"
   ]
  },
  {
   "cell_type": "code",
   "execution_count": null,
   "id": "2fff4caf",
   "metadata": {
    "id": "4e43dad1",
    "papermill": {
     "duration": null,
     "end_time": null,
     "exception": null,
     "start_time": null,
     "status": "pending"
    },
    "tags": []
   },
   "outputs": [],
   "source": [
    "# #Generator\n",
    "# gen4 = network.GeneratorTabnetskipConnection(n_features+1).to(device)\n",
    "# constraints=network.weightConstraint()\n",
    "# #Discriminator \n",
    "# disc4 = network.Discriminator(n_features+1).to(device)\n",
    "\n",
    "# criterion = torch.nn.BCELoss()\n",
    "# gen_opt = torch.optim.Adam(gen4.parameters(), lr=0.01, betas=(0.5, 0.999))\n",
    "# disc_opt = torch.optim.Adam(disc4.parameters(), lr=0.01, betas=(0.5, 0.999))\n"
   ]
  },
  {
   "cell_type": "code",
   "execution_count": null,
   "id": "c97afd7b",
   "metadata": {
    "id": "26acbc37",
    "papermill": {
     "duration": null,
     "end_time": null,
     "exception": null,
     "start_time": null,
     "status": "pending"
    },
    "tags": []
   },
   "outputs": [],
   "source": [
    "# ABC_train_test2.training_GAN_skip_connection(disc4,gen4,disc_opt,gen_opt,train_data,batch_size,n_epochs,criterion,prior_model,variance,bias,device)"
   ]
  },
  {
   "cell_type": "code",
   "execution_count": null,
   "id": "8a776453",
   "metadata": {
    "id": "c5e0717b",
    "papermill": {
     "duration": null,
     "end_time": null,
     "exception": null,
     "start_time": null,
     "status": "pending"
    },
    "tags": []
   },
   "outputs": [],
   "source": [
    "# ABC_GAN4_metrics=ABC_train_test2.test_generator(gen4,test_data,prior_model,variance,bias,\"3\",device)\n",
    "# sb.glue(\"ABC_GAN_4 Metrics\",ABC_GAN4_metrics)\n",
    "\n",
    "# print(\"MAE\")\n",
    "# print(mean(ABC_GAN4_metrics[1]))"
   ]
  },
  {
   "cell_type": "code",
   "execution_count": null,
   "id": "88c7a7df",
   "metadata": {
    "id": "c8e46b48",
    "papermill": {
     "duration": null,
     "end_time": null,
     "exception": null,
     "start_time": null,
     "status": "pending"
    },
    "tags": []
   },
   "outputs": [],
   "source": [
    "# sanityChecks.discProbVsError(train_data,disc4,device)\n",
    "# sanityChecks.discProbVsError(test_data,disc4,device)"
   ]
  },
  {
   "cell_type": "markdown",
   "id": "a5bd74c3",
   "metadata": {
    "id": "a5bd74c3",
    "papermill": {
     "duration": null,
     "end_time": null,
     "exception": null,
     "start_time": null,
     "status": "pending"
    },
    "tags": []
   },
   "source": [
    "## Skip Connection Model Analysis - ABC-GAN "
   ]
  },
  {
   "cell_type": "markdown",
   "id": "5744a8bf",
   "metadata": {
    "id": "5744a8bf",
    "papermill": {
     "duration": null,
     "end_time": null,
     "exception": null,
     "start_time": null,
     "status": "pending"
    },
    "tags": []
   },
   "source": [
    "### Weight Analysis \n",
    "\n",
    "Study the weights of the skip connection layer\n",
    "\n",
    "Equation of the skip connection is \n",
    "\n",
    "$output = y_{gan} * w + y_{abc} * (1-w)$"
   ]
  },
  {
   "cell_type": "code",
   "execution_count": null,
   "id": "52c31dea",
   "metadata": {
    "id": "52c31dea",
    "papermill": {
     "duration": null,
     "end_time": null,
     "exception": null,
     "start_time": null,
     "status": "pending"
    },
    "tags": []
   },
   "outputs": [],
   "source": [
    "# print(\"Weight of the node at skip connection\")\n",
    "# for name,param in gen3.named_parameters():\n",
    "#     if(name == \"skipNode.weight\"):\n",
    "#         print(param)\n",
    "#         sb.glue(\"Skip Connection Weight\",param.item())"
   ]
  },
  {
   "cell_type": "markdown",
   "id": "4d0e7ba3",
   "metadata": {
    "id": "a5bd74c3",
    "papermill": {
     "duration": null,
     "end_time": null,
     "exception": null,
     "start_time": null,
     "status": "pending"
    },
    "tags": []
   },
   "source": [
    "## skipGAN Model Analysis (TabNet Generator) "
   ]
  },
  {
   "cell_type": "markdown",
   "id": "6142e939",
   "metadata": {
    "id": "5744a8bf",
    "papermill": {
     "duration": null,
     "end_time": null,
     "exception": null,
     "start_time": null,
     "status": "pending"
    },
    "tags": []
   },
   "source": [
    "### Weight Analysis \n",
    "\n",
    "Study the weights of the skip connection layer\n",
    "\n",
    "Equation of the skip connection is \n",
    "\n",
    "$output = y_{gan} * w + y_{abc} * (1-w)$"
   ]
  },
  {
   "cell_type": "code",
   "execution_count": null,
   "id": "d4f18239",
   "metadata": {
    "id": "52c31dea",
    "papermill": {
     "duration": null,
     "end_time": null,
     "exception": null,
     "start_time": null,
     "status": "pending"
    },
    "tags": []
   },
   "outputs": [],
   "source": [
    "# print(\"Weight of the node at skip connection\")\n",
    "# for name,param in gen4.named_parameters():\n",
    "#     if(name == \"skipNode.weight\"):\n",
    "#         print(param)\n",
    "#         sb.glue(\"Skip Connection Weight\",param.item())"
   ]
  }
 ],
 "metadata": {
  "colab": {
   "collapsed_sections": [],
   "name": "ABC_GAN_Model-Catboost_Pre-gen.ipynb",
   "provenance": []
  },
  "interpreter": {
   "hash": "31f2aee4e71d21fbe5cf8b01ff0e069b9275f58929596ceb00d14d90e3e16cd6"
  },
  "kernelspec": {
   "display_name": "Python 3 (ipykernel)",
   "language": "python",
   "name": "python3"
  },
  "language_info": {
   "codemirror_mode": {
    "name": "ipython",
    "version": 3
   },
   "file_extension": ".py",
   "mimetype": "text/x-python",
   "name": "python",
   "nbconvert_exporter": "python",
   "pygments_lexer": "ipython3",
   "version": "3.8.13"
  },
  "papermill": {
   "default_parameters": {},
   "duration": 276.920419,
   "end_time": "2022-07-24T12:43:22.578926",
   "environment_variables": {},
   "exception": true,
   "input_path": "ABC_GAN-Catboost.ipynb",
   "output_path": "./ABC_GAN_Catboost/ABC-GAN_output_2_11.ipynb",
   "parameters": {
    "bias": 0,
    "variance": 0.01
   },
   "start_time": "2022-07-24T12:38:45.658507",
   "version": "2.3.3"
  }
 },
 "nbformat": 4,
 "nbformat_minor": 5
}