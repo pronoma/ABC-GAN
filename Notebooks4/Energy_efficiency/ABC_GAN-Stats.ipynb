{
 "cells": [
  {
   "cell_type": "markdown",
   "id": "622780e6",
   "metadata": {},
   "source": [
    "## Import Libraries "
   ]
  },
  {
   "cell_type": "code",
   "execution_count": 1,
   "id": "a62397e3",
   "metadata": {},
   "outputs": [],
   "source": [
    "import warnings\n",
    "import sys\n",
    "sys.path.insert(0, '../../src')\n",
    "warnings.filterwarnings('ignore')"
   ]
  },
  {
   "cell_type": "code",
   "execution_count": 2,
   "id": "d6a4e155",
   "metadata": {},
   "outputs": [],
   "source": [
    "import ABC_train_test\n",
    "import energyefficiencyDataset\n",
    "import network\n",
    "import dataset\n",
    "import sanityChecks\n",
    "import performanceMetrics\n",
    "import torch \n",
    "import numpy as np \n",
    "from torch.utils.data import random_split \n",
    "import scrapbook as sb\n",
    "from statistics import mean \n",
    "import statsModel\n",
    "from sklearn.metrics import mean_squared_error,mean_absolute_error\n",
    "from sklearn.model_selection import train_test_split\n",
    "import pytorch_tabnet"
   ]
  },
  {
   "cell_type": "markdown",
   "id": "e0c10419",
   "metadata": {},
   "source": [
    "## Parameters\n",
    "ABC-Generator parameters are as mentioned below: \n",
    "1. mean : 1 ($\\beta \\sim N(\\beta^{*},\\sigma)$ where $\\beta^{*}$ are coefficients of statistical model) or 1 ($\\beta \\sim N(0,\\sigma)$\n",
    "2. std : $\\sigma = 1, 0.1 , 0.01$ (standard deviation)"
   ]
  },
  {
   "cell_type": "code",
   "execution_count": 3,
   "id": "645f85d5",
   "metadata": {
    "tags": [
     "parameters"
    ]
   },
   "outputs": [],
   "source": [
    "#ABC Generator Parameters\n",
    "abc_mean = 1\n",
    "variance = 1\n",
    "bias = 1 \n",
    "#Training parameters \n",
    "n_epochs = 1000"
   ]
  },
  {
   "cell_type": "markdown",
   "id": "391cdbfd",
   "metadata": {},
   "source": [
    "## Dataset"
   ]
  },
  {
   "cell_type": "code",
   "execution_count": 4,
   "id": "5b51f161",
   "metadata": {},
   "outputs": [],
   "source": [
    "#Parameters \n",
    "n_features = 8\n",
    "n_samples= 768\n",
    "n_target = 1 "
   ]
  },
  {
   "cell_type": "code",
   "execution_count": null,
   "id": "5d6eced4",
   "metadata": {},
   "outputs": [],
   "source": [
    "X,Y = energyefficiencyDataset.energy_data()\n",
    "# Train test split for dataset \n",
    "X_train,X_test,Y_train,Y_test = train_test_split(X,Y,test_size = 0.2)\n",
    "train_data = dataset.CustomDataset(X_train,Y_train)\n",
    "test_data = dataset.CustomDataset(X_test,Y_test)"
   ]
  },
  {
   "cell_type": "markdown",
   "id": "a9a1af34",
   "metadata": {},
   "source": [
    "## Training Parameters \n",
    "\n"
   ]
  },
  {
   "cell_type": "code",
   "execution_count": 6,
   "id": "952b7fc8",
   "metadata": {},
   "outputs": [],
   "source": [
    "batch_size = 32\n",
    "#Select the device \n",
    "device = torch.device('cuda' if torch.cuda.is_available() else 'cpu')"
   ]
  },
  {
   "cell_type": "markdown",
   "id": "31aeb9ed",
   "metadata": {},
   "source": [
    "### MSE Threshold and Mean Coeff Values \n",
    "\n",
    "Fetch coefficient values from stats model to be used in the ABC pre-generator \n",
    "\n",
    "Fetch MSE threshold for training the ABC-GAN \n",
    "\n",
    "The ABC-GAN will be trained until the threshold MSE is achieved or until it completes 5000 epochs \n",
    "\n",
    "The threshold mse is the mean mse of Catboost over 10 runs"
   ]
  },
  {
   "cell_type": "code",
   "execution_count": null,
   "id": "4595d301",
   "metadata": {},
   "outputs": [],
   "source": [
    "coeff , y_pred =statsModel.statsModel(X_train,Y_train,X_test,Y_test)\n",
    "y_abc = y_pred + np.random.normal(0,variance, y_pred.shape) + bias \n",
    "mse = mean_squared_error(y_pred,Y_test)\n",
    "sb.glue(\"Prior Model MSE\",mse)\n",
    "mse = mean_squared_error(y_abc,Y_test)\n",
    "sb.glue(\"ABC Pre-generator MSE\",mse)\n",
    "\n",
    "mae = mean_absolute_error(y_pred,Y_test)\n",
    "sb.glue(\"Prior Model MSE\",mae)\n",
    "print(\"Prior Model MSE\",mae)\n",
    "mae = mean_absolute_error(y_abc,Y_test)\n",
    "sb.glue(\"ABC Pre-generator MAE\",mae)\n",
    "print(\"ABC Pre-generator MAE\",mae)"
   ]
  },
  {
   "cell_type": "markdown",
   "id": "657fd93a",
   "metadata": {},
   "source": [
    "# mGAN "
   ]
  },
  {
   "cell_type": "code",
   "execution_count": null,
   "id": "517917fc",
   "metadata": {},
   "outputs": [],
   "source": [
    "gen = network.Generator(n_features+1).to(device)\n",
    "disc = network.Discriminator(n_features+1).to(device)\n",
    "\n",
    "criterion = torch.nn.BCELoss()\n",
    "gen_opt = torch.optim.Adam(gen.parameters(), lr=0.01, betas=(0.5, 0.999))\n",
    "disc_opt = torch.optim.Adam(disc.parameters(), lr=0.01, betas=(0.5, 0.999))"
   ]
  },
  {
   "cell_type": "code",
   "execution_count": null,
   "id": "24ac1c5b",
   "metadata": {},
   "outputs": [],
   "source": [
    "#Training the ABC_GAN \n",
    "discLossA1,genLossA1 = ABC_train_test.training_GAN(disc, gen,disc_opt,gen_opt,train_data,batch_size,n_epochs,criterion,coeff,abc_mean,variance,bias,device)\n",
    "sb.glue(\"ABC_GAN_1 Generator Loss\",genLossA1)\n",
    "sb.glue(\"ABC_GAN_1 Discriminator Loss\",discLossA1)"
   ]
  },
  {
   "cell_type": "code",
   "execution_count": null,
   "id": "fdc23a26",
   "metadata": {},
   "outputs": [],
   "source": [
    "ABC_GAN1_metrics=ABC_train_test.test_generator(gen,test_data,coeff,abc_mean,variance,bias,device)\n",
    "sb.glue(\"ABC_GAN_1 Metrics\",ABC_GAN1_metrics)\n",
    "print('MAE:', mean(ABC_GAN1_metrics[1]))"
   ]
  },
  {
   "cell_type": "code",
   "execution_count": null,
   "id": "a50fdf87",
   "metadata": {},
   "outputs": [],
   "source": [
    "sanityChecks.discProbVsError(train_data,disc,device)\n",
    "sanityChecks.discProbVsError(test_data,disc,device)"
   ]
  },
  {
   "cell_type": "markdown",
   "id": "657fd93a",
   "metadata": {},
   "source": [
    "# mGAN Tabnet Generator"
   ]
  },
  {
   "cell_type": "code",
   "execution_count": null,
   "id": "517917fc",
   "metadata": {},
   "outputs": [],
   "source": [
    "gen2 = network.GeneratorTabnet(n_features+1).to(device)\n",
    "disc2 = network.Discriminator(n_features+1).to(device)\n",
    "\n",
    "criterion = torch.nn.BCELoss()\n",
    "gen_opt = torch.optim.Adam(gen2.parameters(), lr=0.01, betas=(0.5, 0.999))\n",
    "disc_opt = torch.optim.Adam(disc2.parameters(), lr=0.01, betas=(0.5, 0.999))"
   ]
  },
  {
   "cell_type": "code",
   "execution_count": null,
   "id": "24ac1c5b",
   "metadata": {},
   "outputs": [],
   "source": [
    "#Training the ABC_GAN \n",
    "discLossA2,genLossA2 = ABC_train_test.training_GAN(disc2, gen2,disc_opt,gen_opt,train_data,batch_size,n_epochs,criterion,coeff,abc_mean,variance,bias,device)\n",
    "sb.glue(\"ABC_GAN_2 Generator Loss\",genLossA2)\n",
    "sb.glue(\"ABC_GAN_2 Discriminator Loss\",discLossA2)"
   ]
  },
  {
   "cell_type": "code",
   "execution_count": null,
   "id": "fdc23a26",
   "metadata": {},
   "outputs": [],
   "source": [
    "ABC_GAN2_metrics=ABC_train_test.test_generator(gen2,test_data,coeff,abc_mean,variance,bias,device)\n",
    "sb.glue(\"ABC_GAN_2 Metrics\",ABC_GAN2_metrics)\n",
    "print('MAE:', mean(ABC_GAN2_metrics[1]))"
   ]
  },
  {
   "cell_type": "code",
   "execution_count": null,
   "id": "a50fdf87",
   "metadata": {},
   "outputs": [],
   "source": [
    "sanityChecks.discProbVsError(train_data,disc2,device)\n",
    "sanityChecks.discProbVsError(test_data,disc2,device)"
   ]
  },
  {
   "cell_type": "markdown",
   "id": "130f3a4d",
   "metadata": {},
   "source": [
    "# skip-GAN"
   ]
  },
  {
   "cell_type": "code",
   "execution_count": null,
   "id": "4e43dad1",
   "metadata": {},
   "outputs": [],
   "source": [
    "#Generator\n",
    "gen3 = network.GeneratorWithSkipConnection(n_features+1).to(device)\n",
    "#Discriminator \n",
    "disc3 = network.Discriminator(n_features+1).to(device)\n",
    "\n",
    "criterion = torch.nn.BCELoss()\n",
    "gen_opt = torch.optim.Adam(gen3.parameters(), lr=0.01, betas=(0.5, 0.999))\n",
    "disc_opt = torch.optim.Adam(disc3.parameters(), lr=0.01, betas=(0.5, 0.999))\n"
   ]
  },
  {
   "cell_type": "code",
   "execution_count": null,
   "id": "26acbc37",
   "metadata": {},
   "outputs": [],
   "source": [
    "discLossA3,genLossA3 = ABC_train_test.training_GAN_skip_connection(disc3, gen3,disc_opt,gen_opt,train_data,batch_size, n_epochs,criterion,coeff,abc_mean,variance,bias,device)\n",
    "\n",
    "sb.glue(\"ABC_GAN_3 Generator Loss\",genLossA3)\n",
    "sb.glue(\"ABC_GAN_3 Discriminator Loss\",discLossA3)"
   ]
  },
  {
   "cell_type": "code",
   "execution_count": null,
   "id": "c5e0717b",
   "metadata": {},
   "outputs": [],
   "source": [
    "ABC_GAN3_metrics=ABC_train_test.test_generator(gen3,test_data,coeff,abc_mean,variance,bias,device)\n",
    "\n",
    "sb.glue(\"ABC_GAN_3 Metrics\",ABC_GAN3_metrics)\n",
    "print(\"MAE:\", mean(ABC_GAN3_metrics[1]))"
   ]
  },
  {
   "cell_type": "code",
   "execution_count": null,
   "id": "c8e46b48",
   "metadata": {},
   "outputs": [],
   "source": [
    "sanityChecks.discProbVsError(train_data,disc3,device)\n",
    "sanityChecks.discProbVsError(test_data,disc3,device)"
   ]
  },
  {
   "cell_type": "markdown",
   "id": "130f3a4d",
   "metadata": {},
   "source": [
    "# skip-GAN TabNet generator"
   ]
  },
  {
   "cell_type": "code",
   "execution_count": null,
   "id": "4e43dad1",
   "metadata": {},
   "outputs": [],
   "source": [
    "#Generator\n",
    "gen4 = network.GeneratorTabnetskipConnection(n_features+1).to(device)\n",
    "#Discriminator \n",
    "disc4 = network.Discriminator(n_features+1).to(device)\n",
    "\n",
    "criterion = torch.nn.BCELoss()\n",
    "gen_opt = torch.optim.Adam(gen4.parameters(), lr=0.01, betas=(0.5, 0.999))\n",
    "disc_opt = torch.optim.Adam(disc4.parameters(), lr=0.01, betas=(0.5, 0.999))\n"
   ]
  },
  {
   "cell_type": "code",
   "execution_count": null,
   "id": "26acbc37",
   "metadata": {},
   "outputs": [],
   "source": [
    "discLossA4,genLossA4 = ABC_train_test.training_GAN_skip_connection(disc4, gen4,disc_opt,gen_opt,train_data,batch_size, n_epochs,criterion,coeff,abc_mean,variance,bias,device)\n",
    "\n",
    "sb.glue(\"ABC_GAN_4 Generator Loss\",genLossA4)\n",
    "sb.glue(\"ABC_GAN_4 Discriminator Loss\",discLossA4)"
   ]
  },
  {
   "cell_type": "code",
   "execution_count": null,
   "id": "c5e0717b",
   "metadata": {},
   "outputs": [],
   "source": [
    "ABC_GAN4_metrics=ABC_train_test.test_generator(gen4,test_data,coeff,abc_mean,variance,bias,device)\n",
    "\n",
    "sb.glue(\"ABC_GAN_4 Metrics\",ABC_GAN4_metrics)\n",
    "print(\"MAE:\", mean(ABC_GAN4_metrics[1]))"
   ]
  },
  {
   "cell_type": "code",
   "execution_count": null,
   "id": "c8e46b48",
   "metadata": {},
   "outputs": [],
   "source": [
    "sanityChecks.discProbVsError(train_data,disc4,device)\n",
    "sanityChecks.discProbVsError(test_data,disc4,device)"
   ]
  },
  {
   "cell_type": "markdown",
   "id": "a5bd74c3",
   "metadata": {},
   "source": [
    "## Skip Connection Model Analysis - skipGAN"
   ]
  },
  {
   "cell_type": "markdown",
   "id": "5744a8bf",
   "metadata": {},
   "source": [
    "### Weight Analysis \n",
    "\n",
    "Study the weights of the skip connection layer\n",
    "\n",
    "Equation of the skip connection is \n",
    "\n",
    "$output = y_{gan} * w + y_{abc} * (1-w)$"
   ]
  },
  {
   "cell_type": "code",
   "execution_count": null,
   "id": "52c31dea",
   "metadata": {},
   "outputs": [],
   "source": [
    "print(\"Weight of the node at skip connection\")\n",
    "for name,param in gen3.named_parameters():\n",
    "    if(name == \"skipNode.weight\"):\n",
    "        print(param)\n",
    "        sb.glue(\"Skip Connection Weight\",param.item())\n",
    "        print(\"Skip Connection Weight\",param.item())"
   ]
  },
  {
   "cell_type": "code",
   "execution_count": null,
   "id": "aa18207f",
   "metadata": {},
   "outputs": [],
   "source": [
    "performanceMetrics.modelAnalysis2(ABC_GAN3_metrics)"
   ]
  },
  {
   "cell_type": "markdown",
   "id": "1bfd1fec",
   "metadata": {},
   "source": [
    "## Skip Connection Model Analysis - skipGAN (TabNet Generator)"
   ]
  },
  {
   "cell_type": "markdown",
   "id": "5744a8bf",
   "metadata": {},
   "source": [
    "### Weight Analysis \n",
    "\n",
    "Study the weights of the skip connection layer\n",
    "\n",
    "Equation of the skip connection is \n",
    "\n",
    "$output = y_{gan} * w + y_{abc} * (1-w)$"
   ]
  },
  {
   "cell_type": "code",
   "execution_count": null,
   "id": "52c31dea",
   "metadata": {},
   "outputs": [],
   "source": [
    "print(\"Weight of the node at skip connection\")\n",
    "for name,param in gen4.named_parameters():\n",
    "    if(name == \"skipNode.weight\"):\n",
    "        print(param)\n",
    "        sb.glue(\"Skip Connection Weight\",param.item())\n",
    "        print(\"Skip Connection Weight\",param.item())"
   ]
  },
  {
   "cell_type": "code",
   "execution_count": null,
   "id": "aa18207f",
   "metadata": {},
   "outputs": [],
   "source": [
    "performanceMetrics.modelAnalysis2(ABC_GAN4_metrics)"
   ]
  }
 ],
 "metadata": {
  "kernelspec": {
   "display_name": "Python 3.7.3 64-bit",
   "language": "python",
   "name": "python3"
  },
  "language_info": {
   "codemirror_mode": {
    "name": "ipython",
    "version": 3
   },
   "file_extension": ".py",
   "mimetype": "text/x-python",
   "name": "python",
   "nbconvert_exporter": "python",
   "pygments_lexer": "ipython3",
   "version": "3.7.3"
  },
  "vscode": {
   "interpreter": {
    "hash": "aee8b7b246df8f9039afb4144a1f6fd8d2ca17a180786b69acc140d282b71a49"
   }
  }
 },
 "nbformat": 4,
 "nbformat_minor": 5
}
