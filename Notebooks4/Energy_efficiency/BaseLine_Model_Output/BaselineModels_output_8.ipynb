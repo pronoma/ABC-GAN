{
 "cells": [
  {
   "cell_type": "markdown",
   "id": "0472f2d2",
   "metadata": {
    "papermill": {
     "duration": 0.005814,
     "end_time": "2022-07-24T10:44:01.466575",
     "exception": false,
     "start_time": "2022-07-24T10:44:01.460761",
     "status": "completed"
    },
    "tags": []
   },
   "source": [
    "## Import Libraries "
   ]
  },
  {
   "cell_type": "code",
   "execution_count": 1,
   "id": "0cf45aea",
   "metadata": {
    "execution": {
     "iopub.execute_input": "2022-07-24T10:44:01.475068Z",
     "iopub.status.busy": "2022-07-24T10:44:01.474489Z",
     "iopub.status.idle": "2022-07-24T10:44:01.487066Z",
     "shell.execute_reply": "2022-07-24T10:44:01.486120Z"
    },
    "papermill": {
     "duration": 0.020394,
     "end_time": "2022-07-24T10:44:01.490146",
     "exception": false,
     "start_time": "2022-07-24T10:44:01.469752",
     "status": "completed"
    },
    "tags": []
   },
   "outputs": [],
   "source": [
    "import warnings\n",
    "import sys\n",
    "sys.path.insert(0, '../../src')\n",
    "warnings.filterwarnings('ignore')"
   ]
  },
  {
   "cell_type": "code",
   "execution_count": 2,
   "id": "d815e6a5",
   "metadata": {
    "execution": {
     "iopub.execute_input": "2022-07-24T10:44:01.501409Z",
     "iopub.status.busy": "2022-07-24T10:44:01.501092Z",
     "iopub.status.idle": "2022-07-24T10:44:10.833477Z",
     "shell.execute_reply": "2022-07-24T10:44:10.832704Z"
    },
    "papermill": {
     "duration": 9.358591,
     "end_time": "2022-07-24T10:44:10.851899",
     "exception": false,
     "start_time": "2022-07-24T10:44:01.493308",
     "status": "completed"
    },
    "tags": []
   },
   "outputs": [],
   "source": [
    "import statsModel\n",
    "import scrapbook as sb \n",
    "import torch \n",
    "import statsModel\n",
    "import baselineModels\n",
    "import energyefficiencyDataset\n",
    "import dataset \n",
    "from torch.utils.data import random_split \n",
    "from sklearn.model_selection import train_test_split\n",
    "import numpy as np\n",
    "from sklearn.metrics import mean_squared_error,mean_absolute_error "
   ]
  },
  {
   "cell_type": "markdown",
   "id": "84588658",
   "metadata": {
    "papermill": {
     "duration": 0.003991,
     "end_time": "2022-07-24T10:44:10.920521",
     "exception": false,
     "start_time": "2022-07-24T10:44:10.916530",
     "status": "completed"
    },
    "tags": []
   },
   "source": [
    "## Import Dataset \n"
   ]
  },
  {
   "cell_type": "code",
   "execution_count": 3,
   "id": "3bcc10ff",
   "metadata": {
    "execution": {
     "iopub.execute_input": "2022-07-24T10:44:10.930110Z",
     "iopub.status.busy": "2022-07-24T10:44:10.929754Z",
     "iopub.status.idle": "2022-07-24T10:44:11.795204Z",
     "shell.execute_reply": "2022-07-24T10:44:11.791538Z"
    },
    "papermill": {
     "duration": 0.875437,
     "end_time": "2022-07-24T10:44:11.799478",
     "exception": false,
     "start_time": "2022-07-24T10:44:10.924041",
     "status": "completed"
    },
    "tags": []
   },
   "outputs": [
    {
     "name": "stdout",
     "output_type": "stream",
     "text": [
      "     X1     X2     X3      X4   X5  X6   X7  X8     Y1     Y2\n",
      "0  0.98  514.5  294.0  110.25  7.0   2  0.0   0  15.55  21.33\n",
      "1  0.98  514.5  294.0  110.25  7.0   3  0.0   0  15.55  21.33\n",
      "2  0.98  514.5  294.0  110.25  7.0   4  0.0   0  15.55  21.33\n",
      "3  0.98  514.5  294.0  110.25  7.0   5  0.0   0  15.55  21.33\n",
      "4  0.90  563.5  318.5  122.50  7.0   2  0.0   0  20.84  28.28\n"
     ]
    }
   ],
   "source": [
    "n_features = 13\n",
    "n_samples= 506\n",
    "n_target = 1 \n",
    "X,Y = energyefficiencyDataset.energy_data()"
   ]
  },
  {
   "cell_type": "code",
   "execution_count": 4,
   "id": "0ff44cb9",
   "metadata": {
    "execution": {
     "iopub.execute_input": "2022-07-24T10:44:11.814816Z",
     "iopub.status.busy": "2022-07-24T10:44:11.814100Z",
     "iopub.status.idle": "2022-07-24T10:44:11.824543Z",
     "shell.execute_reply": "2022-07-24T10:44:11.821257Z"
    },
    "papermill": {
     "duration": 0.025086,
     "end_time": "2022-07-24T10:44:11.830670",
     "exception": false,
     "start_time": "2022-07-24T10:44:11.805584",
     "status": "completed"
    },
    "tags": []
   },
   "outputs": [],
   "source": [
    "# Train test split for dataset \n",
    "real_dataset = dataset.CustomDataset(X,Y)\n",
    "X_train, X_test, y_train, y_test = train_test_split(X, Y, test_size=0.2)"
   ]
  },
  {
   "cell_type": "markdown",
   "id": "96b0d62f",
   "metadata": {
    "papermill": {
     "duration": 0.006224,
     "end_time": "2022-07-24T10:44:11.844656",
     "exception": false,
     "start_time": "2022-07-24T10:44:11.838432",
     "status": "completed"
    },
    "tags": []
   },
   "source": [
    "## Stats Model \n",
    "\n"
   ]
  },
  {
   "cell_type": "code",
   "execution_count": 5,
   "id": "e5304ca7",
   "metadata": {
    "execution": {
     "iopub.execute_input": "2022-07-24T10:44:11.856811Z",
     "iopub.status.busy": "2022-07-24T10:44:11.856150Z",
     "iopub.status.idle": "2022-07-24T10:44:12.594424Z",
     "shell.execute_reply": "2022-07-24T10:44:12.591910Z"
    },
    "papermill": {
     "duration": 0.754182,
     "end_time": "2022-07-24T10:44:12.602342",
     "exception": false,
     "start_time": "2022-07-24T10:44:11.848160",
     "status": "completed"
    },
    "tags": []
   },
   "outputs": [
    {
     "name": "stderr",
     "output_type": "stream",
     "text": [
      "No artists with labels found to put in legend.  Note that artists whose label start with an underscore are ignored when legend() is called with no argument.\n"
     ]
    },
    {
     "name": "stdout",
     "output_type": "stream",
     "text": [
      "                                 OLS Regression Results                                \n",
      "=======================================================================================\n",
      "Dep. Variable:                      y   R-squared (uncentered):                   0.914\n",
      "Model:                            OLS   Adj. R-squared (uncentered):              0.913\n",
      "Method:                 Least Squares   F-statistic:                              916.4\n",
      "Date:                Sun, 24 Jul 2022   Prob (F-statistic):                   7.87e-318\n",
      "Time:                        16:14:11   Log-Likelihood:                         -113.87\n",
      "No. Observations:                 614   AIC:                                      241.7\n",
      "Df Residuals:                     607   BIC:                                      272.7\n",
      "Df Model:                           7                                                  \n",
      "Covariance Type:            nonrobust                                                  \n",
      "==============================================================================\n",
      "                 coef    std err          t      P>|t|      [0.025      0.975]\n",
      "------------------------------------------------------------------------------\n",
      "x1            -0.7171      0.122     -5.886      0.000      -0.956      -0.478\n",
      "x2            -0.4115      0.090     -4.594      0.000      -0.587      -0.236\n",
      "x3             0.0676      0.024      2.866      0.004       0.021       0.114\n",
      "x4            -0.4339      0.080     -5.391      0.000      -0.592      -0.276\n",
      "x5             0.6841      0.066     10.363      0.000       0.554       0.814\n",
      "x6            -0.0152      0.012     -1.271      0.204      -0.039       0.008\n",
      "x7             0.2595      0.012     21.565      0.000       0.236       0.283\n",
      "x8             0.0426      0.012      3.526      0.000       0.019       0.066\n",
      "==============================================================================\n",
      "Omnibus:                       15.779   Durbin-Watson:                   2.010\n",
      "Prob(Omnibus):                  0.000   Jarque-Bera (JB):               30.723\n",
      "Skew:                           0.079   Prob(JB):                     2.13e-07\n",
      "Kurtosis:                       4.084   Cond. No.                     1.68e+15\n",
      "==============================================================================\n",
      "\n",
      "Notes:\n",
      "[1] R² is computed without centering (uncentered) since the model does not contain a constant.\n",
      "[2] Standard Errors assume that the covariance matrix of the errors is correctly specified.\n",
      "[3] The smallest eigenvalue is 8.1e-28. This might indicate that there are\n",
      "strong multicollinearity problems or that the design matrix is singular.\n"
     ]
    },
    {
     "data": {
      "image/png": "[encoded data removed]",
      "text/plain": [
       "<Figure size 432x288 with 1 Axes>"
      ]
     },
     "metadata": {
      "needs_background": "light"
     },
     "output_type": "display_data"
    },
    {
     "name": "stdout",
     "output_type": "stream",
     "text": [
      "Performance Metrics\n",
      "Mean Squared Error: 0.08138475649894637\n",
      "Mean Absolute Error: 0.20411830267561162\n",
      "Manhattan distance: 31.434218612044187\n",
      "Euclidean distance: 3.540233396379077\n"
     ]
    },
    {
     "data": {
      "application/scrapbook.scrap.json+json": {
       "data": 0.08138475649894637,
       "encoder": "json",
       "name": "Stats Model MSE",
       "version": 1
      }
     },
     "metadata": {
      "scrapbook": {
       "data": true,
       "display": false,
       "name": "Stats Model MSE"
      }
     },
     "output_type": "display_data"
    },
    {
     "data": {
      "application/scrapbook.scrap.json+json": {
       "data": 0.20411830267561162,
       "encoder": "json",
       "name": "Stats Model MAE",
       "version": 1
      }
     },
     "metadata": {
      "scrapbook": {
       "data": true,
       "display": false,
       "name": "Stats Model MAE"
      }
     },
     "output_type": "display_data"
    },
    {
     "data": {
      "application/scrapbook.scrap.json+json": {
       "data": 31.434218612044187,
       "encoder": "json",
       "name": "Stats Model Manhattan Distance",
       "version": 1
      }
     },
     "metadata": {
      "scrapbook": {
       "data": true,
       "display": false,
       "name": "Stats Model Manhattan Distance"
      }
     },
     "output_type": "display_data"
    },
    {
     "data": {
      "application/scrapbook.scrap.json+json": {
       "data": 3.540233396379077,
       "encoder": "json",
       "name": "Stats Model Euclidean distance",
       "version": 1
      }
     },
     "metadata": {
      "scrapbook": {
       "data": true,
       "display": false,
       "name": "Stats Model Euclidean distance"
      }
     },
     "output_type": "display_data"
    },
    {
     "data": {
      "application/scrapbook.scrap.json+json": {
       "data": [
        -0.7170635987867545,
        -0.4115020531482842,
        0.06759099512566548,
        -0.4339150921392848,
        0.6840545468830393,
        -0.015156923665092354,
        0.2595495132830201,
        0.04256841188713357
       ],
       "encoder": "json",
       "name": "Coefficients",
       "version": 1
      }
     },
     "metadata": {
      "scrapbook": {
       "data": true,
       "display": false,
       "name": "Coefficients"
      }
     },
     "output_type": "display_data"
    },
    {
     "name": "stdout",
     "output_type": "stream",
     "text": [
      "Stats Model MAE 0.20411830267561162\n"
     ]
    }
   ],
   "source": [
    "coefficients , y_pred =statsModel.statsModel(X_train,y_train,X_test,y_test)\n",
    "#Store MSE Value \n",
    "sb.glue(\"Coefficients\",coefficients)\n",
    "mae = mean_absolute_error(y_pred, y_test)\n",
    "print(\"Stats Model MAE\", mae)"
   ]
  },
  {
   "cell_type": "markdown",
   "id": "86e2f6ce",
   "metadata": {
    "papermill": {
     "duration": 0.011687,
     "end_time": "2022-07-24T10:44:12.629728",
     "exception": false,
     "start_time": "2022-07-24T10:44:12.618041",
     "status": "completed"
    },
    "tags": []
   },
   "source": [
    "# Catboost Model "
   ]
  },
  {
   "cell_type": "code",
   "execution_count": 6,
   "id": "19904827",
   "metadata": {
    "execution": {
     "iopub.execute_input": "2022-07-24T10:44:12.657392Z",
     "iopub.status.busy": "2022-07-24T10:44:12.656626Z",
     "iopub.status.idle": "2022-07-24T10:44:13.911033Z",
     "shell.execute_reply": "2022-07-24T10:44:13.910315Z"
    },
    "papermill": {
     "duration": 1.273228,
     "end_time": "2022-07-24T10:44:13.914096",
     "exception": false,
     "start_time": "2022-07-24T10:44:12.640868",
     "status": "completed"
    },
    "tags": []
   },
   "outputs": [
    {
     "name": "stdout",
     "output_type": "stream",
     "text": [
      "Learning rate set to 0.037906\n"
     ]
    },
    {
     "name": "stdout",
     "output_type": "stream",
     "text": [
      "0:\tlearn: 0.9614819\ttotal: 48.7ms\tremaining: 48.7s\n",
      "1:\tlearn: 0.9295948\ttotal: 49.2ms\tremaining: 24.6s\n",
      "2:\tlearn: 0.9025651\ttotal: 49.9ms\tremaining: 16.6s\n",
      "3:\tlearn: 0.8720908\ttotal: 52.1ms\tremaining: 13s\n",
      "4:\tlearn: 0.8447109\ttotal: 52.7ms\tremaining: 10.5s\n",
      "5:\tlearn: 0.8191768\ttotal: 53.1ms\tremaining: 8.8s\n",
      "6:\tlearn: 0.7920892\ttotal: 53.8ms\tremaining: 7.63s\n",
      "7:\tlearn: 0.7658596\ttotal: 54.2ms\tremaining: 6.72s\n",
      "8:\tlearn: 0.7406287\ttotal: 54.9ms\tremaining: 6.05s\n",
      "9:\tlearn: 0.7180484\ttotal: 55.5ms\tremaining: 5.49s\n",
      "10:\tlearn: 0.6970967\ttotal: 55.9ms\tremaining: 5.03s\n",
      "11:\tlearn: 0.6762801\ttotal: 56.5ms\tremaining: 4.65s\n",
      "12:\tlearn: 0.6570168\ttotal: 57.2ms\tremaining: 4.34s\n",
      "13:\tlearn: 0.6369564\ttotal: 58.1ms\tremaining: 4.09s\n",
      "14:\tlearn: 0.6171347\ttotal: 58.8ms\tremaining: 3.86s\n",
      "15:\tlearn: 0.5970234\ttotal: 59.4ms\tremaining: 3.65s\n",
      "16:\tlearn: 0.5785983\ttotal: 59.7ms\tremaining: 3.45s\n",
      "17:\tlearn: 0.5605278\ttotal: 61.2ms\tremaining: 3.34s\n",
      "18:\tlearn: 0.5444946\ttotal: 61.5ms\tremaining: 3.18s\n",
      "19:\tlearn: 0.5268965\ttotal: 62.2ms\tremaining: 3.05s\n",
      "20:\tlearn: 0.5128896\ttotal: 62.4ms\tremaining: 2.91s\n",
      "21:\tlearn: 0.4987779\ttotal: 62.9ms\tremaining: 2.8s\n",
      "22:\tlearn: 0.4836748\ttotal: 63.3ms\tremaining: 2.69s\n",
      "23:\tlearn: 0.4725699\ttotal: 63.6ms\tremaining: 2.58s\n",
      "24:\tlearn: 0.4607319\ttotal: 64ms\tremaining: 2.5s\n",
      "25:\tlearn: 0.4489164\ttotal: 64.5ms\tremaining: 2.42s\n",
      "26:\tlearn: 0.4359046\ttotal: 65.4ms\tremaining: 2.36s\n",
      "27:\tlearn: 0.4226355\ttotal: 65.9ms\tremaining: 2.29s\n",
      "28:\tlearn: 0.4099880\ttotal: 66.3ms\tremaining: 2.22s\n",
      "29:\tlearn: 0.3974138\ttotal: 66.9ms\tremaining: 2.16s\n",
      "30:\tlearn: 0.3855882\ttotal: 67.9ms\tremaining: 2.12s\n",
      "31:\tlearn: 0.3750021\ttotal: 68.6ms\tremaining: 2.07s\n",
      "32:\tlearn: 0.3654822\ttotal: 69.4ms\tremaining: 2.03s\n",
      "33:\tlearn: 0.3552324\ttotal: 70.2ms\tremaining: 2s\n",
      "34:\tlearn: 0.3456811\ttotal: 70.9ms\tremaining: 1.95s\n",
      "35:\tlearn: 0.3364364\ttotal: 71.3ms\tremaining: 1.91s\n",
      "36:\tlearn: 0.3275772\ttotal: 71.8ms\tremaining: 1.87s\n",
      "37:\tlearn: 0.3186591\ttotal: 72.5ms\tremaining: 1.84s\n",
      "38:\tlearn: 0.3099852\ttotal: 73.3ms\tremaining: 1.81s\n",
      "39:\tlearn: 0.3016867\ttotal: 74.5ms\tremaining: 1.79s\n",
      "40:\tlearn: 0.2937252\ttotal: 75.1ms\tremaining: 1.75s\n",
      "41:\tlearn: 0.2855435\ttotal: 75.5ms\tremaining: 1.72s\n",
      "42:\tlearn: 0.2788914\ttotal: 76.1ms\tremaining: 1.69s\n",
      "43:\tlearn: 0.2719175\ttotal: 76.7ms\tremaining: 1.67s\n",
      "44:\tlearn: 0.2645685\ttotal: 79ms\tremaining: 1.68s\n",
      "45:\tlearn: 0.2593805\ttotal: 79.4ms\tremaining: 1.65s\n",
      "46:\tlearn: 0.2554149\ttotal: 79.9ms\tremaining: 1.62s\n",
      "47:\tlearn: 0.2493660\ttotal: 81ms\tremaining: 1.6s\n"
     ]
    },
    {
     "name": "stdout",
     "output_type": "stream",
     "text": [
      "48:\tlearn: 0.2423255\ttotal: 82.9ms\tremaining: 1.61s\n",
      "49:\tlearn: 0.2359237\ttotal: 83.9ms\tremaining: 1.59s\n",
      "50:\tlearn: 0.2301076\ttotal: 85.1ms\tremaining: 1.58s\n",
      "51:\tlearn: 0.2253878\ttotal: 85.9ms\tremaining: 1.57s\n",
      "52:\tlearn: 0.2189950\ttotal: 87.5ms\tremaining: 1.56s\n",
      "53:\tlearn: 0.2136099\ttotal: 88.6ms\tremaining: 1.55s\n",
      "54:\tlearn: 0.2078238\ttotal: 89.4ms\tremaining: 1.54s\n",
      "55:\tlearn: 0.2019812\ttotal: 90.6ms\tremaining: 1.53s\n",
      "56:\tlearn: 0.1964098\ttotal: 92.7ms\tremaining: 1.53s\n",
      "57:\tlearn: 0.1916788\ttotal: 93.4ms\tremaining: 1.52s\n",
      "58:\tlearn: 0.1881943\ttotal: 93.8ms\tremaining: 1.5s\n",
      "59:\tlearn: 0.1831283\ttotal: 94.6ms\tremaining: 1.48s\n",
      "60:\tlearn: 0.1789767\ttotal: 95.3ms\tremaining: 1.47s\n",
      "61:\tlearn: 0.1753616\ttotal: 96.2ms\tremaining: 1.45s\n",
      "62:\tlearn: 0.1721059\ttotal: 97.1ms\tremaining: 1.44s\n",
      "63:\tlearn: 0.1683029\ttotal: 98.1ms\tremaining: 1.43s\n",
      "64:\tlearn: 0.1641604\ttotal: 98.9ms\tremaining: 1.42s\n",
      "65:\tlearn: 0.1599484\ttotal: 100ms\tremaining: 1.42s\n",
      "66:\tlearn: 0.1559861\ttotal: 101ms\tremaining: 1.41s\n",
      "67:\tlearn: 0.1526105\ttotal: 102ms\tremaining: 1.4s\n",
      "68:\tlearn: 0.1500274\ttotal: 102ms\tremaining: 1.38s\n",
      "69:\tlearn: 0.1464365\ttotal: 103ms\tremaining: 1.37s\n",
      "70:\tlearn: 0.1427970\ttotal: 104ms\tremaining: 1.36s\n",
      "71:\tlearn: 0.1401085\ttotal: 105ms\tremaining: 1.35s\n",
      "72:\tlearn: 0.1372396\ttotal: 106ms\tremaining: 1.34s\n",
      "73:\tlearn: 0.1339725\ttotal: 109ms\tremaining: 1.36s\n",
      "74:\tlearn: 0.1316575\ttotal: 109ms\tremaining: 1.35s\n",
      "75:\tlearn: 0.1299644\ttotal: 110ms\tremaining: 1.33s\n",
      "76:\tlearn: 0.1269377\ttotal: 111ms\tremaining: 1.32s\n",
      "77:\tlearn: 0.1252303\ttotal: 111ms\tremaining: 1.31s\n",
      "78:\tlearn: 0.1224912\ttotal: 112ms\tremaining: 1.31s\n",
      "79:\tlearn: 0.1200113\ttotal: 115ms\tremaining: 1.32s\n",
      "80:\tlearn: 0.1173370\ttotal: 117ms\tremaining: 1.32s\n",
      "81:\tlearn: 0.1153514\ttotal: 118ms\tremaining: 1.32s\n",
      "82:\tlearn: 0.1129195\ttotal: 119ms\tremaining: 1.31s\n",
      "83:\tlearn: 0.1106749\ttotal: 120ms\tremaining: 1.31s\n",
      "84:\tlearn: 0.1085112\ttotal: 120ms\tremaining: 1.3s\n",
      "85:\tlearn: 0.1067926\ttotal: 121ms\tremaining: 1.28s\n",
      "86:\tlearn: 0.1048393\ttotal: 122ms\tremaining: 1.28s\n",
      "87:\tlearn: 0.1033185\ttotal: 122ms\tremaining: 1.26s\n",
      "88:\tlearn: 0.1010732\ttotal: 123ms\tremaining: 1.26s\n",
      "89:\tlearn: 0.0997104\ttotal: 124ms\tremaining: 1.25s\n",
      "90:\tlearn: 0.0985984\ttotal: 125ms\tremaining: 1.25s\n",
      "91:\tlearn: 0.0978146\ttotal: 126ms\tremaining: 1.24s\n",
      "92:\tlearn: 0.0959518\ttotal: 127ms\tremaining: 1.24s\n",
      "93:\tlearn: 0.0942712\ttotal: 128ms\tremaining: 1.23s\n",
      "94:\tlearn: 0.0933426\ttotal: 129ms\tremaining: 1.23s\n",
      "95:\tlearn: 0.0917956\ttotal: 130ms\tremaining: 1.23s\n",
      "96:\tlearn: 0.0904672\ttotal: 131ms\tremaining: 1.22s\n",
      "97:\tlearn: 0.0888931\ttotal: 132ms\tremaining: 1.22s\n",
      "98:\tlearn: 0.0872063\ttotal: 133ms\tremaining: 1.21s\n",
      "99:\tlearn: 0.0857997\ttotal: 134ms\tremaining: 1.21s\n",
      "100:\tlearn: 0.0843373\ttotal: 136ms\tremaining: 1.21s\n",
      "101:\tlearn: 0.0831595\ttotal: 137ms\tremaining: 1.21s\n",
      "102:\tlearn: 0.0816593\ttotal: 138ms\tremaining: 1.2s\n",
      "103:\tlearn: 0.0802992\ttotal: 139ms\tremaining: 1.2s\n",
      "104:\tlearn: 0.0791539\ttotal: 139ms\tremaining: 1.19s\n",
      "105:\tlearn: 0.0785237\ttotal: 141ms\tremaining: 1.19s\n",
      "106:\tlearn: 0.0774929\ttotal: 142ms\tremaining: 1.18s\n",
      "107:\tlearn: 0.0769387\ttotal: 142ms\tremaining: 1.17s\n",
      "108:\tlearn: 0.0762432\ttotal: 143ms\tremaining: 1.17s\n",
      "109:\tlearn: 0.0754184\ttotal: 144ms\tremaining: 1.16s\n",
      "110:\tlearn: 0.0740741\ttotal: 145ms\tremaining: 1.16s\n",
      "111:\tlearn: 0.0729167\ttotal: 146ms\tremaining: 1.16s\n",
      "112:\tlearn: 0.0722749\ttotal: 147ms\tremaining: 1.15s\n",
      "113:\tlearn: 0.0711648\ttotal: 148ms\tremaining: 1.15s\n",
      "114:\tlearn: 0.0701954\ttotal: 149ms\tremaining: 1.15s\n"
     ]
    },
    {
     "name": "stdout",
     "output_type": "stream",
     "text": [
      "115:\tlearn: 0.0690969\ttotal: 152ms\tremaining: 1.16s\n",
      "116:\tlearn: 0.0683270\ttotal: 152ms\tremaining: 1.15s\n",
      "117:\tlearn: 0.0672968\ttotal: 153ms\tremaining: 1.14s\n",
      "118:\tlearn: 0.0666050\ttotal: 153ms\tremaining: 1.14s\n",
      "119:\tlearn: 0.0656989\ttotal: 154ms\tremaining: 1.13s\n",
      "120:\tlearn: 0.0649653\ttotal: 155ms\tremaining: 1.13s\n",
      "121:\tlearn: 0.0642970\ttotal: 156ms\tremaining: 1.12s\n",
      "122:\tlearn: 0.0636417\ttotal: 157ms\tremaining: 1.12s\n",
      "123:\tlearn: 0.0630727\ttotal: 158ms\tremaining: 1.11s\n",
      "124:\tlearn: 0.0626655\ttotal: 159ms\tremaining: 1.11s\n",
      "125:\tlearn: 0.0622591\ttotal: 160ms\tremaining: 1.11s\n",
      "126:\tlearn: 0.0616037\ttotal: 160ms\tremaining: 1.1s\n",
      "127:\tlearn: 0.0612193\ttotal: 161ms\tremaining: 1.1s\n",
      "128:\tlearn: 0.0608004\ttotal: 162ms\tremaining: 1.09s\n",
      "129:\tlearn: 0.0601562\ttotal: 162ms\tremaining: 1.08s\n",
      "130:\tlearn: 0.0596341\ttotal: 163ms\tremaining: 1.08s\n",
      "131:\tlearn: 0.0592601\ttotal: 163ms\tremaining: 1.07s\n",
      "132:\tlearn: 0.0588558\ttotal: 163ms\tremaining: 1.06s\n",
      "133:\tlearn: 0.0583949\ttotal: 165ms\tremaining: 1.06s\n",
      "134:\tlearn: 0.0579935\ttotal: 166ms\tremaining: 1.06s\n",
      "135:\tlearn: 0.0574291\ttotal: 167ms\tremaining: 1.06s\n",
      "136:\tlearn: 0.0570736\ttotal: 168ms\tremaining: 1.06s\n",
      "137:\tlearn: 0.0565337\ttotal: 169ms\tremaining: 1.05s\n",
      "138:\tlearn: 0.0561788\ttotal: 170ms\tremaining: 1.05s\n",
      "139:\tlearn: 0.0556257\ttotal: 170ms\tremaining: 1.04s\n",
      "140:\tlearn: 0.0551769\ttotal: 171ms\tremaining: 1.04s\n",
      "141:\tlearn: 0.0547923\ttotal: 171ms\tremaining: 1.03s\n",
      "142:\tlearn: 0.0543794\ttotal: 172ms\tremaining: 1.03s\n",
      "143:\tlearn: 0.0540947\ttotal: 173ms\tremaining: 1.03s\n",
      "144:\tlearn: 0.0537217\ttotal: 174ms\tremaining: 1.03s\n",
      "145:\tlearn: 0.0535411\ttotal: 175ms\tremaining: 1.02s\n",
      "146:\tlearn: 0.0531896\ttotal: 175ms\tremaining: 1.02s\n",
      "147:\tlearn: 0.0528069\ttotal: 176ms\tremaining: 1.01s\n",
      "148:\tlearn: 0.0524840\ttotal: 179ms\tremaining: 1.02s\n",
      "149:\tlearn: 0.0522744\ttotal: 181ms\tremaining: 1.02s\n",
      "150:\tlearn: 0.0520171\ttotal: 181ms\tremaining: 1.02s\n",
      "151:\tlearn: 0.0517290\ttotal: 182ms\tremaining: 1.02s\n",
      "152:\tlearn: 0.0514600\ttotal: 183ms\tremaining: 1.01s\n",
      "153:\tlearn: 0.0511296\ttotal: 184ms\tremaining: 1.01s\n",
      "154:\tlearn: 0.0508401\ttotal: 185ms\tremaining: 1.01s\n",
      "155:\tlearn: 0.0505797\ttotal: 186ms\tremaining: 1s\n",
      "156:\tlearn: 0.0502899\ttotal: 187ms\tremaining: 1s\n"
     ]
    },
    {
     "name": "stdout",
     "output_type": "stream",
     "text": [
      "157:\tlearn: 0.0500975\ttotal: 190ms\tremaining: 1.01s\n",
      "158:\tlearn: 0.0498496\ttotal: 192ms\tremaining: 1.02s\n",
      "159:\tlearn: 0.0496153\ttotal: 193ms\tremaining: 1.01s\n",
      "160:\tlearn: 0.0493756\ttotal: 194ms\tremaining: 1.01s\n",
      "161:\tlearn: 0.0491364\ttotal: 194ms\tremaining: 1s\n",
      "162:\tlearn: 0.0488981\ttotal: 195ms\tremaining: 1s\n",
      "163:\tlearn: 0.0486921\ttotal: 196ms\tremaining: 999ms\n",
      "164:\tlearn: 0.0484973\ttotal: 197ms\tremaining: 996ms\n",
      "165:\tlearn: 0.0483097\ttotal: 198ms\tremaining: 994ms\n",
      "166:\tlearn: 0.0481319\ttotal: 198ms\tremaining: 990ms\n",
      "167:\tlearn: 0.0479388\ttotal: 199ms\tremaining: 986ms\n",
      "168:\tlearn: 0.0477331\ttotal: 200ms\tremaining: 982ms\n",
      "169:\tlearn: 0.0475227\ttotal: 201ms\tremaining: 980ms\n",
      "170:\tlearn: 0.0473647\ttotal: 202ms\tremaining: 980ms\n",
      "171:\tlearn: 0.0472050\ttotal: 203ms\tremaining: 977ms\n",
      "172:\tlearn: 0.0471045\ttotal: 204ms\tremaining: 974ms\n",
      "173:\tlearn: 0.0469448\ttotal: 204ms\tremaining: 970ms\n",
      "174:\tlearn: 0.0467499\ttotal: 205ms\tremaining: 969ms\n",
      "175:\tlearn: 0.0465898\ttotal: 206ms\tremaining: 966ms\n",
      "176:\tlearn: 0.0464748\ttotal: 208ms\tremaining: 966ms\n",
      "177:\tlearn: 0.0463568\ttotal: 209ms\tremaining: 963ms\n",
      "178:\tlearn: 0.0461621\ttotal: 209ms\tremaining: 960ms\n",
      "179:\tlearn: 0.0459792\ttotal: 210ms\tremaining: 956ms\n",
      "180:\tlearn: 0.0458370\ttotal: 210ms\tremaining: 951ms\n",
      "181:\tlearn: 0.0457005\ttotal: 211ms\tremaining: 948ms\n",
      "182:\tlearn: 0.0455446\ttotal: 211ms\tremaining: 944ms\n",
      "183:\tlearn: 0.0453703\ttotal: 213ms\tremaining: 946ms\n",
      "184:\tlearn: 0.0452025\ttotal: 215ms\tremaining: 945ms\n",
      "185:\tlearn: 0.0450759\ttotal: 215ms\tremaining: 940ms\n",
      "186:\tlearn: 0.0448480\ttotal: 215ms\tremaining: 936ms\n",
      "187:\tlearn: 0.0447665\ttotal: 216ms\tremaining: 932ms\n",
      "188:\tlearn: 0.0446540\ttotal: 216ms\tremaining: 928ms\n",
      "189:\tlearn: 0.0443110\ttotal: 217ms\tremaining: 923ms\n",
      "190:\tlearn: 0.0441498\ttotal: 217ms\tremaining: 919ms\n",
      "191:\tlearn: 0.0440626\ttotal: 217ms\tremaining: 915ms\n",
      "192:\tlearn: 0.0439729\ttotal: 220ms\tremaining: 919ms\n",
      "193:\tlearn: 0.0438353\ttotal: 220ms\tremaining: 915ms\n",
      "194:\tlearn: 0.0437304\ttotal: 221ms\tremaining: 914ms\n",
      "195:\tlearn: 0.0435305\ttotal: 223ms\tremaining: 914ms\n",
      "196:\tlearn: 0.0434314\ttotal: 226ms\tremaining: 923ms\n",
      "197:\tlearn: 0.0433294\ttotal: 228ms\tremaining: 922ms\n",
      "198:\tlearn: 0.0432316\ttotal: 229ms\tremaining: 921ms\n",
      "199:\tlearn: 0.0431096\ttotal: 230ms\tremaining: 920ms\n",
      "200:\tlearn: 0.0430319\ttotal: 231ms\tremaining: 917ms\n",
      "201:\tlearn: 0.0429173\ttotal: 231ms\tremaining: 914ms\n",
      "202:\tlearn: 0.0427246\ttotal: 232ms\tremaining: 910ms\n"
     ]
    },
    {
     "name": "stdout",
     "output_type": "stream",
     "text": [
      "203:\tlearn: 0.0426065\ttotal: 233ms\tremaining: 911ms\n",
      "204:\tlearn: 0.0425203\ttotal: 234ms\tremaining: 909ms\n",
      "205:\tlearn: 0.0423405\ttotal: 235ms\tremaining: 907ms\n",
      "206:\tlearn: 0.0421869\ttotal: 236ms\tremaining: 906ms\n",
      "207:\tlearn: 0.0420470\ttotal: 237ms\tremaining: 904ms\n",
      "208:\tlearn: 0.0418947\ttotal: 238ms\tremaining: 902ms\n",
      "209:\tlearn: 0.0417624\ttotal: 239ms\tremaining: 900ms\n",
      "210:\tlearn: 0.0416843\ttotal: 240ms\tremaining: 898ms\n",
      "211:\tlearn: 0.0414079\ttotal: 241ms\tremaining: 896ms\n",
      "212:\tlearn: 0.0412630\ttotal: 242ms\tremaining: 894ms\n",
      "213:\tlearn: 0.0411926\ttotal: 244ms\tremaining: 897ms\n",
      "214:\tlearn: 0.0411252\ttotal: 246ms\tremaining: 898ms\n",
      "215:\tlearn: 0.0410401\ttotal: 247ms\tremaining: 897ms\n",
      "216:\tlearn: 0.0408680\ttotal: 248ms\tremaining: 894ms\n",
      "217:\tlearn: 0.0407696\ttotal: 248ms\tremaining: 891ms\n",
      "218:\tlearn: 0.0406771\ttotal: 249ms\tremaining: 887ms\n",
      "219:\tlearn: 0.0403952\ttotal: 249ms\tremaining: 884ms\n",
      "220:\tlearn: 0.0403116\ttotal: 250ms\tremaining: 880ms\n",
      "221:\tlearn: 0.0401754\ttotal: 251ms\tremaining: 881ms\n",
      "222:\tlearn: 0.0400647\ttotal: 252ms\tremaining: 878ms\n",
      "223:\tlearn: 0.0399019\ttotal: 253ms\tremaining: 876ms\n",
      "224:\tlearn: 0.0397971\ttotal: 254ms\tremaining: 874ms\n",
      "225:\tlearn: 0.0397345\ttotal: 255ms\tremaining: 873ms\n",
      "226:\tlearn: 0.0396454\ttotal: 256ms\tremaining: 871ms\n",
      "227:\tlearn: 0.0395214\ttotal: 257ms\tremaining: 869ms\n",
      "228:\tlearn: 0.0394723\ttotal: 259ms\tremaining: 871ms\n",
      "229:\tlearn: 0.0394150\ttotal: 260ms\tremaining: 870ms\n",
      "230:\tlearn: 0.0393510\ttotal: 261ms\tremaining: 868ms\n",
      "231:\tlearn: 0.0392707\ttotal: 264ms\tremaining: 874ms\n",
      "232:\tlearn: 0.0391981\ttotal: 265ms\tremaining: 871ms\n",
      "233:\tlearn: 0.0390926\ttotal: 266ms\tremaining: 870ms\n",
      "234:\tlearn: 0.0389559\ttotal: 266ms\tremaining: 867ms\n",
      "235:\tlearn: 0.0386808\ttotal: 267ms\tremaining: 865ms\n",
      "236:\tlearn: 0.0384917\ttotal: 268ms\tremaining: 862ms\n",
      "237:\tlearn: 0.0384377\ttotal: 269ms\tremaining: 860ms\n",
      "238:\tlearn: 0.0383190\ttotal: 270ms\tremaining: 859ms\n",
      "239:\tlearn: 0.0382532\ttotal: 271ms\tremaining: 859ms\n",
      "240:\tlearn: 0.0381661\ttotal: 273ms\tremaining: 860ms\n",
      "241:\tlearn: 0.0381169\ttotal: 274ms\tremaining: 858ms\n",
      "242:\tlearn: 0.0378685\ttotal: 276ms\tremaining: 859ms\n",
      "243:\tlearn: 0.0378266\ttotal: 278ms\tremaining: 862ms\n",
      "244:\tlearn: 0.0375935\ttotal: 279ms\tremaining: 860ms\n",
      "245:\tlearn: 0.0374845\ttotal: 280ms\tremaining: 859ms\n",
      "246:\tlearn: 0.0374409\ttotal: 281ms\tremaining: 857ms\n",
      "247:\tlearn: 0.0373275\ttotal: 282ms\tremaining: 854ms\n",
      "248:\tlearn: 0.0371675\ttotal: 283ms\tremaining: 853ms\n",
      "249:\tlearn: 0.0370433\ttotal: 283ms\tremaining: 850ms\n",
      "250:\tlearn: 0.0369249\ttotal: 284ms\tremaining: 848ms\n",
      "251:\tlearn: 0.0368509\ttotal: 285ms\tremaining: 847ms\n",
      "252:\tlearn: 0.0367420\ttotal: 286ms\tremaining: 845ms\n",
      "253:\tlearn: 0.0366573\ttotal: 287ms\tremaining: 842ms\n",
      "254:\tlearn: 0.0364738\ttotal: 287ms\tremaining: 840ms\n",
      "255:\tlearn: 0.0362934\ttotal: 288ms\tremaining: 837ms\n",
      "256:\tlearn: 0.0361701\ttotal: 288ms\tremaining: 834ms\n",
      "257:\tlearn: 0.0360786\ttotal: 289ms\tremaining: 832ms\n",
      "258:\tlearn: 0.0359867\ttotal: 290ms\tremaining: 829ms\n",
      "259:\tlearn: 0.0359012\ttotal: 290ms\tremaining: 826ms\n",
      "260:\tlearn: 0.0358030\ttotal: 291ms\tremaining: 824ms\n",
      "261:\tlearn: 0.0356016\ttotal: 292ms\tremaining: 822ms\n",
      "262:\tlearn: 0.0355116\ttotal: 293ms\tremaining: 821ms\n",
      "263:\tlearn: 0.0353995\ttotal: 294ms\tremaining: 819ms\n",
      "264:\tlearn: 0.0353345\ttotal: 295ms\tremaining: 817ms\n",
      "265:\tlearn: 0.0352636\ttotal: 296ms\tremaining: 816ms\n",
      "266:\tlearn: 0.0351715\ttotal: 297ms\tremaining: 816ms\n",
      "267:\tlearn: 0.0351074\ttotal: 298ms\tremaining: 813ms\n",
      "268:\tlearn: 0.0349331\ttotal: 300ms\tremaining: 815ms\n",
      "269:\tlearn: 0.0348555\ttotal: 301ms\tremaining: 814ms\n",
      "270:\tlearn: 0.0347904\ttotal: 302ms\tremaining: 812ms\n",
      "271:\tlearn: 0.0346862\ttotal: 303ms\tremaining: 810ms\n"
     ]
    },
    {
     "name": "stdout",
     "output_type": "stream",
     "text": [
      "272:\tlearn: 0.0345663\ttotal: 313ms\tremaining: 833ms\n",
      "273:\tlearn: 0.0343969\ttotal: 314ms\tremaining: 831ms\n",
      "274:\tlearn: 0.0343640\ttotal: 314ms\tremaining: 829ms\n",
      "275:\tlearn: 0.0343034\ttotal: 315ms\tremaining: 825ms\n",
      "276:\tlearn: 0.0341717\ttotal: 315ms\tremaining: 823ms\n",
      "277:\tlearn: 0.0340980\ttotal: 319ms\tremaining: 829ms\n",
      "278:\tlearn: 0.0340498\ttotal: 320ms\tremaining: 828ms\n",
      "279:\tlearn: 0.0339570\ttotal: 321ms\tremaining: 826ms\n",
      "280:\tlearn: 0.0338991\ttotal: 322ms\tremaining: 824ms\n",
      "281:\tlearn: 0.0337774\ttotal: 323ms\tremaining: 822ms\n",
      "282:\tlearn: 0.0337059\ttotal: 324ms\tremaining: 820ms\n",
      "283:\tlearn: 0.0335566\ttotal: 325ms\tremaining: 819ms\n",
      "284:\tlearn: 0.0334716\ttotal: 326ms\tremaining: 817ms\n",
      "285:\tlearn: 0.0334328\ttotal: 326ms\tremaining: 814ms\n",
      "286:\tlearn: 0.0333654\ttotal: 327ms\tremaining: 812ms\n",
      "287:\tlearn: 0.0333292\ttotal: 328ms\tremaining: 812ms\n",
      "288:\tlearn: 0.0332664\ttotal: 329ms\tremaining: 809ms\n",
      "289:\tlearn: 0.0331318\ttotal: 330ms\tremaining: 808ms\n",
      "290:\tlearn: 0.0330054\ttotal: 331ms\tremaining: 807ms\n",
      "291:\tlearn: 0.0329658\ttotal: 332ms\tremaining: 805ms\n",
      "292:\tlearn: 0.0328452\ttotal: 333ms\tremaining: 804ms\n",
      "293:\tlearn: 0.0327615\ttotal: 334ms\tremaining: 802ms\n",
      "294:\tlearn: 0.0326302\ttotal: 336ms\tremaining: 803ms\n",
      "295:\tlearn: 0.0325515\ttotal: 338ms\tremaining: 803ms\n",
      "296:\tlearn: 0.0324645\ttotal: 338ms\tremaining: 801ms\n",
      "297:\tlearn: 0.0324221\ttotal: 339ms\tremaining: 800ms\n",
      "298:\tlearn: 0.0323362\ttotal: 340ms\tremaining: 797ms\n",
      "299:\tlearn: 0.0322547\ttotal: 341ms\tremaining: 797ms\n",
      "300:\tlearn: 0.0321549\ttotal: 342ms\tremaining: 795ms\n",
      "301:\tlearn: 0.0321187\ttotal: 343ms\tremaining: 793ms\n",
      "302:\tlearn: 0.0320935\ttotal: 344ms\tremaining: 791ms\n",
      "303:\tlearn: 0.0319877\ttotal: 345ms\tremaining: 790ms\n"
     ]
    },
    {
     "name": "stdout",
     "output_type": "stream",
     "text": [
      "304:\tlearn: 0.0318953\ttotal: 347ms\tremaining: 790ms\n",
      "305:\tlearn: 0.0318350\ttotal: 349ms\tremaining: 792ms\n",
      "306:\tlearn: 0.0317233\ttotal: 350ms\tremaining: 790ms\n",
      "307:\tlearn: 0.0316398\ttotal: 351ms\tremaining: 789ms\n",
      "308:\tlearn: 0.0315292\ttotal: 352ms\tremaining: 787ms\n",
      "309:\tlearn: 0.0314549\ttotal: 353ms\tremaining: 785ms\n",
      "310:\tlearn: 0.0313973\ttotal: 356ms\tremaining: 788ms\n",
      "311:\tlearn: 0.0313640\ttotal: 357ms\tremaining: 788ms\n",
      "312:\tlearn: 0.0312975\ttotal: 358ms\tremaining: 787ms\n",
      "313:\tlearn: 0.0311628\ttotal: 359ms\tremaining: 784ms\n",
      "314:\tlearn: 0.0311027\ttotal: 360ms\tremaining: 782ms\n",
      "315:\tlearn: 0.0310624\ttotal: 361ms\tremaining: 781ms\n",
      "316:\tlearn: 0.0309961\ttotal: 362ms\tremaining: 779ms\n",
      "317:\tlearn: 0.0309659\ttotal: 362ms\tremaining: 777ms\n",
      "318:\tlearn: 0.0308652\ttotal: 364ms\tremaining: 776ms\n",
      "319:\tlearn: 0.0308083\ttotal: 365ms\tremaining: 775ms\n",
      "320:\tlearn: 0.0307211\ttotal: 366ms\tremaining: 774ms\n",
      "321:\tlearn: 0.0306843\ttotal: 368ms\tremaining: 775ms\n",
      "322:\tlearn: 0.0306149\ttotal: 369ms\tremaining: 773ms\n",
      "323:\tlearn: 0.0305514\ttotal: 370ms\tremaining: 771ms\n",
      "324:\tlearn: 0.0304958\ttotal: 370ms\tremaining: 769ms\n",
      "325:\tlearn: 0.0304356\ttotal: 372ms\tremaining: 769ms\n",
      "326:\tlearn: 0.0303927\ttotal: 373ms\tremaining: 767ms\n",
      "327:\tlearn: 0.0303558\ttotal: 373ms\tremaining: 765ms\n",
      "328:\tlearn: 0.0302662\ttotal: 374ms\tremaining: 762ms\n",
      "329:\tlearn: 0.0301905\ttotal: 375ms\tremaining: 760ms\n",
      "330:\tlearn: 0.0301467\ttotal: 375ms\tremaining: 759ms\n",
      "331:\tlearn: 0.0300809\ttotal: 376ms\tremaining: 757ms\n",
      "332:\tlearn: 0.0300265\ttotal: 377ms\tremaining: 755ms\n",
      "333:\tlearn: 0.0299696\ttotal: 378ms\tremaining: 753ms\n",
      "334:\tlearn: 0.0299277\ttotal: 378ms\tremaining: 751ms\n",
      "335:\tlearn: 0.0298898\ttotal: 379ms\tremaining: 749ms\n",
      "336:\tlearn: 0.0298297\ttotal: 379ms\tremaining: 746ms\n",
      "337:\tlearn: 0.0297789\ttotal: 380ms\tremaining: 744ms\n",
      "338:\tlearn: 0.0297389\ttotal: 380ms\tremaining: 742ms\n",
      "339:\tlearn: 0.0297097\ttotal: 381ms\tremaining: 739ms\n",
      "340:\tlearn: 0.0296742\ttotal: 382ms\tremaining: 738ms\n",
      "341:\tlearn: 0.0296455\ttotal: 383ms\tremaining: 736ms\n",
      "342:\tlearn: 0.0296096\ttotal: 383ms\tremaining: 735ms\n",
      "343:\tlearn: 0.0295059\ttotal: 384ms\tremaining: 733ms\n",
      "344:\tlearn: 0.0294811\ttotal: 385ms\tremaining: 731ms\n",
      "345:\tlearn: 0.0294532\ttotal: 386ms\tremaining: 729ms\n",
      "346:\tlearn: 0.0293963\ttotal: 387ms\tremaining: 728ms\n",
      "347:\tlearn: 0.0293780\ttotal: 388ms\tremaining: 726ms\n",
      "348:\tlearn: 0.0293235\ttotal: 389ms\tremaining: 726ms\n",
      "349:\tlearn: 0.0292328\ttotal: 390ms\tremaining: 725ms\n",
      "350:\tlearn: 0.0292001\ttotal: 391ms\tremaining: 723ms\n",
      "351:\tlearn: 0.0291570\ttotal: 392ms\tremaining: 721ms\n"
     ]
    },
    {
     "name": "stdout",
     "output_type": "stream",
     "text": [
      "352:\tlearn: 0.0291347\ttotal: 394ms\tremaining: 721ms\n",
      "353:\tlearn: 0.0290907\ttotal: 395ms\tremaining: 720ms\n",
      "354:\tlearn: 0.0290257\ttotal: 396ms\tremaining: 719ms\n",
      "355:\tlearn: 0.0289892\ttotal: 396ms\tremaining: 717ms\n",
      "356:\tlearn: 0.0289659\ttotal: 397ms\tremaining: 715ms\n",
      "357:\tlearn: 0.0288545\ttotal: 398ms\tremaining: 714ms\n",
      "358:\tlearn: 0.0287784\ttotal: 399ms\tremaining: 713ms\n",
      "359:\tlearn: 0.0287329\ttotal: 401ms\tremaining: 712ms\n",
      "360:\tlearn: 0.0286866\ttotal: 401ms\tremaining: 710ms\n",
      "361:\tlearn: 0.0286309\ttotal: 402ms\tremaining: 709ms\n",
      "362:\tlearn: 0.0285483\ttotal: 403ms\tremaining: 707ms\n",
      "363:\tlearn: 0.0284978\ttotal: 405ms\tremaining: 707ms\n",
      "364:\tlearn: 0.0284696\ttotal: 407ms\tremaining: 708ms\n",
      "365:\tlearn: 0.0284303\ttotal: 407ms\tremaining: 706ms\n",
      "366:\tlearn: 0.0283643\ttotal: 408ms\tremaining: 703ms\n",
      "367:\tlearn: 0.0283100\ttotal: 408ms\tremaining: 701ms\n",
      "368:\tlearn: 0.0282778\ttotal: 408ms\tremaining: 698ms\n",
      "369:\tlearn: 0.0282579\ttotal: 408ms\tremaining: 696ms\n",
      "370:\tlearn: 0.0281940\ttotal: 409ms\tremaining: 693ms\n",
      "371:\tlearn: 0.0281051\ttotal: 410ms\tremaining: 692ms\n",
      "372:\tlearn: 0.0280533\ttotal: 410ms\tremaining: 689ms\n",
      "373:\tlearn: 0.0279943\ttotal: 411ms\tremaining: 688ms\n",
      "374:\tlearn: 0.0279583\ttotal: 411ms\tremaining: 685ms\n",
      "375:\tlearn: 0.0279015\ttotal: 411ms\tremaining: 683ms\n",
      "376:\tlearn: 0.0278416\ttotal: 412ms\tremaining: 681ms\n",
      "377:\tlearn: 0.0277758\ttotal: 412ms\tremaining: 679ms\n",
      "378:\tlearn: 0.0277515\ttotal: 413ms\tremaining: 677ms\n",
      "379:\tlearn: 0.0277119\ttotal: 415ms\tremaining: 678ms\n",
      "380:\tlearn: 0.0276769\ttotal: 417ms\tremaining: 677ms\n",
      "381:\tlearn: 0.0276253\ttotal: 417ms\tremaining: 675ms\n",
      "382:\tlearn: 0.0275729\ttotal: 418ms\tremaining: 674ms\n",
      "383:\tlearn: 0.0275040\ttotal: 419ms\tremaining: 672ms\n",
      "384:\tlearn: 0.0274537\ttotal: 420ms\tremaining: 670ms\n",
      "385:\tlearn: 0.0274353\ttotal: 420ms\tremaining: 669ms\n",
      "386:\tlearn: 0.0274127\ttotal: 421ms\tremaining: 667ms\n",
      "387:\tlearn: 0.0273899\ttotal: 422ms\tremaining: 666ms\n",
      "388:\tlearn: 0.0273410\ttotal: 423ms\tremaining: 664ms\n",
      "389:\tlearn: 0.0272895\ttotal: 424ms\tremaining: 662ms\n",
      "390:\tlearn: 0.0272339\ttotal: 424ms\tremaining: 661ms\n",
      "391:\tlearn: 0.0271839\ttotal: 425ms\tremaining: 659ms\n",
      "392:\tlearn: 0.0271459\ttotal: 426ms\tremaining: 658ms\n",
      "393:\tlearn: 0.0270969\ttotal: 427ms\tremaining: 656ms\n",
      "394:\tlearn: 0.0270779\ttotal: 428ms\tremaining: 655ms\n",
      "395:\tlearn: 0.0269873\ttotal: 429ms\tremaining: 654ms\n",
      "396:\tlearn: 0.0269742\ttotal: 431ms\tremaining: 654ms\n",
      "397:\tlearn: 0.0269546\ttotal: 432ms\tremaining: 653ms\n",
      "398:\tlearn: 0.0269204\ttotal: 434ms\tremaining: 653ms\n",
      "399:\tlearn: 0.0268874\ttotal: 435ms\tremaining: 652ms\n",
      "400:\tlearn: 0.0268349\ttotal: 435ms\tremaining: 651ms\n",
      "401:\tlearn: 0.0267978\ttotal: 437ms\tremaining: 649ms\n",
      "402:\tlearn: 0.0267670\ttotal: 437ms\tremaining: 648ms\n",
      "403:\tlearn: 0.0267481\ttotal: 439ms\tremaining: 648ms\n",
      "404:\tlearn: 0.0267000\ttotal: 440ms\tremaining: 647ms\n",
      "405:\tlearn: 0.0266650\ttotal: 441ms\tremaining: 645ms\n",
      "406:\tlearn: 0.0266180\ttotal: 441ms\tremaining: 642ms\n",
      "407:\tlearn: 0.0265576\ttotal: 442ms\tremaining: 641ms\n",
      "408:\tlearn: 0.0265259\ttotal: 443ms\tremaining: 640ms\n",
      "409:\tlearn: 0.0264809\ttotal: 443ms\tremaining: 638ms\n",
      "410:\tlearn: 0.0264376\ttotal: 444ms\tremaining: 636ms\n",
      "411:\tlearn: 0.0263938\ttotal: 444ms\tremaining: 634ms\n",
      "412:\tlearn: 0.0263565\ttotal: 445ms\tremaining: 632ms\n",
      "413:\tlearn: 0.0263083\ttotal: 445ms\tremaining: 630ms\n",
      "414:\tlearn: 0.0262760\ttotal: 445ms\tremaining: 628ms\n",
      "415:\tlearn: 0.0262122\ttotal: 446ms\tremaining: 625ms\n",
      "416:\tlearn: 0.0261332\ttotal: 446ms\tremaining: 623ms\n",
      "417:\tlearn: 0.0261003\ttotal: 446ms\tremaining: 621ms\n",
      "418:\tlearn: 0.0260696\ttotal: 447ms\tremaining: 619ms\n",
      "419:\tlearn: 0.0259959\ttotal: 447ms\tremaining: 617ms\n",
      "420:\tlearn: 0.0259492\ttotal: 448ms\tremaining: 617ms\n",
      "421:\tlearn: 0.0259084\ttotal: 450ms\tremaining: 616ms\n",
      "422:\tlearn: 0.0258826\ttotal: 451ms\tremaining: 615ms\n",
      "423:\tlearn: 0.0258396\ttotal: 452ms\tremaining: 614ms\n",
      "424:\tlearn: 0.0257971\ttotal: 453ms\tremaining: 612ms\n",
      "425:\tlearn: 0.0257830\ttotal: 456ms\tremaining: 615ms\n",
      "426:\tlearn: 0.0257536\ttotal: 458ms\tremaining: 615ms\n",
      "427:\tlearn: 0.0257404\ttotal: 460ms\tremaining: 615ms\n",
      "428:\tlearn: 0.0256961\ttotal: 461ms\tremaining: 614ms\n",
      "429:\tlearn: 0.0256440\ttotal: 462ms\tremaining: 613ms\n",
      "430:\tlearn: 0.0255631\ttotal: 463ms\tremaining: 611ms\n",
      "431:\tlearn: 0.0255183\ttotal: 464ms\tremaining: 609ms\n",
      "432:\tlearn: 0.0254876\ttotal: 464ms\tremaining: 608ms\n",
      "433:\tlearn: 0.0254524\ttotal: 464ms\tremaining: 606ms\n",
      "434:\tlearn: 0.0254163\ttotal: 465ms\tremaining: 604ms\n",
      "435:\tlearn: 0.0253804\ttotal: 466ms\tremaining: 602ms\n",
      "436:\tlearn: 0.0253538\ttotal: 466ms\tremaining: 601ms\n",
      "437:\tlearn: 0.0253052\ttotal: 467ms\tremaining: 600ms\n",
      "438:\tlearn: 0.0252764\ttotal: 468ms\tremaining: 599ms\n",
      "439:\tlearn: 0.0252344\ttotal: 470ms\tremaining: 598ms\n",
      "440:\tlearn: 0.0252142\ttotal: 470ms\tremaining: 596ms\n",
      "441:\tlearn: 0.0251709\ttotal: 471ms\tremaining: 595ms\n"
     ]
    },
    {
     "name": "stdout",
     "output_type": "stream",
     "text": [
      "442:\tlearn: 0.0251400\ttotal: 473ms\tremaining: 595ms\n",
      "443:\tlearn: 0.0250639\ttotal: 474ms\tremaining: 594ms\n",
      "444:\tlearn: 0.0249915\ttotal: 476ms\tremaining: 594ms\n",
      "445:\tlearn: 0.0249642\ttotal: 477ms\tremaining: 593ms\n",
      "446:\tlearn: 0.0249231\ttotal: 478ms\tremaining: 591ms\n",
      "447:\tlearn: 0.0248541\ttotal: 478ms\tremaining: 590ms\n",
      "448:\tlearn: 0.0248150\ttotal: 479ms\tremaining: 588ms\n",
      "449:\tlearn: 0.0247877\ttotal: 480ms\tremaining: 587ms\n",
      "450:\tlearn: 0.0247243\ttotal: 482ms\tremaining: 587ms\n",
      "451:\tlearn: 0.0246840\ttotal: 483ms\tremaining: 585ms\n",
      "452:\tlearn: 0.0246670\ttotal: 484ms\tremaining: 585ms\n",
      "453:\tlearn: 0.0246412\ttotal: 485ms\tremaining: 583ms\n",
      "454:\tlearn: 0.0245760\ttotal: 485ms\tremaining: 581ms\n",
      "455:\tlearn: 0.0245556\ttotal: 486ms\tremaining: 580ms\n",
      "456:\tlearn: 0.0245346\ttotal: 487ms\tremaining: 579ms\n",
      "457:\tlearn: 0.0245046\ttotal: 488ms\tremaining: 577ms\n",
      "458:\tlearn: 0.0244928\ttotal: 489ms\tremaining: 576ms\n",
      "459:\tlearn: 0.0244463\ttotal: 490ms\tremaining: 575ms\n",
      "460:\tlearn: 0.0244260\ttotal: 491ms\tremaining: 574ms\n",
      "461:\tlearn: 0.0244030\ttotal: 492ms\tremaining: 573ms\n",
      "462:\tlearn: 0.0243376\ttotal: 493ms\tremaining: 572ms\n",
      "463:\tlearn: 0.0243031\ttotal: 494ms\tremaining: 570ms\n",
      "464:\tlearn: 0.0242654\ttotal: 494ms\tremaining: 569ms\n",
      "465:\tlearn: 0.0242459\ttotal: 496ms\tremaining: 568ms\n",
      "466:\tlearn: 0.0242340\ttotal: 497ms\tremaining: 567ms\n",
      "467:\tlearn: 0.0241887\ttotal: 497ms\tremaining: 565ms\n",
      "468:\tlearn: 0.0241471\ttotal: 498ms\tremaining: 564ms\n",
      "469:\tlearn: 0.0241127\ttotal: 499ms\tremaining: 563ms\n",
      "470:\tlearn: 0.0240664\ttotal: 500ms\tremaining: 562ms\n",
      "471:\tlearn: 0.0240062\ttotal: 501ms\tremaining: 560ms\n",
      "472:\tlearn: 0.0239820\ttotal: 502ms\tremaining: 559ms\n",
      "473:\tlearn: 0.0239382\ttotal: 503ms\tremaining: 558ms\n",
      "474:\tlearn: 0.0238988\ttotal: 504ms\tremaining: 557ms\n",
      "475:\tlearn: 0.0238813\ttotal: 505ms\tremaining: 555ms\n"
     ]
    },
    {
     "name": "stdout",
     "output_type": "stream",
     "text": [
      "476:\tlearn: 0.0238198\ttotal: 507ms\tremaining: 556ms\n",
      "477:\tlearn: 0.0237850\ttotal: 508ms\tremaining: 555ms\n",
      "478:\tlearn: 0.0237510\ttotal: 510ms\tremaining: 554ms\n",
      "479:\tlearn: 0.0237319\ttotal: 511ms\tremaining: 553ms\n",
      "480:\tlearn: 0.0236956\ttotal: 512ms\tremaining: 552ms\n",
      "481:\tlearn: 0.0236637\ttotal: 513ms\tremaining: 551ms\n",
      "482:\tlearn: 0.0236407\ttotal: 514ms\tremaining: 551ms\n",
      "483:\tlearn: 0.0236256\ttotal: 516ms\tremaining: 550ms\n",
      "484:\tlearn: 0.0235879\ttotal: 517ms\tremaining: 548ms\n",
      "485:\tlearn: 0.0235660\ttotal: 517ms\tremaining: 547ms\n",
      "486:\tlearn: 0.0235566\ttotal: 518ms\tremaining: 546ms\n",
      "487:\tlearn: 0.0235360\ttotal: 518ms\tremaining: 544ms\n",
      "488:\tlearn: 0.0235257\ttotal: 519ms\tremaining: 543ms\n",
      "489:\tlearn: 0.0235074\ttotal: 520ms\tremaining: 541ms\n",
      "490:\tlearn: 0.0234448\ttotal: 520ms\tremaining: 539ms\n",
      "491:\tlearn: 0.0234115\ttotal: 521ms\tremaining: 538ms\n",
      "492:\tlearn: 0.0233743\ttotal: 523ms\tremaining: 538ms\n",
      "493:\tlearn: 0.0233349\ttotal: 524ms\tremaining: 536ms\n",
      "494:\tlearn: 0.0233038\ttotal: 525ms\tremaining: 536ms\n",
      "495:\tlearn: 0.0232465\ttotal: 527ms\tremaining: 535ms\n",
      "496:\tlearn: 0.0232260\ttotal: 527ms\tremaining: 534ms\n",
      "497:\tlearn: 0.0232055\ttotal: 528ms\tremaining: 532ms\n",
      "498:\tlearn: 0.0231700\ttotal: 532ms\tremaining: 534ms\n",
      "499:\tlearn: 0.0231406\ttotal: 533ms\tremaining: 533ms\n",
      "500:\tlearn: 0.0231105\ttotal: 533ms\tremaining: 531ms\n",
      "501:\tlearn: 0.0230914\ttotal: 534ms\tremaining: 530ms\n",
      "502:\tlearn: 0.0230720\ttotal: 535ms\tremaining: 528ms\n",
      "503:\tlearn: 0.0230528\ttotal: 536ms\tremaining: 527ms\n",
      "504:\tlearn: 0.0230160\ttotal: 537ms\tremaining: 526ms\n",
      "505:\tlearn: 0.0230023\ttotal: 538ms\tremaining: 525ms\n",
      "506:\tlearn: 0.0229853\ttotal: 539ms\tremaining: 524ms\n",
      "507:\tlearn: 0.0229538\ttotal: 539ms\tremaining: 522ms\n",
      "508:\tlearn: 0.0229411\ttotal: 540ms\tremaining: 521ms\n",
      "509:\tlearn: 0.0229277\ttotal: 542ms\tremaining: 520ms\n",
      "510:\tlearn: 0.0228874\ttotal: 542ms\tremaining: 519ms\n",
      "511:\tlearn: 0.0228464\ttotal: 544ms\tremaining: 518ms\n",
      "512:\tlearn: 0.0228343\ttotal: 545ms\tremaining: 517ms\n",
      "513:\tlearn: 0.0227984\ttotal: 546ms\tremaining: 516ms\n"
     ]
    },
    {
     "name": "stdout",
     "output_type": "stream",
     "text": [
      "514:\tlearn: 0.0227608\ttotal: 557ms\tremaining: 525ms\n",
      "515:\tlearn: 0.0227494\ttotal: 558ms\tremaining: 523ms\n",
      "516:\tlearn: 0.0227289\ttotal: 559ms\tremaining: 523ms\n",
      "517:\tlearn: 0.0227100\ttotal: 560ms\tremaining: 521ms\n",
      "518:\tlearn: 0.0226893\ttotal: 561ms\tremaining: 520ms\n",
      "519:\tlearn: 0.0226686\ttotal: 562ms\tremaining: 519ms\n",
      "520:\tlearn: 0.0226135\ttotal: 563ms\tremaining: 517ms\n",
      "521:\tlearn: 0.0225786\ttotal: 564ms\tremaining: 517ms\n",
      "522:\tlearn: 0.0225435\ttotal: 565ms\tremaining: 516ms\n",
      "523:\tlearn: 0.0225269\ttotal: 566ms\tremaining: 514ms\n",
      "524:\tlearn: 0.0224755\ttotal: 567ms\tremaining: 513ms\n",
      "525:\tlearn: 0.0224411\ttotal: 568ms\tremaining: 512ms\n",
      "526:\tlearn: 0.0224113\ttotal: 569ms\tremaining: 511ms\n",
      "527:\tlearn: 0.0223724\ttotal: 570ms\tremaining: 510ms\n",
      "528:\tlearn: 0.0223494\ttotal: 571ms\tremaining: 508ms\n",
      "529:\tlearn: 0.0222974\ttotal: 572ms\tremaining: 508ms\n",
      "530:\tlearn: 0.0222460\ttotal: 573ms\tremaining: 506ms\n",
      "531:\tlearn: 0.0221940\ttotal: 574ms\tremaining: 505ms\n",
      "532:\tlearn: 0.0221681\ttotal: 575ms\tremaining: 504ms\n",
      "533:\tlearn: 0.0221192\ttotal: 576ms\tremaining: 503ms\n",
      "534:\tlearn: 0.0220914\ttotal: 577ms\tremaining: 501ms\n",
      "535:\tlearn: 0.0220585\ttotal: 578ms\tremaining: 501ms\n",
      "536:\tlearn: 0.0220132\ttotal: 579ms\tremaining: 499ms\n",
      "537:\tlearn: 0.0219665\ttotal: 580ms\tremaining: 498ms\n",
      "538:\tlearn: 0.0219440\ttotal: 581ms\tremaining: 497ms\n",
      "539:\tlearn: 0.0218984\ttotal: 582ms\tremaining: 496ms\n",
      "540:\tlearn: 0.0218837\ttotal: 583ms\tremaining: 495ms\n",
      "541:\tlearn: 0.0218648\ttotal: 583ms\tremaining: 493ms\n",
      "542:\tlearn: 0.0218317\ttotal: 584ms\tremaining: 491ms\n",
      "543:\tlearn: 0.0218018\ttotal: 584ms\tremaining: 490ms\n",
      "544:\tlearn: 0.0217619\ttotal: 585ms\tremaining: 488ms\n",
      "545:\tlearn: 0.0217468\ttotal: 585ms\tremaining: 487ms\n",
      "546:\tlearn: 0.0217313\ttotal: 586ms\tremaining: 485ms\n",
      "547:\tlearn: 0.0217148\ttotal: 586ms\tremaining: 483ms\n",
      "548:\tlearn: 0.0217067\ttotal: 587ms\tremaining: 482ms\n",
      "549:\tlearn: 0.0216899\ttotal: 587ms\tremaining: 481ms\n",
      "550:\tlearn: 0.0216635\ttotal: 588ms\tremaining: 480ms\n",
      "551:\tlearn: 0.0216485\ttotal: 589ms\tremaining: 478ms\n",
      "552:\tlearn: 0.0216330\ttotal: 591ms\tremaining: 478ms\n",
      "553:\tlearn: 0.0216181\ttotal: 592ms\tremaining: 477ms\n",
      "554:\tlearn: 0.0216012\ttotal: 593ms\tremaining: 475ms\n",
      "555:\tlearn: 0.0215706\ttotal: 594ms\tremaining: 474ms\n",
      "556:\tlearn: 0.0215604\ttotal: 595ms\tremaining: 473ms\n",
      "557:\tlearn: 0.0215289\ttotal: 596ms\tremaining: 472ms\n",
      "558:\tlearn: 0.0214795\ttotal: 598ms\tremaining: 471ms\n",
      "559:\tlearn: 0.0214325\ttotal: 598ms\tremaining: 470ms\n",
      "560:\tlearn: 0.0214190\ttotal: 598ms\tremaining: 468ms\n",
      "561:\tlearn: 0.0214062\ttotal: 599ms\tremaining: 467ms\n",
      "562:\tlearn: 0.0213753\ttotal: 599ms\tremaining: 465ms\n",
      "563:\tlearn: 0.0213610\ttotal: 599ms\tremaining: 463ms\n",
      "564:\tlearn: 0.0213403\ttotal: 600ms\tremaining: 462ms\n",
      "565:\tlearn: 0.0213107\ttotal: 600ms\tremaining: 460ms\n",
      "566:\tlearn: 0.0212944\ttotal: 601ms\tremaining: 459ms\n",
      "567:\tlearn: 0.0212719\ttotal: 601ms\tremaining: 457ms\n",
      "568:\tlearn: 0.0212550\ttotal: 601ms\tremaining: 455ms\n",
      "569:\tlearn: 0.0212289\ttotal: 601ms\tremaining: 454ms\n",
      "570:\tlearn: 0.0212060\ttotal: 602ms\tremaining: 452ms\n",
      "571:\tlearn: 0.0211766\ttotal: 602ms\tremaining: 451ms\n",
      "572:\tlearn: 0.0211650\ttotal: 602ms\tremaining: 449ms\n",
      "573:\tlearn: 0.0211411\ttotal: 603ms\tremaining: 448ms\n",
      "574:\tlearn: 0.0211225\ttotal: 604ms\tremaining: 446ms\n",
      "575:\tlearn: 0.0211059\ttotal: 604ms\tremaining: 445ms\n",
      "576:\tlearn: 0.0210917\ttotal: 606ms\tremaining: 444ms\n",
      "577:\tlearn: 0.0210843\ttotal: 606ms\tremaining: 443ms\n",
      "578:\tlearn: 0.0210701\ttotal: 607ms\tremaining: 441ms\n",
      "579:\tlearn: 0.0210500\ttotal: 608ms\tremaining: 440ms\n",
      "580:\tlearn: 0.0210203\ttotal: 608ms\tremaining: 439ms\n",
      "581:\tlearn: 0.0209864\ttotal: 609ms\tremaining: 437ms\n",
      "582:\tlearn: 0.0209714\ttotal: 610ms\tremaining: 436ms\n",
      "583:\tlearn: 0.0209287\ttotal: 611ms\tremaining: 435ms\n",
      "584:\tlearn: 0.0209045\ttotal: 611ms\tremaining: 434ms\n",
      "585:\tlearn: 0.0208974\ttotal: 612ms\tremaining: 433ms\n",
      "586:\tlearn: 0.0208527\ttotal: 613ms\tremaining: 431ms\n",
      "587:\tlearn: 0.0208252\ttotal: 614ms\tremaining: 430ms\n",
      "588:\tlearn: 0.0207876\ttotal: 615ms\tremaining: 429ms\n",
      "589:\tlearn: 0.0207775\ttotal: 615ms\tremaining: 428ms\n",
      "590:\tlearn: 0.0207491\ttotal: 616ms\tremaining: 426ms\n",
      "591:\tlearn: 0.0207266\ttotal: 617ms\tremaining: 425ms\n",
      "592:\tlearn: 0.0207032\ttotal: 617ms\tremaining: 424ms\n",
      "593:\tlearn: 0.0206935\ttotal: 618ms\tremaining: 422ms\n",
      "594:\tlearn: 0.0206658\ttotal: 619ms\tremaining: 421ms\n",
      "595:\tlearn: 0.0206554\ttotal: 620ms\tremaining: 420ms\n",
      "596:\tlearn: 0.0206426\ttotal: 621ms\tremaining: 419ms\n",
      "597:\tlearn: 0.0206312\ttotal: 622ms\tremaining: 418ms\n",
      "598:\tlearn: 0.0206157\ttotal: 624ms\tremaining: 418ms\n",
      "599:\tlearn: 0.0205925\ttotal: 625ms\tremaining: 416ms\n",
      "600:\tlearn: 0.0205597\ttotal: 625ms\tremaining: 415ms\n",
      "601:\tlearn: 0.0205329\ttotal: 626ms\tremaining: 414ms\n",
      "602:\tlearn: 0.0205135\ttotal: 628ms\tremaining: 413ms\n",
      "603:\tlearn: 0.0204872\ttotal: 628ms\tremaining: 412ms\n",
      "604:\tlearn: 0.0204464\ttotal: 629ms\tremaining: 411ms\n"
     ]
    },
    {
     "name": "stdout",
     "output_type": "stream",
     "text": [
      "605:\tlearn: 0.0204362\ttotal: 630ms\tremaining: 410ms\n",
      "606:\tlearn: 0.0204105\ttotal: 635ms\tremaining: 411ms\n",
      "607:\tlearn: 0.0203827\ttotal: 636ms\tremaining: 410ms\n",
      "608:\tlearn: 0.0203518\ttotal: 637ms\tremaining: 409ms\n",
      "609:\tlearn: 0.0203299\ttotal: 639ms\tremaining: 408ms\n",
      "610:\tlearn: 0.0203061\ttotal: 640ms\tremaining: 407ms\n",
      "611:\tlearn: 0.0202955\ttotal: 641ms\tremaining: 406ms\n",
      "612:\tlearn: 0.0202592\ttotal: 642ms\tremaining: 405ms\n",
      "613:\tlearn: 0.0202482\ttotal: 642ms\tremaining: 404ms\n",
      "614:\tlearn: 0.0202343\ttotal: 643ms\tremaining: 403ms\n",
      "615:\tlearn: 0.0202254\ttotal: 644ms\tremaining: 402ms\n",
      "616:\tlearn: 0.0202083\ttotal: 646ms\tremaining: 401ms\n",
      "617:\tlearn: 0.0201989\ttotal: 647ms\tremaining: 400ms\n",
      "618:\tlearn: 0.0201681\ttotal: 649ms\tremaining: 400ms\n",
      "619:\tlearn: 0.0201440\ttotal: 650ms\tremaining: 398ms\n",
      "620:\tlearn: 0.0201346\ttotal: 651ms\tremaining: 397ms\n",
      "621:\tlearn: 0.0201287\ttotal: 652ms\tremaining: 396ms\n",
      "622:\tlearn: 0.0200917\ttotal: 653ms\tremaining: 395ms\n",
      "623:\tlearn: 0.0200669\ttotal: 654ms\tremaining: 394ms\n",
      "624:\tlearn: 0.0200566\ttotal: 655ms\tremaining: 393ms\n",
      "625:\tlearn: 0.0200326\ttotal: 657ms\tremaining: 392ms\n",
      "626:\tlearn: 0.0200257\ttotal: 657ms\tremaining: 391ms\n",
      "627:\tlearn: 0.0200127\ttotal: 658ms\tremaining: 390ms\n",
      "628:\tlearn: 0.0199960\ttotal: 659ms\tremaining: 389ms\n",
      "629:\tlearn: 0.0199722\ttotal: 660ms\tremaining: 387ms\n",
      "630:\tlearn: 0.0199641\ttotal: 661ms\tremaining: 386ms\n",
      "631:\tlearn: 0.0199307\ttotal: 661ms\tremaining: 385ms\n",
      "632:\tlearn: 0.0199074\ttotal: 662ms\tremaining: 384ms\n",
      "633:\tlearn: 0.0198976\ttotal: 663ms\tremaining: 383ms\n"
     ]
    },
    {
     "name": "stdout",
     "output_type": "stream",
     "text": [
      "634:\tlearn: 0.0198823\ttotal: 666ms\tremaining: 383ms\n",
      "635:\tlearn: 0.0198640\ttotal: 667ms\tremaining: 382ms\n",
      "636:\tlearn: 0.0198578\ttotal: 669ms\tremaining: 381ms\n",
      "637:\tlearn: 0.0198451\ttotal: 671ms\tremaining: 381ms\n",
      "638:\tlearn: 0.0198229\ttotal: 673ms\tremaining: 380ms\n",
      "639:\tlearn: 0.0197998\ttotal: 675ms\tremaining: 379ms\n",
      "640:\tlearn: 0.0197817\ttotal: 677ms\tremaining: 379ms\n",
      "641:\tlearn: 0.0197645\ttotal: 679ms\tremaining: 378ms\n",
      "642:\tlearn: 0.0197256\ttotal: 681ms\tremaining: 378ms\n",
      "643:\tlearn: 0.0196969\ttotal: 683ms\tremaining: 378ms\n",
      "644:\tlearn: 0.0196892\ttotal: 686ms\tremaining: 377ms\n",
      "645:\tlearn: 0.0196833\ttotal: 688ms\tremaining: 377ms\n",
      "646:\tlearn: 0.0196746\ttotal: 690ms\tremaining: 377ms\n",
      "647:\tlearn: 0.0196660\ttotal: 694ms\tremaining: 377ms\n",
      "648:\tlearn: 0.0196509\ttotal: 695ms\tremaining: 376ms\n",
      "649:\tlearn: 0.0196240\ttotal: 696ms\tremaining: 375ms\n",
      "650:\tlearn: 0.0195872\ttotal: 698ms\tremaining: 374ms\n",
      "651:\tlearn: 0.0195660\ttotal: 698ms\tremaining: 373ms\n",
      "652:\tlearn: 0.0195566\ttotal: 699ms\tremaining: 371ms\n",
      "653:\tlearn: 0.0195378\ttotal: 700ms\tremaining: 370ms\n",
      "654:\tlearn: 0.0195240\ttotal: 701ms\tremaining: 369ms\n",
      "655:\tlearn: 0.0195038\ttotal: 702ms\tremaining: 368ms\n",
      "656:\tlearn: 0.0194838\ttotal: 703ms\tremaining: 367ms\n",
      "657:\tlearn: 0.0194542\ttotal: 704ms\tremaining: 366ms\n",
      "658:\tlearn: 0.0194203\ttotal: 705ms\tremaining: 365ms\n",
      "659:\tlearn: 0.0194141\ttotal: 707ms\tremaining: 364ms\n",
      "660:\tlearn: 0.0193859\ttotal: 708ms\tremaining: 363ms\n",
      "661:\tlearn: 0.0193745\ttotal: 709ms\tremaining: 362ms\n",
      "662:\tlearn: 0.0193567\ttotal: 710ms\tremaining: 361ms\n",
      "663:\tlearn: 0.0193431\ttotal: 711ms\tremaining: 360ms\n"
     ]
    },
    {
     "name": "stdout",
     "output_type": "stream",
     "text": [
      "664:\tlearn: 0.0193300\ttotal: 712ms\tremaining: 359ms\n",
      "665:\tlearn: 0.0192928\ttotal: 715ms\tremaining: 358ms\n",
      "666:\tlearn: 0.0192811\ttotal: 715ms\tremaining: 357ms\n",
      "667:\tlearn: 0.0192581\ttotal: 716ms\tremaining: 356ms\n",
      "668:\tlearn: 0.0192469\ttotal: 719ms\tremaining: 356ms\n",
      "669:\tlearn: 0.0192362\ttotal: 720ms\tremaining: 354ms\n",
      "670:\tlearn: 0.0192192\ttotal: 721ms\tremaining: 353ms\n",
      "671:\tlearn: 0.0191988\ttotal: 722ms\tremaining: 352ms\n",
      "672:\tlearn: 0.0191877\ttotal: 722ms\tremaining: 351ms\n",
      "673:\tlearn: 0.0191683\ttotal: 723ms\tremaining: 350ms\n",
      "674:\tlearn: 0.0191496\ttotal: 723ms\tremaining: 348ms\n",
      "675:\tlearn: 0.0191358\ttotal: 724ms\tremaining: 347ms\n",
      "676:\tlearn: 0.0191197\ttotal: 725ms\tremaining: 346ms\n",
      "677:\tlearn: 0.0191036\ttotal: 725ms\tremaining: 344ms\n",
      "678:\tlearn: 0.0190801\ttotal: 726ms\tremaining: 343ms\n",
      "679:\tlearn: 0.0190580\ttotal: 726ms\tremaining: 342ms\n",
      "680:\tlearn: 0.0190458\ttotal: 726ms\tremaining: 340ms\n",
      "681:\tlearn: 0.0190258\ttotal: 727ms\tremaining: 339ms\n",
      "682:\tlearn: 0.0190064\ttotal: 728ms\tremaining: 338ms\n",
      "683:\tlearn: 0.0189848\ttotal: 728ms\tremaining: 336ms\n",
      "684:\tlearn: 0.0189664\ttotal: 729ms\tremaining: 335ms\n",
      "685:\tlearn: 0.0189374\ttotal: 729ms\tremaining: 334ms\n",
      "686:\tlearn: 0.0189177\ttotal: 730ms\tremaining: 333ms\n",
      "687:\tlearn: 0.0189072\ttotal: 731ms\tremaining: 331ms\n",
      "688:\tlearn: 0.0189006\ttotal: 731ms\tremaining: 330ms\n",
      "689:\tlearn: 0.0188818\ttotal: 732ms\tremaining: 329ms\n",
      "690:\tlearn: 0.0188576\ttotal: 732ms\tremaining: 327ms\n",
      "691:\tlearn: 0.0188389\ttotal: 733ms\tremaining: 326ms\n",
      "692:\tlearn: 0.0188241\ttotal: 733ms\tremaining: 325ms\n",
      "693:\tlearn: 0.0188040\ttotal: 734ms\tremaining: 324ms\n",
      "694:\tlearn: 0.0187853\ttotal: 735ms\tremaining: 322ms\n",
      "695:\tlearn: 0.0187668\ttotal: 735ms\tremaining: 321ms\n",
      "696:\tlearn: 0.0187350\ttotal: 735ms\tremaining: 320ms\n",
      "697:\tlearn: 0.0186992\ttotal: 736ms\tremaining: 318ms\n",
      "698:\tlearn: 0.0186822\ttotal: 736ms\tremaining: 317ms\n",
      "699:\tlearn: 0.0186691\ttotal: 736ms\tremaining: 315ms\n",
      "700:\tlearn: 0.0186327\ttotal: 738ms\tremaining: 315ms\n",
      "701:\tlearn: 0.0186001\ttotal: 738ms\tremaining: 313ms\n",
      "702:\tlearn: 0.0185870\ttotal: 738ms\tremaining: 312ms\n",
      "703:\tlearn: 0.0185526\ttotal: 739ms\tremaining: 311ms\n",
      "704:\tlearn: 0.0185416\ttotal: 740ms\tremaining: 309ms\n",
      "705:\tlearn: 0.0185256\ttotal: 740ms\tremaining: 308ms\n",
      "706:\tlearn: 0.0185124\ttotal: 741ms\tremaining: 307ms\n",
      "707:\tlearn: 0.0184784\ttotal: 742ms\tremaining: 306ms\n",
      "708:\tlearn: 0.0184456\ttotal: 743ms\tremaining: 305ms\n",
      "709:\tlearn: 0.0184301\ttotal: 744ms\tremaining: 304ms\n",
      "710:\tlearn: 0.0183943\ttotal: 745ms\tremaining: 303ms\n",
      "711:\tlearn: 0.0183834\ttotal: 746ms\tremaining: 302ms\n",
      "712:\tlearn: 0.0183774\ttotal: 747ms\tremaining: 301ms\n",
      "713:\tlearn: 0.0183594\ttotal: 747ms\tremaining: 299ms\n",
      "714:\tlearn: 0.0183487\ttotal: 748ms\tremaining: 298ms\n",
      "715:\tlearn: 0.0183283\ttotal: 749ms\tremaining: 297ms\n",
      "716:\tlearn: 0.0183156\ttotal: 750ms\tremaining: 296ms\n",
      "717:\tlearn: 0.0183032\ttotal: 750ms\tremaining: 295ms\n",
      "718:\tlearn: 0.0182914\ttotal: 751ms\tremaining: 294ms\n",
      "719:\tlearn: 0.0182602\ttotal: 753ms\tremaining: 293ms\n",
      "720:\tlearn: 0.0182343\ttotal: 754ms\tremaining: 292ms\n",
      "721:\tlearn: 0.0182063\ttotal: 755ms\tremaining: 291ms\n",
      "722:\tlearn: 0.0181954\ttotal: 755ms\tremaining: 289ms\n",
      "723:\tlearn: 0.0181639\ttotal: 756ms\tremaining: 288ms\n",
      "724:\tlearn: 0.0181600\ttotal: 756ms\tremaining: 287ms\n",
      "725:\tlearn: 0.0181423\ttotal: 757ms\tremaining: 286ms\n",
      "726:\tlearn: 0.0181221\ttotal: 758ms\tremaining: 285ms\n",
      "727:\tlearn: 0.0181069\ttotal: 759ms\tremaining: 283ms\n",
      "728:\tlearn: 0.0180917\ttotal: 759ms\tremaining: 282ms\n",
      "729:\tlearn: 0.0180782\ttotal: 760ms\tremaining: 281ms\n",
      "730:\tlearn: 0.0180619\ttotal: 760ms\tremaining: 280ms\n",
      "731:\tlearn: 0.0180496\ttotal: 761ms\tremaining: 279ms\n",
      "732:\tlearn: 0.0180293\ttotal: 761ms\tremaining: 277ms\n",
      "733:\tlearn: 0.0180209\ttotal: 762ms\tremaining: 276ms\n",
      "734:\tlearn: 0.0180036\ttotal: 762ms\tremaining: 275ms\n",
      "735:\tlearn: 0.0179872\ttotal: 763ms\tremaining: 274ms\n",
      "736:\tlearn: 0.0179722\ttotal: 763ms\tremaining: 272ms\n",
      "737:\tlearn: 0.0179356\ttotal: 764ms\tremaining: 271ms\n",
      "738:\tlearn: 0.0179163\ttotal: 765ms\tremaining: 270ms\n",
      "739:\tlearn: 0.0179053\ttotal: 765ms\tremaining: 269ms\n",
      "740:\tlearn: 0.0178984\ttotal: 766ms\tremaining: 268ms\n",
      "741:\tlearn: 0.0178882\ttotal: 766ms\tremaining: 266ms\n",
      "742:\tlearn: 0.0178825\ttotal: 767ms\tremaining: 265ms\n",
      "743:\tlearn: 0.0178675\ttotal: 767ms\tremaining: 264ms\n",
      "744:\tlearn: 0.0178573\ttotal: 768ms\tremaining: 263ms\n",
      "745:\tlearn: 0.0178354\ttotal: 769ms\tremaining: 262ms\n",
      "746:\tlearn: 0.0178191\ttotal: 770ms\tremaining: 261ms\n",
      "747:\tlearn: 0.0178010\ttotal: 770ms\tremaining: 259ms\n",
      "748:\tlearn: 0.0177911\ttotal: 771ms\tremaining: 258ms\n",
      "749:\tlearn: 0.0177759\ttotal: 771ms\tremaining: 257ms\n",
      "750:\tlearn: 0.0177573\ttotal: 772ms\tremaining: 256ms\n",
      "751:\tlearn: 0.0177491\ttotal: 772ms\tremaining: 255ms\n",
      "752:\tlearn: 0.0177331\ttotal: 773ms\tremaining: 254ms\n",
      "753:\tlearn: 0.0177149\ttotal: 774ms\tremaining: 252ms\n",
      "754:\tlearn: 0.0176926\ttotal: 774ms\tremaining: 251ms\n",
      "755:\tlearn: 0.0176729\ttotal: 775ms\tremaining: 250ms\n",
      "756:\tlearn: 0.0176585\ttotal: 775ms\tremaining: 249ms\n",
      "757:\tlearn: 0.0176355\ttotal: 776ms\tremaining: 248ms\n",
      "758:\tlearn: 0.0176297\ttotal: 776ms\tremaining: 246ms\n",
      "759:\tlearn: 0.0176206\ttotal: 777ms\tremaining: 245ms\n",
      "760:\tlearn: 0.0176171\ttotal: 777ms\tremaining: 244ms\n",
      "761:\tlearn: 0.0176108\ttotal: 779ms\tremaining: 243ms\n",
      "762:\tlearn: 0.0175977\ttotal: 780ms\tremaining: 242ms\n",
      "763:\tlearn: 0.0175911\ttotal: 780ms\tremaining: 241ms\n"
     ]
    },
    {
     "name": "stdout",
     "output_type": "stream",
     "text": [
      "764:\tlearn: 0.0175817\ttotal: 783ms\tremaining: 241ms\n",
      "765:\tlearn: 0.0175627\ttotal: 784ms\tremaining: 239ms\n",
      "766:\tlearn: 0.0175539\ttotal: 788ms\tremaining: 239ms\n",
      "767:\tlearn: 0.0175456\ttotal: 789ms\tremaining: 238ms\n",
      "768:\tlearn: 0.0175294\ttotal: 789ms\tremaining: 237ms\n",
      "769:\tlearn: 0.0174990\ttotal: 790ms\tremaining: 236ms\n",
      "770:\tlearn: 0.0174853\ttotal: 791ms\tremaining: 235ms\n",
      "771:\tlearn: 0.0174754\ttotal: 792ms\tremaining: 234ms\n",
      "772:\tlearn: 0.0174666\ttotal: 793ms\tremaining: 233ms\n",
      "773:\tlearn: 0.0174613\ttotal: 794ms\tremaining: 232ms\n",
      "774:\tlearn: 0.0174232\ttotal: 795ms\tremaining: 231ms\n",
      "775:\tlearn: 0.0173945\ttotal: 796ms\tremaining: 230ms\n",
      "776:\tlearn: 0.0173900\ttotal: 799ms\tremaining: 229ms\n",
      "777:\tlearn: 0.0173700\ttotal: 800ms\tremaining: 228ms\n",
      "778:\tlearn: 0.0173583\ttotal: 801ms\tremaining: 227ms\n",
      "779:\tlearn: 0.0173490\ttotal: 802ms\tremaining: 226ms\n",
      "780:\tlearn: 0.0173313\ttotal: 803ms\tremaining: 225ms\n",
      "781:\tlearn: 0.0173090\ttotal: 803ms\tremaining: 224ms\n",
      "782:\tlearn: 0.0172791\ttotal: 804ms\tremaining: 223ms\n",
      "783:\tlearn: 0.0172605\ttotal: 804ms\tremaining: 221ms\n",
      "784:\tlearn: 0.0172331\ttotal: 804ms\tremaining: 220ms\n",
      "785:\tlearn: 0.0172221\ttotal: 805ms\tremaining: 219ms\n",
      "786:\tlearn: 0.0172060\ttotal: 805ms\tremaining: 218ms\n",
      "787:\tlearn: 0.0171951\ttotal: 805ms\tremaining: 217ms\n",
      "788:\tlearn: 0.0171804\ttotal: 806ms\tremaining: 215ms\n",
      "789:\tlearn: 0.0171711\ttotal: 806ms\tremaining: 214ms\n",
      "790:\tlearn: 0.0171603\ttotal: 806ms\tremaining: 213ms\n",
      "791:\tlearn: 0.0171346\ttotal: 807ms\tremaining: 212ms\n",
      "792:\tlearn: 0.0171261\ttotal: 807ms\tremaining: 211ms\n",
      "793:\tlearn: 0.0171184\ttotal: 807ms\tremaining: 209ms\n",
      "794:\tlearn: 0.0170921\ttotal: 808ms\tremaining: 208ms\n",
      "795:\tlearn: 0.0170758\ttotal: 808ms\tremaining: 207ms\n",
      "796:\tlearn: 0.0170672\ttotal: 808ms\tremaining: 206ms\n",
      "797:\tlearn: 0.0170576\ttotal: 809ms\tremaining: 205ms\n",
      "798:\tlearn: 0.0170419\ttotal: 809ms\tremaining: 204ms\n",
      "799:\tlearn: 0.0170294\ttotal: 809ms\tremaining: 202ms\n",
      "800:\tlearn: 0.0170206\ttotal: 810ms\tremaining: 201ms\n",
      "801:\tlearn: 0.0169942\ttotal: 811ms\tremaining: 200ms\n"
     ]
    },
    {
     "name": "stdout",
     "output_type": "stream",
     "text": [
      "802:\tlearn: 0.0169867\ttotal: 811ms\tremaining: 199ms\n",
      "803:\tlearn: 0.0169765\ttotal: 812ms\tremaining: 198ms\n",
      "804:\tlearn: 0.0169666\ttotal: 812ms\tremaining: 197ms\n",
      "805:\tlearn: 0.0169492\ttotal: 812ms\tremaining: 196ms\n",
      "806:\tlearn: 0.0169328\ttotal: 814ms\tremaining: 195ms\n",
      "807:\tlearn: 0.0169218\ttotal: 814ms\tremaining: 193ms\n",
      "808:\tlearn: 0.0169123\ttotal: 815ms\tremaining: 192ms\n",
      "809:\tlearn: 0.0168974\ttotal: 816ms\tremaining: 191ms\n",
      "810:\tlearn: 0.0168864\ttotal: 816ms\tremaining: 190ms\n",
      "811:\tlearn: 0.0168678\ttotal: 816ms\tremaining: 189ms\n",
      "812:\tlearn: 0.0168386\ttotal: 817ms\tremaining: 188ms\n",
      "813:\tlearn: 0.0168161\ttotal: 817ms\tremaining: 187ms\n",
      "814:\tlearn: 0.0168019\ttotal: 818ms\tremaining: 186ms\n",
      "815:\tlearn: 0.0167913\ttotal: 818ms\tremaining: 184ms\n",
      "816:\tlearn: 0.0167762\ttotal: 819ms\tremaining: 183ms\n",
      "817:\tlearn: 0.0167659\ttotal: 820ms\tremaining: 182ms\n",
      "818:\tlearn: 0.0167357\ttotal: 820ms\tremaining: 181ms\n",
      "819:\tlearn: 0.0167303\ttotal: 820ms\tremaining: 180ms\n",
      "820:\tlearn: 0.0167154\ttotal: 820ms\tremaining: 179ms\n",
      "821:\tlearn: 0.0166985\ttotal: 821ms\tremaining: 178ms\n",
      "822:\tlearn: 0.0166827\ttotal: 821ms\tremaining: 177ms\n",
      "823:\tlearn: 0.0166681\ttotal: 821ms\tremaining: 175ms\n",
      "824:\tlearn: 0.0166543\ttotal: 822ms\tremaining: 174ms\n",
      "825:\tlearn: 0.0166411\ttotal: 823ms\tremaining: 173ms\n",
      "826:\tlearn: 0.0166218\ttotal: 823ms\tremaining: 172ms\n",
      "827:\tlearn: 0.0166151\ttotal: 823ms\tremaining: 171ms\n",
      "828:\tlearn: 0.0166011\ttotal: 824ms\tremaining: 170ms\n",
      "829:\tlearn: 0.0165797\ttotal: 824ms\tremaining: 169ms\n",
      "830:\tlearn: 0.0165559\ttotal: 824ms\tremaining: 168ms\n",
      "831:\tlearn: 0.0165333\ttotal: 825ms\tremaining: 167ms\n",
      "832:\tlearn: 0.0165252\ttotal: 825ms\tremaining: 165ms\n",
      "833:\tlearn: 0.0165098\ttotal: 827ms\tremaining: 165ms\n",
      "834:\tlearn: 0.0164943\ttotal: 827ms\tremaining: 163ms\n",
      "835:\tlearn: 0.0164848\ttotal: 827ms\tremaining: 162ms\n",
      "836:\tlearn: 0.0164707\ttotal: 828ms\tremaining: 161ms\n",
      "837:\tlearn: 0.0164574\ttotal: 828ms\tremaining: 160ms\n",
      "838:\tlearn: 0.0164485\ttotal: 829ms\tremaining: 159ms\n",
      "839:\tlearn: 0.0164408\ttotal: 829ms\tremaining: 158ms\n",
      "840:\tlearn: 0.0164283\ttotal: 830ms\tremaining: 157ms\n",
      "841:\tlearn: 0.0164084\ttotal: 830ms\tremaining: 156ms\n",
      "842:\tlearn: 0.0163952\ttotal: 831ms\tremaining: 155ms\n",
      "843:\tlearn: 0.0163806\ttotal: 831ms\tremaining: 154ms\n",
      "844:\tlearn: 0.0163663\ttotal: 831ms\tremaining: 153ms\n",
      "845:\tlearn: 0.0163617\ttotal: 832ms\tremaining: 151ms\n",
      "846:\tlearn: 0.0163487\ttotal: 832ms\tremaining: 150ms\n",
      "847:\tlearn: 0.0163389\ttotal: 833ms\tremaining: 149ms\n",
      "848:\tlearn: 0.0163294\ttotal: 833ms\tremaining: 148ms\n",
      "849:\tlearn: 0.0163181\ttotal: 834ms\tremaining: 147ms\n",
      "850:\tlearn: 0.0163118\ttotal: 834ms\tremaining: 146ms\n",
      "851:\tlearn: 0.0163041\ttotal: 835ms\tremaining: 145ms\n",
      "852:\tlearn: 0.0162991\ttotal: 835ms\tremaining: 144ms\n",
      "853:\tlearn: 0.0162949\ttotal: 835ms\tremaining: 143ms\n",
      "854:\tlearn: 0.0162866\ttotal: 836ms\tremaining: 142ms\n",
      "855:\tlearn: 0.0162794\ttotal: 836ms\tremaining: 141ms\n",
      "856:\tlearn: 0.0162739\ttotal: 836ms\tremaining: 140ms\n",
      "857:\tlearn: 0.0162542\ttotal: 836ms\tremaining: 138ms\n",
      "858:\tlearn: 0.0162280\ttotal: 837ms\tremaining: 137ms\n",
      "859:\tlearn: 0.0162232\ttotal: 837ms\tremaining: 136ms\n",
      "860:\tlearn: 0.0162048\ttotal: 837ms\tremaining: 135ms\n",
      "861:\tlearn: 0.0161887\ttotal: 838ms\tremaining: 134ms\n",
      "862:\tlearn: 0.0161859\ttotal: 839ms\tremaining: 133ms\n",
      "863:\tlearn: 0.0161740\ttotal: 839ms\tremaining: 132ms\n",
      "864:\tlearn: 0.0161664\ttotal: 839ms\tremaining: 131ms\n",
      "865:\tlearn: 0.0161406\ttotal: 840ms\tremaining: 130ms\n",
      "866:\tlearn: 0.0161320\ttotal: 840ms\tremaining: 129ms\n",
      "867:\tlearn: 0.0161071\ttotal: 841ms\tremaining: 128ms\n",
      "868:\tlearn: 0.0160996\ttotal: 842ms\tremaining: 127ms\n",
      "869:\tlearn: 0.0160877\ttotal: 842ms\tremaining: 126ms\n",
      "870:\tlearn: 0.0160814\ttotal: 843ms\tremaining: 125ms\n",
      "871:\tlearn: 0.0160717\ttotal: 843ms\tremaining: 124ms\n",
      "872:\tlearn: 0.0160556\ttotal: 843ms\tremaining: 123ms\n",
      "873:\tlearn: 0.0160495\ttotal: 844ms\tremaining: 122ms\n",
      "874:\tlearn: 0.0160403\ttotal: 845ms\tremaining: 121ms\n",
      "875:\tlearn: 0.0160157\ttotal: 845ms\tremaining: 120ms\n",
      "876:\tlearn: 0.0159962\ttotal: 845ms\tremaining: 119ms\n",
      "877:\tlearn: 0.0159839\ttotal: 846ms\tremaining: 118ms\n",
      "878:\tlearn: 0.0159748\ttotal: 846ms\tremaining: 116ms\n",
      "879:\tlearn: 0.0159641\ttotal: 846ms\tremaining: 115ms\n",
      "880:\tlearn: 0.0159523\ttotal: 847ms\tremaining: 114ms\n",
      "881:\tlearn: 0.0159249\ttotal: 847ms\tremaining: 113ms\n",
      "882:\tlearn: 0.0159033\ttotal: 847ms\tremaining: 112ms\n",
      "883:\tlearn: 0.0158951\ttotal: 848ms\tremaining: 111ms\n",
      "884:\tlearn: 0.0158854\ttotal: 848ms\tremaining: 110ms\n",
      "885:\tlearn: 0.0158366\ttotal: 849ms\tremaining: 109ms\n",
      "886:\tlearn: 0.0158298\ttotal: 849ms\tremaining: 108ms\n",
      "887:\tlearn: 0.0158196\ttotal: 849ms\tremaining: 107ms\n",
      "888:\tlearn: 0.0158115\ttotal: 850ms\tremaining: 106ms\n",
      "889:\tlearn: 0.0157875\ttotal: 850ms\tremaining: 105ms\n",
      "890:\tlearn: 0.0157624\ttotal: 851ms\tremaining: 104ms\n",
      "891:\tlearn: 0.0157474\ttotal: 851ms\tremaining: 103ms\n",
      "892:\tlearn: 0.0157272\ttotal: 851ms\tremaining: 102ms\n",
      "893:\tlearn: 0.0157204\ttotal: 852ms\tremaining: 101ms\n",
      "894:\tlearn: 0.0157058\ttotal: 852ms\tremaining: 100ms\n"
     ]
    },
    {
     "name": "stdout",
     "output_type": "stream",
     "text": [
      "895:\tlearn: 0.0156995\ttotal: 855ms\tremaining: 99.3ms\n",
      "896:\tlearn: 0.0156880\ttotal: 856ms\tremaining: 98.3ms\n",
      "897:\tlearn: 0.0156800\ttotal: 857ms\tremaining: 97.3ms\n",
      "898:\tlearn: 0.0156728\ttotal: 857ms\tremaining: 96.3ms\n",
      "899:\tlearn: 0.0156601\ttotal: 857ms\tremaining: 95.2ms\n",
      "900:\tlearn: 0.0156369\ttotal: 857ms\tremaining: 94.2ms\n",
      "901:\tlearn: 0.0156238\ttotal: 858ms\tremaining: 93.2ms\n",
      "902:\tlearn: 0.0156125\ttotal: 858ms\tremaining: 92.2ms\n",
      "903:\tlearn: 0.0156031\ttotal: 859ms\tremaining: 91.2ms\n",
      "904:\tlearn: 0.0155972\ttotal: 859ms\tremaining: 90.2ms\n",
      "905:\tlearn: 0.0155864\ttotal: 859ms\tremaining: 89.1ms\n",
      "906:\tlearn: 0.0155783\ttotal: 859ms\tremaining: 88.1ms\n",
      "907:\tlearn: 0.0155711\ttotal: 860ms\tremaining: 87.1ms\n",
      "908:\tlearn: 0.0155610\ttotal: 860ms\tremaining: 86.1ms\n",
      "909:\tlearn: 0.0155377\ttotal: 861ms\tremaining: 85.1ms\n",
      "910:\tlearn: 0.0155305\ttotal: 861ms\tremaining: 84.1ms\n",
      "911:\tlearn: 0.0155255\ttotal: 862ms\tremaining: 83.1ms\n",
      "912:\tlearn: 0.0155065\ttotal: 862ms\tremaining: 82.1ms\n",
      "913:\tlearn: 0.0154938\ttotal: 862ms\tremaining: 81.1ms\n",
      "914:\tlearn: 0.0154819\ttotal: 863ms\tremaining: 80.1ms\n",
      "915:\tlearn: 0.0154732\ttotal: 863ms\tremaining: 79.1ms\n",
      "916:\tlearn: 0.0154648\ttotal: 863ms\tremaining: 78.1ms\n",
      "917:\tlearn: 0.0154515\ttotal: 864ms\tremaining: 77.2ms\n",
      "918:\tlearn: 0.0154432\ttotal: 864ms\tremaining: 76.2ms\n",
      "919:\tlearn: 0.0154342\ttotal: 865ms\tremaining: 75.2ms\n",
      "920:\tlearn: 0.0154253\ttotal: 865ms\tremaining: 74.2ms\n",
      "921:\tlearn: 0.0154116\ttotal: 865ms\tremaining: 73.2ms\n",
      "922:\tlearn: 0.0154053\ttotal: 866ms\tremaining: 72.2ms\n",
      "923:\tlearn: 0.0153911\ttotal: 866ms\tremaining: 71.2ms\n",
      "924:\tlearn: 0.0153862\ttotal: 866ms\tremaining: 70.2ms\n",
      "925:\tlearn: 0.0153759\ttotal: 867ms\tremaining: 69.3ms\n",
      "926:\tlearn: 0.0153691\ttotal: 868ms\tremaining: 68.3ms\n",
      "927:\tlearn: 0.0153450\ttotal: 868ms\tremaining: 67.3ms\n",
      "928:\tlearn: 0.0153405\ttotal: 868ms\tremaining: 66.4ms\n",
      "929:\tlearn: 0.0153285\ttotal: 870ms\tremaining: 65.5ms\n",
      "930:\tlearn: 0.0153220\ttotal: 870ms\tremaining: 64.5ms\n",
      "931:\tlearn: 0.0153047\ttotal: 871ms\tremaining: 63.5ms\n",
      "932:\tlearn: 0.0152973\ttotal: 871ms\tremaining: 62.6ms\n",
      "933:\tlearn: 0.0152714\ttotal: 872ms\tremaining: 61.6ms\n",
      "934:\tlearn: 0.0152488\ttotal: 872ms\tremaining: 60.6ms\n",
      "935:\tlearn: 0.0152388\ttotal: 872ms\tremaining: 59.6ms\n",
      "936:\tlearn: 0.0152273\ttotal: 872ms\tremaining: 58.7ms\n",
      "937:\tlearn: 0.0152196\ttotal: 873ms\tremaining: 57.7ms\n",
      "938:\tlearn: 0.0152051\ttotal: 873ms\tremaining: 56.7ms\n",
      "939:\tlearn: 0.0151987\ttotal: 874ms\tremaining: 55.8ms\n",
      "940:\tlearn: 0.0151527\ttotal: 875ms\tremaining: 54.8ms\n",
      "941:\tlearn: 0.0151260\ttotal: 875ms\tremaining: 53.9ms\n",
      "942:\tlearn: 0.0151035\ttotal: 876ms\tremaining: 52.9ms\n",
      "943:\tlearn: 0.0150936\ttotal: 876ms\tremaining: 52ms\n",
      "944:\tlearn: 0.0150838\ttotal: 877ms\tremaining: 51ms\n",
      "945:\tlearn: 0.0150743\ttotal: 878ms\tremaining: 50.1ms\n",
      "946:\tlearn: 0.0150572\ttotal: 878ms\tremaining: 49.2ms\n",
      "947:\tlearn: 0.0150351\ttotal: 879ms\tremaining: 48.2ms\n",
      "948:\tlearn: 0.0150197\ttotal: 879ms\tremaining: 47.2ms\n",
      "949:\tlearn: 0.0150082\ttotal: 879ms\tremaining: 46.3ms\n",
      "950:\tlearn: 0.0149919\ttotal: 879ms\tremaining: 45.3ms\n",
      "951:\tlearn: 0.0149848\ttotal: 880ms\tremaining: 44.4ms\n",
      "952:\tlearn: 0.0149746\ttotal: 880ms\tremaining: 43.4ms\n",
      "953:\tlearn: 0.0149588\ttotal: 880ms\tremaining: 42.5ms\n",
      "954:\tlearn: 0.0149475\ttotal: 881ms\tremaining: 41.5ms\n",
      "955:\tlearn: 0.0149316\ttotal: 881ms\tremaining: 40.5ms\n",
      "956:\tlearn: 0.0149222\ttotal: 882ms\tremaining: 39.6ms\n",
      "957:\tlearn: 0.0149138\ttotal: 882ms\tremaining: 38.7ms\n",
      "958:\tlearn: 0.0149079\ttotal: 882ms\tremaining: 37.7ms\n",
      "959:\tlearn: 0.0149000\ttotal: 883ms\tremaining: 36.8ms\n",
      "960:\tlearn: 0.0148814\ttotal: 884ms\tremaining: 35.9ms\n",
      "961:\tlearn: 0.0148656\ttotal: 884ms\tremaining: 34.9ms\n",
      "962:\tlearn: 0.0148500\ttotal: 885ms\tremaining: 34ms\n",
      "963:\tlearn: 0.0148441\ttotal: 885ms\tremaining: 33.1ms\n",
      "964:\tlearn: 0.0148364\ttotal: 885ms\tremaining: 32.1ms\n",
      "965:\tlearn: 0.0148214\ttotal: 886ms\tremaining: 31.2ms\n",
      "966:\tlearn: 0.0148122\ttotal: 886ms\tremaining: 30.2ms\n",
      "967:\tlearn: 0.0148053\ttotal: 887ms\tremaining: 29.3ms\n",
      "968:\tlearn: 0.0147993\ttotal: 888ms\tremaining: 28.4ms\n",
      "969:\tlearn: 0.0147915\ttotal: 888ms\tremaining: 27.5ms\n",
      "970:\tlearn: 0.0147847\ttotal: 889ms\tremaining: 26.5ms\n",
      "971:\tlearn: 0.0147745\ttotal: 889ms\tremaining: 25.6ms\n",
      "972:\tlearn: 0.0147661\ttotal: 890ms\tremaining: 24.7ms\n",
      "973:\tlearn: 0.0147488\ttotal: 890ms\tremaining: 23.8ms\n",
      "974:\tlearn: 0.0147324\ttotal: 890ms\tremaining: 22.8ms\n",
      "975:\tlearn: 0.0147224\ttotal: 891ms\tremaining: 21.9ms\n",
      "976:\tlearn: 0.0147126\ttotal: 891ms\tremaining: 21ms\n",
      "977:\tlearn: 0.0147031\ttotal: 891ms\tremaining: 20ms\n",
      "978:\tlearn: 0.0146803\ttotal: 892ms\tremaining: 19.1ms\n",
      "979:\tlearn: 0.0146707\ttotal: 892ms\tremaining: 18.2ms\n",
      "980:\tlearn: 0.0146488\ttotal: 893ms\tremaining: 17.3ms\n",
      "981:\tlearn: 0.0146415\ttotal: 893ms\tremaining: 16.4ms\n",
      "982:\tlearn: 0.0146266\ttotal: 893ms\tremaining: 15.4ms\n",
      "983:\tlearn: 0.0146121\ttotal: 893ms\tremaining: 14.5ms\n",
      "984:\tlearn: 0.0145958\ttotal: 894ms\tremaining: 13.6ms\n",
      "985:\tlearn: 0.0145865\ttotal: 894ms\tremaining: 12.7ms\n",
      "986:\tlearn: 0.0145730\ttotal: 894ms\tremaining: 11.8ms\n",
      "987:\tlearn: 0.0145609\ttotal: 895ms\tremaining: 10.9ms\n",
      "988:\tlearn: 0.0145462\ttotal: 895ms\tremaining: 9.96ms\n",
      "989:\tlearn: 0.0145334\ttotal: 895ms\tremaining: 9.04ms\n",
      "990:\tlearn: 0.0145081\ttotal: 896ms\tremaining: 8.13ms\n",
      "991:\tlearn: 0.0144839\ttotal: 896ms\tremaining: 7.23ms\n",
      "992:\tlearn: 0.0144797\ttotal: 896ms\tremaining: 6.32ms\n",
      "993:\tlearn: 0.0144697\ttotal: 897ms\tremaining: 5.41ms\n",
      "994:\tlearn: 0.0144263\ttotal: 897ms\tremaining: 4.51ms\n",
      "995:\tlearn: 0.0144157\ttotal: 897ms\tremaining: 3.6ms\n",
      "996:\tlearn: 0.0144116\ttotal: 898ms\tremaining: 2.7ms\n",
      "997:\tlearn: 0.0144049\ttotal: 899ms\tremaining: 1.8ms\n",
      "998:\tlearn: 0.0143912\ttotal: 899ms\tremaining: 899us\n",
      "999:\tlearn: 0.0143851\ttotal: 899ms\tremaining: 0us\n",
      "Mean Absolute error 0.018745769139041094\n"
     ]
    },
    {
     "data": {
      "application/scrapbook.scrap.json+json": {
       "data": 0.018745769139041094,
       "encoder": "json",
       "name": "Catboost MAE",
       "version": 1
      }
     },
     "metadata": {
      "scrapbook": {
       "data": true,
       "display": false,
       "name": "Catboost MAE"
      }
     },
     "output_type": "display_data"
    },
    {
     "name": "stdout",
     "output_type": "stream",
     "text": [
      "Catboost MAE 0.018745769139041094\n"
     ]
    }
   ],
   "source": [
    "mae_cb = baselineModels.catboost(X_train,y_train,X_test,y_test)\n",
    "#Store MSE Value\n",
    "sb.glue(\"Catboost MAE\",mae_cb)\n",
    "print(\"Catboost MAE\",mae_cb)"
   ]
  },
  {
   "cell_type": "markdown",
   "id": "bbde4283",
   "metadata": {
    "papermill": {
     "duration": 0.009187,
     "end_time": "2022-07-24T10:44:13.932195",
     "exception": false,
     "start_time": "2022-07-24T10:44:13.923008",
     "status": "completed"
    },
    "tags": []
   },
   "source": [
    "# TabNet Regressor"
   ]
  },
  {
   "cell_type": "code",
   "execution_count": 7,
   "id": "cca59bbe",
   "metadata": {
    "execution": {
     "iopub.execute_input": "2022-07-24T10:44:13.952295Z",
     "iopub.status.busy": "2022-07-24T10:44:13.951510Z",
     "iopub.status.idle": "2022-07-24T10:44:13.960366Z",
     "shell.execute_reply": "2022-07-24T10:44:13.956973Z"
    },
    "papermill": {
     "duration": 0.022265,
     "end_time": "2022-07-24T10:44:13.963555",
     "exception": false,
     "start_time": "2022-07-24T10:44:13.941290",
     "status": "completed"
    },
    "tags": []
   },
   "outputs": [],
   "source": [
    "n_epochs = 1000\n",
    "batch_size = 32"
   ]
  },
  {
   "cell_type": "code",
   "execution_count": 8,
   "id": "e1f26016",
   "metadata": {
    "execution": {
     "iopub.execute_input": "2022-07-24T10:44:13.984612Z",
     "iopub.status.busy": "2022-07-24T10:44:13.983928Z",
     "iopub.status.idle": "2022-07-24T10:47:40.174310Z",
     "shell.execute_reply": "2022-07-24T10:47:40.172998Z"
    },
    "papermill": {
     "duration": 206.204822,
     "end_time": "2022-07-24T10:47:40.178360",
     "exception": false,
     "start_time": "2022-07-24T10:44:13.973538",
     "status": "completed"
    },
    "tags": []
   },
   "outputs": [
    {
     "name": "stdout",
     "output_type": "stream",
     "text": [
      "Device used : cpu\n"
     ]
    },
    {
     "name": "stdout",
     "output_type": "stream",
     "text": [
      "epoch 0  | loss: 1.06957 | train_mse: 0.89826 | train_mae: 0.71416 |  0:00:01s\n"
     ]
    },
    {
     "name": "stdout",
     "output_type": "stream",
     "text": [
      "epoch 1  | loss: 0.3443  | train_mse: 0.39527 | train_mae: 0.47608 |  0:00:02s\n"
     ]
    },
    {
     "name": "stdout",
     "output_type": "stream",
     "text": [
      "epoch 2  | loss: 0.23811 | train_mse: 0.24011 | train_mae: 0.38239 |  0:00:03s\n"
     ]
    },
    {
     "name": "stdout",
     "output_type": "stream",
     "text": [
      "epoch 3  | loss: 0.21495 | train_mse: 0.15606 | train_mae: 0.30002 |  0:00:03s\n"
     ]
    },
    {
     "name": "stdout",
     "output_type": "stream",
     "text": [
      "epoch 4  | loss: 0.19067 | train_mse: 0.174   | train_mae: 0.32302 |  0:00:04s\n"
     ]
    },
    {
     "name": "stdout",
     "output_type": "stream",
     "text": [
      "epoch 5  | loss: 0.16576 | train_mse: 0.12034 | train_mae: 0.27069 |  0:00:05s\n"
     ]
    },
    {
     "name": "stdout",
     "output_type": "stream",
     "text": [
      "epoch 6  | loss: 0.15331 | train_mse: 0.13773 | train_mae: 0.28939 |  0:00:06s\n"
     ]
    },
    {
     "name": "stdout",
     "output_type": "stream",
     "text": [
      "epoch 7  | loss: 0.15158 | train_mse: 0.11128 | train_mae: 0.24712 |  0:00:06s\n"
     ]
    },
    {
     "name": "stdout",
     "output_type": "stream",
     "text": [
      "epoch 8  | loss: 0.12576 | train_mse: 0.08976 | train_mae: 0.20499 |  0:00:07s\n"
     ]
    },
    {
     "name": "stdout",
     "output_type": "stream",
     "text": [
      "epoch 9  | loss: 0.1292  | train_mse: 0.0592  | train_mae: 0.17977 |  0:00:08s\n"
     ]
    },
    {
     "name": "stdout",
     "output_type": "stream",
     "text": [
      "epoch 10 | loss: 0.14899 | train_mse: 0.08681 | train_mae: 0.21022 |  0:00:09s\n"
     ]
    },
    {
     "name": "stdout",
     "output_type": "stream",
     "text": [
      "epoch 11 | loss: 0.10312 | train_mse: 0.07648 | train_mae: 0.20113 |  0:00:09s\n"
     ]
    },
    {
     "name": "stdout",
     "output_type": "stream",
     "text": [
      "epoch 12 | loss: 0.13273 | train_mse: 0.07486 | train_mae: 0.20775 |  0:00:10s\n"
     ]
    },
    {
     "name": "stdout",
     "output_type": "stream",
     "text": [
      "epoch 13 | loss: 0.11456 | train_mse: 0.07437 | train_mae: 0.18745 |  0:00:11s\n"
     ]
    },
    {
     "name": "stdout",
     "output_type": "stream",
     "text": [
      "epoch 14 | loss: 0.11272 | train_mse: 0.05832 | train_mae: 0.18084 |  0:00:11s\n"
     ]
    },
    {
     "name": "stdout",
     "output_type": "stream",
     "text": [
      "epoch 15 | loss: 0.09074 | train_mse: 0.09026 | train_mae: 0.211   |  0:00:12s\n"
     ]
    },
    {
     "name": "stdout",
     "output_type": "stream",
     "text": [
      "epoch 16 | loss: 0.0997  | train_mse: 0.0626  | train_mae: 0.18639 |  0:00:13s\n"
     ]
    },
    {
     "name": "stdout",
     "output_type": "stream",
     "text": [
      "epoch 17 | loss: 0.11436 | train_mse: 0.06142 | train_mae: 0.1853  |  0:00:13s\n"
     ]
    },
    {
     "name": "stdout",
     "output_type": "stream",
     "text": [
      "epoch 18 | loss: 0.08743 | train_mse: 0.04426 | train_mae: 0.15256 |  0:00:14s\n"
     ]
    },
    {
     "name": "stdout",
     "output_type": "stream",
     "text": [
      "epoch 19 | loss: 0.09883 | train_mse: 0.05811 | train_mae: 0.17287 |  0:00:14s\n"
     ]
    },
    {
     "name": "stdout",
     "output_type": "stream",
     "text": [
      "epoch 20 | loss: 0.0796  | train_mse: 0.05263 | train_mae: 0.16508 |  0:00:15s\n"
     ]
    },
    {
     "name": "stdout",
     "output_type": "stream",
     "text": [
      "epoch 21 | loss: 0.07103 | train_mse: 0.05223 | train_mae: 0.16252 |  0:00:16s\n"
     ]
    },
    {
     "name": "stdout",
     "output_type": "stream",
     "text": [
      "epoch 22 | loss: 0.07134 | train_mse: 0.04864 | train_mae: 0.16802 |  0:00:16s\n"
     ]
    },
    {
     "name": "stdout",
     "output_type": "stream",
     "text": [
      "epoch 23 | loss: 0.0734  | train_mse: 0.05257 | train_mae: 0.17323 |  0:00:17s\n"
     ]
    },
    {
     "name": "stdout",
     "output_type": "stream",
     "text": [
      "epoch 24 | loss: 0.07485 | train_mse: 0.06495 | train_mae: 0.19367 |  0:00:17s\n"
     ]
    },
    {
     "name": "stdout",
     "output_type": "stream",
     "text": [
      "epoch 25 | loss: 0.08125 | train_mse: 0.04961 | train_mae: 0.16559 |  0:00:18s\n"
     ]
    },
    {
     "name": "stdout",
     "output_type": "stream",
     "text": [
      "epoch 26 | loss: 0.08121 | train_mse: 0.04782 | train_mae: 0.16836 |  0:00:19s\n"
     ]
    },
    {
     "name": "stdout",
     "output_type": "stream",
     "text": [
      "epoch 27 | loss: 0.08265 | train_mse: 0.04371 | train_mae: 0.1531  |  0:00:19s\n"
     ]
    },
    {
     "name": "stdout",
     "output_type": "stream",
     "text": [
      "epoch 28 | loss: 0.06942 | train_mse: 0.04011 | train_mae: 0.14496 |  0:00:20s\n"
     ]
    },
    {
     "name": "stdout",
     "output_type": "stream",
     "text": [
      "epoch 29 | loss: 0.08261 | train_mse: 0.0401  | train_mae: 0.14238 |  0:00:21s\n"
     ]
    },
    {
     "name": "stdout",
     "output_type": "stream",
     "text": [
      "epoch 30 | loss: 0.06078 | train_mse: 0.03306 | train_mae: 0.13735 |  0:00:21s\n"
     ]
    },
    {
     "name": "stdout",
     "output_type": "stream",
     "text": [
      "epoch 31 | loss: 0.06054 | train_mse: 0.02813 | train_mae: 0.12383 |  0:00:22s\n"
     ]
    },
    {
     "name": "stdout",
     "output_type": "stream",
     "text": [
      "epoch 32 | loss: 0.0855  | train_mse: 0.03112 | train_mae: 0.13225 |  0:00:24s\n"
     ]
    },
    {
     "name": "stdout",
     "output_type": "stream",
     "text": [
      "epoch 33 | loss: 0.06127 | train_mse: 0.03115 | train_mae: 0.12289 |  0:00:25s\n"
     ]
    },
    {
     "name": "stdout",
     "output_type": "stream",
     "text": [
      "epoch 34 | loss: 0.06617 | train_mse: 0.03152 | train_mae: 0.12627 |  0:00:26s\n"
     ]
    },
    {
     "name": "stdout",
     "output_type": "stream",
     "text": [
      "epoch 35 | loss: 0.07313 | train_mse: 0.03127 | train_mae: 0.14051 |  0:00:27s\n"
     ]
    },
    {
     "name": "stdout",
     "output_type": "stream",
     "text": [
      "epoch 36 | loss: 0.06776 | train_mse: 0.02613 | train_mae: 0.11916 |  0:00:27s\n"
     ]
    },
    {
     "name": "stdout",
     "output_type": "stream",
     "text": [
      "epoch 37 | loss: 0.06535 | train_mse: 0.03252 | train_mae: 0.13391 |  0:00:28s\n"
     ]
    },
    {
     "name": "stdout",
     "output_type": "stream",
     "text": [
      "epoch 38 | loss: 0.07252 | train_mse: 0.03376 | train_mae: 0.13404 |  0:00:29s\n"
     ]
    },
    {
     "name": "stdout",
     "output_type": "stream",
     "text": [
      "epoch 39 | loss: 0.04712 | train_mse: 0.02665 | train_mae: 0.12052 |  0:00:30s\n"
     ]
    },
    {
     "name": "stdout",
     "output_type": "stream",
     "text": [
      "epoch 40 | loss: 0.07169 | train_mse: 0.0286  | train_mae: 0.1222  |  0:00:30s\n"
     ]
    },
    {
     "name": "stdout",
     "output_type": "stream",
     "text": [
      "epoch 41 | loss: 0.07897 | train_mse: 0.03111 | train_mae: 0.13525 |  0:00:31s\n"
     ]
    },
    {
     "name": "stdout",
     "output_type": "stream",
     "text": [
      "epoch 42 | loss: 0.04745 | train_mse: 0.02711 | train_mae: 0.12294 |  0:00:32s\n"
     ]
    },
    {
     "name": "stdout",
     "output_type": "stream",
     "text": [
      "epoch 43 | loss: 0.0669  | train_mse: 0.02171 | train_mae: 0.10963 |  0:00:33s\n"
     ]
    },
    {
     "name": "stdout",
     "output_type": "stream",
     "text": [
      "epoch 44 | loss: 0.04938 | train_mse: 0.03202 | train_mae: 0.14468 |  0:00:33s\n"
     ]
    },
    {
     "name": "stdout",
     "output_type": "stream",
     "text": [
      "epoch 45 | loss: 0.05373 | train_mse: 0.03461 | train_mae: 0.1433  |  0:00:34s\n"
     ]
    },
    {
     "name": "stdout",
     "output_type": "stream",
     "text": [
      "epoch 46 | loss: 0.04544 | train_mse: 0.03045 | train_mae: 0.12242 |  0:00:35s\n"
     ]
    },
    {
     "name": "stdout",
     "output_type": "stream",
     "text": [
      "epoch 47 | loss: 0.05861 | train_mse: 0.02757 | train_mae: 0.11687 |  0:00:37s\n"
     ]
    },
    {
     "name": "stdout",
     "output_type": "stream",
     "text": [
      "epoch 48 | loss: 0.05657 | train_mse: 0.02496 | train_mae: 0.11318 |  0:00:38s\n"
     ]
    },
    {
     "name": "stdout",
     "output_type": "stream",
     "text": [
      "epoch 49 | loss: 0.04808 | train_mse: 0.02495 | train_mae: 0.11484 |  0:00:39s\n"
     ]
    },
    {
     "name": "stdout",
     "output_type": "stream",
     "text": [
      "epoch 50 | loss: 0.0591  | train_mse: 0.03174 | train_mae: 0.14167 |  0:00:41s\n"
     ]
    },
    {
     "name": "stdout",
     "output_type": "stream",
     "text": [
      "epoch 51 | loss: 0.05104 | train_mse: 0.02197 | train_mae: 0.11157 |  0:00:43s\n"
     ]
    },
    {
     "name": "stdout",
     "output_type": "stream",
     "text": [
      "epoch 52 | loss: 0.04346 | train_mse: 0.02111 | train_mae: 0.10891 |  0:00:44s\n"
     ]
    },
    {
     "name": "stdout",
     "output_type": "stream",
     "text": [
      "epoch 53 | loss: 0.06489 | train_mse: 0.02795 | train_mae: 0.11819 |  0:00:45s\n"
     ]
    },
    {
     "name": "stdout",
     "output_type": "stream",
     "text": [
      "epoch 54 | loss: 0.04203 | train_mse: 0.02688 | train_mae: 0.12029 |  0:00:46s\n"
     ]
    },
    {
     "name": "stdout",
     "output_type": "stream",
     "text": [
      "epoch 55 | loss: 0.04163 | train_mse: 0.02109 | train_mae: 0.10657 |  0:00:48s\n"
     ]
    },
    {
     "name": "stdout",
     "output_type": "stream",
     "text": [
      "epoch 56 | loss: 0.04497 | train_mse: 0.01916 | train_mae: 0.10265 |  0:00:49s\n"
     ]
    },
    {
     "name": "stdout",
     "output_type": "stream",
     "text": [
      "epoch 57 | loss: 0.03992 | train_mse: 0.02107 | train_mae: 0.10662 |  0:00:50s\n"
     ]
    },
    {
     "name": "stdout",
     "output_type": "stream",
     "text": [
      "epoch 58 | loss: 0.05886 | train_mse: 0.02235 | train_mae: 0.10494 |  0:00:52s\n"
     ]
    },
    {
     "name": "stdout",
     "output_type": "stream",
     "text": [
      "epoch 59 | loss: 0.05333 | train_mse: 0.02035 | train_mae: 0.09529 |  0:00:52s\n"
     ]
    },
    {
     "name": "stdout",
     "output_type": "stream",
     "text": [
      "epoch 60 | loss: 0.04941 | train_mse: 0.02649 | train_mae: 0.10504 |  0:00:54s\n"
     ]
    },
    {
     "name": "stdout",
     "output_type": "stream",
     "text": [
      "epoch 61 | loss: 0.06415 | train_mse: 0.02413 | train_mae: 0.10397 |  0:00:54s\n"
     ]
    },
    {
     "name": "stdout",
     "output_type": "stream",
     "text": [
      "epoch 62 | loss: 0.05906 | train_mse: 0.02308 | train_mae: 0.11037 |  0:00:55s\n"
     ]
    },
    {
     "name": "stdout",
     "output_type": "stream",
     "text": [
      "epoch 63 | loss: 0.06781 | train_mse: 0.03117 | train_mae: 0.13489 |  0:00:56s\n"
     ]
    },
    {
     "name": "stdout",
     "output_type": "stream",
     "text": [
      "epoch 64 | loss: 0.05659 | train_mse: 0.02818 | train_mae: 0.11451 |  0:00:56s\n"
     ]
    },
    {
     "name": "stdout",
     "output_type": "stream",
     "text": [
      "epoch 65 | loss: 0.04508 | train_mse: 0.0313  | train_mae: 0.12524 |  0:00:57s\n"
     ]
    },
    {
     "name": "stdout",
     "output_type": "stream",
     "text": [
      "epoch 66 | loss: 0.03749 | train_mse: 0.01673 | train_mae: 0.09809 |  0:00:58s\n"
     ]
    },
    {
     "name": "stdout",
     "output_type": "stream",
     "text": [
      "epoch 67 | loss: 0.0445  | train_mse: 0.01937 | train_mae: 0.10324 |  0:00:58s\n"
     ]
    },
    {
     "name": "stdout",
     "output_type": "stream",
     "text": [
      "epoch 68 | loss: 0.05495 | train_mse: 0.01636 | train_mae: 0.09336 |  0:00:59s\n"
     ]
    },
    {
     "name": "stdout",
     "output_type": "stream",
     "text": [
      "epoch 69 | loss: 0.0565  | train_mse: 0.02064 | train_mae: 0.10667 |  0:01:00s\n"
     ]
    },
    {
     "name": "stdout",
     "output_type": "stream",
     "text": [
      "epoch 70 | loss: 0.03548 | train_mse: 0.01714 | train_mae: 0.10464 |  0:01:00s\n"
     ]
    },
    {
     "name": "stdout",
     "output_type": "stream",
     "text": [
      "epoch 71 | loss: 0.03375 | train_mse: 0.0173  | train_mae: 0.09708 |  0:01:01s\n"
     ]
    },
    {
     "name": "stdout",
     "output_type": "stream",
     "text": [
      "epoch 72 | loss: 0.0538  | train_mse: 0.01373 | train_mae: 0.08573 |  0:01:02s\n"
     ]
    },
    {
     "name": "stdout",
     "output_type": "stream",
     "text": [
      "epoch 73 | loss: 0.04702 | train_mse: 0.02183 | train_mae: 0.1107  |  0:01:02s\n"
     ]
    },
    {
     "name": "stdout",
     "output_type": "stream",
     "text": [
      "epoch 74 | loss: 0.03823 | train_mse: 0.02051 | train_mae: 0.10732 |  0:01:03s\n"
     ]
    },
    {
     "name": "stdout",
     "output_type": "stream",
     "text": [
      "epoch 75 | loss: 0.04763 | train_mse: 0.01619 | train_mae: 0.09538 |  0:01:04s\n"
     ]
    },
    {
     "name": "stdout",
     "output_type": "stream",
     "text": [
      "epoch 76 | loss: 0.03763 | train_mse: 0.03454 | train_mae: 0.14579 |  0:01:04s\n"
     ]
    },
    {
     "name": "stdout",
     "output_type": "stream",
     "text": [
      "epoch 77 | loss: 0.05187 | train_mse: 0.02088 | train_mae: 0.10798 |  0:01:05s\n"
     ]
    },
    {
     "name": "stdout",
     "output_type": "stream",
     "text": [
      "epoch 78 | loss: 0.03392 | train_mse: 0.01456 | train_mae: 0.08917 |  0:01:06s\n"
     ]
    },
    {
     "name": "stdout",
     "output_type": "stream",
     "text": [
      "epoch 79 | loss: 0.04295 | train_mse: 0.0118  | train_mae: 0.0781  |  0:01:06s\n"
     ]
    },
    {
     "name": "stdout",
     "output_type": "stream",
     "text": [
      "epoch 80 | loss: 0.04378 | train_mse: 0.01827 | train_mae: 0.10211 |  0:01:07s\n"
     ]
    },
    {
     "name": "stdout",
     "output_type": "stream",
     "text": [
      "epoch 81 | loss: 0.03291 | train_mse: 0.02206 | train_mae: 0.10635 |  0:01:07s\n"
     ]
    },
    {
     "name": "stdout",
     "output_type": "stream",
     "text": [
      "epoch 82 | loss: 0.04392 | train_mse: 0.01465 | train_mae: 0.08692 |  0:01:08s\n"
     ]
    },
    {
     "name": "stdout",
     "output_type": "stream",
     "text": [
      "epoch 83 | loss: 0.03213 | train_mse: 0.01393 | train_mae: 0.08456 |  0:01:08s\n"
     ]
    },
    {
     "name": "stdout",
     "output_type": "stream",
     "text": [
      "epoch 84 | loss: 0.03331 | train_mse: 0.01025 | train_mae: 0.07512 |  0:01:09s\n"
     ]
    },
    {
     "name": "stdout",
     "output_type": "stream",
     "text": [
      "epoch 85 | loss: 0.04338 | train_mse: 0.01068 | train_mae: 0.07951 |  0:01:10s\n"
     ]
    },
    {
     "name": "stdout",
     "output_type": "stream",
     "text": [
      "epoch 86 | loss: 0.04244 | train_mse: 0.01886 | train_mae: 0.10131 |  0:01:10s\n"
     ]
    },
    {
     "name": "stdout",
     "output_type": "stream",
     "text": [
      "epoch 87 | loss: 0.03148 | train_mse: 0.01284 | train_mae: 0.08415 |  0:01:11s\n"
     ]
    },
    {
     "name": "stdout",
     "output_type": "stream",
     "text": [
      "epoch 88 | loss: 0.04795 | train_mse: 0.03757 | train_mae: 0.13481 |  0:01:11s\n"
     ]
    },
    {
     "name": "stdout",
     "output_type": "stream",
     "text": [
      "epoch 89 | loss: 0.05336 | train_mse: 0.02106 | train_mae: 0.10423 |  0:01:12s\n"
     ]
    },
    {
     "name": "stdout",
     "output_type": "stream",
     "text": [
      "epoch 90 | loss: 0.04804 | train_mse: 0.0298  | train_mae: 0.11935 |  0:01:13s\n"
     ]
    },
    {
     "name": "stdout",
     "output_type": "stream",
     "text": [
      "epoch 91 | loss: 0.04573 | train_mse: 0.01354 | train_mae: 0.0884  |  0:01:13s\n"
     ]
    },
    {
     "name": "stdout",
     "output_type": "stream",
     "text": [
      "epoch 92 | loss: 0.02883 | train_mse: 0.03395 | train_mae: 0.1118  |  0:01:14s\n"
     ]
    },
    {
     "name": "stdout",
     "output_type": "stream",
     "text": [
      "epoch 93 | loss: 0.03738 | train_mse: 0.01591 | train_mae: 0.09589 |  0:01:15s\n"
     ]
    },
    {
     "name": "stdout",
     "output_type": "stream",
     "text": [
      "epoch 94 | loss: 0.03729 | train_mse: 0.01428 | train_mae: 0.08931 |  0:01:15s\n"
     ]
    },
    {
     "name": "stdout",
     "output_type": "stream",
     "text": [
      "epoch 95 | loss: 0.04119 | train_mse: 0.01285 | train_mae: 0.08322 |  0:01:16s\n"
     ]
    },
    {
     "name": "stdout",
     "output_type": "stream",
     "text": [
      "epoch 96 | loss: 0.0409  | train_mse: 0.01158 | train_mae: 0.07803 |  0:01:17s\n"
     ]
    },
    {
     "name": "stdout",
     "output_type": "stream",
     "text": [
      "epoch 97 | loss: 0.0294  | train_mse: 0.022   | train_mae: 0.10899 |  0:01:17s\n"
     ]
    },
    {
     "name": "stdout",
     "output_type": "stream",
     "text": [
      "epoch 98 | loss: 0.02577 | train_mse: 0.01383 | train_mae: 0.0899  |  0:01:18s\n"
     ]
    },
    {
     "name": "stdout",
     "output_type": "stream",
     "text": [
      "epoch 99 | loss: 0.04717 | train_mse: 0.01266 | train_mae: 0.08563 |  0:01:19s\n"
     ]
    },
    {
     "name": "stdout",
     "output_type": "stream",
     "text": [
      "epoch 100| loss: 0.02578 | train_mse: 0.01175 | train_mae: 0.08955 |  0:01:20s\n"
     ]
    },
    {
     "name": "stdout",
     "output_type": "stream",
     "text": [
      "epoch 101| loss: 0.03022 | train_mse: 0.00826 | train_mae: 0.07067 |  0:01:22s\n"
     ]
    },
    {
     "name": "stdout",
     "output_type": "stream",
     "text": [
      "epoch 102| loss: 0.03058 | train_mse: 0.0107  | train_mae: 0.07839 |  0:01:23s\n"
     ]
    },
    {
     "name": "stdout",
     "output_type": "stream",
     "text": [
      "epoch 103| loss: 0.02603 | train_mse: 0.00906 | train_mae: 0.0711  |  0:01:23s\n"
     ]
    },
    {
     "name": "stdout",
     "output_type": "stream",
     "text": [
      "epoch 104| loss: 0.02652 | train_mse: 0.01611 | train_mae: 0.0937  |  0:01:24s\n"
     ]
    },
    {
     "name": "stdout",
     "output_type": "stream",
     "text": [
      "epoch 105| loss: 0.0233  | train_mse: 0.01436 | train_mae: 0.09408 |  0:01:25s\n"
     ]
    },
    {
     "name": "stdout",
     "output_type": "stream",
     "text": [
      "epoch 106| loss: 0.0268  | train_mse: 0.00914 | train_mae: 0.07024 |  0:01:26s\n"
     ]
    },
    {
     "name": "stdout",
     "output_type": "stream",
     "text": [
      "epoch 107| loss: 0.03357 | train_mse: 0.01112 | train_mae: 0.07688 |  0:01:26s\n"
     ]
    },
    {
     "name": "stdout",
     "output_type": "stream",
     "text": [
      "epoch 108| loss: 0.03458 | train_mse: 0.01367 | train_mae: 0.08313 |  0:01:27s\n"
     ]
    },
    {
     "name": "stdout",
     "output_type": "stream",
     "text": [
      "epoch 109| loss: 0.04011 | train_mse: 0.01447 | train_mae: 0.08772 |  0:01:28s\n"
     ]
    },
    {
     "name": "stdout",
     "output_type": "stream",
     "text": [
      "epoch 110| loss: 0.03753 | train_mse: 0.01234 | train_mae: 0.09243 |  0:01:28s\n"
     ]
    },
    {
     "name": "stdout",
     "output_type": "stream",
     "text": [
      "epoch 111| loss: 0.03933 | train_mse: 0.00935 | train_mae: 0.07127 |  0:01:29s\n"
     ]
    },
    {
     "name": "stdout",
     "output_type": "stream",
     "text": [
      "epoch 112| loss: 0.03969 | train_mse: 0.01319 | train_mae: 0.0815  |  0:01:30s\n"
     ]
    },
    {
     "name": "stdout",
     "output_type": "stream",
     "text": [
      "epoch 113| loss: 0.03004 | train_mse: 0.01088 | train_mae: 0.08078 |  0:01:32s\n"
     ]
    },
    {
     "name": "stdout",
     "output_type": "stream",
     "text": [
      "epoch 114| loss: 0.02666 | train_mse: 0.0108  | train_mae: 0.07078 |  0:01:33s\n"
     ]
    },
    {
     "name": "stdout",
     "output_type": "stream",
     "text": [
      "epoch 115| loss: 0.03349 | train_mse: 0.01473 | train_mae: 0.08611 |  0:01:34s\n"
     ]
    },
    {
     "name": "stdout",
     "output_type": "stream",
     "text": [
      "epoch 116| loss: 0.02463 | train_mse: 0.00798 | train_mae: 0.06364 |  0:01:35s\n"
     ]
    },
    {
     "name": "stdout",
     "output_type": "stream",
     "text": [
      "epoch 117| loss: 0.02403 | train_mse: 0.01087 | train_mae: 0.07545 |  0:01:36s\n"
     ]
    },
    {
     "name": "stdout",
     "output_type": "stream",
     "text": [
      "epoch 118| loss: 0.02239 | train_mse: 0.01341 | train_mae: 0.07687 |  0:01:36s\n"
     ]
    },
    {
     "name": "stdout",
     "output_type": "stream",
     "text": [
      "epoch 119| loss: 0.03417 | train_mse: 0.00983 | train_mae: 0.07162 |  0:01:37s\n"
     ]
    },
    {
     "name": "stdout",
     "output_type": "stream",
     "text": [
      "epoch 120| loss: 0.03169 | train_mse: 0.0131  | train_mae: 0.08309 |  0:01:38s\n"
     ]
    },
    {
     "name": "stdout",
     "output_type": "stream",
     "text": [
      "epoch 121| loss: 0.04024 | train_mse: 0.00951 | train_mae: 0.07349 |  0:01:39s\n"
     ]
    },
    {
     "name": "stdout",
     "output_type": "stream",
     "text": [
      "epoch 122| loss: 0.02613 | train_mse: 0.00874 | train_mae: 0.07278 |  0:01:41s\n"
     ]
    },
    {
     "name": "stdout",
     "output_type": "stream",
     "text": [
      "epoch 123| loss: 0.01712 | train_mse: 0.00765 | train_mae: 0.06637 |  0:01:43s\n"
     ]
    },
    {
     "name": "stdout",
     "output_type": "stream",
     "text": [
      "epoch 124| loss: 0.02236 | train_mse: 0.00943 | train_mae: 0.07595 |  0:01:45s\n"
     ]
    },
    {
     "name": "stdout",
     "output_type": "stream",
     "text": [
      "epoch 125| loss: 0.0384  | train_mse: 0.0136  | train_mae: 0.08909 |  0:01:47s\n"
     ]
    },
    {
     "name": "stdout",
     "output_type": "stream",
     "text": [
      "epoch 126| loss: 0.0372  | train_mse: 0.01473 | train_mae: 0.08629 |  0:01:48s\n"
     ]
    },
    {
     "name": "stdout",
     "output_type": "stream",
     "text": [
      "epoch 127| loss: 0.02778 | train_mse: 0.0065  | train_mae: 0.06121 |  0:01:50s\n"
     ]
    },
    {
     "name": "stdout",
     "output_type": "stream",
     "text": [
      "epoch 128| loss: 0.03349 | train_mse: 0.00605 | train_mae: 0.05734 |  0:01:52s\n"
     ]
    },
    {
     "name": "stdout",
     "output_type": "stream",
     "text": [
      "epoch 129| loss: 0.02868 | train_mse: 0.0134  | train_mae: 0.09231 |  0:01:53s\n"
     ]
    },
    {
     "name": "stdout",
     "output_type": "stream",
     "text": [
      "epoch 130| loss: 0.02555 | train_mse: 0.00797 | train_mae: 0.06999 |  0:01:54s\n"
     ]
    },
    {
     "name": "stdout",
     "output_type": "stream",
     "text": [
      "epoch 131| loss: 0.03097 | train_mse: 0.01173 | train_mae: 0.07877 |  0:01:55s\n"
     ]
    },
    {
     "name": "stdout",
     "output_type": "stream",
     "text": [
      "epoch 132| loss: 0.02134 | train_mse: 0.01166 | train_mae: 0.08131 |  0:01:55s\n"
     ]
    },
    {
     "name": "stdout",
     "output_type": "stream",
     "text": [
      "epoch 133| loss: 0.023   | train_mse: 0.00574 | train_mae: 0.06045 |  0:01:56s\n"
     ]
    },
    {
     "name": "stdout",
     "output_type": "stream",
     "text": [
      "epoch 134| loss: 0.02576 | train_mse: 0.00717 | train_mae: 0.06668 |  0:01:57s\n"
     ]
    },
    {
     "name": "stdout",
     "output_type": "stream",
     "text": [
      "epoch 135| loss: 0.03363 | train_mse: 0.0141  | train_mae: 0.08676 |  0:01:58s\n"
     ]
    },
    {
     "name": "stdout",
     "output_type": "stream",
     "text": [
      "epoch 136| loss: 0.03536 | train_mse: 0.01059 | train_mae: 0.08236 |  0:01:58s\n"
     ]
    },
    {
     "name": "stdout",
     "output_type": "stream",
     "text": [
      "epoch 137| loss: 0.02725 | train_mse: 0.0089  | train_mae: 0.07306 |  0:01:59s\n"
     ]
    },
    {
     "name": "stdout",
     "output_type": "stream",
     "text": [
      "epoch 138| loss: 0.02745 | train_mse: 0.0089  | train_mae: 0.07158 |  0:02:00s\n"
     ]
    },
    {
     "name": "stdout",
     "output_type": "stream",
     "text": [
      "epoch 139| loss: 0.02605 | train_mse: 0.00785 | train_mae: 0.06745 |  0:02:01s\n"
     ]
    },
    {
     "name": "stdout",
     "output_type": "stream",
     "text": [
      "epoch 140| loss: 0.03633 | train_mse: 0.00802 | train_mae: 0.0665  |  0:02:01s\n"
     ]
    },
    {
     "name": "stdout",
     "output_type": "stream",
     "text": [
      "epoch 141| loss: 0.02983 | train_mse: 0.00667 | train_mae: 0.06258 |  0:02:02s\n"
     ]
    },
    {
     "name": "stdout",
     "output_type": "stream",
     "text": [
      "epoch 142| loss: 0.02875 | train_mse: 0.01071 | train_mae: 0.08163 |  0:02:03s\n"
     ]
    },
    {
     "name": "stdout",
     "output_type": "stream",
     "text": [
      "epoch 143| loss: 0.02524 | train_mse: 0.0097  | train_mae: 0.07422 |  0:02:03s\n"
     ]
    },
    {
     "name": "stdout",
     "output_type": "stream",
     "text": [
      "epoch 144| loss: 0.02448 | train_mse: 0.00675 | train_mae: 0.06714 |  0:02:04s\n"
     ]
    },
    {
     "name": "stdout",
     "output_type": "stream",
     "text": [
      "epoch 145| loss: 0.02092 | train_mse: 0.00723 | train_mae: 0.06994 |  0:02:05s\n"
     ]
    },
    {
     "name": "stdout",
     "output_type": "stream",
     "text": [
      "epoch 146| loss: 0.02871 | train_mse: 0.00536 | train_mae: 0.0552  |  0:02:05s\n"
     ]
    },
    {
     "name": "stdout",
     "output_type": "stream",
     "text": [
      "epoch 147| loss: 0.0194  | train_mse: 0.00904 | train_mae: 0.06833 |  0:02:06s\n"
     ]
    },
    {
     "name": "stdout",
     "output_type": "stream",
     "text": [
      "epoch 148| loss: 0.01878 | train_mse: 0.00825 | train_mae: 0.07139 |  0:02:07s\n"
     ]
    },
    {
     "name": "stdout",
     "output_type": "stream",
     "text": [
      "epoch 149| loss: 0.01483 | train_mse: 0.00692 | train_mae: 0.06691 |  0:02:08s\n"
     ]
    },
    {
     "name": "stdout",
     "output_type": "stream",
     "text": [
      "epoch 150| loss: 0.0574  | train_mse: 0.0124  | train_mae: 0.08606 |  0:02:09s\n"
     ]
    },
    {
     "name": "stdout",
     "output_type": "stream",
     "text": [
      "epoch 151| loss: 0.01866 | train_mse: 0.00981 | train_mae: 0.06698 |  0:02:10s\n"
     ]
    },
    {
     "name": "stdout",
     "output_type": "stream",
     "text": [
      "epoch 152| loss: 0.01643 | train_mse: 0.01037 | train_mae: 0.07668 |  0:02:11s\n"
     ]
    },
    {
     "name": "stdout",
     "output_type": "stream",
     "text": [
      "epoch 153| loss: 0.02528 | train_mse: 0.01173 | train_mae: 0.07861 |  0:02:12s\n"
     ]
    },
    {
     "name": "stdout",
     "output_type": "stream",
     "text": [
      "epoch 154| loss: 0.01926 | train_mse: 0.00689 | train_mae: 0.06421 |  0:02:13s\n"
     ]
    },
    {
     "name": "stdout",
     "output_type": "stream",
     "text": [
      "epoch 155| loss: 0.03194 | train_mse: 0.01419 | train_mae: 0.08682 |  0:02:15s\n"
     ]
    },
    {
     "name": "stdout",
     "output_type": "stream",
     "text": [
      "epoch 156| loss: 0.03594 | train_mse: 0.01036 | train_mae: 0.07482 |  0:02:16s\n"
     ]
    },
    {
     "name": "stdout",
     "output_type": "stream",
     "text": [
      "epoch 157| loss: 0.03403 | train_mse: 0.02594 | train_mae: 0.13011 |  0:02:17s\n"
     ]
    },
    {
     "name": "stdout",
     "output_type": "stream",
     "text": [
      "epoch 158| loss: 0.03927 | train_mse: 0.01081 | train_mae: 0.08507 |  0:02:18s\n"
     ]
    },
    {
     "name": "stdout",
     "output_type": "stream",
     "text": [
      "epoch 159| loss: 0.0293  | train_mse: 0.00932 | train_mae: 0.07252 |  0:02:19s\n"
     ]
    },
    {
     "name": "stdout",
     "output_type": "stream",
     "text": [
      "epoch 160| loss: 0.02784 | train_mse: 0.00752 | train_mae: 0.06629 |  0:02:20s\n"
     ]
    },
    {
     "name": "stdout",
     "output_type": "stream",
     "text": [
      "epoch 161| loss: 0.04583 | train_mse: 0.02077 | train_mae: 0.12206 |  0:02:21s\n"
     ]
    },
    {
     "name": "stdout",
     "output_type": "stream",
     "text": [
      "epoch 162| loss: 0.02559 | train_mse: 0.00791 | train_mae: 0.07545 |  0:02:22s\n"
     ]
    },
    {
     "name": "stdout",
     "output_type": "stream",
     "text": [
      "epoch 163| loss: 0.02458 | train_mse: 0.00787 | train_mae: 0.06745 |  0:02:23s\n"
     ]
    },
    {
     "name": "stdout",
     "output_type": "stream",
     "text": [
      "epoch 164| loss: 0.03017 | train_mse: 0.00961 | train_mae: 0.07489 |  0:02:24s\n"
     ]
    },
    {
     "name": "stdout",
     "output_type": "stream",
     "text": [
      "epoch 165| loss: 0.02089 | train_mse: 0.00992 | train_mae: 0.07737 |  0:02:26s\n"
     ]
    },
    {
     "name": "stdout",
     "output_type": "stream",
     "text": [
      "epoch 166| loss: 0.02947 | train_mse: 0.00948 | train_mae: 0.07673 |  0:02:27s\n"
     ]
    },
    {
     "name": "stdout",
     "output_type": "stream",
     "text": [
      "epoch 167| loss: 0.02431 | train_mse: 0.01403 | train_mae: 0.08875 |  0:02:28s\n"
     ]
    },
    {
     "name": "stdout",
     "output_type": "stream",
     "text": [
      "epoch 168| loss: 0.01906 | train_mse: 0.00582 | train_mae: 0.05661 |  0:02:28s\n"
     ]
    },
    {
     "name": "stdout",
     "output_type": "stream",
     "text": [
      "epoch 169| loss: 0.03105 | train_mse: 0.02338 | train_mae: 0.11848 |  0:02:29s\n"
     ]
    },
    {
     "name": "stdout",
     "output_type": "stream",
     "text": [
      "epoch 170| loss: 0.03377 | train_mse: 0.01434 | train_mae: 0.09546 |  0:02:30s\n"
     ]
    },
    {
     "name": "stdout",
     "output_type": "stream",
     "text": [
      "epoch 171| loss: 0.02983 | train_mse: 0.00802 | train_mae: 0.06747 |  0:02:31s\n"
     ]
    },
    {
     "name": "stdout",
     "output_type": "stream",
     "text": [
      "epoch 172| loss: 0.02989 | train_mse: 0.00999 | train_mae: 0.08343 |  0:02:32s\n"
     ]
    },
    {
     "name": "stdout",
     "output_type": "stream",
     "text": [
      "epoch 173| loss: 0.02115 | train_mse: 0.00874 | train_mae: 0.07469 |  0:02:34s\n"
     ]
    },
    {
     "name": "stdout",
     "output_type": "stream",
     "text": [
      "epoch 174| loss: 0.02461 | train_mse: 0.00673 | train_mae: 0.0645  |  0:02:35s\n"
     ]
    },
    {
     "name": "stdout",
     "output_type": "stream",
     "text": [
      "epoch 175| loss: 0.01258 | train_mse: 0.01022 | train_mae: 0.07824 |  0:02:36s\n"
     ]
    },
    {
     "name": "stdout",
     "output_type": "stream",
     "text": [
      "epoch 176| loss: 0.01916 | train_mse: 0.00558 | train_mae: 0.05703 |  0:02:37s\n"
     ]
    },
    {
     "name": "stdout",
     "output_type": "stream",
     "text": [
      "epoch 177| loss: 0.01863 | train_mse: 0.00485 | train_mae: 0.05554 |  0:02:38s\n"
     ]
    },
    {
     "name": "stdout",
     "output_type": "stream",
     "text": [
      "epoch 178| loss: 0.03905 | train_mse: 0.00839 | train_mae: 0.07278 |  0:02:39s\n"
     ]
    },
    {
     "name": "stdout",
     "output_type": "stream",
     "text": [
      "epoch 179| loss: 0.04169 | train_mse: 0.01439 | train_mae: 0.10188 |  0:02:40s\n"
     ]
    },
    {
     "name": "stdout",
     "output_type": "stream",
     "text": [
      "epoch 180| loss: 0.02206 | train_mse: 0.00724 | train_mae: 0.06122 |  0:02:40s\n"
     ]
    },
    {
     "name": "stdout",
     "output_type": "stream",
     "text": [
      "epoch 181| loss: 0.021   | train_mse: 0.01155 | train_mae: 0.08825 |  0:02:41s\n"
     ]
    },
    {
     "name": "stdout",
     "output_type": "stream",
     "text": [
      "epoch 182| loss: 0.01664 | train_mse: 0.01277 | train_mae: 0.09867 |  0:02:42s\n"
     ]
    },
    {
     "name": "stdout",
     "output_type": "stream",
     "text": [
      "epoch 183| loss: 0.02454 | train_mse: 0.00622 | train_mae: 0.06197 |  0:02:43s\n"
     ]
    },
    {
     "name": "stdout",
     "output_type": "stream",
     "text": [
      "epoch 184| loss: 0.01237 | train_mse: 0.00353 | train_mae: 0.04584 |  0:02:44s\n"
     ]
    },
    {
     "name": "stdout",
     "output_type": "stream",
     "text": [
      "epoch 185| loss: 0.01604 | train_mse: 0.0083  | train_mae: 0.07262 |  0:02:44s\n"
     ]
    },
    {
     "name": "stdout",
     "output_type": "stream",
     "text": [
      "epoch 186| loss: 0.01906 | train_mse: 0.00887 | train_mae: 0.07208 |  0:02:45s\n"
     ]
    },
    {
     "name": "stdout",
     "output_type": "stream",
     "text": [
      "epoch 187| loss: 0.0214  | train_mse: 0.00619 | train_mae: 0.06209 |  0:02:46s\n"
     ]
    },
    {
     "name": "stdout",
     "output_type": "stream",
     "text": [
      "epoch 188| loss: 0.0162  | train_mse: 0.00546 | train_mae: 0.05602 |  0:02:46s\n"
     ]
    },
    {
     "name": "stdout",
     "output_type": "stream",
     "text": [
      "epoch 189| loss: 0.01444 | train_mse: 0.00422 | train_mae: 0.05015 |  0:02:47s\n"
     ]
    },
    {
     "name": "stdout",
     "output_type": "stream",
     "text": [
      "epoch 190| loss: 0.01606 | train_mse: 0.01521 | train_mae: 0.09999 |  0:02:48s\n"
     ]
    },
    {
     "name": "stdout",
     "output_type": "stream",
     "text": [
      "epoch 191| loss: 0.02881 | train_mse: 0.02067 | train_mae: 0.12042 |  0:02:49s\n"
     ]
    },
    {
     "name": "stdout",
     "output_type": "stream",
     "text": [
      "epoch 192| loss: 0.02499 | train_mse: 0.00465 | train_mae: 0.05243 |  0:02:50s\n"
     ]
    },
    {
     "name": "stdout",
     "output_type": "stream",
     "text": [
      "epoch 193| loss: 0.01754 | train_mse: 0.00528 | train_mae: 0.05935 |  0:02:51s\n"
     ]
    },
    {
     "name": "stdout",
     "output_type": "stream",
     "text": [
      "epoch 194| loss: 0.01201 | train_mse: 0.00489 | train_mae: 0.05095 |  0:02:52s\n"
     ]
    },
    {
     "name": "stdout",
     "output_type": "stream",
     "text": [
      "epoch 195| loss: 0.01167 | train_mse: 0.00458 | train_mae: 0.05109 |  0:02:52s\n"
     ]
    },
    {
     "name": "stdout",
     "output_type": "stream",
     "text": [
      "epoch 196| loss: 0.02429 | train_mse: 0.00488 | train_mae: 0.05493 |  0:02:53s\n"
     ]
    },
    {
     "name": "stdout",
     "output_type": "stream",
     "text": [
      "epoch 197| loss: 0.02239 | train_mse: 0.00744 | train_mae: 0.0705  |  0:02:53s\n"
     ]
    },
    {
     "name": "stdout",
     "output_type": "stream",
     "text": [
      "epoch 198| loss: 0.02248 | train_mse: 0.00553 | train_mae: 0.06194 |  0:02:54s\n"
     ]
    },
    {
     "name": "stdout",
     "output_type": "stream",
     "text": [
      "epoch 199| loss: 0.03486 | train_mse: 0.0058  | train_mae: 0.05654 |  0:02:55s\n"
     ]
    },
    {
     "name": "stdout",
     "output_type": "stream",
     "text": [
      "epoch 200| loss: 0.01788 | train_mse: 0.0044  | train_mae: 0.05363 |  0:02:56s\n"
     ]
    },
    {
     "name": "stdout",
     "output_type": "stream",
     "text": [
      "epoch 201| loss: 0.04615 | train_mse: 0.01822 | train_mae: 0.09512 |  0:02:56s\n"
     ]
    },
    {
     "name": "stdout",
     "output_type": "stream",
     "text": [
      "epoch 202| loss: 0.02521 | train_mse: 0.00983 | train_mae: 0.07996 |  0:02:57s\n"
     ]
    },
    {
     "name": "stdout",
     "output_type": "stream",
     "text": [
      "epoch 203| loss: 0.01794 | train_mse: 0.00616 | train_mae: 0.06153 |  0:02:57s\n"
     ]
    },
    {
     "name": "stdout",
     "output_type": "stream",
     "text": [
      "epoch 204| loss: 0.01724 | train_mse: 0.00879 | train_mae: 0.07394 |  0:02:58s\n"
     ]
    },
    {
     "name": "stdout",
     "output_type": "stream",
     "text": [
      "epoch 205| loss: 0.01822 | train_mse: 0.01333 | train_mae: 0.08665 |  0:02:59s\n"
     ]
    },
    {
     "name": "stdout",
     "output_type": "stream",
     "text": [
      "epoch 206| loss: 0.02324 | train_mse: 0.00477 | train_mae: 0.05086 |  0:03:00s\n"
     ]
    },
    {
     "name": "stdout",
     "output_type": "stream",
     "text": [
      "epoch 207| loss: 0.01671 | train_mse: 0.00879 | train_mae: 0.06611 |  0:03:00s\n"
     ]
    },
    {
     "name": "stdout",
     "output_type": "stream",
     "text": [
      "epoch 208| loss: 0.02267 | train_mse: 0.00907 | train_mae: 0.06984 |  0:03:01s\n"
     ]
    },
    {
     "name": "stdout",
     "output_type": "stream",
     "text": [
      "epoch 209| loss: 0.01283 | train_mse: 0.00467 | train_mae: 0.04919 |  0:03:02s\n"
     ]
    },
    {
     "name": "stdout",
     "output_type": "stream",
     "text": [
      "epoch 210| loss: 0.02066 | train_mse: 0.00477 | train_mae: 0.05493 |  0:03:02s\n"
     ]
    },
    {
     "name": "stdout",
     "output_type": "stream",
     "text": [
      "epoch 211| loss: 0.02352 | train_mse: 0.00698 | train_mae: 0.06199 |  0:03:03s\n"
     ]
    },
    {
     "name": "stdout",
     "output_type": "stream",
     "text": [
      "epoch 212| loss: 0.02228 | train_mse: 0.00814 | train_mae: 0.07137 |  0:03:04s\n"
     ]
    },
    {
     "name": "stdout",
     "output_type": "stream",
     "text": [
      "epoch 213| loss: 0.02817 | train_mse: 0.0119  | train_mae: 0.07899 |  0:03:04s\n"
     ]
    },
    {
     "name": "stdout",
     "output_type": "stream",
     "text": [
      "epoch 214| loss: 0.02617 | train_mse: 0.00844 | train_mae: 0.06711 |  0:03:06s\n"
     ]
    },
    {
     "name": "stdout",
     "output_type": "stream",
     "text": [
      "epoch 215| loss: 0.0155  | train_mse: 0.00364 | train_mae: 0.04611 |  0:03:07s\n"
     ]
    },
    {
     "name": "stdout",
     "output_type": "stream",
     "text": [
      "epoch 216| loss: 0.0252  | train_mse: 0.006   | train_mae: 0.05596 |  0:03:07s\n"
     ]
    },
    {
     "name": "stdout",
     "output_type": "stream",
     "text": [
      "epoch 217| loss: 0.01642 | train_mse: 0.00545 | train_mae: 0.05344 |  0:03:08s\n"
     ]
    },
    {
     "name": "stdout",
     "output_type": "stream",
     "text": [
      "epoch 218| loss: 0.02425 | train_mse: 0.00596 | train_mae: 0.05433 |  0:03:09s\n"
     ]
    },
    {
     "name": "stdout",
     "output_type": "stream",
     "text": [
      "epoch 219| loss: 0.0174  | train_mse: 0.00727 | train_mae: 0.06654 |  0:03:10s\n"
     ]
    },
    {
     "name": "stdout",
     "output_type": "stream",
     "text": [
      "epoch 220| loss: 0.013   | train_mse: 0.00378 | train_mae: 0.04871 |  0:03:10s\n"
     ]
    },
    {
     "name": "stdout",
     "output_type": "stream",
     "text": [
      "epoch 221| loss: 0.01623 | train_mse: 0.00493 | train_mae: 0.05256 |  0:03:11s\n"
     ]
    },
    {
     "name": "stdout",
     "output_type": "stream",
     "text": [
      "epoch 222| loss: 0.02421 | train_mse: 0.01195 | train_mae: 0.06837 |  0:03:12s\n"
     ]
    },
    {
     "name": "stdout",
     "output_type": "stream",
     "text": [
      "epoch 223| loss: 0.01918 | train_mse: 0.00791 | train_mae: 0.062   |  0:03:13s\n"
     ]
    },
    {
     "name": "stdout",
     "output_type": "stream",
     "text": [
      "epoch 224| loss: 0.0291  | train_mse: 0.01754 | train_mae: 0.09068 |  0:03:14s\n"
     ]
    },
    {
     "name": "stdout",
     "output_type": "stream",
     "text": [
      "epoch 225| loss: 0.02793 | train_mse: 0.00921 | train_mae: 0.0697  |  0:03:14s\n"
     ]
    },
    {
     "name": "stdout",
     "output_type": "stream",
     "text": [
      "epoch 226| loss: 0.01849 | train_mse: 0.00489 | train_mae: 0.05683 |  0:03:15s\n"
     ]
    },
    {
     "name": "stdout",
     "output_type": "stream",
     "text": [
      "epoch 227| loss: 0.01167 | train_mse: 0.00579 | train_mae: 0.06183 |  0:03:16s\n"
     ]
    },
    {
     "name": "stdout",
     "output_type": "stream",
     "text": [
      "epoch 228| loss: 0.02671 | train_mse: 0.02048 | train_mae: 0.09517 |  0:03:16s\n"
     ]
    },
    {
     "name": "stdout",
     "output_type": "stream",
     "text": [
      "epoch 229| loss: 0.02683 | train_mse: 0.01586 | train_mae: 0.09939 |  0:03:18s\n"
     ]
    },
    {
     "name": "stdout",
     "output_type": "stream",
     "text": [
      "epoch 230| loss: 0.02009 | train_mse: 0.00454 | train_mae: 0.05356 |  0:03:21s\n"
     ]
    },
    {
     "name": "stdout",
     "output_type": "stream",
     "text": [
      "epoch 231| loss: 0.016   | train_mse: 0.00458 | train_mae: 0.05054 |  0:03:23s\n"
     ]
    },
    {
     "name": "stdout",
     "output_type": "stream",
     "text": [
      "epoch 232| loss: 0.01813 | train_mse: 0.005   | train_mae: 0.05238 |  0:03:24s\n"
     ]
    },
    {
     "name": "stdout",
     "output_type": "stream",
     "text": [
      "epoch 233| loss: 0.02035 | train_mse: 0.00683 | train_mae: 0.06278 |  0:03:25s\n"
     ]
    },
    {
     "name": "stdout",
     "output_type": "stream",
     "text": [
      "epoch 234| loss: 0.01228 | train_mse: 0.00593 | train_mae: 0.06184 |  0:03:25s\n",
      "\n",
      "Early stopping occurred at epoch 234 with best_epoch = 184 and best_train_mae = 0.04584\n",
      "Best weights from best epoch are automatically used!\n",
      "BEST VALID SCORE FOR dataset : 0.0458449022893336\n",
      "FINAL TEST SCORE FOR dataset: 0.04443238997663107\n",
      "{'loss': [1.069571987134238, 0.34430457326410646, 0.2381074858604891, 0.2149530229816996, 0.19066576239825847, 0.16575929600175118, 0.1533098811047085, 0.15158480206801758, 0.12575630431066506, 0.12919756993408701, 0.14899346790601065, 0.10311784995689455, 0.13273107811371745, 0.11455884964147686, 0.11271721716812456, 0.09073521803566997, 0.09969805926084518, 0.11435868045017851, 0.08743287186086761, 0.09883253426815865, 0.07959767807190116, 0.07102586853193538, 0.07134016057179106, 0.07340302878948299, 0.0748494143206444, 0.08124787940458676, 0.08121210705573861, 0.08264709841642007, 0.06941873902994958, 0.0826097117427506, 0.06077612218134566, 0.06054291106663427, 0.08549908939324295, 0.06126991210426492, 0.06617435706166569, 0.07312567391302374, 0.06776052771639746, 0.06534833390666142, 0.07251947130461857, 0.04712152808710496, 0.07168519564870902, 0.07896693541095001, 0.047448044879428726, 0.06690172846231865, 0.04938053754719538, 0.05373341034406171, 0.04543508506753157, 0.0586110336966934, 0.056571561127221545, 0.0480841995741723, 0.059101535608015156, 0.05103746177901663, 0.043464506196665066, 0.06488692124619934, 0.04202550240710426, 0.04162932087815934, 0.044970671837415294, 0.03992174803628207, 0.05886207482131374, 0.05333192282468566, 0.04941201724524607, 0.06414917218180355, 0.05905749840534471, 0.06780575545874791, 0.056593673673825465, 0.04508258685081324, 0.03748693703051887, 0.04450184694136393, 0.054950752893177614, 0.056500685865405326, 0.03548471908713009, 0.0337495257537994, 0.053800778785047, 0.0470232113176526, 0.03823405513934281, 0.04762505368611712, 0.03762854626007888, 0.05187206722626081, 0.03391861058892955, 0.04294995614099969, 0.04378033291050977, 0.03290742295961038, 0.04392175070625951, 0.032130125825102246, 0.03330635349797116, 0.043377731298779046, 0.04244228639315316, 0.03148437236778511, 0.047945368076380376, 0.05336026588291027, 0.04803823764627065, 0.04573155973555599, 0.028827597341630668, 0.0373771651268782, 0.037288122692112034, 0.04119349406965393, 0.040896203478112673, 0.029395634593618034, 0.02577033117170831, 0.04717380395735514, 0.02578448032177621, 0.030218697817395487, 0.030582395094031233, 0.026034426999791048, 0.026515191851687353, 0.02330099775513531, 0.02679624976377922, 0.03356870897235622, 0.03457793916184273, 0.04010592502957447, 0.03752885817122382, 0.03933386878392595, 0.03969400511987823, 0.030040917256756016, 0.026659490109849054, 0.033488753078814826, 0.024633895363112616, 0.024031329984967795, 0.02238871793016937, 0.0341689745843993, 0.031687068507220924, 0.04023668310735436, 0.026130146671584063, 0.0171154818773658, 0.02235552913688293, 0.038397882825388585, 0.03720215621862427, 0.027782424034532585, 0.03348527877843341, 0.02867765904249508, 0.02555484581944997, 0.03096851232046025, 0.021343172822111206, 0.023001934495733303, 0.025761803727390713, 0.03362740558065498, 0.03536372236203681, 0.027246891153848908, 0.02745129037587767, 0.02604965658112147, 0.03633159835874452, 0.029834342574403417, 0.028753648606107754, 0.02524001411304897, 0.02447824757728204, 0.02092276466251973, 0.028706221219382766, 0.019397197309456743, 0.018782787122050795, 0.01482741300514156, 0.05739561327602653, 0.01865708592563188, 0.01642534455302678, 0.025283016871163435, 0.019259008551653512, 0.031944083268314306, 0.035935584783359925, 0.0340262767449264, 0.039267093307226414, 0.029299264767659216, 0.027839561287277298, 0.04583174638231725, 0.025593250504534096, 0.02458286537797909, 0.030174758758529388, 0.020886702899872673, 0.0294744217046309, 0.02430872643421061, 0.019061244678371114, 0.031053128576434007, 0.03376570212918695, 0.029832862584521017, 0.029890844325386353, 0.02114806151933701, 0.02461409122237165, 0.012575880669858246, 0.019156867013303776, 0.0186323009989549, 0.03904642337017028, 0.04169388663885259, 0.02205535218556463, 0.02100032970843175, 0.016642625392065763, 0.024535693810700594, 0.012370610251682977, 0.016041256760395698, 0.019061998151703844, 0.021401402883304447, 0.016200761647488474, 0.014437662395087437, 0.016059970719806534, 0.02881050507874753, 0.024993886412743246, 0.01754154515807617, 0.01200722274446332, 0.011669767990174433, 0.024286387554985692, 0.02238839454584867, 0.022482238649254124, 0.03485862083174895, 0.017875835202415914, 0.046146132488786594, 0.025212113190357384, 0.017938871870988353, 0.017235477724952885, 0.018222933993083258, 0.023235538288805306, 0.016710324837835293, 0.022668207579987058, 0.012831404598896977, 0.02066360126440611, 0.023520812974690615, 0.022276268986809136, 0.02816952726157558, 0.02616549123090719, 0.015499090539224762, 0.025202926551674398, 0.01642148543743823, 0.02424574687057675, 0.017397248662450026, 0.012996631240660281, 0.01622851253623683, 0.024213757547959444, 0.01918439960246754, 0.029095421954746743, 0.027934802192527232, 0.01849357895431767, 0.011672327015852307, 0.026713778325493057, 0.026830892852152597, 0.020089505294926393, 0.015999236996573813, 0.018128487278467668, 0.020346053854747394, 0.012276320678791705], 'lr': [0.01, 0.01, 0.01, 0.01, 0.01, 0.01, 0.01, 0.01, 0.01, 0.01, 0.01, 0.01, 0.01, 0.01, 0.01, 0.01, 0.01, 0.01, 0.01, 0.01, 0.01, 0.01, 0.01, 0.01, 0.01, 0.01, 0.01, 0.01, 0.01, 0.01, 0.01, 0.01, 0.01, 0.01, 0.01, 0.01, 0.01, 0.01, 0.01, 0.01, 0.01, 0.01, 0.01, 0.01, 0.01, 0.01, 0.01, 0.01, 0.01, 0.01, 0.01, 0.01, 0.01, 0.01, 0.01, 0.01, 0.01, 0.01, 0.01, 0.01, 0.01, 0.01, 0.01, 0.01, 0.01, 0.01, 0.01, 0.01, 0.01, 0.01, 0.01, 0.01, 0.01, 0.01, 0.01, 0.01, 0.01, 0.01, 0.01, 0.01, 0.01, 0.01, 0.01, 0.01, 0.01, 0.01, 0.01, 0.01, 0.01, 0.01, 0.01, 0.01, 0.01, 0.01, 0.01, 0.01, 0.01, 0.01, 0.01, 0.01, 0.01, 0.01, 0.01, 0.01, 0.01, 0.01, 0.01, 0.01, 0.01, 0.01, 0.01, 0.01, 0.01, 0.01, 0.01, 0.01, 0.01, 0.01, 0.01, 0.01, 0.01, 0.01, 0.01, 0.01, 0.01, 0.01, 0.01, 0.01, 0.01, 0.01, 0.01, 0.01, 0.01, 0.01, 0.01, 0.01, 0.01, 0.01, 0.01, 0.01, 0.01, 0.01, 0.01, 0.01, 0.01, 0.01, 0.01, 0.01, 0.01, 0.01, 0.01, 0.01, 0.01, 0.01, 0.01, 0.01, 0.01, 0.01, 0.01, 0.01, 0.01, 0.01, 0.01, 0.01, 0.01, 0.01, 0.01, 0.01, 0.01, 0.01, 0.01, 0.01, 0.01, 0.01, 0.01, 0.01, 0.01, 0.01, 0.01, 0.01, 0.01, 0.01, 0.01, 0.01, 0.01, 0.01, 0.01, 0.01, 0.01, 0.01, 0.01, 0.01, 0.01, 0.01, 0.01, 0.01, 0.01, 0.01, 0.01, 0.01, 0.01, 0.01, 0.01, 0.01, 0.01, 0.01, 0.01, 0.01, 0.01, 0.01, 0.01, 0.01, 0.01, 0.01, 0.01, 0.01, 0.01, 0.01, 0.01, 0.01, 0.01, 0.01, 0.01, 0.01, 0.01, 0.01, 0.01, 0.01, 0.01, 0.01, 0.01, 0.01, 0.01, 0.01, 0.01], 'train_mse': [0.8982627553098493, 0.39526528025329544, 0.24010611911147706, 0.1560566407854564, 0.17400437847612288, 0.12033582935772072, 0.1377335501241815, 0.11128361331897156, 0.08976267509201376, 0.059204854513614714, 0.08681300475576086, 0.07648185037906204, 0.07485533035309007, 0.07436506815821753, 0.05831550002240644, 0.09025613365106387, 0.06259818835308316, 0.06141644888217832, 0.04426299256306742, 0.05811099099695035, 0.05263468122242412, 0.052229614458427796, 0.04863635560167866, 0.052567991073037716, 0.06494635251682922, 0.049605657129914695, 0.04782379695368833, 0.04370762080996337, 0.04010529805188439, 0.04010242197032181, 0.03306392452385771, 0.028126833980913517, 0.03111602565771329, 0.031154649965669676, 0.031523103224123515, 0.031272556332514495, 0.026128764501263214, 0.03252428818883799, 0.033762540925022864, 0.0266479446485966, 0.02860280189154098, 0.031110663566559553, 0.027108490017724106, 0.021707425830830584, 0.03201947699323592, 0.03460501455537064, 0.030452032586064843, 0.0275696997996937, 0.024955382506316133, 0.024946155954789877, 0.03174459492299019, 0.02197088554881589, 0.021113754643545424, 0.02794522300834165, 0.026877314777865643, 0.021085322261911687, 0.019164494620191926, 0.021070863414264493, 0.02234778451144345, 0.02035255713575252, 0.026494050635003683, 0.024133792939435007, 0.023082578474161293, 0.031173855698906305, 0.02817831510488255, 0.031296104279730654, 0.016732688067674535, 0.019368067275468193, 0.016357981389746392, 0.020638346565115828, 0.017142736152494113, 0.017304777228051675, 0.013733563953316598, 0.02183052279303458, 0.020513886450716785, 0.01619168726948077, 0.034536160168135294, 0.02088188080207848, 0.014555521651349575, 0.011799394071597509, 0.018268076392347628, 0.022056653523009197, 0.014647196994408274, 0.013932675440629223, 0.010249666957594026, 0.010679672036445856, 0.018858387174300523, 0.012840471331137741, 0.037565922520107445, 0.02106270671441664, 0.029798545293040518, 0.013542512641659253, 0.03394529277289493, 0.015905541134338428, 0.014284539851202517, 0.01284657166715939, 0.011582244216577907, 0.022004902115003614, 0.013833974451807198, 0.012662076312336134, 0.011747033763811785, 0.00825654086252679, 0.01070083944068119, 0.009055233275852715, 0.01611244220138215, 0.014360904775882042, 0.009141992772658728, 0.011116233886598693, 0.01366875453582899, 0.014469190062629865, 0.01233783177875806, 0.009345725196278413, 0.013190612879800757, 0.010881532002427724, 0.010801912693416568, 0.014730359596772116, 0.007981534056438595, 0.010871865268521836, 0.013407608606597305, 0.009829865028546471, 0.013096923625032947, 0.009509126844337214, 0.008742824898228266, 0.007654252485063845, 0.00942816315574443, 0.013602033527309942, 0.014731039229211344, 0.006498493128953261, 0.006048856815891518, 0.0133967868425638, 0.007974411367863532, 0.011731830987948196, 0.01165635901624746, 0.005742414734380293, 0.007172278513332839, 0.014097038581338798, 0.010586877970293033, 0.008897601690405458, 0.008899467715014368, 0.007854100796466134, 0.008015455736179851, 0.006673367495852613, 0.010712378262671329, 0.009696387919698339, 0.00674703744331868, 0.007230342814962457, 0.005363274150741359, 0.009041457941875915, 0.008254742965041436, 0.00692149754386483, 0.012401532870151563, 0.009813647238082774, 0.0103726716371239, 0.011732723628261553, 0.006887099499490834, 0.01419063998231246, 0.010358340755838075, 0.025944051475603486, 0.010805575242884873, 0.009317117982522063, 0.00752420094523704, 0.020773761003882882, 0.007911814126241323, 0.007871188785028896, 0.009609538687941527, 0.009915433093841255, 0.009476853296774081, 0.0140346425503907, 0.005820275405760897, 0.023384773623171866, 0.014340682893248627, 0.008020302724928353, 0.009993635186324715, 0.00874078781000723, 0.006730489509332286, 0.010223188012126003, 0.005581513456153502, 0.004854498155735995, 0.008391010064446841, 0.01438722701824502, 0.007238354474941354, 0.011552272103142388, 0.012774775222338162, 0.006222341159306272, 0.0035302042998856384, 0.00829852047855375, 0.008873816923102332, 0.006193021265506553, 0.005457732879777335, 0.004216256730163017, 0.015210919743782123, 0.020671108658435286, 0.004654831972503286, 0.005282335533506514, 0.004894191842801331, 0.004576232944397955, 0.004880540782286544, 0.007435531425543203, 0.0055307056509967655, 0.005798371393126559, 0.0043951241629715775, 0.01822416313364459, 0.009832867876857188, 0.006155057567511424, 0.008786603276380488, 0.01332679311101266, 0.004771330885825107, 0.008787495798703825, 0.009072799127258691, 0.004665403427900942, 0.004770189810781774, 0.006979002598919986, 0.008140701712654784, 0.01190034263269219, 0.00844442757847985, 0.003644656667264039, 0.006003027712768513, 0.005451843041258968, 0.005956195181378188, 0.007274969205833115, 0.0037760475904340322, 0.00493171138544529, 0.011951185473460005, 0.007906619834063253, 0.017537282129203146, 0.009213170867285491, 0.004891329864610786, 0.00578755563378949, 0.020477179968419402, 0.015859012978573526, 0.0045403175877349825, 0.004578160066957111, 0.004997059255628941, 0.006834336845725054, 0.005934205899670045], 'train_mae': [0.7141620387651351, 0.47608023620700224, 0.38239438090033145, 0.3000208605217406, 0.32302039175393554, 0.27069304538029265, 0.28939255101227007, 0.24712163370480072, 0.20499387132141444, 0.17977204870734628, 0.21021676216391472, 0.20113187976723165, 0.20774660934549155, 0.18745077185858672, 0.1808422435161036, 0.21100499261093056, 0.18639188277535465, 0.18529746490872367, 0.15256107713329972, 0.17286594286045895, 0.16507542555305202, 0.16251909826654706, 0.1680161772884285, 0.17323101689790255, 0.19366564059476377, 0.16559456956474244, 0.16836180533442097, 0.15310241746210376, 0.14496083597878728, 0.14238498845924655, 0.13734920805811354, 0.12383037030552546, 0.1322506755665172, 0.12288718211786112, 0.1262666683026722, 0.1405117968864847, 0.1191600401763809, 0.13390678796136277, 0.13404237146547723, 0.12051659954591712, 0.12220019793833181, 0.13524892684563702, 0.12293651805550389, 0.10962699135107035, 0.14468150731679283, 0.14329694885446534, 0.12241985357470352, 0.11686566759878712, 0.11317871082084094, 0.11483736686926367, 0.14167070878866184, 0.11156531891943425, 0.10891163926119914, 0.11819412414378277, 0.1202860638519105, 0.10657403622026038, 0.10264777623830051, 0.1066207751676137, 0.10494281903773188, 0.09528621523090858, 0.10503513692973823, 0.10397469428754803, 0.11036888342883742, 0.13489356210076642, 0.11450608924214767, 0.1252390772867525, 0.0980909749658186, 0.10324388147411533, 0.09336273142250322, 0.10667406718621916, 0.10463551233580351, 0.0970757955384323, 0.08572751227585333, 0.11069619941430048, 0.10731569106679587, 0.09537982820332015, 0.14579032139624623, 0.10798366126923416, 0.08916996322470498, 0.07810028727442252, 0.10211460204035586, 0.10634945916338351, 0.08691649590782292, 0.08455781728742343, 0.0751218407325046, 0.0795052492902508, 0.10130902784185057, 0.08415063051545278, 0.13481410580037154, 0.10422858161856507, 0.11935171122935638, 0.08839547066131886, 0.11179947368099204, 0.09589417916824362, 0.08930761860041352, 0.0832233096095203, 0.07802626074982126, 0.1089942771185626, 0.08990183567386775, 0.08562923561318138, 0.08955272852600386, 0.07066644120163623, 0.07838984908088932, 0.07110047411170489, 0.09370333118510656, 0.0940783110822408, 0.07024026031057932, 0.07688313722965326, 0.08312850815104006, 0.08771746355186961, 0.09243181842467714, 0.07127340110882041, 0.08149715190847956, 0.08078161723610824, 0.07077930733041601, 0.08610872879272222, 0.06364452470286533, 0.07544935585407389, 0.0768705917998211, 0.07162481905796056, 0.08309017499406122, 0.073490190383495, 0.07278387450147061, 0.06636658749133302, 0.07594593693617581, 0.0890895043369986, 0.08628748817046228, 0.06121476533468784, 0.05734132283108169, 0.0923142256440929, 0.06998944560401121, 0.07876793491167929, 0.08130582422822089, 0.06044671713358245, 0.06668392918837245, 0.08676486088458017, 0.08236285680951562, 0.07305862562275944, 0.07158175618771913, 0.06744963752634428, 0.06649704018278609, 0.06257910294752518, 0.08163051178169044, 0.07421657369453953, 0.06713540576028373, 0.06994184677085895, 0.055203688897365086, 0.06832539571721849, 0.07139150648763042, 0.06691015317040819, 0.08606445858329691, 0.06698478480589182, 0.07668060456415984, 0.0786077116751467, 0.06420840163386392, 0.08681996624365733, 0.0748187742103237, 0.13010630102701132, 0.08507326789640549, 0.07252226669768691, 0.0662924251139022, 0.1220615236732201, 0.07545060035783516, 0.06745477472260394, 0.07489107969596351, 0.07736547767339137, 0.0767269264781019, 0.08875450483818542, 0.05661097436769496, 0.11847945337554287, 0.09545963809149287, 0.06746618735783709, 0.08343395437322221, 0.07468671396817433, 0.06450215595044317, 0.07823947289927269, 0.057030856579733155, 0.05553518615996113, 0.07277797676861975, 0.10188009775200083, 0.06121675362631221, 0.08824802484080665, 0.09867377039855876, 0.061972899191635726, 0.0458449022893336, 0.07261688446751857, 0.07208404964877113, 0.06209013791902864, 0.056017598158389414, 0.05015405259116284, 0.09999380383677343, 0.12041985989902738, 0.052428852434981466, 0.0593467648060277, 0.050954090367711896, 0.051087679917724636, 0.054933571333599614, 0.07050173271769637, 0.061943266297320235, 0.056537567506734776, 0.05362520467493629, 0.09512238268097477, 0.07995805981008088, 0.06152529426564169, 0.07394333820987632, 0.08665181939652009, 0.05086077995464762, 0.0661119520619917, 0.06984067517005656, 0.04919221653946591, 0.05492888515258928, 0.06199105487592834, 0.07136710216196215, 0.07899475156222281, 0.06711325765874203, 0.046110537239127745, 0.055960629786880545, 0.05344118685718138, 0.05433232554488882, 0.06654122034566969, 0.048711513483455246, 0.05255867483492639, 0.06837044981954536, 0.06199647443808005, 0.09067658492041152, 0.06969748831875688, 0.056827355448874975, 0.06182627595616445, 0.0951701559452927, 0.09939326561389007, 0.053562394857281044, 0.050538724360358056, 0.05238123407822872, 0.06278046481255424, 0.06184283930176636]}\n"
     ]
    },
    {
     "data": {
      "application/scrapbook.scrap.json+json": {
       "data": 0.04443238997663107,
       "encoder": "json",
       "name": "TabNet MAE",
       "version": 1
      }
     },
     "metadata": {
      "scrapbook": {
       "data": true,
       "display": false,
       "name": "TabNet MAE"
      }
     },
     "output_type": "display_data"
    },
    {
     "name": "stdout",
     "output_type": "stream",
     "text": [
      "TabNet MAE 0.04443238997663107\n"
     ]
    },
    {
     "data": {
      "image/png": "[encoded data removed]",
      "text/plain": [
       "<Figure size 432x288 with 1 Axes>"
      ]
     },
     "metadata": {
      "needs_background": "light"
     },
     "output_type": "display_data"
    }
   ],
   "source": [
    "lr = 0.01\n",
    "\n",
    "y_train = np.reshape(y_train, (-1, 1))\n",
    "y_test = np.reshape(y_test, (-1, 1))\n",
    "\n",
    "device = torch.device('cuda' if torch.cuda.is_available() else 'cpu')\n",
    "mae_tab= baselineModels.tabnetreg(X_train,y_train,X_test,y_test,batch_size,n_features,n_target,n_epochs, lr)\n",
    "sb.glue(\"TabNet MAE\",mae_tab)\n",
    "print(\"TabNet MAE\",mae_tab)"
   ]
  }
 ],
 "metadata": {
  "kernelspec": {
   "display_name": "Python 3.7.3 64-bit",
   "language": "python",
   "name": "python3"
  },
  "language_info": {
   "codemirror_mode": {
    "name": "ipython",
    "version": 3
   },
   "file_extension": ".py",
   "mimetype": "text/x-python",
   "name": "python",
   "nbconvert_exporter": "python",
   "pygments_lexer": "ipython3",
   "version": "3.8.13"
  },
  "papermill": {
   "default_parameters": {},
   "duration": 223.075935,
   "end_time": "2022-07-24T10:47:41.268195",
   "environment_variables": {},
   "exception": null,
   "input_path": "BaselineModels.ipynb",
   "output_path": "./BaseLine_Model_Output/BaselineModels_output_8.ipynb",
   "parameters": {},
   "start_time": "2022-07-24T10:43:58.192260",
   "version": "2.3.3"
  },
  "vscode": {
   "interpreter": {
    "hash": "aee8b7b246df8f9039afb4144a1f6fd8d2ca17a180786b69acc140d282b71a49"
   }
  }
 },
 "nbformat": 4,
 "nbformat_minor": 5
}