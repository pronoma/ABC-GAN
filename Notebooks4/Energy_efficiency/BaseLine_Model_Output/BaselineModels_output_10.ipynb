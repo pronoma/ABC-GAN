{
 "cells": [
  {
   "cell_type": "markdown",
   "id": "8c921e5e",
   "metadata": {
    "papermill": {
     "duration": 0.009115,
     "end_time": "2022-07-24T10:50:22.677492",
     "exception": false,
     "start_time": "2022-07-24T10:50:22.668377",
     "status": "completed"
    },
    "tags": []
   },
   "source": [
    "## Import Libraries "
   ]
  },
  {
   "cell_type": "code",
   "execution_count": 1,
   "id": "0e1fb6c1",
   "metadata": {
    "execution": {
     "iopub.execute_input": "2022-07-24T10:50:22.689403Z",
     "iopub.status.busy": "2022-07-24T10:50:22.688480Z",
     "iopub.status.idle": "2022-07-24T10:50:22.705845Z",
     "shell.execute_reply": "2022-07-24T10:50:22.704833Z"
    },
    "papermill": {
     "duration": 0.027932,
     "end_time": "2022-07-24T10:50:22.709575",
     "exception": false,
     "start_time": "2022-07-24T10:50:22.681643",
     "status": "completed"
    },
    "tags": []
   },
   "outputs": [],
   "source": [
    "import warnings\n",
    "import sys\n",
    "sys.path.insert(0, '../../src')\n",
    "warnings.filterwarnings('ignore')"
   ]
  },
  {
   "cell_type": "code",
   "execution_count": 2,
   "id": "a179b8cd",
   "metadata": {
    "execution": {
     "iopub.execute_input": "2022-07-24T10:50:22.720269Z",
     "iopub.status.busy": "2022-07-24T10:50:22.719569Z",
     "iopub.status.idle": "2022-07-24T10:50:34.850009Z",
     "shell.execute_reply": "2022-07-24T10:50:34.848849Z"
    },
    "papermill": {
     "duration": 12.140775,
     "end_time": "2022-07-24T10:50:34.855310",
     "exception": false,
     "start_time": "2022-07-24T10:50:22.714535",
     "status": "completed"
    },
    "tags": []
   },
   "outputs": [],
   "source": [
    "import statsModel\n",
    "import scrapbook as sb \n",
    "import torch \n",
    "import statsModel\n",
    "import baselineModels\n",
    "import energyefficiencyDataset\n",
    "import dataset \n",
    "from torch.utils.data import random_split \n",
    "from sklearn.model_selection import train_test_split\n",
    "import numpy as np\n",
    "from sklearn.metrics import mean_squared_error,mean_absolute_error "
   ]
  },
  {
   "cell_type": "markdown",
   "id": "798bf157",
   "metadata": {
    "papermill": {
     "duration": 0.005423,
     "end_time": "2022-07-24T10:50:34.911486",
     "exception": false,
     "start_time": "2022-07-24T10:50:34.906063",
     "status": "completed"
    },
    "tags": []
   },
   "source": [
    "## Import Dataset \n"
   ]
  },
  {
   "cell_type": "code",
   "execution_count": 3,
   "id": "820c83fd",
   "metadata": {
    "execution": {
     "iopub.execute_input": "2022-07-24T10:50:34.922741Z",
     "iopub.status.busy": "2022-07-24T10:50:34.921876Z",
     "iopub.status.idle": "2022-07-24T10:50:35.538689Z",
     "shell.execute_reply": "2022-07-24T10:50:35.537792Z"
    },
    "papermill": {
     "duration": 0.624556,
     "end_time": "2022-07-24T10:50:35.541291",
     "exception": false,
     "start_time": "2022-07-24T10:50:34.916735",
     "status": "completed"
    },
    "tags": []
   },
   "outputs": [
    {
     "name": "stdout",
     "output_type": "stream",
     "text": [
      "     X1     X2     X3      X4   X5  X6   X7  X8     Y1     Y2\n",
      "0  0.98  514.5  294.0  110.25  7.0   2  0.0   0  15.55  21.33\n",
      "1  0.98  514.5  294.0  110.25  7.0   3  0.0   0  15.55  21.33\n",
      "2  0.98  514.5  294.0  110.25  7.0   4  0.0   0  15.55  21.33\n",
      "3  0.98  514.5  294.0  110.25  7.0   5  0.0   0  15.55  21.33\n",
      "4  0.90  563.5  318.5  122.50  7.0   2  0.0   0  20.84  28.28\n"
     ]
    }
   ],
   "source": [
    "n_features = 13\n",
    "n_samples= 506\n",
    "n_target = 1 \n",
    "X,Y = energyefficiencyDataset.energy_data()"
   ]
  },
  {
   "cell_type": "code",
   "execution_count": 4,
   "id": "abc31ced",
   "metadata": {
    "execution": {
     "iopub.execute_input": "2022-07-24T10:50:35.554591Z",
     "iopub.status.busy": "2022-07-24T10:50:35.553558Z",
     "iopub.status.idle": "2022-07-24T10:50:35.564872Z",
     "shell.execute_reply": "2022-07-24T10:50:35.561958Z"
    },
    "papermill": {
     "duration": 0.029259,
     "end_time": "2022-07-24T10:50:35.574209",
     "exception": false,
     "start_time": "2022-07-24T10:50:35.544950",
     "status": "completed"
    },
    "tags": []
   },
   "outputs": [],
   "source": [
    "# Train test split for dataset \n",
    "real_dataset = dataset.CustomDataset(X,Y)\n",
    "X_train, X_test, y_train, y_test = train_test_split(X, Y, test_size=0.2)"
   ]
  },
  {
   "cell_type": "markdown",
   "id": "d1ae5e82",
   "metadata": {
    "papermill": {
     "duration": 0.003805,
     "end_time": "2022-07-24T10:50:35.581793",
     "exception": false,
     "start_time": "2022-07-24T10:50:35.577988",
     "status": "completed"
    },
    "tags": []
   },
   "source": [
    "## Stats Model \n",
    "\n"
   ]
  },
  {
   "cell_type": "code",
   "execution_count": 5,
   "id": "22236a8e",
   "metadata": {
    "execution": {
     "iopub.execute_input": "2022-07-24T10:50:35.592280Z",
     "iopub.status.busy": "2022-07-24T10:50:35.591803Z",
     "iopub.status.idle": "2022-07-24T10:50:36.036001Z",
     "shell.execute_reply": "2022-07-24T10:50:36.032806Z"
    },
    "papermill": {
     "duration": 0.452715,
     "end_time": "2022-07-24T10:50:36.039020",
     "exception": false,
     "start_time": "2022-07-24T10:50:35.586305",
     "status": "completed"
    },
    "tags": []
   },
   "outputs": [
    {
     "name": "stderr",
     "output_type": "stream",
     "text": [
      "No artists with labels found to put in legend.  Note that artists whose label start with an underscore are ignored when legend() is called with no argument.\n"
     ]
    },
    {
     "name": "stdout",
     "output_type": "stream",
     "text": [
      "                                 OLS Regression Results                                \n",
      "=======================================================================================\n",
      "Dep. Variable:                      y   R-squared (uncentered):                   0.923\n",
      "Model:                            OLS   Adj. R-squared (uncentered):              0.922\n",
      "Method:                 Least Squares   F-statistic:                              1040.\n",
      "Date:                Sun, 24 Jul 2022   Prob (F-statistic):                        0.00\n",
      "Time:                        16:20:35   Log-Likelihood:                         -85.258\n",
      "No. Observations:                 614   AIC:                                      184.5\n",
      "Df Residuals:                     607   BIC:                                      215.5\n",
      "Df Model:                           7                                                  \n",
      "Covariance Type:            nonrobust                                                  \n",
      "==============================================================================\n",
      "                 coef    std err          t      P>|t|      [0.025      0.975]\n",
      "------------------------------------------------------------------------------\n",
      "x1            -0.7279      0.116     -6.272      0.000      -0.956      -0.500\n",
      "x2            -0.4160      0.085     -4.886      0.000      -0.583      -0.249\n",
      "x3             0.0630      0.023      2.796      0.005       0.019       0.107\n",
      "x4            -0.4361      0.076     -5.704      0.000      -0.586      -0.286\n",
      "x5             0.6965      0.063     11.142      0.000       0.574       0.819\n",
      "x6             0.0022      0.011      0.190      0.850      -0.020       0.024\n",
      "x7             0.2642      0.011     23.034      0.000       0.242       0.287\n",
      "x8             0.0173      0.012      1.495      0.136      -0.005       0.040\n",
      "==============================================================================\n",
      "Omnibus:                       19.817   Durbin-Watson:                   1.954\n",
      "Prob(Omnibus):                  0.000   Jarque-Bera (JB):               43.301\n",
      "Skew:                           0.094   Prob(JB):                     3.96e-10\n",
      "Kurtosis:                       4.287   Cond. No.                     1.46e+15\n",
      "==============================================================================\n",
      "\n",
      "Notes:\n",
      "[1] R² is computed without centering (uncentered) since the model does not contain a constant.\n",
      "[2] Standard Errors assume that the covariance matrix of the errors is correctly specified.\n",
      "[3] The smallest eigenvalue is 1.06e-27. This might indicate that there are\n",
      "strong multicollinearity problems or that the design matrix is singular.\n"
     ]
    },
    {
     "data": {
      "image/png": "[encoded data removed]",
      "text/plain": [
       "<Figure size 432x288 with 1 Axes>"
      ]
     },
     "metadata": {
      "needs_background": "light"
     },
     "output_type": "display_data"
    },
    {
     "name": "stdout",
     "output_type": "stream",
     "text": [
      "Performance Metrics\n",
      "Mean Squared Error: 0.11109984404559854\n",
      "Mean Absolute Error: 0.23762688755041778\n",
      "Manhattan distance: 36.594540682764354\n",
      "Euclidean distance: 4.136348145770877\n"
     ]
    },
    {
     "data": {
      "application/scrapbook.scrap.json+json": {
       "data": 0.11109984404559854,
       "encoder": "json",
       "name": "Stats Model MSE",
       "version": 1
      }
     },
     "metadata": {
      "scrapbook": {
       "data": true,
       "display": false,
       "name": "Stats Model MSE"
      }
     },
     "output_type": "display_data"
    },
    {
     "data": {
      "application/scrapbook.scrap.json+json": {
       "data": 0.23762688755041778,
       "encoder": "json",
       "name": "Stats Model MAE",
       "version": 1
      }
     },
     "metadata": {
      "scrapbook": {
       "data": true,
       "display": false,
       "name": "Stats Model MAE"
      }
     },
     "output_type": "display_data"
    },
    {
     "data": {
      "application/scrapbook.scrap.json+json": {
       "data": 36.594540682764354,
       "encoder": "json",
       "name": "Stats Model Manhattan Distance",
       "version": 1
      }
     },
     "metadata": {
      "scrapbook": {
       "data": true,
       "display": false,
       "name": "Stats Model Manhattan Distance"
      }
     },
     "output_type": "display_data"
    },
    {
     "data": {
      "application/scrapbook.scrap.json+json": {
       "data": 4.136348145770877,
       "encoder": "json",
       "name": "Stats Model Euclidean distance",
       "version": 1
      }
     },
     "metadata": {
      "scrapbook": {
       "data": true,
       "display": false,
       "name": "Stats Model Euclidean distance"
      }
     },
     "output_type": "display_data"
    },
    {
     "data": {
      "application/scrapbook.scrap.json+json": {
       "data": [
        -0.727877254312375,
        -0.4160425832156771,
        0.06296604502110054,
        -0.43610908293992495,
        0.6964565521996045,
        0.0021536459394976724,
        0.2642025111773986,
        0.01730699626630227
       ],
       "encoder": "json",
       "name": "Coefficients",
       "version": 1
      }
     },
     "metadata": {
      "scrapbook": {
       "data": true,
       "display": false,
       "name": "Coefficients"
      }
     },
     "output_type": "display_data"
    },
    {
     "name": "stdout",
     "output_type": "stream",
     "text": [
      "Stats Model MAE 0.23762688755041778\n"
     ]
    }
   ],
   "source": [
    "coefficients , y_pred =statsModel.statsModel(X_train,y_train,X_test,y_test)\n",
    "#Store MSE Value \n",
    "sb.glue(\"Coefficients\",coefficients)\n",
    "mae = mean_absolute_error(y_pred, y_test)\n",
    "print(\"Stats Model MAE\", mae)"
   ]
  },
  {
   "cell_type": "markdown",
   "id": "963e101b",
   "metadata": {
    "papermill": {
     "duration": 0.00525,
     "end_time": "2022-07-24T10:50:36.049854",
     "exception": false,
     "start_time": "2022-07-24T10:50:36.044604",
     "status": "completed"
    },
    "tags": []
   },
   "source": [
    "# Catboost Model "
   ]
  },
  {
   "cell_type": "code",
   "execution_count": 6,
   "id": "1f81883d",
   "metadata": {
    "execution": {
     "iopub.execute_input": "2022-07-24T10:50:36.063920Z",
     "iopub.status.busy": "2022-07-24T10:50:36.063531Z",
     "iopub.status.idle": "2022-07-24T10:50:37.186627Z",
     "shell.execute_reply": "2022-07-24T10:50:37.184385Z"
    },
    "papermill": {
     "duration": 1.13423,
     "end_time": "2022-07-24T10:50:37.189866",
     "exception": false,
     "start_time": "2022-07-24T10:50:36.055636",
     "status": "completed"
    },
    "tags": []
   },
   "outputs": [
    {
     "name": "stdout",
     "output_type": "stream",
     "text": [
      "Learning rate set to 0.037906\n",
      "0:\tlearn: 0.9722611\ttotal: 51.9ms\tremaining: 51.9s\n",
      "1:\tlearn: 0.9396533\ttotal: 52.3ms\tremaining: 26.1s\n",
      "2:\tlearn: 0.9118578\ttotal: 52.7ms\tremaining: 17.5s\n",
      "3:\tlearn: 0.8809416\ttotal: 53.2ms\tremaining: 13.2s\n",
      "4:\tlearn: 0.8557441\ttotal: 54.1ms\tremaining: 10.8s\n",
      "5:\tlearn: 0.8272184\ttotal: 54.4ms\tremaining: 9.01s\n",
      "6:\tlearn: 0.8043291\ttotal: 54.5ms\tremaining: 7.73s\n",
      "7:\tlearn: 0.7790799\ttotal: 54.7ms\tremaining: 6.79s\n",
      "8:\tlearn: 0.7535251\ttotal: 55.5ms\tremaining: 6.12s\n",
      "9:\tlearn: 0.7298589\ttotal: 55.8ms\tremaining: 5.52s\n",
      "10:\tlearn: 0.7069914\ttotal: 56ms\tremaining: 5.04s\n",
      "11:\tlearn: 0.6852323\ttotal: 56.3ms\tremaining: 4.63s\n",
      "12:\tlearn: 0.6646954\ttotal: 56.5ms\tremaining: 4.29s\n",
      "13:\tlearn: 0.6443843\ttotal: 56.7ms\tremaining: 3.99s\n",
      "14:\tlearn: 0.6243801\ttotal: 57ms\tremaining: 3.74s\n",
      "15:\tlearn: 0.6048916\ttotal: 57.3ms\tremaining: 3.52s\n",
      "16:\tlearn: 0.5891967\ttotal: 57.5ms\tremaining: 3.32s\n",
      "17:\tlearn: 0.5731714\ttotal: 57.6ms\tremaining: 3.14s\n",
      "18:\tlearn: 0.5553646\ttotal: 62.6ms\tremaining: 3.23s\n",
      "19:\tlearn: 0.5392862\ttotal: 63.6ms\tremaining: 3.12s\n",
      "20:\tlearn: 0.5228075\ttotal: 64ms\tremaining: 2.98s\n",
      "21:\tlearn: 0.5077403\ttotal: 64.3ms\tremaining: 2.86s\n",
      "22:\tlearn: 0.4939424\ttotal: 64.5ms\tremaining: 2.74s\n",
      "23:\tlearn: 0.4795293\ttotal: 64.7ms\tremaining: 2.63s\n",
      "24:\tlearn: 0.4657267\ttotal: 64.9ms\tremaining: 2.53s\n",
      "25:\tlearn: 0.4517289\ttotal: 65.1ms\tremaining: 2.44s\n",
      "26:\tlearn: 0.4380554\ttotal: 65.9ms\tremaining: 2.37s\n",
      "27:\tlearn: 0.4247387\ttotal: 66.9ms\tremaining: 2.32s\n",
      "28:\tlearn: 0.4113017\ttotal: 67.6ms\tremaining: 2.26s\n",
      "29:\tlearn: 0.3986802\ttotal: 68.5ms\tremaining: 2.22s\n",
      "30:\tlearn: 0.3872537\ttotal: 71.2ms\tremaining: 2.23s\n",
      "31:\tlearn: 0.3768596\ttotal: 71.7ms\tremaining: 2.17s\n",
      "32:\tlearn: 0.3665904\ttotal: 72.8ms\tremaining: 2.13s\n",
      "33:\tlearn: 0.3561777\ttotal: 73.8ms\tremaining: 2.1s\n",
      "34:\tlearn: 0.3454970\ttotal: 74.1ms\tremaining: 2.04s\n",
      "35:\tlearn: 0.3364648\ttotal: 76.3ms\tremaining: 2.04s\n",
      "36:\tlearn: 0.3268601\ttotal: 77.1ms\tremaining: 2.01s\n",
      "37:\tlearn: 0.3182626\ttotal: 77.7ms\tremaining: 1.97s\n",
      "38:\tlearn: 0.3096532\ttotal: 78.7ms\tremaining: 1.94s\n",
      "39:\tlearn: 0.3020422\ttotal: 79.1ms\tremaining: 1.9s\n",
      "40:\tlearn: 0.2947579\ttotal: 79.7ms\tremaining: 1.86s\n",
      "41:\tlearn: 0.2871677\ttotal: 80.5ms\tremaining: 1.84s\n",
      "42:\tlearn: 0.2791654\ttotal: 81.3ms\tremaining: 1.81s\n",
      "43:\tlearn: 0.2717837\ttotal: 81.9ms\tremaining: 1.78s\n",
      "44:\tlearn: 0.2672777\ttotal: 82.3ms\tremaining: 1.75s\n",
      "45:\tlearn: 0.2603823\ttotal: 82.8ms\tremaining: 1.72s\n",
      "46:\tlearn: 0.2540572\ttotal: 84.2ms\tremaining: 1.71s\n",
      "47:\tlearn: 0.2474993\ttotal: 84.6ms\tremaining: 1.68s\n",
      "48:\tlearn: 0.2406946\ttotal: 84.9ms\tremaining: 1.65s\n",
      "49:\tlearn: 0.2351023\ttotal: 85.1ms\tremaining: 1.62s\n",
      "50:\tlearn: 0.2293363\ttotal: 86.5ms\tremaining: 1.61s\n",
      "51:\tlearn: 0.2228526\ttotal: 87ms\tremaining: 1.59s\n",
      "52:\tlearn: 0.2171141\ttotal: 87.5ms\tremaining: 1.56s\n",
      "53:\tlearn: 0.2109580\ttotal: 88ms\tremaining: 1.54s\n",
      "54:\tlearn: 0.2071287\ttotal: 88.3ms\tremaining: 1.52s\n",
      "55:\tlearn: 0.2012619\ttotal: 88.9ms\tremaining: 1.5s\n",
      "56:\tlearn: 0.1966982\ttotal: 89.3ms\tremaining: 1.48s\n"
     ]
    },
    {
     "name": "stdout",
     "output_type": "stream",
     "text": [
      "57:\tlearn: 0.1922597\ttotal: 89.9ms\tremaining: 1.46s\n",
      "58:\tlearn: 0.1873187\ttotal: 91.2ms\tremaining: 1.45s\n",
      "59:\tlearn: 0.1822965\ttotal: 92.2ms\tremaining: 1.44s\n",
      "60:\tlearn: 0.1783683\ttotal: 92.7ms\tremaining: 1.43s\n",
      "61:\tlearn: 0.1749641\ttotal: 93.1ms\tremaining: 1.41s\n",
      "62:\tlearn: 0.1705272\ttotal: 93.7ms\tremaining: 1.39s\n",
      "63:\tlearn: 0.1667738\ttotal: 94ms\tremaining: 1.38s\n",
      "64:\tlearn: 0.1625970\ttotal: 94.6ms\tremaining: 1.36s\n",
      "65:\tlearn: 0.1595495\ttotal: 95ms\tremaining: 1.34s\n",
      "66:\tlearn: 0.1556765\ttotal: 95.3ms\tremaining: 1.33s\n",
      "67:\tlearn: 0.1514668\ttotal: 95.6ms\tremaining: 1.31s\n",
      "68:\tlearn: 0.1484658\ttotal: 95.9ms\tremaining: 1.29s\n",
      "69:\tlearn: 0.1449739\ttotal: 96.6ms\tremaining: 1.28s\n",
      "70:\tlearn: 0.1420978\ttotal: 97.1ms\tremaining: 1.27s\n",
      "71:\tlearn: 0.1402149\ttotal: 97.3ms\tremaining: 1.25s\n",
      "72:\tlearn: 0.1381903\ttotal: 97.6ms\tremaining: 1.24s\n",
      "73:\tlearn: 0.1352436\ttotal: 98.1ms\tremaining: 1.23s\n",
      "74:\tlearn: 0.1326435\ttotal: 98.6ms\tremaining: 1.22s\n",
      "75:\tlearn: 0.1299320\ttotal: 99.1ms\tremaining: 1.21s\n",
      "76:\tlearn: 0.1267212\ttotal: 99.6ms\tremaining: 1.19s\n",
      "77:\tlearn: 0.1237056\ttotal: 101ms\tremaining: 1.19s\n",
      "78:\tlearn: 0.1210284\ttotal: 102ms\tremaining: 1.18s\n",
      "79:\tlearn: 0.1194643\ttotal: 102ms\tremaining: 1.17s\n",
      "80:\tlearn: 0.1167002\ttotal: 102ms\tremaining: 1.16s\n",
      "81:\tlearn: 0.1149810\ttotal: 103ms\tremaining: 1.15s\n",
      "82:\tlearn: 0.1127835\ttotal: 103ms\tremaining: 1.14s\n",
      "83:\tlearn: 0.1105585\ttotal: 104ms\tremaining: 1.13s\n",
      "84:\tlearn: 0.1085577\ttotal: 104ms\tremaining: 1.12s\n",
      "85:\tlearn: 0.1067094\ttotal: 105ms\tremaining: 1.11s\n",
      "86:\tlearn: 0.1046270\ttotal: 105ms\tremaining: 1.1s\n",
      "87:\tlearn: 0.1025307\ttotal: 105ms\tremaining: 1.09s\n",
      "88:\tlearn: 0.1008755\ttotal: 106ms\tremaining: 1.08s\n",
      "89:\tlearn: 0.0991782\ttotal: 107ms\tremaining: 1.08s\n",
      "90:\tlearn: 0.0976796\ttotal: 107ms\tremaining: 1.07s\n",
      "91:\tlearn: 0.0960504\ttotal: 108ms\tremaining: 1.06s\n",
      "92:\tlearn: 0.0945476\ttotal: 108ms\tremaining: 1.05s\n",
      "93:\tlearn: 0.0929102\ttotal: 108ms\tremaining: 1.04s\n",
      "94:\tlearn: 0.0913513\ttotal: 109ms\tremaining: 1.04s\n",
      "95:\tlearn: 0.0898890\ttotal: 109ms\tremaining: 1.03s\n",
      "96:\tlearn: 0.0888960\ttotal: 110ms\tremaining: 1.02s\n",
      "97:\tlearn: 0.0876267\ttotal: 110ms\tremaining: 1.02s\n",
      "98:\tlearn: 0.0861415\ttotal: 111ms\tremaining: 1.01s\n",
      "99:\tlearn: 0.0844894\ttotal: 111ms\tremaining: 1s\n",
      "100:\tlearn: 0.0830055\ttotal: 112ms\tremaining: 996ms\n",
      "101:\tlearn: 0.0823548\ttotal: 112ms\tremaining: 989ms\n",
      "102:\tlearn: 0.0817916\ttotal: 113ms\tremaining: 982ms\n"
     ]
    },
    {
     "name": "stdout",
     "output_type": "stream",
     "text": [
      "103:\tlearn: 0.0802267\ttotal: 114ms\tremaining: 982ms\n",
      "104:\tlearn: 0.0790023\ttotal: 115ms\tremaining: 978ms\n",
      "105:\tlearn: 0.0775834\ttotal: 115ms\tremaining: 971ms\n",
      "106:\tlearn: 0.0768400\ttotal: 116ms\tremaining: 969ms\n",
      "107:\tlearn: 0.0759219\ttotal: 117ms\tremaining: 964ms\n",
      "108:\tlearn: 0.0746552\ttotal: 117ms\tremaining: 960ms\n",
      "109:\tlearn: 0.0735544\ttotal: 118ms\tremaining: 955ms\n",
      "110:\tlearn: 0.0725488\ttotal: 119ms\tremaining: 950ms\n",
      "111:\tlearn: 0.0714080\ttotal: 119ms\tremaining: 945ms\n",
      "112:\tlearn: 0.0703432\ttotal: 120ms\tremaining: 938ms\n",
      "113:\tlearn: 0.0693212\ttotal: 120ms\tremaining: 931ms\n",
      "114:\tlearn: 0.0686593\ttotal: 120ms\tremaining: 924ms\n",
      "115:\tlearn: 0.0677769\ttotal: 120ms\tremaining: 918ms\n",
      "116:\tlearn: 0.0670287\ttotal: 121ms\tremaining: 911ms\n",
      "117:\tlearn: 0.0664583\ttotal: 121ms\tremaining: 904ms\n",
      "118:\tlearn: 0.0657559\ttotal: 122ms\tremaining: 903ms\n",
      "119:\tlearn: 0.0649917\ttotal: 123ms\tremaining: 899ms\n",
      "120:\tlearn: 0.0645381\ttotal: 123ms\tremaining: 894ms\n",
      "121:\tlearn: 0.0637160\ttotal: 124ms\tremaining: 889ms\n",
      "122:\tlearn: 0.0631763\ttotal: 124ms\tremaining: 883ms\n",
      "123:\tlearn: 0.0627430\ttotal: 124ms\tremaining: 877ms\n",
      "124:\tlearn: 0.0620129\ttotal: 125ms\tremaining: 873ms\n",
      "125:\tlearn: 0.0613626\ttotal: 125ms\tremaining: 869ms\n",
      "126:\tlearn: 0.0610581\ttotal: 126ms\tremaining: 865ms\n",
      "127:\tlearn: 0.0605375\ttotal: 126ms\tremaining: 861ms\n",
      "128:\tlearn: 0.0600828\ttotal: 127ms\tremaining: 857ms\n",
      "129:\tlearn: 0.0597674\ttotal: 127ms\tremaining: 853ms\n",
      "130:\tlearn: 0.0593540\ttotal: 128ms\tremaining: 849ms\n",
      "131:\tlearn: 0.0589013\ttotal: 129ms\tremaining: 846ms\n",
      "132:\tlearn: 0.0585417\ttotal: 129ms\tremaining: 842ms\n",
      "133:\tlearn: 0.0580597\ttotal: 130ms\tremaining: 838ms\n",
      "134:\tlearn: 0.0579171\ttotal: 130ms\tremaining: 834ms\n",
      "135:\tlearn: 0.0573304\ttotal: 131ms\tremaining: 830ms\n",
      "136:\tlearn: 0.0569110\ttotal: 131ms\tremaining: 827ms\n",
      "137:\tlearn: 0.0564068\ttotal: 132ms\tremaining: 823ms\n",
      "138:\tlearn: 0.0558476\ttotal: 132ms\tremaining: 820ms\n",
      "139:\tlearn: 0.0554996\ttotal: 133ms\tremaining: 817ms\n",
      "140:\tlearn: 0.0551361\ttotal: 133ms\tremaining: 813ms\n",
      "141:\tlearn: 0.0547147\ttotal: 134ms\tremaining: 810ms\n",
      "142:\tlearn: 0.0543774\ttotal: 135ms\tremaining: 807ms\n",
      "143:\tlearn: 0.0539699\ttotal: 135ms\tremaining: 803ms\n",
      "144:\tlearn: 0.0536160\ttotal: 136ms\tremaining: 800ms\n",
      "145:\tlearn: 0.0533179\ttotal: 136ms\tremaining: 797ms\n",
      "146:\tlearn: 0.0530482\ttotal: 137ms\tremaining: 793ms\n",
      "147:\tlearn: 0.0528136\ttotal: 137ms\tremaining: 789ms\n",
      "148:\tlearn: 0.0523939\ttotal: 137ms\tremaining: 784ms\n",
      "149:\tlearn: 0.0520829\ttotal: 138ms\tremaining: 781ms\n",
      "150:\tlearn: 0.0519035\ttotal: 138ms\tremaining: 778ms\n",
      "151:\tlearn: 0.0516665\ttotal: 139ms\tremaining: 775ms\n",
      "152:\tlearn: 0.0513217\ttotal: 140ms\tremaining: 773ms\n",
      "153:\tlearn: 0.0511029\ttotal: 140ms\tremaining: 769ms\n",
      "154:\tlearn: 0.0507552\ttotal: 141ms\tremaining: 766ms\n",
      "155:\tlearn: 0.0504842\ttotal: 141ms\tremaining: 763ms\n",
      "156:\tlearn: 0.0502198\ttotal: 142ms\tremaining: 761ms\n",
      "157:\tlearn: 0.0500209\ttotal: 142ms\tremaining: 758ms\n",
      "158:\tlearn: 0.0498355\ttotal: 143ms\tremaining: 755ms\n",
      "159:\tlearn: 0.0495856\ttotal: 143ms\tremaining: 753ms\n",
      "160:\tlearn: 0.0493060\ttotal: 144ms\tremaining: 750ms\n",
      "161:\tlearn: 0.0491529\ttotal: 144ms\tremaining: 747ms\n",
      "162:\tlearn: 0.0489348\ttotal: 145ms\tremaining: 744ms\n",
      "163:\tlearn: 0.0486698\ttotal: 145ms\tremaining: 742ms\n",
      "164:\tlearn: 0.0484356\ttotal: 146ms\tremaining: 739ms\n",
      "165:\tlearn: 0.0482465\ttotal: 147ms\tremaining: 736ms\n",
      "166:\tlearn: 0.0480205\ttotal: 147ms\tremaining: 734ms\n",
      "167:\tlearn: 0.0478235\ttotal: 148ms\tremaining: 731ms\n",
      "168:\tlearn: 0.0476616\ttotal: 148ms\tremaining: 729ms\n"
     ]
    },
    {
     "name": "stdout",
     "output_type": "stream",
     "text": [
      "169:\tlearn: 0.0474439\ttotal: 149ms\tremaining: 726ms\n",
      "170:\tlearn: 0.0472730\ttotal: 149ms\tremaining: 723ms\n",
      "171:\tlearn: 0.0471098\ttotal: 150ms\tremaining: 724ms\n",
      "172:\tlearn: 0.0468532\ttotal: 151ms\tremaining: 722ms\n",
      "173:\tlearn: 0.0465955\ttotal: 152ms\tremaining: 719ms\n",
      "174:\tlearn: 0.0463286\ttotal: 153ms\tremaining: 719ms\n",
      "175:\tlearn: 0.0461331\ttotal: 153ms\tremaining: 716ms\n",
      "176:\tlearn: 0.0459846\ttotal: 154ms\tremaining: 714ms\n",
      "177:\tlearn: 0.0458341\ttotal: 154ms\tremaining: 712ms\n",
      "178:\tlearn: 0.0457087\ttotal: 155ms\tremaining: 710ms\n",
      "179:\tlearn: 0.0454886\ttotal: 155ms\tremaining: 707ms\n",
      "180:\tlearn: 0.0453269\ttotal: 156ms\tremaining: 705ms\n",
      "181:\tlearn: 0.0451043\ttotal: 156ms\tremaining: 703ms\n",
      "182:\tlearn: 0.0449678\ttotal: 157ms\tremaining: 700ms\n",
      "183:\tlearn: 0.0448135\ttotal: 157ms\tremaining: 698ms\n",
      "184:\tlearn: 0.0446226\ttotal: 158ms\tremaining: 696ms\n",
      "185:\tlearn: 0.0444250\ttotal: 159ms\tremaining: 694ms\n",
      "186:\tlearn: 0.0442385\ttotal: 159ms\tremaining: 692ms\n",
      "187:\tlearn: 0.0440691\ttotal: 160ms\tremaining: 689ms\n",
      "188:\tlearn: 0.0439150\ttotal: 160ms\tremaining: 688ms\n",
      "189:\tlearn: 0.0437878\ttotal: 161ms\tremaining: 686ms\n",
      "190:\tlearn: 0.0436034\ttotal: 161ms\tremaining: 683ms\n",
      "191:\tlearn: 0.0434551\ttotal: 162ms\tremaining: 681ms\n",
      "192:\tlearn: 0.0433220\ttotal: 163ms\tremaining: 680ms\n",
      "193:\tlearn: 0.0432246\ttotal: 163ms\tremaining: 677ms\n",
      "194:\tlearn: 0.0430444\ttotal: 164ms\tremaining: 675ms\n",
      "195:\tlearn: 0.0429126\ttotal: 164ms\tremaining: 673ms\n",
      "196:\tlearn: 0.0427704\ttotal: 165ms\tremaining: 671ms\n",
      "197:\tlearn: 0.0425844\ttotal: 165ms\tremaining: 669ms\n",
      "198:\tlearn: 0.0424659\ttotal: 166ms\tremaining: 667ms\n",
      "199:\tlearn: 0.0423312\ttotal: 166ms\tremaining: 665ms\n",
      "200:\tlearn: 0.0421829\ttotal: 167ms\tremaining: 663ms\n",
      "201:\tlearn: 0.0420894\ttotal: 168ms\tremaining: 662ms\n",
      "202:\tlearn: 0.0419590\ttotal: 168ms\tremaining: 661ms\n",
      "203:\tlearn: 0.0418162\ttotal: 169ms\tremaining: 659ms\n",
      "204:\tlearn: 0.0416743\ttotal: 169ms\tremaining: 657ms\n",
      "205:\tlearn: 0.0415706\ttotal: 170ms\tremaining: 655ms\n",
      "206:\tlearn: 0.0414473\ttotal: 170ms\tremaining: 653ms\n",
      "207:\tlearn: 0.0413437\ttotal: 171ms\tremaining: 651ms\n",
      "208:\tlearn: 0.0411910\ttotal: 172ms\tremaining: 650ms\n",
      "209:\tlearn: 0.0410593\ttotal: 172ms\tremaining: 648ms\n",
      "210:\tlearn: 0.0409371\ttotal: 173ms\tremaining: 646ms\n",
      "211:\tlearn: 0.0408558\ttotal: 173ms\tremaining: 644ms\n",
      "212:\tlearn: 0.0407113\ttotal: 174ms\tremaining: 642ms\n",
      "213:\tlearn: 0.0406289\ttotal: 174ms\tremaining: 641ms\n",
      "214:\tlearn: 0.0404745\ttotal: 175ms\tremaining: 639ms\n",
      "215:\tlearn: 0.0403664\ttotal: 175ms\tremaining: 637ms\n",
      "216:\tlearn: 0.0402650\ttotal: 176ms\tremaining: 635ms\n",
      "217:\tlearn: 0.0401625\ttotal: 177ms\tremaining: 634ms\n",
      "218:\tlearn: 0.0400657\ttotal: 177ms\tremaining: 632ms\n",
      "219:\tlearn: 0.0399941\ttotal: 178ms\tremaining: 630ms\n",
      "220:\tlearn: 0.0398940\ttotal: 178ms\tremaining: 628ms\n",
      "221:\tlearn: 0.0398277\ttotal: 179ms\tremaining: 627ms\n",
      "222:\tlearn: 0.0395356\ttotal: 179ms\tremaining: 625ms\n",
      "223:\tlearn: 0.0394446\ttotal: 180ms\tremaining: 624ms\n",
      "224:\tlearn: 0.0393589\ttotal: 181ms\tremaining: 623ms\n",
      "225:\tlearn: 0.0392737\ttotal: 181ms\tremaining: 621ms\n",
      "226:\tlearn: 0.0391413\ttotal: 182ms\tremaining: 619ms\n",
      "227:\tlearn: 0.0390098\ttotal: 183ms\tremaining: 619ms\n",
      "228:\tlearn: 0.0388875\ttotal: 183ms\tremaining: 617ms\n",
      "229:\tlearn: 0.0387973\ttotal: 184ms\tremaining: 616ms\n",
      "230:\tlearn: 0.0386561\ttotal: 185ms\tremaining: 614ms\n",
      "231:\tlearn: 0.0384171\ttotal: 185ms\tremaining: 613ms\n",
      "232:\tlearn: 0.0382830\ttotal: 185ms\tremaining: 610ms\n",
      "233:\tlearn: 0.0380025\ttotal: 186ms\tremaining: 608ms\n",
      "234:\tlearn: 0.0379415\ttotal: 186ms\tremaining: 605ms\n",
      "235:\tlearn: 0.0378425\ttotal: 186ms\tremaining: 603ms\n",
      "236:\tlearn: 0.0376057\ttotal: 187ms\tremaining: 601ms\n",
      "237:\tlearn: 0.0374935\ttotal: 187ms\tremaining: 598ms\n",
      "238:\tlearn: 0.0372705\ttotal: 188ms\tremaining: 599ms\n",
      "239:\tlearn: 0.0371265\ttotal: 189ms\tremaining: 597ms\n",
      "240:\tlearn: 0.0369162\ttotal: 189ms\tremaining: 595ms\n",
      "241:\tlearn: 0.0368431\ttotal: 190ms\tremaining: 594ms\n",
      "242:\tlearn: 0.0367088\ttotal: 190ms\tremaining: 592ms\n",
      "243:\tlearn: 0.0366466\ttotal: 191ms\tremaining: 591ms\n",
      "244:\tlearn: 0.0365875\ttotal: 191ms\tremaining: 589ms\n",
      "245:\tlearn: 0.0365309\ttotal: 192ms\tremaining: 588ms\n",
      "246:\tlearn: 0.0364037\ttotal: 192ms\tremaining: 586ms\n",
      "247:\tlearn: 0.0362665\ttotal: 193ms\tremaining: 585ms\n",
      "248:\tlearn: 0.0361191\ttotal: 194ms\tremaining: 584ms\n",
      "249:\tlearn: 0.0360078\ttotal: 194ms\tremaining: 583ms\n",
      "250:\tlearn: 0.0357884\ttotal: 195ms\tremaining: 581ms\n",
      "251:\tlearn: 0.0356842\ttotal: 195ms\tremaining: 580ms\n",
      "252:\tlearn: 0.0356045\ttotal: 196ms\tremaining: 578ms\n",
      "253:\tlearn: 0.0354880\ttotal: 196ms\tremaining: 577ms\n",
      "254:\tlearn: 0.0353973\ttotal: 197ms\tremaining: 575ms\n",
      "255:\tlearn: 0.0352272\ttotal: 197ms\tremaining: 574ms\n",
      "256:\tlearn: 0.0350402\ttotal: 198ms\tremaining: 573ms\n",
      "257:\tlearn: 0.0349071\ttotal: 199ms\tremaining: 571ms\n",
      "258:\tlearn: 0.0347817\ttotal: 199ms\tremaining: 570ms\n",
      "259:\tlearn: 0.0346683\ttotal: 200ms\tremaining: 568ms\n",
      "260:\tlearn: 0.0345595\ttotal: 200ms\tremaining: 567ms\n",
      "261:\tlearn: 0.0344915\ttotal: 201ms\tremaining: 566ms\n",
      "262:\tlearn: 0.0343245\ttotal: 201ms\tremaining: 564ms\n",
      "263:\tlearn: 0.0342323\ttotal: 202ms\tremaining: 563ms\n",
      "264:\tlearn: 0.0340968\ttotal: 202ms\tremaining: 561ms\n",
      "265:\tlearn: 0.0339690\ttotal: 203ms\tremaining: 560ms\n",
      "266:\tlearn: 0.0338487\ttotal: 204ms\tremaining: 559ms\n",
      "267:\tlearn: 0.0337354\ttotal: 204ms\tremaining: 558ms\n",
      "268:\tlearn: 0.0336590\ttotal: 205ms\tremaining: 556ms\n",
      "269:\tlearn: 0.0335967\ttotal: 205ms\tremaining: 555ms\n",
      "270:\tlearn: 0.0335400\ttotal: 206ms\tremaining: 554ms\n",
      "271:\tlearn: 0.0334008\ttotal: 206ms\tremaining: 553ms\n",
      "272:\tlearn: 0.0333447\ttotal: 207ms\tremaining: 551ms\n",
      "273:\tlearn: 0.0332767\ttotal: 208ms\tremaining: 550ms\n",
      "274:\tlearn: 0.0331546\ttotal: 208ms\tremaining: 548ms\n",
      "275:\tlearn: 0.0330286\ttotal: 208ms\tremaining: 546ms\n",
      "276:\tlearn: 0.0329280\ttotal: 208ms\tremaining: 544ms\n",
      "277:\tlearn: 0.0328512\ttotal: 209ms\tremaining: 543ms\n",
      "278:\tlearn: 0.0327178\ttotal: 210ms\tremaining: 542ms\n",
      "279:\tlearn: 0.0326483\ttotal: 210ms\tremaining: 540ms\n",
      "280:\tlearn: 0.0326145\ttotal: 210ms\tremaining: 538ms\n",
      "281:\tlearn: 0.0325062\ttotal: 211ms\tremaining: 537ms\n",
      "282:\tlearn: 0.0324604\ttotal: 211ms\tremaining: 536ms\n",
      "283:\tlearn: 0.0323725\ttotal: 212ms\tremaining: 534ms\n",
      "284:\tlearn: 0.0323036\ttotal: 212ms\tremaining: 532ms\n",
      "285:\tlearn: 0.0322335\ttotal: 212ms\tremaining: 530ms\n",
      "286:\tlearn: 0.0321391\ttotal: 213ms\tremaining: 529ms\n",
      "287:\tlearn: 0.0320513\ttotal: 213ms\tremaining: 527ms\n",
      "288:\tlearn: 0.0319241\ttotal: 214ms\tremaining: 525ms\n",
      "289:\tlearn: 0.0318625\ttotal: 214ms\tremaining: 525ms\n",
      "290:\tlearn: 0.0317400\ttotal: 215ms\tremaining: 523ms\n",
      "291:\tlearn: 0.0316623\ttotal: 215ms\tremaining: 521ms\n",
      "292:\tlearn: 0.0316260\ttotal: 215ms\tremaining: 519ms\n",
      "293:\tlearn: 0.0315090\ttotal: 216ms\tremaining: 518ms\n",
      "294:\tlearn: 0.0314206\ttotal: 216ms\tremaining: 516ms\n",
      "295:\tlearn: 0.0313815\ttotal: 216ms\tremaining: 514ms\n",
      "296:\tlearn: 0.0313251\ttotal: 217ms\tremaining: 513ms\n",
      "297:\tlearn: 0.0312717\ttotal: 217ms\tremaining: 511ms\n",
      "298:\tlearn: 0.0311972\ttotal: 217ms\tremaining: 510ms\n",
      "299:\tlearn: 0.0310793\ttotal: 218ms\tremaining: 508ms\n",
      "300:\tlearn: 0.0310233\ttotal: 218ms\tremaining: 506ms\n",
      "301:\tlearn: 0.0309383\ttotal: 218ms\tremaining: 504ms\n",
      "302:\tlearn: 0.0308269\ttotal: 218ms\tremaining: 503ms\n",
      "303:\tlearn: 0.0307734\ttotal: 220ms\tremaining: 503ms\n",
      "304:\tlearn: 0.0307260\ttotal: 220ms\tremaining: 501ms\n",
      "305:\tlearn: 0.0306289\ttotal: 220ms\tremaining: 500ms\n",
      "306:\tlearn: 0.0305131\ttotal: 221ms\tremaining: 500ms\n",
      "307:\tlearn: 0.0304102\ttotal: 222ms\tremaining: 499ms\n",
      "308:\tlearn: 0.0303636\ttotal: 222ms\tremaining: 497ms\n",
      "309:\tlearn: 0.0302834\ttotal: 223ms\tremaining: 495ms\n",
      "310:\tlearn: 0.0302403\ttotal: 223ms\tremaining: 494ms\n",
      "311:\tlearn: 0.0301311\ttotal: 223ms\tremaining: 492ms\n",
      "312:\tlearn: 0.0300782\ttotal: 224ms\tremaining: 491ms\n",
      "313:\tlearn: 0.0300300\ttotal: 224ms\tremaining: 490ms\n",
      "314:\tlearn: 0.0299875\ttotal: 224ms\tremaining: 488ms\n",
      "315:\tlearn: 0.0299419\ttotal: 225ms\tremaining: 487ms\n",
      "316:\tlearn: 0.0298932\ttotal: 225ms\tremaining: 485ms\n",
      "317:\tlearn: 0.0297940\ttotal: 226ms\tremaining: 484ms\n",
      "318:\tlearn: 0.0297217\ttotal: 226ms\tremaining: 482ms\n",
      "319:\tlearn: 0.0296791\ttotal: 227ms\tremaining: 482ms\n",
      "320:\tlearn: 0.0295878\ttotal: 227ms\tremaining: 481ms\n",
      "321:\tlearn: 0.0294976\ttotal: 227ms\tremaining: 479ms\n",
      "322:\tlearn: 0.0294544\ttotal: 228ms\tremaining: 477ms\n",
      "323:\tlearn: 0.0294065\ttotal: 228ms\tremaining: 476ms\n",
      "324:\tlearn: 0.0293744\ttotal: 228ms\tremaining: 474ms\n",
      "325:\tlearn: 0.0293228\ttotal: 229ms\tremaining: 473ms\n",
      "326:\tlearn: 0.0292331\ttotal: 229ms\tremaining: 471ms\n",
      "327:\tlearn: 0.0291346\ttotal: 229ms\tremaining: 470ms\n",
      "328:\tlearn: 0.0290940\ttotal: 230ms\tremaining: 468ms\n",
      "329:\tlearn: 0.0290572\ttotal: 230ms\tremaining: 467ms\n",
      "330:\tlearn: 0.0289643\ttotal: 230ms\tremaining: 466ms\n",
      "331:\tlearn: 0.0288958\ttotal: 231ms\tremaining: 464ms\n",
      "332:\tlearn: 0.0288503\ttotal: 231ms\tremaining: 462ms\n",
      "333:\tlearn: 0.0287743\ttotal: 231ms\tremaining: 461ms\n",
      "334:\tlearn: 0.0286804\ttotal: 231ms\tremaining: 459ms\n",
      "335:\tlearn: 0.0285952\ttotal: 232ms\tremaining: 458ms\n",
      "336:\tlearn: 0.0285293\ttotal: 232ms\tremaining: 457ms\n",
      "337:\tlearn: 0.0285030\ttotal: 232ms\tremaining: 455ms\n",
      "338:\tlearn: 0.0284774\ttotal: 233ms\tremaining: 455ms\n",
      "339:\tlearn: 0.0284022\ttotal: 234ms\tremaining: 454ms\n",
      "340:\tlearn: 0.0283172\ttotal: 234ms\tremaining: 452ms\n",
      "341:\tlearn: 0.0282388\ttotal: 234ms\tremaining: 451ms\n",
      "342:\tlearn: 0.0281456\ttotal: 235ms\tremaining: 449ms\n",
      "343:\tlearn: 0.0281068\ttotal: 235ms\tremaining: 448ms\n",
      "344:\tlearn: 0.0280532\ttotal: 235ms\tremaining: 447ms\n",
      "345:\tlearn: 0.0279671\ttotal: 236ms\tremaining: 445ms\n",
      "346:\tlearn: 0.0279405\ttotal: 236ms\tremaining: 444ms\n",
      "347:\tlearn: 0.0278990\ttotal: 237ms\tremaining: 443ms\n",
      "348:\tlearn: 0.0278595\ttotal: 237ms\tremaining: 442ms\n",
      "349:\tlearn: 0.0278224\ttotal: 237ms\tremaining: 441ms\n"
     ]
    },
    {
     "name": "stdout",
     "output_type": "stream",
     "text": [
      "350:\tlearn: 0.0277607\ttotal: 238ms\tremaining: 440ms\n",
      "351:\tlearn: 0.0277269\ttotal: 239ms\tremaining: 440ms\n",
      "352:\tlearn: 0.0276881\ttotal: 239ms\tremaining: 438ms\n",
      "353:\tlearn: 0.0276542\ttotal: 239ms\tremaining: 437ms\n",
      "354:\tlearn: 0.0276178\ttotal: 240ms\tremaining: 436ms\n",
      "355:\tlearn: 0.0275347\ttotal: 247ms\tremaining: 446ms\n",
      "356:\tlearn: 0.0274916\ttotal: 247ms\tremaining: 446ms\n",
      "357:\tlearn: 0.0274438\ttotal: 248ms\tremaining: 445ms\n",
      "358:\tlearn: 0.0273964\ttotal: 249ms\tremaining: 445ms\n",
      "359:\tlearn: 0.0273480\ttotal: 251ms\tremaining: 446ms\n",
      "360:\tlearn: 0.0272957\ttotal: 251ms\tremaining: 445ms\n",
      "361:\tlearn: 0.0272694\ttotal: 252ms\tremaining: 444ms\n",
      "362:\tlearn: 0.0272195\ttotal: 253ms\tremaining: 443ms\n",
      "363:\tlearn: 0.0271633\ttotal: 253ms\tremaining: 443ms\n",
      "364:\tlearn: 0.0270922\ttotal: 254ms\tremaining: 442ms\n",
      "365:\tlearn: 0.0270129\ttotal: 255ms\tremaining: 441ms\n",
      "366:\tlearn: 0.0269823\ttotal: 256ms\tremaining: 441ms\n",
      "367:\tlearn: 0.0269144\ttotal: 257ms\tremaining: 441ms\n",
      "368:\tlearn: 0.0268383\ttotal: 257ms\tremaining: 439ms\n",
      "369:\tlearn: 0.0267682\ttotal: 258ms\tremaining: 439ms\n",
      "370:\tlearn: 0.0267468\ttotal: 258ms\tremaining: 438ms\n",
      "371:\tlearn: 0.0267115\ttotal: 259ms\tremaining: 437ms\n",
      "372:\tlearn: 0.0266845\ttotal: 259ms\tremaining: 436ms\n",
      "373:\tlearn: 0.0266100\ttotal: 260ms\tremaining: 435ms\n",
      "374:\tlearn: 0.0265578\ttotal: 260ms\tremaining: 434ms\n",
      "375:\tlearn: 0.0264896\ttotal: 261ms\tremaining: 433ms\n",
      "376:\tlearn: 0.0264375\ttotal: 261ms\tremaining: 432ms\n"
     ]
    },
    {
     "name": "stdout",
     "output_type": "stream",
     "text": [
      "377:\tlearn: 0.0263822\ttotal: 262ms\tremaining: 431ms\n",
      "378:\tlearn: 0.0263524\ttotal: 262ms\tremaining: 430ms\n",
      "379:\tlearn: 0.0263140\ttotal: 265ms\tremaining: 432ms\n",
      "380:\tlearn: 0.0262657\ttotal: 265ms\tremaining: 431ms\n",
      "381:\tlearn: 0.0262334\ttotal: 266ms\tremaining: 430ms\n",
      "382:\tlearn: 0.0262069\ttotal: 267ms\tremaining: 429ms\n",
      "383:\tlearn: 0.0261914\ttotal: 267ms\tremaining: 429ms\n",
      "384:\tlearn: 0.0261201\ttotal: 268ms\tremaining: 428ms\n",
      "385:\tlearn: 0.0260695\ttotal: 268ms\tremaining: 427ms\n",
      "386:\tlearn: 0.0260066\ttotal: 269ms\tremaining: 426ms\n",
      "387:\tlearn: 0.0259626\ttotal: 269ms\tremaining: 425ms\n",
      "388:\tlearn: 0.0259314\ttotal: 269ms\tremaining: 423ms\n",
      "389:\tlearn: 0.0259005\ttotal: 270ms\tremaining: 422ms\n",
      "390:\tlearn: 0.0258374\ttotal: 270ms\tremaining: 421ms\n",
      "391:\tlearn: 0.0258035\ttotal: 270ms\tremaining: 419ms\n",
      "392:\tlearn: 0.0257770\ttotal: 271ms\tremaining: 418ms\n",
      "393:\tlearn: 0.0257083\ttotal: 271ms\tremaining: 417ms\n",
      "394:\tlearn: 0.0256809\ttotal: 271ms\tremaining: 415ms\n",
      "395:\tlearn: 0.0256536\ttotal: 271ms\tremaining: 414ms\n",
      "396:\tlearn: 0.0255939\ttotal: 272ms\tremaining: 413ms\n",
      "397:\tlearn: 0.0255637\ttotal: 272ms\tremaining: 412ms\n",
      "398:\tlearn: 0.0255393\ttotal: 273ms\tremaining: 411ms\n",
      "399:\tlearn: 0.0255157\ttotal: 273ms\tremaining: 409ms\n",
      "400:\tlearn: 0.0254927\ttotal: 273ms\tremaining: 408ms\n",
      "401:\tlearn: 0.0254472\ttotal: 274ms\tremaining: 407ms\n",
      "402:\tlearn: 0.0254165\ttotal: 274ms\tremaining: 406ms\n",
      "403:\tlearn: 0.0253949\ttotal: 274ms\tremaining: 405ms\n",
      "404:\tlearn: 0.0253326\ttotal: 274ms\tremaining: 403ms\n",
      "405:\tlearn: 0.0252614\ttotal: 275ms\tremaining: 402ms\n",
      "406:\tlearn: 0.0252325\ttotal: 275ms\tremaining: 401ms\n",
      "407:\tlearn: 0.0251900\ttotal: 276ms\tremaining: 400ms\n",
      "408:\tlearn: 0.0251421\ttotal: 277ms\tremaining: 400ms\n",
      "409:\tlearn: 0.0251095\ttotal: 277ms\tremaining: 398ms\n",
      "410:\tlearn: 0.0250708\ttotal: 277ms\tremaining: 397ms\n",
      "411:\tlearn: 0.0250333\ttotal: 278ms\tremaining: 396ms\n",
      "412:\tlearn: 0.0249926\ttotal: 278ms\tremaining: 395ms\n",
      "413:\tlearn: 0.0249799\ttotal: 278ms\tremaining: 394ms\n",
      "414:\tlearn: 0.0249580\ttotal: 278ms\tremaining: 393ms\n",
      "415:\tlearn: 0.0249063\ttotal: 279ms\tremaining: 392ms\n",
      "416:\tlearn: 0.0248444\ttotal: 280ms\tremaining: 391ms\n",
      "417:\tlearn: 0.0247870\ttotal: 280ms\tremaining: 390ms\n",
      "418:\tlearn: 0.0247616\ttotal: 282ms\tremaining: 390ms\n",
      "419:\tlearn: 0.0247077\ttotal: 282ms\tremaining: 390ms\n",
      "420:\tlearn: 0.0246806\ttotal: 283ms\tremaining: 389ms\n",
      "421:\tlearn: 0.0246232\ttotal: 284ms\tremaining: 389ms\n",
      "422:\tlearn: 0.0246030\ttotal: 285ms\tremaining: 389ms\n",
      "423:\tlearn: 0.0245421\ttotal: 285ms\tremaining: 388ms\n",
      "424:\tlearn: 0.0244843\ttotal: 286ms\tremaining: 386ms\n",
      "425:\tlearn: 0.0244388\ttotal: 286ms\tremaining: 385ms\n",
      "426:\tlearn: 0.0243794\ttotal: 286ms\tremaining: 384ms\n",
      "427:\tlearn: 0.0243600\ttotal: 286ms\tremaining: 383ms\n",
      "428:\tlearn: 0.0242983\ttotal: 287ms\tremaining: 382ms\n",
      "429:\tlearn: 0.0242533\ttotal: 288ms\tremaining: 381ms\n",
      "430:\tlearn: 0.0242279\ttotal: 288ms\tremaining: 380ms\n",
      "431:\tlearn: 0.0242130\ttotal: 288ms\tremaining: 379ms\n",
      "432:\tlearn: 0.0241754\ttotal: 289ms\tremaining: 378ms\n",
      "433:\tlearn: 0.0241415\ttotal: 289ms\tremaining: 377ms\n",
      "434:\tlearn: 0.0241065\ttotal: 289ms\tremaining: 376ms\n",
      "435:\tlearn: 0.0240695\ttotal: 290ms\tremaining: 375ms\n",
      "436:\tlearn: 0.0240202\ttotal: 290ms\tremaining: 374ms\n",
      "437:\tlearn: 0.0239962\ttotal: 290ms\tremaining: 373ms\n",
      "438:\tlearn: 0.0239831\ttotal: 291ms\tremaining: 372ms\n",
      "439:\tlearn: 0.0239250\ttotal: 291ms\tremaining: 371ms\n",
      "440:\tlearn: 0.0239019\ttotal: 291ms\tremaining: 369ms\n",
      "441:\tlearn: 0.0238832\ttotal: 292ms\tremaining: 368ms\n",
      "442:\tlearn: 0.0238276\ttotal: 292ms\tremaining: 367ms\n",
      "443:\tlearn: 0.0238118\ttotal: 292ms\tremaining: 366ms\n",
      "444:\tlearn: 0.0237800\ttotal: 293ms\tremaining: 365ms\n",
      "445:\tlearn: 0.0237587\ttotal: 293ms\tremaining: 364ms\n",
      "446:\tlearn: 0.0237413\ttotal: 293ms\tremaining: 363ms\n",
      "447:\tlearn: 0.0236893\ttotal: 294ms\tremaining: 362ms\n",
      "448:\tlearn: 0.0236731\ttotal: 294ms\tremaining: 361ms\n",
      "449:\tlearn: 0.0236431\ttotal: 294ms\tremaining: 360ms\n",
      "450:\tlearn: 0.0236250\ttotal: 295ms\tremaining: 359ms\n",
      "451:\tlearn: 0.0235810\ttotal: 295ms\tremaining: 358ms\n",
      "452:\tlearn: 0.0235272\ttotal: 295ms\tremaining: 357ms\n"
     ]
    },
    {
     "name": "stdout",
     "output_type": "stream",
     "text": [
      "453:\tlearn: 0.0234986\ttotal: 296ms\tremaining: 355ms\n",
      "454:\tlearn: 0.0234760\ttotal: 296ms\tremaining: 354ms\n",
      "455:\tlearn: 0.0234457\ttotal: 297ms\tremaining: 354ms\n",
      "456:\tlearn: 0.0234248\ttotal: 298ms\tremaining: 354ms\n",
      "457:\tlearn: 0.0233956\ttotal: 298ms\tremaining: 353ms\n",
      "458:\tlearn: 0.0233521\ttotal: 299ms\tremaining: 352ms\n",
      "459:\tlearn: 0.0233304\ttotal: 299ms\tremaining: 351ms\n",
      "460:\tlearn: 0.0233016\ttotal: 299ms\tremaining: 350ms\n",
      "461:\tlearn: 0.0232821\ttotal: 299ms\tremaining: 349ms\n",
      "462:\tlearn: 0.0232622\ttotal: 300ms\tremaining: 348ms\n",
      "463:\tlearn: 0.0232422\ttotal: 300ms\tremaining: 347ms\n",
      "464:\tlearn: 0.0232204\ttotal: 301ms\tremaining: 346ms\n",
      "465:\tlearn: 0.0232067\ttotal: 301ms\tremaining: 345ms\n",
      "466:\tlearn: 0.0231776\ttotal: 301ms\tremaining: 344ms\n",
      "467:\tlearn: 0.0231508\ttotal: 301ms\tremaining: 343ms\n",
      "468:\tlearn: 0.0231180\ttotal: 302ms\tremaining: 342ms\n",
      "469:\tlearn: 0.0230689\ttotal: 302ms\tremaining: 341ms\n",
      "470:\tlearn: 0.0230346\ttotal: 303ms\tremaining: 340ms\n",
      "471:\tlearn: 0.0230038\ttotal: 303ms\tremaining: 339ms\n",
      "472:\tlearn: 0.0229503\ttotal: 304ms\tremaining: 338ms\n",
      "473:\tlearn: 0.0229126\ttotal: 304ms\tremaining: 337ms\n",
      "474:\tlearn: 0.0228748\ttotal: 304ms\tremaining: 336ms\n",
      "475:\tlearn: 0.0228224\ttotal: 304ms\tremaining: 335ms\n",
      "476:\tlearn: 0.0227734\ttotal: 305ms\tremaining: 334ms\n",
      "477:\tlearn: 0.0227629\ttotal: 305ms\tremaining: 333ms\n",
      "478:\tlearn: 0.0227127\ttotal: 306ms\tremaining: 333ms\n",
      "479:\tlearn: 0.0226968\ttotal: 306ms\tremaining: 332ms\n",
      "480:\tlearn: 0.0226658\ttotal: 307ms\tremaining: 331ms\n",
      "481:\tlearn: 0.0226248\ttotal: 307ms\tremaining: 330ms\n",
      "482:\tlearn: 0.0225757\ttotal: 307ms\tremaining: 329ms\n",
      "483:\tlearn: 0.0225563\ttotal: 307ms\tremaining: 328ms\n",
      "484:\tlearn: 0.0225350\ttotal: 308ms\tremaining: 327ms\n",
      "485:\tlearn: 0.0225188\ttotal: 309ms\tremaining: 327ms\n",
      "486:\tlearn: 0.0224953\ttotal: 310ms\tremaining: 326ms\n",
      "487:\tlearn: 0.0224392\ttotal: 310ms\tremaining: 325ms\n",
      "488:\tlearn: 0.0224056\ttotal: 310ms\tremaining: 324ms\n",
      "489:\tlearn: 0.0223571\ttotal: 311ms\tremaining: 323ms\n",
      "490:\tlearn: 0.0223243\ttotal: 311ms\tremaining: 322ms\n",
      "491:\tlearn: 0.0222771\ttotal: 312ms\tremaining: 322ms\n",
      "492:\tlearn: 0.0222392\ttotal: 312ms\tremaining: 321ms\n",
      "493:\tlearn: 0.0222218\ttotal: 313ms\tremaining: 320ms\n",
      "494:\tlearn: 0.0221757\ttotal: 313ms\tremaining: 319ms\n",
      "495:\tlearn: 0.0221507\ttotal: 313ms\tremaining: 318ms\n",
      "496:\tlearn: 0.0221324\ttotal: 314ms\tremaining: 317ms\n",
      "497:\tlearn: 0.0220873\ttotal: 314ms\tremaining: 317ms\n",
      "498:\tlearn: 0.0220507\ttotal: 315ms\tremaining: 316ms\n",
      "499:\tlearn: 0.0220307\ttotal: 315ms\tremaining: 315ms\n",
      "500:\tlearn: 0.0220174\ttotal: 315ms\tremaining: 314ms\n",
      "501:\tlearn: 0.0219636\ttotal: 316ms\tremaining: 313ms\n",
      "502:\tlearn: 0.0219446\ttotal: 316ms\tremaining: 312ms\n",
      "503:\tlearn: 0.0219261\ttotal: 316ms\tremaining: 311ms\n",
      "504:\tlearn: 0.0219125\ttotal: 316ms\tremaining: 310ms\n",
      "505:\tlearn: 0.0218992\ttotal: 317ms\tremaining: 310ms\n",
      "506:\tlearn: 0.0218822\ttotal: 318ms\tremaining: 309ms\n",
      "507:\tlearn: 0.0218374\ttotal: 318ms\tremaining: 308ms\n",
      "508:\tlearn: 0.0217905\ttotal: 318ms\tremaining: 307ms\n",
      "509:\tlearn: 0.0217389\ttotal: 319ms\tremaining: 306ms\n",
      "510:\tlearn: 0.0216951\ttotal: 319ms\tremaining: 305ms\n",
      "511:\tlearn: 0.0216828\ttotal: 319ms\tremaining: 304ms\n",
      "512:\tlearn: 0.0216560\ttotal: 321ms\tremaining: 304ms\n",
      "513:\tlearn: 0.0216382\ttotal: 321ms\tremaining: 304ms\n",
      "514:\tlearn: 0.0216160\ttotal: 322ms\tremaining: 303ms\n",
      "515:\tlearn: 0.0215988\ttotal: 322ms\tremaining: 302ms\n",
      "516:\tlearn: 0.0215561\ttotal: 322ms\tremaining: 301ms\n",
      "517:\tlearn: 0.0215428\ttotal: 323ms\tremaining: 300ms\n",
      "518:\tlearn: 0.0215175\ttotal: 323ms\tremaining: 300ms\n",
      "519:\tlearn: 0.0214792\ttotal: 324ms\tremaining: 299ms\n",
      "520:\tlearn: 0.0214422\ttotal: 324ms\tremaining: 298ms\n",
      "521:\tlearn: 0.0214225\ttotal: 324ms\tremaining: 297ms\n",
      "522:\tlearn: 0.0214013\ttotal: 325ms\tremaining: 296ms\n",
      "523:\tlearn: 0.0213683\ttotal: 325ms\tremaining: 295ms\n",
      "524:\tlearn: 0.0213443\ttotal: 325ms\tremaining: 294ms\n",
      "525:\tlearn: 0.0213299\ttotal: 325ms\tremaining: 293ms\n",
      "526:\tlearn: 0.0213150\ttotal: 326ms\tremaining: 293ms\n",
      "527:\tlearn: 0.0212785\ttotal: 327ms\tremaining: 292ms\n",
      "528:\tlearn: 0.0212680\ttotal: 327ms\tremaining: 291ms\n",
      "529:\tlearn: 0.0212575\ttotal: 328ms\tremaining: 290ms\n",
      "530:\tlearn: 0.0212365\ttotal: 328ms\tremaining: 290ms\n",
      "531:\tlearn: 0.0212002\ttotal: 328ms\tremaining: 289ms\n",
      "532:\tlearn: 0.0211861\ttotal: 328ms\tremaining: 288ms\n",
      "533:\tlearn: 0.0211516\ttotal: 329ms\tremaining: 287ms\n",
      "534:\tlearn: 0.0211298\ttotal: 329ms\tremaining: 286ms\n",
      "535:\tlearn: 0.0211047\ttotal: 330ms\tremaining: 285ms\n",
      "536:\tlearn: 0.0210923\ttotal: 330ms\tremaining: 285ms\n",
      "537:\tlearn: 0.0210502\ttotal: 330ms\tremaining: 284ms\n",
      "538:\tlearn: 0.0210331\ttotal: 331ms\tremaining: 283ms\n",
      "539:\tlearn: 0.0209949\ttotal: 331ms\tremaining: 282ms\n",
      "540:\tlearn: 0.0209752\ttotal: 331ms\tremaining: 281ms\n",
      "541:\tlearn: 0.0209389\ttotal: 332ms\tremaining: 280ms\n",
      "542:\tlearn: 0.0209053\ttotal: 332ms\tremaining: 279ms\n",
      "543:\tlearn: 0.0208887\ttotal: 332ms\tremaining: 279ms\n",
      "544:\tlearn: 0.0208594\ttotal: 333ms\tremaining: 278ms\n",
      "545:\tlearn: 0.0208511\ttotal: 333ms\tremaining: 277ms\n",
      "546:\tlearn: 0.0208358\ttotal: 333ms\tremaining: 276ms\n",
      "547:\tlearn: 0.0208277\ttotal: 334ms\tremaining: 276ms\n",
      "548:\tlearn: 0.0208182\ttotal: 335ms\tremaining: 275ms\n",
      "549:\tlearn: 0.0207901\ttotal: 335ms\tremaining: 274ms\n",
      "550:\tlearn: 0.0207774\ttotal: 336ms\tremaining: 273ms\n",
      "551:\tlearn: 0.0207627\ttotal: 336ms\tremaining: 273ms\n",
      "552:\tlearn: 0.0207388\ttotal: 336ms\tremaining: 272ms\n",
      "553:\tlearn: 0.0207218\ttotal: 337ms\tremaining: 271ms\n",
      "554:\tlearn: 0.0206736\ttotal: 337ms\tremaining: 270ms\n",
      "555:\tlearn: 0.0206639\ttotal: 337ms\tremaining: 269ms\n",
      "556:\tlearn: 0.0206555\ttotal: 338ms\tremaining: 269ms\n",
      "557:\tlearn: 0.0206399\ttotal: 338ms\tremaining: 268ms\n",
      "558:\tlearn: 0.0206177\ttotal: 338ms\tremaining: 267ms\n",
      "559:\tlearn: 0.0205928\ttotal: 340ms\tremaining: 267ms\n",
      "560:\tlearn: 0.0205606\ttotal: 345ms\tremaining: 270ms\n",
      "561:\tlearn: 0.0205488\ttotal: 346ms\tremaining: 270ms\n",
      "562:\tlearn: 0.0205108\ttotal: 347ms\tremaining: 270ms\n",
      "563:\tlearn: 0.0204709\ttotal: 348ms\tremaining: 269ms\n",
      "564:\tlearn: 0.0204530\ttotal: 349ms\tremaining: 269ms\n",
      "565:\tlearn: 0.0204423\ttotal: 352ms\tremaining: 270ms\n",
      "566:\tlearn: 0.0204211\ttotal: 353ms\tremaining: 269ms\n",
      "567:\tlearn: 0.0204109\ttotal: 354ms\tremaining: 269ms\n",
      "568:\tlearn: 0.0203797\ttotal: 355ms\tremaining: 269ms\n",
      "569:\tlearn: 0.0203611\ttotal: 363ms\tremaining: 274ms\n",
      "570:\tlearn: 0.0203378\ttotal: 366ms\tremaining: 275ms\n",
      "571:\tlearn: 0.0203131\ttotal: 367ms\tremaining: 275ms\n",
      "572:\tlearn: 0.0202928\ttotal: 367ms\tremaining: 274ms\n",
      "573:\tlearn: 0.0202626\ttotal: 368ms\tremaining: 273ms\n",
      "574:\tlearn: 0.0202322\ttotal: 368ms\tremaining: 272ms\n",
      "575:\tlearn: 0.0201984\ttotal: 368ms\tremaining: 271ms\n",
      "576:\tlearn: 0.0201708\ttotal: 369ms\tremaining: 270ms\n",
      "577:\tlearn: 0.0201549\ttotal: 369ms\tremaining: 270ms\n",
      "578:\tlearn: 0.0201307\ttotal: 370ms\tremaining: 269ms\n",
      "579:\tlearn: 0.0200899\ttotal: 370ms\tremaining: 268ms\n",
      "580:\tlearn: 0.0200759\ttotal: 370ms\tremaining: 267ms\n",
      "581:\tlearn: 0.0200630\ttotal: 371ms\tremaining: 266ms\n",
      "582:\tlearn: 0.0200336\ttotal: 373ms\tremaining: 266ms\n",
      "583:\tlearn: 0.0200213\ttotal: 373ms\tremaining: 266ms\n",
      "584:\tlearn: 0.0200067\ttotal: 374ms\tremaining: 265ms\n",
      "585:\tlearn: 0.0199985\ttotal: 374ms\tremaining: 264ms\n",
      "586:\tlearn: 0.0199677\ttotal: 374ms\tremaining: 263ms\n",
      "587:\tlearn: 0.0199554\ttotal: 375ms\tremaining: 262ms\n",
      "588:\tlearn: 0.0199225\ttotal: 375ms\tremaining: 262ms\n",
      "589:\tlearn: 0.0198949\ttotal: 375ms\tremaining: 261ms\n",
      "590:\tlearn: 0.0198600\ttotal: 375ms\tremaining: 260ms\n",
      "591:\tlearn: 0.0198306\ttotal: 376ms\tremaining: 259ms\n",
      "592:\tlearn: 0.0198033\ttotal: 377ms\tremaining: 259ms\n",
      "593:\tlearn: 0.0197901\ttotal: 377ms\tremaining: 258ms\n",
      "594:\tlearn: 0.0197532\ttotal: 378ms\tremaining: 257ms\n",
      "595:\tlearn: 0.0197416\ttotal: 378ms\tremaining: 256ms\n",
      "596:\tlearn: 0.0197193\ttotal: 379ms\tremaining: 256ms\n",
      "597:\tlearn: 0.0196982\ttotal: 379ms\tremaining: 255ms\n"
     ]
    },
    {
     "name": "stdout",
     "output_type": "stream",
     "text": [
      "598:\tlearn: 0.0196643\ttotal: 383ms\tremaining: 256ms\n",
      "599:\tlearn: 0.0196464\ttotal: 383ms\tremaining: 256ms\n",
      "600:\tlearn: 0.0196180\ttotal: 386ms\tremaining: 256ms\n",
      "601:\tlearn: 0.0195800\ttotal: 386ms\tremaining: 255ms\n",
      "602:\tlearn: 0.0195477\ttotal: 387ms\tremaining: 255ms\n",
      "603:\tlearn: 0.0195293\ttotal: 387ms\tremaining: 254ms\n",
      "604:\tlearn: 0.0194933\ttotal: 395ms\tremaining: 258ms\n",
      "605:\tlearn: 0.0194768\ttotal: 396ms\tremaining: 257ms\n",
      "606:\tlearn: 0.0194660\ttotal: 406ms\tremaining: 263ms\n",
      "607:\tlearn: 0.0194474\ttotal: 407ms\tremaining: 262ms\n",
      "608:\tlearn: 0.0194225\ttotal: 414ms\tremaining: 266ms\n",
      "609:\tlearn: 0.0194148\ttotal: 414ms\tremaining: 265ms\n",
      "610:\tlearn: 0.0193842\ttotal: 423ms\tremaining: 269ms\n",
      "611:\tlearn: 0.0193649\ttotal: 424ms\tremaining: 269ms\n",
      "612:\tlearn: 0.0193359\ttotal: 424ms\tremaining: 268ms\n",
      "613:\tlearn: 0.0193156\ttotal: 425ms\tremaining: 267ms\n",
      "614:\tlearn: 0.0192823\ttotal: 425ms\tremaining: 266ms\n",
      "615:\tlearn: 0.0192661\ttotal: 425ms\tremaining: 265ms\n",
      "616:\tlearn: 0.0192523\ttotal: 426ms\tremaining: 264ms\n",
      "617:\tlearn: 0.0192263\ttotal: 426ms\tremaining: 263ms\n",
      "618:\tlearn: 0.0192182\ttotal: 426ms\tremaining: 262ms\n",
      "619:\tlearn: 0.0192027\ttotal: 427ms\tremaining: 261ms\n",
      "620:\tlearn: 0.0191830\ttotal: 427ms\tremaining: 261ms\n",
      "621:\tlearn: 0.0191529\ttotal: 428ms\tremaining: 260ms\n",
      "622:\tlearn: 0.0191392\ttotal: 428ms\tremaining: 259ms\n",
      "623:\tlearn: 0.0191127\ttotal: 428ms\tremaining: 258ms\n",
      "624:\tlearn: 0.0191036\ttotal: 429ms\tremaining: 257ms\n",
      "625:\tlearn: 0.0190913\ttotal: 430ms\tremaining: 257ms\n",
      "626:\tlearn: 0.0190814\ttotal: 430ms\tremaining: 256ms\n",
      "627:\tlearn: 0.0190685\ttotal: 431ms\tremaining: 255ms\n",
      "628:\tlearn: 0.0190561\ttotal: 432ms\tremaining: 255ms\n",
      "629:\tlearn: 0.0190507\ttotal: 432ms\tremaining: 254ms\n",
      "630:\tlearn: 0.0190377\ttotal: 432ms\tremaining: 253ms\n",
      "631:\tlearn: 0.0190030\ttotal: 433ms\tremaining: 252ms\n",
      "632:\tlearn: 0.0189883\ttotal: 434ms\tremaining: 251ms\n",
      "633:\tlearn: 0.0189561\ttotal: 434ms\tremaining: 251ms\n",
      "634:\tlearn: 0.0189426\ttotal: 434ms\tremaining: 250ms\n",
      "635:\tlearn: 0.0189252\ttotal: 435ms\tremaining: 249ms\n",
      "636:\tlearn: 0.0189188\ttotal: 435ms\tremaining: 248ms\n",
      "637:\tlearn: 0.0188957\ttotal: 435ms\tremaining: 247ms\n",
      "638:\tlearn: 0.0188735\ttotal: 436ms\tremaining: 246ms\n",
      "639:\tlearn: 0.0188520\ttotal: 436ms\tremaining: 245ms\n",
      "640:\tlearn: 0.0188368\ttotal: 436ms\tremaining: 244ms\n",
      "641:\tlearn: 0.0188222\ttotal: 437ms\tremaining: 243ms\n",
      "642:\tlearn: 0.0188119\ttotal: 437ms\tremaining: 243ms\n",
      "643:\tlearn: 0.0187812\ttotal: 437ms\tremaining: 242ms\n",
      "644:\tlearn: 0.0187731\ttotal: 438ms\tremaining: 241ms\n",
      "645:\tlearn: 0.0187552\ttotal: 439ms\tremaining: 240ms\n",
      "646:\tlearn: 0.0187239\ttotal: 439ms\tremaining: 240ms\n",
      "647:\tlearn: 0.0186957\ttotal: 439ms\tremaining: 239ms\n",
      "648:\tlearn: 0.0186871\ttotal: 440ms\tremaining: 238ms\n",
      "649:\tlearn: 0.0186733\ttotal: 440ms\tremaining: 237ms\n",
      "650:\tlearn: 0.0186478\ttotal: 441ms\tremaining: 236ms\n",
      "651:\tlearn: 0.0186067\ttotal: 441ms\tremaining: 235ms\n",
      "652:\tlearn: 0.0185729\ttotal: 441ms\tremaining: 234ms\n",
      "653:\tlearn: 0.0185556\ttotal: 441ms\tremaining: 234ms\n",
      "654:\tlearn: 0.0185320\ttotal: 442ms\tremaining: 233ms\n",
      "655:\tlearn: 0.0185128\ttotal: 442ms\tremaining: 232ms\n",
      "656:\tlearn: 0.0184819\ttotal: 442ms\tremaining: 231ms\n",
      "657:\tlearn: 0.0184694\ttotal: 443ms\tremaining: 230ms\n",
      "658:\tlearn: 0.0184579\ttotal: 443ms\tremaining: 229ms\n",
      "659:\tlearn: 0.0184329\ttotal: 443ms\tremaining: 228ms\n",
      "660:\tlearn: 0.0184123\ttotal: 444ms\tremaining: 227ms\n",
      "661:\tlearn: 0.0183706\ttotal: 444ms\tremaining: 227ms\n",
      "662:\tlearn: 0.0183582\ttotal: 444ms\tremaining: 226ms\n",
      "663:\tlearn: 0.0183493\ttotal: 444ms\tremaining: 225ms\n",
      "664:\tlearn: 0.0183244\ttotal: 445ms\tremaining: 224ms\n",
      "665:\tlearn: 0.0182960\ttotal: 445ms\tremaining: 223ms\n",
      "666:\tlearn: 0.0182739\ttotal: 446ms\tremaining: 223ms\n",
      "667:\tlearn: 0.0182612\ttotal: 447ms\tremaining: 222ms\n",
      "668:\tlearn: 0.0182490\ttotal: 448ms\tremaining: 221ms\n",
      "669:\tlearn: 0.0182327\ttotal: 448ms\tremaining: 221ms\n",
      "670:\tlearn: 0.0182219\ttotal: 449ms\tremaining: 220ms\n",
      "671:\tlearn: 0.0181989\ttotal: 449ms\tremaining: 219ms\n",
      "672:\tlearn: 0.0181768\ttotal: 450ms\tremaining: 218ms\n",
      "673:\tlearn: 0.0181615\ttotal: 450ms\tremaining: 218ms\n",
      "674:\tlearn: 0.0181397\ttotal: 451ms\tremaining: 217ms\n",
      "675:\tlearn: 0.0181191\ttotal: 451ms\tremaining: 216ms\n",
      "676:\tlearn: 0.0181042\ttotal: 452ms\tremaining: 215ms\n",
      "677:\tlearn: 0.0180736\ttotal: 452ms\tremaining: 215ms\n",
      "678:\tlearn: 0.0180635\ttotal: 452ms\tremaining: 214ms\n",
      "679:\tlearn: 0.0180519\ttotal: 452ms\tremaining: 213ms\n",
      "680:\tlearn: 0.0180236\ttotal: 453ms\tremaining: 212ms\n",
      "681:\tlearn: 0.0179924\ttotal: 454ms\tremaining: 212ms\n",
      "682:\tlearn: 0.0179825\ttotal: 454ms\tremaining: 211ms\n",
      "683:\tlearn: 0.0179701\ttotal: 454ms\tremaining: 210ms\n",
      "684:\tlearn: 0.0179432\ttotal: 454ms\tremaining: 209ms\n",
      "685:\tlearn: 0.0179095\ttotal: 455ms\tremaining: 208ms\n",
      "686:\tlearn: 0.0178926\ttotal: 456ms\tremaining: 208ms\n",
      "687:\tlearn: 0.0178806\ttotal: 456ms\tremaining: 207ms\n",
      "688:\tlearn: 0.0178517\ttotal: 457ms\tremaining: 206ms\n",
      "689:\tlearn: 0.0178391\ttotal: 457ms\tremaining: 205ms\n",
      "690:\tlearn: 0.0178288\ttotal: 457ms\tremaining: 204ms\n",
      "691:\tlearn: 0.0178161\ttotal: 457ms\tremaining: 204ms\n",
      "692:\tlearn: 0.0177844\ttotal: 458ms\tremaining: 203ms\n",
      "693:\tlearn: 0.0177659\ttotal: 458ms\tremaining: 202ms\n",
      "694:\tlearn: 0.0177563\ttotal: 459ms\tremaining: 201ms\n",
      "695:\tlearn: 0.0177252\ttotal: 459ms\tremaining: 201ms\n",
      "696:\tlearn: 0.0177012\ttotal: 459ms\tremaining: 200ms\n",
      "697:\tlearn: 0.0176767\ttotal: 460ms\tremaining: 199ms\n",
      "698:\tlearn: 0.0176512\ttotal: 460ms\tremaining: 198ms\n",
      "699:\tlearn: 0.0176229\ttotal: 460ms\tremaining: 197ms\n",
      "700:\tlearn: 0.0176025\ttotal: 461ms\tremaining: 196ms\n",
      "701:\tlearn: 0.0175879\ttotal: 461ms\tremaining: 196ms\n",
      "702:\tlearn: 0.0175762\ttotal: 462ms\tremaining: 195ms\n",
      "703:\tlearn: 0.0175575\ttotal: 463ms\tremaining: 195ms\n",
      "704:\tlearn: 0.0175310\ttotal: 463ms\tremaining: 194ms\n",
      "705:\tlearn: 0.0175201\ttotal: 463ms\tremaining: 193ms\n",
      "706:\tlearn: 0.0175006\ttotal: 464ms\tremaining: 192ms\n",
      "707:\tlearn: 0.0174748\ttotal: 464ms\tremaining: 191ms\n",
      "708:\tlearn: 0.0174521\ttotal: 464ms\tremaining: 190ms\n",
      "709:\tlearn: 0.0174245\ttotal: 465ms\tremaining: 190ms\n",
      "710:\tlearn: 0.0174059\ttotal: 465ms\tremaining: 189ms\n",
      "711:\tlearn: 0.0173799\ttotal: 465ms\tremaining: 188ms\n",
      "712:\tlearn: 0.0173714\ttotal: 466ms\tremaining: 188ms\n",
      "713:\tlearn: 0.0173507\ttotal: 466ms\tremaining: 187ms\n",
      "714:\tlearn: 0.0173392\ttotal: 466ms\tremaining: 186ms\n",
      "715:\tlearn: 0.0173268\ttotal: 467ms\tremaining: 185ms\n",
      "716:\tlearn: 0.0173165\ttotal: 467ms\tremaining: 184ms\n",
      "717:\tlearn: 0.0172899\ttotal: 467ms\tremaining: 184ms\n",
      "718:\tlearn: 0.0172787\ttotal: 468ms\tremaining: 183ms\n",
      "719:\tlearn: 0.0172690\ttotal: 468ms\tremaining: 182ms\n",
      "720:\tlearn: 0.0172581\ttotal: 469ms\tremaining: 181ms\n",
      "721:\tlearn: 0.0172289\ttotal: 469ms\tremaining: 181ms\n",
      "722:\tlearn: 0.0172062\ttotal: 469ms\tremaining: 180ms\n",
      "723:\tlearn: 0.0171784\ttotal: 470ms\tremaining: 179ms\n",
      "724:\tlearn: 0.0171677\ttotal: 470ms\tremaining: 178ms\n",
      "725:\tlearn: 0.0171538\ttotal: 471ms\tremaining: 178ms\n",
      "726:\tlearn: 0.0171434\ttotal: 471ms\tremaining: 177ms\n",
      "727:\tlearn: 0.0171334\ttotal: 471ms\tremaining: 176ms\n",
      "728:\tlearn: 0.0171200\ttotal: 472ms\tremaining: 175ms\n",
      "729:\tlearn: 0.0171076\ttotal: 472ms\tremaining: 175ms\n",
      "730:\tlearn: 0.0170956\ttotal: 472ms\tremaining: 174ms\n",
      "731:\tlearn: 0.0170822\ttotal: 473ms\tremaining: 173ms\n",
      "732:\tlearn: 0.0170641\ttotal: 473ms\tremaining: 172ms\n",
      "733:\tlearn: 0.0170439\ttotal: 474ms\tremaining: 172ms\n",
      "734:\tlearn: 0.0170355\ttotal: 474ms\tremaining: 171ms\n",
      "735:\tlearn: 0.0170095\ttotal: 474ms\tremaining: 170ms\n",
      "736:\tlearn: 0.0169847\ttotal: 475ms\tremaining: 170ms\n",
      "737:\tlearn: 0.0169681\ttotal: 476ms\tremaining: 169ms\n",
      "738:\tlearn: 0.0169446\ttotal: 476ms\tremaining: 168ms\n",
      "739:\tlearn: 0.0169233\ttotal: 476ms\tremaining: 167ms\n",
      "740:\tlearn: 0.0169134\ttotal: 476ms\tremaining: 166ms\n",
      "741:\tlearn: 0.0168862\ttotal: 477ms\tremaining: 166ms\n",
      "742:\tlearn: 0.0168733\ttotal: 477ms\tremaining: 165ms\n",
      "743:\tlearn: 0.0168516\ttotal: 478ms\tremaining: 164ms\n",
      "744:\tlearn: 0.0168364\ttotal: 478ms\tremaining: 164ms\n",
      "745:\tlearn: 0.0168159\ttotal: 478ms\tremaining: 163ms\n",
      "746:\tlearn: 0.0168072\ttotal: 479ms\tremaining: 162ms\n",
      "747:\tlearn: 0.0167775\ttotal: 479ms\tremaining: 161ms\n",
      "748:\tlearn: 0.0167678\ttotal: 479ms\tremaining: 161ms\n",
      "749:\tlearn: 0.0167578\ttotal: 480ms\tremaining: 160ms\n",
      "750:\tlearn: 0.0167482\ttotal: 480ms\tremaining: 159ms\n",
      "751:\tlearn: 0.0167389\ttotal: 481ms\tremaining: 159ms\n",
      "752:\tlearn: 0.0167183\ttotal: 481ms\tremaining: 158ms\n",
      "753:\tlearn: 0.0166915\ttotal: 482ms\tremaining: 157ms\n",
      "754:\tlearn: 0.0166772\ttotal: 482ms\tremaining: 157ms\n",
      "755:\tlearn: 0.0166569\ttotal: 483ms\tremaining: 156ms\n",
      "756:\tlearn: 0.0166447\ttotal: 483ms\tremaining: 155ms\n",
      "757:\tlearn: 0.0166278\ttotal: 484ms\tremaining: 154ms\n",
      "758:\tlearn: 0.0166081\ttotal: 484ms\tremaining: 154ms\n",
      "759:\tlearn: 0.0165957\ttotal: 484ms\tremaining: 153ms\n",
      "760:\tlearn: 0.0165866\ttotal: 484ms\tremaining: 152ms\n",
      "761:\tlearn: 0.0165609\ttotal: 485ms\tremaining: 151ms\n",
      "762:\tlearn: 0.0165358\ttotal: 485ms\tremaining: 151ms\n",
      "763:\tlearn: 0.0165255\ttotal: 486ms\tremaining: 150ms\n",
      "764:\tlearn: 0.0165154\ttotal: 487ms\tremaining: 150ms\n"
     ]
    },
    {
     "name": "stdout",
     "output_type": "stream",
     "text": [
      "765:\tlearn: 0.0165055\ttotal: 488ms\tremaining: 149ms\n",
      "766:\tlearn: 0.0164809\ttotal: 490ms\tremaining: 149ms\n",
      "767:\tlearn: 0.0164659\ttotal: 491ms\tremaining: 148ms\n",
      "768:\tlearn: 0.0164306\ttotal: 491ms\tremaining: 147ms\n",
      "769:\tlearn: 0.0164089\ttotal: 491ms\tremaining: 147ms\n",
      "770:\tlearn: 0.0163882\ttotal: 491ms\tremaining: 146ms\n",
      "771:\tlearn: 0.0163759\ttotal: 492ms\tremaining: 145ms\n",
      "772:\tlearn: 0.0163559\ttotal: 492ms\tremaining: 145ms\n",
      "773:\tlearn: 0.0163418\ttotal: 493ms\tremaining: 144ms\n",
      "774:\tlearn: 0.0163324\ttotal: 493ms\tremaining: 143ms\n",
      "775:\tlearn: 0.0163215\ttotal: 493ms\tremaining: 142ms\n",
      "776:\tlearn: 0.0163155\ttotal: 494ms\tremaining: 142ms\n",
      "777:\tlearn: 0.0163036\ttotal: 494ms\tremaining: 141ms\n",
      "778:\tlearn: 0.0162931\ttotal: 494ms\tremaining: 140ms\n",
      "779:\tlearn: 0.0162850\ttotal: 495ms\tremaining: 139ms\n",
      "780:\tlearn: 0.0162724\ttotal: 495ms\tremaining: 139ms\n",
      "781:\tlearn: 0.0162477\ttotal: 496ms\tremaining: 138ms\n",
      "782:\tlearn: 0.0162364\ttotal: 496ms\tremaining: 137ms\n",
      "783:\tlearn: 0.0162139\ttotal: 496ms\tremaining: 137ms\n",
      "784:\tlearn: 0.0162048\ttotal: 496ms\tremaining: 136ms\n",
      "785:\tlearn: 0.0161810\ttotal: 497ms\tremaining: 135ms\n",
      "786:\tlearn: 0.0161615\ttotal: 497ms\tremaining: 135ms\n",
      "787:\tlearn: 0.0161491\ttotal: 497ms\tremaining: 134ms\n",
      "788:\tlearn: 0.0161378\ttotal: 498ms\tremaining: 133ms\n",
      "789:\tlearn: 0.0161149\ttotal: 498ms\tremaining: 132ms\n",
      "790:\tlearn: 0.0161060\ttotal: 499ms\tremaining: 132ms\n",
      "791:\tlearn: 0.0160816\ttotal: 499ms\tremaining: 131ms\n",
      "792:\tlearn: 0.0160635\ttotal: 499ms\tremaining: 130ms\n",
      "793:\tlearn: 0.0160497\ttotal: 499ms\tremaining: 130ms\n",
      "794:\tlearn: 0.0160460\ttotal: 500ms\tremaining: 129ms\n",
      "795:\tlearn: 0.0160201\ttotal: 500ms\tremaining: 128ms\n",
      "796:\tlearn: 0.0160051\ttotal: 501ms\tremaining: 128ms\n",
      "797:\tlearn: 0.0159962\ttotal: 501ms\tremaining: 127ms\n",
      "798:\tlearn: 0.0159665\ttotal: 501ms\tremaining: 126ms\n",
      "799:\tlearn: 0.0159488\ttotal: 502ms\tremaining: 125ms\n",
      "800:\tlearn: 0.0159419\ttotal: 502ms\tremaining: 125ms\n",
      "801:\tlearn: 0.0159344\ttotal: 502ms\tremaining: 124ms\n",
      "802:\tlearn: 0.0159106\ttotal: 503ms\tremaining: 123ms\n",
      "803:\tlearn: 0.0158947\ttotal: 503ms\tremaining: 123ms\n",
      "804:\tlearn: 0.0158815\ttotal: 504ms\tremaining: 122ms\n",
      "805:\tlearn: 0.0158654\ttotal: 504ms\tremaining: 121ms\n",
      "806:\tlearn: 0.0158512\ttotal: 504ms\tremaining: 121ms\n",
      "807:\tlearn: 0.0158377\ttotal: 505ms\tremaining: 120ms\n",
      "808:\tlearn: 0.0158180\ttotal: 505ms\tremaining: 119ms\n",
      "809:\tlearn: 0.0158048\ttotal: 505ms\tremaining: 119ms\n",
      "810:\tlearn: 0.0157941\ttotal: 506ms\tremaining: 118ms\n",
      "811:\tlearn: 0.0157757\ttotal: 506ms\tremaining: 117ms\n",
      "812:\tlearn: 0.0157601\ttotal: 506ms\tremaining: 116ms\n",
      "813:\tlearn: 0.0157491\ttotal: 507ms\tremaining: 116ms\n",
      "814:\tlearn: 0.0157276\ttotal: 507ms\tremaining: 115ms\n",
      "815:\tlearn: 0.0157192\ttotal: 507ms\tremaining: 114ms\n",
      "816:\tlearn: 0.0157019\ttotal: 507ms\tremaining: 114ms\n",
      "817:\tlearn: 0.0156855\ttotal: 508ms\tremaining: 113ms\n",
      "818:\tlearn: 0.0156771\ttotal: 512ms\tremaining: 113ms\n",
      "819:\tlearn: 0.0156594\ttotal: 513ms\tremaining: 113ms\n",
      "820:\tlearn: 0.0156494\ttotal: 513ms\tremaining: 112ms\n",
      "821:\tlearn: 0.0156413\ttotal: 514ms\tremaining: 111ms\n",
      "822:\tlearn: 0.0156267\ttotal: 514ms\tremaining: 111ms\n",
      "823:\tlearn: 0.0156065\ttotal: 514ms\tremaining: 110ms\n",
      "824:\tlearn: 0.0155932\ttotal: 515ms\tremaining: 109ms\n",
      "825:\tlearn: 0.0155826\ttotal: 515ms\tremaining: 109ms\n",
      "826:\tlearn: 0.0155725\ttotal: 515ms\tremaining: 108ms\n",
      "827:\tlearn: 0.0155567\ttotal: 516ms\tremaining: 107ms\n",
      "828:\tlearn: 0.0155455\ttotal: 516ms\tremaining: 106ms\n",
      "829:\tlearn: 0.0155403\ttotal: 516ms\tremaining: 106ms\n",
      "830:\tlearn: 0.0155370\ttotal: 517ms\tremaining: 105ms\n",
      "831:\tlearn: 0.0155238\ttotal: 517ms\tremaining: 104ms\n",
      "832:\tlearn: 0.0155079\ttotal: 517ms\tremaining: 104ms\n",
      "833:\tlearn: 0.0154881\ttotal: 518ms\tremaining: 103ms\n",
      "834:\tlearn: 0.0154730\ttotal: 518ms\tremaining: 102ms\n",
      "835:\tlearn: 0.0154563\ttotal: 519ms\tremaining: 102ms\n",
      "836:\tlearn: 0.0154377\ttotal: 519ms\tremaining: 101ms\n",
      "837:\tlearn: 0.0154198\ttotal: 519ms\tremaining: 100ms\n",
      "838:\tlearn: 0.0153989\ttotal: 519ms\tremaining: 99.7ms\n",
      "839:\tlearn: 0.0153767\ttotal: 520ms\tremaining: 99ms\n",
      "840:\tlearn: 0.0153690\ttotal: 520ms\tremaining: 98.3ms\n",
      "841:\tlearn: 0.0153499\ttotal: 520ms\tremaining: 97.6ms\n",
      "842:\tlearn: 0.0153429\ttotal: 521ms\tremaining: 97ms\n",
      "843:\tlearn: 0.0153284\ttotal: 521ms\tremaining: 96.3ms\n",
      "844:\tlearn: 0.0153133\ttotal: 521ms\tremaining: 95.6ms\n",
      "845:\tlearn: 0.0152935\ttotal: 522ms\tremaining: 95ms\n",
      "846:\tlearn: 0.0152666\ttotal: 522ms\tremaining: 94.3ms\n",
      "847:\tlearn: 0.0152610\ttotal: 522ms\tremaining: 93.6ms\n",
      "848:\tlearn: 0.0152435\ttotal: 523ms\tremaining: 93ms\n",
      "849:\tlearn: 0.0152227\ttotal: 523ms\tremaining: 92.3ms\n",
      "850:\tlearn: 0.0152154\ttotal: 523ms\tremaining: 91.6ms\n",
      "851:\tlearn: 0.0151984\ttotal: 524ms\tremaining: 91ms\n",
      "852:\tlearn: 0.0151771\ttotal: 524ms\tremaining: 90.3ms\n",
      "853:\tlearn: 0.0151686\ttotal: 525ms\tremaining: 89.7ms\n",
      "854:\tlearn: 0.0151446\ttotal: 525ms\tremaining: 89.1ms\n",
      "855:\tlearn: 0.0151308\ttotal: 525ms\tremaining: 88.4ms\n",
      "856:\tlearn: 0.0151213\ttotal: 526ms\tremaining: 87.7ms\n",
      "857:\tlearn: 0.0151086\ttotal: 526ms\tremaining: 87.1ms\n",
      "858:\tlearn: 0.0150885\ttotal: 526ms\tremaining: 86.4ms\n",
      "859:\tlearn: 0.0150737\ttotal: 527ms\tremaining: 85.7ms\n",
      "860:\tlearn: 0.0150640\ttotal: 527ms\tremaining: 85.1ms\n",
      "861:\tlearn: 0.0150552\ttotal: 528ms\tremaining: 84.5ms\n",
      "862:\tlearn: 0.0150455\ttotal: 528ms\tremaining: 83.8ms\n",
      "863:\tlearn: 0.0150285\ttotal: 528ms\tremaining: 83.2ms\n",
      "864:\tlearn: 0.0150155\ttotal: 529ms\tremaining: 82.5ms\n",
      "865:\tlearn: 0.0150067\ttotal: 529ms\tremaining: 81.9ms\n",
      "866:\tlearn: 0.0149945\ttotal: 529ms\tremaining: 81.2ms\n",
      "867:\tlearn: 0.0149806\ttotal: 530ms\tremaining: 80.5ms\n",
      "868:\tlearn: 0.0149751\ttotal: 530ms\tremaining: 79.9ms\n",
      "869:\tlearn: 0.0149684\ttotal: 530ms\tremaining: 79.2ms\n",
      "870:\tlearn: 0.0149582\ttotal: 530ms\tremaining: 78.6ms\n",
      "871:\tlearn: 0.0149425\ttotal: 531ms\tremaining: 77.9ms\n",
      "872:\tlearn: 0.0149296\ttotal: 531ms\tremaining: 77.2ms\n",
      "873:\tlearn: 0.0149218\ttotal: 533ms\tremaining: 76.8ms\n",
      "874:\tlearn: 0.0149146\ttotal: 533ms\tremaining: 76.2ms\n",
      "875:\tlearn: 0.0149075\ttotal: 534ms\tremaining: 75.5ms\n",
      "876:\tlearn: 0.0149007\ttotal: 534ms\tremaining: 74.9ms\n",
      "877:\tlearn: 0.0148926\ttotal: 535ms\tremaining: 74.3ms\n",
      "878:\tlearn: 0.0148800\ttotal: 535ms\tremaining: 73.7ms\n",
      "879:\tlearn: 0.0148704\ttotal: 535ms\tremaining: 73ms\n",
      "880:\tlearn: 0.0148517\ttotal: 536ms\tremaining: 72.3ms\n",
      "881:\tlearn: 0.0148435\ttotal: 536ms\tremaining: 71.7ms\n",
      "882:\tlearn: 0.0148385\ttotal: 536ms\tremaining: 71ms\n",
      "883:\tlearn: 0.0148341\ttotal: 537ms\tremaining: 70.4ms\n",
      "884:\tlearn: 0.0148258\ttotal: 537ms\tremaining: 69.8ms\n",
      "885:\tlearn: 0.0148194\ttotal: 538ms\tremaining: 69.2ms\n",
      "886:\tlearn: 0.0148071\ttotal: 538ms\tremaining: 68.5ms\n",
      "887:\tlearn: 0.0147872\ttotal: 538ms\tremaining: 67.9ms\n",
      "888:\tlearn: 0.0147755\ttotal: 538ms\tremaining: 67.2ms\n",
      "889:\tlearn: 0.0147693\ttotal: 539ms\tremaining: 66.6ms\n",
      "890:\tlearn: 0.0147556\ttotal: 539ms\tremaining: 65.9ms\n",
      "891:\tlearn: 0.0147476\ttotal: 540ms\tremaining: 65.3ms\n",
      "892:\tlearn: 0.0147372\ttotal: 540ms\tremaining: 64.7ms\n",
      "893:\tlearn: 0.0147237\ttotal: 540ms\tremaining: 64.1ms\n",
      "894:\tlearn: 0.0147073\ttotal: 541ms\tremaining: 63.4ms\n",
      "895:\tlearn: 0.0147000\ttotal: 541ms\tremaining: 62.8ms\n",
      "896:\tlearn: 0.0146916\ttotal: 542ms\tremaining: 62.2ms\n",
      "897:\tlearn: 0.0146716\ttotal: 544ms\tremaining: 61.8ms\n",
      "898:\tlearn: 0.0146527\ttotal: 545ms\tremaining: 61.2ms\n",
      "899:\tlearn: 0.0146419\ttotal: 545ms\tremaining: 60.5ms\n",
      "900:\tlearn: 0.0146352\ttotal: 545ms\tremaining: 59.9ms\n",
      "901:\tlearn: 0.0146292\ttotal: 545ms\tremaining: 59.3ms\n",
      "902:\tlearn: 0.0146224\ttotal: 546ms\tremaining: 58.6ms\n",
      "903:\tlearn: 0.0146162\ttotal: 546ms\tremaining: 58ms\n",
      "904:\tlearn: 0.0146066\ttotal: 547ms\tremaining: 57.4ms\n",
      "905:\tlearn: 0.0145923\ttotal: 547ms\tremaining: 56.8ms\n",
      "906:\tlearn: 0.0145732\ttotal: 547ms\tremaining: 56.1ms\n",
      "907:\tlearn: 0.0145640\ttotal: 548ms\tremaining: 55.5ms\n",
      "908:\tlearn: 0.0145439\ttotal: 548ms\tremaining: 54.9ms\n",
      "909:\tlearn: 0.0145343\ttotal: 548ms\tremaining: 54.2ms\n",
      "910:\tlearn: 0.0145184\ttotal: 549ms\tremaining: 53.6ms\n",
      "911:\tlearn: 0.0144951\ttotal: 549ms\tremaining: 53ms\n",
      "912:\tlearn: 0.0144889\ttotal: 549ms\tremaining: 52.3ms\n",
      "913:\tlearn: 0.0144757\ttotal: 550ms\tremaining: 51.7ms\n",
      "914:\tlearn: 0.0144653\ttotal: 550ms\tremaining: 51.1ms\n",
      "915:\tlearn: 0.0144538\ttotal: 551ms\tremaining: 50.5ms\n",
      "916:\tlearn: 0.0144388\ttotal: 551ms\tremaining: 49.9ms\n",
      "917:\tlearn: 0.0144291\ttotal: 551ms\tremaining: 49.2ms\n",
      "918:\tlearn: 0.0144247\ttotal: 551ms\tremaining: 48.6ms\n",
      "919:\tlearn: 0.0144157\ttotal: 552ms\tremaining: 48ms\n",
      "920:\tlearn: 0.0144037\ttotal: 553ms\tremaining: 47.4ms\n",
      "921:\tlearn: 0.0143885\ttotal: 554ms\tremaining: 46.8ms\n",
      "922:\tlearn: 0.0143763\ttotal: 554ms\tremaining: 46.2ms\n",
      "923:\tlearn: 0.0143664\ttotal: 555ms\tremaining: 45.7ms\n",
      "924:\tlearn: 0.0143599\ttotal: 557ms\tremaining: 45.1ms\n",
      "925:\tlearn: 0.0143466\ttotal: 557ms\tremaining: 44.5ms\n",
      "926:\tlearn: 0.0143323\ttotal: 558ms\tremaining: 43.9ms\n",
      "927:\tlearn: 0.0143225\ttotal: 558ms\tremaining: 43.3ms\n",
      "928:\tlearn: 0.0143066\ttotal: 558ms\tremaining: 42.7ms\n",
      "929:\tlearn: 0.0142976\ttotal: 558ms\tremaining: 42ms\n",
      "930:\tlearn: 0.0142904\ttotal: 559ms\tremaining: 41.4ms\n",
      "931:\tlearn: 0.0142782\ttotal: 560ms\tremaining: 40.8ms\n",
      "932:\tlearn: 0.0142634\ttotal: 560ms\tremaining: 40.2ms\n",
      "933:\tlearn: 0.0142379\ttotal: 560ms\tremaining: 39.6ms\n",
      "934:\tlearn: 0.0142272\ttotal: 561ms\tremaining: 39ms\n",
      "935:\tlearn: 0.0142172\ttotal: 561ms\tremaining: 38.4ms\n",
      "936:\tlearn: 0.0142102\ttotal: 561ms\tremaining: 37.8ms\n",
      "937:\tlearn: 0.0142035\ttotal: 562ms\tremaining: 37.1ms\n",
      "938:\tlearn: 0.0141842\ttotal: 562ms\tremaining: 36.5ms\n",
      "939:\tlearn: 0.0141658\ttotal: 563ms\tremaining: 35.9ms\n",
      "940:\tlearn: 0.0141557\ttotal: 563ms\tremaining: 35.3ms\n",
      "941:\tlearn: 0.0141497\ttotal: 564ms\tremaining: 34.7ms\n",
      "942:\tlearn: 0.0141378\ttotal: 564ms\tremaining: 34.1ms\n",
      "943:\tlearn: 0.0141272\ttotal: 564ms\tremaining: 33.5ms\n",
      "944:\tlearn: 0.0141213\ttotal: 564ms\tremaining: 32.9ms\n",
      "945:\tlearn: 0.0141077\ttotal: 566ms\tremaining: 32.3ms\n",
      "946:\tlearn: 0.0141019\ttotal: 567ms\tremaining: 31.7ms\n",
      "947:\tlearn: 0.0140947\ttotal: 567ms\tremaining: 31.1ms\n",
      "948:\tlearn: 0.0140840\ttotal: 567ms\tremaining: 30.5ms\n",
      "949:\tlearn: 0.0140717\ttotal: 568ms\tremaining: 29.9ms\n",
      "950:\tlearn: 0.0140605\ttotal: 569ms\tremaining: 29.3ms\n",
      "951:\tlearn: 0.0140385\ttotal: 569ms\tremaining: 28.7ms\n",
      "952:\tlearn: 0.0140325\ttotal: 569ms\tremaining: 28.1ms\n",
      "953:\tlearn: 0.0140246\ttotal: 569ms\tremaining: 27.5ms\n",
      "954:\tlearn: 0.0140154\ttotal: 570ms\tremaining: 26.9ms\n",
      "955:\tlearn: 0.0139993\ttotal: 571ms\tremaining: 26.3ms\n",
      "956:\tlearn: 0.0139937\ttotal: 571ms\tremaining: 25.7ms\n",
      "957:\tlearn: 0.0139862\ttotal: 572ms\tremaining: 25.1ms\n",
      "958:\tlearn: 0.0139805\ttotal: 572ms\tremaining: 24.5ms\n",
      "959:\tlearn: 0.0139551\ttotal: 572ms\tremaining: 23.8ms\n",
      "960:\tlearn: 0.0139352\ttotal: 573ms\tremaining: 23.2ms\n",
      "961:\tlearn: 0.0139228\ttotal: 573ms\tremaining: 22.6ms\n",
      "962:\tlearn: 0.0139120\ttotal: 573ms\tremaining: 22ms\n",
      "963:\tlearn: 0.0139044\ttotal: 574ms\tremaining: 21.4ms\n",
      "964:\tlearn: 0.0138892\ttotal: 574ms\tremaining: 20.8ms\n",
      "965:\tlearn: 0.0138804\ttotal: 575ms\tremaining: 20.2ms\n",
      "966:\tlearn: 0.0138633\ttotal: 575ms\tremaining: 19.6ms\n",
      "967:\tlearn: 0.0138460\ttotal: 576ms\tremaining: 19ms\n",
      "968:\tlearn: 0.0138354\ttotal: 576ms\tremaining: 18.4ms\n",
      "969:\tlearn: 0.0138210\ttotal: 576ms\tremaining: 17.8ms\n",
      "970:\tlearn: 0.0138090\ttotal: 577ms\tremaining: 17.2ms\n",
      "971:\tlearn: 0.0138006\ttotal: 577ms\tremaining: 16.6ms\n",
      "972:\tlearn: 0.0137850\ttotal: 578ms\tremaining: 16ms\n",
      "973:\tlearn: 0.0137734\ttotal: 579ms\tremaining: 15.4ms\n",
      "974:\tlearn: 0.0137708\ttotal: 579ms\tremaining: 14.8ms\n",
      "975:\tlearn: 0.0137596\ttotal: 580ms\tremaining: 14.3ms\n",
      "976:\tlearn: 0.0137419\ttotal: 580ms\tremaining: 13.7ms\n",
      "977:\tlearn: 0.0137245\ttotal: 580ms\tremaining: 13.1ms\n",
      "978:\tlearn: 0.0137162\ttotal: 581ms\tremaining: 12.5ms\n",
      "979:\tlearn: 0.0137086\ttotal: 581ms\tremaining: 11.9ms\n",
      "980:\tlearn: 0.0136993\ttotal: 581ms\tremaining: 11.3ms\n",
      "981:\tlearn: 0.0136914\ttotal: 581ms\tremaining: 10.7ms\n",
      "982:\tlearn: 0.0136864\ttotal: 582ms\tremaining: 10.1ms\n",
      "983:\tlearn: 0.0136695\ttotal: 583ms\tremaining: 9.47ms\n",
      "984:\tlearn: 0.0136530\ttotal: 583ms\tremaining: 8.88ms\n",
      "985:\tlearn: 0.0136441\ttotal: 583ms\tremaining: 8.28ms\n",
      "986:\tlearn: 0.0136357\ttotal: 583ms\tremaining: 7.68ms\n",
      "987:\tlearn: 0.0136167\ttotal: 584ms\tremaining: 7.09ms\n",
      "988:\tlearn: 0.0136041\ttotal: 584ms\tremaining: 6.5ms\n",
      "989:\tlearn: 0.0135879\ttotal: 584ms\tremaining: 5.9ms\n",
      "990:\tlearn: 0.0135803\ttotal: 585ms\tremaining: 5.31ms\n",
      "991:\tlearn: 0.0135652\ttotal: 586ms\tremaining: 4.72ms\n",
      "992:\tlearn: 0.0135598\ttotal: 586ms\tremaining: 4.13ms\n",
      "993:\tlearn: 0.0135492\ttotal: 586ms\tremaining: 3.54ms\n",
      "994:\tlearn: 0.0135435\ttotal: 586ms\tremaining: 2.95ms\n",
      "995:\tlearn: 0.0135312\ttotal: 587ms\tremaining: 2.36ms\n",
      "996:\tlearn: 0.0135139\ttotal: 587ms\tremaining: 1.77ms\n",
      "997:\tlearn: 0.0135047\ttotal: 587ms\tremaining: 1.18ms\n",
      "998:\tlearn: 0.0134928\ttotal: 589ms\tremaining: 589us\n",
      "999:\tlearn: 0.0134686\ttotal: 589ms\tremaining: 0us\n",
      "Mean Absolute error 0.02391010123693848\n"
     ]
    },
    {
     "data": {
      "application/scrapbook.scrap.json+json": {
       "data": 0.02391010123693848,
       "encoder": "json",
       "name": "Catboost MAE",
       "version": 1
      }
     },
     "metadata": {
      "scrapbook": {
       "data": true,
       "display": false,
       "name": "Catboost MAE"
      }
     },
     "output_type": "display_data"
    },
    {
     "name": "stdout",
     "output_type": "stream",
     "text": [
      "Catboost MAE 0.02391010123693848\n"
     ]
    }
   ],
   "source": [
    "mae_cb = baselineModels.catboost(X_train,y_train,X_test,y_test)\n",
    "#Store MSE Value\n",
    "sb.glue(\"Catboost MAE\",mae_cb)\n",
    "print(\"Catboost MAE\",mae_cb)"
   ]
  },
  {
   "cell_type": "markdown",
   "id": "6b801aba",
   "metadata": {
    "papermill": {
     "duration": 0.008682,
     "end_time": "2022-07-24T10:50:37.206432",
     "exception": false,
     "start_time": "2022-07-24T10:50:37.197750",
     "status": "completed"
    },
    "tags": []
   },
   "source": [
    "# TabNet Regressor"
   ]
  },
  {
   "cell_type": "code",
   "execution_count": 7,
   "id": "e0893d65",
   "metadata": {
    "execution": {
     "iopub.execute_input": "2022-07-24T10:50:37.227487Z",
     "iopub.status.busy": "2022-07-24T10:50:37.227213Z",
     "iopub.status.idle": "2022-07-24T10:50:37.233212Z",
     "shell.execute_reply": "2022-07-24T10:50:37.232488Z"
    },
    "papermill": {
     "duration": 0.021524,
     "end_time": "2022-07-24T10:50:37.236468",
     "exception": false,
     "start_time": "2022-07-24T10:50:37.214944",
     "status": "completed"
    },
    "tags": []
   },
   "outputs": [],
   "source": [
    "n_epochs = 1000\n",
    "batch_size = 32"
   ]
  },
  {
   "cell_type": "code",
   "execution_count": 8,
   "id": "4fcf9879",
   "metadata": {
    "execution": {
     "iopub.execute_input": "2022-07-24T10:50:37.255466Z",
     "iopub.status.busy": "2022-07-24T10:50:37.255063Z",
     "iopub.status.idle": "2022-07-24T10:52:24.018991Z",
     "shell.execute_reply": "2022-07-24T10:52:24.018094Z"
    },
    "papermill": {
     "duration": 106.776506,
     "end_time": "2022-07-24T10:52:24.021344",
     "exception": false,
     "start_time": "2022-07-24T10:50:37.244838",
     "status": "completed"
    },
    "tags": []
   },
   "outputs": [
    {
     "name": "stdout",
     "output_type": "stream",
     "text": [
      "Device used : cpu\n"
     ]
    },
    {
     "name": "stdout",
     "output_type": "stream",
     "text": [
      "epoch 0  | loss: 0.81507 | train_mse: 0.44678 | train_mae: 0.53745 |  0:00:02s\n"
     ]
    },
    {
     "name": "stdout",
     "output_type": "stream",
     "text": [
      "epoch 1  | loss: 0.22533 | train_mse: 0.25089 | train_mae: 0.40542 |  0:00:02s\n"
     ]
    },
    {
     "name": "stdout",
     "output_type": "stream",
     "text": [
      "epoch 2  | loss: 0.2063  | train_mse: 0.1675  | train_mae: 0.31715 |  0:00:03s\n"
     ]
    },
    {
     "name": "stdout",
     "output_type": "stream",
     "text": [
      "epoch 3  | loss: 0.16638 | train_mse: 0.11335 | train_mae: 0.27333 |  0:00:04s\n"
     ]
    },
    {
     "name": "stdout",
     "output_type": "stream",
     "text": [
      "epoch 4  | loss: 0.13564 | train_mse: 0.11384 | train_mae: 0.26314 |  0:00:04s\n"
     ]
    },
    {
     "name": "stdout",
     "output_type": "stream",
     "text": [
      "epoch 5  | loss: 0.12138 | train_mse: 0.10771 | train_mae: 0.24997 |  0:00:05s\n"
     ]
    },
    {
     "name": "stdout",
     "output_type": "stream",
     "text": [
      "epoch 6  | loss: 0.13011 | train_mse: 0.10679 | train_mae: 0.24419 |  0:00:05s\n"
     ]
    },
    {
     "name": "stdout",
     "output_type": "stream",
     "text": [
      "epoch 7  | loss: 0.11722 | train_mse: 0.07095 | train_mae: 0.19922 |  0:00:06s\n"
     ]
    },
    {
     "name": "stdout",
     "output_type": "stream",
     "text": [
      "epoch 8  | loss: 0.10285 | train_mse: 0.071   | train_mae: 0.20276 |  0:00:07s\n"
     ]
    },
    {
     "name": "stdout",
     "output_type": "stream",
     "text": [
      "epoch 9  | loss: 0.09138 | train_mse: 0.06451 | train_mae: 0.18712 |  0:00:07s\n"
     ]
    },
    {
     "name": "stdout",
     "output_type": "stream",
     "text": [
      "epoch 10 | loss: 0.09265 | train_mse: 0.0596  | train_mae: 0.18752 |  0:00:08s\n"
     ]
    },
    {
     "name": "stdout",
     "output_type": "stream",
     "text": [
      "epoch 11 | loss: 0.09176 | train_mse: 0.05829 | train_mae: 0.18671 |  0:00:08s\n"
     ]
    },
    {
     "name": "stdout",
     "output_type": "stream",
     "text": [
      "epoch 12 | loss: 0.09956 | train_mse: 0.04911 | train_mae: 0.16094 |  0:00:09s\n"
     ]
    },
    {
     "name": "stdout",
     "output_type": "stream",
     "text": [
      "epoch 13 | loss: 0.10363 | train_mse: 0.05765 | train_mae: 0.17772 |  0:00:10s\n"
     ]
    },
    {
     "name": "stdout",
     "output_type": "stream",
     "text": [
      "epoch 14 | loss: 0.08565 | train_mse: 0.05196 | train_mae: 0.17    |  0:00:10s\n"
     ]
    },
    {
     "name": "stdout",
     "output_type": "stream",
     "text": [
      "epoch 15 | loss: 0.08056 | train_mse: 0.04336 | train_mae: 0.16206 |  0:00:11s\n"
     ]
    },
    {
     "name": "stdout",
     "output_type": "stream",
     "text": [
      "epoch 16 | loss: 0.08867 | train_mse: 0.03785 | train_mae: 0.14524 |  0:00:11s\n"
     ]
    },
    {
     "name": "stdout",
     "output_type": "stream",
     "text": [
      "epoch 17 | loss: 0.09035 | train_mse: 0.04226 | train_mae: 0.15606 |  0:00:12s\n"
     ]
    },
    {
     "name": "stdout",
     "output_type": "stream",
     "text": [
      "epoch 18 | loss: 0.08441 | train_mse: 0.03823 | train_mae: 0.14996 |  0:00:13s\n"
     ]
    },
    {
     "name": "stdout",
     "output_type": "stream",
     "text": [
      "epoch 19 | loss: 0.07344 | train_mse: 0.03743 | train_mae: 0.15398 |  0:00:13s\n"
     ]
    },
    {
     "name": "stdout",
     "output_type": "stream",
     "text": [
      "epoch 20 | loss: 0.07993 | train_mse: 0.04195 | train_mae: 0.15656 |  0:00:14s\n"
     ]
    },
    {
     "name": "stdout",
     "output_type": "stream",
     "text": [
      "epoch 21 | loss: 0.07143 | train_mse: 0.06649 | train_mae: 0.18612 |  0:00:14s\n"
     ]
    },
    {
     "name": "stdout",
     "output_type": "stream",
     "text": [
      "epoch 22 | loss: 0.07228 | train_mse: 0.02828 | train_mae: 0.13182 |  0:00:15s\n"
     ]
    },
    {
     "name": "stdout",
     "output_type": "stream",
     "text": [
      "epoch 23 | loss: 0.0564  | train_mse: 0.02624 | train_mae: 0.12532 |  0:00:16s\n"
     ]
    },
    {
     "name": "stdout",
     "output_type": "stream",
     "text": [
      "epoch 24 | loss: 0.04488 | train_mse: 0.04169 | train_mae: 0.14778 |  0:00:16s\n"
     ]
    },
    {
     "name": "stdout",
     "output_type": "stream",
     "text": [
      "epoch 25 | loss: 0.05336 | train_mse: 0.03634 | train_mae: 0.14253 |  0:00:17s\n"
     ]
    },
    {
     "name": "stdout",
     "output_type": "stream",
     "text": [
      "epoch 26 | loss: 0.06497 | train_mse: 0.025   | train_mae: 0.11849 |  0:00:18s\n"
     ]
    },
    {
     "name": "stdout",
     "output_type": "stream",
     "text": [
      "epoch 27 | loss: 0.04755 | train_mse: 0.02429 | train_mae: 0.11949 |  0:00:18s\n"
     ]
    },
    {
     "name": "stdout",
     "output_type": "stream",
     "text": [
      "epoch 28 | loss: 0.05513 | train_mse: 0.03221 | train_mae: 0.13105 |  0:00:19s\n"
     ]
    },
    {
     "name": "stdout",
     "output_type": "stream",
     "text": [
      "epoch 29 | loss: 0.06019 | train_mse: 0.03371 | train_mae: 0.14589 |  0:00:20s\n"
     ]
    },
    {
     "name": "stdout",
     "output_type": "stream",
     "text": [
      "epoch 30 | loss: 0.05918 | train_mse: 0.02535 | train_mae: 0.1321  |  0:00:20s\n"
     ]
    },
    {
     "name": "stdout",
     "output_type": "stream",
     "text": [
      "epoch 31 | loss: 0.05231 | train_mse: 0.03733 | train_mae: 0.14036 |  0:00:21s\n"
     ]
    },
    {
     "name": "stdout",
     "output_type": "stream",
     "text": [
      "epoch 32 | loss: 0.06991 | train_mse: 0.02338 | train_mae: 0.11222 |  0:00:21s\n"
     ]
    },
    {
     "name": "stdout",
     "output_type": "stream",
     "text": [
      "epoch 33 | loss: 0.08096 | train_mse: 0.02359 | train_mae: 0.11586 |  0:00:23s\n"
     ]
    },
    {
     "name": "stdout",
     "output_type": "stream",
     "text": [
      "epoch 34 | loss: 0.06117 | train_mse: 0.03614 | train_mae: 0.13754 |  0:00:23s\n"
     ]
    },
    {
     "name": "stdout",
     "output_type": "stream",
     "text": [
      "epoch 35 | loss: 0.08933 | train_mse: 0.0459  | train_mae: 0.15952 |  0:00:24s\n"
     ]
    },
    {
     "name": "stdout",
     "output_type": "stream",
     "text": [
      "epoch 36 | loss: 0.06467 | train_mse: 0.04202 | train_mae: 0.15246 |  0:00:25s\n"
     ]
    },
    {
     "name": "stdout",
     "output_type": "stream",
     "text": [
      "epoch 37 | loss: 0.07324 | train_mse: 0.02951 | train_mae: 0.12712 |  0:00:26s\n"
     ]
    },
    {
     "name": "stdout",
     "output_type": "stream",
     "text": [
      "epoch 38 | loss: 0.07231 | train_mse: 0.03819 | train_mae: 0.14609 |  0:00:26s\n"
     ]
    },
    {
     "name": "stdout",
     "output_type": "stream",
     "text": [
      "epoch 39 | loss: 0.04618 | train_mse: 0.0305  | train_mae: 0.12953 |  0:00:27s\n"
     ]
    },
    {
     "name": "stdout",
     "output_type": "stream",
     "text": [
      "epoch 40 | loss: 0.05197 | train_mse: 0.02278 | train_mae: 0.11718 |  0:00:28s\n"
     ]
    },
    {
     "name": "stdout",
     "output_type": "stream",
     "text": [
      "epoch 41 | loss: 0.0595  | train_mse: 0.01886 | train_mae: 0.10995 |  0:00:29s\n"
     ]
    },
    {
     "name": "stdout",
     "output_type": "stream",
     "text": [
      "epoch 42 | loss: 0.05001 | train_mse: 0.06483 | train_mae: 0.18089 |  0:00:30s\n"
     ]
    },
    {
     "name": "stdout",
     "output_type": "stream",
     "text": [
      "epoch 43 | loss: 0.06419 | train_mse: 0.03024 | train_mae: 0.13996 |  0:00:31s\n"
     ]
    },
    {
     "name": "stdout",
     "output_type": "stream",
     "text": [
      "epoch 44 | loss: 0.06668 | train_mse: 0.04309 | train_mae: 0.15487 |  0:00:32s\n"
     ]
    },
    {
     "name": "stdout",
     "output_type": "stream",
     "text": [
      "epoch 45 | loss: 0.05406 | train_mse: 0.02633 | train_mae: 0.12881 |  0:00:32s\n"
     ]
    },
    {
     "name": "stdout",
     "output_type": "stream",
     "text": [
      "epoch 46 | loss: 0.06748 | train_mse: 0.0306  | train_mae: 0.13708 |  0:00:33s\n"
     ]
    },
    {
     "name": "stdout",
     "output_type": "stream",
     "text": [
      "epoch 47 | loss: 0.05333 | train_mse: 0.0361  | train_mae: 0.14876 |  0:00:33s\n"
     ]
    },
    {
     "name": "stdout",
     "output_type": "stream",
     "text": [
      "epoch 48 | loss: 0.03791 | train_mse: 0.02547 | train_mae: 0.11457 |  0:00:34s\n"
     ]
    },
    {
     "name": "stdout",
     "output_type": "stream",
     "text": [
      "epoch 49 | loss: 0.03917 | train_mse: 0.0166  | train_mae: 0.09558 |  0:00:35s\n"
     ]
    },
    {
     "name": "stdout",
     "output_type": "stream",
     "text": [
      "epoch 50 | loss: 0.05051 | train_mse: 0.0186  | train_mae: 0.10234 |  0:00:35s\n"
     ]
    },
    {
     "name": "stdout",
     "output_type": "stream",
     "text": [
      "epoch 51 | loss: 0.04165 | train_mse: 0.02152 | train_mae: 0.1179  |  0:00:36s\n"
     ]
    },
    {
     "name": "stdout",
     "output_type": "stream",
     "text": [
      "epoch 52 | loss: 0.04412 | train_mse: 0.01603 | train_mae: 0.0936  |  0:00:36s\n"
     ]
    },
    {
     "name": "stdout",
     "output_type": "stream",
     "text": [
      "epoch 53 | loss: 0.04651 | train_mse: 0.01847 | train_mae: 0.10213 |  0:00:37s\n"
     ]
    },
    {
     "name": "stdout",
     "output_type": "stream",
     "text": [
      "epoch 54 | loss: 0.04859 | train_mse: 0.03123 | train_mae: 0.13868 |  0:00:38s\n"
     ]
    },
    {
     "name": "stdout",
     "output_type": "stream",
     "text": [
      "epoch 55 | loss: 0.05615 | train_mse: 0.02677 | train_mae: 0.12819 |  0:00:38s\n"
     ]
    },
    {
     "name": "stdout",
     "output_type": "stream",
     "text": [
      "epoch 56 | loss: 0.03835 | train_mse: 0.03252 | train_mae: 0.1444  |  0:00:39s\n"
     ]
    },
    {
     "name": "stdout",
     "output_type": "stream",
     "text": [
      "epoch 57 | loss: 0.03428 | train_mse: 0.0177  | train_mae: 0.09771 |  0:00:39s\n"
     ]
    },
    {
     "name": "stdout",
     "output_type": "stream",
     "text": [
      "epoch 58 | loss: 0.03682 | train_mse: 0.0196  | train_mae: 0.10022 |  0:00:40s\n"
     ]
    },
    {
     "name": "stdout",
     "output_type": "stream",
     "text": [
      "epoch 59 | loss: 0.04485 | train_mse: 0.01787 | train_mae: 0.09431 |  0:00:41s\n"
     ]
    },
    {
     "name": "stdout",
     "output_type": "stream",
     "text": [
      "epoch 60 | loss: 0.04541 | train_mse: 0.03147 | train_mae: 0.11515 |  0:00:41s\n"
     ]
    },
    {
     "name": "stdout",
     "output_type": "stream",
     "text": [
      "epoch 61 | loss: 0.03533 | train_mse: 0.01901 | train_mae: 0.10567 |  0:00:42s\n"
     ]
    },
    {
     "name": "stdout",
     "output_type": "stream",
     "text": [
      "epoch 62 | loss: 0.03679 | train_mse: 0.01609 | train_mae: 0.09063 |  0:00:43s\n"
     ]
    },
    {
     "name": "stdout",
     "output_type": "stream",
     "text": [
      "epoch 63 | loss: 0.03692 | train_mse: 0.01429 | train_mae: 0.09509 |  0:00:43s\n"
     ]
    },
    {
     "name": "stdout",
     "output_type": "stream",
     "text": [
      "epoch 64 | loss: 0.05597 | train_mse: 0.03007 | train_mae: 0.11929 |  0:00:44s\n"
     ]
    },
    {
     "name": "stdout",
     "output_type": "stream",
     "text": [
      "epoch 65 | loss: 0.06362 | train_mse: 0.01872 | train_mae: 0.0989  |  0:00:45s\n"
     ]
    },
    {
     "name": "stdout",
     "output_type": "stream",
     "text": [
      "epoch 66 | loss: 0.03656 | train_mse: 0.01414 | train_mae: 0.08982 |  0:00:45s\n"
     ]
    },
    {
     "name": "stdout",
     "output_type": "stream",
     "text": [
      "epoch 67 | loss: 0.05317 | train_mse: 0.01435 | train_mae: 0.08938 |  0:00:46s\n"
     ]
    },
    {
     "name": "stdout",
     "output_type": "stream",
     "text": [
      "epoch 68 | loss: 0.04029 | train_mse: 0.01216 | train_mae: 0.07697 |  0:00:46s\n"
     ]
    },
    {
     "name": "stdout",
     "output_type": "stream",
     "text": [
      "epoch 69 | loss: 0.04085 | train_mse: 0.02134 | train_mae: 0.10346 |  0:00:47s\n"
     ]
    },
    {
     "name": "stdout",
     "output_type": "stream",
     "text": [
      "epoch 70 | loss: 0.0427  | train_mse: 0.02732 | train_mae: 0.11197 |  0:00:48s\n"
     ]
    },
    {
     "name": "stdout",
     "output_type": "stream",
     "text": [
      "epoch 71 | loss: 0.06046 | train_mse: 0.04192 | train_mae: 0.13192 |  0:00:48s\n"
     ]
    },
    {
     "name": "stdout",
     "output_type": "stream",
     "text": [
      "epoch 72 | loss: 0.06249 | train_mse: 0.08237 | train_mae: 0.16126 |  0:00:49s\n"
     ]
    },
    {
     "name": "stdout",
     "output_type": "stream",
     "text": [
      "epoch 73 | loss: 0.03546 | train_mse: 0.03085 | train_mae: 0.11629 |  0:00:49s\n"
     ]
    },
    {
     "name": "stdout",
     "output_type": "stream",
     "text": [
      "epoch 74 | loss: 0.04681 | train_mse: 0.01995 | train_mae: 0.10738 |  0:00:50s\n"
     ]
    },
    {
     "name": "stdout",
     "output_type": "stream",
     "text": [
      "epoch 75 | loss: 0.04224 | train_mse: 0.02949 | train_mae: 0.12071 |  0:00:51s\n"
     ]
    },
    {
     "name": "stdout",
     "output_type": "stream",
     "text": [
      "epoch 76 | loss: 0.03616 | train_mse: 0.01683 | train_mae: 0.10506 |  0:00:51s\n"
     ]
    },
    {
     "name": "stdout",
     "output_type": "stream",
     "text": [
      "epoch 77 | loss: 0.0375  | train_mse: 0.01242 | train_mae: 0.088   |  0:00:52s\n"
     ]
    },
    {
     "name": "stdout",
     "output_type": "stream",
     "text": [
      "epoch 78 | loss: 0.03186 | train_mse: 0.01574 | train_mae: 0.09798 |  0:00:52s\n"
     ]
    },
    {
     "name": "stdout",
     "output_type": "stream",
     "text": [
      "epoch 79 | loss: 0.04342 | train_mse: 0.02775 | train_mae: 0.12842 |  0:00:53s\n"
     ]
    },
    {
     "name": "stdout",
     "output_type": "stream",
     "text": [
      "epoch 80 | loss: 0.03935 | train_mse: 0.01723 | train_mae: 0.09921 |  0:00:54s\n"
     ]
    },
    {
     "name": "stdout",
     "output_type": "stream",
     "text": [
      "epoch 81 | loss: 0.04334 | train_mse: 0.02164 | train_mae: 0.10963 |  0:00:54s\n"
     ]
    },
    {
     "name": "stdout",
     "output_type": "stream",
     "text": [
      "epoch 82 | loss: 0.04609 | train_mse: 0.01823 | train_mae: 0.10723 |  0:00:55s\n"
     ]
    },
    {
     "name": "stdout",
     "output_type": "stream",
     "text": [
      "epoch 83 | loss: 0.03503 | train_mse: 0.01294 | train_mae: 0.08329 |  0:00:55s\n"
     ]
    },
    {
     "name": "stdout",
     "output_type": "stream",
     "text": [
      "epoch 84 | loss: 0.03428 | train_mse: 0.01524 | train_mae: 0.09022 |  0:00:56s\n"
     ]
    },
    {
     "name": "stdout",
     "output_type": "stream",
     "text": [
      "epoch 85 | loss: 0.04265 | train_mse: 0.0158  | train_mae: 0.09761 |  0:00:57s\n"
     ]
    },
    {
     "name": "stdout",
     "output_type": "stream",
     "text": [
      "epoch 86 | loss: 0.03404 | train_mse: 0.01298 | train_mae: 0.08405 |  0:00:57s\n"
     ]
    },
    {
     "name": "stdout",
     "output_type": "stream",
     "text": [
      "epoch 87 | loss: 0.0296  | train_mse: 0.00975 | train_mae: 0.07658 |  0:00:58s\n"
     ]
    },
    {
     "name": "stdout",
     "output_type": "stream",
     "text": [
      "epoch 88 | loss: 0.02856 | train_mse: 0.01074 | train_mae: 0.07251 |  0:00:59s\n"
     ]
    },
    {
     "name": "stdout",
     "output_type": "stream",
     "text": [
      "epoch 89 | loss: 0.03947 | train_mse: 0.01054 | train_mae: 0.07603 |  0:00:59s\n"
     ]
    },
    {
     "name": "stdout",
     "output_type": "stream",
     "text": [
      "epoch 90 | loss: 0.04196 | train_mse: 0.01822 | train_mae: 0.10111 |  0:01:00s\n"
     ]
    },
    {
     "name": "stdout",
     "output_type": "stream",
     "text": [
      "epoch 91 | loss: 0.03286 | train_mse: 0.00951 | train_mae: 0.06939 |  0:01:00s\n"
     ]
    },
    {
     "name": "stdout",
     "output_type": "stream",
     "text": [
      "epoch 92 | loss: 0.03948 | train_mse: 0.01275 | train_mae: 0.08294 |  0:01:01s\n"
     ]
    },
    {
     "name": "stdout",
     "output_type": "stream",
     "text": [
      "epoch 93 | loss: 0.02985 | train_mse: 0.0114  | train_mae: 0.08212 |  0:01:02s\n"
     ]
    },
    {
     "name": "stdout",
     "output_type": "stream",
     "text": [
      "epoch 94 | loss: 0.02845 | train_mse: 0.01239 | train_mae: 0.0822  |  0:01:03s\n"
     ]
    },
    {
     "name": "stdout",
     "output_type": "stream",
     "text": [
      "epoch 95 | loss: 0.02998 | train_mse: 0.01734 | train_mae: 0.10229 |  0:01:04s\n"
     ]
    },
    {
     "name": "stdout",
     "output_type": "stream",
     "text": [
      "epoch 96 | loss: 0.03056 | train_mse: 0.0099  | train_mae: 0.06887 |  0:01:04s\n"
     ]
    },
    {
     "name": "stdout",
     "output_type": "stream",
     "text": [
      "epoch 97 | loss: 0.03457 | train_mse: 0.00804 | train_mae: 0.06463 |  0:01:05s\n"
     ]
    },
    {
     "name": "stdout",
     "output_type": "stream",
     "text": [
      "epoch 98 | loss: 0.02655 | train_mse: 0.01194 | train_mae: 0.07816 |  0:01:05s\n"
     ]
    },
    {
     "name": "stdout",
     "output_type": "stream",
     "text": [
      "epoch 99 | loss: 0.03442 | train_mse: 0.01586 | train_mae: 0.09195 |  0:01:06s\n"
     ]
    },
    {
     "name": "stdout",
     "output_type": "stream",
     "text": [
      "epoch 100| loss: 0.02955 | train_mse: 0.01612 | train_mae: 0.09136 |  0:01:07s\n"
     ]
    },
    {
     "name": "stdout",
     "output_type": "stream",
     "text": [
      "epoch 101| loss: 0.03066 | train_mse: 0.00885 | train_mae: 0.06935 |  0:01:07s\n"
     ]
    },
    {
     "name": "stdout",
     "output_type": "stream",
     "text": [
      "epoch 102| loss: 0.03115 | train_mse: 0.02181 | train_mae: 0.0955  |  0:01:08s\n"
     ]
    },
    {
     "name": "stdout",
     "output_type": "stream",
     "text": [
      "epoch 103| loss: 0.03255 | train_mse: 0.01393 | train_mae: 0.08668 |  0:01:09s\n"
     ]
    },
    {
     "name": "stdout",
     "output_type": "stream",
     "text": [
      "epoch 104| loss: 0.03109 | train_mse: 0.01584 | train_mae: 0.08998 |  0:01:09s\n"
     ]
    },
    {
     "name": "stdout",
     "output_type": "stream",
     "text": [
      "epoch 105| loss: 0.03425 | train_mse: 0.01048 | train_mae: 0.06783 |  0:01:10s\n"
     ]
    },
    {
     "name": "stdout",
     "output_type": "stream",
     "text": [
      "epoch 106| loss: 0.02876 | train_mse: 0.01707 | train_mae: 0.10447 |  0:01:11s\n"
     ]
    },
    {
     "name": "stdout",
     "output_type": "stream",
     "text": [
      "epoch 107| loss: 0.02828 | train_mse: 0.02523 | train_mae: 0.10496 |  0:01:11s\n"
     ]
    },
    {
     "name": "stdout",
     "output_type": "stream",
     "text": [
      "epoch 108| loss: 0.03112 | train_mse: 0.01097 | train_mae: 0.07302 |  0:01:12s\n"
     ]
    },
    {
     "name": "stdout",
     "output_type": "stream",
     "text": [
      "epoch 109| loss: 0.03942 | train_mse: 0.02285 | train_mae: 0.11564 |  0:01:12s\n"
     ]
    },
    {
     "name": "stdout",
     "output_type": "stream",
     "text": [
      "epoch 110| loss: 0.03343 | train_mse: 0.02378 | train_mae: 0.12373 |  0:01:13s\n"
     ]
    },
    {
     "name": "stdout",
     "output_type": "stream",
     "text": [
      "epoch 111| loss: 0.04209 | train_mse: 0.02029 | train_mae: 0.11154 |  0:01:13s\n"
     ]
    },
    {
     "name": "stdout",
     "output_type": "stream",
     "text": [
      "epoch 112| loss: 0.0343  | train_mse: 0.02085 | train_mae: 0.10779 |  0:01:14s\n"
     ]
    },
    {
     "name": "stdout",
     "output_type": "stream",
     "text": [
      "epoch 113| loss: 0.03153 | train_mse: 0.01337 | train_mae: 0.08457 |  0:01:14s\n"
     ]
    },
    {
     "name": "stdout",
     "output_type": "stream",
     "text": [
      "epoch 114| loss: 0.02944 | train_mse: 0.01069 | train_mae: 0.08135 |  0:01:14s\n"
     ]
    },
    {
     "name": "stdout",
     "output_type": "stream",
     "text": [
      "epoch 115| loss: 0.03092 | train_mse: 0.03104 | train_mae: 0.12316 |  0:01:15s\n"
     ]
    },
    {
     "name": "stdout",
     "output_type": "stream",
     "text": [
      "epoch 116| loss: 0.03231 | train_mse: 0.01409 | train_mae: 0.08222 |  0:01:15s\n"
     ]
    },
    {
     "name": "stdout",
     "output_type": "stream",
     "text": [
      "epoch 117| loss: 0.02839 | train_mse: 0.01034 | train_mae: 0.06999 |  0:01:16s\n"
     ]
    },
    {
     "name": "stdout",
     "output_type": "stream",
     "text": [
      "epoch 118| loss: 0.02906 | train_mse: 0.00957 | train_mae: 0.06949 |  0:01:16s\n"
     ]
    },
    {
     "name": "stdout",
     "output_type": "stream",
     "text": [
      "epoch 119| loss: 0.03327 | train_mse: 0.0078  | train_mae: 0.06586 |  0:01:17s\n"
     ]
    },
    {
     "name": "stdout",
     "output_type": "stream",
     "text": [
      "epoch 120| loss: 0.04429 | train_mse: 0.01126 | train_mae: 0.07455 |  0:01:17s\n"
     ]
    },
    {
     "name": "stdout",
     "output_type": "stream",
     "text": [
      "epoch 121| loss: 0.02843 | train_mse: 0.00776 | train_mae: 0.0629  |  0:01:18s\n"
     ]
    },
    {
     "name": "stdout",
     "output_type": "stream",
     "text": [
      "epoch 122| loss: 0.0291  | train_mse: 0.00949 | train_mae: 0.07288 |  0:01:18s\n"
     ]
    },
    {
     "name": "stdout",
     "output_type": "stream",
     "text": [
      "epoch 123| loss: 0.02899 | train_mse: 0.01311 | train_mae: 0.07842 |  0:01:19s\n"
     ]
    },
    {
     "name": "stdout",
     "output_type": "stream",
     "text": [
      "epoch 124| loss: 0.03441 | train_mse: 0.01301 | train_mae: 0.0793  |  0:01:19s\n"
     ]
    },
    {
     "name": "stdout",
     "output_type": "stream",
     "text": [
      "epoch 125| loss: 0.0281  | train_mse: 0.01095 | train_mae: 0.07106 |  0:01:20s\n"
     ]
    },
    {
     "name": "stdout",
     "output_type": "stream",
     "text": [
      "epoch 126| loss: 0.02577 | train_mse: 0.01175 | train_mae: 0.07667 |  0:01:20s\n"
     ]
    },
    {
     "name": "stdout",
     "output_type": "stream",
     "text": [
      "epoch 127| loss: 0.02356 | train_mse: 0.01074 | train_mae: 0.07746 |  0:01:21s\n"
     ]
    },
    {
     "name": "stdout",
     "output_type": "stream",
     "text": [
      "epoch 128| loss: 0.02136 | train_mse: 0.01502 | train_mae: 0.07964 |  0:01:21s\n"
     ]
    },
    {
     "name": "stdout",
     "output_type": "stream",
     "text": [
      "epoch 129| loss: 0.02751 | train_mse: 0.0125  | train_mae: 0.07859 |  0:01:21s\n"
     ]
    },
    {
     "name": "stdout",
     "output_type": "stream",
     "text": [
      "epoch 130| loss: 0.01781 | train_mse: 0.0079  | train_mae: 0.06472 |  0:01:22s\n"
     ]
    },
    {
     "name": "stdout",
     "output_type": "stream",
     "text": [
      "epoch 131| loss: 0.02791 | train_mse: 0.01233 | train_mae: 0.08621 |  0:01:22s\n"
     ]
    },
    {
     "name": "stdout",
     "output_type": "stream",
     "text": [
      "epoch 132| loss: 0.01843 | train_mse: 0.00493 | train_mae: 0.05073 |  0:01:23s\n"
     ]
    },
    {
     "name": "stdout",
     "output_type": "stream",
     "text": [
      "epoch 133| loss: 0.01979 | train_mse: 0.00546 | train_mae: 0.05519 |  0:01:23s\n"
     ]
    },
    {
     "name": "stdout",
     "output_type": "stream",
     "text": [
      "epoch 134| loss: 0.01661 | train_mse: 0.00677 | train_mae: 0.06534 |  0:01:24s\n"
     ]
    },
    {
     "name": "stdout",
     "output_type": "stream",
     "text": [
      "epoch 135| loss: 0.02953 | train_mse: 0.00839 | train_mae: 0.06582 |  0:01:24s\n"
     ]
    },
    {
     "name": "stdout",
     "output_type": "stream",
     "text": [
      "epoch 136| loss: 0.03563 | train_mse: 0.00683 | train_mae: 0.05744 |  0:01:25s\n"
     ]
    },
    {
     "name": "stdout",
     "output_type": "stream",
     "text": [
      "epoch 137| loss: 0.02539 | train_mse: 0.0127  | train_mae: 0.0734  |  0:01:25s\n"
     ]
    },
    {
     "name": "stdout",
     "output_type": "stream",
     "text": [
      "epoch 138| loss: 0.0258  | train_mse: 0.0115  | train_mae: 0.07445 |  0:01:26s\n"
     ]
    },
    {
     "name": "stdout",
     "output_type": "stream",
     "text": [
      "epoch 139| loss: 0.03428 | train_mse: 0.02038 | train_mae: 0.10043 |  0:01:26s\n"
     ]
    },
    {
     "name": "stdout",
     "output_type": "stream",
     "text": [
      "epoch 140| loss: 0.03152 | train_mse: 0.01301 | train_mae: 0.07695 |  0:01:27s\n"
     ]
    },
    {
     "name": "stdout",
     "output_type": "stream",
     "text": [
      "epoch 141| loss: 0.03698 | train_mse: 0.03105 | train_mae: 0.11745 |  0:01:27s\n"
     ]
    },
    {
     "name": "stdout",
     "output_type": "stream",
     "text": [
      "epoch 142| loss: 0.0414  | train_mse: 0.02376 | train_mae: 0.11733 |  0:01:28s\n"
     ]
    },
    {
     "name": "stdout",
     "output_type": "stream",
     "text": [
      "epoch 143| loss: 0.0434  | train_mse: 0.01488 | train_mae: 0.08873 |  0:01:28s\n"
     ]
    },
    {
     "name": "stdout",
     "output_type": "stream",
     "text": [
      "epoch 144| loss: 0.05732 | train_mse: 0.01524 | train_mae: 0.091   |  0:01:28s\n"
     ]
    },
    {
     "name": "stdout",
     "output_type": "stream",
     "text": [
      "epoch 145| loss: 0.03398 | train_mse: 0.0136  | train_mae: 0.08889 |  0:01:29s\n"
     ]
    },
    {
     "name": "stdout",
     "output_type": "stream",
     "text": [
      "epoch 146| loss: 0.03786 | train_mse: 0.01505 | train_mae: 0.09159 |  0:01:29s\n"
     ]
    },
    {
     "name": "stdout",
     "output_type": "stream",
     "text": [
      "epoch 147| loss: 0.03115 | train_mse: 0.0191  | train_mae: 0.09839 |  0:01:30s\n"
     ]
    },
    {
     "name": "stdout",
     "output_type": "stream",
     "text": [
      "epoch 148| loss: 0.03318 | train_mse: 0.01022 | train_mae: 0.07121 |  0:01:30s\n"
     ]
    },
    {
     "name": "stdout",
     "output_type": "stream",
     "text": [
      "epoch 149| loss: 0.03616 | train_mse: 0.01855 | train_mae: 0.0935  |  0:01:31s\n"
     ]
    },
    {
     "name": "stdout",
     "output_type": "stream",
     "text": [
      "epoch 150| loss: 0.03405 | train_mse: 0.01749 | train_mae: 0.09156 |  0:01:31s\n"
     ]
    },
    {
     "name": "stdout",
     "output_type": "stream",
     "text": [
      "epoch 151| loss: 0.04336 | train_mse: 0.04058 | train_mae: 0.11343 |  0:01:32s\n"
     ]
    },
    {
     "name": "stdout",
     "output_type": "stream",
     "text": [
      "epoch 152| loss: 0.04224 | train_mse: 0.01614 | train_mae: 0.08308 |  0:01:32s\n"
     ]
    },
    {
     "name": "stdout",
     "output_type": "stream",
     "text": [
      "epoch 153| loss: 0.02845 | train_mse: 0.01402 | train_mae: 0.08003 |  0:01:33s\n"
     ]
    },
    {
     "name": "stdout",
     "output_type": "stream",
     "text": [
      "epoch 154| loss: 0.02805 | train_mse: 0.00937 | train_mae: 0.06937 |  0:01:33s\n"
     ]
    },
    {
     "name": "stdout",
     "output_type": "stream",
     "text": [
      "epoch 155| loss: 0.03678 | train_mse: 0.01966 | train_mae: 0.09568 |  0:01:33s\n"
     ]
    },
    {
     "name": "stdout",
     "output_type": "stream",
     "text": [
      "epoch 156| loss: 0.03324 | train_mse: 0.00721 | train_mae: 0.06074 |  0:01:34s\n"
     ]
    },
    {
     "name": "stdout",
     "output_type": "stream",
     "text": [
      "epoch 157| loss: 0.03708 | train_mse: 0.01872 | train_mae: 0.10031 |  0:01:34s\n"
     ]
    },
    {
     "name": "stdout",
     "output_type": "stream",
     "text": [
      "epoch 158| loss: 0.02457 | train_mse: 0.0084  | train_mae: 0.07067 |  0:01:35s\n"
     ]
    },
    {
     "name": "stdout",
     "output_type": "stream",
     "text": [
      "epoch 159| loss: 0.02405 | train_mse: 0.00794 | train_mae: 0.06447 |  0:01:35s\n"
     ]
    },
    {
     "name": "stdout",
     "output_type": "stream",
     "text": [
      "epoch 160| loss: 0.02385 | train_mse: 0.00912 | train_mae: 0.06634 |  0:01:36s\n"
     ]
    },
    {
     "name": "stdout",
     "output_type": "stream",
     "text": [
      "epoch 161| loss: 0.01612 | train_mse: 0.00746 | train_mae: 0.0643  |  0:01:36s\n"
     ]
    },
    {
     "name": "stdout",
     "output_type": "stream",
     "text": [
      "epoch 162| loss: 0.02206 | train_mse: 0.00704 | train_mae: 0.06026 |  0:01:37s\n"
     ]
    },
    {
     "name": "stdout",
     "output_type": "stream",
     "text": [
      "epoch 163| loss: 0.04054 | train_mse: 0.03624 | train_mae: 0.13057 |  0:01:37s\n"
     ]
    },
    {
     "name": "stdout",
     "output_type": "stream",
     "text": [
      "epoch 164| loss: 0.05211 | train_mse: 0.01734 | train_mae: 0.0916  |  0:01:38s\n"
     ]
    },
    {
     "name": "stdout",
     "output_type": "stream",
     "text": [
      "epoch 165| loss: 0.02974 | train_mse: 0.0107  | train_mae: 0.07751 |  0:01:38s\n"
     ]
    },
    {
     "name": "stdout",
     "output_type": "stream",
     "text": [
      "epoch 166| loss: 0.02943 | train_mse: 0.00793 | train_mae: 0.06167 |  0:01:38s\n"
     ]
    },
    {
     "name": "stdout",
     "output_type": "stream",
     "text": [
      "epoch 167| loss: 0.03169 | train_mse: 0.0097  | train_mae: 0.07    |  0:01:39s\n"
     ]
    },
    {
     "name": "stdout",
     "output_type": "stream",
     "text": [
      "epoch 168| loss: 0.03364 | train_mse: 0.00861 | train_mae: 0.07256 |  0:01:39s\n"
     ]
    },
    {
     "name": "stdout",
     "output_type": "stream",
     "text": [
      "epoch 169| loss: 0.02775 | train_mse: 0.00912 | train_mae: 0.07042 |  0:01:40s\n"
     ]
    },
    {
     "name": "stdout",
     "output_type": "stream",
     "text": [
      "epoch 170| loss: 0.02577 | train_mse: 0.00837 | train_mae: 0.06495 |  0:01:40s\n"
     ]
    },
    {
     "name": "stdout",
     "output_type": "stream",
     "text": [
      "epoch 171| loss: 0.02524 | train_mse: 0.00812 | train_mae: 0.06633 |  0:01:41s\n"
     ]
    },
    {
     "name": "stdout",
     "output_type": "stream",
     "text": [
      "epoch 172| loss: 0.02455 | train_mse: 0.01234 | train_mae: 0.07532 |  0:01:41s\n"
     ]
    },
    {
     "name": "stdout",
     "output_type": "stream",
     "text": [
      "epoch 173| loss: 0.02652 | train_mse: 0.01758 | train_mae: 0.11722 |  0:01:42s\n"
     ]
    },
    {
     "name": "stdout",
     "output_type": "stream",
     "text": [
      "epoch 174| loss: 0.02396 | train_mse: 0.01265 | train_mae: 0.0838  |  0:01:42s\n"
     ]
    },
    {
     "name": "stdout",
     "output_type": "stream",
     "text": [
      "epoch 175| loss: 0.03181 | train_mse: 0.00805 | train_mae: 0.05915 |  0:01:43s\n"
     ]
    },
    {
     "name": "stdout",
     "output_type": "stream",
     "text": [
      "epoch 176| loss: 0.02825 | train_mse: 0.00725 | train_mae: 0.0589  |  0:01:43s\n"
     ]
    },
    {
     "name": "stdout",
     "output_type": "stream",
     "text": [
      "epoch 177| loss: 0.03882 | train_mse: 0.00821 | train_mae: 0.06724 |  0:01:44s\n"
     ]
    },
    {
     "name": "stdout",
     "output_type": "stream",
     "text": [
      "epoch 178| loss: 0.02919 | train_mse: 0.03178 | train_mae: 0.1126  |  0:01:44s\n"
     ]
    },
    {
     "name": "stdout",
     "output_type": "stream",
     "text": [
      "epoch 179| loss: 0.02936 | train_mse: 0.01839 | train_mae: 0.08976 |  0:01:45s\n"
     ]
    },
    {
     "name": "stdout",
     "output_type": "stream",
     "text": [
      "epoch 180| loss: 0.03162 | train_mse: 0.01081 | train_mae: 0.07215 |  0:01:45s\n"
     ]
    },
    {
     "name": "stdout",
     "output_type": "stream",
     "text": [
      "epoch 181| loss: 0.02573 | train_mse: 0.01291 | train_mae: 0.0802  |  0:01:45s\n"
     ]
    },
    {
     "name": "stdout",
     "output_type": "stream",
     "text": [
      "epoch 182| loss: 0.02688 | train_mse: 0.00839 | train_mae: 0.06451 |  0:01:46s\n",
      "\n",
      "Early stopping occurred at epoch 182 with best_epoch = 132 and best_train_mae = 0.05073\n",
      "Best weights from best epoch are automatically used!\n",
      "BEST VALID SCORE FOR dataset : 0.050727329047329545\n",
      "FINAL TEST SCORE FOR dataset: 0.05436785171892624\n",
      "{'loss': [0.8150690444517599, 0.2253304601492245, 0.20630478062924812, 0.16638148122191038, 0.13564224880953177, 0.12137962610791483, 0.1301119150866903, 0.11722315600329967, 0.1028477854856839, 0.09137729674286485, 0.09265305126140483, 0.09176002845702032, 0.09955802045349967, 0.10363253223002927, 0.08565276230197, 0.08055987230923743, 0.08866696501399485, 0.09035476003485317, 0.0844065137571543, 0.07344095583653217, 0.07993246479026658, 0.07142513494101331, 0.0722834698928684, 0.056401928868569456, 0.04488402152440059, 0.05335536356469319, 0.06496542930020571, 0.047554384364901225, 0.055126884715564865, 0.06018916772320527, 0.05917617270923205, 0.05230813022059804, 0.06990685886688264, 0.08095932366017021, 0.061172235332405143, 0.08932829711355682, 0.06467385488146679, 0.07323817001103579, 0.07231149041011978, 0.046180100413797734, 0.051965180650984426, 0.059504425680986836, 0.050008964970562286, 0.0641901889263807, 0.06668495573710151, 0.05406437877335067, 0.06748181367930062, 0.053325789953287725, 0.03791245619132387, 0.039169684440771214, 0.050512737907008165, 0.04164832495516985, 0.044120846771261976, 0.04650883250399599, 0.04858804042739279, 0.05615120873777408, 0.03834883405156555, 0.034284526075718844, 0.03682475490950606, 0.044847603147115306, 0.04540923868794395, 0.035332312510145604, 0.0367870510401089, 0.03691659780395148, 0.05597290891777809, 0.06362035235917918, 0.03655973199378783, 0.05317269687932167, 0.04028669754437592, 0.040854085952723065, 0.04269506114896035, 0.06045579720980181, 0.06248860541694716, 0.03545546866589338, 0.046806548822197924, 0.042243652409761655, 0.03616449635488008, 0.03750399599634475, 0.031863449062508944, 0.043423715117311634, 0.039349251114293105, 0.04333506660469192, 0.04609203663827543, 0.03502534897785621, 0.03427859240420866, 0.042647138092339235, 0.03403875903993943, 0.029604320126170057, 0.02856493527706749, 0.03947046743736205, 0.041964934319743116, 0.03285688681206408, 0.039477280374458634, 0.029845803442141133, 0.028454319407089524, 0.029979197520774815, 0.030563434871089576, 0.03456645805983279, 0.02655235187723893, 0.03441978838136996, 0.029552181582012085, 0.030664074304437794, 0.031152699810091757, 0.03254673234414588, 0.03109189290371314, 0.03424949168018293, 0.028757647541427456, 0.028284831858370513, 0.03112315206943195, 0.03941688655059578, 0.03343059700164422, 0.04209205784898627, 0.03430138506504921, 0.03153103080362761, 0.029435267350378564, 0.030918459065185696, 0.03231443849419538, 0.028387915355180683, 0.029060781317541577, 0.033270129842944564, 0.044285419375820735, 0.02842869629009539, 0.029099760388997944, 0.02899211111208515, 0.03440927886419265, 0.028096147755264072, 0.025769889306167828, 0.0235576606037077, 0.021359734067311117, 0.027511226981028866, 0.01781403710185899, 0.027914809967096933, 0.018433893190435945, 0.019792660743192275, 0.016609076082900607, 0.029527984632342956, 0.03562797394851132, 0.025392002374516248, 0.02579903058974673, 0.034284401284561096, 0.031518560012116885, 0.03698063061757662, 0.041397640220699555, 0.04339962105603482, 0.05731747889169264, 0.03398421144640795, 0.037859680792407806, 0.031146576148776355, 0.03318138238564376, 0.03616143068972162, 0.03405212336720395, 0.043357544739393926, 0.042238856844773895, 0.02845205087518071, 0.028052873642514506, 0.03677824256086194, 0.033240239666805206, 0.037080788359968204, 0.024565341029959314, 0.024054283646302424, 0.023849725680795866, 0.016115190455210718, 0.022056340964978216, 0.04053532693789914, 0.052107167651676584, 0.029742915292516204, 0.02942714019881786, 0.03169054584122636, 0.03364303411994773, 0.02775402626186512, 0.025766302276317772, 0.025235042424951393, 0.02455129663699613, 0.026516831998716347, 0.023963338874450336, 0.031807928500812294, 0.028246164540320345, 0.03881710182863261, 0.029191040352035423, 0.029357330272951034, 0.03161882548456472, 0.02572533189765017, 0.026883305186945764], 'lr': [0.01, 0.01, 0.01, 0.01, 0.01, 0.01, 0.01, 0.01, 0.01, 0.01, 0.01, 0.01, 0.01, 0.01, 0.01, 0.01, 0.01, 0.01, 0.01, 0.01, 0.01, 0.01, 0.01, 0.01, 0.01, 0.01, 0.01, 0.01, 0.01, 0.01, 0.01, 0.01, 0.01, 0.01, 0.01, 0.01, 0.01, 0.01, 0.01, 0.01, 0.01, 0.01, 0.01, 0.01, 0.01, 0.01, 0.01, 0.01, 0.01, 0.01, 0.01, 0.01, 0.01, 0.01, 0.01, 0.01, 0.01, 0.01, 0.01, 0.01, 0.01, 0.01, 0.01, 0.01, 0.01, 0.01, 0.01, 0.01, 0.01, 0.01, 0.01, 0.01, 0.01, 0.01, 0.01, 0.01, 0.01, 0.01, 0.01, 0.01, 0.01, 0.01, 0.01, 0.01, 0.01, 0.01, 0.01, 0.01, 0.01, 0.01, 0.01, 0.01, 0.01, 0.01, 0.01, 0.01, 0.01, 0.01, 0.01, 0.01, 0.01, 0.01, 0.01, 0.01, 0.01, 0.01, 0.01, 0.01, 0.01, 0.01, 0.01, 0.01, 0.01, 0.01, 0.01, 0.01, 0.01, 0.01, 0.01, 0.01, 0.01, 0.01, 0.01, 0.01, 0.01, 0.01, 0.01, 0.01, 0.01, 0.01, 0.01, 0.01, 0.01, 0.01, 0.01, 0.01, 0.01, 0.01, 0.01, 0.01, 0.01, 0.01, 0.01, 0.01, 0.01, 0.01, 0.01, 0.01, 0.01, 0.01, 0.01, 0.01, 0.01, 0.01, 0.01, 0.01, 0.01, 0.01, 0.01, 0.01, 0.01, 0.01, 0.01, 0.01, 0.01, 0.01, 0.01, 0.01, 0.01, 0.01, 0.01, 0.01, 0.01, 0.01, 0.01, 0.01, 0.01, 0.01, 0.01, 0.01, 0.01, 0.01, 0.01], 'train_mse': [0.4467753666894458, 0.25088986829261095, 0.1674972747820852, 0.1133469846645967, 0.11384389132097165, 0.10770976096696826, 0.10678963214516546, 0.07095147226943406, 0.07100076369094467, 0.06451088394970614, 0.05959928506146706, 0.058292719637569636, 0.04911289340710381, 0.0576492054204127, 0.05196127931810423, 0.043363727744863995, 0.037854702745070225, 0.04225880596817084, 0.038229072279020435, 0.037427282279509255, 0.04195472714696481, 0.06648998746751993, 0.028283962882744394, 0.026239503293101017, 0.041687879473547115, 0.03634038930077093, 0.02500298858409713, 0.024294578356078993, 0.03220541853806549, 0.033707426785679916, 0.025353747713554375, 0.03733223504190778, 0.023384965186667644, 0.023593153114335113, 0.036144749869675884, 0.04589634807243275, 0.042019644573581656, 0.02951053425676566, 0.03818855958965203, 0.03050194646512095, 0.02277508907853708, 0.018859678476755654, 0.06482934425412888, 0.03023572181963745, 0.04309285280777031, 0.026331858884478133, 0.030598993647903312, 0.036102451959784655, 0.02547039973861765, 0.016596556345891206, 0.018599427810847773, 0.021518364759017788, 0.016033400783205295, 0.018471296288112823, 0.03122657174711682, 0.026767692361019352, 0.03251968177713856, 0.017699949141144374, 0.019596420345042668, 0.017874184581167504, 0.03147453883163665, 0.019010811089823592, 0.016092063144995342, 0.014291762201585317, 0.03006905494799497, 0.018717124125896614, 0.014135822016248443, 0.014345436187978377, 0.012155267307491948, 0.021342275208878554, 0.027324850240296922, 0.04191763320923024, 0.08236628918518847, 0.03085124158138144, 0.019949976206992064, 0.02948682591723633, 0.016831473597654915, 0.012415828095013237, 0.015737101364890375, 0.027746465325869142, 0.017228827514987072, 0.021644896565794165, 0.018231743160365025, 0.012935037350274459, 0.01524299558278572, 0.01579667817616304, 0.012978840230178293, 0.009750493251001769, 0.01074339895534786, 0.010542108906544898, 0.018216448254214104, 0.009512632923175895, 0.01275482905619063, 0.011398347249568324, 0.012386462770187586, 0.01733718603740208, 0.009903496147191621, 0.008044490876607654, 0.011936685988500215, 0.015855304897621828, 0.016117879604850123, 0.008851029723772105, 0.0218146219364231, 0.013933536063306964, 0.01584219058230225, 0.010478681962555386, 0.01706698474031448, 0.025231293480461003, 0.01096711366025298, 0.022850704639342422, 0.02378409122212503, 0.020285668958249337, 0.02084636023414877, 0.013370542071233857, 0.010687017586378227, 0.031042169803097264, 0.014085673727605764, 0.010344545015668807, 0.009569224353268303, 0.007796637805834039, 0.011260306441178414, 0.007761353540749678, 0.009492696071855237, 0.013106790556946996, 0.013005858972361993, 0.010949668635810622, 0.011749092645632595, 0.010735874107654631, 0.015015395546810232, 0.012502976759614847, 0.00790149383745998, 0.012330501963733595, 0.004929978469730791, 0.005457815221202143, 0.006766867149768865, 0.00839031298985686, 0.006827893072412567, 0.01270193794765733, 0.011501317363447436, 0.02037666300310344, 0.013005930182466749, 0.031053517620975725, 0.02376461341365047, 0.014876448425833261, 0.015244161270040898, 0.01359655346046666, 0.015048024629227412, 0.019096285934587637, 0.01022287813838027, 0.018545852922244914, 0.017489820202416913, 0.04057703482184298, 0.01614247853946968, 0.014023108736134863, 0.009374437367048669, 0.019656843650707474, 0.007206739427986994, 0.018723973614478234, 0.00840073757382767, 0.007937594361666793, 0.009115518211883531, 0.0074574245984930275, 0.007040031173580086, 0.03624397423365792, 0.0173373572793607, 0.01070393523911079, 0.007934213820068222, 0.009698627553221121, 0.008606084736479674, 0.009124163963142116, 0.008374909971666001, 0.008118689193634579, 0.012336936615873987, 0.01757754692063915, 0.012648316739884327, 0.008053983274131033, 0.007246774703156318, 0.008214111789022562, 0.03178096044037563, 0.018387529125561523, 0.010814185735837175, 0.012911366616511665, 0.008394302535696284], 'train_mae': [0.5374456740438986, 0.4054226347154938, 0.31714588257585574, 0.27333487040642857, 0.26313823362681277, 0.24996971736921353, 0.24418763092938647, 0.19921602751240608, 0.20275522511715155, 0.18712409588786677, 0.18751592495292366, 0.18671172395493812, 0.16094048757398202, 0.17771709359122712, 0.16999976623538263, 0.16206464053888067, 0.14523510332640027, 0.15605896580112277, 0.14996226622099257, 0.15397841504398985, 0.1565622757516931, 0.18611770069118166, 0.1318160692328956, 0.12531967537744051, 0.1477829303902973, 0.142527173260878, 0.1184894943933216, 0.11948958237866282, 0.13104771576430702, 0.1458933301251681, 0.13209893609564669, 0.14035938621270463, 0.11222069403781729, 0.11586299093749243, 0.1375398542739312, 0.1595150034617581, 0.1524614649414596, 0.12711927781917665, 0.14608838855090803, 0.12953309829862864, 0.11717995695206676, 0.10995378865617542, 0.1808921021527903, 0.13996186116765322, 0.15486838101862935, 0.12880568155874692, 0.13708094893971243, 0.1487584637362793, 0.11457233454265528, 0.09558131964870094, 0.102344080307545, 0.11790349308153078, 0.09360390624407725, 0.10213048851422475, 0.1386792219193881, 0.12818569705340346, 0.14439920706815265, 0.09770576377975189, 0.10022069718707759, 0.09430701689809587, 0.11515384744913933, 0.10566780890468162, 0.09062749766540198, 0.09508500823378155, 0.11928868979360449, 0.09889571140296544, 0.08982191029658486, 0.08937568333147075, 0.07696805169315536, 0.10346112298739574, 0.11196602273223596, 0.13191894543517887, 0.16126401047497563, 0.11628553258861828, 0.10738432119283599, 0.12071469706413768, 0.10506095576355264, 0.08800248045666413, 0.09797893598254159, 0.12841944218123977, 0.09921462754009015, 0.10962819999796623, 0.10723431570033937, 0.08328978425735631, 0.09022496734371603, 0.09760614204329764, 0.08405005528629701, 0.07657918213746484, 0.07250636258679817, 0.07602930999082781, 0.10110863968677662, 0.06939441991535152, 0.0829445342703103, 0.08211753222127546, 0.08220389081552402, 0.1022893920710048, 0.0688719092500928, 0.06462639335228033, 0.07815562387440518, 0.09194550246202791, 0.09136092726750404, 0.06934714829002689, 0.09550362915903307, 0.08668450298270329, 0.08998435254792027, 0.06782712161587164, 0.10446662042273684, 0.10496362754920352, 0.07302160069931764, 0.11564378685059862, 0.12372670703323965, 0.11154045520818923, 0.10778621009680173, 0.08456633786490704, 0.08134560868185013, 0.12315982182219451, 0.08221907218472115, 0.06999261677581706, 0.06948895857616688, 0.06586271772377232, 0.07455398388125098, 0.06290191774857085, 0.07287839992265795, 0.0784233503415845, 0.07929785938674451, 0.07106231270674158, 0.07666734918581357, 0.07746249395056011, 0.0796423630046851, 0.07858700760658209, 0.06472307975671722, 0.08621430532405032, 0.050727329047329545, 0.05519302300326926, 0.06533969187013483, 0.06581996348171043, 0.05744497638973963, 0.07339667151984064, 0.07445006907455924, 0.10043072618969778, 0.07694821190601898, 0.1174519020548322, 0.11733229507982902, 0.08872984186303075, 0.09099645274756932, 0.0888900925087484, 0.091588689487755, 0.09839079000027037, 0.07121125394969074, 0.09349958463784676, 0.09155667262288268, 0.11343391596885431, 0.08307523802874288, 0.0800264386167876, 0.06936501887620641, 0.09567816686908744, 0.060736037526433036, 0.10030586405026427, 0.07066710297173394, 0.06446545809001125, 0.06634120598906165, 0.06430450059156677, 0.060256241731597604, 0.13057301764391765, 0.0916020489550756, 0.07750664365918582, 0.0616701931949341, 0.07000131776143866, 0.07256055854205948, 0.07042035990512777, 0.06495244088817642, 0.06633193944141237, 0.07532202868254834, 0.11721878905156358, 0.08379725730494217, 0.05915404898985101, 0.058900707357937766, 0.06723818268490082, 0.11260288977916098, 0.08976371340187654, 0.07214568906134956, 0.08020408618586297, 0.0645097639726817]}\n"
     ]
    },
    {
     "data": {
      "application/scrapbook.scrap.json+json": {
       "data": 0.05436785171892624,
       "encoder": "json",
       "name": "TabNet MAE",
       "version": 1
      }
     },
     "metadata": {
      "scrapbook": {
       "data": true,
       "display": false,
       "name": "TabNet MAE"
      }
     },
     "output_type": "display_data"
    },
    {
     "name": "stdout",
     "output_type": "stream",
     "text": [
      "TabNet MAE 0.05436785171892624\n"
     ]
    },
    {
     "data": {
      "image/png": "[encoded data removed]",
      "text/plain": [
       "<Figure size 432x288 with 1 Axes>"
      ]
     },
     "metadata": {
      "needs_background": "light"
     },
     "output_type": "display_data"
    }
   ],
   "source": [
    "lr = 0.01\n",
    "\n",
    "y_train = np.reshape(y_train, (-1, 1))\n",
    "y_test = np.reshape(y_test, (-1, 1))\n",
    "\n",
    "device = torch.device('cuda' if torch.cuda.is_available() else 'cpu')\n",
    "mae_tab= baselineModels.tabnetreg(X_train,y_train,X_test,y_test,batch_size,n_features,n_target,n_epochs, lr)\n",
    "sb.glue(\"TabNet MAE\",mae_tab)\n",
    "print(\"TabNet MAE\",mae_tab)"
   ]
  }
 ],
 "metadata": {
  "kernelspec": {
   "display_name": "Python 3.7.3 64-bit",
   "language": "python",
   "name": "python3"
  },
  "language_info": {
   "codemirror_mode": {
    "name": "ipython",
    "version": 3
   },
   "file_extension": ".py",
   "mimetype": "text/x-python",
   "name": "python",
   "nbconvert_exporter": "python",
   "pygments_lexer": "ipython3",
   "version": "3.8.13"
  },
  "papermill": {
   "default_parameters": {},
   "duration": 125.870306,
   "end_time": "2022-07-24T10:52:24.781915",
   "environment_variables": {},
   "exception": null,
   "input_path": "BaselineModels.ipynb",
   "output_path": "./BaseLine_Model_Output/BaselineModels_output_10.ipynb",
   "parameters": {},
   "start_time": "2022-07-24T10:50:18.911609",
   "version": "2.3.3"
  },
  "vscode": {
   "interpreter": {
    "hash": "aee8b7b246df8f9039afb4144a1f6fd8d2ca17a180786b69acc140d282b71a49"
   }
  }
 },
 "nbformat": 4,
 "nbformat_minor": 5
}