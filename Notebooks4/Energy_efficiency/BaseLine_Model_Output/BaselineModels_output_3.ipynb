{
 "cells": [
  {
   "cell_type": "markdown",
   "id": "c334cd11",
   "metadata": {
    "papermill": {
     "duration": 0.011114,
     "end_time": "2022-07-24T10:26:59.543366",
     "exception": false,
     "start_time": "2022-07-24T10:26:59.532252",
     "status": "completed"
    },
    "tags": []
   },
   "source": [
    "## Import Libraries "
   ]
  },
  {
   "cell_type": "code",
   "execution_count": 1,
   "id": "12c25503",
   "metadata": {
    "execution": {
     "iopub.execute_input": "2022-07-24T10:26:59.558240Z",
     "iopub.status.busy": "2022-07-24T10:26:59.557703Z",
     "iopub.status.idle": "2022-07-24T10:26:59.574398Z",
     "shell.execute_reply": "2022-07-24T10:26:59.573282Z"
    },
    "papermill": {
     "duration": 0.030156,
     "end_time": "2022-07-24T10:26:59.578407",
     "exception": false,
     "start_time": "2022-07-24T10:26:59.548251",
     "status": "completed"
    },
    "tags": []
   },
   "outputs": [],
   "source": [
    "import warnings\n",
    "import sys\n",
    "sys.path.insert(0, '../../src')\n",
    "warnings.filterwarnings('ignore')"
   ]
  },
  {
   "cell_type": "code",
   "execution_count": 2,
   "id": "364633d7",
   "metadata": {
    "execution": {
     "iopub.execute_input": "2022-07-24T10:26:59.591974Z",
     "iopub.status.busy": "2022-07-24T10:26:59.591573Z",
     "iopub.status.idle": "2022-07-24T10:27:21.852925Z",
     "shell.execute_reply": "2022-07-24T10:27:21.848649Z"
    },
    "papermill": {
     "duration": 22.27169,
     "end_time": "2022-07-24T10:27:21.857256",
     "exception": false,
     "start_time": "2022-07-24T10:26:59.585566",
     "status": "completed"
    },
    "tags": []
   },
   "outputs": [],
   "source": [
    "import statsModel\n",
    "import scrapbook as sb \n",
    "import torch \n",
    "import statsModel\n",
    "import baselineModels\n",
    "import energyefficiencyDataset\n",
    "import dataset \n",
    "from torch.utils.data import random_split \n",
    "from sklearn.model_selection import train_test_split\n",
    "import numpy as np\n",
    "from sklearn.metrics import mean_squared_error,mean_absolute_error "
   ]
  },
  {
   "cell_type": "markdown",
   "id": "44a8d6b0",
   "metadata": {
    "papermill": {
     "duration": 0.004805,
     "end_time": "2022-07-24T10:27:21.923124",
     "exception": false,
     "start_time": "2022-07-24T10:27:21.918319",
     "status": "completed"
    },
    "tags": []
   },
   "source": [
    "## Import Dataset \n"
   ]
  },
  {
   "cell_type": "code",
   "execution_count": 3,
   "id": "343a5196",
   "metadata": {
    "execution": {
     "iopub.execute_input": "2022-07-24T10:27:21.936788Z",
     "iopub.status.busy": "2022-07-24T10:27:21.936196Z",
     "iopub.status.idle": "2022-07-24T10:27:23.094808Z",
     "shell.execute_reply": "2022-07-24T10:27:23.091371Z"
    },
    "papermill": {
     "duration": 1.171174,
     "end_time": "2022-07-24T10:27:23.098609",
     "exception": false,
     "start_time": "2022-07-24T10:27:21.927435",
     "status": "completed"
    },
    "tags": []
   },
   "outputs": [
    {
     "name": "stdout",
     "output_type": "stream",
     "text": [
      "     X1     X2     X3      X4   X5  X6   X7  X8     Y1     Y2\n",
      "0  0.98  514.5  294.0  110.25  7.0   2  0.0   0  15.55  21.33\n",
      "1  0.98  514.5  294.0  110.25  7.0   3  0.0   0  15.55  21.33\n",
      "2  0.98  514.5  294.0  110.25  7.0   4  0.0   0  15.55  21.33\n",
      "3  0.98  514.5  294.0  110.25  7.0   5  0.0   0  15.55  21.33\n",
      "4  0.90  563.5  318.5  122.50  7.0   2  0.0   0  20.84  28.28\n"
     ]
    }
   ],
   "source": [
    "n_features = 13\n",
    "n_samples= 506\n",
    "n_target = 1 \n",
    "X,Y = energyefficiencyDataset.energy_data()"
   ]
  },
  {
   "cell_type": "code",
   "execution_count": 4,
   "id": "026b0e07",
   "metadata": {
    "execution": {
     "iopub.execute_input": "2022-07-24T10:27:23.128242Z",
     "iopub.status.busy": "2022-07-24T10:27:23.127111Z",
     "iopub.status.idle": "2022-07-24T10:27:23.164706Z",
     "shell.execute_reply": "2022-07-24T10:27:23.138376Z"
    },
    "papermill": {
     "duration": 0.065209,
     "end_time": "2022-07-24T10:27:23.172410",
     "exception": false,
     "start_time": "2022-07-24T10:27:23.107201",
     "status": "completed"
    },
    "tags": []
   },
   "outputs": [],
   "source": [
    "# Train test split for dataset \n",
    "real_dataset = dataset.CustomDataset(X,Y)\n",
    "X_train, X_test, y_train, y_test = train_test_split(X, Y, test_size=0.2)"
   ]
  },
  {
   "cell_type": "markdown",
   "id": "cb556ca8",
   "metadata": {
    "papermill": {
     "duration": 0.003919,
     "end_time": "2022-07-24T10:27:23.180411",
     "exception": false,
     "start_time": "2022-07-24T10:27:23.176492",
     "status": "completed"
    },
    "tags": []
   },
   "source": [
    "## Stats Model \n",
    "\n"
   ]
  },
  {
   "cell_type": "code",
   "execution_count": 5,
   "id": "5c3bf440",
   "metadata": {
    "execution": {
     "iopub.execute_input": "2022-07-24T10:27:23.197724Z",
     "iopub.status.busy": "2022-07-24T10:27:23.196682Z",
     "iopub.status.idle": "2022-07-24T10:27:24.354820Z",
     "shell.execute_reply": "2022-07-24T10:27:24.345978Z"
    },
    "papermill": {
     "duration": 1.186104,
     "end_time": "2022-07-24T10:27:24.371816",
     "exception": false,
     "start_time": "2022-07-24T10:27:23.185712",
     "status": "completed"
    },
    "tags": []
   },
   "outputs": [
    {
     "name": "stdout",
     "output_type": "stream",
     "text": [
      "                                 OLS Regression Results                                \n",
      "=======================================================================================\n",
      "Dep. Variable:                      y   R-squared (uncentered):                   0.916\n",
      "Model:                            OLS   Adj. R-squared (uncentered):              0.915\n",
      "Method:                 Least Squares   F-statistic:                              944.1\n",
      "Date:                Sun, 24 Jul 2022   Prob (F-statistic):                   1.99e-321\n",
      "Time:                        15:57:23   Log-Likelihood:                         -110.40\n",
      "No. Observations:                 614   AIC:                                      234.8\n",
      "Df Residuals:                     607   BIC:                                      265.7\n",
      "Df Model:                           7                                                  \n",
      "Covariance Type:            nonrobust                                                  \n",
      "==============================================================================\n",
      "                 coef    std err          t      P>|t|      [0.025      0.975]\n",
      "------------------------------------------------------------------------------\n",
      "x1            -0.6700      0.122     -5.503      0.000      -0.909      -0.431\n",
      "x2            -0.3536      0.090     -3.931      0.000      -0.530      -0.177\n",
      "x3             0.0672      0.023      2.858      0.004       0.021       0.113\n",
      "x4            -0.3773      0.081     -4.664      0.000      -0.536      -0.218\n",
      "x5             0.7563      0.066     11.465      0.000       0.627       0.886\n",
      "x6            -0.0020      0.012     -0.172      0.864      -0.025       0.021\n",
      "x7             0.2647      0.012     21.919      0.000       0.241       0.288\n",
      "x8             0.0276      0.012      2.295      0.022       0.004       0.051\n",
      "==============================================================================\n",
      "Omnibus:                       12.428   Durbin-Watson:                   2.108\n",
      "Prob(Omnibus):                  0.002   Jarque-Bera (JB):               22.460\n",
      "Skew:                           0.014   Prob(JB):                     1.33e-05\n",
      "Kurtosis:                       3.937   Cond. No.                     3.90e+15\n",
      "==============================================================================\n",
      "\n",
      "Notes:\n",
      "[1] R² is computed without centering (uncentered) since the model does not contain a constant.\n",
      "[2] Standard Errors assume that the covariance matrix of the errors is correctly specified.\n",
      "[3] The smallest eigenvalue is 1.51e-28. This might indicate that there are\n",
      "strong multicollinearity problems or that the design matrix is singular.\n"
     ]
    },
    {
     "name": "stderr",
     "output_type": "stream",
     "text": [
      "No artists with labels found to put in legend.  Note that artists whose label start with an underscore are ignored when legend() is called with no argument.\n"
     ]
    },
    {
     "data": {
      "image/png": "[encoded data removed]",
      "text/plain": [
       "<Figure size 432x288 with 1 Axes>"
      ]
     },
     "metadata": {
      "needs_background": "light"
     },
     "output_type": "display_data"
    },
    {
     "name": "stdout",
     "output_type": "stream",
     "text": [
      "Performance Metrics\n",
      "Mean Squared Error: 0.08375761323101924\n",
      "Mean Absolute Error: 0.20075573747945522\n",
      "Manhattan distance: 30.916383571836107\n",
      "Euclidean distance: 3.5914721824868647\n"
     ]
    },
    {
     "data": {
      "application/scrapbook.scrap.json+json": {
       "data": 0.08375761323101924,
       "encoder": "json",
       "name": "Stats Model MSE",
       "version": 1
      }
     },
     "metadata": {
      "scrapbook": {
       "data": true,
       "display": false,
       "name": "Stats Model MSE"
      }
     },
     "output_type": "display_data"
    },
    {
     "data": {
      "application/scrapbook.scrap.json+json": {
       "data": 0.20075573747945522,
       "encoder": "json",
       "name": "Stats Model MAE",
       "version": 1
      }
     },
     "metadata": {
      "scrapbook": {
       "data": true,
       "display": false,
       "name": "Stats Model MAE"
      }
     },
     "output_type": "display_data"
    },
    {
     "data": {
      "application/scrapbook.scrap.json+json": {
       "data": 30.916383571836107,
       "encoder": "json",
       "name": "Stats Model Manhattan Distance",
       "version": 1
      }
     },
     "metadata": {
      "scrapbook": {
       "data": true,
       "display": false,
       "name": "Stats Model Manhattan Distance"
      }
     },
     "output_type": "display_data"
    },
    {
     "data": {
      "application/scrapbook.scrap.json+json": {
       "data": 3.5914721824868647,
       "encoder": "json",
       "name": "Stats Model Euclidean distance",
       "version": 1
      }
     },
     "metadata": {
      "scrapbook": {
       "data": true,
       "display": false,
       "name": "Stats Model Euclidean distance"
      }
     },
     "output_type": "display_data"
    },
    {
     "data": {
      "application/scrapbook.scrap.json+json": {
       "data": [
        -0.670044530864408,
        -0.3536323795054923,
        0.06715223325956933,
        -0.37727224061321296,
        0.7562766525334048,
        -0.0020066217648779536,
        0.26473495592450935,
        0.027599310709779997
       ],
       "encoder": "json",
       "name": "Coefficients",
       "version": 1
      }
     },
     "metadata": {
      "scrapbook": {
       "data": true,
       "display": false,
       "name": "Coefficients"
      }
     },
     "output_type": "display_data"
    },
    {
     "name": "stdout",
     "output_type": "stream",
     "text": [
      "Stats Model MAE 0.20075573747945522\n"
     ]
    }
   ],
   "source": [
    "coefficients , y_pred =statsModel.statsModel(X_train,y_train,X_test,y_test)\n",
    "#Store MSE Value \n",
    "sb.glue(\"Coefficients\",coefficients)\n",
    "mae = mean_absolute_error(y_pred, y_test)\n",
    "print(\"Stats Model MAE\", mae)"
   ]
  },
  {
   "cell_type": "markdown",
   "id": "76d907b9",
   "metadata": {
    "papermill": {
     "duration": 0.009808,
     "end_time": "2022-07-24T10:27:24.392044",
     "exception": false,
     "start_time": "2022-07-24T10:27:24.382236",
     "status": "completed"
    },
    "tags": []
   },
   "source": [
    "# Catboost Model "
   ]
  },
  {
   "cell_type": "code",
   "execution_count": 6,
   "id": "95a78015",
   "metadata": {
    "execution": {
     "iopub.execute_input": "2022-07-24T10:27:24.413411Z",
     "iopub.status.busy": "2022-07-24T10:27:24.412058Z",
     "iopub.status.idle": "2022-07-24T10:27:25.735915Z",
     "shell.execute_reply": "2022-07-24T10:27:25.726033Z"
    },
    "papermill": {
     "duration": 1.343423,
     "end_time": "2022-07-24T10:27:25.743131",
     "exception": false,
     "start_time": "2022-07-24T10:27:24.399708",
     "status": "completed"
    },
    "tags": []
   },
   "outputs": [
    {
     "name": "stdout",
     "output_type": "stream",
     "text": [
      "Learning rate set to 0.037906\n",
      "0:\tlearn: 0.9689496\ttotal: 52.7ms\tremaining: 52.6s\n",
      "1:\tlearn: 0.9366685\ttotal: 54ms\tremaining: 27s\n",
      "2:\tlearn: 0.9092958\ttotal: 56.8ms\tremaining: 18.9s\n",
      "3:\tlearn: 0.8785128\ttotal: 57.3ms\tremaining: 14.3s\n",
      "4:\tlearn: 0.8535550\ttotal: 59.4ms\tremaining: 11.8s\n",
      "5:\tlearn: 0.8248775\ttotal: 65.4ms\tremaining: 10.8s\n",
      "6:\tlearn: 0.8022422\ttotal: 65.7ms\tremaining: 9.32s\n",
      "7:\tlearn: 0.7790783\ttotal: 66.8ms\tremaining: 8.28s\n",
      "8:\tlearn: 0.7534935\ttotal: 68.3ms\tremaining: 7.52s\n",
      "9:\tlearn: 0.7294735\ttotal: 69.4ms\tremaining: 6.87s\n",
      "10:\tlearn: 0.7066430\ttotal: 69.8ms\tremaining: 6.27s\n",
      "11:\tlearn: 0.6843788\ttotal: 73ms\tremaining: 6.01s\n",
      "12:\tlearn: 0.6641521\ttotal: 75.9ms\tremaining: 5.76s\n",
      "13:\tlearn: 0.6439410\ttotal: 78.2ms\tremaining: 5.51s\n",
      "14:\tlearn: 0.6239340\ttotal: 79.3ms\tremaining: 5.21s\n",
      "15:\tlearn: 0.6041992\ttotal: 80.1ms\tremaining: 4.92s\n",
      "16:\tlearn: 0.5855219\ttotal: 81.3ms\tremaining: 4.7s\n",
      "17:\tlearn: 0.5683488\ttotal: 81.6ms\tremaining: 4.45s\n",
      "18:\tlearn: 0.5525649\ttotal: 82.2ms\tremaining: 4.24s\n"
     ]
    },
    {
     "name": "stdout",
     "output_type": "stream",
     "text": [
      "19:\tlearn: 0.5367440\ttotal: 86ms\tremaining: 4.21s\n",
      "20:\tlearn: 0.5213055\ttotal: 91.2ms\tremaining: 4.25s\n",
      "21:\tlearn: 0.5047377\ttotal: 91.8ms\tremaining: 4.08s\n",
      "22:\tlearn: 0.4910947\ttotal: 93.9ms\tremaining: 3.99s\n",
      "23:\tlearn: 0.4768104\ttotal: 99.9ms\tremaining: 4.06s\n",
      "24:\tlearn: 0.4620226\ttotal: 101ms\tremaining: 3.95s\n",
      "25:\tlearn: 0.4482606\ttotal: 102ms\tremaining: 3.82s\n",
      "26:\tlearn: 0.4350881\ttotal: 102ms\tremaining: 3.69s\n",
      "27:\tlearn: 0.4213019\ttotal: 106ms\tremaining: 3.69s\n",
      "28:\tlearn: 0.4100160\ttotal: 110ms\tremaining: 3.68s\n",
      "29:\tlearn: 0.3985551\ttotal: 113ms\tremaining: 3.66s\n",
      "30:\tlearn: 0.3863781\ttotal: 114ms\tremaining: 3.55s\n",
      "31:\tlearn: 0.3749652\ttotal: 115ms\tremaining: 3.48s\n",
      "32:\tlearn: 0.3641790\ttotal: 117ms\tremaining: 3.42s\n",
      "33:\tlearn: 0.3539049\ttotal: 118ms\tremaining: 3.35s\n",
      "34:\tlearn: 0.3435832\ttotal: 119ms\tremaining: 3.28s\n",
      "35:\tlearn: 0.3336435\ttotal: 120ms\tremaining: 3.22s\n",
      "36:\tlearn: 0.3251115\ttotal: 121ms\tremaining: 3.15s\n",
      "37:\tlearn: 0.3165436\ttotal: 122ms\tremaining: 3.08s\n",
      "38:\tlearn: 0.3078636\ttotal: 122ms\tremaining: 3.01s\n",
      "39:\tlearn: 0.2995238\ttotal: 125ms\tremaining: 3s\n",
      "40:\tlearn: 0.2922243\ttotal: 126ms\tremaining: 2.94s\n",
      "41:\tlearn: 0.2841862\ttotal: 126ms\tremaining: 2.88s\n",
      "42:\tlearn: 0.2761694\ttotal: 127ms\tremaining: 2.82s\n",
      "43:\tlearn: 0.2687845\ttotal: 127ms\tremaining: 2.76s\n",
      "44:\tlearn: 0.2642715\ttotal: 127ms\tremaining: 2.7s\n",
      "45:\tlearn: 0.2568689\ttotal: 128ms\tremaining: 2.66s\n",
      "46:\tlearn: 0.2506107\ttotal: 129ms\tremaining: 2.62s\n",
      "47:\tlearn: 0.2450857\ttotal: 131ms\tremaining: 2.61s\n",
      "48:\tlearn: 0.2389381\ttotal: 132ms\tremaining: 2.56s\n",
      "49:\tlearn: 0.2333046\ttotal: 133ms\tremaining: 2.53s\n",
      "50:\tlearn: 0.2276137\ttotal: 134ms\tremaining: 2.49s\n",
      "51:\tlearn: 0.2217836\ttotal: 136ms\tremaining: 2.48s\n",
      "52:\tlearn: 0.2161047\ttotal: 136ms\tremaining: 2.44s\n",
      "53:\tlearn: 0.2099836\ttotal: 137ms\tremaining: 2.4s\n",
      "54:\tlearn: 0.2062215\ttotal: 137ms\tremaining: 2.36s\n",
      "55:\tlearn: 0.2003438\ttotal: 138ms\tremaining: 2.33s\n",
      "56:\tlearn: 0.1963048\ttotal: 142ms\tremaining: 2.35s\n",
      "57:\tlearn: 0.1912463\ttotal: 143ms\tremaining: 2.33s\n",
      "58:\tlearn: 0.1864044\ttotal: 145ms\tremaining: 2.31s\n"
     ]
    },
    {
     "name": "stdout",
     "output_type": "stream",
     "text": [
      "59:\tlearn: 0.1814404\ttotal: 148ms\tremaining: 2.32s\n",
      "60:\tlearn: 0.1777187\ttotal: 150ms\tremaining: 2.31s\n",
      "61:\tlearn: 0.1735781\ttotal: 152ms\tremaining: 2.3s\n",
      "62:\tlearn: 0.1695911\ttotal: 154ms\tremaining: 2.28s\n",
      "63:\tlearn: 0.1664867\ttotal: 155ms\tremaining: 2.27s\n",
      "64:\tlearn: 0.1641477\ttotal: 156ms\tremaining: 2.24s\n",
      "65:\tlearn: 0.1611098\ttotal: 156ms\tremaining: 2.21s\n",
      "66:\tlearn: 0.1584419\ttotal: 156ms\tremaining: 2.18s\n",
      "67:\tlearn: 0.1544145\ttotal: 157ms\tremaining: 2.15s\n",
      "68:\tlearn: 0.1505726\ttotal: 160ms\tremaining: 2.16s\n",
      "69:\tlearn: 0.1470698\ttotal: 161ms\tremaining: 2.14s\n",
      "70:\tlearn: 0.1435267\ttotal: 162ms\tremaining: 2.12s\n",
      "71:\tlearn: 0.1406336\ttotal: 163ms\tremaining: 2.1s\n",
      "72:\tlearn: 0.1373369\ttotal: 164ms\tremaining: 2.08s\n",
      "73:\tlearn: 0.1349641\ttotal: 164ms\tremaining: 2.05s\n",
      "74:\tlearn: 0.1325414\ttotal: 164ms\tremaining: 2.03s\n",
      "75:\tlearn: 0.1297959\ttotal: 165ms\tremaining: 2s\n",
      "76:\tlearn: 0.1269258\ttotal: 165ms\tremaining: 1.98s\n",
      "77:\tlearn: 0.1248283\ttotal: 170ms\tremaining: 2.01s\n",
      "78:\tlearn: 0.1224081\ttotal: 172ms\tremaining: 2s\n",
      "79:\tlearn: 0.1206461\ttotal: 176ms\tremaining: 2.02s\n",
      "80:\tlearn: 0.1180945\ttotal: 177ms\tremaining: 2.01s\n",
      "81:\tlearn: 0.1163160\ttotal: 178ms\tremaining: 1.99s\n",
      "82:\tlearn: 0.1140587\ttotal: 180ms\tremaining: 1.99s\n",
      "83:\tlearn: 0.1114649\ttotal: 181ms\tremaining: 1.98s\n",
      "84:\tlearn: 0.1095091\ttotal: 183ms\tremaining: 1.97s\n",
      "85:\tlearn: 0.1080095\ttotal: 184ms\tremaining: 1.96s\n",
      "86:\tlearn: 0.1057917\ttotal: 190ms\tremaining: 2s\n",
      "87:\tlearn: 0.1037516\ttotal: 191ms\tremaining: 1.97s\n",
      "88:\tlearn: 0.1016428\ttotal: 192ms\tremaining: 1.97s\n",
      "89:\tlearn: 0.1004694\ttotal: 195ms\tremaining: 1.97s\n",
      "90:\tlearn: 0.0996725\ttotal: 195ms\tremaining: 1.95s\n",
      "91:\tlearn: 0.0989541\ttotal: 196ms\tremaining: 1.93s\n",
      "92:\tlearn: 0.0972803\ttotal: 196ms\tremaining: 1.91s\n",
      "93:\tlearn: 0.0963951\ttotal: 196ms\tremaining: 1.89s\n",
      "94:\tlearn: 0.0943742\ttotal: 197ms\tremaining: 1.87s\n",
      "95:\tlearn: 0.0924129\ttotal: 197ms\tremaining: 1.86s\n",
      "96:\tlearn: 0.0905949\ttotal: 197ms\tremaining: 1.84s\n",
      "97:\tlearn: 0.0885857\ttotal: 198ms\tremaining: 1.82s\n",
      "98:\tlearn: 0.0876904\ttotal: 198ms\tremaining: 1.8s\n",
      "99:\tlearn: 0.0863883\ttotal: 198ms\tremaining: 1.79s\n",
      "100:\tlearn: 0.0851338\ttotal: 202ms\tremaining: 1.8s\n",
      "101:\tlearn: 0.0834005\ttotal: 204ms\tremaining: 1.79s\n",
      "102:\tlearn: 0.0821709\ttotal: 205ms\tremaining: 1.78s\n",
      "103:\tlearn: 0.0810843\ttotal: 206ms\tremaining: 1.77s\n",
      "104:\tlearn: 0.0802270\ttotal: 207ms\tremaining: 1.77s\n",
      "105:\tlearn: 0.0795362\ttotal: 208ms\tremaining: 1.76s\n",
      "106:\tlearn: 0.0782050\ttotal: 209ms\tremaining: 1.75s\n",
      "107:\tlearn: 0.0771712\ttotal: 210ms\tremaining: 1.73s\n",
      "108:\tlearn: 0.0759984\ttotal: 213ms\tremaining: 1.74s\n"
     ]
    },
    {
     "name": "stdout",
     "output_type": "stream",
     "text": [
      "109:\tlearn: 0.0746640\ttotal: 216ms\tremaining: 1.74s\n",
      "110:\tlearn: 0.0737128\ttotal: 216ms\tremaining: 1.73s\n",
      "111:\tlearn: 0.0726028\ttotal: 216ms\tremaining: 1.71s\n",
      "112:\tlearn: 0.0717302\ttotal: 217ms\tremaining: 1.7s\n",
      "113:\tlearn: 0.0711093\ttotal: 217ms\tremaining: 1.69s\n",
      "114:\tlearn: 0.0699925\ttotal: 217ms\tremaining: 1.67s\n",
      "115:\tlearn: 0.0690192\ttotal: 220ms\tremaining: 1.67s\n",
      "116:\tlearn: 0.0682088\ttotal: 220ms\tremaining: 1.66s\n",
      "117:\tlearn: 0.0672508\ttotal: 221ms\tremaining: 1.65s\n",
      "118:\tlearn: 0.0662456\ttotal: 233ms\tremaining: 1.72s\n",
      "119:\tlearn: 0.0654560\ttotal: 233ms\tremaining: 1.71s\n",
      "120:\tlearn: 0.0652406\ttotal: 233ms\tremaining: 1.69s\n",
      "121:\tlearn: 0.0643859\ttotal: 239ms\tremaining: 1.72s\n",
      "122:\tlearn: 0.0638655\ttotal: 240ms\tremaining: 1.71s\n",
      "123:\tlearn: 0.0631594\ttotal: 244ms\tremaining: 1.73s\n",
      "124:\tlearn: 0.0624376\ttotal: 245ms\tremaining: 1.71s\n",
      "125:\tlearn: 0.0617617\ttotal: 245ms\tremaining: 1.7s\n",
      "126:\tlearn: 0.0612403\ttotal: 247ms\tremaining: 1.7s\n",
      "127:\tlearn: 0.0605801\ttotal: 248ms\tremaining: 1.69s\n",
      "128:\tlearn: 0.0600819\ttotal: 248ms\tremaining: 1.68s\n",
      "129:\tlearn: 0.0595559\ttotal: 249ms\tremaining: 1.67s\n",
      "130:\tlearn: 0.0588490\ttotal: 249ms\tremaining: 1.65s\n",
      "131:\tlearn: 0.0583105\ttotal: 250ms\tremaining: 1.64s\n",
      "132:\tlearn: 0.0578496\ttotal: 250ms\tremaining: 1.63s\n",
      "133:\tlearn: 0.0575438\ttotal: 252ms\tremaining: 1.63s\n",
      "134:\tlearn: 0.0569325\ttotal: 261ms\tremaining: 1.67s\n",
      "135:\tlearn: 0.0565617\ttotal: 262ms\tremaining: 1.66s\n",
      "136:\tlearn: 0.0561720\ttotal: 262ms\tremaining: 1.65s\n",
      "137:\tlearn: 0.0558379\ttotal: 262ms\tremaining: 1.64s\n",
      "138:\tlearn: 0.0554157\ttotal: 267ms\tremaining: 1.65s\n",
      "139:\tlearn: 0.0551277\ttotal: 268ms\tremaining: 1.64s\n",
      "140:\tlearn: 0.0548188\ttotal: 270ms\tremaining: 1.64s\n",
      "141:\tlearn: 0.0544763\ttotal: 272ms\tremaining: 1.64s\n",
      "142:\tlearn: 0.0541808\ttotal: 274ms\tremaining: 1.64s\n",
      "143:\tlearn: 0.0539101\ttotal: 274ms\tremaining: 1.63s\n",
      "144:\tlearn: 0.0535013\ttotal: 274ms\tremaining: 1.62s\n",
      "145:\tlearn: 0.0532767\ttotal: 278ms\tremaining: 1.63s\n",
      "146:\tlearn: 0.0528552\ttotal: 279ms\tremaining: 1.62s\n",
      "147:\tlearn: 0.0525976\ttotal: 280ms\tremaining: 1.61s\n",
      "148:\tlearn: 0.0522631\ttotal: 281ms\tremaining: 1.6s\n"
     ]
    },
    {
     "name": "stdout",
     "output_type": "stream",
     "text": [
      "149:\tlearn: 0.0520097\ttotal: 282ms\tremaining: 1.59s\n",
      "150:\tlearn: 0.0518058\ttotal: 282ms\tremaining: 1.59s\n",
      "151:\tlearn: 0.0515870\ttotal: 285ms\tremaining: 1.59s\n",
      "152:\tlearn: 0.0512368\ttotal: 286ms\tremaining: 1.58s\n",
      "153:\tlearn: 0.0510199\ttotal: 287ms\tremaining: 1.58s\n",
      "154:\tlearn: 0.0507762\ttotal: 287ms\tremaining: 1.57s\n",
      "155:\tlearn: 0.0504735\ttotal: 294ms\tremaining: 1.59s\n",
      "156:\tlearn: 0.0502680\ttotal: 298ms\tremaining: 1.6s\n",
      "157:\tlearn: 0.0500836\ttotal: 300ms\tremaining: 1.6s\n",
      "158:\tlearn: 0.0498779\ttotal: 302ms\tremaining: 1.59s\n",
      "159:\tlearn: 0.0496353\ttotal: 303ms\tremaining: 1.59s\n",
      "160:\tlearn: 0.0495039\ttotal: 304ms\tremaining: 1.58s\n",
      "161:\tlearn: 0.0492555\ttotal: 305ms\tremaining: 1.58s\n",
      "162:\tlearn: 0.0490324\ttotal: 308ms\tremaining: 1.58s\n",
      "163:\tlearn: 0.0488584\ttotal: 308ms\tremaining: 1.57s\n",
      "164:\tlearn: 0.0486234\ttotal: 309ms\tremaining: 1.56s\n",
      "165:\tlearn: 0.0484601\ttotal: 309ms\tremaining: 1.55s\n",
      "166:\tlearn: 0.0482416\ttotal: 310ms\tremaining: 1.55s\n",
      "167:\tlearn: 0.0480801\ttotal: 311ms\tremaining: 1.54s\n",
      "168:\tlearn: 0.0478524\ttotal: 311ms\tremaining: 1.53s\n",
      "169:\tlearn: 0.0476697\ttotal: 313ms\tremaining: 1.53s\n",
      "170:\tlearn: 0.0474708\ttotal: 315ms\tremaining: 1.52s\n",
      "171:\tlearn: 0.0472358\ttotal: 315ms\tremaining: 1.52s\n",
      "172:\tlearn: 0.0469988\ttotal: 316ms\tremaining: 1.51s\n",
      "173:\tlearn: 0.0468187\ttotal: 317ms\tremaining: 1.5s\n",
      "174:\tlearn: 0.0466805\ttotal: 317ms\tremaining: 1.5s\n",
      "175:\tlearn: 0.0465458\ttotal: 318ms\tremaining: 1.49s\n",
      "176:\tlearn: 0.0463546\ttotal: 318ms\tremaining: 1.48s\n",
      "177:\tlearn: 0.0461824\ttotal: 319ms\tremaining: 1.47s\n",
      "178:\tlearn: 0.0460440\ttotal: 319ms\tremaining: 1.46s\n",
      "179:\tlearn: 0.0458963\ttotal: 324ms\tremaining: 1.48s\n",
      "180:\tlearn: 0.0457171\ttotal: 325ms\tremaining: 1.47s\n",
      "181:\tlearn: 0.0455445\ttotal: 325ms\tremaining: 1.46s\n",
      "182:\tlearn: 0.0453837\ttotal: 334ms\tremaining: 1.49s\n",
      "183:\tlearn: 0.0452452\ttotal: 340ms\tremaining: 1.51s\n",
      "184:\tlearn: 0.0451200\ttotal: 340ms\tremaining: 1.5s\n",
      "185:\tlearn: 0.0450163\ttotal: 341ms\tremaining: 1.49s\n",
      "186:\tlearn: 0.0448129\ttotal: 342ms\tremaining: 1.49s\n",
      "187:\tlearn: 0.0447106\ttotal: 343ms\tremaining: 1.48s\n",
      "188:\tlearn: 0.0445953\ttotal: 344ms\tremaining: 1.47s\n",
      "189:\tlearn: 0.0444356\ttotal: 345ms\tremaining: 1.47s\n",
      "190:\tlearn: 0.0443138\ttotal: 345ms\tremaining: 1.46s\n",
      "191:\tlearn: 0.0441764\ttotal: 345ms\tremaining: 1.45s\n",
      "192:\tlearn: 0.0440057\ttotal: 346ms\tremaining: 1.45s\n",
      "193:\tlearn: 0.0437149\ttotal: 346ms\tremaining: 1.44s\n",
      "194:\tlearn: 0.0435121\ttotal: 346ms\tremaining: 1.43s\n",
      "195:\tlearn: 0.0433227\ttotal: 347ms\tremaining: 1.42s\n"
     ]
    },
    {
     "name": "stdout",
     "output_type": "stream",
     "text": [
      "196:\tlearn: 0.0432170\ttotal: 354ms\tremaining: 1.44s\n",
      "197:\tlearn: 0.0430657\ttotal: 355ms\tremaining: 1.44s\n",
      "198:\tlearn: 0.0429555\ttotal: 356ms\tremaining: 1.43s\n",
      "199:\tlearn: 0.0428523\ttotal: 356ms\tremaining: 1.43s\n",
      "200:\tlearn: 0.0427194\ttotal: 357ms\tremaining: 1.42s\n",
      "201:\tlearn: 0.0425497\ttotal: 358ms\tremaining: 1.41s\n",
      "202:\tlearn: 0.0424170\ttotal: 358ms\tremaining: 1.41s\n",
      "203:\tlearn: 0.0423198\ttotal: 359ms\tremaining: 1.4s\n",
      "204:\tlearn: 0.0421959\ttotal: 360ms\tremaining: 1.39s\n",
      "205:\tlearn: 0.0419818\ttotal: 360ms\tremaining: 1.39s\n",
      "206:\tlearn: 0.0418469\ttotal: 361ms\tremaining: 1.38s\n",
      "207:\tlearn: 0.0416998\ttotal: 362ms\tremaining: 1.38s\n",
      "208:\tlearn: 0.0416162\ttotal: 362ms\tremaining: 1.37s\n",
      "209:\tlearn: 0.0413670\ttotal: 363ms\tremaining: 1.36s\n",
      "210:\tlearn: 0.0412414\ttotal: 364ms\tremaining: 1.36s\n",
      "211:\tlearn: 0.0409990\ttotal: 364ms\tremaining: 1.35s\n",
      "212:\tlearn: 0.0408690\ttotal: 365ms\tremaining: 1.35s\n",
      "213:\tlearn: 0.0406257\ttotal: 365ms\tremaining: 1.34s\n",
      "214:\tlearn: 0.0405418\ttotal: 366ms\tremaining: 1.33s\n",
      "215:\tlearn: 0.0404403\ttotal: 366ms\tremaining: 1.33s\n",
      "216:\tlearn: 0.0403630\ttotal: 367ms\tremaining: 1.32s\n",
      "217:\tlearn: 0.0402355\ttotal: 368ms\tremaining: 1.32s\n",
      "218:\tlearn: 0.0401376\ttotal: 370ms\tremaining: 1.32s\n",
      "219:\tlearn: 0.0399568\ttotal: 370ms\tremaining: 1.31s\n",
      "220:\tlearn: 0.0397501\ttotal: 372ms\tremaining: 1.31s\n",
      "221:\tlearn: 0.0396497\ttotal: 372ms\tremaining: 1.3s\n",
      "222:\tlearn: 0.0395675\ttotal: 373ms\tremaining: 1.3s\n",
      "223:\tlearn: 0.0394269\ttotal: 374ms\tremaining: 1.3s\n",
      "224:\tlearn: 0.0393035\ttotal: 375ms\tremaining: 1.29s\n",
      "225:\tlearn: 0.0392134\ttotal: 376ms\tremaining: 1.29s\n",
      "226:\tlearn: 0.0391497\ttotal: 377ms\tremaining: 1.28s\n",
      "227:\tlearn: 0.0389617\ttotal: 377ms\tremaining: 1.28s\n",
      "228:\tlearn: 0.0388208\ttotal: 378ms\tremaining: 1.27s\n",
      "229:\tlearn: 0.0386283\ttotal: 379ms\tremaining: 1.27s\n",
      "230:\tlearn: 0.0384943\ttotal: 379ms\tremaining: 1.26s\n",
      "231:\tlearn: 0.0383147\ttotal: 380ms\tremaining: 1.26s\n",
      "232:\tlearn: 0.0381797\ttotal: 380ms\tremaining: 1.25s\n",
      "233:\tlearn: 0.0380911\ttotal: 381ms\tremaining: 1.25s\n",
      "234:\tlearn: 0.0380116\ttotal: 381ms\tremaining: 1.24s\n",
      "235:\tlearn: 0.0378939\ttotal: 382ms\tremaining: 1.24s\n",
      "236:\tlearn: 0.0377846\ttotal: 382ms\tremaining: 1.23s\n",
      "237:\tlearn: 0.0377126\ttotal: 383ms\tremaining: 1.23s\n",
      "238:\tlearn: 0.0376334\ttotal: 384ms\tremaining: 1.22s\n",
      "239:\tlearn: 0.0375812\ttotal: 384ms\tremaining: 1.22s\n",
      "240:\tlearn: 0.0375110\ttotal: 385ms\tremaining: 1.21s\n",
      "241:\tlearn: 0.0373979\ttotal: 385ms\tremaining: 1.21s\n",
      "242:\tlearn: 0.0373212\ttotal: 386ms\tremaining: 1.2s\n",
      "243:\tlearn: 0.0371966\ttotal: 387ms\tremaining: 1.2s\n",
      "244:\tlearn: 0.0370955\ttotal: 387ms\tremaining: 1.19s\n",
      "245:\tlearn: 0.0370141\ttotal: 388ms\tremaining: 1.19s\n",
      "246:\tlearn: 0.0368953\ttotal: 388ms\tremaining: 1.18s\n",
      "247:\tlearn: 0.0367974\ttotal: 389ms\tremaining: 1.18s\n",
      "248:\tlearn: 0.0367344\ttotal: 389ms\tremaining: 1.17s\n",
      "249:\tlearn: 0.0366543\ttotal: 390ms\tremaining: 1.17s\n",
      "250:\tlearn: 0.0365623\ttotal: 390ms\tremaining: 1.17s\n",
      "251:\tlearn: 0.0364542\ttotal: 391ms\tremaining: 1.16s\n",
      "252:\tlearn: 0.0363465\ttotal: 392ms\tremaining: 1.16s\n",
      "253:\tlearn: 0.0362160\ttotal: 392ms\tremaining: 1.15s\n",
      "254:\tlearn: 0.0361694\ttotal: 393ms\tremaining: 1.15s\n",
      "255:\tlearn: 0.0360623\ttotal: 393ms\tremaining: 1.14s\n",
      "256:\tlearn: 0.0358697\ttotal: 394ms\tremaining: 1.14s\n",
      "257:\tlearn: 0.0357878\ttotal: 395ms\tremaining: 1.14s\n",
      "258:\tlearn: 0.0356637\ttotal: 395ms\tremaining: 1.13s\n",
      "259:\tlearn: 0.0356141\ttotal: 396ms\tremaining: 1.13s\n",
      "260:\tlearn: 0.0355711\ttotal: 396ms\tremaining: 1.12s\n",
      "261:\tlearn: 0.0354781\ttotal: 397ms\tremaining: 1.12s\n",
      "262:\tlearn: 0.0354326\ttotal: 397ms\tremaining: 1.11s\n",
      "263:\tlearn: 0.0352572\ttotal: 398ms\tremaining: 1.11s\n",
      "264:\tlearn: 0.0351811\ttotal: 398ms\tremaining: 1.1s\n",
      "265:\tlearn: 0.0351140\ttotal: 399ms\tremaining: 1.1s\n",
      "266:\tlearn: 0.0350514\ttotal: 400ms\tremaining: 1.1s\n",
      "267:\tlearn: 0.0349242\ttotal: 400ms\tremaining: 1.09s\n",
      "268:\tlearn: 0.0347595\ttotal: 401ms\tremaining: 1.09s\n",
      "269:\tlearn: 0.0346219\ttotal: 401ms\tremaining: 1.08s\n",
      "270:\tlearn: 0.0345529\ttotal: 402ms\tremaining: 1.08s\n",
      "271:\tlearn: 0.0344303\ttotal: 402ms\tremaining: 1.08s\n",
      "272:\tlearn: 0.0343675\ttotal: 403ms\tremaining: 1.07s\n",
      "273:\tlearn: 0.0342696\ttotal: 403ms\tremaining: 1.07s\n",
      "274:\tlearn: 0.0342071\ttotal: 404ms\tremaining: 1.06s\n",
      "275:\tlearn: 0.0340605\ttotal: 404ms\tremaining: 1.06s\n",
      "276:\tlearn: 0.0340020\ttotal: 405ms\tremaining: 1.06s\n",
      "277:\tlearn: 0.0339413\ttotal: 405ms\tremaining: 1.05s\n",
      "278:\tlearn: 0.0337705\ttotal: 406ms\tremaining: 1.05s\n",
      "279:\tlearn: 0.0336997\ttotal: 407ms\tremaining: 1.05s\n",
      "280:\tlearn: 0.0335492\ttotal: 408ms\tremaining: 1.04s\n",
      "281:\tlearn: 0.0335103\ttotal: 408ms\tremaining: 1.04s\n",
      "282:\tlearn: 0.0334509\ttotal: 409ms\tremaining: 1.03s\n",
      "283:\tlearn: 0.0333978\ttotal: 409ms\tremaining: 1.03s\n",
      "284:\tlearn: 0.0333341\ttotal: 410ms\tremaining: 1.03s\n",
      "285:\tlearn: 0.0332017\ttotal: 410ms\tremaining: 1.02s\n",
      "286:\tlearn: 0.0331034\ttotal: 411ms\tremaining: 1.02s\n",
      "287:\tlearn: 0.0330246\ttotal: 411ms\tremaining: 1.01s\n"
     ]
    },
    {
     "name": "stdout",
     "output_type": "stream",
     "text": [
      "288:\tlearn: 0.0329484\ttotal: 412ms\tremaining: 1.01s\n",
      "289:\tlearn: 0.0328753\ttotal: 414ms\tremaining: 1.01s\n",
      "290:\tlearn: 0.0327982\ttotal: 415ms\tremaining: 1.01s\n",
      "291:\tlearn: 0.0326735\ttotal: 415ms\tremaining: 1.01s\n",
      "292:\tlearn: 0.0325290\ttotal: 416ms\tremaining: 1s\n",
      "293:\tlearn: 0.0324478\ttotal: 416ms\tremaining: 999ms\n",
      "294:\tlearn: 0.0324058\ttotal: 417ms\tremaining: 997ms\n",
      "295:\tlearn: 0.0323288\ttotal: 418ms\tremaining: 994ms\n",
      "296:\tlearn: 0.0321962\ttotal: 418ms\tremaining: 990ms\n",
      "297:\tlearn: 0.0321383\ttotal: 419ms\tremaining: 987ms\n",
      "298:\tlearn: 0.0320658\ttotal: 419ms\tremaining: 983ms\n",
      "299:\tlearn: 0.0320031\ttotal: 420ms\tremaining: 979ms\n",
      "300:\tlearn: 0.0319491\ttotal: 423ms\tremaining: 982ms\n",
      "301:\tlearn: 0.0318789\ttotal: 423ms\tremaining: 978ms\n",
      "302:\tlearn: 0.0318462\ttotal: 427ms\tremaining: 983ms\n",
      "303:\tlearn: 0.0317486\ttotal: 428ms\tremaining: 980ms\n",
      "304:\tlearn: 0.0316972\ttotal: 429ms\tremaining: 978ms\n",
      "305:\tlearn: 0.0315743\ttotal: 430ms\tremaining: 975ms\n",
      "306:\tlearn: 0.0315093\ttotal: 430ms\tremaining: 971ms\n",
      "307:\tlearn: 0.0313950\ttotal: 431ms\tremaining: 968ms\n",
      "308:\tlearn: 0.0313574\ttotal: 432ms\tremaining: 967ms\n",
      "309:\tlearn: 0.0313068\ttotal: 433ms\tremaining: 963ms\n",
      "310:\tlearn: 0.0312593\ttotal: 433ms\tremaining: 960ms\n",
      "311:\tlearn: 0.0311908\ttotal: 434ms\tremaining: 957ms\n",
      "312:\tlearn: 0.0310818\ttotal: 434ms\tremaining: 954ms\n",
      "313:\tlearn: 0.0310158\ttotal: 435ms\tremaining: 951ms\n",
      "314:\tlearn: 0.0309582\ttotal: 436ms\tremaining: 947ms\n",
      "315:\tlearn: 0.0309151\ttotal: 436ms\tremaining: 944ms\n",
      "316:\tlearn: 0.0308628\ttotal: 437ms\tremaining: 941ms\n",
      "317:\tlearn: 0.0308272\ttotal: 437ms\tremaining: 938ms\n",
      "318:\tlearn: 0.0307660\ttotal: 438ms\tremaining: 935ms\n",
      "319:\tlearn: 0.0306952\ttotal: 439ms\tremaining: 934ms\n",
      "320:\tlearn: 0.0306459\ttotal: 441ms\tremaining: 933ms\n",
      "321:\tlearn: 0.0305794\ttotal: 442ms\tremaining: 930ms\n",
      "322:\tlearn: 0.0304831\ttotal: 442ms\tremaining: 927ms\n",
      "323:\tlearn: 0.0303981\ttotal: 443ms\tremaining: 924ms\n",
      "324:\tlearn: 0.0303344\ttotal: 445ms\tremaining: 923ms\n",
      "325:\tlearn: 0.0302716\ttotal: 445ms\tremaining: 920ms\n",
      "326:\tlearn: 0.0302128\ttotal: 446ms\tremaining: 917ms\n",
      "327:\tlearn: 0.0301623\ttotal: 446ms\tremaining: 914ms\n",
      "328:\tlearn: 0.0301198\ttotal: 447ms\tremaining: 911ms\n",
      "329:\tlearn: 0.0300392\ttotal: 447ms\tremaining: 908ms\n",
      "330:\tlearn: 0.0299493\ttotal: 448ms\tremaining: 905ms\n",
      "331:\tlearn: 0.0298902\ttotal: 449ms\tremaining: 903ms\n",
      "332:\tlearn: 0.0298423\ttotal: 451ms\tremaining: 904ms\n",
      "333:\tlearn: 0.0297810\ttotal: 452ms\tremaining: 901ms\n",
      "334:\tlearn: 0.0297471\ttotal: 452ms\tremaining: 897ms\n",
      "335:\tlearn: 0.0296435\ttotal: 452ms\tremaining: 894ms\n",
      "336:\tlearn: 0.0296134\ttotal: 453ms\tremaining: 891ms\n",
      "337:\tlearn: 0.0295837\ttotal: 453ms\tremaining: 888ms\n",
      "338:\tlearn: 0.0294982\ttotal: 454ms\tremaining: 885ms\n",
      "339:\tlearn: 0.0294474\ttotal: 454ms\tremaining: 881ms\n",
      "340:\tlearn: 0.0293877\ttotal: 454ms\tremaining: 878ms\n",
      "341:\tlearn: 0.0293536\ttotal: 455ms\tremaining: 875ms\n",
      "342:\tlearn: 0.0293097\ttotal: 456ms\tremaining: 873ms\n",
      "343:\tlearn: 0.0292371\ttotal: 456ms\tremaining: 871ms\n",
      "344:\tlearn: 0.0291697\ttotal: 457ms\tremaining: 867ms\n",
      "345:\tlearn: 0.0290724\ttotal: 457ms\tremaining: 864ms\n",
      "346:\tlearn: 0.0290459\ttotal: 458ms\tremaining: 861ms\n",
      "347:\tlearn: 0.0290205\ttotal: 458ms\tremaining: 858ms\n",
      "348:\tlearn: 0.0289742\ttotal: 458ms\tremaining: 855ms\n",
      "349:\tlearn: 0.0289292\ttotal: 459ms\tremaining: 852ms\n",
      "350:\tlearn: 0.0288889\ttotal: 459ms\tremaining: 848ms\n",
      "351:\tlearn: 0.0288021\ttotal: 459ms\tremaining: 845ms\n",
      "352:\tlearn: 0.0287127\ttotal: 460ms\tremaining: 842ms\n",
      "353:\tlearn: 0.0286160\ttotal: 460ms\tremaining: 840ms\n",
      "354:\tlearn: 0.0285854\ttotal: 460ms\tremaining: 836ms\n",
      "355:\tlearn: 0.0285625\ttotal: 461ms\tremaining: 833ms\n",
      "356:\tlearn: 0.0285096\ttotal: 461ms\tremaining: 831ms\n",
      "357:\tlearn: 0.0284534\ttotal: 462ms\tremaining: 829ms\n",
      "358:\tlearn: 0.0284101\ttotal: 463ms\tremaining: 826ms\n",
      "359:\tlearn: 0.0283706\ttotal: 463ms\tremaining: 823ms\n",
      "360:\tlearn: 0.0283401\ttotal: 464ms\tremaining: 821ms\n",
      "361:\tlearn: 0.0282842\ttotal: 464ms\tremaining: 818ms\n",
      "362:\tlearn: 0.0282299\ttotal: 465ms\tremaining: 815ms\n",
      "363:\tlearn: 0.0281923\ttotal: 465ms\tremaining: 812ms\n",
      "364:\tlearn: 0.0281667\ttotal: 465ms\tremaining: 809ms\n",
      "365:\tlearn: 0.0281446\ttotal: 466ms\tremaining: 807ms\n",
      "366:\tlearn: 0.0280956\ttotal: 466ms\tremaining: 804ms\n",
      "367:\tlearn: 0.0280069\ttotal: 467ms\tremaining: 801ms\n",
      "368:\tlearn: 0.0279659\ttotal: 467ms\tremaining: 798ms\n",
      "369:\tlearn: 0.0278950\ttotal: 469ms\tremaining: 798ms\n",
      "370:\tlearn: 0.0278142\ttotal: 469ms\tremaining: 795ms\n",
      "371:\tlearn: 0.0277704\ttotal: 469ms\tremaining: 792ms\n",
      "372:\tlearn: 0.0277326\ttotal: 469ms\tremaining: 789ms\n",
      "373:\tlearn: 0.0276872\ttotal: 470ms\tremaining: 786ms\n",
      "374:\tlearn: 0.0276488\ttotal: 470ms\tremaining: 783ms\n",
      "375:\tlearn: 0.0275970\ttotal: 471ms\tremaining: 781ms\n",
      "376:\tlearn: 0.0275261\ttotal: 471ms\tremaining: 779ms\n",
      "377:\tlearn: 0.0275050\ttotal: 472ms\tremaining: 776ms\n",
      "378:\tlearn: 0.0274150\ttotal: 472ms\tremaining: 773ms\n",
      "379:\tlearn: 0.0273489\ttotal: 472ms\tremaining: 770ms\n",
      "380:\tlearn: 0.0272641\ttotal: 472ms\tremaining: 767ms\n",
      "381:\tlearn: 0.0271887\ttotal: 473ms\tremaining: 765ms\n",
      "382:\tlearn: 0.0271465\ttotal: 473ms\tremaining: 762ms\n",
      "383:\tlearn: 0.0270935\ttotal: 474ms\tremaining: 760ms\n",
      "384:\tlearn: 0.0270325\ttotal: 474ms\tremaining: 758ms\n",
      "385:\tlearn: 0.0269446\ttotal: 475ms\tremaining: 755ms\n",
      "386:\tlearn: 0.0268814\ttotal: 475ms\tremaining: 752ms\n",
      "387:\tlearn: 0.0268477\ttotal: 475ms\tremaining: 749ms\n",
      "388:\tlearn: 0.0268242\ttotal: 475ms\tremaining: 747ms\n",
      "389:\tlearn: 0.0267381\ttotal: 476ms\tremaining: 744ms\n",
      "390:\tlearn: 0.0267187\ttotal: 477ms\tremaining: 742ms\n",
      "391:\tlearn: 0.0266480\ttotal: 477ms\tremaining: 740ms\n",
      "392:\tlearn: 0.0266259\ttotal: 477ms\tremaining: 737ms\n",
      "393:\tlearn: 0.0266035\ttotal: 478ms\tremaining: 735ms\n",
      "394:\tlearn: 0.0265489\ttotal: 478ms\tremaining: 732ms\n",
      "395:\tlearn: 0.0265187\ttotal: 478ms\tremaining: 729ms\n",
      "396:\tlearn: 0.0264856\ttotal: 479ms\tremaining: 727ms\n",
      "397:\tlearn: 0.0264656\ttotal: 481ms\tremaining: 727ms\n",
      "398:\tlearn: 0.0264385\ttotal: 481ms\tremaining: 725ms\n",
      "399:\tlearn: 0.0263796\ttotal: 482ms\tremaining: 722ms\n",
      "400:\tlearn: 0.0263491\ttotal: 482ms\tremaining: 720ms\n",
      "401:\tlearn: 0.0262731\ttotal: 482ms\tremaining: 718ms\n",
      "402:\tlearn: 0.0262119\ttotal: 483ms\tremaining: 715ms\n",
      "403:\tlearn: 0.0261309\ttotal: 483ms\tremaining: 713ms\n",
      "404:\tlearn: 0.0260767\ttotal: 484ms\tremaining: 710ms\n",
      "405:\tlearn: 0.0260210\ttotal: 484ms\tremaining: 709ms\n",
      "406:\tlearn: 0.0259826\ttotal: 485ms\tremaining: 707ms\n",
      "407:\tlearn: 0.0259292\ttotal: 486ms\tremaining: 705ms\n",
      "408:\tlearn: 0.0258708\ttotal: 486ms\tremaining: 702ms\n",
      "409:\tlearn: 0.0258002\ttotal: 486ms\tremaining: 700ms\n",
      "410:\tlearn: 0.0257308\ttotal: 487ms\tremaining: 697ms\n",
      "411:\tlearn: 0.0257120\ttotal: 487ms\tremaining: 695ms\n",
      "412:\tlearn: 0.0256848\ttotal: 487ms\tremaining: 692ms\n",
      "413:\tlearn: 0.0256669\ttotal: 487ms\tremaining: 690ms\n",
      "414:\tlearn: 0.0256492\ttotal: 488ms\tremaining: 688ms\n",
      "415:\tlearn: 0.0256331\ttotal: 488ms\tremaining: 685ms\n",
      "416:\tlearn: 0.0255770\ttotal: 488ms\tremaining: 683ms\n",
      "417:\tlearn: 0.0255537\ttotal: 488ms\tremaining: 680ms\n",
      "418:\tlearn: 0.0255163\ttotal: 491ms\tremaining: 681ms\n",
      "419:\tlearn: 0.0254714\ttotal: 491ms\tremaining: 679ms\n",
      "420:\tlearn: 0.0254393\ttotal: 492ms\tremaining: 676ms\n",
      "421:\tlearn: 0.0253660\ttotal: 492ms\tremaining: 674ms\n",
      "422:\tlearn: 0.0252963\ttotal: 492ms\tremaining: 671ms\n",
      "423:\tlearn: 0.0252468\ttotal: 492ms\tremaining: 669ms\n",
      "424:\tlearn: 0.0251953\ttotal: 493ms\tremaining: 667ms\n",
      "425:\tlearn: 0.0251621\ttotal: 494ms\tremaining: 665ms\n",
      "426:\tlearn: 0.0251381\ttotal: 494ms\tremaining: 663ms\n"
     ]
    },
    {
     "name": "stdout",
     "output_type": "stream",
     "text": [
      "427:\tlearn: 0.0251034\ttotal: 496ms\tremaining: 662ms\n",
      "428:\tlearn: 0.0250398\ttotal: 496ms\tremaining: 661ms\n",
      "429:\tlearn: 0.0249965\ttotal: 497ms\tremaining: 659ms\n",
      "430:\tlearn: 0.0249552\ttotal: 497ms\tremaining: 657ms\n",
      "431:\tlearn: 0.0249379\ttotal: 498ms\tremaining: 655ms\n",
      "432:\tlearn: 0.0249106\ttotal: 498ms\tremaining: 653ms\n",
      "433:\tlearn: 0.0248689\ttotal: 499ms\tremaining: 651ms\n",
      "434:\tlearn: 0.0248406\ttotal: 499ms\tremaining: 649ms\n",
      "435:\tlearn: 0.0248187\ttotal: 500ms\tremaining: 646ms\n",
      "436:\tlearn: 0.0247700\ttotal: 500ms\tremaining: 644ms\n",
      "437:\tlearn: 0.0247117\ttotal: 501ms\tremaining: 643ms\n",
      "438:\tlearn: 0.0246467\ttotal: 501ms\tremaining: 641ms\n",
      "439:\tlearn: 0.0246228\ttotal: 502ms\tremaining: 638ms\n",
      "440:\tlearn: 0.0245755\ttotal: 502ms\tremaining: 637ms\n",
      "441:\tlearn: 0.0245367\ttotal: 503ms\tremaining: 635ms\n",
      "442:\tlearn: 0.0245209\ttotal: 503ms\tremaining: 633ms\n",
      "443:\tlearn: 0.0244734\ttotal: 504ms\tremaining: 631ms\n",
      "444:\tlearn: 0.0244570\ttotal: 504ms\tremaining: 629ms\n",
      "445:\tlearn: 0.0244411\ttotal: 504ms\tremaining: 627ms\n",
      "446:\tlearn: 0.0244048\ttotal: 505ms\tremaining: 624ms\n",
      "447:\tlearn: 0.0243727\ttotal: 505ms\tremaining: 622ms\n",
      "448:\tlearn: 0.0243530\ttotal: 505ms\tremaining: 620ms\n",
      "449:\tlearn: 0.0243163\ttotal: 506ms\tremaining: 618ms\n",
      "450:\tlearn: 0.0243012\ttotal: 507ms\tremaining: 617ms\n",
      "451:\tlearn: 0.0242287\ttotal: 507ms\tremaining: 615ms\n",
      "452:\tlearn: 0.0242140\ttotal: 507ms\tremaining: 613ms\n",
      "453:\tlearn: 0.0241792\ttotal: 508ms\tremaining: 610ms\n",
      "454:\tlearn: 0.0241390\ttotal: 508ms\tremaining: 608ms\n",
      "455:\tlearn: 0.0241133\ttotal: 508ms\tremaining: 606ms\n",
      "456:\tlearn: 0.0240684\ttotal: 509ms\tremaining: 604ms\n",
      "457:\tlearn: 0.0240251\ttotal: 509ms\tremaining: 602ms\n",
      "458:\tlearn: 0.0240065\ttotal: 510ms\tremaining: 601ms\n",
      "459:\tlearn: 0.0239736\ttotal: 511ms\tremaining: 599ms\n",
      "460:\tlearn: 0.0239367\ttotal: 511ms\tremaining: 597ms\n",
      "461:\tlearn: 0.0239070\ttotal: 512ms\tremaining: 596ms\n",
      "462:\tlearn: 0.0238585\ttotal: 513ms\tremaining: 594ms\n",
      "463:\tlearn: 0.0238396\ttotal: 513ms\tremaining: 592ms\n",
      "464:\tlearn: 0.0237927\ttotal: 513ms\tremaining: 590ms\n",
      "465:\tlearn: 0.0237627\ttotal: 514ms\tremaining: 589ms\n",
      "466:\tlearn: 0.0237490\ttotal: 514ms\tremaining: 587ms\n",
      "467:\tlearn: 0.0237359\ttotal: 515ms\tremaining: 585ms\n",
      "468:\tlearn: 0.0237210\ttotal: 515ms\tremaining: 583ms\n",
      "469:\tlearn: 0.0237041\ttotal: 515ms\tremaining: 581ms\n",
      "470:\tlearn: 0.0236909\ttotal: 516ms\tremaining: 580ms\n",
      "471:\tlearn: 0.0236590\ttotal: 517ms\tremaining: 578ms\n",
      "472:\tlearn: 0.0236334\ttotal: 517ms\tremaining: 576ms\n",
      "473:\tlearn: 0.0236079\ttotal: 518ms\tremaining: 575ms\n",
      "474:\tlearn: 0.0235859\ttotal: 518ms\tremaining: 573ms\n",
      "475:\tlearn: 0.0235466\ttotal: 518ms\tremaining: 571ms\n",
      "476:\tlearn: 0.0235081\ttotal: 519ms\tremaining: 569ms\n",
      "477:\tlearn: 0.0234607\ttotal: 519ms\tremaining: 567ms\n",
      "478:\tlearn: 0.0234005\ttotal: 519ms\tremaining: 565ms\n",
      "479:\tlearn: 0.0233707\ttotal: 520ms\tremaining: 563ms\n",
      "480:\tlearn: 0.0233499\ttotal: 520ms\tremaining: 561ms\n",
      "481:\tlearn: 0.0232865\ttotal: 520ms\tremaining: 559ms\n",
      "482:\tlearn: 0.0232248\ttotal: 521ms\tremaining: 557ms\n",
      "483:\tlearn: 0.0231903\ttotal: 521ms\tremaining: 555ms\n",
      "484:\tlearn: 0.0231457\ttotal: 521ms\tremaining: 554ms\n",
      "485:\tlearn: 0.0231170\ttotal: 522ms\tremaining: 552ms\n",
      "486:\tlearn: 0.0230930\ttotal: 523ms\tremaining: 551ms\n",
      "487:\tlearn: 0.0230634\ttotal: 523ms\tremaining: 549ms\n",
      "488:\tlearn: 0.0230110\ttotal: 523ms\tremaining: 547ms\n",
      "489:\tlearn: 0.0229679\ttotal: 524ms\tremaining: 545ms\n",
      "490:\tlearn: 0.0229553\ttotal: 524ms\tremaining: 544ms\n",
      "491:\tlearn: 0.0229283\ttotal: 525ms\tremaining: 542ms\n",
      "492:\tlearn: 0.0228904\ttotal: 525ms\tremaining: 540ms\n",
      "493:\tlearn: 0.0228599\ttotal: 525ms\tremaining: 538ms\n",
      "494:\tlearn: 0.0228340\ttotal: 526ms\tremaining: 536ms\n",
      "495:\tlearn: 0.0228170\ttotal: 526ms\tremaining: 534ms\n",
      "496:\tlearn: 0.0227569\ttotal: 527ms\tremaining: 533ms\n",
      "497:\tlearn: 0.0227396\ttotal: 527ms\tremaining: 531ms\n",
      "498:\tlearn: 0.0226833\ttotal: 528ms\tremaining: 530ms\n",
      "499:\tlearn: 0.0226583\ttotal: 528ms\tremaining: 528ms\n",
      "500:\tlearn: 0.0226455\ttotal: 528ms\tremaining: 526ms\n",
      "501:\tlearn: 0.0226218\ttotal: 529ms\tremaining: 524ms\n",
      "502:\tlearn: 0.0225914\ttotal: 529ms\tremaining: 523ms\n",
      "503:\tlearn: 0.0225695\ttotal: 529ms\tremaining: 521ms\n",
      "504:\tlearn: 0.0225556\ttotal: 530ms\tremaining: 520ms\n",
      "505:\tlearn: 0.0225438\ttotal: 531ms\tremaining: 518ms\n",
      "506:\tlearn: 0.0225075\ttotal: 531ms\tremaining: 517ms\n",
      "507:\tlearn: 0.0224845\ttotal: 531ms\tremaining: 515ms\n",
      "508:\tlearn: 0.0224687\ttotal: 532ms\tremaining: 513ms\n",
      "509:\tlearn: 0.0224531\ttotal: 532ms\tremaining: 511ms\n",
      "510:\tlearn: 0.0224333\ttotal: 532ms\tremaining: 510ms\n",
      "511:\tlearn: 0.0224075\ttotal: 533ms\tremaining: 508ms\n",
      "512:\tlearn: 0.0223519\ttotal: 534ms\tremaining: 507ms\n",
      "513:\tlearn: 0.0223166\ttotal: 534ms\tremaining: 505ms\n",
      "514:\tlearn: 0.0222982\ttotal: 534ms\tremaining: 503ms\n",
      "515:\tlearn: 0.0222785\ttotal: 535ms\tremaining: 501ms\n",
      "516:\tlearn: 0.0222675\ttotal: 535ms\tremaining: 500ms\n",
      "517:\tlearn: 0.0222337\ttotal: 535ms\tremaining: 498ms\n",
      "518:\tlearn: 0.0222050\ttotal: 536ms\tremaining: 496ms\n",
      "519:\tlearn: 0.0221692\ttotal: 536ms\tremaining: 495ms\n",
      "520:\tlearn: 0.0221318\ttotal: 537ms\tremaining: 494ms\n",
      "521:\tlearn: 0.0221210\ttotal: 537ms\tremaining: 492ms\n",
      "522:\tlearn: 0.0220949\ttotal: 537ms\tremaining: 490ms\n",
      "523:\tlearn: 0.0220752\ttotal: 538ms\tremaining: 488ms\n",
      "524:\tlearn: 0.0220476\ttotal: 538ms\tremaining: 487ms\n",
      "525:\tlearn: 0.0220179\ttotal: 538ms\tremaining: 485ms\n",
      "526:\tlearn: 0.0219817\ttotal: 539ms\tremaining: 483ms\n",
      "527:\tlearn: 0.0219631\ttotal: 539ms\tremaining: 482ms\n",
      "528:\tlearn: 0.0219468\ttotal: 540ms\tremaining: 481ms\n",
      "529:\tlearn: 0.0218954\ttotal: 540ms\tremaining: 479ms\n",
      "530:\tlearn: 0.0218793\ttotal: 540ms\tremaining: 477ms\n",
      "531:\tlearn: 0.0218486\ttotal: 541ms\tremaining: 476ms\n",
      "532:\tlearn: 0.0218192\ttotal: 541ms\tremaining: 474ms\n",
      "533:\tlearn: 0.0217828\ttotal: 541ms\tremaining: 472ms\n",
      "534:\tlearn: 0.0217547\ttotal: 542ms\tremaining: 471ms\n",
      "535:\tlearn: 0.0217273\ttotal: 543ms\tremaining: 470ms\n",
      "536:\tlearn: 0.0216891\ttotal: 543ms\tremaining: 468ms\n",
      "537:\tlearn: 0.0216718\ttotal: 543ms\tremaining: 467ms\n",
      "538:\tlearn: 0.0216387\ttotal: 544ms\tremaining: 465ms\n",
      "539:\tlearn: 0.0216066\ttotal: 544ms\tremaining: 463ms\n",
      "540:\tlearn: 0.0215965\ttotal: 545ms\tremaining: 463ms\n",
      "541:\tlearn: 0.0215716\ttotal: 546ms\tremaining: 461ms\n",
      "542:\tlearn: 0.0215594\ttotal: 546ms\tremaining: 460ms\n",
      "543:\tlearn: 0.0215369\ttotal: 547ms\tremaining: 458ms\n",
      "544:\tlearn: 0.0215036\ttotal: 547ms\tremaining: 457ms\n",
      "545:\tlearn: 0.0214544\ttotal: 548ms\tremaining: 456ms\n",
      "546:\tlearn: 0.0214257\ttotal: 548ms\tremaining: 454ms\n",
      "547:\tlearn: 0.0213938\ttotal: 548ms\tremaining: 452ms\n",
      "548:\tlearn: 0.0213842\ttotal: 549ms\tremaining: 451ms\n",
      "549:\tlearn: 0.0213451\ttotal: 549ms\tremaining: 450ms\n",
      "550:\tlearn: 0.0213352\ttotal: 550ms\tremaining: 448ms\n",
      "551:\tlearn: 0.0213133\ttotal: 550ms\tremaining: 446ms\n"
     ]
    },
    {
     "name": "stdout",
     "output_type": "stream",
     "text": [
      "552:\tlearn: 0.0212986\ttotal: 553ms\tremaining: 447ms\n",
      "553:\tlearn: 0.0212771\ttotal: 556ms\tremaining: 447ms\n",
      "554:\tlearn: 0.0212494\ttotal: 556ms\tremaining: 446ms\n",
      "555:\tlearn: 0.0212412\ttotal: 557ms\tremaining: 445ms\n",
      "556:\tlearn: 0.0212104\ttotal: 558ms\tremaining: 444ms\n",
      "557:\tlearn: 0.0211794\ttotal: 558ms\tremaining: 442ms\n",
      "558:\tlearn: 0.0211640\ttotal: 558ms\tremaining: 440ms\n",
      "559:\tlearn: 0.0211338\ttotal: 559ms\tremaining: 439ms\n",
      "560:\tlearn: 0.0210983\ttotal: 559ms\tremaining: 437ms\n",
      "561:\tlearn: 0.0210759\ttotal: 559ms\tremaining: 436ms\n",
      "562:\tlearn: 0.0210464\ttotal: 560ms\tremaining: 434ms\n",
      "563:\tlearn: 0.0210221\ttotal: 560ms\tremaining: 433ms\n",
      "564:\tlearn: 0.0209962\ttotal: 560ms\tremaining: 431ms\n",
      "565:\tlearn: 0.0209709\ttotal: 561ms\tremaining: 430ms\n",
      "566:\tlearn: 0.0209540\ttotal: 561ms\tremaining: 429ms\n",
      "567:\tlearn: 0.0209152\ttotal: 562ms\tremaining: 427ms\n",
      "568:\tlearn: 0.0208621\ttotal: 562ms\tremaining: 426ms\n",
      "569:\tlearn: 0.0208524\ttotal: 562ms\tremaining: 424ms\n",
      "570:\tlearn: 0.0208314\ttotal: 563ms\tremaining: 423ms\n",
      "571:\tlearn: 0.0208028\ttotal: 563ms\tremaining: 421ms\n",
      "572:\tlearn: 0.0207829\ttotal: 563ms\tremaining: 420ms\n",
      "573:\tlearn: 0.0207582\ttotal: 564ms\tremaining: 418ms\n",
      "574:\tlearn: 0.0207298\ttotal: 565ms\tremaining: 417ms\n",
      "575:\tlearn: 0.0207062\ttotal: 565ms\tremaining: 416ms\n",
      "576:\tlearn: 0.0206926\ttotal: 565ms\tremaining: 414ms\n",
      "577:\tlearn: 0.0206799\ttotal: 566ms\tremaining: 413ms\n",
      "578:\tlearn: 0.0206708\ttotal: 566ms\tremaining: 412ms\n",
      "579:\tlearn: 0.0206207\ttotal: 566ms\tremaining: 410ms\n",
      "580:\tlearn: 0.0205962\ttotal: 567ms\tremaining: 409ms\n",
      "581:\tlearn: 0.0205737\ttotal: 567ms\tremaining: 407ms\n",
      "582:\tlearn: 0.0205591\ttotal: 568ms\tremaining: 406ms\n",
      "583:\tlearn: 0.0205377\ttotal: 568ms\tremaining: 405ms\n",
      "584:\tlearn: 0.0205234\ttotal: 569ms\tremaining: 403ms\n",
      "585:\tlearn: 0.0204918\ttotal: 569ms\tremaining: 402ms\n",
      "586:\tlearn: 0.0204715\ttotal: 570ms\tremaining: 401ms\n",
      "587:\tlearn: 0.0204624\ttotal: 570ms\tremaining: 399ms\n",
      "588:\tlearn: 0.0204301\ttotal: 570ms\tremaining: 398ms\n",
      "589:\tlearn: 0.0204073\ttotal: 571ms\tremaining: 397ms\n",
      "590:\tlearn: 0.0203886\ttotal: 571ms\tremaining: 395ms\n",
      "591:\tlearn: 0.0203626\ttotal: 572ms\tremaining: 394ms\n",
      "592:\tlearn: 0.0203272\ttotal: 572ms\tremaining: 393ms\n",
      "593:\tlearn: 0.0203124\ttotal: 572ms\tremaining: 391ms\n",
      "594:\tlearn: 0.0202979\ttotal: 573ms\tremaining: 390ms\n",
      "595:\tlearn: 0.0202595\ttotal: 573ms\tremaining: 389ms\n",
      "596:\tlearn: 0.0202372\ttotal: 574ms\tremaining: 387ms\n",
      "597:\tlearn: 0.0202096\ttotal: 574ms\tremaining: 386ms\n",
      "598:\tlearn: 0.0201886\ttotal: 575ms\tremaining: 385ms\n",
      "599:\tlearn: 0.0201640\ttotal: 576ms\tremaining: 384ms\n",
      "600:\tlearn: 0.0201455\ttotal: 576ms\tremaining: 383ms\n",
      "601:\tlearn: 0.0201312\ttotal: 577ms\tremaining: 381ms\n",
      "602:\tlearn: 0.0201120\ttotal: 577ms\tremaining: 380ms\n",
      "603:\tlearn: 0.0201031\ttotal: 577ms\tremaining: 378ms\n",
      "604:\tlearn: 0.0200925\ttotal: 578ms\tremaining: 377ms\n",
      "605:\tlearn: 0.0200779\ttotal: 578ms\tremaining: 376ms\n",
      "606:\tlearn: 0.0200594\ttotal: 578ms\tremaining: 374ms\n",
      "607:\tlearn: 0.0200397\ttotal: 579ms\tremaining: 373ms\n",
      "608:\tlearn: 0.0200053\ttotal: 579ms\tremaining: 372ms\n",
      "609:\tlearn: 0.0199929\ttotal: 580ms\tremaining: 371ms\n",
      "610:\tlearn: 0.0199635\ttotal: 580ms\tremaining: 370ms\n",
      "611:\tlearn: 0.0199438\ttotal: 581ms\tremaining: 368ms\n",
      "612:\tlearn: 0.0199316\ttotal: 581ms\tremaining: 367ms\n",
      "613:\tlearn: 0.0199190\ttotal: 582ms\tremaining: 366ms\n",
      "614:\tlearn: 0.0199009\ttotal: 582ms\tremaining: 364ms\n",
      "615:\tlearn: 0.0198573\ttotal: 583ms\tremaining: 363ms\n",
      "616:\tlearn: 0.0198366\ttotal: 583ms\tremaining: 362ms\n",
      "617:\tlearn: 0.0198141\ttotal: 583ms\tremaining: 361ms\n",
      "618:\tlearn: 0.0197946\ttotal: 584ms\tremaining: 359ms\n",
      "619:\tlearn: 0.0197695\ttotal: 584ms\tremaining: 358ms\n",
      "620:\tlearn: 0.0197519\ttotal: 584ms\tremaining: 357ms\n",
      "621:\tlearn: 0.0197328\ttotal: 585ms\tremaining: 355ms\n",
      "622:\tlearn: 0.0197205\ttotal: 585ms\tremaining: 354ms\n",
      "623:\tlearn: 0.0196957\ttotal: 585ms\tremaining: 353ms\n",
      "624:\tlearn: 0.0196898\ttotal: 586ms\tremaining: 351ms\n",
      "625:\tlearn: 0.0196423\ttotal: 586ms\tremaining: 350ms\n",
      "626:\tlearn: 0.0196229\ttotal: 586ms\tremaining: 349ms\n",
      "627:\tlearn: 0.0196024\ttotal: 586ms\tremaining: 347ms\n",
      "628:\tlearn: 0.0195839\ttotal: 587ms\tremaining: 346ms\n",
      "629:\tlearn: 0.0195696\ttotal: 587ms\tremaining: 345ms\n",
      "630:\tlearn: 0.0195441\ttotal: 587ms\tremaining: 344ms\n",
      "631:\tlearn: 0.0195357\ttotal: 588ms\tremaining: 342ms\n",
      "632:\tlearn: 0.0195220\ttotal: 588ms\tremaining: 341ms\n",
      "633:\tlearn: 0.0194919\ttotal: 589ms\tremaining: 340ms\n",
      "634:\tlearn: 0.0194639\ttotal: 589ms\tremaining: 339ms\n",
      "635:\tlearn: 0.0194522\ttotal: 589ms\tremaining: 337ms\n",
      "636:\tlearn: 0.0194279\ttotal: 590ms\tremaining: 336ms\n",
      "637:\tlearn: 0.0194189\ttotal: 590ms\tremaining: 335ms\n",
      "638:\tlearn: 0.0194109\ttotal: 591ms\tremaining: 334ms\n",
      "639:\tlearn: 0.0193935\ttotal: 591ms\tremaining: 332ms\n",
      "640:\tlearn: 0.0193778\ttotal: 591ms\tremaining: 331ms\n",
      "641:\tlearn: 0.0193540\ttotal: 592ms\tremaining: 330ms\n",
      "642:\tlearn: 0.0193432\ttotal: 592ms\tremaining: 329ms\n",
      "643:\tlearn: 0.0193187\ttotal: 592ms\tremaining: 327ms\n",
      "644:\tlearn: 0.0192916\ttotal: 592ms\tremaining: 326ms\n",
      "645:\tlearn: 0.0192803\ttotal: 593ms\tremaining: 325ms\n",
      "646:\tlearn: 0.0192724\ttotal: 593ms\tremaining: 323ms\n",
      "647:\tlearn: 0.0192545\ttotal: 593ms\tremaining: 322ms\n",
      "648:\tlearn: 0.0192479\ttotal: 594ms\tremaining: 321ms\n",
      "649:\tlearn: 0.0192220\ttotal: 594ms\tremaining: 320ms\n",
      "650:\tlearn: 0.0191989\ttotal: 594ms\tremaining: 319ms\n",
      "651:\tlearn: 0.0191877\ttotal: 595ms\tremaining: 317ms\n",
      "652:\tlearn: 0.0191659\ttotal: 595ms\tremaining: 316ms\n",
      "653:\tlearn: 0.0191499\ttotal: 596ms\tremaining: 315ms\n",
      "654:\tlearn: 0.0191294\ttotal: 596ms\tremaining: 314ms\n",
      "655:\tlearn: 0.0191215\ttotal: 596ms\tremaining: 313ms\n",
      "656:\tlearn: 0.0190891\ttotal: 596ms\tremaining: 311ms\n",
      "657:\tlearn: 0.0190784\ttotal: 597ms\tremaining: 310ms\n",
      "658:\tlearn: 0.0190271\ttotal: 597ms\tremaining: 309ms\n",
      "659:\tlearn: 0.0189931\ttotal: 597ms\tremaining: 308ms\n",
      "660:\tlearn: 0.0189790\ttotal: 598ms\tremaining: 307ms\n",
      "661:\tlearn: 0.0189683\ttotal: 599ms\tremaining: 306ms\n",
      "662:\tlearn: 0.0189552\ttotal: 599ms\tremaining: 304ms\n",
      "663:\tlearn: 0.0189299\ttotal: 599ms\tremaining: 303ms\n",
      "664:\tlearn: 0.0189071\ttotal: 601ms\tremaining: 303ms\n",
      "665:\tlearn: 0.0188978\ttotal: 602ms\tremaining: 302ms\n",
      "666:\tlearn: 0.0188804\ttotal: 602ms\tremaining: 301ms\n",
      "667:\tlearn: 0.0188603\ttotal: 602ms\tremaining: 299ms\n",
      "668:\tlearn: 0.0188500\ttotal: 603ms\tremaining: 298ms\n",
      "669:\tlearn: 0.0188258\ttotal: 603ms\tremaining: 297ms\n",
      "670:\tlearn: 0.0188041\ttotal: 604ms\tremaining: 296ms\n",
      "671:\tlearn: 0.0187962\ttotal: 605ms\tremaining: 295ms\n",
      "672:\tlearn: 0.0187748\ttotal: 605ms\tremaining: 294ms\n",
      "673:\tlearn: 0.0187554\ttotal: 606ms\tremaining: 293ms\n",
      "674:\tlearn: 0.0187482\ttotal: 606ms\tremaining: 292ms\n",
      "675:\tlearn: 0.0187311\ttotal: 606ms\tremaining: 291ms\n",
      "676:\tlearn: 0.0187133\ttotal: 606ms\tremaining: 289ms\n",
      "677:\tlearn: 0.0187033\ttotal: 607ms\tremaining: 288ms\n",
      "678:\tlearn: 0.0186843\ttotal: 607ms\tremaining: 287ms\n",
      "679:\tlearn: 0.0186656\ttotal: 608ms\tremaining: 286ms\n",
      "680:\tlearn: 0.0186165\ttotal: 608ms\tremaining: 285ms\n",
      "681:\tlearn: 0.0185989\ttotal: 609ms\tremaining: 284ms\n",
      "682:\tlearn: 0.0185759\ttotal: 609ms\tremaining: 283ms\n",
      "683:\tlearn: 0.0185661\ttotal: 609ms\tremaining: 281ms\n",
      "684:\tlearn: 0.0185430\ttotal: 609ms\tremaining: 280ms\n",
      "685:\tlearn: 0.0185336\ttotal: 610ms\tremaining: 279ms\n",
      "686:\tlearn: 0.0185262\ttotal: 610ms\tremaining: 278ms\n",
      "687:\tlearn: 0.0185077\ttotal: 610ms\tremaining: 277ms\n",
      "688:\tlearn: 0.0184915\ttotal: 611ms\tremaining: 276ms\n",
      "689:\tlearn: 0.0184773\ttotal: 612ms\tremaining: 275ms\n",
      "690:\tlearn: 0.0184638\ttotal: 612ms\tremaining: 274ms\n",
      "691:\tlearn: 0.0184571\ttotal: 612ms\tremaining: 272ms\n",
      "692:\tlearn: 0.0184349\ttotal: 612ms\tremaining: 271ms\n",
      "693:\tlearn: 0.0184213\ttotal: 613ms\tremaining: 270ms\n",
      "694:\tlearn: 0.0184037\ttotal: 613ms\tremaining: 269ms\n",
      "695:\tlearn: 0.0183852\ttotal: 613ms\tremaining: 268ms\n",
      "696:\tlearn: 0.0183762\ttotal: 614ms\tremaining: 267ms\n",
      "697:\tlearn: 0.0183471\ttotal: 615ms\tremaining: 266ms\n",
      "698:\tlearn: 0.0183248\ttotal: 615ms\tremaining: 265ms\n",
      "699:\tlearn: 0.0183005\ttotal: 615ms\tremaining: 264ms\n",
      "700:\tlearn: 0.0182803\ttotal: 616ms\tremaining: 263ms\n",
      "701:\tlearn: 0.0182676\ttotal: 616ms\tremaining: 262ms\n",
      "702:\tlearn: 0.0182496\ttotal: 617ms\tremaining: 261ms\n",
      "703:\tlearn: 0.0182360\ttotal: 617ms\tremaining: 260ms\n",
      "704:\tlearn: 0.0182147\ttotal: 619ms\tremaining: 259ms\n",
      "705:\tlearn: 0.0181943\ttotal: 619ms\tremaining: 258ms\n",
      "706:\tlearn: 0.0181739\ttotal: 619ms\tremaining: 257ms\n",
      "707:\tlearn: 0.0181526\ttotal: 619ms\tremaining: 255ms\n",
      "708:\tlearn: 0.0181303\ttotal: 620ms\tremaining: 254ms\n",
      "709:\tlearn: 0.0181177\ttotal: 620ms\tremaining: 253ms\n",
      "710:\tlearn: 0.0181098\ttotal: 621ms\tremaining: 252ms\n",
      "711:\tlearn: 0.0180875\ttotal: 621ms\tremaining: 251ms\n",
      "712:\tlearn: 0.0180671\ttotal: 622ms\tremaining: 250ms\n",
      "713:\tlearn: 0.0180524\ttotal: 622ms\tremaining: 249ms\n",
      "714:\tlearn: 0.0180434\ttotal: 623ms\tremaining: 248ms\n",
      "715:\tlearn: 0.0180252\ttotal: 623ms\tremaining: 247ms\n",
      "716:\tlearn: 0.0180101\ttotal: 623ms\tremaining: 246ms\n",
      "717:\tlearn: 0.0179995\ttotal: 624ms\tremaining: 245ms\n",
      "718:\tlearn: 0.0179799\ttotal: 624ms\tremaining: 244ms\n",
      "719:\tlearn: 0.0179679\ttotal: 625ms\tremaining: 243ms\n",
      "720:\tlearn: 0.0179592\ttotal: 625ms\tremaining: 242ms\n",
      "721:\tlearn: 0.0179377\ttotal: 625ms\tremaining: 241ms\n",
      "722:\tlearn: 0.0179203\ttotal: 625ms\tremaining: 240ms\n",
      "723:\tlearn: 0.0179016\ttotal: 626ms\tremaining: 239ms\n",
      "724:\tlearn: 0.0178872\ttotal: 626ms\tremaining: 237ms\n",
      "725:\tlearn: 0.0178579\ttotal: 627ms\tremaining: 237ms\n",
      "726:\tlearn: 0.0178461\ttotal: 627ms\tremaining: 236ms\n",
      "727:\tlearn: 0.0178171\ttotal: 628ms\tremaining: 234ms\n",
      "728:\tlearn: 0.0178006\ttotal: 628ms\tremaining: 233ms\n",
      "729:\tlearn: 0.0177822\ttotal: 628ms\tremaining: 232ms\n",
      "730:\tlearn: 0.0177735\ttotal: 629ms\tremaining: 231ms\n",
      "731:\tlearn: 0.0177657\ttotal: 629ms\tremaining: 230ms\n",
      "732:\tlearn: 0.0177496\ttotal: 629ms\tremaining: 229ms\n",
      "733:\tlearn: 0.0177430\ttotal: 630ms\tremaining: 228ms\n",
      "734:\tlearn: 0.0177234\ttotal: 630ms\tremaining: 227ms\n",
      "735:\tlearn: 0.0176956\ttotal: 630ms\tremaining: 226ms\n",
      "736:\tlearn: 0.0176834\ttotal: 631ms\tremaining: 225ms\n",
      "737:\tlearn: 0.0176755\ttotal: 631ms\tremaining: 224ms\n",
      "738:\tlearn: 0.0176547\ttotal: 631ms\tremaining: 223ms\n",
      "739:\tlearn: 0.0176294\ttotal: 632ms\tremaining: 222ms\n",
      "740:\tlearn: 0.0175978\ttotal: 632ms\tremaining: 221ms\n",
      "741:\tlearn: 0.0175681\ttotal: 633ms\tremaining: 220ms\n",
      "742:\tlearn: 0.0175560\ttotal: 633ms\tremaining: 219ms\n",
      "743:\tlearn: 0.0175285\ttotal: 633ms\tremaining: 218ms\n",
      "744:\tlearn: 0.0175110\ttotal: 634ms\tremaining: 217ms\n"
     ]
    },
    {
     "name": "stdout",
     "output_type": "stream",
     "text": [
      "745:\tlearn: 0.0175045\ttotal: 634ms\tremaining: 216ms\n",
      "746:\tlearn: 0.0174777\ttotal: 636ms\tremaining: 215ms\n",
      "747:\tlearn: 0.0174607\ttotal: 637ms\tremaining: 214ms\n",
      "748:\tlearn: 0.0174531\ttotal: 637ms\tremaining: 213ms\n",
      "749:\tlearn: 0.0174307\ttotal: 637ms\tremaining: 212ms\n",
      "750:\tlearn: 0.0174246\ttotal: 637ms\tremaining: 211ms\n",
      "751:\tlearn: 0.0173991\ttotal: 638ms\tremaining: 210ms\n",
      "752:\tlearn: 0.0173631\ttotal: 638ms\tremaining: 209ms\n",
      "753:\tlearn: 0.0173393\ttotal: 639ms\tremaining: 209ms\n",
      "754:\tlearn: 0.0173228\ttotal: 640ms\tremaining: 208ms\n",
      "755:\tlearn: 0.0173090\ttotal: 640ms\tremaining: 207ms\n",
      "756:\tlearn: 0.0173029\ttotal: 640ms\tremaining: 205ms\n",
      "757:\tlearn: 0.0172958\ttotal: 640ms\tremaining: 204ms\n",
      "758:\tlearn: 0.0172827\ttotal: 641ms\tremaining: 203ms\n",
      "759:\tlearn: 0.0172767\ttotal: 641ms\tremaining: 202ms\n",
      "760:\tlearn: 0.0172654\ttotal: 641ms\tremaining: 201ms\n",
      "761:\tlearn: 0.0172545\ttotal: 642ms\tremaining: 200ms\n",
      "762:\tlearn: 0.0172310\ttotal: 642ms\tremaining: 200ms\n",
      "763:\tlearn: 0.0172165\ttotal: 643ms\tremaining: 198ms\n",
      "764:\tlearn: 0.0172120\ttotal: 643ms\tremaining: 197ms\n",
      "765:\tlearn: 0.0172006\ttotal: 643ms\tremaining: 196ms\n",
      "766:\tlearn: 0.0171923\ttotal: 643ms\tremaining: 195ms\n",
      "767:\tlearn: 0.0171766\ttotal: 644ms\tremaining: 194ms\n",
      "768:\tlearn: 0.0171616\ttotal: 645ms\tremaining: 194ms\n",
      "769:\tlearn: 0.0171507\ttotal: 646ms\tremaining: 193ms\n",
      "770:\tlearn: 0.0171186\ttotal: 646ms\tremaining: 192ms\n",
      "771:\tlearn: 0.0171059\ttotal: 646ms\tremaining: 191ms\n",
      "772:\tlearn: 0.0170832\ttotal: 647ms\tremaining: 190ms\n",
      "773:\tlearn: 0.0170761\ttotal: 647ms\tremaining: 189ms\n",
      "774:\tlearn: 0.0170514\ttotal: 648ms\tremaining: 188ms\n",
      "775:\tlearn: 0.0170375\ttotal: 648ms\tremaining: 187ms\n",
      "776:\tlearn: 0.0170248\ttotal: 648ms\tremaining: 186ms\n",
      "777:\tlearn: 0.0170170\ttotal: 648ms\tremaining: 185ms\n",
      "778:\tlearn: 0.0169945\ttotal: 649ms\tremaining: 184ms\n",
      "779:\tlearn: 0.0169815\ttotal: 649ms\tremaining: 183ms\n",
      "780:\tlearn: 0.0169674\ttotal: 649ms\tremaining: 182ms\n",
      "781:\tlearn: 0.0169588\ttotal: 650ms\tremaining: 181ms\n",
      "782:\tlearn: 0.0169544\ttotal: 651ms\tremaining: 180ms\n",
      "783:\tlearn: 0.0169420\ttotal: 651ms\tremaining: 179ms\n",
      "784:\tlearn: 0.0169248\ttotal: 653ms\tremaining: 179ms\n",
      "785:\tlearn: 0.0169198\ttotal: 653ms\tremaining: 178ms\n",
      "786:\tlearn: 0.0169088\ttotal: 654ms\tremaining: 177ms\n",
      "787:\tlearn: 0.0169032\ttotal: 654ms\tremaining: 176ms\n",
      "788:\tlearn: 0.0168723\ttotal: 655ms\tremaining: 175ms\n",
      "789:\tlearn: 0.0168599\ttotal: 655ms\tremaining: 174ms\n",
      "790:\tlearn: 0.0168203\ttotal: 656ms\tremaining: 173ms\n",
      "791:\tlearn: 0.0168086\ttotal: 656ms\tremaining: 172ms\n",
      "792:\tlearn: 0.0167919\ttotal: 657ms\tremaining: 172ms\n",
      "793:\tlearn: 0.0167785\ttotal: 657ms\tremaining: 171ms\n",
      "794:\tlearn: 0.0167712\ttotal: 658ms\tremaining: 170ms\n",
      "795:\tlearn: 0.0167571\ttotal: 658ms\tremaining: 169ms\n",
      "796:\tlearn: 0.0167490\ttotal: 658ms\tremaining: 168ms\n",
      "797:\tlearn: 0.0167337\ttotal: 658ms\tremaining: 167ms\n",
      "798:\tlearn: 0.0167148\ttotal: 659ms\tremaining: 166ms\n",
      "799:\tlearn: 0.0167073\ttotal: 660ms\tremaining: 165ms\n",
      "800:\tlearn: 0.0166941\ttotal: 660ms\tremaining: 164ms\n",
      "801:\tlearn: 0.0166665\ttotal: 661ms\tremaining: 163ms\n",
      "802:\tlearn: 0.0166548\ttotal: 661ms\tremaining: 162ms\n",
      "803:\tlearn: 0.0166477\ttotal: 661ms\tremaining: 161ms\n",
      "804:\tlearn: 0.0166242\ttotal: 661ms\tremaining: 160ms\n",
      "805:\tlearn: 0.0166119\ttotal: 662ms\tremaining: 159ms\n",
      "806:\tlearn: 0.0165893\ttotal: 663ms\tremaining: 158ms\n",
      "807:\tlearn: 0.0165796\ttotal: 663ms\tremaining: 158ms\n",
      "808:\tlearn: 0.0165564\ttotal: 663ms\tremaining: 157ms\n",
      "809:\tlearn: 0.0165295\ttotal: 663ms\tremaining: 156ms\n",
      "810:\tlearn: 0.0165143\ttotal: 664ms\tremaining: 155ms\n",
      "811:\tlearn: 0.0165084\ttotal: 664ms\tremaining: 154ms\n",
      "812:\tlearn: 0.0164951\ttotal: 665ms\tremaining: 153ms\n",
      "813:\tlearn: 0.0164902\ttotal: 665ms\tremaining: 152ms\n",
      "814:\tlearn: 0.0164846\ttotal: 666ms\tremaining: 151ms\n",
      "815:\tlearn: 0.0164403\ttotal: 666ms\tremaining: 150ms\n",
      "816:\tlearn: 0.0164150\ttotal: 666ms\tremaining: 149ms\n",
      "817:\tlearn: 0.0164080\ttotal: 667ms\tremaining: 148ms\n",
      "818:\tlearn: 0.0163858\ttotal: 667ms\tremaining: 147ms\n",
      "819:\tlearn: 0.0163698\ttotal: 667ms\tremaining: 146ms\n",
      "820:\tlearn: 0.0163644\ttotal: 668ms\tremaining: 146ms\n",
      "821:\tlearn: 0.0163596\ttotal: 668ms\tremaining: 145ms\n",
      "822:\tlearn: 0.0163331\ttotal: 669ms\tremaining: 144ms\n",
      "823:\tlearn: 0.0163078\ttotal: 669ms\tremaining: 143ms\n",
      "824:\tlearn: 0.0162925\ttotal: 669ms\tremaining: 142ms\n",
      "825:\tlearn: 0.0162901\ttotal: 670ms\tremaining: 141ms\n",
      "826:\tlearn: 0.0162857\ttotal: 670ms\tremaining: 140ms\n",
      "827:\tlearn: 0.0162617\ttotal: 670ms\tremaining: 139ms\n",
      "828:\tlearn: 0.0162567\ttotal: 671ms\tremaining: 138ms\n",
      "829:\tlearn: 0.0162425\ttotal: 671ms\tremaining: 137ms\n",
      "830:\tlearn: 0.0162385\ttotal: 672ms\tremaining: 137ms\n",
      "831:\tlearn: 0.0162154\ttotal: 672ms\tremaining: 136ms\n",
      "832:\tlearn: 0.0161902\ttotal: 672ms\tremaining: 135ms\n",
      "833:\tlearn: 0.0161773\ttotal: 672ms\tremaining: 134ms\n",
      "834:\tlearn: 0.0161680\ttotal: 673ms\tremaining: 133ms\n",
      "835:\tlearn: 0.0161639\ttotal: 673ms\tremaining: 132ms\n",
      "836:\tlearn: 0.0161444\ttotal: 674ms\tremaining: 131ms\n",
      "837:\tlearn: 0.0161405\ttotal: 675ms\tremaining: 130ms\n",
      "838:\tlearn: 0.0161336\ttotal: 675ms\tremaining: 130ms\n",
      "839:\tlearn: 0.0161213\ttotal: 675ms\tremaining: 129ms\n",
      "840:\tlearn: 0.0161160\ttotal: 676ms\tremaining: 128ms\n",
      "841:\tlearn: 0.0161081\ttotal: 676ms\tremaining: 127ms\n",
      "842:\tlearn: 0.0160912\ttotal: 676ms\tremaining: 126ms\n",
      "843:\tlearn: 0.0160852\ttotal: 677ms\tremaining: 125ms\n",
      "844:\tlearn: 0.0160617\ttotal: 677ms\tremaining: 124ms\n",
      "845:\tlearn: 0.0160575\ttotal: 677ms\tremaining: 123ms\n",
      "846:\tlearn: 0.0160372\ttotal: 678ms\tremaining: 122ms\n",
      "847:\tlearn: 0.0160258\ttotal: 678ms\tremaining: 122ms\n",
      "848:\tlearn: 0.0160122\ttotal: 678ms\tremaining: 121ms\n",
      "849:\tlearn: 0.0159708\ttotal: 679ms\tremaining: 120ms\n",
      "850:\tlearn: 0.0159573\ttotal: 679ms\tremaining: 119ms\n",
      "851:\tlearn: 0.0159501\ttotal: 679ms\tremaining: 118ms\n",
      "852:\tlearn: 0.0159388\ttotal: 679ms\tremaining: 117ms\n",
      "853:\tlearn: 0.0159262\ttotal: 680ms\tremaining: 116ms\n",
      "854:\tlearn: 0.0159197\ttotal: 680ms\tremaining: 115ms\n",
      "855:\tlearn: 0.0159140\ttotal: 681ms\tremaining: 114ms\n",
      "856:\tlearn: 0.0159015\ttotal: 681ms\tremaining: 114ms\n",
      "857:\tlearn: 0.0158956\ttotal: 681ms\tremaining: 113ms\n",
      "858:\tlearn: 0.0158747\ttotal: 681ms\tremaining: 112ms\n",
      "859:\tlearn: 0.0158709\ttotal: 682ms\tremaining: 111ms\n",
      "860:\tlearn: 0.0158678\ttotal: 682ms\tremaining: 110ms\n",
      "861:\tlearn: 0.0158343\ttotal: 683ms\tremaining: 109ms\n",
      "862:\tlearn: 0.0158190\ttotal: 684ms\tremaining: 109ms\n",
      "863:\tlearn: 0.0158151\ttotal: 684ms\tremaining: 108ms\n",
      "864:\tlearn: 0.0158089\ttotal: 684ms\tremaining: 107ms\n",
      "865:\tlearn: 0.0157968\ttotal: 685ms\tremaining: 106ms\n",
      "866:\tlearn: 0.0157808\ttotal: 685ms\tremaining: 105ms\n",
      "867:\tlearn: 0.0157689\ttotal: 685ms\tremaining: 104ms\n",
      "868:\tlearn: 0.0157538\ttotal: 686ms\tremaining: 103ms\n",
      "869:\tlearn: 0.0157210\ttotal: 686ms\tremaining: 103ms\n",
      "870:\tlearn: 0.0157047\ttotal: 687ms\tremaining: 102ms\n",
      "871:\tlearn: 0.0156769\ttotal: 687ms\tremaining: 101ms\n"
     ]
    },
    {
     "name": "stdout",
     "output_type": "stream",
     "text": [
      "872:\tlearn: 0.0156632\ttotal: 690ms\tremaining: 100ms\n",
      "873:\tlearn: 0.0156458\ttotal: 691ms\tremaining: 99.6ms\n",
      "874:\tlearn: 0.0156400\ttotal: 691ms\tremaining: 98.7ms\n",
      "875:\tlearn: 0.0156194\ttotal: 691ms\tremaining: 97.8ms\n",
      "876:\tlearn: 0.0156039\ttotal: 691ms\tremaining: 97ms\n",
      "877:\tlearn: 0.0155833\ttotal: 692ms\tremaining: 96.1ms\n",
      "878:\tlearn: 0.0155677\ttotal: 692ms\tremaining: 95.3ms\n",
      "879:\tlearn: 0.0155564\ttotal: 692ms\tremaining: 94.4ms\n",
      "880:\tlearn: 0.0155461\ttotal: 693ms\tremaining: 93.6ms\n",
      "881:\tlearn: 0.0155252\ttotal: 693ms\tremaining: 92.7ms\n",
      "882:\tlearn: 0.0155102\ttotal: 694ms\tremaining: 91.9ms\n",
      "883:\tlearn: 0.0154873\ttotal: 694ms\tremaining: 91ms\n",
      "884:\tlearn: 0.0154816\ttotal: 694ms\tremaining: 90.2ms\n",
      "885:\tlearn: 0.0154719\ttotal: 694ms\tremaining: 89.3ms\n",
      "886:\tlearn: 0.0154528\ttotal: 695ms\tremaining: 88.5ms\n",
      "887:\tlearn: 0.0154450\ttotal: 695ms\tremaining: 87.6ms\n",
      "888:\tlearn: 0.0154252\ttotal: 695ms\tremaining: 86.8ms\n",
      "889:\tlearn: 0.0154057\ttotal: 696ms\tremaining: 86ms\n",
      "890:\tlearn: 0.0153957\ttotal: 696ms\tremaining: 85.1ms\n",
      "891:\tlearn: 0.0153831\ttotal: 696ms\tremaining: 84.3ms\n",
      "892:\tlearn: 0.0153781\ttotal: 697ms\tremaining: 83.5ms\n",
      "893:\tlearn: 0.0153627\ttotal: 697ms\tremaining: 82.7ms\n",
      "894:\tlearn: 0.0153488\ttotal: 698ms\tremaining: 81.9ms\n",
      "895:\tlearn: 0.0153415\ttotal: 698ms\tremaining: 81ms\n",
      "896:\tlearn: 0.0153214\ttotal: 699ms\tremaining: 80.3ms\n",
      "897:\tlearn: 0.0153159\ttotal: 699ms\tremaining: 79.4ms\n",
      "898:\tlearn: 0.0152933\ttotal: 700ms\tremaining: 78.6ms\n",
      "899:\tlearn: 0.0152827\ttotal: 700ms\tremaining: 77.8ms\n",
      "900:\tlearn: 0.0152637\ttotal: 700ms\tremaining: 76.9ms\n",
      "901:\tlearn: 0.0152518\ttotal: 700ms\tremaining: 76.1ms\n",
      "902:\tlearn: 0.0152259\ttotal: 701ms\tremaining: 75.3ms\n",
      "903:\tlearn: 0.0152077\ttotal: 701ms\tremaining: 74.4ms\n",
      "904:\tlearn: 0.0151897\ttotal: 703ms\tremaining: 73.8ms\n",
      "905:\tlearn: 0.0151808\ttotal: 704ms\tremaining: 73ms\n",
      "906:\tlearn: 0.0151746\ttotal: 704ms\tremaining: 72.2ms\n",
      "907:\tlearn: 0.0151656\ttotal: 705ms\tremaining: 71.4ms\n",
      "908:\tlearn: 0.0151541\ttotal: 705ms\tremaining: 70.6ms\n",
      "909:\tlearn: 0.0151464\ttotal: 706ms\tremaining: 69.8ms\n",
      "910:\tlearn: 0.0151165\ttotal: 706ms\tremaining: 69ms\n",
      "911:\tlearn: 0.0150993\ttotal: 707ms\tremaining: 68.2ms\n",
      "912:\tlearn: 0.0150886\ttotal: 707ms\tremaining: 67.3ms\n",
      "913:\tlearn: 0.0150789\ttotal: 709ms\tremaining: 66.7ms\n",
      "914:\tlearn: 0.0150662\ttotal: 709ms\tremaining: 65.9ms\n",
      "915:\tlearn: 0.0150464\ttotal: 709ms\tremaining: 65.1ms\n",
      "916:\tlearn: 0.0150389\ttotal: 710ms\tremaining: 64.3ms\n",
      "917:\tlearn: 0.0150349\ttotal: 710ms\tremaining: 63.5ms\n",
      "918:\tlearn: 0.0150295\ttotal: 711ms\tremaining: 62.6ms\n",
      "919:\tlearn: 0.0150196\ttotal: 711ms\tremaining: 61.8ms\n",
      "920:\tlearn: 0.0150036\ttotal: 711ms\tremaining: 61ms\n",
      "921:\tlearn: 0.0149968\ttotal: 712ms\tremaining: 60.2ms\n",
      "922:\tlearn: 0.0149821\ttotal: 712ms\tremaining: 59.4ms\n",
      "923:\tlearn: 0.0149640\ttotal: 712ms\tremaining: 58.6ms\n",
      "924:\tlearn: 0.0149576\ttotal: 713ms\tremaining: 57.8ms\n",
      "925:\tlearn: 0.0149376\ttotal: 714ms\tremaining: 57ms\n",
      "926:\tlearn: 0.0149276\ttotal: 714ms\tremaining: 56.3ms\n",
      "927:\tlearn: 0.0149204\ttotal: 715ms\tremaining: 55.5ms\n",
      "928:\tlearn: 0.0149030\ttotal: 715ms\tremaining: 54.7ms\n",
      "929:\tlearn: 0.0148901\ttotal: 716ms\tremaining: 53.9ms\n",
      "930:\tlearn: 0.0148881\ttotal: 716ms\tremaining: 53.1ms\n",
      "931:\tlearn: 0.0148596\ttotal: 717ms\tremaining: 52.3ms\n",
      "932:\tlearn: 0.0148470\ttotal: 717ms\tremaining: 51.5ms\n",
      "933:\tlearn: 0.0148301\ttotal: 718ms\tremaining: 50.7ms\n",
      "934:\tlearn: 0.0148068\ttotal: 718ms\tremaining: 49.9ms\n",
      "935:\tlearn: 0.0147920\ttotal: 719ms\tremaining: 49.1ms\n",
      "936:\tlearn: 0.0147895\ttotal: 719ms\tremaining: 48.3ms\n",
      "937:\tlearn: 0.0147853\ttotal: 720ms\tremaining: 47.6ms\n",
      "938:\tlearn: 0.0147749\ttotal: 720ms\tremaining: 46.8ms\n",
      "939:\tlearn: 0.0147580\ttotal: 720ms\tremaining: 46ms\n",
      "940:\tlearn: 0.0147539\ttotal: 720ms\tremaining: 45.2ms\n",
      "941:\tlearn: 0.0147489\ttotal: 721ms\tremaining: 44.4ms\n",
      "942:\tlearn: 0.0147376\ttotal: 721ms\tremaining: 43.6ms\n",
      "943:\tlearn: 0.0147274\ttotal: 721ms\tremaining: 42.8ms\n",
      "944:\tlearn: 0.0147108\ttotal: 722ms\tremaining: 42ms\n",
      "945:\tlearn: 0.0146923\ttotal: 722ms\tremaining: 41.2ms\n",
      "946:\tlearn: 0.0146537\ttotal: 723ms\tremaining: 40.5ms\n",
      "947:\tlearn: 0.0146514\ttotal: 723ms\tremaining: 39.7ms\n",
      "948:\tlearn: 0.0146484\ttotal: 724ms\tremaining: 38.9ms\n",
      "949:\tlearn: 0.0146332\ttotal: 724ms\tremaining: 38.1ms\n",
      "950:\tlearn: 0.0146282\ttotal: 724ms\tremaining: 37.3ms\n",
      "951:\tlearn: 0.0146075\ttotal: 726ms\tremaining: 36.6ms\n",
      "952:\tlearn: 0.0146021\ttotal: 726ms\tremaining: 35.8ms\n",
      "953:\tlearn: 0.0145969\ttotal: 727ms\tremaining: 35ms\n",
      "954:\tlearn: 0.0145852\ttotal: 727ms\tremaining: 34.3ms\n",
      "955:\tlearn: 0.0145770\ttotal: 727ms\tremaining: 33.5ms\n",
      "956:\tlearn: 0.0145643\ttotal: 728ms\tremaining: 32.7ms\n",
      "957:\tlearn: 0.0145580\ttotal: 728ms\tremaining: 31.9ms\n",
      "958:\tlearn: 0.0145423\ttotal: 728ms\tremaining: 31.1ms\n",
      "959:\tlearn: 0.0145326\ttotal: 729ms\tremaining: 30.4ms\n",
      "960:\tlearn: 0.0145249\ttotal: 730ms\tremaining: 29.6ms\n",
      "961:\tlearn: 0.0145221\ttotal: 730ms\tremaining: 28.9ms\n",
      "962:\tlearn: 0.0145191\ttotal: 732ms\tremaining: 28.1ms\n",
      "963:\tlearn: 0.0145047\ttotal: 735ms\tremaining: 27.4ms\n",
      "964:\tlearn: 0.0145023\ttotal: 735ms\tremaining: 26.7ms\n",
      "965:\tlearn: 0.0144903\ttotal: 737ms\tremaining: 25.9ms\n",
      "966:\tlearn: 0.0144754\ttotal: 737ms\tremaining: 25.1ms\n",
      "967:\tlearn: 0.0144687\ttotal: 738ms\tremaining: 24.4ms\n",
      "968:\tlearn: 0.0144610\ttotal: 741ms\tremaining: 23.7ms\n",
      "969:\tlearn: 0.0144576\ttotal: 742ms\tremaining: 22.9ms\n",
      "970:\tlearn: 0.0144553\ttotal: 743ms\tremaining: 22.2ms\n",
      "971:\tlearn: 0.0144306\ttotal: 749ms\tremaining: 21.6ms\n",
      "972:\tlearn: 0.0144206\ttotal: 750ms\tremaining: 20.8ms\n",
      "973:\tlearn: 0.0144165\ttotal: 751ms\tremaining: 20ms\n",
      "974:\tlearn: 0.0144144\ttotal: 751ms\tremaining: 19.3ms\n",
      "975:\tlearn: 0.0144051\ttotal: 755ms\tremaining: 18.6ms\n",
      "976:\tlearn: 0.0143956\ttotal: 756ms\tremaining: 17.8ms\n",
      "977:\tlearn: 0.0143857\ttotal: 756ms\tremaining: 17ms\n",
      "978:\tlearn: 0.0143783\ttotal: 757ms\tremaining: 16.2ms\n",
      "979:\tlearn: 0.0143571\ttotal: 758ms\tremaining: 15.5ms\n",
      "980:\tlearn: 0.0143514\ttotal: 758ms\tremaining: 14.7ms\n"
     ]
    },
    {
     "name": "stdout",
     "output_type": "stream",
     "text": [
      "981:\tlearn: 0.0143438\ttotal: 767ms\tremaining: 14.1ms\n",
      "982:\tlearn: 0.0143357\ttotal: 772ms\tremaining: 13.3ms\n",
      "983:\tlearn: 0.0143326\ttotal: 777ms\tremaining: 12.6ms\n",
      "984:\tlearn: 0.0143239\ttotal: 778ms\tremaining: 11.9ms\n",
      "985:\tlearn: 0.0143140\ttotal: 780ms\tremaining: 11.1ms\n",
      "986:\tlearn: 0.0143054\ttotal: 781ms\tremaining: 10.3ms\n",
      "987:\tlearn: 0.0142946\ttotal: 783ms\tremaining: 9.51ms\n",
      "988:\tlearn: 0.0142807\ttotal: 785ms\tremaining: 8.73ms\n",
      "989:\tlearn: 0.0142667\ttotal: 788ms\tremaining: 7.96ms\n",
      "990:\tlearn: 0.0142535\ttotal: 791ms\tremaining: 7.18ms\n",
      "991:\tlearn: 0.0142396\ttotal: 794ms\tremaining: 6.4ms\n",
      "992:\tlearn: 0.0142263\ttotal: 795ms\tremaining: 5.61ms\n",
      "993:\tlearn: 0.0142193\ttotal: 803ms\tremaining: 4.85ms\n",
      "994:\tlearn: 0.0142130\ttotal: 804ms\tremaining: 4.04ms\n",
      "995:\tlearn: 0.0142016\ttotal: 804ms\tremaining: 3.23ms\n",
      "996:\tlearn: 0.0141990\ttotal: 806ms\tremaining: 2.42ms\n",
      "997:\tlearn: 0.0141807\ttotal: 812ms\tremaining: 1.63ms\n",
      "998:\tlearn: 0.0141712\ttotal: 817ms\tremaining: 817us\n",
      "999:\tlearn: 0.0141616\ttotal: 818ms\tremaining: 0us\n"
     ]
    },
    {
     "name": "stdout",
     "output_type": "stream",
     "text": [
      "Mean Absolute error 0.020428756994582856\n"
     ]
    },
    {
     "data": {
      "application/scrapbook.scrap.json+json": {
       "data": 0.020428756994582856,
       "encoder": "json",
       "name": "Catboost MAE",
       "version": 1
      }
     },
     "metadata": {
      "scrapbook": {
       "data": true,
       "display": false,
       "name": "Catboost MAE"
      }
     },
     "output_type": "display_data"
    },
    {
     "name": "stdout",
     "output_type": "stream",
     "text": [
      "Catboost MAE 0.020428756994582856\n"
     ]
    }
   ],
   "source": [
    "mae_cb = baselineModels.catboost(X_train,y_train,X_test,y_test)\n",
    "#Store MSE Value\n",
    "sb.glue(\"Catboost MAE\",mae_cb)\n",
    "print(\"Catboost MAE\",mae_cb)"
   ]
  },
  {
   "cell_type": "markdown",
   "id": "ca0bdc84",
   "metadata": {
    "papermill": {
     "duration": 0.034327,
     "end_time": "2022-07-24T10:27:25.805019",
     "exception": false,
     "start_time": "2022-07-24T10:27:25.770692",
     "status": "completed"
    },
    "tags": []
   },
   "source": [
    "# TabNet Regressor"
   ]
  },
  {
   "cell_type": "code",
   "execution_count": 7,
   "id": "cc3c18fc",
   "metadata": {
    "execution": {
     "iopub.execute_input": "2022-07-24T10:27:25.849168Z",
     "iopub.status.busy": "2022-07-24T10:27:25.847927Z",
     "iopub.status.idle": "2022-07-24T10:27:25.864035Z",
     "shell.execute_reply": "2022-07-24T10:27:25.860012Z"
    },
    "papermill": {
     "duration": 0.048492,
     "end_time": "2022-07-24T10:27:25.876931",
     "exception": false,
     "start_time": "2022-07-24T10:27:25.828439",
     "status": "completed"
    },
    "tags": []
   },
   "outputs": [],
   "source": [
    "n_epochs = 1000\n",
    "batch_size = 32"
   ]
  },
  {
   "cell_type": "code",
   "execution_count": 8,
   "id": "8c575395",
   "metadata": {
    "execution": {
     "iopub.execute_input": "2022-07-24T10:27:25.918855Z",
     "iopub.status.busy": "2022-07-24T10:27:25.917997Z",
     "iopub.status.idle": "2022-07-24T10:30:28.021490Z",
     "shell.execute_reply": "2022-07-24T10:30:28.007315Z"
    },
    "papermill": {
     "duration": 182.147658,
     "end_time": "2022-07-24T10:30:28.040763",
     "exception": false,
     "start_time": "2022-07-24T10:27:25.893105",
     "status": "completed"
    },
    "tags": []
   },
   "outputs": [
    {
     "name": "stdout",
     "output_type": "stream",
     "text": [
      "Device used : cpu\n"
     ]
    },
    {
     "name": "stdout",
     "output_type": "stream",
     "text": [
      "epoch 0  | loss: 1.0448  | train_mse: 0.70519 | train_mae: 0.646   |  0:00:03s\n"
     ]
    },
    {
     "name": "stdout",
     "output_type": "stream",
     "text": [
      "epoch 1  | loss: 0.33619 | train_mse: 0.32193 | train_mae: 0.45242 |  0:00:04s\n"
     ]
    },
    {
     "name": "stdout",
     "output_type": "stream",
     "text": [
      "epoch 2  | loss: 0.24755 | train_mse: 0.17557 | train_mae: 0.32564 |  0:00:05s\n"
     ]
    },
    {
     "name": "stdout",
     "output_type": "stream",
     "text": [
      "epoch 3  | loss: 0.16288 | train_mse: 0.12022 | train_mae: 0.28081 |  0:00:06s\n"
     ]
    },
    {
     "name": "stdout",
     "output_type": "stream",
     "text": [
      "epoch 4  | loss: 0.15039 | train_mse: 0.1011  | train_mae: 0.25939 |  0:00:07s\n"
     ]
    },
    {
     "name": "stdout",
     "output_type": "stream",
     "text": [
      "epoch 5  | loss: 0.13142 | train_mse: 0.13156 | train_mae: 0.27172 |  0:00:08s\n"
     ]
    },
    {
     "name": "stdout",
     "output_type": "stream",
     "text": [
      "epoch 6  | loss: 0.15086 | train_mse: 0.14553 | train_mae: 0.31225 |  0:00:09s\n"
     ]
    },
    {
     "name": "stdout",
     "output_type": "stream",
     "text": [
      "epoch 7  | loss: 0.13371 | train_mse: 0.08938 | train_mae: 0.23638 |  0:00:11s\n"
     ]
    },
    {
     "name": "stdout",
     "output_type": "stream",
     "text": [
      "epoch 8  | loss: 0.13911 | train_mse: 0.10228 | train_mae: 0.25329 |  0:00:12s\n"
     ]
    },
    {
     "name": "stdout",
     "output_type": "stream",
     "text": [
      "epoch 9  | loss: 0.11467 | train_mse: 0.08473 | train_mae: 0.22108 |  0:00:13s\n"
     ]
    },
    {
     "name": "stdout",
     "output_type": "stream",
     "text": [
      "epoch 10 | loss: 0.11003 | train_mse: 0.0738  | train_mae: 0.20298 |  0:00:14s\n"
     ]
    },
    {
     "name": "stdout",
     "output_type": "stream",
     "text": [
      "epoch 11 | loss: 0.11437 | train_mse: 0.10324 | train_mae: 0.22489 |  0:00:15s\n"
     ]
    },
    {
     "name": "stdout",
     "output_type": "stream",
     "text": [
      "epoch 12 | loss: 0.09085 | train_mse: 0.07253 | train_mae: 0.20725 |  0:00:17s\n"
     ]
    },
    {
     "name": "stdout",
     "output_type": "stream",
     "text": [
      "epoch 13 | loss: 0.09277 | train_mse: 0.05833 | train_mae: 0.18537 |  0:00:19s\n"
     ]
    },
    {
     "name": "stdout",
     "output_type": "stream",
     "text": [
      "epoch 14 | loss: 0.08368 | train_mse: 0.05962 | train_mae: 0.18707 |  0:00:20s\n"
     ]
    },
    {
     "name": "stdout",
     "output_type": "stream",
     "text": [
      "epoch 15 | loss: 0.09299 | train_mse: 0.05538 | train_mae: 0.19306 |  0:00:21s\n"
     ]
    },
    {
     "name": "stdout",
     "output_type": "stream",
     "text": [
      "epoch 16 | loss: 0.09405 | train_mse: 0.06158 | train_mae: 0.19664 |  0:00:22s\n"
     ]
    },
    {
     "name": "stdout",
     "output_type": "stream",
     "text": [
      "epoch 17 | loss: 0.09908 | train_mse: 0.058   | train_mae: 0.18609 |  0:00:23s\n"
     ]
    },
    {
     "name": "stdout",
     "output_type": "stream",
     "text": [
      "epoch 18 | loss: 0.07594 | train_mse: 0.0424  | train_mae: 0.16791 |  0:00:24s\n"
     ]
    },
    {
     "name": "stdout",
     "output_type": "stream",
     "text": [
      "epoch 19 | loss: 0.07769 | train_mse: 0.04112 | train_mae: 0.16428 |  0:00:25s\n"
     ]
    },
    {
     "name": "stdout",
     "output_type": "stream",
     "text": [
      "epoch 20 | loss: 0.08146 | train_mse: 0.03609 | train_mae: 0.14765 |  0:00:26s\n"
     ]
    },
    {
     "name": "stdout",
     "output_type": "stream",
     "text": [
      "epoch 21 | loss: 0.07496 | train_mse: 0.04095 | train_mae: 0.16004 |  0:00:27s\n"
     ]
    },
    {
     "name": "stdout",
     "output_type": "stream",
     "text": [
      "epoch 22 | loss: 0.06612 | train_mse: 0.03406 | train_mae: 0.14776 |  0:00:28s\n"
     ]
    },
    {
     "name": "stdout",
     "output_type": "stream",
     "text": [
      "epoch 23 | loss: 0.06303 | train_mse: 0.02431 | train_mae: 0.12271 |  0:00:29s\n"
     ]
    },
    {
     "name": "stdout",
     "output_type": "stream",
     "text": [
      "epoch 24 | loss: 0.06377 | train_mse: 0.03098 | train_mae: 0.13622 |  0:00:31s\n"
     ]
    },
    {
     "name": "stdout",
     "output_type": "stream",
     "text": [
      "epoch 25 | loss: 0.05051 | train_mse: 0.03063 | train_mae: 0.14433 |  0:00:32s\n"
     ]
    },
    {
     "name": "stdout",
     "output_type": "stream",
     "text": [
      "epoch 26 | loss: 0.04615 | train_mse: 0.01889 | train_mae: 0.10494 |  0:00:33s\n"
     ]
    },
    {
     "name": "stdout",
     "output_type": "stream",
     "text": [
      "epoch 27 | loss: 0.04696 | train_mse: 0.01379 | train_mae: 0.08579 |  0:00:34s\n"
     ]
    },
    {
     "name": "stdout",
     "output_type": "stream",
     "text": [
      "epoch 28 | loss: 0.0508  | train_mse: 0.02153 | train_mae: 0.11256 |  0:00:36s\n"
     ]
    },
    {
     "name": "stdout",
     "output_type": "stream",
     "text": [
      "epoch 29 | loss: 0.04841 | train_mse: 0.0388  | train_mae: 0.14569 |  0:00:37s\n"
     ]
    },
    {
     "name": "stdout",
     "output_type": "stream",
     "text": [
      "epoch 30 | loss: 0.059   | train_mse: 0.02151 | train_mae: 0.10837 |  0:00:39s\n"
     ]
    },
    {
     "name": "stdout",
     "output_type": "stream",
     "text": [
      "epoch 31 | loss: 0.04879 | train_mse: 0.01877 | train_mae: 0.09462 |  0:00:40s\n"
     ]
    },
    {
     "name": "stdout",
     "output_type": "stream",
     "text": [
      "epoch 32 | loss: 0.05688 | train_mse: 0.02417 | train_mae: 0.11615 |  0:00:41s\n"
     ]
    },
    {
     "name": "stdout",
     "output_type": "stream",
     "text": [
      "epoch 33 | loss: 0.06175 | train_mse: 0.01754 | train_mae: 0.09553 |  0:00:42s\n"
     ]
    },
    {
     "name": "stdout",
     "output_type": "stream",
     "text": [
      "epoch 34 | loss: 0.04854 | train_mse: 0.01527 | train_mae: 0.09025 |  0:00:43s\n"
     ]
    },
    {
     "name": "stdout",
     "output_type": "stream",
     "text": [
      "epoch 35 | loss: 0.04048 | train_mse: 0.01944 | train_mae: 0.10341 |  0:00:44s\n"
     ]
    },
    {
     "name": "stdout",
     "output_type": "stream",
     "text": [
      "epoch 36 | loss: 0.04077 | train_mse: 0.00985 | train_mae: 0.07316 |  0:00:45s\n"
     ]
    },
    {
     "name": "stdout",
     "output_type": "stream",
     "text": [
      "epoch 37 | loss: 0.06051 | train_mse: 0.04959 | train_mae: 0.16549 |  0:00:46s\n"
     ]
    },
    {
     "name": "stdout",
     "output_type": "stream",
     "text": [
      "epoch 38 | loss: 0.05483 | train_mse: 0.03381 | train_mae: 0.14369 |  0:00:47s\n"
     ]
    },
    {
     "name": "stdout",
     "output_type": "stream",
     "text": [
      "epoch 39 | loss: 0.04898 | train_mse: 0.01539 | train_mae: 0.09227 |  0:00:48s\n"
     ]
    },
    {
     "name": "stdout",
     "output_type": "stream",
     "text": [
      "epoch 40 | loss: 0.05679 | train_mse: 0.01441 | train_mae: 0.08694 |  0:00:49s\n"
     ]
    },
    {
     "name": "stdout",
     "output_type": "stream",
     "text": [
      "epoch 41 | loss: 0.0356  | train_mse: 0.02067 | train_mae: 0.11474 |  0:00:50s\n"
     ]
    },
    {
     "name": "stdout",
     "output_type": "stream",
     "text": [
      "epoch 42 | loss: 0.03896 | train_mse: 0.03278 | train_mae: 0.12921 |  0:00:51s\n"
     ]
    },
    {
     "name": "stdout",
     "output_type": "stream",
     "text": [
      "epoch 43 | loss: 0.05533 | train_mse: 0.02118 | train_mae: 0.10479 |  0:00:52s\n"
     ]
    },
    {
     "name": "stdout",
     "output_type": "stream",
     "text": [
      "epoch 44 | loss: 0.05294 | train_mse: 0.03726 | train_mae: 0.14154 |  0:00:54s\n"
     ]
    },
    {
     "name": "stdout",
     "output_type": "stream",
     "text": [
      "epoch 45 | loss: 0.04401 | train_mse: 0.01202 | train_mae: 0.07704 |  0:00:56s\n"
     ]
    },
    {
     "name": "stdout",
     "output_type": "stream",
     "text": [
      "epoch 46 | loss: 0.0431  | train_mse: 0.02498 | train_mae: 0.11322 |  0:00:58s\n"
     ]
    },
    {
     "name": "stdout",
     "output_type": "stream",
     "text": [
      "epoch 47 | loss: 0.04303 | train_mse: 0.03556 | train_mae: 0.14246 |  0:00:59s\n"
     ]
    },
    {
     "name": "stdout",
     "output_type": "stream",
     "text": [
      "epoch 48 | loss: 0.04487 | train_mse: 0.0275  | train_mae: 0.11927 |  0:01:01s\n"
     ]
    },
    {
     "name": "stdout",
     "output_type": "stream",
     "text": [
      "epoch 49 | loss: 0.04897 | train_mse: 0.01575 | train_mae: 0.0966  |  0:01:02s\n"
     ]
    },
    {
     "name": "stdout",
     "output_type": "stream",
     "text": [
      "epoch 50 | loss: 0.04662 | train_mse: 0.01757 | train_mae: 0.1006  |  0:01:04s\n"
     ]
    },
    {
     "name": "stdout",
     "output_type": "stream",
     "text": [
      "epoch 51 | loss: 0.05089 | train_mse: 0.02803 | train_mae: 0.12276 |  0:01:05s\n"
     ]
    },
    {
     "name": "stdout",
     "output_type": "stream",
     "text": [
      "epoch 52 | loss: 0.04067 | train_mse: 0.01751 | train_mae: 0.09448 |  0:01:05s\n"
     ]
    },
    {
     "name": "stdout",
     "output_type": "stream",
     "text": [
      "epoch 53 | loss: 0.06524 | train_mse: 0.02008 | train_mae: 0.1067  |  0:01:07s\n"
     ]
    },
    {
     "name": "stdout",
     "output_type": "stream",
     "text": [
      "epoch 54 | loss: 0.04089 | train_mse: 0.01352 | train_mae: 0.09027 |  0:01:08s\n"
     ]
    },
    {
     "name": "stdout",
     "output_type": "stream",
     "text": [
      "epoch 55 | loss: 0.0323  | train_mse: 0.01113 | train_mae: 0.07936 |  0:01:08s\n"
     ]
    },
    {
     "name": "stdout",
     "output_type": "stream",
     "text": [
      "epoch 56 | loss: 0.04472 | train_mse: 0.0193  | train_mae: 0.0984  |  0:01:10s\n"
     ]
    },
    {
     "name": "stdout",
     "output_type": "stream",
     "text": [
      "epoch 57 | loss: 0.0395  | train_mse: 0.01626 | train_mae: 0.09153 |  0:01:13s\n"
     ]
    },
    {
     "name": "stdout",
     "output_type": "stream",
     "text": [
      "epoch 58 | loss: 0.04723 | train_mse: 0.02785 | train_mae: 0.11602 |  0:01:15s\n"
     ]
    },
    {
     "name": "stdout",
     "output_type": "stream",
     "text": [
      "epoch 59 | loss: 0.04913 | train_mse: 0.01484 | train_mae: 0.10074 |  0:01:17s\n"
     ]
    },
    {
     "name": "stdout",
     "output_type": "stream",
     "text": [
      "epoch 60 | loss: 0.02891 | train_mse: 0.01439 | train_mae: 0.09541 |  0:01:18s\n"
     ]
    },
    {
     "name": "stdout",
     "output_type": "stream",
     "text": [
      "epoch 61 | loss: 0.03269 | train_mse: 0.01507 | train_mae: 0.09466 |  0:01:19s\n"
     ]
    },
    {
     "name": "stdout",
     "output_type": "stream",
     "text": [
      "epoch 62 | loss: 0.03769 | train_mse: 0.01242 | train_mae: 0.08247 |  0:01:20s\n"
     ]
    },
    {
     "name": "stdout",
     "output_type": "stream",
     "text": [
      "epoch 63 | loss: 0.03575 | train_mse: 0.01925 | train_mae: 0.09981 |  0:01:21s\n"
     ]
    },
    {
     "name": "stdout",
     "output_type": "stream",
     "text": [
      "epoch 64 | loss: 0.03222 | train_mse: 0.0236  | train_mae: 0.10634 |  0:01:22s\n"
     ]
    },
    {
     "name": "stdout",
     "output_type": "stream",
     "text": [
      "epoch 65 | loss: 0.04697 | train_mse: 0.0152  | train_mae: 0.09071 |  0:01:23s\n"
     ]
    },
    {
     "name": "stdout",
     "output_type": "stream",
     "text": [
      "epoch 66 | loss: 0.05151 | train_mse: 0.01432 | train_mae: 0.0949  |  0:01:26s\n"
     ]
    },
    {
     "name": "stdout",
     "output_type": "stream",
     "text": [
      "epoch 67 | loss: 0.04227 | train_mse: 0.01766 | train_mae: 0.09486 |  0:01:28s\n"
     ]
    },
    {
     "name": "stdout",
     "output_type": "stream",
     "text": [
      "epoch 68 | loss: 0.03482 | train_mse: 0.01818 | train_mae: 0.09608 |  0:01:29s\n"
     ]
    },
    {
     "name": "stdout",
     "output_type": "stream",
     "text": [
      "epoch 69 | loss: 0.0317  | train_mse: 0.01838 | train_mae: 0.10314 |  0:01:30s\n"
     ]
    },
    {
     "name": "stdout",
     "output_type": "stream",
     "text": [
      "epoch 70 | loss: 0.04116 | train_mse: 0.01489 | train_mae: 0.08936 |  0:01:31s\n"
     ]
    },
    {
     "name": "stdout",
     "output_type": "stream",
     "text": [
      "epoch 71 | loss: 0.04913 | train_mse: 0.03673 | train_mae: 0.1437  |  0:01:31s\n"
     ]
    },
    {
     "name": "stdout",
     "output_type": "stream",
     "text": [
      "epoch 72 | loss: 0.04257 | train_mse: 0.01961 | train_mae: 0.10783 |  0:01:32s\n"
     ]
    },
    {
     "name": "stdout",
     "output_type": "stream",
     "text": [
      "epoch 73 | loss: 0.03229 | train_mse: 0.01184 | train_mae: 0.08041 |  0:01:33s\n"
     ]
    },
    {
     "name": "stdout",
     "output_type": "stream",
     "text": [
      "epoch 74 | loss: 0.03251 | train_mse: 0.02116 | train_mae: 0.09862 |  0:01:34s\n"
     ]
    },
    {
     "name": "stdout",
     "output_type": "stream",
     "text": [
      "epoch 75 | loss: 0.03787 | train_mse: 0.02224 | train_mae: 0.09853 |  0:01:36s\n"
     ]
    },
    {
     "name": "stdout",
     "output_type": "stream",
     "text": [
      "epoch 76 | loss: 0.03708 | train_mse: 0.01318 | train_mae: 0.08906 |  0:01:37s\n"
     ]
    },
    {
     "name": "stdout",
     "output_type": "stream",
     "text": [
      "epoch 77 | loss: 0.03093 | train_mse: 0.02198 | train_mae: 0.11475 |  0:01:37s\n"
     ]
    },
    {
     "name": "stdout",
     "output_type": "stream",
     "text": [
      "epoch 78 | loss: 0.04195 | train_mse: 0.01656 | train_mae: 0.10153 |  0:01:38s\n"
     ]
    },
    {
     "name": "stdout",
     "output_type": "stream",
     "text": [
      "epoch 79 | loss: 0.03046 | train_mse: 0.01542 | train_mae: 0.09797 |  0:01:39s\n"
     ]
    },
    {
     "name": "stdout",
     "output_type": "stream",
     "text": [
      "epoch 80 | loss: 0.04381 | train_mse: 0.02312 | train_mae: 0.12308 |  0:01:39s\n"
     ]
    },
    {
     "name": "stdout",
     "output_type": "stream",
     "text": [
      "epoch 81 | loss: 0.02979 | train_mse: 0.01321 | train_mae: 0.08924 |  0:01:40s\n"
     ]
    },
    {
     "name": "stdout",
     "output_type": "stream",
     "text": [
      "epoch 82 | loss: 0.03054 | train_mse: 0.01126 | train_mae: 0.08057 |  0:01:41s\n"
     ]
    },
    {
     "name": "stdout",
     "output_type": "stream",
     "text": [
      "epoch 83 | loss: 0.03213 | train_mse: 0.0092  | train_mae: 0.06956 |  0:01:41s\n"
     ]
    },
    {
     "name": "stdout",
     "output_type": "stream",
     "text": [
      "epoch 84 | loss: 0.02429 | train_mse: 0.01994 | train_mae: 0.10863 |  0:01:42s\n"
     ]
    },
    {
     "name": "stdout",
     "output_type": "stream",
     "text": [
      "epoch 85 | loss: 0.04044 | train_mse: 0.00991 | train_mae: 0.0736  |  0:01:43s\n"
     ]
    },
    {
     "name": "stdout",
     "output_type": "stream",
     "text": [
      "epoch 86 | loss: 0.04473 | train_mse: 0.00943 | train_mae: 0.07661 |  0:01:44s\n"
     ]
    },
    {
     "name": "stdout",
     "output_type": "stream",
     "text": [
      "epoch 87 | loss: 0.02879 | train_mse: 0.01325 | train_mae: 0.08146 |  0:01:44s\n"
     ]
    },
    {
     "name": "stdout",
     "output_type": "stream",
     "text": [
      "epoch 88 | loss: 0.03257 | train_mse: 0.01032 | train_mae: 0.07184 |  0:01:45s\n"
     ]
    },
    {
     "name": "stdout",
     "output_type": "stream",
     "text": [
      "epoch 89 | loss: 0.03639 | train_mse: 0.01351 | train_mae: 0.08221 |  0:01:46s\n"
     ]
    },
    {
     "name": "stdout",
     "output_type": "stream",
     "text": [
      "epoch 90 | loss: 0.02616 | train_mse: 0.01076 | train_mae: 0.07559 |  0:01:47s\n"
     ]
    },
    {
     "name": "stdout",
     "output_type": "stream",
     "text": [
      "epoch 91 | loss: 0.03671 | train_mse: 0.02546 | train_mae: 0.11478 |  0:01:47s\n"
     ]
    },
    {
     "name": "stdout",
     "output_type": "stream",
     "text": [
      "epoch 92 | loss: 0.0311  | train_mse: 0.02201 | train_mae: 0.10474 |  0:01:48s\n"
     ]
    },
    {
     "name": "stdout",
     "output_type": "stream",
     "text": [
      "epoch 93 | loss: 0.03987 | train_mse: 0.02852 | train_mae: 0.12603 |  0:01:49s\n"
     ]
    },
    {
     "name": "stdout",
     "output_type": "stream",
     "text": [
      "epoch 94 | loss: 0.03521 | train_mse: 0.01837 | train_mae: 0.10658 |  0:01:49s\n"
     ]
    },
    {
     "name": "stdout",
     "output_type": "stream",
     "text": [
      "epoch 95 | loss: 0.02682 | train_mse: 0.01316 | train_mae: 0.08077 |  0:01:50s\n"
     ]
    },
    {
     "name": "stdout",
     "output_type": "stream",
     "text": [
      "epoch 96 | loss: 0.02799 | train_mse: 0.01419 | train_mae: 0.09229 |  0:01:51s\n"
     ]
    },
    {
     "name": "stdout",
     "output_type": "stream",
     "text": [
      "epoch 97 | loss: 0.03425 | train_mse: 0.0174  | train_mae: 0.08927 |  0:01:52s\n"
     ]
    },
    {
     "name": "stdout",
     "output_type": "stream",
     "text": [
      "epoch 98 | loss: 0.02805 | train_mse: 0.01525 | train_mae: 0.07891 |  0:01:53s\n"
     ]
    },
    {
     "name": "stdout",
     "output_type": "stream",
     "text": [
      "epoch 99 | loss: 0.02427 | train_mse: 0.01905 | train_mae: 0.10258 |  0:01:55s\n"
     ]
    },
    {
     "name": "stdout",
     "output_type": "stream",
     "text": [
      "epoch 100| loss: 0.03127 | train_mse: 0.00864 | train_mae: 0.07075 |  0:01:56s\n"
     ]
    },
    {
     "name": "stdout",
     "output_type": "stream",
     "text": [
      "epoch 101| loss: 0.03009 | train_mse: 0.01407 | train_mae: 0.08093 |  0:01:58s\n"
     ]
    },
    {
     "name": "stdout",
     "output_type": "stream",
     "text": [
      "epoch 102| loss: 0.03802 | train_mse: 0.01777 | train_mae: 0.0924  |  0:01:59s\n"
     ]
    },
    {
     "name": "stdout",
     "output_type": "stream",
     "text": [
      "epoch 103| loss: 0.02309 | train_mse: 0.00887 | train_mae: 0.068   |  0:02:00s\n"
     ]
    },
    {
     "name": "stdout",
     "output_type": "stream",
     "text": [
      "epoch 104| loss: 0.02298 | train_mse: 0.00792 | train_mae: 0.06932 |  0:02:01s\n"
     ]
    },
    {
     "name": "stdout",
     "output_type": "stream",
     "text": [
      "epoch 105| loss: 0.0372  | train_mse: 0.01691 | train_mae: 0.09644 |  0:02:02s\n"
     ]
    },
    {
     "name": "stdout",
     "output_type": "stream",
     "text": [
      "epoch 106| loss: 0.03649 | train_mse: 0.01664 | train_mae: 0.10518 |  0:02:03s\n"
     ]
    },
    {
     "name": "stdout",
     "output_type": "stream",
     "text": [
      "epoch 107| loss: 0.0214  | train_mse: 0.01297 | train_mae: 0.09361 |  0:02:04s\n"
     ]
    },
    {
     "name": "stdout",
     "output_type": "stream",
     "text": [
      "epoch 108| loss: 0.03138 | train_mse: 0.01189 | train_mae: 0.07608 |  0:02:05s\n"
     ]
    },
    {
     "name": "stdout",
     "output_type": "stream",
     "text": [
      "epoch 109| loss: 0.03201 | train_mse: 0.00682 | train_mae: 0.06228 |  0:02:07s\n"
     ]
    },
    {
     "name": "stdout",
     "output_type": "stream",
     "text": [
      "epoch 110| loss: 0.03379 | train_mse: 0.01516 | train_mae: 0.09404 |  0:02:08s\n"
     ]
    },
    {
     "name": "stdout",
     "output_type": "stream",
     "text": [
      "epoch 111| loss: 0.03259 | train_mse: 0.03565 | train_mae: 0.1445  |  0:02:08s\n"
     ]
    },
    {
     "name": "stdout",
     "output_type": "stream",
     "text": [
      "epoch 112| loss: 0.03393 | train_mse: 0.03701 | train_mae: 0.10952 |  0:02:09s\n"
     ]
    },
    {
     "name": "stdout",
     "output_type": "stream",
     "text": [
      "epoch 113| loss: 0.04763 | train_mse: 0.02093 | train_mae: 0.1065  |  0:02:10s\n"
     ]
    },
    {
     "name": "stdout",
     "output_type": "stream",
     "text": [
      "epoch 114| loss: 0.0435  | train_mse: 0.01938 | train_mae: 0.09616 |  0:02:11s\n"
     ]
    },
    {
     "name": "stdout",
     "output_type": "stream",
     "text": [
      "epoch 115| loss: 0.03613 | train_mse: 0.01382 | train_mae: 0.09184 |  0:02:12s\n"
     ]
    },
    {
     "name": "stdout",
     "output_type": "stream",
     "text": [
      "epoch 116| loss: 0.03449 | train_mse: 0.01404 | train_mae: 0.0914  |  0:02:14s\n"
     ]
    },
    {
     "name": "stdout",
     "output_type": "stream",
     "text": [
      "epoch 117| loss: 0.07595 | train_mse: 0.10185 | train_mae: 0.20372 |  0:02:15s\n"
     ]
    },
    {
     "name": "stdout",
     "output_type": "stream",
     "text": [
      "epoch 118| loss: 0.09197 | train_mse: 0.12917 | train_mae: 0.24107 |  0:02:16s\n"
     ]
    },
    {
     "name": "stdout",
     "output_type": "stream",
     "text": [
      "epoch 119| loss: 0.07082 | train_mse: 0.07272 | train_mae: 0.18975 |  0:02:17s\n"
     ]
    },
    {
     "name": "stdout",
     "output_type": "stream",
     "text": [
      "epoch 120| loss: 0.05603 | train_mse: 0.04668 | train_mae: 0.15453 |  0:02:18s\n"
     ]
    },
    {
     "name": "stdout",
     "output_type": "stream",
     "text": [
      "epoch 121| loss: 0.04244 | train_mse: 0.02984 | train_mae: 0.11558 |  0:02:19s\n"
     ]
    },
    {
     "name": "stdout",
     "output_type": "stream",
     "text": [
      "epoch 122| loss: 0.03302 | train_mse: 0.0263  | train_mae: 0.12098 |  0:02:20s\n"
     ]
    },
    {
     "name": "stdout",
     "output_type": "stream",
     "text": [
      "epoch 123| loss: 0.03667 | train_mse: 0.026   | train_mae: 0.12642 |  0:02:20s\n"
     ]
    },
    {
     "name": "stdout",
     "output_type": "stream",
     "text": [
      "epoch 124| loss: 0.05292 | train_mse: 0.02966 | train_mae: 0.12693 |  0:02:21s\n"
     ]
    },
    {
     "name": "stdout",
     "output_type": "stream",
     "text": [
      "epoch 125| loss: 0.04751 | train_mse: 0.03884 | train_mae: 0.14114 |  0:02:22s\n"
     ]
    },
    {
     "name": "stdout",
     "output_type": "stream",
     "text": [
      "epoch 126| loss: 0.03365 | train_mse: 0.02502 | train_mae: 0.10577 |  0:02:23s\n"
     ]
    },
    {
     "name": "stdout",
     "output_type": "stream",
     "text": [
      "epoch 127| loss: 0.03335 | train_mse: 0.02553 | train_mae: 0.10862 |  0:02:24s\n"
     ]
    },
    {
     "name": "stdout",
     "output_type": "stream",
     "text": [
      "epoch 128| loss: 0.03009 | train_mse: 0.01459 | train_mae: 0.08781 |  0:02:25s\n"
     ]
    },
    {
     "name": "stdout",
     "output_type": "stream",
     "text": [
      "epoch 129| loss: 0.03997 | train_mse: 0.01036 | train_mae: 0.07273 |  0:02:25s\n"
     ]
    },
    {
     "name": "stdout",
     "output_type": "stream",
     "text": [
      "epoch 130| loss: 0.03791 | train_mse: 0.0242  | train_mae: 0.1062  |  0:02:26s\n"
     ]
    },
    {
     "name": "stdout",
     "output_type": "stream",
     "text": [
      "epoch 131| loss: 0.03886 | train_mse: 0.014   | train_mae: 0.08634 |  0:02:27s\n"
     ]
    },
    {
     "name": "stdout",
     "output_type": "stream",
     "text": [
      "epoch 132| loss: 0.03619 | train_mse: 0.01559 | train_mae: 0.09982 |  0:02:28s\n"
     ]
    },
    {
     "name": "stdout",
     "output_type": "stream",
     "text": [
      "epoch 133| loss: 0.02978 | train_mse: 0.01655 | train_mae: 0.09134 |  0:02:29s\n"
     ]
    },
    {
     "name": "stdout",
     "output_type": "stream",
     "text": [
      "epoch 134| loss: 0.03275 | train_mse: 0.0178  | train_mae: 0.08633 |  0:02:30s\n"
     ]
    },
    {
     "name": "stdout",
     "output_type": "stream",
     "text": [
      "epoch 135| loss: 0.03891 | train_mse: 0.02554 | train_mae: 0.10847 |  0:02:31s\n"
     ]
    },
    {
     "name": "stdout",
     "output_type": "stream",
     "text": [
      "epoch 136| loss: 0.03239 | train_mse: 0.01886 | train_mae: 0.09852 |  0:02:34s\n"
     ]
    },
    {
     "name": "stdout",
     "output_type": "stream",
     "text": [
      "epoch 137| loss: 0.02561 | train_mse: 0.01125 | train_mae: 0.07337 |  0:02:36s\n"
     ]
    },
    {
     "name": "stdout",
     "output_type": "stream",
     "text": [
      "epoch 138| loss: 0.03028 | train_mse: 0.01056 | train_mae: 0.07771 |  0:02:38s\n"
     ]
    },
    {
     "name": "stdout",
     "output_type": "stream",
     "text": [
      "epoch 139| loss: 0.05047 | train_mse: 0.01262 | train_mae: 0.07964 |  0:02:39s\n"
     ]
    },
    {
     "name": "stdout",
     "output_type": "stream",
     "text": [
      "epoch 140| loss: 0.03131 | train_mse: 0.01771 | train_mae: 0.08543 |  0:02:39s\n"
     ]
    },
    {
     "name": "stdout",
     "output_type": "stream",
     "text": [
      "epoch 141| loss: 0.03979 | train_mse: 0.0234  | train_mae: 0.11881 |  0:02:40s\n"
     ]
    },
    {
     "name": "stdout",
     "output_type": "stream",
     "text": [
      "epoch 142| loss: 0.03076 | train_mse: 0.02135 | train_mae: 0.11062 |  0:02:41s\n"
     ]
    },
    {
     "name": "stdout",
     "output_type": "stream",
     "text": [
      "epoch 143| loss: 0.02754 | train_mse: 0.01546 | train_mae: 0.08664 |  0:02:41s\n"
     ]
    },
    {
     "name": "stdout",
     "output_type": "stream",
     "text": [
      "epoch 144| loss: 0.02513 | train_mse: 0.01975 | train_mae: 0.09064 |  0:02:42s\n"
     ]
    },
    {
     "name": "stdout",
     "output_type": "stream",
     "text": [
      "epoch 145| loss: 0.02489 | train_mse: 0.01263 | train_mae: 0.07556 |  0:02:43s\n"
     ]
    },
    {
     "name": "stdout",
     "output_type": "stream",
     "text": [
      "epoch 146| loss: 0.03069 | train_mse: 0.00752 | train_mae: 0.06268 |  0:02:45s\n"
     ]
    },
    {
     "name": "stdout",
     "output_type": "stream",
     "text": [
      "epoch 147| loss: 0.02534 | train_mse: 0.01147 | train_mae: 0.07376 |  0:02:47s\n"
     ]
    },
    {
     "name": "stdout",
     "output_type": "stream",
     "text": [
      "epoch 148| loss: 0.0217  | train_mse: 0.00942 | train_mae: 0.07332 |  0:02:49s\n"
     ]
    },
    {
     "name": "stdout",
     "output_type": "stream",
     "text": [
      "epoch 149| loss: 0.02239 | train_mse: 0.00989 | train_mae: 0.07425 |  0:02:50s\n"
     ]
    },
    {
     "name": "stdout",
     "output_type": "stream",
     "text": [
      "epoch 150| loss: 0.02921 | train_mse: 0.01301 | train_mae: 0.07624 |  0:02:51s\n"
     ]
    },
    {
     "name": "stdout",
     "output_type": "stream",
     "text": [
      "epoch 151| loss: 0.02907 | train_mse: 0.01481 | train_mae: 0.08784 |  0:02:51s\n"
     ]
    },
    {
     "name": "stdout",
     "output_type": "stream",
     "text": [
      "epoch 152| loss: 0.04158 | train_mse: 0.01414 | train_mae: 0.08141 |  0:02:52s\n"
     ]
    },
    {
     "name": "stdout",
     "output_type": "stream",
     "text": [
      "epoch 153| loss: 0.04013 | train_mse: 0.01221 | train_mae: 0.07612 |  0:02:53s\n"
     ]
    },
    {
     "name": "stdout",
     "output_type": "stream",
     "text": [
      "epoch 154| loss: 0.02791 | train_mse: 0.01323 | train_mae: 0.08496 |  0:02:55s\n"
     ]
    },
    {
     "name": "stdout",
     "output_type": "stream",
     "text": [
      "epoch 155| loss: 0.0318  | train_mse: 0.03773 | train_mae: 0.12807 |  0:02:56s\n"
     ]
    },
    {
     "name": "stdout",
     "output_type": "stream",
     "text": [
      "epoch 156| loss: 0.03766 | train_mse: 0.00972 | train_mae: 0.07419 |  0:02:57s\n"
     ]
    },
    {
     "name": "stdout",
     "output_type": "stream",
     "text": [
      "epoch 157| loss: 0.02634 | train_mse: 0.02276 | train_mae: 0.11709 |  0:02:58s\n"
     ]
    },
    {
     "name": "stdout",
     "output_type": "stream",
     "text": [
      "epoch 158| loss: 0.0433  | train_mse: 0.00981 | train_mae: 0.07093 |  0:03:00s\n"
     ]
    },
    {
     "name": "stdout",
     "output_type": "stream",
     "text": [
      "epoch 159| loss: 0.02829 | train_mse: 0.01276 | train_mae: 0.08663 |  0:03:00s\n",
      "\n",
      "Early stopping occurred at epoch 159 with best_epoch = 109 and best_train_mae = 0.06228\n",
      "Best weights from best epoch are automatically used!\n"
     ]
    },
    {
     "name": "stdout",
     "output_type": "stream",
     "text": [
      "BEST VALID SCORE FOR dataset : 0.06227990022102212\n",
      "FINAL TEST SCORE FOR dataset: 0.06615251830760636\n",
      "{'loss': [1.0447980865399302, 0.3361948680023417, 0.24755086106663807, 0.1628776577085936, 0.15038907654122344, 0.13142344209969237, 0.15085947848492412, 0.13371358496358418, 0.13910524649029835, 0.11467005259050997, 0.11003124888634448, 0.11437077672260204, 0.09084958566128237, 0.09277269549983332, 0.08367679474408153, 0.09299268153669003, 0.09405401970353888, 0.0990826037108704, 0.07593678690323225, 0.0776855447102059, 0.08146385649516452, 0.07496472261239343, 0.06611983849384885, 0.06303387948278494, 0.06377400520958419, 0.050512466300582266, 0.046146414797838035, 0.046962562086916126, 0.050796927963095304, 0.048412548942364, 0.05899726553343795, 0.0487889197051331, 0.05687569766168874, 0.061753865173662915, 0.04854355990304232, 0.04048206237317685, 0.04076506874557427, 0.06050640395584635, 0.0548291393231103, 0.04898292238821036, 0.05678806335025191, 0.035596260588603996, 0.0389612391833762, 0.05533131129481505, 0.05294253087393236, 0.044007818551327585, 0.04310240421796078, 0.043032390311214745, 0.04487454174056115, 0.04896660935412789, 0.04662093631801854, 0.05088775097741366, 0.04067014633444311, 0.065238440318294, 0.04088954367835669, 0.03230442378536497, 0.04472008483417648, 0.03950114079208056, 0.047233699587346675, 0.049133786088286474, 0.028914350094061333, 0.03268884444542545, 0.03768906271515918, 0.03575247802835334, 0.03222002229783745, 0.04697006557391598, 0.05151438873249079, 0.04226726012043532, 0.0348169750106257, 0.031703552710505185, 0.041157384891463415, 0.049126796303043924, 0.04257037745430726, 0.03228608727552215, 0.03250890495771305, 0.03786803883916004, 0.037075341390961546, 0.0309299393420499, 0.04194546537018754, 0.03045533366913904, 0.043813813538427074, 0.029788057850704132, 0.030544038655703543, 0.032132543671985404, 0.02429045428573503, 0.04044447305342273, 0.0447328780877862, 0.02879006481131824, 0.03256719838524486, 0.036390591570531115, 0.02616199530685375, 0.036714604118359605, 0.031097070159275292, 0.03987077645447821, 0.03520761357456543, 0.02681671616891308, 0.027987443565934023, 0.03424748302670954, 0.02804895179764844, 0.024266827523902496, 0.031268140634807005, 0.030087289937350183, 0.038024702852634346, 0.023085980685215432, 0.022978838715180513, 0.03720308643695974, 0.03648593259750826, 0.02139975569826772, 0.031378058880470475, 0.032014785352669634, 0.03379162019937745, 0.03258537520511919, 0.03393302086121873, 0.047634266535311644, 0.04349552395871874, 0.03612861323628441, 0.034489802166771034, 0.07595236584883948, 0.0919665952944212, 0.07082299564142956, 0.05602973097698696, 0.04243511340128871, 0.03301604252296473, 0.03666867922494, 0.052920705211084905, 0.04750758171663999, 0.0336487343480222, 0.03335242785197904, 0.03009253463644158, 0.03997119091426899, 0.03790675763780985, 0.03885617138702629, 0.03618704597996578, 0.029782984781925377, 0.03274784982204438, 0.038913516588630424, 0.03238882202084755, 0.025608253546957085, 0.030282083085771492, 0.05046639618151351, 0.03131297639046313, 0.039792814064491845, 0.030759996234011572, 0.027544711282664867, 0.02513063907720367, 0.0248899212295147, 0.030691902829692107, 0.025343268138966264, 0.021700630480186948, 0.02239395828511117, 0.029207473274939222, 0.02907260125108573, 0.04158076148856346, 0.04012989798858034, 0.027910178375554782, 0.031800666684436485, 0.03766043989006004, 0.02633952133430332, 0.04329949292181369, 0.028294881192985497], 'lr': [0.01, 0.01, 0.01, 0.01, 0.01, 0.01, 0.01, 0.01, 0.01, 0.01, 0.01, 0.01, 0.01, 0.01, 0.01, 0.01, 0.01, 0.01, 0.01, 0.01, 0.01, 0.01, 0.01, 0.01, 0.01, 0.01, 0.01, 0.01, 0.01, 0.01, 0.01, 0.01, 0.01, 0.01, 0.01, 0.01, 0.01, 0.01, 0.01, 0.01, 0.01, 0.01, 0.01, 0.01, 0.01, 0.01, 0.01, 0.01, 0.01, 0.01, 0.01, 0.01, 0.01, 0.01, 0.01, 0.01, 0.01, 0.01, 0.01, 0.01, 0.01, 0.01, 0.01, 0.01, 0.01, 0.01, 0.01, 0.01, 0.01, 0.01, 0.01, 0.01, 0.01, 0.01, 0.01, 0.01, 0.01, 0.01, 0.01, 0.01, 0.01, 0.01, 0.01, 0.01, 0.01, 0.01, 0.01, 0.01, 0.01, 0.01, 0.01, 0.01, 0.01, 0.01, 0.01, 0.01, 0.01, 0.01, 0.01, 0.01, 0.01, 0.01, 0.01, 0.01, 0.01, 0.01, 0.01, 0.01, 0.01, 0.01, 0.01, 0.01, 0.01, 0.01, 0.01, 0.01, 0.01, 0.01, 0.01, 0.01, 0.01, 0.01, 0.01, 0.01, 0.01, 0.01, 0.01, 0.01, 0.01, 0.01, 0.01, 0.01, 0.01, 0.01, 0.01, 0.01, 0.01, 0.01, 0.01, 0.01, 0.01, 0.01, 0.01, 0.01, 0.01, 0.01, 0.01, 0.01, 0.01, 0.01, 0.01, 0.01, 0.01, 0.01, 0.01, 0.01, 0.01, 0.01, 0.01, 0.01], 'train_mse': [0.7051937960845488, 0.3219337216472504, 0.1755728685268142, 0.12021833037480112, 0.10109813159566473, 0.13156131078047295, 0.14553148449601758, 0.08938089237246756, 0.1022842291306433, 0.08473443791614653, 0.07379504668427922, 0.10324345984830809, 0.07252924420882784, 0.058332997751598864, 0.05962451327754704, 0.055381043197394855, 0.061575584035558115, 0.05800303918322868, 0.04239564286174849, 0.041122787531718615, 0.0360894885788555, 0.04095472013154413, 0.034062220750335194, 0.02431106433321658, 0.030984375598270726, 0.030626876396431805, 0.01889319435287101, 0.013786643758200377, 0.021526809109988315, 0.03880163022464495, 0.021513595491907973, 0.01876825453021224, 0.02417331576550056, 0.017541615067135446, 0.015274711540105634, 0.01943813555232504, 0.009851114909296372, 0.04958699423241413, 0.0338099485853078, 0.015388831043938627, 0.014410241580828605, 0.020670745979523335, 0.03278434523867007, 0.021181693636318822, 0.037261844570546515, 0.012020915314141364, 0.02497774596658277, 0.03555957568147216, 0.027495718657232833, 0.015750109383875884, 0.017566481904888444, 0.02803017591496071, 0.017507897679654827, 0.02007681737219856, 0.013523319862541593, 0.01113225625285056, 0.019302836431026118, 0.016258933189413037, 0.027849694021712317, 0.014844323076306275, 0.014385545791195808, 0.015065174373075503, 0.01242179360475551, 0.01925271238828038, 0.02359886233830759, 0.015199333337863833, 0.014323593761352591, 0.017655024883149722, 0.018176148261391717, 0.018380760414464268, 0.014893109597460309, 0.03673306714541839, 0.019612980786463632, 0.011840336737467715, 0.021157576727049706, 0.022239007183304668, 0.013175197265194493, 0.021983315387901596, 0.01655793730373263, 0.01541725936748454, 0.02311567074370016, 0.013209760096780153, 0.011258433462181023, 0.009198737654586626, 0.019942151682628424, 0.00991008727772061, 0.009433772357973188, 0.013251639208213543, 0.010315428068448543, 0.013507797443639197, 0.010761530125142936, 0.02546438791900921, 0.022008380456938727, 0.028519827924800706, 0.01837135818698751, 0.013157481766284878, 0.014186021366696187, 0.017400215068966277, 0.015254418919775645, 0.019054897702588593, 0.008639785702044062, 0.014065610682184402, 0.01777347682343301, 0.00886729985247772, 0.007921111007827228, 0.0169108559236087, 0.016644476559302353, 0.012966213404277716, 0.01189240254863732, 0.006824215480398586, 0.015156791524550125, 0.035653361365433116, 0.0370122556648089, 0.020927754281154003, 0.019383683890932285, 0.013821533105049561, 0.014037117670712132, 0.10185245313163961, 0.12917310727977632, 0.07272190759790297, 0.046679103073114986, 0.029840780808109906, 0.026298621332873934, 0.025997724727840305, 0.02965747713163251, 0.03883893862170484, 0.025016477053653546, 0.025533309421516798, 0.01459281539485316, 0.01035703859705499, 0.02420231582622307, 0.0139958491211494, 0.015594231339217933, 0.01654964966095066, 0.017800501768160223, 0.025544419211624092, 0.018863187163240307, 0.011250468827687507, 0.010558344863695588, 0.01262182643022564, 0.017710142349258776, 0.023395889952117162, 0.02135142791943239, 0.015461861125055296, 0.01975273589075575, 0.01263152724900389, 0.007516959779279685, 0.01146738855607333, 0.009422015590224595, 0.00989152338293927, 0.01301438064623751, 0.014811451692197646, 0.014139802322644569, 0.012211681419365655, 0.01322806237304051, 0.037733775949589335, 0.00971902633124772, 0.022755603610244212, 0.009805669363078732, 0.01276208697391869], 'train_mae': [0.645995419251329, 0.45241870701669934, 0.32564193504277933, 0.28081362844100016, 0.25939396342863547, 0.271715152710548, 0.3122543796673863, 0.2363806911447589, 0.25329011006262614, 0.22108136746227786, 0.20298184412664871, 0.22489386383818075, 0.20725061038446166, 0.18537044885634363, 0.18707269307231517, 0.19306177423065968, 0.19664377763469237, 0.18608739313549846, 0.1679081109714398, 0.1642798744045798, 0.14765005505820886, 0.16003690326001116, 0.14776318409355668, 0.12270825190795841, 0.13621863690235356, 0.1443260081215918, 0.10494216043044241, 0.08578556957593625, 0.11256195908664397, 0.14569236215289888, 0.10836701499174842, 0.09462048877679999, 0.11614522618372883, 0.09552748622925161, 0.09024556991699016, 0.10340797926747507, 0.07316089072446494, 0.16548732858488643, 0.1436876229843552, 0.092269564347891, 0.08693519932563178, 0.11474225111184616, 0.12921029532697034, 0.10479116947346537, 0.14154393784911276, 0.07703555173340661, 0.11322426603919333, 0.14246131758667424, 0.11926896440577442, 0.09660103640768543, 0.10060333841258245, 0.12276284599232774, 0.09447919056013308, 0.10670487647466374, 0.09026865175232665, 0.07935517696566319, 0.09839864222726702, 0.09153293991571061, 0.11602397589443865, 0.10073895310531851, 0.09541425488624601, 0.09466474835322998, 0.08247027219334338, 0.09981408893005621, 0.1063419423744945, 0.09071343595015276, 0.09489703645166825, 0.09486035230765194, 0.09608476105523493, 0.10314089268368386, 0.0893630512949405, 0.14370226124113616, 0.10782745989124848, 0.0804098485223329, 0.09861660848251785, 0.09852608697398833, 0.08906175876241211, 0.1147490267323465, 0.10153040246429573, 0.09797375303970483, 0.12308464238727654, 0.08923662015407621, 0.08056821865132349, 0.06956071856748816, 0.10863238730709865, 0.07359989231858474, 0.07660733963681589, 0.08145765731938866, 0.07184079706754554, 0.08221417820538164, 0.07559203416535262, 0.11477515060221492, 0.10474081990049239, 0.1260334921633582, 0.10658356902574236, 0.08077242376363702, 0.09228750681315483, 0.08926852839409806, 0.07891328326578881, 0.10258278656252372, 0.0707521667788015, 0.08093377047981827, 0.09240262624819807, 0.06799899807008136, 0.06931782291591, 0.09644176986108413, 0.10517567841119371, 0.093605643703258, 0.07608085196724747, 0.06227990022102212, 0.09403679203135584, 0.14449884636607724, 0.10951574182656422, 0.10650462033324254, 0.0961598084073184, 0.0918440073164482, 0.09139811817513444, 0.20372412722049957, 0.2410708224929766, 0.18974540206187565, 0.1545301409972476, 0.11558236581770796, 0.12097954186299945, 0.12641977430475407, 0.12692523816371534, 0.1411369039858554, 0.10577068273114984, 0.10861599336160299, 0.08781085157018724, 0.07272677015845333, 0.10619867334445049, 0.08634094481602182, 0.09981583645296643, 0.09133824656274386, 0.08633157631257425, 0.10846903874548164, 0.09852216458126488, 0.07337229948414771, 0.07771224937524847, 0.07964304376790875, 0.08542641402897895, 0.11881207480772558, 0.11061857741032259, 0.08664478698601649, 0.09064409737163513, 0.07556367515501751, 0.06268474720074534, 0.07376196194687559, 0.07331691185839452, 0.0742452126290169, 0.07623659501541673, 0.08784321282901528, 0.08140927901711122, 0.07612059760023569, 0.08496424166913276, 0.1280692000756024, 0.07419147429872214, 0.11708862281064718, 0.07093463964028193, 0.08663485437005292]}\n"
     ]
    },
    {
     "data": {
      "application/scrapbook.scrap.json+json": {
       "data": 0.06615251830760636,
       "encoder": "json",
       "name": "TabNet MAE",
       "version": 1
      }
     },
     "metadata": {
      "scrapbook": {
       "data": true,
       "display": false,
       "name": "TabNet MAE"
      }
     },
     "output_type": "display_data"
    },
    {
     "name": "stdout",
     "output_type": "stream",
     "text": [
      "TabNet MAE 0.06615251830760636\n"
     ]
    },
    {
     "data": {
      "image/png": "[encoded data removed]",
      "text/plain": [
       "<Figure size 432x288 with 1 Axes>"
      ]
     },
     "metadata": {
      "needs_background": "light"
     },
     "output_type": "display_data"
    }
   ],
   "source": [
    "lr = 0.01\n",
    "\n",
    "y_train = np.reshape(y_train, (-1, 1))\n",
    "y_test = np.reshape(y_test, (-1, 1))\n",
    "\n",
    "device = torch.device('cuda' if torch.cuda.is_available() else 'cpu')\n",
    "mae_tab= baselineModels.tabnetreg(X_train,y_train,X_test,y_test,batch_size,n_features,n_target,n_epochs, lr)\n",
    "sb.glue(\"TabNet MAE\",mae_tab)\n",
    "print(\"TabNet MAE\",mae_tab)"
   ]
  }
 ],
 "metadata": {
  "kernelspec": {
   "display_name": "Python 3.7.3 64-bit",
   "language": "python",
   "name": "python3"
  },
  "language_info": {
   "codemirror_mode": {
    "name": "ipython",
    "version": 3
   },
   "file_extension": ".py",
   "mimetype": "text/x-python",
   "name": "python",
   "nbconvert_exporter": "python",
   "pygments_lexer": "ipython3",
   "version": "3.8.13"
  },
  "papermill": {
   "default_parameters": {},
   "duration": 219.128765,
   "end_time": "2022-07-24T10:30:31.012424",
   "environment_variables": {},
   "exception": null,
   "input_path": "BaselineModels.ipynb",
   "output_path": "./BaseLine_Model_Output/BaselineModels_output_3.ipynb",
   "parameters": {},
   "start_time": "2022-07-24T10:26:51.883659",
   "version": "2.3.3"
  },
  "vscode": {
   "interpreter": {
    "hash": "aee8b7b246df8f9039afb4144a1f6fd8d2ca17a180786b69acc140d282b71a49"
   }
  }
 },
 "nbformat": 4,
 "nbformat_minor": 5
}