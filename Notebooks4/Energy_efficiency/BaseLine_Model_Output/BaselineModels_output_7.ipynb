{
 "cells": [
  {
   "cell_type": "markdown",
   "id": "0de659a0",
   "metadata": {
    "papermill": {
     "duration": 0.014877,
     "end_time": "2022-07-24T10:40:52.582577",
     "exception": false,
     "start_time": "2022-07-24T10:40:52.567700",
     "status": "completed"
    },
    "tags": []
   },
   "source": [
    "## Import Libraries "
   ]
  },
  {
   "cell_type": "code",
   "execution_count": 1,
   "id": "1c4031cb",
   "metadata": {
    "execution": {
     "iopub.execute_input": "2022-07-24T10:40:52.605357Z",
     "iopub.status.busy": "2022-07-24T10:40:52.603917Z",
     "iopub.status.idle": "2022-07-24T10:40:52.629586Z",
     "shell.execute_reply": "2022-07-24T10:40:52.627076Z"
    },
    "papermill": {
     "duration": 0.051529,
     "end_time": "2022-07-24T10:40:52.645176",
     "exception": false,
     "start_time": "2022-07-24T10:40:52.593647",
     "status": "completed"
    },
    "tags": []
   },
   "outputs": [],
   "source": [
    "import warnings\n",
    "import sys\n",
    "sys.path.insert(0, '../../src')\n",
    "warnings.filterwarnings('ignore')"
   ]
  },
  {
   "cell_type": "code",
   "execution_count": 2,
   "id": "b07e6a99",
   "metadata": {
    "execution": {
     "iopub.execute_input": "2022-07-24T10:40:52.662490Z",
     "iopub.status.busy": "2022-07-24T10:40:52.661783Z",
     "iopub.status.idle": "2022-07-24T10:41:08.035762Z",
     "shell.execute_reply": "2022-07-24T10:41:08.032042Z"
    },
    "papermill": {
     "duration": 15.386668,
     "end_time": "2022-07-24T10:41:08.039513",
     "exception": false,
     "start_time": "2022-07-24T10:40:52.652845",
     "status": "completed"
    },
    "tags": []
   },
   "outputs": [],
   "source": [
    "import statsModel\n",
    "import scrapbook as sb \n",
    "import torch \n",
    "import statsModel\n",
    "import baselineModels\n",
    "import energyefficiencyDataset\n",
    "import dataset \n",
    "from torch.utils.data import random_split \n",
    "from sklearn.model_selection import train_test_split\n",
    "import numpy as np\n",
    "from sklearn.metrics import mean_squared_error,mean_absolute_error "
   ]
  },
  {
   "cell_type": "markdown",
   "id": "aa519d00",
   "metadata": {
    "papermill": {
     "duration": 0.003541,
     "end_time": "2022-07-24T10:41:08.094664",
     "exception": false,
     "start_time": "2022-07-24T10:41:08.091123",
     "status": "completed"
    },
    "tags": []
   },
   "source": [
    "## Import Dataset \n"
   ]
  },
  {
   "cell_type": "code",
   "execution_count": 3,
   "id": "9f6b75f2",
   "metadata": {
    "execution": {
     "iopub.execute_input": "2022-07-24T10:41:08.106447Z",
     "iopub.status.busy": "2022-07-24T10:41:08.105828Z",
     "iopub.status.idle": "2022-07-24T10:41:08.932276Z",
     "shell.execute_reply": "2022-07-24T10:41:08.929200Z"
    },
    "papermill": {
     "duration": 0.836843,
     "end_time": "2022-07-24T10:41:08.935239",
     "exception": false,
     "start_time": "2022-07-24T10:41:08.098396",
     "status": "completed"
    },
    "tags": []
   },
   "outputs": [
    {
     "name": "stdout",
     "output_type": "stream",
     "text": [
      "     X1     X2     X3      X4   X5  X6   X7  X8     Y1     Y2\n",
      "0  0.98  514.5  294.0  110.25  7.0   2  0.0   0  15.55  21.33\n",
      "1  0.98  514.5  294.0  110.25  7.0   3  0.0   0  15.55  21.33\n",
      "2  0.98  514.5  294.0  110.25  7.0   4  0.0   0  15.55  21.33\n",
      "3  0.98  514.5  294.0  110.25  7.0   5  0.0   0  15.55  21.33\n",
      "4  0.90  563.5  318.5  122.50  7.0   2  0.0   0  20.84  28.28\n"
     ]
    }
   ],
   "source": [
    "n_features = 13\n",
    "n_samples= 506\n",
    "n_target = 1 \n",
    "X,Y = energyefficiencyDataset.energy_data()"
   ]
  },
  {
   "cell_type": "code",
   "execution_count": 4,
   "id": "2707172e",
   "metadata": {
    "execution": {
     "iopub.execute_input": "2022-07-24T10:41:08.943778Z",
     "iopub.status.busy": "2022-07-24T10:41:08.943234Z",
     "iopub.status.idle": "2022-07-24T10:41:08.951400Z",
     "shell.execute_reply": "2022-07-24T10:41:08.950473Z"
    },
    "papermill": {
     "duration": 0.015379,
     "end_time": "2022-07-24T10:41:08.953939",
     "exception": false,
     "start_time": "2022-07-24T10:41:08.938560",
     "status": "completed"
    },
    "tags": []
   },
   "outputs": [],
   "source": [
    "# Train test split for dataset \n",
    "real_dataset = dataset.CustomDataset(X,Y)\n",
    "X_train, X_test, y_train, y_test = train_test_split(X, Y, test_size=0.2)"
   ]
  },
  {
   "cell_type": "markdown",
   "id": "ae84adcc",
   "metadata": {
    "papermill": {
     "duration": 0.003716,
     "end_time": "2022-07-24T10:41:08.961806",
     "exception": false,
     "start_time": "2022-07-24T10:41:08.958090",
     "status": "completed"
    },
    "tags": []
   },
   "source": [
    "## Stats Model \n",
    "\n"
   ]
  },
  {
   "cell_type": "code",
   "execution_count": 5,
   "id": "aab06e39",
   "metadata": {
    "execution": {
     "iopub.execute_input": "2022-07-24T10:41:08.971983Z",
     "iopub.status.busy": "2022-07-24T10:41:08.971161Z",
     "iopub.status.idle": "2022-07-24T10:41:09.428482Z",
     "shell.execute_reply": "2022-07-24T10:41:09.427563Z"
    },
    "papermill": {
     "duration": 0.465808,
     "end_time": "2022-07-24T10:41:09.431124",
     "exception": false,
     "start_time": "2022-07-24T10:41:08.965316",
     "status": "completed"
    },
    "tags": []
   },
   "outputs": [
    {
     "name": "stderr",
     "output_type": "stream",
     "text": [
      "No artists with labels found to put in legend.  Note that artists whose label start with an underscore are ignored when legend() is called with no argument.\n"
     ]
    },
    {
     "name": "stdout",
     "output_type": "stream",
     "text": [
      "                                 OLS Regression Results                                \n",
      "=======================================================================================\n",
      "Dep. Variable:                      y   R-squared (uncentered):                   0.918\n",
      "Model:                            OLS   Adj. R-squared (uncentered):              0.917\n",
      "Method:                 Least Squares   F-statistic:                              972.8\n",
      "Date:                Sun, 24 Jul 2022   Prob (F-statistic):                        0.00\n",
      "Time:                        16:11:08   Log-Likelihood:                         -98.145\n",
      "No. Observations:                 614   AIC:                                      210.3\n",
      "Df Residuals:                     607   BIC:                                      241.2\n",
      "Df Model:                           7                                                  \n",
      "Covariance Type:            nonrobust                                                  \n",
      "==============================================================================\n",
      "                 coef    std err          t      P>|t|      [0.025      0.975]\n",
      "------------------------------------------------------------------------------\n",
      "x1            -0.7060      0.118     -5.990      0.000      -0.937      -0.475\n",
      "x2            -0.3985      0.087     -4.588      0.000      -0.569      -0.228\n",
      "x3             0.0665      0.023      2.923      0.004       0.022       0.111\n",
      "x4            -0.4207      0.078     -5.380      0.000      -0.574      -0.267\n",
      "x5             0.7007      0.064     10.877      0.000       0.574       0.827\n",
      "x6            -0.0129      0.011     -1.121      0.263      -0.035       0.010\n",
      "x7             0.2638      0.012     22.275      0.000       0.241       0.287\n",
      "x8             0.0349      0.012      2.940      0.003       0.012       0.058\n",
      "==============================================================================\n",
      "Omnibus:                       17.088   Durbin-Watson:                   2.109\n",
      "Prob(Omnibus):                  0.000   Jarque-Bera (JB):               34.602\n",
      "Skew:                           0.084   Prob(JB):                     3.06e-08\n",
      "Kurtosis:                       4.151   Cond. No.                     1.17e+15\n",
      "==============================================================================\n",
      "\n",
      "Notes:\n",
      "[1] R² is computed without centering (uncentered) since the model does not contain a constant.\n",
      "[2] Standard Errors assume that the covariance matrix of the errors is correctly specified.\n",
      "[3] The smallest eigenvalue is 1.68e-27. This might indicate that there are\n",
      "strong multicollinearity problems or that the design matrix is singular.\n"
     ]
    },
    {
     "data": {
      "image/png": "[encoded data removed]",
      "text/plain": [
       "<Figure size 432x288 with 1 Axes>"
      ]
     },
     "metadata": {
      "needs_background": "light"
     },
     "output_type": "display_data"
    },
    {
     "name": "stdout",
     "output_type": "stream",
     "text": [
      "Performance Metrics\n",
      "Mean Squared Error: 0.09728248075140021\n",
      "Mean Absolute Error: 0.22154069987020503\n",
      "Manhattan distance: 34.117267780011574\n",
      "Euclidean distance: 3.870594532590004\n"
     ]
    },
    {
     "data": {
      "application/scrapbook.scrap.json+json": {
       "data": 0.09728248075140021,
       "encoder": "json",
       "name": "Stats Model MSE",
       "version": 1
      }
     },
     "metadata": {
      "scrapbook": {
       "data": true,
       "display": false,
       "name": "Stats Model MSE"
      }
     },
     "output_type": "display_data"
    },
    {
     "data": {
      "application/scrapbook.scrap.json+json": {
       "data": 0.22154069987020503,
       "encoder": "json",
       "name": "Stats Model MAE",
       "version": 1
      }
     },
     "metadata": {
      "scrapbook": {
       "data": true,
       "display": false,
       "name": "Stats Model MAE"
      }
     },
     "output_type": "display_data"
    },
    {
     "data": {
      "application/scrapbook.scrap.json+json": {
       "data": 34.117267780011574,
       "encoder": "json",
       "name": "Stats Model Manhattan Distance",
       "version": 1
      }
     },
     "metadata": {
      "scrapbook": {
       "data": true,
       "display": false,
       "name": "Stats Model Manhattan Distance"
      }
     },
     "output_type": "display_data"
    },
    {
     "data": {
      "application/scrapbook.scrap.json+json": {
       "data": 3.870594532590004,
       "encoder": "json",
       "name": "Stats Model Euclidean distance",
       "version": 1
      }
     },
     "metadata": {
      "scrapbook": {
       "data": true,
       "display": false,
       "name": "Stats Model Euclidean distance"
      }
     },
     "output_type": "display_data"
    },
    {
     "data": {
      "application/scrapbook.scrap.json+json": {
       "data": [
        -0.7059942416226717,
        -0.3984682378100115,
        0.06652779673212246,
        -0.42069183690360773,
        0.7006614451361474,
        -0.012886583901614276,
        0.2638383220718602,
        0.03489209235274434
       ],
       "encoder": "json",
       "name": "Coefficients",
       "version": 1
      }
     },
     "metadata": {
      "scrapbook": {
       "data": true,
       "display": false,
       "name": "Coefficients"
      }
     },
     "output_type": "display_data"
    },
    {
     "name": "stdout",
     "output_type": "stream",
     "text": [
      "Stats Model MAE 0.22154069987020503\n"
     ]
    }
   ],
   "source": [
    "coefficients , y_pred =statsModel.statsModel(X_train,y_train,X_test,y_test)\n",
    "#Store MSE Value \n",
    "sb.glue(\"Coefficients\",coefficients)\n",
    "mae = mean_absolute_error(y_pred, y_test)\n",
    "print(\"Stats Model MAE\", mae)"
   ]
  },
  {
   "cell_type": "markdown",
   "id": "1a6c00fc",
   "metadata": {
    "papermill": {
     "duration": 0.005888,
     "end_time": "2022-07-24T10:41:09.443442",
     "exception": false,
     "start_time": "2022-07-24T10:41:09.437554",
     "status": "completed"
    },
    "tags": []
   },
   "source": [
    "# Catboost Model "
   ]
  },
  {
   "cell_type": "code",
   "execution_count": 6,
   "id": "d29b0b42",
   "metadata": {
    "execution": {
     "iopub.execute_input": "2022-07-24T10:41:09.458189Z",
     "iopub.status.busy": "2022-07-24T10:41:09.457495Z",
     "iopub.status.idle": "2022-07-24T10:41:10.389295Z",
     "shell.execute_reply": "2022-07-24T10:41:10.388153Z"
    },
    "papermill": {
     "duration": 0.944279,
     "end_time": "2022-07-24T10:41:10.394189",
     "exception": false,
     "start_time": "2022-07-24T10:41:09.449910",
     "status": "completed"
    },
    "tags": []
   },
   "outputs": [
    {
     "name": "stdout",
     "output_type": "stream",
     "text": [
      "Learning rate set to 0.037906\n",
      "0:\tlearn: 0.9629179\ttotal: 53.5ms\tremaining: 53.4s\n",
      "1:\tlearn: 0.9308791\ttotal: 53.9ms\tremaining: 26.9s\n",
      "2:\tlearn: 0.9036698\ttotal: 56.8ms\tremaining: 18.9s\n",
      "3:\tlearn: 0.8731379\ttotal: 57.1ms\tremaining: 14.2s\n",
      "4:\tlearn: 0.8483964\ttotal: 57.3ms\tremaining: 11.4s\n",
      "5:\tlearn: 0.8206899\ttotal: 57.5ms\tremaining: 9.53s\n",
      "6:\tlearn: 0.7982515\ttotal: 67.7ms\tremaining: 9.6s\n",
      "7:\tlearn: 0.7753420\ttotal: 68.3ms\tremaining: 8.46s\n",
      "8:\tlearn: 0.7494825\ttotal: 69.2ms\tremaining: 7.62s\n",
      "9:\tlearn: 0.7263010\ttotal: 71.6ms\tremaining: 7.09s\n",
      "10:\tlearn: 0.7035836\ttotal: 72.1ms\tremaining: 6.48s\n",
      "11:\tlearn: 0.6807286\ttotal: 72.4ms\tremaining: 5.96s\n",
      "12:\tlearn: 0.6612224\ttotal: 72.8ms\tremaining: 5.52s\n",
      "13:\tlearn: 0.6425774\ttotal: 73.9ms\tremaining: 5.2s\n",
      "14:\tlearn: 0.6224145\ttotal: 74.2ms\tremaining: 4.87s\n",
      "15:\tlearn: 0.6041819\ttotal: 74.7ms\tremaining: 4.59s\n",
      "16:\tlearn: 0.5851680\ttotal: 75ms\tremaining: 4.34s\n",
      "17:\tlearn: 0.5682604\ttotal: 75.9ms\tremaining: 4.14s\n",
      "18:\tlearn: 0.5517324\ttotal: 76.3ms\tremaining: 3.94s\n",
      "19:\tlearn: 0.5385000\ttotal: 76.5ms\tremaining: 3.75s\n",
      "20:\tlearn: 0.5215476\ttotal: 76.9ms\tremaining: 3.59s\n",
      "21:\tlearn: 0.5056669\ttotal: 77.3ms\tremaining: 3.44s\n",
      "22:\tlearn: 0.4922534\ttotal: 77.5ms\tremaining: 3.29s\n",
      "23:\tlearn: 0.4773375\ttotal: 78.8ms\tremaining: 3.21s\n",
      "24:\tlearn: 0.4619291\ttotal: 79.2ms\tremaining: 3.09s\n",
      "25:\tlearn: 0.4479446\ttotal: 79.6ms\tremaining: 2.98s\n",
      "26:\tlearn: 0.4352888\ttotal: 80ms\tremaining: 2.88s\n",
      "27:\tlearn: 0.4230644\ttotal: 80.5ms\tremaining: 2.79s\n",
      "28:\tlearn: 0.4111954\ttotal: 80.9ms\tremaining: 2.71s\n",
      "29:\tlearn: 0.3991558\ttotal: 83.6ms\tremaining: 2.7s\n",
      "30:\tlearn: 0.3881420\ttotal: 84.4ms\tremaining: 2.64s\n",
      "31:\tlearn: 0.3765529\ttotal: 84.9ms\tremaining: 2.57s\n",
      "32:\tlearn: 0.3655995\ttotal: 85.3ms\tremaining: 2.5s\n",
      "33:\tlearn: 0.3553320\ttotal: 85.8ms\tremaining: 2.44s\n",
      "34:\tlearn: 0.3453130\ttotal: 86.3ms\tremaining: 2.38s\n",
      "35:\tlearn: 0.3346870\ttotal: 87ms\tremaining: 2.33s\n",
      "36:\tlearn: 0.3253082\ttotal: 87.6ms\tremaining: 2.28s\n",
      "37:\tlearn: 0.3153478\ttotal: 88.5ms\tremaining: 2.24s\n",
      "38:\tlearn: 0.3062130\ttotal: 89.6ms\tremaining: 2.21s\n",
      "39:\tlearn: 0.2988062\ttotal: 90ms\tremaining: 2.16s\n"
     ]
    },
    {
     "name": "stdout",
     "output_type": "stream",
     "text": [
      "40:\tlearn: 0.2898727\ttotal: 90.7ms\tremaining: 2.12s\n",
      "41:\tlearn: 0.2824613\ttotal: 93ms\tremaining: 2.12s\n",
      "42:\tlearn: 0.2755475\ttotal: 94.6ms\tremaining: 2.1s\n",
      "43:\tlearn: 0.2682664\ttotal: 95.6ms\tremaining: 2.08s\n",
      "44:\tlearn: 0.2610247\ttotal: 96.4ms\tremaining: 2.04s\n",
      "45:\tlearn: 0.2550679\ttotal: 96.9ms\tremaining: 2.01s\n",
      "46:\tlearn: 0.2492935\ttotal: 97.5ms\tremaining: 1.98s\n",
      "47:\tlearn: 0.2436977\ttotal: 98ms\tremaining: 1.94s\n",
      "48:\tlearn: 0.2374259\ttotal: 98.7ms\tremaining: 1.92s\n",
      "49:\tlearn: 0.2316245\ttotal: 99.3ms\tremaining: 1.89s\n",
      "50:\tlearn: 0.2252811\ttotal: 100ms\tremaining: 1.86s\n",
      "51:\tlearn: 0.2199130\ttotal: 101ms\tremaining: 1.84s\n",
      "52:\tlearn: 0.2142302\ttotal: 101ms\tremaining: 1.81s\n",
      "53:\tlearn: 0.2088211\ttotal: 102ms\tremaining: 1.79s\n",
      "54:\tlearn: 0.2030120\ttotal: 103ms\tremaining: 1.76s\n",
      "55:\tlearn: 0.1974377\ttotal: 103ms\tremaining: 1.74s\n",
      "56:\tlearn: 0.1919382\ttotal: 104ms\tremaining: 1.71s\n",
      "57:\tlearn: 0.1871482\ttotal: 104ms\tremaining: 1.69s\n",
      "58:\tlearn: 0.1835608\ttotal: 105ms\tremaining: 1.67s\n",
      "59:\tlearn: 0.1790452\ttotal: 105ms\tremaining: 1.65s\n",
      "60:\tlearn: 0.1751647\ttotal: 105ms\tremaining: 1.62s\n",
      "61:\tlearn: 0.1715800\ttotal: 106ms\tremaining: 1.61s\n",
      "62:\tlearn: 0.1674104\ttotal: 107ms\tremaining: 1.59s\n",
      "63:\tlearn: 0.1636257\ttotal: 107ms\tremaining: 1.57s\n",
      "64:\tlearn: 0.1594806\ttotal: 108ms\tremaining: 1.55s\n",
      "65:\tlearn: 0.1558241\ttotal: 108ms\tremaining: 1.53s\n",
      "66:\tlearn: 0.1521532\ttotal: 109ms\tremaining: 1.51s\n",
      "67:\tlearn: 0.1488134\ttotal: 109ms\tremaining: 1.49s\n",
      "68:\tlearn: 0.1451110\ttotal: 109ms\tremaining: 1.48s\n",
      "69:\tlearn: 0.1416562\ttotal: 110ms\tremaining: 1.46s\n"
     ]
    },
    {
     "name": "stdout",
     "output_type": "stream",
     "text": [
      "70:\tlearn: 0.1380457\ttotal: 110ms\tremaining: 1.44s\n",
      "71:\tlearn: 0.1354580\ttotal: 111ms\tremaining: 1.43s\n",
      "72:\tlearn: 0.1326705\ttotal: 111ms\tremaining: 1.42s\n",
      "73:\tlearn: 0.1294187\ttotal: 112ms\tremaining: 1.4s\n",
      "74:\tlearn: 0.1268866\ttotal: 113ms\tremaining: 1.39s\n",
      "75:\tlearn: 0.1247573\ttotal: 113ms\tremaining: 1.38s\n",
      "76:\tlearn: 0.1225919\ttotal: 114ms\tremaining: 1.36s\n",
      "77:\tlearn: 0.1195410\ttotal: 114ms\tremaining: 1.35s\n",
      "78:\tlearn: 0.1175124\ttotal: 115ms\tremaining: 1.33s\n",
      "79:\tlearn: 0.1160033\ttotal: 115ms\tremaining: 1.32s\n",
      "80:\tlearn: 0.1133809\ttotal: 115ms\tremaining: 1.31s\n",
      "81:\tlearn: 0.1117602\ttotal: 116ms\tremaining: 1.3s\n",
      "82:\tlearn: 0.1100899\ttotal: 116ms\tremaining: 1.28s\n",
      "83:\tlearn: 0.1077011\ttotal: 117ms\tremaining: 1.27s\n",
      "84:\tlearn: 0.1061679\ttotal: 117ms\tremaining: 1.26s\n",
      "85:\tlearn: 0.1040661\ttotal: 118ms\tremaining: 1.25s\n",
      "86:\tlearn: 0.1020910\ttotal: 119ms\tremaining: 1.25s\n",
      "87:\tlearn: 0.0999066\ttotal: 119ms\tremaining: 1.24s\n",
      "88:\tlearn: 0.0981824\ttotal: 120ms\tremaining: 1.23s\n",
      "89:\tlearn: 0.0963340\ttotal: 121ms\tremaining: 1.22s\n",
      "90:\tlearn: 0.0945936\ttotal: 121ms\tremaining: 1.21s\n",
      "91:\tlearn: 0.0928705\ttotal: 122ms\tremaining: 1.2s\n",
      "92:\tlearn: 0.0919501\ttotal: 122ms\tremaining: 1.19s\n",
      "93:\tlearn: 0.0905516\ttotal: 122ms\tremaining: 1.18s\n",
      "94:\tlearn: 0.0898190\ttotal: 122ms\tremaining: 1.17s\n",
      "95:\tlearn: 0.0881651\ttotal: 123ms\tremaining: 1.16s\n",
      "96:\tlearn: 0.0863630\ttotal: 123ms\tremaining: 1.15s\n",
      "97:\tlearn: 0.0847687\ttotal: 124ms\tremaining: 1.14s\n",
      "98:\tlearn: 0.0832509\ttotal: 124ms\tremaining: 1.13s\n",
      "99:\tlearn: 0.0820999\ttotal: 125ms\tremaining: 1.12s\n",
      "100:\tlearn: 0.0811801\ttotal: 125ms\tremaining: 1.12s\n",
      "101:\tlearn: 0.0806019\ttotal: 126ms\tremaining: 1.1s\n",
      "102:\tlearn: 0.0796288\ttotal: 126ms\tremaining: 1.1s\n",
      "103:\tlearn: 0.0784640\ttotal: 126ms\tremaining: 1.09s\n",
      "104:\tlearn: 0.0772007\ttotal: 127ms\tremaining: 1.08s\n",
      "105:\tlearn: 0.0763993\ttotal: 128ms\tremaining: 1.08s\n",
      "106:\tlearn: 0.0754180\ttotal: 128ms\tremaining: 1.07s\n",
      "107:\tlearn: 0.0746632\ttotal: 129ms\tremaining: 1.06s\n",
      "108:\tlearn: 0.0736453\ttotal: 130ms\tremaining: 1.06s\n",
      "109:\tlearn: 0.0724833\ttotal: 131ms\tremaining: 1.06s\n",
      "110:\tlearn: 0.0716756\ttotal: 132ms\tremaining: 1.05s\n",
      "111:\tlearn: 0.0709505\ttotal: 132ms\tremaining: 1.05s\n",
      "112:\tlearn: 0.0698799\ttotal: 133ms\tremaining: 1.04s\n",
      "113:\tlearn: 0.0692688\ttotal: 133ms\tremaining: 1.03s\n",
      "114:\tlearn: 0.0683629\ttotal: 134ms\tremaining: 1.03s\n",
      "115:\tlearn: 0.0676025\ttotal: 134ms\tremaining: 1.02s\n",
      "116:\tlearn: 0.0665768\ttotal: 135ms\tremaining: 1.02s\n",
      "117:\tlearn: 0.0660038\ttotal: 135ms\tremaining: 1.01s\n",
      "118:\tlearn: 0.0651499\ttotal: 136ms\tremaining: 1s\n",
      "119:\tlearn: 0.0643255\ttotal: 136ms\tremaining: 1s\n",
      "120:\tlearn: 0.0638583\ttotal: 137ms\tremaining: 995ms\n",
      "121:\tlearn: 0.0631119\ttotal: 137ms\tremaining: 989ms\n",
      "122:\tlearn: 0.0627783\ttotal: 138ms\tremaining: 984ms\n",
      "123:\tlearn: 0.0620525\ttotal: 138ms\tremaining: 978ms\n",
      "124:\tlearn: 0.0613497\ttotal: 139ms\tremaining: 973ms\n",
      "125:\tlearn: 0.0611611\ttotal: 139ms\tremaining: 967ms\n",
      "126:\tlearn: 0.0607315\ttotal: 140ms\tremaining: 963ms\n",
      "127:\tlearn: 0.0599981\ttotal: 141ms\tremaining: 959ms\n",
      "128:\tlearn: 0.0596472\ttotal: 141ms\tremaining: 954ms\n",
      "129:\tlearn: 0.0589823\ttotal: 142ms\tremaining: 951ms\n"
     ]
    },
    {
     "name": "stdout",
     "output_type": "stream",
     "text": [
      "130:\tlearn: 0.0585629\ttotal: 143ms\tremaining: 950ms\n",
      "131:\tlearn: 0.0580836\ttotal: 144ms\tremaining: 947ms\n",
      "132:\tlearn: 0.0576832\ttotal: 145ms\tremaining: 945ms\n",
      "133:\tlearn: 0.0572374\ttotal: 145ms\tremaining: 939ms\n",
      "134:\tlearn: 0.0567052\ttotal: 146ms\tremaining: 935ms\n",
      "135:\tlearn: 0.0562017\ttotal: 146ms\tremaining: 930ms\n",
      "136:\tlearn: 0.0557943\ttotal: 147ms\tremaining: 927ms\n",
      "137:\tlearn: 0.0552950\ttotal: 148ms\tremaining: 923ms\n",
      "138:\tlearn: 0.0549421\ttotal: 148ms\tremaining: 919ms\n",
      "139:\tlearn: 0.0545067\ttotal: 149ms\tremaining: 916ms\n",
      "140:\tlearn: 0.0540825\ttotal: 150ms\tremaining: 911ms\n",
      "141:\tlearn: 0.0537313\ttotal: 150ms\tremaining: 907ms\n",
      "142:\tlearn: 0.0533725\ttotal: 151ms\tremaining: 903ms\n",
      "143:\tlearn: 0.0531339\ttotal: 151ms\tremaining: 899ms\n",
      "144:\tlearn: 0.0528132\ttotal: 152ms\tremaining: 894ms\n",
      "145:\tlearn: 0.0525852\ttotal: 152ms\tremaining: 890ms\n",
      "146:\tlearn: 0.0523185\ttotal: 152ms\tremaining: 884ms\n",
      "147:\tlearn: 0.0519613\ttotal: 153ms\tremaining: 879ms\n",
      "148:\tlearn: 0.0516307\ttotal: 153ms\tremaining: 874ms\n",
      "149:\tlearn: 0.0513815\ttotal: 154ms\tremaining: 871ms\n",
      "150:\tlearn: 0.0511923\ttotal: 154ms\tremaining: 868ms\n",
      "151:\tlearn: 0.0508455\ttotal: 155ms\tremaining: 864ms\n",
      "152:\tlearn: 0.0506269\ttotal: 155ms\tremaining: 859ms\n",
      "153:\tlearn: 0.0503143\ttotal: 156ms\tremaining: 855ms\n",
      "154:\tlearn: 0.0500260\ttotal: 157ms\tremaining: 854ms\n",
      "155:\tlearn: 0.0497701\ttotal: 158ms\tremaining: 855ms\n",
      "156:\tlearn: 0.0495140\ttotal: 159ms\tremaining: 852ms\n",
      "157:\tlearn: 0.0493082\ttotal: 159ms\tremaining: 849ms\n",
      "158:\tlearn: 0.0491394\ttotal: 160ms\tremaining: 845ms\n",
      "159:\tlearn: 0.0489279\ttotal: 160ms\tremaining: 840ms\n",
      "160:\tlearn: 0.0485964\ttotal: 160ms\tremaining: 836ms\n",
      "161:\tlearn: 0.0484121\ttotal: 161ms\tremaining: 835ms\n",
      "162:\tlearn: 0.0482870\ttotal: 162ms\tremaining: 833ms\n",
      "163:\tlearn: 0.0480941\ttotal: 163ms\tremaining: 832ms\n",
      "164:\tlearn: 0.0479104\ttotal: 164ms\tremaining: 832ms\n",
      "165:\tlearn: 0.0477360\ttotal: 165ms\tremaining: 829ms\n",
      "166:\tlearn: 0.0476521\ttotal: 166ms\tremaining: 826ms\n",
      "167:\tlearn: 0.0474358\ttotal: 166ms\tremaining: 822ms\n",
      "168:\tlearn: 0.0472858\ttotal: 166ms\tremaining: 818ms\n",
      "169:\tlearn: 0.0470615\ttotal: 167ms\tremaining: 815ms\n",
      "170:\tlearn: 0.0468813\ttotal: 168ms\tremaining: 814ms\n",
      "171:\tlearn: 0.0466868\ttotal: 169ms\tremaining: 814ms\n",
      "172:\tlearn: 0.0465426\ttotal: 169ms\tremaining: 810ms\n",
      "173:\tlearn: 0.0463446\ttotal: 170ms\tremaining: 807ms\n",
      "174:\tlearn: 0.0462150\ttotal: 171ms\tremaining: 805ms\n",
      "175:\tlearn: 0.0458937\ttotal: 171ms\tremaining: 802ms\n",
      "176:\tlearn: 0.0456969\ttotal: 172ms\tremaining: 798ms\n",
      "177:\tlearn: 0.0455134\ttotal: 172ms\tremaining: 795ms\n",
      "178:\tlearn: 0.0453069\ttotal: 173ms\tremaining: 793ms\n",
      "179:\tlearn: 0.0451540\ttotal: 173ms\tremaining: 789ms\n",
      "180:\tlearn: 0.0449971\ttotal: 174ms\tremaining: 786ms\n",
      "181:\tlearn: 0.0448396\ttotal: 174ms\tremaining: 784ms\n",
      "182:\tlearn: 0.0446822\ttotal: 175ms\tremaining: 782ms\n",
      "183:\tlearn: 0.0444398\ttotal: 176ms\tremaining: 779ms\n",
      "184:\tlearn: 0.0443060\ttotal: 176ms\tremaining: 777ms\n",
      "185:\tlearn: 0.0441636\ttotal: 177ms\tremaining: 774ms\n",
      "186:\tlearn: 0.0439829\ttotal: 177ms\tremaining: 771ms\n",
      "187:\tlearn: 0.0438365\ttotal: 178ms\tremaining: 768ms\n",
      "188:\tlearn: 0.0436948\ttotal: 178ms\tremaining: 765ms\n",
      "189:\tlearn: 0.0434227\ttotal: 179ms\tremaining: 763ms\n",
      "190:\tlearn: 0.0432243\ttotal: 179ms\tremaining: 760ms\n",
      "191:\tlearn: 0.0430690\ttotal: 180ms\tremaining: 757ms\n",
      "192:\tlearn: 0.0429055\ttotal: 180ms\tremaining: 755ms\n",
      "193:\tlearn: 0.0427674\ttotal: 181ms\tremaining: 752ms\n",
      "194:\tlearn: 0.0425076\ttotal: 182ms\tremaining: 750ms\n",
      "195:\tlearn: 0.0424025\ttotal: 182ms\tremaining: 747ms\n",
      "196:\tlearn: 0.0422277\ttotal: 183ms\tremaining: 745ms\n",
      "197:\tlearn: 0.0420655\ttotal: 183ms\tremaining: 743ms\n",
      "198:\tlearn: 0.0418842\ttotal: 184ms\tremaining: 740ms\n",
      "199:\tlearn: 0.0416387\ttotal: 184ms\tremaining: 738ms\n",
      "200:\tlearn: 0.0415250\ttotal: 185ms\tremaining: 735ms\n",
      "201:\tlearn: 0.0414164\ttotal: 185ms\tremaining: 732ms\n",
      "202:\tlearn: 0.0413195\ttotal: 186ms\tremaining: 729ms\n",
      "203:\tlearn: 0.0410501\ttotal: 187ms\tremaining: 728ms\n",
      "204:\tlearn: 0.0409653\ttotal: 187ms\tremaining: 726ms\n",
      "205:\tlearn: 0.0407127\ttotal: 188ms\tremaining: 726ms\n",
      "206:\tlearn: 0.0405852\ttotal: 189ms\tremaining: 725ms\n",
      "207:\tlearn: 0.0403486\ttotal: 190ms\tremaining: 724ms\n",
      "208:\tlearn: 0.0402119\ttotal: 191ms\tremaining: 721ms\n",
      "209:\tlearn: 0.0400588\ttotal: 191ms\tremaining: 718ms\n",
      "210:\tlearn: 0.0399697\ttotal: 191ms\tremaining: 715ms\n",
      "211:\tlearn: 0.0398564\ttotal: 192ms\tremaining: 713ms\n",
      "212:\tlearn: 0.0396335\ttotal: 193ms\tremaining: 711ms\n",
      "213:\tlearn: 0.0395058\ttotal: 193ms\tremaining: 709ms\n",
      "214:\tlearn: 0.0394352\ttotal: 194ms\tremaining: 707ms\n",
      "215:\tlearn: 0.0393290\ttotal: 194ms\tremaining: 706ms\n",
      "216:\tlearn: 0.0392450\ttotal: 196ms\tremaining: 705ms\n",
      "217:\tlearn: 0.0391567\ttotal: 196ms\tremaining: 704ms\n",
      "218:\tlearn: 0.0390244\ttotal: 197ms\tremaining: 702ms\n",
      "219:\tlearn: 0.0389587\ttotal: 198ms\tremaining: 700ms\n",
      "220:\tlearn: 0.0388280\ttotal: 198ms\tremaining: 698ms\n",
      "221:\tlearn: 0.0387354\ttotal: 198ms\tremaining: 695ms\n",
      "222:\tlearn: 0.0386499\ttotal: 199ms\tremaining: 692ms\n",
      "223:\tlearn: 0.0385366\ttotal: 199ms\tremaining: 689ms\n",
      "224:\tlearn: 0.0383612\ttotal: 199ms\tremaining: 687ms\n",
      "225:\tlearn: 0.0382434\ttotal: 200ms\tremaining: 685ms\n",
      "226:\tlearn: 0.0381580\ttotal: 201ms\tremaining: 684ms\n",
      "227:\tlearn: 0.0380994\ttotal: 202ms\tremaining: 683ms\n",
      "228:\tlearn: 0.0379977\ttotal: 202ms\tremaining: 681ms\n",
      "229:\tlearn: 0.0379365\ttotal: 202ms\tremaining: 678ms\n",
      "230:\tlearn: 0.0377415\ttotal: 203ms\tremaining: 675ms\n",
      "231:\tlearn: 0.0375579\ttotal: 203ms\tremaining: 672ms\n",
      "232:\tlearn: 0.0373851\ttotal: 203ms\tremaining: 669ms\n",
      "233:\tlearn: 0.0373184\ttotal: 204ms\tremaining: 668ms\n",
      "234:\tlearn: 0.0372334\ttotal: 204ms\tremaining: 665ms\n",
      "235:\tlearn: 0.0371704\ttotal: 205ms\tremaining: 663ms\n",
      "236:\tlearn: 0.0371020\ttotal: 205ms\tremaining: 660ms\n",
      "237:\tlearn: 0.0369726\ttotal: 205ms\tremaining: 657ms\n",
      "238:\tlearn: 0.0368794\ttotal: 206ms\tremaining: 655ms\n",
      "239:\tlearn: 0.0368143\ttotal: 207ms\tremaining: 655ms\n",
      "240:\tlearn: 0.0366795\ttotal: 207ms\tremaining: 653ms\n",
      "241:\tlearn: 0.0365572\ttotal: 208ms\tremaining: 651ms\n",
      "242:\tlearn: 0.0364683\ttotal: 208ms\tremaining: 649ms\n",
      "243:\tlearn: 0.0363737\ttotal: 209ms\tremaining: 646ms\n",
      "244:\tlearn: 0.0362473\ttotal: 209ms\tremaining: 643ms\n",
      "245:\tlearn: 0.0360916\ttotal: 209ms\tremaining: 641ms\n",
      "246:\tlearn: 0.0360142\ttotal: 209ms\tremaining: 639ms\n",
      "247:\tlearn: 0.0359437\ttotal: 210ms\tremaining: 636ms\n",
      "248:\tlearn: 0.0358691\ttotal: 210ms\tremaining: 633ms\n",
      "249:\tlearn: 0.0357800\ttotal: 210ms\tremaining: 631ms\n",
      "250:\tlearn: 0.0356524\ttotal: 211ms\tremaining: 629ms\n",
      "251:\tlearn: 0.0355817\ttotal: 211ms\tremaining: 626ms\n",
      "252:\tlearn: 0.0354651\ttotal: 211ms\tremaining: 624ms\n",
      "253:\tlearn: 0.0353932\ttotal: 212ms\tremaining: 624ms\n",
      "254:\tlearn: 0.0353439\ttotal: 213ms\tremaining: 621ms\n",
      "255:\tlearn: 0.0352583\ttotal: 214ms\tremaining: 621ms\n",
      "256:\tlearn: 0.0351873\ttotal: 214ms\tremaining: 619ms\n",
      "257:\tlearn: 0.0350429\ttotal: 214ms\tremaining: 617ms\n",
      "258:\tlearn: 0.0349735\ttotal: 215ms\tremaining: 614ms\n",
      "259:\tlearn: 0.0349060\ttotal: 215ms\tremaining: 612ms\n",
      "260:\tlearn: 0.0348211\ttotal: 215ms\tremaining: 609ms\n",
      "261:\tlearn: 0.0346769\ttotal: 216ms\tremaining: 607ms\n",
      "262:\tlearn: 0.0346015\ttotal: 216ms\tremaining: 605ms\n",
      "263:\tlearn: 0.0345233\ttotal: 217ms\tremaining: 605ms\n",
      "264:\tlearn: 0.0344615\ttotal: 217ms\tremaining: 602ms\n",
      "265:\tlearn: 0.0343247\ttotal: 218ms\tremaining: 601ms\n",
      "266:\tlearn: 0.0342605\ttotal: 218ms\tremaining: 600ms\n",
      "267:\tlearn: 0.0341621\ttotal: 219ms\tremaining: 597ms\n",
      "268:\tlearn: 0.0341004\ttotal: 219ms\tremaining: 595ms\n",
      "269:\tlearn: 0.0340098\ttotal: 219ms\tremaining: 593ms\n",
      "270:\tlearn: 0.0339474\ttotal: 220ms\tremaining: 590ms\n",
      "271:\tlearn: 0.0338835\ttotal: 220ms\tremaining: 588ms\n",
      "272:\tlearn: 0.0338173\ttotal: 220ms\tremaining: 586ms\n",
      "273:\tlearn: 0.0337339\ttotal: 220ms\tremaining: 584ms\n",
      "274:\tlearn: 0.0336680\ttotal: 221ms\tremaining: 582ms\n",
      "275:\tlearn: 0.0336062\ttotal: 221ms\tremaining: 580ms\n"
     ]
    },
    {
     "name": "stdout",
     "output_type": "stream",
     "text": [
      "276:\tlearn: 0.0335646\ttotal: 221ms\tremaining: 577ms\n",
      "277:\tlearn: 0.0335054\ttotal: 222ms\tremaining: 578ms\n",
      "278:\tlearn: 0.0334462\ttotal: 225ms\tremaining: 581ms\n",
      "279:\tlearn: 0.0333644\ttotal: 226ms\tremaining: 580ms\n",
      "280:\tlearn: 0.0332806\ttotal: 227ms\tremaining: 580ms\n",
      "281:\tlearn: 0.0332425\ttotal: 227ms\tremaining: 579ms\n",
      "282:\tlearn: 0.0330822\ttotal: 228ms\tremaining: 577ms\n",
      "283:\tlearn: 0.0329211\ttotal: 228ms\tremaining: 575ms\n",
      "284:\tlearn: 0.0328528\ttotal: 228ms\tremaining: 573ms\n",
      "285:\tlearn: 0.0327758\ttotal: 229ms\tremaining: 571ms\n",
      "286:\tlearn: 0.0327223\ttotal: 229ms\tremaining: 569ms\n",
      "287:\tlearn: 0.0325710\ttotal: 229ms\tremaining: 567ms\n",
      "288:\tlearn: 0.0324670\ttotal: 230ms\tremaining: 566ms\n",
      "289:\tlearn: 0.0323923\ttotal: 231ms\tremaining: 564ms\n",
      "290:\tlearn: 0.0323382\ttotal: 231ms\tremaining: 563ms\n"
     ]
    },
    {
     "name": "stdout",
     "output_type": "stream",
     "text": [
      "291:\tlearn: 0.0322886\ttotal: 247ms\tremaining: 599ms\n",
      "292:\tlearn: 0.0322081\ttotal: 248ms\tremaining: 599ms\n",
      "293:\tlearn: 0.0321560\ttotal: 249ms\tremaining: 597ms\n",
      "294:\tlearn: 0.0320861\ttotal: 250ms\tremaining: 597ms\n",
      "295:\tlearn: 0.0320536\ttotal: 250ms\tremaining: 594ms\n",
      "296:\tlearn: 0.0320038\ttotal: 250ms\tremaining: 592ms\n",
      "297:\tlearn: 0.0318956\ttotal: 251ms\tremaining: 591ms\n",
      "298:\tlearn: 0.0318418\ttotal: 251ms\tremaining: 589ms\n",
      "299:\tlearn: 0.0318113\ttotal: 251ms\tremaining: 587ms\n",
      "300:\tlearn: 0.0317164\ttotal: 252ms\tremaining: 585ms\n",
      "301:\tlearn: 0.0316637\ttotal: 252ms\tremaining: 583ms\n",
      "302:\tlearn: 0.0316029\ttotal: 252ms\tremaining: 580ms\n",
      "303:\tlearn: 0.0314616\ttotal: 253ms\tremaining: 578ms\n",
      "304:\tlearn: 0.0314092\ttotal: 253ms\tremaining: 577ms\n",
      "305:\tlearn: 0.0313585\ttotal: 253ms\tremaining: 574ms\n",
      "306:\tlearn: 0.0312490\ttotal: 254ms\tremaining: 572ms\n",
      "307:\tlearn: 0.0311512\ttotal: 254ms\tremaining: 571ms\n",
      "308:\tlearn: 0.0311175\ttotal: 255ms\tremaining: 570ms\n",
      "309:\tlearn: 0.0310603\ttotal: 255ms\tremaining: 568ms\n",
      "310:\tlearn: 0.0310166\ttotal: 255ms\tremaining: 566ms\n",
      "311:\tlearn: 0.0309672\ttotal: 256ms\tremaining: 564ms\n",
      "312:\tlearn: 0.0308793\ttotal: 256ms\tremaining: 562ms\n",
      "313:\tlearn: 0.0307532\ttotal: 256ms\tremaining: 560ms\n",
      "314:\tlearn: 0.0306347\ttotal: 257ms\tremaining: 558ms\n",
      "315:\tlearn: 0.0305315\ttotal: 257ms\tremaining: 556ms\n",
      "316:\tlearn: 0.0304236\ttotal: 257ms\tremaining: 554ms\n",
      "317:\tlearn: 0.0303382\ttotal: 257ms\tremaining: 552ms\n",
      "318:\tlearn: 0.0302510\ttotal: 258ms\tremaining: 550ms\n",
      "319:\tlearn: 0.0302027\ttotal: 258ms\tremaining: 548ms\n",
      "320:\tlearn: 0.0301198\ttotal: 260ms\tremaining: 550ms\n",
      "321:\tlearn: 0.0300525\ttotal: 261ms\tremaining: 549ms\n",
      "322:\tlearn: 0.0299863\ttotal: 261ms\tremaining: 548ms\n",
      "323:\tlearn: 0.0299302\ttotal: 262ms\tremaining: 546ms\n",
      "324:\tlearn: 0.0298649\ttotal: 262ms\tremaining: 544ms\n",
      "325:\tlearn: 0.0297679\ttotal: 262ms\tremaining: 542ms\n",
      "326:\tlearn: 0.0296783\ttotal: 263ms\tremaining: 540ms\n",
      "327:\tlearn: 0.0296196\ttotal: 263ms\tremaining: 538ms\n",
      "328:\tlearn: 0.0295898\ttotal: 263ms\tremaining: 537ms\n",
      "329:\tlearn: 0.0294998\ttotal: 264ms\tremaining: 536ms\n",
      "330:\tlearn: 0.0294571\ttotal: 264ms\tremaining: 534ms\n",
      "331:\tlearn: 0.0294082\ttotal: 265ms\tremaining: 532ms\n",
      "332:\tlearn: 0.0293626\ttotal: 265ms\tremaining: 531ms\n",
      "333:\tlearn: 0.0293107\ttotal: 266ms\tremaining: 530ms\n",
      "334:\tlearn: 0.0292581\ttotal: 266ms\tremaining: 529ms\n",
      "335:\tlearn: 0.0292014\ttotal: 267ms\tremaining: 527ms\n",
      "336:\tlearn: 0.0290902\ttotal: 267ms\tremaining: 526ms\n",
      "337:\tlearn: 0.0290256\ttotal: 268ms\tremaining: 524ms\n",
      "338:\tlearn: 0.0289208\ttotal: 268ms\tremaining: 522ms\n",
      "339:\tlearn: 0.0288671\ttotal: 268ms\tremaining: 520ms\n",
      "340:\tlearn: 0.0288201\ttotal: 268ms\tremaining: 519ms\n",
      "341:\tlearn: 0.0287545\ttotal: 269ms\tremaining: 517ms\n",
      "342:\tlearn: 0.0286707\ttotal: 270ms\tremaining: 516ms\n",
      "343:\tlearn: 0.0286397\ttotal: 270ms\tremaining: 515ms\n",
      "344:\tlearn: 0.0285745\ttotal: 271ms\tremaining: 514ms\n",
      "345:\tlearn: 0.0285160\ttotal: 271ms\tremaining: 512ms\n",
      "346:\tlearn: 0.0284819\ttotal: 272ms\tremaining: 511ms\n",
      "347:\tlearn: 0.0283960\ttotal: 272ms\tremaining: 510ms\n",
      "348:\tlearn: 0.0283403\ttotal: 272ms\tremaining: 508ms\n",
      "349:\tlearn: 0.0282691\ttotal: 273ms\tremaining: 506ms\n",
      "350:\tlearn: 0.0281781\ttotal: 273ms\tremaining: 505ms\n",
      "351:\tlearn: 0.0281031\ttotal: 273ms\tremaining: 503ms\n",
      "352:\tlearn: 0.0280516\ttotal: 273ms\tremaining: 501ms\n",
      "353:\tlearn: 0.0279929\ttotal: 274ms\tremaining: 499ms\n",
      "354:\tlearn: 0.0279019\ttotal: 274ms\tremaining: 498ms\n",
      "355:\tlearn: 0.0278147\ttotal: 274ms\tremaining: 496ms\n",
      "356:\tlearn: 0.0277613\ttotal: 275ms\tremaining: 495ms\n",
      "357:\tlearn: 0.0277173\ttotal: 275ms\tremaining: 493ms\n",
      "358:\tlearn: 0.0276685\ttotal: 276ms\tremaining: 493ms\n"
     ]
    },
    {
     "name": "stdout",
     "output_type": "stream",
     "text": [
      "359:\tlearn: 0.0276179\ttotal: 277ms\tremaining: 492ms\n",
      "360:\tlearn: 0.0275784\ttotal: 277ms\tremaining: 491ms\n",
      "361:\tlearn: 0.0275402\ttotal: 278ms\tremaining: 490ms\n",
      "362:\tlearn: 0.0274913\ttotal: 278ms\tremaining: 489ms\n",
      "363:\tlearn: 0.0274441\ttotal: 279ms\tremaining: 487ms\n",
      "364:\tlearn: 0.0273420\ttotal: 279ms\tremaining: 485ms\n",
      "365:\tlearn: 0.0272755\ttotal: 279ms\tremaining: 484ms\n",
      "366:\tlearn: 0.0272258\ttotal: 280ms\tremaining: 483ms\n",
      "367:\tlearn: 0.0271668\ttotal: 281ms\tremaining: 482ms\n",
      "368:\tlearn: 0.0271159\ttotal: 281ms\tremaining: 481ms\n",
      "369:\tlearn: 0.0270568\ttotal: 281ms\tremaining: 479ms\n",
      "370:\tlearn: 0.0270126\ttotal: 282ms\tremaining: 477ms\n",
      "371:\tlearn: 0.0269483\ttotal: 282ms\tremaining: 476ms\n",
      "372:\tlearn: 0.0268925\ttotal: 282ms\tremaining: 474ms\n",
      "373:\tlearn: 0.0268457\ttotal: 282ms\tremaining: 473ms\n",
      "374:\tlearn: 0.0268002\ttotal: 283ms\tremaining: 471ms\n",
      "375:\tlearn: 0.0267446\ttotal: 283ms\tremaining: 470ms\n",
      "376:\tlearn: 0.0266873\ttotal: 284ms\tremaining: 469ms\n",
      "377:\tlearn: 0.0266561\ttotal: 284ms\tremaining: 467ms\n",
      "378:\tlearn: 0.0265918\ttotal: 284ms\tremaining: 466ms\n",
      "379:\tlearn: 0.0265287\ttotal: 285ms\tremaining: 464ms\n",
      "380:\tlearn: 0.0264805\ttotal: 285ms\tremaining: 463ms\n",
      "381:\tlearn: 0.0264481\ttotal: 285ms\tremaining: 461ms\n",
      "382:\tlearn: 0.0264024\ttotal: 286ms\tremaining: 460ms\n",
      "383:\tlearn: 0.0263713\ttotal: 286ms\tremaining: 459ms\n",
      "384:\tlearn: 0.0263299\ttotal: 286ms\tremaining: 457ms\n",
      "385:\tlearn: 0.0262611\ttotal: 286ms\tremaining: 456ms\n",
      "386:\tlearn: 0.0262134\ttotal: 288ms\tremaining: 455ms\n",
      "387:\tlearn: 0.0261672\ttotal: 288ms\tremaining: 454ms\n",
      "388:\tlearn: 0.0261279\ttotal: 288ms\tremaining: 453ms\n",
      "389:\tlearn: 0.0260864\ttotal: 289ms\tremaining: 451ms\n",
      "390:\tlearn: 0.0260450\ttotal: 289ms\tremaining: 450ms\n",
      "391:\tlearn: 0.0260017\ttotal: 289ms\tremaining: 448ms\n",
      "392:\tlearn: 0.0259617\ttotal: 289ms\tremaining: 447ms\n",
      "393:\tlearn: 0.0259225\ttotal: 290ms\tremaining: 446ms\n",
      "394:\tlearn: 0.0258836\ttotal: 290ms\tremaining: 445ms\n",
      "395:\tlearn: 0.0258507\ttotal: 291ms\tremaining: 444ms\n",
      "396:\tlearn: 0.0258192\ttotal: 293ms\tremaining: 445ms\n",
      "397:\tlearn: 0.0257555\ttotal: 294ms\tremaining: 444ms\n",
      "398:\tlearn: 0.0257094\ttotal: 294ms\tremaining: 443ms\n",
      "399:\tlearn: 0.0256798\ttotal: 295ms\tremaining: 442ms\n",
      "400:\tlearn: 0.0256519\ttotal: 295ms\tremaining: 441ms\n",
      "401:\tlearn: 0.0256238\ttotal: 295ms\tremaining: 439ms\n",
      "402:\tlearn: 0.0255647\ttotal: 296ms\tremaining: 438ms\n",
      "403:\tlearn: 0.0255381\ttotal: 296ms\tremaining: 437ms\n",
      "404:\tlearn: 0.0255001\ttotal: 296ms\tremaining: 435ms\n",
      "405:\tlearn: 0.0254756\ttotal: 297ms\tremaining: 435ms\n",
      "406:\tlearn: 0.0254516\ttotal: 298ms\tremaining: 434ms\n",
      "407:\tlearn: 0.0254040\ttotal: 298ms\tremaining: 433ms\n",
      "408:\tlearn: 0.0253777\ttotal: 299ms\tremaining: 432ms\n",
      "409:\tlearn: 0.0253412\ttotal: 299ms\tremaining: 430ms\n",
      "410:\tlearn: 0.0253151\ttotal: 299ms\tremaining: 429ms\n",
      "411:\tlearn: 0.0252899\ttotal: 300ms\tremaining: 428ms\n",
      "412:\tlearn: 0.0252411\ttotal: 300ms\tremaining: 427ms\n",
      "413:\tlearn: 0.0252136\ttotal: 301ms\tremaining: 425ms\n",
      "414:\tlearn: 0.0251897\ttotal: 301ms\tremaining: 424ms\n",
      "415:\tlearn: 0.0251198\ttotal: 301ms\tremaining: 423ms\n",
      "416:\tlearn: 0.0250650\ttotal: 302ms\tremaining: 422ms\n",
      "417:\tlearn: 0.0250391\ttotal: 303ms\tremaining: 422ms\n",
      "418:\tlearn: 0.0250042\ttotal: 304ms\tremaining: 421ms\n",
      "419:\tlearn: 0.0249547\ttotal: 304ms\tremaining: 420ms\n",
      "420:\tlearn: 0.0249221\ttotal: 305ms\tremaining: 419ms\n",
      "421:\tlearn: 0.0248906\ttotal: 305ms\tremaining: 418ms\n",
      "422:\tlearn: 0.0248692\ttotal: 306ms\tremaining: 417ms\n",
      "423:\tlearn: 0.0248455\ttotal: 306ms\tremaining: 416ms\n",
      "424:\tlearn: 0.0247918\ttotal: 306ms\tremaining: 414ms\n",
      "425:\tlearn: 0.0247387\ttotal: 307ms\tremaining: 413ms\n",
      "426:\tlearn: 0.0247181\ttotal: 307ms\tremaining: 412ms\n",
      "427:\tlearn: 0.0246811\ttotal: 308ms\tremaining: 411ms\n",
      "428:\tlearn: 0.0246382\ttotal: 308ms\tremaining: 411ms\n",
      "429:\tlearn: 0.0246040\ttotal: 309ms\tremaining: 409ms\n",
      "430:\tlearn: 0.0245636\ttotal: 309ms\tremaining: 408ms\n",
      "431:\tlearn: 0.0245378\ttotal: 309ms\tremaining: 407ms\n",
      "432:\tlearn: 0.0244878\ttotal: 310ms\tremaining: 406ms\n",
      "433:\tlearn: 0.0244491\ttotal: 311ms\tremaining: 405ms\n",
      "434:\tlearn: 0.0244260\ttotal: 311ms\tremaining: 404ms\n",
      "435:\tlearn: 0.0244010\ttotal: 312ms\tremaining: 403ms\n",
      "436:\tlearn: 0.0243503\ttotal: 312ms\tremaining: 402ms\n",
      "437:\tlearn: 0.0243194\ttotal: 313ms\tremaining: 401ms\n",
      "438:\tlearn: 0.0242605\ttotal: 313ms\tremaining: 400ms\n",
      "439:\tlearn: 0.0242279\ttotal: 313ms\tremaining: 399ms\n",
      "440:\tlearn: 0.0241982\ttotal: 315ms\tremaining: 399ms\n",
      "441:\tlearn: 0.0241689\ttotal: 315ms\tremaining: 398ms\n",
      "442:\tlearn: 0.0241261\ttotal: 316ms\tremaining: 397ms\n",
      "443:\tlearn: 0.0241041\ttotal: 316ms\tremaining: 396ms\n",
      "444:\tlearn: 0.0240756\ttotal: 316ms\tremaining: 395ms\n",
      "445:\tlearn: 0.0240346\ttotal: 317ms\tremaining: 393ms\n",
      "446:\tlearn: 0.0240155\ttotal: 317ms\tremaining: 392ms\n",
      "447:\tlearn: 0.0239866\ttotal: 317ms\tremaining: 391ms\n",
      "448:\tlearn: 0.0239362\ttotal: 317ms\tremaining: 389ms\n",
      "449:\tlearn: 0.0239051\ttotal: 319ms\tremaining: 389ms\n",
      "450:\tlearn: 0.0238298\ttotal: 319ms\tremaining: 388ms\n",
      "451:\tlearn: 0.0237966\ttotal: 320ms\tremaining: 388ms\n",
      "452:\tlearn: 0.0237332\ttotal: 320ms\tremaining: 387ms\n",
      "453:\tlearn: 0.0236921\ttotal: 321ms\tremaining: 386ms\n",
      "454:\tlearn: 0.0236803\ttotal: 321ms\tremaining: 384ms\n",
      "455:\tlearn: 0.0236493\ttotal: 321ms\tremaining: 383ms\n",
      "456:\tlearn: 0.0236228\ttotal: 322ms\tremaining: 382ms\n",
      "457:\tlearn: 0.0235888\ttotal: 322ms\tremaining: 381ms\n",
      "458:\tlearn: 0.0235425\ttotal: 323ms\tremaining: 380ms\n",
      "459:\tlearn: 0.0235211\ttotal: 323ms\tremaining: 379ms\n",
      "460:\tlearn: 0.0234792\ttotal: 323ms\tremaining: 378ms\n",
      "461:\tlearn: 0.0234481\ttotal: 323ms\tremaining: 377ms\n",
      "462:\tlearn: 0.0234010\ttotal: 324ms\tremaining: 376ms\n",
      "463:\tlearn: 0.0233545\ttotal: 324ms\tremaining: 374ms\n",
      "464:\tlearn: 0.0233364\ttotal: 325ms\tremaining: 374ms\n",
      "465:\tlearn: 0.0232921\ttotal: 325ms\tremaining: 372ms\n",
      "466:\tlearn: 0.0232636\ttotal: 325ms\tremaining: 371ms\n",
      "467:\tlearn: 0.0232198\ttotal: 326ms\tremaining: 371ms\n",
      "468:\tlearn: 0.0231927\ttotal: 327ms\tremaining: 370ms\n",
      "469:\tlearn: 0.0231667\ttotal: 327ms\tremaining: 369ms\n",
      "470:\tlearn: 0.0231417\ttotal: 327ms\tremaining: 368ms\n",
      "471:\tlearn: 0.0231167\ttotal: 328ms\tremaining: 366ms\n",
      "472:\tlearn: 0.0230916\ttotal: 328ms\tremaining: 366ms\n",
      "473:\tlearn: 0.0230722\ttotal: 329ms\tremaining: 365ms\n",
      "474:\tlearn: 0.0230329\ttotal: 329ms\tremaining: 363ms\n",
      "475:\tlearn: 0.0230052\ttotal: 329ms\tremaining: 362ms\n",
      "476:\tlearn: 0.0229873\ttotal: 330ms\tremaining: 362ms\n",
      "477:\tlearn: 0.0229622\ttotal: 330ms\tremaining: 361ms\n",
      "478:\tlearn: 0.0228945\ttotal: 331ms\tremaining: 360ms\n",
      "479:\tlearn: 0.0228632\ttotal: 332ms\tremaining: 360ms\n",
      "480:\tlearn: 0.0228355\ttotal: 332ms\tremaining: 358ms\n",
      "481:\tlearn: 0.0227723\ttotal: 333ms\tremaining: 357ms\n",
      "482:\tlearn: 0.0227348\ttotal: 334ms\tremaining: 357ms\n",
      "483:\tlearn: 0.0226996\ttotal: 334ms\tremaining: 356ms\n",
      "484:\tlearn: 0.0226754\ttotal: 334ms\tremaining: 355ms\n",
      "485:\tlearn: 0.0226564\ttotal: 335ms\tremaining: 354ms\n",
      "486:\tlearn: 0.0226197\ttotal: 335ms\tremaining: 353ms\n",
      "487:\tlearn: 0.0225998\ttotal: 336ms\tremaining: 352ms\n",
      "488:\tlearn: 0.0225825\ttotal: 337ms\tremaining: 352ms\n",
      "489:\tlearn: 0.0225370\ttotal: 337ms\tremaining: 351ms\n",
      "490:\tlearn: 0.0224836\ttotal: 338ms\tremaining: 350ms\n",
      "491:\tlearn: 0.0224548\ttotal: 338ms\tremaining: 349ms\n",
      "492:\tlearn: 0.0224095\ttotal: 338ms\tremaining: 348ms\n",
      "493:\tlearn: 0.0223816\ttotal: 339ms\tremaining: 347ms\n",
      "494:\tlearn: 0.0223493\ttotal: 339ms\tremaining: 346ms\n",
      "495:\tlearn: 0.0223264\ttotal: 339ms\tremaining: 345ms\n",
      "496:\tlearn: 0.0222846\ttotal: 340ms\tremaining: 344ms\n",
      "497:\tlearn: 0.0222575\ttotal: 340ms\tremaining: 343ms\n",
      "498:\tlearn: 0.0222290\ttotal: 340ms\tremaining: 342ms\n",
      "499:\tlearn: 0.0222041\ttotal: 340ms\tremaining: 340ms\n",
      "500:\tlearn: 0.0221560\ttotal: 341ms\tremaining: 339ms\n",
      "501:\tlearn: 0.0221372\ttotal: 341ms\tremaining: 338ms\n",
      "502:\tlearn: 0.0221145\ttotal: 341ms\tremaining: 337ms\n",
      "503:\tlearn: 0.0220638\ttotal: 341ms\tremaining: 336ms\n",
      "504:\tlearn: 0.0220414\ttotal: 342ms\tremaining: 335ms\n",
      "505:\tlearn: 0.0220288\ttotal: 342ms\tremaining: 334ms\n",
      "506:\tlearn: 0.0219984\ttotal: 342ms\tremaining: 333ms\n",
      "507:\tlearn: 0.0219807\ttotal: 343ms\tremaining: 332ms\n",
      "508:\tlearn: 0.0219450\ttotal: 343ms\tremaining: 331ms\n",
      "509:\tlearn: 0.0219282\ttotal: 344ms\tremaining: 330ms\n",
      "510:\tlearn: 0.0219043\ttotal: 344ms\tremaining: 329ms\n",
      "511:\tlearn: 0.0218586\ttotal: 344ms\tremaining: 328ms\n",
      "512:\tlearn: 0.0218401\ttotal: 344ms\tremaining: 327ms\n",
      "513:\tlearn: 0.0218229\ttotal: 345ms\tremaining: 326ms\n",
      "514:\tlearn: 0.0218079\ttotal: 345ms\tremaining: 325ms\n",
      "515:\tlearn: 0.0217799\ttotal: 346ms\tremaining: 324ms\n",
      "516:\tlearn: 0.0217637\ttotal: 346ms\tremaining: 324ms\n",
      "517:\tlearn: 0.0217368\ttotal: 347ms\tremaining: 323ms\n",
      "518:\tlearn: 0.0217171\ttotal: 348ms\tremaining: 322ms\n",
      "519:\tlearn: 0.0217004\ttotal: 348ms\tremaining: 321ms\n",
      "520:\tlearn: 0.0216724\ttotal: 348ms\tremaining: 320ms\n",
      "521:\tlearn: 0.0216246\ttotal: 348ms\tremaining: 319ms\n",
      "522:\tlearn: 0.0215806\ttotal: 349ms\tremaining: 318ms\n",
      "523:\tlearn: 0.0215328\ttotal: 349ms\tremaining: 317ms\n",
      "524:\tlearn: 0.0215096\ttotal: 350ms\tremaining: 317ms\n",
      "525:\tlearn: 0.0214801\ttotal: 350ms\tremaining: 316ms\n",
      "526:\tlearn: 0.0214361\ttotal: 351ms\tremaining: 315ms\n",
      "527:\tlearn: 0.0213946\ttotal: 351ms\tremaining: 314ms\n",
      "528:\tlearn: 0.0213656\ttotal: 351ms\tremaining: 313ms\n",
      "529:\tlearn: 0.0213472\ttotal: 351ms\tremaining: 312ms\n",
      "530:\tlearn: 0.0213265\ttotal: 352ms\tremaining: 311ms\n",
      "531:\tlearn: 0.0213111\ttotal: 353ms\tremaining: 310ms\n",
      "532:\tlearn: 0.0212719\ttotal: 353ms\tremaining: 309ms\n",
      "533:\tlearn: 0.0212578\ttotal: 353ms\tremaining: 308ms\n",
      "534:\tlearn: 0.0212254\ttotal: 354ms\tremaining: 307ms\n",
      "535:\tlearn: 0.0211979\ttotal: 354ms\tremaining: 306ms\n",
      "536:\tlearn: 0.0211702\ttotal: 354ms\tremaining: 305ms\n",
      "537:\tlearn: 0.0211318\ttotal: 355ms\tremaining: 304ms\n",
      "538:\tlearn: 0.0211070\ttotal: 355ms\tremaining: 304ms\n",
      "539:\tlearn: 0.0210777\ttotal: 355ms\tremaining: 303ms\n",
      "540:\tlearn: 0.0210529\ttotal: 355ms\tremaining: 302ms\n",
      "541:\tlearn: 0.0210330\ttotal: 356ms\tremaining: 301ms\n",
      "542:\tlearn: 0.0210158\ttotal: 356ms\tremaining: 300ms\n",
      "543:\tlearn: 0.0209845\ttotal: 356ms\tremaining: 299ms\n"
     ]
    },
    {
     "name": "stdout",
     "output_type": "stream",
     "text": [
      "544:\tlearn: 0.0209665\ttotal: 357ms\tremaining: 298ms\n",
      "545:\tlearn: 0.0209397\ttotal: 358ms\tremaining: 298ms\n",
      "546:\tlearn: 0.0209263\ttotal: 359ms\tremaining: 297ms\n",
      "547:\tlearn: 0.0208955\ttotal: 359ms\tremaining: 296ms\n",
      "548:\tlearn: 0.0208730\ttotal: 360ms\tremaining: 295ms\n",
      "549:\tlearn: 0.0208602\ttotal: 367ms\tremaining: 300ms\n",
      "550:\tlearn: 0.0208330\ttotal: 369ms\tremaining: 300ms\n",
      "551:\tlearn: 0.0208184\ttotal: 370ms\tremaining: 300ms\n",
      "552:\tlearn: 0.0207924\ttotal: 370ms\tremaining: 299ms\n",
      "553:\tlearn: 0.0207564\ttotal: 370ms\tremaining: 298ms\n",
      "554:\tlearn: 0.0207369\ttotal: 371ms\tremaining: 297ms\n",
      "555:\tlearn: 0.0206954\ttotal: 371ms\tremaining: 296ms\n",
      "556:\tlearn: 0.0206669\ttotal: 371ms\tremaining: 295ms\n",
      "557:\tlearn: 0.0206556\ttotal: 372ms\tremaining: 294ms\n",
      "558:\tlearn: 0.0206336\ttotal: 372ms\tremaining: 293ms\n",
      "559:\tlearn: 0.0205977\ttotal: 373ms\tremaining: 293ms\n",
      "560:\tlearn: 0.0205844\ttotal: 373ms\tremaining: 292ms\n",
      "561:\tlearn: 0.0205544\ttotal: 373ms\tremaining: 291ms\n",
      "562:\tlearn: 0.0205300\ttotal: 373ms\tremaining: 290ms\n",
      "563:\tlearn: 0.0205127\ttotal: 374ms\tremaining: 289ms\n",
      "564:\tlearn: 0.0205014\ttotal: 375ms\tremaining: 289ms\n",
      "565:\tlearn: 0.0204778\ttotal: 376ms\tremaining: 288ms\n",
      "566:\tlearn: 0.0204445\ttotal: 377ms\tremaining: 288ms\n",
      "567:\tlearn: 0.0204277\ttotal: 377ms\tremaining: 287ms\n",
      "568:\tlearn: 0.0204115\ttotal: 377ms\tremaining: 286ms\n",
      "569:\tlearn: 0.0203820\ttotal: 378ms\tremaining: 285ms\n",
      "570:\tlearn: 0.0203656\ttotal: 378ms\tremaining: 284ms\n",
      "571:\tlearn: 0.0203498\ttotal: 378ms\tremaining: 283ms\n",
      "572:\tlearn: 0.0203345\ttotal: 379ms\tremaining: 282ms\n"
     ]
    },
    {
     "name": "stdout",
     "output_type": "stream",
     "text": [
      "573:\tlearn: 0.0203111\ttotal: 381ms\tremaining: 283ms\n",
      "574:\tlearn: 0.0202840\ttotal: 383ms\tremaining: 283ms\n",
      "575:\tlearn: 0.0202606\ttotal: 383ms\tremaining: 282ms\n",
      "576:\tlearn: 0.0202469\ttotal: 383ms\tremaining: 281ms\n",
      "577:\tlearn: 0.0202338\ttotal: 384ms\tremaining: 280ms\n",
      "578:\tlearn: 0.0202211\ttotal: 384ms\tremaining: 279ms\n",
      "579:\tlearn: 0.0201949\ttotal: 385ms\tremaining: 278ms\n",
      "580:\tlearn: 0.0201610\ttotal: 385ms\tremaining: 278ms\n",
      "581:\tlearn: 0.0201357\ttotal: 385ms\tremaining: 277ms\n",
      "582:\tlearn: 0.0201239\ttotal: 387ms\tremaining: 277ms\n",
      "583:\tlearn: 0.0200970\ttotal: 387ms\tremaining: 276ms\n",
      "584:\tlearn: 0.0200561\ttotal: 388ms\tremaining: 275ms\n",
      "585:\tlearn: 0.0200386\ttotal: 389ms\tremaining: 274ms\n",
      "586:\tlearn: 0.0200287\ttotal: 389ms\tremaining: 274ms\n",
      "587:\tlearn: 0.0200141\ttotal: 389ms\tremaining: 273ms\n",
      "588:\tlearn: 0.0199978\ttotal: 389ms\tremaining: 272ms\n",
      "589:\tlearn: 0.0199840\ttotal: 390ms\tremaining: 271ms\n",
      "590:\tlearn: 0.0199448\ttotal: 390ms\tremaining: 270ms\n",
      "591:\tlearn: 0.0199209\ttotal: 390ms\tremaining: 269ms\n",
      "592:\tlearn: 0.0199094\ttotal: 391ms\tremaining: 268ms\n",
      "593:\tlearn: 0.0198978\ttotal: 391ms\tremaining: 267ms\n",
      "594:\tlearn: 0.0198721\ttotal: 391ms\tremaining: 266ms\n",
      "595:\tlearn: 0.0198574\ttotal: 392ms\tremaining: 265ms\n",
      "596:\tlearn: 0.0198376\ttotal: 392ms\tremaining: 265ms\n",
      "597:\tlearn: 0.0198093\ttotal: 393ms\tremaining: 264ms\n",
      "598:\tlearn: 0.0198011\ttotal: 394ms\tremaining: 263ms\n",
      "599:\tlearn: 0.0197668\ttotal: 394ms\tremaining: 263ms\n",
      "600:\tlearn: 0.0197546\ttotal: 394ms\tremaining: 262ms\n",
      "601:\tlearn: 0.0197437\ttotal: 395ms\tremaining: 261ms\n",
      "602:\tlearn: 0.0196806\ttotal: 395ms\tremaining: 260ms\n",
      "603:\tlearn: 0.0196670\ttotal: 395ms\tremaining: 259ms\n",
      "604:\tlearn: 0.0196551\ttotal: 396ms\tremaining: 258ms\n",
      "605:\tlearn: 0.0196415\ttotal: 396ms\tremaining: 257ms\n",
      "606:\tlearn: 0.0196301\ttotal: 396ms\tremaining: 257ms\n",
      "607:\tlearn: 0.0196055\ttotal: 396ms\tremaining: 256ms\n",
      "608:\tlearn: 0.0195954\ttotal: 397ms\tremaining: 255ms\n",
      "609:\tlearn: 0.0195787\ttotal: 397ms\tremaining: 254ms\n",
      "610:\tlearn: 0.0195415\ttotal: 397ms\tremaining: 253ms\n",
      "611:\tlearn: 0.0195315\ttotal: 398ms\tremaining: 253ms\n",
      "612:\tlearn: 0.0195187\ttotal: 399ms\tremaining: 252ms\n",
      "613:\tlearn: 0.0194995\ttotal: 399ms\tremaining: 251ms\n",
      "614:\tlearn: 0.0194872\ttotal: 400ms\tremaining: 250ms\n",
      "615:\tlearn: 0.0194797\ttotal: 400ms\tremaining: 249ms\n",
      "616:\tlearn: 0.0194673\ttotal: 400ms\tremaining: 248ms\n",
      "617:\tlearn: 0.0194558\ttotal: 402ms\tremaining: 248ms\n",
      "618:\tlearn: 0.0194270\ttotal: 402ms\tremaining: 247ms\n",
      "619:\tlearn: 0.0194162\ttotal: 403ms\tremaining: 247ms\n",
      "620:\tlearn: 0.0194038\ttotal: 403ms\tremaining: 246ms\n",
      "621:\tlearn: 0.0193980\ttotal: 403ms\tremaining: 245ms\n",
      "622:\tlearn: 0.0193861\ttotal: 404ms\tremaining: 244ms\n",
      "623:\tlearn: 0.0193616\ttotal: 404ms\tremaining: 244ms\n",
      "624:\tlearn: 0.0193521\ttotal: 405ms\tremaining: 243ms\n",
      "625:\tlearn: 0.0193260\ttotal: 405ms\tremaining: 242ms\n",
      "626:\tlearn: 0.0192897\ttotal: 406ms\tremaining: 241ms\n",
      "627:\tlearn: 0.0192731\ttotal: 406ms\tremaining: 241ms\n",
      "628:\tlearn: 0.0192628\ttotal: 406ms\tremaining: 240ms\n",
      "629:\tlearn: 0.0192496\ttotal: 407ms\tremaining: 239ms\n",
      "630:\tlearn: 0.0192191\ttotal: 407ms\tremaining: 238ms\n",
      "631:\tlearn: 0.0191873\ttotal: 408ms\tremaining: 237ms\n",
      "632:\tlearn: 0.0191764\ttotal: 408ms\tremaining: 237ms\n",
      "633:\tlearn: 0.0191498\ttotal: 408ms\tremaining: 236ms\n",
      "634:\tlearn: 0.0191276\ttotal: 408ms\tremaining: 235ms\n",
      "635:\tlearn: 0.0190927\ttotal: 410ms\tremaining: 234ms\n",
      "636:\tlearn: 0.0190685\ttotal: 410ms\tremaining: 234ms\n",
      "637:\tlearn: 0.0190520\ttotal: 410ms\tremaining: 233ms\n",
      "638:\tlearn: 0.0190333\ttotal: 411ms\tremaining: 232ms\n",
      "639:\tlearn: 0.0190091\ttotal: 411ms\tremaining: 231ms\n"
     ]
    },
    {
     "name": "stdout",
     "output_type": "stream",
     "text": [
      "640:\tlearn: 0.0189990\ttotal: 411ms\tremaining: 230ms\n",
      "641:\tlearn: 0.0189658\ttotal: 413ms\tremaining: 231ms\n",
      "642:\tlearn: 0.0189479\ttotal: 414ms\tremaining: 230ms\n",
      "643:\tlearn: 0.0189389\ttotal: 414ms\tremaining: 229ms\n",
      "644:\tlearn: 0.0189054\ttotal: 415ms\tremaining: 228ms\n",
      "645:\tlearn: 0.0188948\ttotal: 416ms\tremaining: 228ms\n",
      "646:\tlearn: 0.0188851\ttotal: 416ms\tremaining: 227ms\n",
      "647:\tlearn: 0.0188618\ttotal: 416ms\tremaining: 226ms\n",
      "648:\tlearn: 0.0188434\ttotal: 417ms\tremaining: 225ms\n",
      "649:\tlearn: 0.0188094\ttotal: 417ms\tremaining: 225ms\n",
      "650:\tlearn: 0.0187914\ttotal: 418ms\tremaining: 224ms\n",
      "651:\tlearn: 0.0187803\ttotal: 418ms\tremaining: 223ms\n",
      "652:\tlearn: 0.0187496\ttotal: 419ms\tremaining: 223ms\n",
      "653:\tlearn: 0.0187359\ttotal: 419ms\tremaining: 222ms\n",
      "654:\tlearn: 0.0187211\ttotal: 419ms\tremaining: 221ms\n",
      "655:\tlearn: 0.0187109\ttotal: 420ms\tremaining: 220ms\n",
      "656:\tlearn: 0.0186872\ttotal: 420ms\tremaining: 219ms\n",
      "657:\tlearn: 0.0186646\ttotal: 420ms\tremaining: 219ms\n",
      "658:\tlearn: 0.0186541\ttotal: 422ms\tremaining: 218ms\n",
      "659:\tlearn: 0.0186262\ttotal: 422ms\tremaining: 217ms\n",
      "660:\tlearn: 0.0185968\ttotal: 422ms\tremaining: 217ms\n",
      "661:\tlearn: 0.0185750\ttotal: 423ms\tremaining: 216ms\n",
      "662:\tlearn: 0.0185586\ttotal: 423ms\tremaining: 215ms\n",
      "663:\tlearn: 0.0185441\ttotal: 424ms\tremaining: 214ms\n",
      "664:\tlearn: 0.0185315\ttotal: 424ms\tremaining: 214ms\n",
      "665:\tlearn: 0.0185142\ttotal: 425ms\tremaining: 213ms\n",
      "666:\tlearn: 0.0184818\ttotal: 425ms\tremaining: 212ms\n",
      "667:\tlearn: 0.0184725\ttotal: 425ms\tremaining: 211ms\n",
      "668:\tlearn: 0.0184676\ttotal: 426ms\tremaining: 211ms\n",
      "669:\tlearn: 0.0184104\ttotal: 427ms\tremaining: 210ms\n",
      "670:\tlearn: 0.0183905\ttotal: 428ms\tremaining: 210ms\n",
      "671:\tlearn: 0.0183822\ttotal: 428ms\tremaining: 209ms\n",
      "672:\tlearn: 0.0183521\ttotal: 428ms\tremaining: 208ms\n",
      "673:\tlearn: 0.0183277\ttotal: 429ms\tremaining: 207ms\n",
      "674:\tlearn: 0.0183106\ttotal: 429ms\tremaining: 207ms\n",
      "675:\tlearn: 0.0182922\ttotal: 429ms\tremaining: 206ms\n",
      "676:\tlearn: 0.0182638\ttotal: 430ms\tremaining: 205ms\n",
      "677:\tlearn: 0.0182523\ttotal: 430ms\tremaining: 204ms\n",
      "678:\tlearn: 0.0182313\ttotal: 430ms\tremaining: 203ms\n",
      "679:\tlearn: 0.0182111\ttotal: 430ms\tremaining: 203ms\n",
      "680:\tlearn: 0.0181981\ttotal: 431ms\tremaining: 202ms\n",
      "681:\tlearn: 0.0181876\ttotal: 432ms\tremaining: 201ms\n",
      "682:\tlearn: 0.0181721\ttotal: 433ms\tremaining: 201ms\n",
      "683:\tlearn: 0.0181630\ttotal: 433ms\tremaining: 200ms\n",
      "684:\tlearn: 0.0181464\ttotal: 433ms\tremaining: 199ms\n",
      "685:\tlearn: 0.0181382\ttotal: 433ms\tremaining: 198ms\n",
      "686:\tlearn: 0.0181157\ttotal: 434ms\tremaining: 198ms\n",
      "687:\tlearn: 0.0181061\ttotal: 434ms\tremaining: 197ms\n",
      "688:\tlearn: 0.0180923\ttotal: 434ms\tremaining: 196ms\n",
      "689:\tlearn: 0.0180724\ttotal: 435ms\tremaining: 195ms\n",
      "690:\tlearn: 0.0180445\ttotal: 435ms\tremaining: 195ms\n",
      "691:\tlearn: 0.0180359\ttotal: 435ms\tremaining: 194ms\n",
      "692:\tlearn: 0.0180208\ttotal: 436ms\tremaining: 193ms\n",
      "693:\tlearn: 0.0179996\ttotal: 436ms\tremaining: 192ms\n",
      "694:\tlearn: 0.0179685\ttotal: 437ms\tremaining: 192ms\n",
      "695:\tlearn: 0.0179503\ttotal: 437ms\tremaining: 191ms\n",
      "696:\tlearn: 0.0179410\ttotal: 437ms\tremaining: 190ms\n",
      "697:\tlearn: 0.0179164\ttotal: 438ms\tremaining: 189ms\n",
      "698:\tlearn: 0.0178967\ttotal: 438ms\tremaining: 189ms\n",
      "699:\tlearn: 0.0178827\ttotal: 439ms\tremaining: 188ms\n",
      "700:\tlearn: 0.0178678\ttotal: 439ms\tremaining: 187ms\n",
      "701:\tlearn: 0.0178469\ttotal: 439ms\tremaining: 186ms\n",
      "702:\tlearn: 0.0178208\ttotal: 439ms\tremaining: 186ms\n",
      "703:\tlearn: 0.0177958\ttotal: 440ms\tremaining: 185ms\n",
      "704:\tlearn: 0.0177855\ttotal: 440ms\tremaining: 184ms\n",
      "705:\tlearn: 0.0177697\ttotal: 441ms\tremaining: 183ms\n",
      "706:\tlearn: 0.0177487\ttotal: 441ms\tremaining: 183ms\n",
      "707:\tlearn: 0.0177409\ttotal: 441ms\tremaining: 182ms\n",
      "708:\tlearn: 0.0177207\ttotal: 441ms\tremaining: 181ms\n",
      "709:\tlearn: 0.0177129\ttotal: 442ms\tremaining: 180ms\n",
      "710:\tlearn: 0.0176835\ttotal: 442ms\tremaining: 180ms\n",
      "711:\tlearn: 0.0176650\ttotal: 442ms\tremaining: 179ms\n",
      "712:\tlearn: 0.0176471\ttotal: 443ms\tremaining: 178ms\n",
      "713:\tlearn: 0.0176053\ttotal: 444ms\tremaining: 178ms\n",
      "714:\tlearn: 0.0175905\ttotal: 445ms\tremaining: 177ms\n",
      "715:\tlearn: 0.0175713\ttotal: 445ms\tremaining: 176ms\n",
      "716:\tlearn: 0.0175461\ttotal: 445ms\tremaining: 176ms\n",
      "717:\tlearn: 0.0175374\ttotal: 446ms\tremaining: 175ms\n",
      "718:\tlearn: 0.0175097\ttotal: 446ms\tremaining: 174ms\n",
      "719:\tlearn: 0.0174877\ttotal: 446ms\tremaining: 174ms\n",
      "720:\tlearn: 0.0174739\ttotal: 447ms\tremaining: 173ms\n",
      "721:\tlearn: 0.0174558\ttotal: 448ms\tremaining: 173ms\n",
      "722:\tlearn: 0.0174497\ttotal: 448ms\tremaining: 172ms\n",
      "723:\tlearn: 0.0174308\ttotal: 449ms\tremaining: 171ms\n",
      "724:\tlearn: 0.0174024\ttotal: 449ms\tremaining: 170ms\n",
      "725:\tlearn: 0.0173820\ttotal: 449ms\tremaining: 170ms\n",
      "726:\tlearn: 0.0173671\ttotal: 450ms\tremaining: 169ms\n",
      "727:\tlearn: 0.0173522\ttotal: 450ms\tremaining: 168ms\n",
      "728:\tlearn: 0.0173295\ttotal: 451ms\tremaining: 168ms\n",
      "729:\tlearn: 0.0173157\ttotal: 451ms\tremaining: 167ms\n",
      "730:\tlearn: 0.0173098\ttotal: 452ms\tremaining: 166ms\n",
      "731:\tlearn: 0.0172947\ttotal: 454ms\tremaining: 166ms\n",
      "732:\tlearn: 0.0172751\ttotal: 454ms\tremaining: 165ms\n",
      "733:\tlearn: 0.0172457\ttotal: 455ms\tremaining: 165ms\n",
      "734:\tlearn: 0.0172280\ttotal: 455ms\tremaining: 164ms\n",
      "735:\tlearn: 0.0172110\ttotal: 455ms\tremaining: 163ms\n",
      "736:\tlearn: 0.0171613\ttotal: 455ms\tremaining: 163ms\n",
      "737:\tlearn: 0.0171519\ttotal: 457ms\tremaining: 162ms\n",
      "738:\tlearn: 0.0171048\ttotal: 458ms\tremaining: 162ms\n",
      "739:\tlearn: 0.0170847\ttotal: 459ms\tremaining: 161ms\n",
      "740:\tlearn: 0.0170725\ttotal: 460ms\tremaining: 161ms\n",
      "741:\tlearn: 0.0170489\ttotal: 461ms\tremaining: 160ms\n",
      "742:\tlearn: 0.0170319\ttotal: 462ms\tremaining: 160ms\n",
      "743:\tlearn: 0.0170154\ttotal: 463ms\tremaining: 159ms\n",
      "744:\tlearn: 0.0169958\ttotal: 466ms\tremaining: 159ms\n",
      "745:\tlearn: 0.0169715\ttotal: 466ms\tremaining: 159ms\n",
      "746:\tlearn: 0.0169640\ttotal: 467ms\tremaining: 158ms\n",
      "747:\tlearn: 0.0169579\ttotal: 468ms\tremaining: 158ms\n",
      "748:\tlearn: 0.0169328\ttotal: 468ms\tremaining: 157ms\n",
      "749:\tlearn: 0.0169117\ttotal: 468ms\tremaining: 156ms\n",
      "750:\tlearn: 0.0168934\ttotal: 469ms\tremaining: 155ms\n",
      "751:\tlearn: 0.0168852\ttotal: 469ms\tremaining: 155ms\n",
      "752:\tlearn: 0.0168666\ttotal: 469ms\tremaining: 154ms\n",
      "753:\tlearn: 0.0168596\ttotal: 470ms\tremaining: 153ms\n",
      "754:\tlearn: 0.0168314\ttotal: 470ms\tremaining: 153ms\n",
      "755:\tlearn: 0.0168156\ttotal: 471ms\tremaining: 152ms\n",
      "756:\tlearn: 0.0167998\ttotal: 471ms\tremaining: 151ms\n",
      "757:\tlearn: 0.0167865\ttotal: 471ms\tremaining: 150ms\n",
      "758:\tlearn: 0.0167820\ttotal: 471ms\tremaining: 150ms\n",
      "759:\tlearn: 0.0167556\ttotal: 472ms\tremaining: 149ms\n",
      "760:\tlearn: 0.0167299\ttotal: 472ms\tremaining: 148ms\n",
      "761:\tlearn: 0.0167243\ttotal: 472ms\tremaining: 148ms\n",
      "762:\tlearn: 0.0166943\ttotal: 473ms\tremaining: 147ms\n",
      "763:\tlearn: 0.0166611\ttotal: 473ms\tremaining: 146ms\n",
      "764:\tlearn: 0.0166459\ttotal: 474ms\tremaining: 146ms\n",
      "765:\tlearn: 0.0166241\ttotal: 474ms\tremaining: 145ms\n",
      "766:\tlearn: 0.0166141\ttotal: 475ms\tremaining: 144ms\n",
      "767:\tlearn: 0.0166045\ttotal: 475ms\tremaining: 144ms\n",
      "768:\tlearn: 0.0165917\ttotal: 475ms\tremaining: 143ms\n",
      "769:\tlearn: 0.0165842\ttotal: 476ms\tremaining: 142ms\n",
      "770:\tlearn: 0.0165697\ttotal: 476ms\tremaining: 141ms\n",
      "771:\tlearn: 0.0165626\ttotal: 476ms\tremaining: 141ms\n",
      "772:\tlearn: 0.0165568\ttotal: 477ms\tremaining: 140ms\n",
      "773:\tlearn: 0.0165453\ttotal: 477ms\tremaining: 139ms\n",
      "774:\tlearn: 0.0165358\ttotal: 477ms\tremaining: 139ms\n",
      "775:\tlearn: 0.0165193\ttotal: 478ms\tremaining: 138ms\n",
      "776:\tlearn: 0.0165085\ttotal: 478ms\tremaining: 137ms\n",
      "777:\tlearn: 0.0165013\ttotal: 478ms\tremaining: 136ms\n",
      "778:\tlearn: 0.0164796\ttotal: 479ms\tremaining: 136ms\n",
      "779:\tlearn: 0.0164624\ttotal: 479ms\tremaining: 135ms\n",
      "780:\tlearn: 0.0164499\ttotal: 479ms\tremaining: 134ms\n",
      "781:\tlearn: 0.0164413\ttotal: 481ms\tremaining: 134ms\n",
      "782:\tlearn: 0.0164266\ttotal: 481ms\tremaining: 133ms\n",
      "783:\tlearn: 0.0164125\ttotal: 481ms\tremaining: 133ms\n",
      "784:\tlearn: 0.0163948\ttotal: 482ms\tremaining: 132ms\n",
      "785:\tlearn: 0.0163633\ttotal: 482ms\tremaining: 131ms\n",
      "786:\tlearn: 0.0163457\ttotal: 482ms\tremaining: 131ms\n",
      "787:\tlearn: 0.0163339\ttotal: 483ms\tremaining: 130ms\n",
      "788:\tlearn: 0.0163233\ttotal: 483ms\tremaining: 129ms\n",
      "789:\tlearn: 0.0163066\ttotal: 484ms\tremaining: 129ms\n",
      "790:\tlearn: 0.0162896\ttotal: 484ms\tremaining: 128ms\n",
      "791:\tlearn: 0.0162759\ttotal: 485ms\tremaining: 127ms\n",
      "792:\tlearn: 0.0162461\ttotal: 487ms\tremaining: 127ms\n",
      "793:\tlearn: 0.0162268\ttotal: 488ms\tremaining: 127ms\n",
      "794:\tlearn: 0.0162174\ttotal: 488ms\tremaining: 126ms\n",
      "795:\tlearn: 0.0162025\ttotal: 489ms\tremaining: 125ms\n",
      "796:\tlearn: 0.0161885\ttotal: 490ms\tremaining: 125ms\n",
      "797:\tlearn: 0.0161677\ttotal: 491ms\tremaining: 124ms\n",
      "798:\tlearn: 0.0161565\ttotal: 492ms\tremaining: 124ms\n"
     ]
    },
    {
     "name": "stdout",
     "output_type": "stream",
     "text": [
      "799:\tlearn: 0.0161424\ttotal: 493ms\tremaining: 123ms\n",
      "800:\tlearn: 0.0161317\ttotal: 494ms\tremaining: 123ms\n",
      "801:\tlearn: 0.0161144\ttotal: 494ms\tremaining: 122ms\n",
      "802:\tlearn: 0.0160980\ttotal: 497ms\tremaining: 122ms\n",
      "803:\tlearn: 0.0160837\ttotal: 497ms\tremaining: 121ms\n",
      "804:\tlearn: 0.0160636\ttotal: 498ms\tremaining: 121ms\n",
      "805:\tlearn: 0.0160515\ttotal: 499ms\tremaining: 120ms\n",
      "806:\tlearn: 0.0160482\ttotal: 501ms\tremaining: 120ms\n",
      "807:\tlearn: 0.0160306\ttotal: 501ms\tremaining: 119ms\n",
      "808:\tlearn: 0.0160194\ttotal: 502ms\tremaining: 119ms\n",
      "809:\tlearn: 0.0160082\ttotal: 503ms\tremaining: 118ms\n",
      "810:\tlearn: 0.0159999\ttotal: 504ms\tremaining: 117ms\n",
      "811:\tlearn: 0.0159927\ttotal: 504ms\tremaining: 117ms\n",
      "812:\tlearn: 0.0159757\ttotal: 505ms\tremaining: 116ms\n",
      "813:\tlearn: 0.0159559\ttotal: 505ms\tremaining: 115ms\n",
      "814:\tlearn: 0.0159459\ttotal: 506ms\tremaining: 115ms\n",
      "815:\tlearn: 0.0159248\ttotal: 506ms\tremaining: 114ms\n",
      "816:\tlearn: 0.0159057\ttotal: 507ms\tremaining: 113ms\n",
      "817:\tlearn: 0.0158969\ttotal: 507ms\tremaining: 113ms\n",
      "818:\tlearn: 0.0158833\ttotal: 507ms\tremaining: 112ms\n",
      "819:\tlearn: 0.0158749\ttotal: 508ms\tremaining: 111ms\n",
      "820:\tlearn: 0.0158468\ttotal: 508ms\tremaining: 111ms\n",
      "821:\tlearn: 0.0158331\ttotal: 509ms\tremaining: 110ms\n",
      "822:\tlearn: 0.0158230\ttotal: 509ms\tremaining: 109ms\n",
      "823:\tlearn: 0.0158126\ttotal: 509ms\tremaining: 109ms\n",
      "824:\tlearn: 0.0157997\ttotal: 510ms\tremaining: 108ms\n",
      "825:\tlearn: 0.0157938\ttotal: 510ms\tremaining: 107ms\n",
      "826:\tlearn: 0.0157816\ttotal: 510ms\tremaining: 107ms\n",
      "827:\tlearn: 0.0157659\ttotal: 511ms\tremaining: 106ms\n",
      "828:\tlearn: 0.0157582\ttotal: 511ms\tremaining: 106ms\n",
      "829:\tlearn: 0.0157333\ttotal: 512ms\tremaining: 105ms\n",
      "830:\tlearn: 0.0157260\ttotal: 512ms\tremaining: 104ms\n",
      "831:\tlearn: 0.0157190\ttotal: 512ms\tremaining: 103ms\n",
      "832:\tlearn: 0.0157029\ttotal: 513ms\tremaining: 103ms\n",
      "833:\tlearn: 0.0156869\ttotal: 513ms\tremaining: 102ms\n",
      "834:\tlearn: 0.0156584\ttotal: 514ms\tremaining: 102ms\n",
      "835:\tlearn: 0.0156506\ttotal: 514ms\tremaining: 101ms\n",
      "836:\tlearn: 0.0156324\ttotal: 515ms\tremaining: 100ms\n",
      "837:\tlearn: 0.0156201\ttotal: 515ms\tremaining: 99.5ms\n",
      "838:\tlearn: 0.0156147\ttotal: 515ms\tremaining: 98.8ms\n",
      "839:\tlearn: 0.0155988\ttotal: 516ms\tremaining: 98.2ms\n",
      "840:\tlearn: 0.0155844\ttotal: 516ms\tremaining: 97.5ms\n",
      "841:\tlearn: 0.0155761\ttotal: 516ms\tremaining: 96.8ms\n",
      "842:\tlearn: 0.0155650\ttotal: 517ms\tremaining: 96.2ms\n",
      "843:\tlearn: 0.0155534\ttotal: 517ms\tremaining: 95.6ms\n"
     ]
    },
    {
     "name": "stdout",
     "output_type": "stream",
     "text": [
      "844:\tlearn: 0.0155468\ttotal: 520ms\tremaining: 95.4ms\n",
      "845:\tlearn: 0.0155321\ttotal: 521ms\tremaining: 94.8ms\n",
      "846:\tlearn: 0.0155239\ttotal: 521ms\tremaining: 94.2ms\n",
      "847:\tlearn: 0.0155069\ttotal: 522ms\tremaining: 93.6ms\n",
      "848:\tlearn: 0.0154876\ttotal: 523ms\tremaining: 93ms\n",
      "849:\tlearn: 0.0154762\ttotal: 523ms\tremaining: 92.3ms\n",
      "850:\tlearn: 0.0154710\ttotal: 523ms\tremaining: 91.6ms\n",
      "851:\tlearn: 0.0154643\ttotal: 524ms\tremaining: 91ms\n",
      "852:\tlearn: 0.0154571\ttotal: 524ms\tremaining: 90.3ms\n",
      "853:\tlearn: 0.0154372\ttotal: 524ms\tremaining: 89.6ms\n",
      "854:\tlearn: 0.0154244\ttotal: 524ms\tremaining: 88.9ms\n",
      "855:\tlearn: 0.0154129\ttotal: 526ms\tremaining: 88.4ms\n",
      "856:\tlearn: 0.0154080\ttotal: 526ms\tremaining: 87.8ms\n",
      "857:\tlearn: 0.0154012\ttotal: 527ms\tremaining: 87.2ms\n",
      "858:\tlearn: 0.0153903\ttotal: 527ms\tremaining: 86.5ms\n",
      "859:\tlearn: 0.0153825\ttotal: 527ms\tremaining: 85.8ms\n",
      "860:\tlearn: 0.0153719\ttotal: 528ms\tremaining: 85.2ms\n",
      "861:\tlearn: 0.0153639\ttotal: 528ms\tremaining: 84.5ms\n",
      "862:\tlearn: 0.0153587\ttotal: 529ms\tremaining: 84ms\n",
      "863:\tlearn: 0.0153386\ttotal: 530ms\tremaining: 83.4ms\n",
      "864:\tlearn: 0.0153344\ttotal: 530ms\tremaining: 82.7ms\n",
      "865:\tlearn: 0.0153251\ttotal: 530ms\tremaining: 82ms\n",
      "866:\tlearn: 0.0153198\ttotal: 530ms\tremaining: 81.4ms\n",
      "867:\tlearn: 0.0153052\ttotal: 531ms\tremaining: 80.8ms\n",
      "868:\tlearn: 0.0152924\ttotal: 532ms\tremaining: 80.2ms\n",
      "869:\tlearn: 0.0152756\ttotal: 532ms\tremaining: 79.5ms\n",
      "870:\tlearn: 0.0152704\ttotal: 533ms\tremaining: 78.9ms\n",
      "871:\tlearn: 0.0152633\ttotal: 533ms\tremaining: 78.3ms\n",
      "872:\tlearn: 0.0152561\ttotal: 534ms\tremaining: 77.6ms\n",
      "873:\tlearn: 0.0152398\ttotal: 534ms\tremaining: 77ms\n",
      "874:\tlearn: 0.0152282\ttotal: 534ms\tremaining: 76.3ms\n",
      "875:\tlearn: 0.0152122\ttotal: 534ms\tremaining: 75.6ms\n",
      "876:\tlearn: 0.0152022\ttotal: 535ms\tremaining: 75.1ms\n",
      "877:\tlearn: 0.0151879\ttotal: 536ms\tremaining: 74.4ms\n",
      "878:\tlearn: 0.0151679\ttotal: 537ms\tremaining: 73.9ms\n",
      "879:\tlearn: 0.0151559\ttotal: 537ms\tremaining: 73.2ms\n",
      "880:\tlearn: 0.0151505\ttotal: 537ms\tremaining: 72.6ms\n",
      "881:\tlearn: 0.0151375\ttotal: 538ms\tremaining: 71.9ms\n",
      "882:\tlearn: 0.0151271\ttotal: 538ms\tremaining: 71.3ms\n",
      "883:\tlearn: 0.0151150\ttotal: 538ms\tremaining: 70.6ms\n",
      "884:\tlearn: 0.0151052\ttotal: 538ms\tremaining: 70ms\n",
      "885:\tlearn: 0.0150930\ttotal: 539ms\tremaining: 69.3ms\n",
      "886:\tlearn: 0.0150708\ttotal: 539ms\tremaining: 68.7ms\n",
      "887:\tlearn: 0.0150643\ttotal: 540ms\tremaining: 68.1ms\n",
      "888:\tlearn: 0.0150550\ttotal: 540ms\tremaining: 67.4ms\n",
      "889:\tlearn: 0.0150168\ttotal: 540ms\tremaining: 66.8ms\n",
      "890:\tlearn: 0.0149985\ttotal: 541ms\tremaining: 66.1ms\n",
      "891:\tlearn: 0.0149870\ttotal: 541ms\tremaining: 65.5ms\n",
      "892:\tlearn: 0.0149766\ttotal: 541ms\tremaining: 64.9ms\n",
      "893:\tlearn: 0.0149607\ttotal: 543ms\tremaining: 64.4ms\n",
      "894:\tlearn: 0.0149479\ttotal: 543ms\tremaining: 63.7ms\n",
      "895:\tlearn: 0.0149389\ttotal: 544ms\tremaining: 63.1ms\n",
      "896:\tlearn: 0.0149272\ttotal: 544ms\tremaining: 62.5ms\n",
      "897:\tlearn: 0.0149150\ttotal: 544ms\tremaining: 61.8ms\n"
     ]
    },
    {
     "name": "stdout",
     "output_type": "stream",
     "text": [
      "898:\tlearn: 0.0149055\ttotal: 549ms\tremaining: 61.6ms\n",
      "899:\tlearn: 0.0148996\ttotal: 550ms\tremaining: 61.1ms\n",
      "900:\tlearn: 0.0148772\ttotal: 550ms\tremaining: 60.5ms\n",
      "901:\tlearn: 0.0148720\ttotal: 551ms\tremaining: 59.8ms\n",
      "902:\tlearn: 0.0148608\ttotal: 552ms\tremaining: 59.3ms\n",
      "903:\tlearn: 0.0148457\ttotal: 552ms\tremaining: 58.6ms\n",
      "904:\tlearn: 0.0148392\ttotal: 552ms\tremaining: 58ms\n",
      "905:\tlearn: 0.0148326\ttotal: 553ms\tremaining: 57.3ms\n",
      "906:\tlearn: 0.0148208\ttotal: 553ms\tremaining: 56.7ms\n",
      "907:\tlearn: 0.0148101\ttotal: 553ms\tremaining: 56ms\n",
      "908:\tlearn: 0.0148012\ttotal: 554ms\tremaining: 55.5ms\n",
      "909:\tlearn: 0.0147864\ttotal: 555ms\tremaining: 54.9ms\n",
      "910:\tlearn: 0.0147737\ttotal: 555ms\tremaining: 54.2ms\n",
      "911:\tlearn: 0.0147631\ttotal: 555ms\tremaining: 53.6ms\n",
      "912:\tlearn: 0.0147559\ttotal: 556ms\tremaining: 52.9ms\n",
      "913:\tlearn: 0.0147344\ttotal: 556ms\tremaining: 52.3ms\n",
      "914:\tlearn: 0.0147211\ttotal: 556ms\tremaining: 51.7ms\n",
      "915:\tlearn: 0.0147074\ttotal: 557ms\tremaining: 51ms\n",
      "916:\tlearn: 0.0146970\ttotal: 557ms\tremaining: 50.4ms\n",
      "917:\tlearn: 0.0146831\ttotal: 558ms\tremaining: 49.8ms\n",
      "918:\tlearn: 0.0146739\ttotal: 558ms\tremaining: 49.2ms\n",
      "919:\tlearn: 0.0146593\ttotal: 558ms\tremaining: 48.6ms\n",
      "920:\tlearn: 0.0146447\ttotal: 559ms\tremaining: 47.9ms\n",
      "921:\tlearn: 0.0146350\ttotal: 559ms\tremaining: 47.3ms\n",
      "922:\tlearn: 0.0146296\ttotal: 559ms\tremaining: 46.6ms\n",
      "923:\tlearn: 0.0146111\ttotal: 559ms\tremaining: 46ms\n",
      "924:\tlearn: 0.0145996\ttotal: 560ms\tremaining: 45.4ms\n",
      "925:\tlearn: 0.0145915\ttotal: 561ms\tremaining: 44.8ms\n",
      "926:\tlearn: 0.0145868\ttotal: 561ms\tremaining: 44.2ms\n",
      "927:\tlearn: 0.0145502\ttotal: 563ms\tremaining: 43.7ms\n",
      "928:\tlearn: 0.0145325\ttotal: 563ms\tremaining: 43ms\n",
      "929:\tlearn: 0.0145074\ttotal: 563ms\tremaining: 42.4ms\n",
      "930:\tlearn: 0.0145024\ttotal: 563ms\tremaining: 41.8ms\n",
      "931:\tlearn: 0.0144800\ttotal: 564ms\tremaining: 41.1ms\n",
      "932:\tlearn: 0.0144669\ttotal: 564ms\tremaining: 40.5ms\n",
      "933:\tlearn: 0.0144562\ttotal: 565ms\tremaining: 39.9ms\n",
      "934:\tlearn: 0.0144474\ttotal: 565ms\tremaining: 39.3ms\n",
      "935:\tlearn: 0.0144428\ttotal: 565ms\tremaining: 38.7ms\n",
      "936:\tlearn: 0.0144383\ttotal: 566ms\tremaining: 38ms\n",
      "937:\tlearn: 0.0144357\ttotal: 566ms\tremaining: 37.4ms\n",
      "938:\tlearn: 0.0144300\ttotal: 566ms\tremaining: 36.8ms\n",
      "939:\tlearn: 0.0144162\ttotal: 567ms\tremaining: 36.2ms\n",
      "940:\tlearn: 0.0144122\ttotal: 567ms\tremaining: 35.6ms\n",
      "941:\tlearn: 0.0143944\ttotal: 569ms\tremaining: 35ms\n",
      "942:\tlearn: 0.0143894\ttotal: 569ms\tremaining: 34.4ms\n",
      "943:\tlearn: 0.0143817\ttotal: 569ms\tremaining: 33.8ms\n",
      "944:\tlearn: 0.0143721\ttotal: 570ms\tremaining: 33.1ms\n",
      "945:\tlearn: 0.0143697\ttotal: 570ms\tremaining: 32.5ms\n",
      "946:\tlearn: 0.0143511\ttotal: 570ms\tremaining: 31.9ms\n",
      "947:\tlearn: 0.0143309\ttotal: 571ms\tremaining: 31.3ms\n",
      "948:\tlearn: 0.0143202\ttotal: 571ms\tremaining: 30.7ms\n",
      "949:\tlearn: 0.0143130\ttotal: 571ms\tremaining: 30.1ms\n",
      "950:\tlearn: 0.0142938\ttotal: 572ms\tremaining: 29.5ms\n",
      "951:\tlearn: 0.0142883\ttotal: 585ms\tremaining: 29.5ms\n",
      "952:\tlearn: 0.0142859\ttotal: 585ms\tremaining: 28.9ms\n",
      "953:\tlearn: 0.0142710\ttotal: 586ms\tremaining: 28.2ms\n",
      "954:\tlearn: 0.0142615\ttotal: 586ms\tremaining: 27.6ms\n",
      "955:\tlearn: 0.0142411\ttotal: 586ms\tremaining: 27ms\n",
      "956:\tlearn: 0.0142369\ttotal: 586ms\tremaining: 26.4ms\n",
      "957:\tlearn: 0.0142238\ttotal: 587ms\tremaining: 25.7ms\n",
      "958:\tlearn: 0.0142117\ttotal: 588ms\tremaining: 25.1ms\n",
      "959:\tlearn: 0.0141942\ttotal: 588ms\tremaining: 24.5ms\n",
      "960:\tlearn: 0.0141864\ttotal: 589ms\tremaining: 23.9ms\n",
      "961:\tlearn: 0.0141739\ttotal: 589ms\tremaining: 23.3ms\n",
      "962:\tlearn: 0.0141657\ttotal: 590ms\tremaining: 22.7ms\n",
      "963:\tlearn: 0.0141567\ttotal: 590ms\tremaining: 22ms\n",
      "964:\tlearn: 0.0141515\ttotal: 591ms\tremaining: 21.4ms\n",
      "965:\tlearn: 0.0141376\ttotal: 591ms\tremaining: 20.8ms\n",
      "966:\tlearn: 0.0141287\ttotal: 591ms\tremaining: 20.2ms\n",
      "967:\tlearn: 0.0141264\ttotal: 592ms\tremaining: 19.6ms\n",
      "968:\tlearn: 0.0141200\ttotal: 592ms\tremaining: 18.9ms\n",
      "969:\tlearn: 0.0141072\ttotal: 593ms\tremaining: 18.3ms\n",
      "970:\tlearn: 0.0141014\ttotal: 593ms\tremaining: 17.7ms\n",
      "971:\tlearn: 0.0140672\ttotal: 594ms\tremaining: 17.1ms\n",
      "972:\tlearn: 0.0140502\ttotal: 594ms\tremaining: 16.5ms\n",
      "973:\tlearn: 0.0140412\ttotal: 595ms\tremaining: 15.9ms\n",
      "974:\tlearn: 0.0140309\ttotal: 595ms\tremaining: 15.3ms\n",
      "975:\tlearn: 0.0140232\ttotal: 595ms\tremaining: 14.6ms\n",
      "976:\tlearn: 0.0140012\ttotal: 595ms\tremaining: 14ms\n",
      "977:\tlearn: 0.0139950\ttotal: 596ms\tremaining: 13.4ms\n",
      "978:\tlearn: 0.0139885\ttotal: 596ms\tremaining: 12.8ms\n",
      "979:\tlearn: 0.0139692\ttotal: 597ms\tremaining: 12.2ms\n",
      "980:\tlearn: 0.0139571\ttotal: 597ms\tremaining: 11.6ms\n",
      "981:\tlearn: 0.0139224\ttotal: 597ms\tremaining: 10.9ms\n",
      "982:\tlearn: 0.0139176\ttotal: 598ms\tremaining: 10.3ms\n",
      "983:\tlearn: 0.0138999\ttotal: 598ms\tremaining: 9.72ms\n",
      "984:\tlearn: 0.0138812\ttotal: 598ms\tremaining: 9.11ms\n",
      "985:\tlearn: 0.0138757\ttotal: 599ms\tremaining: 8.5ms\n",
      "986:\tlearn: 0.0138658\ttotal: 600ms\tremaining: 7.9ms\n",
      "987:\tlearn: 0.0138493\ttotal: 600ms\tremaining: 7.29ms\n",
      "988:\tlearn: 0.0138394\ttotal: 601ms\tremaining: 6.68ms\n",
      "989:\tlearn: 0.0138286\ttotal: 601ms\tremaining: 6.07ms\n",
      "990:\tlearn: 0.0138230\ttotal: 601ms\tremaining: 5.46ms\n",
      "991:\tlearn: 0.0138073\ttotal: 603ms\tremaining: 4.86ms\n",
      "992:\tlearn: 0.0138050\ttotal: 603ms\tremaining: 4.25ms\n",
      "993:\tlearn: 0.0137933\ttotal: 603ms\tremaining: 3.64ms\n",
      "994:\tlearn: 0.0137769\ttotal: 604ms\tremaining: 3.03ms\n",
      "995:\tlearn: 0.0137638\ttotal: 604ms\tremaining: 2.42ms\n",
      "996:\tlearn: 0.0137487\ttotal: 604ms\tremaining: 1.82ms\n",
      "997:\tlearn: 0.0137449\ttotal: 604ms\tremaining: 1.21ms\n",
      "998:\tlearn: 0.0137330\ttotal: 606ms\tremaining: 606us\n",
      "999:\tlearn: 0.0137240\ttotal: 606ms\tremaining: 0us\n",
      "Mean Absolute error 0.02155760905868207\n"
     ]
    },
    {
     "data": {
      "application/scrapbook.scrap.json+json": {
       "data": 0.02155760905868207,
       "encoder": "json",
       "name": "Catboost MAE",
       "version": 1
      }
     },
     "metadata": {
      "scrapbook": {
       "data": true,
       "display": false,
       "name": "Catboost MAE"
      }
     },
     "output_type": "display_data"
    },
    {
     "name": "stdout",
     "output_type": "stream",
     "text": [
      "Catboost MAE 0.02155760905868207\n"
     ]
    }
   ],
   "source": [
    "mae_cb = baselineModels.catboost(X_train,y_train,X_test,y_test)\n",
    "#Store MSE Value\n",
    "sb.glue(\"Catboost MAE\",mae_cb)\n",
    "print(\"Catboost MAE\",mae_cb)"
   ]
  },
  {
   "cell_type": "markdown",
   "id": "3beab8ac",
   "metadata": {
    "papermill": {
     "duration": 0.00962,
     "end_time": "2022-07-24T10:41:10.414500",
     "exception": false,
     "start_time": "2022-07-24T10:41:10.404880",
     "status": "completed"
    },
    "tags": []
   },
   "source": [
    "# TabNet Regressor"
   ]
  },
  {
   "cell_type": "code",
   "execution_count": 7,
   "id": "4f739ba8",
   "metadata": {
    "execution": {
     "iopub.execute_input": "2022-07-24T10:41:10.433218Z",
     "iopub.status.busy": "2022-07-24T10:41:10.432688Z",
     "iopub.status.idle": "2022-07-24T10:41:10.438026Z",
     "shell.execute_reply": "2022-07-24T10:41:10.436571Z"
    },
    "papermill": {
     "duration": 0.020175,
     "end_time": "2022-07-24T10:41:10.442711",
     "exception": false,
     "start_time": "2022-07-24T10:41:10.422536",
     "status": "completed"
    },
    "tags": []
   },
   "outputs": [],
   "source": [
    "n_epochs = 1000\n",
    "batch_size = 32"
   ]
  },
  {
   "cell_type": "code",
   "execution_count": 8,
   "id": "9349c5b8",
   "metadata": {
    "execution": {
     "iopub.execute_input": "2022-07-24T10:41:10.478731Z",
     "iopub.status.busy": "2022-07-24T10:41:10.477826Z",
     "iopub.status.idle": "2022-07-24T10:43:54.507809Z",
     "shell.execute_reply": "2022-07-24T10:43:54.506198Z"
    },
    "papermill": {
     "duration": 164.06727,
     "end_time": "2022-07-24T10:43:54.526181",
     "exception": false,
     "start_time": "2022-07-24T10:41:10.458911",
     "status": "completed"
    },
    "tags": []
   },
   "outputs": [
    {
     "name": "stdout",
     "output_type": "stream",
     "text": [
      "Device used : cpu\n"
     ]
    },
    {
     "name": "stdout",
     "output_type": "stream",
     "text": [
      "epoch 0  | loss: 1.20762 | train_mse: 0.50719 | train_mae: 0.57113 |  0:00:01s\n"
     ]
    },
    {
     "name": "stdout",
     "output_type": "stream",
     "text": [
      "epoch 1  | loss: 0.30884 | train_mse: 0.32307 | train_mae: 0.4548  |  0:00:02s\n"
     ]
    },
    {
     "name": "stdout",
     "output_type": "stream",
     "text": [
      "epoch 2  | loss: 0.22292 | train_mse: 0.20277 | train_mae: 0.34081 |  0:00:03s\n"
     ]
    },
    {
     "name": "stdout",
     "output_type": "stream",
     "text": [
      "epoch 3  | loss: 0.18033 | train_mse: 0.1565  | train_mae: 0.31329 |  0:00:03s\n"
     ]
    },
    {
     "name": "stdout",
     "output_type": "stream",
     "text": [
      "epoch 4  | loss: 0.17236 | train_mse: 0.13412 | train_mae: 0.28184 |  0:00:04s\n"
     ]
    },
    {
     "name": "stdout",
     "output_type": "stream",
     "text": [
      "epoch 5  | loss: 0.16562 | train_mse: 0.14341 | train_mae: 0.304   |  0:00:05s\n"
     ]
    },
    {
     "name": "stdout",
     "output_type": "stream",
     "text": [
      "epoch 6  | loss: 0.13108 | train_mse: 0.07918 | train_mae: 0.20728 |  0:00:05s\n"
     ]
    },
    {
     "name": "stdout",
     "output_type": "stream",
     "text": [
      "epoch 7  | loss: 0.10488 | train_mse: 0.06988 | train_mae: 0.20195 |  0:00:06s\n"
     ]
    },
    {
     "name": "stdout",
     "output_type": "stream",
     "text": [
      "epoch 8  | loss: 0.08733 | train_mse: 0.06467 | train_mae: 0.19516 |  0:00:06s\n"
     ]
    },
    {
     "name": "stdout",
     "output_type": "stream",
     "text": [
      "epoch 9  | loss: 0.08976 | train_mse: 0.06617 | train_mae: 0.18935 |  0:00:07s\n"
     ]
    },
    {
     "name": "stdout",
     "output_type": "stream",
     "text": [
      "epoch 10 | loss: 0.08353 | train_mse: 0.05362 | train_mae: 0.17177 |  0:00:08s\n"
     ]
    },
    {
     "name": "stdout",
     "output_type": "stream",
     "text": [
      "epoch 11 | loss: 0.07865 | train_mse: 0.04618 | train_mae: 0.16215 |  0:00:08s\n"
     ]
    },
    {
     "name": "stdout",
     "output_type": "stream",
     "text": [
      "epoch 12 | loss: 0.09388 | train_mse: 0.04959 | train_mae: 0.16659 |  0:00:09s\n"
     ]
    },
    {
     "name": "stdout",
     "output_type": "stream",
     "text": [
      "epoch 13 | loss: 0.10264 | train_mse: 0.04673 | train_mae: 0.17114 |  0:00:10s\n"
     ]
    },
    {
     "name": "stdout",
     "output_type": "stream",
     "text": [
      "epoch 14 | loss: 0.07818 | train_mse: 0.04229 | train_mae: 0.15972 |  0:00:10s\n"
     ]
    },
    {
     "name": "stdout",
     "output_type": "stream",
     "text": [
      "epoch 15 | loss: 0.1126  | train_mse: 0.04773 | train_mae: 0.16837 |  0:00:11s\n"
     ]
    },
    {
     "name": "stdout",
     "output_type": "stream",
     "text": [
      "epoch 16 | loss: 0.07562 | train_mse: 0.03494 | train_mae: 0.14412 |  0:00:12s\n"
     ]
    },
    {
     "name": "stdout",
     "output_type": "stream",
     "text": [
      "epoch 17 | loss: 0.0733  | train_mse: 0.04227 | train_mae: 0.15665 |  0:00:12s\n"
     ]
    },
    {
     "name": "stdout",
     "output_type": "stream",
     "text": [
      "epoch 18 | loss: 0.0622  | train_mse: 0.03921 | train_mae: 0.1549  |  0:00:13s\n"
     ]
    },
    {
     "name": "stdout",
     "output_type": "stream",
     "text": [
      "epoch 19 | loss: 0.07247 | train_mse: 0.03713 | train_mae: 0.1464  |  0:00:13s\n"
     ]
    },
    {
     "name": "stdout",
     "output_type": "stream",
     "text": [
      "epoch 20 | loss: 0.06372 | train_mse: 0.04383 | train_mae: 0.16776 |  0:00:14s\n"
     ]
    },
    {
     "name": "stdout",
     "output_type": "stream",
     "text": [
      "epoch 21 | loss: 0.05291 | train_mse: 0.03332 | train_mae: 0.14016 |  0:00:15s\n"
     ]
    },
    {
     "name": "stdout",
     "output_type": "stream",
     "text": [
      "epoch 22 | loss: 0.05927 | train_mse: 0.03294 | train_mae: 0.13838 |  0:00:15s\n"
     ]
    },
    {
     "name": "stdout",
     "output_type": "stream",
     "text": [
      "epoch 23 | loss: 0.0731  | train_mse: 0.03719 | train_mae: 0.14141 |  0:00:16s\n"
     ]
    },
    {
     "name": "stdout",
     "output_type": "stream",
     "text": [
      "epoch 24 | loss: 0.0565  | train_mse: 0.03386 | train_mae: 0.13793 |  0:00:16s\n"
     ]
    },
    {
     "name": "stdout",
     "output_type": "stream",
     "text": [
      "epoch 25 | loss: 0.06216 | train_mse: 0.02778 | train_mae: 0.12748 |  0:00:17s\n"
     ]
    },
    {
     "name": "stdout",
     "output_type": "stream",
     "text": [
      "epoch 26 | loss: 0.04314 | train_mse: 0.0239  | train_mae: 0.11693 |  0:00:18s\n"
     ]
    },
    {
     "name": "stdout",
     "output_type": "stream",
     "text": [
      "epoch 27 | loss: 0.04548 | train_mse: 0.0263  | train_mae: 0.12166 |  0:00:18s\n"
     ]
    },
    {
     "name": "stdout",
     "output_type": "stream",
     "text": [
      "epoch 28 | loss: 0.04316 | train_mse: 0.03291 | train_mae: 0.13515 |  0:00:19s\n"
     ]
    },
    {
     "name": "stdout",
     "output_type": "stream",
     "text": [
      "epoch 29 | loss: 0.05337 | train_mse: 0.02942 | train_mae: 0.13508 |  0:00:19s\n"
     ]
    },
    {
     "name": "stdout",
     "output_type": "stream",
     "text": [
      "epoch 30 | loss: 0.05914 | train_mse: 0.02745 | train_mae: 0.1235  |  0:00:20s\n"
     ]
    },
    {
     "name": "stdout",
     "output_type": "stream",
     "text": [
      "epoch 31 | loss: 0.05748 | train_mse: 0.02309 | train_mae: 0.11638 |  0:00:21s\n"
     ]
    },
    {
     "name": "stdout",
     "output_type": "stream",
     "text": [
      "epoch 32 | loss: 0.06863 | train_mse: 0.0269  | train_mae: 0.1283  |  0:00:21s\n"
     ]
    },
    {
     "name": "stdout",
     "output_type": "stream",
     "text": [
      "epoch 33 | loss: 0.05192 | train_mse: 0.03687 | train_mae: 0.14125 |  0:00:22s\n"
     ]
    },
    {
     "name": "stdout",
     "output_type": "stream",
     "text": [
      "epoch 34 | loss: 0.04442 | train_mse: 0.02614 | train_mae: 0.12646 |  0:00:23s\n"
     ]
    },
    {
     "name": "stdout",
     "output_type": "stream",
     "text": [
      "epoch 35 | loss: 0.05134 | train_mse: 0.02438 | train_mae: 0.11875 |  0:00:23s\n"
     ]
    },
    {
     "name": "stdout",
     "output_type": "stream",
     "text": [
      "epoch 36 | loss: 0.0557  | train_mse: 0.03167 | train_mae: 0.13638 |  0:00:24s\n"
     ]
    },
    {
     "name": "stdout",
     "output_type": "stream",
     "text": [
      "epoch 37 | loss: 0.04876 | train_mse: 0.03174 | train_mae: 0.13738 |  0:00:25s\n"
     ]
    },
    {
     "name": "stdout",
     "output_type": "stream",
     "text": [
      "epoch 38 | loss: 0.05069 | train_mse: 0.02878 | train_mae: 0.133   |  0:00:26s\n"
     ]
    },
    {
     "name": "stdout",
     "output_type": "stream",
     "text": [
      "epoch 39 | loss: 0.05068 | train_mse: 0.0598  | train_mae: 0.18963 |  0:00:26s\n"
     ]
    },
    {
     "name": "stdout",
     "output_type": "stream",
     "text": [
      "epoch 40 | loss: 0.04299 | train_mse: 0.02375 | train_mae: 0.1161  |  0:00:27s\n"
     ]
    },
    {
     "name": "stdout",
     "output_type": "stream",
     "text": [
      "epoch 41 | loss: 0.05053 | train_mse: 0.02369 | train_mae: 0.12116 |  0:00:27s\n"
     ]
    },
    {
     "name": "stdout",
     "output_type": "stream",
     "text": [
      "epoch 42 | loss: 0.05414 | train_mse: 0.0389  | train_mae: 0.14692 |  0:00:28s\n"
     ]
    },
    {
     "name": "stdout",
     "output_type": "stream",
     "text": [
      "epoch 43 | loss: 0.06839 | train_mse: 0.02531 | train_mae: 0.11889 |  0:00:29s\n"
     ]
    },
    {
     "name": "stdout",
     "output_type": "stream",
     "text": [
      "epoch 44 | loss: 0.04012 | train_mse: 0.02139 | train_mae: 0.11716 |  0:00:30s\n"
     ]
    },
    {
     "name": "stdout",
     "output_type": "stream",
     "text": [
      "epoch 45 | loss: 0.04453 | train_mse: 0.02085 | train_mae: 0.10782 |  0:00:31s\n"
     ]
    },
    {
     "name": "stdout",
     "output_type": "stream",
     "text": [
      "epoch 46 | loss: 0.04212 | train_mse: 0.0234  | train_mae: 0.11581 |  0:00:32s\n"
     ]
    },
    {
     "name": "stdout",
     "output_type": "stream",
     "text": [
      "epoch 47 | loss: 0.04085 | train_mse: 0.02799 | train_mae: 0.13116 |  0:00:32s\n"
     ]
    },
    {
     "name": "stdout",
     "output_type": "stream",
     "text": [
      "epoch 48 | loss: 0.03964 | train_mse: 0.02942 | train_mae: 0.13413 |  0:00:33s\n"
     ]
    },
    {
     "name": "stdout",
     "output_type": "stream",
     "text": [
      "epoch 49 | loss: 0.03647 | train_mse: 0.01517 | train_mae: 0.09081 |  0:00:33s\n"
     ]
    },
    {
     "name": "stdout",
     "output_type": "stream",
     "text": [
      "epoch 50 | loss: 0.03289 | train_mse: 0.01676 | train_mae: 0.09932 |  0:00:34s\n"
     ]
    },
    {
     "name": "stdout",
     "output_type": "stream",
     "text": [
      "epoch 51 | loss: 0.03807 | train_mse: 0.02438 | train_mae: 0.11901 |  0:00:35s\n"
     ]
    },
    {
     "name": "stdout",
     "output_type": "stream",
     "text": [
      "epoch 52 | loss: 0.04402 | train_mse: 0.02018 | train_mae: 0.10748 |  0:00:36s\n"
     ]
    },
    {
     "name": "stdout",
     "output_type": "stream",
     "text": [
      "epoch 53 | loss: 0.04026 | train_mse: 0.01712 | train_mae: 0.0977  |  0:00:37s\n"
     ]
    },
    {
     "name": "stdout",
     "output_type": "stream",
     "text": [
      "epoch 54 | loss: 0.04012 | train_mse: 0.01509 | train_mae: 0.09626 |  0:00:37s\n"
     ]
    },
    {
     "name": "stdout",
     "output_type": "stream",
     "text": [
      "epoch 55 | loss: 0.0379  | train_mse: 0.01785 | train_mae: 0.10505 |  0:00:38s\n"
     ]
    },
    {
     "name": "stdout",
     "output_type": "stream",
     "text": [
      "epoch 56 | loss: 0.04473 | train_mse: 0.01561 | train_mae: 0.09848 |  0:00:38s\n"
     ]
    },
    {
     "name": "stdout",
     "output_type": "stream",
     "text": [
      "epoch 57 | loss: 0.03855 | train_mse: 0.02085 | train_mae: 0.11673 |  0:00:39s\n"
     ]
    },
    {
     "name": "stdout",
     "output_type": "stream",
     "text": [
      "epoch 58 | loss: 0.03025 | train_mse: 0.03245 | train_mae: 0.14387 |  0:00:40s\n"
     ]
    },
    {
     "name": "stdout",
     "output_type": "stream",
     "text": [
      "epoch 59 | loss: 0.031   | train_mse: 0.01869 | train_mae: 0.10461 |  0:00:40s\n"
     ]
    },
    {
     "name": "stdout",
     "output_type": "stream",
     "text": [
      "epoch 60 | loss: 0.04442 | train_mse: 0.0176  | train_mae: 0.10189 |  0:00:41s\n"
     ]
    },
    {
     "name": "stdout",
     "output_type": "stream",
     "text": [
      "epoch 61 | loss: 0.03828 | train_mse: 0.0206  | train_mae: 0.11237 |  0:00:42s\n"
     ]
    },
    {
     "name": "stdout",
     "output_type": "stream",
     "text": [
      "epoch 62 | loss: 0.03768 | train_mse: 0.01727 | train_mae: 0.097   |  0:00:42s\n"
     ]
    },
    {
     "name": "stdout",
     "output_type": "stream",
     "text": [
      "epoch 63 | loss: 0.04087 | train_mse: 0.01793 | train_mae: 0.10412 |  0:00:43s\n"
     ]
    },
    {
     "name": "stdout",
     "output_type": "stream",
     "text": [
      "epoch 64 | loss: 0.03501 | train_mse: 0.01737 | train_mae: 0.10072 |  0:00:43s\n"
     ]
    },
    {
     "name": "stdout",
     "output_type": "stream",
     "text": [
      "epoch 65 | loss: 0.0294  | train_mse: 0.03    | train_mae: 0.13948 |  0:00:44s\n"
     ]
    },
    {
     "name": "stdout",
     "output_type": "stream",
     "text": [
      "epoch 66 | loss: 0.05606 | train_mse: 0.03568 | train_mae: 0.14837 |  0:00:45s\n"
     ]
    },
    {
     "name": "stdout",
     "output_type": "stream",
     "text": [
      "epoch 67 | loss: 0.03459 | train_mse: 0.04017 | train_mae: 0.15323 |  0:00:45s\n"
     ]
    },
    {
     "name": "stdout",
     "output_type": "stream",
     "text": [
      "epoch 68 | loss: 0.04443 | train_mse: 0.0186  | train_mae: 0.10521 |  0:00:46s\n"
     ]
    },
    {
     "name": "stdout",
     "output_type": "stream",
     "text": [
      "epoch 69 | loss: 0.03596 | train_mse: 0.01871 | train_mae: 0.10933 |  0:00:46s\n"
     ]
    },
    {
     "name": "stdout",
     "output_type": "stream",
     "text": [
      "epoch 70 | loss: 0.02932 | train_mse: 0.01841 | train_mae: 0.10396 |  0:00:47s\n"
     ]
    },
    {
     "name": "stdout",
     "output_type": "stream",
     "text": [
      "epoch 71 | loss: 0.0305  | train_mse: 0.01397 | train_mae: 0.0894  |  0:00:48s\n"
     ]
    },
    {
     "name": "stdout",
     "output_type": "stream",
     "text": [
      "epoch 72 | loss: 0.02939 | train_mse: 0.02369 | train_mae: 0.11396 |  0:00:48s\n"
     ]
    },
    {
     "name": "stdout",
     "output_type": "stream",
     "text": [
      "epoch 73 | loss: 0.04153 | train_mse: 0.02234 | train_mae: 0.10712 |  0:00:49s\n"
     ]
    },
    {
     "name": "stdout",
     "output_type": "stream",
     "text": [
      "epoch 74 | loss: 0.04314 | train_mse: 0.02533 | train_mae: 0.12779 |  0:00:49s\n"
     ]
    },
    {
     "name": "stdout",
     "output_type": "stream",
     "text": [
      "epoch 75 | loss: 0.03633 | train_mse: 0.01379 | train_mae: 0.08594 |  0:00:50s\n"
     ]
    },
    {
     "name": "stdout",
     "output_type": "stream",
     "text": [
      "epoch 76 | loss: 0.03065 | train_mse: 0.01585 | train_mae: 0.09189 |  0:00:51s\n"
     ]
    },
    {
     "name": "stdout",
     "output_type": "stream",
     "text": [
      "epoch 77 | loss: 0.04116 | train_mse: 0.02603 | train_mae: 0.11685 |  0:00:52s\n"
     ]
    },
    {
     "name": "stdout",
     "output_type": "stream",
     "text": [
      "epoch 78 | loss: 0.02775 | train_mse: 0.01469 | train_mae: 0.09572 |  0:00:52s\n"
     ]
    },
    {
     "name": "stdout",
     "output_type": "stream",
     "text": [
      "epoch 79 | loss: 0.04038 | train_mse: 0.01311 | train_mae: 0.09427 |  0:00:53s\n"
     ]
    },
    {
     "name": "stdout",
     "output_type": "stream",
     "text": [
      "epoch 80 | loss: 0.02876 | train_mse: 0.01229 | train_mae: 0.08516 |  0:00:53s\n"
     ]
    },
    {
     "name": "stdout",
     "output_type": "stream",
     "text": [
      "epoch 81 | loss: 0.03419 | train_mse: 0.01784 | train_mae: 0.10469 |  0:00:54s\n"
     ]
    },
    {
     "name": "stdout",
     "output_type": "stream",
     "text": [
      "epoch 82 | loss: 0.04134 | train_mse: 0.02128 | train_mae: 0.11809 |  0:00:55s\n"
     ]
    },
    {
     "name": "stdout",
     "output_type": "stream",
     "text": [
      "epoch 83 | loss: 0.03744 | train_mse: 0.01168 | train_mae: 0.0797  |  0:00:55s\n"
     ]
    },
    {
     "name": "stdout",
     "output_type": "stream",
     "text": [
      "epoch 84 | loss: 0.03628 | train_mse: 0.01128 | train_mae: 0.08041 |  0:00:56s\n"
     ]
    },
    {
     "name": "stdout",
     "output_type": "stream",
     "text": [
      "epoch 85 | loss: 0.03102 | train_mse: 0.01116 | train_mae: 0.08161 |  0:00:56s\n"
     ]
    },
    {
     "name": "stdout",
     "output_type": "stream",
     "text": [
      "epoch 86 | loss: 0.03382 | train_mse: 0.01354 | train_mae: 0.08481 |  0:00:57s\n"
     ]
    },
    {
     "name": "stdout",
     "output_type": "stream",
     "text": [
      "epoch 87 | loss: 0.03593 | train_mse: 0.02032 | train_mae: 0.11338 |  0:00:58s\n"
     ]
    },
    {
     "name": "stdout",
     "output_type": "stream",
     "text": [
      "epoch 88 | loss: 0.0432  | train_mse: 0.02237 | train_mae: 0.11173 |  0:00:58s\n"
     ]
    },
    {
     "name": "stdout",
     "output_type": "stream",
     "text": [
      "epoch 89 | loss: 0.06755 | train_mse: 0.03439 | train_mae: 0.14594 |  0:00:59s\n"
     ]
    },
    {
     "name": "stdout",
     "output_type": "stream",
     "text": [
      "epoch 90 | loss: 0.05177 | train_mse: 0.0438  | train_mae: 0.16126 |  0:00:59s\n"
     ]
    },
    {
     "name": "stdout",
     "output_type": "stream",
     "text": [
      "epoch 91 | loss: 0.04073 | train_mse: 0.02421 | train_mae: 0.1238  |  0:01:00s\n"
     ]
    },
    {
     "name": "stdout",
     "output_type": "stream",
     "text": [
      "epoch 92 | loss: 0.03901 | train_mse: 0.02204 | train_mae: 0.11687 |  0:01:03s\n"
     ]
    },
    {
     "name": "stdout",
     "output_type": "stream",
     "text": [
      "epoch 93 | loss: 0.0264  | train_mse: 0.02918 | train_mae: 0.1282  |  0:01:05s\n"
     ]
    },
    {
     "name": "stdout",
     "output_type": "stream",
     "text": [
      "epoch 94 | loss: 0.02313 | train_mse: 0.01914 | train_mae: 0.10219 |  0:01:06s\n"
     ]
    },
    {
     "name": "stdout",
     "output_type": "stream",
     "text": [
      "epoch 95 | loss: 0.038   | train_mse: 0.01952 | train_mae: 0.10926 |  0:01:08s\n"
     ]
    },
    {
     "name": "stdout",
     "output_type": "stream",
     "text": [
      "epoch 96 | loss: 0.05676 | train_mse: 0.02339 | train_mae: 0.12352 |  0:01:10s\n"
     ]
    },
    {
     "name": "stdout",
     "output_type": "stream",
     "text": [
      "epoch 97 | loss: 0.04073 | train_mse: 0.02536 | train_mae: 0.12764 |  0:01:11s\n"
     ]
    },
    {
     "name": "stdout",
     "output_type": "stream",
     "text": [
      "epoch 98 | loss: 0.04705 | train_mse: 0.01304 | train_mae: 0.08423 |  0:01:11s\n"
     ]
    },
    {
     "name": "stdout",
     "output_type": "stream",
     "text": [
      "epoch 99 | loss: 0.03519 | train_mse: 0.01222 | train_mae: 0.07841 |  0:01:13s\n"
     ]
    },
    {
     "name": "stdout",
     "output_type": "stream",
     "text": [
      "epoch 100| loss: 0.02777 | train_mse: 0.01521 | train_mae: 0.09754 |  0:01:14s\n"
     ]
    },
    {
     "name": "stdout",
     "output_type": "stream",
     "text": [
      "epoch 101| loss: 0.03103 | train_mse: 0.02644 | train_mae: 0.13246 |  0:01:15s\n"
     ]
    },
    {
     "name": "stdout",
     "output_type": "stream",
     "text": [
      "epoch 102| loss: 0.03079 | train_mse: 0.03554 | train_mae: 0.14657 |  0:01:16s\n"
     ]
    },
    {
     "name": "stdout",
     "output_type": "stream",
     "text": [
      "epoch 103| loss: 0.03222 | train_mse: 0.02447 | train_mae: 0.12353 |  0:01:16s\n"
     ]
    },
    {
     "name": "stdout",
     "output_type": "stream",
     "text": [
      "epoch 104| loss: 0.03627 | train_mse: 0.01216 | train_mae: 0.07982 |  0:01:17s\n"
     ]
    },
    {
     "name": "stdout",
     "output_type": "stream",
     "text": [
      "epoch 105| loss: 0.02487 | train_mse: 0.00999 | train_mae: 0.07508 |  0:01:18s\n"
     ]
    },
    {
     "name": "stdout",
     "output_type": "stream",
     "text": [
      "epoch 106| loss: 0.03136 | train_mse: 0.0146  | train_mae: 0.09834 |  0:01:18s\n"
     ]
    },
    {
     "name": "stdout",
     "output_type": "stream",
     "text": [
      "epoch 107| loss: 0.03318 | train_mse: 0.00789 | train_mae: 0.06533 |  0:01:19s\n"
     ]
    },
    {
     "name": "stdout",
     "output_type": "stream",
     "text": [
      "epoch 108| loss: 0.02335 | train_mse: 0.01005 | train_mae: 0.0767  |  0:01:20s\n"
     ]
    },
    {
     "name": "stdout",
     "output_type": "stream",
     "text": [
      "epoch 109| loss: 0.02453 | train_mse: 0.0106  | train_mae: 0.07567 |  0:01:20s\n"
     ]
    },
    {
     "name": "stdout",
     "output_type": "stream",
     "text": [
      "epoch 110| loss: 0.02746 | train_mse: 0.01478 | train_mae: 0.09632 |  0:01:21s\n"
     ]
    },
    {
     "name": "stdout",
     "output_type": "stream",
     "text": [
      "epoch 111| loss: 0.02653 | train_mse: 0.01547 | train_mae: 0.09984 |  0:01:22s\n"
     ]
    },
    {
     "name": "stdout",
     "output_type": "stream",
     "text": [
      "epoch 112| loss: 0.03358 | train_mse: 0.01132 | train_mae: 0.07534 |  0:01:22s\n"
     ]
    },
    {
     "name": "stdout",
     "output_type": "stream",
     "text": [
      "epoch 113| loss: 0.03301 | train_mse: 0.01691 | train_mae: 0.09483 |  0:01:23s\n"
     ]
    },
    {
     "name": "stdout",
     "output_type": "stream",
     "text": [
      "epoch 114| loss: 0.04041 | train_mse: 0.01166 | train_mae: 0.08181 |  0:01:24s\n"
     ]
    },
    {
     "name": "stdout",
     "output_type": "stream",
     "text": [
      "epoch 115| loss: 0.02548 | train_mse: 0.01044 | train_mae: 0.07721 |  0:01:24s\n"
     ]
    },
    {
     "name": "stdout",
     "output_type": "stream",
     "text": [
      "epoch 116| loss: 0.03371 | train_mse: 0.01109 | train_mae: 0.07794 |  0:01:25s\n"
     ]
    },
    {
     "name": "stdout",
     "output_type": "stream",
     "text": [
      "epoch 117| loss: 0.03458 | train_mse: 0.00679 | train_mae: 0.05988 |  0:01:26s\n"
     ]
    },
    {
     "name": "stdout",
     "output_type": "stream",
     "text": [
      "epoch 118| loss: 0.02903 | train_mse: 0.00789 | train_mae: 0.07109 |  0:01:26s\n"
     ]
    },
    {
     "name": "stdout",
     "output_type": "stream",
     "text": [
      "epoch 119| loss: 0.02517 | train_mse: 0.00858 | train_mae: 0.07069 |  0:01:27s\n"
     ]
    },
    {
     "name": "stdout",
     "output_type": "stream",
     "text": [
      "epoch 120| loss: 0.03089 | train_mse: 0.01799 | train_mae: 0.09423 |  0:01:28s\n"
     ]
    },
    {
     "name": "stdout",
     "output_type": "stream",
     "text": [
      "epoch 121| loss: 0.03149 | train_mse: 0.01283 | train_mae: 0.07814 |  0:01:29s\n"
     ]
    },
    {
     "name": "stdout",
     "output_type": "stream",
     "text": [
      "epoch 122| loss: 0.02449 | train_mse: 0.00839 | train_mae: 0.06955 |  0:01:30s\n"
     ]
    },
    {
     "name": "stdout",
     "output_type": "stream",
     "text": [
      "epoch 123| loss: 0.0281  | train_mse: 0.01592 | train_mae: 0.09831 |  0:01:30s\n"
     ]
    },
    {
     "name": "stdout",
     "output_type": "stream",
     "text": [
      "epoch 124| loss: 0.02607 | train_mse: 0.01169 | train_mae: 0.08301 |  0:01:31s\n"
     ]
    },
    {
     "name": "stdout",
     "output_type": "stream",
     "text": [
      "epoch 125| loss: 0.027   | train_mse: 0.00852 | train_mae: 0.067   |  0:01:32s\n"
     ]
    },
    {
     "name": "stdout",
     "output_type": "stream",
     "text": [
      "epoch 126| loss: 0.02292 | train_mse: 0.01503 | train_mae: 0.08953 |  0:01:32s\n"
     ]
    },
    {
     "name": "stdout",
     "output_type": "stream",
     "text": [
      "epoch 127| loss: 0.02289 | train_mse: 0.00897 | train_mae: 0.072   |  0:01:33s\n"
     ]
    },
    {
     "name": "stdout",
     "output_type": "stream",
     "text": [
      "epoch 128| loss: 0.02576 | train_mse: 0.01101 | train_mae: 0.07847 |  0:01:33s\n"
     ]
    },
    {
     "name": "stdout",
     "output_type": "stream",
     "text": [
      "epoch 129| loss: 0.02322 | train_mse: 0.00742 | train_mae: 0.06589 |  0:01:34s\n"
     ]
    },
    {
     "name": "stdout",
     "output_type": "stream",
     "text": [
      "epoch 130| loss: 0.01984 | train_mse: 0.00806 | train_mae: 0.06541 |  0:01:35s\n"
     ]
    },
    {
     "name": "stdout",
     "output_type": "stream",
     "text": [
      "epoch 131| loss: 0.0192  | train_mse: 0.00833 | train_mae: 0.06726 |  0:01:35s\n"
     ]
    },
    {
     "name": "stdout",
     "output_type": "stream",
     "text": [
      "epoch 132| loss: 0.02494 | train_mse: 0.00597 | train_mae: 0.05496 |  0:01:36s\n"
     ]
    },
    {
     "name": "stdout",
     "output_type": "stream",
     "text": [
      "epoch 133| loss: 0.02545 | train_mse: 0.00908 | train_mae: 0.06933 |  0:01:37s\n"
     ]
    },
    {
     "name": "stdout",
     "output_type": "stream",
     "text": [
      "epoch 134| loss: 0.02758 | train_mse: 0.01963 | train_mae: 0.09965 |  0:01:37s\n"
     ]
    },
    {
     "name": "stdout",
     "output_type": "stream",
     "text": [
      "epoch 135| loss: 0.05362 | train_mse: 0.01133 | train_mae: 0.08221 |  0:01:38s\n"
     ]
    },
    {
     "name": "stdout",
     "output_type": "stream",
     "text": [
      "epoch 136| loss: 0.03124 | train_mse: 0.00811 | train_mae: 0.06501 |  0:01:38s\n"
     ]
    },
    {
     "name": "stdout",
     "output_type": "stream",
     "text": [
      "epoch 137| loss: 0.02131 | train_mse: 0.0133  | train_mae: 0.08961 |  0:01:39s\n"
     ]
    },
    {
     "name": "stdout",
     "output_type": "stream",
     "text": [
      "epoch 138| loss: 0.02078 | train_mse: 0.00997 | train_mae: 0.08008 |  0:01:40s\n"
     ]
    },
    {
     "name": "stdout",
     "output_type": "stream",
     "text": [
      "epoch 139| loss: 0.02107 | train_mse: 0.01008 | train_mae: 0.07932 |  0:01:41s\n"
     ]
    },
    {
     "name": "stdout",
     "output_type": "stream",
     "text": [
      "epoch 140| loss: 0.02759 | train_mse: 0.01803 | train_mae: 0.10186 |  0:01:43s\n"
     ]
    },
    {
     "name": "stdout",
     "output_type": "stream",
     "text": [
      "epoch 141| loss: 0.02178 | train_mse: 0.01173 | train_mae: 0.08076 |  0:01:45s\n"
     ]
    },
    {
     "name": "stdout",
     "output_type": "stream",
     "text": [
      "epoch 142| loss: 0.0217  | train_mse: 0.02119 | train_mae: 0.11595 |  0:01:48s\n"
     ]
    },
    {
     "name": "stdout",
     "output_type": "stream",
     "text": [
      "epoch 143| loss: 0.03247 | train_mse: 0.01354 | train_mae: 0.08044 |  0:01:50s\n"
     ]
    },
    {
     "name": "stdout",
     "output_type": "stream",
     "text": [
      "epoch 144| loss: 0.0293  | train_mse: 0.00909 | train_mae: 0.06717 |  0:01:51s\n"
     ]
    },
    {
     "name": "stdout",
     "output_type": "stream",
     "text": [
      "epoch 145| loss: 0.02765 | train_mse: 0.01339 | train_mae: 0.08708 |  0:01:52s\n"
     ]
    },
    {
     "name": "stdout",
     "output_type": "stream",
     "text": [
      "epoch 146| loss: 0.02562 | train_mse: 0.01251 | train_mae: 0.08901 |  0:01:52s\n"
     ]
    },
    {
     "name": "stdout",
     "output_type": "stream",
     "text": [
      "epoch 147| loss: 0.02215 | train_mse: 0.01093 | train_mae: 0.081   |  0:01:53s\n"
     ]
    },
    {
     "name": "stdout",
     "output_type": "stream",
     "text": [
      "epoch 148| loss: 0.02291 | train_mse: 0.01865 | train_mae: 0.10326 |  0:01:54s\n"
     ]
    },
    {
     "name": "stdout",
     "output_type": "stream",
     "text": [
      "epoch 149| loss: 0.04463 | train_mse: 0.12136 | train_mae: 0.18213 |  0:01:54s\n"
     ]
    },
    {
     "name": "stdout",
     "output_type": "stream",
     "text": [
      "epoch 150| loss: 0.02562 | train_mse: 0.06465 | train_mae: 0.15563 |  0:01:55s\n"
     ]
    },
    {
     "name": "stdout",
     "output_type": "stream",
     "text": [
      "epoch 151| loss: 0.02578 | train_mse: 0.01486 | train_mae: 0.08517 |  0:01:56s\n"
     ]
    },
    {
     "name": "stdout",
     "output_type": "stream",
     "text": [
      "epoch 152| loss: 0.02293 | train_mse: 0.01667 | train_mae: 0.08477 |  0:01:57s\n"
     ]
    },
    {
     "name": "stdout",
     "output_type": "stream",
     "text": [
      "epoch 153| loss: 0.02894 | train_mse: 0.01248 | train_mae: 0.08236 |  0:01:58s\n"
     ]
    },
    {
     "name": "stdout",
     "output_type": "stream",
     "text": [
      "epoch 154| loss: 0.04185 | train_mse: 0.01176 | train_mae: 0.08569 |  0:01:59s\n"
     ]
    },
    {
     "name": "stdout",
     "output_type": "stream",
     "text": [
      "epoch 155| loss: 0.02573 | train_mse: 0.00922 | train_mae: 0.07558 |  0:02:01s\n"
     ]
    },
    {
     "name": "stdout",
     "output_type": "stream",
     "text": [
      "epoch 156| loss: 0.02817 | train_mse: 0.02092 | train_mae: 0.11909 |  0:02:02s\n"
     ]
    },
    {
     "name": "stdout",
     "output_type": "stream",
     "text": [
      "epoch 157| loss: 0.02108 | train_mse: 0.00791 | train_mae: 0.06356 |  0:02:04s\n"
     ]
    },
    {
     "name": "stdout",
     "output_type": "stream",
     "text": [
      "epoch 158| loss: 0.02072 | train_mse: 0.00939 | train_mae: 0.07051 |  0:02:05s\n"
     ]
    },
    {
     "name": "stdout",
     "output_type": "stream",
     "text": [
      "epoch 159| loss: 0.01855 | train_mse: 0.01291 | train_mae: 0.08013 |  0:02:06s\n"
     ]
    },
    {
     "name": "stdout",
     "output_type": "stream",
     "text": [
      "epoch 160| loss: 0.05461 | train_mse: 0.01993 | train_mae: 0.10762 |  0:02:07s\n"
     ]
    },
    {
     "name": "stdout",
     "output_type": "stream",
     "text": [
      "epoch 161| loss: 0.05072 | train_mse: 0.02837 | train_mae: 0.12361 |  0:02:07s\n"
     ]
    },
    {
     "name": "stdout",
     "output_type": "stream",
     "text": [
      "epoch 162| loss: 0.04639 | train_mse: 0.01355 | train_mae: 0.08688 |  0:02:08s\n"
     ]
    },
    {
     "name": "stdout",
     "output_type": "stream",
     "text": [
      "epoch 163| loss: 0.02439 | train_mse: 0.01485 | train_mae: 0.09736 |  0:02:10s\n"
     ]
    },
    {
     "name": "stdout",
     "output_type": "stream",
     "text": [
      "epoch 164| loss: 0.02515 | train_mse: 0.01224 | train_mae: 0.07939 |  0:02:11s\n"
     ]
    },
    {
     "name": "stdout",
     "output_type": "stream",
     "text": [
      "epoch 165| loss: 0.02839 | train_mse: 0.01179 | train_mae: 0.08193 |  0:02:12s\n"
     ]
    },
    {
     "name": "stdout",
     "output_type": "stream",
     "text": [
      "epoch 166| loss: 0.02213 | train_mse: 0.01249 | train_mae: 0.08603 |  0:02:13s\n"
     ]
    },
    {
     "name": "stdout",
     "output_type": "stream",
     "text": [
      "epoch 167| loss: 0.02441 | train_mse: 0.01154 | train_mae: 0.08016 |  0:02:16s\n"
     ]
    },
    {
     "name": "stdout",
     "output_type": "stream",
     "text": [
      "epoch 168| loss: 0.02025 | train_mse: 0.0151  | train_mae: 0.08741 |  0:02:19s\n"
     ]
    },
    {
     "name": "stdout",
     "output_type": "stream",
     "text": [
      "epoch 169| loss: 0.02034 | train_mse: 0.00908 | train_mae: 0.07315 |  0:02:23s\n"
     ]
    },
    {
     "name": "stdout",
     "output_type": "stream",
     "text": [
      "epoch 170| loss: 0.02884 | train_mse: 0.01597 | train_mae: 0.09657 |  0:02:29s\n"
     ]
    },
    {
     "name": "stdout",
     "output_type": "stream",
     "text": [
      "epoch 171| loss: 0.02306 | train_mse: 0.01802 | train_mae: 0.10392 |  0:02:30s\n"
     ]
    },
    {
     "name": "stdout",
     "output_type": "stream",
     "text": [
      "epoch 172| loss: 0.02337 | train_mse: 0.01337 | train_mae: 0.0949  |  0:02:33s\n"
     ]
    },
    {
     "name": "stdout",
     "output_type": "stream",
     "text": [
      "epoch 173| loss: 0.02744 | train_mse: 0.00826 | train_mae: 0.07061 |  0:02:35s\n"
     ]
    },
    {
     "name": "stdout",
     "output_type": "stream",
     "text": [
      "epoch 174| loss: 0.02005 | train_mse: 0.01195 | train_mae: 0.08816 |  0:02:36s\n"
     ]
    },
    {
     "name": "stdout",
     "output_type": "stream",
     "text": [
      "epoch 175| loss: 0.0329  | train_mse: 0.02807 | train_mae: 0.11568 |  0:02:37s\n"
     ]
    },
    {
     "name": "stdout",
     "output_type": "stream",
     "text": [
      "epoch 176| loss: 0.01901 | train_mse: 0.01659 | train_mae: 0.10036 |  0:02:38s\n"
     ]
    },
    {
     "name": "stdout",
     "output_type": "stream",
     "text": [
      "epoch 177| loss: 0.02166 | train_mse: 0.01872 | train_mae: 0.10241 |  0:02:38s\n"
     ]
    },
    {
     "name": "stdout",
     "output_type": "stream",
     "text": [
      "epoch 178| loss: 0.02203 | train_mse: 0.01558 | train_mae: 0.09836 |  0:02:39s\n"
     ]
    },
    {
     "name": "stdout",
     "output_type": "stream",
     "text": [
      "epoch 179| loss: 0.0231  | train_mse: 0.01131 | train_mae: 0.0851  |  0:02:40s\n"
     ]
    },
    {
     "name": "stdout",
     "output_type": "stream",
     "text": [
      "epoch 180| loss: 0.01851 | train_mse: 0.00617 | train_mae: 0.06026 |  0:02:41s\n"
     ]
    },
    {
     "name": "stdout",
     "output_type": "stream",
     "text": [
      "epoch 181| loss: 0.01949 | train_mse: 0.01379 | train_mae: 0.09541 |  0:02:42s\n"
     ]
    },
    {
     "name": "stdout",
     "output_type": "stream",
     "text": [
      "epoch 182| loss: 0.02315 | train_mse: 0.01831 | train_mae: 0.1035  |  0:02:43s\n",
      "\n",
      "Early stopping occurred at epoch 182 with best_epoch = 132 and best_train_mae = 0.05496\n",
      "Best weights from best epoch are automatically used!\n"
     ]
    },
    {
     "name": "stdout",
     "output_type": "stream",
     "text": [
      "BEST VALID SCORE FOR dataset : 0.05496290844760535\n",
      "FINAL TEST SCORE FOR dataset: 0.054354022857688394\n",
      "{'loss': [1.2076249567227566, 0.30883776462039264, 0.22292270615745444, 0.18032767427084112, 0.17235880250457056, 0.16562112721732852, 0.13107912468114194, 0.10487990356763334, 0.08733180116752848, 0.08976186608064446, 0.08353308491190405, 0.07865091544312064, 0.09387628515690856, 0.10263915093014994, 0.07817810072475613, 0.11260098665467302, 0.07561827851429048, 0.07330340200410215, 0.06219743798920697, 0.0724658858310128, 0.0637235201725354, 0.05290701291266016, 0.059272400901352544, 0.07309894751551096, 0.05650453643224138, 0.0621614818270121, 0.04314117408463738, 0.04547518024566896, 0.043159865510288976, 0.053372589404109244, 0.05914136660603825, 0.05747572063234808, 0.068628756250543, 0.051919428455713124, 0.044418399331405616, 0.05134221591079662, 0.05569691169727897, 0.04876453958524555, 0.050691242581567084, 0.05067675189397234, 0.042990892567347234, 0.050534534920310355, 0.05414457594921224, 0.06839366572687602, 0.040121897839689294, 0.044530463990442914, 0.042120970081817054, 0.040845335433896665, 0.03964161940816947, 0.03647302986647485, 0.03288896707059506, 0.038068307873092185, 0.04401642244297053, 0.04026374633420951, 0.040116183678179686, 0.037895026094968816, 0.04473449556757651, 0.03855096769643529, 0.030248643132685063, 0.030999941447998492, 0.04442037719662881, 0.038275566522383925, 0.03768224434180834, 0.04086584503176935, 0.03500641844802648, 0.029398742092451753, 0.05605832176701642, 0.03458963810232641, 0.04442991612400216, 0.03596177003088526, 0.029323513034112292, 0.03050359870012886, 0.029385690410478883, 0.04152609968515483, 0.04314092185093448, 0.03633042398221329, 0.030647590368112446, 0.04115870544013449, 0.02775109632104538, 0.04038277005091164, 0.02875908318579391, 0.03418631740035762, 0.041341325692856735, 0.0374439555775459, 0.036282913692611045, 0.031024078350113737, 0.03382416967460309, 0.03593175933493077, 0.043199189225703184, 0.06754756172821653, 0.05177093964640403, 0.0407255889441369, 0.039008351412968836, 0.026402777491640966, 0.02312868765588692, 0.038001075338463065, 0.05676208087015618, 0.04072902101647194, 0.04704927899404535, 0.03518878695242568, 0.027772610782606205, 0.031031447095669053, 0.03079469816255647, 0.03222312571948048, 0.03627358824742734, 0.024873733593314788, 0.031362271530960203, 0.033183079634577714, 0.02334691982425094, 0.02453449503169774, 0.027458616013635643, 0.026528041069593025, 0.0335754689059739, 0.0330062725305169, 0.04041348320071006, 0.025482808303464118, 0.03370622223916582, 0.03457548656176278, 0.029025932597997524, 0.02516563188175425, 0.030894926054469925, 0.03148940154609152, 0.024487254067236126, 0.02810299224205048, 0.026073541006843896, 0.026998409958926398, 0.02291849848938687, 0.02288601257465173, 0.02576258318067956, 0.02322238620601182, 0.019840426755165043, 0.0191981758958742, 0.024940472423836152, 0.0254465109556428, 0.027576671349012115, 0.05362491828999224, 0.031241597686606042, 0.021311386521747914, 0.020777275257953216, 0.02106546314512091, 0.027589990912120582, 0.0217798622355399, 0.021695984412190967, 0.03247340497976406, 0.02930097250383141, 0.027653623287374886, 0.02561758004784196, 0.02215004906495154, 0.022907427569748135, 0.04463360162530738, 0.025624566253408157, 0.02577641912120173, 0.022934924095189532, 0.028940979840312797, 0.041851698235890765, 0.02572717007965529, 0.028171203181099037, 0.02108384498944112, 0.020716684600429355, 0.01855485675195141, 0.05461323601026877, 0.050720621737672764, 0.046390991257533966, 0.024389418113539875, 0.025149114017377846, 0.028388893686793138, 0.022133569812541675, 0.02440568964916254, 0.020247976134867934, 0.020341874091167018, 0.028843839631600955, 0.023058491513278663, 0.023374299321578456, 0.02743968764374621, 0.02004750650558099, 0.03289900121888819, 0.01900909501294748, 0.021657891741404704, 0.022032469535301098, 0.0230989207662278, 0.01850861779350411, 0.019485778596968137, 0.02315208636200001], 'lr': [0.01, 0.01, 0.01, 0.01, 0.01, 0.01, 0.01, 0.01, 0.01, 0.01, 0.01, 0.01, 0.01, 0.01, 0.01, 0.01, 0.01, 0.01, 0.01, 0.01, 0.01, 0.01, 0.01, 0.01, 0.01, 0.01, 0.01, 0.01, 0.01, 0.01, 0.01, 0.01, 0.01, 0.01, 0.01, 0.01, 0.01, 0.01, 0.01, 0.01, 0.01, 0.01, 0.01, 0.01, 0.01, 0.01, 0.01, 0.01, 0.01, 0.01, 0.01, 0.01, 0.01, 0.01, 0.01, 0.01, 0.01, 0.01, 0.01, 0.01, 0.01, 0.01, 0.01, 0.01, 0.01, 0.01, 0.01, 0.01, 0.01, 0.01, 0.01, 0.01, 0.01, 0.01, 0.01, 0.01, 0.01, 0.01, 0.01, 0.01, 0.01, 0.01, 0.01, 0.01, 0.01, 0.01, 0.01, 0.01, 0.01, 0.01, 0.01, 0.01, 0.01, 0.01, 0.01, 0.01, 0.01, 0.01, 0.01, 0.01, 0.01, 0.01, 0.01, 0.01, 0.01, 0.01, 0.01, 0.01, 0.01, 0.01, 0.01, 0.01, 0.01, 0.01, 0.01, 0.01, 0.01, 0.01, 0.01, 0.01, 0.01, 0.01, 0.01, 0.01, 0.01, 0.01, 0.01, 0.01, 0.01, 0.01, 0.01, 0.01, 0.01, 0.01, 0.01, 0.01, 0.01, 0.01, 0.01, 0.01, 0.01, 0.01, 0.01, 0.01, 0.01, 0.01, 0.01, 0.01, 0.01, 0.01, 0.01, 0.01, 0.01, 0.01, 0.01, 0.01, 0.01, 0.01, 0.01, 0.01, 0.01, 0.01, 0.01, 0.01, 0.01, 0.01, 0.01, 0.01, 0.01, 0.01, 0.01, 0.01, 0.01, 0.01, 0.01, 0.01, 0.01, 0.01, 0.01, 0.01, 0.01, 0.01, 0.01], 'train_mse': [0.5071854362266164, 0.3230683036341041, 0.20277279590157593, 0.1565005362038284, 0.13412437189691137, 0.14341183566333074, 0.07917920967440033, 0.06988153431043072, 0.0646664745112082, 0.0661708002392121, 0.05362262122884565, 0.04618417279200756, 0.049589544395400566, 0.046727404734245054, 0.042293288585833845, 0.047729503835863114, 0.03493616410480365, 0.04226796545508483, 0.039205165612640605, 0.03712899668846794, 0.04383047838914863, 0.03331764876417334, 0.03293806481254027, 0.03719031615874545, 0.033856139403956986, 0.027779689431113534, 0.02389977832829199, 0.026304822089773035, 0.03290951355219487, 0.02942329065437023, 0.027452455787717614, 0.02308587665434624, 0.02689599858384119, 0.036872275182560386, 0.026140484224613753, 0.02438132206711708, 0.0316664966695652, 0.03173768971721149, 0.02877863232348913, 0.05980291863251378, 0.02375335219017355, 0.0236857975424635, 0.038902871287058716, 0.025311232297046193, 0.02139273818967255, 0.020853129301596572, 0.023399953470936746, 0.027989530262838, 0.029419684097550428, 0.015168074678842194, 0.016761034794269283, 0.024375510546116894, 0.020179105961328075, 0.01712005517600988, 0.01509331198299718, 0.01785271574731311, 0.015611024144684175, 0.02085302115551625, 0.03244691747462121, 0.018686861919893168, 0.01759965874169856, 0.020595663180976526, 0.017271375621790788, 0.01792743170280218, 0.017366967308612775, 0.029996490834449437, 0.03568172650129709, 0.04017305878634933, 0.01860480771701388, 0.01870623114579211, 0.018413388695769986, 0.013966188666699497, 0.0236946883110504, 0.02234142917622138, 0.025327320344185205, 0.013791531000341776, 0.015846659952937138, 0.026026334195540988, 0.014689409949065592, 0.013106377882932225, 0.012292331797491247, 0.01783767936318173, 0.021284083811155628, 0.01167619138146113, 0.011276921686023188, 0.011155403320367347, 0.013537282194059762, 0.02031840161281194, 0.022366841233357467, 0.034394486395645185, 0.04379559963337195, 0.024212997359931425, 0.02204144118555663, 0.029180305054902995, 0.019140918586737526, 0.019520175571683163, 0.02339435913207027, 0.025362558837749804, 0.013035677840125173, 0.012218535999472023, 0.01520748809956915, 0.026443606828807347, 0.035543437498160226, 0.02447315826958191, 0.012158114319395171, 0.009991212766054722, 0.014600942682407003, 0.007893722750308179, 0.01004857531700468, 0.010595267450798886, 0.01478430773128767, 0.015467329319386332, 0.011315950576397251, 0.01691183856727373, 0.011662909251204575, 0.010442127483007706, 0.011092384699928211, 0.00679443146448913, 0.007887396163985776, 0.008581469863542468, 0.01798501398411053, 0.012825077751779032, 0.008394269382223539, 0.015916236604133657, 0.011689012785370573, 0.008524789124863968, 0.015028645083307151, 0.008973104613251242, 0.011005407145984308, 0.007423683318159308, 0.00805952966370842, 0.00833487664346803, 0.005972989791537388, 0.009075213285189532, 0.01962799867012817, 0.011329078047364575, 0.008105735590011048, 0.013299665617276381, 0.009967844565278746, 0.010075302975390178, 0.01803411109283837, 0.011734910397091444, 0.021186519284584766, 0.01353640239132306, 0.00909068899547245, 0.013391758842006466, 0.01250909559190438, 0.010925748228594436, 0.018645734534736984, 0.12135851563685908, 0.0646494575388044, 0.014857670655900882, 0.016667593198678596, 0.012477416257589722, 0.011764336194287362, 0.009222934169174813, 0.020917657097951757, 0.007913321357926202, 0.009385050440520671, 0.012908099833344218, 0.019929042237901675, 0.028368897906550252, 0.013549418429977275, 0.014849531090109207, 0.012236719109068603, 0.011791965795159025, 0.012487406252302033, 0.011541920765214056, 0.0150981064875131, 0.009080573852381193, 0.01597323262361966, 0.01802225286683504, 0.013366392750329775, 0.008264628029744819, 0.011948623610286322, 0.028074781288213165, 0.01658863642555727, 0.01871791976369878, 0.015578071203719426, 0.011313750464632915, 0.0061695057279879005, 0.013791429749739613, 0.01831142864932114], 'train_mae': [0.57113078074159, 0.45479817397869376, 0.3408060654204628, 0.3132887840477553, 0.2818352652111249, 0.3040032763027585, 0.20728155719026656, 0.20195216479003525, 0.1951630965019931, 0.18935239735693601, 0.17176836648841537, 0.1621465087702272, 0.16659088682226061, 0.17113582805255928, 0.15972422155016702, 0.16837238188228018, 0.1441206874783762, 0.15664592465361232, 0.15490061619421458, 0.14639643530338822, 0.16776179200079144, 0.14016015240398527, 0.13838085525762725, 0.14141476086937538, 0.13792769842914487, 0.12748283442821234, 0.11693020040447114, 0.1216579201133377, 0.13515072855498828, 0.13508271698207452, 0.12349854357843318, 0.11638274989196581, 0.12829789313708273, 0.1412527175658983, 0.12646454605235485, 0.11875009704462458, 0.13638487286227036, 0.13737922637242783, 0.13299971101878932, 0.18963477401004336, 0.1160999647169672, 0.12116328805102147, 0.14692254893197018, 0.11889208602777188, 0.11715896016448657, 0.10782219339689907, 0.11581105580206848, 0.1311614935378624, 0.13412615212013887, 0.09080917023757276, 0.09931942234089917, 0.11900578479088293, 0.10748418990991307, 0.09769857280039965, 0.09626442789588657, 0.10505165191593158, 0.09848374041901316, 0.11672670432857361, 0.14386564295191756, 0.10460830567696021, 0.10188888396184137, 0.11236863449086044, 0.09699705210015608, 0.10411518882168543, 0.10071539159917471, 0.13948054493819606, 0.14836968055473343, 0.1532286176555447, 0.10520539123184312, 0.10932676434224275, 0.10395928449216475, 0.08939601248930772, 0.11396122960860043, 0.10712392630389242, 0.12778687817276047, 0.08594473061593204, 0.091890407996328, 0.11685370970097515, 0.09572376773927285, 0.09427098051671207, 0.08516131691645172, 0.10469270465530624, 0.11808653549464859, 0.07969824356148668, 0.08041141778005244, 0.08160638253331719, 0.08481373718345707, 0.11338219305226079, 0.11172643368943164, 0.1459390935086253, 0.16125694111508276, 0.12380321842362599, 0.11687005184459011, 0.1281996834350822, 0.10218742038088487, 0.10926073760388562, 0.12352252615065087, 0.12764035446334446, 0.08422956697334726, 0.07841357113520071, 0.09754302935749277, 0.13245532758853606, 0.1465660247382564, 0.12352918381012722, 0.07981772016551883, 0.07507970431866846, 0.0983371096819112, 0.06532745865164179, 0.07670448245056961, 0.07567175673027172, 0.09632362728555033, 0.09984177833356307, 0.07534076900162931, 0.09483106384810365, 0.08181115680723168, 0.07721088796477231, 0.07793741732092845, 0.05987659917900603, 0.07108512611659706, 0.0706864793136457, 0.09423312730684573, 0.07814260790561808, 0.06955465189697933, 0.09831406637315063, 0.08300818420288766, 0.06700260397024067, 0.08953315486458303, 0.0719988080984311, 0.0784737225025566, 0.0658878157006363, 0.0654096554661054, 0.06726466948759662, 0.05496290844760535, 0.06932516707076357, 0.09965224627839103, 0.08220672910877379, 0.06501085268498989, 0.08961156899179663, 0.0800844464557575, 0.07931836645549756, 0.10185645605573782, 0.08075747467996244, 0.11595264314092607, 0.08043863610285815, 0.06716564949878616, 0.0870778615814585, 0.08901186376408633, 0.08100405101382309, 0.10326490809104635, 0.1821250519803858, 0.1556309295607202, 0.08516909976591606, 0.08476708471495363, 0.08235687959627935, 0.08568806822545542, 0.07557683241735214, 0.11908519293680242, 0.06356123404435142, 0.07050699953895691, 0.08012501307387028, 0.1076229492735433, 0.12361116785141654, 0.08688008285990517, 0.0973612754939408, 0.07938923533115308, 0.08193137672577375, 0.08603378115250368, 0.0801630321862082, 0.08740615843458642, 0.07314867154334628, 0.09656848607721044, 0.1039213105271657, 0.09489757930626896, 0.07060902709097956, 0.08816314767906441, 0.11568018482753012, 0.1003642856731813, 0.10240716897244434, 0.09836004839998326, 0.08509862634872227, 0.060261962088085194, 0.0954102811867809, 0.1035032910430528]}\n"
     ]
    },
    {
     "data": {
      "application/scrapbook.scrap.json+json": {
       "data": 0.054354022857688394,
       "encoder": "json",
       "name": "TabNet MAE",
       "version": 1
      }
     },
     "metadata": {
      "scrapbook": {
       "data": true,
       "display": false,
       "name": "TabNet MAE"
      }
     },
     "output_type": "display_data"
    },
    {
     "name": "stdout",
     "output_type": "stream",
     "text": [
      "TabNet MAE 0.054354022857688394\n"
     ]
    },
    {
     "data": {
      "image/png": "[encoded data removed]",
      "text/plain": [
       "<Figure size 432x288 with 1 Axes>"
      ]
     },
     "metadata": {
      "needs_background": "light"
     },
     "output_type": "display_data"
    }
   ],
   "source": [
    "lr = 0.01\n",
    "\n",
    "y_train = np.reshape(y_train, (-1, 1))\n",
    "y_test = np.reshape(y_test, (-1, 1))\n",
    "\n",
    "device = torch.device('cuda' if torch.cuda.is_available() else 'cpu')\n",
    "mae_tab= baselineModels.tabnetreg(X_train,y_train,X_test,y_test,batch_size,n_features,n_target,n_epochs, lr)\n",
    "sb.glue(\"TabNet MAE\",mae_tab)\n",
    "print(\"TabNet MAE\",mae_tab)"
   ]
  }
 ],
 "metadata": {
  "kernelspec": {
   "display_name": "Python 3.7.3 64-bit",
   "language": "python",
   "name": "python3"
  },
  "language_info": {
   "codemirror_mode": {
    "name": "ipython",
    "version": 3
   },
   "file_extension": ".py",
   "mimetype": "text/x-python",
   "name": "python",
   "nbconvert_exporter": "python",
   "pygments_lexer": "ipython3",
   "version": "3.8.13"
  },
  "papermill": {
   "default_parameters": {},
   "duration": 187.477388,
   "end_time": "2022-07-24T10:43:55.951616",
   "environment_variables": {},
   "exception": null,
   "input_path": "BaselineModels.ipynb",
   "output_path": "./BaseLine_Model_Output/BaselineModels_output_7.ipynb",
   "parameters": {},
   "start_time": "2022-07-24T10:40:48.474228",
   "version": "2.3.3"
  },
  "vscode": {
   "interpreter": {
    "hash": "aee8b7b246df8f9039afb4144a1f6fd8d2ca17a180786b69acc140d282b71a49"
   }
  }
 },
 "nbformat": 4,
 "nbformat_minor": 5
}