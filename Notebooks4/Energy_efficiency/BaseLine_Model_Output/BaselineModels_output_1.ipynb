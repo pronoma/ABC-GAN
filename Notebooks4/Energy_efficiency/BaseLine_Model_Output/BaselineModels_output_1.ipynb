{
 "cells": [
  {
   "cell_type": "markdown",
   "id": "88db317d",
   "metadata": {
    "papermill": {
     "duration": 0.010237,
     "end_time": "2022-07-24T10:17:12.068260",
     "exception": false,
     "start_time": "2022-07-24T10:17:12.058023",
     "status": "completed"
    },
    "tags": []
   },
   "source": [
    "## Import Libraries "
   ]
  },
  {
   "cell_type": "code",
   "execution_count": 1,
   "id": "0b0eaaaf",
   "metadata": {
    "execution": {
     "iopub.execute_input": "2022-07-24T10:17:12.078849Z",
     "iopub.status.busy": "2022-07-24T10:17:12.077792Z",
     "iopub.status.idle": "2022-07-24T10:17:12.093833Z",
     "shell.execute_reply": "2022-07-24T10:17:12.092673Z"
    },
    "papermill": {
     "duration": 0.025003,
     "end_time": "2022-07-24T10:17:12.097573",
     "exception": false,
     "start_time": "2022-07-24T10:17:12.072570",
     "status": "completed"
    },
    "tags": []
   },
   "outputs": [],
   "source": [
    "import warnings\n",
    "import sys\n",
    "sys.path.insert(0, '../../src')\n",
    "warnings.filterwarnings('ignore')"
   ]
  },
  {
   "cell_type": "code",
   "execution_count": 2,
   "id": "0859a34d",
   "metadata": {
    "execution": {
     "iopub.execute_input": "2022-07-24T10:17:12.105220Z",
     "iopub.status.busy": "2022-07-24T10:17:12.104918Z",
     "iopub.status.idle": "2022-07-24T10:17:24.415719Z",
     "shell.execute_reply": "2022-07-24T10:17:24.414506Z"
    },
    "papermill": {
     "duration": 12.318525,
     "end_time": "2022-07-24T10:17:24.419241",
     "exception": false,
     "start_time": "2022-07-24T10:17:12.100716",
     "status": "completed"
    },
    "tags": []
   },
   "outputs": [],
   "source": [
    "import statsModel\n",
    "import scrapbook as sb \n",
    "import torch \n",
    "import statsModel\n",
    "import baselineModels\n",
    "import energyefficiencyDataset\n",
    "import dataset \n",
    "from torch.utils.data import random_split \n",
    "from sklearn.model_selection import train_test_split\n",
    "import numpy as np\n",
    "from sklearn.metrics import mean_squared_error,mean_absolute_error "
   ]
  },
  {
   "cell_type": "markdown",
   "id": "1743815d",
   "metadata": {
    "papermill": {
     "duration": 0.096405,
     "end_time": "2022-07-24T10:17:24.625579",
     "exception": false,
     "start_time": "2022-07-24T10:17:24.529174",
     "status": "completed"
    },
    "tags": []
   },
   "source": [
    "## Import Dataset \n"
   ]
  },
  {
   "cell_type": "code",
   "execution_count": 3,
   "id": "22be7418",
   "metadata": {
    "execution": {
     "iopub.execute_input": "2022-07-24T10:17:24.751395Z",
     "iopub.status.busy": "2022-07-24T10:17:24.750921Z",
     "iopub.status.idle": "2022-07-24T10:17:27.520576Z",
     "shell.execute_reply": "2022-07-24T10:17:27.516895Z"
    },
    "papermill": {
     "duration": 2.844464,
     "end_time": "2022-07-24T10:17:27.528407",
     "exception": false,
     "start_time": "2022-07-24T10:17:24.683943",
     "status": "completed"
    },
    "tags": []
   },
   "outputs": [
    {
     "name": "stdout",
     "output_type": "stream",
     "text": [
      "     X1     X2     X3      X4   X5  X6   X7  X8     Y1     Y2\n",
      "0  0.98  514.5  294.0  110.25  7.0   2  0.0   0  15.55  21.33\n",
      "1  0.98  514.5  294.0  110.25  7.0   3  0.0   0  15.55  21.33\n",
      "2  0.98  514.5  294.0  110.25  7.0   4  0.0   0  15.55  21.33\n",
      "3  0.98  514.5  294.0  110.25  7.0   5  0.0   0  15.55  21.33\n",
      "4  0.90  563.5  318.5  122.50  7.0   2  0.0   0  20.84  28.28\n"
     ]
    }
   ],
   "source": [
    "n_features = 13\n",
    "n_samples= 506\n",
    "n_target = 1 \n",
    "X,Y = energyefficiencyDataset.energy_data()"
   ]
  },
  {
   "cell_type": "code",
   "execution_count": 4,
   "id": "6b8f5e30",
   "metadata": {
    "execution": {
     "iopub.execute_input": "2022-07-24T10:17:27.560500Z",
     "iopub.status.busy": "2022-07-24T10:17:27.559102Z",
     "iopub.status.idle": "2022-07-24T10:17:27.588404Z",
     "shell.execute_reply": "2022-07-24T10:17:27.579807Z"
    },
    "papermill": {
     "duration": 0.056841,
     "end_time": "2022-07-24T10:17:27.594708",
     "exception": false,
     "start_time": "2022-07-24T10:17:27.537867",
     "status": "completed"
    },
    "tags": []
   },
   "outputs": [],
   "source": [
    "# Train test split for dataset \n",
    "real_dataset = dataset.CustomDataset(X,Y)\n",
    "X_train, X_test, y_train, y_test = train_test_split(X, Y, test_size=0.2)"
   ]
  },
  {
   "cell_type": "markdown",
   "id": "b757fc49",
   "metadata": {
    "papermill": {
     "duration": 0.006622,
     "end_time": "2022-07-24T10:17:27.607590",
     "exception": false,
     "start_time": "2022-07-24T10:17:27.600968",
     "status": "completed"
    },
    "tags": []
   },
   "source": [
    "## Stats Model \n",
    "\n"
   ]
  },
  {
   "cell_type": "code",
   "execution_count": 5,
   "id": "cdf12dfe",
   "metadata": {
    "execution": {
     "iopub.execute_input": "2022-07-24T10:17:27.634197Z",
     "iopub.status.busy": "2022-07-24T10:17:27.632143Z",
     "iopub.status.idle": "2022-07-24T10:17:29.080074Z",
     "shell.execute_reply": "2022-07-24T10:17:29.078241Z"
    },
    "papermill": {
     "duration": 1.472033,
     "end_time": "2022-07-24T10:17:29.086170",
     "exception": false,
     "start_time": "2022-07-24T10:17:27.614137",
     "status": "completed"
    },
    "tags": []
   },
   "outputs": [
    {
     "name": "stderr",
     "output_type": "stream",
     "text": [
      "No artists with labels found to put in legend.  Note that artists whose label start with an underscore are ignored when legend() is called with no argument.\n"
     ]
    },
    {
     "name": "stdout",
     "output_type": "stream",
     "text": [
      "                                 OLS Regression Results                                \n",
      "=======================================================================================\n",
      "Dep. Variable:                      y   R-squared (uncentered):                   0.913\n",
      "Model:                            OLS   Adj. R-squared (uncentered):              0.912\n",
      "Method:                 Least Squares   F-statistic:                              913.1\n",
      "Date:                Sun, 24 Jul 2022   Prob (F-statistic):                   2.12e-317\n",
      "Time:                        15:47:27   Log-Likelihood:                         -118.39\n",
      "No. Observations:                 614   AIC:                                      250.8\n",
      "Df Residuals:                     607   BIC:                                      281.7\n",
      "Df Model:                           7                                                  \n",
      "Covariance Type:            nonrobust                                                  \n",
      "==============================================================================\n",
      "                 coef    std err          t      P>|t|      [0.025      0.975]\n",
      "------------------------------------------------------------------------------\n",
      "x1            -0.6928      0.122     -5.688      0.000      -0.932      -0.454\n",
      "x2            -0.3774      0.090     -4.208      0.000      -0.553      -0.201\n",
      "x3             0.0672      0.024      2.847      0.005       0.021       0.114\n",
      "x4            -0.4005      0.081     -4.963      0.000      -0.559      -0.242\n",
      "x5             0.7198      0.067     10.795      0.000       0.589       0.851\n",
      "x6             0.0047      0.012      0.394      0.694      -0.019       0.028\n",
      "x7             0.2603      0.012     21.435      0.000       0.236       0.284\n",
      "x8             0.0384      0.012      3.121      0.002       0.014       0.063\n",
      "==============================================================================\n",
      "Omnibus:                       13.278   Durbin-Watson:                   2.053\n",
      "Prob(Omnibus):                  0.001   Jarque-Bera (JB):               22.687\n",
      "Skew:                           0.109   Prob(JB):                     1.18e-05\n",
      "Kurtosis:                       3.916   Cond. No.                     3.68e+15\n",
      "==============================================================================\n",
      "\n",
      "Notes:\n",
      "[1] R² is computed without centering (uncentered) since the model does not contain a constant.\n",
      "[2] Standard Errors assume that the covariance matrix of the errors is correctly specified.\n",
      "[3] The smallest eigenvalue is 1.65e-28. This might indicate that there are\n",
      "strong multicollinearity problems or that the design matrix is singular.\n"
     ]
    },
    {
     "data": {
      "image/png": "[encoded data removed]",
      "text/plain": [
       "<Figure size 432x288 with 1 Axes>"
      ]
     },
     "metadata": {
      "needs_background": "light"
     },
     "output_type": "display_data"
    },
    {
     "name": "stdout",
     "output_type": "stream",
     "text": [
      "Performance Metrics\n",
      "Mean Squared Error: 0.07577780655056585\n",
      "Mean Absolute Error: 0.1959971527234286\n",
      "Manhattan distance: 30.183561519408016\n",
      "Euclidean distance: 3.416106293543445\n"
     ]
    },
    {
     "data": {
      "application/scrapbook.scrap.json+json": {
       "data": 0.07577780655056585,
       "encoder": "json",
       "name": "Stats Model MSE",
       "version": 1
      }
     },
     "metadata": {
      "scrapbook": {
       "data": true,
       "display": false,
       "name": "Stats Model MSE"
      }
     },
     "output_type": "display_data"
    },
    {
     "data": {
      "application/scrapbook.scrap.json+json": {
       "data": 0.1959971527234286,
       "encoder": "json",
       "name": "Stats Model MAE",
       "version": 1
      }
     },
     "metadata": {
      "scrapbook": {
       "data": true,
       "display": false,
       "name": "Stats Model MAE"
      }
     },
     "output_type": "display_data"
    },
    {
     "data": {
      "application/scrapbook.scrap.json+json": {
       "data": 30.183561519408016,
       "encoder": "json",
       "name": "Stats Model Manhattan Distance",
       "version": 1
      }
     },
     "metadata": {
      "scrapbook": {
       "data": true,
       "display": false,
       "name": "Stats Model Manhattan Distance"
      }
     },
     "output_type": "display_data"
    },
    {
     "data": {
      "application/scrapbook.scrap.json+json": {
       "data": 3.416106293543445,
       "encoder": "json",
       "name": "Stats Model Euclidean distance",
       "version": 1
      }
     },
     "metadata": {
      "scrapbook": {
       "data": true,
       "display": false,
       "name": "Stats Model Euclidean distance"
      }
     },
     "output_type": "display_data"
    },
    {
     "data": {
      "application/scrapbook.scrap.json+json": {
       "data": [
        -0.6928079939430545,
        -0.37735951390623385,
        0.06723690520987137,
        -0.40045037639283665,
        0.7198351904953164,
        0.00466923462865574,
        0.26028350826268376,
        0.03839932140114845
       ],
       "encoder": "json",
       "name": "Coefficients",
       "version": 1
      }
     },
     "metadata": {
      "scrapbook": {
       "data": true,
       "display": false,
       "name": "Coefficients"
      }
     },
     "output_type": "display_data"
    },
    {
     "name": "stdout",
     "output_type": "stream",
     "text": [
      "Stats Model MAE 0.1959971527234286\n"
     ]
    }
   ],
   "source": [
    "coefficients , y_pred =statsModel.statsModel(X_train,y_train,X_test,y_test)\n",
    "#Store MSE Value \n",
    "sb.glue(\"Coefficients\",coefficients)\n",
    "mae = mean_absolute_error(y_pred, y_test)\n",
    "print(\"Stats Model MAE\", mae)"
   ]
  },
  {
   "cell_type": "markdown",
   "id": "aad4d7bf",
   "metadata": {
    "papermill": {
     "duration": 0.010022,
     "end_time": "2022-07-24T10:17:29.103538",
     "exception": false,
     "start_time": "2022-07-24T10:17:29.093516",
     "status": "completed"
    },
    "tags": []
   },
   "source": [
    "# Catboost Model "
   ]
  },
  {
   "cell_type": "code",
   "execution_count": 6,
   "id": "0df796fa",
   "metadata": {
    "execution": {
     "iopub.execute_input": "2022-07-24T10:17:29.125547Z",
     "iopub.status.busy": "2022-07-24T10:17:29.125007Z",
     "iopub.status.idle": "2022-07-24T10:17:31.548251Z",
     "shell.execute_reply": "2022-07-24T10:17:31.537399Z"
    },
    "papermill": {
     "duration": 2.444388,
     "end_time": "2022-07-24T10:17:31.557450",
     "exception": false,
     "start_time": "2022-07-24T10:17:29.113062",
     "status": "completed"
    },
    "tags": []
   },
   "outputs": [
    {
     "name": "stdout",
     "output_type": "stream",
     "text": [
      "Learning rate set to 0.037906\n"
     ]
    },
    {
     "name": "stdout",
     "output_type": "stream",
     "text": [
      "0:\tlearn: 0.9666911\ttotal: 68ms\tremaining: 1m 7s\n",
      "1:\tlearn: 0.9345107\ttotal: 69.9ms\tremaining: 34.9s\n",
      "2:\tlearn: 0.9073720\ttotal: 73.6ms\tremaining: 24.5s\n",
      "3:\tlearn: 0.8766710\ttotal: 76.2ms\tremaining: 19s\n",
      "4:\tlearn: 0.8521091\ttotal: 77.1ms\tremaining: 15.3s\n",
      "5:\tlearn: 0.8243773\ttotal: 77.7ms\tremaining: 12.9s\n",
      "6:\tlearn: 0.8020875\ttotal: 78.5ms\tremaining: 11.1s\n",
      "7:\tlearn: 0.7771334\ttotal: 81.1ms\tremaining: 10.1s\n",
      "8:\tlearn: 0.7515943\ttotal: 84.4ms\tremaining: 9.29s\n",
      "9:\tlearn: 0.7280054\ttotal: 85.4ms\tremaining: 8.46s\n",
      "10:\tlearn: 0.7051524\ttotal: 85.9ms\tremaining: 7.73s\n",
      "11:\tlearn: 0.6822830\ttotal: 88.5ms\tremaining: 7.28s\n",
      "12:\tlearn: 0.6624672\ttotal: 89.4ms\tremaining: 6.78s\n",
      "13:\tlearn: 0.6418288\ttotal: 90.3ms\tremaining: 6.36s\n",
      "14:\tlearn: 0.6219553\ttotal: 91.1ms\tremaining: 5.99s\n",
      "15:\tlearn: 0.6017003\ttotal: 92.3ms\tremaining: 5.67s\n",
      "16:\tlearn: 0.5844191\ttotal: 92.9ms\tremaining: 5.37s\n",
      "17:\tlearn: 0.5684995\ttotal: 93.5ms\tremaining: 5.1s\n",
      "18:\tlearn: 0.5507151\ttotal: 94.4ms\tremaining: 4.87s\n",
      "19:\tlearn: 0.5349215\ttotal: 95.1ms\tremaining: 4.66s\n",
      "20:\tlearn: 0.5177518\ttotal: 95.4ms\tremaining: 4.45s\n",
      "21:\tlearn: 0.5027187\ttotal: 97.1ms\tremaining: 4.32s\n",
      "22:\tlearn: 0.4886300\ttotal: 98.7ms\tremaining: 4.19s\n",
      "23:\tlearn: 0.4743091\ttotal: 99ms\tremaining: 4.03s\n",
      "24:\tlearn: 0.4603036\ttotal: 99.3ms\tremaining: 3.87s\n",
      "25:\tlearn: 0.4470363\ttotal: 99.6ms\tremaining: 3.73s\n",
      "26:\tlearn: 0.4328482\ttotal: 103ms\tremaining: 3.71s\n"
     ]
    },
    {
     "name": "stdout",
     "output_type": "stream",
     "text": [
      "27:\tlearn: 0.4195636\ttotal: 108ms\tremaining: 3.74s\n",
      "28:\tlearn: 0.4075192\ttotal: 109ms\tremaining: 3.65s\n",
      "29:\tlearn: 0.3959128\ttotal: 111ms\tremaining: 3.6s\n",
      "30:\tlearn: 0.3840883\ttotal: 113ms\tremaining: 3.54s\n",
      "31:\tlearn: 0.3728548\ttotal: 115ms\tremaining: 3.47s\n",
      "32:\tlearn: 0.3619353\ttotal: 116ms\tremaining: 3.4s\n",
      "33:\tlearn: 0.3521156\ttotal: 116ms\tremaining: 3.31s\n",
      "34:\tlearn: 0.3425687\ttotal: 118ms\tremaining: 3.25s\n",
      "35:\tlearn: 0.3321309\ttotal: 120ms\tremaining: 3.2s\n",
      "36:\tlearn: 0.3222708\ttotal: 124ms\tremaining: 3.22s\n",
      "37:\tlearn: 0.3141161\ttotal: 124ms\tremaining: 3.14s\n",
      "38:\tlearn: 0.3046119\ttotal: 125ms\tremaining: 3.09s\n",
      "39:\tlearn: 0.2973793\ttotal: 126ms\tremaining: 3.02s\n",
      "40:\tlearn: 0.2884202\ttotal: 131ms\tremaining: 3.05s\n",
      "41:\tlearn: 0.2809711\ttotal: 133ms\tremaining: 3.03s\n",
      "42:\tlearn: 0.2735855\ttotal: 135ms\tremaining: 3s\n",
      "43:\tlearn: 0.2666452\ttotal: 137ms\tremaining: 2.97s\n",
      "44:\tlearn: 0.2610089\ttotal: 142ms\tremaining: 3s\n",
      "45:\tlearn: 0.2552743\ttotal: 143ms\tremaining: 2.97s\n",
      "46:\tlearn: 0.2493215\ttotal: 144ms\tremaining: 2.92s\n",
      "47:\tlearn: 0.2428741\ttotal: 145ms\tremaining: 2.88s\n",
      "48:\tlearn: 0.2368173\ttotal: 148ms\tremaining: 2.88s\n",
      "49:\tlearn: 0.2308320\ttotal: 149ms\tremaining: 2.84s\n",
      "50:\tlearn: 0.2238790\ttotal: 151ms\tremaining: 2.8s\n",
      "51:\tlearn: 0.2176353\ttotal: 151ms\tremaining: 2.75s\n",
      "52:\tlearn: 0.2114179\ttotal: 152ms\tremaining: 2.71s\n",
      "53:\tlearn: 0.2073663\ttotal: 152ms\tremaining: 2.67s\n"
     ]
    },
    {
     "name": "stdout",
     "output_type": "stream",
     "text": [
      "54:\tlearn: 0.2014893\ttotal: 157ms\tremaining: 2.69s\n",
      "55:\tlearn: 0.1967041\ttotal: 158ms\tremaining: 2.66s\n",
      "56:\tlearn: 0.1920959\ttotal: 159ms\tremaining: 2.63s\n",
      "57:\tlearn: 0.1870492\ttotal: 159ms\tremaining: 2.58s\n",
      "58:\tlearn: 0.1820677\ttotal: 159ms\tremaining: 2.54s\n",
      "59:\tlearn: 0.1778606\ttotal: 161ms\tremaining: 2.52s\n",
      "60:\tlearn: 0.1743336\ttotal: 162ms\tremaining: 2.49s\n",
      "61:\tlearn: 0.1698413\ttotal: 163ms\tremaining: 2.46s\n",
      "62:\tlearn: 0.1660265\ttotal: 163ms\tremaining: 2.43s\n",
      "63:\tlearn: 0.1616597\ttotal: 164ms\tremaining: 2.4s\n",
      "64:\tlearn: 0.1585720\ttotal: 165ms\tremaining: 2.37s\n",
      "65:\tlearn: 0.1547959\ttotal: 166ms\tremaining: 2.35s\n",
      "66:\tlearn: 0.1507392\ttotal: 167ms\tremaining: 2.33s\n",
      "67:\tlearn: 0.1477704\ttotal: 167ms\tremaining: 2.29s\n",
      "68:\tlearn: 0.1444585\ttotal: 168ms\tremaining: 2.26s\n",
      "69:\tlearn: 0.1413849\ttotal: 169ms\tremaining: 2.24s\n",
      "70:\tlearn: 0.1394239\ttotal: 169ms\tremaining: 2.21s\n",
      "71:\tlearn: 0.1369323\ttotal: 170ms\tremaining: 2.19s\n",
      "72:\tlearn: 0.1340218\ttotal: 170ms\tremaining: 2.16s\n",
      "73:\tlearn: 0.1311920\ttotal: 171ms\tremaining: 2.14s\n",
      "74:\tlearn: 0.1296612\ttotal: 171ms\tremaining: 2.11s\n",
      "75:\tlearn: 0.1266097\ttotal: 172ms\tremaining: 2.09s\n",
      "76:\tlearn: 0.1241103\ttotal: 172ms\tremaining: 2.06s\n",
      "77:\tlearn: 0.1222265\ttotal: 174ms\tremaining: 2.06s\n",
      "78:\tlearn: 0.1200203\ttotal: 175ms\tremaining: 2.04s\n",
      "79:\tlearn: 0.1176216\ttotal: 177ms\tremaining: 2.03s\n",
      "80:\tlearn: 0.1152821\ttotal: 178ms\tremaining: 2.02s\n",
      "81:\tlearn: 0.1128951\ttotal: 179ms\tremaining: 2s\n",
      "82:\tlearn: 0.1111706\ttotal: 180ms\tremaining: 1.99s\n",
      "83:\tlearn: 0.1093307\ttotal: 181ms\tremaining: 1.97s\n",
      "84:\tlearn: 0.1068064\ttotal: 185ms\tremaining: 2s\n",
      "85:\tlearn: 0.1053659\ttotal: 187ms\tremaining: 1.98s\n",
      "86:\tlearn: 0.1038289\ttotal: 187ms\tremaining: 1.96s\n",
      "87:\tlearn: 0.1015576\ttotal: 188ms\tremaining: 1.95s\n",
      "88:\tlearn: 0.0995821\ttotal: 190ms\tremaining: 1.94s\n",
      "89:\tlearn: 0.0975281\ttotal: 191ms\tremaining: 1.93s\n",
      "90:\tlearn: 0.0957137\ttotal: 192ms\tremaining: 1.92s\n"
     ]
    },
    {
     "name": "stdout",
     "output_type": "stream",
     "text": [
      "91:\tlearn: 0.0940239\ttotal: 194ms\tremaining: 1.91s\n",
      "92:\tlearn: 0.0921004\ttotal: 199ms\tremaining: 1.94s\n",
      "93:\tlearn: 0.0903684\ttotal: 201ms\tremaining: 1.94s\n",
      "94:\tlearn: 0.0887922\ttotal: 202ms\tremaining: 1.92s\n",
      "95:\tlearn: 0.0875992\ttotal: 203ms\tremaining: 1.91s\n",
      "96:\tlearn: 0.0868049\ttotal: 203ms\tremaining: 1.89s\n",
      "97:\tlearn: 0.0853609\ttotal: 204ms\tremaining: 1.88s\n",
      "98:\tlearn: 0.0839102\ttotal: 204ms\tremaining: 1.86s\n",
      "99:\tlearn: 0.0828153\ttotal: 205ms\tremaining: 1.84s\n",
      "100:\tlearn: 0.0812621\ttotal: 205ms\tremaining: 1.83s\n",
      "101:\tlearn: 0.0798107\ttotal: 206ms\tremaining: 1.81s\n",
      "102:\tlearn: 0.0786451\ttotal: 209ms\tremaining: 1.82s\n",
      "103:\tlearn: 0.0772107\ttotal: 209ms\tremaining: 1.8s\n",
      "104:\tlearn: 0.0764886\ttotal: 210ms\tremaining: 1.79s\n",
      "105:\tlearn: 0.0755316\ttotal: 211ms\tremaining: 1.77s\n",
      "106:\tlearn: 0.0745433\ttotal: 211ms\tremaining: 1.76s\n",
      "107:\tlearn: 0.0734918\ttotal: 212ms\tremaining: 1.75s\n",
      "108:\tlearn: 0.0723288\ttotal: 212ms\tremaining: 1.74s\n",
      "109:\tlearn: 0.0715022\ttotal: 213ms\tremaining: 1.72s\n",
      "110:\tlearn: 0.0704712\ttotal: 214ms\tremaining: 1.71s\n",
      "111:\tlearn: 0.0693937\ttotal: 214ms\tremaining: 1.7s\n",
      "112:\tlearn: 0.0683823\ttotal: 215ms\tremaining: 1.69s\n",
      "113:\tlearn: 0.0677356\ttotal: 217ms\tremaining: 1.69s\n",
      "114:\tlearn: 0.0667794\ttotal: 219ms\tremaining: 1.69s\n",
      "115:\tlearn: 0.0660050\ttotal: 220ms\tremaining: 1.68s\n",
      "116:\tlearn: 0.0651629\ttotal: 221ms\tremaining: 1.67s\n",
      "117:\tlearn: 0.0642882\ttotal: 222ms\tremaining: 1.66s\n",
      "118:\tlearn: 0.0635788\ttotal: 222ms\tremaining: 1.64s\n",
      "119:\tlearn: 0.0632830\ttotal: 225ms\tremaining: 1.65s\n",
      "120:\tlearn: 0.0626330\ttotal: 225ms\tremaining: 1.64s\n",
      "121:\tlearn: 0.0619764\ttotal: 228ms\tremaining: 1.64s\n"
     ]
    },
    {
     "name": "stdout",
     "output_type": "stream",
     "text": [
      "122:\tlearn: 0.0611301\ttotal: 229ms\tremaining: 1.63s\n",
      "123:\tlearn: 0.0606484\ttotal: 230ms\tremaining: 1.62s\n",
      "124:\tlearn: 0.0602310\ttotal: 234ms\tremaining: 1.64s\n",
      "125:\tlearn: 0.0596046\ttotal: 234ms\tremaining: 1.63s\n"
     ]
    },
    {
     "name": "stdout",
     "output_type": "stream",
     "text": [
      "126:\tlearn: 0.0591354\ttotal: 264ms\tremaining: 1.81s\n",
      "127:\tlearn: 0.0588395\ttotal: 266ms\tremaining: 1.81s\n",
      "128:\tlearn: 0.0584555\ttotal: 269ms\tremaining: 1.82s\n",
      "129:\tlearn: 0.0579151\ttotal: 270ms\tremaining: 1.8s\n",
      "130:\tlearn: 0.0574935\ttotal: 271ms\tremaining: 1.8s\n",
      "131:\tlearn: 0.0570436\ttotal: 274ms\tremaining: 1.8s\n",
      "132:\tlearn: 0.0565679\ttotal: 277ms\tremaining: 1.81s\n",
      "133:\tlearn: 0.0562570\ttotal: 278ms\tremaining: 1.79s\n",
      "134:\tlearn: 0.0558833\ttotal: 278ms\tremaining: 1.78s\n",
      "135:\tlearn: 0.0555432\ttotal: 280ms\tremaining: 1.78s\n",
      "136:\tlearn: 0.0552827\ttotal: 281ms\tremaining: 1.77s\n",
      "137:\tlearn: 0.0549297\ttotal: 283ms\tremaining: 1.76s\n",
      "138:\tlearn: 0.0544841\ttotal: 285ms\tremaining: 1.76s\n",
      "139:\tlearn: 0.0540809\ttotal: 286ms\tremaining: 1.76s\n",
      "140:\tlearn: 0.0537480\ttotal: 288ms\tremaining: 1.75s\n",
      "141:\tlearn: 0.0534296\ttotal: 288ms\tremaining: 1.74s\n",
      "142:\tlearn: 0.0529918\ttotal: 290ms\tremaining: 1.74s\n",
      "143:\tlearn: 0.0526583\ttotal: 290ms\tremaining: 1.73s\n",
      "144:\tlearn: 0.0524008\ttotal: 292ms\tremaining: 1.72s\n",
      "145:\tlearn: 0.0521753\ttotal: 293ms\tremaining: 1.71s\n",
      "146:\tlearn: 0.0518815\ttotal: 294ms\tremaining: 1.7s\n",
      "147:\tlearn: 0.0516058\ttotal: 296ms\tremaining: 1.7s\n",
      "148:\tlearn: 0.0513321\ttotal: 301ms\tremaining: 1.72s\n",
      "149:\tlearn: 0.0511226\ttotal: 301ms\tremaining: 1.71s\n",
      "150:\tlearn: 0.0508112\ttotal: 305ms\tremaining: 1.72s\n",
      "151:\tlearn: 0.0505602\ttotal: 306ms\tremaining: 1.71s\n",
      "152:\tlearn: 0.0503372\ttotal: 306ms\tremaining: 1.7s\n",
      "153:\tlearn: 0.0501215\ttotal: 307ms\tremaining: 1.68s\n",
      "154:\tlearn: 0.0498639\ttotal: 311ms\tremaining: 1.7s\n",
      "155:\tlearn: 0.0495827\ttotal: 312ms\tremaining: 1.69s\n",
      "156:\tlearn: 0.0493424\ttotal: 312ms\tremaining: 1.68s\n",
      "157:\tlearn: 0.0491492\ttotal: 313ms\tremaining: 1.67s\n",
      "158:\tlearn: 0.0489831\ttotal: 318ms\tremaining: 1.68s\n"
     ]
    },
    {
     "name": "stdout",
     "output_type": "stream",
     "text": [
      "159:\tlearn: 0.0487726\ttotal: 325ms\tremaining: 1.71s\n",
      "160:\tlearn: 0.0485271\ttotal: 329ms\tremaining: 1.71s\n",
      "161:\tlearn: 0.0483478\ttotal: 333ms\tremaining: 1.72s\n",
      "162:\tlearn: 0.0481274\ttotal: 337ms\tremaining: 1.73s\n",
      "163:\tlearn: 0.0479055\ttotal: 338ms\tremaining: 1.72s\n",
      "164:\tlearn: 0.0476479\ttotal: 338ms\tremaining: 1.71s\n",
      "165:\tlearn: 0.0474851\ttotal: 339ms\tremaining: 1.7s\n",
      "166:\tlearn: 0.0473252\ttotal: 340ms\tremaining: 1.69s\n",
      "167:\tlearn: 0.0470484\ttotal: 341ms\tremaining: 1.69s\n",
      "168:\tlearn: 0.0468477\ttotal: 343ms\tremaining: 1.69s\n",
      "169:\tlearn: 0.0466596\ttotal: 345ms\tremaining: 1.69s\n",
      "170:\tlearn: 0.0464774\ttotal: 346ms\tremaining: 1.68s\n",
      "171:\tlearn: 0.0462769\ttotal: 347ms\tremaining: 1.67s\n",
      "172:\tlearn: 0.0460831\ttotal: 349ms\tremaining: 1.67s\n",
      "173:\tlearn: 0.0459260\ttotal: 350ms\tremaining: 1.66s\n",
      "174:\tlearn: 0.0457791\ttotal: 351ms\tremaining: 1.65s\n",
      "175:\tlearn: 0.0456714\ttotal: 354ms\tremaining: 1.66s\n",
      "176:\tlearn: 0.0455142\ttotal: 355ms\tremaining: 1.65s\n",
      "177:\tlearn: 0.0453283\ttotal: 356ms\tremaining: 1.64s\n",
      "178:\tlearn: 0.0452033\ttotal: 357ms\tremaining: 1.64s\n",
      "179:\tlearn: 0.0450083\ttotal: 361ms\tremaining: 1.64s\n",
      "180:\tlearn: 0.0448326\ttotal: 364ms\tremaining: 1.65s\n",
      "181:\tlearn: 0.0446831\ttotal: 364ms\tremaining: 1.64s\n",
      "182:\tlearn: 0.0445288\ttotal: 368ms\tremaining: 1.64s\n",
      "183:\tlearn: 0.0443891\ttotal: 370ms\tremaining: 1.64s\n",
      "184:\tlearn: 0.0440708\ttotal: 371ms\tremaining: 1.64s\n",
      "185:\tlearn: 0.0439316\ttotal: 373ms\tremaining: 1.63s\n",
      "186:\tlearn: 0.0438208\ttotal: 374ms\tremaining: 1.63s\n",
      "187:\tlearn: 0.0436792\ttotal: 377ms\tremaining: 1.63s\n",
      "188:\tlearn: 0.0434570\ttotal: 378ms\tremaining: 1.62s\n",
      "189:\tlearn: 0.0432873\ttotal: 378ms\tremaining: 1.61s\n",
      "190:\tlearn: 0.0431697\ttotal: 379ms\tremaining: 1.6s\n",
      "191:\tlearn: 0.0428815\ttotal: 379ms\tremaining: 1.59s\n",
      "192:\tlearn: 0.0427655\ttotal: 380ms\tremaining: 1.59s\n",
      "193:\tlearn: 0.0426706\ttotal: 381ms\tremaining: 1.58s\n",
      "194:\tlearn: 0.0425723\ttotal: 383ms\tremaining: 1.58s\n",
      "195:\tlearn: 0.0424663\ttotal: 383ms\tremaining: 1.57s\n",
      "196:\tlearn: 0.0423022\ttotal: 384ms\tremaining: 1.56s\n",
      "197:\tlearn: 0.0422100\ttotal: 384ms\tremaining: 1.56s\n",
      "198:\tlearn: 0.0420921\ttotal: 385ms\tremaining: 1.55s\n",
      "199:\tlearn: 0.0419729\ttotal: 386ms\tremaining: 1.54s\n",
      "200:\tlearn: 0.0418726\ttotal: 387ms\tremaining: 1.54s\n",
      "201:\tlearn: 0.0417220\ttotal: 388ms\tremaining: 1.53s\n",
      "202:\tlearn: 0.0414806\ttotal: 389ms\tremaining: 1.53s\n",
      "203:\tlearn: 0.0413292\ttotal: 390ms\tremaining: 1.52s\n",
      "204:\tlearn: 0.0412398\ttotal: 390ms\tremaining: 1.51s\n",
      "205:\tlearn: 0.0411635\ttotal: 392ms\tremaining: 1.51s\n"
     ]
    },
    {
     "name": "stdout",
     "output_type": "stream",
     "text": [
      "206:\tlearn: 0.0410286\ttotal: 394ms\tremaining: 1.51s\n",
      "207:\tlearn: 0.0408844\ttotal: 395ms\tremaining: 1.5s\n",
      "208:\tlearn: 0.0407268\ttotal: 396ms\tremaining: 1.5s\n",
      "209:\tlearn: 0.0406575\ttotal: 397ms\tremaining: 1.49s\n",
      "210:\tlearn: 0.0405499\ttotal: 397ms\tremaining: 1.49s\n",
      "211:\tlearn: 0.0402904\ttotal: 402ms\tremaining: 1.49s\n",
      "212:\tlearn: 0.0402234\ttotal: 402ms\tremaining: 1.49s\n",
      "213:\tlearn: 0.0400156\ttotal: 405ms\tremaining: 1.49s\n",
      "214:\tlearn: 0.0398038\ttotal: 406ms\tremaining: 1.48s\n",
      "215:\tlearn: 0.0397176\ttotal: 407ms\tremaining: 1.48s\n",
      "216:\tlearn: 0.0396444\ttotal: 409ms\tremaining: 1.48s\n",
      "217:\tlearn: 0.0395175\ttotal: 413ms\tremaining: 1.48s\n",
      "218:\tlearn: 0.0394273\ttotal: 413ms\tremaining: 1.47s\n",
      "219:\tlearn: 0.0393496\ttotal: 414ms\tremaining: 1.47s\n",
      "220:\tlearn: 0.0392109\ttotal: 415ms\tremaining: 1.46s\n",
      "221:\tlearn: 0.0390351\ttotal: 415ms\tremaining: 1.46s\n",
      "222:\tlearn: 0.0389818\ttotal: 416ms\tremaining: 1.45s\n",
      "223:\tlearn: 0.0388809\ttotal: 417ms\tremaining: 1.44s\n"
     ]
    },
    {
     "name": "stdout",
     "output_type": "stream",
     "text": [
      "224:\tlearn: 0.0388118\ttotal: 418ms\tremaining: 1.44s\n",
      "225:\tlearn: 0.0387219\ttotal: 421ms\tremaining: 1.44s\n",
      "226:\tlearn: 0.0386687\ttotal: 422ms\tremaining: 1.44s\n",
      "227:\tlearn: 0.0385716\ttotal: 422ms\tremaining: 1.43s\n",
      "228:\tlearn: 0.0385123\ttotal: 423ms\tremaining: 1.43s\n",
      "229:\tlearn: 0.0384562\ttotal: 425ms\tremaining: 1.42s\n",
      "230:\tlearn: 0.0383108\ttotal: 425ms\tremaining: 1.41s\n",
      "231:\tlearn: 0.0382730\ttotal: 425ms\tremaining: 1.41s\n",
      "232:\tlearn: 0.0381442\ttotal: 427ms\tremaining: 1.41s\n",
      "233:\tlearn: 0.0380437\ttotal: 428ms\tremaining: 1.4s\n",
      "234:\tlearn: 0.0379638\ttotal: 428ms\tremaining: 1.39s\n",
      "235:\tlearn: 0.0378616\ttotal: 429ms\tremaining: 1.39s\n",
      "236:\tlearn: 0.0377707\ttotal: 436ms\tremaining: 1.4s\n",
      "237:\tlearn: 0.0376204\ttotal: 441ms\tremaining: 1.41s\n",
      "238:\tlearn: 0.0375400\ttotal: 441ms\tremaining: 1.41s\n",
      "239:\tlearn: 0.0374370\ttotal: 442ms\tremaining: 1.4s\n",
      "240:\tlearn: 0.0373814\ttotal: 443ms\tremaining: 1.39s\n",
      "241:\tlearn: 0.0373233\ttotal: 444ms\tremaining: 1.39s\n",
      "242:\tlearn: 0.0372090\ttotal: 444ms\tremaining: 1.38s\n",
      "243:\tlearn: 0.0370602\ttotal: 445ms\tremaining: 1.38s\n",
      "244:\tlearn: 0.0369807\ttotal: 446ms\tremaining: 1.38s\n",
      "245:\tlearn: 0.0368063\ttotal: 448ms\tremaining: 1.37s\n",
      "246:\tlearn: 0.0366422\ttotal: 448ms\tremaining: 1.37s\n",
      "247:\tlearn: 0.0365541\ttotal: 449ms\tremaining: 1.36s\n",
      "248:\tlearn: 0.0364440\ttotal: 450ms\tremaining: 1.36s\n",
      "249:\tlearn: 0.0363666\ttotal: 450ms\tremaining: 1.35s\n",
      "250:\tlearn: 0.0363146\ttotal: 451ms\tremaining: 1.34s\n",
      "251:\tlearn: 0.0361952\ttotal: 452ms\tremaining: 1.34s\n",
      "252:\tlearn: 0.0360745\ttotal: 454ms\tremaining: 1.34s\n",
      "253:\tlearn: 0.0360330\ttotal: 455ms\tremaining: 1.34s\n",
      "254:\tlearn: 0.0359526\ttotal: 456ms\tremaining: 1.33s\n",
      "255:\tlearn: 0.0358186\ttotal: 460ms\tremaining: 1.34s\n",
      "256:\tlearn: 0.0356674\ttotal: 462ms\tremaining: 1.34s\n"
     ]
    },
    {
     "name": "stdout",
     "output_type": "stream",
     "text": [
      "257:\tlearn: 0.0356358\ttotal: 473ms\tremaining: 1.36s\n",
      "258:\tlearn: 0.0355358\ttotal: 479ms\tremaining: 1.37s\n",
      "259:\tlearn: 0.0354537\ttotal: 479ms\tremaining: 1.36s\n",
      "260:\tlearn: 0.0353506\ttotal: 481ms\tremaining: 1.36s\n",
      "261:\tlearn: 0.0352867\ttotal: 483ms\tremaining: 1.36s\n",
      "262:\tlearn: 0.0351457\ttotal: 484ms\tremaining: 1.36s\n",
      "263:\tlearn: 0.0351087\ttotal: 485ms\tremaining: 1.35s\n",
      "264:\tlearn: 0.0350377\ttotal: 488ms\tremaining: 1.35s\n",
      "265:\tlearn: 0.0349798\ttotal: 488ms\tremaining: 1.35s\n",
      "266:\tlearn: 0.0348259\ttotal: 489ms\tremaining: 1.34s\n",
      "267:\tlearn: 0.0346602\ttotal: 489ms\tremaining: 1.34s\n",
      "268:\tlearn: 0.0346146\ttotal: 490ms\tremaining: 1.33s\n",
      "269:\tlearn: 0.0345126\ttotal: 491ms\tremaining: 1.33s\n",
      "270:\tlearn: 0.0343945\ttotal: 493ms\tremaining: 1.33s\n",
      "271:\tlearn: 0.0343523\ttotal: 493ms\tremaining: 1.32s\n",
      "272:\tlearn: 0.0342973\ttotal: 494ms\tremaining: 1.32s\n",
      "273:\tlearn: 0.0342482\ttotal: 496ms\tremaining: 1.31s\n",
      "274:\tlearn: 0.0341109\ttotal: 497ms\tremaining: 1.31s\n",
      "275:\tlearn: 0.0340217\ttotal: 499ms\tremaining: 1.31s\n",
      "276:\tlearn: 0.0339768\ttotal: 503ms\tremaining: 1.31s\n",
      "277:\tlearn: 0.0339036\ttotal: 504ms\tremaining: 1.31s\n",
      "278:\tlearn: 0.0338556\ttotal: 510ms\tremaining: 1.32s\n",
      "279:\tlearn: 0.0338087\ttotal: 510ms\tremaining: 1.31s\n",
      "280:\tlearn: 0.0337421\ttotal: 511ms\tremaining: 1.31s\n",
      "281:\tlearn: 0.0336452\ttotal: 513ms\tremaining: 1.3s\n",
      "282:\tlearn: 0.0336105\ttotal: 513ms\tremaining: 1.3s\n",
      "283:\tlearn: 0.0334978\ttotal: 514ms\tremaining: 1.29s\n",
      "284:\tlearn: 0.0334341\ttotal: 516ms\tremaining: 1.29s\n",
      "285:\tlearn: 0.0333737\ttotal: 518ms\tremaining: 1.29s\n",
      "286:\tlearn: 0.0332842\ttotal: 522ms\tremaining: 1.3s\n",
      "287:\tlearn: 0.0331902\ttotal: 523ms\tremaining: 1.29s\n",
      "288:\tlearn: 0.0331596\ttotal: 524ms\tremaining: 1.29s\n"
     ]
    },
    {
     "name": "stdout",
     "output_type": "stream",
     "text": [
      "289:\tlearn: 0.0330744\ttotal: 524ms\tremaining: 1.28s\n",
      "290:\tlearn: 0.0330042\ttotal: 525ms\tremaining: 1.28s\n",
      "291:\tlearn: 0.0329471\ttotal: 525ms\tremaining: 1.27s\n",
      "292:\tlearn: 0.0328308\ttotal: 529ms\tremaining: 1.28s\n",
      "293:\tlearn: 0.0327218\ttotal: 531ms\tremaining: 1.27s\n",
      "294:\tlearn: 0.0326399\ttotal: 534ms\tremaining: 1.27s\n",
      "295:\tlearn: 0.0325728\ttotal: 535ms\tremaining: 1.27s\n",
      "296:\tlearn: 0.0325076\ttotal: 536ms\tremaining: 1.27s\n",
      "297:\tlearn: 0.0324452\ttotal: 536ms\tremaining: 1.26s\n",
      "298:\tlearn: 0.0323989\ttotal: 538ms\tremaining: 1.26s\n",
      "299:\tlearn: 0.0322938\ttotal: 540ms\tremaining: 1.26s\n",
      "300:\tlearn: 0.0322065\ttotal: 546ms\tremaining: 1.27s\n",
      "301:\tlearn: 0.0321455\ttotal: 548ms\tremaining: 1.26s\n",
      "302:\tlearn: 0.0321134\ttotal: 548ms\tremaining: 1.26s\n",
      "303:\tlearn: 0.0320530\ttotal: 549ms\tremaining: 1.25s\n",
      "304:\tlearn: 0.0320046\ttotal: 549ms\tremaining: 1.25s\n",
      "305:\tlearn: 0.0319171\ttotal: 549ms\tremaining: 1.25s\n",
      "306:\tlearn: 0.0318438\ttotal: 552ms\tremaining: 1.25s\n",
      "307:\tlearn: 0.0317280\ttotal: 556ms\tremaining: 1.25s\n"
     ]
    },
    {
     "name": "stdout",
     "output_type": "stream",
     "text": [
      "308:\tlearn: 0.0316875\ttotal: 557ms\tremaining: 1.24s\n",
      "309:\tlearn: 0.0316489\ttotal: 557ms\tremaining: 1.24s\n",
      "310:\tlearn: 0.0315750\ttotal: 571ms\tremaining: 1.26s\n",
      "311:\tlearn: 0.0315351\ttotal: 572ms\tremaining: 1.26s\n",
      "312:\tlearn: 0.0314483\ttotal: 574ms\tremaining: 1.26s\n",
      "313:\tlearn: 0.0314186\ttotal: 575ms\tremaining: 1.25s\n",
      "314:\tlearn: 0.0313687\ttotal: 575ms\tremaining: 1.25s\n",
      "315:\tlearn: 0.0312364\ttotal: 576ms\tremaining: 1.25s\n",
      "316:\tlearn: 0.0311206\ttotal: 576ms\tremaining: 1.24s\n",
      "317:\tlearn: 0.0310208\ttotal: 577ms\tremaining: 1.24s\n",
      "318:\tlearn: 0.0309018\ttotal: 586ms\tremaining: 1.25s\n",
      "319:\tlearn: 0.0308515\ttotal: 588ms\tremaining: 1.25s\n",
      "320:\tlearn: 0.0307354\ttotal: 590ms\tremaining: 1.25s\n",
      "321:\tlearn: 0.0306263\ttotal: 594ms\tremaining: 1.25s\n",
      "322:\tlearn: 0.0305611\ttotal: 597ms\tremaining: 1.25s\n",
      "323:\tlearn: 0.0304942\ttotal: 598ms\tremaining: 1.25s\n",
      "324:\tlearn: 0.0304364\ttotal: 599ms\tremaining: 1.24s\n",
      "325:\tlearn: 0.0303680\ttotal: 601ms\tremaining: 1.24s\n",
      "326:\tlearn: 0.0303149\ttotal: 603ms\tremaining: 1.24s\n",
      "327:\tlearn: 0.0302129\ttotal: 605ms\tremaining: 1.24s\n",
      "328:\tlearn: 0.0301169\ttotal: 606ms\tremaining: 1.24s\n",
      "329:\tlearn: 0.0300685\ttotal: 608ms\tremaining: 1.23s\n",
      "330:\tlearn: 0.0300213\ttotal: 611ms\tremaining: 1.24s\n"
     ]
    },
    {
     "name": "stdout",
     "output_type": "stream",
     "text": [
      "331:\tlearn: 0.0299353\ttotal: 612ms\tremaining: 1.23s\n",
      "332:\tlearn: 0.0298683\ttotal: 613ms\tremaining: 1.23s\n",
      "333:\tlearn: 0.0297943\ttotal: 614ms\tremaining: 1.22s\n",
      "334:\tlearn: 0.0297047\ttotal: 616ms\tremaining: 1.22s\n",
      "335:\tlearn: 0.0296311\ttotal: 616ms\tremaining: 1.22s\n",
      "336:\tlearn: 0.0295731\ttotal: 616ms\tremaining: 1.21s\n",
      "337:\tlearn: 0.0295323\ttotal: 617ms\tremaining: 1.21s\n",
      "338:\tlearn: 0.0294683\ttotal: 619ms\tremaining: 1.21s\n",
      "339:\tlearn: 0.0294346\ttotal: 619ms\tremaining: 1.2s\n",
      "340:\tlearn: 0.0293830\ttotal: 620ms\tremaining: 1.2s\n",
      "341:\tlearn: 0.0293450\ttotal: 620ms\tremaining: 1.19s\n",
      "342:\tlearn: 0.0292895\ttotal: 621ms\tremaining: 1.19s\n",
      "343:\tlearn: 0.0292447\ttotal: 622ms\tremaining: 1.19s\n",
      "344:\tlearn: 0.0291536\ttotal: 622ms\tremaining: 1.18s\n",
      "345:\tlearn: 0.0290712\ttotal: 623ms\tremaining: 1.18s\n",
      "346:\tlearn: 0.0290355\ttotal: 623ms\tremaining: 1.17s\n",
      "347:\tlearn: 0.0289669\ttotal: 624ms\tremaining: 1.17s\n",
      "348:\tlearn: 0.0288984\ttotal: 625ms\tremaining: 1.17s\n",
      "349:\tlearn: 0.0288633\ttotal: 626ms\tremaining: 1.16s\n",
      "350:\tlearn: 0.0287854\ttotal: 626ms\tremaining: 1.16s\n",
      "351:\tlearn: 0.0287426\ttotal: 627ms\tremaining: 1.15s\n",
      "352:\tlearn: 0.0287240\ttotal: 627ms\tremaining: 1.15s\n",
      "353:\tlearn: 0.0286470\ttotal: 628ms\tremaining: 1.15s\n",
      "354:\tlearn: 0.0285616\ttotal: 629ms\tremaining: 1.14s\n",
      "355:\tlearn: 0.0284889\ttotal: 629ms\tremaining: 1.14s\n",
      "356:\tlearn: 0.0284319\ttotal: 631ms\tremaining: 1.14s\n",
      "357:\tlearn: 0.0283942\ttotal: 632ms\tremaining: 1.13s\n",
      "358:\tlearn: 0.0283142\ttotal: 633ms\tremaining: 1.13s\n",
      "359:\tlearn: 0.0282605\ttotal: 634ms\tremaining: 1.13s\n",
      "360:\tlearn: 0.0282218\ttotal: 636ms\tremaining: 1.13s\n",
      "361:\tlearn: 0.0281742\ttotal: 637ms\tremaining: 1.12s\n",
      "362:\tlearn: 0.0281031\ttotal: 637ms\tremaining: 1.12s\n",
      "363:\tlearn: 0.0280683\ttotal: 639ms\tremaining: 1.12s\n",
      "364:\tlearn: 0.0279901\ttotal: 646ms\tremaining: 1.12s\n",
      "365:\tlearn: 0.0279735\ttotal: 649ms\tremaining: 1.12s\n",
      "366:\tlearn: 0.0279153\ttotal: 649ms\tremaining: 1.12s\n",
      "367:\tlearn: 0.0278844\ttotal: 653ms\tremaining: 1.12s\n"
     ]
    },
    {
     "name": "stdout",
     "output_type": "stream",
     "text": [
      "368:\tlearn: 0.0278506\ttotal: 654ms\tremaining: 1.12s\n",
      "369:\tlearn: 0.0277988\ttotal: 656ms\tremaining: 1.12s\n",
      "370:\tlearn: 0.0277306\ttotal: 656ms\tremaining: 1.11s\n",
      "371:\tlearn: 0.0276849\ttotal: 658ms\tremaining: 1.11s\n",
      "372:\tlearn: 0.0276164\ttotal: 659ms\tremaining: 1.11s\n",
      "373:\tlearn: 0.0275719\ttotal: 659ms\tremaining: 1.1s\n",
      "374:\tlearn: 0.0275433\ttotal: 660ms\tremaining: 1.1s\n",
      "375:\tlearn: 0.0274853\ttotal: 661ms\tremaining: 1.1s\n",
      "376:\tlearn: 0.0273943\ttotal: 662ms\tremaining: 1.09s\n",
      "377:\tlearn: 0.0273232\ttotal: 663ms\tremaining: 1.09s\n",
      "378:\tlearn: 0.0272850\ttotal: 663ms\tremaining: 1.09s\n",
      "379:\tlearn: 0.0272609\ttotal: 664ms\tremaining: 1.08s\n",
      "380:\tlearn: 0.0272281\ttotal: 664ms\tremaining: 1.08s\n",
      "381:\tlearn: 0.0271855\ttotal: 665ms\tremaining: 1.07s\n",
      "382:\tlearn: 0.0271494\ttotal: 666ms\tremaining: 1.07s\n",
      "383:\tlearn: 0.0270779\ttotal: 667ms\tremaining: 1.07s\n",
      "384:\tlearn: 0.0270397\ttotal: 668ms\tremaining: 1.07s\n",
      "385:\tlearn: 0.0270222\ttotal: 670ms\tremaining: 1.06s\n",
      "386:\tlearn: 0.0269985\ttotal: 672ms\tremaining: 1.06s\n",
      "387:\tlearn: 0.0269479\ttotal: 673ms\tremaining: 1.06s\n",
      "388:\tlearn: 0.0269249\ttotal: 674ms\tremaining: 1.06s\n",
      "389:\tlearn: 0.0268923\ttotal: 676ms\tremaining: 1.06s\n",
      "390:\tlearn: 0.0268498\ttotal: 677ms\tremaining: 1.05s\n"
     ]
    },
    {
     "name": "stdout",
     "output_type": "stream",
     "text": [
      "391:\tlearn: 0.0268001\ttotal: 678ms\tremaining: 1.05s\n",
      "392:\tlearn: 0.0267411\ttotal: 686ms\tremaining: 1.06s\n",
      "393:\tlearn: 0.0267180\ttotal: 689ms\tremaining: 1.06s\n",
      "394:\tlearn: 0.0266736\ttotal: 690ms\tremaining: 1.06s\n",
      "395:\tlearn: 0.0266416\ttotal: 696ms\tremaining: 1.06s\n",
      "396:\tlearn: 0.0265813\ttotal: 697ms\tremaining: 1.06s\n",
      "397:\tlearn: 0.0265074\ttotal: 697ms\tremaining: 1.05s\n",
      "398:\tlearn: 0.0264665\ttotal: 697ms\tremaining: 1.05s\n",
      "399:\tlearn: 0.0264332\ttotal: 697ms\tremaining: 1.05s\n",
      "400:\tlearn: 0.0263811\ttotal: 698ms\tremaining: 1.04s\n",
      "401:\tlearn: 0.0263496\ttotal: 705ms\tremaining: 1.05s\n",
      "402:\tlearn: 0.0263104\ttotal: 708ms\tremaining: 1.05s\n",
      "403:\tlearn: 0.0262590\ttotal: 708ms\tremaining: 1.04s\n",
      "404:\tlearn: 0.0262292\ttotal: 709ms\tremaining: 1.04s\n",
      "405:\tlearn: 0.0261804\ttotal: 710ms\tremaining: 1.04s\n",
      "406:\tlearn: 0.0261514\ttotal: 710ms\tremaining: 1.03s\n",
      "407:\tlearn: 0.0261108\ttotal: 711ms\tremaining: 1.03s\n",
      "408:\tlearn: 0.0260850\ttotal: 712ms\tremaining: 1.03s\n",
      "409:\tlearn: 0.0260348\ttotal: 712ms\tremaining: 1.02s\n",
      "410:\tlearn: 0.0259787\ttotal: 714ms\tremaining: 1.02s\n",
      "411:\tlearn: 0.0259504\ttotal: 718ms\tremaining: 1.02s\n",
      "412:\tlearn: 0.0259133\ttotal: 719ms\tremaining: 1.02s\n",
      "413:\tlearn: 0.0258795\ttotal: 719ms\tremaining: 1.02s\n",
      "414:\tlearn: 0.0258139\ttotal: 720ms\tremaining: 1.01s\n",
      "415:\tlearn: 0.0257897\ttotal: 721ms\tremaining: 1.01s\n",
      "416:\tlearn: 0.0257519\ttotal: 721ms\tremaining: 1.01s\n",
      "417:\tlearn: 0.0257245\ttotal: 722ms\tremaining: 1s\n",
      "418:\tlearn: 0.0256869\ttotal: 723ms\tremaining: 1s\n",
      "419:\tlearn: 0.0256366\ttotal: 723ms\tremaining: 999ms\n",
      "420:\tlearn: 0.0256247\ttotal: 724ms\tremaining: 995ms\n",
      "421:\tlearn: 0.0255891\ttotal: 725ms\tremaining: 993ms\n",
      "422:\tlearn: 0.0255324\ttotal: 725ms\tremaining: 990ms\n"
     ]
    },
    {
     "name": "stdout",
     "output_type": "stream",
     "text": [
      "423:\tlearn: 0.0255040\ttotal: 729ms\tremaining: 990ms\n",
      "424:\tlearn: 0.0254785\ttotal: 731ms\tremaining: 990ms\n",
      "425:\tlearn: 0.0254267\ttotal: 732ms\tremaining: 986ms\n",
      "426:\tlearn: 0.0253986\ttotal: 733ms\tremaining: 984ms\n",
      "427:\tlearn: 0.0253566\ttotal: 734ms\tremaining: 981ms\n",
      "428:\tlearn: 0.0253310\ttotal: 734ms\tremaining: 978ms\n",
      "429:\tlearn: 0.0252846\ttotal: 735ms\tremaining: 974ms\n",
      "430:\tlearn: 0.0252716\ttotal: 736ms\tremaining: 971ms\n",
      "431:\tlearn: 0.0252531\ttotal: 736ms\tremaining: 968ms\n",
      "432:\tlearn: 0.0252288\ttotal: 737ms\tremaining: 965ms\n",
      "433:\tlearn: 0.0251922\ttotal: 737ms\tremaining: 962ms\n",
      "434:\tlearn: 0.0251375\ttotal: 738ms\tremaining: 958ms\n",
      "435:\tlearn: 0.0251026\ttotal: 738ms\tremaining: 955ms\n",
      "436:\tlearn: 0.0250783\ttotal: 739ms\tremaining: 952ms\n",
      "437:\tlearn: 0.0250536\ttotal: 740ms\tremaining: 949ms\n",
      "438:\tlearn: 0.0250339\ttotal: 741ms\tremaining: 947ms\n",
      "439:\tlearn: 0.0249813\ttotal: 741ms\tremaining: 943ms\n",
      "440:\tlearn: 0.0249455\ttotal: 742ms\tremaining: 940ms\n",
      "441:\tlearn: 0.0248832\ttotal: 744ms\tremaining: 940ms\n",
      "442:\tlearn: 0.0248519\ttotal: 747ms\tremaining: 939ms\n",
      "443:\tlearn: 0.0247962\ttotal: 747ms\tremaining: 936ms\n",
      "444:\tlearn: 0.0247609\ttotal: 748ms\tremaining: 933ms\n",
      "445:\tlearn: 0.0247184\ttotal: 748ms\tremaining: 929ms\n",
      "446:\tlearn: 0.0246794\ttotal: 748ms\tremaining: 926ms\n",
      "447:\tlearn: 0.0246402\ttotal: 749ms\tremaining: 923ms\n",
      "448:\tlearn: 0.0245913\ttotal: 750ms\tremaining: 920ms\n",
      "449:\tlearn: 0.0245484\ttotal: 750ms\tremaining: 916ms\n",
      "450:\tlearn: 0.0245364\ttotal: 752ms\tremaining: 915ms\n",
      "451:\tlearn: 0.0245138\ttotal: 752ms\tremaining: 912ms\n",
      "452:\tlearn: 0.0244954\ttotal: 752ms\tremaining: 908ms\n",
      "453:\tlearn: 0.0244612\ttotal: 753ms\tremaining: 905ms\n",
      "454:\tlearn: 0.0244222\ttotal: 754ms\tremaining: 903ms\n",
      "455:\tlearn: 0.0243742\ttotal: 754ms\tremaining: 900ms\n",
      "456:\tlearn: 0.0243156\ttotal: 755ms\tremaining: 897ms\n",
      "457:\tlearn: 0.0243048\ttotal: 755ms\tremaining: 894ms\n",
      "458:\tlearn: 0.0242468\ttotal: 756ms\tremaining: 891ms\n",
      "459:\tlearn: 0.0242196\ttotal: 756ms\tremaining: 887ms\n",
      "460:\tlearn: 0.0241756\ttotal: 756ms\tremaining: 884ms\n",
      "461:\tlearn: 0.0241426\ttotal: 757ms\tremaining: 881ms\n",
      "462:\tlearn: 0.0241313\ttotal: 757ms\tremaining: 878ms\n",
      "463:\tlearn: 0.0241098\ttotal: 757ms\tremaining: 875ms\n",
      "464:\tlearn: 0.0240871\ttotal: 760ms\tremaining: 874ms\n",
      "465:\tlearn: 0.0240752\ttotal: 760ms\tremaining: 871ms\n",
      "466:\tlearn: 0.0240248\ttotal: 760ms\tremaining: 868ms\n",
      "467:\tlearn: 0.0239934\ttotal: 762ms\tremaining: 867ms\n",
      "468:\tlearn: 0.0239315\ttotal: 763ms\tremaining: 863ms\n",
      "469:\tlearn: 0.0239016\ttotal: 763ms\tremaining: 860ms\n"
     ]
    },
    {
     "name": "stdout",
     "output_type": "stream",
     "text": [
      "470:\tlearn: 0.0238896\ttotal: 768ms\tremaining: 863ms\n",
      "471:\tlearn: 0.0238576\ttotal: 774ms\tremaining: 866ms\n",
      "472:\tlearn: 0.0238233\ttotal: 777ms\tremaining: 866ms\n",
      "473:\tlearn: 0.0238054\ttotal: 777ms\tremaining: 863ms\n",
      "474:\tlearn: 0.0237730\ttotal: 778ms\tremaining: 859ms\n",
      "475:\tlearn: 0.0237620\ttotal: 781ms\tremaining: 859ms\n",
      "476:\tlearn: 0.0237340\ttotal: 783ms\tremaining: 859ms\n",
      "477:\tlearn: 0.0236990\ttotal: 784ms\tremaining: 857ms\n",
      "478:\tlearn: 0.0236644\ttotal: 785ms\tremaining: 853ms\n",
      "479:\tlearn: 0.0236315\ttotal: 785ms\tremaining: 850ms\n",
      "480:\tlearn: 0.0236191\ttotal: 785ms\tremaining: 847ms\n",
      "481:\tlearn: 0.0235859\ttotal: 786ms\tremaining: 844ms\n",
      "482:\tlearn: 0.0235679\ttotal: 786ms\tremaining: 841ms\n",
      "483:\tlearn: 0.0235304\ttotal: 786ms\tremaining: 838ms\n",
      "484:\tlearn: 0.0235020\ttotal: 787ms\tremaining: 835ms\n",
      "485:\tlearn: 0.0234821\ttotal: 787ms\tremaining: 832ms\n",
      "486:\tlearn: 0.0234310\ttotal: 787ms\tremaining: 829ms\n",
      "487:\tlearn: 0.0234011\ttotal: 787ms\tremaining: 826ms\n",
      "488:\tlearn: 0.0233842\ttotal: 788ms\tremaining: 823ms\n",
      "489:\tlearn: 0.0233646\ttotal: 790ms\tremaining: 822ms\n",
      "490:\tlearn: 0.0233459\ttotal: 791ms\tremaining: 820ms\n",
      "491:\tlearn: 0.0233209\ttotal: 791ms\tremaining: 817ms\n",
      "492:\tlearn: 0.0232951\ttotal: 792ms\tremaining: 814ms\n",
      "493:\tlearn: 0.0232469\ttotal: 793ms\tremaining: 812ms\n",
      "494:\tlearn: 0.0232079\ttotal: 794ms\tremaining: 810ms\n",
      "495:\tlearn: 0.0231642\ttotal: 795ms\tremaining: 807ms\n",
      "496:\tlearn: 0.0231386\ttotal: 795ms\tremaining: 805ms\n",
      "497:\tlearn: 0.0230988\ttotal: 796ms\tremaining: 802ms\n",
      "498:\tlearn: 0.0230895\ttotal: 797ms\tremaining: 800ms\n",
      "499:\tlearn: 0.0230527\ttotal: 799ms\tremaining: 799ms\n",
      "500:\tlearn: 0.0230351\ttotal: 801ms\tremaining: 797ms\n",
      "501:\tlearn: 0.0229997\ttotal: 801ms\tremaining: 794ms\n"
     ]
    },
    {
     "name": "stdout",
     "output_type": "stream",
     "text": [
      "502:\tlearn: 0.0229786\ttotal: 801ms\tremaining: 792ms\n",
      "503:\tlearn: 0.0229297\ttotal: 802ms\tremaining: 789ms\n",
      "504:\tlearn: 0.0228944\ttotal: 803ms\tremaining: 787ms\n",
      "505:\tlearn: 0.0228659\ttotal: 807ms\tremaining: 788ms\n",
      "506:\tlearn: 0.0228242\ttotal: 810ms\tremaining: 787ms\n",
      "507:\tlearn: 0.0228077\ttotal: 812ms\tremaining: 786ms\n",
      "508:\tlearn: 0.0227772\ttotal: 813ms\tremaining: 785ms\n",
      "509:\tlearn: 0.0227513\ttotal: 814ms\tremaining: 782ms\n",
      "510:\tlearn: 0.0227187\ttotal: 814ms\tremaining: 779ms\n",
      "511:\tlearn: 0.0227015\ttotal: 816ms\tremaining: 778ms\n",
      "512:\tlearn: 0.0226535\ttotal: 819ms\tremaining: 778ms\n",
      "513:\tlearn: 0.0226426\ttotal: 820ms\tremaining: 775ms\n",
      "514:\tlearn: 0.0226307\ttotal: 820ms\tremaining: 772ms\n",
      "515:\tlearn: 0.0226195\ttotal: 825ms\tremaining: 774ms\n",
      "516:\tlearn: 0.0225849\ttotal: 825ms\tremaining: 771ms\n",
      "517:\tlearn: 0.0225565\ttotal: 826ms\tremaining: 768ms\n",
      "518:\tlearn: 0.0225305\ttotal: 826ms\tremaining: 765ms\n",
      "519:\tlearn: 0.0224845\ttotal: 827ms\tremaining: 763ms\n",
      "520:\tlearn: 0.0224523\ttotal: 827ms\tremaining: 760ms\n",
      "521:\tlearn: 0.0224359\ttotal: 827ms\tremaining: 758ms\n",
      "522:\tlearn: 0.0224210\ttotal: 828ms\tremaining: 755ms\n",
      "523:\tlearn: 0.0223881\ttotal: 830ms\tremaining: 754ms\n",
      "524:\tlearn: 0.0223502\ttotal: 831ms\tremaining: 752ms\n",
      "525:\tlearn: 0.0223286\ttotal: 831ms\tremaining: 749ms\n",
      "526:\tlearn: 0.0223041\ttotal: 831ms\tremaining: 746ms\n",
      "527:\tlearn: 0.0222821\ttotal: 832ms\tremaining: 744ms\n",
      "528:\tlearn: 0.0222561\ttotal: 833ms\tremaining: 742ms\n",
      "529:\tlearn: 0.0222264\ttotal: 833ms\tremaining: 739ms\n",
      "530:\tlearn: 0.0222122\ttotal: 834ms\tremaining: 736ms\n",
      "531:\tlearn: 0.0221891\ttotal: 835ms\tremaining: 735ms\n",
      "532:\tlearn: 0.0221738\ttotal: 837ms\tremaining: 734ms\n",
      "533:\tlearn: 0.0221600\ttotal: 840ms\tremaining: 733ms\n"
     ]
    },
    {
     "name": "stdout",
     "output_type": "stream",
     "text": [
      "534:\tlearn: 0.0221301\ttotal: 841ms\tremaining: 731ms\n",
      "535:\tlearn: 0.0221160\ttotal: 844ms\tremaining: 730ms\n",
      "536:\tlearn: 0.0220962\ttotal: 845ms\tremaining: 729ms\n",
      "537:\tlearn: 0.0220613\ttotal: 846ms\tremaining: 727ms\n",
      "538:\tlearn: 0.0220156\ttotal: 848ms\tremaining: 725ms\n",
      "539:\tlearn: 0.0219722\ttotal: 849ms\tremaining: 723ms\n",
      "540:\tlearn: 0.0219590\ttotal: 850ms\tremaining: 721ms\n",
      "541:\tlearn: 0.0219311\ttotal: 852ms\tremaining: 720ms\n",
      "542:\tlearn: 0.0218900\ttotal: 854ms\tremaining: 719ms\n",
      "543:\tlearn: 0.0218754\ttotal: 856ms\tremaining: 717ms\n",
      "544:\tlearn: 0.0218584\ttotal: 857ms\tremaining: 715ms\n",
      "545:\tlearn: 0.0218275\ttotal: 858ms\tremaining: 714ms\n",
      "546:\tlearn: 0.0217835\ttotal: 858ms\tremaining: 711ms\n",
      "547:\tlearn: 0.0217655\ttotal: 859ms\tremaining: 709ms\n",
      "548:\tlearn: 0.0217426\ttotal: 860ms\tremaining: 706ms\n",
      "549:\tlearn: 0.0217294\ttotal: 865ms\tremaining: 708ms\n",
      "550:\tlearn: 0.0217074\ttotal: 866ms\tremaining: 706ms\n",
      "551:\tlearn: 0.0216843\ttotal: 868ms\tremaining: 704ms\n",
      "552:\tlearn: 0.0216461\ttotal: 869ms\tremaining: 702ms\n",
      "553:\tlearn: 0.0216338\ttotal: 874ms\tremaining: 704ms\n",
      "554:\tlearn: 0.0215916\ttotal: 877ms\tremaining: 703ms\n",
      "555:\tlearn: 0.0215700\ttotal: 877ms\tremaining: 701ms\n",
      "556:\tlearn: 0.0215365\ttotal: 878ms\tremaining: 698ms\n",
      "557:\tlearn: 0.0215080\ttotal: 878ms\tremaining: 695ms\n",
      "558:\tlearn: 0.0214692\ttotal: 878ms\tremaining: 693ms\n",
      "559:\tlearn: 0.0214392\ttotal: 879ms\tremaining: 690ms\n",
      "560:\tlearn: 0.0214301\ttotal: 879ms\tremaining: 688ms\n",
      "561:\tlearn: 0.0214021\ttotal: 879ms\tremaining: 685ms\n",
      "562:\tlearn: 0.0213697\ttotal: 880ms\tremaining: 683ms\n",
      "563:\tlearn: 0.0213235\ttotal: 886ms\tremaining: 685ms\n",
      "564:\tlearn: 0.0213120\ttotal: 887ms\tremaining: 683ms\n",
      "565:\tlearn: 0.0213002\ttotal: 889ms\tremaining: 681ms\n",
      "566:\tlearn: 0.0212868\ttotal: 890ms\tremaining: 679ms\n",
      "567:\tlearn: 0.0212743\ttotal: 890ms\tremaining: 677ms\n",
      "568:\tlearn: 0.0212393\ttotal: 894ms\tremaining: 678ms\n",
      "569:\tlearn: 0.0212224\ttotal: 897ms\tremaining: 677ms\n",
      "570:\tlearn: 0.0211862\ttotal: 898ms\tremaining: 674ms\n"
     ]
    },
    {
     "name": "stdout",
     "output_type": "stream",
     "text": [
      "571:\tlearn: 0.0211597\ttotal: 906ms\tremaining: 678ms\n",
      "572:\tlearn: 0.0211480\ttotal: 907ms\tremaining: 676ms\n",
      "573:\tlearn: 0.0211264\ttotal: 907ms\tremaining: 673ms\n",
      "574:\tlearn: 0.0210865\ttotal: 911ms\tremaining: 673ms\n",
      "575:\tlearn: 0.0210228\ttotal: 911ms\tremaining: 671ms\n",
      "576:\tlearn: 0.0210035\ttotal: 914ms\tremaining: 670ms\n",
      "577:\tlearn: 0.0209694\ttotal: 915ms\tremaining: 668ms\n",
      "578:\tlearn: 0.0209274\ttotal: 918ms\tremaining: 667ms\n",
      "579:\tlearn: 0.0209033\ttotal: 919ms\tremaining: 665ms\n",
      "580:\tlearn: 0.0208738\ttotal: 919ms\tremaining: 663ms\n",
      "581:\tlearn: 0.0208655\ttotal: 920ms\tremaining: 661ms\n",
      "582:\tlearn: 0.0208491\ttotal: 922ms\tremaining: 660ms\n",
      "583:\tlearn: 0.0208373\ttotal: 925ms\tremaining: 659ms\n",
      "584:\tlearn: 0.0208072\ttotal: 929ms\tremaining: 659ms\n",
      "585:\tlearn: 0.0207818\ttotal: 930ms\tremaining: 657ms\n",
      "586:\tlearn: 0.0207697\ttotal: 932ms\tremaining: 656ms\n",
      "587:\tlearn: 0.0207485\ttotal: 933ms\tremaining: 654ms\n",
      "588:\tlearn: 0.0207093\ttotal: 935ms\tremaining: 653ms\n",
      "589:\tlearn: 0.0206717\ttotal: 936ms\tremaining: 651ms\n",
      "590:\tlearn: 0.0206587\ttotal: 939ms\tremaining: 650ms\n",
      "591:\tlearn: 0.0206384\ttotal: 939ms\tremaining: 647ms\n",
      "592:\tlearn: 0.0206129\ttotal: 940ms\tremaining: 645ms\n",
      "593:\tlearn: 0.0205800\ttotal: 940ms\tremaining: 643ms\n"
     ]
    },
    {
     "name": "stdout",
     "output_type": "stream",
     "text": [
      "594:\tlearn: 0.0205563\ttotal: 941ms\tremaining: 640ms\n",
      "595:\tlearn: 0.0205284\ttotal: 946ms\tremaining: 641ms\n",
      "596:\tlearn: 0.0204880\ttotal: 947ms\tremaining: 639ms\n",
      "597:\tlearn: 0.0204780\ttotal: 948ms\tremaining: 637ms\n",
      "598:\tlearn: 0.0204623\ttotal: 949ms\tremaining: 635ms\n",
      "599:\tlearn: 0.0204225\ttotal: 949ms\tremaining: 633ms\n",
      "600:\tlearn: 0.0204129\ttotal: 951ms\tremaining: 632ms\n",
      "601:\tlearn: 0.0203764\ttotal: 952ms\tremaining: 629ms\n",
      "602:\tlearn: 0.0203667\ttotal: 952ms\tremaining: 627ms\n",
      "603:\tlearn: 0.0203381\ttotal: 953ms\tremaining: 625ms\n",
      "604:\tlearn: 0.0203160\ttotal: 953ms\tremaining: 622ms\n",
      "605:\tlearn: 0.0202756\ttotal: 953ms\tremaining: 620ms\n",
      "606:\tlearn: 0.0202570\ttotal: 954ms\tremaining: 617ms\n",
      "607:\tlearn: 0.0202461\ttotal: 954ms\tremaining: 615ms\n",
      "608:\tlearn: 0.0202384\ttotal: 955ms\tremaining: 613ms\n",
      "609:\tlearn: 0.0202083\ttotal: 956ms\tremaining: 611ms\n",
      "610:\tlearn: 0.0201765\ttotal: 957ms\tremaining: 609ms\n",
      "611:\tlearn: 0.0201376\ttotal: 957ms\tremaining: 607ms\n",
      "612:\tlearn: 0.0201255\ttotal: 958ms\tremaining: 605ms\n",
      "613:\tlearn: 0.0201061\ttotal: 959ms\tremaining: 603ms\n",
      "614:\tlearn: 0.0200944\ttotal: 960ms\tremaining: 601ms\n",
      "615:\tlearn: 0.0200724\ttotal: 961ms\tremaining: 599ms\n",
      "616:\tlearn: 0.0200484\ttotal: 962ms\tremaining: 597ms\n",
      "617:\tlearn: 0.0200107\ttotal: 962ms\tremaining: 595ms\n",
      "618:\tlearn: 0.0199955\ttotal: 963ms\tremaining: 593ms\n",
      "619:\tlearn: 0.0199776\ttotal: 964ms\tremaining: 591ms\n",
      "620:\tlearn: 0.0199434\ttotal: 964ms\tremaining: 588ms\n",
      "621:\tlearn: 0.0199321\ttotal: 965ms\tremaining: 586ms\n",
      "622:\tlearn: 0.0199155\ttotal: 967ms\tremaining: 585ms\n",
      "623:\tlearn: 0.0198995\ttotal: 969ms\tremaining: 584ms\n",
      "624:\tlearn: 0.0198773\ttotal: 970ms\tremaining: 582ms\n",
      "625:\tlearn: 0.0198596\ttotal: 971ms\tremaining: 580ms\n",
      "626:\tlearn: 0.0198352\ttotal: 973ms\tremaining: 579ms\n",
      "627:\tlearn: 0.0198289\ttotal: 974ms\tremaining: 577ms\n",
      "628:\tlearn: 0.0198106\ttotal: 975ms\tremaining: 575ms\n",
      "629:\tlearn: 0.0197870\ttotal: 976ms\tremaining: 573ms\n",
      "630:\tlearn: 0.0197521\ttotal: 977ms\tremaining: 571ms\n",
      "631:\tlearn: 0.0197281\ttotal: 977ms\tremaining: 569ms\n",
      "632:\tlearn: 0.0196959\ttotal: 978ms\tremaining: 567ms\n",
      "633:\tlearn: 0.0196897\ttotal: 980ms\tremaining: 566ms\n",
      "634:\tlearn: 0.0196790\ttotal: 982ms\tremaining: 564ms\n",
      "635:\tlearn: 0.0196531\ttotal: 983ms\tremaining: 563ms\n",
      "636:\tlearn: 0.0196359\ttotal: 984ms\tremaining: 561ms\n"
     ]
    },
    {
     "name": "stdout",
     "output_type": "stream",
     "text": [
      "637:\tlearn: 0.0196186\ttotal: 985ms\tremaining: 559ms\n",
      "638:\tlearn: 0.0196032\ttotal: 988ms\tremaining: 558ms\n",
      "639:\tlearn: 0.0195892\ttotal: 988ms\tremaining: 556ms\n",
      "640:\tlearn: 0.0195689\ttotal: 995ms\tremaining: 557ms\n",
      "641:\tlearn: 0.0195317\ttotal: 996ms\tremaining: 555ms\n",
      "642:\tlearn: 0.0195190\ttotal: 997ms\tremaining: 553ms\n",
      "643:\tlearn: 0.0194929\ttotal: 998ms\tremaining: 552ms\n",
      "644:\tlearn: 0.0194837\ttotal: 1000ms\tremaining: 550ms\n",
      "645:\tlearn: 0.0194730\ttotal: 1s\tremaining: 549ms\n",
      "646:\tlearn: 0.0194603\ttotal: 1s\tremaining: 547ms\n",
      "647:\tlearn: 0.0194337\ttotal: 1s\tremaining: 545ms\n",
      "648:\tlearn: 0.0194236\ttotal: 1s\tremaining: 544ms\n",
      "649:\tlearn: 0.0193920\ttotal: 1s\tremaining: 542ms\n",
      "650:\tlearn: 0.0193817\ttotal: 1.01s\tremaining: 540ms\n",
      "651:\tlearn: 0.0193661\ttotal: 1.01s\tremaining: 539ms\n",
      "652:\tlearn: 0.0193398\ttotal: 1.01s\tremaining: 537ms\n",
      "653:\tlearn: 0.0193267\ttotal: 1.01s\tremaining: 535ms\n",
      "654:\tlearn: 0.0193080\ttotal: 1.01s\tremaining: 533ms\n",
      "655:\tlearn: 0.0192844\ttotal: 1.01s\tremaining: 531ms\n",
      "656:\tlearn: 0.0192660\ttotal: 1.01s\tremaining: 529ms\n",
      "657:\tlearn: 0.0192352\ttotal: 1.02s\tremaining: 528ms\n",
      "658:\tlearn: 0.0192149\ttotal: 1.02s\tremaining: 527ms\n",
      "659:\tlearn: 0.0192055\ttotal: 1.02s\tremaining: 525ms\n",
      "660:\tlearn: 0.0191959\ttotal: 1.02s\tremaining: 523ms\n",
      "661:\tlearn: 0.0191867\ttotal: 1.02s\tremaining: 521ms\n",
      "662:\tlearn: 0.0191786\ttotal: 1.02s\tremaining: 519ms\n",
      "663:\tlearn: 0.0191606\ttotal: 1.02s\tremaining: 517ms\n",
      "664:\tlearn: 0.0191477\ttotal: 1.02s\tremaining: 516ms\n",
      "665:\tlearn: 0.0191389\ttotal: 1.02s\tremaining: 514ms\n",
      "666:\tlearn: 0.0191168\ttotal: 1.02s\tremaining: 512ms\n",
      "667:\tlearn: 0.0190862\ttotal: 1.02s\tremaining: 510ms\n",
      "668:\tlearn: 0.0190751\ttotal: 1.03s\tremaining: 508ms\n",
      "669:\tlearn: 0.0190661\ttotal: 1.03s\tremaining: 506ms\n",
      "670:\tlearn: 0.0190486\ttotal: 1.03s\tremaining: 505ms\n",
      "671:\tlearn: 0.0190148\ttotal: 1.03s\tremaining: 503ms\n",
      "672:\tlearn: 0.0189835\ttotal: 1.03s\tremaining: 502ms\n",
      "673:\tlearn: 0.0189692\ttotal: 1.03s\tremaining: 500ms\n",
      "674:\tlearn: 0.0189403\ttotal: 1.03s\tremaining: 499ms\n",
      "675:\tlearn: 0.0189281\ttotal: 1.04s\tremaining: 497ms\n",
      "676:\tlearn: 0.0189136\ttotal: 1.04s\tremaining: 495ms\n"
     ]
    },
    {
     "name": "stdout",
     "output_type": "stream",
     "text": [
      "677:\tlearn: 0.0188995\ttotal: 1.04s\tremaining: 496ms\n",
      "678:\tlearn: 0.0188671\ttotal: 1.04s\tremaining: 494ms\n",
      "679:\tlearn: 0.0188405\ttotal: 1.04s\tremaining: 492ms\n",
      "680:\tlearn: 0.0188321\ttotal: 1.04s\tremaining: 490ms\n",
      "681:\tlearn: 0.0188020\ttotal: 1.05s\tremaining: 488ms\n",
      "682:\tlearn: 0.0187935\ttotal: 1.05s\tremaining: 486ms\n",
      "683:\tlearn: 0.0187725\ttotal: 1.05s\tremaining: 484ms\n",
      "684:\tlearn: 0.0187600\ttotal: 1.05s\tremaining: 482ms\n",
      "685:\tlearn: 0.0187437\ttotal: 1.05s\tremaining: 480ms\n",
      "686:\tlearn: 0.0187157\ttotal: 1.05s\tremaining: 478ms\n",
      "687:\tlearn: 0.0186881\ttotal: 1.05s\tremaining: 476ms\n",
      "688:\tlearn: 0.0186709\ttotal: 1.05s\tremaining: 474ms\n",
      "689:\tlearn: 0.0186461\ttotal: 1.05s\tremaining: 472ms\n",
      "690:\tlearn: 0.0186320\ttotal: 1.05s\tremaining: 470ms\n",
      "691:\tlearn: 0.0186114\ttotal: 1.05s\tremaining: 468ms\n",
      "692:\tlearn: 0.0186025\ttotal: 1.05s\tremaining: 466ms\n",
      "693:\tlearn: 0.0185490\ttotal: 1.05s\tremaining: 464ms\n",
      "694:\tlearn: 0.0185251\ttotal: 1.05s\tremaining: 463ms\n",
      "695:\tlearn: 0.0185047\ttotal: 1.05s\tremaining: 461ms\n",
      "696:\tlearn: 0.0184900\ttotal: 1.06s\tremaining: 461ms\n",
      "697:\tlearn: 0.0184818\ttotal: 1.06s\tremaining: 459ms\n",
      "698:\tlearn: 0.0184668\ttotal: 1.06s\tremaining: 457ms\n",
      "699:\tlearn: 0.0184572\ttotal: 1.06s\tremaining: 456ms\n",
      "700:\tlearn: 0.0184370\ttotal: 1.06s\tremaining: 454ms\n",
      "701:\tlearn: 0.0184193\ttotal: 1.06s\tremaining: 452ms\n",
      "702:\tlearn: 0.0183965\ttotal: 1.07s\tremaining: 451ms\n",
      "703:\tlearn: 0.0183850\ttotal: 1.07s\tremaining: 449ms\n",
      "704:\tlearn: 0.0183716\ttotal: 1.07s\tremaining: 447ms\n",
      "705:\tlearn: 0.0183514\ttotal: 1.07s\tremaining: 445ms\n",
      "706:\tlearn: 0.0183437\ttotal: 1.07s\tremaining: 443ms\n"
     ]
    },
    {
     "name": "stdout",
     "output_type": "stream",
     "text": [
      "707:\tlearn: 0.0183287\ttotal: 1.07s\tremaining: 441ms\n",
      "708:\tlearn: 0.0183087\ttotal: 1.07s\tremaining: 439ms\n",
      "709:\tlearn: 0.0182877\ttotal: 1.07s\tremaining: 438ms\n",
      "710:\tlearn: 0.0182768\ttotal: 1.07s\tremaining: 436ms\n",
      "711:\tlearn: 0.0182663\ttotal: 1.07s\tremaining: 435ms\n",
      "712:\tlearn: 0.0182496\ttotal: 1.07s\tremaining: 433ms\n",
      "713:\tlearn: 0.0182335\ttotal: 1.08s\tremaining: 431ms\n",
      "714:\tlearn: 0.0182131\ttotal: 1.08s\tremaining: 429ms\n",
      "715:\tlearn: 0.0181872\ttotal: 1.08s\tremaining: 428ms\n",
      "716:\tlearn: 0.0181569\ttotal: 1.08s\tremaining: 426ms\n",
      "717:\tlearn: 0.0181393\ttotal: 1.08s\tremaining: 424ms\n",
      "718:\tlearn: 0.0181137\ttotal: 1.08s\tremaining: 422ms\n",
      "719:\tlearn: 0.0180968\ttotal: 1.08s\tremaining: 420ms\n",
      "720:\tlearn: 0.0180750\ttotal: 1.08s\tremaining: 418ms\n",
      "721:\tlearn: 0.0180560\ttotal: 1.08s\tremaining: 416ms\n",
      "722:\tlearn: 0.0180255\ttotal: 1.08s\tremaining: 415ms\n",
      "723:\tlearn: 0.0179998\ttotal: 1.08s\tremaining: 413ms\n",
      "724:\tlearn: 0.0179840\ttotal: 1.09s\tremaining: 412ms\n",
      "725:\tlearn: 0.0179580\ttotal: 1.09s\tremaining: 411ms\n",
      "726:\tlearn: 0.0179453\ttotal: 1.09s\tremaining: 409ms\n",
      "727:\tlearn: 0.0179355\ttotal: 1.09s\tremaining: 407ms\n",
      "728:\tlearn: 0.0179182\ttotal: 1.09s\tremaining: 406ms\n",
      "729:\tlearn: 0.0179108\ttotal: 1.09s\tremaining: 404ms\n",
      "730:\tlearn: 0.0178893\ttotal: 1.09s\tremaining: 402ms\n",
      "731:\tlearn: 0.0178684\ttotal: 1.09s\tremaining: 400ms\n",
      "732:\tlearn: 0.0178536\ttotal: 1.09s\tremaining: 398ms\n",
      "733:\tlearn: 0.0178409\ttotal: 1.09s\tremaining: 396ms\n",
      "734:\tlearn: 0.0178313\ttotal: 1.09s\tremaining: 394ms\n",
      "735:\tlearn: 0.0178113\ttotal: 1.09s\tremaining: 393ms\n",
      "736:\tlearn: 0.0177987\ttotal: 1.09s\tremaining: 391ms\n",
      "737:\tlearn: 0.0177838\ttotal: 1.1s\tremaining: 389ms\n",
      "738:\tlearn: 0.0177401\ttotal: 1.1s\tremaining: 388ms\n",
      "739:\tlearn: 0.0177228\ttotal: 1.1s\tremaining: 386ms\n",
      "740:\tlearn: 0.0177162\ttotal: 1.1s\tremaining: 385ms\n",
      "741:\tlearn: 0.0176975\ttotal: 1.1s\tremaining: 383ms\n",
      "742:\tlearn: 0.0176905\ttotal: 1.1s\tremaining: 381ms\n",
      "743:\tlearn: 0.0176692\ttotal: 1.1s\tremaining: 380ms\n",
      "744:\tlearn: 0.0176633\ttotal: 1.1s\tremaining: 378ms\n",
      "745:\tlearn: 0.0176439\ttotal: 1.1s\tremaining: 376ms\n",
      "746:\tlearn: 0.0176375\ttotal: 1.12s\tremaining: 379ms\n",
      "747:\tlearn: 0.0176284\ttotal: 1.12s\tremaining: 377ms\n"
     ]
    },
    {
     "name": "stdout",
     "output_type": "stream",
     "text": [
      "748:\tlearn: 0.0176074\ttotal: 1.12s\tremaining: 376ms\n",
      "749:\tlearn: 0.0175875\ttotal: 1.12s\tremaining: 374ms\n",
      "750:\tlearn: 0.0175700\ttotal: 1.12s\tremaining: 373ms\n",
      "751:\tlearn: 0.0175527\ttotal: 1.12s\tremaining: 371ms\n",
      "752:\tlearn: 0.0175273\ttotal: 1.12s\tremaining: 369ms\n",
      "753:\tlearn: 0.0175038\ttotal: 1.12s\tremaining: 367ms\n",
      "754:\tlearn: 0.0174847\ttotal: 1.13s\tremaining: 366ms\n",
      "755:\tlearn: 0.0174602\ttotal: 1.13s\tremaining: 364ms\n",
      "756:\tlearn: 0.0174421\ttotal: 1.13s\tremaining: 363ms\n",
      "757:\tlearn: 0.0174333\ttotal: 1.13s\tremaining: 361ms\n",
      "758:\tlearn: 0.0174219\ttotal: 1.13s\tremaining: 359ms\n",
      "759:\tlearn: 0.0174159\ttotal: 1.13s\tremaining: 358ms\n",
      "760:\tlearn: 0.0174068\ttotal: 1.13s\tremaining: 356ms\n",
      "761:\tlearn: 0.0173859\ttotal: 1.13s\tremaining: 354ms\n",
      "762:\tlearn: 0.0173668\ttotal: 1.13s\tremaining: 352ms\n",
      "763:\tlearn: 0.0173586\ttotal: 1.14s\tremaining: 351ms\n",
      "764:\tlearn: 0.0173424\ttotal: 1.14s\tremaining: 349ms\n",
      "765:\tlearn: 0.0173168\ttotal: 1.14s\tremaining: 347ms\n",
      "766:\tlearn: 0.0173033\ttotal: 1.14s\tremaining: 345ms\n",
      "767:\tlearn: 0.0172879\ttotal: 1.14s\tremaining: 343ms\n",
      "768:\tlearn: 0.0172711\ttotal: 1.14s\tremaining: 342ms\n",
      "769:\tlearn: 0.0172646\ttotal: 1.14s\tremaining: 340ms\n",
      "770:\tlearn: 0.0172331\ttotal: 1.14s\tremaining: 338ms\n",
      "771:\tlearn: 0.0172274\ttotal: 1.14s\tremaining: 336ms\n",
      "772:\tlearn: 0.0172041\ttotal: 1.14s\tremaining: 334ms\n",
      "773:\tlearn: 0.0171917\ttotal: 1.14s\tremaining: 333ms\n",
      "774:\tlearn: 0.0171866\ttotal: 1.14s\tremaining: 331ms\n",
      "775:\tlearn: 0.0171823\ttotal: 1.14s\tremaining: 329ms\n",
      "776:\tlearn: 0.0171738\ttotal: 1.14s\tremaining: 328ms\n",
      "777:\tlearn: 0.0171598\ttotal: 1.14s\tremaining: 327ms\n",
      "778:\tlearn: 0.0171486\ttotal: 1.15s\tremaining: 325ms\n",
      "779:\tlearn: 0.0171276\ttotal: 1.15s\tremaining: 323ms\n",
      "780:\tlearn: 0.0171047\ttotal: 1.15s\tremaining: 322ms\n",
      "781:\tlearn: 0.0170938\ttotal: 1.15s\tremaining: 320ms\n",
      "782:\tlearn: 0.0170782\ttotal: 1.15s\tremaining: 318ms\n",
      "783:\tlearn: 0.0170499\ttotal: 1.15s\tremaining: 316ms\n",
      "784:\tlearn: 0.0170344\ttotal: 1.15s\tremaining: 315ms\n",
      "785:\tlearn: 0.0170118\ttotal: 1.15s\tremaining: 313ms\n",
      "786:\tlearn: 0.0169910\ttotal: 1.15s\tremaining: 311ms\n",
      "787:\tlearn: 0.0169781\ttotal: 1.15s\tremaining: 310ms\n",
      "788:\tlearn: 0.0169566\ttotal: 1.15s\tremaining: 308ms\n",
      "789:\tlearn: 0.0169307\ttotal: 1.15s\tremaining: 306ms\n",
      "790:\tlearn: 0.0169059\ttotal: 1.15s\tremaining: 305ms\n",
      "791:\tlearn: 0.0168914\ttotal: 1.15s\tremaining: 303ms\n",
      "792:\tlearn: 0.0168768\ttotal: 1.15s\tremaining: 301ms\n",
      "793:\tlearn: 0.0168629\ttotal: 1.16s\tremaining: 302ms\n",
      "794:\tlearn: 0.0168447\ttotal: 1.17s\tremaining: 300ms\n",
      "795:\tlearn: 0.0168384\ttotal: 1.17s\tremaining: 299ms\n",
      "796:\tlearn: 0.0168136\ttotal: 1.17s\tremaining: 298ms\n"
     ]
    },
    {
     "name": "stdout",
     "output_type": "stream",
     "text": [
      "797:\tlearn: 0.0167940\ttotal: 1.17s\tremaining: 296ms\n",
      "798:\tlearn: 0.0167802\ttotal: 1.17s\tremaining: 295ms\n",
      "799:\tlearn: 0.0167618\ttotal: 1.18s\tremaining: 294ms\n",
      "800:\tlearn: 0.0167487\ttotal: 1.18s\tremaining: 292ms\n",
      "801:\tlearn: 0.0167310\ttotal: 1.18s\tremaining: 290ms\n",
      "802:\tlearn: 0.0167175\ttotal: 1.18s\tremaining: 289ms\n",
      "803:\tlearn: 0.0167015\ttotal: 1.18s\tremaining: 287ms\n",
      "804:\tlearn: 0.0166868\ttotal: 1.18s\tremaining: 286ms\n",
      "805:\tlearn: 0.0166811\ttotal: 1.18s\tremaining: 284ms\n",
      "806:\tlearn: 0.0166674\ttotal: 1.18s\tremaining: 283ms\n",
      "807:\tlearn: 0.0166497\ttotal: 1.18s\tremaining: 281ms\n",
      "808:\tlearn: 0.0166305\ttotal: 1.18s\tremaining: 279ms\n",
      "809:\tlearn: 0.0166191\ttotal: 1.18s\tremaining: 278ms\n",
      "810:\tlearn: 0.0166061\ttotal: 1.18s\tremaining: 276ms\n",
      "811:\tlearn: 0.0165906\ttotal: 1.19s\tremaining: 274ms\n",
      "812:\tlearn: 0.0165802\ttotal: 1.19s\tremaining: 273ms\n",
      "813:\tlearn: 0.0165587\ttotal: 1.19s\tremaining: 271ms\n",
      "814:\tlearn: 0.0165417\ttotal: 1.19s\tremaining: 270ms\n",
      "815:\tlearn: 0.0165245\ttotal: 1.19s\tremaining: 268ms\n",
      "816:\tlearn: 0.0165199\ttotal: 1.19s\tremaining: 267ms\n",
      "817:\tlearn: 0.0165119\ttotal: 1.19s\tremaining: 265ms\n",
      "818:\tlearn: 0.0165079\ttotal: 1.19s\tremaining: 263ms\n",
      "819:\tlearn: 0.0164976\ttotal: 1.19s\tremaining: 262ms\n",
      "820:\tlearn: 0.0164780\ttotal: 1.19s\tremaining: 260ms\n",
      "821:\tlearn: 0.0164672\ttotal: 1.19s\tremaining: 259ms\n",
      "822:\tlearn: 0.0164399\ttotal: 1.19s\tremaining: 257ms\n",
      "823:\tlearn: 0.0164356\ttotal: 1.2s\tremaining: 255ms\n",
      "824:\tlearn: 0.0164321\ttotal: 1.2s\tremaining: 254ms\n",
      "825:\tlearn: 0.0164224\ttotal: 1.2s\tremaining: 252ms\n",
      "826:\tlearn: 0.0164077\ttotal: 1.2s\tremaining: 251ms\n",
      "827:\tlearn: 0.0164033\ttotal: 1.2s\tremaining: 249ms\n",
      "828:\tlearn: 0.0163777\ttotal: 1.2s\tremaining: 247ms\n",
      "829:\tlearn: 0.0163740\ttotal: 1.2s\tremaining: 246ms\n",
      "830:\tlearn: 0.0163541\ttotal: 1.2s\tremaining: 244ms\n",
      "831:\tlearn: 0.0163470\ttotal: 1.2s\tremaining: 243ms\n",
      "832:\tlearn: 0.0163339\ttotal: 1.2s\tremaining: 241ms\n",
      "833:\tlearn: 0.0163281\ttotal: 1.2s\tremaining: 239ms\n",
      "834:\tlearn: 0.0163225\ttotal: 1.2s\tremaining: 238ms\n",
      "835:\tlearn: 0.0163047\ttotal: 1.2s\tremaining: 236ms\n",
      "836:\tlearn: 0.0162889\ttotal: 1.2s\tremaining: 235ms\n",
      "837:\tlearn: 0.0162739\ttotal: 1.21s\tremaining: 233ms\n",
      "838:\tlearn: 0.0162585\ttotal: 1.21s\tremaining: 232ms\n",
      "839:\tlearn: 0.0162478\ttotal: 1.21s\tremaining: 230ms\n",
      "840:\tlearn: 0.0162326\ttotal: 1.21s\tremaining: 228ms\n",
      "841:\tlearn: 0.0162252\ttotal: 1.21s\tremaining: 227ms\n"
     ]
    },
    {
     "name": "stdout",
     "output_type": "stream",
     "text": [
      "842:\tlearn: 0.0162084\ttotal: 1.21s\tremaining: 226ms\n",
      "843:\tlearn: 0.0161933\ttotal: 1.21s\tremaining: 224ms\n",
      "844:\tlearn: 0.0161841\ttotal: 1.22s\tremaining: 223ms\n",
      "845:\tlearn: 0.0161683\ttotal: 1.22s\tremaining: 222ms\n",
      "846:\tlearn: 0.0161517\ttotal: 1.22s\tremaining: 220ms\n",
      "847:\tlearn: 0.0161419\ttotal: 1.22s\tremaining: 219ms\n",
      "848:\tlearn: 0.0161324\ttotal: 1.22s\tremaining: 217ms\n",
      "849:\tlearn: 0.0161145\ttotal: 1.22s\tremaining: 216ms\n",
      "850:\tlearn: 0.0161047\ttotal: 1.22s\tremaining: 214ms\n",
      "851:\tlearn: 0.0160767\ttotal: 1.22s\tremaining: 212ms\n",
      "852:\tlearn: 0.0160697\ttotal: 1.22s\tremaining: 211ms\n",
      "853:\tlearn: 0.0160560\ttotal: 1.22s\tremaining: 209ms\n",
      "854:\tlearn: 0.0160400\ttotal: 1.23s\tremaining: 208ms\n",
      "855:\tlearn: 0.0160282\ttotal: 1.23s\tremaining: 206ms\n",
      "856:\tlearn: 0.0160066\ttotal: 1.23s\tremaining: 205ms\n",
      "857:\tlearn: 0.0159978\ttotal: 1.23s\tremaining: 203ms\n",
      "858:\tlearn: 0.0159843\ttotal: 1.23s\tremaining: 201ms\n",
      "859:\tlearn: 0.0159692\ttotal: 1.23s\tremaining: 200ms\n",
      "860:\tlearn: 0.0159256\ttotal: 1.23s\tremaining: 198ms\n",
      "861:\tlearn: 0.0159138\ttotal: 1.23s\tremaining: 197ms\n",
      "862:\tlearn: 0.0159086\ttotal: 1.23s\tremaining: 195ms\n",
      "863:\tlearn: 0.0159016\ttotal: 1.23s\tremaining: 194ms\n",
      "864:\tlearn: 0.0158895\ttotal: 1.23s\tremaining: 192ms\n",
      "865:\tlearn: 0.0158793\ttotal: 1.23s\tremaining: 190ms\n",
      "866:\tlearn: 0.0158641\ttotal: 1.23s\tremaining: 189ms\n",
      "867:\tlearn: 0.0158532\ttotal: 1.23s\tremaining: 187ms\n",
      "868:\tlearn: 0.0158387\ttotal: 1.23s\tremaining: 186ms\n",
      "869:\tlearn: 0.0158263\ttotal: 1.23s\tremaining: 184ms\n",
      "870:\tlearn: 0.0158187\ttotal: 1.24s\tremaining: 183ms\n",
      "871:\tlearn: 0.0158080\ttotal: 1.24s\tremaining: 182ms\n",
      "872:\tlearn: 0.0157844\ttotal: 1.24s\tremaining: 181ms\n",
      "873:\tlearn: 0.0157563\ttotal: 1.25s\tremaining: 180ms\n",
      "874:\tlearn: 0.0157355\ttotal: 1.25s\tremaining: 179ms\n",
      "875:\tlearn: 0.0157242\ttotal: 1.25s\tremaining: 177ms\n",
      "876:\tlearn: 0.0157098\ttotal: 1.25s\tremaining: 176ms\n",
      "877:\tlearn: 0.0156973\ttotal: 1.25s\tremaining: 174ms\n",
      "878:\tlearn: 0.0156870\ttotal: 1.26s\tremaining: 173ms\n",
      "879:\tlearn: 0.0156791\ttotal: 1.26s\tremaining: 172ms\n",
      "880:\tlearn: 0.0156657\ttotal: 1.26s\tremaining: 171ms\n",
      "881:\tlearn: 0.0156557\ttotal: 1.26s\tremaining: 169ms\n",
      "882:\tlearn: 0.0156417\ttotal: 1.26s\tremaining: 168ms\n",
      "883:\tlearn: 0.0156289\ttotal: 1.26s\tremaining: 166ms\n"
     ]
    },
    {
     "name": "stdout",
     "output_type": "stream",
     "text": [
      "884:\tlearn: 0.0156172\ttotal: 1.27s\tremaining: 165ms\n",
      "885:\tlearn: 0.0156017\ttotal: 1.27s\tremaining: 164ms\n",
      "886:\tlearn: 0.0155970\ttotal: 1.27s\tremaining: 163ms\n",
      "887:\tlearn: 0.0155915\ttotal: 1.28s\tremaining: 162ms\n",
      "888:\tlearn: 0.0155727\ttotal: 1.28s\tremaining: 160ms\n",
      "889:\tlearn: 0.0155609\ttotal: 1.29s\tremaining: 159ms\n",
      "890:\tlearn: 0.0155433\ttotal: 1.29s\tremaining: 158ms\n",
      "891:\tlearn: 0.0155294\ttotal: 1.29s\tremaining: 156ms\n",
      "892:\tlearn: 0.0155160\ttotal: 1.29s\tremaining: 155ms\n",
      "893:\tlearn: 0.0155010\ttotal: 1.29s\tremaining: 154ms\n",
      "894:\tlearn: 0.0154893\ttotal: 1.3s\tremaining: 152ms\n",
      "895:\tlearn: 0.0154517\ttotal: 1.3s\tremaining: 151ms\n",
      "896:\tlearn: 0.0154468\ttotal: 1.3s\tremaining: 150ms\n",
      "897:\tlearn: 0.0154370\ttotal: 1.31s\tremaining: 149ms\n",
      "898:\tlearn: 0.0154161\ttotal: 1.31s\tremaining: 147ms\n",
      "899:\tlearn: 0.0154067\ttotal: 1.31s\tremaining: 146ms\n",
      "900:\tlearn: 0.0153874\ttotal: 1.31s\tremaining: 144ms\n",
      "901:\tlearn: 0.0153774\ttotal: 1.31s\tremaining: 143ms\n",
      "902:\tlearn: 0.0153737\ttotal: 1.31s\tremaining: 141ms\n",
      "903:\tlearn: 0.0153348\ttotal: 1.31s\tremaining: 140ms\n",
      "904:\tlearn: 0.0153267\ttotal: 1.31s\tremaining: 138ms\n",
      "905:\tlearn: 0.0153109\ttotal: 1.31s\tremaining: 137ms\n",
      "906:\tlearn: 0.0152752\ttotal: 1.32s\tremaining: 135ms\n",
      "907:\tlearn: 0.0152670\ttotal: 1.32s\tremaining: 133ms\n",
      "908:\tlearn: 0.0152526\ttotal: 1.32s\tremaining: 132ms\n",
      "909:\tlearn: 0.0152336\ttotal: 1.32s\tremaining: 130ms\n",
      "910:\tlearn: 0.0152232\ttotal: 1.32s\tremaining: 129ms\n",
      "911:\tlearn: 0.0152149\ttotal: 1.32s\tremaining: 127ms\n",
      "912:\tlearn: 0.0151958\ttotal: 1.32s\tremaining: 126ms\n",
      "913:\tlearn: 0.0151773\ttotal: 1.32s\tremaining: 124ms\n"
     ]
    },
    {
     "name": "stdout",
     "output_type": "stream",
     "text": [
      "914:\tlearn: 0.0151692\ttotal: 1.32s\tremaining: 123ms\n",
      "915:\tlearn: 0.0151567\ttotal: 1.32s\tremaining: 122ms\n",
      "916:\tlearn: 0.0151496\ttotal: 1.32s\tremaining: 120ms\n",
      "917:\tlearn: 0.0151376\ttotal: 1.32s\tremaining: 118ms\n",
      "918:\tlearn: 0.0151201\ttotal: 1.33s\tremaining: 117ms\n",
      "919:\tlearn: 0.0151077\ttotal: 1.33s\tremaining: 115ms\n",
      "920:\tlearn: 0.0150922\ttotal: 1.33s\tremaining: 114ms\n",
      "921:\tlearn: 0.0150852\ttotal: 1.33s\tremaining: 112ms\n",
      "922:\tlearn: 0.0150670\ttotal: 1.33s\tremaining: 111ms\n",
      "923:\tlearn: 0.0150550\ttotal: 1.33s\tremaining: 109ms\n",
      "924:\tlearn: 0.0150523\ttotal: 1.33s\tremaining: 108ms\n",
      "925:\tlearn: 0.0150434\ttotal: 1.33s\tremaining: 106ms\n",
      "926:\tlearn: 0.0150305\ttotal: 1.33s\tremaining: 105ms\n",
      "927:\tlearn: 0.0149970\ttotal: 1.33s\tremaining: 103ms\n",
      "928:\tlearn: 0.0149863\ttotal: 1.33s\tremaining: 102ms\n",
      "929:\tlearn: 0.0149741\ttotal: 1.33s\tremaining: 100ms\n",
      "930:\tlearn: 0.0149676\ttotal: 1.33s\tremaining: 98.8ms\n",
      "931:\tlearn: 0.0149577\ttotal: 1.33s\tremaining: 97.3ms\n",
      "932:\tlearn: 0.0149370\ttotal: 1.33s\tremaining: 95.8ms\n",
      "933:\tlearn: 0.0149283\ttotal: 1.33s\tremaining: 94.3ms\n",
      "934:\tlearn: 0.0149162\ttotal: 1.33s\tremaining: 92.8ms\n",
      "935:\tlearn: 0.0149116\ttotal: 1.33s\tremaining: 91.3ms\n",
      "936:\tlearn: 0.0148988\ttotal: 1.34s\tremaining: 89.9ms\n",
      "937:\tlearn: 0.0148905\ttotal: 1.34s\tremaining: 88.5ms\n",
      "938:\tlearn: 0.0148830\ttotal: 1.34s\tremaining: 87ms\n",
      "939:\tlearn: 0.0148738\ttotal: 1.34s\tremaining: 85.6ms\n",
      "940:\tlearn: 0.0148706\ttotal: 1.34s\tremaining: 84.1ms\n",
      "941:\tlearn: 0.0148648\ttotal: 1.34s\tremaining: 82.6ms\n",
      "942:\tlearn: 0.0148569\ttotal: 1.34s\tremaining: 81.1ms\n",
      "943:\tlearn: 0.0148480\ttotal: 1.34s\tremaining: 79.7ms\n",
      "944:\tlearn: 0.0148442\ttotal: 1.34s\tremaining: 78.3ms\n",
      "945:\tlearn: 0.0148354\ttotal: 1.35s\tremaining: 76.9ms\n",
      "946:\tlearn: 0.0148337\ttotal: 1.35s\tremaining: 75.5ms\n",
      "947:\tlearn: 0.0148287\ttotal: 1.35s\tremaining: 74ms\n",
      "948:\tlearn: 0.0148189\ttotal: 1.35s\tremaining: 72.6ms\n",
      "949:\tlearn: 0.0148092\ttotal: 1.35s\tremaining: 71.1ms\n",
      "950:\tlearn: 0.0147770\ttotal: 1.35s\tremaining: 69.7ms\n",
      "951:\tlearn: 0.0147558\ttotal: 1.35s\tremaining: 68.2ms\n",
      "952:\tlearn: 0.0147451\ttotal: 1.35s\tremaining: 66.8ms\n",
      "953:\tlearn: 0.0147301\ttotal: 1.35s\tremaining: 65.3ms\n"
     ]
    },
    {
     "name": "stdout",
     "output_type": "stream",
     "text": [
      "954:\tlearn: 0.0147207\ttotal: 1.36s\tremaining: 64ms\n",
      "955:\tlearn: 0.0147125\ttotal: 1.36s\tremaining: 62.6ms\n"
     ]
    },
    {
     "name": "stdout",
     "output_type": "stream",
     "text": [
      "956:\tlearn: 0.0147070\ttotal: 1.36s\tremaining: 62.6ms\n",
      "957:\tlearn: 0.0147016\ttotal: 1.36s\tremaining: 59.9ms\n",
      "958:\tlearn: 0.0146927\ttotal: 1.37s\tremaining: 58.5ms\n",
      "959:\tlearn: 0.0146802\ttotal: 1.37s\tremaining: 57ms\n",
      "960:\tlearn: 0.0146590\ttotal: 1.37s\tremaining: 55.5ms\n",
      "961:\tlearn: 0.0146496\ttotal: 1.37s\tremaining: 54.2ms\n",
      "962:\tlearn: 0.0146383\ttotal: 1.37s\tremaining: 52.8ms\n",
      "963:\tlearn: 0.0146209\ttotal: 1.37s\tremaining: 51.3ms\n",
      "964:\tlearn: 0.0146172\ttotal: 1.37s\tremaining: 49.8ms\n",
      "965:\tlearn: 0.0146040\ttotal: 1.37s\tremaining: 48.4ms\n",
      "966:\tlearn: 0.0145922\ttotal: 1.37s\tremaining: 46.9ms\n",
      "967:\tlearn: 0.0145832\ttotal: 1.38s\tremaining: 45.6ms\n",
      "968:\tlearn: 0.0145781\ttotal: 1.38s\tremaining: 44.1ms\n",
      "969:\tlearn: 0.0145647\ttotal: 1.38s\tremaining: 42.7ms\n",
      "970:\tlearn: 0.0145468\ttotal: 1.38s\tremaining: 41.3ms\n",
      "971:\tlearn: 0.0145362\ttotal: 1.38s\tremaining: 39.9ms\n"
     ]
    },
    {
     "name": "stdout",
     "output_type": "stream",
     "text": [
      "972:\tlearn: 0.0145268\ttotal: 1.39s\tremaining: 38.7ms\n",
      "973:\tlearn: 0.0145211\ttotal: 1.39s\tremaining: 37.2ms\n",
      "974:\tlearn: 0.0144956\ttotal: 1.39s\tremaining: 35.8ms\n",
      "975:\tlearn: 0.0144753\ttotal: 1.4s\tremaining: 34.4ms\n",
      "976:\tlearn: 0.0144624\ttotal: 1.4s\tremaining: 33.1ms\n",
      "977:\tlearn: 0.0144401\ttotal: 1.4s\tremaining: 31.6ms\n",
      "978:\tlearn: 0.0144381\ttotal: 1.4s\tremaining: 30.1ms\n",
      "979:\tlearn: 0.0144351\ttotal: 1.41s\tremaining: 28.8ms\n",
      "980:\tlearn: 0.0144264\ttotal: 1.42s\tremaining: 27.4ms\n",
      "981:\tlearn: 0.0144157\ttotal: 1.42s\tremaining: 26ms\n",
      "982:\tlearn: 0.0143963\ttotal: 1.42s\tremaining: 24.5ms\n",
      "983:\tlearn: 0.0143927\ttotal: 1.42s\tremaining: 23.1ms\n",
      "984:\tlearn: 0.0143897\ttotal: 1.42s\tremaining: 21.6ms\n",
      "985:\tlearn: 0.0143811\ttotal: 1.42s\tremaining: 20.2ms\n",
      "986:\tlearn: 0.0143734\ttotal: 1.42s\tremaining: 18.7ms\n",
      "987:\tlearn: 0.0143640\ttotal: 1.42s\tremaining: 17.3ms\n",
      "988:\tlearn: 0.0143560\ttotal: 1.42s\tremaining: 15.8ms\n",
      "989:\tlearn: 0.0143417\ttotal: 1.42s\tremaining: 14.4ms\n",
      "990:\tlearn: 0.0143374\ttotal: 1.43s\tremaining: 13ms\n",
      "991:\tlearn: 0.0143326\ttotal: 1.43s\tremaining: 11.5ms\n",
      "992:\tlearn: 0.0143199\ttotal: 1.43s\tremaining: 10.1ms\n",
      "993:\tlearn: 0.0143127\ttotal: 1.43s\tremaining: 8.62ms\n",
      "994:\tlearn: 0.0143065\ttotal: 1.43s\tremaining: 7.18ms\n",
      "995:\tlearn: 0.0142954\ttotal: 1.43s\tremaining: 5.74ms\n",
      "996:\tlearn: 0.0142874\ttotal: 1.43s\tremaining: 4.3ms\n",
      "997:\tlearn: 0.0142733\ttotal: 1.43s\tremaining: 2.86ms\n",
      "998:\tlearn: 0.0142542\ttotal: 1.43s\tremaining: 1.43ms\n",
      "999:\tlearn: 0.0142474\ttotal: 1.43s\tremaining: 0us\n",
      "Mean Absolute error 0.020001141911370125\n"
     ]
    },
    {
     "data": {
      "application/scrapbook.scrap.json+json": {
       "data": 0.020001141911370125,
       "encoder": "json",
       "name": "Catboost MAE",
       "version": 1
      }
     },
     "metadata": {
      "scrapbook": {
       "data": true,
       "display": false,
       "name": "Catboost MAE"
      }
     },
     "output_type": "display_data"
    },
    {
     "name": "stdout",
     "output_type": "stream",
     "text": [
      "Catboost MAE 0.020001141911370125\n"
     ]
    }
   ],
   "source": [
    "mae_cb = baselineModels.catboost(X_train,y_train,X_test,y_test)\n",
    "#Store MSE Value\n",
    "sb.glue(\"Catboost MAE\",mae_cb)\n",
    "print(\"Catboost MAE\",mae_cb)"
   ]
  },
  {
   "cell_type": "markdown",
   "id": "87a759c5",
   "metadata": {
    "papermill": {
     "duration": 0.036337,
     "end_time": "2022-07-24T10:17:31.614704",
     "exception": false,
     "start_time": "2022-07-24T10:17:31.578367",
     "status": "completed"
    },
    "tags": []
   },
   "source": [
    "# TabNet Regressor"
   ]
  },
  {
   "cell_type": "code",
   "execution_count": 7,
   "id": "90d120b8",
   "metadata": {
    "execution": {
     "iopub.execute_input": "2022-07-24T10:17:31.653845Z",
     "iopub.status.busy": "2022-07-24T10:17:31.653334Z",
     "iopub.status.idle": "2022-07-24T10:17:31.661018Z",
     "shell.execute_reply": "2022-07-24T10:17:31.659619Z"
    },
    "papermill": {
     "duration": 0.027474,
     "end_time": "2022-07-24T10:17:31.669696",
     "exception": false,
     "start_time": "2022-07-24T10:17:31.642222",
     "status": "completed"
    },
    "tags": []
   },
   "outputs": [],
   "source": [
    "n_epochs = 1000\n",
    "batch_size = 32"
   ]
  },
  {
   "cell_type": "code",
   "execution_count": 8,
   "id": "7cd17567",
   "metadata": {
    "execution": {
     "iopub.execute_input": "2022-07-24T10:17:31.776509Z",
     "iopub.status.busy": "2022-07-24T10:17:31.773449Z",
     "iopub.status.idle": "2022-07-24T10:21:18.411363Z",
     "shell.execute_reply": "2022-07-24T10:21:18.408553Z"
    },
    "papermill": {
     "duration": 226.73953,
     "end_time": "2022-07-24T10:21:18.437826",
     "exception": false,
     "start_time": "2022-07-24T10:17:31.698296",
     "status": "completed"
    },
    "tags": []
   },
   "outputs": [
    {
     "name": "stdout",
     "output_type": "stream",
     "text": [
      "Device used : cpu\n"
     ]
    },
    {
     "name": "stdout",
     "output_type": "stream",
     "text": [
      "epoch 0  | loss: 0.96082 | train_mse: 0.72091 | train_mae: 0.6616  |  0:00:04s\n"
     ]
    },
    {
     "name": "stdout",
     "output_type": "stream",
     "text": [
      "epoch 1  | loss: 0.37202 | train_mse: 0.35232 | train_mae: 0.45818 |  0:00:05s\n"
     ]
    },
    {
     "name": "stdout",
     "output_type": "stream",
     "text": [
      "epoch 2  | loss: 0.28843 | train_mse: 0.27699 | train_mae: 0.40499 |  0:00:06s\n"
     ]
    },
    {
     "name": "stdout",
     "output_type": "stream",
     "text": [
      "epoch 3  | loss: 0.24659 | train_mse: 0.1775  | train_mae: 0.31147 |  0:00:06s\n"
     ]
    },
    {
     "name": "stdout",
     "output_type": "stream",
     "text": [
      "epoch 4  | loss: 0.20542 | train_mse: 0.17896 | train_mae: 0.31476 |  0:00:07s\n"
     ]
    },
    {
     "name": "stdout",
     "output_type": "stream",
     "text": [
      "epoch 5  | loss: 0.17342 | train_mse: 0.14471 | train_mae: 0.29968 |  0:00:07s\n"
     ]
    },
    {
     "name": "stdout",
     "output_type": "stream",
     "text": [
      "epoch 6  | loss: 0.17332 | train_mse: 0.12007 | train_mae: 0.26895 |  0:00:08s\n"
     ]
    },
    {
     "name": "stdout",
     "output_type": "stream",
     "text": [
      "epoch 7  | loss: 0.15539 | train_mse: 0.11659 | train_mae: 0.25782 |  0:00:08s\n"
     ]
    },
    {
     "name": "stdout",
     "output_type": "stream",
     "text": [
      "epoch 8  | loss: 0.16357 | train_mse: 0.09996 | train_mae: 0.23207 |  0:00:09s\n"
     ]
    },
    {
     "name": "stdout",
     "output_type": "stream",
     "text": [
      "epoch 9  | loss: 0.13013 | train_mse: 0.08339 | train_mae: 0.20711 |  0:00:11s\n"
     ]
    },
    {
     "name": "stdout",
     "output_type": "stream",
     "text": [
      "epoch 10 | loss: 0.14131 | train_mse: 0.07887 | train_mae: 0.20419 |  0:00:11s\n"
     ]
    },
    {
     "name": "stdout",
     "output_type": "stream",
     "text": [
      "epoch 11 | loss: 0.12278 | train_mse: 0.09789 | train_mae: 0.22264 |  0:00:11s\n"
     ]
    },
    {
     "name": "stdout",
     "output_type": "stream",
     "text": [
      "epoch 12 | loss: 0.10263 | train_mse: 0.07228 | train_mae: 0.19296 |  0:00:12s\n"
     ]
    },
    {
     "name": "stdout",
     "output_type": "stream",
     "text": [
      "epoch 13 | loss: 0.10838 | train_mse: 0.08092 | train_mae: 0.21462 |  0:00:12s\n"
     ]
    },
    {
     "name": "stdout",
     "output_type": "stream",
     "text": [
      "epoch 14 | loss: 0.12214 | train_mse: 0.06898 | train_mae: 0.19445 |  0:00:13s\n"
     ]
    },
    {
     "name": "stdout",
     "output_type": "stream",
     "text": [
      "epoch 15 | loss: 0.10101 | train_mse: 0.06743 | train_mae: 0.19816 |  0:00:14s\n"
     ]
    },
    {
     "name": "stdout",
     "output_type": "stream",
     "text": [
      "epoch 16 | loss: 0.10824 | train_mse: 0.0605  | train_mae: 0.17473 |  0:00:14s\n"
     ]
    },
    {
     "name": "stdout",
     "output_type": "stream",
     "text": [
      "epoch 17 | loss: 0.1077  | train_mse: 0.05422 | train_mae: 0.16734 |  0:00:14s\n"
     ]
    },
    {
     "name": "stdout",
     "output_type": "stream",
     "text": [
      "epoch 18 | loss: 0.11281 | train_mse: 0.06667 | train_mae: 0.19018 |  0:00:15s\n"
     ]
    },
    {
     "name": "stdout",
     "output_type": "stream",
     "text": [
      "epoch 19 | loss: 0.09655 | train_mse: 0.05395 | train_mae: 0.17314 |  0:00:16s\n"
     ]
    },
    {
     "name": "stdout",
     "output_type": "stream",
     "text": [
      "epoch 20 | loss: 0.1017  | train_mse: 0.06553 | train_mae: 0.19552 |  0:00:16s\n"
     ]
    },
    {
     "name": "stdout",
     "output_type": "stream",
     "text": [
      "epoch 21 | loss: 0.08075 | train_mse: 0.07214 | train_mae: 0.21849 |  0:00:17s\n"
     ]
    },
    {
     "name": "stdout",
     "output_type": "stream",
     "text": [
      "epoch 22 | loss: 0.09754 | train_mse: 0.04726 | train_mae: 0.16512 |  0:00:17s\n"
     ]
    },
    {
     "name": "stdout",
     "output_type": "stream",
     "text": [
      "epoch 23 | loss: 0.09618 | train_mse: 0.04566 | train_mae: 0.15836 |  0:00:18s\n"
     ]
    },
    {
     "name": "stdout",
     "output_type": "stream",
     "text": [
      "epoch 24 | loss: 0.08525 | train_mse: 0.04405 | train_mae: 0.15883 |  0:00:19s\n"
     ]
    },
    {
     "name": "stdout",
     "output_type": "stream",
     "text": [
      "epoch 25 | loss: 0.07483 | train_mse: 0.05716 | train_mae: 0.17088 |  0:00:19s\n"
     ]
    },
    {
     "name": "stdout",
     "output_type": "stream",
     "text": [
      "epoch 26 | loss: 0.07094 | train_mse: 0.07384 | train_mae: 0.19976 |  0:00:20s\n"
     ]
    },
    {
     "name": "stdout",
     "output_type": "stream",
     "text": [
      "epoch 27 | loss: 0.07036 | train_mse: 0.05837 | train_mae: 0.18267 |  0:00:20s\n"
     ]
    },
    {
     "name": "stdout",
     "output_type": "stream",
     "text": [
      "epoch 28 | loss: 0.09441 | train_mse: 0.07609 | train_mae: 0.21876 |  0:00:21s\n"
     ]
    },
    {
     "name": "stdout",
     "output_type": "stream",
     "text": [
      "epoch 29 | loss: 0.08017 | train_mse: 0.04901 | train_mae: 0.16746 |  0:00:22s\n"
     ]
    },
    {
     "name": "stdout",
     "output_type": "stream",
     "text": [
      "epoch 30 | loss: 0.08464 | train_mse: 0.03621 | train_mae: 0.14069 |  0:00:23s\n"
     ]
    },
    {
     "name": "stdout",
     "output_type": "stream",
     "text": [
      "epoch 31 | loss: 0.06861 | train_mse: 0.03239 | train_mae: 0.13359 |  0:00:23s\n"
     ]
    },
    {
     "name": "stdout",
     "output_type": "stream",
     "text": [
      "epoch 32 | loss: 0.06385 | train_mse: 0.03342 | train_mae: 0.13668 |  0:00:24s\n"
     ]
    },
    {
     "name": "stdout",
     "output_type": "stream",
     "text": [
      "epoch 33 | loss: 0.07258 | train_mse: 0.03388 | train_mae: 0.13307 |  0:00:24s\n"
     ]
    },
    {
     "name": "stdout",
     "output_type": "stream",
     "text": [
      "epoch 34 | loss: 0.05549 | train_mse: 0.03303 | train_mae: 0.14276 |  0:00:25s\n"
     ]
    },
    {
     "name": "stdout",
     "output_type": "stream",
     "text": [
      "epoch 35 | loss: 0.05271 | train_mse: 0.03816 | train_mae: 0.14161 |  0:00:25s\n"
     ]
    },
    {
     "name": "stdout",
     "output_type": "stream",
     "text": [
      "epoch 36 | loss: 0.0563  | train_mse: 0.03724 | train_mae: 0.14596 |  0:00:25s\n"
     ]
    },
    {
     "name": "stdout",
     "output_type": "stream",
     "text": [
      "epoch 37 | loss: 0.06772 | train_mse: 0.04165 | train_mae: 0.15795 |  0:00:26s\n"
     ]
    },
    {
     "name": "stdout",
     "output_type": "stream",
     "text": [
      "epoch 38 | loss: 0.06848 | train_mse: 0.0395  | train_mae: 0.14656 |  0:00:26s\n"
     ]
    },
    {
     "name": "stdout",
     "output_type": "stream",
     "text": [
      "epoch 39 | loss: 0.06716 | train_mse: 0.02351 | train_mae: 0.11815 |  0:00:27s\n"
     ]
    },
    {
     "name": "stdout",
     "output_type": "stream",
     "text": [
      "epoch 40 | loss: 0.04671 | train_mse: 0.02614 | train_mae: 0.12414 |  0:00:27s\n"
     ]
    },
    {
     "name": "stdout",
     "output_type": "stream",
     "text": [
      "epoch 41 | loss: 0.07098 | train_mse: 0.02668 | train_mae: 0.11997 |  0:00:28s\n"
     ]
    },
    {
     "name": "stdout",
     "output_type": "stream",
     "text": [
      "epoch 42 | loss: 0.06109 | train_mse: 0.03052 | train_mae: 0.13908 |  0:00:28s\n"
     ]
    },
    {
     "name": "stdout",
     "output_type": "stream",
     "text": [
      "epoch 43 | loss: 0.05989 | train_mse: 0.03057 | train_mae: 0.14456 |  0:00:29s\n"
     ]
    },
    {
     "name": "stdout",
     "output_type": "stream",
     "text": [
      "epoch 44 | loss: 0.04431 | train_mse: 0.02843 | train_mae: 0.1206  |  0:00:29s\n"
     ]
    },
    {
     "name": "stdout",
     "output_type": "stream",
     "text": [
      "epoch 45 | loss: 0.07017 | train_mse: 0.02682 | train_mae: 0.12504 |  0:00:30s\n"
     ]
    },
    {
     "name": "stdout",
     "output_type": "stream",
     "text": [
      "epoch 46 | loss: 0.06445 | train_mse: 0.02746 | train_mae: 0.12551 |  0:00:31s\n"
     ]
    },
    {
     "name": "stdout",
     "output_type": "stream",
     "text": [
      "epoch 47 | loss: 0.07805 | train_mse: 0.02279 | train_mae: 0.11371 |  0:00:32s\n"
     ]
    },
    {
     "name": "stdout",
     "output_type": "stream",
     "text": [
      "epoch 48 | loss: 0.05517 | train_mse: 0.02895 | train_mae: 0.12743 |  0:00:32s\n"
     ]
    },
    {
     "name": "stdout",
     "output_type": "stream",
     "text": [
      "epoch 49 | loss: 0.06082 | train_mse: 0.02155 | train_mae: 0.10692 |  0:00:33s\n"
     ]
    },
    {
     "name": "stdout",
     "output_type": "stream",
     "text": [
      "epoch 50 | loss: 0.04419 | train_mse: 0.0325  | train_mae: 0.13045 |  0:00:34s\n"
     ]
    },
    {
     "name": "stdout",
     "output_type": "stream",
     "text": [
      "epoch 51 | loss: 0.03872 | train_mse: 0.03353 | train_mae: 0.14614 |  0:00:35s\n"
     ]
    },
    {
     "name": "stdout",
     "output_type": "stream",
     "text": [
      "epoch 52 | loss: 0.06861 | train_mse: 0.02152 | train_mae: 0.10878 |  0:00:36s\n"
     ]
    },
    {
     "name": "stdout",
     "output_type": "stream",
     "text": [
      "epoch 53 | loss: 0.06042 | train_mse: 0.02647 | train_mae: 0.13111 |  0:00:37s\n"
     ]
    },
    {
     "name": "stdout",
     "output_type": "stream",
     "text": [
      "epoch 54 | loss: 0.048   | train_mse: 0.02204 | train_mae: 0.1074  |  0:00:37s\n"
     ]
    },
    {
     "name": "stdout",
     "output_type": "stream",
     "text": [
      "epoch 55 | loss: 0.05957 | train_mse: 0.03393 | train_mae: 0.13086 |  0:00:38s\n"
     ]
    },
    {
     "name": "stdout",
     "output_type": "stream",
     "text": [
      "epoch 56 | loss: 0.04541 | train_mse: 0.02393 | train_mae: 0.11445 |  0:00:39s\n"
     ]
    },
    {
     "name": "stdout",
     "output_type": "stream",
     "text": [
      "epoch 57 | loss: 0.05181 | train_mse: 0.01652 | train_mae: 0.09319 |  0:00:40s\n"
     ]
    },
    {
     "name": "stdout",
     "output_type": "stream",
     "text": [
      "epoch 58 | loss: 0.05239 | train_mse: 0.01871 | train_mae: 0.10183 |  0:00:41s\n"
     ]
    },
    {
     "name": "stdout",
     "output_type": "stream",
     "text": [
      "epoch 59 | loss: 0.0555  | train_mse: 0.01822 | train_mae: 0.10372 |  0:00:42s\n"
     ]
    },
    {
     "name": "stdout",
     "output_type": "stream",
     "text": [
      "epoch 60 | loss: 0.04488 | train_mse: 0.01398 | train_mae: 0.08583 |  0:00:43s\n"
     ]
    },
    {
     "name": "stdout",
     "output_type": "stream",
     "text": [
      "epoch 61 | loss: 0.03627 | train_mse: 0.01474 | train_mae: 0.09075 |  0:00:44s\n"
     ]
    },
    {
     "name": "stdout",
     "output_type": "stream",
     "text": [
      "epoch 62 | loss: 0.03958 | train_mse: 0.02112 | train_mae: 0.10794 |  0:00:45s\n"
     ]
    },
    {
     "name": "stdout",
     "output_type": "stream",
     "text": [
      "epoch 63 | loss: 0.04614 | train_mse: 0.0177  | train_mae: 0.09333 |  0:00:46s\n"
     ]
    },
    {
     "name": "stdout",
     "output_type": "stream",
     "text": [
      "epoch 64 | loss: 0.03677 | train_mse: 0.01269 | train_mae: 0.0817  |  0:00:46s\n"
     ]
    },
    {
     "name": "stdout",
     "output_type": "stream",
     "text": [
      "epoch 65 | loss: 0.03911 | train_mse: 0.01822 | train_mae: 0.1005  |  0:00:47s\n"
     ]
    },
    {
     "name": "stdout",
     "output_type": "stream",
     "text": [
      "epoch 66 | loss: 0.04966 | train_mse: 0.02485 | train_mae: 0.11669 |  0:00:47s\n"
     ]
    },
    {
     "name": "stdout",
     "output_type": "stream",
     "text": [
      "epoch 67 | loss: 0.05414 | train_mse: 0.01519 | train_mae: 0.0905  |  0:00:48s\n"
     ]
    },
    {
     "name": "stdout",
     "output_type": "stream",
     "text": [
      "epoch 68 | loss: 0.03052 | train_mse: 0.01467 | train_mae: 0.08644 |  0:00:48s\n"
     ]
    },
    {
     "name": "stdout",
     "output_type": "stream",
     "text": [
      "epoch 69 | loss: 0.03501 | train_mse: 0.01302 | train_mae: 0.08716 |  0:00:49s\n"
     ]
    },
    {
     "name": "stdout",
     "output_type": "stream",
     "text": [
      "epoch 70 | loss: 0.02828 | train_mse: 0.01236 | train_mae: 0.08604 |  0:00:51s\n"
     ]
    },
    {
     "name": "stdout",
     "output_type": "stream",
     "text": [
      "epoch 71 | loss: 0.03676 | train_mse: 0.01165 | train_mae: 0.07961 |  0:00:52s\n"
     ]
    },
    {
     "name": "stdout",
     "output_type": "stream",
     "text": [
      "epoch 72 | loss: 0.04373 | train_mse: 0.01452 | train_mae: 0.0953  |  0:00:52s\n"
     ]
    },
    {
     "name": "stdout",
     "output_type": "stream",
     "text": [
      "epoch 73 | loss: 0.02956 | train_mse: 0.00979 | train_mae: 0.07454 |  0:00:53s\n"
     ]
    },
    {
     "name": "stdout",
     "output_type": "stream",
     "text": [
      "epoch 74 | loss: 0.0374  | train_mse: 0.02175 | train_mae: 0.09648 |  0:00:54s\n"
     ]
    },
    {
     "name": "stdout",
     "output_type": "stream",
     "text": [
      "epoch 75 | loss: 0.03203 | train_mse: 0.01293 | train_mae: 0.08336 |  0:00:55s\n"
     ]
    },
    {
     "name": "stdout",
     "output_type": "stream",
     "text": [
      "epoch 76 | loss: 0.02598 | train_mse: 0.01611 | train_mae: 0.09352 |  0:00:56s\n"
     ]
    },
    {
     "name": "stdout",
     "output_type": "stream",
     "text": [
      "epoch 77 | loss: 0.02925 | train_mse: 0.00943 | train_mae: 0.07569 |  0:00:56s\n"
     ]
    },
    {
     "name": "stdout",
     "output_type": "stream",
     "text": [
      "epoch 78 | loss: 0.03242 | train_mse: 0.01081 | train_mae: 0.08277 |  0:00:57s\n"
     ]
    },
    {
     "name": "stdout",
     "output_type": "stream",
     "text": [
      "epoch 79 | loss: 0.04914 | train_mse: 0.0109  | train_mae: 0.08521 |  0:00:58s\n"
     ]
    },
    {
     "name": "stdout",
     "output_type": "stream",
     "text": [
      "epoch 80 | loss: 0.03272 | train_mse: 0.0093  | train_mae: 0.06947 |  0:00:59s\n"
     ]
    },
    {
     "name": "stdout",
     "output_type": "stream",
     "text": [
      "epoch 81 | loss: 0.02719 | train_mse: 0.01257 | train_mae: 0.07548 |  0:01:00s\n"
     ]
    },
    {
     "name": "stdout",
     "output_type": "stream",
     "text": [
      "epoch 82 | loss: 0.04948 | train_mse: 0.00865 | train_mae: 0.06865 |  0:01:02s\n"
     ]
    },
    {
     "name": "stdout",
     "output_type": "stream",
     "text": [
      "epoch 83 | loss: 0.04144 | train_mse: 0.02116 | train_mae: 0.10941 |  0:01:02s\n"
     ]
    },
    {
     "name": "stdout",
     "output_type": "stream",
     "text": [
      "epoch 84 | loss: 0.04438 | train_mse: 0.00955 | train_mae: 0.07087 |  0:01:03s\n"
     ]
    },
    {
     "name": "stdout",
     "output_type": "stream",
     "text": [
      "epoch 85 | loss: 0.03605 | train_mse: 0.02212 | train_mae: 0.1222  |  0:01:04s\n"
     ]
    },
    {
     "name": "stdout",
     "output_type": "stream",
     "text": [
      "epoch 86 | loss: 0.03329 | train_mse: 0.02035 | train_mae: 0.11703 |  0:01:06s\n"
     ]
    },
    {
     "name": "stdout",
     "output_type": "stream",
     "text": [
      "epoch 87 | loss: 0.05478 | train_mse: 0.01465 | train_mae: 0.09059 |  0:01:06s\n"
     ]
    },
    {
     "name": "stdout",
     "output_type": "stream",
     "text": [
      "epoch 88 | loss: 0.03772 | train_mse: 0.00751 | train_mae: 0.06311 |  0:01:08s\n"
     ]
    },
    {
     "name": "stdout",
     "output_type": "stream",
     "text": [
      "epoch 89 | loss: 0.0254  | train_mse: 0.01426 | train_mae: 0.10009 |  0:01:10s\n"
     ]
    },
    {
     "name": "stdout",
     "output_type": "stream",
     "text": [
      "epoch 90 | loss: 0.02765 | train_mse: 0.01812 | train_mae: 0.10677 |  0:01:11s\n"
     ]
    },
    {
     "name": "stdout",
     "output_type": "stream",
     "text": [
      "epoch 91 | loss: 0.03434 | train_mse: 0.01226 | train_mae: 0.08817 |  0:01:12s\n"
     ]
    },
    {
     "name": "stdout",
     "output_type": "stream",
     "text": [
      "epoch 92 | loss: 0.02794 | train_mse: 0.0156  | train_mae: 0.09844 |  0:01:12s\n"
     ]
    },
    {
     "name": "stdout",
     "output_type": "stream",
     "text": [
      "epoch 93 | loss: 0.02969 | train_mse: 0.00973 | train_mae: 0.07477 |  0:01:13s\n"
     ]
    },
    {
     "name": "stdout",
     "output_type": "stream",
     "text": [
      "epoch 94 | loss: 0.02779 | train_mse: 0.0114  | train_mae: 0.07316 |  0:01:14s\n"
     ]
    },
    {
     "name": "stdout",
     "output_type": "stream",
     "text": [
      "epoch 95 | loss: 0.02893 | train_mse: 0.0074  | train_mae: 0.063   |  0:01:15s\n"
     ]
    },
    {
     "name": "stdout",
     "output_type": "stream",
     "text": [
      "epoch 96 | loss: 0.02115 | train_mse: 0.00769 | train_mae: 0.06264 |  0:01:16s\n"
     ]
    },
    {
     "name": "stdout",
     "output_type": "stream",
     "text": [
      "epoch 97 | loss: 0.01934 | train_mse: 0.01034 | train_mae: 0.07592 |  0:01:17s\n"
     ]
    },
    {
     "name": "stdout",
     "output_type": "stream",
     "text": [
      "epoch 98 | loss: 0.02374 | train_mse: 0.01638 | train_mae: 0.08845 |  0:01:17s\n"
     ]
    },
    {
     "name": "stdout",
     "output_type": "stream",
     "text": [
      "epoch 99 | loss: 0.02613 | train_mse: 0.00673 | train_mae: 0.06135 |  0:01:18s\n"
     ]
    },
    {
     "name": "stdout",
     "output_type": "stream",
     "text": [
      "epoch 100| loss: 0.02653 | train_mse: 0.00695 | train_mae: 0.06442 |  0:01:18s\n"
     ]
    },
    {
     "name": "stdout",
     "output_type": "stream",
     "text": [
      "epoch 101| loss: 0.02108 | train_mse: 0.01338 | train_mae: 0.08528 |  0:01:19s\n"
     ]
    },
    {
     "name": "stdout",
     "output_type": "stream",
     "text": [
      "epoch 102| loss: 0.03177 | train_mse: 0.0058  | train_mae: 0.05932 |  0:01:19s\n"
     ]
    },
    {
     "name": "stdout",
     "output_type": "stream",
     "text": [
      "epoch 103| loss: 0.04606 | train_mse: 0.01579 | train_mae: 0.10635 |  0:01:22s\n"
     ]
    },
    {
     "name": "stdout",
     "output_type": "stream",
     "text": [
      "epoch 104| loss: 0.0339  | train_mse: 0.01396 | train_mae: 0.09333 |  0:01:23s\n"
     ]
    },
    {
     "name": "stdout",
     "output_type": "stream",
     "text": [
      "epoch 105| loss: 0.03134 | train_mse: 0.01136 | train_mae: 0.08161 |  0:01:23s\n"
     ]
    },
    {
     "name": "stdout",
     "output_type": "stream",
     "text": [
      "epoch 106| loss: 0.03178 | train_mse: 0.01459 | train_mae: 0.089   |  0:01:24s\n"
     ]
    },
    {
     "name": "stdout",
     "output_type": "stream",
     "text": [
      "epoch 107| loss: 0.04158 | train_mse: 0.01111 | train_mae: 0.08753 |  0:01:24s\n"
     ]
    },
    {
     "name": "stdout",
     "output_type": "stream",
     "text": [
      "epoch 108| loss: 0.01973 | train_mse: 0.00638 | train_mae: 0.06143 |  0:01:25s\n"
     ]
    },
    {
     "name": "stdout",
     "output_type": "stream",
     "text": [
      "epoch 109| loss: 0.02218 | train_mse: 0.01244 | train_mae: 0.08182 |  0:01:25s\n"
     ]
    },
    {
     "name": "stdout",
     "output_type": "stream",
     "text": [
      "epoch 110| loss: 0.02475 | train_mse: 0.011   | train_mae: 0.08272 |  0:01:26s\n"
     ]
    },
    {
     "name": "stdout",
     "output_type": "stream",
     "text": [
      "epoch 111| loss: 0.0354  | train_mse: 0.00571 | train_mae: 0.0553  |  0:01:26s\n"
     ]
    },
    {
     "name": "stdout",
     "output_type": "stream",
     "text": [
      "epoch 112| loss: 0.02794 | train_mse: 0.01072 | train_mae: 0.07614 |  0:01:27s\n"
     ]
    },
    {
     "name": "stdout",
     "output_type": "stream",
     "text": [
      "epoch 113| loss: 0.02052 | train_mse: 0.01729 | train_mae: 0.11537 |  0:01:27s\n"
     ]
    },
    {
     "name": "stdout",
     "output_type": "stream",
     "text": [
      "epoch 114| loss: 0.03042 | train_mse: 0.01103 | train_mae: 0.08527 |  0:01:28s\n"
     ]
    },
    {
     "name": "stdout",
     "output_type": "stream",
     "text": [
      "epoch 115| loss: 0.0283  | train_mse: 0.01379 | train_mae: 0.07945 |  0:01:29s\n"
     ]
    },
    {
     "name": "stdout",
     "output_type": "stream",
     "text": [
      "epoch 116| loss: 0.0242  | train_mse: 0.01482 | train_mae: 0.08841 |  0:01:30s\n"
     ]
    },
    {
     "name": "stdout",
     "output_type": "stream",
     "text": [
      "epoch 117| loss: 0.01917 | train_mse: 0.00745 | train_mae: 0.06361 |  0:01:32s\n"
     ]
    },
    {
     "name": "stdout",
     "output_type": "stream",
     "text": [
      "epoch 118| loss: 0.0326  | train_mse: 0.01044 | train_mae: 0.08573 |  0:01:33s\n"
     ]
    },
    {
     "name": "stdout",
     "output_type": "stream",
     "text": [
      "epoch 119| loss: 0.01859 | train_mse: 0.01101 | train_mae: 0.06675 |  0:01:34s\n"
     ]
    },
    {
     "name": "stdout",
     "output_type": "stream",
     "text": [
      "epoch 120| loss: 0.02075 | train_mse: 0.02195 | train_mae: 0.11309 |  0:01:34s\n"
     ]
    },
    {
     "name": "stdout",
     "output_type": "stream",
     "text": [
      "epoch 121| loss: 0.03496 | train_mse: 0.01048 | train_mae: 0.078   |  0:01:35s\n"
     ]
    },
    {
     "name": "stdout",
     "output_type": "stream",
     "text": [
      "epoch 122| loss: 0.02271 | train_mse: 0.00637 | train_mae: 0.05957 |  0:01:36s\n"
     ]
    },
    {
     "name": "stdout",
     "output_type": "stream",
     "text": [
      "epoch 123| loss: 0.02112 | train_mse: 0.0094  | train_mae: 0.06416 |  0:01:37s\n"
     ]
    },
    {
     "name": "stdout",
     "output_type": "stream",
     "text": [
      "epoch 124| loss: 0.03072 | train_mse: 0.00922 | train_mae: 0.08207 |  0:01:38s\n"
     ]
    },
    {
     "name": "stdout",
     "output_type": "stream",
     "text": [
      "epoch 125| loss: 0.03917 | train_mse: 0.01435 | train_mae: 0.08941 |  0:01:39s\n"
     ]
    },
    {
     "name": "stdout",
     "output_type": "stream",
     "text": [
      "epoch 126| loss: 0.02871 | train_mse: 0.01274 | train_mae: 0.08957 |  0:01:39s\n"
     ]
    },
    {
     "name": "stdout",
     "output_type": "stream",
     "text": [
      "epoch 127| loss: 0.03297 | train_mse: 0.01591 | train_mae: 0.09492 |  0:01:40s\n"
     ]
    },
    {
     "name": "stdout",
     "output_type": "stream",
     "text": [
      "epoch 128| loss: 0.03474 | train_mse: 0.01047 | train_mae: 0.07962 |  0:01:41s\n"
     ]
    },
    {
     "name": "stdout",
     "output_type": "stream",
     "text": [
      "epoch 129| loss: 0.0204  | train_mse: 0.0091  | train_mae: 0.0685  |  0:01:42s\n"
     ]
    },
    {
     "name": "stdout",
     "output_type": "stream",
     "text": [
      "epoch 130| loss: 0.0249  | train_mse: 0.01064 | train_mae: 0.0799  |  0:01:42s\n"
     ]
    },
    {
     "name": "stdout",
     "output_type": "stream",
     "text": [
      "epoch 131| loss: 0.02099 | train_mse: 0.00854 | train_mae: 0.06946 |  0:01:43s\n"
     ]
    },
    {
     "name": "stdout",
     "output_type": "stream",
     "text": [
      "epoch 132| loss: 0.01901 | train_mse: 0.00648 | train_mae: 0.06092 |  0:01:44s\n"
     ]
    },
    {
     "name": "stdout",
     "output_type": "stream",
     "text": [
      "epoch 133| loss: 0.01955 | train_mse: 0.00557 | train_mae: 0.05858 |  0:01:44s\n"
     ]
    },
    {
     "name": "stdout",
     "output_type": "stream",
     "text": [
      "epoch 134| loss: 0.02381 | train_mse: 0.00828 | train_mae: 0.06624 |  0:01:45s\n"
     ]
    },
    {
     "name": "stdout",
     "output_type": "stream",
     "text": [
      "epoch 135| loss: 0.01931 | train_mse: 0.00735 | train_mae: 0.06521 |  0:01:46s\n"
     ]
    },
    {
     "name": "stdout",
     "output_type": "stream",
     "text": [
      "epoch 136| loss: 0.02808 | train_mse: 0.06221 | train_mae: 0.14706 |  0:01:47s\n"
     ]
    },
    {
     "name": "stdout",
     "output_type": "stream",
     "text": [
      "epoch 137| loss: 0.02952 | train_mse: 0.01257 | train_mae: 0.08516 |  0:01:48s\n"
     ]
    },
    {
     "name": "stdout",
     "output_type": "stream",
     "text": [
      "epoch 138| loss: 0.03626 | train_mse: 0.02345 | train_mae: 0.11436 |  0:01:48s\n"
     ]
    },
    {
     "name": "stdout",
     "output_type": "stream",
     "text": [
      "epoch 139| loss: 0.02609 | train_mse: 0.01275 | train_mae: 0.08204 |  0:01:49s\n"
     ]
    },
    {
     "name": "stdout",
     "output_type": "stream",
     "text": [
      "epoch 140| loss: 0.02182 | train_mse: 0.00791 | train_mae: 0.06714 |  0:01:50s\n"
     ]
    },
    {
     "name": "stdout",
     "output_type": "stream",
     "text": [
      "epoch 141| loss: 0.03041 | train_mse: 0.01071 | train_mae: 0.08065 |  0:01:51s\n"
     ]
    },
    {
     "name": "stdout",
     "output_type": "stream",
     "text": [
      "epoch 142| loss: 0.01745 | train_mse: 0.00742 | train_mae: 0.07048 |  0:01:52s\n"
     ]
    },
    {
     "name": "stdout",
     "output_type": "stream",
     "text": [
      "epoch 143| loss: 0.02296 | train_mse: 0.00957 | train_mae: 0.07756 |  0:01:53s\n"
     ]
    },
    {
     "name": "stdout",
     "output_type": "stream",
     "text": [
      "epoch 144| loss: 0.02034 | train_mse: 0.00605 | train_mae: 0.05976 |  0:01:54s\n"
     ]
    },
    {
     "name": "stdout",
     "output_type": "stream",
     "text": [
      "epoch 145| loss: 0.02338 | train_mse: 0.02165 | train_mae: 0.11367 |  0:01:55s\n"
     ]
    },
    {
     "name": "stdout",
     "output_type": "stream",
     "text": [
      "epoch 146| loss: 0.02764 | train_mse: 0.00853 | train_mae: 0.06804 |  0:01:56s\n"
     ]
    },
    {
     "name": "stdout",
     "output_type": "stream",
     "text": [
      "epoch 147| loss: 0.02    | train_mse: 0.00921 | train_mae: 0.07526 |  0:01:57s\n"
     ]
    },
    {
     "name": "stdout",
     "output_type": "stream",
     "text": [
      "epoch 148| loss: 0.03388 | train_mse: 0.00737 | train_mae: 0.06682 |  0:01:57s\n"
     ]
    },
    {
     "name": "stdout",
     "output_type": "stream",
     "text": [
      "epoch 149| loss: 0.04088 | train_mse: 0.00971 | train_mae: 0.07292 |  0:01:58s\n"
     ]
    },
    {
     "name": "stdout",
     "output_type": "stream",
     "text": [
      "epoch 150| loss: 0.0369  | train_mse: 0.03177 | train_mae: 0.14426 |  0:01:58s\n"
     ]
    },
    {
     "name": "stdout",
     "output_type": "stream",
     "text": [
      "epoch 151| loss: 0.03459 | train_mse: 0.01421 | train_mae: 0.09313 |  0:01:59s\n"
     ]
    },
    {
     "name": "stdout",
     "output_type": "stream",
     "text": [
      "epoch 152| loss: 0.02446 | train_mse: 0.00526 | train_mae: 0.05651 |  0:02:00s\n"
     ]
    },
    {
     "name": "stdout",
     "output_type": "stream",
     "text": [
      "epoch 153| loss: 0.02386 | train_mse: 0.01505 | train_mae: 0.08706 |  0:02:01s\n"
     ]
    },
    {
     "name": "stdout",
     "output_type": "stream",
     "text": [
      "epoch 154| loss: 0.02076 | train_mse: 0.00952 | train_mae: 0.075   |  0:02:02s\n"
     ]
    },
    {
     "name": "stdout",
     "output_type": "stream",
     "text": [
      "epoch 155| loss: 0.02088 | train_mse: 0.00503 | train_mae: 0.05112 |  0:02:04s\n"
     ]
    },
    {
     "name": "stdout",
     "output_type": "stream",
     "text": [
      "epoch 156| loss: 0.03274 | train_mse: 0.00508 | train_mae: 0.05212 |  0:02:04s\n"
     ]
    },
    {
     "name": "stdout",
     "output_type": "stream",
     "text": [
      "epoch 157| loss: 0.03986 | train_mse: 0.0178  | train_mae: 0.10655 |  0:02:05s\n"
     ]
    },
    {
     "name": "stdout",
     "output_type": "stream",
     "text": [
      "epoch 158| loss: 0.04071 | train_mse: 0.02212 | train_mae: 0.11001 |  0:02:06s\n"
     ]
    },
    {
     "name": "stdout",
     "output_type": "stream",
     "text": [
      "epoch 159| loss: 0.02505 | train_mse: 0.0091  | train_mae: 0.07181 |  0:02:07s\n"
     ]
    },
    {
     "name": "stdout",
     "output_type": "stream",
     "text": [
      "epoch 160| loss: 0.02232 | train_mse: 0.007   | train_mae: 0.06145 |  0:02:08s\n"
     ]
    },
    {
     "name": "stdout",
     "output_type": "stream",
     "text": [
      "epoch 161| loss: 0.02419 | train_mse: 0.00959 | train_mae: 0.07675 |  0:02:09s\n"
     ]
    },
    {
     "name": "stdout",
     "output_type": "stream",
     "text": [
      "epoch 162| loss: 0.02298 | train_mse: 0.02672 | train_mae: 0.13549 |  0:02:10s\n"
     ]
    },
    {
     "name": "stdout",
     "output_type": "stream",
     "text": [
      "epoch 163| loss: 0.02408 | train_mse: 0.01558 | train_mae: 0.08884 |  0:02:11s\n"
     ]
    },
    {
     "name": "stdout",
     "output_type": "stream",
     "text": [
      "epoch 164| loss: 0.02311 | train_mse: 0.01546 | train_mae: 0.08873 |  0:02:11s\n"
     ]
    },
    {
     "name": "stdout",
     "output_type": "stream",
     "text": [
      "epoch 165| loss: 0.02251 | train_mse: 0.0082  | train_mae: 0.06887 |  0:02:12s\n"
     ]
    },
    {
     "name": "stdout",
     "output_type": "stream",
     "text": [
      "epoch 166| loss: 0.02034 | train_mse: 0.01315 | train_mae: 0.08418 |  0:02:13s\n"
     ]
    },
    {
     "name": "stdout",
     "output_type": "stream",
     "text": [
      "epoch 167| loss: 0.02147 | train_mse: 0.00709 | train_mae: 0.06501 |  0:02:13s\n"
     ]
    },
    {
     "name": "stdout",
     "output_type": "stream",
     "text": [
      "epoch 168| loss: 0.02686 | train_mse: 0.01664 | train_mae: 0.11226 |  0:02:14s\n"
     ]
    },
    {
     "name": "stdout",
     "output_type": "stream",
     "text": [
      "epoch 169| loss: 0.01829 | train_mse: 0.01363 | train_mae: 0.09621 |  0:02:15s\n"
     ]
    },
    {
     "name": "stdout",
     "output_type": "stream",
     "text": [
      "epoch 170| loss: 0.02652 | train_mse: 0.01188 | train_mae: 0.07878 |  0:02:16s\n"
     ]
    },
    {
     "name": "stdout",
     "output_type": "stream",
     "text": [
      "epoch 171| loss: 0.02392 | train_mse: 0.01231 | train_mae: 0.08133 |  0:02:17s\n"
     ]
    },
    {
     "name": "stdout",
     "output_type": "stream",
     "text": [
      "epoch 172| loss: 0.01685 | train_mse: 0.00639 | train_mae: 0.06068 |  0:02:17s\n"
     ]
    },
    {
     "name": "stdout",
     "output_type": "stream",
     "text": [
      "epoch 173| loss: 0.02106 | train_mse: 0.00445 | train_mae: 0.05225 |  0:02:18s\n"
     ]
    },
    {
     "name": "stdout",
     "output_type": "stream",
     "text": [
      "epoch 174| loss: 0.01833 | train_mse: 0.00842 | train_mae: 0.07329 |  0:02:19s\n"
     ]
    },
    {
     "name": "stdout",
     "output_type": "stream",
     "text": [
      "epoch 175| loss: 0.01858 | train_mse: 0.00777 | train_mae: 0.068   |  0:02:19s\n"
     ]
    },
    {
     "name": "stdout",
     "output_type": "stream",
     "text": [
      "epoch 176| loss: 0.02482 | train_mse: 0.00941 | train_mae: 0.07842 |  0:02:20s\n"
     ]
    },
    {
     "name": "stdout",
     "output_type": "stream",
     "text": [
      "epoch 177| loss: 0.02273 | train_mse: 0.00702 | train_mae: 0.06529 |  0:02:21s\n"
     ]
    },
    {
     "name": "stdout",
     "output_type": "stream",
     "text": [
      "epoch 178| loss: 0.01946 | train_mse: 0.0086  | train_mae: 0.06942 |  0:02:22s\n"
     ]
    },
    {
     "name": "stdout",
     "output_type": "stream",
     "text": [
      "epoch 179| loss: 0.02069 | train_mse: 0.0051  | train_mae: 0.05922 |  0:02:23s\n"
     ]
    },
    {
     "name": "stdout",
     "output_type": "stream",
     "text": [
      "epoch 180| loss: 0.01875 | train_mse: 0.00899 | train_mae: 0.0734  |  0:02:23s\n"
     ]
    },
    {
     "name": "stdout",
     "output_type": "stream",
     "text": [
      "epoch 181| loss: 0.01896 | train_mse: 0.00745 | train_mae: 0.06856 |  0:02:24s\n"
     ]
    },
    {
     "name": "stdout",
     "output_type": "stream",
     "text": [
      "epoch 182| loss: 0.01725 | train_mse: 0.00752 | train_mae: 0.06728 |  0:02:25s\n"
     ]
    },
    {
     "name": "stdout",
     "output_type": "stream",
     "text": [
      "epoch 183| loss: 0.01857 | train_mse: 0.00884 | train_mae: 0.07602 |  0:02:25s\n"
     ]
    },
    {
     "name": "stdout",
     "output_type": "stream",
     "text": [
      "epoch 184| loss: 0.01785 | train_mse: 0.00708 | train_mae: 0.06413 |  0:02:26s\n"
     ]
    },
    {
     "name": "stdout",
     "output_type": "stream",
     "text": [
      "epoch 185| loss: 0.04316 | train_mse: 0.00905 | train_mae: 0.06927 |  0:02:26s\n"
     ]
    },
    {
     "name": "stdout",
     "output_type": "stream",
     "text": [
      "epoch 186| loss: 0.02515 | train_mse: 0.07157 | train_mae: 0.13767 |  0:02:27s\n"
     ]
    },
    {
     "name": "stdout",
     "output_type": "stream",
     "text": [
      "epoch 187| loss: 0.03142 | train_mse: 0.01369 | train_mae: 0.08827 |  0:02:28s\n"
     ]
    },
    {
     "name": "stdout",
     "output_type": "stream",
     "text": [
      "epoch 188| loss: 0.01638 | train_mse: 0.0083  | train_mae: 0.07169 |  0:02:28s\n"
     ]
    },
    {
     "name": "stdout",
     "output_type": "stream",
     "text": [
      "epoch 189| loss: 0.02373 | train_mse: 0.00787 | train_mae: 0.07227 |  0:02:29s\n"
     ]
    },
    {
     "name": "stdout",
     "output_type": "stream",
     "text": [
      "epoch 190| loss: 0.02413 | train_mse: 0.00436 | train_mae: 0.05044 |  0:02:30s\n"
     ]
    },
    {
     "name": "stdout",
     "output_type": "stream",
     "text": [
      "epoch 191| loss: 0.02708 | train_mse: 0.00817 | train_mae: 0.07592 |  0:02:31s\n"
     ]
    },
    {
     "name": "stdout",
     "output_type": "stream",
     "text": [
      "epoch 192| loss: 0.03079 | train_mse: 0.00899 | train_mae: 0.07178 |  0:02:34s\n"
     ]
    },
    {
     "name": "stdout",
     "output_type": "stream",
     "text": [
      "epoch 193| loss: 0.0274  | train_mse: 0.0079  | train_mae: 0.06301 |  0:02:38s\n"
     ]
    },
    {
     "name": "stdout",
     "output_type": "stream",
     "text": [
      "epoch 194| loss: 0.01459 | train_mse: 0.00601 | train_mae: 0.05901 |  0:02:40s\n"
     ]
    },
    {
     "name": "stdout",
     "output_type": "stream",
     "text": [
      "epoch 195| loss: 0.01722 | train_mse: 0.00606 | train_mae: 0.05781 |  0:02:42s\n"
     ]
    },
    {
     "name": "stdout",
     "output_type": "stream",
     "text": [
      "epoch 196| loss: 0.02551 | train_mse: 0.00836 | train_mae: 0.06896 |  0:02:43s\n"
     ]
    },
    {
     "name": "stdout",
     "output_type": "stream",
     "text": [
      "epoch 197| loss: 0.02551 | train_mse: 0.00579 | train_mae: 0.05607 |  0:02:45s\n"
     ]
    },
    {
     "name": "stdout",
     "output_type": "stream",
     "text": [
      "epoch 198| loss: 0.02226 | train_mse: 0.00807 | train_mae: 0.07322 |  0:02:48s\n"
     ]
    },
    {
     "name": "stdout",
     "output_type": "stream",
     "text": [
      "epoch 199| loss: 0.02801 | train_mse: 0.00947 | train_mae: 0.07385 |  0:02:54s\n"
     ]
    },
    {
     "name": "stdout",
     "output_type": "stream",
     "text": [
      "epoch 200| loss: 0.02115 | train_mse: 0.00828 | train_mae: 0.06839 |  0:02:57s\n"
     ]
    },
    {
     "name": "stdout",
     "output_type": "stream",
     "text": [
      "epoch 201| loss: 0.03663 | train_mse: 0.00704 | train_mae: 0.0619  |  0:02:59s\n"
     ]
    },
    {
     "name": "stdout",
     "output_type": "stream",
     "text": [
      "epoch 202| loss: 0.02389 | train_mse: 0.00684 | train_mae: 0.06606 |  0:03:01s\n"
     ]
    },
    {
     "name": "stdout",
     "output_type": "stream",
     "text": [
      "epoch 203| loss: 0.0223  | train_mse: 0.00742 | train_mae: 0.06753 |  0:03:02s\n"
     ]
    },
    {
     "name": "stdout",
     "output_type": "stream",
     "text": [
      "epoch 204| loss: 0.02473 | train_mse: 0.00759 | train_mae: 0.06339 |  0:03:03s\n"
     ]
    },
    {
     "name": "stdout",
     "output_type": "stream",
     "text": [
      "epoch 205| loss: 0.02621 | train_mse: 0.00592 | train_mae: 0.05687 |  0:03:04s\n"
     ]
    },
    {
     "name": "stdout",
     "output_type": "stream",
     "text": [
      "epoch 206| loss: 0.02469 | train_mse: 0.00764 | train_mae: 0.07076 |  0:03:06s\n"
     ]
    },
    {
     "name": "stdout",
     "output_type": "stream",
     "text": [
      "epoch 207| loss: 0.05679 | train_mse: 0.01036 | train_mae: 0.08062 |  0:03:07s\n"
     ]
    },
    {
     "name": "stdout",
     "output_type": "stream",
     "text": [
      "epoch 208| loss: 0.0225  | train_mse: 0.00966 | train_mae: 0.07939 |  0:03:10s\n"
     ]
    },
    {
     "name": "stdout",
     "output_type": "stream",
     "text": [
      "epoch 209| loss: 0.01997 | train_mse: 0.0124  | train_mae: 0.0889  |  0:03:11s\n"
     ]
    },
    {
     "name": "stdout",
     "output_type": "stream",
     "text": [
      "epoch 210| loss: 0.02261 | train_mse: 0.0073  | train_mae: 0.06553 |  0:03:11s\n"
     ]
    },
    {
     "name": "stdout",
     "output_type": "stream",
     "text": [
      "epoch 211| loss: 0.02194 | train_mse: 0.00606 | train_mae: 0.06113 |  0:03:12s\n"
     ]
    },
    {
     "name": "stdout",
     "output_type": "stream",
     "text": [
      "epoch 212| loss: 0.02146 | train_mse: 0.00498 | train_mae: 0.05178 |  0:03:13s\n"
     ]
    },
    {
     "name": "stdout",
     "output_type": "stream",
     "text": [
      "epoch 213| loss: 0.03707 | train_mse: 0.0086  | train_mae: 0.0681  |  0:03:13s\n"
     ]
    },
    {
     "name": "stdout",
     "output_type": "stream",
     "text": [
      "epoch 214| loss: 0.02492 | train_mse: 0.00737 | train_mae: 0.06154 |  0:03:14s\n"
     ]
    },
    {
     "name": "stdout",
     "output_type": "stream",
     "text": [
      "epoch 215| loss: 0.02622 | train_mse: 0.02181 | train_mae: 0.11094 |  0:03:15s\n"
     ]
    },
    {
     "name": "stdout",
     "output_type": "stream",
     "text": [
      "epoch 216| loss: 0.02129 | train_mse: 0.01149 | train_mae: 0.08545 |  0:03:15s\n"
     ]
    },
    {
     "name": "stdout",
     "output_type": "stream",
     "text": [
      "epoch 217| loss: 0.02239 | train_mse: 0.00552 | train_mae: 0.0575  |  0:03:16s\n"
     ]
    },
    {
     "name": "stdout",
     "output_type": "stream",
     "text": [
      "epoch 218| loss: 0.03663 | train_mse: 0.00605 | train_mae: 0.0594  |  0:03:17s\n"
     ]
    },
    {
     "name": "stdout",
     "output_type": "stream",
     "text": [
      "epoch 219| loss: 0.0203  | train_mse: 0.00588 | train_mae: 0.0579  |  0:03:18s\n"
     ]
    },
    {
     "name": "stdout",
     "output_type": "stream",
     "text": [
      "epoch 220| loss: 0.01694 | train_mse: 0.00759 | train_mae: 0.06669 |  0:03:19s\n"
     ]
    },
    {
     "name": "stdout",
     "output_type": "stream",
     "text": [
      "epoch 221| loss: 0.02205 | train_mse: 0.01081 | train_mae: 0.08003 |  0:03:20s\n"
     ]
    },
    {
     "name": "stdout",
     "output_type": "stream",
     "text": [
      "epoch 222| loss: 0.03799 | train_mse: 0.01046 | train_mae: 0.08061 |  0:03:21s\n"
     ]
    },
    {
     "name": "stdout",
     "output_type": "stream",
     "text": [
      "epoch 223| loss: 0.02912 | train_mse: 0.00883 | train_mae: 0.06852 |  0:03:23s\n"
     ]
    },
    {
     "name": "stdout",
     "output_type": "stream",
     "text": [
      "epoch 224| loss: 0.02665 | train_mse: 0.00935 | train_mae: 0.07214 |  0:03:25s\n"
     ]
    },
    {
     "name": "stdout",
     "output_type": "stream",
     "text": [
      "epoch 225| loss: 0.02076 | train_mse: 0.01153 | train_mae: 0.08197 |  0:03:27s\n"
     ]
    },
    {
     "name": "stdout",
     "output_type": "stream",
     "text": [
      "epoch 226| loss: 0.01615 | train_mse: 0.00961 | train_mae: 0.07935 |  0:03:28s\n"
     ]
    },
    {
     "name": "stdout",
     "output_type": "stream",
     "text": [
      "epoch 227| loss: 0.01701 | train_mse: 0.01178 | train_mae: 0.08623 |  0:03:29s\n"
     ]
    },
    {
     "name": "stdout",
     "output_type": "stream",
     "text": [
      "epoch 228| loss: 0.01796 | train_mse: 0.00912 | train_mae: 0.07237 |  0:03:31s\n"
     ]
    },
    {
     "name": "stdout",
     "output_type": "stream",
     "text": [
      "epoch 229| loss: 0.03375 | train_mse: 0.00723 | train_mae: 0.06622 |  0:03:34s\n"
     ]
    },
    {
     "name": "stdout",
     "output_type": "stream",
     "text": [
      "epoch 230| loss: 0.02231 | train_mse: 0.00778 | train_mae: 0.06983 |  0:03:35s\n"
     ]
    },
    {
     "name": "stdout",
     "output_type": "stream",
     "text": [
      "epoch 231| loss: 0.01808 | train_mse: 0.00707 | train_mae: 0.06523 |  0:03:37s\n"
     ]
    },
    {
     "name": "stdout",
     "output_type": "stream",
     "text": [
      "epoch 232| loss: 0.02129 | train_mse: 0.00968 | train_mae: 0.08212 |  0:03:39s\n"
     ]
    },
    {
     "name": "stdout",
     "output_type": "stream",
     "text": [
      "epoch 233| loss: 0.02379 | train_mse: 0.00982 | train_mae: 0.07856 |  0:03:40s\n"
     ]
    },
    {
     "name": "stdout",
     "output_type": "stream",
     "text": [
      "epoch 234| loss: 0.01708 | train_mse: 0.00647 | train_mae: 0.06484 |  0:03:41s\n"
     ]
    },
    {
     "name": "stdout",
     "output_type": "stream",
     "text": [
      "epoch 235| loss: 0.02537 | train_mse: 0.00842 | train_mae: 0.06997 |  0:03:42s\n"
     ]
    },
    {
     "name": "stdout",
     "output_type": "stream",
     "text": [
      "epoch 236| loss: 0.01928 | train_mse: 0.00552 | train_mae: 0.05777 |  0:03:42s\n"
     ]
    },
    {
     "name": "stdout",
     "output_type": "stream",
     "text": [
      "epoch 237| loss: 0.02389 | train_mse: 0.00658 | train_mae: 0.06217 |  0:03:44s\n"
     ]
    },
    {
     "name": "stdout",
     "output_type": "stream",
     "text": [
      "epoch 238| loss: 0.01875 | train_mse: 0.00695 | train_mae: 0.06768 |  0:03:44s\n"
     ]
    },
    {
     "name": "stdout",
     "output_type": "stream",
     "text": [
      "epoch 239| loss: 0.03324 | train_mse: 0.01198 | train_mae: 0.0877  |  0:03:45s\n"
     ]
    },
    {
     "name": "stdout",
     "output_type": "stream",
     "text": [
      "epoch 240| loss: 0.02857 | train_mse: 0.00832 | train_mae: 0.07537 |  0:03:45s\n",
      "\n",
      "Early stopping occurred at epoch 240 with best_epoch = 190 and best_train_mae = 0.05044\n",
      "Best weights from best epoch are automatically used!\n"
     ]
    },
    {
     "name": "stdout",
     "output_type": "stream",
     "text": [
      "BEST VALID SCORE FOR dataset : 0.05043714059377826\n",
      "FINAL TEST SCORE FOR dataset: 0.053746747942964315\n",
      "{'loss': [0.960822458375937, 0.37202330695689695, 0.2884315401801069, 0.24658509778277493, 0.20541628151646654, 0.17341942391100457, 0.17331721107035583, 0.1553892650511055, 0.16357437261541038, 0.1301266447146475, 0.14130561864337238, 0.1227809965901732, 0.1026278608008394, 0.10837991132798334, 0.12214037979852882, 0.10100966905537956, 0.10824291638617407, 0.10769573773836856, 0.11280976036860811, 0.09654932369626694, 0.10169904734878664, 0.08074703259266161, 0.09753739251375974, 0.09618221313756335, 0.0852500626435109, 0.07482992510648037, 0.07093796550208271, 0.0703587206838962, 0.09441262342836647, 0.08017173545368331, 0.08464463788057383, 0.06860952346255025, 0.06385050342700381, 0.07257589600761861, 0.05549452228150072, 0.05270869995949711, 0.05630194356950176, 0.06772425632426327, 0.06847789845996649, 0.06716469437466382, 0.04671469604420545, 0.07098264725278178, 0.06109376678831802, 0.05989389679719261, 0.04430842311015346, 0.07017358229874787, 0.06445083046386607, 0.0780507889166717, 0.05516680123751637, 0.060818896085897564, 0.044185823272513254, 0.03871981190450805, 0.0686069720148652, 0.06041550377826737, 0.048000450048850486, 0.05956863995386646, 0.045412743761407436, 0.0518119113598662, 0.05238792072095778, 0.05549739873952897, 0.044880768181058406, 0.03626816227109891, 0.039579960827014926, 0.0461390395845963, 0.036769580180947864, 0.03910709427311677, 0.04966049284616588, 0.05414449362879079, 0.030515157693469176, 0.03500992142222215, 0.028284108478588078, 0.03676202543783654, 0.043728741886949696, 0.02956192570371426, 0.03740038943601354, 0.03202652440979737, 0.025982480168536742, 0.029246711175197112, 0.03242162166084451, 0.04913976905011976, 0.03271944995617634, 0.027189612861856186, 0.04948209624142911, 0.04143865299729649, 0.04437966118126816, 0.03604740098555624, 0.03328770035058745, 0.05477975454509064, 0.03772056360004002, 0.025404676406701923, 0.027650077102238657, 0.034335052394323315, 0.027938259201251724, 0.029692217780440948, 0.02779413318012747, 0.028928879020486863, 0.021152306093260985, 0.019336809237345036, 0.02374434359493007, 0.02613189598053985, 0.02652744813564352, 0.021079161049682854, 0.03177349480530338, 0.04605893164581895, 0.03390302550326729, 0.0313398733868564, 0.03177692622237563, 0.0415766219993756, 0.0197251917921759, 0.022181671428272702, 0.024746492674956492, 0.03539615850106901, 0.02793746856602473, 0.020515930847983796, 0.030422208436343103, 0.02830181164054218, 0.024195913650119732, 0.01916588884732816, 0.032598424520865324, 0.01858633577047031, 0.02074712624087784, 0.03495573711123451, 0.02271001907338537, 0.02112188510572483, 0.03072065644039005, 0.03917126921809457, 0.02870680095706778, 0.032968552698190136, 0.0347354143663804, 0.02039943698563094, 0.024896586829559815, 0.020986260342675624, 0.019009790683608103, 0.019546893379781455, 0.0238061311384754, 0.019308756648620487, 0.028082252992772123, 0.029515570508928952, 0.03626493794133686, 0.02609470540032713, 0.021820443436649024, 0.030405074333717457, 0.017452461517594924, 0.02296042920420923, 0.02034120106347609, 0.023380093519190622, 0.027644356645959208, 0.01999976874271511, 0.03388293383564157, 0.040884475050803504, 0.03690368053579176, 0.03459470634157572, 0.024461735294773832, 0.023864575640483478, 0.02075858045284445, 0.020878687998468013, 0.03274411613467462, 0.03986215305056556, 0.04070501179959175, 0.025054578830151292, 0.02231999799754798, 0.024189056446381422, 0.022975097795651094, 0.024080771892195027, 0.023105769936929695, 0.02251362383171479, 0.020335533113161205, 0.02146862197291191, 0.02685922653647898, 0.018285446706249195, 0.02652364213274434, 0.023916357333380548, 0.01684882383829996, 0.021062144408979324, 0.018326146886092444, 0.01858204663867671, 0.024819883272197425, 0.022734051382211597, 0.019457249316699343, 0.020693937990001438, 0.01875413541685098, 0.018964835251484322, 0.017249587589589704, 0.018572053371500887, 0.017852692971012104, 0.04315549591465183, 0.0251515607200927, 0.03141639024892925, 0.01638053015408376, 0.023730847474903546, 0.024131082125760445, 0.027084620529937434, 0.03079233185087819, 0.02740143144849069, 0.014589995752522534, 0.017220420404928903, 0.02550989013250177, 0.025509108931845485, 0.022262691869021238, 0.028011770658073674, 0.021153528910700582, 0.03662737514763003, 0.02388900880025342, 0.022298344765889915, 0.0247331728812926, 0.026210010609914115, 0.02469277440142554, 0.05679097960942731, 0.02249665648133436, 0.019966321848696917, 0.022608189804157915, 0.021939436877783425, 0.02145731939360839, 0.037072500935983195, 0.0249186359127492, 0.026215204028625053, 0.021292397467243554, 0.022388173519036086, 0.03662729450176904, 0.02030474313986806, 0.016936269033615288, 0.022045484631768267, 0.03799234249959745, 0.02912409508946664, 0.026651627368958066, 0.02075716690539537, 0.016147656135673632, 0.017009841599759528, 0.017964403044905645, 0.03374835858515885, 0.02231271419346527, 0.018075902561023104, 0.021288115591878612, 0.023787905659271764, 0.017076558685263903, 0.025370091551775265, 0.019276107288290312, 0.02389016932525736, 0.018754148158071873, 0.033236010552229245, 0.028570944109646428], 'lr': [0.01, 0.01, 0.01, 0.01, 0.01, 0.01, 0.01, 0.01, 0.01, 0.01, 0.01, 0.01, 0.01, 0.01, 0.01, 0.01, 0.01, 0.01, 0.01, 0.01, 0.01, 0.01, 0.01, 0.01, 0.01, 0.01, 0.01, 0.01, 0.01, 0.01, 0.01, 0.01, 0.01, 0.01, 0.01, 0.01, 0.01, 0.01, 0.01, 0.01, 0.01, 0.01, 0.01, 0.01, 0.01, 0.01, 0.01, 0.01, 0.01, 0.01, 0.01, 0.01, 0.01, 0.01, 0.01, 0.01, 0.01, 0.01, 0.01, 0.01, 0.01, 0.01, 0.01, 0.01, 0.01, 0.01, 0.01, 0.01, 0.01, 0.01, 0.01, 0.01, 0.01, 0.01, 0.01, 0.01, 0.01, 0.01, 0.01, 0.01, 0.01, 0.01, 0.01, 0.01, 0.01, 0.01, 0.01, 0.01, 0.01, 0.01, 0.01, 0.01, 0.01, 0.01, 0.01, 0.01, 0.01, 0.01, 0.01, 0.01, 0.01, 0.01, 0.01, 0.01, 0.01, 0.01, 0.01, 0.01, 0.01, 0.01, 0.01, 0.01, 0.01, 0.01, 0.01, 0.01, 0.01, 0.01, 0.01, 0.01, 0.01, 0.01, 0.01, 0.01, 0.01, 0.01, 0.01, 0.01, 0.01, 0.01, 0.01, 0.01, 0.01, 0.01, 0.01, 0.01, 0.01, 0.01, 0.01, 0.01, 0.01, 0.01, 0.01, 0.01, 0.01, 0.01, 0.01, 0.01, 0.01, 0.01, 0.01, 0.01, 0.01, 0.01, 0.01, 0.01, 0.01, 0.01, 0.01, 0.01, 0.01, 0.01, 0.01, 0.01, 0.01, 0.01, 0.01, 0.01, 0.01, 0.01, 0.01, 0.01, 0.01, 0.01, 0.01, 0.01, 0.01, 0.01, 0.01, 0.01, 0.01, 0.01, 0.01, 0.01, 0.01, 0.01, 0.01, 0.01, 0.01, 0.01, 0.01, 0.01, 0.01, 0.01, 0.01, 0.01, 0.01, 0.01, 0.01, 0.01, 0.01, 0.01, 0.01, 0.01, 0.01, 0.01, 0.01, 0.01, 0.01, 0.01, 0.01, 0.01, 0.01, 0.01, 0.01, 0.01, 0.01, 0.01, 0.01, 0.01, 0.01, 0.01, 0.01, 0.01, 0.01, 0.01, 0.01, 0.01, 0.01, 0.01, 0.01, 0.01, 0.01, 0.01, 0.01, 0.01, 0.01, 0.01, 0.01, 0.01, 0.01], 'train_mse': [0.7209128057437392, 0.3523173546085757, 0.2769876022990372, 0.1775003854336735, 0.17895610539854342, 0.14470874166832487, 0.12006808098131251, 0.11658680286419192, 0.0999555191934643, 0.08338538981340538, 0.07886508440891755, 0.09789484326277716, 0.07228024058281707, 0.08091926977648838, 0.06898048553297789, 0.06742527284737591, 0.06049945704267392, 0.054224850709549396, 0.06666710132605363, 0.05395175721755272, 0.06552648838602614, 0.07214097615570586, 0.0472572502672758, 0.04566151580721437, 0.04404697301714529, 0.0571585404484231, 0.07383835063741129, 0.05836560816454596, 0.07609199254847936, 0.049012417802595507, 0.03621031670237715, 0.03238853147569592, 0.03342201437796061, 0.03388431198517962, 0.0330252293684877, 0.038159896496602286, 0.037244109905355614, 0.04165401370695366, 0.03950282088490688, 0.023514602708793755, 0.026141007309541164, 0.026677585971667996, 0.030521262085808226, 0.03056770054261156, 0.0284345299670047, 0.026819092522523295, 0.027463061178408545, 0.02279249548685007, 0.028947728223848074, 0.02154712958437357, 0.03250381452733484, 0.03352983725250372, 0.021520976506970994, 0.026470192060345156, 0.02203922813692985, 0.03392731768914923, 0.023930845170804294, 0.016524369524905515, 0.018713354945493605, 0.018221383788579973, 0.01397537043676621, 0.01474163894793689, 0.021121108889756244, 0.017702024100684992, 0.012689354897466296, 0.018222460163996475, 0.02485150855106313, 0.015186616804236197, 0.014672843767054666, 0.01302286476638425, 0.012356821043418337, 0.01164786117372042, 0.014515138822073823, 0.009786034734658283, 0.021750198426558124, 0.012927391899284355, 0.016110004814326152, 0.009433136823344327, 0.01080999719359106, 0.01089643978659437, 0.009304737227729436, 0.01257119181590152, 0.008650430882808162, 0.02115621724422259, 0.009545752367007315, 0.02211577124662049, 0.020352240705965197, 0.014652040259268577, 0.007508730320147763, 0.014260743590508588, 0.018117706249299682, 0.01225823040884639, 0.015595749302055708, 0.009734892984640664, 0.011400024847682558, 0.007404356017008866, 0.007692021933244161, 0.010342438538682565, 0.01637521235469236, 0.006730116178035007, 0.006948146735911192, 0.013380073372690192, 0.005799301712372533, 0.0157885205468909, 0.013963311775326122, 0.011357807641108936, 0.014586720088052365, 0.0111147270827885, 0.006375120808654528, 0.012442052969939572, 0.011000385241285042, 0.005714281727900332, 0.010715490113134473, 0.017290765072751523, 0.01103087766807105, 0.013788942119916167, 0.014822804709596984, 0.007449379178045176, 0.01043683867427434, 0.0110068933822123, 0.021950915776963276, 0.010481256578906332, 0.006367077925023423, 0.009403927830505051, 0.009217556621350934, 0.014349022865901036, 0.012735670760139633, 0.015914534891466475, 0.01047149316596253, 0.00910151864628218, 0.010635315351010638, 0.00854242757805548, 0.006475234891448192, 0.00556526291437865, 0.008275278332116633, 0.0073510961882360774, 0.06220661861011967, 0.012569404077837888, 0.023452839478719748, 0.012752517826714814, 0.007914847697403247, 0.010706896604458825, 0.007420885250746548, 0.009572572726712227, 0.0060540115962885175, 0.021649484477763548, 0.008533814152050954, 0.009205141236484875, 0.007370807838009046, 0.009705366589069439, 0.03177469459895409, 0.014210571317637241, 0.005261903649169349, 0.015046011402472293, 0.009518052124610928, 0.005028426359711184, 0.005076104174624235, 0.01780316231681347, 0.022124821869634548, 0.009104108998326619, 0.006999192524747313, 0.009586756522653339, 0.026723995527628542, 0.015575526898205603, 0.0154572990681812, 0.00819517886535216, 0.01314870578945982, 0.007088477030391451, 0.01663790508987932, 0.013628719564770351, 0.011880566487734927, 0.012310067138927924, 0.006392115915159396, 0.00445037852236805, 0.00842231480083263, 0.007772779859056088, 0.009411148920941826, 0.007016652115788583, 0.008600245428544285, 0.005104659095467468, 0.008987409979913196, 0.007447090339951267, 0.007520628005376087, 0.008837975488893998, 0.00708453270674608, 0.00905388409725481, 0.07156728604403867, 0.013691536232634293, 0.008300349819359155, 0.007868173698631537, 0.004358091233356795, 0.008171935321311786, 0.00899054663435695, 0.007898742732396975, 0.006009881422265846, 0.006060325758040582, 0.008358046357351719, 0.005786560476578662, 0.008067049722615321, 0.009465259415994043, 0.008276057692609477, 0.0070418431513651954, 0.0068429272767712886, 0.007418872529234284, 0.0075947817715017124, 0.005922912253429409, 0.007643099807331296, 0.010355169895110927, 0.00966160079175369, 0.012398158763714457, 0.0073045444463781025, 0.006056214251448949, 0.004977685057275635, 0.008596840622195664, 0.007368901949400346, 0.021814610419485275, 0.011489866500241998, 0.005522751294709818, 0.00604893539198799, 0.005878180538079575, 0.00758703365010602, 0.010805632294195183, 0.010462204678314916, 0.008826372863536868, 0.00934723697941618, 0.011531358345751919, 0.009609381757801896, 0.011780250256770245, 0.009121226124572227, 0.007232410194770219, 0.007775723814940083, 0.007071739539782919, 0.00968272172548994, 0.009815720458916863, 0.006465941409283201, 0.008417922302885274, 0.0055236873347418195, 0.006583609451384131, 0.0069513793851714075, 0.011979420566349102, 0.008322916880340182], 'train_mae': [0.6616003589167098, 0.4581794993618939, 0.4049913017739514, 0.31147289946738504, 0.3147583212282118, 0.2996752693198968, 0.26895068854343296, 0.2578174957834318, 0.23207413105202243, 0.20710903667463929, 0.20419253848686084, 0.22264379966779213, 0.19295957647477824, 0.21462171648332265, 0.19444690874850737, 0.19815664832176966, 0.174729877856093, 0.16733520506037616, 0.19018016450787448, 0.17314030197939428, 0.19552457874853005, 0.21849198457386942, 0.1651218012345684, 0.1583550178521343, 0.15883361126478235, 0.17087733329596055, 0.19975884398617194, 0.18266736281019966, 0.21875617861707858, 0.16745600848935255, 0.14068932929994962, 0.13359403193086508, 0.13667709018967225, 0.13306737534889454, 0.14276432714030354, 0.14160797704716946, 0.14596169748629226, 0.15795136143537683, 0.14656158379823328, 0.1181496428439379, 0.12413607739995212, 0.11996915300863334, 0.13908464999035322, 0.14456159599261328, 0.12059514330620288, 0.12504290451575734, 0.12550641191354847, 0.11371380509922337, 0.12742944584140625, 0.10692069182038193, 0.13045128499241457, 0.1461363910231335, 0.10878229515293432, 0.1311086514563117, 0.10739766952650709, 0.13085834278381756, 0.11444715007484653, 0.0931875500711212, 0.10182755045840153, 0.10371962652103697, 0.08583161418302258, 0.09074551868186309, 0.10794068186612085, 0.0933299590306608, 0.08170332672461439, 0.10049544363420108, 0.11668884811008866, 0.09049904778598826, 0.08644285323790953, 0.08715680251744254, 0.0860409022421402, 0.07961159967860246, 0.0952979281604006, 0.07454028687605864, 0.09648285177037332, 0.0833625561000456, 0.09351733596424984, 0.07568694536645766, 0.08277015417399591, 0.08521424422554218, 0.0694661634054852, 0.07547745115984857, 0.06865353867011911, 0.10940579220575575, 0.07086516397282518, 0.12220230437203501, 0.11702818398048831, 0.09058993313822951, 0.06311129058901305, 0.10008681221116442, 0.10676814522079095, 0.08816526132020777, 0.09843630187897462, 0.07476668582317363, 0.07316391039588123, 0.06299785662081127, 0.06263691946044081, 0.07592497033833873, 0.0884542977259071, 0.06134616368950076, 0.06441847241564115, 0.08527984468863148, 0.05931977240672319, 0.1063463836495372, 0.09332651530846223, 0.08160851678550982, 0.08900011948659807, 0.08753335890795931, 0.06143433579011401, 0.08182271642874868, 0.08271736901923128, 0.055296728241038616, 0.07614313396919652, 0.11537197383323476, 0.08527222088826743, 0.07945309246265599, 0.08840937613843783, 0.06361087766960781, 0.08572607615427194, 0.06675415815349622, 0.11308857021725072, 0.07799834469534081, 0.059568636214647155, 0.06415994023062978, 0.08207149707170452, 0.08941439786452592, 0.08957462588540303, 0.09492135021651933, 0.07961959163148967, 0.06850217781028382, 0.07990198927124187, 0.06946407025086324, 0.06092139167016515, 0.058577448549288015, 0.06624202483894305, 0.06520599387903649, 0.14706493872085813, 0.08516132676282158, 0.11435633900565574, 0.08203790923368579, 0.06713613572767375, 0.08065075685659569, 0.07048448561962872, 0.07756180956374246, 0.05976153505607869, 0.11366661199018542, 0.0680391226760475, 0.07526286289316246, 0.06681720085031707, 0.07292325803753899, 0.14426378160935077, 0.09312852200326682, 0.05650542125531203, 0.08705777655912741, 0.0749989109637628, 0.051119278980952955, 0.05211708208270874, 0.10655459371651127, 0.11001227533286949, 0.07181417887673755, 0.06145151792761228, 0.07674760574713815, 0.13548772358165326, 0.08884121006720722, 0.08872899569404896, 0.06886776587131038, 0.08417541234035932, 0.0650092848862045, 0.11226148677671093, 0.09620591230860706, 0.07877529330702339, 0.08132636935307226, 0.06067743448421647, 0.05224644448024101, 0.07329299993019738, 0.06800015381531556, 0.07841825084404024, 0.0652902716114442, 0.06941702464989245, 0.0592245970546704, 0.07339723229149242, 0.06856034072264848, 0.06727515082367427, 0.07602354263513475, 0.06413404115110669, 0.06927010803568909, 0.13767337265531085, 0.08827118143618608, 0.07169495828214206, 0.07227105979913785, 0.05043714059377826, 0.07592286101487698, 0.07177960918822292, 0.06300603354900917, 0.059012390993735515, 0.05781062850482029, 0.06896348033504941, 0.0560713599610376, 0.07321509124481024, 0.07385091768565093, 0.06838918010778283, 0.06190097067824232, 0.06606348235012291, 0.06752532402733975, 0.06339059287209509, 0.05686874762241089, 0.07076171856709713, 0.08061976618774752, 0.07939206271874788, 0.08890415438149747, 0.06553246723963614, 0.061132602386817364, 0.051778153860235515, 0.06809974881384603, 0.061537774000785465, 0.11093956306503483, 0.08544756234768336, 0.05750491624552544, 0.059400615056285674, 0.05790366468767355, 0.06669117222243748, 0.08003240691897429, 0.0806105425926413, 0.06852238003032743, 0.07214250744199195, 0.08197451620515028, 0.07935115977816654, 0.08623237757614666, 0.07236942791355706, 0.06621790545011555, 0.06982573652529296, 0.06522750837914353, 0.0821210612937075, 0.07855768132926325, 0.06483866880276203, 0.0699671343731793, 0.05776635671357079, 0.06216753570062288, 0.06767580631452204, 0.08770289933315624, 0.07537115037279365]}\n"
     ]
    },
    {
     "data": {
      "application/scrapbook.scrap.json+json": {
       "data": 0.053746747942964315,
       "encoder": "json",
       "name": "TabNet MAE",
       "version": 1
      }
     },
     "metadata": {
      "scrapbook": {
       "data": true,
       "display": false,
       "name": "TabNet MAE"
      }
     },
     "output_type": "display_data"
    },
    {
     "name": "stdout",
     "output_type": "stream",
     "text": [
      "TabNet MAE 0.053746747942964315\n"
     ]
    },
    {
     "data": {
      "image/png": "[encoded data removed]",
      "text/plain": [
       "<Figure size 432x288 with 1 Axes>"
      ]
     },
     "metadata": {
      "needs_background": "light"
     },
     "output_type": "display_data"
    }
   ],
   "source": [
    "lr = 0.01\n",
    "\n",
    "y_train = np.reshape(y_train, (-1, 1))\n",
    "y_test = np.reshape(y_test, (-1, 1))\n",
    "\n",
    "device = torch.device('cuda' if torch.cuda.is_available() else 'cpu')\n",
    "mae_tab= baselineModels.tabnetreg(X_train,y_train,X_test,y_test,batch_size,n_features,n_target,n_epochs, lr)\n",
    "sb.glue(\"TabNet MAE\",mae_tab)\n",
    "print(\"TabNet MAE\",mae_tab)"
   ]
  }
 ],
 "metadata": {
  "kernelspec": {
   "display_name": "Python 3.7.3 64-bit",
   "language": "python",
   "name": "python3"
  },
  "language_info": {
   "codemirror_mode": {
    "name": "ipython",
    "version": 3
   },
   "file_extension": ".py",
   "mimetype": "text/x-python",
   "name": "python",
   "nbconvert_exporter": "python",
   "pygments_lexer": "ipython3",
   "version": "3.7.3"
  },
  "papermill": {
   "default_parameters": {},
   "duration": 253.702696,
   "end_time": "2022-07-24T10:21:21.173367",
   "environment_variables": {},
   "exception": null,
   "input_path": "BaselineModels.ipynb",
   "output_path": "./BaseLine_Model_Output/BaselineModels_output_1.ipynb",
   "parameters": {},
   "start_time": "2022-07-24T10:17:07.470671",
   "version": "2.3.3"
  },
  "vscode": {
   "interpreter": {
    "hash": "aee8b7b246df8f9039afb4144a1f6fd8d2ca17a180786b69acc140d282b71a49"
   }
  }
 },
 "nbformat": 4,
 "nbformat_minor": 5
}
