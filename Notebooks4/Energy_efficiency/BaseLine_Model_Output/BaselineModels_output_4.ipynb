{
 "cells": [
  {
   "cell_type": "markdown",
   "id": "5ab51831",
   "metadata": {
    "papermill": {
     "duration": 0.011941,
     "end_time": "2022-07-24T10:30:44.227244",
     "exception": false,
     "start_time": "2022-07-24T10:30:44.215303",
     "status": "completed"
    },
    "tags": []
   },
   "source": [
    "## Import Libraries "
   ]
  },
  {
   "cell_type": "code",
   "execution_count": 1,
   "id": "fedcec60",
   "metadata": {
    "execution": {
     "iopub.execute_input": "2022-07-24T10:30:44.244905Z",
     "iopub.status.busy": "2022-07-24T10:30:44.244330Z",
     "iopub.status.idle": "2022-07-24T10:30:44.279435Z",
     "shell.execute_reply": "2022-07-24T10:30:44.277986Z"
    },
    "papermill": {
     "duration": 0.050979,
     "end_time": "2022-07-24T10:30:44.286380",
     "exception": false,
     "start_time": "2022-07-24T10:30:44.235401",
     "status": "completed"
    },
    "tags": []
   },
   "outputs": [],
   "source": [
    "import warnings\n",
    "import sys\n",
    "sys.path.insert(0, '../../src')\n",
    "warnings.filterwarnings('ignore')"
   ]
  },
  {
   "cell_type": "code",
   "execution_count": 2,
   "id": "079043df",
   "metadata": {
    "execution": {
     "iopub.execute_input": "2022-07-24T10:30:44.310130Z",
     "iopub.status.busy": "2022-07-24T10:30:44.308924Z",
     "iopub.status.idle": "2022-07-24T10:31:09.460228Z",
     "shell.execute_reply": "2022-07-24T10:31:09.456445Z"
    },
    "papermill": {
     "duration": 25.174782,
     "end_time": "2022-07-24T10:31:09.468128",
     "exception": false,
     "start_time": "2022-07-24T10:30:44.293346",
     "status": "completed"
    },
    "tags": []
   },
   "outputs": [],
   "source": [
    "import statsModel\n",
    "import scrapbook as sb \n",
    "import torch \n",
    "import statsModel\n",
    "import baselineModels\n",
    "import energyefficiencyDataset\n",
    "import dataset \n",
    "from torch.utils.data import random_split \n",
    "from sklearn.model_selection import train_test_split\n",
    "import numpy as np\n",
    "from sklearn.metrics import mean_squared_error,mean_absolute_error "
   ]
  },
  {
   "cell_type": "markdown",
   "id": "66ef9f4b",
   "metadata": {
    "papermill": {
     "duration": 0.008021,
     "end_time": "2022-07-24T10:31:09.569443",
     "exception": false,
     "start_time": "2022-07-24T10:31:09.561422",
     "status": "completed"
    },
    "tags": []
   },
   "source": [
    "## Import Dataset \n"
   ]
  },
  {
   "cell_type": "code",
   "execution_count": 3,
   "id": "d4036fac",
   "metadata": {
    "execution": {
     "iopub.execute_input": "2022-07-24T10:31:09.585142Z",
     "iopub.status.busy": "2022-07-24T10:31:09.583629Z",
     "iopub.status.idle": "2022-07-24T10:31:10.784414Z",
     "shell.execute_reply": "2022-07-24T10:31:10.771571Z"
    },
    "papermill": {
     "duration": 1.21431,
     "end_time": "2022-07-24T10:31:10.788365",
     "exception": false,
     "start_time": "2022-07-24T10:31:09.574055",
     "status": "completed"
    },
    "tags": []
   },
   "outputs": [
    {
     "name": "stdout",
     "output_type": "stream",
     "text": [
      "     X1     X2     X3      X4   X5  X6   X7  X8     Y1     Y2\n",
      "0  0.98  514.5  294.0  110.25  7.0   2  0.0   0  15.55  21.33\n",
      "1  0.98  514.5  294.0  110.25  7.0   3  0.0   0  15.55  21.33\n",
      "2  0.98  514.5  294.0  110.25  7.0   4  0.0   0  15.55  21.33\n",
      "3  0.98  514.5  294.0  110.25  7.0   5  0.0   0  15.55  21.33\n",
      "4  0.90  563.5  318.5  122.50  7.0   2  0.0   0  20.84  28.28\n"
     ]
    }
   ],
   "source": [
    "n_features = 13\n",
    "n_samples= 506\n",
    "n_target = 1 \n",
    "X,Y = energyefficiencyDataset.energy_data()"
   ]
  },
  {
   "cell_type": "code",
   "execution_count": 4,
   "id": "99c23db5",
   "metadata": {
    "execution": {
     "iopub.execute_input": "2022-07-24T10:31:10.807285Z",
     "iopub.status.busy": "2022-07-24T10:31:10.803899Z",
     "iopub.status.idle": "2022-07-24T10:31:10.826377Z",
     "shell.execute_reply": "2022-07-24T10:31:10.823958Z"
    },
    "papermill": {
     "duration": 0.038944,
     "end_time": "2022-07-24T10:31:10.831515",
     "exception": false,
     "start_time": "2022-07-24T10:31:10.792571",
     "status": "completed"
    },
    "tags": []
   },
   "outputs": [],
   "source": [
    "# Train test split for dataset \n",
    "real_dataset = dataset.CustomDataset(X,Y)\n",
    "X_train, X_test, y_train, y_test = train_test_split(X, Y, test_size=0.2)"
   ]
  },
  {
   "cell_type": "markdown",
   "id": "cdada1ea",
   "metadata": {
    "papermill": {
     "duration": 0.006649,
     "end_time": "2022-07-24T10:31:10.843667",
     "exception": false,
     "start_time": "2022-07-24T10:31:10.837018",
     "status": "completed"
    },
    "tags": []
   },
   "source": [
    "## Stats Model \n",
    "\n"
   ]
  },
  {
   "cell_type": "code",
   "execution_count": 5,
   "id": "4e316b90",
   "metadata": {
    "execution": {
     "iopub.execute_input": "2022-07-24T10:31:10.858449Z",
     "iopub.status.busy": "2022-07-24T10:31:10.857639Z",
     "iopub.status.idle": "2022-07-24T10:31:11.852631Z",
     "shell.execute_reply": "2022-07-24T10:31:11.851246Z"
    },
    "papermill": {
     "duration": 1.005061,
     "end_time": "2022-07-24T10:31:11.855417",
     "exception": false,
     "start_time": "2022-07-24T10:31:10.850356",
     "status": "completed"
    },
    "tags": []
   },
   "outputs": [
    {
     "name": "stdout",
     "output_type": "stream",
     "text": [
      "                                 OLS Regression Results                                \n",
      "=======================================================================================\n",
      "Dep. Variable:                      y   R-squared (uncentered):                   0.914\n",
      "Model:                            OLS   Adj. R-squared (uncentered):              0.913\n",
      "Method:                 Least Squares   F-statistic:                              920.3\n",
      "Date:                Sun, 24 Jul 2022   Prob (F-statistic):                   2.40e-318\n",
      "Time:                        16:01:10   Log-Likelihood:                         -119.39\n",
      "No. Observations:                 614   AIC:                                      252.8\n",
      "Df Residuals:                     607   BIC:                                      283.7\n",
      "Df Model:                           7                                                  \n",
      "Covariance Type:            nonrobust                                                  \n",
      "==============================================================================\n",
      "                 coef    std err          t      P>|t|      [0.025      0.975]\n",
      "------------------------------------------------------------------------------\n",
      "x1            -0.6411      0.126     -5.101      0.000      -0.888      -0.394\n",
      "x2            -0.3374      0.092     -3.657      0.000      -0.519      -0.156\n",
      "x3             0.0717      0.024      2.952      0.003       0.024       0.119\n",
      "x4            -0.3636      0.083     -4.388      0.000      -0.526      -0.201\n",
      "x5             0.7593      0.067     11.296      0.000       0.627       0.891\n",
      "x6             0.0026      0.012      0.214      0.831      -0.021       0.026\n",
      "x7             0.2591      0.012     21.340      0.000       0.235       0.283\n",
      "x8             0.0385      0.012      3.190      0.001       0.015       0.062\n",
      "==============================================================================\n",
      "Omnibus:                       14.050   Durbin-Watson:                   1.834\n",
      "Prob(Omnibus):                  0.001   Jarque-Bera (JB):               26.641\n",
      "Skew:                          -0.039   Prob(JB):                     1.64e-06\n",
      "Kurtosis:                       4.017   Cond. No.                     1.87e+15\n",
      "==============================================================================\n",
      "\n",
      "Notes:\n",
      "[1] R² is computed without centering (uncentered) since the model does not contain a constant.\n",
      "[2] Standard Errors assume that the covariance matrix of the errors is correctly specified.\n",
      "[3] The smallest eigenvalue is 6.4e-28. This might indicate that there are\n",
      "strong multicollinearity problems or that the design matrix is singular.\n"
     ]
    },
    {
     "name": "stderr",
     "output_type": "stream",
     "text": [
      "No artists with labels found to put in legend.  Note that artists whose label start with an underscore are ignored when legend() is called with no argument.\n"
     ]
    },
    {
     "data": {
      "image/png": "[encoded data removed]",
      "text/plain": [
       "<Figure size 432x288 with 1 Axes>"
      ]
     },
     "metadata": {
      "needs_background": "light"
     },
     "output_type": "display_data"
    },
    {
     "name": "stdout",
     "output_type": "stream",
     "text": [
      "Performance Metrics\n",
      "Mean Squared Error: 0.07412533339174529\n",
      "Mean Absolute Error: 0.1933551988798214\n",
      "Manhattan distance: 29.776700627492477\n",
      "Euclidean distance: 3.3786537766289073\n"
     ]
    },
    {
     "data": {
      "application/scrapbook.scrap.json+json": {
       "data": 0.07412533339174529,
       "encoder": "json",
       "name": "Stats Model MSE",
       "version": 1
      }
     },
     "metadata": {
      "scrapbook": {
       "data": true,
       "display": false,
       "name": "Stats Model MSE"
      }
     },
     "output_type": "display_data"
    },
    {
     "data": {
      "application/scrapbook.scrap.json+json": {
       "data": 0.1933551988798214,
       "encoder": "json",
       "name": "Stats Model MAE",
       "version": 1
      }
     },
     "metadata": {
      "scrapbook": {
       "data": true,
       "display": false,
       "name": "Stats Model MAE"
      }
     },
     "output_type": "display_data"
    },
    {
     "data": {
      "application/scrapbook.scrap.json+json": {
       "data": 29.776700627492477,
       "encoder": "json",
       "name": "Stats Model Manhattan Distance",
       "version": 1
      }
     },
     "metadata": {
      "scrapbook": {
       "data": true,
       "display": false,
       "name": "Stats Model Manhattan Distance"
      }
     },
     "output_type": "display_data"
    },
    {
     "data": {
      "application/scrapbook.scrap.json+json": {
       "data": 3.3786537766289073,
       "encoder": "json",
       "name": "Stats Model Euclidean distance",
       "version": 1
      }
     },
     "metadata": {
      "scrapbook": {
       "data": true,
       "display": false,
       "name": "Stats Model Euclidean distance"
      }
     },
     "output_type": "display_data"
    },
    {
     "data": {
      "application/scrapbook.scrap.json+json": {
       "data": [
        -0.6411191693407887,
        -0.3373775877159992,
        0.07166568949980477,
        -0.36360137511550417,
        0.7593332125449754,
        0.0025570427786319547,
        0.25912899863248456,
        0.03853113374412266
       ],
       "encoder": "json",
       "name": "Coefficients",
       "version": 1
      }
     },
     "metadata": {
      "scrapbook": {
       "data": true,
       "display": false,
       "name": "Coefficients"
      }
     },
     "output_type": "display_data"
    },
    {
     "name": "stdout",
     "output_type": "stream",
     "text": [
      "Stats Model MAE 0.1933551988798214\n"
     ]
    }
   ],
   "source": [
    "coefficients , y_pred =statsModel.statsModel(X_train,y_train,X_test,y_test)\n",
    "#Store MSE Value \n",
    "sb.glue(\"Coefficients\",coefficients)\n",
    "mae = mean_absolute_error(y_pred, y_test)\n",
    "print(\"Stats Model MAE\", mae)"
   ]
  },
  {
   "cell_type": "markdown",
   "id": "d861d9d2",
   "metadata": {
    "papermill": {
     "duration": 0.008909,
     "end_time": "2022-07-24T10:31:11.870861",
     "exception": false,
     "start_time": "2022-07-24T10:31:11.861952",
     "status": "completed"
    },
    "tags": []
   },
   "source": [
    "# Catboost Model "
   ]
  },
  {
   "cell_type": "code",
   "execution_count": 6,
   "id": "0d23337f",
   "metadata": {
    "execution": {
     "iopub.execute_input": "2022-07-24T10:31:11.916185Z",
     "iopub.status.busy": "2022-07-24T10:31:11.914884Z",
     "iopub.status.idle": "2022-07-24T10:31:14.990162Z",
     "shell.execute_reply": "2022-07-24T10:31:14.973070Z"
    },
    "papermill": {
     "duration": 3.117027,
     "end_time": "2022-07-24T10:31:15.003571",
     "exception": false,
     "start_time": "2022-07-24T10:31:11.886544",
     "status": "completed"
    },
    "tags": []
   },
   "outputs": [
    {
     "name": "stdout",
     "output_type": "stream",
     "text": [
      "Learning rate set to 0.037906\n",
      "0:\tlearn: 0.9717742\ttotal: 56.5ms\tremaining: 56.5s\n",
      "1:\tlearn: 0.9395557\ttotal: 56.8ms\tremaining: 28.3s\n",
      "2:\tlearn: 0.9122111\ttotal: 57.7ms\tremaining: 19.2s\n"
     ]
    },
    {
     "name": "stdout",
     "output_type": "stream",
     "text": [
      "3:\tlearn: 0.8813826\ttotal: 59.8ms\tremaining: 14.9s\n",
      "4:\tlearn: 0.8563384\ttotal: 65.9ms\tremaining: 13.1s\n",
      "5:\tlearn: 0.8283440\ttotal: 67.2ms\tremaining: 11.1s\n",
      "6:\tlearn: 0.8056387\ttotal: 67.4ms\tremaining: 9.56s\n",
      "7:\tlearn: 0.7825705\ttotal: 67.8ms\tremaining: 8.4s\n",
      "8:\tlearn: 0.7564753\ttotal: 70.1ms\tremaining: 7.72s\n",
      "9:\tlearn: 0.7324037\ttotal: 70.5ms\tremaining: 6.98s\n",
      "10:\tlearn: 0.7095290\ttotal: 72.4ms\tremaining: 6.51s\n",
      "11:\tlearn: 0.6866581\ttotal: 73ms\tremaining: 6.01s\n",
      "12:\tlearn: 0.6681005\ttotal: 74ms\tremaining: 5.62s\n",
      "13:\tlearn: 0.6493569\ttotal: 78.4ms\tremaining: 5.52s\n",
      "14:\tlearn: 0.6291019\ttotal: 78.6ms\tremaining: 5.16s\n",
      "15:\tlearn: 0.6107755\ttotal: 78.9ms\tremaining: 4.85s\n",
      "16:\tlearn: 0.5917278\ttotal: 79.1ms\tremaining: 4.57s\n",
      "17:\tlearn: 0.5747782\ttotal: 79.3ms\tremaining: 4.33s\n",
      "18:\tlearn: 0.5580336\ttotal: 79.5ms\tremaining: 4.11s\n",
      "19:\tlearn: 0.5446752\ttotal: 79.6ms\tremaining: 3.9s\n",
      "20:\tlearn: 0.5274274\ttotal: 79.9ms\tremaining: 3.73s\n",
      "21:\tlearn: 0.5109990\ttotal: 82.2ms\tremaining: 3.65s\n"
     ]
    },
    {
     "name": "stdout",
     "output_type": "stream",
     "text": [
      "22:\tlearn: 0.4957595\ttotal: 83.5ms\tremaining: 3.54s\n",
      "23:\tlearn: 0.4805704\ttotal: 86.7ms\tremaining: 3.52s\n",
      "24:\tlearn: 0.4650816\ttotal: 87.2ms\tremaining: 3.4s\n",
      "25:\tlearn: 0.4509069\ttotal: 87.7ms\tremaining: 3.29s\n",
      "26:\tlearn: 0.4377599\ttotal: 91.6ms\tremaining: 3.3s\n",
      "27:\tlearn: 0.4254545\ttotal: 93.7ms\tremaining: 3.25s\n",
      "28:\tlearn: 0.4132944\ttotal: 94.3ms\tremaining: 3.16s\n",
      "29:\tlearn: 0.4006274\ttotal: 96ms\tremaining: 3.1s\n",
      "30:\tlearn: 0.3907824\ttotal: 96.9ms\tremaining: 3.03s\n",
      "31:\tlearn: 0.3793525\ttotal: 97.9ms\tremaining: 2.96s\n",
      "32:\tlearn: 0.3704873\ttotal: 99.1ms\tremaining: 2.9s\n",
      "33:\tlearn: 0.3601058\ttotal: 102ms\tremaining: 2.89s\n",
      "34:\tlearn: 0.3500064\ttotal: 102ms\tremaining: 2.81s\n",
      "35:\tlearn: 0.3405148\ttotal: 114ms\tremaining: 3.05s\n",
      "36:\tlearn: 0.3313468\ttotal: 115ms\tremaining: 2.99s\n",
      "37:\tlearn: 0.3211343\ttotal: 117ms\tremaining: 2.96s\n",
      "38:\tlearn: 0.3117988\ttotal: 119ms\tremaining: 2.93s\n",
      "39:\tlearn: 0.3041597\ttotal: 120ms\tremaining: 2.88s\n",
      "40:\tlearn: 0.2949430\ttotal: 121ms\tremaining: 2.84s\n",
      "41:\tlearn: 0.2879811\ttotal: 122ms\tremaining: 2.79s\n",
      "42:\tlearn: 0.2793929\ttotal: 130ms\tremaining: 2.9s\n",
      "43:\tlearn: 0.2716490\ttotal: 131ms\tremaining: 2.85s\n",
      "44:\tlearn: 0.2646010\ttotal: 132ms\tremaining: 2.79s\n"
     ]
    },
    {
     "name": "stdout",
     "output_type": "stream",
     "text": [
      "45:\tlearn: 0.2603510\ttotal: 135ms\tremaining: 2.79s\n",
      "46:\tlearn: 0.2530043\ttotal: 136ms\tremaining: 2.77s\n",
      "47:\tlearn: 0.2467441\ttotal: 140ms\tremaining: 2.77s\n",
      "48:\tlearn: 0.2411088\ttotal: 141ms\tremaining: 2.73s\n",
      "49:\tlearn: 0.2348329\ttotal: 142ms\tremaining: 2.71s\n",
      "50:\tlearn: 0.2293709\ttotal: 145ms\tremaining: 2.69s\n",
      "51:\tlearn: 0.2236358\ttotal: 145ms\tremaining: 2.65s\n",
      "52:\tlearn: 0.2178126\ttotal: 148ms\tremaining: 2.65s\n",
      "53:\tlearn: 0.2121092\ttotal: 150ms\tremaining: 2.63s\n",
      "54:\tlearn: 0.2061011\ttotal: 152ms\tremaining: 2.6s\n",
      "55:\tlearn: 0.2006245\ttotal: 152ms\tremaining: 2.56s\n",
      "56:\tlearn: 0.1951139\ttotal: 152ms\tremaining: 2.52s\n",
      "57:\tlearn: 0.1902162\ttotal: 154ms\tremaining: 2.51s\n",
      "58:\tlearn: 0.1865231\ttotal: 162ms\tremaining: 2.58s\n"
     ]
    },
    {
     "name": "stdout",
     "output_type": "stream",
     "text": [
      "59:\tlearn: 0.1835135\ttotal: 211ms\tremaining: 3.3s\n",
      "60:\tlearn: 0.1791006\ttotal: 212ms\tremaining: 3.27s\n",
      "61:\tlearn: 0.1757036\ttotal: 214ms\tremaining: 3.23s\n",
      "62:\tlearn: 0.1711261\ttotal: 215ms\tremaining: 3.2s\n",
      "63:\tlearn: 0.1687299\ttotal: 216ms\tremaining: 3.15s\n",
      "64:\tlearn: 0.1654561\ttotal: 217ms\tremaining: 3.13s\n",
      "65:\tlearn: 0.1622009\ttotal: 221ms\tremaining: 3.13s\n",
      "66:\tlearn: 0.1599803\ttotal: 222ms\tremaining: 3.09s\n",
      "67:\tlearn: 0.1564511\ttotal: 223ms\tremaining: 3.05s\n",
      "68:\tlearn: 0.1526882\ttotal: 224ms\tremaining: 3.02s\n"
     ]
    },
    {
     "name": "stdout",
     "output_type": "stream",
     "text": [
      "69:\tlearn: 0.1492396\ttotal: 227ms\tremaining: 3.01s\n",
      "70:\tlearn: 0.1454386\ttotal: 229ms\tremaining: 3s\n",
      "71:\tlearn: 0.1432307\ttotal: 231ms\tremaining: 2.98s\n",
      "72:\tlearn: 0.1402670\ttotal: 232ms\tremaining: 2.95s\n",
      "73:\tlearn: 0.1369674\ttotal: 233ms\tremaining: 2.91s\n",
      "74:\tlearn: 0.1334996\ttotal: 233ms\tremaining: 2.88s\n",
      "75:\tlearn: 0.1306797\ttotal: 234ms\tremaining: 2.85s\n",
      "76:\tlearn: 0.1276804\ttotal: 236ms\tremaining: 2.82s\n",
      "77:\tlearn: 0.1250142\ttotal: 236ms\tremaining: 2.79s\n",
      "78:\tlearn: 0.1222941\ttotal: 236ms\tremaining: 2.75s\n",
      "79:\tlearn: 0.1196720\ttotal: 237ms\tremaining: 2.72s\n",
      "80:\tlearn: 0.1178344\ttotal: 237ms\tremaining: 2.69s\n",
      "81:\tlearn: 0.1156116\ttotal: 238ms\tremaining: 2.66s\n",
      "82:\tlearn: 0.1128848\ttotal: 238ms\tremaining: 2.63s\n",
      "83:\tlearn: 0.1115101\ttotal: 238ms\tremaining: 2.6s\n",
      "84:\tlearn: 0.1091865\ttotal: 241ms\tremaining: 2.59s\n",
      "85:\tlearn: 0.1067044\ttotal: 242ms\tremaining: 2.57s\n",
      "86:\tlearn: 0.1043568\ttotal: 242ms\tremaining: 2.54s\n",
      "87:\tlearn: 0.1029961\ttotal: 243ms\tremaining: 2.52s\n",
      "88:\tlearn: 0.1008390\ttotal: 244ms\tremaining: 2.5s\n",
      "89:\tlearn: 0.0987201\ttotal: 245ms\tremaining: 2.47s\n",
      "90:\tlearn: 0.0969504\ttotal: 245ms\tremaining: 2.45s\n",
      "91:\tlearn: 0.0956555\ttotal: 245ms\tremaining: 2.42s\n",
      "92:\tlearn: 0.0940205\ttotal: 246ms\tremaining: 2.39s\n",
      "93:\tlearn: 0.0922813\ttotal: 246ms\tremaining: 2.37s\n",
      "94:\tlearn: 0.0913741\ttotal: 248ms\tremaining: 2.36s\n",
      "95:\tlearn: 0.0899186\ttotal: 253ms\tremaining: 2.38s\n",
      "96:\tlearn: 0.0890479\ttotal: 253ms\tremaining: 2.36s\n",
      "97:\tlearn: 0.0880675\ttotal: 254ms\tremaining: 2.33s\n",
      "98:\tlearn: 0.0862132\ttotal: 254ms\tremaining: 2.31s\n",
      "99:\tlearn: 0.0845973\ttotal: 256ms\tremaining: 2.31s\n",
      "100:\tlearn: 0.0830438\ttotal: 257ms\tremaining: 2.28s\n",
      "101:\tlearn: 0.0818533\ttotal: 257ms\tremaining: 2.26s\n",
      "102:\tlearn: 0.0804301\ttotal: 257ms\tremaining: 2.24s\n",
      "103:\tlearn: 0.0798327\ttotal: 258ms\tremaining: 2.22s\n",
      "104:\tlearn: 0.0788869\ttotal: 258ms\tremaining: 2.2s\n",
      "105:\tlearn: 0.0777490\ttotal: 258ms\tremaining: 2.18s\n",
      "106:\tlearn: 0.0764855\ttotal: 275ms\tremaining: 2.29s\n",
      "107:\tlearn: 0.0754377\ttotal: 275ms\tremaining: 2.27s\n",
      "108:\tlearn: 0.0744305\ttotal: 276ms\tremaining: 2.25s\n",
      "109:\tlearn: 0.0736495\ttotal: 276ms\tremaining: 2.23s\n"
     ]
    },
    {
     "name": "stdout",
     "output_type": "stream",
     "text": [
      "110:\tlearn: 0.0725255\ttotal: 276ms\tremaining: 2.21s\n",
      "111:\tlearn: 0.0719704\ttotal: 276ms\tremaining: 2.19s\n",
      "112:\tlearn: 0.0712122\ttotal: 277ms\tremaining: 2.17s\n",
      "113:\tlearn: 0.0701291\ttotal: 277ms\tremaining: 2.15s\n",
      "114:\tlearn: 0.0690919\ttotal: 277ms\tremaining: 2.13s\n",
      "115:\tlearn: 0.0683117\ttotal: 278ms\tremaining: 2.12s\n",
      "116:\tlearn: 0.0673897\ttotal: 279ms\tremaining: 2.1s\n",
      "117:\tlearn: 0.0664277\ttotal: 282ms\tremaining: 2.11s\n",
      "118:\tlearn: 0.0654944\ttotal: 284ms\tremaining: 2.1s\n",
      "119:\tlearn: 0.0646544\ttotal: 288ms\tremaining: 2.11s\n",
      "120:\tlearn: 0.0637179\ttotal: 289ms\tremaining: 2.1s\n",
      "121:\tlearn: 0.0628949\ttotal: 290ms\tremaining: 2.08s\n",
      "122:\tlearn: 0.0625365\ttotal: 290ms\tremaining: 2.07s\n",
      "123:\tlearn: 0.0618387\ttotal: 290ms\tremaining: 2.05s\n",
      "124:\tlearn: 0.0612708\ttotal: 291ms\tremaining: 2.03s\n",
      "125:\tlearn: 0.0605638\ttotal: 291ms\tremaining: 2.02s\n",
      "126:\tlearn: 0.0599266\ttotal: 292ms\tremaining: 2.01s\n",
      "127:\tlearn: 0.0597581\ttotal: 292ms\tremaining: 1.99s\n",
      "128:\tlearn: 0.0593616\ttotal: 293ms\tremaining: 1.98s\n",
      "129:\tlearn: 0.0590025\ttotal: 293ms\tremaining: 1.96s\n",
      "130:\tlearn: 0.0587246\ttotal: 296ms\tremaining: 1.96s\n",
      "131:\tlearn: 0.0581501\ttotal: 296ms\tremaining: 1.95s\n",
      "132:\tlearn: 0.0575441\ttotal: 296ms\tremaining: 1.93s\n",
      "133:\tlearn: 0.0572092\ttotal: 296ms\tremaining: 1.92s\n",
      "134:\tlearn: 0.0568299\ttotal: 297ms\tremaining: 1.9s\n",
      "135:\tlearn: 0.0564089\ttotal: 297ms\tremaining: 1.89s\n",
      "136:\tlearn: 0.0559042\ttotal: 297ms\tremaining: 1.87s\n",
      "137:\tlearn: 0.0554448\ttotal: 298ms\tremaining: 1.86s\n",
      "138:\tlearn: 0.0550465\ttotal: 298ms\tremaining: 1.84s\n",
      "139:\tlearn: 0.0545741\ttotal: 298ms\tremaining: 1.83s\n",
      "140:\tlearn: 0.0542415\ttotal: 298ms\tremaining: 1.82s\n",
      "141:\tlearn: 0.0538849\ttotal: 300ms\tremaining: 1.81s\n",
      "142:\tlearn: 0.0535042\ttotal: 300ms\tremaining: 1.8s\n",
      "143:\tlearn: 0.0531701\ttotal: 309ms\tremaining: 1.84s\n",
      "144:\tlearn: 0.0528253\ttotal: 315ms\tremaining: 1.86s\n",
      "145:\tlearn: 0.0525419\ttotal: 316ms\tremaining: 1.85s\n"
     ]
    },
    {
     "name": "stdout",
     "output_type": "stream",
     "text": [
      "146:\tlearn: 0.0521237\ttotal: 319ms\tremaining: 1.85s\n",
      "147:\tlearn: 0.0519014\ttotal: 324ms\tremaining: 1.87s\n",
      "148:\tlearn: 0.0515708\ttotal: 325ms\tremaining: 1.85s\n",
      "149:\tlearn: 0.0512318\ttotal: 329ms\tremaining: 1.86s\n",
      "150:\tlearn: 0.0508636\ttotal: 329ms\tremaining: 1.85s\n",
      "151:\tlearn: 0.0506542\ttotal: 329ms\tremaining: 1.84s\n",
      "152:\tlearn: 0.0504953\ttotal: 329ms\tremaining: 1.82s\n",
      "153:\tlearn: 0.0502011\ttotal: 330ms\tremaining: 1.81s\n"
     ]
    },
    {
     "name": "stdout",
     "output_type": "stream",
     "text": [
      "154:\tlearn: 0.0500147\ttotal: 341ms\tremaining: 1.86s\n",
      "155:\tlearn: 0.0497174\ttotal: 341ms\tremaining: 1.85s\n",
      "156:\tlearn: 0.0494910\ttotal: 343ms\tremaining: 1.84s\n",
      "157:\tlearn: 0.0492646\ttotal: 344ms\tremaining: 1.83s\n",
      "158:\tlearn: 0.0490610\ttotal: 344ms\tremaining: 1.82s\n",
      "159:\tlearn: 0.0488823\ttotal: 344ms\tremaining: 1.81s\n",
      "160:\tlearn: 0.0486529\ttotal: 345ms\tremaining: 1.8s\n",
      "161:\tlearn: 0.0484437\ttotal: 345ms\tremaining: 1.78s\n",
      "162:\tlearn: 0.0482722\ttotal: 345ms\tremaining: 1.77s\n",
      "163:\tlearn: 0.0480170\ttotal: 346ms\tremaining: 1.76s\n",
      "164:\tlearn: 0.0478814\ttotal: 346ms\tremaining: 1.75s\n",
      "165:\tlearn: 0.0477730\ttotal: 354ms\tremaining: 1.78s\n",
      "166:\tlearn: 0.0475942\ttotal: 355ms\tremaining: 1.77s\n",
      "167:\tlearn: 0.0474043\ttotal: 355ms\tremaining: 1.76s\n",
      "168:\tlearn: 0.0472696\ttotal: 355ms\tremaining: 1.75s\n",
      "169:\tlearn: 0.0470854\ttotal: 355ms\tremaining: 1.74s\n",
      "170:\tlearn: 0.0468311\ttotal: 356ms\tremaining: 1.73s\n",
      "171:\tlearn: 0.0466694\ttotal: 357ms\tremaining: 1.72s\n",
      "172:\tlearn: 0.0464877\ttotal: 357ms\tremaining: 1.71s\n",
      "173:\tlearn: 0.0463667\ttotal: 357ms\tremaining: 1.7s\n",
      "174:\tlearn: 0.0462784\ttotal: 358ms\tremaining: 1.69s\n",
      "175:\tlearn: 0.0461554\ttotal: 358ms\tremaining: 1.68s\n",
      "176:\tlearn: 0.0459538\ttotal: 366ms\tremaining: 1.7s\n",
      "177:\tlearn: 0.0458105\ttotal: 366ms\tremaining: 1.69s\n",
      "178:\tlearn: 0.0456177\ttotal: 373ms\tremaining: 1.71s\n",
      "179:\tlearn: 0.0454729\ttotal: 374ms\tremaining: 1.7s\n",
      "180:\tlearn: 0.0453660\ttotal: 374ms\tremaining: 1.69s\n",
      "181:\tlearn: 0.0451772\ttotal: 374ms\tremaining: 1.68s\n",
      "182:\tlearn: 0.0450343\ttotal: 374ms\tremaining: 1.67s\n",
      "183:\tlearn: 0.0448570\ttotal: 375ms\tremaining: 1.66s\n",
      "184:\tlearn: 0.0447284\ttotal: 375ms\tremaining: 1.65s\n",
      "185:\tlearn: 0.0445479\ttotal: 375ms\tremaining: 1.64s\n",
      "186:\tlearn: 0.0443897\ttotal: 376ms\tremaining: 1.63s\n",
      "187:\tlearn: 0.0442879\ttotal: 376ms\tremaining: 1.62s\n",
      "188:\tlearn: 0.0439766\ttotal: 381ms\tremaining: 1.63s\n",
      "189:\tlearn: 0.0438589\ttotal: 382ms\tremaining: 1.63s\n",
      "190:\tlearn: 0.0437099\ttotal: 382ms\tremaining: 1.62s\n",
      "191:\tlearn: 0.0435199\ttotal: 384ms\tremaining: 1.61s\n"
     ]
    },
    {
     "name": "stdout",
     "output_type": "stream",
     "text": [
      "192:\tlearn: 0.0434120\ttotal: 388ms\tremaining: 1.62s\n",
      "193:\tlearn: 0.0432524\ttotal: 388ms\tremaining: 1.61s\n",
      "194:\tlearn: 0.0431563\ttotal: 392ms\tremaining: 1.62s\n",
      "195:\tlearn: 0.0428917\ttotal: 395ms\tremaining: 1.62s\n",
      "196:\tlearn: 0.0426970\ttotal: 395ms\tremaining: 1.61s\n",
      "197:\tlearn: 0.0425666\ttotal: 396ms\tremaining: 1.6s\n",
      "198:\tlearn: 0.0424076\ttotal: 396ms\tremaining: 1.59s\n",
      "199:\tlearn: 0.0422503\ttotal: 400ms\tremaining: 1.6s\n",
      "200:\tlearn: 0.0420577\ttotal: 402ms\tremaining: 1.6s\n",
      "201:\tlearn: 0.0419662\ttotal: 404ms\tremaining: 1.6s\n",
      "202:\tlearn: 0.0417862\ttotal: 405ms\tremaining: 1.59s\n",
      "203:\tlearn: 0.0416562\ttotal: 406ms\tremaining: 1.58s\n",
      "204:\tlearn: 0.0414127\ttotal: 406ms\tremaining: 1.57s\n",
      "205:\tlearn: 0.0413250\ttotal: 406ms\tremaining: 1.56s\n",
      "206:\tlearn: 0.0412034\ttotal: 407ms\tremaining: 1.56s\n",
      "207:\tlearn: 0.0411210\ttotal: 410ms\tremaining: 1.56s\n",
      "208:\tlearn: 0.0410006\ttotal: 411ms\tremaining: 1.55s\n",
      "209:\tlearn: 0.0408980\ttotal: 413ms\tremaining: 1.55s\n",
      "210:\tlearn: 0.0408189\ttotal: 413ms\tremaining: 1.55s\n",
      "211:\tlearn: 0.0406498\ttotal: 414ms\tremaining: 1.54s\n",
      "212:\tlearn: 0.0405211\ttotal: 414ms\tremaining: 1.53s\n",
      "213:\tlearn: 0.0404434\ttotal: 416ms\tremaining: 1.53s\n",
      "214:\tlearn: 0.0403400\ttotal: 417ms\tremaining: 1.52s\n",
      "215:\tlearn: 0.0401889\ttotal: 420ms\tremaining: 1.52s\n",
      "216:\tlearn: 0.0401124\ttotal: 421ms\tremaining: 1.52s\n",
      "217:\tlearn: 0.0400061\ttotal: 422ms\tremaining: 1.51s\n",
      "218:\tlearn: 0.0398672\ttotal: 424ms\tremaining: 1.51s\n",
      "219:\tlearn: 0.0397213\ttotal: 424ms\tremaining: 1.5s\n",
      "220:\tlearn: 0.0396535\ttotal: 429ms\tremaining: 1.51s\n",
      "221:\tlearn: 0.0395546\ttotal: 431ms\tremaining: 1.51s\n",
      "222:\tlearn: 0.0394443\ttotal: 431ms\tremaining: 1.5s\n",
      "223:\tlearn: 0.0393717\ttotal: 434ms\tremaining: 1.5s\n",
      "224:\tlearn: 0.0392521\ttotal: 437ms\tremaining: 1.5s\n",
      "225:\tlearn: 0.0391650\ttotal: 437ms\tremaining: 1.5s\n",
      "226:\tlearn: 0.0390204\ttotal: 439ms\tremaining: 1.5s\n",
      "227:\tlearn: 0.0388992\ttotal: 440ms\tremaining: 1.49s\n",
      "228:\tlearn: 0.0388362\ttotal: 441ms\tremaining: 1.48s\n"
     ]
    },
    {
     "name": "stdout",
     "output_type": "stream",
     "text": [
      "229:\tlearn: 0.0387130\ttotal: 442ms\tremaining: 1.48s\n",
      "230:\tlearn: 0.0385956\ttotal: 443ms\tremaining: 1.47s\n",
      "231:\tlearn: 0.0384843\ttotal: 445ms\tremaining: 1.47s\n",
      "232:\tlearn: 0.0383617\ttotal: 446ms\tremaining: 1.47s\n",
      "233:\tlearn: 0.0381996\ttotal: 447ms\tremaining: 1.46s\n",
      "234:\tlearn: 0.0381183\ttotal: 448ms\tremaining: 1.46s\n",
      "235:\tlearn: 0.0379182\ttotal: 449ms\tremaining: 1.45s\n",
      "236:\tlearn: 0.0378192\ttotal: 450ms\tremaining: 1.45s\n",
      "237:\tlearn: 0.0377140\ttotal: 452ms\tremaining: 1.45s\n",
      "238:\tlearn: 0.0376270\ttotal: 453ms\tremaining: 1.44s\n",
      "239:\tlearn: 0.0375292\ttotal: 455ms\tremaining: 1.44s\n",
      "240:\tlearn: 0.0373844\ttotal: 455ms\tremaining: 1.43s\n",
      "241:\tlearn: 0.0371801\ttotal: 457ms\tremaining: 1.43s\n",
      "242:\tlearn: 0.0370861\ttotal: 458ms\tremaining: 1.43s\n",
      "243:\tlearn: 0.0369937\ttotal: 459ms\tremaining: 1.42s\n"
     ]
    },
    {
     "name": "stdout",
     "output_type": "stream",
     "text": [
      "244:\tlearn: 0.0367957\ttotal: 460ms\tremaining: 1.42s\n",
      "245:\tlearn: 0.0367257\ttotal: 480ms\tremaining: 1.47s\n",
      "246:\tlearn: 0.0366216\ttotal: 482ms\tremaining: 1.47s\n",
      "247:\tlearn: 0.0364316\ttotal: 482ms\tremaining: 1.46s\n",
      "248:\tlearn: 0.0363932\ttotal: 483ms\tremaining: 1.46s\n",
      "249:\tlearn: 0.0363112\ttotal: 484ms\tremaining: 1.45s\n",
      "250:\tlearn: 0.0361646\ttotal: 486ms\tremaining: 1.45s\n",
      "251:\tlearn: 0.0360037\ttotal: 491ms\tremaining: 1.46s\n",
      "252:\tlearn: 0.0359409\ttotal: 493ms\tremaining: 1.45s\n",
      "253:\tlearn: 0.0358867\ttotal: 494ms\tremaining: 1.45s\n",
      "254:\tlearn: 0.0356304\ttotal: 495ms\tremaining: 1.45s\n",
      "255:\tlearn: 0.0355188\ttotal: 497ms\tremaining: 1.45s\n",
      "256:\tlearn: 0.0354126\ttotal: 498ms\tremaining: 1.44s\n",
      "257:\tlearn: 0.0351745\ttotal: 501ms\tremaining: 1.44s\n",
      "258:\tlearn: 0.0351266\ttotal: 503ms\tremaining: 1.44s\n",
      "259:\tlearn: 0.0350275\ttotal: 503ms\tremaining: 1.43s\n",
      "260:\tlearn: 0.0348195\ttotal: 504ms\tremaining: 1.43s\n",
      "261:\tlearn: 0.0347247\ttotal: 506ms\tremaining: 1.43s\n",
      "262:\tlearn: 0.0345845\ttotal: 508ms\tremaining: 1.42s\n",
      "263:\tlearn: 0.0344512\ttotal: 508ms\tremaining: 1.42s\n",
      "264:\tlearn: 0.0343006\ttotal: 509ms\tremaining: 1.41s\n"
     ]
    },
    {
     "name": "stdout",
     "output_type": "stream",
     "text": [
      "265:\tlearn: 0.0340925\ttotal: 510ms\tremaining: 1.41s\n",
      "266:\tlearn: 0.0339986\ttotal: 511ms\tremaining: 1.4s\n",
      "267:\tlearn: 0.0339237\ttotal: 513ms\tremaining: 1.4s\n",
      "268:\tlearn: 0.0338829\ttotal: 513ms\tremaining: 1.39s\n",
      "269:\tlearn: 0.0336876\ttotal: 514ms\tremaining: 1.39s\n",
      "270:\tlearn: 0.0336173\ttotal: 515ms\tremaining: 1.38s\n",
      "271:\tlearn: 0.0334674\ttotal: 516ms\tremaining: 1.38s\n",
      "272:\tlearn: 0.0333883\ttotal: 516ms\tremaining: 1.37s\n",
      "273:\tlearn: 0.0332296\ttotal: 517ms\tremaining: 1.37s\n",
      "274:\tlearn: 0.0331537\ttotal: 518ms\tremaining: 1.36s\n",
      "275:\tlearn: 0.0330756\ttotal: 518ms\tremaining: 1.36s\n",
      "276:\tlearn: 0.0329748\ttotal: 519ms\tremaining: 1.35s\n",
      "277:\tlearn: 0.0328663\ttotal: 522ms\tremaining: 1.35s\n",
      "278:\tlearn: 0.0328042\ttotal: 523ms\tremaining: 1.35s\n",
      "279:\tlearn: 0.0326920\ttotal: 526ms\tremaining: 1.35s\n",
      "280:\tlearn: 0.0326103\ttotal: 528ms\tremaining: 1.35s\n",
      "281:\tlearn: 0.0324657\ttotal: 531ms\tremaining: 1.35s\n",
      "282:\tlearn: 0.0323683\ttotal: 532ms\tremaining: 1.35s\n",
      "283:\tlearn: 0.0322762\ttotal: 534ms\tremaining: 1.34s\n",
      "284:\tlearn: 0.0321893\ttotal: 536ms\tremaining: 1.34s\n",
      "285:\tlearn: 0.0321071\ttotal: 537ms\tremaining: 1.34s\n",
      "286:\tlearn: 0.0320522\ttotal: 540ms\tremaining: 1.34s\n",
      "287:\tlearn: 0.0319147\ttotal: 541ms\tremaining: 1.34s\n",
      "288:\tlearn: 0.0318504\ttotal: 541ms\tremaining: 1.33s\n",
      "289:\tlearn: 0.0317635\ttotal: 541ms\tremaining: 1.32s\n",
      "290:\tlearn: 0.0316212\ttotal: 542ms\tremaining: 1.32s\n",
      "291:\tlearn: 0.0315095\ttotal: 543ms\tremaining: 1.32s\n",
      "292:\tlearn: 0.0313665\ttotal: 543ms\tremaining: 1.31s\n",
      "293:\tlearn: 0.0313069\ttotal: 544ms\tremaining: 1.31s\n",
      "294:\tlearn: 0.0312295\ttotal: 545ms\tremaining: 1.3s\n",
      "295:\tlearn: 0.0311159\ttotal: 545ms\tremaining: 1.3s\n",
      "296:\tlearn: 0.0310643\ttotal: 561ms\tremaining: 1.33s\n"
     ]
    },
    {
     "name": "stdout",
     "output_type": "stream",
     "text": [
      "297:\tlearn: 0.0310063\ttotal: 573ms\tremaining: 1.35s\n",
      "298:\tlearn: 0.0309468\ttotal: 575ms\tremaining: 1.35s\n",
      "299:\tlearn: 0.0308496\ttotal: 576ms\tremaining: 1.34s\n",
      "300:\tlearn: 0.0307865\ttotal: 577ms\tremaining: 1.34s\n",
      "301:\tlearn: 0.0306955\ttotal: 581ms\tremaining: 1.34s\n",
      "302:\tlearn: 0.0305996\ttotal: 587ms\tremaining: 1.35s\n",
      "303:\tlearn: 0.0305256\ttotal: 587ms\tremaining: 1.34s\n",
      "304:\tlearn: 0.0304569\ttotal: 588ms\tremaining: 1.34s\n"
     ]
    },
    {
     "name": "stdout",
     "output_type": "stream",
     "text": [
      "305:\tlearn: 0.0303665\ttotal: 636ms\tremaining: 1.44s\n",
      "306:\tlearn: 0.0302850\ttotal: 636ms\tremaining: 1.44s\n",
      "307:\tlearn: 0.0302261\ttotal: 639ms\tremaining: 1.44s\n",
      "308:\tlearn: 0.0301493\ttotal: 639ms\tremaining: 1.43s\n",
      "309:\tlearn: 0.0300929\ttotal: 640ms\tremaining: 1.42s\n",
      "310:\tlearn: 0.0299690\ttotal: 641ms\tremaining: 1.42s\n",
      "311:\tlearn: 0.0298524\ttotal: 641ms\tremaining: 1.41s\n",
      "312:\tlearn: 0.0297427\ttotal: 642ms\tremaining: 1.41s\n",
      "313:\tlearn: 0.0296637\ttotal: 642ms\tremaining: 1.4s\n",
      "314:\tlearn: 0.0295957\ttotal: 643ms\tremaining: 1.4s\n",
      "315:\tlearn: 0.0295322\ttotal: 643ms\tremaining: 1.39s\n",
      "316:\tlearn: 0.0294397\ttotal: 643ms\tremaining: 1.39s\n",
      "317:\tlearn: 0.0293644\ttotal: 644ms\tremaining: 1.38s\n",
      "318:\tlearn: 0.0292899\ttotal: 644ms\tremaining: 1.38s\n"
     ]
    },
    {
     "name": "stdout",
     "output_type": "stream",
     "text": [
      "319:\tlearn: 0.0292239\ttotal: 645ms\tremaining: 1.37s\n",
      "320:\tlearn: 0.0291509\ttotal: 645ms\tremaining: 1.36s\n",
      "321:\tlearn: 0.0291055\ttotal: 646ms\tremaining: 1.36s\n",
      "322:\tlearn: 0.0290347\ttotal: 647ms\tremaining: 1.35s\n",
      "323:\tlearn: 0.0289665\ttotal: 647ms\tremaining: 1.35s\n",
      "324:\tlearn: 0.0289059\ttotal: 648ms\tremaining: 1.34s\n",
      "325:\tlearn: 0.0288487\ttotal: 648ms\tremaining: 1.34s\n",
      "326:\tlearn: 0.0287853\ttotal: 650ms\tremaining: 1.34s\n",
      "327:\tlearn: 0.0287107\ttotal: 650ms\tremaining: 1.33s\n",
      "328:\tlearn: 0.0286505\ttotal: 650ms\tremaining: 1.33s\n",
      "329:\tlearn: 0.0285873\ttotal: 657ms\tremaining: 1.33s\n",
      "330:\tlearn: 0.0285337\ttotal: 657ms\tremaining: 1.33s\n",
      "331:\tlearn: 0.0284534\ttotal: 664ms\tremaining: 1.33s\n",
      "332:\tlearn: 0.0284137\ttotal: 666ms\tremaining: 1.33s\n",
      "333:\tlearn: 0.0283689\ttotal: 670ms\tremaining: 1.33s\n",
      "334:\tlearn: 0.0282824\ttotal: 671ms\tremaining: 1.33s\n",
      "335:\tlearn: 0.0282259\ttotal: 673ms\tremaining: 1.33s\n",
      "336:\tlearn: 0.0281976\ttotal: 673ms\tremaining: 1.32s\n",
      "337:\tlearn: 0.0281374\ttotal: 674ms\tremaining: 1.32s\n",
      "338:\tlearn: 0.0280798\ttotal: 674ms\tremaining: 1.31s\n",
      "339:\tlearn: 0.0280056\ttotal: 674ms\tremaining: 1.31s\n",
      "340:\tlearn: 0.0279854\ttotal: 675ms\tremaining: 1.3s\n",
      "341:\tlearn: 0.0279137\ttotal: 675ms\tremaining: 1.3s\n",
      "342:\tlearn: 0.0278476\ttotal: 676ms\tremaining: 1.29s\n",
      "343:\tlearn: 0.0277574\ttotal: 677ms\tremaining: 1.29s\n",
      "344:\tlearn: 0.0276593\ttotal: 677ms\tremaining: 1.28s\n",
      "345:\tlearn: 0.0275750\ttotal: 678ms\tremaining: 1.28s\n",
      "346:\tlearn: 0.0275106\ttotal: 678ms\tremaining: 1.28s\n",
      "347:\tlearn: 0.0274585\ttotal: 678ms\tremaining: 1.27s\n",
      "348:\tlearn: 0.0274041\ttotal: 679ms\tremaining: 1.27s\n",
      "349:\tlearn: 0.0273273\ttotal: 679ms\tremaining: 1.26s\n",
      "350:\tlearn: 0.0272340\ttotal: 679ms\tremaining: 1.26s\n",
      "351:\tlearn: 0.0272030\ttotal: 680ms\tremaining: 1.25s\n",
      "352:\tlearn: 0.0271682\ttotal: 682ms\tremaining: 1.25s\n",
      "353:\tlearn: 0.0270940\ttotal: 682ms\tremaining: 1.24s\n",
      "354:\tlearn: 0.0270279\ttotal: 682ms\tremaining: 1.24s\n",
      "355:\tlearn: 0.0269490\ttotal: 683ms\tremaining: 1.24s\n",
      "356:\tlearn: 0.0269042\ttotal: 685ms\tremaining: 1.23s\n",
      "357:\tlearn: 0.0268598\ttotal: 685ms\tremaining: 1.23s\n",
      "358:\tlearn: 0.0268116\ttotal: 685ms\tremaining: 1.22s\n",
      "359:\tlearn: 0.0267533\ttotal: 686ms\tremaining: 1.22s\n",
      "360:\tlearn: 0.0266993\ttotal: 686ms\tremaining: 1.21s\n",
      "361:\tlearn: 0.0266681\ttotal: 686ms\tremaining: 1.21s\n",
      "362:\tlearn: 0.0266167\ttotal: 688ms\tremaining: 1.21s\n",
      "363:\tlearn: 0.0265855\ttotal: 690ms\tremaining: 1.21s\n",
      "364:\tlearn: 0.0265319\ttotal: 693ms\tremaining: 1.21s\n",
      "365:\tlearn: 0.0264788\ttotal: 693ms\tremaining: 1.2s\n",
      "366:\tlearn: 0.0264277\ttotal: 694ms\tremaining: 1.2s\n",
      "367:\tlearn: 0.0263796\ttotal: 694ms\tremaining: 1.19s\n",
      "368:\tlearn: 0.0263379\ttotal: 695ms\tremaining: 1.19s\n"
     ]
    },
    {
     "name": "stdout",
     "output_type": "stream",
     "text": [
      "369:\tlearn: 0.0263084\ttotal: 695ms\tremaining: 1.18s\n",
      "370:\tlearn: 0.0262830\ttotal: 696ms\tremaining: 1.18s\n",
      "371:\tlearn: 0.0262363\ttotal: 696ms\tremaining: 1.17s\n",
      "372:\tlearn: 0.0261781\ttotal: 704ms\tremaining: 1.18s\n",
      "373:\tlearn: 0.0261224\ttotal: 705ms\tremaining: 1.18s\n",
      "374:\tlearn: 0.0260810\ttotal: 706ms\tremaining: 1.18s\n",
      "375:\tlearn: 0.0260403\ttotal: 708ms\tremaining: 1.17s\n",
      "376:\tlearn: 0.0260044\ttotal: 708ms\tremaining: 1.17s\n",
      "377:\tlearn: 0.0259741\ttotal: 709ms\tremaining: 1.17s\n",
      "378:\tlearn: 0.0259173\ttotal: 711ms\tremaining: 1.16s\n",
      "379:\tlearn: 0.0258640\ttotal: 712ms\tremaining: 1.16s\n",
      "380:\tlearn: 0.0258336\ttotal: 712ms\tremaining: 1.16s\n",
      "381:\tlearn: 0.0257998\ttotal: 712ms\tremaining: 1.15s\n",
      "382:\tlearn: 0.0257552\ttotal: 715ms\tremaining: 1.15s\n",
      "383:\tlearn: 0.0257093\ttotal: 716ms\tremaining: 1.15s\n",
      "384:\tlearn: 0.0256540\ttotal: 717ms\tremaining: 1.14s\n",
      "385:\tlearn: 0.0256072\ttotal: 718ms\tremaining: 1.14s\n",
      "386:\tlearn: 0.0255396\ttotal: 719ms\tremaining: 1.14s\n",
      "387:\tlearn: 0.0255112\ttotal: 720ms\tremaining: 1.14s\n",
      "388:\tlearn: 0.0254319\ttotal: 721ms\tremaining: 1.13s\n",
      "389:\tlearn: 0.0253868\ttotal: 721ms\tremaining: 1.13s\n",
      "390:\tlearn: 0.0253448\ttotal: 725ms\tremaining: 1.13s\n",
      "391:\tlearn: 0.0253036\ttotal: 729ms\tremaining: 1.13s\n",
      "392:\tlearn: 0.0252589\ttotal: 738ms\tremaining: 1.14s\n",
      "393:\tlearn: 0.0252174\ttotal: 740ms\tremaining: 1.14s\n",
      "394:\tlearn: 0.0251720\ttotal: 742ms\tremaining: 1.14s\n",
      "395:\tlearn: 0.0251275\ttotal: 743ms\tremaining: 1.13s\n",
      "396:\tlearn: 0.0250845\ttotal: 744ms\tremaining: 1.13s\n",
      "397:\tlearn: 0.0250463\ttotal: 744ms\tremaining: 1.13s\n",
      "398:\tlearn: 0.0249996\ttotal: 745ms\tremaining: 1.12s\n"
     ]
    },
    {
     "name": "stdout",
     "output_type": "stream",
     "text": [
      "399:\tlearn: 0.0249539\ttotal: 748ms\tremaining: 1.12s\n",
      "400:\tlearn: 0.0249200\ttotal: 749ms\tremaining: 1.12s\n",
      "401:\tlearn: 0.0248774\ttotal: 751ms\tremaining: 1.12s\n",
      "402:\tlearn: 0.0248607\ttotal: 753ms\tremaining: 1.11s\n",
      "403:\tlearn: 0.0247879\ttotal: 754ms\tremaining: 1.11s\n",
      "404:\tlearn: 0.0247152\ttotal: 755ms\tremaining: 1.11s\n",
      "405:\tlearn: 0.0246780\ttotal: 755ms\tremaining: 1.1s\n",
      "406:\tlearn: 0.0246296\ttotal: 757ms\tremaining: 1.1s\n",
      "407:\tlearn: 0.0246100\ttotal: 758ms\tremaining: 1.1s\n",
      "408:\tlearn: 0.0245840\ttotal: 759ms\tremaining: 1.1s\n"
     ]
    },
    {
     "name": "stdout",
     "output_type": "stream",
     "text": [
      "409:\tlearn: 0.0245577\ttotal: 766ms\tremaining: 1.1s\n",
      "410:\tlearn: 0.0245164\ttotal: 766ms\tremaining: 1.1s\n",
      "411:\tlearn: 0.0244827\ttotal: 766ms\tremaining: 1.09s\n",
      "412:\tlearn: 0.0244430\ttotal: 768ms\tremaining: 1.09s\n",
      "413:\tlearn: 0.0244185\ttotal: 771ms\tremaining: 1.09s\n",
      "414:\tlearn: 0.0243838\ttotal: 771ms\tremaining: 1.09s\n",
      "415:\tlearn: 0.0243213\ttotal: 771ms\tremaining: 1.08s\n",
      "416:\tlearn: 0.0242721\ttotal: 772ms\tremaining: 1.08s\n",
      "417:\tlearn: 0.0242301\ttotal: 775ms\tremaining: 1.08s\n",
      "418:\tlearn: 0.0241851\ttotal: 776ms\tremaining: 1.07s\n",
      "419:\tlearn: 0.0241165\ttotal: 777ms\tremaining: 1.07s\n",
      "420:\tlearn: 0.0240937\ttotal: 777ms\tremaining: 1.07s\n",
      "421:\tlearn: 0.0240542\ttotal: 779ms\tremaining: 1.07s\n",
      "422:\tlearn: 0.0240064\ttotal: 780ms\tremaining: 1.06s\n",
      "423:\tlearn: 0.0239404\ttotal: 783ms\tremaining: 1.06s\n",
      "424:\tlearn: 0.0238846\ttotal: 787ms\tremaining: 1.06s\n",
      "425:\tlearn: 0.0238608\ttotal: 789ms\tremaining: 1.06s\n",
      "426:\tlearn: 0.0238253\ttotal: 789ms\tremaining: 1.06s\n",
      "427:\tlearn: 0.0238082\ttotal: 789ms\tremaining: 1.05s\n",
      "428:\tlearn: 0.0237721\ttotal: 789ms\tremaining: 1.05s\n",
      "429:\tlearn: 0.0237357\ttotal: 790ms\tremaining: 1.05s\n",
      "430:\tlearn: 0.0237019\ttotal: 790ms\tremaining: 1.04s\n",
      "431:\tlearn: 0.0236601\ttotal: 790ms\tremaining: 1.04s\n",
      "432:\tlearn: 0.0236263\ttotal: 791ms\tremaining: 1.03s\n",
      "433:\tlearn: 0.0235872\ttotal: 791ms\tremaining: 1.03s\n",
      "434:\tlearn: 0.0235535\ttotal: 791ms\tremaining: 1.03s\n",
      "435:\tlearn: 0.0234956\ttotal: 798ms\tremaining: 1.03s\n",
      "436:\tlearn: 0.0234461\ttotal: 800ms\tremaining: 1.03s\n",
      "437:\tlearn: 0.0234105\ttotal: 800ms\tremaining: 1.03s\n",
      "438:\tlearn: 0.0233768\ttotal: 801ms\tremaining: 1.02s\n",
      "439:\tlearn: 0.0233328\ttotal: 801ms\tremaining: 1.02s\n",
      "440:\tlearn: 0.0232888\ttotal: 807ms\tremaining: 1.02s\n",
      "441:\tlearn: 0.0232613\ttotal: 809ms\tremaining: 1.02s\n",
      "442:\tlearn: 0.0231971\ttotal: 809ms\tremaining: 1.02s\n",
      "443:\tlearn: 0.0231784\ttotal: 809ms\tremaining: 1.01s\n",
      "444:\tlearn: 0.0231279\ttotal: 814ms\tremaining: 1.01s\n",
      "445:\tlearn: 0.0230946\ttotal: 815ms\tremaining: 1.01s\n"
     ]
    },
    {
     "name": "stdout",
     "output_type": "stream",
     "text": [
      "446:\tlearn: 0.0230770\ttotal: 819ms\tremaining: 1.01s\n",
      "447:\tlearn: 0.0230448\ttotal: 820ms\tremaining: 1.01s\n",
      "448:\tlearn: 0.0230103\ttotal: 821ms\tremaining: 1.01s\n",
      "449:\tlearn: 0.0229729\ttotal: 823ms\tremaining: 1s\n",
      "450:\tlearn: 0.0229514\ttotal: 827ms\tremaining: 1.01s\n",
      "451:\tlearn: 0.0229208\ttotal: 828ms\tremaining: 1s\n",
      "452:\tlearn: 0.0228932\ttotal: 830ms\tremaining: 1s\n",
      "453:\tlearn: 0.0228743\ttotal: 833ms\tremaining: 1s\n",
      "454:\tlearn: 0.0228345\ttotal: 835ms\tremaining: 1000ms\n",
      "455:\tlearn: 0.0227960\ttotal: 837ms\tremaining: 998ms\n",
      "456:\tlearn: 0.0227628\ttotal: 838ms\tremaining: 995ms\n",
      "457:\tlearn: 0.0227309\ttotal: 839ms\tremaining: 992ms\n",
      "458:\tlearn: 0.0227011\ttotal: 842ms\tremaining: 992ms\n",
      "459:\tlearn: 0.0226716\ttotal: 843ms\tremaining: 990ms\n",
      "460:\tlearn: 0.0226239\ttotal: 847ms\tremaining: 991ms\n",
      "461:\tlearn: 0.0225885\ttotal: 849ms\tremaining: 988ms\n",
      "462:\tlearn: 0.0225572\ttotal: 851ms\tremaining: 987ms\n",
      "463:\tlearn: 0.0225299\ttotal: 853ms\tremaining: 985ms\n",
      "464:\tlearn: 0.0225132\ttotal: 854ms\tremaining: 982ms\n"
     ]
    },
    {
     "name": "stdout",
     "output_type": "stream",
     "text": [
      "465:\tlearn: 0.0224542\ttotal: 859ms\tremaining: 984ms\n",
      "466:\tlearn: 0.0224171\ttotal: 865ms\tremaining: 987ms\n",
      "467:\tlearn: 0.0223806\ttotal: 866ms\tremaining: 984ms\n",
      "468:\tlearn: 0.0223352\ttotal: 868ms\tremaining: 982ms\n",
      "469:\tlearn: 0.0222842\ttotal: 870ms\tremaining: 981ms\n",
      "470:\tlearn: 0.0222373\ttotal: 872ms\tremaining: 979ms\n",
      "471:\tlearn: 0.0222027\ttotal: 876ms\tremaining: 980ms\n",
      "472:\tlearn: 0.0221731\ttotal: 878ms\tremaining: 978ms\n"
     ]
    },
    {
     "name": "stdout",
     "output_type": "stream",
     "text": [
      "473:\tlearn: 0.0221276\ttotal: 880ms\tremaining: 976ms\n",
      "474:\tlearn: 0.0221093\ttotal: 883ms\tremaining: 976ms\n",
      "475:\tlearn: 0.0220544\ttotal: 884ms\tremaining: 973ms\n",
      "476:\tlearn: 0.0220198\ttotal: 887ms\tremaining: 972ms\n",
      "477:\tlearn: 0.0220048\ttotal: 888ms\tremaining: 969ms\n",
      "478:\tlearn: 0.0219543\ttotal: 891ms\tremaining: 969ms\n",
      "479:\tlearn: 0.0219018\ttotal: 892ms\tremaining: 967ms\n",
      "480:\tlearn: 0.0218789\ttotal: 895ms\tremaining: 966ms\n",
      "481:\tlearn: 0.0218606\ttotal: 897ms\tremaining: 964ms\n",
      "482:\tlearn: 0.0218127\ttotal: 898ms\tremaining: 962ms\n",
      "483:\tlearn: 0.0217741\ttotal: 899ms\tremaining: 959ms\n",
      "484:\tlearn: 0.0217472\ttotal: 901ms\tremaining: 957ms\n",
      "485:\tlearn: 0.0217177\ttotal: 907ms\tremaining: 959ms\n",
      "486:\tlearn: 0.0216922\ttotal: 907ms\tremaining: 956ms\n",
      "487:\tlearn: 0.0216552\ttotal: 909ms\tremaining: 953ms\n",
      "488:\tlearn: 0.0216219\ttotal: 909ms\tremaining: 950ms\n",
      "489:\tlearn: 0.0215731\ttotal: 910ms\tremaining: 948ms\n",
      "490:\tlearn: 0.0215289\ttotal: 914ms\tremaining: 947ms\n",
      "491:\tlearn: 0.0214863\ttotal: 916ms\tremaining: 946ms\n",
      "492:\tlearn: 0.0214728\ttotal: 917ms\tremaining: 944ms\n",
      "493:\tlearn: 0.0214413\ttotal: 919ms\tremaining: 941ms\n",
      "494:\tlearn: 0.0214338\ttotal: 920ms\tremaining: 939ms\n",
      "495:\tlearn: 0.0213929\ttotal: 921ms\tremaining: 936ms\n",
      "496:\tlearn: 0.0213715\ttotal: 923ms\tremaining: 934ms\n",
      "497:\tlearn: 0.0213513\ttotal: 929ms\tremaining: 936ms\n",
      "498:\tlearn: 0.0213324\ttotal: 930ms\tremaining: 934ms\n",
      "499:\tlearn: 0.0212959\ttotal: 934ms\tremaining: 934ms\n",
      "500:\tlearn: 0.0212786\ttotal: 935ms\tremaining: 931ms\n",
      "501:\tlearn: 0.0212467\ttotal: 938ms\tremaining: 930ms\n",
      "502:\tlearn: 0.0212292\ttotal: 939ms\tremaining: 928ms\n"
     ]
    },
    {
     "name": "stdout",
     "output_type": "stream",
     "text": [
      "503:\tlearn: 0.0211861\ttotal: 941ms\tremaining: 926ms\n",
      "504:\tlearn: 0.0211562\ttotal: 943ms\tremaining: 924ms\n",
      "505:\tlearn: 0.0211454\ttotal: 945ms\tremaining: 923ms\n",
      "506:\tlearn: 0.0211171\ttotal: 946ms\tremaining: 919ms\n",
      "507:\tlearn: 0.0210774\ttotal: 948ms\tremaining: 918ms\n",
      "508:\tlearn: 0.0210361\ttotal: 951ms\tremaining: 918ms\n",
      "509:\tlearn: 0.0210097\ttotal: 953ms\tremaining: 916ms\n",
      "510:\tlearn: 0.0209944\ttotal: 954ms\tremaining: 913ms\n",
      "511:\tlearn: 0.0209575\ttotal: 954ms\tremaining: 909ms\n",
      "512:\tlearn: 0.0209311\ttotal: 956ms\tremaining: 908ms\n",
      "513:\tlearn: 0.0209163\ttotal: 957ms\tremaining: 905ms\n",
      "514:\tlearn: 0.0208897\ttotal: 958ms\tremaining: 902ms\n",
      "515:\tlearn: 0.0208592\ttotal: 962ms\tremaining: 902ms\n",
      "516:\tlearn: 0.0208305\ttotal: 963ms\tremaining: 899ms\n",
      "517:\tlearn: 0.0207998\ttotal: 963ms\tremaining: 896ms\n",
      "518:\tlearn: 0.0207732\ttotal: 966ms\tremaining: 896ms\n",
      "519:\tlearn: 0.0207273\ttotal: 968ms\tremaining: 894ms\n",
      "520:\tlearn: 0.0206986\ttotal: 970ms\tremaining: 892ms\n",
      "521:\tlearn: 0.0206689\ttotal: 973ms\tremaining: 891ms\n",
      "522:\tlearn: 0.0206321\ttotal: 975ms\tremaining: 889ms\n",
      "523:\tlearn: 0.0206075\ttotal: 975ms\tremaining: 886ms\n",
      "524:\tlearn: 0.0205620\ttotal: 977ms\tremaining: 884ms\n",
      "525:\tlearn: 0.0205189\ttotal: 979ms\tremaining: 882ms\n"
     ]
    },
    {
     "name": "stdout",
     "output_type": "stream",
     "text": [
      "526:\tlearn: 0.0204780\ttotal: 982ms\tremaining: 881ms\n",
      "527:\tlearn: 0.0204341\ttotal: 986ms\tremaining: 881ms\n",
      "528:\tlearn: 0.0204077\ttotal: 987ms\tremaining: 878ms\n",
      "529:\tlearn: 0.0203709\ttotal: 988ms\tremaining: 877ms\n",
      "530:\tlearn: 0.0203565\ttotal: 989ms\tremaining: 874ms\n",
      "531:\tlearn: 0.0203324\ttotal: 992ms\tremaining: 873ms\n",
      "532:\tlearn: 0.0203006\ttotal: 993ms\tremaining: 870ms\n",
      "533:\tlearn: 0.0202615\ttotal: 994ms\tremaining: 868ms\n",
      "534:\tlearn: 0.0202364\ttotal: 995ms\tremaining: 864ms\n"
     ]
    },
    {
     "name": "stdout",
     "output_type": "stream",
     "text": [
      "535:\tlearn: 0.0202105\ttotal: 997ms\tremaining: 863ms\n",
      "536:\tlearn: 0.0201929\ttotal: 998ms\tremaining: 860ms\n",
      "537:\tlearn: 0.0201667\ttotal: 998ms\tremaining: 857ms\n",
      "538:\tlearn: 0.0201405\ttotal: 998ms\tremaining: 854ms\n",
      "539:\tlearn: 0.0201134\ttotal: 999ms\tremaining: 851ms\n",
      "540:\tlearn: 0.0200785\ttotal: 1000ms\tremaining: 848ms\n",
      "541:\tlearn: 0.0200556\ttotal: 1s\tremaining: 845ms\n",
      "542:\tlearn: 0.0200442\ttotal: 1s\tremaining: 843ms\n",
      "543:\tlearn: 0.0200058\ttotal: 1s\tremaining: 841ms\n",
      "544:\tlearn: 0.0199788\ttotal: 1s\tremaining: 839ms\n",
      "545:\tlearn: 0.0199454\ttotal: 1.01s\tremaining: 837ms\n",
      "546:\tlearn: 0.0199300\ttotal: 1.01s\tremaining: 834ms\n",
      "547:\tlearn: 0.0199058\ttotal: 1.06s\tremaining: 872ms\n",
      "548:\tlearn: 0.0198982\ttotal: 1.06s\tremaining: 869ms\n",
      "549:\tlearn: 0.0198708\ttotal: 1.06s\tremaining: 869ms\n",
      "550:\tlearn: 0.0198418\ttotal: 1.06s\tremaining: 867ms\n",
      "551:\tlearn: 0.0198161\ttotal: 1.06s\tremaining: 865ms\n",
      "552:\tlearn: 0.0198000\ttotal: 1.07s\tremaining: 865ms\n",
      "553:\tlearn: 0.0197784\ttotal: 1.07s\tremaining: 863ms\n",
      "554:\tlearn: 0.0197477\ttotal: 1.07s\tremaining: 860ms\n",
      "555:\tlearn: 0.0197146\ttotal: 1.07s\tremaining: 857ms\n",
      "556:\tlearn: 0.0196874\ttotal: 1.07s\tremaining: 854ms\n",
      "557:\tlearn: 0.0196653\ttotal: 1.07s\tremaining: 851ms\n",
      "558:\tlearn: 0.0196558\ttotal: 1.07s\tremaining: 848ms\n",
      "559:\tlearn: 0.0196328\ttotal: 1.07s\tremaining: 845ms\n",
      "560:\tlearn: 0.0196212\ttotal: 1.08s\tremaining: 843ms\n"
     ]
    },
    {
     "name": "stdout",
     "output_type": "stream",
     "text": [
      "561:\tlearn: 0.0195972\ttotal: 1.08s\tremaining: 840ms\n",
      "562:\tlearn: 0.0195687\ttotal: 1.08s\tremaining: 838ms\n",
      "563:\tlearn: 0.0195633\ttotal: 1.08s\tremaining: 835ms\n",
      "564:\tlearn: 0.0195334\ttotal: 1.08s\tremaining: 833ms\n",
      "565:\tlearn: 0.0195119\ttotal: 1.08s\tremaining: 830ms\n",
      "566:\tlearn: 0.0194411\ttotal: 1.08s\tremaining: 828ms\n",
      "567:\tlearn: 0.0194304\ttotal: 1.08s\tremaining: 825ms\n",
      "568:\tlearn: 0.0194125\ttotal: 1.09s\tremaining: 823ms\n",
      "569:\tlearn: 0.0193930\ttotal: 1.09s\tremaining: 821ms\n",
      "570:\tlearn: 0.0193736\ttotal: 1.09s\tremaining: 819ms\n",
      "571:\tlearn: 0.0193453\ttotal: 1.09s\tremaining: 816ms\n",
      "572:\tlearn: 0.0193126\ttotal: 1.09s\tremaining: 814ms\n",
      "573:\tlearn: 0.0192997\ttotal: 1.1s\tremaining: 814ms\n",
      "574:\tlearn: 0.0192762\ttotal: 1.1s\tremaining: 811ms\n",
      "575:\tlearn: 0.0192545\ttotal: 1.1s\tremaining: 808ms\n",
      "576:\tlearn: 0.0192213\ttotal: 1.1s\tremaining: 809ms\n"
     ]
    },
    {
     "name": "stdout",
     "output_type": "stream",
     "text": [
      "577:\tlearn: 0.0191740\ttotal: 1.1s\tremaining: 807ms\n",
      "578:\tlearn: 0.0191490\ttotal: 1.11s\tremaining: 806ms\n",
      "579:\tlearn: 0.0191166\ttotal: 1.11s\tremaining: 804ms\n",
      "580:\tlearn: 0.0190857\ttotal: 1.11s\tremaining: 801ms\n",
      "581:\tlearn: 0.0190671\ttotal: 1.11s\tremaining: 798ms\n",
      "582:\tlearn: 0.0190285\ttotal: 1.11s\tremaining: 796ms\n",
      "583:\tlearn: 0.0189918\ttotal: 1.11s\tremaining: 793ms\n",
      "584:\tlearn: 0.0189621\ttotal: 1.11s\tremaining: 790ms\n",
      "585:\tlearn: 0.0189271\ttotal: 1.11s\tremaining: 788ms\n",
      "586:\tlearn: 0.0189087\ttotal: 1.11s\tremaining: 785ms\n",
      "587:\tlearn: 0.0188739\ttotal: 1.11s\tremaining: 782ms\n",
      "588:\tlearn: 0.0188491\ttotal: 1.12s\tremaining: 780ms\n",
      "589:\tlearn: 0.0188146\ttotal: 1.12s\tremaining: 778ms\n",
      "590:\tlearn: 0.0187946\ttotal: 1.12s\tremaining: 775ms\n",
      "591:\tlearn: 0.0187647\ttotal: 1.12s\tremaining: 772ms\n",
      "592:\tlearn: 0.0187334\ttotal: 1.12s\tremaining: 769ms\n",
      "593:\tlearn: 0.0187161\ttotal: 1.12s\tremaining: 766ms\n",
      "594:\tlearn: 0.0186855\ttotal: 1.12s\tremaining: 763ms\n"
     ]
    },
    {
     "name": "stdout",
     "output_type": "stream",
     "text": [
      "595:\tlearn: 0.0186571\ttotal: 1.12s\tremaining: 760ms\n",
      "596:\tlearn: 0.0186467\ttotal: 1.12s\tremaining: 757ms\n",
      "597:\tlearn: 0.0186267\ttotal: 1.13s\tremaining: 756ms\n",
      "598:\tlearn: 0.0185983\ttotal: 1.13s\tremaining: 754ms\n",
      "599:\tlearn: 0.0185782\ttotal: 1.13s\tremaining: 751ms\n",
      "600:\tlearn: 0.0185513\ttotal: 1.13s\tremaining: 749ms\n",
      "601:\tlearn: 0.0185361\ttotal: 1.13s\tremaining: 747ms\n",
      "602:\tlearn: 0.0185137\ttotal: 1.13s\tremaining: 745ms\n",
      "603:\tlearn: 0.0184827\ttotal: 1.15s\tremaining: 753ms\n",
      "604:\tlearn: 0.0184609\ttotal: 1.17s\tremaining: 763ms\n",
      "605:\tlearn: 0.0184383\ttotal: 1.17s\tremaining: 760ms\n",
      "606:\tlearn: 0.0184201\ttotal: 1.17s\tremaining: 758ms\n",
      "607:\tlearn: 0.0184130\ttotal: 1.17s\tremaining: 755ms\n",
      "608:\tlearn: 0.0183937\ttotal: 1.18s\tremaining: 755ms\n",
      "609:\tlearn: 0.0183788\ttotal: 1.18s\tremaining: 753ms\n",
      "610:\tlearn: 0.0183674\ttotal: 1.18s\tremaining: 751ms\n",
      "611:\tlearn: 0.0183626\ttotal: 1.18s\tremaining: 748ms\n",
      "612:\tlearn: 0.0183437\ttotal: 1.18s\tremaining: 745ms\n",
      "613:\tlearn: 0.0183150\ttotal: 1.18s\tremaining: 743ms\n",
      "614:\tlearn: 0.0182932\ttotal: 1.18s\tremaining: 740ms\n",
      "615:\tlearn: 0.0182815\ttotal: 1.18s\tremaining: 738ms\n",
      "616:\tlearn: 0.0182614\ttotal: 1.18s\tremaining: 735ms\n",
      "617:\tlearn: 0.0182319\ttotal: 1.19s\tremaining: 735ms\n",
      "618:\tlearn: 0.0182100\ttotal: 1.19s\tremaining: 732ms\n",
      "619:\tlearn: 0.0181883\ttotal: 1.19s\tremaining: 730ms\n",
      "620:\tlearn: 0.0181776\ttotal: 1.19s\tremaining: 727ms\n",
      "621:\tlearn: 0.0181445\ttotal: 1.19s\tremaining: 724ms\n",
      "622:\tlearn: 0.0181124\ttotal: 1.19s\tremaining: 721ms\n",
      "623:\tlearn: 0.0180947\ttotal: 1.19s\tremaining: 720ms\n",
      "624:\tlearn: 0.0180636\ttotal: 1.2s\tremaining: 717ms\n",
      "625:\tlearn: 0.0180472\ttotal: 1.2s\tremaining: 714ms\n",
      "626:\tlearn: 0.0180378\ttotal: 1.2s\tremaining: 711ms\n",
      "627:\tlearn: 0.0180113\ttotal: 1.2s\tremaining: 711ms\n",
      "628:\tlearn: 0.0179796\ttotal: 1.2s\tremaining: 708ms\n",
      "629:\tlearn: 0.0179647\ttotal: 1.2s\tremaining: 705ms\n"
     ]
    },
    {
     "name": "stdout",
     "output_type": "stream",
     "text": [
      "630:\tlearn: 0.0179355\ttotal: 1.21s\tremaining: 705ms\n",
      "631:\tlearn: 0.0179201\ttotal: 1.21s\tremaining: 703ms\n",
      "632:\tlearn: 0.0179079\ttotal: 1.21s\tremaining: 700ms\n",
      "633:\tlearn: 0.0178820\ttotal: 1.21s\tremaining: 698ms\n",
      "634:\tlearn: 0.0178536\ttotal: 1.21s\tremaining: 695ms\n",
      "635:\tlearn: 0.0178387\ttotal: 1.21s\tremaining: 693ms\n",
      "636:\tlearn: 0.0178116\ttotal: 1.21s\tremaining: 690ms\n",
      "637:\tlearn: 0.0177935\ttotal: 1.21s\tremaining: 688ms\n",
      "638:\tlearn: 0.0177753\ttotal: 1.21s\tremaining: 685ms\n",
      "639:\tlearn: 0.0177499\ttotal: 1.21s\tremaining: 683ms\n",
      "640:\tlearn: 0.0176897\ttotal: 1.22s\tremaining: 681ms\n",
      "641:\tlearn: 0.0176723\ttotal: 1.22s\tremaining: 678ms\n",
      "642:\tlearn: 0.0176438\ttotal: 1.22s\tremaining: 676ms\n",
      "643:\tlearn: 0.0176181\ttotal: 1.22s\tremaining: 673ms\n",
      "644:\tlearn: 0.0175935\ttotal: 1.22s\tremaining: 672ms\n",
      "645:\tlearn: 0.0175652\ttotal: 1.23s\tremaining: 673ms\n",
      "646:\tlearn: 0.0175392\ttotal: 1.23s\tremaining: 670ms\n"
     ]
    },
    {
     "name": "stdout",
     "output_type": "stream",
     "text": [
      "647:\tlearn: 0.0175222\ttotal: 1.23s\tremaining: 667ms\n",
      "648:\tlearn: 0.0174954\ttotal: 1.23s\tremaining: 665ms\n",
      "649:\tlearn: 0.0174680\ttotal: 1.23s\tremaining: 662ms\n",
      "650:\tlearn: 0.0174526\ttotal: 1.23s\tremaining: 660ms\n",
      "651:\tlearn: 0.0174346\ttotal: 1.24s\tremaining: 660ms\n",
      "652:\tlearn: 0.0174108\ttotal: 1.24s\tremaining: 657ms\n",
      "653:\tlearn: 0.0173846\ttotal: 1.24s\tremaining: 655ms\n",
      "654:\tlearn: 0.0173657\ttotal: 1.24s\tremaining: 652ms\n",
      "655:\tlearn: 0.0173609\ttotal: 1.24s\tremaining: 649ms\n",
      "656:\tlearn: 0.0173380\ttotal: 1.24s\tremaining: 646ms\n"
     ]
    },
    {
     "name": "stdout",
     "output_type": "stream",
     "text": [
      "657:\tlearn: 0.0173231\ttotal: 1.24s\tremaining: 645ms\n",
      "658:\tlearn: 0.0173101\ttotal: 1.24s\tremaining: 643ms\n",
      "659:\tlearn: 0.0173051\ttotal: 1.24s\tremaining: 641ms\n",
      "660:\tlearn: 0.0172827\ttotal: 1.24s\tremaining: 638ms\n",
      "661:\tlearn: 0.0172750\ttotal: 1.25s\tremaining: 636ms\n",
      "662:\tlearn: 0.0172622\ttotal: 1.25s\tremaining: 634ms\n",
      "663:\tlearn: 0.0172536\ttotal: 1.25s\tremaining: 631ms\n",
      "664:\tlearn: 0.0172363\ttotal: 1.25s\tremaining: 629ms\n",
      "665:\tlearn: 0.0172041\ttotal: 1.25s\tremaining: 626ms\n",
      "666:\tlearn: 0.0171906\ttotal: 1.25s\tremaining: 624ms\n",
      "667:\tlearn: 0.0171685\ttotal: 1.25s\tremaining: 622ms\n",
      "668:\tlearn: 0.0171520\ttotal: 1.26s\tremaining: 623ms\n",
      "669:\tlearn: 0.0171278\ttotal: 1.26s\tremaining: 621ms\n",
      "670:\tlearn: 0.0171121\ttotal: 1.26s\tremaining: 618ms\n",
      "671:\tlearn: 0.0170982\ttotal: 1.26s\tremaining: 615ms\n",
      "672:\tlearn: 0.0170730\ttotal: 1.26s\tremaining: 613ms\n",
      "673:\tlearn: 0.0170480\ttotal: 1.26s\tremaining: 610ms\n",
      "674:\tlearn: 0.0170244\ttotal: 1.26s\tremaining: 608ms\n",
      "675:\tlearn: 0.0170103\ttotal: 1.26s\tremaining: 605ms\n",
      "676:\tlearn: 0.0170010\ttotal: 1.26s\tremaining: 603ms\n",
      "677:\tlearn: 0.0169793\ttotal: 1.26s\tremaining: 600ms\n",
      "678:\tlearn: 0.0169711\ttotal: 1.27s\tremaining: 599ms\n",
      "679:\tlearn: 0.0169557\ttotal: 1.27s\tremaining: 599ms\n",
      "680:\tlearn: 0.0169419\ttotal: 1.27s\tremaining: 596ms\n",
      "681:\tlearn: 0.0169113\ttotal: 1.27s\tremaining: 594ms\n",
      "682:\tlearn: 0.0168931\ttotal: 1.27s\tremaining: 591ms\n",
      "683:\tlearn: 0.0168692\ttotal: 1.27s\tremaining: 589ms\n"
     ]
    },
    {
     "name": "stdout",
     "output_type": "stream",
     "text": [
      "684:\tlearn: 0.0168467\ttotal: 1.27s\tremaining: 587ms\n",
      "685:\tlearn: 0.0168210\ttotal: 1.28s\tremaining: 584ms\n",
      "686:\tlearn: 0.0168123\ttotal: 1.28s\tremaining: 582ms\n",
      "687:\tlearn: 0.0167910\ttotal: 1.28s\tremaining: 580ms\n",
      "688:\tlearn: 0.0167785\ttotal: 1.28s\tremaining: 578ms\n",
      "689:\tlearn: 0.0167580\ttotal: 1.28s\tremaining: 576ms\n",
      "690:\tlearn: 0.0167479\ttotal: 1.29s\tremaining: 575ms\n",
      "691:\tlearn: 0.0167353\ttotal: 1.29s\tremaining: 573ms\n",
      "692:\tlearn: 0.0167177\ttotal: 1.29s\tremaining: 570ms\n",
      "693:\tlearn: 0.0166763\ttotal: 1.29s\tremaining: 568ms\n",
      "694:\tlearn: 0.0166697\ttotal: 1.3s\tremaining: 569ms\n",
      "695:\tlearn: 0.0166565\ttotal: 1.3s\tremaining: 567ms\n",
      "696:\tlearn: 0.0166353\ttotal: 1.3s\tremaining: 564ms\n",
      "697:\tlearn: 0.0166280\ttotal: 1.3s\tremaining: 562ms\n",
      "698:\tlearn: 0.0166072\ttotal: 1.3s\tremaining: 559ms\n",
      "699:\tlearn: 0.0165862\ttotal: 1.3s\tremaining: 557ms\n",
      "700:\tlearn: 0.0165791\ttotal: 1.3s\tremaining: 554ms\n",
      "701:\tlearn: 0.0165541\ttotal: 1.3s\tremaining: 552ms\n",
      "702:\tlearn: 0.0165339\ttotal: 1.3s\tremaining: 549ms\n",
      "703:\tlearn: 0.0164818\ttotal: 1.3s\tremaining: 547ms\n",
      "704:\tlearn: 0.0164598\ttotal: 1.3s\tremaining: 545ms\n",
      "705:\tlearn: 0.0164530\ttotal: 1.3s\tremaining: 542ms\n",
      "706:\tlearn: 0.0164482\ttotal: 1.3s\tremaining: 540ms\n",
      "707:\tlearn: 0.0164369\ttotal: 1.3s\tremaining: 537ms\n",
      "708:\tlearn: 0.0164119\ttotal: 1.3s\tremaining: 535ms\n",
      "709:\tlearn: 0.0163890\ttotal: 1.31s\tremaining: 534ms\n",
      "710:\tlearn: 0.0163720\ttotal: 1.31s\tremaining: 532ms\n",
      "711:\tlearn: 0.0163529\ttotal: 1.31s\tremaining: 530ms\n",
      "712:\tlearn: 0.0163199\ttotal: 1.31s\tremaining: 528ms\n",
      "713:\tlearn: 0.0162929\ttotal: 1.31s\tremaining: 526ms\n",
      "714:\tlearn: 0.0162846\ttotal: 1.31s\tremaining: 524ms\n",
      "715:\tlearn: 0.0162726\ttotal: 1.31s\tremaining: 521ms\n",
      "716:\tlearn: 0.0162694\ttotal: 1.31s\tremaining: 519ms\n"
     ]
    },
    {
     "name": "stdout",
     "output_type": "stream",
     "text": [
      "717:\tlearn: 0.0162498\ttotal: 1.32s\tremaining: 518ms\n",
      "718:\tlearn: 0.0162421\ttotal: 1.32s\tremaining: 516ms\n",
      "719:\tlearn: 0.0162307\ttotal: 1.32s\tremaining: 514ms\n",
      "720:\tlearn: 0.0162120\ttotal: 1.32s\tremaining: 512ms\n",
      "721:\tlearn: 0.0162078\ttotal: 1.32s\tremaining: 510ms\n",
      "722:\tlearn: 0.0162052\ttotal: 1.33s\tremaining: 510ms\n",
      "723:\tlearn: 0.0161953\ttotal: 1.33s\tremaining: 507ms\n",
      "724:\tlearn: 0.0161723\ttotal: 1.33s\tremaining: 505ms\n"
     ]
    },
    {
     "name": "stdout",
     "output_type": "stream",
     "text": [
      "725:\tlearn: 0.0161575\ttotal: 1.33s\tremaining: 503ms\n",
      "726:\tlearn: 0.0161462\ttotal: 1.33s\tremaining: 501ms\n",
      "727:\tlearn: 0.0161258\ttotal: 1.33s\tremaining: 499ms\n",
      "728:\tlearn: 0.0161074\ttotal: 1.33s\tremaining: 496ms\n",
      "729:\tlearn: 0.0160886\ttotal: 1.33s\tremaining: 494ms\n",
      "730:\tlearn: 0.0160789\ttotal: 1.33s\tremaining: 492ms\n",
      "731:\tlearn: 0.0160608\ttotal: 1.34s\tremaining: 489ms\n",
      "732:\tlearn: 0.0160550\ttotal: 1.34s\tremaining: 487ms\n",
      "733:\tlearn: 0.0160356\ttotal: 1.34s\tremaining: 485ms\n",
      "734:\tlearn: 0.0160206\ttotal: 1.34s\tremaining: 484ms\n",
      "735:\tlearn: 0.0160101\ttotal: 1.34s\tremaining: 483ms\n",
      "736:\tlearn: 0.0159922\ttotal: 1.35s\tremaining: 481ms\n",
      "737:\tlearn: 0.0159780\ttotal: 1.35s\tremaining: 479ms\n",
      "738:\tlearn: 0.0159585\ttotal: 1.35s\tremaining: 477ms\n",
      "739:\tlearn: 0.0159387\ttotal: 1.35s\tremaining: 476ms\n",
      "740:\tlearn: 0.0159166\ttotal: 1.35s\tremaining: 474ms\n",
      "741:\tlearn: 0.0159002\ttotal: 1.36s\tremaining: 472ms\n",
      "742:\tlearn: 0.0158938\ttotal: 1.36s\tremaining: 470ms\n",
      "743:\tlearn: 0.0158737\ttotal: 1.37s\tremaining: 470ms\n",
      "744:\tlearn: 0.0158545\ttotal: 1.37s\tremaining: 468ms\n",
      "745:\tlearn: 0.0158393\ttotal: 1.37s\tremaining: 466ms\n",
      "746:\tlearn: 0.0158300\ttotal: 1.37s\tremaining: 464ms\n",
      "747:\tlearn: 0.0158099\ttotal: 1.37s\tremaining: 462ms\n",
      "748:\tlearn: 0.0157925\ttotal: 1.37s\tremaining: 459ms\n",
      "749:\tlearn: 0.0157827\ttotal: 1.37s\tremaining: 457ms\n",
      "750:\tlearn: 0.0157710\ttotal: 1.37s\tremaining: 455ms\n",
      "751:\tlearn: 0.0157580\ttotal: 1.37s\tremaining: 453ms\n",
      "752:\tlearn: 0.0157408\ttotal: 1.37s\tremaining: 451ms\n",
      "753:\tlearn: 0.0157267\ttotal: 1.38s\tremaining: 449ms\n",
      "754:\tlearn: 0.0157166\ttotal: 1.38s\tremaining: 446ms\n",
      "755:\tlearn: 0.0156984\ttotal: 1.38s\tremaining: 444ms\n",
      "756:\tlearn: 0.0156807\ttotal: 1.38s\tremaining: 442ms\n",
      "757:\tlearn: 0.0156704\ttotal: 1.38s\tremaining: 440ms\n",
      "758:\tlearn: 0.0156584\ttotal: 1.38s\tremaining: 438ms\n",
      "759:\tlearn: 0.0156385\ttotal: 1.38s\tremaining: 436ms\n",
      "760:\tlearn: 0.0156223\ttotal: 1.38s\tremaining: 434ms\n",
      "761:\tlearn: 0.0156108\ttotal: 1.38s\tremaining: 432ms\n",
      "762:\tlearn: 0.0155928\ttotal: 1.39s\tremaining: 430ms\n",
      "763:\tlearn: 0.0155799\ttotal: 1.39s\tremaining: 428ms\n",
      "764:\tlearn: 0.0155613\ttotal: 1.39s\tremaining: 427ms\n",
      "765:\tlearn: 0.0155558\ttotal: 1.39s\tremaining: 425ms\n",
      "766:\tlearn: 0.0155386\ttotal: 1.39s\tremaining: 422ms\n"
     ]
    },
    {
     "name": "stdout",
     "output_type": "stream",
     "text": [
      "767:\tlearn: 0.0155254\ttotal: 1.39s\tremaining: 421ms\n",
      "768:\tlearn: 0.0155160\ttotal: 1.39s\tremaining: 419ms\n",
      "769:\tlearn: 0.0155087\ttotal: 1.4s\tremaining: 417ms\n",
      "770:\tlearn: 0.0154992\ttotal: 1.4s\tremaining: 416ms\n",
      "771:\tlearn: 0.0154709\ttotal: 1.4s\tremaining: 415ms\n",
      "772:\tlearn: 0.0154625\ttotal: 1.4s\tremaining: 413ms\n",
      "773:\tlearn: 0.0154536\ttotal: 1.41s\tremaining: 410ms\n",
      "774:\tlearn: 0.0154440\ttotal: 1.41s\tremaining: 409ms\n",
      "775:\tlearn: 0.0154315\ttotal: 1.41s\tremaining: 407ms\n",
      "776:\tlearn: 0.0154147\ttotal: 1.41s\tremaining: 405ms\n",
      "777:\tlearn: 0.0154107\ttotal: 1.41s\tremaining: 402ms\n",
      "778:\tlearn: 0.0153614\ttotal: 1.41s\tremaining: 400ms\n",
      "779:\tlearn: 0.0153405\ttotal: 1.41s\tremaining: 398ms\n",
      "780:\tlearn: 0.0153167\ttotal: 1.41s\tremaining: 397ms\n",
      "781:\tlearn: 0.0153053\ttotal: 1.42s\tremaining: 395ms\n",
      "782:\tlearn: 0.0152954\ttotal: 1.42s\tremaining: 393ms\n",
      "783:\tlearn: 0.0152768\ttotal: 1.42s\tremaining: 391ms\n",
      "784:\tlearn: 0.0152569\ttotal: 1.42s\tremaining: 389ms\n",
      "785:\tlearn: 0.0152434\ttotal: 1.42s\tremaining: 387ms\n",
      "786:\tlearn: 0.0152270\ttotal: 1.42s\tremaining: 385ms\n",
      "787:\tlearn: 0.0152201\ttotal: 1.42s\tremaining: 383ms\n",
      "788:\tlearn: 0.0152125\ttotal: 1.42s\tremaining: 381ms\n"
     ]
    },
    {
     "name": "stdout",
     "output_type": "stream",
     "text": [
      "789:\tlearn: 0.0152007\ttotal: 1.43s\tremaining: 379ms\n",
      "790:\tlearn: 0.0151866\ttotal: 1.43s\tremaining: 378ms\n",
      "791:\tlearn: 0.0151727\ttotal: 1.43s\tremaining: 376ms\n",
      "792:\tlearn: 0.0151495\ttotal: 1.43s\tremaining: 374ms\n",
      "793:\tlearn: 0.0151449\ttotal: 1.43s\tremaining: 372ms\n",
      "794:\tlearn: 0.0151258\ttotal: 1.44s\tremaining: 370ms\n",
      "795:\tlearn: 0.0151081\ttotal: 1.44s\tremaining: 368ms\n",
      "796:\tlearn: 0.0150944\ttotal: 1.44s\tremaining: 366ms\n",
      "797:\tlearn: 0.0150817\ttotal: 1.44s\tremaining: 364ms\n",
      "798:\tlearn: 0.0150719\ttotal: 1.44s\tremaining: 363ms\n",
      "799:\tlearn: 0.0150555\ttotal: 1.45s\tremaining: 362ms\n",
      "800:\tlearn: 0.0150398\ttotal: 1.45s\tremaining: 360ms\n",
      "801:\tlearn: 0.0150289\ttotal: 1.45s\tremaining: 358ms\n",
      "802:\tlearn: 0.0150149\ttotal: 1.45s\tremaining: 356ms\n"
     ]
    },
    {
     "name": "stdout",
     "output_type": "stream",
     "text": [
      "803:\tlearn: 0.0150071\ttotal: 1.45s\tremaining: 354ms\n",
      "804:\tlearn: 0.0149945\ttotal: 1.46s\tremaining: 353ms\n",
      "805:\tlearn: 0.0149818\ttotal: 1.46s\tremaining: 351ms\n",
      "806:\tlearn: 0.0149597\ttotal: 1.46s\tremaining: 349ms\n",
      "807:\tlearn: 0.0149523\ttotal: 1.46s\tremaining: 347ms\n",
      "808:\tlearn: 0.0149362\ttotal: 1.46s\tremaining: 345ms\n",
      "809:\tlearn: 0.0149171\ttotal: 1.46s\tremaining: 343ms\n",
      "810:\tlearn: 0.0149003\ttotal: 1.47s\tremaining: 342ms\n",
      "811:\tlearn: 0.0148850\ttotal: 1.47s\tremaining: 340ms\n",
      "812:\tlearn: 0.0148725\ttotal: 1.47s\tremaining: 338ms\n",
      "813:\tlearn: 0.0148586\ttotal: 1.47s\tremaining: 336ms\n",
      "814:\tlearn: 0.0148400\ttotal: 1.47s\tremaining: 334ms\n",
      "815:\tlearn: 0.0148361\ttotal: 1.47s\tremaining: 332ms\n",
      "816:\tlearn: 0.0148312\ttotal: 1.48s\tremaining: 331ms\n",
      "817:\tlearn: 0.0148121\ttotal: 1.48s\tremaining: 329ms\n",
      "818:\tlearn: 0.0148046\ttotal: 1.48s\tremaining: 327ms\n",
      "819:\tlearn: 0.0147875\ttotal: 1.48s\tremaining: 325ms\n",
      "820:\tlearn: 0.0147741\ttotal: 1.49s\tremaining: 324ms\n",
      "821:\tlearn: 0.0147556\ttotal: 1.49s\tremaining: 322ms\n",
      "822:\tlearn: 0.0147484\ttotal: 1.49s\tremaining: 320ms\n",
      "823:\tlearn: 0.0147435\ttotal: 1.49s\tremaining: 318ms\n",
      "824:\tlearn: 0.0147330\ttotal: 1.49s\tremaining: 317ms\n",
      "825:\tlearn: 0.0147210\ttotal: 1.49s\tremaining: 314ms\n",
      "826:\tlearn: 0.0147095\ttotal: 1.49s\tremaining: 312ms\n",
      "827:\tlearn: 0.0146975\ttotal: 1.49s\tremaining: 310ms\n",
      "828:\tlearn: 0.0146953\ttotal: 1.5s\tremaining: 308ms\n",
      "829:\tlearn: 0.0146856\ttotal: 1.5s\tremaining: 306ms\n",
      "830:\tlearn: 0.0146647\ttotal: 1.5s\tremaining: 305ms\n",
      "831:\tlearn: 0.0146402\ttotal: 1.5s\tremaining: 303ms\n",
      "832:\tlearn: 0.0146314\ttotal: 1.5s\tremaining: 301ms\n",
      "833:\tlearn: 0.0146164\ttotal: 1.5s\tremaining: 299ms\n",
      "834:\tlearn: 0.0145907\ttotal: 1.51s\tremaining: 298ms\n",
      "835:\tlearn: 0.0145770\ttotal: 1.51s\tremaining: 296ms\n"
     ]
    },
    {
     "name": "stdout",
     "output_type": "stream",
     "text": [
      "836:\tlearn: 0.0145593\ttotal: 1.51s\tremaining: 294ms\n",
      "837:\tlearn: 0.0145438\ttotal: 1.51s\tremaining: 292ms\n",
      "838:\tlearn: 0.0145410\ttotal: 1.51s\tremaining: 290ms\n",
      "839:\tlearn: 0.0145273\ttotal: 1.51s\tremaining: 288ms\n",
      "840:\tlearn: 0.0145147\ttotal: 1.51s\tremaining: 286ms\n",
      "841:\tlearn: 0.0145090\ttotal: 1.51s\tremaining: 284ms\n",
      "842:\tlearn: 0.0145053\ttotal: 1.52s\tremaining: 283ms\n",
      "843:\tlearn: 0.0144899\ttotal: 1.52s\tremaining: 281ms\n",
      "844:\tlearn: 0.0144804\ttotal: 1.52s\tremaining: 280ms\n",
      "845:\tlearn: 0.0144655\ttotal: 1.53s\tremaining: 278ms\n",
      "846:\tlearn: 0.0144551\ttotal: 1.53s\tremaining: 277ms\n",
      "847:\tlearn: 0.0144383\ttotal: 1.53s\tremaining: 275ms\n",
      "848:\tlearn: 0.0144223\ttotal: 1.54s\tremaining: 273ms\n",
      "849:\tlearn: 0.0144112\ttotal: 1.54s\tremaining: 272ms\n",
      "850:\tlearn: 0.0143972\ttotal: 1.54s\tremaining: 270ms\n",
      "851:\tlearn: 0.0143873\ttotal: 1.54s\tremaining: 268ms\n",
      "852:\tlearn: 0.0143835\ttotal: 1.54s\tremaining: 266ms\n"
     ]
    },
    {
     "name": "stdout",
     "output_type": "stream",
     "text": [
      "853:\tlearn: 0.0143753\ttotal: 1.54s\tremaining: 264ms\n",
      "854:\tlearn: 0.0143594\ttotal: 1.55s\tremaining: 262ms\n",
      "855:\tlearn: 0.0143557\ttotal: 1.55s\tremaining: 260ms\n",
      "856:\tlearn: 0.0143410\ttotal: 1.55s\tremaining: 258ms\n",
      "857:\tlearn: 0.0143291\ttotal: 1.55s\tremaining: 256ms\n",
      "858:\tlearn: 0.0143113\ttotal: 1.55s\tremaining: 255ms\n",
      "859:\tlearn: 0.0142993\ttotal: 1.55s\tremaining: 253ms\n",
      "860:\tlearn: 0.0142842\ttotal: 1.55s\tremaining: 251ms\n",
      "861:\tlearn: 0.0142785\ttotal: 1.55s\tremaining: 249ms\n",
      "862:\tlearn: 0.0142669\ttotal: 1.55s\tremaining: 247ms\n",
      "863:\tlearn: 0.0142581\ttotal: 1.56s\tremaining: 245ms\n",
      "864:\tlearn: 0.0142158\ttotal: 1.56s\tremaining: 243ms\n",
      "865:\tlearn: 0.0142055\ttotal: 1.56s\tremaining: 241ms\n",
      "866:\tlearn: 0.0141652\ttotal: 1.56s\tremaining: 239ms\n",
      "867:\tlearn: 0.0141576\ttotal: 1.56s\tremaining: 237ms\n"
     ]
    },
    {
     "name": "stdout",
     "output_type": "stream",
     "text": [
      "868:\tlearn: 0.0141469\ttotal: 1.56s\tremaining: 236ms\n",
      "869:\tlearn: 0.0141405\ttotal: 1.56s\tremaining: 234ms\n",
      "870:\tlearn: 0.0141263\ttotal: 1.56s\tremaining: 232ms\n",
      "871:\tlearn: 0.0141139\ttotal: 1.57s\tremaining: 230ms\n",
      "872:\tlearn: 0.0141106\ttotal: 1.57s\tremaining: 228ms\n",
      "873:\tlearn: 0.0140695\ttotal: 1.57s\tremaining: 226ms\n",
      "874:\tlearn: 0.0140576\ttotal: 1.57s\tremaining: 224ms\n",
      "875:\tlearn: 0.0140543\ttotal: 1.57s\tremaining: 223ms\n",
      "876:\tlearn: 0.0140445\ttotal: 1.57s\tremaining: 221ms\n",
      "877:\tlearn: 0.0140365\ttotal: 1.57s\tremaining: 219ms\n",
      "878:\tlearn: 0.0140193\ttotal: 1.58s\tremaining: 217ms\n",
      "879:\tlearn: 0.0140067\ttotal: 1.58s\tremaining: 216ms\n",
      "880:\tlearn: 0.0139909\ttotal: 1.58s\tremaining: 214ms\n",
      "881:\tlearn: 0.0139876\ttotal: 1.58s\tremaining: 212ms\n",
      "882:\tlearn: 0.0139712\ttotal: 1.58s\tremaining: 210ms\n",
      "883:\tlearn: 0.0139664\ttotal: 1.59s\tremaining: 209ms\n",
      "884:\tlearn: 0.0139503\ttotal: 1.59s\tremaining: 207ms\n",
      "885:\tlearn: 0.0139405\ttotal: 1.59s\tremaining: 205ms\n",
      "886:\tlearn: 0.0139012\ttotal: 1.59s\tremaining: 203ms\n",
      "887:\tlearn: 0.0138882\ttotal: 1.6s\tremaining: 201ms\n",
      "888:\tlearn: 0.0138730\ttotal: 1.6s\tremaining: 199ms\n",
      "889:\tlearn: 0.0138599\ttotal: 1.6s\tremaining: 198ms\n",
      "890:\tlearn: 0.0138414\ttotal: 1.6s\tremaining: 196ms\n",
      "891:\tlearn: 0.0138254\ttotal: 1.6s\tremaining: 194ms\n",
      "892:\tlearn: 0.0138178\ttotal: 1.6s\tremaining: 192ms\n",
      "893:\tlearn: 0.0138027\ttotal: 1.6s\tremaining: 190ms\n",
      "894:\tlearn: 0.0137921\ttotal: 1.61s\tremaining: 189ms\n",
      "895:\tlearn: 0.0137774\ttotal: 1.61s\tremaining: 187ms\n",
      "896:\tlearn: 0.0137596\ttotal: 1.61s\tremaining: 185ms\n",
      "897:\tlearn: 0.0137494\ttotal: 1.61s\tremaining: 183ms\n",
      "898:\tlearn: 0.0137387\ttotal: 1.61s\tremaining: 181ms\n",
      "899:\tlearn: 0.0137334\ttotal: 1.61s\tremaining: 180ms\n",
      "900:\tlearn: 0.0137272\ttotal: 1.62s\tremaining: 178ms\n",
      "901:\tlearn: 0.0137053\ttotal: 1.62s\tremaining: 176ms\n",
      "902:\tlearn: 0.0136904\ttotal: 1.62s\tremaining: 174ms\n",
      "903:\tlearn: 0.0136823\ttotal: 1.62s\tremaining: 172ms\n",
      "904:\tlearn: 0.0136786\ttotal: 1.62s\tremaining: 170ms\n",
      "905:\tlearn: 0.0136669\ttotal: 1.62s\tremaining: 168ms\n",
      "906:\tlearn: 0.0136563\ttotal: 1.62s\tremaining: 166ms\n",
      "907:\tlearn: 0.0136467\ttotal: 1.62s\tremaining: 164ms\n",
      "908:\tlearn: 0.0136423\ttotal: 1.62s\tremaining: 162ms\n",
      "909:\tlearn: 0.0136285\ttotal: 1.63s\tremaining: 161ms\n",
      "910:\tlearn: 0.0136212\ttotal: 1.63s\tremaining: 159ms\n",
      "911:\tlearn: 0.0136133\ttotal: 1.63s\tremaining: 157ms\n",
      "912:\tlearn: 0.0136057\ttotal: 1.63s\tremaining: 155ms\n",
      "913:\tlearn: 0.0135952\ttotal: 1.63s\tremaining: 153ms\n",
      "914:\tlearn: 0.0135868\ttotal: 1.63s\tremaining: 151ms\n",
      "915:\tlearn: 0.0135717\ttotal: 1.63s\tremaining: 150ms\n",
      "916:\tlearn: 0.0135620\ttotal: 1.63s\tremaining: 148ms\n",
      "917:\tlearn: 0.0135419\ttotal: 1.63s\tremaining: 146ms\n",
      "918:\tlearn: 0.0135287\ttotal: 1.63s\tremaining: 144ms\n"
     ]
    },
    {
     "name": "stdout",
     "output_type": "stream",
     "text": [
      "919:\tlearn: 0.0135218\ttotal: 1.63s\tremaining: 142ms\n",
      "920:\tlearn: 0.0135111\ttotal: 1.64s\tremaining: 140ms\n",
      "921:\tlearn: 0.0135012\ttotal: 1.64s\tremaining: 138ms\n",
      "922:\tlearn: 0.0134924\ttotal: 1.64s\tremaining: 137ms\n",
      "923:\tlearn: 0.0134870\ttotal: 1.64s\tremaining: 135ms\n",
      "924:\tlearn: 0.0134846\ttotal: 1.64s\tremaining: 133ms\n",
      "925:\tlearn: 0.0134757\ttotal: 1.65s\tremaining: 131ms\n",
      "926:\tlearn: 0.0134610\ttotal: 1.65s\tremaining: 130ms\n",
      "927:\tlearn: 0.0134512\ttotal: 1.65s\tremaining: 128ms\n",
      "928:\tlearn: 0.0134455\ttotal: 1.65s\tremaining: 126ms\n",
      "929:\tlearn: 0.0134351\ttotal: 1.65s\tremaining: 124ms\n",
      "930:\tlearn: 0.0134263\ttotal: 1.65s\tremaining: 122ms\n",
      "931:\tlearn: 0.0134202\ttotal: 1.65s\tremaining: 121ms\n",
      "932:\tlearn: 0.0134125\ttotal: 1.65s\tremaining: 119ms\n",
      "933:\tlearn: 0.0134062\ttotal: 1.66s\tremaining: 117ms\n",
      "934:\tlearn: 0.0133977\ttotal: 1.66s\tremaining: 115ms\n",
      "935:\tlearn: 0.0133832\ttotal: 1.66s\tremaining: 113ms\n",
      "936:\tlearn: 0.0133751\ttotal: 1.66s\tremaining: 112ms\n",
      "937:\tlearn: 0.0133639\ttotal: 1.66s\tremaining: 110ms\n",
      "938:\tlearn: 0.0133493\ttotal: 1.66s\tremaining: 108ms\n",
      "939:\tlearn: 0.0133368\ttotal: 1.66s\tremaining: 106ms\n",
      "940:\tlearn: 0.0133300\ttotal: 1.66s\tremaining: 104ms\n"
     ]
    },
    {
     "name": "stdout",
     "output_type": "stream",
     "text": [
      "941:\tlearn: 0.0133167\ttotal: 1.66s\tremaining: 102ms\n",
      "942:\tlearn: 0.0133037\ttotal: 1.67s\tremaining: 101ms\n",
      "943:\tlearn: 0.0132897\ttotal: 1.67s\tremaining: 98.8ms\n",
      "944:\tlearn: 0.0132723\ttotal: 1.67s\tremaining: 97ms\n",
      "945:\tlearn: 0.0132655\ttotal: 1.67s\tremaining: 95.2ms\n",
      "946:\tlearn: 0.0132569\ttotal: 1.67s\tremaining: 93.4ms\n",
      "947:\tlearn: 0.0132412\ttotal: 1.67s\tremaining: 91.7ms\n",
      "948:\tlearn: 0.0132311\ttotal: 1.67s\tremaining: 90ms\n",
      "949:\tlearn: 0.0132143\ttotal: 1.68s\tremaining: 88.2ms\n",
      "950:\tlearn: 0.0132009\ttotal: 1.68s\tremaining: 86.4ms\n",
      "951:\tlearn: 0.0131860\ttotal: 1.68s\tremaining: 84.6ms\n",
      "952:\tlearn: 0.0131840\ttotal: 1.68s\tremaining: 82.8ms\n",
      "953:\tlearn: 0.0131695\ttotal: 1.68s\tremaining: 81ms\n",
      "954:\tlearn: 0.0131546\ttotal: 1.68s\tremaining: 79.3ms\n",
      "955:\tlearn: 0.0131442\ttotal: 1.68s\tremaining: 77.5ms\n",
      "956:\tlearn: 0.0131347\ttotal: 1.68s\tremaining: 75.7ms\n",
      "957:\tlearn: 0.0131199\ttotal: 1.69s\tremaining: 73.9ms\n"
     ]
    },
    {
     "name": "stdout",
     "output_type": "stream",
     "text": [
      "958:\tlearn: 0.0131080\ttotal: 1.69s\tremaining: 72.2ms\n",
      "959:\tlearn: 0.0131029\ttotal: 1.69s\tremaining: 70.4ms\n",
      "960:\tlearn: 0.0130906\ttotal: 1.69s\tremaining: 68.6ms\n",
      "961:\tlearn: 0.0130775\ttotal: 1.69s\tremaining: 66.8ms\n",
      "962:\tlearn: 0.0130646\ttotal: 1.69s\tremaining: 65ms\n",
      "963:\tlearn: 0.0130505\ttotal: 1.69s\tremaining: 63.2ms\n",
      "964:\tlearn: 0.0130432\ttotal: 1.69s\tremaining: 61.4ms\n",
      "965:\tlearn: 0.0130281\ttotal: 1.69s\tremaining: 59.6ms\n",
      "966:\tlearn: 0.0130133\ttotal: 1.69s\tremaining: 57.8ms\n",
      "967:\tlearn: 0.0130030\ttotal: 1.69s\tremaining: 56ms\n",
      "968:\tlearn: 0.0130001\ttotal: 1.7s\tremaining: 54.2ms\n",
      "969:\tlearn: 0.0129963\ttotal: 1.7s\tremaining: 52.6ms\n",
      "970:\tlearn: 0.0129907\ttotal: 1.7s\tremaining: 50.9ms\n",
      "971:\tlearn: 0.0129813\ttotal: 1.7s\tremaining: 49.1ms\n",
      "972:\tlearn: 0.0129734\ttotal: 1.71s\tremaining: 47.3ms\n",
      "973:\tlearn: 0.0129655\ttotal: 1.71s\tremaining: 45.6ms\n",
      "974:\tlearn: 0.0129604\ttotal: 1.71s\tremaining: 43.8ms\n",
      "975:\tlearn: 0.0129526\ttotal: 1.71s\tremaining: 42ms\n",
      "976:\tlearn: 0.0129408\ttotal: 1.71s\tremaining: 40.2ms\n",
      "977:\tlearn: 0.0129292\ttotal: 1.71s\tremaining: 38.5ms\n",
      "978:\tlearn: 0.0129248\ttotal: 1.71s\tremaining: 36.8ms\n",
      "979:\tlearn: 0.0129182\ttotal: 1.72s\tremaining: 35ms\n",
      "980:\tlearn: 0.0129160\ttotal: 1.72s\tremaining: 33.3ms\n",
      "981:\tlearn: 0.0129070\ttotal: 1.72s\tremaining: 31.5ms\n",
      "982:\tlearn: 0.0128982\ttotal: 1.72s\tremaining: 29.8ms\n",
      "983:\tlearn: 0.0128924\ttotal: 1.72s\tremaining: 28ms\n",
      "984:\tlearn: 0.0128853\ttotal: 1.72s\tremaining: 26.2ms\n",
      "985:\tlearn: 0.0128699\ttotal: 1.72s\tremaining: 24.4ms\n",
      "986:\tlearn: 0.0128631\ttotal: 1.72s\tremaining: 22.7ms\n",
      "987:\tlearn: 0.0128538\ttotal: 1.72s\tremaining: 20.9ms\n",
      "988:\tlearn: 0.0128204\ttotal: 1.73s\tremaining: 19.2ms\n",
      "989:\tlearn: 0.0128168\ttotal: 1.73s\tremaining: 17.4ms\n",
      "990:\tlearn: 0.0128069\ttotal: 1.73s\tremaining: 15.7ms\n",
      "991:\tlearn: 0.0127951\ttotal: 1.73s\tremaining: 13.9ms\n",
      "992:\tlearn: 0.0127854\ttotal: 1.73s\tremaining: 12.2ms\n",
      "993:\tlearn: 0.0127749\ttotal: 1.73s\tremaining: 10.5ms\n",
      "994:\tlearn: 0.0127652\ttotal: 1.73s\tremaining: 8.7ms\n",
      "995:\tlearn: 0.0127568\ttotal: 1.73s\tremaining: 6.96ms\n",
      "996:\tlearn: 0.0127447\ttotal: 1.74s\tremaining: 5.22ms\n",
      "997:\tlearn: 0.0127359\ttotal: 1.74s\tremaining: 3.48ms\n",
      "998:\tlearn: 0.0127310\ttotal: 1.74s\tremaining: 1.74ms\n",
      "999:\tlearn: 0.0127226\ttotal: 1.74s\tremaining: 0us\n"
     ]
    },
    {
     "name": "stdout",
     "output_type": "stream",
     "text": [
      "Mean Absolute error 0.019362780505996813\n"
     ]
    },
    {
     "data": {
      "application/scrapbook.scrap.json+json": {
       "data": 0.019362780505996813,
       "encoder": "json",
       "name": "Catboost MAE",
       "version": 1
      }
     },
     "metadata": {
      "scrapbook": {
       "data": true,
       "display": false,
       "name": "Catboost MAE"
      }
     },
     "output_type": "display_data"
    },
    {
     "name": "stdout",
     "output_type": "stream",
     "text": [
      "Catboost MAE 0.019362780505996813\n"
     ]
    }
   ],
   "source": [
    "mae_cb = baselineModels.catboost(X_train,y_train,X_test,y_test)\n",
    "#Store MSE Value\n",
    "sb.glue(\"Catboost MAE\",mae_cb)\n",
    "print(\"Catboost MAE\",mae_cb)"
   ]
  },
  {
   "cell_type": "markdown",
   "id": "cac2bc45",
   "metadata": {
    "papermill": {
     "duration": 0.038698,
     "end_time": "2022-07-24T10:31:15.085983",
     "exception": false,
     "start_time": "2022-07-24T10:31:15.047285",
     "status": "completed"
    },
    "tags": []
   },
   "source": [
    "# TabNet Regressor"
   ]
  },
  {
   "cell_type": "code",
   "execution_count": 7,
   "id": "4e53c6e1",
   "metadata": {
    "execution": {
     "iopub.execute_input": "2022-07-24T10:31:15.152615Z",
     "iopub.status.busy": "2022-07-24T10:31:15.150544Z",
     "iopub.status.idle": "2022-07-24T10:31:15.165999Z",
     "shell.execute_reply": "2022-07-24T10:31:15.163451Z"
    },
    "papermill": {
     "duration": 0.063871,
     "end_time": "2022-07-24T10:31:15.181299",
     "exception": false,
     "start_time": "2022-07-24T10:31:15.117428",
     "status": "completed"
    },
    "tags": []
   },
   "outputs": [],
   "source": [
    "n_epochs = 1000\n",
    "batch_size = 32"
   ]
  },
  {
   "cell_type": "code",
   "execution_count": 8,
   "id": "42f8a60d",
   "metadata": {
    "execution": {
     "iopub.execute_input": "2022-07-24T10:31:15.256374Z",
     "iopub.status.busy": "2022-07-24T10:31:15.254877Z",
     "iopub.status.idle": "2022-07-24T10:34:19.671080Z",
     "shell.execute_reply": "2022-07-24T10:34:19.664212Z"
    },
    "papermill": {
     "duration": 184.465632,
     "end_time": "2022-07-24T10:34:19.691190",
     "exception": false,
     "start_time": "2022-07-24T10:31:15.225558",
     "status": "completed"
    },
    "tags": []
   },
   "outputs": [
    {
     "name": "stdout",
     "output_type": "stream",
     "text": [
      "Device used : cpu\n"
     ]
    },
    {
     "name": "stdout",
     "output_type": "stream",
     "text": [
      "epoch 0  | loss: 1.09952 | train_mse: 0.71041 | train_mae: 0.64387 |  0:00:02s\n"
     ]
    },
    {
     "name": "stdout",
     "output_type": "stream",
     "text": [
      "epoch 1  | loss: 0.38663 | train_mse: 0.91074 | train_mae: 0.63903 |  0:00:03s\n"
     ]
    },
    {
     "name": "stdout",
     "output_type": "stream",
     "text": [
      "epoch 2  | loss: 0.31499 | train_mse: 1.06694 | train_mae: 0.60311 |  0:00:05s\n"
     ]
    },
    {
     "name": "stdout",
     "output_type": "stream",
     "text": [
      "epoch 3  | loss: 0.21183 | train_mse: 0.43745 | train_mae: 0.43269 |  0:00:07s\n"
     ]
    },
    {
     "name": "stdout",
     "output_type": "stream",
     "text": [
      "epoch 4  | loss: 0.18202 | train_mse: 0.22221 | train_mae: 0.3353  |  0:00:08s\n"
     ]
    },
    {
     "name": "stdout",
     "output_type": "stream",
     "text": [
      "epoch 5  | loss: 0.16842 | train_mse: 0.11498 | train_mae: 0.25649 |  0:00:09s\n"
     ]
    },
    {
     "name": "stdout",
     "output_type": "stream",
     "text": [
      "epoch 6  | loss: 0.15421 | train_mse: 0.13869 | train_mae: 0.30077 |  0:00:10s\n"
     ]
    },
    {
     "name": "stdout",
     "output_type": "stream",
     "text": [
      "epoch 7  | loss: 0.16847 | train_mse: 0.15938 | train_mae: 0.30912 |  0:00:11s\n"
     ]
    },
    {
     "name": "stdout",
     "output_type": "stream",
     "text": [
      "epoch 8  | loss: 0.17058 | train_mse: 0.1176  | train_mae: 0.26559 |  0:00:12s\n"
     ]
    },
    {
     "name": "stdout",
     "output_type": "stream",
     "text": [
      "epoch 9  | loss: 0.14638 | train_mse: 0.09959 | train_mae: 0.24601 |  0:00:13s\n"
     ]
    },
    {
     "name": "stdout",
     "output_type": "stream",
     "text": [
      "epoch 10 | loss: 0.12916 | train_mse: 0.10438 | train_mae: 0.24361 |  0:00:14s\n"
     ]
    },
    {
     "name": "stdout",
     "output_type": "stream",
     "text": [
      "epoch 11 | loss: 0.11396 | train_mse: 0.07613 | train_mae: 0.21044 |  0:00:15s\n"
     ]
    },
    {
     "name": "stdout",
     "output_type": "stream",
     "text": [
      "epoch 12 | loss: 0.10033 | train_mse: 0.09206 | train_mae: 0.22831 |  0:00:16s\n"
     ]
    },
    {
     "name": "stdout",
     "output_type": "stream",
     "text": [
      "epoch 13 | loss: 0.11079 | train_mse: 0.0811  | train_mae: 0.21347 |  0:00:17s\n"
     ]
    },
    {
     "name": "stdout",
     "output_type": "stream",
     "text": [
      "epoch 14 | loss: 0.13987 | train_mse: 0.1113  | train_mae: 0.24478 |  0:00:18s\n"
     ]
    },
    {
     "name": "stdout",
     "output_type": "stream",
     "text": [
      "epoch 15 | loss: 0.13351 | train_mse: 0.1695  | train_mae: 0.29889 |  0:00:18s\n"
     ]
    },
    {
     "name": "stdout",
     "output_type": "stream",
     "text": [
      "epoch 16 | loss: 0.11369 | train_mse: 0.09453 | train_mae: 0.21992 |  0:00:19s\n"
     ]
    },
    {
     "name": "stdout",
     "output_type": "stream",
     "text": [
      "epoch 17 | loss: 0.10133 | train_mse: 0.05706 | train_mae: 0.18208 |  0:00:20s\n"
     ]
    },
    {
     "name": "stdout",
     "output_type": "stream",
     "text": [
      "epoch 18 | loss: 0.11143 | train_mse: 0.08433 | train_mae: 0.2136  |  0:00:20s\n"
     ]
    },
    {
     "name": "stdout",
     "output_type": "stream",
     "text": [
      "epoch 19 | loss: 0.10663 | train_mse: 0.06288 | train_mae: 0.19076 |  0:00:21s\n"
     ]
    },
    {
     "name": "stdout",
     "output_type": "stream",
     "text": [
      "epoch 20 | loss: 0.07519 | train_mse: 0.05215 | train_mae: 0.17614 |  0:00:22s\n"
     ]
    },
    {
     "name": "stdout",
     "output_type": "stream",
     "text": [
      "epoch 21 | loss: 0.08048 | train_mse: 0.04772 | train_mae: 0.16413 |  0:00:22s\n"
     ]
    },
    {
     "name": "stdout",
     "output_type": "stream",
     "text": [
      "epoch 22 | loss: 0.08691 | train_mse: 0.05153 | train_mae: 0.16679 |  0:00:23s\n"
     ]
    },
    {
     "name": "stdout",
     "output_type": "stream",
     "text": [
      "epoch 23 | loss: 0.08349 | train_mse: 0.06086 | train_mae: 0.17656 |  0:00:24s\n"
     ]
    },
    {
     "name": "stdout",
     "output_type": "stream",
     "text": [
      "epoch 24 | loss: 0.07812 | train_mse: 0.04936 | train_mae: 0.16672 |  0:00:25s\n"
     ]
    },
    {
     "name": "stdout",
     "output_type": "stream",
     "text": [
      "epoch 25 | loss: 0.05816 | train_mse: 0.03511 | train_mae: 0.13806 |  0:00:25s\n"
     ]
    },
    {
     "name": "stdout",
     "output_type": "stream",
     "text": [
      "epoch 26 | loss: 0.05035 | train_mse: 0.04513 | train_mae: 0.16537 |  0:00:27s\n"
     ]
    },
    {
     "name": "stdout",
     "output_type": "stream",
     "text": [
      "epoch 27 | loss: 0.0693  | train_mse: 0.04582 | train_mae: 0.14721 |  0:00:28s\n"
     ]
    },
    {
     "name": "stdout",
     "output_type": "stream",
     "text": [
      "epoch 28 | loss: 0.05857 | train_mse: 0.0281  | train_mae: 0.1159  |  0:00:29s\n"
     ]
    },
    {
     "name": "stdout",
     "output_type": "stream",
     "text": [
      "epoch 29 | loss: 0.05114 | train_mse: 0.0376  | train_mae: 0.14078 |  0:00:30s\n"
     ]
    },
    {
     "name": "stdout",
     "output_type": "stream",
     "text": [
      "epoch 30 | loss: 0.04783 | train_mse: 0.03339 | train_mae: 0.13141 |  0:00:31s\n"
     ]
    },
    {
     "name": "stdout",
     "output_type": "stream",
     "text": [
      "epoch 31 | loss: 0.05519 | train_mse: 0.02984 | train_mae: 0.12729 |  0:00:32s\n"
     ]
    },
    {
     "name": "stdout",
     "output_type": "stream",
     "text": [
      "epoch 32 | loss: 0.07141 | train_mse: 0.02602 | train_mae: 0.11576 |  0:00:33s\n"
     ]
    },
    {
     "name": "stdout",
     "output_type": "stream",
     "text": [
      "epoch 33 | loss: 0.04764 | train_mse: 0.02429 | train_mae: 0.10716 |  0:00:33s\n"
     ]
    },
    {
     "name": "stdout",
     "output_type": "stream",
     "text": [
      "epoch 34 | loss: 0.05351 | train_mse: 0.01735 | train_mae: 0.08718 |  0:00:34s\n"
     ]
    },
    {
     "name": "stdout",
     "output_type": "stream",
     "text": [
      "epoch 35 | loss: 0.04159 | train_mse: 0.01902 | train_mae: 0.09232 |  0:00:35s\n"
     ]
    },
    {
     "name": "stdout",
     "output_type": "stream",
     "text": [
      "epoch 36 | loss: 0.03593 | train_mse: 0.01405 | train_mae: 0.0776  |  0:00:35s\n"
     ]
    },
    {
     "name": "stdout",
     "output_type": "stream",
     "text": [
      "epoch 37 | loss: 0.04402 | train_mse: 0.01623 | train_mae: 0.0825  |  0:00:36s\n"
     ]
    },
    {
     "name": "stdout",
     "output_type": "stream",
     "text": [
      "epoch 38 | loss: 0.04517 | train_mse: 0.02154 | train_mae: 0.1047  |  0:00:36s\n"
     ]
    },
    {
     "name": "stdout",
     "output_type": "stream",
     "text": [
      "epoch 39 | loss: 0.04434 | train_mse: 0.01935 | train_mae: 0.09964 |  0:00:37s\n"
     ]
    },
    {
     "name": "stdout",
     "output_type": "stream",
     "text": [
      "epoch 40 | loss: 0.04919 | train_mse: 0.02053 | train_mae: 0.09942 |  0:00:38s\n"
     ]
    },
    {
     "name": "stdout",
     "output_type": "stream",
     "text": [
      "epoch 41 | loss: 0.03752 | train_mse: 0.01571 | train_mae: 0.08947 |  0:00:39s\n"
     ]
    },
    {
     "name": "stdout",
     "output_type": "stream",
     "text": [
      "epoch 42 | loss: 0.04966 | train_mse: 0.02073 | train_mae: 0.11232 |  0:00:39s\n"
     ]
    },
    {
     "name": "stdout",
     "output_type": "stream",
     "text": [
      "epoch 43 | loss: 0.05061 | train_mse: 0.02767 | train_mae: 0.12878 |  0:00:40s\n"
     ]
    },
    {
     "name": "stdout",
     "output_type": "stream",
     "text": [
      "epoch 44 | loss: 0.03578 | train_mse: 0.02428 | train_mae: 0.1199  |  0:00:42s\n"
     ]
    },
    {
     "name": "stdout",
     "output_type": "stream",
     "text": [
      "epoch 45 | loss: 0.04032 | train_mse: 0.01318 | train_mae: 0.07674 |  0:00:44s\n"
     ]
    },
    {
     "name": "stdout",
     "output_type": "stream",
     "text": [
      "epoch 46 | loss: 0.04108 | train_mse: 0.02397 | train_mae: 0.11807 |  0:00:44s\n"
     ]
    },
    {
     "name": "stdout",
     "output_type": "stream",
     "text": [
      "epoch 47 | loss: 0.03715 | train_mse: 0.02039 | train_mae: 0.10702 |  0:00:45s\n"
     ]
    },
    {
     "name": "stdout",
     "output_type": "stream",
     "text": [
      "epoch 48 | loss: 0.04547 | train_mse: 0.01699 | train_mae: 0.09833 |  0:00:47s\n"
     ]
    },
    {
     "name": "stdout",
     "output_type": "stream",
     "text": [
      "epoch 49 | loss: 0.02762 | train_mse: 0.01278 | train_mae: 0.0846  |  0:00:48s\n"
     ]
    },
    {
     "name": "stdout",
     "output_type": "stream",
     "text": [
      "epoch 50 | loss: 0.03988 | train_mse: 0.01825 | train_mae: 0.1094  |  0:00:50s\n"
     ]
    },
    {
     "name": "stdout",
     "output_type": "stream",
     "text": [
      "epoch 51 | loss: 0.04063 | train_mse: 0.01838 | train_mae: 0.09017 |  0:00:50s\n"
     ]
    },
    {
     "name": "stdout",
     "output_type": "stream",
     "text": [
      "epoch 52 | loss: 0.03867 | train_mse: 0.01586 | train_mae: 0.0798  |  0:00:51s\n"
     ]
    },
    {
     "name": "stdout",
     "output_type": "stream",
     "text": [
      "epoch 53 | loss: 0.03479 | train_mse: 0.01588 | train_mae: 0.09546 |  0:00:52s\n"
     ]
    },
    {
     "name": "stdout",
     "output_type": "stream",
     "text": [
      "epoch 54 | loss: 0.02631 | train_mse: 0.01506 | train_mae: 0.0899  |  0:00:53s\n"
     ]
    },
    {
     "name": "stdout",
     "output_type": "stream",
     "text": [
      "epoch 55 | loss: 0.02994 | train_mse: 0.01368 | train_mae: 0.09015 |  0:00:54s\n"
     ]
    },
    {
     "name": "stdout",
     "output_type": "stream",
     "text": [
      "epoch 56 | loss: 0.03087 | train_mse: 0.01382 | train_mae: 0.08953 |  0:00:58s\n"
     ]
    },
    {
     "name": "stdout",
     "output_type": "stream",
     "text": [
      "epoch 57 | loss: 0.04047 | train_mse: 0.01722 | train_mae: 0.09681 |  0:00:59s\n"
     ]
    },
    {
     "name": "stdout",
     "output_type": "stream",
     "text": [
      "epoch 58 | loss: 0.04091 | train_mse: 0.02487 | train_mae: 0.10287 |  0:01:00s\n"
     ]
    },
    {
     "name": "stdout",
     "output_type": "stream",
     "text": [
      "epoch 59 | loss: 0.05312 | train_mse: 0.02613 | train_mae: 0.11598 |  0:01:01s\n"
     ]
    },
    {
     "name": "stdout",
     "output_type": "stream",
     "text": [
      "epoch 60 | loss: 0.04375 | train_mse: 0.02829 | train_mae: 0.12693 |  0:01:03s\n"
     ]
    },
    {
     "name": "stdout",
     "output_type": "stream",
     "text": [
      "epoch 61 | loss: 0.038   | train_mse: 0.03497 | train_mae: 0.14195 |  0:01:06s\n"
     ]
    },
    {
     "name": "stdout",
     "output_type": "stream",
     "text": [
      "epoch 62 | loss: 0.04977 | train_mse: 0.02425 | train_mae: 0.11067 |  0:01:08s\n"
     ]
    },
    {
     "name": "stdout",
     "output_type": "stream",
     "text": [
      "epoch 63 | loss: 0.05061 | train_mse: 0.04201 | train_mae: 0.1521  |  0:01:09s\n"
     ]
    },
    {
     "name": "stdout",
     "output_type": "stream",
     "text": [
      "epoch 64 | loss: 0.03627 | train_mse: 0.02911 | train_mae: 0.12637 |  0:01:09s\n"
     ]
    },
    {
     "name": "stdout",
     "output_type": "stream",
     "text": [
      "epoch 65 | loss: 0.04272 | train_mse: 0.02784 | train_mae: 0.1319  |  0:01:10s\n"
     ]
    },
    {
     "name": "stdout",
     "output_type": "stream",
     "text": [
      "epoch 66 | loss: 0.04377 | train_mse: 0.02327 | train_mae: 0.10774 |  0:01:11s\n"
     ]
    },
    {
     "name": "stdout",
     "output_type": "stream",
     "text": [
      "epoch 67 | loss: 0.03275 | train_mse: 0.02088 | train_mae: 0.10685 |  0:01:12s\n"
     ]
    },
    {
     "name": "stdout",
     "output_type": "stream",
     "text": [
      "epoch 68 | loss: 0.04593 | train_mse: 0.02661 | train_mae: 0.12237 |  0:01:12s\n"
     ]
    },
    {
     "name": "stdout",
     "output_type": "stream",
     "text": [
      "epoch 69 | loss: 0.04032 | train_mse: 0.01837 | train_mae: 0.11078 |  0:01:13s\n"
     ]
    },
    {
     "name": "stdout",
     "output_type": "stream",
     "text": [
      "epoch 70 | loss: 0.03673 | train_mse: 0.02663 | train_mae: 0.12326 |  0:01:14s\n"
     ]
    },
    {
     "name": "stdout",
     "output_type": "stream",
     "text": [
      "epoch 71 | loss: 0.03381 | train_mse: 0.0243  | train_mae: 0.10456 |  0:01:17s\n"
     ]
    },
    {
     "name": "stdout",
     "output_type": "stream",
     "text": [
      "epoch 72 | loss: 0.02889 | train_mse: 0.01329 | train_mae: 0.09459 |  0:01:18s\n"
     ]
    },
    {
     "name": "stdout",
     "output_type": "stream",
     "text": [
      "epoch 73 | loss: 0.03817 | train_mse: 0.01357 | train_mae: 0.08551 |  0:01:19s\n"
     ]
    },
    {
     "name": "stdout",
     "output_type": "stream",
     "text": [
      "epoch 74 | loss: 0.03777 | train_mse: 0.03044 | train_mae: 0.12161 |  0:01:20s\n"
     ]
    },
    {
     "name": "stdout",
     "output_type": "stream",
     "text": [
      "epoch 75 | loss: 0.0334  | train_mse: 0.01672 | train_mae: 0.09516 |  0:01:21s\n"
     ]
    },
    {
     "name": "stdout",
     "output_type": "stream",
     "text": [
      "epoch 76 | loss: 0.04428 | train_mse: 0.01837 | train_mae: 0.09242 |  0:01:22s\n"
     ]
    },
    {
     "name": "stdout",
     "output_type": "stream",
     "text": [
      "epoch 77 | loss: 0.0265  | train_mse: 0.01052 | train_mae: 0.07658 |  0:01:22s\n"
     ]
    },
    {
     "name": "stdout",
     "output_type": "stream",
     "text": [
      "epoch 78 | loss: 0.03598 | train_mse: 0.03722 | train_mae: 0.14217 |  0:01:23s\n"
     ]
    },
    {
     "name": "stdout",
     "output_type": "stream",
     "text": [
      "epoch 79 | loss: 0.02996 | train_mse: 0.01672 | train_mae: 0.09556 |  0:01:25s\n"
     ]
    },
    {
     "name": "stdout",
     "output_type": "stream",
     "text": [
      "epoch 80 | loss: 0.03812 | train_mse: 0.03026 | train_mae: 0.12562 |  0:01:26s\n"
     ]
    },
    {
     "name": "stdout",
     "output_type": "stream",
     "text": [
      "epoch 81 | loss: 0.03507 | train_mse: 0.03468 | train_mae: 0.13295 |  0:01:26s\n"
     ]
    },
    {
     "name": "stdout",
     "output_type": "stream",
     "text": [
      "epoch 82 | loss: 0.03398 | train_mse: 0.01972 | train_mae: 0.09077 |  0:01:27s\n"
     ]
    },
    {
     "name": "stdout",
     "output_type": "stream",
     "text": [
      "epoch 83 | loss: 0.03302 | train_mse: 0.02478 | train_mae: 0.11536 |  0:01:28s\n"
     ]
    },
    {
     "name": "stdout",
     "output_type": "stream",
     "text": [
      "epoch 84 | loss: 0.03714 | train_mse: 0.01678 | train_mae: 0.09482 |  0:01:28s\n"
     ]
    },
    {
     "name": "stdout",
     "output_type": "stream",
     "text": [
      "epoch 85 | loss: 0.02993 | train_mse: 0.01227 | train_mae: 0.08075 |  0:01:29s\n"
     ]
    },
    {
     "name": "stdout",
     "output_type": "stream",
     "text": [
      "epoch 86 | loss: 0.02339 | train_mse: 0.01538 | train_mae: 0.10099 |  0:01:30s\n"
     ]
    },
    {
     "name": "stdout",
     "output_type": "stream",
     "text": [
      "epoch 87 | loss: 0.02987 | train_mse: 0.02476 | train_mae: 0.11683 |  0:01:31s\n"
     ]
    },
    {
     "name": "stdout",
     "output_type": "stream",
     "text": [
      "epoch 88 | loss: 0.03275 | train_mse: 0.02271 | train_mae: 0.11661 |  0:01:32s\n"
     ]
    },
    {
     "name": "stdout",
     "output_type": "stream",
     "text": [
      "epoch 89 | loss: 0.03628 | train_mse: 0.01766 | train_mae: 0.10472 |  0:01:33s\n"
     ]
    },
    {
     "name": "stdout",
     "output_type": "stream",
     "text": [
      "epoch 90 | loss: 0.0358  | train_mse: 0.01708 | train_mae: 0.08481 |  0:01:34s\n"
     ]
    },
    {
     "name": "stdout",
     "output_type": "stream",
     "text": [
      "epoch 91 | loss: 0.02189 | train_mse: 0.01033 | train_mae: 0.07574 |  0:01:36s\n"
     ]
    },
    {
     "name": "stdout",
     "output_type": "stream",
     "text": [
      "epoch 92 | loss: 0.03373 | train_mse: 0.01122 | train_mae: 0.08154 |  0:01:36s\n"
     ]
    },
    {
     "name": "stdout",
     "output_type": "stream",
     "text": [
      "epoch 93 | loss: 0.03029 | train_mse: 0.01519 | train_mae: 0.09034 |  0:01:37s\n"
     ]
    },
    {
     "name": "stdout",
     "output_type": "stream",
     "text": [
      "epoch 94 | loss: 0.03156 | train_mse: 0.01753 | train_mae: 0.09984 |  0:01:38s\n"
     ]
    },
    {
     "name": "stdout",
     "output_type": "stream",
     "text": [
      "epoch 95 | loss: 0.02742 | train_mse: 0.01291 | train_mae: 0.0866  |  0:01:39s\n"
     ]
    },
    {
     "name": "stdout",
     "output_type": "stream",
     "text": [
      "epoch 96 | loss: 0.02898 | train_mse: 0.01033 | train_mae: 0.07282 |  0:01:39s\n"
     ]
    },
    {
     "name": "stdout",
     "output_type": "stream",
     "text": [
      "epoch 97 | loss: 0.02326 | train_mse: 0.00825 | train_mae: 0.06747 |  0:01:40s\n"
     ]
    },
    {
     "name": "stdout",
     "output_type": "stream",
     "text": [
      "epoch 98 | loss: 0.03101 | train_mse: 0.02238 | train_mae: 0.1016  |  0:01:41s\n"
     ]
    },
    {
     "name": "stdout",
     "output_type": "stream",
     "text": [
      "epoch 99 | loss: 0.01945 | train_mse: 0.01105 | train_mae: 0.07717 |  0:01:42s\n"
     ]
    },
    {
     "name": "stdout",
     "output_type": "stream",
     "text": [
      "epoch 100| loss: 0.02361 | train_mse: 0.00858 | train_mae: 0.06594 |  0:01:43s\n"
     ]
    },
    {
     "name": "stdout",
     "output_type": "stream",
     "text": [
      "epoch 101| loss: 0.02079 | train_mse: 0.0073  | train_mae: 0.065   |  0:01:43s\n"
     ]
    },
    {
     "name": "stdout",
     "output_type": "stream",
     "text": [
      "epoch 102| loss: 0.01821 | train_mse: 0.00604 | train_mae: 0.05797 |  0:01:44s\n"
     ]
    },
    {
     "name": "stdout",
     "output_type": "stream",
     "text": [
      "epoch 103| loss: 0.02056 | train_mse: 0.00797 | train_mae: 0.0684  |  0:01:45s\n"
     ]
    },
    {
     "name": "stdout",
     "output_type": "stream",
     "text": [
      "epoch 104| loss: 0.01934 | train_mse: 0.00542 | train_mae: 0.05475 |  0:01:45s\n"
     ]
    },
    {
     "name": "stdout",
     "output_type": "stream",
     "text": [
      "epoch 105| loss: 0.01953 | train_mse: 0.01239 | train_mae: 0.07478 |  0:01:47s\n"
     ]
    },
    {
     "name": "stdout",
     "output_type": "stream",
     "text": [
      "epoch 106| loss: 0.02833 | train_mse: 0.01969 | train_mae: 0.09364 |  0:01:49s\n"
     ]
    },
    {
     "name": "stdout",
     "output_type": "stream",
     "text": [
      "epoch 107| loss: 0.03951 | train_mse: 0.0122  | train_mae: 0.07867 |  0:01:51s\n"
     ]
    },
    {
     "name": "stdout",
     "output_type": "stream",
     "text": [
      "epoch 108| loss: 0.02165 | train_mse: 0.00961 | train_mae: 0.07509 |  0:01:52s\n"
     ]
    },
    {
     "name": "stdout",
     "output_type": "stream",
     "text": [
      "epoch 109| loss: 0.04464 | train_mse: 0.01122 | train_mae: 0.0751  |  0:01:54s\n"
     ]
    },
    {
     "name": "stdout",
     "output_type": "stream",
     "text": [
      "epoch 110| loss: 0.0258  | train_mse: 0.01181 | train_mae: 0.07808 |  0:01:56s\n"
     ]
    },
    {
     "name": "stdout",
     "output_type": "stream",
     "text": [
      "epoch 111| loss: 0.01723 | train_mse: 0.00655 | train_mae: 0.06269 |  0:01:57s\n"
     ]
    },
    {
     "name": "stdout",
     "output_type": "stream",
     "text": [
      "epoch 112| loss: 0.01642 | train_mse: 0.00792 | train_mae: 0.06481 |  0:01:58s\n"
     ]
    },
    {
     "name": "stdout",
     "output_type": "stream",
     "text": [
      "epoch 113| loss: 0.01671 | train_mse: 0.00539 | train_mae: 0.05371 |  0:02:00s\n"
     ]
    },
    {
     "name": "stdout",
     "output_type": "stream",
     "text": [
      "epoch 114| loss: 0.02481 | train_mse: 0.00616 | train_mae: 0.06007 |  0:02:01s\n"
     ]
    },
    {
     "name": "stdout",
     "output_type": "stream",
     "text": [
      "epoch 115| loss: 0.02068 | train_mse: 0.00937 | train_mae: 0.0796  |  0:02:03s\n"
     ]
    },
    {
     "name": "stdout",
     "output_type": "stream",
     "text": [
      "epoch 116| loss: 0.03064 | train_mse: 0.01749 | train_mae: 0.09579 |  0:02:06s\n"
     ]
    },
    {
     "name": "stdout",
     "output_type": "stream",
     "text": [
      "epoch 117| loss: 0.04219 | train_mse: 0.01008 | train_mae: 0.08119 |  0:02:08s\n"
     ]
    },
    {
     "name": "stdout",
     "output_type": "stream",
     "text": [
      "epoch 118| loss: 0.02731 | train_mse: 0.02032 | train_mae: 0.10931 |  0:02:11s\n"
     ]
    },
    {
     "name": "stdout",
     "output_type": "stream",
     "text": [
      "epoch 119| loss: 0.01829 | train_mse: 0.01932 | train_mae: 0.11879 |  0:02:11s\n"
     ]
    },
    {
     "name": "stdout",
     "output_type": "stream",
     "text": [
      "epoch 120| loss: 0.01989 | train_mse: 0.0069  | train_mae: 0.06329 |  0:02:12s\n"
     ]
    },
    {
     "name": "stdout",
     "output_type": "stream",
     "text": [
      "epoch 121| loss: 0.02394 | train_mse: 0.00835 | train_mae: 0.07047 |  0:02:13s\n"
     ]
    },
    {
     "name": "stdout",
     "output_type": "stream",
     "text": [
      "epoch 122| loss: 0.02662 | train_mse: 0.01035 | train_mae: 0.07942 |  0:02:14s\n"
     ]
    },
    {
     "name": "stdout",
     "output_type": "stream",
     "text": [
      "epoch 123| loss: 0.02013 | train_mse: 0.01181 | train_mae: 0.08124 |  0:02:15s\n"
     ]
    },
    {
     "name": "stdout",
     "output_type": "stream",
     "text": [
      "epoch 124| loss: 0.01988 | train_mse: 0.00807 | train_mae: 0.06881 |  0:02:16s\n"
     ]
    },
    {
     "name": "stdout",
     "output_type": "stream",
     "text": [
      "epoch 125| loss: 0.01651 | train_mse: 0.00621 | train_mae: 0.06227 |  0:02:16s\n"
     ]
    },
    {
     "name": "stdout",
     "output_type": "stream",
     "text": [
      "epoch 126| loss: 0.02397 | train_mse: 0.01241 | train_mae: 0.08397 |  0:02:17s\n"
     ]
    },
    {
     "name": "stdout",
     "output_type": "stream",
     "text": [
      "epoch 127| loss: 0.0264  | train_mse: 0.00911 | train_mae: 0.08048 |  0:02:18s\n"
     ]
    },
    {
     "name": "stdout",
     "output_type": "stream",
     "text": [
      "epoch 128| loss: 0.01759 | train_mse: 0.00696 | train_mae: 0.0668  |  0:02:19s\n"
     ]
    },
    {
     "name": "stdout",
     "output_type": "stream",
     "text": [
      "epoch 129| loss: 0.01573 | train_mse: 0.00602 | train_mae: 0.0621  |  0:02:20s\n"
     ]
    },
    {
     "name": "stdout",
     "output_type": "stream",
     "text": [
      "epoch 130| loss: 0.01634 | train_mse: 0.01097 | train_mae: 0.07907 |  0:02:21s\n"
     ]
    },
    {
     "name": "stdout",
     "output_type": "stream",
     "text": [
      "epoch 131| loss: 0.02721 | train_mse: 0.01061 | train_mae: 0.07491 |  0:02:22s\n"
     ]
    },
    {
     "name": "stdout",
     "output_type": "stream",
     "text": [
      "epoch 132| loss: 0.02794 | train_mse: 0.00628 | train_mae: 0.06344 |  0:02:23s\n"
     ]
    },
    {
     "name": "stdout",
     "output_type": "stream",
     "text": [
      "epoch 133| loss: 0.02324 | train_mse: 0.01136 | train_mae: 0.08351 |  0:02:24s\n"
     ]
    },
    {
     "name": "stdout",
     "output_type": "stream",
     "text": [
      "epoch 134| loss: 0.02652 | train_mse: 0.01098 | train_mae: 0.07962 |  0:02:26s\n"
     ]
    },
    {
     "name": "stdout",
     "output_type": "stream",
     "text": [
      "epoch 135| loss: 0.02174 | train_mse: 0.00771 | train_mae: 0.06311 |  0:02:27s\n"
     ]
    },
    {
     "name": "stdout",
     "output_type": "stream",
     "text": [
      "epoch 136| loss: 0.01276 | train_mse: 0.00657 | train_mae: 0.05603 |  0:02:30s\n"
     ]
    },
    {
     "name": "stdout",
     "output_type": "stream",
     "text": [
      "epoch 137| loss: 0.01627 | train_mse: 0.00654 | train_mae: 0.05983 |  0:02:35s\n"
     ]
    },
    {
     "name": "stdout",
     "output_type": "stream",
     "text": [
      "epoch 138| loss: 0.01559 | train_mse: 0.00634 | train_mae: 0.06038 |  0:02:39s\n"
     ]
    },
    {
     "name": "stdout",
     "output_type": "stream",
     "text": [
      "epoch 139| loss: 0.01886 | train_mse: 0.00893 | train_mae: 0.072   |  0:02:40s\n"
     ]
    },
    {
     "name": "stdout",
     "output_type": "stream",
     "text": [
      "epoch 140| loss: 0.02266 | train_mse: 0.00872 | train_mae: 0.06981 |  0:02:42s\n"
     ]
    },
    {
     "name": "stdout",
     "output_type": "stream",
     "text": [
      "epoch 141| loss: 0.02032 | train_mse: 0.00595 | train_mae: 0.06136 |  0:02:43s\n"
     ]
    },
    {
     "name": "stdout",
     "output_type": "stream",
     "text": [
      "epoch 142| loss: 0.01683 | train_mse: 0.00729 | train_mae: 0.06466 |  0:02:45s\n"
     ]
    },
    {
     "name": "stdout",
     "output_type": "stream",
     "text": [
      "epoch 143| loss: 0.02051 | train_mse: 0.00672 | train_mae: 0.06242 |  0:02:47s\n"
     ]
    },
    {
     "name": "stdout",
     "output_type": "stream",
     "text": [
      "epoch 144| loss: 0.01313 | train_mse: 0.0082  | train_mae: 0.06629 |  0:02:48s\n"
     ]
    },
    {
     "name": "stdout",
     "output_type": "stream",
     "text": [
      "epoch 145| loss: 0.01612 | train_mse: 0.02846 | train_mae: 0.12399 |  0:02:49s\n"
     ]
    },
    {
     "name": "stdout",
     "output_type": "stream",
     "text": [
      "epoch 146| loss: 0.02489 | train_mse: 0.01158 | train_mae: 0.08267 |  0:02:50s\n"
     ]
    },
    {
     "name": "stdout",
     "output_type": "stream",
     "text": [
      "epoch 147| loss: 0.01418 | train_mse: 0.0067  | train_mae: 0.06638 |  0:02:50s\n"
     ]
    },
    {
     "name": "stdout",
     "output_type": "stream",
     "text": [
      "epoch 148| loss: 0.02043 | train_mse: 0.00693 | train_mae: 0.06159 |  0:02:51s\n"
     ]
    },
    {
     "name": "stdout",
     "output_type": "stream",
     "text": [
      "epoch 149| loss: 0.03017 | train_mse: 0.00583 | train_mae: 0.05963 |  0:02:51s\n"
     ]
    },
    {
     "name": "stdout",
     "output_type": "stream",
     "text": [
      "epoch 150| loss: 0.01404 | train_mse: 0.00797 | train_mae: 0.06897 |  0:02:52s\n"
     ]
    },
    {
     "name": "stdout",
     "output_type": "stream",
     "text": [
      "epoch 151| loss: 0.02034 | train_mse: 0.00757 | train_mae: 0.0703  |  0:02:53s\n"
     ]
    },
    {
     "name": "stdout",
     "output_type": "stream",
     "text": [
      "epoch 152| loss: 0.02274 | train_mse: 0.02693 | train_mae: 0.13732 |  0:02:53s\n"
     ]
    },
    {
     "name": "stdout",
     "output_type": "stream",
     "text": [
      "epoch 153| loss: 0.01905 | train_mse: 0.0126  | train_mae: 0.09506 |  0:02:54s\n"
     ]
    },
    {
     "name": "stdout",
     "output_type": "stream",
     "text": [
      "epoch 154| loss: 0.0175  | train_mse: 0.0097  | train_mae: 0.08016 |  0:02:55s\n"
     ]
    },
    {
     "name": "stdout",
     "output_type": "stream",
     "text": [
      "epoch 155| loss: 0.01609 | train_mse: 0.00913 | train_mae: 0.07724 |  0:02:55s\n"
     ]
    },
    {
     "name": "stdout",
     "output_type": "stream",
     "text": [
      "epoch 156| loss: 0.0132  | train_mse: 0.00601 | train_mae: 0.05768 |  0:02:56s\n"
     ]
    },
    {
     "name": "stdout",
     "output_type": "stream",
     "text": [
      "epoch 157| loss: 0.01529 | train_mse: 0.01765 | train_mae: 0.08931 |  0:02:57s\n"
     ]
    },
    {
     "name": "stdout",
     "output_type": "stream",
     "text": [
      "epoch 158| loss: 0.0193  | train_mse: 0.01611 | train_mae: 0.08652 |  0:02:58s\n"
     ]
    },
    {
     "name": "stdout",
     "output_type": "stream",
     "text": [
      "epoch 159| loss: 0.02034 | train_mse: 0.00574 | train_mae: 0.06003 |  0:02:59s\n"
     ]
    },
    {
     "name": "stdout",
     "output_type": "stream",
     "text": [
      "epoch 160| loss: 0.01438 | train_mse: 0.00788 | train_mae: 0.06572 |  0:03:00s\n"
     ]
    },
    {
     "name": "stdout",
     "output_type": "stream",
     "text": [
      "epoch 161| loss: 0.0154  | train_mse: 0.00963 | train_mae: 0.07173 |  0:03:01s\n"
     ]
    },
    {
     "name": "stdout",
     "output_type": "stream",
     "text": [
      "epoch 162| loss: 0.03024 | train_mse: 0.0072  | train_mae: 0.06195 |  0:03:02s\n"
     ]
    },
    {
     "name": "stdout",
     "output_type": "stream",
     "text": [
      "epoch 163| loss: 0.01864 | train_mse: 0.00661 | train_mae: 0.05747 |  0:03:03s\n",
      "\n",
      "Early stopping occurred at epoch 163 with best_epoch = 113 and best_train_mae = 0.05371\n",
      "Best weights from best epoch are automatically used!\n"
     ]
    },
    {
     "name": "stdout",
     "output_type": "stream",
     "text": [
      "BEST VALID SCORE FOR dataset : 0.053713737791959364\n",
      "FINAL TEST SCORE FOR dataset: 0.05319662053435111\n",
      "{'loss': [1.0995180280666785, 0.3866334450749699, 0.3149943048868583, 0.21183172819668772, 0.18201828315999685, 0.16842219117021717, 0.15421102625539326, 0.1684741415690133, 0.17058108742151665, 0.14638122285227823, 0.12915531441520792, 0.11395886501582515, 0.10032567459519601, 0.11079197282317407, 0.1398695840315244, 0.13350729785058707, 0.11368811534602401, 0.10133041038575312, 0.11143432746880994, 0.10662732702901387, 0.07519297785935651, 0.08048364253114024, 0.08690633331137294, 0.08348620850410836, 0.07811759407434868, 0.05815895159003789, 0.05034770246243244, 0.0692999764840067, 0.05856910880036191, 0.051138124874632214, 0.047826149321922654, 0.05518632951262331, 0.0714058593061149, 0.04764307404379891, 0.053507301920011685, 0.04158936266207928, 0.035931690350320525, 0.044023331194048214, 0.045174631602601045, 0.044338931041354085, 0.04918920673454235, 0.03752092274470127, 0.04965772826819156, 0.050613281975351636, 0.03577999608039079, 0.040322092922968664, 0.04107720448547544, 0.037153591016604766, 0.045474323792935194, 0.027620828938018226, 0.0398844413532108, 0.04062558370809213, 0.038674967369544004, 0.03478969793754603, 0.02631427104970143, 0.02993580555779926, 0.030866747339793058, 0.04046899725831681, 0.04091160567264992, 0.053121588511410675, 0.04374909692167848, 0.03799906593871816, 0.049767674520272, 0.05061186726905818, 0.0362708714429641, 0.04271557135962509, 0.04376727581655164, 0.0327476361335683, 0.0459275298087527, 0.040321037998416916, 0.036730585832160934, 0.03381117401759865, 0.028885483401994365, 0.03817165368737149, 0.03777191783104346, 0.03340491988614251, 0.044284329352239055, 0.026500916757684578, 0.03597866134651321, 0.029957860586891732, 0.03811579297148055, 0.03506749259241241, 0.03397937725731915, 0.033024904563877404, 0.03713707837006168, 0.029929584711304705, 0.023390458381040088, 0.029868447382597658, 0.032749985056513685, 0.036284169321728066, 0.03580077293447252, 0.021889029598585557, 0.03372941430694505, 0.030285462324510567, 0.03155556088161779, 0.02742103742077607, 0.028984906886027766, 0.023256884918150762, 0.031010702434405443, 0.019451609193817606, 0.023611883823957038, 0.02079375352746889, 0.01820943112627691, 0.020558835507798273, 0.01934394267075225, 0.01953140603748518, 0.02832822552624277, 0.03951076173044571, 0.021654381401569913, 0.04463700654064017, 0.025795733404470188, 0.01723270294186735, 0.01642302915769408, 0.016708373392443705, 0.024806278657641394, 0.02068331706601556, 0.030644249498649995, 0.04218570871054155, 0.027306819923149258, 0.018288109694222284, 0.019893219785503923, 0.0239395468650501, 0.02662173570027569, 0.020125779781357087, 0.019879504722764514, 0.016512531775022564, 0.023974288097227823, 0.026401901381023545, 0.017585105514487536, 0.01573396529941683, 0.01634338570922516, 0.02720528933240847, 0.027944228305490475, 0.023238739308200362, 0.026522742359859547, 0.021740162666243918, 0.012762945915909077, 0.01626690217454581, 0.015592984078567268, 0.018860774545502584, 0.02266070380175929, 0.02032100799393382, 0.016825510389156372, 0.020510080261368316, 0.01312727394971863, 0.016115940718969227, 0.024888969411776197, 0.014180949242961522, 0.02043274855574878, 0.030165032037694602, 0.01403658289510866, 0.020338070970210655, 0.02274368581110278, 0.019053678595573196, 0.01749951372390267, 0.0160897008904805, 0.013203065830255564, 0.015290466413290182, 0.01929849494212225, 0.020342908490218633, 0.014375465154550751, 0.015402044215109139, 0.03024383321258843, 0.018642813655933066], 'lr': [0.01, 0.01, 0.01, 0.01, 0.01, 0.01, 0.01, 0.01, 0.01, 0.01, 0.01, 0.01, 0.01, 0.01, 0.01, 0.01, 0.01, 0.01, 0.01, 0.01, 0.01, 0.01, 0.01, 0.01, 0.01, 0.01, 0.01, 0.01, 0.01, 0.01, 0.01, 0.01, 0.01, 0.01, 0.01, 0.01, 0.01, 0.01, 0.01, 0.01, 0.01, 0.01, 0.01, 0.01, 0.01, 0.01, 0.01, 0.01, 0.01, 0.01, 0.01, 0.01, 0.01, 0.01, 0.01, 0.01, 0.01, 0.01, 0.01, 0.01, 0.01, 0.01, 0.01, 0.01, 0.01, 0.01, 0.01, 0.01, 0.01, 0.01, 0.01, 0.01, 0.01, 0.01, 0.01, 0.01, 0.01, 0.01, 0.01, 0.01, 0.01, 0.01, 0.01, 0.01, 0.01, 0.01, 0.01, 0.01, 0.01, 0.01, 0.01, 0.01, 0.01, 0.01, 0.01, 0.01, 0.01, 0.01, 0.01, 0.01, 0.01, 0.01, 0.01, 0.01, 0.01, 0.01, 0.01, 0.01, 0.01, 0.01, 0.01, 0.01, 0.01, 0.01, 0.01, 0.01, 0.01, 0.01, 0.01, 0.01, 0.01, 0.01, 0.01, 0.01, 0.01, 0.01, 0.01, 0.01, 0.01, 0.01, 0.01, 0.01, 0.01, 0.01, 0.01, 0.01, 0.01, 0.01, 0.01, 0.01, 0.01, 0.01, 0.01, 0.01, 0.01, 0.01, 0.01, 0.01, 0.01, 0.01, 0.01, 0.01, 0.01, 0.01, 0.01, 0.01, 0.01, 0.01, 0.01, 0.01, 0.01, 0.01, 0.01, 0.01], 'train_mse': [0.7104130887884939, 0.9107416731933619, 1.0669369582400512, 0.4374479224305391, 0.22220949666983908, 0.1149770363334587, 0.13869359609126147, 0.15938381092124562, 0.117595314524644, 0.09958627062590977, 0.10437603871792912, 0.07613356153041306, 0.09205932243127714, 0.08109817270165952, 0.11129665566732744, 0.16950494074301659, 0.09453067545032884, 0.05706391225975073, 0.08432723318601802, 0.06287878131162883, 0.05215445493485635, 0.047716234347946355, 0.05152933267647587, 0.06086248605204916, 0.04936011307291145, 0.03510898624300459, 0.04513068721439833, 0.04582290519140066, 0.028095179654010344, 0.03760454331408193, 0.033392446246840575, 0.029836434881878617, 0.026017283124934936, 0.02428555210298876, 0.017348234547302704, 0.019015847210214137, 0.014049556725577724, 0.01623309695895115, 0.02153674973211571, 0.019350804635935068, 0.020534330156577754, 0.015714335247815188, 0.020725643804033238, 0.027668389725588004, 0.024278902748440925, 0.013181039766545766, 0.0239692316958307, 0.020390384446297264, 0.016985684447409014, 0.012784604359647648, 0.018245182875849905, 0.01838125376669028, 0.015861078235415015, 0.01588230763015193, 0.015062513923371249, 0.013678578655033902, 0.01381639715567544, 0.017221637431813357, 0.024874193143770873, 0.026126596122683542, 0.028294842490663063, 0.03497029258675001, 0.02424713633067939, 0.04200827692458799, 0.029110459717674855, 0.027835990002959766, 0.023266313570863867, 0.02087572867817318, 0.026608797148928335, 0.018366195584105013, 0.026630880095793442, 0.02430276144338047, 0.013286079301231815, 0.013566695135285635, 0.03043617935708531, 0.016722723847807576, 0.01836681848591193, 0.01051772771225706, 0.03722235317312298, 0.016722848703731183, 0.030259958038028112, 0.03468085194363322, 0.01972456207082426, 0.024784241386589544, 0.01678275556196816, 0.012272276770626351, 0.015376029150104366, 0.024756728685187298, 0.022706911314601036, 0.017661706773452218, 0.017083981497789988, 0.010334818849724588, 0.01121728662339198, 0.01518925433271032, 0.017525865111294364, 0.012914793674525873, 0.010330654559440156, 0.008253315109233184, 0.022383103481939837, 0.01105146365425093, 0.008578318106654315, 0.007295340276181341, 0.0060436719447242455, 0.007969517183489826, 0.005416312001835666, 0.012387510844991683, 0.019687905132526558, 0.012201492966517782, 0.009609653897514565, 0.011221364864606826, 0.011809520609019278, 0.006548243238118703, 0.007919035573639904, 0.005394815574677409, 0.0061622551446853125, 0.009370696079747283, 0.017490362439073776, 0.010082677899957562, 0.02031867099573985, 0.019316136900561325, 0.006897979808301981, 0.008354591215170726, 0.010347504660219333, 0.01180945279844649, 0.00806940077755772, 0.006207555181394738, 0.012411418265600258, 0.00910826014815726, 0.00696392099326142, 0.006017708610434967, 0.0109682162811627, 0.010610516863007482, 0.006278948741424749, 0.011357823095115679, 0.010977664084548068, 0.007713479514883526, 0.006574571881725654, 0.00654422558533998, 0.00633873425872511, 0.00892506302428867, 0.008723782069740109, 0.005948834654125605, 0.0072885988037631, 0.006721828616120533, 0.008197119552960121, 0.028464340953045307, 0.011575138905403657, 0.006703648407868554, 0.00693132127975243, 0.0058348190283487944, 0.007970589184029231, 0.007566950709769264, 0.02693351870898859, 0.012602703343754042, 0.009704838923484092, 0.00912844615364353, 0.006005088298023047, 0.017654847091741584, 0.01611449508613016, 0.005736827753353312, 0.0078842038807259, 0.009625845250103666, 0.007203275798648042, 0.006606389764114268], 'train_mae': [0.6438681206831036, 0.6390251857760959, 0.6031097294780472, 0.4326903407702677, 0.335299254445064, 0.2564939366425957, 0.3007709223074127, 0.3091158969648779, 0.2655933324094572, 0.2460131247611385, 0.24360506352472144, 0.21043514029531526, 0.2283085635188965, 0.21346919158721092, 0.24478384129028014, 0.29889103404719347, 0.21991952282588517, 0.1820794099678289, 0.21359677028932447, 0.19076415022575882, 0.17614383281928933, 0.16412884710339348, 0.16679001410143135, 0.1765621279200968, 0.16672121732956632, 0.13806248945487928, 0.1653689235967976, 0.14720906691774976, 0.11590129671715282, 0.14078146477098483, 0.13141255640656477, 0.12729299785829049, 0.11575848240499548, 0.10715650627807458, 0.08717735231002957, 0.09232426847013739, 0.07759706912355994, 0.0824989639827478, 0.10469605627868094, 0.0996406653313106, 0.099420781491667, 0.08947430302677135, 0.11232240181129598, 0.1287824457277834, 0.11990337998101581, 0.07674226122054842, 0.11807472796948151, 0.10702160281761479, 0.09833459773596809, 0.08460319426592276, 0.10940485128228852, 0.09017298245701126, 0.07980165431197345, 0.0954609149555312, 0.08989913563629251, 0.09015348620794067, 0.08953373785390577, 0.096807882683285, 0.1028683040697867, 0.11597800358893945, 0.12692868243148872, 0.1419468211257801, 0.11066766700624288, 0.15210370384470154, 0.1263676302637092, 0.13189685347814475, 0.10773606718183408, 0.10684756373351134, 0.12237353980816121, 0.11077999954542452, 0.12325813775616473, 0.10455857580940561, 0.09458656963586315, 0.08550815885399826, 0.12161217700323323, 0.09516478846197376, 0.09242265954220277, 0.07658461837654282, 0.14217361031244918, 0.09555700453033755, 0.1256209344508147, 0.13295270230628062, 0.09077379650375507, 0.11536158905405185, 0.09481586231048374, 0.08075002108885952, 0.10099263751994006, 0.11683280438660941, 0.11660592723785052, 0.10471542721411518, 0.08480727177434738, 0.07574357950880527, 0.08154277736067084, 0.09033598197387904, 0.09983629642484496, 0.08659861330649514, 0.072821354239366, 0.06746876022151198, 0.10160375288742741, 0.07716912335564431, 0.06593642707719173, 0.06499693229443398, 0.05797044400060201, 0.06840083013057902, 0.05474836790533448, 0.07478371803015939, 0.09364333668256208, 0.07867319349063139, 0.0750936850032348, 0.0751024659972749, 0.07808101784193977, 0.06268603363205444, 0.06480837888041424, 0.053713737791959364, 0.0600669942127321, 0.07960132418065888, 0.09578599971931527, 0.08118859458942862, 0.10931353931938853, 0.11878502088905687, 0.0632919662477034, 0.07046622049629517, 0.079422590061971, 0.08123558955362056, 0.06881130126473321, 0.06227270021652634, 0.0839737022961894, 0.08048374325572948, 0.06679967438161166, 0.062096367169044576, 0.07906560760747344, 0.07491256593537983, 0.06344027261791158, 0.08351295882609405, 0.0796195204250243, 0.06310533700978159, 0.056033973556518714, 0.059832842053970645, 0.06037723015801751, 0.07199948639236546, 0.06980548553404783, 0.06136336423920877, 0.06465523204802634, 0.062422716396198605, 0.06629059791189175, 0.12399070162160433, 0.08267014037210776, 0.0663751764734443, 0.061587516163483604, 0.05963000345109344, 0.0689714498872696, 0.0703037940008238, 0.13732328846230132, 0.09505673834559698, 0.08015815924491614, 0.07724424967719151, 0.057680919303211196, 0.08930913368720282, 0.08651972725161143, 0.06003075160451515, 0.06571738797106139, 0.07173292148414893, 0.061953956793491145, 0.057465873668562824]}\n"
     ]
    },
    {
     "data": {
      "application/scrapbook.scrap.json+json": {
       "data": 0.05319662053435111,
       "encoder": "json",
       "name": "TabNet MAE",
       "version": 1
      }
     },
     "metadata": {
      "scrapbook": {
       "data": true,
       "display": false,
       "name": "TabNet MAE"
      }
     },
     "output_type": "display_data"
    },
    {
     "name": "stdout",
     "output_type": "stream",
     "text": [
      "TabNet MAE 0.05319662053435111\n"
     ]
    },
    {
     "data": {
      "image/png": "[encoded data removed]",
      "text/plain": [
       "<Figure size 432x288 with 1 Axes>"
      ]
     },
     "metadata": {
      "needs_background": "light"
     },
     "output_type": "display_data"
    }
   ],
   "source": [
    "lr = 0.01\n",
    "\n",
    "y_train = np.reshape(y_train, (-1, 1))\n",
    "y_test = np.reshape(y_test, (-1, 1))\n",
    "\n",
    "device = torch.device('cuda' if torch.cuda.is_available() else 'cpu')\n",
    "mae_tab= baselineModels.tabnetreg(X_train,y_train,X_test,y_test,batch_size,n_features,n_target,n_epochs, lr)\n",
    "sb.glue(\"TabNet MAE\",mae_tab)\n",
    "print(\"TabNet MAE\",mae_tab)"
   ]
  }
 ],
 "metadata": {
  "kernelspec": {
   "display_name": "Python 3.7.3 64-bit",
   "language": "python",
   "name": "python3"
  },
  "language_info": {
   "codemirror_mode": {
    "name": "ipython",
    "version": 3
   },
   "file_extension": ".py",
   "mimetype": "text/x-python",
   "name": "python",
   "nbconvert_exporter": "python",
   "pygments_lexer": "ipython3",
   "version": "3.8.13"
  },
  "papermill": {
   "default_parameters": {},
   "duration": 227.028515,
   "end_time": "2022-07-24T10:34:22.522831",
   "environment_variables": {},
   "exception": null,
   "input_path": "BaselineModels.ipynb",
   "output_path": "./BaseLine_Model_Output/BaselineModels_output_4.ipynb",
   "parameters": {},
   "start_time": "2022-07-24T10:30:35.494316",
   "version": "2.3.3"
  },
  "vscode": {
   "interpreter": {
    "hash": "aee8b7b246df8f9039afb4144a1f6fd8d2ca17a180786b69acc140d282b71a49"
   }
  }
 },
 "nbformat": 4,
 "nbformat_minor": 5
}