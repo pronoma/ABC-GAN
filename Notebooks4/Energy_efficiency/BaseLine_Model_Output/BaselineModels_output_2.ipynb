{
 "cells": [
  {
   "cell_type": "markdown",
   "id": "8b87c7dc",
   "metadata": {
    "papermill": {
     "duration": 0.009953,
     "end_time": "2022-07-24T10:21:29.508055",
     "exception": false,
     "start_time": "2022-07-24T10:21:29.498102",
     "status": "completed"
    },
    "tags": []
   },
   "source": [
    "## Import Libraries "
   ]
  },
  {
   "cell_type": "code",
   "execution_count": 1,
   "id": "d1ff5d45",
   "metadata": {
    "execution": {
     "iopub.execute_input": "2022-07-24T10:21:29.519946Z",
     "iopub.status.busy": "2022-07-24T10:21:29.519346Z",
     "iopub.status.idle": "2022-07-24T10:21:29.549894Z",
     "shell.execute_reply": "2022-07-24T10:21:29.542516Z"
    },
    "papermill": {
     "duration": 0.049977,
     "end_time": "2022-07-24T10:21:29.562824",
     "exception": false,
     "start_time": "2022-07-24T10:21:29.512847",
     "status": "completed"
    },
    "tags": []
   },
   "outputs": [],
   "source": [
    "import warnings\n",
    "import sys\n",
    "sys.path.insert(0, '../../src')\n",
    "warnings.filterwarnings('ignore')"
   ]
  },
  {
   "cell_type": "code",
   "execution_count": 2,
   "id": "146ea878",
   "metadata": {
    "execution": {
     "iopub.execute_input": "2022-07-24T10:21:29.577889Z",
     "iopub.status.busy": "2022-07-24T10:21:29.576745Z",
     "iopub.status.idle": "2022-07-24T10:21:45.563303Z",
     "shell.execute_reply": "2022-07-24T10:21:45.559721Z"
    },
    "papermill": {
     "duration": 15.998486,
     "end_time": "2022-07-24T10:21:45.567827",
     "exception": false,
     "start_time": "2022-07-24T10:21:29.569341",
     "status": "completed"
    },
    "tags": []
   },
   "outputs": [],
   "source": [
    "import statsModel\n",
    "import scrapbook as sb \n",
    "import torch \n",
    "import statsModel\n",
    "import baselineModels\n",
    "import energyefficiencyDataset\n",
    "import dataset \n",
    "from torch.utils.data import random_split \n",
    "from sklearn.model_selection import train_test_split\n",
    "import numpy as np\n",
    "from sklearn.metrics import mean_squared_error,mean_absolute_error "
   ]
  },
  {
   "cell_type": "markdown",
   "id": "0fd5fcfa",
   "metadata": {
    "papermill": {
     "duration": 0.008783,
     "end_time": "2022-07-24T10:21:45.827287",
     "exception": false,
     "start_time": "2022-07-24T10:21:45.818504",
     "status": "completed"
    },
    "tags": []
   },
   "source": [
    "## Import Dataset \n"
   ]
  },
  {
   "cell_type": "code",
   "execution_count": 3,
   "id": "d98bfbd5",
   "metadata": {
    "execution": {
     "iopub.execute_input": "2022-07-24T10:21:45.842892Z",
     "iopub.status.busy": "2022-07-24T10:21:45.841901Z",
     "iopub.status.idle": "2022-07-24T10:21:47.331379Z",
     "shell.execute_reply": "2022-07-24T10:21:47.327227Z"
    },
    "papermill": {
     "duration": 1.502976,
     "end_time": "2022-07-24T10:21:47.336074",
     "exception": false,
     "start_time": "2022-07-24T10:21:45.833098",
     "status": "completed"
    },
    "tags": []
   },
   "outputs": [
    {
     "name": "stdout",
     "output_type": "stream",
     "text": [
      "     X1     X2     X3      X4   X5  X6   X7  X8     Y1     Y2\n",
      "0  0.98  514.5  294.0  110.25  7.0   2  0.0   0  15.55  21.33\n",
      "1  0.98  514.5  294.0  110.25  7.0   3  0.0   0  15.55  21.33\n",
      "2  0.98  514.5  294.0  110.25  7.0   4  0.0   0  15.55  21.33\n",
      "3  0.98  514.5  294.0  110.25  7.0   5  0.0   0  15.55  21.33\n",
      "4  0.90  563.5  318.5  122.50  7.0   2  0.0   0  20.84  28.28\n"
     ]
    }
   ],
   "source": [
    "n_features = 13\n",
    "n_samples= 506\n",
    "n_target = 1 \n",
    "X,Y = energyefficiencyDataset.energy_data()"
   ]
  },
  {
   "cell_type": "code",
   "execution_count": 4,
   "id": "aa2e4f68",
   "metadata": {
    "execution": {
     "iopub.execute_input": "2022-07-24T10:21:47.350878Z",
     "iopub.status.busy": "2022-07-24T10:21:47.350188Z",
     "iopub.status.idle": "2022-07-24T10:21:47.363620Z",
     "shell.execute_reply": "2022-07-24T10:21:47.360365Z"
    },
    "papermill": {
     "duration": 0.025899,
     "end_time": "2022-07-24T10:21:47.367765",
     "exception": false,
     "start_time": "2022-07-24T10:21:47.341866",
     "status": "completed"
    },
    "tags": []
   },
   "outputs": [],
   "source": [
    "# Train test split for dataset \n",
    "real_dataset = dataset.CustomDataset(X,Y)\n",
    "X_train, X_test, y_train, y_test = train_test_split(X, Y, test_size=0.2)"
   ]
  },
  {
   "cell_type": "markdown",
   "id": "ab5cf3a0",
   "metadata": {
    "papermill": {
     "duration": 0.004032,
     "end_time": "2022-07-24T10:21:47.375963",
     "exception": false,
     "start_time": "2022-07-24T10:21:47.371931",
     "status": "completed"
    },
    "tags": []
   },
   "source": [
    "## Stats Model \n",
    "\n"
   ]
  },
  {
   "cell_type": "code",
   "execution_count": 5,
   "id": "ba936b8b",
   "metadata": {
    "execution": {
     "iopub.execute_input": "2022-07-24T10:21:47.389488Z",
     "iopub.status.busy": "2022-07-24T10:21:47.388901Z",
     "iopub.status.idle": "2022-07-24T10:21:48.024427Z",
     "shell.execute_reply": "2022-07-24T10:21:48.022840Z"
    },
    "papermill": {
     "duration": 0.648682,
     "end_time": "2022-07-24T10:21:48.030025",
     "exception": false,
     "start_time": "2022-07-24T10:21:47.381343",
     "status": "completed"
    },
    "tags": []
   },
   "outputs": [
    {
     "name": "stderr",
     "output_type": "stream",
     "text": [
      "No artists with labels found to put in legend.  Note that artists whose label start with an underscore are ignored when legend() is called with no argument.\n"
     ]
    },
    {
     "name": "stdout",
     "output_type": "stream",
     "text": [
      "                                 OLS Regression Results                                \n",
      "=======================================================================================\n",
      "Dep. Variable:                      y   R-squared (uncentered):                   0.921\n",
      "Model:                            OLS   Adj. R-squared (uncentered):              0.920\n",
      "Method:                 Least Squares   F-statistic:                              1006.\n",
      "Date:                Sun, 24 Jul 2022   Prob (F-statistic):                        0.00\n",
      "Time:                        15:51:47   Log-Likelihood:                         -99.430\n",
      "No. Observations:                 614   AIC:                                      212.9\n",
      "Df Residuals:                     607   BIC:                                      243.8\n",
      "Df Model:                           7                                                  \n",
      "Covariance Type:            nonrobust                                                  \n",
      "==============================================================================\n",
      "                 coef    std err          t      P>|t|      [0.025      0.975]\n",
      "------------------------------------------------------------------------------\n",
      "x1            -0.6971      0.119     -5.859      0.000      -0.931      -0.463\n",
      "x2            -0.3680      0.088     -4.197      0.000      -0.540      -0.196\n",
      "x3             0.0530      0.023      2.292      0.022       0.008       0.098\n",
      "x4            -0.3844      0.079     -4.879      0.000      -0.539      -0.230\n",
      "x5             0.7665      0.064     11.892      0.000       0.640       0.893\n",
      "x6          5.757e-05      0.011      0.005      0.996      -0.022       0.023\n",
      "x7             0.2721      0.012     23.313      0.000       0.249       0.295\n",
      "x8             0.0363      0.012      3.100      0.002       0.013       0.059\n",
      "==============================================================================\n",
      "Omnibus:                       10.890   Durbin-Watson:                   1.898\n",
      "Prob(Omnibus):                  0.004   Jarque-Bera (JB):               18.516\n",
      "Skew:                          -0.022   Prob(JB):                     9.54e-05\n",
      "Kurtosis:                       3.850   Cond. No.                     3.51e+15\n",
      "==============================================================================\n",
      "\n",
      "Notes:\n",
      "[1] R² is computed without centering (uncentered) since the model does not contain a constant.\n",
      "[2] Standard Errors assume that the covariance matrix of the errors is correctly specified.\n",
      "[3] The smallest eigenvalue is 1.83e-28. This might indicate that there are\n",
      "strong multicollinearity problems or that the design matrix is singular.\n"
     ]
    },
    {
     "data": {
      "image/png": "[encoded data removed]",
      "text/plain": [
       "<Figure size 432x288 with 1 Axes>"
      ]
     },
     "metadata": {
      "needs_background": "light"
     },
     "output_type": "display_data"
    },
    {
     "name": "stdout",
     "output_type": "stream",
     "text": [
      "Performance Metrics\n",
      "Mean Squared Error: 0.09667289394352611\n",
      "Mean Absolute Error: 0.2136780907897748\n",
      "Manhattan distance: 32.90642598162531\n",
      "Euclidean distance: 3.8584486088715786\n"
     ]
    },
    {
     "data": {
      "application/scrapbook.scrap.json+json": {
       "data": 0.09667289394352611,
       "encoder": "json",
       "name": "Stats Model MSE",
       "version": 1
      }
     },
     "metadata": {
      "scrapbook": {
       "data": true,
       "display": false,
       "name": "Stats Model MSE"
      }
     },
     "output_type": "display_data"
    },
    {
     "data": {
      "application/scrapbook.scrap.json+json": {
       "data": 0.2136780907897748,
       "encoder": "json",
       "name": "Stats Model MAE",
       "version": 1
      }
     },
     "metadata": {
      "scrapbook": {
       "data": true,
       "display": false,
       "name": "Stats Model MAE"
      }
     },
     "output_type": "display_data"
    },
    {
     "data": {
      "application/scrapbook.scrap.json+json": {
       "data": 32.90642598162531,
       "encoder": "json",
       "name": "Stats Model Manhattan Distance",
       "version": 1
      }
     },
     "metadata": {
      "scrapbook": {
       "data": true,
       "display": false,
       "name": "Stats Model Manhattan Distance"
      }
     },
     "output_type": "display_data"
    },
    {
     "data": {
      "application/scrapbook.scrap.json+json": {
       "data": 3.8584486088715786,
       "encoder": "json",
       "name": "Stats Model Euclidean distance",
       "version": 1
      }
     },
     "metadata": {
      "scrapbook": {
       "data": true,
       "display": false,
       "name": "Stats Model Euclidean distance"
      }
     },
     "output_type": "display_data"
    },
    {
     "data": {
      "application/scrapbook.scrap.json+json": {
       "data": [
        -0.6971184822733989,
        -0.36798283125840353,
        0.052972718989391876,
        -0.38441781420645754,
        0.7664830932834531,
        5.7567230875811646e-05,
        0.27209648263194686,
        0.036319155794401925
       ],
       "encoder": "json",
       "name": "Coefficients",
       "version": 1
      }
     },
     "metadata": {
      "scrapbook": {
       "data": true,
       "display": false,
       "name": "Coefficients"
      }
     },
     "output_type": "display_data"
    },
    {
     "name": "stdout",
     "output_type": "stream",
     "text": [
      "Stats Model MAE 0.2136780907897748\n"
     ]
    }
   ],
   "source": [
    "coefficients , y_pred =statsModel.statsModel(X_train,y_train,X_test,y_test)\n",
    "#Store MSE Value \n",
    "sb.glue(\"Coefficients\",coefficients)\n",
    "mae = mean_absolute_error(y_pred, y_test)\n",
    "print(\"Stats Model MAE\", mae)"
   ]
  },
  {
   "cell_type": "markdown",
   "id": "381217b4",
   "metadata": {
    "papermill": {
     "duration": 0.007097,
     "end_time": "2022-07-24T10:21:48.047630",
     "exception": false,
     "start_time": "2022-07-24T10:21:48.040533",
     "status": "completed"
    },
    "tags": []
   },
   "source": [
    "# Catboost Model "
   ]
  },
  {
   "cell_type": "code",
   "execution_count": 6,
   "id": "a848c7ad",
   "metadata": {
    "execution": {
     "iopub.execute_input": "2022-07-24T10:21:48.060019Z",
     "iopub.status.busy": "2022-07-24T10:21:48.059705Z",
     "iopub.status.idle": "2022-07-24T10:21:48.991953Z",
     "shell.execute_reply": "2022-07-24T10:21:48.990404Z"
    },
    "papermill": {
     "duration": 0.942623,
     "end_time": "2022-07-24T10:21:48.995293",
     "exception": false,
     "start_time": "2022-07-24T10:21:48.052670",
     "status": "completed"
    },
    "tags": []
   },
   "outputs": [
    {
     "name": "stdout",
     "output_type": "stream",
     "text": [
      "Learning rate set to 0.037906\n",
      "0:\tlearn: 0.9800554\ttotal: 50.5ms\tremaining: 50.4s\n",
      "1:\tlearn: 0.9473619\ttotal: 51.3ms\tremaining: 25.6s\n",
      "2:\tlearn: 0.9159865\ttotal: 52.4ms\tremaining: 17.4s\n",
      "3:\tlearn: 0.8849929\ttotal: 53.4ms\tremaining: 13.3s\n",
      "4:\tlearn: 0.8596565\ttotal: 54.5ms\tremaining: 10.8s\n",
      "5:\tlearn: 0.8315002\ttotal: 63.5ms\tremaining: 10.5s\n",
      "6:\tlearn: 0.8085162\ttotal: 63.7ms\tremaining: 9.04s\n",
      "7:\tlearn: 0.7850755\ttotal: 64.2ms\tremaining: 7.97s\n",
      "8:\tlearn: 0.7592551\ttotal: 76.1ms\tremaining: 8.38s\n",
      "9:\tlearn: 0.7354062\ttotal: 84.9ms\tremaining: 8.4s\n",
      "10:\tlearn: 0.7128197\ttotal: 85.6ms\tremaining: 7.69s\n",
      "11:\tlearn: 0.6895769\ttotal: 85.8ms\tremaining: 7.06s\n",
      "12:\tlearn: 0.6704933\ttotal: 87.5ms\tremaining: 6.64s\n",
      "13:\tlearn: 0.6513760\ttotal: 88.7ms\tremaining: 6.24s\n",
      "14:\tlearn: 0.6308299\ttotal: 89.4ms\tremaining: 5.87s\n",
      "15:\tlearn: 0.6121607\ttotal: 90.5ms\tremaining: 5.56s\n",
      "16:\tlearn: 0.5927849\ttotal: 90.9ms\tremaining: 5.25s\n",
      "17:\tlearn: 0.5754992\ttotal: 94.1ms\tremaining: 5.13s\n",
      "18:\tlearn: 0.5587448\ttotal: 94.8ms\tremaining: 4.89s\n",
      "19:\tlearn: 0.5430028\ttotal: 95.5ms\tremaining: 4.68s\n",
      "20:\tlearn: 0.5278847\ttotal: 96ms\tremaining: 4.48s\n",
      "21:\tlearn: 0.5109383\ttotal: 96.9ms\tremaining: 4.31s\n",
      "22:\tlearn: 0.4952329\ttotal: 97.6ms\tremaining: 4.15s\n",
      "23:\tlearn: 0.4820944\ttotal: 98.2ms\tremaining: 3.99s\n",
      "24:\tlearn: 0.4682135\ttotal: 98.8ms\tremaining: 3.85s\n",
      "25:\tlearn: 0.4532404\ttotal: 99.5ms\tremaining: 3.73s\n",
      "26:\tlearn: 0.4399243\ttotal: 100ms\tremaining: 3.6s\n",
      "27:\tlearn: 0.4271609\ttotal: 101ms\tremaining: 3.49s\n"
     ]
    },
    {
     "name": "stdout",
     "output_type": "stream",
     "text": [
      "28:\tlearn: 0.4141908\ttotal: 102ms\tremaining: 3.41s\n",
      "29:\tlearn: 0.4031100\ttotal: 103ms\tremaining: 3.32s\n",
      "30:\tlearn: 0.3929790\ttotal: 103ms\tremaining: 3.22s\n",
      "31:\tlearn: 0.3814736\ttotal: 104ms\tremaining: 3.13s\n",
      "32:\tlearn: 0.3715216\ttotal: 105ms\tremaining: 3.07s\n",
      "33:\tlearn: 0.3608053\ttotal: 105ms\tremaining: 2.99s\n",
      "34:\tlearn: 0.3509580\ttotal: 106ms\tremaining: 2.92s\n",
      "35:\tlearn: 0.3410313\ttotal: 106ms\tremaining: 2.85s\n",
      "36:\tlearn: 0.3313697\ttotal: 107ms\tremaining: 2.79s\n",
      "37:\tlearn: 0.3221405\ttotal: 108ms\tremaining: 2.73s\n",
      "38:\tlearn: 0.3137108\ttotal: 108ms\tremaining: 2.67s\n",
      "39:\tlearn: 0.3065512\ttotal: 109ms\tremaining: 2.61s\n",
      "40:\tlearn: 0.2982430\ttotal: 109ms\tremaining: 2.55s\n",
      "41:\tlearn: 0.2900388\ttotal: 110ms\tremaining: 2.51s\n",
      "42:\tlearn: 0.2817413\ttotal: 110ms\tremaining: 2.46s\n",
      "43:\tlearn: 0.2740982\ttotal: 111ms\tremaining: 2.41s\n",
      "44:\tlearn: 0.2661092\ttotal: 111ms\tremaining: 2.37s\n",
      "45:\tlearn: 0.2585804\ttotal: 112ms\tremaining: 2.32s\n",
      "46:\tlearn: 0.2533268\ttotal: 112ms\tremaining: 2.28s\n",
      "47:\tlearn: 0.2483646\ttotal: 113ms\tremaining: 2.24s\n",
      "48:\tlearn: 0.2424971\ttotal: 113ms\tremaining: 2.2s\n",
      "49:\tlearn: 0.2353854\ttotal: 114ms\tremaining: 2.16s\n",
      "50:\tlearn: 0.2300005\ttotal: 114ms\tremaining: 2.13s\n",
      "51:\tlearn: 0.2244429\ttotal: 115ms\tremaining: 2.09s\n",
      "52:\tlearn: 0.2180696\ttotal: 115ms\tremaining: 2.06s\n",
      "53:\tlearn: 0.2129186\ttotal: 116ms\tremaining: 2.03s\n",
      "54:\tlearn: 0.2084059\ttotal: 116ms\tremaining: 2s\n",
      "55:\tlearn: 0.2031219\ttotal: 118ms\tremaining: 1.99s\n",
      "56:\tlearn: 0.1976490\ttotal: 118ms\tremaining: 1.96s\n",
      "57:\tlearn: 0.1924442\ttotal: 119ms\tremaining: 1.93s\n",
      "58:\tlearn: 0.1873617\ttotal: 119ms\tremaining: 1.91s\n",
      "59:\tlearn: 0.1827144\ttotal: 120ms\tremaining: 1.88s\n",
      "60:\tlearn: 0.1780650\ttotal: 121ms\tremaining: 1.86s\n",
      "61:\tlearn: 0.1741716\ttotal: 121ms\tremaining: 1.83s\n",
      "62:\tlearn: 0.1711082\ttotal: 121ms\tremaining: 1.81s\n",
      "63:\tlearn: 0.1664583\ttotal: 122ms\tremaining: 1.78s\n",
      "64:\tlearn: 0.1634100\ttotal: 122ms\tremaining: 1.76s\n",
      "65:\tlearn: 0.1597595\ttotal: 123ms\tremaining: 1.74s\n",
      "66:\tlearn: 0.1559683\ttotal: 123ms\tremaining: 1.72s\n",
      "67:\tlearn: 0.1522352\ttotal: 124ms\tremaining: 1.7s\n",
      "68:\tlearn: 0.1482725\ttotal: 125ms\tremaining: 1.68s\n",
      "69:\tlearn: 0.1450969\ttotal: 125ms\tremaining: 1.66s\n",
      "70:\tlearn: 0.1427577\ttotal: 126ms\tremaining: 1.64s\n",
      "71:\tlearn: 0.1392008\ttotal: 126ms\tremaining: 1.62s\n",
      "72:\tlearn: 0.1360337\ttotal: 126ms\tremaining: 1.61s\n",
      "73:\tlearn: 0.1338666\ttotal: 127ms\tremaining: 1.59s\n",
      "74:\tlearn: 0.1317437\ttotal: 127ms\tremaining: 1.57s\n",
      "75:\tlearn: 0.1282489\ttotal: 128ms\tremaining: 1.55s\n",
      "76:\tlearn: 0.1259794\ttotal: 128ms\tremaining: 1.54s\n"
     ]
    },
    {
     "name": "stdout",
     "output_type": "stream",
     "text": [
      "77:\tlearn: 0.1232228\ttotal: 129ms\tremaining: 1.52s\n",
      "78:\tlearn: 0.1203317\ttotal: 130ms\tremaining: 1.52s\n",
      "79:\tlearn: 0.1173389\ttotal: 131ms\tremaining: 1.5s\n",
      "80:\tlearn: 0.1148928\ttotal: 132ms\tremaining: 1.49s\n",
      "81:\tlearn: 0.1130778\ttotal: 132ms\tremaining: 1.48s\n",
      "82:\tlearn: 0.1109328\ttotal: 133ms\tremaining: 1.46s\n",
      "83:\tlearn: 0.1089915\ttotal: 133ms\tremaining: 1.45s\n",
      "84:\tlearn: 0.1067189\ttotal: 134ms\tremaining: 1.44s\n",
      "85:\tlearn: 0.1043087\ttotal: 134ms\tremaining: 1.42s\n",
      "86:\tlearn: 0.1030474\ttotal: 135ms\tremaining: 1.41s\n",
      "87:\tlearn: 0.1008677\ttotal: 135ms\tremaining: 1.4s\n",
      "88:\tlearn: 0.0996286\ttotal: 136ms\tremaining: 1.39s\n",
      "89:\tlearn: 0.0976882\ttotal: 136ms\tremaining: 1.38s\n",
      "90:\tlearn: 0.0964872\ttotal: 137ms\tremaining: 1.36s\n",
      "91:\tlearn: 0.0945446\ttotal: 137ms\tremaining: 1.35s\n",
      "92:\tlearn: 0.0927154\ttotal: 137ms\tremaining: 1.34s\n",
      "93:\tlearn: 0.0915423\ttotal: 138ms\tremaining: 1.33s\n",
      "94:\tlearn: 0.0908835\ttotal: 138ms\tremaining: 1.32s\n",
      "95:\tlearn: 0.0892782\ttotal: 139ms\tremaining: 1.3s\n",
      "96:\tlearn: 0.0874211\ttotal: 139ms\tremaining: 1.29s\n",
      "97:\tlearn: 0.0858424\ttotal: 140ms\tremaining: 1.29s\n",
      "98:\tlearn: 0.0840272\ttotal: 141ms\tremaining: 1.28s\n",
      "99:\tlearn: 0.0827075\ttotal: 141ms\tremaining: 1.27s\n",
      "100:\tlearn: 0.0815142\ttotal: 142ms\tremaining: 1.26s\n",
      "101:\tlearn: 0.0808366\ttotal: 142ms\tremaining: 1.25s\n",
      "102:\tlearn: 0.0794141\ttotal: 143ms\tremaining: 1.24s\n",
      "103:\tlearn: 0.0785920\ttotal: 143ms\tremaining: 1.23s\n",
      "104:\tlearn: 0.0776984\ttotal: 143ms\tremaining: 1.22s\n",
      "105:\tlearn: 0.0763738\ttotal: 144ms\tremaining: 1.21s\n",
      "106:\tlearn: 0.0750346\ttotal: 144ms\tremaining: 1.21s\n",
      "107:\tlearn: 0.0740211\ttotal: 145ms\tremaining: 1.2s\n",
      "108:\tlearn: 0.0733378\ttotal: 146ms\tremaining: 1.19s\n",
      "109:\tlearn: 0.0724750\ttotal: 146ms\tremaining: 1.18s\n",
      "110:\tlearn: 0.0716940\ttotal: 146ms\tremaining: 1.17s\n",
      "111:\tlearn: 0.0706905\ttotal: 146ms\tremaining: 1.16s\n",
      "112:\tlearn: 0.0701883\ttotal: 146ms\tremaining: 1.15s\n",
      "113:\tlearn: 0.0695095\ttotal: 147ms\tremaining: 1.14s\n",
      "114:\tlearn: 0.0686107\ttotal: 147ms\tremaining: 1.13s\n",
      "115:\tlearn: 0.0675965\ttotal: 148ms\tremaining: 1.13s\n",
      "116:\tlearn: 0.0669368\ttotal: 148ms\tremaining: 1.12s\n",
      "117:\tlearn: 0.0660033\ttotal: 149ms\tremaining: 1.11s\n",
      "118:\tlearn: 0.0650475\ttotal: 149ms\tremaining: 1.1s\n",
      "119:\tlearn: 0.0641658\ttotal: 150ms\tremaining: 1.1s\n",
      "120:\tlearn: 0.0636609\ttotal: 150ms\tremaining: 1.09s\n",
      "121:\tlearn: 0.0633240\ttotal: 150ms\tremaining: 1.08s\n",
      "122:\tlearn: 0.0628951\ttotal: 151ms\tremaining: 1.07s\n",
      "123:\tlearn: 0.0624670\ttotal: 151ms\tremaining: 1.07s\n",
      "124:\tlearn: 0.0617728\ttotal: 152ms\tremaining: 1.06s\n",
      "125:\tlearn: 0.0611460\ttotal: 152ms\tremaining: 1.06s\n",
      "126:\tlearn: 0.0604902\ttotal: 153ms\tremaining: 1.05s\n",
      "127:\tlearn: 0.0599766\ttotal: 153ms\tremaining: 1.04s\n",
      "128:\tlearn: 0.0593498\ttotal: 154ms\tremaining: 1.04s\n",
      "129:\tlearn: 0.0587542\ttotal: 154ms\tremaining: 1.03s\n",
      "130:\tlearn: 0.0582102\ttotal: 155ms\tremaining: 1.03s\n",
      "131:\tlearn: 0.0576915\ttotal: 155ms\tremaining: 1.02s\n",
      "132:\tlearn: 0.0571553\ttotal: 156ms\tremaining: 1.01s\n",
      "133:\tlearn: 0.0567833\ttotal: 157ms\tremaining: 1.01s\n",
      "134:\tlearn: 0.0564827\ttotal: 157ms\tremaining: 1.01s\n",
      "135:\tlearn: 0.0562095\ttotal: 157ms\tremaining: 999ms\n",
      "136:\tlearn: 0.0557661\ttotal: 158ms\tremaining: 995ms\n",
      "137:\tlearn: 0.0554971\ttotal: 159ms\tremaining: 991ms\n",
      "138:\tlearn: 0.0550501\ttotal: 159ms\tremaining: 985ms\n",
      "139:\tlearn: 0.0546079\ttotal: 159ms\tremaining: 980ms\n",
      "140:\tlearn: 0.0541751\ttotal: 160ms\tremaining: 975ms\n",
      "141:\tlearn: 0.0537109\ttotal: 161ms\tremaining: 970ms\n",
      "142:\tlearn: 0.0533732\ttotal: 161ms\tremaining: 965ms\n",
      "143:\tlearn: 0.0529896\ttotal: 162ms\tremaining: 961ms\n",
      "144:\tlearn: 0.0526109\ttotal: 166ms\tremaining: 978ms\n",
      "145:\tlearn: 0.0522635\ttotal: 167ms\tremaining: 974ms\n",
      "146:\tlearn: 0.0520631\ttotal: 167ms\tremaining: 970ms\n",
      "147:\tlearn: 0.0517620\ttotal: 168ms\tremaining: 965ms\n",
      "148:\tlearn: 0.0514860\ttotal: 168ms\tremaining: 960ms\n"
     ]
    },
    {
     "name": "stdout",
     "output_type": "stream",
     "text": [
      "149:\tlearn: 0.0510822\ttotal: 169ms\tremaining: 957ms\n",
      "150:\tlearn: 0.0508690\ttotal: 171ms\tremaining: 963ms\n",
      "151:\tlearn: 0.0506613\ttotal: 172ms\tremaining: 958ms\n",
      "152:\tlearn: 0.0503904\ttotal: 172ms\tremaining: 952ms\n",
      "153:\tlearn: 0.0500937\ttotal: 172ms\tremaining: 946ms\n",
      "154:\tlearn: 0.0498908\ttotal: 172ms\tremaining: 940ms\n",
      "155:\tlearn: 0.0496295\ttotal: 173ms\tremaining: 935ms\n",
      "156:\tlearn: 0.0493773\ttotal: 174ms\tremaining: 933ms\n",
      "157:\tlearn: 0.0491489\ttotal: 174ms\tremaining: 928ms\n",
      "158:\tlearn: 0.0488820\ttotal: 175ms\tremaining: 924ms\n",
      "159:\tlearn: 0.0486785\ttotal: 175ms\tremaining: 921ms\n",
      "160:\tlearn: 0.0484048\ttotal: 176ms\tremaining: 915ms\n",
      "161:\tlearn: 0.0481823\ttotal: 176ms\tremaining: 911ms\n",
      "162:\tlearn: 0.0479796\ttotal: 177ms\tremaining: 907ms\n",
      "163:\tlearn: 0.0478777\ttotal: 177ms\tremaining: 901ms\n",
      "164:\tlearn: 0.0475872\ttotal: 177ms\tremaining: 898ms\n",
      "165:\tlearn: 0.0475603\ttotal: 178ms\tremaining: 892ms\n",
      "166:\tlearn: 0.0473761\ttotal: 181ms\tremaining: 901ms\n",
      "167:\tlearn: 0.0471055\ttotal: 182ms\tremaining: 902ms\n",
      "168:\tlearn: 0.0469196\ttotal: 183ms\tremaining: 899ms\n",
      "169:\tlearn: 0.0466935\ttotal: 184ms\tremaining: 898ms\n",
      "170:\tlearn: 0.0465445\ttotal: 184ms\tremaining: 893ms\n",
      "171:\tlearn: 0.0463487\ttotal: 185ms\tremaining: 891ms\n",
      "172:\tlearn: 0.0461719\ttotal: 185ms\tremaining: 886ms\n",
      "173:\tlearn: 0.0459830\ttotal: 186ms\tremaining: 881ms\n",
      "174:\tlearn: 0.0457897\ttotal: 186ms\tremaining: 876ms\n",
      "175:\tlearn: 0.0455848\ttotal: 186ms\tremaining: 871ms\n",
      "176:\tlearn: 0.0454166\ttotal: 186ms\tremaining: 866ms\n",
      "177:\tlearn: 0.0452965\ttotal: 187ms\tremaining: 862ms\n",
      "178:\tlearn: 0.0451762\ttotal: 187ms\tremaining: 858ms\n",
      "179:\tlearn: 0.0450690\ttotal: 188ms\tremaining: 856ms\n",
      "180:\tlearn: 0.0449074\ttotal: 188ms\tremaining: 851ms\n",
      "181:\tlearn: 0.0446800\ttotal: 189ms\tremaining: 848ms\n",
      "182:\tlearn: 0.0445457\ttotal: 189ms\tremaining: 843ms\n",
      "183:\tlearn: 0.0443804\ttotal: 189ms\tremaining: 839ms\n",
      "184:\tlearn: 0.0442359\ttotal: 190ms\tremaining: 838ms\n",
      "185:\tlearn: 0.0440894\ttotal: 191ms\tremaining: 834ms\n",
      "186:\tlearn: 0.0439261\ttotal: 191ms\tremaining: 831ms\n",
      "187:\tlearn: 0.0438384\ttotal: 192ms\tremaining: 828ms\n",
      "188:\tlearn: 0.0436577\ttotal: 192ms\tremaining: 824ms\n",
      "189:\tlearn: 0.0434930\ttotal: 193ms\tremaining: 821ms\n",
      "190:\tlearn: 0.0433403\ttotal: 193ms\tremaining: 818ms\n",
      "191:\tlearn: 0.0431944\ttotal: 193ms\tremaining: 814ms\n",
      "192:\tlearn: 0.0430686\ttotal: 194ms\tremaining: 810ms\n",
      "193:\tlearn: 0.0429411\ttotal: 194ms\tremaining: 806ms\n",
      "194:\tlearn: 0.0428329\ttotal: 194ms\tremaining: 802ms\n",
      "195:\tlearn: 0.0426925\ttotal: 194ms\tremaining: 798ms\n",
      "196:\tlearn: 0.0424873\ttotal: 195ms\tremaining: 794ms\n",
      "197:\tlearn: 0.0423685\ttotal: 195ms\tremaining: 791ms\n",
      "198:\tlearn: 0.0422042\ttotal: 196ms\tremaining: 787ms\n",
      "199:\tlearn: 0.0420950\ttotal: 197ms\tremaining: 787ms\n",
      "200:\tlearn: 0.0419551\ttotal: 197ms\tremaining: 784ms\n",
      "201:\tlearn: 0.0417774\ttotal: 197ms\tremaining: 780ms\n",
      "202:\tlearn: 0.0416706\ttotal: 198ms\tremaining: 776ms\n",
      "203:\tlearn: 0.0415369\ttotal: 198ms\tremaining: 772ms\n",
      "204:\tlearn: 0.0414401\ttotal: 198ms\tremaining: 769ms\n",
      "205:\tlearn: 0.0413523\ttotal: 199ms\tremaining: 768ms\n",
      "206:\tlearn: 0.0412478\ttotal: 200ms\tremaining: 765ms\n",
      "207:\tlearn: 0.0411211\ttotal: 200ms\tremaining: 762ms\n",
      "208:\tlearn: 0.0410200\ttotal: 201ms\tremaining: 759ms\n",
      "209:\tlearn: 0.0408892\ttotal: 201ms\tremaining: 756ms\n",
      "210:\tlearn: 0.0406562\ttotal: 202ms\tremaining: 755ms\n",
      "211:\tlearn: 0.0405044\ttotal: 202ms\tremaining: 752ms\n",
      "212:\tlearn: 0.0403762\ttotal: 203ms\tremaining: 749ms\n",
      "213:\tlearn: 0.0403010\ttotal: 203ms\tremaining: 747ms\n",
      "214:\tlearn: 0.0402205\ttotal: 204ms\tremaining: 744ms\n",
      "215:\tlearn: 0.0401168\ttotal: 204ms\tremaining: 742ms\n",
      "216:\tlearn: 0.0399741\ttotal: 205ms\tremaining: 741ms\n",
      "217:\tlearn: 0.0398446\ttotal: 206ms\tremaining: 737ms\n",
      "218:\tlearn: 0.0397374\ttotal: 206ms\tremaining: 734ms\n",
      "219:\tlearn: 0.0396639\ttotal: 207ms\tremaining: 734ms\n",
      "220:\tlearn: 0.0395828\ttotal: 207ms\tremaining: 731ms\n",
      "221:\tlearn: 0.0394406\ttotal: 208ms\tremaining: 728ms\n",
      "222:\tlearn: 0.0393766\ttotal: 208ms\tremaining: 725ms\n",
      "223:\tlearn: 0.0393100\ttotal: 208ms\tremaining: 721ms\n",
      "224:\tlearn: 0.0392144\ttotal: 210ms\tremaining: 723ms\n",
      "225:\tlearn: 0.0389591\ttotal: 211ms\tremaining: 721ms\n",
      "226:\tlearn: 0.0387232\ttotal: 211ms\tremaining: 719ms\n",
      "227:\tlearn: 0.0385890\ttotal: 212ms\tremaining: 717ms\n",
      "228:\tlearn: 0.0385278\ttotal: 212ms\tremaining: 714ms\n",
      "229:\tlearn: 0.0384403\ttotal: 213ms\tremaining: 712ms\n",
      "230:\tlearn: 0.0382882\ttotal: 213ms\tremaining: 710ms\n",
      "231:\tlearn: 0.0381749\ttotal: 214ms\tremaining: 708ms\n",
      "232:\tlearn: 0.0380560\ttotal: 214ms\tremaining: 705ms\n",
      "233:\tlearn: 0.0379393\ttotal: 214ms\tremaining: 702ms\n",
      "234:\tlearn: 0.0377124\ttotal: 215ms\tremaining: 700ms\n",
      "235:\tlearn: 0.0374924\ttotal: 216ms\tremaining: 698ms\n",
      "236:\tlearn: 0.0373970\ttotal: 216ms\tremaining: 697ms\n",
      "237:\tlearn: 0.0373052\ttotal: 217ms\tremaining: 694ms\n",
      "238:\tlearn: 0.0372297\ttotal: 218ms\tremaining: 693ms\n",
      "239:\tlearn: 0.0371584\ttotal: 218ms\tremaining: 690ms\n",
      "240:\tlearn: 0.0370689\ttotal: 218ms\tremaining: 687ms\n",
      "241:\tlearn: 0.0369982\ttotal: 219ms\tremaining: 685ms\n",
      "242:\tlearn: 0.0367962\ttotal: 219ms\tremaining: 682ms\n",
      "243:\tlearn: 0.0366860\ttotal: 220ms\tremaining: 682ms\n",
      "244:\tlearn: 0.0365129\ttotal: 220ms\tremaining: 679ms\n",
      "245:\tlearn: 0.0363691\ttotal: 221ms\tremaining: 676ms\n",
      "246:\tlearn: 0.0362888\ttotal: 221ms\tremaining: 674ms\n",
      "247:\tlearn: 0.0362093\ttotal: 221ms\tremaining: 671ms\n",
      "248:\tlearn: 0.0360448\ttotal: 222ms\tremaining: 669ms\n",
      "249:\tlearn: 0.0358960\ttotal: 222ms\tremaining: 667ms\n",
      "250:\tlearn: 0.0357481\ttotal: 223ms\tremaining: 664ms\n",
      "251:\tlearn: 0.0355985\ttotal: 223ms\tremaining: 661ms\n",
      "252:\tlearn: 0.0354789\ttotal: 223ms\tremaining: 660ms\n",
      "253:\tlearn: 0.0353702\ttotal: 224ms\tremaining: 657ms\n",
      "254:\tlearn: 0.0352734\ttotal: 224ms\tremaining: 654ms\n",
      "255:\tlearn: 0.0351347\ttotal: 224ms\tremaining: 652ms\n",
      "256:\tlearn: 0.0350092\ttotal: 225ms\tremaining: 650ms\n",
      "257:\tlearn: 0.0348976\ttotal: 225ms\tremaining: 647ms\n",
      "258:\tlearn: 0.0348282\ttotal: 226ms\tremaining: 646ms\n",
      "259:\tlearn: 0.0347635\ttotal: 226ms\tremaining: 644ms\n",
      "260:\tlearn: 0.0347101\ttotal: 227ms\tremaining: 642ms\n",
      "261:\tlearn: 0.0345854\ttotal: 227ms\tremaining: 639ms\n",
      "262:\tlearn: 0.0345075\ttotal: 228ms\tremaining: 638ms\n",
      "263:\tlearn: 0.0344012\ttotal: 228ms\tremaining: 636ms\n",
      "264:\tlearn: 0.0342570\ttotal: 229ms\tremaining: 634ms\n",
      "265:\tlearn: 0.0341616\ttotal: 229ms\tremaining: 632ms\n",
      "266:\tlearn: 0.0340797\ttotal: 229ms\tremaining: 629ms\n",
      "267:\tlearn: 0.0340085\ttotal: 229ms\tremaining: 626ms\n",
      "268:\tlearn: 0.0339679\ttotal: 230ms\tremaining: 624ms\n",
      "269:\tlearn: 0.0338650\ttotal: 230ms\tremaining: 622ms\n",
      "270:\tlearn: 0.0337349\ttotal: 231ms\tremaining: 622ms\n",
      "271:\tlearn: 0.0336349\ttotal: 232ms\tremaining: 621ms\n",
      "272:\tlearn: 0.0335803\ttotal: 232ms\tremaining: 618ms\n",
      "273:\tlearn: 0.0334700\ttotal: 232ms\tremaining: 616ms\n",
      "274:\tlearn: 0.0333946\ttotal: 233ms\tremaining: 613ms\n",
      "275:\tlearn: 0.0332862\ttotal: 233ms\tremaining: 611ms\n",
      "276:\tlearn: 0.0331893\ttotal: 234ms\tremaining: 611ms\n",
      "277:\tlearn: 0.0330783\ttotal: 234ms\tremaining: 609ms\n",
      "278:\tlearn: 0.0330189\ttotal: 235ms\tremaining: 607ms\n",
      "279:\tlearn: 0.0329105\ttotal: 236ms\tremaining: 606ms\n",
      "280:\tlearn: 0.0328169\ttotal: 236ms\tremaining: 604ms\n",
      "281:\tlearn: 0.0327283\ttotal: 236ms\tremaining: 602ms\n",
      "282:\tlearn: 0.0326348\ttotal: 237ms\tremaining: 601ms\n",
      "283:\tlearn: 0.0325637\ttotal: 238ms\tremaining: 599ms\n",
      "284:\tlearn: 0.0325047\ttotal: 238ms\tremaining: 598ms\n",
      "285:\tlearn: 0.0324040\ttotal: 239ms\tremaining: 596ms\n",
      "286:\tlearn: 0.0323552\ttotal: 239ms\tremaining: 594ms\n",
      "287:\tlearn: 0.0323106\ttotal: 240ms\tremaining: 593ms\n",
      "288:\tlearn: 0.0322336\ttotal: 240ms\tremaining: 591ms\n",
      "289:\tlearn: 0.0321590\ttotal: 240ms\tremaining: 589ms\n",
      "290:\tlearn: 0.0320913\ttotal: 241ms\tremaining: 586ms\n",
      "291:\tlearn: 0.0320216\ttotal: 241ms\tremaining: 585ms\n",
      "292:\tlearn: 0.0319304\ttotal: 242ms\tremaining: 583ms\n",
      "293:\tlearn: 0.0318525\ttotal: 242ms\tremaining: 582ms\n",
      "294:\tlearn: 0.0317767\ttotal: 243ms\tremaining: 580ms\n",
      "295:\tlearn: 0.0317235\ttotal: 243ms\tremaining: 577ms\n",
      "296:\tlearn: 0.0316314\ttotal: 243ms\tremaining: 575ms\n",
      "297:\tlearn: 0.0315790\ttotal: 243ms\tremaining: 573ms\n",
      "298:\tlearn: 0.0315359\ttotal: 244ms\tremaining: 572ms\n",
      "299:\tlearn: 0.0314352\ttotal: 245ms\tremaining: 571ms\n",
      "300:\tlearn: 0.0313770\ttotal: 245ms\tremaining: 569ms\n",
      "301:\tlearn: 0.0312845\ttotal: 245ms\tremaining: 567ms\n",
      "302:\tlearn: 0.0312044\ttotal: 246ms\tremaining: 565ms\n",
      "303:\tlearn: 0.0311318\ttotal: 246ms\tremaining: 564ms\n",
      "304:\tlearn: 0.0310760\ttotal: 246ms\tremaining: 562ms\n",
      "305:\tlearn: 0.0309985\ttotal: 247ms\tremaining: 561ms\n",
      "306:\tlearn: 0.0309183\ttotal: 248ms\tremaining: 560ms\n",
      "307:\tlearn: 0.0308353\ttotal: 249ms\tremaining: 558ms\n",
      "308:\tlearn: 0.0307804\ttotal: 249ms\tremaining: 557ms\n",
      "309:\tlearn: 0.0307303\ttotal: 249ms\tremaining: 555ms\n",
      "310:\tlearn: 0.0306828\ttotal: 250ms\tremaining: 554ms\n",
      "311:\tlearn: 0.0306231\ttotal: 250ms\tremaining: 552ms\n",
      "312:\tlearn: 0.0305806\ttotal: 251ms\tremaining: 550ms\n",
      "313:\tlearn: 0.0305344\ttotal: 251ms\tremaining: 549ms\n",
      "314:\tlearn: 0.0304904\ttotal: 252ms\tremaining: 547ms\n",
      "315:\tlearn: 0.0304391\ttotal: 252ms\tremaining: 545ms\n",
      "316:\tlearn: 0.0303925\ttotal: 252ms\tremaining: 543ms\n",
      "317:\tlearn: 0.0303571\ttotal: 253ms\tremaining: 543ms\n",
      "318:\tlearn: 0.0303137\ttotal: 254ms\tremaining: 542ms\n",
      "319:\tlearn: 0.0302245\ttotal: 254ms\tremaining: 540ms\n",
      "320:\tlearn: 0.0301504\ttotal: 254ms\tremaining: 538ms\n",
      "321:\tlearn: 0.0300838\ttotal: 254ms\tremaining: 536ms\n",
      "322:\tlearn: 0.0300350\ttotal: 255ms\tremaining: 534ms\n",
      "323:\tlearn: 0.0299731\ttotal: 255ms\tremaining: 532ms\n"
     ]
    },
    {
     "name": "stdout",
     "output_type": "stream",
     "text": [
      "324:\tlearn: 0.0299100\ttotal: 257ms\tremaining: 533ms\n",
      "325:\tlearn: 0.0298168\ttotal: 257ms\tremaining: 532ms\n",
      "326:\tlearn: 0.0297612\ttotal: 259ms\tremaining: 532ms\n",
      "327:\tlearn: 0.0297012\ttotal: 259ms\tremaining: 531ms\n",
      "328:\tlearn: 0.0296189\ttotal: 260ms\tremaining: 530ms\n",
      "329:\tlearn: 0.0295743\ttotal: 260ms\tremaining: 528ms\n",
      "330:\tlearn: 0.0295275\ttotal: 260ms\tremaining: 526ms\n",
      "331:\tlearn: 0.0294476\ttotal: 261ms\tremaining: 525ms\n",
      "332:\tlearn: 0.0294123\ttotal: 261ms\tremaining: 524ms\n",
      "333:\tlearn: 0.0293499\ttotal: 262ms\tremaining: 522ms\n",
      "334:\tlearn: 0.0293255\ttotal: 262ms\tremaining: 520ms\n",
      "335:\tlearn: 0.0292270\ttotal: 262ms\tremaining: 519ms\n",
      "336:\tlearn: 0.0291570\ttotal: 263ms\tremaining: 518ms\n",
      "337:\tlearn: 0.0290815\ttotal: 264ms\tremaining: 516ms\n",
      "338:\tlearn: 0.0290414\ttotal: 264ms\tremaining: 514ms\n",
      "339:\tlearn: 0.0289579\ttotal: 264ms\tremaining: 513ms\n",
      "340:\tlearn: 0.0289304\ttotal: 264ms\tremaining: 511ms\n",
      "341:\tlearn: 0.0288817\ttotal: 265ms\tremaining: 509ms\n",
      "342:\tlearn: 0.0288395\ttotal: 266ms\tremaining: 509ms\n",
      "343:\tlearn: 0.0287998\ttotal: 266ms\tremaining: 507ms\n",
      "344:\tlearn: 0.0287536\ttotal: 267ms\tremaining: 506ms\n",
      "345:\tlearn: 0.0286801\ttotal: 267ms\tremaining: 505ms\n",
      "346:\tlearn: 0.0286428\ttotal: 267ms\tremaining: 503ms\n",
      "347:\tlearn: 0.0286188\ttotal: 268ms\tremaining: 501ms\n",
      "348:\tlearn: 0.0285506\ttotal: 268ms\tremaining: 500ms\n",
      "349:\tlearn: 0.0284823\ttotal: 269ms\tremaining: 499ms\n",
      "350:\tlearn: 0.0284166\ttotal: 269ms\tremaining: 497ms\n",
      "351:\tlearn: 0.0283760\ttotal: 269ms\tremaining: 495ms\n",
      "352:\tlearn: 0.0283371\ttotal: 269ms\tremaining: 494ms\n",
      "353:\tlearn: 0.0283098\ttotal: 270ms\tremaining: 493ms\n",
      "354:\tlearn: 0.0282391\ttotal: 271ms\tremaining: 492ms\n",
      "355:\tlearn: 0.0281816\ttotal: 272ms\tremaining: 491ms\n",
      "356:\tlearn: 0.0281158\ttotal: 276ms\tremaining: 496ms\n",
      "357:\tlearn: 0.0280694\ttotal: 276ms\tremaining: 495ms\n",
      "358:\tlearn: 0.0280062\ttotal: 277ms\tremaining: 494ms\n",
      "359:\tlearn: 0.0279336\ttotal: 277ms\tremaining: 493ms\n"
     ]
    },
    {
     "name": "stdout",
     "output_type": "stream",
     "text": [
      "360:\tlearn: 0.0278682\ttotal: 279ms\tremaining: 494ms\n",
      "361:\tlearn: 0.0278126\ttotal: 280ms\tremaining: 494ms\n",
      "362:\tlearn: 0.0277848\ttotal: 281ms\tremaining: 493ms\n",
      "363:\tlearn: 0.0277426\ttotal: 283ms\tremaining: 494ms\n",
      "364:\tlearn: 0.0277129\ttotal: 283ms\tremaining: 493ms\n",
      "365:\tlearn: 0.0276932\ttotal: 284ms\tremaining: 491ms\n",
      "366:\tlearn: 0.0276403\ttotal: 284ms\tremaining: 490ms\n",
      "367:\tlearn: 0.0275849\ttotal: 284ms\tremaining: 488ms\n",
      "368:\tlearn: 0.0275114\ttotal: 284ms\tremaining: 486ms\n",
      "369:\tlearn: 0.0274639\ttotal: 285ms\tremaining: 485ms\n",
      "370:\tlearn: 0.0274339\ttotal: 285ms\tremaining: 483ms\n",
      "371:\tlearn: 0.0274063\ttotal: 285ms\tremaining: 482ms\n",
      "372:\tlearn: 0.0273520\ttotal: 286ms\tremaining: 480ms\n",
      "373:\tlearn: 0.0272606\ttotal: 287ms\tremaining: 480ms\n",
      "374:\tlearn: 0.0272396\ttotal: 288ms\tremaining: 480ms\n",
      "375:\tlearn: 0.0272119\ttotal: 288ms\tremaining: 479ms\n",
      "376:\tlearn: 0.0271926\ttotal: 289ms\tremaining: 477ms\n",
      "377:\tlearn: 0.0271309\ttotal: 289ms\tremaining: 476ms\n",
      "378:\tlearn: 0.0270681\ttotal: 289ms\tremaining: 474ms\n",
      "379:\tlearn: 0.0270028\ttotal: 290ms\tremaining: 473ms\n",
      "380:\tlearn: 0.0269460\ttotal: 290ms\tremaining: 471ms\n",
      "381:\tlearn: 0.0269206\ttotal: 290ms\tremaining: 469ms\n",
      "382:\tlearn: 0.0269025\ttotal: 291ms\tremaining: 469ms\n",
      "383:\tlearn: 0.0268442\ttotal: 291ms\tremaining: 467ms\n",
      "384:\tlearn: 0.0268106\ttotal: 292ms\tremaining: 466ms\n",
      "385:\tlearn: 0.0267691\ttotal: 292ms\tremaining: 465ms\n",
      "386:\tlearn: 0.0267184\ttotal: 292ms\tremaining: 463ms\n",
      "387:\tlearn: 0.0266877\ttotal: 293ms\tremaining: 461ms\n",
      "388:\tlearn: 0.0266561\ttotal: 293ms\tremaining: 460ms\n",
      "389:\tlearn: 0.0265705\ttotal: 293ms\tremaining: 458ms\n",
      "390:\tlearn: 0.0265304\ttotal: 294ms\tremaining: 457ms\n",
      "391:\tlearn: 0.0265063\ttotal: 294ms\tremaining: 456ms\n",
      "392:\tlearn: 0.0264765\ttotal: 294ms\tremaining: 454ms\n",
      "393:\tlearn: 0.0263977\ttotal: 294ms\tremaining: 453ms\n",
      "394:\tlearn: 0.0263404\ttotal: 295ms\tremaining: 451ms\n",
      "395:\tlearn: 0.0262929\ttotal: 295ms\tremaining: 450ms\n",
      "396:\tlearn: 0.0262393\ttotal: 295ms\tremaining: 449ms\n",
      "397:\tlearn: 0.0261871\ttotal: 296ms\tremaining: 447ms\n",
      "398:\tlearn: 0.0261537\ttotal: 296ms\tremaining: 446ms\n",
      "399:\tlearn: 0.0260997\ttotal: 298ms\tremaining: 446ms\n",
      "400:\tlearn: 0.0260529\ttotal: 298ms\tremaining: 445ms\n",
      "401:\tlearn: 0.0260018\ttotal: 298ms\tremaining: 444ms\n",
      "402:\tlearn: 0.0259801\ttotal: 298ms\tremaining: 442ms\n",
      "403:\tlearn: 0.0259532\ttotal: 299ms\tremaining: 441ms\n",
      "404:\tlearn: 0.0259019\ttotal: 299ms\tremaining: 439ms\n",
      "405:\tlearn: 0.0258452\ttotal: 299ms\tremaining: 438ms\n",
      "406:\tlearn: 0.0257659\ttotal: 300ms\tremaining: 437ms\n",
      "407:\tlearn: 0.0257414\ttotal: 300ms\tremaining: 435ms\n",
      "408:\tlearn: 0.0256627\ttotal: 300ms\tremaining: 434ms\n",
      "409:\tlearn: 0.0256095\ttotal: 300ms\tremaining: 432ms\n",
      "410:\tlearn: 0.0255892\ttotal: 301ms\tremaining: 431ms\n",
      "411:\tlearn: 0.0255708\ttotal: 301ms\tremaining: 430ms\n",
      "412:\tlearn: 0.0255381\ttotal: 301ms\tremaining: 428ms\n",
      "413:\tlearn: 0.0255026\ttotal: 302ms\tremaining: 427ms\n",
      "414:\tlearn: 0.0254822\ttotal: 303ms\tremaining: 426ms\n",
      "415:\tlearn: 0.0254225\ttotal: 303ms\tremaining: 425ms\n",
      "416:\tlearn: 0.0253884\ttotal: 303ms\tremaining: 424ms\n",
      "417:\tlearn: 0.0253140\ttotal: 303ms\tremaining: 423ms\n",
      "418:\tlearn: 0.0252669\ttotal: 304ms\tremaining: 421ms\n",
      "419:\tlearn: 0.0252186\ttotal: 305ms\tremaining: 421ms\n",
      "420:\tlearn: 0.0251865\ttotal: 305ms\tremaining: 420ms\n",
      "421:\tlearn: 0.0251690\ttotal: 305ms\tremaining: 418ms\n",
      "422:\tlearn: 0.0251343\ttotal: 306ms\tremaining: 417ms\n",
      "423:\tlearn: 0.0251128\ttotal: 306ms\tremaining: 416ms\n",
      "424:\tlearn: 0.0250912\ttotal: 306ms\tremaining: 415ms\n",
      "425:\tlearn: 0.0250174\ttotal: 307ms\tremaining: 414ms\n",
      "426:\tlearn: 0.0250014\ttotal: 308ms\tremaining: 413ms\n",
      "427:\tlearn: 0.0249582\ttotal: 308ms\tremaining: 412ms\n",
      "428:\tlearn: 0.0249113\ttotal: 309ms\tremaining: 411ms\n",
      "429:\tlearn: 0.0248436\ttotal: 309ms\tremaining: 410ms\n",
      "430:\tlearn: 0.0248268\ttotal: 311ms\tremaining: 410ms\n",
      "431:\tlearn: 0.0247825\ttotal: 312ms\tremaining: 410ms\n",
      "432:\tlearn: 0.0247398\ttotal: 312ms\tremaining: 409ms\n",
      "433:\tlearn: 0.0246981\ttotal: 312ms\tremaining: 407ms\n"
     ]
    },
    {
     "name": "stdout",
     "output_type": "stream",
     "text": [
      "434:\tlearn: 0.0246738\ttotal: 314ms\tremaining: 408ms\n",
      "435:\tlearn: 0.0246263\ttotal: 316ms\tremaining: 409ms\n",
      "436:\tlearn: 0.0245965\ttotal: 317ms\tremaining: 408ms\n",
      "437:\tlearn: 0.0245556\ttotal: 317ms\tremaining: 407ms\n",
      "438:\tlearn: 0.0245360\ttotal: 317ms\tremaining: 405ms\n",
      "439:\tlearn: 0.0245173\ttotal: 317ms\tremaining: 404ms\n",
      "440:\tlearn: 0.0244685\ttotal: 318ms\tremaining: 403ms\n",
      "441:\tlearn: 0.0244372\ttotal: 318ms\tremaining: 401ms\n",
      "442:\tlearn: 0.0243963\ttotal: 318ms\tremaining: 400ms\n",
      "443:\tlearn: 0.0243714\ttotal: 319ms\tremaining: 399ms\n",
      "444:\tlearn: 0.0243332\ttotal: 319ms\tremaining: 398ms\n",
      "445:\tlearn: 0.0242934\ttotal: 319ms\tremaining: 397ms\n",
      "446:\tlearn: 0.0242532\ttotal: 320ms\tremaining: 395ms\n",
      "447:\tlearn: 0.0242131\ttotal: 320ms\tremaining: 394ms\n",
      "448:\tlearn: 0.0241987\ttotal: 320ms\tremaining: 393ms\n",
      "449:\tlearn: 0.0241833\ttotal: 321ms\tremaining: 392ms\n",
      "450:\tlearn: 0.0241641\ttotal: 321ms\tremaining: 391ms\n",
      "451:\tlearn: 0.0241252\ttotal: 321ms\tremaining: 390ms\n",
      "452:\tlearn: 0.0241083\ttotal: 322ms\tremaining: 388ms\n",
      "453:\tlearn: 0.0240614\ttotal: 322ms\tremaining: 387ms\n",
      "454:\tlearn: 0.0240399\ttotal: 322ms\tremaining: 386ms\n",
      "455:\tlearn: 0.0240233\ttotal: 322ms\tremaining: 385ms\n",
      "456:\tlearn: 0.0239617\ttotal: 323ms\tremaining: 384ms\n",
      "457:\tlearn: 0.0239158\ttotal: 324ms\tremaining: 383ms\n",
      "458:\tlearn: 0.0239025\ttotal: 324ms\tremaining: 382ms\n",
      "459:\tlearn: 0.0238860\ttotal: 324ms\tremaining: 381ms\n",
      "460:\tlearn: 0.0238312\ttotal: 324ms\tremaining: 379ms\n",
      "461:\tlearn: 0.0237629\ttotal: 325ms\tremaining: 378ms\n",
      "462:\tlearn: 0.0237455\ttotal: 325ms\tremaining: 377ms\n",
      "463:\tlearn: 0.0237115\ttotal: 325ms\tremaining: 376ms\n",
      "464:\tlearn: 0.0236531\ttotal: 327ms\tremaining: 376ms\n",
      "465:\tlearn: 0.0236094\ttotal: 328ms\tremaining: 375ms\n",
      "466:\tlearn: 0.0235827\ttotal: 328ms\tremaining: 374ms\n",
      "467:\tlearn: 0.0235452\ttotal: 328ms\tremaining: 373ms\n",
      "468:\tlearn: 0.0234808\ttotal: 329ms\tremaining: 372ms\n",
      "469:\tlearn: 0.0234542\ttotal: 329ms\tremaining: 371ms\n",
      "470:\tlearn: 0.0234234\ttotal: 329ms\tremaining: 370ms\n",
      "471:\tlearn: 0.0233628\ttotal: 330ms\tremaining: 369ms\n",
      "472:\tlearn: 0.0233357\ttotal: 330ms\tremaining: 368ms\n",
      "473:\tlearn: 0.0232989\ttotal: 330ms\tremaining: 366ms\n",
      "474:\tlearn: 0.0232739\ttotal: 331ms\tremaining: 365ms\n",
      "475:\tlearn: 0.0232134\ttotal: 331ms\tremaining: 364ms\n",
      "476:\tlearn: 0.0231842\ttotal: 331ms\tremaining: 363ms\n",
      "477:\tlearn: 0.0231490\ttotal: 331ms\tremaining: 362ms\n",
      "478:\tlearn: 0.0231219\ttotal: 332ms\tremaining: 361ms\n",
      "479:\tlearn: 0.0230838\ttotal: 332ms\tremaining: 360ms\n",
      "480:\tlearn: 0.0230279\ttotal: 332ms\tremaining: 359ms\n",
      "481:\tlearn: 0.0230135\ttotal: 333ms\tremaining: 358ms\n",
      "482:\tlearn: 0.0229806\ttotal: 333ms\tremaining: 356ms\n",
      "483:\tlearn: 0.0229416\ttotal: 333ms\tremaining: 355ms\n",
      "484:\tlearn: 0.0229150\ttotal: 333ms\tremaining: 354ms\n",
      "485:\tlearn: 0.0228581\ttotal: 334ms\tremaining: 353ms\n",
      "486:\tlearn: 0.0228266\ttotal: 334ms\tremaining: 352ms\n",
      "487:\tlearn: 0.0227715\ttotal: 335ms\tremaining: 351ms\n",
      "488:\tlearn: 0.0227443\ttotal: 335ms\tremaining: 350ms\n",
      "489:\tlearn: 0.0226967\ttotal: 335ms\tremaining: 349ms\n",
      "490:\tlearn: 0.0226627\ttotal: 335ms\tremaining: 348ms\n",
      "491:\tlearn: 0.0226300\ttotal: 336ms\tremaining: 347ms\n",
      "492:\tlearn: 0.0225780\ttotal: 336ms\tremaining: 346ms\n",
      "493:\tlearn: 0.0225542\ttotal: 337ms\tremaining: 345ms\n",
      "494:\tlearn: 0.0225019\ttotal: 337ms\tremaining: 344ms\n",
      "495:\tlearn: 0.0224883\ttotal: 337ms\tremaining: 343ms\n",
      "496:\tlearn: 0.0224700\ttotal: 338ms\tremaining: 342ms\n",
      "497:\tlearn: 0.0224129\ttotal: 338ms\tremaining: 341ms\n",
      "498:\tlearn: 0.0223853\ttotal: 338ms\tremaining: 340ms\n",
      "499:\tlearn: 0.0223688\ttotal: 339ms\tremaining: 339ms\n",
      "500:\tlearn: 0.0223566\ttotal: 339ms\tremaining: 338ms\n",
      "501:\tlearn: 0.0223412\ttotal: 339ms\tremaining: 337ms\n",
      "502:\tlearn: 0.0223083\ttotal: 340ms\tremaining: 336ms\n",
      "503:\tlearn: 0.0222716\ttotal: 340ms\tremaining: 335ms\n",
      "504:\tlearn: 0.0222537\ttotal: 340ms\tremaining: 334ms\n",
      "505:\tlearn: 0.0222211\ttotal: 341ms\tremaining: 333ms\n",
      "506:\tlearn: 0.0222122\ttotal: 341ms\tremaining: 332ms\n",
      "507:\tlearn: 0.0221866\ttotal: 341ms\tremaining: 331ms\n",
      "508:\tlearn: 0.0221722\ttotal: 342ms\tremaining: 329ms\n",
      "509:\tlearn: 0.0221557\ttotal: 342ms\tremaining: 329ms\n",
      "510:\tlearn: 0.0220972\ttotal: 342ms\tremaining: 328ms\n",
      "511:\tlearn: 0.0220450\ttotal: 343ms\tremaining: 327ms\n",
      "512:\tlearn: 0.0220246\ttotal: 343ms\tremaining: 326ms\n",
      "513:\tlearn: 0.0219935\ttotal: 346ms\tremaining: 327ms\n",
      "514:\tlearn: 0.0219634\ttotal: 349ms\tremaining: 329ms\n",
      "515:\tlearn: 0.0219284\ttotal: 362ms\tremaining: 339ms\n",
      "516:\tlearn: 0.0219061\ttotal: 362ms\tremaining: 338ms\n",
      "517:\tlearn: 0.0218722\ttotal: 367ms\tremaining: 341ms\n",
      "518:\tlearn: 0.0218492\ttotal: 367ms\tremaining: 340ms\n",
      "519:\tlearn: 0.0218187\ttotal: 367ms\tremaining: 339ms\n",
      "520:\tlearn: 0.0217903\ttotal: 368ms\tremaining: 338ms\n",
      "521:\tlearn: 0.0217563\ttotal: 368ms\tremaining: 337ms\n",
      "522:\tlearn: 0.0217048\ttotal: 368ms\tremaining: 336ms\n",
      "523:\tlearn: 0.0216979\ttotal: 369ms\tremaining: 335ms\n",
      "524:\tlearn: 0.0216655\ttotal: 369ms\tremaining: 334ms\n",
      "525:\tlearn: 0.0216492\ttotal: 369ms\tremaining: 333ms\n",
      "526:\tlearn: 0.0216189\ttotal: 370ms\tremaining: 332ms\n",
      "527:\tlearn: 0.0215871\ttotal: 370ms\tremaining: 331ms\n",
      "528:\tlearn: 0.0215527\ttotal: 370ms\tremaining: 330ms\n",
      "529:\tlearn: 0.0215319\ttotal: 371ms\tremaining: 329ms\n",
      "530:\tlearn: 0.0215119\ttotal: 373ms\tremaining: 329ms\n",
      "531:\tlearn: 0.0214638\ttotal: 373ms\tremaining: 328ms\n",
      "532:\tlearn: 0.0214071\ttotal: 373ms\tremaining: 327ms\n",
      "533:\tlearn: 0.0213881\ttotal: 374ms\tremaining: 326ms\n",
      "534:\tlearn: 0.0213577\ttotal: 374ms\tremaining: 325ms\n",
      "535:\tlearn: 0.0213333\ttotal: 374ms\tremaining: 324ms\n",
      "536:\tlearn: 0.0213080\ttotal: 375ms\tremaining: 323ms\n",
      "537:\tlearn: 0.0212878\ttotal: 375ms\tremaining: 322ms\n",
      "538:\tlearn: 0.0212553\ttotal: 375ms\tremaining: 321ms\n",
      "539:\tlearn: 0.0212445\ttotal: 376ms\tremaining: 320ms\n",
      "540:\tlearn: 0.0212201\ttotal: 376ms\tremaining: 319ms\n",
      "541:\tlearn: 0.0211722\ttotal: 376ms\tremaining: 318ms\n",
      "542:\tlearn: 0.0211485\ttotal: 377ms\tremaining: 317ms\n",
      "543:\tlearn: 0.0211206\ttotal: 377ms\tremaining: 316ms\n",
      "544:\tlearn: 0.0210905\ttotal: 377ms\tremaining: 315ms\n",
      "545:\tlearn: 0.0210462\ttotal: 378ms\tremaining: 314ms\n",
      "546:\tlearn: 0.0210278\ttotal: 378ms\tremaining: 313ms\n",
      "547:\tlearn: 0.0209957\ttotal: 378ms\tremaining: 312ms\n",
      "548:\tlearn: 0.0209667\ttotal: 378ms\tremaining: 311ms\n",
      "549:\tlearn: 0.0209273\ttotal: 380ms\tremaining: 311ms\n",
      "550:\tlearn: 0.0208925\ttotal: 380ms\tremaining: 310ms\n",
      "551:\tlearn: 0.0208468\ttotal: 381ms\tremaining: 309ms\n",
      "552:\tlearn: 0.0208102\ttotal: 381ms\tremaining: 308ms\n",
      "553:\tlearn: 0.0207664\ttotal: 383ms\tremaining: 308ms\n",
      "554:\tlearn: 0.0207303\ttotal: 384ms\tremaining: 308ms\n",
      "555:\tlearn: 0.0206981\ttotal: 386ms\tremaining: 308ms\n",
      "556:\tlearn: 0.0206684\ttotal: 388ms\tremaining: 308ms\n",
      "557:\tlearn: 0.0206492\ttotal: 388ms\tremaining: 307ms\n",
      "558:\tlearn: 0.0206315\ttotal: 389ms\tremaining: 306ms\n",
      "559:\tlearn: 0.0206170\ttotal: 390ms\tremaining: 306ms\n",
      "560:\tlearn: 0.0206057\ttotal: 391ms\tremaining: 306ms\n",
      "561:\tlearn: 0.0205720\ttotal: 392ms\tremaining: 305ms\n",
      "562:\tlearn: 0.0205606\ttotal: 393ms\tremaining: 305ms\n",
      "563:\tlearn: 0.0205420\ttotal: 393ms\tremaining: 304ms\n",
      "564:\tlearn: 0.0205023\ttotal: 394ms\tremaining: 303ms\n",
      "565:\tlearn: 0.0204603\ttotal: 395ms\tremaining: 303ms\n",
      "566:\tlearn: 0.0204344\ttotal: 395ms\tremaining: 302ms\n",
      "567:\tlearn: 0.0204156\ttotal: 396ms\tremaining: 301ms\n"
     ]
    },
    {
     "name": "stdout",
     "output_type": "stream",
     "text": [
      "568:\tlearn: 0.0203888\ttotal: 397ms\tremaining: 301ms\n",
      "569:\tlearn: 0.0203615\ttotal: 397ms\tremaining: 300ms\n",
      "570:\tlearn: 0.0203216\ttotal: 398ms\tremaining: 299ms\n",
      "571:\tlearn: 0.0202952\ttotal: 401ms\tremaining: 300ms\n",
      "572:\tlearn: 0.0202832\ttotal: 402ms\tremaining: 299ms\n",
      "573:\tlearn: 0.0202420\ttotal: 402ms\tremaining: 298ms\n",
      "574:\tlearn: 0.0202102\ttotal: 402ms\tremaining: 297ms\n",
      "575:\tlearn: 0.0201934\ttotal: 403ms\tremaining: 297ms\n",
      "576:\tlearn: 0.0201637\ttotal: 403ms\tremaining: 296ms\n",
      "577:\tlearn: 0.0201426\ttotal: 404ms\tremaining: 295ms\n",
      "578:\tlearn: 0.0201287\ttotal: 404ms\tremaining: 294ms\n",
      "579:\tlearn: 0.0201034\ttotal: 404ms\tremaining: 293ms\n",
      "580:\tlearn: 0.0200870\ttotal: 405ms\tremaining: 292ms\n",
      "581:\tlearn: 0.0200713\ttotal: 405ms\tremaining: 291ms\n",
      "582:\tlearn: 0.0200348\ttotal: 406ms\tremaining: 290ms\n",
      "583:\tlearn: 0.0200108\ttotal: 406ms\tremaining: 289ms\n",
      "584:\tlearn: 0.0199896\ttotal: 406ms\tremaining: 288ms\n",
      "585:\tlearn: 0.0199639\ttotal: 406ms\tremaining: 287ms\n",
      "586:\tlearn: 0.0199478\ttotal: 407ms\tremaining: 286ms\n",
      "587:\tlearn: 0.0199101\ttotal: 407ms\tremaining: 285ms\n",
      "588:\tlearn: 0.0198797\ttotal: 407ms\tremaining: 284ms\n",
      "589:\tlearn: 0.0198540\ttotal: 407ms\tremaining: 283ms\n",
      "590:\tlearn: 0.0198493\ttotal: 408ms\tremaining: 282ms\n",
      "591:\tlearn: 0.0198255\ttotal: 408ms\tremaining: 281ms\n",
      "592:\tlearn: 0.0198063\ttotal: 409ms\tremaining: 280ms\n",
      "593:\tlearn: 0.0197913\ttotal: 409ms\tremaining: 279ms\n",
      "594:\tlearn: 0.0197811\ttotal: 409ms\tremaining: 278ms\n",
      "595:\tlearn: 0.0197589\ttotal: 409ms\tremaining: 277ms\n",
      "596:\tlearn: 0.0197504\ttotal: 410ms\tremaining: 277ms\n",
      "597:\tlearn: 0.0197322\ttotal: 411ms\tremaining: 276ms\n",
      "598:\tlearn: 0.0197247\ttotal: 411ms\tremaining: 275ms\n",
      "599:\tlearn: 0.0196847\ttotal: 411ms\tremaining: 274ms\n",
      "600:\tlearn: 0.0196695\ttotal: 412ms\tremaining: 273ms\n",
      "601:\tlearn: 0.0196444\ttotal: 412ms\tremaining: 272ms\n",
      "602:\tlearn: 0.0196350\ttotal: 412ms\tremaining: 271ms\n",
      "603:\tlearn: 0.0196129\ttotal: 413ms\tremaining: 270ms\n",
      "604:\tlearn: 0.0195958\ttotal: 413ms\tremaining: 270ms\n",
      "605:\tlearn: 0.0195544\ttotal: 413ms\tremaining: 269ms\n",
      "606:\tlearn: 0.0195209\ttotal: 413ms\tremaining: 268ms\n",
      "607:\tlearn: 0.0195103\ttotal: 414ms\tremaining: 267ms\n",
      "608:\tlearn: 0.0194777\ttotal: 414ms\tremaining: 266ms\n",
      "609:\tlearn: 0.0194549\ttotal: 414ms\tremaining: 265ms\n",
      "610:\tlearn: 0.0194331\ttotal: 414ms\tremaining: 264ms\n",
      "611:\tlearn: 0.0194087\ttotal: 415ms\tremaining: 263ms\n",
      "612:\tlearn: 0.0193948\ttotal: 415ms\tremaining: 262ms\n",
      "613:\tlearn: 0.0193838\ttotal: 415ms\tremaining: 261ms\n",
      "614:\tlearn: 0.0193602\ttotal: 416ms\tremaining: 260ms\n",
      "615:\tlearn: 0.0193288\ttotal: 417ms\tremaining: 260ms\n"
     ]
    },
    {
     "name": "stdout",
     "output_type": "stream",
     "text": [
      "616:\tlearn: 0.0193129\ttotal: 421ms\tremaining: 261ms\n",
      "617:\tlearn: 0.0193041\ttotal: 423ms\tremaining: 262ms\n",
      "618:\tlearn: 0.0192792\ttotal: 424ms\tremaining: 261ms\n",
      "619:\tlearn: 0.0192584\ttotal: 425ms\tremaining: 261ms\n",
      "620:\tlearn: 0.0192511\ttotal: 426ms\tremaining: 260ms\n",
      "621:\tlearn: 0.0192416\ttotal: 426ms\tremaining: 259ms\n",
      "622:\tlearn: 0.0192067\ttotal: 427ms\tremaining: 258ms\n",
      "623:\tlearn: 0.0191875\ttotal: 428ms\tremaining: 258ms\n",
      "624:\tlearn: 0.0191689\ttotal: 429ms\tremaining: 258ms\n",
      "625:\tlearn: 0.0191482\ttotal: 430ms\tremaining: 257ms\n",
      "626:\tlearn: 0.0191389\ttotal: 432ms\tremaining: 257ms\n",
      "627:\tlearn: 0.0191147\ttotal: 434ms\tremaining: 257ms\n",
      "628:\tlearn: 0.0191051\ttotal: 435ms\tremaining: 257ms\n",
      "629:\tlearn: 0.0190855\ttotal: 436ms\tremaining: 256ms\n",
      "630:\tlearn: 0.0190616\ttotal: 437ms\tremaining: 256ms\n",
      "631:\tlearn: 0.0190256\ttotal: 438ms\tremaining: 255ms\n",
      "632:\tlearn: 0.0189862\ttotal: 439ms\tremaining: 254ms\n",
      "633:\tlearn: 0.0189554\ttotal: 440ms\tremaining: 254ms\n",
      "634:\tlearn: 0.0189257\ttotal: 440ms\tremaining: 253ms\n",
      "635:\tlearn: 0.0189065\ttotal: 440ms\tremaining: 252ms\n",
      "636:\tlearn: 0.0188889\ttotal: 441ms\tremaining: 251ms\n",
      "637:\tlearn: 0.0188641\ttotal: 441ms\tremaining: 250ms\n",
      "638:\tlearn: 0.0188576\ttotal: 442ms\tremaining: 250ms\n",
      "639:\tlearn: 0.0188439\ttotal: 442ms\tremaining: 249ms\n",
      "640:\tlearn: 0.0188308\ttotal: 442ms\tremaining: 248ms\n",
      "641:\tlearn: 0.0188221\ttotal: 443ms\tremaining: 247ms\n",
      "642:\tlearn: 0.0188098\ttotal: 444ms\tremaining: 247ms\n",
      "643:\tlearn: 0.0187819\ttotal: 445ms\tremaining: 246ms\n",
      "644:\tlearn: 0.0187731\ttotal: 445ms\tremaining: 245ms\n",
      "645:\tlearn: 0.0187598\ttotal: 446ms\tremaining: 244ms\n",
      "646:\tlearn: 0.0187269\ttotal: 446ms\tremaining: 243ms\n",
      "647:\tlearn: 0.0186965\ttotal: 446ms\tremaining: 242ms\n",
      "648:\tlearn: 0.0186804\ttotal: 447ms\tremaining: 242ms\n",
      "649:\tlearn: 0.0186631\ttotal: 447ms\tremaining: 241ms\n",
      "650:\tlearn: 0.0186555\ttotal: 448ms\tremaining: 240ms\n",
      "651:\tlearn: 0.0186503\ttotal: 448ms\tremaining: 239ms\n",
      "652:\tlearn: 0.0186352\ttotal: 449ms\tremaining: 238ms\n",
      "653:\tlearn: 0.0186218\ttotal: 449ms\tremaining: 238ms\n",
      "654:\tlearn: 0.0185977\ttotal: 450ms\tremaining: 237ms\n",
      "655:\tlearn: 0.0185898\ttotal: 450ms\tremaining: 236ms\n",
      "656:\tlearn: 0.0185663\ttotal: 451ms\tremaining: 235ms\n",
      "657:\tlearn: 0.0185540\ttotal: 451ms\tremaining: 235ms\n",
      "658:\tlearn: 0.0185316\ttotal: 452ms\tremaining: 234ms\n",
      "659:\tlearn: 0.0185263\ttotal: 452ms\tremaining: 233ms\n",
      "660:\tlearn: 0.0185115\ttotal: 453ms\tremaining: 232ms\n",
      "661:\tlearn: 0.0185073\ttotal: 453ms\tremaining: 231ms\n",
      "662:\tlearn: 0.0184806\ttotal: 453ms\tremaining: 230ms\n",
      "663:\tlearn: 0.0184680\ttotal: 454ms\tremaining: 230ms\n",
      "664:\tlearn: 0.0184552\ttotal: 454ms\tremaining: 229ms\n",
      "665:\tlearn: 0.0184265\ttotal: 455ms\tremaining: 228ms\n",
      "666:\tlearn: 0.0184006\ttotal: 456ms\tremaining: 227ms\n",
      "667:\tlearn: 0.0183886\ttotal: 456ms\tremaining: 227ms\n",
      "668:\tlearn: 0.0183772\ttotal: 457ms\tremaining: 226ms\n"
     ]
    },
    {
     "name": "stdout",
     "output_type": "stream",
     "text": [
      "669:\tlearn: 0.0183651\ttotal: 458ms\tremaining: 226ms\n",
      "670:\tlearn: 0.0183361\ttotal: 460ms\tremaining: 226ms\n",
      "671:\tlearn: 0.0183249\ttotal: 461ms\tremaining: 225ms\n",
      "672:\tlearn: 0.0183040\ttotal: 461ms\tremaining: 224ms\n",
      "673:\tlearn: 0.0182932\ttotal: 462ms\tremaining: 223ms\n",
      "674:\tlearn: 0.0182732\ttotal: 462ms\tremaining: 223ms\n",
      "675:\tlearn: 0.0182609\ttotal: 464ms\tremaining: 222ms\n",
      "676:\tlearn: 0.0182303\ttotal: 465ms\tremaining: 222ms\n",
      "677:\tlearn: 0.0182198\ttotal: 465ms\tremaining: 221ms\n",
      "678:\tlearn: 0.0182009\ttotal: 466ms\tremaining: 220ms\n",
      "679:\tlearn: 0.0181938\ttotal: 467ms\tremaining: 220ms\n",
      "680:\tlearn: 0.0181801\ttotal: 468ms\tremaining: 219ms\n",
      "681:\tlearn: 0.0181657\ttotal: 470ms\tremaining: 219ms\n",
      "682:\tlearn: 0.0181462\ttotal: 470ms\tremaining: 218ms\n",
      "683:\tlearn: 0.0181249\ttotal: 472ms\tremaining: 218ms\n",
      "684:\tlearn: 0.0181210\ttotal: 472ms\tremaining: 217ms\n",
      "685:\tlearn: 0.0180982\ttotal: 473ms\tremaining: 217ms\n",
      "686:\tlearn: 0.0180820\ttotal: 474ms\tremaining: 216ms\n",
      "687:\tlearn: 0.0180642\ttotal: 474ms\tremaining: 215ms\n",
      "688:\tlearn: 0.0180538\ttotal: 475ms\tremaining: 214ms\n",
      "689:\tlearn: 0.0180419\ttotal: 476ms\tremaining: 214ms\n",
      "690:\tlearn: 0.0180300\ttotal: 476ms\tremaining: 213ms\n",
      "691:\tlearn: 0.0180244\ttotal: 476ms\tremaining: 212ms\n",
      "692:\tlearn: 0.0180067\ttotal: 476ms\tremaining: 211ms\n",
      "693:\tlearn: 0.0180022\ttotal: 477ms\tremaining: 210ms\n",
      "694:\tlearn: 0.0179852\ttotal: 477ms\tremaining: 210ms\n",
      "695:\tlearn: 0.0179718\ttotal: 478ms\tremaining: 209ms\n",
      "696:\tlearn: 0.0179659\ttotal: 478ms\tremaining: 208ms\n",
      "697:\tlearn: 0.0179601\ttotal: 479ms\tremaining: 207ms\n",
      "698:\tlearn: 0.0179347\ttotal: 479ms\tremaining: 206ms\n",
      "699:\tlearn: 0.0179108\ttotal: 480ms\tremaining: 206ms\n",
      "700:\tlearn: 0.0179031\ttotal: 481ms\tremaining: 205ms\n",
      "701:\tlearn: 0.0178763\ttotal: 482ms\tremaining: 204ms\n",
      "702:\tlearn: 0.0178480\ttotal: 482ms\tremaining: 204ms\n",
      "703:\tlearn: 0.0178222\ttotal: 482ms\tremaining: 203ms\n",
      "704:\tlearn: 0.0178081\ttotal: 482ms\tremaining: 202ms\n",
      "705:\tlearn: 0.0177855\ttotal: 483ms\tremaining: 201ms\n",
      "706:\tlearn: 0.0177702\ttotal: 483ms\tremaining: 200ms\n",
      "707:\tlearn: 0.0177493\ttotal: 483ms\tremaining: 199ms\n",
      "708:\tlearn: 0.0177286\ttotal: 484ms\tremaining: 199ms\n",
      "709:\tlearn: 0.0177179\ttotal: 485ms\tremaining: 198ms\n",
      "710:\tlearn: 0.0177097\ttotal: 485ms\tremaining: 197ms\n",
      "711:\tlearn: 0.0177025\ttotal: 486ms\tremaining: 196ms\n",
      "712:\tlearn: 0.0176765\ttotal: 486ms\tremaining: 196ms\n",
      "713:\tlearn: 0.0176537\ttotal: 487ms\tremaining: 195ms\n",
      "714:\tlearn: 0.0176366\ttotal: 487ms\tremaining: 194ms\n",
      "715:\tlearn: 0.0176195\ttotal: 488ms\tremaining: 193ms\n",
      "716:\tlearn: 0.0175915\ttotal: 488ms\tremaining: 193ms\n",
      "717:\tlearn: 0.0175692\ttotal: 489ms\tremaining: 192ms\n",
      "718:\tlearn: 0.0175628\ttotal: 489ms\tremaining: 191ms\n",
      "719:\tlearn: 0.0175448\ttotal: 489ms\tremaining: 190ms\n",
      "720:\tlearn: 0.0175391\ttotal: 490ms\tremaining: 190ms\n",
      "721:\tlearn: 0.0175234\ttotal: 490ms\tremaining: 189ms\n",
      "722:\tlearn: 0.0174963\ttotal: 491ms\tremaining: 188ms\n",
      "723:\tlearn: 0.0174854\ttotal: 492ms\tremaining: 187ms\n",
      "724:\tlearn: 0.0174749\ttotal: 493ms\tremaining: 187ms\n",
      "725:\tlearn: 0.0174542\ttotal: 494ms\tremaining: 186ms\n",
      "726:\tlearn: 0.0174381\ttotal: 494ms\tremaining: 185ms\n",
      "727:\tlearn: 0.0174066\ttotal: 494ms\tremaining: 185ms\n",
      "728:\tlearn: 0.0173906\ttotal: 495ms\tremaining: 184ms\n",
      "729:\tlearn: 0.0173837\ttotal: 495ms\tremaining: 183ms\n",
      "730:\tlearn: 0.0173697\ttotal: 496ms\tremaining: 183ms\n",
      "731:\tlearn: 0.0173507\ttotal: 496ms\tremaining: 182ms\n",
      "732:\tlearn: 0.0173427\ttotal: 497ms\tremaining: 181ms\n",
      "733:\tlearn: 0.0173301\ttotal: 497ms\tremaining: 180ms\n",
      "734:\tlearn: 0.0173114\ttotal: 498ms\tremaining: 180ms\n",
      "735:\tlearn: 0.0173053\ttotal: 498ms\tremaining: 179ms\n",
      "736:\tlearn: 0.0172870\ttotal: 499ms\tremaining: 178ms\n",
      "737:\tlearn: 0.0172732\ttotal: 499ms\tremaining: 177ms\n",
      "738:\tlearn: 0.0172539\ttotal: 499ms\tremaining: 176ms\n",
      "739:\tlearn: 0.0172484\ttotal: 499ms\tremaining: 175ms\n",
      "740:\tlearn: 0.0172288\ttotal: 500ms\tremaining: 175ms\n",
      "741:\tlearn: 0.0172033\ttotal: 501ms\tremaining: 174ms\n",
      "742:\tlearn: 0.0171980\ttotal: 501ms\tremaining: 173ms\n",
      "743:\tlearn: 0.0171928\ttotal: 501ms\tremaining: 173ms\n",
      "744:\tlearn: 0.0171866\ttotal: 502ms\tremaining: 172ms\n",
      "745:\tlearn: 0.0171709\ttotal: 502ms\tremaining: 171ms\n",
      "746:\tlearn: 0.0171612\ttotal: 502ms\tremaining: 170ms\n",
      "747:\tlearn: 0.0171404\ttotal: 503ms\tremaining: 169ms\n",
      "748:\tlearn: 0.0171194\ttotal: 503ms\tremaining: 168ms\n",
      "749:\tlearn: 0.0170884\ttotal: 503ms\tremaining: 168ms\n",
      "750:\tlearn: 0.0170733\ttotal: 503ms\tremaining: 167ms\n",
      "751:\tlearn: 0.0170662\ttotal: 504ms\tremaining: 166ms\n",
      "752:\tlearn: 0.0170496\ttotal: 505ms\tremaining: 166ms\n",
      "753:\tlearn: 0.0170332\ttotal: 505ms\tremaining: 165ms\n",
      "754:\tlearn: 0.0170002\ttotal: 506ms\tremaining: 164ms\n",
      "755:\tlearn: 0.0169767\ttotal: 507ms\tremaining: 164ms\n",
      "756:\tlearn: 0.0169641\ttotal: 507ms\tremaining: 163ms\n",
      "757:\tlearn: 0.0169456\ttotal: 507ms\tremaining: 162ms\n",
      "758:\tlearn: 0.0169268\ttotal: 508ms\tremaining: 161ms\n",
      "759:\tlearn: 0.0169207\ttotal: 508ms\tremaining: 160ms\n",
      "760:\tlearn: 0.0169040\ttotal: 508ms\tremaining: 160ms\n",
      "761:\tlearn: 0.0168959\ttotal: 509ms\tremaining: 159ms\n",
      "762:\tlearn: 0.0168698\ttotal: 509ms\tremaining: 158ms\n",
      "763:\tlearn: 0.0168614\ttotal: 509ms\tremaining: 157ms\n",
      "764:\tlearn: 0.0168556\ttotal: 510ms\tremaining: 157ms\n",
      "765:\tlearn: 0.0168448\ttotal: 510ms\tremaining: 156ms\n",
      "766:\tlearn: 0.0168337\ttotal: 510ms\tremaining: 155ms\n",
      "767:\tlearn: 0.0168257\ttotal: 511ms\tremaining: 154ms\n",
      "768:\tlearn: 0.0168099\ttotal: 511ms\tremaining: 154ms\n",
      "769:\tlearn: 0.0168015\ttotal: 511ms\tremaining: 153ms\n",
      "770:\tlearn: 0.0167831\ttotal: 512ms\tremaining: 152ms\n",
      "771:\tlearn: 0.0167803\ttotal: 512ms\tremaining: 151ms\n",
      "772:\tlearn: 0.0167725\ttotal: 513ms\tremaining: 151ms\n",
      "773:\tlearn: 0.0167568\ttotal: 513ms\tremaining: 150ms\n",
      "774:\tlearn: 0.0167470\ttotal: 514ms\tremaining: 149ms\n",
      "775:\tlearn: 0.0167354\ttotal: 514ms\tremaining: 148ms\n",
      "776:\tlearn: 0.0167281\ttotal: 515ms\tremaining: 148ms\n",
      "777:\tlearn: 0.0167173\ttotal: 516ms\tremaining: 147ms\n",
      "778:\tlearn: 0.0166989\ttotal: 516ms\tremaining: 146ms\n",
      "779:\tlearn: 0.0166748\ttotal: 517ms\tremaining: 146ms\n",
      "780:\tlearn: 0.0166618\ttotal: 517ms\tremaining: 145ms\n",
      "781:\tlearn: 0.0166390\ttotal: 517ms\tremaining: 144ms\n",
      "782:\tlearn: 0.0166132\ttotal: 518ms\tremaining: 144ms\n",
      "783:\tlearn: 0.0165865\ttotal: 518ms\tremaining: 143ms\n",
      "784:\tlearn: 0.0165659\ttotal: 519ms\tremaining: 142ms\n",
      "785:\tlearn: 0.0165506\ttotal: 519ms\tremaining: 141ms\n",
      "786:\tlearn: 0.0165369\ttotal: 520ms\tremaining: 141ms\n",
      "787:\tlearn: 0.0165141\ttotal: 520ms\tremaining: 140ms\n",
      "788:\tlearn: 0.0165010\ttotal: 521ms\tremaining: 139ms\n",
      "789:\tlearn: 0.0164826\ttotal: 521ms\tremaining: 139ms\n",
      "790:\tlearn: 0.0164652\ttotal: 522ms\tremaining: 138ms\n",
      "791:\tlearn: 0.0164608\ttotal: 522ms\tremaining: 137ms\n",
      "792:\tlearn: 0.0164311\ttotal: 522ms\tremaining: 136ms\n",
      "793:\tlearn: 0.0163774\ttotal: 522ms\tremaining: 136ms\n",
      "794:\tlearn: 0.0163570\ttotal: 523ms\tremaining: 135ms\n",
      "795:\tlearn: 0.0163514\ttotal: 524ms\tremaining: 134ms\n",
      "796:\tlearn: 0.0163409\ttotal: 524ms\tremaining: 133ms\n",
      "797:\tlearn: 0.0163208\ttotal: 525ms\tremaining: 133ms\n",
      "798:\tlearn: 0.0163166\ttotal: 525ms\tremaining: 132ms\n",
      "799:\tlearn: 0.0163045\ttotal: 526ms\tremaining: 131ms\n",
      "800:\tlearn: 0.0162798\ttotal: 526ms\tremaining: 131ms\n",
      "801:\tlearn: 0.0162499\ttotal: 527ms\tremaining: 130ms\n",
      "802:\tlearn: 0.0162369\ttotal: 527ms\tremaining: 129ms\n",
      "803:\tlearn: 0.0162280\ttotal: 528ms\tremaining: 129ms\n",
      "804:\tlearn: 0.0162197\ttotal: 529ms\tremaining: 128ms\n",
      "805:\tlearn: 0.0162159\ttotal: 529ms\tremaining: 127ms\n",
      "806:\tlearn: 0.0162049\ttotal: 530ms\tremaining: 127ms\n",
      "807:\tlearn: 0.0161838\ttotal: 530ms\tremaining: 126ms\n",
      "808:\tlearn: 0.0161682\ttotal: 531ms\tremaining: 125ms\n",
      "809:\tlearn: 0.0161473\ttotal: 531ms\tremaining: 125ms\n",
      "810:\tlearn: 0.0161333\ttotal: 532ms\tremaining: 124ms\n",
      "811:\tlearn: 0.0161052\ttotal: 533ms\tremaining: 123ms\n",
      "812:\tlearn: 0.0160804\ttotal: 534ms\tremaining: 123ms\n",
      "813:\tlearn: 0.0160609\ttotal: 535ms\tremaining: 122ms\n",
      "814:\tlearn: 0.0160415\ttotal: 535ms\tremaining: 121ms\n",
      "815:\tlearn: 0.0160184\ttotal: 536ms\tremaining: 121ms\n",
      "816:\tlearn: 0.0160029\ttotal: 536ms\tremaining: 120ms\n",
      "817:\tlearn: 0.0159940\ttotal: 537ms\tremaining: 119ms\n",
      "818:\tlearn: 0.0159717\ttotal: 537ms\tremaining: 119ms\n",
      "819:\tlearn: 0.0159590\ttotal: 540ms\tremaining: 119ms\n",
      "820:\tlearn: 0.0159504\ttotal: 541ms\tremaining: 118ms\n",
      "821:\tlearn: 0.0159430\ttotal: 542ms\tremaining: 117ms\n",
      "822:\tlearn: 0.0159211\ttotal: 542ms\tremaining: 117ms\n",
      "823:\tlearn: 0.0159175\ttotal: 543ms\tremaining: 116ms\n",
      "824:\tlearn: 0.0158945\ttotal: 543ms\tremaining: 115ms\n",
      "825:\tlearn: 0.0158768\ttotal: 543ms\tremaining: 114ms\n"
     ]
    },
    {
     "name": "stdout",
     "output_type": "stream",
     "text": [
      "826:\tlearn: 0.0158645\ttotal: 543ms\tremaining: 114ms\n",
      "827:\tlearn: 0.0158456\ttotal: 544ms\tremaining: 113ms\n",
      "828:\tlearn: 0.0158270\ttotal: 544ms\tremaining: 112ms\n",
      "829:\tlearn: 0.0158173\ttotal: 544ms\tremaining: 111ms\n",
      "830:\tlearn: 0.0158070\ttotal: 547ms\tremaining: 111ms\n",
      "831:\tlearn: 0.0157895\ttotal: 547ms\tremaining: 111ms\n",
      "832:\tlearn: 0.0157738\ttotal: 548ms\tremaining: 110ms\n",
      "833:\tlearn: 0.0157639\ttotal: 548ms\tremaining: 109ms\n",
      "834:\tlearn: 0.0157491\ttotal: 548ms\tremaining: 108ms\n",
      "835:\tlearn: 0.0157390\ttotal: 548ms\tremaining: 108ms\n",
      "836:\tlearn: 0.0157240\ttotal: 549ms\tremaining: 107ms\n",
      "837:\tlearn: 0.0157101\ttotal: 549ms\tremaining: 106ms\n",
      "838:\tlearn: 0.0157053\ttotal: 552ms\tremaining: 106ms\n",
      "839:\tlearn: 0.0156783\ttotal: 552ms\tremaining: 105ms\n",
      "840:\tlearn: 0.0156736\ttotal: 552ms\tremaining: 104ms\n",
      "841:\tlearn: 0.0156594\ttotal: 553ms\tremaining: 104ms\n",
      "842:\tlearn: 0.0156544\ttotal: 553ms\tremaining: 103ms\n",
      "843:\tlearn: 0.0156402\ttotal: 553ms\tremaining: 102ms\n",
      "844:\tlearn: 0.0156227\ttotal: 554ms\tremaining: 102ms\n",
      "845:\tlearn: 0.0156131\ttotal: 556ms\tremaining: 101ms\n",
      "846:\tlearn: 0.0155987\ttotal: 558ms\tremaining: 101ms\n",
      "847:\tlearn: 0.0155894\ttotal: 559ms\tremaining: 100ms\n",
      "848:\tlearn: 0.0155839\ttotal: 560ms\tremaining: 99.5ms\n",
      "849:\tlearn: 0.0155748\ttotal: 560ms\tremaining: 98.8ms\n",
      "850:\tlearn: 0.0155638\ttotal: 561ms\tremaining: 98.1ms\n",
      "851:\tlearn: 0.0155379\ttotal: 561ms\tremaining: 97.4ms\n",
      "852:\tlearn: 0.0155157\ttotal: 561ms\tremaining: 96.7ms\n",
      "853:\tlearn: 0.0154968\ttotal: 561ms\tremaining: 96ms\n",
      "854:\tlearn: 0.0154602\ttotal: 562ms\tremaining: 95.4ms\n",
      "855:\tlearn: 0.0154341\ttotal: 563ms\tremaining: 94.7ms\n",
      "856:\tlearn: 0.0154114\ttotal: 563ms\tremaining: 93.9ms\n",
      "857:\tlearn: 0.0154030\ttotal: 563ms\tremaining: 93.2ms\n",
      "858:\tlearn: 0.0153969\ttotal: 564ms\tremaining: 92.5ms\n",
      "859:\tlearn: 0.0153944\ttotal: 564ms\tremaining: 91.9ms\n",
      "860:\tlearn: 0.0153878\ttotal: 565ms\tremaining: 91.2ms\n",
      "861:\tlearn: 0.0153696\ttotal: 566ms\tremaining: 90.6ms\n",
      "862:\tlearn: 0.0153492\ttotal: 566ms\tremaining: 89.9ms\n",
      "863:\tlearn: 0.0153352\ttotal: 567ms\tremaining: 89.2ms\n",
      "864:\tlearn: 0.0153171\ttotal: 567ms\tremaining: 88.6ms\n"
     ]
    },
    {
     "name": "stdout",
     "output_type": "stream",
     "text": [
      "865:\tlearn: 0.0153115\ttotal: 568ms\tremaining: 87.9ms\n",
      "866:\tlearn: 0.0152991\ttotal: 569ms\tremaining: 87.2ms\n",
      "867:\tlearn: 0.0152848\ttotal: 569ms\tremaining: 86.5ms\n",
      "868:\tlearn: 0.0152780\ttotal: 569ms\tremaining: 85.8ms\n",
      "869:\tlearn: 0.0152747\ttotal: 571ms\tremaining: 85.3ms\n",
      "870:\tlearn: 0.0152589\ttotal: 572ms\tremaining: 84.7ms\n",
      "871:\tlearn: 0.0152404\ttotal: 572ms\tremaining: 84ms\n",
      "872:\tlearn: 0.0152340\ttotal: 573ms\tremaining: 83.3ms\n",
      "873:\tlearn: 0.0152288\ttotal: 578ms\tremaining: 83.4ms\n",
      "874:\tlearn: 0.0152191\ttotal: 579ms\tremaining: 82.7ms\n",
      "875:\tlearn: 0.0152078\ttotal: 579ms\tremaining: 81.9ms\n",
      "876:\tlearn: 0.0151912\ttotal: 579ms\tremaining: 81.2ms\n",
      "877:\tlearn: 0.0151718\ttotal: 579ms\tremaining: 80.5ms\n",
      "878:\tlearn: 0.0151546\ttotal: 581ms\tremaining: 80ms\n",
      "879:\tlearn: 0.0151307\ttotal: 582ms\tremaining: 79.4ms\n",
      "880:\tlearn: 0.0151254\ttotal: 583ms\tremaining: 78.7ms\n",
      "881:\tlearn: 0.0151016\ttotal: 583ms\tremaining: 78ms\n",
      "882:\tlearn: 0.0150960\ttotal: 584ms\tremaining: 77.4ms\n",
      "883:\tlearn: 0.0150775\ttotal: 585ms\tremaining: 76.7ms\n",
      "884:\tlearn: 0.0150665\ttotal: 585ms\tremaining: 76ms\n",
      "885:\tlearn: 0.0150569\ttotal: 586ms\tremaining: 75.4ms\n",
      "886:\tlearn: 0.0150450\ttotal: 586ms\tremaining: 74.7ms\n",
      "887:\tlearn: 0.0150251\ttotal: 587ms\tremaining: 74ms\n",
      "888:\tlearn: 0.0150209\ttotal: 587ms\tremaining: 73.3ms\n",
      "889:\tlearn: 0.0150083\ttotal: 588ms\tremaining: 72.6ms\n",
      "890:\tlearn: 0.0150013\ttotal: 588ms\tremaining: 72ms\n",
      "891:\tlearn: 0.0149865\ttotal: 589ms\tremaining: 71.3ms\n",
      "892:\tlearn: 0.0149739\ttotal: 589ms\tremaining: 70.6ms\n",
      "893:\tlearn: 0.0149608\ttotal: 589ms\tremaining: 69.9ms\n",
      "894:\tlearn: 0.0149583\ttotal: 590ms\tremaining: 69.2ms\n",
      "895:\tlearn: 0.0149438\ttotal: 590ms\tremaining: 68.5ms\n",
      "896:\tlearn: 0.0149367\ttotal: 594ms\tremaining: 68.2ms\n",
      "897:\tlearn: 0.0149171\ttotal: 594ms\tremaining: 67.5ms\n",
      "898:\tlearn: 0.0149031\ttotal: 595ms\tremaining: 66.8ms\n",
      "899:\tlearn: 0.0148929\ttotal: 595ms\tremaining: 66.1ms\n",
      "900:\tlearn: 0.0148897\ttotal: 596ms\tremaining: 65.4ms\n",
      "901:\tlearn: 0.0148866\ttotal: 596ms\tremaining: 64.8ms\n",
      "902:\tlearn: 0.0148815\ttotal: 597ms\tremaining: 64.1ms\n",
      "903:\tlearn: 0.0148769\ttotal: 597ms\tremaining: 63.4ms\n",
      "904:\tlearn: 0.0148429\ttotal: 597ms\tremaining: 62.7ms\n",
      "905:\tlearn: 0.0148359\ttotal: 598ms\tremaining: 62.1ms\n",
      "906:\tlearn: 0.0148177\ttotal: 599ms\tremaining: 61.5ms\n"
     ]
    },
    {
     "name": "stdout",
     "output_type": "stream",
     "text": [
      "907:\tlearn: 0.0148110\ttotal: 600ms\tremaining: 60.8ms\n",
      "908:\tlearn: 0.0147978\ttotal: 601ms\tremaining: 60.2ms\n",
      "909:\tlearn: 0.0147848\ttotal: 601ms\tremaining: 59.5ms\n",
      "910:\tlearn: 0.0147654\ttotal: 602ms\tremaining: 58.8ms\n",
      "911:\tlearn: 0.0147568\ttotal: 602ms\tremaining: 58.1ms\n",
      "912:\tlearn: 0.0147390\ttotal: 603ms\tremaining: 57.4ms\n",
      "913:\tlearn: 0.0147316\ttotal: 603ms\tremaining: 56.7ms\n",
      "914:\tlearn: 0.0147139\ttotal: 603ms\tremaining: 56.1ms\n",
      "915:\tlearn: 0.0147094\ttotal: 604ms\tremaining: 55.4ms\n",
      "916:\tlearn: 0.0147039\ttotal: 605ms\tremaining: 54.7ms\n",
      "917:\tlearn: 0.0146892\ttotal: 606ms\tremaining: 54.1ms\n",
      "918:\tlearn: 0.0146800\ttotal: 606ms\tremaining: 53.4ms\n",
      "919:\tlearn: 0.0146701\ttotal: 607ms\tremaining: 52.8ms\n",
      "920:\tlearn: 0.0146599\ttotal: 607ms\tremaining: 52.1ms\n",
      "921:\tlearn: 0.0146373\ttotal: 607ms\tremaining: 51.4ms\n",
      "922:\tlearn: 0.0146306\ttotal: 608ms\tremaining: 50.7ms\n",
      "923:\tlearn: 0.0146054\ttotal: 608ms\tremaining: 50ms\n",
      "924:\tlearn: 0.0145927\ttotal: 608ms\tremaining: 49.3ms\n",
      "925:\tlearn: 0.0145647\ttotal: 608ms\tremaining: 48.6ms\n",
      "926:\tlearn: 0.0145478\ttotal: 612ms\tremaining: 48.2ms\n",
      "927:\tlearn: 0.0145392\ttotal: 613ms\tremaining: 47.5ms\n",
      "928:\tlearn: 0.0145243\ttotal: 613ms\tremaining: 46.9ms\n",
      "929:\tlearn: 0.0145204\ttotal: 613ms\tremaining: 46.2ms\n",
      "930:\tlearn: 0.0145121\ttotal: 614ms\tremaining: 45.5ms\n",
      "931:\tlearn: 0.0145021\ttotal: 614ms\tremaining: 44.8ms\n",
      "932:\tlearn: 0.0144926\ttotal: 615ms\tremaining: 44.2ms\n",
      "933:\tlearn: 0.0144830\ttotal: 616ms\tremaining: 43.5ms\n",
      "934:\tlearn: 0.0144700\ttotal: 616ms\tremaining: 42.9ms\n",
      "935:\tlearn: 0.0144644\ttotal: 617ms\tremaining: 42.2ms\n",
      "936:\tlearn: 0.0144605\ttotal: 618ms\tremaining: 41.5ms\n",
      "937:\tlearn: 0.0144506\ttotal: 618ms\tremaining: 40.9ms\n",
      "938:\tlearn: 0.0144470\ttotal: 619ms\tremaining: 40.2ms\n",
      "939:\tlearn: 0.0144299\ttotal: 619ms\tremaining: 39.5ms\n",
      "940:\tlearn: 0.0144114\ttotal: 620ms\tremaining: 38.9ms\n",
      "941:\tlearn: 0.0144055\ttotal: 620ms\tremaining: 38.2ms\n",
      "942:\tlearn: 0.0143932\ttotal: 621ms\tremaining: 37.5ms\n",
      "943:\tlearn: 0.0143852\ttotal: 621ms\tremaining: 36.9ms\n",
      "944:\tlearn: 0.0143715\ttotal: 622ms\tremaining: 36.2ms\n",
      "945:\tlearn: 0.0143640\ttotal: 625ms\tremaining: 35.7ms\n",
      "946:\tlearn: 0.0143451\ttotal: 625ms\tremaining: 35ms\n",
      "947:\tlearn: 0.0143300\ttotal: 626ms\tremaining: 34.3ms\n",
      "948:\tlearn: 0.0143146\ttotal: 627ms\tremaining: 33.7ms\n",
      "949:\tlearn: 0.0143057\ttotal: 627ms\tremaining: 33ms\n",
      "950:\tlearn: 0.0142992\ttotal: 628ms\tremaining: 32.3ms\n",
      "951:\tlearn: 0.0142871\ttotal: 628ms\tremaining: 31.7ms\n",
      "952:\tlearn: 0.0142815\ttotal: 629ms\tremaining: 31ms\n",
      "953:\tlearn: 0.0142666\ttotal: 629ms\tremaining: 30.3ms\n",
      "954:\tlearn: 0.0142509\ttotal: 629ms\tremaining: 29.7ms\n",
      "955:\tlearn: 0.0142254\ttotal: 630ms\tremaining: 29ms\n",
      "956:\tlearn: 0.0142188\ttotal: 630ms\tremaining: 28.3ms\n",
      "957:\tlearn: 0.0141981\ttotal: 630ms\tremaining: 27.6ms\n",
      "958:\tlearn: 0.0141836\ttotal: 631ms\tremaining: 27ms\n",
      "959:\tlearn: 0.0141727\ttotal: 631ms\tremaining: 26.3ms\n",
      "960:\tlearn: 0.0141658\ttotal: 632ms\tremaining: 25.6ms\n",
      "961:\tlearn: 0.0141487\ttotal: 633ms\tremaining: 25ms\n",
      "962:\tlearn: 0.0141381\ttotal: 633ms\tremaining: 24.3ms\n",
      "963:\tlearn: 0.0141265\ttotal: 634ms\tremaining: 23.7ms\n",
      "964:\tlearn: 0.0141112\ttotal: 634ms\tremaining: 23ms\n",
      "965:\tlearn: 0.0141072\ttotal: 635ms\tremaining: 22.3ms\n",
      "966:\tlearn: 0.0141001\ttotal: 635ms\tremaining: 21.7ms\n",
      "967:\tlearn: 0.0140858\ttotal: 635ms\tremaining: 21ms\n",
      "968:\tlearn: 0.0140800\ttotal: 638ms\tremaining: 20.4ms\n",
      "969:\tlearn: 0.0140662\ttotal: 639ms\tremaining: 19.8ms\n",
      "970:\tlearn: 0.0140515\ttotal: 639ms\tremaining: 19.1ms\n",
      "971:\tlearn: 0.0140296\ttotal: 639ms\tremaining: 18.4ms\n",
      "972:\tlearn: 0.0140212\ttotal: 640ms\tremaining: 17.8ms\n",
      "973:\tlearn: 0.0140048\ttotal: 640ms\tremaining: 17.1ms\n",
      "974:\tlearn: 0.0139990\ttotal: 640ms\tremaining: 16.4ms\n",
      "975:\tlearn: 0.0139943\ttotal: 641ms\tremaining: 15.8ms\n",
      "976:\tlearn: 0.0139791\ttotal: 642ms\tremaining: 15.1ms\n",
      "977:\tlearn: 0.0139675\ttotal: 642ms\tremaining: 14.4ms\n",
      "978:\tlearn: 0.0139513\ttotal: 642ms\tremaining: 13.8ms\n",
      "979:\tlearn: 0.0139386\ttotal: 643ms\tremaining: 13.1ms\n",
      "980:\tlearn: 0.0139245\ttotal: 643ms\tremaining: 12.5ms\n",
      "981:\tlearn: 0.0139167\ttotal: 643ms\tremaining: 11.8ms\n",
      "982:\tlearn: 0.0139048\ttotal: 644ms\tremaining: 11.1ms\n",
      "983:\tlearn: 0.0139022\ttotal: 645ms\tremaining: 10.5ms\n",
      "984:\tlearn: 0.0138875\ttotal: 646ms\tremaining: 9.83ms\n",
      "985:\tlearn: 0.0138851\ttotal: 646ms\tremaining: 9.17ms\n",
      "986:\tlearn: 0.0138705\ttotal: 646ms\tremaining: 8.51ms\n",
      "987:\tlearn: 0.0138448\ttotal: 646ms\tremaining: 7.85ms\n",
      "988:\tlearn: 0.0138310\ttotal: 647ms\tremaining: 7.19ms\n",
      "989:\tlearn: 0.0138237\ttotal: 647ms\tremaining: 6.54ms\n",
      "990:\tlearn: 0.0138106\ttotal: 648ms\tremaining: 5.88ms\n",
      "991:\tlearn: 0.0138083\ttotal: 648ms\tremaining: 5.23ms\n",
      "992:\tlearn: 0.0138003\ttotal: 652ms\tremaining: 4.59ms\n",
      "993:\tlearn: 0.0137981\ttotal: 652ms\tremaining: 3.94ms\n",
      "994:\tlearn: 0.0137885\ttotal: 652ms\tremaining: 3.28ms\n",
      "995:\tlearn: 0.0137717\ttotal: 653ms\tremaining: 2.62ms\n",
      "996:\tlearn: 0.0137587\ttotal: 653ms\tremaining: 1.96ms\n",
      "997:\tlearn: 0.0137458\ttotal: 653ms\tremaining: 1.31ms\n",
      "998:\tlearn: 0.0137320\ttotal: 654ms\tremaining: 654us\n",
      "999:\tlearn: 0.0137293\ttotal: 654ms\tremaining: 0us\n",
      "Mean Absolute error 0.023182069338721936\n"
     ]
    },
    {
     "data": {
      "application/scrapbook.scrap.json+json": {
       "data": 0.023182069338721936,
       "encoder": "json",
       "name": "Catboost MAE",
       "version": 1
      }
     },
     "metadata": {
      "scrapbook": {
       "data": true,
       "display": false,
       "name": "Catboost MAE"
      }
     },
     "output_type": "display_data"
    },
    {
     "name": "stdout",
     "output_type": "stream",
     "text": [
      "Catboost MAE 0.023182069338721936\n"
     ]
    }
   ],
   "source": [
    "mae_cb = baselineModels.catboost(X_train,y_train,X_test,y_test)\n",
    "#Store MSE Value\n",
    "sb.glue(\"Catboost MAE\",mae_cb)\n",
    "print(\"Catboost MAE\",mae_cb)"
   ]
  },
  {
   "cell_type": "markdown",
   "id": "e7d39381",
   "metadata": {
    "papermill": {
     "duration": 0.008227,
     "end_time": "2022-07-24T10:21:49.012839",
     "exception": false,
     "start_time": "2022-07-24T10:21:49.004612",
     "status": "completed"
    },
    "tags": []
   },
   "source": [
    "# TabNet Regressor"
   ]
  },
  {
   "cell_type": "code",
   "execution_count": 7,
   "id": "ebece41a",
   "metadata": {
    "execution": {
     "iopub.execute_input": "2022-07-24T10:21:49.036383Z",
     "iopub.status.busy": "2022-07-24T10:21:49.034683Z",
     "iopub.status.idle": "2022-07-24T10:21:49.045307Z",
     "shell.execute_reply": "2022-07-24T10:21:49.043808Z"
    },
    "papermill": {
     "duration": 0.028136,
     "end_time": "2022-07-24T10:21:49.049385",
     "exception": false,
     "start_time": "2022-07-24T10:21:49.021249",
     "status": "completed"
    },
    "tags": []
   },
   "outputs": [],
   "source": [
    "n_epochs = 1000\n",
    "batch_size = 32"
   ]
  },
  {
   "cell_type": "code",
   "execution_count": 8,
   "id": "4f2e613b",
   "metadata": {
    "execution": {
     "iopub.execute_input": "2022-07-24T10:21:49.072083Z",
     "iopub.status.busy": "2022-07-24T10:21:49.071330Z",
     "iopub.status.idle": "2022-07-24T10:26:41.188565Z",
     "shell.execute_reply": "2022-07-24T10:26:41.186937Z"
    },
    "papermill": {
     "duration": 292.142409,
     "end_time": "2022-07-24T10:26:41.201155",
     "exception": false,
     "start_time": "2022-07-24T10:21:49.058746",
     "status": "completed"
    },
    "tags": []
   },
   "outputs": [
    {
     "name": "stdout",
     "output_type": "stream",
     "text": [
      "Device used : cpu\n"
     ]
    },
    {
     "name": "stdout",
     "output_type": "stream",
     "text": [
      "epoch 0  | loss: 1.01611 | train_mse: 0.76023 | train_mae: 0.72317 |  0:00:02s\n"
     ]
    },
    {
     "name": "stdout",
     "output_type": "stream",
     "text": [
      "epoch 1  | loss: 0.288   | train_mse: 0.37688 | train_mae: 0.4922  |  0:00:02s\n"
     ]
    },
    {
     "name": "stdout",
     "output_type": "stream",
     "text": [
      "epoch 2  | loss: 0.23635 | train_mse: 0.22509 | train_mae: 0.37308 |  0:00:03s\n"
     ]
    },
    {
     "name": "stdout",
     "output_type": "stream",
     "text": [
      "epoch 3  | loss: 0.20065 | train_mse: 0.1712  | train_mae: 0.33203 |  0:00:04s\n"
     ]
    },
    {
     "name": "stdout",
     "output_type": "stream",
     "text": [
      "epoch 4  | loss: 0.1726  | train_mse: 0.12503 | train_mae: 0.27621 |  0:00:05s\n"
     ]
    },
    {
     "name": "stdout",
     "output_type": "stream",
     "text": [
      "epoch 5  | loss: 0.15376 | train_mse: 0.10654 | train_mae: 0.2644  |  0:00:06s\n"
     ]
    },
    {
     "name": "stdout",
     "output_type": "stream",
     "text": [
      "epoch 6  | loss: 0.12974 | train_mse: 0.10081 | train_mae: 0.25936 |  0:00:07s\n"
     ]
    },
    {
     "name": "stdout",
     "output_type": "stream",
     "text": [
      "epoch 7  | loss: 0.11015 | train_mse: 0.09719 | train_mae: 0.25019 |  0:00:07s\n"
     ]
    },
    {
     "name": "stdout",
     "output_type": "stream",
     "text": [
      "epoch 8  | loss: 0.11518 | train_mse: 0.08498 | train_mae: 0.22596 |  0:00:08s\n"
     ]
    },
    {
     "name": "stdout",
     "output_type": "stream",
     "text": [
      "epoch 9  | loss: 0.105   | train_mse: 0.07218 | train_mae: 0.20719 |  0:00:10s\n"
     ]
    },
    {
     "name": "stdout",
     "output_type": "stream",
     "text": [
      "epoch 10 | loss: 0.09467 | train_mse: 0.08267 | train_mae: 0.22692 |  0:00:13s\n"
     ]
    },
    {
     "name": "stdout",
     "output_type": "stream",
     "text": [
      "epoch 11 | loss: 0.1016  | train_mse: 0.07555 | train_mae: 0.20796 |  0:00:15s\n"
     ]
    },
    {
     "name": "stdout",
     "output_type": "stream",
     "text": [
      "epoch 12 | loss: 0.10455 | train_mse: 0.0706  | train_mae: 0.20567 |  0:00:16s\n"
     ]
    },
    {
     "name": "stdout",
     "output_type": "stream",
     "text": [
      "epoch 13 | loss: 0.10799 | train_mse: 0.06203 | train_mae: 0.19647 |  0:00:16s\n"
     ]
    },
    {
     "name": "stdout",
     "output_type": "stream",
     "text": [
      "epoch 14 | loss: 0.08332 | train_mse: 0.04516 | train_mae: 0.16134 |  0:00:17s\n"
     ]
    },
    {
     "name": "stdout",
     "output_type": "stream",
     "text": [
      "epoch 15 | loss: 0.08876 | train_mse: 0.07033 | train_mae: 0.20374 |  0:00:18s\n"
     ]
    },
    {
     "name": "stdout",
     "output_type": "stream",
     "text": [
      "epoch 16 | loss: 0.09771 | train_mse: 0.05679 | train_mae: 0.17519 |  0:00:19s\n"
     ]
    },
    {
     "name": "stdout",
     "output_type": "stream",
     "text": [
      "epoch 17 | loss: 0.09574 | train_mse: 0.05335 | train_mae: 0.18279 |  0:00:20s\n"
     ]
    },
    {
     "name": "stdout",
     "output_type": "stream",
     "text": [
      "epoch 18 | loss: 0.09952 | train_mse: 0.0369  | train_mae: 0.15402 |  0:00:22s\n"
     ]
    },
    {
     "name": "stdout",
     "output_type": "stream",
     "text": [
      "epoch 19 | loss: 0.07341 | train_mse: 0.04178 | train_mae: 0.16341 |  0:00:23s\n"
     ]
    },
    {
     "name": "stdout",
     "output_type": "stream",
     "text": [
      "epoch 20 | loss: 0.07804 | train_mse: 0.03873 | train_mae: 0.15928 |  0:00:24s\n"
     ]
    },
    {
     "name": "stdout",
     "output_type": "stream",
     "text": [
      "epoch 21 | loss: 0.07191 | train_mse: 0.04977 | train_mae: 0.18494 |  0:00:25s\n"
     ]
    },
    {
     "name": "stdout",
     "output_type": "stream",
     "text": [
      "epoch 22 | loss: 0.06166 | train_mse: 0.04091 | train_mae: 0.1598  |  0:00:26s\n"
     ]
    },
    {
     "name": "stdout",
     "output_type": "stream",
     "text": [
      "epoch 23 | loss: 0.06791 | train_mse: 0.04169 | train_mae: 0.15883 |  0:00:26s\n"
     ]
    },
    {
     "name": "stdout",
     "output_type": "stream",
     "text": [
      "epoch 24 | loss: 0.05665 | train_mse: 0.03165 | train_mae: 0.14327 |  0:00:27s\n"
     ]
    },
    {
     "name": "stdout",
     "output_type": "stream",
     "text": [
      "epoch 25 | loss: 0.07916 | train_mse: 0.04142 | train_mae: 0.16653 |  0:00:27s\n"
     ]
    },
    {
     "name": "stdout",
     "output_type": "stream",
     "text": [
      "epoch 26 | loss: 0.06712 | train_mse: 0.03101 | train_mae: 0.13931 |  0:00:28s\n"
     ]
    },
    {
     "name": "stdout",
     "output_type": "stream",
     "text": [
      "epoch 27 | loss: 0.06995 | train_mse: 0.02618 | train_mae: 0.12691 |  0:00:29s\n"
     ]
    },
    {
     "name": "stdout",
     "output_type": "stream",
     "text": [
      "epoch 28 | loss: 0.05888 | train_mse: 0.02962 | train_mae: 0.14266 |  0:00:29s\n"
     ]
    },
    {
     "name": "stdout",
     "output_type": "stream",
     "text": [
      "epoch 29 | loss: 0.05816 | train_mse: 0.02261 | train_mae: 0.12222 |  0:00:30s\n"
     ]
    },
    {
     "name": "stdout",
     "output_type": "stream",
     "text": [
      "epoch 30 | loss: 0.0758  | train_mse: 0.02395 | train_mae: 0.12721 |  0:00:31s\n"
     ]
    },
    {
     "name": "stdout",
     "output_type": "stream",
     "text": [
      "epoch 31 | loss: 0.06906 | train_mse: 0.05567 | train_mae: 0.17923 |  0:00:31s\n"
     ]
    },
    {
     "name": "stdout",
     "output_type": "stream",
     "text": [
      "epoch 32 | loss: 0.07749 | train_mse: 0.03311 | train_mae: 0.14235 |  0:00:32s\n"
     ]
    },
    {
     "name": "stdout",
     "output_type": "stream",
     "text": [
      "epoch 33 | loss: 0.05839 | train_mse: 0.02508 | train_mae: 0.123   |  0:00:32s\n"
     ]
    },
    {
     "name": "stdout",
     "output_type": "stream",
     "text": [
      "epoch 34 | loss: 0.04405 | train_mse: 0.02987 | train_mae: 0.14489 |  0:00:33s\n"
     ]
    },
    {
     "name": "stdout",
     "output_type": "stream",
     "text": [
      "epoch 35 | loss: 0.05103 | train_mse: 0.02991 | train_mae: 0.14091 |  0:00:34s\n"
     ]
    },
    {
     "name": "stdout",
     "output_type": "stream",
     "text": [
      "epoch 36 | loss: 0.06487 | train_mse: 0.03088 | train_mae: 0.14446 |  0:00:34s\n"
     ]
    },
    {
     "name": "stdout",
     "output_type": "stream",
     "text": [
      "epoch 37 | loss: 0.06167 | train_mse: 0.02366 | train_mae: 0.12243 |  0:00:35s\n"
     ]
    },
    {
     "name": "stdout",
     "output_type": "stream",
     "text": [
      "epoch 38 | loss: 0.04787 | train_mse: 0.03069 | train_mae: 0.13903 |  0:00:35s\n"
     ]
    },
    {
     "name": "stdout",
     "output_type": "stream",
     "text": [
      "epoch 39 | loss: 0.04876 | train_mse: 0.02253 | train_mae: 0.12273 |  0:00:36s\n"
     ]
    },
    {
     "name": "stdout",
     "output_type": "stream",
     "text": [
      "epoch 40 | loss: 0.05043 | train_mse: 0.0208  | train_mae: 0.11094 |  0:00:37s\n"
     ]
    },
    {
     "name": "stdout",
     "output_type": "stream",
     "text": [
      "epoch 41 | loss: 0.05102 | train_mse: 0.03307 | train_mae: 0.13699 |  0:00:37s\n"
     ]
    },
    {
     "name": "stdout",
     "output_type": "stream",
     "text": [
      "epoch 42 | loss: 0.04954 | train_mse: 0.03126 | train_mae: 0.13718 |  0:00:38s\n"
     ]
    },
    {
     "name": "stdout",
     "output_type": "stream",
     "text": [
      "epoch 43 | loss: 0.05572 | train_mse: 0.02501 | train_mae: 0.12316 |  0:00:38s\n"
     ]
    },
    {
     "name": "stdout",
     "output_type": "stream",
     "text": [
      "epoch 44 | loss: 0.05053 | train_mse: 0.03858 | train_mae: 0.15344 |  0:00:39s\n"
     ]
    },
    {
     "name": "stdout",
     "output_type": "stream",
     "text": [
      "epoch 45 | loss: 0.06143 | train_mse: 0.03809 | train_mae: 0.14474 |  0:00:39s\n"
     ]
    },
    {
     "name": "stdout",
     "output_type": "stream",
     "text": [
      "epoch 46 | loss: 0.06545 | train_mse: 0.01991 | train_mae: 0.10999 |  0:00:40s\n"
     ]
    },
    {
     "name": "stdout",
     "output_type": "stream",
     "text": [
      "epoch 47 | loss: 0.03876 | train_mse: 0.01888 | train_mae: 0.10586 |  0:00:41s\n"
     ]
    },
    {
     "name": "stdout",
     "output_type": "stream",
     "text": [
      "epoch 48 | loss: 0.047   | train_mse: 0.02305 | train_mae: 0.11914 |  0:00:41s\n"
     ]
    },
    {
     "name": "stdout",
     "output_type": "stream",
     "text": [
      "epoch 49 | loss: 0.06891 | train_mse: 0.0281  | train_mae: 0.13708 |  0:00:42s\n"
     ]
    },
    {
     "name": "stdout",
     "output_type": "stream",
     "text": [
      "epoch 50 | loss: 0.04726 | train_mse: 0.02865 | train_mae: 0.12923 |  0:00:43s\n"
     ]
    },
    {
     "name": "stdout",
     "output_type": "stream",
     "text": [
      "epoch 51 | loss: 0.04068 | train_mse: 0.01921 | train_mae: 0.10983 |  0:00:43s\n"
     ]
    },
    {
     "name": "stdout",
     "output_type": "stream",
     "text": [
      "epoch 52 | loss: 0.04558 | train_mse: 0.02316 | train_mae: 0.11678 |  0:00:44s\n"
     ]
    },
    {
     "name": "stdout",
     "output_type": "stream",
     "text": [
      "epoch 53 | loss: 0.0439  | train_mse: 0.02591 | train_mae: 0.13274 |  0:00:47s\n"
     ]
    },
    {
     "name": "stdout",
     "output_type": "stream",
     "text": [
      "epoch 54 | loss: 0.03895 | train_mse: 0.01861 | train_mae: 0.11025 |  0:00:48s\n"
     ]
    },
    {
     "name": "stdout",
     "output_type": "stream",
     "text": [
      "epoch 55 | loss: 0.03541 | train_mse: 0.01873 | train_mae: 0.11285 |  0:00:49s\n"
     ]
    },
    {
     "name": "stdout",
     "output_type": "stream",
     "text": [
      "epoch 56 | loss: 0.04189 | train_mse: 0.0175  | train_mae: 0.10919 |  0:00:51s\n"
     ]
    },
    {
     "name": "stdout",
     "output_type": "stream",
     "text": [
      "epoch 57 | loss: 0.04673 | train_mse: 0.01998 | train_mae: 0.11351 |  0:00:53s\n"
     ]
    },
    {
     "name": "stdout",
     "output_type": "stream",
     "text": [
      "epoch 58 | loss: 0.03878 | train_mse: 0.01769 | train_mae: 0.10858 |  0:00:55s\n"
     ]
    },
    {
     "name": "stdout",
     "output_type": "stream",
     "text": [
      "epoch 59 | loss: 0.05865 | train_mse: 0.03048 | train_mae: 0.14048 |  0:00:58s\n"
     ]
    },
    {
     "name": "stdout",
     "output_type": "stream",
     "text": [
      "epoch 60 | loss: 0.04445 | train_mse: 0.02093 | train_mae: 0.11524 |  0:01:03s\n"
     ]
    },
    {
     "name": "stdout",
     "output_type": "stream",
     "text": [
      "epoch 61 | loss: 0.04071 | train_mse: 0.01624 | train_mae: 0.09676 |  0:01:07s\n"
     ]
    },
    {
     "name": "stdout",
     "output_type": "stream",
     "text": [
      "epoch 62 | loss: 0.05091 | train_mse: 0.01995 | train_mae: 0.11259 |  0:01:10s\n"
     ]
    },
    {
     "name": "stdout",
     "output_type": "stream",
     "text": [
      "epoch 63 | loss: 0.05247 | train_mse: 0.02487 | train_mae: 0.1275  |  0:01:14s\n"
     ]
    },
    {
     "name": "stdout",
     "output_type": "stream",
     "text": [
      "epoch 64 | loss: 0.04861 | train_mse: 0.01806 | train_mae: 0.10963 |  0:01:16s\n"
     ]
    },
    {
     "name": "stdout",
     "output_type": "stream",
     "text": [
      "epoch 65 | loss: 0.03639 | train_mse: 0.02481 | train_mae: 0.12745 |  0:01:21s\n"
     ]
    },
    {
     "name": "stdout",
     "output_type": "stream",
     "text": [
      "epoch 66 | loss: 0.04592 | train_mse: 0.02122 | train_mae: 0.11866 |  0:01:25s\n"
     ]
    },
    {
     "name": "stdout",
     "output_type": "stream",
     "text": [
      "epoch 67 | loss: 0.04004 | train_mse: 0.01477 | train_mae: 0.09437 |  0:01:28s\n"
     ]
    },
    {
     "name": "stdout",
     "output_type": "stream",
     "text": [
      "epoch 68 | loss: 0.04473 | train_mse: 0.02068 | train_mae: 0.12097 |  0:01:29s\n"
     ]
    },
    {
     "name": "stdout",
     "output_type": "stream",
     "text": [
      "epoch 69 | loss: 0.03746 | train_mse: 0.02398 | train_mae: 0.12589 |  0:01:30s\n"
     ]
    },
    {
     "name": "stdout",
     "output_type": "stream",
     "text": [
      "epoch 70 | loss: 0.03238 | train_mse: 0.01458 | train_mae: 0.09946 |  0:01:31s\n"
     ]
    },
    {
     "name": "stdout",
     "output_type": "stream",
     "text": [
      "epoch 71 | loss: 0.03757 | train_mse: 0.01535 | train_mae: 0.104   |  0:01:32s\n"
     ]
    },
    {
     "name": "stdout",
     "output_type": "stream",
     "text": [
      "epoch 72 | loss: 0.03898 | train_mse: 0.01336 | train_mae: 0.09426 |  0:01:33s\n"
     ]
    },
    {
     "name": "stdout",
     "output_type": "stream",
     "text": [
      "epoch 73 | loss: 0.02488 | train_mse: 0.01209 | train_mae: 0.09318 |  0:01:35s\n"
     ]
    },
    {
     "name": "stdout",
     "output_type": "stream",
     "text": [
      "epoch 74 | loss: 0.02647 | train_mse: 0.01302 | train_mae: 0.09149 |  0:01:36s\n"
     ]
    },
    {
     "name": "stdout",
     "output_type": "stream",
     "text": [
      "epoch 75 | loss: 0.03332 | train_mse: 0.01182 | train_mae: 0.08792 |  0:01:36s\n"
     ]
    },
    {
     "name": "stdout",
     "output_type": "stream",
     "text": [
      "epoch 76 | loss: 0.04686 | train_mse: 0.01136 | train_mae: 0.08794 |  0:01:37s\n"
     ]
    },
    {
     "name": "stdout",
     "output_type": "stream",
     "text": [
      "epoch 77 | loss: 0.03218 | train_mse: 0.01461 | train_mae: 0.0932  |  0:01:38s\n"
     ]
    },
    {
     "name": "stdout",
     "output_type": "stream",
     "text": [
      "epoch 78 | loss: 0.03049 | train_mse: 0.01908 | train_mae: 0.11247 |  0:01:39s\n"
     ]
    },
    {
     "name": "stdout",
     "output_type": "stream",
     "text": [
      "epoch 79 | loss: 0.02898 | train_mse: 0.01406 | train_mae: 0.08769 |  0:01:39s\n"
     ]
    },
    {
     "name": "stdout",
     "output_type": "stream",
     "text": [
      "epoch 80 | loss: 0.02516 | train_mse: 0.00977 | train_mae: 0.07663 |  0:01:40s\n"
     ]
    },
    {
     "name": "stdout",
     "output_type": "stream",
     "text": [
      "epoch 81 | loss: 0.02557 | train_mse: 0.00867 | train_mae: 0.07297 |  0:01:41s\n"
     ]
    },
    {
     "name": "stdout",
     "output_type": "stream",
     "text": [
      "epoch 82 | loss: 0.02628 | train_mse: 0.01062 | train_mae: 0.08259 |  0:01:41s\n"
     ]
    },
    {
     "name": "stdout",
     "output_type": "stream",
     "text": [
      "epoch 83 | loss: 0.04426 | train_mse: 0.01802 | train_mae: 0.10643 |  0:01:42s\n"
     ]
    },
    {
     "name": "stdout",
     "output_type": "stream",
     "text": [
      "epoch 84 | loss: 0.03589 | train_mse: 0.02964 | train_mae: 0.14171 |  0:01:43s\n"
     ]
    },
    {
     "name": "stdout",
     "output_type": "stream",
     "text": [
      "epoch 85 | loss: 0.04044 | train_mse: 0.01342 | train_mae: 0.08661 |  0:01:43s\n"
     ]
    },
    {
     "name": "stdout",
     "output_type": "stream",
     "text": [
      "epoch 86 | loss: 0.02928 | train_mse: 0.01186 | train_mae: 0.0837  |  0:01:44s\n"
     ]
    },
    {
     "name": "stdout",
     "output_type": "stream",
     "text": [
      "epoch 87 | loss: 0.03135 | train_mse: 0.03007 | train_mae: 0.13689 |  0:01:45s\n"
     ]
    },
    {
     "name": "stdout",
     "output_type": "stream",
     "text": [
      "epoch 88 | loss: 0.03435 | train_mse: 0.0206  | train_mae: 0.11307 |  0:01:45s\n"
     ]
    },
    {
     "name": "stdout",
     "output_type": "stream",
     "text": [
      "epoch 89 | loss: 0.02651 | train_mse: 0.01452 | train_mae: 0.09184 |  0:01:46s\n"
     ]
    },
    {
     "name": "stdout",
     "output_type": "stream",
     "text": [
      "epoch 90 | loss: 0.02825 | train_mse: 0.01334 | train_mae: 0.08918 |  0:01:47s\n"
     ]
    },
    {
     "name": "stdout",
     "output_type": "stream",
     "text": [
      "epoch 91 | loss: 0.02649 | train_mse: 0.01139 | train_mae: 0.08221 |  0:01:48s\n"
     ]
    },
    {
     "name": "stdout",
     "output_type": "stream",
     "text": [
      "epoch 92 | loss: 0.02267 | train_mse: 0.00967 | train_mae: 0.07489 |  0:01:49s\n"
     ]
    },
    {
     "name": "stdout",
     "output_type": "stream",
     "text": [
      "epoch 93 | loss: 0.03202 | train_mse: 0.01211 | train_mae: 0.08564 |  0:01:50s\n"
     ]
    },
    {
     "name": "stdout",
     "output_type": "stream",
     "text": [
      "epoch 94 | loss: 0.04721 | train_mse: 0.03009 | train_mae: 0.14569 |  0:01:51s\n"
     ]
    },
    {
     "name": "stdout",
     "output_type": "stream",
     "text": [
      "epoch 95 | loss: 0.03461 | train_mse: 0.01308 | train_mae: 0.08859 |  0:01:52s\n"
     ]
    },
    {
     "name": "stdout",
     "output_type": "stream",
     "text": [
      "epoch 96 | loss: 0.0315  | train_mse: 0.01578 | train_mae: 0.091   |  0:01:53s\n"
     ]
    },
    {
     "name": "stdout",
     "output_type": "stream",
     "text": [
      "epoch 97 | loss: 0.03758 | train_mse: 0.01492 | train_mae: 0.09498 |  0:01:54s\n"
     ]
    },
    {
     "name": "stdout",
     "output_type": "stream",
     "text": [
      "epoch 98 | loss: 0.02784 | train_mse: 0.0163  | train_mae: 0.09955 |  0:01:55s\n"
     ]
    },
    {
     "name": "stdout",
     "output_type": "stream",
     "text": [
      "epoch 99 | loss: 0.03407 | train_mse: 0.01266 | train_mae: 0.08853 |  0:01:56s\n"
     ]
    },
    {
     "name": "stdout",
     "output_type": "stream",
     "text": [
      "epoch 100| loss: 0.04018 | train_mse: 0.02705 | train_mae: 0.12126 |  0:01:57s\n"
     ]
    },
    {
     "name": "stdout",
     "output_type": "stream",
     "text": [
      "epoch 101| loss: 0.03648 | train_mse: 0.01189 | train_mae: 0.08146 |  0:01:59s\n"
     ]
    },
    {
     "name": "stdout",
     "output_type": "stream",
     "text": [
      "epoch 102| loss: 0.03294 | train_mse: 0.01987 | train_mae: 0.10859 |  0:02:02s\n"
     ]
    },
    {
     "name": "stdout",
     "output_type": "stream",
     "text": [
      "epoch 103| loss: 0.03228 | train_mse: 0.01261 | train_mae: 0.08402 |  0:02:03s\n"
     ]
    },
    {
     "name": "stdout",
     "output_type": "stream",
     "text": [
      "epoch 104| loss: 0.04102 | train_mse: 0.02034 | train_mae: 0.10901 |  0:02:04s\n"
     ]
    },
    {
     "name": "stdout",
     "output_type": "stream",
     "text": [
      "epoch 105| loss: 0.04291 | train_mse: 0.01991 | train_mae: 0.11313 |  0:02:05s\n"
     ]
    },
    {
     "name": "stdout",
     "output_type": "stream",
     "text": [
      "epoch 106| loss: 0.04149 | train_mse: 0.01542 | train_mae: 0.09577 |  0:02:06s\n"
     ]
    },
    {
     "name": "stdout",
     "output_type": "stream",
     "text": [
      "epoch 107| loss: 0.03432 | train_mse: 0.02512 | train_mae: 0.11759 |  0:02:07s\n"
     ]
    },
    {
     "name": "stdout",
     "output_type": "stream",
     "text": [
      "epoch 108| loss: 0.02686 | train_mse: 0.00698 | train_mae: 0.06507 |  0:02:08s\n"
     ]
    },
    {
     "name": "stdout",
     "output_type": "stream",
     "text": [
      "epoch 109| loss: 0.02521 | train_mse: 0.00983 | train_mae: 0.0766  |  0:02:09s\n"
     ]
    },
    {
     "name": "stdout",
     "output_type": "stream",
     "text": [
      "epoch 110| loss: 0.02694 | train_mse: 0.01319 | train_mae: 0.0892  |  0:02:10s\n"
     ]
    },
    {
     "name": "stdout",
     "output_type": "stream",
     "text": [
      "epoch 111| loss: 0.03573 | train_mse: 0.01238 | train_mae: 0.0891  |  0:02:12s\n"
     ]
    },
    {
     "name": "stdout",
     "output_type": "stream",
     "text": [
      "epoch 112| loss: 0.02931 | train_mse: 0.02633 | train_mae: 0.1366  |  0:02:13s\n"
     ]
    },
    {
     "name": "stdout",
     "output_type": "stream",
     "text": [
      "epoch 113| loss: 0.04399 | train_mse: 0.02349 | train_mae: 0.11379 |  0:02:14s\n"
     ]
    },
    {
     "name": "stdout",
     "output_type": "stream",
     "text": [
      "epoch 114| loss: 0.03988 | train_mse: 0.01142 | train_mae: 0.08501 |  0:02:15s\n"
     ]
    },
    {
     "name": "stdout",
     "output_type": "stream",
     "text": [
      "epoch 115| loss: 0.02943 | train_mse: 0.01713 | train_mae: 0.10336 |  0:02:15s\n"
     ]
    },
    {
     "name": "stdout",
     "output_type": "stream",
     "text": [
      "epoch 116| loss: 0.03016 | train_mse: 0.01231 | train_mae: 0.08412 |  0:02:16s\n"
     ]
    },
    {
     "name": "stdout",
     "output_type": "stream",
     "text": [
      "epoch 117| loss: 0.0304  | train_mse: 0.01151 | train_mae: 0.08239 |  0:02:16s\n"
     ]
    },
    {
     "name": "stdout",
     "output_type": "stream",
     "text": [
      "epoch 118| loss: 0.03874 | train_mse: 0.00954 | train_mae: 0.07293 |  0:02:17s\n"
     ]
    },
    {
     "name": "stdout",
     "output_type": "stream",
     "text": [
      "epoch 119| loss: 0.026   | train_mse: 0.016   | train_mae: 0.09834 |  0:02:18s\n"
     ]
    },
    {
     "name": "stdout",
     "output_type": "stream",
     "text": [
      "epoch 120| loss: 0.03217 | train_mse: 0.01166 | train_mae: 0.08043 |  0:02:18s\n"
     ]
    },
    {
     "name": "stdout",
     "output_type": "stream",
     "text": [
      "epoch 121| loss: 0.02844 | train_mse: 0.00956 | train_mae: 0.07664 |  0:02:19s\n"
     ]
    },
    {
     "name": "stdout",
     "output_type": "stream",
     "text": [
      "epoch 122| loss: 0.02734 | train_mse: 0.01391 | train_mae: 0.08894 |  0:02:19s\n"
     ]
    },
    {
     "name": "stdout",
     "output_type": "stream",
     "text": [
      "epoch 123| loss: 0.03574 | train_mse: 0.01172 | train_mae: 0.08501 |  0:02:20s\n"
     ]
    },
    {
     "name": "stdout",
     "output_type": "stream",
     "text": [
      "epoch 124| loss: 0.03499 | train_mse: 0.02127 | train_mae: 0.1197  |  0:02:21s\n"
     ]
    },
    {
     "name": "stdout",
     "output_type": "stream",
     "text": [
      "epoch 125| loss: 0.03017 | train_mse: 0.01147 | train_mae: 0.08126 |  0:02:22s\n"
     ]
    },
    {
     "name": "stdout",
     "output_type": "stream",
     "text": [
      "epoch 126| loss: 0.02562 | train_mse: 0.01426 | train_mae: 0.09072 |  0:02:23s\n"
     ]
    },
    {
     "name": "stdout",
     "output_type": "stream",
     "text": [
      "epoch 127| loss: 0.02575 | train_mse: 0.0122  | train_mae: 0.08613 |  0:02:24s\n"
     ]
    },
    {
     "name": "stdout",
     "output_type": "stream",
     "text": [
      "epoch 128| loss: 0.02732 | train_mse: 0.01041 | train_mae: 0.07522 |  0:02:25s\n"
     ]
    },
    {
     "name": "stdout",
     "output_type": "stream",
     "text": [
      "epoch 129| loss: 0.0204  | train_mse: 0.01153 | train_mae: 0.08161 |  0:02:25s\n"
     ]
    },
    {
     "name": "stdout",
     "output_type": "stream",
     "text": [
      "epoch 130| loss: 0.0259  | train_mse: 0.02013 | train_mae: 0.10802 |  0:02:26s\n"
     ]
    },
    {
     "name": "stdout",
     "output_type": "stream",
     "text": [
      "epoch 131| loss: 0.02323 | train_mse: 0.00895 | train_mae: 0.07008 |  0:02:27s\n"
     ]
    },
    {
     "name": "stdout",
     "output_type": "stream",
     "text": [
      "epoch 132| loss: 0.02995 | train_mse: 0.00993 | train_mae: 0.08097 |  0:02:27s\n"
     ]
    },
    {
     "name": "stdout",
     "output_type": "stream",
     "text": [
      "epoch 133| loss: 0.0237  | train_mse: 0.01065 | train_mae: 0.08135 |  0:02:28s\n"
     ]
    },
    {
     "name": "stdout",
     "output_type": "stream",
     "text": [
      "epoch 134| loss: 0.03107 | train_mse: 0.01271 | train_mae: 0.08855 |  0:02:28s\n"
     ]
    },
    {
     "name": "stdout",
     "output_type": "stream",
     "text": [
      "epoch 135| loss: 0.03053 | train_mse: 0.01356 | train_mae: 0.08956 |  0:02:29s\n"
     ]
    },
    {
     "name": "stdout",
     "output_type": "stream",
     "text": [
      "epoch 136| loss: 0.03238 | train_mse: 0.01316 | train_mae: 0.09184 |  0:02:30s\n"
     ]
    },
    {
     "name": "stdout",
     "output_type": "stream",
     "text": [
      "epoch 137| loss: 0.02647 | train_mse: 0.01076 | train_mae: 0.08262 |  0:02:32s\n"
     ]
    },
    {
     "name": "stdout",
     "output_type": "stream",
     "text": [
      "epoch 138| loss: 0.0346  | train_mse: 0.01189 | train_mae: 0.08828 |  0:02:35s\n"
     ]
    },
    {
     "name": "stdout",
     "output_type": "stream",
     "text": [
      "epoch 139| loss: 0.03391 | train_mse: 0.01055 | train_mae: 0.07905 |  0:02:36s\n"
     ]
    },
    {
     "name": "stdout",
     "output_type": "stream",
     "text": [
      "epoch 140| loss: 0.0258  | train_mse: 0.01145 | train_mae: 0.08438 |  0:02:37s\n"
     ]
    },
    {
     "name": "stdout",
     "output_type": "stream",
     "text": [
      "epoch 141| loss: 0.03207 | train_mse: 0.01132 | train_mae: 0.08606 |  0:02:39s\n"
     ]
    },
    {
     "name": "stdout",
     "output_type": "stream",
     "text": [
      "epoch 142| loss: 0.02487 | train_mse: 0.01045 | train_mae: 0.07437 |  0:02:42s\n"
     ]
    },
    {
     "name": "stdout",
     "output_type": "stream",
     "text": [
      "epoch 143| loss: 0.01951 | train_mse: 0.00672 | train_mae: 0.06373 |  0:02:42s\n"
     ]
    },
    {
     "name": "stdout",
     "output_type": "stream",
     "text": [
      "epoch 144| loss: 0.0279  | train_mse: 0.00893 | train_mae: 0.07573 |  0:02:43s\n"
     ]
    },
    {
     "name": "stdout",
     "output_type": "stream",
     "text": [
      "epoch 145| loss: 0.02057 | train_mse: 0.0068  | train_mae: 0.06332 |  0:02:44s\n"
     ]
    },
    {
     "name": "stdout",
     "output_type": "stream",
     "text": [
      "epoch 146| loss: 0.02626 | train_mse: 0.01013 | train_mae: 0.0719  |  0:02:44s\n"
     ]
    },
    {
     "name": "stdout",
     "output_type": "stream",
     "text": [
      "epoch 147| loss: 0.02388 | train_mse: 0.00689 | train_mae: 0.06419 |  0:02:46s\n"
     ]
    },
    {
     "name": "stdout",
     "output_type": "stream",
     "text": [
      "epoch 148| loss: 0.02045 | train_mse: 0.01229 | train_mae: 0.07978 |  0:02:47s\n"
     ]
    },
    {
     "name": "stdout",
     "output_type": "stream",
     "text": [
      "epoch 149| loss: 0.02539 | train_mse: 0.00973 | train_mae: 0.07402 |  0:02:47s\n"
     ]
    },
    {
     "name": "stdout",
     "output_type": "stream",
     "text": [
      "epoch 150| loss: 0.03146 | train_mse: 0.02381 | train_mae: 0.113   |  0:02:48s\n"
     ]
    },
    {
     "name": "stdout",
     "output_type": "stream",
     "text": [
      "epoch 151| loss: 0.02703 | train_mse: 0.01075 | train_mae: 0.07943 |  0:02:49s\n"
     ]
    },
    {
     "name": "stdout",
     "output_type": "stream",
     "text": [
      "epoch 152| loss: 0.02283 | train_mse: 0.00731 | train_mae: 0.06473 |  0:02:49s\n"
     ]
    },
    {
     "name": "stdout",
     "output_type": "stream",
     "text": [
      "epoch 153| loss: 0.0279  | train_mse: 0.00925 | train_mae: 0.07558 |  0:02:50s\n"
     ]
    },
    {
     "name": "stdout",
     "output_type": "stream",
     "text": [
      "epoch 154| loss: 0.02658 | train_mse: 0.01184 | train_mae: 0.083   |  0:02:51s\n"
     ]
    },
    {
     "name": "stdout",
     "output_type": "stream",
     "text": [
      "epoch 155| loss: 0.02477 | train_mse: 0.01113 | train_mae: 0.08239 |  0:02:52s\n"
     ]
    },
    {
     "name": "stdout",
     "output_type": "stream",
     "text": [
      "epoch 156| loss: 0.02319 | train_mse: 0.00807 | train_mae: 0.06923 |  0:02:52s\n"
     ]
    },
    {
     "name": "stdout",
     "output_type": "stream",
     "text": [
      "epoch 157| loss: 0.01997 | train_mse: 0.02024 | train_mae: 0.11143 |  0:02:53s\n"
     ]
    },
    {
     "name": "stdout",
     "output_type": "stream",
     "text": [
      "epoch 158| loss: 0.02525 | train_mse: 0.01022 | train_mae: 0.07728 |  0:02:54s\n"
     ]
    },
    {
     "name": "stdout",
     "output_type": "stream",
     "text": [
      "epoch 159| loss: 0.0313  | train_mse: 0.00988 | train_mae: 0.07415 |  0:02:54s\n"
     ]
    },
    {
     "name": "stdout",
     "output_type": "stream",
     "text": [
      "epoch 160| loss: 0.02578 | train_mse: 0.01195 | train_mae: 0.0873  |  0:02:55s\n"
     ]
    },
    {
     "name": "stdout",
     "output_type": "stream",
     "text": [
      "epoch 161| loss: 0.01865 | train_mse: 0.01571 | train_mae: 0.09587 |  0:02:55s\n"
     ]
    },
    {
     "name": "stdout",
     "output_type": "stream",
     "text": [
      "epoch 162| loss: 0.02462 | train_mse: 0.01315 | train_mae: 0.09276 |  0:02:56s\n"
     ]
    },
    {
     "name": "stdout",
     "output_type": "stream",
     "text": [
      "epoch 163| loss: 0.02369 | train_mse: 0.01118 | train_mae: 0.08135 |  0:02:57s\n"
     ]
    },
    {
     "name": "stdout",
     "output_type": "stream",
     "text": [
      "epoch 164| loss: 0.01935 | train_mse: 0.00879 | train_mae: 0.07376 |  0:02:58s\n"
     ]
    },
    {
     "name": "stdout",
     "output_type": "stream",
     "text": [
      "epoch 165| loss: 0.02176 | train_mse: 0.00875 | train_mae: 0.07425 |  0:02:59s\n"
     ]
    },
    {
     "name": "stdout",
     "output_type": "stream",
     "text": [
      "epoch 166| loss: 0.02473 | train_mse: 0.03225 | train_mae: 0.12538 |  0:03:00s\n"
     ]
    },
    {
     "name": "stdout",
     "output_type": "stream",
     "text": [
      "epoch 167| loss: 0.03181 | train_mse: 0.02943 | train_mae: 0.13559 |  0:03:01s\n"
     ]
    },
    {
     "name": "stdout",
     "output_type": "stream",
     "text": [
      "epoch 168| loss: 0.03465 | train_mse: 0.02485 | train_mae: 0.12042 |  0:03:01s\n"
     ]
    },
    {
     "name": "stdout",
     "output_type": "stream",
     "text": [
      "epoch 169| loss: 0.04835 | train_mse: 0.01499 | train_mae: 0.09814 |  0:03:03s\n"
     ]
    },
    {
     "name": "stdout",
     "output_type": "stream",
     "text": [
      "epoch 170| loss: 0.03318 | train_mse: 0.01214 | train_mae: 0.08617 |  0:03:04s\n"
     ]
    },
    {
     "name": "stdout",
     "output_type": "stream",
     "text": [
      "epoch 171| loss: 0.02091 | train_mse: 0.01084 | train_mae: 0.08437 |  0:03:07s\n"
     ]
    },
    {
     "name": "stdout",
     "output_type": "stream",
     "text": [
      "epoch 172| loss: 0.02005 | train_mse: 0.01346 | train_mae: 0.09384 |  0:03:11s\n"
     ]
    },
    {
     "name": "stdout",
     "output_type": "stream",
     "text": [
      "epoch 173| loss: 0.02222 | train_mse: 0.01211 | train_mae: 0.08578 |  0:03:13s\n"
     ]
    },
    {
     "name": "stdout",
     "output_type": "stream",
     "text": [
      "epoch 174| loss: 0.03287 | train_mse: 0.01225 | train_mae: 0.08665 |  0:03:15s\n"
     ]
    },
    {
     "name": "stdout",
     "output_type": "stream",
     "text": [
      "epoch 175| loss: 0.02353 | train_mse: 0.0095  | train_mae: 0.07759 |  0:03:15s\n"
     ]
    },
    {
     "name": "stdout",
     "output_type": "stream",
     "text": [
      "epoch 176| loss: 0.02752 | train_mse: 0.01    | train_mae: 0.07608 |  0:03:17s\n"
     ]
    },
    {
     "name": "stdout",
     "output_type": "stream",
     "text": [
      "epoch 177| loss: 0.02385 | train_mse: 0.01037 | train_mae: 0.07766 |  0:03:18s\n"
     ]
    },
    {
     "name": "stdout",
     "output_type": "stream",
     "text": [
      "epoch 178| loss: 0.02226 | train_mse: 0.00969 | train_mae: 0.07628 |  0:03:20s\n"
     ]
    },
    {
     "name": "stdout",
     "output_type": "stream",
     "text": [
      "epoch 179| loss: 0.02372 | train_mse: 0.01269 | train_mae: 0.08215 |  0:03:21s\n"
     ]
    },
    {
     "name": "stdout",
     "output_type": "stream",
     "text": [
      "epoch 180| loss: 0.02084 | train_mse: 0.00646 | train_mae: 0.06238 |  0:03:23s\n"
     ]
    },
    {
     "name": "stdout",
     "output_type": "stream",
     "text": [
      "epoch 181| loss: 0.02382 | train_mse: 0.00918 | train_mae: 0.06943 |  0:03:24s\n"
     ]
    },
    {
     "name": "stdout",
     "output_type": "stream",
     "text": [
      "epoch 182| loss: 0.0249  | train_mse: 0.00624 | train_mae: 0.06109 |  0:03:25s\n"
     ]
    },
    {
     "name": "stdout",
     "output_type": "stream",
     "text": [
      "epoch 183| loss: 0.01792 | train_mse: 0.01029 | train_mae: 0.07979 |  0:03:26s\n"
     ]
    },
    {
     "name": "stdout",
     "output_type": "stream",
     "text": [
      "epoch 184| loss: 0.03997 | train_mse: 0.01248 | train_mae: 0.0943  |  0:03:27s\n"
     ]
    },
    {
     "name": "stdout",
     "output_type": "stream",
     "text": [
      "epoch 185| loss: 0.02098 | train_mse: 0.01155 | train_mae: 0.08683 |  0:03:28s\n"
     ]
    },
    {
     "name": "stdout",
     "output_type": "stream",
     "text": [
      "epoch 186| loss: 0.02905 | train_mse: 0.01578 | train_mae: 0.09638 |  0:03:31s\n"
     ]
    },
    {
     "name": "stdout",
     "output_type": "stream",
     "text": [
      "epoch 187| loss: 0.02143 | train_mse: 0.01133 | train_mae: 0.08191 |  0:03:34s\n"
     ]
    },
    {
     "name": "stdout",
     "output_type": "stream",
     "text": [
      "epoch 188| loss: 0.02076 | train_mse: 0.01363 | train_mae: 0.09189 |  0:03:37s\n"
     ]
    },
    {
     "name": "stdout",
     "output_type": "stream",
     "text": [
      "epoch 189| loss: 0.02313 | train_mse: 0.01395 | train_mae: 0.08713 |  0:03:40s\n"
     ]
    },
    {
     "name": "stdout",
     "output_type": "stream",
     "text": [
      "epoch 190| loss: 0.02145 | train_mse: 0.01235 | train_mae: 0.09277 |  0:03:46s\n"
     ]
    },
    {
     "name": "stdout",
     "output_type": "stream",
     "text": [
      "epoch 191| loss: 0.02088 | train_mse: 0.00674 | train_mae: 0.06288 |  0:03:48s\n"
     ]
    },
    {
     "name": "stdout",
     "output_type": "stream",
     "text": [
      "epoch 192| loss: 0.02578 | train_mse: 0.01047 | train_mae: 0.07779 |  0:03:49s\n"
     ]
    },
    {
     "name": "stdout",
     "output_type": "stream",
     "text": [
      "epoch 193| loss: 0.01973 | train_mse: 0.0119  | train_mae: 0.08946 |  0:03:50s\n"
     ]
    },
    {
     "name": "stdout",
     "output_type": "stream",
     "text": [
      "epoch 194| loss: 0.01798 | train_mse: 0.00928 | train_mae: 0.07556 |  0:03:52s\n"
     ]
    },
    {
     "name": "stdout",
     "output_type": "stream",
     "text": [
      "epoch 195| loss: 0.02493 | train_mse: 0.01056 | train_mae: 0.08252 |  0:03:53s\n"
     ]
    },
    {
     "name": "stdout",
     "output_type": "stream",
     "text": [
      "epoch 196| loss: 0.02307 | train_mse: 0.01173 | train_mae: 0.08297 |  0:03:54s\n"
     ]
    },
    {
     "name": "stdout",
     "output_type": "stream",
     "text": [
      "epoch 197| loss: 0.01982 | train_mse: 0.00702 | train_mae: 0.06461 |  0:03:55s\n"
     ]
    },
    {
     "name": "stdout",
     "output_type": "stream",
     "text": [
      "epoch 198| loss: 0.01855 | train_mse: 0.01162 | train_mae: 0.0872  |  0:03:56s\n"
     ]
    },
    {
     "name": "stdout",
     "output_type": "stream",
     "text": [
      "epoch 199| loss: 0.01815 | train_mse: 0.01227 | train_mae: 0.0839  |  0:03:56s\n"
     ]
    },
    {
     "name": "stdout",
     "output_type": "stream",
     "text": [
      "epoch 200| loss: 0.01784 | train_mse: 0.00874 | train_mae: 0.07356 |  0:03:57s\n"
     ]
    },
    {
     "name": "stdout",
     "output_type": "stream",
     "text": [
      "epoch 201| loss: 0.02488 | train_mse: 0.01386 | train_mae: 0.08951 |  0:03:58s\n"
     ]
    },
    {
     "name": "stdout",
     "output_type": "stream",
     "text": [
      "epoch 202| loss: 0.03182 | train_mse: 0.02346 | train_mae: 0.12179 |  0:03:59s\n"
     ]
    },
    {
     "name": "stdout",
     "output_type": "stream",
     "text": [
      "epoch 203| loss: 0.03758 | train_mse: 0.00956 | train_mae: 0.07008 |  0:04:00s\n"
     ]
    },
    {
     "name": "stdout",
     "output_type": "stream",
     "text": [
      "epoch 204| loss: 0.02208 | train_mse: 0.01193 | train_mae: 0.07949 |  0:04:01s\n"
     ]
    },
    {
     "name": "stdout",
     "output_type": "stream",
     "text": [
      "epoch 205| loss: 0.01813 | train_mse: 0.00561 | train_mae: 0.05468 |  0:04:02s\n"
     ]
    },
    {
     "name": "stdout",
     "output_type": "stream",
     "text": [
      "epoch 206| loss: 0.02174 | train_mse: 0.00659 | train_mae: 0.06165 |  0:04:03s\n"
     ]
    },
    {
     "name": "stdout",
     "output_type": "stream",
     "text": [
      "epoch 207| loss: 0.01982 | train_mse: 0.01072 | train_mae: 0.08074 |  0:04:04s\n"
     ]
    },
    {
     "name": "stdout",
     "output_type": "stream",
     "text": [
      "epoch 208| loss: 0.02258 | train_mse: 0.00766 | train_mae: 0.06903 |  0:04:06s\n"
     ]
    },
    {
     "name": "stdout",
     "output_type": "stream",
     "text": [
      "epoch 209| loss: 0.02138 | train_mse: 0.00738 | train_mae: 0.06478 |  0:04:07s\n"
     ]
    },
    {
     "name": "stdout",
     "output_type": "stream",
     "text": [
      "epoch 210| loss: 0.0187  | train_mse: 0.00569 | train_mae: 0.05571 |  0:04:08s\n"
     ]
    },
    {
     "name": "stdout",
     "output_type": "stream",
     "text": [
      "epoch 211| loss: 0.02329 | train_mse: 0.0083  | train_mae: 0.06961 |  0:04:09s\n"
     ]
    },
    {
     "name": "stdout",
     "output_type": "stream",
     "text": [
      "epoch 212| loss: 0.02804 | train_mse: 0.01329 | train_mae: 0.0939  |  0:04:11s\n"
     ]
    },
    {
     "name": "stdout",
     "output_type": "stream",
     "text": [
      "epoch 213| loss: 0.01729 | train_mse: 0.00543 | train_mae: 0.0554  |  0:04:11s\n"
     ]
    },
    {
     "name": "stdout",
     "output_type": "stream",
     "text": [
      "epoch 214| loss: 0.01838 | train_mse: 0.00636 | train_mae: 0.06279 |  0:04:13s\n"
     ]
    },
    {
     "name": "stdout",
     "output_type": "stream",
     "text": [
      "epoch 215| loss: 0.02486 | train_mse: 0.0133  | train_mae: 0.08242 |  0:04:14s\n"
     ]
    },
    {
     "name": "stdout",
     "output_type": "stream",
     "text": [
      "epoch 216| loss: 0.02243 | train_mse: 0.02443 | train_mae: 0.12823 |  0:04:15s\n"
     ]
    },
    {
     "name": "stdout",
     "output_type": "stream",
     "text": [
      "epoch 217| loss: 0.02103 | train_mse: 0.00873 | train_mae: 0.06762 |  0:04:16s\n"
     ]
    },
    {
     "name": "stdout",
     "output_type": "stream",
     "text": [
      "epoch 218| loss: 0.02702 | train_mse: 0.01095 | train_mae: 0.08113 |  0:04:16s\n"
     ]
    },
    {
     "name": "stdout",
     "output_type": "stream",
     "text": [
      "epoch 219| loss: 0.02639 | train_mse: 0.04158 | train_mae: 0.16552 |  0:04:17s\n"
     ]
    },
    {
     "name": "stdout",
     "output_type": "stream",
     "text": [
      "epoch 220| loss: 0.02279 | train_mse: 0.02137 | train_mae: 0.12212 |  0:04:18s\n"
     ]
    },
    {
     "name": "stdout",
     "output_type": "stream",
     "text": [
      "epoch 221| loss: 0.02234 | train_mse: 0.00588 | train_mae: 0.05923 |  0:04:19s\n"
     ]
    },
    {
     "name": "stdout",
     "output_type": "stream",
     "text": [
      "epoch 222| loss: 0.02013 | train_mse: 0.00938 | train_mae: 0.08076 |  0:04:21s\n"
     ]
    },
    {
     "name": "stdout",
     "output_type": "stream",
     "text": [
      "epoch 223| loss: 0.02098 | train_mse: 0.00871 | train_mae: 0.07417 |  0:04:22s\n"
     ]
    },
    {
     "name": "stdout",
     "output_type": "stream",
     "text": [
      "epoch 224| loss: 0.02694 | train_mse: 0.01532 | train_mae: 0.09927 |  0:04:22s\n"
     ]
    },
    {
     "name": "stdout",
     "output_type": "stream",
     "text": [
      "epoch 225| loss: 0.03089 | train_mse: 0.0054  | train_mae: 0.05657 |  0:04:23s\n"
     ]
    },
    {
     "name": "stdout",
     "output_type": "stream",
     "text": [
      "epoch 226| loss: 0.02541 | train_mse: 0.00864 | train_mae: 0.06846 |  0:04:24s\n"
     ]
    },
    {
     "name": "stdout",
     "output_type": "stream",
     "text": [
      "epoch 227| loss: 0.03262 | train_mse: 0.01173 | train_mae: 0.07932 |  0:04:24s\n"
     ]
    },
    {
     "name": "stdout",
     "output_type": "stream",
     "text": [
      "epoch 228| loss: 0.0353  | train_mse: 0.01613 | train_mae: 0.10559 |  0:04:25s\n"
     ]
    },
    {
     "name": "stdout",
     "output_type": "stream",
     "text": [
      "epoch 229| loss: 0.02285 | train_mse: 0.00874 | train_mae: 0.07291 |  0:04:25s\n"
     ]
    },
    {
     "name": "stdout",
     "output_type": "stream",
     "text": [
      "epoch 230| loss: 0.02779 | train_mse: 0.01139 | train_mae: 0.08169 |  0:04:26s\n"
     ]
    },
    {
     "name": "stdout",
     "output_type": "stream",
     "text": [
      "epoch 231| loss: 0.02324 | train_mse: 0.01405 | train_mae: 0.09662 |  0:04:27s\n"
     ]
    },
    {
     "name": "stdout",
     "output_type": "stream",
     "text": [
      "epoch 232| loss: 0.03147 | train_mse: 0.00825 | train_mae: 0.07275 |  0:04:27s\n"
     ]
    },
    {
     "name": "stdout",
     "output_type": "stream",
     "text": [
      "epoch 233| loss: 0.01861 | train_mse: 0.00628 | train_mae: 0.0616  |  0:04:29s\n"
     ]
    },
    {
     "name": "stdout",
     "output_type": "stream",
     "text": [
      "epoch 234| loss: 0.02843 | train_mse: 0.00627 | train_mae: 0.06378 |  0:04:30s\n"
     ]
    },
    {
     "name": "stdout",
     "output_type": "stream",
     "text": [
      "epoch 235| loss: 0.02195 | train_mse: 0.00708 | train_mae: 0.06776 |  0:04:31s\n"
     ]
    },
    {
     "name": "stdout",
     "output_type": "stream",
     "text": [
      "epoch 236| loss: 0.01824 | train_mse: 0.01345 | train_mae: 0.09214 |  0:04:32s\n"
     ]
    },
    {
     "name": "stdout",
     "output_type": "stream",
     "text": [
      "epoch 237| loss: 0.02135 | train_mse: 0.00624 | train_mae: 0.05981 |  0:04:33s\n"
     ]
    },
    {
     "name": "stdout",
     "output_type": "stream",
     "text": [
      "epoch 238| loss: 0.01911 | train_mse: 0.00724 | train_mae: 0.06899 |  0:04:34s\n"
     ]
    },
    {
     "name": "stdout",
     "output_type": "stream",
     "text": [
      "epoch 239| loss: 0.02645 | train_mse: 0.01309 | train_mae: 0.08105 |  0:04:34s\n"
     ]
    },
    {
     "name": "stdout",
     "output_type": "stream",
     "text": [
      "epoch 240| loss: 0.03485 | train_mse: 0.0122  | train_mae: 0.08226 |  0:04:35s\n"
     ]
    },
    {
     "name": "stdout",
     "output_type": "stream",
     "text": [
      "epoch 241| loss: 0.02297 | train_mse: 0.00723 | train_mae: 0.06618 |  0:04:36s\n"
     ]
    },
    {
     "name": "stdout",
     "output_type": "stream",
     "text": [
      "epoch 242| loss: 0.01901 | train_mse: 0.00568 | train_mae: 0.06147 |  0:04:37s\n"
     ]
    },
    {
     "name": "stdout",
     "output_type": "stream",
     "text": [
      "epoch 243| loss: 0.0178  | train_mse: 0.00674 | train_mae: 0.06474 |  0:04:38s\n"
     ]
    },
    {
     "name": "stdout",
     "output_type": "stream",
     "text": [
      "epoch 244| loss: 0.01626 | train_mse: 0.00872 | train_mae: 0.06994 |  0:04:40s\n"
     ]
    },
    {
     "name": "stdout",
     "output_type": "stream",
     "text": [
      "epoch 245| loss: 0.0242  | train_mse: 0.00717 | train_mae: 0.06746 |  0:04:41s\n"
     ]
    },
    {
     "name": "stdout",
     "output_type": "stream",
     "text": [
      "epoch 246| loss: 0.02386 | train_mse: 0.00723 | train_mae: 0.06619 |  0:04:42s\n"
     ]
    },
    {
     "name": "stdout",
     "output_type": "stream",
     "text": [
      "epoch 247| loss: 0.02172 | train_mse: 0.00778 | train_mae: 0.06964 |  0:04:43s\n"
     ]
    },
    {
     "name": "stdout",
     "output_type": "stream",
     "text": [
      "epoch 248| loss: 0.02121 | train_mse: 0.00507 | train_mae: 0.05595 |  0:04:45s\n"
     ]
    },
    {
     "name": "stdout",
     "output_type": "stream",
     "text": [
      "epoch 249| loss: 0.03189 | train_mse: 0.02333 | train_mae: 0.1165  |  0:04:46s\n"
     ]
    },
    {
     "name": "stdout",
     "output_type": "stream",
     "text": [
      "epoch 250| loss: 0.03767 | train_mse: 0.01491 | train_mae: 0.09536 |  0:04:47s\n"
     ]
    },
    {
     "name": "stdout",
     "output_type": "stream",
     "text": [
      "epoch 251| loss: 0.02454 | train_mse: 0.00856 | train_mae: 0.07275 |  0:04:48s\n"
     ]
    },
    {
     "name": "stdout",
     "output_type": "stream",
     "text": [
      "epoch 252| loss: 0.02436 | train_mse: 0.00883 | train_mae: 0.07252 |  0:04:49s\n"
     ]
    },
    {
     "name": "stdout",
     "output_type": "stream",
     "text": [
      "epoch 253| loss: 0.01907 | train_mse: 0.01379 | train_mae: 0.09057 |  0:04:49s\n"
     ]
    },
    {
     "name": "stdout",
     "output_type": "stream",
     "text": [
      "epoch 254| loss: 0.02207 | train_mse: 0.00849 | train_mae: 0.06939 |  0:04:50s\n"
     ]
    },
    {
     "name": "stdout",
     "output_type": "stream",
     "text": [
      "epoch 255| loss: 0.02746 | train_mse: 0.00626 | train_mae: 0.0607  |  0:04:51s\n",
      "\n",
      "Early stopping occurred at epoch 255 with best_epoch = 205 and best_train_mae = 0.05468\n",
      "Best weights from best epoch are automatically used!\n"
     ]
    },
    {
     "name": "stdout",
     "output_type": "stream",
     "text": [
      "BEST VALID SCORE FOR dataset : 0.054683411885417234\n",
      "FINAL TEST SCORE FOR dataset: 0.054425906908208165\n",
      "{'loss': [1.0161129201273964, 0.2880002052950937, 0.2363467908643356, 0.20064929564535036, 0.1725990454323517, 0.1537567517365229, 0.12974140174225793, 0.11015127264327257, 0.11518238310122723, 0.1050032681212169, 0.09466681709507001, 0.10160003432621785, 0.10455163614369371, 0.1079932739563796, 0.08332021170408017, 0.08875525754903738, 0.09770549542546661, 0.09573694490842788, 0.09952034196946831, 0.07341151730633715, 0.07803517628570333, 0.0719068281425327, 0.06165935472867388, 0.06791019604726413, 0.0566466252656247, 0.07915581541942851, 0.06711727582185198, 0.06994748110685753, 0.058876383188104786, 0.05816188998253415, 0.07579983528157398, 0.06905597069752721, 0.07748811127745367, 0.058385918796644926, 0.04404899385736509, 0.051030065512424186, 0.06486888059964009, 0.06167277239918321, 0.04787141963208537, 0.04876331953447106, 0.05043401421087184, 0.05102189763749461, 0.04954399187906557, 0.0557230405193975, 0.050534322154055976, 0.06142786232578638, 0.0654490999513418, 0.03875570463969187, 0.046997651130155166, 0.06890581625874734, 0.0472574454371238, 0.0406766882839731, 0.04558229849276403, 0.04390422222037657, 0.03894983270851719, 0.03541294541149264, 0.041889595407810586, 0.04673037468076529, 0.03877899424455064, 0.058653914967266664, 0.044446645468376365, 0.04070593877801678, 0.05091244370618938, 0.05247221040123837, 0.048611637750937804, 0.03638555391021194, 0.04591726635488703, 0.04003523335054954, 0.04472641428441101, 0.037461799620999575, 0.03237595319359621, 0.0375735863606394, 0.038983944233155016, 0.024877506038265045, 0.026469339765244276, 0.03332287984436032, 0.04686095012224458, 0.032180772348024946, 0.030485686727766106, 0.02898225947874765, 0.02516376421292364, 0.025570271360757686, 0.026283233629764098, 0.04426230417400696, 0.035893171370417754, 0.04043765914556646, 0.029280192227821786, 0.03134999835578549, 0.0343535282809882, 0.026512859455925634, 0.028250509490795942, 0.02648870079059166, 0.02267334701232491, 0.03201782771352836, 0.0472116259682062, 0.03461387086089348, 0.03149575441590349, 0.03757678942469704, 0.027841428155231166, 0.03406811653596959, 0.040181683746533595, 0.03648310758974342, 0.0329359193189913, 0.03228229439608049, 0.04101750814031312, 0.04291041321591368, 0.04149469276981167, 0.03432082144258368, 0.026862883752254398, 0.025213048365634504, 0.026939164871404537, 0.035732277635642684, 0.029311205657860356, 0.043992596602595205, 0.039879097272596455, 0.029428581406850767, 0.030161132762991257, 0.030398605069819024, 0.03874029840436743, 0.025999662736339756, 0.032173258255475505, 0.02844451913907396, 0.0273448512783268, 0.03573735720851134, 0.03498871322927529, 0.030168659693837554, 0.02562430200048689, 0.025746801121809583, 0.027321891452668157, 0.020398565656004973, 0.025903012737000804, 0.023230546120711956, 0.02995040367208785, 0.02370338202590663, 0.031067467619231157, 0.030534452597947386, 0.03237919577364036, 0.026465804112850648, 0.03459532129963563, 0.033911422914324835, 0.02580320910347401, 0.03207311386102963, 0.024873565469871513, 0.01951327674843201, 0.027904485598060906, 0.020566191354384252, 0.026255262609122244, 0.023883317066326203, 0.020450637824469358, 0.025389167598482063, 0.03146050149629481, 0.027033858407737765, 0.022834896034157625, 0.027902857015206683, 0.026578730985473732, 0.02476668132147494, 0.023193357748977524, 0.01997435954171885, 0.025251849199545113, 0.03130308269289495, 0.025779074537249265, 0.018646590096166156, 0.024622411078831077, 0.023691126548894454, 0.019345320621657062, 0.02175966016826878, 0.024729073435941818, 0.031812907090404526, 0.03465297948023007, 0.04835220770940719, 0.033180964789095456, 0.020908403031358113, 0.020049978702872118, 0.022220551991889843, 0.03287257297807874, 0.023525907133223566, 0.027515437174891803, 0.023852092969301082, 0.022257212173278633, 0.023720806773982528, 0.02083722120970002, 0.023817392047919356, 0.02490044011452299, 0.017923059748904326, 0.03996892885004659, 0.020979550500257783, 0.02905464395638009, 0.021428609115195972, 0.020763586466397834, 0.02312733019407875, 0.021448715392754985, 0.020881807352704413, 0.02577541919018625, 0.019729820174143833, 0.01797913912841474, 0.02493336806468156, 0.02307436088591523, 0.01981942591042006, 0.018548146181463807, 0.01814507330230859, 0.017843155281357347, 0.024876042715113015, 0.03181685347122167, 0.03758071076598152, 0.022078234380784562, 0.018133648334477545, 0.021737580057172898, 0.019819701333144975, 0.0225777590847559, 0.021382340924747605, 0.01870105390100215, 0.023291945081289116, 0.028042928597826134, 0.017290523451683186, 0.01837727709002914, 0.024861191912077925, 0.02243135094715446, 0.0210303541649048, 0.027024212930387898, 0.026394390443443088, 0.022791669986147057, 0.02233720346314511, 0.020133568137787064, 0.020978039925377997, 0.026936454473955235, 0.030886818876289777, 0.025413778346602224, 0.03262385361940154, 0.03530243344920467, 0.0228528547607338, 0.02778583325761149, 0.023236024505928984, 0.031470224773966333, 0.018605214255446333, 0.028428008591798695, 0.02194524180229013, 0.018238287261332285, 0.02135007597918619, 0.019114368828771947, 0.026450571291609774, 0.034850280665176696, 0.022970262029077797, 0.019007270834150845, 0.017798962933087192, 0.01626348515505317, 0.024202532483816923, 0.02385521365833205, 0.0217249932234761, 0.021212024923644546, 0.03189068719599068, 0.037670480748729515, 0.02454482776140157, 0.024355860069054346, 0.01906931525284382, 0.022067564148273842, 0.027458688796343167], 'lr': [0.01, 0.01, 0.01, 0.01, 0.01, 0.01, 0.01, 0.01, 0.01, 0.01, 0.01, 0.01, 0.01, 0.01, 0.01, 0.01, 0.01, 0.01, 0.01, 0.01, 0.01, 0.01, 0.01, 0.01, 0.01, 0.01, 0.01, 0.01, 0.01, 0.01, 0.01, 0.01, 0.01, 0.01, 0.01, 0.01, 0.01, 0.01, 0.01, 0.01, 0.01, 0.01, 0.01, 0.01, 0.01, 0.01, 0.01, 0.01, 0.01, 0.01, 0.01, 0.01, 0.01, 0.01, 0.01, 0.01, 0.01, 0.01, 0.01, 0.01, 0.01, 0.01, 0.01, 0.01, 0.01, 0.01, 0.01, 0.01, 0.01, 0.01, 0.01, 0.01, 0.01, 0.01, 0.01, 0.01, 0.01, 0.01, 0.01, 0.01, 0.01, 0.01, 0.01, 0.01, 0.01, 0.01, 0.01, 0.01, 0.01, 0.01, 0.01, 0.01, 0.01, 0.01, 0.01, 0.01, 0.01, 0.01, 0.01, 0.01, 0.01, 0.01, 0.01, 0.01, 0.01, 0.01, 0.01, 0.01, 0.01, 0.01, 0.01, 0.01, 0.01, 0.01, 0.01, 0.01, 0.01, 0.01, 0.01, 0.01, 0.01, 0.01, 0.01, 0.01, 0.01, 0.01, 0.01, 0.01, 0.01, 0.01, 0.01, 0.01, 0.01, 0.01, 0.01, 0.01, 0.01, 0.01, 0.01, 0.01, 0.01, 0.01, 0.01, 0.01, 0.01, 0.01, 0.01, 0.01, 0.01, 0.01, 0.01, 0.01, 0.01, 0.01, 0.01, 0.01, 0.01, 0.01, 0.01, 0.01, 0.01, 0.01, 0.01, 0.01, 0.01, 0.01, 0.01, 0.01, 0.01, 0.01, 0.01, 0.01, 0.01, 0.01, 0.01, 0.01, 0.01, 0.01, 0.01, 0.01, 0.01, 0.01, 0.01, 0.01, 0.01, 0.01, 0.01, 0.01, 0.01, 0.01, 0.01, 0.01, 0.01, 0.01, 0.01, 0.01, 0.01, 0.01, 0.01, 0.01, 0.01, 0.01, 0.01, 0.01, 0.01, 0.01, 0.01, 0.01, 0.01, 0.01, 0.01, 0.01, 0.01, 0.01, 0.01, 0.01, 0.01, 0.01, 0.01, 0.01, 0.01, 0.01, 0.01, 0.01, 0.01, 0.01, 0.01, 0.01, 0.01, 0.01, 0.01, 0.01, 0.01, 0.01, 0.01, 0.01, 0.01, 0.01, 0.01, 0.01, 0.01, 0.01, 0.01, 0.01, 0.01, 0.01, 0.01, 0.01, 0.01, 0.01, 0.01, 0.01, 0.01, 0.01, 0.01, 0.01], 'train_mse': [0.760228444585711, 0.3768772837711511, 0.22508651072538055, 0.1712030734761895, 0.12502752680534865, 0.10653591097282919, 0.10080809786140708, 0.09719471478730016, 0.08498462652621668, 0.07217918181011938, 0.0826745933688259, 0.07554889916685259, 0.07060316977671743, 0.06203318101557421, 0.0451586840998056, 0.07032514667832607, 0.056786370018668375, 0.05334907783483921, 0.03690130556243503, 0.041778941947741254, 0.03872535190654119, 0.04976558515723971, 0.04090671186762196, 0.04168854386452794, 0.03164533965823661, 0.04141762786339678, 0.031012474713457864, 0.026182498368742386, 0.029624564103424577, 0.02261088859540953, 0.02394698810434533, 0.05566569741810258, 0.03310565036756566, 0.02507981330769907, 0.029866039031511322, 0.02991188803985704, 0.030876506887370044, 0.023661676949464354, 0.03069327192386613, 0.02252513422690143, 0.020799961401123956, 0.03306869739722655, 0.03125622828870877, 0.02500717116428811, 0.03857761392113613, 0.03809325790926444, 0.019909614469337117, 0.01887621474665394, 0.02305261896797677, 0.02810450440080397, 0.028650432884644885, 0.01920964713023344, 0.023162726237999563, 0.025906391644826242, 0.018607724667159858, 0.018730727838904164, 0.01750186780348433, 0.019979584307941882, 0.017694929488966123, 0.030483063805940756, 0.020930079296590635, 0.016242289693852188, 0.019952063957224573, 0.024870786804773098, 0.018058306033969823, 0.02480562469082174, 0.021216054806389436, 0.014766762518512123, 0.020683540055553548, 0.023984581793333397, 0.014582235949609824, 0.015346504075463537, 0.01336361878839675, 0.012094243933770508, 0.013022168767221723, 0.011821252022627746, 0.011355209444258094, 0.014609633691761575, 0.019079617350887916, 0.01405962327292666, 0.00977207628694229, 0.00867219002488427, 0.010620981851835186, 0.018017154487714897, 0.029643682148963485, 0.013419010950046488, 0.011861240424896814, 0.0300687263345618, 0.02060295952327183, 0.014519551707019213, 0.013341699796218949, 0.011394866659881769, 0.00967210229494062, 0.01210551747854271, 0.030085314314433106, 0.013084236638599148, 0.015779644540456474, 0.014915666315116136, 0.016295270752342644, 0.012663413310642767, 0.02705442785411431, 0.011886100698323895, 0.019867091270384718, 0.012606979079835254, 0.02033563486860153, 0.01990532791164843, 0.015424619695675679, 0.02511636009821233, 0.006981954777780539, 0.00983191546037359, 0.013186404866920394, 0.012380236561224627, 0.02633216883785624, 0.023493094497484695, 0.011417555215707578, 0.017133564839612862, 0.012311591677015926, 0.01150553264265035, 0.009538773964620648, 0.015999246705426455, 0.011659757094854612, 0.009563815320664602, 0.013909344294929968, 0.011717823250354935, 0.021270580299815166, 0.011472951546906208, 0.01425845894157442, 0.012202391020142487, 0.010406304385310155, 0.011530250110805723, 0.020131529367302857, 0.008953126137680019, 0.009928455234349815, 0.01064708790054731, 0.012713573930729652, 0.013560197294360468, 0.013160732692822889, 0.010759960081182518, 0.011886355093088535, 0.010545948020126206, 0.011449234829928656, 0.011315285931129081, 0.010448597345929263, 0.0067235394956815155, 0.008925226007845434, 0.006795549030594916, 0.010125279174347156, 0.006890248043728619, 0.012285097383921166, 0.009731130501170644, 0.023806843661563454, 0.010747597766916016, 0.007312576996731605, 0.009250026284142461, 0.011836499513614611, 0.011132623323019064, 0.008072907992594585, 0.020244245492080093, 0.01022231628223759, 0.009880196412026459, 0.011950201769852207, 0.015712206906167238, 0.0131450526161954, 0.011177001919883729, 0.008786893586407269, 0.008750288799417418, 0.032250050735855955, 0.02943492287221741, 0.024850007501136202, 0.014987901234233604, 0.012142231848538488, 0.010842267836971627, 0.013459468874336458, 0.012106111082001806, 0.012251955392527764, 0.009503806462302344, 0.01000162542928771, 0.010368193512389207, 0.00969186242189072, 0.012688715132941814, 0.006464805182696384, 0.009176875414516894, 0.0062366967579785505, 0.010292192302318095, 0.012483422311829657, 0.011552435230429117, 0.015778930409304757, 0.011328711126379383, 0.013633043359265247, 0.013953651028057552, 0.012345822530278126, 0.006736840275382505, 0.010466358570484917, 0.011897384361675676, 0.009278011087894828, 0.010562533749668954, 0.011730959647211365, 0.007017449117317218, 0.011623334747337054, 0.012266740034512974, 0.008737643222882513, 0.013861603947835805, 0.023461969301624686, 0.009558720002445556, 0.011933875045853425, 0.005613859824482859, 0.0065870961892333, 0.010719741060006522, 0.007655441280062025, 0.0073766548281757795, 0.0056948243580873595, 0.008304891084352796, 0.013292149029044912, 0.0054294354867150466, 0.006360894042876232, 0.01329863430872762, 0.024425585626249115, 0.008725383384285385, 0.010952943351096252, 0.04158220054597802, 0.021371345558020803, 0.005880912694413907, 0.009381476538636618, 0.008713013219648897, 0.015316927279485972, 0.005398841695508876, 0.008638969601446443, 0.011730483969361823, 0.01613021241259811, 0.00874105007362583, 0.011392519879470783, 0.014050038902336763, 0.008251364772321298, 0.006279262891232799, 0.006267561830569386, 0.007082091722912873, 0.013448981826540262, 0.006238705612812431, 0.007239418504315442, 0.01309119195489484, 0.012203423857141047, 0.007226145549487865, 0.00567852918453766, 0.006744654107856118, 0.00872460877998372, 0.007167417486703908, 0.007228423832618963, 0.0077787787186286515, 0.005065423534103559, 0.023330106417299316, 0.014906887205674593, 0.008559361879629699, 0.008834718411742055, 0.013788995891057875, 0.008488593521296998, 0.006257128512714526], 'train_mae': [0.7231687800458868, 0.49220041324004776, 0.3730782171385635, 0.3320317952263423, 0.2762111294699179, 0.2644037141789219, 0.25935893442803143, 0.25019319932542056, 0.22595889354798768, 0.20719066779115272, 0.226922194003447, 0.207962587340182, 0.20566974333951873, 0.19647170831704847, 0.16133737158121356, 0.20373681167953323, 0.1751921265494054, 0.18278526824299288, 0.15401513882024612, 0.16340753438979363, 0.15928101374281603, 0.18493732710984004, 0.15979760794095904, 0.15883142628116326, 0.14327249046122617, 0.16652724015733114, 0.139308527885877, 0.12691044078236347, 0.14265901568533396, 0.12222477440886904, 0.1272138669208623, 0.1792262149610594, 0.14235461523200638, 0.12299575105438657, 0.1448911009077986, 0.1409083621007576, 0.1444554129342503, 0.12242541288993616, 0.139034392901218, 0.12272919327570167, 0.11093731748576142, 0.13698519085084201, 0.1371826064753681, 0.12315847239688513, 0.15343673698542876, 0.14474263560465472, 0.10998766935220564, 0.10585922235160282, 0.11914085813472049, 0.13707786075705056, 0.1292347217504319, 0.10983119930176564, 0.11677649914837662, 0.13274122192418275, 0.11025189071870961, 0.11285439663079139, 0.10918757355843618, 0.11350953288438596, 0.10857588344870774, 0.14048013480758273, 0.11523571625206093, 0.09675732451592373, 0.11259225122545269, 0.12750189424717615, 0.10962734039147493, 0.1274463407074243, 0.1186647916686088, 0.09436899190310136, 0.12096745797630927, 0.12588535328320846, 0.09945852063992407, 0.10400005408171752, 0.09425950655342251, 0.09318078786370751, 0.09148933002341265, 0.08791582307190417, 0.08793720105990584, 0.0931998191715448, 0.11246754724538802, 0.08769207755747124, 0.07663069074348815, 0.07297140764797003, 0.08259220760512147, 0.10642583858724884, 0.1417083312297207, 0.08660926357687158, 0.08370320987042562, 0.13688591736421143, 0.11307296789782202, 0.09183559150619779, 0.08917612634880061, 0.08221123769139824, 0.07489383909869526, 0.0856395254160435, 0.14568801687848495, 0.08858971035986236, 0.09100244506339793, 0.0949780810214728, 0.09955116599386299, 0.08852962417212044, 0.1212554933772745, 0.08145955957081262, 0.10859123607475848, 0.08401867868352265, 0.10900945926239021, 0.11313299659082333, 0.0957710687892202, 0.11758796325228578, 0.06507138288806026, 0.07659517998433706, 0.0891965387351907, 0.08910466597039508, 0.13659697317257666, 0.11379211558502696, 0.08501091864648039, 0.10336439128424553, 0.08412315655662221, 0.08238740420040071, 0.07292525630759904, 0.09834096662272748, 0.0804340434553632, 0.07663578853443503, 0.08894413176864602, 0.08500930153650486, 0.11969875398345452, 0.08125506187519856, 0.0907236887363855, 0.08613472911171716, 0.07522336232317206, 0.08160675656380745, 0.10801582406791466, 0.07008184442355504, 0.08097047598040588, 0.08135011803418721, 0.0885511074575699, 0.08955533704207684, 0.09184416125213019, 0.08262433617345588, 0.0882771555993592, 0.07905285347192839, 0.08437664527327433, 0.0860614736945954, 0.07436637597198914, 0.06372800125554294, 0.07572866420540883, 0.06332136970068651, 0.07189537093148647, 0.06419256179046666, 0.07978187453078972, 0.0740168058922556, 0.11299990801246228, 0.07942998478970839, 0.06472961755465906, 0.07557787234603358, 0.083001165587134, 0.08239393592302299, 0.06922881015620756, 0.11142825641775528, 0.0772772774909734, 0.07414984567200014, 0.08730413129602362, 0.09587454418808418, 0.09276495330916484, 0.08134667313938401, 0.07375591797797314, 0.07424590612800425, 0.12538367476775616, 0.13559008398294117, 0.12042347383686315, 0.09813772839849672, 0.08616849049401352, 0.08437151284528571, 0.09383997137170329, 0.08578385096757693, 0.08664978919013959, 0.07758768990932019, 0.07607999825067323, 0.07765967469646365, 0.07627665610064403, 0.08215261951233221, 0.062378815476495535, 0.06943459283679818, 0.06108905972624025, 0.07978598156260838, 0.09430281183961085, 0.08683032503725635, 0.09637515667516247, 0.08190854834437984, 0.09189069000864694, 0.08713071818385475, 0.09277376530697957, 0.06287892964921842, 0.07778537109466803, 0.08946116417505408, 0.0755554681874487, 0.08251967531128333, 0.08297067459488795, 0.06461289235005586, 0.08719875821833906, 0.08390392772149233, 0.07356372533268248, 0.0895104674736041, 0.12179490168496013, 0.0700820791597882, 0.07948521490761862, 0.054683411885417234, 0.06165234427726649, 0.0807388902126957, 0.06902618942863714, 0.0647759097215043, 0.05570973845216728, 0.06960876925261512, 0.09389865568718514, 0.05539883223002839, 0.06279146811742872, 0.08241641975411307, 0.12822744261871025, 0.0676199806607578, 0.08112503534269948, 0.165516750678528, 0.12211872129462205, 0.059230374557360396, 0.08076254692320327, 0.07416966213887483, 0.09926639557074618, 0.05656680394836939, 0.06845813362273699, 0.07932472449081907, 0.10558757741115625, 0.07290509529445857, 0.08168610326196649, 0.09662073358731109, 0.07274523621071818, 0.06160216380253398, 0.06378484021216728, 0.06776008333074861, 0.09214109761973366, 0.05980775520350405, 0.06899332092788377, 0.08105436738102466, 0.08226411243613302, 0.06618046540446092, 0.061472969426267995, 0.0647402621325397, 0.0699432063378084, 0.06745893489364214, 0.0661886601622544, 0.06963866432750326, 0.055947921006101874, 0.11650025886543332, 0.09536094038258237, 0.07274579190065038, 0.0725232569969369, 0.09056802208198247, 0.06939216996961363, 0.06069578900244857]}\n"
     ]
    },
    {
     "data": {
      "application/scrapbook.scrap.json+json": {
       "data": 0.054425906908208165,
       "encoder": "json",
       "name": "TabNet MAE",
       "version": 1
      }
     },
     "metadata": {
      "scrapbook": {
       "data": true,
       "display": false,
       "name": "TabNet MAE"
      }
     },
     "output_type": "display_data"
    },
    {
     "name": "stdout",
     "output_type": "stream",
     "text": [
      "TabNet MAE 0.054425906908208165\n"
     ]
    },
    {
     "data": {
      "image/png": "[encoded data removed]",
      "text/plain": [
       "<Figure size 432x288 with 1 Axes>"
      ]
     },
     "metadata": {
      "needs_background": "light"
     },
     "output_type": "display_data"
    }
   ],
   "source": [
    "lr = 0.01\n",
    "\n",
    "y_train = np.reshape(y_train, (-1, 1))\n",
    "y_test = np.reshape(y_test, (-1, 1))\n",
    "\n",
    "device = torch.device('cuda' if torch.cuda.is_available() else 'cpu')\n",
    "mae_tab= baselineModels.tabnetreg(X_train,y_train,X_test,y_test,batch_size,n_features,n_target,n_epochs, lr)\n",
    "sb.glue(\"TabNet MAE\",mae_tab)\n",
    "print(\"TabNet MAE\",mae_tab)"
   ]
  }
 ],
 "metadata": {
  "kernelspec": {
   "display_name": "Python 3.7.3 64-bit",
   "language": "python",
   "name": "python3"
  },
  "language_info": {
   "codemirror_mode": {
    "name": "ipython",
    "version": 3
   },
   "file_extension": ".py",
   "mimetype": "text/x-python",
   "name": "python",
   "nbconvert_exporter": "python",
   "pygments_lexer": "ipython3",
   "version": "3.8.13"
  },
  "papermill": {
   "default_parameters": {},
   "duration": 319.065915,
   "end_time": "2022-07-24T10:26:44.257457",
   "environment_variables": {},
   "exception": null,
   "input_path": "BaselineModels.ipynb",
   "output_path": "./BaseLine_Model_Output/BaselineModels_output_2.ipynb",
   "parameters": {},
   "start_time": "2022-07-24T10:21:25.191542",
   "version": "2.3.3"
  },
  "vscode": {
   "interpreter": {
    "hash": "aee8b7b246df8f9039afb4144a1f6fd8d2ca17a180786b69acc140d282b71a49"
   }
  }
 },
 "nbformat": 4,
 "nbformat_minor": 5
}