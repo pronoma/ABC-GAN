{
 "cells": [
  {
   "cell_type": "markdown",
   "id": "dbe3fb30",
   "metadata": {
    "papermill": {
     "duration": 0.007294,
     "end_time": "2022-07-24T10:34:32.075612",
     "exception": false,
     "start_time": "2022-07-24T10:34:32.068318",
     "status": "completed"
    },
    "tags": []
   },
   "source": [
    "## Import Libraries "
   ]
  },
  {
   "cell_type": "code",
   "execution_count": 1,
   "id": "049738be",
   "metadata": {
    "execution": {
     "iopub.execute_input": "2022-07-24T10:34:32.086202Z",
     "iopub.status.busy": "2022-07-24T10:34:32.085554Z",
     "iopub.status.idle": "2022-07-24T10:34:32.100745Z",
     "shell.execute_reply": "2022-07-24T10:34:32.099243Z"
    },
    "papermill": {
     "duration": 0.02695,
     "end_time": "2022-07-24T10:34:32.107277",
     "exception": false,
     "start_time": "2022-07-24T10:34:32.080327",
     "status": "completed"
    },
    "tags": []
   },
   "outputs": [],
   "source": [
    "import warnings\n",
    "import sys\n",
    "sys.path.insert(0, '../../src')\n",
    "warnings.filterwarnings('ignore')"
   ]
  },
  {
   "cell_type": "code",
   "execution_count": 2,
   "id": "5adf5511",
   "metadata": {
    "execution": {
     "iopub.execute_input": "2022-07-24T10:34:32.115727Z",
     "iopub.status.busy": "2022-07-24T10:34:32.115385Z",
     "iopub.status.idle": "2022-07-24T10:34:42.082523Z",
     "shell.execute_reply": "2022-07-24T10:34:42.081518Z"
    },
    "papermill": {
     "duration": 9.975024,
     "end_time": "2022-07-24T10:34:42.085667",
     "exception": false,
     "start_time": "2022-07-24T10:34:32.110643",
     "status": "completed"
    },
    "tags": []
   },
   "outputs": [],
   "source": [
    "import statsModel\n",
    "import scrapbook as sb \n",
    "import torch \n",
    "import statsModel\n",
    "import baselineModels\n",
    "import energyefficiencyDataset\n",
    "import dataset \n",
    "from torch.utils.data import random_split \n",
    "from sklearn.model_selection import train_test_split\n",
    "import numpy as np\n",
    "from sklearn.metrics import mean_squared_error,mean_absolute_error "
   ]
  },
  {
   "cell_type": "markdown",
   "id": "2e9b4547",
   "metadata": {
    "papermill": {
     "duration": 0.003632,
     "end_time": "2022-07-24T10:34:42.135834",
     "exception": false,
     "start_time": "2022-07-24T10:34:42.132202",
     "status": "completed"
    },
    "tags": []
   },
   "source": [
    "## Import Dataset \n"
   ]
  },
  {
   "cell_type": "code",
   "execution_count": 3,
   "id": "483a3474",
   "metadata": {
    "execution": {
     "iopub.execute_input": "2022-07-24T10:34:42.146507Z",
     "iopub.status.busy": "2022-07-24T10:34:42.145848Z",
     "iopub.status.idle": "2022-07-24T10:34:42.837755Z",
     "shell.execute_reply": "2022-07-24T10:34:42.836604Z"
    },
    "papermill": {
     "duration": 0.70196,
     "end_time": "2022-07-24T10:34:42.841215",
     "exception": false,
     "start_time": "2022-07-24T10:34:42.139255",
     "status": "completed"
    },
    "tags": []
   },
   "outputs": [
    {
     "name": "stdout",
     "output_type": "stream",
     "text": [
      "     X1     X2     X3      X4   X5  X6   X7  X8     Y1     Y2\n",
      "0  0.98  514.5  294.0  110.25  7.0   2  0.0   0  15.55  21.33\n",
      "1  0.98  514.5  294.0  110.25  7.0   3  0.0   0  15.55  21.33\n",
      "2  0.98  514.5  294.0  110.25  7.0   4  0.0   0  15.55  21.33\n",
      "3  0.98  514.5  294.0  110.25  7.0   5  0.0   0  15.55  21.33\n",
      "4  0.90  563.5  318.5  122.50  7.0   2  0.0   0  20.84  28.28\n"
     ]
    }
   ],
   "source": [
    "n_features = 13\n",
    "n_samples= 506\n",
    "n_target = 1 \n",
    "X,Y = energyefficiencyDataset.energy_data()"
   ]
  },
  {
   "cell_type": "code",
   "execution_count": 4,
   "id": "8b4c2716",
   "metadata": {
    "execution": {
     "iopub.execute_input": "2022-07-24T10:34:42.851915Z",
     "iopub.status.busy": "2022-07-24T10:34:42.851131Z",
     "iopub.status.idle": "2022-07-24T10:34:42.858262Z",
     "shell.execute_reply": "2022-07-24T10:34:42.856594Z"
    },
    "papermill": {
     "duration": 0.015814,
     "end_time": "2022-07-24T10:34:42.861676",
     "exception": false,
     "start_time": "2022-07-24T10:34:42.845862",
     "status": "completed"
    },
    "tags": []
   },
   "outputs": [],
   "source": [
    "# Train test split for dataset \n",
    "real_dataset = dataset.CustomDataset(X,Y)\n",
    "X_train, X_test, y_train, y_test = train_test_split(X, Y, test_size=0.2)"
   ]
  },
  {
   "cell_type": "markdown",
   "id": "9384b96b",
   "metadata": {
    "papermill": {
     "duration": 0.003705,
     "end_time": "2022-07-24T10:34:42.868946",
     "exception": false,
     "start_time": "2022-07-24T10:34:42.865241",
     "status": "completed"
    },
    "tags": []
   },
   "source": [
    "## Stats Model \n",
    "\n"
   ]
  },
  {
   "cell_type": "code",
   "execution_count": 5,
   "id": "42a5ae3a",
   "metadata": {
    "execution": {
     "iopub.execute_input": "2022-07-24T10:34:42.878899Z",
     "iopub.status.busy": "2022-07-24T10:34:42.878544Z",
     "iopub.status.idle": "2022-07-24T10:34:43.349574Z",
     "shell.execute_reply": "2022-07-24T10:34:43.348322Z"
    },
    "papermill": {
     "duration": 0.480356,
     "end_time": "2022-07-24T10:34:43.353376",
     "exception": false,
     "start_time": "2022-07-24T10:34:42.873020",
     "status": "completed"
    },
    "tags": []
   },
   "outputs": [
    {
     "name": "stderr",
     "output_type": "stream",
     "text": [
      "No artists with labels found to put in legend.  Note that artists whose label start with an underscore are ignored when legend() is called with no argument.\n"
     ]
    },
    {
     "name": "stdout",
     "output_type": "stream",
     "text": [
      "                                 OLS Regression Results                                \n",
      "=======================================================================================\n",
      "Dep. Variable:                      y   R-squared (uncentered):                   0.916\n",
      "Model:                            OLS   Adj. R-squared (uncentered):              0.915\n",
      "Method:                 Least Squares   F-statistic:                              943.4\n",
      "Date:                Sun, 24 Jul 2022   Prob (F-statistic):                   2.49e-321\n",
      "Time:                        16:04:42   Log-Likelihood:                         -111.78\n",
      "No. Observations:                 614   AIC:                                      237.6\n",
      "Df Residuals:                     607   BIC:                                      268.5\n",
      "Df Model:                           7                                                  \n",
      "Covariance Type:            nonrobust                                                  \n",
      "==============================================================================\n",
      "                 coef    std err          t      P>|t|      [0.025      0.975]\n",
      "------------------------------------------------------------------------------\n",
      "x1            -0.6947      0.123     -5.644      0.000      -0.936      -0.453\n",
      "x2            -0.4025      0.091     -4.425      0.000      -0.581      -0.224\n",
      "x3             0.0835      0.024      3.519      0.000       0.037       0.130\n",
      "x4            -0.4328      0.082     -5.297      0.000      -0.593      -0.272\n",
      "x5             0.6720      0.066     10.156      0.000       0.542       0.802\n",
      "x6             0.0013      0.012      0.106      0.916      -0.022       0.025\n",
      "x7             0.2627      0.012     21.935      0.000       0.239       0.286\n",
      "x8             0.0343      0.012      2.849      0.005       0.011       0.058\n",
      "==============================================================================\n",
      "Omnibus:                       15.717   Durbin-Watson:                   1.975\n",
      "Prob(Omnibus):                  0.000   Jarque-Bera (JB):               27.345\n",
      "Skew:                           0.151   Prob(JB):                     1.15e-06\n",
      "Kurtosis:                       3.989   Cond. No.                     3.12e+15\n",
      "==============================================================================\n",
      "\n",
      "Notes:\n",
      "[1] R² is computed without centering (uncentered) since the model does not contain a constant.\n",
      "[2] Standard Errors assume that the covariance matrix of the errors is correctly specified.\n",
      "[3] The smallest eigenvalue is 2.34e-28. This might indicate that there are\n",
      "strong multicollinearity problems or that the design matrix is singular.\n"
     ]
    },
    {
     "data": {
      "image/png": "[encoded data removed]",
      "text/plain": [
       "<Figure size 432x288 with 1 Axes>"
      ]
     },
     "metadata": {
      "needs_background": "light"
     },
     "output_type": "display_data"
    },
    {
     "name": "stdout",
     "output_type": "stream",
     "text": [
      "Performance Metrics\n",
      "Mean Squared Error: 0.08283074921570571\n",
      "Mean Absolute Error: 0.20085925355447606\n",
      "Manhattan distance: 30.93232504738932\n",
      "Euclidean distance: 3.571545236899384\n"
     ]
    },
    {
     "data": {
      "application/scrapbook.scrap.json+json": {
       "data": 0.08283074921570571,
       "encoder": "json",
       "name": "Stats Model MSE",
       "version": 1
      }
     },
     "metadata": {
      "scrapbook": {
       "data": true,
       "display": false,
       "name": "Stats Model MSE"
      }
     },
     "output_type": "display_data"
    },
    {
     "data": {
      "application/scrapbook.scrap.json+json": {
       "data": 0.20085925355447606,
       "encoder": "json",
       "name": "Stats Model MAE",
       "version": 1
      }
     },
     "metadata": {
      "scrapbook": {
       "data": true,
       "display": false,
       "name": "Stats Model MAE"
      }
     },
     "output_type": "display_data"
    },
    {
     "data": {
      "application/scrapbook.scrap.json+json": {
       "data": 30.93232504738932,
       "encoder": "json",
       "name": "Stats Model Manhattan Distance",
       "version": 1
      }
     },
     "metadata": {
      "scrapbook": {
       "data": true,
       "display": false,
       "name": "Stats Model Manhattan Distance"
      }
     },
     "output_type": "display_data"
    },
    {
     "data": {
      "application/scrapbook.scrap.json+json": {
       "data": 3.571545236899384,
       "encoder": "json",
       "name": "Stats Model Euclidean distance",
       "version": 1
      }
     },
     "metadata": {
      "scrapbook": {
       "data": true,
       "display": false,
       "name": "Stats Model Euclidean distance"
      }
     },
     "output_type": "display_data"
    },
    {
     "data": {
      "application/scrapbook.scrap.json+json": {
       "data": [
        -0.6946664606072043,
        -0.4025056006769511,
        0.08347432394577427,
        -0.4328132797557746,
        0.6719960672640498,
        0.0012586471834685853,
        0.26268078796576644,
        0.03430105772080195
       ],
       "encoder": "json",
       "name": "Coefficients",
       "version": 1
      }
     },
     "metadata": {
      "scrapbook": {
       "data": true,
       "display": false,
       "name": "Coefficients"
      }
     },
     "output_type": "display_data"
    },
    {
     "name": "stdout",
     "output_type": "stream",
     "text": [
      "Stats Model MAE 0.20085925355447606\n"
     ]
    }
   ],
   "source": [
    "coefficients , y_pred =statsModel.statsModel(X_train,y_train,X_test,y_test)\n",
    "#Store MSE Value \n",
    "sb.glue(\"Coefficients\",coefficients)\n",
    "mae = mean_absolute_error(y_pred, y_test)\n",
    "print(\"Stats Model MAE\", mae)"
   ]
  },
  {
   "cell_type": "markdown",
   "id": "0944dbde",
   "metadata": {
    "papermill": {
     "duration": 0.00542,
     "end_time": "2022-07-24T10:34:43.368292",
     "exception": false,
     "start_time": "2022-07-24T10:34:43.362872",
     "status": "completed"
    },
    "tags": []
   },
   "source": [
    "# Catboost Model "
   ]
  },
  {
   "cell_type": "code",
   "execution_count": 6,
   "id": "607b8378",
   "metadata": {
    "execution": {
     "iopub.execute_input": "2022-07-24T10:34:43.382000Z",
     "iopub.status.busy": "2022-07-24T10:34:43.381667Z",
     "iopub.status.idle": "2022-07-24T10:34:44.274126Z",
     "shell.execute_reply": "2022-07-24T10:34:44.273342Z"
    },
    "papermill": {
     "duration": 0.903358,
     "end_time": "2022-07-24T10:34:44.277296",
     "exception": false,
     "start_time": "2022-07-24T10:34:43.373938",
     "status": "completed"
    },
    "tags": []
   },
   "outputs": [
    {
     "name": "stdout",
     "output_type": "stream",
     "text": [
      "Learning rate set to 0.037906\n",
      "0:\tlearn: 0.9708953\ttotal: 51.8ms\tremaining: 51.8s\n",
      "1:\tlearn: 0.9383625\ttotal: 52.4ms\tremaining: 26.1s\n",
      "2:\tlearn: 0.9109425\ttotal: 52.8ms\tremaining: 17.6s\n",
      "3:\tlearn: 0.8803959\ttotal: 53.4ms\tremaining: 13.3s\n",
      "4:\tlearn: 0.8555605\ttotal: 53.8ms\tremaining: 10.7s\n",
      "5:\tlearn: 0.8275663\ttotal: 54.2ms\tremaining: 8.98s\n",
      "6:\tlearn: 0.8050591\ttotal: 54.6ms\tremaining: 7.75s\n",
      "7:\tlearn: 0.7797853\ttotal: 55ms\tremaining: 6.82s\n",
      "8:\tlearn: 0.7541618\ttotal: 55.5ms\tremaining: 6.11s\n",
      "9:\tlearn: 0.7305169\ttotal: 55.9ms\tremaining: 5.53s\n",
      "10:\tlearn: 0.7075508\ttotal: 56.4ms\tremaining: 5.07s\n",
      "11:\tlearn: 0.6845469\ttotal: 56.8ms\tremaining: 4.67s\n",
      "12:\tlearn: 0.6628706\ttotal: 57.2ms\tremaining: 4.34s\n",
      "13:\tlearn: 0.6439520\ttotal: 57.5ms\tremaining: 4.05s\n",
      "14:\tlearn: 0.6235559\ttotal: 57.8ms\tremaining: 3.79s\n",
      "15:\tlearn: 0.6050961\ttotal: 58.4ms\tremaining: 3.59s\n",
      "16:\tlearn: 0.5859799\ttotal: 59.1ms\tremaining: 3.42s\n",
      "17:\tlearn: 0.5688114\ttotal: 59.9ms\tremaining: 3.27s\n",
      "18:\tlearn: 0.5520794\ttotal: 61.1ms\tremaining: 3.15s\n",
      "19:\tlearn: 0.5387342\ttotal: 62ms\tremaining: 3.04s\n",
      "20:\tlearn: 0.5217024\ttotal: 63.8ms\tremaining: 2.97s\n",
      "21:\tlearn: 0.5054329\ttotal: 64.4ms\tremaining: 2.86s\n",
      "22:\tlearn: 0.4918562\ttotal: 64.9ms\tremaining: 2.75s\n",
      "23:\tlearn: 0.4768063\ttotal: 66.3ms\tremaining: 2.7s\n",
      "24:\tlearn: 0.4613465\ttotal: 67.4ms\tremaining: 2.63s\n",
      "25:\tlearn: 0.4471494\ttotal: 68.1ms\tremaining: 2.55s\n",
      "26:\tlearn: 0.4357785\ttotal: 68.8ms\tremaining: 2.48s\n",
      "27:\tlearn: 0.4239520\ttotal: 69.6ms\tremaining: 2.42s\n",
      "28:\tlearn: 0.4123637\ttotal: 70.5ms\tremaining: 2.36s\n",
      "29:\tlearn: 0.4017465\ttotal: 71.2ms\tremaining: 2.3s\n",
      "30:\tlearn: 0.3891795\ttotal: 72.3ms\tremaining: 2.26s\n",
      "31:\tlearn: 0.3776579\ttotal: 73.1ms\tremaining: 2.21s\n",
      "32:\tlearn: 0.3670985\ttotal: 74.5ms\tremaining: 2.18s\n",
      "33:\tlearn: 0.3588231\ttotal: 75.5ms\tremaining: 2.14s\n",
      "34:\tlearn: 0.3486173\ttotal: 76.1ms\tremaining: 2.1s\n",
      "35:\tlearn: 0.3391110\ttotal: 77.3ms\tremaining: 2.07s\n",
      "36:\tlearn: 0.3307860\ttotal: 79.1ms\tremaining: 2.06s\n",
      "37:\tlearn: 0.3214397\ttotal: 79.5ms\tremaining: 2.01s\n",
      "38:\tlearn: 0.3126160\ttotal: 80.9ms\tremaining: 1.99s\n",
      "39:\tlearn: 0.3041950\ttotal: 82.3ms\tremaining: 1.97s\n",
      "40:\tlearn: 0.2976760\ttotal: 82.9ms\tremaining: 1.94s\n",
      "41:\tlearn: 0.2907873\ttotal: 84.1ms\tremaining: 1.92s\n",
      "42:\tlearn: 0.2819167\ttotal: 85.3ms\tremaining: 1.9s\n",
      "43:\tlearn: 0.2740485\ttotal: 86.1ms\tremaining: 1.87s\n",
      "44:\tlearn: 0.2683804\ttotal: 87.6ms\tremaining: 1.86s\n"
     ]
    },
    {
     "name": "stdout",
     "output_type": "stream",
     "text": [
      "45:\tlearn: 0.2616871\ttotal: 88.8ms\tremaining: 1.84s\n",
      "46:\tlearn: 0.2557855\ttotal: 90.8ms\tremaining: 1.84s\n",
      "47:\tlearn: 0.2488255\ttotal: 91.6ms\tremaining: 1.82s\n",
      "48:\tlearn: 0.2418872\ttotal: 92.4ms\tremaining: 1.79s\n",
      "49:\tlearn: 0.2357906\ttotal: 93.2ms\tremaining: 1.77s\n",
      "50:\tlearn: 0.2293689\ttotal: 93.9ms\tremaining: 1.75s\n",
      "51:\tlearn: 0.2235369\ttotal: 95ms\tremaining: 1.73s\n",
      "52:\tlearn: 0.2186935\ttotal: 95.8ms\tremaining: 1.71s\n",
      "53:\tlearn: 0.2149496\ttotal: 96.5ms\tremaining: 1.69s\n",
      "54:\tlearn: 0.2100179\ttotal: 97.2ms\tremaining: 1.67s\n",
      "55:\tlearn: 0.2043300\ttotal: 97.9ms\tremaining: 1.65s\n",
      "56:\tlearn: 0.1986393\ttotal: 99.4ms\tremaining: 1.64s\n",
      "57:\tlearn: 0.1937059\ttotal: 100ms\tremaining: 1.63s\n",
      "58:\tlearn: 0.1895863\ttotal: 101ms\tremaining: 1.61s\n",
      "59:\tlearn: 0.1851443\ttotal: 101ms\tremaining: 1.59s\n",
      "60:\tlearn: 0.1802013\ttotal: 102ms\tremaining: 1.57s\n",
      "61:\tlearn: 0.1771065\ttotal: 102ms\tremaining: 1.55s\n",
      "62:\tlearn: 0.1723164\ttotal: 103ms\tremaining: 1.53s\n",
      "63:\tlearn: 0.1684658\ttotal: 104ms\tremaining: 1.52s\n",
      "64:\tlearn: 0.1642038\ttotal: 104ms\tremaining: 1.5s\n",
      "65:\tlearn: 0.1602918\ttotal: 105ms\tremaining: 1.49s\n",
      "66:\tlearn: 0.1563455\ttotal: 106ms\tremaining: 1.47s\n",
      "67:\tlearn: 0.1525301\ttotal: 106ms\tremaining: 1.46s\n",
      "68:\tlearn: 0.1487716\ttotal: 107ms\tremaining: 1.44s\n",
      "69:\tlearn: 0.1456864\ttotal: 108ms\tremaining: 1.43s\n",
      "70:\tlearn: 0.1424049\ttotal: 108ms\tremaining: 1.42s\n",
      "71:\tlearn: 0.1397059\ttotal: 109ms\tremaining: 1.41s\n",
      "72:\tlearn: 0.1365111\ttotal: 110ms\tremaining: 1.39s\n",
      "73:\tlearn: 0.1348189\ttotal: 110ms\tremaining: 1.38s\n",
      "74:\tlearn: 0.1315043\ttotal: 111ms\tremaining: 1.37s\n",
      "75:\tlearn: 0.1280531\ttotal: 112ms\tremaining: 1.36s\n",
      "76:\tlearn: 0.1262692\ttotal: 113ms\tremaining: 1.35s\n"
     ]
    },
    {
     "name": "stdout",
     "output_type": "stream",
     "text": [
      "77:\tlearn: 0.1240651\ttotal: 114ms\tremaining: 1.35s\n",
      "78:\tlearn: 0.1213606\ttotal: 115ms\tremaining: 1.34s\n",
      "79:\tlearn: 0.1184670\ttotal: 116ms\tremaining: 1.33s\n",
      "80:\tlearn: 0.1157291\ttotal: 117ms\tremaining: 1.32s\n",
      "81:\tlearn: 0.1133911\ttotal: 118ms\tremaining: 1.31s\n",
      "82:\tlearn: 0.1112609\ttotal: 118ms\tremaining: 1.31s\n",
      "83:\tlearn: 0.1089459\ttotal: 120ms\tremaining: 1.31s\n",
      "84:\tlearn: 0.1065799\ttotal: 123ms\tremaining: 1.32s\n",
      "85:\tlearn: 0.1044357\ttotal: 124ms\tremaining: 1.31s\n",
      "86:\tlearn: 0.1031540\ttotal: 124ms\tremaining: 1.3s\n",
      "87:\tlearn: 0.1013543\ttotal: 125ms\tremaining: 1.3s\n",
      "88:\tlearn: 0.1001021\ttotal: 126ms\tremaining: 1.28s\n",
      "89:\tlearn: 0.0980636\ttotal: 126ms\tremaining: 1.28s\n",
      "90:\tlearn: 0.0970130\ttotal: 127ms\tremaining: 1.27s\n",
      "91:\tlearn: 0.0953792\ttotal: 128ms\tremaining: 1.26s\n",
      "92:\tlearn: 0.0937782\ttotal: 129ms\tremaining: 1.26s\n",
      "93:\tlearn: 0.0920933\ttotal: 130ms\tremaining: 1.25s\n",
      "94:\tlearn: 0.0903775\ttotal: 131ms\tremaining: 1.24s\n",
      "95:\tlearn: 0.0893123\ttotal: 132ms\tremaining: 1.24s\n",
      "96:\tlearn: 0.0878995\ttotal: 132ms\tremaining: 1.23s\n",
      "97:\tlearn: 0.0863063\ttotal: 133ms\tremaining: 1.22s\n",
      "98:\tlearn: 0.0853926\ttotal: 134ms\tremaining: 1.22s\n",
      "99:\tlearn: 0.0838199\ttotal: 134ms\tremaining: 1.21s\n",
      "100:\tlearn: 0.0827265\ttotal: 135ms\tremaining: 1.2s\n",
      "101:\tlearn: 0.0812700\ttotal: 136ms\tremaining: 1.19s\n",
      "102:\tlearn: 0.0801448\ttotal: 136ms\tremaining: 1.18s\n",
      "103:\tlearn: 0.0787568\ttotal: 137ms\tremaining: 1.18s\n",
      "104:\tlearn: 0.0776370\ttotal: 137ms\tremaining: 1.17s\n",
      "105:\tlearn: 0.0765417\ttotal: 138ms\tremaining: 1.16s\n",
      "106:\tlearn: 0.0757835\ttotal: 139ms\tremaining: 1.16s\n",
      "107:\tlearn: 0.0746284\ttotal: 139ms\tremaining: 1.15s\n",
      "108:\tlearn: 0.0736218\ttotal: 140ms\tremaining: 1.14s\n",
      "109:\tlearn: 0.0731361\ttotal: 140ms\tremaining: 1.13s\n",
      "110:\tlearn: 0.0722142\ttotal: 141ms\tremaining: 1.13s\n",
      "111:\tlearn: 0.0714726\ttotal: 141ms\tremaining: 1.12s\n",
      "112:\tlearn: 0.0705260\ttotal: 142ms\tremaining: 1.12s\n"
     ]
    },
    {
     "name": "stdout",
     "output_type": "stream",
     "text": [
      "113:\tlearn: 0.0695737\ttotal: 143ms\tremaining: 1.11s\n",
      "114:\tlearn: 0.0685562\ttotal: 144ms\tremaining: 1.11s\n",
      "115:\tlearn: 0.0679334\ttotal: 145ms\tremaining: 1.1s\n",
      "116:\tlearn: 0.0669595\ttotal: 145ms\tremaining: 1.1s\n",
      "117:\tlearn: 0.0663576\ttotal: 146ms\tremaining: 1.09s\n",
      "118:\tlearn: 0.0655549\ttotal: 147ms\tremaining: 1.09s\n",
      "119:\tlearn: 0.0646440\ttotal: 148ms\tremaining: 1.09s\n",
      "120:\tlearn: 0.0639607\ttotal: 149ms\tremaining: 1.08s\n",
      "121:\tlearn: 0.0637550\ttotal: 149ms\tremaining: 1.07s\n",
      "122:\tlearn: 0.0630257\ttotal: 150ms\tremaining: 1.07s\n",
      "123:\tlearn: 0.0625536\ttotal: 150ms\tremaining: 1.06s\n",
      "124:\tlearn: 0.0619082\ttotal: 150ms\tremaining: 1.05s\n",
      "125:\tlearn: 0.0614089\ttotal: 151ms\tremaining: 1.04s\n",
      "126:\tlearn: 0.0607606\ttotal: 151ms\tremaining: 1.04s\n",
      "127:\tlearn: 0.0603952\ttotal: 152ms\tremaining: 1.04s\n",
      "128:\tlearn: 0.0598841\ttotal: 153ms\tremaining: 1.03s\n",
      "129:\tlearn: 0.0595165\ttotal: 154ms\tremaining: 1.03s\n",
      "130:\tlearn: 0.0590486\ttotal: 154ms\tremaining: 1.02s\n",
      "131:\tlearn: 0.0584034\ttotal: 155ms\tremaining: 1.02s\n",
      "132:\tlearn: 0.0579309\ttotal: 155ms\tremaining: 1.01s\n",
      "133:\tlearn: 0.0576299\ttotal: 156ms\tremaining: 1.01s\n",
      "134:\tlearn: 0.0572825\ttotal: 156ms\tremaining: 1s\n",
      "135:\tlearn: 0.0568903\ttotal: 157ms\tremaining: 996ms\n",
      "136:\tlearn: 0.0565064\ttotal: 157ms\tremaining: 991ms\n",
      "137:\tlearn: 0.0561676\ttotal: 158ms\tremaining: 986ms\n",
      "138:\tlearn: 0.0558222\ttotal: 158ms\tremaining: 981ms\n",
      "139:\tlearn: 0.0553594\ttotal: 159ms\tremaining: 976ms\n",
      "140:\tlearn: 0.0549596\ttotal: 159ms\tremaining: 972ms\n",
      "141:\tlearn: 0.0545052\ttotal: 160ms\tremaining: 967ms\n",
      "142:\tlearn: 0.0542295\ttotal: 161ms\tremaining: 962ms\n",
      "143:\tlearn: 0.0538492\ttotal: 161ms\tremaining: 958ms\n",
      "144:\tlearn: 0.0535067\ttotal: 162ms\tremaining: 954ms\n",
      "145:\tlearn: 0.0530782\ttotal: 162ms\tremaining: 950ms\n",
      "146:\tlearn: 0.0528518\ttotal: 163ms\tremaining: 945ms\n",
      "147:\tlearn: 0.0525193\ttotal: 163ms\tremaining: 941ms\n",
      "148:\tlearn: 0.0522369\ttotal: 164ms\tremaining: 936ms\n",
      "149:\tlearn: 0.0518631\ttotal: 164ms\tremaining: 932ms\n",
      "150:\tlearn: 0.0516210\ttotal: 165ms\tremaining: 928ms\n",
      "151:\tlearn: 0.0513172\ttotal: 166ms\tremaining: 924ms\n",
      "152:\tlearn: 0.0511142\ttotal: 166ms\tremaining: 920ms\n",
      "153:\tlearn: 0.0508863\ttotal: 167ms\tremaining: 916ms\n",
      "154:\tlearn: 0.0506300\ttotal: 168ms\tremaining: 914ms\n",
      "155:\tlearn: 0.0503752\ttotal: 168ms\tremaining: 911ms\n",
      "156:\tlearn: 0.0502048\ttotal: 169ms\tremaining: 910ms\n",
      "157:\tlearn: 0.0500306\ttotal: 170ms\tremaining: 907ms\n",
      "158:\tlearn: 0.0497517\ttotal: 171ms\tremaining: 904ms\n",
      "159:\tlearn: 0.0495791\ttotal: 172ms\tremaining: 902ms\n",
      "160:\tlearn: 0.0493762\ttotal: 172ms\tremaining: 899ms\n",
      "161:\tlearn: 0.0492213\ttotal: 173ms\tremaining: 896ms\n",
      "162:\tlearn: 0.0490375\ttotal: 175ms\tremaining: 896ms\n",
      "163:\tlearn: 0.0488260\ttotal: 176ms\tremaining: 896ms\n",
      "164:\tlearn: 0.0486087\ttotal: 177ms\tremaining: 894ms\n",
      "165:\tlearn: 0.0483925\ttotal: 178ms\tremaining: 892ms\n",
      "166:\tlearn: 0.0481671\ttotal: 178ms\tremaining: 890ms\n",
      "167:\tlearn: 0.0479799\ttotal: 179ms\tremaining: 887ms\n",
      "168:\tlearn: 0.0478228\ttotal: 180ms\tremaining: 884ms\n",
      "169:\tlearn: 0.0476206\ttotal: 181ms\tremaining: 882ms\n",
      "170:\tlearn: 0.0474511\ttotal: 182ms\tremaining: 883ms\n",
      "171:\tlearn: 0.0472498\ttotal: 183ms\tremaining: 880ms\n",
      "172:\tlearn: 0.0470968\ttotal: 184ms\tremaining: 878ms\n",
      "173:\tlearn: 0.0469494\ttotal: 185ms\tremaining: 876ms\n",
      "174:\tlearn: 0.0467742\ttotal: 185ms\tremaining: 874ms\n",
      "175:\tlearn: 0.0466450\ttotal: 186ms\tremaining: 870ms\n",
      "176:\tlearn: 0.0464768\ttotal: 186ms\tremaining: 867ms\n",
      "177:\tlearn: 0.0462464\ttotal: 187ms\tremaining: 863ms\n",
      "178:\tlearn: 0.0461179\ttotal: 187ms\tremaining: 860ms\n",
      "179:\tlearn: 0.0459323\ttotal: 188ms\tremaining: 856ms\n",
      "180:\tlearn: 0.0457901\ttotal: 189ms\tremaining: 853ms\n",
      "181:\tlearn: 0.0456096\ttotal: 189ms\tremaining: 850ms\n",
      "182:\tlearn: 0.0454755\ttotal: 190ms\tremaining: 850ms\n",
      "183:\tlearn: 0.0453230\ttotal: 191ms\tremaining: 847ms\n",
      "184:\tlearn: 0.0452052\ttotal: 192ms\tremaining: 844ms\n",
      "185:\tlearn: 0.0450754\ttotal: 192ms\tremaining: 840ms\n",
      "186:\tlearn: 0.0449383\ttotal: 192ms\tremaining: 836ms\n",
      "187:\tlearn: 0.0448003\ttotal: 193ms\tremaining: 834ms\n",
      "188:\tlearn: 0.0446804\ttotal: 194ms\tremaining: 831ms\n",
      "189:\tlearn: 0.0445381\ttotal: 194ms\tremaining: 828ms\n",
      "190:\tlearn: 0.0444183\ttotal: 195ms\tremaining: 825ms\n",
      "191:\tlearn: 0.0442947\ttotal: 195ms\tremaining: 822ms\n",
      "192:\tlearn: 0.0441690\ttotal: 196ms\tremaining: 819ms\n",
      "193:\tlearn: 0.0440320\ttotal: 197ms\tremaining: 817ms\n",
      "194:\tlearn: 0.0439226\ttotal: 197ms\tremaining: 814ms\n",
      "195:\tlearn: 0.0437767\ttotal: 198ms\tremaining: 811ms\n",
      "196:\tlearn: 0.0435531\ttotal: 198ms\tremaining: 808ms\n",
      "197:\tlearn: 0.0434447\ttotal: 199ms\tremaining: 806ms\n",
      "198:\tlearn: 0.0433235\ttotal: 200ms\tremaining: 803ms\n",
      "199:\tlearn: 0.0432336\ttotal: 200ms\tremaining: 801ms\n",
      "200:\tlearn: 0.0431150\ttotal: 201ms\tremaining: 798ms\n",
      "201:\tlearn: 0.0430230\ttotal: 201ms\tremaining: 795ms\n",
      "202:\tlearn: 0.0428600\ttotal: 202ms\tremaining: 792ms\n",
      "203:\tlearn: 0.0426707\ttotal: 202ms\tremaining: 790ms\n",
      "204:\tlearn: 0.0423684\ttotal: 203ms\tremaining: 788ms\n",
      "205:\tlearn: 0.0422894\ttotal: 204ms\tremaining: 785ms\n",
      "206:\tlearn: 0.0422055\ttotal: 204ms\tremaining: 783ms\n",
      "207:\tlearn: 0.0421287\ttotal: 205ms\tremaining: 781ms\n",
      "208:\tlearn: 0.0418077\ttotal: 205ms\tremaining: 777ms\n",
      "209:\tlearn: 0.0417269\ttotal: 206ms\tremaining: 774ms\n",
      "210:\tlearn: 0.0415274\ttotal: 207ms\tremaining: 773ms\n",
      "211:\tlearn: 0.0413808\ttotal: 207ms\tremaining: 770ms\n",
      "212:\tlearn: 0.0411185\ttotal: 208ms\tremaining: 768ms\n",
      "213:\tlearn: 0.0408669\ttotal: 209ms\tremaining: 766ms\n",
      "214:\tlearn: 0.0407362\ttotal: 209ms\tremaining: 764ms\n",
      "215:\tlearn: 0.0406615\ttotal: 210ms\tremaining: 761ms\n",
      "216:\tlearn: 0.0405893\ttotal: 211ms\tremaining: 760ms\n",
      "217:\tlearn: 0.0404954\ttotal: 212ms\tremaining: 759ms\n",
      "218:\tlearn: 0.0404332\ttotal: 213ms\tremaining: 761ms\n",
      "219:\tlearn: 0.0403540\ttotal: 214ms\tremaining: 758ms\n",
      "220:\tlearn: 0.0402912\ttotal: 215ms\tremaining: 757ms\n",
      "221:\tlearn: 0.0402120\ttotal: 215ms\tremaining: 754ms\n",
      "222:\tlearn: 0.0400591\ttotal: 216ms\tremaining: 751ms\n",
      "223:\tlearn: 0.0399641\ttotal: 217ms\tremaining: 750ms\n",
      "224:\tlearn: 0.0397161\ttotal: 217ms\tremaining: 748ms\n",
      "225:\tlearn: 0.0396558\ttotal: 218ms\tremaining: 746ms\n",
      "226:\tlearn: 0.0394844\ttotal: 218ms\tremaining: 744ms\n",
      "227:\tlearn: 0.0392604\ttotal: 219ms\tremaining: 743ms\n",
      "228:\tlearn: 0.0391712\ttotal: 220ms\tremaining: 740ms\n",
      "229:\tlearn: 0.0390657\ttotal: 220ms\tremaining: 738ms\n",
      "230:\tlearn: 0.0390088\ttotal: 221ms\tremaining: 736ms\n",
      "231:\tlearn: 0.0388342\ttotal: 221ms\tremaining: 733ms\n",
      "232:\tlearn: 0.0386262\ttotal: 222ms\tremaining: 730ms\n",
      "233:\tlearn: 0.0385537\ttotal: 223ms\tremaining: 729ms\n",
      "234:\tlearn: 0.0384264\ttotal: 223ms\tremaining: 727ms\n",
      "235:\tlearn: 0.0382884\ttotal: 224ms\tremaining: 725ms\n",
      "236:\tlearn: 0.0382270\ttotal: 224ms\tremaining: 723ms\n",
      "237:\tlearn: 0.0380063\ttotal: 225ms\tremaining: 721ms\n",
      "238:\tlearn: 0.0379520\ttotal: 226ms\tremaining: 718ms\n",
      "239:\tlearn: 0.0377474\ttotal: 226ms\tremaining: 716ms\n",
      "240:\tlearn: 0.0376974\ttotal: 227ms\tremaining: 714ms\n",
      "241:\tlearn: 0.0375576\ttotal: 227ms\tremaining: 711ms\n",
      "242:\tlearn: 0.0373712\ttotal: 228ms\tremaining: 710ms\n"
     ]
    },
    {
     "name": "stdout",
     "output_type": "stream",
     "text": [
      "243:\tlearn: 0.0371931\ttotal: 229ms\tremaining: 708ms\n",
      "244:\tlearn: 0.0371331\ttotal: 231ms\tremaining: 712ms\n",
      "245:\tlearn: 0.0370813\ttotal: 232ms\tremaining: 710ms\n",
      "246:\tlearn: 0.0369563\ttotal: 232ms\tremaining: 708ms\n",
      "247:\tlearn: 0.0368269\ttotal: 233ms\tremaining: 705ms\n",
      "248:\tlearn: 0.0367801\ttotal: 233ms\tremaining: 703ms\n",
      "249:\tlearn: 0.0367164\ttotal: 234ms\tremaining: 701ms\n",
      "250:\tlearn: 0.0366215\ttotal: 234ms\tremaining: 698ms\n",
      "251:\tlearn: 0.0365769\ttotal: 234ms\tremaining: 695ms\n",
      "252:\tlearn: 0.0365346\ttotal: 235ms\tremaining: 693ms\n",
      "253:\tlearn: 0.0363887\ttotal: 236ms\tremaining: 692ms\n",
      "254:\tlearn: 0.0363505\ttotal: 236ms\tremaining: 691ms\n",
      "255:\tlearn: 0.0361652\ttotal: 238ms\tremaining: 690ms\n",
      "256:\tlearn: 0.0361071\ttotal: 239ms\tremaining: 690ms\n",
      "257:\tlearn: 0.0360592\ttotal: 239ms\tremaining: 687ms\n",
      "258:\tlearn: 0.0359463\ttotal: 240ms\tremaining: 685ms\n",
      "259:\tlearn: 0.0358910\ttotal: 241ms\tremaining: 687ms\n",
      "260:\tlearn: 0.0357844\ttotal: 242ms\tremaining: 687ms\n",
      "261:\tlearn: 0.0357478\ttotal: 243ms\tremaining: 684ms\n",
      "262:\tlearn: 0.0355654\ttotal: 243ms\tremaining: 682ms\n",
      "263:\tlearn: 0.0354011\ttotal: 244ms\tremaining: 680ms\n",
      "264:\tlearn: 0.0353084\ttotal: 244ms\tremaining: 678ms\n",
      "265:\tlearn: 0.0352442\ttotal: 245ms\tremaining: 675ms\n",
      "266:\tlearn: 0.0352011\ttotal: 245ms\tremaining: 673ms\n",
      "267:\tlearn: 0.0351685\ttotal: 245ms\tremaining: 670ms\n",
      "268:\tlearn: 0.0350929\ttotal: 246ms\tremaining: 668ms\n",
      "269:\tlearn: 0.0349399\ttotal: 246ms\tremaining: 665ms\n",
      "270:\tlearn: 0.0347756\ttotal: 246ms\tremaining: 662ms\n",
      "271:\tlearn: 0.0347418\ttotal: 247ms\tremaining: 660ms\n",
      "272:\tlearn: 0.0346619\ttotal: 247ms\tremaining: 658ms\n",
      "273:\tlearn: 0.0345612\ttotal: 248ms\tremaining: 657ms\n",
      "274:\tlearn: 0.0344206\ttotal: 248ms\tremaining: 655ms\n",
      "275:\tlearn: 0.0343689\ttotal: 249ms\tremaining: 652ms\n",
      "276:\tlearn: 0.0342312\ttotal: 249ms\tremaining: 650ms\n",
      "277:\tlearn: 0.0341105\ttotal: 249ms\tremaining: 647ms\n",
      "278:\tlearn: 0.0340770\ttotal: 249ms\tremaining: 645ms\n",
      "279:\tlearn: 0.0339349\ttotal: 250ms\tremaining: 643ms\n",
      "280:\tlearn: 0.0337984\ttotal: 251ms\tremaining: 642ms\n",
      "281:\tlearn: 0.0337116\ttotal: 251ms\tremaining: 640ms\n",
      "282:\tlearn: 0.0336644\ttotal: 251ms\tremaining: 637ms\n",
      "283:\tlearn: 0.0335813\ttotal: 253ms\tremaining: 637ms\n",
      "284:\tlearn: 0.0335143\ttotal: 254ms\tremaining: 637ms\n",
      "285:\tlearn: 0.0334309\ttotal: 254ms\tremaining: 634ms\n"
     ]
    },
    {
     "name": "stdout",
     "output_type": "stream",
     "text": [
      "286:\tlearn: 0.0333755\ttotal: 255ms\tremaining: 633ms\n",
      "287:\tlearn: 0.0332477\ttotal: 255ms\tremaining: 631ms\n",
      "288:\tlearn: 0.0332189\ttotal: 255ms\tremaining: 628ms\n",
      "289:\tlearn: 0.0331487\ttotal: 256ms\tremaining: 626ms\n",
      "290:\tlearn: 0.0329814\ttotal: 256ms\tremaining: 624ms\n",
      "291:\tlearn: 0.0329255\ttotal: 256ms\tremaining: 622ms\n",
      "292:\tlearn: 0.0327683\ttotal: 257ms\tremaining: 620ms\n",
      "293:\tlearn: 0.0326884\ttotal: 257ms\tremaining: 618ms\n",
      "294:\tlearn: 0.0326524\ttotal: 258ms\tremaining: 616ms\n",
      "295:\tlearn: 0.0326108\ttotal: 258ms\tremaining: 615ms\n",
      "296:\tlearn: 0.0324954\ttotal: 259ms\tremaining: 612ms\n",
      "297:\tlearn: 0.0323753\ttotal: 259ms\tremaining: 610ms\n",
      "298:\tlearn: 0.0322446\ttotal: 259ms\tremaining: 608ms\n",
      "299:\tlearn: 0.0321363\ttotal: 260ms\tremaining: 606ms\n",
      "300:\tlearn: 0.0320659\ttotal: 260ms\tremaining: 604ms\n",
      "301:\tlearn: 0.0319306\ttotal: 260ms\tremaining: 601ms\n",
      "302:\tlearn: 0.0318480\ttotal: 261ms\tremaining: 600ms\n",
      "303:\tlearn: 0.0317712\ttotal: 261ms\tremaining: 598ms\n",
      "304:\tlearn: 0.0317137\ttotal: 261ms\tremaining: 596ms\n",
      "305:\tlearn: 0.0316403\ttotal: 262ms\tremaining: 594ms\n",
      "306:\tlearn: 0.0315484\ttotal: 262ms\tremaining: 591ms\n",
      "307:\tlearn: 0.0314530\ttotal: 263ms\tremaining: 590ms\n",
      "308:\tlearn: 0.0314292\ttotal: 263ms\tremaining: 588ms\n",
      "309:\tlearn: 0.0313274\ttotal: 263ms\tremaining: 586ms\n",
      "310:\tlearn: 0.0312506\ttotal: 264ms\tremaining: 585ms\n",
      "311:\tlearn: 0.0312247\ttotal: 265ms\tremaining: 584ms\n",
      "312:\tlearn: 0.0311536\ttotal: 265ms\tremaining: 581ms\n",
      "313:\tlearn: 0.0310325\ttotal: 265ms\tremaining: 580ms\n",
      "314:\tlearn: 0.0309183\ttotal: 266ms\tremaining: 580ms\n",
      "315:\tlearn: 0.0308251\ttotal: 267ms\tremaining: 577ms\n",
      "316:\tlearn: 0.0307710\ttotal: 267ms\tremaining: 576ms\n",
      "317:\tlearn: 0.0307344\ttotal: 268ms\tremaining: 574ms\n",
      "318:\tlearn: 0.0306996\ttotal: 268ms\tremaining: 572ms\n",
      "319:\tlearn: 0.0306758\ttotal: 268ms\tremaining: 570ms\n",
      "320:\tlearn: 0.0306040\ttotal: 269ms\tremaining: 570ms\n",
      "321:\tlearn: 0.0305269\ttotal: 270ms\tremaining: 568ms\n",
      "322:\tlearn: 0.0304340\ttotal: 271ms\tremaining: 567ms\n",
      "323:\tlearn: 0.0303850\ttotal: 271ms\tremaining: 566ms\n",
      "324:\tlearn: 0.0303135\ttotal: 273ms\tremaining: 566ms\n",
      "325:\tlearn: 0.0302547\ttotal: 273ms\tremaining: 565ms\n",
      "326:\tlearn: 0.0301777\ttotal: 275ms\tremaining: 565ms\n",
      "327:\tlearn: 0.0301302\ttotal: 276ms\tremaining: 565ms\n",
      "328:\tlearn: 0.0300594\ttotal: 276ms\tremaining: 563ms\n",
      "329:\tlearn: 0.0299527\ttotal: 277ms\tremaining: 563ms\n",
      "330:\tlearn: 0.0299049\ttotal: 278ms\tremaining: 562ms\n",
      "331:\tlearn: 0.0298388\ttotal: 279ms\tremaining: 562ms\n",
      "332:\tlearn: 0.0297944\ttotal: 280ms\tremaining: 560ms\n",
      "333:\tlearn: 0.0297533\ttotal: 280ms\tremaining: 559ms\n",
      "334:\tlearn: 0.0296470\ttotal: 282ms\tremaining: 559ms\n"
     ]
    },
    {
     "name": "stdout",
     "output_type": "stream",
     "text": [
      "335:\tlearn: 0.0296041\ttotal: 290ms\tremaining: 573ms\n",
      "336:\tlearn: 0.0295181\ttotal: 290ms\tremaining: 571ms\n",
      "337:\tlearn: 0.0294584\ttotal: 291ms\tremaining: 570ms\n",
      "338:\tlearn: 0.0293930\ttotal: 292ms\tremaining: 569ms\n",
      "339:\tlearn: 0.0293319\ttotal: 292ms\tremaining: 567ms\n",
      "340:\tlearn: 0.0292510\ttotal: 293ms\tremaining: 566ms\n",
      "341:\tlearn: 0.0291500\ttotal: 293ms\tremaining: 564ms\n",
      "342:\tlearn: 0.0291195\ttotal: 294ms\tremaining: 563ms\n",
      "343:\tlearn: 0.0290981\ttotal: 294ms\tremaining: 561ms\n",
      "344:\tlearn: 0.0290530\ttotal: 295ms\tremaining: 559ms\n",
      "345:\tlearn: 0.0289895\ttotal: 295ms\tremaining: 558ms\n",
      "346:\tlearn: 0.0289292\ttotal: 296ms\tremaining: 556ms\n",
      "347:\tlearn: 0.0288858\ttotal: 296ms\tremaining: 555ms\n",
      "348:\tlearn: 0.0287925\ttotal: 297ms\tremaining: 553ms\n",
      "349:\tlearn: 0.0287049\ttotal: 297ms\tremaining: 552ms\n",
      "350:\tlearn: 0.0286368\ttotal: 298ms\tremaining: 550ms\n",
      "351:\tlearn: 0.0285786\ttotal: 298ms\tremaining: 549ms\n",
      "352:\tlearn: 0.0285239\ttotal: 299ms\tremaining: 547ms\n",
      "353:\tlearn: 0.0284420\ttotal: 299ms\tremaining: 546ms\n",
      "354:\tlearn: 0.0283780\ttotal: 299ms\tremaining: 544ms\n",
      "355:\tlearn: 0.0283015\ttotal: 301ms\tremaining: 544ms\n",
      "356:\tlearn: 0.0282655\ttotal: 301ms\tremaining: 543ms\n",
      "357:\tlearn: 0.0282100\ttotal: 302ms\tremaining: 542ms\n",
      "358:\tlearn: 0.0281454\ttotal: 302ms\tremaining: 540ms\n",
      "359:\tlearn: 0.0280701\ttotal: 303ms\tremaining: 539ms\n",
      "360:\tlearn: 0.0280004\ttotal: 304ms\tremaining: 537ms\n",
      "361:\tlearn: 0.0279305\ttotal: 304ms\tremaining: 536ms\n",
      "362:\tlearn: 0.0278650\ttotal: 304ms\tremaining: 534ms\n",
      "363:\tlearn: 0.0278229\ttotal: 305ms\tremaining: 532ms\n",
      "364:\tlearn: 0.0277646\ttotal: 305ms\tremaining: 531ms\n",
      "365:\tlearn: 0.0277107\ttotal: 306ms\tremaining: 529ms\n",
      "366:\tlearn: 0.0276555\ttotal: 306ms\tremaining: 527ms\n",
      "367:\tlearn: 0.0276165\ttotal: 306ms\tremaining: 526ms\n",
      "368:\tlearn: 0.0275755\ttotal: 306ms\tremaining: 524ms\n",
      "369:\tlearn: 0.0275371\ttotal: 307ms\tremaining: 522ms\n",
      "370:\tlearn: 0.0275213\ttotal: 307ms\tremaining: 521ms\n",
      "371:\tlearn: 0.0274633\ttotal: 307ms\tremaining: 519ms\n",
      "372:\tlearn: 0.0274122\ttotal: 308ms\tremaining: 518ms\n",
      "373:\tlearn: 0.0273798\ttotal: 309ms\tremaining: 517ms\n",
      "374:\tlearn: 0.0273170\ttotal: 309ms\tremaining: 515ms\n",
      "375:\tlearn: 0.0272954\ttotal: 309ms\tremaining: 513ms\n",
      "376:\tlearn: 0.0272599\ttotal: 310ms\tremaining: 512ms\n",
      "377:\tlearn: 0.0272121\ttotal: 310ms\tremaining: 510ms\n",
      "378:\tlearn: 0.0271921\ttotal: 311ms\tremaining: 509ms\n",
      "379:\tlearn: 0.0271385\ttotal: 311ms\tremaining: 508ms\n",
      "380:\tlearn: 0.0270793\ttotal: 312ms\tremaining: 506ms\n",
      "381:\tlearn: 0.0269943\ttotal: 312ms\tremaining: 505ms\n",
      "382:\tlearn: 0.0269566\ttotal: 312ms\tremaining: 503ms\n",
      "383:\tlearn: 0.0269045\ttotal: 312ms\tremaining: 501ms\n",
      "384:\tlearn: 0.0268868\ttotal: 313ms\tremaining: 500ms\n",
      "385:\tlearn: 0.0268506\ttotal: 313ms\tremaining: 498ms\n",
      "386:\tlearn: 0.0268229\ttotal: 314ms\tremaining: 497ms\n",
      "387:\tlearn: 0.0267435\ttotal: 315ms\tremaining: 497ms\n",
      "388:\tlearn: 0.0266827\ttotal: 315ms\tremaining: 495ms\n",
      "389:\tlearn: 0.0266212\ttotal: 316ms\tremaining: 494ms\n",
      "390:\tlearn: 0.0265457\ttotal: 316ms\tremaining: 492ms\n",
      "391:\tlearn: 0.0264667\ttotal: 316ms\tremaining: 491ms\n",
      "392:\tlearn: 0.0264197\ttotal: 317ms\tremaining: 489ms\n",
      "393:\tlearn: 0.0263961\ttotal: 317ms\tremaining: 488ms\n",
      "394:\tlearn: 0.0263617\ttotal: 317ms\tremaining: 486ms\n",
      "395:\tlearn: 0.0262874\ttotal: 318ms\tremaining: 484ms\n",
      "396:\tlearn: 0.0262720\ttotal: 318ms\tremaining: 483ms\n",
      "397:\tlearn: 0.0262560\ttotal: 319ms\tremaining: 482ms\n",
      "398:\tlearn: 0.0261900\ttotal: 319ms\tremaining: 480ms\n",
      "399:\tlearn: 0.0261286\ttotal: 319ms\tremaining: 479ms\n",
      "400:\tlearn: 0.0260691\ttotal: 320ms\tremaining: 477ms\n",
      "401:\tlearn: 0.0260123\ttotal: 320ms\tremaining: 476ms\n",
      "402:\tlearn: 0.0259418\ttotal: 320ms\tremaining: 474ms\n",
      "403:\tlearn: 0.0258733\ttotal: 321ms\tremaining: 473ms\n",
      "404:\tlearn: 0.0258216\ttotal: 321ms\tremaining: 472ms\n",
      "405:\tlearn: 0.0257565\ttotal: 322ms\tremaining: 470ms\n",
      "406:\tlearn: 0.0256987\ttotal: 323ms\tremaining: 471ms\n",
      "407:\tlearn: 0.0256610\ttotal: 324ms\tremaining: 470ms\n",
      "408:\tlearn: 0.0256188\ttotal: 324ms\tremaining: 468ms\n",
      "409:\tlearn: 0.0255576\ttotal: 324ms\tremaining: 466ms\n",
      "410:\tlearn: 0.0255006\ttotal: 325ms\tremaining: 466ms\n",
      "411:\tlearn: 0.0254466\ttotal: 325ms\tremaining: 464ms\n",
      "412:\tlearn: 0.0253910\ttotal: 326ms\tremaining: 463ms\n",
      "413:\tlearn: 0.0253423\ttotal: 326ms\tremaining: 461ms\n",
      "414:\tlearn: 0.0253060\ttotal: 326ms\tremaining: 460ms\n",
      "415:\tlearn: 0.0252711\ttotal: 327ms\tremaining: 458ms\n",
      "416:\tlearn: 0.0252415\ttotal: 327ms\tremaining: 457ms\n",
      "417:\tlearn: 0.0251877\ttotal: 328ms\tremaining: 456ms\n",
      "418:\tlearn: 0.0251360\ttotal: 328ms\tremaining: 455ms\n",
      "419:\tlearn: 0.0250828\ttotal: 328ms\tremaining: 453ms\n",
      "420:\tlearn: 0.0250410\ttotal: 328ms\tremaining: 452ms\n",
      "421:\tlearn: 0.0249905\ttotal: 329ms\tremaining: 450ms\n",
      "422:\tlearn: 0.0249221\ttotal: 329ms\tremaining: 449ms\n",
      "423:\tlearn: 0.0248891\ttotal: 330ms\tremaining: 448ms\n",
      "424:\tlearn: 0.0248539\ttotal: 330ms\tremaining: 447ms\n",
      "425:\tlearn: 0.0248228\ttotal: 331ms\tremaining: 446ms\n",
      "426:\tlearn: 0.0247928\ttotal: 331ms\tremaining: 444ms\n",
      "427:\tlearn: 0.0247488\ttotal: 332ms\tremaining: 443ms\n",
      "428:\tlearn: 0.0247198\ttotal: 332ms\tremaining: 442ms\n",
      "429:\tlearn: 0.0246730\ttotal: 332ms\tremaining: 441ms\n",
      "430:\tlearn: 0.0246620\ttotal: 333ms\tremaining: 439ms\n",
      "431:\tlearn: 0.0246509\ttotal: 333ms\tremaining: 438ms\n",
      "432:\tlearn: 0.0246017\ttotal: 334ms\tremaining: 437ms\n",
      "433:\tlearn: 0.0245902\ttotal: 334ms\tremaining: 436ms\n",
      "434:\tlearn: 0.0245384\ttotal: 335ms\tremaining: 435ms\n",
      "435:\tlearn: 0.0245124\ttotal: 335ms\tremaining: 434ms\n",
      "436:\tlearn: 0.0244873\ttotal: 335ms\tremaining: 432ms\n",
      "437:\tlearn: 0.0244630\ttotal: 336ms\tremaining: 431ms\n",
      "438:\tlearn: 0.0244037\ttotal: 336ms\tremaining: 430ms\n",
      "439:\tlearn: 0.0243602\ttotal: 336ms\tremaining: 428ms\n",
      "440:\tlearn: 0.0243344\ttotal: 337ms\tremaining: 428ms\n",
      "441:\tlearn: 0.0242790\ttotal: 338ms\tremaining: 426ms\n",
      "442:\tlearn: 0.0242411\ttotal: 338ms\tremaining: 425ms\n",
      "443:\tlearn: 0.0242033\ttotal: 339ms\tremaining: 425ms\n",
      "444:\tlearn: 0.0241777\ttotal: 339ms\tremaining: 423ms\n",
      "445:\tlearn: 0.0241253\ttotal: 340ms\tremaining: 422ms\n",
      "446:\tlearn: 0.0240856\ttotal: 340ms\tremaining: 421ms\n",
      "447:\tlearn: 0.0240532\ttotal: 341ms\tremaining: 420ms\n",
      "448:\tlearn: 0.0240120\ttotal: 341ms\tremaining: 419ms\n",
      "449:\tlearn: 0.0239643\ttotal: 342ms\tremaining: 418ms\n",
      "450:\tlearn: 0.0239254\ttotal: 342ms\tremaining: 416ms\n",
      "451:\tlearn: 0.0239013\ttotal: 342ms\tremaining: 415ms\n",
      "452:\tlearn: 0.0238656\ttotal: 343ms\tremaining: 414ms\n",
      "453:\tlearn: 0.0238270\ttotal: 343ms\tremaining: 412ms\n",
      "454:\tlearn: 0.0237652\ttotal: 343ms\tremaining: 411ms\n",
      "455:\tlearn: 0.0237535\ttotal: 345ms\tremaining: 411ms\n",
      "456:\tlearn: 0.0237317\ttotal: 345ms\tremaining: 410ms\n",
      "457:\tlearn: 0.0237092\ttotal: 345ms\tremaining: 409ms\n",
      "458:\tlearn: 0.0236631\ttotal: 346ms\tremaining: 408ms\n",
      "459:\tlearn: 0.0236239\ttotal: 346ms\tremaining: 406ms\n",
      "460:\tlearn: 0.0235881\ttotal: 346ms\tremaining: 405ms\n",
      "461:\tlearn: 0.0235669\ttotal: 347ms\tremaining: 404ms\n",
      "462:\tlearn: 0.0235241\ttotal: 347ms\tremaining: 403ms\n",
      "463:\tlearn: 0.0234880\ttotal: 348ms\tremaining: 402ms\n",
      "464:\tlearn: 0.0234616\ttotal: 348ms\tremaining: 400ms\n",
      "465:\tlearn: 0.0234308\ttotal: 348ms\tremaining: 399ms\n",
      "466:\tlearn: 0.0234057\ttotal: 348ms\tremaining: 398ms\n",
      "467:\tlearn: 0.0233699\ttotal: 349ms\tremaining: 396ms\n",
      "468:\tlearn: 0.0233122\ttotal: 349ms\tremaining: 395ms\n",
      "469:\tlearn: 0.0232874\ttotal: 350ms\tremaining: 395ms\n",
      "470:\tlearn: 0.0232538\ttotal: 350ms\tremaining: 393ms\n",
      "471:\tlearn: 0.0232337\ttotal: 351ms\tremaining: 392ms\n",
      "472:\tlearn: 0.0232200\ttotal: 351ms\tremaining: 391ms\n",
      "473:\tlearn: 0.0232110\ttotal: 351ms\tremaining: 390ms\n",
      "474:\tlearn: 0.0231725\ttotal: 351ms\tremaining: 388ms\n",
      "475:\tlearn: 0.0231526\ttotal: 352ms\tremaining: 387ms\n",
      "476:\tlearn: 0.0231315\ttotal: 353ms\tremaining: 387ms\n",
      "477:\tlearn: 0.0231195\ttotal: 353ms\tremaining: 385ms\n",
      "478:\tlearn: 0.0230839\ttotal: 353ms\tremaining: 384ms\n",
      "479:\tlearn: 0.0230742\ttotal: 354ms\tremaining: 383ms\n",
      "480:\tlearn: 0.0230224\ttotal: 354ms\tremaining: 382ms\n",
      "481:\tlearn: 0.0230049\ttotal: 354ms\tremaining: 380ms\n",
      "482:\tlearn: 0.0229854\ttotal: 354ms\tremaining: 379ms\n",
      "483:\tlearn: 0.0229704\ttotal: 355ms\tremaining: 379ms\n",
      "484:\tlearn: 0.0229286\ttotal: 356ms\tremaining: 378ms\n",
      "485:\tlearn: 0.0229093\ttotal: 357ms\tremaining: 378ms\n",
      "486:\tlearn: 0.0228708\ttotal: 358ms\tremaining: 377ms\n",
      "487:\tlearn: 0.0228151\ttotal: 359ms\tremaining: 377ms\n",
      "488:\tlearn: 0.0227962\ttotal: 360ms\tremaining: 376ms\n",
      "489:\tlearn: 0.0227721\ttotal: 361ms\tremaining: 376ms\n",
      "490:\tlearn: 0.0227504\ttotal: 362ms\tremaining: 375ms\n",
      "491:\tlearn: 0.0227021\ttotal: 362ms\tremaining: 374ms\n",
      "492:\tlearn: 0.0226675\ttotal: 362ms\tremaining: 372ms\n",
      "493:\tlearn: 0.0226424\ttotal: 362ms\tremaining: 371ms\n",
      "494:\tlearn: 0.0225964\ttotal: 363ms\tremaining: 370ms\n",
      "495:\tlearn: 0.0225558\ttotal: 363ms\tremaining: 369ms\n",
      "496:\tlearn: 0.0225355\ttotal: 364ms\tremaining: 369ms\n",
      "497:\tlearn: 0.0225025\ttotal: 365ms\tremaining: 368ms\n",
      "498:\tlearn: 0.0224800\ttotal: 366ms\tremaining: 367ms\n",
      "499:\tlearn: 0.0224470\ttotal: 367ms\tremaining: 367ms\n",
      "500:\tlearn: 0.0224133\ttotal: 367ms\tremaining: 366ms\n",
      "501:\tlearn: 0.0223780\ttotal: 368ms\tremaining: 365ms\n",
      "502:\tlearn: 0.0223497\ttotal: 368ms\tremaining: 364ms\n",
      "503:\tlearn: 0.0223218\ttotal: 369ms\tremaining: 363ms\n",
      "504:\tlearn: 0.0222950\ttotal: 369ms\tremaining: 362ms\n",
      "505:\tlearn: 0.0222608\ttotal: 369ms\tremaining: 360ms\n",
      "506:\tlearn: 0.0222532\ttotal: 370ms\tremaining: 359ms\n",
      "507:\tlearn: 0.0222353\ttotal: 370ms\tremaining: 358ms\n",
      "508:\tlearn: 0.0222001\ttotal: 370ms\tremaining: 357ms\n",
      "509:\tlearn: 0.0221745\ttotal: 371ms\tremaining: 356ms\n"
     ]
    },
    {
     "name": "stdout",
     "output_type": "stream",
     "text": [
      "510:\tlearn: 0.0221452\ttotal: 371ms\tremaining: 355ms\n",
      "511:\tlearn: 0.0221276\ttotal: 371ms\tremaining: 354ms\n",
      "512:\tlearn: 0.0221031\ttotal: 372ms\tremaining: 353ms\n",
      "513:\tlearn: 0.0220607\ttotal: 373ms\tremaining: 353ms\n",
      "514:\tlearn: 0.0220393\ttotal: 375ms\tremaining: 353ms\n",
      "515:\tlearn: 0.0220215\ttotal: 375ms\tremaining: 352ms\n",
      "516:\tlearn: 0.0219903\ttotal: 376ms\tremaining: 351ms\n",
      "517:\tlearn: 0.0219557\ttotal: 376ms\tremaining: 350ms\n",
      "518:\tlearn: 0.0219273\ttotal: 376ms\tremaining: 349ms\n",
      "519:\tlearn: 0.0219112\ttotal: 376ms\tremaining: 347ms\n",
      "520:\tlearn: 0.0218883\ttotal: 377ms\tremaining: 346ms\n",
      "521:\tlearn: 0.0218643\ttotal: 377ms\tremaining: 345ms\n",
      "522:\tlearn: 0.0218287\ttotal: 377ms\tremaining: 344ms\n",
      "523:\tlearn: 0.0218102\ttotal: 378ms\tremaining: 343ms\n",
      "524:\tlearn: 0.0217935\ttotal: 378ms\tremaining: 342ms\n",
      "525:\tlearn: 0.0217753\ttotal: 378ms\tremaining: 341ms\n",
      "526:\tlearn: 0.0217498\ttotal: 379ms\tremaining: 340ms\n",
      "527:\tlearn: 0.0216968\ttotal: 379ms\tremaining: 339ms\n",
      "528:\tlearn: 0.0216816\ttotal: 380ms\tremaining: 338ms\n",
      "529:\tlearn: 0.0216600\ttotal: 380ms\tremaining: 337ms\n",
      "530:\tlearn: 0.0216213\ttotal: 381ms\tremaining: 336ms\n",
      "531:\tlearn: 0.0215992\ttotal: 382ms\tremaining: 336ms\n",
      "532:\tlearn: 0.0215710\ttotal: 382ms\tremaining: 335ms\n",
      "533:\tlearn: 0.0215567\ttotal: 383ms\tremaining: 334ms\n",
      "534:\tlearn: 0.0215303\ttotal: 383ms\tremaining: 333ms\n",
      "535:\tlearn: 0.0215147\ttotal: 384ms\tremaining: 332ms\n",
      "536:\tlearn: 0.0214861\ttotal: 384ms\tremaining: 331ms\n",
      "537:\tlearn: 0.0214555\ttotal: 385ms\tremaining: 330ms\n",
      "538:\tlearn: 0.0214390\ttotal: 385ms\tremaining: 329ms\n",
      "539:\tlearn: 0.0214178\ttotal: 386ms\tremaining: 328ms\n",
      "540:\tlearn: 0.0213906\ttotal: 386ms\tremaining: 328ms\n",
      "541:\tlearn: 0.0213675\ttotal: 387ms\tremaining: 327ms\n",
      "542:\tlearn: 0.0213325\ttotal: 387ms\tremaining: 326ms\n",
      "543:\tlearn: 0.0213162\ttotal: 387ms\tremaining: 324ms\n",
      "544:\tlearn: 0.0212662\ttotal: 387ms\tremaining: 323ms\n",
      "545:\tlearn: 0.0212474\ttotal: 388ms\tremaining: 322ms\n",
      "546:\tlearn: 0.0212199\ttotal: 388ms\tremaining: 321ms\n",
      "547:\tlearn: 0.0212107\ttotal: 389ms\tremaining: 321ms\n",
      "548:\tlearn: 0.0211940\ttotal: 389ms\tremaining: 320ms\n",
      "549:\tlearn: 0.0211695\ttotal: 389ms\tremaining: 319ms\n",
      "550:\tlearn: 0.0211515\ttotal: 390ms\tremaining: 318ms\n",
      "551:\tlearn: 0.0211229\ttotal: 390ms\tremaining: 317ms\n",
      "552:\tlearn: 0.0211071\ttotal: 390ms\tremaining: 315ms\n",
      "553:\tlearn: 0.0210840\ttotal: 391ms\tremaining: 315ms\n",
      "554:\tlearn: 0.0210457\ttotal: 391ms\tremaining: 313ms\n",
      "555:\tlearn: 0.0210355\ttotal: 392ms\tremaining: 313ms\n",
      "556:\tlearn: 0.0210260\ttotal: 393ms\tremaining: 312ms\n",
      "557:\tlearn: 0.0209991\ttotal: 394ms\tremaining: 312ms\n",
      "558:\tlearn: 0.0209762\ttotal: 395ms\tremaining: 311ms\n",
      "559:\tlearn: 0.0209526\ttotal: 395ms\tremaining: 310ms\n"
     ]
    },
    {
     "name": "stdout",
     "output_type": "stream",
     "text": [
      "560:\tlearn: 0.0209373\ttotal: 397ms\tremaining: 311ms\n",
      "561:\tlearn: 0.0209086\ttotal: 398ms\tremaining: 310ms\n",
      "562:\tlearn: 0.0208942\ttotal: 398ms\tremaining: 309ms\n",
      "563:\tlearn: 0.0208666\ttotal: 398ms\tremaining: 308ms\n",
      "564:\tlearn: 0.0208274\ttotal: 399ms\tremaining: 307ms\n",
      "565:\tlearn: 0.0208127\ttotal: 399ms\tremaining: 306ms\n",
      "566:\tlearn: 0.0207983\ttotal: 400ms\tremaining: 305ms\n",
      "567:\tlearn: 0.0207707\ttotal: 400ms\tremaining: 304ms\n",
      "568:\tlearn: 0.0207613\ttotal: 400ms\tremaining: 303ms\n",
      "569:\tlearn: 0.0207523\ttotal: 401ms\tremaining: 302ms\n",
      "570:\tlearn: 0.0207423\ttotal: 401ms\tremaining: 301ms\n",
      "571:\tlearn: 0.0207198\ttotal: 401ms\tremaining: 300ms\n",
      "572:\tlearn: 0.0207061\ttotal: 402ms\tremaining: 299ms\n",
      "573:\tlearn: 0.0206780\ttotal: 403ms\tremaining: 299ms\n",
      "574:\tlearn: 0.0206642\ttotal: 403ms\tremaining: 298ms\n",
      "575:\tlearn: 0.0206498\ttotal: 404ms\tremaining: 297ms\n",
      "576:\tlearn: 0.0206333\ttotal: 404ms\tremaining: 296ms\n",
      "577:\tlearn: 0.0206195\ttotal: 404ms\tremaining: 295ms\n",
      "578:\tlearn: 0.0206002\ttotal: 404ms\tremaining: 294ms\n",
      "579:\tlearn: 0.0205838\ttotal: 405ms\tremaining: 293ms\n",
      "580:\tlearn: 0.0205711\ttotal: 405ms\tremaining: 292ms\n",
      "581:\tlearn: 0.0205448\ttotal: 406ms\tremaining: 292ms\n",
      "582:\tlearn: 0.0205093\ttotal: 407ms\tremaining: 291ms\n",
      "583:\tlearn: 0.0204837\ttotal: 407ms\tremaining: 290ms\n",
      "584:\tlearn: 0.0204748\ttotal: 407ms\tremaining: 289ms\n",
      "585:\tlearn: 0.0204612\ttotal: 407ms\tremaining: 288ms\n",
      "586:\tlearn: 0.0204488\ttotal: 408ms\tremaining: 287ms\n",
      "587:\tlearn: 0.0204403\ttotal: 408ms\tremaining: 286ms\n",
      "588:\tlearn: 0.0204233\ttotal: 409ms\tremaining: 285ms\n",
      "589:\tlearn: 0.0204169\ttotal: 409ms\tremaining: 284ms\n",
      "590:\tlearn: 0.0203954\ttotal: 409ms\tremaining: 283ms\n",
      "591:\tlearn: 0.0203593\ttotal: 410ms\tremaining: 282ms\n",
      "592:\tlearn: 0.0203441\ttotal: 410ms\tremaining: 281ms\n",
      "593:\tlearn: 0.0202969\ttotal: 410ms\tremaining: 280ms\n",
      "594:\tlearn: 0.0202839\ttotal: 411ms\tremaining: 280ms\n",
      "595:\tlearn: 0.0202592\ttotal: 411ms\tremaining: 279ms\n",
      "596:\tlearn: 0.0202142\ttotal: 411ms\tremaining: 278ms\n",
      "597:\tlearn: 0.0202062\ttotal: 412ms\tremaining: 277ms\n",
      "598:\tlearn: 0.0201924\ttotal: 412ms\tremaining: 276ms\n",
      "599:\tlearn: 0.0201785\ttotal: 412ms\tremaining: 275ms\n",
      "600:\tlearn: 0.0201557\ttotal: 413ms\tremaining: 274ms\n",
      "601:\tlearn: 0.0201358\ttotal: 413ms\tremaining: 273ms\n",
      "602:\tlearn: 0.0200930\ttotal: 413ms\tremaining: 272ms\n",
      "603:\tlearn: 0.0200798\ttotal: 414ms\tremaining: 271ms\n",
      "604:\tlearn: 0.0200611\ttotal: 414ms\tremaining: 270ms\n",
      "605:\tlearn: 0.0200203\ttotal: 414ms\tremaining: 269ms\n",
      "606:\tlearn: 0.0199981\ttotal: 415ms\tremaining: 268ms\n",
      "607:\tlearn: 0.0199792\ttotal: 415ms\tremaining: 267ms\n",
      "608:\tlearn: 0.0199645\ttotal: 415ms\tremaining: 267ms\n",
      "609:\tlearn: 0.0199296\ttotal: 415ms\tremaining: 266ms\n",
      "610:\tlearn: 0.0199177\ttotal: 418ms\tremaining: 266ms\n",
      "611:\tlearn: 0.0198709\ttotal: 419ms\tremaining: 265ms\n",
      "612:\tlearn: 0.0198424\ttotal: 419ms\tremaining: 264ms\n",
      "613:\tlearn: 0.0198292\ttotal: 419ms\tremaining: 263ms\n",
      "614:\tlearn: 0.0198220\ttotal: 419ms\tremaining: 262ms\n",
      "615:\tlearn: 0.0198080\ttotal: 420ms\tremaining: 262ms\n",
      "616:\tlearn: 0.0197870\ttotal: 420ms\tremaining: 261ms\n",
      "617:\tlearn: 0.0197679\ttotal: 420ms\tremaining: 260ms\n",
      "618:\tlearn: 0.0197287\ttotal: 421ms\tremaining: 259ms\n",
      "619:\tlearn: 0.0197159\ttotal: 421ms\tremaining: 258ms\n",
      "620:\tlearn: 0.0196949\ttotal: 421ms\tremaining: 257ms\n",
      "621:\tlearn: 0.0196872\ttotal: 421ms\tremaining: 256ms\n",
      "622:\tlearn: 0.0196685\ttotal: 422ms\tremaining: 255ms\n",
      "623:\tlearn: 0.0196393\ttotal: 422ms\tremaining: 254ms\n",
      "624:\tlearn: 0.0196258\ttotal: 424ms\tremaining: 254ms\n",
      "625:\tlearn: 0.0195885\ttotal: 425ms\tremaining: 254ms\n",
      "626:\tlearn: 0.0195610\ttotal: 426ms\tremaining: 254ms\n",
      "627:\tlearn: 0.0195430\ttotal: 428ms\tremaining: 254ms\n"
     ]
    },
    {
     "name": "stdout",
     "output_type": "stream",
     "text": [
      "628:\tlearn: 0.0195317\ttotal: 430ms\tremaining: 253ms\n",
      "629:\tlearn: 0.0195203\ttotal: 431ms\tremaining: 253ms\n",
      "630:\tlearn: 0.0195031\ttotal: 431ms\tremaining: 252ms\n",
      "631:\tlearn: 0.0194797\ttotal: 432ms\tremaining: 251ms\n",
      "632:\tlearn: 0.0194673\ttotal: 432ms\tremaining: 251ms\n",
      "633:\tlearn: 0.0194440\ttotal: 433ms\tremaining: 250ms\n",
      "634:\tlearn: 0.0194230\ttotal: 433ms\tremaining: 249ms\n",
      "635:\tlearn: 0.0194024\ttotal: 434ms\tremaining: 248ms\n",
      "636:\tlearn: 0.0193888\ttotal: 434ms\tremaining: 247ms\n",
      "637:\tlearn: 0.0193692\ttotal: 435ms\tremaining: 247ms\n",
      "638:\tlearn: 0.0193512\ttotal: 435ms\tremaining: 246ms\n",
      "639:\tlearn: 0.0193099\ttotal: 435ms\tremaining: 245ms\n",
      "640:\tlearn: 0.0192725\ttotal: 436ms\tremaining: 244ms\n",
      "641:\tlearn: 0.0192566\ttotal: 436ms\tremaining: 243ms\n",
      "642:\tlearn: 0.0192342\ttotal: 436ms\tremaining: 242ms\n",
      "643:\tlearn: 0.0192172\ttotal: 437ms\tremaining: 241ms\n",
      "644:\tlearn: 0.0192024\ttotal: 437ms\tremaining: 241ms\n",
      "645:\tlearn: 0.0191805\ttotal: 438ms\tremaining: 240ms\n",
      "646:\tlearn: 0.0191632\ttotal: 438ms\tremaining: 239ms\n",
      "647:\tlearn: 0.0191566\ttotal: 438ms\tremaining: 238ms\n",
      "648:\tlearn: 0.0191267\ttotal: 439ms\tremaining: 237ms\n",
      "649:\tlearn: 0.0190938\ttotal: 439ms\tremaining: 236ms\n",
      "650:\tlearn: 0.0190612\ttotal: 439ms\tremaining: 235ms\n",
      "651:\tlearn: 0.0190423\ttotal: 440ms\tremaining: 235ms\n",
      "652:\tlearn: 0.0190317\ttotal: 441ms\tremaining: 234ms\n",
      "653:\tlearn: 0.0190152\ttotal: 441ms\tremaining: 233ms\n",
      "654:\tlearn: 0.0190043\ttotal: 442ms\tremaining: 233ms\n",
      "655:\tlearn: 0.0189883\ttotal: 442ms\tremaining: 232ms\n",
      "656:\tlearn: 0.0189723\ttotal: 442ms\tremaining: 231ms\n",
      "657:\tlearn: 0.0189561\ttotal: 443ms\tremaining: 230ms\n",
      "658:\tlearn: 0.0189323\ttotal: 443ms\tremaining: 229ms\n",
      "659:\tlearn: 0.0189179\ttotal: 444ms\tremaining: 229ms\n",
      "660:\tlearn: 0.0188901\ttotal: 444ms\tremaining: 228ms\n",
      "661:\tlearn: 0.0188744\ttotal: 444ms\tremaining: 227ms\n",
      "662:\tlearn: 0.0188659\ttotal: 445ms\tremaining: 226ms\n",
      "663:\tlearn: 0.0188559\ttotal: 445ms\tremaining: 225ms\n",
      "664:\tlearn: 0.0188246\ttotal: 445ms\tremaining: 224ms\n",
      "665:\tlearn: 0.0188093\ttotal: 446ms\tremaining: 224ms\n",
      "666:\tlearn: 0.0187961\ttotal: 447ms\tremaining: 223ms\n",
      "667:\tlearn: 0.0187815\ttotal: 448ms\tremaining: 222ms\n",
      "668:\tlearn: 0.0187674\ttotal: 448ms\tremaining: 222ms\n",
      "669:\tlearn: 0.0187626\ttotal: 448ms\tremaining: 221ms\n",
      "670:\tlearn: 0.0187515\ttotal: 449ms\tremaining: 220ms\n",
      "671:\tlearn: 0.0187326\ttotal: 449ms\tremaining: 219ms\n",
      "672:\tlearn: 0.0187164\ttotal: 449ms\tremaining: 218ms\n",
      "673:\tlearn: 0.0187057\ttotal: 450ms\tremaining: 218ms\n",
      "674:\tlearn: 0.0186913\ttotal: 450ms\tremaining: 217ms\n",
      "675:\tlearn: 0.0186743\ttotal: 451ms\tremaining: 216ms\n",
      "676:\tlearn: 0.0186536\ttotal: 451ms\tremaining: 215ms\n",
      "677:\tlearn: 0.0186379\ttotal: 451ms\tremaining: 214ms\n",
      "678:\tlearn: 0.0185881\ttotal: 452ms\tremaining: 213ms\n",
      "679:\tlearn: 0.0185792\ttotal: 452ms\tremaining: 213ms\n",
      "680:\tlearn: 0.0185706\ttotal: 452ms\tremaining: 212ms\n",
      "681:\tlearn: 0.0185639\ttotal: 453ms\tremaining: 211ms\n",
      "682:\tlearn: 0.0185471\ttotal: 453ms\tremaining: 210ms\n",
      "683:\tlearn: 0.0185408\ttotal: 453ms\tremaining: 209ms\n",
      "684:\tlearn: 0.0185289\ttotal: 454ms\tremaining: 209ms\n",
      "685:\tlearn: 0.0185100\ttotal: 454ms\tremaining: 208ms\n",
      "686:\tlearn: 0.0184979\ttotal: 455ms\tremaining: 207ms\n",
      "687:\tlearn: 0.0184803\ttotal: 455ms\tremaining: 206ms\n",
      "688:\tlearn: 0.0184324\ttotal: 455ms\tremaining: 206ms\n",
      "689:\tlearn: 0.0184221\ttotal: 456ms\tremaining: 205ms\n",
      "690:\tlearn: 0.0184090\ttotal: 456ms\tremaining: 204ms\n",
      "691:\tlearn: 0.0183989\ttotal: 456ms\tremaining: 203ms\n",
      "692:\tlearn: 0.0183864\ttotal: 457ms\tremaining: 202ms\n",
      "693:\tlearn: 0.0183698\ttotal: 457ms\tremaining: 202ms\n",
      "694:\tlearn: 0.0183543\ttotal: 457ms\tremaining: 201ms\n",
      "695:\tlearn: 0.0183364\ttotal: 458ms\tremaining: 200ms\n",
      "696:\tlearn: 0.0183243\ttotal: 458ms\tremaining: 199ms\n",
      "697:\tlearn: 0.0183116\ttotal: 458ms\tremaining: 198ms\n",
      "698:\tlearn: 0.0183065\ttotal: 460ms\tremaining: 198ms\n",
      "699:\tlearn: 0.0182841\ttotal: 461ms\tremaining: 197ms\n",
      "700:\tlearn: 0.0182732\ttotal: 461ms\tremaining: 197ms\n",
      "701:\tlearn: 0.0182627\ttotal: 461ms\tremaining: 196ms\n",
      "702:\tlearn: 0.0182504\ttotal: 462ms\tremaining: 195ms\n",
      "703:\tlearn: 0.0182219\ttotal: 462ms\tremaining: 194ms\n",
      "704:\tlearn: 0.0182058\ttotal: 463ms\tremaining: 194ms\n",
      "705:\tlearn: 0.0181717\ttotal: 463ms\tremaining: 193ms\n",
      "706:\tlearn: 0.0181618\ttotal: 463ms\tremaining: 192ms\n",
      "707:\tlearn: 0.0181517\ttotal: 464ms\tremaining: 191ms\n",
      "708:\tlearn: 0.0180943\ttotal: 464ms\tremaining: 190ms\n",
      "709:\tlearn: 0.0180866\ttotal: 464ms\tremaining: 190ms\n",
      "710:\tlearn: 0.0180780\ttotal: 465ms\tremaining: 189ms\n",
      "711:\tlearn: 0.0180681\ttotal: 465ms\tremaining: 188ms\n",
      "712:\tlearn: 0.0180318\ttotal: 466ms\tremaining: 187ms\n",
      "713:\tlearn: 0.0180178\ttotal: 466ms\tremaining: 187ms\n",
      "714:\tlearn: 0.0179869\ttotal: 466ms\tremaining: 186ms\n",
      "715:\tlearn: 0.0179799\ttotal: 466ms\tremaining: 185ms\n",
      "716:\tlearn: 0.0179604\ttotal: 467ms\tremaining: 184ms\n",
      "717:\tlearn: 0.0179386\ttotal: 467ms\tremaining: 183ms\n",
      "718:\tlearn: 0.0179290\ttotal: 467ms\tremaining: 183ms\n",
      "719:\tlearn: 0.0179091\ttotal: 468ms\tremaining: 182ms\n",
      "720:\tlearn: 0.0178875\ttotal: 468ms\tremaining: 181ms\n",
      "721:\tlearn: 0.0178729\ttotal: 469ms\tremaining: 180ms\n",
      "722:\tlearn: 0.0178633\ttotal: 469ms\tremaining: 180ms\n",
      "723:\tlearn: 0.0178482\ttotal: 469ms\tremaining: 179ms\n",
      "724:\tlearn: 0.0178316\ttotal: 469ms\tremaining: 178ms\n",
      "725:\tlearn: 0.0178028\ttotal: 470ms\tremaining: 177ms\n",
      "726:\tlearn: 0.0177800\ttotal: 471ms\tremaining: 177ms\n",
      "727:\tlearn: 0.0177749\ttotal: 471ms\tremaining: 176ms\n",
      "728:\tlearn: 0.0177661\ttotal: 471ms\tremaining: 175ms\n",
      "729:\tlearn: 0.0177345\ttotal: 471ms\tremaining: 174ms\n",
      "730:\tlearn: 0.0177203\ttotal: 472ms\tremaining: 174ms\n",
      "731:\tlearn: 0.0177102\ttotal: 472ms\tremaining: 173ms\n",
      "732:\tlearn: 0.0176990\ttotal: 472ms\tremaining: 172ms\n",
      "733:\tlearn: 0.0176836\ttotal: 473ms\tremaining: 171ms\n",
      "734:\tlearn: 0.0176642\ttotal: 473ms\tremaining: 171ms\n",
      "735:\tlearn: 0.0176450\ttotal: 474ms\tremaining: 170ms\n",
      "736:\tlearn: 0.0176095\ttotal: 475ms\tremaining: 169ms\n",
      "737:\tlearn: 0.0175758\ttotal: 475ms\tremaining: 169ms\n",
      "738:\tlearn: 0.0175611\ttotal: 475ms\tremaining: 168ms\n",
      "739:\tlearn: 0.0175412\ttotal: 476ms\tremaining: 167ms\n",
      "740:\tlearn: 0.0174983\ttotal: 476ms\tremaining: 167ms\n",
      "741:\tlearn: 0.0174841\ttotal: 477ms\tremaining: 166ms\n",
      "742:\tlearn: 0.0174392\ttotal: 478ms\tremaining: 165ms\n",
      "743:\tlearn: 0.0174318\ttotal: 478ms\tremaining: 164ms\n",
      "744:\tlearn: 0.0174224\ttotal: 478ms\tremaining: 164ms\n",
      "745:\tlearn: 0.0174073\ttotal: 479ms\tremaining: 163ms\n",
      "746:\tlearn: 0.0173936\ttotal: 479ms\tremaining: 162ms\n",
      "747:\tlearn: 0.0173636\ttotal: 479ms\tremaining: 162ms\n",
      "748:\tlearn: 0.0173538\ttotal: 480ms\tremaining: 161ms\n",
      "749:\tlearn: 0.0173444\ttotal: 480ms\tremaining: 160ms\n",
      "750:\tlearn: 0.0173317\ttotal: 480ms\tremaining: 159ms\n",
      "751:\tlearn: 0.0173182\ttotal: 482ms\tremaining: 159ms\n",
      "752:\tlearn: 0.0172913\ttotal: 482ms\tremaining: 158ms\n",
      "753:\tlearn: 0.0172867\ttotal: 483ms\tremaining: 158ms\n",
      "754:\tlearn: 0.0172686\ttotal: 484ms\tremaining: 157ms\n",
      "755:\tlearn: 0.0172442\ttotal: 484ms\tremaining: 156ms\n",
      "756:\tlearn: 0.0172310\ttotal: 484ms\tremaining: 155ms\n",
      "757:\tlearn: 0.0172184\ttotal: 485ms\tremaining: 155ms\n",
      "758:\tlearn: 0.0172010\ttotal: 485ms\tremaining: 154ms\n",
      "759:\tlearn: 0.0171918\ttotal: 486ms\tremaining: 153ms\n",
      "760:\tlearn: 0.0171795\ttotal: 486ms\tremaining: 153ms\n",
      "761:\tlearn: 0.0171677\ttotal: 486ms\tremaining: 152ms\n",
      "762:\tlearn: 0.0171587\ttotal: 487ms\tremaining: 151ms\n",
      "763:\tlearn: 0.0171485\ttotal: 487ms\tremaining: 151ms\n",
      "764:\tlearn: 0.0171342\ttotal: 488ms\tremaining: 150ms\n",
      "765:\tlearn: 0.0171201\ttotal: 488ms\tremaining: 149ms\n",
      "766:\tlearn: 0.0170979\ttotal: 489ms\tremaining: 148ms\n",
      "767:\tlearn: 0.0170852\ttotal: 489ms\tremaining: 148ms\n",
      "768:\tlearn: 0.0170539\ttotal: 490ms\tremaining: 147ms\n",
      "769:\tlearn: 0.0170492\ttotal: 490ms\tremaining: 146ms\n",
      "770:\tlearn: 0.0170323\ttotal: 491ms\tremaining: 146ms\n",
      "771:\tlearn: 0.0170159\ttotal: 491ms\tremaining: 145ms\n",
      "772:\tlearn: 0.0170023\ttotal: 491ms\tremaining: 144ms\n",
      "773:\tlearn: 0.0169955\ttotal: 491ms\tremaining: 144ms\n",
      "774:\tlearn: 0.0169886\ttotal: 492ms\tremaining: 143ms\n",
      "775:\tlearn: 0.0169745\ttotal: 492ms\tremaining: 142ms\n",
      "776:\tlearn: 0.0169679\ttotal: 493ms\tremaining: 141ms\n",
      "777:\tlearn: 0.0169621\ttotal: 493ms\tremaining: 141ms\n",
      "778:\tlearn: 0.0169541\ttotal: 494ms\tremaining: 140ms\n",
      "779:\tlearn: 0.0169456\ttotal: 494ms\tremaining: 139ms\n",
      "780:\tlearn: 0.0169353\ttotal: 495ms\tremaining: 139ms\n",
      "781:\tlearn: 0.0169268\ttotal: 495ms\tremaining: 138ms\n",
      "782:\tlearn: 0.0169150\ttotal: 495ms\tremaining: 137ms\n",
      "783:\tlearn: 0.0169024\ttotal: 496ms\tremaining: 137ms\n",
      "784:\tlearn: 0.0168909\ttotal: 496ms\tremaining: 136ms\n",
      "785:\tlearn: 0.0168627\ttotal: 496ms\tremaining: 135ms\n",
      "786:\tlearn: 0.0168557\ttotal: 497ms\tremaining: 134ms\n",
      "787:\tlearn: 0.0168310\ttotal: 497ms\tremaining: 134ms\n",
      "788:\tlearn: 0.0168187\ttotal: 498ms\tremaining: 133ms\n",
      "789:\tlearn: 0.0167875\ttotal: 498ms\tremaining: 132ms\n",
      "790:\tlearn: 0.0167709\ttotal: 498ms\tremaining: 132ms\n",
      "791:\tlearn: 0.0167674\ttotal: 499ms\tremaining: 131ms\n",
      "792:\tlearn: 0.0167431\ttotal: 499ms\tremaining: 130ms\n",
      "793:\tlearn: 0.0167265\ttotal: 499ms\tremaining: 130ms\n",
      "794:\tlearn: 0.0167145\ttotal: 499ms\tremaining: 129ms\n",
      "795:\tlearn: 0.0167036\ttotal: 500ms\tremaining: 128ms\n",
      "796:\tlearn: 0.0166965\ttotal: 501ms\tremaining: 128ms\n",
      "797:\tlearn: 0.0166818\ttotal: 501ms\tremaining: 127ms\n",
      "798:\tlearn: 0.0166658\ttotal: 502ms\tremaining: 126ms\n",
      "799:\tlearn: 0.0166531\ttotal: 502ms\tremaining: 125ms\n",
      "800:\tlearn: 0.0166342\ttotal: 502ms\tremaining: 125ms\n",
      "801:\tlearn: 0.0166200\ttotal: 503ms\tremaining: 124ms\n",
      "802:\tlearn: 0.0165945\ttotal: 504ms\tremaining: 124ms\n",
      "803:\tlearn: 0.0165863\ttotal: 504ms\tremaining: 123ms\n",
      "804:\tlearn: 0.0165666\ttotal: 505ms\tremaining: 122ms\n",
      "805:\tlearn: 0.0165611\ttotal: 505ms\tremaining: 122ms\n",
      "806:\tlearn: 0.0165275\ttotal: 505ms\tremaining: 121ms\n",
      "807:\tlearn: 0.0165194\ttotal: 505ms\tremaining: 120ms\n",
      "808:\tlearn: 0.0165087\ttotal: 506ms\tremaining: 119ms\n",
      "809:\tlearn: 0.0164947\ttotal: 507ms\tremaining: 119ms\n",
      "810:\tlearn: 0.0164823\ttotal: 507ms\tremaining: 118ms\n",
      "811:\tlearn: 0.0164544\ttotal: 507ms\tremaining: 117ms\n",
      "812:\tlearn: 0.0164483\ttotal: 508ms\tremaining: 117ms\n",
      "813:\tlearn: 0.0164398\ttotal: 508ms\tremaining: 116ms\n",
      "814:\tlearn: 0.0164204\ttotal: 508ms\tremaining: 115ms\n",
      "815:\tlearn: 0.0164045\ttotal: 508ms\tremaining: 115ms\n"
     ]
    },
    {
     "name": "stdout",
     "output_type": "stream",
     "text": [
      "816:\tlearn: 0.0163886\ttotal: 509ms\tremaining: 114ms\n",
      "817:\tlearn: 0.0163601\ttotal: 509ms\tremaining: 113ms\n",
      "818:\tlearn: 0.0163559\ttotal: 509ms\tremaining: 113ms\n",
      "819:\tlearn: 0.0163422\ttotal: 512ms\tremaining: 112ms\n",
      "820:\tlearn: 0.0163152\ttotal: 513ms\tremaining: 112ms\n",
      "821:\tlearn: 0.0162980\ttotal: 513ms\tremaining: 111ms\n",
      "822:\tlearn: 0.0162878\ttotal: 514ms\tremaining: 111ms\n",
      "823:\tlearn: 0.0162780\ttotal: 514ms\tremaining: 110ms\n",
      "824:\tlearn: 0.0162515\ttotal: 514ms\tremaining: 109ms\n",
      "825:\tlearn: 0.0162436\ttotal: 515ms\tremaining: 108ms\n",
      "826:\tlearn: 0.0162342\ttotal: 515ms\tremaining: 108ms\n",
      "827:\tlearn: 0.0162232\ttotal: 515ms\tremaining: 107ms\n",
      "828:\tlearn: 0.0162116\ttotal: 516ms\tremaining: 106ms\n",
      "829:\tlearn: 0.0162061\ttotal: 516ms\tremaining: 106ms\n",
      "830:\tlearn: 0.0161914\ttotal: 518ms\tremaining: 105ms\n",
      "831:\tlearn: 0.0161808\ttotal: 518ms\tremaining: 105ms\n",
      "832:\tlearn: 0.0161783\ttotal: 519ms\tremaining: 104ms\n",
      "833:\tlearn: 0.0161652\ttotal: 519ms\tremaining: 103ms\n",
      "834:\tlearn: 0.0161525\ttotal: 519ms\tremaining: 103ms\n",
      "835:\tlearn: 0.0161469\ttotal: 520ms\tremaining: 102ms\n",
      "836:\tlearn: 0.0161325\ttotal: 520ms\tremaining: 101ms\n",
      "837:\tlearn: 0.0161215\ttotal: 520ms\tremaining: 101ms\n",
      "838:\tlearn: 0.0161088\ttotal: 520ms\tremaining: 99.9ms\n",
      "839:\tlearn: 0.0161008\ttotal: 521ms\tremaining: 99.2ms\n",
      "840:\tlearn: 0.0160916\ttotal: 521ms\tremaining: 98.5ms\n",
      "841:\tlearn: 0.0160636\ttotal: 521ms\tremaining: 97.8ms\n",
      "842:\tlearn: 0.0160533\ttotal: 522ms\tremaining: 97.2ms\n",
      "843:\tlearn: 0.0160395\ttotal: 522ms\tremaining: 96.5ms\n",
      "844:\tlearn: 0.0160323\ttotal: 522ms\tremaining: 95.8ms\n",
      "845:\tlearn: 0.0160084\ttotal: 523ms\tremaining: 95.2ms\n",
      "846:\tlearn: 0.0159887\ttotal: 523ms\tremaining: 94.5ms\n",
      "847:\tlearn: 0.0159780\ttotal: 523ms\tremaining: 93.8ms\n",
      "848:\tlearn: 0.0159690\ttotal: 524ms\tremaining: 93.1ms\n",
      "849:\tlearn: 0.0159349\ttotal: 524ms\tremaining: 92.5ms\n",
      "850:\tlearn: 0.0159135\ttotal: 524ms\tremaining: 91.8ms\n",
      "851:\tlearn: 0.0158973\ttotal: 525ms\tremaining: 91.2ms\n",
      "852:\tlearn: 0.0158866\ttotal: 525ms\tremaining: 90.6ms\n",
      "853:\tlearn: 0.0158647\ttotal: 526ms\tremaining: 89.9ms\n",
      "854:\tlearn: 0.0158553\ttotal: 526ms\tremaining: 89.3ms\n",
      "855:\tlearn: 0.0158266\ttotal: 527ms\tremaining: 88.6ms\n",
      "856:\tlearn: 0.0158141\ttotal: 528ms\tremaining: 88ms\n",
      "857:\tlearn: 0.0158077\ttotal: 528ms\tremaining: 87.4ms\n",
      "858:\tlearn: 0.0157915\ttotal: 529ms\tremaining: 86.8ms\n",
      "859:\tlearn: 0.0157746\ttotal: 529ms\tremaining: 86.1ms\n",
      "860:\tlearn: 0.0157579\ttotal: 529ms\tremaining: 85.4ms\n",
      "861:\tlearn: 0.0157438\ttotal: 529ms\tremaining: 84.8ms\n",
      "862:\tlearn: 0.0157343\ttotal: 530ms\tremaining: 84.1ms\n",
      "863:\tlearn: 0.0157176\ttotal: 530ms\tremaining: 83.4ms\n",
      "864:\tlearn: 0.0157109\ttotal: 530ms\tremaining: 82.8ms\n",
      "865:\tlearn: 0.0156760\ttotal: 531ms\tremaining: 82.1ms\n",
      "866:\tlearn: 0.0156473\ttotal: 531ms\tremaining: 81.5ms\n"
     ]
    },
    {
     "name": "stdout",
     "output_type": "stream",
     "text": [
      "867:\tlearn: 0.0156199\ttotal: 532ms\tremaining: 80.8ms\n",
      "868:\tlearn: 0.0156091\ttotal: 534ms\tremaining: 80.6ms\n",
      "869:\tlearn: 0.0155854\ttotal: 535ms\tremaining: 79.9ms\n",
      "870:\tlearn: 0.0155752\ttotal: 535ms\tremaining: 79.2ms\n",
      "871:\tlearn: 0.0155655\ttotal: 535ms\tremaining: 78.6ms\n",
      "872:\tlearn: 0.0155582\ttotal: 536ms\tremaining: 77.9ms\n",
      "873:\tlearn: 0.0155407\ttotal: 536ms\tremaining: 77.2ms\n",
      "874:\tlearn: 0.0155210\ttotal: 536ms\tremaining: 76.6ms\n",
      "875:\tlearn: 0.0155083\ttotal: 536ms\tremaining: 75.9ms\n",
      "876:\tlearn: 0.0155012\ttotal: 537ms\tremaining: 75.3ms\n",
      "877:\tlearn: 0.0154857\ttotal: 537ms\tremaining: 74.6ms\n",
      "878:\tlearn: 0.0154788\ttotal: 537ms\tremaining: 74ms\n",
      "879:\tlearn: 0.0154726\ttotal: 538ms\tremaining: 73.3ms\n",
      "880:\tlearn: 0.0154645\ttotal: 538ms\tremaining: 72.6ms\n",
      "881:\tlearn: 0.0154522\ttotal: 538ms\tremaining: 72ms\n",
      "882:\tlearn: 0.0154402\ttotal: 538ms\tremaining: 71.3ms\n",
      "883:\tlearn: 0.0154205\ttotal: 539ms\tremaining: 70.7ms\n",
      "884:\tlearn: 0.0154099\ttotal: 539ms\tremaining: 70ms\n",
      "885:\tlearn: 0.0153695\ttotal: 539ms\tremaining: 69.4ms\n",
      "886:\tlearn: 0.0153607\ttotal: 540ms\tremaining: 68.8ms\n",
      "887:\tlearn: 0.0153480\ttotal: 540ms\tremaining: 68.1ms\n",
      "888:\tlearn: 0.0153405\ttotal: 540ms\tremaining: 67.5ms\n",
      "889:\tlearn: 0.0153248\ttotal: 541ms\tremaining: 66.8ms\n",
      "890:\tlearn: 0.0153128\ttotal: 541ms\tremaining: 66.2ms\n",
      "891:\tlearn: 0.0153036\ttotal: 541ms\tremaining: 65.5ms\n",
      "892:\tlearn: 0.0152565\ttotal: 541ms\tremaining: 64.9ms\n",
      "893:\tlearn: 0.0152531\ttotal: 542ms\tremaining: 64.2ms\n",
      "894:\tlearn: 0.0152463\ttotal: 542ms\tremaining: 63.6ms\n",
      "895:\tlearn: 0.0152373\ttotal: 543ms\tremaining: 63ms\n",
      "896:\tlearn: 0.0152162\ttotal: 543ms\tremaining: 62.4ms\n",
      "897:\tlearn: 0.0152111\ttotal: 544ms\tremaining: 61.8ms\n",
      "898:\tlearn: 0.0151995\ttotal: 544ms\tremaining: 61.1ms\n",
      "899:\tlearn: 0.0151939\ttotal: 544ms\tremaining: 60.5ms\n",
      "900:\tlearn: 0.0151835\ttotal: 545ms\tremaining: 59.8ms\n",
      "901:\tlearn: 0.0151716\ttotal: 545ms\tremaining: 59.2ms\n",
      "902:\tlearn: 0.0151569\ttotal: 546ms\tremaining: 58.6ms\n",
      "903:\tlearn: 0.0151505\ttotal: 546ms\tremaining: 58ms\n",
      "904:\tlearn: 0.0151420\ttotal: 546ms\tremaining: 57.3ms\n",
      "905:\tlearn: 0.0151367\ttotal: 547ms\tremaining: 56.7ms\n",
      "906:\tlearn: 0.0151209\ttotal: 547ms\tremaining: 56.1ms\n",
      "907:\tlearn: 0.0151116\ttotal: 547ms\tremaining: 55.4ms\n",
      "908:\tlearn: 0.0150878\ttotal: 547ms\tremaining: 54.8ms\n",
      "909:\tlearn: 0.0150653\ttotal: 548ms\tremaining: 54.2ms\n",
      "910:\tlearn: 0.0150583\ttotal: 548ms\tremaining: 53.5ms\n",
      "911:\tlearn: 0.0150493\ttotal: 548ms\tremaining: 52.9ms\n",
      "912:\tlearn: 0.0150375\ttotal: 549ms\tremaining: 52.3ms\n",
      "913:\tlearn: 0.0150300\ttotal: 549ms\tremaining: 51.6ms\n",
      "914:\tlearn: 0.0150186\ttotal: 549ms\tremaining: 51ms\n",
      "915:\tlearn: 0.0150096\ttotal: 549ms\tremaining: 50.4ms\n",
      "916:\tlearn: 0.0150047\ttotal: 550ms\tremaining: 49.7ms\n",
      "917:\tlearn: 0.0149819\ttotal: 550ms\tremaining: 49.1ms\n",
      "918:\tlearn: 0.0149713\ttotal: 550ms\tremaining: 48.5ms\n",
      "919:\tlearn: 0.0149654\ttotal: 550ms\tremaining: 47.9ms\n",
      "920:\tlearn: 0.0149544\ttotal: 551ms\tremaining: 47.2ms\n",
      "921:\tlearn: 0.0149437\ttotal: 551ms\tremaining: 46.6ms\n",
      "922:\tlearn: 0.0149150\ttotal: 551ms\tremaining: 46ms\n",
      "923:\tlearn: 0.0149061\ttotal: 552ms\tremaining: 45.4ms\n",
      "924:\tlearn: 0.0148957\ttotal: 552ms\tremaining: 44.7ms\n",
      "925:\tlearn: 0.0148878\ttotal: 553ms\tremaining: 44.2ms\n",
      "926:\tlearn: 0.0148738\ttotal: 554ms\tremaining: 43.6ms\n",
      "927:\tlearn: 0.0148693\ttotal: 554ms\tremaining: 43ms\n",
      "928:\tlearn: 0.0148601\ttotal: 554ms\tremaining: 42.3ms\n",
      "929:\tlearn: 0.0148463\ttotal: 554ms\tremaining: 41.7ms\n",
      "930:\tlearn: 0.0148395\ttotal: 555ms\tremaining: 41.1ms\n",
      "931:\tlearn: 0.0148257\ttotal: 555ms\tremaining: 40.5ms\n",
      "932:\tlearn: 0.0148159\ttotal: 556ms\tremaining: 39.9ms\n",
      "933:\tlearn: 0.0148115\ttotal: 556ms\tremaining: 39.3ms\n",
      "934:\tlearn: 0.0148037\ttotal: 556ms\tremaining: 38.7ms\n",
      "935:\tlearn: 0.0147856\ttotal: 557ms\tremaining: 38.1ms\n",
      "936:\tlearn: 0.0147735\ttotal: 557ms\tremaining: 37.4ms\n",
      "937:\tlearn: 0.0147687\ttotal: 557ms\tremaining: 36.8ms\n",
      "938:\tlearn: 0.0147590\ttotal: 559ms\tremaining: 36.3ms\n",
      "939:\tlearn: 0.0147557\ttotal: 559ms\tremaining: 35.7ms\n",
      "940:\tlearn: 0.0147344\ttotal: 559ms\tremaining: 35.1ms\n",
      "941:\tlearn: 0.0147294\ttotal: 559ms\tremaining: 34.4ms\n",
      "942:\tlearn: 0.0147153\ttotal: 560ms\tremaining: 33.8ms\n",
      "943:\tlearn: 0.0147062\ttotal: 560ms\tremaining: 33.2ms\n",
      "944:\tlearn: 0.0147016\ttotal: 560ms\tremaining: 32.6ms\n",
      "945:\tlearn: 0.0146894\ttotal: 561ms\tremaining: 32ms\n",
      "946:\tlearn: 0.0146768\ttotal: 561ms\tremaining: 31.4ms\n",
      "947:\tlearn: 0.0146544\ttotal: 562ms\tremaining: 30.8ms\n",
      "948:\tlearn: 0.0146415\ttotal: 562ms\tremaining: 30.2ms\n",
      "949:\tlearn: 0.0146300\ttotal: 562ms\tremaining: 29.6ms\n",
      "950:\tlearn: 0.0146190\ttotal: 562ms\tremaining: 29ms\n"
     ]
    },
    {
     "name": "stdout",
     "output_type": "stream",
     "text": [
      "951:\tlearn: 0.0146129\ttotal: 563ms\tremaining: 28.4ms\n",
      "952:\tlearn: 0.0146069\ttotal: 563ms\tremaining: 27.8ms\n",
      "953:\tlearn: 0.0145996\ttotal: 566ms\tremaining: 27.3ms\n",
      "954:\tlearn: 0.0145946\ttotal: 566ms\tremaining: 26.7ms\n",
      "955:\tlearn: 0.0145828\ttotal: 567ms\tremaining: 26.1ms\n",
      "956:\tlearn: 0.0145740\ttotal: 568ms\tremaining: 25.5ms\n",
      "957:\tlearn: 0.0145463\ttotal: 568ms\tremaining: 24.9ms\n",
      "958:\tlearn: 0.0145386\ttotal: 569ms\tremaining: 24.3ms\n",
      "959:\tlearn: 0.0145323\ttotal: 569ms\tremaining: 23.7ms\n",
      "960:\tlearn: 0.0145258\ttotal: 570ms\tremaining: 23.1ms\n",
      "961:\tlearn: 0.0145242\ttotal: 570ms\tremaining: 22.5ms\n",
      "962:\tlearn: 0.0145204\ttotal: 571ms\tremaining: 21.9ms\n",
      "963:\tlearn: 0.0145081\ttotal: 571ms\tremaining: 21.3ms\n",
      "964:\tlearn: 0.0144914\ttotal: 572ms\tremaining: 20.7ms\n",
      "965:\tlearn: 0.0144871\ttotal: 572ms\tremaining: 20.1ms\n",
      "966:\tlearn: 0.0144755\ttotal: 573ms\tremaining: 19.5ms\n",
      "967:\tlearn: 0.0144503\ttotal: 573ms\tremaining: 19ms\n",
      "968:\tlearn: 0.0144455\ttotal: 574ms\tremaining: 18.4ms\n",
      "969:\tlearn: 0.0144418\ttotal: 575ms\tremaining: 17.8ms\n",
      "970:\tlearn: 0.0144121\ttotal: 575ms\tremaining: 17.2ms\n",
      "971:\tlearn: 0.0144042\ttotal: 576ms\tremaining: 16.6ms\n",
      "972:\tlearn: 0.0143969\ttotal: 576ms\tremaining: 16ms\n",
      "973:\tlearn: 0.0143907\ttotal: 576ms\tremaining: 15.4ms\n",
      "974:\tlearn: 0.0143697\ttotal: 578ms\tremaining: 14.8ms\n",
      "975:\tlearn: 0.0143645\ttotal: 578ms\tremaining: 14.2ms\n",
      "976:\tlearn: 0.0143575\ttotal: 579ms\tremaining: 13.6ms\n",
      "977:\tlearn: 0.0143340\ttotal: 579ms\tremaining: 13ms\n",
      "978:\tlearn: 0.0143046\ttotal: 580ms\tremaining: 12.4ms\n",
      "979:\tlearn: 0.0142966\ttotal: 580ms\tremaining: 11.8ms\n",
      "980:\tlearn: 0.0142905\ttotal: 580ms\tremaining: 11.2ms\n",
      "981:\tlearn: 0.0142801\ttotal: 580ms\tremaining: 10.6ms\n",
      "982:\tlearn: 0.0142702\ttotal: 581ms\tremaining: 10.1ms\n",
      "983:\tlearn: 0.0142633\ttotal: 582ms\tremaining: 9.46ms\n",
      "984:\tlearn: 0.0142574\ttotal: 582ms\tremaining: 8.86ms\n",
      "985:\tlearn: 0.0142526\ttotal: 582ms\tremaining: 8.27ms\n",
      "986:\tlearn: 0.0142354\ttotal: 583ms\tremaining: 7.67ms\n",
      "987:\tlearn: 0.0142279\ttotal: 583ms\tremaining: 7.08ms\n",
      "988:\tlearn: 0.0142200\ttotal: 583ms\tremaining: 6.49ms\n",
      "989:\tlearn: 0.0141942\ttotal: 584ms\tremaining: 5.89ms\n",
      "990:\tlearn: 0.0141818\ttotal: 585ms\tremaining: 5.31ms\n",
      "991:\tlearn: 0.0141731\ttotal: 585ms\tremaining: 4.72ms\n",
      "992:\tlearn: 0.0141659\ttotal: 586ms\tremaining: 4.13ms\n",
      "993:\tlearn: 0.0141566\ttotal: 587ms\tremaining: 3.54ms\n",
      "994:\tlearn: 0.0141421\ttotal: 587ms\tremaining: 2.95ms\n",
      "995:\tlearn: 0.0141353\ttotal: 588ms\tremaining: 2.36ms\n",
      "996:\tlearn: 0.0141160\ttotal: 589ms\tremaining: 1.77ms\n",
      "997:\tlearn: 0.0141102\ttotal: 589ms\tremaining: 1.18ms\n",
      "998:\tlearn: 0.0141046\ttotal: 590ms\tremaining: 590us\n",
      "999:\tlearn: 0.0140964\ttotal: 590ms\tremaining: 0us\n",
      "Mean Absolute error 0.02003089612007948\n"
     ]
    },
    {
     "data": {
      "application/scrapbook.scrap.json+json": {
       "data": 0.02003089612007948,
       "encoder": "json",
       "name": "Catboost MAE",
       "version": 1
      }
     },
     "metadata": {
      "scrapbook": {
       "data": true,
       "display": false,
       "name": "Catboost MAE"
      }
     },
     "output_type": "display_data"
    },
    {
     "name": "stdout",
     "output_type": "stream",
     "text": [
      "Catboost MAE 0.02003089612007948\n"
     ]
    }
   ],
   "source": [
    "mae_cb = baselineModels.catboost(X_train,y_train,X_test,y_test)\n",
    "#Store MSE Value\n",
    "sb.glue(\"Catboost MAE\",mae_cb)\n",
    "print(\"Catboost MAE\",mae_cb)"
   ]
  },
  {
   "cell_type": "markdown",
   "id": "6148b732",
   "metadata": {
    "papermill": {
     "duration": 0.010589,
     "end_time": "2022-07-24T10:34:44.296364",
     "exception": false,
     "start_time": "2022-07-24T10:34:44.285775",
     "status": "completed"
    },
    "tags": []
   },
   "source": [
    "# TabNet Regressor"
   ]
  },
  {
   "cell_type": "code",
   "execution_count": 7,
   "id": "9a3a3552",
   "metadata": {
    "execution": {
     "iopub.execute_input": "2022-07-24T10:34:44.316427Z",
     "iopub.status.busy": "2022-07-24T10:34:44.315481Z",
     "iopub.status.idle": "2022-07-24T10:34:44.322439Z",
     "shell.execute_reply": "2022-07-24T10:34:44.321693Z"
    },
    "papermill": {
     "duration": 0.021647,
     "end_time": "2022-07-24T10:34:44.325849",
     "exception": false,
     "start_time": "2022-07-24T10:34:44.304202",
     "status": "completed"
    },
    "tags": []
   },
   "outputs": [],
   "source": [
    "n_epochs = 1000\n",
    "batch_size = 32"
   ]
  },
  {
   "cell_type": "code",
   "execution_count": 8,
   "id": "e718157e",
   "metadata": {
    "execution": {
     "iopub.execute_input": "2022-07-24T10:34:44.346243Z",
     "iopub.status.busy": "2022-07-24T10:34:44.345665Z",
     "iopub.status.idle": "2022-07-24T10:40:20.604584Z",
     "shell.execute_reply": "2022-07-24T10:40:20.600485Z"
    },
    "papermill": {
     "duration": 336.297672,
     "end_time": "2022-07-24T10:40:20.631348",
     "exception": false,
     "start_time": "2022-07-24T10:34:44.333676",
     "status": "completed"
    },
    "tags": []
   },
   "outputs": [
    {
     "name": "stdout",
     "output_type": "stream",
     "text": [
      "Device used : cpu\n"
     ]
    },
    {
     "name": "stdout",
     "output_type": "stream",
     "text": [
      "epoch 0  | loss: 1.15736 | train_mse: 0.72372 | train_mae: 0.6236  |  0:00:01s\n"
     ]
    },
    {
     "name": "stdout",
     "output_type": "stream",
     "text": [
      "epoch 1  | loss: 0.30283 | train_mse: 0.22662 | train_mae: 0.38209 |  0:00:02s\n"
     ]
    },
    {
     "name": "stdout",
     "output_type": "stream",
     "text": [
      "epoch 2  | loss: 0.25113 | train_mse: 0.17378 | train_mae: 0.33194 |  0:00:03s\n"
     ]
    },
    {
     "name": "stdout",
     "output_type": "stream",
     "text": [
      "epoch 3  | loss: 0.19335 | train_mse: 0.12681 | train_mae: 0.28966 |  0:00:03s\n"
     ]
    },
    {
     "name": "stdout",
     "output_type": "stream",
     "text": [
      "epoch 4  | loss: 0.1645  | train_mse: 0.1183  | train_mae: 0.28077 |  0:00:04s\n"
     ]
    },
    {
     "name": "stdout",
     "output_type": "stream",
     "text": [
      "epoch 5  | loss: 0.14828 | train_mse: 0.10221 | train_mae: 0.25262 |  0:00:05s\n"
     ]
    },
    {
     "name": "stdout",
     "output_type": "stream",
     "text": [
      "epoch 6  | loss: 0.12573 | train_mse: 0.10358 | train_mae: 0.25538 |  0:00:05s\n"
     ]
    },
    {
     "name": "stdout",
     "output_type": "stream",
     "text": [
      "epoch 7  | loss: 0.10883 | train_mse: 0.07239 | train_mae: 0.2019  |  0:00:06s\n"
     ]
    },
    {
     "name": "stdout",
     "output_type": "stream",
     "text": [
      "epoch 8  | loss: 0.11371 | train_mse: 0.07863 | train_mae: 0.21974 |  0:00:06s\n"
     ]
    },
    {
     "name": "stdout",
     "output_type": "stream",
     "text": [
      "epoch 9  | loss: 0.0938  | train_mse: 0.08825 | train_mae: 0.23704 |  0:00:07s\n"
     ]
    },
    {
     "name": "stdout",
     "output_type": "stream",
     "text": [
      "epoch 10 | loss: 0.08924 | train_mse: 0.05895 | train_mae: 0.18782 |  0:00:08s\n"
     ]
    },
    {
     "name": "stdout",
     "output_type": "stream",
     "text": [
      "epoch 11 | loss: 0.0958  | train_mse: 0.05617 | train_mae: 0.17294 |  0:00:08s\n"
     ]
    },
    {
     "name": "stdout",
     "output_type": "stream",
     "text": [
      "epoch 12 | loss: 0.09202 | train_mse: 0.06185 | train_mae: 0.19055 |  0:00:09s\n"
     ]
    },
    {
     "name": "stdout",
     "output_type": "stream",
     "text": [
      "epoch 13 | loss: 0.08747 | train_mse: 0.04252 | train_mae: 0.15081 |  0:00:09s\n"
     ]
    },
    {
     "name": "stdout",
     "output_type": "stream",
     "text": [
      "epoch 14 | loss: 0.08636 | train_mse: 0.04975 | train_mae: 0.17479 |  0:00:10s\n"
     ]
    },
    {
     "name": "stdout",
     "output_type": "stream",
     "text": [
      "epoch 15 | loss: 0.06485 | train_mse: 0.0352  | train_mae: 0.15272 |  0:00:11s\n"
     ]
    },
    {
     "name": "stdout",
     "output_type": "stream",
     "text": [
      "epoch 16 | loss: 0.06673 | train_mse: 0.03272 | train_mae: 0.14392 |  0:00:12s\n"
     ]
    },
    {
     "name": "stdout",
     "output_type": "stream",
     "text": [
      "epoch 17 | loss: 0.06717 | train_mse: 0.0293  | train_mae: 0.13671 |  0:00:13s\n"
     ]
    },
    {
     "name": "stdout",
     "output_type": "stream",
     "text": [
      "epoch 18 | loss: 0.07081 | train_mse: 0.06795 | train_mae: 0.18914 |  0:00:14s\n"
     ]
    },
    {
     "name": "stdout",
     "output_type": "stream",
     "text": [
      "epoch 19 | loss: 0.07141 | train_mse: 0.05678 | train_mae: 0.18551 |  0:00:16s\n"
     ]
    },
    {
     "name": "stdout",
     "output_type": "stream",
     "text": [
      "epoch 20 | loss: 0.07219 | train_mse: 0.03419 | train_mae: 0.13923 |  0:00:17s\n"
     ]
    },
    {
     "name": "stdout",
     "output_type": "stream",
     "text": [
      "epoch 21 | loss: 0.06782 | train_mse: 0.04715 | train_mae: 0.17733 |  0:00:19s\n"
     ]
    },
    {
     "name": "stdout",
     "output_type": "stream",
     "text": [
      "epoch 22 | loss: 0.07852 | train_mse: 0.03757 | train_mae: 0.16427 |  0:00:21s\n"
     ]
    },
    {
     "name": "stdout",
     "output_type": "stream",
     "text": [
      "epoch 23 | loss: 0.08353 | train_mse: 0.04211 | train_mae: 0.16839 |  0:00:23s\n"
     ]
    },
    {
     "name": "stdout",
     "output_type": "stream",
     "text": [
      "epoch 24 | loss: 0.06011 | train_mse: 0.03787 | train_mae: 0.14767 |  0:00:25s\n"
     ]
    },
    {
     "name": "stdout",
     "output_type": "stream",
     "text": [
      "epoch 25 | loss: 0.05788 | train_mse: 0.04265 | train_mae: 0.1639  |  0:00:27s\n"
     ]
    },
    {
     "name": "stdout",
     "output_type": "stream",
     "text": [
      "epoch 26 | loss: 0.07595 | train_mse: 0.03702 | train_mae: 0.1518  |  0:00:28s\n"
     ]
    },
    {
     "name": "stdout",
     "output_type": "stream",
     "text": [
      "epoch 27 | loss: 0.08429 | train_mse: 0.03607 | train_mae: 0.14664 |  0:00:32s\n"
     ]
    },
    {
     "name": "stdout",
     "output_type": "stream",
     "text": [
      "epoch 28 | loss: 0.05309 | train_mse: 0.03213 | train_mae: 0.14948 |  0:00:34s\n"
     ]
    },
    {
     "name": "stdout",
     "output_type": "stream",
     "text": [
      "epoch 29 | loss: 0.08408 | train_mse: 0.05433 | train_mae: 0.17968 |  0:00:36s\n"
     ]
    },
    {
     "name": "stdout",
     "output_type": "stream",
     "text": [
      "epoch 30 | loss: 0.06456 | train_mse: 0.03069 | train_mae: 0.13782 |  0:00:37s\n"
     ]
    },
    {
     "name": "stdout",
     "output_type": "stream",
     "text": [
      "epoch 31 | loss: 0.07195 | train_mse: 0.0326  | train_mae: 0.13696 |  0:00:39s\n"
     ]
    },
    {
     "name": "stdout",
     "output_type": "stream",
     "text": [
      "epoch 32 | loss: 0.0531  | train_mse: 0.02146 | train_mae: 0.11397 |  0:00:41s\n"
     ]
    },
    {
     "name": "stdout",
     "output_type": "stream",
     "text": [
      "epoch 33 | loss: 0.04551 | train_mse: 0.02697 | train_mae: 0.1264  |  0:00:42s\n"
     ]
    },
    {
     "name": "stdout",
     "output_type": "stream",
     "text": [
      "epoch 34 | loss: 0.05352 | train_mse: 0.04044 | train_mae: 0.15788 |  0:00:44s\n"
     ]
    },
    {
     "name": "stdout",
     "output_type": "stream",
     "text": [
      "epoch 35 | loss: 0.06523 | train_mse: 0.02583 | train_mae: 0.13172 |  0:00:45s\n"
     ]
    },
    {
     "name": "stdout",
     "output_type": "stream",
     "text": [
      "epoch 36 | loss: 0.07375 | train_mse: 0.02497 | train_mae: 0.12179 |  0:00:46s\n"
     ]
    },
    {
     "name": "stdout",
     "output_type": "stream",
     "text": [
      "epoch 37 | loss: 0.05504 | train_mse: 0.02838 | train_mae: 0.13042 |  0:00:48s\n"
     ]
    },
    {
     "name": "stdout",
     "output_type": "stream",
     "text": [
      "epoch 38 | loss: 0.06378 | train_mse: 0.02457 | train_mae: 0.12433 |  0:00:50s\n"
     ]
    },
    {
     "name": "stdout",
     "output_type": "stream",
     "text": [
      "epoch 39 | loss: 0.04966 | train_mse: 0.02894 | train_mae: 0.1326  |  0:00:53s\n"
     ]
    },
    {
     "name": "stdout",
     "output_type": "stream",
     "text": [
      "epoch 40 | loss: 0.06763 | train_mse: 0.03592 | train_mae: 0.15208 |  0:00:55s\n"
     ]
    },
    {
     "name": "stdout",
     "output_type": "stream",
     "text": [
      "epoch 41 | loss: 0.04614 | train_mse: 0.02424 | train_mae: 0.12663 |  0:00:56s\n"
     ]
    },
    {
     "name": "stdout",
     "output_type": "stream",
     "text": [
      "epoch 42 | loss: 0.0514  | train_mse: 0.02306 | train_mae: 0.12212 |  0:00:57s\n"
     ]
    },
    {
     "name": "stdout",
     "output_type": "stream",
     "text": [
      "epoch 43 | loss: 0.04554 | train_mse: 0.02085 | train_mae: 0.11383 |  0:00:59s\n"
     ]
    },
    {
     "name": "stdout",
     "output_type": "stream",
     "text": [
      "epoch 44 | loss: 0.03826 | train_mse: 0.01715 | train_mae: 0.10288 |  0:01:00s\n"
     ]
    },
    {
     "name": "stdout",
     "output_type": "stream",
     "text": [
      "epoch 45 | loss: 0.03701 | train_mse: 0.01557 | train_mae: 0.09094 |  0:01:01s\n"
     ]
    },
    {
     "name": "stdout",
     "output_type": "stream",
     "text": [
      "epoch 46 | loss: 0.04863 | train_mse: 0.01953 | train_mae: 0.10548 |  0:01:03s\n"
     ]
    },
    {
     "name": "stdout",
     "output_type": "stream",
     "text": [
      "epoch 47 | loss: 0.04194 | train_mse: 0.0181  | train_mae: 0.1019  |  0:01:05s\n"
     ]
    },
    {
     "name": "stdout",
     "output_type": "stream",
     "text": [
      "epoch 48 | loss: 0.04329 | train_mse: 0.01795 | train_mae: 0.10602 |  0:01:06s\n"
     ]
    },
    {
     "name": "stdout",
     "output_type": "stream",
     "text": [
      "epoch 49 | loss: 0.03132 | train_mse: 0.01512 | train_mae: 0.09261 |  0:01:07s\n"
     ]
    },
    {
     "name": "stdout",
     "output_type": "stream",
     "text": [
      "epoch 50 | loss: 0.03123 | train_mse: 0.01474 | train_mae: 0.09366 |  0:01:08s\n"
     ]
    },
    {
     "name": "stdout",
     "output_type": "stream",
     "text": [
      "epoch 51 | loss: 0.03269 | train_mse: 0.01609 | train_mae: 0.10406 |  0:01:09s\n"
     ]
    },
    {
     "name": "stdout",
     "output_type": "stream",
     "text": [
      "epoch 52 | loss: 0.05388 | train_mse: 0.02061 | train_mae: 0.10786 |  0:01:10s\n"
     ]
    },
    {
     "name": "stdout",
     "output_type": "stream",
     "text": [
      "epoch 53 | loss: 0.03607 | train_mse: 0.01503 | train_mae: 0.09915 |  0:01:11s\n"
     ]
    },
    {
     "name": "stdout",
     "output_type": "stream",
     "text": [
      "epoch 54 | loss: 0.04033 | train_mse: 0.0165  | train_mae: 0.10276 |  0:01:12s\n"
     ]
    },
    {
     "name": "stdout",
     "output_type": "stream",
     "text": [
      "epoch 55 | loss: 0.041   | train_mse: 0.01562 | train_mae: 0.10012 |  0:01:15s\n"
     ]
    },
    {
     "name": "stdout",
     "output_type": "stream",
     "text": [
      "epoch 56 | loss: 0.0352  | train_mse: 0.01758 | train_mae: 0.09993 |  0:01:18s\n"
     ]
    },
    {
     "name": "stdout",
     "output_type": "stream",
     "text": [
      "epoch 57 | loss: 0.04768 | train_mse: 0.03332 | train_mae: 0.14679 |  0:01:19s\n"
     ]
    },
    {
     "name": "stdout",
     "output_type": "stream",
     "text": [
      "epoch 58 | loss: 0.04225 | train_mse: 0.02866 | train_mae: 0.13151 |  0:01:21s\n"
     ]
    },
    {
     "name": "stdout",
     "output_type": "stream",
     "text": [
      "epoch 59 | loss: 0.04686 | train_mse: 0.03744 | train_mae: 0.15178 |  0:01:24s\n"
     ]
    },
    {
     "name": "stdout",
     "output_type": "stream",
     "text": [
      "epoch 60 | loss: 0.03698 | train_mse: 0.01965 | train_mae: 0.1108  |  0:01:25s\n"
     ]
    },
    {
     "name": "stdout",
     "output_type": "stream",
     "text": [
      "epoch 61 | loss: 0.03706 | train_mse: 0.0344  | train_mae: 0.13846 |  0:01:26s\n"
     ]
    },
    {
     "name": "stdout",
     "output_type": "stream",
     "text": [
      "epoch 62 | loss: 0.04817 | train_mse: 0.01697 | train_mae: 0.10393 |  0:01:27s\n"
     ]
    },
    {
     "name": "stdout",
     "output_type": "stream",
     "text": [
      "epoch 63 | loss: 0.03973 | train_mse: 0.01808 | train_mae: 0.10712 |  0:01:28s\n"
     ]
    },
    {
     "name": "stdout",
     "output_type": "stream",
     "text": [
      "epoch 64 | loss: 0.05318 | train_mse: 0.02447 | train_mae: 0.1235  |  0:01:29s\n"
     ]
    },
    {
     "name": "stdout",
     "output_type": "stream",
     "text": [
      "epoch 65 | loss: 0.03818 | train_mse: 0.0195  | train_mae: 0.10385 |  0:01:30s\n"
     ]
    },
    {
     "name": "stdout",
     "output_type": "stream",
     "text": [
      "epoch 66 | loss: 0.0475  | train_mse: 0.0169  | train_mae: 0.10051 |  0:01:33s\n"
     ]
    },
    {
     "name": "stdout",
     "output_type": "stream",
     "text": [
      "epoch 67 | loss: 0.04049 | train_mse: 0.02037 | train_mae: 0.11259 |  0:01:35s\n"
     ]
    },
    {
     "name": "stdout",
     "output_type": "stream",
     "text": [
      "epoch 68 | loss: 0.02739 | train_mse: 0.01322 | train_mae: 0.0915  |  0:01:37s\n"
     ]
    },
    {
     "name": "stdout",
     "output_type": "stream",
     "text": [
      "epoch 69 | loss: 0.02892 | train_mse: 0.01391 | train_mae: 0.09517 |  0:01:39s\n"
     ]
    },
    {
     "name": "stdout",
     "output_type": "stream",
     "text": [
      "epoch 70 | loss: 0.03072 | train_mse: 0.01144 | train_mae: 0.08518 |  0:01:41s\n"
     ]
    },
    {
     "name": "stdout",
     "output_type": "stream",
     "text": [
      "epoch 71 | loss: 0.02988 | train_mse: 0.01306 | train_mae: 0.09388 |  0:01:44s\n"
     ]
    },
    {
     "name": "stdout",
     "output_type": "stream",
     "text": [
      "epoch 72 | loss: 0.02402 | train_mse: 0.01381 | train_mae: 0.09679 |  0:01:46s\n"
     ]
    },
    {
     "name": "stdout",
     "output_type": "stream",
     "text": [
      "epoch 73 | loss: 0.04266 | train_mse: 0.02268 | train_mae: 0.11989 |  0:01:48s\n"
     ]
    },
    {
     "name": "stdout",
     "output_type": "stream",
     "text": [
      "epoch 74 | loss: 0.03713 | train_mse: 0.02341 | train_mae: 0.11932 |  0:01:50s\n"
     ]
    },
    {
     "name": "stdout",
     "output_type": "stream",
     "text": [
      "epoch 75 | loss: 0.03229 | train_mse: 0.02032 | train_mae: 0.11187 |  0:01:52s\n"
     ]
    },
    {
     "name": "stdout",
     "output_type": "stream",
     "text": [
      "epoch 76 | loss: 0.02905 | train_mse: 0.01124 | train_mae: 0.08234 |  0:01:55s\n"
     ]
    },
    {
     "name": "stdout",
     "output_type": "stream",
     "text": [
      "epoch 77 | loss: 0.02863 | train_mse: 0.01138 | train_mae: 0.08246 |  0:01:57s\n"
     ]
    },
    {
     "name": "stdout",
     "output_type": "stream",
     "text": [
      "epoch 78 | loss: 0.02049 | train_mse: 0.0126  | train_mae: 0.09374 |  0:02:00s\n"
     ]
    },
    {
     "name": "stdout",
     "output_type": "stream",
     "text": [
      "epoch 79 | loss: 0.02462 | train_mse: 0.01117 | train_mae: 0.08012 |  0:02:02s\n"
     ]
    },
    {
     "name": "stdout",
     "output_type": "stream",
     "text": [
      "epoch 80 | loss: 0.02239 | train_mse: 0.01046 | train_mae: 0.08415 |  0:02:04s\n"
     ]
    },
    {
     "name": "stdout",
     "output_type": "stream",
     "text": [
      "epoch 81 | loss: 0.03758 | train_mse: 0.0118  | train_mae: 0.08031 |  0:02:06s\n"
     ]
    },
    {
     "name": "stdout",
     "output_type": "stream",
     "text": [
      "epoch 82 | loss: 0.02166 | train_mse: 0.00935 | train_mae: 0.07149 |  0:02:07s\n"
     ]
    },
    {
     "name": "stdout",
     "output_type": "stream",
     "text": [
      "epoch 83 | loss: 0.02729 | train_mse: 0.00795 | train_mae: 0.06918 |  0:02:08s\n"
     ]
    },
    {
     "name": "stdout",
     "output_type": "stream",
     "text": [
      "epoch 84 | loss: 0.04034 | train_mse: 0.00937 | train_mae: 0.07296 |  0:02:11s\n"
     ]
    },
    {
     "name": "stdout",
     "output_type": "stream",
     "text": [
      "epoch 85 | loss: 0.03519 | train_mse: 0.01371 | train_mae: 0.08958 |  0:02:13s\n"
     ]
    },
    {
     "name": "stdout",
     "output_type": "stream",
     "text": [
      "epoch 86 | loss: 0.0308  | train_mse: 0.01231 | train_mae: 0.08    |  0:02:15s\n"
     ]
    },
    {
     "name": "stdout",
     "output_type": "stream",
     "text": [
      "epoch 87 | loss: 0.0281  | train_mse: 0.01521 | train_mae: 0.09854 |  0:02:17s\n"
     ]
    },
    {
     "name": "stdout",
     "output_type": "stream",
     "text": [
      "epoch 88 | loss: 0.02646 | train_mse: 0.01022 | train_mae: 0.07797 |  0:02:18s\n"
     ]
    },
    {
     "name": "stdout",
     "output_type": "stream",
     "text": [
      "epoch 89 | loss: 0.04599 | train_mse: 0.01445 | train_mae: 0.09699 |  0:02:20s\n"
     ]
    },
    {
     "name": "stdout",
     "output_type": "stream",
     "text": [
      "epoch 90 | loss: 0.02797 | train_mse: 0.01429 | train_mae: 0.09018 |  0:02:22s\n"
     ]
    },
    {
     "name": "stdout",
     "output_type": "stream",
     "text": [
      "epoch 91 | loss: 0.02479 | train_mse: 0.00887 | train_mae: 0.07182 |  0:02:28s\n"
     ]
    },
    {
     "name": "stdout",
     "output_type": "stream",
     "text": [
      "epoch 92 | loss: 0.03693 | train_mse: 0.00844 | train_mae: 0.06672 |  0:02:32s\n"
     ]
    },
    {
     "name": "stdout",
     "output_type": "stream",
     "text": [
      "epoch 93 | loss: 0.0209  | train_mse: 0.0091  | train_mae: 0.07132 |  0:02:36s\n"
     ]
    },
    {
     "name": "stdout",
     "output_type": "stream",
     "text": [
      "epoch 94 | loss: 0.02995 | train_mse: 0.00882 | train_mae: 0.07952 |  0:02:39s\n"
     ]
    },
    {
     "name": "stdout",
     "output_type": "stream",
     "text": [
      "epoch 95 | loss: 0.02041 | train_mse: 0.00838 | train_mae: 0.07399 |  0:02:41s\n"
     ]
    },
    {
     "name": "stdout",
     "output_type": "stream",
     "text": [
      "epoch 96 | loss: 0.02194 | train_mse: 0.0092  | train_mae: 0.07732 |  0:02:44s\n"
     ]
    },
    {
     "name": "stdout",
     "output_type": "stream",
     "text": [
      "epoch 97 | loss: 0.01791 | train_mse: 0.0105  | train_mae: 0.07943 |  0:02:49s\n"
     ]
    },
    {
     "name": "stdout",
     "output_type": "stream",
     "text": [
      "epoch 98 | loss: 0.02346 | train_mse: 0.00789 | train_mae: 0.07181 |  0:02:56s\n"
     ]
    },
    {
     "name": "stdout",
     "output_type": "stream",
     "text": [
      "epoch 99 | loss: 0.03063 | train_mse: 0.01125 | train_mae: 0.08628 |  0:02:59s\n"
     ]
    },
    {
     "name": "stdout",
     "output_type": "stream",
     "text": [
      "epoch 100| loss: 0.02942 | train_mse: 0.00954 | train_mae: 0.07711 |  0:03:01s\n"
     ]
    },
    {
     "name": "stdout",
     "output_type": "stream",
     "text": [
      "epoch 101| loss: 0.02078 | train_mse: 0.01384 | train_mae: 0.09342 |  0:03:03s\n"
     ]
    },
    {
     "name": "stdout",
     "output_type": "stream",
     "text": [
      "epoch 102| loss: 0.02656 | train_mse: 0.00934 | train_mae: 0.0733  |  0:03:05s\n"
     ]
    },
    {
     "name": "stdout",
     "output_type": "stream",
     "text": [
      "epoch 103| loss: 0.02276 | train_mse: 0.0087  | train_mae: 0.07619 |  0:03:06s\n"
     ]
    },
    {
     "name": "stdout",
     "output_type": "stream",
     "text": [
      "epoch 104| loss: 0.02405 | train_mse: 0.0067  | train_mae: 0.06384 |  0:03:09s\n"
     ]
    },
    {
     "name": "stdout",
     "output_type": "stream",
     "text": [
      "epoch 105| loss: 0.02495 | train_mse: 0.00691 | train_mae: 0.06532 |  0:03:10s\n"
     ]
    },
    {
     "name": "stdout",
     "output_type": "stream",
     "text": [
      "epoch 106| loss: 0.02688 | train_mse: 0.00677 | train_mae: 0.06237 |  0:03:12s\n"
     ]
    },
    {
     "name": "stdout",
     "output_type": "stream",
     "text": [
      "epoch 107| loss: 0.02105 | train_mse: 0.00974 | train_mae: 0.0716  |  0:03:13s\n"
     ]
    },
    {
     "name": "stdout",
     "output_type": "stream",
     "text": [
      "epoch 108| loss: 0.03001 | train_mse: 0.0097  | train_mae: 0.07675 |  0:03:14s\n"
     ]
    },
    {
     "name": "stdout",
     "output_type": "stream",
     "text": [
      "epoch 109| loss: 0.03192 | train_mse: 0.00827 | train_mae: 0.07018 |  0:03:15s\n"
     ]
    },
    {
     "name": "stdout",
     "output_type": "stream",
     "text": [
      "epoch 110| loss: 0.02822 | train_mse: 0.00639 | train_mae: 0.06274 |  0:03:16s\n"
     ]
    },
    {
     "name": "stdout",
     "output_type": "stream",
     "text": [
      "epoch 111| loss: 0.02201 | train_mse: 0.01335 | train_mae: 0.08389 |  0:03:17s\n"
     ]
    },
    {
     "name": "stdout",
     "output_type": "stream",
     "text": [
      "epoch 112| loss: 0.02398 | train_mse: 0.00667 | train_mae: 0.0644  |  0:03:20s\n"
     ]
    },
    {
     "name": "stdout",
     "output_type": "stream",
     "text": [
      "epoch 113| loss: 0.02321 | train_mse: 0.00792 | train_mae: 0.06981 |  0:03:21s\n"
     ]
    },
    {
     "name": "stdout",
     "output_type": "stream",
     "text": [
      "epoch 114| loss: 0.02475 | train_mse: 0.00709 | train_mae: 0.0632  |  0:03:23s\n"
     ]
    },
    {
     "name": "stdout",
     "output_type": "stream",
     "text": [
      "epoch 115| loss: 0.01747 | train_mse: 0.00972 | train_mae: 0.07334 |  0:03:24s\n"
     ]
    },
    {
     "name": "stdout",
     "output_type": "stream",
     "text": [
      "epoch 116| loss: 0.0246  | train_mse: 0.00834 | train_mae: 0.06934 |  0:03:25s\n"
     ]
    },
    {
     "name": "stdout",
     "output_type": "stream",
     "text": [
      "epoch 117| loss: 0.02492 | train_mse: 0.00838 | train_mae: 0.06917 |  0:03:26s\n"
     ]
    },
    {
     "name": "stdout",
     "output_type": "stream",
     "text": [
      "epoch 118| loss: 0.01987 | train_mse: 0.01573 | train_mae: 0.09736 |  0:03:27s\n"
     ]
    },
    {
     "name": "stdout",
     "output_type": "stream",
     "text": [
      "epoch 119| loss: 0.03526 | train_mse: 0.01366 | train_mae: 0.09298 |  0:03:28s\n"
     ]
    },
    {
     "name": "stdout",
     "output_type": "stream",
     "text": [
      "epoch 120| loss: 0.02369 | train_mse: 0.00997 | train_mae: 0.07592 |  0:03:28s\n"
     ]
    },
    {
     "name": "stdout",
     "output_type": "stream",
     "text": [
      "epoch 121| loss: 0.03493 | train_mse: 0.00866 | train_mae: 0.07453 |  0:03:30s\n"
     ]
    },
    {
     "name": "stdout",
     "output_type": "stream",
     "text": [
      "epoch 122| loss: 0.01951 | train_mse: 0.01201 | train_mae: 0.08994 |  0:03:30s\n"
     ]
    },
    {
     "name": "stdout",
     "output_type": "stream",
     "text": [
      "epoch 123| loss: 0.01713 | train_mse: 0.0072  | train_mae: 0.06923 |  0:03:31s\n"
     ]
    },
    {
     "name": "stdout",
     "output_type": "stream",
     "text": [
      "epoch 124| loss: 0.02021 | train_mse: 0.01016 | train_mae: 0.07803 |  0:03:32s\n"
     ]
    },
    {
     "name": "stdout",
     "output_type": "stream",
     "text": [
      "epoch 125| loss: 0.01873 | train_mse: 0.00868 | train_mae: 0.07417 |  0:03:33s\n"
     ]
    },
    {
     "name": "stdout",
     "output_type": "stream",
     "text": [
      "epoch 126| loss: 0.01803 | train_mse: 0.00926 | train_mae: 0.07558 |  0:03:34s\n"
     ]
    },
    {
     "name": "stdout",
     "output_type": "stream",
     "text": [
      "epoch 127| loss: 0.04157 | train_mse: 0.00813 | train_mae: 0.06937 |  0:03:35s\n"
     ]
    },
    {
     "name": "stdout",
     "output_type": "stream",
     "text": [
      "epoch 128| loss: 0.02831 | train_mse: 0.00951 | train_mae: 0.08098 |  0:03:35s\n"
     ]
    },
    {
     "name": "stdout",
     "output_type": "stream",
     "text": [
      "epoch 129| loss: 0.02111 | train_mse: 0.00945 | train_mae: 0.07013 |  0:03:36s\n"
     ]
    },
    {
     "name": "stdout",
     "output_type": "stream",
     "text": [
      "epoch 130| loss: 0.02142 | train_mse: 0.01183 | train_mae: 0.08595 |  0:03:37s\n"
     ]
    },
    {
     "name": "stdout",
     "output_type": "stream",
     "text": [
      "epoch 131| loss: 0.02495 | train_mse: 0.00692 | train_mae: 0.06128 |  0:03:38s\n"
     ]
    },
    {
     "name": "stdout",
     "output_type": "stream",
     "text": [
      "epoch 132| loss: 0.02076 | train_mse: 0.01206 | train_mae: 0.08791 |  0:03:38s\n"
     ]
    },
    {
     "name": "stdout",
     "output_type": "stream",
     "text": [
      "epoch 133| loss: 0.03175 | train_mse: 0.00757 | train_mae: 0.06859 |  0:03:39s\n"
     ]
    },
    {
     "name": "stdout",
     "output_type": "stream",
     "text": [
      "epoch 134| loss: 0.01871 | train_mse: 0.01088 | train_mae: 0.0864  |  0:03:40s\n"
     ]
    },
    {
     "name": "stdout",
     "output_type": "stream",
     "text": [
      "epoch 135| loss: 0.02563 | train_mse: 0.01183 | train_mae: 0.08448 |  0:03:40s\n"
     ]
    },
    {
     "name": "stdout",
     "output_type": "stream",
     "text": [
      "epoch 136| loss: 0.01751 | train_mse: 0.01212 | train_mae: 0.08794 |  0:03:41s\n"
     ]
    },
    {
     "name": "stdout",
     "output_type": "stream",
     "text": [
      "epoch 137| loss: 0.03137 | train_mse: 0.01115 | train_mae: 0.08268 |  0:03:42s\n"
     ]
    },
    {
     "name": "stdout",
     "output_type": "stream",
     "text": [
      "epoch 138| loss: 0.04127 | train_mse: 0.00845 | train_mae: 0.06861 |  0:03:42s\n"
     ]
    },
    {
     "name": "stdout",
     "output_type": "stream",
     "text": [
      "epoch 139| loss: 0.04709 | train_mse: 0.00925 | train_mae: 0.0721  |  0:03:43s\n"
     ]
    },
    {
     "name": "stdout",
     "output_type": "stream",
     "text": [
      "epoch 140| loss: 0.0199  | train_mse: 0.00707 | train_mae: 0.06218 |  0:03:44s\n"
     ]
    },
    {
     "name": "stdout",
     "output_type": "stream",
     "text": [
      "epoch 141| loss: 0.01667 | train_mse: 0.00771 | train_mae: 0.06636 |  0:03:44s\n"
     ]
    },
    {
     "name": "stdout",
     "output_type": "stream",
     "text": [
      "epoch 142| loss: 0.02081 | train_mse: 0.00905 | train_mae: 0.07058 |  0:03:45s\n"
     ]
    },
    {
     "name": "stdout",
     "output_type": "stream",
     "text": [
      "epoch 143| loss: 0.02014 | train_mse: 0.00895 | train_mae: 0.07606 |  0:03:45s\n"
     ]
    },
    {
     "name": "stdout",
     "output_type": "stream",
     "text": [
      "epoch 144| loss: 0.02265 | train_mse: 0.01    | train_mae: 0.06884 |  0:03:46s\n"
     ]
    },
    {
     "name": "stdout",
     "output_type": "stream",
     "text": [
      "epoch 145| loss: 0.02411 | train_mse: 0.00746 | train_mae: 0.06508 |  0:03:47s\n"
     ]
    },
    {
     "name": "stdout",
     "output_type": "stream",
     "text": [
      "epoch 146| loss: 0.02874 | train_mse: 0.00942 | train_mae: 0.07574 |  0:03:47s\n"
     ]
    },
    {
     "name": "stdout",
     "output_type": "stream",
     "text": [
      "epoch 147| loss: 0.02032 | train_mse: 0.00638 | train_mae: 0.06085 |  0:03:48s\n"
     ]
    },
    {
     "name": "stdout",
     "output_type": "stream",
     "text": [
      "epoch 148| loss: 0.02289 | train_mse: 0.00791 | train_mae: 0.06905 |  0:03:49s\n"
     ]
    },
    {
     "name": "stdout",
     "output_type": "stream",
     "text": [
      "epoch 149| loss: 0.02503 | train_mse: 0.00685 | train_mae: 0.06602 |  0:03:50s\n"
     ]
    },
    {
     "name": "stdout",
     "output_type": "stream",
     "text": [
      "epoch 150| loss: 0.0293  | train_mse: 0.00917 | train_mae: 0.07777 |  0:03:51s\n"
     ]
    },
    {
     "name": "stdout",
     "output_type": "stream",
     "text": [
      "epoch 151| loss: 0.02811 | train_mse: 0.01575 | train_mae: 0.09368 |  0:03:52s\n"
     ]
    },
    {
     "name": "stdout",
     "output_type": "stream",
     "text": [
      "epoch 152| loss: 0.01876 | train_mse: 0.00708 | train_mae: 0.06205 |  0:03:52s\n"
     ]
    },
    {
     "name": "stdout",
     "output_type": "stream",
     "text": [
      "epoch 153| loss: 0.03591 | train_mse: 0.00878 | train_mae: 0.07151 |  0:03:53s\n"
     ]
    },
    {
     "name": "stdout",
     "output_type": "stream",
     "text": [
      "epoch 154| loss: 0.02278 | train_mse: 0.00717 | train_mae: 0.06485 |  0:03:54s\n"
     ]
    },
    {
     "name": "stdout",
     "output_type": "stream",
     "text": [
      "epoch 155| loss: 0.01756 | train_mse: 0.00651 | train_mae: 0.05894 |  0:03:56s\n"
     ]
    },
    {
     "name": "stdout",
     "output_type": "stream",
     "text": [
      "epoch 156| loss: 0.01914 | train_mse: 0.00609 | train_mae: 0.05985 |  0:03:57s\n"
     ]
    },
    {
     "name": "stdout",
     "output_type": "stream",
     "text": [
      "epoch 157| loss: 0.02333 | train_mse: 0.01182 | train_mae: 0.08448 |  0:03:58s\n"
     ]
    },
    {
     "name": "stdout",
     "output_type": "stream",
     "text": [
      "epoch 158| loss: 0.03884 | train_mse: 0.01451 | train_mae: 0.09547 |  0:03:59s\n"
     ]
    },
    {
     "name": "stdout",
     "output_type": "stream",
     "text": [
      "epoch 159| loss: 0.0219  | train_mse: 0.00612 | train_mae: 0.05695 |  0:04:00s\n"
     ]
    },
    {
     "name": "stdout",
     "output_type": "stream",
     "text": [
      "epoch 160| loss: 0.02618 | train_mse: 0.01434 | train_mae: 0.09629 |  0:04:01s\n"
     ]
    },
    {
     "name": "stdout",
     "output_type": "stream",
     "text": [
      "epoch 161| loss: 0.02106 | train_mse: 0.00763 | train_mae: 0.0729  |  0:04:02s\n"
     ]
    },
    {
     "name": "stdout",
     "output_type": "stream",
     "text": [
      "epoch 162| loss: 0.01749 | train_mse: 0.00731 | train_mae: 0.06581 |  0:04:03s\n"
     ]
    },
    {
     "name": "stdout",
     "output_type": "stream",
     "text": [
      "epoch 163| loss: 0.02354 | train_mse: 0.00733 | train_mae: 0.0686  |  0:04:04s\n"
     ]
    },
    {
     "name": "stdout",
     "output_type": "stream",
     "text": [
      "epoch 164| loss: 0.01633 | train_mse: 0.01038 | train_mae: 0.08366 |  0:04:05s\n"
     ]
    },
    {
     "name": "stdout",
     "output_type": "stream",
     "text": [
      "epoch 165| loss: 0.02092 | train_mse: 0.00824 | train_mae: 0.07073 |  0:04:06s\n"
     ]
    },
    {
     "name": "stdout",
     "output_type": "stream",
     "text": [
      "epoch 166| loss: 0.01687 | train_mse: 0.00901 | train_mae: 0.07394 |  0:04:07s\n"
     ]
    },
    {
     "name": "stdout",
     "output_type": "stream",
     "text": [
      "epoch 167| loss: 0.01677 | train_mse: 0.01621 | train_mae: 0.10325 |  0:04:09s\n"
     ]
    },
    {
     "name": "stdout",
     "output_type": "stream",
     "text": [
      "epoch 168| loss: 0.01775 | train_mse: 0.00562 | train_mae: 0.05577 |  0:04:09s\n"
     ]
    },
    {
     "name": "stdout",
     "output_type": "stream",
     "text": [
      "epoch 169| loss: 0.03271 | train_mse: 0.00996 | train_mae: 0.07897 |  0:04:10s\n"
     ]
    },
    {
     "name": "stdout",
     "output_type": "stream",
     "text": [
      "epoch 170| loss: 0.01507 | train_mse: 0.00639 | train_mae: 0.06232 |  0:04:11s\n"
     ]
    },
    {
     "name": "stdout",
     "output_type": "stream",
     "text": [
      "epoch 171| loss: 0.0185  | train_mse: 0.00667 | train_mae: 0.06338 |  0:04:12s\n"
     ]
    },
    {
     "name": "stdout",
     "output_type": "stream",
     "text": [
      "epoch 172| loss: 0.02432 | train_mse: 0.01143 | train_mae: 0.07839 |  0:04:13s\n"
     ]
    },
    {
     "name": "stdout",
     "output_type": "stream",
     "text": [
      "epoch 173| loss: 0.01464 | train_mse: 0.00586 | train_mae: 0.06    |  0:04:14s\n"
     ]
    },
    {
     "name": "stdout",
     "output_type": "stream",
     "text": [
      "epoch 174| loss: 0.01816 | train_mse: 0.00871 | train_mae: 0.07244 |  0:04:15s\n"
     ]
    },
    {
     "name": "stdout",
     "output_type": "stream",
     "text": [
      "epoch 175| loss: 0.02755 | train_mse: 0.0098  | train_mae: 0.07921 |  0:04:16s\n"
     ]
    },
    {
     "name": "stdout",
     "output_type": "stream",
     "text": [
      "epoch 176| loss: 0.01481 | train_mse: 0.00774 | train_mae: 0.06723 |  0:04:17s\n"
     ]
    },
    {
     "name": "stdout",
     "output_type": "stream",
     "text": [
      "epoch 177| loss: 0.01503 | train_mse: 0.00528 | train_mae: 0.05643 |  0:04:18s\n"
     ]
    },
    {
     "name": "stdout",
     "output_type": "stream",
     "text": [
      "epoch 178| loss: 0.01584 | train_mse: 0.00702 | train_mae: 0.06129 |  0:04:19s\n"
     ]
    },
    {
     "name": "stdout",
     "output_type": "stream",
     "text": [
      "epoch 179| loss: 0.01984 | train_mse: 0.00855 | train_mae: 0.07582 |  0:04:19s\n"
     ]
    },
    {
     "name": "stdout",
     "output_type": "stream",
     "text": [
      "epoch 180| loss: 0.01886 | train_mse: 0.0055  | train_mae: 0.05807 |  0:04:20s\n"
     ]
    },
    {
     "name": "stdout",
     "output_type": "stream",
     "text": [
      "epoch 181| loss: 0.02006 | train_mse: 0.00545 | train_mae: 0.05669 |  0:04:21s\n"
     ]
    },
    {
     "name": "stdout",
     "output_type": "stream",
     "text": [
      "epoch 182| loss: 0.02322 | train_mse: 0.01481 | train_mae: 0.09565 |  0:04:22s\n"
     ]
    },
    {
     "name": "stdout",
     "output_type": "stream",
     "text": [
      "epoch 183| loss: 0.03542 | train_mse: 0.00853 | train_mae: 0.06494 |  0:04:25s\n"
     ]
    },
    {
     "name": "stdout",
     "output_type": "stream",
     "text": [
      "epoch 184| loss: 0.01942 | train_mse: 0.01366 | train_mae: 0.08294 |  0:04:28s\n"
     ]
    },
    {
     "name": "stdout",
     "output_type": "stream",
     "text": [
      "epoch 185| loss: 0.03084 | train_mse: 0.00762 | train_mae: 0.06436 |  0:04:30s\n"
     ]
    },
    {
     "name": "stdout",
     "output_type": "stream",
     "text": [
      "epoch 186| loss: 0.02013 | train_mse: 0.00722 | train_mae: 0.0652  |  0:04:31s\n"
     ]
    },
    {
     "name": "stdout",
     "output_type": "stream",
     "text": [
      "epoch 187| loss: 0.01965 | train_mse: 0.00473 | train_mae: 0.05105 |  0:04:32s\n"
     ]
    },
    {
     "name": "stdout",
     "output_type": "stream",
     "text": [
      "epoch 188| loss: 0.0187  | train_mse: 0.00941 | train_mae: 0.07857 |  0:04:34s\n"
     ]
    },
    {
     "name": "stdout",
     "output_type": "stream",
     "text": [
      "epoch 189| loss: 0.02525 | train_mse: 0.04169 | train_mae: 0.11823 |  0:04:35s\n"
     ]
    },
    {
     "name": "stdout",
     "output_type": "stream",
     "text": [
      "epoch 190| loss: 0.03123 | train_mse: 0.00925 | train_mae: 0.07011 |  0:04:35s\n"
     ]
    },
    {
     "name": "stdout",
     "output_type": "stream",
     "text": [
      "epoch 191| loss: 0.02223 | train_mse: 0.00593 | train_mae: 0.06411 |  0:04:36s\n"
     ]
    },
    {
     "name": "stdout",
     "output_type": "stream",
     "text": [
      "epoch 192| loss: 0.01799 | train_mse: 0.0066  | train_mae: 0.06244 |  0:04:37s\n"
     ]
    },
    {
     "name": "stdout",
     "output_type": "stream",
     "text": [
      "epoch 193| loss: 0.02595 | train_mse: 0.00558 | train_mae: 0.05857 |  0:04:39s\n"
     ]
    },
    {
     "name": "stdout",
     "output_type": "stream",
     "text": [
      "epoch 194| loss: 0.01348 | train_mse: 0.00566 | train_mae: 0.0565  |  0:04:40s\n"
     ]
    },
    {
     "name": "stdout",
     "output_type": "stream",
     "text": [
      "epoch 195| loss: 0.0272  | train_mse: 0.01114 | train_mae: 0.08061 |  0:04:42s\n"
     ]
    },
    {
     "name": "stdout",
     "output_type": "stream",
     "text": [
      "epoch 196| loss: 0.02018 | train_mse: 0.00603 | train_mae: 0.05448 |  0:04:43s\n"
     ]
    },
    {
     "name": "stdout",
     "output_type": "stream",
     "text": [
      "epoch 197| loss: 0.01722 | train_mse: 0.00982 | train_mae: 0.07496 |  0:04:45s\n"
     ]
    },
    {
     "name": "stdout",
     "output_type": "stream",
     "text": [
      "epoch 198| loss: 0.01762 | train_mse: 0.00671 | train_mae: 0.06624 |  0:04:47s\n"
     ]
    },
    {
     "name": "stdout",
     "output_type": "stream",
     "text": [
      "epoch 199| loss: 0.01913 | train_mse: 0.00684 | train_mae: 0.06439 |  0:04:49s\n"
     ]
    },
    {
     "name": "stdout",
     "output_type": "stream",
     "text": [
      "epoch 200| loss: 0.01852 | train_mse: 0.00585 | train_mae: 0.06045 |  0:04:50s\n"
     ]
    },
    {
     "name": "stdout",
     "output_type": "stream",
     "text": [
      "epoch 201| loss: 0.01518 | train_mse: 0.00549 | train_mae: 0.05965 |  0:04:51s\n"
     ]
    },
    {
     "name": "stdout",
     "output_type": "stream",
     "text": [
      "epoch 202| loss: 0.01366 | train_mse: 0.00569 | train_mae: 0.0556  |  0:04:52s\n"
     ]
    },
    {
     "name": "stdout",
     "output_type": "stream",
     "text": [
      "epoch 203| loss: 0.01451 | train_mse: 0.00575 | train_mae: 0.0576  |  0:04:54s\n"
     ]
    },
    {
     "name": "stdout",
     "output_type": "stream",
     "text": [
      "epoch 204| loss: 0.01453 | train_mse: 0.00668 | train_mae: 0.06715 |  0:04:55s\n"
     ]
    },
    {
     "name": "stdout",
     "output_type": "stream",
     "text": [
      "epoch 205| loss: 0.01483 | train_mse: 0.00471 | train_mae: 0.05136 |  0:04:56s\n"
     ]
    },
    {
     "name": "stdout",
     "output_type": "stream",
     "text": [
      "epoch 206| loss: 0.01399 | train_mse: 0.00722 | train_mae: 0.06971 |  0:04:58s\n"
     ]
    },
    {
     "name": "stdout",
     "output_type": "stream",
     "text": [
      "epoch 207| loss: 0.01254 | train_mse: 0.0054  | train_mae: 0.05576 |  0:05:00s\n"
     ]
    },
    {
     "name": "stdout",
     "output_type": "stream",
     "text": [
      "epoch 208| loss: 0.0157  | train_mse: 0.00492 | train_mae: 0.05709 |  0:05:02s\n"
     ]
    },
    {
     "name": "stdout",
     "output_type": "stream",
     "text": [
      "epoch 209| loss: 0.03303 | train_mse: 0.00788 | train_mae: 0.06915 |  0:05:02s\n"
     ]
    },
    {
     "name": "stdout",
     "output_type": "stream",
     "text": [
      "epoch 210| loss: 0.01851 | train_mse: 0.00498 | train_mae: 0.0525  |  0:05:03s\n"
     ]
    },
    {
     "name": "stdout",
     "output_type": "stream",
     "text": [
      "epoch 211| loss: 0.02448 | train_mse: 0.00934 | train_mae: 0.07955 |  0:05:04s\n"
     ]
    },
    {
     "name": "stdout",
     "output_type": "stream",
     "text": [
      "epoch 212| loss: 0.02744 | train_mse: 0.00706 | train_mae: 0.06228 |  0:05:05s\n"
     ]
    },
    {
     "name": "stdout",
     "output_type": "stream",
     "text": [
      "epoch 213| loss: 0.01825 | train_mse: 0.00671 | train_mae: 0.06425 |  0:05:06s\n"
     ]
    },
    {
     "name": "stdout",
     "output_type": "stream",
     "text": [
      "epoch 214| loss: 0.01593 | train_mse: 0.00674 | train_mae: 0.06048 |  0:05:07s\n"
     ]
    },
    {
     "name": "stdout",
     "output_type": "stream",
     "text": [
      "epoch 215| loss: 0.01811 | train_mse: 0.00843 | train_mae: 0.07314 |  0:05:07s\n"
     ]
    },
    {
     "name": "stdout",
     "output_type": "stream",
     "text": [
      "epoch 216| loss: 0.01798 | train_mse: 0.00588 | train_mae: 0.058   |  0:05:09s\n"
     ]
    },
    {
     "name": "stdout",
     "output_type": "stream",
     "text": [
      "epoch 217| loss: 0.01808 | train_mse: 0.01223 | train_mae: 0.07373 |  0:05:10s\n"
     ]
    },
    {
     "name": "stdout",
     "output_type": "stream",
     "text": [
      "epoch 218| loss: 0.01841 | train_mse: 0.00955 | train_mae: 0.07884 |  0:05:11s\n"
     ]
    },
    {
     "name": "stdout",
     "output_type": "stream",
     "text": [
      "epoch 219| loss: 0.0203  | train_mse: 0.0058  | train_mae: 0.05921 |  0:05:12s\n"
     ]
    },
    {
     "name": "stdout",
     "output_type": "stream",
     "text": [
      "epoch 220| loss: 0.02793 | train_mse: 0.00834 | train_mae: 0.06994 |  0:05:13s\n"
     ]
    },
    {
     "name": "stdout",
     "output_type": "stream",
     "text": [
      "epoch 221| loss: 0.01948 | train_mse: 0.00764 | train_mae: 0.06207 |  0:05:14s\n"
     ]
    },
    {
     "name": "stdout",
     "output_type": "stream",
     "text": [
      "epoch 222| loss: 0.01841 | train_mse: 0.00773 | train_mae: 0.06516 |  0:05:15s\n"
     ]
    },
    {
     "name": "stdout",
     "output_type": "stream",
     "text": [
      "epoch 223| loss: 0.0237  | train_mse: 0.00493 | train_mae: 0.05233 |  0:05:19s\n"
     ]
    },
    {
     "name": "stdout",
     "output_type": "stream",
     "text": [
      "epoch 224| loss: 0.01745 | train_mse: 0.0062  | train_mae: 0.06348 |  0:05:21s\n"
     ]
    },
    {
     "name": "stdout",
     "output_type": "stream",
     "text": [
      "epoch 225| loss: 0.01755 | train_mse: 0.00717 | train_mae: 0.06845 |  0:05:22s\n"
     ]
    },
    {
     "name": "stdout",
     "output_type": "stream",
     "text": [
      "epoch 226| loss: 0.0152  | train_mse: 0.00483 | train_mae: 0.0516  |  0:05:23s\n"
     ]
    },
    {
     "name": "stdout",
     "output_type": "stream",
     "text": [
      "epoch 227| loss: 0.02331 | train_mse: 0.01153 | train_mae: 0.08916 |  0:05:24s\n"
     ]
    },
    {
     "name": "stdout",
     "output_type": "stream",
     "text": [
      "epoch 228| loss: 0.02277 | train_mse: 0.008   | train_mae: 0.07049 |  0:05:25s\n"
     ]
    },
    {
     "name": "stdout",
     "output_type": "stream",
     "text": [
      "epoch 229| loss: 0.02131 | train_mse: 0.00891 | train_mae: 0.07531 |  0:05:26s\n"
     ]
    },
    {
     "name": "stdout",
     "output_type": "stream",
     "text": [
      "epoch 230| loss: 0.0173  | train_mse: 0.00921 | train_mae: 0.08059 |  0:05:27s\n"
     ]
    },
    {
     "name": "stdout",
     "output_type": "stream",
     "text": [
      "epoch 231| loss: 0.01762 | train_mse: 0.00649 | train_mae: 0.06027 |  0:05:28s\n"
     ]
    },
    {
     "name": "stdout",
     "output_type": "stream",
     "text": [
      "epoch 232| loss: 0.01502 | train_mse: 0.00654 | train_mae: 0.06265 |  0:05:29s\n"
     ]
    },
    {
     "name": "stdout",
     "output_type": "stream",
     "text": [
      "epoch 233| loss: 0.01283 | train_mse: 0.00906 | train_mae: 0.06979 |  0:05:30s\n"
     ]
    },
    {
     "name": "stdout",
     "output_type": "stream",
     "text": [
      "epoch 234| loss: 0.01186 | train_mse: 0.00496 | train_mae: 0.05301 |  0:05:32s\n"
     ]
    },
    {
     "name": "stdout",
     "output_type": "stream",
     "text": [
      "epoch 235| loss: 0.02461 | train_mse: 0.00879 | train_mae: 0.06976 |  0:05:33s\n"
     ]
    },
    {
     "name": "stdout",
     "output_type": "stream",
     "text": [
      "epoch 236| loss: 0.02407 | train_mse: 0.00716 | train_mae: 0.06427 |  0:05:34s\n"
     ]
    },
    {
     "name": "stdout",
     "output_type": "stream",
     "text": [
      "epoch 237| loss: 0.0259  | train_mse: 0.00649 | train_mae: 0.06031 |  0:05:35s\n",
      "\n",
      "Early stopping occurred at epoch 237 with best_epoch = 187 and best_train_mae = 0.05105\n",
      "Best weights from best epoch are automatically used!\n"
     ]
    },
    {
     "name": "stdout",
     "output_type": "stream",
     "text": [
      "BEST VALID SCORE FOR dataset : 0.05104851390505332\n",
      "FINAL TEST SCORE FOR dataset: 0.05464024295727232\n",
      "{'loss': [1.1573619415395036, 0.3028301433553913, 0.25112785714457014, 0.19335311631814664, 0.1645032285867374, 0.14827581788701424, 0.12572516932937922, 0.10882983987708045, 0.11371059584695276, 0.09380083574825467, 0.08924071874214694, 0.09580488745669201, 0.09201830108604524, 0.08747061880772587, 0.08636269332531608, 0.06485469071406884, 0.06673118241543878, 0.06717032104342302, 0.07081218493392492, 0.07141313956692474, 0.07219349571082025, 0.06781958854159625, 0.07851730301636439, 0.08352627515404543, 0.06010790659472686, 0.057878080476378775, 0.07595427941033428, 0.08428900812658502, 0.05308883132394828, 0.08407542124050837, 0.06456163268330042, 0.07195098343811905, 0.05309656505087688, 0.0455133731231239, 0.053518243498056645, 0.06523065768934616, 0.07375348876275924, 0.05504210334550286, 0.06377571297002538, 0.04966240417491341, 0.06762506519156093, 0.04614285110869121, 0.05140436176174239, 0.045542186314197625, 0.038259702076352764, 0.03701491891755343, 0.0486293288512028, 0.04193889337564524, 0.043287661448363754, 0.03132264930087503, 0.031229780216364595, 0.03269414217833199, 0.053876863628722946, 0.0360700417225058, 0.040329198180075965, 0.04099543829500093, 0.03520492306555521, 0.047676131371954755, 0.042250104078640764, 0.04685779323601179, 0.03698238842067967, 0.03706127385751432, 0.04816774635633351, 0.0397325637674487, 0.05318081903147, 0.03817841706718606, 0.04750304608469289, 0.04049160928504863, 0.02738597679652686, 0.02891550337477111, 0.030718988044254165, 0.02987570968435331, 0.024019094408529198, 0.0426582985281556, 0.0371261061888176, 0.03228961938464292, 0.02904906287388907, 0.028630800957788475, 0.020489139300361517, 0.024615180903153816, 0.02238549527496779, 0.03758307827897491, 0.021655907120300816, 0.02728835282185955, 0.040338141619188396, 0.035192357697781985, 0.03079500243504583, 0.02809921101172506, 0.026459294149852344, 0.04599148877183466, 0.027970302182610728, 0.024792215868782143, 0.036928071503918795, 0.02090418494097185, 0.029947740987477163, 0.020410144659129343, 0.021936433383715658, 0.01791055131011949, 0.023462443233312924, 0.030632263892830778, 0.029418080681115875, 0.02077647907726151, 0.02655933457593576, 0.022758011951896966, 0.024047813266030352, 0.024946849890271693, 0.0268801100770503, 0.021050271029047156, 0.030010133223298707, 0.03192001856038353, 0.02822034124054427, 0.022008523005227702, 0.023984910149721834, 0.023213423885623485, 0.024747704255852716, 0.01746854627753702, 0.02460070177670022, 0.02491853315783634, 0.019873096228422482, 0.03525624453341922, 0.02369047772952322, 0.034928353218185784, 0.01951233630071634, 0.017134198961409372, 0.020214029263207502, 0.01873207393220659, 0.018030425199953664, 0.04156511335205954, 0.028312229178239157, 0.02110504622325447, 0.02142478376080916, 0.02495417702663993, 0.02076377598295771, 0.03174503688800607, 0.01871413987506096, 0.0256280503948659, 0.017508312210392098, 0.03136854970688152, 0.041272550693892116, 0.04709059393172932, 0.019899453822195726, 0.01666824587587425, 0.020813088330170232, 0.020143616544113098, 0.022653537605212642, 0.02411463618860959, 0.02873993140162979, 0.02031540436251544, 0.022891177829197255, 0.0250274149719201, 0.029303720311932145, 0.028110099926057, 0.01876413237291361, 0.03591209984951765, 0.022780801360692573, 0.017557437492212953, 0.019142569245995063, 0.023329900947766505, 0.0388407956699595, 0.02189762033643474, 0.026177684542895915, 0.021058198149507133, 0.017490983009338382, 0.02354365652760776, 0.016332388676533093, 0.020920163693956134, 0.016871020149330365, 0.01677499217032804, 0.017753508973393457, 0.03270932442299318, 0.015074974745026629, 0.018504053257187337, 0.02431963959326573, 0.014641847728420934, 0.018155959801875808, 0.02755300035694135, 0.014808122760309846, 0.015025135700011487, 0.015835520947892038, 0.019844382879982553, 0.01886381225884931, 0.020061381088405945, 0.023221250684137065, 0.03542258869553234, 0.01941888327998525, 0.030835790772003147, 0.02012584921494369, 0.01965003844095752, 0.01869928169425225, 0.025250150552110485, 0.031228112960871347, 0.02222568804477053, 0.017985746143112737, 0.02594793854881964, 0.013478402045315757, 0.02720285282267033, 0.020175006713851654, 0.017219444900654038, 0.0176234124198022, 0.019134575634563784, 0.01851708378873353, 0.01518247412450927, 0.013661128796442903, 0.014506632747304555, 0.014525919133366514, 0.014828830666184813, 0.013989379769039465, 0.012540356198428896, 0.01570287780041415, 0.03303083575995038, 0.018505538349625344, 0.02447940710119005, 0.027436165569853704, 0.01825396517285598, 0.015930563138634064, 0.01810634961345685, 0.017976325017427387, 0.018076090791326393, 0.018412566837833447, 0.02029917785952456, 0.027925408915510395, 0.019480012672731854, 0.018410492967510846, 0.02370241124195074, 0.017449870851218505, 0.017552920468515604, 0.015201200394366385, 0.02331044236107059, 0.022774400316931138, 0.021312327163615523, 0.017297834400633646, 0.017620911157359323, 0.01502224952225188, 0.012828569580172871, 0.01185586572858332, 0.024610438593435754, 0.024074994246035524, 0.025901954269176197], 'lr': [0.01, 0.01, 0.01, 0.01, 0.01, 0.01, 0.01, 0.01, 0.01, 0.01, 0.01, 0.01, 0.01, 0.01, 0.01, 0.01, 0.01, 0.01, 0.01, 0.01, 0.01, 0.01, 0.01, 0.01, 0.01, 0.01, 0.01, 0.01, 0.01, 0.01, 0.01, 0.01, 0.01, 0.01, 0.01, 0.01, 0.01, 0.01, 0.01, 0.01, 0.01, 0.01, 0.01, 0.01, 0.01, 0.01, 0.01, 0.01, 0.01, 0.01, 0.01, 0.01, 0.01, 0.01, 0.01, 0.01, 0.01, 0.01, 0.01, 0.01, 0.01, 0.01, 0.01, 0.01, 0.01, 0.01, 0.01, 0.01, 0.01, 0.01, 0.01, 0.01, 0.01, 0.01, 0.01, 0.01, 0.01, 0.01, 0.01, 0.01, 0.01, 0.01, 0.01, 0.01, 0.01, 0.01, 0.01, 0.01, 0.01, 0.01, 0.01, 0.01, 0.01, 0.01, 0.01, 0.01, 0.01, 0.01, 0.01, 0.01, 0.01, 0.01, 0.01, 0.01, 0.01, 0.01, 0.01, 0.01, 0.01, 0.01, 0.01, 0.01, 0.01, 0.01, 0.01, 0.01, 0.01, 0.01, 0.01, 0.01, 0.01, 0.01, 0.01, 0.01, 0.01, 0.01, 0.01, 0.01, 0.01, 0.01, 0.01, 0.01, 0.01, 0.01, 0.01, 0.01, 0.01, 0.01, 0.01, 0.01, 0.01, 0.01, 0.01, 0.01, 0.01, 0.01, 0.01, 0.01, 0.01, 0.01, 0.01, 0.01, 0.01, 0.01, 0.01, 0.01, 0.01, 0.01, 0.01, 0.01, 0.01, 0.01, 0.01, 0.01, 0.01, 0.01, 0.01, 0.01, 0.01, 0.01, 0.01, 0.01, 0.01, 0.01, 0.01, 0.01, 0.01, 0.01, 0.01, 0.01, 0.01, 0.01, 0.01, 0.01, 0.01, 0.01, 0.01, 0.01, 0.01, 0.01, 0.01, 0.01, 0.01, 0.01, 0.01, 0.01, 0.01, 0.01, 0.01, 0.01, 0.01, 0.01, 0.01, 0.01, 0.01, 0.01, 0.01, 0.01, 0.01, 0.01, 0.01, 0.01, 0.01, 0.01, 0.01, 0.01, 0.01, 0.01, 0.01, 0.01, 0.01, 0.01, 0.01, 0.01, 0.01, 0.01, 0.01, 0.01, 0.01, 0.01, 0.01, 0.01, 0.01, 0.01, 0.01, 0.01, 0.01, 0.01], 'train_mse': [0.7237194499549268, 0.22662448218181658, 0.17378373367200034, 0.1268050282434444, 0.11830241980442792, 0.10220674689495741, 0.10358380462189115, 0.07238655907872045, 0.07862603076864383, 0.08824886356732384, 0.05895316115354662, 0.056170232502502505, 0.061848009364817186, 0.04251950924663348, 0.04975143699964963, 0.03520180962429362, 0.03272338050052854, 0.029297175683857864, 0.06794885870102782, 0.056778646885931615, 0.034185390283440545, 0.04715437690120756, 0.03757196008863737, 0.04210671327630264, 0.037873310830843734, 0.04265169677169147, 0.03702004376068222, 0.036073273221579306, 0.03212755790250884, 0.05433100608324348, 0.030688651368401924, 0.032600133592925795, 0.021458893151253666, 0.026966942116352626, 0.040437111758622295, 0.02583169354450151, 0.024968660661064335, 0.02838234372501775, 0.02456974144425952, 0.028943978712009936, 0.03592407655916339, 0.02423561524774587, 0.023064418184950794, 0.020849214052596134, 0.017152029346796632, 0.015571133898393399, 0.01952692571444747, 0.018102217621918673, 0.017954661651272758, 0.015115201042939622, 0.014742565208226093, 0.016087132734817336, 0.020611877795568136, 0.01503403200797781, 0.016499748072089586, 0.01562011773717753, 0.017580016699783124, 0.03331720635920135, 0.028661575684540457, 0.037437500651656394, 0.019649324876204854, 0.034395224722512587, 0.016968597101618858, 0.018080670590425185, 0.024473753690054813, 0.019497395255634084, 0.016896424360219986, 0.020370090474300755, 0.013221958821699843, 0.013912490399960882, 0.01144127634727688, 0.013055382891936041, 0.013814398434315978, 0.02268113865833243, 0.023405839243961734, 0.020323014163105533, 0.01124117454973497, 0.011376187781334288, 0.01259747680655767, 0.011174492958351634, 0.010461618986441911, 0.011804733262339061, 0.009350291090539295, 0.007953877560412197, 0.009372465173564158, 0.013712678184831045, 0.01230606188289318, 0.015213239148402311, 0.010218295408851948, 0.014453828245740747, 0.014285762017929702, 0.008874355281443223, 0.00844322868282689, 0.009099145982400778, 0.008822005196414176, 0.008376315679130747, 0.009202883324975283, 0.010497765118046514, 0.007887514810950366, 0.011251850659441258, 0.009538519022089229, 0.01384379084891001, 0.009336714782158336, 0.008702974545816887, 0.006702139759917384, 0.00691283868213543, 0.006770073159237022, 0.009739407939360045, 0.009696918553324182, 0.008268589369607735, 0.006392096104230536, 0.013353107301998119, 0.006673660143872972, 0.007917949052870335, 0.007094843620911264, 0.009724670546005641, 0.008335657435796687, 0.008382926556421696, 0.01572898441942714, 0.013658571512897151, 0.009968561680998463, 0.00866466031143051, 0.012012279099037076, 0.007200815297784397, 0.010161270460642014, 0.008681511720265133, 0.009264553709818657, 0.008127125538711106, 0.009506276646906047, 0.00944556907719059, 0.011833154822668704, 0.006921548795296742, 0.012063107585350483, 0.007566632840660895, 0.010883774756186975, 0.011831959786464924, 0.012122646783483423, 0.011154395815859464, 0.008450677248458932, 0.009247464309963609, 0.007067677338907079, 0.00770809141308227, 0.009049394534440836, 0.008953919779124228, 0.010003128930752251, 0.007460757666246668, 0.009418880160081508, 0.006378515635944366, 0.007908251545436173, 0.006852312456261581, 0.009170447323155776, 0.015746481066661582, 0.0070765811537320845, 0.008778993177984456, 0.0071691861652871825, 0.0065061598227466495, 0.006092250156342533, 0.011821979677651476, 0.014514414696963641, 0.006119135331335237, 0.014337337216857714, 0.0076335399161972526, 0.007307084928011717, 0.007330551775698065, 0.01037637073048983, 0.008237090514737568, 0.00901234553668, 0.01621208336195397, 0.00562455111320952, 0.009959666155193439, 0.006391096175652177, 0.00666994052479014, 0.011431390352165893, 0.005861805061470446, 0.008706763722447648, 0.00980104631067914, 0.0077403784346391745, 0.0052769981761183, 0.007016422830713663, 0.00855468078059488, 0.005499261619400272, 0.005450813317591797, 0.014810178749794406, 0.008534568906975954, 0.013663377551286498, 0.007623648860737527, 0.007224152941492781, 0.0047311738799285154, 0.00941192144145093, 0.04169435498513647, 0.009252846538519181, 0.005929490750465832, 0.006597227439556274, 0.005575689542336165, 0.0056560505722844925, 0.011142716861252509, 0.006032385117705871, 0.009818049753080456, 0.006711115174460195, 0.0068417576494884435, 0.005848367508764381, 0.005485214907055376, 0.005687283936870094, 0.005752273790695301, 0.006680287143987054, 0.00471083256652585, 0.0072187523227968545, 0.005397055709042467, 0.004922736601390331, 0.007884186642352504, 0.004983943495758611, 0.009336610455282248, 0.007056605568785741, 0.006708035176770526, 0.006744143744542481, 0.008427483572610875, 0.00587871129041872, 0.012232129650909234, 0.009551252722490623, 0.005802509681155399, 0.008335694364663719, 0.007635546506920808, 0.007734057061094021, 0.004929016624689532, 0.0061983740102448765, 0.007167940492280139, 0.004831843195650885, 0.011533852717332857, 0.007998179653879372, 0.008913979055776235, 0.009209076739483162, 0.006490358584568167, 0.0065384156691056725, 0.009064672277100064, 0.004959051837023713, 0.00878902079453208, 0.007159473319646114, 0.00648660152733771], 'train_mae': [0.6236036080675833, 0.38208716356243766, 0.3319357751946987, 0.28966138137749675, 0.28076608330137004, 0.2526190229355303, 0.2553835348823612, 0.2018958473047033, 0.21974130594270805, 0.2370387785095138, 0.1878224430909193, 0.17293545084748238, 0.19055488335085086, 0.15081292661831197, 0.17478519186444402, 0.15271756150980273, 0.1439231599216766, 0.1367114768906117, 0.1891359100109629, 0.18550823087816395, 0.13923146664099673, 0.1773311349321295, 0.16426705272885614, 0.16838588169466545, 0.14766539706692358, 0.163900927420791, 0.151798712996968, 0.14664186171838425, 0.14948399466883508, 0.17967935927278894, 0.1378219578109421, 0.13696300268182005, 0.11396547224966935, 0.12640066827863472, 0.15787804351757875, 0.13171650759688006, 0.12178502529226033, 0.13041956405057598, 0.12432971261477764, 0.13259793070443057, 0.1520786312510188, 0.12662536615489534, 0.1221233922511179, 0.11383499962111229, 0.10287975868129917, 0.09094474442540405, 0.10547509955523639, 0.10190207269269427, 0.10601765628376973, 0.09261318223723924, 0.09366233833812285, 0.10405716232851764, 0.10785827845625721, 0.09915335287826545, 0.10275723017235316, 0.10011623462065271, 0.09992885928470108, 0.1467914943725199, 0.1315125963239061, 0.1517807222341963, 0.11079650732274667, 0.138455334472494, 0.10393215464192428, 0.10711753963426462, 0.12350104939161649, 0.10384704288373459, 0.10051442799910831, 0.11258728641470765, 0.0914982668848982, 0.09516531216908272, 0.08517904440437077, 0.09387540419720969, 0.09679389057949284, 0.11988632556848061, 0.11931924207985677, 0.11187094171238447, 0.08233993909176954, 0.08245647198156023, 0.09374485890806296, 0.080123095407465, 0.08415308278623661, 0.08030643900638218, 0.07148872620058669, 0.06918099194548248, 0.07296230767175894, 0.08957826072788387, 0.07999987021650966, 0.09854410807142672, 0.07796867486251455, 0.09699306005986892, 0.09017555212307383, 0.07182494806924986, 0.06672450743682462, 0.07132296556968196, 0.07952157846170692, 0.07399354661832681, 0.07732107948324178, 0.07942984288705368, 0.07180919934932815, 0.08628247367033322, 0.07710891173371981, 0.09341522925384046, 0.07330304870764635, 0.07618878924145592, 0.0638437124963897, 0.06532000481302479, 0.06237167301417601, 0.07159822186809678, 0.07674684291423223, 0.07018008110790147, 0.06274330294478889, 0.08389496919563676, 0.06439621608159905, 0.06980909285271135, 0.06319571099514186, 0.07333501169995096, 0.06934202068000621, 0.06917180400437119, 0.09735528618330731, 0.09297540189672235, 0.07592122301137257, 0.07452931520768319, 0.08994045226097842, 0.06923396454984083, 0.07802872790613792, 0.0741737466135722, 0.07558206142256282, 0.06936801324248827, 0.0809762552895767, 0.07013190853954211, 0.08594944162785075, 0.0612784900549607, 0.08790648294104693, 0.06858622327256243, 0.08640165835321904, 0.0844816630078206, 0.08793710349384593, 0.08268463102430472, 0.06860862833240168, 0.07210020825394399, 0.06218349718834243, 0.06635579779134046, 0.07058284061305546, 0.07605834876257328, 0.06884148900588001, 0.06508337982109087, 0.07573926330230647, 0.060853450315200966, 0.06904543429016674, 0.06602122458146947, 0.07777056854239096, 0.09368416087254203, 0.062046969069829004, 0.07150750128689548, 0.06485384657233693, 0.058944534139636504, 0.05984974116287829, 0.08448038104785541, 0.09547013276632285, 0.05694624642232134, 0.09628836224979331, 0.07289929856670907, 0.0658120009607306, 0.06859780742182739, 0.08365591485163358, 0.07073083532920119, 0.0739387879403644, 0.10325199860649321, 0.055773103368264874, 0.07896665896091032, 0.06231663346043872, 0.06338253225287825, 0.07839319486024919, 0.06000364940492605, 0.07244002572508505, 0.07921428254392533, 0.0672253615435568, 0.056427844094196794, 0.061290814630281625, 0.07582066737816039, 0.05807132796158337, 0.056685413090344056, 0.09565145831039797, 0.06493880708174744, 0.08294405746650364, 0.06436134648727553, 0.06520281823525229, 0.05104851390505332, 0.0785698959603731, 0.11823335986564326, 0.0701105329799206, 0.0641099959529804, 0.062442629799504955, 0.05856573466306924, 0.056496763487458024, 0.08061352399038654, 0.054480992330901826, 0.07496033038258514, 0.06624336898262341, 0.06438849519528651, 0.060454002896891734, 0.05965107365307294, 0.05559685786079799, 0.05760442609622425, 0.0671458275883224, 0.051363190109253484, 0.06970674617581281, 0.05575671691659352, 0.05708722487837535, 0.06915146519334141, 0.052501660027973684, 0.07954509923509914, 0.062281304452889145, 0.06424508161767828, 0.06048193098233884, 0.07313574443392316, 0.05800274987831587, 0.07372885057698336, 0.07884006758032673, 0.05921263087988658, 0.0699431083216498, 0.06207380663858281, 0.06516059819639208, 0.05233431046672248, 0.06348481661585548, 0.0684481061799185, 0.051598271150006945, 0.08916393173943868, 0.07048543932434069, 0.07530936137222045, 0.08059301691918355, 0.060272420561961165, 0.06265331594778957, 0.069790966037878, 0.053005531555176025, 0.06976153008789822, 0.0642698043454169, 0.06030713406128873]}\n"
     ]
    },
    {
     "data": {
      "application/scrapbook.scrap.json+json": {
       "data": 0.05464024295727232,
       "encoder": "json",
       "name": "TabNet MAE",
       "version": 1
      }
     },
     "metadata": {
      "scrapbook": {
       "data": true,
       "display": false,
       "name": "TabNet MAE"
      }
     },
     "output_type": "display_data"
    },
    {
     "name": "stdout",
     "output_type": "stream",
     "text": [
      "TabNet MAE 0.05464024295727232\n"
     ]
    },
    {
     "data": {
      "image/png": "[encoded data removed]",
      "text/plain": [
       "<Figure size 432x288 with 1 Axes>"
      ]
     },
     "metadata": {
      "needs_background": "light"
     },
     "output_type": "display_data"
    }
   ],
   "source": [
    "lr = 0.01\n",
    "\n",
    "y_train = np.reshape(y_train, (-1, 1))\n",
    "y_test = np.reshape(y_test, (-1, 1))\n",
    "\n",
    "device = torch.device('cuda' if torch.cuda.is_available() else 'cpu')\n",
    "mae_tab= baselineModels.tabnetreg(X_train,y_train,X_test,y_test,batch_size,n_features,n_target,n_epochs, lr)\n",
    "sb.glue(\"TabNet MAE\",mae_tab)\n",
    "print(\"TabNet MAE\",mae_tab)"
   ]
  }
 ],
 "metadata": {
  "kernelspec": {
   "display_name": "Python 3.7.3 64-bit",
   "language": "python",
   "name": "python3"
  },
  "language_info": {
   "codemirror_mode": {
    "name": "ipython",
    "version": 3
   },
   "file_extension": ".py",
   "mimetype": "text/x-python",
   "name": "python",
   "nbconvert_exporter": "python",
   "pygments_lexer": "ipython3",
   "version": "3.8.13"
  },
  "papermill": {
   "default_parameters": {},
   "duration": 357.15068,
   "end_time": "2022-07-24T10:40:23.342556",
   "environment_variables": {},
   "exception": null,
   "input_path": "BaselineModels.ipynb",
   "output_path": "./BaseLine_Model_Output/BaselineModels_output_5.ipynb",
   "parameters": {},
   "start_time": "2022-07-24T10:34:26.191876",
   "version": "2.3.3"
  },
  "vscode": {
   "interpreter": {
    "hash": "aee8b7b246df8f9039afb4144a1f6fd8d2ca17a180786b69acc140d282b71a49"
   }
  }
 },
 "nbformat": 4,
 "nbformat_minor": 5
}