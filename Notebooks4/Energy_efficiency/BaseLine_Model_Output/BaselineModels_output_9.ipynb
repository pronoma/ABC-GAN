{
 "cells": [
  {
   "cell_type": "markdown",
   "id": "e7c027d1",
   "metadata": {
    "papermill": {
     "duration": 0.007157,
     "end_time": "2022-07-24T10:47:45.686049",
     "exception": false,
     "start_time": "2022-07-24T10:47:45.678892",
     "status": "completed"
    },
    "tags": []
   },
   "source": [
    "## Import Libraries "
   ]
  },
  {
   "cell_type": "code",
   "execution_count": 1,
   "id": "d59f4e7e",
   "metadata": {
    "execution": {
     "iopub.execute_input": "2022-07-24T10:47:45.697544Z",
     "iopub.status.busy": "2022-07-24T10:47:45.696129Z",
     "iopub.status.idle": "2022-07-24T10:47:45.709511Z",
     "shell.execute_reply": "2022-07-24T10:47:45.708497Z"
    },
    "papermill": {
     "duration": 0.022378,
     "end_time": "2022-07-24T10:47:45.713031",
     "exception": false,
     "start_time": "2022-07-24T10:47:45.690653",
     "status": "completed"
    },
    "tags": []
   },
   "outputs": [],
   "source": [
    "import warnings\n",
    "import sys\n",
    "sys.path.insert(0, '../../src')\n",
    "warnings.filterwarnings('ignore')"
   ]
  },
  {
   "cell_type": "code",
   "execution_count": 2,
   "id": "52a354eb",
   "metadata": {
    "execution": {
     "iopub.execute_input": "2022-07-24T10:47:45.721762Z",
     "iopub.status.busy": "2022-07-24T10:47:45.721427Z",
     "iopub.status.idle": "2022-07-24T10:47:56.231541Z",
     "shell.execute_reply": "2022-07-24T10:47:56.229451Z"
    },
    "papermill": {
     "duration": 10.518318,
     "end_time": "2022-07-24T10:47:56.234798",
     "exception": false,
     "start_time": "2022-07-24T10:47:45.716480",
     "status": "completed"
    },
    "tags": []
   },
   "outputs": [],
   "source": [
    "import statsModel\n",
    "import scrapbook as sb \n",
    "import torch \n",
    "import statsModel\n",
    "import baselineModels\n",
    "import energyefficiencyDataset\n",
    "import dataset \n",
    "from torch.utils.data import random_split \n",
    "from sklearn.model_selection import train_test_split\n",
    "import numpy as np\n",
    "from sklearn.metrics import mean_squared_error,mean_absolute_error "
   ]
  },
  {
   "cell_type": "markdown",
   "id": "32229913",
   "metadata": {
    "papermill": {
     "duration": 0.006107,
     "end_time": "2022-07-24T10:47:56.332865",
     "exception": false,
     "start_time": "2022-07-24T10:47:56.326758",
     "status": "completed"
    },
    "tags": []
   },
   "source": [
    "## Import Dataset \n"
   ]
  },
  {
   "cell_type": "code",
   "execution_count": 3,
   "id": "811d8690",
   "metadata": {
    "execution": {
     "iopub.execute_input": "2022-07-24T10:47:56.595944Z",
     "iopub.status.busy": "2022-07-24T10:47:56.594425Z",
     "iopub.status.idle": "2022-07-24T10:47:58.869905Z",
     "shell.execute_reply": "2022-07-24T10:47:58.865657Z"
    },
    "papermill": {
     "duration": 2.532491,
     "end_time": "2022-07-24T10:47:58.874546",
     "exception": false,
     "start_time": "2022-07-24T10:47:56.342055",
     "status": "completed"
    },
    "tags": []
   },
   "outputs": [
    {
     "name": "stdout",
     "output_type": "stream",
     "text": [
      "     X1     X2     X3      X4   X5  X6   X7  X8     Y1     Y2\n",
      "0  0.98  514.5  294.0  110.25  7.0   2  0.0   0  15.55  21.33\n",
      "1  0.98  514.5  294.0  110.25  7.0   3  0.0   0  15.55  21.33\n",
      "2  0.98  514.5  294.0  110.25  7.0   4  0.0   0  15.55  21.33\n",
      "3  0.98  514.5  294.0  110.25  7.0   5  0.0   0  15.55  21.33\n",
      "4  0.90  563.5  318.5  122.50  7.0   2  0.0   0  20.84  28.28\n"
     ]
    }
   ],
   "source": [
    "n_features = 13\n",
    "n_samples= 506\n",
    "n_target = 1 \n",
    "X,Y = energyefficiencyDataset.energy_data()"
   ]
  },
  {
   "cell_type": "code",
   "execution_count": 4,
   "id": "eb048a65",
   "metadata": {
    "execution": {
     "iopub.execute_input": "2022-07-24T10:47:58.904661Z",
     "iopub.status.busy": "2022-07-24T10:47:58.901038Z",
     "iopub.status.idle": "2022-07-24T10:47:58.914544Z",
     "shell.execute_reply": "2022-07-24T10:47:58.912942Z"
    },
    "papermill": {
     "duration": 0.033751,
     "end_time": "2022-07-24T10:47:58.921687",
     "exception": false,
     "start_time": "2022-07-24T10:47:58.887936",
     "status": "completed"
    },
    "tags": []
   },
   "outputs": [],
   "source": [
    "# Train test split for dataset \n",
    "real_dataset = dataset.CustomDataset(X,Y)\n",
    "X_train, X_test, y_train, y_test = train_test_split(X, Y, test_size=0.2)"
   ]
  },
  {
   "cell_type": "markdown",
   "id": "ee45d0a3",
   "metadata": {
    "papermill": {
     "duration": 0.008152,
     "end_time": "2022-07-24T10:47:58.937023",
     "exception": false,
     "start_time": "2022-07-24T10:47:58.928871",
     "status": "completed"
    },
    "tags": []
   },
   "source": [
    "## Stats Model \n",
    "\n"
   ]
  },
  {
   "cell_type": "code",
   "execution_count": 5,
   "id": "2eb9c067",
   "metadata": {
    "execution": {
     "iopub.execute_input": "2022-07-24T10:47:58.955528Z",
     "iopub.status.busy": "2022-07-24T10:47:58.955045Z",
     "iopub.status.idle": "2022-07-24T10:47:59.921378Z",
     "shell.execute_reply": "2022-07-24T10:47:59.915162Z"
    },
    "papermill": {
     "duration": 0.985228,
     "end_time": "2022-07-24T10:47:59.930123",
     "exception": false,
     "start_time": "2022-07-24T10:47:58.944895",
     "status": "completed"
    },
    "tags": []
   },
   "outputs": [
    {
     "name": "stderr",
     "output_type": "stream",
     "text": [
      "No artists with labels found to put in legend.  Note that artists whose label start with an underscore are ignored when legend() is called with no argument.\n"
     ]
    },
    {
     "name": "stdout",
     "output_type": "stream",
     "text": [
      "                                 OLS Regression Results                                \n",
      "=======================================================================================\n",
      "Dep. Variable:                      y   R-squared (uncentered):                   0.912\n",
      "Model:                            OLS   Adj. R-squared (uncentered):              0.911\n",
      "Method:                 Least Squares   F-statistic:                              900.8\n",
      "Date:                Sun, 24 Jul 2022   Prob (F-statistic):                   9.05e-316\n",
      "Time:                        16:17:58   Log-Likelihood:                         -122.24\n",
      "No. Observations:                 614   AIC:                                      258.5\n",
      "Df Residuals:                     607   BIC:                                      289.4\n",
      "Df Model:                           7                                                  \n",
      "Covariance Type:            nonrobust                                                  \n",
      "==============================================================================\n",
      "                 coef    std err          t      P>|t|      [0.025      0.975]\n",
      "------------------------------------------------------------------------------\n",
      "x1            -0.6552      0.119     -5.501      0.000      -0.889      -0.421\n",
      "x2            -0.3608      0.088     -4.097      0.000      -0.534      -0.188\n",
      "x3             0.0751      0.023      3.221      0.001       0.029       0.121\n",
      "x4            -0.3881      0.079     -4.904      0.000      -0.544      -0.233\n",
      "x5             0.7142      0.066     10.830      0.000       0.585       0.844\n",
      "x6            -0.0099      0.012     -0.832      0.406      -0.033       0.013\n",
      "x7             0.2650      0.012     21.566      0.000       0.241       0.289\n",
      "x8             0.0385      0.012      3.142      0.002       0.014       0.063\n",
      "==============================================================================\n",
      "Omnibus:                       13.842   Durbin-Watson:                   1.949\n",
      "Prob(Omnibus):                  0.001   Jarque-Bera (JB):               24.964\n",
      "Skew:                           0.086   Prob(JB):                     3.79e-06\n",
      "Kurtosis:                       3.973   Cond. No.                     2.50e+15\n",
      "==============================================================================\n",
      "\n",
      "Notes:\n",
      "[1] R² is computed without centering (uncentered) since the model does not contain a constant.\n",
      "[2] Standard Errors assume that the covariance matrix of the errors is correctly specified.\n",
      "[3] The smallest eigenvalue is 3.7e-28. This might indicate that there are\n",
      "strong multicollinearity problems or that the design matrix is singular.\n"
     ]
    },
    {
     "data": {
      "image/png": "[encoded data removed]",
      "text/plain": [
       "<Figure size 432x288 with 1 Axes>"
      ]
     },
     "metadata": {
      "needs_background": "light"
     },
     "output_type": "display_data"
    },
    {
     "name": "stdout",
     "output_type": "stream",
     "text": [
      "Performance Metrics\n",
      "Mean Squared Error: 0.0713421277665083\n",
      "Mean Absolute Error: 0.19243326071067995\n",
      "Manhattan distance: 29.634722149444716\n",
      "Euclidean distance: 3.3146172744439557\n"
     ]
    },
    {
     "data": {
      "application/scrapbook.scrap.json+json": {
       "data": 0.0713421277665083,
       "encoder": "json",
       "name": "Stats Model MSE",
       "version": 1
      }
     },
     "metadata": {
      "scrapbook": {
       "data": true,
       "display": false,
       "name": "Stats Model MSE"
      }
     },
     "output_type": "display_data"
    },
    {
     "data": {
      "application/scrapbook.scrap.json+json": {
       "data": 0.19243326071067995,
       "encoder": "json",
       "name": "Stats Model MAE",
       "version": 1
      }
     },
     "metadata": {
      "scrapbook": {
       "data": true,
       "display": false,
       "name": "Stats Model MAE"
      }
     },
     "output_type": "display_data"
    },
    {
     "data": {
      "application/scrapbook.scrap.json+json": {
       "data": 29.634722149444716,
       "encoder": "json",
       "name": "Stats Model Manhattan Distance",
       "version": 1
      }
     },
     "metadata": {
      "scrapbook": {
       "data": true,
       "display": false,
       "name": "Stats Model Manhattan Distance"
      }
     },
     "output_type": "display_data"
    },
    {
     "data": {
      "application/scrapbook.scrap.json+json": {
       "data": 3.3146172744439557,
       "encoder": "json",
       "name": "Stats Model Euclidean distance",
       "version": 1
      }
     },
     "metadata": {
      "scrapbook": {
       "data": true,
       "display": false,
       "name": "Stats Model Euclidean distance"
      }
     },
     "output_type": "display_data"
    },
    {
     "data": {
      "application/scrapbook.scrap.json+json": {
       "data": [
        -0.6552365337892088,
        -0.36082659195705863,
        0.07512437151516435,
        -0.3881377993994651,
        0.7142327367996384,
        -0.009912827627404548,
        0.26499657703547236,
        0.03846397114988848
       ],
       "encoder": "json",
       "name": "Coefficients",
       "version": 1
      }
     },
     "metadata": {
      "scrapbook": {
       "data": true,
       "display": false,
       "name": "Coefficients"
      }
     },
     "output_type": "display_data"
    },
    {
     "name": "stdout",
     "output_type": "stream",
     "text": [
      "Stats Model MAE 0.19243326071067995\n"
     ]
    }
   ],
   "source": [
    "coefficients , y_pred =statsModel.statsModel(X_train,y_train,X_test,y_test)\n",
    "#Store MSE Value \n",
    "sb.glue(\"Coefficients\",coefficients)\n",
    "mae = mean_absolute_error(y_pred, y_test)\n",
    "print(\"Stats Model MAE\", mae)"
   ]
  },
  {
   "cell_type": "markdown",
   "id": "7018fa94",
   "metadata": {
    "papermill": {
     "duration": 0.013155,
     "end_time": "2022-07-24T10:47:59.954258",
     "exception": false,
     "start_time": "2022-07-24T10:47:59.941103",
     "status": "completed"
    },
    "tags": []
   },
   "source": [
    "# Catboost Model "
   ]
  },
  {
   "cell_type": "code",
   "execution_count": 6,
   "id": "5b910829",
   "metadata": {
    "execution": {
     "iopub.execute_input": "2022-07-24T10:47:59.977227Z",
     "iopub.status.busy": "2022-07-24T10:47:59.976678Z",
     "iopub.status.idle": "2022-07-24T10:48:01.669529Z",
     "shell.execute_reply": "2022-07-24T10:48:01.665901Z"
    },
    "papermill": {
     "duration": 1.722235,
     "end_time": "2022-07-24T10:48:01.687738",
     "exception": false,
     "start_time": "2022-07-24T10:47:59.965503",
     "status": "completed"
    },
    "tags": []
   },
   "outputs": [
    {
     "name": "stdout",
     "output_type": "stream",
     "text": [
      "Learning rate set to 0.037906\n"
     ]
    },
    {
     "name": "stdout",
     "output_type": "stream",
     "text": [
      "0:\tlearn: 0.9670902\ttotal: 66ms\tremaining: 1m 5s\n",
      "1:\tlearn: 0.9349609\ttotal: 66.7ms\tremaining: 33.3s\n",
      "2:\tlearn: 0.9079128\ttotal: 68.1ms\tremaining: 22.6s\n",
      "3:\tlearn: 0.8777027\ttotal: 68.7ms\tremaining: 17.1s\n",
      "4:\tlearn: 0.8532316\ttotal: 69ms\tremaining: 13.7s\n",
      "5:\tlearn: 0.8253547\ttotal: 70.3ms\tremaining: 11.6s\n",
      "6:\tlearn: 0.8031895\ttotal: 70.7ms\tremaining: 10s\n",
      "7:\tlearn: 0.7782161\ttotal: 71.5ms\tremaining: 8.87s\n",
      "8:\tlearn: 0.7522245\ttotal: 72.2ms\tremaining: 7.94s\n",
      "9:\tlearn: 0.7287490\ttotal: 72.7ms\tremaining: 7.2s\n",
      "10:\tlearn: 0.7059702\ttotal: 73.3ms\tremaining: 6.59s\n",
      "11:\tlearn: 0.6831287\ttotal: 74ms\tremaining: 6.09s\n",
      "12:\tlearn: 0.6630314\ttotal: 74.6ms\tremaining: 5.66s\n",
      "13:\tlearn: 0.6428412\ttotal: 75.2ms\tremaining: 5.29s\n",
      "14:\tlearn: 0.6224477\ttotal: 75.9ms\tremaining: 4.98s\n",
      "15:\tlearn: 0.6023534\ttotal: 76.5ms\tremaining: 4.71s\n",
      "16:\tlearn: 0.5837826\ttotal: 78.4ms\tremaining: 4.54s\n",
      "17:\tlearn: 0.5667100\ttotal: 80.3ms\tremaining: 4.38s\n",
      "18:\tlearn: 0.5495521\ttotal: 81.1ms\tremaining: 4.19s\n"
     ]
    },
    {
     "name": "stdout",
     "output_type": "stream",
     "text": [
      "19:\tlearn: 0.5337931\ttotal: 82.5ms\tremaining: 4.04s\n",
      "20:\tlearn: 0.5184875\ttotal: 83.1ms\tremaining: 3.87s\n",
      "21:\tlearn: 0.5019642\ttotal: 84.1ms\tremaining: 3.74s\n",
      "22:\tlearn: 0.4859806\ttotal: 84.7ms\tremaining: 3.6s\n",
      "23:\tlearn: 0.4728555\ttotal: 85.9ms\tremaining: 3.49s\n",
      "24:\tlearn: 0.4578405\ttotal: 86.6ms\tremaining: 3.38s\n",
      "25:\tlearn: 0.4442521\ttotal: 88.5ms\tremaining: 3.32s\n",
      "26:\tlearn: 0.4312558\ttotal: 89.5ms\tremaining: 3.23s\n",
      "27:\tlearn: 0.4182982\ttotal: 90.4ms\tremaining: 3.14s\n",
      "28:\tlearn: 0.4075103\ttotal: 91ms\tremaining: 3.05s\n",
      "29:\tlearn: 0.3975331\ttotal: 91.3ms\tremaining: 2.95s\n",
      "30:\tlearn: 0.3861083\ttotal: 91.9ms\tremaining: 2.87s\n",
      "31:\tlearn: 0.3750876\ttotal: 92.4ms\tremaining: 2.79s\n",
      "32:\tlearn: 0.3642906\ttotal: 92.8ms\tremaining: 2.72s\n",
      "33:\tlearn: 0.3536738\ttotal: 93.7ms\tremaining: 2.66s\n",
      "34:\tlearn: 0.3426734\ttotal: 95ms\tremaining: 2.62s\n",
      "35:\tlearn: 0.3333204\ttotal: 95.7ms\tremaining: 2.56s\n",
      "36:\tlearn: 0.3231168\ttotal: 96.5ms\tremaining: 2.51s\n",
      "37:\tlearn: 0.3139376\ttotal: 97.2ms\tremaining: 2.46s\n",
      "38:\tlearn: 0.3058221\ttotal: 97.9ms\tremaining: 2.41s\n",
      "39:\tlearn: 0.2966224\ttotal: 99.1ms\tremaining: 2.38s\n",
      "40:\tlearn: 0.2887968\ttotal: 100ms\tremaining: 2.34s\n",
      "41:\tlearn: 0.2802599\ttotal: 101ms\tremaining: 2.3s\n",
      "42:\tlearn: 0.2729841\ttotal: 101ms\tremaining: 2.25s\n",
      "43:\tlearn: 0.2658177\ttotal: 102ms\tremaining: 2.22s\n",
      "44:\tlearn: 0.2593015\ttotal: 103ms\tremaining: 2.18s\n",
      "45:\tlearn: 0.2528544\ttotal: 103ms\tremaining: 2.14s\n",
      "46:\tlearn: 0.2475784\ttotal: 104ms\tremaining: 2.1s\n",
      "47:\tlearn: 0.2415611\ttotal: 104ms\tremaining: 2.07s\n",
      "48:\tlearn: 0.2345581\ttotal: 105ms\tremaining: 2.04s\n",
      "49:\tlearn: 0.2279543\ttotal: 107ms\tremaining: 2.03s\n",
      "50:\tlearn: 0.2221619\ttotal: 107ms\tremaining: 2s\n",
      "51:\tlearn: 0.2176976\ttotal: 108ms\tremaining: 1.97s\n",
      "52:\tlearn: 0.2126841\ttotal: 109ms\tremaining: 1.94s\n",
      "53:\tlearn: 0.2067636\ttotal: 110ms\tremaining: 1.92s\n",
      "54:\tlearn: 0.2014181\ttotal: 111ms\tremaining: 1.91s\n",
      "55:\tlearn: 0.1965499\ttotal: 112ms\tremaining: 1.89s\n",
      "56:\tlearn: 0.1915758\ttotal: 113ms\tremaining: 1.87s\n",
      "57:\tlearn: 0.1875383\ttotal: 113ms\tremaining: 1.84s\n",
      "58:\tlearn: 0.1844011\ttotal: 113ms\tremaining: 1.81s\n",
      "59:\tlearn: 0.1800489\ttotal: 114ms\tremaining: 1.78s\n",
      "60:\tlearn: 0.1758487\ttotal: 114ms\tremaining: 1.76s\n",
      "61:\tlearn: 0.1714165\ttotal: 115ms\tremaining: 1.74s\n",
      "62:\tlearn: 0.1685371\ttotal: 115ms\tremaining: 1.71s\n",
      "63:\tlearn: 0.1650555\ttotal: 116ms\tremaining: 1.7s\n",
      "64:\tlearn: 0.1616480\ttotal: 117ms\tremaining: 1.68s\n",
      "65:\tlearn: 0.1592555\ttotal: 117ms\tremaining: 1.66s\n",
      "66:\tlearn: 0.1558157\ttotal: 118ms\tremaining: 1.65s\n",
      "67:\tlearn: 0.1524035\ttotal: 120ms\tremaining: 1.64s\n",
      "68:\tlearn: 0.1492959\ttotal: 121ms\tremaining: 1.63s\n",
      "69:\tlearn: 0.1453491\ttotal: 122ms\tremaining: 1.62s\n",
      "70:\tlearn: 0.1421884\ttotal: 123ms\tremaining: 1.61s\n",
      "71:\tlearn: 0.1400049\ttotal: 124ms\tremaining: 1.6s\n",
      "72:\tlearn: 0.1375822\ttotal: 125ms\tremaining: 1.58s\n",
      "73:\tlearn: 0.1345053\ttotal: 125ms\tremaining: 1.57s\n",
      "74:\tlearn: 0.1316787\ttotal: 126ms\tremaining: 1.55s\n",
      "75:\tlearn: 0.1288457\ttotal: 128ms\tremaining: 1.55s\n",
      "76:\tlearn: 0.1262962\ttotal: 128ms\tremaining: 1.54s\n",
      "77:\tlearn: 0.1240651\ttotal: 129ms\tremaining: 1.53s\n",
      "78:\tlearn: 0.1214670\ttotal: 130ms\tremaining: 1.51s\n",
      "79:\tlearn: 0.1183453\ttotal: 130ms\tremaining: 1.5s\n",
      "80:\tlearn: 0.1155947\ttotal: 133ms\tremaining: 1.5s\n",
      "81:\tlearn: 0.1134496\ttotal: 134ms\tremaining: 1.5s\n",
      "82:\tlearn: 0.1116263\ttotal: 134ms\tremaining: 1.48s\n",
      "83:\tlearn: 0.1092546\ttotal: 135ms\tremaining: 1.48s\n"
     ]
    },
    {
     "name": "stdout",
     "output_type": "stream",
     "text": [
      "84:\tlearn: 0.1079630\ttotal: 136ms\tremaining: 1.46s\n",
      "85:\tlearn: 0.1058167\ttotal: 136ms\tremaining: 1.45s\n",
      "86:\tlearn: 0.1041311\ttotal: 138ms\tremaining: 1.45s\n",
      "87:\tlearn: 0.1020858\ttotal: 138ms\tremaining: 1.43s\n",
      "88:\tlearn: 0.1005635\ttotal: 140ms\tremaining: 1.43s\n",
      "89:\tlearn: 0.0991990\ttotal: 141ms\tremaining: 1.42s\n",
      "90:\tlearn: 0.0973893\ttotal: 142ms\tremaining: 1.41s\n",
      "91:\tlearn: 0.0961862\ttotal: 142ms\tremaining: 1.4s\n",
      "92:\tlearn: 0.0944802\ttotal: 143ms\tremaining: 1.4s\n",
      "93:\tlearn: 0.0927004\ttotal: 145ms\tremaining: 1.4s\n",
      "94:\tlearn: 0.0915778\ttotal: 146ms\tremaining: 1.39s\n",
      "95:\tlearn: 0.0897700\ttotal: 146ms\tremaining: 1.38s\n",
      "96:\tlearn: 0.0888145\ttotal: 147ms\tremaining: 1.37s\n",
      "97:\tlearn: 0.0873664\ttotal: 148ms\tremaining: 1.36s\n",
      "98:\tlearn: 0.0857161\ttotal: 148ms\tremaining: 1.35s\n",
      "99:\tlearn: 0.0851172\ttotal: 148ms\tremaining: 1.33s\n",
      "100:\tlearn: 0.0835952\ttotal: 149ms\tremaining: 1.32s\n",
      "101:\tlearn: 0.0826174\ttotal: 149ms\tremaining: 1.31s\n",
      "102:\tlearn: 0.0811672\ttotal: 150ms\tremaining: 1.31s\n",
      "103:\tlearn: 0.0799693\ttotal: 151ms\tremaining: 1.3s\n",
      "104:\tlearn: 0.0786163\ttotal: 152ms\tremaining: 1.3s\n",
      "105:\tlearn: 0.0775453\ttotal: 153ms\tremaining: 1.29s\n",
      "106:\tlearn: 0.0764680\ttotal: 154ms\tremaining: 1.28s\n",
      "107:\tlearn: 0.0750344\ttotal: 156ms\tremaining: 1.29s\n",
      "108:\tlearn: 0.0741375\ttotal: 157ms\tremaining: 1.29s\n",
      "109:\tlearn: 0.0734945\ttotal: 158ms\tremaining: 1.28s\n",
      "110:\tlearn: 0.0727875\ttotal: 159ms\tremaining: 1.27s\n",
      "111:\tlearn: 0.0718616\ttotal: 159ms\tremaining: 1.26s\n",
      "112:\tlearn: 0.0712178\ttotal: 160ms\tremaining: 1.25s\n",
      "113:\tlearn: 0.0701133\ttotal: 160ms\tremaining: 1.25s\n",
      "114:\tlearn: 0.0689947\ttotal: 161ms\tremaining: 1.24s\n",
      "115:\tlearn: 0.0679195\ttotal: 161ms\tremaining: 1.23s\n",
      "116:\tlearn: 0.0670470\ttotal: 164ms\tremaining: 1.23s\n",
      "117:\tlearn: 0.0663370\ttotal: 164ms\tremaining: 1.23s\n",
      "118:\tlearn: 0.0655327\ttotal: 165ms\tremaining: 1.22s\n",
      "119:\tlearn: 0.0650410\ttotal: 165ms\tremaining: 1.21s\n",
      "120:\tlearn: 0.0641829\ttotal: 166ms\tremaining: 1.21s\n",
      "121:\tlearn: 0.0637487\ttotal: 166ms\tremaining: 1.2s\n",
      "122:\tlearn: 0.0631932\ttotal: 167ms\tremaining: 1.19s\n",
      "123:\tlearn: 0.0623304\ttotal: 171ms\tremaining: 1.21s\n",
      "124:\tlearn: 0.0615795\ttotal: 172ms\tremaining: 1.2s\n",
      "125:\tlearn: 0.0611981\ttotal: 172ms\tremaining: 1.19s\n",
      "126:\tlearn: 0.0605510\ttotal: 172ms\tremaining: 1.18s\n",
      "127:\tlearn: 0.0600543\ttotal: 172ms\tremaining: 1.17s\n",
      "128:\tlearn: 0.0597202\ttotal: 173ms\tremaining: 1.17s\n",
      "129:\tlearn: 0.0591282\ttotal: 174ms\tremaining: 1.17s\n",
      "130:\tlearn: 0.0585606\ttotal: 175ms\tremaining: 1.16s\n",
      "131:\tlearn: 0.0579777\ttotal: 176ms\tremaining: 1.15s\n",
      "132:\tlearn: 0.0575743\ttotal: 176ms\tremaining: 1.15s\n",
      "133:\tlearn: 0.0572791\ttotal: 177ms\tremaining: 1.14s\n",
      "134:\tlearn: 0.0567493\ttotal: 177ms\tremaining: 1.13s\n",
      "135:\tlearn: 0.0562416\ttotal: 178ms\tremaining: 1.13s\n",
      "136:\tlearn: 0.0559095\ttotal: 178ms\tremaining: 1.12s\n",
      "137:\tlearn: 0.0556279\ttotal: 179ms\tremaining: 1.12s\n",
      "138:\tlearn: 0.0553016\ttotal: 180ms\tremaining: 1.11s\n",
      "139:\tlearn: 0.0548305\ttotal: 183ms\tremaining: 1.13s\n",
      "140:\tlearn: 0.0543587\ttotal: 186ms\tremaining: 1.13s\n",
      "141:\tlearn: 0.0539775\ttotal: 188ms\tremaining: 1.13s\n"
     ]
    },
    {
     "name": "stdout",
     "output_type": "stream",
     "text": [
      "142:\tlearn: 0.0535918\ttotal: 189ms\tremaining: 1.13s\n",
      "143:\tlearn: 0.0531914\ttotal: 190ms\tremaining: 1.13s\n",
      "144:\tlearn: 0.0528191\ttotal: 206ms\tremaining: 1.22s\n",
      "145:\tlearn: 0.0526420\ttotal: 207ms\tremaining: 1.21s\n",
      "146:\tlearn: 0.0523143\ttotal: 207ms\tremaining: 1.2s\n",
      "147:\tlearn: 0.0519560\ttotal: 207ms\tremaining: 1.19s\n",
      "148:\tlearn: 0.0516118\ttotal: 210ms\tremaining: 1.2s\n",
      "149:\tlearn: 0.0514111\ttotal: 212ms\tremaining: 1.2s\n",
      "150:\tlearn: 0.0512330\ttotal: 212ms\tremaining: 1.19s\n",
      "151:\tlearn: 0.0509058\ttotal: 213ms\tremaining: 1.19s\n",
      "152:\tlearn: 0.0506810\ttotal: 213ms\tremaining: 1.18s\n",
      "153:\tlearn: 0.0503657\ttotal: 214ms\tremaining: 1.17s\n",
      "154:\tlearn: 0.0500952\ttotal: 214ms\tremaining: 1.17s\n",
      "155:\tlearn: 0.0498074\ttotal: 215ms\tremaining: 1.16s\n",
      "156:\tlearn: 0.0495566\ttotal: 216ms\tremaining: 1.16s\n",
      "157:\tlearn: 0.0494103\ttotal: 216ms\tremaining: 1.15s\n",
      "158:\tlearn: 0.0491628\ttotal: 218ms\tremaining: 1.15s\n",
      "159:\tlearn: 0.0489385\ttotal: 218ms\tremaining: 1.15s\n",
      "160:\tlearn: 0.0486974\ttotal: 219ms\tremaining: 1.14s\n",
      "161:\tlearn: 0.0484496\ttotal: 220ms\tremaining: 1.14s\n",
      "162:\tlearn: 0.0482123\ttotal: 220ms\tremaining: 1.13s\n",
      "163:\tlearn: 0.0479837\ttotal: 221ms\tremaining: 1.12s\n",
      "164:\tlearn: 0.0478138\ttotal: 221ms\tremaining: 1.12s\n",
      "165:\tlearn: 0.0476507\ttotal: 221ms\tremaining: 1.11s\n",
      "166:\tlearn: 0.0474416\ttotal: 222ms\tremaining: 1.11s\n",
      "167:\tlearn: 0.0472969\ttotal: 224ms\tremaining: 1.11s\n",
      "168:\tlearn: 0.0471038\ttotal: 224ms\tremaining: 1.1s\n",
      "169:\tlearn: 0.0469269\ttotal: 225ms\tremaining: 1.1s\n",
      "170:\tlearn: 0.0467530\ttotal: 226ms\tremaining: 1.09s\n"
     ]
    },
    {
     "name": "stdout",
     "output_type": "stream",
     "text": [
      "171:\tlearn: 0.0465523\ttotal: 226ms\tremaining: 1.09s\n",
      "172:\tlearn: 0.0463754\ttotal: 226ms\tremaining: 1.08s\n",
      "173:\tlearn: 0.0461912\ttotal: 227ms\tremaining: 1.08s\n",
      "174:\tlearn: 0.0459461\ttotal: 227ms\tremaining: 1.07s\n",
      "175:\tlearn: 0.0457893\ttotal: 227ms\tremaining: 1.06s\n",
      "176:\tlearn: 0.0456412\ttotal: 228ms\tremaining: 1.06s\n",
      "177:\tlearn: 0.0454702\ttotal: 228ms\tremaining: 1.05s\n",
      "178:\tlearn: 0.0453104\ttotal: 232ms\tremaining: 1.06s\n",
      "179:\tlearn: 0.0451354\ttotal: 233ms\tremaining: 1.06s\n",
      "180:\tlearn: 0.0449701\ttotal: 234ms\tremaining: 1.06s\n",
      "181:\tlearn: 0.0447981\ttotal: 234ms\tremaining: 1.05s\n",
      "182:\tlearn: 0.0446284\ttotal: 235ms\tremaining: 1.05s\n",
      "183:\tlearn: 0.0444660\ttotal: 236ms\tremaining: 1.04s\n",
      "184:\tlearn: 0.0443053\ttotal: 236ms\tremaining: 1.04s\n",
      "185:\tlearn: 0.0441339\ttotal: 236ms\tremaining: 1.03s\n",
      "186:\tlearn: 0.0439996\ttotal: 237ms\tremaining: 1.03s\n",
      "187:\tlearn: 0.0438990\ttotal: 237ms\tremaining: 1.02s\n",
      "188:\tlearn: 0.0438006\ttotal: 237ms\tremaining: 1.02s\n",
      "189:\tlearn: 0.0436389\ttotal: 238ms\tremaining: 1.01s\n",
      "190:\tlearn: 0.0435158\ttotal: 238ms\tremaining: 1.01s\n",
      "191:\tlearn: 0.0433638\ttotal: 240ms\tremaining: 1.01s\n",
      "192:\tlearn: 0.0431134\ttotal: 241ms\tremaining: 1.01s\n",
      "193:\tlearn: 0.0429686\ttotal: 241ms\tremaining: 1s\n",
      "194:\tlearn: 0.0428179\ttotal: 242ms\tremaining: 997ms\n",
      "195:\tlearn: 0.0427299\ttotal: 242ms\tremaining: 992ms\n",
      "196:\tlearn: 0.0425470\ttotal: 244ms\tremaining: 993ms\n",
      "197:\tlearn: 0.0423494\ttotal: 244ms\tremaining: 990ms\n",
      "198:\tlearn: 0.0422466\ttotal: 245ms\tremaining: 985ms\n",
      "199:\tlearn: 0.0421429\ttotal: 245ms\tremaining: 980ms\n",
      "200:\tlearn: 0.0420303\ttotal: 245ms\tremaining: 975ms\n",
      "201:\tlearn: 0.0419243\ttotal: 246ms\tremaining: 971ms\n",
      "202:\tlearn: 0.0417912\ttotal: 246ms\tremaining: 966ms\n",
      "203:\tlearn: 0.0415724\ttotal: 246ms\tremaining: 961ms\n",
      "204:\tlearn: 0.0414319\ttotal: 247ms\tremaining: 956ms\n",
      "205:\tlearn: 0.0411707\ttotal: 248ms\tremaining: 955ms\n",
      "206:\tlearn: 0.0409776\ttotal: 249ms\tremaining: 952ms\n",
      "207:\tlearn: 0.0407987\ttotal: 249ms\tremaining: 948ms\n",
      "208:\tlearn: 0.0406395\ttotal: 250ms\tremaining: 944ms\n",
      "209:\tlearn: 0.0404538\ttotal: 250ms\tremaining: 940ms\n",
      "210:\tlearn: 0.0403033\ttotal: 251ms\tremaining: 937ms\n",
      "211:\tlearn: 0.0400758\ttotal: 251ms\tremaining: 932ms\n",
      "212:\tlearn: 0.0399920\ttotal: 251ms\tremaining: 928ms\n",
      "213:\tlearn: 0.0398239\ttotal: 251ms\tremaining: 923ms\n",
      "214:\tlearn: 0.0397013\ttotal: 252ms\tremaining: 919ms\n",
      "215:\tlearn: 0.0395594\ttotal: 253ms\tremaining: 917ms\n",
      "216:\tlearn: 0.0394446\ttotal: 253ms\tremaining: 912ms\n",
      "217:\tlearn: 0.0393483\ttotal: 253ms\tremaining: 908ms\n",
      "218:\tlearn: 0.0392199\ttotal: 253ms\tremaining: 904ms\n",
      "219:\tlearn: 0.0391182\ttotal: 254ms\tremaining: 901ms\n",
      "220:\tlearn: 0.0389615\ttotal: 255ms\tremaining: 897ms\n",
      "221:\tlearn: 0.0388610\ttotal: 255ms\tremaining: 893ms\n",
      "222:\tlearn: 0.0387157\ttotal: 255ms\tremaining: 890ms\n",
      "223:\tlearn: 0.0385849\ttotal: 256ms\tremaining: 887ms\n",
      "224:\tlearn: 0.0384510\ttotal: 256ms\tremaining: 883ms\n",
      "225:\tlearn: 0.0383431\ttotal: 256ms\tremaining: 878ms\n",
      "226:\tlearn: 0.0382152\ttotal: 258ms\tremaining: 880ms\n",
      "227:\tlearn: 0.0381405\ttotal: 259ms\tremaining: 876ms\n",
      "228:\tlearn: 0.0379550\ttotal: 259ms\tremaining: 872ms\n",
      "229:\tlearn: 0.0378460\ttotal: 259ms\tremaining: 868ms\n",
      "230:\tlearn: 0.0377474\ttotal: 260ms\tremaining: 864ms\n",
      "231:\tlearn: 0.0376137\ttotal: 261ms\tremaining: 863ms\n",
      "232:\tlearn: 0.0374856\ttotal: 261ms\tremaining: 860ms\n",
      "233:\tlearn: 0.0373803\ttotal: 262ms\tremaining: 858ms\n",
      "234:\tlearn: 0.0372632\ttotal: 263ms\tremaining: 856ms\n",
      "235:\tlearn: 0.0371406\ttotal: 263ms\tremaining: 852ms\n",
      "236:\tlearn: 0.0370526\ttotal: 264ms\tremaining: 849ms\n",
      "237:\tlearn: 0.0369917\ttotal: 264ms\tremaining: 845ms\n",
      "238:\tlearn: 0.0369135\ttotal: 264ms\tremaining: 842ms\n",
      "239:\tlearn: 0.0368454\ttotal: 265ms\tremaining: 838ms\n",
      "240:\tlearn: 0.0366830\ttotal: 265ms\tremaining: 835ms\n",
      "241:\tlearn: 0.0365699\ttotal: 265ms\tremaining: 831ms\n",
      "242:\tlearn: 0.0364220\ttotal: 266ms\tremaining: 828ms\n",
      "243:\tlearn: 0.0363060\ttotal: 266ms\tremaining: 824ms\n",
      "244:\tlearn: 0.0361995\ttotal: 266ms\tremaining: 820ms\n",
      "245:\tlearn: 0.0361264\ttotal: 266ms\tremaining: 817ms\n",
      "246:\tlearn: 0.0360679\ttotal: 267ms\tremaining: 814ms\n",
      "247:\tlearn: 0.0359858\ttotal: 267ms\tremaining: 811ms\n",
      "248:\tlearn: 0.0359281\ttotal: 268ms\tremaining: 809ms\n",
      "249:\tlearn: 0.0358144\ttotal: 269ms\tremaining: 806ms\n",
      "250:\tlearn: 0.0357250\ttotal: 269ms\tremaining: 802ms\n",
      "251:\tlearn: 0.0356130\ttotal: 269ms\tremaining: 800ms\n",
      "252:\tlearn: 0.0355029\ttotal: 271ms\tremaining: 800ms\n",
      "253:\tlearn: 0.0353950\ttotal: 271ms\tremaining: 797ms\n",
      "254:\tlearn: 0.0353405\ttotal: 272ms\tremaining: 795ms\n",
      "255:\tlearn: 0.0352599\ttotal: 273ms\tremaining: 793ms\n",
      "256:\tlearn: 0.0352093\ttotal: 274ms\tremaining: 792ms\n",
      "257:\tlearn: 0.0351154\ttotal: 274ms\tremaining: 789ms\n",
      "258:\tlearn: 0.0350405\ttotal: 275ms\tremaining: 785ms\n",
      "259:\tlearn: 0.0349945\ttotal: 275ms\tremaining: 782ms\n",
      "260:\tlearn: 0.0349513\ttotal: 275ms\tremaining: 779ms\n",
      "261:\tlearn: 0.0348723\ttotal: 276ms\tremaining: 778ms\n",
      "262:\tlearn: 0.0348300\ttotal: 277ms\tremaining: 776ms\n",
      "263:\tlearn: 0.0347202\ttotal: 277ms\tremaining: 772ms\n",
      "264:\tlearn: 0.0345982\ttotal: 277ms\tremaining: 769ms\n",
      "265:\tlearn: 0.0344935\ttotal: 278ms\tremaining: 766ms\n"
     ]
    },
    {
     "name": "stdout",
     "output_type": "stream",
     "text": [
      "266:\tlearn: 0.0343922\ttotal: 278ms\tremaining: 764ms\n",
      "267:\tlearn: 0.0343035\ttotal: 279ms\tremaining: 761ms\n",
      "268:\tlearn: 0.0342560\ttotal: 279ms\tremaining: 759ms\n",
      "269:\tlearn: 0.0341872\ttotal: 280ms\tremaining: 756ms\n",
      "270:\tlearn: 0.0341413\ttotal: 280ms\tremaining: 754ms\n",
      "271:\tlearn: 0.0340468\ttotal: 280ms\tremaining: 751ms\n",
      "272:\tlearn: 0.0339494\ttotal: 281ms\tremaining: 748ms\n",
      "273:\tlearn: 0.0338578\ttotal: 282ms\tremaining: 747ms\n",
      "274:\tlearn: 0.0337627\ttotal: 283ms\tremaining: 745ms\n",
      "275:\tlearn: 0.0336753\ttotal: 283ms\tremaining: 742ms\n",
      "276:\tlearn: 0.0336308\ttotal: 284ms\tremaining: 741ms\n",
      "277:\tlearn: 0.0334773\ttotal: 285ms\tremaining: 740ms\n",
      "278:\tlearn: 0.0333853\ttotal: 285ms\tremaining: 737ms\n",
      "279:\tlearn: 0.0333009\ttotal: 286ms\tremaining: 734ms\n",
      "280:\tlearn: 0.0332571\ttotal: 286ms\tremaining: 732ms\n",
      "281:\tlearn: 0.0332177\ttotal: 286ms\tremaining: 729ms\n",
      "282:\tlearn: 0.0330688\ttotal: 287ms\tremaining: 726ms\n",
      "283:\tlearn: 0.0329976\ttotal: 287ms\tremaining: 723ms\n",
      "284:\tlearn: 0.0328549\ttotal: 287ms\tremaining: 721ms\n",
      "285:\tlearn: 0.0328097\ttotal: 288ms\tremaining: 718ms\n",
      "286:\tlearn: 0.0326890\ttotal: 288ms\tremaining: 715ms\n",
      "287:\tlearn: 0.0326373\ttotal: 288ms\tremaining: 712ms\n",
      "288:\tlearn: 0.0325015\ttotal: 289ms\tremaining: 710ms\n",
      "289:\tlearn: 0.0323989\ttotal: 289ms\tremaining: 708ms\n",
      "290:\tlearn: 0.0323574\ttotal: 289ms\tremaining: 705ms\n",
      "291:\tlearn: 0.0323201\ttotal: 290ms\tremaining: 703ms\n",
      "292:\tlearn: 0.0322359\ttotal: 290ms\tremaining: 700ms\n",
      "293:\tlearn: 0.0322002\ttotal: 290ms\tremaining: 697ms\n",
      "294:\tlearn: 0.0321095\ttotal: 291ms\tremaining: 695ms\n",
      "295:\tlearn: 0.0320425\ttotal: 291ms\tremaining: 692ms\n",
      "296:\tlearn: 0.0319865\ttotal: 292ms\tremaining: 691ms\n",
      "297:\tlearn: 0.0319076\ttotal: 292ms\tremaining: 689ms\n",
      "298:\tlearn: 0.0318385\ttotal: 293ms\tremaining: 686ms\n",
      "299:\tlearn: 0.0318052\ttotal: 293ms\tremaining: 684ms\n",
      "300:\tlearn: 0.0317485\ttotal: 293ms\tremaining: 681ms\n",
      "301:\tlearn: 0.0316423\ttotal: 295ms\tremaining: 683ms\n",
      "302:\tlearn: 0.0315692\ttotal: 296ms\tremaining: 680ms\n",
      "303:\tlearn: 0.0314876\ttotal: 296ms\tremaining: 677ms\n",
      "304:\tlearn: 0.0314418\ttotal: 296ms\tremaining: 675ms\n",
      "305:\tlearn: 0.0313186\ttotal: 297ms\tremaining: 674ms\n",
      "306:\tlearn: 0.0312868\ttotal: 297ms\tremaining: 671ms\n",
      "307:\tlearn: 0.0312287\ttotal: 297ms\tremaining: 668ms\n",
      "308:\tlearn: 0.0311383\ttotal: 298ms\tremaining: 666ms\n",
      "309:\tlearn: 0.0310731\ttotal: 298ms\tremaining: 663ms\n",
      "310:\tlearn: 0.0310339\ttotal: 299ms\tremaining: 661ms\n",
      "311:\tlearn: 0.0309646\ttotal: 299ms\tremaining: 659ms\n",
      "312:\tlearn: 0.0308659\ttotal: 299ms\tremaining: 657ms\n",
      "313:\tlearn: 0.0308151\ttotal: 299ms\tremaining: 654ms\n",
      "314:\tlearn: 0.0307909\ttotal: 300ms\tremaining: 652ms\n",
      "315:\tlearn: 0.0307341\ttotal: 300ms\tremaining: 650ms\n",
      "316:\tlearn: 0.0306747\ttotal: 301ms\tremaining: 649ms\n",
      "317:\tlearn: 0.0306065\ttotal: 302ms\tremaining: 647ms\n",
      "318:\tlearn: 0.0305323\ttotal: 302ms\tremaining: 644ms\n",
      "319:\tlearn: 0.0304198\ttotal: 302ms\tremaining: 642ms\n",
      "320:\tlearn: 0.0303535\ttotal: 302ms\tremaining: 640ms\n",
      "321:\tlearn: 0.0302907\ttotal: 303ms\tremaining: 638ms\n",
      "322:\tlearn: 0.0302403\ttotal: 303ms\tremaining: 635ms\n",
      "323:\tlearn: 0.0301833\ttotal: 304ms\tremaining: 634ms\n",
      "324:\tlearn: 0.0301375\ttotal: 304ms\tremaining: 632ms\n",
      "325:\tlearn: 0.0300314\ttotal: 305ms\tremaining: 631ms\n",
      "326:\tlearn: 0.0299771\ttotal: 306ms\tremaining: 629ms\n",
      "327:\tlearn: 0.0298770\ttotal: 306ms\tremaining: 627ms\n",
      "328:\tlearn: 0.0297876\ttotal: 306ms\tremaining: 624ms\n",
      "329:\tlearn: 0.0297268\ttotal: 307ms\tremaining: 623ms\n",
      "330:\tlearn: 0.0296703\ttotal: 307ms\tremaining: 621ms\n",
      "331:\tlearn: 0.0296163\ttotal: 308ms\tremaining: 620ms\n",
      "332:\tlearn: 0.0295893\ttotal: 308ms\tremaining: 618ms\n",
      "333:\tlearn: 0.0295643\ttotal: 309ms\tremaining: 616ms\n",
      "334:\tlearn: 0.0295359\ttotal: 309ms\tremaining: 614ms\n",
      "335:\tlearn: 0.0294459\ttotal: 309ms\tremaining: 612ms\n",
      "336:\tlearn: 0.0293803\ttotal: 310ms\tremaining: 609ms\n",
      "337:\tlearn: 0.0293456\ttotal: 311ms\tremaining: 608ms\n",
      "338:\tlearn: 0.0292477\ttotal: 311ms\tremaining: 607ms\n",
      "339:\tlearn: 0.0291917\ttotal: 312ms\tremaining: 605ms\n",
      "340:\tlearn: 0.0291099\ttotal: 312ms\tremaining: 603ms\n",
      "341:\tlearn: 0.0290592\ttotal: 312ms\tremaining: 601ms\n",
      "342:\tlearn: 0.0290342\ttotal: 313ms\tremaining: 599ms\n",
      "343:\tlearn: 0.0289573\ttotal: 313ms\tremaining: 597ms\n",
      "344:\tlearn: 0.0288809\ttotal: 314ms\tremaining: 595ms\n",
      "345:\tlearn: 0.0288151\ttotal: 314ms\tremaining: 594ms\n",
      "346:\tlearn: 0.0287502\ttotal: 315ms\tremaining: 592ms\n",
      "347:\tlearn: 0.0287051\ttotal: 315ms\tremaining: 590ms\n",
      "348:\tlearn: 0.0286696\ttotal: 315ms\tremaining: 588ms\n",
      "349:\tlearn: 0.0286469\ttotal: 315ms\tremaining: 586ms\n",
      "350:\tlearn: 0.0285856\ttotal: 316ms\tremaining: 584ms\n",
      "351:\tlearn: 0.0285251\ttotal: 317ms\tremaining: 583ms\n",
      "352:\tlearn: 0.0284672\ttotal: 317ms\tremaining: 582ms\n",
      "353:\tlearn: 0.0284166\ttotal: 318ms\tremaining: 580ms\n",
      "354:\tlearn: 0.0283954\ttotal: 318ms\tremaining: 578ms\n",
      "355:\tlearn: 0.0283386\ttotal: 318ms\tremaining: 576ms\n",
      "356:\tlearn: 0.0282734\ttotal: 319ms\tremaining: 574ms\n",
      "357:\tlearn: 0.0282451\ttotal: 319ms\tremaining: 573ms\n",
      "358:\tlearn: 0.0281997\ttotal: 320ms\tremaining: 571ms\n",
      "359:\tlearn: 0.0281611\ttotal: 320ms\tremaining: 569ms\n",
      "360:\tlearn: 0.0281144\ttotal: 320ms\tremaining: 567ms\n",
      "361:\tlearn: 0.0280740\ttotal: 321ms\tremaining: 566ms\n",
      "362:\tlearn: 0.0280373\ttotal: 322ms\tremaining: 565ms\n",
      "363:\tlearn: 0.0280092\ttotal: 322ms\tremaining: 563ms\n",
      "364:\tlearn: 0.0279403\ttotal: 323ms\tremaining: 562ms\n",
      "365:\tlearn: 0.0278968\ttotal: 324ms\tremaining: 560ms\n",
      "366:\tlearn: 0.0278400\ttotal: 324ms\tremaining: 559ms\n",
      "367:\tlearn: 0.0277688\ttotal: 324ms\tremaining: 557ms\n",
      "368:\tlearn: 0.0276805\ttotal: 325ms\tremaining: 555ms\n"
     ]
    },
    {
     "name": "stdout",
     "output_type": "stream",
     "text": [
      "369:\tlearn: 0.0275990\ttotal: 325ms\tremaining: 553ms\n",
      "370:\tlearn: 0.0275347\ttotal: 325ms\tremaining: 551ms\n",
      "371:\tlearn: 0.0274704\ttotal: 327ms\tremaining: 551ms\n",
      "372:\tlearn: 0.0274037\ttotal: 327ms\tremaining: 550ms\n",
      "373:\tlearn: 0.0273739\ttotal: 328ms\tremaining: 549ms\n",
      "374:\tlearn: 0.0273159\ttotal: 328ms\tremaining: 547ms\n",
      "375:\tlearn: 0.0272720\ttotal: 329ms\tremaining: 546ms\n",
      "376:\tlearn: 0.0272449\ttotal: 329ms\tremaining: 544ms\n",
      "377:\tlearn: 0.0272096\ttotal: 329ms\tremaining: 542ms\n",
      "378:\tlearn: 0.0271698\ttotal: 330ms\tremaining: 540ms\n",
      "379:\tlearn: 0.0271471\ttotal: 330ms\tremaining: 538ms\n",
      "380:\tlearn: 0.0270867\ttotal: 330ms\tremaining: 537ms\n",
      "381:\tlearn: 0.0270468\ttotal: 331ms\tremaining: 535ms\n",
      "382:\tlearn: 0.0269934\ttotal: 332ms\tremaining: 534ms\n",
      "383:\tlearn: 0.0269690\ttotal: 332ms\tremaining: 533ms\n",
      "384:\tlearn: 0.0269352\ttotal: 334ms\tremaining: 533ms\n",
      "385:\tlearn: 0.0268892\ttotal: 334ms\tremaining: 531ms\n",
      "386:\tlearn: 0.0268716\ttotal: 334ms\tremaining: 530ms\n",
      "387:\tlearn: 0.0268153\ttotal: 346ms\tremaining: 546ms\n",
      "388:\tlearn: 0.0267767\ttotal: 347ms\tremaining: 545ms\n",
      "389:\tlearn: 0.0267450\ttotal: 347ms\tremaining: 543ms\n",
      "390:\tlearn: 0.0267067\ttotal: 348ms\tremaining: 542ms\n",
      "391:\tlearn: 0.0266694\ttotal: 348ms\tremaining: 540ms\n",
      "392:\tlearn: 0.0266422\ttotal: 349ms\tremaining: 539ms\n",
      "393:\tlearn: 0.0265917\ttotal: 349ms\tremaining: 537ms\n",
      "394:\tlearn: 0.0265415\ttotal: 350ms\tremaining: 536ms\n",
      "395:\tlearn: 0.0264781\ttotal: 350ms\tremaining: 534ms\n",
      "396:\tlearn: 0.0264178\ttotal: 351ms\tremaining: 533ms\n",
      "397:\tlearn: 0.0263908\ttotal: 351ms\tremaining: 531ms\n",
      "398:\tlearn: 0.0263368\ttotal: 351ms\tremaining: 529ms\n",
      "399:\tlearn: 0.0262775\ttotal: 352ms\tremaining: 529ms\n",
      "400:\tlearn: 0.0262203\ttotal: 353ms\tremaining: 527ms\n",
      "401:\tlearn: 0.0261653\ttotal: 353ms\tremaining: 525ms\n",
      "402:\tlearn: 0.0261235\ttotal: 354ms\tremaining: 525ms\n",
      "403:\tlearn: 0.0261001\ttotal: 355ms\tremaining: 523ms\n",
      "404:\tlearn: 0.0260545\ttotal: 355ms\tremaining: 522ms\n",
      "405:\tlearn: 0.0259824\ttotal: 355ms\tremaining: 520ms\n",
      "406:\tlearn: 0.0259462\ttotal: 356ms\tremaining: 519ms\n",
      "407:\tlearn: 0.0259103\ttotal: 356ms\tremaining: 517ms\n",
      "408:\tlearn: 0.0258528\ttotal: 357ms\tremaining: 516ms\n",
      "409:\tlearn: 0.0258177\ttotal: 357ms\tremaining: 514ms\n",
      "410:\tlearn: 0.0257411\ttotal: 359ms\tremaining: 514ms\n",
      "411:\tlearn: 0.0257112\ttotal: 359ms\tremaining: 513ms\n",
      "412:\tlearn: 0.0256644\ttotal: 360ms\tremaining: 511ms\n",
      "413:\tlearn: 0.0256284\ttotal: 360ms\tremaining: 510ms\n",
      "414:\tlearn: 0.0255884\ttotal: 361ms\tremaining: 508ms\n",
      "415:\tlearn: 0.0255103\ttotal: 362ms\tremaining: 508ms\n",
      "416:\tlearn: 0.0254495\ttotal: 362ms\tremaining: 507ms\n",
      "417:\tlearn: 0.0253998\ttotal: 363ms\tremaining: 505ms\n",
      "418:\tlearn: 0.0253512\ttotal: 363ms\tremaining: 503ms\n",
      "419:\tlearn: 0.0253098\ttotal: 363ms\tremaining: 502ms\n"
     ]
    },
    {
     "name": "stdout",
     "output_type": "stream",
     "text": [
      "420:\tlearn: 0.0252812\ttotal: 364ms\tremaining: 500ms\n",
      "421:\tlearn: 0.0252457\ttotal: 365ms\tremaining: 500ms\n",
      "422:\tlearn: 0.0252313\ttotal: 366ms\tremaining: 499ms\n",
      "423:\tlearn: 0.0251877\ttotal: 366ms\tremaining: 497ms\n",
      "424:\tlearn: 0.0251548\ttotal: 366ms\tremaining: 495ms\n",
      "425:\tlearn: 0.0250862\ttotal: 366ms\tremaining: 494ms\n",
      "426:\tlearn: 0.0250633\ttotal: 367ms\tremaining: 492ms\n",
      "427:\tlearn: 0.0250111\ttotal: 367ms\tremaining: 491ms\n",
      "428:\tlearn: 0.0249735\ttotal: 368ms\tremaining: 490ms\n",
      "429:\tlearn: 0.0249331\ttotal: 369ms\tremaining: 489ms\n",
      "430:\tlearn: 0.0248831\ttotal: 369ms\tremaining: 487ms\n",
      "431:\tlearn: 0.0248517\ttotal: 369ms\tremaining: 485ms\n",
      "432:\tlearn: 0.0248117\ttotal: 369ms\tremaining: 484ms\n",
      "433:\tlearn: 0.0247613\ttotal: 370ms\tremaining: 482ms\n",
      "434:\tlearn: 0.0246998\ttotal: 370ms\tremaining: 481ms\n",
      "435:\tlearn: 0.0246531\ttotal: 371ms\tremaining: 479ms\n",
      "436:\tlearn: 0.0246158\ttotal: 371ms\tremaining: 478ms\n",
      "437:\tlearn: 0.0245670\ttotal: 372ms\tremaining: 477ms\n",
      "438:\tlearn: 0.0244939\ttotal: 372ms\tremaining: 476ms\n",
      "439:\tlearn: 0.0244573\ttotal: 373ms\tremaining: 474ms\n",
      "440:\tlearn: 0.0244257\ttotal: 373ms\tremaining: 473ms\n",
      "441:\tlearn: 0.0244073\ttotal: 374ms\tremaining: 472ms\n",
      "442:\tlearn: 0.0243726\ttotal: 374ms\tremaining: 471ms\n",
      "443:\tlearn: 0.0243473\ttotal: 375ms\tremaining: 470ms\n",
      "444:\tlearn: 0.0242977\ttotal: 376ms\tremaining: 468ms\n",
      "445:\tlearn: 0.0242839\ttotal: 376ms\tremaining: 467ms\n",
      "446:\tlearn: 0.0242664\ttotal: 376ms\tremaining: 466ms\n",
      "447:\tlearn: 0.0242043\ttotal: 377ms\tremaining: 464ms\n",
      "448:\tlearn: 0.0241590\ttotal: 377ms\tremaining: 463ms\n",
      "449:\tlearn: 0.0241215\ttotal: 378ms\tremaining: 461ms\n",
      "450:\tlearn: 0.0240949\ttotal: 378ms\tremaining: 460ms\n",
      "451:\tlearn: 0.0240646\ttotal: 378ms\tremaining: 458ms\n",
      "452:\tlearn: 0.0240352\ttotal: 380ms\tremaining: 459ms\n",
      "453:\tlearn: 0.0240062\ttotal: 381ms\tremaining: 458ms\n",
      "454:\tlearn: 0.0239777\ttotal: 383ms\tremaining: 459ms\n",
      "455:\tlearn: 0.0239240\ttotal: 384ms\tremaining: 458ms\n",
      "456:\tlearn: 0.0238676\ttotal: 384ms\tremaining: 457ms\n",
      "457:\tlearn: 0.0238431\ttotal: 388ms\tremaining: 459ms\n",
      "458:\tlearn: 0.0237963\ttotal: 389ms\tremaining: 458ms\n",
      "459:\tlearn: 0.0237474\ttotal: 390ms\tremaining: 458ms\n",
      "460:\tlearn: 0.0237229\ttotal: 390ms\tremaining: 456ms\n",
      "461:\tlearn: 0.0236773\ttotal: 391ms\tremaining: 455ms\n",
      "462:\tlearn: 0.0236330\ttotal: 393ms\tremaining: 456ms\n",
      "463:\tlearn: 0.0236152\ttotal: 394ms\tremaining: 455ms\n",
      "464:\tlearn: 0.0235726\ttotal: 395ms\tremaining: 454ms\n",
      "465:\tlearn: 0.0235310\ttotal: 397ms\tremaining: 455ms\n",
      "466:\tlearn: 0.0234895\ttotal: 398ms\tremaining: 454ms\n",
      "467:\tlearn: 0.0234463\ttotal: 398ms\tremaining: 453ms\n",
      "468:\tlearn: 0.0234044\ttotal: 399ms\tremaining: 452ms\n",
      "469:\tlearn: 0.0233847\ttotal: 400ms\tremaining: 451ms\n",
      "470:\tlearn: 0.0233613\ttotal: 401ms\tremaining: 450ms\n",
      "471:\tlearn: 0.0233379\ttotal: 403ms\tremaining: 450ms\n",
      "472:\tlearn: 0.0233049\ttotal: 403ms\tremaining: 449ms\n",
      "473:\tlearn: 0.0232790\ttotal: 404ms\tremaining: 448ms\n",
      "474:\tlearn: 0.0232608\ttotal: 404ms\tremaining: 446ms\n",
      "475:\tlearn: 0.0232371\ttotal: 404ms\tremaining: 445ms\n",
      "476:\tlearn: 0.0232077\ttotal: 405ms\tremaining: 444ms\n",
      "477:\tlearn: 0.0231890\ttotal: 406ms\tremaining: 443ms\n",
      "478:\tlearn: 0.0231556\ttotal: 407ms\tremaining: 443ms\n",
      "479:\tlearn: 0.0231142\ttotal: 408ms\tremaining: 442ms\n",
      "480:\tlearn: 0.0230753\ttotal: 409ms\tremaining: 441ms\n",
      "481:\tlearn: 0.0230586\ttotal: 409ms\tremaining: 440ms\n"
     ]
    },
    {
     "name": "stdout",
     "output_type": "stream",
     "text": [
      "482:\tlearn: 0.0230476\ttotal: 410ms\tremaining: 439ms\n",
      "483:\tlearn: 0.0230055\ttotal: 411ms\tremaining: 438ms\n",
      "484:\tlearn: 0.0229922\ttotal: 417ms\tremaining: 442ms\n",
      "485:\tlearn: 0.0229541\ttotal: 417ms\tremaining: 441ms\n",
      "486:\tlearn: 0.0229291\ttotal: 419ms\tremaining: 442ms\n",
      "487:\tlearn: 0.0229103\ttotal: 421ms\tremaining: 441ms\n",
      "488:\tlearn: 0.0228871\ttotal: 422ms\tremaining: 441ms\n",
      "489:\tlearn: 0.0228238\ttotal: 425ms\tremaining: 442ms\n",
      "490:\tlearn: 0.0227826\ttotal: 425ms\tremaining: 441ms\n",
      "491:\tlearn: 0.0227424\ttotal: 426ms\tremaining: 440ms\n",
      "492:\tlearn: 0.0227119\ttotal: 428ms\tremaining: 440ms\n",
      "493:\tlearn: 0.0226619\ttotal: 428ms\tremaining: 439ms\n",
      "494:\tlearn: 0.0226411\ttotal: 429ms\tremaining: 438ms\n",
      "495:\tlearn: 0.0226185\ttotal: 429ms\tremaining: 436ms\n",
      "496:\tlearn: 0.0225785\ttotal: 430ms\tremaining: 435ms\n",
      "497:\tlearn: 0.0225474\ttotal: 430ms\tremaining: 433ms\n",
      "498:\tlearn: 0.0225190\ttotal: 430ms\tremaining: 432ms\n",
      "499:\tlearn: 0.0225043\ttotal: 431ms\tremaining: 431ms\n",
      "500:\tlearn: 0.0224827\ttotal: 431ms\tremaining: 429ms\n",
      "501:\tlearn: 0.0224507\ttotal: 433ms\tremaining: 429ms\n",
      "502:\tlearn: 0.0224268\ttotal: 433ms\tremaining: 428ms\n",
      "503:\tlearn: 0.0223972\ttotal: 434ms\tremaining: 427ms\n",
      "504:\tlearn: 0.0223670\ttotal: 434ms\tremaining: 426ms\n",
      "505:\tlearn: 0.0223298\ttotal: 436ms\tremaining: 425ms\n",
      "506:\tlearn: 0.0223084\ttotal: 436ms\tremaining: 424ms\n",
      "507:\tlearn: 0.0222670\ttotal: 437ms\tremaining: 424ms\n",
      "508:\tlearn: 0.0222489\ttotal: 438ms\tremaining: 423ms\n",
      "509:\tlearn: 0.0222144\ttotal: 439ms\tremaining: 422ms\n",
      "510:\tlearn: 0.0221917\ttotal: 440ms\tremaining: 421ms\n",
      "511:\tlearn: 0.0221720\ttotal: 442ms\tremaining: 422ms\n",
      "512:\tlearn: 0.0221542\ttotal: 446ms\tremaining: 423ms\n",
      "513:\tlearn: 0.0221334\ttotal: 449ms\tremaining: 425ms\n",
      "514:\tlearn: 0.0221142\ttotal: 451ms\tremaining: 425ms\n",
      "515:\tlearn: 0.0220741\ttotal: 452ms\tremaining: 424ms\n",
      "516:\tlearn: 0.0220401\ttotal: 453ms\tremaining: 423ms\n",
      "517:\tlearn: 0.0220054\ttotal: 456ms\tremaining: 424ms\n",
      "518:\tlearn: 0.0219772\ttotal: 457ms\tremaining: 424ms\n"
     ]
    },
    {
     "name": "stdout",
     "output_type": "stream",
     "text": [
      "519:\tlearn: 0.0219440\ttotal: 461ms\tremaining: 425ms\n",
      "520:\tlearn: 0.0219118\ttotal: 462ms\tremaining: 424ms\n",
      "521:\tlearn: 0.0218433\ttotal: 462ms\tremaining: 423ms\n",
      "522:\tlearn: 0.0218119\ttotal: 462ms\tremaining: 422ms\n",
      "523:\tlearn: 0.0217998\ttotal: 463ms\tremaining: 420ms\n",
      "524:\tlearn: 0.0217740\ttotal: 463ms\tremaining: 419ms\n",
      "525:\tlearn: 0.0217552\ttotal: 463ms\tremaining: 417ms\n",
      "526:\tlearn: 0.0217382\ttotal: 464ms\tremaining: 416ms\n",
      "527:\tlearn: 0.0217231\ttotal: 464ms\tremaining: 415ms\n",
      "528:\tlearn: 0.0216969\ttotal: 466ms\tremaining: 415ms\n",
      "529:\tlearn: 0.0216850\ttotal: 466ms\tremaining: 414ms\n",
      "530:\tlearn: 0.0216536\ttotal: 467ms\tremaining: 412ms\n",
      "531:\tlearn: 0.0216370\ttotal: 467ms\tremaining: 411ms\n",
      "532:\tlearn: 0.0216029\ttotal: 468ms\tremaining: 410ms\n",
      "533:\tlearn: 0.0215829\ttotal: 469ms\tremaining: 409ms\n",
      "534:\tlearn: 0.0215439\ttotal: 469ms\tremaining: 408ms\n",
      "535:\tlearn: 0.0215277\ttotal: 473ms\tremaining: 409ms\n",
      "536:\tlearn: 0.0215011\ttotal: 474ms\tremaining: 408ms\n",
      "537:\tlearn: 0.0214853\ttotal: 474ms\tremaining: 407ms\n",
      "538:\tlearn: 0.0214602\ttotal: 476ms\tremaining: 407ms\n",
      "539:\tlearn: 0.0214226\ttotal: 477ms\tremaining: 406ms\n",
      "540:\tlearn: 0.0213789\ttotal: 479ms\tremaining: 406ms\n",
      "541:\tlearn: 0.0213625\ttotal: 480ms\tremaining: 406ms\n",
      "542:\tlearn: 0.0213474\ttotal: 483ms\tremaining: 407ms\n",
      "543:\tlearn: 0.0213048\ttotal: 485ms\tremaining: 406ms\n",
      "544:\tlearn: 0.0212832\ttotal: 486ms\tremaining: 406ms\n",
      "545:\tlearn: 0.0212457\ttotal: 487ms\tremaining: 405ms\n",
      "546:\tlearn: 0.0212240\ttotal: 487ms\tremaining: 404ms\n",
      "547:\tlearn: 0.0211851\ttotal: 489ms\tremaining: 403ms\n",
      "548:\tlearn: 0.0211581\ttotal: 489ms\tremaining: 402ms\n",
      "549:\tlearn: 0.0211406\ttotal: 490ms\tremaining: 401ms\n",
      "550:\tlearn: 0.0211096\ttotal: 490ms\tremaining: 400ms\n",
      "551:\tlearn: 0.0211009\ttotal: 491ms\tremaining: 399ms\n",
      "552:\tlearn: 0.0210859\ttotal: 492ms\tremaining: 397ms\n",
      "553:\tlearn: 0.0210512\ttotal: 492ms\tremaining: 396ms\n"
     ]
    },
    {
     "name": "stdout",
     "output_type": "stream",
     "text": [
      "554:\tlearn: 0.0210326\ttotal: 493ms\tremaining: 395ms\n",
      "555:\tlearn: 0.0210009\ttotal: 493ms\tremaining: 394ms\n",
      "556:\tlearn: 0.0209770\ttotal: 495ms\tremaining: 394ms\n",
      "557:\tlearn: 0.0209626\ttotal: 495ms\tremaining: 392ms\n",
      "558:\tlearn: 0.0209065\ttotal: 496ms\tremaining: 391ms\n",
      "559:\tlearn: 0.0208947\ttotal: 497ms\tremaining: 390ms\n",
      "560:\tlearn: 0.0208625\ttotal: 497ms\tremaining: 389ms\n",
      "561:\tlearn: 0.0208329\ttotal: 499ms\tremaining: 389ms\n",
      "562:\tlearn: 0.0208135\ttotal: 499ms\tremaining: 387ms\n",
      "563:\tlearn: 0.0207821\ttotal: 500ms\tremaining: 386ms\n",
      "564:\tlearn: 0.0207564\ttotal: 500ms\tremaining: 385ms\n",
      "565:\tlearn: 0.0207328\ttotal: 501ms\tremaining: 384ms\n",
      "566:\tlearn: 0.0207022\ttotal: 501ms\tremaining: 383ms\n",
      "567:\tlearn: 0.0206847\ttotal: 501ms\tremaining: 381ms\n",
      "568:\tlearn: 0.0206407\ttotal: 502ms\tremaining: 380ms\n",
      "569:\tlearn: 0.0206214\ttotal: 502ms\tremaining: 379ms\n",
      "570:\tlearn: 0.0205845\ttotal: 502ms\tremaining: 377ms\n",
      "571:\tlearn: 0.0205686\ttotal: 504ms\tremaining: 377ms\n",
      "572:\tlearn: 0.0205472\ttotal: 504ms\tremaining: 376ms\n",
      "573:\tlearn: 0.0205094\ttotal: 505ms\tremaining: 374ms\n",
      "574:\tlearn: 0.0204850\ttotal: 505ms\tremaining: 373ms\n",
      "575:\tlearn: 0.0204468\ttotal: 505ms\tremaining: 372ms\n",
      "576:\tlearn: 0.0204318\ttotal: 505ms\tremaining: 370ms\n",
      "577:\tlearn: 0.0204086\ttotal: 506ms\tremaining: 370ms\n",
      "578:\tlearn: 0.0203969\ttotal: 506ms\tremaining: 368ms\n",
      "579:\tlearn: 0.0203496\ttotal: 507ms\tremaining: 367ms\n",
      "580:\tlearn: 0.0203229\ttotal: 507ms\tremaining: 366ms\n",
      "581:\tlearn: 0.0202867\ttotal: 508ms\tremaining: 365ms\n",
      "582:\tlearn: 0.0202690\ttotal: 508ms\tremaining: 363ms\n",
      "583:\tlearn: 0.0202306\ttotal: 508ms\tremaining: 362ms\n",
      "584:\tlearn: 0.0202218\ttotal: 510ms\tremaining: 362ms\n",
      "585:\tlearn: 0.0202144\ttotal: 511ms\tremaining: 361ms\n",
      "586:\tlearn: 0.0201632\ttotal: 511ms\tremaining: 360ms\n",
      "587:\tlearn: 0.0201230\ttotal: 512ms\tremaining: 358ms\n",
      "588:\tlearn: 0.0201119\ttotal: 512ms\tremaining: 357ms\n",
      "589:\tlearn: 0.0200849\ttotal: 513ms\tremaining: 357ms\n",
      "590:\tlearn: 0.0200672\ttotal: 514ms\tremaining: 356ms\n",
      "591:\tlearn: 0.0200535\ttotal: 514ms\tremaining: 354ms\n",
      "592:\tlearn: 0.0200394\ttotal: 515ms\tremaining: 354ms\n",
      "593:\tlearn: 0.0199910\ttotal: 516ms\tremaining: 353ms\n",
      "594:\tlearn: 0.0199817\ttotal: 516ms\tremaining: 351ms\n",
      "595:\tlearn: 0.0199555\ttotal: 517ms\tremaining: 350ms\n",
      "596:\tlearn: 0.0199275\ttotal: 517ms\tremaining: 349ms\n",
      "597:\tlearn: 0.0199002\ttotal: 518ms\tremaining: 348ms\n",
      "598:\tlearn: 0.0198909\ttotal: 518ms\tremaining: 347ms\n",
      "599:\tlearn: 0.0198801\ttotal: 519ms\tremaining: 346ms\n",
      "600:\tlearn: 0.0198707\ttotal: 519ms\tremaining: 344ms\n",
      "601:\tlearn: 0.0198441\ttotal: 520ms\tremaining: 344ms\n",
      "602:\tlearn: 0.0198073\ttotal: 520ms\tremaining: 342ms\n",
      "603:\tlearn: 0.0197925\ttotal: 521ms\tremaining: 341ms\n",
      "604:\tlearn: 0.0197657\ttotal: 521ms\tremaining: 340ms\n",
      "605:\tlearn: 0.0197478\ttotal: 522ms\tremaining: 339ms\n",
      "606:\tlearn: 0.0197378\ttotal: 522ms\tremaining: 338ms\n",
      "607:\tlearn: 0.0197216\ttotal: 523ms\tremaining: 337ms\n",
      "608:\tlearn: 0.0197032\ttotal: 523ms\tremaining: 336ms\n",
      "609:\tlearn: 0.0196951\ttotal: 523ms\tremaining: 334ms\n",
      "610:\tlearn: 0.0196673\ttotal: 523ms\tremaining: 333ms\n",
      "611:\tlearn: 0.0196389\ttotal: 524ms\tremaining: 332ms\n",
      "612:\tlearn: 0.0196283\ttotal: 524ms\tremaining: 331ms\n",
      "613:\tlearn: 0.0196010\ttotal: 525ms\tremaining: 330ms\n",
      "614:\tlearn: 0.0195737\ttotal: 526ms\tremaining: 329ms\n",
      "615:\tlearn: 0.0195534\ttotal: 526ms\tremaining: 328ms\n",
      "616:\tlearn: 0.0195409\ttotal: 527ms\tremaining: 327ms\n",
      "617:\tlearn: 0.0195072\ttotal: 527ms\tremaining: 326ms\n",
      "618:\tlearn: 0.0194898\ttotal: 528ms\tremaining: 325ms\n",
      "619:\tlearn: 0.0194744\ttotal: 528ms\tremaining: 324ms\n",
      "620:\tlearn: 0.0194596\ttotal: 529ms\tremaining: 323ms\n",
      "621:\tlearn: 0.0194248\ttotal: 529ms\tremaining: 322ms\n",
      "622:\tlearn: 0.0194056\ttotal: 529ms\tremaining: 320ms\n",
      "623:\tlearn: 0.0193800\ttotal: 530ms\tremaining: 319ms\n",
      "624:\tlearn: 0.0193502\ttotal: 530ms\tremaining: 318ms\n",
      "625:\tlearn: 0.0193340\ttotal: 530ms\tremaining: 317ms\n",
      "626:\tlearn: 0.0193034\ttotal: 531ms\tremaining: 316ms\n",
      "627:\tlearn: 0.0192871\ttotal: 531ms\tremaining: 315ms\n",
      "628:\tlearn: 0.0192665\ttotal: 532ms\tremaining: 314ms\n",
      "629:\tlearn: 0.0192470\ttotal: 532ms\tremaining: 312ms\n",
      "630:\tlearn: 0.0192227\ttotal: 532ms\tremaining: 311ms\n",
      "631:\tlearn: 0.0192155\ttotal: 533ms\tremaining: 310ms\n",
      "632:\tlearn: 0.0191838\ttotal: 533ms\tremaining: 309ms\n",
      "633:\tlearn: 0.0191427\ttotal: 533ms\tremaining: 308ms\n",
      "634:\tlearn: 0.0191275\ttotal: 533ms\tremaining: 307ms\n",
      "635:\tlearn: 0.0191130\ttotal: 534ms\tremaining: 305ms\n",
      "636:\tlearn: 0.0190799\ttotal: 535ms\tremaining: 305ms\n",
      "637:\tlearn: 0.0190516\ttotal: 535ms\tremaining: 304ms\n",
      "638:\tlearn: 0.0190312\ttotal: 535ms\tremaining: 302ms\n",
      "639:\tlearn: 0.0190166\ttotal: 536ms\tremaining: 301ms\n",
      "640:\tlearn: 0.0190001\ttotal: 536ms\tremaining: 300ms\n",
      "641:\tlearn: 0.0189755\ttotal: 537ms\tremaining: 299ms\n",
      "642:\tlearn: 0.0189684\ttotal: 537ms\tremaining: 298ms\n",
      "643:\tlearn: 0.0189509\ttotal: 539ms\tremaining: 298ms\n",
      "644:\tlearn: 0.0189288\ttotal: 539ms\tremaining: 297ms\n",
      "645:\tlearn: 0.0189144\ttotal: 539ms\tremaining: 295ms\n",
      "646:\tlearn: 0.0189056\ttotal: 539ms\tremaining: 294ms\n",
      "647:\tlearn: 0.0188803\ttotal: 540ms\tremaining: 293ms\n",
      "648:\tlearn: 0.0188683\ttotal: 540ms\tremaining: 292ms\n",
      "649:\tlearn: 0.0188495\ttotal: 540ms\tremaining: 291ms\n",
      "650:\tlearn: 0.0188260\ttotal: 541ms\tremaining: 290ms\n",
      "651:\tlearn: 0.0188084\ttotal: 541ms\tremaining: 289ms\n",
      "652:\tlearn: 0.0187865\ttotal: 541ms\tremaining: 288ms\n",
      "653:\tlearn: 0.0187592\ttotal: 542ms\tremaining: 287ms\n",
      "654:\tlearn: 0.0187474\ttotal: 543ms\tremaining: 286ms\n",
      "655:\tlearn: 0.0187310\ttotal: 544ms\tremaining: 285ms\n",
      "656:\tlearn: 0.0187196\ttotal: 544ms\tremaining: 284ms\n",
      "657:\tlearn: 0.0187025\ttotal: 544ms\tremaining: 283ms\n",
      "658:\tlearn: 0.0186947\ttotal: 545ms\tremaining: 282ms\n",
      "659:\tlearn: 0.0186798\ttotal: 546ms\tremaining: 281ms\n",
      "660:\tlearn: 0.0186520\ttotal: 546ms\tremaining: 280ms\n",
      "661:\tlearn: 0.0186270\ttotal: 546ms\tremaining: 279ms\n",
      "662:\tlearn: 0.0186108\ttotal: 546ms\tremaining: 278ms\n",
      "663:\tlearn: 0.0185742\ttotal: 547ms\tremaining: 277ms\n",
      "664:\tlearn: 0.0185638\ttotal: 547ms\tremaining: 276ms\n",
      "665:\tlearn: 0.0185240\ttotal: 547ms\tremaining: 274ms\n",
      "666:\tlearn: 0.0184932\ttotal: 549ms\tremaining: 274ms\n"
     ]
    },
    {
     "name": "stdout",
     "output_type": "stream",
     "text": [
      "667:\tlearn: 0.0184776\ttotal: 552ms\tremaining: 275ms\n",
      "668:\tlearn: 0.0184641\ttotal: 554ms\tremaining: 274ms\n",
      "669:\tlearn: 0.0184530\ttotal: 555ms\tremaining: 273ms\n",
      "670:\tlearn: 0.0184285\ttotal: 556ms\tremaining: 272ms\n",
      "671:\tlearn: 0.0183980\ttotal: 556ms\tremaining: 271ms\n",
      "672:\tlearn: 0.0183805\ttotal: 556ms\tremaining: 270ms\n",
      "673:\tlearn: 0.0183748\ttotal: 557ms\tremaining: 269ms\n",
      "674:\tlearn: 0.0183613\ttotal: 557ms\tremaining: 268ms\n",
      "675:\tlearn: 0.0183330\ttotal: 557ms\tremaining: 267ms\n",
      "676:\tlearn: 0.0183062\ttotal: 558ms\tremaining: 266ms\n",
      "677:\tlearn: 0.0182809\ttotal: 558ms\tremaining: 265ms\n",
      "678:\tlearn: 0.0182519\ttotal: 559ms\tremaining: 264ms\n",
      "679:\tlearn: 0.0182449\ttotal: 559ms\tremaining: 263ms\n",
      "680:\tlearn: 0.0182342\ttotal: 559ms\tremaining: 262ms\n",
      "681:\tlearn: 0.0182233\ttotal: 560ms\tremaining: 261ms\n",
      "682:\tlearn: 0.0182084\ttotal: 561ms\tremaining: 260ms\n",
      "683:\tlearn: 0.0181977\ttotal: 561ms\tremaining: 259ms\n",
      "684:\tlearn: 0.0181719\ttotal: 562ms\tremaining: 259ms\n",
      "685:\tlearn: 0.0181586\ttotal: 565ms\tremaining: 258ms\n",
      "686:\tlearn: 0.0181435\ttotal: 567ms\tremaining: 258ms\n",
      "687:\tlearn: 0.0181150\ttotal: 568ms\tremaining: 258ms\n",
      "688:\tlearn: 0.0180914\ttotal: 568ms\tremaining: 257ms\n",
      "689:\tlearn: 0.0180836\ttotal: 569ms\tremaining: 256ms\n",
      "690:\tlearn: 0.0180521\ttotal: 569ms\tremaining: 255ms\n",
      "691:\tlearn: 0.0180279\ttotal: 570ms\tremaining: 254ms\n",
      "692:\tlearn: 0.0180170\ttotal: 570ms\tremaining: 253ms\n",
      "693:\tlearn: 0.0179944\ttotal: 570ms\tremaining: 251ms\n",
      "694:\tlearn: 0.0179634\ttotal: 573ms\tremaining: 251ms\n",
      "695:\tlearn: 0.0179459\ttotal: 576ms\tremaining: 251ms\n",
      "696:\tlearn: 0.0179141\ttotal: 577ms\tremaining: 251ms\n",
      "697:\tlearn: 0.0179089\ttotal: 579ms\tremaining: 250ms\n",
      "698:\tlearn: 0.0178732\ttotal: 579ms\tremaining: 249ms\n",
      "699:\tlearn: 0.0178633\ttotal: 580ms\tremaining: 248ms\n",
      "700:\tlearn: 0.0178119\ttotal: 580ms\tremaining: 247ms\n",
      "701:\tlearn: 0.0177992\ttotal: 580ms\tremaining: 246ms\n",
      "702:\tlearn: 0.0177760\ttotal: 581ms\tremaining: 245ms\n",
      "703:\tlearn: 0.0177355\ttotal: 581ms\tremaining: 244ms\n",
      "704:\tlearn: 0.0177131\ttotal: 581ms\tremaining: 243ms\n",
      "705:\tlearn: 0.0176960\ttotal: 581ms\tremaining: 242ms\n",
      "706:\tlearn: 0.0176821\ttotal: 582ms\tremaining: 241ms\n",
      "707:\tlearn: 0.0176661\ttotal: 582ms\tremaining: 240ms\n",
      "708:\tlearn: 0.0176421\ttotal: 582ms\tremaining: 239ms\n",
      "709:\tlearn: 0.0176373\ttotal: 585ms\tremaining: 239ms\n",
      "710:\tlearn: 0.0176259\ttotal: 589ms\tremaining: 239ms\n",
      "711:\tlearn: 0.0176025\ttotal: 590ms\tremaining: 239ms\n",
      "712:\tlearn: 0.0175959\ttotal: 591ms\tremaining: 238ms\n",
      "713:\tlearn: 0.0175730\ttotal: 592ms\tremaining: 237ms\n",
      "714:\tlearn: 0.0175650\ttotal: 593ms\tremaining: 236ms\n",
      "715:\tlearn: 0.0175498\ttotal: 593ms\tremaining: 235ms\n",
      "716:\tlearn: 0.0175375\ttotal: 594ms\tremaining: 234ms\n",
      "717:\tlearn: 0.0175288\ttotal: 594ms\tremaining: 233ms\n",
      "718:\tlearn: 0.0175123\ttotal: 594ms\tremaining: 232ms\n",
      "719:\tlearn: 0.0175012\ttotal: 594ms\tremaining: 231ms\n",
      "720:\tlearn: 0.0174894\ttotal: 595ms\tremaining: 230ms\n",
      "721:\tlearn: 0.0174648\ttotal: 596ms\tremaining: 230ms\n",
      "722:\tlearn: 0.0174472\ttotal: 598ms\tremaining: 229ms\n",
      "723:\tlearn: 0.0174239\ttotal: 598ms\tremaining: 228ms\n",
      "724:\tlearn: 0.0174062\ttotal: 599ms\tremaining: 227ms\n",
      "725:\tlearn: 0.0173948\ttotal: 599ms\tremaining: 226ms\n",
      "726:\tlearn: 0.0173702\ttotal: 599ms\tremaining: 225ms\n",
      "727:\tlearn: 0.0173443\ttotal: 602ms\tremaining: 225ms\n",
      "728:\tlearn: 0.0173307\ttotal: 603ms\tremaining: 224ms\n"
     ]
    },
    {
     "name": "stdout",
     "output_type": "stream",
     "text": [
      "729:\tlearn: 0.0173048\ttotal: 604ms\tremaining: 224ms\n",
      "730:\tlearn: 0.0172934\ttotal: 607ms\tremaining: 223ms\n",
      "731:\tlearn: 0.0172833\ttotal: 608ms\tremaining: 223ms\n",
      "732:\tlearn: 0.0172447\ttotal: 608ms\tremaining: 222ms\n",
      "733:\tlearn: 0.0172306\ttotal: 610ms\tremaining: 221ms\n",
      "734:\tlearn: 0.0172031\ttotal: 611ms\tremaining: 220ms\n",
      "735:\tlearn: 0.0171865\ttotal: 611ms\tremaining: 219ms\n",
      "736:\tlearn: 0.0171717\ttotal: 611ms\tremaining: 218ms\n",
      "737:\tlearn: 0.0171569\ttotal: 612ms\tremaining: 217ms\n",
      "738:\tlearn: 0.0171532\ttotal: 614ms\tremaining: 217ms\n",
      "739:\tlearn: 0.0171472\ttotal: 615ms\tremaining: 216ms\n",
      "740:\tlearn: 0.0171323\ttotal: 616ms\tremaining: 215ms\n",
      "741:\tlearn: 0.0171124\ttotal: 616ms\tremaining: 214ms\n",
      "742:\tlearn: 0.0171057\ttotal: 617ms\tremaining: 213ms\n",
      "743:\tlearn: 0.0170811\ttotal: 617ms\tremaining: 212ms\n",
      "744:\tlearn: 0.0170686\ttotal: 618ms\tremaining: 211ms\n",
      "745:\tlearn: 0.0170581\ttotal: 618ms\tremaining: 211ms\n",
      "746:\tlearn: 0.0170510\ttotal: 619ms\tremaining: 210ms\n",
      "747:\tlearn: 0.0170398\ttotal: 620ms\tremaining: 209ms\n",
      "748:\tlearn: 0.0170169\ttotal: 621ms\tremaining: 208ms\n",
      "749:\tlearn: 0.0169929\ttotal: 621ms\tremaining: 207ms\n",
      "750:\tlearn: 0.0169807\ttotal: 622ms\tremaining: 206ms\n",
      "751:\tlearn: 0.0169526\ttotal: 627ms\tremaining: 207ms\n",
      "752:\tlearn: 0.0169386\ttotal: 628ms\tremaining: 206ms\n",
      "753:\tlearn: 0.0169264\ttotal: 628ms\tremaining: 205ms\n",
      "754:\tlearn: 0.0169154\ttotal: 629ms\tremaining: 204ms\n",
      "755:\tlearn: 0.0168961\ttotal: 629ms\tremaining: 203ms\n",
      "756:\tlearn: 0.0168761\ttotal: 630ms\tremaining: 202ms\n",
      "757:\tlearn: 0.0168588\ttotal: 630ms\tremaining: 201ms\n",
      "758:\tlearn: 0.0168441\ttotal: 631ms\tremaining: 200ms\n",
      "759:\tlearn: 0.0168383\ttotal: 632ms\tremaining: 200ms\n",
      "760:\tlearn: 0.0168285\ttotal: 632ms\tremaining: 199ms\n",
      "761:\tlearn: 0.0168078\ttotal: 633ms\tremaining: 198ms\n",
      "762:\tlearn: 0.0167986\ttotal: 633ms\tremaining: 197ms\n",
      "763:\tlearn: 0.0167737\ttotal: 634ms\tremaining: 196ms\n"
     ]
    },
    {
     "name": "stdout",
     "output_type": "stream",
     "text": [
      "764:\tlearn: 0.0167545\ttotal: 637ms\tremaining: 196ms\n",
      "765:\tlearn: 0.0167504\ttotal: 638ms\tremaining: 195ms\n",
      "766:\tlearn: 0.0167401\ttotal: 639ms\tremaining: 194ms\n",
      "767:\tlearn: 0.0167311\ttotal: 640ms\tremaining: 193ms\n",
      "768:\tlearn: 0.0167196\ttotal: 642ms\tremaining: 193ms\n",
      "769:\tlearn: 0.0167083\ttotal: 642ms\tremaining: 192ms\n",
      "770:\tlearn: 0.0166986\ttotal: 643ms\tremaining: 191ms\n",
      "771:\tlearn: 0.0166721\ttotal: 644ms\tremaining: 190ms\n",
      "772:\tlearn: 0.0166602\ttotal: 646ms\tremaining: 190ms\n",
      "773:\tlearn: 0.0166366\ttotal: 647ms\tremaining: 189ms\n",
      "774:\tlearn: 0.0166259\ttotal: 649ms\tremaining: 188ms\n",
      "775:\tlearn: 0.0166155\ttotal: 649ms\tremaining: 187ms\n",
      "776:\tlearn: 0.0166059\ttotal: 650ms\tremaining: 186ms\n",
      "777:\tlearn: 0.0165932\ttotal: 650ms\tremaining: 186ms\n",
      "778:\tlearn: 0.0165726\ttotal: 651ms\tremaining: 185ms\n",
      "779:\tlearn: 0.0165635\ttotal: 653ms\tremaining: 184ms\n",
      "780:\tlearn: 0.0165571\ttotal: 654ms\tremaining: 183ms\n",
      "781:\tlearn: 0.0165451\ttotal: 654ms\tremaining: 182ms\n",
      "782:\tlearn: 0.0165372\ttotal: 655ms\tremaining: 181ms\n",
      "783:\tlearn: 0.0165236\ttotal: 655ms\tremaining: 181ms\n",
      "784:\tlearn: 0.0165201\ttotal: 661ms\tremaining: 181ms\n",
      "785:\tlearn: 0.0164940\ttotal: 661ms\tremaining: 180ms\n",
      "786:\tlearn: 0.0164789\ttotal: 662ms\tremaining: 179ms\n",
      "787:\tlearn: 0.0164680\ttotal: 662ms\tremaining: 178ms\n",
      "788:\tlearn: 0.0164484\ttotal: 663ms\tremaining: 177ms\n",
      "789:\tlearn: 0.0164252\ttotal: 664ms\tremaining: 176ms\n",
      "790:\tlearn: 0.0164139\ttotal: 667ms\tremaining: 176ms\n",
      "791:\tlearn: 0.0164032\ttotal: 667ms\tremaining: 175ms\n",
      "792:\tlearn: 0.0163853\ttotal: 668ms\tremaining: 174ms\n",
      "793:\tlearn: 0.0163770\ttotal: 669ms\tremaining: 173ms\n",
      "794:\tlearn: 0.0163584\ttotal: 669ms\tremaining: 173ms\n",
      "795:\tlearn: 0.0163404\ttotal: 670ms\tremaining: 172ms\n",
      "796:\tlearn: 0.0163228\ttotal: 672ms\tremaining: 171ms\n",
      "797:\tlearn: 0.0162885\ttotal: 673ms\tremaining: 170ms\n",
      "798:\tlearn: 0.0162742\ttotal: 674ms\tremaining: 169ms\n",
      "799:\tlearn: 0.0162506\ttotal: 674ms\tremaining: 169ms\n",
      "800:\tlearn: 0.0162287\ttotal: 675ms\tremaining: 168ms\n",
      "801:\tlearn: 0.0162180\ttotal: 675ms\tremaining: 167ms\n",
      "802:\tlearn: 0.0162034\ttotal: 676ms\tremaining: 166ms\n",
      "803:\tlearn: 0.0161741\ttotal: 677ms\tremaining: 165ms\n",
      "804:\tlearn: 0.0161613\ttotal: 678ms\tremaining: 164ms\n",
      "805:\tlearn: 0.0161533\ttotal: 678ms\tremaining: 163ms\n",
      "806:\tlearn: 0.0161373\ttotal: 679ms\tremaining: 162ms\n",
      "807:\tlearn: 0.0161195\ttotal: 680ms\tremaining: 161ms\n",
      "808:\tlearn: 0.0161099\ttotal: 680ms\tremaining: 161ms\n",
      "809:\tlearn: 0.0161008\ttotal: 681ms\tremaining: 160ms\n",
      "810:\tlearn: 0.0160761\ttotal: 684ms\tremaining: 159ms\n",
      "811:\tlearn: 0.0160585\ttotal: 685ms\tremaining: 158ms\n",
      "812:\tlearn: 0.0160549\ttotal: 685ms\tremaining: 158ms\n",
      "813:\tlearn: 0.0160437\ttotal: 686ms\tremaining: 157ms\n",
      "814:\tlearn: 0.0160327\ttotal: 686ms\tremaining: 156ms\n",
      "815:\tlearn: 0.0160251\ttotal: 687ms\tremaining: 155ms\n",
      "816:\tlearn: 0.0160035\ttotal: 687ms\tremaining: 154ms\n",
      "817:\tlearn: 0.0159827\ttotal: 689ms\tremaining: 153ms\n",
      "818:\tlearn: 0.0159658\ttotal: 690ms\tremaining: 152ms\n",
      "819:\tlearn: 0.0159528\ttotal: 690ms\tremaining: 152ms\n",
      "820:\tlearn: 0.0159417\ttotal: 691ms\tremaining: 151ms\n",
      "821:\tlearn: 0.0159251\ttotal: 692ms\tremaining: 150ms\n",
      "822:\tlearn: 0.0159093\ttotal: 692ms\tremaining: 149ms\n",
      "823:\tlearn: 0.0158973\ttotal: 693ms\tremaining: 148ms\n",
      "824:\tlearn: 0.0158830\ttotal: 694ms\tremaining: 147ms\n"
     ]
    },
    {
     "name": "stdout",
     "output_type": "stream",
     "text": [
      "825:\tlearn: 0.0158744\ttotal: 707ms\tremaining: 149ms\n",
      "826:\tlearn: 0.0158612\ttotal: 709ms\tremaining: 148ms\n",
      "827:\tlearn: 0.0158448\ttotal: 712ms\tremaining: 148ms\n",
      "828:\tlearn: 0.0158385\ttotal: 713ms\tremaining: 147ms\n",
      "829:\tlearn: 0.0158300\ttotal: 714ms\tremaining: 146ms\n",
      "830:\tlearn: 0.0158086\ttotal: 716ms\tremaining: 146ms\n",
      "831:\tlearn: 0.0157943\ttotal: 716ms\tremaining: 145ms\n",
      "832:\tlearn: 0.0157858\ttotal: 717ms\tremaining: 144ms\n",
      "833:\tlearn: 0.0157657\ttotal: 717ms\tremaining: 143ms\n",
      "834:\tlearn: 0.0157581\ttotal: 717ms\tremaining: 142ms\n",
      "835:\tlearn: 0.0157528\ttotal: 717ms\tremaining: 141ms\n",
      "836:\tlearn: 0.0157299\ttotal: 718ms\tremaining: 140ms\n",
      "837:\tlearn: 0.0157143\ttotal: 718ms\tremaining: 139ms\n",
      "838:\tlearn: 0.0156996\ttotal: 718ms\tremaining: 138ms\n",
      "839:\tlearn: 0.0156922\ttotal: 719ms\tremaining: 137ms\n",
      "840:\tlearn: 0.0156865\ttotal: 720ms\tremaining: 136ms\n",
      "841:\tlearn: 0.0156794\ttotal: 723ms\tremaining: 136ms\n",
      "842:\tlearn: 0.0156638\ttotal: 724ms\tremaining: 135ms\n",
      "843:\tlearn: 0.0156355\ttotal: 724ms\tremaining: 134ms\n",
      "844:\tlearn: 0.0156164\ttotal: 725ms\tremaining: 133ms\n",
      "845:\tlearn: 0.0156048\ttotal: 726ms\tremaining: 132ms\n",
      "846:\tlearn: 0.0155946\ttotal: 727ms\tremaining: 131ms\n",
      "847:\tlearn: 0.0155892\ttotal: 728ms\tremaining: 131ms\n",
      "848:\tlearn: 0.0155694\ttotal: 728ms\tremaining: 130ms\n",
      "849:\tlearn: 0.0155562\ttotal: 729ms\tremaining: 129ms\n",
      "850:\tlearn: 0.0155443\ttotal: 729ms\tremaining: 128ms\n",
      "851:\tlearn: 0.0155255\ttotal: 730ms\tremaining: 127ms\n",
      "852:\tlearn: 0.0155105\ttotal: 730ms\tremaining: 126ms\n",
      "853:\tlearn: 0.0154963\ttotal: 731ms\tremaining: 125ms\n",
      "854:\tlearn: 0.0154897\ttotal: 731ms\tremaining: 124ms\n",
      "855:\tlearn: 0.0154447\ttotal: 733ms\tremaining: 123ms\n",
      "856:\tlearn: 0.0154354\ttotal: 734ms\tremaining: 122ms\n",
      "857:\tlearn: 0.0154240\ttotal: 735ms\tremaining: 122ms\n",
      "858:\tlearn: 0.0154135\ttotal: 739ms\tremaining: 121ms\n",
      "859:\tlearn: 0.0154010\ttotal: 742ms\tremaining: 121ms\n",
      "860:\tlearn: 0.0153863\ttotal: 743ms\tremaining: 120ms\n",
      "861:\tlearn: 0.0153741\ttotal: 744ms\tremaining: 119ms\n",
      "862:\tlearn: 0.0153644\ttotal: 744ms\tremaining: 118ms\n",
      "863:\tlearn: 0.0153471\ttotal: 746ms\tremaining: 117ms\n",
      "864:\tlearn: 0.0153290\ttotal: 749ms\tremaining: 117ms\n"
     ]
    },
    {
     "name": "stdout",
     "output_type": "stream",
     "text": [
      "865:\tlearn: 0.0153119\ttotal: 760ms\tremaining: 118ms\n",
      "866:\tlearn: 0.0152999\ttotal: 761ms\tremaining: 117ms\n",
      "867:\tlearn: 0.0152883\ttotal: 765ms\tremaining: 116ms\n",
      "868:\tlearn: 0.0152773\ttotal: 766ms\tremaining: 115ms\n",
      "869:\tlearn: 0.0152682\ttotal: 768ms\tremaining: 115ms\n",
      "870:\tlearn: 0.0152587\ttotal: 768ms\tremaining: 114ms\n",
      "871:\tlearn: 0.0152549\ttotal: 769ms\tremaining: 113ms\n",
      "872:\tlearn: 0.0152464\ttotal: 770ms\tremaining: 112ms\n",
      "873:\tlearn: 0.0152364\ttotal: 770ms\tremaining: 111ms\n",
      "874:\tlearn: 0.0152108\ttotal: 771ms\tremaining: 110ms\n",
      "875:\tlearn: 0.0151994\ttotal: 773ms\tremaining: 109ms\n",
      "876:\tlearn: 0.0151933\ttotal: 776ms\tremaining: 109ms\n",
      "877:\tlearn: 0.0151781\ttotal: 779ms\tremaining: 108ms\n",
      "878:\tlearn: 0.0151678\ttotal: 782ms\tremaining: 108ms\n",
      "879:\tlearn: 0.0151552\ttotal: 783ms\tremaining: 107ms\n",
      "880:\tlearn: 0.0151216\ttotal: 784ms\tremaining: 106ms\n",
      "881:\tlearn: 0.0151009\ttotal: 785ms\tremaining: 105ms\n",
      "882:\tlearn: 0.0150941\ttotal: 786ms\tremaining: 104ms\n",
      "883:\tlearn: 0.0150748\ttotal: 786ms\tremaining: 103ms\n",
      "884:\tlearn: 0.0150635\ttotal: 787ms\tremaining: 102ms\n",
      "885:\tlearn: 0.0150492\ttotal: 788ms\tremaining: 101ms\n",
      "886:\tlearn: 0.0150331\ttotal: 789ms\tremaining: 101ms\n"
     ]
    },
    {
     "name": "stdout",
     "output_type": "stream",
     "text": [
      "887:\tlearn: 0.0150249\ttotal: 792ms\tremaining: 99.9ms\n",
      "888:\tlearn: 0.0150119\ttotal: 794ms\tremaining: 99.1ms\n",
      "889:\tlearn: 0.0150058\ttotal: 795ms\tremaining: 98.2ms\n",
      "890:\tlearn: 0.0149929\ttotal: 796ms\tremaining: 97.3ms\n",
      "891:\tlearn: 0.0149798\ttotal: 796ms\tremaining: 96.4ms\n",
      "892:\tlearn: 0.0149655\ttotal: 797ms\tremaining: 95.5ms\n",
      "893:\tlearn: 0.0149394\ttotal: 800ms\tremaining: 94.8ms\n",
      "894:\tlearn: 0.0149327\ttotal: 802ms\tremaining: 94ms\n",
      "895:\tlearn: 0.0149280\ttotal: 802ms\tremaining: 93.1ms\n",
      "896:\tlearn: 0.0149098\ttotal: 803ms\tremaining: 92.3ms\n",
      "897:\tlearn: 0.0148974\ttotal: 805ms\tremaining: 91.5ms\n",
      "898:\tlearn: 0.0148846\ttotal: 806ms\tremaining: 90.6ms\n",
      "899:\tlearn: 0.0148769\ttotal: 806ms\tremaining: 89.6ms\n",
      "900:\tlearn: 0.0148654\ttotal: 807ms\tremaining: 88.7ms\n",
      "901:\tlearn: 0.0148501\ttotal: 808ms\tremaining: 87.8ms\n",
      "902:\tlearn: 0.0148351\ttotal: 808ms\tremaining: 86.8ms\n",
      "903:\tlearn: 0.0148156\ttotal: 811ms\tremaining: 86.1ms\n",
      "904:\tlearn: 0.0148068\ttotal: 813ms\tremaining: 85.3ms\n",
      "905:\tlearn: 0.0147751\ttotal: 813ms\tremaining: 84.4ms\n",
      "906:\tlearn: 0.0147687\ttotal: 816ms\tremaining: 83.7ms\n",
      "907:\tlearn: 0.0147618\ttotal: 817ms\tremaining: 82.8ms\n",
      "908:\tlearn: 0.0147523\ttotal: 818ms\tremaining: 81.9ms\n",
      "909:\tlearn: 0.0147304\ttotal: 819ms\tremaining: 81ms\n",
      "910:\tlearn: 0.0147243\ttotal: 821ms\tremaining: 80.2ms\n",
      "911:\tlearn: 0.0147147\ttotal: 822ms\tremaining: 79.3ms\n",
      "912:\tlearn: 0.0147109\ttotal: 823ms\tremaining: 78.4ms\n",
      "913:\tlearn: 0.0147010\ttotal: 824ms\tremaining: 77.6ms\n",
      "914:\tlearn: 0.0146868\ttotal: 825ms\tremaining: 76.7ms\n",
      "915:\tlearn: 0.0146806\ttotal: 828ms\tremaining: 75.9ms\n",
      "916:\tlearn: 0.0146654\ttotal: 828ms\tremaining: 75ms\n",
      "917:\tlearn: 0.0146571\ttotal: 829ms\tremaining: 74.1ms\n",
      "918:\tlearn: 0.0146339\ttotal: 830ms\tremaining: 73.2ms\n",
      "919:\tlearn: 0.0146258\ttotal: 833ms\tremaining: 72.4ms\n",
      "920:\tlearn: 0.0146161\ttotal: 834ms\tremaining: 71.5ms\n",
      "921:\tlearn: 0.0145996\ttotal: 834ms\tremaining: 70.6ms\n",
      "922:\tlearn: 0.0145856\ttotal: 836ms\tremaining: 69.7ms\n",
      "923:\tlearn: 0.0145556\ttotal: 837ms\tremaining: 68.8ms\n",
      "924:\tlearn: 0.0145517\ttotal: 838ms\tremaining: 67.9ms\n",
      "925:\tlearn: 0.0145473\ttotal: 839ms\tremaining: 67ms\n",
      "926:\tlearn: 0.0145186\ttotal: 840ms\tremaining: 66.1ms\n",
      "927:\tlearn: 0.0145099\ttotal: 840ms\tremaining: 65.2ms\n",
      "928:\tlearn: 0.0144978\ttotal: 841ms\tremaining: 64.3ms\n",
      "929:\tlearn: 0.0144884\ttotal: 844ms\tremaining: 63.6ms\n",
      "930:\tlearn: 0.0144679\ttotal: 846ms\tremaining: 62.7ms\n",
      "931:\tlearn: 0.0144346\ttotal: 847ms\tremaining: 61.8ms\n",
      "932:\tlearn: 0.0144185\ttotal: 848ms\tremaining: 60.9ms\n",
      "933:\tlearn: 0.0144105\ttotal: 848ms\tremaining: 59.9ms\n",
      "934:\tlearn: 0.0144022\ttotal: 849ms\tremaining: 59ms\n",
      "935:\tlearn: 0.0143836\ttotal: 850ms\tremaining: 58.1ms\n",
      "936:\tlearn: 0.0143773\ttotal: 851ms\tremaining: 57.2ms\n",
      "937:\tlearn: 0.0143725\ttotal: 852ms\tremaining: 56.3ms\n"
     ]
    },
    {
     "name": "stdout",
     "output_type": "stream",
     "text": [
      "938:\tlearn: 0.0143648\ttotal: 853ms\tremaining: 55.4ms\n",
      "939:\tlearn: 0.0143568\ttotal: 855ms\tremaining: 54.5ms\n",
      "940:\tlearn: 0.0143468\ttotal: 857ms\tremaining: 53.7ms\n",
      "941:\tlearn: 0.0143423\ttotal: 858ms\tremaining: 52.8ms\n",
      "942:\tlearn: 0.0143330\ttotal: 858ms\tremaining: 51.9ms\n",
      "943:\tlearn: 0.0143274\ttotal: 859ms\tremaining: 51ms\n",
      "944:\tlearn: 0.0143189\ttotal: 860ms\tremaining: 50.1ms\n",
      "945:\tlearn: 0.0142955\ttotal: 861ms\tremaining: 49.1ms\n",
      "946:\tlearn: 0.0142864\ttotal: 861ms\tremaining: 48.2ms\n",
      "947:\tlearn: 0.0142727\ttotal: 862ms\tremaining: 47.3ms\n",
      "948:\tlearn: 0.0142543\ttotal: 863ms\tremaining: 46.4ms\n",
      "949:\tlearn: 0.0142350\ttotal: 864ms\tremaining: 45.5ms\n",
      "950:\tlearn: 0.0142197\ttotal: 866ms\tremaining: 44.6ms\n",
      "951:\tlearn: 0.0142095\ttotal: 867ms\tremaining: 43.7ms\n",
      "952:\tlearn: 0.0141970\ttotal: 868ms\tremaining: 42.8ms\n",
      "953:\tlearn: 0.0141890\ttotal: 869ms\tremaining: 41.9ms\n",
      "954:\tlearn: 0.0141832\ttotal: 870ms\tremaining: 41ms\n",
      "955:\tlearn: 0.0141667\ttotal: 873ms\tremaining: 40.2ms\n",
      "956:\tlearn: 0.0141589\ttotal: 873ms\tremaining: 39.2ms\n",
      "957:\tlearn: 0.0141275\ttotal: 874ms\tremaining: 38.3ms\n",
      "958:\tlearn: 0.0141175\ttotal: 875ms\tremaining: 37.4ms\n",
      "959:\tlearn: 0.0141139\ttotal: 877ms\tremaining: 36.6ms\n",
      "960:\tlearn: 0.0141066\ttotal: 879ms\tremaining: 35.7ms\n",
      "961:\tlearn: 0.0140922\ttotal: 879ms\tremaining: 34.7ms\n",
      "962:\tlearn: 0.0140843\ttotal: 880ms\tremaining: 33.8ms\n",
      "963:\tlearn: 0.0140710\ttotal: 881ms\tremaining: 32.9ms\n",
      "964:\tlearn: 0.0140639\ttotal: 882ms\tremaining: 32ms\n",
      "965:\tlearn: 0.0140465\ttotal: 883ms\tremaining: 31.1ms\n",
      "966:\tlearn: 0.0140294\ttotal: 884ms\tremaining: 30.2ms\n",
      "967:\tlearn: 0.0140161\ttotal: 885ms\tremaining: 29.2ms\n",
      "968:\tlearn: 0.0139998\ttotal: 886ms\tremaining: 28.3ms\n",
      "969:\tlearn: 0.0139945\ttotal: 887ms\tremaining: 27.4ms\n",
      "970:\tlearn: 0.0139868\ttotal: 889ms\tremaining: 26.6ms\n",
      "971:\tlearn: 0.0139571\ttotal: 890ms\tremaining: 25.6ms\n",
      "972:\tlearn: 0.0139205\ttotal: 892ms\tremaining: 24.7ms\n",
      "973:\tlearn: 0.0139078\ttotal: 894ms\tremaining: 23.9ms\n",
      "974:\tlearn: 0.0138992\ttotal: 897ms\tremaining: 23ms\n"
     ]
    },
    {
     "name": "stdout",
     "output_type": "stream",
     "text": [
      "975:\tlearn: 0.0138947\ttotal: 904ms\tremaining: 22.2ms\n",
      "976:\tlearn: 0.0138770\ttotal: 908ms\tremaining: 21.4ms\n",
      "977:\tlearn: 0.0138615\ttotal: 909ms\tremaining: 20.5ms\n",
      "978:\tlearn: 0.0138541\ttotal: 910ms\tremaining: 19.5ms\n",
      "979:\tlearn: 0.0138396\ttotal: 912ms\tremaining: 18.6ms\n",
      "980:\tlearn: 0.0138050\ttotal: 912ms\tremaining: 17.7ms\n",
      "981:\tlearn: 0.0137943\ttotal: 914ms\tremaining: 16.8ms\n",
      "982:\tlearn: 0.0137819\ttotal: 915ms\tremaining: 15.8ms\n",
      "983:\tlearn: 0.0137723\ttotal: 918ms\tremaining: 14.9ms\n",
      "984:\tlearn: 0.0137658\ttotal: 923ms\tremaining: 14ms\n",
      "985:\tlearn: 0.0137539\ttotal: 933ms\tremaining: 13.2ms\n",
      "986:\tlearn: 0.0137287\ttotal: 936ms\tremaining: 12.3ms\n"
     ]
    },
    {
     "name": "stdout",
     "output_type": "stream",
     "text": [
      "987:\tlearn: 0.0137216\ttotal: 944ms\tremaining: 11.5ms\n",
      "988:\tlearn: 0.0137043\ttotal: 949ms\tremaining: 10.6ms\n",
      "989:\tlearn: 0.0136935\ttotal: 951ms\tremaining: 9.6ms\n",
      "990:\tlearn: 0.0136776\ttotal: 952ms\tremaining: 8.65ms\n",
      "991:\tlearn: 0.0136697\ttotal: 954ms\tremaining: 7.7ms\n",
      "992:\tlearn: 0.0136537\ttotal: 957ms\tremaining: 6.75ms\n",
      "993:\tlearn: 0.0136444\ttotal: 958ms\tremaining: 5.78ms\n",
      "994:\tlearn: 0.0136382\ttotal: 959ms\tremaining: 4.82ms\n",
      "995:\tlearn: 0.0136312\ttotal: 960ms\tremaining: 3.86ms\n",
      "996:\tlearn: 0.0136117\ttotal: 961ms\tremaining: 2.89ms\n",
      "997:\tlearn: 0.0136005\ttotal: 964ms\tremaining: 1.93ms\n",
      "998:\tlearn: 0.0135938\ttotal: 965ms\tremaining: 965us\n",
      "999:\tlearn: 0.0135883\ttotal: 966ms\tremaining: 0us\n"
     ]
    },
    {
     "name": "stdout",
     "output_type": "stream",
     "text": [
      "Mean Absolute error 0.02016716867230926\n"
     ]
    },
    {
     "data": {
      "application/scrapbook.scrap.json+json": {
       "data": 0.02016716867230926,
       "encoder": "json",
       "name": "Catboost MAE",
       "version": 1
      }
     },
     "metadata": {
      "scrapbook": {
       "data": true,
       "display": false,
       "name": "Catboost MAE"
      }
     },
     "output_type": "display_data"
    },
    {
     "name": "stdout",
     "output_type": "stream",
     "text": [
      "Catboost MAE 0.02016716867230926\n"
     ]
    }
   ],
   "source": [
    "mae_cb = baselineModels.catboost(X_train,y_train,X_test,y_test)\n",
    "#Store MSE Value\n",
    "sb.glue(\"Catboost MAE\",mae_cb)\n",
    "print(\"Catboost MAE\",mae_cb)"
   ]
  },
  {
   "cell_type": "markdown",
   "id": "990abd18",
   "metadata": {
    "papermill": {
     "duration": 0.030655,
     "end_time": "2022-07-24T10:48:01.738068",
     "exception": false,
     "start_time": "2022-07-24T10:48:01.707413",
     "status": "completed"
    },
    "tags": []
   },
   "source": [
    "# TabNet Regressor"
   ]
  },
  {
   "cell_type": "code",
   "execution_count": 7,
   "id": "2a24431f",
   "metadata": {
    "execution": {
     "iopub.execute_input": "2022-07-24T10:48:01.788233Z",
     "iopub.status.busy": "2022-07-24T10:48:01.787639Z",
     "iopub.status.idle": "2022-07-24T10:48:01.795858Z",
     "shell.execute_reply": "2022-07-24T10:48:01.793586Z"
    },
    "papermill": {
     "duration": 0.046735,
     "end_time": "2022-07-24T10:48:01.812655",
     "exception": false,
     "start_time": "2022-07-24T10:48:01.765920",
     "status": "completed"
    },
    "tags": []
   },
   "outputs": [],
   "source": [
    "n_epochs = 1000\n",
    "batch_size = 32"
   ]
  },
  {
   "cell_type": "code",
   "execution_count": 8,
   "id": "8de8929d",
   "metadata": {
    "execution": {
     "iopub.execute_input": "2022-07-24T10:48:01.886689Z",
     "iopub.status.busy": "2022-07-24T10:48:01.886041Z",
     "iopub.status.idle": "2022-07-24T10:50:16.106023Z",
     "shell.execute_reply": "2022-07-24T10:50:16.103093Z"
    },
    "papermill": {
     "duration": 134.276992,
     "end_time": "2022-07-24T10:50:16.111122",
     "exception": false,
     "start_time": "2022-07-24T10:48:01.834130",
     "status": "completed"
    },
    "tags": []
   },
   "outputs": [
    {
     "name": "stdout",
     "output_type": "stream",
     "text": [
      "Device used : cpu\n"
     ]
    },
    {
     "name": "stdout",
     "output_type": "stream",
     "text": [
      "epoch 0  | loss: 0.92585 | train_mse: 0.70314 | train_mae: 0.68442 |  0:00:05s\n"
     ]
    },
    {
     "name": "stdout",
     "output_type": "stream",
     "text": [
      "epoch 1  | loss: 0.33958 | train_mse: 0.30314 | train_mae: 0.43599 |  0:00:06s\n"
     ]
    },
    {
     "name": "stdout",
     "output_type": "stream",
     "text": [
      "epoch 2  | loss: 0.26431 | train_mse: 0.15231 | train_mae: 0.30679 |  0:00:08s\n"
     ]
    },
    {
     "name": "stdout",
     "output_type": "stream",
     "text": [
      "epoch 3  | loss: 0.19365 | train_mse: 0.17903 | train_mae: 0.32863 |  0:00:09s\n"
     ]
    },
    {
     "name": "stdout",
     "output_type": "stream",
     "text": [
      "epoch 4  | loss: 0.217   | train_mse: 0.14693 | train_mae: 0.29425 |  0:00:10s\n"
     ]
    },
    {
     "name": "stdout",
     "output_type": "stream",
     "text": [
      "epoch 5  | loss: 0.15932 | train_mse: 0.14966 | train_mae: 0.2943  |  0:00:11s\n"
     ]
    },
    {
     "name": "stdout",
     "output_type": "stream",
     "text": [
      "epoch 6  | loss: 0.14844 | train_mse: 0.13825 | train_mae: 0.29257 |  0:00:13s\n"
     ]
    },
    {
     "name": "stdout",
     "output_type": "stream",
     "text": [
      "epoch 7  | loss: 0.17981 | train_mse: 0.13667 | train_mae: 0.29568 |  0:00:15s\n"
     ]
    },
    {
     "name": "stdout",
     "output_type": "stream",
     "text": [
      "epoch 8  | loss: 0.12848 | train_mse: 0.10206 | train_mae: 0.24767 |  0:00:16s\n"
     ]
    },
    {
     "name": "stdout",
     "output_type": "stream",
     "text": [
      "epoch 9  | loss: 0.11516 | train_mse: 0.09122 | train_mae: 0.22523 |  0:00:18s\n"
     ]
    },
    {
     "name": "stdout",
     "output_type": "stream",
     "text": [
      "epoch 10 | loss: 0.1314  | train_mse: 0.07596 | train_mae: 0.21053 |  0:00:19s\n"
     ]
    },
    {
     "name": "stdout",
     "output_type": "stream",
     "text": [
      "epoch 11 | loss: 0.10088 | train_mse: 0.06854 | train_mae: 0.20642 |  0:00:22s\n"
     ]
    },
    {
     "name": "stdout",
     "output_type": "stream",
     "text": [
      "epoch 12 | loss: 0.10522 | train_mse: 0.0574  | train_mae: 0.18282 |  0:00:23s\n"
     ]
    },
    {
     "name": "stdout",
     "output_type": "stream",
     "text": [
      "epoch 13 | loss: 0.11263 | train_mse: 0.06046 | train_mae: 0.19191 |  0:00:24s\n"
     ]
    },
    {
     "name": "stdout",
     "output_type": "stream",
     "text": [
      "epoch 14 | loss: 0.10296 | train_mse: 0.05892 | train_mae: 0.17192 |  0:00:25s\n"
     ]
    },
    {
     "name": "stdout",
     "output_type": "stream",
     "text": [
      "epoch 15 | loss: 0.09401 | train_mse: 0.06047 | train_mae: 0.18766 |  0:00:26s\n"
     ]
    },
    {
     "name": "stdout",
     "output_type": "stream",
     "text": [
      "epoch 16 | loss: 0.1056  | train_mse: 0.06226 | train_mae: 0.17417 |  0:00:26s\n"
     ]
    },
    {
     "name": "stdout",
     "output_type": "stream",
     "text": [
      "epoch 17 | loss: 0.09426 | train_mse: 0.06403 | train_mae: 0.18247 |  0:00:27s\n"
     ]
    },
    {
     "name": "stdout",
     "output_type": "stream",
     "text": [
      "epoch 18 | loss: 0.07908 | train_mse: 0.05665 | train_mae: 0.17759 |  0:00:28s\n"
     ]
    },
    {
     "name": "stdout",
     "output_type": "stream",
     "text": [
      "epoch 19 | loss: 0.0859  | train_mse: 0.04265 | train_mae: 0.15816 |  0:00:29s\n"
     ]
    },
    {
     "name": "stdout",
     "output_type": "stream",
     "text": [
      "epoch 20 | loss: 0.06904 | train_mse: 0.03851 | train_mae: 0.1468  |  0:00:31s\n"
     ]
    },
    {
     "name": "stdout",
     "output_type": "stream",
     "text": [
      "epoch 21 | loss: 0.07345 | train_mse: 0.03555 | train_mae: 0.13661 |  0:00:31s\n"
     ]
    },
    {
     "name": "stdout",
     "output_type": "stream",
     "text": [
      "epoch 22 | loss: 0.05894 | train_mse: 0.03064 | train_mae: 0.12675 |  0:00:32s\n"
     ]
    },
    {
     "name": "stdout",
     "output_type": "stream",
     "text": [
      "epoch 23 | loss: 0.06011 | train_mse: 0.03445 | train_mae: 0.14382 |  0:00:33s\n"
     ]
    },
    {
     "name": "stdout",
     "output_type": "stream",
     "text": [
      "epoch 24 | loss: 0.08112 | train_mse: 0.03558 | train_mae: 0.14612 |  0:00:34s\n"
     ]
    },
    {
     "name": "stdout",
     "output_type": "stream",
     "text": [
      "epoch 25 | loss: 0.0731  | train_mse: 0.03804 | train_mae: 0.14698 |  0:00:34s\n"
     ]
    },
    {
     "name": "stdout",
     "output_type": "stream",
     "text": [
      "epoch 26 | loss: 0.07207 | train_mse: 0.04779 | train_mae: 0.15693 |  0:00:35s\n"
     ]
    },
    {
     "name": "stdout",
     "output_type": "stream",
     "text": [
      "epoch 27 | loss: 0.07834 | train_mse: 0.02977 | train_mae: 0.1352  |  0:00:36s\n"
     ]
    },
    {
     "name": "stdout",
     "output_type": "stream",
     "text": [
      "epoch 28 | loss: 0.06902 | train_mse: 0.02968 | train_mae: 0.13413 |  0:00:38s\n"
     ]
    },
    {
     "name": "stdout",
     "output_type": "stream",
     "text": [
      "epoch 29 | loss: 0.07119 | train_mse: 0.03259 | train_mae: 0.13688 |  0:00:39s\n"
     ]
    },
    {
     "name": "stdout",
     "output_type": "stream",
     "text": [
      "epoch 30 | loss: 0.06184 | train_mse: 0.02694 | train_mae: 0.12799 |  0:00:39s\n"
     ]
    },
    {
     "name": "stdout",
     "output_type": "stream",
     "text": [
      "epoch 31 | loss: 0.04968 | train_mse: 0.01974 | train_mae: 0.10742 |  0:00:40s\n"
     ]
    },
    {
     "name": "stdout",
     "output_type": "stream",
     "text": [
      "epoch 32 | loss: 0.03965 | train_mse: 0.01601 | train_mae: 0.09377 |  0:00:41s\n"
     ]
    },
    {
     "name": "stdout",
     "output_type": "stream",
     "text": [
      "epoch 33 | loss: 0.05303 | train_mse: 0.01836 | train_mae: 0.10388 |  0:00:42s\n"
     ]
    },
    {
     "name": "stdout",
     "output_type": "stream",
     "text": [
      "epoch 34 | loss: 0.04289 | train_mse: 0.02578 | train_mae: 0.10792 |  0:00:43s\n"
     ]
    },
    {
     "name": "stdout",
     "output_type": "stream",
     "text": [
      "epoch 35 | loss: 0.04241 | train_mse: 0.02682 | train_mae: 0.12224 |  0:00:43s\n"
     ]
    },
    {
     "name": "stdout",
     "output_type": "stream",
     "text": [
      "epoch 36 | loss: 0.04483 | train_mse: 0.0132  | train_mae: 0.08944 |  0:00:44s\n"
     ]
    },
    {
     "name": "stdout",
     "output_type": "stream",
     "text": [
      "epoch 37 | loss: 0.07078 | train_mse: 0.01481 | train_mae: 0.09219 |  0:00:45s\n"
     ]
    },
    {
     "name": "stdout",
     "output_type": "stream",
     "text": [
      "epoch 38 | loss: 0.05082 | train_mse: 0.02097 | train_mae: 0.10003 |  0:00:46s\n"
     ]
    },
    {
     "name": "stdout",
     "output_type": "stream",
     "text": [
      "epoch 39 | loss: 0.03449 | train_mse: 0.01361 | train_mae: 0.08965 |  0:00:47s\n"
     ]
    },
    {
     "name": "stdout",
     "output_type": "stream",
     "text": [
      "epoch 40 | loss: 0.03705 | train_mse: 0.01239 | train_mae: 0.08163 |  0:00:47s\n"
     ]
    },
    {
     "name": "stdout",
     "output_type": "stream",
     "text": [
      "epoch 41 | loss: 0.03676 | train_mse: 0.01332 | train_mae: 0.09124 |  0:00:48s\n"
     ]
    },
    {
     "name": "stdout",
     "output_type": "stream",
     "text": [
      "epoch 42 | loss: 0.0286  | train_mse: 0.01153 | train_mae: 0.08247 |  0:00:49s\n"
     ]
    },
    {
     "name": "stdout",
     "output_type": "stream",
     "text": [
      "epoch 43 | loss: 0.03838 | train_mse: 0.01145 | train_mae: 0.08063 |  0:00:50s\n"
     ]
    },
    {
     "name": "stdout",
     "output_type": "stream",
     "text": [
      "epoch 44 | loss: 0.04484 | train_mse: 0.02021 | train_mae: 0.10561 |  0:00:51s\n"
     ]
    },
    {
     "name": "stdout",
     "output_type": "stream",
     "text": [
      "epoch 45 | loss: 0.0457  | train_mse: 0.01914 | train_mae: 0.10803 |  0:00:52s\n"
     ]
    },
    {
     "name": "stdout",
     "output_type": "stream",
     "text": [
      "epoch 46 | loss: 0.04157 | train_mse: 0.01375 | train_mae: 0.09318 |  0:00:53s\n"
     ]
    },
    {
     "name": "stdout",
     "output_type": "stream",
     "text": [
      "epoch 47 | loss: 0.04573 | train_mse: 0.01588 | train_mae: 0.09311 |  0:00:53s\n"
     ]
    },
    {
     "name": "stdout",
     "output_type": "stream",
     "text": [
      "epoch 48 | loss: 0.0392  | train_mse: 0.01447 | train_mae: 0.08808 |  0:00:54s\n"
     ]
    },
    {
     "name": "stdout",
     "output_type": "stream",
     "text": [
      "epoch 49 | loss: 0.02886 | train_mse: 0.01043 | train_mae: 0.07534 |  0:00:55s\n"
     ]
    },
    {
     "name": "stdout",
     "output_type": "stream",
     "text": [
      "epoch 50 | loss: 0.03628 | train_mse: 0.01612 | train_mae: 0.10344 |  0:00:56s\n"
     ]
    },
    {
     "name": "stdout",
     "output_type": "stream",
     "text": [
      "epoch 51 | loss: 0.02991 | train_mse: 0.01487 | train_mae: 0.09694 |  0:00:57s\n"
     ]
    },
    {
     "name": "stdout",
     "output_type": "stream",
     "text": [
      "epoch 52 | loss: 0.03086 | train_mse: 0.01049 | train_mae: 0.08043 |  0:00:57s\n"
     ]
    },
    {
     "name": "stdout",
     "output_type": "stream",
     "text": [
      "epoch 53 | loss: 0.03506 | train_mse: 0.01209 | train_mae: 0.08386 |  0:00:58s\n"
     ]
    },
    {
     "name": "stdout",
     "output_type": "stream",
     "text": [
      "epoch 54 | loss: 0.02328 | train_mse: 0.01201 | train_mae: 0.08728 |  0:00:59s\n"
     ]
    },
    {
     "name": "stdout",
     "output_type": "stream",
     "text": [
      "epoch 55 | loss: 0.02438 | train_mse: 0.01921 | train_mae: 0.10849 |  0:01:00s\n"
     ]
    },
    {
     "name": "stdout",
     "output_type": "stream",
     "text": [
      "epoch 56 | loss: 0.02673 | train_mse: 0.02488 | train_mae: 0.11939 |  0:01:01s\n"
     ]
    },
    {
     "name": "stdout",
     "output_type": "stream",
     "text": [
      "epoch 57 | loss: 0.02849 | train_mse: 0.00892 | train_mae: 0.0745  |  0:01:02s\n"
     ]
    },
    {
     "name": "stdout",
     "output_type": "stream",
     "text": [
      "epoch 58 | loss: 0.02721 | train_mse: 0.01074 | train_mae: 0.07919 |  0:01:02s\n"
     ]
    },
    {
     "name": "stdout",
     "output_type": "stream",
     "text": [
      "epoch 59 | loss: 0.02322 | train_mse: 0.01153 | train_mae: 0.08292 |  0:01:03s\n"
     ]
    },
    {
     "name": "stdout",
     "output_type": "stream",
     "text": [
      "epoch 60 | loss: 0.03207 | train_mse: 0.01047 | train_mae: 0.07433 |  0:01:04s\n"
     ]
    },
    {
     "name": "stdout",
     "output_type": "stream",
     "text": [
      "epoch 61 | loss: 0.0252  | train_mse: 0.00893 | train_mae: 0.07416 |  0:01:05s\n"
     ]
    },
    {
     "name": "stdout",
     "output_type": "stream",
     "text": [
      "epoch 62 | loss: 0.05845 | train_mse: 0.00684 | train_mae: 0.06291 |  0:01:05s\n"
     ]
    },
    {
     "name": "stdout",
     "output_type": "stream",
     "text": [
      "epoch 63 | loss: 0.03347 | train_mse: 0.00771 | train_mae: 0.06605 |  0:01:07s\n"
     ]
    },
    {
     "name": "stdout",
     "output_type": "stream",
     "text": [
      "epoch 64 | loss: 0.03704 | train_mse: 0.01766 | train_mae: 0.08453 |  0:01:10s\n"
     ]
    },
    {
     "name": "stdout",
     "output_type": "stream",
     "text": [
      "epoch 65 | loss: 0.02436 | train_mse: 0.01239 | train_mae: 0.08628 |  0:01:11s\n"
     ]
    },
    {
     "name": "stdout",
     "output_type": "stream",
     "text": [
      "epoch 66 | loss: 0.02545 | train_mse: 0.00847 | train_mae: 0.07125 |  0:01:11s\n"
     ]
    },
    {
     "name": "stdout",
     "output_type": "stream",
     "text": [
      "epoch 67 | loss: 0.03161 | train_mse: 0.01419 | train_mae: 0.09523 |  0:01:12s\n"
     ]
    },
    {
     "name": "stdout",
     "output_type": "stream",
     "text": [
      "epoch 68 | loss: 0.02323 | train_mse: 0.00619 | train_mae: 0.06103 |  0:01:13s\n"
     ]
    },
    {
     "name": "stdout",
     "output_type": "stream",
     "text": [
      "epoch 69 | loss: 0.01957 | train_mse: 0.00733 | train_mae: 0.06757 |  0:01:14s\n"
     ]
    },
    {
     "name": "stdout",
     "output_type": "stream",
     "text": [
      "epoch 70 | loss: 0.02493 | train_mse: 0.01046 | train_mae: 0.07536 |  0:01:14s\n"
     ]
    },
    {
     "name": "stdout",
     "output_type": "stream",
     "text": [
      "epoch 71 | loss: 0.02218 | train_mse: 0.01443 | train_mae: 0.08363 |  0:01:15s\n"
     ]
    },
    {
     "name": "stdout",
     "output_type": "stream",
     "text": [
      "epoch 72 | loss: 0.01756 | train_mse: 0.006   | train_mae: 0.05923 |  0:01:16s\n"
     ]
    },
    {
     "name": "stdout",
     "output_type": "stream",
     "text": [
      "epoch 73 | loss: 0.02076 | train_mse: 0.00787 | train_mae: 0.06847 |  0:01:17s\n"
     ]
    },
    {
     "name": "stdout",
     "output_type": "stream",
     "text": [
      "epoch 74 | loss: 0.02279 | train_mse: 0.00718 | train_mae: 0.06605 |  0:01:17s\n"
     ]
    },
    {
     "name": "stdout",
     "output_type": "stream",
     "text": [
      "epoch 75 | loss: 0.02394 | train_mse: 0.03301 | train_mae: 0.12819 |  0:01:18s\n"
     ]
    },
    {
     "name": "stdout",
     "output_type": "stream",
     "text": [
      "epoch 76 | loss: 0.02982 | train_mse: 0.01314 | train_mae: 0.08989 |  0:01:19s\n"
     ]
    },
    {
     "name": "stdout",
     "output_type": "stream",
     "text": [
      "epoch 77 | loss: 0.02809 | train_mse: 0.01558 | train_mae: 0.09809 |  0:01:19s\n"
     ]
    },
    {
     "name": "stdout",
     "output_type": "stream",
     "text": [
      "epoch 78 | loss: 0.02546 | train_mse: 0.01412 | train_mae: 0.0863  |  0:01:20s\n"
     ]
    },
    {
     "name": "stdout",
     "output_type": "stream",
     "text": [
      "epoch 79 | loss: 0.03314 | train_mse: 0.01689 | train_mae: 0.10462 |  0:01:21s\n"
     ]
    },
    {
     "name": "stdout",
     "output_type": "stream",
     "text": [
      "epoch 80 | loss: 0.025   | train_mse: 0.02296 | train_mae: 0.11105 |  0:01:21s\n"
     ]
    },
    {
     "name": "stdout",
     "output_type": "stream",
     "text": [
      "epoch 81 | loss: 0.03715 | train_mse: 0.01138 | train_mae: 0.08377 |  0:01:22s\n"
     ]
    },
    {
     "name": "stdout",
     "output_type": "stream",
     "text": [
      "epoch 82 | loss: 0.03337 | train_mse: 0.01497 | train_mae: 0.09013 |  0:01:23s\n"
     ]
    },
    {
     "name": "stdout",
     "output_type": "stream",
     "text": [
      "epoch 83 | loss: 0.02503 | train_mse: 0.01153 | train_mae: 0.0802  |  0:01:23s\n"
     ]
    },
    {
     "name": "stdout",
     "output_type": "stream",
     "text": [
      "epoch 84 | loss: 0.02668 | train_mse: 0.01013 | train_mae: 0.07359 |  0:01:24s\n"
     ]
    },
    {
     "name": "stdout",
     "output_type": "stream",
     "text": [
      "epoch 85 | loss: 0.02593 | train_mse: 0.00646 | train_mae: 0.0639  |  0:01:24s\n"
     ]
    },
    {
     "name": "stdout",
     "output_type": "stream",
     "text": [
      "epoch 86 | loss: 0.02398 | train_mse: 0.01034 | train_mae: 0.07378 |  0:01:25s\n"
     ]
    },
    {
     "name": "stdout",
     "output_type": "stream",
     "text": [
      "epoch 87 | loss: 0.02064 | train_mse: 0.00726 | train_mae: 0.06645 |  0:01:26s\n"
     ]
    },
    {
     "name": "stdout",
     "output_type": "stream",
     "text": [
      "epoch 88 | loss: 0.02338 | train_mse: 0.00558 | train_mae: 0.05486 |  0:01:26s\n"
     ]
    },
    {
     "name": "stdout",
     "output_type": "stream",
     "text": [
      "epoch 89 | loss: 0.02203 | train_mse: 0.00589 | train_mae: 0.05903 |  0:01:27s\n"
     ]
    },
    {
     "name": "stdout",
     "output_type": "stream",
     "text": [
      "epoch 90 | loss: 0.0215  | train_mse: 0.00595 | train_mae: 0.05971 |  0:01:28s\n"
     ]
    },
    {
     "name": "stdout",
     "output_type": "stream",
     "text": [
      "epoch 91 | loss: 0.02174 | train_mse: 0.0064  | train_mae: 0.06389 |  0:01:29s\n"
     ]
    },
    {
     "name": "stdout",
     "output_type": "stream",
     "text": [
      "epoch 92 | loss: 0.03274 | train_mse: 0.01247 | train_mae: 0.0874  |  0:01:30s\n"
     ]
    },
    {
     "name": "stdout",
     "output_type": "stream",
     "text": [
      "epoch 93 | loss: 0.02729 | train_mse: 0.00607 | train_mae: 0.05982 |  0:01:31s\n"
     ]
    },
    {
     "name": "stdout",
     "output_type": "stream",
     "text": [
      "epoch 94 | loss: 0.02529 | train_mse: 0.00571 | train_mae: 0.05858 |  0:01:31s\n"
     ]
    },
    {
     "name": "stdout",
     "output_type": "stream",
     "text": [
      "epoch 95 | loss: 0.02246 | train_mse: 0.01157 | train_mae: 0.07318 |  0:01:32s\n"
     ]
    },
    {
     "name": "stdout",
     "output_type": "stream",
     "text": [
      "epoch 96 | loss: 0.03269 | train_mse: 0.00752 | train_mae: 0.06762 |  0:01:32s\n"
     ]
    },
    {
     "name": "stdout",
     "output_type": "stream",
     "text": [
      "epoch 97 | loss: 0.0265  | train_mse: 0.00787 | train_mae: 0.06864 |  0:01:33s\n"
     ]
    },
    {
     "name": "stdout",
     "output_type": "stream",
     "text": [
      "epoch 98 | loss: 0.02134 | train_mse: 0.0079  | train_mae: 0.07042 |  0:01:34s\n"
     ]
    },
    {
     "name": "stdout",
     "output_type": "stream",
     "text": [
      "epoch 99 | loss: 0.02293 | train_mse: 0.00749 | train_mae: 0.06887 |  0:01:34s\n"
     ]
    },
    {
     "name": "stdout",
     "output_type": "stream",
     "text": [
      "epoch 100| loss: 0.01817 | train_mse: 0.01474 | train_mae: 0.09998 |  0:01:35s\n"
     ]
    },
    {
     "name": "stdout",
     "output_type": "stream",
     "text": [
      "epoch 101| loss: 0.01848 | train_mse: 0.00748 | train_mae: 0.06771 |  0:01:36s\n"
     ]
    },
    {
     "name": "stdout",
     "output_type": "stream",
     "text": [
      "epoch 102| loss: 0.0305  | train_mse: 0.01303 | train_mae: 0.089   |  0:01:36s\n"
     ]
    },
    {
     "name": "stdout",
     "output_type": "stream",
     "text": [
      "epoch 103| loss: 0.03642 | train_mse: 0.04872 | train_mae: 0.12293 |  0:01:37s\n"
     ]
    },
    {
     "name": "stdout",
     "output_type": "stream",
     "text": [
      "epoch 104| loss: 0.02396 | train_mse: 0.0164  | train_mae: 0.10381 |  0:01:37s\n"
     ]
    },
    {
     "name": "stdout",
     "output_type": "stream",
     "text": [
      "epoch 105| loss: 0.05369 | train_mse: 0.01565 | train_mae: 0.08768 |  0:01:38s\n"
     ]
    },
    {
     "name": "stdout",
     "output_type": "stream",
     "text": [
      "epoch 106| loss: 0.05573 | train_mse: 0.02292 | train_mae: 0.09784 |  0:01:39s\n"
     ]
    },
    {
     "name": "stdout",
     "output_type": "stream",
     "text": [
      "epoch 107| loss: 0.02866 | train_mse: 0.01403 | train_mae: 0.0939  |  0:01:39s\n"
     ]
    },
    {
     "name": "stdout",
     "output_type": "stream",
     "text": [
      "epoch 108| loss: 0.02509 | train_mse: 0.01247 | train_mae: 0.08349 |  0:01:40s\n"
     ]
    },
    {
     "name": "stdout",
     "output_type": "stream",
     "text": [
      "epoch 109| loss: 0.02196 | train_mse: 0.01373 | train_mae: 0.1013  |  0:01:41s\n"
     ]
    },
    {
     "name": "stdout",
     "output_type": "stream",
     "text": [
      "epoch 110| loss: 0.01984 | train_mse: 0.0042  | train_mae: 0.0521  |  0:01:41s\n"
     ]
    },
    {
     "name": "stdout",
     "output_type": "stream",
     "text": [
      "epoch 111| loss: 0.02675 | train_mse: 0.02207 | train_mae: 0.1126  |  0:01:42s\n"
     ]
    },
    {
     "name": "stdout",
     "output_type": "stream",
     "text": [
      "epoch 112| loss: 0.019   | train_mse: 0.00589 | train_mae: 0.05969 |  0:01:43s\n"
     ]
    },
    {
     "name": "stdout",
     "output_type": "stream",
     "text": [
      "epoch 113| loss: 0.02712 | train_mse: 0.01008 | train_mae: 0.06895 |  0:01:43s\n"
     ]
    },
    {
     "name": "stdout",
     "output_type": "stream",
     "text": [
      "epoch 114| loss: 0.03608 | train_mse: 0.00789 | train_mae: 0.0695  |  0:01:44s\n"
     ]
    },
    {
     "name": "stdout",
     "output_type": "stream",
     "text": [
      "epoch 115| loss: 0.02504 | train_mse: 0.0127  | train_mae: 0.08557 |  0:01:44s\n"
     ]
    },
    {
     "name": "stdout",
     "output_type": "stream",
     "text": [
      "epoch 116| loss: 0.02    | train_mse: 0.0142  | train_mae: 0.09984 |  0:01:45s\n"
     ]
    },
    {
     "name": "stdout",
     "output_type": "stream",
     "text": [
      "epoch 117| loss: 0.01922 | train_mse: 0.00695 | train_mae: 0.06435 |  0:01:46s\n"
     ]
    },
    {
     "name": "stdout",
     "output_type": "stream",
     "text": [
      "epoch 118| loss: 0.01873 | train_mse: 0.00728 | train_mae: 0.06651 |  0:01:46s\n"
     ]
    },
    {
     "name": "stdout",
     "output_type": "stream",
     "text": [
      "epoch 119| loss: 0.01976 | train_mse: 0.00952 | train_mae: 0.07823 |  0:01:47s\n"
     ]
    },
    {
     "name": "stdout",
     "output_type": "stream",
     "text": [
      "epoch 120| loss: 0.01669 | train_mse: 0.01186 | train_mae: 0.09052 |  0:01:47s\n"
     ]
    },
    {
     "name": "stdout",
     "output_type": "stream",
     "text": [
      "epoch 121| loss: 0.0304  | train_mse: 0.01167 | train_mae: 0.08276 |  0:01:48s\n"
     ]
    },
    {
     "name": "stdout",
     "output_type": "stream",
     "text": [
      "epoch 122| loss: 0.01968 | train_mse: 0.00745 | train_mae: 0.06922 |  0:01:49s\n"
     ]
    },
    {
     "name": "stdout",
     "output_type": "stream",
     "text": [
      "epoch 123| loss: 0.03602 | train_mse: 0.00872 | train_mae: 0.0734  |  0:01:49s\n"
     ]
    },
    {
     "name": "stdout",
     "output_type": "stream",
     "text": [
      "epoch 124| loss: 0.03227 | train_mse: 0.00816 | train_mae: 0.07124 |  0:01:50s\n"
     ]
    },
    {
     "name": "stdout",
     "output_type": "stream",
     "text": [
      "epoch 125| loss: 0.0328  | train_mse: 0.00959 | train_mae: 0.07943 |  0:01:50s\n"
     ]
    },
    {
     "name": "stdout",
     "output_type": "stream",
     "text": [
      "epoch 126| loss: 0.02699 | train_mse: 0.01077 | train_mae: 0.08035 |  0:01:51s\n"
     ]
    },
    {
     "name": "stdout",
     "output_type": "stream",
     "text": [
      "epoch 127| loss: 0.01739 | train_mse: 0.00741 | train_mae: 0.06831 |  0:01:53s\n"
     ]
    },
    {
     "name": "stdout",
     "output_type": "stream",
     "text": [
      "epoch 128| loss: 0.03231 | train_mse: 0.01427 | train_mae: 0.08993 |  0:01:53s\n"
     ]
    },
    {
     "name": "stdout",
     "output_type": "stream",
     "text": [
      "epoch 129| loss: 0.02052 | train_mse: 0.00595 | train_mae: 0.0598  |  0:01:54s\n"
     ]
    },
    {
     "name": "stdout",
     "output_type": "stream",
     "text": [
      "epoch 130| loss: 0.03761 | train_mse: 0.00956 | train_mae: 0.07168 |  0:01:55s\n"
     ]
    },
    {
     "name": "stdout",
     "output_type": "stream",
     "text": [
      "epoch 131| loss: 0.03394 | train_mse: 0.01053 | train_mae: 0.07751 |  0:01:55s\n"
     ]
    },
    {
     "name": "stdout",
     "output_type": "stream",
     "text": [
      "epoch 132| loss: 0.02324 | train_mse: 0.00517 | train_mae: 0.05669 |  0:01:56s\n"
     ]
    },
    {
     "name": "stdout",
     "output_type": "stream",
     "text": [
      "epoch 133| loss: 0.02651 | train_mse: 0.00963 | train_mae: 0.07351 |  0:01:56s\n"
     ]
    },
    {
     "name": "stdout",
     "output_type": "stream",
     "text": [
      "epoch 134| loss: 0.02694 | train_mse: 0.00928 | train_mae: 0.07303 |  0:01:57s\n"
     ]
    },
    {
     "name": "stdout",
     "output_type": "stream",
     "text": [
      "epoch 135| loss: 0.02589 | train_mse: 0.01089 | train_mae: 0.07519 |  0:01:58s\n"
     ]
    },
    {
     "name": "stdout",
     "output_type": "stream",
     "text": [
      "epoch 136| loss: 0.02249 | train_mse: 0.00543 | train_mae: 0.05871 |  0:01:58s\n"
     ]
    },
    {
     "name": "stdout",
     "output_type": "stream",
     "text": [
      "epoch 137| loss: 0.01361 | train_mse: 0.00756 | train_mae: 0.06909 |  0:01:59s\n"
     ]
    },
    {
     "name": "stdout",
     "output_type": "stream",
     "text": [
      "epoch 138| loss: 0.01739 | train_mse: 0.00526 | train_mae: 0.05588 |  0:02:00s\n"
     ]
    },
    {
     "name": "stdout",
     "output_type": "stream",
     "text": [
      "epoch 139| loss: 0.01073 | train_mse: 0.00487 | train_mae: 0.0535  |  0:02:00s\n"
     ]
    },
    {
     "name": "stdout",
     "output_type": "stream",
     "text": [
      "epoch 140| loss: 0.02167 | train_mse: 0.00617 | train_mae: 0.05831 |  0:02:01s\n"
     ]
    },
    {
     "name": "stdout",
     "output_type": "stream",
     "text": [
      "epoch 141| loss: 0.02568 | train_mse: 0.01204 | train_mae: 0.08048 |  0:02:02s\n"
     ]
    },
    {
     "name": "stdout",
     "output_type": "stream",
     "text": [
      "epoch 142| loss: 0.01302 | train_mse: 0.00668 | train_mae: 0.06504 |  0:02:02s\n"
     ]
    },
    {
     "name": "stdout",
     "output_type": "stream",
     "text": [
      "epoch 143| loss: 0.01666 | train_mse: 0.00524 | train_mae: 0.05747 |  0:02:03s\n"
     ]
    },
    {
     "name": "stdout",
     "output_type": "stream",
     "text": [
      "epoch 144| loss: 0.02054 | train_mse: 0.006   | train_mae: 0.05478 |  0:02:04s\n"
     ]
    },
    {
     "name": "stdout",
     "output_type": "stream",
     "text": [
      "epoch 145| loss: 0.01493 | train_mse: 0.00582 | train_mae: 0.05799 |  0:02:04s\n"
     ]
    },
    {
     "name": "stdout",
     "output_type": "stream",
     "text": [
      "epoch 146| loss: 0.02146 | train_mse: 0.01398 | train_mae: 0.08826 |  0:02:05s\n"
     ]
    },
    {
     "name": "stdout",
     "output_type": "stream",
     "text": [
      "epoch 147| loss: 0.02836 | train_mse: 0.01076 | train_mae: 0.07486 |  0:02:06s\n"
     ]
    },
    {
     "name": "stdout",
     "output_type": "stream",
     "text": [
      "epoch 148| loss: 0.02785 | train_mse: 0.00575 | train_mae: 0.05833 |  0:02:06s\n"
     ]
    },
    {
     "name": "stdout",
     "output_type": "stream",
     "text": [
      "epoch 149| loss: 0.02968 | train_mse: 0.00925 | train_mae: 0.07223 |  0:02:07s\n"
     ]
    },
    {
     "name": "stdout",
     "output_type": "stream",
     "text": [
      "epoch 150| loss: 0.02774 | train_mse: 0.02254 | train_mae: 0.11182 |  0:02:07s\n"
     ]
    },
    {
     "name": "stdout",
     "output_type": "stream",
     "text": [
      "epoch 151| loss: 0.03055 | train_mse: 0.0196  | train_mae: 0.09657 |  0:02:08s\n"
     ]
    },
    {
     "name": "stdout",
     "output_type": "stream",
     "text": [
      "epoch 152| loss: 0.03183 | train_mse: 0.02143 | train_mae: 0.10694 |  0:02:09s\n"
     ]
    },
    {
     "name": "stdout",
     "output_type": "stream",
     "text": [
      "epoch 153| loss: 0.03112 | train_mse: 0.01026 | train_mae: 0.07029 |  0:02:09s\n"
     ]
    },
    {
     "name": "stdout",
     "output_type": "stream",
     "text": [
      "epoch 154| loss: 0.02051 | train_mse: 0.00899 | train_mae: 0.07225 |  0:02:10s\n"
     ]
    },
    {
     "name": "stdout",
     "output_type": "stream",
     "text": [
      "epoch 155| loss: 0.02126 | train_mse: 0.01065 | train_mae: 0.0709  |  0:02:10s\n"
     ]
    },
    {
     "name": "stdout",
     "output_type": "stream",
     "text": [
      "epoch 156| loss: 0.0208  | train_mse: 0.00931 | train_mae: 0.07547 |  0:02:11s\n"
     ]
    },
    {
     "name": "stdout",
     "output_type": "stream",
     "text": [
      "epoch 157| loss: 0.02057 | train_mse: 0.00569 | train_mae: 0.05642 |  0:02:12s\n"
     ]
    },
    {
     "name": "stdout",
     "output_type": "stream",
     "text": [
      "epoch 158| loss: 0.01988 | train_mse: 0.01534 | train_mae: 0.09664 |  0:02:12s\n"
     ]
    },
    {
     "name": "stdout",
     "output_type": "stream",
     "text": [
      "epoch 159| loss: 0.02966 | train_mse: 0.00623 | train_mae: 0.0605  |  0:02:13s\n"
     ]
    },
    {
     "name": "stdout",
     "output_type": "stream",
     "text": [
      "epoch 160| loss: 0.0333  | train_mse: 0.02365 | train_mae: 0.11353 |  0:02:13s\n",
      "\n",
      "Early stopping occurred at epoch 160 with best_epoch = 110 and best_train_mae = 0.0521\n",
      "Best weights from best epoch are automatically used!\n",
      "BEST VALID SCORE FOR dataset : 0.05210053821724156\n",
      "FINAL TEST SCORE FOR dataset: 0.05501452014004948\n",
      "{'loss': [0.9258493784972821, 0.3395767580802744, 0.2643147714751551, 0.19365296748251404, 0.2169951971268421, 0.15931760857081956, 0.14843823554461477, 0.17981274275515677, 0.12847821936254003, 0.11516287369526171, 0.13140333028880316, 0.10088171550233511, 0.10522081438415602, 0.11263205193541337, 0.10295790911982813, 0.09400560471444643, 0.10559671199865373, 0.09425510815572273, 0.07907808356059878, 0.08589660131193527, 0.0690408005873621, 0.07344662779123076, 0.05894391059098881, 0.06011194025897436, 0.08111901746316531, 0.07310220077391168, 0.07207476641339665, 0.0783378488660247, 0.06901576092120879, 0.07118603727910729, 0.061838103719176994, 0.049679639697657346, 0.03964845918677141, 0.05302865809308978, 0.042890064005743016, 0.042408464203440015, 0.04482723535903114, 0.07077893852605105, 0.05081505001240474, 0.034492345369066015, 0.03704596691877135, 0.036764070840631324, 0.028601832129667947, 0.038377042993272166, 0.04483750545046617, 0.04569635761094793, 0.04156516705933922, 0.04573482264694834, 0.039204122747388645, 0.028860170430585693, 0.036275995039784556, 0.02990632021271833, 0.03085605620561283, 0.03506398807713574, 0.023281448159718745, 0.024382412215203337, 0.02673336637816134, 0.028493585823413214, 0.02720604227789062, 0.023220815565376408, 0.03207101186901234, 0.02520305526227438, 0.05844841259213146, 0.0334730534920475, 0.0370386264951299, 0.024358250370631388, 0.02544962859891525, 0.031612608739529834, 0.02322972211562073, 0.019570113757340062, 0.0249337369048246, 0.022183860964611998, 0.01756001027840939, 0.020763164986810776, 0.02278679497661342, 0.023944539603464765, 0.02982462381986531, 0.02809185731294489, 0.02546151380391385, 0.033136908413921196, 0.024997219928701072, 0.037148924841748775, 0.03336814361402965, 0.025033450281969502, 0.026677171017137336, 0.02593167920988235, 0.0239788619285686, 0.020642125985133142, 0.023377478802242963, 0.02202779137156297, 0.021503596988291226, 0.02174483591551113, 0.03273906277231751, 0.02728913690445866, 0.025287803541565564, 0.022455650257365324, 0.03269074590276041, 0.026502204494678237, 0.02134444694116663, 0.022929443914067087, 0.018172353542491745, 0.018482936006221397, 0.030496213888500722, 0.03642144211922872, 0.02395858520987756, 0.053687165366904356, 0.055728619026341734, 0.028657470395976634, 0.025094107861239282, 0.021955828470593554, 0.01983963681160433, 0.026747944470531387, 0.018998249612918506, 0.02711641451143675, 0.03607538058528683, 0.025035995747347998, 0.020004086633264435, 0.019220177945756756, 0.018728470884821703, 0.01975684933340122, 0.016693885022537717, 0.03039576642288059, 0.01968276210080723, 0.036016780361290475, 0.03226874754172583, 0.03280429112503505, 0.026985064112499405, 0.01738830019965622, 0.03231114027748667, 0.020522839495918262, 0.03760819564230668, 0.03393996936490559, 0.02324088983213474, 0.02650779793918715, 0.026936733385347775, 0.025893609230603767, 0.022488346074613762, 0.013613495162721565, 0.017392433861252346, 0.010731551420028514, 0.0216670439181188, 0.025680658489417172, 0.013022148550915796, 0.01666180018930171, 0.020536101383766832, 0.014927103775720254, 0.021456582684082005, 0.02836062521324872, 0.027851659768179108, 0.02967654687962237, 0.027738532239528744, 0.030551913846587512, 0.031826552743826314, 0.031118210581061505, 0.020513979681685616, 0.021259154651180542, 0.020797963296624464, 0.0205711255438553, 0.01988161523319805, 0.02966401718726764, 0.03329718811892531], 'lr': [0.01, 0.01, 0.01, 0.01, 0.01, 0.01, 0.01, 0.01, 0.01, 0.01, 0.01, 0.01, 0.01, 0.01, 0.01, 0.01, 0.01, 0.01, 0.01, 0.01, 0.01, 0.01, 0.01, 0.01, 0.01, 0.01, 0.01, 0.01, 0.01, 0.01, 0.01, 0.01, 0.01, 0.01, 0.01, 0.01, 0.01, 0.01, 0.01, 0.01, 0.01, 0.01, 0.01, 0.01, 0.01, 0.01, 0.01, 0.01, 0.01, 0.01, 0.01, 0.01, 0.01, 0.01, 0.01, 0.01, 0.01, 0.01, 0.01, 0.01, 0.01, 0.01, 0.01, 0.01, 0.01, 0.01, 0.01, 0.01, 0.01, 0.01, 0.01, 0.01, 0.01, 0.01, 0.01, 0.01, 0.01, 0.01, 0.01, 0.01, 0.01, 0.01, 0.01, 0.01, 0.01, 0.01, 0.01, 0.01, 0.01, 0.01, 0.01, 0.01, 0.01, 0.01, 0.01, 0.01, 0.01, 0.01, 0.01, 0.01, 0.01, 0.01, 0.01, 0.01, 0.01, 0.01, 0.01, 0.01, 0.01, 0.01, 0.01, 0.01, 0.01, 0.01, 0.01, 0.01, 0.01, 0.01, 0.01, 0.01, 0.01, 0.01, 0.01, 0.01, 0.01, 0.01, 0.01, 0.01, 0.01, 0.01, 0.01, 0.01, 0.01, 0.01, 0.01, 0.01, 0.01, 0.01, 0.01, 0.01, 0.01, 0.01, 0.01, 0.01, 0.01, 0.01, 0.01, 0.01, 0.01, 0.01, 0.01, 0.01, 0.01, 0.01, 0.01, 0.01, 0.01, 0.01, 0.01, 0.01, 0.01], 'train_mse': [0.7031369788551715, 0.30314134644909907, 0.15231081278522307, 0.17903146926316144, 0.1469265683073765, 0.1496578339897286, 0.13825386902909892, 0.1366666631296008, 0.10205696059300845, 0.09122165980273393, 0.07596436388415573, 0.06853930228080718, 0.05740209585326452, 0.06046060827063214, 0.05891967494428501, 0.060474794480592176, 0.062263162216123755, 0.06402661439281201, 0.0566487409811727, 0.04265153307138864, 0.03850847140463619, 0.03555384251718074, 0.030635815566775887, 0.034452005183758454, 0.0355811775215782, 0.03803678170551034, 0.047794823224125746, 0.029773008494751653, 0.02967758393509988, 0.032585064068197785, 0.026940885412006947, 0.01974149704548684, 0.01601421216879552, 0.018356647420959375, 0.02578035317389894, 0.02681649086685069, 0.01320493648823868, 0.014806474016397161, 0.020967709816106624, 0.013610941164420107, 0.012387676497530791, 0.013317891250697694, 0.011525135943816975, 0.011446132966388871, 0.020208507868457206, 0.019139684850252303, 0.013747424195401588, 0.015876322707969313, 0.014473670480154159, 0.010427977911926569, 0.016116476863698645, 0.014874446173289486, 0.010493498151681904, 0.01208990843538134, 0.012005233659936594, 0.01921032777515276, 0.02487703583866115, 0.00892402675194058, 0.010743874026604901, 0.01153126958936916, 0.01046634065323664, 0.008927417330804144, 0.00683717898954153, 0.007706030327741873, 0.017660887889261786, 0.01238505407536566, 0.008467651004011784, 0.014185759882893114, 0.006185524118026721, 0.0073300696963843216, 0.010462190661940506, 0.01443097104031536, 0.005997474343615048, 0.00786582533210692, 0.007184732728342015, 0.0330134612872221, 0.013139969782678096, 0.015579374510128573, 0.014115148588390499, 0.016885646911637468, 0.02295859919162323, 0.011377253426362963, 0.014972229417838611, 0.011527140626236713, 0.0101336853751001, 0.006460813335373726, 0.010344619640417286, 0.007259568389964085, 0.005581521973991016, 0.005891179107415328, 0.005945550223036006, 0.006401869324072452, 0.01247385422407347, 0.006070169627391456, 0.005705632849921922, 0.011565177246551836, 0.007521447830388201, 0.007867086421105675, 0.007895138487143401, 0.0074943286178691, 0.014742691395533872, 0.007478971394624577, 0.013029352517039917, 0.04871620912461965, 0.0163976285666132, 0.015646210709329818, 0.022915876070870093, 0.014032047330417333, 0.012467688200831365, 0.013732793671867596, 0.0041957183452469285, 0.022070842864160167, 0.005887003041660218, 0.01007703671425733, 0.007890478615670434, 0.012696074821826026, 0.01420474762379718, 0.006948250667029823, 0.007279358199485285, 0.009516807333647107, 0.011855376441111983, 0.011665558700217316, 0.007450041684745866, 0.008716426931352314, 0.008157745955873036, 0.009591925690550073, 0.01076570638099817, 0.007411512865287503, 0.01426798594992568, 0.005953535703175465, 0.009560814952389605, 0.010533715626099224, 0.005165411720365204, 0.009631319686789564, 0.009276210216140297, 0.010886637959404269, 0.00543022841584809, 0.007556454147582282, 0.0052624350087064195, 0.004865993634397118, 0.0061734281917057, 0.01203794107169819, 0.006676467018104939, 0.005240079607596147, 0.006000839585691884, 0.005818428859703432, 0.013979884488101628, 0.010762471296255283, 0.005751331541004482, 0.009247708937959127, 0.022543638972143495, 0.01960235506023505, 0.021434068061648198, 0.01025614986021774, 0.008991022698167124, 0.010647498027407483, 0.009310417615073266, 0.005688949867825286, 0.015338860902221724, 0.0062310992877051994, 0.023649803580470048], 'train_mae': [0.6844248900560607, 0.43598698931330615, 0.3067896795922189, 0.3286337993844032, 0.29424704532384055, 0.29429869287406407, 0.29257252125009214, 0.2956819666730081, 0.2476670658085813, 0.22522606381285934, 0.21053397203935764, 0.20641772718046933, 0.18282190848245025, 0.1919083156832135, 0.17192083822799392, 0.18765926761586127, 0.17417105826450696, 0.18246701967005802, 0.17759331203930134, 0.1581617965349668, 0.14680191990577712, 0.1366061325512143, 0.12675264646451315, 0.143823978996394, 0.14612319432115717, 0.14697808676407834, 0.15693373977191127, 0.1351967628916639, 0.13412705887211052, 0.13688407626632862, 0.12799035710465462, 0.10742392307573283, 0.09376916616068541, 0.10387806177448325, 0.10792195538302277, 0.12224322833207553, 0.08943684811943985, 0.09219227834188483, 0.10003371712703181, 0.08964817096165126, 0.08162659288746638, 0.09124171650687957, 0.08246626709125228, 0.08062942615221462, 0.10561168660416291, 0.10802940915290975, 0.09318295553539989, 0.09310935026857416, 0.08808274824585602, 0.07534452976600453, 0.1034422948591884, 0.0969391039026793, 0.08042572928473836, 0.08386469321781621, 0.08727799113304498, 0.10849090750441097, 0.119392186527965, 0.07449927505788859, 0.07918551594577278, 0.08291942394606147, 0.07433167430476251, 0.07415584091206939, 0.06290754719958774, 0.06605425858056779, 0.08452949604852061, 0.0862829240570833, 0.07124838967327807, 0.09522765631270798, 0.06102529910203295, 0.06757262861088012, 0.0753597648978343, 0.08363320411722124, 0.059229459225713356, 0.06847207427180123, 0.0660465379776024, 0.12818532998793114, 0.08988598729878822, 0.09808623673038051, 0.08629560690071449, 0.10461952878893276, 0.11104675614005437, 0.08376866970357184, 0.09013127824410576, 0.08020402981957181, 0.07358975008282731, 0.06390423759324844, 0.07377886625170135, 0.06645431383590335, 0.05485811083280166, 0.05902860202894602, 0.0597089971638575, 0.06388658609109911, 0.08740231199062283, 0.059816311898515745, 0.05858399905864996, 0.07318165781958591, 0.06761506665627821, 0.06864084262856837, 0.07041565053106609, 0.06887226282901952, 0.09998050114218482, 0.06770897805556604, 0.0890007413858096, 0.1229276875764604, 0.10381397585433882, 0.08768093028923264, 0.09783857323135418, 0.09389739342823097, 0.08348915524744609, 0.10129541699502097, 0.05210053821724156, 0.11259870317026434, 0.059690844387716324, 0.06894744478632264, 0.06950448523052914, 0.08556656518381009, 0.09983760737465759, 0.06435132652596676, 0.06651137637336668, 0.07822725933814431, 0.09051878204075646, 0.08275670999286726, 0.06921891971665753, 0.07339512701185087, 0.07124318309590041, 0.07942895292703145, 0.08034535367373064, 0.06830844360775641, 0.0899296683967908, 0.059803561392098976, 0.07167859677773965, 0.07750898213128958, 0.05669083457807214, 0.07350741912535912, 0.07303077356206386, 0.0751859433724692, 0.05871205891741832, 0.06909316155415, 0.055884821300832103, 0.05350038322926372, 0.05831111920877639, 0.08048385589194763, 0.06503785489904094, 0.05746817260990357, 0.05478041233463974, 0.057994985850288845, 0.08825566577896186, 0.07486247589260744, 0.05832882996061655, 0.07222551728134008, 0.11182371528975574, 0.09656765293515004, 0.10694213554331798, 0.07028659678930847, 0.07225218922046346, 0.07089756796712972, 0.07546549855408782, 0.05642433936293234, 0.09663705343871558, 0.06050124281192328, 0.1135254046597128]}\n"
     ]
    },
    {
     "data": {
      "application/scrapbook.scrap.json+json": {
       "data": 0.05501452014004948,
       "encoder": "json",
       "name": "TabNet MAE",
       "version": 1
      }
     },
     "metadata": {
      "scrapbook": {
       "data": true,
       "display": false,
       "name": "TabNet MAE"
      }
     },
     "output_type": "display_data"
    },
    {
     "name": "stdout",
     "output_type": "stream",
     "text": [
      "TabNet MAE 0.05501452014004948\n"
     ]
    },
    {
     "data": {
      "image/png": "[encoded data removed]",
      "text/plain": [
       "<Figure size 432x288 with 1 Axes>"
      ]
     },
     "metadata": {
      "needs_background": "light"
     },
     "output_type": "display_data"
    }
   ],
   "source": [
    "lr = 0.01\n",
    "\n",
    "y_train = np.reshape(y_train, (-1, 1))\n",
    "y_test = np.reshape(y_test, (-1, 1))\n",
    "\n",
    "device = torch.device('cuda' if torch.cuda.is_available() else 'cpu')\n",
    "mae_tab= baselineModels.tabnetreg(X_train,y_train,X_test,y_test,batch_size,n_features,n_target,n_epochs, lr)\n",
    "sb.glue(\"TabNet MAE\",mae_tab)\n",
    "print(\"TabNet MAE\",mae_tab)"
   ]
  }
 ],
 "metadata": {
  "kernelspec": {
   "display_name": "Python 3.7.3 64-bit",
   "language": "python",
   "name": "python3"
  },
  "language_info": {
   "codemirror_mode": {
    "name": "ipython",
    "version": 3
   },
   "file_extension": ".py",
   "mimetype": "text/x-python",
   "name": "python",
   "nbconvert_exporter": "python",
   "pygments_lexer": "ipython3",
   "version": "3.8.13"
  },
  "papermill": {
   "default_parameters": {},
   "duration": 154.204332,
   "end_time": "2022-07-24T10:50:16.984174",
   "environment_variables": {},
   "exception": null,
   "input_path": "BaselineModels.ipynb",
   "output_path": "./BaseLine_Model_Output/BaselineModels_output_9.ipynb",
   "parameters": {},
   "start_time": "2022-07-24T10:47:42.779842",
   "version": "2.3.3"
  },
  "vscode": {
   "interpreter": {
    "hash": "aee8b7b246df8f9039afb4144a1f6fd8d2ca17a180786b69acc140d282b71a49"
   }
  }
 },
 "nbformat": 4,
 "nbformat_minor": 5
}