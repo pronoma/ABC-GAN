{
 "cells": [
  {
   "cell_type": "markdown",
   "id": "9303128e",
   "metadata": {
    "tags": [
     "papermill-error-cell-tag"
    ]
   },
   "source": [
    "<span style=\"color:red; font-family:Helvetica Neue, Helvetica, Arial, sans-serif; font-size:2em;\">An Exception was encountered at '<a href=\"#papermill-error-cell\">In [6]</a>'.</span>"
   ]
  },
  {
   "cell_type": "code",
   "execution_count": 1,
   "id": "423b7ca4",
   "metadata": {
    "execution": {
     "iopub.execute_input": "2022-07-24T11:13:10.071138Z",
     "iopub.status.busy": "2022-07-24T11:13:10.069898Z",
     "iopub.status.idle": "2022-07-24T11:13:10.095525Z",
     "shell.execute_reply": "2022-07-24T11:13:10.092342Z"
    },
    "papermill": {
     "duration": 0.05109,
     "end_time": "2022-07-24T11:13:10.101931",
     "exception": false,
     "start_time": "2022-07-24T11:13:10.050841",
     "status": "completed"
    },
    "tags": []
   },
   "outputs": [],
   "source": [
    "import warnings\n",
    "warnings.filterwarnings('ignore')"
   ]
  },
  {
   "cell_type": "code",
   "execution_count": 2,
   "id": "618121c9",
   "metadata": {
    "execution": {
     "iopub.execute_input": "2022-07-24T11:13:10.118435Z",
     "iopub.status.busy": "2022-07-24T11:13:10.118054Z",
     "iopub.status.idle": "2022-07-24T11:13:15.430240Z",
     "shell.execute_reply": "2022-07-24T11:13:15.428925Z"
    },
    "papermill": {
     "duration": 5.323921,
     "end_time": "2022-07-24T11:13:15.433400",
     "exception": false,
     "start_time": "2022-07-24T11:13:10.109479",
     "status": "completed"
    },
    "tags": []
   },
   "outputs": [],
   "source": [
    "import scrapbook as sb \n",
    "import pandas as pd\n",
    "import numpy as np \n",
    "import seaborn as sns \n",
    "import numpy as np\n",
    "from statistics import mean , median\n",
    "import matplotlib.pyplot as plt"
   ]
  },
  {
   "cell_type": "markdown",
   "id": "8842137f",
   "metadata": {
    "papermill": {
     "duration": 0.065602,
     "end_time": "2022-07-24T11:13:15.506807",
     "exception": false,
     "start_time": "2022-07-24T11:13:15.441205",
     "status": "completed"
    },
    "tags": []
   },
   "source": [
    "# Baseline "
   ]
  },
  {
   "cell_type": "code",
   "execution_count": 3,
   "id": "a9dce367",
   "metadata": {
    "execution": {
     "iopub.execute_input": "2022-07-24T11:13:15.630712Z",
     "iopub.status.busy": "2022-07-24T11:13:15.607166Z",
     "iopub.status.idle": "2022-07-24T11:13:16.950310Z",
     "shell.execute_reply": "2022-07-24T11:13:16.946351Z"
    },
    "papermill": {
     "duration": 1.43932,
     "end_time": "2022-07-24T11:13:16.953042",
     "exception": false,
     "start_time": "2022-07-24T11:13:15.513722",
     "status": "completed"
    },
    "tags": []
   },
   "outputs": [
    {
     "name": "stdout",
     "output_type": "stream",
     "text": [
      "0.20085925355447606\n",
      "0.02016716867230926\n",
      "0.05436785171892624\n"
     ]
    }
   ],
   "source": [
    "books = sb.read_notebooks(\"./BaseLine_Model_Output\")\n",
    "baseLine_data = []\n",
    "for nb in books.notebooks: \n",
    "    nbList=[nb.scraps['Stats Model MAE'].data,nb.scraps['Catboost MAE'].data,nb.scraps['TabNet MAE'].data]\n",
    "    baseLine_data.append(nbList)\n",
    "df = pd.DataFrame(baseLine_data, columns = [\"Stats Model\",\"Catboost\", \"TabNet\"])\n",
    "baseline_data = np.array(baseLine_data)\n",
    "stats = median(baseline_data[:,0])\n",
    "catboost = median(baseline_data[:,1])\n",
    "tabnet = median(baseline_data[:,2])\n",
    "print(stats)\n",
    "print(catboost)\n",
    "print(tabnet)"
   ]
  },
  {
   "cell_type": "markdown",
   "id": "2ef4d014",
   "metadata": {
    "papermill": {
     "duration": 0.008229,
     "end_time": "2022-07-24T11:13:16.967965",
     "exception": false,
     "start_time": "2022-07-24T11:13:16.959736",
     "status": "completed"
    },
    "tags": []
   },
   "source": [
    "# GAN Model"
   ]
  },
  {
   "cell_type": "code",
   "execution_count": 4,
   "id": "ce2d028d",
   "metadata": {
    "execution": {
     "iopub.execute_input": "2022-07-24T11:13:16.987799Z",
     "iopub.status.busy": "2022-07-24T11:13:16.987328Z",
     "iopub.status.idle": "2022-07-24T11:13:19.306601Z",
     "shell.execute_reply": "2022-07-24T11:13:19.294375Z"
    },
    "papermill": {
     "duration": 2.339858,
     "end_time": "2022-07-24T11:13:19.313317",
     "exception": false,
     "start_time": "2022-07-24T11:13:16.973459",
     "status": "completed"
    },
    "tags": []
   },
   "outputs": [
    {
     "data": {
      "text/html": [
       "<style type=\"text/css\">\n",
       "</style>\n",
       "<table id=\"T_e8d32\">\n",
       "  <thead>\n",
       "    <tr>\n",
       "      <th class=\"blank level0\" >&nbsp;</th>\n",
       "      <th id=\"T_e8d32_level0_col0\" class=\"col_heading level0 col0\" >MSE</th>\n",
       "      <th id=\"T_e8d32_level0_col1\" class=\"col_heading level0 col1\" >MAE</th>\n",
       "      <th id=\"T_e8d32_level0_col2\" class=\"col_heading level0 col2\" >Euclidean Distance</th>\n",
       "      <th id=\"T_e8d32_level0_col3\" class=\"col_heading level0 col3\" >Manhattan Distance</th>\n",
       "    </tr>\n",
       "  </thead>\n",
       "  <tbody>\n",
       "    <tr>\n",
       "      <th id=\"T_e8d32_level0_row0\" class=\"row_heading level0 row0\" >0</th>\n",
       "      <td id=\"T_e8d32_row0_col0\" class=\"data row0 col0\" >0.237758</td>\n",
       "      <td id=\"T_e8d32_row0_col1\" class=\"data row0 col1\" >0.289126</td>\n",
       "      <td id=\"T_e8d32_row0_col2\" class=\"data row0 col2\" >4.924161</td>\n",
       "      <td id=\"T_e8d32_row0_col3\" class=\"data row0 col3\" >29.490850</td>\n",
       "    </tr>\n",
       "    <tr>\n",
       "      <th id=\"T_e8d32_level0_row1\" class=\"row_heading level0 row1\" >1</th>\n",
       "      <td id=\"T_e8d32_row1_col0\" class=\"data row1 col0\" >0.154385</td>\n",
       "      <td id=\"T_e8d32_row1_col1\" class=\"data row1 col1\" >0.177607</td>\n",
       "      <td id=\"T_e8d32_row1_col2\" class=\"data row1 col2\" >4.875983</td>\n",
       "      <td id=\"T_e8d32_row1_col3\" class=\"data row1 col3\" >27.351545</td>\n",
       "    </tr>\n",
       "    <tr>\n",
       "      <th id=\"T_e8d32_level0_row2\" class=\"row_heading level0 row2\" >2</th>\n",
       "      <td id=\"T_e8d32_row2_col0\" class=\"data row2 col0\" >0.115848</td>\n",
       "      <td id=\"T_e8d32_row2_col1\" class=\"data row2 col1\" >0.166272</td>\n",
       "      <td id=\"T_e8d32_row2_col2\" class=\"data row2 col2\" >4.223787</td>\n",
       "      <td id=\"T_e8d32_row2_col3\" class=\"data row2 col3\" >25.605911</td>\n",
       "    </tr>\n",
       "    <tr>\n",
       "      <th id=\"T_e8d32_level0_row3\" class=\"row_heading level0 row3\" >3</th>\n",
       "      <td id=\"T_e8d32_row3_col0\" class=\"data row3 col0\" >0.050628</td>\n",
       "      <td id=\"T_e8d32_row3_col1\" class=\"data row3 col1\" >0.130315</td>\n",
       "      <td id=\"T_e8d32_row3_col2\" class=\"data row3 col2\" >2.792225</td>\n",
       "      <td id=\"T_e8d32_row3_col3\" class=\"data row3 col3\" >20.068474</td>\n",
       "    </tr>\n",
       "    <tr>\n",
       "      <th id=\"T_e8d32_level0_row4\" class=\"row_heading level0 row4\" >4</th>\n",
       "      <td id=\"T_e8d32_row4_col0\" class=\"data row4 col0\" >0.146849</td>\n",
       "      <td id=\"T_e8d32_row4_col1\" class=\"data row4 col1\" >0.170231</td>\n",
       "      <td id=\"T_e8d32_row4_col2\" class=\"data row4 col2\" >4.755492</td>\n",
       "      <td id=\"T_e8d32_row4_col3\" class=\"data row4 col3\" >26.215588</td>\n",
       "    </tr>\n",
       "    <tr>\n",
       "      <th id=\"T_e8d32_level0_row5\" class=\"row_heading level0 row5\" >5</th>\n",
       "      <td id=\"T_e8d32_row5_col0\" class=\"data row5 col0\" >0.063462</td>\n",
       "      <td id=\"T_e8d32_row5_col1\" class=\"data row5 col1\" >0.137715</td>\n",
       "      <td id=\"T_e8d32_row5_col2\" class=\"data row5 col2\" >3.126184</td>\n",
       "      <td id=\"T_e8d32_row5_col3\" class=\"data row5 col3\" >21.208105</td>\n",
       "    </tr>\n",
       "    <tr>\n",
       "      <th id=\"T_e8d32_level0_row6\" class=\"row_heading level0 row6\" >6</th>\n",
       "      <td id=\"T_e8d32_row6_col0\" class=\"data row6 col0\" >0.234429</td>\n",
       "      <td id=\"T_e8d32_row6_col1\" class=\"data row6 col1\" >0.297311</td>\n",
       "      <td id=\"T_e8d32_row6_col2\" class=\"data row6 col2\" >4.889643</td>\n",
       "      <td id=\"T_e8d32_row6_col3\" class=\"data row6 col3\" >30.325744</td>\n",
       "    </tr>\n",
       "    <tr>\n",
       "      <th id=\"T_e8d32_level0_row7\" class=\"row_heading level0 row7\" >7</th>\n",
       "      <td id=\"T_e8d32_row7_col0\" class=\"data row7 col0\" >0.120596</td>\n",
       "      <td id=\"T_e8d32_row7_col1\" class=\"data row7 col1\" >0.227990</td>\n",
       "      <td id=\"T_e8d32_row7_col2\" class=\"data row7 col2\" >3.502377</td>\n",
       "      <td id=\"T_e8d32_row7_col3\" class=\"data row7 col3\" >23.255023</td>\n",
       "    </tr>\n",
       "    <tr>\n",
       "      <th id=\"T_e8d32_level0_row8\" class=\"row_heading level0 row8\" >8</th>\n",
       "      <td id=\"T_e8d32_row8_col0\" class=\"data row8 col0\" >0.174217</td>\n",
       "      <td id=\"T_e8d32_row8_col1\" class=\"data row8 col1\" >0.286393</td>\n",
       "      <td id=\"T_e8d32_row8_col2\" class=\"data row8 col2\" >4.215143</td>\n",
       "      <td id=\"T_e8d32_row8_col3\" class=\"data row8 col3\" >29.212126</td>\n",
       "    </tr>\n",
       "    <tr>\n",
       "      <th id=\"T_e8d32_level0_row9\" class=\"row_heading level0 row9\" >9</th>\n",
       "      <td id=\"T_e8d32_row9_col0\" class=\"data row9 col0\" >0.628786</td>\n",
       "      <td id=\"T_e8d32_row9_col1\" class=\"data row9 col1\" >0.388835</td>\n",
       "      <td id=\"T_e8d32_row9_col2\" class=\"data row9 col2\" >8.008329</td>\n",
       "      <td id=\"T_e8d32_row9_col3\" class=\"data row9 col3\" >39.661177</td>\n",
       "    </tr>\n",
       "  </tbody>\n",
       "</table>\n"
      ],
      "text/plain": [
       "<pandas.io.formats.style.Styler at 0x7fbad78f6850>"
      ]
     },
     "metadata": {},
     "output_type": "display_data"
    },
    {
     "name": "stdout",
     "output_type": "stream",
     "text": [
      "MEDIAN:\n",
      "MSE                    0.150617\n",
      "MAE                    0.202799\n",
      "Euclidean Distance     4.489639\n",
      "Manhattan Distance    26.783566\n",
      "dtype: float64\n",
      "0.20279892991634801\n"
     ]
    }
   ],
   "source": [
    "book = sb.read_notebooks(\"./GAN_Output\")\n",
    "gan_data = []\n",
    "gan_mse = []\n",
    "for nb in book.notebooks:\n",
    "    metrics = nb.scraps['GAN_1 Metrics'].data\n",
    "    for i in range(1000):\n",
    "        gan_mse.append(metrics[0][i])\n",
    "    nbList = [nb.scraps['GAN Model MSE'].data,\n",
    "              nb.scraps['GAN Model MAE'].data,\n",
    "              nb.scraps['GAN Model Euclidean distance'].data,\n",
    "              nb.scraps['GAN Model Manhattan Distance'].data]        \n",
    "    gan_data.append(nbList)\n",
    "    \n",
    "df = pd.DataFrame(gan_data, columns = ['MSE','MAE','Euclidean Distance','Manhattan Distance'])\n",
    "display(df.style)\n",
    "print(\"MEDIAN:\")\n",
    "print(df.median(axis = 0))\n",
    "gan_data = np.array(gan_data)\n",
    "gan_median = median(gan_data[:,1])\n",
    "print(gan_median)"
   ]
  },
  {
   "cell_type": "markdown",
   "id": "0ba74033",
   "metadata": {
    "papermill": {
     "duration": 0.010719,
     "end_time": "2022-07-24T11:13:19.328900",
     "exception": false,
     "start_time": "2022-07-24T11:13:19.318181",
     "status": "completed"
    },
    "tags": []
   },
   "source": [
    "# GAN Model with TabNet generator"
   ]
  },
  {
   "cell_type": "code",
   "execution_count": 5,
   "id": "6515b528",
   "metadata": {
    "execution": {
     "iopub.execute_input": "2022-07-24T11:13:19.350233Z",
     "iopub.status.busy": "2022-07-24T11:13:19.345517Z",
     "iopub.status.idle": "2022-07-24T11:13:21.021442Z",
     "shell.execute_reply": "2022-07-24T11:13:21.017953Z"
    },
    "papermill": {
     "duration": 1.691148,
     "end_time": "2022-07-24T11:13:21.027686",
     "exception": false,
     "start_time": "2022-07-24T11:13:19.336538",
     "status": "completed"
    },
    "tags": []
   },
   "outputs": [
    {
     "data": {
      "text/html": [
       "<style type=\"text/css\">\n",
       "</style>\n",
       "<table id=\"T_94020\">\n",
       "  <thead>\n",
       "    <tr>\n",
       "      <th class=\"blank level0\" >&nbsp;</th>\n",
       "      <th id=\"T_94020_level0_col0\" class=\"col_heading level0 col0\" >MSE</th>\n",
       "      <th id=\"T_94020_level0_col1\" class=\"col_heading level0 col1\" >MAE</th>\n",
       "      <th id=\"T_94020_level0_col2\" class=\"col_heading level0 col2\" >Euclidean Distance</th>\n",
       "      <th id=\"T_94020_level0_col3\" class=\"col_heading level0 col3\" >Manhattan Distance</th>\n",
       "    </tr>\n",
       "  </thead>\n",
       "  <tbody>\n",
       "    <tr>\n",
       "      <th id=\"T_94020_level0_row0\" class=\"row_heading level0 row0\" >0</th>\n",
       "      <td id=\"T_94020_row0_col0\" class=\"data row0 col0\" >0.237758</td>\n",
       "      <td id=\"T_94020_row0_col1\" class=\"data row0 col1\" >0.289126</td>\n",
       "      <td id=\"T_94020_row0_col2\" class=\"data row0 col2\" >4.924161</td>\n",
       "      <td id=\"T_94020_row0_col3\" class=\"data row0 col3\" >29.490850</td>\n",
       "    </tr>\n",
       "    <tr>\n",
       "      <th id=\"T_94020_level0_row1\" class=\"row_heading level0 row1\" >1</th>\n",
       "      <td id=\"T_94020_row1_col0\" class=\"data row1 col0\" >0.154385</td>\n",
       "      <td id=\"T_94020_row1_col1\" class=\"data row1 col1\" >0.177607</td>\n",
       "      <td id=\"T_94020_row1_col2\" class=\"data row1 col2\" >4.875983</td>\n",
       "      <td id=\"T_94020_row1_col3\" class=\"data row1 col3\" >27.351545</td>\n",
       "    </tr>\n",
       "    <tr>\n",
       "      <th id=\"T_94020_level0_row2\" class=\"row_heading level0 row2\" >2</th>\n",
       "      <td id=\"T_94020_row2_col0\" class=\"data row2 col0\" >0.115848</td>\n",
       "      <td id=\"T_94020_row2_col1\" class=\"data row2 col1\" >0.166272</td>\n",
       "      <td id=\"T_94020_row2_col2\" class=\"data row2 col2\" >4.223787</td>\n",
       "      <td id=\"T_94020_row2_col3\" class=\"data row2 col3\" >25.605911</td>\n",
       "    </tr>\n",
       "    <tr>\n",
       "      <th id=\"T_94020_level0_row3\" class=\"row_heading level0 row3\" >3</th>\n",
       "      <td id=\"T_94020_row3_col0\" class=\"data row3 col0\" >0.050628</td>\n",
       "      <td id=\"T_94020_row3_col1\" class=\"data row3 col1\" >0.130315</td>\n",
       "      <td id=\"T_94020_row3_col2\" class=\"data row3 col2\" >2.792225</td>\n",
       "      <td id=\"T_94020_row3_col3\" class=\"data row3 col3\" >20.068474</td>\n",
       "    </tr>\n",
       "    <tr>\n",
       "      <th id=\"T_94020_level0_row4\" class=\"row_heading level0 row4\" >4</th>\n",
       "      <td id=\"T_94020_row4_col0\" class=\"data row4 col0\" >0.146849</td>\n",
       "      <td id=\"T_94020_row4_col1\" class=\"data row4 col1\" >0.170231</td>\n",
       "      <td id=\"T_94020_row4_col2\" class=\"data row4 col2\" >4.755492</td>\n",
       "      <td id=\"T_94020_row4_col3\" class=\"data row4 col3\" >26.215588</td>\n",
       "    </tr>\n",
       "    <tr>\n",
       "      <th id=\"T_94020_level0_row5\" class=\"row_heading level0 row5\" >5</th>\n",
       "      <td id=\"T_94020_row5_col0\" class=\"data row5 col0\" >0.063462</td>\n",
       "      <td id=\"T_94020_row5_col1\" class=\"data row5 col1\" >0.137715</td>\n",
       "      <td id=\"T_94020_row5_col2\" class=\"data row5 col2\" >3.126184</td>\n",
       "      <td id=\"T_94020_row5_col3\" class=\"data row5 col3\" >21.208105</td>\n",
       "    </tr>\n",
       "    <tr>\n",
       "      <th id=\"T_94020_level0_row6\" class=\"row_heading level0 row6\" >6</th>\n",
       "      <td id=\"T_94020_row6_col0\" class=\"data row6 col0\" >0.234429</td>\n",
       "      <td id=\"T_94020_row6_col1\" class=\"data row6 col1\" >0.297311</td>\n",
       "      <td id=\"T_94020_row6_col2\" class=\"data row6 col2\" >4.889643</td>\n",
       "      <td id=\"T_94020_row6_col3\" class=\"data row6 col3\" >30.325744</td>\n",
       "    </tr>\n",
       "    <tr>\n",
       "      <th id=\"T_94020_level0_row7\" class=\"row_heading level0 row7\" >7</th>\n",
       "      <td id=\"T_94020_row7_col0\" class=\"data row7 col0\" >0.120596</td>\n",
       "      <td id=\"T_94020_row7_col1\" class=\"data row7 col1\" >0.227990</td>\n",
       "      <td id=\"T_94020_row7_col2\" class=\"data row7 col2\" >3.502377</td>\n",
       "      <td id=\"T_94020_row7_col3\" class=\"data row7 col3\" >23.255023</td>\n",
       "    </tr>\n",
       "    <tr>\n",
       "      <th id=\"T_94020_level0_row8\" class=\"row_heading level0 row8\" >8</th>\n",
       "      <td id=\"T_94020_row8_col0\" class=\"data row8 col0\" >0.174217</td>\n",
       "      <td id=\"T_94020_row8_col1\" class=\"data row8 col1\" >0.286393</td>\n",
       "      <td id=\"T_94020_row8_col2\" class=\"data row8 col2\" >4.215143</td>\n",
       "      <td id=\"T_94020_row8_col3\" class=\"data row8 col3\" >29.212126</td>\n",
       "    </tr>\n",
       "    <tr>\n",
       "      <th id=\"T_94020_level0_row9\" class=\"row_heading level0 row9\" >9</th>\n",
       "      <td id=\"T_94020_row9_col0\" class=\"data row9 col0\" >0.628786</td>\n",
       "      <td id=\"T_94020_row9_col1\" class=\"data row9 col1\" >0.388835</td>\n",
       "      <td id=\"T_94020_row9_col2\" class=\"data row9 col2\" >8.008329</td>\n",
       "      <td id=\"T_94020_row9_col3\" class=\"data row9 col3\" >39.661177</td>\n",
       "    </tr>\n",
       "  </tbody>\n",
       "</table>\n"
      ],
      "text/plain": [
       "<pandas.io.formats.style.Styler at 0x7fbad94903d0>"
      ]
     },
     "metadata": {},
     "output_type": "display_data"
    },
    {
     "name": "stdout",
     "output_type": "stream",
     "text": [
      "MEDIAN:\n",
      "MSE                    0.150617\n",
      "MAE                    0.202799\n",
      "Euclidean Distance     4.489639\n",
      "Manhattan Distance    26.783566\n",
      "dtype: float64\n",
      "0.20279892991634801\n"
     ]
    }
   ],
   "source": [
    "book = sb.read_notebooks(\"./GAN_Output\")\n",
    "gan_data = []\n",
    "gan_mse = []\n",
    "for nb in book.notebooks:\n",
    "    metrics = nb.scraps[\"GAN_2 Metrics\"].data\n",
    "    for i in range(1000):\n",
    "        gan_mse.append(metrics[0][i])\n",
    "    nbList = [nb.scraps['GAN Model MSE'].data,\n",
    "              nb.scraps['GAN Model MAE'].data,\n",
    "              nb.scraps['GAN Model Euclidean distance'].data,\n",
    "              nb.scraps['GAN Model Manhattan Distance'].data]        \n",
    "    gan_data.append(nbList)\n",
    "    \n",
    "df = pd.DataFrame(gan_data, columns = ['MSE','MAE','Euclidean Distance','Manhattan Distance'])\n",
    "display(df.style)\n",
    "print(\"MEDIAN:\")\n",
    "print(df.median(axis = 0))\n",
    "gan_data = np.array(gan_data)\n",
    "gan_median = median(gan_data[:,1])\n",
    "print(gan_median)"
   ]
  },
  {
   "cell_type": "markdown",
   "id": "db69b3bd",
   "metadata": {
    "papermill": {
     "duration": 0.009896,
     "end_time": "2022-07-24T11:13:21.048511",
     "exception": false,
     "start_time": "2022-07-24T11:13:21.038615",
     "status": "completed"
    },
    "tags": []
   },
   "source": [
    "# ABC_GAN Analysis"
   ]
  },
  {
   "cell_type": "markdown",
   "id": "930ab0e5",
   "metadata": {
    "papermill": {
     "duration": 0.005424,
     "end_time": "2022-07-24T11:13:21.065485",
     "exception": false,
     "start_time": "2022-07-24T11:13:21.060061",
     "status": "completed"
    },
    "tags": []
   },
   "source": [
    "## ABC Pre-generator - Catboost \n"
   ]
  },
  {
   "cell_type": "markdown",
   "id": "37a86fcd",
   "metadata": {
    "tags": [
     "papermill-error-cell-tag"
    ]
   },
   "source": [
    "<span id=\"papermill-error-cell\" style=\"color:red; font-family:Helvetica Neue, Helvetica, Arial, sans-serif; font-size:2em;\">Execution using papermill encountered an exception here and stopped:</span>"
   ]
  },
  {
   "cell_type": "code",
   "execution_count": 6,
   "id": "ea491444",
   "metadata": {
    "execution": {
     "iopub.execute_input": "2022-07-24T11:13:21.100082Z",
     "iopub.status.busy": "2022-07-24T11:13:21.096550Z",
     "iopub.status.idle": "2022-07-24T11:13:25.156799Z",
     "shell.execute_reply": "2022-07-24T11:13:25.152446Z"
    },
    "papermill": {
     "duration": 4.085562,
     "end_time": "2022-07-24T11:13:25.159291",
     "exception": true,
     "start_time": "2022-07-24T11:13:21.073729",
     "status": "failed"
    },
    "tags": []
   },
   "outputs": [
    {
     "ename": "KeyError",
     "evalue": "'Prior Model MAE'",
     "output_type": "error",
     "traceback": [
      "\u001b[0;31m---------------------------------------------------------------------------\u001b[0m",
      "\u001b[0;31mKeyError\u001b[0m                                  Traceback (most recent call last)",
      "Input \u001b[0;32mIn [6]\u001b[0m, in \u001b[0;36m<cell line: 13>\u001b[0;34m()\u001b[0m\n\u001b[1;32m     26\u001b[0m     abc_tab_mae[i]\u001b[38;5;241m.\u001b[39mappend(metrics2[\u001b[38;5;241m1\u001b[39m,j])\n\u001b[1;32m     27\u001b[0m     \u001b[38;5;66;03m# abc_tab_mae_skip[i].append(metrics4[1,j])\u001b[39;00m\n\u001b[1;32m     28\u001b[0m \u001b[38;5;66;03m# abc_weights[i].append(nb.scraps['Skip Connection Weight'].data)\u001b[39;00m\n\u001b[0;32m---> 29\u001b[0m prior_model[i]\u001b[38;5;241m.\u001b[39mappend(\u001b[43mnb\u001b[49m\u001b[38;5;241;43m.\u001b[39;49m\u001b[43mscraps\u001b[49m\u001b[43m[\u001b[49m\u001b[38;5;124;43m'\u001b[39;49m\u001b[38;5;124;43mPrior Model MAE\u001b[39;49m\u001b[38;5;124;43m'\u001b[39;49m\u001b[43m]\u001b[49m\u001b[38;5;241m.\u001b[39mdata)\n\u001b[1;32m     30\u001b[0m abc_pre_generator[i]\u001b[38;5;241m.\u001b[39mappend(nb\u001b[38;5;241m.\u001b[39mscraps[\u001b[38;5;124m'\u001b[39m\u001b[38;5;124mABC Pre-generator MAE\u001b[39m\u001b[38;5;124m'\u001b[39m]\u001b[38;5;241m.\u001b[39mdata)\n\u001b[1;32m     31\u001b[0m \u001b[38;5;66;03m# abc_mae_skip_mean[i].append(mean(metrics3[1,:]))\u001b[39;00m\n\u001b[1;32m     32\u001b[0m \u001b[38;5;66;03m# abc_mae_mean[i].append(mean(metrics1[1,:]))\u001b[39;00m\n",
      "\u001b[0;31mKeyError\u001b[0m: 'Prior Model MAE'"
     ]
    }
   ],
   "source": [
    "book = sb.read_notebooks(\"./ABC_GAN_Stats\")\n",
    "paramVal = [[1,1],[1,0.1],[1,0.01],[1,0],[0.1,1],[0.1,0.1],[0.1,0.01],[0.1,0],[0.01,1],[0.01,0.1],[0.01,0.01],[0.01,0]]\n",
    "abc_mae = [[] for i in range(12)]\n",
    "abc_tab_mae = [[] for i in range(12)]\n",
    "abc_mae_skip = [[] for i in range(12)]\n",
    "abc_tab_mae_skip = [[] for i in range(12)]\n",
    "abc_mae_mean = [[] for i in range(12)]\n",
    "abc_mae_skip_mean = [[] for i in range(12)]\n",
    "abc_weights = [[] for i in range(12)]\n",
    "prior_model = [[] for i in range(12)]\n",
    "abc_pre_generator = [[] for i in range(12)]\n",
    "\n",
    "for nb in book.notebooks:\n",
    "    # metrics1 = np.array(nb.scraps['ABC_GAN_1 Metrics'].data)\n",
    "    metrics2 = np.array(nb.scraps['ABC_GAN_2 Metrics'].data)\n",
    "    # metrics3 = np.array(nb.scraps['ABC_GAN_3 Metrics'].data)\n",
    "    # metrics4 = np.array(nb.scraps['ABC_GAN_4 Metrics'].data)\n",
    "    paramVar = float(nb.papermill_dataframe.iloc[0]['value'])\n",
    "    paramBias = float(nb.papermill_dataframe.iloc[1]['value'])\n",
    "    #Divide data according to parameters \n",
    "    for i in range(12):\n",
    "        if paramVar == paramVal[i][0] and paramBias == paramVal[i][1]:\n",
    "            for j in range(100):\n",
    "                # abc_mae[i].append(metrics1[1,j])\n",
    "                # abc_mae_skip[i].append(metrics3[1,j])\n",
    "                abc_tab_mae[i].append(metrics2[1,j])\n",
    "                # abc_tab_mae_skip[i].append(metrics4[1,j])\n",
    "            # abc_weights[i].append(nb.scraps['Skip Connection Weight'].data)\n",
    "            prior_model[i].append(nb.scraps['Prior Model MAE'].data)\n",
    "            abc_pre_generator[i].append(nb.scraps['ABC Pre-generator MAE'].data)\n",
    "            # abc_mae_skip_mean[i].append(mean(metrics3[1,:]))\n",
    "            # abc_mae_mean[i].append(mean(metrics1[1,:]))\n",
    "            abc_mae_mean[i].append(mean(metrics2[1,:]))"
   ]
  },
  {
   "cell_type": "code",
   "execution_count": null,
   "id": "d0d13f91",
   "metadata": {
    "papermill": {
     "duration": null,
     "end_time": null,
     "exception": null,
     "start_time": null,
     "status": "pending"
    },
    "tags": []
   },
   "outputs": [],
   "source": [
    "\n",
    "data = [[] for i in range(9)]\n",
    "for i in range(9):\n",
    "    for j in range(len(abc_weights[i])):\n",
    "        data[i].append([paramVal[i][0], paramVal[i][1],prior_model[i][j],\n",
    "                     abc_pre_generator[i][j],abc_weights[i][j],abc_mae_mean[i][j],abc_mae_skip_mean[i][j]])\n",
    "    df = pd.DataFrame(data[i], columns = ['Variance','Bias','Prior Model MAE',\n",
    "                                       'ABC pre-generator MAE','Skip Node weight','ABC GAN MAE','ABC_GAN MAE (skip connection)'])\n",
    "    display(df.round(5))\n",
    "    print(df.median(axis=0))\n",
    "    print(\"-------------------------------------------------------------\")"
   ]
  },
  {
   "cell_type": "code",
   "execution_count": null,
   "id": "a9698979",
   "metadata": {
    "papermill": {
     "duration": null,
     "end_time": null,
     "exception": null,
     "start_time": null,
     "status": "pending"
    },
    "tags": []
   },
   "outputs": [],
   "source": [
    "# Display Catboost Summary Tables \n",
    "data = np.array(data)\n",
    "catboostData = []\n",
    "for i in range(9): \n",
    "    catboostData.append([gan_median,catboost, paramVal[i][0], paramVal[i][1],median(data[i][:,3]),median(data[i][:,5]),median(data[i][:,6]),median(data[i][:,4])])\n",
    "df = pd.DataFrame(catboostData, columns = ['GAN','catboost','Variance','Bias','Prior Model MAE','mGAN','skipGAN','Skip Node weight'])\n",
    "display(df.round(5))"
   ]
  },
  {
   "cell_type": "markdown",
   "id": "7e73d069",
   "metadata": {
    "papermill": {
     "duration": null,
     "end_time": null,
     "exception": null,
     "start_time": null,
     "status": "pending"
    },
    "tags": []
   },
   "source": [
    "## ABC Pre-generator - Stats \n"
   ]
  },
  {
   "cell_type": "code",
   "execution_count": null,
   "id": "a33fcbf8",
   "metadata": {
    "papermill": {
     "duration": null,
     "end_time": null,
     "exception": null,
     "start_time": null,
     "status": "pending"
    },
    "tags": []
   },
   "outputs": [],
   "source": [
    "book = sb.read_notebooks(\"./ABC_GAN_Stats\")\n",
    "paramVal = [[1,1],[0.1,1],[0.01,1],[1,0.1],[0.1,0.1],[0.01,0.1],[1,0.01],[0.1,0.01],[0.01,0.01]]\n",
    "abc_mae = [[] for i in range(9)]\n",
    "abc_mae_skip = [[] for i in range(9)]\n",
    "abc_mae_mean = [[] for i in range(9)]\n",
    "abc_mae_skip_mean = [[] for i in range(9)]\n",
    "abc_weights = [[] for i in range(9)]\n",
    "prior_model = [[] for i in range(9)]\n",
    "abc_pre_generator = [[] for i in range(9)]\n",
    "\n",
    "for nb in book.notebooks:\n",
    "    metrics1 = np.array(nb.scraps['ABC_GAN_1 Metrics'].data)\n",
    "    metrics3 = np.array(nb.scraps['ABC_GAN_3 Metrics'].data)\n",
    "    paramVar = float(nb.papermill_dataframe.iloc[0]['value'])\n",
    "    paramBias = float(nb.papermill_dataframe.iloc[1]['value'])\n",
    "    #Divide data according to parameters \n",
    "    for i in range(9):\n",
    "        if paramVar == paramVal[i][0] and paramBias == paramVal[i][1]:\n",
    "            for j in range(100):\n",
    "                abc_mae[i].append(metrics1[1,j])\n",
    "                abc_mae_skip[i].append(metrics3[1,j])\n",
    "            abc_weights[i].append(nb.scraps['Skip Connection Weight'].data)\n",
    "            prior_model[i].append(nb.scraps['Prior Model MSE'].data)\n",
    "            abc_pre_generator[i].append(nb.scraps['ABC Pre-generator MSE'].data)\n",
    "            abc_mae_skip_mean[i].append(mean(metrics3[1,:]))\n",
    "            abc_mae_mean[i].append(mean(metrics1[1,:]))"
   ]
  },
  {
   "cell_type": "code",
   "execution_count": null,
   "id": "cc9be614",
   "metadata": {
    "papermill": {
     "duration": null,
     "end_time": null,
     "exception": null,
     "start_time": null,
     "status": "pending"
    },
    "tags": []
   },
   "outputs": [],
   "source": [
    "data = [[] for i in range(9)]\n",
    "for i in range(9):\n",
    "    for j in range(len(abc_weights[i])):\n",
    "        data[i].append([paramVal[i][0], paramVal[i][1],prior_model[i][j],\n",
    "                     abc_pre_generator[i][j],abc_weights[i][j],abc_mae_mean[i][j],abc_mae_skip_mean[i][j]])\n",
    "    \n",
    "    df = pd.DataFrame(data[i], columns = ['Variance','Bias','Prior Model MAE',\n",
    "                                       'ABC pre-generator MAE','Skip Node weight','ABC GAN MAE','ABC_GAN MAE (skip connection)'])\n",
    "    display(df.round(5))\n",
    "    print(df.median(axis=0))\n",
    "    print(\"-------------------------------------------------------------\")"
   ]
  },
  {
   "cell_type": "code",
   "execution_count": null,
   "id": "dd9bc0fd",
   "metadata": {
    "papermill": {
     "duration": null,
     "end_time": null,
     "exception": null,
     "start_time": null,
     "status": "pending"
    },
    "tags": []
   },
   "outputs": [],
   "source": [
    "# Display Stats Summary Tables \n",
    "statsData = []\n",
    "data = np.array(data)\n",
    "for i in range(9): \n",
    "    data[i] = np.array(data[i])\n",
    "    statsData.append([gan_median,stats, paramVal[i][0], paramVal[i][1],median(data[i][:,3]),median(data[i][:,5]),median(data[i][:,6]),median(data[i][:,4])])\n",
    "    #statsData.append([gan_median,stats, paramVal[i][0], paramVal[i][1]])\n",
    "df = pd.DataFrame(statsData, columns = ['GAN','stats','Variance','Bias','Prior Model MAE','mGAN','skipGAN','Skip Node weight'])\n",
    "display(df.round(5))"
   ]
  }
 ],
 "metadata": {
  "kernelspec": {
   "display_name": "Python 3.7.3 64-bit",
   "language": "python",
   "name": "python3"
  },
  "language_info": {
   "codemirror_mode": {
    "name": "ipython",
    "version": 3
   },
   "file_extension": ".py",
   "mimetype": "text/x-python",
   "name": "python",
   "nbconvert_exporter": "python",
   "pygments_lexer": "ipython3",
   "version": "3.7.3"
  },
  "papermill": {
   "default_parameters": {},
   "duration": 23.59937,
   "end_time": "2022-07-24T11:13:27.555972",
   "environment_variables": {},
   "exception": true,
   "input_path": "Analysis.ipynb",
   "output_path": "Analysis_Out.ipynb",
   "parameters": {},
   "start_time": "2022-07-24T11:13:03.956602",
   "version": "2.3.3"
  },
  "vscode": {
   "interpreter": {
    "hash": "aee8b7b246df8f9039afb4144a1f6fd8d2ca17a180786b69acc140d282b71a49"
   }
  }
 },
 "nbformat": 4,
 "nbformat_minor": 5
}
