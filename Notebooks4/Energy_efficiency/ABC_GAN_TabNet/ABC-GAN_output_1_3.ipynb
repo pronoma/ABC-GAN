{
 "cells": [
  {
   "cell_type": "markdown",
   "id": "622780e6",
   "metadata": {
    "id": "622780e6",
    "papermill": {
     "duration": 0.007712,
     "end_time": "2022-07-25T10:20:33.178352",
     "exception": false,
     "start_time": "2022-07-25T10:20:33.170640",
     "status": "completed"
    },
    "tags": []
   },
   "source": [
    "## Import Libraries "
   ]
  },
  {
   "cell_type": "code",
   "execution_count": 1,
   "id": "a62397e3",
   "metadata": {
    "execution": {
     "iopub.execute_input": "2022-07-25T10:20:33.195391Z",
     "iopub.status.busy": "2022-07-25T10:20:33.194971Z",
     "iopub.status.idle": "2022-07-25T10:20:33.206903Z",
     "shell.execute_reply": "2022-07-25T10:20:33.206018Z"
    },
    "id": "a62397e3",
    "papermill": {
     "duration": 0.024271,
     "end_time": "2022-07-25T10:20:33.209966",
     "exception": false,
     "start_time": "2022-07-25T10:20:33.185695",
     "status": "completed"
    },
    "tags": []
   },
   "outputs": [],
   "source": [
    "import warnings\n",
    "import sys\n",
    "sys.path.insert(0, '../../src')\n",
    "warnings.filterwarnings('ignore')"
   ]
  },
  {
   "cell_type": "code",
   "execution_count": 2,
   "id": "d6a4e155",
   "metadata": {
    "execution": {
     "iopub.execute_input": "2022-07-25T10:20:33.226823Z",
     "iopub.status.busy": "2022-07-25T10:20:33.226329Z",
     "iopub.status.idle": "2022-07-25T10:20:39.190803Z",
     "shell.execute_reply": "2022-07-25T10:20:39.189875Z"
    },
    "id": "d6a4e155",
    "papermill": {
     "duration": 5.976096,
     "end_time": "2022-07-25T10:20:39.193615",
     "exception": false,
     "start_time": "2022-07-25T10:20:33.217519",
     "status": "completed"
    },
    "tags": []
   },
   "outputs": [],
   "source": [
    "import ABC_train_test2\n",
    "import energyefficiencyDataset\n",
    "import network\n",
    "import dataset\n",
    "import sanityChecks\n",
    "import torch \n",
    "import scrapbook as sb\n",
    "from statistics import mean \n",
    "import catboost as ctb \n",
    "from sklearn.model_selection import train_test_split\n",
    "from sklearn.metrics import mean_squared_error,mean_absolute_error\n",
    "import numpy as np\n",
    "from pytorch_tabnet.tab_model import TabNetRegressor"
   ]
  },
  {
   "cell_type": "markdown",
   "id": "2fa5b0f7",
   "metadata": {
    "id": "2fa5b0f7",
    "papermill": {
     "duration": 0.011283,
     "end_time": "2022-07-25T10:20:39.212268",
     "exception": false,
     "start_time": "2022-07-25T10:20:39.200985",
     "status": "completed"
    },
    "tags": []
   },
   "source": [
    "## Parameters "
   ]
  },
  {
   "cell_type": "code",
   "execution_count": 3,
   "id": "783186fb",
   "metadata": {
    "execution": {
     "iopub.execute_input": "2022-07-25T10:20:39.228244Z",
     "iopub.status.busy": "2022-07-25T10:20:39.227916Z",
     "iopub.status.idle": "2022-07-25T10:20:39.232675Z",
     "shell.execute_reply": "2022-07-25T10:20:39.231510Z"
    },
    "id": "783186fb",
    "papermill": {
     "duration": 0.01643,
     "end_time": "2022-07-25T10:20:39.235762",
     "exception": false,
     "start_time": "2022-07-25T10:20:39.219332",
     "status": "completed"
    },
    "tags": [
     "parameters"
    ]
   },
   "outputs": [],
   "source": [
    "variance = 1\n",
    "bias = 1 "
   ]
  },
  {
   "cell_type": "code",
   "execution_count": 4,
   "id": "3c9ce0ff",
   "metadata": {
    "execution": {
     "iopub.execute_input": "2022-07-25T10:20:39.250953Z",
     "iopub.status.busy": "2022-07-25T10:20:39.250643Z",
     "iopub.status.idle": "2022-07-25T10:20:39.255727Z",
     "shell.execute_reply": "2022-07-25T10:20:39.254304Z"
    },
    "papermill": {
     "duration": 0.016416,
     "end_time": "2022-07-25T10:20:39.258749",
     "exception": false,
     "start_time": "2022-07-25T10:20:39.242333",
     "status": "completed"
    },
    "tags": [
     "injected-parameters"
    ]
   },
   "outputs": [],
   "source": [
    "# Parameters\n",
    "variance = 1\n",
    "bias = 0.1\n"
   ]
  },
  {
   "cell_type": "markdown",
   "id": "391cdbfd",
   "metadata": {
    "id": "391cdbfd",
    "papermill": {
     "duration": 0.007198,
     "end_time": "2022-07-25T10:20:39.273310",
     "exception": false,
     "start_time": "2022-07-25T10:20:39.266112",
     "status": "completed"
    },
    "tags": []
   },
   "source": [
    "## Dataset \n"
   ]
  },
  {
   "cell_type": "code",
   "execution_count": 5,
   "id": "5b51f161",
   "metadata": {
    "execution": {
     "iopub.execute_input": "2022-07-25T10:20:39.290313Z",
     "iopub.status.busy": "2022-07-25T10:20:39.289984Z",
     "iopub.status.idle": "2022-07-25T10:20:39.296231Z",
     "shell.execute_reply": "2022-07-25T10:20:39.294440Z"
    },
    "id": "5b51f161",
    "papermill": {
     "duration": 0.018624,
     "end_time": "2022-07-25T10:20:39.299517",
     "exception": false,
     "start_time": "2022-07-25T10:20:39.280893",
     "status": "completed"
    },
    "tags": []
   },
   "outputs": [],
   "source": [
    "#Parameters \n",
    "n_features = 8\n",
    "n_samples= 768\n",
    "n_target = 1 "
   ]
  },
  {
   "cell_type": "code",
   "execution_count": 6,
   "id": "5d6eced4",
   "metadata": {
    "execution": {
     "iopub.execute_input": "2022-07-25T10:20:39.318164Z",
     "iopub.status.busy": "2022-07-25T10:20:39.317820Z",
     "iopub.status.idle": "2022-07-25T10:20:39.905911Z",
     "shell.execute_reply": "2022-07-25T10:20:39.904637Z"
    },
    "id": "5d6eced4",
    "papermill": {
     "duration": 0.601226,
     "end_time": "2022-07-25T10:20:39.908672",
     "exception": false,
     "start_time": "2022-07-25T10:20:39.307446",
     "status": "completed"
    },
    "tags": []
   },
   "outputs": [
    {
     "name": "stdout",
     "output_type": "stream",
     "text": [
      "     X1     X2     X3      X4   X5  X6   X7  X8     Y1     Y2\n",
      "0  0.98  514.5  294.0  110.25  7.0   2  0.0   0  15.55  21.33\n",
      "1  0.98  514.5  294.0  110.25  7.0   3  0.0   0  15.55  21.33\n",
      "2  0.98  514.5  294.0  110.25  7.0   4  0.0   0  15.55  21.33\n",
      "3  0.98  514.5  294.0  110.25  7.0   5  0.0   0  15.55  21.33\n",
      "4  0.90  563.5  318.5  122.50  7.0   2  0.0   0  20.84  28.28\n"
     ]
    }
   ],
   "source": [
    "X,Y = energyefficiencyDataset.energy_data()"
   ]
  },
  {
   "cell_type": "code",
   "execution_count": 7,
   "id": "fe007438",
   "metadata": {
    "execution": {
     "iopub.execute_input": "2022-07-25T10:20:39.925652Z",
     "iopub.status.busy": "2022-07-25T10:20:39.925265Z",
     "iopub.status.idle": "2022-07-25T10:20:39.932505Z",
     "shell.execute_reply": "2022-07-25T10:20:39.930742Z"
    },
    "id": "fe007438",
    "papermill": {
     "duration": 0.019568,
     "end_time": "2022-07-25T10:20:39.935583",
     "exception": false,
     "start_time": "2022-07-25T10:20:39.916015",
     "status": "completed"
    },
    "tags": []
   },
   "outputs": [],
   "source": [
    "#Train test split for dataset \n",
    "X_train,X_test,Y_train,Y_test = train_test_split(X,Y,test_size = 0.2)\n",
    "train_data = dataset.CustomDataset(X_train,Y_train)\n",
    "test_data = dataset.CustomDataset(X_test,Y_test)\n"
   ]
  },
  {
   "cell_type": "markdown",
   "id": "a9a1af34",
   "metadata": {
    "id": "a9a1af34",
    "papermill": {
     "duration": 0.007739,
     "end_time": "2022-07-25T10:20:39.950681",
     "exception": false,
     "start_time": "2022-07-25T10:20:39.942942",
     "status": "completed"
    },
    "tags": []
   },
   "source": [
    "## Training Parameters "
   ]
  },
  {
   "cell_type": "code",
   "execution_count": 8,
   "id": "952b7fc8",
   "metadata": {
    "execution": {
     "iopub.execute_input": "2022-07-25T10:20:39.969271Z",
     "iopub.status.busy": "2022-07-25T10:20:39.968798Z",
     "iopub.status.idle": "2022-07-25T10:20:39.975025Z",
     "shell.execute_reply": "2022-07-25T10:20:39.973406Z"
    },
    "id": "952b7fc8",
    "papermill": {
     "duration": 0.019456,
     "end_time": "2022-07-25T10:20:39.978360",
     "exception": false,
     "start_time": "2022-07-25T10:20:39.958904",
     "status": "completed"
    },
    "tags": []
   },
   "outputs": [],
   "source": [
    "batch_size = 32\n",
    "n_epochs = 1000\n",
    "#Select the device \n",
    "device = torch.device('cuda' if torch.cuda.is_available() else 'cpu')"
   ]
  },
  {
   "cell_type": "markdown",
   "id": "a95e1600",
   "metadata": {
    "id": "a95e1600",
    "papermill": {
     "duration": 0.007638,
     "end_time": "2022-07-25T10:20:39.993453",
     "exception": false,
     "start_time": "2022-07-25T10:20:39.985815",
     "status": "completed"
    },
    "tags": []
   },
   "source": [
    "# ABC Pre-generator Model \n",
    "\n",
    "1. The catboost model is used as a pre-generator model for the ABC-GAN. \n",
    "2. The model is first trained on the entire dataset \n",
    "3. It generats X,Y pairs and we add some Gaussian noise with mean 0 and variance 1 to it which is then feed as input to the generator.\n"
   ]
  },
  {
   "cell_type": "code",
   "execution_count": 9,
   "id": "ff8ce7bd",
   "metadata": {
    "execution": {
     "iopub.execute_input": "2022-07-25T10:20:40.010651Z",
     "iopub.status.busy": "2022-07-25T10:20:40.010316Z",
     "iopub.status.idle": "2022-07-25T10:22:47.753034Z",
     "shell.execute_reply": "2022-07-25T10:22:47.751621Z"
    },
    "id": "ff8ce7bd",
    "papermill": {
     "duration": 127.754969,
     "end_time": "2022-07-25T10:22:47.756184",
     "exception": false,
     "start_time": "2022-07-25T10:20:40.001215",
     "status": "completed"
    },
    "tags": []
   },
   "outputs": [
    {
     "name": "stdout",
     "output_type": "stream",
     "text": [
      "Device used : cpu\n"
     ]
    },
    {
     "name": "stdout",
     "output_type": "stream",
     "text": [
      "epoch 0  | loss: 0.93041 | train_mse: 0.57618 | train_mae: 0.62231 |  0:00:00s\n"
     ]
    },
    {
     "name": "stdout",
     "output_type": "stream",
     "text": [
      "epoch 1  | loss: 0.28611 | train_mse: 0.63071 | train_mae: 0.56869 |  0:00:01s\n"
     ]
    },
    {
     "name": "stdout",
     "output_type": "stream",
     "text": [
      "epoch 2  | loss: 0.20754 | train_mse: 0.42848 | train_mae: 0.47121 |  0:00:01s\n"
     ]
    },
    {
     "name": "stdout",
     "output_type": "stream",
     "text": [
      "epoch 3  | loss: 0.22624 | train_mse: 0.17793 | train_mae: 0.31718 |  0:00:02s\n"
     ]
    },
    {
     "name": "stdout",
     "output_type": "stream",
     "text": [
      "epoch 4  | loss: 0.1839  | train_mse: 0.18935 | train_mae: 0.3249  |  0:00:02s\n"
     ]
    },
    {
     "name": "stdout",
     "output_type": "stream",
     "text": [
      "epoch 5  | loss: 0.14811 | train_mse: 0.17899 | train_mae: 0.32466 |  0:00:03s\n"
     ]
    },
    {
     "name": "stdout",
     "output_type": "stream",
     "text": [
      "epoch 6  | loss: 0.14132 | train_mse: 0.17557 | train_mae: 0.30011 |  0:00:03s\n"
     ]
    },
    {
     "name": "stdout",
     "output_type": "stream",
     "text": [
      "epoch 7  | loss: 0.14242 | train_mse: 0.10362 | train_mae: 0.24397 |  0:00:04s\n"
     ]
    },
    {
     "name": "stdout",
     "output_type": "stream",
     "text": [
      "epoch 8  | loss: 0.1211  | train_mse: 0.09363 | train_mae: 0.23265 |  0:00:04s\n"
     ]
    },
    {
     "name": "stdout",
     "output_type": "stream",
     "text": [
      "epoch 9  | loss: 0.12239 | train_mse: 0.09213 | train_mae: 0.23819 |  0:00:05s\n"
     ]
    },
    {
     "name": "stdout",
     "output_type": "stream",
     "text": [
      "epoch 10 | loss: 0.11759 | train_mse: 0.10453 | train_mae: 0.26033 |  0:00:06s\n"
     ]
    },
    {
     "name": "stdout",
     "output_type": "stream",
     "text": [
      "epoch 11 | loss: 0.09911 | train_mse: 0.07902 | train_mae: 0.20129 |  0:00:06s\n"
     ]
    },
    {
     "name": "stdout",
     "output_type": "stream",
     "text": [
      "epoch 12 | loss: 0.10094 | train_mse: 0.06442 | train_mae: 0.19105 |  0:00:07s\n"
     ]
    },
    {
     "name": "stdout",
     "output_type": "stream",
     "text": [
      "epoch 13 | loss: 0.08901 | train_mse: 0.05237 | train_mae: 0.17746 |  0:00:07s\n"
     ]
    },
    {
     "name": "stdout",
     "output_type": "stream",
     "text": [
      "epoch 14 | loss: 0.07334 | train_mse: 0.04685 | train_mae: 0.16308 |  0:00:08s\n"
     ]
    },
    {
     "name": "stdout",
     "output_type": "stream",
     "text": [
      "epoch 15 | loss: 0.07807 | train_mse: 0.06167 | train_mae: 0.18988 |  0:00:08s\n"
     ]
    },
    {
     "name": "stdout",
     "output_type": "stream",
     "text": [
      "epoch 16 | loss: 0.08694 | train_mse: 0.0655  | train_mae: 0.19637 |  0:00:09s\n"
     ]
    },
    {
     "name": "stdout",
     "output_type": "stream",
     "text": [
      "epoch 17 | loss: 0.08307 | train_mse: 0.06419 | train_mae: 0.19349 |  0:00:09s\n"
     ]
    },
    {
     "name": "stdout",
     "output_type": "stream",
     "text": [
      "epoch 18 | loss: 0.08083 | train_mse: 0.05556 | train_mae: 0.17945 |  0:00:10s\n"
     ]
    },
    {
     "name": "stdout",
     "output_type": "stream",
     "text": [
      "epoch 19 | loss: 0.07455 | train_mse: 0.0449  | train_mae: 0.17436 |  0:00:10s\n"
     ]
    },
    {
     "name": "stdout",
     "output_type": "stream",
     "text": [
      "epoch 20 | loss: 0.07576 | train_mse: 0.05166 | train_mae: 0.17284 |  0:00:11s\n"
     ]
    },
    {
     "name": "stdout",
     "output_type": "stream",
     "text": [
      "epoch 21 | loss: 0.05905 | train_mse: 0.03372 | train_mae: 0.14054 |  0:00:11s\n"
     ]
    },
    {
     "name": "stdout",
     "output_type": "stream",
     "text": [
      "epoch 22 | loss: 0.06799 | train_mse: 0.03911 | train_mae: 0.14073 |  0:00:12s\n"
     ]
    },
    {
     "name": "stdout",
     "output_type": "stream",
     "text": [
      "epoch 23 | loss: 0.07661 | train_mse: 0.0388  | train_mae: 0.15532 |  0:00:13s\n"
     ]
    },
    {
     "name": "stdout",
     "output_type": "stream",
     "text": [
      "epoch 24 | loss: 0.0609  | train_mse: 0.05306 | train_mae: 0.17965 |  0:00:13s\n"
     ]
    },
    {
     "name": "stdout",
     "output_type": "stream",
     "text": [
      "epoch 25 | loss: 0.07587 | train_mse: 0.0471  | train_mae: 0.16706 |  0:00:14s\n"
     ]
    },
    {
     "name": "stdout",
     "output_type": "stream",
     "text": [
      "epoch 26 | loss: 0.06331 | train_mse: 0.0325  | train_mae: 0.13825 |  0:00:15s\n"
     ]
    },
    {
     "name": "stdout",
     "output_type": "stream",
     "text": [
      "epoch 27 | loss: 0.08149 | train_mse: 0.0293  | train_mae: 0.12809 |  0:00:15s\n"
     ]
    },
    {
     "name": "stdout",
     "output_type": "stream",
     "text": [
      "epoch 28 | loss: 0.06181 | train_mse: 0.02919 | train_mae: 0.12217 |  0:00:16s\n"
     ]
    },
    {
     "name": "stdout",
     "output_type": "stream",
     "text": [
      "epoch 29 | loss: 0.06439 | train_mse: 0.04824 | train_mae: 0.14521 |  0:00:16s\n"
     ]
    },
    {
     "name": "stdout",
     "output_type": "stream",
     "text": [
      "epoch 30 | loss: 0.08701 | train_mse: 0.05078 | train_mae: 0.17387 |  0:00:17s\n"
     ]
    },
    {
     "name": "stdout",
     "output_type": "stream",
     "text": [
      "epoch 31 | loss: 0.07694 | train_mse: 0.02901 | train_mae: 0.13684 |  0:00:17s\n"
     ]
    },
    {
     "name": "stdout",
     "output_type": "stream",
     "text": [
      "epoch 32 | loss: 0.05668 | train_mse: 0.03486 | train_mae: 0.14759 |  0:00:18s\n"
     ]
    },
    {
     "name": "stdout",
     "output_type": "stream",
     "text": [
      "epoch 33 | loss: 0.08517 | train_mse: 0.03065 | train_mae: 0.13309 |  0:00:18s\n"
     ]
    },
    {
     "name": "stdout",
     "output_type": "stream",
     "text": [
      "epoch 34 | loss: 0.06757 | train_mse: 0.02276 | train_mae: 0.11614 |  0:00:19s\n"
     ]
    },
    {
     "name": "stdout",
     "output_type": "stream",
     "text": [
      "epoch 35 | loss: 0.05889 | train_mse: 0.03093 | train_mae: 0.12969 |  0:00:19s\n"
     ]
    },
    {
     "name": "stdout",
     "output_type": "stream",
     "text": [
      "epoch 36 | loss: 0.05574 | train_mse: 0.02473 | train_mae: 0.11932 |  0:00:20s\n"
     ]
    },
    {
     "name": "stdout",
     "output_type": "stream",
     "text": [
      "epoch 37 | loss: 0.07082 | train_mse: 0.05574 | train_mae: 0.17179 |  0:00:20s\n"
     ]
    },
    {
     "name": "stdout",
     "output_type": "stream",
     "text": [
      "epoch 38 | loss: 0.08346 | train_mse: 0.03906 | train_mae: 0.15712 |  0:00:21s\n"
     ]
    },
    {
     "name": "stdout",
     "output_type": "stream",
     "text": [
      "epoch 39 | loss: 0.07396 | train_mse: 0.04754 | train_mae: 0.17854 |  0:00:21s\n"
     ]
    },
    {
     "name": "stdout",
     "output_type": "stream",
     "text": [
      "epoch 40 | loss: 0.05885 | train_mse: 0.04292 | train_mae: 0.16505 |  0:00:22s\n"
     ]
    },
    {
     "name": "stdout",
     "output_type": "stream",
     "text": [
      "epoch 41 | loss: 0.04398 | train_mse: 0.04757 | train_mae: 0.17766 |  0:00:23s\n"
     ]
    },
    {
     "name": "stdout",
     "output_type": "stream",
     "text": [
      "epoch 42 | loss: 0.05754 | train_mse: 0.03461 | train_mae: 0.14616 |  0:00:23s\n"
     ]
    },
    {
     "name": "stdout",
     "output_type": "stream",
     "text": [
      "epoch 43 | loss: 0.05125 | train_mse: 0.02326 | train_mae: 0.11663 |  0:00:24s\n"
     ]
    },
    {
     "name": "stdout",
     "output_type": "stream",
     "text": [
      "epoch 44 | loss: 0.07081 | train_mse: 0.03547 | train_mae: 0.14062 |  0:00:24s\n"
     ]
    },
    {
     "name": "stdout",
     "output_type": "stream",
     "text": [
      "epoch 45 | loss: 0.04441 | train_mse: 0.02606 | train_mae: 0.12131 |  0:00:25s\n"
     ]
    },
    {
     "name": "stdout",
     "output_type": "stream",
     "text": [
      "epoch 46 | loss: 0.04549 | train_mse: 0.02482 | train_mae: 0.11818 |  0:00:25s\n"
     ]
    },
    {
     "name": "stdout",
     "output_type": "stream",
     "text": [
      "epoch 47 | loss: 0.05367 | train_mse: 0.01867 | train_mae: 0.10333 |  0:00:26s\n"
     ]
    },
    {
     "name": "stdout",
     "output_type": "stream",
     "text": [
      "epoch 48 | loss: 0.04448 | train_mse: 0.02584 | train_mae: 0.1248  |  0:00:26s\n"
     ]
    },
    {
     "name": "stdout",
     "output_type": "stream",
     "text": [
      "epoch 49 | loss: 0.05805 | train_mse: 0.0395  | train_mae: 0.1446  |  0:00:27s\n"
     ]
    },
    {
     "name": "stdout",
     "output_type": "stream",
     "text": [
      "epoch 50 | loss: 0.05624 | train_mse: 0.02706 | train_mae: 0.1282  |  0:00:28s\n"
     ]
    },
    {
     "name": "stdout",
     "output_type": "stream",
     "text": [
      "epoch 51 | loss: 0.05077 | train_mse: 0.02335 | train_mae: 0.1153  |  0:00:28s\n"
     ]
    },
    {
     "name": "stdout",
     "output_type": "stream",
     "text": [
      "epoch 52 | loss: 0.08598 | train_mse: 0.03144 | train_mae: 0.14365 |  0:00:29s\n"
     ]
    },
    {
     "name": "stdout",
     "output_type": "stream",
     "text": [
      "epoch 53 | loss: 0.0492  | train_mse: 0.03099 | train_mae: 0.13681 |  0:00:29s\n"
     ]
    },
    {
     "name": "stdout",
     "output_type": "stream",
     "text": [
      "epoch 54 | loss: 0.06048 | train_mse: 0.02591 | train_mae: 0.12935 |  0:00:30s\n"
     ]
    },
    {
     "name": "stdout",
     "output_type": "stream",
     "text": [
      "epoch 55 | loss: 0.05806 | train_mse: 0.02728 | train_mae: 0.13385 |  0:00:30s\n"
     ]
    },
    {
     "name": "stdout",
     "output_type": "stream",
     "text": [
      "epoch 56 | loss: 0.04088 | train_mse: 0.07101 | train_mae: 0.15584 |  0:00:31s\n"
     ]
    },
    {
     "name": "stdout",
     "output_type": "stream",
     "text": [
      "epoch 57 | loss: 0.04454 | train_mse: 0.02775 | train_mae: 0.1175  |  0:00:31s\n"
     ]
    },
    {
     "name": "stdout",
     "output_type": "stream",
     "text": [
      "epoch 58 | loss: 0.03807 | train_mse: 0.03701 | train_mae: 0.13585 |  0:00:32s\n"
     ]
    },
    {
     "name": "stdout",
     "output_type": "stream",
     "text": [
      "epoch 59 | loss: 0.04422 | train_mse: 0.01873 | train_mae: 0.09966 |  0:00:32s\n"
     ]
    },
    {
     "name": "stdout",
     "output_type": "stream",
     "text": [
      "epoch 60 | loss: 0.04093 | train_mse: 0.02292 | train_mae: 0.1124  |  0:00:33s\n"
     ]
    },
    {
     "name": "stdout",
     "output_type": "stream",
     "text": [
      "epoch 61 | loss: 0.04406 | train_mse: 0.02152 | train_mae: 0.10823 |  0:00:33s\n"
     ]
    },
    {
     "name": "stdout",
     "output_type": "stream",
     "text": [
      "epoch 62 | loss: 0.04798 | train_mse: 0.03466 | train_mae: 0.13516 |  0:00:34s\n"
     ]
    },
    {
     "name": "stdout",
     "output_type": "stream",
     "text": [
      "epoch 63 | loss: 0.05148 | train_mse: 0.03248 | train_mae: 0.11385 |  0:00:34s\n"
     ]
    },
    {
     "name": "stdout",
     "output_type": "stream",
     "text": [
      "epoch 64 | loss: 0.05116 | train_mse: 0.02611 | train_mae: 0.12426 |  0:00:35s\n"
     ]
    },
    {
     "name": "stdout",
     "output_type": "stream",
     "text": [
      "epoch 65 | loss: 0.04976 | train_mse: 0.02733 | train_mae: 0.12099 |  0:00:36s\n"
     ]
    },
    {
     "name": "stdout",
     "output_type": "stream",
     "text": [
      "epoch 66 | loss: 0.04592 | train_mse: 0.0336  | train_mae: 0.14293 |  0:00:37s\n"
     ]
    },
    {
     "name": "stdout",
     "output_type": "stream",
     "text": [
      "epoch 67 | loss: 0.04502 | train_mse: 0.01655 | train_mae: 0.09524 |  0:00:38s\n"
     ]
    },
    {
     "name": "stdout",
     "output_type": "stream",
     "text": [
      "epoch 68 | loss: 0.05812 | train_mse: 0.01987 | train_mae: 0.10406 |  0:00:39s\n"
     ]
    },
    {
     "name": "stdout",
     "output_type": "stream",
     "text": [
      "epoch 69 | loss: 0.03292 | train_mse: 0.01627 | train_mae: 0.09944 |  0:00:40s\n"
     ]
    },
    {
     "name": "stdout",
     "output_type": "stream",
     "text": [
      "epoch 70 | loss: 0.06171 | train_mse: 0.01776 | train_mae: 0.1003  |  0:00:41s\n"
     ]
    },
    {
     "name": "stdout",
     "output_type": "stream",
     "text": [
      "epoch 71 | loss: 0.04358 | train_mse: 0.0157  | train_mae: 0.09805 |  0:00:41s\n"
     ]
    },
    {
     "name": "stdout",
     "output_type": "stream",
     "text": [
      "epoch 72 | loss: 0.04186 | train_mse: 0.01967 | train_mae: 0.106   |  0:00:42s\n"
     ]
    },
    {
     "name": "stdout",
     "output_type": "stream",
     "text": [
      "epoch 73 | loss: 0.03692 | train_mse: 0.01369 | train_mae: 0.08688 |  0:00:42s\n"
     ]
    },
    {
     "name": "stdout",
     "output_type": "stream",
     "text": [
      "epoch 74 | loss: 0.04069 | train_mse: 0.01518 | train_mae: 0.09369 |  0:00:43s\n"
     ]
    },
    {
     "name": "stdout",
     "output_type": "stream",
     "text": [
      "epoch 75 | loss: 0.03269 | train_mse: 0.02142 | train_mae: 0.11013 |  0:00:43s\n"
     ]
    },
    {
     "name": "stdout",
     "output_type": "stream",
     "text": [
      "epoch 76 | loss: 0.04155 | train_mse: 0.02243 | train_mae: 0.11052 |  0:00:44s\n"
     ]
    },
    {
     "name": "stdout",
     "output_type": "stream",
     "text": [
      "epoch 77 | loss: 0.0522  | train_mse: 0.01328 | train_mae: 0.0867  |  0:00:45s\n"
     ]
    },
    {
     "name": "stdout",
     "output_type": "stream",
     "text": [
      "epoch 78 | loss: 0.0511  | train_mse: 0.01933 | train_mae: 0.11058 |  0:00:45s\n"
     ]
    },
    {
     "name": "stdout",
     "output_type": "stream",
     "text": [
      "epoch 79 | loss: 0.04    | train_mse: 0.01456 | train_mae: 0.08944 |  0:00:46s\n"
     ]
    },
    {
     "name": "stdout",
     "output_type": "stream",
     "text": [
      "epoch 80 | loss: 0.03521 | train_mse: 0.01521 | train_mae: 0.09972 |  0:00:46s\n"
     ]
    },
    {
     "name": "stdout",
     "output_type": "stream",
     "text": [
      "epoch 81 | loss: 0.02734 | train_mse: 0.01354 | train_mae: 0.0874  |  0:00:47s\n"
     ]
    },
    {
     "name": "stdout",
     "output_type": "stream",
     "text": [
      "epoch 82 | loss: 0.03528 | train_mse: 0.01206 | train_mae: 0.08621 |  0:00:47s\n"
     ]
    },
    {
     "name": "stdout",
     "output_type": "stream",
     "text": [
      "epoch 83 | loss: 0.03583 | train_mse: 0.02972 | train_mae: 0.129   |  0:00:48s\n"
     ]
    },
    {
     "name": "stdout",
     "output_type": "stream",
     "text": [
      "epoch 84 | loss: 0.03879 | train_mse: 0.01432 | train_mae: 0.09942 |  0:00:48s\n"
     ]
    },
    {
     "name": "stdout",
     "output_type": "stream",
     "text": [
      "epoch 85 | loss: 0.0339  | train_mse: 0.0134  | train_mae: 0.09227 |  0:00:49s\n"
     ]
    },
    {
     "name": "stdout",
     "output_type": "stream",
     "text": [
      "epoch 86 | loss: 0.03518 | train_mse: 0.01769 | train_mae: 0.10002 |  0:00:49s\n"
     ]
    },
    {
     "name": "stdout",
     "output_type": "stream",
     "text": [
      "epoch 87 | loss: 0.03722 | train_mse: 0.01188 | train_mae: 0.0854  |  0:00:50s\n"
     ]
    },
    {
     "name": "stdout",
     "output_type": "stream",
     "text": [
      "epoch 88 | loss: 0.03474 | train_mse: 0.01457 | train_mae: 0.0892  |  0:00:51s\n"
     ]
    },
    {
     "name": "stdout",
     "output_type": "stream",
     "text": [
      "epoch 89 | loss: 0.04866 | train_mse: 0.0156  | train_mae: 0.09477 |  0:00:51s\n"
     ]
    },
    {
     "name": "stdout",
     "output_type": "stream",
     "text": [
      "epoch 90 | loss: 0.0321  | train_mse: 0.04207 | train_mae: 0.12905 |  0:00:52s\n"
     ]
    },
    {
     "name": "stdout",
     "output_type": "stream",
     "text": [
      "epoch 91 | loss: 0.04466 | train_mse: 0.03529 | train_mae: 0.1218  |  0:00:52s\n"
     ]
    },
    {
     "name": "stdout",
     "output_type": "stream",
     "text": [
      "epoch 92 | loss: 0.03847 | train_mse: 0.0208  | train_mae: 0.10007 |  0:00:53s\n"
     ]
    },
    {
     "name": "stdout",
     "output_type": "stream",
     "text": [
      "epoch 93 | loss: 0.03504 | train_mse: 0.03304 | train_mae: 0.14306 |  0:00:53s\n"
     ]
    },
    {
     "name": "stdout",
     "output_type": "stream",
     "text": [
      "epoch 94 | loss: 0.03173 | train_mse: 0.04185 | train_mae: 0.15362 |  0:00:54s\n"
     ]
    },
    {
     "name": "stdout",
     "output_type": "stream",
     "text": [
      "epoch 95 | loss: 0.04117 | train_mse: 0.02598 | train_mae: 0.10887 |  0:00:54s\n"
     ]
    },
    {
     "name": "stdout",
     "output_type": "stream",
     "text": [
      "epoch 96 | loss: 0.03939 | train_mse: 0.02629 | train_mae: 0.12074 |  0:00:55s\n"
     ]
    },
    {
     "name": "stdout",
     "output_type": "stream",
     "text": [
      "epoch 97 | loss: 0.03727 | train_mse: 0.11488 | train_mae: 0.1994  |  0:00:55s\n"
     ]
    },
    {
     "name": "stdout",
     "output_type": "stream",
     "text": [
      "epoch 98 | loss: 0.06173 | train_mse: 0.04776 | train_mae: 0.16022 |  0:00:56s\n"
     ]
    },
    {
     "name": "stdout",
     "output_type": "stream",
     "text": [
      "epoch 99 | loss: 0.05558 | train_mse: 0.01918 | train_mae: 0.11593 |  0:00:56s\n"
     ]
    },
    {
     "name": "stdout",
     "output_type": "stream",
     "text": [
      "epoch 100| loss: 0.04553 | train_mse: 0.03511 | train_mae: 0.1364  |  0:00:57s\n"
     ]
    },
    {
     "name": "stdout",
     "output_type": "stream",
     "text": [
      "epoch 101| loss: 0.05033 | train_mse: 0.03412 | train_mae: 0.12457 |  0:00:57s\n"
     ]
    },
    {
     "name": "stdout",
     "output_type": "stream",
     "text": [
      "epoch 102| loss: 0.04239 | train_mse: 0.01741 | train_mae: 0.09865 |  0:00:58s\n"
     ]
    },
    {
     "name": "stdout",
     "output_type": "stream",
     "text": [
      "epoch 103| loss: 0.03667 | train_mse: 0.04363 | train_mae: 0.15297 |  0:00:58s\n"
     ]
    },
    {
     "name": "stdout",
     "output_type": "stream",
     "text": [
      "epoch 104| loss: 0.03963 | train_mse: 0.01601 | train_mae: 0.09731 |  0:01:00s\n"
     ]
    },
    {
     "name": "stdout",
     "output_type": "stream",
     "text": [
      "epoch 105| loss: 0.02959 | train_mse: 0.00831 | train_mae: 0.06985 |  0:01:00s\n"
     ]
    },
    {
     "name": "stdout",
     "output_type": "stream",
     "text": [
      "epoch 106| loss: 0.03019 | train_mse: 0.0125  | train_mae: 0.08918 |  0:01:01s\n"
     ]
    },
    {
     "name": "stdout",
     "output_type": "stream",
     "text": [
      "epoch 107| loss: 0.03951 | train_mse: 0.05023 | train_mae: 0.17926 |  0:01:01s\n"
     ]
    },
    {
     "name": "stdout",
     "output_type": "stream",
     "text": [
      "epoch 108| loss: 0.05269 | train_mse: 0.03497 | train_mae: 0.14448 |  0:01:02s\n"
     ]
    },
    {
     "name": "stdout",
     "output_type": "stream",
     "text": [
      "epoch 109| loss: 0.05495 | train_mse: 0.10046 | train_mae: 0.17305 |  0:01:02s\n"
     ]
    },
    {
     "name": "stdout",
     "output_type": "stream",
     "text": [
      "epoch 110| loss: 0.07903 | train_mse: 0.037   | train_mae: 0.14336 |  0:01:03s\n"
     ]
    },
    {
     "name": "stdout",
     "output_type": "stream",
     "text": [
      "epoch 111| loss: 0.0621  | train_mse: 0.01943 | train_mae: 0.10346 |  0:01:03s\n"
     ]
    },
    {
     "name": "stdout",
     "output_type": "stream",
     "text": [
      "epoch 112| loss: 0.04599 | train_mse: 0.02371 | train_mae: 0.11348 |  0:01:04s\n"
     ]
    },
    {
     "name": "stdout",
     "output_type": "stream",
     "text": [
      "epoch 113| loss: 0.03693 | train_mse: 0.01249 | train_mae: 0.08776 |  0:01:05s\n"
     ]
    },
    {
     "name": "stdout",
     "output_type": "stream",
     "text": [
      "epoch 114| loss: 0.03558 | train_mse: 0.01742 | train_mae: 0.09535 |  0:01:05s\n"
     ]
    },
    {
     "name": "stdout",
     "output_type": "stream",
     "text": [
      "epoch 115| loss: 0.02996 | train_mse: 0.01403 | train_mae: 0.08928 |  0:01:06s\n"
     ]
    },
    {
     "name": "stdout",
     "output_type": "stream",
     "text": [
      "epoch 116| loss: 0.03468 | train_mse: 0.0223  | train_mae: 0.11102 |  0:01:06s\n"
     ]
    },
    {
     "name": "stdout",
     "output_type": "stream",
     "text": [
      "epoch 117| loss: 0.03955 | train_mse: 0.02776 | train_mae: 0.11382 |  0:01:07s\n"
     ]
    },
    {
     "name": "stdout",
     "output_type": "stream",
     "text": [
      "epoch 118| loss: 0.05358 | train_mse: 0.02497 | train_mae: 0.11154 |  0:01:07s\n"
     ]
    },
    {
     "name": "stdout",
     "output_type": "stream",
     "text": [
      "epoch 119| loss: 0.03647 | train_mse: 0.01905 | train_mae: 0.09437 |  0:01:08s\n"
     ]
    },
    {
     "name": "stdout",
     "output_type": "stream",
     "text": [
      "epoch 120| loss: 0.06007 | train_mse: 0.04283 | train_mae: 0.13542 |  0:01:08s\n"
     ]
    },
    {
     "name": "stdout",
     "output_type": "stream",
     "text": [
      "epoch 121| loss: 0.07053 | train_mse: 0.03076 | train_mae: 0.11421 |  0:01:09s\n"
     ]
    },
    {
     "name": "stdout",
     "output_type": "stream",
     "text": [
      "epoch 122| loss: 0.03916 | train_mse: 0.02172 | train_mae: 0.11656 |  0:01:09s\n"
     ]
    },
    {
     "name": "stdout",
     "output_type": "stream",
     "text": [
      "epoch 123| loss: 0.03549 | train_mse: 0.01166 | train_mae: 0.08016 |  0:01:10s\n"
     ]
    },
    {
     "name": "stdout",
     "output_type": "stream",
     "text": [
      "epoch 124| loss: 0.07124 | train_mse: 0.01452 | train_mae: 0.09149 |  0:01:10s\n"
     ]
    },
    {
     "name": "stdout",
     "output_type": "stream",
     "text": [
      "epoch 125| loss: 0.05907 | train_mse: 0.0139  | train_mae: 0.08987 |  0:01:11s\n"
     ]
    },
    {
     "name": "stdout",
     "output_type": "stream",
     "text": [
      "epoch 126| loss: 0.0293  | train_mse: 0.01192 | train_mae: 0.0872  |  0:01:11s\n"
     ]
    },
    {
     "name": "stdout",
     "output_type": "stream",
     "text": [
      "epoch 127| loss: 0.02722 | train_mse: 0.01185 | train_mae: 0.08438 |  0:01:12s\n"
     ]
    },
    {
     "name": "stdout",
     "output_type": "stream",
     "text": [
      "epoch 128| loss: 0.05164 | train_mse: 0.01312 | train_mae: 0.08431 |  0:01:12s\n"
     ]
    },
    {
     "name": "stdout",
     "output_type": "stream",
     "text": [
      "epoch 129| loss: 0.03283 | train_mse: 0.01959 | train_mae: 0.10357 |  0:01:13s\n"
     ]
    },
    {
     "name": "stdout",
     "output_type": "stream",
     "text": [
      "epoch 130| loss: 0.0601  | train_mse: 0.01753 | train_mae: 0.09014 |  0:01:13s\n"
     ]
    },
    {
     "name": "stdout",
     "output_type": "stream",
     "text": [
      "epoch 131| loss: 0.02915 | train_mse: 0.01182 | train_mae: 0.07677 |  0:01:14s\n"
     ]
    },
    {
     "name": "stdout",
     "output_type": "stream",
     "text": [
      "epoch 132| loss: 0.03387 | train_mse: 0.01518 | train_mae: 0.08902 |  0:01:14s\n"
     ]
    },
    {
     "name": "stdout",
     "output_type": "stream",
     "text": [
      "epoch 133| loss: 0.02337 | train_mse: 0.01248 | train_mae: 0.0801  |  0:01:15s\n"
     ]
    },
    {
     "name": "stdout",
     "output_type": "stream",
     "text": [
      "epoch 134| loss: 0.03477 | train_mse: 0.01456 | train_mae: 0.09052 |  0:01:15s\n"
     ]
    },
    {
     "name": "stdout",
     "output_type": "stream",
     "text": [
      "epoch 135| loss: 0.02546 | train_mse: 0.01181 | train_mae: 0.07536 |  0:01:16s\n"
     ]
    },
    {
     "name": "stdout",
     "output_type": "stream",
     "text": [
      "epoch 136| loss: 0.02943 | train_mse: 0.00962 | train_mae: 0.076   |  0:01:17s\n"
     ]
    },
    {
     "name": "stdout",
     "output_type": "stream",
     "text": [
      "epoch 137| loss: 0.03417 | train_mse: 0.0104  | train_mae: 0.07996 |  0:01:17s\n"
     ]
    },
    {
     "name": "stdout",
     "output_type": "stream",
     "text": [
      "epoch 138| loss: 0.02918 | train_mse: 0.00991 | train_mae: 0.06883 |  0:01:18s\n"
     ]
    },
    {
     "name": "stdout",
     "output_type": "stream",
     "text": [
      "epoch 139| loss: 0.02392 | train_mse: 0.01499 | train_mae: 0.08287 |  0:01:18s\n"
     ]
    },
    {
     "name": "stdout",
     "output_type": "stream",
     "text": [
      "epoch 140| loss: 0.02771 | train_mse: 0.02339 | train_mae: 0.10968 |  0:01:19s\n"
     ]
    },
    {
     "name": "stdout",
     "output_type": "stream",
     "text": [
      "epoch 141| loss: 0.04125 | train_mse: 0.01428 | train_mae: 0.08127 |  0:01:19s\n"
     ]
    },
    {
     "name": "stdout",
     "output_type": "stream",
     "text": [
      "epoch 142| loss: 0.03538 | train_mse: 0.01148 | train_mae: 0.07891 |  0:01:20s\n"
     ]
    },
    {
     "name": "stdout",
     "output_type": "stream",
     "text": [
      "epoch 143| loss: 0.02615 | train_mse: 0.00806 | train_mae: 0.06952 |  0:01:20s\n"
     ]
    },
    {
     "name": "stdout",
     "output_type": "stream",
     "text": [
      "epoch 144| loss: 0.04922 | train_mse: 0.02661 | train_mae: 0.1281  |  0:01:21s\n"
     ]
    },
    {
     "name": "stdout",
     "output_type": "stream",
     "text": [
      "epoch 145| loss: 0.03858 | train_mse: 0.02315 | train_mae: 0.11765 |  0:01:21s\n"
     ]
    },
    {
     "name": "stdout",
     "output_type": "stream",
     "text": [
      "epoch 146| loss: 0.03563 | train_mse: 0.01247 | train_mae: 0.08884 |  0:01:22s\n"
     ]
    },
    {
     "name": "stdout",
     "output_type": "stream",
     "text": [
      "epoch 147| loss: 0.04549 | train_mse: 0.0179  | train_mae: 0.09569 |  0:01:23s\n"
     ]
    },
    {
     "name": "stdout",
     "output_type": "stream",
     "text": [
      "epoch 148| loss: 0.04156 | train_mse: 0.01087 | train_mae: 0.07947 |  0:01:23s\n"
     ]
    },
    {
     "name": "stdout",
     "output_type": "stream",
     "text": [
      "epoch 149| loss: 0.03169 | train_mse: 0.01456 | train_mae: 0.08523 |  0:01:24s\n"
     ]
    },
    {
     "name": "stdout",
     "output_type": "stream",
     "text": [
      "epoch 150| loss: 0.04831 | train_mse: 0.05178 | train_mae: 0.1487  |  0:01:24s\n"
     ]
    },
    {
     "name": "stdout",
     "output_type": "stream",
     "text": [
      "epoch 151| loss: 0.03499 | train_mse: 0.02063 | train_mae: 0.10193 |  0:01:25s\n"
     ]
    },
    {
     "name": "stdout",
     "output_type": "stream",
     "text": [
      "epoch 152| loss: 0.04008 | train_mse: 0.03631 | train_mae: 0.13244 |  0:01:25s\n"
     ]
    },
    {
     "name": "stdout",
     "output_type": "stream",
     "text": [
      "epoch 153| loss: 0.04511 | train_mse: 0.02111 | train_mae: 0.104   |  0:01:26s\n"
     ]
    },
    {
     "name": "stdout",
     "output_type": "stream",
     "text": [
      "epoch 154| loss: 0.04597 | train_mse: 0.02022 | train_mae: 0.10343 |  0:01:26s\n"
     ]
    },
    {
     "name": "stdout",
     "output_type": "stream",
     "text": [
      "epoch 155| loss: 0.03395 | train_mse: 0.04172 | train_mae: 0.14342 |  0:01:27s\n"
     ]
    },
    {
     "name": "stdout",
     "output_type": "stream",
     "text": [
      "epoch 156| loss: 0.03314 | train_mse: 0.01422 | train_mae: 0.0929  |  0:01:27s\n"
     ]
    },
    {
     "name": "stdout",
     "output_type": "stream",
     "text": [
      "epoch 157| loss: 0.05201 | train_mse: 0.04826 | train_mae: 0.15269 |  0:01:28s\n"
     ]
    },
    {
     "name": "stdout",
     "output_type": "stream",
     "text": [
      "epoch 158| loss: 0.02803 | train_mse: 0.01866 | train_mae: 0.09418 |  0:01:28s\n"
     ]
    },
    {
     "name": "stdout",
     "output_type": "stream",
     "text": [
      "epoch 159| loss: 0.02674 | train_mse: 0.01455 | train_mae: 0.08851 |  0:01:29s\n"
     ]
    },
    {
     "name": "stdout",
     "output_type": "stream",
     "text": [
      "epoch 160| loss: 0.02538 | train_mse: 0.01089 | train_mae: 0.07869 |  0:01:29s\n"
     ]
    },
    {
     "name": "stdout",
     "output_type": "stream",
     "text": [
      "epoch 161| loss: 0.03696 | train_mse: 0.01377 | train_mae: 0.07699 |  0:01:30s\n"
     ]
    },
    {
     "name": "stdout",
     "output_type": "stream",
     "text": [
      "epoch 162| loss: 0.03864 | train_mse: 0.0171  | train_mae: 0.09227 |  0:01:31s\n"
     ]
    },
    {
     "name": "stdout",
     "output_type": "stream",
     "text": [
      "epoch 163| loss: 0.02437 | train_mse: 0.01887 | train_mae: 0.10971 |  0:01:31s\n"
     ]
    },
    {
     "name": "stdout",
     "output_type": "stream",
     "text": [
      "epoch 164| loss: 0.03648 | train_mse: 0.02295 | train_mae: 0.10831 |  0:01:32s\n"
     ]
    },
    {
     "name": "stdout",
     "output_type": "stream",
     "text": [
      "epoch 165| loss: 0.0312  | train_mse: 0.0122  | train_mae: 0.08306 |  0:01:32s\n"
     ]
    },
    {
     "name": "stdout",
     "output_type": "stream",
     "text": [
      "epoch 166| loss: 0.03338 | train_mse: 0.01572 | train_mae: 0.08954 |  0:01:33s\n"
     ]
    },
    {
     "name": "stdout",
     "output_type": "stream",
     "text": [
      "epoch 167| loss: 0.04646 | train_mse: 0.01979 | train_mae: 0.09154 |  0:01:33s\n"
     ]
    },
    {
     "name": "stdout",
     "output_type": "stream",
     "text": [
      "epoch 168| loss: 0.06725 | train_mse: 0.02297 | train_mae: 0.11653 |  0:01:34s\n"
     ]
    },
    {
     "name": "stdout",
     "output_type": "stream",
     "text": [
      "epoch 169| loss: 0.05816 | train_mse: 0.01191 | train_mae: 0.08042 |  0:01:34s\n"
     ]
    },
    {
     "name": "stdout",
     "output_type": "stream",
     "text": [
      "epoch 170| loss: 0.0403  | train_mse: 0.01871 | train_mae: 0.09991 |  0:01:35s\n"
     ]
    },
    {
     "name": "stdout",
     "output_type": "stream",
     "text": [
      "epoch 171| loss: 0.05476 | train_mse: 0.01993 | train_mae: 0.0903  |  0:01:35s\n"
     ]
    },
    {
     "name": "stdout",
     "output_type": "stream",
     "text": [
      "epoch 172| loss: 0.04532 | train_mse: 0.01116 | train_mae: 0.07888 |  0:01:36s\n"
     ]
    },
    {
     "name": "stdout",
     "output_type": "stream",
     "text": [
      "epoch 173| loss: 0.03609 | train_mse: 0.01068 | train_mae: 0.07583 |  0:01:36s\n"
     ]
    },
    {
     "name": "stdout",
     "output_type": "stream",
     "text": [
      "epoch 174| loss: 0.03853 | train_mse: 0.01721 | train_mae: 0.10926 |  0:01:37s\n"
     ]
    },
    {
     "name": "stdout",
     "output_type": "stream",
     "text": [
      "epoch 175| loss: 0.03602 | train_mse: 0.01312 | train_mae: 0.08309 |  0:01:37s\n"
     ]
    },
    {
     "name": "stdout",
     "output_type": "stream",
     "text": [
      "epoch 176| loss: 0.02797 | train_mse: 0.01688 | train_mae: 0.09185 |  0:01:38s\n"
     ]
    },
    {
     "name": "stdout",
     "output_type": "stream",
     "text": [
      "epoch 177| loss: 0.02993 | train_mse: 0.01709 | train_mae: 0.08499 |  0:01:38s\n"
     ]
    },
    {
     "name": "stdout",
     "output_type": "stream",
     "text": [
      "epoch 178| loss: 0.02592 | train_mse: 0.01102 | train_mae: 0.08073 |  0:01:39s\n"
     ]
    },
    {
     "name": "stdout",
     "output_type": "stream",
     "text": [
      "epoch 179| loss: 0.02125 | train_mse: 0.01153 | train_mae: 0.07459 |  0:01:39s\n"
     ]
    },
    {
     "name": "stdout",
     "output_type": "stream",
     "text": [
      "epoch 180| loss: 0.02619 | train_mse: 0.00984 | train_mae: 0.07581 |  0:01:40s\n"
     ]
    },
    {
     "name": "stdout",
     "output_type": "stream",
     "text": [
      "epoch 181| loss: 0.02606 | train_mse: 0.00797 | train_mae: 0.06905 |  0:01:40s\n"
     ]
    },
    {
     "name": "stdout",
     "output_type": "stream",
     "text": [
      "epoch 182| loss: 0.02641 | train_mse: 0.00797 | train_mae: 0.0643  |  0:01:41s\n"
     ]
    },
    {
     "name": "stdout",
     "output_type": "stream",
     "text": [
      "epoch 183| loss: 0.02251 | train_mse: 0.01353 | train_mae: 0.08353 |  0:01:42s\n"
     ]
    },
    {
     "name": "stdout",
     "output_type": "stream",
     "text": [
      "epoch 184| loss: 0.02995 | train_mse: 0.0113  | train_mae: 0.07469 |  0:01:42s\n"
     ]
    },
    {
     "name": "stdout",
     "output_type": "stream",
     "text": [
      "epoch 185| loss: 0.02747 | train_mse: 0.01485 | train_mae: 0.08856 |  0:01:43s\n"
     ]
    },
    {
     "name": "stdout",
     "output_type": "stream",
     "text": [
      "epoch 186| loss: 0.02593 | train_mse: 0.02289 | train_mae: 0.11668 |  0:01:43s\n"
     ]
    },
    {
     "name": "stdout",
     "output_type": "stream",
     "text": [
      "epoch 187| loss: 0.05909 | train_mse: 0.03071 | train_mae: 0.12466 |  0:01:44s\n"
     ]
    },
    {
     "name": "stdout",
     "output_type": "stream",
     "text": [
      "epoch 188| loss: 0.04426 | train_mse: 0.02903 | train_mae: 0.1239  |  0:01:44s\n"
     ]
    },
    {
     "name": "stdout",
     "output_type": "stream",
     "text": [
      "epoch 189| loss: 0.0474  | train_mse: 0.03073 | train_mae: 0.13126 |  0:01:45s\n"
     ]
    },
    {
     "name": "stdout",
     "output_type": "stream",
     "text": [
      "epoch 190| loss: 0.04533 | train_mse: 0.01871 | train_mae: 0.10401 |  0:01:45s\n"
     ]
    },
    {
     "name": "stdout",
     "output_type": "stream",
     "text": [
      "epoch 191| loss: 0.03737 | train_mse: 0.02386 | train_mae: 0.10868 |  0:01:46s\n"
     ]
    },
    {
     "name": "stdout",
     "output_type": "stream",
     "text": [
      "epoch 192| loss: 0.02702 | train_mse: 0.01269 | train_mae: 0.08221 |  0:01:46s\n"
     ]
    },
    {
     "name": "stdout",
     "output_type": "stream",
     "text": [
      "epoch 193| loss: 0.03716 | train_mse: 0.02509 | train_mae: 0.11328 |  0:01:47s\n"
     ]
    },
    {
     "name": "stdout",
     "output_type": "stream",
     "text": [
      "epoch 194| loss: 0.03934 | train_mse: 0.01978 | train_mae: 0.10422 |  0:01:47s\n"
     ]
    },
    {
     "name": "stdout",
     "output_type": "stream",
     "text": [
      "epoch 195| loss: 0.04225 | train_mse: 0.01437 | train_mae: 0.08594 |  0:01:48s\n"
     ]
    },
    {
     "name": "stdout",
     "output_type": "stream",
     "text": [
      "epoch 196| loss: 0.0369  | train_mse: 0.01602 | train_mae: 0.0953  |  0:01:48s\n"
     ]
    },
    {
     "name": "stdout",
     "output_type": "stream",
     "text": [
      "epoch 197| loss: 0.02374 | train_mse: 0.02209 | train_mae: 0.10349 |  0:01:49s\n"
     ]
    },
    {
     "name": "stdout",
     "output_type": "stream",
     "text": [
      "epoch 198| loss: 0.03264 | train_mse: 0.02053 | train_mae: 0.10805 |  0:01:49s\n"
     ]
    },
    {
     "name": "stdout",
     "output_type": "stream",
     "text": [
      "epoch 199| loss: 0.03273 | train_mse: 0.01357 | train_mae: 0.09054 |  0:01:50s\n"
     ]
    },
    {
     "name": "stdout",
     "output_type": "stream",
     "text": [
      "epoch 200| loss: 0.02773 | train_mse: 0.01234 | train_mae: 0.08098 |  0:01:50s\n"
     ]
    },
    {
     "name": "stdout",
     "output_type": "stream",
     "text": [
      "epoch 201| loss: 0.0295  | train_mse: 0.02437 | train_mae: 0.11331 |  0:01:51s\n"
     ]
    },
    {
     "name": "stdout",
     "output_type": "stream",
     "text": [
      "epoch 202| loss: 0.02746 | train_mse: 0.02064 | train_mae: 0.11963 |  0:01:51s\n"
     ]
    },
    {
     "name": "stdout",
     "output_type": "stream",
     "text": [
      "epoch 203| loss: 0.03356 | train_mse: 0.01867 | train_mae: 0.10739 |  0:01:52s\n"
     ]
    },
    {
     "name": "stdout",
     "output_type": "stream",
     "text": [
      "epoch 204| loss: 0.02356 | train_mse: 0.01566 | train_mae: 0.0854  |  0:01:52s\n"
     ]
    },
    {
     "name": "stdout",
     "output_type": "stream",
     "text": [
      "epoch 205| loss: 0.02559 | train_mse: 0.01203 | train_mae: 0.08545 |  0:01:53s\n"
     ]
    },
    {
     "name": "stdout",
     "output_type": "stream",
     "text": [
      "epoch 206| loss: 0.03588 | train_mse: 0.01511 | train_mae: 0.08399 |  0:01:53s\n"
     ]
    },
    {
     "name": "stdout",
     "output_type": "stream",
     "text": [
      "epoch 207| loss: 0.02415 | train_mse: 0.00812 | train_mae: 0.06662 |  0:01:54s\n"
     ]
    },
    {
     "name": "stdout",
     "output_type": "stream",
     "text": [
      "epoch 208| loss: 0.02134 | train_mse: 0.00846 | train_mae: 0.07022 |  0:01:55s\n"
     ]
    },
    {
     "name": "stdout",
     "output_type": "stream",
     "text": [
      "epoch 209| loss: 0.0253  | train_mse: 0.01365 | train_mae: 0.08638 |  0:01:55s\n"
     ]
    },
    {
     "name": "stdout",
     "output_type": "stream",
     "text": [
      "epoch 210| loss: 0.02693 | train_mse: 0.03129 | train_mae: 0.11395 |  0:01:56s\n"
     ]
    },
    {
     "name": "stdout",
     "output_type": "stream",
     "text": [
      "epoch 211| loss: 0.04509 | train_mse: 0.01494 | train_mae: 0.09377 |  0:01:56s\n"
     ]
    },
    {
     "name": "stdout",
     "output_type": "stream",
     "text": [
      "epoch 212| loss: 0.0288  | train_mse: 0.01663 | train_mae: 0.08963 |  0:01:57s\n"
     ]
    },
    {
     "name": "stdout",
     "output_type": "stream",
     "text": [
      "epoch 213| loss: 0.01905 | train_mse: 0.00894 | train_mae: 0.06983 |  0:01:57s\n"
     ]
    },
    {
     "name": "stdout",
     "output_type": "stream",
     "text": [
      "epoch 214| loss: 0.0239  | train_mse: 0.02161 | train_mae: 0.10272 |  0:01:58s\n"
     ]
    },
    {
     "name": "stdout",
     "output_type": "stream",
     "text": [
      "epoch 215| loss: 0.02456 | train_mse: 0.0104  | train_mae: 0.07842 |  0:01:58s\n"
     ]
    },
    {
     "name": "stdout",
     "output_type": "stream",
     "text": [
      "epoch 216| loss: 0.02518 | train_mse: 0.0219  | train_mae: 0.09879 |  0:01:59s\n"
     ]
    },
    {
     "name": "stdout",
     "output_type": "stream",
     "text": [
      "epoch 217| loss: 0.02676 | train_mse: 0.01967 | train_mae: 0.09856 |  0:01:59s\n"
     ]
    },
    {
     "name": "stdout",
     "output_type": "stream",
     "text": [
      "epoch 218| loss: 0.03545 | train_mse: 0.01603 | train_mae: 0.09146 |  0:02:00s\n"
     ]
    },
    {
     "name": "stdout",
     "output_type": "stream",
     "text": [
      "epoch 219| loss: 0.02614 | train_mse: 0.01709 | train_mae: 0.09275 |  0:02:00s\n"
     ]
    },
    {
     "name": "stdout",
     "output_type": "stream",
     "text": [
      "epoch 220| loss: 0.02907 | train_mse: 0.01024 | train_mae: 0.07642 |  0:02:01s\n"
     ]
    },
    {
     "name": "stdout",
     "output_type": "stream",
     "text": [
      "epoch 221| loss: 0.02436 | train_mse: 0.01338 | train_mae: 0.08359 |  0:02:01s\n"
     ]
    },
    {
     "name": "stdout",
     "output_type": "stream",
     "text": [
      "epoch 222| loss: 0.03125 | train_mse: 0.01677 | train_mae: 0.09092 |  0:02:02s\n"
     ]
    },
    {
     "name": "stdout",
     "output_type": "stream",
     "text": [
      "epoch 223| loss: 0.03904 | train_mse: 0.02553 | train_mae: 0.12042 |  0:02:02s\n"
     ]
    },
    {
     "name": "stdout",
     "output_type": "stream",
     "text": [
      "epoch 224| loss: 0.03268 | train_mse: 0.01112 | train_mae: 0.07568 |  0:02:03s\n"
     ]
    },
    {
     "name": "stdout",
     "output_type": "stream",
     "text": [
      "epoch 225| loss: 0.02857 | train_mse: 0.0137  | train_mae: 0.08444 |  0:02:03s\n"
     ]
    },
    {
     "name": "stdout",
     "output_type": "stream",
     "text": [
      "epoch 226| loss: 0.03413 | train_mse: 0.0181  | train_mae: 0.09926 |  0:02:04s\n"
     ]
    },
    {
     "name": "stdout",
     "output_type": "stream",
     "text": [
      "epoch 227| loss: 0.02217 | train_mse: 0.03203 | train_mae: 0.12782 |  0:02:04s\n"
     ]
    },
    {
     "name": "stdout",
     "output_type": "stream",
     "text": [
      "epoch 228| loss: 0.02846 | train_mse: 0.01221 | train_mae: 0.08741 |  0:02:05s\n"
     ]
    },
    {
     "name": "stdout",
     "output_type": "stream",
     "text": [
      "epoch 229| loss: 0.02566 | train_mse: 0.01181 | train_mae: 0.07738 |  0:02:06s\n"
     ]
    },
    {
     "name": "stdout",
     "output_type": "stream",
     "text": [
      "epoch 230| loss: 0.02954 | train_mse: 0.01449 | train_mae: 0.08762 |  0:02:06s\n"
     ]
    },
    {
     "name": "stdout",
     "output_type": "stream",
     "text": [
      "epoch 231| loss: 0.0355  | train_mse: 0.03256 | train_mae: 0.12502 |  0:02:07s\n"
     ]
    },
    {
     "name": "stdout",
     "output_type": "stream",
     "text": [
      "epoch 232| loss: 0.03154 | train_mse: 0.01805 | train_mae: 0.10163 |  0:02:07s\n",
      "\n",
      "Early stopping occurred at epoch 232 with best_epoch = 182 and best_train_mae = 0.0643\n",
      "Best weights from best epoch are automatically used!\n"
     ]
    }
   ],
   "source": [
    "#Train the Model\n",
    "\n",
    "Y_train = np.reshape(Y_train, (-1, 1))\n",
    "Y_test = np.reshape(Y_test, (-1, 1))\n",
    "\n",
    "prior_model = TabNetRegressor(optimizer_fn=torch.optim.Adam, optimizer_params=dict(lr = 0.01),\n",
    "          #scheduler_params={\"step_size\":10, ], \"gamma\":0.9},\n",
    "          #scheduler_fn=torch.optim.lr_scheduler.StepLR\n",
    "          )  #TabNetRegressor()\n",
    "\n",
    "prior_model.fit(X_train,Y_train,eval_set=[(X_train, Y_train)],\n",
    "            eval_name=['train'], \n",
    "            eval_metric=[ 'mse', 'mae'], \n",
    "            max_epochs = n_epochs, \n",
    "            batch_size = batch_size,\n",
    "            patience=50\n",
    "            )"
   ]
  },
  {
   "cell_type": "code",
   "execution_count": 10,
   "id": "af65dcda",
   "metadata": {
    "execution": {
     "iopub.execute_input": "2022-07-25T10:22:47.802008Z",
     "iopub.status.busy": "2022-07-25T10:22:47.801661Z",
     "iopub.status.idle": "2022-07-25T10:22:47.870924Z",
     "shell.execute_reply": "2022-07-25T10:22:47.870145Z"
    },
    "id": "af65dcda",
    "papermill": {
     "duration": 0.09489,
     "end_time": "2022-07-25T10:22:47.873500",
     "exception": false,
     "start_time": "2022-07-25T10:22:47.778610",
     "status": "completed"
    },
    "tags": []
   },
   "outputs": [
    {
     "data": {
      "application/scrapbook.scrap.json+json": {
       "data": 0.007049152785073622,
       "encoder": "json",
       "name": "Prior Model MSE",
       "version": 1
      }
     },
     "metadata": {
      "scrapbook": {
       "data": true,
       "display": false,
       "name": "Prior Model MSE"
      }
     },
     "output_type": "display_data"
    },
    {
     "data": {
      "application/scrapbook.scrap.json+json": {
       "data": 0.9259055559227046,
       "encoder": "json",
       "name": "ABC Pre-generator MSE",
       "version": 1
      }
     },
     "metadata": {
      "scrapbook": {
       "data": true,
       "display": false,
       "name": "ABC Pre-generator MSE"
      }
     },
     "output_type": "display_data"
    },
    {
     "data": {
      "application/scrapbook.scrap.json+json": {
       "data": 0.0626252616222702,
       "encoder": "json",
       "name": "Prior Model MAE",
       "version": 1
      }
     },
     "metadata": {
      "scrapbook": {
       "data": true,
       "display": false,
       "name": "Prior Model MAE"
      }
     },
     "output_type": "display_data"
    },
    {
     "name": "stdout",
     "output_type": "stream",
     "text": [
      "Prior Model MAE 0.0626252616222702\n"
     ]
    },
    {
     "data": {
      "application/scrapbook.scrap.json+json": {
       "data": 0.7765406816204175,
       "encoder": "json",
       "name": "ABC Pre-generator MAE",
       "version": 1
      }
     },
     "metadata": {
      "scrapbook": {
       "data": true,
       "display": false,
       "name": "ABC Pre-generator MAE"
      }
     },
     "output_type": "display_data"
    },
    {
     "name": "stdout",
     "output_type": "stream",
     "text": [
      "ABC Pre-generator MAE 0.7765406816204175\n"
     ]
    }
   ],
   "source": [
    "y_pred = prior_model.predict(X_test)\n",
    "y_abc = y_pred + np.random.normal(0,variance, y_pred.shape) + bias \n",
    "mse = mean_squared_error(y_pred,Y_test)\n",
    "sb.glue(\"Prior Model MSE\",mse)\n",
    "mse = mean_squared_error(y_abc,Y_test)\n",
    "sb.glue(\"ABC Pre-generator MSE\",mse)\n",
    "mae = mean_absolute_error(y_pred,Y_test)\n",
    "sb.glue(\"Prior Model MAE\",mae)\n",
    "print(\"Prior Model MAE\",mae)\n",
    "mae = mean_absolute_error(y_abc,Y_test)\n",
    "sb.glue(\"ABC Pre-generator MAE\",mae)\n",
    "print(\"ABC Pre-generator MAE\",mae)"
   ]
  },
  {
   "cell_type": "markdown",
   "id": "25609da2",
   "metadata": {
    "papermill": {
     "duration": 0.022993,
     "end_time": "2022-07-25T10:22:47.918774",
     "exception": false,
     "start_time": "2022-07-25T10:22:47.895781",
     "status": "completed"
    },
    "tags": []
   },
   "source": [
    "# mGAN Model"
   ]
  },
  {
   "cell_type": "code",
   "execution_count": 11,
   "id": "dfc3464d",
   "metadata": {
    "execution": {
     "iopub.execute_input": "2022-07-25T10:22:47.965365Z",
     "iopub.status.busy": "2022-07-25T10:22:47.965013Z",
     "iopub.status.idle": "2022-07-25T10:22:47.973832Z",
     "shell.execute_reply": "2022-07-25T10:22:47.972067Z"
    },
    "papermill": {
     "duration": 0.035829,
     "end_time": "2022-07-25T10:22:47.976933",
     "exception": false,
     "start_time": "2022-07-25T10:22:47.941104",
     "status": "completed"
    },
    "tags": []
   },
   "outputs": [],
   "source": [
    "gen = network.Generator(n_features+1).to(device)\n",
    "disc = network.Discriminator(n_features+1).to(device)\n",
    "\n",
    "criterion = torch.nn.BCELoss()\n",
    "gen_opt = torch.optim.Adam(gen.parameters(), lr=0.01, betas=(0.5, 0.999))\n",
    "disc_opt = torch.optim.Adam(disc.parameters(), lr=0.01, betas=(0.5, 0.999))"
   ]
  },
  {
   "cell_type": "code",
   "execution_count": 12,
   "id": "b75fdd85",
   "metadata": {
    "execution": {
     "iopub.execute_input": "2022-07-25T10:22:48.021680Z",
     "iopub.status.busy": "2022-07-25T10:22:48.021348Z",
     "iopub.status.idle": "2022-07-25T10:28:42.825326Z",
     "shell.execute_reply": "2022-07-25T10:28:42.824272Z"
    },
    "papermill": {
     "duration": 354.830256,
     "end_time": "2022-07-25T10:28:42.828199",
     "exception": false,
     "start_time": "2022-07-25T10:22:47.997943",
     "status": "completed"
    },
    "tags": []
   },
   "outputs": [
    {
     "data": {
      "image/png": "[encoded data removed]",
      "text/plain": [
       "<Figure size 432x288 with 1 Axes>"
      ]
     },
     "metadata": {
      "needs_background": "light"
     },
     "output_type": "display_data"
    },
    {
     "data": {
      "image/png": "[encoded data removed]",
      "text/plain": [
       "<Figure size 432x288 with 1 Axes>"
      ]
     },
     "metadata": {
      "needs_background": "light"
     },
     "output_type": "display_data"
    }
   ],
   "source": [
    "#Training the ABC_GAN \n",
    "ABC_train_test2.training_GAN(disc,gen,disc_opt,gen_opt,train_data,batch_size,n_epochs,criterion,prior_model,variance,bias,device)"
   ]
  },
  {
   "cell_type": "code",
   "execution_count": 13,
   "id": "1fa7c368",
   "metadata": {
    "execution": {
     "iopub.execute_input": "2022-07-25T10:28:42.878530Z",
     "iopub.status.busy": "2022-07-25T10:28:42.877995Z",
     "iopub.status.idle": "2022-07-25T10:28:46.264518Z",
     "shell.execute_reply": "2022-07-25T10:28:46.263565Z"
    },
    "papermill": {
     "duration": 3.414478,
     "end_time": "2022-07-25T10:28:46.267103",
     "exception": false,
     "start_time": "2022-07-25T10:28:42.852625",
     "status": "completed"
    },
    "tags": []
   },
   "outputs": [
    {
     "data": {
      "application/scrapbook.scrap.json+json": {
       "data": 0.03881144546223754,
       "encoder": "json",
       "name": "ABC-GAN Model 1 MSE",
       "version": 1
      }
     },
     "metadata": {
      "scrapbook": {
       "data": true,
       "display": false,
       "name": "ABC-GAN Model 1 MSE"
      }
     },
     "output_type": "display_data"
    },
    {
     "data": {
      "application/scrapbook.scrap.json+json": {
       "data": 0.12742562231111837,
       "encoder": "json",
       "name": "ABC-GAN Model 1 MAE",
       "version": 1
      }
     },
     "metadata": {
      "scrapbook": {
       "data": true,
       "display": false,
       "name": "ABC-GAN Model 1 MAE"
      }
     },
     "output_type": "display_data"
    },
    {
     "data": {
      "application/scrapbook.scrap.json+json": {
       "data": 19.62354583591223,
       "encoder": "json",
       "name": "ABC-GAN Model 1 Manhattan Distance",
       "version": 1
      }
     },
     "metadata": {
      "scrapbook": {
       "data": true,
       "display": false,
       "name": "ABC-GAN Model 1 Manhattan Distance"
      }
     },
     "output_type": "display_data"
    },
    {
     "data": {
      "application/scrapbook.scrap.json+json": {
       "data": 2.4447760780490375,
       "encoder": "json",
       "name": "ABC-GAN Model 1 Euclidean distance",
       "version": 1
      }
     },
     "metadata": {
      "scrapbook": {
       "data": true,
       "display": false,
       "name": "ABC-GAN Model 1 Euclidean distance"
      }
     },
     "output_type": "display_data"
    },
    {
     "data": {
      "application/scrapbook.scrap.json+json": {
       "data": [
        [
         0.038715776186987995,
         0.039176553382593265,
         0.038935343866346936,
         0.03869242452351671,
         0.03893524811867949,
         0.03860598908374081,
         0.03886603973525455,
         0.03862800072997063,
         0.03888691186230002,
         0.0386859786730564,
         0.03855593160834947,
         0.038472203035176976,
         0.0383741360218232,
         0.0389631921553143,
         0.03890871254200233,
         0.03877666789922021,
         0.038776772142900734,
         0.039255911725302614,
         0.038767620126639986,
         0.038946771793551466,
         0.03852151965217905,
         0.03871679560403626,
         0.038921388063456276,
         0.03871467666625177,
         0.03875888010506157,
         0.038811413069248415,
         0.03877615402145842,
         0.03868240548591887,
         0.038738553456581636,
         0.03889410653211302,
         0.038453041660873225,
         0.038792293847496474,
         0.03890490374429523,
         0.03905113442674062,
         0.0387385996817172,
         0.038860660985521496,
         0.038660932406902035,
         0.03887462815469773,
         0.038830101444918684,
         0.03855741945355556,
         0.03868388739303904,
         0.038774630464058706,
         0.03885668198621469,
         0.03867373763041681,
         0.03870689764332715,
         0.038826447956680554,
         0.03865397302938936,
         0.03869450426061054,
         0.03886218463553379,
         0.03881712545445307,
         0.03884828781563076,
         0.03903805731564015,
         0.03887182427759881,
         0.039220287792286035,
         0.03901317331892664,
         0.038434162827983225,
         0.03856136380505483,
         0.03852119410813119,
         0.038666852421747444,
         0.03884571975682587,
         0.038792935792592895,
         0.03902770650398198,
         0.03905856434679453,
         0.038859143091421855,
         0.03878614715587341,
         0.03860547444321755,
         0.038780594317555324,
         0.03870387138381804,
         0.038824474484513746,
         0.03857077449862118,
         0.03875506474656127,
         0.03906413824415783,
         0.038801081262242784,
         0.03913693652143024,
         0.038529218384324736,
         0.03900722962763381,
         0.03886270182449658,
         0.03897204640523265,
         0.039115061887395684,
         0.038644093746343824,
         0.03903288867226367,
         0.038836365718654224,
         0.038842917581545934,
         0.03884211935430358,
         0.03852238404916938,
         0.038926435862375736,
         0.03927733418372387,
         0.03891100919613204,
         0.03900449474184808,
         0.038719926105496835,
         0.0387173636876134,
         0.03884249240749966,
         0.038646964325209504,
         0.03891973305005984,
         0.03899194523242027,
         0.03899040604884271,
         0.0387988904672699,
         0.03901187911321073,
         0.038931279722027104,
         0.038723670466577445
        ],
        [
         0.12710238059426282,
         0.12817541437296123,
         0.12749593225972994,
         0.12701941402508066,
         0.12758771296251903,
         0.12643050349184445,
         0.1284635230995618,
         0.12696582403082352,
         0.1273084245622158,
         0.12699608035482368,
         0.12590704060026578,
         0.12667873903334914,
         0.1256600712704194,
         0.1279943904222606,
         0.1274802473361616,
         0.127037823345367,
         0.12702985257877933,
         0.12934916181030212,
         0.12746849090054438,
         0.1275306616413903,
         0.12684411715183938,
         0.12708570600136535,
         0.12802302967998888,
         0.126980213908019,
         0.12794512292587912,
         0.12788742833903857,
         0.1277005070118935,
         0.1271259720352563,
         0.1276059446300005,
         0.12801343488035263,
         0.12676696513186803,
         0.12750671721704596,
         0.12751420882421655,
         0.12842319436468086,
         0.1269548691615656,
         0.12737484039230781,
         0.12695503326786028,
         0.12738874182105064,
         0.12711334746185834,
         0.1271633816907158,
         0.1269836810405378,
         0.12734208918817633,
         0.1279688614432688,
         0.12683396849345852,
         0.12653668529608034,
         0.12789170323060706,
         0.12645370479334483,
         0.12649416783219808,
         0.12798369719417063,
         0.12721375206654723,
         0.1272972138574371,
         0.1277894994558452,
         0.1274472569393647,
         0.12888168103315614,
         0.1275223916904493,
         0.12672369370793368,
         0.12628510067021692,
         0.12668048537203244,
         0.12709253769996878,
         0.12682938319328543,
         0.12821562273742318,
         0.12871245957620733,
         0.1278259949153894,
         0.127993344631675,
         0.12802354676963448,
         0.12743826128252142,
         0.12675582061146762,
         0.12775555093373572,
         0.12701640824799415,
         0.12728898144968145,
         0.12741781998570864,
         0.12815828964888276,
         0.12809039105649117,
         0.1283121911639517,
         0.1265579986011053,
         0.1282132137808707,
         0.12709465172964257,
         0.12794204477172394,
         0.12770110538060014,
         0.12685672430829567,
         0.12813379910665673,
         0.12760384801726837,
         0.12720818038691173,
         0.12702121764614985,
         0.1265263667257575,
         0.12757687149690344,
         0.1289677017598183,
         0.1271992772333808,
         0.12819247136448886,
         0.12716282976718693,
         0.12703310374122162,
         0.12711939268878528,
         0.1265685911979768,
         0.12807536178401538,
         0.1278289912099188,
         0.12828349578496698,
         0.12745947821380257,
         0.12796692390527045,
         0.12753681059588085,
         0.1274210781149276
        ],
        [
         19.573766611516476,
         19.73901381343603,
         19.63437356799841,
         19.560989759862423,
         19.648507796227932,
         19.470297537744045,
         19.783382557332516,
         19.552736900746822,
         19.605497382581234,
         19.55739637464285,
         19.38968425244093,
         19.50852581113577,
         19.35165097564459,
         19.711136125028133,
         19.631958089768887,
         19.56382479518652,
         19.562597297132015,
         19.919770918786526,
         19.630147598683834,
         19.639721892774105,
         19.533994041383266,
         19.571198724210262,
         19.71554657071829,
         19.554952941834927,
         19.703548930585384,
         19.69466396421194,
         19.6658780798316,
         19.57739969342947,
         19.651315473020077,
         19.714068971574306,
         19.522112630307674,
         19.636034451425076,
         19.637188158929348,
         19.777171932160854,
         19.5510498508811,
         19.6157254204154,
         19.551075123250484,
         19.6178662404418,
         19.575455509126186,
         19.583160780370235,
         19.555486880242825,
         19.610681734979153,
         19.707204662263393,
         19.53243114799261,
         19.48664953559637,
         19.695322297513485,
         19.473870538175106,
         19.480101846158504,
         19.70948936790228,
         19.590917818248272,
         19.603770934045315,
         19.67958291620016,
         19.626877568662167,
         19.847778879106045,
         19.63844832032919,
         19.515448831021786,
         19.447905503213406,
         19.508794747292995,
         19.572250805795193,
         19.531725011765957,
         19.745205901563168,
         19.821718774735928,
         19.685203216969967,
         19.71097507327795,
         19.71562620252371,
         19.625492237508297,
         19.520396374166012,
         19.6743548437953,
         19.560526870191097,
         19.602503143250942,
         19.62234427779913,
         19.736376605927944,
         19.725920222699642,
         19.760077439248562,
         19.489931784570217,
         19.744834922254086,
         19.572576366364956,
         19.703074894845486,
         19.665970228612423,
         19.535935543477535,
         19.732605062425137,
         19.65099259465933,
         19.590059779584408,
         19.561267517507076,
         19.48506047576666,
         19.64683821052313,
         19.86102607101202,
         19.58868869394064,
         19.741640590131283,
         19.583075784146786,
         19.56309797614813,
         19.576386474072933,
         19.49156304448843,
         19.72360571473837,
         19.685664646327496,
         19.755658350884914,
         19.628759644925594,
         19.706906281411648,
         19.64066883176565,
         19.62284602969885
        ],
        [
         2.4417677065593586,
         2.4562551213014014,
         2.448681881220472,
         2.441031211726219,
         2.4486788703863644,
         2.4383031638613124,
         2.4465016082621323,
         2.4389981780262726,
         2.447158439250349,
         2.4408278750560606,
         2.4367218691688675,
         2.4340746224011403,
         2.430970371551404,
         2.4495574277649426,
         2.4478443029466477,
         2.4436871437399494,
         2.4436904284312924,
         2.45874163052904,
         2.443402033948273,
         2.4490412116187277,
         2.4356342144163547,
         2.441799853186494,
         2.448242994837781,
         2.4417330334421847,
         2.4431265902894763,
         2.444781710636812,
         2.443670951520396,
         2.440715150285159,
         2.442485871466521,
         2.447384809535559,
         2.4334683921872657,
         2.4441794640562824,
         2.447724489525213,
         2.4523202689938475,
         2.442487328725463,
         2.4463323142554265,
         2.4400376207474577,
         2.4467719010613656,
         2.4453702424208643,
         2.4367688843728197,
         2.4407619012365815,
         2.4436229437998493,
         2.446207069296682,
         2.440441680328417,
         2.441487709793433,
         2.4452551984054356,
         2.4398179945491756,
         2.441096814166538,
         2.4463802717223264,
         2.4449616193277497,
         2.445942829177971,
         2.4519096285566038,
         2.4466836613567797,
         2.4576257485654827,
         2.451128044618376,
         2.4328709533202573,
         2.436893519622563,
         2.4356239226638015,
         2.4402244308565364,
         2.4458619835451025,
         2.4441996874353995,
         2.4515845491463732,
         2.452553548733719,
         2.4462845370232316,
         2.4439858146078723,
         2.438286911800066,
         2.443810861114976,
         2.441392265308461,
         2.44519305385385,
         2.4371908568652683,
         2.4430063387086074,
         2.4527285397288274,
         2.4444562819542077,
         2.4550128766057946,
         2.435877589532366,
         2.45094132174877,
         2.446396550229025,
         2.449835738657967,
         2.4543266959919854,
         2.439506187107741,
         2.4517473066220763,
         2.445567484383277,
         2.4457737645902724,
         2.445748633969311,
         2.435661541259804,
         2.448401748652754,
         2.4594124225703737,
         2.447916546004854,
         2.450855399701215,
         2.4418985687875145,
         2.4418177671342436,
         2.445760378850501,
         2.4395967917019123,
         2.4481909422488304,
         2.4504610924870285,
         2.4504127267711,
         2.444387271272612,
         2.451087387963647,
         2.4485540788784252,
         2.442016636276855
        ]
       ],
       "encoder": "json",
       "name": "ABC_GAN_1 Metrics",
       "version": 1
      }
     },
     "metadata": {
      "scrapbook": {
       "data": true,
       "display": false,
       "name": "ABC_GAN_1 Metrics"
      }
     },
     "output_type": "display_data"
    },
    {
     "name": "stdout",
     "output_type": "stream",
     "text": [
      "MAE\n",
      "0.12742562231111837\n"
     ]
    }
   ],
   "source": [
    "ABC_GAN1_metrics=ABC_train_test2.test_generator(gen,test_data,prior_model,variance,bias,\"1\",device)\n",
    "sb.glue(\"ABC_GAN_1 Metrics\",ABC_GAN1_metrics)\n",
    "\n",
    "print(\"MAE\")\n",
    "print(mean(ABC_GAN1_metrics[1]))"
   ]
  },
  {
   "cell_type": "code",
   "execution_count": 14,
   "id": "eb22ce5c",
   "metadata": {
    "execution": {
     "iopub.execute_input": "2022-07-25T10:28:46.319126Z",
     "iopub.status.busy": "2022-07-25T10:28:46.318658Z",
     "iopub.status.idle": "2022-07-25T10:28:47.140440Z",
     "shell.execute_reply": "2022-07-25T10:28:47.139561Z"
    },
    "papermill": {
     "duration": 0.852125,
     "end_time": "2022-07-25T10:28:47.143167",
     "exception": false,
     "start_time": "2022-07-25T10:28:46.291042",
     "status": "completed"
    },
    "tags": []
   },
   "outputs": [
    {
     "data": {
      "image/png": "[encoded data removed]",
      "text/plain": [
       "<Figure size 432x288 with 1 Axes>"
      ]
     },
     "metadata": {
      "needs_background": "light"
     },
     "output_type": "display_data"
    },
    {
     "data": {
      "image/png": "[encoded data removed]",
      "text/plain": [
       "<Figure size 432x288 with 1 Axes>"
      ]
     },
     "metadata": {
      "needs_background": "light"
     },
     "output_type": "display_data"
    },
    {
     "data": {
      "image/png": "[encoded data removed]",
      "text/plain": [
       "<Figure size 432x288 with 1 Axes>"
      ]
     },
     "metadata": {
      "needs_background": "light"
     },
     "output_type": "display_data"
    },
    {
     "data": {
      "image/png": "[encoded data removed]",
      "text/plain": [
       "<Figure size 432x288 with 1 Axes>"
      ]
     },
     "metadata": {
      "needs_background": "light"
     },
     "output_type": "display_data"
    }
   ],
   "source": [
    "sanityChecks.discProbVsError(train_data,disc,device)\n",
    "sanityChecks.discProbVsError(test_data,disc,device)"
   ]
  },
  {
   "cell_type": "markdown",
   "id": "8dffb914",
   "metadata": {
    "papermill": {
     "duration": 0.028368,
     "end_time": "2022-07-25T10:28:47.199519",
     "exception": false,
     "start_time": "2022-07-25T10:28:47.171151",
     "status": "completed"
    },
    "tags": []
   },
   "source": [
    "# mGAN Model with TabNet Generator"
   ]
  },
  {
   "cell_type": "code",
   "execution_count": 15,
   "id": "0eeab73f",
   "metadata": {
    "execution": {
     "iopub.execute_input": "2022-07-25T10:28:47.257349Z",
     "iopub.status.busy": "2022-07-25T10:28:47.256976Z",
     "iopub.status.idle": "2022-07-25T10:28:47.273158Z",
     "shell.execute_reply": "2022-07-25T10:28:47.272307Z"
    },
    "papermill": {
     "duration": 0.049221,
     "end_time": "2022-07-25T10:28:47.276439",
     "exception": false,
     "start_time": "2022-07-25T10:28:47.227218",
     "status": "completed"
    },
    "tags": []
   },
   "outputs": [],
   "source": [
    "gen2 = network.GeneratorTabnet(n_features+1).to(device)\n",
    "disc2 = network.Discriminator(n_features+1).to(device)\n",
    "\n",
    "criterion = torch.nn.BCELoss()\n",
    "gen_opt = torch.optim.Adam(gen2.parameters(), lr=0.01, betas=(0.5, 0.999))\n",
    "disc_opt = torch.optim.Adam(disc2.parameters(), lr=0.01, betas=(0.5, 0.999))"
   ]
  },
  {
   "cell_type": "code",
   "execution_count": 16,
   "id": "b3f804ee",
   "metadata": {
    "execution": {
     "iopub.execute_input": "2022-07-25T10:28:47.331235Z",
     "iopub.status.busy": "2022-07-25T10:28:47.330747Z",
     "iopub.status.idle": "2022-07-25T10:45:10.990320Z",
     "shell.execute_reply": "2022-07-25T10:45:10.989148Z"
    },
    "papermill": {
     "duration": 983.690561,
     "end_time": "2022-07-25T10:45:10.993061",
     "exception": false,
     "start_time": "2022-07-25T10:28:47.302500",
     "status": "completed"
    },
    "tags": []
   },
   "outputs": [
    {
     "data": {
      "image/png": "[encoded data removed]",
      "text/plain": [
       "<Figure size 432x288 with 1 Axes>"
      ]
     },
     "metadata": {
      "needs_background": "light"
     },
     "output_type": "display_data"
    },
    {
     "data": {
      "image/png": "[encoded data removed]",
      "text/plain": [
       "<Figure size 432x288 with 1 Axes>"
      ]
     },
     "metadata": {
      "needs_background": "light"
     },
     "output_type": "display_data"
    }
   ],
   "source": [
    "#Training the ABC_GAN \n",
    "ABC_train_test2.training_GAN(disc2,gen2,disc_opt,gen_opt,train_data,batch_size,n_epochs,criterion,prior_model,variance,bias,device)"
   ]
  },
  {
   "cell_type": "code",
   "execution_count": 17,
   "id": "3cdbda18",
   "metadata": {
    "execution": {
     "iopub.execute_input": "2022-07-25T10:45:11.054315Z",
     "iopub.status.busy": "2022-07-25T10:45:11.053799Z",
     "iopub.status.idle": "2022-07-25T10:45:15.643201Z",
     "shell.execute_reply": "2022-07-25T10:45:15.642350Z"
    },
    "papermill": {
     "duration": 4.622474,
     "end_time": "2022-07-25T10:45:15.645982",
     "exception": false,
     "start_time": "2022-07-25T10:45:11.023508",
     "status": "completed"
    },
    "tags": []
   },
   "outputs": [
    {
     "data": {
      "application/scrapbook.scrap.json+json": {
       "data": 0.054370460176113,
       "encoder": "json",
       "name": "ABC-GAN Model 1 MSE",
       "version": 1
      }
     },
     "metadata": {
      "scrapbook": {
       "data": true,
       "display": false,
       "name": "ABC-GAN Model 1 MSE"
      }
     },
     "output_type": "display_data"
    },
    {
     "data": {
      "application/scrapbook.scrap.json+json": {
       "data": 0.13429393004287374,
       "encoder": "json",
       "name": "ABC-GAN Model 1 MAE",
       "version": 1
      }
     },
     "metadata": {
      "scrapbook": {
       "data": true,
       "display": false,
       "name": "ABC-GAN Model 1 MAE"
      }
     },
     "output_type": "display_data"
    },
    {
     "data": {
      "application/scrapbook.scrap.json+json": {
       "data": 20.681265226602555,
       "encoder": "json",
       "name": "ABC-GAN Model 1 Manhattan Distance",
       "version": 1
      }
     },
     "metadata": {
      "scrapbook": {
       "data": true,
       "display": false,
       "name": "ABC-GAN Model 1 Manhattan Distance"
      }
     },
     "output_type": "display_data"
    },
    {
     "data": {
      "application/scrapbook.scrap.json+json": {
       "data": 2.8925941305584444,
       "encoder": "json",
       "name": "ABC-GAN Model 1 Euclidean distance",
       "version": 1
      }
     },
     "metadata": {
      "scrapbook": {
       "data": true,
       "display": false,
       "name": "ABC-GAN Model 1 Euclidean distance"
      }
     },
     "output_type": "display_data"
    },
    {
     "data": {
      "application/scrapbook.scrap.json+json": {
       "data": [
        [
         0.05435667473524533,
         0.05032912112740054,
         0.04915830442724555,
         0.05319502835995674,
         0.05287544932279267,
         0.049902227286069675,
         0.0552881330433278,
         0.05117392837300906,
         0.05483981038902441,
         0.052040327502200945,
         0.05196159786297501,
         0.04793713896329483,
         0.05072995457851706,
         0.05476834996439297,
         0.05299857353000667,
         0.05357364405182171,
         0.054747804463220986,
         0.05115616472349957,
         0.04970619635158838,
         0.0558697865199972,
         0.05476924595862526,
         0.05320886601110826,
         0.05658372045722329,
         0.05539438277377416,
         0.054046489367468184,
         0.050684851972136374,
         0.05231164410815965,
         0.05316008485075305,
         0.05315603749357115,
         0.05763772985510421,
         0.05779141792197768,
         0.05430718246296748,
         0.060814800050254504,
         0.05774684436439302,
         0.05313626792593665,
         0.057094911030358055,
         0.05154808303144036,
         0.05346832078225537,
         0.05578964044477648,
         0.05576354806940235,
         0.055038751226997314,
         0.057093580230241116,
         0.05763923102800819,
         0.050789390456233055,
         0.05435164811995988,
         0.05877873031247367,
         0.05479863709587107,
         0.055957943842844346,
         0.05726912070080362,
         0.05242009538806456,
         0.05552260807622263,
         0.055294723830858664,
         0.051293624338606215,
         0.058211891929895954,
         0.05649605683111043,
         0.05507592380283656,
         0.05809105312489548,
         0.04995108237003391,
         0.05698263251359015,
         0.054123026931268865,
         0.056340451018727776,
         0.05618030213501373,
         0.05637585710027763,
         0.055843178189813554,
         0.05820703671315051,
         0.05363692236081432,
         0.047809360238046064,
         0.05786715172139389,
         0.05428296603195752,
         0.05561912139734065,
         0.05840398181661814,
         0.056059798218760164,
         0.059810205544759694,
         0.0532022111893444,
         0.05279484696837892,
         0.05264682906614353,
         0.05010258337652555,
         0.053704227345379905,
         0.053851700300539575,
         0.06002424674177253,
         0.05154705326839073,
         0.05639064749501295,
         0.052719358653286245,
         0.05523725065218748,
         0.05036838712300777,
         0.05319614249695281,
         0.05646410798693596,
         0.05857459460487492,
         0.055298788467441184,
         0.05078606093618813,
         0.055281342922699296,
         0.05795630660903831,
         0.050993326182891825,
         0.05482598159430113,
         0.05817281331040905,
         0.04851424784753768,
         0.051413136922724485,
         0.05825603565221101,
         0.05808094182134368,
         0.05000447893101934
        ],
        [
         0.13212521640317781,
         0.1282562328526726,
         0.128434438935735,
         0.13513147787420782,
         0.131530935452743,
         0.12939231866946468,
         0.13490364086124804,
         0.13147004911458338,
         0.13623664765195412,
         0.13308774239637636,
         0.1326027117282539,
         0.1281904862201833,
         0.1296084722044406,
         0.13531297943615295,
         0.1314397697615159,
         0.13394744379760384,
         0.13532602898292728,
         0.13280178988715272,
         0.13167621422704165,
         0.1381512200580789,
         0.13108294133048554,
         0.1339009525617222,
         0.13850685504156274,
         0.1384231641211293,
         0.13344695036867996,
         0.12969917305684708,
         0.1348336193371903,
         0.12962610918012532,
         0.13143757154995744,
         0.13740567606571433,
         0.13696591183543205,
         0.1315517798549943,
         0.1405039144704094,
         0.1376693176661993,
         0.13349649131104543,
         0.1382069345321748,
         0.1324644312746339,
         0.1307418831660376,
         0.13730880787426775,
         0.13845147110231512,
         0.14017478207295592,
         0.13637642112451714,
         0.13951351595195857,
         0.1321794411481975,
         0.13591815816698136,
         0.13958460377988877,
         0.13258842751383781,
         0.1382495609487032,
         0.13600187018126636,
         0.12902057011212623,
         0.13677450022720672,
         0.13089492621940452,
         0.12967164519351798,
         0.13866996721594366,
         0.13066125085408037,
         0.13515802729245904,
         0.138593704234083,
         0.13088852975082088,
         0.13629219008537083,
         0.134673432047878,
         0.13746613626936813,
         0.13569031728359013,
         0.13395862024906394,
         0.1356375069877544,
         0.13506463029748433,
         0.13225495578213173,
         0.1297438997630175,
         0.13755921008331434,
         0.13040955417922565,
         0.13377200565361358,
         0.14080999032049984,
         0.13547256351871925,
         0.13498758432733549,
         0.13312795134140298,
         0.13099148709859168,
         0.13691104982386937,
         0.1280364610448286,
         0.1348590962588787,
         0.13588580097277442,
         0.14036984891666995,
         0.1332573596049439,
         0.13566194005407295,
         0.13239771355088656,
         0.1377684868291601,
         0.13188892656138965,
         0.13305540203854635,
         0.1344003996194957,
         0.13423113074976128,
         0.1353891659769919,
         0.13333699411966585,
         0.13717938703182456,
         0.13655332945190468,
         0.13292085635778192,
         0.13258493328829865,
         0.13660143601236405,
         0.1296794760440077,
         0.1332229452764059,
         0.1410060605735748,
         0.13506700983875758,
         0.1329460847977694
        ],
        [
         20.347283326089382,
         19.75145985931158,
         19.77890359610319,
         20.810247592628002,
         20.255764059722424,
         19.92641707509756,
         20.7751606926322,
         20.24638756364584,
         20.980443738400936,
         20.495512329041958,
         20.420817606151104,
         19.74133487790823,
         19.959704719483852,
         20.838198833167553,
         20.24172454327345,
         20.62790634483099,
         20.8402084633708,
         20.451475642621517,
         20.278136990964413,
         21.27528788894415,
         20.18677296489477,
         20.620746694505215,
         21.33005567640066,
         21.31716727465391,
         20.550830356776714,
         19.97367265075445,
         20.764377377927303,
         19.9624208137393,
         20.241386018693447,
         21.160474114120007,
         21.092750422656536,
         20.258974097669125,
         21.63760282844305,
         21.201074920594692,
         20.558459661900997,
         21.28386791795492,
         20.39952241629362,
         20.13425000756979,
         21.145556412637234,
         21.321526549756527,
         21.58691643923521,
         21.00196885317564,
         21.48508145660162,
         20.355633936822414,
         20.93139635771513,
         21.49602898210287,
         20.418617837131023,
         21.290432386100292,
         20.94428800791502,
         19.869167797267437,
         21.063273034989834,
         20.157818637788296,
         19.96943335980177,
         21.35517495125532,
         20.121832631528378,
         20.814336203038692,
         21.34343045204878,
         20.156833581626415,
         20.988997273147106,
         20.73970853537321,
         21.169784985482693,
         20.89630886167288,
         20.629627518355846,
         20.888176076114178,
         20.799953065812588,
         20.367263190448284,
         19.980560563504696,
         21.18411835283041,
         20.08307134360075,
         20.60088887065649,
         21.684738509356976,
         20.862774781882763,
         20.788087986409664,
         20.50170450657606,
         20.172689013183117,
         21.08430167287588,
         19.717615000903606,
         20.76830082386732,
         20.926413349807262,
         21.61695673316717,
         20.521633379161358,
         20.891938768327236,
         20.38924788683653,
         21.216346971690655,
         20.310894690454006,
         20.490531913936138,
         20.69766154140234,
         20.671594135463238,
         20.849931560456753,
         20.53389709442854,
         21.125625602900982,
         21.02921273559332,
         20.469811879098415,
         20.41807972639799,
         21.036621145904064,
         19.970639310777187,
         20.51633357256651,
         21.714933328330517,
         20.800319515168667,
         20.473697058856487
        ],
        [
         2.893255590027915,
         2.784005146119468,
         2.7514321510434914,
         2.8621730149369617,
         2.853562544559006,
         2.7721729747717276,
         2.9179397678280607,
         2.8072735829347653,
         2.906085132942556,
         2.8309380839818705,
         2.8287958694289257,
         2.7170423994386623,
         2.7950694097091087,
         2.9041910912535553,
         2.8568829733856838,
         2.8723407151625557,
         2.903646308925388,
         2.8067863059768072,
         2.7667226529134807,
         2.933248561591664,
         2.90421484701602,
         2.862545260028332,
         2.951930376958844,
         2.9207421911495746,
         2.8849886243432743,
         2.7938266237741023,
         2.8383081567470057,
         2.8612327879807276,
         2.8611238655482842,
         2.979296963662073,
         2.983266391052693,
         2.8919381216231077,
         3.060307044683456,
         2.982115697305609,
         2.8605917675533927,
         2.965234611067923,
         2.8175174865192614,
         2.8695158825954117,
         2.9311439112564184,
         2.9304583946352083,
         2.911351522739497,
         2.9652000531932288,
         2.9793357612584153,
         2.796706300321843,
         2.8931218105143484,
         3.0086416317203586,
         2.9049939953060386,
         2.935561846018242,
         2.9697549710243365,
         2.841248790542979,
         2.9241206616243254,
         2.9181136835209545,
         2.810554775866387,
         2.99409942339996,
         2.949642817696916,
         2.912334504420265,
         2.990990167358279,
         2.7735296437906016,
         2.9623175736394094,
         2.8870306800266956,
         2.9455779495515095,
         2.94138853754347,
         2.9465033503192815,
         2.9325499895536793,
         2.9939745579789374,
         2.8740365417936844,
         2.7134187801847127,
         2.9852204885225233,
         2.8912932692692137,
         2.926661014738546,
         2.9990353782106656,
         2.938232279056417,
         3.0349253127371987,
         2.8623662454617924,
         2.851386756146972,
         2.847386815342465,
         2.7777324997171586,
         2.8758391838189605,
         2.8797850347349008,
         3.040350966292044,
         2.8174893439607134,
         2.946889837478149,
         2.8493475099759387,
         2.916596749713075,
         2.785090953082717,
         2.862202988002551,
         2.9488086797871675,
         3.003412653824102,
         2.918220934745335,
         2.796614629185253,
         2.9177605813527077,
         2.987519241409483,
         2.8023155126012025,
         2.9057187003428897,
         2.9930942600932218,
         2.7333485267197086,
         2.813827124416063,
         2.995234463350155,
         2.990729850803466,
         2.775011667610963
        ]
       ],
       "encoder": "json",
       "name": "ABC_GAN_2 Metrics",
       "version": 1
      }
     },
     "metadata": {
      "scrapbook": {
       "data": true,
       "display": false,
       "name": "ABC_GAN_2 Metrics"
      }
     },
     "output_type": "display_data"
    },
    {
     "name": "stdout",
     "output_type": "stream",
     "text": [
      "MAE\n",
      "0.13429393004287374\n"
     ]
    }
   ],
   "source": [
    "ABC_GAN2_metrics=ABC_train_test2.test_generator(gen2,test_data,prior_model,variance,bias,\"1\",device)\n",
    "sb.glue(\"ABC_GAN_2 Metrics\",ABC_GAN2_metrics)\n",
    "\n",
    "print(\"MAE\")\n",
    "print(mean(ABC_GAN2_metrics[1]))"
   ]
  },
  {
   "cell_type": "code",
   "execution_count": 18,
   "id": "77f616cf",
   "metadata": {
    "execution": {
     "iopub.execute_input": "2022-07-25T10:45:15.710724Z",
     "iopub.status.busy": "2022-07-25T10:45:15.710347Z",
     "iopub.status.idle": "2022-07-25T10:45:16.772998Z",
     "shell.execute_reply": "2022-07-25T10:45:16.772116Z"
    },
    "papermill": {
     "duration": 1.097838,
     "end_time": "2022-07-25T10:45:16.775730",
     "exception": false,
     "start_time": "2022-07-25T10:45:15.677892",
     "status": "completed"
    },
    "tags": []
   },
   "outputs": [
    {
     "data": {
      "image/png": "[encoded data removed]",
      "text/plain": [
       "<Figure size 432x288 with 1 Axes>"
      ]
     },
     "metadata": {
      "needs_background": "light"
     },
     "output_type": "display_data"
    },
    {
     "data": {
      "image/png": "[encoded data removed]",
      "text/plain": [
       "<Figure size 432x288 with 1 Axes>"
      ]
     },
     "metadata": {
      "needs_background": "light"
     },
     "output_type": "display_data"
    },
    {
     "data": {
      "image/png": "[encoded data removed]",
      "text/plain": [
       "<Figure size 432x288 with 1 Axes>"
      ]
     },
     "metadata": {
      "needs_background": "light"
     },
     "output_type": "display_data"
    },
    {
     "data": {
      "image/png": "[encoded data removed]",
      "text/plain": [
       "<Figure size 432x288 with 1 Axes>"
      ]
     },
     "metadata": {
      "needs_background": "light"
     },
     "output_type": "display_data"
    }
   ],
   "source": [
    "sanityChecks.discProbVsError(train_data,disc2,device)\n",
    "sanityChecks.discProbVsError(test_data,disc2,device)"
   ]
  },
  {
   "cell_type": "markdown",
   "id": "130f3a4d",
   "metadata": {
    "id": "130f3a4d",
    "papermill": {
     "duration": 0.035614,
     "end_time": "2022-07-25T10:45:16.846307",
     "exception": false,
     "start_time": "2022-07-25T10:45:16.810693",
     "status": "completed"
    },
    "tags": []
   },
   "source": [
    "# skipGAN Model"
   ]
  },
  {
   "cell_type": "code",
   "execution_count": 19,
   "id": "4e43dad1",
   "metadata": {
    "execution": {
     "iopub.execute_input": "2022-07-25T10:45:16.911491Z",
     "iopub.status.busy": "2022-07-25T10:45:16.911160Z",
     "iopub.status.idle": "2022-07-25T10:45:16.922285Z",
     "shell.execute_reply": "2022-07-25T10:45:16.920258Z"
    },
    "id": "4e43dad1",
    "papermill": {
     "duration": 0.047253,
     "end_time": "2022-07-25T10:45:16.925348",
     "exception": false,
     "start_time": "2022-07-25T10:45:16.878095",
     "status": "completed"
    },
    "tags": []
   },
   "outputs": [],
   "source": [
    "#Generator\n",
    "gen3 = network.GeneratorWithSkipConnection(n_features+1).to(device)\n",
    "constraints=network.weightConstraint()\n",
    "#Discriminator \n",
    "disc3 = network.Discriminator(n_features+1).to(device)\n",
    "\n",
    "criterion = torch.nn.BCELoss()\n",
    "gen_opt = torch.optim.Adam(gen3.parameters(), lr=0.01, betas=(0.5, 0.999))\n",
    "disc_opt = torch.optim.Adam(disc3.parameters(), lr=0.01, betas=(0.5, 0.999))\n"
   ]
  },
  {
   "cell_type": "code",
   "execution_count": 20,
   "id": "26acbc37",
   "metadata": {
    "execution": {
     "iopub.execute_input": "2022-07-25T10:45:16.992320Z",
     "iopub.status.busy": "2022-07-25T10:45:16.991851Z",
     "iopub.status.idle": "2022-07-25T10:55:31.144019Z",
     "shell.execute_reply": "2022-07-25T10:55:31.143069Z"
    },
    "id": "26acbc37",
    "papermill": {
     "duration": 614.189684,
     "end_time": "2022-07-25T10:55:31.147128",
     "exception": false,
     "start_time": "2022-07-25T10:45:16.957444",
     "status": "completed"
    },
    "tags": []
   },
   "outputs": [
    {
     "data": {
      "image/png": "[encoded data removed]",
      "text/plain": [
       "<Figure size 432x288 with 1 Axes>"
      ]
     },
     "metadata": {
      "needs_background": "light"
     },
     "output_type": "display_data"
    },
    {
     "data": {
      "image/png": "[encoded data removed]",
      "text/plain": [
       "<Figure size 432x288 with 1 Axes>"
      ]
     },
     "metadata": {
      "needs_background": "light"
     },
     "output_type": "display_data"
    }
   ],
   "source": [
    "ABC_train_test2.training_GAN_skip_connection(disc3,gen3,disc_opt,gen_opt,train_data,batch_size,n_epochs,criterion,prior_model,variance,bias,device)"
   ]
  },
  {
   "cell_type": "code",
   "execution_count": 21,
   "id": "c5e0717b",
   "metadata": {
    "execution": {
     "iopub.execute_input": "2022-07-25T10:55:31.216328Z",
     "iopub.status.busy": "2022-07-25T10:55:31.215624Z",
     "iopub.status.idle": "2022-07-25T10:55:35.628605Z",
     "shell.execute_reply": "2022-07-25T10:55:35.627630Z"
    },
    "id": "c5e0717b",
    "papermill": {
     "duration": 4.448513,
     "end_time": "2022-07-25T10:55:35.631469",
     "exception": false,
     "start_time": "2022-07-25T10:55:31.182956",
     "status": "completed"
    },
    "tags": []
   },
   "outputs": [
    {
     "data": {
      "application/scrapbook.scrap.json+json": {
       "data": 0.005659475132561157,
       "encoder": "json",
       "name": "ABC-GAN Model 3 MSE",
       "version": 1
      }
     },
     "metadata": {
      "scrapbook": {
       "data": true,
       "display": false,
       "name": "ABC-GAN Model 3 MSE"
      }
     },
     "output_type": "display_data"
    },
    {
     "data": {
      "application/scrapbook.scrap.json+json": {
       "data": 0.05978161931799894,
       "encoder": "json",
       "name": "ABC-GAN Model 3 MAE",
       "version": 1
      }
     },
     "metadata": {
      "scrapbook": {
       "data": true,
       "display": false,
       "name": "ABC-GAN Model 3 MAE"
      }
     },
     "output_type": "display_data"
    },
    {
     "data": {
      "application/scrapbook.scrap.json+json": {
       "data": 9.206369374971837,
       "encoder": "json",
       "name": "ABC-GAN Model 3 Manhattan Distance",
       "version": 1
      }
     },
     "metadata": {
      "scrapbook": {
       "data": true,
       "display": false,
       "name": "ABC-GAN Model 3 Manhattan Distance"
      }
     },
     "output_type": "display_data"
    },
    {
     "data": {
      "application/scrapbook.scrap.json+json": {
       "data": 0.933516811675227,
       "encoder": "json",
       "name": "ABC-GAN Model 3 Euclidean distance",
       "version": 1
      }
     },
     "metadata": {
      "scrapbook": {
       "data": true,
       "display": false,
       "name": "ABC-GAN Model 3 Euclidean distance"
      }
     },
     "output_type": "display_data"
    },
    {
     "data": {
      "application/scrapbook.scrap.json+json": {
       "data": [
        [
         0.0057654718514159094,
         0.005531084769001478,
         0.0056455316342779675,
         0.005639562553478811,
         0.005629360021714297,
         0.005731497337010091,
         0.005750606606042566,
         0.005865879572723286,
         0.005591858272461871,
         0.0058522989512057155,
         0.005678905120605992,
         0.005627197750999379,
         0.005488132501639953,
         0.005623654456105399,
         0.005667289595901982,
         0.005538177486012153,
         0.0055813949281845,
         0.005668463542335658,
         0.005700070433031129,
         0.0058616389954506895,
         0.005754805272187065,
         0.005629447290859827,
         0.005667803731957007,
         0.005731485319688212,
         0.0055969295251989785,
         0.005518453775659481,
         0.0055472636676437564,
         0.005763188472195398,
         0.005806265661287557,
         0.005579817155204926,
         0.005509919922963393,
         0.005539591002038485,
         0.0057412083117860955,
         0.005587168608090666,
         0.005667943644900468,
         0.005764351421532728,
         0.005821059368177837,
         0.005820211701136165,
         0.005483538061285871,
         0.00553800245658488,
         0.0054732784797520565,
         0.005688104968754862,
         0.00558545226057011,
         0.0054254389455156106,
         0.005760130730853008,
         0.005620701068217849,
         0.005627810555494165,
         0.005829466212019717,
         0.005782373697893549,
         0.005512465273539226,
         0.005762371510053314,
         0.005515632305312017,
         0.00599391918962886,
         0.0057859995467713045,
         0.0054459267341075744,
         0.005544849773887931,
         0.005401624105443134,
         0.005659315286117173,
         0.005631995237866302,
         0.005575090304334789,
         0.005606109210143135,
         0.005733522666748482,
         0.005731971299428632,
         0.005608188279253838,
         0.005676685575888714,
         0.005592242311048782,
         0.0058189707546316685,
         0.005477705249761514,
         0.005605401911171478,
         0.005623099223590409,
         0.00559837298001844,
         0.005847722062740291,
         0.005442407459807949,
         0.005708429038306826,
         0.0059427598254017415,
         0.0055868667699260025,
         0.0057862794625478066,
         0.0058369625247056325,
         0.005753708009012402,
         0.0055956129184964384,
         0.005583460601815404,
         0.005868934790325686,
         0.005821688581926336,
         0.005763505015208801,
         0.005525858060717312,
         0.005639569114016064,
         0.00539382523830611,
         0.0056566855058290556,
         0.005740431782812073,
         0.005632406159096202,
         0.0056077108792048505,
         0.005732390684463644,
         0.0058067466724563924,
         0.005776557437077375,
         0.005514691368704888,
         0.005685836841913452,
         0.005598898888512936,
         0.005495748424881386,
         0.005790801531399082,
         0.005610271208708266
        ],
        [
         0.05994814939119599,
         0.05923004632259344,
         0.05967093067993591,
         0.0594054874177877,
         0.05963241664523428,
         0.06011053358579611,
         0.06025122193159995,
         0.061490920045739646,
         0.05968422682157585,
         0.06066885730856425,
         0.06019530087322384,
         0.06024703042363966,
         0.05904188546557705,
         0.05972255040685852,
         0.05902704361874562,
         0.0594684656757813,
         0.05980674673307251,
         0.05977468748951887,
         0.060436296288843276,
         0.061547449535944244,
         0.060656688405902354,
         0.059686437491085625,
         0.06024992238585051,
         0.06006689024968194,
         0.060007832121926466,
         0.059350376053676976,
         0.05896587210235658,
         0.05982274283933175,
         0.06037962833395252,
         0.05931963747391453,
         0.058244547576873335,
         0.05790442591170212,
         0.060137616155983564,
         0.05954262374767235,
         0.05990525557623281,
         0.06032963416406086,
         0.06092108984465723,
         0.060864538534895166,
         0.059294127435846763,
         0.05858838756556635,
         0.05769504101148674,
         0.059563281546745984,
         0.05933825062079863,
         0.058365399259832,
         0.06016285874723614,
         0.05937318709473331,
         0.05998979015396787,
         0.06152566575578281,
         0.06038763952235897,
         0.05913930986221735,
         0.05960120797737852,
         0.059706307850874864,
         0.061087198192616564,
         0.06058385503756535,
         0.05869349051121767,
         0.05915719701291679,
         0.0584928687758647,
         0.06000788219563373,
         0.05976311756031854,
         0.05862231968672245,
         0.059493845159357246,
         0.059791281577441596,
         0.06044382289922857,
         0.05881592483779827,
         0.06063722427208702,
         0.05912166995951881,
         0.06046685170043598,
         0.05853280519413483,
         0.059310775588859214,
         0.05884699027549911,
         0.05928268651296566,
         0.06044024495141847,
         0.05787582371335525,
         0.05967235308769461,
         0.06161171120482606,
         0.05907909402793104,
         0.060620137962040965,
         0.06119666976684874,
         0.06050352195834185,
         0.05953700821121018,
         0.058768707896014315,
         0.060700973858693975,
         0.060304347715981595,
         0.060628540184977764,
         0.0589723681861704,
         0.060113168382025385,
         0.058021582953341595,
         0.05966219888975868,
         0.0599363169499806,
         0.060027804757867544,
         0.059994578796934775,
         0.060234828017555274,
         0.0616084664769761,
         0.06009500761601058,
         0.05911883581187818,
         0.06034046730824879,
         0.059905758635564285,
         0.05876650612849694,
         0.0608750366448582,
         0.0599516047188988
        ],
        [
         9.232015006244183,
         9.12142713367939,
         9.18932332471013,
         9.148445062339306,
         9.18339216336608,
         9.2570221722126,
         9.278688177466393,
         9.469601687043905,
         9.19137093052268,
         9.343004025518894,
         9.270076334476471,
         9.278042685240507,
         9.092450361698866,
         9.197272762656212,
         9.090164717286825,
         9.15814371407032,
         9.210238996893167,
         9.205301873385906,
         9.307189628481865,
         9.478307228535414,
         9.341130014508963,
         9.191711373627186,
         9.278488047420979,
         9.250301098451018,
         9.241206146776676,
         9.139957912266254,
         9.080744303762913,
         9.21270239725709,
         9.298462763428688,
         9.135224170982838,
         8.969660326838493,
         8.917281590402126,
         9.26119288802147,
         9.169564057141542,
         9.225409358739853,
         9.290763661265373,
         9.381847836077213,
         9.373138934373856,
         9.131295625120401,
         9.022611685097218,
         8.885036315768957,
         9.172745358198881,
         9.13809059560299,
         8.988271486014128,
         9.265080247074366,
         9.14347081258893,
         9.238427683711052,
         9.474952526390553,
         9.299696486443281,
         9.107453718781471,
         9.178586028516293,
         9.194771409034729,
         9.40742852166295,
         9.329913675785065,
         9.038797538727522,
         9.110208339989185,
         9.007901791483164,
         9.241213858127594,
         9.203520104289055,
         9.027837231755257,
         9.162052154541016,
         9.207857362926006,
         9.3083487264812,
         9.057652425020933,
         9.338132537901402,
         9.104737173765898,
         9.311895161867142,
         9.014051999896765,
         9.133859440684319,
         9.062436502426863,
         9.129533722996712,
         9.307797722518444,
         8.912876851856709,
         9.18954237550497,
         9.488203525543213,
         9.09818048030138,
         9.335501246154308,
         9.424287144094706,
         9.317542381584644,
         9.168699264526367,
         9.050381015986204,
         9.347949974238873,
         9.286869548261166,
         9.336795188486576,
         9.081744700670242,
         9.25742793083191,
         8.935323774814606,
         9.187978629022837,
         9.230192810297012,
         9.244281932711601,
         9.239165134727955,
         9.276163514703512,
         9.487703837454319,
         9.25463117286563,
         9.10430071502924,
         9.292431965470314,
         9.2254868298769,
         9.050041943788528,
         9.374755643308163,
         9.232547126710415
        ],
        [
         0.9422752597399817,
         0.9229231032032017,
         0.9324225821368802,
         0.93192952160329,
         0.9310861632222883,
         0.9394948589000123,
         0.9410597310110316,
         0.9504448717308049,
         0.9279796193662488,
         0.9493440042922693,
         0.9351745230561634,
         0.9309073281771416,
         0.9193325868544815,
         0.9306141983874044,
         0.9342176394014969,
         0.9235146630378273,
         0.9271110068057724,
         0.934314393295796,
         0.9369156027555491,
         0.9501012605503723,
         0.9414032143119164,
         0.9310933802752618,
         0.9342600145148989,
         0.9394938739725687,
         0.9284003160709515,
         0.9218686899182335,
         0.9242719322889441,
         0.9420886501376032,
         0.945602935612133,
         0.9269799576590417,
         0.9211556155918296,
         0.923632510424967,
         0.9402904232284081,
         0.9275904083408596,
         0.9342715458123896,
         0.9421836970124458,
         0.9468068138217991,
         0.946737873951903,
         0.9189476924384892,
         0.9235000694716117,
         0.9180876242940086,
         0.9359317096819878,
         0.9274479220569729,
         0.914066517059565,
         0.9418386977351075,
         0.9303697998675305,
         0.9309580149212431,
         0.9474902620349386,
         0.9436554188238451,
         0.9213683585434442,
         0.9420218747716055,
         0.9216329936683314,
         0.9607619659430969,
         0.9439512329579218,
         0.9157907605193265,
         0.9240708117772909,
         0.9120581737138496,
         0.933560150211032,
         0.9313040677627316,
         0.9265872365123304,
         0.9291613521676646,
         0.9396608381108933,
         0.9395337035529963,
         0.9293336295459727,
         0.9349917532721141,
         0.9280114847896617,
         0.9466369400215042,
         0.9184588224102772,
         0.929102736149457,
         0.9305682567296839,
         0.9285200261291298,
         0.9489727064894989,
         0.9154948109139801,
         0.937602299431508,
         0.9566530265001351,
         0.9275653521820467,
         0.9439740659744643,
         0.9480992715980049,
         0.941313461811691,
         0.9282911124471954,
         0.9272825527742729,
         0.950692357027317,
         0.9468579838690995,
         0.94211452188264,
         0.9224869328887353,
         0.9319300636627589,
         0.9113995209013119,
         0.9333432208451908,
         0.9402268314364673,
         0.9313380420131109,
         0.9292940736911793,
         0.939568073854897,
         0.9456421033130264,
         0.9431807066039444,
         0.9215543775494491,
         0.9357450901044961,
         0.928563637469717,
         0.9199702481231301,
         0.9443428592600563,
         0.929506194783592
        ]
       ],
       "encoder": "json",
       "name": "ABC_GAN_3 Metrics",
       "version": 1
      }
     },
     "metadata": {
      "scrapbook": {
       "data": true,
       "display": false,
       "name": "ABC_GAN_3 Metrics"
      }
     },
     "output_type": "display_data"
    },
    {
     "name": "stdout",
     "output_type": "stream",
     "text": [
      "MAE\n",
      "0.05978161931799894\n"
     ]
    }
   ],
   "source": [
    "ABC_GAN3_metrics=ABC_train_test2.test_generator(gen3,test_data,prior_model,variance,bias,\"3\",device)\n",
    "sb.glue(\"ABC_GAN_3 Metrics\",ABC_GAN3_metrics)\n",
    "\n",
    "print(\"MAE\")\n",
    "print(mean(ABC_GAN3_metrics[1]))"
   ]
  },
  {
   "cell_type": "code",
   "execution_count": 22,
   "id": "c8e46b48",
   "metadata": {
    "execution": {
     "iopub.execute_input": "2022-07-25T10:55:35.701386Z",
     "iopub.status.busy": "2022-07-25T10:55:35.700932Z",
     "iopub.status.idle": "2022-07-25T10:55:36.550199Z",
     "shell.execute_reply": "2022-07-25T10:55:36.548423Z"
    },
    "id": "c8e46b48",
    "papermill": {
     "duration": 0.887251,
     "end_time": "2022-07-25T10:55:36.553405",
     "exception": false,
     "start_time": "2022-07-25T10:55:35.666154",
     "status": "completed"
    },
    "tags": []
   },
   "outputs": [
    {
     "data": {
      "image/png": "[encoded data removed]",
      "text/plain": [
       "<Figure size 432x288 with 1 Axes>"
      ]
     },
     "metadata": {
      "needs_background": "light"
     },
     "output_type": "display_data"
    },
    {
     "data": {
      "image/png": "[encoded data removed]",
      "text/plain": [
       "<Figure size 432x288 with 1 Axes>"
      ]
     },
     "metadata": {
      "needs_background": "light"
     },
     "output_type": "display_data"
    },
    {
     "data": {
      "image/png": "[encoded data removed]",
      "text/plain": [
       "<Figure size 432x288 with 1 Axes>"
      ]
     },
     "metadata": {
      "needs_background": "light"
     },
     "output_type": "display_data"
    },
    {
     "data": {
      "image/png": "[encoded data removed]",
      "text/plain": [
       "<Figure size 432x288 with 1 Axes>"
      ]
     },
     "metadata": {
      "needs_background": "light"
     },
     "output_type": "display_data"
    }
   ],
   "source": [
    "sanityChecks.discProbVsError(train_data,disc3,device)\n",
    "sanityChecks.discProbVsError(test_data,disc3,device)"
   ]
  },
  {
   "cell_type": "markdown",
   "id": "5b88cdf4",
   "metadata": {
    "id": "130f3a4d",
    "papermill": {
     "duration": 0.036188,
     "end_time": "2022-07-25T10:55:36.625746",
     "exception": false,
     "start_time": "2022-07-25T10:55:36.589558",
     "status": "completed"
    },
    "tags": []
   },
   "source": [
    "# skipGAN Model with TabNet Generator"
   ]
  },
  {
   "cell_type": "code",
   "execution_count": 23,
   "id": "8020ea5d",
   "metadata": {
    "execution": {
     "iopub.execute_input": "2022-07-25T10:55:36.696151Z",
     "iopub.status.busy": "2022-07-25T10:55:36.695851Z",
     "iopub.status.idle": "2022-07-25T10:55:36.713254Z",
     "shell.execute_reply": "2022-07-25T10:55:36.712309Z"
    },
    "id": "4e43dad1",
    "papermill": {
     "duration": 0.057149,
     "end_time": "2022-07-25T10:55:36.716567",
     "exception": false,
     "start_time": "2022-07-25T10:55:36.659418",
     "status": "completed"
    },
    "tags": []
   },
   "outputs": [],
   "source": [
    "#Generator\n",
    "gen4 = network.GeneratorTabnetskipConnection(n_features+1).to(device)\n",
    "constraints=network.weightConstraint()\n",
    "#Discriminator \n",
    "disc4 = network.Discriminator(n_features+1).to(device)\n",
    "\n",
    "criterion = torch.nn.BCELoss()\n",
    "gen_opt = torch.optim.Adam(gen4.parameters(), lr=0.01, betas=(0.5, 0.999))\n",
    "disc_opt = torch.optim.Adam(disc4.parameters(), lr=0.01, betas=(0.5, 0.999))\n"
   ]
  },
  {
   "cell_type": "code",
   "execution_count": 24,
   "id": "9298a888",
   "metadata": {
    "execution": {
     "iopub.execute_input": "2022-07-25T10:55:36.793009Z",
     "iopub.status.busy": "2022-07-25T10:55:36.792548Z",
     "iopub.status.idle": "2022-07-25T11:15:50.924039Z",
     "shell.execute_reply": "2022-07-25T11:15:50.922433Z"
    },
    "id": "26acbc37",
    "papermill": {
     "duration": 1214.175632,
     "end_time": "2022-07-25T11:15:50.928882",
     "exception": false,
     "start_time": "2022-07-25T10:55:36.753250",
     "status": "completed"
    },
    "tags": []
   },
   "outputs": [
    {
     "data": {
      "image/png": "[encoded data removed]",
      "text/plain": [
       "<Figure size 432x288 with 1 Axes>"
      ]
     },
     "metadata": {
      "needs_background": "light"
     },
     "output_type": "display_data"
    },
    {
     "data": {
      "image/png": "[encoded data removed]",
      "text/plain": [
       "<Figure size 432x288 with 1 Axes>"
      ]
     },
     "metadata": {
      "needs_background": "light"
     },
     "output_type": "display_data"
    }
   ],
   "source": [
    "ABC_train_test2.training_GAN_skip_connection(disc4,gen4,disc_opt,gen_opt,train_data,batch_size,n_epochs,criterion,prior_model,variance,bias,device)"
   ]
  },
  {
   "cell_type": "code",
   "execution_count": 25,
   "id": "0fb7aff9",
   "metadata": {
    "execution": {
     "iopub.execute_input": "2022-07-25T11:15:51.170855Z",
     "iopub.status.busy": "2022-07-25T11:15:51.170357Z",
     "iopub.status.idle": "2022-07-25T11:15:58.692412Z",
     "shell.execute_reply": "2022-07-25T11:15:58.691450Z"
    },
    "id": "c5e0717b",
    "papermill": {
     "duration": 7.566378,
     "end_time": "2022-07-25T11:15:58.695929",
     "exception": false,
     "start_time": "2022-07-25T11:15:51.129551",
     "status": "completed"
    },
    "tags": []
   },
   "outputs": [
    {
     "data": {
      "application/scrapbook.scrap.json+json": {
       "data": 0.01033155964704382,
       "encoder": "json",
       "name": "ABC-GAN Model 3 MSE",
       "version": 1
      }
     },
     "metadata": {
      "scrapbook": {
       "data": true,
       "display": false,
       "name": "ABC-GAN Model 3 MSE"
      }
     },
     "output_type": "display_data"
    },
    {
     "data": {
      "application/scrapbook.scrap.json+json": {
       "data": 0.06933504388703929,
       "encoder": "json",
       "name": "ABC-GAN Model 3 MAE",
       "version": 1
      }
     },
     "metadata": {
      "scrapbook": {
       "data": true,
       "display": false,
       "name": "ABC-GAN Model 3 MAE"
      }
     },
     "output_type": "display_data"
    },
    {
     "data": {
      "application/scrapbook.scrap.json+json": {
       "data": 10.67759675860405,
       "encoder": "json",
       "name": "ABC-GAN Model 3 Manhattan Distance",
       "version": 1
      }
     },
     "metadata": {
      "scrapbook": {
       "data": true,
       "display": false,
       "name": "ABC-GAN Model 3 Manhattan Distance"
      }
     },
     "output_type": "display_data"
    },
    {
     "data": {
      "application/scrapbook.scrap.json+json": {
       "data": 1.2613219201197619,
       "encoder": "json",
       "name": "ABC-GAN Model 3 Euclidean distance",
       "version": 1
      }
     },
     "metadata": {
      "scrapbook": {
       "data": true,
       "display": false,
       "name": "ABC-GAN Model 3 Euclidean distance"
      }
     },
     "output_type": "display_data"
    },
    {
     "data": {
      "application/scrapbook.scrap.json+json": {
       "data": [
        [
         0.010349610711177916,
         0.010258886782897332,
         0.010498552522751276,
         0.010353625128188633,
         0.01049362884023228,
         0.01033905546295442,
         0.010652039317714749,
         0.010160107142541425,
         0.01038973438528232,
         0.010251107480445072,
         0.010265301975690255,
         0.010262375901684141,
         0.010488689015076198,
         0.010762561454142052,
         0.010512660762791648,
         0.010220573379560569,
         0.010418110586583942,
         0.01056900244654276,
         0.010259430013823819,
         0.010309967881789742,
         0.0104333246644416,
         0.010451388179931092,
         0.010133468741576371,
         0.01037397935554418,
         0.010614115180112777,
         0.01045829529606343,
         0.01065375317242199,
         0.010240712027418424,
         0.010357292617379207,
         0.01030126553414906,
         0.010457884155162325,
         0.010191967383815432,
         0.01028076805027821,
         0.010430131315085217,
         0.010207454192959368,
         0.010224392729094037,
         0.010509516806824533,
         0.010089991918885627,
         0.010525717068609372,
         0.010311927625514875,
         0.010525051689293971,
         0.01004833190544948,
         0.010131076691687236,
         0.01014547330374331,
         0.01088878310649521,
         0.010485057724602707,
         0.010403010490199283,
         0.010373825308381617,
         0.010107845791554031,
         0.010340143005146761,
         0.010035993336356276,
         0.010185760770135839,
         0.010543137913482334,
         0.010374738954459894,
         0.010201242262441632,
         0.010385031252910496,
         0.010204650311132555,
         0.01040297979827296,
         0.01051180497005668,
         0.010418338566971353,
         0.010507049162226901,
         0.010312694095613063,
         0.010212879571089224,
         0.010260364022687134,
         0.009939384375428824,
         0.010235046769360469,
         0.009980961565131601,
         0.01026762563234424,
         0.010537702380305611,
         0.010121986936816842,
         0.010190081257666564,
         0.010167679035993813,
         0.010510993677733805,
         0.010410136769202974,
         0.010270312457754203,
         0.010468072601052302,
         0.010355198938484213,
         0.010357964035194567,
         0.010011039714732337,
         0.010020432474879291,
         0.010372617467923829,
         0.009916911825987917,
         0.010368687099331598,
         0.010199490234275257,
         0.01004462128497912,
         0.010234023043896132,
         0.010420681987447455,
         0.010648976190087145,
         0.010502074129448112,
         0.01033215741563513,
         0.010374331551251156,
         0.010143129461954423,
         0.010487547281685864,
         0.010324126453075658,
         0.010661139599234943,
         0.010649234225434236,
         0.010062123575386203,
         0.010137558157428029,
         0.01018676079325675,
         0.010177523093053751
        ],
        [
         0.06916294009848074,
         0.06918688645804083,
         0.06937393715435808,
         0.06986785588132871,
         0.06978879128764202,
         0.06915075965709501,
         0.06984524085343659,
         0.06923699606355134,
         0.06936197307009201,
         0.06940593226970017,
         0.06908482550220056,
         0.06936096462917019,
         0.06948961138531759,
         0.06975611652453224,
         0.06970517487301454,
         0.06945458223873918,
         0.06965117180695782,
         0.0699174991966068,
         0.06928066981883792,
         0.06932107741376023,
         0.06911790395131359,
         0.06970160914125381,
         0.06871324434102356,
         0.0695507096296007,
         0.07016405738986932,
         0.06956584388753037,
         0.07000117095840441,
         0.06918457997116176,
         0.06931145213447608,
         0.06936511924708044,
         0.06937678898503254,
         0.06905127892440016,
         0.06882620810881837,
         0.06939562966490721,
         0.06940592985068049,
         0.06938742454369347,
         0.06936649170208287,
         0.06859705737465388,
         0.06967771658069127,
         0.06880751556970856,
         0.06954005278356663,
         0.06893120681891193,
         0.06882796209160384,
         0.06913662484133398,
         0.07003345954921339,
         0.06962986304968982,
         0.06935351995098127,
         0.06952633616792692,
         0.06906774470751936,
         0.06947789142851706,
         0.06901256290155572,
         0.06917516959758548,
         0.06969858546342168,
         0.06948170496465324,
         0.06886961615898392,
         0.06971363795848635,
         0.06936556763656727,
         0.06948882181729589,
         0.06943869227906327,
         0.0697151187855702,
         0.06994902879580275,
         0.06946949094727442,
         0.06928039356679111,
         0.06931881611416867,
         0.0685395041553231,
         0.06907047539368852,
         0.06872653162905148,
         0.0692276337800862,
         0.06950564377687195,
         0.06899288069311675,
         0.06912455964204553,
         0.06942187360935397,
         0.06970053548356156,
         0.06979090212420984,
         0.06899662446472551,
         0.06934991735336068,
         0.06947591499268234,
         0.0696551642537891,
         0.06872180621925887,
         0.06903152859636716,
         0.06918215417823234,
         0.06817480433103326,
         0.0692278238182718,
         0.069013671973696,
         0.06873710390615773,
         0.06930519171155892,
         0.06966847166806073,
         0.06982867405205578,
         0.06932864546195253,
         0.06959065732050251,
         0.06921370206521703,
         0.06884220431183839,
         0.06949502041007018,
         0.06928240706200724,
         0.06986416058687421,
         0.06976944861280454,
         0.0690199848409597,
         0.06888192403432611,
         0.06902251852216659,
         0.06925171715292064
        ],
        [
         10.651092775166035,
         10.654780514538288,
         10.683586321771145,
         10.75964980572462,
         10.747473858296871,
         10.64921698719263,
         10.756167091429234,
         10.662497393786907,
         10.68174385279417,
         10.688513569533825,
         10.639063127338886,
         10.681588552892208,
         10.70140015333891,
         10.742441944777966,
         10.73459693044424,
         10.696005664765835,
         10.726280458271503,
         10.767294876277447,
         10.66922315210104,
         10.675445921719074,
         10.644157208502293,
         10.734047807753086,
         10.581839628517628,
         10.710809282958508,
         10.805264838039875,
         10.713139958679676,
         10.78018032759428,
         10.65442531555891,
         10.673963628709316,
         10.682228364050388,
         10.684025503695011,
         10.633896954357624,
         10.59923604875803,
         10.68692696839571,
         10.688513197004795,
         10.685663379728794,
         10.682439722120762,
         10.563946835696697,
         10.730368353426456,
         10.596357397735119,
         10.709168128669262,
         10.615405850112438,
         10.59950616210699,
         10.647040225565434,
         10.785152770578861,
         10.722998909652233,
         10.680442072451115,
         10.707055769860744,
         10.636432684957981,
         10.699595279991627,
         10.62793468683958,
         10.652976118028164,
         10.73358216136694,
         10.700182564556599,
         10.605920888483524,
         10.7359002456069,
         10.68229741603136,
         10.701278559863567,
         10.693558610975742,
         10.73612829297781,
         10.772150434553623,
         10.69830160588026,
         10.669180609285831,
         10.675097681581974,
         10.555083639919758,
         10.636853210628033,
         10.583885870873928,
         10.661055602133274,
         10.703869141638279,
         10.624903626739979,
         10.645182184875011,
         10.690968535840511,
         10.73388246446848,
         10.747798927128315,
         10.62548016756773,
         10.679887272417545,
         10.699290908873081,
         10.726895295083523,
         10.583158157765865,
         10.630855403840542,
         10.65405174344778,
         10.498919866979122,
         10.661084868013859,
         10.628105483949184,
         10.58551400154829,
         10.672999523580074,
         10.728944636881351,
         10.75361580401659,
         10.67661140114069,
         10.716961227357388,
         10.658910118043423,
         10.601699464023113,
         10.702233143150806,
         10.669490687549114,
         10.759080730378628,
         10.744495086371899,
         10.629077665507793,
         10.60781630128622,
         10.629467852413654,
         10.664764441549778
        ],
        [
         1.2624737817164358,
         1.256928225701925,
         1.2715254965999292,
         1.262718602754014,
         1.271227297298076,
         1.2618298384865452,
         1.280786498573463,
         1.2508623025542738,
         1.2649186121381395,
         1.2564515716845361,
         1.2573211619376727,
         1.2571419525492569,
         1.270928050017677,
         1.2874138666092874,
         1.272379565015846,
         1.2545789335280295,
         1.2666447924867994,
         1.2757846122161787,
         1.2569615038372766,
         1.260053591636332,
         1.267569326831478,
         1.2686661419417593,
         1.2492214320138608,
         1.2639591847657914,
         1.2785044926543543,
         1.2690852909059218,
         1.2808895301910257,
         1.2558143382771345,
         1.2629422247578856,
         1.2595216918572523,
         1.2690603452535256,
         1.2528220053573358,
         1.2582679681780204,
         1.2673753281972644,
         1.2537734826178701,
         1.2548133248736568,
         1.2721892894734566,
         1.2465387099919467,
         1.2731694422054918,
         1.2601733429688515,
         1.2731292001015733,
         1.2439626656130882,
         1.2490739812036094,
         1.2499611549070115,
         1.2949411563465971,
         1.2707080268845463,
         1.2657265168632161,
         1.263949800225772,
         1.2476410749487694,
         1.2618962012751291,
         1.243198686372724,
         1.2524404810612435,
         1.274222601697317,
         1.264005458448192,
         1.2533919213143234,
         1.2646322836889055,
         1.2536012715031895,
         1.2657246497299623,
         1.2723277743524775,
         1.2666586514580747,
         1.2720399250742653,
         1.260220175494906,
         1.2541066357960715,
         1.2570187188319109,
         1.2372005471288958,
         1.255466926080298,
         1.2397854979915948,
         1.257463457672235,
         1.2738940955067906,
         1.248513511448632,
         1.252706076332613,
         1.2513283228405914,
         1.2722786748079236,
         1.2661599671673631,
         1.2576279730087698,
         1.2696783768191275,
         1.2628145693357236,
         1.26298315959476,
         1.2416521719341451,
         1.242234519376841,
         1.2638762162728872,
         1.2358011252633407,
         1.2636367410363891,
         1.2532842838232632,
         1.2437329608427947,
         1.255404137622624,
         1.2668010996470236,
         1.2806023322145796,
         1.2717387372943427,
         1.2614088322220556,
         1.2639806402365021,
         1.2498167614258424,
         1.2708588754773769,
         1.2609185040174689,
         1.2813334844146473,
         1.2806178472584522,
         1.2448160629625067,
         1.2494734716047062,
         1.2525019609411951,
         1.2519339265034228
        ]
       ],
       "encoder": "json",
       "name": "ABC_GAN_4 Metrics",
       "version": 1
      }
     },
     "metadata": {
      "scrapbook": {
       "data": true,
       "display": false,
       "name": "ABC_GAN_4 Metrics"
      }
     },
     "output_type": "display_data"
    },
    {
     "name": "stdout",
     "output_type": "stream",
     "text": [
      "MAE\n",
      "0.06933504388703929\n"
     ]
    }
   ],
   "source": [
    "ABC_GAN4_metrics=ABC_train_test2.test_generator(gen4,test_data,prior_model,variance,bias,\"3\",device)\n",
    "sb.glue(\"ABC_GAN_4 Metrics\",ABC_GAN4_metrics)\n",
    "\n",
    "print(\"MAE\")\n",
    "print(mean(ABC_GAN4_metrics[1]))"
   ]
  },
  {
   "cell_type": "code",
   "execution_count": 26,
   "id": "60524e28",
   "metadata": {
    "execution": {
     "iopub.execute_input": "2022-07-25T11:15:58.778699Z",
     "iopub.status.busy": "2022-07-25T11:15:58.778042Z",
     "iopub.status.idle": "2022-07-25T11:15:59.618825Z",
     "shell.execute_reply": "2022-07-25T11:15:59.617708Z"
    },
    "id": "c8e46b48",
    "papermill": {
     "duration": 0.884275,
     "end_time": "2022-07-25T11:15:59.621879",
     "exception": false,
     "start_time": "2022-07-25T11:15:58.737604",
     "status": "completed"
    },
    "tags": []
   },
   "outputs": [
    {
     "data": {
      "image/png": "[encoded data removed]",
      "text/plain": [
       "<Figure size 432x288 with 1 Axes>"
      ]
     },
     "metadata": {
      "needs_background": "light"
     },
     "output_type": "display_data"
    },
    {
     "data": {
      "image/png": "[encoded data removed]",
      "text/plain": [
       "<Figure size 432x288 with 1 Axes>"
      ]
     },
     "metadata": {
      "needs_background": "light"
     },
     "output_type": "display_data"
    },
    {
     "data": {
      "image/png": "[encoded data removed]",
      "text/plain": [
       "<Figure size 432x288 with 1 Axes>"
      ]
     },
     "metadata": {
      "needs_background": "light"
     },
     "output_type": "display_data"
    },
    {
     "data": {
      "image/png": "[encoded data removed]",
      "text/plain": [
       "<Figure size 432x288 with 1 Axes>"
      ]
     },
     "metadata": {
      "needs_background": "light"
     },
     "output_type": "display_data"
    }
   ],
   "source": [
    "sanityChecks.discProbVsError(train_data,disc4,device)\n",
    "sanityChecks.discProbVsError(test_data,disc4,device)"
   ]
  },
  {
   "cell_type": "markdown",
   "id": "a5bd74c3",
   "metadata": {
    "id": "a5bd74c3",
    "papermill": {
     "duration": 0.041181,
     "end_time": "2022-07-25T11:15:59.707014",
     "exception": false,
     "start_time": "2022-07-25T11:15:59.665833",
     "status": "completed"
    },
    "tags": []
   },
   "source": [
    "## Skip Connection Model Analysis - ABC-GAN "
   ]
  },
  {
   "cell_type": "markdown",
   "id": "5744a8bf",
   "metadata": {
    "id": "5744a8bf",
    "papermill": {
     "duration": 0.045956,
     "end_time": "2022-07-25T11:15:59.794704",
     "exception": false,
     "start_time": "2022-07-25T11:15:59.748748",
     "status": "completed"
    },
    "tags": []
   },
   "source": [
    "### Weight Analysis \n",
    "\n",
    "Study the weights of the skip connection layer\n",
    "\n",
    "Equation of the skip connection is \n",
    "\n",
    "$output = y_{gan} * w + y_{abc} * (1-w)$"
   ]
  },
  {
   "cell_type": "code",
   "execution_count": 27,
   "id": "52c31dea",
   "metadata": {
    "execution": {
     "iopub.execute_input": "2022-07-25T11:15:59.885408Z",
     "iopub.status.busy": "2022-07-25T11:15:59.885060Z",
     "iopub.status.idle": "2022-07-25T11:15:59.900385Z",
     "shell.execute_reply": "2022-07-25T11:15:59.898089Z"
    },
    "id": "52c31dea",
    "papermill": {
     "duration": 0.06447,
     "end_time": "2022-07-25T11:15:59.904063",
     "exception": false,
     "start_time": "2022-07-25T11:15:59.839593",
     "status": "completed"
    },
    "tags": []
   },
   "outputs": [
    {
     "name": "stdout",
     "output_type": "stream",
     "text": [
      "Weight of the node at skip connection\n",
      "Parameter containing:\n",
      "tensor([[0.9715]], requires_grad=True)\n"
     ]
    },
    {
     "data": {
      "application/scrapbook.scrap.json+json": {
       "data": 0.9715360403060913,
       "encoder": "json",
       "name": "Skip Connection Weight",
       "version": 1
      }
     },
     "metadata": {
      "scrapbook": {
       "data": true,
       "display": false,
       "name": "Skip Connection Weight"
      }
     },
     "output_type": "display_data"
    }
   ],
   "source": [
    "print(\"Weight of the node at skip connection\")\n",
    "for name,param in gen3.named_parameters():\n",
    "    if(name == \"skipNode.weight\"):\n",
    "        print(param)\n",
    "        sb.glue(\"Skip Connection Weight\",param.item())"
   ]
  },
  {
   "cell_type": "markdown",
   "id": "8fc2ca98",
   "metadata": {
    "id": "a5bd74c3",
    "papermill": {
     "duration": 0.0429,
     "end_time": "2022-07-25T11:15:59.989780",
     "exception": false,
     "start_time": "2022-07-25T11:15:59.946880",
     "status": "completed"
    },
    "tags": []
   },
   "source": [
    "## skipGAN Model Analysis (TabNet Generator) "
   ]
  },
  {
   "cell_type": "markdown",
   "id": "4897a8da",
   "metadata": {
    "id": "5744a8bf",
    "papermill": {
     "duration": 0.045144,
     "end_time": "2022-07-25T11:16:00.080589",
     "exception": false,
     "start_time": "2022-07-25T11:16:00.035445",
     "status": "completed"
    },
    "tags": []
   },
   "source": [
    "### Weight Analysis \n",
    "\n",
    "Study the weights of the skip connection layer\n",
    "\n",
    "Equation of the skip connection is \n",
    "\n",
    "$output = y_{gan} * w + y_{abc} * (1-w)$"
   ]
  },
  {
   "cell_type": "code",
   "execution_count": 28,
   "id": "c1b8472c",
   "metadata": {
    "execution": {
     "iopub.execute_input": "2022-07-25T11:16:00.171138Z",
     "iopub.status.busy": "2022-07-25T11:16:00.170820Z",
     "iopub.status.idle": "2022-07-25T11:16:00.183450Z",
     "shell.execute_reply": "2022-07-25T11:16:00.181525Z"
    },
    "id": "52c31dea",
    "papermill": {
     "duration": 0.062901,
     "end_time": "2022-07-25T11:16:00.187762",
     "exception": false,
     "start_time": "2022-07-25T11:16:00.124861",
     "status": "completed"
    },
    "tags": []
   },
   "outputs": [
    {
     "name": "stdout",
     "output_type": "stream",
     "text": [
      "Weight of the node at skip connection\n",
      "Parameter containing:\n",
      "tensor([[0.9976]], requires_grad=True)\n"
     ]
    },
    {
     "data": {
      "application/scrapbook.scrap.json+json": {
       "data": 0.997596800327301,
       "encoder": "json",
       "name": "Skip Connection Weight",
       "version": 1
      }
     },
     "metadata": {
      "scrapbook": {
       "data": true,
       "display": false,
       "name": "Skip Connection Weight"
      }
     },
     "output_type": "display_data"
    }
   ],
   "source": [
    "print(\"Weight of the node at skip connection\")\n",
    "for name,param in gen4.named_parameters():\n",
    "    if(name == \"skipNode.weight\"):\n",
    "        print(param)\n",
    "        sb.glue(\"Skip Connection Weight\",param.item())"
   ]
  }
 ],
 "metadata": {
  "colab": {
   "collapsed_sections": [],
   "name": "ABC_GAN_Model-Catboost_Pre-gen.ipynb",
   "provenance": []
  },
  "interpreter": {
   "hash": "31f2aee4e71d21fbe5cf8b01ff0e069b9275f58929596ceb00d14d90e3e16cd6"
  },
  "kernelspec": {
   "display_name": "Python 3 (ipykernel)",
   "language": "python",
   "name": "python3"
  },
  "language_info": {
   "codemirror_mode": {
    "name": "ipython",
    "version": 3
   },
   "file_extension": ".py",
   "mimetype": "text/x-python",
   "name": "python",
   "nbconvert_exporter": "python",
   "pygments_lexer": "ipython3",
   "version": "3.8.13"
  },
  "papermill": {
   "default_parameters": {},
   "duration": 3331.396008,
   "end_time": "2022-07-25T11:16:01.234125",
   "environment_variables": {},
   "exception": null,
   "input_path": "ABC_GAN-TabNet.ipynb",
   "output_path": "./ABC_GAN_TabNet/ABC-GAN_output_1_3.ipynb",
   "parameters": {
    "bias": 0.1,
    "variance": 1
   },
   "start_time": "2022-07-25T10:20:29.838117",
   "version": "2.3.3"
  }
 },
 "nbformat": 4,
 "nbformat_minor": 5
}