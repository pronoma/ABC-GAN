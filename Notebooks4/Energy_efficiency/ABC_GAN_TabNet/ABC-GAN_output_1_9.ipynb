{
 "cells": [
  {
   "cell_type": "markdown",
   "id": "622780e6",
   "metadata": {
    "id": "622780e6",
    "papermill": {
     "duration": 0.022476,
     "end_time": "2022-07-25T11:10:53.670613",
     "exception": false,
     "start_time": "2022-07-25T11:10:53.648137",
     "status": "completed"
    },
    "tags": []
   },
   "source": [
    "## Import Libraries "
   ]
  },
  {
   "cell_type": "code",
   "execution_count": 1,
   "id": "a62397e3",
   "metadata": {
    "execution": {
     "iopub.execute_input": "2022-07-25T11:10:53.756914Z",
     "iopub.status.busy": "2022-07-25T11:10:53.754783Z",
     "iopub.status.idle": "2022-07-25T11:10:53.771877Z",
     "shell.execute_reply": "2022-07-25T11:10:53.770955Z"
    },
    "id": "a62397e3",
    "papermill": {
     "duration": 0.096874,
     "end_time": "2022-07-25T11:10:53.775420",
     "exception": false,
     "start_time": "2022-07-25T11:10:53.678546",
     "status": "completed"
    },
    "tags": []
   },
   "outputs": [],
   "source": [
    "import warnings\n",
    "import sys\n",
    "sys.path.insert(0, '../../src')\n",
    "warnings.filterwarnings('ignore')"
   ]
  },
  {
   "cell_type": "code",
   "execution_count": 2,
   "id": "d6a4e155",
   "metadata": {
    "execution": {
     "iopub.execute_input": "2022-07-25T11:10:53.796868Z",
     "iopub.status.busy": "2022-07-25T11:10:53.796122Z",
     "iopub.status.idle": "2022-07-25T11:11:02.103103Z",
     "shell.execute_reply": "2022-07-25T11:11:02.100933Z"
    },
    "id": "d6a4e155",
    "papermill": {
     "duration": 8.326922,
     "end_time": "2022-07-25T11:11:02.110455",
     "exception": false,
     "start_time": "2022-07-25T11:10:53.783533",
     "status": "completed"
    },
    "tags": []
   },
   "outputs": [],
   "source": [
    "import ABC_train_test2\n",
    "import energyefficiencyDataset\n",
    "import network\n",
    "import dataset\n",
    "import sanityChecks\n",
    "import torch \n",
    "import scrapbook as sb\n",
    "from statistics import mean \n",
    "import catboost as ctb \n",
    "from sklearn.model_selection import train_test_split\n",
    "from sklearn.metrics import mean_squared_error,mean_absolute_error\n",
    "import numpy as np\n",
    "from pytorch_tabnet.tab_model import TabNetRegressor"
   ]
  },
  {
   "cell_type": "markdown",
   "id": "2fa5b0f7",
   "metadata": {
    "id": "2fa5b0f7",
    "papermill": {
     "duration": 0.078758,
     "end_time": "2022-07-25T11:11:02.317629",
     "exception": false,
     "start_time": "2022-07-25T11:11:02.238871",
     "status": "completed"
    },
    "tags": []
   },
   "source": [
    "## Parameters "
   ]
  },
  {
   "cell_type": "code",
   "execution_count": 3,
   "id": "783186fb",
   "metadata": {
    "execution": {
     "iopub.execute_input": "2022-07-25T11:11:02.427915Z",
     "iopub.status.busy": "2022-07-25T11:11:02.426585Z",
     "iopub.status.idle": "2022-07-25T11:11:02.432462Z",
     "shell.execute_reply": "2022-07-25T11:11:02.431262Z"
    },
    "id": "783186fb",
    "papermill": {
     "duration": 0.056466,
     "end_time": "2022-07-25T11:11:02.439721",
     "exception": false,
     "start_time": "2022-07-25T11:11:02.383255",
     "status": "completed"
    },
    "tags": [
     "parameters"
    ]
   },
   "outputs": [],
   "source": [
    "variance = 1\n",
    "bias = 1 "
   ]
  },
  {
   "cell_type": "code",
   "execution_count": 4,
   "id": "36e8d4c8",
   "metadata": {
    "execution": {
     "iopub.execute_input": "2022-07-25T11:11:02.479640Z",
     "iopub.status.busy": "2022-07-25T11:11:02.479128Z",
     "iopub.status.idle": "2022-07-25T11:11:02.487582Z",
     "shell.execute_reply": "2022-07-25T11:11:02.485672Z"
    },
    "papermill": {
     "duration": 0.064346,
     "end_time": "2022-07-25T11:11:02.523556",
     "exception": false,
     "start_time": "2022-07-25T11:11:02.459210",
     "status": "completed"
    },
    "tags": [
     "injected-parameters"
    ]
   },
   "outputs": [],
   "source": [
    "# Parameters\n",
    "variance = 1\n",
    "bias = 0\n"
   ]
  },
  {
   "cell_type": "markdown",
   "id": "391cdbfd",
   "metadata": {
    "id": "391cdbfd",
    "papermill": {
     "duration": 0.015329,
     "end_time": "2022-07-25T11:11:02.547842",
     "exception": false,
     "start_time": "2022-07-25T11:11:02.532513",
     "status": "completed"
    },
    "tags": []
   },
   "source": [
    "## Dataset \n"
   ]
  },
  {
   "cell_type": "code",
   "execution_count": 5,
   "id": "5b51f161",
   "metadata": {
    "execution": {
     "iopub.execute_input": "2022-07-25T11:11:02.568892Z",
     "iopub.status.busy": "2022-07-25T11:11:02.568263Z",
     "iopub.status.idle": "2022-07-25T11:11:02.573079Z",
     "shell.execute_reply": "2022-07-25T11:11:02.572055Z"
    },
    "id": "5b51f161",
    "papermill": {
     "duration": 0.02616,
     "end_time": "2022-07-25T11:11:02.582884",
     "exception": false,
     "start_time": "2022-07-25T11:11:02.556724",
     "status": "completed"
    },
    "tags": []
   },
   "outputs": [],
   "source": [
    "#Parameters \n",
    "n_features = 8\n",
    "n_samples= 768\n",
    "n_target = 1 "
   ]
  },
  {
   "cell_type": "code",
   "execution_count": 6,
   "id": "5d6eced4",
   "metadata": {
    "execution": {
     "iopub.execute_input": "2022-07-25T11:11:02.618592Z",
     "iopub.status.busy": "2022-07-25T11:11:02.613882Z",
     "iopub.status.idle": "2022-07-25T11:11:03.468122Z",
     "shell.execute_reply": "2022-07-25T11:11:03.449370Z"
    },
    "id": "5d6eced4",
    "papermill": {
     "duration": 0.869079,
     "end_time": "2022-07-25T11:11:03.472759",
     "exception": false,
     "start_time": "2022-07-25T11:11:02.603680",
     "status": "completed"
    },
    "tags": []
   },
   "outputs": [
    {
     "name": "stdout",
     "output_type": "stream",
     "text": [
      "     X1     X2     X3      X4   X5  X6   X7  X8     Y1     Y2\n",
      "0  0.98  514.5  294.0  110.25  7.0   2  0.0   0  15.55  21.33\n",
      "1  0.98  514.5  294.0  110.25  7.0   3  0.0   0  15.55  21.33\n",
      "2  0.98  514.5  294.0  110.25  7.0   4  0.0   0  15.55  21.33\n",
      "3  0.98  514.5  294.0  110.25  7.0   5  0.0   0  15.55  21.33\n",
      "4  0.90  563.5  318.5  122.50  7.0   2  0.0   0  20.84  28.28\n"
     ]
    }
   ],
   "source": [
    "X,Y = energyefficiencyDataset.energy_data()"
   ]
  },
  {
   "cell_type": "code",
   "execution_count": 7,
   "id": "fe007438",
   "metadata": {
    "execution": {
     "iopub.execute_input": "2022-07-25T11:11:03.494185Z",
     "iopub.status.busy": "2022-07-25T11:11:03.493247Z",
     "iopub.status.idle": "2022-07-25T11:11:03.508810Z",
     "shell.execute_reply": "2022-07-25T11:11:03.504113Z"
    },
    "id": "fe007438",
    "papermill": {
     "duration": 0.03262,
     "end_time": "2022-07-25T11:11:03.514844",
     "exception": false,
     "start_time": "2022-07-25T11:11:03.482224",
     "status": "completed"
    },
    "tags": []
   },
   "outputs": [],
   "source": [
    "#Train test split for dataset \n",
    "X_train,X_test,Y_train,Y_test = train_test_split(X,Y,test_size = 0.2)\n",
    "train_data = dataset.CustomDataset(X_train,Y_train)\n",
    "test_data = dataset.CustomDataset(X_test,Y_test)\n"
   ]
  },
  {
   "cell_type": "markdown",
   "id": "a9a1af34",
   "metadata": {
    "id": "a9a1af34",
    "papermill": {
     "duration": 0.01653,
     "end_time": "2022-07-25T11:11:03.539272",
     "exception": false,
     "start_time": "2022-07-25T11:11:03.522742",
     "status": "completed"
    },
    "tags": []
   },
   "source": [
    "## Training Parameters "
   ]
  },
  {
   "cell_type": "code",
   "execution_count": 8,
   "id": "952b7fc8",
   "metadata": {
    "execution": {
     "iopub.execute_input": "2022-07-25T11:11:03.589946Z",
     "iopub.status.busy": "2022-07-25T11:11:03.587739Z",
     "iopub.status.idle": "2022-07-25T11:11:03.620182Z",
     "shell.execute_reply": "2022-07-25T11:11:03.609592Z"
    },
    "id": "952b7fc8",
    "papermill": {
     "duration": 0.077958,
     "end_time": "2022-07-25T11:11:03.628976",
     "exception": false,
     "start_time": "2022-07-25T11:11:03.551018",
     "status": "completed"
    },
    "tags": []
   },
   "outputs": [],
   "source": [
    "batch_size = 32\n",
    "n_epochs = 1000\n",
    "#Select the device \n",
    "device = torch.device('cuda' if torch.cuda.is_available() else 'cpu')"
   ]
  },
  {
   "cell_type": "markdown",
   "id": "a95e1600",
   "metadata": {
    "id": "a95e1600",
    "papermill": {
     "duration": 0.025773,
     "end_time": "2022-07-25T11:11:03.666919",
     "exception": false,
     "start_time": "2022-07-25T11:11:03.641146",
     "status": "completed"
    },
    "tags": []
   },
   "source": [
    "# ABC Pre-generator Model \n",
    "\n",
    "1. The catboost model is used as a pre-generator model for the ABC-GAN. \n",
    "2. The model is first trained on the entire dataset \n",
    "3. It generats X,Y pairs and we add some Gaussian noise with mean 0 and variance 1 to it which is then feed as input to the generator.\n"
   ]
  },
  {
   "cell_type": "code",
   "execution_count": 9,
   "id": "ff8ce7bd",
   "metadata": {
    "execution": {
     "iopub.execute_input": "2022-07-25T11:11:03.728285Z",
     "iopub.status.busy": "2022-07-25T11:11:03.723930Z",
     "iopub.status.idle": "2022-07-25T11:13:16.529950Z",
     "shell.execute_reply": "2022-07-25T11:13:16.527077Z"
    },
    "id": "ff8ce7bd",
    "papermill": {
     "duration": 132.833846,
     "end_time": "2022-07-25T11:13:16.534344",
     "exception": false,
     "start_time": "2022-07-25T11:11:03.700498",
     "status": "completed"
    },
    "tags": []
   },
   "outputs": [
    {
     "name": "stdout",
     "output_type": "stream",
     "text": [
      "Device used : cpu\n"
     ]
    },
    {
     "name": "stdout",
     "output_type": "stream",
     "text": [
      "epoch 0  | loss: 0.95407 | train_mse: 1.21976 | train_mae: 0.80755 |  0:00:01s\n"
     ]
    },
    {
     "name": "stdout",
     "output_type": "stream",
     "text": [
      "epoch 1  | loss: 0.32009 | train_mse: 0.37417 | train_mae: 0.48025 |  0:00:02s\n"
     ]
    },
    {
     "name": "stdout",
     "output_type": "stream",
     "text": [
      "epoch 2  | loss: 0.2086  | train_mse: 0.24735 | train_mae: 0.37824 |  0:00:02s\n"
     ]
    },
    {
     "name": "stdout",
     "output_type": "stream",
     "text": [
      "epoch 3  | loss: 0.23276 | train_mse: 0.23666 | train_mae: 0.36044 |  0:00:03s\n"
     ]
    },
    {
     "name": "stdout",
     "output_type": "stream",
     "text": [
      "epoch 4  | loss: 0.17021 | train_mse: 0.13064 | train_mae: 0.27312 |  0:00:04s\n"
     ]
    },
    {
     "name": "stdout",
     "output_type": "stream",
     "text": [
      "epoch 5  | loss: 0.13474 | train_mse: 0.0916  | train_mae: 0.2331  |  0:00:04s\n"
     ]
    },
    {
     "name": "stdout",
     "output_type": "stream",
     "text": [
      "epoch 6  | loss: 0.12173 | train_mse: 0.08448 | train_mae: 0.22821 |  0:00:05s\n"
     ]
    },
    {
     "name": "stdout",
     "output_type": "stream",
     "text": [
      "epoch 7  | loss: 0.11727 | train_mse: 0.06884 | train_mae: 0.20713 |  0:00:06s\n"
     ]
    },
    {
     "name": "stdout",
     "output_type": "stream",
     "text": [
      "epoch 8  | loss: 0.11355 | train_mse: 0.0794  | train_mae: 0.22366 |  0:00:06s\n"
     ]
    },
    {
     "name": "stdout",
     "output_type": "stream",
     "text": [
      "epoch 9  | loss: 0.12315 | train_mse: 0.08854 | train_mae: 0.22977 |  0:00:07s\n"
     ]
    },
    {
     "name": "stdout",
     "output_type": "stream",
     "text": [
      "epoch 10 | loss: 0.09593 | train_mse: 0.06057 | train_mae: 0.19803 |  0:00:07s\n"
     ]
    },
    {
     "name": "stdout",
     "output_type": "stream",
     "text": [
      "epoch 11 | loss: 0.10713 | train_mse: 0.06117 | train_mae: 0.19921 |  0:00:08s\n"
     ]
    },
    {
     "name": "stdout",
     "output_type": "stream",
     "text": [
      "epoch 12 | loss: 0.07983 | train_mse: 0.05306 | train_mae: 0.18755 |  0:00:09s\n"
     ]
    },
    {
     "name": "stdout",
     "output_type": "stream",
     "text": [
      "epoch 13 | loss: 0.09204 | train_mse: 0.04891 | train_mae: 0.17504 |  0:00:09s\n"
     ]
    },
    {
     "name": "stdout",
     "output_type": "stream",
     "text": [
      "epoch 14 | loss: 0.08628 | train_mse: 0.04089 | train_mae: 0.1624  |  0:00:10s\n"
     ]
    },
    {
     "name": "stdout",
     "output_type": "stream",
     "text": [
      "epoch 15 | loss: 0.09279 | train_mse: 0.05285 | train_mae: 0.18126 |  0:00:10s\n"
     ]
    },
    {
     "name": "stdout",
     "output_type": "stream",
     "text": [
      "epoch 16 | loss: 0.07953 | train_mse: 0.05099 | train_mae: 0.17634 |  0:00:11s\n"
     ]
    },
    {
     "name": "stdout",
     "output_type": "stream",
     "text": [
      "epoch 17 | loss: 0.07201 | train_mse: 0.04063 | train_mae: 0.16021 |  0:00:11s\n"
     ]
    },
    {
     "name": "stdout",
     "output_type": "stream",
     "text": [
      "epoch 18 | loss: 0.07554 | train_mse: 0.03945 | train_mae: 0.1563  |  0:00:12s\n"
     ]
    },
    {
     "name": "stdout",
     "output_type": "stream",
     "text": [
      "epoch 19 | loss: 0.08278 | train_mse: 0.04417 | train_mae: 0.16578 |  0:00:13s\n"
     ]
    },
    {
     "name": "stdout",
     "output_type": "stream",
     "text": [
      "epoch 20 | loss: 0.10229 | train_mse: 0.04141 | train_mae: 0.16252 |  0:00:13s\n"
     ]
    },
    {
     "name": "stdout",
     "output_type": "stream",
     "text": [
      "epoch 21 | loss: 0.07874 | train_mse: 0.04663 | train_mae: 0.16332 |  0:00:14s\n"
     ]
    },
    {
     "name": "stdout",
     "output_type": "stream",
     "text": [
      "epoch 22 | loss: 0.08276 | train_mse: 0.05184 | train_mae: 0.18361 |  0:00:14s\n"
     ]
    },
    {
     "name": "stdout",
     "output_type": "stream",
     "text": [
      "epoch 23 | loss: 0.08616 | train_mse: 0.04751 | train_mae: 0.17139 |  0:00:15s\n"
     ]
    },
    {
     "name": "stdout",
     "output_type": "stream",
     "text": [
      "epoch 24 | loss: 0.08215 | train_mse: 0.03786 | train_mae: 0.1507  |  0:00:15s\n"
     ]
    },
    {
     "name": "stdout",
     "output_type": "stream",
     "text": [
      "epoch 25 | loss: 0.06695 | train_mse: 0.03804 | train_mae: 0.15138 |  0:00:16s\n"
     ]
    },
    {
     "name": "stdout",
     "output_type": "stream",
     "text": [
      "epoch 26 | loss: 0.06817 | train_mse: 0.03732 | train_mae: 0.1519  |  0:00:16s\n"
     ]
    },
    {
     "name": "stdout",
     "output_type": "stream",
     "text": [
      "epoch 27 | loss: 0.06937 | train_mse: 0.03566 | train_mae: 0.14497 |  0:00:17s\n"
     ]
    },
    {
     "name": "stdout",
     "output_type": "stream",
     "text": [
      "epoch 28 | loss: 0.06488 | train_mse: 0.03046 | train_mae: 0.1305  |  0:00:18s\n"
     ]
    },
    {
     "name": "stdout",
     "output_type": "stream",
     "text": [
      "epoch 29 | loss: 0.08292 | train_mse: 0.04351 | train_mae: 0.16162 |  0:00:18s\n"
     ]
    },
    {
     "name": "stdout",
     "output_type": "stream",
     "text": [
      "epoch 30 | loss: 0.07457 | train_mse: 0.06947 | train_mae: 0.19393 |  0:00:19s\n"
     ]
    },
    {
     "name": "stdout",
     "output_type": "stream",
     "text": [
      "epoch 31 | loss: 0.08101 | train_mse: 0.03831 | train_mae: 0.15188 |  0:00:19s\n"
     ]
    },
    {
     "name": "stdout",
     "output_type": "stream",
     "text": [
      "epoch 32 | loss: 0.082   | train_mse: 0.03398 | train_mae: 0.14464 |  0:00:20s\n"
     ]
    },
    {
     "name": "stdout",
     "output_type": "stream",
     "text": [
      "epoch 33 | loss: 0.07792 | train_mse: 0.06736 | train_mae: 0.19371 |  0:00:20s\n"
     ]
    },
    {
     "name": "stdout",
     "output_type": "stream",
     "text": [
      "epoch 34 | loss: 0.07085 | train_mse: 0.05831 | train_mae: 0.18664 |  0:00:21s\n"
     ]
    },
    {
     "name": "stdout",
     "output_type": "stream",
     "text": [
      "epoch 35 | loss: 0.07283 | train_mse: 0.05104 | train_mae: 0.18212 |  0:00:21s\n"
     ]
    },
    {
     "name": "stdout",
     "output_type": "stream",
     "text": [
      "epoch 36 | loss: 0.05966 | train_mse: 0.03877 | train_mae: 0.15415 |  0:00:22s\n"
     ]
    },
    {
     "name": "stdout",
     "output_type": "stream",
     "text": [
      "epoch 37 | loss: 0.06772 | train_mse: 0.04067 | train_mae: 0.15095 |  0:00:23s\n"
     ]
    },
    {
     "name": "stdout",
     "output_type": "stream",
     "text": [
      "epoch 38 | loss: 0.06087 | train_mse: 0.03229 | train_mae: 0.13324 |  0:00:23s\n"
     ]
    },
    {
     "name": "stdout",
     "output_type": "stream",
     "text": [
      "epoch 39 | loss: 0.07156 | train_mse: 0.04506 | train_mae: 0.1652  |  0:00:24s\n"
     ]
    },
    {
     "name": "stdout",
     "output_type": "stream",
     "text": [
      "epoch 40 | loss: 0.06915 | train_mse: 0.05989 | train_mae: 0.1964  |  0:00:24s\n"
     ]
    },
    {
     "name": "stdout",
     "output_type": "stream",
     "text": [
      "epoch 41 | loss: 0.09392 | train_mse: 0.04675 | train_mae: 0.17036 |  0:00:25s\n"
     ]
    },
    {
     "name": "stdout",
     "output_type": "stream",
     "text": [
      "epoch 42 | loss: 0.06389 | train_mse: 0.03059 | train_mae: 0.12652 |  0:00:25s\n"
     ]
    },
    {
     "name": "stdout",
     "output_type": "stream",
     "text": [
      "epoch 43 | loss: 0.04614 | train_mse: 0.01589 | train_mae: 0.09591 |  0:00:26s\n"
     ]
    },
    {
     "name": "stdout",
     "output_type": "stream",
     "text": [
      "epoch 44 | loss: 0.05015 | train_mse: 0.03954 | train_mae: 0.14254 |  0:00:26s\n"
     ]
    },
    {
     "name": "stdout",
     "output_type": "stream",
     "text": [
      "epoch 45 | loss: 0.08813 | train_mse: 0.02713 | train_mae: 0.12694 |  0:00:27s\n"
     ]
    },
    {
     "name": "stdout",
     "output_type": "stream",
     "text": [
      "epoch 46 | loss: 0.06911 | train_mse: 0.02766 | train_mae: 0.12717 |  0:00:28s\n"
     ]
    },
    {
     "name": "stdout",
     "output_type": "stream",
     "text": [
      "epoch 47 | loss: 0.06206 | train_mse: 0.0441  | train_mae: 0.14776 |  0:00:28s\n"
     ]
    },
    {
     "name": "stdout",
     "output_type": "stream",
     "text": [
      "epoch 48 | loss: 0.0518  | train_mse: 0.04572 | train_mae: 0.15709 |  0:00:29s\n"
     ]
    },
    {
     "name": "stdout",
     "output_type": "stream",
     "text": [
      "epoch 49 | loss: 0.08114 | train_mse: 0.035   | train_mae: 0.14963 |  0:00:29s\n"
     ]
    },
    {
     "name": "stdout",
     "output_type": "stream",
     "text": [
      "epoch 50 | loss: 0.06064 | train_mse: 0.03127 | train_mae: 0.12999 |  0:00:30s\n"
     ]
    },
    {
     "name": "stdout",
     "output_type": "stream",
     "text": [
      "epoch 51 | loss: 0.05549 | train_mse: 0.0259  | train_mae: 0.11521 |  0:00:30s\n"
     ]
    },
    {
     "name": "stdout",
     "output_type": "stream",
     "text": [
      "epoch 52 | loss: 0.06064 | train_mse: 0.03224 | train_mae: 0.13824 |  0:00:31s\n"
     ]
    },
    {
     "name": "stdout",
     "output_type": "stream",
     "text": [
      "epoch 53 | loss: 0.05714 | train_mse: 0.02455 | train_mae: 0.11771 |  0:00:32s\n"
     ]
    },
    {
     "name": "stdout",
     "output_type": "stream",
     "text": [
      "epoch 54 | loss: 0.05269 | train_mse: 0.03521 | train_mae: 0.15113 |  0:00:32s\n"
     ]
    },
    {
     "name": "stdout",
     "output_type": "stream",
     "text": [
      "epoch 55 | loss: 0.05236 | train_mse: 0.03824 | train_mae: 0.15966 |  0:00:33s\n"
     ]
    },
    {
     "name": "stdout",
     "output_type": "stream",
     "text": [
      "epoch 56 | loss: 0.05801 | train_mse: 0.02264 | train_mae: 0.11374 |  0:00:33s\n"
     ]
    },
    {
     "name": "stdout",
     "output_type": "stream",
     "text": [
      "epoch 57 | loss: 0.05309 | train_mse: 0.02004 | train_mae: 0.09893 |  0:00:34s\n"
     ]
    },
    {
     "name": "stdout",
     "output_type": "stream",
     "text": [
      "epoch 58 | loss: 0.045   | train_mse: 0.02579 | train_mae: 0.11906 |  0:00:35s\n"
     ]
    },
    {
     "name": "stdout",
     "output_type": "stream",
     "text": [
      "epoch 59 | loss: 0.04936 | train_mse: 0.02654 | train_mae: 0.11925 |  0:00:36s\n"
     ]
    },
    {
     "name": "stdout",
     "output_type": "stream",
     "text": [
      "epoch 60 | loss: 0.08068 | train_mse: 0.03458 | train_mae: 0.14718 |  0:00:36s\n"
     ]
    },
    {
     "name": "stdout",
     "output_type": "stream",
     "text": [
      "epoch 61 | loss: 0.05859 | train_mse: 0.0208  | train_mae: 0.11605 |  0:00:37s\n"
     ]
    },
    {
     "name": "stdout",
     "output_type": "stream",
     "text": [
      "epoch 62 | loss: 0.04526 | train_mse: 0.02912 | train_mae: 0.12674 |  0:00:37s\n"
     ]
    },
    {
     "name": "stdout",
     "output_type": "stream",
     "text": [
      "epoch 63 | loss: 0.08181 | train_mse: 0.02776 | train_mae: 0.12556 |  0:00:38s\n"
     ]
    },
    {
     "name": "stdout",
     "output_type": "stream",
     "text": [
      "epoch 64 | loss: 0.05617 | train_mse: 0.01765 | train_mae: 0.09948 |  0:00:39s\n"
     ]
    },
    {
     "name": "stdout",
     "output_type": "stream",
     "text": [
      "epoch 65 | loss: 0.0561  | train_mse: 0.02781 | train_mae: 0.12485 |  0:00:39s\n"
     ]
    },
    {
     "name": "stdout",
     "output_type": "stream",
     "text": [
      "epoch 66 | loss: 0.08452 | train_mse: 0.03897 | train_mae: 0.13932 |  0:00:40s\n"
     ]
    },
    {
     "name": "stdout",
     "output_type": "stream",
     "text": [
      "epoch 67 | loss: 0.04687 | train_mse: 0.02746 | train_mae: 0.1251  |  0:00:40s\n"
     ]
    },
    {
     "name": "stdout",
     "output_type": "stream",
     "text": [
      "epoch 68 | loss: 0.04575 | train_mse: 0.02074 | train_mae: 0.1068  |  0:00:41s\n"
     ]
    },
    {
     "name": "stdout",
     "output_type": "stream",
     "text": [
      "epoch 69 | loss: 0.04933 | train_mse: 0.01756 | train_mae: 0.09511 |  0:00:41s\n"
     ]
    },
    {
     "name": "stdout",
     "output_type": "stream",
     "text": [
      "epoch 70 | loss: 0.05795 | train_mse: 0.01582 | train_mae: 0.09102 |  0:00:42s\n"
     ]
    },
    {
     "name": "stdout",
     "output_type": "stream",
     "text": [
      "epoch 71 | loss: 0.05048 | train_mse: 0.01577 | train_mae: 0.09417 |  0:00:42s\n"
     ]
    },
    {
     "name": "stdout",
     "output_type": "stream",
     "text": [
      "epoch 72 | loss: 0.03951 | train_mse: 0.01655 | train_mae: 0.09607 |  0:00:43s\n"
     ]
    },
    {
     "name": "stdout",
     "output_type": "stream",
     "text": [
      "epoch 73 | loss: 0.04838 | train_mse: 0.02123 | train_mae: 0.11052 |  0:00:44s\n"
     ]
    },
    {
     "name": "stdout",
     "output_type": "stream",
     "text": [
      "epoch 74 | loss: 0.05452 | train_mse: 0.02241 | train_mae: 0.11292 |  0:00:44s\n"
     ]
    },
    {
     "name": "stdout",
     "output_type": "stream",
     "text": [
      "epoch 75 | loss: 0.04555 | train_mse: 0.03387 | train_mae: 0.13749 |  0:00:45s\n"
     ]
    },
    {
     "name": "stdout",
     "output_type": "stream",
     "text": [
      "epoch 76 | loss: 0.04404 | train_mse: 0.02416 | train_mae: 0.11027 |  0:00:45s\n"
     ]
    },
    {
     "name": "stdout",
     "output_type": "stream",
     "text": [
      "epoch 77 | loss: 0.04947 | train_mse: 0.02388 | train_mae: 0.11171 |  0:00:46s\n"
     ]
    },
    {
     "name": "stdout",
     "output_type": "stream",
     "text": [
      "epoch 78 | loss: 0.0594  | train_mse: 0.02121 | train_mae: 0.10678 |  0:00:46s\n"
     ]
    },
    {
     "name": "stdout",
     "output_type": "stream",
     "text": [
      "epoch 79 | loss: 0.05141 | train_mse: 0.02637 | train_mae: 0.12431 |  0:00:47s\n"
     ]
    },
    {
     "name": "stdout",
     "output_type": "stream",
     "text": [
      "epoch 80 | loss: 0.06165 | train_mse: 0.02676 | train_mae: 0.12231 |  0:00:47s\n"
     ]
    },
    {
     "name": "stdout",
     "output_type": "stream",
     "text": [
      "epoch 81 | loss: 0.0557  | train_mse: 0.01602 | train_mae: 0.09338 |  0:00:48s\n"
     ]
    },
    {
     "name": "stdout",
     "output_type": "stream",
     "text": [
      "epoch 82 | loss: 0.05449 | train_mse: 0.01925 | train_mae: 0.10449 |  0:00:48s\n"
     ]
    },
    {
     "name": "stdout",
     "output_type": "stream",
     "text": [
      "epoch 83 | loss: 0.04909 | train_mse: 0.016   | train_mae: 0.09515 |  0:00:49s\n"
     ]
    },
    {
     "name": "stdout",
     "output_type": "stream",
     "text": [
      "epoch 84 | loss: 0.03685 | train_mse: 0.01325 | train_mae: 0.09216 |  0:00:50s\n"
     ]
    },
    {
     "name": "stdout",
     "output_type": "stream",
     "text": [
      "epoch 85 | loss: 0.03628 | train_mse: 0.01609 | train_mae: 0.09833 |  0:00:50s\n"
     ]
    },
    {
     "name": "stdout",
     "output_type": "stream",
     "text": [
      "epoch 86 | loss: 0.03609 | train_mse: 0.01238 | train_mae: 0.08652 |  0:00:51s\n"
     ]
    },
    {
     "name": "stdout",
     "output_type": "stream",
     "text": [
      "epoch 87 | loss: 0.04917 | train_mse: 0.01608 | train_mae: 0.10797 |  0:00:51s\n"
     ]
    },
    {
     "name": "stdout",
     "output_type": "stream",
     "text": [
      "epoch 88 | loss: 0.04108 | train_mse: 0.01354 | train_mae: 0.09539 |  0:00:52s\n"
     ]
    },
    {
     "name": "stdout",
     "output_type": "stream",
     "text": [
      "epoch 89 | loss: 0.04883 | train_mse: 0.01212 | train_mae: 0.09018 |  0:00:52s\n"
     ]
    },
    {
     "name": "stdout",
     "output_type": "stream",
     "text": [
      "epoch 90 | loss: 0.05078 | train_mse: 0.02476 | train_mae: 0.12074 |  0:00:53s\n"
     ]
    },
    {
     "name": "stdout",
     "output_type": "stream",
     "text": [
      "epoch 91 | loss: 0.04398 | train_mse: 0.01999 | train_mae: 0.10375 |  0:00:54s\n"
     ]
    },
    {
     "name": "stdout",
     "output_type": "stream",
     "text": [
      "epoch 92 | loss: 0.03538 | train_mse: 0.02167 | train_mae: 0.1156  |  0:00:54s\n"
     ]
    },
    {
     "name": "stdout",
     "output_type": "stream",
     "text": [
      "epoch 93 | loss: 0.05484 | train_mse: 0.01016 | train_mae: 0.07676 |  0:00:55s\n"
     ]
    },
    {
     "name": "stdout",
     "output_type": "stream",
     "text": [
      "epoch 94 | loss: 0.04015 | train_mse: 0.01468 | train_mae: 0.09844 |  0:00:55s\n"
     ]
    },
    {
     "name": "stdout",
     "output_type": "stream",
     "text": [
      "epoch 95 | loss: 0.03983 | train_mse: 0.01787 | train_mae: 0.10482 |  0:00:56s\n"
     ]
    },
    {
     "name": "stdout",
     "output_type": "stream",
     "text": [
      "epoch 96 | loss: 0.04127 | train_mse: 0.01475 | train_mae: 0.09587 |  0:00:56s\n"
     ]
    },
    {
     "name": "stdout",
     "output_type": "stream",
     "text": [
      "epoch 97 | loss: 0.0404  | train_mse: 0.02756 | train_mae: 0.1319  |  0:00:57s\n"
     ]
    },
    {
     "name": "stdout",
     "output_type": "stream",
     "text": [
      "epoch 98 | loss: 0.05067 | train_mse: 0.0185  | train_mae: 0.10553 |  0:00:57s\n"
     ]
    },
    {
     "name": "stdout",
     "output_type": "stream",
     "text": [
      "epoch 99 | loss: 0.04584 | train_mse: 0.01194 | train_mae: 0.08835 |  0:00:58s\n"
     ]
    },
    {
     "name": "stdout",
     "output_type": "stream",
     "text": [
      "epoch 100| loss: 0.03994 | train_mse: 0.02212 | train_mae: 0.1032  |  0:00:59s\n"
     ]
    },
    {
     "name": "stdout",
     "output_type": "stream",
     "text": [
      "epoch 101| loss: 0.05413 | train_mse: 0.01387 | train_mae: 0.09548 |  0:00:59s\n"
     ]
    },
    {
     "name": "stdout",
     "output_type": "stream",
     "text": [
      "epoch 102| loss: 0.05248 | train_mse: 0.02422 | train_mae: 0.11625 |  0:01:00s\n"
     ]
    },
    {
     "name": "stdout",
     "output_type": "stream",
     "text": [
      "epoch 103| loss: 0.05248 | train_mse: 0.02568 | train_mae: 0.12136 |  0:01:00s\n"
     ]
    },
    {
     "name": "stdout",
     "output_type": "stream",
     "text": [
      "epoch 104| loss: 0.03464 | train_mse: 0.0233  | train_mae: 0.10915 |  0:01:01s\n"
     ]
    },
    {
     "name": "stdout",
     "output_type": "stream",
     "text": [
      "epoch 105| loss: 0.04973 | train_mse: 0.03194 | train_mae: 0.13303 |  0:01:02s\n"
     ]
    },
    {
     "name": "stdout",
     "output_type": "stream",
     "text": [
      "epoch 106| loss: 0.04321 | train_mse: 0.01912 | train_mae: 0.10856 |  0:01:02s\n"
     ]
    },
    {
     "name": "stdout",
     "output_type": "stream",
     "text": [
      "epoch 107| loss: 0.04485 | train_mse: 0.01296 | train_mae: 0.08699 |  0:01:03s\n"
     ]
    },
    {
     "name": "stdout",
     "output_type": "stream",
     "text": [
      "epoch 108| loss: 0.03285 | train_mse: 0.01278 | train_mae: 0.09143 |  0:01:03s\n"
     ]
    },
    {
     "name": "stdout",
     "output_type": "stream",
     "text": [
      "epoch 109| loss: 0.05125 | train_mse: 0.01324 | train_mae: 0.09476 |  0:01:04s\n"
     ]
    },
    {
     "name": "stdout",
     "output_type": "stream",
     "text": [
      "epoch 110| loss: 0.03977 | train_mse: 0.01553 | train_mae: 0.09304 |  0:01:04s\n"
     ]
    },
    {
     "name": "stdout",
     "output_type": "stream",
     "text": [
      "epoch 111| loss: 0.0364  | train_mse: 0.02062 | train_mae: 0.10873 |  0:01:05s\n"
     ]
    },
    {
     "name": "stdout",
     "output_type": "stream",
     "text": [
      "epoch 112| loss: 0.03834 | train_mse: 0.00949 | train_mae: 0.07504 |  0:01:05s\n"
     ]
    },
    {
     "name": "stdout",
     "output_type": "stream",
     "text": [
      "epoch 113| loss: 0.04873 | train_mse: 0.01164 | train_mae: 0.08763 |  0:01:06s\n"
     ]
    },
    {
     "name": "stdout",
     "output_type": "stream",
     "text": [
      "epoch 114| loss: 0.04191 | train_mse: 0.01893 | train_mae: 0.10609 |  0:01:07s\n"
     ]
    },
    {
     "name": "stdout",
     "output_type": "stream",
     "text": [
      "epoch 115| loss: 0.03413 | train_mse: 0.02601 | train_mae: 0.11942 |  0:01:07s\n"
     ]
    },
    {
     "name": "stdout",
     "output_type": "stream",
     "text": [
      "epoch 116| loss: 0.03307 | train_mse: 0.01332 | train_mae: 0.08248 |  0:01:08s\n"
     ]
    },
    {
     "name": "stdout",
     "output_type": "stream",
     "text": [
      "epoch 117| loss: 0.0395  | train_mse: 0.01819 | train_mae: 0.10871 |  0:01:08s\n"
     ]
    },
    {
     "name": "stdout",
     "output_type": "stream",
     "text": [
      "epoch 118| loss: 0.03957 | train_mse: 0.01598 | train_mae: 0.08596 |  0:01:09s\n"
     ]
    },
    {
     "name": "stdout",
     "output_type": "stream",
     "text": [
      "epoch 119| loss: 0.03271 | train_mse: 0.01597 | train_mae: 0.09063 |  0:01:09s\n"
     ]
    },
    {
     "name": "stdout",
     "output_type": "stream",
     "text": [
      "epoch 120| loss: 0.04526 | train_mse: 0.01537 | train_mae: 0.10179 |  0:01:10s\n"
     ]
    },
    {
     "name": "stdout",
     "output_type": "stream",
     "text": [
      "epoch 121| loss: 0.03783 | train_mse: 0.01091 | train_mae: 0.08053 |  0:01:10s\n"
     ]
    },
    {
     "name": "stdout",
     "output_type": "stream",
     "text": [
      "epoch 122| loss: 0.03315 | train_mse: 0.01155 | train_mae: 0.08447 |  0:01:11s\n"
     ]
    },
    {
     "name": "stdout",
     "output_type": "stream",
     "text": [
      "epoch 123| loss: 0.02419 | train_mse: 0.0122  | train_mae: 0.0885  |  0:01:11s\n"
     ]
    },
    {
     "name": "stdout",
     "output_type": "stream",
     "text": [
      "epoch 124| loss: 0.03597 | train_mse: 0.01982 | train_mae: 0.11107 |  0:01:12s\n"
     ]
    },
    {
     "name": "stdout",
     "output_type": "stream",
     "text": [
      "epoch 125| loss: 0.03935 | train_mse: 0.01299 | train_mae: 0.09154 |  0:01:13s\n"
     ]
    },
    {
     "name": "stdout",
     "output_type": "stream",
     "text": [
      "epoch 126| loss: 0.04254 | train_mse: 0.01322 | train_mae: 0.09412 |  0:01:13s\n"
     ]
    },
    {
     "name": "stdout",
     "output_type": "stream",
     "text": [
      "epoch 127| loss: 0.03678 | train_mse: 0.01511 | train_mae: 0.10085 |  0:01:14s\n"
     ]
    },
    {
     "name": "stdout",
     "output_type": "stream",
     "text": [
      "epoch 128| loss: 0.04706 | train_mse: 0.01892 | train_mae: 0.10539 |  0:01:14s\n"
     ]
    },
    {
     "name": "stdout",
     "output_type": "stream",
     "text": [
      "epoch 129| loss: 0.04704 | train_mse: 0.02267 | train_mae: 0.12111 |  0:01:15s\n"
     ]
    },
    {
     "name": "stdout",
     "output_type": "stream",
     "text": [
      "epoch 130| loss: 0.04114 | train_mse: 0.04324 | train_mae: 0.15613 |  0:01:15s\n"
     ]
    },
    {
     "name": "stdout",
     "output_type": "stream",
     "text": [
      "epoch 131| loss: 0.05561 | train_mse: 0.01955 | train_mae: 0.10604 |  0:01:16s\n"
     ]
    },
    {
     "name": "stdout",
     "output_type": "stream",
     "text": [
      "epoch 132| loss: 0.05312 | train_mse: 0.01384 | train_mae: 0.09304 |  0:01:16s\n"
     ]
    },
    {
     "name": "stdout",
     "output_type": "stream",
     "text": [
      "epoch 133| loss: 0.0637  | train_mse: 0.01734 | train_mae: 0.0959  |  0:01:17s\n"
     ]
    },
    {
     "name": "stdout",
     "output_type": "stream",
     "text": [
      "epoch 134| loss: 0.03432 | train_mse: 0.01245 | train_mae: 0.09023 |  0:01:18s\n"
     ]
    },
    {
     "name": "stdout",
     "output_type": "stream",
     "text": [
      "epoch 135| loss: 0.03716 | train_mse: 0.01919 | train_mae: 0.10011 |  0:01:18s\n"
     ]
    },
    {
     "name": "stdout",
     "output_type": "stream",
     "text": [
      "epoch 136| loss: 0.03152 | train_mse: 0.01151 | train_mae: 0.08233 |  0:01:19s\n"
     ]
    },
    {
     "name": "stdout",
     "output_type": "stream",
     "text": [
      "epoch 137| loss: 0.04951 | train_mse: 0.02187 | train_mae: 0.11957 |  0:01:19s\n"
     ]
    },
    {
     "name": "stdout",
     "output_type": "stream",
     "text": [
      "epoch 138| loss: 0.04043 | train_mse: 0.01125 | train_mae: 0.08547 |  0:01:20s\n"
     ]
    },
    {
     "name": "stdout",
     "output_type": "stream",
     "text": [
      "epoch 139| loss: 0.03538 | train_mse: 0.01495 | train_mae: 0.09136 |  0:01:20s\n"
     ]
    },
    {
     "name": "stdout",
     "output_type": "stream",
     "text": [
      "epoch 140| loss: 0.03476 | train_mse: 0.01907 | train_mae: 0.0987  |  0:01:21s\n"
     ]
    },
    {
     "name": "stdout",
     "output_type": "stream",
     "text": [
      "epoch 141| loss: 0.03173 | train_mse: 0.0247  | train_mae: 0.12421 |  0:01:21s\n"
     ]
    },
    {
     "name": "stdout",
     "output_type": "stream",
     "text": [
      "epoch 142| loss: 0.02736 | train_mse: 0.00834 | train_mae: 0.06839 |  0:01:22s\n"
     ]
    },
    {
     "name": "stdout",
     "output_type": "stream",
     "text": [
      "epoch 143| loss: 0.03483 | train_mse: 0.01236 | train_mae: 0.08856 |  0:01:23s\n"
     ]
    },
    {
     "name": "stdout",
     "output_type": "stream",
     "text": [
      "epoch 144| loss: 0.04525 | train_mse: 0.02599 | train_mae: 0.11668 |  0:01:23s\n"
     ]
    },
    {
     "name": "stdout",
     "output_type": "stream",
     "text": [
      "epoch 145| loss: 0.03005 | train_mse: 0.01954 | train_mae: 0.09835 |  0:01:24s\n"
     ]
    },
    {
     "name": "stdout",
     "output_type": "stream",
     "text": [
      "epoch 146| loss: 0.04264 | train_mse: 0.02812 | train_mae: 0.12084 |  0:01:24s\n"
     ]
    },
    {
     "name": "stdout",
     "output_type": "stream",
     "text": [
      "epoch 147| loss: 0.03915 | train_mse: 0.02514 | train_mae: 0.12163 |  0:01:25s\n"
     ]
    },
    {
     "name": "stdout",
     "output_type": "stream",
     "text": [
      "epoch 148| loss: 0.03162 | train_mse: 0.00856 | train_mae: 0.07246 |  0:01:25s\n"
     ]
    },
    {
     "name": "stdout",
     "output_type": "stream",
     "text": [
      "epoch 149| loss: 0.04186 | train_mse: 0.02062 | train_mae: 0.10692 |  0:01:26s\n"
     ]
    },
    {
     "name": "stdout",
     "output_type": "stream",
     "text": [
      "epoch 150| loss: 0.0444  | train_mse: 0.02151 | train_mae: 0.10064 |  0:01:26s\n"
     ]
    },
    {
     "name": "stdout",
     "output_type": "stream",
     "text": [
      "epoch 151| loss: 0.0501  | train_mse: 0.02363 | train_mae: 0.11113 |  0:01:27s\n"
     ]
    },
    {
     "name": "stdout",
     "output_type": "stream",
     "text": [
      "epoch 152| loss: 0.03937 | train_mse: 0.01792 | train_mae: 0.10857 |  0:01:27s\n"
     ]
    },
    {
     "name": "stdout",
     "output_type": "stream",
     "text": [
      "epoch 153| loss: 0.02864 | train_mse: 0.01338 | train_mae: 0.09883 |  0:01:28s\n"
     ]
    },
    {
     "name": "stdout",
     "output_type": "stream",
     "text": [
      "epoch 154| loss: 0.04307 | train_mse: 0.01203 | train_mae: 0.08394 |  0:01:29s\n"
     ]
    },
    {
     "name": "stdout",
     "output_type": "stream",
     "text": [
      "epoch 155| loss: 0.02451 | train_mse: 0.01273 | train_mae: 0.0873  |  0:01:29s\n"
     ]
    },
    {
     "name": "stdout",
     "output_type": "stream",
     "text": [
      "epoch 156| loss: 0.03052 | train_mse: 0.01741 | train_mae: 0.10017 |  0:01:30s\n"
     ]
    },
    {
     "name": "stdout",
     "output_type": "stream",
     "text": [
      "epoch 157| loss: 0.04126 | train_mse: 0.01371 | train_mae: 0.08531 |  0:01:30s\n"
     ]
    },
    {
     "name": "stdout",
     "output_type": "stream",
     "text": [
      "epoch 158| loss: 0.02519 | train_mse: 0.01021 | train_mae: 0.08105 |  0:01:31s\n"
     ]
    },
    {
     "name": "stdout",
     "output_type": "stream",
     "text": [
      "epoch 159| loss: 0.02479 | train_mse: 0.00846 | train_mae: 0.07227 |  0:01:31s\n"
     ]
    },
    {
     "name": "stdout",
     "output_type": "stream",
     "text": [
      "epoch 160| loss: 0.02896 | train_mse: 0.01247 | train_mae: 0.08476 |  0:01:32s\n"
     ]
    },
    {
     "name": "stdout",
     "output_type": "stream",
     "text": [
      "epoch 161| loss: 0.02185 | train_mse: 0.00937 | train_mae: 0.07329 |  0:01:33s\n"
     ]
    },
    {
     "name": "stdout",
     "output_type": "stream",
     "text": [
      "epoch 162| loss: 0.04456 | train_mse: 0.00895 | train_mae: 0.07233 |  0:01:33s\n"
     ]
    },
    {
     "name": "stdout",
     "output_type": "stream",
     "text": [
      "epoch 163| loss: 0.0266  | train_mse: 0.00896 | train_mae: 0.07177 |  0:01:34s\n"
     ]
    },
    {
     "name": "stdout",
     "output_type": "stream",
     "text": [
      "epoch 164| loss: 0.04755 | train_mse: 0.01773 | train_mae: 0.09742 |  0:01:34s\n"
     ]
    },
    {
     "name": "stdout",
     "output_type": "stream",
     "text": [
      "epoch 165| loss: 0.02447 | train_mse: 0.00949 | train_mae: 0.07091 |  0:01:35s\n"
     ]
    },
    {
     "name": "stdout",
     "output_type": "stream",
     "text": [
      "epoch 166| loss: 0.02621 | train_mse: 0.01421 | train_mae: 0.09732 |  0:01:35s\n"
     ]
    },
    {
     "name": "stdout",
     "output_type": "stream",
     "text": [
      "epoch 167| loss: 0.02143 | train_mse: 0.00977 | train_mae: 0.07751 |  0:01:36s\n"
     ]
    },
    {
     "name": "stdout",
     "output_type": "stream",
     "text": [
      "epoch 168| loss: 0.02576 | train_mse: 0.01221 | train_mae: 0.08314 |  0:01:36s\n"
     ]
    },
    {
     "name": "stdout",
     "output_type": "stream",
     "text": [
      "epoch 169| loss: 0.02984 | train_mse: 0.01438 | train_mae: 0.08736 |  0:01:37s\n"
     ]
    },
    {
     "name": "stdout",
     "output_type": "stream",
     "text": [
      "epoch 170| loss: 0.02711 | train_mse: 0.01874 | train_mae: 0.11453 |  0:01:38s\n"
     ]
    },
    {
     "name": "stdout",
     "output_type": "stream",
     "text": [
      "epoch 171| loss: 0.02947 | train_mse: 0.01075 | train_mae: 0.07537 |  0:01:38s\n"
     ]
    },
    {
     "name": "stdout",
     "output_type": "stream",
     "text": [
      "epoch 172| loss: 0.03536 | train_mse: 0.01206 | train_mae: 0.08826 |  0:01:39s\n"
     ]
    },
    {
     "name": "stdout",
     "output_type": "stream",
     "text": [
      "epoch 173| loss: 0.04112 | train_mse: 0.02303 | train_mae: 0.10881 |  0:01:39s\n"
     ]
    },
    {
     "name": "stdout",
     "output_type": "stream",
     "text": [
      "epoch 174| loss: 0.04033 | train_mse: 0.00791 | train_mae: 0.06724 |  0:01:40s\n"
     ]
    },
    {
     "name": "stdout",
     "output_type": "stream",
     "text": [
      "epoch 175| loss: 0.02561 | train_mse: 0.01859 | train_mae: 0.10389 |  0:01:40s\n"
     ]
    },
    {
     "name": "stdout",
     "output_type": "stream",
     "text": [
      "epoch 176| loss: 0.02252 | train_mse: 0.00939 | train_mae: 0.07249 |  0:01:41s\n"
     ]
    },
    {
     "name": "stdout",
     "output_type": "stream",
     "text": [
      "epoch 177| loss: 0.02852 | train_mse: 0.01081 | train_mae: 0.08195 |  0:01:41s\n"
     ]
    },
    {
     "name": "stdout",
     "output_type": "stream",
     "text": [
      "epoch 178| loss: 0.02549 | train_mse: 0.01222 | train_mae: 0.08658 |  0:01:42s\n"
     ]
    },
    {
     "name": "stdout",
     "output_type": "stream",
     "text": [
      "epoch 179| loss: 0.02544 | train_mse: 0.00946 | train_mae: 0.0786  |  0:01:43s\n"
     ]
    },
    {
     "name": "stdout",
     "output_type": "stream",
     "text": [
      "epoch 180| loss: 0.03026 | train_mse: 0.0161  | train_mae: 0.10136 |  0:01:43s\n"
     ]
    },
    {
     "name": "stdout",
     "output_type": "stream",
     "text": [
      "epoch 181| loss: 0.02753 | train_mse: 0.02016 | train_mae: 0.10117 |  0:01:44s\n"
     ]
    },
    {
     "name": "stdout",
     "output_type": "stream",
     "text": [
      "epoch 182| loss: 0.02205 | train_mse: 0.00693 | train_mae: 0.06527 |  0:01:44s\n"
     ]
    },
    {
     "name": "stdout",
     "output_type": "stream",
     "text": [
      "epoch 183| loss: 0.02713 | train_mse: 0.00808 | train_mae: 0.07079 |  0:01:45s\n"
     ]
    },
    {
     "name": "stdout",
     "output_type": "stream",
     "text": [
      "epoch 184| loss: 0.02197 | train_mse: 0.01356 | train_mae: 0.08506 |  0:01:45s\n"
     ]
    },
    {
     "name": "stdout",
     "output_type": "stream",
     "text": [
      "epoch 185| loss: 0.03326 | train_mse: 0.01476 | train_mae: 0.09708 |  0:01:46s\n"
     ]
    },
    {
     "name": "stdout",
     "output_type": "stream",
     "text": [
      "epoch 186| loss: 0.02015 | train_mse: 0.01234 | train_mae: 0.08732 |  0:01:46s\n"
     ]
    },
    {
     "name": "stdout",
     "output_type": "stream",
     "text": [
      "epoch 187| loss: 0.04447 | train_mse: 0.01457 | train_mae: 0.09682 |  0:01:47s\n"
     ]
    },
    {
     "name": "stdout",
     "output_type": "stream",
     "text": [
      "epoch 188| loss: 0.0321  | train_mse: 0.01218 | train_mae: 0.08194 |  0:01:48s\n"
     ]
    },
    {
     "name": "stdout",
     "output_type": "stream",
     "text": [
      "epoch 189| loss: 0.03659 | train_mse: 0.01291 | train_mae: 0.09191 |  0:01:48s\n"
     ]
    },
    {
     "name": "stdout",
     "output_type": "stream",
     "text": [
      "epoch 190| loss: 0.0236  | train_mse: 0.01538 | train_mae: 0.09764 |  0:01:49s\n"
     ]
    },
    {
     "name": "stdout",
     "output_type": "stream",
     "text": [
      "epoch 191| loss: 0.02926 | train_mse: 0.03402 | train_mae: 0.13222 |  0:01:49s\n"
     ]
    },
    {
     "name": "stdout",
     "output_type": "stream",
     "text": [
      "epoch 192| loss: 0.03786 | train_mse: 0.0424  | train_mae: 0.16325 |  0:01:50s\n"
     ]
    },
    {
     "name": "stdout",
     "output_type": "stream",
     "text": [
      "epoch 193| loss: 0.05568 | train_mse: 0.0285  | train_mae: 0.14088 |  0:01:50s\n"
     ]
    },
    {
     "name": "stdout",
     "output_type": "stream",
     "text": [
      "epoch 194| loss: 0.0352  | train_mse: 0.02845 | train_mae: 0.13233 |  0:01:51s\n"
     ]
    },
    {
     "name": "stdout",
     "output_type": "stream",
     "text": [
      "epoch 195| loss: 0.03186 | train_mse: 0.02431 | train_mae: 0.12111 |  0:01:51s\n"
     ]
    },
    {
     "name": "stdout",
     "output_type": "stream",
     "text": [
      "epoch 196| loss: 0.02621 | train_mse: 0.01133 | train_mae: 0.08055 |  0:01:52s\n"
     ]
    },
    {
     "name": "stdout",
     "output_type": "stream",
     "text": [
      "epoch 197| loss: 0.03282 | train_mse: 0.00889 | train_mae: 0.07278 |  0:01:53s\n"
     ]
    },
    {
     "name": "stdout",
     "output_type": "stream",
     "text": [
      "epoch 198| loss: 0.03053 | train_mse: 0.01145 | train_mae: 0.08194 |  0:01:53s\n"
     ]
    },
    {
     "name": "stdout",
     "output_type": "stream",
     "text": [
      "epoch 199| loss: 0.03076 | train_mse: 0.02592 | train_mae: 0.12297 |  0:01:54s\n"
     ]
    },
    {
     "name": "stdout",
     "output_type": "stream",
     "text": [
      "epoch 200| loss: 0.02831 | train_mse: 0.01548 | train_mae: 0.09168 |  0:01:54s\n"
     ]
    },
    {
     "name": "stdout",
     "output_type": "stream",
     "text": [
      "epoch 201| loss: 0.03782 | train_mse: 0.01277 | train_mae: 0.08533 |  0:01:55s\n"
     ]
    },
    {
     "name": "stdout",
     "output_type": "stream",
     "text": [
      "epoch 202| loss: 0.02901 | train_mse: 0.03014 | train_mae: 0.12004 |  0:01:55s\n"
     ]
    },
    {
     "name": "stdout",
     "output_type": "stream",
     "text": [
      "epoch 203| loss: 0.04119 | train_mse: 0.01158 | train_mae: 0.08266 |  0:01:56s\n"
     ]
    },
    {
     "name": "stdout",
     "output_type": "stream",
     "text": [
      "epoch 204| loss: 0.02661 | train_mse: 0.00933 | train_mae: 0.07436 |  0:01:56s\n"
     ]
    },
    {
     "name": "stdout",
     "output_type": "stream",
     "text": [
      "epoch 205| loss: 0.03704 | train_mse: 0.01931 | train_mae: 0.10405 |  0:01:57s\n"
     ]
    },
    {
     "name": "stdout",
     "output_type": "stream",
     "text": [
      "epoch 206| loss: 0.03402 | train_mse: 0.01398 | train_mae: 0.0952  |  0:01:58s\n"
     ]
    },
    {
     "name": "stdout",
     "output_type": "stream",
     "text": [
      "epoch 207| loss: 0.05095 | train_mse: 0.02128 | train_mae: 0.11393 |  0:01:58s\n"
     ]
    },
    {
     "name": "stdout",
     "output_type": "stream",
     "text": [
      "epoch 208| loss: 0.02468 | train_mse: 0.03573 | train_mae: 0.12716 |  0:01:59s\n"
     ]
    },
    {
     "name": "stdout",
     "output_type": "stream",
     "text": [
      "epoch 209| loss: 0.04154 | train_mse: 0.00896 | train_mae: 0.07552 |  0:01:59s\n"
     ]
    },
    {
     "name": "stdout",
     "output_type": "stream",
     "text": [
      "epoch 210| loss: 0.02678 | train_mse: 0.01481 | train_mae: 0.09299 |  0:02:00s\n"
     ]
    },
    {
     "name": "stdout",
     "output_type": "stream",
     "text": [
      "epoch 211| loss: 0.02201 | train_mse: 0.00776 | train_mae: 0.06869 |  0:02:01s\n"
     ]
    },
    {
     "name": "stdout",
     "output_type": "stream",
     "text": [
      "epoch 212| loss: 0.03482 | train_mse: 0.03551 | train_mae: 0.13146 |  0:02:01s\n"
     ]
    },
    {
     "name": "stdout",
     "output_type": "stream",
     "text": [
      "epoch 213| loss: 0.03001 | train_mse: 0.01133 | train_mae: 0.07976 |  0:02:02s\n"
     ]
    },
    {
     "name": "stdout",
     "output_type": "stream",
     "text": [
      "epoch 214| loss: 0.02514 | train_mse: 0.02478 | train_mae: 0.10863 |  0:02:02s\n"
     ]
    },
    {
     "name": "stdout",
     "output_type": "stream",
     "text": [
      "epoch 215| loss: 0.03844 | train_mse: 0.02091 | train_mae: 0.11482 |  0:02:03s\n"
     ]
    },
    {
     "name": "stdout",
     "output_type": "stream",
     "text": [
      "epoch 216| loss: 0.03784 | train_mse: 0.0124  | train_mae: 0.08368 |  0:02:03s\n"
     ]
    },
    {
     "name": "stdout",
     "output_type": "stream",
     "text": [
      "epoch 217| loss: 0.03364 | train_mse: 0.01086 | train_mae: 0.07934 |  0:02:04s\n"
     ]
    },
    {
     "name": "stdout",
     "output_type": "stream",
     "text": [
      "epoch 218| loss: 0.03067 | train_mse: 0.01188 | train_mae: 0.08567 |  0:02:05s\n"
     ]
    },
    {
     "name": "stdout",
     "output_type": "stream",
     "text": [
      "epoch 219| loss: 0.04355 | train_mse: 0.02119 | train_mae: 0.10809 |  0:02:05s\n"
     ]
    },
    {
     "name": "stdout",
     "output_type": "stream",
     "text": [
      "epoch 220| loss: 0.02955 | train_mse: 0.01774 | train_mae: 0.09284 |  0:02:06s\n"
     ]
    },
    {
     "name": "stdout",
     "output_type": "stream",
     "text": [
      "epoch 221| loss: 0.0251  | train_mse: 0.01339 | train_mae: 0.09048 |  0:02:06s\n"
     ]
    },
    {
     "name": "stdout",
     "output_type": "stream",
     "text": [
      "epoch 222| loss: 0.02792 | train_mse: 0.01979 | train_mae: 0.10604 |  0:02:07s\n"
     ]
    },
    {
     "name": "stdout",
     "output_type": "stream",
     "text": [
      "epoch 223| loss: 0.03851 | train_mse: 0.02337 | train_mae: 0.10956 |  0:02:07s\n"
     ]
    },
    {
     "name": "stdout",
     "output_type": "stream",
     "text": [
      "epoch 224| loss: 0.03145 | train_mse: 0.0187  | train_mae: 0.10294 |  0:02:08s\n"
     ]
    },
    {
     "name": "stdout",
     "output_type": "stream",
     "text": [
      "epoch 225| loss: 0.03205 | train_mse: 0.01063 | train_mae: 0.07638 |  0:02:08s\n"
     ]
    },
    {
     "name": "stdout",
     "output_type": "stream",
     "text": [
      "epoch 226| loss: 0.03359 | train_mse: 0.03213 | train_mae: 0.13556 |  0:02:09s\n"
     ]
    },
    {
     "name": "stdout",
     "output_type": "stream",
     "text": [
      "epoch 227| loss: 0.03962 | train_mse: 0.01844 | train_mae: 0.10456 |  0:02:09s\n"
     ]
    },
    {
     "name": "stdout",
     "output_type": "stream",
     "text": [
      "epoch 228| loss: 0.03217 | train_mse: 0.01152 | train_mae: 0.08495 |  0:02:10s\n"
     ]
    },
    {
     "name": "stdout",
     "output_type": "stream",
     "text": [
      "epoch 229| loss: 0.03767 | train_mse: 0.01514 | train_mae: 0.09889 |  0:02:11s\n"
     ]
    },
    {
     "name": "stdout",
     "output_type": "stream",
     "text": [
      "epoch 230| loss: 0.02833 | train_mse: 0.01295 | train_mae: 0.08666 |  0:02:11s\n"
     ]
    },
    {
     "name": "stdout",
     "output_type": "stream",
     "text": [
      "epoch 231| loss: 0.02811 | train_mse: 0.0177  | train_mae: 0.10614 |  0:02:12s\n"
     ]
    },
    {
     "name": "stdout",
     "output_type": "stream",
     "text": [
      "epoch 232| loss: 0.03248 | train_mse: 0.01241 | train_mae: 0.08833 |  0:02:12s\n",
      "\n",
      "Early stopping occurred at epoch 232 with best_epoch = 182 and best_train_mae = 0.06527\n",
      "Best weights from best epoch are automatically used!\n"
     ]
    }
   ],
   "source": [
    "#Train the Model\n",
    "\n",
    "Y_train = np.reshape(Y_train, (-1, 1))\n",
    "Y_test = np.reshape(Y_test, (-1, 1))\n",
    "\n",
    "prior_model = TabNetRegressor(optimizer_fn=torch.optim.Adam, optimizer_params=dict(lr = 0.01),\n",
    "          #scheduler_params={\"step_size\":10, ], \"gamma\":0.9},\n",
    "          #scheduler_fn=torch.optim.lr_scheduler.StepLR\n",
    "          )  #TabNetRegressor()\n",
    "\n",
    "prior_model.fit(X_train,Y_train,eval_set=[(X_train, Y_train)],\n",
    "            eval_name=['train'], \n",
    "            eval_metric=[ 'mse', 'mae'], \n",
    "            max_epochs = n_epochs, \n",
    "            batch_size = batch_size,\n",
    "            patience=50\n",
    "            )"
   ]
  },
  {
   "cell_type": "code",
   "execution_count": 10,
   "id": "af65dcda",
   "metadata": {
    "execution": {
     "iopub.execute_input": "2022-07-25T11:13:16.588485Z",
     "iopub.status.busy": "2022-07-25T11:13:16.587599Z",
     "iopub.status.idle": "2022-07-25T11:13:16.656035Z",
     "shell.execute_reply": "2022-07-25T11:13:16.654471Z"
    },
    "id": "af65dcda",
    "papermill": {
     "duration": 0.099819,
     "end_time": "2022-07-25T11:13:16.660136",
     "exception": false,
     "start_time": "2022-07-25T11:13:16.560317",
     "status": "completed"
    },
    "tags": []
   },
   "outputs": [
    {
     "data": {
      "application/scrapbook.scrap.json+json": {
       "data": 0.007278351344799369,
       "encoder": "json",
       "name": "Prior Model MSE",
       "version": 1
      }
     },
     "metadata": {
      "scrapbook": {
       "data": true,
       "display": false,
       "name": "Prior Model MSE"
      }
     },
     "output_type": "display_data"
    },
    {
     "data": {
      "application/scrapbook.scrap.json+json": {
       "data": 0.8873551225426818,
       "encoder": "json",
       "name": "ABC Pre-generator MSE",
       "version": 1
      }
     },
     "metadata": {
      "scrapbook": {
       "data": true,
       "display": false,
       "name": "ABC Pre-generator MSE"
      }
     },
     "output_type": "display_data"
    },
    {
     "data": {
      "application/scrapbook.scrap.json+json": {
       "data": 0.06663487856571809,
       "encoder": "json",
       "name": "Prior Model MAE",
       "version": 1
      }
     },
     "metadata": {
      "scrapbook": {
       "data": true,
       "display": false,
       "name": "Prior Model MAE"
      }
     },
     "output_type": "display_data"
    },
    {
     "name": "stdout",
     "output_type": "stream",
     "text": [
      "Prior Model MAE 0.06663487856571809\n"
     ]
    },
    {
     "data": {
      "application/scrapbook.scrap.json+json": {
       "data": 0.7588207469241044,
       "encoder": "json",
       "name": "ABC Pre-generator MAE",
       "version": 1
      }
     },
     "metadata": {
      "scrapbook": {
       "data": true,
       "display": false,
       "name": "ABC Pre-generator MAE"
      }
     },
     "output_type": "display_data"
    },
    {
     "name": "stdout",
     "output_type": "stream",
     "text": [
      "ABC Pre-generator MAE 0.7588207469241044\n"
     ]
    }
   ],
   "source": [
    "y_pred = prior_model.predict(X_test)\n",
    "y_abc = y_pred + np.random.normal(0,variance, y_pred.shape) + bias \n",
    "mse = mean_squared_error(y_pred,Y_test)\n",
    "sb.glue(\"Prior Model MSE\",mse)\n",
    "mse = mean_squared_error(y_abc,Y_test)\n",
    "sb.glue(\"ABC Pre-generator MSE\",mse)\n",
    "mae = mean_absolute_error(y_pred,Y_test)\n",
    "sb.glue(\"Prior Model MAE\",mae)\n",
    "print(\"Prior Model MAE\",mae)\n",
    "mae = mean_absolute_error(y_abc,Y_test)\n",
    "sb.glue(\"ABC Pre-generator MAE\",mae)\n",
    "print(\"ABC Pre-generator MAE\",mae)"
   ]
  },
  {
   "cell_type": "markdown",
   "id": "25609da2",
   "metadata": {
    "papermill": {
     "duration": 0.023155,
     "end_time": "2022-07-25T11:13:16.706715",
     "exception": false,
     "start_time": "2022-07-25T11:13:16.683560",
     "status": "completed"
    },
    "tags": []
   },
   "source": [
    "# mGAN Model"
   ]
  },
  {
   "cell_type": "code",
   "execution_count": 11,
   "id": "dfc3464d",
   "metadata": {
    "execution": {
     "iopub.execute_input": "2022-07-25T11:13:16.754305Z",
     "iopub.status.busy": "2022-07-25T11:13:16.753865Z",
     "iopub.status.idle": "2022-07-25T11:13:16.763343Z",
     "shell.execute_reply": "2022-07-25T11:13:16.762186Z"
    },
    "papermill": {
     "duration": 0.037101,
     "end_time": "2022-07-25T11:13:16.766203",
     "exception": false,
     "start_time": "2022-07-25T11:13:16.729102",
     "status": "completed"
    },
    "tags": []
   },
   "outputs": [],
   "source": [
    "gen = network.Generator(n_features+1).to(device)\n",
    "disc = network.Discriminator(n_features+1).to(device)\n",
    "\n",
    "criterion = torch.nn.BCELoss()\n",
    "gen_opt = torch.optim.Adam(gen.parameters(), lr=0.01, betas=(0.5, 0.999))\n",
    "disc_opt = torch.optim.Adam(disc.parameters(), lr=0.01, betas=(0.5, 0.999))"
   ]
  },
  {
   "cell_type": "code",
   "execution_count": 12,
   "id": "b75fdd85",
   "metadata": {
    "execution": {
     "iopub.execute_input": "2022-07-25T11:13:16.814737Z",
     "iopub.status.busy": "2022-07-25T11:13:16.813968Z",
     "iopub.status.idle": "2022-07-25T11:19:40.550954Z",
     "shell.execute_reply": "2022-07-25T11:19:40.549046Z"
    },
    "papermill": {
     "duration": 383.767662,
     "end_time": "2022-07-25T11:19:40.557528",
     "exception": false,
     "start_time": "2022-07-25T11:13:16.789866",
     "status": "completed"
    },
    "tags": []
   },
   "outputs": [
    {
     "data": {
      "image/png": "[encoded data removed]",
      "text/plain": [
       "<Figure size 432x288 with 1 Axes>"
      ]
     },
     "metadata": {
      "needs_background": "light"
     },
     "output_type": "display_data"
    },
    {
     "data": {
      "image/png": "[encoded data removed]",
      "text/plain": [
       "<Figure size 432x288 with 1 Axes>"
      ]
     },
     "metadata": {
      "needs_background": "light"
     },
     "output_type": "display_data"
    }
   ],
   "source": [
    "#Training the ABC_GAN \n",
    "ABC_train_test2.training_GAN(disc,gen,disc_opt,gen_opt,train_data,batch_size,n_epochs,criterion,prior_model,variance,bias,device)"
   ]
  },
  {
   "cell_type": "code",
   "execution_count": 13,
   "id": "1fa7c368",
   "metadata": {
    "execution": {
     "iopub.execute_input": "2022-07-25T11:19:40.615417Z",
     "iopub.status.busy": "2022-07-25T11:19:40.614571Z",
     "iopub.status.idle": "2022-07-25T11:19:44.063651Z",
     "shell.execute_reply": "2022-07-25T11:19:44.062562Z"
    },
    "papermill": {
     "duration": 3.482421,
     "end_time": "2022-07-25T11:19:44.066558",
     "exception": false,
     "start_time": "2022-07-25T11:19:40.584137",
     "status": "completed"
    },
    "tags": []
   },
   "outputs": [
    {
     "data": {
      "application/scrapbook.scrap.json+json": {
       "data": 0.003919437449725592,
       "encoder": "json",
       "name": "ABC-GAN Model 1 MSE",
       "version": 1
      }
     },
     "metadata": {
      "scrapbook": {
       "data": true,
       "display": false,
       "name": "ABC-GAN Model 1 MSE"
      }
     },
     "output_type": "display_data"
    },
    {
     "data": {
      "application/scrapbook.scrap.json+json": {
       "data": 0.054885255846787585,
       "encoder": "json",
       "name": "ABC-GAN Model 1 MAE",
       "version": 1
      }
     },
     "metadata": {
      "scrapbook": {
       "data": true,
       "display": false,
       "name": "ABC-GAN Model 1 MAE"
      }
     },
     "output_type": "display_data"
    },
    {
     "data": {
      "application/scrapbook.scrap.json+json": {
       "data": 8.452329400405288,
       "encoder": "json",
       "name": "ABC-GAN Model 1 Manhattan Distance",
       "version": 1
      }
     },
     "metadata": {
      "scrapbook": {
       "data": true,
       "display": false,
       "name": "ABC-GAN Model 1 Manhattan Distance"
      }
     },
     "output_type": "display_data"
    },
    {
     "data": {
      "application/scrapbook.scrap.json+json": {
       "data": 0.7768292544782046,
       "encoder": "json",
       "name": "ABC-GAN Model 1 Euclidean distance",
       "version": 1
      }
     },
     "metadata": {
      "scrapbook": {
       "data": true,
       "display": false,
       "name": "ABC-GAN Model 1 Euclidean distance"
      }
     },
     "output_type": "display_data"
    },
    {
     "data": {
      "application/scrapbook.scrap.json+json": {
       "data": [
        [
         0.003949336947950611,
         0.0039039219893597346,
         0.0038897810185519093,
         0.0039462929150266965,
         0.003926894117141846,
         0.00418258510786681,
         0.003937286537461288,
         0.0037192444217899884,
         0.003920457865269774,
         0.0038873813909131943,
         0.004058277927340836,
         0.003881436340048822,
         0.003882478585775636,
         0.0038404359741137204,
         0.003929419181410314,
         0.003942230001531136,
         0.0038709050994826908,
         0.004089197721268186,
         0.003872037772803253,
         0.004070850967456338,
         0.004056418753749912,
         0.003971650465218517,
         0.003947973503415513,
         0.003834095202250344,
         0.003974650370503193,
         0.0038581437195543402,
         0.003996838647361954,
         0.0039735952264346895,
         0.004127788801195349,
         0.003964553479032314,
         0.003930318462410312,
         0.003906955301700457,
         0.0037566870663275995,
         0.0039743453665862455,
         0.0037360822379916953,
         0.0038975543477059327,
         0.003824601894338496,
         0.003981628000395726,
         0.004083354686728938,
         0.00390785861464918,
         0.0038303610924858935,
         0.004042745320128254,
         0.00381985896162325,
         0.0039930583216760355,
         0.00396333890362813,
         0.003980888612969324,
         0.0039922392953845205,
         0.0037003713226604154,
         0.003957081814018926,
         0.003921104390592913,
         0.003855681956499089,
         0.003889402179066357,
         0.003922348731925507,
         0.0038421662308344776,
         0.003776707846471491,
         0.00397110667213717,
         0.003731061169056247,
         0.00399432438328004,
         0.003706922083506992,
         0.004152932604884694,
         0.0037467850757225596,
         0.0040026086763531865,
         0.0038785593788467367,
         0.003983314928357726,
         0.003717951609609707,
         0.004031155658949445,
         0.0038152684320481665,
         0.003943554738863497,
         0.004127601290587291,
         0.0037258413646804847,
         0.0040148804675563966,
         0.0036863912496658603,
         0.004097592681468251,
         0.003774897678497507,
         0.0037947219113964167,
         0.0038091760182259187,
         0.00406416019603457,
         0.0040612941226578535,
         0.0038699724163838165,
         0.004182574459859726,
         0.003921306954141197,
         0.003939979060134009,
         0.003888508627306298,
         0.00398333041239482,
         0.003797928064234964,
         0.0038556059749848366,
         0.0038122615732842043,
         0.003993375991656169,
         0.004063686879046485,
         0.003740610834338026,
         0.0037204342072344986,
         0.0037969680658486217,
         0.0038639544052576752,
         0.0040050815195679145,
         0.003981661638227112,
         0.003954963615827148,
         0.0038918142752661215,
         0.003963033509852048,
         0.004118570057821537,
         0.0038731190274271664
        ],
        [
         0.05518154624559275,
         0.054263731670360284,
         0.05503572677201652,
         0.054572123006082975,
         0.05472043465048849,
         0.056782032556638315,
         0.05469916837120598,
         0.05336536910965458,
         0.054843606681308964,
         0.054355886643873405,
         0.05592766364238092,
         0.054319452143625005,
         0.05486647106174912,
         0.05445638297778833,
         0.05499059618632128,
         0.055089675555271764,
         0.05418501019042421,
         0.05584577769766767,
         0.054491674926664145,
         0.056129976320866644,
         0.05615772944330782,
         0.05514029460632569,
         0.05478706935348062,
         0.0542959872657409,
         0.055370919104036576,
         0.054135526143401475,
         0.05473780301822857,
         0.0550806572564043,
         0.055942804383283314,
         0.05482202534890407,
         0.054737950094624774,
         0.0545536827223448,
         0.05344519772651521,
         0.055510257153058205,
         0.05345317255705595,
         0.05431149279481018,
         0.054259463358525335,
         0.055697164353128374,
         0.055853506368766355,
         0.054404670142798456,
         0.054875060903851865,
         0.055964272505567444,
         0.05478264428917077,
         0.055303545922718265,
         0.0557024712952507,
         0.05487018203145111,
         0.05525661326412644,
         0.05382551580619115,
         0.05476911945341082,
         0.05485073195214008,
         0.05434181414205919,
         0.05544191365456813,
         0.05546599393105739,
         0.05447557586692758,
         0.054251389251417155,
         0.05547497294504534,
         0.053842847211310614,
         0.055311534299769184,
         0.05292204098606652,
         0.05671624199475174,
         0.05381936201366124,
         0.055920138943021176,
         0.05483663313139182,
         0.05587071527472951,
         0.053835467846652905,
         0.05566571013058548,
         0.05432864209612856,
         0.05510643703935595,
         0.056647132537871986,
         0.05330552353051963,
         0.05517985583464434,
         0.05357717615007967,
         0.056224004776737134,
         0.053567394795646144,
         0.054224659471059,
         0.054255225816620636,
         0.05567555379896582,
         0.05504605617954746,
         0.054337243356004164,
         0.05616166122112568,
         0.0552328232699981,
         0.05529205190235531,
         0.05459009032309443,
         0.05511652648013521,
         0.053728130718620565,
         0.054249212714274984,
         0.05423302231235551,
         0.05550121156764882,
         0.05633977576848361,
         0.0539335912190281,
         0.05353523479992306,
         0.05452948749404062,
         0.05481701236605257,
         0.05558780724690719,
         0.0552006938506837,
         0.054905538423011054,
         0.05496907852251421,
         0.054865616083435424,
         0.05662532710748446,
         0.05442459725278925
        ],
        [
         8.497958121821284,
         8.356614677235484,
         8.475501922890544,
         8.404106942936778,
         8.426946936175227,
         8.7444330137223,
         8.423671929165721,
         8.218266842886806,
         8.44591542892158,
         8.370806543156505,
         8.612860200926661,
         8.36519563011825,
         8.449436543509364,
         8.386282978579402,
         8.468551812693477,
         8.483810035511851,
         8.344491569325328,
         8.600249765440822,
         8.391717938706279,
         8.644016353413463,
         8.648290334269404,
         8.491605369374156,
         8.437208680436015,
         8.361582038924098,
         8.527121542021632,
         8.336871026083827,
         8.4296216648072,
         8.482421217486262,
         8.61519187502563,
         8.442591903731227,
         8.429644314572215,
         8.4012671392411,
         8.230560449883342,
         8.548579601570964,
         8.231788573786616,
         8.363969890400767,
         8.355957357212901,
         8.57736331038177,
         8.601439980790019,
         8.378319201990962,
         8.450759379193187,
         8.618497965857387,
         8.436527220532298,
         8.516746072098613,
         8.578180579468608,
         8.45000803284347,
         8.509518442675471,
         8.289129434153438,
         8.434444395825267,
         8.447012720629573,
         8.368639377877116,
         8.538054702803493,
         8.541763065382838,
         8.389238683506846,
         8.354713944718242,
         8.543145833536983,
         8.291798470541835,
         8.517976282164454,
         8.149994311854243,
         8.734301267191768,
         8.288181750103831,
         8.61170139722526,
         8.44484150223434,
         8.604090152308345,
         8.290662048384547,
         8.572519360110164,
         8.366610882803798,
         8.486391304060817,
         8.723658410832286,
         8.209050623700023,
         8.497697798535228,
         8.25088512711227,
         8.658496735617518,
         8.249378798529506,
         8.350597558543086,
         8.355304775759578,
         8.574035285040736,
         8.47709265165031,
         8.367935476824641,
         8.648895828053355,
         8.505854783579707,
         8.514975992962718,
         8.406873909756541,
         8.487945077940822,
         8.274132130667567,
         8.354378757998347,
         8.351885436102748,
         8.547186581417918,
         8.676325468346477,
         8.305773047730327,
         8.244426159188151,
         8.397541074082255,
         8.441819904372096,
         8.560522316023707,
         8.50090685300529,
         8.455452917143703,
         8.465238092467189,
         8.449304876849055,
         8.720300374552608,
         8.381387976929545
        ],
        [
         0.7798704315361585,
         0.7753734496108305,
         0.7739678784400513,
         0.7795698229883653,
         0.7776513962180254,
         0.8025696895668866,
         0.7786797331182046,
         0.7568114963157326,
         0.7770138423809096,
         0.7737291090560261,
         0.7905534775146389,
         0.7731372429055002,
         0.7732410375875352,
         0.7690430027075943,
         0.7779013780275674,
         0.7791684158356235,
         0.7720876798138502,
         0.7935593544753288,
         0.7722006326154498,
         0.7917771460381235,
         0.7903723730479745,
         0.7820704390549815,
         0.7797358011057264,
         0.7684078742091032,
         0.7823657437909022,
         0.7708139417598572,
         0.7845464624187282,
         0.7822618902074562,
         0.7972950993102138,
         0.7813713814640105,
         0.7779903876084768,
         0.7756746202254334,
         0.7606114699466807,
         0.7823357248996634,
         0.7585226856533173,
         0.7747408402470556,
         0.7674559868345079,
         0.783052177099931,
         0.7929921952681858,
         0.7757642854991288,
         0.768033598381495,
         0.7890391494087927,
         0.7669799737215962,
         0.7841753512691594,
         0.7812516823397772,
         0.7829794674174259,
         0.7840949250500325,
         0.7548888551897583,
         0.7806347413220313,
         0.7770779086753841,
         0.7705679861640111,
         0.7739301877922963,
         0.777201199636573,
         0.7692162241844028,
         0.7626355671987831,
         0.7820168972017959,
         0.7580128099410075,
         0.7842996589474754,
         0.7555567489342391,
         0.7997197141200428,
         0.7596083870398445,
         0.7851125627312243,
         0.7728506610868606,
         0.7832180405015514,
         0.7566799507585059,
         0.7879073368602519,
         0.7665189746740896,
         0.7792993197642216,
         0.7972769899792937,
         0.7574823893403692,
         0.7863151988888967,
         0.7534615135815117,
         0.7943735097207804,
         0.7624527804976621,
         0.7644522054092382,
         0.7659067220013097,
         0.7911262037054037,
         0.7908472007216751,
         0.7719946580923392,
         0.8025686679770135,
         0.7770979802687331,
         0.778945938599488,
         0.7738412812748942,
         0.7832195627720252,
         0.7647750792829121,
         0.7705603935757825,
         0.7662168637440496,
         0.7842065434023424,
         0.7910801346091043,
         0.7589822583486757,
         0.7569325385489203,
         0.7646784174675573,
         0.771394178361285,
         0.7853550496517221,
         0.7830554848074147,
         0.7804257791983686,
         0.7741701353003633,
         0.7812215822141727,
         0.7964042873468956,
         0.7723084424138996
        ]
       ],
       "encoder": "json",
       "name": "ABC_GAN_1 Metrics",
       "version": 1
      }
     },
     "metadata": {
      "scrapbook": {
       "data": true,
       "display": false,
       "name": "ABC_GAN_1 Metrics"
      }
     },
     "output_type": "display_data"
    },
    {
     "name": "stdout",
     "output_type": "stream",
     "text": [
      "MAE\n",
      "0.054885255846787585\n"
     ]
    }
   ],
   "source": [
    "ABC_GAN1_metrics=ABC_train_test2.test_generator(gen,test_data,prior_model,variance,bias,\"1\",device)\n",
    "sb.glue(\"ABC_GAN_1 Metrics\",ABC_GAN1_metrics)\n",
    "\n",
    "print(\"MAE\")\n",
    "print(mean(ABC_GAN1_metrics[1]))"
   ]
  },
  {
   "cell_type": "code",
   "execution_count": 14,
   "id": "eb22ce5c",
   "metadata": {
    "execution": {
     "iopub.execute_input": "2022-07-25T11:19:44.121346Z",
     "iopub.status.busy": "2022-07-25T11:19:44.120957Z",
     "iopub.status.idle": "2022-07-25T11:19:45.070990Z",
     "shell.execute_reply": "2022-07-25T11:19:45.069687Z"
    },
    "papermill": {
     "duration": 0.98348,
     "end_time": "2022-07-25T11:19:45.073986",
     "exception": false,
     "start_time": "2022-07-25T11:19:44.090506",
     "status": "completed"
    },
    "tags": []
   },
   "outputs": [
    {
     "data": {
      "image/png": "[encoded data removed]",
      "text/plain": [
       "<Figure size 432x288 with 1 Axes>"
      ]
     },
     "metadata": {
      "needs_background": "light"
     },
     "output_type": "display_data"
    },
    {
     "data": {
      "image/png": "[encoded data removed]",
      "text/plain": [
       "<Figure size 432x288 with 1 Axes>"
      ]
     },
     "metadata": {
      "needs_background": "light"
     },
     "output_type": "display_data"
    },
    {
     "data": {
      "image/png": "[encoded data removed]",
      "text/plain": [
       "<Figure size 432x288 with 1 Axes>"
      ]
     },
     "metadata": {
      "needs_background": "light"
     },
     "output_type": "display_data"
    },
    {
     "data": {
      "image/png": "[encoded data removed]",
      "text/plain": [
       "<Figure size 432x288 with 1 Axes>"
      ]
     },
     "metadata": {
      "needs_background": "light"
     },
     "output_type": "display_data"
    }
   ],
   "source": [
    "sanityChecks.discProbVsError(train_data,disc,device)\n",
    "sanityChecks.discProbVsError(test_data,disc,device)"
   ]
  },
  {
   "cell_type": "markdown",
   "id": "c5bbb759",
   "metadata": {
    "papermill": {
     "duration": 0.027771,
     "end_time": "2022-07-25T11:19:45.130168",
     "exception": false,
     "start_time": "2022-07-25T11:19:45.102397",
     "status": "completed"
    },
    "tags": []
   },
   "source": [
    "# mGAN Model with TabNet Generator"
   ]
  },
  {
   "cell_type": "code",
   "execution_count": 15,
   "id": "e3f795ed",
   "metadata": {
    "execution": {
     "iopub.execute_input": "2022-07-25T11:19:45.188845Z",
     "iopub.status.busy": "2022-07-25T11:19:45.188181Z",
     "iopub.status.idle": "2022-07-25T11:19:45.206144Z",
     "shell.execute_reply": "2022-07-25T11:19:45.205071Z"
    },
    "papermill": {
     "duration": 0.050474,
     "end_time": "2022-07-25T11:19:45.208901",
     "exception": false,
     "start_time": "2022-07-25T11:19:45.158427",
     "status": "completed"
    },
    "tags": []
   },
   "outputs": [],
   "source": [
    "gen2 = network.GeneratorTabnet(n_features+1).to(device)\n",
    "disc2 = network.Discriminator(n_features+1).to(device)\n",
    "\n",
    "criterion = torch.nn.BCELoss()\n",
    "gen_opt = torch.optim.Adam(gen2.parameters(), lr=0.01, betas=(0.5, 0.999))\n",
    "disc_opt = torch.optim.Adam(disc2.parameters(), lr=0.01, betas=(0.5, 0.999))"
   ]
  },
  {
   "cell_type": "code",
   "execution_count": 16,
   "id": "c5d4368a",
   "metadata": {
    "execution": {
     "iopub.execute_input": "2022-07-25T11:19:45.267334Z",
     "iopub.status.busy": "2022-07-25T11:19:45.266718Z",
     "iopub.status.idle": "2022-07-25T11:37:38.852375Z",
     "shell.execute_reply": "2022-07-25T11:37:38.851157Z"
    },
    "papermill": {
     "duration": 1073.619693,
     "end_time": "2022-07-25T11:37:38.855856",
     "exception": false,
     "start_time": "2022-07-25T11:19:45.236163",
     "status": "completed"
    },
    "tags": []
   },
   "outputs": [
    {
     "data": {
      "image/png": "[encoded data removed]",
      "text/plain": [
       "<Figure size 432x288 with 1 Axes>"
      ]
     },
     "metadata": {
      "needs_background": "light"
     },
     "output_type": "display_data"
    },
    {
     "data": {
      "image/png": "[encoded data removed]",
      "text/plain": [
       "<Figure size 432x288 with 1 Axes>"
      ]
     },
     "metadata": {
      "needs_background": "light"
     },
     "output_type": "display_data"
    }
   ],
   "source": [
    "#Training the ABC_GAN \n",
    "ABC_train_test2.training_GAN(disc2,gen2,disc_opt,gen_opt,train_data,batch_size,n_epochs,criterion,prior_model,variance,bias,device)"
   ]
  },
  {
   "cell_type": "code",
   "execution_count": 17,
   "id": "0b5d8e82",
   "metadata": {
    "execution": {
     "iopub.execute_input": "2022-07-25T11:37:38.920987Z",
     "iopub.status.busy": "2022-07-25T11:37:38.920489Z",
     "iopub.status.idle": "2022-07-25T11:37:43.781167Z",
     "shell.execute_reply": "2022-07-25T11:37:43.779477Z"
    },
    "papermill": {
     "duration": 4.89654,
     "end_time": "2022-07-25T11:37:43.784857",
     "exception": false,
     "start_time": "2022-07-25T11:37:38.888317",
     "status": "completed"
    },
    "tags": []
   },
   "outputs": [
    {
     "data": {
      "application/scrapbook.scrap.json+json": {
       "data": 0.08703464992127885,
       "encoder": "json",
       "name": "ABC-GAN Model 1 MSE",
       "version": 1
      }
     },
     "metadata": {
      "scrapbook": {
       "data": true,
       "display": false,
       "name": "ABC-GAN Model 1 MSE"
      }
     },
     "output_type": "display_data"
    },
    {
     "data": {
      "application/scrapbook.scrap.json+json": {
       "data": 0.14658856200852563,
       "encoder": "json",
       "name": "ABC-GAN Model 1 MAE",
       "version": 1
      }
     },
     "metadata": {
      "scrapbook": {
       "data": true,
       "display": false,
       "name": "ABC-GAN Model 1 MAE"
      }
     },
     "output_type": "display_data"
    },
    {
     "data": {
      "application/scrapbook.scrap.json+json": {
       "data": 22.57463854931295,
       "encoder": "json",
       "name": "ABC-GAN Model 1 Manhattan Distance",
       "version": 1
      }
     },
     "metadata": {
      "scrapbook": {
       "data": true,
       "display": false,
       "name": "ABC-GAN Model 1 Manhattan Distance"
      }
     },
     "output_type": "display_data"
    },
    {
     "data": {
      "application/scrapbook.scrap.json+json": {
       "data": 3.6610559699474035,
       "encoder": "json",
       "name": "ABC-GAN Model 1 Euclidean distance",
       "version": 1
      }
     },
     "metadata": {
      "scrapbook": {
       "data": true,
       "display": false,
       "name": "ABC-GAN Model 1 Euclidean distance"
      }
     },
     "output_type": "display_data"
    },
    {
     "data": {
      "application/scrapbook.scrap.json+json": {
       "data": [
        [
         0.0872319488815935,
         0.08690148524837255,
         0.08705237967844295,
         0.08723764672165878,
         0.08727653947007227,
         0.0869274111997846,
         0.08696004557815562,
         0.08708538088944374,
         0.08689028879549285,
         0.08689692547029458,
         0.08713855155490166,
         0.08725011542619453,
         0.08696982160877673,
         0.08692937129260618,
         0.08699024315191005,
         0.08722851120468732,
         0.08721198127312045,
         0.08697946801963372,
         0.08693625014055781,
         0.08702807580038281,
         0.08705762622803642,
         0.08700015995903786,
         0.08720534735933505,
         0.08695364808241772,
         0.08716980832067675,
         0.0870177483527062,
         0.0869234473701283,
         0.08695017065127808,
         0.08701236773718514,
         0.08725484884138468,
         0.08696410209811616,
         0.08703298640067704,
         0.08693347490609077,
         0.08709257811833457,
         0.08719183264798304,
         0.0869390589433109,
         0.08700022257749243,
         0.08706153869704852,
         0.08723089317621083,
         0.08690330805846042,
         0.08724634033886604,
         0.0869468352499311,
         0.08705319320332951,
         0.08690981074266645,
         0.08698960780123582,
         0.08694615401524809,
         0.08718162910385265,
         0.0871238603829766,
         0.08699309137974587,
         0.08707565180900095,
         0.08701967441791131,
         0.08709449811873762,
         0.08688862716276607,
         0.08707684805294587,
         0.08695255908921208,
         0.08716244463397094,
         0.08693558765646275,
         0.0869097252977693,
         0.08695333005743787,
         0.08710188252638065,
         0.08697614295978888,
         0.08728278365039477,
         0.08696606766642452,
         0.08700838663585542,
         0.08697250727458937,
         0.08719597522228176,
         0.08693186819702219,
         0.08702895734698544,
         0.08697628884108047,
         0.0870084546320875,
         0.08716074548552052,
         0.08699924657490045,
         0.08689377754610589,
         0.0869501190968563,
         0.0870386677269022,
         0.0871334966195731,
         0.08689307365761796,
         0.08695667760118098,
         0.08702057404147993,
         0.08693603317263171,
         0.08713981892841925,
         0.0870305881140418,
         0.08712554192489556,
         0.08702108611574678,
         0.08691144670841656,
         0.087062288898592,
         0.08695700005673081,
         0.08708319057493037,
         0.08690427261072006,
         0.08720849206962458,
         0.08691296126399495,
         0.08699452676174092,
         0.08713290236820419,
         0.08717842363290204,
         0.08709127080248819,
         0.08693294186946601,
         0.08705441198553097,
         0.08689769835844013,
         0.0869400949769714,
         0.08697722918430853
        ],
        [
         0.14696759100422843,
         0.1457700730216774,
         0.14683540628666614,
         0.14689731045154394,
         0.1470892909164359,
         0.1463434938946134,
         0.14620798138006555,
         0.14686785733883645,
         0.14592265104270213,
         0.146118444269644,
         0.14730608955557858,
         0.14730751590633934,
         0.14641070800119793,
         0.14604453238138518,
         0.14662333566985733,
         0.14700426769672664,
         0.14690374194753247,
         0.1462999695379819,
         0.14600600281657725,
         0.14671437489473588,
         0.14683642633888241,
         0.146637728643398,
         0.14711548309386163,
         0.14624652100799532,
         0.14713198883918585,
         0.14686157940221684,
         0.14641070480809196,
         0.14648015583054974,
         0.1464077535073285,
         0.14686020665693206,
         0.14620693462187206,
         0.14656882664164553,
         0.14645389650113783,
         0.1471879467634218,
         0.14724358818312358,
         0.14571952925051573,
         0.14659593388583367,
         0.14661061336806455,
         0.14720442648009432,
         0.14610112554018762,
         0.14688805673368177,
         0.14606558036833228,
         0.14704815055207385,
         0.14614230683436255,
         0.14642323987776196,
         0.14635432858697392,
         0.14689127848084485,
         0.1470995983592682,
         0.1463839356460935,
         0.1469910242413352,
         0.14628599166821737,
         0.14679636011601654,
         0.14582204827192155,
         0.14686733637875937,
         0.14604950027370994,
         0.1471861305634503,
         0.14658850236711177,
         0.14602610796641607,
         0.14625110969479596,
         0.1469440000470389,
         0.14653181138315372,
         0.14725683415429547,
         0.14693572506453698,
         0.1468251636735611,
         0.14611516911052652,
         0.1466437860621841,
         0.14635217730439715,
         0.14684185423198845,
         0.14635677111951947,
         0.1466256111932846,
         0.14672875896628415,
         0.14644051525838575,
         0.145762481847657,
         0.1463443755789043,
         0.14672322299137905,
         0.1470875742833142,
         0.14600286312256153,
         0.14646221076851929,
         0.14659310392309705,
         0.1459183463488113,
         0.14681508981126856,
         0.14697775446700972,
         0.1471801166870184,
         0.14675148497879892,
         0.14617786748794379,
         0.14673368960570593,
         0.14622305883941325,
         0.1469960892814901,
         0.1460488248834169,
         0.14713533492396016,
         0.1462031944304124,
         0.14655081336326026,
         0.1470297932890909,
         0.14729271082860695,
         0.14678502188052062,
         0.14619551384942486,
         0.14657442376936797,
         0.146213590312604,
         0.14638683682476933,
         0.1464100405452894
        ],
        [
         22.63300901465118,
         22.44859124533832,
         22.612652568146586,
         22.62218580953777,
         22.65175080113113,
         22.536898059770465,
         22.516029132530093,
         22.617650030180812,
         22.47208826057613,
         22.502240417525172,
         22.6851377915591,
         22.68535744957626,
         22.54724903218448,
         22.490857986733317,
         22.57999369315803,
         22.6386572252959,
         22.62317625992,
         22.530195308849216,
         22.484924433752894,
         22.594013733789325,
         22.612809656187892,
         22.582210211083293,
         22.655784396454692,
         22.52196423523128,
         22.658326281234622,
         22.616683227941394,
         22.547248540446162,
         22.55794399790466,
         22.54679404012859,
         22.616471825167537,
         22.515867931768298,
         22.57159930281341,
         22.553900061175227,
         22.66694380156696,
         22.67551258020103,
         22.440807504579425,
         22.575773818418384,
         22.57803445868194,
         22.669481677934527,
         22.49957333318889,
         22.620760736986995,
         22.49409937672317,
         22.645415185019374,
         22.505915252491832,
         22.54917894117534,
         22.538566602393985,
         22.621256886050105,
         22.653338147327304,
         22.5431260894984,
         22.63661773316562,
         22.528042716905475,
         22.60663945786655,
         22.45659543387592,
         22.617569802328944,
         22.491623042151332,
         22.66666410677135,
         22.574629364535213,
         22.488020626828074,
         22.522670892998576,
         22.62937600724399,
         22.56589895300567,
         22.6775524597615,
         22.628101659938693,
         22.61107520572841,
         22.501736043021083,
         22.58314305357635,
         22.538235304877162,
         22.613645551726222,
         22.538942752406,
         22.580344123765826,
         22.596228880807757,
         22.551839349791408,
         22.44742220453918,
         22.537033839151263,
         22.595376340672374,
         22.65148643963039,
         22.484440920874476,
         22.55518045835197,
         22.575338004156947,
         22.471425337716937,
         22.60952383093536,
         22.634574187919497,
         22.66573796980083,
         22.599728686735034,
         22.511391593143344,
         22.596988199278712,
         22.51835106126964,
         22.637397749349475,
         22.4915190320462,
         22.658841578289866,
         22.51529194228351,
         22.56882525794208,
         22.64258816652,
         22.68307746760547,
         22.604893369600177,
         22.514109132811427,
         22.57246126048267,
         22.516892908141017,
         22.543572871014476,
         22.547146243974566
        ],
        [
         3.6652039680985555,
         3.658254874697684,
         3.6614295665054395,
         3.665323668536716,
         3.6661406244702515,
         3.658800530879871,
         3.6594872617671403,
         3.6621235174382547,
         3.6580192009482255,
         3.6581588979191926,
         3.6632413160280404,
         3.6655855979139202,
         3.65969295539279,
         3.658841781091572,
         3.6601225997764257,
         3.6651317473621385,
         3.664784456971589,
         3.659895910408326,
         3.6589865429714146,
         3.6609184193667783,
         3.661539899976184,
         3.6603312191237323,
         3.664645070581541,
         3.6593526483098517,
         3.663898262968585,
         3.6607011959891995,
         3.6587171105456835,
         3.6592794755657594,
         3.6605880171806424,
         3.6656850276003303,
         3.6595726148158176,
         3.6610217024355727,
         3.6589281402533684,
         3.662274843621587,
         3.664361094077573,
         3.6590456511595857,
         3.6603325363870742,
         3.6616221759413508,
         3.665181789370953,
         3.6582932415271054,
         3.665506296841593,
         3.6592092900638225,
         3.661446674924099,
         3.6584301078974613,
         3.6601092335325616,
         3.6591949549522775,
         3.6641466785587746,
         3.662932499921121,
         3.6601825190119768,
         3.6619189475719067,
         3.6607417090472714,
         3.6623152117595765,
         3.6579842240045224,
         3.661944101178179,
         3.6593297336723642,
         3.6637435054369623,
         3.65897260157756,
         3.658428309514411,
         3.6593459564306605,
         3.6624704652819546,
         3.659825954305407,
         3.6662717687264794,
         3.6596139715316114,
         3.6605042742662834,
         3.6597494614094503,
         3.6644481418395576,
         3.6588943278456965,
         3.6609369608661324,
         3.6598290235373545,
         3.6605057045907574,
         3.6637077946760654,
         3.660312004807058,
         3.6580926371676683,
         3.6592783907371498,
         3.6611411922982344,
         3.6631350615851246,
         3.65807782083339,
         3.659416394806946,
         3.6607606316704056,
         3.6589819770784984,
         3.663267955661524,
         3.6609712604119733,
         3.6629678481299712,
         3.6607714025632636,
         3.6584645403633678,
         3.6616379518438413,
         3.6594231797834667,
         3.662077463481524,
         3.6583135434310283,
         3.664711145332219,
         3.6584964171986307,
         3.6602127153087833,
         3.6631225702538868,
         3.6640793167543344,
         3.662247356963096,
         3.6589169227925584,
         3.661472305749664,
         3.65817516628165,
         3.6590674531161067,
         3.6598488075852957
        ]
       ],
       "encoder": "json",
       "name": "ABC_GAN_2 Metrics",
       "version": 1
      }
     },
     "metadata": {
      "scrapbook": {
       "data": true,
       "display": false,
       "name": "ABC_GAN_2 Metrics"
      }
     },
     "output_type": "display_data"
    },
    {
     "name": "stdout",
     "output_type": "stream",
     "text": [
      "MAE\n",
      "0.14658856200852563\n"
     ]
    }
   ],
   "source": [
    "ABC_GAN2_metrics=ABC_train_test2.test_generator(gen2,test_data,prior_model,variance,bias,\"1\",device)\n",
    "sb.glue(\"ABC_GAN_2 Metrics\",ABC_GAN2_metrics)\n",
    "\n",
    "print(\"MAE\")\n",
    "print(mean(ABC_GAN2_metrics[1]))"
   ]
  },
  {
   "cell_type": "code",
   "execution_count": 18,
   "id": "e14494f9",
   "metadata": {
    "execution": {
     "iopub.execute_input": "2022-07-25T11:37:43.852286Z",
     "iopub.status.busy": "2022-07-25T11:37:43.851665Z",
     "iopub.status.idle": "2022-07-25T11:37:44.956433Z",
     "shell.execute_reply": "2022-07-25T11:37:44.955316Z"
    },
    "papermill": {
     "duration": 1.142583,
     "end_time": "2022-07-25T11:37:44.959429",
     "exception": false,
     "start_time": "2022-07-25T11:37:43.816846",
     "status": "completed"
    },
    "tags": []
   },
   "outputs": [
    {
     "data": {
      "image/png": "[encoded data removed]",
      "text/plain": [
       "<Figure size 432x288 with 1 Axes>"
      ]
     },
     "metadata": {
      "needs_background": "light"
     },
     "output_type": "display_data"
    },
    {
     "data": {
      "image/png": "[encoded data removed]",
      "text/plain": [
       "<Figure size 432x288 with 1 Axes>"
      ]
     },
     "metadata": {
      "needs_background": "light"
     },
     "output_type": "display_data"
    },
    {
     "data": {
      "image/png": "[encoded data removed]",
      "text/plain": [
       "<Figure size 432x288 with 1 Axes>"
      ]
     },
     "metadata": {
      "needs_background": "light"
     },
     "output_type": "display_data"
    },
    {
     "data": {
      "image/png": "[encoded data removed]",
      "text/plain": [
       "<Figure size 432x288 with 1 Axes>"
      ]
     },
     "metadata": {
      "needs_background": "light"
     },
     "output_type": "display_data"
    }
   ],
   "source": [
    "sanityChecks.discProbVsError(train_data,disc2,device)\n",
    "sanityChecks.discProbVsError(test_data,disc2,device)"
   ]
  },
  {
   "cell_type": "markdown",
   "id": "130f3a4d",
   "metadata": {
    "id": "130f3a4d",
    "papermill": {
     "duration": 0.0335,
     "end_time": "2022-07-25T11:37:45.026639",
     "exception": false,
     "start_time": "2022-07-25T11:37:44.993139",
     "status": "completed"
    },
    "tags": []
   },
   "source": [
    "# skipGAN Model"
   ]
  },
  {
   "cell_type": "code",
   "execution_count": 19,
   "id": "4e43dad1",
   "metadata": {
    "execution": {
     "iopub.execute_input": "2022-07-25T11:37:45.094201Z",
     "iopub.status.busy": "2022-07-25T11:37:45.093706Z",
     "iopub.status.idle": "2022-07-25T11:37:45.103442Z",
     "shell.execute_reply": "2022-07-25T11:37:45.101350Z"
    },
    "id": "4e43dad1",
    "papermill": {
     "duration": 0.045927,
     "end_time": "2022-07-25T11:37:45.106795",
     "exception": false,
     "start_time": "2022-07-25T11:37:45.060868",
     "status": "completed"
    },
    "tags": []
   },
   "outputs": [],
   "source": [
    "#Generator\n",
    "gen3 = network.GeneratorWithSkipConnection(n_features+1).to(device)\n",
    "constraints=network.weightConstraint()\n",
    "#Discriminator \n",
    "disc3 = network.Discriminator(n_features+1).to(device)\n",
    "\n",
    "criterion = torch.nn.BCELoss()\n",
    "gen_opt = torch.optim.Adam(gen3.parameters(), lr=0.01, betas=(0.5, 0.999))\n",
    "disc_opt = torch.optim.Adam(disc3.parameters(), lr=0.01, betas=(0.5, 0.999))\n"
   ]
  },
  {
   "cell_type": "code",
   "execution_count": 20,
   "id": "26acbc37",
   "metadata": {
    "execution": {
     "iopub.execute_input": "2022-07-25T11:37:45.177347Z",
     "iopub.status.busy": "2022-07-25T11:37:45.176577Z",
     "iopub.status.idle": "2022-07-25T11:48:01.910964Z",
     "shell.execute_reply": "2022-07-25T11:48:01.909357Z"
    },
    "id": "26acbc37",
    "papermill": {
     "duration": 616.77431,
     "end_time": "2022-07-25T11:48:01.913771",
     "exception": false,
     "start_time": "2022-07-25T11:37:45.139461",
     "status": "completed"
    },
    "tags": []
   },
   "outputs": [
    {
     "data": {
      "image/png": "[encoded data removed]",
      "text/plain": [
       "<Figure size 432x288 with 1 Axes>"
      ]
     },
     "metadata": {
      "needs_background": "light"
     },
     "output_type": "display_data"
    },
    {
     "data": {
      "image/png": "[encoded data removed]",
      "text/plain": [
       "<Figure size 432x288 with 1 Axes>"
      ]
     },
     "metadata": {
      "needs_background": "light"
     },
     "output_type": "display_data"
    }
   ],
   "source": [
    "ABC_train_test2.training_GAN_skip_connection(disc3,gen3,disc_opt,gen_opt,train_data,batch_size,n_epochs,criterion,prior_model,variance,bias,device)"
   ]
  },
  {
   "cell_type": "code",
   "execution_count": 21,
   "id": "c5e0717b",
   "metadata": {
    "execution": {
     "iopub.execute_input": "2022-07-25T11:48:01.982654Z",
     "iopub.status.busy": "2022-07-25T11:48:01.982268Z",
     "iopub.status.idle": "2022-07-25T11:48:06.890552Z",
     "shell.execute_reply": "2022-07-25T11:48:06.889194Z"
    },
    "id": "c5e0717b",
    "papermill": {
     "duration": 4.948559,
     "end_time": "2022-07-25T11:48:06.894404",
     "exception": false,
     "start_time": "2022-07-25T11:48:01.945845",
     "status": "completed"
    },
    "tags": []
   },
   "outputs": [
    {
     "data": {
      "application/scrapbook.scrap.json+json": {
       "data": 0.006039398690293146,
       "encoder": "json",
       "name": "ABC-GAN Model 3 MSE",
       "version": 1
      }
     },
     "metadata": {
      "scrapbook": {
       "data": true,
       "display": false,
       "name": "ABC-GAN Model 3 MSE"
      }
     },
     "output_type": "display_data"
    },
    {
     "data": {
      "application/scrapbook.scrap.json+json": {
       "data": 0.060457665439356455,
       "encoder": "json",
       "name": "ABC-GAN Model 3 MAE",
       "version": 1
      }
     },
     "metadata": {
      "scrapbook": {
       "data": true,
       "display": false,
       "name": "ABC-GAN Model 3 MAE"
      }
     },
     "output_type": "display_data"
    },
    {
     "data": {
      "application/scrapbook.scrap.json+json": {
       "data": 9.310480477660894,
       "encoder": "json",
       "name": "ABC-GAN Model 3 Manhattan Distance",
       "version": 1
      }
     },
     "metadata": {
      "scrapbook": {
       "data": true,
       "display": false,
       "name": "ABC-GAN Model 3 Manhattan Distance"
      }
     },
     "output_type": "display_data"
    },
    {
     "data": {
      "application/scrapbook.scrap.json+json": {
       "data": 0.9642991221963426,
       "encoder": "json",
       "name": "ABC-GAN Model 3 Euclidean distance",
       "version": 1
      }
     },
     "metadata": {
      "scrapbook": {
       "data": true,
       "display": false,
       "name": "ABC-GAN Model 3 Euclidean distance"
      }
     },
     "output_type": "display_data"
    },
    {
     "data": {
      "application/scrapbook.scrap.json+json": {
       "data": [
        [
         0.00611975008636728,
         0.006079440971586154,
         0.006033378569931547,
         0.0059171792260084245,
         0.006377280715908114,
         0.0059374699707056494,
         0.00614783532660864,
         0.006284745805135659,
         0.005895407834470785,
         0.006156635433548266,
         0.0059723854933359756,
         0.005876465355959971,
         0.006117991592407078,
         0.005900011196698983,
         0.006352881642039583,
         0.006226918781657206,
         0.006056450650816279,
         0.0060662986205030555,
         0.006009261472601974,
         0.00601084804262909,
         0.006000752040414815,
         0.005678790136690693,
         0.0060543341519632135,
         0.006662836858429909,
         0.006068138050334134,
         0.0059379975691375006,
         0.005821732418730038,
         0.0062313513448021,
         0.006033050722378957,
         0.00608085028225973,
         0.005534649264368982,
         0.005871032654002929,
         0.005800785802394095,
         0.00611529251639155,
         0.005986789465851747,
         0.006119809278678844,
         0.006276988352856727,
         0.0063246730214252325,
         0.006061505956964226,
         0.005957801858051191,
         0.006081969003037637,
         0.005983881292088709,
         0.006006668060475094,
         0.006021870102657645,
         0.005957483825280868,
         0.005958026413620869,
         0.005994262061877507,
         0.005981435317729403,
         0.005880398933285382,
         0.006066930998971032,
         0.00595378405038551,
         0.005935151136751865,
         0.005910806134429109,
         0.005842462392280408,
         0.0060632479433370134,
         0.006091590461208881,
         0.005993633281782639,
         0.005953930176149632,
         0.0063430675232394,
         0.006040278052108244,
         0.006137653422974171,
         0.0061224779792783705,
         0.00606680440251829,
         0.006238454359265376,
         0.005837892372466943,
         0.006179715636885428,
         0.006119803168511123,
         0.005886795431454985,
         0.005934814439122729,
         0.0059459470901137654,
         0.006154169486967623,
         0.00601578236679257,
         0.005909223663699296,
         0.006168469534639051,
         0.005890702889438345,
         0.005638515378803322,
         0.006162521528483996,
         0.00594224677502095,
         0.006265700413388756,
         0.005919565961335961,
         0.005748608216390721,
         0.0058391374929482945,
         0.00591660560442387,
         0.006152601037200623,
         0.006046315631260169,
         0.006065505987876373,
         0.005973307100166129,
         0.006172398742265659,
         0.0061841737076843125,
         0.005981443748665983,
         0.006318174452510032,
         0.005672553405744215,
         0.0057047380188172975,
         0.006154023474516126,
         0.00623746280639416,
         0.006064858538171268,
         0.006218405581051296,
         0.006200174540590399,
         0.006128772886188678,
         0.006404676059544754
        ],
        [
         0.060027338358779235,
         0.06116837469933482,
         0.06109521236851231,
         0.05982292098803567,
         0.06222246973110097,
         0.059084349336078416,
         0.06141210728409616,
         0.06173590942007768,
         0.05948444585279598,
         0.060360642791084655,
         0.05987592712770422,
         0.05975453012514037,
         0.06030067142292664,
         0.059028409989913565,
         0.06189805209975351,
         0.06099985683844848,
         0.060779198605035036,
         0.05928162822814344,
         0.060787685977464374,
         0.060054157642865334,
         0.061125009417437114,
         0.058306083071057675,
         0.06065041435180933,
         0.0648411951064096,
         0.059979722956074524,
         0.06039565427881944,
         0.05970628732549293,
         0.0619930862872438,
         0.061224182257307816,
         0.060974127274345265,
         0.057591074170520555,
         0.05920964657244357,
         0.058836225311380705,
         0.0607084266526939,
         0.06073458631849521,
         0.060939714784262244,
         0.06195703021843325,
         0.061660465227996376,
         0.06080429912726214,
         0.06083825548699537,
         0.059881844388490375,
         0.06134488945222133,
         0.059402609594746844,
         0.06036295160022262,
         0.05911475583281997,
         0.060458071662911346,
         0.06015261537213991,
         0.05983959040423105,
         0.06007686420646194,
         0.06055674628148992,
         0.05993573226083022,
         0.059742456749565416,
         0.060216257796175295,
         0.05781241301930957,
         0.06079652159196603,
         0.060022327166002296,
         0.06040117182079461,
         0.059986542220916844,
         0.0630339581350034,
         0.0605590312390939,
         0.06099085532757756,
         0.06070549204316619,
         0.0602833271970029,
         0.06161431367085739,
         0.05955658121300595,
         0.060909358457988734,
         0.06058720333574267,
         0.05925718577602854,
         0.059175464711696296,
         0.06092112186038262,
         0.06152572486452855,
         0.05948339343409647,
         0.060695585189991956,
         0.061747639488380454,
         0.0604006682776592,
         0.05875334824592649,
         0.0611716022037647,
         0.05837920094029857,
         0.061371607621285046,
         0.060157569863095686,
         0.059182883554755095,
         0.060260141715891176,
         0.05995059554017596,
         0.06097709754022298,
         0.06109989176855072,
         0.06142893737157831,
         0.06013426183444726,
         0.06104396713002549,
         0.06092189135054102,
         0.05983056842845369,
         0.06226257117489328,
         0.058741206557235935,
         0.05927038931759534,
         0.06094166035340591,
         0.060892574428641176,
         0.05913159409658862,
         0.06210763431940373,
         0.061145798859561416,
         0.061533770233683,
         0.061875138758355146
        ],
        [
         9.244210107252002,
         9.419929703697562,
         9.408662704750896,
         9.212729832157493,
         9.582260338589549,
         9.098989797756076,
         9.457464521750808,
         9.507330050691962,
         9.16060466133058,
         9.295538989827037,
         9.22089277766645,
         9.202197639271617,
         9.286303399130702,
         9.090375138446689,
         9.53230002336204,
         9.393977953121066,
         9.359996585175395,
         9.12937074713409,
         9.361303640529513,
         9.248340277001262,
         9.413251450285316,
         8.979136792942882,
         9.340163810178638,
         9.985544046387076,
         9.236877335235476,
         9.300930758938193,
         9.19476824812591,
         9.546935288235545,
         9.428524067625403,
         9.390015600249171,
         8.869025422260165,
         9.11828557215631,
         9.060778697952628,
         9.349097704514861,
         9.353126293048263,
         9.384716076776385,
         9.54138265363872,
         9.495711645111442,
         9.363862065598369,
         9.369091344997287,
         9.221804035827518,
         9.447112975642085,
         9.148001877591014,
         9.295894546434283,
         9.103672398254275,
         9.310543036088347,
         9.263502767309546,
         9.215296922251582,
         9.251837087795138,
         9.325738927349448,
         9.230102768167853,
         9.200338339433074,
         9.273303700610995,
         8.903111604973674,
         9.362664325162768,
         9.243438383564353,
         9.30178046040237,
         9.237927502021194,
         9.707229552790523,
         9.32609081082046,
         9.392591720446944,
         9.348645774647593,
         9.283632388338447,
         9.488604305312037,
         9.171713506802917,
         9.380041202530265,
         9.330429313704371,
         9.125606609508395,
         9.11302156560123,
         9.381852766498923,
         9.474961629137397,
         9.160442588850856,
         9.347120119258761,
         9.50913648121059,
         9.301702914759517,
         9.04801562987268,
         9.420426739379764,
         8.99039694480598,
         9.451227573677897,
         9.264265758916736,
         9.114164067432284,
         9.280061824247241,
         9.232391713187099,
         9.390473021194339,
         9.40938333235681,
         9.46005635522306,
         9.260676322504878,
         9.400770938023925,
         9.381971267983317,
         9.213907537981868,
         9.588435960933566,
         9.046145809814334,
         9.127639954909682,
         9.38501569442451,
         9.377456462010741,
         9.106265490874648,
         9.564575685188174,
         9.416453024372458,
         9.476200615987182,
         9.528771368786693
        ],
        [
         0.9707942692973425,
         0.9675918094032565,
         0.9639192392360774,
         0.9545918503765352,
         0.9910102069352512,
         0.9562271568454171,
         0.9730193422012383,
         0.983794111585799,
         0.9528340918063863,
         0.9737154906677992,
         0.9590346010305052,
         0.9513020891482555,
         0.9706547816967112,
         0.953206024053375,
         0.9891126189034775,
         0.9792576230876171,
         0.9657605294407652,
         0.966545388255239,
         0.9619907831059007,
         0.9621177675133538,
         0.9613094268880763,
         0.9351650555117886,
         0.9655917664325514,
         1.0129545281986778,
         0.9666919156336504,
         0.9562696406595658,
         0.9468615487411165,
         0.9796060979289193,
         0.9638930496929415,
         0.9677039544550794,
         0.9232204431839793,
         0.9508622553853167,
         0.9451566079590676,
         0.9704406460594582,
         0.9601903861949301,
         0.9707989642127468,
         0.9831867606614402,
         0.9869142036162444,
         0.9661635044714175,
         0.9578629787917912,
         0.9677929667381325,
         0.9599571443463824,
         0.9617831779113026,
         0.9629994786131908,
         0.9578374126610705,
         0.9578810300332781,
         0.9607894449509404,
         0.9597609280077659,
         0.9516204262866308,
         0.9665957654787956,
         0.9575399436887051,
         0.9560404149719756,
         0.9540776408144584,
         0.9485458388560791,
         0.9663023249862851,
         0.9685581712143921,
         0.9607390516651888,
         0.9575516942322453,
         0.9883483184479385,
         0.9644702276507398,
         0.9722132621693773,
         0.9710106120989971,
         0.9665856806242356,
         0.9801642573195922,
         0.9481747862920155,
         0.9755389321192445,
         0.9707984795778746,
         0.9521378557982387,
         0.9560132967824768,
         0.9569095317100357,
         0.9735204676805794,
         0.9625125892610734,
         0.9539499170342706,
         0.9746508648405406,
         0.9524538020153551,
         0.9318429955393299,
         0.9741808432660413,
         0.9566117307211042,
         0.9823023280344338,
         0.9547843515924096,
         0.9408962032680178,
         0.9482758954618837,
         0.9545455793629113,
         0.9733964042099683,
         0.9649521269027111,
         0.9664822409816756,
         0.9591085931350963,
         0.9749612332338714,
         0.9758907474627393,
         0.9597616044073453,
         0.9864070486804851,
         0.9346513919556366,
         0.9372991277590436,
         0.9735089188474255,
         0.9800863595544531,
         0.9664306570460063,
         0.9785879927129189,
         0.9771524339891506,
         0.9715096625731813,
         0.9931365027879563
        ]
       ],
       "encoder": "json",
       "name": "ABC_GAN_3 Metrics",
       "version": 1
      }
     },
     "metadata": {
      "scrapbook": {
       "data": true,
       "display": false,
       "name": "ABC_GAN_3 Metrics"
      }
     },
     "output_type": "display_data"
    },
    {
     "name": "stdout",
     "output_type": "stream",
     "text": [
      "MAE\n",
      "0.060457665439356455\n"
     ]
    }
   ],
   "source": [
    "ABC_GAN3_metrics=ABC_train_test2.test_generator(gen3,test_data,prior_model,variance,bias,\"3\",device)\n",
    "sb.glue(\"ABC_GAN_3 Metrics\",ABC_GAN3_metrics)\n",
    "\n",
    "print(\"MAE\")\n",
    "print(mean(ABC_GAN3_metrics[1]))"
   ]
  },
  {
   "cell_type": "code",
   "execution_count": 22,
   "id": "c8e46b48",
   "metadata": {
    "execution": {
     "iopub.execute_input": "2022-07-25T11:48:06.966028Z",
     "iopub.status.busy": "2022-07-25T11:48:06.965699Z",
     "iopub.status.idle": "2022-07-25T11:48:07.948716Z",
     "shell.execute_reply": "2022-07-25T11:48:07.947078Z"
    },
    "id": "c8e46b48",
    "papermill": {
     "duration": 1.021266,
     "end_time": "2022-07-25T11:48:07.951308",
     "exception": false,
     "start_time": "2022-07-25T11:48:06.930042",
     "status": "completed"
    },
    "tags": []
   },
   "outputs": [
    {
     "data": {
      "image/png": "[encoded data removed]",
      "text/plain": [
       "<Figure size 432x288 with 1 Axes>"
      ]
     },
     "metadata": {
      "needs_background": "light"
     },
     "output_type": "display_data"
    },
    {
     "data": {
      "image/png": "[encoded data removed]",
      "text/plain": [
       "<Figure size 432x288 with 1 Axes>"
      ]
     },
     "metadata": {
      "needs_background": "light"
     },
     "output_type": "display_data"
    },
    {
     "data": {
      "image/png": "[encoded data removed]",
      "text/plain": [
       "<Figure size 432x288 with 1 Axes>"
      ]
     },
     "metadata": {
      "needs_background": "light"
     },
     "output_type": "display_data"
    },
    {
     "data": {
      "image/png": "[encoded data removed]",
      "text/plain": [
       "<Figure size 432x288 with 1 Axes>"
      ]
     },
     "metadata": {
      "needs_background": "light"
     },
     "output_type": "display_data"
    }
   ],
   "source": [
    "sanityChecks.discProbVsError(train_data,disc3,device)\n",
    "sanityChecks.discProbVsError(test_data,disc3,device)"
   ]
  },
  {
   "cell_type": "markdown",
   "id": "c1b88c02",
   "metadata": {
    "id": "130f3a4d",
    "papermill": {
     "duration": 0.036871,
     "end_time": "2022-07-25T11:48:08.025961",
     "exception": false,
     "start_time": "2022-07-25T11:48:07.989090",
     "status": "completed"
    },
    "tags": []
   },
   "source": [
    "# skipGAN Model with TabNet Generator"
   ]
  },
  {
   "cell_type": "code",
   "execution_count": 23,
   "id": "e6a5b507",
   "metadata": {
    "execution": {
     "iopub.execute_input": "2022-07-25T11:48:08.102405Z",
     "iopub.status.busy": "2022-07-25T11:48:08.100706Z",
     "iopub.status.idle": "2022-07-25T11:48:08.119393Z",
     "shell.execute_reply": "2022-07-25T11:48:08.118606Z"
    },
    "id": "4e43dad1",
    "papermill": {
     "duration": 0.060907,
     "end_time": "2022-07-25T11:48:08.122358",
     "exception": false,
     "start_time": "2022-07-25T11:48:08.061451",
     "status": "completed"
    },
    "tags": []
   },
   "outputs": [],
   "source": [
    "#Generator\n",
    "gen4 = network.GeneratorTabnetskipConnection(n_features+1).to(device)\n",
    "constraints=network.weightConstraint()\n",
    "#Discriminator \n",
    "disc4 = network.Discriminator(n_features+1).to(device)\n",
    "\n",
    "criterion = torch.nn.BCELoss()\n",
    "gen_opt = torch.optim.Adam(gen4.parameters(), lr=0.01, betas=(0.5, 0.999))\n",
    "disc_opt = torch.optim.Adam(disc4.parameters(), lr=0.01, betas=(0.5, 0.999))\n"
   ]
  },
  {
   "cell_type": "code",
   "execution_count": 24,
   "id": "aee06537",
   "metadata": {
    "execution": {
     "iopub.execute_input": "2022-07-25T11:48:08.198503Z",
     "iopub.status.busy": "2022-07-25T11:48:08.197988Z",
     "iopub.status.idle": "2022-07-25T12:09:42.091634Z",
     "shell.execute_reply": "2022-07-25T12:09:42.090368Z"
    },
    "id": "26acbc37",
    "papermill": {
     "duration": 1293.98347,
     "end_time": "2022-07-25T12:09:42.142666",
     "exception": false,
     "start_time": "2022-07-25T11:48:08.159196",
     "status": "completed"
    },
    "tags": []
   },
   "outputs": [
    {
     "data": {
      "image/png": "[encoded data removed]",
      "text/plain": [
       "<Figure size 432x288 with 1 Axes>"
      ]
     },
     "metadata": {
      "needs_background": "light"
     },
     "output_type": "display_data"
    },
    {
     "data": {
      "image/png": "[encoded data removed]",
      "text/plain": [
       "<Figure size 432x288 with 1 Axes>"
      ]
     },
     "metadata": {
      "needs_background": "light"
     },
     "output_type": "display_data"
    }
   ],
   "source": [
    "ABC_train_test2.training_GAN_skip_connection(disc4,gen4,disc_opt,gen_opt,train_data,batch_size,n_epochs,criterion,prior_model,variance,bias,device)"
   ]
  },
  {
   "cell_type": "code",
   "execution_count": 25,
   "id": "e1a8259d",
   "metadata": {
    "execution": {
     "iopub.execute_input": "2022-07-25T12:09:42.231190Z",
     "iopub.status.busy": "2022-07-25T12:09:42.230524Z",
     "iopub.status.idle": "2022-07-25T12:09:49.227115Z",
     "shell.execute_reply": "2022-07-25T12:09:49.225518Z"
    },
    "id": "c5e0717b",
    "papermill": {
     "duration": 7.044629,
     "end_time": "2022-07-25T12:09:49.230809",
     "exception": false,
     "start_time": "2022-07-25T12:09:42.186180",
     "status": "completed"
    },
    "tags": []
   },
   "outputs": [
    {
     "data": {
      "application/scrapbook.scrap.json+json": {
       "data": 0.020464285460633773,
       "encoder": "json",
       "name": "ABC-GAN Model 3 MSE",
       "version": 1
      }
     },
     "metadata": {
      "scrapbook": {
       "data": true,
       "display": false,
       "name": "ABC-GAN Model 3 MSE"
      }
     },
     "output_type": "display_data"
    },
    {
     "data": {
      "application/scrapbook.scrap.json+json": {
       "data": 0.09709422321216046,
       "encoder": "json",
       "name": "ABC-GAN Model 3 MAE",
       "version": 1
      }
     },
     "metadata": {
      "scrapbook": {
       "data": true,
       "display": false,
       "name": "ABC-GAN Model 3 MAE"
      }
     },
     "output_type": "display_data"
    },
    {
     "data": {
      "application/scrapbook.scrap.json+json": {
       "data": 14.95251037467271,
       "encoder": "json",
       "name": "ABC-GAN Model 3 Manhattan Distance",
       "version": 1
      }
     },
     "metadata": {
      "scrapbook": {
       "data": true,
       "display": false,
       "name": "ABC-GAN Model 3 Manhattan Distance"
      }
     },
     "output_type": "display_data"
    },
    {
     "data": {
      "application/scrapbook.scrap.json+json": {
       "data": 1.7752221682238745,
       "encoder": "json",
       "name": "ABC-GAN Model 3 Euclidean distance",
       "version": 1
      }
     },
     "metadata": {
      "scrapbook": {
       "data": true,
       "display": false,
       "name": "ABC-GAN Model 3 Euclidean distance"
      }
     },
     "output_type": "display_data"
    },
    {
     "data": {
      "application/scrapbook.scrap.json+json": {
       "data": [
        [
         0.020127322506833988,
         0.020628657242443678,
         0.020435910988797882,
         0.02061273418491265,
         0.020377634586832796,
         0.020495631558836436,
         0.020787232382129362,
         0.02061612161971303,
         0.02025923921521062,
         0.02042144563523733,
         0.020272293909982343,
         0.020696309992666584,
         0.02061940771135205,
         0.020661833275508773,
         0.0203406537544004,
         0.020886681578068535,
         0.02070168804317938,
         0.020581738262901918,
         0.020480738783631745,
         0.0209747031862733,
         0.02047897448143093,
         0.020201812599868633,
         0.020496381046186785,
         0.02059262171182056,
         0.02043880677370503,
         0.020463688296921433,
         0.020647363701845355,
         0.02013672581145346,
         0.02063915808641737,
         0.020938986373419042,
         0.020523302987189518,
         0.020257972727937154,
         0.020632106164173093,
         0.020172398609712663,
         0.02032896558851859,
         0.020548495221574526,
         0.020309539497551637,
         0.02079405635373833,
         0.020485979297313456,
         0.020660165674913713,
         0.020431888542372937,
         0.020608937965124932,
         0.02048759791439441,
         0.02007176290699382,
         0.020401742736942122,
         0.02022660359119778,
         0.02038208719046299,
         0.020679471012456367,
         0.020557659602979013,
         0.020598318734678964,
         0.0205533019411179,
         0.02028844777461891,
         0.020308798574601192,
         0.02008622425317908,
         0.02014062348101798,
         0.02018160093230299,
         0.02035339363827151,
         0.02057971129470519,
         0.020464664825208378,
         0.020140938736635916,
         0.020320239704375947,
         0.020709242640176335,
         0.0208646353374416,
         0.020111638937359764,
         0.020514553898776624,
         0.020174623010395635,
         0.0207168040252025,
         0.020640394408681675,
         0.020597277146717892,
         0.020366472135007238,
         0.0208083201155465,
         0.02043520383732781,
         0.020472297403154347,
         0.020380232413065653,
         0.020357218546835996,
         0.020490826898275298,
         0.02057665344456488,
         0.020563976758731124,
         0.02035745501907448,
         0.020268721199977587,
         0.02028060353819702,
         0.020818977898960832,
         0.020327741203373988,
         0.020163689316024552,
         0.020451000368760304,
         0.020317690837138518,
         0.020616712045375563,
         0.020455004885958996,
         0.020561509036597907,
         0.020594123445154964,
         0.019974902200003797,
         0.020781299496586754,
         0.0203983300235739,
         0.020673794717849317,
         0.02061653845226233,
         0.020078888511683757,
         0.02041655162613385,
         0.02055258669395801,
         0.020071377873380356,
         0.020281181937847167
        ],
        [
         0.0969581145236825,
         0.09671026679941198,
         0.09738300391170499,
         0.0974457496051471,
         0.09631371109855252,
         0.09658809871013675,
         0.09758631985441044,
         0.09668314828259217,
         0.09655330541797659,
         0.09662354267020891,
         0.09711420839628229,
         0.0977800665423274,
         0.09699647074154058,
         0.09781267086358426,
         0.09748811302585648,
         0.09763037218627604,
         0.09757574864167284,
         0.09757762768777548,
         0.09832647475474454,
         0.09822823164089546,
         0.09709081328292558,
         0.0970747061920437,
         0.0971935639496554,
         0.0974945125907853,
         0.09705811282982688,
         0.09633574096558543,
         0.0973068242892623,
         0.09635945964701377,
         0.09809411494908007,
         0.09859980273895062,
         0.09706988924654661,
         0.09605954291129654,
         0.09801502592329468,
         0.09585277483399425,
         0.09648896438105926,
         0.09731250114787321,
         0.09717126866778383,
         0.09766493847762997,
         0.09736541962226877,
         0.09713425805380979,
         0.09721973164660203,
         0.09773134438974129,
         0.09730093005754344,
         0.09626087762850832,
         0.09672655163985955,
         0.09578508727687907,
         0.09683650169618331,
         0.09756941042308297,
         0.09811021739544419,
         0.09780198818242009,
         0.09634755957000829,
         0.09687508670492219,
         0.09718897303735669,
         0.09635065141581482,
         0.09621079139072787,
         0.09579060781843864,
         0.09738082911625698,
         0.09731624085552894,
         0.0972863326284599,
         0.09605197786268863,
         0.09674574622231258,
         0.09781232770145326,
         0.09780333306059821,
         0.09623157822031092,
         0.09739612859323041,
         0.09594590791392249,
         0.09814539086073637,
         0.09779679788542646,
         0.09712496466402497,
         0.09570950515229594,
         0.09750031654468992,
         0.0972146572206508,
         0.09747605948624286,
         0.09630069551481442,
         0.09734321873054488,
         0.09779468603287038,
         0.09892973626733988,
         0.09610379650559905,
         0.09598678087984974,
         0.09666709721620594,
         0.09584354051666988,
         0.09869353520357377,
         0.09675591931279216,
         0.0970647040294943,
         0.09764189528325548,
         0.09737151840629128,
         0.0969822241670706,
         0.09630715100747811,
         0.09653240682968459,
         0.09821170407601378,
         0.09616790628423552,
         0.09685242261931107,
         0.09692394265348649,
         0.09733317176775112,
         0.09785675570707429,
         0.09581288403843517,
         0.0979132643453293,
         0.09763249787562467,
         0.09667167632368864,
         0.09656530530373385
        ],
        [
         14.931549636647105,
         14.893381087109447,
         14.996982602402568,
         15.006645439192653,
         14.832311509177089,
         14.87456720136106,
         15.028293257579207,
         14.889204835519195,
         14.869209034368396,
         14.880025571212173,
         14.955588093027472,
         15.05813024751842,
         14.93745649419725,
         15.063151312991977,
         15.013169405981898,
         15.035077316686511,
         15.026665290817618,
         15.026954663917422,
         15.142277112230659,
         15.127147672697902,
         14.95198524557054,
         14.949504753574729,
         14.967808848246932,
         15.014154938980937,
         14.946949375793338,
         14.835704108700156,
         14.985250940546393,
         14.83935678564012,
         15.106493702158332,
         15.184369621798396,
         14.948762943968177,
         14.793169608339667,
         15.09431399218738,
         14.761327324435115,
         14.859300514683127,
         14.986125176772475,
         14.96437537483871,
         15.040400525555015,
         14.99427462182939,
         14.958675740286708,
         14.971838673576713,
         15.05062703602016,
         14.98434322886169,
         14.824175154790282,
         14.895888952538371,
         14.750903440639377,
         14.91282126121223,
         15.025689205154777,
         15.108973478898406,
         15.061506180092692,
         14.837524173781276,
         14.918763352558017,
         14.967101847752929,
         14.838000318035483,
         14.816461874172091,
         14.75175360403955,
         14.996647683903575,
         14.986701091751456,
         14.982095224782825,
         14.792004590854049,
         14.898844918236136,
         15.063098466023803,
         15.061713291332126,
         14.819663045927882,
         14.999003803357482,
         14.775669818744063,
         15.114390192553401,
         15.060706874355674,
         14.957244558259845,
         14.739263793453574,
         15.015048747882247,
         14.971057211980224,
         15.0113131608814,
         14.83030710928142,
         14.990855684503913,
         15.060381649062037,
         15.23517938517034,
         14.799984661862254,
         14.78196425549686,
         14.886732971295714,
         14.75990523956716,
         15.19880442135036,
         14.900411574169993,
         14.947964420542121,
         15.036851873621345,
         14.995213834568858,
         14.935262521728873,
         14.83130125515163,
         14.865990651771426,
         15.124602427706122,
         14.80985756777227,
         14.915273083373904,
         14.926287168636918,
         14.989308452233672,
         15.069940378889441,
         14.755184141919017,
         15.078642709180713,
         15.035404672846198,
         14.887438153848052,
         14.871057016775012
        ],
        [
         1.760570267286266,
         1.7823616959911157,
         1.774015302153528,
         1.7816736694682749,
         1.7714840463216852,
         1.7766055443065607,
         1.789199202673621,
         1.7818200609028416,
         1.766330331263786,
         1.7733873315851079,
         1.7668993355981775,
         1.7852819774115947,
         1.781962061197773,
         1.7837943615866576,
         1.7698758934393286,
         1.7934739928481134,
         1.7855139200380445,
         1.780333590225971,
         1.7759599580731793,
         1.797249089771946,
         1.775883461869152,
         1.763825144502643,
         1.7766380275995346,
         1.7808042406790157,
         1.7741409873937795,
         1.7752205490377526,
         1.7831696526366145,
         1.7609814805851403,
         1.7828152863682416,
         1.7957182132802831,
         1.7778044493214618,
         1.7662751201617266,
         1.782510687003771,
         1.7625406054601267,
         1.7693673164811943,
         1.7788952369722273,
         1.7685217224063017,
         1.7894928551060778,
         1.776187155619101,
         1.7837223758019947,
         1.773840701845978,
         1.7815095976809217,
         1.776257323367518,
         1.758138642905345,
         1.77253163060327,
         1.7649070664044775,
         1.7716775743151745,
         1.7845555569716176,
         1.779291875679414,
         1.7810505565930914,
         1.7791032850658661,
         1.7676031673685448,
         1.7684894629283443,
         1.7587718825901153,
         1.7611519003415828,
         1.762942580906894,
         1.7704300664792754,
         1.7802459210414159,
         1.775262905341654,
         1.7611656836998417,
         1.7689875393777923,
         1.7858396810988257,
         1.7925272220990136,
         1.759884199699913,
         1.7774254697206295,
         1.7626377800333588,
         1.78616567537314,
         1.782868682471308,
         1.7810055251443089,
         1.770998788478161,
         1.7901065045952325,
         1.7739846084305473,
         1.7755939288265685,
         1.7715969608271827,
         1.7705964125719738,
         1.7763972929315097,
         1.7801136566138105,
         1.7795652336580958,
         1.7706066962873122,
         1.7667436330142945,
         1.7672614251667298,
         1.790564881940883,
         1.76931403242036,
         1.7621600820208647,
         1.774670126189396,
         1.7688765895107923,
         1.7818455755165308,
         1.7748438670592084,
         1.7794584545968128,
         1.7808691727788046,
         1.7538913702965142,
         1.788943856713888,
         1.7723833737739645,
         1.7843106194126612,
         1.781838073913676,
         1.7584506904657005,
         1.7731748222960457,
         1.7790723287347072,
         1.758121779769699,
         1.767286625997171
        ]
       ],
       "encoder": "json",
       "name": "ABC_GAN_4 Metrics",
       "version": 1
      }
     },
     "metadata": {
      "scrapbook": {
       "data": true,
       "display": false,
       "name": "ABC_GAN_4 Metrics"
      }
     },
     "output_type": "display_data"
    },
    {
     "name": "stdout",
     "output_type": "stream",
     "text": [
      "MAE\n",
      "0.09709422321216046\n"
     ]
    }
   ],
   "source": [
    "ABC_GAN4_metrics=ABC_train_test2.test_generator(gen4,test_data,prior_model,variance,bias,\"3\",device)\n",
    "sb.glue(\"ABC_GAN_4 Metrics\",ABC_GAN4_metrics)\n",
    "\n",
    "print(\"MAE\")\n",
    "print(mean(ABC_GAN4_metrics[1]))"
   ]
  },
  {
   "cell_type": "code",
   "execution_count": 26,
   "id": "816dbae8",
   "metadata": {
    "execution": {
     "iopub.execute_input": "2022-07-25T12:09:49.319646Z",
     "iopub.status.busy": "2022-07-25T12:09:49.319154Z",
     "iopub.status.idle": "2022-07-25T12:09:50.253180Z",
     "shell.execute_reply": "2022-07-25T12:09:50.251703Z"
    },
    "id": "c8e46b48",
    "papermill": {
     "duration": 0.982659,
     "end_time": "2022-07-25T12:09:50.256046",
     "exception": false,
     "start_time": "2022-07-25T12:09:49.273387",
     "status": "completed"
    },
    "tags": []
   },
   "outputs": [
    {
     "data": {
      "image/png": "[encoded data removed]",
      "text/plain": [
       "<Figure size 432x288 with 1 Axes>"
      ]
     },
     "metadata": {
      "needs_background": "light"
     },
     "output_type": "display_data"
    },
    {
     "data": {
      "image/png": "[encoded data removed]",
      "text/plain": [
       "<Figure size 432x288 with 1 Axes>"
      ]
     },
     "metadata": {
      "needs_background": "light"
     },
     "output_type": "display_data"
    },
    {
     "data": {
      "image/png": "[encoded data removed]",
      "text/plain": [
       "<Figure size 432x288 with 1 Axes>"
      ]
     },
     "metadata": {
      "needs_background": "light"
     },
     "output_type": "display_data"
    },
    {
     "data": {
      "image/png": "[encoded data removed]",
      "text/plain": [
       "<Figure size 432x288 with 1 Axes>"
      ]
     },
     "metadata": {
      "needs_background": "light"
     },
     "output_type": "display_data"
    }
   ],
   "source": [
    "sanityChecks.discProbVsError(train_data,disc4,device)\n",
    "sanityChecks.discProbVsError(test_data,disc4,device)"
   ]
  },
  {
   "cell_type": "markdown",
   "id": "a5bd74c3",
   "metadata": {
    "id": "a5bd74c3",
    "papermill": {
     "duration": 0.044132,
     "end_time": "2022-07-25T12:09:50.343929",
     "exception": false,
     "start_time": "2022-07-25T12:09:50.299797",
     "status": "completed"
    },
    "tags": []
   },
   "source": [
    "## Skip Connection Model Analysis - ABC-GAN "
   ]
  },
  {
   "cell_type": "markdown",
   "id": "5744a8bf",
   "metadata": {
    "id": "5744a8bf",
    "papermill": {
     "duration": 0.068252,
     "end_time": "2022-07-25T12:09:50.456299",
     "exception": false,
     "start_time": "2022-07-25T12:09:50.388047",
     "status": "completed"
    },
    "tags": []
   },
   "source": [
    "### Weight Analysis \n",
    "\n",
    "Study the weights of the skip connection layer\n",
    "\n",
    "Equation of the skip connection is \n",
    "\n",
    "$output = y_{gan} * w + y_{abc} * (1-w)$"
   ]
  },
  {
   "cell_type": "code",
   "execution_count": 27,
   "id": "52c31dea",
   "metadata": {
    "execution": {
     "iopub.execute_input": "2022-07-25T12:09:50.616742Z",
     "iopub.status.busy": "2022-07-25T12:09:50.616239Z",
     "iopub.status.idle": "2022-07-25T12:09:50.641033Z",
     "shell.execute_reply": "2022-07-25T12:09:50.636754Z"
    },
    "id": "52c31dea",
    "papermill": {
     "duration": 0.12971,
     "end_time": "2022-07-25T12:09:50.680864",
     "exception": false,
     "start_time": "2022-07-25T12:09:50.551154",
     "status": "completed"
    },
    "tags": []
   },
   "outputs": [
    {
     "name": "stdout",
     "output_type": "stream",
     "text": [
      "Weight of the node at skip connection\n",
      "Parameter containing:\n",
      "tensor([[0.9753]], requires_grad=True)\n"
     ]
    },
    {
     "data": {
      "application/scrapbook.scrap.json+json": {
       "data": 0.9752668142318726,
       "encoder": "json",
       "name": "Skip Connection Weight",
       "version": 1
      }
     },
     "metadata": {
      "scrapbook": {
       "data": true,
       "display": false,
       "name": "Skip Connection Weight"
      }
     },
     "output_type": "display_data"
    }
   ],
   "source": [
    "print(\"Weight of the node at skip connection\")\n",
    "for name,param in gen3.named_parameters():\n",
    "    if(name == \"skipNode.weight\"):\n",
    "        print(param)\n",
    "        sb.glue(\"Skip Connection Weight\",param.item())"
   ]
  },
  {
   "cell_type": "markdown",
   "id": "b7ac772e",
   "metadata": {
    "id": "a5bd74c3",
    "papermill": {
     "duration": 0.047044,
     "end_time": "2022-07-25T12:09:50.782932",
     "exception": false,
     "start_time": "2022-07-25T12:09:50.735888",
     "status": "completed"
    },
    "tags": []
   },
   "source": [
    "## skipGAN Model Analysis (TabNet Generator) "
   ]
  },
  {
   "cell_type": "markdown",
   "id": "5ec3c710",
   "metadata": {
    "id": "5744a8bf",
    "papermill": {
     "duration": 0.047485,
     "end_time": "2022-07-25T12:09:50.877360",
     "exception": false,
     "start_time": "2022-07-25T12:09:50.829875",
     "status": "completed"
    },
    "tags": []
   },
   "source": [
    "### Weight Analysis \n",
    "\n",
    "Study the weights of the skip connection layer\n",
    "\n",
    "Equation of the skip connection is \n",
    "\n",
    "$output = y_{gan} * w + y_{abc} * (1-w)$"
   ]
  },
  {
   "cell_type": "code",
   "execution_count": 28,
   "id": "a1f08188",
   "metadata": {
    "execution": {
     "iopub.execute_input": "2022-07-25T12:09:50.970839Z",
     "iopub.status.busy": "2022-07-25T12:09:50.970289Z",
     "iopub.status.idle": "2022-07-25T12:09:50.982853Z",
     "shell.execute_reply": "2022-07-25T12:09:50.981588Z"
    },
    "id": "52c31dea",
    "papermill": {
     "duration": 0.065066,
     "end_time": "2022-07-25T12:09:50.986758",
     "exception": false,
     "start_time": "2022-07-25T12:09:50.921692",
     "status": "completed"
    },
    "tags": []
   },
   "outputs": [
    {
     "name": "stdout",
     "output_type": "stream",
     "text": [
      "Weight of the node at skip connection\n",
      "Parameter containing:\n",
      "tensor([[0.9916]], requires_grad=True)\n"
     ]
    },
    {
     "data": {
      "application/scrapbook.scrap.json+json": {
       "data": 0.9916009306907654,
       "encoder": "json",
       "name": "Skip Connection Weight",
       "version": 1
      }
     },
     "metadata": {
      "scrapbook": {
       "data": true,
       "display": false,
       "name": "Skip Connection Weight"
      }
     },
     "output_type": "display_data"
    }
   ],
   "source": [
    "print(\"Weight of the node at skip connection\")\n",
    "for name,param in gen4.named_parameters():\n",
    "    if(name == \"skipNode.weight\"):\n",
    "        print(param)\n",
    "        sb.glue(\"Skip Connection Weight\",param.item())"
   ]
  }
 ],
 "metadata": {
  "colab": {
   "collapsed_sections": [],
   "name": "ABC_GAN_Model-Catboost_Pre-gen.ipynb",
   "provenance": []
  },
  "interpreter": {
   "hash": "31f2aee4e71d21fbe5cf8b01ff0e069b9275f58929596ceb00d14d90e3e16cd6"
  },
  "kernelspec": {
   "display_name": "Python 3 (ipykernel)",
   "language": "python",
   "name": "python3"
  },
  "language_info": {
   "codemirror_mode": {
    "name": "ipython",
    "version": 3
   },
   "file_extension": ".py",
   "mimetype": "text/x-python",
   "name": "python",
   "nbconvert_exporter": "python",
   "pygments_lexer": "ipython3",
   "version": "3.8.13"
  },
  "papermill": {
   "default_parameters": {},
   "duration": 3541.683369,
   "end_time": "2022-07-25T12:09:51.911065",
   "environment_variables": {},
   "exception": null,
   "input_path": "ABC_GAN-TabNet.ipynb",
   "output_path": "./ABC_GAN_TabNet/ABC-GAN_output_1_9.ipynb",
   "parameters": {
    "bias": 0,
    "variance": 1
   },
   "start_time": "2022-07-25T11:10:50.227696",
   "version": "2.3.3"
  }
 },
 "nbformat": 4,
 "nbformat_minor": 5
}