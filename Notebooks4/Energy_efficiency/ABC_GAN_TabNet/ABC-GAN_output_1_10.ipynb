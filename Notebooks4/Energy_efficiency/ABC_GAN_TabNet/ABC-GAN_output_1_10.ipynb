{
 "cells": [
  {
   "cell_type": "markdown",
   "id": "622780e6",
   "metadata": {
    "id": "622780e6",
    "papermill": {
     "duration": 0.007887,
     "end_time": "2022-07-25T12:09:57.594104",
     "exception": false,
     "start_time": "2022-07-25T12:09:57.586217",
     "status": "completed"
    },
    "tags": []
   },
   "source": [
    "## Import Libraries "
   ]
  },
  {
   "cell_type": "code",
   "execution_count": 1,
   "id": "a62397e3",
   "metadata": {
    "execution": {
     "iopub.execute_input": "2022-07-25T12:09:57.612040Z",
     "iopub.status.busy": "2022-07-25T12:09:57.611445Z",
     "iopub.status.idle": "2022-07-25T12:09:57.624133Z",
     "shell.execute_reply": "2022-07-25T12:09:57.623233Z"
    },
    "id": "a62397e3",
    "papermill": {
     "duration": 0.026014,
     "end_time": "2022-07-25T12:09:57.627779",
     "exception": false,
     "start_time": "2022-07-25T12:09:57.601765",
     "status": "completed"
    },
    "tags": []
   },
   "outputs": [],
   "source": [
    "import warnings\n",
    "import sys\n",
    "sys.path.insert(0, '../../src')\n",
    "warnings.filterwarnings('ignore')"
   ]
  },
  {
   "cell_type": "code",
   "execution_count": 2,
   "id": "d6a4e155",
   "metadata": {
    "execution": {
     "iopub.execute_input": "2022-07-25T12:09:57.644589Z",
     "iopub.status.busy": "2022-07-25T12:09:57.644132Z",
     "iopub.status.idle": "2022-07-25T12:10:04.421944Z",
     "shell.execute_reply": "2022-07-25T12:10:04.420830Z"
    },
    "id": "d6a4e155",
    "papermill": {
     "duration": 6.789717,
     "end_time": "2022-07-25T12:10:04.424893",
     "exception": false,
     "start_time": "2022-07-25T12:09:57.635176",
     "status": "completed"
    },
    "tags": []
   },
   "outputs": [],
   "source": [
    "import ABC_train_test2\n",
    "import energyefficiencyDataset\n",
    "import network\n",
    "import dataset\n",
    "import sanityChecks\n",
    "import torch \n",
    "import scrapbook as sb\n",
    "from statistics import mean \n",
    "import catboost as ctb \n",
    "from sklearn.model_selection import train_test_split\n",
    "from sklearn.metrics import mean_squared_error,mean_absolute_error\n",
    "import numpy as np\n",
    "from pytorch_tabnet.tab_model import TabNetRegressor"
   ]
  },
  {
   "cell_type": "markdown",
   "id": "2fa5b0f7",
   "metadata": {
    "id": "2fa5b0f7",
    "papermill": {
     "duration": 0.007427,
     "end_time": "2022-07-25T12:10:04.439825",
     "exception": false,
     "start_time": "2022-07-25T12:10:04.432398",
     "status": "completed"
    },
    "tags": []
   },
   "source": [
    "## Parameters "
   ]
  },
  {
   "cell_type": "code",
   "execution_count": 3,
   "id": "783186fb",
   "metadata": {
    "execution": {
     "iopub.execute_input": "2022-07-25T12:10:04.456914Z",
     "iopub.status.busy": "2022-07-25T12:10:04.456518Z",
     "iopub.status.idle": "2022-07-25T12:10:04.461074Z",
     "shell.execute_reply": "2022-07-25T12:10:04.459954Z"
    },
    "id": "783186fb",
    "papermill": {
     "duration": 0.016303,
     "end_time": "2022-07-25T12:10:04.464018",
     "exception": false,
     "start_time": "2022-07-25T12:10:04.447715",
     "status": "completed"
    },
    "tags": [
     "parameters"
    ]
   },
   "outputs": [],
   "source": [
    "variance = 1\n",
    "bias = 1 "
   ]
  },
  {
   "cell_type": "code",
   "execution_count": 4,
   "id": "854f8273",
   "metadata": {
    "execution": {
     "iopub.execute_input": "2022-07-25T12:10:04.479374Z",
     "iopub.status.busy": "2022-07-25T12:10:04.479011Z",
     "iopub.status.idle": "2022-07-25T12:10:04.483885Z",
     "shell.execute_reply": "2022-07-25T12:10:04.482802Z"
    },
    "papermill": {
     "duration": 0.017032,
     "end_time": "2022-07-25T12:10:04.487763",
     "exception": false,
     "start_time": "2022-07-25T12:10:04.470731",
     "status": "completed"
    },
    "tags": [
     "injected-parameters"
    ]
   },
   "outputs": [],
   "source": [
    "# Parameters\n",
    "variance = 0.1\n",
    "bias = 0\n"
   ]
  },
  {
   "cell_type": "markdown",
   "id": "391cdbfd",
   "metadata": {
    "id": "391cdbfd",
    "papermill": {
     "duration": 0.007762,
     "end_time": "2022-07-25T12:10:04.502109",
     "exception": false,
     "start_time": "2022-07-25T12:10:04.494347",
     "status": "completed"
    },
    "tags": []
   },
   "source": [
    "## Dataset \n"
   ]
  },
  {
   "cell_type": "code",
   "execution_count": 5,
   "id": "5b51f161",
   "metadata": {
    "execution": {
     "iopub.execute_input": "2022-07-25T12:10:04.519130Z",
     "iopub.status.busy": "2022-07-25T12:10:04.518507Z",
     "iopub.status.idle": "2022-07-25T12:10:04.523989Z",
     "shell.execute_reply": "2022-07-25T12:10:04.522573Z"
    },
    "id": "5b51f161",
    "papermill": {
     "duration": 0.017456,
     "end_time": "2022-07-25T12:10:04.526946",
     "exception": false,
     "start_time": "2022-07-25T12:10:04.509490",
     "status": "completed"
    },
    "tags": []
   },
   "outputs": [],
   "source": [
    "#Parameters \n",
    "n_features = 8\n",
    "n_samples= 768\n",
    "n_target = 1 "
   ]
  },
  {
   "cell_type": "code",
   "execution_count": 6,
   "id": "5d6eced4",
   "metadata": {
    "execution": {
     "iopub.execute_input": "2022-07-25T12:10:04.545833Z",
     "iopub.status.busy": "2022-07-25T12:10:04.544882Z",
     "iopub.status.idle": "2022-07-25T12:10:05.124077Z",
     "shell.execute_reply": "2022-07-25T12:10:05.122151Z"
    },
    "id": "5d6eced4",
    "papermill": {
     "duration": 0.591758,
     "end_time": "2022-07-25T12:10:05.126826",
     "exception": false,
     "start_time": "2022-07-25T12:10:04.535068",
     "status": "completed"
    },
    "tags": []
   },
   "outputs": [
    {
     "name": "stdout",
     "output_type": "stream",
     "text": [
      "     X1     X2     X3      X4   X5  X6   X7  X8     Y1     Y2\n",
      "0  0.98  514.5  294.0  110.25  7.0   2  0.0   0  15.55  21.33\n",
      "1  0.98  514.5  294.0  110.25  7.0   3  0.0   0  15.55  21.33\n",
      "2  0.98  514.5  294.0  110.25  7.0   4  0.0   0  15.55  21.33\n",
      "3  0.98  514.5  294.0  110.25  7.0   5  0.0   0  15.55  21.33\n",
      "4  0.90  563.5  318.5  122.50  7.0   2  0.0   0  20.84  28.28\n"
     ]
    }
   ],
   "source": [
    "X,Y = energyefficiencyDataset.energy_data()"
   ]
  },
  {
   "cell_type": "code",
   "execution_count": 7,
   "id": "fe007438",
   "metadata": {
    "execution": {
     "iopub.execute_input": "2022-07-25T12:10:05.144185Z",
     "iopub.status.busy": "2022-07-25T12:10:05.143776Z",
     "iopub.status.idle": "2022-07-25T12:10:05.150793Z",
     "shell.execute_reply": "2022-07-25T12:10:05.149831Z"
    },
    "id": "fe007438",
    "papermill": {
     "duration": 0.019356,
     "end_time": "2022-07-25T12:10:05.153894",
     "exception": false,
     "start_time": "2022-07-25T12:10:05.134538",
     "status": "completed"
    },
    "tags": []
   },
   "outputs": [],
   "source": [
    "#Train test split for dataset \n",
    "X_train,X_test,Y_train,Y_test = train_test_split(X,Y,test_size = 0.2)\n",
    "train_data = dataset.CustomDataset(X_train,Y_train)\n",
    "test_data = dataset.CustomDataset(X_test,Y_test)\n"
   ]
  },
  {
   "cell_type": "markdown",
   "id": "a9a1af34",
   "metadata": {
    "id": "a9a1af34",
    "papermill": {
     "duration": 0.007794,
     "end_time": "2022-07-25T12:10:05.169047",
     "exception": false,
     "start_time": "2022-07-25T12:10:05.161253",
     "status": "completed"
    },
    "tags": []
   },
   "source": [
    "## Training Parameters "
   ]
  },
  {
   "cell_type": "code",
   "execution_count": 8,
   "id": "952b7fc8",
   "metadata": {
    "execution": {
     "iopub.execute_input": "2022-07-25T12:10:05.187115Z",
     "iopub.status.busy": "2022-07-25T12:10:05.186447Z",
     "iopub.status.idle": "2022-07-25T12:10:05.193092Z",
     "shell.execute_reply": "2022-07-25T12:10:05.191811Z"
    },
    "id": "952b7fc8",
    "papermill": {
     "duration": 0.018635,
     "end_time": "2022-07-25T12:10:05.195746",
     "exception": false,
     "start_time": "2022-07-25T12:10:05.177111",
     "status": "completed"
    },
    "tags": []
   },
   "outputs": [],
   "source": [
    "batch_size = 32\n",
    "n_epochs = 1000\n",
    "#Select the device \n",
    "device = torch.device('cuda' if torch.cuda.is_available() else 'cpu')"
   ]
  },
  {
   "cell_type": "markdown",
   "id": "a95e1600",
   "metadata": {
    "id": "a95e1600",
    "papermill": {
     "duration": 0.008198,
     "end_time": "2022-07-25T12:10:05.211806",
     "exception": false,
     "start_time": "2022-07-25T12:10:05.203608",
     "status": "completed"
    },
    "tags": []
   },
   "source": [
    "# ABC Pre-generator Model \n",
    "\n",
    "1. The catboost model is used as a pre-generator model for the ABC-GAN. \n",
    "2. The model is first trained on the entire dataset \n",
    "3. It generats X,Y pairs and we add some Gaussian noise with mean 0 and variance 1 to it which is then feed as input to the generator.\n"
   ]
  },
  {
   "cell_type": "code",
   "execution_count": 9,
   "id": "ff8ce7bd",
   "metadata": {
    "execution": {
     "iopub.execute_input": "2022-07-25T12:10:05.229678Z",
     "iopub.status.busy": "2022-07-25T12:10:05.229141Z",
     "iopub.status.idle": "2022-07-25T12:11:55.842537Z",
     "shell.execute_reply": "2022-07-25T12:11:55.841399Z"
    },
    "id": "ff8ce7bd",
    "papermill": {
     "duration": 110.626218,
     "end_time": "2022-07-25T12:11:55.846003",
     "exception": false,
     "start_time": "2022-07-25T12:10:05.219785",
     "status": "completed"
    },
    "tags": []
   },
   "outputs": [
    {
     "name": "stdout",
     "output_type": "stream",
     "text": [
      "Device used : cpu\n"
     ]
    },
    {
     "name": "stdout",
     "output_type": "stream",
     "text": [
      "epoch 0  | loss: 1.06985 | train_mse: 0.65339 | train_mae: 0.6163  |  0:00:00s\n"
     ]
    },
    {
     "name": "stdout",
     "output_type": "stream",
     "text": [
      "epoch 1  | loss: 0.2791  | train_mse: 0.33402 | train_mae: 0.44383 |  0:00:01s\n"
     ]
    },
    {
     "name": "stdout",
     "output_type": "stream",
     "text": [
      "epoch 2  | loss: 0.25414 | train_mse: 0.23816 | train_mae: 0.37778 |  0:00:01s\n"
     ]
    },
    {
     "name": "stdout",
     "output_type": "stream",
     "text": [
      "epoch 3  | loss: 0.2099  | train_mse: 0.24755 | train_mae: 0.39281 |  0:00:02s\n"
     ]
    },
    {
     "name": "stdout",
     "output_type": "stream",
     "text": [
      "epoch 4  | loss: 0.17648 | train_mse: 0.14895 | train_mae: 0.28481 |  0:00:03s\n"
     ]
    },
    {
     "name": "stdout",
     "output_type": "stream",
     "text": [
      "epoch 5  | loss: 0.1706  | train_mse: 0.16941 | train_mae: 0.32453 |  0:00:03s\n"
     ]
    },
    {
     "name": "stdout",
     "output_type": "stream",
     "text": [
      "epoch 6  | loss: 0.13924 | train_mse: 0.15144 | train_mae: 0.29772 |  0:00:04s\n"
     ]
    },
    {
     "name": "stdout",
     "output_type": "stream",
     "text": [
      "epoch 7  | loss: 0.13146 | train_mse: 0.11386 | train_mae: 0.22544 |  0:00:04s\n"
     ]
    },
    {
     "name": "stdout",
     "output_type": "stream",
     "text": [
      "epoch 8  | loss: 0.13778 | train_mse: 0.10018 | train_mae: 0.22799 |  0:00:05s\n"
     ]
    },
    {
     "name": "stdout",
     "output_type": "stream",
     "text": [
      "epoch 9  | loss: 0.11861 | train_mse: 0.06891 | train_mae: 0.20884 |  0:00:05s\n"
     ]
    },
    {
     "name": "stdout",
     "output_type": "stream",
     "text": [
      "epoch 10 | loss: 0.10821 | train_mse: 0.0537  | train_mae: 0.1721  |  0:00:06s\n"
     ]
    },
    {
     "name": "stdout",
     "output_type": "stream",
     "text": [
      "epoch 11 | loss: 0.10893 | train_mse: 0.06691 | train_mae: 0.19004 |  0:00:07s\n"
     ]
    },
    {
     "name": "stdout",
     "output_type": "stream",
     "text": [
      "epoch 12 | loss: 0.08964 | train_mse: 0.06325 | train_mae: 0.19079 |  0:00:07s\n"
     ]
    },
    {
     "name": "stdout",
     "output_type": "stream",
     "text": [
      "epoch 13 | loss: 0.08318 | train_mse: 0.04989 | train_mae: 0.16586 |  0:00:08s\n"
     ]
    },
    {
     "name": "stdout",
     "output_type": "stream",
     "text": [
      "epoch 14 | loss: 0.07388 | train_mse: 0.04689 | train_mae: 0.169   |  0:00:08s\n"
     ]
    },
    {
     "name": "stdout",
     "output_type": "stream",
     "text": [
      "epoch 15 | loss: 0.09368 | train_mse: 0.06242 | train_mae: 0.1884  |  0:00:09s\n"
     ]
    },
    {
     "name": "stdout",
     "output_type": "stream",
     "text": [
      "epoch 16 | loss: 0.10763 | train_mse: 0.04483 | train_mae: 0.15629 |  0:00:09s\n"
     ]
    },
    {
     "name": "stdout",
     "output_type": "stream",
     "text": [
      "epoch 17 | loss: 0.06729 | train_mse: 0.03628 | train_mae: 0.14627 |  0:00:10s\n"
     ]
    },
    {
     "name": "stdout",
     "output_type": "stream",
     "text": [
      "epoch 18 | loss: 0.06674 | train_mse: 0.03167 | train_mae: 0.13374 |  0:00:10s\n"
     ]
    },
    {
     "name": "stdout",
     "output_type": "stream",
     "text": [
      "epoch 19 | loss: 0.06609 | train_mse: 0.05251 | train_mae: 0.15577 |  0:00:11s\n"
     ]
    },
    {
     "name": "stdout",
     "output_type": "stream",
     "text": [
      "epoch 20 | loss: 0.05833 | train_mse: 0.02645 | train_mae: 0.12083 |  0:00:12s\n"
     ]
    },
    {
     "name": "stdout",
     "output_type": "stream",
     "text": [
      "epoch 21 | loss: 0.06607 | train_mse: 0.02264 | train_mae: 0.1128  |  0:00:12s\n"
     ]
    },
    {
     "name": "stdout",
     "output_type": "stream",
     "text": [
      "epoch 22 | loss: 0.05472 | train_mse: 0.02659 | train_mae: 0.11911 |  0:00:13s\n"
     ]
    },
    {
     "name": "stdout",
     "output_type": "stream",
     "text": [
      "epoch 23 | loss: 0.04674 | train_mse: 0.02919 | train_mae: 0.13219 |  0:00:13s\n"
     ]
    },
    {
     "name": "stdout",
     "output_type": "stream",
     "text": [
      "epoch 24 | loss: 0.05795 | train_mse: 0.02245 | train_mae: 0.11244 |  0:00:14s\n"
     ]
    },
    {
     "name": "stdout",
     "output_type": "stream",
     "text": [
      "epoch 25 | loss: 0.06814 | train_mse: 0.07782 | train_mae: 0.20634 |  0:00:15s\n"
     ]
    },
    {
     "name": "stdout",
     "output_type": "stream",
     "text": [
      "epoch 26 | loss: 0.06936 | train_mse: 0.14249 | train_mae: 0.23675 |  0:00:15s\n"
     ]
    },
    {
     "name": "stdout",
     "output_type": "stream",
     "text": [
      "epoch 27 | loss: 0.05471 | train_mse: 0.02191 | train_mae: 0.11262 |  0:00:16s\n"
     ]
    },
    {
     "name": "stdout",
     "output_type": "stream",
     "text": [
      "epoch 28 | loss: 0.05335 | train_mse: 0.02398 | train_mae: 0.11216 |  0:00:16s\n"
     ]
    },
    {
     "name": "stdout",
     "output_type": "stream",
     "text": [
      "epoch 29 | loss: 0.05927 | train_mse: 0.02321 | train_mae: 0.12301 |  0:00:17s\n"
     ]
    },
    {
     "name": "stdout",
     "output_type": "stream",
     "text": [
      "epoch 30 | loss: 0.06548 | train_mse: 0.03115 | train_mae: 0.13152 |  0:00:17s\n"
     ]
    },
    {
     "name": "stdout",
     "output_type": "stream",
     "text": [
      "epoch 31 | loss: 0.05248 | train_mse: 0.01745 | train_mae: 0.10152 |  0:00:18s\n"
     ]
    },
    {
     "name": "stdout",
     "output_type": "stream",
     "text": [
      "epoch 32 | loss: 0.04614 | train_mse: 0.01963 | train_mae: 0.11518 |  0:00:18s\n"
     ]
    },
    {
     "name": "stdout",
     "output_type": "stream",
     "text": [
      "epoch 33 | loss: 0.03856 | train_mse: 0.02794 | train_mae: 0.12702 |  0:00:19s\n"
     ]
    },
    {
     "name": "stdout",
     "output_type": "stream",
     "text": [
      "epoch 34 | loss: 0.05765 | train_mse: 0.02774 | train_mae: 0.13304 |  0:00:20s\n"
     ]
    },
    {
     "name": "stdout",
     "output_type": "stream",
     "text": [
      "epoch 35 | loss: 0.05587 | train_mse: 0.02941 | train_mae: 0.12408 |  0:00:20s\n"
     ]
    },
    {
     "name": "stdout",
     "output_type": "stream",
     "text": [
      "epoch 36 | loss: 0.05449 | train_mse: 0.02866 | train_mae: 0.12857 |  0:00:21s\n"
     ]
    },
    {
     "name": "stdout",
     "output_type": "stream",
     "text": [
      "epoch 37 | loss: 0.0609  | train_mse: 0.01188 | train_mae: 0.08294 |  0:00:21s\n"
     ]
    },
    {
     "name": "stdout",
     "output_type": "stream",
     "text": [
      "epoch 38 | loss: 0.04113 | train_mse: 0.01358 | train_mae: 0.09143 |  0:00:22s\n"
     ]
    },
    {
     "name": "stdout",
     "output_type": "stream",
     "text": [
      "epoch 39 | loss: 0.0632  | train_mse: 0.0423  | train_mae: 0.15337 |  0:00:22s\n"
     ]
    },
    {
     "name": "stdout",
     "output_type": "stream",
     "text": [
      "epoch 40 | loss: 0.07311 | train_mse: 0.03299 | train_mae: 0.13394 |  0:00:23s\n"
     ]
    },
    {
     "name": "stdout",
     "output_type": "stream",
     "text": [
      "epoch 41 | loss: 0.04632 | train_mse: 0.02151 | train_mae: 0.11319 |  0:00:23s\n"
     ]
    },
    {
     "name": "stdout",
     "output_type": "stream",
     "text": [
      "epoch 42 | loss: 0.06307 | train_mse: 0.02171 | train_mae: 0.10817 |  0:00:24s\n"
     ]
    },
    {
     "name": "stdout",
     "output_type": "stream",
     "text": [
      "epoch 43 | loss: 0.05    | train_mse: 0.01501 | train_mae: 0.09002 |  0:00:25s\n"
     ]
    },
    {
     "name": "stdout",
     "output_type": "stream",
     "text": [
      "epoch 44 | loss: 0.03836 | train_mse: 0.0187  | train_mae: 0.10395 |  0:00:25s\n"
     ]
    },
    {
     "name": "stdout",
     "output_type": "stream",
     "text": [
      "epoch 45 | loss: 0.0519  | train_mse: 0.02117 | train_mae: 0.11598 |  0:00:26s\n"
     ]
    },
    {
     "name": "stdout",
     "output_type": "stream",
     "text": [
      "epoch 46 | loss: 0.06388 | train_mse: 0.01354 | train_mae: 0.09053 |  0:00:26s\n"
     ]
    },
    {
     "name": "stdout",
     "output_type": "stream",
     "text": [
      "epoch 47 | loss: 0.05264 | train_mse: 0.01421 | train_mae: 0.09149 |  0:00:27s\n"
     ]
    },
    {
     "name": "stdout",
     "output_type": "stream",
     "text": [
      "epoch 48 | loss: 0.03217 | train_mse: 0.01301 | train_mae: 0.09222 |  0:00:28s\n"
     ]
    },
    {
     "name": "stdout",
     "output_type": "stream",
     "text": [
      "epoch 49 | loss: 0.02889 | train_mse: 0.01078 | train_mae: 0.08147 |  0:00:29s\n"
     ]
    },
    {
     "name": "stdout",
     "output_type": "stream",
     "text": [
      "epoch 50 | loss: 0.03065 | train_mse: 0.01898 | train_mae: 0.11295 |  0:00:29s\n"
     ]
    },
    {
     "name": "stdout",
     "output_type": "stream",
     "text": [
      "epoch 51 | loss: 0.03843 | train_mse: 0.01885 | train_mae: 0.11512 |  0:00:30s\n"
     ]
    },
    {
     "name": "stdout",
     "output_type": "stream",
     "text": [
      "epoch 52 | loss: 0.03127 | train_mse: 0.01546 | train_mae: 0.10251 |  0:00:31s\n"
     ]
    },
    {
     "name": "stdout",
     "output_type": "stream",
     "text": [
      "epoch 53 | loss: 0.05139 | train_mse: 0.01921 | train_mae: 0.10164 |  0:00:31s\n"
     ]
    },
    {
     "name": "stdout",
     "output_type": "stream",
     "text": [
      "epoch 54 | loss: 0.04549 | train_mse: 0.01415 | train_mae: 0.09128 |  0:00:32s\n"
     ]
    },
    {
     "name": "stdout",
     "output_type": "stream",
     "text": [
      "epoch 55 | loss: 0.0486  | train_mse: 0.01891 | train_mae: 0.10803 |  0:00:32s\n"
     ]
    },
    {
     "name": "stdout",
     "output_type": "stream",
     "text": [
      "epoch 56 | loss: 0.03229 | train_mse: 0.01064 | train_mae: 0.08289 |  0:00:33s\n"
     ]
    },
    {
     "name": "stdout",
     "output_type": "stream",
     "text": [
      "epoch 57 | loss: 0.03714 | train_mse: 0.01608 | train_mae: 0.1029  |  0:00:33s\n"
     ]
    },
    {
     "name": "stdout",
     "output_type": "stream",
     "text": [
      "epoch 58 | loss: 0.03918 | train_mse: 0.02406 | train_mae: 0.1255  |  0:00:34s\n"
     ]
    },
    {
     "name": "stdout",
     "output_type": "stream",
     "text": [
      "epoch 59 | loss: 0.02655 | train_mse: 0.02038 | train_mae: 0.11019 |  0:00:35s\n"
     ]
    },
    {
     "name": "stdout",
     "output_type": "stream",
     "text": [
      "epoch 60 | loss: 0.0313  | train_mse: 0.02408 | train_mae: 0.13376 |  0:00:35s\n"
     ]
    },
    {
     "name": "stdout",
     "output_type": "stream",
     "text": [
      "epoch 61 | loss: 0.04878 | train_mse: 0.01528 | train_mae: 0.09578 |  0:00:36s\n"
     ]
    },
    {
     "name": "stdout",
     "output_type": "stream",
     "text": [
      "epoch 62 | loss: 0.03697 | train_mse: 0.01453 | train_mae: 0.09369 |  0:00:36s\n"
     ]
    },
    {
     "name": "stdout",
     "output_type": "stream",
     "text": [
      "epoch 63 | loss: 0.03004 | train_mse: 0.01593 | train_mae: 0.09842 |  0:00:37s\n"
     ]
    },
    {
     "name": "stdout",
     "output_type": "stream",
     "text": [
      "epoch 64 | loss: 0.03644 | train_mse: 0.01535 | train_mae: 0.09746 |  0:00:37s\n"
     ]
    },
    {
     "name": "stdout",
     "output_type": "stream",
     "text": [
      "epoch 65 | loss: 0.04276 | train_mse: 0.02505 | train_mae: 0.10964 |  0:00:38s\n"
     ]
    },
    {
     "name": "stdout",
     "output_type": "stream",
     "text": [
      "epoch 66 | loss: 0.04188 | train_mse: 0.01745 | train_mae: 0.09499 |  0:00:39s\n"
     ]
    },
    {
     "name": "stdout",
     "output_type": "stream",
     "text": [
      "epoch 67 | loss: 0.03745 | train_mse: 0.03165 | train_mae: 0.12813 |  0:00:39s\n"
     ]
    },
    {
     "name": "stdout",
     "output_type": "stream",
     "text": [
      "epoch 68 | loss: 0.02747 | train_mse: 0.01593 | train_mae: 0.09849 |  0:00:40s\n"
     ]
    },
    {
     "name": "stdout",
     "output_type": "stream",
     "text": [
      "epoch 69 | loss: 0.02849 | train_mse: 0.01621 | train_mae: 0.10484 |  0:00:40s\n"
     ]
    },
    {
     "name": "stdout",
     "output_type": "stream",
     "text": [
      "epoch 70 | loss: 0.03953 | train_mse: 0.0136  | train_mae: 0.08896 |  0:00:41s\n"
     ]
    },
    {
     "name": "stdout",
     "output_type": "stream",
     "text": [
      "epoch 71 | loss: 0.02996 | train_mse: 0.01762 | train_mae: 0.10889 |  0:00:41s\n"
     ]
    },
    {
     "name": "stdout",
     "output_type": "stream",
     "text": [
      "epoch 72 | loss: 0.03084 | train_mse: 0.02965 | train_mae: 0.14209 |  0:00:42s\n"
     ]
    },
    {
     "name": "stdout",
     "output_type": "stream",
     "text": [
      "epoch 73 | loss: 0.04887 | train_mse: 0.01636 | train_mae: 0.0993  |  0:00:43s\n"
     ]
    },
    {
     "name": "stdout",
     "output_type": "stream",
     "text": [
      "epoch 74 | loss: 0.04861 | train_mse: 0.02559 | train_mae: 0.11697 |  0:00:43s\n"
     ]
    },
    {
     "name": "stdout",
     "output_type": "stream",
     "text": [
      "epoch 75 | loss: 0.03772 | train_mse: 0.02472 | train_mae: 0.11359 |  0:00:44s\n"
     ]
    },
    {
     "name": "stdout",
     "output_type": "stream",
     "text": [
      "epoch 76 | loss: 0.04195 | train_mse: 0.01453 | train_mae: 0.10015 |  0:00:44s\n"
     ]
    },
    {
     "name": "stdout",
     "output_type": "stream",
     "text": [
      "epoch 77 | loss: 0.0634  | train_mse: 0.01224 | train_mae: 0.08896 |  0:00:45s\n"
     ]
    },
    {
     "name": "stdout",
     "output_type": "stream",
     "text": [
      "epoch 78 | loss: 0.03472 | train_mse: 0.02053 | train_mae: 0.11403 |  0:00:45s\n"
     ]
    },
    {
     "name": "stdout",
     "output_type": "stream",
     "text": [
      "epoch 79 | loss: 0.02884 | train_mse: 0.00843 | train_mae: 0.07083 |  0:00:46s\n"
     ]
    },
    {
     "name": "stdout",
     "output_type": "stream",
     "text": [
      "epoch 80 | loss: 0.03328 | train_mse: 0.01353 | train_mae: 0.08647 |  0:00:46s\n"
     ]
    },
    {
     "name": "stdout",
     "output_type": "stream",
     "text": [
      "epoch 81 | loss: 0.03975 | train_mse: 0.02373 | train_mae: 0.12359 |  0:00:47s\n"
     ]
    },
    {
     "name": "stdout",
     "output_type": "stream",
     "text": [
      "epoch 82 | loss: 0.03407 | train_mse: 0.01348 | train_mae: 0.09115 |  0:00:48s\n"
     ]
    },
    {
     "name": "stdout",
     "output_type": "stream",
     "text": [
      "epoch 83 | loss: 0.03656 | train_mse: 0.01498 | train_mae: 0.09362 |  0:00:49s\n"
     ]
    },
    {
     "name": "stdout",
     "output_type": "stream",
     "text": [
      "epoch 84 | loss: 0.03711 | train_mse: 0.01379 | train_mae: 0.08759 |  0:00:49s\n"
     ]
    },
    {
     "name": "stdout",
     "output_type": "stream",
     "text": [
      "epoch 85 | loss: 0.04004 | train_mse: 0.01172 | train_mae: 0.08177 |  0:00:50s\n"
     ]
    },
    {
     "name": "stdout",
     "output_type": "stream",
     "text": [
      "epoch 86 | loss: 0.03057 | train_mse: 0.02108 | train_mae: 0.11203 |  0:00:50s\n"
     ]
    },
    {
     "name": "stdout",
     "output_type": "stream",
     "text": [
      "epoch 87 | loss: 0.03883 | train_mse: 0.01335 | train_mae: 0.08473 |  0:00:51s\n"
     ]
    },
    {
     "name": "stdout",
     "output_type": "stream",
     "text": [
      "epoch 88 | loss: 0.04848 | train_mse: 0.02863 | train_mae: 0.14093 |  0:00:52s\n"
     ]
    },
    {
     "name": "stdout",
     "output_type": "stream",
     "text": [
      "epoch 89 | loss: 0.038   | train_mse: 0.02089 | train_mae: 0.11894 |  0:00:52s\n"
     ]
    },
    {
     "name": "stdout",
     "output_type": "stream",
     "text": [
      "epoch 90 | loss: 0.02732 | train_mse: 0.01128 | train_mae: 0.0828  |  0:00:53s\n"
     ]
    },
    {
     "name": "stdout",
     "output_type": "stream",
     "text": [
      "epoch 91 | loss: 0.0235  | train_mse: 0.01453 | train_mae: 0.09551 |  0:00:53s\n"
     ]
    },
    {
     "name": "stdout",
     "output_type": "stream",
     "text": [
      "epoch 92 | loss: 0.0257  | train_mse: 0.01085 | train_mae: 0.07929 |  0:00:54s\n"
     ]
    },
    {
     "name": "stdout",
     "output_type": "stream",
     "text": [
      "epoch 93 | loss: 0.03306 | train_mse: 0.0157  | train_mae: 0.09753 |  0:00:54s\n"
     ]
    },
    {
     "name": "stdout",
     "output_type": "stream",
     "text": [
      "epoch 94 | loss: 0.03158 | train_mse: 0.01403 | train_mae: 0.08527 |  0:00:55s\n"
     ]
    },
    {
     "name": "stdout",
     "output_type": "stream",
     "text": [
      "epoch 95 | loss: 0.0391  | train_mse: 0.00963 | train_mae: 0.0729  |  0:00:56s\n"
     ]
    },
    {
     "name": "stdout",
     "output_type": "stream",
     "text": [
      "epoch 96 | loss: 0.03151 | train_mse: 0.00753 | train_mae: 0.06575 |  0:00:56s\n"
     ]
    },
    {
     "name": "stdout",
     "output_type": "stream",
     "text": [
      "epoch 97 | loss: 0.02428 | train_mse: 0.0119  | train_mae: 0.0853  |  0:00:57s\n"
     ]
    },
    {
     "name": "stdout",
     "output_type": "stream",
     "text": [
      "epoch 98 | loss: 0.02418 | train_mse: 0.01247 | train_mae: 0.09027 |  0:00:58s\n"
     ]
    },
    {
     "name": "stdout",
     "output_type": "stream",
     "text": [
      "epoch 99 | loss: 0.03775 | train_mse: 0.01391 | train_mae: 0.083   |  0:00:58s\n"
     ]
    },
    {
     "name": "stdout",
     "output_type": "stream",
     "text": [
      "epoch 100| loss: 0.03553 | train_mse: 0.01053 | train_mae: 0.07556 |  0:00:59s\n"
     ]
    },
    {
     "name": "stdout",
     "output_type": "stream",
     "text": [
      "epoch 101| loss: 0.02668 | train_mse: 0.01016 | train_mae: 0.0797  |  0:00:59s\n"
     ]
    },
    {
     "name": "stdout",
     "output_type": "stream",
     "text": [
      "epoch 102| loss: 0.0388  | train_mse: 0.01899 | train_mae: 0.09506 |  0:01:00s\n"
     ]
    },
    {
     "name": "stdout",
     "output_type": "stream",
     "text": [
      "epoch 103| loss: 0.02794 | train_mse: 0.00687 | train_mae: 0.06296 |  0:01:00s\n"
     ]
    },
    {
     "name": "stdout",
     "output_type": "stream",
     "text": [
      "epoch 104| loss: 0.03029 | train_mse: 0.02367 | train_mae: 0.13039 |  0:01:01s\n"
     ]
    },
    {
     "name": "stdout",
     "output_type": "stream",
     "text": [
      "epoch 105| loss: 0.04168 | train_mse: 0.02589 | train_mae: 0.11915 |  0:01:02s\n"
     ]
    },
    {
     "name": "stdout",
     "output_type": "stream",
     "text": [
      "epoch 106| loss: 0.04067 | train_mse: 0.02995 | train_mae: 0.10692 |  0:01:02s\n"
     ]
    },
    {
     "name": "stdout",
     "output_type": "stream",
     "text": [
      "epoch 107| loss: 0.04317 | train_mse: 0.0203  | train_mae: 0.1092  |  0:01:03s\n"
     ]
    },
    {
     "name": "stdout",
     "output_type": "stream",
     "text": [
      "epoch 108| loss: 0.04056 | train_mse: 0.01627 | train_mae: 0.09013 |  0:01:03s\n"
     ]
    },
    {
     "name": "stdout",
     "output_type": "stream",
     "text": [
      "epoch 109| loss: 0.0402  | train_mse: 0.02154 | train_mae: 0.11307 |  0:01:04s\n"
     ]
    },
    {
     "name": "stdout",
     "output_type": "stream",
     "text": [
      "epoch 110| loss: 0.03783 | train_mse: 0.01991 | train_mae: 0.1133  |  0:01:04s\n"
     ]
    },
    {
     "name": "stdout",
     "output_type": "stream",
     "text": [
      "epoch 111| loss: 0.02897 | train_mse: 0.01438 | train_mae: 0.09325 |  0:01:05s\n"
     ]
    },
    {
     "name": "stdout",
     "output_type": "stream",
     "text": [
      "epoch 112| loss: 0.02796 | train_mse: 0.01172 | train_mae: 0.0876  |  0:01:06s\n"
     ]
    },
    {
     "name": "stdout",
     "output_type": "stream",
     "text": [
      "epoch 113| loss: 0.02705 | train_mse: 0.01079 | train_mae: 0.07969 |  0:01:06s\n"
     ]
    },
    {
     "name": "stdout",
     "output_type": "stream",
     "text": [
      "epoch 114| loss: 0.03015 | train_mse: 0.01357 | train_mae: 0.08787 |  0:01:07s\n"
     ]
    },
    {
     "name": "stdout",
     "output_type": "stream",
     "text": [
      "epoch 115| loss: 0.02952 | train_mse: 0.01222 | train_mae: 0.08212 |  0:01:07s\n"
     ]
    },
    {
     "name": "stdout",
     "output_type": "stream",
     "text": [
      "epoch 116| loss: 0.02982 | train_mse: 0.00996 | train_mae: 0.07465 |  0:01:08s\n"
     ]
    },
    {
     "name": "stdout",
     "output_type": "stream",
     "text": [
      "epoch 117| loss: 0.03586 | train_mse: 0.01793 | train_mae: 0.09268 |  0:01:08s\n"
     ]
    },
    {
     "name": "stdout",
     "output_type": "stream",
     "text": [
      "epoch 118| loss: 0.02663 | train_mse: 0.01479 | train_mae: 0.09107 |  0:01:09s\n"
     ]
    },
    {
     "name": "stdout",
     "output_type": "stream",
     "text": [
      "epoch 119| loss: 0.04067 | train_mse: 0.00868 | train_mae: 0.06967 |  0:01:10s\n"
     ]
    },
    {
     "name": "stdout",
     "output_type": "stream",
     "text": [
      "epoch 120| loss: 0.03457 | train_mse: 0.01774 | train_mae: 0.10387 |  0:01:10s\n"
     ]
    },
    {
     "name": "stdout",
     "output_type": "stream",
     "text": [
      "epoch 121| loss: 0.03388 | train_mse: 0.01046 | train_mae: 0.08436 |  0:01:11s\n"
     ]
    },
    {
     "name": "stdout",
     "output_type": "stream",
     "text": [
      "epoch 122| loss: 0.03188 | train_mse: 0.06867 | train_mae: 0.1603  |  0:01:11s\n"
     ]
    },
    {
     "name": "stdout",
     "output_type": "stream",
     "text": [
      "epoch 123| loss: 0.02741 | train_mse: 0.03429 | train_mae: 0.11032 |  0:01:12s\n"
     ]
    },
    {
     "name": "stdout",
     "output_type": "stream",
     "text": [
      "epoch 124| loss: 0.02882 | train_mse: 0.00925 | train_mae: 0.08096 |  0:01:12s\n"
     ]
    },
    {
     "name": "stdout",
     "output_type": "stream",
     "text": [
      "epoch 125| loss: 0.02651 | train_mse: 0.00596 | train_mae: 0.06021 |  0:01:13s\n"
     ]
    },
    {
     "name": "stdout",
     "output_type": "stream",
     "text": [
      "epoch 126| loss: 0.02844 | train_mse: 0.01199 | train_mae: 0.08076 |  0:01:14s\n"
     ]
    },
    {
     "name": "stdout",
     "output_type": "stream",
     "text": [
      "epoch 127| loss: 0.03497 | train_mse: 0.00875 | train_mae: 0.07189 |  0:01:14s\n"
     ]
    },
    {
     "name": "stdout",
     "output_type": "stream",
     "text": [
      "epoch 128| loss: 0.02724 | train_mse: 0.01097 | train_mae: 0.07618 |  0:01:15s\n"
     ]
    },
    {
     "name": "stdout",
     "output_type": "stream",
     "text": [
      "epoch 129| loss: 0.03034 | train_mse: 0.02491 | train_mae: 0.13119 |  0:01:15s\n"
     ]
    },
    {
     "name": "stdout",
     "output_type": "stream",
     "text": [
      "epoch 130| loss: 0.01834 | train_mse: 0.00651 | train_mae: 0.06167 |  0:01:16s\n"
     ]
    },
    {
     "name": "stdout",
     "output_type": "stream",
     "text": [
      "epoch 131| loss: 0.0275  | train_mse: 0.01305 | train_mae: 0.09635 |  0:01:16s\n"
     ]
    },
    {
     "name": "stdout",
     "output_type": "stream",
     "text": [
      "epoch 132| loss: 0.03575 | train_mse: 0.01214 | train_mae: 0.08861 |  0:01:17s\n"
     ]
    },
    {
     "name": "stdout",
     "output_type": "stream",
     "text": [
      "epoch 133| loss: 0.02731 | train_mse: 0.01417 | train_mae: 0.08806 |  0:01:18s\n"
     ]
    },
    {
     "name": "stdout",
     "output_type": "stream",
     "text": [
      "epoch 134| loss: 0.0347  | train_mse: 0.01742 | train_mae: 0.10376 |  0:01:18s\n"
     ]
    },
    {
     "name": "stdout",
     "output_type": "stream",
     "text": [
      "epoch 135| loss: 0.03092 | train_mse: 0.01686 | train_mae: 0.10464 |  0:01:19s\n"
     ]
    },
    {
     "name": "stdout",
     "output_type": "stream",
     "text": [
      "epoch 136| loss: 0.04204 | train_mse: 0.01026 | train_mae: 0.07652 |  0:01:19s\n"
     ]
    },
    {
     "name": "stdout",
     "output_type": "stream",
     "text": [
      "epoch 137| loss: 0.0243  | train_mse: 0.01029 | train_mae: 0.08242 |  0:01:20s\n"
     ]
    },
    {
     "name": "stdout",
     "output_type": "stream",
     "text": [
      "epoch 138| loss: 0.02963 | train_mse: 0.00615 | train_mae: 0.05961 |  0:01:20s\n"
     ]
    },
    {
     "name": "stdout",
     "output_type": "stream",
     "text": [
      "epoch 139| loss: 0.02571 | train_mse: 0.01106 | train_mae: 0.07823 |  0:01:21s\n"
     ]
    },
    {
     "name": "stdout",
     "output_type": "stream",
     "text": [
      "epoch 140| loss: 0.02766 | train_mse: 0.01289 | train_mae: 0.09301 |  0:01:21s\n"
     ]
    },
    {
     "name": "stdout",
     "output_type": "stream",
     "text": [
      "epoch 141| loss: 0.02561 | train_mse: 0.01882 | train_mae: 0.10918 |  0:01:22s\n"
     ]
    },
    {
     "name": "stdout",
     "output_type": "stream",
     "text": [
      "epoch 142| loss: 0.02441 | train_mse: 0.00822 | train_mae: 0.0686  |  0:01:23s\n"
     ]
    },
    {
     "name": "stdout",
     "output_type": "stream",
     "text": [
      "epoch 143| loss: 0.02472 | train_mse: 0.01158 | train_mae: 0.08139 |  0:01:23s\n"
     ]
    },
    {
     "name": "stdout",
     "output_type": "stream",
     "text": [
      "epoch 144| loss: 0.03765 | train_mse: 0.0108  | train_mae: 0.08151 |  0:01:24s\n"
     ]
    },
    {
     "name": "stdout",
     "output_type": "stream",
     "text": [
      "epoch 145| loss: 0.03435 | train_mse: 0.01309 | train_mae: 0.08849 |  0:01:24s\n"
     ]
    },
    {
     "name": "stdout",
     "output_type": "stream",
     "text": [
      "epoch 146| loss: 0.04774 | train_mse: 0.01402 | train_mae: 0.08206 |  0:01:25s\n"
     ]
    },
    {
     "name": "stdout",
     "output_type": "stream",
     "text": [
      "epoch 147| loss: 0.03602 | train_mse: 0.07145 | train_mae: 0.13976 |  0:01:25s\n"
     ]
    },
    {
     "name": "stdout",
     "output_type": "stream",
     "text": [
      "epoch 148| loss: 0.03001 | train_mse: 0.06198 | train_mae: 0.13819 |  0:01:26s\n"
     ]
    },
    {
     "name": "stdout",
     "output_type": "stream",
     "text": [
      "epoch 149| loss: 0.02811 | train_mse: 0.00883 | train_mae: 0.07326 |  0:01:26s\n"
     ]
    },
    {
     "name": "stdout",
     "output_type": "stream",
     "text": [
      "epoch 150| loss: 0.02593 | train_mse: 0.01551 | train_mae: 0.09822 |  0:01:27s\n"
     ]
    },
    {
     "name": "stdout",
     "output_type": "stream",
     "text": [
      "epoch 151| loss: 0.02325 | train_mse: 0.01588 | train_mae: 0.09726 |  0:01:28s\n"
     ]
    },
    {
     "name": "stdout",
     "output_type": "stream",
     "text": [
      "epoch 152| loss: 0.03663 | train_mse: 0.02849 | train_mae: 0.12521 |  0:01:28s\n"
     ]
    },
    {
     "name": "stdout",
     "output_type": "stream",
     "text": [
      "epoch 153| loss: 0.02513 | train_mse: 0.01087 | train_mae: 0.08181 |  0:01:29s\n"
     ]
    },
    {
     "name": "stdout",
     "output_type": "stream",
     "text": [
      "epoch 154| loss: 0.03934 | train_mse: 0.00694 | train_mae: 0.0608  |  0:01:29s\n"
     ]
    },
    {
     "name": "stdout",
     "output_type": "stream",
     "text": [
      "epoch 155| loss: 0.03264 | train_mse: 0.00935 | train_mae: 0.07638 |  0:01:30s\n"
     ]
    },
    {
     "name": "stdout",
     "output_type": "stream",
     "text": [
      "epoch 156| loss: 0.03174 | train_mse: 0.01046 | train_mae: 0.07587 |  0:01:31s\n"
     ]
    },
    {
     "name": "stdout",
     "output_type": "stream",
     "text": [
      "epoch 157| loss: 0.02072 | train_mse: 0.0105  | train_mae: 0.07985 |  0:01:31s\n"
     ]
    },
    {
     "name": "stdout",
     "output_type": "stream",
     "text": [
      "epoch 158| loss: 0.03363 | train_mse: 0.009   | train_mae: 0.07043 |  0:01:32s\n"
     ]
    },
    {
     "name": "stdout",
     "output_type": "stream",
     "text": [
      "epoch 159| loss: 0.03552 | train_mse: 0.02341 | train_mae: 0.11235 |  0:01:33s\n"
     ]
    },
    {
     "name": "stdout",
     "output_type": "stream",
     "text": [
      "epoch 160| loss: 0.04711 | train_mse: 0.01783 | train_mae: 0.10954 |  0:01:33s\n"
     ]
    },
    {
     "name": "stdout",
     "output_type": "stream",
     "text": [
      "epoch 161| loss: 0.02127 | train_mse: 0.01391 | train_mae: 0.09291 |  0:01:34s\n"
     ]
    },
    {
     "name": "stdout",
     "output_type": "stream",
     "text": [
      "epoch 162| loss: 0.03667 | train_mse: 0.02606 | train_mae: 0.12321 |  0:01:35s\n"
     ]
    },
    {
     "name": "stdout",
     "output_type": "stream",
     "text": [
      "epoch 163| loss: 0.03137 | train_mse: 0.02009 | train_mae: 0.09468 |  0:01:36s\n"
     ]
    },
    {
     "name": "stdout",
     "output_type": "stream",
     "text": [
      "epoch 164| loss: 0.07881 | train_mse: 0.06389 | train_mae: 0.16336 |  0:01:36s\n"
     ]
    },
    {
     "name": "stdout",
     "output_type": "stream",
     "text": [
      "epoch 165| loss: 0.07536 | train_mse: 0.06304 | train_mae: 0.16463 |  0:01:37s\n"
     ]
    },
    {
     "name": "stdout",
     "output_type": "stream",
     "text": [
      "epoch 166| loss: 0.06762 | train_mse: 0.08862 | train_mae: 0.19999 |  0:01:37s\n"
     ]
    },
    {
     "name": "stdout",
     "output_type": "stream",
     "text": [
      "epoch 167| loss: 0.09157 | train_mse: 0.11305 | train_mae: 0.26081 |  0:01:38s\n"
     ]
    },
    {
     "name": "stdout",
     "output_type": "stream",
     "text": [
      "epoch 168| loss: 0.07505 | train_mse: 0.11172 | train_mae: 0.26443 |  0:01:39s\n"
     ]
    },
    {
     "name": "stdout",
     "output_type": "stream",
     "text": [
      "epoch 169| loss: 0.07121 | train_mse: 0.05394 | train_mae: 0.18431 |  0:01:39s\n"
     ]
    },
    {
     "name": "stdout",
     "output_type": "stream",
     "text": [
      "epoch 170| loss: 0.06814 | train_mse: 0.02974 | train_mae: 0.13296 |  0:01:40s\n"
     ]
    },
    {
     "name": "stdout",
     "output_type": "stream",
     "text": [
      "epoch 171| loss: 0.0342  | train_mse: 0.01937 | train_mae: 0.10165 |  0:01:40s\n"
     ]
    },
    {
     "name": "stdout",
     "output_type": "stream",
     "text": [
      "epoch 172| loss: 0.04336 | train_mse: 0.03314 | train_mae: 0.12916 |  0:01:41s\n"
     ]
    },
    {
     "name": "stdout",
     "output_type": "stream",
     "text": [
      "epoch 173| loss: 0.05184 | train_mse: 0.02015 | train_mae: 0.10144 |  0:01:41s\n"
     ]
    },
    {
     "name": "stdout",
     "output_type": "stream",
     "text": [
      "epoch 174| loss: 0.03834 | train_mse: 0.05006 | train_mae: 0.18099 |  0:01:42s\n"
     ]
    },
    {
     "name": "stdout",
     "output_type": "stream",
     "text": [
      "epoch 175| loss: 0.03215 | train_mse: 0.03827 | train_mae: 0.14439 |  0:01:43s\n"
     ]
    },
    {
     "name": "stdout",
     "output_type": "stream",
     "text": [
      "epoch 176| loss: 0.06113 | train_mse: 0.02745 | train_mae: 0.12639 |  0:01:43s\n"
     ]
    },
    {
     "name": "stdout",
     "output_type": "stream",
     "text": [
      "epoch 177| loss: 0.0468  | train_mse: 0.06705 | train_mae: 0.18619 |  0:01:44s\n"
     ]
    },
    {
     "name": "stdout",
     "output_type": "stream",
     "text": [
      "epoch 178| loss: 0.05216 | train_mse: 0.0667  | train_mae: 0.19712 |  0:01:44s\n"
     ]
    },
    {
     "name": "stdout",
     "output_type": "stream",
     "text": [
      "epoch 179| loss: 0.05206 | train_mse: 0.02159 | train_mae: 0.10503 |  0:01:45s\n"
     ]
    },
    {
     "name": "stdout",
     "output_type": "stream",
     "text": [
      "epoch 180| loss: 0.03809 | train_mse: 0.0284  | train_mae: 0.10695 |  0:01:45s\n"
     ]
    },
    {
     "name": "stdout",
     "output_type": "stream",
     "text": [
      "epoch 181| loss: 0.03529 | train_mse: 0.02213 | train_mae: 0.09806 |  0:01:46s\n"
     ]
    },
    {
     "name": "stdout",
     "output_type": "stream",
     "text": [
      "epoch 182| loss: 0.03081 | train_mse: 0.01868 | train_mae: 0.10126 |  0:01:47s\n"
     ]
    },
    {
     "name": "stdout",
     "output_type": "stream",
     "text": [
      "epoch 183| loss: 0.03425 | train_mse: 0.01625 | train_mae: 0.08694 |  0:01:47s\n"
     ]
    },
    {
     "name": "stdout",
     "output_type": "stream",
     "text": [
      "epoch 184| loss: 0.04707 | train_mse: 0.02118 | train_mae: 0.10057 |  0:01:48s\n"
     ]
    },
    {
     "name": "stdout",
     "output_type": "stream",
     "text": [
      "epoch 185| loss: 0.03682 | train_mse: 0.01511 | train_mae: 0.08794 |  0:01:48s\n"
     ]
    },
    {
     "name": "stdout",
     "output_type": "stream",
     "text": [
      "epoch 186| loss: 0.03517 | train_mse: 0.0235  | train_mae: 0.11191 |  0:01:49s\n"
     ]
    },
    {
     "name": "stdout",
     "output_type": "stream",
     "text": [
      "epoch 187| loss: 0.03682 | train_mse: 0.02537 | train_mae: 0.1093  |  0:01:49s\n"
     ]
    },
    {
     "name": "stdout",
     "output_type": "stream",
     "text": [
      "epoch 188| loss: 0.03707 | train_mse: 0.03024 | train_mae: 0.11821 |  0:01:50s\n",
      "\n",
      "Early stopping occurred at epoch 188 with best_epoch = 138 and best_train_mae = 0.05961\n",
      "Best weights from best epoch are automatically used!\n"
     ]
    }
   ],
   "source": [
    "#Train the Model\n",
    "\n",
    "Y_train = np.reshape(Y_train, (-1, 1))\n",
    "Y_test = np.reshape(Y_test, (-1, 1))\n",
    "\n",
    "prior_model = TabNetRegressor(optimizer_fn=torch.optim.Adam, optimizer_params=dict(lr = 0.01),\n",
    "          #scheduler_params={\"step_size\":10, ], \"gamma\":0.9},\n",
    "          #scheduler_fn=torch.optim.lr_scheduler.StepLR\n",
    "          )  #TabNetRegressor()\n",
    "\n",
    "prior_model.fit(X_train,Y_train,eval_set=[(X_train, Y_train)],\n",
    "            eval_name=['train'], \n",
    "            eval_metric=[ 'mse', 'mae'], \n",
    "            max_epochs = n_epochs, \n",
    "            batch_size = batch_size,\n",
    "            patience=50\n",
    "            )"
   ]
  },
  {
   "cell_type": "code",
   "execution_count": 10,
   "id": "af65dcda",
   "metadata": {
    "execution": {
     "iopub.execute_input": "2022-07-25T12:11:55.888510Z",
     "iopub.status.busy": "2022-07-25T12:11:55.888159Z",
     "iopub.status.idle": "2022-07-25T12:11:55.956041Z",
     "shell.execute_reply": "2022-07-25T12:11:55.955051Z"
    },
    "id": "af65dcda",
    "papermill": {
     "duration": 0.095765,
     "end_time": "2022-07-25T12:11:55.960742",
     "exception": false,
     "start_time": "2022-07-25T12:11:55.864977",
     "status": "completed"
    },
    "tags": []
   },
   "outputs": [
    {
     "data": {
      "application/scrapbook.scrap.json+json": {
       "data": 0.0066032586649483705,
       "encoder": "json",
       "name": "Prior Model MSE",
       "version": 1
      }
     },
     "metadata": {
      "scrapbook": {
       "data": true,
       "display": false,
       "name": "Prior Model MSE"
      }
     },
     "output_type": "display_data"
    },
    {
     "data": {
      "application/scrapbook.scrap.json+json": {
       "data": 0.01275441960704245,
       "encoder": "json",
       "name": "ABC Pre-generator MSE",
       "version": 1
      }
     },
     "metadata": {
      "scrapbook": {
       "data": true,
       "display": false,
       "name": "ABC Pre-generator MSE"
      }
     },
     "output_type": "display_data"
    },
    {
     "data": {
      "application/scrapbook.scrap.json+json": {
       "data": 0.06380606873077473,
       "encoder": "json",
       "name": "Prior Model MAE",
       "version": 1
      }
     },
     "metadata": {
      "scrapbook": {
       "data": true,
       "display": false,
       "name": "Prior Model MAE"
      }
     },
     "output_type": "display_data"
    },
    {
     "name": "stdout",
     "output_type": "stream",
     "text": [
      "Prior Model MAE 0.06380606873077473\n"
     ]
    },
    {
     "data": {
      "application/scrapbook.scrap.json+json": {
       "data": 0.09078318444417363,
       "encoder": "json",
       "name": "ABC Pre-generator MAE",
       "version": 1
      }
     },
     "metadata": {
      "scrapbook": {
       "data": true,
       "display": false,
       "name": "ABC Pre-generator MAE"
      }
     },
     "output_type": "display_data"
    },
    {
     "name": "stdout",
     "output_type": "stream",
     "text": [
      "ABC Pre-generator MAE 0.09078318444417363\n"
     ]
    }
   ],
   "source": [
    "y_pred = prior_model.predict(X_test)\n",
    "y_abc = y_pred + np.random.normal(0,variance, y_pred.shape) + bias \n",
    "mse = mean_squared_error(y_pred,Y_test)\n",
    "sb.glue(\"Prior Model MSE\",mse)\n",
    "mse = mean_squared_error(y_abc,Y_test)\n",
    "sb.glue(\"ABC Pre-generator MSE\",mse)\n",
    "mae = mean_absolute_error(y_pred,Y_test)\n",
    "sb.glue(\"Prior Model MAE\",mae)\n",
    "print(\"Prior Model MAE\",mae)\n",
    "mae = mean_absolute_error(y_abc,Y_test)\n",
    "sb.glue(\"ABC Pre-generator MAE\",mae)\n",
    "print(\"ABC Pre-generator MAE\",mae)"
   ]
  },
  {
   "cell_type": "markdown",
   "id": "25609da2",
   "metadata": {
    "papermill": {
     "duration": 0.019954,
     "end_time": "2022-07-25T12:11:56.000767",
     "exception": false,
     "start_time": "2022-07-25T12:11:55.980813",
     "status": "completed"
    },
    "tags": []
   },
   "source": [
    "# mGAN Model"
   ]
  },
  {
   "cell_type": "code",
   "execution_count": 11,
   "id": "dfc3464d",
   "metadata": {
    "execution": {
     "iopub.execute_input": "2022-07-25T12:11:56.044285Z",
     "iopub.status.busy": "2022-07-25T12:11:56.043433Z",
     "iopub.status.idle": "2022-07-25T12:11:56.053056Z",
     "shell.execute_reply": "2022-07-25T12:11:56.052007Z"
    },
    "papermill": {
     "duration": 0.034429,
     "end_time": "2022-07-25T12:11:56.055640",
     "exception": false,
     "start_time": "2022-07-25T12:11:56.021211",
     "status": "completed"
    },
    "tags": []
   },
   "outputs": [],
   "source": [
    "gen = network.Generator(n_features+1).to(device)\n",
    "disc = network.Discriminator(n_features+1).to(device)\n",
    "\n",
    "criterion = torch.nn.BCELoss()\n",
    "gen_opt = torch.optim.Adam(gen.parameters(), lr=0.01, betas=(0.5, 0.999))\n",
    "disc_opt = torch.optim.Adam(disc.parameters(), lr=0.01, betas=(0.5, 0.999))"
   ]
  },
  {
   "cell_type": "code",
   "execution_count": 12,
   "id": "b75fdd85",
   "metadata": {
    "execution": {
     "iopub.execute_input": "2022-07-25T12:11:56.098139Z",
     "iopub.status.busy": "2022-07-25T12:11:56.097481Z",
     "iopub.status.idle": "2022-07-25T12:18:13.606600Z",
     "shell.execute_reply": "2022-07-25T12:18:13.604867Z"
    },
    "papermill": {
     "duration": 377.539329,
     "end_time": "2022-07-25T12:18:13.613942",
     "exception": false,
     "start_time": "2022-07-25T12:11:56.074613",
     "status": "completed"
    },
    "tags": []
   },
   "outputs": [
    {
     "data": {
      "image/png": "[encoded data removed]",
      "text/plain": [
       "<Figure size 432x288 with 1 Axes>"
      ]
     },
     "metadata": {
      "needs_background": "light"
     },
     "output_type": "display_data"
    },
    {
     "data": {
      "image/png": "[encoded data removed]",
      "text/plain": [
       "<Figure size 432x288 with 1 Axes>"
      ]
     },
     "metadata": {
      "needs_background": "light"
     },
     "output_type": "display_data"
    }
   ],
   "source": [
    "#Training the ABC_GAN \n",
    "ABC_train_test2.training_GAN(disc,gen,disc_opt,gen_opt,train_data,batch_size,n_epochs,criterion,prior_model,variance,bias,device)"
   ]
  },
  {
   "cell_type": "code",
   "execution_count": 13,
   "id": "1fa7c368",
   "metadata": {
    "execution": {
     "iopub.execute_input": "2022-07-25T12:18:13.661847Z",
     "iopub.status.busy": "2022-07-25T12:18:13.660579Z",
     "iopub.status.idle": "2022-07-25T12:18:17.182203Z",
     "shell.execute_reply": "2022-07-25T12:18:17.181183Z"
    },
    "papermill": {
     "duration": 3.551347,
     "end_time": "2022-07-25T12:18:17.186147",
     "exception": false,
     "start_time": "2022-07-25T12:18:13.634800",
     "status": "completed"
    },
    "tags": []
   },
   "outputs": [
    {
     "data": {
      "application/scrapbook.scrap.json+json": {
       "data": 0.01237667338928389,
       "encoder": "json",
       "name": "ABC-GAN Model 1 MSE",
       "version": 1
      }
     },
     "metadata": {
      "scrapbook": {
       "data": true,
       "display": false,
       "name": "ABC-GAN Model 1 MSE"
      }
     },
     "output_type": "display_data"
    },
    {
     "data": {
      "application/scrapbook.scrap.json+json": {
       "data": 0.07089775063968325,
       "encoder": "json",
       "name": "ABC-GAN Model 1 MAE",
       "version": 1
      }
     },
     "metadata": {
      "scrapbook": {
       "data": true,
       "display": false,
       "name": "ABC-GAN Model 1 MAE"
      }
     },
     "output_type": "display_data"
    },
    {
     "data": {
      "application/scrapbook.scrap.json+json": {
       "data": 10.91825359851122,
       "encoder": "json",
       "name": "ABC-GAN Model 1 Manhattan Distance",
       "version": 1
      }
     },
     "metadata": {
      "scrapbook": {
       "data": true,
       "display": false,
       "name": "ABC-GAN Model 1 Manhattan Distance"
      }
     },
     "output_type": "display_data"
    },
    {
     "data": {
      "application/scrapbook.scrap.json+json": {
       "data": 1.3801340008914553,
       "encoder": "json",
       "name": "ABC-GAN Model 1 Euclidean distance",
       "version": 1
      }
     },
     "metadata": {
      "scrapbook": {
       "data": true,
       "display": false,
       "name": "ABC-GAN Model 1 Euclidean distance"
      }
     },
     "output_type": "display_data"
    },
    {
     "data": {
      "application/scrapbook.scrap.json+json": {
       "data": [
        [
         0.010658307575670201,
         0.012081496002489386,
         0.011187411704775932,
         0.012143572539188584,
         0.013197837179612657,
         0.012649092938079325,
         0.012732603444943244,
         0.012500496705656452,
         0.012963948205968667,
         0.01221686979475891,
         0.011771955544140069,
         0.012135053145388467,
         0.011425497819942537,
         0.011281108949996347,
         0.011273839134484697,
         0.011721052625645167,
         0.012594999927039803,
         0.012417630033643696,
         0.012548668678494818,
         0.011919228779392166,
         0.012885183179568433,
         0.012927096522931864,
         0.012939779428709578,
         0.011645494704537875,
         0.01130848485328179,
         0.01239736491839425,
         0.012024218904974735,
         0.012868981057092228,
         0.01180268793551346,
         0.01279363386528596,
         0.012426019646496705,
         0.012768291573165747,
         0.013126039406244962,
         0.012575633253259666,
         0.013084041385797116,
         0.012873860264088365,
         0.011753404592276247,
         0.01264895254782489,
         0.012773276162367241,
         0.012408404756269335,
         0.01158405971862217,
         0.013330664441696952,
         0.012926805001507386,
         0.012799199729542231,
         0.012350740224735302,
         0.013051334328607432,
         0.013243208007884645,
         0.011186110732698245,
         0.011984139817457724,
         0.01151895164936936,
         0.012781758243228577,
         0.011661095092870354,
         0.012746780597456079,
         0.013762948928143774,
         0.01222338737800993,
         0.012795998638093189,
         0.01163006597711813,
         0.011105633786816243,
         0.011302319220710799,
         0.012738613771644662,
         0.012386949370015268,
         0.012316239786617096,
         0.013455696873222272,
         0.01256254885135435,
         0.01180127211179482,
         0.013114433306415424,
         0.012609695855749323,
         0.012574629284514775,
         0.012041122995742596,
         0.012781764446183196,
         0.012596336196241415,
         0.012981560563541696,
         0.012043931328335067,
         0.012751602738371557,
         0.01279934607831742,
         0.011614982330658503,
         0.012249546440659412,
         0.013503797676634373,
         0.011911538997931017,
         0.013137284256722498,
         0.012738258450900476,
         0.01246652303735241,
         0.012531219039556176,
         0.012673027831114009,
         0.013109891839484963,
         0.011213408048210244,
         0.012106878730201056,
         0.012789106782938384,
         0.012532274777468783,
         0.012032589593854563,
         0.011851883821672583,
         0.011633617956364877,
         0.01236091143581845,
         0.012619050128787461,
         0.012008619724169039,
         0.013239494716844349,
         0.013167246246473288,
         0.012851876041512942,
         0.012622595143649808,
         0.011709251119388173
        ],
        [
         0.06382301759410214,
         0.07006351359478839,
         0.06770596585490486,
         0.0696843568380777,
         0.07208215145321635,
         0.07039895789189772,
         0.07219488686555392,
         0.071468587819632,
         0.07136261424460968,
         0.06919141191166717,
         0.07013052237498296,
         0.07178837564084437,
         0.06812643095270379,
         0.06782439196264589,
         0.06831301574583178,
         0.06918900043933422,
         0.07167775251648643,
         0.07131199596764205,
         0.07132367228532767,
         0.07148208382067742,
         0.0733223921292788,
         0.07292043040325115,
         0.07142214573823012,
         0.06918783021437658,
         0.06773311906046682,
         0.07117849936732998,
         0.07038208339121435,
         0.07267982967488178,
         0.07036272426704307,
         0.07206945605092234,
         0.07132700801669777,
         0.07213190913974464,
         0.07216583018179064,
         0.0705461296942327,
         0.07354108118391656,
         0.07216285962563057,
         0.06988915859104751,
         0.07111758651671471,
         0.07203189390046257,
         0.07135683220702332,
         0.06908609901929831,
         0.0741835515220444,
         0.0733546136648624,
         0.07216669986774395,
         0.07125981848735313,
         0.07264214076779106,
         0.07293384783453756,
         0.06755274611634093,
         0.07011798991785421,
         0.069290891289711,
         0.07132449494553851,
         0.0683717518657833,
         0.07268437394848118,
         0.07401726075581141,
         0.06954641775651411,
         0.07205234758265606,
         0.06816508069440916,
         0.06658183618799432,
         0.06790907564875368,
         0.0718248463296271,
         0.07035129720514471,
         0.06931385243093813,
         0.073161440623271,
         0.07044500673746133,
         0.07072889630670672,
         0.07217189089044349,
         0.0717922615540492,
         0.07261522191685515,
         0.06843845178554585,
         0.07279876106745237,
         0.07341516366252651,
         0.07309069300626779,
         0.07095837825304502,
         0.07252370324227717,
         0.07266679522279021,
         0.06969388274403361,
         0.07137791212503013,
         0.0726777311269339,
         0.06737877931687739,
         0.07513872040556623,
         0.07115187428214333,
         0.07036793444837842,
         0.07079224965789101,
         0.07206763752869197,
         0.07307584293476947,
         0.06697592332765653,
         0.07167078883616955,
         0.07341730710747954,
         0.07069062102924693,
         0.07056129056137878,
         0.06912156978210846,
         0.06854205452776574,
         0.07002257816977316,
         0.07060383956927757,
         0.06940658622747892,
         0.07332787846590018,
         0.07415980913422325,
         0.07187520819050926,
         0.0711754672713094,
         0.0682923739606684
        ],
        [
         9.82874470949173,
         10.789781093597412,
         10.42671874165535,
         10.731390953063965,
         11.100651323795319,
         10.84143951535225,
         11.118012577295303,
         11.006162524223328,
         10.989842593669891,
         10.655477434396744,
         10.800100445747375,
         11.055409848690033,
         10.491470366716385,
         10.444956362247467,
         10.520204424858093,
         10.65510606765747,
         11.03837388753891,
         10.982047379016876,
         10.98384553194046,
         11.008240908384323,
         11.291648387908936,
         11.229746282100677,
         10.999010443687439,
         10.654925853013992,
         10.43090033531189,
         10.961488902568817,
         10.83884084224701,
         11.192693769931793,
         10.835859537124634,
         11.098696231842041,
         10.984359234571457,
         11.108314007520676,
         11.113537847995758,
         10.864103972911835,
         11.32532650232315,
         11.113080382347107,
         10.762930423021317,
         10.952108323574066,
         11.092911660671234,
         10.988952159881592,
         10.639259248971939,
         11.424266934394836,
         11.29661050438881,
         11.113671779632568,
         10.974012047052383,
         11.186889678239822,
         11.231812566518784,
         10.403122901916504,
         10.798170447349548,
         10.670797258615494,
         10.98397222161293,
         10.529249787330627,
         11.193393588066101,
         11.398658156394958,
         10.710148334503174,
         11.096061527729034,
         10.49742242693901,
         10.253602772951126,
         10.457997649908066,
         11.061026334762573,
         10.834099769592285,
         10.674333274364471,
         11.266861855983734,
         10.848531037569046,
         10.892250031232834,
         11.114471197128296,
         11.056008279323578,
         11.182744175195694,
         10.53952157497406,
         11.211009204387665,
         11.305935204029083,
         11.25596672296524,
         10.927590250968933,
         11.168650299310684,
         11.190686464309692,
         10.732857942581177,
         10.992198467254639,
         11.192370593547821,
         10.376332014799118,
         11.571362942457199,
         10.957388639450073,
         10.836661905050278,
         10.902006447315216,
         11.098416179418564,
         11.253679811954498,
         10.314292192459106,
         11.037301480770111,
         11.30626529455185,
         10.886355638504028,
         10.866438746452332,
         10.644721746444702,
         10.555476397275925,
         10.783477038145065,
         10.872991293668747,
         10.688614279031754,
         11.292493283748627,
         11.42061060667038,
         11.068782061338425,
         10.961021959781647,
         10.517025589942932
        ],
        [
         1.2811632864913087,
         1.364019935478718,
         1.3125781510201566,
         1.3675197150443725,
         1.4256461432137881,
         1.395693488006667,
         1.4002931587782823,
         1.387471258322526,
         1.4129571910426637,
         1.3716406046748806,
         1.3464327513090175,
         1.367039935184713,
         1.326471509031065,
         1.3180632679425663,
         1.317638503805442,
         1.3435185537793497,
         1.3927059950916165,
         1.3828647891898649,
         1.390142070613001,
         1.3548288570983398,
         1.4086583012404175,
         1.4109475059446779,
         1.4116394837285033,
         1.3391811619414427,
         1.3196615730578032,
         1.3817359362167267,
         1.3607827568594884,
         1.4077723831614979,
         1.348189134383256,
         1.4036451172764566,
         1.3833318566275024,
         1.402254221697166,
         1.4217630142051538,
         1.39163483752096,
         1.4194866584130883,
         1.4080392326457414,
         1.3453714383806958,
         1.395685742696053,
         1.4025279066758547,
         1.3823510163722807,
         1.335644113028547,
         1.4328022627080579,
         1.4109315965815414,
         1.4039504116419155,
         1.3791352343440568,
         1.4177113551797293,
         1.4280945463148564,
         1.312501829650355,
         1.3585129855428286,
         1.331885338158988,
         1.4029935029989273,
         1.3400778500900739,
         1.4010725220373983,
         1.4558482527152823,
         1.3720064344650607,
         1.403774836028325,
         1.3382937496963034,
         1.3077719996886694,
         1.319301769872785,
         1.4006236185475662,
         1.3811553869794488,
         1.3772076557799964,
         1.4395059286005838,
         1.390910681211619,
         1.348108269100224,
         1.421134310748979,
         1.3935182674745945,
         1.3915792862123506,
         1.3617389402320694,
         1.402993843433467,
         1.3927798728518366,
         1.4139166618953967,
         1.3618977291131666,
         1.4013375117041647,
         1.4039584381529542,
         1.337425616219986,
         1.3734737536121866,
         1.442076572932829,
         1.3543917474945633,
         1.4223718836982349,
         1.4006040844716516,
         1.385584550921477,
         1.389175198487092,
         1.3970133449582927,
         1.420888223359137,
         1.3141022941249199,
         1.3654520586424712,
         1.4033967523735087,
         1.389233715301422,
         1.36125633054675,
         1.3509959691048592,
         1.3384981005889367,
         1.3797029974295343,
         1.3940350497147727,
         1.3598997895146656,
         1.4278943190565712,
         1.42399295010786,
         1.4068364902834278,
         1.394230846066056,
         1.3428420131891088
        ]
       ],
       "encoder": "json",
       "name": "ABC_GAN_1 Metrics",
       "version": 1
      }
     },
     "metadata": {
      "scrapbook": {
       "data": true,
       "display": false,
       "name": "ABC_GAN_1 Metrics"
      }
     },
     "output_type": "display_data"
    },
    {
     "name": "stdout",
     "output_type": "stream",
     "text": [
      "MAE\n",
      "0.07089775063968325\n"
     ]
    }
   ],
   "source": [
    "ABC_GAN1_metrics=ABC_train_test2.test_generator(gen,test_data,prior_model,variance,bias,\"1\",device)\n",
    "sb.glue(\"ABC_GAN_1 Metrics\",ABC_GAN1_metrics)\n",
    "\n",
    "print(\"MAE\")\n",
    "print(mean(ABC_GAN1_metrics[1]))"
   ]
  },
  {
   "cell_type": "code",
   "execution_count": 14,
   "id": "eb22ce5c",
   "metadata": {
    "execution": {
     "iopub.execute_input": "2022-07-25T12:18:17.235956Z",
     "iopub.status.busy": "2022-07-25T12:18:17.235584Z",
     "iopub.status.idle": "2022-07-25T12:18:18.242333Z",
     "shell.execute_reply": "2022-07-25T12:18:18.241400Z"
    },
    "papermill": {
     "duration": 1.035963,
     "end_time": "2022-07-25T12:18:18.245206",
     "exception": false,
     "start_time": "2022-07-25T12:18:17.209243",
     "status": "completed"
    },
    "tags": []
   },
   "outputs": [
    {
     "data": {
      "image/png": "[encoded data removed]",
      "text/plain": [
       "<Figure size 432x288 with 1 Axes>"
      ]
     },
     "metadata": {
      "needs_background": "light"
     },
     "output_type": "display_data"
    },
    {
     "data": {
      "image/png": "[encoded data removed]",
      "text/plain": [
       "<Figure size 432x288 with 1 Axes>"
      ]
     },
     "metadata": {
      "needs_background": "light"
     },
     "output_type": "display_data"
    },
    {
     "data": {
      "image/png": "[encoded data removed]",
      "text/plain": [
       "<Figure size 432x288 with 1 Axes>"
      ]
     },
     "metadata": {
      "needs_background": "light"
     },
     "output_type": "display_data"
    },
    {
     "data": {
      "image/png": "[encoded data removed]",
      "text/plain": [
       "<Figure size 432x288 with 1 Axes>"
      ]
     },
     "metadata": {
      "needs_background": "light"
     },
     "output_type": "display_data"
    }
   ],
   "source": [
    "sanityChecks.discProbVsError(train_data,disc,device)\n",
    "sanityChecks.discProbVsError(test_data,disc,device)"
   ]
  },
  {
   "cell_type": "markdown",
   "id": "943d7350",
   "metadata": {
    "papermill": {
     "duration": 0.030773,
     "end_time": "2022-07-25T12:18:18.302172",
     "exception": false,
     "start_time": "2022-07-25T12:18:18.271399",
     "status": "completed"
    },
    "tags": []
   },
   "source": [
    "# mGAN Model with TabNet Generator"
   ]
  },
  {
   "cell_type": "code",
   "execution_count": 15,
   "id": "8fa64554",
   "metadata": {
    "execution": {
     "iopub.execute_input": "2022-07-25T12:18:18.355595Z",
     "iopub.status.busy": "2022-07-25T12:18:18.355249Z",
     "iopub.status.idle": "2022-07-25T12:18:18.372569Z",
     "shell.execute_reply": "2022-07-25T12:18:18.371667Z"
    },
    "papermill": {
     "duration": 0.047224,
     "end_time": "2022-07-25T12:18:18.375689",
     "exception": false,
     "start_time": "2022-07-25T12:18:18.328465",
     "status": "completed"
    },
    "tags": []
   },
   "outputs": [],
   "source": [
    "gen2 = network.GeneratorTabnet(n_features+1).to(device)\n",
    "disc2 = network.Discriminator(n_features+1).to(device)\n",
    "\n",
    "criterion = torch.nn.BCELoss()\n",
    "gen_opt = torch.optim.Adam(gen2.parameters(), lr=0.01, betas=(0.5, 0.999))\n",
    "disc_opt = torch.optim.Adam(disc2.parameters(), lr=0.01, betas=(0.5, 0.999))"
   ]
  },
  {
   "cell_type": "code",
   "execution_count": 16,
   "id": "8a51ba66",
   "metadata": {
    "execution": {
     "iopub.execute_input": "2022-07-25T12:18:18.430009Z",
     "iopub.status.busy": "2022-07-25T12:18:18.429574Z",
     "iopub.status.idle": "2022-07-25T12:36:04.190260Z",
     "shell.execute_reply": "2022-07-25T12:36:04.189042Z"
    },
    "papermill": {
     "duration": 1065.790736,
     "end_time": "2022-07-25T12:36:04.193029",
     "exception": false,
     "start_time": "2022-07-25T12:18:18.402293",
     "status": "completed"
    },
    "tags": []
   },
   "outputs": [
    {
     "data": {
      "image/png": "[encoded data removed]",
      "text/plain": [
       "<Figure size 432x288 with 1 Axes>"
      ]
     },
     "metadata": {
      "needs_background": "light"
     },
     "output_type": "display_data"
    },
    {
     "data": {
      "image/png": "[encoded data removed]",
      "text/plain": [
       "<Figure size 432x288 with 1 Axes>"
      ]
     },
     "metadata": {
      "needs_background": "light"
     },
     "output_type": "display_data"
    }
   ],
   "source": [
    "#Training the ABC_GAN \n",
    "ABC_train_test2.training_GAN(disc2,gen2,disc_opt,gen_opt,train_data,batch_size,n_epochs,criterion,prior_model,variance,bias,device)"
   ]
  },
  {
   "cell_type": "code",
   "execution_count": 17,
   "id": "11eccbd3",
   "metadata": {
    "execution": {
     "iopub.execute_input": "2022-07-25T12:36:04.257098Z",
     "iopub.status.busy": "2022-07-25T12:36:04.256519Z",
     "iopub.status.idle": "2022-07-25T12:36:09.231894Z",
     "shell.execute_reply": "2022-07-25T12:36:09.230515Z"
    },
    "papermill": {
     "duration": 5.008616,
     "end_time": "2022-07-25T12:36:09.234677",
     "exception": false,
     "start_time": "2022-07-25T12:36:04.226061",
     "status": "completed"
    },
    "tags": []
   },
   "outputs": [
    {
     "data": {
      "application/scrapbook.scrap.json+json": {
       "data": 0.010482637318572104,
       "encoder": "json",
       "name": "ABC-GAN Model 1 MSE",
       "version": 1
      }
     },
     "metadata": {
      "scrapbook": {
       "data": true,
       "display": false,
       "name": "ABC-GAN Model 1 MSE"
      }
     },
     "output_type": "display_data"
    },
    {
     "data": {
      "application/scrapbook.scrap.json+json": {
       "data": 0.06510425159417384,
       "encoder": "json",
       "name": "ABC-GAN Model 1 MAE",
       "version": 1
      }
     },
     "metadata": {
      "scrapbook": {
       "data": true,
       "display": false,
       "name": "ABC-GAN Model 1 MAE"
      }
     },
     "output_type": "display_data"
    },
    {
     "data": {
      "application/scrapbook.scrap.json+json": {
       "data": 10.026054745502769,
       "encoder": "json",
       "name": "ABC-GAN Model 1 Manhattan Distance",
       "version": 1
      }
     },
     "metadata": {
      "scrapbook": {
       "data": true,
       "display": false,
       "name": "ABC-GAN Model 1 Manhattan Distance"
      }
     },
     "output_type": "display_data"
    },
    {
     "data": {
      "application/scrapbook.scrap.json+json": {
       "data": 1.2697672534076283,
       "encoder": "json",
       "name": "ABC-GAN Model 1 Euclidean distance",
       "version": 1
      }
     },
     "metadata": {
      "scrapbook": {
       "data": true,
       "display": false,
       "name": "ABC-GAN Model 1 Euclidean distance"
      }
     },
     "output_type": "display_data"
    },
    {
     "data": {
      "application/scrapbook.scrap.json+json": {
       "data": [
        [
         0.009350410885595444,
         0.010999665811130547,
         0.011295933744139383,
         0.011323419230956531,
         0.010782123326195507,
         0.00973277476644575,
         0.00987070206461419,
         0.01017588511257916,
         0.010650156076608908,
         0.011178025248991304,
         0.010321192047979749,
         0.01233077424462967,
         0.010958979127019134,
         0.010193346875118657,
         0.010210546283094542,
         0.010707950165756527,
         0.010365226537643808,
         0.010359000211064149,
         0.009849205307177832,
         0.010551727679403307,
         0.010528847269370633,
         0.00966614129097322,
         0.010810676786769773,
         0.011319635313474649,
         0.009792511872657441,
         0.009481756380907492,
         0.010330187394414964,
         0.009862509455645617,
         0.01082307966619188,
         0.010248973451218259,
         0.011082564649895479,
         0.010618692391580207,
         0.009331810794714497,
         0.010730751127929145,
         0.010682598452487676,
         0.009101033348784081,
         0.010036240141809578,
         0.011521611207341681,
         0.011812121637409342,
         0.00959526150623942,
         0.009136032274938548,
         0.00989405236881062,
         0.010436847861699473,
         0.012450812225299477,
         0.010561226203463796,
         0.010702960894004366,
         0.010224769233889182,
         0.010671527698321356,
         0.011050647749071918,
         0.01092270753621231,
         0.012501154721015885,
         0.010478003552969588,
         0.009096327961649163,
         0.01034075385427767,
         0.01059110050102981,
         0.01217608294284325,
         0.010838669988922385,
         0.010565365552305722,
         0.01030822173306365,
         0.010457542882309417,
         0.010623152812754529,
         0.010357443223073833,
         0.010596432895801294,
         0.009694847072792518,
         0.011226416358334082,
         0.009952312728303223,
         0.009636282616674107,
         0.010198243393511641,
         0.012266635621484383,
         0.009984334751242167,
         0.011021810379537663,
         0.009915301675413223,
         0.011229467623385711,
         0.009642798168195145,
         0.009500487255452904,
         0.01025098305104977,
         0.010218116876103201,
         0.009722427193660522,
         0.011087367556236119,
         0.011217930193499332,
         0.00998136778826946,
         0.011203310350362181,
         0.01057616281665161,
         0.009737114439236557,
         0.009858503581437217,
         0.009597160788001602,
         0.009877760309038539,
         0.011955859288074432,
         0.010242768972290825,
         0.010468367405226012,
         0.009580953684542695,
         0.010515254057537237,
         0.011419640490265077,
         0.010192609767066303,
         0.00972384782513434,
         0.009646960789210825,
         0.0112402554481823,
         0.009930267425320901,
         0.010800853925256013,
         0.011383064637544217
        ],
        [
         0.06262220011709572,
         0.0675049474728959,
         0.0646962546682977,
         0.06729081369839705,
         0.06474928078906876,
         0.06030604371486546,
         0.06479461931369522,
         0.0632918348366564,
         0.06626103987747972,
         0.06714336612781921,
         0.06320888979674934,
         0.06811566689571777,
         0.06570898978547617,
         0.0640463912738608,
         0.06339688512024941,
         0.06493383234778008,
         0.06299166969180882,
         0.06512673881340336,
         0.0636900407443573,
         0.06461294798494933,
         0.06545219957441478,
         0.0632097709972363,
         0.06610442838305003,
         0.06699300978284378,
         0.0622003251662502,
         0.06295069408687679,
         0.066907321816528,
         0.0614317131603693,
         0.06646757226969514,
         0.06455195961253983,
         0.06598493263318941,
         0.06634997895785741,
         0.061873678795316,
         0.06606495003034542,
         0.06772896966763906,
         0.06019978888042561,
         0.0647787241047466,
         0.06911829868694405,
         0.06619390206677574,
         0.06314582145446307,
         0.06146264134289382,
         0.06293226672070366,
         0.06620569967410782,
         0.07187673318889234,
         0.0671995354259943,
         0.06741545042144013,
         0.06416006937816546,
         0.06545016759788835,
         0.06684722809435485,
         0.06624249983337019,
         0.06961391005036119,
         0.0668065712920257,
         0.060713120965988604,
         0.06470923503110936,
         0.06601312461417991,
         0.06790124392741687,
         0.06622156137963395,
         0.06563392760498184,
         0.06453914548476021,
         0.06412900036031549,
         0.06527233043951648,
         0.06539798581174441,
         0.06587565690279007,
         0.06260906237286407,
         0.06671480679666841,
         0.06337184217069056,
         0.06349608573046597,
         0.06373548314168856,
         0.07023134295429502,
         0.06467091969468376,
         0.06677262971250268,
         0.06532650847326625,
         0.06667246451819098,
         0.06370867106628109,
         0.06284372682695265,
         0.06540712607758385,
         0.06407234362967602,
         0.06355709115696417,
         0.0655011452927992,
         0.06743371907573242,
         0.06429509296045675,
         0.06861147037767745,
         0.06677673798199597,
         0.063758874287853,
         0.06272984760535227,
         0.06044395800147738,
         0.06291676670699925,
         0.06921629960854332,
         0.06610400038589904,
         0.06326861606983396,
         0.06242290966503032,
         0.06736392034338666,
         0.06824342098522496,
         0.06557826005986758,
         0.061891768127679825,
         0.06290455955963631,
         0.06667504261259909,
         0.06414553281161692,
         0.06531723075872892,
         0.0668162830754534
        ],
        [
         9.643818818032742,
         10.395761910825968,
         9.963223218917847,
         10.362785309553146,
         9.97138924151659,
         9.287130732089281,
         9.978371374309063,
         9.746942564845085,
         10.204200141131878,
         10.340078383684158,
         9.734169028699398,
         10.489812701940536,
         10.11918442696333,
         9.863144256174564,
         9.76312030851841,
         9.999810181558132,
         9.700717132538557,
         10.029517777264118,
         9.808266274631023,
         9.950393989682198,
         10.079638734459877,
         9.73430473357439,
         10.180081970989704,
         10.316923506557941,
         9.578850075602531,
         9.694406889379025,
         10.303727559745312,
         9.460483826696873,
         10.236006129533052,
         9.941001780331135,
         10.16167962551117,
         10.21789675951004,
         9.528546534478664,
         10.174002304673195,
         10.430261328816414,
         9.270767487585545,
         9.975923512130976,
         10.644217997789383,
         10.193860918283463,
         9.724456503987312,
         9.465246766805649,
         9.691569074988365,
         10.195677749812603,
         11.06901691108942,
         10.348728455603123,
         10.381979364901781,
         9.88065068423748,
         10.079325810074806,
         10.294473126530647,
         10.201344974339008,
         10.720542147755623,
         10.288211978971958,
         9.349820628762245,
         9.96522219479084,
         10.166021190583706,
         10.456791564822197,
         10.198120452463627,
         10.107624851167202,
         9.939028404653072,
         9.875866055488586,
         10.051938887685537,
         10.07128981500864,
         10.14485116302967,
         9.641795605421066,
         10.274080246686935,
         9.759263694286346,
         9.77839720249176,
         9.815264403820038,
         10.815626814961433,
         9.9593216329813,
         10.282984975725412,
         10.060282304883003,
         10.26755953580141,
         9.811135344207287,
         9.677933931350708,
         10.072697415947914,
         9.867140918970108,
         9.787792038172483,
         10.087176375091076,
         10.384792737662792,
         9.90144431591034,
         10.566166438162327,
         10.28361764922738,
         9.818866640329361,
         9.66039653122425,
         9.308369532227516,
         9.689182072877884,
         10.659310139715672,
         10.180016059428453,
         9.743366874754429,
         9.613128088414669,
         10.374043732881546,
         10.509486831724644,
         10.099052049219608,
         9.531332291662693,
         9.68730217218399,
         10.26795656234026,
         9.878412052989006,
         10.058853536844254,
         10.289707593619823
        ],
        [
         1.1999846983948164,
         1.3015177812516063,
         1.318929033950449,
         1.3205326809917677,
         1.288583327625384,
         1.2242741988756627,
         1.2329185366238051,
         1.2518331787171926,
         1.280673274413803,
         1.3120273961867797,
         1.260739297154206,
         1.3780200410998995,
         1.2991084579668268,
         1.25290678774132,
         1.2539633677251338,
         1.2841434209333882,
         1.2634258533040814,
         1.263046330307752,
         1.2315752584821547,
         1.2747415669962712,
         1.2733587395086576,
         1.220076128284574,
         1.2902884271210624,
         1.3203120230745062,
         1.2280255813252614,
         1.2083834170741312,
         1.2612885707640042,
         1.2324067738248703,
         1.2910283763703838,
         1.2563207836725507,
         1.3064130112961612,
         1.2787801329014115,
         1.1987905832071057,
         1.2855098886049412,
         1.2826223768838207,
         1.183874628376142,
         1.2432139726686935,
         1.3320390857368334,
         1.3487278198958599,
         1.2155946166221987,
         1.186148797723345,
         1.2343759819426314,
         1.2677833295566394,
         1.3847111910778072,
         1.275315190583655,
         1.2838442186171468,
         1.2548364283917381,
         1.2819575911634085,
         1.304530472375818,
         1.296956807521629,
         1.3875077754868426,
         1.2702804994005523,
         1.1835685472730217,
         1.2619334742999573,
         1.2771176442123844,
         1.369349032642102,
         1.2919578856503209,
         1.275565088521586,
         1.2599468825675955,
         1.2690396384178275,
         1.2790486828749708,
         1.262951406964405,
         1.277439104596927,
         1.2218864305695711,
         1.3148642968700035,
         1.2380049112013636,
         1.2181902655036332,
         1.2532076773626917,
         1.3744314772692725,
         1.2399949805105237,
         1.3028272327706387,
         1.235700796315045,
         1.3150429704011195,
         1.218602034259771,
         1.2095763875587797,
         1.2564439461677805,
         1.2544281561412327,
         1.22362322134868,
         1.306696063995129,
         1.3143672431245754,
         1.239810727245694,
         1.313510484905155,
         1.2762167032931155,
         1.2245471096051919,
         1.232156463904374,
         1.2157149177962103,
         1.2333592694717685,
         1.356909109101808,
         1.2559404530999019,
         1.2696962551747586,
         1.214687971217125,
         1.2725364925457874,
         1.3261314548342564,
         1.2528614864094956,
         1.2237126153924736,
         1.2188650300744817,
         1.3156744806448417,
         1.2366330027536134,
         1.2897020991257733,
         1.3240060249794219
        ]
       ],
       "encoder": "json",
       "name": "ABC_GAN_2 Metrics",
       "version": 1
      }
     },
     "metadata": {
      "scrapbook": {
       "data": true,
       "display": false,
       "name": "ABC_GAN_2 Metrics"
      }
     },
     "output_type": "display_data"
    },
    {
     "name": "stdout",
     "output_type": "stream",
     "text": [
      "MAE\n",
      "0.06510425159417384\n"
     ]
    }
   ],
   "source": [
    "ABC_GAN2_metrics=ABC_train_test2.test_generator(gen2,test_data,prior_model,variance,bias,\"1\",device)\n",
    "sb.glue(\"ABC_GAN_2 Metrics\",ABC_GAN2_metrics)\n",
    "\n",
    "print(\"MAE\")\n",
    "print(mean(ABC_GAN2_metrics[1]))"
   ]
  },
  {
   "cell_type": "code",
   "execution_count": 18,
   "id": "f4ef184e",
   "metadata": {
    "execution": {
     "iopub.execute_input": "2022-07-25T12:36:09.295142Z",
     "iopub.status.busy": "2022-07-25T12:36:09.294712Z",
     "iopub.status.idle": "2022-07-25T12:36:10.424817Z",
     "shell.execute_reply": "2022-07-25T12:36:10.423743Z"
    },
    "papermill": {
     "duration": 1.163276,
     "end_time": "2022-07-25T12:36:10.427921",
     "exception": false,
     "start_time": "2022-07-25T12:36:09.264645",
     "status": "completed"
    },
    "tags": []
   },
   "outputs": [
    {
     "data": {
      "image/png": "[encoded data removed]",
      "text/plain": [
       "<Figure size 432x288 with 1 Axes>"
      ]
     },
     "metadata": {
      "needs_background": "light"
     },
     "output_type": "display_data"
    },
    {
     "data": {
      "image/png": "[encoded data removed]",
      "text/plain": [
       "<Figure size 432x288 with 1 Axes>"
      ]
     },
     "metadata": {
      "needs_background": "light"
     },
     "output_type": "display_data"
    },
    {
     "data": {
      "image/png": "[encoded data removed]",
      "text/plain": [
       "<Figure size 432x288 with 1 Axes>"
      ]
     },
     "metadata": {
      "needs_background": "light"
     },
     "output_type": "display_data"
    },
    {
     "data": {
      "image/png": "[encoded data removed]",
      "text/plain": [
       "<Figure size 432x288 with 1 Axes>"
      ]
     },
     "metadata": {
      "needs_background": "light"
     },
     "output_type": "display_data"
    }
   ],
   "source": [
    "sanityChecks.discProbVsError(train_data,disc2,device)\n",
    "sanityChecks.discProbVsError(test_data,disc2,device)"
   ]
  },
  {
   "cell_type": "markdown",
   "id": "130f3a4d",
   "metadata": {
    "id": "130f3a4d",
    "papermill": {
     "duration": 0.033225,
     "end_time": "2022-07-25T12:36:10.494738",
     "exception": false,
     "start_time": "2022-07-25T12:36:10.461513",
     "status": "completed"
    },
    "tags": []
   },
   "source": [
    "# skipGAN Model"
   ]
  },
  {
   "cell_type": "code",
   "execution_count": 19,
   "id": "4e43dad1",
   "metadata": {
    "execution": {
     "iopub.execute_input": "2022-07-25T12:36:10.557277Z",
     "iopub.status.busy": "2022-07-25T12:36:10.556869Z",
     "iopub.status.idle": "2022-07-25T12:36:10.566691Z",
     "shell.execute_reply": "2022-07-25T12:36:10.565783Z"
    },
    "id": "4e43dad1",
    "papermill": {
     "duration": 0.044749,
     "end_time": "2022-07-25T12:36:10.569387",
     "exception": false,
     "start_time": "2022-07-25T12:36:10.524638",
     "status": "completed"
    },
    "tags": []
   },
   "outputs": [],
   "source": [
    "#Generator\n",
    "gen3 = network.GeneratorWithSkipConnection(n_features+1).to(device)\n",
    "constraints=network.weightConstraint()\n",
    "#Discriminator \n",
    "disc3 = network.Discriminator(n_features+1).to(device)\n",
    "\n",
    "criterion = torch.nn.BCELoss()\n",
    "gen_opt = torch.optim.Adam(gen3.parameters(), lr=0.01, betas=(0.5, 0.999))\n",
    "disc_opt = torch.optim.Adam(disc3.parameters(), lr=0.01, betas=(0.5, 0.999))\n"
   ]
  },
  {
   "cell_type": "code",
   "execution_count": 20,
   "id": "26acbc37",
   "metadata": {
    "execution": {
     "iopub.execute_input": "2022-07-25T12:36:10.658358Z",
     "iopub.status.busy": "2022-07-25T12:36:10.657808Z",
     "iopub.status.idle": "2022-07-25T12:46:33.316022Z",
     "shell.execute_reply": "2022-07-25T12:46:33.314984Z"
    },
    "id": "26acbc37",
    "papermill": {
     "duration": 622.716271,
     "end_time": "2022-07-25T12:46:33.318763",
     "exception": false,
     "start_time": "2022-07-25T12:36:10.602492",
     "status": "completed"
    },
    "tags": []
   },
   "outputs": [
    {
     "data": {
      "image/png": "[encoded data removed]",
      "text/plain": [
       "<Figure size 432x288 with 1 Axes>"
      ]
     },
     "metadata": {
      "needs_background": "light"
     },
     "output_type": "display_data"
    },
    {
     "data": {
      "image/png": "[encoded data removed]",
      "text/plain": [
       "<Figure size 432x288 with 1 Axes>"
      ]
     },
     "metadata": {
      "needs_background": "light"
     },
     "output_type": "display_data"
    }
   ],
   "source": [
    "ABC_train_test2.training_GAN_skip_connection(disc3,gen3,disc_opt,gen_opt,train_data,batch_size,n_epochs,criterion,prior_model,variance,bias,device)"
   ]
  },
  {
   "cell_type": "code",
   "execution_count": 21,
   "id": "c5e0717b",
   "metadata": {
    "execution": {
     "iopub.execute_input": "2022-07-25T12:46:33.405380Z",
     "iopub.status.busy": "2022-07-25T12:46:33.403229Z",
     "iopub.status.idle": "2022-07-25T12:46:38.875805Z",
     "shell.execute_reply": "2022-07-25T12:46:38.874705Z"
    },
    "id": "c5e0717b",
    "papermill": {
     "duration": 5.520358,
     "end_time": "2022-07-25T12:46:38.878865",
     "exception": false,
     "start_time": "2022-07-25T12:46:33.358507",
     "status": "completed"
    },
    "tags": []
   },
   "outputs": [
    {
     "data": {
      "application/scrapbook.scrap.json+json": {
       "data": 0.03148716005317587,
       "encoder": "json",
       "name": "ABC-GAN Model 3 MSE",
       "version": 1
      }
     },
     "metadata": {
      "scrapbook": {
       "data": true,
       "display": false,
       "name": "ABC-GAN Model 3 MSE"
      }
     },
     "output_type": "display_data"
    },
    {
     "data": {
      "application/scrapbook.scrap.json+json": {
       "data": 0.1349019721538651,
       "encoder": "json",
       "name": "ABC-GAN Model 3 MAE",
       "version": 1
      }
     },
     "metadata": {
      "scrapbook": {
       "data": true,
       "display": false,
       "name": "ABC-GAN Model 3 MAE"
      }
     },
     "output_type": "display_data"
    },
    {
     "data": {
      "application/scrapbook.scrap.json+json": {
       "data": 20.774903711695224,
       "encoder": "json",
       "name": "ABC-GAN Model 3 Manhattan Distance",
       "version": 1
      }
     },
     "metadata": {
      "scrapbook": {
       "data": true,
       "display": false,
       "name": "ABC-GAN Model 3 Manhattan Distance"
      }
     },
     "output_type": "display_data"
    },
    {
     "data": {
      "application/scrapbook.scrap.json+json": {
       "data": 2.199965283447265,
       "encoder": "json",
       "name": "ABC-GAN Model 3 Euclidean distance",
       "version": 1
      }
     },
     "metadata": {
      "scrapbook": {
       "data": true,
       "display": false,
       "name": "ABC-GAN Model 3 Euclidean distance"
      }
     },
     "output_type": "display_data"
    },
    {
     "data": {
      "application/scrapbook.scrap.json+json": {
       "data": [
        [
         0.03363084731032235,
         0.03427579013504125,
         0.030730118292861385,
         0.02824499816869721,
         0.03137689447246884,
         0.031659035257316226,
         0.030400287432023252,
         0.034810289691392694,
         0.02713620287802765,
         0.03323916269999664,
         0.034501559500320585,
         0.03234715201898431,
         0.030058631325771485,
         0.03550916080173387,
         0.0300072102288001,
         0.030517588654453597,
         0.0317164994483153,
         0.03052059548105439,
         0.029392068849444494,
         0.028496903707992873,
         0.02779640765126606,
         0.030370748054636014,
         0.03321361641418208,
         0.03189465260401987,
         0.027212080190985186,
         0.02824603782506948,
         0.02569186051419167,
         0.033654565183650724,
         0.02933780310205534,
         0.034593302569062304,
         0.03510348396342312,
         0.030035467601532122,
         0.035214106827467076,
         0.02945471391632427,
         0.03440202941305042,
         0.036011200506433784,
         0.031765805356118795,
         0.033329521041096766,
         0.02648275728801547,
         0.030078754107209317,
         0.03286699360213194,
         0.028423041014511388,
         0.030228127226506658,
         0.025698698495828693,
         0.03660176174782661,
         0.027193534726856497,
         0.033246672576778595,
         0.03672652156363351,
         0.032235041926828946,
         0.030864368973631602,
         0.03160125763347616,
         0.03240761348007896,
         0.03388268223427674,
         0.03373757893326745,
         0.03156939572785173,
         0.032716303668282806,
         0.03257525652634308,
         0.03391727180465808,
         0.030298668326707252,
         0.029493863503390727,
         0.03185287275999338,
         0.030233869011641556,
         0.02972094307717427,
         0.03361916377905874,
         0.029954022585085952,
         0.028633706905589577,
         0.03362987922706997,
         0.031885132764805466,
         0.031379157161297945,
         0.029251379541380768,
         0.035156390200275965,
         0.03120690934536681,
         0.029475554522621593,
         0.035097891906851815,
         0.029067920922043015,
         0.032076568485998984,
         0.031090838717865048,
         0.03414753020070918,
         0.031469361699693194,
         0.02988766496533263,
         0.03348172853021108,
         0.030614555729686233,
         0.03864185795200139,
         0.025363855024674527,
         0.02995275250643868,
         0.03072966698782293,
         0.033131622058828296,
         0.02766366994707186,
         0.03099099214376965,
         0.03378267524230682,
         0.028236779599328583,
         0.03654534874138781,
         0.027862395256333054,
         0.03879129886712476,
         0.031145663996112138,
         0.028672873603145615,
         0.030704508528362855,
         0.03238466644428852,
         0.0308110804905033,
         0.03162669171065701
        ],
        [
         0.1445811270560779,
         0.13878433074947302,
         0.13087603625805153,
         0.12568793440987538,
         0.13348874209037462,
         0.13548689434764447,
         0.1371488208072139,
         0.1421912762082436,
         0.12547841397198764,
         0.1395127024598323,
         0.13694758447153227,
         0.13701358102201544,
         0.1320066815151458,
         0.144716328130914,
         0.13381577989497742,
         0.13550351163396587,
         0.13135735019315758,
         0.13538570866569297,
         0.1224308960962218,
         0.1299650218192633,
         0.12609232575088353,
         0.13189610911460667,
         0.139412741418686,
         0.13395667424449673,
         0.12835459253907977,
         0.12876683829182928,
         0.1226742234709975,
         0.14392802266815266,
         0.13462934070932014,
         0.13805749269758727,
         0.1474343202524371,
         0.13259976932948286,
         0.13686958450049935,
         0.13147825196796617,
         0.14066978156953663,
         0.1407880863392508,
         0.13387327827513218,
         0.1370972970186116,
         0.12901633755340206,
         0.12805721841075204,
         0.13313525586159197,
         0.12422594933637551,
         0.13020275625122057,
         0.12449064359746197,
         0.13806939507266144,
         0.1240308778723339,
         0.1375081797868207,
         0.14087023661024384,
         0.1387982772929328,
         0.1329629911932272,
         0.13446323282097455,
         0.13711660510146773,
         0.13658162690215297,
         0.1356111111772525,
         0.13613419520196976,
         0.13801835913985194,
         0.14367785839388122,
         0.140056243601751,
         0.13163677898126763,
         0.1349876282778992,
         0.13329236427104318,
         0.1326432897431123,
         0.13898560923657247,
         0.14242414681410248,
         0.13099019268116394,
         0.12871001417712344,
         0.1443383049268227,
         0.139312350324222,
         0.13061401908370582,
         0.13064383138454966,
         0.14244539479350116,
         0.13842048769357143,
         0.1291763002125474,
         0.1420042518913359,
         0.1302815309012091,
         0.13238221536354197,
         0.1323278071237849,
         0.14296623943494513,
         0.1360262753804783,
         0.13161885652497604,
         0.14094232129199163,
         0.12950282098798008,
         0.15245874581689184,
         0.12191652782358132,
         0.13310894312022567,
         0.135053971080811,
         0.13809460489829253,
         0.12749661626173303,
         0.13572927523863973,
         0.13549202501580312,
         0.12967411450461133,
         0.14459101154239146,
         0.1289077504332383,
         0.15063921842941796,
         0.14038777663432933,
         0.12736203857733833,
         0.13658057080654354,
         0.13371564584554402,
         0.13712365443927127,
         0.13120689027785482
        ],
        [
         22.265493566635996,
         21.372786935418844,
         20.154909583739936,
         19.355941899120808,
         20.55726628191769,
         20.86498172953725,
         21.12091840431094,
         21.897456536069512,
         19.323675751686096,
         21.484956178814173,
         21.08992800861597,
         21.10009147739038,
         20.329028953332454,
         22.28631453216076,
         20.607630103826523,
         20.867540791630745,
         20.22903192974627,
         20.849399134516716,
         18.85435799881816,
         20.01461336016655,
         19.418218165636063,
         20.312000803649426,
         21.469562178477645,
         20.629327833652496,
         19.766607251018286,
         19.83009309694171,
         18.891830414533615,
         22.16491549089551,
         20.7329184692353,
         21.260853875428438,
         22.704885318875313,
         20.42036447674036,
         21.0779160130769,
         20.24765080306679,
         21.66314636170864,
         21.68136529624462,
         20.616484854370356,
         21.112983740866184,
         19.868515983223915,
         19.720811635255814,
         20.502829402685165,
         19.13079619780183,
         20.05122446268797,
         19.171559114009142,
         21.26268684118986,
         19.10075519233942,
         21.176259687170386,
         21.694016437977552,
         21.37493470311165,
         20.476300643756986,
         20.70733785443008,
         21.11595718562603,
         21.033570542931557,
         20.884111121296883,
         20.964666061103344,
         21.254827307537198,
         22.12639019265771,
         21.568661514669657,
         20.272063963115215,
         20.788094754796475,
         20.52702409774065,
         20.42706662043929,
         21.40378382243216,
         21.93331860937178,
         20.172489672899246,
         19.82134218327701,
         22.228098958730698,
         21.45410194993019,
         20.114558938890696,
         20.11915003322065,
         21.936590798199177,
         21.31675510481,
         19.893150232732296,
         21.868654791265726,
         20.0633557587862,
         20.386861165985465,
         20.378482297062874,
         22.01680087298155,
         20.948046408593655,
         20.26930390484631,
         21.705117478966713,
         19.943434432148933,
         23.478646855801344,
         18.775145284831524,
         20.498777240514755,
         20.798311546444893,
         21.26656915433705,
         19.63447890430689,
         20.90230838675052,
         20.86577185243368,
         19.969813633710146,
         22.267015777528286,
         19.851793566718698,
         23.198439638130367,
         21.619717601686716,
         19.6137539409101,
         21.033407904207706,
         20.59220946021378,
         21.117042783647776,
         20.20586110278964
        ],
        [
         2.275774700138316,
         2.2974924767659965,
         2.1754167915828573,
         2.0856005652999254,
         2.1981905624308826,
         2.208051500673546,
         2.1637107626786856,
         2.3153368248430883,
         2.0442542022009538,
         2.262483382436097,
         2.3050466726401377,
         2.231918773370479,
         2.1515178884147836,
         2.338463333787172,
         2.1496768071585124,
         2.16788114360217,
         2.2100545049931584,
         2.1679879390998407,
         2.1275287548737034,
         2.0948802283259305,
         2.068972396697204,
         2.1626592890268097,
         2.261613788378564,
         2.216252806206697,
         2.0471102435901485,
         2.0856389488741094,
         1.9891069652448348,
         2.276577044222798,
         2.1255638493624516,
         2.3081093118904907,
         2.325066994812657,
         2.1506887293692567,
         2.3287276464691895,
         2.1297948124441324,
         2.301719472396618,
         2.3549362789661217,
         2.211771693652465,
         2.2655564968300617,
         2.0194911790731798,
         2.15223793584962,
         2.249781548223809,
         2.092163549112438,
         2.157575396801239,
         1.9893716516422009,
         2.374167498127564,
         2.0464125556534047,
         2.2627389546352674,
         2.3782103188741655,
         2.2280476782895953,
         2.1801634851403384,
         2.206035737597043,
         2.2340036875377263,
         2.284279550334989,
         2.2793830647179925,
         2.2049233415448177,
         2.244618177979398,
         2.239774431735668,
         2.285445220939969,
         2.160091415267631,
         2.131209745548798,
         2.2148007596709416,
         2.157780301094808,
         2.139398334552226,
         2.2753793578159764,
         2.1477708160097615,
         2.099902584278803,
         2.2757419451617915,
         2.2159220306184153,
         2.1982698202995654,
         2.1224307878874726,
         2.3268184481911125,
         2.192228099260314,
         2.1305481446059193,
         2.3248817934800856,
         2.115764595127403,
         2.2225641828401366,
         2.1881474270604384,
         2.293189841881656,
         2.201427196559712,
         2.1453905016712516,
         2.2707237158343383,
         2.1713225422243654,
         2.4394356159997774,
         1.9763688101667352,
         2.147725281778737,
         2.1754008173494674,
         2.2588204437403956,
         2.0640264464994305,
         2.1846310421076884,
         2.2809059575780957,
         2.085297115112521,
         2.3723371822263633,
         2.0714267714489187,
         2.444148118575716,
         2.1900758560838183,
         2.1013382723598846,
         2.1745101318154116,
         2.233212625886848,
         2.1782806053255643,
         2.2069233161669164
        ]
       ],
       "encoder": "json",
       "name": "ABC_GAN_3 Metrics",
       "version": 1
      }
     },
     "metadata": {
      "scrapbook": {
       "data": true,
       "display": false,
       "name": "ABC_GAN_3 Metrics"
      }
     },
     "output_type": "display_data"
    },
    {
     "name": "stdout",
     "output_type": "stream",
     "text": [
      "MAE\n",
      "0.1349019721538651\n"
     ]
    }
   ],
   "source": [
    "ABC_GAN3_metrics=ABC_train_test2.test_generator(gen3,test_data,prior_model,variance,bias,\"3\",device)\n",
    "sb.glue(\"ABC_GAN_3 Metrics\",ABC_GAN3_metrics)\n",
    "\n",
    "print(\"MAE\")\n",
    "print(mean(ABC_GAN3_metrics[1]))"
   ]
  },
  {
   "cell_type": "code",
   "execution_count": 22,
   "id": "c8e46b48",
   "metadata": {
    "execution": {
     "iopub.execute_input": "2022-07-25T12:46:38.954122Z",
     "iopub.status.busy": "2022-07-25T12:46:38.953442Z",
     "iopub.status.idle": "2022-07-25T12:46:40.430290Z",
     "shell.execute_reply": "2022-07-25T12:46:40.429328Z"
    },
    "id": "c8e46b48",
    "papermill": {
     "duration": 1.518293,
     "end_time": "2022-07-25T12:46:40.433860",
     "exception": false,
     "start_time": "2022-07-25T12:46:38.915567",
     "status": "completed"
    },
    "tags": []
   },
   "outputs": [
    {
     "data": {
      "image/png": "[encoded data removed]",
      "text/plain": [
       "<Figure size 432x288 with 1 Axes>"
      ]
     },
     "metadata": {
      "needs_background": "light"
     },
     "output_type": "display_data"
    },
    {
     "data": {
      "image/png": "[encoded data removed]",
      "text/plain": [
       "<Figure size 432x288 with 1 Axes>"
      ]
     },
     "metadata": {
      "needs_background": "light"
     },
     "output_type": "display_data"
    },
    {
     "data": {
      "image/png": "[encoded data removed]",
      "text/plain": [
       "<Figure size 432x288 with 1 Axes>"
      ]
     },
     "metadata": {
      "needs_background": "light"
     },
     "output_type": "display_data"
    },
    {
     "data": {
      "image/png": "[encoded data removed]",
      "text/plain": [
       "<Figure size 432x288 with 1 Axes>"
      ]
     },
     "metadata": {
      "needs_background": "light"
     },
     "output_type": "display_data"
    }
   ],
   "source": [
    "sanityChecks.discProbVsError(train_data,disc3,device)\n",
    "sanityChecks.discProbVsError(test_data,disc3,device)"
   ]
  },
  {
   "cell_type": "markdown",
   "id": "21617d8b",
   "metadata": {
    "id": "130f3a4d",
    "papermill": {
     "duration": 0.064993,
     "end_time": "2022-07-25T12:46:40.561945",
     "exception": false,
     "start_time": "2022-07-25T12:46:40.496952",
     "status": "completed"
    },
    "tags": []
   },
   "source": [
    "# skipGAN Model with TabNet Generator"
   ]
  },
  {
   "cell_type": "code",
   "execution_count": 23,
   "id": "05e40c7c",
   "metadata": {
    "execution": {
     "iopub.execute_input": "2022-07-25T12:46:40.652734Z",
     "iopub.status.busy": "2022-07-25T12:46:40.650486Z",
     "iopub.status.idle": "2022-07-25T12:46:40.708653Z",
     "shell.execute_reply": "2022-07-25T12:46:40.700706Z"
    },
    "id": "4e43dad1",
    "papermill": {
     "duration": 0.128582,
     "end_time": "2022-07-25T12:46:40.728695",
     "exception": false,
     "start_time": "2022-07-25T12:46:40.600113",
     "status": "completed"
    },
    "tags": []
   },
   "outputs": [],
   "source": [
    "#Generator\n",
    "gen4 = network.GeneratorTabnetskipConnection(n_features+1).to(device)\n",
    "constraints=network.weightConstraint()\n",
    "#Discriminator \n",
    "disc4 = network.Discriminator(n_features+1).to(device)\n",
    "\n",
    "criterion = torch.nn.BCELoss()\n",
    "gen_opt = torch.optim.Adam(gen4.parameters(), lr=0.01, betas=(0.5, 0.999))\n",
    "disc_opt = torch.optim.Adam(disc4.parameters(), lr=0.01, betas=(0.5, 0.999))\n"
   ]
  },
  {
   "cell_type": "code",
   "execution_count": 24,
   "id": "ac357a83",
   "metadata": {
    "execution": {
     "iopub.execute_input": "2022-07-25T12:46:40.867991Z",
     "iopub.status.busy": "2022-07-25T12:46:40.866399Z",
     "iopub.status.idle": "2022-07-25T13:17:22.221258Z",
     "shell.execute_reply": "2022-07-25T13:17:22.199037Z"
    },
    "id": "26acbc37",
    "papermill": {
     "duration": 1841.417781,
     "end_time": "2022-07-25T13:17:22.232083",
     "exception": false,
     "start_time": "2022-07-25T12:46:40.814302",
     "status": "completed"
    },
    "tags": []
   },
   "outputs": [
    {
     "data": {
      "image/png": "[encoded data removed]",
      "text/plain": [
       "<Figure size 432x288 with 1 Axes>"
      ]
     },
     "metadata": {
      "needs_background": "light"
     },
     "output_type": "display_data"
    },
    {
     "data": {
      "image/png": "[encoded data removed]",
      "text/plain": [
       "<Figure size 432x288 with 1 Axes>"
      ]
     },
     "metadata": {
      "needs_background": "light"
     },
     "output_type": "display_data"
    }
   ],
   "source": [
    "ABC_train_test2.training_GAN_skip_connection(disc4,gen4,disc_opt,gen_opt,train_data,batch_size,n_epochs,criterion,prior_model,variance,bias,device)"
   ]
  },
  {
   "cell_type": "code",
   "execution_count": 25,
   "id": "2cb45088",
   "metadata": {
    "execution": {
     "iopub.execute_input": "2022-07-25T13:17:23.578037Z",
     "iopub.status.busy": "2022-07-25T13:17:23.576958Z",
     "iopub.status.idle": "2022-07-25T13:17:46.412867Z",
     "shell.execute_reply": "2022-07-25T13:17:46.402297Z"
    },
    "id": "c5e0717b",
    "papermill": {
     "duration": 24.132271,
     "end_time": "2022-07-25T13:17:46.417604",
     "exception": false,
     "start_time": "2022-07-25T13:17:22.285333",
     "status": "completed"
    },
    "tags": []
   },
   "outputs": [
    {
     "data": {
      "application/scrapbook.scrap.json+json": {
       "data": 0.007800220286925393,
       "encoder": "json",
       "name": "ABC-GAN Model 3 MSE",
       "version": 1
      }
     },
     "metadata": {
      "scrapbook": {
       "data": true,
       "display": false,
       "name": "ABC-GAN Model 3 MSE"
      }
     },
     "output_type": "display_data"
    },
    {
     "data": {
      "application/scrapbook.scrap.json+json": {
       "data": 0.06526376578984623,
       "encoder": "json",
       "name": "ABC-GAN Model 3 MAE",
       "version": 1
      }
     },
     "metadata": {
      "scrapbook": {
       "data": true,
       "display": false,
       "name": "ABC-GAN Model 3 MAE"
      }
     },
     "output_type": "display_data"
    },
    {
     "data": {
      "application/scrapbook.scrap.json+json": {
       "data": 10.05061993163632,
       "encoder": "json",
       "name": "ABC-GAN Model 3 Manhattan Distance",
       "version": 1
      }
     },
     "metadata": {
      "scrapbook": {
       "data": true,
       "display": false,
       "name": "ABC-GAN Model 3 Manhattan Distance"
      }
     },
     "output_type": "display_data"
    },
    {
     "data": {
      "application/scrapbook.scrap.json+json": {
       "data": 1.0940540490356427,
       "encoder": "json",
       "name": "ABC-GAN Model 3 Euclidean distance",
       "version": 1
      }
     },
     "metadata": {
      "scrapbook": {
       "data": true,
       "display": false,
       "name": "ABC-GAN Model 3 Euclidean distance"
      }
     },
     "output_type": "display_data"
    },
    {
     "data": {
      "application/scrapbook.scrap.json+json": {
       "data": [
        [
         0.005994650526904347,
         0.007192046119102609,
         0.008319562482874602,
         0.009600017812608932,
         0.0073514580041114394,
         0.007879260889804384,
         0.009334590653146837,
         0.00680500773695458,
         0.008381400568144851,
         0.008583663208414112,
         0.00935063398691586,
         0.007070517901855176,
         0.007071957132816654,
         0.006751613602495238,
         0.008030679401650632,
         0.007812598335907722,
         0.008077751007280429,
         0.0075007825419525,
         0.009239777975660847,
         0.007036279065450938,
         0.006384538755358799,
         0.008450459082503038,
         0.01065326034489401,
         0.007401243574492379,
         0.007966222823253677,
         0.006202964236162998,
         0.008777557318396172,
         0.0071194388214293825,
         0.008196834580590532,
         0.0077547923845391635,
         0.008663307234163786,
         0.008429546782362858,
         0.008829383691081279,
         0.00630980552073826,
         0.006904641636185092,
         0.009187025514615596,
         0.008931845342726246,
         0.008052840203158716,
         0.008502036904997892,
         0.007593899589364955,
         0.006752358450176606,
         0.008014691682009373,
         0.007638385211224111,
         0.008656416909997453,
         0.007252982909198006,
         0.008594511101649707,
         0.008826898115216976,
         0.009677851759471296,
         0.007578422269240559,
         0.008264268034354953,
         0.007361018136799845,
         0.008345029317901036,
         0.007836179050624278,
         0.006371045547960784,
         0.007681725010249204,
         0.007542686329169437,
         0.0072645140708030445,
         0.007516431765555326,
         0.007745352296645483,
         0.006561058632931037,
         0.00810156573427285,
         0.006759546535014398,
         0.0071429934679104815,
         0.00703609946810227,
         0.007847574310733732,
         0.007338964073739595,
         0.007973470970650638,
         0.007258177223656402,
         0.008280610266879125,
         0.008739007805760007,
         0.007384450050652012,
         0.0077764525183767925,
         0.007885111118409388,
         0.008463198143852586,
         0.007055034172185898,
         0.007278172413674958,
         0.007427716443635604,
         0.008594096817362019,
         0.008017227362820902,
         0.009258861722921122,
         0.008995233942717529,
         0.007357401776512941,
         0.006914783801556653,
         0.006738979047072091,
         0.006672186690997881,
         0.007588497908769759,
         0.00827046099772332,
         0.006192261207326219,
         0.00812887863860748,
         0.0062895843883941345,
         0.010141009292871508,
         0.00812486687705494,
         0.006597453557976233,
         0.006046028052867836,
         0.007486326681842215,
         0.009160435439191329,
         0.008085619089628845,
         0.006460119304790379,
         0.007854415966532193,
         0.008121435513249052
        ],
        [
         0.0568132091120079,
         0.06416756878062696,
         0.06895297770569851,
         0.0728522434395242,
         0.06367299942807718,
         0.06904069905157213,
         0.07020496509291908,
         0.058589539111156455,
         0.07360592211729713,
         0.0663708085073279,
         0.07515281302152903,
         0.0601986220904759,
         0.060071345575927915,
         0.060612377166361,
         0.06619433584538373,
         0.0657193387840427,
         0.06886279179001009,
         0.06291513261082884,
         0.06950319201576632,
         0.06085346496434181,
         0.060790850236624866,
         0.06722020817460952,
         0.07634432848494549,
         0.061778891880016826,
         0.06475827301090414,
         0.05855348002310697,
         0.06796256561352351,
         0.06109545766920239,
         0.06645267135040327,
         0.06701667396375885,
         0.07105939356344086,
         0.06584597333007819,
         0.07175105300659386,
         0.05993078678072273,
         0.06077613055028699,
         0.0714739685418544,
         0.06955675739649829,
         0.0667883741399863,
         0.06974102401888216,
         0.062085437842390755,
         0.06216830687669964,
         0.06419166381313622,
         0.06716910144918925,
         0.0681165067430634,
         0.06380686086493653,
         0.06781913906747064,
         0.06726378282266003,
         0.07201321190827853,
         0.06497206907816135,
         0.0687362633210111,
         0.06234204420795689,
         0.06801566123575359,
         0.06590709358744033,
         0.061325943448230044,
         0.06580568866973574,
         0.06673809184462993,
         0.06349737313273665,
         0.06545276789889708,
         0.06328812599569172,
         0.0592085782728799,
         0.06757182285625052,
         0.06270369606745707,
         0.06316392222878994,
         0.06210324422202327,
         0.06590193708415155,
         0.06251240582144879,
         0.06764503461369253,
         0.061350131673472266,
         0.06696271055752968,
         0.06743146851658821,
         0.06766213094452758,
         0.06474474011073736,
         0.06554661504773109,
         0.06658768963504147,
         0.06124294491170289,
         0.06397454387375287,
         0.06506435362646332,
         0.06709403242286924,
         0.06609734411460239,
         0.06987387087050971,
         0.06749947942406326,
         0.06400825487232054,
         0.06302175160449047,
         0.06013580590680048,
         0.05956177274974716,
         0.06170067670089858,
         0.06268505459536447,
         0.05873161847037928,
         0.06781165991220381,
         0.057318551925482686,
         0.07092767012874027,
         0.06596545809758948,
         0.05980634813910568,
         0.059462299594631444,
         0.06471271031572447,
         0.07316830551082437,
         0.06565299977294424,
         0.06352504763099087,
         0.06633527862367691,
         0.06593627578203941
        ],
        [
         8.749234203249216,
         9.881805592216551,
         10.61875856667757,
         11.219245489686728,
         9.805641911923885,
         10.632267653942108,
         10.81156462430954,
         9.022789023118094,
         11.33531200606376,
         10.221104510128498,
         11.57353320531547,
         9.270587801933289,
         9.250987218692899,
         9.334306083619595,
         10.193927720189095,
         10.120778172742575,
         10.604869935661554,
         9.688930422067642,
         10.703491570428014,
         9.371433604508638,
         9.36179093644023,
         10.351912058889866,
         11.757026586681604,
         9.51394934952259,
         9.972774043679237,
         9.017235923558474,
         10.466235104482621,
         9.408700481057167,
         10.233711387962103,
         10.320567790418863,
         10.943146608769894,
         10.14027989283204,
         11.049662163015455,
         9.2293411642313,
         9.359524104744196,
         11.006991155445576,
         10.711740639060736,
         10.285409617557889,
         10.740117698907852,
         9.561157427728176,
         9.573919259011745,
         9.885516227222979,
         10.344041623175144,
         10.489942038431764,
         9.826256573200226,
         10.444147416390479,
         10.358622554689646,
         11.090034633874893,
         10.005698638036847,
         10.585384551435709,
         9.60067480802536,
         10.474411830306053,
         10.14969241246581,
         9.444195291027427,
         10.134076055139303,
         10.27766614407301,
         9.778595462441444,
         10.079726256430149,
         9.746371403336525,
         9.118121054023504,
         10.40606071986258,
         9.65636919438839,
         9.727244023233652,
         9.563899610191584,
         10.14889831095934,
         9.626910496503115,
         10.41733533050865,
         9.44792027771473,
         10.31225742585957,
         10.384446151554585,
         10.419968165457249,
         9.970689977053553,
         10.094178717350587,
         10.254504203796387,
         9.431413516402245,
         9.852079756557941,
         10.019910458475351,
         10.332480993121862,
         10.178990993648767,
         10.760576114058495,
         10.394919831305742,
         9.857271250337362,
         9.705349747091532,
         9.260914109647274,
         9.172513003461063,
         9.501904211938381,
         9.65349840768613,
         9.04466924443841,
         10.442995626479387,
         8.827056996524334,
         10.922861199826002,
         10.15868054702878,
         9.210177613422275,
         9.157194137573242,
         9.965757388621569,
         11.267919048666954,
         10.110561965033412,
         9.782857335172594,
         10.215632908046246,
         10.15418647043407
        ],
        [
         0.9608205769774446,
         1.0524139405869735,
         1.1319066314686423,
         1.215895860319368,
         1.0640134081077932,
         1.101547174219005,
         1.198969124116469,
         1.0237046407489834,
         1.136105491358222,
         1.1497322010345596,
         1.1999990141600294,
         1.0434844305909394,
         1.0435906278104286,
         1.0196805846853545,
         1.1120812145945984,
         1.096877451554999,
         1.1153356692588945,
         1.074765328553487,
         1.1928645389363246,
         1.040954838635877,
         0.9915739853007718,
         1.1407763578832917,
         1.2808599037809238,
         1.067610186571778,
         1.1076092789341674,
         0.9773722383867376,
         1.162645185356655,
         1.0470881426604566,
         1.1235268245177514,
         1.0928119816414126,
         1.155053814357246,
         1.1393639473337218,
         1.166072505647276,
         0.9857535443475169,
         1.0311715725195805,
         1.1894544670775766,
         1.1728189045116222,
         1.113614561366024,
         1.1442524561344298,
         1.0814159869181716,
         1.0197368294453217,
         1.1109736806195922,
         1.0845788687451519,
         1.1545943894457515,
         1.0568629845048472,
         1.1504584780225904,
         1.1659083624982771,
         1.2208149618015744,
         1.0803133940959198,
         1.1281388555008036,
         1.0647050263181705,
         1.1336377353267486,
         1.0985315533912254,
         0.9905256253050502,
         1.087651438457366,
         1.0777632832362092,
         1.0577027781487902,
         1.0758859102597822,
         1.092146626457915,
         1.0051880567691698,
         1.1169785687639753,
         1.0202794550475949,
         1.0488188566469492,
         1.0409415536367783,
         1.0993299977045086,
         1.063108869004439,
         1.1081130490523963,
         1.057241359597271,
         1.1292537275118402,
         1.160089307806533,
         1.0663982876019682,
         1.0943370997229447,
         1.1019560391572096,
         1.1416358938616542,
         1.0423412409171136,
         1.0586966287402373,
         1.0695178036479258,
         1.1504307497080175,
         1.1111494111389426,
         1.1940957689104559,
         1.176973248284981,
         1.0644434572033372,
         1.031928633888858,
         1.0187260540739604,
         1.0136650089717378,
         1.0810313029466552,
         1.128561470921895,
         0.9765286610889808,
         1.1188598260486218,
         0.9841727469365816,
         1.2496861330358964,
         1.1185837023068328,
         1.0079721464050184,
         0.9649291788217654,
         1.0737291599857486,
         1.1877318963619126,
         1.1158787298819,
         0.9974258734049957,
         1.0998091010925295,
         1.1183474724075493
        ]
       ],
       "encoder": "json",
       "name": "ABC_GAN_4 Metrics",
       "version": 1
      }
     },
     "metadata": {
      "scrapbook": {
       "data": true,
       "display": false,
       "name": "ABC_GAN_4 Metrics"
      }
     },
     "output_type": "display_data"
    },
    {
     "name": "stdout",
     "output_type": "stream",
     "text": [
      "MAE\n",
      "0.06526376578984623\n"
     ]
    }
   ],
   "source": [
    "ABC_GAN4_metrics=ABC_train_test2.test_generator(gen4,test_data,prior_model,variance,bias,\"3\",device)\n",
    "sb.glue(\"ABC_GAN_4 Metrics\",ABC_GAN4_metrics)\n",
    "\n",
    "print(\"MAE\")\n",
    "print(mean(ABC_GAN4_metrics[1]))"
   ]
  },
  {
   "cell_type": "code",
   "execution_count": 26,
   "id": "3cebf5ad",
   "metadata": {
    "execution": {
     "iopub.execute_input": "2022-07-25T13:17:46.607563Z",
     "iopub.status.busy": "2022-07-25T13:17:46.606513Z",
     "iopub.status.idle": "2022-07-25T13:17:50.513970Z",
     "shell.execute_reply": "2022-07-25T13:17:50.510870Z"
    },
    "id": "c8e46b48",
    "papermill": {
     "duration": 4.050444,
     "end_time": "2022-07-25T13:17:50.522904",
     "exception": false,
     "start_time": "2022-07-25T13:17:46.472460",
     "status": "completed"
    },
    "tags": []
   },
   "outputs": [
    {
     "data": {
      "image/png": "[encoded data removed]",
      "text/plain": [
       "<Figure size 432x288 with 1 Axes>"
      ]
     },
     "metadata": {
      "needs_background": "light"
     },
     "output_type": "display_data"
    },
    {
     "data": {
      "image/png": "[encoded data removed]",
      "text/plain": [
       "<Figure size 432x288 with 1 Axes>"
      ]
     },
     "metadata": {
      "needs_background": "light"
     },
     "output_type": "display_data"
    },
    {
     "data": {
      "image/png": "[encoded data removed]",
      "text/plain": [
       "<Figure size 432x288 with 1 Axes>"
      ]
     },
     "metadata": {
      "needs_background": "light"
     },
     "output_type": "display_data"
    },
    {
     "data": {
      "image/png": "[encoded data removed]",
      "text/plain": [
       "<Figure size 432x288 with 1 Axes>"
      ]
     },
     "metadata": {
      "needs_background": "light"
     },
     "output_type": "display_data"
    }
   ],
   "source": [
    "sanityChecks.discProbVsError(train_data,disc4,device)\n",
    "sanityChecks.discProbVsError(test_data,disc4,device)"
   ]
  },
  {
   "cell_type": "markdown",
   "id": "a5bd74c3",
   "metadata": {
    "id": "a5bd74c3",
    "papermill": {
     "duration": 0.103712,
     "end_time": "2022-07-25T13:17:50.693847",
     "exception": false,
     "start_time": "2022-07-25T13:17:50.590135",
     "status": "completed"
    },
    "tags": []
   },
   "source": [
    "## Skip Connection Model Analysis - ABC-GAN "
   ]
  },
  {
   "cell_type": "markdown",
   "id": "5744a8bf",
   "metadata": {
    "id": "5744a8bf",
    "papermill": {
     "duration": 0.16947,
     "end_time": "2022-07-25T13:17:51.047697",
     "exception": false,
     "start_time": "2022-07-25T13:17:50.878227",
     "status": "completed"
    },
    "tags": []
   },
   "source": [
    "### Weight Analysis \n",
    "\n",
    "Study the weights of the skip connection layer\n",
    "\n",
    "Equation of the skip connection is \n",
    "\n",
    "$output = y_{gan} * w + y_{abc} * (1-w)$"
   ]
  },
  {
   "cell_type": "code",
   "execution_count": 27,
   "id": "52c31dea",
   "metadata": {
    "execution": {
     "iopub.execute_input": "2022-07-25T13:17:51.344089Z",
     "iopub.status.busy": "2022-07-25T13:17:51.342724Z",
     "iopub.status.idle": "2022-07-25T13:17:51.394625Z",
     "shell.execute_reply": "2022-07-25T13:17:51.393272Z"
    },
    "id": "52c31dea",
    "papermill": {
     "duration": 0.207733,
     "end_time": "2022-07-25T13:17:51.412757",
     "exception": false,
     "start_time": "2022-07-25T13:17:51.205024",
     "status": "completed"
    },
    "tags": []
   },
   "outputs": [
    {
     "name": "stdout",
     "output_type": "stream",
     "text": [
      "Weight of the node at skip connection\n",
      "Parameter containing:\n",
      "tensor([[0.0665]], requires_grad=True)\n"
     ]
    },
    {
     "data": {
      "application/scrapbook.scrap.json+json": {
       "data": 0.06645713746547699,
       "encoder": "json",
       "name": "Skip Connection Weight",
       "version": 1
      }
     },
     "metadata": {
      "scrapbook": {
       "data": true,
       "display": false,
       "name": "Skip Connection Weight"
      }
     },
     "output_type": "display_data"
    }
   ],
   "source": [
    "print(\"Weight of the node at skip connection\")\n",
    "for name,param in gen3.named_parameters():\n",
    "    if(name == \"skipNode.weight\"):\n",
    "        print(param)\n",
    "        sb.glue(\"Skip Connection Weight\",param.item())"
   ]
  },
  {
   "cell_type": "markdown",
   "id": "f76a444c",
   "metadata": {
    "id": "a5bd74c3",
    "papermill": {
     "duration": 0.14142,
     "end_time": "2022-07-25T13:17:51.790442",
     "exception": false,
     "start_time": "2022-07-25T13:17:51.649022",
     "status": "completed"
    },
    "tags": []
   },
   "source": [
    "## skipGAN Model Analysis (TabNet Generator) "
   ]
  },
  {
   "cell_type": "markdown",
   "id": "deee8f03",
   "metadata": {
    "id": "5744a8bf",
    "papermill": {
     "duration": 0.169765,
     "end_time": "2022-07-25T13:17:52.077990",
     "exception": false,
     "start_time": "2022-07-25T13:17:51.908225",
     "status": "completed"
    },
    "tags": []
   },
   "source": [
    "### Weight Analysis \n",
    "\n",
    "Study the weights of the skip connection layer\n",
    "\n",
    "Equation of the skip connection is \n",
    "\n",
    "$output = y_{gan} * w + y_{abc} * (1-w)$"
   ]
  },
  {
   "cell_type": "code",
   "execution_count": 28,
   "id": "b0235f6e",
   "metadata": {
    "execution": {
     "iopub.execute_input": "2022-07-25T13:17:52.385718Z",
     "iopub.status.busy": "2022-07-25T13:17:52.385326Z",
     "iopub.status.idle": "2022-07-25T13:17:52.400613Z",
     "shell.execute_reply": "2022-07-25T13:17:52.399569Z"
    },
    "id": "52c31dea",
    "papermill": {
     "duration": 0.144642,
     "end_time": "2022-07-25T13:17:52.405746",
     "exception": false,
     "start_time": "2022-07-25T13:17:52.261104",
     "status": "completed"
    },
    "tags": []
   },
   "outputs": [
    {
     "name": "stdout",
     "output_type": "stream",
     "text": [
      "Weight of the node at skip connection\n",
      "Parameter containing:\n",
      "tensor([[0.1287]], requires_grad=True)\n"
     ]
    },
    {
     "data": {
      "application/scrapbook.scrap.json+json": {
       "data": 0.12872301042079926,
       "encoder": "json",
       "name": "Skip Connection Weight",
       "version": 1
      }
     },
     "metadata": {
      "scrapbook": {
       "data": true,
       "display": false,
       "name": "Skip Connection Weight"
      }
     },
     "output_type": "display_data"
    }
   ],
   "source": [
    "print(\"Weight of the node at skip connection\")\n",
    "for name,param in gen4.named_parameters():\n",
    "    if(name == \"skipNode.weight\"):\n",
    "        print(param)\n",
    "        sb.glue(\"Skip Connection Weight\",param.item())"
   ]
  }
 ],
 "metadata": {
  "colab": {
   "collapsed_sections": [],
   "name": "ABC_GAN_Model-Catboost_Pre-gen.ipynb",
   "provenance": []
  },
  "interpreter": {
   "hash": "31f2aee4e71d21fbe5cf8b01ff0e069b9275f58929596ceb00d14d90e3e16cd6"
  },
  "kernelspec": {
   "display_name": "Python 3 (ipykernel)",
   "language": "python",
   "name": "python3"
  },
  "language_info": {
   "codemirror_mode": {
    "name": "ipython",
    "version": 3
   },
   "file_extension": ".py",
   "mimetype": "text/x-python",
   "name": "python",
   "nbconvert_exporter": "python",
   "pygments_lexer": "ipython3",
   "version": "3.8.13"
  },
  "papermill": {
   "default_parameters": {},
   "duration": 4081.209915,
   "end_time": "2022-07-25T13:17:55.389078",
   "environment_variables": {},
   "exception": null,
   "input_path": "ABC_GAN-TabNet.ipynb",
   "output_path": "./ABC_GAN_TabNet/ABC-GAN_output_1_10.ipynb",
   "parameters": {
    "bias": 0,
    "variance": 0.1
   },
   "start_time": "2022-07-25T12:09:54.179163",
   "version": "2.3.3"
  }
 },
 "nbformat": 4,
 "nbformat_minor": 5
}