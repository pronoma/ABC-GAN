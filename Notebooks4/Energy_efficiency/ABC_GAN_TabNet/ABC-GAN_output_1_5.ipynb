{
 "cells": [
  {
   "cell_type": "markdown",
   "id": "622780e6",
   "metadata": {
    "id": "622780e6",
    "papermill": {
     "duration": 0.010257,
     "end_time": "2022-07-25T12:15:06.797365",
     "exception": false,
     "start_time": "2022-07-25T12:15:06.787108",
     "status": "completed"
    },
    "tags": []
   },
   "source": [
    "## Import Libraries "
   ]
  },
  {
   "cell_type": "code",
   "execution_count": 1,
   "id": "a62397e3",
   "metadata": {
    "execution": {
     "iopub.execute_input": "2022-07-25T12:15:06.819257Z",
     "iopub.status.busy": "2022-07-25T12:15:06.818742Z",
     "iopub.status.idle": "2022-07-25T12:15:06.846955Z",
     "shell.execute_reply": "2022-07-25T12:15:06.841178Z"
    },
    "id": "a62397e3",
    "papermill": {
     "duration": 0.043759,
     "end_time": "2022-07-25T12:15:06.850077",
     "exception": false,
     "start_time": "2022-07-25T12:15:06.806318",
     "status": "completed"
    },
    "tags": []
   },
   "outputs": [],
   "source": [
    "import warnings\n",
    "import sys\n",
    "sys.path.insert(0, '../../src')\n",
    "warnings.filterwarnings('ignore')"
   ]
  },
  {
   "cell_type": "code",
   "execution_count": 2,
   "id": "d6a4e155",
   "metadata": {
    "execution": {
     "iopub.execute_input": "2022-07-25T12:15:06.866432Z",
     "iopub.status.busy": "2022-07-25T12:15:06.865944Z",
     "iopub.status.idle": "2022-07-25T12:15:12.933034Z",
     "shell.execute_reply": "2022-07-25T12:15:12.932194Z"
    },
    "id": "d6a4e155",
    "papermill": {
     "duration": 6.079168,
     "end_time": "2022-07-25T12:15:12.936096",
     "exception": false,
     "start_time": "2022-07-25T12:15:06.856928",
     "status": "completed"
    },
    "tags": []
   },
   "outputs": [],
   "source": [
    "import ABC_train_test2\n",
    "import energyefficiencyDataset\n",
    "import network\n",
    "import dataset\n",
    "import sanityChecks\n",
    "import torch \n",
    "import scrapbook as sb\n",
    "from statistics import mean \n",
    "import catboost as ctb \n",
    "from sklearn.model_selection import train_test_split\n",
    "from sklearn.metrics import mean_squared_error,mean_absolute_error\n",
    "import numpy as np\n",
    "from pytorch_tabnet.tab_model import TabNetRegressor"
   ]
  },
  {
   "cell_type": "markdown",
   "id": "2fa5b0f7",
   "metadata": {
    "id": "2fa5b0f7",
    "papermill": {
     "duration": 0.008617,
     "end_time": "2022-07-25T12:15:12.952535",
     "exception": false,
     "start_time": "2022-07-25T12:15:12.943918",
     "status": "completed"
    },
    "tags": []
   },
   "source": [
    "## Parameters "
   ]
  },
  {
   "cell_type": "code",
   "execution_count": 3,
   "id": "783186fb",
   "metadata": {
    "execution": {
     "iopub.execute_input": "2022-07-25T12:15:12.969671Z",
     "iopub.status.busy": "2022-07-25T12:15:12.969334Z",
     "iopub.status.idle": "2022-07-25T12:15:12.975282Z",
     "shell.execute_reply": "2022-07-25T12:15:12.973286Z"
    },
    "id": "783186fb",
    "papermill": {
     "duration": 0.018346,
     "end_time": "2022-07-25T12:15:12.978503",
     "exception": false,
     "start_time": "2022-07-25T12:15:12.960157",
     "status": "completed"
    },
    "tags": [
     "parameters"
    ]
   },
   "outputs": [],
   "source": [
    "variance = 1\n",
    "bias = 1 "
   ]
  },
  {
   "cell_type": "code",
   "execution_count": 4,
   "id": "b9b046ce",
   "metadata": {
    "execution": {
     "iopub.execute_input": "2022-07-25T12:15:12.994960Z",
     "iopub.status.busy": "2022-07-25T12:15:12.994641Z",
     "iopub.status.idle": "2022-07-25T12:15:13.000311Z",
     "shell.execute_reply": "2022-07-25T12:15:12.998513Z"
    },
    "papermill": {
     "duration": 0.01783,
     "end_time": "2022-07-25T12:15:13.003414",
     "exception": false,
     "start_time": "2022-07-25T12:15:12.985584",
     "status": "completed"
    },
    "tags": [
     "injected-parameters"
    ]
   },
   "outputs": [],
   "source": [
    "# Parameters\n",
    "variance = 0.01\n",
    "bias = 0.1\n"
   ]
  },
  {
   "cell_type": "markdown",
   "id": "391cdbfd",
   "metadata": {
    "id": "391cdbfd",
    "papermill": {
     "duration": 0.00738,
     "end_time": "2022-07-25T12:15:13.018029",
     "exception": false,
     "start_time": "2022-07-25T12:15:13.010649",
     "status": "completed"
    },
    "tags": []
   },
   "source": [
    "## Dataset \n"
   ]
  },
  {
   "cell_type": "code",
   "execution_count": 5,
   "id": "5b51f161",
   "metadata": {
    "execution": {
     "iopub.execute_input": "2022-07-25T12:15:13.036246Z",
     "iopub.status.busy": "2022-07-25T12:15:13.035120Z",
     "iopub.status.idle": "2022-07-25T12:15:13.041163Z",
     "shell.execute_reply": "2022-07-25T12:15:13.040298Z"
    },
    "id": "5b51f161",
    "papermill": {
     "duration": 0.01808,
     "end_time": "2022-07-25T12:15:13.043915",
     "exception": false,
     "start_time": "2022-07-25T12:15:13.025835",
     "status": "completed"
    },
    "tags": []
   },
   "outputs": [],
   "source": [
    "#Parameters \n",
    "n_features = 8\n",
    "n_samples= 768\n",
    "n_target = 1 "
   ]
  },
  {
   "cell_type": "code",
   "execution_count": 6,
   "id": "5d6eced4",
   "metadata": {
    "execution": {
     "iopub.execute_input": "2022-07-25T12:15:13.064956Z",
     "iopub.status.busy": "2022-07-25T12:15:13.064160Z",
     "iopub.status.idle": "2022-07-25T12:15:13.624810Z",
     "shell.execute_reply": "2022-07-25T12:15:13.623993Z"
    },
    "id": "5d6eced4",
    "papermill": {
     "duration": 0.576333,
     "end_time": "2022-07-25T12:15:13.627783",
     "exception": false,
     "start_time": "2022-07-25T12:15:13.051450",
     "status": "completed"
    },
    "tags": []
   },
   "outputs": [
    {
     "name": "stdout",
     "output_type": "stream",
     "text": [
      "     X1     X2     X3      X4   X5  X6   X7  X8     Y1     Y2\n",
      "0  0.98  514.5  294.0  110.25  7.0   2  0.0   0  15.55  21.33\n",
      "1  0.98  514.5  294.0  110.25  7.0   3  0.0   0  15.55  21.33\n",
      "2  0.98  514.5  294.0  110.25  7.0   4  0.0   0  15.55  21.33\n",
      "3  0.98  514.5  294.0  110.25  7.0   5  0.0   0  15.55  21.33\n",
      "4  0.90  563.5  318.5  122.50  7.0   2  0.0   0  20.84  28.28\n"
     ]
    }
   ],
   "source": [
    "X,Y = energyefficiencyDataset.energy_data()"
   ]
  },
  {
   "cell_type": "code",
   "execution_count": 7,
   "id": "fe007438",
   "metadata": {
    "execution": {
     "iopub.execute_input": "2022-07-25T12:15:13.645366Z",
     "iopub.status.busy": "2022-07-25T12:15:13.644976Z",
     "iopub.status.idle": "2022-07-25T12:15:13.650223Z",
     "shell.execute_reply": "2022-07-25T12:15:13.649520Z"
    },
    "id": "fe007438",
    "papermill": {
     "duration": 0.017767,
     "end_time": "2022-07-25T12:15:13.653079",
     "exception": false,
     "start_time": "2022-07-25T12:15:13.635312",
     "status": "completed"
    },
    "tags": []
   },
   "outputs": [],
   "source": [
    "#Train test split for dataset \n",
    "X_train,X_test,Y_train,Y_test = train_test_split(X,Y,test_size = 0.2)\n",
    "train_data = dataset.CustomDataset(X_train,Y_train)\n",
    "test_data = dataset.CustomDataset(X_test,Y_test)\n"
   ]
  },
  {
   "cell_type": "markdown",
   "id": "a9a1af34",
   "metadata": {
    "id": "a9a1af34",
    "papermill": {
     "duration": 0.007895,
     "end_time": "2022-07-25T12:15:13.668640",
     "exception": false,
     "start_time": "2022-07-25T12:15:13.660745",
     "status": "completed"
    },
    "tags": []
   },
   "source": [
    "## Training Parameters "
   ]
  },
  {
   "cell_type": "code",
   "execution_count": 8,
   "id": "952b7fc8",
   "metadata": {
    "execution": {
     "iopub.execute_input": "2022-07-25T12:15:13.687413Z",
     "iopub.status.busy": "2022-07-25T12:15:13.687063Z",
     "iopub.status.idle": "2022-07-25T12:15:13.691743Z",
     "shell.execute_reply": "2022-07-25T12:15:13.690966Z"
    },
    "id": "952b7fc8",
    "papermill": {
     "duration": 0.021216,
     "end_time": "2022-07-25T12:15:13.698421",
     "exception": false,
     "start_time": "2022-07-25T12:15:13.677205",
     "status": "completed"
    },
    "tags": []
   },
   "outputs": [],
   "source": [
    "batch_size = 32\n",
    "n_epochs = 1000\n",
    "#Select the device \n",
    "device = torch.device('cuda' if torch.cuda.is_available() else 'cpu')"
   ]
  },
  {
   "cell_type": "markdown",
   "id": "a95e1600",
   "metadata": {
    "id": "a95e1600",
    "papermill": {
     "duration": 0.009937,
     "end_time": "2022-07-25T12:15:13.717165",
     "exception": false,
     "start_time": "2022-07-25T12:15:13.707228",
     "status": "completed"
    },
    "tags": []
   },
   "source": [
    "# ABC Pre-generator Model \n",
    "\n",
    "1. The catboost model is used as a pre-generator model for the ABC-GAN. \n",
    "2. The model is first trained on the entire dataset \n",
    "3. It generats X,Y pairs and we add some Gaussian noise with mean 0 and variance 1 to it which is then feed as input to the generator.\n"
   ]
  },
  {
   "cell_type": "code",
   "execution_count": 9,
   "id": "ff8ce7bd",
   "metadata": {
    "execution": {
     "iopub.execute_input": "2022-07-25T12:15:13.734693Z",
     "iopub.status.busy": "2022-07-25T12:15:13.734295Z",
     "iopub.status.idle": "2022-07-25T12:17:04.775695Z",
     "shell.execute_reply": "2022-07-25T12:17:04.774710Z"
    },
    "id": "ff8ce7bd",
    "papermill": {
     "duration": 111.054193,
     "end_time": "2022-07-25T12:17:04.778951",
     "exception": false,
     "start_time": "2022-07-25T12:15:13.724758",
     "status": "completed"
    },
    "tags": []
   },
   "outputs": [
    {
     "name": "stdout",
     "output_type": "stream",
     "text": [
      "Device used : cpu\n"
     ]
    },
    {
     "name": "stdout",
     "output_type": "stream",
     "text": [
      "epoch 0  | loss: 0.91045 | train_mse: 0.49862 | train_mae: 0.57404 |  0:00:00s\n"
     ]
    },
    {
     "name": "stdout",
     "output_type": "stream",
     "text": [
      "epoch 1  | loss: 0.34607 | train_mse: 0.37221 | train_mae: 0.47227 |  0:00:01s\n"
     ]
    },
    {
     "name": "stdout",
     "output_type": "stream",
     "text": [
      "epoch 2  | loss: 0.2501  | train_mse: 0.17081 | train_mae: 0.33077 |  0:00:01s\n"
     ]
    },
    {
     "name": "stdout",
     "output_type": "stream",
     "text": [
      "epoch 3  | loss: 0.17947 | train_mse: 0.19824 | train_mae: 0.36228 |  0:00:02s\n"
     ]
    },
    {
     "name": "stdout",
     "output_type": "stream",
     "text": [
      "epoch 4  | loss: 0.17454 | train_mse: 0.15984 | train_mae: 0.31208 |  0:00:02s\n"
     ]
    },
    {
     "name": "stdout",
     "output_type": "stream",
     "text": [
      "epoch 5  | loss: 0.13965 | train_mse: 0.11798 | train_mae: 0.27261 |  0:00:03s\n"
     ]
    },
    {
     "name": "stdout",
     "output_type": "stream",
     "text": [
      "epoch 6  | loss: 0.12524 | train_mse: 0.09445 | train_mae: 0.22951 |  0:00:04s\n"
     ]
    },
    {
     "name": "stdout",
     "output_type": "stream",
     "text": [
      "epoch 7  | loss: 0.11918 | train_mse: 0.0794  | train_mae: 0.20727 |  0:00:04s\n"
     ]
    },
    {
     "name": "stdout",
     "output_type": "stream",
     "text": [
      "epoch 8  | loss: 0.12147 | train_mse: 0.10017 | train_mae: 0.25318 |  0:00:05s\n"
     ]
    },
    {
     "name": "stdout",
     "output_type": "stream",
     "text": [
      "epoch 9  | loss: 0.09877 | train_mse: 0.06655 | train_mae: 0.19262 |  0:00:05s\n"
     ]
    },
    {
     "name": "stdout",
     "output_type": "stream",
     "text": [
      "epoch 10 | loss: 0.10055 | train_mse: 0.06662 | train_mae: 0.20136 |  0:00:06s\n"
     ]
    },
    {
     "name": "stdout",
     "output_type": "stream",
     "text": [
      "epoch 11 | loss: 0.08846 | train_mse: 0.05502 | train_mae: 0.17492 |  0:00:06s\n"
     ]
    },
    {
     "name": "stdout",
     "output_type": "stream",
     "text": [
      "epoch 12 | loss: 0.08709 | train_mse: 0.05223 | train_mae: 0.16742 |  0:00:07s\n"
     ]
    },
    {
     "name": "stdout",
     "output_type": "stream",
     "text": [
      "epoch 13 | loss: 0.09322 | train_mse: 0.05307 | train_mae: 0.17652 |  0:00:07s\n"
     ]
    },
    {
     "name": "stdout",
     "output_type": "stream",
     "text": [
      "epoch 14 | loss: 0.08092 | train_mse: 0.05696 | train_mae: 0.17844 |  0:00:08s\n"
     ]
    },
    {
     "name": "stdout",
     "output_type": "stream",
     "text": [
      "epoch 15 | loss: 0.09582 | train_mse: 0.07216 | train_mae: 0.19778 |  0:00:08s\n"
     ]
    },
    {
     "name": "stdout",
     "output_type": "stream",
     "text": [
      "epoch 16 | loss: 0.09053 | train_mse: 0.06273 | train_mae: 0.1956  |  0:00:09s\n"
     ]
    },
    {
     "name": "stdout",
     "output_type": "stream",
     "text": [
      "epoch 17 | loss: 0.09055 | train_mse: 0.05355 | train_mae: 0.18136 |  0:00:09s\n"
     ]
    },
    {
     "name": "stdout",
     "output_type": "stream",
     "text": [
      "epoch 18 | loss: 0.06596 | train_mse: 0.0482  | train_mae: 0.16569 |  0:00:10s\n"
     ]
    },
    {
     "name": "stdout",
     "output_type": "stream",
     "text": [
      "epoch 19 | loss: 0.07733 | train_mse: 0.03277 | train_mae: 0.13689 |  0:00:10s\n"
     ]
    },
    {
     "name": "stdout",
     "output_type": "stream",
     "text": [
      "epoch 20 | loss: 0.08171 | train_mse: 0.04266 | train_mae: 0.15398 |  0:00:11s\n"
     ]
    },
    {
     "name": "stdout",
     "output_type": "stream",
     "text": [
      "epoch 21 | loss: 0.068   | train_mse: 0.03368 | train_mae: 0.13453 |  0:00:11s\n"
     ]
    },
    {
     "name": "stdout",
     "output_type": "stream",
     "text": [
      "epoch 22 | loss: 0.06503 | train_mse: 0.0357  | train_mae: 0.14447 |  0:00:12s\n"
     ]
    },
    {
     "name": "stdout",
     "output_type": "stream",
     "text": [
      "epoch 23 | loss: 0.06416 | train_mse: 0.03178 | train_mae: 0.13351 |  0:00:13s\n"
     ]
    },
    {
     "name": "stdout",
     "output_type": "stream",
     "text": [
      "epoch 24 | loss: 0.07608 | train_mse: 0.03187 | train_mae: 0.13472 |  0:00:13s\n"
     ]
    },
    {
     "name": "stdout",
     "output_type": "stream",
     "text": [
      "epoch 25 | loss: 0.05932 | train_mse: 0.03078 | train_mae: 0.13766 |  0:00:14s\n"
     ]
    },
    {
     "name": "stdout",
     "output_type": "stream",
     "text": [
      "epoch 26 | loss: 0.04854 | train_mse: 0.02406 | train_mae: 0.11603 |  0:00:14s\n"
     ]
    },
    {
     "name": "stdout",
     "output_type": "stream",
     "text": [
      "epoch 27 | loss: 0.07319 | train_mse: 0.03949 | train_mae: 0.14456 |  0:00:15s\n"
     ]
    },
    {
     "name": "stdout",
     "output_type": "stream",
     "text": [
      "epoch 28 | loss: 0.08206 | train_mse: 0.03771 | train_mae: 0.13561 |  0:00:15s\n"
     ]
    },
    {
     "name": "stdout",
     "output_type": "stream",
     "text": [
      "epoch 29 | loss: 0.0805  | train_mse: 0.0421  | train_mae: 0.16618 |  0:00:16s\n"
     ]
    },
    {
     "name": "stdout",
     "output_type": "stream",
     "text": [
      "epoch 30 | loss: 0.0588  | train_mse: 0.02961 | train_mae: 0.12946 |  0:00:16s\n"
     ]
    },
    {
     "name": "stdout",
     "output_type": "stream",
     "text": [
      "epoch 31 | loss: 0.05844 | train_mse: 0.02813 | train_mae: 0.12068 |  0:00:17s\n"
     ]
    },
    {
     "name": "stdout",
     "output_type": "stream",
     "text": [
      "epoch 32 | loss: 0.05129 | train_mse: 0.02354 | train_mae: 0.11408 |  0:00:17s\n"
     ]
    },
    {
     "name": "stdout",
     "output_type": "stream",
     "text": [
      "epoch 33 | loss: 0.06253 | train_mse: 0.02756 | train_mae: 0.12066 |  0:00:18s\n"
     ]
    },
    {
     "name": "stdout",
     "output_type": "stream",
     "text": [
      "epoch 34 | loss: 0.05269 | train_mse: 0.02623 | train_mae: 0.12596 |  0:00:18s\n"
     ]
    },
    {
     "name": "stdout",
     "output_type": "stream",
     "text": [
      "epoch 35 | loss: 0.05753 | train_mse: 0.03207 | train_mae: 0.14122 |  0:00:19s\n"
     ]
    },
    {
     "name": "stdout",
     "output_type": "stream",
     "text": [
      "epoch 36 | loss: 0.0566  | train_mse: 0.03074 | train_mae: 0.13984 |  0:00:19s\n"
     ]
    },
    {
     "name": "stdout",
     "output_type": "stream",
     "text": [
      "epoch 37 | loss: 0.04798 | train_mse: 0.02423 | train_mae: 0.12336 |  0:00:20s\n"
     ]
    },
    {
     "name": "stdout",
     "output_type": "stream",
     "text": [
      "epoch 38 | loss: 0.06198 | train_mse: 0.02589 | train_mae: 0.12394 |  0:00:20s\n"
     ]
    },
    {
     "name": "stdout",
     "output_type": "stream",
     "text": [
      "epoch 39 | loss: 0.05416 | train_mse: 0.02815 | train_mae: 0.13509 |  0:00:21s\n"
     ]
    },
    {
     "name": "stdout",
     "output_type": "stream",
     "text": [
      "epoch 40 | loss: 0.05649 | train_mse: 0.02156 | train_mae: 0.11665 |  0:00:21s\n"
     ]
    },
    {
     "name": "stdout",
     "output_type": "stream",
     "text": [
      "epoch 41 | loss: 0.03801 | train_mse: 0.02189 | train_mae: 0.11628 |  0:00:22s\n"
     ]
    },
    {
     "name": "stdout",
     "output_type": "stream",
     "text": [
      "epoch 42 | loss: 0.06829 | train_mse: 0.02398 | train_mae: 0.1169  |  0:00:22s\n"
     ]
    },
    {
     "name": "stdout",
     "output_type": "stream",
     "text": [
      "epoch 43 | loss: 0.05771 | train_mse: 0.0271  | train_mae: 0.13168 |  0:00:23s\n"
     ]
    },
    {
     "name": "stdout",
     "output_type": "stream",
     "text": [
      "epoch 44 | loss: 0.06377 | train_mse: 0.02389 | train_mae: 0.11866 |  0:00:24s\n"
     ]
    },
    {
     "name": "stdout",
     "output_type": "stream",
     "text": [
      "epoch 45 | loss: 0.07819 | train_mse: 0.02664 | train_mae: 0.12806 |  0:00:24s\n"
     ]
    },
    {
     "name": "stdout",
     "output_type": "stream",
     "text": [
      "epoch 46 | loss: 0.06175 | train_mse: 0.0301  | train_mae: 0.13993 |  0:00:25s\n"
     ]
    },
    {
     "name": "stdout",
     "output_type": "stream",
     "text": [
      "epoch 47 | loss: 0.06422 | train_mse: 0.02091 | train_mae: 0.10906 |  0:00:25s\n"
     ]
    },
    {
     "name": "stdout",
     "output_type": "stream",
     "text": [
      "epoch 48 | loss: 0.05196 | train_mse: 0.01471 | train_mae: 0.09142 |  0:00:26s\n"
     ]
    },
    {
     "name": "stdout",
     "output_type": "stream",
     "text": [
      "epoch 49 | loss: 0.05851 | train_mse: 0.03261 | train_mae: 0.15038 |  0:00:26s\n"
     ]
    },
    {
     "name": "stdout",
     "output_type": "stream",
     "text": [
      "epoch 50 | loss: 0.04221 | train_mse: 0.02382 | train_mae: 0.12918 |  0:00:27s\n"
     ]
    },
    {
     "name": "stdout",
     "output_type": "stream",
     "text": [
      "epoch 51 | loss: 0.05371 | train_mse: 0.01931 | train_mae: 0.1093  |  0:00:27s\n"
     ]
    },
    {
     "name": "stdout",
     "output_type": "stream",
     "text": [
      "epoch 52 | loss: 0.04342 | train_mse: 0.01333 | train_mae: 0.08902 |  0:00:28s\n"
     ]
    },
    {
     "name": "stdout",
     "output_type": "stream",
     "text": [
      "epoch 53 | loss: 0.03744 | train_mse: 0.01868 | train_mae: 0.1133  |  0:00:28s\n"
     ]
    },
    {
     "name": "stdout",
     "output_type": "stream",
     "text": [
      "epoch 54 | loss: 0.04519 | train_mse: 0.02578 | train_mae: 0.13564 |  0:00:29s\n"
     ]
    },
    {
     "name": "stdout",
     "output_type": "stream",
     "text": [
      "epoch 55 | loss: 0.04199 | train_mse: 0.01935 | train_mae: 0.11474 |  0:00:29s\n"
     ]
    },
    {
     "name": "stdout",
     "output_type": "stream",
     "text": [
      "epoch 56 | loss: 0.0752  | train_mse: 0.02077 | train_mae: 0.11761 |  0:00:30s\n"
     ]
    },
    {
     "name": "stdout",
     "output_type": "stream",
     "text": [
      "epoch 57 | loss: 0.05623 | train_mse: 0.01755 | train_mae: 0.10386 |  0:00:30s\n"
     ]
    },
    {
     "name": "stdout",
     "output_type": "stream",
     "text": [
      "epoch 58 | loss: 0.05473 | train_mse: 0.01836 | train_mae: 0.10373 |  0:00:31s\n"
     ]
    },
    {
     "name": "stdout",
     "output_type": "stream",
     "text": [
      "epoch 59 | loss: 0.05353 | train_mse: 0.02288 | train_mae: 0.12124 |  0:00:32s\n"
     ]
    },
    {
     "name": "stdout",
     "output_type": "stream",
     "text": [
      "epoch 60 | loss: 0.06717 | train_mse: 0.02185 | train_mae: 0.11314 |  0:00:32s\n"
     ]
    },
    {
     "name": "stdout",
     "output_type": "stream",
     "text": [
      "epoch 61 | loss: 0.03946 | train_mse: 0.02152 | train_mae: 0.11623 |  0:00:33s\n"
     ]
    },
    {
     "name": "stdout",
     "output_type": "stream",
     "text": [
      "epoch 62 | loss: 0.03875 | train_mse: 0.02022 | train_mae: 0.11864 |  0:00:33s\n"
     ]
    },
    {
     "name": "stdout",
     "output_type": "stream",
     "text": [
      "epoch 63 | loss: 0.03573 | train_mse: 0.01616 | train_mae: 0.10026 |  0:00:34s\n"
     ]
    },
    {
     "name": "stdout",
     "output_type": "stream",
     "text": [
      "epoch 64 | loss: 0.03782 | train_mse: 0.02377 | train_mae: 0.12374 |  0:00:35s\n"
     ]
    },
    {
     "name": "stdout",
     "output_type": "stream",
     "text": [
      "epoch 65 | loss: 0.04996 | train_mse: 0.01291 | train_mae: 0.08729 |  0:00:35s\n"
     ]
    },
    {
     "name": "stdout",
     "output_type": "stream",
     "text": [
      "epoch 66 | loss: 0.04982 | train_mse: 0.02223 | train_mae: 0.11559 |  0:00:36s\n"
     ]
    },
    {
     "name": "stdout",
     "output_type": "stream",
     "text": [
      "epoch 67 | loss: 0.05474 | train_mse: 0.01654 | train_mae: 0.10051 |  0:00:36s\n"
     ]
    },
    {
     "name": "stdout",
     "output_type": "stream",
     "text": [
      "epoch 68 | loss: 0.05551 | train_mse: 0.02161 | train_mae: 0.10431 |  0:00:37s\n"
     ]
    },
    {
     "name": "stdout",
     "output_type": "stream",
     "text": [
      "epoch 69 | loss: 0.05806 | train_mse: 0.02678 | train_mae: 0.12079 |  0:00:37s\n"
     ]
    },
    {
     "name": "stdout",
     "output_type": "stream",
     "text": [
      "epoch 70 | loss: 0.05837 | train_mse: 0.02721 | train_mae: 0.12812 |  0:00:38s\n"
     ]
    },
    {
     "name": "stdout",
     "output_type": "stream",
     "text": [
      "epoch 71 | loss: 0.04212 | train_mse: 0.02138 | train_mae: 0.10799 |  0:00:38s\n"
     ]
    },
    {
     "name": "stdout",
     "output_type": "stream",
     "text": [
      "epoch 72 | loss: 0.06062 | train_mse: 0.02017 | train_mae: 0.11354 |  0:00:39s\n"
     ]
    },
    {
     "name": "stdout",
     "output_type": "stream",
     "text": [
      "epoch 73 | loss: 0.04757 | train_mse: 0.01792 | train_mae: 0.09483 |  0:00:39s\n"
     ]
    },
    {
     "name": "stdout",
     "output_type": "stream",
     "text": [
      "epoch 74 | loss: 0.06266 | train_mse: 0.02856 | train_mae: 0.12641 |  0:00:40s\n"
     ]
    },
    {
     "name": "stdout",
     "output_type": "stream",
     "text": [
      "epoch 75 | loss: 0.05503 | train_mse: 0.03601 | train_mae: 0.1647  |  0:00:41s\n"
     ]
    },
    {
     "name": "stdout",
     "output_type": "stream",
     "text": [
      "epoch 76 | loss: 0.04748 | train_mse: 0.02086 | train_mae: 0.11037 |  0:00:42s\n"
     ]
    },
    {
     "name": "stdout",
     "output_type": "stream",
     "text": [
      "epoch 77 | loss: 0.04569 | train_mse: 0.01779 | train_mae: 0.10607 |  0:00:43s\n"
     ]
    },
    {
     "name": "stdout",
     "output_type": "stream",
     "text": [
      "epoch 78 | loss: 0.0347  | train_mse: 0.02185 | train_mae: 0.1166  |  0:00:43s\n"
     ]
    },
    {
     "name": "stdout",
     "output_type": "stream",
     "text": [
      "epoch 79 | loss: 0.0519  | train_mse: 0.01792 | train_mae: 0.10822 |  0:00:44s\n"
     ]
    },
    {
     "name": "stdout",
     "output_type": "stream",
     "text": [
      "epoch 80 | loss: 0.04356 | train_mse: 0.01713 | train_mae: 0.10278 |  0:00:45s\n"
     ]
    },
    {
     "name": "stdout",
     "output_type": "stream",
     "text": [
      "epoch 81 | loss: 0.03958 | train_mse: 0.0164  | train_mae: 0.09972 |  0:00:45s\n"
     ]
    },
    {
     "name": "stdout",
     "output_type": "stream",
     "text": [
      "epoch 82 | loss: 0.03062 | train_mse: 0.01195 | train_mae: 0.08703 |  0:00:46s\n"
     ]
    },
    {
     "name": "stdout",
     "output_type": "stream",
     "text": [
      "epoch 83 | loss: 0.02721 | train_mse: 0.01465 | train_mae: 0.09391 |  0:00:46s\n"
     ]
    },
    {
     "name": "stdout",
     "output_type": "stream",
     "text": [
      "epoch 84 | loss: 0.05817 | train_mse: 0.02149 | train_mae: 0.11681 |  0:00:47s\n"
     ]
    },
    {
     "name": "stdout",
     "output_type": "stream",
     "text": [
      "epoch 85 | loss: 0.03487 | train_mse: 0.01274 | train_mae: 0.09233 |  0:00:47s\n"
     ]
    },
    {
     "name": "stdout",
     "output_type": "stream",
     "text": [
      "epoch 86 | loss: 0.03007 | train_mse: 0.01859 | train_mae: 0.11094 |  0:00:48s\n"
     ]
    },
    {
     "name": "stdout",
     "output_type": "stream",
     "text": [
      "epoch 87 | loss: 0.03415 | train_mse: 0.02679 | train_mae: 0.13574 |  0:00:48s\n"
     ]
    },
    {
     "name": "stdout",
     "output_type": "stream",
     "text": [
      "epoch 88 | loss: 0.04985 | train_mse: 0.01341 | train_mae: 0.09249 |  0:00:49s\n"
     ]
    },
    {
     "name": "stdout",
     "output_type": "stream",
     "text": [
      "epoch 89 | loss: 0.0422  | train_mse: 0.01496 | train_mae: 0.09782 |  0:00:50s\n"
     ]
    },
    {
     "name": "stdout",
     "output_type": "stream",
     "text": [
      "epoch 90 | loss: 0.04524 | train_mse: 0.0172  | train_mae: 0.10951 |  0:00:50s\n"
     ]
    },
    {
     "name": "stdout",
     "output_type": "stream",
     "text": [
      "epoch 91 | loss: 0.03242 | train_mse: 0.02102 | train_mae: 0.12035 |  0:00:51s\n"
     ]
    },
    {
     "name": "stdout",
     "output_type": "stream",
     "text": [
      "epoch 92 | loss: 0.03358 | train_mse: 0.02177 | train_mae: 0.1187  |  0:00:51s\n"
     ]
    },
    {
     "name": "stdout",
     "output_type": "stream",
     "text": [
      "epoch 93 | loss: 0.04102 | train_mse: 0.02539 | train_mae: 0.12393 |  0:00:52s\n"
     ]
    },
    {
     "name": "stdout",
     "output_type": "stream",
     "text": [
      "epoch 94 | loss: 0.04405 | train_mse: 0.03455 | train_mae: 0.15456 |  0:00:52s\n"
     ]
    },
    {
     "name": "stdout",
     "output_type": "stream",
     "text": [
      "epoch 95 | loss: 0.03516 | train_mse: 0.01501 | train_mae: 0.09737 |  0:00:53s\n"
     ]
    },
    {
     "name": "stdout",
     "output_type": "stream",
     "text": [
      "epoch 96 | loss: 0.03324 | train_mse: 0.01578 | train_mae: 0.09827 |  0:00:53s\n"
     ]
    },
    {
     "name": "stdout",
     "output_type": "stream",
     "text": [
      "epoch 97 | loss: 0.03438 | train_mse: 0.01082 | train_mae: 0.07933 |  0:00:54s\n"
     ]
    },
    {
     "name": "stdout",
     "output_type": "stream",
     "text": [
      "epoch 98 | loss: 0.03524 | train_mse: 0.02064 | train_mae: 0.1169  |  0:00:54s\n"
     ]
    },
    {
     "name": "stdout",
     "output_type": "stream",
     "text": [
      "epoch 99 | loss: 0.04412 | train_mse: 0.03486 | train_mae: 0.15411 |  0:00:55s\n"
     ]
    },
    {
     "name": "stdout",
     "output_type": "stream",
     "text": [
      "epoch 100| loss: 0.05197 | train_mse: 0.03073 | train_mae: 0.13762 |  0:00:55s\n"
     ]
    },
    {
     "name": "stdout",
     "output_type": "stream",
     "text": [
      "epoch 101| loss: 0.05294 | train_mse: 0.04644 | train_mae: 0.14894 |  0:00:56s\n"
     ]
    },
    {
     "name": "stdout",
     "output_type": "stream",
     "text": [
      "epoch 102| loss: 0.05219 | train_mse: 0.02663 | train_mae: 0.12578 |  0:00:56s\n"
     ]
    },
    {
     "name": "stdout",
     "output_type": "stream",
     "text": [
      "epoch 103| loss: 0.04415 | train_mse: 0.01327 | train_mae: 0.08541 |  0:00:57s\n"
     ]
    },
    {
     "name": "stdout",
     "output_type": "stream",
     "text": [
      "epoch 104| loss: 0.02877 | train_mse: 0.01099 | train_mae: 0.08153 |  0:00:57s\n"
     ]
    },
    {
     "name": "stdout",
     "output_type": "stream",
     "text": [
      "epoch 105| loss: 0.03318 | train_mse: 0.01361 | train_mae: 0.08761 |  0:00:58s\n"
     ]
    },
    {
     "name": "stdout",
     "output_type": "stream",
     "text": [
      "epoch 106| loss: 0.03449 | train_mse: 0.02377 | train_mae: 0.11143 |  0:00:58s\n"
     ]
    },
    {
     "name": "stdout",
     "output_type": "stream",
     "text": [
      "epoch 107| loss: 0.04013 | train_mse: 0.0133  | train_mae: 0.08944 |  0:00:59s\n"
     ]
    },
    {
     "name": "stdout",
     "output_type": "stream",
     "text": [
      "epoch 108| loss: 0.04116 | train_mse: 0.00883 | train_mae: 0.07245 |  0:00:59s\n"
     ]
    },
    {
     "name": "stdout",
     "output_type": "stream",
     "text": [
      "epoch 109| loss: 0.04308 | train_mse: 0.01835 | train_mae: 0.09586 |  0:01:00s\n"
     ]
    },
    {
     "name": "stdout",
     "output_type": "stream",
     "text": [
      "epoch 110| loss: 0.04431 | train_mse: 0.01173 | train_mae: 0.08311 |  0:01:01s\n"
     ]
    },
    {
     "name": "stdout",
     "output_type": "stream",
     "text": [
      "epoch 111| loss: 0.02514 | train_mse: 0.00976 | train_mae: 0.07341 |  0:01:01s\n"
     ]
    },
    {
     "name": "stdout",
     "output_type": "stream",
     "text": [
      "epoch 112| loss: 0.03211 | train_mse: 0.01176 | train_mae: 0.07986 |  0:01:02s\n"
     ]
    },
    {
     "name": "stdout",
     "output_type": "stream",
     "text": [
      "epoch 113| loss: 0.02823 | train_mse: 0.00927 | train_mae: 0.07508 |  0:01:02s\n"
     ]
    },
    {
     "name": "stdout",
     "output_type": "stream",
     "text": [
      "epoch 114| loss: 0.02993 | train_mse: 0.00935 | train_mae: 0.06985 |  0:01:03s\n"
     ]
    },
    {
     "name": "stdout",
     "output_type": "stream",
     "text": [
      "epoch 115| loss: 0.02548 | train_mse: 0.01196 | train_mae: 0.08307 |  0:01:03s\n"
     ]
    },
    {
     "name": "stdout",
     "output_type": "stream",
     "text": [
      "epoch 116| loss: 0.04356 | train_mse: 0.01083 | train_mae: 0.07891 |  0:01:04s\n"
     ]
    },
    {
     "name": "stdout",
     "output_type": "stream",
     "text": [
      "epoch 117| loss: 0.04373 | train_mse: 0.01936 | train_mae: 0.11269 |  0:01:04s\n"
     ]
    },
    {
     "name": "stdout",
     "output_type": "stream",
     "text": [
      "epoch 118| loss: 0.02822 | train_mse: 0.01506 | train_mae: 0.10231 |  0:01:05s\n"
     ]
    },
    {
     "name": "stdout",
     "output_type": "stream",
     "text": [
      "epoch 119| loss: 0.03588 | train_mse: 0.01348 | train_mae: 0.08638 |  0:01:05s\n"
     ]
    },
    {
     "name": "stdout",
     "output_type": "stream",
     "text": [
      "epoch 120| loss: 0.04852 | train_mse: 0.02729 | train_mae: 0.11854 |  0:01:06s\n"
     ]
    },
    {
     "name": "stdout",
     "output_type": "stream",
     "text": [
      "epoch 121| loss: 0.03841 | train_mse: 0.01658 | train_mae: 0.09202 |  0:01:06s\n"
     ]
    },
    {
     "name": "stdout",
     "output_type": "stream",
     "text": [
      "epoch 122| loss: 0.04    | train_mse: 0.01239 | train_mae: 0.0796  |  0:01:07s\n"
     ]
    },
    {
     "name": "stdout",
     "output_type": "stream",
     "text": [
      "epoch 123| loss: 0.03101 | train_mse: 0.00939 | train_mae: 0.07337 |  0:01:08s\n"
     ]
    },
    {
     "name": "stdout",
     "output_type": "stream",
     "text": [
      "epoch 124| loss: 0.03053 | train_mse: 0.01305 | train_mae: 0.0882  |  0:01:08s\n"
     ]
    },
    {
     "name": "stdout",
     "output_type": "stream",
     "text": [
      "epoch 125| loss: 0.0243  | train_mse: 0.0107  | train_mae: 0.07689 |  0:01:09s\n"
     ]
    },
    {
     "name": "stdout",
     "output_type": "stream",
     "text": [
      "epoch 126| loss: 0.02827 | train_mse: 0.01017 | train_mae: 0.07344 |  0:01:09s\n"
     ]
    },
    {
     "name": "stdout",
     "output_type": "stream",
     "text": [
      "epoch 127| loss: 0.03532 | train_mse: 0.0344  | train_mae: 0.12936 |  0:01:10s\n"
     ]
    },
    {
     "name": "stdout",
     "output_type": "stream",
     "text": [
      "epoch 128| loss: 0.04727 | train_mse: 0.01279 | train_mae: 0.08369 |  0:01:10s\n"
     ]
    },
    {
     "name": "stdout",
     "output_type": "stream",
     "text": [
      "epoch 129| loss: 0.04231 | train_mse: 0.01158 | train_mae: 0.07406 |  0:01:11s\n"
     ]
    },
    {
     "name": "stdout",
     "output_type": "stream",
     "text": [
      "epoch 130| loss: 0.02557 | train_mse: 0.01083 | train_mae: 0.07239 |  0:01:11s\n"
     ]
    },
    {
     "name": "stdout",
     "output_type": "stream",
     "text": [
      "epoch 131| loss: 0.02129 | train_mse: 0.00989 | train_mae: 0.07389 |  0:01:12s\n"
     ]
    },
    {
     "name": "stdout",
     "output_type": "stream",
     "text": [
      "epoch 132| loss: 0.03487 | train_mse: 0.01733 | train_mae: 0.09282 |  0:01:12s\n"
     ]
    },
    {
     "name": "stdout",
     "output_type": "stream",
     "text": [
      "epoch 133| loss: 0.03935 | train_mse: 0.04934 | train_mae: 0.16466 |  0:01:13s\n"
     ]
    },
    {
     "name": "stdout",
     "output_type": "stream",
     "text": [
      "epoch 134| loss: 0.05288 | train_mse: 0.00819 | train_mae: 0.06831 |  0:01:13s\n"
     ]
    },
    {
     "name": "stdout",
     "output_type": "stream",
     "text": [
      "epoch 135| loss: 0.03009 | train_mse: 0.01563 | train_mae: 0.09788 |  0:01:14s\n"
     ]
    },
    {
     "name": "stdout",
     "output_type": "stream",
     "text": [
      "epoch 136| loss: 0.02562 | train_mse: 0.04718 | train_mae: 0.17347 |  0:01:14s\n"
     ]
    },
    {
     "name": "stdout",
     "output_type": "stream",
     "text": [
      "epoch 137| loss: 0.05988 | train_mse: 0.01381 | train_mae: 0.0875  |  0:01:15s\n"
     ]
    },
    {
     "name": "stdout",
     "output_type": "stream",
     "text": [
      "epoch 138| loss: 0.02793 | train_mse: 0.02072 | train_mae: 0.10232 |  0:01:15s\n"
     ]
    },
    {
     "name": "stdout",
     "output_type": "stream",
     "text": [
      "epoch 139| loss: 0.02728 | train_mse: 0.01069 | train_mae: 0.08318 |  0:01:16s\n"
     ]
    },
    {
     "name": "stdout",
     "output_type": "stream",
     "text": [
      "epoch 140| loss: 0.05082 | train_mse: 0.0332  | train_mae: 0.14919 |  0:01:16s\n"
     ]
    },
    {
     "name": "stdout",
     "output_type": "stream",
     "text": [
      "epoch 141| loss: 0.04155 | train_mse: 0.0173  | train_mae: 0.09111 |  0:01:17s\n"
     ]
    },
    {
     "name": "stdout",
     "output_type": "stream",
     "text": [
      "epoch 142| loss: 0.03921 | train_mse: 0.02734 | train_mae: 0.12911 |  0:01:17s\n"
     ]
    },
    {
     "name": "stdout",
     "output_type": "stream",
     "text": [
      "epoch 143| loss: 0.03516 | train_mse: 0.02831 | train_mae: 0.12863 |  0:01:18s\n"
     ]
    },
    {
     "name": "stdout",
     "output_type": "stream",
     "text": [
      "epoch 144| loss: 0.03483 | train_mse: 0.01779 | train_mae: 0.10323 |  0:01:18s\n"
     ]
    },
    {
     "name": "stdout",
     "output_type": "stream",
     "text": [
      "epoch 145| loss: 0.04498 | train_mse: 0.00959 | train_mae: 0.07253 |  0:01:19s\n"
     ]
    },
    {
     "name": "stdout",
     "output_type": "stream",
     "text": [
      "epoch 146| loss: 0.04576 | train_mse: 0.0478  | train_mae: 0.1696  |  0:01:19s\n"
     ]
    },
    {
     "name": "stdout",
     "output_type": "stream",
     "text": [
      "epoch 147| loss: 0.03179 | train_mse: 0.01583 | train_mae: 0.09249 |  0:01:20s\n"
     ]
    },
    {
     "name": "stdout",
     "output_type": "stream",
     "text": [
      "epoch 148| loss: 0.0326  | train_mse: 0.01245 | train_mae: 0.08054 |  0:01:20s\n"
     ]
    },
    {
     "name": "stdout",
     "output_type": "stream",
     "text": [
      "epoch 149| loss: 0.04141 | train_mse: 0.0126  | train_mae: 0.08291 |  0:01:21s\n"
     ]
    },
    {
     "name": "stdout",
     "output_type": "stream",
     "text": [
      "epoch 150| loss: 0.02656 | train_mse: 0.00835 | train_mae: 0.06689 |  0:01:22s\n"
     ]
    },
    {
     "name": "stdout",
     "output_type": "stream",
     "text": [
      "epoch 151| loss: 0.04162 | train_mse: 0.00751 | train_mae: 0.06361 |  0:01:22s\n"
     ]
    },
    {
     "name": "stdout",
     "output_type": "stream",
     "text": [
      "epoch 152| loss: 0.04057 | train_mse: 0.01997 | train_mae: 0.10621 |  0:01:23s\n"
     ]
    },
    {
     "name": "stdout",
     "output_type": "stream",
     "text": [
      "epoch 153| loss: 0.02267 | train_mse: 0.00719 | train_mae: 0.06534 |  0:01:23s\n"
     ]
    },
    {
     "name": "stdout",
     "output_type": "stream",
     "text": [
      "epoch 154| loss: 0.03296 | train_mse: 0.01321 | train_mae: 0.08324 |  0:01:24s\n"
     ]
    },
    {
     "name": "stdout",
     "output_type": "stream",
     "text": [
      "epoch 155| loss: 0.02432 | train_mse: 0.02016 | train_mae: 0.1074  |  0:01:24s\n"
     ]
    },
    {
     "name": "stdout",
     "output_type": "stream",
     "text": [
      "epoch 156| loss: 0.03272 | train_mse: 0.01699 | train_mae: 0.09435 |  0:01:25s\n"
     ]
    },
    {
     "name": "stdout",
     "output_type": "stream",
     "text": [
      "epoch 157| loss: 0.05589 | train_mse: 0.01458 | train_mae: 0.09461 |  0:01:26s\n"
     ]
    },
    {
     "name": "stdout",
     "output_type": "stream",
     "text": [
      "epoch 158| loss: 0.03264 | train_mse: 0.01341 | train_mae: 0.08488 |  0:01:26s\n"
     ]
    },
    {
     "name": "stdout",
     "output_type": "stream",
     "text": [
      "epoch 159| loss: 0.02951 | train_mse: 0.00868 | train_mae: 0.07281 |  0:01:27s\n"
     ]
    },
    {
     "name": "stdout",
     "output_type": "stream",
     "text": [
      "epoch 160| loss: 0.03376 | train_mse: 0.01636 | train_mae: 0.09255 |  0:01:27s\n"
     ]
    },
    {
     "name": "stdout",
     "output_type": "stream",
     "text": [
      "epoch 161| loss: 0.03021 | train_mse: 0.01652 | train_mae: 0.09945 |  0:01:28s\n"
     ]
    },
    {
     "name": "stdout",
     "output_type": "stream",
     "text": [
      "epoch 162| loss: 0.0317  | train_mse: 0.02497 | train_mae: 0.11091 |  0:01:28s\n"
     ]
    },
    {
     "name": "stdout",
     "output_type": "stream",
     "text": [
      "epoch 163| loss: 0.02677 | train_mse: 0.01662 | train_mae: 0.093   |  0:01:29s\n"
     ]
    },
    {
     "name": "stdout",
     "output_type": "stream",
     "text": [
      "epoch 164| loss: 0.0443  | train_mse: 0.02415 | train_mae: 0.10893 |  0:01:29s\n"
     ]
    },
    {
     "name": "stdout",
     "output_type": "stream",
     "text": [
      "epoch 165| loss: 0.03193 | train_mse: 0.03124 | train_mae: 0.13265 |  0:01:30s\n"
     ]
    },
    {
     "name": "stdout",
     "output_type": "stream",
     "text": [
      "epoch 166| loss: 0.04581 | train_mse: 0.03013 | train_mae: 0.09724 |  0:01:30s\n"
     ]
    },
    {
     "name": "stdout",
     "output_type": "stream",
     "text": [
      "epoch 167| loss: 0.03779 | train_mse: 0.01985 | train_mae: 0.10664 |  0:01:31s\n"
     ]
    },
    {
     "name": "stdout",
     "output_type": "stream",
     "text": [
      "epoch 168| loss: 0.03157 | train_mse: 0.01678 | train_mae: 0.09531 |  0:01:31s\n"
     ]
    },
    {
     "name": "stdout",
     "output_type": "stream",
     "text": [
      "epoch 169| loss: 0.05899 | train_mse: 0.02706 | train_mae: 0.13829 |  0:01:32s\n"
     ]
    },
    {
     "name": "stdout",
     "output_type": "stream",
     "text": [
      "epoch 170| loss: 0.03552 | train_mse: 0.03044 | train_mae: 0.12692 |  0:01:33s\n"
     ]
    },
    {
     "name": "stdout",
     "output_type": "stream",
     "text": [
      "epoch 171| loss: 0.028   | train_mse: 0.00851 | train_mae: 0.06835 |  0:01:33s\n"
     ]
    },
    {
     "name": "stdout",
     "output_type": "stream",
     "text": [
      "epoch 172| loss: 0.02459 | train_mse: 0.01235 | train_mae: 0.08271 |  0:01:34s\n"
     ]
    },
    {
     "name": "stdout",
     "output_type": "stream",
     "text": [
      "epoch 173| loss: 0.03156 | train_mse: 0.01198 | train_mae: 0.07771 |  0:01:35s\n"
     ]
    },
    {
     "name": "stdout",
     "output_type": "stream",
     "text": [
      "epoch 174| loss: 0.03615 | train_mse: 0.00947 | train_mae: 0.07196 |  0:01:35s\n"
     ]
    },
    {
     "name": "stdout",
     "output_type": "stream",
     "text": [
      "epoch 175| loss: 0.03347 | train_mse: 0.00936 | train_mae: 0.06599 |  0:01:36s\n"
     ]
    },
    {
     "name": "stdout",
     "output_type": "stream",
     "text": [
      "epoch 176| loss: 0.0243  | train_mse: 0.0089  | train_mae: 0.06886 |  0:01:36s\n"
     ]
    },
    {
     "name": "stdout",
     "output_type": "stream",
     "text": [
      "epoch 177| loss: 0.02084 | train_mse: 0.01052 | train_mae: 0.07468 |  0:01:37s\n"
     ]
    },
    {
     "name": "stdout",
     "output_type": "stream",
     "text": [
      "epoch 178| loss: 0.03416 | train_mse: 0.01456 | train_mae: 0.08194 |  0:01:37s\n"
     ]
    },
    {
     "name": "stdout",
     "output_type": "stream",
     "text": [
      "epoch 179| loss: 0.03913 | train_mse: 0.00785 | train_mae: 0.06831 |  0:01:38s\n"
     ]
    },
    {
     "name": "stdout",
     "output_type": "stream",
     "text": [
      "epoch 180| loss: 0.01782 | train_mse: 0.0106  | train_mae: 0.07686 |  0:01:38s\n"
     ]
    },
    {
     "name": "stdout",
     "output_type": "stream",
     "text": [
      "epoch 181| loss: 0.02174 | train_mse: 0.00776 | train_mae: 0.06573 |  0:01:39s\n"
     ]
    },
    {
     "name": "stdout",
     "output_type": "stream",
     "text": [
      "epoch 182| loss: 0.02792 | train_mse: 0.01819 | train_mae: 0.10485 |  0:01:39s\n"
     ]
    },
    {
     "name": "stdout",
     "output_type": "stream",
     "text": [
      "epoch 183| loss: 0.04336 | train_mse: 0.01484 | train_mae: 0.09061 |  0:01:40s\n"
     ]
    },
    {
     "name": "stdout",
     "output_type": "stream",
     "text": [
      "epoch 184| loss: 0.03112 | train_mse: 0.02033 | train_mae: 0.10974 |  0:01:40s\n"
     ]
    },
    {
     "name": "stdout",
     "output_type": "stream",
     "text": [
      "epoch 185| loss: 0.03006 | train_mse: 0.01004 | train_mae: 0.07273 |  0:01:41s\n"
     ]
    },
    {
     "name": "stdout",
     "output_type": "stream",
     "text": [
      "epoch 186| loss: 0.02184 | train_mse: 0.01177 | train_mae: 0.07625 |  0:01:41s\n"
     ]
    },
    {
     "name": "stdout",
     "output_type": "stream",
     "text": [
      "epoch 187| loss: 0.03537 | train_mse: 0.01597 | train_mae: 0.0872  |  0:01:42s\n"
     ]
    },
    {
     "name": "stdout",
     "output_type": "stream",
     "text": [
      "epoch 188| loss: 0.03513 | train_mse: 0.01444 | train_mae: 0.08411 |  0:01:43s\n"
     ]
    },
    {
     "name": "stdout",
     "output_type": "stream",
     "text": [
      "epoch 189| loss: 0.02455 | train_mse: 0.00917 | train_mae: 0.06693 |  0:01:43s\n"
     ]
    },
    {
     "name": "stdout",
     "output_type": "stream",
     "text": [
      "epoch 190| loss: 0.04472 | train_mse: 0.01279 | train_mae: 0.08793 |  0:01:44s\n"
     ]
    },
    {
     "name": "stdout",
     "output_type": "stream",
     "text": [
      "epoch 191| loss: 0.02754 | train_mse: 0.01974 | train_mae: 0.10234 |  0:01:44s\n"
     ]
    },
    {
     "name": "stdout",
     "output_type": "stream",
     "text": [
      "epoch 192| loss: 0.04409 | train_mse: 0.01274 | train_mae: 0.08567 |  0:01:45s\n"
     ]
    },
    {
     "name": "stdout",
     "output_type": "stream",
     "text": [
      "epoch 193| loss: 0.02834 | train_mse: 0.01366 | train_mae: 0.08548 |  0:01:45s\n"
     ]
    },
    {
     "name": "stdout",
     "output_type": "stream",
     "text": [
      "epoch 194| loss: 0.04321 | train_mse: 0.01482 | train_mae: 0.09483 |  0:01:46s\n"
     ]
    },
    {
     "name": "stdout",
     "output_type": "stream",
     "text": [
      "epoch 195| loss: 0.03458 | train_mse: 0.02176 | train_mae: 0.11292 |  0:01:46s\n"
     ]
    },
    {
     "name": "stdout",
     "output_type": "stream",
     "text": [
      "epoch 196| loss: 0.02968 | train_mse: 0.01126 | train_mae: 0.07865 |  0:01:47s\n"
     ]
    },
    {
     "name": "stdout",
     "output_type": "stream",
     "text": [
      "epoch 197| loss: 0.03806 | train_mse: 0.01035 | train_mae: 0.07035 |  0:01:47s\n"
     ]
    },
    {
     "name": "stdout",
     "output_type": "stream",
     "text": [
      "epoch 198| loss: 0.02432 | train_mse: 0.01571 | train_mae: 0.09119 |  0:01:48s\n"
     ]
    },
    {
     "name": "stdout",
     "output_type": "stream",
     "text": [
      "epoch 199| loss: 0.02421 | train_mse: 0.00797 | train_mae: 0.06711 |  0:01:48s\n"
     ]
    },
    {
     "name": "stdout",
     "output_type": "stream",
     "text": [
      "epoch 200| loss: 0.02834 | train_mse: 0.01546 | train_mae: 0.09515 |  0:01:49s\n"
     ]
    },
    {
     "name": "stdout",
     "output_type": "stream",
     "text": [
      "epoch 201| loss: 0.03181 | train_mse: 0.01538 | train_mae: 0.09661 |  0:01:50s\n",
      "\n",
      "Early stopping occurred at epoch 201 with best_epoch = 151 and best_train_mae = 0.06361\n",
      "Best weights from best epoch are automatically used!\n"
     ]
    }
   ],
   "source": [
    "#Train the Model\n",
    "\n",
    "Y_train = np.reshape(Y_train, (-1, 1))\n",
    "Y_test = np.reshape(Y_test, (-1, 1))\n",
    "\n",
    "prior_model = TabNetRegressor(optimizer_fn=torch.optim.Adam, optimizer_params=dict(lr = 0.01),\n",
    "          #scheduler_params={\"step_size\":10, ], \"gamma\":0.9},\n",
    "          #scheduler_fn=torch.optim.lr_scheduler.StepLR\n",
    "          )  #TabNetRegressor()\n",
    "\n",
    "prior_model.fit(X_train,Y_train,eval_set=[(X_train, Y_train)],\n",
    "            eval_name=['train'], \n",
    "            eval_metric=[ 'mse', 'mae'], \n",
    "            max_epochs = n_epochs, \n",
    "            batch_size = batch_size,\n",
    "            patience=50\n",
    "            )"
   ]
  },
  {
   "cell_type": "code",
   "execution_count": 10,
   "id": "af65dcda",
   "metadata": {
    "execution": {
     "iopub.execute_input": "2022-07-25T12:17:04.830882Z",
     "iopub.status.busy": "2022-07-25T12:17:04.830062Z",
     "iopub.status.idle": "2022-07-25T12:17:04.959857Z",
     "shell.execute_reply": "2022-07-25T12:17:04.956796Z"
    },
    "id": "af65dcda",
    "papermill": {
     "duration": 0.171713,
     "end_time": "2022-07-25T12:17:04.971052",
     "exception": false,
     "start_time": "2022-07-25T12:17:04.799339",
     "status": "completed"
    },
    "tags": []
   },
   "outputs": [
    {
     "data": {
      "application/scrapbook.scrap.json+json": {
       "data": 0.01007342094713304,
       "encoder": "json",
       "name": "Prior Model MSE",
       "version": 1
      }
     },
     "metadata": {
      "scrapbook": {
       "data": true,
       "display": false,
       "name": "Prior Model MSE"
      }
     },
     "output_type": "display_data"
    },
    {
     "data": {
      "application/scrapbook.scrap.json+json": {
       "data": 0.01645777149914357,
       "encoder": "json",
       "name": "ABC Pre-generator MSE",
       "version": 1
      }
     },
     "metadata": {
      "scrapbook": {
       "data": true,
       "display": false,
       "name": "ABC Pre-generator MSE"
      }
     },
     "output_type": "display_data"
    },
    {
     "data": {
      "application/scrapbook.scrap.json+json": {
       "data": 0.0704327113121457,
       "encoder": "json",
       "name": "Prior Model MAE",
       "version": 1
      }
     },
     "metadata": {
      "scrapbook": {
       "data": true,
       "display": false,
       "name": "Prior Model MAE"
      }
     },
     "output_type": "display_data"
    },
    {
     "name": "stdout",
     "output_type": "stream",
     "text": [
      "Prior Model MAE 0.0704327113121457\n"
     ]
    },
    {
     "data": {
      "application/scrapbook.scrap.json+json": {
       "data": 0.0942046088520647,
       "encoder": "json",
       "name": "ABC Pre-generator MAE",
       "version": 1
      }
     },
     "metadata": {
      "scrapbook": {
       "data": true,
       "display": false,
       "name": "ABC Pre-generator MAE"
      }
     },
     "output_type": "display_data"
    },
    {
     "name": "stdout",
     "output_type": "stream",
     "text": [
      "ABC Pre-generator MAE 0.0942046088520647\n"
     ]
    }
   ],
   "source": [
    "y_pred = prior_model.predict(X_test)\n",
    "y_abc = y_pred + np.random.normal(0,variance, y_pred.shape) + bias \n",
    "mse = mean_squared_error(y_pred,Y_test)\n",
    "sb.glue(\"Prior Model MSE\",mse)\n",
    "mse = mean_squared_error(y_abc,Y_test)\n",
    "sb.glue(\"ABC Pre-generator MSE\",mse)\n",
    "mae = mean_absolute_error(y_pred,Y_test)\n",
    "sb.glue(\"Prior Model MAE\",mae)\n",
    "print(\"Prior Model MAE\",mae)\n",
    "mae = mean_absolute_error(y_abc,Y_test)\n",
    "sb.glue(\"ABC Pre-generator MAE\",mae)\n",
    "print(\"ABC Pre-generator MAE\",mae)"
   ]
  },
  {
   "cell_type": "markdown",
   "id": "25609da2",
   "metadata": {
    "papermill": {
     "duration": 0.149064,
     "end_time": "2022-07-25T12:17:05.140577",
     "exception": false,
     "start_time": "2022-07-25T12:17:04.991513",
     "status": "completed"
    },
    "tags": []
   },
   "source": [
    "# mGAN Model"
   ]
  },
  {
   "cell_type": "code",
   "execution_count": 11,
   "id": "dfc3464d",
   "metadata": {
    "execution": {
     "iopub.execute_input": "2022-07-25T12:17:05.329067Z",
     "iopub.status.busy": "2022-07-25T12:17:05.328727Z",
     "iopub.status.idle": "2022-07-25T12:17:05.350188Z",
     "shell.execute_reply": "2022-07-25T12:17:05.341986Z"
    },
    "papermill": {
     "duration": 0.16251,
     "end_time": "2022-07-25T12:17:05.388430",
     "exception": false,
     "start_time": "2022-07-25T12:17:05.225920",
     "status": "completed"
    },
    "tags": []
   },
   "outputs": [],
   "source": [
    "gen = network.Generator(n_features+1).to(device)\n",
    "disc = network.Discriminator(n_features+1).to(device)\n",
    "\n",
    "criterion = torch.nn.BCELoss()\n",
    "gen_opt = torch.optim.Adam(gen.parameters(), lr=0.01, betas=(0.5, 0.999))\n",
    "disc_opt = torch.optim.Adam(disc.parameters(), lr=0.01, betas=(0.5, 0.999))"
   ]
  },
  {
   "cell_type": "code",
   "execution_count": 12,
   "id": "b75fdd85",
   "metadata": {
    "execution": {
     "iopub.execute_input": "2022-07-25T12:17:05.468057Z",
     "iopub.status.busy": "2022-07-25T12:17:05.467738Z",
     "iopub.status.idle": "2022-07-25T12:22:58.985933Z",
     "shell.execute_reply": "2022-07-25T12:22:58.984906Z"
    },
    "papermill": {
     "duration": 353.544308,
     "end_time": "2022-07-25T12:22:58.989360",
     "exception": false,
     "start_time": "2022-07-25T12:17:05.445052",
     "status": "completed"
    },
    "tags": []
   },
   "outputs": [
    {
     "data": {
      "image/png": "[encoded data removed]",
      "text/plain": [
       "<Figure size 432x288 with 1 Axes>"
      ]
     },
     "metadata": {
      "needs_background": "light"
     },
     "output_type": "display_data"
    },
    {
     "data": {
      "image/png": "[encoded data removed]",
      "text/plain": [
       "<Figure size 432x288 with 1 Axes>"
      ]
     },
     "metadata": {
      "needs_background": "light"
     },
     "output_type": "display_data"
    }
   ],
   "source": [
    "#Training the ABC_GAN \n",
    "ABC_train_test2.training_GAN(disc,gen,disc_opt,gen_opt,train_data,batch_size,n_epochs,criterion,prior_model,variance,bias,device)"
   ]
  },
  {
   "cell_type": "code",
   "execution_count": 13,
   "id": "1fa7c368",
   "metadata": {
    "execution": {
     "iopub.execute_input": "2022-07-25T12:22:59.035400Z",
     "iopub.status.busy": "2022-07-25T12:22:59.034938Z",
     "iopub.status.idle": "2022-07-25T12:23:02.669680Z",
     "shell.execute_reply": "2022-07-25T12:23:02.667987Z"
    },
    "papermill": {
     "duration": 3.662553,
     "end_time": "2022-07-25T12:23:02.673623",
     "exception": false,
     "start_time": "2022-07-25T12:22:59.011070",
     "status": "completed"
    },
    "tags": []
   },
   "outputs": [
    {
     "data": {
      "application/scrapbook.scrap.json+json": {
       "data": 0.018573046946910955,
       "encoder": "json",
       "name": "ABC-GAN Model 1 MSE",
       "version": 1
      }
     },
     "metadata": {
      "scrapbook": {
       "data": true,
       "display": false,
       "name": "ABC-GAN Model 1 MSE"
      }
     },
     "output_type": "display_data"
    },
    {
     "data": {
      "application/scrapbook.scrap.json+json": {
       "data": 0.10164838265047058,
       "encoder": "json",
       "name": "ABC-GAN Model 1 MAE",
       "version": 1
      }
     },
     "metadata": {
      "scrapbook": {
       "data": true,
       "display": false,
       "name": "ABC-GAN Model 1 MAE"
      }
     },
     "output_type": "display_data"
    },
    {
     "data": {
      "application/scrapbook.scrap.json+json": {
       "data": 15.653850928172469,
       "encoder": "json",
       "name": "ABC-GAN Model 1 Manhattan Distance",
       "version": 1
      }
     },
     "metadata": {
      "scrapbook": {
       "data": true,
       "display": false,
       "name": "ABC-GAN Model 1 Manhattan Distance"
      }
     },
     "output_type": "display_data"
    },
    {
     "data": {
      "application/scrapbook.scrap.json+json": {
       "data": 1.6911279611596752,
       "encoder": "json",
       "name": "ABC-GAN Model 1 Euclidean distance",
       "version": 1
      }
     },
     "metadata": {
      "scrapbook": {
       "data": true,
       "display": false,
       "name": "ABC-GAN Model 1 Euclidean distance"
      }
     },
     "output_type": "display_data"
    },
    {
     "data": {
      "application/scrapbook.scrap.json+json": {
       "data": [
        [
         0.019003762456452834,
         0.018673223250363972,
         0.019016819196549368,
         0.01876808088352084,
         0.018696273081272807,
         0.018896174887190326,
         0.018598749401285475,
         0.019148671164075606,
         0.018141542918362088,
         0.01830178703121288,
         0.019148800801453616,
         0.018542021520400194,
         0.019381122734112577,
         0.01881260131962841,
         0.018200102770069518,
         0.018373074116076214,
         0.018905274238701978,
         0.018224099336676063,
         0.019214157968439234,
         0.018667561899931573,
         0.01815586737754437,
         0.019180318074850232,
         0.019079627777225324,
         0.01882916800767356,
         0.018141557458049812,
         0.018336740636318634,
         0.018189029504383246,
         0.01823300864094447,
         0.01939589217048548,
         0.018948458468281554,
         0.018113362729701286,
         0.018531136888989937,
         0.01943384401761472,
         0.019047313833247415,
         0.018048085202100748,
         0.018305017954933517,
         0.018718812213406745,
         0.018206773840861116,
         0.018499755842949956,
         0.018739199174621052,
         0.018266895197474188,
         0.018453681697694662,
         0.01951442590205727,
         0.018557470050864073,
         0.01832198179433205,
         0.018357534289441778,
         0.018266511539982516,
         0.019189153692874644,
         0.018042086672149016,
         0.019367612757498317,
         0.01848131089141385,
         0.018290574456168253,
         0.018355700389194752,
         0.01903895330416809,
         0.01823407113301758,
         0.018120481161149508,
         0.01833370527655388,
         0.018581500369096976,
         0.018145219598697953,
         0.01838412017540138,
         0.01844392476912181,
         0.01780541736367948,
         0.01862245591079734,
         0.018439207580808525,
         0.0186743865859528,
         0.018623976141266447,
         0.01818493971734665,
         0.018101915713121534,
         0.01823308493694669,
         0.01886522883822764,
         0.018356984367482343,
         0.018471729699269586,
         0.018727038728159166,
         0.017929373149776575,
         0.018441338767030562,
         0.018835320426376752,
         0.018821433852454647,
         0.01811203548787684,
         0.018833999086178388,
         0.018517948724298443,
         0.01880385283741785,
         0.019162824588692978,
         0.018627102121767977,
         0.018100858158833083,
         0.018250162782034337,
         0.017945779547390607,
         0.019035473178821222,
         0.018649006642059724,
         0.018045365640083716,
         0.0190540867397494,
         0.019021712418480923,
         0.01889082763386592,
         0.01837534792201787,
         0.01803626646358027,
         0.018649693419923754,
         0.018982442575138085,
         0.017917751580760383,
         0.018647157559744634,
         0.017903061521546648,
         0.0190143203738245
        ],
        [
         0.10172183839483308,
         0.10237063804955839,
         0.1023860950047126,
         0.10205110645090992,
         0.10202956749972972,
         0.10208842786053171,
         0.10163259088944693,
         0.10290082755752585,
         0.10074391621225454,
         0.10128247320603628,
         0.10263540110756438,
         0.1018507911085889,
         0.10317930007087332,
         0.10270716819621913,
         0.10183244913381029,
         0.10151198592230484,
         0.10243677907901538,
         0.1012391893967212,
         0.10299921702206521,
         0.10180435715509313,
         0.10088700838628914,
         0.10232581729190303,
         0.10285116179374518,
         0.10261202834594946,
         0.10081339974633673,
         0.1011953227004254,
         0.10150594185650735,
         0.10111628229693546,
         0.10300696562588602,
         0.10187149133726761,
         0.10077012174266886,
         0.1011564875650522,
         0.10303297221612234,
         0.10258139581600954,
         0.10044357034244708,
         0.10139661397204383,
         0.10197862952512193,
         0.1013709470121698,
         0.10113740672490426,
         0.10202196945569345,
         0.10126797960127716,
         0.10115428490249755,
         0.10325576973377497,
         0.10186289317373719,
         0.10108693745954857,
         0.10156811840300049,
         0.10137934817073795,
         0.10268545778492441,
         0.10087001603096724,
         0.10262965235568873,
         0.10139665403100964,
         0.1016657484888837,
         0.1016083105116502,
         0.10222845581396446,
         0.10133490710241067,
         0.10005432337087083,
         0.10106084842912176,
         0.10153863655233925,
         0.10114497225731611,
         0.10195227343492307,
         0.10205415015822494,
         0.10031847722296204,
         0.10120707526561115,
         0.10171354057678542,
         0.1008170952343128,
         0.1018489623297151,
         0.10091897969847763,
         0.10070084914710227,
         0.10090763159338142,
         0.10193897579349094,
         0.10149646142812131,
         0.10147699141608817,
         0.10283893548774642,
         0.10026032108716763,
         0.10115597744218328,
         0.10191459284926002,
         0.10234281158244068,
         0.1008922385003466,
         0.10171660789373246,
         0.10156376261941412,
         0.10113030564426989,
         0.10229242901475012,
         0.10215591386492763,
         0.10126416800035672,
         0.10113647375739628,
         0.10016336697214223,
         0.10160873974250122,
         0.10189512225666217,
         0.10042499227134825,
         0.10271504065384726,
         0.10201931356561261,
         0.10252145676595437,
         0.1012487102711162,
         0.1006991844745232,
         0.10172379644611826,
         0.10185070402388062,
         0.09970842890876841,
         0.10266216552828426,
         0.10016950431533835,
         0.10213877056277805
        ],
        [
         15.665163112804294,
         15.765078259631991,
         15.767458630725741,
         15.715870393440127,
         15.712553394958377,
         15.721617890521884,
         15.651418996974826,
         15.846727443858981,
         15.514563096687198,
         15.597500873729587,
         15.805851770564914,
         15.68502183072269,
         15.889612210914493,
         15.816903902217746,
         15.682197166606784,
         15.632845832034945,
         15.775263978168368,
         15.590835167095065,
         15.861879421398044,
         15.677871001884341,
         15.536599291488528,
         15.758175862953067,
         15.839078916236758,
         15.802252365276217,
         15.525263560935855,
         15.584079695865512,
         15.631915045902133,
         15.57190747372806,
         15.863072706386447,
         15.688209665939212,
         15.518598748371005,
         15.578099085018039,
         15.86707772128284,
         15.79753495566547,
         15.46830983273685,
         15.61507855169475,
         15.704708946868777,
         15.611125839874148,
         15.575160635635257,
         15.711383296176791,
         15.595268858596683,
         15.577759874984622,
         15.901388539001346,
         15.686885548755527,
         15.56738836877048,
         15.641490234062076,
         15.612419618293643,
         15.81356049887836,
         15.533982468768954,
         15.804966462776065,
         15.615084720775485,
         15.656525267288089,
         15.647679818794131,
         15.743182195350528,
         15.605575693771243,
         15.408365799114108,
         15.56337065808475,
         15.636950029060245,
         15.576325727626681,
         15.700650108978152,
         15.716339124366641,
         15.449045492336154,
         15.585889590904117,
         15.663885248824954,
         15.52583266608417,
         15.684740198776126,
         15.541522873565555,
         15.50793076865375,
         15.53977526538074,
         15.698602272197604,
         15.630455059930682,
         15.627456678077579,
         15.837196065112948,
         15.440089447423816,
         15.578020526096225,
         15.694847298786044,
         15.760792983695865,
         15.537404729053378,
         15.664357615634799,
         15.640819443389773,
         15.574067069217563,
         15.753034068271518,
         15.732010735198855,
         15.594681872054935,
         15.575016958639026,
         15.425158513709903,
         15.647745920345187,
         15.691848827525973,
         15.465448809787631,
         15.818116260692477,
         15.710974289104342,
         15.788304341956973,
         15.592301381751895,
         15.507674409076571,
         15.665464652702212,
         15.685008419677615,
         15.355098051950336,
         15.809973491355777,
         15.426103664562106,
         15.729370666667819
        ],
        [
         1.7107248224930087,
         1.695781937796264,
         1.7113124075599413,
         1.700083661489107,
         1.6968282336512475,
         1.705875415330003,
         1.692396941558913,
         1.717234800272707,
         1.6714657069254402,
         1.6788314992299802,
         1.7172406131418674,
         1.6898139880299339,
         1.7276263777371936,
         1.702098881740651,
         1.6741612307632459,
         1.6820979204183495,
         1.70628609346736,
         1.675264545630962,
         1.720168691477566,
         1.6955248546068151,
         1.6721254666267817,
         1.7186532470300504,
         1.7141361316105264,
         1.7028481650404796,
         1.6714663767302265,
         1.6804338898014017,
         1.6736518585640863,
         1.6756739929668445,
         1.7282845235246318,
         1.7082337674087114,
         1.6701670157125,
         1.6893179336360726,
         1.7299745601345318,
         1.712683955176816,
         1.6671547981886732,
         1.6789796797638028,
         1.6978507239638705,
         1.674468026416931,
         1.6878869629848714,
         1.6987750507031947,
         1.6772304136316587,
         1.6857837884630926,
         1.733557495128679,
         1.690517786902305,
         1.6797574814023408,
         1.6813864161976668,
         1.6772128002007698,
         1.719049059422882,
         1.6668777242230302,
         1.7270241355159865,
         1.687045309788013,
         1.6783171530583578,
         1.6813024296467283,
         1.7123080356179743,
         1.67572281552908,
         1.6704951657568554,
         1.6802947993103166,
         1.6916119699390089,
         1.6716350732739143,
         1.6826034907285237,
         1.6853380712618933,
         1.6559088966506097,
         1.6934751873773617,
         1.6851225378127588,
         1.6958347602985178,
         1.6935443087663908,
         1.6734636884233203,
         1.6696391885137087,
         1.6756774988910577,
         1.7044779966567645,
         1.6813612320356028,
         1.686607949017055,
         1.698223767392422,
         1.661662861432966,
         1.6852199174359133,
         1.7031263445974933,
         1.7024984033114439,
         1.6701058245311984,
         1.7030666044730816,
         1.6887167031630734,
         1.7017030695636501,
         1.717869315943072,
         1.6936864310586741,
         1.6695904157787604,
         1.6764620688918934,
         1.6624229456724162,
         1.7121515322945184,
         1.694681982814828,
         1.6670291864790168,
         1.7129884290097839,
         1.7115325624848807,
         1.7056340333187985,
         1.6822020033250322,
         1.6666088429476669,
         1.6947131871406023,
         1.7097649419061278,
         1.6611242408191806,
         1.6945979653595342,
         1.6604431560032953,
         1.7111999700704104
        ]
       ],
       "encoder": "json",
       "name": "ABC_GAN_1 Metrics",
       "version": 1
      }
     },
     "metadata": {
      "scrapbook": {
       "data": true,
       "display": false,
       "name": "ABC_GAN_1 Metrics"
      }
     },
     "output_type": "display_data"
    },
    {
     "name": "stdout",
     "output_type": "stream",
     "text": [
      "MAE\n",
      "0.10164838265047058\n"
     ]
    }
   ],
   "source": [
    "ABC_GAN1_metrics=ABC_train_test2.test_generator(gen,test_data,prior_model,variance,bias,\"1\",device)\n",
    "sb.glue(\"ABC_GAN_1 Metrics\",ABC_GAN1_metrics)\n",
    "\n",
    "print(\"MAE\")\n",
    "print(mean(ABC_GAN1_metrics[1]))"
   ]
  },
  {
   "cell_type": "code",
   "execution_count": 14,
   "id": "eb22ce5c",
   "metadata": {
    "execution": {
     "iopub.execute_input": "2022-07-25T12:23:02.724869Z",
     "iopub.status.busy": "2022-07-25T12:23:02.724553Z",
     "iopub.status.idle": "2022-07-25T12:23:03.583165Z",
     "shell.execute_reply": "2022-07-25T12:23:03.582232Z"
    },
    "papermill": {
     "duration": 0.88894,
     "end_time": "2022-07-25T12:23:03.585979",
     "exception": false,
     "start_time": "2022-07-25T12:23:02.697039",
     "status": "completed"
    },
    "tags": []
   },
   "outputs": [
    {
     "data": {
      "image/png": "[encoded data removed]",
      "text/plain": [
       "<Figure size 432x288 with 1 Axes>"
      ]
     },
     "metadata": {
      "needs_background": "light"
     },
     "output_type": "display_data"
    },
    {
     "data": {
      "image/png": "[encoded data removed]",
      "text/plain": [
       "<Figure size 432x288 with 1 Axes>"
      ]
     },
     "metadata": {
      "needs_background": "light"
     },
     "output_type": "display_data"
    },
    {
     "data": {
      "image/png": "[encoded data removed]",
      "text/plain": [
       "<Figure size 432x288 with 1 Axes>"
      ]
     },
     "metadata": {
      "needs_background": "light"
     },
     "output_type": "display_data"
    },
    {
     "data": {
      "image/png": "[encoded data removed]",
      "text/plain": [
       "<Figure size 432x288 with 1 Axes>"
      ]
     },
     "metadata": {
      "needs_background": "light"
     },
     "output_type": "display_data"
    }
   ],
   "source": [
    "sanityChecks.discProbVsError(train_data,disc,device)\n",
    "sanityChecks.discProbVsError(test_data,disc,device)"
   ]
  },
  {
   "cell_type": "markdown",
   "id": "75c65757",
   "metadata": {
    "papermill": {
     "duration": 0.029113,
     "end_time": "2022-07-25T12:23:03.641350",
     "exception": false,
     "start_time": "2022-07-25T12:23:03.612237",
     "status": "completed"
    },
    "tags": []
   },
   "source": [
    "# mGAN Model with TabNet Generator"
   ]
  },
  {
   "cell_type": "code",
   "execution_count": 15,
   "id": "28672b89",
   "metadata": {
    "execution": {
     "iopub.execute_input": "2022-07-25T12:23:03.706615Z",
     "iopub.status.busy": "2022-07-25T12:23:03.705877Z",
     "iopub.status.idle": "2022-07-25T12:23:03.723911Z",
     "shell.execute_reply": "2022-07-25T12:23:03.722163Z"
    },
    "papermill": {
     "duration": 0.052068,
     "end_time": "2022-07-25T12:23:03.726711",
     "exception": false,
     "start_time": "2022-07-25T12:23:03.674643",
     "status": "completed"
    },
    "tags": []
   },
   "outputs": [],
   "source": [
    "gen2 = network.GeneratorTabnet(n_features+1).to(device)\n",
    "disc2 = network.Discriminator(n_features+1).to(device)\n",
    "\n",
    "criterion = torch.nn.BCELoss()\n",
    "gen_opt = torch.optim.Adam(gen2.parameters(), lr=0.01, betas=(0.5, 0.999))\n",
    "disc_opt = torch.optim.Adam(disc2.parameters(), lr=0.01, betas=(0.5, 0.999))"
   ]
  },
  {
   "cell_type": "code",
   "execution_count": 16,
   "id": "c8f6e8a6",
   "metadata": {
    "execution": {
     "iopub.execute_input": "2022-07-25T12:23:03.784192Z",
     "iopub.status.busy": "2022-07-25T12:23:03.783518Z",
     "iopub.status.idle": "2022-07-25T12:39:50.055008Z",
     "shell.execute_reply": "2022-07-25T12:39:50.053392Z"
    },
    "papermill": {
     "duration": 1006.307701,
     "end_time": "2022-07-25T12:39:50.060046",
     "exception": false,
     "start_time": "2022-07-25T12:23:03.752345",
     "status": "completed"
    },
    "tags": []
   },
   "outputs": [
    {
     "data": {
      "image/png": "[encoded data removed]",
      "text/plain": [
       "<Figure size 432x288 with 1 Axes>"
      ]
     },
     "metadata": {
      "needs_background": "light"
     },
     "output_type": "display_data"
    },
    {
     "data": {
      "image/png": "[encoded data removed]",
      "text/plain": [
       "<Figure size 432x288 with 1 Axes>"
      ]
     },
     "metadata": {
      "needs_background": "light"
     },
     "output_type": "display_data"
    }
   ],
   "source": [
    "#Training the ABC_GAN \n",
    "ABC_train_test2.training_GAN(disc2,gen2,disc_opt,gen_opt,train_data,batch_size,n_epochs,criterion,prior_model,variance,bias,device)"
   ]
  },
  {
   "cell_type": "code",
   "execution_count": 17,
   "id": "b0aea2ff",
   "metadata": {
    "execution": {
     "iopub.execute_input": "2022-07-25T12:39:50.123994Z",
     "iopub.status.busy": "2022-07-25T12:39:50.123413Z",
     "iopub.status.idle": "2022-07-25T12:39:54.620449Z",
     "shell.execute_reply": "2022-07-25T12:39:54.619479Z"
    },
    "papermill": {
     "duration": 4.532891,
     "end_time": "2022-07-25T12:39:54.623516",
     "exception": false,
     "start_time": "2022-07-25T12:39:50.090625",
     "status": "completed"
    },
    "tags": []
   },
   "outputs": [
    {
     "data": {
      "application/scrapbook.scrap.json+json": {
       "data": 0.01241128488549464,
       "encoder": "json",
       "name": "ABC-GAN Model 1 MSE",
       "version": 1
      }
     },
     "metadata": {
      "scrapbook": {
       "data": true,
       "display": false,
       "name": "ABC-GAN Model 1 MSE"
      }
     },
     "output_type": "display_data"
    },
    {
     "data": {
      "application/scrapbook.scrap.json+json": {
       "data": 0.08725323132154617,
       "encoder": "json",
       "name": "ABC-GAN Model 1 MAE",
       "version": 1
      }
     },
     "metadata": {
      "scrapbook": {
       "data": true,
       "display": false,
       "name": "ABC-GAN Model 1 MAE"
      }
     },
     "output_type": "display_data"
    },
    {
     "data": {
      "application/scrapbook.scrap.json+json": {
       "data": 13.43699762351811,
       "encoder": "json",
       "name": "ABC-GAN Model 1 Manhattan Distance",
       "version": 1
      }
     },
     "metadata": {
      "scrapbook": {
       "data": true,
       "display": false,
       "name": "ABC-GAN Model 1 Manhattan Distance"
      }
     },
     "output_type": "display_data"
    },
    {
     "data": {
      "application/scrapbook.scrap.json+json": {
       "data": 1.382467381941648,
       "encoder": "json",
       "name": "ABC-GAN Model 1 Euclidean distance",
       "version": 1
      }
     },
     "metadata": {
      "scrapbook": {
       "data": true,
       "display": false,
       "name": "ABC-GAN Model 1 Euclidean distance"
      }
     },
     "output_type": "display_data"
    },
    {
     "data": {
      "application/scrapbook.scrap.json+json": {
       "data": [
        [
         0.012715388358045051,
         0.012579827400640719,
         0.01264386578631696,
         0.012619282609205555,
         0.012207114082476881,
         0.012349668500771148,
         0.012153420438614265,
         0.012273164067033762,
         0.012272894554741348,
         0.012265406596290726,
         0.012275657388873245,
         0.01259455646589176,
         0.012280972354287798,
         0.012573639997568215,
         0.012507177144522161,
         0.01251530771459857,
         0.012098040467990177,
         0.012585744492734176,
         0.013017183334738705,
         0.012740251308774384,
         0.012463381654724711,
         0.012445395290676961,
         0.012528828138777997,
         0.012314598229958451,
         0.012511854910226916,
         0.012406427731496484,
         0.01245476142778663,
         0.012360191873402128,
         0.012165000330286311,
         0.012169139774082556,
         0.011937450828416627,
         0.012535629672387211,
         0.012351987960283735,
         0.01240911996591134,
         0.012536713268991867,
         0.012472404148525672,
         0.012166408468117942,
         0.012568387119807671,
         0.012636215859230871,
         0.012359571686049212,
         0.012266218683919843,
         0.012550213364417867,
         0.01222083443961641,
         0.012179369462513929,
         0.012297098780207285,
         0.012138785369664852,
         0.012511440068608283,
         0.012622328135265275,
         0.012854645445068532,
         0.012561611552030517,
         0.012398948993335088,
         0.012174104305956572,
         0.01238033052614906,
         0.012192006617284055,
         0.012822618363650841,
         0.012707321495057256,
         0.012407117492211956,
         0.01234748314838335,
         0.012218007952997125,
         0.012318900331349185,
         0.012611128763884859,
         0.01247651969883854,
         0.012338784296068021,
         0.012538429163422998,
         0.012038765721542196,
         0.012246439438981646,
         0.012429732084863847,
         0.012490228504756732,
         0.012459300925517327,
         0.012250429933604989,
         0.012199824498963736,
         0.012710691392976668,
         0.012052689599692272,
         0.012187779416248455,
         0.012412414520713832,
         0.012538413614834234,
         0.01252686012810967,
         0.012406212097545272,
         0.012038886054657293,
         0.012356499997539367,
         0.012356851244220608,
         0.01238974032702582,
         0.012436812351664937,
         0.01242994405221531,
         0.012464638751282385,
         0.012504840264893902,
         0.012645095959401248,
         0.012453259534175842,
         0.012873584876477353,
         0.01230375951906722,
         0.012449678332811662,
         0.012399218787509731,
         0.012407692199860591,
         0.012333017014132341,
         0.012487835553351282,
         0.01274551323118031,
         0.012393726586900279,
         0.012243993848012561,
         0.012180446143260757,
         0.01208739418831368
        ],
        [
         0.08790818387763454,
         0.08775759013006826,
         0.08813790027535968,
         0.08804714397902226,
         0.08636841099322229,
         0.08675426378991309,
         0.08628292680512388,
         0.08707382819046836,
         0.08657829888019856,
         0.087324695044814,
         0.0859510489171008,
         0.08799622342135612,
         0.08741233351507358,
         0.08785041004370947,
         0.08692199126031104,
         0.08731698543559034,
         0.086238548244265,
         0.0877810608135996,
         0.08899321686476469,
         0.08787569702397306,
         0.08747811798103057,
         0.08786053702767406,
         0.08798161641295467,
         0.0861572842778904,
         0.08754275960533263,
         0.08736511289637972,
         0.08662174331242001,
         0.08728249273081491,
         0.0862383246300863,
         0.08618390597644951,
         0.08581018011242926,
         0.08811305452428468,
         0.08713651244081073,
         0.08733202322301539,
         0.08743542586392783,
         0.08762540309024709,
         0.08571898839255045,
         0.08771530731109442,
         0.08824928606824055,
         0.08781653825290404,
         0.08639794935218313,
         0.08767400903312804,
         0.08689015134927128,
         0.08592831738922116,
         0.08704512400625201,
         0.08652910511553674,
         0.08751424971677653,
         0.08820514311989794,
         0.08841832784040794,
         0.08741699303077026,
         0.0877123943276026,
         0.08609112708938199,
         0.08726317008546033,
         0.08653644964631114,
         0.0882100523751858,
         0.08847086730280093,
         0.0876922146719578,
         0.08713038100002261,
         0.08630712300103593,
         0.08730637716347134,
         0.08850240135299307,
         0.08704696952474195,
         0.0869093942637374,
         0.08748687667070658,
         0.08519352293972458,
         0.08640649990940635,
         0.08731729652152045,
         0.08864602097007748,
         0.08776634030479502,
         0.08712196735931295,
         0.08708819136168662,
         0.08802511948221303,
         0.08627184421162713,
         0.08680335082742688,
         0.08757045680003894,
         0.08776518536804172,
         0.08748682712918365,
         0.08729363260669755,
         0.0865882970755557,
         0.08629179667294412,
         0.0870217496964645,
         0.08664415456209477,
         0.08750100403588701,
         0.08665760160218199,
         0.08798344509506767,
         0.08773194232883004,
         0.08798166208404612,
         0.0875780192361056,
         0.0897297254316025,
         0.08718007792077669,
         0.08743596559559758,
         0.08775406484431647,
         0.08703869492928316,
         0.0869413252266777,
         0.08707716875987781,
         0.08845780159697517,
         0.08637461074712602,
         0.08675110803360676,
         0.08668810427914579,
         0.08623801654374058
        ],
        [
         13.537860317155719,
         13.514668880030513,
         13.57323664240539,
         13.559260172769427,
         13.300735292956233,
         13.360156623646617,
         13.287570727989078,
         13.409369541332126,
         13.333058027550578,
         13.448003036901355,
         13.236461533233523,
         13.551418406888843,
         13.46149936132133,
         13.528963146731257,
         13.385986654087901,
         13.446815757080913,
         13.280736429616809,
         13.518283365294337,
         13.704955397173762,
         13.532857341691852,
         13.471630169078708,
         13.530522702261806,
         13.54916892759502,
         13.268221778795123,
         13.481584979221225,
         13.454227386042476,
         13.339748470112681,
         13.441503880545497,
         13.28070199303329,
         13.272321520373225,
         13.214767737314105,
         13.56941039673984,
         13.419022915884852,
         13.44913157634437,
         13.465055583044887,
         13.494312075898051,
         13.20072421245277,
         13.508157325908542,
         13.590390054509044,
         13.523746890947223,
         13.305284200236201,
         13.501797391101718,
         13.381083307787776,
         13.232960877940059,
         13.40494909696281,
         13.325482187792659,
         13.477194456383586,
         13.583592040464282,
         13.616422487422824,
         13.46221692673862,
         13.507708726450801,
         13.258033571764827,
         13.438528193160892,
         13.326613245531917,
         13.584348065778613,
         13.624513564631343,
         13.504601059481502,
         13.418078674003482,
         13.291296942159534,
         13.445182083174586,
         13.629369808360934,
         13.40523330681026,
         13.384046716615558,
         13.472979007288814,
         13.119802532717586,
         13.30660098604858,
         13.44686366431415,
         13.651487229391932,
         13.516016406938434,
         13.416782973334193,
         13.41158146969974,
         13.555868400260806,
         13.285864008590579,
         13.36771602742374,
         13.485850347205997,
         13.515838546678424,
         13.472971377894282,
         13.443219421431422,
         13.334597749635577,
         13.288936687633395,
         13.401349453255534,
         13.343199802562594,
         13.475154621526599,
         13.345270646736026,
         13.549450544640422,
         13.510719118639827,
         13.549175960943103,
         13.487014962360263,
         13.818377716466784,
         13.42573199979961,
         13.465138701722026,
         13.514125986024737,
         13.403959019109607,
         13.388964084908366,
         13.409883989021182,
         13.622501445934176,
         13.301690055057406,
         13.35967063717544,
         13.349968058988452,
         13.280654547736049
        ],
        [
         1.3993462070334624,
         1.3918668828945786,
         1.3954050777794997,
         1.3940478907905767,
         1.37109283737515,
         1.3790753964590756,
         1.3680741016284887,
         1.3747971727942996,
         1.374782077796393,
         1.3743626216645926,
         1.3749368123250172,
         1.3926814767732538,
         1.3752344318552823,
         1.3915245451035008,
         1.3878419507481436,
         1.3882929763015368,
         1.3649535640711326,
         1.3921941861252916,
         1.4158553010635517,
         1.4007136400960958,
         1.38540996633762,
         1.3844099373972478,
         1.3890426679450172,
         1.377115872907433,
         1.3881014574500472,
         1.3822408873457834,
         1.3849307780099123,
         1.3796628387051408,
         1.3687257032963513,
         1.3689585549638505,
         1.3558640889027782,
         1.3894196520661533,
         1.3792048962658503,
         1.382390854552484,
         1.3894797024155292,
         1.3859113387489668,
         1.3688049182006043,
         1.3912338467886631,
         1.3949828824475066,
         1.379628225157625,
         1.3744081189092474,
         1.3902276281675428,
         1.3718631505004162,
         1.3695338247838733,
         1.376137061542898,
         1.3672501405845192,
         1.38807844539337,
         1.3942160997603106,
         1.4069880591321855,
         1.3908587919025783,
         1.3818242091429733,
         1.3692377671965204,
         1.3807863343135154,
         1.370244145786343,
         1.4052342253169858,
         1.3989022518527938,
         1.3822793110658356,
         1.3789533729793173,
         1.371704496151251,
         1.377356399421651,
         1.3935974417450214,
         1.3861399762005044,
         1.378467548255843,
         1.3895747878999323,
         1.3616056408217094,
         1.373299557126257,
         1.3835384855756752,
         1.3869012905511828,
         1.3851831440389637,
         1.3735232833028963,
         1.3706833962809994,
         1.3990877293859765,
         1.3623928208679792,
         1.3700065803134895,
         1.3825743510531106,
         1.389573926311397,
         1.3889335692281648,
         1.382228875049994,
         1.3616124457485042,
         1.3794567770035646,
         1.3794763831287484,
         1.3813109752557446,
         1.383932477455602,
         1.3835502824404893,
         1.3854798330172429,
         1.3877122903518802,
         1.3954729584437644,
         1.3848472725405785,
         1.408024172724855,
         1.3765097042652303,
         1.3846481369839039,
         1.3818392429210058,
         1.3823113248391372,
         1.3781453552424652,
         1.3867684288359385,
         1.401002868520178,
         1.3815331680356586,
         1.3731624276078684,
         1.3695943582178471,
         1.3643528520878705
        ]
       ],
       "encoder": "json",
       "name": "ABC_GAN_2 Metrics",
       "version": 1
      }
     },
     "metadata": {
      "scrapbook": {
       "data": true,
       "display": false,
       "name": "ABC_GAN_2 Metrics"
      }
     },
     "output_type": "display_data"
    },
    {
     "name": "stdout",
     "output_type": "stream",
     "text": [
      "MAE\n",
      "0.08725323132154617\n"
     ]
    }
   ],
   "source": [
    "ABC_GAN2_metrics=ABC_train_test2.test_generator(gen2,test_data,prior_model,variance,bias,\"1\",device)\n",
    "sb.glue(\"ABC_GAN_2 Metrics\",ABC_GAN2_metrics)\n",
    "\n",
    "print(\"MAE\")\n",
    "print(mean(ABC_GAN2_metrics[1]))"
   ]
  },
  {
   "cell_type": "code",
   "execution_count": 18,
   "id": "627a785f",
   "metadata": {
    "execution": {
     "iopub.execute_input": "2022-07-25T12:39:54.681717Z",
     "iopub.status.busy": "2022-07-25T12:39:54.681104Z",
     "iopub.status.idle": "2022-07-25T12:39:55.778178Z",
     "shell.execute_reply": "2022-07-25T12:39:55.777307Z"
    },
    "papermill": {
     "duration": 1.129287,
     "end_time": "2022-07-25T12:39:55.781000",
     "exception": false,
     "start_time": "2022-07-25T12:39:54.651713",
     "status": "completed"
    },
    "tags": []
   },
   "outputs": [
    {
     "data": {
      "image/png": "[encoded data removed]",
      "text/plain": [
       "<Figure size 432x288 with 1 Axes>"
      ]
     },
     "metadata": {
      "needs_background": "light"
     },
     "output_type": "display_data"
    },
    {
     "data": {
      "image/png": "[encoded data removed]",
      "text/plain": [
       "<Figure size 432x288 with 1 Axes>"
      ]
     },
     "metadata": {
      "needs_background": "light"
     },
     "output_type": "display_data"
    },
    {
     "data": {
      "image/png": "[encoded data removed]",
      "text/plain": [
       "<Figure size 432x288 with 1 Axes>"
      ]
     },
     "metadata": {
      "needs_background": "light"
     },
     "output_type": "display_data"
    },
    {
     "data": {
      "image/png": "[encoded data removed]",
      "text/plain": [
       "<Figure size 432x288 with 1 Axes>"
      ]
     },
     "metadata": {
      "needs_background": "light"
     },
     "output_type": "display_data"
    }
   ],
   "source": [
    "sanityChecks.discProbVsError(train_data,disc2,device)\n",
    "sanityChecks.discProbVsError(test_data,disc2,device)"
   ]
  },
  {
   "cell_type": "markdown",
   "id": "130f3a4d",
   "metadata": {
    "id": "130f3a4d",
    "papermill": {
     "duration": 0.033158,
     "end_time": "2022-07-25T12:39:55.845492",
     "exception": false,
     "start_time": "2022-07-25T12:39:55.812334",
     "status": "completed"
    },
    "tags": []
   },
   "source": [
    "# skipGAN Model"
   ]
  },
  {
   "cell_type": "code",
   "execution_count": 19,
   "id": "4e43dad1",
   "metadata": {
    "execution": {
     "iopub.execute_input": "2022-07-25T12:39:55.906042Z",
     "iopub.status.busy": "2022-07-25T12:39:55.905667Z",
     "iopub.status.idle": "2022-07-25T12:39:55.914374Z",
     "shell.execute_reply": "2022-07-25T12:39:55.912720Z"
    },
    "id": "4e43dad1",
    "papermill": {
     "duration": 0.042119,
     "end_time": "2022-07-25T12:39:55.917347",
     "exception": false,
     "start_time": "2022-07-25T12:39:55.875228",
     "status": "completed"
    },
    "tags": []
   },
   "outputs": [],
   "source": [
    "#Generator\n",
    "gen3 = network.GeneratorWithSkipConnection(n_features+1).to(device)\n",
    "constraints=network.weightConstraint()\n",
    "#Discriminator \n",
    "disc3 = network.Discriminator(n_features+1).to(device)\n",
    "\n",
    "criterion = torch.nn.BCELoss()\n",
    "gen_opt = torch.optim.Adam(gen3.parameters(), lr=0.01, betas=(0.5, 0.999))\n",
    "disc_opt = torch.optim.Adam(disc3.parameters(), lr=0.01, betas=(0.5, 0.999))\n"
   ]
  },
  {
   "cell_type": "code",
   "execution_count": 20,
   "id": "26acbc37",
   "metadata": {
    "execution": {
     "iopub.execute_input": "2022-07-25T12:39:55.980208Z",
     "iopub.status.busy": "2022-07-25T12:39:55.979894Z",
     "iopub.status.idle": "2022-07-25T12:49:44.421470Z",
     "shell.execute_reply": "2022-07-25T12:49:44.420487Z"
    },
    "id": "26acbc37",
    "papermill": {
     "duration": 588.477513,
     "end_time": "2022-07-25T12:49:44.424307",
     "exception": false,
     "start_time": "2022-07-25T12:39:55.946794",
     "status": "completed"
    },
    "tags": []
   },
   "outputs": [
    {
     "data": {
      "image/png": "[encoded data removed]",
      "text/plain": [
       "<Figure size 432x288 with 1 Axes>"
      ]
     },
     "metadata": {
      "needs_background": "light"
     },
     "output_type": "display_data"
    },
    {
     "data": {
      "image/png": "[encoded data removed]",
      "text/plain": [
       "<Figure size 432x288 with 1 Axes>"
      ]
     },
     "metadata": {
      "needs_background": "light"
     },
     "output_type": "display_data"
    }
   ],
   "source": [
    "ABC_train_test2.training_GAN_skip_connection(disc3,gen3,disc_opt,gen_opt,train_data,batch_size,n_epochs,criterion,prior_model,variance,bias,device)"
   ]
  },
  {
   "cell_type": "code",
   "execution_count": 21,
   "id": "c5e0717b",
   "metadata": {
    "execution": {
     "iopub.execute_input": "2022-07-25T12:49:44.488649Z",
     "iopub.status.busy": "2022-07-25T12:49:44.487981Z",
     "iopub.status.idle": "2022-07-25T12:49:49.076525Z",
     "shell.execute_reply": "2022-07-25T12:49:49.075732Z"
    },
    "id": "c5e0717b",
    "papermill": {
     "duration": 4.623118,
     "end_time": "2022-07-25T12:49:49.079138",
     "exception": false,
     "start_time": "2022-07-25T12:49:44.456020",
     "status": "completed"
    },
    "tags": []
   },
   "outputs": [
    {
     "data": {
      "application/scrapbook.scrap.json+json": {
       "data": 0.010489568037263473,
       "encoder": "json",
       "name": "ABC-GAN Model 3 MSE",
       "version": 1
      }
     },
     "metadata": {
      "scrapbook": {
       "data": true,
       "display": false,
       "name": "ABC-GAN Model 3 MSE"
      }
     },
     "output_type": "display_data"
    },
    {
     "data": {
      "application/scrapbook.scrap.json+json": {
       "data": 0.07897303751996392,
       "encoder": "json",
       "name": "ABC-GAN Model 3 MAE",
       "version": 1
      }
     },
     "metadata": {
      "scrapbook": {
       "data": true,
       "display": false,
       "name": "ABC-GAN Model 3 MAE"
      }
     },
     "output_type": "display_data"
    },
    {
     "data": {
      "application/scrapbook.scrap.json+json": {
       "data": 12.161847778074444,
       "encoder": "json",
       "name": "ABC-GAN Model 3 Manhattan Distance",
       "version": 1
      }
     },
     "metadata": {
      "scrapbook": {
       "data": true,
       "display": false,
       "name": "ABC-GAN Model 3 Manhattan Distance"
      }
     },
     "output_type": "display_data"
    },
    {
     "data": {
      "application/scrapbook.scrap.json+json": {
       "data": 1.2709535301541313,
       "encoder": "json",
       "name": "ABC-GAN Model 3 Euclidean distance",
       "version": 1
      }
     },
     "metadata": {
      "scrapbook": {
       "data": true,
       "display": false,
       "name": "ABC-GAN Model 3 Euclidean distance"
      }
     },
     "output_type": "display_data"
    },
    {
     "data": {
      "application/scrapbook.scrap.json+json": {
       "data": [
        [
         0.010506472435509184,
         0.010530497781574956,
         0.010470357348045444,
         0.010308118262934493,
         0.010435997541132027,
         0.010322713874303665,
         0.010469595323721818,
         0.010498570734433669,
         0.010721185907791685,
         0.010668467441211492,
         0.010431182355172586,
         0.01050043483987149,
         0.010645042497776702,
         0.010319123309441814,
         0.01071628680850869,
         0.010301397140731354,
         0.010423562671128275,
         0.010593723617058761,
         0.01038579707083963,
         0.010571979073902268,
         0.010508671385016531,
         0.01049109508012695,
         0.010440883514154965,
         0.010370329958371234,
         0.010434963093515198,
         0.010402526985258134,
         0.010623455443341647,
         0.01068500124717491,
         0.01040718872143726,
         0.010320623516566384,
         0.010232464789419334,
         0.01078877469514252,
         0.010647973132747913,
         0.010524297634511027,
         0.010274541731413626,
         0.010606077181623158,
         0.010552859133629945,
         0.010746129943404894,
         0.010312592132612576,
         0.010785057001069416,
         0.010507631164504856,
         0.010517679329241093,
         0.010449780731253334,
         0.010316375218493906,
         0.010535722387656236,
         0.01052365978874118,
         0.010468005319177694,
         0.010285271830445935,
         0.010773046236411215,
         0.010768557410358882,
         0.010339812663571748,
         0.010537449848170623,
         0.01035957144895273,
         0.010363733229471435,
         0.010692091489550117,
         0.010419989953606826,
         0.010588993187662448,
         0.010462838859436453,
         0.010542084842272705,
         0.010412754860360434,
         0.010619170217643432,
         0.010455482124463978,
         0.010568038967411823,
         0.01049148538833481,
         0.010669759357850717,
         0.010517339755511603,
         0.010551051493231352,
         0.010570807663371031,
         0.010418276958652472,
         0.010511413990570402,
         0.010337185491942107,
         0.01082111400079165,
         0.010368626296691698,
         0.010583080238331431,
         0.010532814146221233,
         0.010671498301777032,
         0.010262153934941055,
         0.010217729149721314,
         0.010642939342704166,
         0.010340557236373508,
         0.01043931856519051,
         0.010599029426352883,
         0.010284629187278595,
         0.0104767110164256,
         0.010270518496338976,
         0.010476073674250285,
         0.010559102668745803,
         0.010417537371529848,
         0.010390173656771595,
         0.010307394254324044,
         0.01034814761400996,
         0.010402855203020598,
         0.010552670942323976,
         0.010364574401989807,
         0.01047961492325558,
         0.010484966874691824,
         0.010367034796537052,
         0.010567630049194199,
         0.010653562324471686,
         0.010523672068140158
        ],
        [
         0.07912598350750548,
         0.07882054937495427,
         0.07867633434036722,
         0.0786797200486838,
         0.07816248743903714,
         0.07921829789441515,
         0.07891284494189085,
         0.07974944364085987,
         0.07982100230677948,
         0.07956415224917136,
         0.0791111866060596,
         0.07913417242128741,
         0.0795555216223969,
         0.0777629716321826,
         0.07931628846261021,
         0.07833896464873831,
         0.0783385636236567,
         0.07941072089476632,
         0.07957709961655465,
         0.07981879974098562,
         0.0797448487129885,
         0.07890055419320798,
         0.07844599509345633,
         0.07830954699885923,
         0.07877469917928631,
         0.07871401178130469,
         0.07835904159280774,
         0.08023697267250195,
         0.07893485806930761,
         0.07794776712483786,
         0.07772255199054232,
         0.08020931277907901,
         0.08023841019913361,
         0.07955672832617125,
         0.07834061412987384,
         0.07963791299708091,
         0.0796641552482139,
         0.07934062621955361,
         0.07818786266513846,
         0.0804880800257836,
         0.07878239553228214,
         0.07976188219164486,
         0.0793052895671942,
         0.07874115903607824,
         0.07935569569613639,
         0.07898374147374522,
         0.07900418233513445,
         0.07788868426260623,
         0.0794947613635427,
         0.0803389476080026,
         0.07784885045915067,
         0.07978354494825199,
         0.07824115294285795,
         0.07867078951185012,
         0.07973948303706847,
         0.07923083044830467,
         0.07955652285464011,
         0.07880279120638387,
         0.07974853810503499,
         0.0773396510751797,
         0.07973236168504923,
         0.07912864462266882,
         0.0795763810709506,
         0.07868773339001776,
         0.08015322567919245,
         0.07885042654181068,
         0.07899270989242699,
         0.07908340905151971,
         0.07843413047927927,
         0.07918688982676764,
         0.07840605828814305,
         0.07995330318566654,
         0.07862221661277792,
         0.07904513222588734,
         0.07872365791253842,
         0.07983037922531366,
         0.07795591177055974,
         0.07778039007362994,
         0.07922127648172053,
         0.07847520998110633,
         0.07871201671901848,
         0.07958107851687576,
         0.07785808022871807,
         0.07903845998906082,
         0.07805729346567547,
         0.07924416268171815,
         0.07909472116160315,
         0.07842552810665462,
         0.07810964753440061,
         0.07834567292895797,
         0.07803517951351868,
         0.07824555028520234,
         0.07956551618922453,
         0.07895961238143893,
         0.07912901274908285,
         0.07830490185213941,
         0.07787610148986826,
         0.07897261112880011,
         0.07947767442455153,
         0.07896293398573415
        ],
        [
         12.185401460155845,
         12.138364603742957,
         12.116155488416553,
         12.116676887497306,
         12.03702306561172,
         12.199617875739932,
         12.152578121051192,
         12.28141432069242,
         12.29243435524404,
         12.25287944637239,
         12.183122737333179,
         12.18666255287826,
         12.251550329849124,
         11.97549763135612,
         12.214708423241973,
         12.0642005559057,
         12.064138798043132,
         12.229251017794013,
         12.254873340949416,
         12.292095160111785,
         12.280706701800227,
         12.150685345754027,
         12.080683244392276,
         12.05967023782432,
         12.131303673610091,
         12.121957814320922,
         12.067292405292392,
         12.356493791565299,
         12.155968142673373,
         12.003956137225032,
         11.969273006543517,
         12.352234167978168,
         12.356715170666575,
         12.251736162230372,
         12.064454576000571,
         12.26423860155046,
         12.26827990822494,
         12.218456437811255,
         12.040930850431323,
         12.395164323970675,
         12.13248891197145,
         12.283329857513309,
         12.213014593347907,
         12.126138491556048,
         12.220777137205005,
         12.163496186956763,
         12.166644079610705,
         11.99485737644136,
         12.242193249985576,
         12.3721979316324,
         11.988722970709205,
         12.286665922030807,
         12.049137553200126,
         12.11530158482492,
         12.279880387708545,
         12.20154788903892,
         12.251704519614577,
         12.135629845783114,
         12.281274868175387,
         11.910306265577674,
         12.27878369949758,
         12.185811271890998,
         12.25476268492639,
         12.117910942062736,
         12.343596754595637,
         12.142965687438846,
         12.164877323433757,
         12.178844993934035,
         12.078856093809009,
         12.194781033322215,
         12.07453297637403,
         12.312808690592647,
         12.1078213583678,
         12.17295036278665,
         12.123443318530917,
         12.293878400698304,
         12.005210412666202,
         11.978180071339011,
         12.200076578184962,
         12.085182337090373,
         12.121650574728847,
         12.255486091598868,
         11.990144355222583,
         12.171922838315368,
         12.020823193714023,
         12.203601052984595,
         12.180587058886886,
         12.077531328424811,
         12.028885720297694,
         12.065233631059527,
         12.017417645081878,
         12.04981474392116,
         12.253089493140578,
         12.159780306741595,
         12.18586796335876,
         12.058954885229468,
         11.992919629439712,
         12.161782113835216,
         12.239561861380935,
         12.160291833803058
        ],
        [
         1.2720050137748729,
         1.27345854206666,
         1.269816928379441,
         1.2599405591105923,
         1.2677316834939214,
         1.2608322396904215,
         1.2697707194029795,
         1.271526599447603,
         1.2849368193805948,
         1.281773765508785,
         1.2674391830366372,
         1.271639479310158,
         1.2803657854916353,
         1.2606129420460663,
         1.2846432066960611,
         1.2595297375102457,
         1.2669761842093774,
         1.2772757873799414,
         1.2646789113879078,
         1.2759642539589224,
         1.272138118795497,
         1.2710738146699234,
         1.2680284149733652,
         1.2637368450706699,
         1.2676688512388954,
         1.2656971026788963,
         1.2790669014068863,
         1.2827666163667248,
         1.2659806724833274,
         1.260704573463277,
         1.2553085587100001,
         1.2889807225292191,
         1.2805420190072556,
         1.2730835933726812,
         1.2578868894450321,
         1.2780202995140437,
         1.274809909978351,
         1.2864307254121201,
         1.2602139454958974,
         1.2887586190457427,
         1.2720751547505942,
         1.2726832350208468,
         1.268568576235835,
         1.2604450736339372,
         1.2737744100503277,
         1.2730450139198306,
         1.2696742964844823,
         1.2585435478713773,
         1.2880408069651084,
         1.28777243377674,
         1.2618760439084535,
         1.2738788312152283,
         1.2630811546130836,
         1.2633348397549244,
         1.2831921482734836,
         1.2667590350399918,
         1.2769905837162687,
         1.2693609354132551,
         1.2741589640660997,
         1.2663191732322097,
         1.2788089042218498,
         1.2689145941187108,
         1.2757264600930016,
         1.27109745881406,
         1.2818513724722576,
         1.2726626899335058,
         1.2747007217216235,
         1.2758935614537519,
         1.26665490629156,
         1.2723041124463295,
         1.2617157230371208,
         1.290911134091698,
         1.2636330360078916,
         1.2766339948094132,
         1.273598593952612,
         1.2819558254767063,
         1.2571283570029443,
         1.2544043562811324,
         1.28023929746608,
         1.2619214771139764,
         1.2679333811519196,
         1.2775956056821516,
         1.2585042291708455,
         1.270202147899909,
         1.257640587940848,
         1.2701635114561212,
         1.2751869709916477,
         1.2666099459642643,
         1.2649453518404759,
         1.2598963112756156,
         1.262384542268137,
         1.2657170699904352,
         1.2747985429540984,
         1.2633861080075364,
         1.2703781713259084,
         1.2707025217188093,
         1.2635360535682019,
         1.2757017784638802,
         1.2808780574155525,
         1.2730457566378297
        ]
       ],
       "encoder": "json",
       "name": "ABC_GAN_3 Metrics",
       "version": 1
      }
     },
     "metadata": {
      "scrapbook": {
       "data": true,
       "display": false,
       "name": "ABC_GAN_3 Metrics"
      }
     },
     "output_type": "display_data"
    },
    {
     "name": "stdout",
     "output_type": "stream",
     "text": [
      "MAE\n",
      "0.07897303751996392\n"
     ]
    }
   ],
   "source": [
    "ABC_GAN3_metrics=ABC_train_test2.test_generator(gen3,test_data,prior_model,variance,bias,\"3\",device)\n",
    "sb.glue(\"ABC_GAN_3 Metrics\",ABC_GAN3_metrics)\n",
    "\n",
    "print(\"MAE\")\n",
    "print(mean(ABC_GAN3_metrics[1]))"
   ]
  },
  {
   "cell_type": "code",
   "execution_count": 22,
   "id": "c8e46b48",
   "metadata": {
    "execution": {
     "iopub.execute_input": "2022-07-25T12:49:49.152733Z",
     "iopub.status.busy": "2022-07-25T12:49:49.152376Z",
     "iopub.status.idle": "2022-07-25T12:49:49.962857Z",
     "shell.execute_reply": "2022-07-25T12:49:49.961905Z"
    },
    "id": "c8e46b48",
    "papermill": {
     "duration": 0.8501,
     "end_time": "2022-07-25T12:49:49.966706",
     "exception": false,
     "start_time": "2022-07-25T12:49:49.116606",
     "status": "completed"
    },
    "tags": []
   },
   "outputs": [
    {
     "data": {
      "image/png": "[encoded data removed]",
      "text/plain": [
       "<Figure size 432x288 with 1 Axes>"
      ]
     },
     "metadata": {
      "needs_background": "light"
     },
     "output_type": "display_data"
    },
    {
     "data": {
      "image/png": "[encoded data removed]",
      "text/plain": [
       "<Figure size 432x288 with 1 Axes>"
      ]
     },
     "metadata": {
      "needs_background": "light"
     },
     "output_type": "display_data"
    },
    {
     "data": {
      "image/png": "[encoded data removed]",
      "text/plain": [
       "<Figure size 432x288 with 1 Axes>"
      ]
     },
     "metadata": {
      "needs_background": "light"
     },
     "output_type": "display_data"
    },
    {
     "data": {
      "image/png": "[encoded data removed]",
      "text/plain": [
       "<Figure size 432x288 with 1 Axes>"
      ]
     },
     "metadata": {
      "needs_background": "light"
     },
     "output_type": "display_data"
    }
   ],
   "source": [
    "sanityChecks.discProbVsError(train_data,disc3,device)\n",
    "sanityChecks.discProbVsError(test_data,disc3,device)"
   ]
  },
  {
   "cell_type": "markdown",
   "id": "7413a039",
   "metadata": {
    "id": "130f3a4d",
    "papermill": {
     "duration": 0.03909,
     "end_time": "2022-07-25T12:49:50.043041",
     "exception": false,
     "start_time": "2022-07-25T12:49:50.003951",
     "status": "completed"
    },
    "tags": []
   },
   "source": [
    "# skipGAN Model with TabNet Generator"
   ]
  },
  {
   "cell_type": "code",
   "execution_count": 23,
   "id": "a4f95fd4",
   "metadata": {
    "execution": {
     "iopub.execute_input": "2022-07-25T12:49:50.123326Z",
     "iopub.status.busy": "2022-07-25T12:49:50.122500Z",
     "iopub.status.idle": "2022-07-25T12:49:50.139108Z",
     "shell.execute_reply": "2022-07-25T12:49:50.138362Z"
    },
    "id": "4e43dad1",
    "papermill": {
     "duration": 0.057414,
     "end_time": "2022-07-25T12:49:50.141841",
     "exception": false,
     "start_time": "2022-07-25T12:49:50.084427",
     "status": "completed"
    },
    "tags": []
   },
   "outputs": [],
   "source": [
    "#Generator\n",
    "gen4 = network.GeneratorTabnetskipConnection(n_features+1).to(device)\n",
    "constraints=network.weightConstraint()\n",
    "#Discriminator \n",
    "disc4 = network.Discriminator(n_features+1).to(device)\n",
    "\n",
    "criterion = torch.nn.BCELoss()\n",
    "gen_opt = torch.optim.Adam(gen4.parameters(), lr=0.01, betas=(0.5, 0.999))\n",
    "disc_opt = torch.optim.Adam(disc4.parameters(), lr=0.01, betas=(0.5, 0.999))\n"
   ]
  },
  {
   "cell_type": "code",
   "execution_count": 24,
   "id": "a814ffc8",
   "metadata": {
    "execution": {
     "iopub.execute_input": "2022-07-25T12:49:50.212095Z",
     "iopub.status.busy": "2022-07-25T12:49:50.211541Z",
     "iopub.status.idle": "2022-07-25T13:21:35.102392Z",
     "shell.execute_reply": "2022-07-25T13:21:35.099415Z"
    },
    "id": "26acbc37",
    "papermill": {
     "duration": 1904.934526,
     "end_time": "2022-07-25T13:21:35.109781",
     "exception": false,
     "start_time": "2022-07-25T12:49:50.175255",
     "status": "completed"
    },
    "tags": []
   },
   "outputs": [
    {
     "data": {
      "image/png": "[encoded data removed]",
      "text/plain": [
       "<Figure size 432x288 with 1 Axes>"
      ]
     },
     "metadata": {
      "needs_background": "light"
     },
     "output_type": "display_data"
    },
    {
     "data": {
      "image/png": "[encoded data removed]",
      "text/plain": [
       "<Figure size 432x288 with 1 Axes>"
      ]
     },
     "metadata": {
      "needs_background": "light"
     },
     "output_type": "display_data"
    }
   ],
   "source": [
    "ABC_train_test2.training_GAN_skip_connection(disc4,gen4,disc_opt,gen_opt,train_data,batch_size,n_epochs,criterion,prior_model,variance,bias,device)"
   ]
  },
  {
   "cell_type": "code",
   "execution_count": 25,
   "id": "111dea39",
   "metadata": {
    "execution": {
     "iopub.execute_input": "2022-07-25T13:21:36.658164Z",
     "iopub.status.busy": "2022-07-25T13:21:36.657402Z",
     "iopub.status.idle": "2022-07-25T13:21:53.182485Z",
     "shell.execute_reply": "2022-07-25T13:21:53.181496Z"
    },
    "id": "c5e0717b",
    "papermill": {
     "duration": 18.014796,
     "end_time": "2022-07-25T13:21:53.185868",
     "exception": false,
     "start_time": "2022-07-25T13:21:35.171072",
     "status": "completed"
    },
    "tags": []
   },
   "outputs": [
    {
     "data": {
      "application/scrapbook.scrap.json+json": {
       "data": 0.016633927698973594,
       "encoder": "json",
       "name": "ABC-GAN Model 3 MSE",
       "version": 1
      }
     },
     "metadata": {
      "scrapbook": {
       "data": true,
       "display": false,
       "name": "ABC-GAN Model 3 MSE"
      }
     },
     "output_type": "display_data"
    },
    {
     "data": {
      "application/scrapbook.scrap.json+json": {
       "data": 0.09411498405426354,
       "encoder": "json",
       "name": "ABC-GAN Model 3 MAE",
       "version": 1
      }
     },
     "metadata": {
      "scrapbook": {
       "data": true,
       "display": false,
       "name": "ABC-GAN Model 3 MAE"
      }
     },
     "output_type": "display_data"
    },
    {
     "data": {
      "application/scrapbook.scrap.json+json": {
       "data": 14.493707544356585,
       "encoder": "json",
       "name": "ABC-GAN Model 3 Manhattan Distance",
       "version": 1
      }
     },
     "metadata": {
      "scrapbook": {
       "data": true,
       "display": false,
       "name": "ABC-GAN Model 3 Manhattan Distance"
      }
     },
     "output_type": "display_data"
    },
    {
     "data": {
      "application/scrapbook.scrap.json+json": {
       "data": 1.6004795813498722,
       "encoder": "json",
       "name": "ABC-GAN Model 3 Euclidean distance",
       "version": 1
      }
     },
     "metadata": {
      "scrapbook": {
       "data": true,
       "display": false,
       "name": "ABC-GAN Model 3 Euclidean distance"
      }
     },
     "output_type": "display_data"
    },
    {
     "data": {
      "application/scrapbook.scrap.json+json": {
       "data": [
        [
         0.016912336808278552,
         0.01649596195168307,
         0.016826582465389508,
         0.01667034154253721,
         0.01661213207370309,
         0.016711117481521896,
         0.016793284079339384,
         0.016550148210320772,
         0.016739399034455617,
         0.016668063855025346,
         0.016543818845084463,
         0.016893653337187273,
         0.016843056474311884,
         0.016846303715246085,
         0.016719737015723785,
         0.016408656944244183,
         0.01685791005196594,
         0.01623415768259566,
         0.01690017385596316,
         0.016651371336144225,
         0.01677209921982338,
         0.01660837514383077,
         0.01653221178994418,
         0.01631751016967065,
         0.01681597377740263,
         0.01653556528502452,
         0.016820330708288894,
         0.016775411323548223,
         0.016450150626537364,
         0.01709466428823979,
         0.016604966554275586,
         0.016757360316882627,
         0.016484557351888966,
         0.016465658066975225,
         0.016491791991389552,
         0.016650958820223705,
         0.016479030174924206,
         0.016507359278325896,
         0.01650153825021448,
         0.01678385391016345,
         0.01664037394335519,
         0.016743498926582386,
         0.016314658379315526,
         0.01639417241829919,
         0.016537635089421653,
         0.016535093327116612,
         0.01649703614324492,
         0.016603842986889848,
         0.016385821641298745,
         0.016589913735860662,
         0.01681038813955175,
         0.016860945927121656,
         0.01649704140034155,
         0.016218945532090665,
         0.016877408812547155,
         0.016559739152768364,
         0.01654438100454502,
         0.01646134135186633,
         0.016466323783720125,
         0.016649642485012935,
         0.016593285865248185,
         0.016435464749439202,
         0.01672548062975785,
         0.01675775612803554,
         0.016646373570886934,
         0.016740088429274692,
         0.01666263707511052,
         0.01663578158828672,
         0.016719662296303874,
         0.016286303338558173,
         0.01625003630661623,
         0.016424031221171077,
         0.016422305036169565,
         0.016762663028625724,
         0.016353405981455706,
         0.017043581696289015,
         0.016617823409886105,
         0.01657435337547184,
         0.017087021885646012,
         0.01672684612733665,
         0.01633700839224898,
         0.016741868634850353,
         0.0165647678977308,
         0.01642100370515575,
         0.016800950089445404,
         0.016480245583497085,
         0.016767254802245862,
         0.016344160250783626,
         0.01678250364449328,
         0.016254106211712773,
         0.016823853871283833,
         0.01707590061018848,
         0.016831835796785856,
         0.016848417353771437,
         0.016920179546715892,
         0.016658282194621264,
         0.01646642344406502,
         0.01677310505559647,
         0.01669545660707468,
         0.016824766476277366
        ],
        [
         0.09449952675102206,
         0.09359978263979996,
         0.09398853767953523,
         0.09421798363086079,
         0.09443770444577003,
         0.0950404116158168,
         0.0936165904723011,
         0.09355056700720028,
         0.09396332984959538,
         0.09439110058033234,
         0.09376523942481,
         0.0940547531180374,
         0.09474204314945193,
         0.0942034740605718,
         0.09530676213129387,
         0.09379448188928427,
         0.09442692229451684,
         0.09278823008349577,
         0.09507765464920115,
         0.09394280649963524,
         0.09460530893320775,
         0.09346359821834735,
         0.09220674361840084,
         0.09264335528548275,
         0.09399216669285065,
         0.09442204061605326,
         0.0955376068565559,
         0.09462339797528921,
         0.09402623229551238,
         0.09557727781160698,
         0.09371785460306066,
         0.09381859206485671,
         0.09420137444825528,
         0.0942743316945898,
         0.09438529444931003,
         0.09424084065748113,
         0.09358753775573009,
         0.09473322079117809,
         0.09371171687282139,
         0.09490741507525181,
         0.0944480136302965,
         0.0950101933188059,
         0.09333320260773618,
         0.09336174974919527,
         0.09512331364555406,
         0.09315087112852118,
         0.0939424897048187,
         0.0933530775636628,
         0.09210294783841093,
         0.09445014962466894,
         0.09481319096907005,
         0.09432876834573296,
         0.09347411563208738,
         0.0923120766370134,
         0.09444192099058396,
         0.09439166324430859,
         0.09447895540771159,
         0.09396056045911141,
         0.09261548276023045,
         0.09360503926631306,
         0.09396460360859508,
         0.09327590977168315,
         0.09494296295640918,
         0.0953585094131239,
         0.09454704703787317,
         0.09360843421528478,
         0.09397015680692025,
         0.09331040237969779,
         0.0943160466245049,
         0.0927932197469976,
         0.09412564984341333,
         0.0929094317744111,
         0.09377659498048681,
         0.09423608496156219,
         0.09365911364506979,
         0.09516460776280661,
         0.09387613793036767,
         0.0941626291068924,
         0.0952172985590704,
         0.09433605027227819,
         0.09341526591497196,
         0.09354151706755548,
         0.09367799206165137,
         0.09320352409131728,
         0.0939990414500043,
         0.09446866683323275,
         0.0948896465048968,
         0.0939110852173203,
         0.09593400870776408,
         0.09258001731926357,
         0.0945111463668865,
         0.09582530909109038,
         0.09436886809621152,
         0.09508345729683514,
         0.09579410992998194,
         0.09503048947443823,
         0.09337115983248918,
         0.09513007674075953,
         0.0943653311507849,
         0.09406520966924244
        ],
        [
         14.552927119657397,
         14.414366526529193,
         14.474234802648425,
         14.50956947915256,
         14.543406484648585,
         14.636223388835788,
         14.41695493273437,
         14.406787319108844,
         14.470352796837687,
         14.53622948937118,
         14.439846871420741,
         14.48443198017776,
         14.590274645015597,
         14.50733500532806,
         14.677241368219256,
         14.444350210949779,
         14.541746033355594,
         14.289387432858348,
         14.641958815976977,
         14.467192200943828,
         14.569217575713992,
         14.393394125625491,
         14.19983851723373,
         14.267076713964343,
         14.474793670699,
         14.540994254872203,
         14.71279145590961,
         14.572003288194537,
         14.480039773508906,
         14.718900782987475,
         14.43254960887134,
         14.448063177987933,
         14.507011665031314,
         14.51824708096683,
         14.535335345193744,
         14.513089461252093,
         14.412480814382434,
         14.588916001841426,
         14.431604398414493,
         14.615741921588778,
         14.544994099065661,
         14.63156977109611,
         14.373313201591372,
         14.377709461376071,
         14.648990301415324,
         14.345234153792262,
         14.467143414542079,
         14.376373944804072,
         14.183853967115283,
         14.545323042199016,
         14.601231409236789,
         14.526630325242877,
         14.395013807341456,
         14.216059802100062,
         14.54405583254993,
         14.536316139623523,
         14.549759132787585,
         14.469926310703158,
         14.262784345075488,
         14.41517604701221,
         14.470548955723643,
         14.364490104839206,
         14.621216295287013,
         14.685210449621081,
         14.560245243832469,
         14.415698869153857,
         14.47140414826572,
         14.36980196647346,
         14.524671180173755,
         14.290155841037631,
         14.495350075885653,
         14.30805249325931,
         14.441595626994967,
         14.512357084080577,
         14.423503501340747,
         14.655349595472217,
         14.456925241276622,
         14.501044882461429,
         14.663463978096843,
         14.527751741930842,
         14.38595095090568,
         14.405393628403544,
         14.426410777494311,
         14.353342710062861,
         14.475852383300662,
         14.548174692317843,
         14.613005561754107,
         14.462307123467326,
         14.77383734099567,
         14.25732266716659,
         14.554716540500522,
         14.757097600027919,
         14.532805686816573,
         14.642852423712611,
         14.75229292921722,
         14.634695379063487,
         14.379158614203334,
         14.650031818076968,
         14.532260997220874,
         14.486042289063334
        ],
        [
         1.6138462964219662,
         1.5938563738804046,
         1.6097495766950785,
         1.602258592596941,
         1.5994587645045044,
         1.6042169716576284,
         1.6081560086690176,
         1.5964719929862219,
         1.6055738697755906,
         1.6021491296611257,
         1.5961666899616116,
         1.612954622401647,
         1.6105373938670375,
         1.6106926373917207,
         1.6046306429896764,
         1.589633029794488,
         1.6112473888272882,
         1.5811578931655534,
         1.6132658720181017,
         1.6013466788194899,
         1.6071413378582484,
         1.5992778908463463,
         1.5956066606941084,
         1.5852118363579297,
         1.6092420457221484,
         1.5957684838013866,
         1.6094505053205237,
         1.6073000167443616,
         1.5916416671119018,
         1.6225222033577622,
         1.5991137699858755,
         1.6064350247675514,
         1.59330531668946,
         1.5923917050506713,
         1.593654908276566,
         1.601326843063105,
         1.5930381812556558,
         1.5944068893673873,
         1.5941257448937425,
         1.6077044200241444,
         1.6008177870315843,
         1.6057704800791697,
         1.585073307583782,
         1.588931261073957,
         1.595868354147965,
         1.5957457104363335,
         1.5939082677681666,
         1.5990596674236508,
         1.588526528818454,
         1.5983887872862916,
         1.6089747585002596,
         1.6113924639195552,
         1.5939085217328497,
         1.5804169107997936,
         1.6121789469944896,
         1.596934510093112,
         1.5961938086272398,
         1.5921829568825983,
         1.592423895416324,
         1.6012635456701036,
         1.598551226344724,
         1.590931039176003,
         1.6049062330811443,
         1.6064539967635154,
         1.6011063455987513,
         1.6056069313839867,
         1.6018882949716,
         1.60059687760415,
         1.6046270574905548,
         1.5836952718682842,
         1.5819309691699253,
         1.5903775677682157,
         1.5902939902955406,
         1.60668917541893,
         1.5869544798588833,
         1.620096164191653,
         1.5997327292777566,
         1.597639014240283,
         1.6221594774834824,
         1.6049717454241506,
         1.5861586592791854,
         1.6056923023316,
         1.597176964600524,
         1.590230980264812,
         1.6085230224571212,
         1.5930969273269444,
         1.606909219447652,
         1.5865058079378966,
         1.607639748591694,
         1.5821290581377256,
         1.60961905312335,
         1.6216314914212249,
         1.6100008424547554,
         1.6107936778125251,
         1.6142204465915573,
         1.601678949718599,
         1.592428714381279,
         1.6071895278908008,
         1.6034650970599582,
         1.6096627091868392
        ]
       ],
       "encoder": "json",
       "name": "ABC_GAN_4 Metrics",
       "version": 1
      }
     },
     "metadata": {
      "scrapbook": {
       "data": true,
       "display": false,
       "name": "ABC_GAN_4 Metrics"
      }
     },
     "output_type": "display_data"
    },
    {
     "name": "stdout",
     "output_type": "stream",
     "text": [
      "MAE\n",
      "0.09411498405426354\n"
     ]
    }
   ],
   "source": [
    "ABC_GAN4_metrics=ABC_train_test2.test_generator(gen4,test_data,prior_model,variance,bias,\"3\",device)\n",
    "sb.glue(\"ABC_GAN_4 Metrics\",ABC_GAN4_metrics)\n",
    "\n",
    "print(\"MAE\")\n",
    "print(mean(ABC_GAN4_metrics[1]))"
   ]
  },
  {
   "cell_type": "code",
   "execution_count": 26,
   "id": "a20c0627",
   "metadata": {
    "execution": {
     "iopub.execute_input": "2022-07-25T13:21:53.297203Z",
     "iopub.status.busy": "2022-07-25T13:21:53.296744Z",
     "iopub.status.idle": "2022-07-25T13:21:54.384774Z",
     "shell.execute_reply": "2022-07-25T13:21:54.383844Z"
    },
    "id": "c8e46b48",
    "papermill": {
     "duration": 1.144458,
     "end_time": "2022-07-25T13:21:54.388075",
     "exception": false,
     "start_time": "2022-07-25T13:21:53.243617",
     "status": "completed"
    },
    "tags": []
   },
   "outputs": [
    {
     "data": {
      "image/png": "[encoded data removed]",
      "text/plain": [
       "<Figure size 432x288 with 1 Axes>"
      ]
     },
     "metadata": {
      "needs_background": "light"
     },
     "output_type": "display_data"
    },
    {
     "data": {
      "image/png": "[encoded data removed]",
      "text/plain": [
       "<Figure size 432x288 with 1 Axes>"
      ]
     },
     "metadata": {
      "needs_background": "light"
     },
     "output_type": "display_data"
    },
    {
     "data": {
      "image/png": "[encoded data removed]",
      "text/plain": [
       "<Figure size 432x288 with 1 Axes>"
      ]
     },
     "metadata": {
      "needs_background": "light"
     },
     "output_type": "display_data"
    },
    {
     "data": {
      "image/png": "[encoded data removed]",
      "text/plain": [
       "<Figure size 432x288 with 1 Axes>"
      ]
     },
     "metadata": {
      "needs_background": "light"
     },
     "output_type": "display_data"
    }
   ],
   "source": [
    "sanityChecks.discProbVsError(train_data,disc4,device)\n",
    "sanityChecks.discProbVsError(test_data,disc4,device)"
   ]
  },
  {
   "cell_type": "markdown",
   "id": "a5bd74c3",
   "metadata": {
    "id": "a5bd74c3",
    "papermill": {
     "duration": 0.052369,
     "end_time": "2022-07-25T13:21:54.491620",
     "exception": false,
     "start_time": "2022-07-25T13:21:54.439251",
     "status": "completed"
    },
    "tags": []
   },
   "source": [
    "## Skip Connection Model Analysis - ABC-GAN "
   ]
  },
  {
   "cell_type": "markdown",
   "id": "5744a8bf",
   "metadata": {
    "id": "5744a8bf",
    "papermill": {
     "duration": 0.047673,
     "end_time": "2022-07-25T13:21:54.595687",
     "exception": false,
     "start_time": "2022-07-25T13:21:54.548014",
     "status": "completed"
    },
    "tags": []
   },
   "source": [
    "### Weight Analysis \n",
    "\n",
    "Study the weights of the skip connection layer\n",
    "\n",
    "Equation of the skip connection is \n",
    "\n",
    "$output = y_{gan} * w + y_{abc} * (1-w)$"
   ]
  },
  {
   "cell_type": "code",
   "execution_count": 27,
   "id": "52c31dea",
   "metadata": {
    "execution": {
     "iopub.execute_input": "2022-07-25T13:21:54.694068Z",
     "iopub.status.busy": "2022-07-25T13:21:54.692171Z",
     "iopub.status.idle": "2022-07-25T13:21:54.889756Z",
     "shell.execute_reply": "2022-07-25T13:21:54.885234Z"
    },
    "id": "52c31dea",
    "papermill": {
     "duration": 0.280963,
     "end_time": "2022-07-25T13:21:54.921064",
     "exception": false,
     "start_time": "2022-07-25T13:21:54.640101",
     "status": "completed"
    },
    "tags": []
   },
   "outputs": [
    {
     "name": "stdout",
     "output_type": "stream",
     "text": [
      "Weight of the node at skip connection\n",
      "Parameter containing:\n",
      "tensor([[0.1056]], requires_grad=True)\n"
     ]
    },
    {
     "data": {
      "application/scrapbook.scrap.json+json": {
       "data": 0.10555337369441986,
       "encoder": "json",
       "name": "Skip Connection Weight",
       "version": 1
      }
     },
     "metadata": {
      "scrapbook": {
       "data": true,
       "display": false,
       "name": "Skip Connection Weight"
      }
     },
     "output_type": "display_data"
    }
   ],
   "source": [
    "print(\"Weight of the node at skip connection\")\n",
    "for name,param in gen3.named_parameters():\n",
    "    if(name == \"skipNode.weight\"):\n",
    "        print(param)\n",
    "        sb.glue(\"Skip Connection Weight\",param.item())"
   ]
  },
  {
   "cell_type": "markdown",
   "id": "528cfaef",
   "metadata": {
    "id": "a5bd74c3",
    "papermill": {
     "duration": 0.128696,
     "end_time": "2022-07-25T13:21:55.157743",
     "exception": false,
     "start_time": "2022-07-25T13:21:55.029047",
     "status": "completed"
    },
    "tags": []
   },
   "source": [
    "## skipGAN Model Analysis (TabNet Generator) "
   ]
  },
  {
   "cell_type": "markdown",
   "id": "482592c5",
   "metadata": {
    "id": "5744a8bf",
    "papermill": {
     "duration": 0.070881,
     "end_time": "2022-07-25T13:21:55.414325",
     "exception": false,
     "start_time": "2022-07-25T13:21:55.343444",
     "status": "completed"
    },
    "tags": []
   },
   "source": [
    "### Weight Analysis \n",
    "\n",
    "Study the weights of the skip connection layer\n",
    "\n",
    "Equation of the skip connection is \n",
    "\n",
    "$output = y_{gan} * w + y_{abc} * (1-w)$"
   ]
  },
  {
   "cell_type": "code",
   "execution_count": 28,
   "id": "598cb17b",
   "metadata": {
    "execution": {
     "iopub.execute_input": "2022-07-25T13:21:55.703766Z",
     "iopub.status.busy": "2022-07-25T13:21:55.703418Z",
     "iopub.status.idle": "2022-07-25T13:21:55.716551Z",
     "shell.execute_reply": "2022-07-25T13:21:55.715558Z"
    },
    "id": "52c31dea",
    "papermill": {
     "duration": 0.128327,
     "end_time": "2022-07-25T13:21:55.725902",
     "exception": false,
     "start_time": "2022-07-25T13:21:55.597575",
     "status": "completed"
    },
    "tags": []
   },
   "outputs": [
    {
     "name": "stdout",
     "output_type": "stream",
     "text": [
      "Weight of the node at skip connection\n",
      "Parameter containing:\n",
      "tensor([[0.]], requires_grad=True)\n"
     ]
    },
    {
     "data": {
      "application/scrapbook.scrap.json+json": {
       "data": 0.0,
       "encoder": "json",
       "name": "Skip Connection Weight",
       "version": 1
      }
     },
     "metadata": {
      "scrapbook": {
       "data": true,
       "display": false,
       "name": "Skip Connection Weight"
      }
     },
     "output_type": "display_data"
    }
   ],
   "source": [
    "print(\"Weight of the node at skip connection\")\n",
    "for name,param in gen4.named_parameters():\n",
    "    if(name == \"skipNode.weight\"):\n",
    "        print(param)\n",
    "        sb.glue(\"Skip Connection Weight\",param.item())"
   ]
  }
 ],
 "metadata": {
  "colab": {
   "collapsed_sections": [],
   "name": "ABC_GAN_Model-Catboost_Pre-gen.ipynb",
   "provenance": []
  },
  "interpreter": {
   "hash": "31f2aee4e71d21fbe5cf8b01ff0e069b9275f58929596ceb00d14d90e3e16cd6"
  },
  "kernelspec": {
   "display_name": "Python 3 (ipykernel)",
   "language": "python",
   "name": "python3"
  },
  "language_info": {
   "codemirror_mode": {
    "name": "ipython",
    "version": 3
   },
   "file_extension": ".py",
   "mimetype": "text/x-python",
   "name": "python",
   "nbconvert_exporter": "python",
   "pygments_lexer": "ipython3",
   "version": "3.8.13"
  },
  "papermill": {
   "default_parameters": {},
   "duration": 4014.351859,
   "end_time": "2022-07-25T13:21:57.996034",
   "environment_variables": {},
   "exception": null,
   "input_path": "ABC_GAN-TabNet.ipynb",
   "output_path": "./ABC_GAN_TabNet/ABC-GAN_output_1_5.ipynb",
   "parameters": {
    "bias": 0.1,
    "variance": 0.01
   },
   "start_time": "2022-07-25T12:15:03.644175",
   "version": "2.3.3"
  }
 },
 "nbformat": 4,
 "nbformat_minor": 5
}