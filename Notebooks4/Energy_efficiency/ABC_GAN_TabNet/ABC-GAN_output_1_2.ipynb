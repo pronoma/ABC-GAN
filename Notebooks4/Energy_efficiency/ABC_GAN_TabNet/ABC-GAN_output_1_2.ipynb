{
 "cells": [
  {
   "cell_type": "markdown",
   "id": "622780e6",
   "metadata": {
    "id": "622780e6",
    "papermill": {
     "duration": 0.008323,
     "end_time": "2022-07-25T09:20:47.172712",
     "exception": false,
     "start_time": "2022-07-25T09:20:47.164389",
     "status": "completed"
    },
    "tags": []
   },
   "source": [
    "## Import Libraries "
   ]
  },
  {
   "cell_type": "code",
   "execution_count": 1,
   "id": "a62397e3",
   "metadata": {
    "execution": {
     "iopub.execute_input": "2022-07-25T09:20:47.192948Z",
     "iopub.status.busy": "2022-07-25T09:20:47.192483Z",
     "iopub.status.idle": "2022-07-25T09:20:47.211804Z",
     "shell.execute_reply": "2022-07-25T09:20:47.211057Z"
    },
    "id": "a62397e3",
    "papermill": {
     "duration": 0.044038,
     "end_time": "2022-07-25T09:20:47.223742",
     "exception": false,
     "start_time": "2022-07-25T09:20:47.179704",
     "status": "completed"
    },
    "tags": []
   },
   "outputs": [],
   "source": [
    "import warnings\n",
    "import sys\n",
    "sys.path.insert(0, '../../src')\n",
    "warnings.filterwarnings('ignore')"
   ]
  },
  {
   "cell_type": "code",
   "execution_count": 2,
   "id": "d6a4e155",
   "metadata": {
    "execution": {
     "iopub.execute_input": "2022-07-25T09:20:47.251038Z",
     "iopub.status.busy": "2022-07-25T09:20:47.250676Z",
     "iopub.status.idle": "2022-07-25T09:20:53.067988Z",
     "shell.execute_reply": "2022-07-25T09:20:53.067120Z"
    },
    "id": "d6a4e155",
    "papermill": {
     "duration": 5.839139,
     "end_time": "2022-07-25T09:20:53.071209",
     "exception": false,
     "start_time": "2022-07-25T09:20:47.232070",
     "status": "completed"
    },
    "tags": []
   },
   "outputs": [],
   "source": [
    "import ABC_train_test2\n",
    "import energyefficiencyDataset\n",
    "import network\n",
    "import dataset\n",
    "import sanityChecks\n",
    "import torch \n",
    "import scrapbook as sb\n",
    "from statistics import mean \n",
    "import catboost as ctb \n",
    "from sklearn.model_selection import train_test_split\n",
    "from sklearn.metrics import mean_squared_error,mean_absolute_error\n",
    "import numpy as np\n",
    "from pytorch_tabnet.tab_model import TabNetRegressor"
   ]
  },
  {
   "cell_type": "markdown",
   "id": "2fa5b0f7",
   "metadata": {
    "id": "2fa5b0f7",
    "papermill": {
     "duration": 0.008234,
     "end_time": "2022-07-25T09:20:53.086719",
     "exception": false,
     "start_time": "2022-07-25T09:20:53.078485",
     "status": "completed"
    },
    "tags": []
   },
   "source": [
    "## Parameters "
   ]
  },
  {
   "cell_type": "code",
   "execution_count": 3,
   "id": "783186fb",
   "metadata": {
    "execution": {
     "iopub.execute_input": "2022-07-25T09:20:53.107995Z",
     "iopub.status.busy": "2022-07-25T09:20:53.106323Z",
     "iopub.status.idle": "2022-07-25T09:20:53.121178Z",
     "shell.execute_reply": "2022-07-25T09:20:53.119761Z"
    },
    "id": "783186fb",
    "papermill": {
     "duration": 0.028611,
     "end_time": "2022-07-25T09:20:53.124068",
     "exception": false,
     "start_time": "2022-07-25T09:20:53.095457",
     "status": "completed"
    },
    "tags": [
     "parameters"
    ]
   },
   "outputs": [],
   "source": [
    "variance = 1\n",
    "bias = 1 "
   ]
  },
  {
   "cell_type": "code",
   "execution_count": 4,
   "id": "9a7bba39",
   "metadata": {
    "execution": {
     "iopub.execute_input": "2022-07-25T09:20:53.142646Z",
     "iopub.status.busy": "2022-07-25T09:20:53.142025Z",
     "iopub.status.idle": "2022-07-25T09:20:53.148890Z",
     "shell.execute_reply": "2022-07-25T09:20:53.147741Z"
    },
    "papermill": {
     "duration": 0.019476,
     "end_time": "2022-07-25T09:20:53.151899",
     "exception": false,
     "start_time": "2022-07-25T09:20:53.132423",
     "status": "completed"
    },
    "tags": [
     "injected-parameters"
    ]
   },
   "outputs": [],
   "source": [
    "# Parameters\n",
    "variance = 0.01\n",
    "bias = 1\n"
   ]
  },
  {
   "cell_type": "markdown",
   "id": "391cdbfd",
   "metadata": {
    "id": "391cdbfd",
    "papermill": {
     "duration": 0.007103,
     "end_time": "2022-07-25T09:20:53.165522",
     "exception": false,
     "start_time": "2022-07-25T09:20:53.158419",
     "status": "completed"
    },
    "tags": []
   },
   "source": [
    "## Dataset \n"
   ]
  },
  {
   "cell_type": "code",
   "execution_count": 5,
   "id": "5b51f161",
   "metadata": {
    "execution": {
     "iopub.execute_input": "2022-07-25T09:20:53.184703Z",
     "iopub.status.busy": "2022-07-25T09:20:53.183493Z",
     "iopub.status.idle": "2022-07-25T09:20:53.189945Z",
     "shell.execute_reply": "2022-07-25T09:20:53.188393Z"
    },
    "id": "5b51f161",
    "papermill": {
     "duration": 0.023436,
     "end_time": "2022-07-25T09:20:53.197132",
     "exception": false,
     "start_time": "2022-07-25T09:20:53.173696",
     "status": "completed"
    },
    "tags": []
   },
   "outputs": [],
   "source": [
    "#Parameters \n",
    "n_features = 8\n",
    "n_samples= 768\n",
    "n_target = 1 "
   ]
  },
  {
   "cell_type": "code",
   "execution_count": 6,
   "id": "5d6eced4",
   "metadata": {
    "execution": {
     "iopub.execute_input": "2022-07-25T09:20:53.223426Z",
     "iopub.status.busy": "2022-07-25T09:20:53.223068Z",
     "iopub.status.idle": "2022-07-25T09:20:53.896587Z",
     "shell.execute_reply": "2022-07-25T09:20:53.894465Z"
    },
    "id": "5d6eced4",
    "papermill": {
     "duration": 0.694595,
     "end_time": "2022-07-25T09:20:53.900895",
     "exception": false,
     "start_time": "2022-07-25T09:20:53.206300",
     "status": "completed"
    },
    "tags": []
   },
   "outputs": [
    {
     "name": "stdout",
     "output_type": "stream",
     "text": [
      "     X1     X2     X3      X4   X5  X6   X7  X8     Y1     Y2\n",
      "0  0.98  514.5  294.0  110.25  7.0   2  0.0   0  15.55  21.33\n",
      "1  0.98  514.5  294.0  110.25  7.0   3  0.0   0  15.55  21.33\n",
      "2  0.98  514.5  294.0  110.25  7.0   4  0.0   0  15.55  21.33\n",
      "3  0.98  514.5  294.0  110.25  7.0   5  0.0   0  15.55  21.33\n",
      "4  0.90  563.5  318.5  122.50  7.0   2  0.0   0  20.84  28.28\n"
     ]
    }
   ],
   "source": [
    "X,Y = energyefficiencyDataset.energy_data()"
   ]
  },
  {
   "cell_type": "code",
   "execution_count": 7,
   "id": "fe007438",
   "metadata": {
    "execution": {
     "iopub.execute_input": "2022-07-25T09:20:53.933135Z",
     "iopub.status.busy": "2022-07-25T09:20:53.931157Z",
     "iopub.status.idle": "2022-07-25T09:20:53.982278Z",
     "shell.execute_reply": "2022-07-25T09:20:53.946185Z"
    },
    "id": "fe007438",
    "papermill": {
     "duration": 0.075874,
     "end_time": "2022-07-25T09:20:53.988960",
     "exception": false,
     "start_time": "2022-07-25T09:20:53.913086",
     "status": "completed"
    },
    "tags": []
   },
   "outputs": [],
   "source": [
    "#Train test split for dataset \n",
    "X_train,X_test,Y_train,Y_test = train_test_split(X,Y,test_size = 0.2)\n",
    "train_data = dataset.CustomDataset(X_train,Y_train)\n",
    "test_data = dataset.CustomDataset(X_test,Y_test)\n"
   ]
  },
  {
   "cell_type": "markdown",
   "id": "a9a1af34",
   "metadata": {
    "id": "a9a1af34",
    "papermill": {
     "duration": 0.018391,
     "end_time": "2022-07-25T09:20:54.018241",
     "exception": false,
     "start_time": "2022-07-25T09:20:53.999850",
     "status": "completed"
    },
    "tags": []
   },
   "source": [
    "## Training Parameters "
   ]
  },
  {
   "cell_type": "code",
   "execution_count": 8,
   "id": "952b7fc8",
   "metadata": {
    "execution": {
     "iopub.execute_input": "2022-07-25T09:20:54.077683Z",
     "iopub.status.busy": "2022-07-25T09:20:54.076283Z",
     "iopub.status.idle": "2022-07-25T09:20:54.095267Z",
     "shell.execute_reply": "2022-07-25T09:20:54.092722Z"
    },
    "id": "952b7fc8",
    "papermill": {
     "duration": 0.068986,
     "end_time": "2022-07-25T09:20:54.102692",
     "exception": false,
     "start_time": "2022-07-25T09:20:54.033706",
     "status": "completed"
    },
    "tags": []
   },
   "outputs": [],
   "source": [
    "batch_size = 32\n",
    "n_epochs = 1000\n",
    "#Select the device \n",
    "device = torch.device('cuda' if torch.cuda.is_available() else 'cpu')"
   ]
  },
  {
   "cell_type": "markdown",
   "id": "a95e1600",
   "metadata": {
    "id": "a95e1600",
    "papermill": {
     "duration": 0.029738,
     "end_time": "2022-07-25T09:20:54.143371",
     "exception": false,
     "start_time": "2022-07-25T09:20:54.113633",
     "status": "completed"
    },
    "tags": []
   },
   "source": [
    "# ABC Pre-generator Model \n",
    "\n",
    "1. The catboost model is used as a pre-generator model for the ABC-GAN. \n",
    "2. The model is first trained on the entire dataset \n",
    "3. It generats X,Y pairs and we add some Gaussian noise with mean 0 and variance 1 to it which is then feed as input to the generator.\n"
   ]
  },
  {
   "cell_type": "code",
   "execution_count": 9,
   "id": "ff8ce7bd",
   "metadata": {
    "execution": {
     "iopub.execute_input": "2022-07-25T09:20:54.239201Z",
     "iopub.status.busy": "2022-07-25T09:20:54.238806Z",
     "iopub.status.idle": "2022-07-25T09:22:52.264200Z",
     "shell.execute_reply": "2022-07-25T09:22:52.263289Z"
    },
    "id": "ff8ce7bd",
    "papermill": {
     "duration": 118.109989,
     "end_time": "2022-07-25T09:22:52.267249",
     "exception": false,
     "start_time": "2022-07-25T09:20:54.157260",
     "status": "completed"
    },
    "tags": []
   },
   "outputs": [
    {
     "name": "stdout",
     "output_type": "stream",
     "text": [
      "Device used : cpu\n"
     ]
    },
    {
     "name": "stdout",
     "output_type": "stream",
     "text": [
      "epoch 0  | loss: 1.14127 | train_mse: 1.53768 | train_mae: 0.87667 |  0:00:01s\n"
     ]
    },
    {
     "name": "stdout",
     "output_type": "stream",
     "text": [
      "epoch 1  | loss: 0.37053 | train_mse: 0.38166 | train_mae: 0.50133 |  0:00:01s\n"
     ]
    },
    {
     "name": "stdout",
     "output_type": "stream",
     "text": [
      "epoch 2  | loss: 0.30811 | train_mse: 0.24638 | train_mae: 0.3786  |  0:00:02s\n"
     ]
    },
    {
     "name": "stdout",
     "output_type": "stream",
     "text": [
      "epoch 3  | loss: 0.26159 | train_mse: 0.18193 | train_mae: 0.32542 |  0:00:02s\n"
     ]
    },
    {
     "name": "stdout",
     "output_type": "stream",
     "text": [
      "epoch 4  | loss: 0.22564 | train_mse: 0.2115  | train_mae: 0.36112 |  0:00:03s\n"
     ]
    },
    {
     "name": "stdout",
     "output_type": "stream",
     "text": [
      "epoch 5  | loss: 0.17574 | train_mse: 0.14899 | train_mae: 0.28666 |  0:00:03s\n"
     ]
    },
    {
     "name": "stdout",
     "output_type": "stream",
     "text": [
      "epoch 6  | loss: 0.16951 | train_mse: 0.12477 | train_mae: 0.27244 |  0:00:04s\n"
     ]
    },
    {
     "name": "stdout",
     "output_type": "stream",
     "text": [
      "epoch 7  | loss: 0.14255 | train_mse: 0.10142 | train_mae: 0.24151 |  0:00:04s\n"
     ]
    },
    {
     "name": "stdout",
     "output_type": "stream",
     "text": [
      "epoch 8  | loss: 0.12662 | train_mse: 0.10271 | train_mae: 0.2392  |  0:00:05s\n"
     ]
    },
    {
     "name": "stdout",
     "output_type": "stream",
     "text": [
      "epoch 9  | loss: 0.12979 | train_mse: 0.08756 | train_mae: 0.22333 |  0:00:05s\n"
     ]
    },
    {
     "name": "stdout",
     "output_type": "stream",
     "text": [
      "epoch 10 | loss: 0.10712 | train_mse: 0.09545 | train_mae: 0.23372 |  0:00:06s\n"
     ]
    },
    {
     "name": "stdout",
     "output_type": "stream",
     "text": [
      "epoch 11 | loss: 0.10932 | train_mse: 0.0869  | train_mae: 0.22249 |  0:00:07s\n"
     ]
    },
    {
     "name": "stdout",
     "output_type": "stream",
     "text": [
      "epoch 12 | loss: 0.11715 | train_mse: 0.08068 | train_mae: 0.21139 |  0:00:07s\n"
     ]
    },
    {
     "name": "stdout",
     "output_type": "stream",
     "text": [
      "epoch 13 | loss: 0.11529 | train_mse: 0.09325 | train_mae: 0.23092 |  0:00:08s\n"
     ]
    },
    {
     "name": "stdout",
     "output_type": "stream",
     "text": [
      "epoch 14 | loss: 0.10858 | train_mse: 0.08375 | train_mae: 0.20343 |  0:00:08s\n"
     ]
    },
    {
     "name": "stdout",
     "output_type": "stream",
     "text": [
      "epoch 15 | loss: 0.10739 | train_mse: 0.05272 | train_mae: 0.17337 |  0:00:09s\n"
     ]
    },
    {
     "name": "stdout",
     "output_type": "stream",
     "text": [
      "epoch 16 | loss: 0.1155  | train_mse: 0.05768 | train_mae: 0.18232 |  0:00:09s\n"
     ]
    },
    {
     "name": "stdout",
     "output_type": "stream",
     "text": [
      "epoch 17 | loss: 0.08969 | train_mse: 0.05932 | train_mae: 0.18071 |  0:00:10s\n"
     ]
    },
    {
     "name": "stdout",
     "output_type": "stream",
     "text": [
      "epoch 18 | loss: 0.09897 | train_mse: 0.08664 | train_mae: 0.21815 |  0:00:10s\n"
     ]
    },
    {
     "name": "stdout",
     "output_type": "stream",
     "text": [
      "epoch 19 | loss: 0.08807 | train_mse: 0.06231 | train_mae: 0.18473 |  0:00:11s\n"
     ]
    },
    {
     "name": "stdout",
     "output_type": "stream",
     "text": [
      "epoch 20 | loss: 0.0844  | train_mse: 0.05605 | train_mae: 0.1774  |  0:00:12s\n"
     ]
    },
    {
     "name": "stdout",
     "output_type": "stream",
     "text": [
      "epoch 21 | loss: 0.07992 | train_mse: 0.05653 | train_mae: 0.17668 |  0:00:12s\n"
     ]
    },
    {
     "name": "stdout",
     "output_type": "stream",
     "text": [
      "epoch 22 | loss: 0.09238 | train_mse: 0.06225 | train_mae: 0.19073 |  0:00:13s\n"
     ]
    },
    {
     "name": "stdout",
     "output_type": "stream",
     "text": [
      "epoch 23 | loss: 0.08745 | train_mse: 0.06468 | train_mae: 0.19557 |  0:00:13s\n"
     ]
    },
    {
     "name": "stdout",
     "output_type": "stream",
     "text": [
      "epoch 24 | loss: 0.0833  | train_mse: 0.05533 | train_mae: 0.18249 |  0:00:14s\n"
     ]
    },
    {
     "name": "stdout",
     "output_type": "stream",
     "text": [
      "epoch 25 | loss: 0.08472 | train_mse: 0.0576  | train_mae: 0.18513 |  0:00:14s\n"
     ]
    },
    {
     "name": "stdout",
     "output_type": "stream",
     "text": [
      "epoch 26 | loss: 0.09958 | train_mse: 0.04825 | train_mae: 0.16381 |  0:00:15s\n"
     ]
    },
    {
     "name": "stdout",
     "output_type": "stream",
     "text": [
      "epoch 27 | loss: 0.08549 | train_mse: 0.04597 | train_mae: 0.15694 |  0:00:15s\n"
     ]
    },
    {
     "name": "stdout",
     "output_type": "stream",
     "text": [
      "epoch 28 | loss: 0.09189 | train_mse: 0.06664 | train_mae: 0.1915  |  0:00:16s\n"
     ]
    },
    {
     "name": "stdout",
     "output_type": "stream",
     "text": [
      "epoch 29 | loss: 0.1064  | train_mse: 0.0427  | train_mae: 0.15241 |  0:00:16s\n"
     ]
    },
    {
     "name": "stdout",
     "output_type": "stream",
     "text": [
      "epoch 30 | loss: 0.10079 | train_mse: 0.0547  | train_mae: 0.17941 |  0:00:17s\n"
     ]
    },
    {
     "name": "stdout",
     "output_type": "stream",
     "text": [
      "epoch 31 | loss: 0.07669 | train_mse: 0.0397  | train_mae: 0.14296 |  0:00:17s\n"
     ]
    },
    {
     "name": "stdout",
     "output_type": "stream",
     "text": [
      "epoch 32 | loss: 0.06891 | train_mse: 0.04396 | train_mae: 0.16568 |  0:00:18s\n"
     ]
    },
    {
     "name": "stdout",
     "output_type": "stream",
     "text": [
      "epoch 33 | loss: 0.07068 | train_mse: 0.03424 | train_mae: 0.13032 |  0:00:19s\n"
     ]
    },
    {
     "name": "stdout",
     "output_type": "stream",
     "text": [
      "epoch 34 | loss: 0.06171 | train_mse: 0.03926 | train_mae: 0.1331  |  0:00:19s\n"
     ]
    },
    {
     "name": "stdout",
     "output_type": "stream",
     "text": [
      "epoch 35 | loss: 0.06931 | train_mse: 0.03592 | train_mae: 0.12955 |  0:00:20s\n"
     ]
    },
    {
     "name": "stdout",
     "output_type": "stream",
     "text": [
      "epoch 36 | loss: 0.06086 | train_mse: 0.04401 | train_mae: 0.15632 |  0:00:20s\n"
     ]
    },
    {
     "name": "stdout",
     "output_type": "stream",
     "text": [
      "epoch 37 | loss: 0.07957 | train_mse: 0.05111 | train_mae: 0.1518  |  0:00:21s\n"
     ]
    },
    {
     "name": "stdout",
     "output_type": "stream",
     "text": [
      "epoch 38 | loss: 0.08398 | train_mse: 0.04973 | train_mae: 0.16008 |  0:00:21s\n"
     ]
    },
    {
     "name": "stdout",
     "output_type": "stream",
     "text": [
      "epoch 39 | loss: 0.0921  | train_mse: 0.06609 | train_mae: 0.19181 |  0:00:22s\n"
     ]
    },
    {
     "name": "stdout",
     "output_type": "stream",
     "text": [
      "epoch 40 | loss: 0.095   | train_mse: 0.04332 | train_mae: 0.1557  |  0:00:22s\n"
     ]
    },
    {
     "name": "stdout",
     "output_type": "stream",
     "text": [
      "epoch 41 | loss: 0.10848 | train_mse: 0.04819 | train_mae: 0.15921 |  0:00:23s\n"
     ]
    },
    {
     "name": "stdout",
     "output_type": "stream",
     "text": [
      "epoch 42 | loss: 0.07428 | train_mse: 0.02627 | train_mae: 0.11952 |  0:00:24s\n"
     ]
    },
    {
     "name": "stdout",
     "output_type": "stream",
     "text": [
      "epoch 43 | loss: 0.0742  | train_mse: 0.04625 | train_mae: 0.13184 |  0:00:24s\n"
     ]
    },
    {
     "name": "stdout",
     "output_type": "stream",
     "text": [
      "epoch 44 | loss: 0.09684 | train_mse: 0.03369 | train_mae: 0.14313 |  0:00:25s\n"
     ]
    },
    {
     "name": "stdout",
     "output_type": "stream",
     "text": [
      "epoch 45 | loss: 0.08699 | train_mse: 0.04466 | train_mae: 0.14755 |  0:00:25s\n"
     ]
    },
    {
     "name": "stdout",
     "output_type": "stream",
     "text": [
      "epoch 46 | loss: 0.06322 | train_mse: 0.02634 | train_mae: 0.12173 |  0:00:26s\n"
     ]
    },
    {
     "name": "stdout",
     "output_type": "stream",
     "text": [
      "epoch 47 | loss: 0.04025 | train_mse: 0.02706 | train_mae: 0.12552 |  0:00:26s\n"
     ]
    },
    {
     "name": "stdout",
     "output_type": "stream",
     "text": [
      "epoch 48 | loss: 0.044   | train_mse: 0.02297 | train_mae: 0.11654 |  0:00:27s\n"
     ]
    },
    {
     "name": "stdout",
     "output_type": "stream",
     "text": [
      "epoch 49 | loss: 0.0719  | train_mse: 0.03793 | train_mae: 0.13323 |  0:00:28s\n"
     ]
    },
    {
     "name": "stdout",
     "output_type": "stream",
     "text": [
      "epoch 50 | loss: 0.06797 | train_mse: 0.03738 | train_mae: 0.13665 |  0:00:28s\n"
     ]
    },
    {
     "name": "stdout",
     "output_type": "stream",
     "text": [
      "epoch 51 | loss: 0.06465 | train_mse: 0.03007 | train_mae: 0.1293  |  0:00:29s\n"
     ]
    },
    {
     "name": "stdout",
     "output_type": "stream",
     "text": [
      "epoch 52 | loss: 0.07531 | train_mse: 0.03972 | train_mae: 0.14103 |  0:00:29s\n"
     ]
    },
    {
     "name": "stdout",
     "output_type": "stream",
     "text": [
      "epoch 53 | loss: 0.05991 | train_mse: 0.04899 | train_mae: 0.14389 |  0:00:30s\n"
     ]
    },
    {
     "name": "stdout",
     "output_type": "stream",
     "text": [
      "epoch 54 | loss: 0.06148 | train_mse: 0.02643 | train_mae: 0.10902 |  0:00:30s\n"
     ]
    },
    {
     "name": "stdout",
     "output_type": "stream",
     "text": [
      "epoch 55 | loss: 0.05452 | train_mse: 0.01981 | train_mae: 0.10541 |  0:00:31s\n"
     ]
    },
    {
     "name": "stdout",
     "output_type": "stream",
     "text": [
      "epoch 56 | loss: 0.06167 | train_mse: 0.03005 | train_mae: 0.12574 |  0:00:31s\n"
     ]
    },
    {
     "name": "stdout",
     "output_type": "stream",
     "text": [
      "epoch 57 | loss: 0.0558  | train_mse: 0.01864 | train_mae: 0.09749 |  0:00:32s\n"
     ]
    },
    {
     "name": "stdout",
     "output_type": "stream",
     "text": [
      "epoch 58 | loss: 0.05823 | train_mse: 0.02685 | train_mae: 0.10288 |  0:00:32s\n"
     ]
    },
    {
     "name": "stdout",
     "output_type": "stream",
     "text": [
      "epoch 59 | loss: 0.05769 | train_mse: 0.02116 | train_mae: 0.10202 |  0:00:33s\n"
     ]
    },
    {
     "name": "stdout",
     "output_type": "stream",
     "text": [
      "epoch 60 | loss: 0.05532 | train_mse: 0.01738 | train_mae: 0.09964 |  0:00:34s\n"
     ]
    },
    {
     "name": "stdout",
     "output_type": "stream",
     "text": [
      "epoch 61 | loss: 0.06088 | train_mse: 0.02532 | train_mae: 0.11281 |  0:00:34s\n"
     ]
    },
    {
     "name": "stdout",
     "output_type": "stream",
     "text": [
      "epoch 62 | loss: 0.07215 | train_mse: 0.03532 | train_mae: 0.13633 |  0:00:35s\n"
     ]
    },
    {
     "name": "stdout",
     "output_type": "stream",
     "text": [
      "epoch 63 | loss: 0.0564  | train_mse: 0.0206  | train_mae: 0.10092 |  0:00:35s\n"
     ]
    },
    {
     "name": "stdout",
     "output_type": "stream",
     "text": [
      "epoch 64 | loss: 0.06165 | train_mse: 0.01784 | train_mae: 0.09903 |  0:00:36s\n"
     ]
    },
    {
     "name": "stdout",
     "output_type": "stream",
     "text": [
      "epoch 65 | loss: 0.05483 | train_mse: 0.01778 | train_mae: 0.09891 |  0:00:36s\n"
     ]
    },
    {
     "name": "stdout",
     "output_type": "stream",
     "text": [
      "epoch 66 | loss: 0.05383 | train_mse: 0.01869 | train_mae: 0.10425 |  0:00:37s\n"
     ]
    },
    {
     "name": "stdout",
     "output_type": "stream",
     "text": [
      "epoch 67 | loss: 0.04098 | train_mse: 0.01458 | train_mae: 0.09087 |  0:00:37s\n"
     ]
    },
    {
     "name": "stdout",
     "output_type": "stream",
     "text": [
      "epoch 68 | loss: 0.04355 | train_mse: 0.01856 | train_mae: 0.11104 |  0:00:38s\n"
     ]
    },
    {
     "name": "stdout",
     "output_type": "stream",
     "text": [
      "epoch 69 | loss: 0.05254 | train_mse: 0.02269 | train_mae: 0.11383 |  0:00:38s\n"
     ]
    },
    {
     "name": "stdout",
     "output_type": "stream",
     "text": [
      "epoch 70 | loss: 0.04707 | train_mse: 0.01867 | train_mae: 0.10651 |  0:00:39s\n"
     ]
    },
    {
     "name": "stdout",
     "output_type": "stream",
     "text": [
      "epoch 71 | loss: 0.04542 | train_mse: 0.01934 | train_mae: 0.11451 |  0:00:39s\n"
     ]
    },
    {
     "name": "stdout",
     "output_type": "stream",
     "text": [
      "epoch 72 | loss: 0.04253 | train_mse: 0.01087 | train_mae: 0.07522 |  0:00:40s\n"
     ]
    },
    {
     "name": "stdout",
     "output_type": "stream",
     "text": [
      "epoch 73 | loss: 0.05742 | train_mse: 0.01974 | train_mae: 0.10404 |  0:00:41s\n"
     ]
    },
    {
     "name": "stdout",
     "output_type": "stream",
     "text": [
      "epoch 74 | loss: 0.05673 | train_mse: 0.01945 | train_mae: 0.11405 |  0:00:41s\n"
     ]
    },
    {
     "name": "stdout",
     "output_type": "stream",
     "text": [
      "epoch 75 | loss: 0.05062 | train_mse: 0.01386 | train_mae: 0.09143 |  0:00:42s\n"
     ]
    },
    {
     "name": "stdout",
     "output_type": "stream",
     "text": [
      "epoch 76 | loss: 0.03303 | train_mse: 0.01955 | train_mae: 0.11288 |  0:00:42s\n"
     ]
    },
    {
     "name": "stdout",
     "output_type": "stream",
     "text": [
      "epoch 77 | loss: 0.04159 | train_mse: 0.01278 | train_mae: 0.0804  |  0:00:43s\n"
     ]
    },
    {
     "name": "stdout",
     "output_type": "stream",
     "text": [
      "epoch 78 | loss: 0.03861 | train_mse: 0.01284 | train_mae: 0.08968 |  0:00:43s\n"
     ]
    },
    {
     "name": "stdout",
     "output_type": "stream",
     "text": [
      "epoch 79 | loss: 0.05166 | train_mse: 0.0115  | train_mae: 0.07767 |  0:00:44s\n"
     ]
    },
    {
     "name": "stdout",
     "output_type": "stream",
     "text": [
      "epoch 80 | loss: 0.04914 | train_mse: 0.01997 | train_mae: 0.10317 |  0:00:45s\n"
     ]
    },
    {
     "name": "stdout",
     "output_type": "stream",
     "text": [
      "epoch 81 | loss: 0.04578 | train_mse: 0.0183  | train_mae: 0.11109 |  0:00:46s\n"
     ]
    },
    {
     "name": "stdout",
     "output_type": "stream",
     "text": [
      "epoch 82 | loss: 0.03876 | train_mse: 0.01084 | train_mae: 0.08632 |  0:00:46s\n"
     ]
    },
    {
     "name": "stdout",
     "output_type": "stream",
     "text": [
      "epoch 83 | loss: 0.03524 | train_mse: 0.01541 | train_mae: 0.09932 |  0:00:47s\n"
     ]
    },
    {
     "name": "stdout",
     "output_type": "stream",
     "text": [
      "epoch 84 | loss: 0.03452 | train_mse: 0.01247 | train_mae: 0.09035 |  0:00:47s\n"
     ]
    },
    {
     "name": "stdout",
     "output_type": "stream",
     "text": [
      "epoch 85 | loss: 0.02377 | train_mse: 0.00915 | train_mae: 0.07277 |  0:00:48s\n"
     ]
    },
    {
     "name": "stdout",
     "output_type": "stream",
     "text": [
      "epoch 86 | loss: 0.04114 | train_mse: 0.0107  | train_mae: 0.0779  |  0:00:48s\n"
     ]
    },
    {
     "name": "stdout",
     "output_type": "stream",
     "text": [
      "epoch 87 | loss: 0.02637 | train_mse: 0.01263 | train_mae: 0.08172 |  0:00:49s\n"
     ]
    },
    {
     "name": "stdout",
     "output_type": "stream",
     "text": [
      "epoch 88 | loss: 0.03481 | train_mse: 0.01143 | train_mae: 0.08162 |  0:00:49s\n"
     ]
    },
    {
     "name": "stdout",
     "output_type": "stream",
     "text": [
      "epoch 89 | loss: 0.04135 | train_mse: 0.0283  | train_mae: 0.11801 |  0:00:50s\n"
     ]
    },
    {
     "name": "stdout",
     "output_type": "stream",
     "text": [
      "epoch 90 | loss: 0.02683 | train_mse: 0.012   | train_mae: 0.0813  |  0:00:50s\n"
     ]
    },
    {
     "name": "stdout",
     "output_type": "stream",
     "text": [
      "epoch 91 | loss: 0.03991 | train_mse: 0.01503 | train_mae: 0.08961 |  0:00:51s\n"
     ]
    },
    {
     "name": "stdout",
     "output_type": "stream",
     "text": [
      "epoch 92 | loss: 0.04268 | train_mse: 0.03293 | train_mae: 0.13304 |  0:00:52s\n"
     ]
    },
    {
     "name": "stdout",
     "output_type": "stream",
     "text": [
      "epoch 93 | loss: 0.03542 | train_mse: 0.02007 | train_mae: 0.10745 |  0:00:52s\n"
     ]
    },
    {
     "name": "stdout",
     "output_type": "stream",
     "text": [
      "epoch 94 | loss: 0.03163 | train_mse: 0.01144 | train_mae: 0.08178 |  0:00:53s\n"
     ]
    },
    {
     "name": "stdout",
     "output_type": "stream",
     "text": [
      "epoch 95 | loss: 0.04209 | train_mse: 0.02876 | train_mae: 0.11755 |  0:00:53s\n"
     ]
    },
    {
     "name": "stdout",
     "output_type": "stream",
     "text": [
      "epoch 96 | loss: 0.032   | train_mse: 0.01512 | train_mae: 0.08975 |  0:00:54s\n"
     ]
    },
    {
     "name": "stdout",
     "output_type": "stream",
     "text": [
      "epoch 97 | loss: 0.03046 | train_mse: 0.00936 | train_mae: 0.07281 |  0:00:54s\n"
     ]
    },
    {
     "name": "stdout",
     "output_type": "stream",
     "text": [
      "epoch 98 | loss: 0.02894 | train_mse: 0.012   | train_mae: 0.08536 |  0:00:55s\n"
     ]
    },
    {
     "name": "stdout",
     "output_type": "stream",
     "text": [
      "epoch 99 | loss: 0.03268 | train_mse: 0.01514 | train_mae: 0.09315 |  0:00:55s\n"
     ]
    },
    {
     "name": "stdout",
     "output_type": "stream",
     "text": [
      "epoch 100| loss: 0.03035 | train_mse: 0.01116 | train_mae: 0.0752  |  0:00:56s\n"
     ]
    },
    {
     "name": "stdout",
     "output_type": "stream",
     "text": [
      "epoch 101| loss: 0.03441 | train_mse: 0.01557 | train_mae: 0.08913 |  0:00:56s\n"
     ]
    },
    {
     "name": "stdout",
     "output_type": "stream",
     "text": [
      "epoch 102| loss: 0.02338 | train_mse: 0.00995 | train_mae: 0.07014 |  0:00:57s\n"
     ]
    },
    {
     "name": "stdout",
     "output_type": "stream",
     "text": [
      "epoch 103| loss: 0.0336  | train_mse: 0.01243 | train_mae: 0.08712 |  0:00:57s\n"
     ]
    },
    {
     "name": "stdout",
     "output_type": "stream",
     "text": [
      "epoch 104| loss: 0.03068 | train_mse: 0.01152 | train_mae: 0.07911 |  0:00:58s\n"
     ]
    },
    {
     "name": "stdout",
     "output_type": "stream",
     "text": [
      "epoch 105| loss: 0.02165 | train_mse: 0.00873 | train_mae: 0.0706  |  0:00:58s\n"
     ]
    },
    {
     "name": "stdout",
     "output_type": "stream",
     "text": [
      "epoch 106| loss: 0.02741 | train_mse: 0.01236 | train_mae: 0.07919 |  0:00:59s\n"
     ]
    },
    {
     "name": "stdout",
     "output_type": "stream",
     "text": [
      "epoch 107| loss: 0.03484 | train_mse: 0.00915 | train_mae: 0.07367 |  0:01:00s\n"
     ]
    },
    {
     "name": "stdout",
     "output_type": "stream",
     "text": [
      "epoch 108| loss: 0.03076 | train_mse: 0.01884 | train_mae: 0.09676 |  0:01:00s\n"
     ]
    },
    {
     "name": "stdout",
     "output_type": "stream",
     "text": [
      "epoch 109| loss: 0.03    | train_mse: 0.02801 | train_mae: 0.11368 |  0:01:01s\n"
     ]
    },
    {
     "name": "stdout",
     "output_type": "stream",
     "text": [
      "epoch 110| loss: 0.04266 | train_mse: 0.01465 | train_mae: 0.09041 |  0:01:01s\n"
     ]
    },
    {
     "name": "stdout",
     "output_type": "stream",
     "text": [
      "epoch 111| loss: 0.02975 | train_mse: 0.01149 | train_mae: 0.07885 |  0:01:02s\n"
     ]
    },
    {
     "name": "stdout",
     "output_type": "stream",
     "text": [
      "epoch 112| loss: 0.0331  | train_mse: 0.01185 | train_mae: 0.08159 |  0:01:02s\n"
     ]
    },
    {
     "name": "stdout",
     "output_type": "stream",
     "text": [
      "epoch 113| loss: 0.02378 | train_mse: 0.01426 | train_mae: 0.0915  |  0:01:03s\n"
     ]
    },
    {
     "name": "stdout",
     "output_type": "stream",
     "text": [
      "epoch 114| loss: 0.02883 | train_mse: 0.01845 | train_mae: 0.10554 |  0:01:03s\n"
     ]
    },
    {
     "name": "stdout",
     "output_type": "stream",
     "text": [
      "epoch 115| loss: 0.03882 | train_mse: 0.0131  | train_mae: 0.08091 |  0:01:04s\n"
     ]
    },
    {
     "name": "stdout",
     "output_type": "stream",
     "text": [
      "epoch 116| loss: 0.0386  | train_mse: 0.01863 | train_mae: 0.10059 |  0:01:04s\n"
     ]
    },
    {
     "name": "stdout",
     "output_type": "stream",
     "text": [
      "epoch 117| loss: 0.0399  | train_mse: 0.01275 | train_mae: 0.08722 |  0:01:05s\n"
     ]
    },
    {
     "name": "stdout",
     "output_type": "stream",
     "text": [
      "epoch 118| loss: 0.03254 | train_mse: 0.00636 | train_mae: 0.05775 |  0:01:05s\n"
     ]
    },
    {
     "name": "stdout",
     "output_type": "stream",
     "text": [
      "epoch 119| loss: 0.03051 | train_mse: 0.01581 | train_mae: 0.09115 |  0:01:06s\n"
     ]
    },
    {
     "name": "stdout",
     "output_type": "stream",
     "text": [
      "epoch 120| loss: 0.02506 | train_mse: 0.00937 | train_mae: 0.07286 |  0:01:06s\n"
     ]
    },
    {
     "name": "stdout",
     "output_type": "stream",
     "text": [
      "epoch 121| loss: 0.02506 | train_mse: 0.00684 | train_mae: 0.05954 |  0:01:07s\n"
     ]
    },
    {
     "name": "stdout",
     "output_type": "stream",
     "text": [
      "epoch 122| loss: 0.02065 | train_mse: 0.00558 | train_mae: 0.05506 |  0:01:08s\n"
     ]
    },
    {
     "name": "stdout",
     "output_type": "stream",
     "text": [
      "epoch 123| loss: 0.02689 | train_mse: 0.01071 | train_mae: 0.08326 |  0:01:08s\n"
     ]
    },
    {
     "name": "stdout",
     "output_type": "stream",
     "text": [
      "epoch 124| loss: 0.02491 | train_mse: 0.0102  | train_mae: 0.07893 |  0:01:09s\n"
     ]
    },
    {
     "name": "stdout",
     "output_type": "stream",
     "text": [
      "epoch 125| loss: 0.02155 | train_mse: 0.01108 | train_mae: 0.076   |  0:01:09s\n"
     ]
    },
    {
     "name": "stdout",
     "output_type": "stream",
     "text": [
      "epoch 126| loss: 0.02615 | train_mse: 0.01017 | train_mae: 0.07372 |  0:01:10s\n"
     ]
    },
    {
     "name": "stdout",
     "output_type": "stream",
     "text": [
      "epoch 127| loss: 0.02781 | train_mse: 0.00788 | train_mae: 0.06811 |  0:01:10s\n"
     ]
    },
    {
     "name": "stdout",
     "output_type": "stream",
     "text": [
      "epoch 128| loss: 0.02697 | train_mse: 0.00783 | train_mae: 0.06338 |  0:01:11s\n"
     ]
    },
    {
     "name": "stdout",
     "output_type": "stream",
     "text": [
      "epoch 129| loss: 0.03657 | train_mse: 0.02108 | train_mae: 0.10627 |  0:01:11s\n"
     ]
    },
    {
     "name": "stdout",
     "output_type": "stream",
     "text": [
      "epoch 130| loss: 0.03552 | train_mse: 0.00721 | train_mae: 0.06495 |  0:01:12s\n"
     ]
    },
    {
     "name": "stdout",
     "output_type": "stream",
     "text": [
      "epoch 131| loss: 0.0265  | train_mse: 0.0093  | train_mae: 0.07099 |  0:01:12s\n"
     ]
    },
    {
     "name": "stdout",
     "output_type": "stream",
     "text": [
      "epoch 132| loss: 0.02496 | train_mse: 0.00775 | train_mae: 0.06347 |  0:01:13s\n"
     ]
    },
    {
     "name": "stdout",
     "output_type": "stream",
     "text": [
      "epoch 133| loss: 0.0289  | train_mse: 0.01037 | train_mae: 0.07573 |  0:01:13s\n"
     ]
    },
    {
     "name": "stdout",
     "output_type": "stream",
     "text": [
      "epoch 134| loss: 0.02567 | train_mse: 0.00885 | train_mae: 0.06059 |  0:01:14s\n"
     ]
    },
    {
     "name": "stdout",
     "output_type": "stream",
     "text": [
      "epoch 135| loss: 0.03488 | train_mse: 0.01198 | train_mae: 0.08885 |  0:01:14s\n"
     ]
    },
    {
     "name": "stdout",
     "output_type": "stream",
     "text": [
      "epoch 136| loss: 0.0235  | train_mse: 0.00574 | train_mae: 0.05611 |  0:01:15s\n"
     ]
    },
    {
     "name": "stdout",
     "output_type": "stream",
     "text": [
      "epoch 137| loss: 0.03389 | train_mse: 0.00681 | train_mae: 0.06127 |  0:01:15s\n"
     ]
    },
    {
     "name": "stdout",
     "output_type": "stream",
     "text": [
      "epoch 138| loss: 0.0263  | train_mse: 0.0113  | train_mae: 0.08124 |  0:01:16s\n"
     ]
    },
    {
     "name": "stdout",
     "output_type": "stream",
     "text": [
      "epoch 139| loss: 0.0163  | train_mse: 0.01202 | train_mae: 0.08603 |  0:01:17s\n"
     ]
    },
    {
     "name": "stdout",
     "output_type": "stream",
     "text": [
      "epoch 140| loss: 0.02647 | train_mse: 0.0163  | train_mae: 0.09054 |  0:01:17s\n"
     ]
    },
    {
     "name": "stdout",
     "output_type": "stream",
     "text": [
      "epoch 141| loss: 0.02404 | train_mse: 0.00753 | train_mae: 0.06533 |  0:01:18s\n"
     ]
    },
    {
     "name": "stdout",
     "output_type": "stream",
     "text": [
      "epoch 142| loss: 0.02986 | train_mse: 0.00995 | train_mae: 0.07522 |  0:01:18s\n"
     ]
    },
    {
     "name": "stdout",
     "output_type": "stream",
     "text": [
      "epoch 143| loss: 0.02791 | train_mse: 0.01082 | train_mae: 0.07892 |  0:01:19s\n"
     ]
    },
    {
     "name": "stdout",
     "output_type": "stream",
     "text": [
      "epoch 144| loss: 0.02375 | train_mse: 0.00896 | train_mae: 0.07256 |  0:01:19s\n"
     ]
    },
    {
     "name": "stdout",
     "output_type": "stream",
     "text": [
      "epoch 145| loss: 0.02608 | train_mse: 0.01861 | train_mae: 0.08142 |  0:01:20s\n"
     ]
    },
    {
     "name": "stdout",
     "output_type": "stream",
     "text": [
      "epoch 146| loss: 0.02303 | train_mse: 0.0161  | train_mae: 0.08884 |  0:01:20s\n"
     ]
    },
    {
     "name": "stdout",
     "output_type": "stream",
     "text": [
      "epoch 147| loss: 0.02609 | train_mse: 0.00947 | train_mae: 0.07754 |  0:01:21s\n"
     ]
    },
    {
     "name": "stdout",
     "output_type": "stream",
     "text": [
      "epoch 148| loss: 0.03075 | train_mse: 0.01191 | train_mae: 0.08226 |  0:01:21s\n"
     ]
    },
    {
     "name": "stdout",
     "output_type": "stream",
     "text": [
      "epoch 149| loss: 0.02992 | train_mse: 0.02515 | train_mae: 0.10871 |  0:01:22s\n"
     ]
    },
    {
     "name": "stdout",
     "output_type": "stream",
     "text": [
      "epoch 150| loss: 0.03363 | train_mse: 0.0187  | train_mae: 0.09406 |  0:01:22s\n"
     ]
    },
    {
     "name": "stdout",
     "output_type": "stream",
     "text": [
      "epoch 151| loss: 0.04046 | train_mse: 0.01537 | train_mae: 0.08458 |  0:01:23s\n"
     ]
    },
    {
     "name": "stdout",
     "output_type": "stream",
     "text": [
      "epoch 152| loss: 0.02442 | train_mse: 0.00837 | train_mae: 0.07075 |  0:01:23s\n"
     ]
    },
    {
     "name": "stdout",
     "output_type": "stream",
     "text": [
      "epoch 153| loss: 0.03177 | train_mse: 0.01086 | train_mae: 0.07856 |  0:01:24s\n"
     ]
    },
    {
     "name": "stdout",
     "output_type": "stream",
     "text": [
      "epoch 154| loss: 0.02276 | train_mse: 0.01289 | train_mae: 0.08872 |  0:01:24s\n"
     ]
    },
    {
     "name": "stdout",
     "output_type": "stream",
     "text": [
      "epoch 155| loss: 0.02705 | train_mse: 0.01047 | train_mae: 0.0759  |  0:01:25s\n"
     ]
    },
    {
     "name": "stdout",
     "output_type": "stream",
     "text": [
      "epoch 156| loss: 0.02497 | train_mse: 0.01103 | train_mae: 0.08011 |  0:01:25s\n"
     ]
    },
    {
     "name": "stdout",
     "output_type": "stream",
     "text": [
      "epoch 157| loss: 0.02673 | train_mse: 0.0084  | train_mae: 0.07149 |  0:01:26s\n"
     ]
    },
    {
     "name": "stdout",
     "output_type": "stream",
     "text": [
      "epoch 158| loss: 0.02836 | train_mse: 0.01555 | train_mae: 0.08963 |  0:01:27s\n"
     ]
    },
    {
     "name": "stdout",
     "output_type": "stream",
     "text": [
      "epoch 159| loss: 0.03372 | train_mse: 0.00971 | train_mae: 0.07492 |  0:01:27s\n"
     ]
    },
    {
     "name": "stdout",
     "output_type": "stream",
     "text": [
      "epoch 160| loss: 0.02019 | train_mse: 0.00858 | train_mae: 0.07315 |  0:01:28s\n"
     ]
    },
    {
     "name": "stdout",
     "output_type": "stream",
     "text": [
      "epoch 161| loss: 0.03218 | train_mse: 0.0082  | train_mae: 0.06873 |  0:01:28s\n"
     ]
    },
    {
     "name": "stdout",
     "output_type": "stream",
     "text": [
      "epoch 162| loss: 0.02676 | train_mse: 0.00763 | train_mae: 0.0654  |  0:01:29s\n"
     ]
    },
    {
     "name": "stdout",
     "output_type": "stream",
     "text": [
      "epoch 163| loss: 0.02264 | train_mse: 0.00729 | train_mae: 0.06586 |  0:01:29s\n"
     ]
    },
    {
     "name": "stdout",
     "output_type": "stream",
     "text": [
      "epoch 164| loss: 0.02461 | train_mse: 0.01095 | train_mae: 0.08309 |  0:01:30s\n"
     ]
    },
    {
     "name": "stdout",
     "output_type": "stream",
     "text": [
      "epoch 165| loss: 0.02723 | train_mse: 0.00474 | train_mae: 0.05179 |  0:01:30s\n"
     ]
    },
    {
     "name": "stdout",
     "output_type": "stream",
     "text": [
      "epoch 166| loss: 0.02055 | train_mse: 0.00453 | train_mae: 0.05106 |  0:01:31s\n"
     ]
    },
    {
     "name": "stdout",
     "output_type": "stream",
     "text": [
      "epoch 167| loss: 0.02022 | train_mse: 0.00792 | train_mae: 0.06943 |  0:01:31s\n"
     ]
    },
    {
     "name": "stdout",
     "output_type": "stream",
     "text": [
      "epoch 168| loss: 0.02149 | train_mse: 0.01277 | train_mae: 0.08199 |  0:01:32s\n"
     ]
    },
    {
     "name": "stdout",
     "output_type": "stream",
     "text": [
      "epoch 169| loss: 0.01881 | train_mse: 0.00777 | train_mae: 0.07123 |  0:01:32s\n"
     ]
    },
    {
     "name": "stdout",
     "output_type": "stream",
     "text": [
      "epoch 170| loss: 0.02208 | train_mse: 0.00774 | train_mae: 0.0672  |  0:01:33s\n"
     ]
    },
    {
     "name": "stdout",
     "output_type": "stream",
     "text": [
      "epoch 171| loss: 0.02343 | train_mse: 0.00732 | train_mae: 0.06308 |  0:01:33s\n"
     ]
    },
    {
     "name": "stdout",
     "output_type": "stream",
     "text": [
      "epoch 172| loss: 0.01563 | train_mse: 0.00646 | train_mae: 0.06072 |  0:01:34s\n"
     ]
    },
    {
     "name": "stdout",
     "output_type": "stream",
     "text": [
      "epoch 173| loss: 0.01924 | train_mse: 0.00712 | train_mae: 0.06314 |  0:01:34s\n"
     ]
    },
    {
     "name": "stdout",
     "output_type": "stream",
     "text": [
      "epoch 174| loss: 0.03413 | train_mse: 0.01981 | train_mae: 0.08998 |  0:01:35s\n"
     ]
    },
    {
     "name": "stdout",
     "output_type": "stream",
     "text": [
      "epoch 175| loss: 0.02256 | train_mse: 0.00648 | train_mae: 0.06236 |  0:01:35s\n"
     ]
    },
    {
     "name": "stdout",
     "output_type": "stream",
     "text": [
      "epoch 176| loss: 0.02301 | train_mse: 0.00685 | train_mae: 0.06326 |  0:01:36s\n"
     ]
    },
    {
     "name": "stdout",
     "output_type": "stream",
     "text": [
      "epoch 177| loss: 0.02433 | train_mse: 0.01133 | train_mae: 0.07887 |  0:01:37s\n"
     ]
    },
    {
     "name": "stdout",
     "output_type": "stream",
     "text": [
      "epoch 178| loss: 0.06494 | train_mse: 0.02556 | train_mae: 0.10961 |  0:01:37s\n"
     ]
    },
    {
     "name": "stdout",
     "output_type": "stream",
     "text": [
      "epoch 179| loss: 0.03303 | train_mse: 0.01182 | train_mae: 0.08518 |  0:01:38s\n"
     ]
    },
    {
     "name": "stdout",
     "output_type": "stream",
     "text": [
      "epoch 180| loss: 0.02218 | train_mse: 0.00592 | train_mae: 0.05931 |  0:01:38s\n"
     ]
    },
    {
     "name": "stdout",
     "output_type": "stream",
     "text": [
      "epoch 181| loss: 0.01464 | train_mse: 0.00536 | train_mae: 0.05771 |  0:01:39s\n"
     ]
    },
    {
     "name": "stdout",
     "output_type": "stream",
     "text": [
      "epoch 182| loss: 0.03052 | train_mse: 0.00642 | train_mae: 0.05711 |  0:01:39s\n"
     ]
    },
    {
     "name": "stdout",
     "output_type": "stream",
     "text": [
      "epoch 183| loss: 0.02769 | train_mse: 0.0104  | train_mae: 0.07137 |  0:01:40s\n"
     ]
    },
    {
     "name": "stdout",
     "output_type": "stream",
     "text": [
      "epoch 184| loss: 0.0343  | train_mse: 0.00668 | train_mae: 0.06619 |  0:01:40s\n"
     ]
    },
    {
     "name": "stdout",
     "output_type": "stream",
     "text": [
      "epoch 185| loss: 0.02367 | train_mse: 0.00779 | train_mae: 0.06887 |  0:01:41s\n"
     ]
    },
    {
     "name": "stdout",
     "output_type": "stream",
     "text": [
      "epoch 186| loss: 0.01531 | train_mse: 0.00744 | train_mae: 0.0659  |  0:01:41s\n"
     ]
    },
    {
     "name": "stdout",
     "output_type": "stream",
     "text": [
      "epoch 187| loss: 0.02079 | train_mse: 0.00583 | train_mae: 0.05487 |  0:01:42s\n"
     ]
    },
    {
     "name": "stdout",
     "output_type": "stream",
     "text": [
      "epoch 188| loss: 0.02199 | train_mse: 0.00756 | train_mae: 0.06385 |  0:01:42s\n"
     ]
    },
    {
     "name": "stdout",
     "output_type": "stream",
     "text": [
      "epoch 189| loss: 0.02268 | train_mse: 0.00474 | train_mae: 0.05374 |  0:01:43s\n"
     ]
    },
    {
     "name": "stdout",
     "output_type": "stream",
     "text": [
      "epoch 190| loss: 0.02644 | train_mse: 0.01829 | train_mae: 0.09459 |  0:01:44s\n"
     ]
    },
    {
     "name": "stdout",
     "output_type": "stream",
     "text": [
      "epoch 191| loss: 0.04298 | train_mse: 0.00709 | train_mae: 0.06398 |  0:01:44s\n"
     ]
    },
    {
     "name": "stdout",
     "output_type": "stream",
     "text": [
      "epoch 192| loss: 0.03134 | train_mse: 0.0067  | train_mae: 0.06465 |  0:01:45s\n"
     ]
    },
    {
     "name": "stdout",
     "output_type": "stream",
     "text": [
      "epoch 193| loss: 0.01624 | train_mse: 0.00676 | train_mae: 0.06415 |  0:01:45s\n"
     ]
    },
    {
     "name": "stdout",
     "output_type": "stream",
     "text": [
      "epoch 194| loss: 0.02282 | train_mse: 0.00958 | train_mae: 0.06493 |  0:01:46s\n"
     ]
    },
    {
     "name": "stdout",
     "output_type": "stream",
     "text": [
      "epoch 195| loss: 0.02131 | train_mse: 0.03217 | train_mae: 0.11511 |  0:01:46s\n"
     ]
    },
    {
     "name": "stdout",
     "output_type": "stream",
     "text": [
      "epoch 196| loss: 0.02058 | train_mse: 0.00953 | train_mae: 0.07974 |  0:01:47s\n"
     ]
    },
    {
     "name": "stdout",
     "output_type": "stream",
     "text": [
      "epoch 197| loss: 0.01764 | train_mse: 0.00685 | train_mae: 0.06537 |  0:01:47s\n"
     ]
    },
    {
     "name": "stdout",
     "output_type": "stream",
     "text": [
      "epoch 198| loss: 0.02165 | train_mse: 0.00549 | train_mae: 0.05535 |  0:01:48s\n"
     ]
    },
    {
     "name": "stdout",
     "output_type": "stream",
     "text": [
      "epoch 199| loss: 0.02786 | train_mse: 0.00511 | train_mae: 0.05533 |  0:01:48s\n"
     ]
    },
    {
     "name": "stdout",
     "output_type": "stream",
     "text": [
      "epoch 200| loss: 0.01755 | train_mse: 0.00742 | train_mae: 0.05914 |  0:01:49s\n"
     ]
    },
    {
     "name": "stdout",
     "output_type": "stream",
     "text": [
      "epoch 201| loss: 0.03192 | train_mse: 0.01705 | train_mae: 0.09267 |  0:01:49s\n"
     ]
    },
    {
     "name": "stdout",
     "output_type": "stream",
     "text": [
      "epoch 202| loss: 0.02211 | train_mse: 0.01151 | train_mae: 0.07592 |  0:01:50s\n"
     ]
    },
    {
     "name": "stdout",
     "output_type": "stream",
     "text": [
      "epoch 203| loss: 0.02108 | train_mse: 0.01311 | train_mae: 0.07988 |  0:01:50s\n"
     ]
    },
    {
     "name": "stdout",
     "output_type": "stream",
     "text": [
      "epoch 204| loss: 0.02733 | train_mse: 0.01932 | train_mae: 0.08486 |  0:01:51s\n"
     ]
    },
    {
     "name": "stdout",
     "output_type": "stream",
     "text": [
      "epoch 205| loss: 0.02993 | train_mse: 0.01192 | train_mae: 0.07985 |  0:01:52s\n"
     ]
    },
    {
     "name": "stdout",
     "output_type": "stream",
     "text": [
      "epoch 206| loss: 0.04135 | train_mse: 0.02027 | train_mae: 0.11185 |  0:01:52s\n"
     ]
    },
    {
     "name": "stdout",
     "output_type": "stream",
     "text": [
      "epoch 207| loss: 0.02165 | train_mse: 0.01131 | train_mae: 0.07635 |  0:01:53s\n"
     ]
    },
    {
     "name": "stdout",
     "output_type": "stream",
     "text": [
      "epoch 208| loss: 0.01121 | train_mse: 0.007   | train_mae: 0.05792 |  0:01:53s\n"
     ]
    },
    {
     "name": "stdout",
     "output_type": "stream",
     "text": [
      "epoch 209| loss: 0.01533 | train_mse: 0.00858 | train_mae: 0.06793 |  0:01:54s\n"
     ]
    },
    {
     "name": "stdout",
     "output_type": "stream",
     "text": [
      "epoch 210| loss: 0.01956 | train_mse: 0.01511 | train_mae: 0.08905 |  0:01:54s\n"
     ]
    },
    {
     "name": "stdout",
     "output_type": "stream",
     "text": [
      "epoch 211| loss: 0.02069 | train_mse: 0.03461 | train_mae: 0.11251 |  0:01:55s\n"
     ]
    },
    {
     "name": "stdout",
     "output_type": "stream",
     "text": [
      "epoch 212| loss: 0.01954 | train_mse: 0.00551 | train_mae: 0.05891 |  0:01:55s\n"
     ]
    },
    {
     "name": "stdout",
     "output_type": "stream",
     "text": [
      "epoch 213| loss: 0.02277 | train_mse: 0.01345 | train_mae: 0.06928 |  0:01:56s\n"
     ]
    },
    {
     "name": "stdout",
     "output_type": "stream",
     "text": [
      "epoch 214| loss: 0.03053 | train_mse: 0.05371 | train_mae: 0.12984 |  0:01:56s\n"
     ]
    },
    {
     "name": "stdout",
     "output_type": "stream",
     "text": [
      "epoch 215| loss: 0.03049 | train_mse: 0.00797 | train_mae: 0.06871 |  0:01:57s\n"
     ]
    },
    {
     "name": "stdout",
     "output_type": "stream",
     "text": [
      "epoch 216| loss: 0.02198 | train_mse: 0.00646 | train_mae: 0.05828 |  0:01:57s\n",
      "\n",
      "Early stopping occurred at epoch 216 with best_epoch = 166 and best_train_mae = 0.05106\n",
      "Best weights from best epoch are automatically used!\n"
     ]
    }
   ],
   "source": [
    "#Train the Model\n",
    "\n",
    "Y_train = np.reshape(Y_train, (-1, 1))\n",
    "Y_test = np.reshape(Y_test, (-1, 1))\n",
    "\n",
    "prior_model = TabNetRegressor(optimizer_fn=torch.optim.Adam, optimizer_params=dict(lr = 0.01),\n",
    "          #scheduler_params={\"step_size\":10, ], \"gamma\":0.9},\n",
    "          #scheduler_fn=torch.optim.lr_scheduler.StepLR\n",
    "          )  #TabNetRegressor()\n",
    "\n",
    "prior_model.fit(X_train,Y_train,eval_set=[(X_train, Y_train)],\n",
    "            eval_name=['train'], \n",
    "            eval_metric=[ 'mse', 'mae'], \n",
    "            max_epochs = n_epochs, \n",
    "            batch_size = batch_size,\n",
    "            patience=50\n",
    "            )"
   ]
  },
  {
   "cell_type": "code",
   "execution_count": 10,
   "id": "af65dcda",
   "metadata": {
    "execution": {
     "iopub.execute_input": "2022-07-25T09:22:52.320294Z",
     "iopub.status.busy": "2022-07-25T09:22:52.317426Z",
     "iopub.status.idle": "2022-07-25T09:22:52.403408Z",
     "shell.execute_reply": "2022-07-25T09:22:52.402203Z"
    },
    "id": "af65dcda",
    "papermill": {
     "duration": 0.118999,
     "end_time": "2022-07-25T09:22:52.406101",
     "exception": false,
     "start_time": "2022-07-25T09:22:52.287102",
     "status": "completed"
    },
    "tags": []
   },
   "outputs": [
    {
     "data": {
      "application/scrapbook.scrap.json+json": {
       "data": 0.004646454440317439,
       "encoder": "json",
       "name": "Prior Model MSE",
       "version": 1
      }
     },
     "metadata": {
      "scrapbook": {
       "data": true,
       "display": false,
       "name": "Prior Model MSE"
      }
     },
     "output_type": "display_data"
    },
    {
     "data": {
      "application/scrapbook.scrap.json+json": {
       "data": 0.9778272059515014,
       "encoder": "json",
       "name": "ABC Pre-generator MSE",
       "version": 1
      }
     },
     "metadata": {
      "scrapbook": {
       "data": true,
       "display": false,
       "name": "ABC Pre-generator MSE"
      }
     },
     "output_type": "display_data"
    },
    {
     "data": {
      "application/scrapbook.scrap.json+json": {
       "data": 0.05186329269249108,
       "encoder": "json",
       "name": "Prior Model MAE",
       "version": 1
      }
     },
     "metadata": {
      "scrapbook": {
       "data": true,
       "display": false,
       "name": "Prior Model MAE"
      }
     },
     "output_type": "display_data"
    },
    {
     "name": "stdout",
     "output_type": "stream",
     "text": [
      "Prior Model MAE 0.05186329269249108\n"
     ]
    },
    {
     "data": {
      "application/scrapbook.scrap.json+json": {
       "data": 0.9865432508328538,
       "encoder": "json",
       "name": "ABC Pre-generator MAE",
       "version": 1
      }
     },
     "metadata": {
      "scrapbook": {
       "data": true,
       "display": false,
       "name": "ABC Pre-generator MAE"
      }
     },
     "output_type": "display_data"
    },
    {
     "name": "stdout",
     "output_type": "stream",
     "text": [
      "ABC Pre-generator MAE 0.9865432508328538\n"
     ]
    }
   ],
   "source": [
    "y_pred = prior_model.predict(X_test)\n",
    "y_abc = y_pred + np.random.normal(0,variance, y_pred.shape) + bias \n",
    "mse = mean_squared_error(y_pred,Y_test)\n",
    "sb.glue(\"Prior Model MSE\",mse)\n",
    "mse = mean_squared_error(y_abc,Y_test)\n",
    "sb.glue(\"ABC Pre-generator MSE\",mse)\n",
    "mae = mean_absolute_error(y_pred,Y_test)\n",
    "sb.glue(\"Prior Model MAE\",mae)\n",
    "print(\"Prior Model MAE\",mae)\n",
    "mae = mean_absolute_error(y_abc,Y_test)\n",
    "sb.glue(\"ABC Pre-generator MAE\",mae)\n",
    "print(\"ABC Pre-generator MAE\",mae)"
   ]
  },
  {
   "cell_type": "markdown",
   "id": "25609da2",
   "metadata": {
    "papermill": {
     "duration": 0.029423,
     "end_time": "2022-07-25T09:22:52.456953",
     "exception": false,
     "start_time": "2022-07-25T09:22:52.427530",
     "status": "completed"
    },
    "tags": []
   },
   "source": [
    "# mGAN Model"
   ]
  },
  {
   "cell_type": "code",
   "execution_count": 11,
   "id": "dfc3464d",
   "metadata": {
    "execution": {
     "iopub.execute_input": "2022-07-25T09:22:52.511892Z",
     "iopub.status.busy": "2022-07-25T09:22:52.511407Z",
     "iopub.status.idle": "2022-07-25T09:22:52.519586Z",
     "shell.execute_reply": "2022-07-25T09:22:52.518637Z"
    },
    "papermill": {
     "duration": 0.043732,
     "end_time": "2022-07-25T09:22:52.523260",
     "exception": false,
     "start_time": "2022-07-25T09:22:52.479528",
     "status": "completed"
    },
    "tags": []
   },
   "outputs": [],
   "source": [
    "gen = network.Generator(n_features+1).to(device)\n",
    "disc = network.Discriminator(n_features+1).to(device)\n",
    "\n",
    "criterion = torch.nn.BCELoss()\n",
    "gen_opt = torch.optim.Adam(gen.parameters(), lr=0.01, betas=(0.5, 0.999))\n",
    "disc_opt = torch.optim.Adam(disc.parameters(), lr=0.01, betas=(0.5, 0.999))"
   ]
  },
  {
   "cell_type": "code",
   "execution_count": 12,
   "id": "b75fdd85",
   "metadata": {
    "execution": {
     "iopub.execute_input": "2022-07-25T09:22:52.570436Z",
     "iopub.status.busy": "2022-07-25T09:22:52.570117Z",
     "iopub.status.idle": "2022-07-25T09:28:51.256044Z",
     "shell.execute_reply": "2022-07-25T09:28:51.254549Z"
    },
    "papermill": {
     "duration": 358.715661,
     "end_time": "2022-07-25T09:28:51.260717",
     "exception": false,
     "start_time": "2022-07-25T09:22:52.545056",
     "status": "completed"
    },
    "tags": []
   },
   "outputs": [
    {
     "data": {
      "image/png": "[encoded data removed]",
      "text/plain": [
       "<Figure size 432x288 with 1 Axes>"
      ]
     },
     "metadata": {
      "needs_background": "light"
     },
     "output_type": "display_data"
    },
    {
     "data": {
      "image/png": "[encoded data removed]",
      "text/plain": [
       "<Figure size 432x288 with 1 Axes>"
      ]
     },
     "metadata": {
      "needs_background": "light"
     },
     "output_type": "display_data"
    }
   ],
   "source": [
    "#Training the ABC_GAN \n",
    "ABC_train_test2.training_GAN(disc,gen,disc_opt,gen_opt,train_data,batch_size,n_epochs,criterion,prior_model,variance,bias,device)"
   ]
  },
  {
   "cell_type": "code",
   "execution_count": 13,
   "id": "1fa7c368",
   "metadata": {
    "execution": {
     "iopub.execute_input": "2022-07-25T09:28:51.322415Z",
     "iopub.status.busy": "2022-07-25T09:28:51.321197Z",
     "iopub.status.idle": "2022-07-25T09:28:54.585774Z",
     "shell.execute_reply": "2022-07-25T09:28:54.584178Z"
    },
    "papermill": {
     "duration": 3.305962,
     "end_time": "2022-07-25T09:28:54.589006",
     "exception": false,
     "start_time": "2022-07-25T09:28:51.283044",
     "status": "completed"
    },
    "tags": []
   },
   "outputs": [
    {
     "data": {
      "application/scrapbook.scrap.json+json": {
       "data": 0.014471670986232778,
       "encoder": "json",
       "name": "ABC-GAN Model 1 MSE",
       "version": 1
      }
     },
     "metadata": {
      "scrapbook": {
       "data": true,
       "display": false,
       "name": "ABC-GAN Model 1 MSE"
      }
     },
     "output_type": "display_data"
    },
    {
     "data": {
      "application/scrapbook.scrap.json+json": {
       "data": 0.0987460000280823,
       "encoder": "json",
       "name": "ABC-GAN Model 1 MAE",
       "version": 1
      }
     },
     "metadata": {
      "scrapbook": {
       "data": true,
       "display": false,
       "name": "ABC-GAN Model 1 MAE"
      }
     },
     "output_type": "display_data"
    },
    {
     "data": {
      "application/scrapbook.scrap.json+json": {
       "data": 15.206884004324674,
       "encoder": "json",
       "name": "ABC-GAN Model 1 Manhattan Distance",
       "version": 1
      }
     },
     "metadata": {
      "scrapbook": {
       "data": true,
       "display": false,
       "name": "ABC-GAN Model 1 Manhattan Distance"
      }
     },
     "output_type": "display_data"
    },
    {
     "data": {
      "application/scrapbook.scrap.json+json": {
       "data": 1.4928493375610676,
       "encoder": "json",
       "name": "ABC-GAN Model 1 Euclidean distance",
       "version": 1
      }
     },
     "metadata": {
      "scrapbook": {
       "data": true,
       "display": false,
       "name": "ABC-GAN Model 1 Euclidean distance"
      }
     },
     "output_type": "display_data"
    },
    {
     "data": {
      "application/scrapbook.scrap.json+json": {
       "data": [
        [
         0.014519750741042413,
         0.014583334747215236,
         0.014463660597174122,
         0.01443224206352378,
         0.014418981114207188,
         0.014325011863279965,
         0.014720428111028033,
         0.014665744971231643,
         0.014655237024464725,
         0.014515156120152566,
         0.014683955850285596,
         0.014343122107474456,
         0.014573476026177113,
         0.014479588140135282,
         0.014552932761723123,
         0.014216102167953085,
         0.014324287935027732,
         0.014473243815794378,
         0.014611174479832964,
         0.014529052627796975,
         0.014540887959232342,
         0.014465956919082364,
         0.014482466587052233,
         0.014326855227895887,
         0.014492357455319606,
         0.01440551443554319,
         0.014635600117734762,
         0.014469378399411448,
         0.014421836686890115,
         0.014336904145910342,
         0.014315226169848604,
         0.014636635292887968,
         0.014456277421618025,
         0.014529060410774959,
         0.014241853857083748,
         0.01451649329782126,
         0.014434249701825644,
         0.014569636344258348,
         0.014644095931090296,
         0.01427465306541715,
         0.014286338733040853,
         0.014557621314684152,
         0.014542979163669726,
         0.014628494393945262,
         0.014283866049438128,
         0.014481263194786202,
         0.014652223509084836,
         0.014401420510687744,
         0.014369244253554373,
         0.014642128471995208,
         0.014349446729963624,
         0.01462099200750518,
         0.014603818494130328,
         0.014354096766204326,
         0.01456703695939537,
         0.014480475567952957,
         0.014322712289019107,
         0.014526048647981621,
         0.01429796650750423,
         0.01439144763704973,
         0.014538640963045982,
         0.014498872615589443,
         0.014512826519674239,
         0.014470141193380333,
         0.014426639915134987,
         0.014562522898367302,
         0.01465104678053494,
         0.01437037183589129,
         0.014581790265048118,
         0.014521451161946157,
         0.014478037262892903,
         0.014341750052314653,
         0.014235075985597654,
         0.01441439854222777,
         0.014616344663433482,
         0.014437631168869465,
         0.014524107718229708,
         0.014414164875518855,
         0.014496971573670905,
         0.0145361553590642,
         0.014513815299631522,
         0.014424798969462155,
         0.014518366842968608,
         0.014381166876929478,
         0.014321360202840376,
         0.014474802954436582,
         0.014531743832614158,
         0.01457112912807084,
         0.014356023233737853,
         0.014486456328322322,
         0.01469834376221104,
         0.014308095923620534,
         0.014537041809988126,
         0.014292835352597736,
         0.014500268990831794,
         0.014258098742816167,
         0.01448874388490318,
         0.014326707171351438,
         0.01429666452962189,
         0.014609649542078095
        ],
        [
         0.0982199813928697,
         0.09926599738272754,
         0.09910452660995644,
         0.09884618566214264,
         0.09803119640458714,
         0.0976361319809765,
         0.0996130806478587,
         0.09919797179180306,
         0.09933385572263173,
         0.09893737254398209,
         0.09926028220684498,
         0.09802511590835336,
         0.09899524144538037,
         0.09824171575245919,
         0.09949458714622955,
         0.09806188074992848,
         0.09812414994487514,
         0.09915934982044357,
         0.09968935543453539,
         0.09890534496539599,
         0.09896123917265372,
         0.0986728398250295,
         0.09837028422912994,
         0.09852847456932068,
         0.09872983188017623,
         0.09833272609424282,
         0.09912338330374136,
         0.09861151757952455,
         0.09808479307533859,
         0.09884520441100195,
         0.09788069487005086,
         0.099989251560205,
         0.09876397668154209,
         0.09900886652531563,
         0.09854275878373679,
         0.09881829963876056,
         0.09870142209065424,
         0.09895976840869172,
         0.09902556313129214,
         0.09776192410038663,
         0.09808410471910006,
         0.09905287874983502,
         0.09917587535334872,
         0.10002743065744252,
         0.09778229839035443,
         0.09892017781347423,
         0.09940759092569351,
         0.0981948898210154,
         0.09824505719271573,
         0.09953320316680066,
         0.0986100992599091,
         0.09953790545076519,
         0.09918953792808892,
         0.09838259945829193,
         0.09941641076818689,
         0.09903636168349873,
         0.09847283498807387,
         0.09946304472622933,
         0.09848503439457386,
         0.09844777234769486,
         0.09902743762963778,
         0.09871841734879977,
         0.09929862778101649,
         0.0982036961169986,
         0.0986968722049292,
         0.09909592002823756,
         0.09972868008272988,
         0.09847419317086022,
         0.09917094655238189,
         0.09843377425492585,
         0.09834159930031021,
         0.09807454485010791,
         0.09791410404753376,
         0.09825547392685692,
         0.100214185556034,
         0.09830189476926605,
         0.0988460633565079,
         0.09868600858109337,
         0.0989819648977998,
         0.09900695966048674,
         0.09929183014221006,
         0.09838659490470762,
         0.09903648732738062,
         0.09782997813898248,
         0.09784884233172837,
         0.09843691627120042,
         0.09874534394059863,
         0.09931558414132564,
         0.09819379516623238,
         0.09881471852203469,
         0.09891300561366143,
         0.09766269330080453,
         0.09893860406689829,
         0.09792893447659233,
         0.09910604357719421,
         0.09808123556824473,
         0.09956136679688057,
         0.09820430033973285,
         0.09819769723848863,
         0.0993134155869484
        ],
        [
         15.125877134501934,
         15.28696359694004,
         15.262097097933292,
         15.222312591969967,
         15.09680424630642,
         15.035964325070381,
         15.34041441977024,
         15.276487655937672,
         15.297413781285286,
         15.236355371773243,
         15.286083459854126,
         15.095867849886417,
         15.245267182588577,
         15.129224225878716,
         15.322166420519352,
         15.101529635488987,
         15.111119091510773,
         15.270539872348309,
         15.35216073691845,
         15.231423124670982,
         15.240030832588673,
         15.195617333054543,
         15.14902377128601,
         15.173385083675385,
         15.204394109547138,
         15.143239818513393,
         15.265001028776169,
         15.18617370724678,
         15.105058133602142,
         15.2221614792943,
         15.073627009987831,
         15.398344740271568,
         15.209652408957481,
         15.247365444898605,
         15.175584852695465,
         15.218018144369125,
         15.200019001960754,
         15.239804334938526,
         15.24993672221899,
         15.055336311459541,
         15.10495212674141,
         15.254143327474594,
         15.273084804415703,
         15.404224321246147,
         15.058473952114582,
         15.233707383275032,
         15.3087690025568,
         15.12201303243637,
         15.129738807678223,
         15.328113287687302,
         15.185955286026001,
         15.328837439417839,
         15.275188840925694,
         15.150920316576958,
         15.310127258300781,
         15.251599699258804,
         15.164816588163376,
         15.317308887839317,
         15.166695296764374,
         15.16095694154501,
         15.250225394964218,
         15.202636271715164,
         15.291988678276539,
         15.123369202017784,
         15.199318319559097,
         15.260771684348583,
         15.358216732740402,
         15.165025748312473,
         15.27232576906681,
         15.15880123525858,
         15.144606292247772,
         15.103479906916618,
         15.078772023320198,
         15.131342984735966,
         15.432984575629234,
         15.138491794466972,
         15.222293756902218,
         15.19764532148838,
         15.24322259426117,
         15.247071787714958,
         15.290941841900349,
         15.151535615324974,
         15.251619048416615,
         15.065816633403301,
         15.06872171908617,
         15.159285105764866,
         15.206782966852188,
         15.294599957764149,
         15.121844455599785,
         15.217466652393341,
         15.23260286450386,
         15.040054768323898,
         15.236545026302338,
         15.081055909395218,
         15.262330710887909,
         15.10451027750969,
         15.332450486719608,
         15.123462252318859,
         15.12244537472725,
         15.294266000390053
        ],
        [
         1.495339966068095,
         1.4986105401574974,
         1.4924489043062126,
         1.4908270448924188,
         1.490141970279311,
         1.485278366820548,
         1.5056380471741264,
         1.5028388887600936,
         1.5023004033040688,
         1.4951033551241517,
         1.5037716585120169,
         1.4862169439725366,
         1.4981039042841038,
         1.4932704288175112,
         1.4970476429644317,
         1.4796214833073948,
         1.4852408363609824,
         1.4929432499704516,
         1.5000402894236795,
         1.495818874289509,
         1.496427995501882,
         1.4925673738691612,
         1.4934188476131014,
         1.485373927701697,
         1.4939287292636216,
         1.489445944998895,
         1.5012935815926054,
         1.492743874048513,
         1.4902895187785081,
         1.4858947602270467,
         1.4847709689230475,
         1.501346673858089,
         1.492067935091823,
         1.4958192749324177,
         1.4809610035348322,
         1.4951722201353508,
         1.490930734166128,
         1.497906538144415,
         1.5017292610147495,
         1.4826653607858522,
         1.4832721142421208,
         1.4972887772441759,
         1.4965355963708775,
         1.5009290911524003,
         1.4831437461060448,
         1.4933567999634498,
         1.5021459384490792,
         1.4892342860161099,
         1.4875697009039184,
         1.501628377691119,
         1.4865445827200738,
         1.5005441576827379,
         1.4996626447625048,
         1.4867854256736128,
         1.4977729106065736,
         1.4933161880408166,
         1.4851591471990275,
         1.4956642309653494,
         1.483875615459615,
         1.4887185550350537,
         1.49631236989777,
         1.4942644955966713,
         1.4949833724927621,
         1.4927832206253429,
         1.4905376704165474,
         1.4975408262710452,
         1.502085618133128,
         1.4876280659920538,
         1.498531181129512,
         1.4954275238003707,
         1.493190456199579,
         1.4861458569253747,
         1.4806085579186818,
         1.4899051565462402,
         1.5003056615799182,
         1.4911053618057637,
         1.4955643044039848,
         1.4898930803349293,
         1.4941665309948953,
         1.4961844556390387,
         1.4950342993200036,
         1.4904425655815028,
         1.495268702881581,
         1.4881867151157948,
         1.485089044884992,
         1.4930236618966335,
         1.495957402542793,
         1.4979832728448303,
         1.4868851932801097,
         1.4936245427019594,
         1.5045082051555916,
         1.4844011493654814,
         1.4962300754690674,
         1.4836093300798736,
         1.4943364495949687,
         1.481805387489764,
         1.4937424671860575,
         1.4853662526084674,
         1.4838080528025757,
         1.4999620093455788
        ]
       ],
       "encoder": "json",
       "name": "ABC_GAN_1 Metrics",
       "version": 1
      }
     },
     "metadata": {
      "scrapbook": {
       "data": true,
       "display": false,
       "name": "ABC_GAN_1 Metrics"
      }
     },
     "output_type": "display_data"
    },
    {
     "name": "stdout",
     "output_type": "stream",
     "text": [
      "MAE\n",
      "0.0987460000280823\n"
     ]
    }
   ],
   "source": [
    "ABC_GAN1_metrics=ABC_train_test2.test_generator(gen,test_data,prior_model,variance,bias,\"1\",device)\n",
    "sb.glue(\"ABC_GAN_1 Metrics\",ABC_GAN1_metrics)\n",
    "\n",
    "print(\"MAE\")\n",
    "print(mean(ABC_GAN1_metrics[1]))"
   ]
  },
  {
   "cell_type": "code",
   "execution_count": 14,
   "id": "eb22ce5c",
   "metadata": {
    "execution": {
     "iopub.execute_input": "2022-07-25T09:28:54.646543Z",
     "iopub.status.busy": "2022-07-25T09:28:54.646092Z",
     "iopub.status.idle": "2022-07-25T09:28:55.504879Z",
     "shell.execute_reply": "2022-07-25T09:28:55.504019Z"
    },
    "papermill": {
     "duration": 0.893708,
     "end_time": "2022-07-25T09:28:55.507498",
     "exception": false,
     "start_time": "2022-07-25T09:28:54.613790",
     "status": "completed"
    },
    "tags": []
   },
   "outputs": [
    {
     "data": {
      "image/png": "[encoded data removed]",
      "text/plain": [
       "<Figure size 432x288 with 1 Axes>"
      ]
     },
     "metadata": {
      "needs_background": "light"
     },
     "output_type": "display_data"
    },
    {
     "data": {
      "image/png": "[encoded data removed]",
      "text/plain": [
       "<Figure size 432x288 with 1 Axes>"
      ]
     },
     "metadata": {
      "needs_background": "light"
     },
     "output_type": "display_data"
    },
    {
     "data": {
      "image/png": "[encoded data removed]",
      "text/plain": [
       "<Figure size 432x288 with 1 Axes>"
      ]
     },
     "metadata": {
      "needs_background": "light"
     },
     "output_type": "display_data"
    },
    {
     "data": {
      "image/png": "[encoded data removed]",
      "text/plain": [
       "<Figure size 432x288 with 1 Axes>"
      ]
     },
     "metadata": {
      "needs_background": "light"
     },
     "output_type": "display_data"
    }
   ],
   "source": [
    "sanityChecks.discProbVsError(train_data,disc,device)\n",
    "sanityChecks.discProbVsError(test_data,disc,device)"
   ]
  },
  {
   "cell_type": "markdown",
   "id": "51a1d244",
   "metadata": {
    "papermill": {
     "duration": 0.033049,
     "end_time": "2022-07-25T09:28:55.568030",
     "exception": false,
     "start_time": "2022-07-25T09:28:55.534981",
     "status": "completed"
    },
    "tags": []
   },
   "source": [
    "# mGAN Model with TabNet Generator"
   ]
  },
  {
   "cell_type": "code",
   "execution_count": 15,
   "id": "a91e9b41",
   "metadata": {
    "execution": {
     "iopub.execute_input": "2022-07-25T09:28:55.623990Z",
     "iopub.status.busy": "2022-07-25T09:28:55.623610Z",
     "iopub.status.idle": "2022-07-25T09:28:55.640653Z",
     "shell.execute_reply": "2022-07-25T09:28:55.639873Z"
    },
    "papermill": {
     "duration": 0.049287,
     "end_time": "2022-07-25T09:28:55.644108",
     "exception": false,
     "start_time": "2022-07-25T09:28:55.594821",
     "status": "completed"
    },
    "tags": []
   },
   "outputs": [],
   "source": [
    "gen2 = network.GeneratorTabnet(n_features+1).to(device)\n",
    "disc2 = network.Discriminator(n_features+1).to(device)\n",
    "\n",
    "criterion = torch.nn.BCELoss()\n",
    "gen_opt = torch.optim.Adam(gen2.parameters(), lr=0.01, betas=(0.5, 0.999))\n",
    "disc_opt = torch.optim.Adam(disc2.parameters(), lr=0.01, betas=(0.5, 0.999))"
   ]
  },
  {
   "cell_type": "code",
   "execution_count": 16,
   "id": "e80f083e",
   "metadata": {
    "execution": {
     "iopub.execute_input": "2022-07-25T09:28:55.703069Z",
     "iopub.status.busy": "2022-07-25T09:28:55.702583Z",
     "iopub.status.idle": "2022-07-25T09:48:21.119976Z",
     "shell.execute_reply": "2022-07-25T09:48:21.118267Z"
    },
    "papermill": {
     "duration": 1165.454865,
     "end_time": "2022-07-25T09:48:21.124796",
     "exception": false,
     "start_time": "2022-07-25T09:28:55.669931",
     "status": "completed"
    },
    "tags": []
   },
   "outputs": [
    {
     "data": {
      "image/png": "[encoded data removed]",
      "text/plain": [
       "<Figure size 432x288 with 1 Axes>"
      ]
     },
     "metadata": {
      "needs_background": "light"
     },
     "output_type": "display_data"
    },
    {
     "data": {
      "image/png": "[encoded data removed]",
      "text/plain": [
       "<Figure size 432x288 with 1 Axes>"
      ]
     },
     "metadata": {
      "needs_background": "light"
     },
     "output_type": "display_data"
    }
   ],
   "source": [
    "#Training the ABC_GAN \n",
    "ABC_train_test2.training_GAN(disc2,gen2,disc_opt,gen_opt,train_data,batch_size,n_epochs,criterion,prior_model,variance,bias,device)"
   ]
  },
  {
   "cell_type": "code",
   "execution_count": 17,
   "id": "3bff143d",
   "metadata": {
    "execution": {
     "iopub.execute_input": "2022-07-25T09:48:21.200357Z",
     "iopub.status.busy": "2022-07-25T09:48:21.199789Z",
     "iopub.status.idle": "2022-07-25T09:48:25.960070Z",
     "shell.execute_reply": "2022-07-25T09:48:25.959072Z"
    },
    "papermill": {
     "duration": 4.801067,
     "end_time": "2022-07-25T09:48:25.962815",
     "exception": false,
     "start_time": "2022-07-25T09:48:21.161748",
     "status": "completed"
    },
    "tags": []
   },
   "outputs": [
    {
     "data": {
      "application/scrapbook.scrap.json+json": {
       "data": 0.0048687579630229995,
       "encoder": "json",
       "name": "ABC-GAN Model 1 MSE",
       "version": 1
      }
     },
     "metadata": {
      "scrapbook": {
       "data": true,
       "display": false,
       "name": "ABC-GAN Model 1 MSE"
      }
     },
     "output_type": "display_data"
    },
    {
     "data": {
      "application/scrapbook.scrap.json+json": {
       "data": 0.052409225969829346,
       "encoder": "json",
       "name": "ABC-GAN Model 1 MAE",
       "version": 1
      }
     },
     "metadata": {
      "scrapbook": {
       "data": true,
       "display": false,
       "name": "ABC-GAN Model 1 MAE"
      }
     },
     "output_type": "display_data"
    },
    {
     "data": {
      "application/scrapbook.scrap.json+json": {
       "data": 8.071020799353718,
       "encoder": "json",
       "name": "ABC-GAN Model 1 Manhattan Distance",
       "version": 1
      }
     },
     "metadata": {
      "scrapbook": {
       "data": true,
       "display": false,
       "name": "ABC-GAN Model 1 Manhattan Distance"
      }
     },
     "output_type": "display_data"
    },
    {
     "data": {
      "application/scrapbook.scrap.json+json": {
       "data": 0.8658027382587864,
       "encoder": "json",
       "name": "ABC-GAN Model 1 Euclidean distance",
       "version": 1
      }
     },
     "metadata": {
      "scrapbook": {
       "data": true,
       "display": false,
       "name": "ABC-GAN Model 1 Euclidean distance"
      }
     },
     "output_type": "display_data"
    },
    {
     "data": {
      "application/scrapbook.scrap.json+json": {
       "data": [
        [
         0.005032552353696126,
         0.004529857038986835,
         0.0048729834391088795,
         0.005021646793763244,
         0.0046986726342020625,
         0.00499532992154296,
         0.004841368121557188,
         0.004897429420066381,
         0.004868242979748173,
         0.004867158460233885,
         0.004866779271205214,
         0.005023019886427468,
         0.004553746772086303,
         0.004656603488967224,
         0.005032911890539221,
         0.0048880232596914906,
         0.004515435244577378,
         0.004808689429858409,
         0.004790435541192244,
         0.004790277724116335,
         0.004879067440600803,
         0.004759913809136693,
         0.004821541682416709,
         0.005009026465483577,
         0.004837034443412223,
         0.0050778242863887225,
         0.004813394049165127,
         0.004838266826888414,
         0.004942210354996033,
         0.005134828445886759,
         0.004930109834389423,
         0.004989535998775223,
         0.004890956154311792,
         0.0049302600706344095,
         0.004702303592535086,
         0.004804144716569608,
         0.0050008300204110335,
         0.005043030286796902,
         0.0049421856376012175,
         0.0048956433242593085,
         0.004886416343492675,
         0.004570497244740192,
         0.004818561960826948,
         0.004719182234765114,
         0.004826674462227832,
         0.004760143131909809,
         0.004645972257357142,
         0.00493620428181749,
         0.004830386783325757,
         0.004732899328157222,
         0.005000631691005659,
         0.004857305951406686,
         0.005076778945598153,
         0.0048336330471223975,
         0.0047306441578953634,
         0.005271305998155406,
         0.004968234267093611,
         0.004972244956006699,
         0.004950028391797641,
         0.005009420992867869,
         0.004789730938797442,
         0.00482851429916184,
         0.0049517114048521415,
         0.004791711275530696,
         0.0049727557354338195,
         0.004847384067483816,
         0.004893608647762743,
         0.0048792116828658035,
         0.0045485002206432125,
         0.004841711803342212,
         0.005187308432683821,
         0.0049035216465241884,
         0.005037661371164552,
         0.004742094381643665,
         0.005119911177248337,
         0.004563478971544697,
         0.0050530080189608775,
         0.004866565109335149,
         0.004995110504483907,
         0.0046346920900622035,
         0.004835016942072546,
         0.005028118765425643,
         0.004892563203653044,
         0.004791039922694089,
         0.005030509062292799,
         0.004566089563818071,
         0.0050577450171063335,
         0.004865310065552125,
         0.004800652867790493,
         0.0047515884468990474,
         0.004853800765664066,
         0.004989588163358795,
         0.005029587509852605,
         0.005010731013121463,
         0.004727668308095552,
         0.004719153829351115,
         0.004919445988916089,
         0.004690757054190074,
         0.004839729166456719,
         0.004838071326668373
        ],
        [
         0.052105720844361686,
         0.05035474156210949,
         0.05266060360840389,
         0.052883843080951023,
         0.05144319765560039,
         0.053476151707884556,
         0.05269539709408562,
         0.05280905749116625,
         0.05320994710767424,
         0.05242443263724253,
         0.05223528924700502,
         0.053070695611176555,
         0.050834600414548604,
         0.051481136689325434,
         0.053374287998908525,
         0.05242728606446997,
         0.050824832171201706,
         0.05196719892419778,
         0.05186218071680564,
         0.052572880278934135,
         0.05223697191709048,
         0.05246413465250622,
         0.05248345279848421,
         0.0526989254278022,
         0.051863103524431006,
         0.05264742024146117,
         0.05190524763681672,
         0.05261313629808364,
         0.052999615475728915,
         0.05389675938270309,
         0.052165456358101464,
         0.053144078072789425,
         0.052204989041987955,
         0.05309566158752937,
         0.051539723652523836,
         0.05259778577979509,
         0.05284428354594615,
         0.05299450815111011,
         0.05230032613912186,
         0.05263811490171916,
         0.05240867751372325,
         0.051091704082179376,
         0.05190309993438907,
         0.0517657645917558,
         0.051817426191908975,
         0.05207889836716961,
         0.05161943794651465,
         0.05284986272454262,
         0.0525171955587802,
         0.05221993166517902,
         0.052743507670117665,
         0.05231926275731681,
         0.052961384321188,
         0.052006676938239634,
         0.05280620880521737,
         0.05348295486205584,
         0.05345648028827333,
         0.052655336386584616,
         0.052252918094783635,
         0.053263846397786946,
         0.052292780587812525,
         0.05206064473498951,
         0.05322252746139254,
         0.052254907012759866,
         0.0533369445278273,
         0.05208512100499946,
         0.05262836871983169,
         0.05275754185466023,
         0.051802179110901694,
         0.05214267678849109,
         0.054009108429218265,
         0.05284706203194408,
         0.053617504122969395,
         0.05228806509600057,
         0.053722578645139546,
         0.051211384548382324,
         0.053130554736821684,
         0.052688011488357146,
         0.052771579570971526,
         0.0510257568161983,
         0.052195302948549196,
         0.05345740991753417,
         0.052915906993212636,
         0.05118120964858439,
         0.053179308239902766,
         0.050564533462385076,
         0.05262631110169671,
         0.0523398414060667,
         0.05256575220204019,
         0.05150791634986927,
         0.05246162012993515,
         0.05249405836130117,
         0.05306449590565322,
         0.053458209500297324,
         0.0518213805149902,
         0.051454985103049834,
         0.052241578407875904,
         0.05147935967747267,
         0.051813759683788596,
         0.05193660954956884
        ],
        [
         8.0242810100317,
         7.754630200564861,
         8.109732955694199,
         8.144111834466457,
         7.92225243896246,
         8.235327363014221,
         8.115091152489185,
         8.132594853639603,
         8.194331854581833,
         8.07336262613535,
         8.044234544038773,
         8.17288712412119,
         7.828528463840485,
         7.9280950501561165,
         8.219640351831913,
         8.073802053928375,
         7.827024154365063,
         8.002948634326458,
         7.986775830388069,
         8.096223562955856,
         8.044493675231934,
         8.079476736485958,
         8.082451730966568,
         8.115634515881538,
         7.986917942762375,
         8.10770271718502,
         7.993408136069775,
         8.10242298990488,
         8.161940783262253,
         8.300100944936275,
         8.033480279147625,
         8.184188023209572,
         8.039568312466145,
         8.176731884479523,
         7.93711744248867,
         8.100059010088444,
         8.138019666075706,
         8.161154255270958,
         8.054250225424767,
         8.10626969486475,
         8.07093633711338,
         7.868122428655624,
         7.993077389895916,
         7.971927747130394,
         7.979883633553982,
         8.02015034854412,
         7.949393443763256,
         8.138878859579563,
         8.08764811605215,
         8.041869476437569,
         8.12250018119812,
         8.057166464626789,
         8.156053185462952,
         8.009028248488903,
         8.132156156003475,
         8.2363750487566,
         8.232297964394093,
         8.108921803534031,
         8.04694938659668,
         8.20263234525919,
         8.053088210523129,
         8.017339289188385,
         8.196269229054451,
         8.04725567996502,
         8.213889457285404,
         8.021108634769917,
         8.10476878285408,
         8.124661445617676,
         7.977535583078861,
         8.029972225427628,
         8.317402698099613,
         8.138447552919388,
         8.257095634937286,
         8.052362024784088,
         8.27327711135149,
         7.886553220450878,
         8.182105429470539,
         8.113953769207,
         8.126823253929615,
         7.857966549694538,
         8.038076654076576,
         8.232441127300262,
         8.149049676954746,
         7.881906285881996,
         8.189613468945026,
         7.786938153207302,
         8.104451909661293,
         8.060335576534271,
         8.09512583911419,
         7.9322191178798676,
         8.079089500010014,
         8.08408498764038,
         8.171932369470596,
         8.232564263045788,
         7.980492599308491,
         7.924067705869675,
         8.045203074812889,
         7.9278213903307915,
         7.979318991303444,
         7.998237870633602
        ],
        [
         0.8803482620356579,
         0.8352233138532308,
         0.8662790829881368,
         0.87939388571876,
         0.8506442180295577,
         0.8770865452836543,
         0.863464354052793,
         0.8684492677699847,
         0.8658576204441574,
         0.865761169651318,
         0.8657274442719273,
         0.8795141059186203,
         0.837422833998029,
         0.846827572355171,
         0.8803797085025529,
         0.8676148811497468,
         0.8338926955339735,
         0.8605452760884781,
         0.8589103989029387,
         0.8588962507275926,
         0.8668196962762923,
         0.8561698001022056,
         0.8616945045038717,
         0.8782881507139162,
         0.8630778089404699,
         0.8842991236588801,
         0.8609661338121434,
         0.8631877497629445,
         0.8724106800523416,
         0.8892488856706884,
         0.871342019241567,
         0.8765777454461094,
         0.8678751337398808,
         0.8713552954321785,
         0.8509728275629035,
         0.860138527419694,
         0.8775692697122541,
         0.8812642419653272,
         0.8724084984630693,
         0.8682908913123145,
         0.8674722571344122,
         0.838961605611359,
         0.8614281989622524,
         0.8524987179778205,
         0.8621530416249114,
         0.8561904240962466,
         0.8458603475946841,
         0.8718804157680647,
         0.8624845300828106,
         0.8537367841063264,
         0.8775518676493551,
         0.8648844526967921,
         0.8842080963337282,
         0.8627742979811401,
         0.8535333621575,
         0.9009889698081395,
         0.8747045656291135,
         0.875057554235738,
         0.8731004365689188,
         0.8783227384632893,
         0.8588472300559664,
         0.8623173441784198,
         0.8732488513288922,
         0.8590247589166026,
         0.8751024987147552,
         0.8640006634213354,
         0.868110437533994,
         0.8668325092896169,
         0.8369402810111691,
         0.86349500155745,
         0.8937815721043416,
         0.8689892597522278,
         0.8807950108619718,
         0.854565699506553,
         0.8879562609139281,
         0.8383172201606521,
         0.8821356102776802,
         0.8657083959611417,
         0.8770672823053667,
         0.844832872152581,
         0.8628977975862332,
         0.8799603910833423,
         0.8680177033693315,
         0.8589645790688284,
         0.8801695266214862,
         0.8385569705321059,
         0.8825489972995127,
         0.8655967595220231,
         0.8598258786752907,
         0.8554207273748125,
         0.8645723323772663,
         0.8765823276551121,
         0.8800889026213777,
         0.8784375766215294,
         0.8532648589076635,
         0.8524961523198047,
         0.8703991511330177,
         0.8499274006321195,
         0.8633181867853443,
         0.8631703101398527
        ]
       ],
       "encoder": "json",
       "name": "ABC_GAN_2 Metrics",
       "version": 1
      }
     },
     "metadata": {
      "scrapbook": {
       "data": true,
       "display": false,
       "name": "ABC_GAN_2 Metrics"
      }
     },
     "output_type": "display_data"
    },
    {
     "name": "stdout",
     "output_type": "stream",
     "text": [
      "MAE\n",
      "0.052409225969829346\n"
     ]
    }
   ],
   "source": [
    "ABC_GAN2_metrics=ABC_train_test2.test_generator(gen2,test_data,prior_model,variance,bias,\"1\",device)\n",
    "sb.glue(\"ABC_GAN_2 Metrics\",ABC_GAN2_metrics)\n",
    "\n",
    "print(\"MAE\")\n",
    "print(mean(ABC_GAN2_metrics[1]))"
   ]
  },
  {
   "cell_type": "code",
   "execution_count": 18,
   "id": "3b297d1f",
   "metadata": {
    "execution": {
     "iopub.execute_input": "2022-07-25T09:48:26.030458Z",
     "iopub.status.busy": "2022-07-25T09:48:26.030108Z",
     "iopub.status.idle": "2022-07-25T09:48:27.445081Z",
     "shell.execute_reply": "2022-07-25T09:48:27.444366Z"
    },
    "papermill": {
     "duration": 1.454419,
     "end_time": "2022-07-25T09:48:27.447840",
     "exception": false,
     "start_time": "2022-07-25T09:48:25.993421",
     "status": "completed"
    },
    "tags": []
   },
   "outputs": [
    {
     "data": {
      "image/png": "[encoded data removed]",
      "text/plain": [
       "<Figure size 432x288 with 1 Axes>"
      ]
     },
     "metadata": {
      "needs_background": "light"
     },
     "output_type": "display_data"
    },
    {
     "data": {
      "image/png": "[encoded data removed]",
      "text/plain": [
       "<Figure size 432x288 with 1 Axes>"
      ]
     },
     "metadata": {
      "needs_background": "light"
     },
     "output_type": "display_data"
    },
    {
     "data": {
      "image/png": "[encoded data removed]",
      "text/plain": [
       "<Figure size 432x288 with 1 Axes>"
      ]
     },
     "metadata": {
      "needs_background": "light"
     },
     "output_type": "display_data"
    },
    {
     "data": {
      "image/png": "[encoded data removed]",
      "text/plain": [
       "<Figure size 432x288 with 1 Axes>"
      ]
     },
     "metadata": {
      "needs_background": "light"
     },
     "output_type": "display_data"
    }
   ],
   "source": [
    "sanityChecks.discProbVsError(train_data,disc2,device)\n",
    "sanityChecks.discProbVsError(test_data,disc2,device)"
   ]
  },
  {
   "cell_type": "markdown",
   "id": "130f3a4d",
   "metadata": {
    "id": "130f3a4d",
    "papermill": {
     "duration": 0.032907,
     "end_time": "2022-07-25T09:48:27.514562",
     "exception": false,
     "start_time": "2022-07-25T09:48:27.481655",
     "status": "completed"
    },
    "tags": []
   },
   "source": [
    "# skipGAN Model"
   ]
  },
  {
   "cell_type": "code",
   "execution_count": 19,
   "id": "4e43dad1",
   "metadata": {
    "execution": {
     "iopub.execute_input": "2022-07-25T09:48:27.580529Z",
     "iopub.status.busy": "2022-07-25T09:48:27.580214Z",
     "iopub.status.idle": "2022-07-25T09:48:27.590218Z",
     "shell.execute_reply": "2022-07-25T09:48:27.588589Z"
    },
    "id": "4e43dad1",
    "papermill": {
     "duration": 0.047827,
     "end_time": "2022-07-25T09:48:27.593673",
     "exception": false,
     "start_time": "2022-07-25T09:48:27.545846",
     "status": "completed"
    },
    "tags": []
   },
   "outputs": [],
   "source": [
    "#Generator\n",
    "gen3 = network.GeneratorWithSkipConnection(n_features+1).to(device)\n",
    "constraints=network.weightConstraint()\n",
    "#Discriminator \n",
    "disc3 = network.Discriminator(n_features+1).to(device)\n",
    "\n",
    "criterion = torch.nn.BCELoss()\n",
    "gen_opt = torch.optim.Adam(gen3.parameters(), lr=0.01, betas=(0.5, 0.999))\n",
    "disc_opt = torch.optim.Adam(disc3.parameters(), lr=0.01, betas=(0.5, 0.999))\n"
   ]
  },
  {
   "cell_type": "code",
   "execution_count": 20,
   "id": "26acbc37",
   "metadata": {
    "execution": {
     "iopub.execute_input": "2022-07-25T09:48:27.661880Z",
     "iopub.status.busy": "2022-07-25T09:48:27.661323Z",
     "iopub.status.idle": "2022-07-25T09:58:21.336847Z",
     "shell.execute_reply": "2022-07-25T09:58:21.335308Z"
    },
    "id": "26acbc37",
    "papermill": {
     "duration": 593.715056,
     "end_time": "2022-07-25T09:58:21.340554",
     "exception": false,
     "start_time": "2022-07-25T09:48:27.625498",
     "status": "completed"
    },
    "tags": []
   },
   "outputs": [
    {
     "data": {
      "image/png": "[encoded data removed]",
      "text/plain": [
       "<Figure size 432x288 with 1 Axes>"
      ]
     },
     "metadata": {
      "needs_background": "light"
     },
     "output_type": "display_data"
    },
    {
     "data": {
      "image/png": "[encoded data removed]",
      "text/plain": [
       "<Figure size 432x288 with 1 Axes>"
      ]
     },
     "metadata": {
      "needs_background": "light"
     },
     "output_type": "display_data"
    }
   ],
   "source": [
    "ABC_train_test2.training_GAN_skip_connection(disc3,gen3,disc_opt,gen_opt,train_data,batch_size,n_epochs,criterion,prior_model,variance,bias,device)"
   ]
  },
  {
   "cell_type": "code",
   "execution_count": 21,
   "id": "c5e0717b",
   "metadata": {
    "execution": {
     "iopub.execute_input": "2022-07-25T09:58:21.438808Z",
     "iopub.status.busy": "2022-07-25T09:58:21.438315Z",
     "iopub.status.idle": "2022-07-25T09:58:28.104183Z",
     "shell.execute_reply": "2022-07-25T09:58:28.103328Z"
    },
    "id": "c5e0717b",
    "papermill": {
     "duration": 6.719845,
     "end_time": "2022-07-25T09:58:28.107147",
     "exception": false,
     "start_time": "2022-07-25T09:58:21.387302",
     "status": "completed"
    },
    "tags": []
   },
   "outputs": [
    {
     "data": {
      "application/scrapbook.scrap.json+json": {
       "data": 0.2045447855762778,
       "encoder": "json",
       "name": "ABC-GAN Model 3 MSE",
       "version": 1
      }
     },
     "metadata": {
      "scrapbook": {
       "data": true,
       "display": false,
       "name": "ABC-GAN Model 3 MSE"
      }
     },
     "output_type": "display_data"
    },
    {
     "data": {
      "application/scrapbook.scrap.json+json": {
       "data": 0.34754373903785435,
       "encoder": "json",
       "name": "ABC-GAN Model 3 MAE",
       "version": 1
      }
     },
     "metadata": {
      "scrapbook": {
       "data": true,
       "display": false,
       "name": "ABC-GAN Model 3 MAE"
      }
     },
     "output_type": "display_data"
    },
    {
     "data": {
      "application/scrapbook.scrap.json+json": {
       "data": 53.521735811829565,
       "encoder": "json",
       "name": "ABC-GAN Model 3 Manhattan Distance",
       "version": 1
      }
     },
     "metadata": {
      "scrapbook": {
       "data": true,
       "display": false,
       "name": "ABC-GAN Model 3 Manhattan Distance"
      }
     },
     "output_type": "display_data"
    },
    {
     "data": {
      "application/scrapbook.scrap.json+json": {
       "data": 5.6124739433803095,
       "encoder": "json",
       "name": "ABC-GAN Model 3 Euclidean distance",
       "version": 1
      }
     },
     "metadata": {
      "scrapbook": {
       "data": true,
       "display": false,
       "name": "ABC-GAN Model 3 Euclidean distance"
      }
     },
     "output_type": "display_data"
    },
    {
     "data": {
      "application/scrapbook.scrap.json+json": {
       "data": [
        [
         0.20486914192991368,
         0.20460201093916922,
         0.20480604812397954,
         0.20409715462635464,
         0.20459277721769528,
         0.204384772702092,
         0.20491147070794102,
         0.20426281205931715,
         0.2049357705203284,
         0.20444287420087118,
         0.2052947701680833,
         0.20423925033902493,
         0.20382851794991558,
         0.20518732850179217,
         0.20458425031940422,
         0.20432355970323643,
         0.20349186831354352,
         0.20454986170126693,
         0.2050136074950362,
         0.2042340762792295,
         0.2046073171419979,
         0.20478285158332754,
         0.2035873935330844,
         0.20414442531142676,
         0.20427081419163753,
         0.20471504867514118,
         0.20425144674242957,
         0.20521070922092627,
         0.2043428914864459,
         0.20415376353214407,
         0.2044512862894079,
         0.2051453665619244,
         0.2038169809401529,
         0.20473417272248484,
         0.20446274397081982,
         0.20416375827637717,
         0.20504820630502285,
         0.20413014998482557,
         0.20441383102606428,
         0.20469087344799713,
         0.20401616307824635,
         0.20389689888431506,
         0.20457193308700516,
         0.20475228067382387,
         0.2042444360774019,
         0.20378832841537609,
         0.2043338134602123,
         0.20527227880025148,
         0.20466057854172537,
         0.20478514849647278,
         0.20394469679491503,
         0.20490293261539397,
         0.20526595665709393,
         0.20417882142985272,
         0.2051463417349623,
         0.203999041516636,
         0.20482950901294378,
         0.2044361245543927,
         0.20432863124196826,
         0.20446233089709837,
         0.20436522909177846,
         0.20487969757605146,
         0.20462924896796783,
         0.20470365892131318,
         0.20446666906956673,
         0.2042731940601479,
         0.20470405084560084,
         0.20501239952637879,
         0.20467365410572083,
         0.2052393709117913,
         0.20478349505913668,
         0.20410130420073117,
         0.20413203750694345,
         0.20350237016782713,
         0.20424246456775755,
         0.20384481603956664,
         0.20444029597889823,
         0.20508348705276475,
         0.20452788042706496,
         0.20474674689242278,
         0.20500046456861495,
         0.2050120595168843,
         0.20489988853756513,
         0.20499875171509796,
         0.2043443751731642,
         0.20470971439924332,
         0.20398267642643433,
         0.20459255475479685,
         0.20473899647238364,
         0.2049729393878613,
         0.2041688212563902,
         0.20557461874792773,
         0.20465795464964945,
         0.20477053946152307,
         0.2046365522018079,
         0.20456473127712135,
         0.20488662351556067,
         0.20452438025966438,
         0.2048336548709991,
         0.20466398875374128
        ],
        [
         0.34775549163679026,
         0.3475582888954646,
         0.347383341909229,
         0.3472894854940377,
         0.3480140447810099,
         0.34772885358565814,
         0.34770616414872085,
         0.3470209890178272,
         0.3480954954957033,
         0.3472717722708529,
         0.3476926244117997,
         0.3469239936827065,
         0.34686034733985927,
         0.34832723970924107,
         0.3479681269495518,
         0.347356285464454,
         0.34653578592198236,
         0.347232159372274,
         0.3481620895591649,
         0.3473519898660771,
         0.34795757557277557,
         0.34766977086856765,
         0.34684291569056447,
         0.34788993494464204,
         0.3467758922027303,
         0.34777664586708146,
         0.3472821874084411,
         0.34773182762520655,
         0.3476960267145912,
         0.34738258001479233,
         0.3474335650151426,
         0.3481603523159956,
         0.34657550196756015,
         0.34790356331444405,
         0.3471591458111614,
         0.34706720371137967,
         0.3479941062532462,
         0.347253433585941,
         0.34770227649382185,
         0.3472003204288421,
         0.34670927859358974,
         0.34708829195081414,
         0.3476828978239716,
         0.347828038617388,
         0.34736882372723,
         0.34700684762233264,
         0.3476828062882671,
         0.3478030516923248,
         0.34776544870881293,
         0.3474584563405483,
         0.3472310203042897,
         0.34778463501821866,
         0.3479996332293981,
         0.3471376834945245,
         0.34875228662382474,
         0.34693223731471345,
         0.3481745388020169,
         0.34690801867029886,
         0.3474836780072807,
         0.34772623988328044,
         0.347687434356708,
         0.3472884666029509,
         0.34709594205215377,
         0.34823566684862234,
         0.34755550353945075,
         0.3476208261661715,
         0.3476527874152382,
         0.3482205897763178,
         0.34770256967900637,
         0.3474880245018315,
         0.34761961472111863,
         0.3473064401126527,
         0.3471461587718555,
         0.3465255941082905,
         0.34728960199402525,
         0.34696002082004174,
         0.3471294888234758,
         0.3475314478402014,
         0.34761460986617326,
         0.34808641759219106,
         0.34829864728373366,
         0.3484044118554561,
         0.3481243286620487,
         0.34770555126589614,
         0.34742413006432643,
         0.34802514169510307,
         0.3465085524049672,
         0.3474700233185446,
         0.3473679255936053,
         0.3481634625947321,
         0.3473345477666174,
         0.3488737287652957,
         0.34768317881729693,
         0.3481012457957515,
         0.34744630125048875,
         0.3473120843628784,
         0.3483864561497391,
         0.3468550251095326,
         0.3477979769760912,
         0.3471206704323942
        ],
        [
         53.5543457120657,
         53.52397648990154,
         53.49703465402126,
         53.48258076608181,
         53.59416289627552,
         53.55024345219135,
         53.54674927890301,
         53.441232308745384,
         53.60670630633831,
         53.47985292971134,
         53.54466415941715,
         53.4262950271368,
         53.416493490338326,
         53.64239491522312,
         53.58709155023098,
         53.49286796152592,
         53.36651103198528,
         53.47375254333019,
         53.6169617921114,
         53.49220643937588,
         53.585466638207436,
         53.54114471375942,
         53.41380901634693,
         53.575049981474876,
         53.40348739922047,
         53.55760346353054,
         53.481456860899925,
         53.55070145428181,
         53.54518811404705,
         53.49691732227802,
         53.50476901233196,
         53.61669425666332,
         53.372627303004265,
         53.577148750424385,
         53.46250845491886,
         53.44834937155247,
         53.591092362999916,
         53.47702877223492,
         53.54615058004856,
         53.46884934604168,
         53.39322890341282,
         53.45159696042538,
         53.543166264891624,
         53.56551794707775,
         53.494798853993416,
         53.439054533839226,
         53.543152168393135,
         53.56166996061802,
         53.55587910115719,
         53.508602276444435,
         53.47357712686062,
         53.55883379280567,
         53.59194351732731,
         53.459203258156776,
         53.70785214006901,
         53.427564546465874,
         53.6188789755106,
         53.42383487522602,
         53.51248641312122,
         53.549840942025185,
         53.54386489093304,
         53.48242385685444,
         53.452775076031685,
         53.62829269468784,
         53.52354754507542,
         53.533607229590416,
         53.53852926194668,
         53.62597082555294,
         53.54619573056698,
         53.51315577328205,
         53.53342066705227,
         53.48519177734852,
         53.460508450865746,
         53.364941492676735,
         53.48259870707989,
         53.43184320628643,
         53.45794127881527,
         53.519842967391014,
         53.53264991939068,
         53.605308309197426,
         53.637991681694984,
         53.65427942574024,
         53.6111466139555,
         53.546654894948006,
         53.50331602990627,
         53.595871821045876,
         53.36231707036495,
         53.51038359105587,
         53.494660541415215,
         53.61717323958874,
         53.489520356059074,
         53.72655422985554,
         53.54320953786373,
         53.60759185254574,
         53.506730392575264,
         53.48606099188328,
         53.65151424705982,
         53.41567386686802,
         53.56088845431805,
         53.45658324658871
        ],
        [
         5.616925124764145,
         5.613261946910375,
         5.616060132432063,
         5.60633229593632,
         5.613135281776581,
         5.610281186903394,
         5.617505361726227,
         5.6086070514107895,
         5.617838433074644,
         5.611078561821618,
         5.622756851037116,
         5.608283565602744,
         5.602641498818837,
         5.621285314701256,
         5.613018310070638,
         5.609440987683033,
         5.598012836738203,
         5.612546543414593,
         5.618905191782076,
         5.608212526910989,
         5.6133347343506665,
         5.615742083093956,
         5.599326620594211,
         5.606981496131383,
         5.60871691080163,
         5.614812329541544,
         5.608451015952101,
         5.621605573145686,
         5.609706346049913,
         5.607109735322663,
         5.611193998479184,
         5.620710493392837,
         5.6024829374825895,
         5.615074585369517,
         5.611351225106681,
         5.607246987119622,
         5.619379304778555,
         5.606785451367221,
         5.610679992479868,
         5.614480787302736,
         5.605219809610497,
         5.60358121456132,
         5.6128493383840965,
         5.615322895770898,
         5.608354763735965,
         5.602089126028603,
         5.60958173778337,
         5.622448837938744,
         5.614065291339752,
         5.615773577028974,
         5.604237977318318,
         5.617388327574537,
         5.622362254888283,
         5.607453833978245,
         5.620723852599786,
         5.6049846024375425,
         5.616381787947943,
         5.610985936658233,
         5.609510603543156,
         5.6113455568297645,
         5.610012948303585,
         5.6170698256931,
         5.613635572520454,
         5.614656131401301,
         5.61140508577961,
         5.608749583041016,
         5.614661506290697,
         5.618888638072686,
         5.614244627042983,
         5.621998143046283,
         5.615750906077213,
         5.6063892878494075,
         5.606811373327025,
         5.598157286629714,
         5.608327695796195,
         5.6028654874174215,
         5.611043181151818,
         5.619862721288284,
         5.6122449684389215,
         5.615247013394255,
         5.618725081685942,
         5.618883978656275,
         5.617346600912661,
         5.6187016083900625,
         5.609726711406473,
         5.614739176264866,
         5.604759778052123,
         5.613132230068939,
         5.6151407334765056,
         5.61834785908906,
         5.607316512689834,
         5.626587890292026,
         5.614029303098267,
         5.615573263441102,
         5.613735747172146,
         5.612750539323539,
         5.6171647671575675,
         5.612196945937331,
         5.616438626935565,
         5.614112064082454
        ]
       ],
       "encoder": "json",
       "name": "ABC_GAN_3 Metrics",
       "version": 1
      }
     },
     "metadata": {
      "scrapbook": {
       "data": true,
       "display": false,
       "name": "ABC_GAN_3 Metrics"
      }
     },
     "output_type": "display_data"
    },
    {
     "name": "stdout",
     "output_type": "stream",
     "text": [
      "MAE\n",
      "0.34754373903785435\n"
     ]
    }
   ],
   "source": [
    "ABC_GAN3_metrics=ABC_train_test2.test_generator(gen3,test_data,prior_model,variance,bias,\"3\",device)\n",
    "sb.glue(\"ABC_GAN_3 Metrics\",ABC_GAN3_metrics)\n",
    "\n",
    "print(\"MAE\")\n",
    "print(mean(ABC_GAN3_metrics[1]))"
   ]
  },
  {
   "cell_type": "code",
   "execution_count": 22,
   "id": "c8e46b48",
   "metadata": {
    "execution": {
     "iopub.execute_input": "2022-07-25T09:58:28.185835Z",
     "iopub.status.busy": "2022-07-25T09:58:28.185529Z",
     "iopub.status.idle": "2022-07-25T09:58:29.105941Z",
     "shell.execute_reply": "2022-07-25T09:58:29.104883Z"
    },
    "id": "c8e46b48",
    "papermill": {
     "duration": 0.965064,
     "end_time": "2022-07-25T09:58:29.109615",
     "exception": false,
     "start_time": "2022-07-25T09:58:28.144551",
     "status": "completed"
    },
    "tags": []
   },
   "outputs": [
    {
     "data": {
      "image/png": "[encoded data removed]",
      "text/plain": [
       "<Figure size 432x288 with 1 Axes>"
      ]
     },
     "metadata": {
      "needs_background": "light"
     },
     "output_type": "display_data"
    },
    {
     "data": {
      "image/png": "[encoded data removed]",
      "text/plain": [
       "<Figure size 432x288 with 1 Axes>"
      ]
     },
     "metadata": {
      "needs_background": "light"
     },
     "output_type": "display_data"
    },
    {
     "data": {
      "image/png": "[encoded data removed]",
      "text/plain": [
       "<Figure size 432x288 with 1 Axes>"
      ]
     },
     "metadata": {
      "needs_background": "light"
     },
     "output_type": "display_data"
    },
    {
     "data": {
      "image/png": "[encoded data removed]",
      "text/plain": [
       "<Figure size 432x288 with 1 Axes>"
      ]
     },
     "metadata": {
      "needs_background": "light"
     },
     "output_type": "display_data"
    }
   ],
   "source": [
    "sanityChecks.discProbVsError(train_data,disc3,device)\n",
    "sanityChecks.discProbVsError(test_data,disc3,device)"
   ]
  },
  {
   "cell_type": "markdown",
   "id": "71d4ded7",
   "metadata": {
    "id": "130f3a4d",
    "papermill": {
     "duration": 0.038675,
     "end_time": "2022-07-25T09:58:29.187766",
     "exception": false,
     "start_time": "2022-07-25T09:58:29.149091",
     "status": "completed"
    },
    "tags": []
   },
   "source": [
    "# skipGAN Model with TabNet Generator"
   ]
  },
  {
   "cell_type": "code",
   "execution_count": 23,
   "id": "949b6cfe",
   "metadata": {
    "execution": {
     "iopub.execute_input": "2022-07-25T09:58:29.277547Z",
     "iopub.status.busy": "2022-07-25T09:58:29.276798Z",
     "iopub.status.idle": "2022-07-25T09:58:29.301897Z",
     "shell.execute_reply": "2022-07-25T09:58:29.300532Z"
    },
    "id": "4e43dad1",
    "papermill": {
     "duration": 0.080114,
     "end_time": "2022-07-25T09:58:29.309538",
     "exception": false,
     "start_time": "2022-07-25T09:58:29.229424",
     "status": "completed"
    },
    "tags": []
   },
   "outputs": [],
   "source": [
    "#Generator\n",
    "gen4 = network.GeneratorTabnetskipConnection(n_features+1).to(device)\n",
    "constraints=network.weightConstraint()\n",
    "#Discriminator \n",
    "disc4 = network.Discriminator(n_features+1).to(device)\n",
    "\n",
    "criterion = torch.nn.BCELoss()\n",
    "gen_opt = torch.optim.Adam(gen4.parameters(), lr=0.01, betas=(0.5, 0.999))\n",
    "disc_opt = torch.optim.Adam(disc4.parameters(), lr=0.01, betas=(0.5, 0.999))\n"
   ]
  },
  {
   "cell_type": "code",
   "execution_count": 24,
   "id": "ad67fec7",
   "metadata": {
    "execution": {
     "iopub.execute_input": "2022-07-25T09:58:29.435355Z",
     "iopub.status.busy": "2022-07-25T09:58:29.434846Z",
     "iopub.status.idle": "2022-07-25T10:20:17.276844Z",
     "shell.execute_reply": "2022-07-25T10:20:17.275253Z"
    },
    "id": "26acbc37",
    "papermill": {
     "duration": 1307.907695,
     "end_time": "2022-07-25T10:20:17.281637",
     "exception": false,
     "start_time": "2022-07-25T09:58:29.373942",
     "status": "completed"
    },
    "tags": []
   },
   "outputs": [
    {
     "data": {
      "image/png": "[encoded data removed]",
      "text/plain": [
       "<Figure size 432x288 with 1 Axes>"
      ]
     },
     "metadata": {
      "needs_background": "light"
     },
     "output_type": "display_data"
    },
    {
     "data": {
      "image/png": "[encoded data removed]",
      "text/plain": [
       "<Figure size 432x288 with 1 Axes>"
      ]
     },
     "metadata": {
      "needs_background": "light"
     },
     "output_type": "display_data"
    }
   ],
   "source": [
    "ABC_train_test2.training_GAN_skip_connection(disc4,gen4,disc_opt,gen_opt,train_data,batch_size,n_epochs,criterion,prior_model,variance,bias,device)"
   ]
  },
  {
   "cell_type": "code",
   "execution_count": 25,
   "id": "8707cbed",
   "metadata": {
    "execution": {
     "iopub.execute_input": "2022-07-25T10:20:17.724062Z",
     "iopub.status.busy": "2022-07-25T10:20:17.723686Z",
     "iopub.status.idle": "2022-07-25T10:20:24.715878Z",
     "shell.execute_reply": "2022-07-25T10:20:24.715068Z"
    },
    "id": "c5e0717b",
    "papermill": {
     "duration": 7.036374,
     "end_time": "2022-07-25T10:20:24.718878",
     "exception": false,
     "start_time": "2022-07-25T10:20:17.682504",
     "status": "completed"
    },
    "tags": []
   },
   "outputs": [
    {
     "data": {
      "application/scrapbook.scrap.json+json": {
       "data": 0.014050684200076715,
       "encoder": "json",
       "name": "ABC-GAN Model 3 MSE",
       "version": 1
      }
     },
     "metadata": {
      "scrapbook": {
       "data": true,
       "display": false,
       "name": "ABC-GAN Model 3 MSE"
      }
     },
     "output_type": "display_data"
    },
    {
     "data": {
      "application/scrapbook.scrap.json+json": {
       "data": 0.08971588689591978,
       "encoder": "json",
       "name": "ABC-GAN Model 3 MAE",
       "version": 1
      }
     },
     "metadata": {
      "scrapbook": {
       "data": true,
       "display": false,
       "name": "ABC-GAN Model 3 MAE"
      }
     },
     "output_type": "display_data"
    },
    {
     "data": {
      "application/scrapbook.scrap.json+json": {
       "data": 13.816246581971646,
       "encoder": "json",
       "name": "ABC-GAN Model 3 Manhattan Distance",
       "version": 1
      }
     },
     "metadata": {
      "scrapbook": {
       "data": true,
       "display": false,
       "name": "ABC-GAN Model 3 Manhattan Distance"
      }
     },
     "output_type": "display_data"
    },
    {
     "data": {
      "application/scrapbook.scrap.json+json": {
       "data": 1.4709428847308827,
       "encoder": "json",
       "name": "ABC-GAN Model 3 Euclidean distance",
       "version": 1
      }
     },
     "metadata": {
      "scrapbook": {
       "data": true,
       "display": false,
       "name": "ABC-GAN Model 3 Euclidean distance"
      }
     },
     "output_type": "display_data"
    },
    {
     "data": {
      "application/scrapbook.scrap.json+json": {
       "data": [
        [
         0.01351254207021949,
         0.01417425777308996,
         0.01414358097934711,
         0.01399798577217511,
         0.014289744547111606,
         0.014086396467300427,
         0.014019786568090956,
         0.014000497340012899,
         0.01404247887687417,
         0.014332727397435779,
         0.013806437640670155,
         0.013771143628421552,
         0.013857903456289485,
         0.01380563886273778,
         0.014402561409683969,
         0.013988767332143562,
         0.01412639509741943,
         0.014006978293939041,
         0.014040100022879152,
         0.013961532588839849,
         0.014216238866663058,
         0.013921932348695102,
         0.014339230738102914,
         0.01435076169836465,
         0.01405506905552243,
         0.013772474609038672,
         0.014197550245646957,
         0.014226403309547248,
         0.013603477447095003,
         0.01396719373023903,
         0.014207215394142386,
         0.014051479984190672,
         0.014185500084996952,
         0.014470856672977154,
         0.014070381596240996,
         0.014655744014864351,
         0.014226321892843122,
         0.014033660776926684,
         0.013947237661395995,
         0.014212680905352602,
         0.013873729638056373,
         0.014216468406700848,
         0.01420402013278931,
         0.013887941104073447,
         0.013837334797511609,
         0.014013568191583635,
         0.014012857581735238,
         0.013770921306911824,
         0.014228455624776046,
         0.013935044936683651,
         0.01389592136603241,
         0.014395568018629885,
         0.013969237456552588,
         0.013992950326832194,
         0.014028795116135636,
         0.014313369817840763,
         0.013577736901197845,
         0.014210577053046496,
         0.014165448524013038,
         0.013769719003492664,
         0.014139774311783398,
         0.014082985259630816,
         0.013862387250067153,
         0.013816296001091327,
         0.013915280727489725,
         0.014106802716308181,
         0.014129917952451812,
         0.014315920504822265,
         0.014514184467712273,
         0.013706617408289205,
         0.014194331051382333,
         0.013964710990477334,
         0.01416359493362235,
         0.013837053146614545,
         0.01397169064505468,
         0.014136354715533204,
         0.014176748736418644,
         0.014409440849733049,
         0.014093311721268991,
         0.013666235726835793,
         0.013961292675459161,
         0.014376223575026794,
         0.014362011141530434,
         0.013988232501288934,
         0.013856665993103453,
         0.01406361450371722,
         0.014114845016602916,
         0.013711115397529774,
         0.014095491325951613,
         0.013721013647018054,
         0.014428338109148873,
         0.013776012819592008,
         0.014155553987235954,
         0.013797874501368922,
         0.013997879456585375,
         0.013978527322687683,
         0.014436529892680537,
         0.013805866017136622,
         0.01392683663009839,
         0.013932323915198714
        ],
        [
         0.0875789454424536,
         0.09016075836760658,
         0.08911621096459302,
         0.08980512319060115,
         0.09012906882282976,
         0.08947349204258485,
         0.08976061942128392,
         0.08987880827157528,
         0.08979548813847753,
         0.09113988831832812,
         0.08948297150336303,
         0.08924974530161202,
         0.0899434688609916,
         0.08936441999364209,
         0.09108383614908565,
         0.08939579003430032,
         0.08924481011443323,
         0.08989236116796345,
         0.08825928737203796,
         0.09003096789895713,
         0.08967548521695198,
         0.09007245408637184,
         0.08975061725873451,
         0.09029407209003126,
         0.08922375167732115,
         0.08858815696719405,
         0.09110664073135946,
         0.09015093018095215,
         0.08911845716950181,
         0.08965219895948064,
         0.09010065714647243,
         0.08990856279413421,
         0.08962237418859036,
         0.09077894020003158,
         0.08993854760736614,
         0.09176914558395163,
         0.09103591982033346,
         0.0889832473226956,
         0.08965420984215551,
         0.08935622919302483,
         0.09001807491113613,
         0.08982511996835857,
         0.09024092738891577,
         0.08984843622167389,
         0.08879247994778992,
         0.08963383821310936,
         0.08895909853956917,
         0.0888837416257177,
         0.08980696454837725,
         0.08889637355293546,
         0.08888347224368677,
         0.09050671824000099,
         0.08969638477285187,
         0.0894391228045736,
         0.08912141940423421,
         0.09131303284462396,
         0.08838542395984972,
         0.08981529836143766,
         0.09029188626385354,
         0.0893701147529986,
         0.08970214610362982,
         0.0900687375045442,
         0.08929328804279303,
         0.08934696047724068,
         0.08880959306057397,
         0.09025130053232243,
         0.09028204027321432,
         0.09072444878228299,
         0.0906471624583393,
         0.08963114361871373,
         0.09040386365218596,
         0.08929342447550266,
         0.09033975343812596,
         0.08873135499752961,
         0.08868768414506664,
         0.09011579672624538,
         0.08891501413150267,
         0.09053747288205406,
         0.08918749792622281,
         0.0875889439280931,
         0.08963974178224415,
         0.09057680111039769,
         0.0910873297940601,
         0.08923523911795059,
         0.09012638100168922,
         0.0901134107987602,
         0.08961509487458638,
         0.08832192372579079,
         0.09004998390937781,
         0.08850700950080698,
         0.09108631574101263,
         0.08905356396715362,
         0.08987387405200438,
         0.08956920355558395,
         0.08878960441072266,
         0.09077510460243597,
         0.09189283780076286,
         0.0892720991721401,
         0.08948676549382024,
         0.08866419004542488
        ],
        [
         13.487157598137856,
         13.884756788611412,
         13.723896488547325,
         13.829988971352577,
         13.879876598715782,
         13.778917774558067,
         13.823135390877724,
         13.841336473822594,
         13.828505173325539,
         14.03554280102253,
         13.780377611517906,
         13.74446077644825,
         13.851294204592705,
         13.762120679020882,
         14.02691076695919,
         13.76695166528225,
         13.743700757622719,
         13.843423619866371,
         13.591930255293846,
         13.8647690564394,
         13.810024723410606,
         13.871157929301262,
         13.821595057845116,
         13.905287101864815,
         13.740457758307457,
         13.642576172947884,
         14.030422672629356,
         13.88324324786663,
         13.72424240410328,
         13.806438639760017,
         13.875501200556755,
         13.845918670296669,
         13.801845625042915,
         13.979956790804863,
         13.850536331534386,
         14.13244841992855,
         14.019531652331352,
         13.703420087695122,
         13.806748315691948,
         13.760859295725822,
         13.862783536314964,
         13.83306847512722,
         13.897102817893028,
         13.83665917813778,
         13.674041911959648,
         13.80361108481884,
         13.69970117509365,
         13.688096210360527,
         13.830272540450096,
         13.690041527152061,
         13.688054725527763,
         13.938034608960152,
         13.813243255019188,
         13.773624911904335,
         13.724698588252068,
         14.06220705807209,
         13.611355289816856,
         13.8315559476614,
         13.904950484633446,
         13.762997671961784,
         13.814130499958992,
         13.870585575699806,
         13.751166358590126,
         13.759431913495064,
         13.676677331328392,
         13.898700281977654,
         13.903434202075005,
         13.97156511247158,
         13.959663018584251,
         13.803196117281914,
         13.922195002436638,
         13.75118736922741,
         13.912322029471397,
         13.66462866961956,
         13.657903358340263,
         13.87783269584179,
         13.692912176251411,
         13.942770823836327,
         13.734874680638313,
         13.488697364926338,
         13.804520234465599,
         13.948827371001244,
         14.027448788285255,
         13.74222682416439,
         13.87946267426014,
         13.877465263009071,
         13.800724610686302,
         13.601576253771782,
         13.867697522044182,
         13.630079463124275,
         14.027292624115944,
         13.714248850941658,
         13.840576604008675,
         13.793657347559929,
         13.67359907925129,
         13.979366108775139,
         14.151497021317482,
         13.747903272509575,
         13.780961886048317,
         13.65428526699543
        ],
        [
         1.4425434062148015,
         1.4774422821402715,
         1.4758426307772299,
         1.4682267566404608,
         1.4834489071940387,
         1.4728560880019017,
         1.4693696374588687,
         1.4683584679368953,
         1.4705583113357397,
         1.4856783027308134,
         1.4581465621340004,
         1.4562816069623756,
         1.460861777263195,
         1.4581043806468788,
         1.4892932743725567,
         1.467743223166133,
         1.4749457091712197,
         1.468698286669734,
         1.4704337467303277,
         1.466313751787569,
         1.4796285971371705,
         1.464232762131433,
         1.4860153208052227,
         1.4866126938608306,
         1.4712173988063266,
         1.456351980048764,
         1.478655719844762,
         1.48015746110685,
         1.4473892105624633,
         1.4666110031145991,
         1.4791589403096368,
         1.4710295434033143,
         1.47802808264577,
         1.492820125681082,
         1.4720186024032147,
         1.5023263887348548,
         1.4801532256823415,
         1.4700965137183033,
         1.4655628952231914,
         1.4794434289368081,
         1.4616957153459407,
         1.479640542372346,
         1.4789925964823332,
         1.4624441630459983,
         1.4597772291746394,
         1.4690437370969864,
         1.4690064899745088,
         1.4562698518009707,
         1.4802642217575588,
         1.4649221550134608,
         1.4628642761271433,
         1.488931655539972,
         1.466718298893519,
         1.4679626529078176,
         1.4698416404105878,
         1.4846746956648373,
         1.4460191847912904,
         1.4793339265254348,
         1.4769830983115575,
         1.4562062788416585,
         1.4756440099206323,
         1.4726777413891832,
         1.4610980927064212,
         1.4586670573397016,
         1.4638829297568223,
         1.473922527920467,
         1.4751296094504982,
         1.4848069765941392,
         1.4950533127710497,
         1.4528658165420982,
         1.478488072969437,
         1.4664806485370032,
         1.4768864613699464,
         1.4597623726410542,
         1.4668470811023284,
         1.4754655625232713,
         1.4775720982099219,
         1.4896489153014845,
         1.4732175688184772,
         1.4507240612648264,
         1.466301153249465,
         1.4879309226419506,
         1.4871952514030182,
         1.4677151648731084,
         1.4607965508372245,
         1.471664579166208,
         1.4743426103036055,
         1.4531041845716313,
         1.4733314848317565,
         1.4536285982467394,
         1.4906253951979103,
         1.4565390397161242,
         1.4764671733683539,
         1.4576943003287124,
         1.4682211809922059,
         1.4672059186405646,
         1.4910484913217286,
         1.4581163762330631,
         1.4644906421808068,
         1.4647791242848192
        ]
       ],
       "encoder": "json",
       "name": "ABC_GAN_4 Metrics",
       "version": 1
      }
     },
     "metadata": {
      "scrapbook": {
       "data": true,
       "display": false,
       "name": "ABC_GAN_4 Metrics"
      }
     },
     "output_type": "display_data"
    },
    {
     "name": "stdout",
     "output_type": "stream",
     "text": [
      "MAE\n",
      "0.08971588689591978\n"
     ]
    }
   ],
   "source": [
    "ABC_GAN4_metrics=ABC_train_test2.test_generator(gen4,test_data,prior_model,variance,bias,\"3\",device)\n",
    "sb.glue(\"ABC_GAN_4 Metrics\",ABC_GAN4_metrics)\n",
    "\n",
    "print(\"MAE\")\n",
    "print(mean(ABC_GAN4_metrics[1]))"
   ]
  },
  {
   "cell_type": "code",
   "execution_count": 26,
   "id": "e3458b6d",
   "metadata": {
    "execution": {
     "iopub.execute_input": "2022-07-25T10:20:24.803784Z",
     "iopub.status.busy": "2022-07-25T10:20:24.803484Z",
     "iopub.status.idle": "2022-07-25T10:20:25.676901Z",
     "shell.execute_reply": "2022-07-25T10:20:25.676065Z"
    },
    "id": "c8e46b48",
    "papermill": {
     "duration": 0.917321,
     "end_time": "2022-07-25T10:20:25.679580",
     "exception": false,
     "start_time": "2022-07-25T10:20:24.762259",
     "status": "completed"
    },
    "tags": []
   },
   "outputs": [
    {
     "data": {
      "image/png": "[encoded data removed]",
      "text/plain": [
       "<Figure size 432x288 with 1 Axes>"
      ]
     },
     "metadata": {
      "needs_background": "light"
     },
     "output_type": "display_data"
    },
    {
     "data": {
      "image/png": "[encoded data removed]",
      "text/plain": [
       "<Figure size 432x288 with 1 Axes>"
      ]
     },
     "metadata": {
      "needs_background": "light"
     },
     "output_type": "display_data"
    },
    {
     "data": {
      "image/png": "[encoded data removed]",
      "text/plain": [
       "<Figure size 432x288 with 1 Axes>"
      ]
     },
     "metadata": {
      "needs_background": "light"
     },
     "output_type": "display_data"
    },
    {
     "data": {
      "image/png": "[encoded data removed]",
      "text/plain": [
       "<Figure size 432x288 with 1 Axes>"
      ]
     },
     "metadata": {
      "needs_background": "light"
     },
     "output_type": "display_data"
    }
   ],
   "source": [
    "sanityChecks.discProbVsError(train_data,disc4,device)\n",
    "sanityChecks.discProbVsError(test_data,disc4,device)"
   ]
  },
  {
   "cell_type": "markdown",
   "id": "a5bd74c3",
   "metadata": {
    "id": "a5bd74c3",
    "papermill": {
     "duration": 0.044386,
     "end_time": "2022-07-25T10:20:25.768294",
     "exception": false,
     "start_time": "2022-07-25T10:20:25.723908",
     "status": "completed"
    },
    "tags": []
   },
   "source": [
    "## Skip Connection Model Analysis - ABC-GAN "
   ]
  },
  {
   "cell_type": "markdown",
   "id": "5744a8bf",
   "metadata": {
    "id": "5744a8bf",
    "papermill": {
     "duration": 0.060168,
     "end_time": "2022-07-25T10:20:25.875774",
     "exception": false,
     "start_time": "2022-07-25T10:20:25.815606",
     "status": "completed"
    },
    "tags": []
   },
   "source": [
    "### Weight Analysis \n",
    "\n",
    "Study the weights of the skip connection layer\n",
    "\n",
    "Equation of the skip connection is \n",
    "\n",
    "$output = y_{gan} * w + y_{abc} * (1-w)$"
   ]
  },
  {
   "cell_type": "code",
   "execution_count": 27,
   "id": "52c31dea",
   "metadata": {
    "execution": {
     "iopub.execute_input": "2022-07-25T10:20:25.975991Z",
     "iopub.status.busy": "2022-07-25T10:20:25.975157Z",
     "iopub.status.idle": "2022-07-25T10:20:26.001688Z",
     "shell.execute_reply": "2022-07-25T10:20:26.000754Z"
    },
    "id": "52c31dea",
    "papermill": {
     "duration": 0.083848,
     "end_time": "2022-07-25T10:20:26.005111",
     "exception": false,
     "start_time": "2022-07-25T10:20:25.921263",
     "status": "completed"
    },
    "tags": []
   },
   "outputs": [
    {
     "name": "stdout",
     "output_type": "stream",
     "text": [
      "Weight of the node at skip connection\n",
      "Parameter containing:\n",
      "tensor([[0.3747]], requires_grad=True)\n"
     ]
    },
    {
     "data": {
      "application/scrapbook.scrap.json+json": {
       "data": 0.37468525767326355,
       "encoder": "json",
       "name": "Skip Connection Weight",
       "version": 1
      }
     },
     "metadata": {
      "scrapbook": {
       "data": true,
       "display": false,
       "name": "Skip Connection Weight"
      }
     },
     "output_type": "display_data"
    }
   ],
   "source": [
    "print(\"Weight of the node at skip connection\")\n",
    "for name,param in gen3.named_parameters():\n",
    "    if(name == \"skipNode.weight\"):\n",
    "        print(param)\n",
    "        sb.glue(\"Skip Connection Weight\",param.item())"
   ]
  },
  {
   "cell_type": "markdown",
   "id": "5719a9b4",
   "metadata": {
    "id": "a5bd74c3",
    "papermill": {
     "duration": 0.045574,
     "end_time": "2022-07-25T10:20:26.092296",
     "exception": false,
     "start_time": "2022-07-25T10:20:26.046722",
     "status": "completed"
    },
    "tags": []
   },
   "source": [
    "## skipGAN Model Analysis (TabNet Generator) "
   ]
  },
  {
   "cell_type": "markdown",
   "id": "bc4030e6",
   "metadata": {
    "id": "5744a8bf",
    "papermill": {
     "duration": 0.04083,
     "end_time": "2022-07-25T10:20:26.173999",
     "exception": false,
     "start_time": "2022-07-25T10:20:26.133169",
     "status": "completed"
    },
    "tags": []
   },
   "source": [
    "### Weight Analysis \n",
    "\n",
    "Study the weights of the skip connection layer\n",
    "\n",
    "Equation of the skip connection is \n",
    "\n",
    "$output = y_{gan} * w + y_{abc} * (1-w)$"
   ]
  },
  {
   "cell_type": "code",
   "execution_count": 28,
   "id": "7c2cf916",
   "metadata": {
    "execution": {
     "iopub.execute_input": "2022-07-25T10:20:26.260551Z",
     "iopub.status.busy": "2022-07-25T10:20:26.260242Z",
     "iopub.status.idle": "2022-07-25T10:20:26.274411Z",
     "shell.execute_reply": "2022-07-25T10:20:26.272427Z"
    },
    "id": "52c31dea",
    "papermill": {
     "duration": 0.062248,
     "end_time": "2022-07-25T10:20:26.277637",
     "exception": false,
     "start_time": "2022-07-25T10:20:26.215389",
     "status": "completed"
    },
    "tags": []
   },
   "outputs": [
    {
     "name": "stdout",
     "output_type": "stream",
     "text": [
      "Weight of the node at skip connection\n",
      "Parameter containing:\n",
      "tensor([[0.2481]], requires_grad=True)\n"
     ]
    },
    {
     "data": {
      "application/scrapbook.scrap.json+json": {
       "data": 0.2480590045452118,
       "encoder": "json",
       "name": "Skip Connection Weight",
       "version": 1
      }
     },
     "metadata": {
      "scrapbook": {
       "data": true,
       "display": false,
       "name": "Skip Connection Weight"
      }
     },
     "output_type": "display_data"
    }
   ],
   "source": [
    "print(\"Weight of the node at skip connection\")\n",
    "for name,param in gen4.named_parameters():\n",
    "    if(name == \"skipNode.weight\"):\n",
    "        print(param)\n",
    "        sb.glue(\"Skip Connection Weight\",param.item())"
   ]
  }
 ],
 "metadata": {
  "colab": {
   "collapsed_sections": [],
   "name": "ABC_GAN_Model-Catboost_Pre-gen.ipynb",
   "provenance": []
  },
  "interpreter": {
   "hash": "31f2aee4e71d21fbe5cf8b01ff0e069b9275f58929596ceb00d14d90e3e16cd6"
  },
  "kernelspec": {
   "display_name": "Python 3 (ipykernel)",
   "language": "python",
   "name": "python3"
  },
  "language_info": {
   "codemirror_mode": {
    "name": "ipython",
    "version": 3
   },
   "file_extension": ".py",
   "mimetype": "text/x-python",
   "name": "python",
   "nbconvert_exporter": "python",
   "pygments_lexer": "ipython3",
   "version": "3.8.13"
  },
  "papermill": {
   "default_parameters": {},
   "duration": 3583.706099,
   "end_time": "2022-07-25T10:20:27.590634",
   "environment_variables": {},
   "exception": null,
   "input_path": "ABC_GAN-TabNet.ipynb",
   "output_path": "./ABC_GAN_TabNet/ABC-GAN_output_1_2.ipynb",
   "parameters": {
    "bias": 1,
    "variance": 0.01
   },
   "start_time": "2022-07-25T09:20:43.884535",
   "version": "2.3.3"
  }
 },
 "nbformat": 4,
 "nbformat_minor": 5
}