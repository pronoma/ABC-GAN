{
 "cells": [
  {
   "cell_type": "markdown",
   "id": "622780e6",
   "metadata": {
    "id": "622780e6",
    "papermill": {
     "duration": 0.009274,
     "end_time": "2022-07-25T13:18:06.074043",
     "exception": false,
     "start_time": "2022-07-25T13:18:06.064769",
     "status": "completed"
    },
    "tags": []
   },
   "source": [
    "## Import Libraries "
   ]
  },
  {
   "cell_type": "code",
   "execution_count": 1,
   "id": "a62397e3",
   "metadata": {
    "execution": {
     "iopub.execute_input": "2022-07-25T13:18:06.097090Z",
     "iopub.status.busy": "2022-07-25T13:18:06.095645Z",
     "iopub.status.idle": "2022-07-25T13:18:06.112228Z",
     "shell.execute_reply": "2022-07-25T13:18:06.111061Z"
    },
    "id": "a62397e3",
    "papermill": {
     "duration": 0.034396,
     "end_time": "2022-07-25T13:18:06.117722",
     "exception": false,
     "start_time": "2022-07-25T13:18:06.083326",
     "status": "completed"
    },
    "tags": []
   },
   "outputs": [],
   "source": [
    "import warnings\n",
    "import sys\n",
    "sys.path.insert(0, '../../src')\n",
    "warnings.filterwarnings('ignore')"
   ]
  },
  {
   "cell_type": "code",
   "execution_count": 2,
   "id": "d6a4e155",
   "metadata": {
    "execution": {
     "iopub.execute_input": "2022-07-25T13:18:06.145161Z",
     "iopub.status.busy": "2022-07-25T13:18:06.144442Z",
     "iopub.status.idle": "2022-07-25T13:18:17.124355Z",
     "shell.execute_reply": "2022-07-25T13:18:17.121632Z"
    },
    "id": "d6a4e155",
    "papermill": {
     "duration": 10.993094,
     "end_time": "2022-07-25T13:18:17.128557",
     "exception": false,
     "start_time": "2022-07-25T13:18:06.135463",
     "status": "completed"
    },
    "tags": []
   },
   "outputs": [],
   "source": [
    "import ABC_train_test2\n",
    "import energyefficiencyDataset\n",
    "import network\n",
    "import dataset\n",
    "import sanityChecks\n",
    "import torch \n",
    "import scrapbook as sb\n",
    "from statistics import mean \n",
    "import catboost as ctb \n",
    "from sklearn.model_selection import train_test_split\n",
    "from sklearn.metrics import mean_squared_error,mean_absolute_error\n",
    "import numpy as np\n",
    "from pytorch_tabnet.tab_model import TabNetRegressor"
   ]
  },
  {
   "cell_type": "markdown",
   "id": "2fa5b0f7",
   "metadata": {
    "id": "2fa5b0f7",
    "papermill": {
     "duration": 0.009663,
     "end_time": "2022-07-25T13:18:17.148927",
     "exception": false,
     "start_time": "2022-07-25T13:18:17.139264",
     "status": "completed"
    },
    "tags": []
   },
   "source": [
    "## Parameters "
   ]
  },
  {
   "cell_type": "code",
   "execution_count": 3,
   "id": "783186fb",
   "metadata": {
    "execution": {
     "iopub.execute_input": "2022-07-25T13:18:17.178844Z",
     "iopub.status.busy": "2022-07-25T13:18:17.176489Z",
     "iopub.status.idle": "2022-07-25T13:18:17.184734Z",
     "shell.execute_reply": "2022-07-25T13:18:17.183516Z"
    },
    "id": "783186fb",
    "papermill": {
     "duration": 0.028579,
     "end_time": "2022-07-25T13:18:17.188177",
     "exception": false,
     "start_time": "2022-07-25T13:18:17.159598",
     "status": "completed"
    },
    "tags": [
     "parameters"
    ]
   },
   "outputs": [],
   "source": [
    "variance = 1\n",
    "bias = 1 "
   ]
  },
  {
   "cell_type": "code",
   "execution_count": 4,
   "id": "a727d6b9",
   "metadata": {
    "execution": {
     "iopub.execute_input": "2022-07-25T13:18:17.211986Z",
     "iopub.status.busy": "2022-07-25T13:18:17.211413Z",
     "iopub.status.idle": "2022-07-25T13:18:17.216301Z",
     "shell.execute_reply": "2022-07-25T13:18:17.215174Z"
    },
    "papermill": {
     "duration": 0.020451,
     "end_time": "2022-07-25T13:18:17.220693",
     "exception": false,
     "start_time": "2022-07-25T13:18:17.200242",
     "status": "completed"
    },
    "tags": [
     "injected-parameters"
    ]
   },
   "outputs": [],
   "source": [
    "# Parameters\n",
    "variance = 0.01\n",
    "bias = 0\n"
   ]
  },
  {
   "cell_type": "markdown",
   "id": "391cdbfd",
   "metadata": {
    "id": "391cdbfd",
    "papermill": {
     "duration": 0.017955,
     "end_time": "2022-07-25T13:18:17.247956",
     "exception": false,
     "start_time": "2022-07-25T13:18:17.230001",
     "status": "completed"
    },
    "tags": []
   },
   "source": [
    "## Dataset \n"
   ]
  },
  {
   "cell_type": "code",
   "execution_count": 5,
   "id": "5b51f161",
   "metadata": {
    "execution": {
     "iopub.execute_input": "2022-07-25T13:18:17.277086Z",
     "iopub.status.busy": "2022-07-25T13:18:17.276604Z",
     "iopub.status.idle": "2022-07-25T13:18:17.281828Z",
     "shell.execute_reply": "2022-07-25T13:18:17.280828Z"
    },
    "id": "5b51f161",
    "papermill": {
     "duration": 0.026639,
     "end_time": "2022-07-25T13:18:17.288642",
     "exception": false,
     "start_time": "2022-07-25T13:18:17.262003",
     "status": "completed"
    },
    "tags": []
   },
   "outputs": [],
   "source": [
    "#Parameters \n",
    "n_features = 8\n",
    "n_samples= 768\n",
    "n_target = 1 "
   ]
  },
  {
   "cell_type": "code",
   "execution_count": 6,
   "id": "5d6eced4",
   "metadata": {
    "execution": {
     "iopub.execute_input": "2022-07-25T13:18:17.317592Z",
     "iopub.status.busy": "2022-07-25T13:18:17.315803Z",
     "iopub.status.idle": "2022-07-25T13:18:18.258898Z",
     "shell.execute_reply": "2022-07-25T13:18:18.255323Z"
    },
    "id": "5d6eced4",
    "papermill": {
     "duration": 0.958326,
     "end_time": "2022-07-25T13:18:18.262450",
     "exception": false,
     "start_time": "2022-07-25T13:18:17.304124",
     "status": "completed"
    },
    "tags": []
   },
   "outputs": [
    {
     "name": "stdout",
     "output_type": "stream",
     "text": [
      "     X1     X2     X3      X4   X5  X6   X7  X8     Y1     Y2\n",
      "0  0.98  514.5  294.0  110.25  7.0   2  0.0   0  15.55  21.33\n",
      "1  0.98  514.5  294.0  110.25  7.0   3  0.0   0  15.55  21.33\n",
      "2  0.98  514.5  294.0  110.25  7.0   4  0.0   0  15.55  21.33\n",
      "3  0.98  514.5  294.0  110.25  7.0   5  0.0   0  15.55  21.33\n",
      "4  0.90  563.5  318.5  122.50  7.0   2  0.0   0  20.84  28.28\n"
     ]
    }
   ],
   "source": [
    "X,Y = energyefficiencyDataset.energy_data()"
   ]
  },
  {
   "cell_type": "code",
   "execution_count": 7,
   "id": "fe007438",
   "metadata": {
    "execution": {
     "iopub.execute_input": "2022-07-25T13:18:18.286252Z",
     "iopub.status.busy": "2022-07-25T13:18:18.285759Z",
     "iopub.status.idle": "2022-07-25T13:18:18.294505Z",
     "shell.execute_reply": "2022-07-25T13:18:18.293598Z"
    },
    "id": "fe007438",
    "papermill": {
     "duration": 0.030273,
     "end_time": "2022-07-25T13:18:18.302697",
     "exception": false,
     "start_time": "2022-07-25T13:18:18.272424",
     "status": "completed"
    },
    "tags": []
   },
   "outputs": [],
   "source": [
    "#Train test split for dataset \n",
    "X_train,X_test,Y_train,Y_test = train_test_split(X,Y,test_size = 0.2)\n",
    "train_data = dataset.CustomDataset(X_train,Y_train)\n",
    "test_data = dataset.CustomDataset(X_test,Y_test)\n"
   ]
  },
  {
   "cell_type": "markdown",
   "id": "a9a1af34",
   "metadata": {
    "id": "a9a1af34",
    "papermill": {
     "duration": 0.014178,
     "end_time": "2022-07-25T13:18:18.329793",
     "exception": false,
     "start_time": "2022-07-25T13:18:18.315615",
     "status": "completed"
    },
    "tags": []
   },
   "source": [
    "## Training Parameters "
   ]
  },
  {
   "cell_type": "code",
   "execution_count": 8,
   "id": "952b7fc8",
   "metadata": {
    "execution": {
     "iopub.execute_input": "2022-07-25T13:18:18.365352Z",
     "iopub.status.busy": "2022-07-25T13:18:18.364552Z",
     "iopub.status.idle": "2022-07-25T13:18:18.376845Z",
     "shell.execute_reply": "2022-07-25T13:18:18.373766Z"
    },
    "id": "952b7fc8",
    "papermill": {
     "duration": 0.036684,
     "end_time": "2022-07-25T13:18:18.384796",
     "exception": false,
     "start_time": "2022-07-25T13:18:18.348112",
     "status": "completed"
    },
    "tags": []
   },
   "outputs": [],
   "source": [
    "batch_size = 32\n",
    "n_epochs = 1000\n",
    "#Select the device \n",
    "device = torch.device('cuda' if torch.cuda.is_available() else 'cpu')"
   ]
  },
  {
   "cell_type": "markdown",
   "id": "a95e1600",
   "metadata": {
    "id": "a95e1600",
    "papermill": {
     "duration": 0.011057,
     "end_time": "2022-07-25T13:18:18.409107",
     "exception": false,
     "start_time": "2022-07-25T13:18:18.398050",
     "status": "completed"
    },
    "tags": []
   },
   "source": [
    "# ABC Pre-generator Model \n",
    "\n",
    "1. The catboost model is used as a pre-generator model for the ABC-GAN. \n",
    "2. The model is first trained on the entire dataset \n",
    "3. It generats X,Y pairs and we add some Gaussian noise with mean 0 and variance 1 to it which is then feed as input to the generator.\n"
   ]
  },
  {
   "cell_type": "code",
   "execution_count": 9,
   "id": "ff8ce7bd",
   "metadata": {
    "execution": {
     "iopub.execute_input": "2022-07-25T13:18:18.439600Z",
     "iopub.status.busy": "2022-07-25T13:18:18.437959Z",
     "iopub.status.idle": "2022-07-25T13:22:14.914581Z",
     "shell.execute_reply": "2022-07-25T13:22:14.913492Z"
    },
    "id": "ff8ce7bd",
    "papermill": {
     "duration": 236.494243,
     "end_time": "2022-07-25T13:22:14.917196",
     "exception": false,
     "start_time": "2022-07-25T13:18:18.422953",
     "status": "completed"
    },
    "tags": []
   },
   "outputs": [
    {
     "name": "stdout",
     "output_type": "stream",
     "text": [
      "Device used : cpu\n"
     ]
    },
    {
     "name": "stdout",
     "output_type": "stream",
     "text": [
      "epoch 0  | loss: 0.91773 | train_mse: 0.56545 | train_mae: 0.60196 |  0:00:01s\n"
     ]
    },
    {
     "name": "stdout",
     "output_type": "stream",
     "text": [
      "epoch 1  | loss: 0.33597 | train_mse: 0.39879 | train_mae: 0.4798  |  0:00:02s\n"
     ]
    },
    {
     "name": "stdout",
     "output_type": "stream",
     "text": [
      "epoch 2  | loss: 0.20717 | train_mse: 0.19422 | train_mae: 0.34588 |  0:00:03s\n"
     ]
    },
    {
     "name": "stdout",
     "output_type": "stream",
     "text": [
      "epoch 3  | loss: 0.16636 | train_mse: 0.11603 | train_mae: 0.2638  |  0:00:05s\n"
     ]
    },
    {
     "name": "stdout",
     "output_type": "stream",
     "text": [
      "epoch 4  | loss: 0.14999 | train_mse: 0.08665 | train_mae: 0.23411 |  0:00:07s\n"
     ]
    },
    {
     "name": "stdout",
     "output_type": "stream",
     "text": [
      "epoch 5  | loss: 0.1156  | train_mse: 0.07957 | train_mae: 0.22482 |  0:00:07s\n"
     ]
    },
    {
     "name": "stdout",
     "output_type": "stream",
     "text": [
      "epoch 6  | loss: 0.1227  | train_mse: 0.07516 | train_mae: 0.21273 |  0:00:08s\n"
     ]
    },
    {
     "name": "stdout",
     "output_type": "stream",
     "text": [
      "epoch 7  | loss: 0.11123 | train_mse: 0.09381 | train_mae: 0.23471 |  0:00:09s\n"
     ]
    },
    {
     "name": "stdout",
     "output_type": "stream",
     "text": [
      "epoch 8  | loss: 0.0907  | train_mse: 0.05643 | train_mae: 0.18633 |  0:00:10s\n"
     ]
    },
    {
     "name": "stdout",
     "output_type": "stream",
     "text": [
      "epoch 9  | loss: 0.10413 | train_mse: 0.05942 | train_mae: 0.1792  |  0:00:11s\n"
     ]
    },
    {
     "name": "stdout",
     "output_type": "stream",
     "text": [
      "epoch 10 | loss: 0.09328 | train_mse: 0.06023 | train_mae: 0.18787 |  0:00:13s\n"
     ]
    },
    {
     "name": "stdout",
     "output_type": "stream",
     "text": [
      "epoch 11 | loss: 0.10135 | train_mse: 0.049   | train_mae: 0.1754  |  0:00:15s\n"
     ]
    },
    {
     "name": "stdout",
     "output_type": "stream",
     "text": [
      "epoch 12 | loss: 0.09996 | train_mse: 0.06008 | train_mae: 0.18767 |  0:00:16s\n"
     ]
    },
    {
     "name": "stdout",
     "output_type": "stream",
     "text": [
      "epoch 13 | loss: 0.09238 | train_mse: 0.07251 | train_mae: 0.22578 |  0:00:17s\n"
     ]
    },
    {
     "name": "stdout",
     "output_type": "stream",
     "text": [
      "epoch 14 | loss: 0.09217 | train_mse: 0.04293 | train_mae: 0.15722 |  0:00:18s\n"
     ]
    },
    {
     "name": "stdout",
     "output_type": "stream",
     "text": [
      "epoch 15 | loss: 0.07929 | train_mse: 0.0519  | train_mae: 0.16567 |  0:00:20s\n"
     ]
    },
    {
     "name": "stdout",
     "output_type": "stream",
     "text": [
      "epoch 16 | loss: 0.07443 | train_mse: 0.05231 | train_mae: 0.17316 |  0:00:21s\n"
     ]
    },
    {
     "name": "stdout",
     "output_type": "stream",
     "text": [
      "epoch 17 | loss: 0.07576 | train_mse: 0.0409  | train_mae: 0.15199 |  0:00:22s\n"
     ]
    },
    {
     "name": "stdout",
     "output_type": "stream",
     "text": [
      "epoch 18 | loss: 0.0941  | train_mse: 0.033   | train_mae: 0.13752 |  0:00:23s\n"
     ]
    },
    {
     "name": "stdout",
     "output_type": "stream",
     "text": [
      "epoch 19 | loss: 0.08522 | train_mse: 0.03371 | train_mae: 0.14552 |  0:00:25s\n"
     ]
    },
    {
     "name": "stdout",
     "output_type": "stream",
     "text": [
      "epoch 20 | loss: 0.06599 | train_mse: 0.03104 | train_mae: 0.13682 |  0:00:27s\n"
     ]
    },
    {
     "name": "stdout",
     "output_type": "stream",
     "text": [
      "epoch 21 | loss: 0.07961 | train_mse: 0.02824 | train_mae: 0.13493 |  0:00:29s\n"
     ]
    },
    {
     "name": "stdout",
     "output_type": "stream",
     "text": [
      "epoch 22 | loss: 0.05629 | train_mse: 0.02684 | train_mae: 0.13436 |  0:00:30s\n"
     ]
    },
    {
     "name": "stdout",
     "output_type": "stream",
     "text": [
      "epoch 23 | loss: 0.05381 | train_mse: 0.02066 | train_mae: 0.11214 |  0:00:31s\n"
     ]
    },
    {
     "name": "stdout",
     "output_type": "stream",
     "text": [
      "epoch 24 | loss: 0.06772 | train_mse: 0.03999 | train_mae: 0.13861 |  0:00:32s\n"
     ]
    },
    {
     "name": "stdout",
     "output_type": "stream",
     "text": [
      "epoch 25 | loss: 0.06438 | train_mse: 0.02531 | train_mae: 0.12178 |  0:00:34s\n"
     ]
    },
    {
     "name": "stdout",
     "output_type": "stream",
     "text": [
      "epoch 26 | loss: 0.05073 | train_mse: 0.02184 | train_mae: 0.11562 |  0:00:36s\n"
     ]
    },
    {
     "name": "stdout",
     "output_type": "stream",
     "text": [
      "epoch 27 | loss: 0.05864 | train_mse: 0.01899 | train_mae: 0.10974 |  0:00:37s\n"
     ]
    },
    {
     "name": "stdout",
     "output_type": "stream",
     "text": [
      "epoch 28 | loss: 0.06085 | train_mse: 0.02519 | train_mae: 0.12429 |  0:00:38s\n"
     ]
    },
    {
     "name": "stdout",
     "output_type": "stream",
     "text": [
      "epoch 29 | loss: 0.04271 | train_mse: 0.0168  | train_mae: 0.10386 |  0:00:39s\n"
     ]
    },
    {
     "name": "stdout",
     "output_type": "stream",
     "text": [
      "epoch 30 | loss: 0.03678 | train_mse: 0.01801 | train_mae: 0.10706 |  0:00:40s\n"
     ]
    },
    {
     "name": "stdout",
     "output_type": "stream",
     "text": [
      "epoch 31 | loss: 0.04753 | train_mse: 0.02941 | train_mae: 0.14062 |  0:00:41s\n"
     ]
    },
    {
     "name": "stdout",
     "output_type": "stream",
     "text": [
      "epoch 32 | loss: 0.06207 | train_mse: 0.02001 | train_mae: 0.11166 |  0:00:42s\n"
     ]
    },
    {
     "name": "stdout",
     "output_type": "stream",
     "text": [
      "epoch 33 | loss: 0.04856 | train_mse: 0.02329 | train_mae: 0.11916 |  0:00:44s\n"
     ]
    },
    {
     "name": "stdout",
     "output_type": "stream",
     "text": [
      "epoch 34 | loss: 0.0446  | train_mse: 0.01867 | train_mae: 0.10921 |  0:00:45s\n"
     ]
    },
    {
     "name": "stdout",
     "output_type": "stream",
     "text": [
      "epoch 35 | loss: 0.04599 | train_mse: 0.02532 | train_mae: 0.12384 |  0:00:47s\n"
     ]
    },
    {
     "name": "stdout",
     "output_type": "stream",
     "text": [
      "epoch 36 | loss: 0.0442  | train_mse: 0.01668 | train_mae: 0.10651 |  0:00:48s\n"
     ]
    },
    {
     "name": "stdout",
     "output_type": "stream",
     "text": [
      "epoch 37 | loss: 0.02241 | train_mse: 0.01125 | train_mae: 0.08506 |  0:00:49s\n"
     ]
    },
    {
     "name": "stdout",
     "output_type": "stream",
     "text": [
      "epoch 38 | loss: 0.03953 | train_mse: 0.02364 | train_mae: 0.11782 |  0:00:50s\n"
     ]
    },
    {
     "name": "stdout",
     "output_type": "stream",
     "text": [
      "epoch 39 | loss: 0.05422 | train_mse: 0.02282 | train_mae: 0.10917 |  0:00:51s\n"
     ]
    },
    {
     "name": "stdout",
     "output_type": "stream",
     "text": [
      "epoch 40 | loss: 0.0445  | train_mse: 0.02796 | train_mae: 0.11652 |  0:00:52s\n"
     ]
    },
    {
     "name": "stdout",
     "output_type": "stream",
     "text": [
      "epoch 41 | loss: 0.04691 | train_mse: 0.01951 | train_mae: 0.11148 |  0:00:53s\n"
     ]
    },
    {
     "name": "stdout",
     "output_type": "stream",
     "text": [
      "epoch 42 | loss: 0.04436 | train_mse: 0.01555 | train_mae: 0.09452 |  0:00:53s\n"
     ]
    },
    {
     "name": "stdout",
     "output_type": "stream",
     "text": [
      "epoch 43 | loss: 0.04501 | train_mse: 0.01904 | train_mae: 0.10681 |  0:00:54s\n"
     ]
    },
    {
     "name": "stdout",
     "output_type": "stream",
     "text": [
      "epoch 44 | loss: 0.05191 | train_mse: 0.01584 | train_mae: 0.09948 |  0:00:56s\n"
     ]
    },
    {
     "name": "stdout",
     "output_type": "stream",
     "text": [
      "epoch 45 | loss: 0.03946 | train_mse: 0.0243  | train_mae: 0.11956 |  0:00:56s\n"
     ]
    },
    {
     "name": "stdout",
     "output_type": "stream",
     "text": [
      "epoch 46 | loss: 0.0417  | train_mse: 0.03535 | train_mae: 0.14502 |  0:00:58s\n"
     ]
    },
    {
     "name": "stdout",
     "output_type": "stream",
     "text": [
      "epoch 47 | loss: 0.03334 | train_mse: 0.02713 | train_mae: 0.12504 |  0:00:59s\n"
     ]
    },
    {
     "name": "stdout",
     "output_type": "stream",
     "text": [
      "epoch 48 | loss: 0.04469 | train_mse: 0.01414 | train_mae: 0.09619 |  0:01:00s\n"
     ]
    },
    {
     "name": "stdout",
     "output_type": "stream",
     "text": [
      "epoch 49 | loss: 0.0333  | train_mse: 0.00919 | train_mae: 0.07641 |  0:01:01s\n"
     ]
    },
    {
     "name": "stdout",
     "output_type": "stream",
     "text": [
      "epoch 50 | loss: 0.05278 | train_mse: 0.01841 | train_mae: 0.11019 |  0:01:03s\n"
     ]
    },
    {
     "name": "stdout",
     "output_type": "stream",
     "text": [
      "epoch 51 | loss: 0.03522 | train_mse: 0.02205 | train_mae: 0.11819 |  0:01:04s\n"
     ]
    },
    {
     "name": "stdout",
     "output_type": "stream",
     "text": [
      "epoch 52 | loss: 0.03837 | train_mse: 0.0175  | train_mae: 0.09838 |  0:01:05s\n"
     ]
    },
    {
     "name": "stdout",
     "output_type": "stream",
     "text": [
      "epoch 53 | loss: 0.0323  | train_mse: 0.01192 | train_mae: 0.08381 |  0:01:06s\n"
     ]
    },
    {
     "name": "stdout",
     "output_type": "stream",
     "text": [
      "epoch 54 | loss: 0.0305  | train_mse: 0.01367 | train_mae: 0.09697 |  0:01:06s\n"
     ]
    },
    {
     "name": "stdout",
     "output_type": "stream",
     "text": [
      "epoch 55 | loss: 0.0389  | train_mse: 0.01682 | train_mae: 0.09031 |  0:01:08s\n"
     ]
    },
    {
     "name": "stdout",
     "output_type": "stream",
     "text": [
      "epoch 56 | loss: 0.04411 | train_mse: 0.01202 | train_mae: 0.08482 |  0:01:09s\n"
     ]
    },
    {
     "name": "stdout",
     "output_type": "stream",
     "text": [
      "epoch 57 | loss: 0.03726 | train_mse: 0.01691 | train_mae: 0.10656 |  0:01:10s\n"
     ]
    },
    {
     "name": "stdout",
     "output_type": "stream",
     "text": [
      "epoch 58 | loss: 0.03051 | train_mse: 0.00931 | train_mae: 0.07492 |  0:01:11s\n"
     ]
    },
    {
     "name": "stdout",
     "output_type": "stream",
     "text": [
      "epoch 59 | loss: 0.03035 | train_mse: 0.0197  | train_mae: 0.10696 |  0:01:12s\n"
     ]
    },
    {
     "name": "stdout",
     "output_type": "stream",
     "text": [
      "epoch 60 | loss: 0.04162 | train_mse: 0.01451 | train_mae: 0.0958  |  0:01:14s\n"
     ]
    },
    {
     "name": "stdout",
     "output_type": "stream",
     "text": [
      "epoch 61 | loss: 0.03527 | train_mse: 0.0095  | train_mae: 0.08055 |  0:01:15s\n"
     ]
    },
    {
     "name": "stdout",
     "output_type": "stream",
     "text": [
      "epoch 62 | loss: 0.03344 | train_mse: 0.01494 | train_mae: 0.09539 |  0:01:16s\n"
     ]
    },
    {
     "name": "stdout",
     "output_type": "stream",
     "text": [
      "epoch 63 | loss: 0.03779 | train_mse: 0.0176  | train_mae: 0.10755 |  0:01:18s\n"
     ]
    },
    {
     "name": "stdout",
     "output_type": "stream",
     "text": [
      "epoch 64 | loss: 0.02153 | train_mse: 0.00884 | train_mae: 0.076   |  0:01:19s\n"
     ]
    },
    {
     "name": "stdout",
     "output_type": "stream",
     "text": [
      "epoch 65 | loss: 0.02197 | train_mse: 0.00895 | train_mae: 0.07449 |  0:01:19s\n"
     ]
    },
    {
     "name": "stdout",
     "output_type": "stream",
     "text": [
      "epoch 66 | loss: 0.02261 | train_mse: 0.01095 | train_mae: 0.08087 |  0:01:20s\n"
     ]
    },
    {
     "name": "stdout",
     "output_type": "stream",
     "text": [
      "epoch 67 | loss: 0.0264  | train_mse: 0.01033 | train_mae: 0.07439 |  0:01:21s\n"
     ]
    },
    {
     "name": "stdout",
     "output_type": "stream",
     "text": [
      "epoch 68 | loss: 0.02608 | train_mse: 0.00948 | train_mae: 0.07973 |  0:01:22s\n"
     ]
    },
    {
     "name": "stdout",
     "output_type": "stream",
     "text": [
      "epoch 69 | loss: 0.03226 | train_mse: 0.02103 | train_mae: 0.11423 |  0:01:23s\n"
     ]
    },
    {
     "name": "stdout",
     "output_type": "stream",
     "text": [
      "epoch 70 | loss: 0.04654 | train_mse: 0.0138  | train_mae: 0.08656 |  0:01:24s\n"
     ]
    },
    {
     "name": "stdout",
     "output_type": "stream",
     "text": [
      "epoch 71 | loss: 0.03363 | train_mse: 0.01213 | train_mae: 0.08201 |  0:01:26s\n"
     ]
    },
    {
     "name": "stdout",
     "output_type": "stream",
     "text": [
      "epoch 72 | loss: 0.02173 | train_mse: 0.01644 | train_mae: 0.09725 |  0:01:28s\n"
     ]
    },
    {
     "name": "stdout",
     "output_type": "stream",
     "text": [
      "epoch 73 | loss: 0.0176  | train_mse: 0.01371 | train_mae: 0.09183 |  0:01:29s\n"
     ]
    },
    {
     "name": "stdout",
     "output_type": "stream",
     "text": [
      "epoch 74 | loss: 0.02457 | train_mse: 0.01099 | train_mae: 0.07856 |  0:01:29s\n"
     ]
    },
    {
     "name": "stdout",
     "output_type": "stream",
     "text": [
      "epoch 75 | loss: 0.01889 | train_mse: 0.00957 | train_mae: 0.0816  |  0:01:30s\n"
     ]
    },
    {
     "name": "stdout",
     "output_type": "stream",
     "text": [
      "epoch 76 | loss: 0.02748 | train_mse: 0.01671 | train_mae: 0.09857 |  0:01:31s\n"
     ]
    },
    {
     "name": "stdout",
     "output_type": "stream",
     "text": [
      "epoch 77 | loss: 0.02497 | train_mse: 0.02448 | train_mae: 0.12473 |  0:01:32s\n"
     ]
    },
    {
     "name": "stdout",
     "output_type": "stream",
     "text": [
      "epoch 78 | loss: 0.02537 | train_mse: 0.02095 | train_mae: 0.10409 |  0:01:34s\n"
     ]
    },
    {
     "name": "stdout",
     "output_type": "stream",
     "text": [
      "epoch 79 | loss: 0.03508 | train_mse: 0.01525 | train_mae: 0.09442 |  0:01:35s\n"
     ]
    },
    {
     "name": "stdout",
     "output_type": "stream",
     "text": [
      "epoch 80 | loss: 0.02387 | train_mse: 0.01323 | train_mae: 0.08992 |  0:01:35s\n"
     ]
    },
    {
     "name": "stdout",
     "output_type": "stream",
     "text": [
      "epoch 81 | loss: 0.02607 | train_mse: 0.01523 | train_mae: 0.09947 |  0:01:36s\n"
     ]
    },
    {
     "name": "stdout",
     "output_type": "stream",
     "text": [
      "epoch 82 | loss: 0.04671 | train_mse: 0.01509 | train_mae: 0.09801 |  0:01:37s\n"
     ]
    },
    {
     "name": "stdout",
     "output_type": "stream",
     "text": [
      "epoch 83 | loss: 0.03768 | train_mse: 0.02464 | train_mae: 0.12509 |  0:01:38s\n"
     ]
    },
    {
     "name": "stdout",
     "output_type": "stream",
     "text": [
      "epoch 84 | loss: 0.03398 | train_mse: 0.01968 | train_mae: 0.11324 |  0:01:39s\n"
     ]
    },
    {
     "name": "stdout",
     "output_type": "stream",
     "text": [
      "epoch 85 | loss: 0.04197 | train_mse: 0.01932 | train_mae: 0.11395 |  0:01:41s\n"
     ]
    },
    {
     "name": "stdout",
     "output_type": "stream",
     "text": [
      "epoch 86 | loss: 0.03694 | train_mse: 0.01279 | train_mae: 0.09045 |  0:01:42s\n"
     ]
    },
    {
     "name": "stdout",
     "output_type": "stream",
     "text": [
      "epoch 87 | loss: 0.03285 | train_mse: 0.01649 | train_mae: 0.10295 |  0:01:44s\n"
     ]
    },
    {
     "name": "stdout",
     "output_type": "stream",
     "text": [
      "epoch 88 | loss: 0.02586 | train_mse: 0.01297 | train_mae: 0.08712 |  0:01:46s\n"
     ]
    },
    {
     "name": "stdout",
     "output_type": "stream",
     "text": [
      "epoch 89 | loss: 0.03346 | train_mse: 0.01037 | train_mae: 0.0828  |  0:01:47s\n"
     ]
    },
    {
     "name": "stdout",
     "output_type": "stream",
     "text": [
      "epoch 90 | loss: 0.02777 | train_mse: 0.01058 | train_mae: 0.08273 |  0:01:49s\n"
     ]
    },
    {
     "name": "stdout",
     "output_type": "stream",
     "text": [
      "epoch 91 | loss: 0.02642 | train_mse: 0.01081 | train_mae: 0.08506 |  0:01:50s\n"
     ]
    },
    {
     "name": "stdout",
     "output_type": "stream",
     "text": [
      "epoch 92 | loss: 0.02439 | train_mse: 0.01363 | train_mae: 0.09088 |  0:01:51s\n"
     ]
    },
    {
     "name": "stdout",
     "output_type": "stream",
     "text": [
      "epoch 93 | loss: 0.02741 | train_mse: 0.01013 | train_mae: 0.06967 |  0:01:52s\n"
     ]
    },
    {
     "name": "stdout",
     "output_type": "stream",
     "text": [
      "epoch 94 | loss: 0.03347 | train_mse: 0.00972 | train_mae: 0.06862 |  0:01:52s\n"
     ]
    },
    {
     "name": "stdout",
     "output_type": "stream",
     "text": [
      "epoch 95 | loss: 0.02878 | train_mse: 0.01295 | train_mae: 0.08025 |  0:01:53s\n"
     ]
    },
    {
     "name": "stdout",
     "output_type": "stream",
     "text": [
      "epoch 96 | loss: 0.02548 | train_mse: 0.01066 | train_mae: 0.07663 |  0:01:54s\n"
     ]
    },
    {
     "name": "stdout",
     "output_type": "stream",
     "text": [
      "epoch 97 | loss: 0.0221  | train_mse: 0.01854 | train_mae: 0.10567 |  0:01:54s\n"
     ]
    },
    {
     "name": "stdout",
     "output_type": "stream",
     "text": [
      "epoch 98 | loss: 0.03188 | train_mse: 0.00869 | train_mae: 0.07758 |  0:01:56s\n"
     ]
    },
    {
     "name": "stdout",
     "output_type": "stream",
     "text": [
      "epoch 99 | loss: 0.03112 | train_mse: 0.0089  | train_mae: 0.07156 |  0:01:57s\n"
     ]
    },
    {
     "name": "stdout",
     "output_type": "stream",
     "text": [
      "epoch 100| loss: 0.03781 | train_mse: 0.01709 | train_mae: 0.09991 |  0:01:58s\n"
     ]
    },
    {
     "name": "stdout",
     "output_type": "stream",
     "text": [
      "epoch 101| loss: 0.0398  | train_mse: 0.01447 | train_mae: 0.09228 |  0:01:59s\n"
     ]
    },
    {
     "name": "stdout",
     "output_type": "stream",
     "text": [
      "epoch 102| loss: 0.02975 | train_mse: 0.01873 | train_mae: 0.10496 |  0:02:00s\n"
     ]
    },
    {
     "name": "stdout",
     "output_type": "stream",
     "text": [
      "epoch 103| loss: 0.03806 | train_mse: 0.01974 | train_mae: 0.10761 |  0:02:02s\n"
     ]
    },
    {
     "name": "stdout",
     "output_type": "stream",
     "text": [
      "epoch 104| loss: 0.03808 | train_mse: 0.01547 | train_mae: 0.09736 |  0:02:03s\n"
     ]
    },
    {
     "name": "stdout",
     "output_type": "stream",
     "text": [
      "epoch 105| loss: 0.02809 | train_mse: 0.00732 | train_mae: 0.06769 |  0:02:04s\n"
     ]
    },
    {
     "name": "stdout",
     "output_type": "stream",
     "text": [
      "epoch 106| loss: 0.01891 | train_mse: 0.00929 | train_mae: 0.07787 |  0:02:05s\n"
     ]
    },
    {
     "name": "stdout",
     "output_type": "stream",
     "text": [
      "epoch 107| loss: 0.02094 | train_mse: 0.00707 | train_mae: 0.06407 |  0:02:06s\n"
     ]
    },
    {
     "name": "stdout",
     "output_type": "stream",
     "text": [
      "epoch 108| loss: 0.02131 | train_mse: 0.00952 | train_mae: 0.07542 |  0:02:07s\n"
     ]
    },
    {
     "name": "stdout",
     "output_type": "stream",
     "text": [
      "epoch 109| loss: 0.0254  | train_mse: 0.01018 | train_mae: 0.07982 |  0:02:09s\n"
     ]
    },
    {
     "name": "stdout",
     "output_type": "stream",
     "text": [
      "epoch 110| loss: 0.02284 | train_mse: 0.01309 | train_mae: 0.08634 |  0:02:10s\n"
     ]
    },
    {
     "name": "stdout",
     "output_type": "stream",
     "text": [
      "epoch 111| loss: 0.02556 | train_mse: 0.00925 | train_mae: 0.07487 |  0:02:11s\n"
     ]
    },
    {
     "name": "stdout",
     "output_type": "stream",
     "text": [
      "epoch 112| loss: 0.02751 | train_mse: 0.02256 | train_mae: 0.11155 |  0:02:12s\n"
     ]
    },
    {
     "name": "stdout",
     "output_type": "stream",
     "text": [
      "epoch 113| loss: 0.02698 | train_mse: 0.01408 | train_mae: 0.08837 |  0:02:13s\n"
     ]
    },
    {
     "name": "stdout",
     "output_type": "stream",
     "text": [
      "epoch 114| loss: 0.04197 | train_mse: 0.01119 | train_mae: 0.08059 |  0:02:15s\n"
     ]
    },
    {
     "name": "stdout",
     "output_type": "stream",
     "text": [
      "epoch 115| loss: 0.02381 | train_mse: 0.01245 | train_mae: 0.07853 |  0:02:16s\n"
     ]
    },
    {
     "name": "stdout",
     "output_type": "stream",
     "text": [
      "epoch 116| loss: 0.02981 | train_mse: 0.0336  | train_mae: 0.1188  |  0:02:17s\n"
     ]
    },
    {
     "name": "stdout",
     "output_type": "stream",
     "text": [
      "epoch 117| loss: 0.02709 | train_mse: 0.0067  | train_mae: 0.06265 |  0:02:17s\n"
     ]
    },
    {
     "name": "stdout",
     "output_type": "stream",
     "text": [
      "epoch 118| loss: 0.02327 | train_mse: 0.00776 | train_mae: 0.06474 |  0:02:18s\n"
     ]
    },
    {
     "name": "stdout",
     "output_type": "stream",
     "text": [
      "epoch 119| loss: 0.02898 | train_mse: 0.01183 | train_mae: 0.08635 |  0:02:19s\n"
     ]
    },
    {
     "name": "stdout",
     "output_type": "stream",
     "text": [
      "epoch 120| loss: 0.02404 | train_mse: 0.00831 | train_mae: 0.06963 |  0:02:20s\n"
     ]
    },
    {
     "name": "stdout",
     "output_type": "stream",
     "text": [
      "epoch 121| loss: 0.02014 | train_mse: 0.00983 | train_mae: 0.07602 |  0:02:21s\n"
     ]
    },
    {
     "name": "stdout",
     "output_type": "stream",
     "text": [
      "epoch 122| loss: 0.03685 | train_mse: 0.01473 | train_mae: 0.08974 |  0:02:23s\n"
     ]
    },
    {
     "name": "stdout",
     "output_type": "stream",
     "text": [
      "epoch 123| loss: 0.02624 | train_mse: 0.0104  | train_mae: 0.08065 |  0:02:24s\n"
     ]
    },
    {
     "name": "stdout",
     "output_type": "stream",
     "text": [
      "epoch 124| loss: 0.02144 | train_mse: 0.00906 | train_mae: 0.07963 |  0:02:25s\n"
     ]
    },
    {
     "name": "stdout",
     "output_type": "stream",
     "text": [
      "epoch 125| loss: 0.02056 | train_mse: 0.01058 | train_mae: 0.07896 |  0:02:26s\n"
     ]
    },
    {
     "name": "stdout",
     "output_type": "stream",
     "text": [
      "epoch 126| loss: 0.02058 | train_mse: 0.00958 | train_mae: 0.08069 |  0:02:26s\n"
     ]
    },
    {
     "name": "stdout",
     "output_type": "stream",
     "text": [
      "epoch 127| loss: 0.02518 | train_mse: 0.00919 | train_mae: 0.07134 |  0:02:27s\n"
     ]
    },
    {
     "name": "stdout",
     "output_type": "stream",
     "text": [
      "epoch 128| loss: 0.02674 | train_mse: 0.00656 | train_mae: 0.06688 |  0:02:28s\n"
     ]
    },
    {
     "name": "stdout",
     "output_type": "stream",
     "text": [
      "epoch 129| loss: 0.01868 | train_mse: 0.00688 | train_mae: 0.06555 |  0:02:29s\n"
     ]
    },
    {
     "name": "stdout",
     "output_type": "stream",
     "text": [
      "epoch 130| loss: 0.01867 | train_mse: 0.00983 | train_mae: 0.07484 |  0:02:30s\n"
     ]
    },
    {
     "name": "stdout",
     "output_type": "stream",
     "text": [
      "epoch 131| loss: 0.01927 | train_mse: 0.00999 | train_mae: 0.07503 |  0:02:31s\n"
     ]
    },
    {
     "name": "stdout",
     "output_type": "stream",
     "text": [
      "epoch 132| loss: 0.02345 | train_mse: 0.01268 | train_mae: 0.08445 |  0:02:31s\n"
     ]
    },
    {
     "name": "stdout",
     "output_type": "stream",
     "text": [
      "epoch 133| loss: 0.02263 | train_mse: 0.0071  | train_mae: 0.06759 |  0:02:33s\n"
     ]
    },
    {
     "name": "stdout",
     "output_type": "stream",
     "text": [
      "epoch 134| loss: 0.02894 | train_mse: 0.00602 | train_mae: 0.06049 |  0:02:33s\n"
     ]
    },
    {
     "name": "stdout",
     "output_type": "stream",
     "text": [
      "epoch 135| loss: 0.0234  | train_mse: 0.00498 | train_mae: 0.05831 |  0:02:34s\n"
     ]
    },
    {
     "name": "stdout",
     "output_type": "stream",
     "text": [
      "epoch 136| loss: 0.01901 | train_mse: 0.00757 | train_mae: 0.06918 |  0:02:36s\n"
     ]
    },
    {
     "name": "stdout",
     "output_type": "stream",
     "text": [
      "epoch 137| loss: 0.03341 | train_mse: 0.01746 | train_mae: 0.08955 |  0:02:38s\n"
     ]
    },
    {
     "name": "stdout",
     "output_type": "stream",
     "text": [
      "epoch 138| loss: 0.02767 | train_mse: 0.01078 | train_mae: 0.07806 |  0:02:39s\n"
     ]
    },
    {
     "name": "stdout",
     "output_type": "stream",
     "text": [
      "epoch 139| loss: 0.03199 | train_mse: 0.00933 | train_mae: 0.07325 |  0:02:41s\n"
     ]
    },
    {
     "name": "stdout",
     "output_type": "stream",
     "text": [
      "epoch 140| loss: 0.02106 | train_mse: 0.00704 | train_mae: 0.06373 |  0:02:43s\n"
     ]
    },
    {
     "name": "stdout",
     "output_type": "stream",
     "text": [
      "epoch 141| loss: 0.01847 | train_mse: 0.00825 | train_mae: 0.0703  |  0:02:46s\n"
     ]
    },
    {
     "name": "stdout",
     "output_type": "stream",
     "text": [
      "epoch 142| loss: 0.02084 | train_mse: 0.00699 | train_mae: 0.0644  |  0:02:49s\n"
     ]
    },
    {
     "name": "stdout",
     "output_type": "stream",
     "text": [
      "epoch 143| loss: 0.02048 | train_mse: 0.00759 | train_mae: 0.0687  |  0:02:50s\n"
     ]
    },
    {
     "name": "stdout",
     "output_type": "stream",
     "text": [
      "epoch 144| loss: 0.02022 | train_mse: 0.00636 | train_mae: 0.06207 |  0:02:51s\n"
     ]
    },
    {
     "name": "stdout",
     "output_type": "stream",
     "text": [
      "epoch 145| loss: 0.01443 | train_mse: 0.00705 | train_mae: 0.06647 |  0:02:53s\n"
     ]
    },
    {
     "name": "stdout",
     "output_type": "stream",
     "text": [
      "epoch 146| loss: 0.01799 | train_mse: 0.00611 | train_mae: 0.05815 |  0:02:55s\n"
     ]
    },
    {
     "name": "stdout",
     "output_type": "stream",
     "text": [
      "epoch 147| loss: 0.02567 | train_mse: 0.00717 | train_mae: 0.06637 |  0:02:58s\n"
     ]
    },
    {
     "name": "stdout",
     "output_type": "stream",
     "text": [
      "epoch 148| loss: 0.02096 | train_mse: 0.01175 | train_mae: 0.08655 |  0:02:59s\n"
     ]
    },
    {
     "name": "stdout",
     "output_type": "stream",
     "text": [
      "epoch 149| loss: 0.02088 | train_mse: 0.01309 | train_mae: 0.08695 |  0:03:00s\n"
     ]
    },
    {
     "name": "stdout",
     "output_type": "stream",
     "text": [
      "epoch 150| loss: 0.02223 | train_mse: 0.01094 | train_mae: 0.0868  |  0:03:01s\n"
     ]
    },
    {
     "name": "stdout",
     "output_type": "stream",
     "text": [
      "epoch 151| loss: 0.02459 | train_mse: 0.0089  | train_mae: 0.07406 |  0:03:03s\n"
     ]
    },
    {
     "name": "stdout",
     "output_type": "stream",
     "text": [
      "epoch 152| loss: 0.02419 | train_mse: 0.01099 | train_mae: 0.08787 |  0:03:04s\n"
     ]
    },
    {
     "name": "stdout",
     "output_type": "stream",
     "text": [
      "epoch 153| loss: 0.03032 | train_mse: 0.01639 | train_mae: 0.10249 |  0:03:06s\n"
     ]
    },
    {
     "name": "stdout",
     "output_type": "stream",
     "text": [
      "epoch 154| loss: 0.03092 | train_mse: 0.03048 | train_mae: 0.12987 |  0:03:07s\n"
     ]
    },
    {
     "name": "stdout",
     "output_type": "stream",
     "text": [
      "epoch 155| loss: 0.02324 | train_mse: 0.01184 | train_mae: 0.08569 |  0:03:09s\n"
     ]
    },
    {
     "name": "stdout",
     "output_type": "stream",
     "text": [
      "epoch 156| loss: 0.01486 | train_mse: 0.01026 | train_mae: 0.07064 |  0:03:10s\n"
     ]
    },
    {
     "name": "stdout",
     "output_type": "stream",
     "text": [
      "epoch 157| loss: 0.02955 | train_mse: 0.01012 | train_mae: 0.08058 |  0:03:12s\n"
     ]
    },
    {
     "name": "stdout",
     "output_type": "stream",
     "text": [
      "epoch 158| loss: 0.03309 | train_mse: 0.00705 | train_mae: 0.06073 |  0:03:13s\n"
     ]
    },
    {
     "name": "stdout",
     "output_type": "stream",
     "text": [
      "epoch 159| loss: 0.02297 | train_mse: 0.01067 | train_mae: 0.08827 |  0:03:14s\n"
     ]
    },
    {
     "name": "stdout",
     "output_type": "stream",
     "text": [
      "epoch 160| loss: 0.02061 | train_mse: 0.01994 | train_mae: 0.11861 |  0:03:16s\n"
     ]
    },
    {
     "name": "stdout",
     "output_type": "stream",
     "text": [
      "epoch 161| loss: 0.01965 | train_mse: 0.01209 | train_mae: 0.09196 |  0:03:19s\n"
     ]
    },
    {
     "name": "stdout",
     "output_type": "stream",
     "text": [
      "epoch 162| loss: 0.02468 | train_mse: 0.00532 | train_mae: 0.05848 |  0:03:22s\n"
     ]
    },
    {
     "name": "stdout",
     "output_type": "stream",
     "text": [
      "epoch 163| loss: 0.02211 | train_mse: 0.00696 | train_mae: 0.06851 |  0:03:24s\n"
     ]
    },
    {
     "name": "stdout",
     "output_type": "stream",
     "text": [
      "epoch 164| loss: 0.0222  | train_mse: 0.01037 | train_mae: 0.08423 |  0:03:25s\n"
     ]
    },
    {
     "name": "stdout",
     "output_type": "stream",
     "text": [
      "epoch 165| loss: 0.0199  | train_mse: 0.00859 | train_mae: 0.06815 |  0:03:26s\n"
     ]
    },
    {
     "name": "stdout",
     "output_type": "stream",
     "text": [
      "epoch 166| loss: 0.01898 | train_mse: 0.00808 | train_mae: 0.06746 |  0:03:27s\n"
     ]
    },
    {
     "name": "stdout",
     "output_type": "stream",
     "text": [
      "epoch 167| loss: 0.02267 | train_mse: 0.01116 | train_mae: 0.07721 |  0:03:29s\n"
     ]
    },
    {
     "name": "stdout",
     "output_type": "stream",
     "text": [
      "epoch 168| loss: 0.01997 | train_mse: 0.01242 | train_mae: 0.08839 |  0:03:30s\n"
     ]
    },
    {
     "name": "stdout",
     "output_type": "stream",
     "text": [
      "epoch 169| loss: 0.01998 | train_mse: 0.01361 | train_mae: 0.09624 |  0:03:32s\n"
     ]
    },
    {
     "name": "stdout",
     "output_type": "stream",
     "text": [
      "epoch 170| loss: 0.02143 | train_mse: 0.00677 | train_mae: 0.06641 |  0:03:33s\n"
     ]
    },
    {
     "name": "stdout",
     "output_type": "stream",
     "text": [
      "epoch 171| loss: 0.0331  | train_mse: 0.0166  | train_mae: 0.10122 |  0:03:34s\n"
     ]
    },
    {
     "name": "stdout",
     "output_type": "stream",
     "text": [
      "epoch 172| loss: 0.02829 | train_mse: 0.00717 | train_mae: 0.06878 |  0:03:35s\n"
     ]
    },
    {
     "name": "stdout",
     "output_type": "stream",
     "text": [
      "epoch 173| loss: 0.02535 | train_mse: 0.00866 | train_mae: 0.07544 |  0:03:36s\n"
     ]
    },
    {
     "name": "stdout",
     "output_type": "stream",
     "text": [
      "epoch 174| loss: 0.01975 | train_mse: 0.00654 | train_mae: 0.06708 |  0:03:37s\n"
     ]
    },
    {
     "name": "stdout",
     "output_type": "stream",
     "text": [
      "epoch 175| loss: 0.02682 | train_mse: 0.00918 | train_mae: 0.07365 |  0:03:38s\n"
     ]
    },
    {
     "name": "stdout",
     "output_type": "stream",
     "text": [
      "epoch 176| loss: 0.03386 | train_mse: 0.00772 | train_mae: 0.06544 |  0:03:39s\n"
     ]
    },
    {
     "name": "stdout",
     "output_type": "stream",
     "text": [
      "epoch 177| loss: 0.0296  | train_mse: 0.02314 | train_mae: 0.11716 |  0:03:40s\n"
     ]
    },
    {
     "name": "stdout",
     "output_type": "stream",
     "text": [
      "epoch 178| loss: 0.01824 | train_mse: 0.01462 | train_mae: 0.09145 |  0:03:41s\n"
     ]
    },
    {
     "name": "stdout",
     "output_type": "stream",
     "text": [
      "epoch 179| loss: 0.02222 | train_mse: 0.01532 | train_mae: 0.08765 |  0:03:41s\n"
     ]
    },
    {
     "name": "stdout",
     "output_type": "stream",
     "text": [
      "epoch 180| loss: 0.02503 | train_mse: 0.00979 | train_mae: 0.07438 |  0:03:42s\n"
     ]
    },
    {
     "name": "stdout",
     "output_type": "stream",
     "text": [
      "epoch 181| loss: 0.02258 | train_mse: 0.00794 | train_mae: 0.06543 |  0:03:42s\n"
     ]
    },
    {
     "name": "stdout",
     "output_type": "stream",
     "text": [
      "epoch 182| loss: 0.02754 | train_mse: 0.00576 | train_mae: 0.05997 |  0:03:44s\n"
     ]
    },
    {
     "name": "stdout",
     "output_type": "stream",
     "text": [
      "epoch 183| loss: 0.02627 | train_mse: 0.00717 | train_mae: 0.06787 |  0:03:45s\n"
     ]
    },
    {
     "name": "stdout",
     "output_type": "stream",
     "text": [
      "epoch 184| loss: 0.02111 | train_mse: 0.00582 | train_mae: 0.05834 |  0:03:47s\n"
     ]
    },
    {
     "name": "stdout",
     "output_type": "stream",
     "text": [
      "epoch 185| loss: 0.02639 | train_mse: 0.00983 | train_mae: 0.08247 |  0:03:49s\n"
     ]
    },
    {
     "name": "stdout",
     "output_type": "stream",
     "text": [
      "epoch 186| loss: 0.01789 | train_mse: 0.00647 | train_mae: 0.06407 |  0:03:50s\n"
     ]
    },
    {
     "name": "stdout",
     "output_type": "stream",
     "text": [
      "epoch 187| loss: 0.02314 | train_mse: 0.00915 | train_mae: 0.07723 |  0:03:51s\n"
     ]
    },
    {
     "name": "stdout",
     "output_type": "stream",
     "text": [
      "epoch 188| loss: 0.02084 | train_mse: 0.00842 | train_mae: 0.07367 |  0:03:52s\n"
     ]
    },
    {
     "name": "stdout",
     "output_type": "stream",
     "text": [
      "epoch 189| loss: 0.04059 | train_mse: 0.0093  | train_mae: 0.07592 |  0:03:52s\n"
     ]
    },
    {
     "name": "stdout",
     "output_type": "stream",
     "text": [
      "epoch 190| loss: 0.02171 | train_mse: 0.00701 | train_mae: 0.06549 |  0:03:53s\n"
     ]
    },
    {
     "name": "stdout",
     "output_type": "stream",
     "text": [
      "epoch 191| loss: 0.01754 | train_mse: 0.01053 | train_mae: 0.08351 |  0:03:53s\n"
     ]
    },
    {
     "name": "stdout",
     "output_type": "stream",
     "text": [
      "epoch 192| loss: 0.02058 | train_mse: 0.00676 | train_mae: 0.06324 |  0:03:54s\n"
     ]
    },
    {
     "name": "stdout",
     "output_type": "stream",
     "text": [
      "epoch 193| loss: 0.02051 | train_mse: 0.00704 | train_mae: 0.06867 |  0:03:54s\n"
     ]
    },
    {
     "name": "stdout",
     "output_type": "stream",
     "text": [
      "epoch 194| loss: 0.02169 | train_mse: 0.0074  | train_mae: 0.06892 |  0:03:55s\n"
     ]
    },
    {
     "name": "stdout",
     "output_type": "stream",
     "text": [
      "epoch 195| loss: 0.01433 | train_mse: 0.00737 | train_mae: 0.06992 |  0:03:55s\n"
     ]
    },
    {
     "name": "stdout",
     "output_type": "stream",
     "text": [
      "epoch 196| loss: 0.02283 | train_mse: 0.00779 | train_mae: 0.07084 |  0:03:56s\n",
      "\n",
      "Early stopping occurred at epoch 196 with best_epoch = 146 and best_train_mae = 0.05815\n",
      "Best weights from best epoch are automatically used!\n"
     ]
    }
   ],
   "source": [
    "#Train the Model\n",
    "\n",
    "Y_train = np.reshape(Y_train, (-1, 1))\n",
    "Y_test = np.reshape(Y_test, (-1, 1))\n",
    "\n",
    "prior_model = TabNetRegressor(optimizer_fn=torch.optim.Adam, optimizer_params=dict(lr = 0.01),\n",
    "          #scheduler_params={\"step_size\":10, ], \"gamma\":0.9},\n",
    "          #scheduler_fn=torch.optim.lr_scheduler.StepLR\n",
    "          )  #TabNetRegressor()\n",
    "\n",
    "prior_model.fit(X_train,Y_train,eval_set=[(X_train, Y_train)],\n",
    "            eval_name=['train'], \n",
    "            eval_metric=[ 'mse', 'mae'], \n",
    "            max_epochs = n_epochs, \n",
    "            batch_size = batch_size,\n",
    "            patience=50\n",
    "            )"
   ]
  },
  {
   "cell_type": "code",
   "execution_count": 10,
   "id": "af65dcda",
   "metadata": {
    "execution": {
     "iopub.execute_input": "2022-07-25T13:22:14.956728Z",
     "iopub.status.busy": "2022-07-25T13:22:14.956417Z",
     "iopub.status.idle": "2022-07-25T13:22:15.035244Z",
     "shell.execute_reply": "2022-07-25T13:22:15.034431Z"
    },
    "id": "af65dcda",
    "papermill": {
     "duration": 0.102372,
     "end_time": "2022-07-25T13:22:15.038441",
     "exception": false,
     "start_time": "2022-07-25T13:22:14.936069",
     "status": "completed"
    },
    "tags": []
   },
   "outputs": [
    {
     "data": {
      "application/scrapbook.scrap.json+json": {
       "data": 0.007345549289751575,
       "encoder": "json",
       "name": "Prior Model MSE",
       "version": 1
      }
     },
     "metadata": {
      "scrapbook": {
       "data": true,
       "display": false,
       "name": "Prior Model MSE"
      }
     },
     "output_type": "display_data"
    },
    {
     "data": {
      "application/scrapbook.scrap.json+json": {
       "data": 0.00736449497092248,
       "encoder": "json",
       "name": "ABC Pre-generator MSE",
       "version": 1
      }
     },
     "metadata": {
      "scrapbook": {
       "data": true,
       "display": false,
       "name": "ABC Pre-generator MSE"
      }
     },
     "output_type": "display_data"
    },
    {
     "data": {
      "application/scrapbook.scrap.json+json": {
       "data": 0.06416810912138557,
       "encoder": "json",
       "name": "Prior Model MAE",
       "version": 1
      }
     },
     "metadata": {
      "scrapbook": {
       "data": true,
       "display": false,
       "name": "Prior Model MAE"
      }
     },
     "output_type": "display_data"
    },
    {
     "name": "stdout",
     "output_type": "stream",
     "text": [
      "Prior Model MAE 0.06416810912138557\n"
     ]
    },
    {
     "data": {
      "application/scrapbook.scrap.json+json": {
       "data": 0.06521916520968,
       "encoder": "json",
       "name": "ABC Pre-generator MAE",
       "version": 1
      }
     },
     "metadata": {
      "scrapbook": {
       "data": true,
       "display": false,
       "name": "ABC Pre-generator MAE"
      }
     },
     "output_type": "display_data"
    },
    {
     "name": "stdout",
     "output_type": "stream",
     "text": [
      "ABC Pre-generator MAE 0.06521916520968\n"
     ]
    }
   ],
   "source": [
    "y_pred = prior_model.predict(X_test)\n",
    "y_abc = y_pred + np.random.normal(0,variance, y_pred.shape) + bias \n",
    "mse = mean_squared_error(y_pred,Y_test)\n",
    "sb.glue(\"Prior Model MSE\",mse)\n",
    "mse = mean_squared_error(y_abc,Y_test)\n",
    "sb.glue(\"ABC Pre-generator MSE\",mse)\n",
    "mae = mean_absolute_error(y_pred,Y_test)\n",
    "sb.glue(\"Prior Model MAE\",mae)\n",
    "print(\"Prior Model MAE\",mae)\n",
    "mae = mean_absolute_error(y_abc,Y_test)\n",
    "sb.glue(\"ABC Pre-generator MAE\",mae)\n",
    "print(\"ABC Pre-generator MAE\",mae)"
   ]
  },
  {
   "cell_type": "markdown",
   "id": "25609da2",
   "metadata": {
    "papermill": {
     "duration": 0.024368,
     "end_time": "2022-07-25T13:22:15.082457",
     "exception": false,
     "start_time": "2022-07-25T13:22:15.058089",
     "status": "completed"
    },
    "tags": []
   },
   "source": [
    "# mGAN Model"
   ]
  },
  {
   "cell_type": "code",
   "execution_count": 11,
   "id": "dfc3464d",
   "metadata": {
    "execution": {
     "iopub.execute_input": "2022-07-25T13:22:15.127907Z",
     "iopub.status.busy": "2022-07-25T13:22:15.127540Z",
     "iopub.status.idle": "2022-07-25T13:22:15.137327Z",
     "shell.execute_reply": "2022-07-25T13:22:15.136551Z"
    },
    "papermill": {
     "duration": 0.034925,
     "end_time": "2022-07-25T13:22:15.139629",
     "exception": false,
     "start_time": "2022-07-25T13:22:15.104704",
     "status": "completed"
    },
    "tags": []
   },
   "outputs": [],
   "source": [
    "gen = network.Generator(n_features+1).to(device)\n",
    "disc = network.Discriminator(n_features+1).to(device)\n",
    "\n",
    "criterion = torch.nn.BCELoss()\n",
    "gen_opt = torch.optim.Adam(gen.parameters(), lr=0.01, betas=(0.5, 0.999))\n",
    "disc_opt = torch.optim.Adam(disc.parameters(), lr=0.01, betas=(0.5, 0.999))"
   ]
  },
  {
   "cell_type": "code",
   "execution_count": 12,
   "id": "b75fdd85",
   "metadata": {
    "execution": {
     "iopub.execute_input": "2022-07-25T13:22:15.179036Z",
     "iopub.status.busy": "2022-07-25T13:22:15.178699Z",
     "iopub.status.idle": "2022-07-25T13:30:12.151083Z",
     "shell.execute_reply": "2022-07-25T13:30:12.145640Z"
    },
    "papermill": {
     "duration": 476.996791,
     "end_time": "2022-07-25T13:30:12.156588",
     "exception": false,
     "start_time": "2022-07-25T13:22:15.159797",
     "status": "completed"
    },
    "tags": []
   },
   "outputs": [
    {
     "data": {
      "image/png": "[encoded data removed]",
      "text/plain": [
       "<Figure size 432x288 with 1 Axes>"
      ]
     },
     "metadata": {
      "needs_background": "light"
     },
     "output_type": "display_data"
    },
    {
     "data": {
      "image/png": "[encoded data removed]",
      "text/plain": [
       "<Figure size 432x288 with 1 Axes>"
      ]
     },
     "metadata": {
      "needs_background": "light"
     },
     "output_type": "display_data"
    }
   ],
   "source": [
    "#Training the ABC_GAN \n",
    "ABC_train_test2.training_GAN(disc,gen,disc_opt,gen_opt,train_data,batch_size,n_epochs,criterion,prior_model,variance,bias,device)"
   ]
  },
  {
   "cell_type": "code",
   "execution_count": 13,
   "id": "1fa7c368",
   "metadata": {
    "execution": {
     "iopub.execute_input": "2022-07-25T13:30:12.220693Z",
     "iopub.status.busy": "2022-07-25T13:30:12.220118Z",
     "iopub.status.idle": "2022-07-25T13:30:19.260476Z",
     "shell.execute_reply": "2022-07-25T13:30:19.259794Z"
    },
    "papermill": {
     "duration": 7.070885,
     "end_time": "2022-07-25T13:30:19.262799",
     "exception": false,
     "start_time": "2022-07-25T13:30:12.191914",
     "status": "completed"
    },
    "tags": []
   },
   "outputs": [
    {
     "data": {
      "application/scrapbook.scrap.json+json": {
       "data": 0.004257221188534145,
       "encoder": "json",
       "name": "ABC-GAN Model 1 MSE",
       "version": 1
      }
     },
     "metadata": {
      "scrapbook": {
       "data": true,
       "display": false,
       "name": "ABC-GAN Model 1 MSE"
      }
     },
     "output_type": "display_data"
    },
    {
     "data": {
      "application/scrapbook.scrap.json+json": {
       "data": 0.0429384884596258,
       "encoder": "json",
       "name": "ABC-GAN Model 1 MAE",
       "version": 1
      }
     },
     "metadata": {
      "scrapbook": {
       "data": true,
       "display": false,
       "name": "ABC-GAN Model 1 MAE"
      }
     },
     "output_type": "display_data"
    },
    {
     "data": {
      "application/scrapbook.scrap.json+json": {
       "data": 6.612527222782373,
       "encoder": "json",
       "name": "ABC-GAN Model 1 Manhattan Distance",
       "version": 1
      }
     },
     "metadata": {
      "scrapbook": {
       "data": true,
       "display": false,
       "name": "ABC-GAN Model 1 Manhattan Distance"
      }
     },
     "output_type": "display_data"
    },
    {
     "data": {
      "application/scrapbook.scrap.json+json": {
       "data": 0.8096220891937357,
       "encoder": "json",
       "name": "ABC-GAN Model 1 Euclidean distance",
       "version": 1
      }
     },
     "metadata": {
      "scrapbook": {
       "data": true,
       "display": false,
       "name": "ABC-GAN Model 1 Euclidean distance"
      }
     },
     "output_type": "display_data"
    },
    {
     "data": {
      "application/scrapbook.scrap.json+json": {
       "data": [
        [
         0.00432836077957062,
         0.00432702824257035,
         0.004551712484118042,
         0.004184274080507418,
         0.004298736036836382,
         0.004223897097030841,
         0.004340824706491942,
         0.004260359758242027,
         0.004242364907335386,
         0.00421184293136529,
         0.0042828487653357615,
         0.004451257402242484,
         0.004303065791459141,
         0.004190656636322556,
         0.004279596377224839,
         0.004197497626545319,
         0.004369423458333738,
         0.004415279466892964,
         0.004289861696426797,
         0.004142609988195,
         0.004337797753574165,
         0.0041968473852639285,
         0.004482505391897312,
         0.004294924773615108,
         0.004150360350739975,
         0.004212769721534984,
         0.004210974118297706,
         0.004268948112395539,
         0.004275302788249983,
         0.004361470683473912,
         0.004339249141959508,
         0.004395917806104648,
         0.004332206182266114,
         0.00408093812408466,
         0.004225174896720224,
         0.004275175538657088,
         0.004231492473210873,
         0.003968531737584351,
         0.0042127714896551165,
         0.004245045505765631,
         0.0043347121377646704,
         0.004355413513743691,
         0.004207501189049511,
         0.004346133890048749,
         0.0042481311713271136,
         0.004344180642132648,
         0.004063642612751882,
         0.004071271048901943,
         0.004298543643526568,
         0.004626509211038137,
         0.004249298067133646,
         0.004363907150319755,
         0.0041905253045759015,
         0.004125133204115256,
         0.0042648461870429775,
         0.004289387707315068,
         0.004358710768586202,
         0.004175993119655075,
         0.004300260779692321,
         0.003962031911365009,
         0.004173576774250859,
         0.004116632205992004,
         0.004380135671510262,
         0.004197990391457241,
         0.004154100274021545,
         0.004092929377754673,
         0.004209994584033933,
         0.004378758888572965,
         0.004031837558202617,
         0.004346194004443221,
         0.004268100359530575,
         0.004184187786813744,
         0.004138519152758899,
         0.0045045864924379226,
         0.004251969721386505,
         0.004211761186325191,
         0.004316177402844886,
         0.004171850746713102,
         0.004122765492226881,
         0.004308142275247888,
         0.004210745765403433,
         0.004367014710229275,
         0.004085515238295643,
         0.004250629823412114,
         0.004189680335289511,
         0.004358704277490471,
         0.004202843799210116,
         0.0042968889210476735,
         0.0044425917681869395,
         0.003983218105021899,
         0.00419797811054267,
         0.004318547491973864,
         0.004256622280696643,
         0.004249518604796531,
         0.00436118658585775,
         0.004374073922681848,
         0.004391583819961428,
         0.004181690433268836,
         0.004190172163026599,
         0.004086666882312537
        ],
        [
         0.04290540617975322,
         0.04392235808364757,
         0.044238139717996894,
         0.04268719193029713,
         0.04270698870350788,
         0.04333030137342292,
         0.043458691519963275,
         0.0430125535598823,
         0.04361183191468189,
         0.041574431172051986,
         0.04275305032149538,
         0.04455427152963428,
         0.04254206826354002,
         0.04299043568891364,
         0.043108072809197685,
         0.04282871783747302,
         0.04306164311317654,
         0.04358515864262333,
         0.04231675457838294,
         0.04188949048712656,
         0.043184720705468936,
         0.0429588198758565,
         0.04419888599545925,
         0.04266964900609735,
         0.04202837414749257,
         0.04240033335306428,
         0.04250328189560345,
         0.0426190590800403,
         0.04287739896348545,
         0.043387816662525204,
         0.04382157669245423,
         0.04427290199832483,
         0.04231609844348647,
         0.04333451182230726,
         0.04229114509441636,
         0.043718881469655343,
         0.04270856783955128,
         0.04165610946811639,
         0.04308385658380273,
         0.04280359757604537,
         0.04366539191309508,
         0.043846262304426786,
         0.04230362655861037,
         0.04241060518792698,
         0.04273610905586899,
         0.043775801002592235,
         0.04240547164113491,
         0.041890958348264944,
         0.04262099419901898,
         0.04415057430213148,
         0.043530994276334715,
         0.04383930162369431,
         0.04258962386807838,
         0.0418757741617692,
         0.04399720197180649,
         0.04315617965993943,
         0.04241889013678997,
         0.04254250242919117,
         0.043838796919429456,
         0.04110327987121297,
         0.04203056616636066,
         0.04226390006286757,
         0.043997454614221276,
         0.04247918904021189,
         0.042356811221930885,
         0.04173448028696048,
         0.04346529031535248,
         0.04355199272175888,
         0.04176877037464798,
         0.04320593783027166,
         0.04162497436264893,
         0.04281801996486528,
         0.0422223164373404,
         0.04417345464810148,
         0.04291768318840435,
         0.043242655259061166,
         0.04289177955164538,
         0.04295066139334208,
         0.041791882559463575,
         0.043146422785985,
         0.043039188804951584,
         0.04345519555272994,
         0.042434816672043366,
         0.042638343504884026,
         0.04235684818455151,
         0.043320114591291974,
         0.04289655682521981,
         0.04335271436479184,
         0.04360874621318532,
         0.042186297814954414,
         0.042278832671317185,
         0.043119905105271895,
         0.043153734805134986,
         0.04358109836648037,
         0.0426044108515436,
         0.044229918050688585,
         0.04326187814404438,
         0.04366876015608961,
         0.04298451431579404,
         0.04243124465083147
        ],
        [
         6.607432551681995,
         6.764043144881725,
         6.812673516571522,
         6.5738275572657585,
         6.576876260340214,
         6.67286641150713,
         6.692638494074345,
         6.623933248221874,
         6.7162221148610115,
         6.402462400496006,
         6.583969749510288,
         6.861357815563679,
         6.551478512585163,
         6.620527096092701,
         6.638643212616444,
         6.595622546970844,
         6.631493039429188,
         6.712114430963993,
         6.516780205070972,
         6.45098153501749,
         6.650446988642216,
         6.615658260881901,
         6.806628443300724,
         6.5711259469389915,
         6.472369618713856,
         6.529651336371899,
         6.545505411922932,
         6.563335098326206,
         6.603119440376759,
         6.681723766028881,
         6.748522810637951,
         6.8180269077420235,
         6.516679160296917,
         6.673514820635319,
         6.512836344540119,
         6.732707746326923,
         6.577119447290897,
         6.415040858089924,
         6.634913913905621,
         6.591754026710987,
         6.724470354616642,
         6.752324394881725,
         6.514758490025997,
         6.531233198940754,
         6.581360794603825,
         6.741473354399204,
         6.5304426327347755,
         6.451207585632801,
         6.563633106648922,
         6.799188442528248,
         6.703773118555546,
         6.7512524500489235,
         6.558802075684071,
         6.4488692209124565,
         6.775569103658199,
         6.6460516676306725,
         6.532509081065655,
         6.55154537409544,
         6.751174725592136,
         6.329905100166798,
         6.472707189619541,
         6.508640609681606,
         6.7756080105900764,
         6.541795112192631,
         6.522948928177357,
         6.427109964191914,
         6.6936547085642815,
         6.7070068791508675,
         6.432390637695789,
         6.6537144258618355,
         6.410246051847935,
         6.5939750745892525,
         6.502236731350422,
         6.802712015807629,
         6.609323211014271,
         6.65936890989542,
         6.605334050953388,
         6.61440185457468,
         6.435949914157391,
         6.644549109041691,
         6.6280350759625435,
         6.692100115120411,
         6.5349617674946785,
         6.56630489975214,
         6.522954620420933,
         6.671297647058964,
         6.606069751083851,
         6.676318012177944,
         6.71574691683054,
         6.496689863502979,
         6.510940231382847,
         6.640465386211872,
         6.6456751599907875,
         6.711489148437977,
         6.561079271137714,
         6.811407379806042,
         6.662329234182835,
         6.7249890640378,
         6.619615204632282,
         6.534411676228046
        ],
        [
         0.8164358885141413,
         0.8163102041233062,
         0.8372357628256084,
         0.8027317163275302,
         0.8136371117843648,
         0.8065234980722815,
         0.8176105459200971,
         0.8099971621982834,
         0.8082847244193406,
         0.8053718466834153,
         0.812132199744418,
         0.8279454329515579,
         0.8140467627137324,
         0.8033437134836332,
         0.8118237752693778,
         0.8039991508005335,
         0.8202994651853649,
         0.8245926496771095,
         0.8127968388531828,
         0.7987251956599529,
         0.8173254272628628,
         0.8039368739712373,
         0.8308464541370963,
         0.8132763461067379,
         0.799472009525009,
         0.8054604503738142,
         0.8052887769103992,
         0.8108131778091134,
         0.8114164340155413,
         0.8195526128656918,
         0.817462150721221,
         0.8227826822072253,
         0.8167984770241565,
         0.7927575109130394,
         0.8066454822875503,
         0.8114043584755948,
         0.8072483142592956,
         0.7817633194183454,
         0.8054606194016489,
         0.8085400471763333,
         0.8170346805465233,
         0.8189833216351406,
         0.8049566343062369,
         0.8181103954036444,
         0.8088338521503509,
         0.8179265363640109,
         0.7910758259255493,
         0.7918179977311068,
         0.8136189040964397,
         0.8440867363605905,
         0.8089449315859403,
         0.8197814959788019,
         0.8033311253180029,
         0.797038589676654,
         0.8104235391476599,
         0.8127519344341916,
         0.8192932676168375,
         0.8019369928036002,
         0.8137813957523344,
         0.7811228548379643,
         0.8017049477423925,
         0.7962169049466161,
         0.8213043853606167,
         0.8040463421248897,
         0.7998321337626526,
         0.793921358935644,
         0.8051951104802025,
         0.8211752972662029,
         0.7879739741661541,
         0.8181160533104433,
         0.810732665783061,
         0.8027234387815747,
         0.7983307269076334,
         0.8328903408225119,
         0.8091991949412219,
         0.8053640311648388,
         0.8152860357188221,
         0.8015391537497203,
         0.7968098178379454,
         0.8145268015161776,
         0.8052669419963349,
         0.8200733292671506,
         0.7932019583293582,
         0.8090716858260865,
         0.8032501301802476,
         0.8192926575611016,
         0.804510997487516,
         0.8134622879035891,
         0.8271391251178901,
         0.7832085215147832,
         0.8040451660345774,
         0.8155098489681011,
         0.8096417919223803,
         0.8089659233482371,
         0.8195259204089237,
         0.8207358796184097,
         0.822376986712335,
         0.8024838482632537,
         0.8032972756745141,
         0.7933137461787302
        ]
       ],
       "encoder": "json",
       "name": "ABC_GAN_1 Metrics",
       "version": 1
      }
     },
     "metadata": {
      "scrapbook": {
       "data": true,
       "display": false,
       "name": "ABC_GAN_1 Metrics"
      }
     },
     "output_type": "display_data"
    },
    {
     "name": "stdout",
     "output_type": "stream",
     "text": [
      "MAE\n",
      "0.0429384884596258\n"
     ]
    }
   ],
   "source": [
    "ABC_GAN1_metrics=ABC_train_test2.test_generator(gen,test_data,prior_model,variance,bias,\"1\",device)\n",
    "sb.glue(\"ABC_GAN_1 Metrics\",ABC_GAN1_metrics)\n",
    "\n",
    "print(\"MAE\")\n",
    "print(mean(ABC_GAN1_metrics[1]))"
   ]
  },
  {
   "cell_type": "code",
   "execution_count": 14,
   "id": "eb22ce5c",
   "metadata": {
    "execution": {
     "iopub.execute_input": "2022-07-25T13:30:19.306130Z",
     "iopub.status.busy": "2022-07-25T13:30:19.305854Z",
     "iopub.status.idle": "2022-07-25T13:30:22.586129Z",
     "shell.execute_reply": "2022-07-25T13:30:22.584735Z"
    },
    "papermill": {
     "duration": 3.307684,
     "end_time": "2022-07-25T13:30:22.591335",
     "exception": false,
     "start_time": "2022-07-25T13:30:19.283651",
     "status": "completed"
    },
    "tags": []
   },
   "outputs": [
    {
     "data": {
      "image/png": "[encoded data removed]",
      "text/plain": [
       "<Figure size 432x288 with 1 Axes>"
      ]
     },
     "metadata": {
      "needs_background": "light"
     },
     "output_type": "display_data"
    },
    {
     "data": {
      "image/png": "[encoded data removed]",
      "text/plain": [
       "<Figure size 432x288 with 1 Axes>"
      ]
     },
     "metadata": {
      "needs_background": "light"
     },
     "output_type": "display_data"
    },
    {
     "data": {
      "image/png": "[encoded data removed]",
      "text/plain": [
       "<Figure size 432x288 with 1 Axes>"
      ]
     },
     "metadata": {
      "needs_background": "light"
     },
     "output_type": "display_data"
    },
    {
     "data": {
      "image/png": "[encoded data removed]",
      "text/plain": [
       "<Figure size 432x288 with 1 Axes>"
      ]
     },
     "metadata": {
      "needs_background": "light"
     },
     "output_type": "display_data"
    }
   ],
   "source": [
    "sanityChecks.discProbVsError(train_data,disc,device)\n",
    "sanityChecks.discProbVsError(test_data,disc,device)"
   ]
  },
  {
   "cell_type": "markdown",
   "id": "cca457e6",
   "metadata": {
    "papermill": {
     "duration": 0.035757,
     "end_time": "2022-07-25T13:30:22.663591",
     "exception": false,
     "start_time": "2022-07-25T13:30:22.627834",
     "status": "completed"
    },
    "tags": []
   },
   "source": [
    "# mGAN Model with TabNet Generator"
   ]
  },
  {
   "cell_type": "code",
   "execution_count": 15,
   "id": "46a1a43b",
   "metadata": {
    "execution": {
     "iopub.execute_input": "2022-07-25T13:30:22.764165Z",
     "iopub.status.busy": "2022-07-25T13:30:22.763564Z",
     "iopub.status.idle": "2022-07-25T13:30:22.833020Z",
     "shell.execute_reply": "2022-07-25T13:30:22.829180Z"
    },
    "papermill": {
     "duration": 0.153211,
     "end_time": "2022-07-25T13:30:22.849341",
     "exception": false,
     "start_time": "2022-07-25T13:30:22.696130",
     "status": "completed"
    },
    "tags": []
   },
   "outputs": [],
   "source": [
    "gen2 = network.GeneratorTabnet(n_features+1).to(device)\n",
    "disc2 = network.Discriminator(n_features+1).to(device)\n",
    "\n",
    "criterion = torch.nn.BCELoss()\n",
    "gen_opt = torch.optim.Adam(gen2.parameters(), lr=0.01, betas=(0.5, 0.999))\n",
    "disc_opt = torch.optim.Adam(disc2.parameters(), lr=0.01, betas=(0.5, 0.999))"
   ]
  },
  {
   "cell_type": "code",
   "execution_count": 16,
   "id": "26accb83",
   "metadata": {
    "execution": {
     "iopub.execute_input": "2022-07-25T13:30:23.063847Z",
     "iopub.status.busy": "2022-07-25T13:30:23.061974Z",
     "iopub.status.idle": "2022-07-25T13:46:45.248324Z",
     "shell.execute_reply": "2022-07-25T13:46:45.246704Z"
    },
    "papermill": {
     "duration": 982.27742,
     "end_time": "2022-07-25T13:46:45.251869",
     "exception": false,
     "start_time": "2022-07-25T13:30:22.974449",
     "status": "completed"
    },
    "tags": []
   },
   "outputs": [
    {
     "data": {
      "image/png": "[encoded data removed]",
      "text/plain": [
       "<Figure size 432x288 with 1 Axes>"
      ]
     },
     "metadata": {
      "needs_background": "light"
     },
     "output_type": "display_data"
    },
    {
     "data": {
      "image/png": "[encoded data removed]",
      "text/plain": [
       "<Figure size 432x288 with 1 Axes>"
      ]
     },
     "metadata": {
      "needs_background": "light"
     },
     "output_type": "display_data"
    }
   ],
   "source": [
    "#Training the ABC_GAN \n",
    "ABC_train_test2.training_GAN(disc2,gen2,disc_opt,gen_opt,train_data,batch_size,n_epochs,criterion,prior_model,variance,bias,device)"
   ]
  },
  {
   "cell_type": "code",
   "execution_count": 17,
   "id": "43c9398e",
   "metadata": {
    "execution": {
     "iopub.execute_input": "2022-07-25T13:46:45.312885Z",
     "iopub.status.busy": "2022-07-25T13:46:45.312382Z",
     "iopub.status.idle": "2022-07-25T13:46:50.708754Z",
     "shell.execute_reply": "2022-07-25T13:46:50.707902Z"
    },
    "papermill": {
     "duration": 5.429778,
     "end_time": "2022-07-25T13:46:50.710892",
     "exception": false,
     "start_time": "2022-07-25T13:46:45.281114",
     "status": "completed"
    },
    "tags": []
   },
   "outputs": [
    {
     "data": {
      "application/scrapbook.scrap.json+json": {
       "data": 0.01589764103107022,
       "encoder": "json",
       "name": "ABC-GAN Model 1 MSE",
       "version": 1
      }
     },
     "metadata": {
      "scrapbook": {
       "data": true,
       "display": false,
       "name": "ABC-GAN Model 1 MSE"
      }
     },
     "output_type": "display_data"
    },
    {
     "data": {
      "application/scrapbook.scrap.json+json": {
       "data": 0.08404952415204668,
       "encoder": "json",
       "name": "ABC-GAN Model 1 MAE",
       "version": 1
      }
     },
     "metadata": {
      "scrapbook": {
       "data": true,
       "display": false,
       "name": "ABC-GAN Model 1 MAE"
      }
     },
     "output_type": "display_data"
    },
    {
     "data": {
      "application/scrapbook.scrap.json+json": {
       "data": 12.943626719415187,
       "encoder": "json",
       "name": "ABC-GAN Model 1 Manhattan Distance",
       "version": 1
      }
     },
     "metadata": {
      "scrapbook": {
       "data": true,
       "display": false,
       "name": "ABC-GAN Model 1 Manhattan Distance"
      }
     },
     "output_type": "display_data"
    },
    {
     "data": {
      "application/scrapbook.scrap.json+json": {
       "data": 1.5646388132998013,
       "encoder": "json",
       "name": "ABC-GAN Model 1 Euclidean distance",
       "version": 1
      }
     },
     "metadata": {
      "scrapbook": {
       "data": true,
       "display": false,
       "name": "ABC-GAN Model 1 Euclidean distance"
      }
     },
     "output_type": "display_data"
    },
    {
     "data": {
      "application/scrapbook.scrap.json+json": {
       "data": [
        [
         0.015685625894973333,
         0.015853807868754632,
         0.016001771994922073,
         0.015815140941338412,
         0.016190859531396724,
         0.016019583571394897,
         0.016175986729984455,
         0.015905490334190916,
         0.016211081445059488,
         0.015905673748207023,
         0.01571278017329773,
         0.0160471247067524,
         0.015663188418848326,
         0.015915240640698696,
         0.0159850046551755,
         0.0161208588413766,
         0.015743789173750813,
         0.01613202058410898,
         0.015748694640947587,
         0.015760660530736187,
         0.016321963552249925,
         0.015943637447822404,
         0.015431841691900528,
         0.015915351401287522,
         0.01590219062409865,
         0.015657517060255362,
         0.01567695675999887,
         0.015452868749820605,
         0.01578674319682427,
         0.016018576838377676,
         0.016108738921742985,
         0.01610285168433764,
         0.01584099497628576,
         0.016123247820470008,
         0.015801043654293773,
         0.01585789397136398,
         0.015849870405137474,
         0.015964939995053953,
         0.016483358680528384,
         0.016038668814016128,
         0.015632444601859086,
         0.016002794256157544,
         0.01616839394942492,
         0.01574284080615768,
         0.015844134497312,
         0.01545163044337522,
         0.015570342725011562,
         0.015540710010494055,
         0.015799888919843623,
         0.015734130282227324,
         0.01576493473905851,
         0.015684761458569316,
         0.016221315297893998,
         0.016155030495490233,
         0.0158495736902278,
         0.01624992703512928,
         0.01567917229732479,
         0.016030451030409655,
         0.015786333725368053,
         0.015826438765360194,
         0.015939372434306976,
         0.015636877079806606,
         0.015918805261728737,
         0.015786977422911685,
         0.015617695558533552,
         0.015840739303294084,
         0.015607307225165904,
         0.016082370851869282,
         0.016169684668493736,
         0.015540325937641762,
         0.016221762760345794,
         0.01529455212476839,
         0.01588044152111221,
         0.015658145727615036,
         0.016215625896880453,
         0.01601812545248528,
         0.015539754231309842,
         0.01625295954344553,
         0.016031735652688384,
         0.0161593428086773,
         0.015951510903587592,
         0.015796375142975824,
         0.015622047543587337,
         0.01618567066397993,
         0.016045406414665585,
         0.015556428263571032,
         0.016117204470038376,
         0.01626602754057549,
         0.01628161319877341,
         0.01541615436092551,
         0.016217464390814104,
         0.01631449455019781,
         0.016010073502599507,
         0.015571737243382964,
         0.01579276640054575,
         0.015883641091743585,
         0.016191767684394495,
         0.015685895441016583,
         0.015854609813762632,
         0.01598172332432848
        ],
        [
         0.0831216751271254,
         0.0841472978619012,
         0.084415737442769,
         0.08399913387445661,
         0.08468656914381238,
         0.08463220041874167,
         0.0843752281522596,
         0.08383139169641904,
         0.08507929969724122,
         0.08447638478178482,
         0.08337646795364169,
         0.08452465583558207,
         0.08396088472240931,
         0.08390291610902006,
         0.0846157121871199,
         0.08432557399977338,
         0.08391722509419763,
         0.0848707997469933,
         0.08305523568740139,
         0.08300808164012896,
         0.08485254930791916,
         0.08426911833804923,
         0.08326028727672317,
         0.08332867722039099,
         0.08382525203096403,
         0.0834357983783468,
         0.08348713113696545,
         0.08300725065849045,
         0.0835618625890899,
         0.08481888158561347,
         0.08444902663687606,
         0.08429447430875395,
         0.08390267865804883,
         0.08478454505274823,
         0.08367396557292381,
         0.08399829631308456,
         0.084157320731259,
         0.08459777409186611,
         0.08545435166784696,
         0.08484878705500008,
         0.08331239025120611,
         0.08381113753496826,
         0.08444112282875296,
         0.08402262507127477,
         0.08389362068725871,
         0.08306808513286826,
         0.08307421221942096,
         0.08289334560175995,
         0.08354301707117588,
         0.08350823698686315,
         0.0838836883859975,
         0.08389604164214877,
         0.08521125973625616,
         0.08519408450304687,
         0.08343931950338475,
         0.08520290947386197,
         0.08323865195179915,
         0.08461176841096445,
         0.08322006401110005,
         0.08393989730771485,
         0.08353873076183456,
         0.08319590090737715,
         0.08395777057324137,
         0.08396603955657451,
         0.08343568632935548,
         0.08405656643308602,
         0.08355960264414936,
         0.08439720272050276,
         0.08454336240500598,
         0.0825717013280887,
         0.08502390724304434,
         0.08250614705604392,
         0.08325614494743286,
         0.08328704221488593,
         0.08456965637477962,
         0.08430019887043284,
         0.0827836295130191,
         0.08510418695869384,
         0.08446320789781483,
         0.08445065589500712,
         0.0843096131144406,
         0.0837336571088859,
         0.08315881559407556,
         0.0852153565879766,
         0.0846629057127934,
         0.08344904241430295,
         0.08531674602395528,
         0.08536906554907947,
         0.08517963115077515,
         0.08355150957192693,
         0.08483838894731038,
         0.08544972147066872,
         0.08422266464535293,
         0.08380408947924514,
         0.08329076498940394,
         0.0842847732657736,
         0.08517371055174183,
         0.08296404851527957,
         0.08378558726860331,
         0.08448900451714342
        ],
        [
         12.800737969577312,
         12.958683870732784,
         13.000023566186428,
         12.935866616666317,
         13.041731648147106,
         13.033358864486217,
         12.993785135447979,
         12.910034321248531,
         13.102212153375149,
         13.009363256394863,
         12.83997606486082,
         13.016796998679638,
         12.929976247251034,
         12.92104908078909,
         13.030819676816463,
         12.9861383959651,
         12.923252664506435,
         13.070103161036968,
         12.790506295859814,
         12.78324457257986,
         13.067292593419552,
         12.977444224059582,
         12.822084240615368,
         12.832616291940212,
         12.90908881276846,
         12.849112950265408,
         12.857018195092678,
         12.783116601407528,
         12.868526838719845,
         13.062107764184475,
         13.005150102078915,
         12.981349043548107,
         12.92101251333952,
         13.056819938123226,
         12.885790698230267,
         12.935737632215023,
         12.960227392613888,
         13.02805721014738,
         13.15997015684843,
         13.066713206470013,
         12.830108098685741,
         12.906915180385113,
         13.003932915627956,
         12.939484260976315,
         12.919617585837841,
         12.792485110461712,
         12.793428681790829,
         12.765575222671032,
         12.865624628961086,
         12.860268495976925,
         12.918088011443615,
         12.919990412890911,
         13.12253399938345,
         13.11988901346922,
         12.849655203521252,
         13.121248058974743,
         12.818752400577068,
         13.030212335288525,
         12.815889857709408,
         12.926744185388088,
         12.864964537322521,
         12.81216873973608,
         12.929496668279171,
         12.930770091712475,
         12.849095694720745,
         12.944711230695248,
         12.868178807199001,
         12.997169218957424,
         13.019677810370922,
         12.716042004525661,
         13.09368171542883,
         12.705946646630764,
         12.82144632190466,
         12.826204501092434,
         13.02372708171606,
         12.982230626046658,
         12.74867894500494,
         13.106044791638851,
         13.007334016263485,
         13.005401007831097,
         12.983680419623852,
         12.894983194768429,
         12.806457601487637,
         13.123164914548397,
         13.038087479770184,
         12.851152531802654,
         13.138778887689114,
         13.146836094558239,
         13.117663197219372,
         12.866932474076748,
         13.0651118978858,
         13.159257106482983,
         12.97029035538435,
         12.905829779803753,
         12.826777808368206,
         12.979855082929134,
         13.116751424968243,
         12.776463471353054,
         12.90298043936491,
         13.011306695640087
        ],
        [
         1.5542156825311901,
         1.5625256515616675,
         1.569800269849002,
         1.5606190133937607,
         1.5790479308225875,
         1.5706736994025252,
         1.5783225134355798,
         1.5650704493617535,
         1.5800337156336763,
         1.5650794731335151,
         1.5555603963484832,
         1.5720232838097117,
         1.553103672168295,
         1.565550081813929,
         1.5689776024204511,
         1.5756307503891882,
         1.5570945805433993,
         1.5761761227581081,
         1.5573371422739293,
         1.557928663878219,
         1.5854281399819068,
         1.5669461276523358,
         1.5415912624793517,
         1.5655555294521746,
         1.5649080982956132,
         1.5528224712694383,
         1.5537861310488732,
         1.5426411726232296,
         1.559217256289494,
         1.5706243450011088,
         1.575038346818394,
         1.5747505070289696,
         1.5618941149604244,
         1.5757474938429639,
         1.559923306692108,
         1.5627269984197665,
         1.5623316044909195,
         1.5679925890253146,
         1.593247387194271,
         1.5716090472374113,
         1.5515787020600338,
         1.5698504118062528,
         1.577952048768098,
         1.557047682040689,
         1.5620488829054129,
         1.54257936206854,
         1.5484937131457075,
         1.5470195026618392,
         1.5598663063403602,
         1.5566168646982492,
         1.5581399005914105,
         1.5541728554506653,
         1.5805323647036387,
         1.5772998118003743,
         1.5623169807356896,
         1.581925650405198,
         1.5538959211568895,
         1.5712063704946868,
         1.5591970349210775,
         1.5611763416941309,
         1.5667365301426002,
         1.5517986564919488,
         1.5657253942841398,
         1.5592288232098583,
         1.5508465804244362,
         1.5618815104569517,
         1.5503307107438558,
         1.5737487446183618,
         1.5780150312807655,
         1.5470003860364197,
         1.580554163922658,
         1.5347185498371785,
         1.563837585637102,
         1.5528536447626722,
         1.5802551655095418,
         1.5706022156111754,
         1.54697192981053,
         1.5820732504187698,
         1.5712693246270708,
         1.5775103145578173,
         1.5673329828573408,
         1.5596928454084402,
         1.551062642742855,
         1.5787948828941993,
         1.5719391170966197,
         1.547801651565839,
         1.575452153632699,
         1.5827091461316023,
         1.5834672186727154,
         1.5408075063363782,
         1.58034474599227,
         1.5850653490409985,
         1.5702074128599457,
         1.5485630550549037,
         1.559514676328519,
         1.5639951176805227,
         1.5790922149756652,
         1.554229036505416,
         1.5625651702631302,
         1.5688165577742308
        ]
       ],
       "encoder": "json",
       "name": "ABC_GAN_2 Metrics",
       "version": 1
      }
     },
     "metadata": {
      "scrapbook": {
       "data": true,
       "display": false,
       "name": "ABC_GAN_2 Metrics"
      }
     },
     "output_type": "display_data"
    },
    {
     "name": "stdout",
     "output_type": "stream",
     "text": [
      "MAE\n",
      "0.08404952415204668\n"
     ]
    }
   ],
   "source": [
    "ABC_GAN2_metrics=ABC_train_test2.test_generator(gen2,test_data,prior_model,variance,bias,\"1\",device)\n",
    "sb.glue(\"ABC_GAN_2 Metrics\",ABC_GAN2_metrics)\n",
    "\n",
    "print(\"MAE\")\n",
    "print(mean(ABC_GAN2_metrics[1]))"
   ]
  },
  {
   "cell_type": "code",
   "execution_count": 18,
   "id": "bd0aff48",
   "metadata": {
    "execution": {
     "iopub.execute_input": "2022-07-25T13:46:50.763958Z",
     "iopub.status.busy": "2022-07-25T13:46:50.763444Z",
     "iopub.status.idle": "2022-07-25T13:46:52.650153Z",
     "shell.execute_reply": "2022-07-25T13:46:52.649304Z"
    },
    "papermill": {
     "duration": 1.915345,
     "end_time": "2022-07-25T13:46:52.652499",
     "exception": false,
     "start_time": "2022-07-25T13:46:50.737154",
     "status": "completed"
    },
    "tags": []
   },
   "outputs": [
    {
     "data": {
      "image/png": "[encoded data removed]",
      "text/plain": [
       "<Figure size 432x288 with 1 Axes>"
      ]
     },
     "metadata": {
      "needs_background": "light"
     },
     "output_type": "display_data"
    },
    {
     "data": {
      "image/png": "[encoded data removed]",
      "text/plain": [
       "<Figure size 432x288 with 1 Axes>"
      ]
     },
     "metadata": {
      "needs_background": "light"
     },
     "output_type": "display_data"
    },
    {
     "data": {
      "image/png": "[encoded data removed]",
      "text/plain": [
       "<Figure size 432x288 with 1 Axes>"
      ]
     },
     "metadata": {
      "needs_background": "light"
     },
     "output_type": "display_data"
    },
    {
     "data": {
      "image/png": "[encoded data removed]",
      "text/plain": [
       "<Figure size 432x288 with 1 Axes>"
      ]
     },
     "metadata": {
      "needs_background": "light"
     },
     "output_type": "display_data"
    }
   ],
   "source": [
    "sanityChecks.discProbVsError(train_data,disc2,device)\n",
    "sanityChecks.discProbVsError(test_data,disc2,device)"
   ]
  },
  {
   "cell_type": "markdown",
   "id": "130f3a4d",
   "metadata": {
    "id": "130f3a4d",
    "papermill": {
     "duration": 0.02775,
     "end_time": "2022-07-25T13:46:52.708965",
     "exception": false,
     "start_time": "2022-07-25T13:46:52.681215",
     "status": "completed"
    },
    "tags": []
   },
   "source": [
    "# skipGAN Model"
   ]
  },
  {
   "cell_type": "code",
   "execution_count": 19,
   "id": "4e43dad1",
   "metadata": {
    "execution": {
     "iopub.execute_input": "2022-07-25T13:46:52.767085Z",
     "iopub.status.busy": "2022-07-25T13:46:52.766811Z",
     "iopub.status.idle": "2022-07-25T13:46:52.774871Z",
     "shell.execute_reply": "2022-07-25T13:46:52.773485Z"
    },
    "id": "4e43dad1",
    "papermill": {
     "duration": 0.042809,
     "end_time": "2022-07-25T13:46:52.777303",
     "exception": false,
     "start_time": "2022-07-25T13:46:52.734494",
     "status": "completed"
    },
    "tags": []
   },
   "outputs": [],
   "source": [
    "#Generator\n",
    "gen3 = network.GeneratorWithSkipConnection(n_features+1).to(device)\n",
    "constraints=network.weightConstraint()\n",
    "#Discriminator \n",
    "disc3 = network.Discriminator(n_features+1).to(device)\n",
    "\n",
    "criterion = torch.nn.BCELoss()\n",
    "gen_opt = torch.optim.Adam(gen3.parameters(), lr=0.01, betas=(0.5, 0.999))\n",
    "disc_opt = torch.optim.Adam(disc3.parameters(), lr=0.01, betas=(0.5, 0.999))\n"
   ]
  },
  {
   "cell_type": "code",
   "execution_count": 20,
   "id": "26acbc37",
   "metadata": {
    "execution": {
     "iopub.execute_input": "2022-07-25T13:46:52.832880Z",
     "iopub.status.busy": "2022-07-25T13:46:52.832539Z",
     "iopub.status.idle": "2022-07-25T13:54:55.760983Z",
     "shell.execute_reply": "2022-07-25T13:54:55.759437Z"
    },
    "id": "26acbc37",
    "papermill": {
     "duration": 482.960152,
     "end_time": "2022-07-25T13:54:55.764357",
     "exception": false,
     "start_time": "2022-07-25T13:46:52.804205",
     "status": "completed"
    },
    "tags": []
   },
   "outputs": [
    {
     "data": {
      "image/png": "[encoded data removed]",
      "text/plain": [
       "<Figure size 432x288 with 1 Axes>"
      ]
     },
     "metadata": {
      "needs_background": "light"
     },
     "output_type": "display_data"
    },
    {
     "data": {
      "image/png": "[encoded data removed]",
      "text/plain": [
       "<Figure size 432x288 with 1 Axes>"
      ]
     },
     "metadata": {
      "needs_background": "light"
     },
     "output_type": "display_data"
    }
   ],
   "source": [
    "ABC_train_test2.training_GAN_skip_connection(disc3,gen3,disc_opt,gen_opt,train_data,batch_size,n_epochs,criterion,prior_model,variance,bias,device)"
   ]
  },
  {
   "cell_type": "code",
   "execution_count": 21,
   "id": "c5e0717b",
   "metadata": {
    "execution": {
     "iopub.execute_input": "2022-07-25T13:54:55.832703Z",
     "iopub.status.busy": "2022-07-25T13:54:55.832238Z",
     "iopub.status.idle": "2022-07-25T13:55:00.978877Z",
     "shell.execute_reply": "2022-07-25T13:55:00.978290Z"
    },
    "id": "c5e0717b",
    "papermill": {
     "duration": 5.18249,
     "end_time": "2022-07-25T13:55:00.980904",
     "exception": false,
     "start_time": "2022-07-25T13:54:55.798414",
     "status": "completed"
    },
    "tags": []
   },
   "outputs": [
    {
     "data": {
      "application/scrapbook.scrap.json+json": {
       "data": 0.019788767001862453,
       "encoder": "json",
       "name": "ABC-GAN Model 3 MSE",
       "version": 1
      }
     },
     "metadata": {
      "scrapbook": {
       "data": true,
       "display": false,
       "name": "ABC-GAN Model 3 MSE"
      }
     },
     "output_type": "display_data"
    },
    {
     "data": {
      "application/scrapbook.scrap.json+json": {
       "data": 0.10344780373495895,
       "encoder": "json",
       "name": "ABC-GAN Model 3 MAE",
       "version": 1
      }
     },
     "metadata": {
      "scrapbook": {
       "data": true,
       "display": false,
       "name": "ABC-GAN Model 3 MAE"
      }
     },
     "output_type": "display_data"
    },
    {
     "data": {
      "application/scrapbook.scrap.json+json": {
       "data": 15.930961775183677,
       "encoder": "json",
       "name": "ABC-GAN Model 3 Manhattan Distance",
       "version": 1
      }
     },
     "metadata": {
      "scrapbook": {
       "data": true,
       "display": false,
       "name": "ABC-GAN Model 3 Manhattan Distance"
      }
     },
     "output_type": "display_data"
    },
    {
     "data": {
      "application/scrapbook.scrap.json+json": {
       "data": 1.7456552143500144,
       "encoder": "json",
       "name": "ABC-GAN Model 3 Euclidean distance",
       "version": 1
      }
     },
     "metadata": {
      "scrapbook": {
       "data": true,
       "display": false,
       "name": "ABC-GAN Model 3 Euclidean distance"
      }
     },
     "output_type": "display_data"
    },
    {
     "data": {
      "application/scrapbook.scrap.json+json": {
       "data": [
        [
         0.019561864034962018,
         0.019520582186359367,
         0.019812057718111713,
         0.020015561569068245,
         0.020240770764567935,
         0.019975577875450654,
         0.020142132628735137,
         0.019345974513130054,
         0.01991241424238681,
         0.019486143492023086,
         0.01975246039879408,
         0.019550265997068716,
         0.019857736040754338,
         0.019710685359575042,
         0.01956701232543334,
         0.020207242291976547,
         0.01970329961707381,
         0.01945855065921183,
         0.020143195663298356,
         0.019592033003949242,
         0.020104770914827517,
         0.020479543683249883,
         0.020212492318789726,
         0.020095668012986047,
         0.020014467441191494,
         0.019695000906895112,
         0.01983950146248263,
         0.019805941812970348,
         0.019576784393071995,
         0.01998574180090007,
         0.01988879353216524,
         0.019606759674565447,
         0.020059622845039156,
         0.019770131487418654,
         0.01998005631035001,
         0.019816893727693314,
         0.019402842255453273,
         0.019671369779286022,
         0.020036942608145748,
         0.0198355582848488,
         0.02006285522139603,
         0.019509603475968765,
         0.019859721472519114,
         0.019814295842575196,
         0.019594961588068966,
         0.01978768140213354,
         0.019855223156905466,
         0.01966092968089386,
         0.019638200921981156,
         0.019314799035058672,
         0.01976847779513546,
         0.01968537076798255,
         0.02009272587859221,
         0.019827461661449435,
         0.0198597996970142,
         0.01942545309011407,
         0.019465135089970314,
         0.020630585362958403,
         0.01970785975197798,
         0.02012574455846633,
         0.019496705029537282,
         0.020317434675756085,
         0.020062933112634893,
         0.01993331286308462,
         0.01935125854101031,
         0.01963731493324116,
         0.020099771663345853,
         0.020159863351777437,
         0.01995582828854978,
         0.02019210808641784,
         0.01973993353894353,
         0.01992409373396699,
         0.019500960708704745,
         0.019537616383330063,
         0.019703407923780242,
         0.019319212812967394,
         0.019451294682849108,
         0.02002774038743815,
         0.02040134239829544,
         0.01972145836636969,
         0.019750985483443836,
         0.020095230114735206,
         0.019556692525117155,
         0.019850947622790674,
         0.019772126373768052,
         0.019838348663992568,
         0.01978787574310042,
         0.019609927847239465,
         0.019199098351990466,
         0.01945396927858092,
         0.0196563588072684,
         0.01925621190989457,
         0.0194383784007636,
         0.01951544496747236,
         0.020160031425433784,
         0.019998886279860472,
         0.0192919030222807,
         0.019609004275906772,
         0.019565474835079793,
         0.019814883690102876
        ],
        [
         0.10274940298555733,
         0.10209315700770973,
         0.1037322778448269,
         0.10328127218821606,
         0.10449556150026136,
         0.10533985150857018,
         0.10498757326564231,
         0.10231814578223924,
         0.10286330194635825,
         0.10269073366683412,
         0.10353433731459565,
         0.10306361577679198,
         0.10338118544162868,
         0.10229127529960175,
         0.1036098383778295,
         0.1044241123433624,
         0.10401771141385491,
         0.1029440498874559,
         0.10434347628192468,
         0.10293770639540313,
         0.10467804971985616,
         0.10482219684046584,
         0.10620580439443712,
         0.10472841420537465,
         0.10439447896530876,
         0.10188700985647255,
         0.10360682631129181,
         0.10308000769514541,
         0.10349292898332918,
         0.10428379014037646,
         0.10346829606970022,
         0.10336039931356132,
         0.10394832578959404,
         0.10250521522595898,
         0.10352398684949844,
         0.10337874238899389,
         0.10247853054822266,
         0.10304579119403641,
         0.10417988047294029,
         0.1039621795031738,
         0.10386473840320265,
         0.10360914433689473,
         0.10396724697444346,
         0.10463824583967397,
         0.10224062503109892,
         0.1032173689212892,
         0.10420367349084321,
         0.10302365902666148,
         0.10314393517645923,
         0.10218450873364489,
         0.10309578391251625,
         0.10338325892853273,
         0.10366749473206409,
         0.10312416491570411,
         0.1034234327010133,
         0.10217282721506697,
         0.10283836155113849,
         0.10545873765337777,
         0.10331803105481259,
         0.10395319279670329,
         0.10245476188984784,
         0.10426900505584169,
         0.10347561336231309,
         0.10462885156467364,
         0.10300745060304542,
         0.10322752024059172,
         0.10378277098590677,
         0.10423926970401368,
         0.10284629263370842,
         0.10383108863002294,
         0.10365268694502967,
         0.10441125851946992,
         0.10291211344543602,
         0.1035248182665605,
         0.10272887586192651,
         0.10215065498872623,
         0.10324263030832465,
         0.10499519044412421,
         0.10534182600918915,
         0.10280188183941237,
         0.10347067892503042,
         0.1047989008464403,
         0.10386544930470454,
         0.10308027867372933,
         0.10363035811135521,
         0.10282824209032508,
         0.10261800619108337,
         0.10387350972016136,
         0.10114908061147511,
         0.10304161365591473,
         0.10293481922285123,
         0.10127872893852848,
         0.10293248680408125,
         0.10296041865579107,
         0.10415747256151267,
         0.10359182218452553,
         0.10189327556494769,
         0.10262403470258434,
         0.10337669878907792,
         0.10249206455206716
        ],
        [
         15.82340805977583,
         15.722346179187298,
         15.974770788103342,
         15.905315916985273,
         16.09231647104025,
         16.222337132319808,
         16.168086282908916,
         15.756994450464845,
         15.84094849973917,
         15.814372984692454,
         15.94428794644773,
         15.871796829625964,
         15.920702558010817,
         15.752856396138668,
         15.955915110185742,
         16.08131330087781,
         16.018727557733655,
         15.853383682668209,
         16.0688953474164,
         15.852406784892082,
         16.120419656857848,
         16.14261831343174,
         16.355693876743317,
         16.128175787627697,
         16.07674976065755,
         15.690599517896771,
         15.955451251938939,
         15.874321185052395,
         15.937911063432693,
         16.059703681617975,
         15.934117594733834,
         15.917501494288445,
         16.00804217159748,
         15.785803144797683,
         15.94269397482276,
         15.920326327905059,
         15.781693704426289,
         15.869051843881607,
         16.043701592832804,
         16.010175643488765,
         15.995169714093208,
         15.95580822788179,
         16.010956034064293,
         16.114289859309793,
         15.745056254789233,
         15.895474813878536,
         16.047365717589855,
         15.865643490105867,
         15.88416601717472,
         15.736414344981313,
         15.876750722527504,
         15.92102187499404,
         15.96479418873787,
         15.881121397018433,
         15.927208635956049,
         15.734615391120315,
         15.837107678875327,
         16.240645598620176,
         15.91097678244114,
         16.008791690692306,
         15.778033331036568,
         16.05742677859962,
         15.935244457796216,
         16.11284314095974,
         15.863147392868996,
         15.897038117051125,
         15.982546731829643,
         16.052847534418106,
         15.838329065591097,
         15.989987649023533,
         15.962513789534569,
         16.079333811998367,
         15.848465470597148,
         15.942822013050318,
         15.820246882736683,
         15.73120086826384,
         15.899365067481995,
         16.16925932839513,
         16.22264120541513,
         15.831489803269506,
         15.934484554454684,
         16.139030730351806,
         15.9952791929245,
         15.874362915754318,
         15.959075149148703,
         15.835549281910062,
         15.803172953426838,
         15.99652049690485,
         15.576958414167166,
         15.868408503010869,
         15.85196216031909,
         15.596924256533384,
         15.851602967828512,
         15.855904472991824,
         16.040250774472952,
         15.953140616416931,
         15.691564437001944,
         15.804101344197989,
         15.920011613518,
         15.783777941018343
        ],
        [
         1.7356632914779728,
         1.733830919293846,
         1.7467274797715882,
         1.7556755057915772,
         1.7655250487442713,
         1.753921033803803,
         1.7612178811337373,
         1.7260591168966457,
         1.7511458515290976,
         1.7323008104170463,
         1.7440983061210422,
         1.7351486862942271,
         1.7487399321443335,
         1.742253008427466,
         1.735891672345004,
         1.7640621624433728,
         1.7419265601710558,
         1.7310738867878002,
         1.7612643561225971,
         1.7370011751890622,
         1.7595836782839962,
         1.7759081415491291,
         1.7642913073224664,
         1.7591852870007332,
         1.755627519134822,
         1.7415596859315066,
         1.7479368481791113,
         1.746457854973155,
         1.7363250837712065,
         1.7543671899971827,
         1.750106912149497,
         1.7376538751670538,
         1.757606872464952,
         1.7448782906158449,
         1.7541176333968886,
         1.7469406498403917,
         1.728594141879407,
         1.7405145635730968,
         1.756612980042686,
         1.7477631349432665,
         1.757748475776608,
         1.7333432825898019,
         1.7488273519041106,
         1.7468261389607667,
         1.7371309923441642,
         1.7456525816807207,
         1.7486292820845253,
         1.7400526345078342,
         1.739046561189521,
         1.7246678089994707,
         1.7448053130509606,
         1.7411338542080308,
         1.7590565042951862,
         1.7474063911589692,
         1.7488307960863985,
         1.7296010452926902,
         1.7313667444696483,
         1.7824449909872657,
         1.742128124394015,
         1.7605012530537474,
         1.7327702024644644,
         1.768865438654517,
         1.7577518878800198,
         1.7520645481588375,
         1.7262948228259238,
         1.739007331703676,
         1.7593648956811834,
         1.7619928933380309,
         1.753053780246535,
         1.763401441903785,
         1.7435451714817438,
         1.7516593376084624,
         1.7329593039481714,
         1.7345872486078149,
         1.741931347746563,
         1.7248648565023807,
         1.7307511031799931,
         1.7562095602932684,
         1.7725142395302493,
         1.7427290634005426,
         1.7440331890334975,
         1.7591661199753768,
         1.7354338503290876,
         1.7484410009805202,
         1.7449663210389708,
         1.7478860644375123,
         1.7456611539578535,
         1.7377942595355982,
         1.7194944449478549,
         1.7308700901285057,
         1.7398503545763162,
         1.7220501253226528,
         1.7301763706968125,
         1.7336027587053335,
         1.7620002382283613,
         1.754944012525332,
         1.7236452841090095,
         1.7377533364921625,
         1.7358234716129082,
         1.7468520510552241
        ]
       ],
       "encoder": "json",
       "name": "ABC_GAN_3 Metrics",
       "version": 1
      }
     },
     "metadata": {
      "scrapbook": {
       "data": true,
       "display": false,
       "name": "ABC_GAN_3 Metrics"
      }
     },
     "output_type": "display_data"
    },
    {
     "name": "stdout",
     "output_type": "stream",
     "text": [
      "MAE\n",
      "0.10344780373495895\n"
     ]
    }
   ],
   "source": [
    "ABC_GAN3_metrics=ABC_train_test2.test_generator(gen3,test_data,prior_model,variance,bias,\"3\",device)\n",
    "sb.glue(\"ABC_GAN_3 Metrics\",ABC_GAN3_metrics)\n",
    "\n",
    "print(\"MAE\")\n",
    "print(mean(ABC_GAN3_metrics[1]))"
   ]
  },
  {
   "cell_type": "code",
   "execution_count": 22,
   "id": "c8e46b48",
   "metadata": {
    "execution": {
     "iopub.execute_input": "2022-07-25T13:55:01.045688Z",
     "iopub.status.busy": "2022-07-25T13:55:01.045250Z",
     "iopub.status.idle": "2022-07-25T13:55:02.709174Z",
     "shell.execute_reply": "2022-07-25T13:55:02.707226Z"
    },
    "id": "c8e46b48",
    "papermill": {
     "duration": 1.709493,
     "end_time": "2022-07-25T13:55:02.718660",
     "exception": false,
     "start_time": "2022-07-25T13:55:01.009167",
     "status": "completed"
    },
    "tags": []
   },
   "outputs": [
    {
     "data": {
      "image/png": "[encoded data removed]",
      "text/plain": [
       "<Figure size 432x288 with 1 Axes>"
      ]
     },
     "metadata": {
      "needs_background": "light"
     },
     "output_type": "display_data"
    },
    {
     "data": {
      "image/png": "[encoded data removed]",
      "text/plain": [
       "<Figure size 432x288 with 1 Axes>"
      ]
     },
     "metadata": {
      "needs_background": "light"
     },
     "output_type": "display_data"
    },
    {
     "data": {
      "image/png": "[encoded data removed]",
      "text/plain": [
       "<Figure size 432x288 with 1 Axes>"
      ]
     },
     "metadata": {
      "needs_background": "light"
     },
     "output_type": "display_data"
    },
    {
     "data": {
      "image/png": "[encoded data removed]",
      "text/plain": [
       "<Figure size 432x288 with 1 Axes>"
      ]
     },
     "metadata": {
      "needs_background": "light"
     },
     "output_type": "display_data"
    }
   ],
   "source": [
    "sanityChecks.discProbVsError(train_data,disc3,device)\n",
    "sanityChecks.discProbVsError(test_data,disc3,device)"
   ]
  },
  {
   "cell_type": "markdown",
   "id": "6d84721b",
   "metadata": {
    "id": "130f3a4d",
    "papermill": {
     "duration": 0.067878,
     "end_time": "2022-07-25T13:55:02.849857",
     "exception": false,
     "start_time": "2022-07-25T13:55:02.781979",
     "status": "completed"
    },
    "tags": []
   },
   "source": [
    "# skipGAN Model with TabNet Generator"
   ]
  },
  {
   "cell_type": "code",
   "execution_count": 23,
   "id": "dbc950a8",
   "metadata": {
    "execution": {
     "iopub.execute_input": "2022-07-25T13:55:02.983472Z",
     "iopub.status.busy": "2022-07-25T13:55:02.982908Z",
     "iopub.status.idle": "2022-07-25T13:55:03.022003Z",
     "shell.execute_reply": "2022-07-25T13:55:03.016127Z"
    },
    "id": "4e43dad1",
    "papermill": {
     "duration": 0.121792,
     "end_time": "2022-07-25T13:55:03.029005",
     "exception": false,
     "start_time": "2022-07-25T13:55:02.907213",
     "status": "completed"
    },
    "tags": []
   },
   "outputs": [],
   "source": [
    "#Generator\n",
    "gen4 = network.GeneratorTabnetskipConnection(n_features+1).to(device)\n",
    "constraints=network.weightConstraint()\n",
    "#Discriminator \n",
    "disc4 = network.Discriminator(n_features+1).to(device)\n",
    "\n",
    "criterion = torch.nn.BCELoss()\n",
    "gen_opt = torch.optim.Adam(gen4.parameters(), lr=0.01, betas=(0.5, 0.999))\n",
    "disc_opt = torch.optim.Adam(disc4.parameters(), lr=0.01, betas=(0.5, 0.999))\n"
   ]
  },
  {
   "cell_type": "code",
   "execution_count": 24,
   "id": "c392b74d",
   "metadata": {
    "execution": {
     "iopub.execute_input": "2022-07-25T13:55:03.403345Z",
     "iopub.status.busy": "2022-07-25T13:55:03.402920Z",
     "iopub.status.idle": "2022-07-25T14:19:23.587579Z",
     "shell.execute_reply": "2022-07-25T14:19:23.584493Z"
    },
    "id": "26acbc37",
    "papermill": {
     "duration": 1460.479944,
     "end_time": "2022-07-25T14:19:23.594557",
     "exception": false,
     "start_time": "2022-07-25T13:55:03.114613",
     "status": "completed"
    },
    "tags": []
   },
   "outputs": [
    {
     "data": {
      "image/png": "[encoded data removed]",
      "text/plain": [
       "<Figure size 432x288 with 1 Axes>"
      ]
     },
     "metadata": {
      "needs_background": "light"
     },
     "output_type": "display_data"
    },
    {
     "data": {
      "image/png": "[encoded data removed]",
      "text/plain": [
       "<Figure size 432x288 with 1 Axes>"
      ]
     },
     "metadata": {
      "needs_background": "light"
     },
     "output_type": "display_data"
    }
   ],
   "source": [
    "ABC_train_test2.training_GAN_skip_connection(disc4,gen4,disc_opt,gen_opt,train_data,batch_size,n_epochs,criterion,prior_model,variance,bias,device)"
   ]
  },
  {
   "cell_type": "code",
   "execution_count": 25,
   "id": "4dde4f66",
   "metadata": {
    "execution": {
     "iopub.execute_input": "2022-07-25T14:19:23.708537Z",
     "iopub.status.busy": "2022-07-25T14:19:23.707613Z",
     "iopub.status.idle": "2022-07-25T14:19:40.518753Z",
     "shell.execute_reply": "2022-07-25T14:19:40.516872Z"
    },
    "id": "c5e0717b",
    "papermill": {
     "duration": 16.891736,
     "end_time": "2022-07-25T14:19:40.525428",
     "exception": false,
     "start_time": "2022-07-25T14:19:23.633692",
     "status": "completed"
    },
    "tags": []
   },
   "outputs": [
    {
     "data": {
      "application/scrapbook.scrap.json+json": {
       "data": 0.0068229918889443535,
       "encoder": "json",
       "name": "ABC-GAN Model 3 MSE",
       "version": 1
      }
     },
     "metadata": {
      "scrapbook": {
       "data": true,
       "display": false,
       "name": "ABC-GAN Model 3 MSE"
      }
     },
     "output_type": "display_data"
    },
    {
     "data": {
      "application/scrapbook.scrap.json+json": {
       "data": 0.05916813216559202,
       "encoder": "json",
       "name": "ABC-GAN Model 3 MAE",
       "version": 1
      }
     },
     "metadata": {
      "scrapbook": {
       "data": true,
       "display": false,
       "name": "ABC-GAN Model 3 MAE"
      }
     },
     "output_type": "display_data"
    },
    {
     "data": {
      "application/scrapbook.scrap.json+json": {
       "data": 9.11189235350117,
       "encoder": "json",
       "name": "ABC-GAN Model 3 Manhattan Distance",
       "version": 1
      }
     },
     "metadata": {
      "scrapbook": {
       "data": true,
       "display": false,
       "name": "ABC-GAN Model 3 Manhattan Distance"
      }
     },
     "output_type": "display_data"
    },
    {
     "data": {
      "application/scrapbook.scrap.json+json": {
       "data": 1.025009705290028,
       "encoder": "json",
       "name": "ABC-GAN Model 3 Euclidean distance",
       "version": 1
      }
     },
     "metadata": {
      "scrapbook": {
       "data": true,
       "display": false,
       "name": "ABC-GAN Model 3 Euclidean distance"
      }
     },
     "output_type": "display_data"
    },
    {
     "data": {
      "application/scrapbook.scrap.json+json": {
       "data": [
        [
         0.006759145519237426,
         0.0066099243921407935,
         0.006679289034249026,
         0.006890713674468974,
         0.00694742689376134,
         0.006771758614193073,
         0.006634600905220962,
         0.006901850573459598,
         0.007081859203508424,
         0.006800291458081797,
         0.006794851480893817,
         0.006879470355441579,
         0.006711522091696384,
         0.0068367338379456575,
         0.0066862454398975155,
         0.006472883034123829,
         0.006510280253525372,
         0.006817759681335663,
         0.006849362269618406,
         0.006599210984635677,
         0.006910982353175365,
         0.006812821811111675,
         0.006681986334690248,
         0.006799339281098938,
         0.006893481442718708,
         0.0067085342093976714,
         0.006855660696686542,
         0.006719527736243026,
         0.006837785427229929,
         0.006763200378231119,
         0.006694237262414712,
         0.006936953236804276,
         0.006953998531677424,
         0.006774654354066277,
         0.006899168508169378,
         0.006887764417876811,
         0.006801142215913207,
         0.006516544994306314,
         0.00679901247119303,
         0.0068707578211333,
         0.006673963737349659,
         0.007082049448237366,
         0.006831019818125184,
         0.006739001091429021,
         0.00662240345979188,
         0.006874798210865872,
         0.006992728150501738,
         0.006809611342949323,
         0.006986541445323471,
         0.0070271304636551745,
         0.006893580464291447,
         0.00681585082342911,
         0.006535175928118939,
         0.006908320350221786,
         0.006870040549321971,
         0.006802331231345847,
         0.006724561888688049,
         0.006699749017227631,
         0.007027614739163439,
         0.006854605192886958,
         0.006931090184194547,
         0.006892283153527582,
         0.006897813860346446,
         0.0069057945791343445,
         0.006763888357889031,
         0.006872148260005088,
         0.006878156014557419,
         0.006900978364107822,
         0.006986097108775272,
         0.007001346795177057,
         0.0068154446456963,
         0.006729151702812816,
         0.006821721726681321,
         0.00688585285585191,
         0.006782744241136745,
         0.006899914952623495,
         0.006859251246223535,
         0.006759332921072343,
         0.006776454784418849,
         0.006759037574171681,
         0.007008255150525937,
         0.006833252011374086,
         0.0068714770827539035,
         0.006682239562215136,
         0.006833948718299101,
         0.006738627329618533,
         0.006868447155349052,
         0.006852965966944204,
         0.007030993450769516,
         0.006913039640859304,
         0.006934181041504883,
         0.0066829897297841405,
         0.0066396314862885615,
         0.006939289642937985,
         0.007057174674007077,
         0.0065738434422908,
         0.007037993090465898,
         0.007016248742212479,
         0.0066581169300901615,
         0.006884160183243875
        ],
        [
         0.05943394275745014,
         0.057854903523217545,
         0.05873401700095697,
         0.05924517334765428,
         0.05953133221135124,
         0.059717007066038524,
         0.05966914269782893,
         0.05892773703127712,
         0.06009515373689401,
         0.05912172227081927,
         0.05802462228223101,
         0.0598081960161398,
         0.05914143903495429,
         0.05893185388829027,
         0.058795953483937624,
         0.05678001371538871,
         0.05797570352382087,
         0.05857950151450448,
         0.05922265193582355,
         0.0582219036054108,
         0.05927314585098972,
         0.05895788926486071,
         0.05818281136453152,
         0.05992553806440397,
         0.05937067759162807,
         0.05879935593187035,
         0.059660404110206414,
         0.058578434049502595,
         0.05901239742222544,
         0.05950822693283682,
         0.05887638540430502,
         0.060339012497721556,
         0.059591323270329406,
         0.0594509577547962,
         0.059201174234221506,
         0.05922104749683436,
         0.058670306142855,
         0.05790589594995821,
         0.05848316466072937,
         0.05952487872647388,
         0.058237380251385175,
         0.05947580032486033,
         0.058738602434176126,
         0.059275058932699166,
         0.05845583464901943,
         0.059218724778333266,
         0.06100527979675439,
         0.05853089237851756,
         0.0606609471142292,
         0.05971662382075152,
         0.059124989410886515,
         0.058628537619559024,
         0.05817663255933817,
         0.05953701239611421,
         0.059309005918731166,
         0.05853094741121515,
         0.05786178247737033,
         0.058129533943901586,
         0.06003592544319955,
         0.0598261176741549,
         0.05978001864602814,
         0.05942427935441593,
         0.05893043544772383,
         0.05917803632313168,
         0.059378661312066115,
         0.05965846379033544,
         0.05874821521922365,
         0.05986188337593883,
         0.05992005479993758,
         0.05981009690599008,
         0.05835321783874329,
         0.059361983671203836,
         0.05882561784963329,
         0.05996876001938597,
         0.058036821628255506,
         0.05879759419612683,
         0.05928013122991308,
         0.05962153294353516,
         0.05981565404731732,
         0.05808611245608175,
         0.05934819385602877,
         0.05921520785029445,
         0.059792127762618774,
         0.05826775717561121,
         0.059158278193760225,
         0.05890545544105691,
         0.058806042428817845,
         0.05974032296859599,
         0.06007243994042858,
         0.060004722883368465,
         0.06022543262980588,
         0.05981373451892045,
         0.05907532051447537,
         0.05957570935708362,
         0.0604381434280764,
         0.05829676951874386,
         0.06015215168235364,
         0.06042546657966329,
         0.05789742260784298,
         0.05994431946620152
        ],
        [
         9.152827184647322,
         8.909655142575502,
         9.045038618147373,
         9.12375669553876,
         9.167825160548091,
         9.196419088169932,
         9.189047975465655,
         9.074871502816677,
         9.254653675481677,
         9.104745229706168,
         8.935791831463575,
         9.210462186485529,
         9.107781611382961,
         9.075505498796701,
         9.054576836526394,
         8.744122112169862,
         8.928258342668414,
         9.02124323323369,
         9.120288398116827,
         8.966173155233264,
         9.128064461052418,
         9.07951494678855,
         8.960152950137854,
         9.228532861918211,
         9.143084349110723,
         9.055100813508034,
         9.187702232971787,
         9.0210788436234,
         9.087909203022718,
         9.16426694765687,
         9.066963352262974,
         9.29220792464912,
         9.177063783630729,
         9.155447494238615,
         9.116980832070112,
         9.120041314512491,
         9.03522714599967,
         8.917507976293564,
         9.006407357752323,
         9.166831323876977,
         8.968556558713317,
         9.159273250028491,
         9.045744774863124,
         9.128359075635672,
         9.002198535948992,
         9.119683615863323,
         9.394813088700175,
         9.013757426291704,
         9.341785855591297,
         9.196360068395734,
         9.105248369276524,
         9.02879479341209,
         8.959201414138079,
         9.168699909001589,
         9.1335869114846,
         9.013765901327133,
         8.91071450151503,
         8.951948227360845,
         9.24553251825273,
         9.213222121819854,
         9.206122871488333,
         9.151339020580053,
         9.07528705894947,
         9.113417593762279,
         9.144313842058182,
         9.187403423711658,
         9.047225143760443,
         9.21873003989458,
         9.227688439190388,
         9.210754923522472,
         8.986395547166467,
         9.14174548536539,
         9.059145148843527,
         9.23518904298544,
         8.937670530751348,
         9.054829506203532,
         9.129140209406614,
         9.181716073304415,
         9.211610723286867,
         8.94526131823659,
         9.13962185382843,
         9.119142008945346,
         9.207987675443292,
         8.973234605044127,
         9.110374841839075,
         9.071440137922764,
         9.056130534037948,
         9.200009737163782,
         9.251155750826001,
         9.240727324038744,
         9.274716624990106,
         9.211315115913749,
         9.097599359229207,
         9.174659240990877,
         9.307474087923765,
         8.977702505886555,
         9.26343135908246,
         9.305521853268147,
         8.916203081607819,
         9.231425197795033
        ],
        [
         1.020249190130805,
         1.0089243561286854,
         1.0142043735235762,
         1.0301310139337725,
         1.0343615139975222,
         1.021200678899957,
         1.0108058861146525,
         1.0309631362530756,
         1.0443209838647778,
         1.023349834877886,
         1.0229404323115046,
         1.029290257768917,
         1.0166486129047947,
         1.0260882082178078,
         1.014732377400178,
         0.9984107307391431,
         1.0012907465081795,
         1.0246633549247735,
         1.0270354373249417,
         1.0081063890452706,
         1.031644940078226,
         1.0242922233968186,
         1.0144091361685867,
         1.023278187634837,
         1.030337877678328,
         1.0164222883463552,
         1.0275075412325338,
         1.0172547721104217,
         1.0261671188424473,
         1.0205551715843648,
         1.0153386323842237,
         1.0335815393416519,
         1.0348506046180401,
         1.0214189985144229,
         1.030762800191239,
         1.0299105399756956,
         1.0234138465208655,
         1.0017723938715681,
         1.0232535954316146,
         1.0286382767788336,
         1.0137999879423196,
         1.0443350109177392,
         1.0256593255030046,
         1.0187277202864704,
         1.009876295794663,
         1.0289406807359422,
         1.037728353268459,
         1.0240508516739761,
         1.0372691948476127,
         1.0402778914323312,
         1.0303452778078244,
         1.0245199006403356,
         1.0032034155296305,
         1.031446234146092,
         1.0285845831022276,
         1.0235033022063291,
         1.017635755493074,
         1.015756540049364,
         1.0403137362503534,
         1.0274284401867566,
         1.033144659941656,
         1.0302483223200354,
         1.030661600377812,
         1.031257661880235,
         1.0206070777311467,
         1.0287423545479129,
         1.029191928768314,
         1.0308979911090157,
         1.0372362097185925,
         1.0383676643931412,
         1.024489373023083,
         1.017982987202229,
         1.0249610460446403,
         1.0297676144651249,
         1.0220286752997974,
         1.030818559545771,
         1.0277765768485017,
         1.0202633335787095,
         1.021554715519684,
         1.0202410432943965,
         1.0388798261497785,
         1.025826890733329,
         1.0286921165947083,
         1.0144283575399158,
         1.0258791851958307,
         1.0186994693044922,
         1.0284652944673214,
         1.0273055820491817,
         1.040563785367579,
         1.0317984806600236,
         1.033374995048628,
         1.0144852972748089,
         1.0111890272784998,
         1.0337555828204505,
         1.0424993524204655,
         1.0061669295463767,
         1.0410816182854006,
         1.03947212867913,
         1.0125956780639964,
         1.02964103852729
        ]
       ],
       "encoder": "json",
       "name": "ABC_GAN_4 Metrics",
       "version": 1
      }
     },
     "metadata": {
      "scrapbook": {
       "data": true,
       "display": false,
       "name": "ABC_GAN_4 Metrics"
      }
     },
     "output_type": "display_data"
    },
    {
     "name": "stdout",
     "output_type": "stream",
     "text": [
      "MAE\n",
      "0.05916813216559202\n"
     ]
    }
   ],
   "source": [
    "ABC_GAN4_metrics=ABC_train_test2.test_generator(gen4,test_data,prior_model,variance,bias,\"3\",device)\n",
    "sb.glue(\"ABC_GAN_4 Metrics\",ABC_GAN4_metrics)\n",
    "\n",
    "print(\"MAE\")\n",
    "print(mean(ABC_GAN4_metrics[1]))"
   ]
  },
  {
   "cell_type": "code",
   "execution_count": 26,
   "id": "4b4b51e2",
   "metadata": {
    "execution": {
     "iopub.execute_input": "2022-07-25T14:19:41.208738Z",
     "iopub.status.busy": "2022-07-25T14:19:41.207773Z",
     "iopub.status.idle": "2022-07-25T14:19:45.126349Z",
     "shell.execute_reply": "2022-07-25T14:19:45.124440Z"
    },
    "id": "c8e46b48",
    "papermill": {
     "duration": 3.98113,
     "end_time": "2022-07-25T14:19:45.132305",
     "exception": false,
     "start_time": "2022-07-25T14:19:41.151175",
     "status": "completed"
    },
    "tags": []
   },
   "outputs": [
    {
     "data": {
      "image/png": "[encoded data removed]",
      "text/plain": [
       "<Figure size 432x288 with 1 Axes>"
      ]
     },
     "metadata": {
      "needs_background": "light"
     },
     "output_type": "display_data"
    },
    {
     "data": {
      "image/png": "[encoded data removed]",
      "text/plain": [
       "<Figure size 432x288 with 1 Axes>"
      ]
     },
     "metadata": {
      "needs_background": "light"
     },
     "output_type": "display_data"
    },
    {
     "data": {
      "image/png": "[encoded data removed]",
      "text/plain": [
       "<Figure size 432x288 with 1 Axes>"
      ]
     },
     "metadata": {
      "needs_background": "light"
     },
     "output_type": "display_data"
    },
    {
     "data": {
      "image/png": "[encoded data removed]",
      "text/plain": [
       "<Figure size 432x288 with 1 Axes>"
      ]
     },
     "metadata": {
      "needs_background": "light"
     },
     "output_type": "display_data"
    }
   ],
   "source": [
    "sanityChecks.discProbVsError(train_data,disc4,device)\n",
    "sanityChecks.discProbVsError(test_data,disc4,device)"
   ]
  },
  {
   "cell_type": "markdown",
   "id": "a5bd74c3",
   "metadata": {
    "id": "a5bd74c3",
    "papermill": {
     "duration": 0.162767,
     "end_time": "2022-07-25T14:19:45.375202",
     "exception": false,
     "start_time": "2022-07-25T14:19:45.212435",
     "status": "completed"
    },
    "tags": []
   },
   "source": [
    "## Skip Connection Model Analysis - ABC-GAN "
   ]
  },
  {
   "cell_type": "markdown",
   "id": "5744a8bf",
   "metadata": {
    "id": "5744a8bf",
    "papermill": {
     "duration": 0.208257,
     "end_time": "2022-07-25T14:19:45.739867",
     "exception": false,
     "start_time": "2022-07-25T14:19:45.531610",
     "status": "completed"
    },
    "tags": []
   },
   "source": [
    "### Weight Analysis \n",
    "\n",
    "Study the weights of the skip connection layer\n",
    "\n",
    "Equation of the skip connection is \n",
    "\n",
    "$output = y_{gan} * w + y_{abc} * (1-w)$"
   ]
  },
  {
   "cell_type": "code",
   "execution_count": 27,
   "id": "52c31dea",
   "metadata": {
    "execution": {
     "iopub.execute_input": "2022-07-25T14:19:46.111481Z",
     "iopub.status.busy": "2022-07-25T14:19:46.110765Z",
     "iopub.status.idle": "2022-07-25T14:19:46.193413Z",
     "shell.execute_reply": "2022-07-25T14:19:46.191535Z"
    },
    "id": "52c31dea",
    "papermill": {
     "duration": 0.213593,
     "end_time": "2022-07-25T14:19:46.202816",
     "exception": false,
     "start_time": "2022-07-25T14:19:45.989223",
     "status": "completed"
    },
    "tags": []
   },
   "outputs": [
    {
     "name": "stdout",
     "output_type": "stream",
     "text": [
      "Weight of the node at skip connection\n",
      "Parameter containing:\n",
      "tensor([[0.0451]], requires_grad=True)\n"
     ]
    },
    {
     "data": {
      "application/scrapbook.scrap.json+json": {
       "data": 0.045069511979818344,
       "encoder": "json",
       "name": "Skip Connection Weight",
       "version": 1
      }
     },
     "metadata": {
      "scrapbook": {
       "data": true,
       "display": false,
       "name": "Skip Connection Weight"
      }
     },
     "output_type": "display_data"
    }
   ],
   "source": [
    "print(\"Weight of the node at skip connection\")\n",
    "for name,param in gen3.named_parameters():\n",
    "    if(name == \"skipNode.weight\"):\n",
    "        print(param)\n",
    "        sb.glue(\"Skip Connection Weight\",param.item())"
   ]
  },
  {
   "cell_type": "markdown",
   "id": "e9f7fbb4",
   "metadata": {
    "id": "a5bd74c3",
    "papermill": {
     "duration": 0.185638,
     "end_time": "2022-07-25T14:19:46.519504",
     "exception": false,
     "start_time": "2022-07-25T14:19:46.333866",
     "status": "completed"
    },
    "tags": []
   },
   "source": [
    "## skipGAN Model Analysis (TabNet Generator) "
   ]
  },
  {
   "cell_type": "markdown",
   "id": "1e30a17c",
   "metadata": {
    "id": "5744a8bf",
    "papermill": {
     "duration": 0.139321,
     "end_time": "2022-07-25T14:19:46.878015",
     "exception": false,
     "start_time": "2022-07-25T14:19:46.738694",
     "status": "completed"
    },
    "tags": []
   },
   "source": [
    "### Weight Analysis \n",
    "\n",
    "Study the weights of the skip connection layer\n",
    "\n",
    "Equation of the skip connection is \n",
    "\n",
    "$output = y_{gan} * w + y_{abc} * (1-w)$"
   ]
  },
  {
   "cell_type": "code",
   "execution_count": 28,
   "id": "55eadc30",
   "metadata": {
    "execution": {
     "iopub.execute_input": "2022-07-25T14:19:47.040880Z",
     "iopub.status.busy": "2022-07-25T14:19:47.039754Z",
     "iopub.status.idle": "2022-07-25T14:19:47.080911Z",
     "shell.execute_reply": "2022-07-25T14:19:47.079617Z"
    },
    "id": "52c31dea",
    "papermill": {
     "duration": 0.175422,
     "end_time": "2022-07-25T14:19:47.125604",
     "exception": false,
     "start_time": "2022-07-25T14:19:46.950182",
     "status": "completed"
    },
    "tags": []
   },
   "outputs": [
    {
     "name": "stdout",
     "output_type": "stream",
     "text": [
      "Weight of the node at skip connection\n",
      "Parameter containing:\n",
      "tensor([[0.0274]], requires_grad=True)\n"
     ]
    },
    {
     "data": {
      "application/scrapbook.scrap.json+json": {
       "data": 0.027391953393816948,
       "encoder": "json",
       "name": "Skip Connection Weight",
       "version": 1
      }
     },
     "metadata": {
      "scrapbook": {
       "data": true,
       "display": false,
       "name": "Skip Connection Weight"
      }
     },
     "output_type": "display_data"
    }
   ],
   "source": [
    "print(\"Weight of the node at skip connection\")\n",
    "for name,param in gen4.named_parameters():\n",
    "    if(name == \"skipNode.weight\"):\n",
    "        print(param)\n",
    "        sb.glue(\"Skip Connection Weight\",param.item())"
   ]
  }
 ],
 "metadata": {
  "colab": {
   "collapsed_sections": [],
   "name": "ABC_GAN_Model-Catboost_Pre-gen.ipynb",
   "provenance": []
  },
  "interpreter": {
   "hash": "31f2aee4e71d21fbe5cf8b01ff0e069b9275f58929596ceb00d14d90e3e16cd6"
  },
  "kernelspec": {
   "display_name": "Python 3 (ipykernel)",
   "language": "python",
   "name": "python3"
  },
  "language_info": {
   "codemirror_mode": {
    "name": "ipython",
    "version": 3
   },
   "file_extension": ".py",
   "mimetype": "text/x-python",
   "name": "python",
   "nbconvert_exporter": "python",
   "pygments_lexer": "ipython3",
   "version": "3.8.9"
  },
  "papermill": {
   "default_parameters": {},
   "duration": 3709.926461,
   "end_time": "2022-07-25T14:19:49.900133",
   "environment_variables": {},
   "exception": null,
   "input_path": "ABC_GAN-TabNet.ipynb",
   "output_path": "./ABC_GAN_TabNet/ABC-GAN_output_1_11.ipynb",
   "parameters": {
    "bias": 0,
    "variance": 0.01
   },
   "start_time": "2022-07-25T13:17:59.973672",
   "version": "2.3.3"
  }
 },
 "nbformat": 4,
 "nbformat_minor": 5
}
