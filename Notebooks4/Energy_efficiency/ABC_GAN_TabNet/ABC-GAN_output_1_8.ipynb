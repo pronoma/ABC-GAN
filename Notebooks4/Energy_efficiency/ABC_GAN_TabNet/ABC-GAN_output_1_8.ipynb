{
 "cells": [
  {
   "cell_type": "markdown",
   "id": "622780e6",
   "metadata": {
    "id": "622780e6",
    "papermill": {
     "duration": 0.007467,
     "end_time": "2022-07-25T10:11:46.799541",
     "exception": false,
     "start_time": "2022-07-25T10:11:46.792074",
     "status": "completed"
    },
    "tags": []
   },
   "source": [
    "## Import Libraries "
   ]
  },
  {
   "cell_type": "code",
   "execution_count": 1,
   "id": "a62397e3",
   "metadata": {
    "execution": {
     "iopub.execute_input": "2022-07-25T10:11:46.816299Z",
     "iopub.status.busy": "2022-07-25T10:11:46.815484Z",
     "iopub.status.idle": "2022-07-25T10:11:46.827947Z",
     "shell.execute_reply": "2022-07-25T10:11:46.827173Z"
    },
    "id": "a62397e3",
    "papermill": {
     "duration": 0.02467,
     "end_time": "2022-07-25T10:11:46.831367",
     "exception": false,
     "start_time": "2022-07-25T10:11:46.806697",
     "status": "completed"
    },
    "tags": []
   },
   "outputs": [],
   "source": [
    "import warnings\n",
    "import sys\n",
    "sys.path.insert(0, '../../src')\n",
    "warnings.filterwarnings('ignore')"
   ]
  },
  {
   "cell_type": "code",
   "execution_count": 2,
   "id": "d6a4e155",
   "metadata": {
    "execution": {
     "iopub.execute_input": "2022-07-25T10:11:46.850754Z",
     "iopub.status.busy": "2022-07-25T10:11:46.850399Z",
     "iopub.status.idle": "2022-07-25T10:11:53.081133Z",
     "shell.execute_reply": "2022-07-25T10:11:53.079744Z"
    },
    "id": "d6a4e155",
    "papermill": {
     "duration": 6.244543,
     "end_time": "2022-07-25T10:11:53.083970",
     "exception": false,
     "start_time": "2022-07-25T10:11:46.839427",
     "status": "completed"
    },
    "tags": []
   },
   "outputs": [],
   "source": [
    "import ABC_train_test2\n",
    "import energyefficiencyDataset\n",
    "import network\n",
    "import dataset\n",
    "import sanityChecks\n",
    "import torch \n",
    "import scrapbook as sb\n",
    "from statistics import mean \n",
    "import catboost as ctb \n",
    "from sklearn.model_selection import train_test_split\n",
    "from sklearn.metrics import mean_squared_error,mean_absolute_error\n",
    "import numpy as np\n",
    "from pytorch_tabnet.tab_model import TabNetRegressor"
   ]
  },
  {
   "cell_type": "markdown",
   "id": "2fa5b0f7",
   "metadata": {
    "id": "2fa5b0f7",
    "papermill": {
     "duration": 0.007049,
     "end_time": "2022-07-25T10:11:53.099205",
     "exception": false,
     "start_time": "2022-07-25T10:11:53.092156",
     "status": "completed"
    },
    "tags": []
   },
   "source": [
    "## Parameters "
   ]
  },
  {
   "cell_type": "code",
   "execution_count": 3,
   "id": "783186fb",
   "metadata": {
    "execution": {
     "iopub.execute_input": "2022-07-25T10:11:53.114603Z",
     "iopub.status.busy": "2022-07-25T10:11:53.113933Z",
     "iopub.status.idle": "2022-07-25T10:11:53.118619Z",
     "shell.execute_reply": "2022-07-25T10:11:53.117451Z"
    },
    "id": "783186fb",
    "papermill": {
     "duration": 0.015421,
     "end_time": "2022-07-25T10:11:53.121529",
     "exception": false,
     "start_time": "2022-07-25T10:11:53.106108",
     "status": "completed"
    },
    "tags": [
     "parameters"
    ]
   },
   "outputs": [],
   "source": [
    "variance = 1\n",
    "bias = 1 "
   ]
  },
  {
   "cell_type": "code",
   "execution_count": 4,
   "id": "c4306fee",
   "metadata": {
    "execution": {
     "iopub.execute_input": "2022-07-25T10:11:53.138219Z",
     "iopub.status.busy": "2022-07-25T10:11:53.137847Z",
     "iopub.status.idle": "2022-07-25T10:11:53.143423Z",
     "shell.execute_reply": "2022-07-25T10:11:53.142381Z"
    },
    "papermill": {
     "duration": 0.018163,
     "end_time": "2022-07-25T10:11:53.146104",
     "exception": false,
     "start_time": "2022-07-25T10:11:53.127941",
     "status": "completed"
    },
    "tags": [
     "injected-parameters"
    ]
   },
   "outputs": [],
   "source": [
    "# Parameters\n",
    "variance = 0.01\n",
    "bias = 0.01\n"
   ]
  },
  {
   "cell_type": "markdown",
   "id": "391cdbfd",
   "metadata": {
    "id": "391cdbfd",
    "papermill": {
     "duration": 0.0076,
     "end_time": "2022-07-25T10:11:53.160585",
     "exception": false,
     "start_time": "2022-07-25T10:11:53.152985",
     "status": "completed"
    },
    "tags": []
   },
   "source": [
    "## Dataset \n"
   ]
  },
  {
   "cell_type": "code",
   "execution_count": 5,
   "id": "5b51f161",
   "metadata": {
    "execution": {
     "iopub.execute_input": "2022-07-25T10:11:53.178468Z",
     "iopub.status.busy": "2022-07-25T10:11:53.178057Z",
     "iopub.status.idle": "2022-07-25T10:11:53.183340Z",
     "shell.execute_reply": "2022-07-25T10:11:53.181908Z"
    },
    "id": "5b51f161",
    "papermill": {
     "duration": 0.018476,
     "end_time": "2022-07-25T10:11:53.186655",
     "exception": false,
     "start_time": "2022-07-25T10:11:53.168179",
     "status": "completed"
    },
    "tags": []
   },
   "outputs": [],
   "source": [
    "#Parameters \n",
    "n_features = 8\n",
    "n_samples= 768\n",
    "n_target = 1 "
   ]
  },
  {
   "cell_type": "code",
   "execution_count": 6,
   "id": "5d6eced4",
   "metadata": {
    "execution": {
     "iopub.execute_input": "2022-07-25T10:11:53.204527Z",
     "iopub.status.busy": "2022-07-25T10:11:53.204183Z",
     "iopub.status.idle": "2022-07-25T10:11:53.821494Z",
     "shell.execute_reply": "2022-07-25T10:11:53.820417Z"
    },
    "id": "5d6eced4",
    "papermill": {
     "duration": 0.629356,
     "end_time": "2022-07-25T10:11:53.824313",
     "exception": false,
     "start_time": "2022-07-25T10:11:53.194957",
     "status": "completed"
    },
    "tags": []
   },
   "outputs": [
    {
     "name": "stdout",
     "output_type": "stream",
     "text": [
      "     X1     X2     X3      X4   X5  X6   X7  X8     Y1     Y2\n",
      "0  0.98  514.5  294.0  110.25  7.0   2  0.0   0  15.55  21.33\n",
      "1  0.98  514.5  294.0  110.25  7.0   3  0.0   0  15.55  21.33\n",
      "2  0.98  514.5  294.0  110.25  7.0   4  0.0   0  15.55  21.33\n",
      "3  0.98  514.5  294.0  110.25  7.0   5  0.0   0  15.55  21.33\n",
      "4  0.90  563.5  318.5  122.50  7.0   2  0.0   0  20.84  28.28\n"
     ]
    }
   ],
   "source": [
    "X,Y = energyefficiencyDataset.energy_data()"
   ]
  },
  {
   "cell_type": "code",
   "execution_count": 7,
   "id": "fe007438",
   "metadata": {
    "execution": {
     "iopub.execute_input": "2022-07-25T10:11:53.841046Z",
     "iopub.status.busy": "2022-07-25T10:11:53.840652Z",
     "iopub.status.idle": "2022-07-25T10:11:53.848270Z",
     "shell.execute_reply": "2022-07-25T10:11:53.846381Z"
    },
    "id": "fe007438",
    "papermill": {
     "duration": 0.01951,
     "end_time": "2022-07-25T10:11:53.851052",
     "exception": false,
     "start_time": "2022-07-25T10:11:53.831542",
     "status": "completed"
    },
    "tags": []
   },
   "outputs": [],
   "source": [
    "#Train test split for dataset \n",
    "X_train,X_test,Y_train,Y_test = train_test_split(X,Y,test_size = 0.2)\n",
    "train_data = dataset.CustomDataset(X_train,Y_train)\n",
    "test_data = dataset.CustomDataset(X_test,Y_test)\n"
   ]
  },
  {
   "cell_type": "markdown",
   "id": "a9a1af34",
   "metadata": {
    "id": "a9a1af34",
    "papermill": {
     "duration": 0.007442,
     "end_time": "2022-07-25T10:11:53.866415",
     "exception": false,
     "start_time": "2022-07-25T10:11:53.858973",
     "status": "completed"
    },
    "tags": []
   },
   "source": [
    "## Training Parameters "
   ]
  },
  {
   "cell_type": "code",
   "execution_count": 8,
   "id": "952b7fc8",
   "metadata": {
    "execution": {
     "iopub.execute_input": "2022-07-25T10:11:53.884926Z",
     "iopub.status.busy": "2022-07-25T10:11:53.883983Z",
     "iopub.status.idle": "2022-07-25T10:11:53.890033Z",
     "shell.execute_reply": "2022-07-25T10:11:53.888867Z"
    },
    "id": "952b7fc8",
    "papermill": {
     "duration": 0.018602,
     "end_time": "2022-07-25T10:11:53.893397",
     "exception": false,
     "start_time": "2022-07-25T10:11:53.874795",
     "status": "completed"
    },
    "tags": []
   },
   "outputs": [],
   "source": [
    "batch_size = 32\n",
    "n_epochs = 1000\n",
    "#Select the device \n",
    "device = torch.device('cuda' if torch.cuda.is_available() else 'cpu')"
   ]
  },
  {
   "cell_type": "markdown",
   "id": "a95e1600",
   "metadata": {
    "id": "a95e1600",
    "papermill": {
     "duration": 0.007622,
     "end_time": "2022-07-25T10:11:53.908254",
     "exception": false,
     "start_time": "2022-07-25T10:11:53.900632",
     "status": "completed"
    },
    "tags": []
   },
   "source": [
    "# ABC Pre-generator Model \n",
    "\n",
    "1. The catboost model is used as a pre-generator model for the ABC-GAN. \n",
    "2. The model is first trained on the entire dataset \n",
    "3. It generats X,Y pairs and we add some Gaussian noise with mean 0 and variance 1 to it which is then feed as input to the generator.\n"
   ]
  },
  {
   "cell_type": "code",
   "execution_count": 9,
   "id": "ff8ce7bd",
   "metadata": {
    "execution": {
     "iopub.execute_input": "2022-07-25T10:11:53.926581Z",
     "iopub.status.busy": "2022-07-25T10:11:53.925623Z",
     "iopub.status.idle": "2022-07-25T10:14:02.798344Z",
     "shell.execute_reply": "2022-07-25T10:14:02.797433Z"
    },
    "id": "ff8ce7bd",
    "papermill": {
     "duration": 128.884371,
     "end_time": "2022-07-25T10:14:02.800717",
     "exception": false,
     "start_time": "2022-07-25T10:11:53.916346",
     "status": "completed"
    },
    "tags": []
   },
   "outputs": [
    {
     "name": "stdout",
     "output_type": "stream",
     "text": [
      "Device used : cpu\n"
     ]
    },
    {
     "name": "stdout",
     "output_type": "stream",
     "text": [
      "epoch 0  | loss: 0.98433 | train_mse: 0.62165 | train_mae: 0.62437 |  0:00:00s\n"
     ]
    },
    {
     "name": "stdout",
     "output_type": "stream",
     "text": [
      "epoch 1  | loss: 0.29433 | train_mse: 0.29508 | train_mae: 0.39667 |  0:00:01s\n"
     ]
    },
    {
     "name": "stdout",
     "output_type": "stream",
     "text": [
      "epoch 2  | loss: 0.20986 | train_mse: 0.40693 | train_mae: 0.39217 |  0:00:02s\n"
     ]
    },
    {
     "name": "stdout",
     "output_type": "stream",
     "text": [
      "epoch 3  | loss: 0.19086 | train_mse: 0.16158 | train_mae: 0.30931 |  0:00:02s\n"
     ]
    },
    {
     "name": "stdout",
     "output_type": "stream",
     "text": [
      "epoch 4  | loss: 0.17321 | train_mse: 0.11714 | train_mae: 0.28107 |  0:00:03s\n"
     ]
    },
    {
     "name": "stdout",
     "output_type": "stream",
     "text": [
      "epoch 5  | loss: 0.13544 | train_mse: 0.09544 | train_mae: 0.24795 |  0:00:04s\n"
     ]
    },
    {
     "name": "stdout",
     "output_type": "stream",
     "text": [
      "epoch 6  | loss: 0.13651 | train_mse: 0.11177 | train_mae: 0.23525 |  0:00:04s\n"
     ]
    },
    {
     "name": "stdout",
     "output_type": "stream",
     "text": [
      "epoch 7  | loss: 0.12075 | train_mse: 0.07283 | train_mae: 0.20304 |  0:00:05s\n"
     ]
    },
    {
     "name": "stdout",
     "output_type": "stream",
     "text": [
      "epoch 8  | loss: 0.10284 | train_mse: 0.06633 | train_mae: 0.19677 |  0:00:05s\n"
     ]
    },
    {
     "name": "stdout",
     "output_type": "stream",
     "text": [
      "epoch 9  | loss: 0.09583 | train_mse: 0.06783 | train_mae: 0.19309 |  0:00:06s\n"
     ]
    },
    {
     "name": "stdout",
     "output_type": "stream",
     "text": [
      "epoch 10 | loss: 0.12412 | train_mse: 0.06037 | train_mae: 0.1936  |  0:00:07s\n"
     ]
    },
    {
     "name": "stdout",
     "output_type": "stream",
     "text": [
      "epoch 11 | loss: 0.10402 | train_mse: 0.06808 | train_mae: 0.19268 |  0:00:07s\n"
     ]
    },
    {
     "name": "stdout",
     "output_type": "stream",
     "text": [
      "epoch 12 | loss: 0.10048 | train_mse: 0.05099 | train_mae: 0.17406 |  0:00:08s\n"
     ]
    },
    {
     "name": "stdout",
     "output_type": "stream",
     "text": [
      "epoch 13 | loss: 0.09356 | train_mse: 0.06078 | train_mae: 0.18168 |  0:00:09s\n"
     ]
    },
    {
     "name": "stdout",
     "output_type": "stream",
     "text": [
      "epoch 14 | loss: 0.0908  | train_mse: 0.07534 | train_mae: 0.20793 |  0:00:09s\n"
     ]
    },
    {
     "name": "stdout",
     "output_type": "stream",
     "text": [
      "epoch 15 | loss: 0.08965 | train_mse: 0.09055 | train_mae: 0.21555 |  0:00:10s\n"
     ]
    },
    {
     "name": "stdout",
     "output_type": "stream",
     "text": [
      "epoch 16 | loss: 0.10104 | train_mse: 0.10426 | train_mae: 0.23776 |  0:00:10s\n"
     ]
    },
    {
     "name": "stdout",
     "output_type": "stream",
     "text": [
      "epoch 17 | loss: 0.0873  | train_mse: 0.05154 | train_mae: 0.17339 |  0:00:11s\n"
     ]
    },
    {
     "name": "stdout",
     "output_type": "stream",
     "text": [
      "epoch 18 | loss: 0.08767 | train_mse: 0.05371 | train_mae: 0.15807 |  0:00:12s\n"
     ]
    },
    {
     "name": "stdout",
     "output_type": "stream",
     "text": [
      "epoch 19 | loss: 0.08963 | train_mse: 0.03201 | train_mae: 0.13116 |  0:00:12s\n"
     ]
    },
    {
     "name": "stdout",
     "output_type": "stream",
     "text": [
      "epoch 20 | loss: 0.07057 | train_mse: 0.07847 | train_mae: 0.20051 |  0:00:13s\n"
     ]
    },
    {
     "name": "stdout",
     "output_type": "stream",
     "text": [
      "epoch 21 | loss: 0.06704 | train_mse: 0.04017 | train_mae: 0.16155 |  0:00:13s\n"
     ]
    },
    {
     "name": "stdout",
     "output_type": "stream",
     "text": [
      "epoch 22 | loss: 0.08241 | train_mse: 0.04172 | train_mae: 0.15355 |  0:00:14s\n"
     ]
    },
    {
     "name": "stdout",
     "output_type": "stream",
     "text": [
      "epoch 23 | loss: 0.06755 | train_mse: 0.03729 | train_mae: 0.14022 |  0:00:14s\n"
     ]
    },
    {
     "name": "stdout",
     "output_type": "stream",
     "text": [
      "epoch 24 | loss: 0.06891 | train_mse: 0.02808 | train_mae: 0.12547 |  0:00:15s\n"
     ]
    },
    {
     "name": "stdout",
     "output_type": "stream",
     "text": [
      "epoch 25 | loss: 0.08691 | train_mse: 0.02832 | train_mae: 0.12743 |  0:00:15s\n"
     ]
    },
    {
     "name": "stdout",
     "output_type": "stream",
     "text": [
      "epoch 26 | loss: 0.07246 | train_mse: 0.02828 | train_mae: 0.12558 |  0:00:16s\n"
     ]
    },
    {
     "name": "stdout",
     "output_type": "stream",
     "text": [
      "epoch 27 | loss: 0.06021 | train_mse: 0.02404 | train_mae: 0.1166  |  0:00:17s\n"
     ]
    },
    {
     "name": "stdout",
     "output_type": "stream",
     "text": [
      "epoch 28 | loss: 0.064   | train_mse: 0.05699 | train_mae: 0.18506 |  0:00:17s\n"
     ]
    },
    {
     "name": "stdout",
     "output_type": "stream",
     "text": [
      "epoch 29 | loss: 0.06971 | train_mse: 0.02836 | train_mae: 0.13468 |  0:00:18s\n"
     ]
    },
    {
     "name": "stdout",
     "output_type": "stream",
     "text": [
      "epoch 30 | loss: 0.08325 | train_mse: 0.03132 | train_mae: 0.14808 |  0:00:18s\n"
     ]
    },
    {
     "name": "stdout",
     "output_type": "stream",
     "text": [
      "epoch 31 | loss: 0.06099 | train_mse: 0.02668 | train_mae: 0.13056 |  0:00:19s\n"
     ]
    },
    {
     "name": "stdout",
     "output_type": "stream",
     "text": [
      "epoch 32 | loss: 0.04933 | train_mse: 0.0321  | train_mae: 0.14183 |  0:00:19s\n"
     ]
    },
    {
     "name": "stdout",
     "output_type": "stream",
     "text": [
      "epoch 33 | loss: 0.04552 | train_mse: 0.02729 | train_mae: 0.12262 |  0:00:20s\n"
     ]
    },
    {
     "name": "stdout",
     "output_type": "stream",
     "text": [
      "epoch 34 | loss: 0.05221 | train_mse: 0.02105 | train_mae: 0.11769 |  0:00:20s\n"
     ]
    },
    {
     "name": "stdout",
     "output_type": "stream",
     "text": [
      "epoch 35 | loss: 0.07685 | train_mse: 0.01843 | train_mae: 0.10729 |  0:00:21s\n"
     ]
    },
    {
     "name": "stdout",
     "output_type": "stream",
     "text": [
      "epoch 36 | loss: 0.06514 | train_mse: 0.03132 | train_mae: 0.14801 |  0:00:22s\n"
     ]
    },
    {
     "name": "stdout",
     "output_type": "stream",
     "text": [
      "epoch 37 | loss: 0.05373 | train_mse: 0.02424 | train_mae: 0.12621 |  0:00:22s\n"
     ]
    },
    {
     "name": "stdout",
     "output_type": "stream",
     "text": [
      "epoch 38 | loss: 0.05539 | train_mse: 0.06569 | train_mae: 0.20452 |  0:00:23s\n"
     ]
    },
    {
     "name": "stdout",
     "output_type": "stream",
     "text": [
      "epoch 39 | loss: 0.08258 | train_mse: 0.03972 | train_mae: 0.14241 |  0:00:23s\n"
     ]
    },
    {
     "name": "stdout",
     "output_type": "stream",
     "text": [
      "epoch 40 | loss: 0.0684  | train_mse: 0.0307  | train_mae: 0.13317 |  0:00:24s\n"
     ]
    },
    {
     "name": "stdout",
     "output_type": "stream",
     "text": [
      "epoch 41 | loss: 0.07773 | train_mse: 0.02991 | train_mae: 0.12773 |  0:00:24s\n"
     ]
    },
    {
     "name": "stdout",
     "output_type": "stream",
     "text": [
      "epoch 42 | loss: 0.06128 | train_mse: 0.03141 | train_mae: 0.13795 |  0:00:25s\n"
     ]
    },
    {
     "name": "stdout",
     "output_type": "stream",
     "text": [
      "epoch 43 | loss: 0.04997 | train_mse: 0.02477 | train_mae: 0.1153  |  0:00:25s\n"
     ]
    },
    {
     "name": "stdout",
     "output_type": "stream",
     "text": [
      "epoch 44 | loss: 0.05235 | train_mse: 0.02287 | train_mae: 0.11803 |  0:00:26s\n"
     ]
    },
    {
     "name": "stdout",
     "output_type": "stream",
     "text": [
      "epoch 45 | loss: 0.04942 | train_mse: 0.01886 | train_mae: 0.10277 |  0:00:27s\n"
     ]
    },
    {
     "name": "stdout",
     "output_type": "stream",
     "text": [
      "epoch 46 | loss: 0.06465 | train_mse: 0.01854 | train_mae: 0.10592 |  0:00:27s\n"
     ]
    },
    {
     "name": "stdout",
     "output_type": "stream",
     "text": [
      "epoch 47 | loss: 0.0451  | train_mse: 0.02515 | train_mae: 0.1322  |  0:00:28s\n"
     ]
    },
    {
     "name": "stdout",
     "output_type": "stream",
     "text": [
      "epoch 48 | loss: 0.05992 | train_mse: 0.02412 | train_mae: 0.12691 |  0:00:28s\n"
     ]
    },
    {
     "name": "stdout",
     "output_type": "stream",
     "text": [
      "epoch 49 | loss: 0.04033 | train_mse: 0.01752 | train_mae: 0.10082 |  0:00:29s\n"
     ]
    },
    {
     "name": "stdout",
     "output_type": "stream",
     "text": [
      "epoch 50 | loss: 0.04568 | train_mse: 0.02286 | train_mae: 0.11832 |  0:00:29s\n"
     ]
    },
    {
     "name": "stdout",
     "output_type": "stream",
     "text": [
      "epoch 51 | loss: 0.05659 | train_mse: 0.03346 | train_mae: 0.13805 |  0:00:30s\n"
     ]
    },
    {
     "name": "stdout",
     "output_type": "stream",
     "text": [
      "epoch 52 | loss: 0.05638 | train_mse: 0.08517 | train_mae: 0.19678 |  0:00:31s\n"
     ]
    },
    {
     "name": "stdout",
     "output_type": "stream",
     "text": [
      "epoch 53 | loss: 0.05705 | train_mse: 0.05485 | train_mae: 0.17576 |  0:00:31s\n"
     ]
    },
    {
     "name": "stdout",
     "output_type": "stream",
     "text": [
      "epoch 54 | loss: 0.06376 | train_mse: 0.03056 | train_mae: 0.13548 |  0:00:32s\n"
     ]
    },
    {
     "name": "stdout",
     "output_type": "stream",
     "text": [
      "epoch 55 | loss: 0.0455  | train_mse: 0.02163 | train_mae: 0.10601 |  0:00:32s\n"
     ]
    },
    {
     "name": "stdout",
     "output_type": "stream",
     "text": [
      "epoch 56 | loss: 0.05488 | train_mse: 0.01754 | train_mae: 0.09616 |  0:00:33s\n"
     ]
    },
    {
     "name": "stdout",
     "output_type": "stream",
     "text": [
      "epoch 57 | loss: 0.04714 | train_mse: 0.04344 | train_mae: 0.13331 |  0:00:33s\n"
     ]
    },
    {
     "name": "stdout",
     "output_type": "stream",
     "text": [
      "epoch 58 | loss: 0.04916 | train_mse: 0.03942 | train_mae: 0.13554 |  0:00:34s\n"
     ]
    },
    {
     "name": "stdout",
     "output_type": "stream",
     "text": [
      "epoch 59 | loss: 0.04039 | train_mse: 0.02509 | train_mae: 0.11741 |  0:00:35s\n"
     ]
    },
    {
     "name": "stdout",
     "output_type": "stream",
     "text": [
      "epoch 60 | loss: 0.04552 | train_mse: 0.01735 | train_mae: 0.09892 |  0:00:35s\n"
     ]
    },
    {
     "name": "stdout",
     "output_type": "stream",
     "text": [
      "epoch 61 | loss: 0.06156 | train_mse: 0.03236 | train_mae: 0.12439 |  0:00:36s\n"
     ]
    },
    {
     "name": "stdout",
     "output_type": "stream",
     "text": [
      "epoch 62 | loss: 0.05987 | train_mse: 0.05485 | train_mae: 0.17174 |  0:00:36s\n"
     ]
    },
    {
     "name": "stdout",
     "output_type": "stream",
     "text": [
      "epoch 63 | loss: 0.0762  | train_mse: 0.03619 | train_mae: 0.15307 |  0:00:37s\n"
     ]
    },
    {
     "name": "stdout",
     "output_type": "stream",
     "text": [
      "epoch 64 | loss: 0.05747 | train_mse: 0.02348 | train_mae: 0.11378 |  0:00:37s\n"
     ]
    },
    {
     "name": "stdout",
     "output_type": "stream",
     "text": [
      "epoch 65 | loss: 0.05514 | train_mse: 0.03369 | train_mae: 0.13352 |  0:00:38s\n"
     ]
    },
    {
     "name": "stdout",
     "output_type": "stream",
     "text": [
      "epoch 66 | loss: 0.05367 | train_mse: 0.03014 | train_mae: 0.1294  |  0:00:38s\n"
     ]
    },
    {
     "name": "stdout",
     "output_type": "stream",
     "text": [
      "epoch 67 | loss: 0.06092 | train_mse: 0.0263  | train_mae: 0.13154 |  0:00:39s\n"
     ]
    },
    {
     "name": "stdout",
     "output_type": "stream",
     "text": [
      "epoch 68 | loss: 0.06689 | train_mse: 0.02925 | train_mae: 0.12502 |  0:00:40s\n"
     ]
    },
    {
     "name": "stdout",
     "output_type": "stream",
     "text": [
      "epoch 69 | loss: 0.04842 | train_mse: 0.01885 | train_mae: 0.10068 |  0:00:40s\n"
     ]
    },
    {
     "name": "stdout",
     "output_type": "stream",
     "text": [
      "epoch 70 | loss: 0.03554 | train_mse: 0.02316 | train_mae: 0.11857 |  0:00:41s\n"
     ]
    },
    {
     "name": "stdout",
     "output_type": "stream",
     "text": [
      "epoch 71 | loss: 0.05309 | train_mse: 0.02087 | train_mae: 0.10546 |  0:00:41s\n"
     ]
    },
    {
     "name": "stdout",
     "output_type": "stream",
     "text": [
      "epoch 72 | loss: 0.04735 | train_mse: 0.01631 | train_mae: 0.09196 |  0:00:42s\n"
     ]
    },
    {
     "name": "stdout",
     "output_type": "stream",
     "text": [
      "epoch 73 | loss: 0.0452  | train_mse: 0.01962 | train_mae: 0.10188 |  0:00:42s\n"
     ]
    },
    {
     "name": "stdout",
     "output_type": "stream",
     "text": [
      "epoch 74 | loss: 0.0508  | train_mse: 0.02461 | train_mae: 0.10952 |  0:00:43s\n"
     ]
    },
    {
     "name": "stdout",
     "output_type": "stream",
     "text": [
      "epoch 75 | loss: 0.03826 | train_mse: 0.0256  | train_mae: 0.11333 |  0:00:43s\n"
     ]
    },
    {
     "name": "stdout",
     "output_type": "stream",
     "text": [
      "epoch 76 | loss: 0.04323 | train_mse: 0.01548 | train_mae: 0.09047 |  0:00:44s\n"
     ]
    },
    {
     "name": "stdout",
     "output_type": "stream",
     "text": [
      "epoch 77 | loss: 0.03915 | train_mse: 0.01045 | train_mae: 0.07741 |  0:00:45s\n"
     ]
    },
    {
     "name": "stdout",
     "output_type": "stream",
     "text": [
      "epoch 78 | loss: 0.02933 | train_mse: 0.01038 | train_mae: 0.07676 |  0:00:45s\n"
     ]
    },
    {
     "name": "stdout",
     "output_type": "stream",
     "text": [
      "epoch 79 | loss: 0.03757 | train_mse: 0.00917 | train_mae: 0.07253 |  0:00:46s\n"
     ]
    },
    {
     "name": "stdout",
     "output_type": "stream",
     "text": [
      "epoch 80 | loss: 0.03125 | train_mse: 0.01441 | train_mae: 0.08916 |  0:00:46s\n"
     ]
    },
    {
     "name": "stdout",
     "output_type": "stream",
     "text": [
      "epoch 81 | loss: 0.03634 | train_mse: 0.02378 | train_mae: 0.11441 |  0:00:47s\n"
     ]
    },
    {
     "name": "stdout",
     "output_type": "stream",
     "text": [
      "epoch 82 | loss: 0.04603 | train_mse: 0.01521 | train_mae: 0.09398 |  0:00:47s\n"
     ]
    },
    {
     "name": "stdout",
     "output_type": "stream",
     "text": [
      "epoch 83 | loss: 0.04241 | train_mse: 0.01316 | train_mae: 0.08412 |  0:00:48s\n"
     ]
    },
    {
     "name": "stdout",
     "output_type": "stream",
     "text": [
      "epoch 84 | loss: 0.04025 | train_mse: 0.02089 | train_mae: 0.10844 |  0:00:49s\n"
     ]
    },
    {
     "name": "stdout",
     "output_type": "stream",
     "text": [
      "epoch 85 | loss: 0.03409 | train_mse: 0.01741 | train_mae: 0.09676 |  0:00:49s\n"
     ]
    },
    {
     "name": "stdout",
     "output_type": "stream",
     "text": [
      "epoch 86 | loss: 0.02989 | train_mse: 0.01595 | train_mae: 0.09123 |  0:00:50s\n"
     ]
    },
    {
     "name": "stdout",
     "output_type": "stream",
     "text": [
      "epoch 87 | loss: 0.0322  | train_mse: 0.01108 | train_mae: 0.07923 |  0:00:50s\n"
     ]
    },
    {
     "name": "stdout",
     "output_type": "stream",
     "text": [
      "epoch 88 | loss: 0.04587 | train_mse: 0.01223 | train_mae: 0.0774  |  0:00:51s\n"
     ]
    },
    {
     "name": "stdout",
     "output_type": "stream",
     "text": [
      "epoch 89 | loss: 0.02298 | train_mse: 0.00863 | train_mae: 0.06547 |  0:00:51s\n"
     ]
    },
    {
     "name": "stdout",
     "output_type": "stream",
     "text": [
      "epoch 90 | loss: 0.02592 | train_mse: 0.01252 | train_mae: 0.07831 |  0:00:52s\n"
     ]
    },
    {
     "name": "stdout",
     "output_type": "stream",
     "text": [
      "epoch 91 | loss: 0.04545 | train_mse: 0.01052 | train_mae: 0.07688 |  0:00:53s\n"
     ]
    },
    {
     "name": "stdout",
     "output_type": "stream",
     "text": [
      "epoch 92 | loss: 0.03362 | train_mse: 0.01442 | train_mae: 0.08787 |  0:00:53s\n"
     ]
    },
    {
     "name": "stdout",
     "output_type": "stream",
     "text": [
      "epoch 93 | loss: 0.03504 | train_mse: 0.01695 | train_mae: 0.09678 |  0:00:54s\n"
     ]
    },
    {
     "name": "stdout",
     "output_type": "stream",
     "text": [
      "epoch 94 | loss: 0.03497 | train_mse: 0.00898 | train_mae: 0.06938 |  0:00:54s\n"
     ]
    },
    {
     "name": "stdout",
     "output_type": "stream",
     "text": [
      "epoch 95 | loss: 0.02358 | train_mse: 0.01264 | train_mae: 0.08069 |  0:00:55s\n"
     ]
    },
    {
     "name": "stdout",
     "output_type": "stream",
     "text": [
      "epoch 96 | loss: 0.03093 | train_mse: 0.01417 | train_mae: 0.08398 |  0:00:55s\n"
     ]
    },
    {
     "name": "stdout",
     "output_type": "stream",
     "text": [
      "epoch 97 | loss: 0.0296  | train_mse: 0.00897 | train_mae: 0.07415 |  0:00:56s\n"
     ]
    },
    {
     "name": "stdout",
     "output_type": "stream",
     "text": [
      "epoch 98 | loss: 0.03074 | train_mse: 0.01248 | train_mae: 0.08411 |  0:00:56s\n"
     ]
    },
    {
     "name": "stdout",
     "output_type": "stream",
     "text": [
      "epoch 99 | loss: 0.04324 | train_mse: 0.01421 | train_mae: 0.09456 |  0:00:57s\n"
     ]
    },
    {
     "name": "stdout",
     "output_type": "stream",
     "text": [
      "epoch 100| loss: 0.03353 | train_mse: 0.0173  | train_mae: 0.09112 |  0:00:58s\n"
     ]
    },
    {
     "name": "stdout",
     "output_type": "stream",
     "text": [
      "epoch 101| loss: 0.0389  | train_mse: 0.01154 | train_mae: 0.07829 |  0:00:58s\n"
     ]
    },
    {
     "name": "stdout",
     "output_type": "stream",
     "text": [
      "epoch 102| loss: 0.04575 | train_mse: 0.01524 | train_mae: 0.09329 |  0:00:59s\n"
     ]
    },
    {
     "name": "stdout",
     "output_type": "stream",
     "text": [
      "epoch 103| loss: 0.05218 | train_mse: 0.01245 | train_mae: 0.07617 |  0:00:59s\n"
     ]
    },
    {
     "name": "stdout",
     "output_type": "stream",
     "text": [
      "epoch 104| loss: 0.0376  | train_mse: 0.01574 | train_mae: 0.09712 |  0:01:00s\n"
     ]
    },
    {
     "name": "stdout",
     "output_type": "stream",
     "text": [
      "epoch 105| loss: 0.03261 | train_mse: 0.0323  | train_mae: 0.10357 |  0:01:00s\n"
     ]
    },
    {
     "name": "stdout",
     "output_type": "stream",
     "text": [
      "epoch 106| loss: 0.03286 | train_mse: 0.02967 | train_mae: 0.1265  |  0:01:01s\n"
     ]
    },
    {
     "name": "stdout",
     "output_type": "stream",
     "text": [
      "epoch 107| loss: 0.03232 | train_mse: 0.01609 | train_mae: 0.09128 |  0:01:02s\n"
     ]
    },
    {
     "name": "stdout",
     "output_type": "stream",
     "text": [
      "epoch 108| loss: 0.04018 | train_mse: 0.00844 | train_mae: 0.06911 |  0:01:02s\n"
     ]
    },
    {
     "name": "stdout",
     "output_type": "stream",
     "text": [
      "epoch 109| loss: 0.03195 | train_mse: 0.01939 | train_mae: 0.09832 |  0:01:03s\n"
     ]
    },
    {
     "name": "stdout",
     "output_type": "stream",
     "text": [
      "epoch 110| loss: 0.03464 | train_mse: 0.01898 | train_mae: 0.10026 |  0:01:03s\n"
     ]
    },
    {
     "name": "stdout",
     "output_type": "stream",
     "text": [
      "epoch 111| loss: 0.04328 | train_mse: 0.01234 | train_mae: 0.08787 |  0:01:04s\n"
     ]
    },
    {
     "name": "stdout",
     "output_type": "stream",
     "text": [
      "epoch 112| loss: 0.0305  | train_mse: 0.01075 | train_mae: 0.08606 |  0:01:05s\n"
     ]
    },
    {
     "name": "stdout",
     "output_type": "stream",
     "text": [
      "epoch 113| loss: 0.03142 | train_mse: 0.01294 | train_mae: 0.09133 |  0:01:05s\n"
     ]
    },
    {
     "name": "stdout",
     "output_type": "stream",
     "text": [
      "epoch 114| loss: 0.02854 | train_mse: 0.01299 | train_mae: 0.0863  |  0:01:06s\n"
     ]
    },
    {
     "name": "stdout",
     "output_type": "stream",
     "text": [
      "epoch 115| loss: 0.03616 | train_mse: 0.01089 | train_mae: 0.07843 |  0:01:06s\n"
     ]
    },
    {
     "name": "stdout",
     "output_type": "stream",
     "text": [
      "epoch 116| loss: 0.02652 | train_mse: 0.01482 | train_mae: 0.08459 |  0:01:07s\n"
     ]
    },
    {
     "name": "stdout",
     "output_type": "stream",
     "text": [
      "epoch 117| loss: 0.02346 | train_mse: 0.01545 | train_mae: 0.09576 |  0:01:07s\n"
     ]
    },
    {
     "name": "stdout",
     "output_type": "stream",
     "text": [
      "epoch 118| loss: 0.02481 | train_mse: 0.01498 | train_mae: 0.09621 |  0:01:08s\n"
     ]
    },
    {
     "name": "stdout",
     "output_type": "stream",
     "text": [
      "epoch 119| loss: 0.03488 | train_mse: 0.00922 | train_mae: 0.07369 |  0:01:09s\n"
     ]
    },
    {
     "name": "stdout",
     "output_type": "stream",
     "text": [
      "epoch 120| loss: 0.02735 | train_mse: 0.01045 | train_mae: 0.07725 |  0:01:09s\n"
     ]
    },
    {
     "name": "stdout",
     "output_type": "stream",
     "text": [
      "epoch 121| loss: 0.02694 | train_mse: 0.00929 | train_mae: 0.0712  |  0:01:10s\n"
     ]
    },
    {
     "name": "stdout",
     "output_type": "stream",
     "text": [
      "epoch 122| loss: 0.03931 | train_mse: 0.01009 | train_mae: 0.07294 |  0:01:10s\n"
     ]
    },
    {
     "name": "stdout",
     "output_type": "stream",
     "text": [
      "epoch 123| loss: 0.04509 | train_mse: 0.0081  | train_mae: 0.07057 |  0:01:11s\n"
     ]
    },
    {
     "name": "stdout",
     "output_type": "stream",
     "text": [
      "epoch 124| loss: 0.03293 | train_mse: 0.00888 | train_mae: 0.07267 |  0:01:11s\n"
     ]
    },
    {
     "name": "stdout",
     "output_type": "stream",
     "text": [
      "epoch 125| loss: 0.03033 | train_mse: 0.0117  | train_mae: 0.07893 |  0:01:12s\n"
     ]
    },
    {
     "name": "stdout",
     "output_type": "stream",
     "text": [
      "epoch 126| loss: 0.02695 | train_mse: 0.01025 | train_mae: 0.07655 |  0:01:13s\n"
     ]
    },
    {
     "name": "stdout",
     "output_type": "stream",
     "text": [
      "epoch 127| loss: 0.02254 | train_mse: 0.01431 | train_mae: 0.08835 |  0:01:13s\n"
     ]
    },
    {
     "name": "stdout",
     "output_type": "stream",
     "text": [
      "epoch 128| loss: 0.0226  | train_mse: 0.02126 | train_mae: 0.1026  |  0:01:14s\n"
     ]
    },
    {
     "name": "stdout",
     "output_type": "stream",
     "text": [
      "epoch 129| loss: 0.03529 | train_mse: 0.01406 | train_mae: 0.08708 |  0:01:14s\n"
     ]
    },
    {
     "name": "stdout",
     "output_type": "stream",
     "text": [
      "epoch 130| loss: 0.02116 | train_mse: 0.01066 | train_mae: 0.07442 |  0:01:15s\n"
     ]
    },
    {
     "name": "stdout",
     "output_type": "stream",
     "text": [
      "epoch 131| loss: 0.03756 | train_mse: 0.00694 | train_mae: 0.0622  |  0:01:15s\n"
     ]
    },
    {
     "name": "stdout",
     "output_type": "stream",
     "text": [
      "epoch 132| loss: 0.02604 | train_mse: 0.00642 | train_mae: 0.05921 |  0:01:16s\n"
     ]
    },
    {
     "name": "stdout",
     "output_type": "stream",
     "text": [
      "epoch 133| loss: 0.02883 | train_mse: 0.00908 | train_mae: 0.07004 |  0:01:16s\n"
     ]
    },
    {
     "name": "stdout",
     "output_type": "stream",
     "text": [
      "epoch 134| loss: 0.03058 | train_mse: 0.02137 | train_mae: 0.1048  |  0:01:17s\n"
     ]
    },
    {
     "name": "stdout",
     "output_type": "stream",
     "text": [
      "epoch 135| loss: 0.03277 | train_mse: 0.016   | train_mae: 0.09055 |  0:01:18s\n"
     ]
    },
    {
     "name": "stdout",
     "output_type": "stream",
     "text": [
      "epoch 136| loss: 0.03587 | train_mse: 0.01217 | train_mae: 0.09163 |  0:01:18s\n"
     ]
    },
    {
     "name": "stdout",
     "output_type": "stream",
     "text": [
      "epoch 137| loss: 0.02346 | train_mse: 0.01296 | train_mae: 0.09261 |  0:01:19s\n"
     ]
    },
    {
     "name": "stdout",
     "output_type": "stream",
     "text": [
      "epoch 138| loss: 0.04514 | train_mse: 0.01069 | train_mae: 0.08244 |  0:01:19s\n"
     ]
    },
    {
     "name": "stdout",
     "output_type": "stream",
     "text": [
      "epoch 139| loss: 0.02844 | train_mse: 0.01051 | train_mae: 0.07264 |  0:01:20s\n"
     ]
    },
    {
     "name": "stdout",
     "output_type": "stream",
     "text": [
      "epoch 140| loss: 0.0307  | train_mse: 0.02005 | train_mae: 0.11843 |  0:01:20s\n"
     ]
    },
    {
     "name": "stdout",
     "output_type": "stream",
     "text": [
      "epoch 141| loss: 0.03903 | train_mse: 0.01603 | train_mae: 0.10657 |  0:01:21s\n"
     ]
    },
    {
     "name": "stdout",
     "output_type": "stream",
     "text": [
      "epoch 142| loss: 0.03281 | train_mse: 0.01423 | train_mae: 0.09026 |  0:01:21s\n"
     ]
    },
    {
     "name": "stdout",
     "output_type": "stream",
     "text": [
      "epoch 143| loss: 0.04231 | train_mse: 0.00745 | train_mae: 0.06594 |  0:01:22s\n"
     ]
    },
    {
     "name": "stdout",
     "output_type": "stream",
     "text": [
      "epoch 144| loss: 0.02671 | train_mse: 0.00666 | train_mae: 0.06397 |  0:01:23s\n"
     ]
    },
    {
     "name": "stdout",
     "output_type": "stream",
     "text": [
      "epoch 145| loss: 0.03737 | train_mse: 0.00954 | train_mae: 0.06887 |  0:01:23s\n"
     ]
    },
    {
     "name": "stdout",
     "output_type": "stream",
     "text": [
      "epoch 146| loss: 0.03293 | train_mse: 0.0141  | train_mae: 0.08511 |  0:01:24s\n"
     ]
    },
    {
     "name": "stdout",
     "output_type": "stream",
     "text": [
      "epoch 147| loss: 0.02672 | train_mse: 0.00851 | train_mae: 0.07152 |  0:01:24s\n"
     ]
    },
    {
     "name": "stdout",
     "output_type": "stream",
     "text": [
      "epoch 148| loss: 0.03572 | train_mse: 0.01082 | train_mae: 0.0826  |  0:01:25s\n"
     ]
    },
    {
     "name": "stdout",
     "output_type": "stream",
     "text": [
      "epoch 149| loss: 0.02919 | train_mse: 0.01214 | train_mae: 0.08678 |  0:01:25s\n"
     ]
    },
    {
     "name": "stdout",
     "output_type": "stream",
     "text": [
      "epoch 150| loss: 0.029   | train_mse: 0.01883 | train_mae: 0.1053  |  0:01:26s\n"
     ]
    },
    {
     "name": "stdout",
     "output_type": "stream",
     "text": [
      "epoch 151| loss: 0.05759 | train_mse: 0.02029 | train_mae: 0.09703 |  0:01:26s\n"
     ]
    },
    {
     "name": "stdout",
     "output_type": "stream",
     "text": [
      "epoch 152| loss: 0.0354  | train_mse: 0.02535 | train_mae: 0.10948 |  0:01:27s\n"
     ]
    },
    {
     "name": "stdout",
     "output_type": "stream",
     "text": [
      "epoch 153| loss: 0.03963 | train_mse: 0.01117 | train_mae: 0.07854 |  0:01:28s\n"
     ]
    },
    {
     "name": "stdout",
     "output_type": "stream",
     "text": [
      "epoch 154| loss: 0.02259 | train_mse: 0.00954 | train_mae: 0.07171 |  0:01:28s\n"
     ]
    },
    {
     "name": "stdout",
     "output_type": "stream",
     "text": [
      "epoch 155| loss: 0.02356 | train_mse: 0.00729 | train_mae: 0.06589 |  0:01:29s\n"
     ]
    },
    {
     "name": "stdout",
     "output_type": "stream",
     "text": [
      "epoch 156| loss: 0.02791 | train_mse: 0.00671 | train_mae: 0.06381 |  0:01:29s\n"
     ]
    },
    {
     "name": "stdout",
     "output_type": "stream",
     "text": [
      "epoch 157| loss: 0.02696 | train_mse: 0.00758 | train_mae: 0.06518 |  0:01:30s\n"
     ]
    },
    {
     "name": "stdout",
     "output_type": "stream",
     "text": [
      "epoch 158| loss: 0.02078 | train_mse: 0.01557 | train_mae: 0.08743 |  0:01:30s\n"
     ]
    },
    {
     "name": "stdout",
     "output_type": "stream",
     "text": [
      "epoch 159| loss: 0.03447 | train_mse: 0.0139  | train_mae: 0.07689 |  0:01:31s\n"
     ]
    },
    {
     "name": "stdout",
     "output_type": "stream",
     "text": [
      "epoch 160| loss: 0.03465 | train_mse: 0.01423 | train_mae: 0.08788 |  0:01:31s\n"
     ]
    },
    {
     "name": "stdout",
     "output_type": "stream",
     "text": [
      "epoch 161| loss: 0.04615 | train_mse: 0.00867 | train_mae: 0.07127 |  0:01:32s\n"
     ]
    },
    {
     "name": "stdout",
     "output_type": "stream",
     "text": [
      "epoch 162| loss: 0.02298 | train_mse: 0.00847 | train_mae: 0.06937 |  0:01:33s\n"
     ]
    },
    {
     "name": "stdout",
     "output_type": "stream",
     "text": [
      "epoch 163| loss: 0.02277 | train_mse: 0.00719 | train_mae: 0.06308 |  0:01:33s\n"
     ]
    },
    {
     "name": "stdout",
     "output_type": "stream",
     "text": [
      "epoch 164| loss: 0.03411 | train_mse: 0.01146 | train_mae: 0.08221 |  0:01:34s\n"
     ]
    },
    {
     "name": "stdout",
     "output_type": "stream",
     "text": [
      "epoch 165| loss: 0.02538 | train_mse: 0.00733 | train_mae: 0.06785 |  0:01:34s\n"
     ]
    },
    {
     "name": "stdout",
     "output_type": "stream",
     "text": [
      "epoch 166| loss: 0.03046 | train_mse: 0.02219 | train_mae: 0.09369 |  0:01:35s\n"
     ]
    },
    {
     "name": "stdout",
     "output_type": "stream",
     "text": [
      "epoch 167| loss: 0.02868 | train_mse: 0.0163  | train_mae: 0.0884  |  0:01:35s\n"
     ]
    },
    {
     "name": "stdout",
     "output_type": "stream",
     "text": [
      "epoch 168| loss: 0.01922 | train_mse: 0.00913 | train_mae: 0.06868 |  0:01:36s\n"
     ]
    },
    {
     "name": "stdout",
     "output_type": "stream",
     "text": [
      "epoch 169| loss: 0.01784 | train_mse: 0.00652 | train_mae: 0.06016 |  0:01:37s\n"
     ]
    },
    {
     "name": "stdout",
     "output_type": "stream",
     "text": [
      "epoch 170| loss: 0.01896 | train_mse: 0.01438 | train_mae: 0.08337 |  0:01:37s\n"
     ]
    },
    {
     "name": "stdout",
     "output_type": "stream",
     "text": [
      "epoch 171| loss: 0.01824 | train_mse: 0.01571 | train_mae: 0.08613 |  0:01:38s\n"
     ]
    },
    {
     "name": "stdout",
     "output_type": "stream",
     "text": [
      "epoch 172| loss: 0.02171 | train_mse: 0.00934 | train_mae: 0.07464 |  0:01:38s\n"
     ]
    },
    {
     "name": "stdout",
     "output_type": "stream",
     "text": [
      "epoch 173| loss: 0.02371 | train_mse: 0.00929 | train_mae: 0.07463 |  0:01:39s\n"
     ]
    },
    {
     "name": "stdout",
     "output_type": "stream",
     "text": [
      "epoch 174| loss: 0.03817 | train_mse: 0.01147 | train_mae: 0.07559 |  0:01:39s\n"
     ]
    },
    {
     "name": "stdout",
     "output_type": "stream",
     "text": [
      "epoch 175| loss: 0.01808 | train_mse: 0.00511 | train_mae: 0.05201 |  0:01:40s\n"
     ]
    },
    {
     "name": "stdout",
     "output_type": "stream",
     "text": [
      "epoch 176| loss: 0.02043 | train_mse: 0.00744 | train_mae: 0.06629 |  0:01:40s\n"
     ]
    },
    {
     "name": "stdout",
     "output_type": "stream",
     "text": [
      "epoch 177| loss: 0.03587 | train_mse: 0.00988 | train_mae: 0.08302 |  0:01:41s\n"
     ]
    },
    {
     "name": "stdout",
     "output_type": "stream",
     "text": [
      "epoch 178| loss: 0.02652 | train_mse: 0.00644 | train_mae: 0.05831 |  0:01:42s\n"
     ]
    },
    {
     "name": "stdout",
     "output_type": "stream",
     "text": [
      "epoch 179| loss: 0.02763 | train_mse: 0.0074  | train_mae: 0.06642 |  0:01:42s\n"
     ]
    },
    {
     "name": "stdout",
     "output_type": "stream",
     "text": [
      "epoch 180| loss: 0.03328 | train_mse: 0.0124  | train_mae: 0.08273 |  0:01:43s\n"
     ]
    },
    {
     "name": "stdout",
     "output_type": "stream",
     "text": [
      "epoch 181| loss: 0.01727 | train_mse: 0.01197 | train_mae: 0.09115 |  0:01:43s\n"
     ]
    },
    {
     "name": "stdout",
     "output_type": "stream",
     "text": [
      "epoch 182| loss: 0.03116 | train_mse: 0.00971 | train_mae: 0.07959 |  0:01:44s\n"
     ]
    },
    {
     "name": "stdout",
     "output_type": "stream",
     "text": [
      "epoch 183| loss: 0.01747 | train_mse: 0.0113  | train_mae: 0.08544 |  0:01:44s\n"
     ]
    },
    {
     "name": "stdout",
     "output_type": "stream",
     "text": [
      "epoch 184| loss: 0.02074 | train_mse: 0.01089 | train_mae: 0.08368 |  0:01:45s\n"
     ]
    },
    {
     "name": "stdout",
     "output_type": "stream",
     "text": [
      "epoch 185| loss: 0.02381 | train_mse: 0.00773 | train_mae: 0.06896 |  0:01:45s\n"
     ]
    },
    {
     "name": "stdout",
     "output_type": "stream",
     "text": [
      "epoch 186| loss: 0.02132 | train_mse: 0.00717 | train_mae: 0.05929 |  0:01:46s\n"
     ]
    },
    {
     "name": "stdout",
     "output_type": "stream",
     "text": [
      "epoch 187| loss: 0.02085 | train_mse: 0.01239 | train_mae: 0.09326 |  0:01:47s\n"
     ]
    },
    {
     "name": "stdout",
     "output_type": "stream",
     "text": [
      "epoch 188| loss: 0.03779 | train_mse: 0.00743 | train_mae: 0.06483 |  0:01:47s\n"
     ]
    },
    {
     "name": "stdout",
     "output_type": "stream",
     "text": [
      "epoch 189| loss: 0.02617 | train_mse: 0.01261 | train_mae: 0.09395 |  0:01:48s\n"
     ]
    },
    {
     "name": "stdout",
     "output_type": "stream",
     "text": [
      "epoch 190| loss: 0.02363 | train_mse: 0.00966 | train_mae: 0.07736 |  0:01:48s\n"
     ]
    },
    {
     "name": "stdout",
     "output_type": "stream",
     "text": [
      "epoch 191| loss: 0.02053 | train_mse: 0.00678 | train_mae: 0.05881 |  0:01:49s\n"
     ]
    },
    {
     "name": "stdout",
     "output_type": "stream",
     "text": [
      "epoch 192| loss: 0.02602 | train_mse: 0.00496 | train_mae: 0.05401 |  0:01:49s\n"
     ]
    },
    {
     "name": "stdout",
     "output_type": "stream",
     "text": [
      "epoch 193| loss: 0.02138 | train_mse: 0.00612 | train_mae: 0.05802 |  0:01:50s\n"
     ]
    },
    {
     "name": "stdout",
     "output_type": "stream",
     "text": [
      "epoch 194| loss: 0.02526 | train_mse: 0.01065 | train_mae: 0.07892 |  0:01:50s\n"
     ]
    },
    {
     "name": "stdout",
     "output_type": "stream",
     "text": [
      "epoch 195| loss: 0.01742 | train_mse: 0.01643 | train_mae: 0.09541 |  0:01:51s\n"
     ]
    },
    {
     "name": "stdout",
     "output_type": "stream",
     "text": [
      "epoch 196| loss: 0.02331 | train_mse: 0.00706 | train_mae: 0.0657  |  0:01:51s\n"
     ]
    },
    {
     "name": "stdout",
     "output_type": "stream",
     "text": [
      "epoch 197| loss: 0.02255 | train_mse: 0.0089  | train_mae: 0.07038 |  0:01:52s\n"
     ]
    },
    {
     "name": "stdout",
     "output_type": "stream",
     "text": [
      "epoch 198| loss: 0.02166 | train_mse: 0.01238 | train_mae: 0.08921 |  0:01:53s\n"
     ]
    },
    {
     "name": "stdout",
     "output_type": "stream",
     "text": [
      "epoch 199| loss: 0.02569 | train_mse: 0.00745 | train_mae: 0.07064 |  0:01:53s\n"
     ]
    },
    {
     "name": "stdout",
     "output_type": "stream",
     "text": [
      "epoch 200| loss: 0.02225 | train_mse: 0.00727 | train_mae: 0.06384 |  0:01:54s\n"
     ]
    },
    {
     "name": "stdout",
     "output_type": "stream",
     "text": [
      "epoch 201| loss: 0.01899 | train_mse: 0.00831 | train_mae: 0.06684 |  0:01:54s\n"
     ]
    },
    {
     "name": "stdout",
     "output_type": "stream",
     "text": [
      "epoch 202| loss: 0.02538 | train_mse: 0.01003 | train_mae: 0.07388 |  0:01:55s\n"
     ]
    },
    {
     "name": "stdout",
     "output_type": "stream",
     "text": [
      "epoch 203| loss: 0.01927 | train_mse: 0.00629 | train_mae: 0.06238 |  0:01:55s\n"
     ]
    },
    {
     "name": "stdout",
     "output_type": "stream",
     "text": [
      "epoch 204| loss: 0.01971 | train_mse: 0.00786 | train_mae: 0.07211 |  0:01:56s\n"
     ]
    },
    {
     "name": "stdout",
     "output_type": "stream",
     "text": [
      "epoch 205| loss: 0.02574 | train_mse: 0.0067  | train_mae: 0.06196 |  0:01:56s\n"
     ]
    },
    {
     "name": "stdout",
     "output_type": "stream",
     "text": [
      "epoch 206| loss: 0.02595 | train_mse: 0.00656 | train_mae: 0.06113 |  0:01:57s\n"
     ]
    },
    {
     "name": "stdout",
     "output_type": "stream",
     "text": [
      "epoch 207| loss: 0.02884 | train_mse: 0.01061 | train_mae: 0.0846  |  0:01:58s\n"
     ]
    },
    {
     "name": "stdout",
     "output_type": "stream",
     "text": [
      "epoch 208| loss: 0.03652 | train_mse: 0.01656 | train_mae: 0.09565 |  0:01:58s\n"
     ]
    },
    {
     "name": "stdout",
     "output_type": "stream",
     "text": [
      "epoch 209| loss: 0.02941 | train_mse: 0.01193 | train_mae: 0.08467 |  0:01:59s\n"
     ]
    },
    {
     "name": "stdout",
     "output_type": "stream",
     "text": [
      "epoch 210| loss: 0.02706 | train_mse: 0.01234 | train_mae: 0.08274 |  0:01:59s\n"
     ]
    },
    {
     "name": "stdout",
     "output_type": "stream",
     "text": [
      "epoch 211| loss: 0.02595 | train_mse: 0.00958 | train_mae: 0.07439 |  0:02:00s\n"
     ]
    },
    {
     "name": "stdout",
     "output_type": "stream",
     "text": [
      "epoch 212| loss: 0.02458 | train_mse: 0.00672 | train_mae: 0.06425 |  0:02:00s\n"
     ]
    },
    {
     "name": "stdout",
     "output_type": "stream",
     "text": [
      "epoch 213| loss: 0.01678 | train_mse: 0.00603 | train_mae: 0.05899 |  0:02:01s\n"
     ]
    },
    {
     "name": "stdout",
     "output_type": "stream",
     "text": [
      "epoch 214| loss: 0.01663 | train_mse: 0.0132  | train_mae: 0.08741 |  0:02:02s\n"
     ]
    },
    {
     "name": "stdout",
     "output_type": "stream",
     "text": [
      "epoch 215| loss: 0.0185  | train_mse: 0.0062  | train_mae: 0.05937 |  0:02:02s\n"
     ]
    },
    {
     "name": "stdout",
     "output_type": "stream",
     "text": [
      "epoch 216| loss: 0.01716 | train_mse: 0.00608 | train_mae: 0.05923 |  0:02:03s\n"
     ]
    },
    {
     "name": "stdout",
     "output_type": "stream",
     "text": [
      "epoch 217| loss: 0.02028 | train_mse: 0.00875 | train_mae: 0.07379 |  0:02:03s\n"
     ]
    },
    {
     "name": "stdout",
     "output_type": "stream",
     "text": [
      "epoch 218| loss: 0.01706 | train_mse: 0.00571 | train_mae: 0.05748 |  0:02:04s\n"
     ]
    },
    {
     "name": "stdout",
     "output_type": "stream",
     "text": [
      "epoch 219| loss: 0.02129 | train_mse: 0.01337 | train_mae: 0.07744 |  0:02:04s\n"
     ]
    },
    {
     "name": "stdout",
     "output_type": "stream",
     "text": [
      "epoch 220| loss: 0.02596 | train_mse: 0.02502 | train_mae: 0.11589 |  0:02:05s\n"
     ]
    },
    {
     "name": "stdout",
     "output_type": "stream",
     "text": [
      "epoch 221| loss: 0.0189  | train_mse: 0.00538 | train_mae: 0.05407 |  0:02:06s\n"
     ]
    },
    {
     "name": "stdout",
     "output_type": "stream",
     "text": [
      "epoch 222| loss: 0.01813 | train_mse: 0.00781 | train_mae: 0.06313 |  0:02:06s\n"
     ]
    },
    {
     "name": "stdout",
     "output_type": "stream",
     "text": [
      "epoch 223| loss: 0.01586 | train_mse: 0.00843 | train_mae: 0.07254 |  0:02:07s\n"
     ]
    },
    {
     "name": "stdout",
     "output_type": "stream",
     "text": [
      "epoch 224| loss: 0.02504 | train_mse: 0.01218 | train_mae: 0.08911 |  0:02:07s\n"
     ]
    },
    {
     "name": "stdout",
     "output_type": "stream",
     "text": [
      "epoch 225| loss: 0.02102 | train_mse: 0.01636 | train_mae: 0.09603 |  0:02:08s\n",
      "\n",
      "Early stopping occurred at epoch 225 with best_epoch = 175 and best_train_mae = 0.05201\n",
      "Best weights from best epoch are automatically used!\n"
     ]
    }
   ],
   "source": [
    "#Train the Model\n",
    "\n",
    "Y_train = np.reshape(Y_train, (-1, 1))\n",
    "Y_test = np.reshape(Y_test, (-1, 1))\n",
    "\n",
    "prior_model = TabNetRegressor(optimizer_fn=torch.optim.Adam, optimizer_params=dict(lr = 0.01),\n",
    "          #scheduler_params={\"step_size\":10, ], \"gamma\":0.9},\n",
    "          #scheduler_fn=torch.optim.lr_scheduler.StepLR\n",
    "          )  #TabNetRegressor()\n",
    "\n",
    "prior_model.fit(X_train,Y_train,eval_set=[(X_train, Y_train)],\n",
    "            eval_name=['train'], \n",
    "            eval_metric=[ 'mse', 'mae'], \n",
    "            max_epochs = n_epochs, \n",
    "            batch_size = batch_size,\n",
    "            patience=50\n",
    "            )"
   ]
  },
  {
   "cell_type": "code",
   "execution_count": 10,
   "id": "af65dcda",
   "metadata": {
    "execution": {
     "iopub.execute_input": "2022-07-25T10:14:02.845967Z",
     "iopub.status.busy": "2022-07-25T10:14:02.845412Z",
     "iopub.status.idle": "2022-07-25T10:14:02.914816Z",
     "shell.execute_reply": "2022-07-25T10:14:02.913862Z"
    },
    "id": "af65dcda",
    "papermill": {
     "duration": 0.095109,
     "end_time": "2022-07-25T10:14:02.917415",
     "exception": false,
     "start_time": "2022-07-25T10:14:02.822306",
     "status": "completed"
    },
    "tags": []
   },
   "outputs": [
    {
     "data": {
      "application/scrapbook.scrap.json+json": {
       "data": 0.00453296460132332,
       "encoder": "json",
       "name": "Prior Model MSE",
       "version": 1
      }
     },
     "metadata": {
      "scrapbook": {
       "data": true,
       "display": false,
       "name": "Prior Model MSE"
      }
     },
     "output_type": "display_data"
    },
    {
     "data": {
      "application/scrapbook.scrap.json+json": {
       "data": 0.0045732090145038495,
       "encoder": "json",
       "name": "ABC Pre-generator MSE",
       "version": 1
      }
     },
     "metadata": {
      "scrapbook": {
       "data": true,
       "display": false,
       "name": "ABC Pre-generator MSE"
      }
     },
     "output_type": "display_data"
    },
    {
     "data": {
      "application/scrapbook.scrap.json+json": {
       "data": 0.05047642288952613,
       "encoder": "json",
       "name": "Prior Model MAE",
       "version": 1
      }
     },
     "metadata": {
      "scrapbook": {
       "data": true,
       "display": false,
       "name": "Prior Model MAE"
      }
     },
     "output_type": "display_data"
    },
    {
     "name": "stdout",
     "output_type": "stream",
     "text": [
      "Prior Model MAE 0.05047642288952613\n"
     ]
    },
    {
     "data": {
      "application/scrapbook.scrap.json+json": {
       "data": 0.05148177120355431,
       "encoder": "json",
       "name": "ABC Pre-generator MAE",
       "version": 1
      }
     },
     "metadata": {
      "scrapbook": {
       "data": true,
       "display": false,
       "name": "ABC Pre-generator MAE"
      }
     },
     "output_type": "display_data"
    },
    {
     "name": "stdout",
     "output_type": "stream",
     "text": [
      "ABC Pre-generator MAE 0.05148177120355431\n"
     ]
    }
   ],
   "source": [
    "y_pred = prior_model.predict(X_test)\n",
    "y_abc = y_pred + np.random.normal(0,variance, y_pred.shape) + bias \n",
    "mse = mean_squared_error(y_pred,Y_test)\n",
    "sb.glue(\"Prior Model MSE\",mse)\n",
    "mse = mean_squared_error(y_abc,Y_test)\n",
    "sb.glue(\"ABC Pre-generator MSE\",mse)\n",
    "mae = mean_absolute_error(y_pred,Y_test)\n",
    "sb.glue(\"Prior Model MAE\",mae)\n",
    "print(\"Prior Model MAE\",mae)\n",
    "mae = mean_absolute_error(y_abc,Y_test)\n",
    "sb.glue(\"ABC Pre-generator MAE\",mae)\n",
    "print(\"ABC Pre-generator MAE\",mae)"
   ]
  },
  {
   "cell_type": "markdown",
   "id": "25609da2",
   "metadata": {
    "papermill": {
     "duration": 0.021564,
     "end_time": "2022-07-25T10:14:02.962319",
     "exception": false,
     "start_time": "2022-07-25T10:14:02.940755",
     "status": "completed"
    },
    "tags": []
   },
   "source": [
    "# mGAN Model"
   ]
  },
  {
   "cell_type": "code",
   "execution_count": 11,
   "id": "dfc3464d",
   "metadata": {
    "execution": {
     "iopub.execute_input": "2022-07-25T10:14:03.007044Z",
     "iopub.status.busy": "2022-07-25T10:14:03.006436Z",
     "iopub.status.idle": "2022-07-25T10:14:03.016039Z",
     "shell.execute_reply": "2022-07-25T10:14:03.015013Z"
    },
    "papermill": {
     "duration": 0.0354,
     "end_time": "2022-07-25T10:14:03.018754",
     "exception": false,
     "start_time": "2022-07-25T10:14:02.983354",
     "status": "completed"
    },
    "tags": []
   },
   "outputs": [],
   "source": [
    "gen = network.Generator(n_features+1).to(device)\n",
    "disc = network.Discriminator(n_features+1).to(device)\n",
    "\n",
    "criterion = torch.nn.BCELoss()\n",
    "gen_opt = torch.optim.Adam(gen.parameters(), lr=0.01, betas=(0.5, 0.999))\n",
    "disc_opt = torch.optim.Adam(disc.parameters(), lr=0.01, betas=(0.5, 0.999))"
   ]
  },
  {
   "cell_type": "code",
   "execution_count": 12,
   "id": "b75fdd85",
   "metadata": {
    "execution": {
     "iopub.execute_input": "2022-07-25T10:14:03.068037Z",
     "iopub.status.busy": "2022-07-25T10:14:03.067574Z",
     "iopub.status.idle": "2022-07-25T10:20:25.600456Z",
     "shell.execute_reply": "2022-07-25T10:20:25.599365Z"
    },
    "papermill": {
     "duration": 382.559844,
     "end_time": "2022-07-25T10:20:25.603233",
     "exception": false,
     "start_time": "2022-07-25T10:14:03.043389",
     "status": "completed"
    },
    "tags": []
   },
   "outputs": [
    {
     "data": {
      "image/png": "[encoded data removed]",
      "text/plain": [
       "<Figure size 432x288 with 1 Axes>"
      ]
     },
     "metadata": {
      "needs_background": "light"
     },
     "output_type": "display_data"
    },
    {
     "data": {
      "image/png": "[encoded data removed]",
      "text/plain": [
       "<Figure size 432x288 with 1 Axes>"
      ]
     },
     "metadata": {
      "needs_background": "light"
     },
     "output_type": "display_data"
    }
   ],
   "source": [
    "#Training the ABC_GAN \n",
    "ABC_train_test2.training_GAN(disc,gen,disc_opt,gen_opt,train_data,batch_size,n_epochs,criterion,prior_model,variance,bias,device)"
   ]
  },
  {
   "cell_type": "code",
   "execution_count": 13,
   "id": "1fa7c368",
   "metadata": {
    "execution": {
     "iopub.execute_input": "2022-07-25T10:20:25.654849Z",
     "iopub.status.busy": "2022-07-25T10:20:25.654283Z",
     "iopub.status.idle": "2022-07-25T10:20:29.743673Z",
     "shell.execute_reply": "2022-07-25T10:20:29.742775Z"
    },
    "papermill": {
     "duration": 4.125724,
     "end_time": "2022-07-25T10:20:29.750909",
     "exception": false,
     "start_time": "2022-07-25T10:20:25.625185",
     "status": "completed"
    },
    "tags": []
   },
   "outputs": [
    {
     "data": {
      "application/scrapbook.scrap.json+json": {
       "data": 0.041863944575460915,
       "encoder": "json",
       "name": "ABC-GAN Model 1 MSE",
       "version": 1
      }
     },
     "metadata": {
      "scrapbook": {
       "data": true,
       "display": false,
       "name": "ABC-GAN Model 1 MSE"
      }
     },
     "output_type": "display_data"
    },
    {
     "data": {
      "application/scrapbook.scrap.json+json": {
       "data": 0.14312856360108822,
       "encoder": "json",
       "name": "ABC-GAN Model 1 MAE",
       "version": 1
      }
     },
     "metadata": {
      "scrapbook": {
       "data": true,
       "display": false,
       "name": "ABC-GAN Model 1 MAE"
      }
     },
     "output_type": "display_data"
    },
    {
     "data": {
      "application/scrapbook.scrap.json+json": {
       "data": 22.041798794567583,
       "encoder": "json",
       "name": "ABC-GAN Model 1 Manhattan Distance",
       "version": 1
      }
     },
     "metadata": {
      "scrapbook": {
       "data": true,
       "display": false,
       "name": "ABC-GAN Model 1 Manhattan Distance"
      }
     },
     "output_type": "display_data"
    },
    {
     "data": {
      "application/scrapbook.scrap.json+json": {
       "data": 2.5391021653905033,
       "encoder": "json",
       "name": "ABC-GAN Model 1 Euclidean distance",
       "version": 1
      }
     },
     "metadata": {
      "scrapbook": {
       "data": true,
       "display": false,
       "name": "ABC-GAN Model 1 Euclidean distance"
      }
     },
     "output_type": "display_data"
    },
    {
     "data": {
      "application/scrapbook.scrap.json+json": {
       "data": [
        [
         0.041959913666534954,
         0.041779333440299216,
         0.04189456963513012,
         0.04166325211483651,
         0.04191183539728172,
         0.04183708260856028,
         0.04185758602230842,
         0.04189570706032125,
         0.04175633761169538,
         0.0418765790192578,
         0.04180724787388871,
         0.04185129005068357,
         0.04184200462549092,
         0.04204413841780608,
         0.041875273004172195,
         0.04183664509883937,
         0.04167639161274085,
         0.04198528496831077,
         0.04182751466964247,
         0.04183861714612935,
         0.041796472358955276,
         0.04177125311592535,
         0.04179941451487369,
         0.04195849677455693,
         0.04197520767169194,
         0.04185328329982401,
         0.041824406550351474,
         0.041894906985726295,
         0.04193071071017015,
         0.04193410914188701,
         0.04189554773357198,
         0.04182089466169704,
         0.041999026476345167,
         0.041990428289818416,
         0.04198953792951799,
         0.04186871653556924,
         0.04186188720369111,
         0.04184233701651198,
         0.04183344295902129,
         0.04187976674106964,
         0.041807237934525676,
         0.041912028586370303,
         0.04179642736637661,
         0.04198468431344603,
         0.04190487095149315,
         0.04180630378199187,
         0.04178794096472754,
         0.0419586101252551,
         0.04178962336644372,
         0.04201928364605224,
         0.04202443956802042,
         0.04186702295989381,
         0.041839605737686136,
         0.04191282021238557,
         0.04193588285007845,
         0.0415916173349946,
         0.04183171440007408,
         0.041743885918058526,
         0.041749193469347655,
         0.041938229063480575,
         0.042081445378095494,
         0.04197839108069175,
         0.04192664589012405,
         0.04162219322433571,
         0.04196073905838312,
         0.04193045791649573,
         0.04190584571561973,
         0.04183239938731199,
         0.041959756537112286,
         0.04180769966286529,
         0.04186568839402653,
         0.04186803917023458,
         0.04177178811257915,
         0.04193268891323064,
         0.04184865047161071,
         0.04184454020963959,
         0.041896184852085065,
         0.04174981945319668,
         0.04174526603724875,
         0.041925345166225314,
         0.04182117896912494,
         0.041981051528891616,
         0.04182076555928285,
         0.04189127104310078,
         0.04192139740408907,
         0.04179386553729681,
         0.04177596947076317,
         0.04177299073464958,
         0.04174433704996986,
         0.04193524153166059,
         0.041933027361000234,
         0.041837070589942106,
         0.04179483254563272,
         0.04179581606426522,
         0.04168640226999478,
         0.04182759059307886,
         0.042027744321523904,
         0.04183421736669968,
         0.04183098890222525,
         0.04197724080637923
        ],
        [
         0.14395607146736863,
         0.14268693182762568,
         0.14361095128508358,
         0.14242922824311566,
         0.14308368608162,
         0.14287768043093868,
         0.14309426958297755,
         0.14297047886368516,
         0.14292368960457963,
         0.14374483338037095,
         0.1429889609480833,
         0.1435594182316359,
         0.14253055730036326,
         0.14395973928175965,
         0.1430480723063667,
         0.14274504113119918,
         0.14220482198061882,
         0.1437816514403789,
         0.14303780869617091,
         0.14353989093721686,
         0.14249350411164297,
         0.1433018446936236,
         0.14234273842015824,
         0.14371894270955743,
         0.14394941200296602,
         0.14294717344757799,
         0.14323552794657746,
         0.14338854313283772,
         0.14373594512800117,
         0.14342228265164733,
         0.14299678038080016,
         0.14321249055785018,
         0.14364903633083617,
         0.14342088329714614,
         0.1433772352802289,
         0.14304736943601012,
         0.14391303710736236,
         0.1425946746747215,
         0.14292546477797743,
         0.14301742564935188,
         0.1429750808067136,
         0.14314181744665294,
         0.14269341073639982,
         0.14379288730296222,
         0.14329405525675068,
         0.14289149825836156,
         0.14232937672308513,
         0.14399798282168128,
         0.1428941994324907,
         0.1436048779975284,
         0.14425242498710558,
         0.14324302961686988,
         0.14268941741872143,
         0.14326255458903003,
         0.14314659955826672,
         0.14186812482483976,
         0.14303571827612915,
         0.1420709156951347,
         0.14257787080941262,
         0.1435171424761995,
         0.14416010010165053,
         0.14337896555662155,
         0.14317900958386334,
         0.14173522388393228,
         0.14353751507285353,
         0.14358144505070403,
         0.14394295825199646,
         0.14265215483965812,
         0.14364732656773035,
         0.14289597866984158,
         0.1431346343128712,
         0.14339481942452392,
         0.14280694771509667,
         0.14362197891845332,
         0.14322947555935228,
         0.14351666621960601,
         0.14361232141782712,
         0.14258733227268441,
         0.14221072380805944,
         0.14348797122766446,
         0.1431544938838327,
         0.14376545929676526,
         0.14271955027595742,
         0.14350443643021893,
         0.142793587179153,
         0.14299055382415846,
         0.14218011392014368,
         0.14233479803645765,
         0.14274350360229418,
         0.1435812542384321,
         0.1434836702106835,
         0.14306963467365735,
         0.14288827554359065,
         0.14276230422320305,
         0.14222669107960417,
         0.14223564590339538,
         0.14424448828031491,
         0.14309915832497858,
         0.1428724094838291,
         0.14314970345079125
        ],
        [
         22.16923500597477,
         21.973787501454353,
         22.11608649790287,
         21.93410114943981,
         22.03488765656948,
         22.003162786364555,
         22.03651751577854,
         22.017453745007515,
         22.010248199105263,
         22.136704340577126,
         22.02029998600483,
         22.10815040767193,
         21.949705824255943,
         22.169799849390984,
         22.029403135180473,
         21.982736334204674,
         21.899542585015297,
         22.14237432181835,
         22.02782253921032,
         22.105143204331398,
         21.943999633193016,
         22.06848408281803,
         21.92078171670437,
         22.132717177271843,
         22.168209448456764,
         22.01386471092701,
         22.058271303772926,
         22.08183564245701,
         22.13533554971218,
         22.08703152835369,
         22.021504178643227,
         22.054723545908928,
         22.12195159494877,
         22.086816027760506,
         22.08009423315525,
         22.02929489314556,
         22.162607714533806,
         21.959579899907112,
         22.010521575808525,
         22.02468355000019,
         22.018162444233894,
         22.043839886784554,
         21.97478525340557,
         22.14410464465618,
         22.067284509539604,
         22.00529073178768,
         21.91872401535511,
         22.175689354538918,
         22.00570671260357,
         22.115151211619377,
         22.21487344801426,
         22.059426560997963,
         21.9741702824831,
         22.062433406710625,
         22.044576331973076,
         21.847691223025322,
         22.027500614523888,
         21.878921017050743,
         21.956992104649544,
         22.101639941334724,
         22.200655415654182,
         22.08036069571972,
         22.049567475914955,
         21.827224478125572,
         22.104777321219444,
         22.11154253780842,
         22.167215570807457,
         21.96843184530735,
         22.121688291430473,
         22.0059807151556,
         22.042733684182167,
         22.082802191376686,
         21.992269948124886,
         22.11778475344181,
         22.05733923614025,
         22.10156659781933,
         22.116297498345375,
         21.9584491699934,
         21.900451466441154,
         22.097147569060326,
         22.045792058110237,
         22.13988073170185,
         21.978810742497444,
         22.099683210253716,
         21.99021242558956,
         22.020545288920403,
         21.895737543702126,
         21.91955889761448,
         21.982499554753304,
         22.111513152718544,
         22.09648521244526,
         22.032723739743233,
         22.00479443371296,
         21.985394850373268,
         21.90291042625904,
         21.904289469122887,
         22.213651195168495,
         22.0372703820467,
         22.00235106050968,
         22.045054331421852
        ],
        [
         2.542012333692813,
         2.536536486984975,
         2.540032228891995,
         2.533010230078991,
         2.5405555792348617,
         2.538288935822375,
         2.538910838811693,
         2.540066709220345,
         2.535838321384289,
         2.539486792437736,
         2.537383725922995,
         2.538719887621568,
         2.538438242763767,
         2.544562303489961,
         2.539447192331929,
         2.538275663757044,
         2.5334096211157977,
         2.542780738703174,
         2.537998672010082,
         2.538335486200341,
         2.537056708723538,
         2.536291185935184,
         2.5371460019657026,
         2.5419694143088676,
         2.5424755616211057,
         2.5387803426395315,
         2.5379043734455653,
         2.5400424555116885,
         2.541127594074371,
         2.5412305695962734,
         2.54006187935847,
         2.537797820532862,
         2.5431968223787074,
         2.5429364830117236,
         2.542909522799773,
         2.5392483821945544,
         2.539041281540816,
         2.5384483253639107,
         2.538178523210942,
         2.5395834457888413,
         2.5373834243008986,
         2.540561434467001,
         2.5370553431925753,
         2.5427625497223856,
         2.540344489735584,
         2.537355076142625,
         2.5367977665884287,
         2.541972847866256,
         2.5368488323966667,
         2.543810071819837,
         2.543966134498481,
         2.5391970257984404,
         2.538365474789567,
         2.5405854271618926,
         2.5412843128843496,
         2.5308316952316616,
         2.5381260838680584,
         2.535460201103739,
         2.5356213822807887,
         2.5413554013116717,
         2.545690984433638,
         2.5425719707466548,
         2.541004420909004,
         2.5317617890606727,
         2.5420373354832932,
         2.541119934033091,
         2.5403740354926945,
         2.538146864475349,
         2.5420075740869246,
         2.537397435972783,
         2.5391565553703233,
         2.5392278417298684,
         2.536307428001816,
         2.541187535904723,
         2.5386398272752375,
         2.538515155023601,
         2.5400811930371634,
         2.5356403916549937,
         2.535502113928582,
         2.5409650047961496,
         2.5378064467656394,
         2.5426525392686488,
         2.5377939033990837,
         2.5399322315049115,
         2.5408453711766317,
         2.536977590114605,
         2.5364343670786216,
         2.5363439382575925,
         2.5354739016001244,
         2.541264881092825,
         2.541197791120171,
         2.538288571232807,
         2.537006939688466,
         2.5370367900164243,
         2.533713864977495,
         2.5380009754399513,
         2.544066159814772,
         2.5382020160877166,
         2.538104074095995,
         2.5425371352612336
        ]
       ],
       "encoder": "json",
       "name": "ABC_GAN_1 Metrics",
       "version": 1
      }
     },
     "metadata": {
      "scrapbook": {
       "data": true,
       "display": false,
       "name": "ABC_GAN_1 Metrics"
      }
     },
     "output_type": "display_data"
    },
    {
     "name": "stdout",
     "output_type": "stream",
     "text": [
      "MAE\n",
      "0.14312856360108822\n"
     ]
    }
   ],
   "source": [
    "ABC_GAN1_metrics=ABC_train_test2.test_generator(gen,test_data,prior_model,variance,bias,\"1\",device)\n",
    "sb.glue(\"ABC_GAN_1 Metrics\",ABC_GAN1_metrics)\n",
    "\n",
    "print(\"MAE\")\n",
    "print(mean(ABC_GAN1_metrics[1]))"
   ]
  },
  {
   "cell_type": "code",
   "execution_count": 14,
   "id": "eb22ce5c",
   "metadata": {
    "execution": {
     "iopub.execute_input": "2022-07-25T10:20:29.802838Z",
     "iopub.status.busy": "2022-07-25T10:20:29.802509Z",
     "iopub.status.idle": "2022-07-25T10:20:30.844190Z",
     "shell.execute_reply": "2022-07-25T10:20:30.843231Z"
    },
    "papermill": {
     "duration": 1.071594,
     "end_time": "2022-07-25T10:20:30.847595",
     "exception": false,
     "start_time": "2022-07-25T10:20:29.776001",
     "status": "completed"
    },
    "tags": []
   },
   "outputs": [
    {
     "data": {
      "image/png": "[encoded data removed]",
      "text/plain": [
       "<Figure size 432x288 with 1 Axes>"
      ]
     },
     "metadata": {
      "needs_background": "light"
     },
     "output_type": "display_data"
    },
    {
     "data": {
      "image/png": "[encoded data removed]",
      "text/plain": [
       "<Figure size 432x288 with 1 Axes>"
      ]
     },
     "metadata": {
      "needs_background": "light"
     },
     "output_type": "display_data"
    },
    {
     "data": {
      "image/png": "[encoded data removed]",
      "text/plain": [
       "<Figure size 432x288 with 1 Axes>"
      ]
     },
     "metadata": {
      "needs_background": "light"
     },
     "output_type": "display_data"
    },
    {
     "data": {
      "image/png": "[encoded data removed]",
      "text/plain": [
       "<Figure size 432x288 with 1 Axes>"
      ]
     },
     "metadata": {
      "needs_background": "light"
     },
     "output_type": "display_data"
    }
   ],
   "source": [
    "sanityChecks.discProbVsError(train_data,disc,device)\n",
    "sanityChecks.discProbVsError(test_data,disc,device)"
   ]
  },
  {
   "cell_type": "markdown",
   "id": "dd338549",
   "metadata": {
    "papermill": {
     "duration": 0.02399,
     "end_time": "2022-07-25T10:20:30.898313",
     "exception": false,
     "start_time": "2022-07-25T10:20:30.874323",
     "status": "completed"
    },
    "tags": []
   },
   "source": [
    "# mGAN Model with TabNet Generator"
   ]
  },
  {
   "cell_type": "code",
   "execution_count": 15,
   "id": "cc316784",
   "metadata": {
    "execution": {
     "iopub.execute_input": "2022-07-25T10:20:30.953973Z",
     "iopub.status.busy": "2022-07-25T10:20:30.953672Z",
     "iopub.status.idle": "2022-07-25T10:20:30.970512Z",
     "shell.execute_reply": "2022-07-25T10:20:30.969593Z"
    },
    "papermill": {
     "duration": 0.04811,
     "end_time": "2022-07-25T10:20:30.973223",
     "exception": false,
     "start_time": "2022-07-25T10:20:30.925113",
     "status": "completed"
    },
    "tags": []
   },
   "outputs": [],
   "source": [
    "gen2 = network.GeneratorTabnet(n_features+1).to(device)\n",
    "disc2 = network.Discriminator(n_features+1).to(device)\n",
    "\n",
    "criterion = torch.nn.BCELoss()\n",
    "gen_opt = torch.optim.Adam(gen2.parameters(), lr=0.01, betas=(0.5, 0.999))\n",
    "disc_opt = torch.optim.Adam(disc2.parameters(), lr=0.01, betas=(0.5, 0.999))"
   ]
  },
  {
   "cell_type": "code",
   "execution_count": 16,
   "id": "4f19bc34",
   "metadata": {
    "execution": {
     "iopub.execute_input": "2022-07-25T10:20:31.032399Z",
     "iopub.status.busy": "2022-07-25T10:20:31.032081Z",
     "iopub.status.idle": "2022-07-25T10:38:15.012752Z",
     "shell.execute_reply": "2022-07-25T10:38:15.011459Z"
    },
    "papermill": {
     "duration": 1064.017092,
     "end_time": "2022-07-25T10:38:15.015876",
     "exception": false,
     "start_time": "2022-07-25T10:20:30.998784",
     "status": "completed"
    },
    "tags": []
   },
   "outputs": [
    {
     "data": {
      "image/png": "[encoded data removed]",
      "text/plain": [
       "<Figure size 432x288 with 1 Axes>"
      ]
     },
     "metadata": {
      "needs_background": "light"
     },
     "output_type": "display_data"
    },
    {
     "data": {
      "image/png": "[encoded data removed]",
      "text/plain": [
       "<Figure size 432x288 with 1 Axes>"
      ]
     },
     "metadata": {
      "needs_background": "light"
     },
     "output_type": "display_data"
    }
   ],
   "source": [
    "#Training the ABC_GAN \n",
    "ABC_train_test2.training_GAN(disc2,gen2,disc_opt,gen_opt,train_data,batch_size,n_epochs,criterion,prior_model,variance,bias,device)"
   ]
  },
  {
   "cell_type": "code",
   "execution_count": 17,
   "id": "c75d9e12",
   "metadata": {
    "execution": {
     "iopub.execute_input": "2022-07-25T10:38:15.078730Z",
     "iopub.status.busy": "2022-07-25T10:38:15.078316Z",
     "iopub.status.idle": "2022-07-25T10:38:20.065806Z",
     "shell.execute_reply": "2022-07-25T10:38:20.064493Z"
    },
    "papermill": {
     "duration": 5.02003,
     "end_time": "2022-07-25T10:38:20.069304",
     "exception": false,
     "start_time": "2022-07-25T10:38:15.049274",
     "status": "completed"
    },
    "tags": []
   },
   "outputs": [
    {
     "data": {
      "application/scrapbook.scrap.json+json": {
       "data": 0.011086288015545542,
       "encoder": "json",
       "name": "ABC-GAN Model 1 MSE",
       "version": 1
      }
     },
     "metadata": {
      "scrapbook": {
       "data": true,
       "display": false,
       "name": "ABC-GAN Model 1 MSE"
      }
     },
     "output_type": "display_data"
    },
    {
     "data": {
      "application/scrapbook.scrap.json+json": {
       "data": 0.06989992011483613,
       "encoder": "json",
       "name": "ABC-GAN Model 1 MAE",
       "version": 1
      }
     },
     "metadata": {
      "scrapbook": {
       "data": true,
       "display": false,
       "name": "ABC-GAN Model 1 MAE"
      }
     },
     "output_type": "display_data"
    },
    {
     "data": {
      "application/scrapbook.scrap.json+json": {
       "data": 10.764587697684766,
       "encoder": "json",
       "name": "ABC-GAN Model 1 Manhattan Distance",
       "version": 1
      }
     },
     "metadata": {
      "scrapbook": {
       "data": true,
       "display": false,
       "name": "ABC-GAN Model 1 Manhattan Distance"
      }
     },
     "output_type": "display_data"
    },
    {
     "data": {
      "application/scrapbook.scrap.json+json": {
       "data": 1.3066232598736278,
       "encoder": "json",
       "name": "ABC-GAN Model 1 Euclidean distance",
       "version": 1
      }
     },
     "metadata": {
      "scrapbook": {
       "data": true,
       "display": false,
       "name": "ABC-GAN Model 1 Euclidean distance"
      }
     },
     "output_type": "display_data"
    },
    {
     "data": {
      "application/scrapbook.scrap.json+json": {
       "data": [
        [
         0.010937367845771498,
         0.011233304587945213,
         0.011213131686155224,
         0.011113424149480668,
         0.011140018903177748,
         0.011038915365199206,
         0.011090276105331084,
         0.011058395702734234,
         0.011098340770471235,
         0.011145977466000488,
         0.010974201558787769,
         0.011030423782170402,
         0.011071386567408682,
         0.010983176113139346,
         0.011028699818269075,
         0.011202657625000893,
         0.011254099594449167,
         0.010898288284430773,
         0.011198560885835974,
         0.011228915991506204,
         0.010978494460619579,
         0.01109047819661974,
         0.010959703302245029,
         0.01112687916723749,
         0.011012477369634533,
         0.011082856241647036,
         0.011155346503517868,
         0.011069137257763189,
         0.01099451775757514,
         0.011155298778934796,
         0.011162965952398457,
         0.011212579334857458,
         0.011010252087802182,
         0.01106158012895061,
         0.011250044986568968,
         0.011039289366567083,
         0.011023050180124687,
         0.011039013176746767,
         0.011088744672345949,
         0.011012395501522908,
         0.010931506010579732,
         0.011130341737135136,
         0.011111600763025515,
         0.011218347360131723,
         0.0110663358941126,
         0.011122473072563152,
         0.011060563451866812,
         0.011067172832835714,
         0.011133463426258724,
         0.010821595255355318,
         0.011115863132416142,
         0.011159833451419708,
         0.011088912372593462,
         0.010976588968754556,
         0.011124973712804943,
         0.011166726720608703,
         0.010985947063759539,
         0.011165885536463195,
         0.011155093464632428,
         0.011154822417969685,
         0.011072915380099418,
         0.010934058401526644,
         0.011109458888912786,
         0.01121548923919764,
         0.011131431725775793,
         0.011056491688775035,
         0.011156473880472039,
         0.01112673142855108,
         0.010961378372529312,
         0.01108294939738248,
         0.01098458826025001,
         0.011079349276891309,
         0.011064737527134124,
         0.011084500551234033,
         0.011138866655048665,
         0.011034623471194126,
         0.01121957366156016,
         0.011166044955369015,
         0.011096584889616259,
         0.011038268686612103,
         0.011144580800468944,
         0.011019477685986776,
         0.01101019324583167,
         0.011052973175984146,
         0.01112887374945684,
         0.011178692053928355,
         0.01099269856593858,
         0.011144228431109767,
         0.011111210068900175,
         0.011080898610571807,
         0.011089224784716566,
         0.011067866545404646,
         0.011066448486793024,
         0.010971007568284903,
         0.011094616169445157,
         0.011072634628216482,
         0.011041390515932822,
         0.01103449159605543,
         0.011231537793706897,
         0.011118526867458007
        ],
        [
         0.06948130621345013,
         0.07025551941100654,
         0.07032462833570195,
         0.06987890122192246,
         0.0698174007914283,
         0.06927848442808374,
         0.07010124759240584,
         0.07009068503975868,
         0.069875795490943,
         0.07058350180650687,
         0.06931444301040142,
         0.06995764810156513,
         0.06977982659425054,
         0.07004439066369812,
         0.06987741357320315,
         0.07022739777510817,
         0.07009383450661387,
         0.06891664688463335,
         0.07037195587506542,
         0.07055434110489758,
         0.06927269503667757,
         0.06973635003744781,
         0.0697999723836199,
         0.06979289283226063,
         0.06923482673508781,
         0.06951888142661615,
         0.07017205176608902,
         0.0701232034858171,
         0.07035879737564496,
         0.07005269869000881,
         0.06972408826862063,
         0.07097707316279411,
         0.06951922807213548,
         0.06955676487126908,
         0.07114454247541242,
         0.0695969999417082,
         0.069548177448186,
         0.06984156781396308,
         0.07036335785667618,
         0.06964142485098405,
         0.06914401634947046,
         0.07018318404624989,
         0.06990330018006362,
         0.07005098205688712,
         0.06966772128815775,
         0.0703849025167428,
         0.06945470270591897,
         0.06996254114942117,
         0.07007185756773143,
         0.06943548432031235,
         0.06957828829234297,
         0.07008786693021848,
         0.06965232635666797,
         0.06959481305116183,
         0.06999583939066181,
         0.07038106599991972,
         0.06957883165254221,
         0.07042576687096001,
         0.07018817254862228,
         0.07027753577990965,
         0.06981321598415251,
         0.06926862605206378,
         0.07041146098212762,
         0.07076429928858559,
         0.07030273238559823,
         0.06944181005676071,
         0.07034940495119467,
         0.0698473664460244,
         0.06960346254628974,
         0.07030995935201645,
         0.06987288589407871,
         0.06935494925294604,
         0.06993018922867714,
         0.06962929303189377,
         0.06970029658117852,
         0.06955568594011394,
         0.0702417717351542,
         0.06991499686589489,
         0.06986429401999944,
         0.06969370630073857,
         0.06996761789763128,
         0.06894942716538131,
         0.0694588902224968,
         0.06914242923066213,
         0.07062839160298372,
         0.07057462255289028,
         0.07007352736863223,
         0.07013002386340847,
         0.06984995295862098,
         0.07033462522478846,
         0.06953631143097753,
         0.07017365325387422,
         0.07001694451485362,
         0.06933365355838429,
         0.06966720777866128,
         0.06933044874435895,
         0.06970310085392617,
         0.06974962663340878,
         0.07034643594320718,
         0.07033455178335116
        ],
        [
         10.700121156871319,
         10.819349989295006,
         10.829992763698101,
         10.76135078817606,
         10.751879721879959,
         10.668886601924896,
         10.7955921292305,
         10.793965496122837,
         10.76087250560522,
         10.869859278202057,
         10.674424223601818,
         10.77347780764103,
         10.746093295514584,
         10.78683616220951,
         10.761121690273285,
         10.815019257366657,
         10.794450514018536,
         10.613163620233536,
         10.837281204760075,
         10.865368530154228,
         10.667995035648346,
         10.739397905766964,
         10.749195747077465,
         10.748105496168137,
         10.662163317203522,
         10.705907739698887,
         10.80649597197771,
         10.798973336815834,
         10.835254795849323,
         10.788115598261356,
         10.737509593367577,
         10.930469267070293,
         10.705961123108864,
         10.711741790175438,
         10.956259541213512,
         10.717937991023064,
         10.710419327020645,
         10.755601443350315,
         10.835957109928131,
         10.724779427051544,
         10.648178517818451,
         10.808210343122482,
         10.765108227729797,
         10.787851236760616,
         10.728829078376293,
         10.839274987578392,
         10.696024216711521,
         10.77423133701086,
         10.791066065430641,
         10.693064585328102,
         10.715056397020817,
         10.793531507253647,
         10.726458258926868,
         10.717601209878922,
         10.779359266161919,
         10.838684163987637,
         10.7151400744915,
         10.845568098127842,
         10.808978572487831,
         10.822740510106087,
         10.751235261559486,
         10.667368412017822,
         10.843364991247654,
         10.89770209044218,
         10.826620787382126,
         10.69403874874115,
         10.833808362483978,
         10.75649443268776,
         10.71893323212862,
         10.827733740210533,
         10.760424427688122,
         10.68066218495369,
         10.769249141216278,
         10.72291112691164,
         10.733845673501492,
         10.711575634777546,
         10.817232847213745,
         10.766909517347813,
         10.759101279079914,
         10.73283077031374,
         10.775013156235218,
         10.618211783468723,
         10.696669094264507,
         10.647934101521969,
         10.876772306859493,
         10.868491873145103,
         10.791323214769363,
         10.800023674964905,
         10.756892755627632,
         10.831532284617424,
         10.70859196037054,
         10.80674260109663,
         10.782609455287457,
         10.67738264799118,
         10.728749997913837,
         10.676889106631279,
         10.734277531504631,
         10.741442501544952,
         10.833351135253906,
         10.831520974636078
        ],
        [
         1.297826894562141,
         1.3152676178419214,
         1.3140861005535005,
         1.3082306062082567,
         1.3097949881906608,
         1.3038377837141695,
         1.3068674455433447,
         1.3049877157356968,
         1.3073425253744981,
         1.3101452323174232,
         1.3000103999789066,
         1.3033362046894277,
         1.3057540087554536,
         1.3005418568517737,
         1.3032343503811727,
         1.3134722205856268,
         1.3164844615661713,
         1.2955062314795476,
         1.3132320344930442,
         1.315010670181788,
         1.300264644960946,
         1.3068793526104237,
         1.2991513801500325,
         1.309022303765132,
         1.3022755142149138,
         1.306430197604772,
         1.3106957547584228,
         1.3056213607687075,
         1.3012131780252503,
         1.3106929510590795,
         1.311143301347859,
         1.3140537346577759,
         1.3021439327207789,
         1.3051755973271926,
         1.3162472898097914,
         1.3038598707113165,
         1.3029005056945837,
         1.3038435601018252,
         1.3067772111348117,
         1.3022706735677216,
         1.2974790655842117,
         1.3092259650338482,
         1.3081232806986998,
         1.3143916819047072,
         1.305456137789907,
         1.3087631004787403,
         1.3051156161763942,
         1.3055055021931925,
         1.309409549241124,
         1.2909398395450964,
         1.3083741522943986,
         1.310959324890988,
         1.3067870925974872,
         1.300151799286607,
         1.3089102153211125,
         1.31136414278176,
         1.3007059036611501,
         1.3113147496369177,
         1.3106808892912851,
         1.3106649657205809,
         1.3058441593602623,
         1.2976305305575633,
         1.3079971975859004,
         1.314224236131885,
         1.3092900693770926,
         1.3048753657232386,
         1.3107619835777562,
         1.309013613373393,
         1.2992506568670705,
         1.3064356881212722,
         1.3006254618753632,
         1.3062234834212947,
         1.30536185756236,
         1.3065271083640175,
         1.3097272482763327,
         1.3035842951508334,
         1.3144635194178136,
         1.311324110632771,
         1.3072391032251536,
         1.3037995926285082,
         1.3100631447652504,
         1.3026893580750414,
         1.3021404531992995,
         1.3046677236375392,
         1.3091396248744263,
         1.3120665289172522,
         1.3011055219137844,
         1.3100424338130823,
         1.3081002830863646,
         1.3063148112258616,
         1.3068055007713852,
         1.3055464174024283,
         1.3054627788512876,
         1.299821205210884,
         1.3071231350161905,
         1.3058276045272355,
         1.3039839490782295,
         1.3035765055387183,
         1.3151641799527778,
         1.3085309081517842
        ]
       ],
       "encoder": "json",
       "name": "ABC_GAN_2 Metrics",
       "version": 1
      }
     },
     "metadata": {
      "scrapbook": {
       "data": true,
       "display": false,
       "name": "ABC_GAN_2 Metrics"
      }
     },
     "output_type": "display_data"
    },
    {
     "name": "stdout",
     "output_type": "stream",
     "text": [
      "MAE\n",
      "0.06989992011483613\n"
     ]
    }
   ],
   "source": [
    "ABC_GAN2_metrics=ABC_train_test2.test_generator(gen2,test_data,prior_model,variance,bias,\"1\",device)\n",
    "sb.glue(\"ABC_GAN_2 Metrics\",ABC_GAN2_metrics)\n",
    "\n",
    "print(\"MAE\")\n",
    "print(mean(ABC_GAN2_metrics[1]))"
   ]
  },
  {
   "cell_type": "code",
   "execution_count": 18,
   "id": "cf8477a2",
   "metadata": {
    "execution": {
     "iopub.execute_input": "2022-07-25T10:38:20.134334Z",
     "iopub.status.busy": "2022-07-25T10:38:20.133896Z",
     "iopub.status.idle": "2022-07-25T10:38:21.133729Z",
     "shell.execute_reply": "2022-07-25T10:38:21.131983Z"
    },
    "papermill": {
     "duration": 1.035802,
     "end_time": "2022-07-25T10:38:21.136853",
     "exception": false,
     "start_time": "2022-07-25T10:38:20.101051",
     "status": "completed"
    },
    "tags": []
   },
   "outputs": [
    {
     "data": {
      "image/png": "[encoded data removed]",
      "text/plain": [
       "<Figure size 432x288 with 1 Axes>"
      ]
     },
     "metadata": {
      "needs_background": "light"
     },
     "output_type": "display_data"
    },
    {
     "data": {
      "image/png": "[encoded data removed]",
      "text/plain": [
       "<Figure size 432x288 with 1 Axes>"
      ]
     },
     "metadata": {
      "needs_background": "light"
     },
     "output_type": "display_data"
    },
    {
     "data": {
      "image/png": "[encoded data removed]",
      "text/plain": [
       "<Figure size 432x288 with 1 Axes>"
      ]
     },
     "metadata": {
      "needs_background": "light"
     },
     "output_type": "display_data"
    },
    {
     "data": {
      "image/png": "[encoded data removed]",
      "text/plain": [
       "<Figure size 432x288 with 1 Axes>"
      ]
     },
     "metadata": {
      "needs_background": "light"
     },
     "output_type": "display_data"
    }
   ],
   "source": [
    "sanityChecks.discProbVsError(train_data,disc2,device)\n",
    "sanityChecks.discProbVsError(test_data,disc2,device)"
   ]
  },
  {
   "cell_type": "markdown",
   "id": "130f3a4d",
   "metadata": {
    "id": "130f3a4d",
    "papermill": {
     "duration": 0.035191,
     "end_time": "2022-07-25T10:38:21.205543",
     "exception": false,
     "start_time": "2022-07-25T10:38:21.170352",
     "status": "completed"
    },
    "tags": []
   },
   "source": [
    "# skipGAN Model"
   ]
  },
  {
   "cell_type": "code",
   "execution_count": 19,
   "id": "4e43dad1",
   "metadata": {
    "execution": {
     "iopub.execute_input": "2022-07-25T10:38:21.271268Z",
     "iopub.status.busy": "2022-07-25T10:38:21.270872Z",
     "iopub.status.idle": "2022-07-25T10:38:21.281441Z",
     "shell.execute_reply": "2022-07-25T10:38:21.280244Z"
    },
    "id": "4e43dad1",
    "papermill": {
     "duration": 0.047032,
     "end_time": "2022-07-25T10:38:21.285820",
     "exception": false,
     "start_time": "2022-07-25T10:38:21.238788",
     "status": "completed"
    },
    "tags": []
   },
   "outputs": [],
   "source": [
    "#Generator\n",
    "gen3 = network.GeneratorWithSkipConnection(n_features+1).to(device)\n",
    "constraints=network.weightConstraint()\n",
    "#Discriminator \n",
    "disc3 = network.Discriminator(n_features+1).to(device)\n",
    "\n",
    "criterion = torch.nn.BCELoss()\n",
    "gen_opt = torch.optim.Adam(gen3.parameters(), lr=0.01, betas=(0.5, 0.999))\n",
    "disc_opt = torch.optim.Adam(disc3.parameters(), lr=0.01, betas=(0.5, 0.999))\n"
   ]
  },
  {
   "cell_type": "code",
   "execution_count": 20,
   "id": "26acbc37",
   "metadata": {
    "execution": {
     "iopub.execute_input": "2022-07-25T10:38:21.353991Z",
     "iopub.status.busy": "2022-07-25T10:38:21.353362Z",
     "iopub.status.idle": "2022-07-25T10:48:46.277391Z",
     "shell.execute_reply": "2022-07-25T10:48:46.276342Z"
    },
    "id": "26acbc37",
    "papermill": {
     "duration": 624.961269,
     "end_time": "2022-07-25T10:48:46.280183",
     "exception": false,
     "start_time": "2022-07-25T10:38:21.318914",
     "status": "completed"
    },
    "tags": []
   },
   "outputs": [
    {
     "data": {
      "image/png": "[encoded data removed]",
      "text/plain": [
       "<Figure size 432x288 with 1 Axes>"
      ]
     },
     "metadata": {
      "needs_background": "light"
     },
     "output_type": "display_data"
    },
    {
     "data": {
      "image/png": "[encoded data removed]",
      "text/plain": [
       "<Figure size 432x288 with 1 Axes>"
      ]
     },
     "metadata": {
      "needs_background": "light"
     },
     "output_type": "display_data"
    }
   ],
   "source": [
    "ABC_train_test2.training_GAN_skip_connection(disc3,gen3,disc_opt,gen_opt,train_data,batch_size,n_epochs,criterion,prior_model,variance,bias,device)"
   ]
  },
  {
   "cell_type": "code",
   "execution_count": 21,
   "id": "c5e0717b",
   "metadata": {
    "execution": {
     "iopub.execute_input": "2022-07-25T10:48:46.349068Z",
     "iopub.status.busy": "2022-07-25T10:48:46.348471Z",
     "iopub.status.idle": "2022-07-25T10:48:51.039495Z",
     "shell.execute_reply": "2022-07-25T10:48:51.038544Z"
    },
    "id": "c5e0717b",
    "papermill": {
     "duration": 4.730431,
     "end_time": "2022-07-25T10:48:51.043682",
     "exception": false,
     "start_time": "2022-07-25T10:48:46.313251",
     "status": "completed"
    },
    "tags": []
   },
   "outputs": [
    {
     "data": {
      "application/scrapbook.scrap.json+json": {
       "data": 0.023265747744444613,
       "encoder": "json",
       "name": "ABC-GAN Model 3 MSE",
       "version": 1
      }
     },
     "metadata": {
      "scrapbook": {
       "data": true,
       "display": false,
       "name": "ABC-GAN Model 3 MSE"
      }
     },
     "output_type": "display_data"
    },
    {
     "data": {
      "application/scrapbook.scrap.json+json": {
       "data": 0.1271180606149621,
       "encoder": "json",
       "name": "ABC-GAN Model 3 MAE",
       "version": 1
      }
     },
     "metadata": {
      "scrapbook": {
       "data": true,
       "display": false,
       "name": "ABC-GAN Model 3 MAE"
      }
     },
     "output_type": "display_data"
    },
    {
     "data": {
      "application/scrapbook.scrap.json+json": {
       "data": 19.57618133470416,
       "encoder": "json",
       "name": "ABC-GAN Model 3 Manhattan Distance",
       "version": 1
      }
     },
     "metadata": {
      "scrapbook": {
       "data": true,
       "display": false,
       "name": "ABC-GAN Model 3 Manhattan Distance"
      }
     },
     "output_type": "display_data"
    },
    {
     "data": {
      "application/scrapbook.scrap.json+json": {
       "data": 1.8928342027645877,
       "encoder": "json",
       "name": "ABC-GAN Model 3 Euclidean distance",
       "version": 1
      }
     },
     "metadata": {
      "scrapbook": {
       "data": true,
       "display": false,
       "name": "ABC-GAN Model 3 Euclidean distance"
      }
     },
     "output_type": "display_data"
    },
    {
     "data": {
      "application/scrapbook.scrap.json+json": {
       "data": [
        [
         0.023152603220264342,
         0.02300375688891494,
         0.023567852106605586,
         0.023101920998817114,
         0.023306656724625542,
         0.023034198889810644,
         0.023287550427240507,
         0.02345965503240092,
         0.023444453910144575,
         0.022982542311906905,
         0.02371879832812014,
         0.02319414140129248,
         0.023523649394209208,
         0.023144965246932506,
         0.023304766955076477,
         0.023089549342515246,
         0.0230189005772133,
         0.02314253348681838,
         0.023213326508862302,
         0.0233740934687281,
         0.023236507983465857,
         0.0229575684866458,
         0.023604781406154508,
         0.023195750369755668,
         0.023429258176583534,
         0.023265724837847834,
         0.023199580064116692,
         0.023390025837176965,
         0.02284625758327406,
         0.02343199899453984,
         0.023360077036911137,
         0.02343949834720083,
         0.02307220586040796,
         0.023261186113534962,
         0.02326316395809247,
         0.02268395611589447,
         0.023062833831319324,
         0.02291235870671949,
         0.023144804176876987,
         0.022930906571435965,
         0.02376374590398325,
         0.0236333095128666,
         0.02333753386087196,
         0.023347970903775904,
         0.023506153321496706,
         0.023395060409347697,
         0.023208411478736198,
         0.023682356225616034,
         0.023010542060937476,
         0.02325716790578606,
         0.02290916139002025,
         0.02359212187790943,
         0.023051019224320714,
         0.0232769351434841,
         0.02291439979870312,
         0.023001645580279985,
         0.02324083941963926,
         0.02312758283375475,
         0.023421415652094407,
         0.023361812401925305,
         0.0233134635444903,
         0.022745387649399748,
         0.02379398577003266,
         0.023480745688577033,
         0.023597299912594405,
         0.022739787763771377,
         0.023638239042141948,
         0.02327253308535659,
         0.023606553057810394,
         0.023155573699127196,
         0.02282627289764609,
         0.02305702312767078,
         0.02355646456661407,
         0.022811849372681894,
         0.023300420985403122,
         0.023498034514461755,
         0.02364249573698514,
         0.02359403680923435,
         0.023385824089337304,
         0.023626847072482995,
         0.023212791569974245,
         0.023322242147578706,
         0.023043945320896892,
         0.023249261353866707,
         0.023404509075212073,
         0.023438770914662458,
         0.023062441557332357,
         0.023185413599539764,
         0.023144075668705022,
         0.023315053581760732,
         0.023506567931460838,
         0.023528234954855926,
         0.02339733862458791,
         0.022966142994277104,
         0.022730599773943365,
         0.02313312026820395,
         0.02356205980104989,
         0.023368802023965924,
         0.02331336036884224,
         0.023253659943923484
        ],
        [
         0.12659658457745204,
         0.126322223913747,
         0.12760786818606512,
         0.12637074867432768,
         0.1269973460342977,
         0.12610527858525128,
         0.12728224810841796,
         0.1280101951356832,
         0.12754830437434184,
         0.1262643240005165,
         0.12789141706057958,
         0.12662497032191847,
         0.12799217876095276,
         0.12652372462408884,
         0.12639187208630823,
         0.1258788810341389,
         0.12605965447116207,
         0.1263921775601127,
         0.1268085599332661,
         0.1279951466561912,
         0.12790958264044353,
         0.12665978432088704,
         0.12797234149335265,
         0.12679828703403473,
         0.12815786985220848,
         0.1272534013955624,
         0.12712386937497497,
         0.12691035266820486,
         0.1253899112827592,
         0.12743534718628052,
         0.12778260244371056,
         0.12758552036308624,
         0.12565834994439956,
         0.1272263823004512,
         0.12650902491885346,
         0.12531831338034047,
         0.1267547190382883,
         0.12684906873997157,
         0.12607728520577605,
         0.12606887969297248,
         0.1280357190347337,
         0.12813603045878472,
         0.12748740236093473,
         0.12722393463958392,
         0.12757512041694158,
         0.1274123615645743,
         0.12714483859864148,
         0.1282613774301944,
         0.12687093764543533,
         0.12736569074067203,
         0.12622669377884307,
         0.12723650889737265,
         0.12733489274978638,
         0.12718720826042162,
         0.126420434806254,
         0.12696665486732087,
         0.12694286709869063,
         0.12685979244770942,
         0.1272851861045732,
         0.12783506764219954,
         0.12752356414090504,
         0.1264616036666678,
         0.12843362880604609,
         0.12749571430605727,
         0.12822857673292037,
         0.12610209172035192,
         0.12869037745834946,
         0.12778246547881658,
         0.12787055340293166,
         0.1271375220317345,
         0.1251831194990641,
         0.12668747919333445,
         0.12809654538120543,
         0.125843950680324,
         0.12770368294282394,
         0.12763267174943702,
         0.12850273729531797,
         0.12789291927179733,
         0.12744218827068032,
         0.12787408188178942,
         0.126085378713422,
         0.12748090051985406,
         0.12652273892195193,
         0.12709280296966627,
         0.12760851866045556,
         0.1275620534048452,
         0.12734991302350898,
         0.12678630969354085,
         0.12752812897617166,
         0.1265817496490169,
         0.12748640224144056,
         0.12814536047252742,
         0.1276808301736782,
         0.12600699570271875,
         0.1256655967951595,
         0.12673653444492972,
         0.12833652674377738,
         0.1279823760707657,
         0.12651325370390692,
         0.12715489978527095
        ],
        [
         19.495874024927616,
         19.453622482717037,
         19.65161170065403,
         19.461095295846462,
         19.557591289281845,
         19.420212902128696,
         19.601466208696365,
         19.713570050895214,
         19.642438873648643,
         19.44470589607954,
         19.695278227329254,
         19.500245429575443,
         19.710795529186726,
         19.48465359210968,
         19.464348301291466,
         19.385347679257393,
         19.41318678855896,
         19.464395344257355,
         19.528518229722977,
         19.711252585053444,
         19.698075726628304,
         19.505606785416603,
         19.70774058997631,
         19.52693620324135,
         19.736311957240105,
         19.59702381491661,
         19.577075883746147,
         19.54419431090355,
         19.310046337544918,
         19.625043466687202,
         19.678520776331425,
         19.64817013591528,
         19.35138589143753,
         19.592862874269485,
         19.482389837503433,
         19.299020260572433,
         19.5202267318964,
         19.53475658595562,
         19.41590192168951,
         19.414607472717762,
         19.71750073134899,
         19.732948690652847,
         19.633059963583946,
         19.592485934495926,
         19.646568544209003,
         19.621503680944443,
         19.58030514419079,
         19.752252124249935,
         19.53812439739704,
         19.614316374063492,
         19.438910841941833,
         19.59442237019539,
         19.609573483467102,
         19.58683007210493,
         19.468746960163116,
         19.552864849567413,
         19.549201533198357,
         19.53640803694725,
         19.601918660104275,
         19.686600416898727,
         19.638628877699375,
         19.475086964666843,
         19.778778836131096,
         19.63434000313282,
         19.747200816869736,
         19.419722124934196,
         19.818318128585815,
         19.678499683737755,
         19.692065224051476,
         19.579178392887115,
         19.278200402855873,
         19.509871795773506,
         19.726867988705635,
         19.379968404769897,
         19.666367173194885,
         19.6554314494133,
         19.789421543478966,
         19.69550956785679,
         19.62609699368477,
         19.69260860979557,
         19.41714832186699,
         19.632058680057526,
         19.4845017939806,
         19.572291657328606,
         19.651711873710155,
         19.64455622434616,
         19.611886605620384,
         19.52509169280529,
         19.639331862330437,
         19.4935894459486,
         19.632905945181847,
         19.734385512769222,
         19.662847846746445,
         19.40507733821869,
         19.352501906454563,
         19.517426304519176,
         19.763825118541718,
         19.70928591489792,
         19.48304107040167,
         19.581854566931725
        ],
        [
         1.8882533982282963,
         1.8821738923098739,
         1.9051113417376055,
         1.8861855247609753,
         1.8945250422183215,
         1.8834188671219259,
         1.8937483375029105,
         1.9007332466681752,
         1.900117339051003,
         1.8813058007760628,
         1.9112024860099208,
         1.8899465007769511,
         1.9033239363566619,
         1.887941908011898,
         1.8944482339408955,
         1.8856804073721898,
         1.882793320811089,
         1.8878427256977817,
         1.8907279768292409,
         1.8972639231757207,
         1.8916718080718289,
         1.8802833687887186,
         1.9066033506075128,
         1.8900120520627304,
         1.8995014501689287,
         1.8928606987912677,
         1.8901680692134153,
         1.89791042436814,
         1.8757195067024828,
         1.8996125513270161,
         1.8966949843568193,
         1.89991651013115,
         1.884972069422469,
         1.8926760582530715,
         1.8927565214644593,
         1.8690450079780712,
         1.884589188662393,
         1.8784310583129744,
         1.8879353387335742,
         1.8791912121977206,
         1.9130125115151286,
         1.9077551375848674,
         1.895779579638488,
         1.896203448784304,
         1.9026159916048464,
         1.8981146706770762,
         1.8905278013627238,
         1.909733714093373,
         1.8824514541906177,
         1.8925125778950727,
         1.8782999904336681,
         1.9060920148822964,
         1.8841064090293282,
         1.8933166697878494,
         1.8785147241904387,
         1.8820875163931983,
         1.8918481098186626,
         1.8872328304685226,
         1.8991835115181834,
         1.896765433546409,
         1.8948016745431449,
         1.8715741230332186,
         1.9142292988524205,
         1.9015874515890305,
         1.906301179388907,
         1.871343719261855,
         1.9079540907710173,
         1.893137632383054,
         1.9066748991117495,
         1.888374525793437,
         1.8748989376063707,
         1.8843517616573877,
         1.9046510292593148,
         1.8743064859816847,
         1.8942715834198858,
         1.9022873902823176,
         1.9081258720261909,
         1.9061693703923819,
         1.8977399478742984,
         1.9074942854861665,
         1.8907061912883327,
         1.8951583814360002,
         1.8838172892873983,
         1.8921908594260446,
         1.89849793194058,
         1.8998870284461702,
         1.884573161177136,
         1.8895908801455206,
         1.8879056260789555,
         1.8948662885784717,
         1.9026327710425281,
         1.903509438654774,
         1.8982070878032613,
         1.8806344730219835,
         1.8709656237321086,
         1.8874587469143287,
         1.9048772163479941,
         1.897049159007418,
         1.8947974817382742,
         1.8923698452903481
        ]
       ],
       "encoder": "json",
       "name": "ABC_GAN_3 Metrics",
       "version": 1
      }
     },
     "metadata": {
      "scrapbook": {
       "data": true,
       "display": false,
       "name": "ABC_GAN_3 Metrics"
      }
     },
     "output_type": "display_data"
    },
    {
     "name": "stdout",
     "output_type": "stream",
     "text": [
      "MAE\n",
      "0.1271180606149621\n"
     ]
    }
   ],
   "source": [
    "ABC_GAN3_metrics=ABC_train_test2.test_generator(gen3,test_data,prior_model,variance,bias,\"3\",device)\n",
    "sb.glue(\"ABC_GAN_3 Metrics\",ABC_GAN3_metrics)\n",
    "\n",
    "print(\"MAE\")\n",
    "print(mean(ABC_GAN3_metrics[1]))"
   ]
  },
  {
   "cell_type": "code",
   "execution_count": 22,
   "id": "c8e46b48",
   "metadata": {
    "execution": {
     "iopub.execute_input": "2022-07-25T10:48:51.116635Z",
     "iopub.status.busy": "2022-07-25T10:48:51.116307Z",
     "iopub.status.idle": "2022-07-25T10:48:52.097363Z",
     "shell.execute_reply": "2022-07-25T10:48:52.096383Z"
    },
    "id": "c8e46b48",
    "papermill": {
     "duration": 1.021469,
     "end_time": "2022-07-25T10:48:52.099866",
     "exception": false,
     "start_time": "2022-07-25T10:48:51.078397",
     "status": "completed"
    },
    "tags": []
   },
   "outputs": [
    {
     "data": {
      "image/png": "[encoded data removed]",
      "text/plain": [
       "<Figure size 432x288 with 1 Axes>"
      ]
     },
     "metadata": {
      "needs_background": "light"
     },
     "output_type": "display_data"
    },
    {
     "data": {
      "image/png": "[encoded data removed]",
      "text/plain": [
       "<Figure size 432x288 with 1 Axes>"
      ]
     },
     "metadata": {
      "needs_background": "light"
     },
     "output_type": "display_data"
    },
    {
     "data": {
      "image/png": "[encoded data removed]",
      "text/plain": [
       "<Figure size 432x288 with 1 Axes>"
      ]
     },
     "metadata": {
      "needs_background": "light"
     },
     "output_type": "display_data"
    },
    {
     "data": {
      "image/png": "[encoded data removed]",
      "text/plain": [
       "<Figure size 432x288 with 1 Axes>"
      ]
     },
     "metadata": {
      "needs_background": "light"
     },
     "output_type": "display_data"
    }
   ],
   "source": [
    "sanityChecks.discProbVsError(train_data,disc3,device)\n",
    "sanityChecks.discProbVsError(test_data,disc3,device)"
   ]
  },
  {
   "cell_type": "markdown",
   "id": "392dfabb",
   "metadata": {
    "id": "130f3a4d",
    "papermill": {
     "duration": 0.036894,
     "end_time": "2022-07-25T10:48:52.176137",
     "exception": false,
     "start_time": "2022-07-25T10:48:52.139243",
     "status": "completed"
    },
    "tags": []
   },
   "source": [
    "# skipGAN Model with TabNet Generator"
   ]
  },
  {
   "cell_type": "code",
   "execution_count": 23,
   "id": "5b11e50b",
   "metadata": {
    "execution": {
     "iopub.execute_input": "2022-07-25T10:48:52.250896Z",
     "iopub.status.busy": "2022-07-25T10:48:52.250044Z",
     "iopub.status.idle": "2022-07-25T10:48:52.267923Z",
     "shell.execute_reply": "2022-07-25T10:48:52.267029Z"
    },
    "id": "4e43dad1",
    "papermill": {
     "duration": 0.057356,
     "end_time": "2022-07-25T10:48:52.270883",
     "exception": false,
     "start_time": "2022-07-25T10:48:52.213527",
     "status": "completed"
    },
    "tags": []
   },
   "outputs": [],
   "source": [
    "#Generator\n",
    "gen4 = network.GeneratorTabnetskipConnection(n_features+1).to(device)\n",
    "constraints=network.weightConstraint()\n",
    "#Discriminator \n",
    "disc4 = network.Discriminator(n_features+1).to(device)\n",
    "\n",
    "criterion = torch.nn.BCELoss()\n",
    "gen_opt = torch.optim.Adam(gen4.parameters(), lr=0.01, betas=(0.5, 0.999))\n",
    "disc_opt = torch.optim.Adam(disc4.parameters(), lr=0.01, betas=(0.5, 0.999))\n"
   ]
  },
  {
   "cell_type": "code",
   "execution_count": 24,
   "id": "14444ecd",
   "metadata": {
    "execution": {
     "iopub.execute_input": "2022-07-25T10:48:52.346543Z",
     "iopub.status.busy": "2022-07-25T10:48:52.345913Z",
     "iopub.status.idle": "2022-07-25T11:10:39.092125Z",
     "shell.execute_reply": "2022-07-25T11:10:39.090629Z"
    },
    "id": "26acbc37",
    "papermill": {
     "duration": 1306.832368,
     "end_time": "2022-07-25T11:10:39.139681",
     "exception": false,
     "start_time": "2022-07-25T10:48:52.307313",
     "status": "completed"
    },
    "tags": []
   },
   "outputs": [
    {
     "data": {
      "image/png": "[encoded data removed]",
      "text/plain": [
       "<Figure size 432x288 with 1 Axes>"
      ]
     },
     "metadata": {
      "needs_background": "light"
     },
     "output_type": "display_data"
    },
    {
     "data": {
      "image/png": "[encoded data removed]",
      "text/plain": [
       "<Figure size 432x288 with 1 Axes>"
      ]
     },
     "metadata": {
      "needs_background": "light"
     },
     "output_type": "display_data"
    }
   ],
   "source": [
    "ABC_train_test2.training_GAN_skip_connection(disc4,gen4,disc_opt,gen_opt,train_data,batch_size,n_epochs,criterion,prior_model,variance,bias,device)"
   ]
  },
  {
   "cell_type": "code",
   "execution_count": 25,
   "id": "5b9ad917",
   "metadata": {
    "execution": {
     "iopub.execute_input": "2022-07-25T11:10:39.217430Z",
     "iopub.status.busy": "2022-07-25T11:10:39.216816Z",
     "iopub.status.idle": "2022-07-25T11:10:45.222943Z",
     "shell.execute_reply": "2022-07-25T11:10:45.221897Z"
    },
    "id": "c5e0717b",
    "papermill": {
     "duration": 6.048422,
     "end_time": "2022-07-25T11:10:45.225772",
     "exception": false,
     "start_time": "2022-07-25T11:10:39.177350",
     "status": "completed"
    },
    "tags": []
   },
   "outputs": [
    {
     "data": {
      "application/scrapbook.scrap.json+json": {
       "data": 0.004180488360079573,
       "encoder": "json",
       "name": "ABC-GAN Model 3 MSE",
       "version": 1
      }
     },
     "metadata": {
      "scrapbook": {
       "data": true,
       "display": false,
       "name": "ABC-GAN Model 3 MSE"
      }
     },
     "output_type": "display_data"
    },
    {
     "data": {
      "application/scrapbook.scrap.json+json": {
       "data": 0.04778598497295147,
       "encoder": "json",
       "name": "ABC-GAN Model 3 MAE",
       "version": 1
      }
     },
     "metadata": {
      "scrapbook": {
       "data": true,
       "display": false,
       "name": "ABC-GAN Model 3 MAE"
      }
     },
     "output_type": "display_data"
    },
    {
     "data": {
      "application/scrapbook.scrap.json+json": {
       "data": 7.359041685834527,
       "encoder": "json",
       "name": "ABC-GAN Model 3 Manhattan Distance",
       "version": 1
      }
     },
     "metadata": {
      "scrapbook": {
       "data": true,
       "display": false,
       "name": "ABC-GAN Model 3 Manhattan Distance"
      }
     },
     "output_type": "display_data"
    },
    {
     "data": {
      "application/scrapbook.scrap.json+json": {
       "data": 0.8023007026317343,
       "encoder": "json",
       "name": "ABC-GAN Model 3 Euclidean distance",
       "version": 1
      }
     },
     "metadata": {
      "scrapbook": {
       "data": true,
       "display": false,
       "name": "ABC-GAN Model 3 Euclidean distance"
      }
     },
     "output_type": "display_data"
    },
    {
     "data": {
      "application/scrapbook.scrap.json+json": {
       "data": [
        [
         0.0040983307680967996,
         0.0042846902632114455,
         0.0042020410976144,
         0.004274725467123708,
         0.0040907829507609425,
         0.004235348031744898,
         0.0042114995146486185,
         0.0041638609586760016,
         0.003962327962271185,
         0.004084517494521125,
         0.004281756380402138,
         0.004183476872840743,
         0.004118824523100868,
         0.0040906543400478544,
         0.004085745592286639,
         0.004288747688161439,
         0.00430756422777468,
         0.004282105572167489,
         0.0043255191273540855,
         0.0041905957775077085,
         0.004204273856128712,
         0.004324385223710515,
         0.004159549499139758,
         0.00427770678054008,
         0.004104680974167629,
         0.0042293498747483504,
         0.00418705641261601,
         0.004322266336029316,
         0.0042105239747094,
         0.004236077513630765,
         0.004182040458656161,
         0.0042545634152885035,
         0.004048408330937926,
         0.004222632495673015,
         0.004155709467912193,
         0.004056733154048147,
         0.004371385737442801,
         0.004032909797797009,
         0.004069316354193483,
         0.004253376376322729,
         0.004186159594911351,
         0.004017820981160234,
         0.004184554574999105,
         0.004070760742914639,
         0.004080963526756719,
         0.004238272115471501,
         0.004335802285340535,
         0.004204363054789694,
         0.00419710428091843,
         0.0040509164469824934,
         0.004156723616642827,
         0.004217231753180982,
         0.003979561269304306,
         0.004256523914474391,
         0.00415550968817344,
         0.004230837745076477,
         0.004150870288201868,
         0.00394459450665763,
         0.004117554681044814,
         0.004067108070461526,
         0.004290385338392605,
         0.0043568488886309015,
         0.004227520892906097,
         0.004321031497816987,
         0.0042937890534823,
         0.004121616401102058,
         0.004348689108336158,
         0.004333672673619974,
         0.004224436724384092,
         0.004029743241660661,
         0.004185235807390589,
         0.004234521786558515,
         0.004079820395109476,
         0.004022666230493909,
         0.004172468056696692,
         0.004196418605734692,
         0.00439219013650505,
         0.00412270992562311,
         0.004287831244813291,
         0.003896624051842586,
         0.004056968992639718,
         0.004186839419737612,
         0.004436860435445464,
         0.004086355992011631,
         0.00409549779703163,
         0.004040147622841501,
         0.004227622179799879,
         0.004192219116804763,
         0.004396111648991898,
         0.004241044771193207,
         0.0040765905370798395,
         0.004122901545092193,
         0.003938283848512491,
         0.004140982080404287,
         0.004148857260640953,
         0.004211635083473269,
         0.004207112460953593,
         0.004218396783985006,
         0.004120318271488517,
         0.004256576317261872
        ],
        [
         0.047520798667297734,
         0.048181271688504654,
         0.04800189339688846,
         0.048567691309885544,
         0.04736089783829528,
         0.048399351440466844,
         0.047942786804073816,
         0.048218752318001414,
         0.04536700921205731,
         0.04733738612819027,
         0.04838434964805454,
         0.04797669577521163,
         0.04824858168502907,
         0.04704460506508877,
         0.04645175322309717,
         0.048974103112886476,
         0.04766946000518737,
         0.04840233520447434,
         0.04852643541314385,
         0.04871003160422498,
         0.04786596427877228,
         0.04962173196208942,
         0.047554886815222824,
         0.04894130302036737,
         0.04741678140186644,
         0.048136439319554865,
         0.046954768092988375,
         0.04808745804158124,
         0.04790086889421785,
         0.047703920972424665,
         0.04793481359427625,
         0.048437895616153616,
         0.047287614604869445,
         0.047488269384031175,
         0.04769481341173122,
         0.04655173566047247,
         0.04844361185640484,
         0.04679306463471481,
         0.046883063560182396,
         0.048378557595726734,
         0.04846101099407518,
         0.04708553410389207,
         0.04835355601140431,
         0.04752951991054919,
         0.04771103792182811,
         0.04770825154982604,
         0.04869329368139242,
         0.047210557700751665,
         0.047156815550157,
         0.04705157406724893,
         0.04785569960420782,
         0.04857412943398798,
         0.046344606254201434,
         0.04851872478793194,
         0.04833422968913982,
         0.048117185567880603,
         0.04815161054010515,
         0.04658586744751249,
         0.047541948882016266,
         0.04773109885198729,
         0.048596647749473525,
         0.04949414014042198,
         0.048003235928617514,
         0.04839593457517686,
         0.048136991751077884,
         0.04796757892548264,
         0.0491892263873831,
         0.047776381400498474,
         0.04779919488476468,
         0.04599395157261328,
         0.047992217753614695,
         0.04694653899928966,
         0.04671862864165337,
         0.047273663682984066,
         0.04792611668636272,
         0.04790443748042181,
         0.04958063997812085,
         0.047442704826206356,
         0.04822067732547785,
         0.04553534840415051,
         0.04699314419518818,
         0.04856766295897496,
         0.04896816417768404,
         0.046846884072988065,
         0.04761449658831993,
         0.04697274310248239,
         0.04833979237002212,
         0.047155316532045216,
         0.04907289524744084,
         0.048171962333189974,
         0.04742011810084442,
         0.04765324115559652,
         0.04578379130402169,
         0.046808324270434194,
         0.0475796681719941,
         0.04792073151314413,
         0.048403349257521815,
         0.04781623136300545,
         0.04749599524906704,
         0.048039723429586983
        ],
        [
         7.318202994763851,
         7.4199158400297165,
         7.392291583120823,
         7.479424461722374,
         7.293578267097473,
         7.453500121831894,
         7.383189167827368,
         7.425687856972218,
         6.986519418656826,
         7.2899574637413025,
         7.4511898458004,
         7.388411149382591,
         7.430281579494476,
         7.24486918002367,
         7.153569996356964,
         7.542011879384518,
         7.341096840798855,
         7.453959621489048,
         7.473071053624153,
         7.501344867050648,
         7.371358498930931,
         7.64174672216177,
         7.323452569544315,
         7.536960665136576,
         7.302184335887432,
         7.413011655211449,
         7.2310342863202095,
         7.405468538403511,
         7.376733809709549,
         7.346403829753399,
         7.381961293518543,
         7.459435924887657,
         7.282292649149895,
         7.3131934851408005,
         7.345001265406609,
         7.168967291712761,
         7.460316225886345,
         7.20613195374608,
         7.219991788268089,
         7.450297869741917,
         7.462995693087578,
         7.251172251999378,
         7.446447625756264,
         7.319546066224575,
         7.347499839961529,
         7.34707073867321,
         7.498767226934433,
         7.270425885915756,
         7.262149594724178,
         7.245942406356335,
         7.369777739048004,
         7.480415932834148,
         7.13706936314702,
         7.471883617341518,
         7.443471372127533,
         7.410046577453613,
         7.415348023176193,
         7.1742235869169235,
         7.321460127830505,
         7.350589223206043,
         7.483883753418922,
         7.622097581624985,
         7.392498333007097,
         7.452973924577236,
         7.413096729665995,
         7.387007154524326,
         7.575140863656998,
         7.357562735676765,
         7.361076012253761,
         7.0830685421824455,
         7.3908015340566635,
         7.229767005890608,
         7.194668810814619,
         7.280144207179546,
         7.38062196969986,
         7.377283371984959,
         7.635418556630611,
         7.306176543235779,
         7.425984308123589,
         7.012443654239178,
         7.236944206058979,
         7.479420095682144,
         7.541097283363342,
         7.214420147240162,
         7.332632474601269,
         7.233802437782288,
         7.444328024983406,
         7.261918745934963,
         7.557225868105888,
         7.418482199311256,
         7.302698187530041,
         7.3385991379618645,
         7.05070386081934,
         7.208481937646866,
         7.327268898487091,
         7.379792653024197,
         7.4541157856583595,
         7.36369962990284,
         7.314383268356323,
         7.398117408156395
        ],
        [
         0.7944450505144501,
         0.8123067773535825,
         0.8044341669972861,
         0.8113616468240602,
         0.7937131562580937,
         0.8076159959341533,
         0.805339012625048,
         0.800771245510292,
         0.7811520378196313,
         0.7931050965390736,
         0.8120286217750758,
         0.8026552425652462,
         0.7964288898310594,
         0.7937006793290337,
         0.793224319604576,
         0.8126912968506933,
         0.8144721548814917,
         0.8120617329450965,
         0.8161678415696916,
         0.8033378801825464,
         0.8046478570429562,
         0.8160608583012785,
         0.8003565598328802,
         0.8116445306925762,
         0.7950602933248615,
         0.807043914983098,
         0.802998560112573,
         0.8158609046574757,
         0.8052457339876117,
         0.8076855434506289,
         0.8025174332268732,
         0.809445962343645,
         0.7895915925112429,
         0.8064027556585136,
         0.7999870361815108,
         0.7904030020966613,
         0.8204836400356751,
         0.7880787453425828,
         0.7916278914652998,
         0.8093330352541531,
         0.8029125591347716,
         0.7866030962935984,
         0.8027586215979634,
         0.7917683716901391,
         0.7927599782535283,
         0.8078947368207142,
         0.8171374131334597,
         0.8046563927774468,
         0.8039614787173812,
         0.7898361430292387,
         0.8000846436240328,
         0.8058868965244883,
         0.7828489225085917,
         0.8096324368681483,
         0.7999678068389439,
         0.8071858600977705,
         0.7995211219117901,
         0.7794020490255815,
         0.7963061100361477,
         0.7914130671470335,
         0.8128464443623169,
         0.8191182630421316,
         0.80686939309131,
         0.8157443537431418,
         0.8131688104177842,
         0.7966987672701125,
         0.8183508554915602,
         0.816936712198366,
         0.8065750154543284,
         0.7877692931409181,
         0.802823962234655,
         0.8075372159411672,
         0.7926489392201691,
         0.7870772512886279,
         0.8015984535484649,
         0.8038958049916312,
         0.8224337547923102,
         0.7968044481213435,
         0.8126044620239584,
         0.7746483744149717,
         0.7904259768419283,
         0.8029777522693841,
         0.826605411946112,
         0.7932835702129416,
         0.7941704229841798,
         0.7887856070679733,
         0.8068790588986564,
         0.8034934623181035,
         0.82280082276621,
         0.8081589538969137,
         0.7923351202050148,
         0.7968229652464829,
         0.7787783463033134,
         0.7985682440356994,
         0.7993272284482162,
         0.8053519745147977,
         0.8049194487567394,
         0.8059982039270875,
         0.7965732946874579,
         0.8096374206138994
        ]
       ],
       "encoder": "json",
       "name": "ABC_GAN_4 Metrics",
       "version": 1
      }
     },
     "metadata": {
      "scrapbook": {
       "data": true,
       "display": false,
       "name": "ABC_GAN_4 Metrics"
      }
     },
     "output_type": "display_data"
    },
    {
     "name": "stdout",
     "output_type": "stream",
     "text": [
      "MAE\n",
      "0.04778598497295147\n"
     ]
    }
   ],
   "source": [
    "ABC_GAN4_metrics=ABC_train_test2.test_generator(gen4,test_data,prior_model,variance,bias,\"3\",device)\n",
    "sb.glue(\"ABC_GAN_4 Metrics\",ABC_GAN4_metrics)\n",
    "\n",
    "print(\"MAE\")\n",
    "print(mean(ABC_GAN4_metrics[1]))"
   ]
  },
  {
   "cell_type": "code",
   "execution_count": 26,
   "id": "042a3b3c",
   "metadata": {
    "execution": {
     "iopub.execute_input": "2022-07-25T11:10:45.309500Z",
     "iopub.status.busy": "2022-07-25T11:10:45.308889Z",
     "iopub.status.idle": "2022-07-25T11:10:46.273757Z",
     "shell.execute_reply": "2022-07-25T11:10:46.272484Z"
    },
    "id": "c8e46b48",
    "papermill": {
     "duration": 1.009963,
     "end_time": "2022-07-25T11:10:46.276591",
     "exception": false,
     "start_time": "2022-07-25T11:10:45.266628",
     "status": "completed"
    },
    "tags": []
   },
   "outputs": [
    {
     "data": {
      "image/png": "[encoded data removed]",
      "text/plain": [
       "<Figure size 432x288 with 1 Axes>"
      ]
     },
     "metadata": {
      "needs_background": "light"
     },
     "output_type": "display_data"
    },
    {
     "data": {
      "image/png": "[encoded data removed]",
      "text/plain": [
       "<Figure size 432x288 with 1 Axes>"
      ]
     },
     "metadata": {
      "needs_background": "light"
     },
     "output_type": "display_data"
    },
    {
     "data": {
      "image/png": "[encoded data removed]",
      "text/plain": [
       "<Figure size 432x288 with 1 Axes>"
      ]
     },
     "metadata": {
      "needs_background": "light"
     },
     "output_type": "display_data"
    },
    {
     "data": {
      "image/png": "[encoded data removed]",
      "text/plain": [
       "<Figure size 432x288 with 1 Axes>"
      ]
     },
     "metadata": {
      "needs_background": "light"
     },
     "output_type": "display_data"
    }
   ],
   "source": [
    "sanityChecks.discProbVsError(train_data,disc4,device)\n",
    "sanityChecks.discProbVsError(test_data,disc4,device)"
   ]
  },
  {
   "cell_type": "markdown",
   "id": "a5bd74c3",
   "metadata": {
    "id": "a5bd74c3",
    "papermill": {
     "duration": 0.043135,
     "end_time": "2022-07-25T11:10:46.361470",
     "exception": false,
     "start_time": "2022-07-25T11:10:46.318335",
     "status": "completed"
    },
    "tags": []
   },
   "source": [
    "## Skip Connection Model Analysis - ABC-GAN "
   ]
  },
  {
   "cell_type": "markdown",
   "id": "5744a8bf",
   "metadata": {
    "id": "5744a8bf",
    "papermill": {
     "duration": 0.091308,
     "end_time": "2022-07-25T11:10:46.504657",
     "exception": false,
     "start_time": "2022-07-25T11:10:46.413349",
     "status": "completed"
    },
    "tags": []
   },
   "source": [
    "### Weight Analysis \n",
    "\n",
    "Study the weights of the skip connection layer\n",
    "\n",
    "Equation of the skip connection is \n",
    "\n",
    "$output = y_{gan} * w + y_{abc} * (1-w)$"
   ]
  },
  {
   "cell_type": "code",
   "execution_count": 27,
   "id": "52c31dea",
   "metadata": {
    "execution": {
     "iopub.execute_input": "2022-07-25T11:10:46.630209Z",
     "iopub.status.busy": "2022-07-25T11:10:46.628266Z",
     "iopub.status.idle": "2022-07-25T11:10:46.654012Z",
     "shell.execute_reply": "2022-07-25T11:10:46.651138Z"
    },
    "id": "52c31dea",
    "papermill": {
     "duration": 0.105994,
     "end_time": "2022-07-25T11:10:46.666190",
     "exception": false,
     "start_time": "2022-07-25T11:10:46.560196",
     "status": "completed"
    },
    "tags": []
   },
   "outputs": [
    {
     "name": "stdout",
     "output_type": "stream",
     "text": [
      "Weight of the node at skip connection\n",
      "Parameter containing:\n",
      "tensor([[0.0193]], requires_grad=True)\n"
     ]
    },
    {
     "data": {
      "application/scrapbook.scrap.json+json": {
       "data": 0.019319092854857445,
       "encoder": "json",
       "name": "Skip Connection Weight",
       "version": 1
      }
     },
     "metadata": {
      "scrapbook": {
       "data": true,
       "display": false,
       "name": "Skip Connection Weight"
      }
     },
     "output_type": "display_data"
    }
   ],
   "source": [
    "print(\"Weight of the node at skip connection\")\n",
    "for name,param in gen3.named_parameters():\n",
    "    if(name == \"skipNode.weight\"):\n",
    "        print(param)\n",
    "        sb.glue(\"Skip Connection Weight\",param.item())"
   ]
  },
  {
   "cell_type": "markdown",
   "id": "8416770d",
   "metadata": {
    "id": "a5bd74c3",
    "papermill": {
     "duration": 0.043677,
     "end_time": "2022-07-25T11:10:46.757474",
     "exception": false,
     "start_time": "2022-07-25T11:10:46.713797",
     "status": "completed"
    },
    "tags": []
   },
   "source": [
    "## skipGAN Model Analysis (TabNet Generator) "
   ]
  },
  {
   "cell_type": "markdown",
   "id": "037b1e52",
   "metadata": {
    "id": "5744a8bf",
    "papermill": {
     "duration": 0.042216,
     "end_time": "2022-07-25T11:10:46.844139",
     "exception": false,
     "start_time": "2022-07-25T11:10:46.801923",
     "status": "completed"
    },
    "tags": []
   },
   "source": [
    "### Weight Analysis \n",
    "\n",
    "Study the weights of the skip connection layer\n",
    "\n",
    "Equation of the skip connection is \n",
    "\n",
    "$output = y_{gan} * w + y_{abc} * (1-w)$"
   ]
  },
  {
   "cell_type": "code",
   "execution_count": 28,
   "id": "99e91680",
   "metadata": {
    "execution": {
     "iopub.execute_input": "2022-07-25T11:10:46.933976Z",
     "iopub.status.busy": "2022-07-25T11:10:46.933367Z",
     "iopub.status.idle": "2022-07-25T11:10:46.946838Z",
     "shell.execute_reply": "2022-07-25T11:10:46.945960Z"
    },
    "id": "52c31dea",
    "papermill": {
     "duration": 0.066946,
     "end_time": "2022-07-25T11:10:46.951643",
     "exception": false,
     "start_time": "2022-07-25T11:10:46.884697",
     "status": "completed"
    },
    "tags": []
   },
   "outputs": [
    {
     "name": "stdout",
     "output_type": "stream",
     "text": [
      "Weight of the node at skip connection\n",
      "Parameter containing:\n",
      "tensor([[0.0379]], requires_grad=True)\n"
     ]
    },
    {
     "data": {
      "application/scrapbook.scrap.json+json": {
       "data": 0.03794427961111069,
       "encoder": "json",
       "name": "Skip Connection Weight",
       "version": 1
      }
     },
     "metadata": {
      "scrapbook": {
       "data": true,
       "display": false,
       "name": "Skip Connection Weight"
      }
     },
     "output_type": "display_data"
    }
   ],
   "source": [
    "print(\"Weight of the node at skip connection\")\n",
    "for name,param in gen4.named_parameters():\n",
    "    if(name == \"skipNode.weight\"):\n",
    "        print(param)\n",
    "        sb.glue(\"Skip Connection Weight\",param.item())"
   ]
  }
 ],
 "metadata": {
  "colab": {
   "collapsed_sections": [],
   "name": "ABC_GAN_Model-Catboost_Pre-gen.ipynb",
   "provenance": []
  },
  "interpreter": {
   "hash": "31f2aee4e71d21fbe5cf8b01ff0e069b9275f58929596ceb00d14d90e3e16cd6"
  },
  "kernelspec": {
   "display_name": "Python 3 (ipykernel)",
   "language": "python",
   "name": "python3"
  },
  "language_info": {
   "codemirror_mode": {
    "name": "ipython",
    "version": 3
   },
   "file_extension": ".py",
   "mimetype": "text/x-python",
   "name": "python",
   "nbconvert_exporter": "python",
   "pygments_lexer": "ipython3",
   "version": "3.8.13"
  },
  "papermill": {
   "default_parameters": {},
   "duration": 3544.573079,
   "end_time": "2022-07-25T11:10:47.959558",
   "environment_variables": {},
   "exception": null,
   "input_path": "ABC_GAN-TabNet.ipynb",
   "output_path": "./ABC_GAN_TabNet/ABC-GAN_output_1_8.ipynb",
   "parameters": {
    "bias": 0.01,
    "variance": 0.01
   },
   "start_time": "2022-07-25T10:11:43.386479",
   "version": "2.3.3"
  }
 },
 "nbformat": 4,
 "nbformat_minor": 5
}