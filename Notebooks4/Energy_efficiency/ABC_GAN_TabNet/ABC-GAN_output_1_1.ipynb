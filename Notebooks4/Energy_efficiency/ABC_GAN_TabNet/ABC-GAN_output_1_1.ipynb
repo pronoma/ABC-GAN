{
 "cells": [
  {
   "cell_type": "markdown",
   "id": "622780e6",
   "metadata": {
    "id": "622780e6",
    "papermill": {
     "duration": 0.007671,
     "end_time": "2022-07-25T08:24:12.406100",
     "exception": false,
     "start_time": "2022-07-25T08:24:12.398429",
     "status": "completed"
    },
    "tags": []
   },
   "source": [
    "## Import Libraries "
   ]
  },
  {
   "cell_type": "code",
   "execution_count": 1,
   "id": "a62397e3",
   "metadata": {
    "execution": {
     "iopub.execute_input": "2022-07-25T08:24:12.427137Z",
     "iopub.status.busy": "2022-07-25T08:24:12.426265Z",
     "iopub.status.idle": "2022-07-25T08:24:12.442255Z",
     "shell.execute_reply": "2022-07-25T08:24:12.441329Z"
    },
    "id": "a62397e3",
    "papermill": {
     "duration": 0.033736,
     "end_time": "2022-07-25T08:24:12.447418",
     "exception": false,
     "start_time": "2022-07-25T08:24:12.413682",
     "status": "completed"
    },
    "tags": []
   },
   "outputs": [],
   "source": [
    "import warnings\n",
    "import sys\n",
    "sys.path.insert(0, '../../src')\n",
    "warnings.filterwarnings('ignore')"
   ]
  },
  {
   "cell_type": "code",
   "execution_count": 2,
   "id": "d6a4e155",
   "metadata": {
    "execution": {
     "iopub.execute_input": "2022-07-25T08:24:12.467263Z",
     "iopub.status.busy": "2022-07-25T08:24:12.466340Z",
     "iopub.status.idle": "2022-07-25T08:24:18.456287Z",
     "shell.execute_reply": "2022-07-25T08:24:18.455114Z"
    },
    "id": "d6a4e155",
    "papermill": {
     "duration": 6.004144,
     "end_time": "2022-07-25T08:24:18.459840",
     "exception": false,
     "start_time": "2022-07-25T08:24:12.455696",
     "status": "completed"
    },
    "tags": []
   },
   "outputs": [],
   "source": [
    "import ABC_train_test2\n",
    "import energyefficiencyDataset\n",
    "import network\n",
    "import dataset\n",
    "import sanityChecks\n",
    "import torch \n",
    "import scrapbook as sb\n",
    "from statistics import mean \n",
    "import catboost as ctb \n",
    "from sklearn.model_selection import train_test_split\n",
    "from sklearn.metrics import mean_squared_error,mean_absolute_error\n",
    "import numpy as np\n",
    "from pytorch_tabnet.tab_model import TabNetRegressor"
   ]
  },
  {
   "cell_type": "markdown",
   "id": "2fa5b0f7",
   "metadata": {
    "id": "2fa5b0f7",
    "papermill": {
     "duration": 0.008699,
     "end_time": "2022-07-25T08:24:18.477104",
     "exception": false,
     "start_time": "2022-07-25T08:24:18.468405",
     "status": "completed"
    },
    "tags": []
   },
   "source": [
    "## Parameters "
   ]
  },
  {
   "cell_type": "code",
   "execution_count": 3,
   "id": "783186fb",
   "metadata": {
    "execution": {
     "iopub.execute_input": "2022-07-25T08:24:18.498244Z",
     "iopub.status.busy": "2022-07-25T08:24:18.497036Z",
     "iopub.status.idle": "2022-07-25T08:24:18.507615Z",
     "shell.execute_reply": "2022-07-25T08:24:18.506470Z"
    },
    "id": "783186fb",
    "papermill": {
     "duration": 0.02633,
     "end_time": "2022-07-25T08:24:18.511016",
     "exception": false,
     "start_time": "2022-07-25T08:24:18.484686",
     "status": "completed"
    },
    "tags": [
     "parameters"
    ]
   },
   "outputs": [],
   "source": [
    "variance = 1\n",
    "bias = 1 "
   ]
  },
  {
   "cell_type": "code",
   "execution_count": 4,
   "id": "0b20b00b",
   "metadata": {
    "execution": {
     "iopub.execute_input": "2022-07-25T08:24:18.527393Z",
     "iopub.status.busy": "2022-07-25T08:24:18.527054Z",
     "iopub.status.idle": "2022-07-25T08:24:18.532547Z",
     "shell.execute_reply": "2022-07-25T08:24:18.531036Z"
    },
    "papermill": {
     "duration": 0.017252,
     "end_time": "2022-07-25T08:24:18.535415",
     "exception": false,
     "start_time": "2022-07-25T08:24:18.518163",
     "status": "completed"
    },
    "tags": [
     "injected-parameters"
    ]
   },
   "outputs": [],
   "source": [
    "# Parameters\n",
    "variance = 0.1\n",
    "bias = 1\n"
   ]
  },
  {
   "cell_type": "markdown",
   "id": "391cdbfd",
   "metadata": {
    "id": "391cdbfd",
    "papermill": {
     "duration": 0.006963,
     "end_time": "2022-07-25T08:24:18.549106",
     "exception": false,
     "start_time": "2022-07-25T08:24:18.542143",
     "status": "completed"
    },
    "tags": []
   },
   "source": [
    "## Dataset \n"
   ]
  },
  {
   "cell_type": "code",
   "execution_count": 5,
   "id": "5b51f161",
   "metadata": {
    "execution": {
     "iopub.execute_input": "2022-07-25T08:24:18.565296Z",
     "iopub.status.busy": "2022-07-25T08:24:18.564989Z",
     "iopub.status.idle": "2022-07-25T08:24:18.570301Z",
     "shell.execute_reply": "2022-07-25T08:24:18.568739Z"
    },
    "id": "5b51f161",
    "papermill": {
     "duration": 0.016079,
     "end_time": "2022-07-25T08:24:18.573229",
     "exception": false,
     "start_time": "2022-07-25T08:24:18.557150",
     "status": "completed"
    },
    "tags": []
   },
   "outputs": [],
   "source": [
    "#Parameters \n",
    "n_features = 8\n",
    "n_samples= 768\n",
    "n_target = 1 "
   ]
  },
  {
   "cell_type": "code",
   "execution_count": 6,
   "id": "5d6eced4",
   "metadata": {
    "execution": {
     "iopub.execute_input": "2022-07-25T08:24:18.592287Z",
     "iopub.status.busy": "2022-07-25T08:24:18.591959Z",
     "iopub.status.idle": "2022-07-25T08:24:19.195682Z",
     "shell.execute_reply": "2022-07-25T08:24:19.194567Z"
    },
    "id": "5d6eced4",
    "papermill": {
     "duration": 0.617342,
     "end_time": "2022-07-25T08:24:19.198715",
     "exception": false,
     "start_time": "2022-07-25T08:24:18.581373",
     "status": "completed"
    },
    "tags": []
   },
   "outputs": [
    {
     "name": "stdout",
     "output_type": "stream",
     "text": [
      "     X1     X2     X3      X4   X5  X6   X7  X8     Y1     Y2\n",
      "0  0.98  514.5  294.0  110.25  7.0   2  0.0   0  15.55  21.33\n",
      "1  0.98  514.5  294.0  110.25  7.0   3  0.0   0  15.55  21.33\n",
      "2  0.98  514.5  294.0  110.25  7.0   4  0.0   0  15.55  21.33\n",
      "3  0.98  514.5  294.0  110.25  7.0   5  0.0   0  15.55  21.33\n",
      "4  0.90  563.5  318.5  122.50  7.0   2  0.0   0  20.84  28.28\n"
     ]
    }
   ],
   "source": [
    "X,Y = energyefficiencyDataset.energy_data()"
   ]
  },
  {
   "cell_type": "code",
   "execution_count": 7,
   "id": "fe007438",
   "metadata": {
    "execution": {
     "iopub.execute_input": "2022-07-25T08:24:19.216058Z",
     "iopub.status.busy": "2022-07-25T08:24:19.215576Z",
     "iopub.status.idle": "2022-07-25T08:24:19.222252Z",
     "shell.execute_reply": "2022-07-25T08:24:19.220699Z"
    },
    "id": "fe007438",
    "papermill": {
     "duration": 0.019116,
     "end_time": "2022-07-25T08:24:19.225460",
     "exception": false,
     "start_time": "2022-07-25T08:24:19.206344",
     "status": "completed"
    },
    "tags": []
   },
   "outputs": [],
   "source": [
    "#Train test split for dataset \n",
    "X_train,X_test,Y_train,Y_test = train_test_split(X,Y,test_size = 0.2)\n",
    "train_data = dataset.CustomDataset(X_train,Y_train)\n",
    "test_data = dataset.CustomDataset(X_test,Y_test)\n"
   ]
  },
  {
   "cell_type": "markdown",
   "id": "a9a1af34",
   "metadata": {
    "id": "a9a1af34",
    "papermill": {
     "duration": 0.00824,
     "end_time": "2022-07-25T08:24:19.241774",
     "exception": false,
     "start_time": "2022-07-25T08:24:19.233534",
     "status": "completed"
    },
    "tags": []
   },
   "source": [
    "## Training Parameters "
   ]
  },
  {
   "cell_type": "code",
   "execution_count": 8,
   "id": "952b7fc8",
   "metadata": {
    "execution": {
     "iopub.execute_input": "2022-07-25T08:24:19.269521Z",
     "iopub.status.busy": "2022-07-25T08:24:19.269180Z",
     "iopub.status.idle": "2022-07-25T08:24:19.273672Z",
     "shell.execute_reply": "2022-07-25T08:24:19.272904Z"
    },
    "id": "952b7fc8",
    "papermill": {
     "duration": 0.034104,
     "end_time": "2022-07-25T08:24:19.284553",
     "exception": false,
     "start_time": "2022-07-25T08:24:19.250449",
     "status": "completed"
    },
    "tags": []
   },
   "outputs": [],
   "source": [
    "batch_size = 32\n",
    "n_epochs = 1000\n",
    "#Select the device \n",
    "device = torch.device('cuda' if torch.cuda.is_available() else 'cpu')"
   ]
  },
  {
   "cell_type": "markdown",
   "id": "a95e1600",
   "metadata": {
    "id": "a95e1600",
    "papermill": {
     "duration": 0.008983,
     "end_time": "2022-07-25T08:24:19.305047",
     "exception": false,
     "start_time": "2022-07-25T08:24:19.296064",
     "status": "completed"
    },
    "tags": []
   },
   "source": [
    "# ABC Pre-generator Model \n",
    "\n",
    "1. The catboost model is used as a pre-generator model for the ABC-GAN. \n",
    "2. The model is first trained on the entire dataset \n",
    "3. It generats X,Y pairs and we add some Gaussian noise with mean 0 and variance 1 to it which is then feed as input to the generator.\n"
   ]
  },
  {
   "cell_type": "code",
   "execution_count": 9,
   "id": "ff8ce7bd",
   "metadata": {
    "execution": {
     "iopub.execute_input": "2022-07-25T08:24:19.326035Z",
     "iopub.status.busy": "2022-07-25T08:24:19.325359Z",
     "iopub.status.idle": "2022-07-25T08:27:07.813872Z",
     "shell.execute_reply": "2022-07-25T08:27:07.812188Z"
    },
    "id": "ff8ce7bd",
    "papermill": {
     "duration": 168.503469,
     "end_time": "2022-07-25T08:27:07.817045",
     "exception": false,
     "start_time": "2022-07-25T08:24:19.313576",
     "status": "completed"
    },
    "tags": []
   },
   "outputs": [
    {
     "name": "stdout",
     "output_type": "stream",
     "text": [
      "Device used : cpu\n"
     ]
    },
    {
     "name": "stdout",
     "output_type": "stream",
     "text": [
      "epoch 0  | loss: 0.93323 | train_mse: 0.56632 | train_mae: 0.60034 |  0:00:00s\n"
     ]
    },
    {
     "name": "stdout",
     "output_type": "stream",
     "text": [
      "epoch 1  | loss: 0.33087 | train_mse: 0.38164 | train_mae: 0.4601  |  0:00:01s\n"
     ]
    },
    {
     "name": "stdout",
     "output_type": "stream",
     "text": [
      "epoch 2  | loss: 0.23948 | train_mse: 0.18246 | train_mae: 0.33871 |  0:00:01s\n"
     ]
    },
    {
     "name": "stdout",
     "output_type": "stream",
     "text": [
      "epoch 3  | loss: 0.16242 | train_mse: 0.20595 | train_mae: 0.34551 |  0:00:02s\n"
     ]
    },
    {
     "name": "stdout",
     "output_type": "stream",
     "text": [
      "epoch 4  | loss: 0.16226 | train_mse: 0.09455 | train_mae: 0.22545 |  0:00:02s\n"
     ]
    },
    {
     "name": "stdout",
     "output_type": "stream",
     "text": [
      "epoch 5  | loss: 0.13611 | train_mse: 0.08268 | train_mae: 0.21649 |  0:00:03s\n"
     ]
    },
    {
     "name": "stdout",
     "output_type": "stream",
     "text": [
      "epoch 6  | loss: 0.13425 | train_mse: 0.11063 | train_mae: 0.23678 |  0:00:04s\n"
     ]
    },
    {
     "name": "stdout",
     "output_type": "stream",
     "text": [
      "epoch 7  | loss: 0.15269 | train_mse: 0.10055 | train_mae: 0.22125 |  0:00:04s\n"
     ]
    },
    {
     "name": "stdout",
     "output_type": "stream",
     "text": [
      "epoch 8  | loss: 0.10164 | train_mse: 0.0661  | train_mae: 0.19543 |  0:00:05s\n"
     ]
    },
    {
     "name": "stdout",
     "output_type": "stream",
     "text": [
      "epoch 9  | loss: 0.08594 | train_mse: 0.05702 | train_mae: 0.17763 |  0:00:05s\n"
     ]
    },
    {
     "name": "stdout",
     "output_type": "stream",
     "text": [
      "epoch 10 | loss: 0.10171 | train_mse: 0.07017 | train_mae: 0.1824  |  0:00:06s\n"
     ]
    },
    {
     "name": "stdout",
     "output_type": "stream",
     "text": [
      "epoch 11 | loss: 0.1217  | train_mse: 0.08066 | train_mae: 0.21805 |  0:00:06s\n"
     ]
    },
    {
     "name": "stdout",
     "output_type": "stream",
     "text": [
      "epoch 12 | loss: 0.11963 | train_mse: 0.05786 | train_mae: 0.18655 |  0:00:07s\n"
     ]
    },
    {
     "name": "stdout",
     "output_type": "stream",
     "text": [
      "epoch 13 | loss: 0.10956 | train_mse: 0.05995 | train_mae: 0.17461 |  0:00:07s\n"
     ]
    },
    {
     "name": "stdout",
     "output_type": "stream",
     "text": [
      "epoch 14 | loss: 0.09462 | train_mse: 0.04839 | train_mae: 0.15879 |  0:00:08s\n"
     ]
    },
    {
     "name": "stdout",
     "output_type": "stream",
     "text": [
      "epoch 15 | loss: 0.09313 | train_mse: 0.06998 | train_mae: 0.18645 |  0:00:08s\n"
     ]
    },
    {
     "name": "stdout",
     "output_type": "stream",
     "text": [
      "epoch 16 | loss: 0.08831 | train_mse: 0.07243 | train_mae: 0.18494 |  0:00:09s\n"
     ]
    },
    {
     "name": "stdout",
     "output_type": "stream",
     "text": [
      "epoch 17 | loss: 0.09329 | train_mse: 0.0532  | train_mae: 0.1661  |  0:00:09s\n"
     ]
    },
    {
     "name": "stdout",
     "output_type": "stream",
     "text": [
      "epoch 18 | loss: 0.07125 | train_mse: 0.04837 | train_mae: 0.16256 |  0:00:10s\n"
     ]
    },
    {
     "name": "stdout",
     "output_type": "stream",
     "text": [
      "epoch 19 | loss: 0.09888 | train_mse: 0.05334 | train_mae: 0.16309 |  0:00:10s\n"
     ]
    },
    {
     "name": "stdout",
     "output_type": "stream",
     "text": [
      "epoch 20 | loss: 0.0845  | train_mse: 0.05389 | train_mae: 0.17304 |  0:00:11s\n"
     ]
    },
    {
     "name": "stdout",
     "output_type": "stream",
     "text": [
      "epoch 21 | loss: 0.08116 | train_mse: 0.05573 | train_mae: 0.16668 |  0:00:11s\n"
     ]
    },
    {
     "name": "stdout",
     "output_type": "stream",
     "text": [
      "epoch 22 | loss: 0.07294 | train_mse: 0.03596 | train_mae: 0.14631 |  0:00:12s\n"
     ]
    },
    {
     "name": "stdout",
     "output_type": "stream",
     "text": [
      "epoch 23 | loss: 0.06772 | train_mse: 0.03273 | train_mae: 0.13522 |  0:00:12s\n"
     ]
    },
    {
     "name": "stdout",
     "output_type": "stream",
     "text": [
      "epoch 24 | loss: 0.08857 | train_mse: 0.03564 | train_mae: 0.13988 |  0:00:13s\n"
     ]
    },
    {
     "name": "stdout",
     "output_type": "stream",
     "text": [
      "epoch 25 | loss: 0.07669 | train_mse: 0.06326 | train_mae: 0.19656 |  0:00:14s\n"
     ]
    },
    {
     "name": "stdout",
     "output_type": "stream",
     "text": [
      "epoch 26 | loss: 0.07766 | train_mse: 0.02904 | train_mae: 0.12457 |  0:00:14s\n"
     ]
    },
    {
     "name": "stdout",
     "output_type": "stream",
     "text": [
      "epoch 27 | loss: 0.05445 | train_mse: 0.03248 | train_mae: 0.12635 |  0:00:15s\n"
     ]
    },
    {
     "name": "stdout",
     "output_type": "stream",
     "text": [
      "epoch 28 | loss: 0.05689 | train_mse: 0.0311  | train_mae: 0.1278  |  0:00:15s\n"
     ]
    },
    {
     "name": "stdout",
     "output_type": "stream",
     "text": [
      "epoch 29 | loss: 0.05205 | train_mse: 0.03961 | train_mae: 0.13666 |  0:00:16s\n"
     ]
    },
    {
     "name": "stdout",
     "output_type": "stream",
     "text": [
      "epoch 30 | loss: 0.05883 | train_mse: 0.04155 | train_mae: 0.16215 |  0:00:16s\n"
     ]
    },
    {
     "name": "stdout",
     "output_type": "stream",
     "text": [
      "epoch 31 | loss: 0.04824 | train_mse: 0.05643 | train_mae: 0.18181 |  0:00:17s\n"
     ]
    },
    {
     "name": "stdout",
     "output_type": "stream",
     "text": [
      "epoch 32 | loss: 0.06683 | train_mse: 0.0556  | train_mae: 0.16713 |  0:00:17s\n"
     ]
    },
    {
     "name": "stdout",
     "output_type": "stream",
     "text": [
      "epoch 33 | loss: 0.06715 | train_mse: 0.04375 | train_mae: 0.16717 |  0:00:18s\n"
     ]
    },
    {
     "name": "stdout",
     "output_type": "stream",
     "text": [
      "epoch 34 | loss: 0.05429 | train_mse: 0.02841 | train_mae: 0.11392 |  0:00:18s\n"
     ]
    },
    {
     "name": "stdout",
     "output_type": "stream",
     "text": [
      "epoch 35 | loss: 0.05767 | train_mse: 0.02963 | train_mae: 0.13322 |  0:00:19s\n"
     ]
    },
    {
     "name": "stdout",
     "output_type": "stream",
     "text": [
      "epoch 36 | loss: 0.05883 | train_mse: 0.027   | train_mae: 0.12374 |  0:00:19s\n"
     ]
    },
    {
     "name": "stdout",
     "output_type": "stream",
     "text": [
      "epoch 37 | loss: 0.04686 | train_mse: 0.02015 | train_mae: 0.10152 |  0:00:20s\n"
     ]
    },
    {
     "name": "stdout",
     "output_type": "stream",
     "text": [
      "epoch 38 | loss: 0.04617 | train_mse: 0.01944 | train_mae: 0.10354 |  0:00:20s\n"
     ]
    },
    {
     "name": "stdout",
     "output_type": "stream",
     "text": [
      "epoch 39 | loss: 0.05828 | train_mse: 0.03314 | train_mae: 0.14187 |  0:00:21s\n"
     ]
    },
    {
     "name": "stdout",
     "output_type": "stream",
     "text": [
      "epoch 40 | loss: 0.05375 | train_mse: 0.03595 | train_mae: 0.15681 |  0:00:21s\n"
     ]
    },
    {
     "name": "stdout",
     "output_type": "stream",
     "text": [
      "epoch 41 | loss: 0.05871 | train_mse: 0.03083 | train_mae: 0.12713 |  0:00:22s\n"
     ]
    },
    {
     "name": "stdout",
     "output_type": "stream",
     "text": [
      "epoch 42 | loss: 0.04525 | train_mse: 0.01859 | train_mae: 0.10564 |  0:00:22s\n"
     ]
    },
    {
     "name": "stdout",
     "output_type": "stream",
     "text": [
      "epoch 43 | loss: 0.0447  | train_mse: 0.0228  | train_mae: 0.11347 |  0:00:23s\n"
     ]
    },
    {
     "name": "stdout",
     "output_type": "stream",
     "text": [
      "epoch 44 | loss: 0.04307 | train_mse: 0.01439 | train_mae: 0.08847 |  0:00:23s\n"
     ]
    },
    {
     "name": "stdout",
     "output_type": "stream",
     "text": [
      "epoch 45 | loss: 0.03417 | train_mse: 0.01919 | train_mae: 0.11154 |  0:00:24s\n"
     ]
    },
    {
     "name": "stdout",
     "output_type": "stream",
     "text": [
      "epoch 46 | loss: 0.04166 | train_mse: 0.01867 | train_mae: 0.0985  |  0:00:25s\n"
     ]
    },
    {
     "name": "stdout",
     "output_type": "stream",
     "text": [
      "epoch 47 | loss: 0.02879 | train_mse: 0.01286 | train_mae: 0.08262 |  0:00:25s\n"
     ]
    },
    {
     "name": "stdout",
     "output_type": "stream",
     "text": [
      "epoch 48 | loss: 0.03033 | train_mse: 0.03028 | train_mae: 0.12859 |  0:00:26s\n"
     ]
    },
    {
     "name": "stdout",
     "output_type": "stream",
     "text": [
      "epoch 49 | loss: 0.03699 | train_mse: 0.02094 | train_mae: 0.10748 |  0:00:26s\n"
     ]
    },
    {
     "name": "stdout",
     "output_type": "stream",
     "text": [
      "epoch 50 | loss: 0.03677 | train_mse: 0.01611 | train_mae: 0.09987 |  0:00:27s\n"
     ]
    },
    {
     "name": "stdout",
     "output_type": "stream",
     "text": [
      "epoch 51 | loss: 0.04202 | train_mse: 0.01184 | train_mae: 0.0732  |  0:00:27s\n"
     ]
    },
    {
     "name": "stdout",
     "output_type": "stream",
     "text": [
      "epoch 52 | loss: 0.03005 | train_mse: 0.01247 | train_mae: 0.08185 |  0:00:28s\n"
     ]
    },
    {
     "name": "stdout",
     "output_type": "stream",
     "text": [
      "epoch 53 | loss: 0.03551 | train_mse: 0.01079 | train_mae: 0.0826  |  0:00:28s\n"
     ]
    },
    {
     "name": "stdout",
     "output_type": "stream",
     "text": [
      "epoch 54 | loss: 0.03639 | train_mse: 0.02787 | train_mae: 0.13103 |  0:00:29s\n"
     ]
    },
    {
     "name": "stdout",
     "output_type": "stream",
     "text": [
      "epoch 55 | loss: 0.02563 | train_mse: 0.01475 | train_mae: 0.09062 |  0:00:29s\n"
     ]
    },
    {
     "name": "stdout",
     "output_type": "stream",
     "text": [
      "epoch 56 | loss: 0.02833 | train_mse: 0.0142  | train_mae: 0.08866 |  0:00:30s\n"
     ]
    },
    {
     "name": "stdout",
     "output_type": "stream",
     "text": [
      "epoch 57 | loss: 0.02675 | train_mse: 0.01567 | train_mae: 0.08616 |  0:00:30s\n"
     ]
    },
    {
     "name": "stdout",
     "output_type": "stream",
     "text": [
      "epoch 58 | loss: 0.03713 | train_mse: 0.01674 | train_mae: 0.09573 |  0:00:31s\n"
     ]
    },
    {
     "name": "stdout",
     "output_type": "stream",
     "text": [
      "epoch 59 | loss: 0.03123 | train_mse: 0.01018 | train_mae: 0.07035 |  0:00:31s\n"
     ]
    },
    {
     "name": "stdout",
     "output_type": "stream",
     "text": [
      "epoch 60 | loss: 0.03492 | train_mse: 0.01387 | train_mae: 0.07975 |  0:00:32s\n"
     ]
    },
    {
     "name": "stdout",
     "output_type": "stream",
     "text": [
      "epoch 61 | loss: 0.03046 | train_mse: 0.01215 | train_mae: 0.07974 |  0:00:32s\n"
     ]
    },
    {
     "name": "stdout",
     "output_type": "stream",
     "text": [
      "epoch 62 | loss: 0.03144 | train_mse: 0.01682 | train_mae: 0.09074 |  0:00:33s\n"
     ]
    },
    {
     "name": "stdout",
     "output_type": "stream",
     "text": [
      "epoch 63 | loss: 0.0287  | train_mse: 0.00929 | train_mae: 0.07108 |  0:00:33s\n"
     ]
    },
    {
     "name": "stdout",
     "output_type": "stream",
     "text": [
      "epoch 64 | loss: 0.02615 | train_mse: 0.01501 | train_mae: 0.09945 |  0:00:34s\n"
     ]
    },
    {
     "name": "stdout",
     "output_type": "stream",
     "text": [
      "epoch 65 | loss: 0.03057 | train_mse: 0.01635 | train_mae: 0.09805 |  0:00:35s\n"
     ]
    },
    {
     "name": "stdout",
     "output_type": "stream",
     "text": [
      "epoch 66 | loss: 0.04267 | train_mse: 0.01042 | train_mae: 0.06999 |  0:00:35s\n"
     ]
    },
    {
     "name": "stdout",
     "output_type": "stream",
     "text": [
      "epoch 67 | loss: 0.02729 | train_mse: 0.01358 | train_mae: 0.07388 |  0:00:36s\n"
     ]
    },
    {
     "name": "stdout",
     "output_type": "stream",
     "text": [
      "epoch 68 | loss: 0.02375 | train_mse: 0.00982 | train_mae: 0.07126 |  0:00:36s\n"
     ]
    },
    {
     "name": "stdout",
     "output_type": "stream",
     "text": [
      "epoch 69 | loss: 0.02405 | train_mse: 0.01324 | train_mae: 0.08476 |  0:00:37s\n"
     ]
    },
    {
     "name": "stdout",
     "output_type": "stream",
     "text": [
      "epoch 70 | loss: 0.03023 | train_mse: 0.00853 | train_mae: 0.06543 |  0:00:37s\n"
     ]
    },
    {
     "name": "stdout",
     "output_type": "stream",
     "text": [
      "epoch 71 | loss: 0.02363 | train_mse: 0.00793 | train_mae: 0.0643  |  0:00:38s\n"
     ]
    },
    {
     "name": "stdout",
     "output_type": "stream",
     "text": [
      "epoch 72 | loss: 0.02411 | train_mse: 0.01062 | train_mae: 0.07732 |  0:00:38s\n"
     ]
    },
    {
     "name": "stdout",
     "output_type": "stream",
     "text": [
      "epoch 73 | loss: 0.02295 | train_mse: 0.01367 | train_mae: 0.08406 |  0:00:39s\n"
     ]
    },
    {
     "name": "stdout",
     "output_type": "stream",
     "text": [
      "epoch 74 | loss: 0.02213 | train_mse: 0.01639 | train_mae: 0.10651 |  0:00:39s\n"
     ]
    },
    {
     "name": "stdout",
     "output_type": "stream",
     "text": [
      "epoch 75 | loss: 0.03141 | train_mse: 0.026   | train_mae: 0.12973 |  0:00:40s\n"
     ]
    },
    {
     "name": "stdout",
     "output_type": "stream",
     "text": [
      "epoch 76 | loss: 0.03869 | train_mse: 0.0334  | train_mae: 0.12322 |  0:00:40s\n"
     ]
    },
    {
     "name": "stdout",
     "output_type": "stream",
     "text": [
      "epoch 77 | loss: 0.02928 | train_mse: 0.02979 | train_mae: 0.12024 |  0:00:41s\n"
     ]
    },
    {
     "name": "stdout",
     "output_type": "stream",
     "text": [
      "epoch 78 | loss: 0.03264 | train_mse: 0.01442 | train_mae: 0.09355 |  0:00:41s\n"
     ]
    },
    {
     "name": "stdout",
     "output_type": "stream",
     "text": [
      "epoch 79 | loss: 0.03857 | train_mse: 0.01568 | train_mae: 0.10234 |  0:00:42s\n"
     ]
    },
    {
     "name": "stdout",
     "output_type": "stream",
     "text": [
      "epoch 80 | loss: 0.03737 | train_mse: 0.02393 | train_mae: 0.11357 |  0:00:43s\n"
     ]
    },
    {
     "name": "stdout",
     "output_type": "stream",
     "text": [
      "epoch 81 | loss: 0.0305  | train_mse: 0.01131 | train_mae: 0.09073 |  0:00:43s\n"
     ]
    },
    {
     "name": "stdout",
     "output_type": "stream",
     "text": [
      "epoch 82 | loss: 0.03013 | train_mse: 0.01696 | train_mae: 0.10384 |  0:00:44s\n"
     ]
    },
    {
     "name": "stdout",
     "output_type": "stream",
     "text": [
      "epoch 83 | loss: 0.02851 | train_mse: 0.01178 | train_mae: 0.08871 |  0:00:44s\n"
     ]
    },
    {
     "name": "stdout",
     "output_type": "stream",
     "text": [
      "epoch 84 | loss: 0.03485 | train_mse: 0.01466 | train_mae: 0.08991 |  0:00:45s\n"
     ]
    },
    {
     "name": "stdout",
     "output_type": "stream",
     "text": [
      "epoch 85 | loss: 0.02829 | train_mse: 0.00697 | train_mae: 0.06499 |  0:00:45s\n"
     ]
    },
    {
     "name": "stdout",
     "output_type": "stream",
     "text": [
      "epoch 86 | loss: 0.02754 | train_mse: 0.02389 | train_mae: 0.12598 |  0:00:46s\n"
     ]
    },
    {
     "name": "stdout",
     "output_type": "stream",
     "text": [
      "epoch 87 | loss: 0.03449 | train_mse: 0.01386 | train_mae: 0.09281 |  0:00:46s\n"
     ]
    },
    {
     "name": "stdout",
     "output_type": "stream",
     "text": [
      "epoch 88 | loss: 0.03269 | train_mse: 0.01522 | train_mae: 0.09051 |  0:00:47s\n"
     ]
    },
    {
     "name": "stdout",
     "output_type": "stream",
     "text": [
      "epoch 89 | loss: 0.02684 | train_mse: 0.01206 | train_mae: 0.08818 |  0:00:47s\n"
     ]
    },
    {
     "name": "stdout",
     "output_type": "stream",
     "text": [
      "epoch 90 | loss: 0.02868 | train_mse: 0.01577 | train_mae: 0.0862  |  0:00:48s\n"
     ]
    },
    {
     "name": "stdout",
     "output_type": "stream",
     "text": [
      "epoch 91 | loss: 0.03352 | train_mse: 0.00943 | train_mae: 0.07243 |  0:00:48s\n"
     ]
    },
    {
     "name": "stdout",
     "output_type": "stream",
     "text": [
      "epoch 92 | loss: 0.01934 | train_mse: 0.01196 | train_mae: 0.09245 |  0:00:49s\n"
     ]
    },
    {
     "name": "stdout",
     "output_type": "stream",
     "text": [
      "epoch 93 | loss: 0.02149 | train_mse: 0.0084  | train_mae: 0.0711  |  0:00:49s\n"
     ]
    },
    {
     "name": "stdout",
     "output_type": "stream",
     "text": [
      "epoch 94 | loss: 0.02086 | train_mse: 0.01023 | train_mae: 0.08199 |  0:00:50s\n"
     ]
    },
    {
     "name": "stdout",
     "output_type": "stream",
     "text": [
      "epoch 95 | loss: 0.02155 | train_mse: 0.01111 | train_mae: 0.08059 |  0:00:50s\n"
     ]
    },
    {
     "name": "stdout",
     "output_type": "stream",
     "text": [
      "epoch 96 | loss: 0.02695 | train_mse: 0.00723 | train_mae: 0.06381 |  0:00:51s\n"
     ]
    },
    {
     "name": "stdout",
     "output_type": "stream",
     "text": [
      "epoch 97 | loss: 0.02201 | train_mse: 0.01419 | train_mae: 0.08459 |  0:00:51s\n"
     ]
    },
    {
     "name": "stdout",
     "output_type": "stream",
     "text": [
      "epoch 98 | loss: 0.02019 | train_mse: 0.0074  | train_mae: 0.06423 |  0:00:52s\n"
     ]
    },
    {
     "name": "stdout",
     "output_type": "stream",
     "text": [
      "epoch 99 | loss: 0.01821 | train_mse: 0.01337 | train_mae: 0.09092 |  0:00:52s\n"
     ]
    },
    {
     "name": "stdout",
     "output_type": "stream",
     "text": [
      "epoch 100| loss: 0.02107 | train_mse: 0.00841 | train_mae: 0.06653 |  0:00:53s\n"
     ]
    },
    {
     "name": "stdout",
     "output_type": "stream",
     "text": [
      "epoch 101| loss: 0.02327 | train_mse: 0.00723 | train_mae: 0.06576 |  0:00:53s\n"
     ]
    },
    {
     "name": "stdout",
     "output_type": "stream",
     "text": [
      "epoch 102| loss: 0.022   | train_mse: 0.00943 | train_mae: 0.07445 |  0:00:54s\n"
     ]
    },
    {
     "name": "stdout",
     "output_type": "stream",
     "text": [
      "epoch 103| loss: 0.0225  | train_mse: 0.00957 | train_mae: 0.07095 |  0:00:54s\n"
     ]
    },
    {
     "name": "stdout",
     "output_type": "stream",
     "text": [
      "epoch 104| loss: 0.0213  | train_mse: 0.01311 | train_mae: 0.08656 |  0:00:55s\n"
     ]
    },
    {
     "name": "stdout",
     "output_type": "stream",
     "text": [
      "epoch 105| loss: 0.03475 | train_mse: 0.01597 | train_mae: 0.09443 |  0:00:56s\n"
     ]
    },
    {
     "name": "stdout",
     "output_type": "stream",
     "text": [
      "epoch 106| loss: 0.02724 | train_mse: 0.01284 | train_mae: 0.08056 |  0:00:56s\n"
     ]
    },
    {
     "name": "stdout",
     "output_type": "stream",
     "text": [
      "epoch 107| loss: 0.02423 | train_mse: 0.00833 | train_mae: 0.06742 |  0:00:57s\n"
     ]
    },
    {
     "name": "stdout",
     "output_type": "stream",
     "text": [
      "epoch 108| loss: 0.02695 | train_mse: 0.01483 | train_mae: 0.08115 |  0:00:58s\n"
     ]
    },
    {
     "name": "stdout",
     "output_type": "stream",
     "text": [
      "epoch 109| loss: 0.02719 | train_mse: 0.00866 | train_mae: 0.07087 |  0:00:58s\n"
     ]
    },
    {
     "name": "stdout",
     "output_type": "stream",
     "text": [
      "epoch 110| loss: 0.01992 | train_mse: 0.01084 | train_mae: 0.07293 |  0:00:59s\n"
     ]
    },
    {
     "name": "stdout",
     "output_type": "stream",
     "text": [
      "epoch 111| loss: 0.01698 | train_mse: 0.01176 | train_mae: 0.08007 |  0:00:59s\n"
     ]
    },
    {
     "name": "stdout",
     "output_type": "stream",
     "text": [
      "epoch 112| loss: 0.02205 | train_mse: 0.01312 | train_mae: 0.08317 |  0:01:00s\n"
     ]
    },
    {
     "name": "stdout",
     "output_type": "stream",
     "text": [
      "epoch 113| loss: 0.02656 | train_mse: 0.01538 | train_mae: 0.09588 |  0:01:00s\n"
     ]
    },
    {
     "name": "stdout",
     "output_type": "stream",
     "text": [
      "epoch 114| loss: 0.02072 | train_mse: 0.0108  | train_mae: 0.079   |  0:01:01s\n"
     ]
    },
    {
     "name": "stdout",
     "output_type": "stream",
     "text": [
      "epoch 115| loss: 0.02612 | train_mse: 0.00986 | train_mae: 0.07565 |  0:01:01s\n"
     ]
    },
    {
     "name": "stdout",
     "output_type": "stream",
     "text": [
      "epoch 116| loss: 0.02597 | train_mse: 0.00884 | train_mae: 0.07178 |  0:01:02s\n"
     ]
    },
    {
     "name": "stdout",
     "output_type": "stream",
     "text": [
      "epoch 117| loss: 0.02535 | train_mse: 0.01087 | train_mae: 0.07777 |  0:01:02s\n"
     ]
    },
    {
     "name": "stdout",
     "output_type": "stream",
     "text": [
      "epoch 118| loss: 0.02211 | train_mse: 0.01129 | train_mae: 0.07837 |  0:01:03s\n"
     ]
    },
    {
     "name": "stdout",
     "output_type": "stream",
     "text": [
      "epoch 119| loss: 0.02014 | train_mse: 0.00823 | train_mae: 0.06753 |  0:01:03s\n"
     ]
    },
    {
     "name": "stdout",
     "output_type": "stream",
     "text": [
      "epoch 120| loss: 0.0202  | train_mse: 0.01283 | train_mae: 0.08118 |  0:01:04s\n"
     ]
    },
    {
     "name": "stdout",
     "output_type": "stream",
     "text": [
      "epoch 121| loss: 0.02515 | train_mse: 0.01362 | train_mae: 0.09095 |  0:01:04s\n"
     ]
    },
    {
     "name": "stdout",
     "output_type": "stream",
     "text": [
      "epoch 122| loss: 0.02738 | train_mse: 0.0187  | train_mae: 0.09527 |  0:01:05s\n"
     ]
    },
    {
     "name": "stdout",
     "output_type": "stream",
     "text": [
      "epoch 123| loss: 0.02205 | train_mse: 0.00855 | train_mae: 0.07105 |  0:01:05s\n"
     ]
    },
    {
     "name": "stdout",
     "output_type": "stream",
     "text": [
      "epoch 124| loss: 0.02353 | train_mse: 0.01079 | train_mae: 0.0709  |  0:01:06s\n"
     ]
    },
    {
     "name": "stdout",
     "output_type": "stream",
     "text": [
      "epoch 125| loss: 0.01912 | train_mse: 0.00908 | train_mae: 0.07307 |  0:01:07s\n"
     ]
    },
    {
     "name": "stdout",
     "output_type": "stream",
     "text": [
      "epoch 126| loss: 0.01567 | train_mse: 0.00874 | train_mae: 0.07095 |  0:01:07s\n"
     ]
    },
    {
     "name": "stdout",
     "output_type": "stream",
     "text": [
      "epoch 127| loss: 0.02517 | train_mse: 0.00661 | train_mae: 0.06192 |  0:01:08s\n"
     ]
    },
    {
     "name": "stdout",
     "output_type": "stream",
     "text": [
      "epoch 128| loss: 0.02524 | train_mse: 0.01395 | train_mae: 0.08799 |  0:01:08s\n"
     ]
    },
    {
     "name": "stdout",
     "output_type": "stream",
     "text": [
      "epoch 129| loss: 0.02273 | train_mse: 0.00873 | train_mae: 0.06882 |  0:01:09s\n"
     ]
    },
    {
     "name": "stdout",
     "output_type": "stream",
     "text": [
      "epoch 130| loss: 0.01717 | train_mse: 0.00753 | train_mae: 0.0656  |  0:01:09s\n"
     ]
    },
    {
     "name": "stdout",
     "output_type": "stream",
     "text": [
      "epoch 131| loss: 0.01578 | train_mse: 0.00601 | train_mae: 0.06098 |  0:01:10s\n"
     ]
    },
    {
     "name": "stdout",
     "output_type": "stream",
     "text": [
      "epoch 132| loss: 0.02022 | train_mse: 0.0046  | train_mae: 0.0522  |  0:01:10s\n"
     ]
    },
    {
     "name": "stdout",
     "output_type": "stream",
     "text": [
      "epoch 133| loss: 0.02233 | train_mse: 0.0097  | train_mae: 0.07889 |  0:01:11s\n"
     ]
    },
    {
     "name": "stdout",
     "output_type": "stream",
     "text": [
      "epoch 134| loss: 0.02097 | train_mse: 0.00635 | train_mae: 0.06072 |  0:01:11s\n"
     ]
    },
    {
     "name": "stdout",
     "output_type": "stream",
     "text": [
      "epoch 135| loss: 0.01666 | train_mse: 0.00563 | train_mae: 0.05504 |  0:01:12s\n"
     ]
    },
    {
     "name": "stdout",
     "output_type": "stream",
     "text": [
      "epoch 136| loss: 0.01641 | train_mse: 0.00941 | train_mae: 0.06805 |  0:01:12s\n"
     ]
    },
    {
     "name": "stdout",
     "output_type": "stream",
     "text": [
      "epoch 137| loss: 0.03278 | train_mse: 0.01846 | train_mae: 0.09465 |  0:01:13s\n"
     ]
    },
    {
     "name": "stdout",
     "output_type": "stream",
     "text": [
      "epoch 138| loss: 0.01696 | train_mse: 0.02828 | train_mae: 0.10999 |  0:01:13s\n"
     ]
    },
    {
     "name": "stdout",
     "output_type": "stream",
     "text": [
      "epoch 139| loss: 0.02202 | train_mse: 0.03962 | train_mae: 0.11672 |  0:01:14s\n"
     ]
    },
    {
     "name": "stdout",
     "output_type": "stream",
     "text": [
      "epoch 140| loss: 0.04814 | train_mse: 0.01873 | train_mae: 0.10187 |  0:01:14s\n"
     ]
    },
    {
     "name": "stdout",
     "output_type": "stream",
     "text": [
      "epoch 141| loss: 0.01942 | train_mse: 0.02663 | train_mae: 0.12494 |  0:01:15s\n"
     ]
    },
    {
     "name": "stdout",
     "output_type": "stream",
     "text": [
      "epoch 142| loss: 0.02161 | train_mse: 0.00945 | train_mae: 0.07711 |  0:01:15s\n"
     ]
    },
    {
     "name": "stdout",
     "output_type": "stream",
     "text": [
      "epoch 143| loss: 0.01737 | train_mse: 0.00966 | train_mae: 0.07772 |  0:01:16s\n"
     ]
    },
    {
     "name": "stdout",
     "output_type": "stream",
     "text": [
      "epoch 144| loss: 0.01738 | train_mse: 0.01611 | train_mae: 0.08276 |  0:01:16s\n"
     ]
    },
    {
     "name": "stdout",
     "output_type": "stream",
     "text": [
      "epoch 145| loss: 0.01509 | train_mse: 0.00765 | train_mae: 0.06141 |  0:01:17s\n"
     ]
    },
    {
     "name": "stdout",
     "output_type": "stream",
     "text": [
      "epoch 146| loss: 0.01923 | train_mse: 0.00839 | train_mae: 0.06753 |  0:01:17s\n"
     ]
    },
    {
     "name": "stdout",
     "output_type": "stream",
     "text": [
      "epoch 147| loss: 0.02013 | train_mse: 0.00831 | train_mae: 0.066   |  0:01:18s\n"
     ]
    },
    {
     "name": "stdout",
     "output_type": "stream",
     "text": [
      "epoch 148| loss: 0.02046 | train_mse: 0.01719 | train_mae: 0.09322 |  0:01:19s\n"
     ]
    },
    {
     "name": "stdout",
     "output_type": "stream",
     "text": [
      "epoch 149| loss: 0.02352 | train_mse: 0.00943 | train_mae: 0.07634 |  0:01:19s\n"
     ]
    },
    {
     "name": "stdout",
     "output_type": "stream",
     "text": [
      "epoch 150| loss: 0.02275 | train_mse: 0.00774 | train_mae: 0.06455 |  0:01:20s\n"
     ]
    },
    {
     "name": "stdout",
     "output_type": "stream",
     "text": [
      "epoch 151| loss: 0.0203  | train_mse: 0.00949 | train_mae: 0.07984 |  0:01:20s\n"
     ]
    },
    {
     "name": "stdout",
     "output_type": "stream",
     "text": [
      "epoch 152| loss: 0.02911 | train_mse: 0.00565 | train_mae: 0.05754 |  0:01:21s\n"
     ]
    },
    {
     "name": "stdout",
     "output_type": "stream",
     "text": [
      "epoch 153| loss: 0.02243 | train_mse: 0.00814 | train_mae: 0.06884 |  0:01:21s\n"
     ]
    },
    {
     "name": "stdout",
     "output_type": "stream",
     "text": [
      "epoch 154| loss: 0.02633 | train_mse: 0.01904 | train_mae: 0.09461 |  0:01:22s\n"
     ]
    },
    {
     "name": "stdout",
     "output_type": "stream",
     "text": [
      "epoch 155| loss: 0.01547 | train_mse: 0.01204 | train_mae: 0.07204 |  0:01:22s\n"
     ]
    },
    {
     "name": "stdout",
     "output_type": "stream",
     "text": [
      "epoch 156| loss: 0.01591 | train_mse: 0.00699 | train_mae: 0.06243 |  0:01:23s\n"
     ]
    },
    {
     "name": "stdout",
     "output_type": "stream",
     "text": [
      "epoch 157| loss: 0.01982 | train_mse: 0.01245 | train_mae: 0.08615 |  0:01:23s\n"
     ]
    },
    {
     "name": "stdout",
     "output_type": "stream",
     "text": [
      "epoch 158| loss: 0.02481 | train_mse: 0.00707 | train_mae: 0.06216 |  0:01:24s\n"
     ]
    },
    {
     "name": "stdout",
     "output_type": "stream",
     "text": [
      "epoch 159| loss: 0.01418 | train_mse: 0.00512 | train_mae: 0.05144 |  0:01:24s\n"
     ]
    },
    {
     "name": "stdout",
     "output_type": "stream",
     "text": [
      "epoch 160| loss: 0.01468 | train_mse: 0.00668 | train_mae: 0.06387 |  0:01:25s\n"
     ]
    },
    {
     "name": "stdout",
     "output_type": "stream",
     "text": [
      "epoch 161| loss: 0.01886 | train_mse: 0.01182 | train_mae: 0.087   |  0:01:25s\n"
     ]
    },
    {
     "name": "stdout",
     "output_type": "stream",
     "text": [
      "epoch 162| loss: 0.02018 | train_mse: 0.00992 | train_mae: 0.07976 |  0:01:26s\n"
     ]
    },
    {
     "name": "stdout",
     "output_type": "stream",
     "text": [
      "epoch 163| loss: 0.02174 | train_mse: 0.00597 | train_mae: 0.06076 |  0:01:26s\n"
     ]
    },
    {
     "name": "stdout",
     "output_type": "stream",
     "text": [
      "epoch 164| loss: 0.01324 | train_mse: 0.00825 | train_mae: 0.05944 |  0:01:27s\n"
     ]
    },
    {
     "name": "stdout",
     "output_type": "stream",
     "text": [
      "epoch 165| loss: 0.02468 | train_mse: 0.0074  | train_mae: 0.06035 |  0:01:27s\n"
     ]
    },
    {
     "name": "stdout",
     "output_type": "stream",
     "text": [
      "epoch 166| loss: 0.01877 | train_mse: 0.01493 | train_mae: 0.0819  |  0:01:28s\n"
     ]
    },
    {
     "name": "stdout",
     "output_type": "stream",
     "text": [
      "epoch 167| loss: 0.01937 | train_mse: 0.00873 | train_mae: 0.0675  |  0:01:28s\n"
     ]
    },
    {
     "name": "stdout",
     "output_type": "stream",
     "text": [
      "epoch 168| loss: 0.02259 | train_mse: 0.00759 | train_mae: 0.06642 |  0:01:29s\n"
     ]
    },
    {
     "name": "stdout",
     "output_type": "stream",
     "text": [
      "epoch 169| loss: 0.04099 | train_mse: 0.01515 | train_mae: 0.09516 |  0:01:29s\n"
     ]
    },
    {
     "name": "stdout",
     "output_type": "stream",
     "text": [
      "epoch 170| loss: 0.03517 | train_mse: 0.01425 | train_mae: 0.08679 |  0:01:30s\n"
     ]
    },
    {
     "name": "stdout",
     "output_type": "stream",
     "text": [
      "epoch 171| loss: 0.0205  | train_mse: 0.01597 | train_mae: 0.08646 |  0:01:31s\n"
     ]
    },
    {
     "name": "stdout",
     "output_type": "stream",
     "text": [
      "epoch 172| loss: 0.02738 | train_mse: 0.01727 | train_mae: 0.09526 |  0:01:31s\n"
     ]
    },
    {
     "name": "stdout",
     "output_type": "stream",
     "text": [
      "epoch 173| loss: 0.02875 | train_mse: 0.01449 | train_mae: 0.09836 |  0:01:32s\n"
     ]
    },
    {
     "name": "stdout",
     "output_type": "stream",
     "text": [
      "epoch 174| loss: 0.04564 | train_mse: 0.03605 | train_mae: 0.12696 |  0:01:32s\n"
     ]
    },
    {
     "name": "stdout",
     "output_type": "stream",
     "text": [
      "epoch 175| loss: 0.03568 | train_mse: 0.01332 | train_mae: 0.07799 |  0:01:33s\n"
     ]
    },
    {
     "name": "stdout",
     "output_type": "stream",
     "text": [
      "epoch 176| loss: 0.03918 | train_mse: 0.01625 | train_mae: 0.09821 |  0:01:33s\n"
     ]
    },
    {
     "name": "stdout",
     "output_type": "stream",
     "text": [
      "epoch 177| loss: 0.02334 | train_mse: 0.01527 | train_mae: 0.09427 |  0:01:34s\n"
     ]
    },
    {
     "name": "stdout",
     "output_type": "stream",
     "text": [
      "epoch 178| loss: 0.01857 | train_mse: 0.00653 | train_mae: 0.06265 |  0:01:35s\n"
     ]
    },
    {
     "name": "stdout",
     "output_type": "stream",
     "text": [
      "epoch 179| loss: 0.01814 | train_mse: 0.00713 | train_mae: 0.05967 |  0:01:36s\n"
     ]
    },
    {
     "name": "stdout",
     "output_type": "stream",
     "text": [
      "epoch 180| loss: 0.01876 | train_mse: 0.00555 | train_mae: 0.0579  |  0:01:37s\n"
     ]
    },
    {
     "name": "stdout",
     "output_type": "stream",
     "text": [
      "epoch 181| loss: 0.02482 | train_mse: 0.01225 | train_mae: 0.08737 |  0:01:37s\n"
     ]
    },
    {
     "name": "stdout",
     "output_type": "stream",
     "text": [
      "epoch 182| loss: 0.02026 | train_mse: 0.007   | train_mae: 0.0686  |  0:01:38s\n"
     ]
    },
    {
     "name": "stdout",
     "output_type": "stream",
     "text": [
      "epoch 183| loss: 0.01263 | train_mse: 0.00763 | train_mae: 0.06698 |  0:01:39s\n"
     ]
    },
    {
     "name": "stdout",
     "output_type": "stream",
     "text": [
      "epoch 184| loss: 0.01431 | train_mse: 0.00777 | train_mae: 0.06472 |  0:01:39s\n"
     ]
    },
    {
     "name": "stdout",
     "output_type": "stream",
     "text": [
      "epoch 185| loss: 0.02927 | train_mse: 0.008   | train_mae: 0.0651  |  0:01:40s\n"
     ]
    },
    {
     "name": "stdout",
     "output_type": "stream",
     "text": [
      "epoch 186| loss: 0.01582 | train_mse: 0.01337 | train_mae: 0.07591 |  0:01:40s\n"
     ]
    },
    {
     "name": "stdout",
     "output_type": "stream",
     "text": [
      "epoch 187| loss: 0.02649 | train_mse: 0.00689 | train_mae: 0.05956 |  0:01:41s\n"
     ]
    },
    {
     "name": "stdout",
     "output_type": "stream",
     "text": [
      "epoch 188| loss: 0.01881 | train_mse: 0.01599 | train_mae: 0.09669 |  0:01:41s\n"
     ]
    },
    {
     "name": "stdout",
     "output_type": "stream",
     "text": [
      "epoch 189| loss: 0.01692 | train_mse: 0.00841 | train_mae: 0.06003 |  0:01:42s\n"
     ]
    },
    {
     "name": "stdout",
     "output_type": "stream",
     "text": [
      "epoch 190| loss: 0.02736 | train_mse: 0.01242 | train_mae: 0.08165 |  0:01:43s\n"
     ]
    },
    {
     "name": "stdout",
     "output_type": "stream",
     "text": [
      "epoch 191| loss: 0.01747 | train_mse: 0.00904 | train_mae: 0.07    |  0:01:43s\n"
     ]
    },
    {
     "name": "stdout",
     "output_type": "stream",
     "text": [
      "epoch 192| loss: 0.01379 | train_mse: 0.00476 | train_mae: 0.0524  |  0:01:44s\n"
     ]
    },
    {
     "name": "stdout",
     "output_type": "stream",
     "text": [
      "epoch 193| loss: 0.01359 | train_mse: 0.00683 | train_mae: 0.05485 |  0:01:44s\n"
     ]
    },
    {
     "name": "stdout",
     "output_type": "stream",
     "text": [
      "epoch 194| loss: 0.02154 | train_mse: 0.0057  | train_mae: 0.0595  |  0:01:45s\n"
     ]
    },
    {
     "name": "stdout",
     "output_type": "stream",
     "text": [
      "epoch 195| loss: 0.03687 | train_mse: 0.00512 | train_mae: 0.0547  |  0:01:45s\n"
     ]
    },
    {
     "name": "stdout",
     "output_type": "stream",
     "text": [
      "epoch 196| loss: 0.02176 | train_mse: 0.00483 | train_mae: 0.05188 |  0:01:46s\n"
     ]
    },
    {
     "name": "stdout",
     "output_type": "stream",
     "text": [
      "epoch 197| loss: 0.01573 | train_mse: 0.0068  | train_mae: 0.06387 |  0:01:46s\n"
     ]
    },
    {
     "name": "stdout",
     "output_type": "stream",
     "text": [
      "epoch 198| loss: 0.02306 | train_mse: 0.01672 | train_mae: 0.07745 |  0:01:47s\n"
     ]
    },
    {
     "name": "stdout",
     "output_type": "stream",
     "text": [
      "epoch 199| loss: 0.01672 | train_mse: 0.01045 | train_mae: 0.07836 |  0:01:47s\n"
     ]
    },
    {
     "name": "stdout",
     "output_type": "stream",
     "text": [
      "epoch 200| loss: 0.01405 | train_mse: 0.0065  | train_mae: 0.05653 |  0:01:48s\n"
     ]
    },
    {
     "name": "stdout",
     "output_type": "stream",
     "text": [
      "epoch 201| loss: 0.01505 | train_mse: 0.00688 | train_mae: 0.05935 |  0:01:48s\n"
     ]
    },
    {
     "name": "stdout",
     "output_type": "stream",
     "text": [
      "epoch 202| loss: 0.01317 | train_mse: 0.01035 | train_mae: 0.07647 |  0:01:49s\n"
     ]
    },
    {
     "name": "stdout",
     "output_type": "stream",
     "text": [
      "epoch 203| loss: 0.01576 | train_mse: 0.00607 | train_mae: 0.0551  |  0:01:49s\n"
     ]
    },
    {
     "name": "stdout",
     "output_type": "stream",
     "text": [
      "epoch 204| loss: 0.01405 | train_mse: 0.0048  | train_mae: 0.05051 |  0:01:50s\n"
     ]
    },
    {
     "name": "stdout",
     "output_type": "stream",
     "text": [
      "epoch 205| loss: 0.01565 | train_mse: 0.0082  | train_mae: 0.0688  |  0:01:51s\n"
     ]
    },
    {
     "name": "stdout",
     "output_type": "stream",
     "text": [
      "epoch 206| loss: 0.01421 | train_mse: 0.00713 | train_mae: 0.06607 |  0:01:51s\n"
     ]
    },
    {
     "name": "stdout",
     "output_type": "stream",
     "text": [
      "epoch 207| loss: 0.01994 | train_mse: 0.0072  | train_mae: 0.06966 |  0:01:52s\n"
     ]
    },
    {
     "name": "stdout",
     "output_type": "stream",
     "text": [
      "epoch 208| loss: 0.01323 | train_mse: 0.00779 | train_mae: 0.06707 |  0:01:52s\n"
     ]
    },
    {
     "name": "stdout",
     "output_type": "stream",
     "text": [
      "epoch 209| loss: 0.01475 | train_mse: 0.00594 | train_mae: 0.05815 |  0:01:53s\n"
     ]
    },
    {
     "name": "stdout",
     "output_type": "stream",
     "text": [
      "epoch 210| loss: 0.01368 | train_mse: 0.00757 | train_mae: 0.06083 |  0:01:53s\n"
     ]
    },
    {
     "name": "stdout",
     "output_type": "stream",
     "text": [
      "epoch 211| loss: 0.0152  | train_mse: 0.01063 | train_mae: 0.08028 |  0:01:54s\n"
     ]
    },
    {
     "name": "stdout",
     "output_type": "stream",
     "text": [
      "epoch 212| loss: 0.02387 | train_mse: 0.00729 | train_mae: 0.06215 |  0:01:54s\n"
     ]
    },
    {
     "name": "stdout",
     "output_type": "stream",
     "text": [
      "epoch 213| loss: 0.01362 | train_mse: 0.00735 | train_mae: 0.06576 |  0:01:55s\n"
     ]
    },
    {
     "name": "stdout",
     "output_type": "stream",
     "text": [
      "epoch 214| loss: 0.01931 | train_mse: 0.00948 | train_mae: 0.06503 |  0:01:55s\n"
     ]
    },
    {
     "name": "stdout",
     "output_type": "stream",
     "text": [
      "epoch 215| loss: 0.01901 | train_mse: 0.00984 | train_mae: 0.06918 |  0:01:56s\n"
     ]
    },
    {
     "name": "stdout",
     "output_type": "stream",
     "text": [
      "epoch 216| loss: 0.02079 | train_mse: 0.0083  | train_mae: 0.06853 |  0:01:56s\n"
     ]
    },
    {
     "name": "stdout",
     "output_type": "stream",
     "text": [
      "epoch 217| loss: 0.01922 | train_mse: 0.00825 | train_mae: 0.07328 |  0:01:57s\n"
     ]
    },
    {
     "name": "stdout",
     "output_type": "stream",
     "text": [
      "epoch 218| loss: 0.01857 | train_mse: 0.00557 | train_mae: 0.05631 |  0:01:57s\n"
     ]
    },
    {
     "name": "stdout",
     "output_type": "stream",
     "text": [
      "epoch 219| loss: 0.0213  | train_mse: 0.01219 | train_mae: 0.08317 |  0:01:58s\n"
     ]
    },
    {
     "name": "stdout",
     "output_type": "stream",
     "text": [
      "epoch 220| loss: 0.02297 | train_mse: 0.00892 | train_mae: 0.06925 |  0:01:59s\n"
     ]
    },
    {
     "name": "stdout",
     "output_type": "stream",
     "text": [
      "epoch 221| loss: 0.01712 | train_mse: 0.00708 | train_mae: 0.06489 |  0:01:59s\n"
     ]
    },
    {
     "name": "stdout",
     "output_type": "stream",
     "text": [
      "epoch 222| loss: 0.01784 | train_mse: 0.01586 | train_mae: 0.08785 |  0:02:00s\n"
     ]
    },
    {
     "name": "stdout",
     "output_type": "stream",
     "text": [
      "epoch 223| loss: 0.01756 | train_mse: 0.01331 | train_mae: 0.08718 |  0:02:00s\n"
     ]
    },
    {
     "name": "stdout",
     "output_type": "stream",
     "text": [
      "epoch 224| loss: 0.02211 | train_mse: 0.00587 | train_mae: 0.05833 |  0:02:01s\n"
     ]
    },
    {
     "name": "stdout",
     "output_type": "stream",
     "text": [
      "epoch 225| loss: 0.01691 | train_mse: 0.00699 | train_mae: 0.06515 |  0:02:01s\n"
     ]
    },
    {
     "name": "stdout",
     "output_type": "stream",
     "text": [
      "epoch 226| loss: 0.02095 | train_mse: 0.00581 | train_mae: 0.05866 |  0:02:02s\n"
     ]
    },
    {
     "name": "stdout",
     "output_type": "stream",
     "text": [
      "epoch 227| loss: 0.01188 | train_mse: 0.005   | train_mae: 0.05331 |  0:02:02s\n"
     ]
    },
    {
     "name": "stdout",
     "output_type": "stream",
     "text": [
      "epoch 228| loss: 0.01631 | train_mse: 0.00998 | train_mae: 0.06883 |  0:02:03s\n"
     ]
    },
    {
     "name": "stdout",
     "output_type": "stream",
     "text": [
      "epoch 229| loss: 0.01387 | train_mse: 0.01033 | train_mae: 0.08337 |  0:02:03s\n"
     ]
    },
    {
     "name": "stdout",
     "output_type": "stream",
     "text": [
      "epoch 230| loss: 0.02636 | train_mse: 0.00682 | train_mae: 0.05826 |  0:02:04s\n"
     ]
    },
    {
     "name": "stdout",
     "output_type": "stream",
     "text": [
      "epoch 231| loss: 0.02543 | train_mse: 0.01158 | train_mae: 0.08342 |  0:02:04s\n"
     ]
    },
    {
     "name": "stdout",
     "output_type": "stream",
     "text": [
      "epoch 232| loss: 0.03514 | train_mse: 0.01545 | train_mae: 0.09387 |  0:02:05s\n"
     ]
    },
    {
     "name": "stdout",
     "output_type": "stream",
     "text": [
      "epoch 233| loss: 0.04603 | train_mse: 0.00994 | train_mae: 0.07999 |  0:02:05s\n"
     ]
    },
    {
     "name": "stdout",
     "output_type": "stream",
     "text": [
      "epoch 234| loss: 0.02342 | train_mse: 0.0105  | train_mae: 0.07511 |  0:02:06s\n"
     ]
    },
    {
     "name": "stdout",
     "output_type": "stream",
     "text": [
      "epoch 235| loss: 0.02058 | train_mse: 0.00672 | train_mae: 0.06147 |  0:02:07s\n"
     ]
    },
    {
     "name": "stdout",
     "output_type": "stream",
     "text": [
      "epoch 236| loss: 0.02004 | train_mse: 0.00397 | train_mae: 0.04843 |  0:02:07s\n"
     ]
    },
    {
     "name": "stdout",
     "output_type": "stream",
     "text": [
      "epoch 237| loss: 0.01769 | train_mse: 0.00504 | train_mae: 0.05555 |  0:02:08s\n"
     ]
    },
    {
     "name": "stdout",
     "output_type": "stream",
     "text": [
      "epoch 238| loss: 0.02242 | train_mse: 0.00554 | train_mae: 0.05892 |  0:02:08s\n"
     ]
    },
    {
     "name": "stdout",
     "output_type": "stream",
     "text": [
      "epoch 239| loss: 0.01543 | train_mse: 0.00917 | train_mae: 0.07394 |  0:02:09s\n"
     ]
    },
    {
     "name": "stdout",
     "output_type": "stream",
     "text": [
      "epoch 240| loss: 0.0235  | train_mse: 0.01283 | train_mae: 0.09483 |  0:02:09s\n"
     ]
    },
    {
     "name": "stdout",
     "output_type": "stream",
     "text": [
      "epoch 241| loss: 0.0145  | train_mse: 0.0051  | train_mae: 0.05706 |  0:02:10s\n"
     ]
    },
    {
     "name": "stdout",
     "output_type": "stream",
     "text": [
      "epoch 242| loss: 0.01851 | train_mse: 0.00569 | train_mae: 0.05918 |  0:02:10s\n"
     ]
    },
    {
     "name": "stdout",
     "output_type": "stream",
     "text": [
      "epoch 243| loss: 0.01106 | train_mse: 0.00489 | train_mae: 0.05367 |  0:02:11s\n"
     ]
    },
    {
     "name": "stdout",
     "output_type": "stream",
     "text": [
      "epoch 244| loss: 0.01603 | train_mse: 0.0091  | train_mae: 0.06944 |  0:02:11s\n"
     ]
    },
    {
     "name": "stdout",
     "output_type": "stream",
     "text": [
      "epoch 245| loss: 0.01434 | train_mse: 0.00632 | train_mae: 0.05872 |  0:02:12s\n"
     ]
    },
    {
     "name": "stdout",
     "output_type": "stream",
     "text": [
      "epoch 246| loss: 0.01284 | train_mse: 0.00723 | train_mae: 0.06448 |  0:02:12s\n"
     ]
    },
    {
     "name": "stdout",
     "output_type": "stream",
     "text": [
      "epoch 247| loss: 0.01759 | train_mse: 0.00467 | train_mae: 0.05232 |  0:02:13s\n"
     ]
    },
    {
     "name": "stdout",
     "output_type": "stream",
     "text": [
      "epoch 248| loss: 0.01449 | train_mse: 0.00794 | train_mae: 0.07309 |  0:02:13s\n"
     ]
    },
    {
     "name": "stdout",
     "output_type": "stream",
     "text": [
      "epoch 249| loss: 0.01588 | train_mse: 0.00442 | train_mae: 0.04931 |  0:02:14s\n"
     ]
    },
    {
     "name": "stdout",
     "output_type": "stream",
     "text": [
      "epoch 250| loss: 0.01581 | train_mse: 0.01305 | train_mae: 0.09268 |  0:02:15s\n"
     ]
    },
    {
     "name": "stdout",
     "output_type": "stream",
     "text": [
      "epoch 251| loss: 0.02266 | train_mse: 0.02483 | train_mae: 0.12131 |  0:02:17s\n"
     ]
    },
    {
     "name": "stdout",
     "output_type": "stream",
     "text": [
      "epoch 252| loss: 0.01956 | train_mse: 0.00563 | train_mae: 0.05523 |  0:02:18s\n"
     ]
    },
    {
     "name": "stdout",
     "output_type": "stream",
     "text": [
      "epoch 253| loss: 0.01621 | train_mse: 0.00659 | train_mae: 0.0643  |  0:02:20s\n"
     ]
    },
    {
     "name": "stdout",
     "output_type": "stream",
     "text": [
      "epoch 254| loss: 0.02076 | train_mse: 0.00832 | train_mae: 0.07022 |  0:02:21s\n"
     ]
    },
    {
     "name": "stdout",
     "output_type": "stream",
     "text": [
      "epoch 255| loss: 0.02554 | train_mse: 0.01429 | train_mae: 0.08894 |  0:02:22s\n"
     ]
    },
    {
     "name": "stdout",
     "output_type": "stream",
     "text": [
      "epoch 256| loss: 0.01662 | train_mse: 0.00717 | train_mae: 0.06317 |  0:02:24s\n"
     ]
    },
    {
     "name": "stdout",
     "output_type": "stream",
     "text": [
      "epoch 257| loss: 0.01903 | train_mse: 0.04921 | train_mae: 0.16069 |  0:02:25s\n"
     ]
    },
    {
     "name": "stdout",
     "output_type": "stream",
     "text": [
      "epoch 258| loss: 0.01368 | train_mse: 0.01194 | train_mae: 0.07397 |  0:02:26s\n"
     ]
    },
    {
     "name": "stdout",
     "output_type": "stream",
     "text": [
      "epoch 259| loss: 0.01392 | train_mse: 0.0056  | train_mae: 0.05528 |  0:02:27s\n"
     ]
    },
    {
     "name": "stdout",
     "output_type": "stream",
     "text": [
      "epoch 260| loss: 0.01775 | train_mse: 0.00609 | train_mae: 0.05851 |  0:02:29s\n"
     ]
    },
    {
     "name": "stdout",
     "output_type": "stream",
     "text": [
      "epoch 261| loss: 0.01855 | train_mse: 0.00606 | train_mae: 0.05625 |  0:02:30s\n"
     ]
    },
    {
     "name": "stdout",
     "output_type": "stream",
     "text": [
      "epoch 262| loss: 0.0224  | train_mse: 0.00889 | train_mae: 0.07201 |  0:02:32s\n"
     ]
    },
    {
     "name": "stdout",
     "output_type": "stream",
     "text": [
      "epoch 263| loss: 0.02546 | train_mse: 0.01065 | train_mae: 0.08237 |  0:02:33s\n"
     ]
    },
    {
     "name": "stdout",
     "output_type": "stream",
     "text": [
      "epoch 264| loss: 0.02278 | train_mse: 0.00689 | train_mae: 0.06148 |  0:02:34s\n"
     ]
    },
    {
     "name": "stdout",
     "output_type": "stream",
     "text": [
      "epoch 265| loss: 0.01472 | train_mse: 0.0072  | train_mae: 0.06895 |  0:02:35s\n"
     ]
    },
    {
     "name": "stdout",
     "output_type": "stream",
     "text": [
      "epoch 266| loss: 0.01886 | train_mse: 0.00642 | train_mae: 0.06705 |  0:02:36s\n"
     ]
    },
    {
     "name": "stdout",
     "output_type": "stream",
     "text": [
      "epoch 267| loss: 0.01831 | train_mse: 0.00801 | train_mae: 0.06182 |  0:02:36s\n"
     ]
    },
    {
     "name": "stdout",
     "output_type": "stream",
     "text": [
      "epoch 268| loss: 0.01849 | train_mse: 0.00825 | train_mae: 0.07081 |  0:02:37s\n"
     ]
    },
    {
     "name": "stdout",
     "output_type": "stream",
     "text": [
      "epoch 269| loss: 0.01645 | train_mse: 0.00719 | train_mae: 0.06354 |  0:02:37s\n"
     ]
    },
    {
     "name": "stdout",
     "output_type": "stream",
     "text": [
      "epoch 270| loss: 0.01535 | train_mse: 0.01278 | train_mae: 0.07609 |  0:02:38s\n"
     ]
    },
    {
     "name": "stdout",
     "output_type": "stream",
     "text": [
      "epoch 271| loss: 0.04703 | train_mse: 0.00688 | train_mae: 0.06366 |  0:02:38s\n"
     ]
    },
    {
     "name": "stdout",
     "output_type": "stream",
     "text": [
      "epoch 272| loss: 0.01645 | train_mse: 0.01286 | train_mae: 0.08205 |  0:02:39s\n"
     ]
    },
    {
     "name": "stdout",
     "output_type": "stream",
     "text": [
      "epoch 273| loss: 0.01289 | train_mse: 0.00556 | train_mae: 0.05495 |  0:02:39s\n"
     ]
    },
    {
     "name": "stdout",
     "output_type": "stream",
     "text": [
      "epoch 274| loss: 0.01339 | train_mse: 0.00814 | train_mae: 0.06285 |  0:02:40s\n"
     ]
    },
    {
     "name": "stdout",
     "output_type": "stream",
     "text": [
      "epoch 275| loss: 0.02013 | train_mse: 0.00639 | train_mae: 0.05565 |  0:02:40s\n"
     ]
    },
    {
     "name": "stdout",
     "output_type": "stream",
     "text": [
      "epoch 276| loss: 0.01851 | train_mse: 0.01579 | train_mae: 0.09515 |  0:02:41s\n"
     ]
    },
    {
     "name": "stdout",
     "output_type": "stream",
     "text": [
      "epoch 277| loss: 0.01513 | train_mse: 0.01129 | train_mae: 0.08921 |  0:02:41s\n"
     ]
    },
    {
     "name": "stdout",
     "output_type": "stream",
     "text": [
      "epoch 278| loss: 0.02432 | train_mse: 0.00755 | train_mae: 0.06812 |  0:02:42s\n"
     ]
    },
    {
     "name": "stdout",
     "output_type": "stream",
     "text": [
      "epoch 279| loss: 0.01469 | train_mse: 0.00778 | train_mae: 0.06786 |  0:02:43s\n"
     ]
    },
    {
     "name": "stdout",
     "output_type": "stream",
     "text": [
      "epoch 280| loss: 0.01087 | train_mse: 0.00508 | train_mae: 0.05528 |  0:02:44s\n"
     ]
    },
    {
     "name": "stdout",
     "output_type": "stream",
     "text": [
      "epoch 281| loss: 0.03428 | train_mse: 0.00797 | train_mae: 0.06766 |  0:02:45s\n"
     ]
    },
    {
     "name": "stdout",
     "output_type": "stream",
     "text": [
      "epoch 282| loss: 0.01639 | train_mse: 0.00493 | train_mae: 0.05491 |  0:02:46s\n"
     ]
    },
    {
     "name": "stdout",
     "output_type": "stream",
     "text": [
      "epoch 283| loss: 0.01478 | train_mse: 0.00545 | train_mae: 0.05517 |  0:02:46s\n"
     ]
    },
    {
     "name": "stdout",
     "output_type": "stream",
     "text": [
      "epoch 284| loss: 0.0146  | train_mse: 0.00659 | train_mae: 0.06205 |  0:02:47s\n"
     ]
    },
    {
     "name": "stdout",
     "output_type": "stream",
     "text": [
      "epoch 285| loss: 0.01203 | train_mse: 0.00754 | train_mae: 0.0714  |  0:02:47s\n"
     ]
    },
    {
     "name": "stdout",
     "output_type": "stream",
     "text": [
      "epoch 286| loss: 0.01394 | train_mse: 0.00484 | train_mae: 0.05243 |  0:02:48s\n",
      "\n",
      "Early stopping occurred at epoch 286 with best_epoch = 236 and best_train_mae = 0.04843\n",
      "Best weights from best epoch are automatically used!\n"
     ]
    }
   ],
   "source": [
    "#Train the Model\n",
    "\n",
    "Y_train = np.reshape(Y_train, (-1, 1))\n",
    "Y_test = np.reshape(Y_test, (-1, 1))\n",
    "\n",
    "prior_model = TabNetRegressor(optimizer_fn=torch.optim.Adam, optimizer_params=dict(lr = 0.01),\n",
    "          #scheduler_params={\"step_size\":10, ], \"gamma\":0.9},\n",
    "          #scheduler_fn=torch.optim.lr_scheduler.StepLR\n",
    "          )  #TabNetRegressor()\n",
    "\n",
    "prior_model.fit(X_train,Y_train,eval_set=[(X_train, Y_train)],\n",
    "            eval_name=['train'], \n",
    "            eval_metric=[ 'mse', 'mae'], \n",
    "            max_epochs = n_epochs, \n",
    "            batch_size = batch_size,\n",
    "            patience=50\n",
    "            )"
   ]
  },
  {
   "cell_type": "code",
   "execution_count": 10,
   "id": "af65dcda",
   "metadata": {
    "execution": {
     "iopub.execute_input": "2022-07-25T08:27:07.875160Z",
     "iopub.status.busy": "2022-07-25T08:27:07.874812Z",
     "iopub.status.idle": "2022-07-25T08:27:07.948231Z",
     "shell.execute_reply": "2022-07-25T08:27:07.946325Z"
    },
    "id": "af65dcda",
    "papermill": {
     "duration": 0.109767,
     "end_time": "2022-07-25T08:27:07.951591",
     "exception": false,
     "start_time": "2022-07-25T08:27:07.841824",
     "status": "completed"
    },
    "tags": []
   },
   "outputs": [
    {
     "data": {
      "application/scrapbook.scrap.json+json": {
       "data": 0.00519440189230142,
       "encoder": "json",
       "name": "Prior Model MSE",
       "version": 1
      }
     },
     "metadata": {
      "scrapbook": {
       "data": true,
       "display": false,
       "name": "Prior Model MSE"
      }
     },
     "output_type": "display_data"
    },
    {
     "data": {
      "application/scrapbook.scrap.json+json": {
       "data": 1.0312391054084986,
       "encoder": "json",
       "name": "ABC Pre-generator MSE",
       "version": 1
      }
     },
     "metadata": {
      "scrapbook": {
       "data": true,
       "display": false,
       "name": "ABC Pre-generator MSE"
      }
     },
     "output_type": "display_data"
    },
    {
     "data": {
      "application/scrapbook.scrap.json+json": {
       "data": 0.05388096941442403,
       "encoder": "json",
       "name": "Prior Model MAE",
       "version": 1
      }
     },
     "metadata": {
      "scrapbook": {
       "data": true,
       "display": false,
       "name": "Prior Model MAE"
      }
     },
     "output_type": "display_data"
    },
    {
     "name": "stdout",
     "output_type": "stream",
     "text": [
      "Prior Model MAE 0.05388096941442403\n"
     ]
    },
    {
     "data": {
      "application/scrapbook.scrap.json+json": {
       "data": 1.0056717102373853,
       "encoder": "json",
       "name": "ABC Pre-generator MAE",
       "version": 1
      }
     },
     "metadata": {
      "scrapbook": {
       "data": true,
       "display": false,
       "name": "ABC Pre-generator MAE"
      }
     },
     "output_type": "display_data"
    },
    {
     "name": "stdout",
     "output_type": "stream",
     "text": [
      "ABC Pre-generator MAE 1.0056717102373853\n"
     ]
    }
   ],
   "source": [
    "y_pred = prior_model.predict(X_test)\n",
    "y_abc = y_pred + np.random.normal(0,variance, y_pred.shape) + bias \n",
    "mse = mean_squared_error(y_pred,Y_test)\n",
    "sb.glue(\"Prior Model MSE\",mse)\n",
    "mse = mean_squared_error(y_abc,Y_test)\n",
    "sb.glue(\"ABC Pre-generator MSE\",mse)\n",
    "mae = mean_absolute_error(y_pred,Y_test)\n",
    "sb.glue(\"Prior Model MAE\",mae)\n",
    "print(\"Prior Model MAE\",mae)\n",
    "mae = mean_absolute_error(y_abc,Y_test)\n",
    "sb.glue(\"ABC Pre-generator MAE\",mae)\n",
    "print(\"ABC Pre-generator MAE\",mae)"
   ]
  },
  {
   "cell_type": "markdown",
   "id": "25609da2",
   "metadata": {
    "papermill": {
     "duration": 0.038328,
     "end_time": "2022-07-25T08:27:08.014936",
     "exception": false,
     "start_time": "2022-07-25T08:27:07.976608",
     "status": "completed"
    },
    "tags": []
   },
   "source": [
    "# mGAN Model"
   ]
  },
  {
   "cell_type": "code",
   "execution_count": 11,
   "id": "dfc3464d",
   "metadata": {
    "execution": {
     "iopub.execute_input": "2022-07-25T08:27:08.076842Z",
     "iopub.status.busy": "2022-07-25T08:27:08.076010Z",
     "iopub.status.idle": "2022-07-25T08:27:08.084778Z",
     "shell.execute_reply": "2022-07-25T08:27:08.083707Z"
    },
    "papermill": {
     "duration": 0.04694,
     "end_time": "2022-07-25T08:27:08.091971",
     "exception": false,
     "start_time": "2022-07-25T08:27:08.045031",
     "status": "completed"
    },
    "tags": []
   },
   "outputs": [],
   "source": [
    "gen = network.Generator(n_features+1).to(device)\n",
    "disc = network.Discriminator(n_features+1).to(device)\n",
    "\n",
    "criterion = torch.nn.BCELoss()\n",
    "gen_opt = torch.optim.Adam(gen.parameters(), lr=0.01, betas=(0.5, 0.999))\n",
    "disc_opt = torch.optim.Adam(disc.parameters(), lr=0.01, betas=(0.5, 0.999))"
   ]
  },
  {
   "cell_type": "code",
   "execution_count": 12,
   "id": "b75fdd85",
   "metadata": {
    "execution": {
     "iopub.execute_input": "2022-07-25T08:27:08.161685Z",
     "iopub.status.busy": "2022-07-25T08:27:08.160887Z",
     "iopub.status.idle": "2022-07-25T08:32:51.957633Z",
     "shell.execute_reply": "2022-07-25T08:32:51.955944Z"
    },
    "papermill": {
     "duration": 343.842898,
     "end_time": "2022-07-25T08:32:51.960526",
     "exception": false,
     "start_time": "2022-07-25T08:27:08.117628",
     "status": "completed"
    },
    "tags": []
   },
   "outputs": [
    {
     "data": {
      "image/png": "[encoded data removed]",
      "text/plain": [
       "<Figure size 432x288 with 1 Axes>"
      ]
     },
     "metadata": {
      "needs_background": "light"
     },
     "output_type": "display_data"
    },
    {
     "data": {
      "image/png": "[encoded data removed]",
      "text/plain": [
       "<Figure size 432x288 with 1 Axes>"
      ]
     },
     "metadata": {
      "needs_background": "light"
     },
     "output_type": "display_data"
    }
   ],
   "source": [
    "#Training the ABC_GAN \n",
    "ABC_train_test2.training_GAN(disc,gen,disc_opt,gen_opt,train_data,batch_size,n_epochs,criterion,prior_model,variance,bias,device)"
   ]
  },
  {
   "cell_type": "code",
   "execution_count": 13,
   "id": "1fa7c368",
   "metadata": {
    "execution": {
     "iopub.execute_input": "2022-07-25T08:32:52.030226Z",
     "iopub.status.busy": "2022-07-25T08:32:52.029645Z",
     "iopub.status.idle": "2022-07-25T08:32:55.258431Z",
     "shell.execute_reply": "2022-07-25T08:32:55.256725Z"
    },
    "papermill": {
     "duration": 3.275573,
     "end_time": "2022-07-25T08:32:55.261837",
     "exception": false,
     "start_time": "2022-07-25T08:32:51.986264",
     "status": "completed"
    },
    "tags": []
   },
   "outputs": [
    {
     "data": {
      "application/scrapbook.scrap.json+json": {
       "data": 3.739662391928077,
       "encoder": "json",
       "name": "ABC-GAN Model 1 MSE",
       "version": 1
      }
     },
     "metadata": {
      "scrapbook": {
       "data": true,
       "display": false,
       "name": "ABC-GAN Model 1 MSE"
      }
     },
     "output_type": "display_data"
    },
    {
     "data": {
      "application/scrapbook.scrap.json+json": {
       "data": 0.32902397742809414,
       "encoder": "json",
       "name": "ABC-GAN Model 1 MAE",
       "version": 1
      }
     },
     "metadata": {
      "scrapbook": {
       "data": true,
       "display": false,
       "name": "ABC-GAN Model 1 MAE"
      }
     },
     "output_type": "display_data"
    },
    {
     "data": {
      "application/scrapbook.scrap.json+json": {
       "data": 50.6696925239265,
       "encoder": "json",
       "name": "ABC-GAN Model 1 Manhattan Distance",
       "version": 1
      }
     },
     "metadata": {
      "scrapbook": {
       "data": true,
       "display": false,
       "name": "ABC-GAN Model 1 Manhattan Distance"
      }
     },
     "output_type": "display_data"
    },
    {
     "data": {
      "application/scrapbook.scrap.json+json": {
       "data": 23.979604813974035,
       "encoder": "json",
       "name": "ABC-GAN Model 1 Euclidean distance",
       "version": 1
      }
     },
     "metadata": {
      "scrapbook": {
       "data": true,
       "display": false,
       "name": "ABC-GAN Model 1 Euclidean distance"
      }
     },
     "output_type": "display_data"
    },
    {
     "data": {
      "application/scrapbook.scrap.json+json": {
       "data": [
        [
         3.8614229311615476,
         3.7418154357842823,
         3.979990461765457,
         3.9125405061310436,
         3.739249036107651,
         4.015200504961113,
         4.065568965398494,
         3.9023601849528635,
         3.830351755129883,
         3.892085950866989,
         3.723399690746809,
         3.891573692457147,
         3.8391473669163103,
         3.7484454176369093,
         3.7494937151458942,
         3.881160878332977,
         3.0451172180828694,
         3.4556124832853956,
         4.03329944719731,
         3.8586475983094735,
         3.808415844487173,
         3.5206561945854022,
         3.107847892797809,
         4.014973602536758,
         3.9097646286805845,
         3.9953169141230447,
         3.614765711572991,
         3.9273288805627966,
         3.810892848753382,
         3.716341145582109,
         3.1205391715827075,
         3.4355074869375914,
         3.8330710983554592,
         3.8676788789727525,
         4.00530824820699,
         3.9598028203209825,
         3.16260229153981,
         3.611143736245272,
         3.778791368394863,
         3.8150784753657487,
         3.5612690572822308,
         3.8409110611579322,
         3.8546530641218255,
         3.9796252985476945,
         4.003671412231488,
         3.8183823336231906,
         3.6815527514332405,
         3.8551406403016353,
         3.923937030841776,
         3.7648336001372136,
         4.080649183598092,
         3.845696777155601,
         3.244327943584943,
         4.069681167899583,
         3.6299943892768125,
         3.992918517622043,
         3.1794253560546903,
         3.1611504877384426,
         4.045207167758097,
         3.922376005145442,
         3.7293519898689382,
         3.8781541662334877,
         3.985976194512995,
         3.9480424007348125,
         3.182050636489885,
         4.077860768885582,
         3.822063609224773,
         3.690943895740335,
         3.9234583927512894,
         2.7468236103039407,
         3.5843021998267646,
         3.7923224911103386,
         3.3655740703860113,
         3.2308601628217892,
         3.77569489139052,
         3.8399085603186225,
         3.9512612944988486,
         3.8211202983670494,
         3.8861214884277158,
         3.810436597571324,
         3.8534774362330104,
         3.9636797366790644,
         3.711968311245462,
         3.9262714178074622,
         3.6432708322649074,
         3.546841166584925,
         3.892489283152594,
         2.6675189516748317,
         3.821616631684376,
         3.828557456978313,
         3.6701304059106596,
         3.350295968906577,
         3.8402799444592275,
         3.9593392416389146,
         3.798502457460957,
         3.7034639737837405,
         3.6833870216171243,
         3.86752972019051,
         3.595021382661647,
         3.9625564069217667
        ],
        [
         0.3215119005362322,
         0.32665799139672286,
         0.3393043646129308,
         0.3207219381175645,
         0.3263890722693948,
         0.3357132412735131,
         0.34260573080898105,
         0.3401105518803581,
         0.32331165581844845,
         0.3222671002875288,
         0.3157070630121154,
         0.338061058555137,
         0.32386024651879614,
         0.337071777043211,
         0.3394397461133731,
         0.3300054981675628,
         0.31527180241590197,
         0.3119139941046377,
         0.33449160614861295,
         0.3393449027381547,
         0.31874658135914957,
         0.33526478095778395,
         0.32055990405187207,
         0.342364714783314,
         0.3397459285938508,
         0.34425628947263415,
         0.31616981334790784,
         0.33417310756812624,
         0.33109043700644725,
         0.3230440340597521,
         0.31197353024277596,
         0.33590658751691316,
         0.33801995070239943,
         0.337639609206613,
         0.33048782708099134,
         0.32260431898394965,
         0.31267350280729983,
         0.32011090574616735,
         0.3170781351093735,
         0.33372409339365244,
         0.32781438691565745,
         0.34116202193711487,
         0.34073461173707015,
         0.3430586726973196,
         0.33424558371982793,
         0.32940838386776383,
         0.33521627941979215,
         0.3352444441626211,
         0.33385970324955205,
         0.3215294796489663,
         0.3595319017526004,
         0.3344331088342837,
         0.3245984446257353,
         0.3427622003553363,
         0.3345034070941922,
         0.3237097010548626,
         0.30382017527598065,
         0.3216056663833268,
         0.34399505237770545,
         0.33508289970651073,
         0.352130329333149,
         0.33903954078915055,
         0.34016752540581413,
         0.3430831829787462,
         0.30707574846198804,
         0.3455416148697788,
         0.31671244861533887,
         0.31525134060580234,
         0.32719022681477006,
         0.31027281891506214,
         0.3172577869921149,
         0.3326934760605747,
         0.3114205338302758,
         0.322627067444967,
         0.3168744888737217,
         0.32881763487957516,
         0.3369044110711132,
         0.3214823470825886,
         0.32317016871234816,
         0.3272489130061555,
         0.3296273063094198,
         0.33812226942897616,
         0.3381357578826802,
         0.34120900665301007,
         0.3242886761904924,
         0.3265371189827656,
         0.3271487822344938,
         0.3123013445647893,
         0.3282053442309042,
         0.3203498356092673,
         0.32915414954451,
         0.3262695831476481,
         0.33802038264255246,
         0.3207963758039397,
         0.3365411610136946,
         0.3190290419650929,
         0.3199811688829939,
         0.3366674284220903,
         0.3156920105170507,
         0.3236479754136367
        ],
        [
         49.512832682579756,
         50.30533067509532,
         52.25287215039134,
         49.39117847010493,
         50.2639171294868,
         51.699839156121016,
         52.76128254458308,
         52.37702498957515,
         49.78999499604106,
         49.62913344427943,
         48.61888770386577,
         52.0614030174911,
         49.874477963894606,
         51.90905366465449,
         52.273720901459455,
         50.82084671780467,
         48.5518575720489,
         48.03475509211421,
         51.511707346886396,
         52.259115021675825,
         49.086973529309034,
         51.63077626749873,
         49.366225223988295,
         52.724166076630354,
         52.320873003453016,
         53.01546857878566,
         48.6901512555778,
         51.46265856549144,
         50.98792729899287,
         49.748781245201826,
         48.043923657387495,
         51.72961447760463,
         52.05507240816951,
         51.9964998178184,
         50.89512537047267,
         49.68106512352824,
         48.15171943232417,
         49.29707948490977,
         48.83003280684352,
         51.39351038262248,
         50.483415585011244,
         52.53895137831569,
         52.4731302075088,
         52.83103559538722,
         51.4738198928535,
         50.72889111563563,
         51.62330703064799,
         51.62764440104365,
         51.41439430043101,
         49.51553986594081,
         55.367912869900465,
         51.50269876047969,
         49.988160472363234,
         52.785378854721785,
         51.5135246925056,
         49.851293962448835,
         46.78830699250102,
         49.52727262303233,
         52.97523806616664,
         51.602766554802656,
         54.228070717304945,
         52.21208928152919,
         52.385798912495375,
         52.83481017872691,
         47.28966526314616,
         53.213408689945936,
         48.77371708676219,
         48.54870645329356,
         50.38729492947459,
         47.78201411291957,
         48.85769919678569,
         51.234795313328505,
         47.95876220986247,
         49.684568386524916,
         48.798671286553144,
         50.63791577145457,
         51.88327930495143,
         49.50828145071864,
         49.76820598170161,
         50.39633260294795,
         50.76260517165065,
         52.07082949206233,
         52.07290671393275,
         52.54618702456355,
         49.94045613333583,
         50.2867163233459,
         50.38091246411204,
         48.09440706297755,
         50.54362301155925,
         49.33387468382716,
         50.689739029854536,
         50.245515804737806,
         52.05513892695308,
         49.402641873806715,
         51.82733879610896,
         49.13047246262431,
         49.27710000798106,
         51.846783977001905,
         48.61656961962581,
         49.841788213700056
        ],
        [
         24.38563370919194,
         24.00499067091632,
         24.757191502912452,
         24.546511726601413,
         23.996757105087724,
         24.86646090146347,
         25.02194278371222,
         24.514556257104495,
         24.287325301276013,
         24.48226371137923,
         23.945846244704082,
         24.480652537021978,
         24.315194724803494,
         24.02624802827283,
         24.02960740695669,
         24.447878747721212,
         21.65520841702434,
         23.06868705466245,
         24.9224419924771,
         24.37686875174207,
         24.217680319366362,
         23.284781595843928,
         21.87712447948456,
         24.865758279020184,
         24.537802526241222,
         24.804814145140234,
         23.593938195694264,
         24.59285765434084,
         24.225554662546347,
         23.923138097240603,
         21.921747932674915,
         23.001481538987637,
         24.295945117379993,
         24.405379475882032,
         24.83581023892469,
         24.694323929385703,
         22.06899981641965,
         23.582114735149858,
         24.12330555153686,
         24.238854865820812,
         23.418698401522313,
         24.3207792518727,
         24.364247820828805,
         24.756055743521525,
         24.83073493643813,
         24.24934801964728,
         23.810903462924692,
         24.365788692477242,
         24.582235511637947,
         24.078712059018667,
         25.068306170822673,
         24.335926193222285,
         22.352326574924614,
         25.034594062147995,
         23.643585513805412,
         24.797367838417742,
         22.127618598313337,
         22.06393380863259,
         24.959204791714562,
         24.577345356901308,
         23.964978748995726,
         24.43840710029926,
         24.775801378663846,
         24.657626197855322,
         22.136752201247642,
         25.059739791314268,
         24.261034516702193,
         23.841253321585498,
         24.58073620711346,
         20.56722723136998,
         23.494308646421622,
         24.166457407551324,
         22.766168031520934,
         22.3058840908527,
         24.113419775596743,
         24.317605110065173,
         24.66767600226707,
         24.258040439172444,
         24.463497485393788,
         24.224104442187,
         24.360532120212063,
         24.70640968349258,
         23.909059369448247,
         24.58954652575661,
         23.686783406971823,
         23.371211771195743,
         24.483532212601588,
         20.268150348710268,
         24.25961585185128,
         24.28163603167341,
         23.77393704269955,
         22.714435480804116,
         24.318781043603334,
         24.692878390588504,
         24.186140213952854,
         23.88165513448966,
         23.81683441032912,
         24.404908869105384,
         23.52941335711313,
         24.702908465724278
        ]
       ],
       "encoder": "json",
       "name": "ABC_GAN_1 Metrics",
       "version": 1
      }
     },
     "metadata": {
      "scrapbook": {
       "data": true,
       "display": false,
       "name": "ABC_GAN_1 Metrics"
      }
     },
     "output_type": "display_data"
    },
    {
     "name": "stdout",
     "output_type": "stream",
     "text": [
      "MAE\n",
      "0.32902397742809414\n"
     ]
    }
   ],
   "source": [
    "ABC_GAN1_metrics=ABC_train_test2.test_generator(gen,test_data,prior_model,variance,bias,\"1\",device)\n",
    "sb.glue(\"ABC_GAN_1 Metrics\",ABC_GAN1_metrics)\n",
    "\n",
    "print(\"MAE\")\n",
    "print(mean(ABC_GAN1_metrics[1]))"
   ]
  },
  {
   "cell_type": "code",
   "execution_count": 14,
   "id": "eb22ce5c",
   "metadata": {
    "execution": {
     "iopub.execute_input": "2022-07-25T08:32:55.327588Z",
     "iopub.status.busy": "2022-07-25T08:32:55.327111Z",
     "iopub.status.idle": "2022-07-25T08:32:56.151293Z",
     "shell.execute_reply": "2022-07-25T08:32:56.150184Z"
    },
    "papermill": {
     "duration": 0.864216,
     "end_time": "2022-07-25T08:32:56.154610",
     "exception": false,
     "start_time": "2022-07-25T08:32:55.290394",
     "status": "completed"
    },
    "tags": []
   },
   "outputs": [
    {
     "data": {
      "image/png": "[encoded data removed]",
      "text/plain": [
       "<Figure size 432x288 with 1 Axes>"
      ]
     },
     "metadata": {
      "needs_background": "light"
     },
     "output_type": "display_data"
    },
    {
     "data": {
      "image/png": "[encoded data removed]",
      "text/plain": [
       "<Figure size 432x288 with 1 Axes>"
      ]
     },
     "metadata": {
      "needs_background": "light"
     },
     "output_type": "display_data"
    },
    {
     "data": {
      "image/png": "[encoded data removed]",
      "text/plain": [
       "<Figure size 432x288 with 1 Axes>"
      ]
     },
     "metadata": {
      "needs_background": "light"
     },
     "output_type": "display_data"
    },
    {
     "data": {
      "image/png": "[encoded data removed]",
      "text/plain": [
       "<Figure size 432x288 with 1 Axes>"
      ]
     },
     "metadata": {
      "needs_background": "light"
     },
     "output_type": "display_data"
    }
   ],
   "source": [
    "sanityChecks.discProbVsError(train_data,disc,device)\n",
    "sanityChecks.discProbVsError(test_data,disc,device)"
   ]
  },
  {
   "cell_type": "markdown",
   "id": "06815de2",
   "metadata": {
    "papermill": {
     "duration": 0.030823,
     "end_time": "2022-07-25T08:32:56.217512",
     "exception": false,
     "start_time": "2022-07-25T08:32:56.186689",
     "status": "completed"
    },
    "tags": []
   },
   "source": [
    "# mGAN Model with TabNet Generator"
   ]
  },
  {
   "cell_type": "code",
   "execution_count": 15,
   "id": "bef19f6c",
   "metadata": {
    "execution": {
     "iopub.execute_input": "2022-07-25T08:32:56.283357Z",
     "iopub.status.busy": "2022-07-25T08:32:56.282995Z",
     "iopub.status.idle": "2022-07-25T08:32:56.301732Z",
     "shell.execute_reply": "2022-07-25T08:32:56.300299Z"
    },
    "papermill": {
     "duration": 0.054531,
     "end_time": "2022-07-25T08:32:56.305272",
     "exception": false,
     "start_time": "2022-07-25T08:32:56.250741",
     "status": "completed"
    },
    "tags": []
   },
   "outputs": [],
   "source": [
    "gen2 = network.GeneratorTabnet(n_features+1).to(device)\n",
    "disc2 = network.Discriminator(n_features+1).to(device)\n",
    "\n",
    "criterion = torch.nn.BCELoss()\n",
    "gen_opt = torch.optim.Adam(gen2.parameters(), lr=0.01, betas=(0.5, 0.999))\n",
    "disc_opt = torch.optim.Adam(disc2.parameters(), lr=0.01, betas=(0.5, 0.999))"
   ]
  },
  {
   "cell_type": "code",
   "execution_count": 16,
   "id": "a17dc456",
   "metadata": {
    "execution": {
     "iopub.execute_input": "2022-07-25T08:32:56.382988Z",
     "iopub.status.busy": "2022-07-25T08:32:56.382555Z",
     "iopub.status.idle": "2022-07-25T08:49:35.771297Z",
     "shell.execute_reply": "2022-07-25T08:49:35.770320Z"
    },
    "papermill": {
     "duration": 999.43626,
     "end_time": "2022-07-25T08:49:35.774145",
     "exception": false,
     "start_time": "2022-07-25T08:32:56.337885",
     "status": "completed"
    },
    "tags": []
   },
   "outputs": [
    {
     "data": {
      "image/png": "[encoded data removed]",
      "text/plain": [
       "<Figure size 432x288 with 1 Axes>"
      ]
     },
     "metadata": {
      "needs_background": "light"
     },
     "output_type": "display_data"
    },
    {
     "data": {
      "image/png": "[encoded data removed]",
      "text/plain": [
       "<Figure size 432x288 with 1 Axes>"
      ]
     },
     "metadata": {
      "needs_background": "light"
     },
     "output_type": "display_data"
    }
   ],
   "source": [
    "#Training the ABC_GAN \n",
    "ABC_train_test2.training_GAN(disc2,gen2,disc_opt,gen_opt,train_data,batch_size,n_epochs,criterion,prior_model,variance,bias,device)"
   ]
  },
  {
   "cell_type": "code",
   "execution_count": 17,
   "id": "bdf71261",
   "metadata": {
    "execution": {
     "iopub.execute_input": "2022-07-25T08:49:35.906875Z",
     "iopub.status.busy": "2022-07-25T08:49:35.903269Z",
     "iopub.status.idle": "2022-07-25T08:49:40.470254Z",
     "shell.execute_reply": "2022-07-25T08:49:40.469411Z"
    },
    "papermill": {
     "duration": 4.665722,
     "end_time": "2022-07-25T08:49:40.473392",
     "exception": false,
     "start_time": "2022-07-25T08:49:35.807670",
     "status": "completed"
    },
    "tags": []
   },
   "outputs": [
    {
     "data": {
      "application/scrapbook.scrap.json+json": {
       "data": 0.018633858274055618,
       "encoder": "json",
       "name": "ABC-GAN Model 1 MSE",
       "version": 1
      }
     },
     "metadata": {
      "scrapbook": {
       "data": true,
       "display": false,
       "name": "ABC-GAN Model 1 MSE"
      }
     },
     "output_type": "display_data"
    },
    {
     "data": {
      "application/scrapbook.scrap.json+json": {
       "data": 0.10766668151169048,
       "encoder": "json",
       "name": "ABC-GAN Model 1 MAE",
       "version": 1
      }
     },
     "metadata": {
      "scrapbook": {
       "data": true,
       "display": false,
       "name": "ABC-GAN Model 1 MAE"
      }
     },
     "output_type": "display_data"
    },
    {
     "data": {
      "application/scrapbook.scrap.json+json": {
       "data": 16.580668952800334,
       "encoder": "json",
       "name": "ABC-GAN Model 1 Manhattan Distance",
       "version": 1
      }
     },
     "metadata": {
      "scrapbook": {
       "data": true,
       "display": false,
       "name": "ABC-GAN Model 1 Manhattan Distance"
      }
     },
     "output_type": "display_data"
    },
    {
     "data": {
      "application/scrapbook.scrap.json+json": {
       "data": 1.692527315104223,
       "encoder": "json",
       "name": "ABC-GAN Model 1 Euclidean distance",
       "version": 1
      }
     },
     "metadata": {
      "scrapbook": {
       "data": true,
       "display": false,
       "name": "ABC-GAN Model 1 Euclidean distance"
      }
     },
     "output_type": "display_data"
    },
    {
     "data": {
      "application/scrapbook.scrap.json+json": {
       "data": [
        [
         0.018948750068452192,
         0.018472803673562715,
         0.01861139590322064,
         0.018104694664341586,
         0.016901518336546226,
         0.01756994596169104,
         0.017839391018025716,
         0.016736000841521388,
         0.020937074963666615,
         0.01995853931049735,
         0.02210291272064975,
         0.017389294684582314,
         0.016774631944493197,
         0.018526304850609025,
         0.019093105931917882,
         0.022902864759772816,
         0.017914072300790843,
         0.01902840631536836,
         0.020011866993953034,
         0.01732360294181173,
         0.017217477869055267,
         0.02031930834678839,
         0.018257880970484443,
         0.01748085580329408,
         0.01595655757763033,
         0.016898292008729523,
         0.017217742182329597,
         0.020975811837468224,
         0.01528662942560061,
         0.017229026043602002,
         0.01768583908106315,
         0.0191925070709552,
         0.021365802909200666,
         0.01952230403778894,
         0.017856817464666858,
         0.01783921787774352,
         0.017460231470656666,
         0.018261528125869297,
         0.019400910109475273,
         0.01962120753319574,
         0.01682088548602052,
         0.019739934914545156,
         0.01941738132993924,
         0.018395642760826218,
         0.022548894088285257,
         0.021109905504763753,
         0.015884788666862923,
         0.018785705968340217,
         0.01822697477128006,
         0.015311925291857051,
         0.01869500435039561,
         0.020274039526552746,
         0.018805456952855498,
         0.017391270350208144,
         0.021871163756360727,
         0.019347601117694253,
         0.020622413559782015,
         0.018174691257824747,
         0.01773649370379836,
         0.017790103846050866,
         0.0178463651679509,
         0.017553071689108267,
         0.019184409929192552,
         0.018633059216957026,
         0.019894896094629647,
         0.017745256234058565,
         0.020904342497489275,
         0.019208328910628805,
         0.018674911019852945,
         0.017430323252480524,
         0.01891747724336583,
         0.018251714271276136,
         0.019491816331380307,
         0.017593425668302288,
         0.021382046229074175,
         0.017716394964467985,
         0.017988403381541535,
         0.018748950994040427,
         0.020520498973529068,
         0.018559941481508805,
         0.018052341460875695,
         0.018081432848287567,
         0.02115781006427552,
         0.0173200773833476,
         0.016696499494872667,
         0.01956037367328615,
         0.01922426485644572,
         0.018262152763786163,
         0.017374092841188574,
         0.019408986143464382,
         0.02083067520577073,
         0.017047346521484853,
         0.020143138901713483,
         0.016803921524177545,
         0.016457263914873427,
         0.018727501769219643,
         0.017468819163649136,
         0.021442112568949543,
         0.017165362548520854,
         0.01877261707122181
        ],
        [
         0.109098080811756,
         0.1110222457436385,
         0.11000689479534502,
         0.10718345281655912,
         0.10372671085808959,
         0.10409478918201738,
         0.10797023236170991,
         0.10552603303902335,
         0.10822988780481475,
         0.11186799781953359,
         0.11398114970365128,
         0.10294575858619306,
         0.10369317840736408,
         0.10485099679367109,
         0.10874373468195463,
         0.11637045118909378,
         0.10264293832535093,
         0.11112887951751034,
         0.1078613456338644,
         0.10393644124269485,
         0.10315813283835139,
         0.11300490992506604,
         0.11108133678215665,
         0.10476968887370902,
         0.09743364743114293,
         0.10442401055101451,
         0.10271654865861714,
         0.1080136185681278,
         0.09913128945831355,
         0.10635914138288467,
         0.10647167787923441,
         0.11179234665612896,
         0.10764281197705051,
         0.10964721813797951,
         0.10697285702766536,
         0.10777052199201924,
         0.10618578993364589,
         0.10952034077377289,
         0.11300130186046099,
         0.1134794077461029,
         0.10292128103410268,
         0.10983800977565251,
         0.11039331862582015,
         0.10941983340912825,
         0.11091099268236718,
         0.11298711539862992,
         0.10215428565907014,
         0.10822387966145942,
         0.10803608719694924,
         0.09884453581815417,
         0.10671366777803216,
         0.11167667078023608,
         0.11050045345123712,
         0.10309829180697341,
         0.11188243085204007,
         0.11056298213442425,
         0.10758546224565475,
         0.11008778536184267,
         0.11143130018049247,
         0.10852507238167447,
         0.10581555360226662,
         0.10531158283256091,
         0.11100271220814872,
         0.10674122774175235,
         0.10861982095551181,
         0.10612407237194575,
         0.1108230377559538,
         0.10888211112227533,
         0.10548542449613671,
         0.10769357123448477,
         0.11013674622329024,
         0.10713304876797385,
         0.11150436584728879,
         0.10465939930797398,
         0.11258484021603286,
         0.10699291718373825,
         0.10396865924650972,
         0.10839688528764557,
         0.11390095886278462,
         0.10896202174390292,
         0.10579307665201751,
         0.1092782018149828,
         0.10943726186531705,
         0.10644389720415914,
         0.10264031228597288,
         0.1086013482327198,
         0.11100931110029871,
         0.10749837178011219,
         0.10444012857586532,
         0.10979797204883841,
         0.10433984153553263,
         0.10711955058981072,
         0.10997605708415632,
         0.09971658084783461,
         0.10438209508436841,
         0.10948505322751287,
         0.10398684062257216,
         0.11112207844369597,
         0.10504269428164154,
         0.10856726688224
        ],
        [
         16.801104445010424,
         17.09742584452033,
         16.941061798483133,
         16.506251733750105,
         15.973913472145796,
         16.030597534030676,
         16.627415783703327,
         16.251009088009596,
         16.66740272194147,
         17.227671664208174,
         17.553097054362297,
         15.853646822273731,
         15.968749474734068,
         16.147053506225348,
         16.746535141021013,
         17.92104948312044,
         15.807012502104044,
         17.113847445696592,
         16.610647227615118,
         16.006211951375008,
         15.886352457106113,
         17.40275612846017,
         17.106525864452124,
         16.13453208655119,
         15.00478170439601,
         16.081297624856234,
         15.818348493427038,
         16.634097259491682,
         15.266218576580286,
         16.37930777296424,
         16.3966383934021,
         17.21602138504386,
         16.57699304446578,
         16.885671593248844,
         16.473819982260466,
         16.596660386770964,
         16.352611649781466,
         16.866132479161024,
         17.402200486510992,
         17.475828792899847,
         15.849877279251814,
         16.915053505450487,
         17.000571068376303,
         16.85065434500575,
         17.080292873084545,
         17.400015771389008,
         15.731759991496801,
         16.666477467864752,
         16.637557428330183,
         15.222058515995741,
         16.433904837816954,
         17.198207300156355,
         17.017069831490517,
         15.877136938273907,
         17.22989435121417,
         17.026699248701334,
         16.56816118583083,
         16.953518945723772,
         17.16042022779584,
         16.71286114677787,
         16.29559525474906,
         16.21798375621438,
         17.094417680054903,
         16.438149072229862,
         16.72745242714882,
         16.343107145279646,
         17.066747814416885,
         16.7678451128304,
         16.244755372405052,
         16.584809970110655,
         16.961058918386698,
         16.498489510267973,
         17.171672340482473,
         16.117547493427992,
         17.338065393269062,
         16.47690924629569,
         16.011173523962498,
         16.69312033429742,
         17.54074766486883,
         16.78015134856105,
         16.292133804410696,
         16.82884307950735,
         16.853338327258825,
         16.392360169440508,
         15.806608092039824,
         16.72460762783885,
         17.095433909446,
         16.554749254137278,
         16.08377980068326,
         16.908887695521116,
         16.068335596472025,
         16.49641079083085,
         16.936312790960073,
         15.35635345056653,
         16.074842642992735,
         16.86069819703698,
         16.013973455876112,
         17.11280008032918,
         16.176574919372797,
         16.71935909986496
        ],
        [
         1.7082469114684906,
         1.686656979272507,
         1.6929722292748863,
         1.6697673425686,
         1.6133300418166516,
         1.644923000660037,
         1.657487923568664,
         1.6054108912033371,
         1.7956362505821324,
         1.7531728533765838,
         1.8449521833858082,
         1.6364447382743106,
         1.607262679045324,
         1.6890976724256621,
         1.7147414713347766,
         1.878041845381783,
         1.6609536821723203,
         1.7118336871807167,
         1.755513462514249,
         1.6333508052586274,
         1.6283401339506776,
         1.7689469990379623,
         1.6768165282625895,
         1.64074732780745,
         1.5675808964627853,
         1.6131760503256756,
         1.628352632594905,
         1.7972965873695155,
         1.5343210001634253,
         1.6288861257665335,
         1.6503391222666102,
         1.7191992580637943,
         1.8139276854430832,
         1.7339073855945988,
         1.658297286242336,
         1.6574798801712503,
         1.6397791456416093,
         1.6769839985473538,
         1.7285080725467241,
         1.7382939797721626,
         1.609477047008487,
         1.743545232232291,
         1.7292416617727677,
         1.6831307094718573,
         1.8634724815773183,
         1.8030322924822002,
         1.5640516150999908,
         1.7008817475428422,
         1.6753967037024782,
         1.5355899501318657,
         1.6967706592114693,
         1.7669754064754617,
         1.7017756522937288,
         1.6365376970702674,
         1.8352545377902083,
         1.7261316786748673,
         1.7820919415693541,
         1.6729920662409044,
         1.6527008290628245,
         1.6551966627237482,
         1.6578118819288388,
         1.6441329143723973,
         1.7188365626480178,
         1.6939572365946498,
         1.7503753879019683,
         1.6531090284808858,
         1.7942320765757556,
         1.7199077452691571,
         1.6958585722451485,
         1.6383741272621464,
         1.7068366926798642,
         1.6765333273682703,
         1.7325529472522816,
         1.6460217352509512,
         1.814617072353675,
         1.6517641552376872,
         1.6643960228134997,
         1.6992170117681333,
         1.777682998153348,
         1.6906303523101542,
         1.6673513681809413,
         1.6686942975381336,
         1.8050769373903235,
         1.6331845936805582,
         1.6035151767945295,
         1.7355971726429111,
         1.720621047149151,
         1.6770126790287156,
         1.6357292861421295,
         1.7288677989058372,
         1.791067832799387,
         1.6202750890847726,
         1.7612618745842072,
         1.6086652587543941,
         1.5919857546129326,
         1.6982447622353571,
         1.6401823530333348,
         1.8171640915498606,
         1.6258738673317228,
         1.700289101584833
        ]
       ],
       "encoder": "json",
       "name": "ABC_GAN_2 Metrics",
       "version": 1
      }
     },
     "metadata": {
      "scrapbook": {
       "data": true,
       "display": false,
       "name": "ABC_GAN_2 Metrics"
      }
     },
     "output_type": "display_data"
    },
    {
     "name": "stdout",
     "output_type": "stream",
     "text": [
      "MAE\n",
      "0.10766668151169048\n"
     ]
    }
   ],
   "source": [
    "ABC_GAN2_metrics=ABC_train_test2.test_generator(gen2,test_data,prior_model,variance,bias,\"1\",device)\n",
    "sb.glue(\"ABC_GAN_2 Metrics\",ABC_GAN2_metrics)\n",
    "\n",
    "print(\"MAE\")\n",
    "print(mean(ABC_GAN2_metrics[1]))"
   ]
  },
  {
   "cell_type": "code",
   "execution_count": 18,
   "id": "524ba7c7",
   "metadata": {
    "execution": {
     "iopub.execute_input": "2022-07-25T08:49:40.571604Z",
     "iopub.status.busy": "2022-07-25T08:49:40.571119Z",
     "iopub.status.idle": "2022-07-25T08:49:41.614533Z",
     "shell.execute_reply": "2022-07-25T08:49:41.613434Z"
    },
    "papermill": {
     "duration": 1.106521,
     "end_time": "2022-07-25T08:49:41.617234",
     "exception": false,
     "start_time": "2022-07-25T08:49:40.510713",
     "status": "completed"
    },
    "tags": []
   },
   "outputs": [
    {
     "data": {
      "image/png": "[encoded data removed]",
      "text/plain": [
       "<Figure size 432x288 with 1 Axes>"
      ]
     },
     "metadata": {
      "needs_background": "light"
     },
     "output_type": "display_data"
    },
    {
     "data": {
      "image/png": "[encoded data removed]",
      "text/plain": [
       "<Figure size 432x288 with 1 Axes>"
      ]
     },
     "metadata": {
      "needs_background": "light"
     },
     "output_type": "display_data"
    },
    {
     "data": {
      "image/png": "[encoded data removed]",
      "text/plain": [
       "<Figure size 432x288 with 1 Axes>"
      ]
     },
     "metadata": {
      "needs_background": "light"
     },
     "output_type": "display_data"
    },
    {
     "data": {
      "image/png": "[encoded data removed]",
      "text/plain": [
       "<Figure size 432x288 with 1 Axes>"
      ]
     },
     "metadata": {
      "needs_background": "light"
     },
     "output_type": "display_data"
    }
   ],
   "source": [
    "sanityChecks.discProbVsError(train_data,disc2,device)\n",
    "sanityChecks.discProbVsError(test_data,disc2,device)"
   ]
  },
  {
   "cell_type": "markdown",
   "id": "130f3a4d",
   "metadata": {
    "id": "130f3a4d",
    "papermill": {
     "duration": 0.043983,
     "end_time": "2022-07-25T08:49:41.698457",
     "exception": false,
     "start_time": "2022-07-25T08:49:41.654474",
     "status": "completed"
    },
    "tags": []
   },
   "source": [
    "# skipGAN Model"
   ]
  },
  {
   "cell_type": "code",
   "execution_count": 19,
   "id": "4e43dad1",
   "metadata": {
    "execution": {
     "iopub.execute_input": "2022-07-25T08:49:41.771698Z",
     "iopub.status.busy": "2022-07-25T08:49:41.771278Z",
     "iopub.status.idle": "2022-07-25T08:49:41.780534Z",
     "shell.execute_reply": "2022-07-25T08:49:41.778586Z"
    },
    "id": "4e43dad1",
    "papermill": {
     "duration": 0.04816,
     "end_time": "2022-07-25T08:49:41.784034",
     "exception": false,
     "start_time": "2022-07-25T08:49:41.735874",
     "status": "completed"
    },
    "tags": []
   },
   "outputs": [],
   "source": [
    "#Generator\n",
    "gen3 = network.GeneratorWithSkipConnection(n_features+1).to(device)\n",
    "constraints=network.weightConstraint()\n",
    "#Discriminator \n",
    "disc3 = network.Discriminator(n_features+1).to(device)\n",
    "\n",
    "criterion = torch.nn.BCELoss()\n",
    "gen_opt = torch.optim.Adam(gen3.parameters(), lr=0.01, betas=(0.5, 0.999))\n",
    "disc_opt = torch.optim.Adam(disc3.parameters(), lr=0.01, betas=(0.5, 0.999))\n"
   ]
  },
  {
   "cell_type": "code",
   "execution_count": 20,
   "id": "26acbc37",
   "metadata": {
    "execution": {
     "iopub.execute_input": "2022-07-25T08:49:41.881683Z",
     "iopub.status.busy": "2022-07-25T08:49:41.874801Z",
     "iopub.status.idle": "2022-07-25T08:59:35.483554Z",
     "shell.execute_reply": "2022-07-25T08:59:35.482649Z"
    },
    "id": "26acbc37",
    "papermill": {
     "duration": 593.665705,
     "end_time": "2022-07-25T08:59:35.486576",
     "exception": false,
     "start_time": "2022-07-25T08:49:41.820871",
     "status": "completed"
    },
    "tags": []
   },
   "outputs": [
    {
     "data": {
      "image/png": "[encoded data removed]",
      "text/plain": [
       "<Figure size 432x288 with 1 Axes>"
      ]
     },
     "metadata": {
      "needs_background": "light"
     },
     "output_type": "display_data"
    },
    {
     "data": {
      "image/png": "[encoded data removed]",
      "text/plain": [
       "<Figure size 432x288 with 1 Axes>"
      ]
     },
     "metadata": {
      "needs_background": "light"
     },
     "output_type": "display_data"
    }
   ],
   "source": [
    "ABC_train_test2.training_GAN_skip_connection(disc3,gen3,disc_opt,gen_opt,train_data,batch_size,n_epochs,criterion,prior_model,variance,bias,device)"
   ]
  },
  {
   "cell_type": "code",
   "execution_count": 21,
   "id": "c5e0717b",
   "metadata": {
    "execution": {
     "iopub.execute_input": "2022-07-25T08:59:35.576755Z",
     "iopub.status.busy": "2022-07-25T08:59:35.576397Z",
     "iopub.status.idle": "2022-07-25T08:59:39.949058Z",
     "shell.execute_reply": "2022-07-25T08:59:39.947324Z"
    },
    "id": "c5e0717b",
    "papermill": {
     "duration": 4.427828,
     "end_time": "2022-07-25T08:59:39.952479",
     "exception": false,
     "start_time": "2022-07-25T08:59:35.524651",
     "status": "completed"
    },
    "tags": []
   },
   "outputs": [
    {
     "data": {
      "application/scrapbook.scrap.json+json": {
       "data": 0.006191471590049866,
       "encoder": "json",
       "name": "ABC-GAN Model 3 MSE",
       "version": 1
      }
     },
     "metadata": {
      "scrapbook": {
       "data": true,
       "display": false,
       "name": "ABC-GAN Model 3 MSE"
      }
     },
     "output_type": "display_data"
    },
    {
     "data": {
      "application/scrapbook.scrap.json+json": {
       "data": 0.05512123556396404,
       "encoder": "json",
       "name": "ABC-GAN Model 3 MAE",
       "version": 1
      }
     },
     "metadata": {
      "scrapbook": {
       "data": true,
       "display": false,
       "name": "ABC-GAN Model 3 MAE"
      }
     },
     "output_type": "display_data"
    },
    {
     "data": {
      "application/scrapbook.scrap.json+json": {
       "data": 8.488670276850462,
       "encoder": "json",
       "name": "ABC-GAN Model 3 Manhattan Distance",
       "version": 1
      }
     },
     "metadata": {
      "scrapbook": {
       "data": true,
       "display": false,
       "name": "ABC-GAN Model 3 Manhattan Distance"
      }
     },
     "output_type": "display_data"
    },
    {
     "data": {
      "application/scrapbook.scrap.json+json": {
       "data": 0.9747238434738523,
       "encoder": "json",
       "name": "ABC-GAN Model 3 Euclidean distance",
       "version": 1
      }
     },
     "metadata": {
      "scrapbook": {
       "data": true,
       "display": false,
       "name": "ABC-GAN Model 3 Euclidean distance"
      }
     },
     "output_type": "display_data"
    },
    {
     "data": {
      "application/scrapbook.scrap.json+json": {
       "data": [
        [
         0.006691204565261051,
         0.00667000047475237,
         0.0054624788457772865,
         0.0052918644501391545,
         0.007510395019135913,
         0.006777170506481281,
         0.0058479665950728985,
         0.005204934171674014,
         0.005368900756326757,
         0.005224193392350095,
         0.005718037559504421,
         0.005276594678282511,
         0.0054661256650799465,
         0.007342940964736032,
         0.006088460276281376,
         0.006459144434255252,
         0.006177584001721,
         0.0069481364834307596,
         0.005514379220977065,
         0.006572107758421071,
         0.007284445455788394,
         0.005355087711440525,
         0.005798364095058598,
         0.0061954961893864674,
         0.0060856758826788775,
         0.007348589746568769,
         0.006873279888689929,
         0.0053581193993530495,
         0.006223347698176011,
         0.005190835394427887,
         0.007235265003780079,
         0.005928884525610653,
         0.00417499821992487,
         0.006527319139334614,
         0.007036454990883445,
         0.006039036079182595,
         0.005881568001836551,
         0.005913597833895828,
         0.006189224303953155,
         0.00554346350745394,
         0.006779375615634666,
         0.005057085742130971,
         0.006047554535448839,
         0.006542932607088319,
         0.006089460616134363,
         0.006503958182845394,
         0.00671044624248543,
         0.005742707447341358,
         0.005305706028261895,
         0.005472845491450251,
         0.007414219927188011,
         0.0051644913371410505,
         0.005312271581541182,
         0.005331988611870055,
         0.0070364785974507404,
         0.0058117875307429085,
         0.006891213988564881,
         0.007177371124307895,
         0.006251642511180134,
         0.006512721893168566,
         0.005778993067585506,
         0.006995807077496858,
         0.006925855545413983,
         0.004866684080399976,
         0.006446306432510489,
         0.005415358262947478,
         0.006293595160351463,
         0.006621603761691689,
         0.006419318709392021,
         0.005525467038862708,
         0.007225754035040464,
         0.0043646037354254305,
         0.00715217093288871,
         0.005766896840971013,
         0.006171414582954714,
         0.005747477071926539,
         0.006392849744154042,
         0.007154518662003013,
         0.005630980208298942,
         0.007707915589521715,
         0.006586202832662252,
         0.005771026702219758,
         0.006064239887563081,
         0.00528690030788658,
         0.00548658383387467,
         0.007233712657002719,
         0.006720968663422923,
         0.006826147949651054,
         0.007540790434217223,
         0.005888849487549149,
         0.0067488593665336275,
         0.006415914063243311,
         0.005964433730199813,
         0.006471852023470311,
         0.006830484196361065,
         0.006317218969555289,
         0.006584176575014248,
         0.006698054296143988,
         0.006135848982038558,
         0.006019391007478849
        ],
        [
         0.05782491092074227,
         0.0552461746015719,
         0.054499371557847245,
         0.05425534298183856,
         0.0572646495148346,
         0.05838738543936958,
         0.054759517965185175,
         0.05279568232015356,
         0.051666578374706305,
         0.052357865690991476,
         0.05511571261306088,
         0.05278228965962862,
         0.05211783372252792,
         0.05807259260350234,
         0.05780482821940602,
         0.0559103408368764,
         0.05465838804163716,
         0.05735820945497457,
         0.05390401385337502,
         0.05619831777528509,
         0.05786220814016732,
         0.05407245135442777,
         0.05481202210989091,
         0.054638940284585026,
         0.05663195472549309,
         0.05925461347517255,
         0.05766630238043023,
         0.05426147606756006,
         0.053374721124381214,
         0.05212617759871018,
         0.05802448546247823,
         0.05605993727101134,
         0.04832942810441766,
         0.053240106162893305,
         0.05573507473356538,
         0.0550330707730798,
         0.05225806642178591,
         0.055358416340374327,
         0.05414373812253599,
         0.053785884220685275,
         0.05540012856098739,
         0.053093132333128484,
         0.05694709009454622,
         0.05733902527430615,
         0.05630793884493314,
         0.05479910319017899,
         0.05630332548413184,
         0.05284576976744385,
         0.052826314076007186,
         0.0534383248924822,
         0.05649163648969941,
         0.052214632246207884,
         0.05192118929094308,
         0.05326546426233533,
         0.05892094589963362,
         0.055236939752063195,
         0.05538275245238434,
         0.057089397345076905,
         0.05528738231144168,
         0.05629038895395669,
         0.05597074085532071,
         0.056666602634570816,
         0.05486754519115021,
         0.05137057629014764,
         0.0545761924624056,
         0.05300308190673202,
         0.05493808902993605,
         0.05802338722754608,
         0.05449291354940309,
         0.05247908625026028,
         0.05938610693367271,
         0.04736425260735023,
         0.05720498042737509,
         0.054595684729419745,
         0.05647070655091242,
         0.054122651237752534,
         0.05603870505152585,
         0.059201841496608475,
         0.0546767015687444,
         0.056825552546939294,
         0.055855309106893354,
         0.055131600153717125,
         0.054892028960121145,
         0.054485121209706576,
         0.05398294433661095,
         0.056418072746752146,
         0.054813306512577195,
         0.056819560151402056,
         0.060432726372178495,
         0.05492853351517931,
         0.056611359385507445,
         0.05221734754741192,
         0.054008374619600064,
         0.05627609254768143,
         0.058898861798179616,
         0.052276928389033715,
         0.05400797886798134,
         0.05494615675083229,
         0.054741598641524065,
         0.057054293692692534
        ],
        [
         8.90503628179431,
         8.507910888642073,
         8.392903219908476,
         8.355322819203138,
         8.818756025284529,
         8.991657357662916,
         8.432965766638517,
         8.130535077303648,
         7.956653069704771,
         8.063111316412687,
         8.487819742411375,
         8.128472607582808,
         8.0261463932693,
         8.94317926093936,
         8.901943545788527,
         8.610192488878965,
         8.417391758412123,
         8.833164256066084,
         8.301218133419752,
         8.654540937393904,
         8.910780053585768,
         8.327157508581877,
         8.4410514049232,
         8.414396803826094,
         8.721321027725935,
         9.125210475176573,
         8.880610566586256,
         8.35626731440425,
         8.219707053154707,
         8.027431350201368,
         8.935770761221647,
         8.633230339735746,
         7.44273192808032,
         8.19897634908557,
         8.583201508969069,
         8.475092899054289,
         8.04774222895503,
         8.525196116417646,
         8.338135670870543,
         8.283026169985533,
         8.531619798392057,
         8.176342379301786,
         8.769851874560118,
         8.830209892243147,
         8.671422582119703,
         8.439061891287565,
         8.670712124556303,
         8.138248544186354,
         8.135252367705107,
         8.229502033442259,
         8.69971201941371,
         8.041053365916014,
         7.995863150805235,
         8.202881496399641,
         9.073825668543577,
         8.506488721817732,
         8.528943877667189,
         8.791767191141844,
         8.514256875962019,
         8.66871989890933,
         8.619494091719389,
         8.726656805723906,
         8.449601959437132,
         7.911068748682737,
         8.404733639210463,
         8.162474613636732,
         8.460465710610151,
         8.935601633042097,
         8.391908686608076,
         8.081779282540083,
         9.145460467785597,
         7.294094901531935,
         8.809566985815763,
         8.40773544833064,
         8.696488808840513,
         8.33488829061389,
         8.62996057793498,
         9.117083590477705,
         8.420212041586637,
         8.751135092228651,
         8.601717602461576,
         8.490266423672438,
         8.453372459858656,
         8.390708666294813,
         8.313373427838087,
         8.68838320299983,
         8.441249202936888,
         8.750212263315916,
         9.306639861315489,
         8.458994161337614,
         8.718149345368147,
         8.041471522301435,
         8.31728969141841,
         8.66651825234294,
         9.07042471691966,
         8.050646971911192,
         8.317228745669127,
         8.461708139628172,
         8.430206190794706,
         8.78636122867465
        ],
        [
         1.0151086163806324,
         1.0134989260536318,
         0.9171814118535668,
         0.9027442192124133,
         1.075453780014246,
         1.0216086618652551,
         0.9489925477269179,
         0.8952987559679719,
         0.9092913265144018,
         0.8969536121906834,
         0.9383910614257154,
         0.9014408358042733,
         0.9174875216711733,
         1.063396872559511,
         0.968309290747193,
         0.9973506118087605,
         0.9753706660880437,
         1.0344143359642388,
         0.921528295838206,
         1.006034092263699,
         1.0591527747173268,
         0.9081208661636626,
         0.9449592957577718,
         0.9767837084869485,
         0.9680878503175976,
         1.0638058192036697,
         1.0288270519665828,
         0.9083778880512061,
         0.9789767849745498,
         0.8940853710591034,
         1.0555713195147605,
         0.9555355655045188,
         0.8018414593100247,
         1.0026001932263582,
         1.0409678518552101,
         0.9643710676882211,
         0.9517150163167696,
         0.9543029217287127,
         0.9762891696668493,
         0.9239552912061854,
         1.021774850349987,
         0.8824914754762051,
         0.9650509823108421,
         1.0037985960797122,
         0.9683888345518508,
         1.000804456503962,
         1.0165671258420452,
         0.9404131788158698,
         0.9039240722274917,
         0.9180513088511658,
         1.0685456793169648,
         0.8918136946244556,
         0.9044831803617699,
         0.9061601658801762,
         1.0409695980226388,
         0.9460524719773253,
         1.0301684106198326,
         1.0513396944581783,
         0.9811997486351801,
         1.0014784928034945,
         0.943379527236079,
         1.0379567861594798,
         1.032754449999492,
         0.8657189777182873,
         0.9963589667417138,
         0.9132169361624387,
         0.9844864928957255,
         1.0098153194027708,
         0.9942711306511778,
         0.9224542937104565,
         1.0548773015835688,
         0.8198469218430452,
         1.0494924123903238,
         0.9423916985572061,
         0.9748835036941726,
         0.9408036293917488,
         0.9922191595608918,
         1.0496646483274856,
         0.9312201415766506,
         1.0895040159569602,
         1.0071123255277867,
         0.9427290767457227,
         0.9663813650338641,
         0.9023207009786117,
         0.9192028668453439,
         1.0554580755190701,
         1.0173638356886539,
         1.0252935112670236,
         1.077627823912065,
         0.9523039541462427,
         1.019472580526901,
         0.9940074274065913,
         0.9583959486823654,
         0.9983312133828272,
         1.0256191136282533,
         0.9863324598285886,
         1.0069573936131528,
         1.015628062632268,
         0.9720703386246995,
         0.9628012334598158
        ]
       ],
       "encoder": "json",
       "name": "ABC_GAN_3 Metrics",
       "version": 1
      }
     },
     "metadata": {
      "scrapbook": {
       "data": true,
       "display": false,
       "name": "ABC_GAN_3 Metrics"
      }
     },
     "output_type": "display_data"
    },
    {
     "name": "stdout",
     "output_type": "stream",
     "text": [
      "MAE\n",
      "0.05512123556396404\n"
     ]
    }
   ],
   "source": [
    "ABC_GAN3_metrics=ABC_train_test2.test_generator(gen3,test_data,prior_model,variance,bias,\"3\",device)\n",
    "sb.glue(\"ABC_GAN_3 Metrics\",ABC_GAN3_metrics)\n",
    "\n",
    "print(\"MAE\")\n",
    "print(mean(ABC_GAN3_metrics[1]))"
   ]
  },
  {
   "cell_type": "code",
   "execution_count": 22,
   "id": "c8e46b48",
   "metadata": {
    "execution": {
     "iopub.execute_input": "2022-07-25T08:59:40.037425Z",
     "iopub.status.busy": "2022-07-25T08:59:40.037064Z",
     "iopub.status.idle": "2022-07-25T08:59:40.885400Z",
     "shell.execute_reply": "2022-07-25T08:59:40.884544Z"
    },
    "id": "c8e46b48",
    "papermill": {
     "duration": 0.896191,
     "end_time": "2022-07-25T08:59:40.888127",
     "exception": false,
     "start_time": "2022-07-25T08:59:39.991936",
     "status": "completed"
    },
    "tags": []
   },
   "outputs": [
    {
     "data": {
      "image/png": "[encoded data removed]",
      "text/plain": [
       "<Figure size 432x288 with 1 Axes>"
      ]
     },
     "metadata": {
      "needs_background": "light"
     },
     "output_type": "display_data"
    },
    {
     "data": {
      "image/png": "[encoded data removed]",
      "text/plain": [
       "<Figure size 432x288 with 1 Axes>"
      ]
     },
     "metadata": {
      "needs_background": "light"
     },
     "output_type": "display_data"
    },
    {
     "data": {
      "image/png": "[encoded data removed]",
      "text/plain": [
       "<Figure size 432x288 with 1 Axes>"
      ]
     },
     "metadata": {
      "needs_background": "light"
     },
     "output_type": "display_data"
    },
    {
     "data": {
      "image/png": "[encoded data removed]",
      "text/plain": [
       "<Figure size 432x288 with 1 Axes>"
      ]
     },
     "metadata": {
      "needs_background": "light"
     },
     "output_type": "display_data"
    }
   ],
   "source": [
    "sanityChecks.discProbVsError(train_data,disc3,device)\n",
    "sanityChecks.discProbVsError(test_data,disc3,device)"
   ]
  },
  {
   "cell_type": "markdown",
   "id": "8bc4dcb1",
   "metadata": {
    "id": "130f3a4d",
    "papermill": {
     "duration": 0.051908,
     "end_time": "2022-07-25T08:59:40.985381",
     "exception": false,
     "start_time": "2022-07-25T08:59:40.933473",
     "status": "completed"
    },
    "tags": []
   },
   "source": [
    "# skipGAN Model with TabNet Generator"
   ]
  },
  {
   "cell_type": "code",
   "execution_count": 23,
   "id": "7d2dc1fc",
   "metadata": {
    "execution": {
     "iopub.execute_input": "2022-07-25T08:59:41.073660Z",
     "iopub.status.busy": "2022-07-25T08:59:41.073291Z",
     "iopub.status.idle": "2022-07-25T08:59:41.091550Z",
     "shell.execute_reply": "2022-07-25T08:59:41.089855Z"
    },
    "id": "4e43dad1",
    "papermill": {
     "duration": 0.065573,
     "end_time": "2022-07-25T08:59:41.094837",
     "exception": false,
     "start_time": "2022-07-25T08:59:41.029264",
     "status": "completed"
    },
    "tags": []
   },
   "outputs": [],
   "source": [
    "#Generator\n",
    "gen4 = network.GeneratorTabnetskipConnection(n_features+1).to(device)\n",
    "constraints=network.weightConstraint()\n",
    "#Discriminator \n",
    "disc4 = network.Discriminator(n_features+1).to(device)\n",
    "\n",
    "criterion = torch.nn.BCELoss()\n",
    "gen_opt = torch.optim.Adam(gen4.parameters(), lr=0.01, betas=(0.5, 0.999))\n",
    "disc_opt = torch.optim.Adam(disc4.parameters(), lr=0.01, betas=(0.5, 0.999))\n"
   ]
  },
  {
   "cell_type": "code",
   "execution_count": 24,
   "id": "8e896eed",
   "metadata": {
    "execution": {
     "iopub.execute_input": "2022-07-25T08:59:41.187463Z",
     "iopub.status.busy": "2022-07-25T08:59:41.186768Z",
     "iopub.status.idle": "2022-07-25T09:20:32.851387Z",
     "shell.execute_reply": "2022-07-25T09:20:32.850444Z"
    },
    "id": "26acbc37",
    "papermill": {
     "duration": 1251.72066,
     "end_time": "2022-07-25T09:20:32.855875",
     "exception": false,
     "start_time": "2022-07-25T08:59:41.135215",
     "status": "completed"
    },
    "tags": []
   },
   "outputs": [
    {
     "data": {
      "image/png": "[encoded data removed]",
      "text/plain": [
       "<Figure size 432x288 with 1 Axes>"
      ]
     },
     "metadata": {
      "needs_background": "light"
     },
     "output_type": "display_data"
    },
    {
     "data": {
      "image/png": "[encoded data removed]",
      "text/plain": [
       "<Figure size 432x288 with 1 Axes>"
      ]
     },
     "metadata": {
      "needs_background": "light"
     },
     "output_type": "display_data"
    }
   ],
   "source": [
    "ABC_train_test2.training_GAN_skip_connection(disc4,gen4,disc_opt,gen_opt,train_data,batch_size,n_epochs,criterion,prior_model,variance,bias,device)"
   ]
  },
  {
   "cell_type": "code",
   "execution_count": 25,
   "id": "156af57d",
   "metadata": {
    "execution": {
     "iopub.execute_input": "2022-07-25T09:20:32.989305Z",
     "iopub.status.busy": "2022-07-25T09:20:32.986076Z",
     "iopub.status.idle": "2022-07-25T09:20:38.798743Z",
     "shell.execute_reply": "2022-07-25T09:20:38.797875Z"
    },
    "id": "c5e0717b",
    "papermill": {
     "duration": 5.90211,
     "end_time": "2022-07-25T09:20:38.801537",
     "exception": false,
     "start_time": "2022-07-25T09:20:32.899427",
     "status": "completed"
    },
    "tags": []
   },
   "outputs": [
    {
     "data": {
      "application/scrapbook.scrap.json+json": {
       "data": 0.009299935714021209,
       "encoder": "json",
       "name": "ABC-GAN Model 3 MSE",
       "version": 1
      }
     },
     "metadata": {
      "scrapbook": {
       "data": true,
       "display": false,
       "name": "ABC-GAN Model 3 MSE"
      }
     },
     "output_type": "display_data"
    },
    {
     "data": {
      "application/scrapbook.scrap.json+json": {
       "data": 0.06402152684601871,
       "encoder": "json",
       "name": "ABC-GAN Model 3 MAE",
       "version": 1
      }
     },
     "metadata": {
      "scrapbook": {
       "data": true,
       "display": false,
       "name": "ABC-GAN Model 3 MAE"
      }
     },
     "output_type": "display_data"
    },
    {
     "data": {
      "application/scrapbook.scrap.json+json": {
       "data": 9.85931513428688,
       "encoder": "json",
       "name": "ABC-GAN Model 3 Manhattan Distance",
       "version": 1
      }
     },
     "metadata": {
      "scrapbook": {
       "data": true,
       "display": false,
       "name": "ABC-GAN Model 3 Manhattan Distance"
      }
     },
     "output_type": "display_data"
    },
    {
     "data": {
      "application/scrapbook.scrap.json+json": {
       "data": 1.1942088687649284,
       "encoder": "json",
       "name": "ABC-GAN Model 3 Euclidean distance",
       "version": 1
      }
     },
     "metadata": {
      "scrapbook": {
       "data": true,
       "display": false,
       "name": "ABC-GAN Model 3 Euclidean distance"
      }
     },
     "output_type": "display_data"
    },
    {
     "data": {
      "application/scrapbook.scrap.json+json": {
       "data": [
        [
         0.00913014350312571,
         0.009343506643518028,
         0.008770201684948015,
         0.00973535361204598,
         0.009655136177641969,
         0.009185337364534455,
         0.009219240651088248,
         0.00816126651286708,
         0.010941591872655733,
         0.008743509644096002,
         0.010965477143419004,
         0.010813219976692323,
         0.008181011678089467,
         0.010352441933004213,
         0.010051871921281609,
         0.008025396748187032,
         0.009810458923056337,
         0.010025108217927015,
         0.008478031604317962,
         0.012083264013290811,
         0.009970050425061197,
         0.009820297339514117,
         0.010140027665823214,
         0.011897645362637713,
         0.008126122586096468,
         0.007508542471633433,
         0.008293894402204785,
         0.007962919019463926,
         0.009565672891252904,
         0.008182331243778766,
         0.00908633644895741,
         0.009572695943483549,
         0.01002252071443612,
         0.010126369349013597,
         0.009137865819990872,
         0.00880743449955,
         0.008307981505801327,
         0.008257304500040261,
         0.009558766706802545,
         0.007105089023653734,
         0.010388758983129716,
         0.012504470246758692,
         0.010083145829839045,
         0.007906897413883784,
         0.010975832887578458,
         0.011478137229644827,
         0.01011204119873703,
         0.009877176524535387,
         0.009094481418253192,
         0.00999262927072665,
         0.009539170199718384,
         0.006861885317503039,
         0.01032152012563366,
         0.008317077862609679,
         0.009127114222975507,
         0.007640554974600044,
         0.009438065229353988,
         0.009732277766721694,
         0.008272533971983076,
         0.009859629290690376,
         0.008418541086047478,
         0.008270695987425565,
         0.007716318945752808,
         0.01021182054614356,
         0.00844039326768697,
         0.010343974447624723,
         0.010510263134011193,
         0.008817384415648298,
         0.008633980223362732,
         0.007084141347250672,
         0.009243191285935448,
         0.009780471788913931,
         0.007880399656026573,
         0.009826548044453303,
         0.009016768191889917,
         0.00933055710724949,
         0.007176153374201471,
         0.008297315125714706,
         0.010812433293444074,
         0.008238244178559923,
         0.011020877220217924,
         0.009076284235868025,
         0.007431198400438508,
         0.009087233966514927,
         0.010984994719780724,
         0.011528203324286605,
         0.0085238574579332,
         0.009749203531245207,
         0.010229197735111165,
         0.008636603730265376,
         0.008361539335782615,
         0.010367647183536416,
         0.010933303566022123,
         0.006801107012234003,
         0.011082929874505223,
         0.00850177588045678,
         0.0077150794146412,
         0.00944870490630764,
         0.009864812533977939,
         0.00795458421579332
        ],
        [
         0.0644723709866211,
         0.06395260793725391,
         0.06507640348916705,
         0.06499010254326579,
         0.06871808888753514,
         0.06388716406926706,
         0.06549291629586126,
         0.06102615582768793,
         0.06954245324936006,
         0.0631235141984441,
         0.0657036995103994,
         0.0696404269327978,
         0.06058961731176098,
         0.06876991715814386,
         0.06578112042859777,
         0.05753018762674424,
         0.06518629432788917,
         0.06851206069159044,
         0.06456694033529077,
         0.07134375931670914,
         0.06464791459986916,
         0.07021518794263339,
         0.06725787552823494,
         0.06743632419059029,
         0.06159989872052298,
         0.061499313366684044,
         0.06006612016686371,
         0.060131614931024514,
         0.06541432215312085,
         0.061766088081451204,
         0.06354062614793127,
         0.0647264276570701,
         0.06799919678309521,
         0.0690439771860838,
         0.061613921293771114,
         0.06204636363530314,
         0.06004343585824812,
         0.0656887868346719,
         0.061221902899734386,
         0.05765105578322689,
         0.06485301147323924,
         0.06951218599139096,
         0.06673907563574129,
         0.06112070742075319,
         0.06851003423042885,
         0.06944665068446042,
         0.06205947704419687,
         0.06006338203011395,
         0.06252576359971003,
         0.06985255115508258,
         0.06520009144850365,
         0.05675977456395502,
         0.06740460208580866,
         0.06245904974639416,
         0.06576411317211467,
         0.05816583381361001,
         0.06556795699546089,
         0.06727093097741728,
         0.06283244826867208,
         0.0697044339998589,
         0.062080729196404484,
         0.060819893180356396,
         0.06031917410527731,
         0.06306947716935114,
         0.05670250824035762,
         0.06731420511065365,
         0.06495558642237992,
         0.06106902279153273,
         0.0637183991297112,
         0.05904806151308797,
         0.0644979491200927,
         0.06538462007490846,
         0.059650643958480326,
         0.06391101986073054,
         0.06259568081563943,
         0.06520470190648135,
         0.0566956451912592,
         0.060390194394178205,
         0.06570844640108672,
         0.06129618925223877,
         0.0646752015288387,
         0.06082260732043099,
         0.056796529535929875,
         0.06625240642045226,
         0.06957131360548657,
         0.07190466302072072,
         0.06302953083310034,
         0.06538583500334968,
         0.07015445332538772,
         0.05889371015712038,
         0.062303259460763497,
         0.06615877042633372,
         0.0658321969646525,
         0.05600513699283073,
         0.06923658978919704,
         0.06329022955101032,
         0.06070157660582623,
         0.06340567658764201,
         0.06575133610371646,
         0.06022128431344187
        ],
        [
         9.92874513193965,
         9.848701622337103,
         10.021766137331724,
         10.008475791662931,
         10.58258568868041,
         9.838623266667128,
         10.085909109562635,
         9.398027997463942,
         10.70953780040145,
         9.721021186560392,
         10.118369724601507,
         10.724625747650862,
         9.33080106601119,
         10.590567242354155,
         10.130292546004057,
         8.859648894518614,
         10.038689326494932,
         10.550857346504927,
         9.943308811634779,
         10.986938934773207,
         9.95577884837985,
         10.81313894316554,
         10.35771283134818,
         10.385193925350904,
         9.486384402960539,
         9.470894258469343,
         9.250182505697012,
         9.260268699377775,
         10.07380561158061,
         9.511977564543486,
         9.785256426781416,
         9.967869859188795,
         10.471876304596663,
         10.632772486656904,
         9.488543879240751,
         9.555139999836683,
         9.24668912217021,
         10.116073172539473,
         9.428173046559095,
         8.878262590616941,
         9.987363766878843,
         10.704876642674208,
         10.277817647904158,
         9.412588942795992,
         10.550545271486044,
         10.694784205406904,
         9.557159464806318,
         9.249760832637548,
         9.628967594355345,
         10.757292877882719,
         10.040814083069563,
         8.741005282849073,
         10.380308721214533,
         9.6186936609447,
         10.127673428505659,
         8.957538407295942,
         10.097465377300978,
         10.35972337052226,
         9.676197033375502,
         10.73448283597827,
         9.56043229624629,
         9.366263549774885,
         9.289152812212706,
         9.712699484080076,
         8.732186269015074,
         10.366387587040663,
         10.003160309046507,
         9.40462950989604,
         9.812633465975523,
         9.093401473015547,
         9.932684164494276,
         10.069231491535902,
         9.18619916960597,
         9.842297058552504,
         9.639734845608473,
         10.041524093598127,
         8.731129359453917,
         9.300089936703444,
         10.119100745767355,
         9.43961314484477,
         9.95998103544116,
         9.366681527346373,
         8.746665548533201,
         10.202870588749647,
         10.713982295244932,
         11.073318105190992,
         9.706547748297453,
         10.069418590515852,
         10.803785812109709,
         9.069631364196539,
         9.594701956957579,
         10.188450645655394,
         10.138158332556486,
         8.624791096895933,
         10.662434827536345,
         9.746695350855589,
         9.34804279729724,
         9.76447419449687,
         10.125705759972334,
         9.274077784270048
        ],
        [
         1.1857664607676166,
         1.199541588733703,
         1.1621579322458693,
         1.2244363830983955,
         1.2193813888020693,
         1.1893451787173925,
         1.1915381069305295,
         1.1210865457142596,
         1.298077481658542,
         1.1603880752536129,
         1.2994935475355494,
         1.2904401870720772,
         1.1224418908904719,
         1.2626464499940784,
         1.2441817696290873,
         1.1117153858883142,
         1.2291503871173273,
         1.2425243118590317,
         1.1426359293602517,
         1.3641197374302538,
         1.239107648858413,
         1.2297665592644704,
         1.2496256481589898,
         1.3536016348417312,
         1.1186701382708202,
         1.0753211337231072,
         1.1301591648699474,
         1.1073795776505202,
         1.213718923496271,
         1.1225324100184946,
         1.1829183459307075,
         1.2141643938513706,
         1.2423639523195942,
         1.2487837602035408,
         1.186267818107949,
         1.1646222189751918,
         1.1311185401598738,
         1.1276634662017744,
         1.2132807065339792,
         1.0460323654852537,
         1.2648592346194008,
         1.3876917590015583,
         1.246115748153121,
         1.1034773227113022,
         1.3001070204745004,
         1.3295236490432591,
         1.2478999737981817,
         1.233322822613143,
         1.1834484096955775,
         1.2405099385703864,
         1.2120363900298667,
         1.0279738999096564,
         1.2607593344280994,
         1.1317375980508426,
         1.1855697323811145,
         1.084732900804805,
         1.2055961369051056,
         1.2242429399735744,
         1.128702897881189,
         1.232226809790437,
         1.1386199222090363,
         1.1285775037911827,
         1.0900977560044478,
         1.254041611792092,
         1.1400967341518848,
         1.2621299714903402,
         1.2722344605605227,
         1.1652798805479472,
         1.153097114035874,
         1.044489237606881,
         1.1930848494696675,
         1.2272704084645507,
         1.1016267730171105,
         1.2301578755776872,
         1.1783812208071915,
         1.1987100543986529,
         1.0512505027951362,
         1.1303922015654853,
         1.290393245173884,
         1.126361222476266,
         1.3027720798027413,
         1.1822638336359934,
         1.0697684579700086,
         1.1829767668231268,
         1.3006495249859709,
         1.3324200958932348,
         1.145719882223274,
         1.2253070406276794,
         1.2551081432319364,
         1.153272289817486,
         1.1347585900580452,
         1.2635733719355626,
         1.2975857386575298,
         1.0234111978496407,
         1.3064345374620974,
         1.144234890916347,
         1.0900101971333778,
         1.206275489086708,
         1.2325506603108054,
         1.1067998776798682
        ]
       ],
       "encoder": "json",
       "name": "ABC_GAN_4 Metrics",
       "version": 1
      }
     },
     "metadata": {
      "scrapbook": {
       "data": true,
       "display": false,
       "name": "ABC_GAN_4 Metrics"
      }
     },
     "output_type": "display_data"
    },
    {
     "name": "stdout",
     "output_type": "stream",
     "text": [
      "MAE\n",
      "0.06402152684601871\n"
     ]
    }
   ],
   "source": [
    "ABC_GAN4_metrics=ABC_train_test2.test_generator(gen4,test_data,prior_model,variance,bias,\"3\",device)\n",
    "sb.glue(\"ABC_GAN_4 Metrics\",ABC_GAN4_metrics)\n",
    "\n",
    "print(\"MAE\")\n",
    "print(mean(ABC_GAN4_metrics[1]))"
   ]
  },
  {
   "cell_type": "code",
   "execution_count": 26,
   "id": "3c6d7fe0",
   "metadata": {
    "execution": {
     "iopub.execute_input": "2022-07-25T09:20:38.897955Z",
     "iopub.status.busy": "2022-07-25T09:20:38.897597Z",
     "iopub.status.idle": "2022-07-25T09:20:39.928378Z",
     "shell.execute_reply": "2022-07-25T09:20:39.927615Z"
    },
    "id": "c8e46b48",
    "papermill": {
     "duration": 1.083577,
     "end_time": "2022-07-25T09:20:39.931037",
     "exception": false,
     "start_time": "2022-07-25T09:20:38.847460",
     "status": "completed"
    },
    "tags": []
   },
   "outputs": [
    {
     "data": {
      "image/png": "[encoded data removed]",
      "text/plain": [
       "<Figure size 432x288 with 1 Axes>"
      ]
     },
     "metadata": {
      "needs_background": "light"
     },
     "output_type": "display_data"
    },
    {
     "data": {
      "image/png": "[encoded data removed]",
      "text/plain": [
       "<Figure size 432x288 with 1 Axes>"
      ]
     },
     "metadata": {
      "needs_background": "light"
     },
     "output_type": "display_data"
    },
    {
     "data": {
      "image/png": "[encoded data removed]",
      "text/plain": [
       "<Figure size 432x288 with 1 Axes>"
      ]
     },
     "metadata": {
      "needs_background": "light"
     },
     "output_type": "display_data"
    },
    {
     "data": {
      "image/png": "[encoded data removed]",
      "text/plain": [
       "<Figure size 432x288 with 1 Axes>"
      ]
     },
     "metadata": {
      "needs_background": "light"
     },
     "output_type": "display_data"
    }
   ],
   "source": [
    "sanityChecks.discProbVsError(train_data,disc4,device)\n",
    "sanityChecks.discProbVsError(test_data,disc4,device)"
   ]
  },
  {
   "cell_type": "markdown",
   "id": "a5bd74c3",
   "metadata": {
    "id": "a5bd74c3",
    "papermill": {
     "duration": 0.052267,
     "end_time": "2022-07-25T09:20:40.031158",
     "exception": false,
     "start_time": "2022-07-25T09:20:39.978891",
     "status": "completed"
    },
    "tags": []
   },
   "source": [
    "## Skip Connection Model Analysis - ABC-GAN "
   ]
  },
  {
   "cell_type": "markdown",
   "id": "5744a8bf",
   "metadata": {
    "id": "5744a8bf",
    "papermill": {
     "duration": 0.048912,
     "end_time": "2022-07-25T09:20:40.128392",
     "exception": false,
     "start_time": "2022-07-25T09:20:40.079480",
     "status": "completed"
    },
    "tags": []
   },
   "source": [
    "### Weight Analysis \n",
    "\n",
    "Study the weights of the skip connection layer\n",
    "\n",
    "Equation of the skip connection is \n",
    "\n",
    "$output = y_{gan} * w + y_{abc} * (1-w)$"
   ]
  },
  {
   "cell_type": "code",
   "execution_count": 27,
   "id": "52c31dea",
   "metadata": {
    "execution": {
     "iopub.execute_input": "2022-07-25T09:20:40.224766Z",
     "iopub.status.busy": "2022-07-25T09:20:40.224426Z",
     "iopub.status.idle": "2022-07-25T09:20:40.240276Z",
     "shell.execute_reply": "2022-07-25T09:20:40.238387Z"
    },
    "id": "52c31dea",
    "papermill": {
     "duration": 0.06703,
     "end_time": "2022-07-25T09:20:40.243766",
     "exception": false,
     "start_time": "2022-07-25T09:20:40.176736",
     "status": "completed"
    },
    "tags": []
   },
   "outputs": [
    {
     "name": "stdout",
     "output_type": "stream",
     "text": [
      "Weight of the node at skip connection\n",
      "Parameter containing:\n",
      "tensor([[0.3679]], requires_grad=True)\n"
     ]
    },
    {
     "data": {
      "application/scrapbook.scrap.json+json": {
       "data": 0.3678766191005707,
       "encoder": "json",
       "name": "Skip Connection Weight",
       "version": 1
      }
     },
     "metadata": {
      "scrapbook": {
       "data": true,
       "display": false,
       "name": "Skip Connection Weight"
      }
     },
     "output_type": "display_data"
    }
   ],
   "source": [
    "print(\"Weight of the node at skip connection\")\n",
    "for name,param in gen3.named_parameters():\n",
    "    if(name == \"skipNode.weight\"):\n",
    "        print(param)\n",
    "        sb.glue(\"Skip Connection Weight\",param.item())"
   ]
  },
  {
   "cell_type": "markdown",
   "id": "f32051b4",
   "metadata": {
    "id": "a5bd74c3",
    "papermill": {
     "duration": 0.052284,
     "end_time": "2022-07-25T09:20:40.346794",
     "exception": false,
     "start_time": "2022-07-25T09:20:40.294510",
     "status": "completed"
    },
    "tags": []
   },
   "source": [
    "## skipGAN Model Analysis (TabNet Generator) "
   ]
  },
  {
   "cell_type": "markdown",
   "id": "fc6e63cc",
   "metadata": {
    "id": "5744a8bf",
    "papermill": {
     "duration": 0.061821,
     "end_time": "2022-07-25T09:20:40.465146",
     "exception": false,
     "start_time": "2022-07-25T09:20:40.403325",
     "status": "completed"
    },
    "tags": []
   },
   "source": [
    "### Weight Analysis \n",
    "\n",
    "Study the weights of the skip connection layer\n",
    "\n",
    "Equation of the skip connection is \n",
    "\n",
    "$output = y_{gan} * w + y_{abc} * (1-w)$"
   ]
  },
  {
   "cell_type": "code",
   "execution_count": 28,
   "id": "72d144fa",
   "metadata": {
    "execution": {
     "iopub.execute_input": "2022-07-25T09:20:40.577128Z",
     "iopub.status.busy": "2022-07-25T09:20:40.576816Z",
     "iopub.status.idle": "2022-07-25T09:20:40.589669Z",
     "shell.execute_reply": "2022-07-25T09:20:40.588834Z"
    },
    "id": "52c31dea",
    "papermill": {
     "duration": 0.081292,
     "end_time": "2022-07-25T09:20:40.595662",
     "exception": false,
     "start_time": "2022-07-25T09:20:40.514370",
     "status": "completed"
    },
    "tags": []
   },
   "outputs": [
    {
     "name": "stdout",
     "output_type": "stream",
     "text": [
      "Weight of the node at skip connection\n",
      "Parameter containing:\n",
      "tensor([[0.4676]], requires_grad=True)\n"
     ]
    },
    {
     "data": {
      "application/scrapbook.scrap.json+json": {
       "data": 0.46761709451675415,
       "encoder": "json",
       "name": "Skip Connection Weight",
       "version": 1
      }
     },
     "metadata": {
      "scrapbook": {
       "data": true,
       "display": false,
       "name": "Skip Connection Weight"
      }
     },
     "output_type": "display_data"
    }
   ],
   "source": [
    "print(\"Weight of the node at skip connection\")\n",
    "for name,param in gen4.named_parameters():\n",
    "    if(name == \"skipNode.weight\"):\n",
    "        print(param)\n",
    "        sb.glue(\"Skip Connection Weight\",param.item())"
   ]
  }
 ],
 "metadata": {
  "colab": {
   "collapsed_sections": [],
   "name": "ABC_GAN_Model-Catboost_Pre-gen.ipynb",
   "provenance": []
  },
  "interpreter": {
   "hash": "31f2aee4e71d21fbe5cf8b01ff0e069b9275f58929596ceb00d14d90e3e16cd6"
  },
  "kernelspec": {
   "display_name": "Python 3 (ipykernel)",
   "language": "python",
   "name": "python3"
  },
  "language_info": {
   "codemirror_mode": {
    "name": "ipython",
    "version": 3
   },
   "file_extension": ".py",
   "mimetype": "text/x-python",
   "name": "python",
   "nbconvert_exporter": "python",
   "pygments_lexer": "ipython3",
   "version": "3.8.13"
  },
  "papermill": {
   "default_parameters": {},
   "duration": 3392.699435,
   "end_time": "2022-07-25T09:20:41.572376",
   "environment_variables": {},
   "exception": null,
   "input_path": "ABC_GAN-TabNet.ipynb",
   "output_path": "./ABC_GAN_TabNet/ABC-GAN_output_1_1.ipynb",
   "parameters": {
    "bias": 1,
    "variance": 0.1
   },
   "start_time": "2022-07-25T08:24:08.872941",
   "version": "2.3.3"
  }
 },
 "nbformat": 4,
 "nbformat_minor": 5
}