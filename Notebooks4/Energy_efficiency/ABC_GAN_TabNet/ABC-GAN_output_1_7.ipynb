{
 "cells": [
  {
   "cell_type": "markdown",
   "id": "622780e6",
   "metadata": {
    "id": "622780e6",
    "papermill": {
     "duration": 0.021186,
     "end_time": "2022-07-25T09:07:28.021901",
     "exception": false,
     "start_time": "2022-07-25T09:07:28.000715",
     "status": "completed"
    },
    "tags": []
   },
   "source": [
    "## Import Libraries "
   ]
  },
  {
   "cell_type": "code",
   "execution_count": 1,
   "id": "a62397e3",
   "metadata": {
    "execution": {
     "iopub.execute_input": "2022-07-25T09:07:28.066420Z",
     "iopub.status.busy": "2022-07-25T09:07:28.065873Z",
     "iopub.status.idle": "2022-07-25T09:07:28.078344Z",
     "shell.execute_reply": "2022-07-25T09:07:28.077498Z"
    },
    "id": "a62397e3",
    "papermill": {
     "duration": 0.036857,
     "end_time": "2022-07-25T09:07:28.082631",
     "exception": false,
     "start_time": "2022-07-25T09:07:28.045774",
     "status": "completed"
    },
    "tags": []
   },
   "outputs": [],
   "source": [
    "import warnings\n",
    "import sys\n",
    "sys.path.insert(0, '../../src')\n",
    "warnings.filterwarnings('ignore')"
   ]
  },
  {
   "cell_type": "code",
   "execution_count": 2,
   "id": "d6a4e155",
   "metadata": {
    "execution": {
     "iopub.execute_input": "2022-07-25T09:07:28.101542Z",
     "iopub.status.busy": "2022-07-25T09:07:28.101003Z",
     "iopub.status.idle": "2022-07-25T09:07:34.283731Z",
     "shell.execute_reply": "2022-07-25T09:07:34.282692Z"
    },
    "id": "d6a4e155",
    "papermill": {
     "duration": 6.195067,
     "end_time": "2022-07-25T09:07:34.286999",
     "exception": false,
     "start_time": "2022-07-25T09:07:28.091932",
     "status": "completed"
    },
    "tags": []
   },
   "outputs": [],
   "source": [
    "import ABC_train_test2\n",
    "import energyefficiencyDataset\n",
    "import network\n",
    "import dataset\n",
    "import sanityChecks\n",
    "import torch \n",
    "import scrapbook as sb\n",
    "from statistics import mean \n",
    "import catboost as ctb \n",
    "from sklearn.model_selection import train_test_split\n",
    "from sklearn.metrics import mean_squared_error,mean_absolute_error\n",
    "import numpy as np\n",
    "from pytorch_tabnet.tab_model import TabNetRegressor"
   ]
  },
  {
   "cell_type": "markdown",
   "id": "2fa5b0f7",
   "metadata": {
    "id": "2fa5b0f7",
    "papermill": {
     "duration": 0.007357,
     "end_time": "2022-07-25T09:07:34.302250",
     "exception": false,
     "start_time": "2022-07-25T09:07:34.294893",
     "status": "completed"
    },
    "tags": []
   },
   "source": [
    "## Parameters "
   ]
  },
  {
   "cell_type": "code",
   "execution_count": 3,
   "id": "783186fb",
   "metadata": {
    "execution": {
     "iopub.execute_input": "2022-07-25T09:07:34.318531Z",
     "iopub.status.busy": "2022-07-25T09:07:34.318007Z",
     "iopub.status.idle": "2022-07-25T09:07:34.323346Z",
     "shell.execute_reply": "2022-07-25T09:07:34.321962Z"
    },
    "id": "783186fb",
    "papermill": {
     "duration": 0.017566,
     "end_time": "2022-07-25T09:07:34.326873",
     "exception": false,
     "start_time": "2022-07-25T09:07:34.309307",
     "status": "completed"
    },
    "tags": [
     "parameters"
    ]
   },
   "outputs": [],
   "source": [
    "variance = 1\n",
    "bias = 1 "
   ]
  },
  {
   "cell_type": "code",
   "execution_count": 4,
   "id": "fb8793b4",
   "metadata": {
    "execution": {
     "iopub.execute_input": "2022-07-25T09:07:34.347560Z",
     "iopub.status.busy": "2022-07-25T09:07:34.346666Z",
     "iopub.status.idle": "2022-07-25T09:07:34.352032Z",
     "shell.execute_reply": "2022-07-25T09:07:34.350915Z"
    },
    "papermill": {
     "duration": 0.021014,
     "end_time": "2022-07-25T09:07:34.356067",
     "exception": false,
     "start_time": "2022-07-25T09:07:34.335053",
     "status": "completed"
    },
    "tags": [
     "injected-parameters"
    ]
   },
   "outputs": [],
   "source": [
    "# Parameters\n",
    "variance = 0.1\n",
    "bias = 0.01\n"
   ]
  },
  {
   "cell_type": "markdown",
   "id": "391cdbfd",
   "metadata": {
    "id": "391cdbfd",
    "papermill": {
     "duration": 0.011832,
     "end_time": "2022-07-25T09:07:34.380747",
     "exception": false,
     "start_time": "2022-07-25T09:07:34.368915",
     "status": "completed"
    },
    "tags": []
   },
   "source": [
    "## Dataset \n"
   ]
  },
  {
   "cell_type": "code",
   "execution_count": 5,
   "id": "5b51f161",
   "metadata": {
    "execution": {
     "iopub.execute_input": "2022-07-25T09:07:34.399663Z",
     "iopub.status.busy": "2022-07-25T09:07:34.398909Z",
     "iopub.status.idle": "2022-07-25T09:07:34.405662Z",
     "shell.execute_reply": "2022-07-25T09:07:34.404193Z"
    },
    "id": "5b51f161",
    "papermill": {
     "duration": 0.02273,
     "end_time": "2022-07-25T09:07:34.411649",
     "exception": false,
     "start_time": "2022-07-25T09:07:34.388919",
     "status": "completed"
    },
    "tags": []
   },
   "outputs": [],
   "source": [
    "#Parameters \n",
    "n_features = 8\n",
    "n_samples= 768\n",
    "n_target = 1 "
   ]
  },
  {
   "cell_type": "code",
   "execution_count": 6,
   "id": "5d6eced4",
   "metadata": {
    "execution": {
     "iopub.execute_input": "2022-07-25T09:07:34.433012Z",
     "iopub.status.busy": "2022-07-25T09:07:34.432662Z",
     "iopub.status.idle": "2022-07-25T09:07:35.013102Z",
     "shell.execute_reply": "2022-07-25T09:07:35.011669Z"
    },
    "id": "5d6eced4",
    "papermill": {
     "duration": 0.594519,
     "end_time": "2022-07-25T09:07:35.015846",
     "exception": false,
     "start_time": "2022-07-25T09:07:34.421327",
     "status": "completed"
    },
    "tags": []
   },
   "outputs": [
    {
     "name": "stdout",
     "output_type": "stream",
     "text": [
      "     X1     X2     X3      X4   X5  X6   X7  X8     Y1     Y2\n",
      "0  0.98  514.5  294.0  110.25  7.0   2  0.0   0  15.55  21.33\n",
      "1  0.98  514.5  294.0  110.25  7.0   3  0.0   0  15.55  21.33\n",
      "2  0.98  514.5  294.0  110.25  7.0   4  0.0   0  15.55  21.33\n",
      "3  0.98  514.5  294.0  110.25  7.0   5  0.0   0  15.55  21.33\n",
      "4  0.90  563.5  318.5  122.50  7.0   2  0.0   0  20.84  28.28\n"
     ]
    }
   ],
   "source": [
    "X,Y = energyefficiencyDataset.energy_data()"
   ]
  },
  {
   "cell_type": "code",
   "execution_count": 7,
   "id": "fe007438",
   "metadata": {
    "execution": {
     "iopub.execute_input": "2022-07-25T09:07:35.033220Z",
     "iopub.status.busy": "2022-07-25T09:07:35.032775Z",
     "iopub.status.idle": "2022-07-25T09:07:35.040674Z",
     "shell.execute_reply": "2022-07-25T09:07:35.039602Z"
    },
    "id": "fe007438",
    "papermill": {
     "duration": 0.021078,
     "end_time": "2022-07-25T09:07:35.044346",
     "exception": false,
     "start_time": "2022-07-25T09:07:35.023268",
     "status": "completed"
    },
    "tags": []
   },
   "outputs": [],
   "source": [
    "#Train test split for dataset \n",
    "X_train,X_test,Y_train,Y_test = train_test_split(X,Y,test_size = 0.2)\n",
    "train_data = dataset.CustomDataset(X_train,Y_train)\n",
    "test_data = dataset.CustomDataset(X_test,Y_test)\n"
   ]
  },
  {
   "cell_type": "markdown",
   "id": "a9a1af34",
   "metadata": {
    "id": "a9a1af34",
    "papermill": {
     "duration": 0.007534,
     "end_time": "2022-07-25T09:07:35.060581",
     "exception": false,
     "start_time": "2022-07-25T09:07:35.053047",
     "status": "completed"
    },
    "tags": []
   },
   "source": [
    "## Training Parameters "
   ]
  },
  {
   "cell_type": "code",
   "execution_count": 8,
   "id": "952b7fc8",
   "metadata": {
    "execution": {
     "iopub.execute_input": "2022-07-25T09:07:35.079149Z",
     "iopub.status.busy": "2022-07-25T09:07:35.078698Z",
     "iopub.status.idle": "2022-07-25T09:07:35.084286Z",
     "shell.execute_reply": "2022-07-25T09:07:35.083028Z"
    },
    "id": "952b7fc8",
    "papermill": {
     "duration": 0.018912,
     "end_time": "2022-07-25T09:07:35.087622",
     "exception": false,
     "start_time": "2022-07-25T09:07:35.068710",
     "status": "completed"
    },
    "tags": []
   },
   "outputs": [],
   "source": [
    "batch_size = 32\n",
    "n_epochs = 1000\n",
    "#Select the device \n",
    "device = torch.device('cuda' if torch.cuda.is_available() else 'cpu')"
   ]
  },
  {
   "cell_type": "markdown",
   "id": "a95e1600",
   "metadata": {
    "id": "a95e1600",
    "papermill": {
     "duration": 0.009274,
     "end_time": "2022-07-25T09:07:35.106419",
     "exception": false,
     "start_time": "2022-07-25T09:07:35.097145",
     "status": "completed"
    },
    "tags": []
   },
   "source": [
    "# ABC Pre-generator Model \n",
    "\n",
    "1. The catboost model is used as a pre-generator model for the ABC-GAN. \n",
    "2. The model is first trained on the entire dataset \n",
    "3. It generats X,Y pairs and we add some Gaussian noise with mean 0 and variance 1 to it which is then feed as input to the generator.\n"
   ]
  },
  {
   "cell_type": "code",
   "execution_count": 9,
   "id": "ff8ce7bd",
   "metadata": {
    "execution": {
     "iopub.execute_input": "2022-07-25T09:07:35.125280Z",
     "iopub.status.busy": "2022-07-25T09:07:35.124741Z",
     "iopub.status.idle": "2022-07-25T09:10:35.350792Z",
     "shell.execute_reply": "2022-07-25T09:10:35.349880Z"
    },
    "id": "ff8ce7bd",
    "papermill": {
     "duration": 180.239197,
     "end_time": "2022-07-25T09:10:35.353921",
     "exception": false,
     "start_time": "2022-07-25T09:07:35.114724",
     "status": "completed"
    },
    "tags": []
   },
   "outputs": [
    {
     "name": "stdout",
     "output_type": "stream",
     "text": [
      "Device used : cpu\n"
     ]
    },
    {
     "name": "stdout",
     "output_type": "stream",
     "text": [
      "epoch 0  | loss: 1.03242 | train_mse: 0.52771 | train_mae: 0.58028 |  0:00:00s\n"
     ]
    },
    {
     "name": "stdout",
     "output_type": "stream",
     "text": [
      "epoch 1  | loss: 0.26122 | train_mse: 0.25586 | train_mae: 0.40877 |  0:00:01s\n"
     ]
    },
    {
     "name": "stdout",
     "output_type": "stream",
     "text": [
      "epoch 2  | loss: 0.19333 | train_mse: 0.15527 | train_mae: 0.31863 |  0:00:02s\n"
     ]
    },
    {
     "name": "stdout",
     "output_type": "stream",
     "text": [
      "epoch 3  | loss: 0.18862 | train_mse: 0.16467 | train_mae: 0.32853 |  0:00:03s\n"
     ]
    },
    {
     "name": "stdout",
     "output_type": "stream",
     "text": [
      "epoch 4  | loss: 0.16177 | train_mse: 0.11893 | train_mae: 0.28182 |  0:00:04s\n"
     ]
    },
    {
     "name": "stdout",
     "output_type": "stream",
     "text": [
      "epoch 5  | loss: 0.19108 | train_mse: 0.19264 | train_mae: 0.3299  |  0:00:04s\n"
     ]
    },
    {
     "name": "stdout",
     "output_type": "stream",
     "text": [
      "epoch 6  | loss: 0.19796 | train_mse: 0.12535 | train_mae: 0.28116 |  0:00:05s\n"
     ]
    },
    {
     "name": "stdout",
     "output_type": "stream",
     "text": [
      "epoch 7  | loss: 0.13874 | train_mse: 0.10655 | train_mae: 0.26097 |  0:00:05s\n"
     ]
    },
    {
     "name": "stdout",
     "output_type": "stream",
     "text": [
      "epoch 8  | loss: 0.12819 | train_mse: 0.0949  | train_mae: 0.24488 |  0:00:06s\n"
     ]
    },
    {
     "name": "stdout",
     "output_type": "stream",
     "text": [
      "epoch 9  | loss: 0.12168 | train_mse: 0.08098 | train_mae: 0.22537 |  0:00:06s\n"
     ]
    },
    {
     "name": "stdout",
     "output_type": "stream",
     "text": [
      "epoch 10 | loss: 0.11457 | train_mse: 0.07656 | train_mae: 0.22017 |  0:00:07s\n"
     ]
    },
    {
     "name": "stdout",
     "output_type": "stream",
     "text": [
      "epoch 11 | loss: 0.1335  | train_mse: 0.07052 | train_mae: 0.20922 |  0:00:08s\n"
     ]
    },
    {
     "name": "stdout",
     "output_type": "stream",
     "text": [
      "epoch 12 | loss: 0.09095 | train_mse: 0.057   | train_mae: 0.18699 |  0:00:08s\n"
     ]
    },
    {
     "name": "stdout",
     "output_type": "stream",
     "text": [
      "epoch 13 | loss: 0.09474 | train_mse: 0.06644 | train_mae: 0.20386 |  0:00:09s\n"
     ]
    },
    {
     "name": "stdout",
     "output_type": "stream",
     "text": [
      "epoch 14 | loss: 0.10262 | train_mse: 0.05366 | train_mae: 0.18128 |  0:00:09s\n"
     ]
    },
    {
     "name": "stdout",
     "output_type": "stream",
     "text": [
      "epoch 15 | loss: 0.06875 | train_mse: 0.0458  | train_mae: 0.17127 |  0:00:10s\n"
     ]
    },
    {
     "name": "stdout",
     "output_type": "stream",
     "text": [
      "epoch 16 | loss: 0.08145 | train_mse: 0.0479  | train_mae: 0.16768 |  0:00:10s\n"
     ]
    },
    {
     "name": "stdout",
     "output_type": "stream",
     "text": [
      "epoch 17 | loss: 0.06902 | train_mse: 0.0457  | train_mae: 0.17756 |  0:00:11s\n"
     ]
    },
    {
     "name": "stdout",
     "output_type": "stream",
     "text": [
      "epoch 18 | loss: 0.06389 | train_mse: 0.03264 | train_mae: 0.14869 |  0:00:12s\n"
     ]
    },
    {
     "name": "stdout",
     "output_type": "stream",
     "text": [
      "epoch 19 | loss: 0.08212 | train_mse: 0.04132 | train_mae: 0.16331 |  0:00:12s\n"
     ]
    },
    {
     "name": "stdout",
     "output_type": "stream",
     "text": [
      "epoch 20 | loss: 0.07697 | train_mse: 0.05399 | train_mae: 0.18947 |  0:00:13s\n"
     ]
    },
    {
     "name": "stdout",
     "output_type": "stream",
     "text": [
      "epoch 21 | loss: 0.06558 | train_mse: 0.03251 | train_mae: 0.13923 |  0:00:13s\n"
     ]
    },
    {
     "name": "stdout",
     "output_type": "stream",
     "text": [
      "epoch 22 | loss: 0.0733  | train_mse: 0.0355  | train_mae: 0.14752 |  0:00:14s\n"
     ]
    },
    {
     "name": "stdout",
     "output_type": "stream",
     "text": [
      "epoch 23 | loss: 0.06389 | train_mse: 0.02489 | train_mae: 0.1232  |  0:00:14s\n"
     ]
    },
    {
     "name": "stdout",
     "output_type": "stream",
     "text": [
      "epoch 24 | loss: 0.06663 | train_mse: 0.02855 | train_mae: 0.13471 |  0:00:15s\n"
     ]
    },
    {
     "name": "stdout",
     "output_type": "stream",
     "text": [
      "epoch 25 | loss: 0.06933 | train_mse: 0.02506 | train_mae: 0.12777 |  0:00:15s\n"
     ]
    },
    {
     "name": "stdout",
     "output_type": "stream",
     "text": [
      "epoch 26 | loss: 0.05933 | train_mse: 0.02891 | train_mae: 0.13481 |  0:00:16s\n"
     ]
    },
    {
     "name": "stdout",
     "output_type": "stream",
     "text": [
      "epoch 27 | loss: 0.05362 | train_mse: 0.0299  | train_mae: 0.13537 |  0:00:17s\n"
     ]
    },
    {
     "name": "stdout",
     "output_type": "stream",
     "text": [
      "epoch 28 | loss: 0.06444 | train_mse: 0.04194 | train_mae: 0.16004 |  0:00:17s\n"
     ]
    },
    {
     "name": "stdout",
     "output_type": "stream",
     "text": [
      "epoch 29 | loss: 0.06746 | train_mse: 0.02763 | train_mae: 0.13163 |  0:00:18s\n"
     ]
    },
    {
     "name": "stdout",
     "output_type": "stream",
     "text": [
      "epoch 30 | loss: 0.06698 | train_mse: 0.02702 | train_mae: 0.1245  |  0:00:18s\n"
     ]
    },
    {
     "name": "stdout",
     "output_type": "stream",
     "text": [
      "epoch 31 | loss: 0.07116 | train_mse: 0.03999 | train_mae: 0.16513 |  0:00:19s\n"
     ]
    },
    {
     "name": "stdout",
     "output_type": "stream",
     "text": [
      "epoch 32 | loss: 0.06486 | train_mse: 0.05903 | train_mae: 0.20096 |  0:00:19s\n"
     ]
    },
    {
     "name": "stdout",
     "output_type": "stream",
     "text": [
      "epoch 33 | loss: 0.0626  | train_mse: 0.0417  | train_mae: 0.15757 |  0:00:20s\n"
     ]
    },
    {
     "name": "stdout",
     "output_type": "stream",
     "text": [
      "epoch 34 | loss: 0.07397 | train_mse: 0.03713 | train_mae: 0.16077 |  0:00:21s\n"
     ]
    },
    {
     "name": "stdout",
     "output_type": "stream",
     "text": [
      "epoch 35 | loss: 0.0839  | train_mse: 0.03232 | train_mae: 0.15146 |  0:00:21s\n"
     ]
    },
    {
     "name": "stdout",
     "output_type": "stream",
     "text": [
      "epoch 36 | loss: 0.05017 | train_mse: 0.03557 | train_mae: 0.14805 |  0:00:22s\n"
     ]
    },
    {
     "name": "stdout",
     "output_type": "stream",
     "text": [
      "epoch 37 | loss: 0.05041 | train_mse: 0.02661 | train_mae: 0.12783 |  0:00:22s\n"
     ]
    },
    {
     "name": "stdout",
     "output_type": "stream",
     "text": [
      "epoch 38 | loss: 0.06276 | train_mse: 0.02952 | train_mae: 0.13749 |  0:00:23s\n"
     ]
    },
    {
     "name": "stdout",
     "output_type": "stream",
     "text": [
      "epoch 39 | loss: 0.05036 | train_mse: 0.02234 | train_mae: 0.11648 |  0:00:23s\n"
     ]
    },
    {
     "name": "stdout",
     "output_type": "stream",
     "text": [
      "epoch 40 | loss: 0.06206 | train_mse: 0.02466 | train_mae: 0.12884 |  0:00:24s\n"
     ]
    },
    {
     "name": "stdout",
     "output_type": "stream",
     "text": [
      "epoch 41 | loss: 0.04994 | train_mse: 0.02125 | train_mae: 0.11265 |  0:00:25s\n"
     ]
    },
    {
     "name": "stdout",
     "output_type": "stream",
     "text": [
      "epoch 42 | loss: 0.04834 | train_mse: 0.02222 | train_mae: 0.11888 |  0:00:25s\n"
     ]
    },
    {
     "name": "stdout",
     "output_type": "stream",
     "text": [
      "epoch 43 | loss: 0.04135 | train_mse: 0.01796 | train_mae: 0.10305 |  0:00:26s\n"
     ]
    },
    {
     "name": "stdout",
     "output_type": "stream",
     "text": [
      "epoch 44 | loss: 0.03634 | train_mse: 0.01895 | train_mae: 0.11254 |  0:00:26s\n"
     ]
    },
    {
     "name": "stdout",
     "output_type": "stream",
     "text": [
      "epoch 45 | loss: 0.04188 | train_mse: 0.02266 | train_mae: 0.12395 |  0:00:27s\n"
     ]
    },
    {
     "name": "stdout",
     "output_type": "stream",
     "text": [
      "epoch 46 | loss: 0.05412 | train_mse: 0.02749 | train_mae: 0.1233  |  0:00:28s\n"
     ]
    },
    {
     "name": "stdout",
     "output_type": "stream",
     "text": [
      "epoch 47 | loss: 0.04408 | train_mse: 0.02786 | train_mae: 0.12541 |  0:00:28s\n"
     ]
    },
    {
     "name": "stdout",
     "output_type": "stream",
     "text": [
      "epoch 48 | loss: 0.04508 | train_mse: 0.01319 | train_mae: 0.09167 |  0:00:29s\n"
     ]
    },
    {
     "name": "stdout",
     "output_type": "stream",
     "text": [
      "epoch 49 | loss: 0.04336 | train_mse: 0.01036 | train_mae: 0.07946 |  0:00:29s\n"
     ]
    },
    {
     "name": "stdout",
     "output_type": "stream",
     "text": [
      "epoch 50 | loss: 0.04801 | train_mse: 0.01847 | train_mae: 0.10601 |  0:00:30s\n"
     ]
    },
    {
     "name": "stdout",
     "output_type": "stream",
     "text": [
      "epoch 51 | loss: 0.04169 | train_mse: 0.02053 | train_mae: 0.11146 |  0:00:30s\n"
     ]
    },
    {
     "name": "stdout",
     "output_type": "stream",
     "text": [
      "epoch 52 | loss: 0.04236 | train_mse: 0.0145  | train_mae: 0.0943  |  0:00:31s\n"
     ]
    },
    {
     "name": "stdout",
     "output_type": "stream",
     "text": [
      "epoch 53 | loss: 0.04691 | train_mse: 0.0154  | train_mae: 0.09469 |  0:00:32s\n"
     ]
    },
    {
     "name": "stdout",
     "output_type": "stream",
     "text": [
      "epoch 54 | loss: 0.04859 | train_mse: 0.02108 | train_mae: 0.11152 |  0:00:32s\n"
     ]
    },
    {
     "name": "stdout",
     "output_type": "stream",
     "text": [
      "epoch 55 | loss: 0.03795 | train_mse: 0.01463 | train_mae: 0.09749 |  0:00:33s\n"
     ]
    },
    {
     "name": "stdout",
     "output_type": "stream",
     "text": [
      "epoch 56 | loss: 0.0445  | train_mse: 0.01444 | train_mae: 0.08989 |  0:00:33s\n"
     ]
    },
    {
     "name": "stdout",
     "output_type": "stream",
     "text": [
      "epoch 57 | loss: 0.05138 | train_mse: 0.01995 | train_mae: 0.11697 |  0:00:34s\n"
     ]
    },
    {
     "name": "stdout",
     "output_type": "stream",
     "text": [
      "epoch 58 | loss: 0.0406  | train_mse: 0.01438 | train_mae: 0.0986  |  0:00:34s\n"
     ]
    },
    {
     "name": "stdout",
     "output_type": "stream",
     "text": [
      "epoch 59 | loss: 0.0461  | train_mse: 0.01735 | train_mae: 0.1008  |  0:00:35s\n"
     ]
    },
    {
     "name": "stdout",
     "output_type": "stream",
     "text": [
      "epoch 60 | loss: 0.0362  | train_mse: 0.01417 | train_mae: 0.09486 |  0:00:35s\n"
     ]
    },
    {
     "name": "stdout",
     "output_type": "stream",
     "text": [
      "epoch 61 | loss: 0.04661 | train_mse: 0.02619 | train_mae: 0.12916 |  0:00:36s\n"
     ]
    },
    {
     "name": "stdout",
     "output_type": "stream",
     "text": [
      "epoch 62 | loss: 0.03567 | train_mse: 0.01277 | train_mae: 0.08718 |  0:00:37s\n"
     ]
    },
    {
     "name": "stdout",
     "output_type": "stream",
     "text": [
      "epoch 63 | loss: 0.05346 | train_mse: 0.01495 | train_mae: 0.0893  |  0:00:37s\n"
     ]
    },
    {
     "name": "stdout",
     "output_type": "stream",
     "text": [
      "epoch 64 | loss: 0.03819 | train_mse: 0.01647 | train_mae: 0.09804 |  0:00:38s\n"
     ]
    },
    {
     "name": "stdout",
     "output_type": "stream",
     "text": [
      "epoch 65 | loss: 0.05574 | train_mse: 0.01955 | train_mae: 0.1038  |  0:00:38s\n"
     ]
    },
    {
     "name": "stdout",
     "output_type": "stream",
     "text": [
      "epoch 66 | loss: 0.04164 | train_mse: 0.01696 | train_mae: 0.10568 |  0:00:39s\n"
     ]
    },
    {
     "name": "stdout",
     "output_type": "stream",
     "text": [
      "epoch 67 | loss: 0.0371  | train_mse: 0.01411 | train_mae: 0.08947 |  0:00:39s\n"
     ]
    },
    {
     "name": "stdout",
     "output_type": "stream",
     "text": [
      "epoch 68 | loss: 0.03358 | train_mse: 0.01782 | train_mae: 0.10523 |  0:00:40s\n"
     ]
    },
    {
     "name": "stdout",
     "output_type": "stream",
     "text": [
      "epoch 69 | loss: 0.04065 | train_mse: 0.02225 | train_mae: 0.12413 |  0:00:40s\n"
     ]
    },
    {
     "name": "stdout",
     "output_type": "stream",
     "text": [
      "epoch 70 | loss: 0.04483 | train_mse: 0.05134 | train_mae: 0.17281 |  0:00:41s\n"
     ]
    },
    {
     "name": "stdout",
     "output_type": "stream",
     "text": [
      "epoch 71 | loss: 0.06091 | train_mse: 0.0184  | train_mae: 0.11073 |  0:00:42s\n"
     ]
    },
    {
     "name": "stdout",
     "output_type": "stream",
     "text": [
      "epoch 72 | loss: 0.04852 | train_mse: 0.03717 | train_mae: 0.1588  |  0:00:42s\n"
     ]
    },
    {
     "name": "stdout",
     "output_type": "stream",
     "text": [
      "epoch 73 | loss: 0.03876 | train_mse: 0.01975 | train_mae: 0.11165 |  0:00:43s\n"
     ]
    },
    {
     "name": "stdout",
     "output_type": "stream",
     "text": [
      "epoch 74 | loss: 0.03667 | train_mse: 0.01694 | train_mae: 0.10784 |  0:00:43s\n"
     ]
    },
    {
     "name": "stdout",
     "output_type": "stream",
     "text": [
      "epoch 75 | loss: 0.03321 | train_mse: 0.01903 | train_mae: 0.09764 |  0:00:44s\n"
     ]
    },
    {
     "name": "stdout",
     "output_type": "stream",
     "text": [
      "epoch 76 | loss: 0.04472 | train_mse: 0.02048 | train_mae: 0.10528 |  0:00:44s\n"
     ]
    },
    {
     "name": "stdout",
     "output_type": "stream",
     "text": [
      "epoch 77 | loss: 0.03649 | train_mse: 0.01371 | train_mae: 0.08053 |  0:00:45s\n"
     ]
    },
    {
     "name": "stdout",
     "output_type": "stream",
     "text": [
      "epoch 78 | loss: 0.03392 | train_mse: 0.01247 | train_mae: 0.08743 |  0:00:45s\n"
     ]
    },
    {
     "name": "stdout",
     "output_type": "stream",
     "text": [
      "epoch 79 | loss: 0.04954 | train_mse: 0.02064 | train_mae: 0.11427 |  0:00:46s\n"
     ]
    },
    {
     "name": "stdout",
     "output_type": "stream",
     "text": [
      "epoch 80 | loss: 0.0377  | train_mse: 0.00962 | train_mae: 0.07652 |  0:00:47s\n"
     ]
    },
    {
     "name": "stdout",
     "output_type": "stream",
     "text": [
      "epoch 81 | loss: 0.03666 | train_mse: 0.01    | train_mae: 0.0751  |  0:00:47s\n"
     ]
    },
    {
     "name": "stdout",
     "output_type": "stream",
     "text": [
      "epoch 82 | loss: 0.02823 | train_mse: 0.01045 | train_mae: 0.08001 |  0:00:48s\n"
     ]
    },
    {
     "name": "stdout",
     "output_type": "stream",
     "text": [
      "epoch 83 | loss: 0.02635 | train_mse: 0.01249 | train_mae: 0.09062 |  0:00:48s\n"
     ]
    },
    {
     "name": "stdout",
     "output_type": "stream",
     "text": [
      "epoch 84 | loss: 0.0304  | train_mse: 0.01666 | train_mae: 0.10254 |  0:00:49s\n"
     ]
    },
    {
     "name": "stdout",
     "output_type": "stream",
     "text": [
      "epoch 85 | loss: 0.03678 | train_mse: 0.01652 | train_mae: 0.10449 |  0:00:49s\n"
     ]
    },
    {
     "name": "stdout",
     "output_type": "stream",
     "text": [
      "epoch 86 | loss: 0.04915 | train_mse: 0.01675 | train_mae: 0.10223 |  0:00:50s\n"
     ]
    },
    {
     "name": "stdout",
     "output_type": "stream",
     "text": [
      "epoch 87 | loss: 0.04958 | train_mse: 0.01362 | train_mae: 0.08597 |  0:00:50s\n"
     ]
    },
    {
     "name": "stdout",
     "output_type": "stream",
     "text": [
      "epoch 88 | loss: 0.03083 | train_mse: 0.01177 | train_mae: 0.0764  |  0:00:51s\n"
     ]
    },
    {
     "name": "stdout",
     "output_type": "stream",
     "text": [
      "epoch 89 | loss: 0.03935 | train_mse: 0.0107  | train_mae: 0.08223 |  0:00:52s\n"
     ]
    },
    {
     "name": "stdout",
     "output_type": "stream",
     "text": [
      "epoch 90 | loss: 0.03247 | train_mse: 0.01492 | train_mae: 0.0984  |  0:00:52s\n"
     ]
    },
    {
     "name": "stdout",
     "output_type": "stream",
     "text": [
      "epoch 91 | loss: 0.04452 | train_mse: 0.01596 | train_mae: 0.08967 |  0:00:53s\n"
     ]
    },
    {
     "name": "stdout",
     "output_type": "stream",
     "text": [
      "epoch 92 | loss: 0.03583 | train_mse: 0.00963 | train_mae: 0.07266 |  0:00:53s\n"
     ]
    },
    {
     "name": "stdout",
     "output_type": "stream",
     "text": [
      "epoch 93 | loss: 0.02153 | train_mse: 0.01063 | train_mae: 0.0759  |  0:00:54s\n"
     ]
    },
    {
     "name": "stdout",
     "output_type": "stream",
     "text": [
      "epoch 94 | loss: 0.02914 | train_mse: 0.01648 | train_mae: 0.09249 |  0:00:55s\n"
     ]
    },
    {
     "name": "stdout",
     "output_type": "stream",
     "text": [
      "epoch 95 | loss: 0.03691 | train_mse: 0.01377 | train_mae: 0.08256 |  0:00:55s\n"
     ]
    },
    {
     "name": "stdout",
     "output_type": "stream",
     "text": [
      "epoch 96 | loss: 0.03019 | train_mse: 0.00909 | train_mae: 0.07157 |  0:00:56s\n"
     ]
    },
    {
     "name": "stdout",
     "output_type": "stream",
     "text": [
      "epoch 97 | loss: 0.03517 | train_mse: 0.00824 | train_mae: 0.06626 |  0:00:56s\n"
     ]
    },
    {
     "name": "stdout",
     "output_type": "stream",
     "text": [
      "epoch 98 | loss: 0.03404 | train_mse: 0.00921 | train_mae: 0.07387 |  0:00:57s\n"
     ]
    },
    {
     "name": "stdout",
     "output_type": "stream",
     "text": [
      "epoch 99 | loss: 0.02795 | train_mse: 0.01334 | train_mae: 0.08513 |  0:00:57s\n"
     ]
    },
    {
     "name": "stdout",
     "output_type": "stream",
     "text": [
      "epoch 100| loss: 0.03196 | train_mse: 0.01493 | train_mae: 0.09377 |  0:00:58s\n"
     ]
    },
    {
     "name": "stdout",
     "output_type": "stream",
     "text": [
      "epoch 101| loss: 0.02763 | train_mse: 0.00989 | train_mae: 0.07079 |  0:00:59s\n"
     ]
    },
    {
     "name": "stdout",
     "output_type": "stream",
     "text": [
      "epoch 102| loss: 0.04221 | train_mse: 0.01588 | train_mae: 0.08004 |  0:00:59s\n"
     ]
    },
    {
     "name": "stdout",
     "output_type": "stream",
     "text": [
      "epoch 103| loss: 0.0303  | train_mse: 0.01471 | train_mae: 0.08238 |  0:01:00s\n"
     ]
    },
    {
     "name": "stdout",
     "output_type": "stream",
     "text": [
      "epoch 104| loss: 0.04474 | train_mse: 0.01882 | train_mae: 0.09462 |  0:01:00s\n"
     ]
    },
    {
     "name": "stdout",
     "output_type": "stream",
     "text": [
      "epoch 105| loss: 0.04148 | train_mse: 0.01105 | train_mae: 0.08121 |  0:01:01s\n"
     ]
    },
    {
     "name": "stdout",
     "output_type": "stream",
     "text": [
      "epoch 106| loss: 0.04721 | train_mse: 0.01466 | train_mae: 0.09678 |  0:01:01s\n"
     ]
    },
    {
     "name": "stdout",
     "output_type": "stream",
     "text": [
      "epoch 107| loss: 0.02742 | train_mse: 0.00968 | train_mae: 0.07986 |  0:01:02s\n"
     ]
    },
    {
     "name": "stdout",
     "output_type": "stream",
     "text": [
      "epoch 108| loss: 0.02266 | train_mse: 0.00719 | train_mae: 0.06409 |  0:01:02s\n"
     ]
    },
    {
     "name": "stdout",
     "output_type": "stream",
     "text": [
      "epoch 109| loss: 0.02669 | train_mse: 0.00785 | train_mae: 0.0667  |  0:01:03s\n"
     ]
    },
    {
     "name": "stdout",
     "output_type": "stream",
     "text": [
      "epoch 110| loss: 0.03918 | train_mse: 0.01028 | train_mae: 0.07516 |  0:01:04s\n"
     ]
    },
    {
     "name": "stdout",
     "output_type": "stream",
     "text": [
      "epoch 111| loss: 0.03457 | train_mse: 0.00787 | train_mae: 0.06603 |  0:01:04s\n"
     ]
    },
    {
     "name": "stdout",
     "output_type": "stream",
     "text": [
      "epoch 112| loss: 0.03541 | train_mse: 0.00758 | train_mae: 0.07304 |  0:01:05s\n"
     ]
    },
    {
     "name": "stdout",
     "output_type": "stream",
     "text": [
      "epoch 113| loss: 0.03481 | train_mse: 0.01968 | train_mae: 0.10823 |  0:01:05s\n"
     ]
    },
    {
     "name": "stdout",
     "output_type": "stream",
     "text": [
      "epoch 114| loss: 0.03281 | train_mse: 0.01214 | train_mae: 0.0814  |  0:01:06s\n"
     ]
    },
    {
     "name": "stdout",
     "output_type": "stream",
     "text": [
      "epoch 115| loss: 0.03048 | train_mse: 0.02089 | train_mae: 0.11495 |  0:01:06s\n"
     ]
    },
    {
     "name": "stdout",
     "output_type": "stream",
     "text": [
      "epoch 116| loss: 0.03712 | train_mse: 0.01131 | train_mae: 0.07984 |  0:01:07s\n"
     ]
    },
    {
     "name": "stdout",
     "output_type": "stream",
     "text": [
      "epoch 117| loss: 0.02696 | train_mse: 0.01639 | train_mae: 0.09577 |  0:01:07s\n"
     ]
    },
    {
     "name": "stdout",
     "output_type": "stream",
     "text": [
      "epoch 118| loss: 0.029   | train_mse: 0.01211 | train_mae: 0.07462 |  0:01:08s\n"
     ]
    },
    {
     "name": "stdout",
     "output_type": "stream",
     "text": [
      "epoch 119| loss: 0.04366 | train_mse: 0.0074  | train_mae: 0.06339 |  0:01:09s\n"
     ]
    },
    {
     "name": "stdout",
     "output_type": "stream",
     "text": [
      "epoch 120| loss: 0.03162 | train_mse: 0.00925 | train_mae: 0.07323 |  0:01:09s\n"
     ]
    },
    {
     "name": "stdout",
     "output_type": "stream",
     "text": [
      "epoch 121| loss: 0.02553 | train_mse: 0.00681 | train_mae: 0.06336 |  0:01:10s\n"
     ]
    },
    {
     "name": "stdout",
     "output_type": "stream",
     "text": [
      "epoch 122| loss: 0.02644 | train_mse: 0.01957 | train_mae: 0.10069 |  0:01:10s\n"
     ]
    },
    {
     "name": "stdout",
     "output_type": "stream",
     "text": [
      "epoch 123| loss: 0.04165 | train_mse: 0.02689 | train_mae: 0.12188 |  0:01:11s\n"
     ]
    },
    {
     "name": "stdout",
     "output_type": "stream",
     "text": [
      "epoch 124| loss: 0.032   | train_mse: 0.02389 | train_mae: 0.13273 |  0:01:11s\n"
     ]
    },
    {
     "name": "stdout",
     "output_type": "stream",
     "text": [
      "epoch 125| loss: 0.02975 | train_mse: 0.01907 | train_mae: 0.11214 |  0:01:12s\n"
     ]
    },
    {
     "name": "stdout",
     "output_type": "stream",
     "text": [
      "epoch 126| loss: 0.02735 | train_mse: 0.01043 | train_mae: 0.07735 |  0:01:13s\n"
     ]
    },
    {
     "name": "stdout",
     "output_type": "stream",
     "text": [
      "epoch 127| loss: 0.02515 | train_mse: 0.01052 | train_mae: 0.08359 |  0:01:13s\n"
     ]
    },
    {
     "name": "stdout",
     "output_type": "stream",
     "text": [
      "epoch 128| loss: 0.03035 | train_mse: 0.01339 | train_mae: 0.08446 |  0:01:14s\n"
     ]
    },
    {
     "name": "stdout",
     "output_type": "stream",
     "text": [
      "epoch 129| loss: 0.02307 | train_mse: 0.01175 | train_mae: 0.08396 |  0:01:14s\n"
     ]
    },
    {
     "name": "stdout",
     "output_type": "stream",
     "text": [
      "epoch 130| loss: 0.02634 | train_mse: 0.00607 | train_mae: 0.06137 |  0:01:15s\n"
     ]
    },
    {
     "name": "stdout",
     "output_type": "stream",
     "text": [
      "epoch 131| loss: 0.02329 | train_mse: 0.01487 | train_mae: 0.08794 |  0:01:15s\n"
     ]
    },
    {
     "name": "stdout",
     "output_type": "stream",
     "text": [
      "epoch 132| loss: 0.02545 | train_mse: 0.01456 | train_mae: 0.0928  |  0:01:16s\n"
     ]
    },
    {
     "name": "stdout",
     "output_type": "stream",
     "text": [
      "epoch 133| loss: 0.02013 | train_mse: 0.00956 | train_mae: 0.07942 |  0:01:16s\n"
     ]
    },
    {
     "name": "stdout",
     "output_type": "stream",
     "text": [
      "epoch 134| loss: 0.03463 | train_mse: 0.01194 | train_mae: 0.09096 |  0:01:17s\n"
     ]
    },
    {
     "name": "stdout",
     "output_type": "stream",
     "text": [
      "epoch 135| loss: 0.02966 | train_mse: 0.0102  | train_mae: 0.0815  |  0:01:18s\n"
     ]
    },
    {
     "name": "stdout",
     "output_type": "stream",
     "text": [
      "epoch 136| loss: 0.02155 | train_mse: 0.01408 | train_mae: 0.1038  |  0:01:18s\n"
     ]
    },
    {
     "name": "stdout",
     "output_type": "stream",
     "text": [
      "epoch 137| loss: 0.02565 | train_mse: 0.00879 | train_mae: 0.07327 |  0:01:19s\n"
     ]
    },
    {
     "name": "stdout",
     "output_type": "stream",
     "text": [
      "epoch 138| loss: 0.0254  | train_mse: 0.00846 | train_mae: 0.07016 |  0:01:19s\n"
     ]
    },
    {
     "name": "stdout",
     "output_type": "stream",
     "text": [
      "epoch 139| loss: 0.02529 | train_mse: 0.00777 | train_mae: 0.06626 |  0:01:20s\n"
     ]
    },
    {
     "name": "stdout",
     "output_type": "stream",
     "text": [
      "epoch 140| loss: 0.02146 | train_mse: 0.01053 | train_mae: 0.07685 |  0:01:20s\n"
     ]
    },
    {
     "name": "stdout",
     "output_type": "stream",
     "text": [
      "epoch 141| loss: 0.04268 | train_mse: 0.01186 | train_mae: 0.08672 |  0:01:21s\n"
     ]
    },
    {
     "name": "stdout",
     "output_type": "stream",
     "text": [
      "epoch 142| loss: 0.03019 | train_mse: 0.01628 | train_mae: 0.09361 |  0:01:21s\n"
     ]
    },
    {
     "name": "stdout",
     "output_type": "stream",
     "text": [
      "epoch 143| loss: 0.03204 | train_mse: 0.01088 | train_mae: 0.07839 |  0:01:22s\n"
     ]
    },
    {
     "name": "stdout",
     "output_type": "stream",
     "text": [
      "epoch 144| loss: 0.0211  | train_mse: 0.00796 | train_mae: 0.0661  |  0:01:23s\n"
     ]
    },
    {
     "name": "stdout",
     "output_type": "stream",
     "text": [
      "epoch 145| loss: 0.0269  | train_mse: 0.01219 | train_mae: 0.08607 |  0:01:23s\n"
     ]
    },
    {
     "name": "stdout",
     "output_type": "stream",
     "text": [
      "epoch 146| loss: 0.03179 | train_mse: 0.0098  | train_mae: 0.07578 |  0:01:24s\n"
     ]
    },
    {
     "name": "stdout",
     "output_type": "stream",
     "text": [
      "epoch 147| loss: 0.02526 | train_mse: 0.00731 | train_mae: 0.06105 |  0:01:24s\n"
     ]
    },
    {
     "name": "stdout",
     "output_type": "stream",
     "text": [
      "epoch 148| loss: 0.02728 | train_mse: 0.00955 | train_mae: 0.07394 |  0:01:25s\n"
     ]
    },
    {
     "name": "stdout",
     "output_type": "stream",
     "text": [
      "epoch 149| loss: 0.02254 | train_mse: 0.0113  | train_mae: 0.07602 |  0:01:25s\n"
     ]
    },
    {
     "name": "stdout",
     "output_type": "stream",
     "text": [
      "epoch 150| loss: 0.03182 | train_mse: 0.01114 | train_mae: 0.08131 |  0:01:26s\n"
     ]
    },
    {
     "name": "stdout",
     "output_type": "stream",
     "text": [
      "epoch 151| loss: 0.03243 | train_mse: 0.03404 | train_mae: 0.111   |  0:01:27s\n"
     ]
    },
    {
     "name": "stdout",
     "output_type": "stream",
     "text": [
      "epoch 152| loss: 0.03807 | train_mse: 0.02936 | train_mae: 0.12656 |  0:01:27s\n"
     ]
    },
    {
     "name": "stdout",
     "output_type": "stream",
     "text": [
      "epoch 153| loss: 0.03664 | train_mse: 0.01559 | train_mae: 0.10368 |  0:01:28s\n"
     ]
    },
    {
     "name": "stdout",
     "output_type": "stream",
     "text": [
      "epoch 154| loss: 0.02526 | train_mse: 0.01132 | train_mae: 0.0809  |  0:01:28s\n"
     ]
    },
    {
     "name": "stdout",
     "output_type": "stream",
     "text": [
      "epoch 155| loss: 0.02792 | train_mse: 0.00847 | train_mae: 0.07388 |  0:01:29s\n"
     ]
    },
    {
     "name": "stdout",
     "output_type": "stream",
     "text": [
      "epoch 156| loss: 0.03619 | train_mse: 0.00928 | train_mae: 0.07749 |  0:01:30s\n"
     ]
    },
    {
     "name": "stdout",
     "output_type": "stream",
     "text": [
      "epoch 157| loss: 0.02701 | train_mse: 0.01248 | train_mae: 0.09188 |  0:01:30s\n"
     ]
    },
    {
     "name": "stdout",
     "output_type": "stream",
     "text": [
      "epoch 158| loss: 0.05045 | train_mse: 0.01337 | train_mae: 0.09038 |  0:01:31s\n"
     ]
    },
    {
     "name": "stdout",
     "output_type": "stream",
     "text": [
      "epoch 159| loss: 0.02794 | train_mse: 0.01109 | train_mae: 0.07878 |  0:01:31s\n"
     ]
    },
    {
     "name": "stdout",
     "output_type": "stream",
     "text": [
      "epoch 160| loss: 0.02631 | train_mse: 0.00846 | train_mae: 0.06825 |  0:01:32s\n"
     ]
    },
    {
     "name": "stdout",
     "output_type": "stream",
     "text": [
      "epoch 161| loss: 0.02767 | train_mse: 0.00657 | train_mae: 0.05913 |  0:01:32s\n"
     ]
    },
    {
     "name": "stdout",
     "output_type": "stream",
     "text": [
      "epoch 162| loss: 0.02914 | train_mse: 0.00665 | train_mae: 0.06302 |  0:01:33s\n"
     ]
    },
    {
     "name": "stdout",
     "output_type": "stream",
     "text": [
      "epoch 163| loss: 0.02541 | train_mse: 0.01123 | train_mae: 0.07502 |  0:01:33s\n"
     ]
    },
    {
     "name": "stdout",
     "output_type": "stream",
     "text": [
      "epoch 164| loss: 0.03066 | train_mse: 0.01832 | train_mae: 0.0846  |  0:01:34s\n"
     ]
    },
    {
     "name": "stdout",
     "output_type": "stream",
     "text": [
      "epoch 165| loss: 0.02047 | train_mse: 0.0226  | train_mae: 0.10332 |  0:01:34s\n"
     ]
    },
    {
     "name": "stdout",
     "output_type": "stream",
     "text": [
      "epoch 166| loss: 0.03214 | train_mse: 0.02987 | train_mae: 0.14702 |  0:01:35s\n"
     ]
    },
    {
     "name": "stdout",
     "output_type": "stream",
     "text": [
      "epoch 167| loss: 0.04172 | train_mse: 0.02577 | train_mae: 0.12623 |  0:01:36s\n"
     ]
    },
    {
     "name": "stdout",
     "output_type": "stream",
     "text": [
      "epoch 168| loss: 0.03428 | train_mse: 0.01711 | train_mae: 0.10519 |  0:01:36s\n"
     ]
    },
    {
     "name": "stdout",
     "output_type": "stream",
     "text": [
      "epoch 169| loss: 0.02658 | train_mse: 0.00928 | train_mae: 0.0707  |  0:01:37s\n"
     ]
    },
    {
     "name": "stdout",
     "output_type": "stream",
     "text": [
      "epoch 170| loss: 0.02773 | train_mse: 0.00983 | train_mae: 0.07502 |  0:01:37s\n"
     ]
    },
    {
     "name": "stdout",
     "output_type": "stream",
     "text": [
      "epoch 171| loss: 0.03188 | train_mse: 0.01069 | train_mae: 0.08613 |  0:01:38s\n"
     ]
    },
    {
     "name": "stdout",
     "output_type": "stream",
     "text": [
      "epoch 172| loss: 0.0298  | train_mse: 0.01946 | train_mae: 0.09341 |  0:01:38s\n"
     ]
    },
    {
     "name": "stdout",
     "output_type": "stream",
     "text": [
      "epoch 173| loss: 0.03825 | train_mse: 0.02478 | train_mae: 0.11622 |  0:01:39s\n"
     ]
    },
    {
     "name": "stdout",
     "output_type": "stream",
     "text": [
      "epoch 174| loss: 0.04184 | train_mse: 0.01532 | train_mae: 0.09362 |  0:01:40s\n"
     ]
    },
    {
     "name": "stdout",
     "output_type": "stream",
     "text": [
      "epoch 175| loss: 0.03261 | train_mse: 0.0214  | train_mae: 0.11985 |  0:01:40s\n"
     ]
    },
    {
     "name": "stdout",
     "output_type": "stream",
     "text": [
      "epoch 176| loss: 0.02617 | train_mse: 0.01757 | train_mae: 0.09693 |  0:01:41s\n"
     ]
    },
    {
     "name": "stdout",
     "output_type": "stream",
     "text": [
      "epoch 177| loss: 0.02837 | train_mse: 0.0088  | train_mae: 0.06438 |  0:01:41s\n"
     ]
    },
    {
     "name": "stdout",
     "output_type": "stream",
     "text": [
      "epoch 178| loss: 0.02763 | train_mse: 0.0078  | train_mae: 0.06593 |  0:01:42s\n"
     ]
    },
    {
     "name": "stdout",
     "output_type": "stream",
     "text": [
      "epoch 179| loss: 0.04613 | train_mse: 0.00785 | train_mae: 0.05777 |  0:01:42s\n"
     ]
    },
    {
     "name": "stdout",
     "output_type": "stream",
     "text": [
      "epoch 180| loss: 0.02977 | train_mse: 0.00968 | train_mae: 0.07232 |  0:01:43s\n"
     ]
    },
    {
     "name": "stdout",
     "output_type": "stream",
     "text": [
      "epoch 181| loss: 0.02415 | train_mse: 0.01256 | train_mae: 0.0832  |  0:01:44s\n"
     ]
    },
    {
     "name": "stdout",
     "output_type": "stream",
     "text": [
      "epoch 182| loss: 0.02043 | train_mse: 0.00661 | train_mae: 0.06004 |  0:01:44s\n"
     ]
    },
    {
     "name": "stdout",
     "output_type": "stream",
     "text": [
      "epoch 183| loss: 0.02266 | train_mse: 0.01053 | train_mae: 0.07622 |  0:01:45s\n"
     ]
    },
    {
     "name": "stdout",
     "output_type": "stream",
     "text": [
      "epoch 184| loss: 0.02499 | train_mse: 0.00966 | train_mae: 0.07328 |  0:01:45s\n"
     ]
    },
    {
     "name": "stdout",
     "output_type": "stream",
     "text": [
      "epoch 185| loss: 0.02034 | train_mse: 0.01389 | train_mae: 0.0919  |  0:01:46s\n"
     ]
    },
    {
     "name": "stdout",
     "output_type": "stream",
     "text": [
      "epoch 186| loss: 0.05169 | train_mse: 0.00838 | train_mae: 0.07194 |  0:01:46s\n"
     ]
    },
    {
     "name": "stdout",
     "output_type": "stream",
     "text": [
      "epoch 187| loss: 0.03006 | train_mse: 0.02101 | train_mae: 0.10444 |  0:01:47s\n"
     ]
    },
    {
     "name": "stdout",
     "output_type": "stream",
     "text": [
      "epoch 188| loss: 0.02952 | train_mse: 0.01166 | train_mae: 0.08927 |  0:01:47s\n"
     ]
    },
    {
     "name": "stdout",
     "output_type": "stream",
     "text": [
      "epoch 189| loss: 0.01802 | train_mse: 0.00844 | train_mae: 0.06738 |  0:01:48s\n"
     ]
    },
    {
     "name": "stdout",
     "output_type": "stream",
     "text": [
      "epoch 190| loss: 0.02243 | train_mse: 0.00581 | train_mae: 0.05834 |  0:01:49s\n"
     ]
    },
    {
     "name": "stdout",
     "output_type": "stream",
     "text": [
      "epoch 191| loss: 0.01932 | train_mse: 0.01301 | train_mae: 0.07952 |  0:01:49s\n"
     ]
    },
    {
     "name": "stdout",
     "output_type": "stream",
     "text": [
      "epoch 192| loss: 0.02268 | train_mse: 0.0079  | train_mae: 0.0668  |  0:01:50s\n"
     ]
    },
    {
     "name": "stdout",
     "output_type": "stream",
     "text": [
      "epoch 193| loss: 0.02092 | train_mse: 0.0122  | train_mae: 0.08636 |  0:01:50s\n"
     ]
    },
    {
     "name": "stdout",
     "output_type": "stream",
     "text": [
      "epoch 194| loss: 0.02569 | train_mse: 0.01084 | train_mae: 0.07503 |  0:01:51s\n"
     ]
    },
    {
     "name": "stdout",
     "output_type": "stream",
     "text": [
      "epoch 195| loss: 0.02319 | train_mse: 0.00955 | train_mae: 0.07771 |  0:01:51s\n"
     ]
    },
    {
     "name": "stdout",
     "output_type": "stream",
     "text": [
      "epoch 196| loss: 0.03253 | train_mse: 0.01252 | train_mae: 0.09053 |  0:01:52s\n"
     ]
    },
    {
     "name": "stdout",
     "output_type": "stream",
     "text": [
      "epoch 197| loss: 0.01935 | train_mse: 0.01436 | train_mae: 0.09823 |  0:01:52s\n"
     ]
    },
    {
     "name": "stdout",
     "output_type": "stream",
     "text": [
      "epoch 198| loss: 0.02274 | train_mse: 0.00622 | train_mae: 0.06126 |  0:01:53s\n"
     ]
    },
    {
     "name": "stdout",
     "output_type": "stream",
     "text": [
      "epoch 199| loss: 0.01928 | train_mse: 0.0128  | train_mae: 0.09214 |  0:01:54s\n"
     ]
    },
    {
     "name": "stdout",
     "output_type": "stream",
     "text": [
      "epoch 200| loss: 0.03135 | train_mse: 0.01179 | train_mae: 0.07685 |  0:01:54s\n"
     ]
    },
    {
     "name": "stdout",
     "output_type": "stream",
     "text": [
      "epoch 201| loss: 0.0243  | train_mse: 0.01158 | train_mae: 0.08535 |  0:01:55s\n"
     ]
    },
    {
     "name": "stdout",
     "output_type": "stream",
     "text": [
      "epoch 202| loss: 0.02503 | train_mse: 0.00686 | train_mae: 0.0615  |  0:01:55s\n"
     ]
    },
    {
     "name": "stdout",
     "output_type": "stream",
     "text": [
      "epoch 203| loss: 0.02135 | train_mse: 0.00731 | train_mae: 0.06459 |  0:01:56s\n"
     ]
    },
    {
     "name": "stdout",
     "output_type": "stream",
     "text": [
      "epoch 204| loss: 0.03191 | train_mse: 0.01139 | train_mae: 0.076   |  0:01:56s\n"
     ]
    },
    {
     "name": "stdout",
     "output_type": "stream",
     "text": [
      "epoch 205| loss: 0.02771 | train_mse: 0.00949 | train_mae: 0.06967 |  0:01:57s\n"
     ]
    },
    {
     "name": "stdout",
     "output_type": "stream",
     "text": [
      "epoch 206| loss: 0.02547 | train_mse: 0.00871 | train_mae: 0.06933 |  0:01:57s\n"
     ]
    },
    {
     "name": "stdout",
     "output_type": "stream",
     "text": [
      "epoch 207| loss: 0.02263 | train_mse: 0.00751 | train_mae: 0.06421 |  0:01:58s\n"
     ]
    },
    {
     "name": "stdout",
     "output_type": "stream",
     "text": [
      "epoch 208| loss: 0.02169 | train_mse: 0.00732 | train_mae: 0.06833 |  0:01:59s\n"
     ]
    },
    {
     "name": "stdout",
     "output_type": "stream",
     "text": [
      "epoch 209| loss: 0.02418 | train_mse: 0.00776 | train_mae: 0.07018 |  0:01:59s\n"
     ]
    },
    {
     "name": "stdout",
     "output_type": "stream",
     "text": [
      "epoch 210| loss: 0.02429 | train_mse: 0.00942 | train_mae: 0.07237 |  0:02:00s\n"
     ]
    },
    {
     "name": "stdout",
     "output_type": "stream",
     "text": [
      "epoch 211| loss: 0.02221 | train_mse: 0.01044 | train_mae: 0.07391 |  0:02:00s\n"
     ]
    },
    {
     "name": "stdout",
     "output_type": "stream",
     "text": [
      "epoch 212| loss: 0.02869 | train_mse: 0.01718 | train_mae: 0.09958 |  0:02:01s\n"
     ]
    },
    {
     "name": "stdout",
     "output_type": "stream",
     "text": [
      "epoch 213| loss: 0.03126 | train_mse: 0.01465 | train_mae: 0.08384 |  0:02:01s\n"
     ]
    },
    {
     "name": "stdout",
     "output_type": "stream",
     "text": [
      "epoch 214| loss: 0.03671 | train_mse: 0.02029 | train_mae: 0.0983  |  0:02:02s\n"
     ]
    },
    {
     "name": "stdout",
     "output_type": "stream",
     "text": [
      "epoch 215| loss: 0.03421 | train_mse: 0.00711 | train_mae: 0.0617  |  0:02:03s\n"
     ]
    },
    {
     "name": "stdout",
     "output_type": "stream",
     "text": [
      "epoch 216| loss: 0.02568 | train_mse: 0.00768 | train_mae: 0.07049 |  0:02:03s\n"
     ]
    },
    {
     "name": "stdout",
     "output_type": "stream",
     "text": [
      "epoch 217| loss: 0.01935 | train_mse: 0.00641 | train_mae: 0.06422 |  0:02:04s\n"
     ]
    },
    {
     "name": "stdout",
     "output_type": "stream",
     "text": [
      "epoch 218| loss: 0.0224  | train_mse: 0.00581 | train_mae: 0.05486 |  0:02:04s\n"
     ]
    },
    {
     "name": "stdout",
     "output_type": "stream",
     "text": [
      "epoch 219| loss: 0.02193 | train_mse: 0.00665 | train_mae: 0.06163 |  0:02:05s\n"
     ]
    },
    {
     "name": "stdout",
     "output_type": "stream",
     "text": [
      "epoch 220| loss: 0.02469 | train_mse: 0.00717 | train_mae: 0.06769 |  0:02:05s\n"
     ]
    },
    {
     "name": "stdout",
     "output_type": "stream",
     "text": [
      "epoch 221| loss: 0.02431 | train_mse: 0.00849 | train_mae: 0.07746 |  0:02:06s\n"
     ]
    },
    {
     "name": "stdout",
     "output_type": "stream",
     "text": [
      "epoch 222| loss: 0.02206 | train_mse: 0.00773 | train_mae: 0.06844 |  0:02:06s\n"
     ]
    },
    {
     "name": "stdout",
     "output_type": "stream",
     "text": [
      "epoch 223| loss: 0.03097 | train_mse: 0.00596 | train_mae: 0.06203 |  0:02:07s\n"
     ]
    },
    {
     "name": "stdout",
     "output_type": "stream",
     "text": [
      "epoch 224| loss: 0.02999 | train_mse: 0.01188 | train_mae: 0.09128 |  0:02:08s\n"
     ]
    },
    {
     "name": "stdout",
     "output_type": "stream",
     "text": [
      "epoch 225| loss: 0.02217 | train_mse: 0.01059 | train_mae: 0.08253 |  0:02:08s\n"
     ]
    },
    {
     "name": "stdout",
     "output_type": "stream",
     "text": [
      "epoch 226| loss: 0.02367 | train_mse: 0.00659 | train_mae: 0.05892 |  0:02:09s\n"
     ]
    },
    {
     "name": "stdout",
     "output_type": "stream",
     "text": [
      "epoch 227| loss: 0.02594 | train_mse: 0.00929 | train_mae: 0.06832 |  0:02:09s\n"
     ]
    },
    {
     "name": "stdout",
     "output_type": "stream",
     "text": [
      "epoch 228| loss: 0.02947 | train_mse: 0.01022 | train_mae: 0.07845 |  0:02:10s\n"
     ]
    },
    {
     "name": "stdout",
     "output_type": "stream",
     "text": [
      "epoch 229| loss: 0.03069 | train_mse: 0.00934 | train_mae: 0.06465 |  0:02:10s\n"
     ]
    },
    {
     "name": "stdout",
     "output_type": "stream",
     "text": [
      "epoch 230| loss: 0.02914 | train_mse: 0.00837 | train_mae: 0.06721 |  0:02:11s\n"
     ]
    },
    {
     "name": "stdout",
     "output_type": "stream",
     "text": [
      "epoch 231| loss: 0.02447 | train_mse: 0.0178  | train_mae: 0.096   |  0:02:11s\n"
     ]
    },
    {
     "name": "stdout",
     "output_type": "stream",
     "text": [
      "epoch 232| loss: 0.02782 | train_mse: 0.01052 | train_mae: 0.07498 |  0:02:12s\n"
     ]
    },
    {
     "name": "stdout",
     "output_type": "stream",
     "text": [
      "epoch 233| loss: 0.01352 | train_mse: 0.00812 | train_mae: 0.06721 |  0:02:13s\n"
     ]
    },
    {
     "name": "stdout",
     "output_type": "stream",
     "text": [
      "epoch 234| loss: 0.02873 | train_mse: 0.01485 | train_mae: 0.08804 |  0:02:13s\n"
     ]
    },
    {
     "name": "stdout",
     "output_type": "stream",
     "text": [
      "epoch 235| loss: 0.02229 | train_mse: 0.00556 | train_mae: 0.05721 |  0:02:14s\n"
     ]
    },
    {
     "name": "stdout",
     "output_type": "stream",
     "text": [
      "epoch 236| loss: 0.02855 | train_mse: 0.00526 | train_mae: 0.05444 |  0:02:14s\n"
     ]
    },
    {
     "name": "stdout",
     "output_type": "stream",
     "text": [
      "epoch 237| loss: 0.02647 | train_mse: 0.00901 | train_mae: 0.07276 |  0:02:15s\n"
     ]
    },
    {
     "name": "stdout",
     "output_type": "stream",
     "text": [
      "epoch 238| loss: 0.01984 | train_mse: 0.0086  | train_mae: 0.07775 |  0:02:15s\n"
     ]
    },
    {
     "name": "stdout",
     "output_type": "stream",
     "text": [
      "epoch 239| loss: 0.03056 | train_mse: 0.01125 | train_mae: 0.08326 |  0:02:16s\n"
     ]
    },
    {
     "name": "stdout",
     "output_type": "stream",
     "text": [
      "epoch 240| loss: 0.03529 | train_mse: 0.01287 | train_mae: 0.08899 |  0:02:16s\n"
     ]
    },
    {
     "name": "stdout",
     "output_type": "stream",
     "text": [
      "epoch 241| loss: 0.02996 | train_mse: 0.01159 | train_mae: 0.07725 |  0:02:17s\n"
     ]
    },
    {
     "name": "stdout",
     "output_type": "stream",
     "text": [
      "epoch 242| loss: 0.03943 | train_mse: 0.01151 | train_mae: 0.07704 |  0:02:18s\n"
     ]
    },
    {
     "name": "stdout",
     "output_type": "stream",
     "text": [
      "epoch 243| loss: 0.03993 | train_mse: 0.01788 | train_mae: 0.10228 |  0:02:18s\n"
     ]
    },
    {
     "name": "stdout",
     "output_type": "stream",
     "text": [
      "epoch 244| loss: 0.03372 | train_mse: 0.01805 | train_mae: 0.09677 |  0:02:19s\n"
     ]
    },
    {
     "name": "stdout",
     "output_type": "stream",
     "text": [
      "epoch 245| loss: 0.02659 | train_mse: 0.01413 | train_mae: 0.09335 |  0:02:19s\n"
     ]
    },
    {
     "name": "stdout",
     "output_type": "stream",
     "text": [
      "epoch 246| loss: 0.02775 | train_mse: 0.01217 | train_mae: 0.08482 |  0:02:20s\n"
     ]
    },
    {
     "name": "stdout",
     "output_type": "stream",
     "text": [
      "epoch 247| loss: 0.02336 | train_mse: 0.01463 | train_mae: 0.09349 |  0:02:20s\n"
     ]
    },
    {
     "name": "stdout",
     "output_type": "stream",
     "text": [
      "epoch 248| loss: 0.02461 | train_mse: 0.01154 | train_mae: 0.08455 |  0:02:21s\n"
     ]
    },
    {
     "name": "stdout",
     "output_type": "stream",
     "text": [
      "epoch 249| loss: 0.01736 | train_mse: 0.00759 | train_mae: 0.06687 |  0:02:22s\n"
     ]
    },
    {
     "name": "stdout",
     "output_type": "stream",
     "text": [
      "epoch 250| loss: 0.01649 | train_mse: 0.00628 | train_mae: 0.06135 |  0:02:22s\n"
     ]
    },
    {
     "name": "stdout",
     "output_type": "stream",
     "text": [
      "epoch 251| loss: 0.02882 | train_mse: 0.01019 | train_mae: 0.07784 |  0:02:23s\n"
     ]
    },
    {
     "name": "stdout",
     "output_type": "stream",
     "text": [
      "epoch 252| loss: 0.02601 | train_mse: 0.00622 | train_mae: 0.06138 |  0:02:23s\n"
     ]
    },
    {
     "name": "stdout",
     "output_type": "stream",
     "text": [
      "epoch 253| loss: 0.02363 | train_mse: 0.00834 | train_mae: 0.06741 |  0:02:24s\n"
     ]
    },
    {
     "name": "stdout",
     "output_type": "stream",
     "text": [
      "epoch 254| loss: 0.02175 | train_mse: 0.00979 | train_mae: 0.07314 |  0:02:24s\n"
     ]
    },
    {
     "name": "stdout",
     "output_type": "stream",
     "text": [
      "epoch 255| loss: 0.02853 | train_mse: 0.01089 | train_mae: 0.08056 |  0:02:25s\n"
     ]
    },
    {
     "name": "stdout",
     "output_type": "stream",
     "text": [
      "epoch 256| loss: 0.02798 | train_mse: 0.01947 | train_mae: 0.11215 |  0:02:25s\n"
     ]
    },
    {
     "name": "stdout",
     "output_type": "stream",
     "text": [
      "epoch 257| loss: 0.02733 | train_mse: 0.01121 | train_mae: 0.08836 |  0:02:26s\n"
     ]
    },
    {
     "name": "stdout",
     "output_type": "stream",
     "text": [
      "epoch 258| loss: 0.02206 | train_mse: 0.00662 | train_mae: 0.06647 |  0:02:27s\n"
     ]
    },
    {
     "name": "stdout",
     "output_type": "stream",
     "text": [
      "epoch 259| loss: 0.01714 | train_mse: 0.00767 | train_mae: 0.07144 |  0:02:27s\n"
     ]
    },
    {
     "name": "stdout",
     "output_type": "stream",
     "text": [
      "epoch 260| loss: 0.03829 | train_mse: 0.01169 | train_mae: 0.08701 |  0:02:28s\n"
     ]
    },
    {
     "name": "stdout",
     "output_type": "stream",
     "text": [
      "epoch 261| loss: 0.02643 | train_mse: 0.0069  | train_mae: 0.06087 |  0:02:28s\n"
     ]
    },
    {
     "name": "stdout",
     "output_type": "stream",
     "text": [
      "epoch 262| loss: 0.02375 | train_mse: 0.0101  | train_mae: 0.07519 |  0:02:29s\n"
     ]
    },
    {
     "name": "stdout",
     "output_type": "stream",
     "text": [
      "epoch 263| loss: 0.02671 | train_mse: 0.00728 | train_mae: 0.06573 |  0:02:30s\n"
     ]
    },
    {
     "name": "stdout",
     "output_type": "stream",
     "text": [
      "epoch 264| loss: 0.02114 | train_mse: 0.00684 | train_mae: 0.06466 |  0:02:30s\n"
     ]
    },
    {
     "name": "stdout",
     "output_type": "stream",
     "text": [
      "epoch 265| loss: 0.02128 | train_mse: 0.00524 | train_mae: 0.05443 |  0:02:31s\n"
     ]
    },
    {
     "name": "stdout",
     "output_type": "stream",
     "text": [
      "epoch 266| loss: 0.03079 | train_mse: 0.01239 | train_mae: 0.07884 |  0:02:31s\n"
     ]
    },
    {
     "name": "stdout",
     "output_type": "stream",
     "text": [
      "epoch 267| loss: 0.0218  | train_mse: 0.01014 | train_mae: 0.07862 |  0:02:32s\n"
     ]
    },
    {
     "name": "stdout",
     "output_type": "stream",
     "text": [
      "epoch 268| loss: 0.02713 | train_mse: 0.00843 | train_mae: 0.0727  |  0:02:32s\n"
     ]
    },
    {
     "name": "stdout",
     "output_type": "stream",
     "text": [
      "epoch 269| loss: 0.02142 | train_mse: 0.00743 | train_mae: 0.06927 |  0:02:33s\n"
     ]
    },
    {
     "name": "stdout",
     "output_type": "stream",
     "text": [
      "epoch 270| loss: 0.03095 | train_mse: 0.00881 | train_mae: 0.07285 |  0:02:34s\n"
     ]
    },
    {
     "name": "stdout",
     "output_type": "stream",
     "text": [
      "epoch 271| loss: 0.01956 | train_mse: 0.01156 | train_mae: 0.07887 |  0:02:34s\n"
     ]
    },
    {
     "name": "stdout",
     "output_type": "stream",
     "text": [
      "epoch 272| loss: 0.02726 | train_mse: 0.01173 | train_mae: 0.08455 |  0:02:35s\n"
     ]
    },
    {
     "name": "stdout",
     "output_type": "stream",
     "text": [
      "epoch 273| loss: 0.02828 | train_mse: 0.00704 | train_mae: 0.06533 |  0:02:35s\n"
     ]
    },
    {
     "name": "stdout",
     "output_type": "stream",
     "text": [
      "epoch 274| loss: 0.02361 | train_mse: 0.0084  | train_mae: 0.07449 |  0:02:36s\n"
     ]
    },
    {
     "name": "stdout",
     "output_type": "stream",
     "text": [
      "epoch 275| loss: 0.02085 | train_mse: 0.01042 | train_mae: 0.07788 |  0:02:36s\n"
     ]
    },
    {
     "name": "stdout",
     "output_type": "stream",
     "text": [
      "epoch 276| loss: 0.02485 | train_mse: 0.01561 | train_mae: 0.09782 |  0:02:37s\n"
     ]
    },
    {
     "name": "stdout",
     "output_type": "stream",
     "text": [
      "epoch 277| loss: 0.02808 | train_mse: 0.01296 | train_mae: 0.08071 |  0:02:38s\n"
     ]
    },
    {
     "name": "stdout",
     "output_type": "stream",
     "text": [
      "epoch 278| loss: 0.02117 | train_mse: 0.00784 | train_mae: 0.06683 |  0:02:38s\n"
     ]
    },
    {
     "name": "stdout",
     "output_type": "stream",
     "text": [
      "epoch 279| loss: 0.02538 | train_mse: 0.014   | train_mae: 0.0857  |  0:02:39s\n"
     ]
    },
    {
     "name": "stdout",
     "output_type": "stream",
     "text": [
      "epoch 280| loss: 0.03105 | train_mse: 0.01654 | train_mae: 0.09438 |  0:02:39s\n"
     ]
    },
    {
     "name": "stdout",
     "output_type": "stream",
     "text": [
      "epoch 281| loss: 0.02912 | train_mse: 0.01101 | train_mae: 0.07625 |  0:02:40s\n"
     ]
    },
    {
     "name": "stdout",
     "output_type": "stream",
     "text": [
      "epoch 282| loss: 0.02567 | train_mse: 0.01172 | train_mae: 0.07425 |  0:02:40s\n"
     ]
    },
    {
     "name": "stdout",
     "output_type": "stream",
     "text": [
      "epoch 283| loss: 0.01925 | train_mse: 0.00896 | train_mae: 0.06952 |  0:02:41s\n"
     ]
    },
    {
     "name": "stdout",
     "output_type": "stream",
     "text": [
      "epoch 284| loss: 0.02587 | train_mse: 0.00588 | train_mae: 0.05616 |  0:02:41s\n"
     ]
    },
    {
     "name": "stdout",
     "output_type": "stream",
     "text": [
      "epoch 285| loss: 0.02045 | train_mse: 0.00604 | train_mae: 0.05713 |  0:02:42s\n"
     ]
    },
    {
     "name": "stdout",
     "output_type": "stream",
     "text": [
      "epoch 286| loss: 0.05647 | train_mse: 0.01104 | train_mae: 0.08162 |  0:02:43s\n"
     ]
    },
    {
     "name": "stdout",
     "output_type": "stream",
     "text": [
      "epoch 287| loss: 0.02652 | train_mse: 0.00728 | train_mae: 0.06301 |  0:02:43s\n"
     ]
    },
    {
     "name": "stdout",
     "output_type": "stream",
     "text": [
      "epoch 288| loss: 0.02066 | train_mse: 0.00751 | train_mae: 0.07038 |  0:02:44s\n"
     ]
    },
    {
     "name": "stdout",
     "output_type": "stream",
     "text": [
      "epoch 289| loss: 0.02864 | train_mse: 0.00823 | train_mae: 0.06966 |  0:02:44s\n"
     ]
    },
    {
     "name": "stdout",
     "output_type": "stream",
     "text": [
      "epoch 290| loss: 0.02608 | train_mse: 0.00843 | train_mae: 0.06529 |  0:02:45s\n"
     ]
    },
    {
     "name": "stdout",
     "output_type": "stream",
     "text": [
      "epoch 291| loss: 0.02015 | train_mse: 0.01134 | train_mae: 0.07768 |  0:02:45s\n"
     ]
    },
    {
     "name": "stdout",
     "output_type": "stream",
     "text": [
      "epoch 292| loss: 0.01984 | train_mse: 0.00924 | train_mae: 0.07216 |  0:02:46s\n"
     ]
    },
    {
     "name": "stdout",
     "output_type": "stream",
     "text": [
      "epoch 293| loss: 0.02448 | train_mse: 0.00754 | train_mae: 0.06182 |  0:02:47s\n"
     ]
    },
    {
     "name": "stdout",
     "output_type": "stream",
     "text": [
      "epoch 294| loss: 0.0217  | train_mse: 0.00618 | train_mae: 0.06012 |  0:02:47s\n"
     ]
    },
    {
     "name": "stdout",
     "output_type": "stream",
     "text": [
      "epoch 295| loss: 0.01952 | train_mse: 0.00898 | train_mae: 0.06756 |  0:02:48s\n"
     ]
    },
    {
     "name": "stdout",
     "output_type": "stream",
     "text": [
      "epoch 296| loss: 0.03303 | train_mse: 0.00766 | train_mae: 0.06571 |  0:02:48s\n"
     ]
    },
    {
     "name": "stdout",
     "output_type": "stream",
     "text": [
      "epoch 297| loss: 0.01647 | train_mse: 0.00771 | train_mae: 0.06871 |  0:02:49s\n"
     ]
    },
    {
     "name": "stdout",
     "output_type": "stream",
     "text": [
      "epoch 298| loss: 0.03031 | train_mse: 0.01395 | train_mae: 0.08473 |  0:02:49s\n"
     ]
    },
    {
     "name": "stdout",
     "output_type": "stream",
     "text": [
      "epoch 299| loss: 0.03533 | train_mse: 0.00869 | train_mae: 0.06875 |  0:02:50s\n"
     ]
    },
    {
     "name": "stdout",
     "output_type": "stream",
     "text": [
      "epoch 300| loss: 0.02567 | train_mse: 0.00592 | train_mae: 0.05895 |  0:02:50s\n"
     ]
    },
    {
     "name": "stdout",
     "output_type": "stream",
     "text": [
      "epoch 301| loss: 0.02885 | train_mse: 0.00593 | train_mae: 0.06046 |  0:02:51s\n"
     ]
    },
    {
     "name": "stdout",
     "output_type": "stream",
     "text": [
      "epoch 302| loss: 0.03073 | train_mse: 0.01092 | train_mae: 0.07507 |  0:02:52s\n"
     ]
    },
    {
     "name": "stdout",
     "output_type": "stream",
     "text": [
      "epoch 303| loss: 0.02756 | train_mse: 0.01431 | train_mae: 0.08051 |  0:02:52s\n"
     ]
    },
    {
     "name": "stdout",
     "output_type": "stream",
     "text": [
      "epoch 304| loss: 0.03117 | train_mse: 0.01032 | train_mae: 0.07233 |  0:02:53s\n"
     ]
    },
    {
     "name": "stdout",
     "output_type": "stream",
     "text": [
      "epoch 305| loss: 0.02076 | train_mse: 0.00847 | train_mae: 0.06814 |  0:02:53s\n"
     ]
    },
    {
     "name": "stdout",
     "output_type": "stream",
     "text": [
      "epoch 306| loss: 0.01948 | train_mse: 0.00831 | train_mae: 0.06755 |  0:02:54s\n"
     ]
    },
    {
     "name": "stdout",
     "output_type": "stream",
     "text": [
      "epoch 307| loss: 0.02494 | train_mse: 0.00683 | train_mae: 0.05813 |  0:02:54s\n"
     ]
    },
    {
     "name": "stdout",
     "output_type": "stream",
     "text": [
      "epoch 308| loss: 0.02012 | train_mse: 0.01    | train_mae: 0.0666  |  0:02:55s\n"
     ]
    },
    {
     "name": "stdout",
     "output_type": "stream",
     "text": [
      "epoch 309| loss: 0.01539 | train_mse: 0.00852 | train_mae: 0.06575 |  0:02:55s\n"
     ]
    },
    {
     "name": "stdout",
     "output_type": "stream",
     "text": [
      "epoch 310| loss: 0.02931 | train_mse: 0.0065  | train_mae: 0.05855 |  0:02:56s\n"
     ]
    },
    {
     "name": "stdout",
     "output_type": "stream",
     "text": [
      "epoch 311| loss: 0.02864 | train_mse: 0.00679 | train_mae: 0.06273 |  0:02:57s\n"
     ]
    },
    {
     "name": "stdout",
     "output_type": "stream",
     "text": [
      "epoch 312| loss: 0.02188 | train_mse: 0.03142 | train_mae: 0.12985 |  0:02:57s\n"
     ]
    },
    {
     "name": "stdout",
     "output_type": "stream",
     "text": [
      "epoch 313| loss: 0.01836 | train_mse: 0.0135  | train_mae: 0.07915 |  0:02:58s\n"
     ]
    },
    {
     "name": "stdout",
     "output_type": "stream",
     "text": [
      "epoch 314| loss: 0.0207  | train_mse: 0.00723 | train_mae: 0.06425 |  0:02:59s\n"
     ]
    },
    {
     "name": "stdout",
     "output_type": "stream",
     "text": [
      "epoch 315| loss: 0.0244  | train_mse: 0.01298 | train_mae: 0.08868 |  0:03:00s\n",
      "\n",
      "Early stopping occurred at epoch 315 with best_epoch = 265 and best_train_mae = 0.05443\n",
      "Best weights from best epoch are automatically used!\n"
     ]
    }
   ],
   "source": [
    "#Train the Model\n",
    "\n",
    "Y_train = np.reshape(Y_train, (-1, 1))\n",
    "Y_test = np.reshape(Y_test, (-1, 1))\n",
    "\n",
    "prior_model = TabNetRegressor(optimizer_fn=torch.optim.Adam, optimizer_params=dict(lr = 0.01),\n",
    "          #scheduler_params={\"step_size\":10, ], \"gamma\":0.9},\n",
    "          #scheduler_fn=torch.optim.lr_scheduler.StepLR\n",
    "          )  #TabNetRegressor()\n",
    "\n",
    "prior_model.fit(X_train,Y_train,eval_set=[(X_train, Y_train)],\n",
    "            eval_name=['train'], \n",
    "            eval_metric=[ 'mse', 'mae'], \n",
    "            max_epochs = n_epochs, \n",
    "            batch_size = batch_size,\n",
    "            patience=50\n",
    "            )"
   ]
  },
  {
   "cell_type": "code",
   "execution_count": 10,
   "id": "af65dcda",
   "metadata": {
    "execution": {
     "iopub.execute_input": "2022-07-25T09:10:35.418736Z",
     "iopub.status.busy": "2022-07-25T09:10:35.418298Z",
     "iopub.status.idle": "2022-07-25T09:10:35.496271Z",
     "shell.execute_reply": "2022-07-25T09:10:35.494537Z"
    },
    "id": "af65dcda",
    "papermill": {
     "duration": 0.111962,
     "end_time": "2022-07-25T09:10:35.500277",
     "exception": false,
     "start_time": "2022-07-25T09:10:35.388315",
     "status": "completed"
    },
    "tags": []
   },
   "outputs": [
    {
     "data": {
      "application/scrapbook.scrap.json+json": {
       "data": 0.0071935875643592585,
       "encoder": "json",
       "name": "Prior Model MSE",
       "version": 1
      }
     },
     "metadata": {
      "scrapbook": {
       "data": true,
       "display": false,
       "name": "Prior Model MSE"
      }
     },
     "output_type": "display_data"
    },
    {
     "data": {
      "application/scrapbook.scrap.json+json": {
       "data": 0.01734825539391017,
       "encoder": "json",
       "name": "ABC Pre-generator MSE",
       "version": 1
      }
     },
     "metadata": {
      "scrapbook": {
       "data": true,
       "display": false,
       "name": "ABC Pre-generator MSE"
      }
     },
     "output_type": "display_data"
    },
    {
     "data": {
      "application/scrapbook.scrap.json+json": {
       "data": 0.06406883276483827,
       "encoder": "json",
       "name": "Prior Model MAE",
       "version": 1
      }
     },
     "metadata": {
      "scrapbook": {
       "data": true,
       "display": false,
       "name": "Prior Model MAE"
      }
     },
     "output_type": "display_data"
    },
    {
     "name": "stdout",
     "output_type": "stream",
     "text": [
      "Prior Model MAE 0.06406883276483827\n"
     ]
    },
    {
     "data": {
      "application/scrapbook.scrap.json+json": {
       "data": 0.10520785778001286,
       "encoder": "json",
       "name": "ABC Pre-generator MAE",
       "version": 1
      }
     },
     "metadata": {
      "scrapbook": {
       "data": true,
       "display": false,
       "name": "ABC Pre-generator MAE"
      }
     },
     "output_type": "display_data"
    },
    {
     "name": "stdout",
     "output_type": "stream",
     "text": [
      "ABC Pre-generator MAE 0.10520785778001286\n"
     ]
    }
   ],
   "source": [
    "y_pred = prior_model.predict(X_test)\n",
    "y_abc = y_pred + np.random.normal(0,variance, y_pred.shape) + bias \n",
    "mse = mean_squared_error(y_pred,Y_test)\n",
    "sb.glue(\"Prior Model MSE\",mse)\n",
    "mse = mean_squared_error(y_abc,Y_test)\n",
    "sb.glue(\"ABC Pre-generator MSE\",mse)\n",
    "mae = mean_absolute_error(y_pred,Y_test)\n",
    "sb.glue(\"Prior Model MAE\",mae)\n",
    "print(\"Prior Model MAE\",mae)\n",
    "mae = mean_absolute_error(y_abc,Y_test)\n",
    "sb.glue(\"ABC Pre-generator MAE\",mae)\n",
    "print(\"ABC Pre-generator MAE\",mae)"
   ]
  },
  {
   "cell_type": "markdown",
   "id": "25609da2",
   "metadata": {
    "papermill": {
     "duration": 0.028238,
     "end_time": "2022-07-25T09:10:35.557178",
     "exception": false,
     "start_time": "2022-07-25T09:10:35.528940",
     "status": "completed"
    },
    "tags": []
   },
   "source": [
    "# mGAN Model"
   ]
  },
  {
   "cell_type": "code",
   "execution_count": 11,
   "id": "dfc3464d",
   "metadata": {
    "execution": {
     "iopub.execute_input": "2022-07-25T09:10:35.624945Z",
     "iopub.status.busy": "2022-07-25T09:10:35.624571Z",
     "iopub.status.idle": "2022-07-25T09:10:35.633794Z",
     "shell.execute_reply": "2022-07-25T09:10:35.633012Z"
    },
    "papermill": {
     "duration": 0.04587,
     "end_time": "2022-07-25T09:10:35.636762",
     "exception": false,
     "start_time": "2022-07-25T09:10:35.590892",
     "status": "completed"
    },
    "tags": []
   },
   "outputs": [],
   "source": [
    "gen = network.Generator(n_features+1).to(device)\n",
    "disc = network.Discriminator(n_features+1).to(device)\n",
    "\n",
    "criterion = torch.nn.BCELoss()\n",
    "gen_opt = torch.optim.Adam(gen.parameters(), lr=0.01, betas=(0.5, 0.999))\n",
    "disc_opt = torch.optim.Adam(disc.parameters(), lr=0.01, betas=(0.5, 0.999))"
   ]
  },
  {
   "cell_type": "code",
   "execution_count": 12,
   "id": "b75fdd85",
   "metadata": {
    "execution": {
     "iopub.execute_input": "2022-07-25T09:10:35.695842Z",
     "iopub.status.busy": "2022-07-25T09:10:35.695471Z",
     "iopub.status.idle": "2022-07-25T09:16:43.995932Z",
     "shell.execute_reply": "2022-07-25T09:16:43.994931Z"
    },
    "papermill": {
     "duration": 368.334814,
     "end_time": "2022-07-25T09:16:43.998608",
     "exception": false,
     "start_time": "2022-07-25T09:10:35.663794",
     "status": "completed"
    },
    "tags": []
   },
   "outputs": [
    {
     "data": {
      "image/png": "[encoded data removed]",
      "text/plain": [
       "<Figure size 432x288 with 1 Axes>"
      ]
     },
     "metadata": {
      "needs_background": "light"
     },
     "output_type": "display_data"
    },
    {
     "data": {
      "image/png": "[encoded data removed]",
      "text/plain": [
       "<Figure size 432x288 with 1 Axes>"
      ]
     },
     "metadata": {
      "needs_background": "light"
     },
     "output_type": "display_data"
    }
   ],
   "source": [
    "#Training the ABC_GAN \n",
    "ABC_train_test2.training_GAN(disc,gen,disc_opt,gen_opt,train_data,batch_size,n_epochs,criterion,prior_model,variance,bias,device)"
   ]
  },
  {
   "cell_type": "code",
   "execution_count": 13,
   "id": "1fa7c368",
   "metadata": {
    "execution": {
     "iopub.execute_input": "2022-07-25T09:16:44.058245Z",
     "iopub.status.busy": "2022-07-25T09:16:44.057658Z",
     "iopub.status.idle": "2022-07-25T09:16:52.631427Z",
     "shell.execute_reply": "2022-07-25T09:16:52.623382Z"
    },
    "papermill": {
     "duration": 8.607181,
     "end_time": "2022-07-25T09:16:52.634630",
     "exception": false,
     "start_time": "2022-07-25T09:16:44.027449",
     "status": "completed"
    },
    "tags": []
   },
   "outputs": [
    {
     "data": {
      "application/scrapbook.scrap.json+json": {
       "data": 0.0288719079723437,
       "encoder": "json",
       "name": "ABC-GAN Model 1 MSE",
       "version": 1
      }
     },
     "metadata": {
      "scrapbook": {
       "data": true,
       "display": false,
       "name": "ABC-GAN Model 1 MSE"
      }
     },
     "output_type": "display_data"
    },
    {
     "data": {
      "application/scrapbook.scrap.json+json": {
       "data": 0.09740989805622534,
       "encoder": "json",
       "name": "ABC-GAN Model 1 MAE",
       "version": 1
      }
     },
     "metadata": {
      "scrapbook": {
       "data": true,
       "display": false,
       "name": "ABC-GAN Model 1 MAE"
      }
     },
     "output_type": "display_data"
    },
    {
     "data": {
      "application/scrapbook.scrap.json+json": {
       "data": 15.001124300658702,
       "encoder": "json",
       "name": "ABC-GAN Model 1 Manhattan Distance",
       "version": 1
      }
     },
     "metadata": {
      "scrapbook": {
       "data": true,
       "display": false,
       "name": "ABC-GAN Model 1 Manhattan Distance"
      }
     },
     "output_type": "display_data"
    },
    {
     "data": {
      "application/scrapbook.scrap.json+json": {
       "data": 2.1072940104756333,
       "encoder": "json",
       "name": "ABC-GAN Model 1 Euclidean distance",
       "version": 1
      }
     },
     "metadata": {
      "scrapbook": {
       "data": true,
       "display": false,
       "name": "ABC-GAN Model 1 Euclidean distance"
      }
     },
     "output_type": "display_data"
    },
    {
     "data": {
      "application/scrapbook.scrap.json+json": {
       "data": [
        [
         0.02973467453429469,
         0.02757478736956569,
         0.030577956725636575,
         0.029208222282728704,
         0.02985344100894176,
         0.02420776738861211,
         0.028922806154637853,
         0.02410449774808661,
         0.029458569817363812,
         0.02958824134480391,
         0.03043933988337041,
         0.023670293479314822,
         0.030164521171899623,
         0.023322167277961704,
         0.029707965659908468,
         0.029205081461784656,
         0.028551656134211057,
         0.029979606709762564,
         0.02863454316232986,
         0.03034119079908766,
         0.03058953635742746,
         0.02966292777902107,
         0.030004362351556513,
         0.03015938026729315,
         0.028866604285528476,
         0.030365176565048037,
         0.02975825993135797,
         0.030056493324369212,
         0.029033014038018806,
         0.029441319122265913,
         0.03072398993802652,
         0.029673660956255694,
         0.02957794860823322,
         0.029543178324210505,
         0.029547126368794023,
         0.02949828073178569,
         0.030426689718010477,
         0.029480873576955995,
         0.029154350187004182,
         0.029592529594608282,
         0.03035904359346061,
         0.030621860112717152,
         0.030190870571225683,
         0.03022509412282887,
         0.02861223027031297,
         0.029459822459854446,
         0.03008666225829748,
         0.02304033278028367,
         0.029911072115514883,
         0.02998698959522472,
         0.029854406177218552,
         0.028722899735664845,
         0.02411839790730772,
         0.02912737042552664,
         0.02984700748295364,
         0.026237674554186362,
         0.023865711931310693,
         0.028994080624861366,
         0.024439909860327614,
         0.025253865199155016,
         0.025911008363077713,
         0.02561035837862659,
         0.030024232357733865,
         0.029797626520141673,
         0.0269462070647569,
         0.030283329437842257,
         0.028826345156092868,
         0.030563001408877112,
         0.028536814182830186,
         0.02921739918472928,
         0.024450368154413857,
         0.0293964477763946,
         0.029711254685933566,
         0.02939132712992272,
         0.02975926368775394,
         0.029991828569595567,
         0.02987091027956846,
         0.02801190715201094,
         0.02896968191954712,
         0.023949837123836252,
         0.030234043044408375,
         0.029714745614050034,
         0.029527078016969466,
         0.030037736133608477,
         0.025947513137471803,
         0.029548345137392296,
         0.02885265982838995,
         0.030745587526226248,
         0.029459718053337865,
         0.030018933596870075,
         0.031074082355266798,
         0.030956538214574062,
         0.030064758433595035,
         0.030358103843882905,
         0.027797537329232846,
         0.030619915383625736,
         0.029977617612633935,
         0.02958042794596487,
         0.02799329701254313,
         0.03010467656233416
        ],
        [
         0.09745525694512702,
         0.09556011410502645,
         0.09925106283906218,
         0.09765159193571511,
         0.09907615939518075,
         0.09254651119956722,
         0.09734971801955979,
         0.09266777626879803,
         0.09636944958141871,
         0.0995029563253576,
         0.1000341469204271,
         0.08998990774928749,
         0.09805254483377779,
         0.09058093057050333,
         0.09778720701669717,
         0.09665819073652292,
         0.09579343687404286,
         0.0998764866358274,
         0.09722767267134283,
         0.09874127921345946,
         0.09886373424684847,
         0.09625708979445619,
         0.09845530561038426,
         0.09874698171367893,
         0.09668762827074373,
         0.09790950607169759,
         0.09820411112401392,
         0.09681404740005345,
         0.09825320832141034,
         0.09667378335030048,
         0.10136282927804179,
         0.09792323487919646,
         0.09798733503013463,
         0.09792478537404692,
         0.09840145300735127,
         0.09840210440096916,
         0.09873680712340714,
         0.09698859282902308,
         0.09842399981888858,
         0.09882356787656808,
         0.09986669521827202,
         0.09946948193110429,
         0.09745215731007713,
         0.09957204430134266,
         0.09527542122772761,
         0.09956434311030747,
         0.09883362538628764,
         0.09265121953053908,
         0.09969756974802389,
         0.09802814215034633,
         0.09828767412668699,
         0.09495801720526312,
         0.093356566382693,
         0.09831011991996269,
         0.09970048766631584,
         0.09459435320519782,
         0.09335503427239207,
         0.09771514132425382,
         0.09285224509703649,
         0.09476336198193687,
         0.09412897116952128,
         0.09566653955292392,
         0.0974822294015389,
         0.09748583838537142,
         0.09604392616779774,
         0.09883930872787129,
         0.09390849784597174,
         0.09774779557407677,
         0.09795679113307557,
         0.0982291472035569,
         0.09581602006763607,
         0.09661704243777634,
         0.09984838053003534,
         0.09611944002764565,
         0.09921514697663196,
         0.09962312567543674,
         0.09817187101035924,
         0.09880573854043886,
         0.10014896114151199,
         0.09423328065252923,
         0.09645114335920904,
         0.09766123085827022,
         0.09691815252427931,
         0.09724031620985502,
         0.09508468810614053,
         0.09827991836256796,
         0.09788626393714508,
         0.10154208502212128,
         0.09758995686258588,
         0.0979817472882085,
         0.10054417747955818,
         0.10024775642079192,
         0.09958833997899835,
         0.0996650718636327,
         0.09496612924259978,
         0.10126005848506828,
         0.09849264308229669,
         0.09821738631694348,
         0.09577265807560512,
         0.0971958234712675
        ],
        [
         15.00810956954956,
         14.716257572174072,
         15.284663677215576,
         15.038345158100128,
         15.257728546857834,
         14.252162724733353,
         14.991856575012207,
         14.270837545394897,
         14.840895235538483,
         15.323455274105072,
         15.405258625745773,
         13.858445793390274,
         15.10009190440178,
         13.949463307857513,
         15.059229880571365,
         14.88536137342453,
         14.7521892786026,
         15.38097894191742,
         14.973061591386795,
         15.206156998872757,
         15.225015074014664,
         14.823591828346252,
         15.162117063999176,
         15.207035183906555,
         14.889894753694534,
         15.078063935041428,
         15.123433113098145,
         14.90936329960823,
         15.130994081497192,
         14.887762635946274,
         15.609875708818436,
         15.080178171396255,
         15.090049594640732,
         15.080416947603226,
         15.153823763132095,
         15.153924077749252,
         15.2054682970047,
         14.936243295669556,
         15.157295972108841,
         15.218829452991486,
         15.379471063613892,
         15.31830021739006,
         15.007632225751877,
         15.334094822406769,
         14.672414869070053,
         15.33290883898735,
         15.220378309488297,
         14.268287807703018,
         15.353425741195679,
         15.096333891153336,
         15.136301815509796,
         14.62353464961052,
         14.376911222934723,
         15.139758467674255,
         15.35387510061264,
         14.567530393600464,
         14.37667527794838,
         15.048131763935089,
         14.299245744943619,
         14.593557745218277,
         14.495861560106277,
         14.732647091150284,
         15.01226332783699,
         15.012819111347198,
         14.79076462984085,
         15.221253544092178,
         14.461908668279648,
         15.053160518407822,
         15.085345834493637,
         15.127288669347763,
         14.755667090415955,
         14.879024535417557,
         15.376650601625443,
         14.802393764257431,
         15.279132634401321,
         15.341961354017258,
         15.118468135595322,
         15.216083735227585,
         15.422940015792847,
         14.511925220489502,
         14.853476077318192,
         15.039829552173615,
         14.925395488739014,
         14.975008696317673,
         14.643041968345642,
         15.135107427835464,
         15.074484646320343,
         15.637481093406677,
         15.028853356838226,
         15.08918908238411,
         15.48380333185196,
         15.438154488801956,
         15.336604356765747,
         15.348421066999435,
         14.624783903360367,
         15.594049006700516,
         15.16786703467369,
         15.125477492809296,
         14.748989343643188,
         14.968156814575195
        ],
        [
         2.1398924922251075,
         2.060707949932041,
         2.170024270773954,
         2.12086450098544,
         2.1441618211732596,
         1.9308019519998068,
         2.110476758416029,
         1.9266791775501537,
         2.129934213038991,
         2.134616866582807,
         2.1651000766798383,
         1.9092472851400055,
         2.1553042152959616,
         1.8951553394922807,
         2.1389312077825,
         2.120750467432422,
         2.096891757976196,
         2.1486878398928573,
         2.099933248224523,
         2.1616066670556644,
         2.1704351174462295,
         2.137309261190164,
         2.149574795660691,
         2.155120544462222,
         2.1084252559603303,
         2.16246091086461,
         2.14074100008131,
         2.1514413707914186,
         2.11449383112245,
         2.1293104857744325,
         2.17519986448512,
         2.1376959061717304,
         2.1342455542106475,
         2.132990731796183,
         2.1331332496574795,
         2.1313693327752925,
         2.164650137221628,
         2.1307403715261093,
         2.118907720689753,
         2.1347715469271353,
         2.1622425195599435,
         2.171581556690524,
         2.1562453635819727,
         2.1574671480501495,
         2.0991149233970483,
         2.1299794972763433,
         2.152520844911336,
         1.8836696228807441,
         2.14623044098002,
         2.148952395392836,
         2.1441964815034225,
         2.103170596811487,
         1.9272346192732706,
         2.117927063317125,
         2.1439307713578017,
         2.010124842228636,
         1.9171123173726274,
         2.1130755822328386,
         1.9400376590392392,
         1.9720789133982117,
         1.9975723486056687,
         1.9859494430393978,
         2.150286442102776,
         2.1421565031766043,
         2.037085144998255,
         2.1595445662055015,
         2.10695447365108,
         2.16949353927756,
         2.0963466755658158,
         2.1211976509623773,
         1.9404527038244794,
         2.127687232082001,
         2.1390496070997904,
         2.1275019102243125,
         2.1407771037438965,
         2.1491257756859454,
         2.1447890765885447,
         2.076977058469757,
         2.112186311765668,
         1.9204881975869526,
         2.157786511413696,
         2.1391752673784596,
         2.132409438783579,
         2.150769946920336,
         1.9989789951799535,
         2.133177243259081,
         2.1079159408221315,
         2.1759642641915886,
         2.129975722916585,
         2.1500966894346845,
         2.1875576981444596,
         2.1834163334198093,
         2.15173715838474,
         2.162209053712884,
         2.069014438978582,
         2.171512599336776,
         2.148616557775171,
         2.134335002683175,
         2.0762870080823705,
         2.153165156368517
        ]
       ],
       "encoder": "json",
       "name": "ABC_GAN_1 Metrics",
       "version": 1
      }
     },
     "metadata": {
      "scrapbook": {
       "data": true,
       "display": false,
       "name": "ABC_GAN_1 Metrics"
      }
     },
     "output_type": "display_data"
    },
    {
     "name": "stdout",
     "output_type": "stream",
     "text": [
      "MAE\n",
      "0.09740989805622534\n"
     ]
    }
   ],
   "source": [
    "ABC_GAN1_metrics=ABC_train_test2.test_generator(gen,test_data,prior_model,variance,bias,\"1\",device)\n",
    "sb.glue(\"ABC_GAN_1 Metrics\",ABC_GAN1_metrics)\n",
    "\n",
    "print(\"MAE\")\n",
    "print(mean(ABC_GAN1_metrics[1]))"
   ]
  },
  {
   "cell_type": "code",
   "execution_count": 14,
   "id": "eb22ce5c",
   "metadata": {
    "execution": {
     "iopub.execute_input": "2022-07-25T09:16:52.696843Z",
     "iopub.status.busy": "2022-07-25T09:16:52.695692Z",
     "iopub.status.idle": "2022-07-25T09:16:54.758407Z",
     "shell.execute_reply": "2022-07-25T09:16:54.738231Z"
    },
    "papermill": {
     "duration": 2.107414,
     "end_time": "2022-07-25T09:16:54.770149",
     "exception": false,
     "start_time": "2022-07-25T09:16:52.662735",
     "status": "completed"
    },
    "tags": []
   },
   "outputs": [
    {
     "data": {
      "image/png": "[encoded data removed]",
      "text/plain": [
       "<Figure size 432x288 with 1 Axes>"
      ]
     },
     "metadata": {
      "needs_background": "light"
     },
     "output_type": "display_data"
    },
    {
     "data": {
      "image/png": "[encoded data removed]",
      "text/plain": [
       "<Figure size 432x288 with 1 Axes>"
      ]
     },
     "metadata": {
      "needs_background": "light"
     },
     "output_type": "display_data"
    },
    {
     "data": {
      "image/png": "[encoded data removed]",
      "text/plain": [
       "<Figure size 432x288 with 1 Axes>"
      ]
     },
     "metadata": {
      "needs_background": "light"
     },
     "output_type": "display_data"
    },
    {
     "data": {
      "image/png": "[encoded data removed]",
      "text/plain": [
       "<Figure size 432x288 with 1 Axes>"
      ]
     },
     "metadata": {
      "needs_background": "light"
     },
     "output_type": "display_data"
    }
   ],
   "source": [
    "sanityChecks.discProbVsError(train_data,disc,device)\n",
    "sanityChecks.discProbVsError(test_data,disc,device)"
   ]
  },
  {
   "cell_type": "markdown",
   "id": "cc7faaab",
   "metadata": {
    "papermill": {
     "duration": 0.031689,
     "end_time": "2022-07-25T09:16:54.833194",
     "exception": false,
     "start_time": "2022-07-25T09:16:54.801505",
     "status": "completed"
    },
    "tags": []
   },
   "source": [
    "# mGAN Model with TabNet Generator"
   ]
  },
  {
   "cell_type": "code",
   "execution_count": 15,
   "id": "2ea72b65",
   "metadata": {
    "execution": {
     "iopub.execute_input": "2022-07-25T09:16:54.913438Z",
     "iopub.status.busy": "2022-07-25T09:16:54.912339Z",
     "iopub.status.idle": "2022-07-25T09:16:54.942555Z",
     "shell.execute_reply": "2022-07-25T09:16:54.937279Z"
    },
    "papermill": {
     "duration": 0.084182,
     "end_time": "2022-07-25T09:16:54.955413",
     "exception": false,
     "start_time": "2022-07-25T09:16:54.871231",
     "status": "completed"
    },
    "tags": []
   },
   "outputs": [],
   "source": [
    "gen2 = network.GeneratorTabnet(n_features+1).to(device)\n",
    "disc2 = network.Discriminator(n_features+1).to(device)\n",
    "\n",
    "criterion = torch.nn.BCELoss()\n",
    "gen_opt = torch.optim.Adam(gen2.parameters(), lr=0.01, betas=(0.5, 0.999))\n",
    "disc_opt = torch.optim.Adam(disc2.parameters(), lr=0.01, betas=(0.5, 0.999))"
   ]
  },
  {
   "cell_type": "code",
   "execution_count": 16,
   "id": "58b1630c",
   "metadata": {
    "execution": {
     "iopub.execute_input": "2022-07-25T09:16:55.028424Z",
     "iopub.status.busy": "2022-07-25T09:16:55.027443Z",
     "iopub.status.idle": "2022-07-25T09:35:47.490234Z",
     "shell.execute_reply": "2022-07-25T09:35:47.486087Z"
    },
    "papermill": {
     "duration": 1132.512602,
     "end_time": "2022-07-25T09:35:47.502620",
     "exception": false,
     "start_time": "2022-07-25T09:16:54.990018",
     "status": "completed"
    },
    "tags": []
   },
   "outputs": [
    {
     "data": {
      "image/png": "[encoded data removed]",
      "text/plain": [
       "<Figure size 432x288 with 1 Axes>"
      ]
     },
     "metadata": {
      "needs_background": "light"
     },
     "output_type": "display_data"
    },
    {
     "data": {
      "image/png": "[encoded data removed]",
      "text/plain": [
       "<Figure size 432x288 with 1 Axes>"
      ]
     },
     "metadata": {
      "needs_background": "light"
     },
     "output_type": "display_data"
    }
   ],
   "source": [
    "#Training the ABC_GAN \n",
    "ABC_train_test2.training_GAN(disc2,gen2,disc_opt,gen_opt,train_data,batch_size,n_epochs,criterion,prior_model,variance,bias,device)"
   ]
  },
  {
   "cell_type": "code",
   "execution_count": 17,
   "id": "7ee71393",
   "metadata": {
    "execution": {
     "iopub.execute_input": "2022-07-25T09:35:47.996383Z",
     "iopub.status.busy": "2022-07-25T09:35:47.995520Z",
     "iopub.status.idle": "2022-07-25T09:36:07.543072Z",
     "shell.execute_reply": "2022-07-25T09:36:07.538212Z"
    },
    "papermill": {
     "duration": 19.945054,
     "end_time": "2022-07-25T09:36:07.546585",
     "exception": false,
     "start_time": "2022-07-25T09:35:47.601531",
     "status": "completed"
    },
    "tags": []
   },
   "outputs": [
    {
     "data": {
      "application/scrapbook.scrap.json+json": {
       "data": 0.014928444025235826,
       "encoder": "json",
       "name": "ABC-GAN Model 1 MSE",
       "version": 1
      }
     },
     "metadata": {
      "scrapbook": {
       "data": true,
       "display": false,
       "name": "ABC-GAN Model 1 MSE"
      }
     },
     "output_type": "display_data"
    },
    {
     "data": {
      "application/scrapbook.scrap.json+json": {
       "data": 0.08943557156370832,
       "encoder": "json",
       "name": "ABC-GAN Model 1 MAE",
       "version": 1
      }
     },
     "metadata": {
      "scrapbook": {
       "data": true,
       "display": false,
       "name": "ABC-GAN Model 1 MAE"
      }
     },
     "output_type": "display_data"
    },
    {
     "data": {
      "application/scrapbook.scrap.json+json": {
       "data": 13.77307802081108,
       "encoder": "json",
       "name": "ABC-GAN Model 1 Manhattan Distance",
       "version": 1
      }
     },
     "metadata": {
      "scrapbook": {
       "data": true,
       "display": false,
       "name": "ABC-GAN Model 1 Manhattan Distance"
      }
     },
     "output_type": "display_data"
    },
    {
     "data": {
      "application/scrapbook.scrap.json+json": {
       "data": 1.5143365360222478,
       "encoder": "json",
       "name": "ABC-GAN Model 1 Euclidean distance",
       "version": 1
      }
     },
     "metadata": {
      "scrapbook": {
       "data": true,
       "display": false,
       "name": "ABC-GAN Model 1 Euclidean distance"
      }
     },
     "output_type": "display_data"
    },
    {
     "data": {
      "application/scrapbook.scrap.json+json": {
       "data": [
        [
         0.015043954505835068,
         0.01803586079720319,
         0.016104852323852906,
         0.014784420301220041,
         0.01673702396901839,
         0.014180382790601877,
         0.017288698283074656,
         0.011940056949194085,
         0.017130510134412674,
         0.01421220381635244,
         0.013583354121502092,
         0.014883069364758571,
         0.01609282175785002,
         0.014007097809116888,
         0.015565421501274079,
         0.016321294552277543,
         0.015899990200422234,
         0.012895834688521308,
         0.013717411606441495,
         0.01714240857847315,
         0.015313103512160739,
         0.018885221034851775,
         0.01293268637462122,
         0.015931521388290806,
         0.017427608997306974,
         0.013333191431995607,
         0.01628341131167452,
         0.014608226181678253,
         0.01826819091145936,
         0.016285555290544818,
         0.015773612003301688,
         0.018728328487994633,
         0.014555266025333016,
         0.012761856356850398,
         0.017080442719580098,
         0.014452028388772862,
         0.014720258955680273,
         0.014770815981680537,
         0.013618027548644763,
         0.012755779235574478,
         0.014178238504035883,
         0.013019999411674666,
         0.016240635505176786,
         0.015031089621478647,
         0.01590381223648273,
         0.013797137956099744,
         0.016807371545574653,
         0.014339979946835,
         0.016207684741567814,
         0.015508041961319578,
         0.014145925034658672,
         0.017655585250520623,
         0.0185718445050848,
         0.015525280394748963,
         0.013725411799117524,
         0.013529816481291446,
         0.014343202265510231,
         0.01632541064694677,
         0.012934689413671284,
         0.014572188064211353,
         0.013979753476210485,
         0.014403144182685677,
         0.014134270445021243,
         0.014210306075813108,
         0.01442743059994082,
         0.013709455044458415,
         0.016011765678333154,
         0.016579272300065194,
         0.013845329215845473,
         0.014209253374272163,
         0.013626735307472103,
         0.015117353901005536,
         0.013457362340260137,
         0.013429086973639119,
         0.01697712311645681,
         0.015105770486974016,
         0.014470987050618576,
         0.014680592717782215,
         0.012604048269984163,
         0.01456270661733156,
         0.016313639945055858,
         0.01430370892342488,
         0.01248173906880069,
         0.013551434965654804,
         0.012893938619666628,
         0.013668986017522507,
         0.0143081834176559,
         0.014197162286637042,
         0.01324072484631521,
         0.013414599903048907,
         0.014261527526868625,
         0.014611226083906833,
         0.01436699529791712,
         0.015390378227857044,
         0.01344747367266064,
         0.016318659061886315,
         0.015878462046217783,
         0.014104866170521188,
         0.015012481435987372,
         0.015121322356400707
        ],
        [
         0.09093742812802265,
         0.09902213823485684,
         0.09586345801105747,
         0.08926863939344108,
         0.09591128556178762,
         0.08772622866483477,
         0.0985170728103681,
         0.08060018500530874,
         0.09639297387042603,
         0.0872009623940889,
         0.08562284596748167,
         0.09231774726664865,
         0.09215829608502327,
         0.08635830951782016,
         0.09341643276539716,
         0.09494138804155511,
         0.09351931144664814,
         0.0843598438644564,
         0.08442010478926944,
         0.09379066212417243,
         0.08888705432802052,
         0.09992936253547668,
         0.08059945344537883,
         0.0941398556453067,
         0.09689954261888158,
         0.08750244917033555,
         0.09462721103971655,
         0.08981000032130775,
         0.0957491926171563,
         0.09647018617236769,
         0.09163596195640503,
         0.10031988641077821,
         0.08946064385500821,
         0.07981854667524238,
         0.09264594635793141,
         0.08847053576405946,
         0.08819247114580947,
         0.09028912384014626,
         0.08598241863119138,
         0.08100845461541956,
         0.08595522783406369,
         0.08386903072332406,
         0.09218824799958762,
         0.09095998514782298,
         0.09248621490868655,
         0.08463360494994498,
         0.09769475876123875,
         0.08785477091933226,
         0.09341535552755578,
         0.08995709379578566,
         0.08715418934241517,
         0.09740926054390994,
         0.09865205386629353,
         0.08996181325478987,
         0.08459952023702783,
         0.08729272984065019,
         0.08951195876126165,
         0.09432027493784954,
         0.08324064086977538,
         0.08770322422315548,
         0.08624812234918793,
         0.08743148016465174,
         0.08581526954839756,
         0.0867442080823632,
         0.08569470986530378,
         0.08492133539024886,
         0.09393621057078436,
         0.09488463034103443,
         0.08665699419843687,
         0.08610996865219885,
         0.08760655758442817,
         0.08911552072151915,
         0.08572586219419133,
         0.08527829333559259,
         0.09648693309395344,
         0.08881497983034554,
         0.08731680740783741,
         0.08782085418314128,
         0.08139761188974629,
         0.08624412796714089,
         0.0938703307470718,
         0.08826300584070094,
         0.08291777605553727,
         0.08430867709896782,
         0.08369154981397964,
         0.08673219131184863,
         0.08736682992863964,
         0.08674878152933987,
         0.08081702994448799,
         0.0860485549677502,
         0.08942500729258958,
         0.08782939622541527,
         0.08710865168408914,
         0.09106071806186206,
         0.08606456539460591,
         0.09435202858664772,
         0.09302859966244016,
         0.08506060106220184,
         0.08874359843018767,
         0.09222521782888994
        ],
        [
         14.004363931715488,
         15.249409288167953,
         14.76297253370285,
         13.747370466589928,
         14.770337976515293,
         13.509839214384556,
         15.171629212796688,
         12.412428490817547,
         14.844517976045609,
         13.42894820868969,
         13.185918278992176,
         14.216933079063892,
         14.192377597093582,
         13.299179665744305,
         14.386130645871162,
         14.620973758399487,
         14.401973962783813,
         12.991415955126286,
         13.000696137547493,
         14.443761967122555,
         13.68860636651516,
         15.38912183046341,
         12.41231583058834,
         14.497537769377232,
         14.922529563307762,
         13.475377172231674,
         14.572590500116348,
         13.830740049481392,
         14.745375663042068,
         14.856408670544624,
         14.111938141286373,
         15.449262507259846,
         13.776939153671265,
         12.292056187987328,
         14.267475739121437,
         13.624462507665157,
         13.581640556454659,
         13.904525071382523,
         13.241292469203472,
         12.475302010774612,
         13.237105086445808,
         12.915830731391907,
         14.196990191936493,
         14.00783771276474,
         14.242877095937729,
         13.033575162291527,
         15.044992849230766,
         13.529634721577168,
         14.385964751243591,
         13.853392444550991,
         13.421745158731937,
         15.00102612376213,
         15.192416295409203,
         13.85411924123764,
         13.028326116502285,
         13.443080395460129,
         13.784841649234295,
         14.52532234042883,
         12.819058693945408,
         13.506296530365944,
         13.28221084177494,
         13.464447945356369,
         13.215551510453224,
         13.358608044683933,
         13.196985319256783,
         13.077885650098324,
         14.466176427900791,
         14.612233072519302,
         13.345177106559277,
         13.260935172438622,
         13.491409868001938,
         13.723790191113949,
         13.201782777905464,
         13.13285717368126,
         14.85898769646883,
         13.677506893873215,
         13.446788340806961,
         13.524411544203758,
         12.535232231020927,
         13.281595706939697,
         14.456030935049057,
         13.592502899467945,
         12.769337512552738,
         12.983536273241043,
         12.888498671352863,
         13.356757462024689,
         13.454491809010506,
         13.359312355518341,
         12.445822611451149,
         13.251477465033531,
         13.771451123058796,
         13.525727018713951,
         13.414732359349728,
         14.023350581526756,
         13.25394307076931,
         14.53021240234375,
         14.326404348015785,
         13.099332563579082,
         13.666514158248901,
         14.202683545649052
        ],
        [
         1.522093621922975,
         1.666590100405403,
         1.5748483285298769,
         1.5089071298088184,
         1.6054599625119377,
         1.477761465782854,
         1.6317044878266092,
         1.3560120833443519,
         1.6242224480346132,
         1.4794185978681882,
         1.446318268816142,
         1.5139328525971092,
         1.574260000987417,
         1.468704552523754,
         1.5482489823010406,
         1.5853956481114553,
         1.564799824535082,
         1.4092404131418745,
         1.4534377824289522,
         1.6247864232214846,
         1.5356490291966955,
         1.7053809074125268,
         1.411252529383621,
         1.5663506292643368,
         1.6382465582400207,
         1.4329380588592529,
         1.5835546539345828,
         1.499888939881367,
         1.6772898975325468,
         1.5836589010086426,
         1.5585686537680847,
         1.6982822460213065,
         1.4971676485622056,
         1.401900809242566,
         1.621847150262729,
         1.4918486424135058,
         1.5056293963571388,
         1.5082127373745398,
         1.4481630579776896,
         1.401566981017486,
         1.4776497317096249,
         1.4160084425588353,
         1.5814733218733803,
         1.521442671186697,
         1.5649878863487539,
         1.4576553931706082,
         1.6088303882070654,
         1.4860541416155033,
         1.5798681749441765,
         1.5453926562667544,
         1.475964923478006,
         1.6489269627791814,
         1.6911723903207085,
         1.546251331702366,
         1.4538615536095927,
         1.4434651842420319,
         1.4862210969060343,
         1.585595547303852,
         1.411361813889471,
         1.4980377037606725,
         1.4672702666299806,
         1.4893234048162922,
         1.4753567868597992,
         1.4793198219706307,
         1.4905785160101048,
         1.4530161997880808,
         1.5702903917630349,
         1.5978760697282,
         1.4601988560604349,
         1.4792650268420169,
         1.4486259825609589,
         1.525802248246755,
         1.4395950126337826,
         1.438081845355272,
         1.616934432787659,
         1.5252175762801838,
         1.492826850574192,
         1.503599440854665,
         1.393206170520918,
         1.4975502726349657,
         1.5850238331137494,
         1.4841735660654487,
         1.386429881600691,
         1.4446179372799022,
         1.409136809337071,
         1.4508700309464202,
         1.4844056879165508,
         1.4786355170027887,
         1.427960652935697,
         1.4373059469262388,
         1.4819835488755495,
         1.5000429383593166,
         1.4874532852762927,
         1.5395188362244825,
         1.4390659976490787,
         1.5852676416083475,
         1.56374011751235,
         1.473821356291278,
         1.520500621881509,
         1.5260025042199994
        ]
       ],
       "encoder": "json",
       "name": "ABC_GAN_2 Metrics",
       "version": 1
      }
     },
     "metadata": {
      "scrapbook": {
       "data": true,
       "display": false,
       "name": "ABC_GAN_2 Metrics"
      }
     },
     "output_type": "display_data"
    },
    {
     "name": "stdout",
     "output_type": "stream",
     "text": [
      "MAE\n",
      "0.08943557156370832\n"
     ]
    }
   ],
   "source": [
    "ABC_GAN2_metrics=ABC_train_test2.test_generator(gen2,test_data,prior_model,variance,bias,\"1\",device)\n",
    "sb.glue(\"ABC_GAN_2 Metrics\",ABC_GAN2_metrics)\n",
    "\n",
    "print(\"MAE\")\n",
    "print(mean(ABC_GAN2_metrics[1]))"
   ]
  },
  {
   "cell_type": "code",
   "execution_count": 18,
   "id": "0ce738e4",
   "metadata": {
    "execution": {
     "iopub.execute_input": "2022-07-25T09:36:07.648545Z",
     "iopub.status.busy": "2022-07-25T09:36:07.647014Z",
     "iopub.status.idle": "2022-07-25T09:36:13.471900Z",
     "shell.execute_reply": "2022-07-25T09:36:13.470380Z"
    },
    "papermill": {
     "duration": 5.880756,
     "end_time": "2022-07-25T09:36:13.475965",
     "exception": false,
     "start_time": "2022-07-25T09:36:07.595209",
     "status": "completed"
    },
    "tags": []
   },
   "outputs": [
    {
     "data": {
      "image/png": "[encoded data removed]",
      "text/plain": [
       "<Figure size 432x288 with 1 Axes>"
      ]
     },
     "metadata": {
      "needs_background": "light"
     },
     "output_type": "display_data"
    },
    {
     "data": {
      "image/png": "[encoded data removed]",
      "text/plain": [
       "<Figure size 432x288 with 1 Axes>"
      ]
     },
     "metadata": {
      "needs_background": "light"
     },
     "output_type": "display_data"
    },
    {
     "data": {
      "image/png": "[encoded data removed]",
      "text/plain": [
       "<Figure size 432x288 with 1 Axes>"
      ]
     },
     "metadata": {
      "needs_background": "light"
     },
     "output_type": "display_data"
    },
    {
     "data": {
      "image/png": "[encoded data removed]",
      "text/plain": [
       "<Figure size 432x288 with 1 Axes>"
      ]
     },
     "metadata": {
      "needs_background": "light"
     },
     "output_type": "display_data"
    }
   ],
   "source": [
    "sanityChecks.discProbVsError(train_data,disc2,device)\n",
    "sanityChecks.discProbVsError(test_data,disc2,device)"
   ]
  },
  {
   "cell_type": "markdown",
   "id": "130f3a4d",
   "metadata": {
    "id": "130f3a4d",
    "papermill": {
     "duration": 0.042417,
     "end_time": "2022-07-25T09:36:13.562015",
     "exception": false,
     "start_time": "2022-07-25T09:36:13.519598",
     "status": "completed"
    },
    "tags": []
   },
   "source": [
    "# skipGAN Model"
   ]
  },
  {
   "cell_type": "code",
   "execution_count": 19,
   "id": "4e43dad1",
   "metadata": {
    "execution": {
     "iopub.execute_input": "2022-07-25T09:36:13.654626Z",
     "iopub.status.busy": "2022-07-25T09:36:13.653963Z",
     "iopub.status.idle": "2022-07-25T09:36:13.664728Z",
     "shell.execute_reply": "2022-07-25T09:36:13.663739Z"
    },
    "id": "4e43dad1",
    "papermill": {
     "duration": 0.082589,
     "end_time": "2022-07-25T09:36:13.688459",
     "exception": false,
     "start_time": "2022-07-25T09:36:13.605870",
     "status": "completed"
    },
    "tags": []
   },
   "outputs": [],
   "source": [
    "#Generator\n",
    "gen3 = network.GeneratorWithSkipConnection(n_features+1).to(device)\n",
    "constraints=network.weightConstraint()\n",
    "#Discriminator \n",
    "disc3 = network.Discriminator(n_features+1).to(device)\n",
    "\n",
    "criterion = torch.nn.BCELoss()\n",
    "gen_opt = torch.optim.Adam(gen3.parameters(), lr=0.01, betas=(0.5, 0.999))\n",
    "disc_opt = torch.optim.Adam(disc3.parameters(), lr=0.01, betas=(0.5, 0.999))\n"
   ]
  },
  {
   "cell_type": "code",
   "execution_count": 20,
   "id": "26acbc37",
   "metadata": {
    "execution": {
     "iopub.execute_input": "2022-07-25T09:36:13.852771Z",
     "iopub.status.busy": "2022-07-25T09:36:13.852318Z",
     "iopub.status.idle": "2022-07-25T09:48:20.786401Z",
     "shell.execute_reply": "2022-07-25T09:48:20.783949Z"
    },
    "id": "26acbc37",
    "papermill": {
     "duration": 727.037837,
     "end_time": "2022-07-25T09:48:20.792371",
     "exception": false,
     "start_time": "2022-07-25T09:36:13.754534",
     "status": "completed"
    },
    "tags": []
   },
   "outputs": [
    {
     "data": {
      "image/png": "[encoded data removed]",
      "text/plain": [
       "<Figure size 432x288 with 1 Axes>"
      ]
     },
     "metadata": {
      "needs_background": "light"
     },
     "output_type": "display_data"
    },
    {
     "data": {
      "image/png": "[encoded data removed]",
      "text/plain": [
       "<Figure size 432x288 with 1 Axes>"
      ]
     },
     "metadata": {
      "needs_background": "light"
     },
     "output_type": "display_data"
    }
   ],
   "source": [
    "ABC_train_test2.training_GAN_skip_connection(disc3,gen3,disc_opt,gen_opt,train_data,batch_size,n_epochs,criterion,prior_model,variance,bias,device)"
   ]
  },
  {
   "cell_type": "code",
   "execution_count": 21,
   "id": "c5e0717b",
   "metadata": {
    "execution": {
     "iopub.execute_input": "2022-07-25T09:48:20.908621Z",
     "iopub.status.busy": "2022-07-25T09:48:20.906595Z",
     "iopub.status.idle": "2022-07-25T09:48:26.022095Z",
     "shell.execute_reply": "2022-07-25T09:48:26.020805Z"
    },
    "id": "c5e0717b",
    "papermill": {
     "duration": 5.186273,
     "end_time": "2022-07-25T09:48:26.027317",
     "exception": false,
     "start_time": "2022-07-25T09:48:20.841044",
     "status": "completed"
    },
    "tags": []
   },
   "outputs": [
    {
     "data": {
      "application/scrapbook.scrap.json+json": {
       "data": 0.010267630427911392,
       "encoder": "json",
       "name": "ABC-GAN Model 3 MSE",
       "version": 1
      }
     },
     "metadata": {
      "scrapbook": {
       "data": true,
       "display": false,
       "name": "ABC-GAN Model 3 MSE"
      }
     },
     "output_type": "display_data"
    },
    {
     "data": {
      "application/scrapbook.scrap.json+json": {
       "data": 0.06899986507346878,
       "encoder": "json",
       "name": "ABC-GAN Model 3 MAE",
       "version": 1
      }
     },
     "metadata": {
      "scrapbook": {
       "data": true,
       "display": false,
       "name": "ABC-GAN Model 3 MAE"
      }
     },
     "output_type": "display_data"
    },
    {
     "data": {
      "application/scrapbook.scrap.json+json": {
       "data": 10.625979221314191,
       "encoder": "json",
       "name": "ABC-GAN Model 3 Manhattan Distance",
       "version": 1
      }
     },
     "metadata": {
      "scrapbook": {
       "data": true,
       "display": false,
       "name": "ABC-GAN Model 3 Manhattan Distance"
      }
     },
     "output_type": "display_data"
    },
    {
     "data": {
      "application/scrapbook.scrap.json+json": {
       "data": 1.256243651846083,
       "encoder": "json",
       "name": "ABC-GAN Model 3 Euclidean distance",
       "version": 1
      }
     },
     "metadata": {
      "scrapbook": {
       "data": true,
       "display": false,
       "name": "ABC-GAN Model 3 Euclidean distance"
      }
     },
     "output_type": "display_data"
    },
    {
     "data": {
      "application/scrapbook.scrap.json+json": {
       "data": [
        [
         0.011088504720923655,
         0.011114678053300343,
         0.009783526173906874,
         0.010079167542708722,
         0.010404652521986005,
         0.009021338814981971,
         0.010220269214019143,
         0.008684803754466598,
         0.01113293559179062,
         0.008941512219230419,
         0.009983839427189646,
         0.010529443308164414,
         0.010067141800627828,
         0.01003484239310713,
         0.011840104052332573,
         0.009335100047934499,
         0.009517383753545973,
         0.009817219715602605,
         0.009966363892779363,
         0.01136905327231561,
         0.011613380989004154,
         0.009835186828037792,
         0.009987395085446927,
         0.011680442580659672,
         0.009629850987923802,
         0.009203484338589136,
         0.011797894347995481,
         0.009545468972529945,
         0.010725440707846971,
         0.00951509835328852,
         0.012704501404544814,
         0.011393995972503823,
         0.010190799050899275,
         0.010947705567788969,
         0.009136270035201673,
         0.009672644453581427,
         0.010814451273218858,
         0.010246863573006162,
         0.011339475521669902,
         0.01055083728728181,
         0.011360925068075367,
         0.010923170118532171,
         0.009902745606617427,
         0.011426946070134128,
         0.008997710924220768,
         0.009276195476656117,
         0.009985817892560157,
         0.01003034227900486,
         0.009885896475734185,
         0.01186387367524884,
         0.009420614058413605,
         0.009830764116783807,
         0.009420394349268058,
         0.011328167031750167,
         0.009643838111428648,
         0.010081544448909035,
         0.011954821854388132,
         0.009788263304366026,
         0.010113379946237878,
         0.009618353318124502,
         0.01045835854280001,
         0.009426824302691655,
         0.009746339619288554,
         0.008775860411033804,
         0.010499921210341344,
         0.009551838020094534,
         0.009122163471226049,
         0.011067384171629932,
         0.010643248728668614,
         0.009998180112765776,
         0.011075233276752484,
         0.009740011976085665,
         0.010627087762982625,
         0.009306576501035588,
         0.010707750608798104,
         0.0101384749834187,
         0.011424149953399737,
         0.010063092963031397,
         0.011352848632050955,
         0.008009088875595859,
         0.011490088495468167,
         0.010413081309072675,
         0.009585094841162928,
         0.010817480836484837,
         0.009012460720460547,
         0.010293444897394706,
         0.008896652974751238,
         0.010992741859087867,
         0.010342639570242992,
         0.009952545737366003,
         0.011735437391540782,
         0.011535214254278872,
         0.00989841517993152,
         0.01178695116676474,
         0.010608242463868477,
         0.009636253560846924,
         0.008419217951507716,
         0.010460130691973255,
         0.010007003251661078,
         0.010828679785195567
        ],
        [
         0.07311882572127627,
         0.0726661178972814,
         0.06683826330420259,
         0.067478708922863,
         0.0703506147029338,
         0.06733674918869872,
         0.06947999437908073,
         0.06703749560303503,
         0.07287365904489121,
         0.06575849429740534,
         0.07034331056978796,
         0.0684446683758265,
         0.06918878214699882,
         0.07039112926690609,
         0.07089940245662417,
         0.06348035499066501,
         0.06597776140098448,
         0.06774975320735535,
         0.06518290617636271,
         0.07217777742967978,
         0.07285183697164833,
         0.06786393316148163,
         0.06904862782397828,
         0.07163784048193461,
         0.06889417782038837,
         0.064395222812891,
         0.07460106241625625,
         0.06837117846135969,
         0.06974549131927552,
         0.0669994122989766,
         0.07623031449975906,
         0.07056937773119319,
         0.0696510857382378,
         0.07031943353933173,
         0.06703017177906903,
         0.06601943888447502,
         0.07036935576757827,
         0.06970002797323388,
         0.07058752705524494,
         0.0672402959075067,
         0.07143678762889527,
         0.07337551786528006,
         0.06965537388603409,
         0.07094097558360596,
         0.0664733001938114,
         0.06466354023326527,
         0.0699556198019486,
         0.06703043046903301,
         0.06832136668555149,
         0.06999406973262887,
         0.06941938245451296,
         0.066529786528705,
         0.06556689748903374,
         0.06983292344715689,
         0.0660633940685105,
         0.07063564774277922,
         0.07373845761085486,
         0.06867188224931817,
         0.06609527476422199,
         0.06807810155215202,
         0.06726501649850375,
         0.06996826556595889,
         0.06879805434833873,
         0.06696711190335163,
         0.0705297975377603,
         0.06842073914292571,
         0.06595559355306935,
         0.06938928360869358,
         0.07006804209637951,
         0.0656970717109643,
         0.07360793904147366,
         0.06749182847606672,
         0.073557448633886,
         0.06716111152396574,
         0.06867078478847231,
         0.0680635692430781,
         0.0729228411014978,
         0.06977703548096992,
         0.07158954286730135,
         0.06193810865863577,
         0.07004398122042804,
         0.06881541478169428,
         0.0676895957198236,
         0.0706182054014175,
         0.06447222422469746,
         0.06843848642590758,
         0.06607300672051195,
         0.07088701141538559,
         0.06871652124183518,
         0.07069366551064826,
         0.0719076974631904,
         0.07115450298244302,
         0.06849306250934477,
         0.06862677449916864,
         0.07008465292391838,
         0.06791761401411775,
         0.06253963965293649,
         0.06838236178283567,
         0.06809349953160658,
         0.07312009202969538
        ],
        [
         11.260299161076546,
         11.190582156181335,
         10.293092548847198,
         10.391721174120903,
         10.833994664251804,
         10.369859375059605,
         10.699919134378433,
         10.323774322867393,
         11.222543492913246,
         10.126808121800423,
         10.832869827747345,
         10.540478929877281,
         10.655072450637817,
         10.840233907103539,
         10.918507978320122,
         9.775974668562412,
         10.16057525575161,
         10.433461993932724,
         10.038167551159859,
         11.115377724170685,
         11.219182893633842,
         10.451045706868172,
         10.633488684892654,
         11.03222743421793,
         10.60970338433981,
         9.916864313185215,
         11.488563612103462,
         10.529161483049393,
         10.74080566316843,
         10.317909494042397,
         11.739468432962894,
         10.867684170603752,
         10.726267203688622,
         10.829192765057087,
         10.322646453976631,
         10.166993588209152,
         10.836880788207054,
         10.733804307878017,
         10.870479166507721,
         10.355005569756031,
         11.001265294849873,
         11.299829751253128,
         10.72692757844925,
         10.924910239875317,
         10.236888229846954,
         9.958185195922852,
         10.773165449500084,
         10.322686292231083,
         10.521490469574928,
         10.779086738824844,
         10.690584897994995,
         10.24558712542057,
         10.097302213311195,
         10.75427021086216,
         10.173762686550617,
         10.877889752388,
         11.355722472071648,
         10.575469866394997,
         10.178672313690186,
         10.48402763903141,
         10.358812540769577,
         10.775112897157669,
         10.594900369644165,
         10.31293523311615,
         10.861588820815086,
         10.536793828010559,
         10.15716140717268,
         10.685949675738811,
         10.790478482842445,
         10.117349043488503,
         11.335622612386942,
         10.393741585314274,
         11.327847089618444,
         10.342811174690723,
         10.575300857424736,
         10.481789663434029,
         11.230117529630661,
         10.745663464069366,
         11.024789601564407,
         9.538468733429909,
         10.786773107945919,
         10.59757387638092,
         10.424197740852833,
         10.875203631818295,
         9.928722530603409,
         10.539526909589767,
         10.17524303495884,
         10.91659975796938,
         10.582344271242619,
         10.886824488639832,
         11.073785409331322,
         10.957793459296227,
         10.547931626439095,
         10.568523272871971,
         10.793036550283432,
         10.459312558174133,
         9.63110450655222,
         10.530883714556694,
         10.486398927867413,
         11.26049417257309
        ],
        [
         1.3067630722599421,
         1.3083044065538618,
         1.2274620282443196,
         1.2458698975322997,
         1.2658264053122943,
         1.178679845211253,
         1.2545602651761885,
         1.1564859610855016,
         1.3093785094982104,
         1.1734533999104884,
         1.239964221978685,
         1.2733947814630464,
         1.2451264342614712,
         1.2431273983540456,
         1.3503244143757516,
         1.199001837939339,
         1.2106515180042852,
         1.2295738433306074,
         1.2388785410555878,
         1.3231909174176657,
         1.3373334185260757,
         1.2306984892807094,
         1.240185003601812,
         1.341189083396368,
         1.2177836639322543,
         1.1905194614716412,
         1.347915327307804,
         1.212436481540213,
         1.2851917635156371,
         1.2105061529816492,
         1.3987470165472744,
         1.3246416042709774,
         1.2527501961039513,
         1.2984400861955476,
         1.1861642320610826,
         1.2204864791760455,
         1.2905136559043862,
         1.2561914624144477,
         1.3214685884791832,
         1.2746877822594045,
         1.3227178310144634,
         1.2969842706270398,
         1.2349181444205457,
         1.3265555754662735,
         1.177135286332883,
         1.1952129949950518,
         1.2400870757548696,
         1.2428486275354487,
         1.23386711491273,
         1.3516791579322074,
         1.2044810355483788,
         1.2304217463880855,
         1.2044669899118368,
         1.3208094953056349,
         1.2186677435462103,
         1.246016791673367,
         1.3568502369737687,
         1.2277591575192457,
         1.2479825766895278,
         1.2170564534939097,
         1.269089128308647,
         1.2048779783092207,
         1.2251270551948632,
         1.1625327966553054,
         1.2716083777612377,
         1.212840902630909,
         1.185248148941314,
         1.3055179671038655,
         1.2802579053514829,
         1.2408544384277833,
         1.305980828580528,
         1.2247292943002517,
         1.279285548851125,
         1.197168651928157,
         1.2841314550134297,
         1.24952997060754,
         1.3263932647686205,
         1.244876024472652,
         1.3222475900283754,
         1.1105852902149218,
         1.3302156322574539,
         1.2663390231676477,
         1.2149504539441478,
         1.2906944056664478,
         1.1780997202915058,
         1.259043491782069,
         1.1705061119497373,
         1.3011080840189764,
         1.2620485306902507,
         1.2380194035451806,
         1.3443427235259915,
         1.3328251930238062,
         1.234648102784536,
         1.347290050316475,
         1.2781507498866265,
         1.2181884289265048,
         1.1386656948078258,
         1.269196646136398,
         1.2414018288837043,
         1.2913623375800138
        ]
       ],
       "encoder": "json",
       "name": "ABC_GAN_3 Metrics",
       "version": 1
      }
     },
     "metadata": {
      "scrapbook": {
       "data": true,
       "display": false,
       "name": "ABC_GAN_3 Metrics"
      }
     },
     "output_type": "display_data"
    },
    {
     "name": "stdout",
     "output_type": "stream",
     "text": [
      "MAE\n",
      "0.06899986507346878\n"
     ]
    }
   ],
   "source": [
    "ABC_GAN3_metrics=ABC_train_test2.test_generator(gen3,test_data,prior_model,variance,bias,\"3\",device)\n",
    "sb.glue(\"ABC_GAN_3 Metrics\",ABC_GAN3_metrics)\n",
    "\n",
    "print(\"MAE\")\n",
    "print(mean(ABC_GAN3_metrics[1]))"
   ]
  },
  {
   "cell_type": "code",
   "execution_count": 22,
   "id": "c8e46b48",
   "metadata": {
    "execution": {
     "iopub.execute_input": "2022-07-25T09:48:26.120154Z",
     "iopub.status.busy": "2022-07-25T09:48:26.119735Z",
     "iopub.status.idle": "2022-07-25T09:48:27.086392Z",
     "shell.execute_reply": "2022-07-25T09:48:27.085281Z"
    },
    "id": "c8e46b48",
    "papermill": {
     "duration": 1.015893,
     "end_time": "2022-07-25T09:48:27.089302",
     "exception": false,
     "start_time": "2022-07-25T09:48:26.073409",
     "status": "completed"
    },
    "tags": []
   },
   "outputs": [
    {
     "data": {
      "image/png": "[encoded data removed]",
      "text/plain": [
       "<Figure size 432x288 with 1 Axes>"
      ]
     },
     "metadata": {
      "needs_background": "light"
     },
     "output_type": "display_data"
    },
    {
     "data": {
      "image/png": "[encoded data removed]",
      "text/plain": [
       "<Figure size 432x288 with 1 Axes>"
      ]
     },
     "metadata": {
      "needs_background": "light"
     },
     "output_type": "display_data"
    },
    {
     "data": {
      "image/png": "[encoded data removed]",
      "text/plain": [
       "<Figure size 432x288 with 1 Axes>"
      ]
     },
     "metadata": {
      "needs_background": "light"
     },
     "output_type": "display_data"
    },
    {
     "data": {
      "image/png": "[encoded data removed]",
      "text/plain": [
       "<Figure size 432x288 with 1 Axes>"
      ]
     },
     "metadata": {
      "needs_background": "light"
     },
     "output_type": "display_data"
    }
   ],
   "source": [
    "sanityChecks.discProbVsError(train_data,disc3,device)\n",
    "sanityChecks.discProbVsError(test_data,disc3,device)"
   ]
  },
  {
   "cell_type": "markdown",
   "id": "c651f5df",
   "metadata": {
    "id": "130f3a4d",
    "papermill": {
     "duration": 0.049975,
     "end_time": "2022-07-25T09:48:27.480551",
     "exception": false,
     "start_time": "2022-07-25T09:48:27.430576",
     "status": "completed"
    },
    "tags": []
   },
   "source": [
    "# skipGAN Model with TabNet Generator"
   ]
  },
  {
   "cell_type": "code",
   "execution_count": 23,
   "id": "de5428f4",
   "metadata": {
    "execution": {
     "iopub.execute_input": "2022-07-25T09:48:27.577335Z",
     "iopub.status.busy": "2022-07-25T09:48:27.576986Z",
     "iopub.status.idle": "2022-07-25T09:48:27.624167Z",
     "shell.execute_reply": "2022-07-25T09:48:27.623301Z"
    },
    "id": "4e43dad1",
    "papermill": {
     "duration": 0.101098,
     "end_time": "2022-07-25T09:48:27.628496",
     "exception": false,
     "start_time": "2022-07-25T09:48:27.527398",
     "status": "completed"
    },
    "tags": []
   },
   "outputs": [],
   "source": [
    "#Generator\n",
    "gen4 = network.GeneratorTabnetskipConnection(n_features+1).to(device)\n",
    "constraints=network.weightConstraint()\n",
    "#Discriminator \n",
    "disc4 = network.Discriminator(n_features+1).to(device)\n",
    "\n",
    "criterion = torch.nn.BCELoss()\n",
    "gen_opt = torch.optim.Adam(gen4.parameters(), lr=0.01, betas=(0.5, 0.999))\n",
    "disc_opt = torch.optim.Adam(disc4.parameters(), lr=0.01, betas=(0.5, 0.999))\n"
   ]
  },
  {
   "cell_type": "code",
   "execution_count": 24,
   "id": "df82d466",
   "metadata": {
    "execution": {
     "iopub.execute_input": "2022-07-25T09:48:27.726754Z",
     "iopub.status.busy": "2022-07-25T09:48:27.726428Z",
     "iopub.status.idle": "2022-07-25T10:11:30.746124Z",
     "shell.execute_reply": "2022-07-25T10:11:30.744347Z"
    },
    "id": "26acbc37",
    "papermill": {
     "duration": 1383.074796,
     "end_time": "2022-07-25T10:11:30.753851",
     "exception": false,
     "start_time": "2022-07-25T09:48:27.679055",
     "status": "completed"
    },
    "tags": []
   },
   "outputs": [
    {
     "data": {
      "image/png": "[encoded data removed]",
      "text/plain": [
       "<Figure size 432x288 with 1 Axes>"
      ]
     },
     "metadata": {
      "needs_background": "light"
     },
     "output_type": "display_data"
    },
    {
     "data": {
      "image/png": "[encoded data removed]",
      "text/plain": [
       "<Figure size 432x288 with 1 Axes>"
      ]
     },
     "metadata": {
      "needs_background": "light"
     },
     "output_type": "display_data"
    }
   ],
   "source": [
    "ABC_train_test2.training_GAN_skip_connection(disc4,gen4,disc_opt,gen_opt,train_data,batch_size,n_epochs,criterion,prior_model,variance,bias,device)"
   ]
  },
  {
   "cell_type": "code",
   "execution_count": 25,
   "id": "bac2f137",
   "metadata": {
    "execution": {
     "iopub.execute_input": "2022-07-25T10:11:30.856764Z",
     "iopub.status.busy": "2022-07-25T10:11:30.856062Z",
     "iopub.status.idle": "2022-07-25T10:11:37.004279Z",
     "shell.execute_reply": "2022-07-25T10:11:37.003143Z"
    },
    "id": "c5e0717b",
    "papermill": {
     "duration": 6.203993,
     "end_time": "2022-07-25T10:11:37.008361",
     "exception": false,
     "start_time": "2022-07-25T10:11:30.804368",
     "status": "completed"
    },
    "tags": []
   },
   "outputs": [
    {
     "data": {
      "application/scrapbook.scrap.json+json": {
       "data": 0.01640247837290728,
       "encoder": "json",
       "name": "ABC-GAN Model 3 MSE",
       "version": 1
      }
     },
     "metadata": {
      "scrapbook": {
       "data": true,
       "display": false,
       "name": "ABC-GAN Model 3 MSE"
      }
     },
     "output_type": "display_data"
    },
    {
     "data": {
      "application/scrapbook.scrap.json+json": {
       "data": 0.09982164445345278,
       "encoder": "json",
       "name": "ABC-GAN Model 3 MAE",
       "version": 1
      }
     },
     "metadata": {
      "scrapbook": {
       "data": true,
       "display": false,
       "name": "ABC-GAN Model 3 MAE"
      }
     },
     "output_type": "display_data"
    },
    {
     "data": {
      "application/scrapbook.scrap.json+json": {
       "data": 15.372533245831727,
       "encoder": "json",
       "name": "ABC-GAN Model 3 Manhattan Distance",
       "version": 1
      }
     },
     "metadata": {
      "scrapbook": {
       "data": true,
       "display": false,
       "name": "ABC-GAN Model 3 Manhattan Distance"
      }
     },
     "output_type": "display_data"
    },
    {
     "data": {
      "application/scrapbook.scrap.json+json": {
       "data": 1.5870705667654368,
       "encoder": "json",
       "name": "ABC-GAN Model 3 Euclidean distance",
       "version": 1
      }
     },
     "metadata": {
      "scrapbook": {
       "data": true,
       "display": false,
       "name": "ABC-GAN Model 3 Euclidean distance"
      }
     },
     "output_type": "display_data"
    },
    {
     "data": {
      "application/scrapbook.scrap.json+json": {
       "data": [
        [
         0.01754253245322638,
         0.017201507367693325,
         0.013816692289752994,
         0.017497776499155595,
         0.016694103960032226,
         0.015492341390066488,
         0.019407422667922978,
         0.015792938909633753,
         0.015033318152431502,
         0.016999368756822394,
         0.017311782533342753,
         0.01725345941469125,
         0.01474452225920535,
         0.016357316421439137,
         0.018074612498578176,
         0.01585490981656316,
         0.01943080922987211,
         0.01763129402129842,
         0.01781894705693046,
         0.016285440339943905,
         0.013310927863499586,
         0.015502556669877215,
         0.018825356817849442,
         0.017749408495064182,
         0.017894121073814526,
         0.0165107174084033,
         0.015802900949626452,
         0.01513505875753758,
         0.015227952641306655,
         0.018959736656169218,
         0.014143301820802846,
         0.018424327560411208,
         0.012866600979892114,
         0.014587183370642045,
         0.016249435465085067,
         0.017989329753666114,
         0.015100134497766,
         0.01813227343730321,
         0.012315643347804115,
         0.016814709273529408,
         0.01693988111585504,
         0.01604965256003685,
         0.016625536184918646,
         0.013514813358930905,
         0.01643419141301991,
         0.017344146945316052,
         0.01709284846257464,
         0.015423178556766762,
         0.01561237150581849,
         0.014467842515608464,
         0.013823665871667164,
         0.017158163218384474,
         0.01608788040775195,
         0.01571953922638,
         0.015909031375037096,
         0.015099750904254828,
         0.018581219477247137,
         0.013174938865697781,
         0.01441023279292521,
         0.01792131073689777,
         0.01638022643539199,
         0.016041633056747006,
         0.014457925454997078,
         0.012812320951460598,
         0.015603856680878743,
         0.019653375476292773,
         0.016697685159861038,
         0.01787044209388317,
         0.01597993320854084,
         0.018366569766729363,
         0.0157061879709718,
         0.01639232403366494,
         0.0174153085817867,
         0.01951308238505427,
         0.016946702392060156,
         0.01741232423221652,
         0.01984019982756389,
         0.014620399764285247,
         0.016418208160836792,
         0.015441076076646111,
         0.0156094708817124,
         0.0149132069108857,
         0.016621078742330334,
         0.014165832284867516,
         0.020276017772392182,
         0.017540829124690852,
         0.015354811918952353,
         0.01970808594464695,
         0.01612259085304169,
         0.018102415604062765,
         0.015057721019580913,
         0.01723787551596994,
         0.01527275835245277,
         0.01769339043412364,
         0.0146733370220468,
         0.019759937952454603,
         0.017071558323770414,
         0.018072100322022305,
         0.013782649903646093,
         0.014469418323467077
        ],
        [
         0.10240932699147758,
         0.10208320010501842,
         0.0942498900286563,
         0.10136195460890794,
         0.09886664701262851,
         0.0972166723970856,
         0.10439824883813982,
         0.09805144785673588,
         0.09273022945438113,
         0.1013754243635899,
         0.10429202780949992,
         0.095468785952438,
         0.09336939946953933,
         0.10396107465222285,
         0.10488776954544055,
         0.10122203771266844,
         0.10493762546835782,
         0.10243735929297937,
         0.10347314266028343,
         0.09823542852680404,
         0.0939854866304955,
         0.09707621654326265,
         0.10372437909245491,
         0.10023614232029233,
         0.10535410182042555,
         0.10298757359095208,
         0.10027606417606404,
         0.09667961848536868,
         0.09532710839691874,
         0.10925580377315545,
         0.08749155651826362,
         0.10506973710733575,
         0.08595949088453085,
         0.09595070561611807,
         0.09664716902975139,
         0.10154975205659866,
         0.09919292733750561,
         0.10111963373983836,
         0.08680463480678471,
         0.09566958940454892,
         0.10232723596227633,
         0.09931487386876886,
         0.09941781154990971,
         0.09216286643565476,
         0.10204806877904898,
         0.10206507291499671,
         0.10021678413953874,
         0.09719651772991403,
         0.09970601396514224,
         0.09737553178973786,
         0.0899946213058837,
         0.1045996949753978,
         0.0927477420440742,
         0.09654450629438673,
         0.09696738542867946,
         0.09420156215208692,
         0.10532126111256612,
         0.0950249269991726,
         0.09860644387927922,
         0.09956145094247995,
         0.09765279491419916,
         0.09817730270132616,
         0.09312355431256356,
         0.08693006528275353,
         0.09754259298954691,
         0.10748768863933426,
         0.10296602109326171,
         0.10510961188898459,
         0.09900976197382846,
         0.10824999266437121,
         0.0977404292721253,
         0.10208192564450301,
         0.10651276787960684,
         0.11381484592309246,
         0.10065343608329823,
         0.10267874606364927,
         0.1132886584896546,
         0.10049222523419114,
         0.09698631425763106,
         0.10192620425255268,
         0.09666663084130783,
         0.09619718175623324,
         0.099608703552709,
         0.0904331723977993,
         0.11151369777205702,
         0.10695030895823782,
         0.09656200046324498,
         0.11062939552130638,
         0.10534798649030847,
         0.10147784064923014,
         0.09872009244735365,
         0.10037755951672406,
         0.1002535636645633,
         0.10346537833283474,
         0.09276214493559552,
         0.10879789921757463,
         0.10804783190032105,
         0.10537727254551726,
         0.09092526362797657,
         0.09483982484739323
        ],
        [
         15.771036356687546,
         15.720812816172838,
         14.51448306441307,
         15.609741009771824,
         15.225463639944792,
         14.971367549151182,
         16.077330321073532,
         15.099922969937325,
         14.280455335974693,
         15.611815351992846,
         16.060972282662988,
         14.702193036675453,
         14.378887518309057,
         16.010005496442318,
         16.152716509997845,
         15.58819380775094,
         16.160394322127104,
         15.775353331118822,
         15.934863969683647,
         15.128255993127823,
         14.473764941096306,
         14.949737347662449,
         15.973554380238056,
         15.43636591732502,
         16.224531680345535,
         15.86008633300662,
         15.442513883113861,
         14.888661246746778,
         14.680374693125486,
         16.82539378106594,
         13.4736997038126,
         16.180739514529705,
         13.237761596217752,
         14.776408664882183,
         14.883664030581713,
         15.638661816716194,
         15.275710809975863,
         15.572423595935106,
         13.367913760244846,
         14.733116768300533,
         15.758394338190556,
         15.294490575790405,
         15.310342978686094,
         14.193081431090832,
         15.715402591973543,
         15.718021228909492,
         15.433384757488966,
         14.968263730406761,
         15.354726150631905,
         14.99583189561963,
         13.85917168110609,
         16.10835302621126,
         14.283152274787426,
         14.867853969335556,
         14.932977356016636,
         14.507040571421385,
         16.219474211335182,
         14.633838757872581,
         15.185392357409,
         15.332463445141912,
         15.03853041678667,
         15.119304616004229,
         14.341027364134789,
         13.387230053544044,
         15.021559320390224,
         16.553104050457478,
         15.856767248362303,
         16.186880230903625,
         15.247503343969584,
         16.670498870313168,
         15.052026107907295,
         15.720616549253464,
         16.402966253459454,
         17.52748627215624,
         15.500629156827927,
         15.812526893801987,
         17.446453407406807,
         15.475802686065435,
         14.935892395675182,
         15.696635454893112,
         14.886661149561405,
         14.814365990459919,
         15.339740347117186,
         13.926708549261093,
         17.173109456896782,
         16.470347579568624,
         14.870548071339726,
         17.03692691028118,
         16.223589919507504,
         15.627587459981441,
         15.202894236892462,
         15.458144165575504,
         15.439048804342747,
         15.93366826325655,
         14.28537032008171,
         16.754876479506493,
         16.63936611264944,
         16.22809997200966,
         14.002490598708391,
         14.605333026498556
        ],
        [
         1.6436392541542872,
         1.627584754974306,
         1.4586879764438867,
         1.64154122119122,
         1.603400140278453,
         1.5446101689650493,
         1.7287981637137801,
         1.5595231938267533,
         1.5215554526452366,
         1.6179934451507054,
         1.6327934683035648,
         1.6300407203080698,
         1.506869744841147,
         1.5871442054525564,
         1.6683795505762586,
         1.5625799537146015,
         1.7298394785066924,
         1.647792243967654,
         1.6565379098491197,
         1.5836533119187926,
         1.431741209499446,
         1.5451193245704653,
         1.7026758205685586,
         1.653302424918044,
         1.6600285073960137,
         1.5945690580511425,
         1.5600149826980745,
         1.5266954669025474,
         1.531373470699171,
         1.708742065102296,
         1.4758280660035024,
         1.68444247283881,
         1.4076421956247922,
         1.498808272955175,
         1.5819017231241328,
         1.6644388790413969,
         1.5249330190719734,
         1.6710386319127077,
         1.3771743083436583,
         1.609181539828098,
         1.615159958592856,
         1.5721470968855535,
         1.600103925524049,
         1.4426646378404648,
         1.5908694093498263,
         1.6343190109579804,
         1.6224360274711893,
         1.541158492090311,
         1.5505822170707515,
         1.4926646466650517,
         1.4590560456119372,
         1.6255328774377986,
         1.574018291759597,
         1.5558949324625104,
         1.5652446555589044,
         1.524913649770125,
         1.6915991840551527,
         1.4244088546893614,
         1.4896898503079365,
         1.6612892142797582,
         1.5882552915228605,
         1.5717542717419408,
         1.4921529814565093,
         1.4046698638914883,
         1.5501593237004145,
         1.7397183172425028,
         1.6035721108258896,
         1.6589298003405712,
         1.5687286935972355,
         1.6818001498621415,
         1.5552340491159704,
         1.5888416853747263,
         1.637668318553898,
         1.733497818659821,
         1.6154851185873746,
         1.6375279941916547,
         1.7479676122413819,
         1.500513766581276,
         1.5900956124613597,
         1.542052436139414,
         1.5504381689650542,
         1.51546490037757,
         1.599889410652771,
         1.477003104895043,
         1.7670616109656154,
         1.6435594559377493,
         1.5377389360742162,
         1.7421381218134313,
         1.5757153903444683,
         1.6696622421992016,
         1.5227898860366327,
         1.6293044004910104,
         1.5336247214614553,
         1.6506914087300026,
         1.5032278275082613,
         1.7444284005593373,
         1.621425293333197,
         1.6682636031489253,
         1.4568898672039345,
         1.4927459334441109
        ]
       ],
       "encoder": "json",
       "name": "ABC_GAN_4 Metrics",
       "version": 1
      }
     },
     "metadata": {
      "scrapbook": {
       "data": true,
       "display": false,
       "name": "ABC_GAN_4 Metrics"
      }
     },
     "output_type": "display_data"
    },
    {
     "name": "stdout",
     "output_type": "stream",
     "text": [
      "MAE\n",
      "0.09982164445345278\n"
     ]
    }
   ],
   "source": [
    "ABC_GAN4_metrics=ABC_train_test2.test_generator(gen4,test_data,prior_model,variance,bias,\"3\",device)\n",
    "sb.glue(\"ABC_GAN_4 Metrics\",ABC_GAN4_metrics)\n",
    "\n",
    "print(\"MAE\")\n",
    "print(mean(ABC_GAN4_metrics[1]))"
   ]
  },
  {
   "cell_type": "code",
   "execution_count": 26,
   "id": "4c906cf3",
   "metadata": {
    "execution": {
     "iopub.execute_input": "2022-07-25T10:11:37.099484Z",
     "iopub.status.busy": "2022-07-25T10:11:37.099024Z",
     "iopub.status.idle": "2022-07-25T10:11:38.025908Z",
     "shell.execute_reply": "2022-07-25T10:11:38.024887Z"
    },
    "id": "c8e46b48",
    "papermill": {
     "duration": 0.975436,
     "end_time": "2022-07-25T10:11:38.029008",
     "exception": false,
     "start_time": "2022-07-25T10:11:37.053572",
     "status": "completed"
    },
    "tags": []
   },
   "outputs": [
    {
     "data": {
      "image/png": "[encoded data removed]",
      "text/plain": [
       "<Figure size 432x288 with 1 Axes>"
      ]
     },
     "metadata": {
      "needs_background": "light"
     },
     "output_type": "display_data"
    },
    {
     "data": {
      "image/png": "[encoded data removed]",
      "text/plain": [
       "<Figure size 432x288 with 1 Axes>"
      ]
     },
     "metadata": {
      "needs_background": "light"
     },
     "output_type": "display_data"
    },
    {
     "data": {
      "image/png": "[encoded data removed]",
      "text/plain": [
       "<Figure size 432x288 with 1 Axes>"
      ]
     },
     "metadata": {
      "needs_background": "light"
     },
     "output_type": "display_data"
    },
    {
     "data": {
      "image/png": "[encoded data removed]",
      "text/plain": [
       "<Figure size 432x288 with 1 Axes>"
      ]
     },
     "metadata": {
      "needs_background": "light"
     },
     "output_type": "display_data"
    }
   ],
   "source": [
    "sanityChecks.discProbVsError(train_data,disc4,device)\n",
    "sanityChecks.discProbVsError(test_data,disc4,device)"
   ]
  },
  {
   "cell_type": "markdown",
   "id": "a5bd74c3",
   "metadata": {
    "id": "a5bd74c3",
    "papermill": {
     "duration": 0.048281,
     "end_time": "2022-07-25T10:11:38.127393",
     "exception": false,
     "start_time": "2022-07-25T10:11:38.079112",
     "status": "completed"
    },
    "tags": []
   },
   "source": [
    "## Skip Connection Model Analysis - ABC-GAN "
   ]
  },
  {
   "cell_type": "markdown",
   "id": "5744a8bf",
   "metadata": {
    "id": "5744a8bf",
    "papermill": {
     "duration": 0.077633,
     "end_time": "2022-07-25T10:11:38.253664",
     "exception": false,
     "start_time": "2022-07-25T10:11:38.176031",
     "status": "completed"
    },
    "tags": []
   },
   "source": [
    "### Weight Analysis \n",
    "\n",
    "Study the weights of the skip connection layer\n",
    "\n",
    "Equation of the skip connection is \n",
    "\n",
    "$output = y_{gan} * w + y_{abc} * (1-w)$"
   ]
  },
  {
   "cell_type": "code",
   "execution_count": 27,
   "id": "52c31dea",
   "metadata": {
    "execution": {
     "iopub.execute_input": "2022-07-25T10:11:38.421968Z",
     "iopub.status.busy": "2022-07-25T10:11:38.421008Z",
     "iopub.status.idle": "2022-07-25T10:11:38.469707Z",
     "shell.execute_reply": "2022-07-25T10:11:38.467681Z"
    },
    "id": "52c31dea",
    "papermill": {
     "duration": 0.156598,
     "end_time": "2022-07-25T10:11:38.483529",
     "exception": false,
     "start_time": "2022-07-25T10:11:38.326931",
     "status": "completed"
    },
    "tags": []
   },
   "outputs": [
    {
     "name": "stdout",
     "output_type": "stream",
     "text": [
      "Weight of the node at skip connection\n",
      "Parameter containing:\n",
      "tensor([[0.1474]], requires_grad=True)\n"
     ]
    },
    {
     "data": {
      "application/scrapbook.scrap.json+json": {
       "data": 0.14743171632289886,
       "encoder": "json",
       "name": "Skip Connection Weight",
       "version": 1
      }
     },
     "metadata": {
      "scrapbook": {
       "data": true,
       "display": false,
       "name": "Skip Connection Weight"
      }
     },
     "output_type": "display_data"
    }
   ],
   "source": [
    "print(\"Weight of the node at skip connection\")\n",
    "for name,param in gen3.named_parameters():\n",
    "    if(name == \"skipNode.weight\"):\n",
    "        print(param)\n",
    "        sb.glue(\"Skip Connection Weight\",param.item())"
   ]
  },
  {
   "cell_type": "markdown",
   "id": "191bc523",
   "metadata": {
    "id": "a5bd74c3",
    "papermill": {
     "duration": 0.050538,
     "end_time": "2022-07-25T10:11:38.592535",
     "exception": false,
     "start_time": "2022-07-25T10:11:38.541997",
     "status": "completed"
    },
    "tags": []
   },
   "source": [
    "## skipGAN Model Analysis (TabNet Generator) "
   ]
  },
  {
   "cell_type": "markdown",
   "id": "15317632",
   "metadata": {
    "id": "5744a8bf",
    "papermill": {
     "duration": 0.05054,
     "end_time": "2022-07-25T10:11:38.693129",
     "exception": false,
     "start_time": "2022-07-25T10:11:38.642589",
     "status": "completed"
    },
    "tags": []
   },
   "source": [
    "### Weight Analysis \n",
    "\n",
    "Study the weights of the skip connection layer\n",
    "\n",
    "Equation of the skip connection is \n",
    "\n",
    "$output = y_{gan} * w + y_{abc} * (1-w)$"
   ]
  },
  {
   "cell_type": "code",
   "execution_count": 28,
   "id": "bb73f37d",
   "metadata": {
    "execution": {
     "iopub.execute_input": "2022-07-25T10:11:38.799241Z",
     "iopub.status.busy": "2022-07-25T10:11:38.798783Z",
     "iopub.status.idle": "2022-07-25T10:11:38.812286Z",
     "shell.execute_reply": "2022-07-25T10:11:38.811137Z"
    },
    "id": "52c31dea",
    "papermill": {
     "duration": 0.074207,
     "end_time": "2022-07-25T10:11:38.815545",
     "exception": false,
     "start_time": "2022-07-25T10:11:38.741338",
     "status": "completed"
    },
    "tags": []
   },
   "outputs": [
    {
     "name": "stdout",
     "output_type": "stream",
     "text": [
      "Weight of the node at skip connection\n",
      "Parameter containing:\n",
      "tensor([[0.0420]], requires_grad=True)\n"
     ]
    },
    {
     "data": {
      "application/scrapbook.scrap.json+json": {
       "data": 0.042026299983263016,
       "encoder": "json",
       "name": "Skip Connection Weight",
       "version": 1
      }
     },
     "metadata": {
      "scrapbook": {
       "data": true,
       "display": false,
       "name": "Skip Connection Weight"
      }
     },
     "output_type": "display_data"
    }
   ],
   "source": [
    "print(\"Weight of the node at skip connection\")\n",
    "for name,param in gen4.named_parameters():\n",
    "    if(name == \"skipNode.weight\"):\n",
    "        print(param)\n",
    "        sb.glue(\"Skip Connection Weight\",param.item())"
   ]
  }
 ],
 "metadata": {
  "colab": {
   "collapsed_sections": [],
   "name": "ABC_GAN_Model-Catboost_Pre-gen.ipynb",
   "provenance": []
  },
  "interpreter": {
   "hash": "31f2aee4e71d21fbe5cf8b01ff0e069b9275f58929596ceb00d14d90e3e16cd6"
  },
  "kernelspec": {
   "display_name": "Python 3 (ipykernel)",
   "language": "python",
   "name": "python3"
  },
  "language_info": {
   "codemirror_mode": {
    "name": "ipython",
    "version": 3
   },
   "file_extension": ".py",
   "mimetype": "text/x-python",
   "name": "python",
   "nbconvert_exporter": "python",
   "pygments_lexer": "ipython3",
   "version": "3.8.13"
  },
  "papermill": {
   "default_parameters": {},
   "duration": 3857.038691,
   "end_time": "2022-07-25T10:11:40.916256",
   "environment_variables": {},
   "exception": null,
   "input_path": "ABC_GAN-TabNet.ipynb",
   "output_path": "./ABC_GAN_TabNet/ABC-GAN_output_1_7.ipynb",
   "parameters": {
    "bias": 0.01,
    "variance": 0.1
   },
   "start_time": "2022-07-25T09:07:23.877565",
   "version": "2.3.3"
  }
 },
 "nbformat": 4,
 "nbformat_minor": 5
}