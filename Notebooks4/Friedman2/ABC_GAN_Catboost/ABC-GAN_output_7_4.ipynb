{
 "cells": [
  {
   "cell_type": "markdown",
   "id": "622780e6",
   "metadata": {
    "id": "622780e6",
    "papermill": {
     "duration": 0.029502,
     "end_time": "2022-03-16T13:39:02.723687",
     "exception": false,
     "start_time": "2022-03-16T13:39:02.694185",
     "status": "completed"
    },
    "tags": []
   },
   "source": [
    "## Import Libraries "
   ]
  },
  {
   "cell_type": "code",
   "execution_count": 1,
   "id": "a62397e3",
   "metadata": {
    "execution": {
     "iopub.execute_input": "2022-03-16T13:39:02.763449Z",
     "iopub.status.busy": "2022-03-16T13:39:02.762867Z",
     "iopub.status.idle": "2022-03-16T13:39:02.765192Z",
     "shell.execute_reply": "2022-03-16T13:39:02.765528Z"
    },
    "id": "a62397e3",
    "papermill": {
     "duration": 0.02405,
     "end_time": "2022-03-16T13:39:02.765792",
     "exception": false,
     "start_time": "2022-03-16T13:39:02.741742",
     "status": "completed"
    },
    "tags": []
   },
   "outputs": [],
   "source": [
    "import warnings\n",
    "import sys\n",
    "sys.path.insert(0, '../../src')\n",
    "warnings.filterwarnings('ignore')"
   ]
  },
  {
   "cell_type": "code",
   "execution_count": 2,
   "id": "d6a4e155",
   "metadata": {
    "execution": {
     "iopub.execute_input": "2022-03-16T13:39:02.797959Z",
     "iopub.status.busy": "2022-03-16T13:39:02.797496Z",
     "iopub.status.idle": "2022-03-16T13:39:04.767568Z",
     "shell.execute_reply": "2022-03-16T13:39:04.767891Z"
    },
    "id": "d6a4e155",
    "papermill": {
     "duration": 1.982226,
     "end_time": "2022-03-16T13:39:04.768035",
     "exception": false,
     "start_time": "2022-03-16T13:39:02.785809",
     "status": "completed"
    },
    "tags": []
   },
   "outputs": [],
   "source": [
    "import ABC_train_test2\n",
    "import friedman2Dataset\n",
    "import network\n",
    "import dataset\n",
    "import sanityChecks\n",
    "import torch \n",
    "import scrapbook as sb\n",
    "from statistics import mean \n",
    "import catboost as ctb \n",
    "from sklearn.model_selection import train_test_split\n",
    "from sklearn.metrics import mean_squared_error,mean_absolute_error\n",
    "import numpy as np"
   ]
  },
  {
   "cell_type": "markdown",
   "id": "2fa5b0f7",
   "metadata": {
    "id": "2fa5b0f7",
    "papermill": {
     "duration": 0.008807,
     "end_time": "2022-03-16T13:39:04.786298",
     "exception": false,
     "start_time": "2022-03-16T13:39:04.777491",
     "status": "completed"
    },
    "tags": []
   },
   "source": [
    "## Parameters "
   ]
  },
  {
   "cell_type": "code",
   "execution_count": 3,
   "id": "783186fb",
   "metadata": {
    "execution": {
     "iopub.execute_input": "2022-03-16T13:39:04.806651Z",
     "iopub.status.busy": "2022-03-16T13:39:04.806191Z",
     "iopub.status.idle": "2022-03-16T13:39:04.807627Z",
     "shell.execute_reply": "2022-03-16T13:39:04.807943Z"
    },
    "id": "783186fb",
    "papermill": {
     "duration": 0.012959,
     "end_time": "2022-03-16T13:39:04.808088",
     "exception": false,
     "start_time": "2022-03-16T13:39:04.795129",
     "status": "completed"
    },
    "tags": [
     "parameters"
    ]
   },
   "outputs": [],
   "source": [
    "variance = 1\n",
    "bias = 1 "
   ]
  },
  {
   "cell_type": "code",
   "execution_count": 4,
   "id": "f002275b",
   "metadata": {
    "execution": {
     "iopub.execute_input": "2022-03-16T13:39:04.828639Z",
     "iopub.status.busy": "2022-03-16T13:39:04.828131Z",
     "iopub.status.idle": "2022-03-16T13:39:04.829552Z",
     "shell.execute_reply": "2022-03-16T13:39:04.829863Z"
    },
    "papermill": {
     "duration": 0.012769,
     "end_time": "2022-03-16T13:39:04.829989",
     "exception": false,
     "start_time": "2022-03-16T13:39:04.817220",
     "status": "completed"
    },
    "tags": [
     "injected-parameters"
    ]
   },
   "outputs": [],
   "source": [
    "# Parameters\n",
    "variance = 0.1\n",
    "bias = 0.1\n"
   ]
  },
  {
   "cell_type": "markdown",
   "id": "391cdbfd",
   "metadata": {
    "id": "391cdbfd",
    "papermill": {
     "duration": 0.008965,
     "end_time": "2022-03-16T13:39:04.848060",
     "exception": false,
     "start_time": "2022-03-16T13:39:04.839095",
     "status": "completed"
    },
    "tags": []
   },
   "source": [
    "## Dataset \n"
   ]
  },
  {
   "cell_type": "code",
   "execution_count": 5,
   "id": "5b51f161",
   "metadata": {
    "execution": {
     "iopub.execute_input": "2022-03-16T13:39:04.868408Z",
     "iopub.status.busy": "2022-03-16T13:39:04.867969Z",
     "iopub.status.idle": "2022-03-16T13:39:04.869455Z",
     "shell.execute_reply": "2022-03-16T13:39:04.869753Z"
    },
    "id": "5b51f161",
    "papermill": {
     "duration": 0.012828,
     "end_time": "2022-03-16T13:39:04.869878",
     "exception": false,
     "start_time": "2022-03-16T13:39:04.857050",
     "status": "completed"
    },
    "tags": []
   },
   "outputs": [],
   "source": [
    "#Parameters \n",
    "n_features = 4\n",
    "n_samples= 100\n",
    "n_target = 1 "
   ]
  },
  {
   "cell_type": "code",
   "execution_count": 6,
   "id": "5d6eced4",
   "metadata": {
    "execution": {
     "iopub.execute_input": "2022-03-16T13:39:04.891092Z",
     "iopub.status.busy": "2022-03-16T13:39:04.890386Z",
     "iopub.status.idle": "2022-03-16T13:39:04.897528Z",
     "shell.execute_reply": "2022-03-16T13:39:04.897840Z"
    },
    "id": "5d6eced4",
    "papermill": {
     "duration": 0.01885,
     "end_time": "2022-03-16T13:39:04.897988",
     "exception": false,
     "start_time": "2022-03-16T13:39:04.879138",
     "status": "completed"
    },
    "tags": []
   },
   "outputs": [
    {
     "name": "stdout",
     "output_type": "stream",
     "text": [
      "          X1           X2        X3         X4           Y\n",
      "0  13.777747   880.063141  0.539910   5.459574  475.331243\n",
      "1  93.458444   940.780442  0.469750   2.942942  451.701217\n",
      "2  43.963954  1113.293961  0.327452  10.714271  367.219221\n",
      "3  89.525617   299.496943  0.295201   2.550883  125.953555\n",
      "4   7.459564   534.274576  0.611497  10.962438  326.850505\n"
     ]
    }
   ],
   "source": [
    "X,Y = friedman2Dataset.friedman2_data(n_samples)"
   ]
  },
  {
   "cell_type": "code",
   "execution_count": 7,
   "id": "fe007438",
   "metadata": {
    "execution": {
     "iopub.execute_input": "2022-03-16T13:39:04.919980Z",
     "iopub.status.busy": "2022-03-16T13:39:04.919533Z",
     "iopub.status.idle": "2022-03-16T13:39:04.920933Z",
     "shell.execute_reply": "2022-03-16T13:39:04.921221Z"
    },
    "id": "fe007438",
    "papermill": {
     "duration": 0.013791,
     "end_time": "2022-03-16T13:39:04.921343",
     "exception": false,
     "start_time": "2022-03-16T13:39:04.907552",
     "status": "completed"
    },
    "tags": []
   },
   "outputs": [],
   "source": [
    "#Train test split for dataset \n",
    "X_train,X_test,Y_train,Y_test = train_test_split(X,Y,test_size = 0.2)\n",
    "train_data = dataset.CustomDataset(X_train,Y_train)\n",
    "test_data = dataset.CustomDataset(X_test,Y_test)\n"
   ]
  },
  {
   "cell_type": "markdown",
   "id": "a9a1af34",
   "metadata": {
    "id": "a9a1af34",
    "papermill": {
     "duration": 0.009464,
     "end_time": "2022-03-16T13:39:04.940636",
     "exception": false,
     "start_time": "2022-03-16T13:39:04.931172",
     "status": "completed"
    },
    "tags": []
   },
   "source": [
    "## Training Parameters "
   ]
  },
  {
   "cell_type": "code",
   "execution_count": 8,
   "id": "952b7fc8",
   "metadata": {
    "execution": {
     "iopub.execute_input": "2022-03-16T13:39:04.962489Z",
     "iopub.status.busy": "2022-03-16T13:39:04.962042Z",
     "iopub.status.idle": "2022-03-16T13:39:04.963418Z",
     "shell.execute_reply": "2022-03-16T13:39:04.963786Z"
    },
    "id": "952b7fc8",
    "papermill": {
     "duration": 0.013904,
     "end_time": "2022-03-16T13:39:04.963932",
     "exception": false,
     "start_time": "2022-03-16T13:39:04.950028",
     "status": "completed"
    },
    "tags": []
   },
   "outputs": [],
   "source": [
    "batch_size = 32\n",
    "n_epochs = 1000\n",
    "#Select the device \n",
    "device = torch.device('cuda' if torch.cuda.is_available() else 'cpu')"
   ]
  },
  {
   "cell_type": "markdown",
   "id": "a95e1600",
   "metadata": {
    "id": "a95e1600",
    "papermill": {
     "duration": 0.009839,
     "end_time": "2022-03-16T13:39:04.995753",
     "exception": false,
     "start_time": "2022-03-16T13:39:04.985914",
     "status": "completed"
    },
    "tags": []
   },
   "source": [
    "# ABC Pre-generator Model \n",
    "\n",
    "1. The catboost model is used as a pre-generator model for the ABC-GAN. \n",
    "2. The model is first trained on the entire dataset \n",
    "3. It generats X,Y pairs and we add some Gaussian noise with mean 0 and variance 1 to it which is then feed as input to the generator.\n"
   ]
  },
  {
   "cell_type": "code",
   "execution_count": 9,
   "id": "ff8ce7bd",
   "metadata": {
    "execution": {
     "iopub.execute_input": "2022-03-16T13:39:05.019734Z",
     "iopub.status.busy": "2022-03-16T13:39:05.019242Z",
     "iopub.status.idle": "2022-03-16T13:39:05.647661Z",
     "shell.execute_reply": "2022-03-16T13:39:05.648087Z"
    },
    "id": "ff8ce7bd",
    "papermill": {
     "duration": 0.642956,
     "end_time": "2022-03-16T13:39:05.648254",
     "exception": false,
     "start_time": "2022-03-16T13:39:05.005298",
     "status": "completed"
    },
    "tags": []
   },
   "outputs": [
    {
     "name": "stdout",
     "output_type": "stream",
     "text": [
      "Learning rate set to 0.024897\n",
      "0:\tlearn: 0.9681944\ttotal: 55.4ms\tremaining: 55.3s\n",
      "1:\tlearn: 0.9563864\ttotal: 56.1ms\tremaining: 28s\n",
      "2:\tlearn: 0.9465532\ttotal: 56.5ms\tremaining: 18.8s\n",
      "3:\tlearn: 0.9359694\ttotal: 57ms\tremaining: 14.2s\n",
      "4:\tlearn: 0.9236349\ttotal: 57.6ms\tremaining: 11.5s\n",
      "5:\tlearn: 0.9137353\ttotal: 58.2ms\tremaining: 9.64s\n",
      "6:\tlearn: 0.9023929\ttotal: 58.6ms\tremaining: 8.32s\n",
      "7:\tlearn: 0.8911517\ttotal: 59.1ms\tremaining: 7.33s\n",
      "8:\tlearn: 0.8801899\ttotal: 59.5ms\tremaining: 6.56s\n",
      "9:\tlearn: 0.8689485\ttotal: 59.9ms\tremaining: 5.93s\n",
      "10:\tlearn: 0.8582027\ttotal: 60.3ms\tremaining: 5.42s\n",
      "11:\tlearn: 0.8444367\ttotal: 60.9ms\tremaining: 5.01s\n",
      "12:\tlearn: 0.8328874\ttotal: 61.4ms\tremaining: 4.66s\n",
      "13:\tlearn: 0.8218160\ttotal: 62ms\tremaining: 4.36s\n",
      "14:\tlearn: 0.8104275\ttotal: 62.3ms\tremaining: 4.09s\n",
      "15:\tlearn: 0.8003615\ttotal: 62.7ms\tremaining: 3.86s\n",
      "16:\tlearn: 0.7902589\ttotal: 63.1ms\tremaining: 3.65s\n",
      "17:\tlearn: 0.7806553\ttotal: 63.7ms\tremaining: 3.47s\n",
      "18:\tlearn: 0.7737108\ttotal: 64.2ms\tremaining: 3.31s\n",
      "19:\tlearn: 0.7633773\ttotal: 64.6ms\tremaining: 3.16s\n",
      "20:\tlearn: 0.7519296\ttotal: 64.9ms\tremaining: 3.03s\n",
      "21:\tlearn: 0.7430155\ttotal: 65.4ms\tremaining: 2.91s\n",
      "22:\tlearn: 0.7345397\ttotal: 65.8ms\tremaining: 2.79s\n",
      "23:\tlearn: 0.7256660\ttotal: 66.4ms\tremaining: 2.7s\n",
      "24:\tlearn: 0.7173696\ttotal: 66.8ms\tremaining: 2.61s\n",
      "25:\tlearn: 0.7084809\ttotal: 67.3ms\tremaining: 2.52s\n",
      "26:\tlearn: 0.7010108\ttotal: 67.8ms\tremaining: 2.44s\n",
      "27:\tlearn: 0.6949614\ttotal: 68.2ms\tremaining: 2.37s\n",
      "28:\tlearn: 0.6850014\ttotal: 68.6ms\tremaining: 2.3s\n",
      "29:\tlearn: 0.6760241\ttotal: 69ms\tremaining: 2.23s\n",
      "30:\tlearn: 0.6684261\ttotal: 69.5ms\tremaining: 2.17s\n",
      "31:\tlearn: 0.6610365\ttotal: 70ms\tremaining: 2.12s\n",
      "32:\tlearn: 0.6534707\ttotal: 70.4ms\tremaining: 2.06s\n",
      "33:\tlearn: 0.6463121\ttotal: 70.9ms\tremaining: 2.01s\n",
      "34:\tlearn: 0.6391149\ttotal: 71.3ms\tremaining: 1.97s\n"
     ]
    },
    {
     "name": "stdout",
     "output_type": "stream",
     "text": [
      "35:\tlearn: 0.6308761\ttotal: 72ms\tremaining: 1.93s\n",
      "36:\tlearn: 0.6220105\ttotal: 72.5ms\tremaining: 1.89s\n",
      "37:\tlearn: 0.6140069\ttotal: 73ms\tremaining: 1.85s\n",
      "38:\tlearn: 0.6076308\ttotal: 73.5ms\tremaining: 1.81s\n",
      "39:\tlearn: 0.5995826\ttotal: 73.9ms\tremaining: 1.77s\n",
      "40:\tlearn: 0.5911242\ttotal: 74.4ms\tremaining: 1.74s\n",
      "41:\tlearn: 0.5845282\ttotal: 74.9ms\tremaining: 1.71s\n",
      "42:\tlearn: 0.5772054\ttotal: 75.5ms\tremaining: 1.68s\n",
      "43:\tlearn: 0.5701286\ttotal: 75.9ms\tremaining: 1.65s\n",
      "44:\tlearn: 0.5657003\ttotal: 76.3ms\tremaining: 1.62s\n",
      "45:\tlearn: 0.5582759\ttotal: 76.8ms\tremaining: 1.59s\n",
      "46:\tlearn: 0.5499334\ttotal: 77.3ms\tremaining: 1.57s\n",
      "47:\tlearn: 0.5440572\ttotal: 77.7ms\tremaining: 1.54s\n",
      "48:\tlearn: 0.5387653\ttotal: 78.2ms\tremaining: 1.52s\n",
      "49:\tlearn: 0.5321743\ttotal: 78.6ms\tremaining: 1.49s\n",
      "50:\tlearn: 0.5274022\ttotal: 79ms\tremaining: 1.47s\n",
      "51:\tlearn: 0.5207600\ttotal: 79.3ms\tremaining: 1.45s\n",
      "52:\tlearn: 0.5145951\ttotal: 79.7ms\tremaining: 1.42s\n",
      "53:\tlearn: 0.5082223\ttotal: 80.2ms\tremaining: 1.41s\n",
      "54:\tlearn: 0.5017962\ttotal: 80.6ms\tremaining: 1.39s\n",
      "55:\tlearn: 0.4961899\ttotal: 81ms\tremaining: 1.36s\n",
      "56:\tlearn: 0.4893223\ttotal: 81.4ms\tremaining: 1.35s\n",
      "57:\tlearn: 0.4824060\ttotal: 81.9ms\tremaining: 1.33s\n",
      "58:\tlearn: 0.4752912\ttotal: 82.5ms\tremaining: 1.32s\n",
      "59:\tlearn: 0.4691610\ttotal: 82.9ms\tremaining: 1.3s\n",
      "60:\tlearn: 0.4632324\ttotal: 83.4ms\tremaining: 1.28s\n",
      "61:\tlearn: 0.4578580\ttotal: 83.7ms\tremaining: 1.27s\n",
      "62:\tlearn: 0.4534944\ttotal: 84.1ms\tremaining: 1.25s\n",
      "63:\tlearn: 0.4469390\ttotal: 84.5ms\tremaining: 1.24s\n",
      "64:\tlearn: 0.4426028\ttotal: 85.1ms\tremaining: 1.22s\n",
      "65:\tlearn: 0.4374818\ttotal: 85.4ms\tremaining: 1.21s\n",
      "66:\tlearn: 0.4326410\ttotal: 85.9ms\tremaining: 1.2s\n",
      "67:\tlearn: 0.4280191\ttotal: 86.3ms\tremaining: 1.18s\n",
      "68:\tlearn: 0.4217156\ttotal: 86.8ms\tremaining: 1.17s\n",
      "69:\tlearn: 0.4156860\ttotal: 87.3ms\tremaining: 1.16s\n",
      "70:\tlearn: 0.4096901\ttotal: 88ms\tremaining: 1.15s\n",
      "71:\tlearn: 0.4059535\ttotal: 88.7ms\tremaining: 1.14s\n",
      "72:\tlearn: 0.4012381\ttotal: 89.2ms\tremaining: 1.13s\n",
      "73:\tlearn: 0.3966181\ttotal: 89.6ms\tremaining: 1.12s\n",
      "74:\tlearn: 0.3913165\ttotal: 90ms\tremaining: 1.11s\n",
      "75:\tlearn: 0.3869046\ttotal: 90.4ms\tremaining: 1.1s\n",
      "76:\tlearn: 0.3828523\ttotal: 91ms\tremaining: 1.09s\n",
      "77:\tlearn: 0.3780599\ttotal: 91.4ms\tremaining: 1.08s\n",
      "78:\tlearn: 0.3739228\ttotal: 91.8ms\tremaining: 1.07s\n",
      "79:\tlearn: 0.3691161\ttotal: 92.2ms\tremaining: 1.06s\n",
      "80:\tlearn: 0.3655618\ttotal: 92.6ms\tremaining: 1.05s\n",
      "81:\tlearn: 0.3617880\ttotal: 93.1ms\tremaining: 1.04s\n",
      "82:\tlearn: 0.3576303\ttotal: 93.4ms\tremaining: 1.03s\n",
      "83:\tlearn: 0.3538038\ttotal: 93.9ms\tremaining: 1.02s\n",
      "84:\tlearn: 0.3508377\ttotal: 94.3ms\tremaining: 1.01s\n",
      "85:\tlearn: 0.3465996\ttotal: 94.7ms\tremaining: 1.01s\n",
      "86:\tlearn: 0.3431555\ttotal: 95.1ms\tremaining: 998ms\n",
      "87:\tlearn: 0.3394645\ttotal: 95.5ms\tremaining: 989ms\n",
      "88:\tlearn: 0.3359804\ttotal: 95.8ms\tremaining: 980ms\n",
      "89:\tlearn: 0.3333121\ttotal: 96.2ms\tremaining: 973ms\n",
      "90:\tlearn: 0.3298935\ttotal: 96.6ms\tremaining: 965ms\n",
      "91:\tlearn: 0.3263729\ttotal: 97.1ms\tremaining: 958ms\n",
      "92:\tlearn: 0.3230575\ttotal: 97.5ms\tremaining: 951ms\n",
      "93:\tlearn: 0.3198530\ttotal: 98ms\tremaining: 944ms\n",
      "94:\tlearn: 0.3170876\ttotal: 98.4ms\tremaining: 938ms\n",
      "95:\tlearn: 0.3137376\ttotal: 98.8ms\tremaining: 930ms\n",
      "96:\tlearn: 0.3105871\ttotal: 99.2ms\tremaining: 923ms\n",
      "97:\tlearn: 0.3071450\ttotal: 99.6ms\tremaining: 917ms\n",
      "98:\tlearn: 0.3038660\ttotal: 100ms\tremaining: 912ms\n",
      "99:\tlearn: 0.3005992\ttotal: 101ms\tremaining: 907ms\n",
      "100:\tlearn: 0.2973487\ttotal: 101ms\tremaining: 900ms\n",
      "101:\tlearn: 0.2939390\ttotal: 102ms\tremaining: 894ms\n",
      "102:\tlearn: 0.2909399\ttotal: 102ms\tremaining: 889ms\n",
      "103:\tlearn: 0.2874431\ttotal: 103ms\tremaining: 885ms\n",
      "104:\tlearn: 0.2842341\ttotal: 103ms\tremaining: 879ms\n",
      "105:\tlearn: 0.2814563\ttotal: 104ms\tremaining: 873ms\n",
      "106:\tlearn: 0.2782782\ttotal: 104ms\tremaining: 867ms\n",
      "107:\tlearn: 0.2753907\ttotal: 104ms\tremaining: 862ms\n",
      "108:\tlearn: 0.2723171\ttotal: 105ms\tremaining: 856ms\n",
      "109:\tlearn: 0.2694332\ttotal: 105ms\tremaining: 851ms\n",
      "110:\tlearn: 0.2667509\ttotal: 106ms\tremaining: 846ms\n",
      "111:\tlearn: 0.2642785\ttotal: 106ms\tremaining: 841ms\n",
      "112:\tlearn: 0.2624604\ttotal: 107ms\tremaining: 836ms\n",
      "113:\tlearn: 0.2595349\ttotal: 107ms\tremaining: 831ms\n",
      "114:\tlearn: 0.2568348\ttotal: 107ms\tremaining: 827ms\n",
      "115:\tlearn: 0.2548512\ttotal: 108ms\tremaining: 822ms\n",
      "116:\tlearn: 0.2524376\ttotal: 108ms\tremaining: 818ms\n",
      "117:\tlearn: 0.2500585\ttotal: 109ms\tremaining: 813ms\n",
      "118:\tlearn: 0.2476806\ttotal: 109ms\tremaining: 808ms\n",
      "119:\tlearn: 0.2453502\ttotal: 110ms\tremaining: 804ms\n",
      "120:\tlearn: 0.2429566\ttotal: 110ms\tremaining: 799ms\n",
      "121:\tlearn: 0.2409062\ttotal: 110ms\tremaining: 795ms\n",
      "122:\tlearn: 0.2384433\ttotal: 111ms\tremaining: 790ms\n",
      "123:\tlearn: 0.2358824\ttotal: 111ms\tremaining: 786ms\n",
      "124:\tlearn: 0.2328782\ttotal: 112ms\tremaining: 783ms\n",
      "125:\tlearn: 0.2311014\ttotal: 112ms\tremaining: 778ms\n",
      "126:\tlearn: 0.2286187\ttotal: 113ms\tremaining: 774ms\n",
      "127:\tlearn: 0.2264951\ttotal: 113ms\tremaining: 769ms\n",
      "128:\tlearn: 0.2249181\ttotal: 113ms\tremaining: 766ms\n",
      "129:\tlearn: 0.2233670\ttotal: 114ms\tremaining: 762ms\n",
      "130:\tlearn: 0.2211594\ttotal: 114ms\tremaining: 759ms\n",
      "131:\tlearn: 0.2196638\ttotal: 115ms\tremaining: 756ms\n",
      "132:\tlearn: 0.2178748\ttotal: 116ms\tremaining: 754ms\n",
      "133:\tlearn: 0.2154409\ttotal: 116ms\tremaining: 751ms\n",
      "134:\tlearn: 0.2138421\ttotal: 117ms\tremaining: 748ms\n",
      "135:\tlearn: 0.2130685\ttotal: 117ms\tremaining: 744ms\n",
      "136:\tlearn: 0.2114460\ttotal: 118ms\tremaining: 740ms\n",
      "137:\tlearn: 0.2099726\ttotal: 118ms\tremaining: 737ms\n",
      "138:\tlearn: 0.2079882\ttotal: 118ms\tremaining: 733ms\n",
      "139:\tlearn: 0.2063363\ttotal: 119ms\tremaining: 730ms\n",
      "140:\tlearn: 0.2038868\ttotal: 119ms\tremaining: 727ms\n",
      "141:\tlearn: 0.2017225\ttotal: 120ms\tremaining: 723ms\n",
      "142:\tlearn: 0.2000283\ttotal: 120ms\tremaining: 720ms\n",
      "143:\tlearn: 0.1979900\ttotal: 121ms\tremaining: 716ms\n",
      "144:\tlearn: 0.1961720\ttotal: 121ms\tremaining: 713ms\n",
      "145:\tlearn: 0.1939868\ttotal: 121ms\tremaining: 710ms\n",
      "146:\tlearn: 0.1922065\ttotal: 122ms\tremaining: 706ms\n",
      "147:\tlearn: 0.1901313\ttotal: 122ms\tremaining: 703ms\n",
      "148:\tlearn: 0.1882901\ttotal: 122ms\tremaining: 700ms\n",
      "149:\tlearn: 0.1866959\ttotal: 123ms\tremaining: 696ms\n",
      "150:\tlearn: 0.1848233\ttotal: 123ms\tremaining: 693ms\n",
      "151:\tlearn: 0.1831366\ttotal: 124ms\tremaining: 690ms\n",
      "152:\tlearn: 0.1815278\ttotal: 124ms\tremaining: 687ms\n",
      "153:\tlearn: 0.1796800\ttotal: 124ms\tremaining: 684ms\n",
      "154:\tlearn: 0.1780024\ttotal: 125ms\tremaining: 681ms\n",
      "155:\tlearn: 0.1759302\ttotal: 125ms\tremaining: 678ms\n",
      "156:\tlearn: 0.1745164\ttotal: 126ms\tremaining: 675ms\n",
      "157:\tlearn: 0.1730522\ttotal: 126ms\tremaining: 673ms\n",
      "158:\tlearn: 0.1718588\ttotal: 127ms\tremaining: 670ms\n",
      "159:\tlearn: 0.1703966\ttotal: 127ms\tremaining: 666ms\n",
      "160:\tlearn: 0.1689024\ttotal: 127ms\tremaining: 663ms\n",
      "161:\tlearn: 0.1671551\ttotal: 128ms\tremaining: 660ms\n",
      "162:\tlearn: 0.1655730\ttotal: 128ms\tremaining: 658ms\n",
      "163:\tlearn: 0.1641252\ttotal: 128ms\tremaining: 654ms\n",
      "164:\tlearn: 0.1626363\ttotal: 129ms\tremaining: 652ms\n",
      "165:\tlearn: 0.1610692\ttotal: 129ms\tremaining: 649ms\n",
      "166:\tlearn: 0.1599558\ttotal: 130ms\tremaining: 646ms\n",
      "167:\tlearn: 0.1586229\ttotal: 130ms\tremaining: 643ms\n",
      "168:\tlearn: 0.1574723\ttotal: 130ms\tremaining: 641ms\n",
      "169:\tlearn: 0.1556612\ttotal: 131ms\tremaining: 639ms\n",
      "170:\tlearn: 0.1544150\ttotal: 131ms\tremaining: 637ms\n",
      "171:\tlearn: 0.1526462\ttotal: 132ms\tremaining: 634ms\n",
      "172:\tlearn: 0.1511241\ttotal: 132ms\tremaining: 632ms\n",
      "173:\tlearn: 0.1496859\ttotal: 133ms\tremaining: 630ms\n",
      "174:\tlearn: 0.1485632\ttotal: 133ms\tremaining: 628ms\n",
      "175:\tlearn: 0.1475524\ttotal: 134ms\tremaining: 625ms\n",
      "176:\tlearn: 0.1461008\ttotal: 134ms\tremaining: 624ms\n",
      "177:\tlearn: 0.1448047\ttotal: 135ms\tremaining: 621ms\n",
      "178:\tlearn: 0.1437003\ttotal: 135ms\tremaining: 619ms\n",
      "179:\tlearn: 0.1425166\ttotal: 135ms\tremaining: 617ms\n",
      "180:\tlearn: 0.1411906\ttotal: 136ms\tremaining: 615ms\n",
      "181:\tlearn: 0.1399319\ttotal: 136ms\tremaining: 612ms\n",
      "182:\tlearn: 0.1385468\ttotal: 137ms\tremaining: 610ms\n",
      "183:\tlearn: 0.1374923\ttotal: 137ms\tremaining: 608ms\n",
      "184:\tlearn: 0.1362576\ttotal: 137ms\tremaining: 605ms\n",
      "185:\tlearn: 0.1348411\ttotal: 138ms\tremaining: 603ms\n",
      "186:\tlearn: 0.1335969\ttotal: 138ms\tremaining: 601ms\n",
      "187:\tlearn: 0.1325933\ttotal: 139ms\tremaining: 598ms\n",
      "188:\tlearn: 0.1314619\ttotal: 139ms\tremaining: 596ms\n",
      "189:\tlearn: 0.1303947\ttotal: 139ms\tremaining: 594ms\n",
      "190:\tlearn: 0.1292120\ttotal: 140ms\tremaining: 592ms\n",
      "191:\tlearn: 0.1282555\ttotal: 140ms\tremaining: 590ms\n",
      "192:\tlearn: 0.1272317\ttotal: 141ms\tremaining: 589ms\n",
      "193:\tlearn: 0.1261207\ttotal: 141ms\tremaining: 586ms\n",
      "194:\tlearn: 0.1249372\ttotal: 142ms\tremaining: 584ms\n",
      "195:\tlearn: 0.1238801\ttotal: 142ms\tremaining: 582ms\n",
      "196:\tlearn: 0.1227511\ttotal: 142ms\tremaining: 580ms\n",
      "197:\tlearn: 0.1217058\ttotal: 144ms\tremaining: 581ms\n",
      "198:\tlearn: 0.1207701\ttotal: 144ms\tremaining: 579ms\n",
      "199:\tlearn: 0.1197386\ttotal: 144ms\tremaining: 577ms\n",
      "200:\tlearn: 0.1185561\ttotal: 145ms\tremaining: 575ms\n",
      "201:\tlearn: 0.1175130\ttotal: 145ms\tremaining: 573ms\n",
      "202:\tlearn: 0.1164951\ttotal: 145ms\tremaining: 571ms\n",
      "203:\tlearn: 0.1153392\ttotal: 146ms\tremaining: 568ms\n",
      "204:\tlearn: 0.1142601\ttotal: 146ms\tremaining: 566ms\n",
      "205:\tlearn: 0.1131304\ttotal: 146ms\tremaining: 564ms\n",
      "206:\tlearn: 0.1121283\ttotal: 147ms\tremaining: 563ms\n",
      "207:\tlearn: 0.1111631\ttotal: 147ms\tremaining: 561ms\n",
      "208:\tlearn: 0.1102575\ttotal: 148ms\tremaining: 559ms\n",
      "209:\tlearn: 0.1092150\ttotal: 148ms\tremaining: 557ms\n",
      "210:\tlearn: 0.1081773\ttotal: 148ms\tremaining: 554ms\n",
      "211:\tlearn: 0.1072095\ttotal: 149ms\tremaining: 553ms\n",
      "212:\tlearn: 0.1062579\ttotal: 149ms\tremaining: 551ms\n",
      "213:\tlearn: 0.1054588\ttotal: 150ms\tremaining: 550ms\n",
      "214:\tlearn: 0.1044479\ttotal: 150ms\tremaining: 548ms\n",
      "215:\tlearn: 0.1036174\ttotal: 151ms\tremaining: 547ms\n",
      "216:\tlearn: 0.1026371\ttotal: 151ms\tremaining: 545ms\n",
      "217:\tlearn: 0.1016444\ttotal: 151ms\tremaining: 543ms\n",
      "218:\tlearn: 0.1008348\ttotal: 152ms\tremaining: 541ms\n",
      "219:\tlearn: 0.1000012\ttotal: 152ms\tremaining: 539ms\n",
      "220:\tlearn: 0.0991264\ttotal: 153ms\tremaining: 538ms\n",
      "221:\tlearn: 0.0982504\ttotal: 153ms\tremaining: 536ms\n",
      "222:\tlearn: 0.0974548\ttotal: 153ms\tremaining: 534ms\n",
      "223:\tlearn: 0.0966028\ttotal: 154ms\tremaining: 533ms\n",
      "224:\tlearn: 0.0957654\ttotal: 154ms\tremaining: 531ms\n",
      "225:\tlearn: 0.0950663\ttotal: 155ms\tremaining: 529ms\n",
      "226:\tlearn: 0.0943218\ttotal: 155ms\tremaining: 528ms\n",
      "227:\tlearn: 0.0936321\ttotal: 156ms\tremaining: 527ms\n",
      "228:\tlearn: 0.0928400\ttotal: 156ms\tremaining: 525ms\n",
      "229:\tlearn: 0.0921202\ttotal: 157ms\tremaining: 524ms\n",
      "230:\tlearn: 0.0913622\ttotal: 157ms\tremaining: 523ms\n",
      "231:\tlearn: 0.0907438\ttotal: 158ms\tremaining: 521ms\n",
      "232:\tlearn: 0.0899832\ttotal: 158ms\tremaining: 520ms\n",
      "233:\tlearn: 0.0892097\ttotal: 158ms\tremaining: 519ms\n",
      "234:\tlearn: 0.0885194\ttotal: 159ms\tremaining: 517ms\n",
      "235:\tlearn: 0.0880824\ttotal: 159ms\tremaining: 515ms\n",
      "236:\tlearn: 0.0874401\ttotal: 160ms\tremaining: 514ms\n",
      "237:\tlearn: 0.0868338\ttotal: 160ms\tremaining: 513ms\n",
      "238:\tlearn: 0.0861500\ttotal: 160ms\tremaining: 511ms\n",
      "239:\tlearn: 0.0854033\ttotal: 161ms\tremaining: 510ms\n",
      "240:\tlearn: 0.0847903\ttotal: 161ms\tremaining: 508ms\n",
      "241:\tlearn: 0.0841474\ttotal: 162ms\tremaining: 506ms\n",
      "242:\tlearn: 0.0834794\ttotal: 162ms\tremaining: 504ms\n",
      "243:\tlearn: 0.0828487\ttotal: 162ms\tremaining: 503ms\n",
      "244:\tlearn: 0.0821456\ttotal: 163ms\tremaining: 501ms\n",
      "245:\tlearn: 0.0814527\ttotal: 163ms\tremaining: 500ms\n",
      "246:\tlearn: 0.0808730\ttotal: 164ms\tremaining: 499ms\n",
      "247:\tlearn: 0.0802121\ttotal: 164ms\tremaining: 497ms\n",
      "248:\tlearn: 0.0796079\ttotal: 165ms\tremaining: 496ms\n",
      "249:\tlearn: 0.0789447\ttotal: 165ms\tremaining: 495ms\n",
      "250:\tlearn: 0.0783730\ttotal: 165ms\tremaining: 494ms\n",
      "251:\tlearn: 0.0778968\ttotal: 166ms\tremaining: 492ms\n",
      "252:\tlearn: 0.0773782\ttotal: 166ms\tremaining: 491ms\n",
      "253:\tlearn: 0.0769315\ttotal: 167ms\tremaining: 489ms\n",
      "254:\tlearn: 0.0763851\ttotal: 167ms\tremaining: 487ms\n",
      "255:\tlearn: 0.0757802\ttotal: 167ms\tremaining: 486ms\n",
      "256:\tlearn: 0.0752599\ttotal: 168ms\tremaining: 485ms\n",
      "257:\tlearn: 0.0749193\ttotal: 168ms\tremaining: 483ms\n",
      "258:\tlearn: 0.0744301\ttotal: 168ms\tremaining: 482ms\n",
      "259:\tlearn: 0.0738342\ttotal: 169ms\tremaining: 481ms\n",
      "260:\tlearn: 0.0732771\ttotal: 169ms\tremaining: 479ms\n",
      "261:\tlearn: 0.0726331\ttotal: 170ms\tremaining: 478ms\n",
      "262:\tlearn: 0.0721331\ttotal: 170ms\tremaining: 477ms\n",
      "263:\tlearn: 0.0716593\ttotal: 171ms\tremaining: 476ms\n",
      "264:\tlearn: 0.0713394\ttotal: 171ms\tremaining: 474ms\n",
      "265:\tlearn: 0.0709321\ttotal: 171ms\tremaining: 473ms\n",
      "266:\tlearn: 0.0704519\ttotal: 172ms\tremaining: 472ms\n",
      "267:\tlearn: 0.0698875\ttotal: 172ms\tremaining: 471ms\n",
      "268:\tlearn: 0.0694584\ttotal: 173ms\tremaining: 470ms\n",
      "269:\tlearn: 0.0691839\ttotal: 173ms\tremaining: 469ms\n",
      "270:\tlearn: 0.0687864\ttotal: 174ms\tremaining: 468ms\n",
      "271:\tlearn: 0.0685073\ttotal: 174ms\tremaining: 467ms\n",
      "272:\tlearn: 0.0680383\ttotal: 175ms\tremaining: 465ms\n",
      "273:\tlearn: 0.0677780\ttotal: 175ms\tremaining: 464ms\n",
      "274:\tlearn: 0.0673196\ttotal: 176ms\tremaining: 463ms\n",
      "275:\tlearn: 0.0670225\ttotal: 176ms\tremaining: 461ms\n",
      "276:\tlearn: 0.0666009\ttotal: 176ms\tremaining: 460ms\n",
      "277:\tlearn: 0.0662829\ttotal: 177ms\tremaining: 459ms\n",
      "278:\tlearn: 0.0658507\ttotal: 178ms\tremaining: 459ms\n",
      "279:\tlearn: 0.0653832\ttotal: 178ms\tremaining: 457ms\n",
      "280:\tlearn: 0.0650533\ttotal: 178ms\tremaining: 456ms\n",
      "281:\tlearn: 0.0648257\ttotal: 179ms\tremaining: 455ms\n",
      "282:\tlearn: 0.0646275\ttotal: 179ms\tremaining: 454ms\n",
      "283:\tlearn: 0.0643349\ttotal: 180ms\tremaining: 453ms\n",
      "284:\tlearn: 0.0641423\ttotal: 180ms\tremaining: 452ms\n",
      "285:\tlearn: 0.0637284\ttotal: 180ms\tremaining: 451ms\n",
      "286:\tlearn: 0.0632252\ttotal: 181ms\tremaining: 449ms\n",
      "287:\tlearn: 0.0630365\ttotal: 181ms\tremaining: 448ms\n",
      "288:\tlearn: 0.0626045\ttotal: 182ms\tremaining: 448ms\n",
      "289:\tlearn: 0.0621977\ttotal: 182ms\tremaining: 447ms\n",
      "290:\tlearn: 0.0618616\ttotal: 183ms\tremaining: 446ms\n",
      "291:\tlearn: 0.0616260\ttotal: 183ms\tremaining: 445ms\n"
     ]
    },
    {
     "name": "stdout",
     "output_type": "stream",
     "text": [
      "292:\tlearn: 0.0614138\ttotal: 184ms\tremaining: 444ms\n",
      "293:\tlearn: 0.0609722\ttotal: 185ms\tremaining: 444ms\n",
      "294:\tlearn: 0.0607880\ttotal: 185ms\tremaining: 443ms\n",
      "295:\tlearn: 0.0603608\ttotal: 186ms\tremaining: 443ms\n",
      "296:\tlearn: 0.0601402\ttotal: 187ms\tremaining: 442ms\n",
      "297:\tlearn: 0.0599609\ttotal: 187ms\tremaining: 441ms\n",
      "298:\tlearn: 0.0595550\ttotal: 188ms\tremaining: 440ms\n",
      "299:\tlearn: 0.0593533\ttotal: 188ms\tremaining: 439ms\n",
      "300:\tlearn: 0.0591510\ttotal: 189ms\tremaining: 438ms\n",
      "301:\tlearn: 0.0589504\ttotal: 189ms\tremaining: 437ms\n",
      "302:\tlearn: 0.0584893\ttotal: 190ms\tremaining: 436ms\n",
      "303:\tlearn: 0.0580508\ttotal: 190ms\tremaining: 435ms\n",
      "304:\tlearn: 0.0578858\ttotal: 191ms\tremaining: 435ms\n",
      "305:\tlearn: 0.0577197\ttotal: 191ms\tremaining: 434ms\n",
      "306:\tlearn: 0.0574975\ttotal: 192ms\tremaining: 433ms\n",
      "307:\tlearn: 0.0573229\ttotal: 192ms\tremaining: 432ms\n",
      "308:\tlearn: 0.0571645\ttotal: 193ms\tremaining: 431ms\n",
      "309:\tlearn: 0.0569912\ttotal: 193ms\tremaining: 430ms\n",
      "310:\tlearn: 0.0566201\ttotal: 194ms\tremaining: 430ms\n",
      "311:\tlearn: 0.0564664\ttotal: 195ms\tremaining: 430ms\n",
      "312:\tlearn: 0.0563111\ttotal: 196ms\tremaining: 429ms\n",
      "313:\tlearn: 0.0561604\ttotal: 196ms\tremaining: 429ms\n",
      "314:\tlearn: 0.0560038\ttotal: 197ms\tremaining: 428ms\n",
      "315:\tlearn: 0.0558376\ttotal: 197ms\tremaining: 427ms\n",
      "316:\tlearn: 0.0556356\ttotal: 198ms\tremaining: 426ms\n",
      "317:\tlearn: 0.0554877\ttotal: 198ms\tremaining: 425ms\n",
      "318:\tlearn: 0.0553110\ttotal: 199ms\tremaining: 424ms\n",
      "319:\tlearn: 0.0551201\ttotal: 199ms\tremaining: 423ms\n",
      "320:\tlearn: 0.0549421\ttotal: 200ms\tremaining: 422ms\n",
      "321:\tlearn: 0.0546323\ttotal: 200ms\tremaining: 421ms\n",
      "322:\tlearn: 0.0544981\ttotal: 200ms\tremaining: 420ms\n",
      "323:\tlearn: 0.0543713\ttotal: 201ms\tremaining: 419ms\n",
      "324:\tlearn: 0.0541909\ttotal: 201ms\tremaining: 418ms\n",
      "325:\tlearn: 0.0540236\ttotal: 202ms\tremaining: 417ms\n",
      "326:\tlearn: 0.0538793\ttotal: 202ms\tremaining: 416ms\n",
      "327:\tlearn: 0.0537460\ttotal: 202ms\tremaining: 415ms\n",
      "328:\tlearn: 0.0536081\ttotal: 203ms\tremaining: 414ms\n",
      "329:\tlearn: 0.0534682\ttotal: 203ms\tremaining: 413ms\n",
      "330:\tlearn: 0.0533438\ttotal: 204ms\tremaining: 412ms\n",
      "331:\tlearn: 0.0531976\ttotal: 204ms\tremaining: 411ms\n",
      "332:\tlearn: 0.0530738\ttotal: 205ms\tremaining: 410ms\n",
      "333:\tlearn: 0.0529390\ttotal: 205ms\tremaining: 409ms\n",
      "334:\tlearn: 0.0527893\ttotal: 206ms\tremaining: 408ms\n",
      "335:\tlearn: 0.0526576\ttotal: 206ms\tremaining: 407ms\n",
      "336:\tlearn: 0.0525392\ttotal: 206ms\tremaining: 406ms\n",
      "337:\tlearn: 0.0524243\ttotal: 207ms\tremaining: 405ms\n",
      "338:\tlearn: 0.0522965\ttotal: 208ms\tremaining: 405ms\n",
      "339:\tlearn: 0.0521418\ttotal: 208ms\tremaining: 403ms\n",
      "340:\tlearn: 0.0519073\ttotal: 208ms\tremaining: 402ms\n",
      "341:\tlearn: 0.0517729\ttotal: 209ms\tremaining: 401ms\n",
      "342:\tlearn: 0.0516612\ttotal: 209ms\tremaining: 400ms\n",
      "343:\tlearn: 0.0515481\ttotal: 210ms\tremaining: 400ms\n",
      "344:\tlearn: 0.0514276\ttotal: 210ms\tremaining: 399ms\n",
      "345:\tlearn: 0.0513167\ttotal: 210ms\tremaining: 397ms\n",
      "346:\tlearn: 0.0512092\ttotal: 211ms\tremaining: 396ms\n",
      "347:\tlearn: 0.0510921\ttotal: 211ms\tremaining: 395ms\n",
      "348:\tlearn: 0.0506812\ttotal: 211ms\tremaining: 394ms\n",
      "349:\tlearn: 0.0505669\ttotal: 212ms\tremaining: 394ms\n",
      "350:\tlearn: 0.0503919\ttotal: 212ms\tremaining: 393ms\n",
      "351:\tlearn: 0.0502804\ttotal: 213ms\tremaining: 392ms\n",
      "352:\tlearn: 0.0501584\ttotal: 213ms\tremaining: 391ms\n",
      "353:\tlearn: 0.0500288\ttotal: 214ms\tremaining: 390ms\n",
      "354:\tlearn: 0.0497164\ttotal: 214ms\tremaining: 389ms\n",
      "355:\tlearn: 0.0495504\ttotal: 215ms\tremaining: 388ms\n",
      "356:\tlearn: 0.0492443\ttotal: 215ms\tremaining: 387ms\n",
      "357:\tlearn: 0.0490864\ttotal: 216ms\tremaining: 387ms\n",
      "358:\tlearn: 0.0487144\ttotal: 216ms\tremaining: 386ms\n",
      "359:\tlearn: 0.0483420\ttotal: 217ms\tremaining: 385ms\n",
      "360:\tlearn: 0.0482548\ttotal: 217ms\tremaining: 384ms\n",
      "361:\tlearn: 0.0478953\ttotal: 218ms\tremaining: 383ms\n",
      "362:\tlearn: 0.0478097\ttotal: 218ms\tremaining: 383ms\n",
      "363:\tlearn: 0.0474459\ttotal: 218ms\tremaining: 382ms\n",
      "364:\tlearn: 0.0470903\ttotal: 219ms\tremaining: 381ms\n",
      "365:\tlearn: 0.0467616\ttotal: 219ms\tremaining: 380ms\n",
      "366:\tlearn: 0.0464183\ttotal: 220ms\tremaining: 379ms\n",
      "367:\tlearn: 0.0461350\ttotal: 220ms\tremaining: 378ms\n",
      "368:\tlearn: 0.0458209\ttotal: 221ms\tremaining: 378ms\n",
      "369:\tlearn: 0.0454917\ttotal: 222ms\tremaining: 377ms\n",
      "370:\tlearn: 0.0451962\ttotal: 222ms\tremaining: 376ms\n",
      "371:\tlearn: 0.0449280\ttotal: 222ms\tremaining: 376ms\n",
      "372:\tlearn: 0.0446781\ttotal: 223ms\tremaining: 375ms\n",
      "373:\tlearn: 0.0443950\ttotal: 223ms\tremaining: 374ms\n",
      "374:\tlearn: 0.0441326\ttotal: 224ms\tremaining: 373ms\n",
      "375:\tlearn: 0.0438506\ttotal: 224ms\tremaining: 372ms\n",
      "376:\tlearn: 0.0435717\ttotal: 225ms\tremaining: 371ms\n",
      "377:\tlearn: 0.0433348\ttotal: 225ms\tremaining: 370ms\n",
      "378:\tlearn: 0.0432427\ttotal: 225ms\tremaining: 369ms\n",
      "379:\tlearn: 0.0429682\ttotal: 226ms\tremaining: 369ms\n",
      "380:\tlearn: 0.0426995\ttotal: 226ms\tremaining: 368ms\n",
      "381:\tlearn: 0.0424011\ttotal: 227ms\tremaining: 367ms\n",
      "382:\tlearn: 0.0421337\ttotal: 227ms\tremaining: 366ms\n",
      "383:\tlearn: 0.0418726\ttotal: 228ms\tremaining: 365ms\n",
      "384:\tlearn: 0.0416233\ttotal: 228ms\tremaining: 365ms\n",
      "385:\tlearn: 0.0413726\ttotal: 229ms\tremaining: 364ms\n",
      "386:\tlearn: 0.0410910\ttotal: 229ms\tremaining: 363ms\n",
      "387:\tlearn: 0.0408567\ttotal: 230ms\tremaining: 362ms\n",
      "388:\tlearn: 0.0406256\ttotal: 230ms\tremaining: 362ms\n",
      "389:\tlearn: 0.0403580\ttotal: 231ms\tremaining: 361ms\n",
      "390:\tlearn: 0.0401351\ttotal: 231ms\tremaining: 360ms\n",
      "391:\tlearn: 0.0399106\ttotal: 232ms\tremaining: 360ms\n",
      "392:\tlearn: 0.0396962\ttotal: 232ms\tremaining: 359ms\n",
      "393:\tlearn: 0.0395049\ttotal: 233ms\tremaining: 358ms\n",
      "394:\tlearn: 0.0393172\ttotal: 233ms\tremaining: 357ms\n",
      "395:\tlearn: 0.0391229\ttotal: 233ms\tremaining: 356ms\n",
      "396:\tlearn: 0.0389085\ttotal: 234ms\tremaining: 355ms\n",
      "397:\tlearn: 0.0387240\ttotal: 234ms\tremaining: 355ms\n",
      "398:\tlearn: 0.0385138\ttotal: 235ms\tremaining: 354ms\n",
      "399:\tlearn: 0.0383282\ttotal: 235ms\tremaining: 353ms\n"
     ]
    },
    {
     "name": "stdout",
     "output_type": "stream",
     "text": [
      "400:\tlearn: 0.0381545\ttotal: 236ms\tremaining: 353ms\n",
      "401:\tlearn: 0.0379279\ttotal: 237ms\tremaining: 352ms\n",
      "402:\tlearn: 0.0377066\ttotal: 237ms\tremaining: 351ms\n",
      "403:\tlearn: 0.0375060\ttotal: 238ms\tremaining: 351ms\n",
      "404:\tlearn: 0.0373095\ttotal: 238ms\tremaining: 350ms\n",
      "405:\tlearn: 0.0370996\ttotal: 239ms\tremaining: 350ms\n",
      "406:\tlearn: 0.0369187\ttotal: 239ms\tremaining: 349ms\n",
      "407:\tlearn: 0.0367169\ttotal: 240ms\tremaining: 348ms\n",
      "408:\tlearn: 0.0365176\ttotal: 240ms\tremaining: 347ms\n",
      "409:\tlearn: 0.0363365\ttotal: 241ms\tremaining: 346ms\n",
      "410:\tlearn: 0.0361671\ttotal: 241ms\tremaining: 346ms\n",
      "411:\tlearn: 0.0359946\ttotal: 242ms\tremaining: 345ms\n",
      "412:\tlearn: 0.0359375\ttotal: 242ms\tremaining: 344ms\n",
      "413:\tlearn: 0.0358811\ttotal: 243ms\tremaining: 344ms\n",
      "414:\tlearn: 0.0356945\ttotal: 243ms\tremaining: 343ms\n",
      "415:\tlearn: 0.0356393\ttotal: 244ms\tremaining: 342ms\n",
      "416:\tlearn: 0.0354572\ttotal: 244ms\tremaining: 341ms\n",
      "417:\tlearn: 0.0352817\ttotal: 244ms\tremaining: 340ms\n",
      "418:\tlearn: 0.0351094\ttotal: 245ms\tremaining: 340ms\n",
      "419:\tlearn: 0.0349225\ttotal: 245ms\tremaining: 339ms\n",
      "420:\tlearn: 0.0347528\ttotal: 247ms\tremaining: 339ms\n",
      "421:\tlearn: 0.0345890\ttotal: 247ms\tremaining: 338ms\n",
      "422:\tlearn: 0.0344288\ttotal: 247ms\tremaining: 337ms\n",
      "423:\tlearn: 0.0342766\ttotal: 248ms\tremaining: 337ms\n",
      "424:\tlearn: 0.0341212\ttotal: 248ms\tremaining: 336ms\n",
      "425:\tlearn: 0.0339732\ttotal: 249ms\tremaining: 335ms\n",
      "426:\tlearn: 0.0338395\ttotal: 249ms\tremaining: 335ms\n",
      "427:\tlearn: 0.0337089\ttotal: 250ms\tremaining: 334ms\n",
      "428:\tlearn: 0.0335617\ttotal: 250ms\tremaining: 333ms\n",
      "429:\tlearn: 0.0334368\ttotal: 251ms\tremaining: 333ms\n",
      "430:\tlearn: 0.0333888\ttotal: 252ms\tremaining: 332ms\n",
      "431:\tlearn: 0.0332215\ttotal: 252ms\tremaining: 331ms\n",
      "432:\tlearn: 0.0330824\ttotal: 252ms\tremaining: 331ms\n",
      "433:\tlearn: 0.0329183\ttotal: 253ms\tremaining: 330ms\n",
      "434:\tlearn: 0.0328015\ttotal: 253ms\tremaining: 329ms\n",
      "435:\tlearn: 0.0326873\ttotal: 254ms\tremaining: 328ms\n",
      "436:\tlearn: 0.0326417\ttotal: 254ms\tremaining: 327ms\n",
      "437:\tlearn: 0.0325966\ttotal: 255ms\tremaining: 327ms\n",
      "438:\tlearn: 0.0324856\ttotal: 255ms\tremaining: 326ms\n",
      "439:\tlearn: 0.0324414\ttotal: 256ms\tremaining: 325ms\n",
      "440:\tlearn: 0.0323977\ttotal: 256ms\tremaining: 324ms\n",
      "441:\tlearn: 0.0322897\ttotal: 256ms\tremaining: 324ms\n",
      "442:\tlearn: 0.0322468\ttotal: 257ms\tremaining: 323ms\n",
      "443:\tlearn: 0.0321257\ttotal: 257ms\tremaining: 322ms\n",
      "444:\tlearn: 0.0320836\ttotal: 258ms\tremaining: 321ms\n",
      "445:\tlearn: 0.0319809\ttotal: 258ms\tremaining: 321ms\n",
      "446:\tlearn: 0.0317437\ttotal: 259ms\tremaining: 320ms\n",
      "447:\tlearn: 0.0315127\ttotal: 259ms\tremaining: 319ms\n",
      "448:\tlearn: 0.0314720\ttotal: 260ms\tremaining: 318ms\n",
      "449:\tlearn: 0.0313264\ttotal: 260ms\tremaining: 318ms\n",
      "450:\tlearn: 0.0312279\ttotal: 261ms\tremaining: 317ms\n",
      "451:\tlearn: 0.0311167\ttotal: 261ms\tremaining: 317ms\n",
      "452:\tlearn: 0.0308946\ttotal: 262ms\tremaining: 316ms\n",
      "453:\tlearn: 0.0307544\ttotal: 262ms\tremaining: 315ms\n",
      "454:\tlearn: 0.0306163\ttotal: 262ms\tremaining: 314ms\n",
      "455:\tlearn: 0.0305185\ttotal: 263ms\tremaining: 314ms\n",
      "456:\tlearn: 0.0304805\ttotal: 264ms\tremaining: 313ms\n",
      "457:\tlearn: 0.0303363\ttotal: 264ms\tremaining: 312ms\n",
      "458:\tlearn: 0.0302990\ttotal: 264ms\tremaining: 311ms\n",
      "459:\tlearn: 0.0301587\ttotal: 265ms\tremaining: 311ms\n",
      "460:\tlearn: 0.0301219\ttotal: 265ms\tremaining: 310ms\n",
      "461:\tlearn: 0.0299854\ttotal: 266ms\tremaining: 310ms\n",
      "462:\tlearn: 0.0298525\ttotal: 267ms\tremaining: 309ms\n",
      "463:\tlearn: 0.0298163\ttotal: 267ms\tremaining: 308ms\n",
      "464:\tlearn: 0.0297807\ttotal: 267ms\tremaining: 308ms\n",
      "465:\tlearn: 0.0296515\ttotal: 268ms\tremaining: 307ms\n",
      "466:\tlearn: 0.0296164\ttotal: 268ms\tremaining: 306ms\n",
      "467:\tlearn: 0.0295128\ttotal: 269ms\tremaining: 306ms\n",
      "468:\tlearn: 0.0294784\ttotal: 269ms\tremaining: 305ms\n",
      "469:\tlearn: 0.0293757\ttotal: 270ms\tremaining: 304ms\n",
      "470:\tlearn: 0.0292437\ttotal: 270ms\tremaining: 303ms\n",
      "471:\tlearn: 0.0292103\ttotal: 270ms\tremaining: 303ms\n",
      "472:\tlearn: 0.0290798\ttotal: 271ms\tremaining: 302ms\n",
      "473:\tlearn: 0.0290470\ttotal: 271ms\tremaining: 301ms\n",
      "474:\tlearn: 0.0289422\ttotal: 272ms\tremaining: 300ms\n",
      "475:\tlearn: 0.0289098\ttotal: 272ms\tremaining: 300ms\n",
      "476:\tlearn: 0.0288818\ttotal: 273ms\tremaining: 299ms\n",
      "477:\tlearn: 0.0287925\ttotal: 273ms\tremaining: 298ms\n",
      "478:\tlearn: 0.0287650\ttotal: 274ms\tremaining: 298ms\n",
      "479:\tlearn: 0.0286640\ttotal: 274ms\tremaining: 297ms\n",
      "480:\tlearn: 0.0285585\ttotal: 275ms\tremaining: 296ms\n",
      "481:\tlearn: 0.0284467\ttotal: 275ms\tremaining: 296ms\n",
      "482:\tlearn: 0.0284202\ttotal: 276ms\tremaining: 295ms\n",
      "483:\tlearn: 0.0283115\ttotal: 276ms\tremaining: 294ms\n",
      "484:\tlearn: 0.0282068\ttotal: 277ms\tremaining: 294ms\n",
      "485:\tlearn: 0.0280859\ttotal: 277ms\tremaining: 293ms\n",
      "486:\tlearn: 0.0279828\ttotal: 278ms\tremaining: 292ms\n",
      "487:\tlearn: 0.0279062\ttotal: 278ms\tremaining: 292ms\n",
      "488:\tlearn: 0.0277903\ttotal: 279ms\tremaining: 291ms\n",
      "489:\tlearn: 0.0276237\ttotal: 279ms\tremaining: 290ms\n",
      "490:\tlearn: 0.0275176\ttotal: 279ms\tremaining: 290ms\n",
      "491:\tlearn: 0.0273952\ttotal: 280ms\tremaining: 289ms\n",
      "492:\tlearn: 0.0273163\ttotal: 280ms\tremaining: 288ms\n",
      "493:\tlearn: 0.0272868\ttotal: 281ms\tremaining: 288ms\n",
      "494:\tlearn: 0.0272253\ttotal: 281ms\tremaining: 287ms\n",
      "495:\tlearn: 0.0271067\ttotal: 282ms\tremaining: 286ms\n",
      "496:\tlearn: 0.0270467\ttotal: 282ms\tremaining: 286ms\n",
      "497:\tlearn: 0.0269314\ttotal: 283ms\tremaining: 285ms\n",
      "498:\tlearn: 0.0268556\ttotal: 283ms\tremaining: 284ms\n",
      "499:\tlearn: 0.0268275\ttotal: 283ms\tremaining: 283ms\n",
      "500:\tlearn: 0.0267692\ttotal: 284ms\tremaining: 283ms\n",
      "501:\tlearn: 0.0266773\ttotal: 284ms\tremaining: 282ms\n",
      "502:\tlearn: 0.0265428\ttotal: 285ms\tremaining: 281ms\n",
      "503:\tlearn: 0.0264042\ttotal: 286ms\tremaining: 281ms\n",
      "504:\tlearn: 0.0262782\ttotal: 286ms\tremaining: 281ms\n",
      "505:\tlearn: 0.0262059\ttotal: 287ms\tremaining: 280ms\n",
      "506:\tlearn: 0.0260718\ttotal: 287ms\tremaining: 279ms\n",
      "507:\tlearn: 0.0260455\ttotal: 288ms\tremaining: 279ms\n",
      "508:\tlearn: 0.0259149\ttotal: 288ms\tremaining: 278ms\n",
      "509:\tlearn: 0.0258761\ttotal: 288ms\tremaining: 277ms\n",
      "510:\tlearn: 0.0258010\ttotal: 289ms\tremaining: 276ms\n",
      "511:\tlearn: 0.0256733\ttotal: 289ms\tremaining: 276ms\n",
      "512:\tlearn: 0.0256479\ttotal: 290ms\tremaining: 275ms\n",
      "513:\tlearn: 0.0256228\ttotal: 291ms\tremaining: 275ms\n",
      "514:\tlearn: 0.0255061\ttotal: 291ms\tremaining: 274ms\n",
      "515:\tlearn: 0.0254156\ttotal: 292ms\tremaining: 274ms\n",
      "516:\tlearn: 0.0253911\ttotal: 292ms\tremaining: 273ms\n",
      "517:\tlearn: 0.0252771\ttotal: 293ms\tremaining: 272ms\n",
      "518:\tlearn: 0.0251932\ttotal: 293ms\tremaining: 272ms\n",
      "519:\tlearn: 0.0250720\ttotal: 293ms\tremaining: 271ms\n",
      "520:\tlearn: 0.0249535\ttotal: 294ms\tremaining: 270ms\n",
      "521:\tlearn: 0.0249038\ttotal: 295ms\tremaining: 270ms\n",
      "522:\tlearn: 0.0247876\ttotal: 295ms\tremaining: 269ms\n",
      "523:\tlearn: 0.0247083\ttotal: 296ms\tremaining: 268ms\n",
      "524:\tlearn: 0.0245919\ttotal: 296ms\tremaining: 268ms\n",
      "525:\tlearn: 0.0245510\ttotal: 297ms\tremaining: 267ms\n",
      "526:\tlearn: 0.0245107\ttotal: 297ms\tremaining: 267ms\n",
      "527:\tlearn: 0.0243976\ttotal: 298ms\tremaining: 266ms\n",
      "528:\tlearn: 0.0243781\ttotal: 298ms\tremaining: 265ms\n",
      "529:\tlearn: 0.0243386\ttotal: 299ms\tremaining: 265ms\n",
      "530:\tlearn: 0.0242618\ttotal: 299ms\tremaining: 264ms\n",
      "531:\tlearn: 0.0242427\ttotal: 299ms\tremaining: 263ms\n",
      "532:\tlearn: 0.0241331\ttotal: 300ms\tremaining: 263ms\n",
      "533:\tlearn: 0.0240944\ttotal: 300ms\tremaining: 262ms\n",
      "534:\tlearn: 0.0240757\ttotal: 301ms\tremaining: 261ms\n",
      "535:\tlearn: 0.0239954\ttotal: 301ms\tremaining: 261ms\n",
      "536:\tlearn: 0.0239769\ttotal: 301ms\tremaining: 260ms\n",
      "537:\tlearn: 0.0239313\ttotal: 302ms\tremaining: 259ms\n",
      "538:\tlearn: 0.0238212\ttotal: 302ms\tremaining: 259ms\n",
      "539:\tlearn: 0.0237177\ttotal: 303ms\tremaining: 258ms\n",
      "540:\tlearn: 0.0236731\ttotal: 303ms\tremaining: 257ms\n",
      "541:\tlearn: 0.0235734\ttotal: 304ms\tremaining: 257ms\n",
      "542:\tlearn: 0.0234734\ttotal: 304ms\tremaining: 256ms\n",
      "543:\tlearn: 0.0234298\ttotal: 305ms\tremaining: 255ms\n",
      "544:\tlearn: 0.0233932\ttotal: 305ms\tremaining: 255ms\n",
      "545:\tlearn: 0.0232971\ttotal: 306ms\tremaining: 254ms\n",
      "546:\tlearn: 0.0232271\ttotal: 306ms\tremaining: 253ms\n",
      "547:\tlearn: 0.0231070\ttotal: 306ms\tremaining: 253ms\n",
      "548:\tlearn: 0.0229891\ttotal: 307ms\tremaining: 252ms\n",
      "549:\tlearn: 0.0229724\ttotal: 307ms\tremaining: 252ms\n",
      "550:\tlearn: 0.0228570\ttotal: 308ms\tremaining: 251ms\n",
      "551:\tlearn: 0.0227437\ttotal: 308ms\tremaining: 250ms\n",
      "552:\tlearn: 0.0227277\ttotal: 309ms\tremaining: 250ms\n",
      "553:\tlearn: 0.0226286\ttotal: 309ms\tremaining: 249ms\n",
      "554:\tlearn: 0.0225534\ttotal: 310ms\tremaining: 249ms\n",
      "555:\tlearn: 0.0224602\ttotal: 311ms\tremaining: 248ms\n",
      "556:\tlearn: 0.0224223\ttotal: 311ms\tremaining: 247ms\n",
      "557:\tlearn: 0.0223312\ttotal: 312ms\tremaining: 247ms\n",
      "558:\tlearn: 0.0222951\ttotal: 312ms\tremaining: 246ms\n",
      "559:\tlearn: 0.0222596\ttotal: 312ms\tremaining: 245ms\n",
      "560:\tlearn: 0.0222138\ttotal: 313ms\tremaining: 245ms\n",
      "561:\tlearn: 0.0221783\ttotal: 313ms\tremaining: 244ms\n",
      "562:\tlearn: 0.0220741\ttotal: 314ms\tremaining: 243ms\n",
      "563:\tlearn: 0.0219857\ttotal: 314ms\tremaining: 243ms\n",
      "564:\tlearn: 0.0218990\ttotal: 314ms\tremaining: 242ms\n",
      "565:\tlearn: 0.0218551\ttotal: 315ms\tremaining: 241ms\n",
      "566:\tlearn: 0.0217957\ttotal: 315ms\tremaining: 241ms\n",
      "567:\tlearn: 0.0217110\ttotal: 316ms\tremaining: 240ms\n",
      "568:\tlearn: 0.0216534\ttotal: 316ms\tremaining: 240ms\n",
      "569:\tlearn: 0.0216208\ttotal: 317ms\tremaining: 239ms\n",
      "570:\tlearn: 0.0215564\ttotal: 317ms\tremaining: 238ms\n",
      "571:\tlearn: 0.0214740\ttotal: 318ms\tremaining: 238ms\n",
      "572:\tlearn: 0.0214321\ttotal: 318ms\tremaining: 237ms\n",
      "573:\tlearn: 0.0213514\ttotal: 318ms\tremaining: 236ms\n",
      "574:\tlearn: 0.0212966\ttotal: 319ms\tremaining: 236ms\n",
      "575:\tlearn: 0.0212722\ttotal: 320ms\tremaining: 235ms\n",
      "576:\tlearn: 0.0211934\ttotal: 320ms\tremaining: 235ms\n",
      "577:\tlearn: 0.0211162\ttotal: 321ms\tremaining: 234ms\n",
      "578:\tlearn: 0.0210924\ttotal: 321ms\tremaining: 234ms\n",
      "579:\tlearn: 0.0210169\ttotal: 322ms\tremaining: 233ms\n",
      "580:\tlearn: 0.0209428\ttotal: 322ms\tremaining: 232ms\n",
      "581:\tlearn: 0.0208944\ttotal: 323ms\tremaining: 232ms\n",
      "582:\tlearn: 0.0208146\ttotal: 323ms\tremaining: 231ms\n",
      "583:\tlearn: 0.0207432\ttotal: 324ms\tremaining: 230ms\n",
      "584:\tlearn: 0.0206961\ttotal: 324ms\tremaining: 230ms\n",
      "585:\tlearn: 0.0206208\ttotal: 324ms\tremaining: 229ms\n",
      "586:\tlearn: 0.0205519\ttotal: 325ms\tremaining: 229ms\n",
      "587:\tlearn: 0.0204732\ttotal: 325ms\tremaining: 228ms\n",
      "588:\tlearn: 0.0204061\ttotal: 326ms\tremaining: 227ms\n",
      "589:\tlearn: 0.0203401\ttotal: 326ms\tremaining: 227ms\n",
      "590:\tlearn: 0.0203187\ttotal: 327ms\tremaining: 226ms\n",
      "591:\tlearn: 0.0202456\ttotal: 327ms\tremaining: 226ms\n",
      "592:\tlearn: 0.0201627\ttotal: 328ms\tremaining: 225ms\n",
      "593:\tlearn: 0.0200756\ttotal: 328ms\tremaining: 224ms\n",
      "594:\tlearn: 0.0199994\ttotal: 329ms\tremaining: 224ms\n",
      "595:\tlearn: 0.0199784\ttotal: 329ms\tremaining: 223ms\n",
      "596:\tlearn: 0.0198930\ttotal: 329ms\tremaining: 222ms\n",
      "597:\tlearn: 0.0198134\ttotal: 330ms\tremaining: 222ms\n",
      "598:\tlearn: 0.0197689\ttotal: 330ms\tremaining: 221ms\n",
      "599:\tlearn: 0.0196853\ttotal: 331ms\tremaining: 220ms\n",
      "600:\tlearn: 0.0196117\ttotal: 331ms\tremaining: 220ms\n",
      "601:\tlearn: 0.0195455\ttotal: 331ms\tremaining: 219ms\n",
      "602:\tlearn: 0.0194736\ttotal: 332ms\tremaining: 219ms\n",
      "603:\tlearn: 0.0194534\ttotal: 332ms\tremaining: 218ms\n",
      "604:\tlearn: 0.0194334\ttotal: 333ms\tremaining: 217ms\n",
      "605:\tlearn: 0.0193313\ttotal: 333ms\tremaining: 217ms\n",
      "606:\tlearn: 0.0192393\ttotal: 334ms\tremaining: 216ms\n",
      "607:\tlearn: 0.0191795\ttotal: 334ms\tremaining: 215ms\n",
      "608:\tlearn: 0.0190997\ttotal: 335ms\tremaining: 215ms\n",
      "609:\tlearn: 0.0190308\ttotal: 335ms\tremaining: 214ms\n",
      "610:\tlearn: 0.0189672\ttotal: 336ms\tremaining: 214ms\n",
      "611:\tlearn: 0.0189249\ttotal: 336ms\tremaining: 213ms\n",
      "612:\tlearn: 0.0188284\ttotal: 337ms\tremaining: 212ms\n",
      "613:\tlearn: 0.0187413\ttotal: 337ms\tremaining: 212ms\n",
      "614:\tlearn: 0.0186557\ttotal: 337ms\tremaining: 211ms\n",
      "615:\tlearn: 0.0185902\ttotal: 338ms\tremaining: 211ms\n",
      "616:\tlearn: 0.0185142\ttotal: 338ms\tremaining: 210ms\n",
      "617:\tlearn: 0.0184533\ttotal: 339ms\tremaining: 210ms\n",
      "618:\tlearn: 0.0183625\ttotal: 340ms\tremaining: 209ms\n",
      "619:\tlearn: 0.0182810\ttotal: 340ms\tremaining: 208ms\n",
      "620:\tlearn: 0.0182548\ttotal: 341ms\tremaining: 208ms\n",
      "621:\tlearn: 0.0181909\ttotal: 341ms\tremaining: 207ms\n",
      "622:\tlearn: 0.0181182\ttotal: 342ms\tremaining: 207ms\n",
      "623:\tlearn: 0.0180740\ttotal: 342ms\tremaining: 206ms\n",
      "624:\tlearn: 0.0180309\ttotal: 342ms\tremaining: 205ms\n",
      "625:\tlearn: 0.0180055\ttotal: 343ms\tremaining: 205ms\n",
      "626:\tlearn: 0.0179493\ttotal: 343ms\tremaining: 204ms\n",
      "627:\tlearn: 0.0179243\ttotal: 344ms\tremaining: 204ms\n",
      "628:\tlearn: 0.0178997\ttotal: 344ms\tremaining: 203ms\n",
      "629:\tlearn: 0.0178369\ttotal: 345ms\tremaining: 202ms\n",
      "630:\tlearn: 0.0177955\ttotal: 345ms\tremaining: 202ms\n",
      "631:\tlearn: 0.0177467\ttotal: 345ms\tremaining: 201ms\n",
      "632:\tlearn: 0.0177064\ttotal: 346ms\tremaining: 200ms\n",
      "633:\tlearn: 0.0176588\ttotal: 346ms\tremaining: 200ms\n",
      "634:\tlearn: 0.0176196\ttotal: 347ms\tremaining: 199ms\n",
      "635:\tlearn: 0.0175868\ttotal: 347ms\tremaining: 199ms\n",
      "636:\tlearn: 0.0175421\ttotal: 348ms\tremaining: 198ms\n"
     ]
    },
    {
     "name": "stdout",
     "output_type": "stream",
     "text": [
      "637:\tlearn: 0.0175186\ttotal: 348ms\tremaining: 198ms\n",
      "638:\tlearn: 0.0174729\ttotal: 349ms\tremaining: 197ms\n",
      "639:\tlearn: 0.0173929\ttotal: 350ms\tremaining: 197ms\n",
      "640:\tlearn: 0.0173485\ttotal: 350ms\tremaining: 196ms\n",
      "641:\tlearn: 0.0172901\ttotal: 351ms\tremaining: 196ms\n",
      "642:\tlearn: 0.0172532\ttotal: 351ms\tremaining: 195ms\n",
      "643:\tlearn: 0.0172172\ttotal: 352ms\tremaining: 194ms\n",
      "644:\tlearn: 0.0171740\ttotal: 352ms\tremaining: 194ms\n",
      "645:\tlearn: 0.0171054\ttotal: 352ms\tremaining: 193ms\n",
      "646:\tlearn: 0.0170643\ttotal: 353ms\tremaining: 193ms\n",
      "647:\tlearn: 0.0169783\ttotal: 353ms\tremaining: 192ms\n",
      "648:\tlearn: 0.0169490\ttotal: 354ms\tremaining: 191ms\n",
      "649:\tlearn: 0.0169148\ttotal: 355ms\tremaining: 191ms\n",
      "650:\tlearn: 0.0168336\ttotal: 355ms\tremaining: 190ms\n",
      "651:\tlearn: 0.0167971\ttotal: 355ms\tremaining: 190ms\n",
      "652:\tlearn: 0.0167309\ttotal: 356ms\tremaining: 189ms\n",
      "653:\tlearn: 0.0166611\ttotal: 356ms\tremaining: 189ms\n",
      "654:\tlearn: 0.0165955\ttotal: 357ms\tremaining: 188ms\n",
      "655:\tlearn: 0.0165111\ttotal: 357ms\tremaining: 187ms\n",
      "656:\tlearn: 0.0164894\ttotal: 358ms\tremaining: 187ms\n",
      "657:\tlearn: 0.0164449\ttotal: 358ms\tremaining: 186ms\n",
      "658:\tlearn: 0.0164124\ttotal: 359ms\tremaining: 186ms\n",
      "659:\tlearn: 0.0163299\ttotal: 359ms\tremaining: 185ms\n",
      "660:\tlearn: 0.0162875\ttotal: 359ms\tremaining: 184ms\n",
      "661:\tlearn: 0.0162532\ttotal: 360ms\tremaining: 184ms\n",
      "662:\tlearn: 0.0162321\ttotal: 360ms\tremaining: 183ms\n",
      "663:\tlearn: 0.0161885\ttotal: 361ms\tremaining: 183ms\n",
      "664:\tlearn: 0.0161081\ttotal: 361ms\tremaining: 182ms\n",
      "665:\tlearn: 0.0160874\ttotal: 362ms\tremaining: 181ms\n",
      "666:\tlearn: 0.0160669\ttotal: 362ms\tremaining: 181ms\n",
      "667:\tlearn: 0.0160234\ttotal: 362ms\tremaining: 180ms\n",
      "668:\tlearn: 0.0159448\ttotal: 363ms\tremaining: 180ms\n",
      "669:\tlearn: 0.0159246\ttotal: 363ms\tremaining: 179ms\n",
      "670:\tlearn: 0.0159046\ttotal: 364ms\tremaining: 178ms\n",
      "671:\tlearn: 0.0158621\ttotal: 364ms\tremaining: 178ms\n",
      "672:\tlearn: 0.0158424\ttotal: 365ms\tremaining: 177ms\n",
      "673:\tlearn: 0.0158084\ttotal: 365ms\tremaining: 177ms\n",
      "674:\tlearn: 0.0157385\ttotal: 366ms\tremaining: 176ms\n",
      "675:\tlearn: 0.0156622\ttotal: 366ms\tremaining: 175ms\n",
      "676:\tlearn: 0.0156430\ttotal: 367ms\tremaining: 175ms\n",
      "677:\tlearn: 0.0156240\ttotal: 367ms\tremaining: 174ms\n",
      "678:\tlearn: 0.0155446\ttotal: 367ms\tremaining: 174ms\n",
      "679:\tlearn: 0.0155259\ttotal: 368ms\tremaining: 173ms\n",
      "680:\tlearn: 0.0154590\ttotal: 368ms\tremaining: 173ms\n",
      "681:\tlearn: 0.0154085\ttotal: 369ms\tremaining: 172ms\n",
      "682:\tlearn: 0.0153434\ttotal: 370ms\tremaining: 172ms\n",
      "683:\tlearn: 0.0152942\ttotal: 370ms\tremaining: 171ms\n",
      "684:\tlearn: 0.0152181\ttotal: 371ms\tremaining: 171ms\n",
      "685:\tlearn: 0.0152000\ttotal: 371ms\tremaining: 170ms\n",
      "686:\tlearn: 0.0151514\ttotal: 372ms\tremaining: 169ms\n",
      "687:\tlearn: 0.0150771\ttotal: 372ms\tremaining: 169ms\n",
      "688:\tlearn: 0.0150593\ttotal: 373ms\tremaining: 168ms\n",
      "689:\tlearn: 0.0150111\ttotal: 373ms\tremaining: 168ms\n",
      "690:\tlearn: 0.0149491\ttotal: 374ms\tremaining: 167ms\n",
      "691:\tlearn: 0.0149015\ttotal: 374ms\tremaining: 166ms\n",
      "692:\tlearn: 0.0148321\ttotal: 374ms\tremaining: 166ms\n",
      "693:\tlearn: 0.0148137\ttotal: 375ms\tremaining: 165ms\n",
      "694:\tlearn: 0.0147668\ttotal: 375ms\tremaining: 165ms\n",
      "695:\tlearn: 0.0146889\ttotal: 376ms\tremaining: 164ms\n",
      "696:\tlearn: 0.0146708\ttotal: 376ms\tremaining: 164ms\n",
      "697:\tlearn: 0.0146244\ttotal: 377ms\tremaining: 163ms\n",
      "698:\tlearn: 0.0145902\ttotal: 377ms\tremaining: 162ms\n",
      "699:\tlearn: 0.0145566\ttotal: 378ms\tremaining: 162ms\n",
      "700:\tlearn: 0.0145106\ttotal: 378ms\tremaining: 161ms\n",
      "701:\tlearn: 0.0144457\ttotal: 379ms\tremaining: 161ms\n",
      "702:\tlearn: 0.0144005\ttotal: 379ms\tremaining: 160ms\n",
      "703:\tlearn: 0.0143555\ttotal: 380ms\tremaining: 160ms\n",
      "704:\tlearn: 0.0143229\ttotal: 380ms\tremaining: 159ms\n",
      "705:\tlearn: 0.0142909\ttotal: 381ms\tremaining: 159ms\n",
      "706:\tlearn: 0.0142412\ttotal: 381ms\tremaining: 158ms\n",
      "707:\tlearn: 0.0141965\ttotal: 381ms\tremaining: 157ms\n",
      "708:\tlearn: 0.0141318\ttotal: 382ms\tremaining: 157ms\n",
      "709:\tlearn: 0.0141150\ttotal: 382ms\tremaining: 156ms\n",
      "710:\tlearn: 0.0140711\ttotal: 383ms\tremaining: 156ms\n",
      "711:\tlearn: 0.0140406\ttotal: 383ms\tremaining: 155ms\n",
      "712:\tlearn: 0.0139867\ttotal: 384ms\tremaining: 155ms\n",
      "713:\tlearn: 0.0139703\ttotal: 385ms\tremaining: 154ms\n",
      "714:\tlearn: 0.0139177\ttotal: 385ms\tremaining: 154ms\n",
      "715:\tlearn: 0.0139016\ttotal: 386ms\tremaining: 153ms\n",
      "716:\tlearn: 0.0138503\ttotal: 386ms\tremaining: 152ms\n",
      "717:\tlearn: 0.0138345\ttotal: 387ms\tremaining: 152ms\n",
      "718:\tlearn: 0.0137872\ttotal: 387ms\tremaining: 151ms\n",
      "719:\tlearn: 0.0137437\ttotal: 388ms\tremaining: 151ms\n",
      "720:\tlearn: 0.0137042\ttotal: 388ms\tremaining: 150ms\n",
      "721:\tlearn: 0.0136887\ttotal: 389ms\tremaining: 150ms\n",
      "722:\tlearn: 0.0136498\ttotal: 389ms\tremaining: 149ms\n",
      "723:\tlearn: 0.0136296\ttotal: 390ms\tremaining: 149ms\n",
      "724:\tlearn: 0.0135913\ttotal: 390ms\tremaining: 148ms\n",
      "725:\tlearn: 0.0135715\ttotal: 391ms\tremaining: 148ms\n",
      "726:\tlearn: 0.0135153\ttotal: 391ms\tremaining: 147ms\n",
      "727:\tlearn: 0.0135003\ttotal: 392ms\tremaining: 146ms\n",
      "728:\tlearn: 0.0134571\ttotal: 392ms\tremaining: 146ms\n",
      "729:\tlearn: 0.0134110\ttotal: 393ms\tremaining: 145ms\n",
      "730:\tlearn: 0.0133597\ttotal: 393ms\tremaining: 145ms\n",
      "731:\tlearn: 0.0133175\ttotal: 394ms\tremaining: 144ms\n",
      "732:\tlearn: 0.0132700\ttotal: 395ms\tremaining: 144ms\n",
      "733:\tlearn: 0.0132254\ttotal: 395ms\tremaining: 143ms\n",
      "734:\tlearn: 0.0131843\ttotal: 396ms\tremaining: 143ms\n",
      "735:\tlearn: 0.0131475\ttotal: 396ms\tremaining: 142ms\n",
      "736:\tlearn: 0.0131124\ttotal: 397ms\tremaining: 142ms\n",
      "737:\tlearn: 0.0130751\ttotal: 397ms\tremaining: 141ms\n",
      "738:\tlearn: 0.0130208\ttotal: 397ms\tremaining: 140ms\n",
      "739:\tlearn: 0.0130078\ttotal: 398ms\tremaining: 140ms\n",
      "740:\tlearn: 0.0129950\ttotal: 399ms\tremaining: 139ms\n",
      "741:\tlearn: 0.0129763\ttotal: 399ms\tremaining: 139ms\n",
      "742:\tlearn: 0.0129369\ttotal: 400ms\tremaining: 138ms\n",
      "743:\tlearn: 0.0128935\ttotal: 400ms\tremaining: 138ms\n",
      "744:\tlearn: 0.0128601\ttotal: 401ms\tremaining: 137ms\n",
      "745:\tlearn: 0.0128164\ttotal: 401ms\tremaining: 137ms\n",
      "746:\tlearn: 0.0127982\ttotal: 402ms\tremaining: 136ms\n",
      "747:\tlearn: 0.0127592\ttotal: 402ms\tremaining: 135ms\n",
      "748:\tlearn: 0.0127413\ttotal: 403ms\tremaining: 135ms\n",
      "749:\tlearn: 0.0126910\ttotal: 403ms\tremaining: 134ms\n",
      "750:\tlearn: 0.0126487\ttotal: 404ms\tremaining: 134ms\n",
      "751:\tlearn: 0.0126103\ttotal: 404ms\tremaining: 133ms\n",
      "752:\tlearn: 0.0125928\ttotal: 405ms\tremaining: 133ms\n",
      "753:\tlearn: 0.0125549\ttotal: 405ms\tremaining: 132ms\n",
      "754:\tlearn: 0.0125185\ttotal: 406ms\tremaining: 132ms\n",
      "755:\tlearn: 0.0124770\ttotal: 406ms\tremaining: 131ms\n",
      "756:\tlearn: 0.0124399\ttotal: 407ms\tremaining: 131ms\n",
      "757:\tlearn: 0.0123915\ttotal: 407ms\tremaining: 130ms\n",
      "758:\tlearn: 0.0123472\ttotal: 408ms\tremaining: 129ms\n",
      "759:\tlearn: 0.0123107\ttotal: 408ms\tremaining: 129ms\n",
      "760:\tlearn: 0.0122720\ttotal: 409ms\tremaining: 128ms\n",
      "761:\tlearn: 0.0122391\ttotal: 409ms\tremaining: 128ms\n",
      "762:\tlearn: 0.0122070\ttotal: 410ms\tremaining: 127ms\n",
      "763:\tlearn: 0.0121735\ttotal: 410ms\tremaining: 127ms\n",
      "764:\tlearn: 0.0121506\ttotal: 411ms\tremaining: 126ms\n",
      "765:\tlearn: 0.0121148\ttotal: 411ms\tremaining: 126ms\n",
      "766:\tlearn: 0.0120794\ttotal: 412ms\tremaining: 125ms\n",
      "767:\tlearn: 0.0120481\ttotal: 412ms\tremaining: 124ms\n",
      "768:\tlearn: 0.0120299\ttotal: 412ms\tremaining: 124ms\n",
      "769:\tlearn: 0.0120120\ttotal: 413ms\tremaining: 123ms\n",
      "770:\tlearn: 0.0119865\ttotal: 414ms\tremaining: 123ms\n",
      "771:\tlearn: 0.0119517\ttotal: 414ms\tremaining: 122ms\n"
     ]
    },
    {
     "name": "stdout",
     "output_type": "stream",
     "text": [
      "772:\tlearn: 0.0119267\ttotal: 415ms\tremaining: 122ms\n",
      "773:\tlearn: 0.0118923\ttotal: 416ms\tremaining: 121ms\n",
      "774:\tlearn: 0.0118677\ttotal: 416ms\tremaining: 121ms\n",
      "775:\tlearn: 0.0118338\ttotal: 417ms\tremaining: 120ms\n",
      "776:\tlearn: 0.0117911\ttotal: 417ms\tremaining: 120ms\n",
      "777:\tlearn: 0.0117741\ttotal: 418ms\tremaining: 119ms\n",
      "778:\tlearn: 0.0117634\ttotal: 418ms\tremaining: 119ms\n",
      "779:\tlearn: 0.0117266\ttotal: 419ms\tremaining: 118ms\n",
      "780:\tlearn: 0.0116696\ttotal: 419ms\tremaining: 118ms\n",
      "781:\tlearn: 0.0116363\ttotal: 420ms\tremaining: 117ms\n",
      "782:\tlearn: 0.0116032\ttotal: 420ms\tremaining: 116ms\n",
      "783:\tlearn: 0.0115655\ttotal: 420ms\tremaining: 116ms\n",
      "784:\tlearn: 0.0115330\ttotal: 421ms\tremaining: 115ms\n",
      "785:\tlearn: 0.0115006\ttotal: 421ms\tremaining: 115ms\n",
      "786:\tlearn: 0.0114730\ttotal: 422ms\tremaining: 114ms\n",
      "787:\tlearn: 0.0114365\ttotal: 422ms\tremaining: 114ms\n",
      "788:\tlearn: 0.0113959\ttotal: 423ms\tremaining: 113ms\n",
      "789:\tlearn: 0.0113642\ttotal: 423ms\tremaining: 112ms\n",
      "790:\tlearn: 0.0113271\ttotal: 424ms\tremaining: 112ms\n",
      "791:\tlearn: 0.0112880\ttotal: 424ms\tremaining: 111ms\n",
      "792:\tlearn: 0.0112568\ttotal: 425ms\tremaining: 111ms\n",
      "793:\tlearn: 0.0112198\ttotal: 425ms\tremaining: 110ms\n",
      "794:\tlearn: 0.0111749\ttotal: 426ms\tremaining: 110ms\n",
      "795:\tlearn: 0.0111458\ttotal: 426ms\tremaining: 109ms\n",
      "796:\tlearn: 0.0111084\ttotal: 427ms\tremaining: 109ms\n",
      "797:\tlearn: 0.0110932\ttotal: 427ms\tremaining: 108ms\n",
      "798:\tlearn: 0.0110840\ttotal: 428ms\tremaining: 108ms\n",
      "799:\tlearn: 0.0110561\ttotal: 429ms\tremaining: 107ms\n",
      "800:\tlearn: 0.0110225\ttotal: 429ms\tremaining: 107ms\n",
      "801:\tlearn: 0.0110135\ttotal: 429ms\tremaining: 106ms\n",
      "802:\tlearn: 0.0109776\ttotal: 430ms\tremaining: 105ms\n",
      "803:\tlearn: 0.0109472\ttotal: 430ms\tremaining: 105ms\n",
      "804:\tlearn: 0.0109149\ttotal: 431ms\tremaining: 104ms\n",
      "805:\tlearn: 0.0109059\ttotal: 431ms\tremaining: 104ms\n",
      "806:\tlearn: 0.0108971\ttotal: 432ms\tremaining: 103ms\n",
      "807:\tlearn: 0.0108644\ttotal: 432ms\tremaining: 103ms\n",
      "808:\tlearn: 0.0108346\ttotal: 433ms\tremaining: 102ms\n",
      "809:\tlearn: 0.0108004\ttotal: 433ms\tremaining: 102ms\n",
      "810:\tlearn: 0.0107709\ttotal: 434ms\tremaining: 101ms\n",
      "811:\tlearn: 0.0107288\ttotal: 434ms\tremaining: 101ms\n",
      "812:\tlearn: 0.0106864\ttotal: 435ms\tremaining: 100ms\n",
      "813:\tlearn: 0.0106531\ttotal: 435ms\tremaining: 99.4ms\n",
      "814:\tlearn: 0.0106122\ttotal: 435ms\tremaining: 98.9ms\n",
      "815:\tlearn: 0.0105795\ttotal: 436ms\tremaining: 98.3ms\n",
      "816:\tlearn: 0.0105396\ttotal: 436ms\tremaining: 97.7ms\n",
      "817:\tlearn: 0.0104930\ttotal: 437ms\tremaining: 97.2ms\n",
      "818:\tlearn: 0.0104542\ttotal: 437ms\tremaining: 96.6ms\n",
      "819:\tlearn: 0.0104223\ttotal: 438ms\tremaining: 96.1ms\n",
      "820:\tlearn: 0.0103845\ttotal: 439ms\tremaining: 95.6ms\n",
      "821:\tlearn: 0.0103391\ttotal: 439ms\tremaining: 95.1ms\n",
      "822:\tlearn: 0.0103022\ttotal: 440ms\tremaining: 94.5ms\n",
      "823:\tlearn: 0.0102711\ttotal: 440ms\tremaining: 94ms\n",
      "824:\tlearn: 0.0102353\ttotal: 441ms\tremaining: 93.5ms\n",
      "825:\tlearn: 0.0101855\ttotal: 441ms\tremaining: 92.9ms\n",
      "826:\tlearn: 0.0101551\ttotal: 441ms\tremaining: 92.3ms\n",
      "827:\tlearn: 0.0101203\ttotal: 442ms\tremaining: 91.8ms\n",
      "828:\tlearn: 0.0100995\ttotal: 442ms\tremaining: 91.3ms\n",
      "829:\tlearn: 0.0100655\ttotal: 443ms\tremaining: 90.8ms\n",
      "830:\tlearn: 0.0100451\ttotal: 444ms\tremaining: 90.3ms\n",
      "831:\tlearn: 0.0100120\ttotal: 444ms\tremaining: 89.7ms\n",
      "832:\tlearn: 0.0099919\ttotal: 445ms\tremaining: 89.2ms\n",
      "833:\tlearn: 0.0099597\ttotal: 445ms\tremaining: 88.7ms\n",
      "834:\tlearn: 0.0099413\ttotal: 446ms\tremaining: 88.1ms\n",
      "835:\tlearn: 0.0099231\ttotal: 446ms\tremaining: 87.6ms\n",
      "836:\tlearn: 0.0099052\ttotal: 447ms\tremaining: 87ms\n",
      "837:\tlearn: 0.0098780\ttotal: 447ms\tremaining: 86.5ms\n",
      "838:\tlearn: 0.0098603\ttotal: 448ms\tremaining: 85.9ms\n",
      "839:\tlearn: 0.0098429\ttotal: 448ms\tremaining: 85.4ms\n",
      "840:\tlearn: 0.0098201\ttotal: 449ms\tremaining: 84.8ms\n",
      "841:\tlearn: 0.0097878\ttotal: 449ms\tremaining: 84.3ms\n",
      "842:\tlearn: 0.0097617\ttotal: 450ms\tremaining: 83.7ms\n",
      "843:\tlearn: 0.0097462\ttotal: 450ms\tremaining: 83.2ms\n",
      "844:\tlearn: 0.0097309\ttotal: 451ms\tremaining: 82.6ms\n",
      "845:\tlearn: 0.0097158\ttotal: 451ms\tremaining: 82.1ms\n",
      "846:\tlearn: 0.0097009\ttotal: 452ms\tremaining: 81.6ms\n",
      "847:\tlearn: 0.0096755\ttotal: 452ms\tremaining: 81ms\n",
      "848:\tlearn: 0.0096567\ttotal: 453ms\tremaining: 80.5ms\n",
      "849:\tlearn: 0.0096360\ttotal: 453ms\tremaining: 80ms\n",
      "850:\tlearn: 0.0096175\ttotal: 454ms\tremaining: 79.4ms\n",
      "851:\tlearn: 0.0095785\ttotal: 454ms\tremaining: 78.9ms\n",
      "852:\tlearn: 0.0095641\ttotal: 455ms\tremaining: 78.3ms\n",
      "853:\tlearn: 0.0095499\ttotal: 455ms\tremaining: 77.8ms\n",
      "854:\tlearn: 0.0095318\ttotal: 456ms\tremaining: 77.3ms\n",
      "855:\tlearn: 0.0095035\ttotal: 456ms\tremaining: 76.7ms\n",
      "856:\tlearn: 0.0094776\ttotal: 457ms\tremaining: 76.2ms\n",
      "857:\tlearn: 0.0094597\ttotal: 457ms\tremaining: 75.7ms\n",
      "858:\tlearn: 0.0094258\ttotal: 458ms\tremaining: 75.1ms\n",
      "859:\tlearn: 0.0093882\ttotal: 458ms\tremaining: 74.6ms\n",
      "860:\tlearn: 0.0093553\ttotal: 459ms\tremaining: 74ms\n",
      "861:\tlearn: 0.0093376\ttotal: 459ms\tremaining: 73.5ms\n",
      "862:\tlearn: 0.0093135\ttotal: 459ms\tremaining: 72.9ms\n",
      "863:\tlearn: 0.0092999\ttotal: 460ms\tremaining: 72.4ms\n",
      "864:\tlearn: 0.0092726\ttotal: 460ms\tremaining: 71.9ms\n",
      "865:\tlearn: 0.0092552\ttotal: 461ms\tremaining: 71.3ms\n",
      "866:\tlearn: 0.0092285\ttotal: 461ms\tremaining: 70.8ms\n",
      "867:\tlearn: 0.0092113\ttotal: 462ms\tremaining: 70.3ms\n",
      "868:\tlearn: 0.0091867\ttotal: 463ms\tremaining: 69.7ms\n",
      "869:\tlearn: 0.0091544\ttotal: 463ms\tremaining: 69.2ms\n",
      "870:\tlearn: 0.0091301\ttotal: 464ms\tremaining: 68.7ms\n",
      "871:\tlearn: 0.0090991\ttotal: 464ms\tremaining: 68.1ms\n",
      "872:\tlearn: 0.0090821\ttotal: 465ms\tremaining: 67.6ms\n",
      "873:\tlearn: 0.0090593\ttotal: 465ms\tremaining: 67ms\n",
      "874:\tlearn: 0.0090425\ttotal: 465ms\tremaining: 66.5ms\n",
      "875:\tlearn: 0.0090156\ttotal: 466ms\tremaining: 66ms\n",
      "876:\tlearn: 0.0089953\ttotal: 466ms\tremaining: 65.4ms\n",
      "877:\tlearn: 0.0089658\ttotal: 467ms\tremaining: 64.9ms\n",
      "878:\tlearn: 0.0089371\ttotal: 468ms\tremaining: 64.4ms\n",
      "879:\tlearn: 0.0089036\ttotal: 468ms\tremaining: 63.8ms\n",
      "880:\tlearn: 0.0088758\ttotal: 469ms\tremaining: 63.3ms\n",
      "881:\tlearn: 0.0088431\ttotal: 469ms\tremaining: 62.8ms\n",
      "882:\tlearn: 0.0088175\ttotal: 470ms\tremaining: 62.2ms\n",
      "883:\tlearn: 0.0087963\ttotal: 470ms\tremaining: 61.7ms\n",
      "884:\tlearn: 0.0087673\ttotal: 471ms\tremaining: 61.1ms\n",
      "885:\tlearn: 0.0087505\ttotal: 471ms\tremaining: 60.6ms\n",
      "886:\tlearn: 0.0087391\ttotal: 471ms\tremaining: 60.1ms\n",
      "887:\tlearn: 0.0087267\ttotal: 472ms\tremaining: 59.5ms\n",
      "888:\tlearn: 0.0087154\ttotal: 473ms\tremaining: 59ms\n",
      "889:\tlearn: 0.0087043\ttotal: 473ms\tremaining: 58.5ms\n",
      "890:\tlearn: 0.0086862\ttotal: 474ms\tremaining: 58ms\n",
      "891:\tlearn: 0.0086722\ttotal: 475ms\tremaining: 57.5ms\n",
      "892:\tlearn: 0.0086601\ttotal: 475ms\tremaining: 56.9ms\n",
      "893:\tlearn: 0.0086406\ttotal: 476ms\tremaining: 56.4ms\n",
      "894:\tlearn: 0.0086277\ttotal: 476ms\tremaining: 55.8ms\n",
      "895:\tlearn: 0.0086085\ttotal: 476ms\tremaining: 55.3ms\n",
      "896:\tlearn: 0.0085966\ttotal: 477ms\tremaining: 54.8ms\n",
      "897:\tlearn: 0.0085753\ttotal: 477ms\tremaining: 54.2ms\n",
      "898:\tlearn: 0.0085563\ttotal: 478ms\tremaining: 53.7ms\n",
      "899:\tlearn: 0.0085439\ttotal: 478ms\tremaining: 53.1ms\n",
      "900:\tlearn: 0.0085253\ttotal: 479ms\tremaining: 52.6ms\n",
      "901:\tlearn: 0.0085118\ttotal: 479ms\tremaining: 52.1ms\n",
      "902:\tlearn: 0.0085003\ttotal: 480ms\tremaining: 51.5ms\n",
      "903:\tlearn: 0.0084903\ttotal: 480ms\tremaining: 51ms\n",
      "904:\tlearn: 0.0084807\ttotal: 481ms\tremaining: 50.5ms\n",
      "905:\tlearn: 0.0084694\ttotal: 481ms\tremaining: 49.9ms\n",
      "906:\tlearn: 0.0084465\ttotal: 482ms\tremaining: 49.4ms\n",
      "907:\tlearn: 0.0084276\ttotal: 482ms\tremaining: 48.9ms\n",
      "908:\tlearn: 0.0084125\ttotal: 483ms\tremaining: 48.4ms\n",
      "909:\tlearn: 0.0084007\ttotal: 484ms\tremaining: 47.9ms\n",
      "910:\tlearn: 0.0083896\ttotal: 484ms\tremaining: 47.3ms\n",
      "911:\tlearn: 0.0083715\ttotal: 485ms\tremaining: 46.8ms\n",
      "912:\tlearn: 0.0083613\ttotal: 485ms\tremaining: 46.2ms\n",
      "913:\tlearn: 0.0083427\ttotal: 486ms\tremaining: 45.7ms\n",
      "914:\tlearn: 0.0083346\ttotal: 486ms\tremaining: 45.2ms\n",
      "915:\tlearn: 0.0083198\ttotal: 487ms\tremaining: 44.6ms\n",
      "916:\tlearn: 0.0082951\ttotal: 487ms\tremaining: 44.1ms\n",
      "917:\tlearn: 0.0082844\ttotal: 488ms\tremaining: 43.6ms\n",
      "918:\tlearn: 0.0082764\ttotal: 488ms\tremaining: 43ms\n",
      "919:\tlearn: 0.0082657\ttotal: 489ms\tremaining: 42.5ms\n",
      "920:\tlearn: 0.0082511\ttotal: 489ms\tremaining: 42ms\n",
      "921:\tlearn: 0.0082339\ttotal: 490ms\tremaining: 41.4ms\n",
      "922:\tlearn: 0.0082194\ttotal: 490ms\tremaining: 40.9ms\n",
      "923:\tlearn: 0.0082027\ttotal: 490ms\tremaining: 40.3ms\n",
      "924:\tlearn: 0.0081839\ttotal: 491ms\tremaining: 39.8ms\n",
      "925:\tlearn: 0.0081507\ttotal: 491ms\tremaining: 39.3ms\n",
      "926:\tlearn: 0.0081377\ttotal: 492ms\tremaining: 38.7ms\n",
      "927:\tlearn: 0.0081064\ttotal: 492ms\tremaining: 38.2ms\n",
      "928:\tlearn: 0.0081017\ttotal: 493ms\tremaining: 37.7ms\n",
      "929:\tlearn: 0.0080916\ttotal: 493ms\tremaining: 37.1ms\n",
      "930:\tlearn: 0.0080735\ttotal: 494ms\tremaining: 36.6ms\n",
      "931:\tlearn: 0.0080428\ttotal: 494ms\tremaining: 36.1ms\n",
      "932:\tlearn: 0.0080149\ttotal: 495ms\tremaining: 35.5ms\n",
      "933:\tlearn: 0.0079973\ttotal: 495ms\tremaining: 35ms\n",
      "934:\tlearn: 0.0079672\ttotal: 496ms\tremaining: 34.5ms\n",
      "935:\tlearn: 0.0079400\ttotal: 496ms\tremaining: 33.9ms\n",
      "936:\tlearn: 0.0079165\ttotal: 497ms\tremaining: 33.4ms\n",
      "937:\tlearn: 0.0079067\ttotal: 497ms\tremaining: 32.9ms\n",
      "938:\tlearn: 0.0078897\ttotal: 498ms\tremaining: 32.4ms\n",
      "939:\tlearn: 0.0078801\ttotal: 498ms\tremaining: 31.8ms\n",
      "940:\tlearn: 0.0078535\ttotal: 499ms\tremaining: 31.3ms\n",
      "941:\tlearn: 0.0078369\ttotal: 500ms\tremaining: 30.8ms\n",
      "942:\tlearn: 0.0078076\ttotal: 500ms\tremaining: 30.2ms\n",
      "943:\tlearn: 0.0077808\ttotal: 500ms\tremaining: 29.7ms\n",
      "944:\tlearn: 0.0077646\ttotal: 501ms\tremaining: 29.2ms\n",
      "945:\tlearn: 0.0077416\ttotal: 501ms\tremaining: 28.6ms\n",
      "946:\tlearn: 0.0077384\ttotal: 502ms\tremaining: 28.1ms\n",
      "947:\tlearn: 0.0077353\ttotal: 503ms\tremaining: 27.6ms\n",
      "948:\tlearn: 0.0077127\ttotal: 503ms\tremaining: 27ms\n",
      "949:\tlearn: 0.0077096\ttotal: 504ms\tremaining: 26.5ms\n",
      "950:\tlearn: 0.0077066\ttotal: 504ms\tremaining: 26ms\n",
      "951:\tlearn: 0.0076811\ttotal: 505ms\tremaining: 25.5ms\n",
      "952:\tlearn: 0.0076643\ttotal: 505ms\tremaining: 24.9ms\n",
      "953:\tlearn: 0.0076420\ttotal: 506ms\tremaining: 24.4ms\n",
      "954:\tlearn: 0.0076390\ttotal: 506ms\tremaining: 23.9ms\n",
      "955:\tlearn: 0.0076227\ttotal: 507ms\tremaining: 23.3ms\n",
      "956:\tlearn: 0.0075944\ttotal: 507ms\tremaining: 22.8ms\n",
      "957:\tlearn: 0.0075667\ttotal: 508ms\tremaining: 22.3ms\n",
      "958:\tlearn: 0.0075510\ttotal: 508ms\tremaining: 21.7ms\n",
      "959:\tlearn: 0.0075260\ttotal: 509ms\tremaining: 21.2ms\n",
      "960:\tlearn: 0.0075043\ttotal: 509ms\tremaining: 20.7ms\n",
      "961:\tlearn: 0.0075015\ttotal: 510ms\tremaining: 20.1ms\n",
      "962:\tlearn: 0.0074813\ttotal: 510ms\tremaining: 19.6ms\n",
      "963:\tlearn: 0.0074633\ttotal: 511ms\tremaining: 19.1ms\n",
      "964:\tlearn: 0.0074419\ttotal: 511ms\tremaining: 18.5ms\n",
      "965:\tlearn: 0.0074256\ttotal: 512ms\tremaining: 18ms\n",
      "966:\tlearn: 0.0074099\ttotal: 512ms\tremaining: 17.5ms\n",
      "967:\tlearn: 0.0073830\ttotal: 513ms\tremaining: 17ms\n",
      "968:\tlearn: 0.0073681\ttotal: 513ms\tremaining: 16.4ms\n",
      "969:\tlearn: 0.0073434\ttotal: 514ms\tremaining: 15.9ms\n",
      "970:\tlearn: 0.0073224\ttotal: 515ms\tremaining: 15.4ms\n",
      "971:\tlearn: 0.0073029\ttotal: 515ms\tremaining: 14.8ms\n",
      "972:\tlearn: 0.0073002\ttotal: 516ms\tremaining: 14.3ms\n",
      "973:\tlearn: 0.0072811\ttotal: 516ms\tremaining: 13.8ms\n",
      "974:\tlearn: 0.0072641\ttotal: 517ms\tremaining: 13.3ms\n",
      "975:\tlearn: 0.0072435\ttotal: 518ms\tremaining: 12.7ms\n",
      "976:\tlearn: 0.0072282\ttotal: 519ms\tremaining: 12.2ms\n",
      "977:\tlearn: 0.0072125\ttotal: 519ms\tremaining: 11.7ms\n",
      "978:\tlearn: 0.0071975\ttotal: 520ms\tremaining: 11.1ms\n",
      "979:\tlearn: 0.0071717\ttotal: 520ms\tremaining: 10.6ms\n",
      "980:\tlearn: 0.0071563\ttotal: 520ms\tremaining: 10.1ms\n",
      "981:\tlearn: 0.0071309\ttotal: 521ms\tremaining: 9.55ms\n",
      "982:\tlearn: 0.0071171\ttotal: 522ms\tremaining: 9.02ms\n",
      "983:\tlearn: 0.0070932\ttotal: 522ms\tremaining: 8.49ms\n",
      "984:\tlearn: 0.0070695\ttotal: 523ms\tremaining: 7.96ms\n",
      "985:\tlearn: 0.0070493\ttotal: 523ms\tremaining: 7.42ms\n",
      "986:\tlearn: 0.0070312\ttotal: 523ms\tremaining: 6.89ms\n",
      "987:\tlearn: 0.0070286\ttotal: 524ms\tremaining: 6.36ms\n",
      "988:\tlearn: 0.0070261\ttotal: 524ms\tremaining: 5.83ms\n",
      "989:\tlearn: 0.0070050\ttotal: 525ms\tremaining: 5.3ms\n",
      "990:\tlearn: 0.0069839\ttotal: 525ms\tremaining: 4.77ms\n",
      "991:\tlearn: 0.0069575\ttotal: 526ms\tremaining: 4.24ms\n",
      "992:\tlearn: 0.0069380\ttotal: 526ms\tremaining: 3.71ms\n"
     ]
    },
    {
     "name": "stdout",
     "output_type": "stream",
     "text": [
      "993:\tlearn: 0.0069189\ttotal: 527ms\tremaining: 3.18ms\n",
      "994:\tlearn: 0.0069164\ttotal: 528ms\tremaining: 2.65ms\n",
      "995:\tlearn: 0.0069139\ttotal: 528ms\tremaining: 2.12ms\n",
      "996:\tlearn: 0.0069115\ttotal: 529ms\tremaining: 1.59ms\n",
      "997:\tlearn: 0.0068909\ttotal: 529ms\tremaining: 1.06ms\n",
      "998:\tlearn: 0.0068767\ttotal: 530ms\tremaining: 530us\n",
      "999:\tlearn: 0.0068526\ttotal: 530ms\tremaining: 0us\n"
     ]
    },
    {
     "data": {
      "text/plain": [
       "<catboost.core.CatBoostRegressor at 0x7f9850687610>"
      ]
     },
     "execution_count": 9,
     "metadata": {},
     "output_type": "execute_result"
    }
   ],
   "source": [
    "#Train the Model \n",
    "prior_model = ctb.CatBoostRegressor()\n",
    "prior_model.fit(X_train,Y_train)"
   ]
  },
  {
   "cell_type": "code",
   "execution_count": 10,
   "id": "af65dcda",
   "metadata": {
    "execution": {
     "iopub.execute_input": "2022-03-16T13:39:05.682475Z",
     "iopub.status.busy": "2022-03-16T13:39:05.681923Z",
     "iopub.status.idle": "2022-03-16T13:39:05.693537Z",
     "shell.execute_reply": "2022-03-16T13:39:05.693909Z"
    },
    "id": "af65dcda",
    "papermill": {
     "duration": 0.031111,
     "end_time": "2022-03-16T13:39:05.694075",
     "exception": false,
     "start_time": "2022-03-16T13:39:05.662964",
     "status": "completed"
    },
    "tags": []
   },
   "outputs": [
    {
     "data": {
      "application/scrapbook.scrap.json+json": {
       "data": 0.02198529541835708,
       "encoder": "json",
       "name": "Prior Model MSE",
       "version": 1
      }
     },
     "metadata": {
      "scrapbook": {
       "data": true,
       "display": false,
       "name": "Prior Model MSE"
      }
     },
     "output_type": "display_data"
    },
    {
     "data": {
      "application/scrapbook.scrap.json+json": {
       "data": 0.04050726116195554,
       "encoder": "json",
       "name": "ABC Pre-generator MSE",
       "version": 1
      }
     },
     "metadata": {
      "scrapbook": {
       "data": true,
       "display": false,
       "name": "ABC Pre-generator MSE"
      }
     },
     "output_type": "display_data"
    },
    {
     "data": {
      "application/scrapbook.scrap.json+json": {
       "data": 0.09559498508221219,
       "encoder": "json",
       "name": "Prior Model MSE",
       "version": 1
      }
     },
     "metadata": {
      "scrapbook": {
       "data": true,
       "display": false,
       "name": "Prior Model MSE"
      }
     },
     "output_type": "display_data"
    },
    {
     "data": {
      "application/scrapbook.scrap.json+json": {
       "data": 0.17333727684056108,
       "encoder": "json",
       "name": "ABC Pre-generator MSE",
       "version": 1
      }
     },
     "metadata": {
      "scrapbook": {
       "data": true,
       "display": false,
       "name": "ABC Pre-generator MSE"
      }
     },
     "output_type": "display_data"
    }
   ],
   "source": [
    "y_pred = prior_model.predict(X_test)\n",
    "y_abc = y_pred + np.random.normal(0,variance, y_pred.shape) + bias \n",
    "mse = mean_squared_error(y_pred,Y_test)\n",
    "sb.glue(\"Prior Model MSE\",mse)\n",
    "mse = mean_squared_error(y_abc,Y_test)\n",
    "sb.glue(\"ABC Pre-generator MSE\",mse)\n",
    "mae = mean_absolute_error(y_pred,Y_test)\n",
    "sb.glue(\"Prior Model MSE\",mae)\n",
    "mae = mean_absolute_error(y_abc,Y_test)\n",
    "sb.glue(\"ABC Pre-generator MSE\",mae)"
   ]
  },
  {
   "cell_type": "markdown",
   "id": "25609da2",
   "metadata": {
    "papermill": {
     "duration": 0.013627,
     "end_time": "2022-03-16T13:39:05.722853",
     "exception": false,
     "start_time": "2022-03-16T13:39:05.709226",
     "status": "completed"
    },
    "tags": []
   },
   "source": [
    "# ABC GAN Model"
   ]
  },
  {
   "cell_type": "code",
   "execution_count": 11,
   "id": "dfc3464d",
   "metadata": {
    "execution": {
     "iopub.execute_input": "2022-03-16T13:39:05.754541Z",
     "iopub.status.busy": "2022-03-16T13:39:05.754045Z",
     "iopub.status.idle": "2022-03-16T13:39:05.757134Z",
     "shell.execute_reply": "2022-03-16T13:39:05.757456Z"
    },
    "papermill": {
     "duration": 0.021119,
     "end_time": "2022-03-16T13:39:05.757614",
     "exception": false,
     "start_time": "2022-03-16T13:39:05.736495",
     "status": "completed"
    },
    "tags": []
   },
   "outputs": [],
   "source": [
    "gen = network.Generator(n_features+1).to(device)\n",
    "disc = network.Discriminator(n_features+1).to(device)\n",
    "\n",
    "criterion = torch.nn.BCELoss()\n",
    "gen_opt = torch.optim.Adam(gen.parameters(), lr=0.001, betas=(0.5, 0.999))\n",
    "disc_opt = torch.optim.Adam(disc.parameters(), lr=0.001, betas=(0.5, 0.999))"
   ]
  },
  {
   "cell_type": "code",
   "execution_count": 12,
   "id": "b75fdd85",
   "metadata": {
    "execution": {
     "iopub.execute_input": "2022-03-16T13:39:05.788089Z",
     "iopub.status.busy": "2022-03-16T13:39:05.787609Z",
     "iopub.status.idle": "2022-03-16T13:39:20.304803Z",
     "shell.execute_reply": "2022-03-16T13:39:20.305039Z"
    },
    "papermill": {
     "duration": 14.533652,
     "end_time": "2022-03-16T13:39:20.305166",
     "exception": false,
     "start_time": "2022-03-16T13:39:05.771514",
     "status": "completed"
    },
    "tags": []
   },
   "outputs": [
    {
     "data": {
      "image/png": "[encoded data removed]",
      "text/plain": [
       "<Figure size 432x288 with 1 Axes>"
      ]
     },
     "metadata": {
      "needs_background": "light"
     },
     "output_type": "display_data"
    },
    {
     "data": {
      "image/png": "[encoded data removed]",
      "text/plain": [
       "<Figure size 432x288 with 1 Axes>"
      ]
     },
     "metadata": {
      "needs_background": "light"
     },
     "output_type": "display_data"
    }
   ],
   "source": [
    "#Training the ABC_GAN \n",
    "ABC_train_test2.training_GAN(disc,gen,disc_opt,gen_opt,train_data,batch_size,n_epochs,criterion,prior_model,variance,bias,device)"
   ]
  },
  {
   "cell_type": "code",
   "execution_count": 13,
   "id": "1fa7c368",
   "metadata": {
    "execution": {
     "iopub.execute_input": "2022-03-16T13:39:20.334480Z",
     "iopub.status.busy": "2022-03-16T13:39:20.333965Z",
     "iopub.status.idle": "2022-03-16T13:39:20.526286Z",
     "shell.execute_reply": "2022-03-16T13:39:20.526568Z"
    },
    "papermill": {
     "duration": 0.209549,
     "end_time": "2022-03-16T13:39:20.526697",
     "exception": false,
     "start_time": "2022-03-16T13:39:20.317148",
     "status": "completed"
    },
    "tags": []
   },
   "outputs": [
    {
     "data": {
      "application/scrapbook.scrap.json+json": {
       "data": 0.0084958333021795,
       "encoder": "json",
       "name": "ABC-GAN Model 1 MSE",
       "version": 1
      }
     },
     "metadata": {
      "scrapbook": {
       "data": true,
       "display": false,
       "name": "ABC-GAN Model 1 MSE"
      }
     },
     "output_type": "display_data"
    },
    {
     "data": {
      "application/scrapbook.scrap.json+json": {
       "data": 0.08215892126783729,
       "encoder": "json",
       "name": "ABC-GAN Model 1 MAE",
       "version": 1
      }
     },
     "metadata": {
      "scrapbook": {
       "data": true,
       "display": false,
       "name": "ABC-GAN Model 1 MAE"
      }
     },
     "output_type": "display_data"
    },
    {
     "data": {
      "application/scrapbook.scrap.json+json": {
       "data": 1.6431784253567456,
       "encoder": "json",
       "name": "ABC-GAN Model 1 Manhattan Distance",
       "version": 1
      }
     },
     "metadata": {
      "scrapbook": {
       "data": true,
       "display": false,
       "name": "ABC-GAN Model 1 Manhattan Distance"
      }
     },
     "output_type": "display_data"
    },
    {
     "data": {
      "application/scrapbook.scrap.json+json": {
       "data": 0.4116235824746406,
       "encoder": "json",
       "name": "ABC-GAN Model 1 Euclidean distance",
       "version": 1
      }
     },
     "metadata": {
      "scrapbook": {
       "data": true,
       "display": false,
       "name": "ABC-GAN Model 1 Euclidean distance"
      }
     },
     "output_type": "display_data"
    },
    {
     "data": {
      "application/scrapbook.scrap.json+json": {
       "data": [
        [
         0.00840150082477197,
         0.007706963019339203,
         0.00934052559711225,
         0.008943750035992529,
         0.009571041756499069,
         0.008027127894516341,
         0.00853132908682,
         0.009722113640499514,
         0.008183162554498061,
         0.00899345071115874,
         0.009308721405403033,
         0.009467299403247966,
         0.007052232078569312,
         0.008027616431380826,
         0.009905603466291551,
         0.008207382888506781,
         0.009193202202189235,
         0.007347233476936091,
         0.007633833608919452,
         0.006941418029074167,
         0.008636398208071234,
         0.007233398153563289,
         0.009574310899772846,
         0.00999230806828449,
         0.007231420441541727,
         0.008778996691803338,
         0.00917275735280693,
         0.008167462008125705,
         0.00893589902699187,
         0.009199818783743355,
         0.010185995574889264,
         0.008406787706081836,
         0.010803346400468853,
         0.007983892146201058,
         0.008641015029311989,
         0.008138903290505586,
         0.0075571441636558545,
         0.007901115507762093,
         0.008638387172277278,
         0.007007136972851674,
         0.007667218520335764,
         0.009683740694454351,
         0.007734934564012247,
         0.009382930935232018,
         0.008440909219936657,
         0.008534474902085245,
         0.009047315801026648,
         0.007822229055718092,
         0.009713670849280926,
         0.008661602030073703,
         0.005939966649483722,
         0.008662624274001687,
         0.008935478150702284,
         0.006972695118671837,
         0.008121000551094174,
         0.007769404047401321,
         0.008949488657020102,
         0.009287359213189707,
         0.007902334354104706,
         0.008071848926321918,
         0.007583129770423916,
         0.008780651098325782,
         0.009255050008532597,
         0.008482093522567083,
         0.007570787098126444,
         0.010073923035223234,
         0.007665168160700023,
         0.009345700617098742,
         0.009001935653659246,
         0.008473947725442446,
         0.009008563210865832,
         0.008392959294470929,
         0.00856368209325609,
         0.00882564543591268,
         0.007427158071669474,
         0.007824858602198642,
         0.007693580281965101,
         0.010657729559429011,
         0.008469780828803666,
         0.0074646901633468234,
         0.00871456794008806,
         0.008985574231246986,
         0.007683261565027549,
         0.008746709305823025,
         0.010414276555111296,
         0.007780243988095206,
         0.007857095316600175,
         0.008595719968927055,
         0.008415236426887343,
         0.00899202233223935,
         0.008365637148643194,
         0.008804255496969598,
         0.007981096916617872,
         0.009507178095358185,
         0.010112215298029975,
         0.007322109587844588,
         0.008200154395337469,
         0.007679332621977913,
         0.007755358149245934,
         0.007117022421277955
        ],
        [
         0.08351637981832027,
         0.07680719122290611,
         0.08875579200685024,
         0.08314859755337238,
         0.08661986850202083,
         0.07858052439987659,
         0.08156926557421684,
         0.08813907206058502,
         0.08090138249099255,
         0.0833546906709671,
         0.08702116347849369,
         0.08604099936783313,
         0.0751395296305418,
         0.08009991683065891,
         0.08981300368905068,
         0.08186436742544174,
         0.08642365373671054,
         0.07637173198163509,
         0.07725649438798428,
         0.07507217042148114,
         0.08384343013167381,
         0.07573183737695217,
         0.08590059019625187,
         0.08967232257127762,
         0.0767916526645422,
         0.08416431099176407,
         0.08450276963412762,
         0.08154543451964855,
         0.0845345627516508,
         0.08749396465718746,
         0.08820664100348949,
         0.08126410245895385,
         0.0928164791315794,
         0.08173725120723248,
         0.08155108764767646,
         0.08048392720520496,
         0.07820007875561714,
         0.08090014792978764,
         0.08391187638044358,
         0.07450494989752769,
         0.07726306430995464,
         0.08490755707025528,
         0.07712686210870742,
         0.08626205883920193,
         0.08143757395446301,
         0.08163719363510609,
         0.08562522791326047,
         0.07771904058754445,
         0.08863554671406745,
         0.08314351029694081,
         0.06851060278713703,
         0.08307532928884029,
         0.08414331190288067,
         0.07409671135246754,
         0.08103287927806377,
         0.07954554669559002,
         0.08453852646052837,
         0.08724269382655621,
         0.07882336303591728,
         0.08150297775864601,
         0.07757692970335484,
         0.08299944698810577,
         0.0856756690889597,
         0.08223854564130306,
         0.07660494111478329,
         0.08901358880102635,
         0.07630796693265438,
         0.08684159107506276,
         0.08340823091566563,
         0.08365168906748295,
         0.08561184331774711,
         0.08303496725857258,
         0.08239513002336026,
         0.08485064171254635,
         0.07775814048945903,
         0.07933332696557045,
         0.07790973708033562,
         0.0912818681448698,
         0.08335212878882885,
         0.07864122726023197,
         0.08305436931550503,
         0.08450712747871876,
         0.07706892117857933,
         0.08250682204961776,
         0.09282518029212952,
         0.07870111130177974,
         0.07899799905717372,
         0.08310051299631596,
         0.08120141811668873,
         0.08502117879688739,
         0.0815013114362955,
         0.08219981342554092,
         0.07978977598249912,
         0.08574668578803539,
         0.08953593522310258,
         0.07421217486262321,
         0.08133463151752948,
         0.07917729914188384,
         0.0786586232483387,
         0.07774083502590656
        ],
        [
         1.6703275963664055,
         1.5361438244581223,
         1.7751158401370049,
         1.6629719510674477,
         1.7323973700404167,
         1.571610487997532,
         1.6313853114843369,
         1.7627814412117004,
         1.618027649819851,
         1.667093813419342,
         1.7404232695698738,
         1.7208199873566628,
         1.502790592610836,
         1.6019983366131783,
         1.7962600737810135,
         1.6372873485088348,
         1.728473074734211,
         1.5274346396327019,
         1.5451298877596855,
         1.5014434084296227,
         1.6768686026334763,
         1.5146367475390434,
         1.7180118039250374,
         1.7934464514255524,
         1.535833053290844,
         1.6832862198352814,
         1.6900553926825523,
         1.630908690392971,
         1.6906912550330162,
         1.7498792931437492,
         1.7641328200697899,
         1.6252820491790771,
         1.856329582631588,
         1.6347450241446495,
         1.6310217529535294,
         1.6096785441040993,
         1.5640015751123428,
         1.6180029585957527,
         1.6782375276088715,
         1.490098997950554,
         1.5452612861990929,
         1.6981511414051056,
         1.5425372421741486,
         1.7252411767840385,
         1.62875147908926,
         1.6327438727021217,
         1.7125045582652092,
         1.5543808117508888,
         1.7727109342813492,
         1.662870205938816,
         1.3702120557427406,
         1.6615065857768059,
         1.6828662380576134,
         1.4819342270493507,
         1.6206575855612755,
         1.5909109339118004,
         1.6907705292105675,
         1.7448538765311241,
         1.5764672607183456,
         1.6300595551729202,
         1.5515385940670967,
         1.6599889397621155,
         1.7135133817791939,
         1.6447709128260612,
         1.5320988222956657,
         1.7802717760205269,
         1.5261593386530876,
         1.736831821501255,
         1.6681646183133125,
         1.673033781349659,
         1.7122368663549423,
         1.6606993451714516,
         1.647902600467205,
         1.697012834250927,
         1.5551628097891808,
         1.586666539311409,
         1.5581947416067123,
         1.825637362897396,
         1.667042575776577,
         1.5728245452046394,
         1.6610873863101006,
         1.6901425495743752,
         1.5413784235715866,
         1.6501364409923553,
         1.8565036058425903,
         1.574022226035595,
         1.5799599811434746,
         1.6620102599263191,
         1.6240283623337746,
         1.700423575937748,
         1.6300262287259102,
         1.6439962685108185,
         1.5957955196499825,
         1.7149337157607079,
         1.7907187044620514,
         1.4842434972524643,
         1.6266926303505898,
         1.583545982837677,
         1.573172464966774,
         1.5548167005181313
        ],
        [
         0.40991464537808286,
         0.39260573147469974,
         0.43221581639528767,
         0.4229361662471662,
         0.43751666840245224,
         0.40067762339607493,
         0.41306970566285783,
         0.440956089435207,
         0.4045531498949937,
         0.42410967239992864,
         0.4314793484143368,
         0.43513904451905866,
         0.375559105296871,
         0.40068981597691816,
         0.4450978199517843,
         0.4051514010467391,
         0.4287937080272805,
         0.3833336269344523,
         0.3907386238630487,
         0.37259678015447656,
         0.4156055391370821,
         0.38035241956804455,
         0.4375913824510909,
         0.4470415655905945,
         0.38030041918309077,
         0.41902259346730547,
         0.42831664344984144,
         0.40416486755099595,
         0.4227504944288503,
         0.42894798714397425,
         0.45135342194092787,
         0.41004360026908937,
         0.4648299990419907,
         0.3995971007452646,
         0.4157166109096914,
         0.40345763818536357,
         0.38877099078135585,
         0.3975202009398288,
         0.41565339340073426,
         0.37435643370594485,
         0.39159209696662073,
         0.44008500757136343,
         0.3933175450958741,
         0.43319582027605064,
         0.4108749011545158,
         0.4131458556511307,
         0.4253778508814639,
         0.3955307587462217,
         0.4407645822722358,
         0.4162115334796407,
         0.3446727911943071,
         0.4162360934374069,
         0.422740538645214,
         0.3734352719996288,
         0.4030136610859283,
         0.3941929488816694,
         0.4230718297646418,
         0.4309839721657804,
         0.39755086100031795,
         0.40179220814550193,
         0.3894388211368742,
         0.4190620741209059,
         0.4302336576450661,
         0.41187603772414544,
         0.38912175724640335,
         0.44886352124500456,
         0.39153973388916796,
         0.4323355321298203,
         0.42430969005336766,
         0.41167821719013614,
         0.42446585754017563,
         0.4097062190026148,
         0.4138521980914464,
         0.4201343936388136,
         0.3854129751751872,
         0.3955972346262962,
         0.39226471373206895,
         0.4616866807571778,
         0.4115769874228555,
         0.38638556296390847,
         0.41748216584874764,
         0.42392391372148347,
         0.39200157053327095,
         0.41825134323330093,
         0.45638309686295997,
         0.3944678437615722,
         0.39641128431466666,
         0.4146256135099966,
         0.41024959297694236,
         0.4240759915920577,
         0.4090388037495512,
         0.419624963436867,
         0.3995271434237697,
         0.4360545400602586,
         0.4497158057713777,
         0.3826776603838951,
         0.4049729471294958,
         0.391901329979318,
         0.39383646731215566,
         0.37728033135264166
        ]
       ],
       "encoder": "json",
       "name": "ABC_GAN_1 Metrics",
       "version": 1
      }
     },
     "metadata": {
      "scrapbook": {
       "data": true,
       "display": false,
       "name": "ABC_GAN_1 Metrics"
      }
     },
     "output_type": "display_data"
    },
    {
     "name": "stdout",
     "output_type": "stream",
     "text": [
      "MSE\n",
      "0.0084958333021795\n"
     ]
    }
   ],
   "source": [
    "ABC_GAN1_metrics=ABC_train_test2.test_generator(gen,test_data,prior_model,variance,bias,\"1\",device)\n",
    "sb.glue(\"ABC_GAN_1 Metrics\",ABC_GAN1_metrics)\n",
    "\n",
    "print(\"MSE\")\n",
    "print(mean(ABC_GAN1_metrics[0]))"
   ]
  },
  {
   "cell_type": "code",
   "execution_count": 14,
   "id": "eb22ce5c",
   "metadata": {
    "execution": {
     "iopub.execute_input": "2022-03-16T13:39:20.556713Z",
     "iopub.status.busy": "2022-03-16T13:39:20.556321Z",
     "iopub.status.idle": "2022-03-16T13:39:20.929389Z",
     "shell.execute_reply": "2022-03-16T13:39:20.929746Z"
    },
    "papermill": {
     "duration": 0.389247,
     "end_time": "2022-03-16T13:39:20.929919",
     "exception": false,
     "start_time": "2022-03-16T13:39:20.540672",
     "status": "completed"
    },
    "tags": []
   },
   "outputs": [
    {
     "data": {
      "image/png": "[encoded data removed]",
      "text/plain": [
       "<Figure size 432x288 with 1 Axes>"
      ]
     },
     "metadata": {
      "needs_background": "light"
     },
     "output_type": "display_data"
    },
    {
     "data": {
      "image/png": "[encoded data removed]",
      "text/plain": [
       "<Figure size 432x288 with 1 Axes>"
      ]
     },
     "metadata": {
      "needs_background": "light"
     },
     "output_type": "display_data"
    },
    {
     "data": {
      "image/png": "[encoded data removed]",
      "text/plain": [
       "<Figure size 432x288 with 1 Axes>"
      ]
     },
     "metadata": {
      "needs_background": "light"
     },
     "output_type": "display_data"
    },
    {
     "data": {
      "image/png": "[encoded data removed]",
      "text/plain": [
       "<Figure size 432x288 with 1 Axes>"
      ]
     },
     "metadata": {
      "needs_background": "light"
     },
     "output_type": "display_data"
    }
   ],
   "source": [
    "sanityChecks.discProbVsError(train_data,disc,device)\n",
    "sanityChecks.discProbVsError(test_data,disc,device)"
   ]
  },
  {
   "cell_type": "markdown",
   "id": "130f3a4d",
   "metadata": {
    "id": "130f3a4d",
    "papermill": {
     "duration": 0.043523,
     "end_time": "2022-03-16T13:39:20.991659",
     "exception": false,
     "start_time": "2022-03-16T13:39:20.948136",
     "status": "completed"
    },
    "tags": []
   },
   "source": [
    "# ABC - GAN Model with skip connection"
   ]
  },
  {
   "cell_type": "code",
   "execution_count": 15,
   "id": "4e43dad1",
   "metadata": {
    "execution": {
     "iopub.execute_input": "2022-03-16T13:39:21.031573Z",
     "iopub.status.busy": "2022-03-16T13:39:21.031128Z",
     "iopub.status.idle": "2022-03-16T13:39:21.033796Z",
     "shell.execute_reply": "2022-03-16T13:39:21.034152Z"
    },
    "id": "4e43dad1",
    "papermill": {
     "duration": 0.024507,
     "end_time": "2022-03-16T13:39:21.034284",
     "exception": false,
     "start_time": "2022-03-16T13:39:21.009777",
     "status": "completed"
    },
    "tags": []
   },
   "outputs": [],
   "source": [
    "#Generator\n",
    "gen3 = network.GeneratorWithSkipConnection(n_features+1).to(device)\n",
    "constraints=network.weightConstraint()\n",
    "#Discriminator \n",
    "disc3 = network.Discriminator(n_features+1).to(device)\n",
    "\n",
    "criterion = torch.nn.BCELoss()\n",
    "gen_opt = torch.optim.Adam(gen3.parameters(), lr=0.001, betas=(0.5, 0.999))\n",
    "disc_opt = torch.optim.Adam(disc3.parameters(), lr=0.001, betas=(0.5, 0.999))\n"
   ]
  },
  {
   "cell_type": "code",
   "execution_count": 16,
   "id": "26acbc37",
   "metadata": {
    "execution": {
     "iopub.execute_input": "2022-03-16T13:39:21.072368Z",
     "iopub.status.busy": "2022-03-16T13:39:21.071939Z",
     "iopub.status.idle": "2022-03-16T13:39:58.473136Z",
     "shell.execute_reply": "2022-03-16T13:39:58.473470Z"
    },
    "id": "26acbc37",
    "papermill": {
     "duration": 37.421453,
     "end_time": "2022-03-16T13:39:58.473623",
     "exception": false,
     "start_time": "2022-03-16T13:39:21.052170",
     "status": "completed"
    },
    "tags": []
   },
   "outputs": [
    {
     "data": {
      "image/png": "[encoded data removed]",
      "text/plain": [
       "<Figure size 432x288 with 1 Axes>"
      ]
     },
     "metadata": {
      "needs_background": "light"
     },
     "output_type": "display_data"
    },
    {
     "data": {
      "image/png": "[encoded data removed]",
      "text/plain": [
       "<Figure size 432x288 with 1 Axes>"
      ]
     },
     "metadata": {
      "needs_background": "light"
     },
     "output_type": "display_data"
    }
   ],
   "source": [
    "ABC_train_test2.training_GAN_skip_connection(disc3,gen3,disc_opt,gen_opt,train_data,batch_size,n_epochs,criterion,prior_model,variance,bias,device)"
   ]
  },
  {
   "cell_type": "code",
   "execution_count": 17,
   "id": "c5e0717b",
   "metadata": {
    "execution": {
     "iopub.execute_input": "2022-03-16T13:39:58.507487Z",
     "iopub.status.busy": "2022-03-16T13:39:58.507043Z",
     "iopub.status.idle": "2022-03-16T13:39:58.793700Z",
     "shell.execute_reply": "2022-03-16T13:39:58.794084Z"
    },
    "id": "c5e0717b",
    "papermill": {
     "duration": 0.305058,
     "end_time": "2022-03-16T13:39:58.794207",
     "exception": false,
     "start_time": "2022-03-16T13:39:58.489149",
     "status": "completed"
    },
    "tags": []
   },
   "outputs": [
    {
     "data": {
      "application/scrapbook.scrap.json+json": {
       "data": 0.01302634222332144,
       "encoder": "json",
       "name": "ABC-GAN Model 3 MSE",
       "version": 1
      }
     },
     "metadata": {
      "scrapbook": {
       "data": true,
       "display": false,
       "name": "ABC-GAN Model 3 MSE"
      }
     },
     "output_type": "display_data"
    },
    {
     "data": {
      "application/scrapbook.scrap.json+json": {
       "data": 0.07818071979656815,
       "encoder": "json",
       "name": "ABC-GAN Model 3 MAE",
       "version": 1
      }
     },
     "metadata": {
      "scrapbook": {
       "data": true,
       "display": false,
       "name": "ABC-GAN Model 3 MAE"
      }
     },
     "output_type": "display_data"
    },
    {
     "data": {
      "application/scrapbook.scrap.json+json": {
       "data": 1.563614395931363,
       "encoder": "json",
       "name": "ABC-GAN Model 3 Manhattan Distance",
       "version": 1
      }
     },
     "metadata": {
      "scrapbook": {
       "data": true,
       "display": false,
       "name": "ABC-GAN Model 3 Manhattan Distance"
      }
     },
     "output_type": "display_data"
    },
    {
     "data": {
      "application/scrapbook.scrap.json+json": {
       "data": 0.5091336036731465,
       "encoder": "json",
       "name": "ABC-GAN Model 3 Euclidean distance",
       "version": 1
      }
     },
     "metadata": {
      "scrapbook": {
       "data": true,
       "display": false,
       "name": "ABC-GAN Model 3 Euclidean distance"
      }
     },
     "output_type": "display_data"
    },
    {
     "data": {
      "application/scrapbook.scrap.json+json": {
       "data": [
        [
         0.015203359349774969,
         0.010942919998981499,
         0.014537012712931488,
         0.013576640176697338,
         0.011029712744328315,
         0.015240928323997463,
         0.012758932783264254,
         0.01393263057975538,
         0.012882344171737874,
         0.016305664186845592,
         0.014140996633864705,
         0.01177376970308123,
         0.01290347034953233,
         0.0145030221863014,
         0.013306070780594873,
         0.013146151641762707,
         0.013138585877169387,
         0.008948295429203968,
         0.015287316123188668,
         0.011412955540091044,
         0.012693633758304715,
         0.014563872766873464,
         0.012512250078272016,
         0.012328246508214393,
         0.015680559693600122,
         0.01438887377963563,
         0.011118115724002012,
         0.01303258211959886,
         0.011153358439448927,
         0.012634224204757839,
         0.013435323394585563,
         0.019140076086888783,
         0.00988298049084986,
         0.013182049877401283,
         0.01577923709686561,
         0.01156506489525674,
         0.011339309695498803,
         0.012249082381520332,
         0.012293856372416692,
         0.01109273017045689,
         0.01342855348485995,
         0.010951424514341616,
         0.012210176054512282,
         0.011775903146373038,
         0.011037112170648438,
         0.012888502290115603,
         0.013723101424734119,
         0.01234169353436392,
         0.015157078810361449,
         0.01130218740286228,
         0.011967394743074783,
         0.01552098718947265,
         0.01493625197130582,
         0.012990824428216776,
         0.01098065618163398,
         0.011929399026473988,
         0.010554870625845486,
         0.013928073792581621,
         0.015879947809307373,
         0.015451895526221749,
         0.013155224912535748,
         0.010687626624471782,
         0.014194484924554131,
         0.011600955452779638,
         0.01421311625104608,
         0.017696050038126104,
         0.011049956051221079,
         0.015250088515704713,
         0.011600172925783317,
         0.015789094072072577,
         0.008795026560658281,
         0.010526316126025772,
         0.013491011811569748,
         0.009608669458396705,
         0.011735065133281231,
         0.015632179788634116,
         0.01347910170092675,
         0.014100461497794172,
         0.013564605376213535,
         0.01255870526191857,
         0.011420999896423766,
         0.012837056841479094,
         0.012200999098707236,
         0.011475800318241938,
         0.015230289447086546,
         0.014008962285805426,
         0.01519407583659457,
         0.01324930862300453,
         0.01426238403497268,
         0.012237639406609426,
         0.014846702176394815,
         0.015043404075555392,
         0.011937770937135167,
         0.013003874444710456,
         0.010904946831949675,
         0.012924334318053824,
         0.013880037735856115,
         0.013631651525707614,
         0.011554546948086799,
         0.010069284111194838
        ],
        [
         0.08797987848520279,
         0.07160904631018639,
         0.08658512495458126,
         0.08148597870022059,
         0.06802127622067929,
         0.08236459083855152,
         0.08030589520931244,
         0.07542362101376057,
         0.06841776296496391,
         0.08827951233834028,
         0.0789529800415039,
         0.07403620816767216,
         0.07849258407950402,
         0.07852081283926964,
         0.0820401418954134,
         0.07422370798885822,
         0.07571120522916316,
         0.06264298409223557,
         0.07906074784696102,
         0.07304866034537554,
         0.07662522383034229,
         0.08370307311415673,
         0.07416094951331616,
         0.08245913330465555,
         0.09131826953962445,
         0.07855635732412339,
         0.07213316597044468,
         0.07964290417730809,
         0.07677479945123196,
         0.07388645112514496,
         0.07995906099677086,
         0.09200380332767963,
         0.06812395881861448,
         0.07379434164613485,
         0.08033283874392509,
         0.07601680941879749,
         0.07643114663660526,
         0.08008913025259971,
         0.07795590199530125,
         0.07672928385436535,
         0.08086692318320274,
         0.07336304225027561,
         0.06945907715708018,
         0.07137928046286106,
         0.0733298897743225,
         0.08137384243309498,
         0.08677801843732595,
         0.08027621321380138,
         0.08035450614988804,
         0.07255577072501182,
         0.07412462458014488,
         0.07238105349242688,
         0.08917995244264602,
         0.07646751888096333,
         0.07195253679528832,
         0.0770235549658537,
         0.07545706257224083,
         0.07878544293344021,
         0.08545474447309971,
         0.0861895889043808,
         0.07475264333188533,
         0.07235599867999554,
         0.08084449060261249,
         0.07686801701784134,
         0.08266610540449619,
         0.09424907118082046,
         0.07434107400476933,
         0.08096433281898499,
         0.07601018957793712,
         0.08475036434829235,
         0.061343226581811905,
         0.07217321582138539,
         0.0815495066344738,
         0.07114715538918973,
         0.07388314083218575,
         0.0879932438954711,
         0.07862708643078804,
         0.0835967967286706,
         0.08180457651615143,
         0.07419596277177334,
         0.07531947866082192,
         0.07451342493295669,
         0.08037384040653706,
         0.07428648434579373,
         0.07940170206129551,
         0.08108812496066094,
         0.0826024640351534,
         0.0717829629778862,
         0.08201014697551727,
         0.07544674761593342,
         0.0871935373172164,
         0.09428261704742909,
         0.07861160710453988,
         0.07923519387841224,
         0.07553930059075356,
         0.08191869370639324,
         0.07912965640425682,
         0.0754399087280035,
         0.07823474146425724,
         0.07289318144321441
        ],
        [
         1.7595975697040558,
         1.4321809262037277,
         1.7317024990916252,
         1.6297195740044117,
         1.3604255244135857,
         1.6472918167710304,
         1.6061179041862488,
         1.5084724202752113,
         1.3683552592992783,
         1.7655902467668056,
         1.5790596008300781,
         1.4807241633534431,
         1.5698516815900803,
         1.5704162567853928,
         1.640802837908268,
         1.4844741597771645,
         1.5142241045832634,
         1.2528596818447113,
         1.5812149569392204,
         1.4609732069075108,
         1.5325044766068459,
         1.6740614622831345,
         1.483218990266323,
         1.649182666093111,
         1.826365390792489,
         1.5711271464824677,
         1.4426633194088936,
         1.5928580835461617,
         1.5354959890246391,
         1.4777290225028992,
         1.5991812199354172,
         1.8400760665535927,
         1.3624791763722897,
         1.475886832922697,
         1.606656774878502,
         1.5203361883759499,
         1.5286229327321053,
         1.6017826050519943,
         1.559118039906025,
         1.534585677087307,
         1.6173384636640549,
         1.4672608450055122,
         1.3891815431416035,
         1.4275856092572212,
         1.4665977954864502,
         1.6274768486618996,
         1.735560368746519,
         1.6055242642760277,
         1.6070901229977608,
         1.4511154145002365,
         1.4824924916028976,
         1.4476210698485374,
         1.7835990488529205,
         1.5293503776192665,
         1.4390507359057665,
         1.5404710993170738,
         1.5091412514448166,
         1.5757088586688042,
         1.7090948894619942,
         1.723791778087616,
         1.4950528666377068,
         1.4471199735999107,
         1.61688981205225,
         1.5373603403568268,
         1.6533221080899239,
         1.8849814236164093,
         1.4868214800953865,
         1.6192866563796997,
         1.5202037915587425,
         1.695007286965847,
         1.226864531636238,
         1.4434643164277077,
         1.630990132689476,
         1.4229431077837944,
         1.477662816643715,
         1.759864877909422,
         1.5725417286157608,
         1.671935934573412,
         1.6360915303230286,
         1.4839192554354668,
         1.5063895732164383,
         1.490268498659134,
         1.6074768081307411,
         1.4857296869158745,
         1.5880340412259102,
         1.6217624992132187,
         1.6520492807030678,
         1.435659259557724,
         1.6402029395103455,
         1.5089349523186684,
         1.743870746344328,
         1.8856523409485817,
         1.5722321420907974,
         1.584703877568245,
         1.510786011815071,
         1.6383738741278648,
         1.5825931280851364,
         1.50879817456007,
         1.5646948292851448,
         1.4578636288642883
        ],
        [
         0.5514228749294858,
         0.4678230434465899,
         0.539203351490539,
         0.5210880957515214,
         0.4696746266156671,
         0.5521037642327294,
         0.5051521114132703,
         0.5278755644989713,
         0.5075892861701845,
         0.5710632922338047,
         0.5318081728191981,
         0.48525806954817824,
         0.5080053218133119,
         0.5385725983802259,
         0.5158695722873151,
         0.5127602098790955,
         0.5126126388837752,
         0.4230436249183757,
         0.5529433266292065,
         0.4777647023397824,
         0.5038577926023317,
         0.5397012649026026,
         0.5002449415690681,
         0.496553048690961,
         0.5600099944393871,
         0.5364489496613006,
         0.4715530876582617,
         0.5105405394206979,
         0.47229987168003607,
         0.5026773160737977,
         0.5183690460393168,
         0.6187095616990056,
         0.4445892596734622,
         0.5134598305106503,
         0.5617692960079896,
         0.4809379356061807,
         0.4762207407389729,
         0.4949562077905546,
         0.49585998774687784,
         0.4710144407649704,
         0.5182384293905644,
         0.4680047972904042,
         0.4941695266710055,
         0.48530203268424577,
         0.46983214386945554,
         0.5077105925646146,
         0.5238912372760995,
         0.4968237823285822,
         0.5505829421687789,
         0.47544058309871445,
         0.4892319438277673,
         0.5571532498240076,
         0.5465574438484179,
         0.509721971828109,
         0.468628982920049,
         0.48845468626012767,
         0.4594533844873816,
         0.5277892343081966,
         0.5635591860542666,
         0.5559117830415496,
         0.5129371289453659,
         0.4623337890414626,
         0.5328130051820081,
         0.48168361925188274,
         0.5331625690358632,
         0.5949125992635574,
         0.4701054360719748,
         0.5522696536241098,
         0.4816673733144755,
         0.5619447316609094,
         0.4194049728045265,
         0.45883147507610617,
         0.5194422357022915,
         0.43837585376926735,
         0.4844598050051465,
         0.5591454155876469,
         0.5192128985479222,
         0.5310454123291938,
         0.5208570893481922,
         0.5011727299428526,
         0.4779330475374928,
         0.5066962964435223,
         0.4939837871571745,
         0.479078288346319,
         0.5519110335386772,
         0.5293196063968427,
         0.5512544936160534,
         0.5147680763801215,
         0.5340858364527687,
         0.4947249621074204,
         0.5449165473060038,
         0.5485144314519973,
         0.4886260520507511,
         0.509977929810898,
         0.4670106386785996,
         0.5084158596671395,
         0.5268783111090476,
         0.5221427300213537,
         0.4807191893005063,
         0.4487601611372123
        ]
       ],
       "encoder": "json",
       "name": "ABC_GAN_3 Metrics",
       "version": 1
      }
     },
     "metadata": {
      "scrapbook": {
       "data": true,
       "display": false,
       "name": "ABC_GAN_3 Metrics"
      }
     },
     "output_type": "display_data"
    },
    {
     "name": "stdout",
     "output_type": "stream",
     "text": [
      "MSE\n",
      "0.01302634222332144\n"
     ]
    }
   ],
   "source": [
    "ABC_GAN3_metrics=ABC_train_test2.test_generator(gen3,test_data,prior_model,variance,bias,\"3\",device)\n",
    "sb.glue(\"ABC_GAN_3 Metrics\",ABC_GAN3_metrics)\n",
    "\n",
    "print(\"MSE\")\n",
    "print(mean(ABC_GAN3_metrics[0]))"
   ]
  },
  {
   "cell_type": "code",
   "execution_count": 18,
   "id": "c8e46b48",
   "metadata": {
    "execution": {
     "iopub.execute_input": "2022-03-16T13:39:58.830505Z",
     "iopub.status.busy": "2022-03-16T13:39:58.830137Z",
     "iopub.status.idle": "2022-03-16T13:39:59.122755Z",
     "shell.execute_reply": "2022-03-16T13:39:59.123129Z"
    },
    "id": "c8e46b48",
    "papermill": {
     "duration": 0.31194,
     "end_time": "2022-03-16T13:39:59.123254",
     "exception": false,
     "start_time": "2022-03-16T13:39:58.811314",
     "status": "completed"
    },
    "tags": []
   },
   "outputs": [
    {
     "data": {
      "image/png": "[encoded data removed]",
      "text/plain": [
       "<Figure size 432x288 with 1 Axes>"
      ]
     },
     "metadata": {
      "needs_background": "light"
     },
     "output_type": "display_data"
    },
    {
     "data": {
      "image/png": "[encoded data removed]",
      "text/plain": [
       "<Figure size 432x288 with 1 Axes>"
      ]
     },
     "metadata": {
      "needs_background": "light"
     },
     "output_type": "display_data"
    },
    {
     "data": {
      "image/png": "[encoded data removed]",
      "text/plain": [
       "<Figure size 432x288 with 1 Axes>"
      ]
     },
     "metadata": {
      "needs_background": "light"
     },
     "output_type": "display_data"
    },
    {
     "data": {
      "image/png": "[encoded data removed]",
      "text/plain": [
       "<Figure size 432x288 with 1 Axes>"
      ]
     },
     "metadata": {
      "needs_background": "light"
     },
     "output_type": "display_data"
    }
   ],
   "source": [
    "sanityChecks.discProbVsError(train_data,disc3,device)\n",
    "sanityChecks.discProbVsError(test_data,disc3,device)"
   ]
  },
  {
   "cell_type": "markdown",
   "id": "a5bd74c3",
   "metadata": {
    "id": "a5bd74c3",
    "papermill": {
     "duration": 0.019106,
     "end_time": "2022-03-16T13:39:59.161941",
     "exception": false,
     "start_time": "2022-03-16T13:39:59.142835",
     "status": "completed"
    },
    "tags": []
   },
   "source": [
    "## Skip Connection Model Analysis - ABC-GAN "
   ]
  },
  {
   "cell_type": "markdown",
   "id": "5744a8bf",
   "metadata": {
    "id": "5744a8bf",
    "papermill": {
     "duration": 0.018989,
     "end_time": "2022-03-16T13:39:59.199881",
     "exception": false,
     "start_time": "2022-03-16T13:39:59.180892",
     "status": "completed"
    },
    "tags": []
   },
   "source": [
    "### Weight Analysis \n",
    "\n",
    "Study the weights of the skip connection layer\n",
    "\n",
    "Equation of the skip connection is \n",
    "\n",
    "$output = y_{gan} * w + y_{abc} * (1-w)$"
   ]
  },
  {
   "cell_type": "code",
   "execution_count": 19,
   "id": "52c31dea",
   "metadata": {
    "execution": {
     "iopub.execute_input": "2022-03-16T13:39:59.242217Z",
     "iopub.status.busy": "2022-03-16T13:39:59.241750Z",
     "iopub.status.idle": "2022-03-16T13:39:59.245646Z",
     "shell.execute_reply": "2022-03-16T13:39:59.245338Z"
    },
    "id": "52c31dea",
    "papermill": {
     "duration": 0.026777,
     "end_time": "2022-03-16T13:39:59.245758",
     "exception": false,
     "start_time": "2022-03-16T13:39:59.218981",
     "status": "completed"
    },
    "tags": []
   },
   "outputs": [
    {
     "name": "stdout",
     "output_type": "stream",
     "text": [
      "Weight of the node at skip connection\n",
      "Parameter containing:\n",
      "tensor([[0.3828]], requires_grad=True)\n"
     ]
    },
    {
     "data": {
      "application/scrapbook.scrap.json+json": {
       "data": 0.382760614156723,
       "encoder": "json",
       "name": "Skip Connection Weight",
       "version": 1
      }
     },
     "metadata": {
      "scrapbook": {
       "data": true,
       "display": false,
       "name": "Skip Connection Weight"
      }
     },
     "output_type": "display_data"
    }
   ],
   "source": [
    "print(\"Weight of the node at skip connection\")\n",
    "for name,param in gen3.named_parameters():\n",
    "    if(name == \"skipNode.weight\"):\n",
    "        print(param)\n",
    "        sb.glue(\"Skip Connection Weight\",param.item())"
   ]
  }
 ],
 "metadata": {
  "colab": {
   "collapsed_sections": [],
   "name": "ABC_GAN_Model-Catboost_Pre-gen.ipynb",
   "provenance": []
  },
  "interpreter": {
   "hash": "31f2aee4e71d21fbe5cf8b01ff0e069b9275f58929596ceb00d14d90e3e16cd6"
  },
  "kernelspec": {
   "display_name": "Python 3 (ipykernel)",
   "language": "python",
   "name": "python3"
  },
  "language_info": {
   "codemirror_mode": {
    "name": "ipython",
    "version": 3
   },
   "file_extension": ".py",
   "mimetype": "text/x-python",
   "name": "python",
   "nbconvert_exporter": "python",
   "pygments_lexer": "ipython3",
   "version": "3.8.11"
  },
  "papermill": {
   "default_parameters": {},
   "duration": 57.835565,
   "end_time": "2022-03-16T13:39:59.572979",
   "environment_variables": {},
   "exception": null,
   "input_path": "ABC_GAN-Catboost.ipynb",
   "output_path": "./ABC_GAN_Catboost/ABC-GAN_output_7_4.ipynb",
   "parameters": {
    "bias": 0.1,
    "variance": 0.1
   },
   "start_time": "2022-03-16T13:39:01.737414",
   "version": "2.3.3"
  }
 },
 "nbformat": 4,
 "nbformat_minor": 5
}