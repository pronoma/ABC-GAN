{
 "cells": [
  {
   "cell_type": "markdown",
   "id": "622780e6",
   "metadata": {
    "id": "622780e6",
    "papermill": {
     "duration": 0.030764,
     "end_time": "2022-03-16T13:32:49.780877",
     "exception": false,
     "start_time": "2022-03-16T13:32:49.750113",
     "status": "completed"
    },
    "tags": []
   },
   "source": [
    "## Import Libraries "
   ]
  },
  {
   "cell_type": "code",
   "execution_count": 1,
   "id": "a62397e3",
   "metadata": {
    "execution": {
     "iopub.execute_input": "2022-03-16T13:32:49.833383Z",
     "iopub.status.busy": "2022-03-16T13:32:49.832908Z",
     "iopub.status.idle": "2022-03-16T13:32:49.850345Z",
     "shell.execute_reply": "2022-03-16T13:32:49.850695Z"
    },
    "id": "a62397e3",
    "papermill": {
     "duration": 0.050791,
     "end_time": "2022-03-16T13:32:49.850940",
     "exception": false,
     "start_time": "2022-03-16T13:32:49.800149",
     "status": "completed"
    },
    "tags": []
   },
   "outputs": [],
   "source": [
    "import warnings\n",
    "import sys\n",
    "sys.path.insert(0, '../../src')\n",
    "warnings.filterwarnings('ignore')"
   ]
  },
  {
   "cell_type": "code",
   "execution_count": 2,
   "id": "d6a4e155",
   "metadata": {
    "execution": {
     "iopub.execute_input": "2022-03-16T13:32:49.869224Z",
     "iopub.status.busy": "2022-03-16T13:32:49.868775Z",
     "iopub.status.idle": "2022-03-16T13:32:52.031265Z",
     "shell.execute_reply": "2022-03-16T13:32:52.031608Z"
    },
    "id": "d6a4e155",
    "papermill": {
     "duration": 2.173388,
     "end_time": "2022-03-16T13:32:52.031782",
     "exception": false,
     "start_time": "2022-03-16T13:32:49.858394",
     "status": "completed"
    },
    "tags": []
   },
   "outputs": [],
   "source": [
    "import ABC_train_test2\n",
    "import friedman2Dataset\n",
    "import network\n",
    "import dataset\n",
    "import sanityChecks\n",
    "import torch \n",
    "import scrapbook as sb\n",
    "from statistics import mean \n",
    "import catboost as ctb \n",
    "from sklearn.model_selection import train_test_split\n",
    "from sklearn.metrics import mean_squared_error,mean_absolute_error\n",
    "import numpy as np"
   ]
  },
  {
   "cell_type": "markdown",
   "id": "2fa5b0f7",
   "metadata": {
    "id": "2fa5b0f7",
    "papermill": {
     "duration": 0.00949,
     "end_time": "2022-03-16T13:32:52.054309",
     "exception": false,
     "start_time": "2022-03-16T13:32:52.044819",
     "status": "completed"
    },
    "tags": []
   },
   "source": [
    "## Parameters "
   ]
  },
  {
   "cell_type": "code",
   "execution_count": 3,
   "id": "783186fb",
   "metadata": {
    "execution": {
     "iopub.execute_input": "2022-03-16T13:32:52.076649Z",
     "iopub.status.busy": "2022-03-16T13:32:52.076155Z",
     "iopub.status.idle": "2022-03-16T13:32:52.077483Z",
     "shell.execute_reply": "2022-03-16T13:32:52.077802Z"
    },
    "id": "783186fb",
    "papermill": {
     "duration": 0.014255,
     "end_time": "2022-03-16T13:32:52.077943",
     "exception": false,
     "start_time": "2022-03-16T13:32:52.063688",
     "status": "completed"
    },
    "tags": [
     "parameters"
    ]
   },
   "outputs": [],
   "source": [
    "variance = 1\n",
    "bias = 1 "
   ]
  },
  {
   "cell_type": "code",
   "execution_count": 4,
   "id": "0ccbd7ee",
   "metadata": {
    "execution": {
     "iopub.execute_input": "2022-03-16T13:32:52.098785Z",
     "iopub.status.busy": "2022-03-16T13:32:52.098270Z",
     "iopub.status.idle": "2022-03-16T13:32:52.099707Z",
     "shell.execute_reply": "2022-03-16T13:32:52.100007Z"
    },
    "papermill": {
     "duration": 0.012979,
     "end_time": "2022-03-16T13:32:52.100146",
     "exception": false,
     "start_time": "2022-03-16T13:32:52.087167",
     "status": "completed"
    },
    "tags": [
     "injected-parameters"
    ]
   },
   "outputs": [],
   "source": [
    "# Parameters\n",
    "variance = 0.1\n",
    "bias = 0.01\n"
   ]
  },
  {
   "cell_type": "markdown",
   "id": "391cdbfd",
   "metadata": {
    "id": "391cdbfd",
    "papermill": {
     "duration": 0.008893,
     "end_time": "2022-03-16T13:32:52.118204",
     "exception": false,
     "start_time": "2022-03-16T13:32:52.109311",
     "status": "completed"
    },
    "tags": []
   },
   "source": [
    "## Dataset \n"
   ]
  },
  {
   "cell_type": "code",
   "execution_count": 5,
   "id": "5b51f161",
   "metadata": {
    "execution": {
     "iopub.execute_input": "2022-03-16T13:32:52.139059Z",
     "iopub.status.busy": "2022-03-16T13:32:52.138584Z",
     "iopub.status.idle": "2022-03-16T13:32:52.139743Z",
     "shell.execute_reply": "2022-03-16T13:32:52.140035Z"
    },
    "id": "5b51f161",
    "papermill": {
     "duration": 0.012957,
     "end_time": "2022-03-16T13:32:52.140166",
     "exception": false,
     "start_time": "2022-03-16T13:32:52.127209",
     "status": "completed"
    },
    "tags": []
   },
   "outputs": [],
   "source": [
    "#Parameters \n",
    "n_features = 4\n",
    "n_samples= 100\n",
    "n_target = 1 "
   ]
  },
  {
   "cell_type": "code",
   "execution_count": 6,
   "id": "5d6eced4",
   "metadata": {
    "execution": {
     "iopub.execute_input": "2022-03-16T13:32:52.161300Z",
     "iopub.status.busy": "2022-03-16T13:32:52.160839Z",
     "iopub.status.idle": "2022-03-16T13:32:52.168460Z",
     "shell.execute_reply": "2022-03-16T13:32:52.168813Z"
    },
    "id": "5d6eced4",
    "papermill": {
     "duration": 0.019449,
     "end_time": "2022-03-16T13:32:52.168958",
     "exception": false,
     "start_time": "2022-03-16T13:32:52.149509",
     "status": "completed"
    },
    "tags": []
   },
   "outputs": [
    {
     "name": "stdout",
     "output_type": "stream",
     "text": [
      "          X1           X2        X3         X4           Y\n",
      "0  70.394292   788.022933  0.168515   2.967518  150.159887\n",
      "1  73.953153   572.479100  0.862436  10.543023  499.178462\n",
      "2  45.543157  1476.259453  0.029805   9.560882   63.315388\n",
      "3  53.904327   938.842110  0.982114  10.724538  923.678024\n",
      "4  25.231060   254.870911  0.951753   6.578775  243.868580\n"
     ]
    }
   ],
   "source": [
    "X,Y = friedman2Dataset.friedman2_data(n_samples)"
   ]
  },
  {
   "cell_type": "code",
   "execution_count": 7,
   "id": "fe007438",
   "metadata": {
    "execution": {
     "iopub.execute_input": "2022-03-16T13:32:52.206351Z",
     "iopub.status.busy": "2022-03-16T13:32:52.205885Z",
     "iopub.status.idle": "2022-03-16T13:32:52.207674Z",
     "shell.execute_reply": "2022-03-16T13:32:52.208050Z"
    },
    "id": "fe007438",
    "papermill": {
     "duration": 0.015406,
     "end_time": "2022-03-16T13:32:52.208186",
     "exception": false,
     "start_time": "2022-03-16T13:32:52.192780",
     "status": "completed"
    },
    "tags": []
   },
   "outputs": [],
   "source": [
    "#Train test split for dataset \n",
    "X_train,X_test,Y_train,Y_test = train_test_split(X,Y,test_size = 0.2)\n",
    "train_data = dataset.CustomDataset(X_train,Y_train)\n",
    "test_data = dataset.CustomDataset(X_test,Y_test)\n"
   ]
  },
  {
   "cell_type": "markdown",
   "id": "a9a1af34",
   "metadata": {
    "id": "a9a1af34",
    "papermill": {
     "duration": 0.020044,
     "end_time": "2022-03-16T13:32:52.240857",
     "exception": false,
     "start_time": "2022-03-16T13:32:52.220813",
     "status": "completed"
    },
    "tags": []
   },
   "source": [
    "## Training Parameters "
   ]
  },
  {
   "cell_type": "code",
   "execution_count": 8,
   "id": "952b7fc8",
   "metadata": {
    "execution": {
     "iopub.execute_input": "2022-03-16T13:32:52.263865Z",
     "iopub.status.busy": "2022-03-16T13:32:52.263345Z",
     "iopub.status.idle": "2022-03-16T13:32:52.264744Z",
     "shell.execute_reply": "2022-03-16T13:32:52.265106Z"
    },
    "id": "952b7fc8",
    "papermill": {
     "duration": 0.014268,
     "end_time": "2022-03-16T13:32:52.265238",
     "exception": false,
     "start_time": "2022-03-16T13:32:52.250970",
     "status": "completed"
    },
    "tags": []
   },
   "outputs": [],
   "source": [
    "batch_size = 32\n",
    "n_epochs = 1000\n",
    "#Select the device \n",
    "device = torch.device('cuda' if torch.cuda.is_available() else 'cpu')"
   ]
  },
  {
   "cell_type": "markdown",
   "id": "a95e1600",
   "metadata": {
    "id": "a95e1600",
    "papermill": {
     "duration": 0.009578,
     "end_time": "2022-03-16T13:32:52.284395",
     "exception": false,
     "start_time": "2022-03-16T13:32:52.274817",
     "status": "completed"
    },
    "tags": []
   },
   "source": [
    "# ABC Pre-generator Model \n",
    "\n",
    "1. The catboost model is used as a pre-generator model for the ABC-GAN. \n",
    "2. The model is first trained on the entire dataset \n",
    "3. It generats X,Y pairs and we add some Gaussian noise with mean 0 and variance 1 to it which is then feed as input to the generator.\n"
   ]
  },
  {
   "cell_type": "code",
   "execution_count": 9,
   "id": "ff8ce7bd",
   "metadata": {
    "execution": {
     "iopub.execute_input": "2022-03-16T13:32:52.308785Z",
     "iopub.status.busy": "2022-03-16T13:32:52.308268Z",
     "iopub.status.idle": "2022-03-16T13:32:53.058166Z",
     "shell.execute_reply": "2022-03-16T13:32:53.058493Z"
    },
    "id": "ff8ce7bd",
    "papermill": {
     "duration": 0.764105,
     "end_time": "2022-03-16T13:32:53.058727",
     "exception": false,
     "start_time": "2022-03-16T13:32:52.294622",
     "status": "completed"
    },
    "tags": []
   },
   "outputs": [
    {
     "name": "stdout",
     "output_type": "stream",
     "text": [
      "Learning rate set to 0.024897\n"
     ]
    },
    {
     "name": "stdout",
     "output_type": "stream",
     "text": [
      "0:\tlearn: 0.9575259\ttotal: 56.2ms\tremaining: 56.2s\n",
      "1:\tlearn: 0.9444389\ttotal: 56.8ms\tremaining: 28.3s\n",
      "2:\tlearn: 0.9335747\ttotal: 57.6ms\tremaining: 19.2s\n",
      "3:\tlearn: 0.9224489\ttotal: 58.2ms\tremaining: 14.5s\n",
      "4:\tlearn: 0.9085476\ttotal: 58.6ms\tremaining: 11.7s\n",
      "5:\tlearn: 0.8968403\ttotal: 59.1ms\tremaining: 9.8s\n",
      "6:\tlearn: 0.8836445\ttotal: 59.6ms\tremaining: 8.45s\n",
      "7:\tlearn: 0.8714538\ttotal: 60.1ms\tremaining: 7.45s\n",
      "8:\tlearn: 0.8595217\ttotal: 60.5ms\tremaining: 6.67s\n",
      "9:\tlearn: 0.8476996\ttotal: 61.1ms\tremaining: 6.05s\n",
      "10:\tlearn: 0.8354969\ttotal: 61.6ms\tremaining: 5.54s\n",
      "11:\tlearn: 0.8243967\ttotal: 62.1ms\tremaining: 5.11s\n",
      "12:\tlearn: 0.8121766\ttotal: 62.5ms\tremaining: 4.75s\n",
      "13:\tlearn: 0.8023509\ttotal: 62.9ms\tremaining: 4.43s\n",
      "14:\tlearn: 0.7920781\ttotal: 63.3ms\tremaining: 4.16s\n",
      "15:\tlearn: 0.7819486\ttotal: 63.8ms\tremaining: 3.92s\n",
      "16:\tlearn: 0.7723992\ttotal: 64.3ms\tremaining: 3.72s\n",
      "17:\tlearn: 0.7660884\ttotal: 64.8ms\tremaining: 3.53s\n",
      "18:\tlearn: 0.7555713\ttotal: 65.2ms\tremaining: 3.37s\n",
      "19:\tlearn: 0.7452691\ttotal: 65.7ms\tremaining: 3.22s\n",
      "20:\tlearn: 0.7357851\ttotal: 66.2ms\tremaining: 3.08s\n",
      "21:\tlearn: 0.7271626\ttotal: 66.6ms\tremaining: 2.96s\n",
      "22:\tlearn: 0.7186014\ttotal: 67ms\tremaining: 2.85s\n",
      "23:\tlearn: 0.7095675\ttotal: 67.4ms\tremaining: 2.74s\n",
      "24:\tlearn: 0.7010678\ttotal: 67.9ms\tremaining: 2.65s\n",
      "25:\tlearn: 0.6914976\ttotal: 68.3ms\tremaining: 2.56s\n",
      "26:\tlearn: 0.6841574\ttotal: 68.7ms\tremaining: 2.47s\n",
      "27:\tlearn: 0.6779449\ttotal: 69ms\tremaining: 2.4s\n",
      "28:\tlearn: 0.6699736\ttotal: 69.5ms\tremaining: 2.33s\n",
      "29:\tlearn: 0.6607408\ttotal: 70ms\tremaining: 2.26s\n",
      "30:\tlearn: 0.6527104\ttotal: 70.3ms\tremaining: 2.2s\n",
      "31:\tlearn: 0.6448741\ttotal: 70.8ms\tremaining: 2.14s\n",
      "32:\tlearn: 0.6378607\ttotal: 71.2ms\tremaining: 2.09s\n",
      "33:\tlearn: 0.6303527\ttotal: 71.7ms\tremaining: 2.04s\n",
      "34:\tlearn: 0.6216239\ttotal: 72.1ms\tremaining: 1.99s\n",
      "35:\tlearn: 0.6129147\ttotal: 72.5ms\tremaining: 1.94s\n",
      "36:\tlearn: 0.6050474\ttotal: 72.9ms\tremaining: 1.9s\n",
      "37:\tlearn: 0.5971926\ttotal: 73.2ms\tremaining: 1.85s\n",
      "38:\tlearn: 0.5892489\ttotal: 73.7ms\tremaining: 1.82s\n",
      "39:\tlearn: 0.5812222\ttotal: 74.2ms\tremaining: 1.78s\n",
      "40:\tlearn: 0.5747039\ttotal: 74.7ms\tremaining: 1.75s\n",
      "41:\tlearn: 0.5685429\ttotal: 75.2ms\tremaining: 1.72s\n",
      "42:\tlearn: 0.5609561\ttotal: 75.7ms\tremaining: 1.68s\n",
      "43:\tlearn: 0.5545750\ttotal: 76.3ms\tremaining: 1.66s\n",
      "44:\tlearn: 0.5476410\ttotal: 76.7ms\tremaining: 1.63s\n",
      "45:\tlearn: 0.5414225\ttotal: 77.1ms\tremaining: 1.6s\n",
      "46:\tlearn: 0.5355445\ttotal: 77.5ms\tremaining: 1.57s\n",
      "47:\tlearn: 0.5298696\ttotal: 78ms\tremaining: 1.55s\n",
      "48:\tlearn: 0.5238833\ttotal: 78.4ms\tremaining: 1.52s\n",
      "49:\tlearn: 0.5178762\ttotal: 79ms\tremaining: 1.5s\n",
      "50:\tlearn: 0.5121878\ttotal: 79.4ms\tremaining: 1.48s\n",
      "51:\tlearn: 0.5060092\ttotal: 79.9ms\tremaining: 1.46s\n",
      "52:\tlearn: 0.4996478\ttotal: 80.3ms\tremaining: 1.44s\n",
      "53:\tlearn: 0.4930722\ttotal: 80.7ms\tremaining: 1.41s\n",
      "54:\tlearn: 0.4870165\ttotal: 82ms\tremaining: 1.41s\n",
      "55:\tlearn: 0.4813411\ttotal: 82.6ms\tremaining: 1.39s\n",
      "56:\tlearn: 0.4760661\ttotal: 83ms\tremaining: 1.37s\n",
      "57:\tlearn: 0.4696987\ttotal: 83.4ms\tremaining: 1.35s\n",
      "58:\tlearn: 0.4635234\ttotal: 83.8ms\tremaining: 1.34s\n",
      "59:\tlearn: 0.4581222\ttotal: 84.2ms\tremaining: 1.32s\n",
      "60:\tlearn: 0.4522216\ttotal: 84.6ms\tremaining: 1.3s\n",
      "61:\tlearn: 0.4468311\ttotal: 85.1ms\tremaining: 1.29s\n",
      "62:\tlearn: 0.4423273\ttotal: 85.5ms\tremaining: 1.27s\n",
      "63:\tlearn: 0.4370137\ttotal: 85.9ms\tremaining: 1.26s\n",
      "64:\tlearn: 0.4326859\ttotal: 86.4ms\tremaining: 1.24s\n",
      "65:\tlearn: 0.4274290\ttotal: 87ms\tremaining: 1.23s\n",
      "66:\tlearn: 0.4229303\ttotal: 87.8ms\tremaining: 1.22s\n",
      "67:\tlearn: 0.4186116\ttotal: 88.3ms\tremaining: 1.21s\n",
      "68:\tlearn: 0.4129439\ttotal: 88.8ms\tremaining: 1.2s\n",
      "69:\tlearn: 0.4082679\ttotal: 89.2ms\tremaining: 1.19s\n",
      "70:\tlearn: 0.4039116\ttotal: 90ms\tremaining: 1.18s\n",
      "71:\tlearn: 0.4002334\ttotal: 90.6ms\tremaining: 1.17s\n",
      "72:\tlearn: 0.3962594\ttotal: 91.1ms\tremaining: 1.16s\n",
      "73:\tlearn: 0.3915475\ttotal: 91.5ms\tremaining: 1.14s\n",
      "74:\tlearn: 0.3865495\ttotal: 92ms\tremaining: 1.13s\n",
      "75:\tlearn: 0.3819739\ttotal: 92.5ms\tremaining: 1.12s\n",
      "76:\tlearn: 0.3772239\ttotal: 93ms\tremaining: 1.11s\n",
      "77:\tlearn: 0.3723392\ttotal: 93.4ms\tremaining: 1.1s\n",
      "78:\tlearn: 0.3684830\ttotal: 93.8ms\tremaining: 1.09s\n",
      "79:\tlearn: 0.3639472\ttotal: 94.1ms\tremaining: 1.08s\n",
      "80:\tlearn: 0.3608118\ttotal: 94.6ms\tremaining: 1.07s\n",
      "81:\tlearn: 0.3567087\ttotal: 95ms\tremaining: 1.06s\n",
      "82:\tlearn: 0.3524143\ttotal: 95.3ms\tremaining: 1.05s\n",
      "83:\tlearn: 0.3484314\ttotal: 95.7ms\tremaining: 1.04s\n",
      "84:\tlearn: 0.3449328\ttotal: 96ms\tremaining: 1.03s\n",
      "85:\tlearn: 0.3413132\ttotal: 96.4ms\tremaining: 1.02s\n",
      "86:\tlearn: 0.3377080\ttotal: 96.9ms\tremaining: 1.02s\n",
      "87:\tlearn: 0.3341799\ttotal: 97.3ms\tremaining: 1.01s\n",
      "88:\tlearn: 0.3309294\ttotal: 97.8ms\tremaining: 1s\n",
      "89:\tlearn: 0.3279728\ttotal: 98.2ms\tremaining: 993ms\n",
      "90:\tlearn: 0.3252034\ttotal: 98.7ms\tremaining: 986ms\n",
      "91:\tlearn: 0.3215333\ttotal: 99.1ms\tremaining: 978ms\n",
      "92:\tlearn: 0.3177932\ttotal: 99.5ms\tremaining: 970ms\n",
      "93:\tlearn: 0.3144172\ttotal: 100ms\tremaining: 964ms\n",
      "94:\tlearn: 0.3112882\ttotal: 101ms\tremaining: 959ms\n",
      "95:\tlearn: 0.3074991\ttotal: 101ms\tremaining: 952ms\n",
      "96:\tlearn: 0.3037742\ttotal: 102ms\tremaining: 946ms\n",
      "97:\tlearn: 0.3008936\ttotal: 102ms\tremaining: 938ms\n",
      "98:\tlearn: 0.2965624\ttotal: 102ms\tremaining: 932ms\n",
      "99:\tlearn: 0.2928534\ttotal: 103ms\tremaining: 924ms\n",
      "100:\tlearn: 0.2896160\ttotal: 103ms\tremaining: 918ms\n",
      "101:\tlearn: 0.2860197\ttotal: 104ms\tremaining: 912ms\n",
      "102:\tlearn: 0.2828063\ttotal: 104ms\tremaining: 907ms\n",
      "103:\tlearn: 0.2804236\ttotal: 105ms\tremaining: 903ms\n",
      "104:\tlearn: 0.2771204\ttotal: 105ms\tremaining: 898ms\n",
      "105:\tlearn: 0.2744416\ttotal: 106ms\tremaining: 893ms\n",
      "106:\tlearn: 0.2718874\ttotal: 106ms\tremaining: 888ms\n",
      "107:\tlearn: 0.2689975\ttotal: 107ms\tremaining: 882ms\n",
      "108:\tlearn: 0.2663790\ttotal: 107ms\tremaining: 875ms\n",
      "109:\tlearn: 0.2636592\ttotal: 107ms\tremaining: 870ms\n",
      "110:\tlearn: 0.2614814\ttotal: 108ms\tremaining: 865ms\n",
      "111:\tlearn: 0.2585471\ttotal: 108ms\tremaining: 860ms\n",
      "112:\tlearn: 0.2558709\ttotal: 109ms\tremaining: 854ms\n",
      "113:\tlearn: 0.2533248\ttotal: 109ms\tremaining: 849ms\n",
      "114:\tlearn: 0.2505662\ttotal: 110ms\tremaining: 844ms\n",
      "115:\tlearn: 0.2486077\ttotal: 110ms\tremaining: 841ms\n",
      "116:\tlearn: 0.2459372\ttotal: 111ms\tremaining: 836ms\n",
      "117:\tlearn: 0.2435017\ttotal: 111ms\tremaining: 831ms\n",
      "118:\tlearn: 0.2412130\ttotal: 112ms\tremaining: 826ms\n",
      "119:\tlearn: 0.2392720\ttotal: 112ms\tremaining: 822ms\n",
      "120:\tlearn: 0.2366454\ttotal: 112ms\tremaining: 817ms\n",
      "121:\tlearn: 0.2346739\ttotal: 113ms\tremaining: 812ms\n",
      "122:\tlearn: 0.2323897\ttotal: 113ms\tremaining: 807ms\n",
      "123:\tlearn: 0.2306275\ttotal: 114ms\tremaining: 803ms\n",
      "124:\tlearn: 0.2276224\ttotal: 114ms\tremaining: 800ms\n",
      "125:\tlearn: 0.2251105\ttotal: 115ms\tremaining: 796ms\n",
      "126:\tlearn: 0.2227794\ttotal: 115ms\tremaining: 792ms\n",
      "127:\tlearn: 0.2207600\ttotal: 116ms\tremaining: 789ms\n",
      "128:\tlearn: 0.2187326\ttotal: 116ms\tremaining: 786ms\n",
      "129:\tlearn: 0.2165021\ttotal: 117ms\tremaining: 782ms\n",
      "130:\tlearn: 0.2148087\ttotal: 117ms\tremaining: 777ms\n",
      "131:\tlearn: 0.2129969\ttotal: 118ms\tremaining: 774ms\n",
      "132:\tlearn: 0.2108779\ttotal: 118ms\tremaining: 770ms\n",
      "133:\tlearn: 0.2087387\ttotal: 118ms\tremaining: 766ms\n",
      "134:\tlearn: 0.2070528\ttotal: 119ms\tremaining: 762ms\n",
      "135:\tlearn: 0.2050462\ttotal: 119ms\tremaining: 759ms\n",
      "136:\tlearn: 0.2032748\ttotal: 120ms\tremaining: 756ms\n",
      "137:\tlearn: 0.2014068\ttotal: 120ms\tremaining: 753ms\n",
      "138:\tlearn: 0.1995285\ttotal: 121ms\tremaining: 749ms\n",
      "139:\tlearn: 0.1977996\ttotal: 121ms\tremaining: 745ms\n",
      "140:\tlearn: 0.1958952\ttotal: 122ms\tremaining: 741ms\n",
      "141:\tlearn: 0.1938226\ttotal: 122ms\tremaining: 738ms\n",
      "142:\tlearn: 0.1917550\ttotal: 123ms\tremaining: 735ms\n",
      "143:\tlearn: 0.1900239\ttotal: 123ms\tremaining: 731ms\n",
      "144:\tlearn: 0.1880862\ttotal: 124ms\tremaining: 729ms\n",
      "145:\tlearn: 0.1859413\ttotal: 124ms\tremaining: 726ms\n",
      "146:\tlearn: 0.1841511\ttotal: 124ms\tremaining: 722ms\n",
      "147:\tlearn: 0.1824759\ttotal: 125ms\tremaining: 719ms\n",
      "148:\tlearn: 0.1804767\ttotal: 125ms\tremaining: 715ms\n",
      "149:\tlearn: 0.1790535\ttotal: 126ms\tremaining: 712ms\n",
      "150:\tlearn: 0.1774158\ttotal: 126ms\tremaining: 709ms\n",
      "151:\tlearn: 0.1762663\ttotal: 127ms\tremaining: 706ms\n",
      "152:\tlearn: 0.1750208\ttotal: 127ms\tremaining: 703ms\n",
      "153:\tlearn: 0.1731535\ttotal: 127ms\tremaining: 699ms\n",
      "154:\tlearn: 0.1715363\ttotal: 128ms\tremaining: 696ms\n",
      "155:\tlearn: 0.1701517\ttotal: 128ms\tremaining: 693ms\n",
      "156:\tlearn: 0.1685994\ttotal: 128ms\tremaining: 689ms\n",
      "157:\tlearn: 0.1671092\ttotal: 129ms\tremaining: 687ms\n",
      "158:\tlearn: 0.1656749\ttotal: 129ms\tremaining: 685ms\n",
      "159:\tlearn: 0.1639660\ttotal: 130ms\tremaining: 682ms\n",
      "160:\tlearn: 0.1625330\ttotal: 131ms\tremaining: 680ms\n",
      "161:\tlearn: 0.1613336\ttotal: 131ms\tremaining: 678ms\n",
      "162:\tlearn: 0.1596938\ttotal: 131ms\tremaining: 675ms\n",
      "163:\tlearn: 0.1584560\ttotal: 132ms\tremaining: 672ms\n",
      "164:\tlearn: 0.1572180\ttotal: 132ms\tremaining: 669ms\n",
      "165:\tlearn: 0.1557332\ttotal: 133ms\tremaining: 667ms\n",
      "166:\tlearn: 0.1543428\ttotal: 133ms\tremaining: 664ms\n",
      "167:\tlearn: 0.1528612\ttotal: 134ms\tremaining: 661ms\n",
      "168:\tlearn: 0.1514323\ttotal: 134ms\tremaining: 659ms\n",
      "169:\tlearn: 0.1501783\ttotal: 135ms\tremaining: 657ms\n",
      "170:\tlearn: 0.1488617\ttotal: 135ms\tremaining: 654ms\n",
      "171:\tlearn: 0.1478309\ttotal: 136ms\tremaining: 652ms\n",
      "172:\tlearn: 0.1462977\ttotal: 136ms\tremaining: 649ms\n",
      "173:\tlearn: 0.1447917\ttotal: 136ms\tremaining: 647ms\n",
      "174:\tlearn: 0.1435725\ttotal: 137ms\tremaining: 645ms\n",
      "175:\tlearn: 0.1423774\ttotal: 137ms\tremaining: 643ms\n",
      "176:\tlearn: 0.1413863\ttotal: 138ms\tremaining: 640ms\n",
      "177:\tlearn: 0.1403047\ttotal: 138ms\tremaining: 638ms\n",
      "178:\tlearn: 0.1389386\ttotal: 139ms\tremaining: 636ms\n",
      "179:\tlearn: 0.1379619\ttotal: 139ms\tremaining: 633ms\n",
      "180:\tlearn: 0.1367323\ttotal: 139ms\tremaining: 631ms\n",
      "181:\tlearn: 0.1356073\ttotal: 140ms\tremaining: 629ms\n",
      "182:\tlearn: 0.1344608\ttotal: 140ms\tremaining: 626ms\n",
      "183:\tlearn: 0.1336227\ttotal: 141ms\tremaining: 624ms\n",
      "184:\tlearn: 0.1325214\ttotal: 141ms\tremaining: 622ms\n",
      "185:\tlearn: 0.1314660\ttotal: 142ms\tremaining: 620ms\n",
      "186:\tlearn: 0.1304128\ttotal: 142ms\tremaining: 617ms\n",
      "187:\tlearn: 0.1293395\ttotal: 142ms\tremaining: 615ms\n",
      "188:\tlearn: 0.1283486\ttotal: 143ms\tremaining: 614ms\n",
      "189:\tlearn: 0.1272118\ttotal: 143ms\tremaining: 611ms\n",
      "190:\tlearn: 0.1263011\ttotal: 144ms\tremaining: 610ms\n",
      "191:\tlearn: 0.1253993\ttotal: 144ms\tremaining: 608ms\n",
      "192:\tlearn: 0.1244617\ttotal: 145ms\tremaining: 606ms\n",
      "193:\tlearn: 0.1234292\ttotal: 146ms\tremaining: 605ms\n",
      "194:\tlearn: 0.1226198\ttotal: 146ms\tremaining: 604ms\n",
      "195:\tlearn: 0.1216430\ttotal: 147ms\tremaining: 601ms\n",
      "196:\tlearn: 0.1209252\ttotal: 147ms\tremaining: 599ms\n",
      "197:\tlearn: 0.1200188\ttotal: 147ms\tremaining: 597ms\n",
      "198:\tlearn: 0.1190164\ttotal: 148ms\tremaining: 595ms\n",
      "199:\tlearn: 0.1179784\ttotal: 148ms\tremaining: 593ms\n",
      "200:\tlearn: 0.1171178\ttotal: 149ms\tremaining: 591ms\n",
      "201:\tlearn: 0.1161568\ttotal: 149ms\tremaining: 590ms\n",
      "202:\tlearn: 0.1152302\ttotal: 150ms\tremaining: 588ms\n",
      "203:\tlearn: 0.1142735\ttotal: 150ms\tremaining: 586ms\n",
      "204:\tlearn: 0.1133298\ttotal: 151ms\tremaining: 585ms\n",
      "205:\tlearn: 0.1124508\ttotal: 151ms\tremaining: 583ms\n",
      "206:\tlearn: 0.1117029\ttotal: 152ms\tremaining: 581ms\n",
      "207:\tlearn: 0.1107788\ttotal: 152ms\tremaining: 579ms\n",
      "208:\tlearn: 0.1100775\ttotal: 153ms\tremaining: 578ms\n",
      "209:\tlearn: 0.1092190\ttotal: 153ms\tremaining: 576ms\n",
      "210:\tlearn: 0.1084149\ttotal: 153ms\tremaining: 574ms\n",
      "211:\tlearn: 0.1075246\ttotal: 154ms\tremaining: 572ms\n",
      "212:\tlearn: 0.1067348\ttotal: 154ms\tremaining: 570ms\n",
      "213:\tlearn: 0.1059533\ttotal: 155ms\tremaining: 568ms\n",
      "214:\tlearn: 0.1051135\ttotal: 155ms\tremaining: 566ms\n",
      "215:\tlearn: 0.1044360\ttotal: 156ms\tremaining: 565ms\n",
      "216:\tlearn: 0.1036297\ttotal: 156ms\tremaining: 564ms\n",
      "217:\tlearn: 0.1027959\ttotal: 157ms\tremaining: 563ms\n",
      "218:\tlearn: 0.1020264\ttotal: 157ms\tremaining: 561ms\n",
      "219:\tlearn: 0.1010502\ttotal: 158ms\tremaining: 560ms\n",
      "220:\tlearn: 0.1004944\ttotal: 158ms\tremaining: 558ms\n",
      "221:\tlearn: 0.0997342\ttotal: 159ms\tremaining: 557ms\n",
      "222:\tlearn: 0.0989019\ttotal: 161ms\tremaining: 560ms\n",
      "223:\tlearn: 0.0980582\ttotal: 161ms\tremaining: 558ms\n",
      "224:\tlearn: 0.0973072\ttotal: 162ms\tremaining: 557ms\n",
      "225:\tlearn: 0.0968180\ttotal: 162ms\tremaining: 556ms\n",
      "226:\tlearn: 0.0960731\ttotal: 163ms\tremaining: 555ms\n",
      "227:\tlearn: 0.0953729\ttotal: 163ms\tremaining: 553ms\n",
      "228:\tlearn: 0.0947079\ttotal: 164ms\tremaining: 552ms\n",
      "229:\tlearn: 0.0940801\ttotal: 164ms\tremaining: 550ms\n",
      "230:\tlearn: 0.0936501\ttotal: 165ms\tremaining: 548ms\n",
      "231:\tlearn: 0.0931124\ttotal: 165ms\tremaining: 547ms\n",
      "232:\tlearn: 0.0925230\ttotal: 166ms\tremaining: 545ms\n",
      "233:\tlearn: 0.0919518\ttotal: 166ms\tremaining: 544ms\n",
      "234:\tlearn: 0.0913502\ttotal: 167ms\tremaining: 542ms\n",
      "235:\tlearn: 0.0907220\ttotal: 167ms\tremaining: 540ms\n",
      "236:\tlearn: 0.0900146\ttotal: 167ms\tremaining: 539ms\n"
     ]
    },
    {
     "name": "stdout",
     "output_type": "stream",
     "text": [
      "237:\tlearn: 0.0893619\ttotal: 168ms\tremaining: 538ms\n",
      "238:\tlearn: 0.0887590\ttotal: 169ms\tremaining: 537ms\n",
      "239:\tlearn: 0.0880155\ttotal: 169ms\tremaining: 535ms\n",
      "240:\tlearn: 0.0874741\ttotal: 169ms\tremaining: 534ms\n",
      "241:\tlearn: 0.0867619\ttotal: 170ms\tremaining: 532ms\n",
      "242:\tlearn: 0.0862342\ttotal: 170ms\tremaining: 531ms\n",
      "243:\tlearn: 0.0857169\ttotal: 171ms\tremaining: 529ms\n",
      "244:\tlearn: 0.0852873\ttotal: 171ms\tremaining: 528ms\n",
      "245:\tlearn: 0.0847426\ttotal: 172ms\tremaining: 526ms\n",
      "246:\tlearn: 0.0841644\ttotal: 172ms\tremaining: 525ms\n",
      "247:\tlearn: 0.0836377\ttotal: 173ms\tremaining: 523ms\n",
      "248:\tlearn: 0.0830334\ttotal: 173ms\tremaining: 522ms\n",
      "249:\tlearn: 0.0826108\ttotal: 173ms\tremaining: 520ms\n",
      "250:\tlearn: 0.0820018\ttotal: 174ms\tremaining: 519ms\n",
      "251:\tlearn: 0.0813816\ttotal: 174ms\tremaining: 518ms\n",
      "252:\tlearn: 0.0808436\ttotal: 175ms\tremaining: 516ms\n",
      "253:\tlearn: 0.0803574\ttotal: 175ms\tremaining: 515ms\n",
      "254:\tlearn: 0.0799091\ttotal: 176ms\tremaining: 514ms\n",
      "255:\tlearn: 0.0795221\ttotal: 176ms\tremaining: 512ms\n",
      "256:\tlearn: 0.0791744\ttotal: 177ms\tremaining: 511ms\n",
      "257:\tlearn: 0.0786286\ttotal: 177ms\tremaining: 509ms\n",
      "258:\tlearn: 0.0782397\ttotal: 178ms\tremaining: 508ms\n",
      "259:\tlearn: 0.0777379\ttotal: 178ms\tremaining: 507ms\n",
      "260:\tlearn: 0.0772798\ttotal: 179ms\tremaining: 506ms\n",
      "261:\tlearn: 0.0768937\ttotal: 179ms\tremaining: 505ms\n",
      "262:\tlearn: 0.0763489\ttotal: 180ms\tremaining: 503ms\n",
      "263:\tlearn: 0.0758610\ttotal: 180ms\tremaining: 501ms\n",
      "264:\tlearn: 0.0752760\ttotal: 180ms\tremaining: 500ms\n",
      "265:\tlearn: 0.0748492\ttotal: 181ms\tremaining: 499ms\n",
      "266:\tlearn: 0.0744648\ttotal: 181ms\tremaining: 497ms\n",
      "267:\tlearn: 0.0739640\ttotal: 182ms\tremaining: 496ms\n",
      "268:\tlearn: 0.0734415\ttotal: 182ms\tremaining: 495ms\n",
      "269:\tlearn: 0.0730131\ttotal: 182ms\tremaining: 493ms\n",
      "270:\tlearn: 0.0725292\ttotal: 183ms\tremaining: 492ms\n",
      "271:\tlearn: 0.0720984\ttotal: 183ms\tremaining: 491ms\n",
      "272:\tlearn: 0.0717049\ttotal: 184ms\tremaining: 490ms\n",
      "273:\tlearn: 0.0712059\ttotal: 184ms\tremaining: 489ms\n",
      "274:\tlearn: 0.0707874\ttotal: 185ms\tremaining: 487ms\n",
      "275:\tlearn: 0.0704548\ttotal: 185ms\tremaining: 486ms\n",
      "276:\tlearn: 0.0700861\ttotal: 186ms\tremaining: 485ms\n",
      "277:\tlearn: 0.0696579\ttotal: 186ms\tremaining: 483ms\n",
      "278:\tlearn: 0.0692598\ttotal: 186ms\tremaining: 482ms\n",
      "279:\tlearn: 0.0688796\ttotal: 187ms\tremaining: 481ms\n",
      "280:\tlearn: 0.0685183\ttotal: 187ms\tremaining: 479ms\n",
      "281:\tlearn: 0.0681532\ttotal: 188ms\tremaining: 479ms\n",
      "282:\tlearn: 0.0676700\ttotal: 188ms\tremaining: 477ms\n",
      "283:\tlearn: 0.0672798\ttotal: 189ms\tremaining: 476ms\n",
      "284:\tlearn: 0.0669432\ttotal: 189ms\tremaining: 475ms\n",
      "285:\tlearn: 0.0665441\ttotal: 190ms\tremaining: 474ms\n",
      "286:\tlearn: 0.0662034\ttotal: 190ms\tremaining: 473ms\n",
      "287:\tlearn: 0.0658915\ttotal: 191ms\tremaining: 472ms\n",
      "288:\tlearn: 0.0655380\ttotal: 191ms\tremaining: 471ms\n",
      "289:\tlearn: 0.0651530\ttotal: 192ms\tremaining: 470ms\n",
      "290:\tlearn: 0.0647975\ttotal: 192ms\tremaining: 469ms\n",
      "291:\tlearn: 0.0644886\ttotal: 193ms\tremaining: 468ms\n",
      "292:\tlearn: 0.0641216\ttotal: 194ms\tremaining: 467ms\n",
      "293:\tlearn: 0.0637932\ttotal: 194ms\tremaining: 466ms\n",
      "294:\tlearn: 0.0634809\ttotal: 195ms\tremaining: 465ms\n",
      "295:\tlearn: 0.0631900\ttotal: 195ms\tremaining: 464ms\n",
      "296:\tlearn: 0.0628859\ttotal: 196ms\tremaining: 463ms\n",
      "297:\tlearn: 0.0625688\ttotal: 196ms\tremaining: 462ms\n",
      "298:\tlearn: 0.0622668\ttotal: 197ms\tremaining: 461ms\n",
      "299:\tlearn: 0.0618287\ttotal: 197ms\tremaining: 459ms\n",
      "300:\tlearn: 0.0615835\ttotal: 197ms\tremaining: 458ms\n",
      "301:\tlearn: 0.0612352\ttotal: 198ms\tremaining: 457ms\n",
      "302:\tlearn: 0.0609040\ttotal: 198ms\tremaining: 456ms\n",
      "303:\tlearn: 0.0606074\ttotal: 199ms\tremaining: 455ms\n",
      "304:\tlearn: 0.0602402\ttotal: 199ms\tremaining: 454ms\n",
      "305:\tlearn: 0.0599385\ttotal: 200ms\tremaining: 453ms\n",
      "306:\tlearn: 0.0596624\ttotal: 200ms\tremaining: 452ms\n",
      "307:\tlearn: 0.0593610\ttotal: 201ms\tremaining: 451ms\n",
      "308:\tlearn: 0.0590860\ttotal: 201ms\tremaining: 450ms\n",
      "309:\tlearn: 0.0588317\ttotal: 202ms\tremaining: 449ms\n",
      "310:\tlearn: 0.0585652\ttotal: 202ms\tremaining: 448ms\n",
      "311:\tlearn: 0.0582751\ttotal: 203ms\tremaining: 447ms\n",
      "312:\tlearn: 0.0580030\ttotal: 203ms\tremaining: 446ms\n",
      "313:\tlearn: 0.0575599\ttotal: 204ms\tremaining: 445ms\n",
      "314:\tlearn: 0.0571082\ttotal: 204ms\tremaining: 444ms\n",
      "315:\tlearn: 0.0568333\ttotal: 205ms\tremaining: 443ms\n",
      "316:\tlearn: 0.0565522\ttotal: 205ms\tremaining: 442ms\n",
      "317:\tlearn: 0.0562935\ttotal: 205ms\tremaining: 441ms\n",
      "318:\tlearn: 0.0559558\ttotal: 206ms\tremaining: 440ms\n",
      "319:\tlearn: 0.0557231\ttotal: 206ms\tremaining: 438ms\n",
      "320:\tlearn: 0.0553915\ttotal: 207ms\tremaining: 438ms\n",
      "321:\tlearn: 0.0549036\ttotal: 207ms\tremaining: 436ms\n",
      "322:\tlearn: 0.0546768\ttotal: 208ms\tremaining: 436ms\n",
      "323:\tlearn: 0.0544159\ttotal: 208ms\tremaining: 435ms\n",
      "324:\tlearn: 0.0541507\ttotal: 209ms\tremaining: 433ms\n",
      "325:\tlearn: 0.0539210\ttotal: 209ms\tremaining: 432ms\n",
      "326:\tlearn: 0.0534532\ttotal: 210ms\tremaining: 431ms\n",
      "327:\tlearn: 0.0531979\ttotal: 210ms\tremaining: 430ms\n",
      "328:\tlearn: 0.0529727\ttotal: 211ms\tremaining: 430ms\n",
      "329:\tlearn: 0.0525172\ttotal: 211ms\tremaining: 428ms\n",
      "330:\tlearn: 0.0522823\ttotal: 211ms\tremaining: 427ms\n",
      "331:\tlearn: 0.0518640\ttotal: 212ms\tremaining: 426ms\n",
      "332:\tlearn: 0.0514684\ttotal: 212ms\tremaining: 425ms\n",
      "333:\tlearn: 0.0512051\ttotal: 213ms\tremaining: 424ms\n",
      "334:\tlearn: 0.0509662\ttotal: 213ms\tremaining: 423ms\n",
      "335:\tlearn: 0.0505397\ttotal: 214ms\tremaining: 422ms\n",
      "336:\tlearn: 0.0503343\ttotal: 214ms\tremaining: 421ms\n",
      "337:\tlearn: 0.0499166\ttotal: 215ms\tremaining: 420ms\n",
      "338:\tlearn: 0.0497033\ttotal: 215ms\tremaining: 419ms\n",
      "339:\tlearn: 0.0492950\ttotal: 215ms\tremaining: 418ms\n",
      "340:\tlearn: 0.0489424\ttotal: 216ms\tremaining: 417ms\n",
      "341:\tlearn: 0.0487266\ttotal: 216ms\tremaining: 416ms\n",
      "342:\tlearn: 0.0485445\ttotal: 217ms\tremaining: 415ms\n",
      "343:\tlearn: 0.0481542\ttotal: 217ms\tremaining: 414ms\n",
      "344:\tlearn: 0.0477718\ttotal: 218ms\tremaining: 413ms\n",
      "345:\tlearn: 0.0475657\ttotal: 218ms\tremaining: 412ms\n",
      "346:\tlearn: 0.0473403\ttotal: 218ms\tremaining: 411ms\n"
     ]
    },
    {
     "name": "stdout",
     "output_type": "stream",
     "text": [
      "347:\tlearn: 0.0470366\ttotal: 219ms\tremaining: 411ms\n",
      "348:\tlearn: 0.0468033\ttotal: 220ms\tremaining: 410ms\n",
      "349:\tlearn: 0.0465069\ttotal: 220ms\tremaining: 409ms\n",
      "350:\tlearn: 0.0463137\ttotal: 221ms\tremaining: 408ms\n",
      "351:\tlearn: 0.0459846\ttotal: 221ms\tremaining: 407ms\n",
      "352:\tlearn: 0.0456547\ttotal: 222ms\tremaining: 407ms\n",
      "353:\tlearn: 0.0454157\ttotal: 222ms\tremaining: 406ms\n",
      "354:\tlearn: 0.0452469\ttotal: 223ms\tremaining: 405ms\n",
      "355:\tlearn: 0.0449308\ttotal: 224ms\tremaining: 404ms\n",
      "356:\tlearn: 0.0447006\ttotal: 224ms\tremaining: 404ms\n",
      "357:\tlearn: 0.0443620\ttotal: 225ms\tremaining: 403ms\n",
      "358:\tlearn: 0.0441839\ttotal: 225ms\tremaining: 402ms\n",
      "359:\tlearn: 0.0440067\ttotal: 226ms\tremaining: 401ms\n",
      "360:\tlearn: 0.0437466\ttotal: 226ms\tremaining: 400ms\n",
      "361:\tlearn: 0.0435262\ttotal: 227ms\tremaining: 399ms\n",
      "362:\tlearn: 0.0433599\ttotal: 227ms\tremaining: 398ms\n",
      "363:\tlearn: 0.0431575\ttotal: 227ms\tremaining: 397ms\n",
      "364:\tlearn: 0.0429408\ttotal: 228ms\tremaining: 397ms\n",
      "365:\tlearn: 0.0426511\ttotal: 228ms\tremaining: 396ms\n",
      "366:\tlearn: 0.0424854\ttotal: 229ms\tremaining: 395ms\n",
      "367:\tlearn: 0.0422383\ttotal: 229ms\tremaining: 394ms\n",
      "368:\tlearn: 0.0419961\ttotal: 230ms\tremaining: 393ms\n",
      "369:\tlearn: 0.0418355\ttotal: 230ms\tremaining: 392ms\n",
      "370:\tlearn: 0.0416315\ttotal: 231ms\tremaining: 391ms\n",
      "371:\tlearn: 0.0414338\ttotal: 231ms\tremaining: 390ms\n",
      "372:\tlearn: 0.0412197\ttotal: 232ms\tremaining: 390ms\n",
      "373:\tlearn: 0.0409925\ttotal: 232ms\tremaining: 389ms\n",
      "374:\tlearn: 0.0407512\ttotal: 233ms\tremaining: 388ms\n",
      "375:\tlearn: 0.0405399\ttotal: 233ms\tremaining: 387ms\n",
      "376:\tlearn: 0.0403246\ttotal: 234ms\tremaining: 386ms\n",
      "377:\tlearn: 0.0401206\ttotal: 234ms\tremaining: 386ms\n",
      "378:\tlearn: 0.0399205\ttotal: 235ms\tremaining: 385ms\n",
      "379:\tlearn: 0.0397042\ttotal: 235ms\tremaining: 384ms\n",
      "380:\tlearn: 0.0394923\ttotal: 236ms\tremaining: 383ms\n",
      "381:\tlearn: 0.0393498\ttotal: 236ms\tremaining: 382ms\n",
      "382:\tlearn: 0.0392109\ttotal: 237ms\tremaining: 382ms\n",
      "383:\tlearn: 0.0389805\ttotal: 237ms\tremaining: 381ms\n",
      "384:\tlearn: 0.0388441\ttotal: 238ms\tremaining: 380ms\n",
      "385:\tlearn: 0.0387124\ttotal: 239ms\tremaining: 379ms\n",
      "386:\tlearn: 0.0384798\ttotal: 239ms\tremaining: 379ms\n",
      "387:\tlearn: 0.0383497\ttotal: 240ms\tremaining: 378ms\n",
      "388:\tlearn: 0.0381673\ttotal: 240ms\tremaining: 377ms\n",
      "389:\tlearn: 0.0380515\ttotal: 241ms\tremaining: 376ms\n",
      "390:\tlearn: 0.0378642\ttotal: 241ms\tremaining: 375ms\n",
      "391:\tlearn: 0.0377396\ttotal: 242ms\tremaining: 375ms\n",
      "392:\tlearn: 0.0375710\ttotal: 242ms\tremaining: 374ms\n",
      "393:\tlearn: 0.0373730\ttotal: 242ms\tremaining: 373ms\n",
      "394:\tlearn: 0.0371926\ttotal: 243ms\tremaining: 372ms\n",
      "395:\tlearn: 0.0370860\ttotal: 243ms\tremaining: 371ms\n",
      "396:\tlearn: 0.0369796\ttotal: 244ms\tremaining: 370ms\n",
      "397:\tlearn: 0.0368062\ttotal: 244ms\tremaining: 369ms\n",
      "398:\tlearn: 0.0367002\ttotal: 245ms\tremaining: 368ms\n",
      "399:\tlearn: 0.0365329\ttotal: 245ms\tremaining: 368ms\n",
      "400:\tlearn: 0.0363672\ttotal: 246ms\tremaining: 367ms\n",
      "401:\tlearn: 0.0362047\ttotal: 246ms\tremaining: 366ms\n",
      "402:\tlearn: 0.0361021\ttotal: 246ms\tremaining: 365ms\n",
      "403:\tlearn: 0.0360043\ttotal: 247ms\tremaining: 364ms\n",
      "404:\tlearn: 0.0358461\ttotal: 247ms\tremaining: 363ms\n",
      "405:\tlearn: 0.0355440\ttotal: 248ms\tremaining: 363ms\n",
      "406:\tlearn: 0.0353894\ttotal: 249ms\tremaining: 362ms\n",
      "407:\tlearn: 0.0350939\ttotal: 249ms\tremaining: 361ms\n",
      "408:\tlearn: 0.0349989\ttotal: 250ms\tremaining: 361ms\n",
      "409:\tlearn: 0.0349053\ttotal: 250ms\tremaining: 360ms\n",
      "410:\tlearn: 0.0348131\ttotal: 251ms\tremaining: 359ms\n",
      "411:\tlearn: 0.0345246\ttotal: 251ms\tremaining: 358ms\n",
      "412:\tlearn: 0.0343422\ttotal: 252ms\tremaining: 358ms\n",
      "413:\tlearn: 0.0342536\ttotal: 252ms\tremaining: 357ms\n",
      "414:\tlearn: 0.0339724\ttotal: 253ms\tremaining: 356ms\n",
      "415:\tlearn: 0.0338141\ttotal: 253ms\tremaining: 355ms\n",
      "416:\tlearn: 0.0335394\ttotal: 254ms\tremaining: 355ms\n",
      "417:\tlearn: 0.0333970\ttotal: 255ms\tremaining: 355ms\n",
      "418:\tlearn: 0.0333100\ttotal: 255ms\tremaining: 354ms\n",
      "419:\tlearn: 0.0332242\ttotal: 256ms\tremaining: 353ms\n",
      "420:\tlearn: 0.0331398\ttotal: 256ms\tremaining: 353ms\n",
      "421:\tlearn: 0.0328691\ttotal: 257ms\tremaining: 352ms\n",
      "422:\tlearn: 0.0326998\ttotal: 258ms\tremaining: 351ms\n",
      "423:\tlearn: 0.0324354\ttotal: 258ms\tremaining: 350ms\n",
      "424:\tlearn: 0.0323535\ttotal: 258ms\tremaining: 350ms\n",
      "425:\tlearn: 0.0321000\ttotal: 259ms\tremaining: 349ms\n",
      "426:\tlearn: 0.0320162\ttotal: 259ms\tremaining: 348ms\n",
      "427:\tlearn: 0.0319365\ttotal: 260ms\tremaining: 347ms\n",
      "428:\tlearn: 0.0318718\ttotal: 260ms\tremaining: 346ms\n",
      "429:\tlearn: 0.0317913\ttotal: 261ms\tremaining: 346ms\n",
      "430:\tlearn: 0.0317138\ttotal: 261ms\tremaining: 345ms\n",
      "431:\tlearn: 0.0316514\ttotal: 262ms\tremaining: 344ms\n",
      "432:\tlearn: 0.0314007\ttotal: 262ms\tremaining: 343ms\n",
      "433:\tlearn: 0.0313394\ttotal: 262ms\tremaining: 342ms\n",
      "434:\tlearn: 0.0312788\ttotal: 263ms\tremaining: 342ms\n",
      "435:\tlearn: 0.0310338\ttotal: 264ms\tremaining: 341ms\n",
      "436:\tlearn: 0.0309743\ttotal: 264ms\tremaining: 340ms\n",
      "437:\tlearn: 0.0309156\ttotal: 265ms\tremaining: 339ms\n",
      "438:\tlearn: 0.0308578\ttotal: 265ms\tremaining: 339ms\n",
      "439:\tlearn: 0.0306185\ttotal: 265ms\tremaining: 338ms\n",
      "440:\tlearn: 0.0305616\ttotal: 266ms\tremaining: 337ms\n",
      "441:\tlearn: 0.0305055\ttotal: 266ms\tremaining: 336ms\n",
      "442:\tlearn: 0.0302716\ttotal: 267ms\tremaining: 336ms\n",
      "443:\tlearn: 0.0302165\ttotal: 267ms\tremaining: 335ms\n",
      "444:\tlearn: 0.0301611\ttotal: 268ms\tremaining: 334ms\n",
      "445:\tlearn: 0.0301072\ttotal: 268ms\tremaining: 333ms\n",
      "446:\tlearn: 0.0298760\ttotal: 269ms\tremaining: 333ms\n",
      "447:\tlearn: 0.0298221\ttotal: 269ms\tremaining: 332ms\n",
      "448:\tlearn: 0.0297688\ttotal: 270ms\tremaining: 331ms\n",
      "449:\tlearn: 0.0295292\ttotal: 270ms\tremaining: 330ms\n",
      "450:\tlearn: 0.0294768\ttotal: 271ms\tremaining: 330ms\n",
      "451:\tlearn: 0.0294251\ttotal: 271ms\tremaining: 329ms\n",
      "452:\tlearn: 0.0291746\ttotal: 272ms\tremaining: 328ms\n",
      "453:\tlearn: 0.0291238\ttotal: 272ms\tremaining: 328ms\n",
      "454:\tlearn: 0.0290737\ttotal: 273ms\tremaining: 327ms\n",
      "455:\tlearn: 0.0290241\ttotal: 273ms\tremaining: 326ms\n",
      "456:\tlearn: 0.0287948\ttotal: 274ms\tremaining: 325ms\n",
      "457:\tlearn: 0.0287461\ttotal: 274ms\tremaining: 325ms\n",
      "458:\tlearn: 0.0285046\ttotal: 275ms\tremaining: 324ms\n",
      "459:\tlearn: 0.0284567\ttotal: 275ms\tremaining: 323ms\n",
      "460:\tlearn: 0.0284094\ttotal: 276ms\tremaining: 323ms\n",
      "461:\tlearn: 0.0283627\ttotal: 277ms\tremaining: 322ms\n",
      "462:\tlearn: 0.0281268\ttotal: 278ms\tremaining: 322ms\n",
      "463:\tlearn: 0.0280808\ttotal: 278ms\tremaining: 321ms\n",
      "464:\tlearn: 0.0280355\ttotal: 279ms\tremaining: 321ms\n",
      "465:\tlearn: 0.0278905\ttotal: 280ms\tremaining: 321ms\n",
      "466:\tlearn: 0.0276744\ttotal: 281ms\tremaining: 320ms\n",
      "467:\tlearn: 0.0274624\ttotal: 281ms\tremaining: 320ms\n",
      "468:\tlearn: 0.0272424\ttotal: 282ms\tremaining: 319ms\n",
      "469:\tlearn: 0.0271983\ttotal: 282ms\tremaining: 318ms\n",
      "470:\tlearn: 0.0271549\ttotal: 283ms\tremaining: 318ms\n",
      "471:\tlearn: 0.0271119\ttotal: 283ms\tremaining: 317ms\n",
      "472:\tlearn: 0.0268925\ttotal: 284ms\tremaining: 316ms\n",
      "473:\tlearn: 0.0268502\ttotal: 284ms\tremaining: 316ms\n",
      "474:\tlearn: 0.0268086\ttotal: 285ms\tremaining: 315ms\n",
      "475:\tlearn: 0.0267674\ttotal: 285ms\tremaining: 314ms\n",
      "476:\tlearn: 0.0265862\ttotal: 286ms\tremaining: 313ms\n",
      "477:\tlearn: 0.0265456\ttotal: 286ms\tremaining: 313ms\n",
      "478:\tlearn: 0.0263706\ttotal: 287ms\tremaining: 312ms\n",
      "479:\tlearn: 0.0261609\ttotal: 287ms\tremaining: 311ms\n",
      "480:\tlearn: 0.0261210\ttotal: 288ms\tremaining: 311ms\n",
      "481:\tlearn: 0.0260815\ttotal: 289ms\tremaining: 310ms\n",
      "482:\tlearn: 0.0259089\ttotal: 289ms\tremaining: 310ms\n",
      "483:\tlearn: 0.0257028\ttotal: 290ms\tremaining: 309ms\n",
      "484:\tlearn: 0.0256640\ttotal: 291ms\tremaining: 309ms\n",
      "485:\tlearn: 0.0255475\ttotal: 291ms\tremaining: 308ms\n",
      "486:\tlearn: 0.0254196\ttotal: 292ms\tremaining: 307ms\n",
      "487:\tlearn: 0.0252365\ttotal: 292ms\tremaining: 307ms\n",
      "488:\tlearn: 0.0250751\ttotal: 293ms\tremaining: 306ms\n",
      "489:\tlearn: 0.0249633\ttotal: 294ms\tremaining: 306ms\n",
      "490:\tlearn: 0.0248436\ttotal: 295ms\tremaining: 305ms\n",
      "491:\tlearn: 0.0247262\ttotal: 295ms\tremaining: 305ms\n",
      "492:\tlearn: 0.0246893\ttotal: 295ms\tremaining: 304ms\n",
      "493:\tlearn: 0.0245009\ttotal: 296ms\tremaining: 303ms\n",
      "494:\tlearn: 0.0244645\ttotal: 297ms\tremaining: 303ms\n",
      "495:\tlearn: 0.0244219\ttotal: 297ms\tremaining: 302ms\n",
      "496:\tlearn: 0.0243164\ttotal: 298ms\tremaining: 302ms\n",
      "497:\tlearn: 0.0241333\ttotal: 299ms\tremaining: 301ms\n",
      "498:\tlearn: 0.0240183\ttotal: 299ms\tremaining: 300ms\n",
      "499:\tlearn: 0.0239768\ttotal: 300ms\tremaining: 300ms\n",
      "500:\tlearn: 0.0237991\ttotal: 300ms\tremaining: 299ms\n",
      "501:\tlearn: 0.0237581\ttotal: 301ms\tremaining: 298ms\n"
     ]
    },
    {
     "name": "stdout",
     "output_type": "stream",
     "text": [
      "502:\tlearn: 0.0236577\ttotal: 302ms\tremaining: 298ms\n",
      "503:\tlearn: 0.0235598\ttotal: 302ms\tremaining: 297ms\n",
      "504:\tlearn: 0.0233877\ttotal: 303ms\tremaining: 297ms\n",
      "505:\tlearn: 0.0233477\ttotal: 303ms\tremaining: 296ms\n",
      "506:\tlearn: 0.0231797\ttotal: 303ms\tremaining: 295ms\n",
      "507:\tlearn: 0.0230855\ttotal: 304ms\tremaining: 295ms\n",
      "508:\tlearn: 0.0230462\ttotal: 305ms\tremaining: 294ms\n",
      "509:\tlearn: 0.0228828\ttotal: 305ms\tremaining: 293ms\n",
      "510:\tlearn: 0.0227460\ttotal: 305ms\tremaining: 292ms\n",
      "511:\tlearn: 0.0227073\ttotal: 306ms\tremaining: 292ms\n",
      "512:\tlearn: 0.0226523\ttotal: 306ms\tremaining: 291ms\n",
      "513:\tlearn: 0.0225193\ttotal: 307ms\tremaining: 290ms\n",
      "514:\tlearn: 0.0224815\ttotal: 307ms\tremaining: 289ms\n",
      "515:\tlearn: 0.0224443\ttotal: 308ms\tremaining: 289ms\n",
      "516:\tlearn: 0.0223145\ttotal: 308ms\tremaining: 288ms\n",
      "517:\tlearn: 0.0222619\ttotal: 309ms\tremaining: 288ms\n",
      "518:\tlearn: 0.0222255\ttotal: 310ms\tremaining: 287ms\n",
      "519:\tlearn: 0.0220994\ttotal: 310ms\tremaining: 286ms\n",
      "520:\tlearn: 0.0220076\ttotal: 311ms\tremaining: 286ms\n",
      "521:\tlearn: 0.0219720\ttotal: 311ms\tremaining: 285ms\n",
      "522:\tlearn: 0.0218502\ttotal: 312ms\tremaining: 284ms\n",
      "523:\tlearn: 0.0218152\ttotal: 312ms\tremaining: 284ms\n",
      "524:\tlearn: 0.0217808\ttotal: 313ms\tremaining: 283ms\n",
      "525:\tlearn: 0.0216620\ttotal: 314ms\tremaining: 283ms\n",
      "526:\tlearn: 0.0216130\ttotal: 314ms\tremaining: 282ms\n",
      "527:\tlearn: 0.0215794\ttotal: 314ms\tremaining: 281ms\n",
      "528:\tlearn: 0.0214036\ttotal: 315ms\tremaining: 280ms\n",
      "529:\tlearn: 0.0213040\ttotal: 315ms\tremaining: 280ms\n",
      "530:\tlearn: 0.0212372\ttotal: 316ms\tremaining: 279ms\n",
      "531:\tlearn: 0.0212049\ttotal: 316ms\tremaining: 278ms\n",
      "532:\tlearn: 0.0210869\ttotal: 317ms\tremaining: 278ms\n",
      "533:\tlearn: 0.0209174\ttotal: 317ms\tremaining: 277ms\n",
      "534:\tlearn: 0.0208024\ttotal: 318ms\tremaining: 276ms\n",
      "535:\tlearn: 0.0207109\ttotal: 318ms\tremaining: 275ms\n",
      "536:\tlearn: 0.0206156\ttotal: 319ms\tremaining: 275ms\n",
      "537:\tlearn: 0.0205039\ttotal: 319ms\tremaining: 274ms\n",
      "538:\tlearn: 0.0203944\ttotal: 320ms\tremaining: 273ms\n",
      "539:\tlearn: 0.0203191\ttotal: 320ms\tremaining: 273ms\n",
      "540:\tlearn: 0.0202453\ttotal: 321ms\tremaining: 272ms\n",
      "541:\tlearn: 0.0201409\ttotal: 321ms\tremaining: 271ms\n",
      "542:\tlearn: 0.0200348\ttotal: 322ms\tremaining: 271ms\n",
      "543:\tlearn: 0.0199632\ttotal: 322ms\tremaining: 270ms\n",
      "544:\tlearn: 0.0198620\ttotal: 323ms\tremaining: 269ms\n",
      "545:\tlearn: 0.0197589\ttotal: 323ms\tremaining: 269ms\n",
      "546:\tlearn: 0.0196894\ttotal: 324ms\tremaining: 268ms\n",
      "547:\tlearn: 0.0195914\ttotal: 324ms\tremaining: 267ms\n",
      "548:\tlearn: 0.0194957\ttotal: 325ms\tremaining: 267ms\n",
      "549:\tlearn: 0.0193960\ttotal: 325ms\tremaining: 266ms\n",
      "550:\tlearn: 0.0193095\ttotal: 326ms\tremaining: 265ms\n",
      "551:\tlearn: 0.0192120\ttotal: 326ms\tremaining: 265ms\n",
      "552:\tlearn: 0.0191275\ttotal: 326ms\tremaining: 264ms\n",
      "553:\tlearn: 0.0190357\ttotal: 327ms\tremaining: 263ms\n",
      "554:\tlearn: 0.0189252\ttotal: 328ms\tremaining: 263ms\n",
      "555:\tlearn: 0.0188314\ttotal: 328ms\tremaining: 262ms\n",
      "556:\tlearn: 0.0187535\ttotal: 328ms\tremaining: 261ms\n",
      "557:\tlearn: 0.0186724\ttotal: 329ms\tremaining: 260ms\n",
      "558:\tlearn: 0.0185658\ttotal: 329ms\tremaining: 260ms\n",
      "559:\tlearn: 0.0184754\ttotal: 330ms\tremaining: 259ms\n",
      "560:\tlearn: 0.0183999\ttotal: 330ms\tremaining: 258ms\n",
      "561:\tlearn: 0.0182507\ttotal: 331ms\tremaining: 258ms\n",
      "562:\tlearn: 0.0182049\ttotal: 331ms\tremaining: 257ms\n",
      "563:\tlearn: 0.0180967\ttotal: 332ms\tremaining: 256ms\n",
      "564:\tlearn: 0.0180520\ttotal: 332ms\tremaining: 256ms\n",
      "565:\tlearn: 0.0179505\ttotal: 332ms\tremaining: 255ms\n",
      "566:\tlearn: 0.0178510\ttotal: 333ms\tremaining: 254ms\n",
      "567:\tlearn: 0.0177539\ttotal: 334ms\tremaining: 254ms\n",
      "568:\tlearn: 0.0177084\ttotal: 334ms\tremaining: 253ms\n",
      "569:\tlearn: 0.0176135\ttotal: 335ms\tremaining: 253ms\n",
      "570:\tlearn: 0.0175208\ttotal: 335ms\tremaining: 252ms\n",
      "571:\tlearn: 0.0174787\ttotal: 336ms\tremaining: 251ms\n",
      "572:\tlearn: 0.0174353\ttotal: 336ms\tremaining: 251ms\n",
      "573:\tlearn: 0.0173451\ttotal: 337ms\tremaining: 250ms\n",
      "574:\tlearn: 0.0172578\ttotal: 338ms\tremaining: 249ms\n",
      "575:\tlearn: 0.0172139\ttotal: 338ms\tremaining: 249ms\n",
      "576:\tlearn: 0.0171272\ttotal: 339ms\tremaining: 248ms\n",
      "577:\tlearn: 0.0170878\ttotal: 339ms\tremaining: 247ms\n",
      "578:\tlearn: 0.0170035\ttotal: 339ms\tremaining: 247ms\n",
      "579:\tlearn: 0.0169592\ttotal: 340ms\tremaining: 246ms\n",
      "580:\tlearn: 0.0168762\ttotal: 340ms\tremaining: 246ms\n",
      "581:\tlearn: 0.0168253\ttotal: 341ms\tremaining: 245ms\n",
      "582:\tlearn: 0.0167990\ttotal: 341ms\tremaining: 244ms\n",
      "583:\tlearn: 0.0167434\ttotal: 342ms\tremaining: 244ms\n",
      "584:\tlearn: 0.0167177\ttotal: 342ms\tremaining: 243ms\n",
      "585:\tlearn: 0.0166751\ttotal: 343ms\tremaining: 242ms\n",
      "586:\tlearn: 0.0166498\ttotal: 343ms\tremaining: 242ms\n",
      "587:\tlearn: 0.0166015\ttotal: 344ms\tremaining: 241ms\n",
      "588:\tlearn: 0.0165768\ttotal: 344ms\tremaining: 240ms\n",
      "589:\tlearn: 0.0165419\ttotal: 345ms\tremaining: 240ms\n",
      "590:\tlearn: 0.0164891\ttotal: 345ms\tremaining: 239ms\n",
      "591:\tlearn: 0.0164430\ttotal: 346ms\tremaining: 238ms\n",
      "592:\tlearn: 0.0164092\ttotal: 346ms\tremaining: 238ms\n",
      "593:\tlearn: 0.0163305\ttotal: 347ms\tremaining: 237ms\n",
      "594:\tlearn: 0.0163141\ttotal: 347ms\tremaining: 236ms\n",
      "595:\tlearn: 0.0162782\ttotal: 348ms\tremaining: 236ms\n",
      "596:\tlearn: 0.0162284\ttotal: 348ms\tremaining: 235ms\n",
      "597:\tlearn: 0.0161517\ttotal: 349ms\tremaining: 234ms\n",
      "598:\tlearn: 0.0161357\ttotal: 349ms\tremaining: 234ms\n",
      "599:\tlearn: 0.0161011\ttotal: 350ms\tremaining: 233ms\n",
      "600:\tlearn: 0.0160576\ttotal: 350ms\tremaining: 232ms\n",
      "601:\tlearn: 0.0160103\ttotal: 350ms\tremaining: 232ms\n",
      "602:\tlearn: 0.0159212\ttotal: 351ms\tremaining: 231ms\n",
      "603:\tlearn: 0.0158823\ttotal: 352ms\tremaining: 231ms\n"
     ]
    },
    {
     "name": "stdout",
     "output_type": "stream",
     "text": [
      "604:\tlearn: 0.0158486\ttotal: 352ms\tremaining: 230ms\n",
      "605:\tlearn: 0.0157983\ttotal: 353ms\tremaining: 229ms\n",
      "606:\tlearn: 0.0157251\ttotal: 354ms\tremaining: 229ms\n",
      "607:\tlearn: 0.0156760\ttotal: 354ms\tremaining: 228ms\n",
      "608:\tlearn: 0.0155908\ttotal: 354ms\tremaining: 228ms\n",
      "609:\tlearn: 0.0155759\ttotal: 355ms\tremaining: 227ms\n",
      "610:\tlearn: 0.0155404\ttotal: 355ms\tremaining: 226ms\n",
      "611:\tlearn: 0.0154696\ttotal: 356ms\tremaining: 225ms\n",
      "612:\tlearn: 0.0154350\ttotal: 356ms\tremaining: 225ms\n",
      "613:\tlearn: 0.0154052\ttotal: 357ms\tremaining: 224ms\n",
      "614:\tlearn: 0.0153717\ttotal: 357ms\tremaining: 223ms\n",
      "615:\tlearn: 0.0153025\ttotal: 357ms\tremaining: 223ms\n",
      "616:\tlearn: 0.0152698\ttotal: 358ms\tremaining: 222ms\n",
      "617:\tlearn: 0.0152410\ttotal: 358ms\tremaining: 221ms\n",
      "618:\tlearn: 0.0152118\ttotal: 359ms\tremaining: 221ms\n",
      "619:\tlearn: 0.0151443\ttotal: 359ms\tremaining: 220ms\n",
      "620:\tlearn: 0.0151132\ttotal: 360ms\tremaining: 220ms\n",
      "621:\tlearn: 0.0150471\ttotal: 360ms\tremaining: 219ms\n",
      "622:\tlearn: 0.0150168\ttotal: 361ms\tremaining: 218ms\n",
      "623:\tlearn: 0.0150028\ttotal: 361ms\tremaining: 218ms\n",
      "624:\tlearn: 0.0149453\ttotal: 362ms\tremaining: 217ms\n",
      "625:\tlearn: 0.0149181\ttotal: 362ms\tremaining: 216ms\n",
      "626:\tlearn: 0.0149043\ttotal: 363ms\tremaining: 216ms\n",
      "627:\tlearn: 0.0148401\ttotal: 363ms\tremaining: 215ms\n",
      "628:\tlearn: 0.0148113\ttotal: 364ms\tremaining: 214ms\n",
      "629:\tlearn: 0.0147691\ttotal: 364ms\tremaining: 214ms\n",
      "630:\tlearn: 0.0146831\ttotal: 365ms\tremaining: 213ms\n",
      "631:\tlearn: 0.0146276\ttotal: 365ms\tremaining: 213ms\n",
      "632:\tlearn: 0.0146018\ttotal: 366ms\tremaining: 212ms\n",
      "633:\tlearn: 0.0145304\ttotal: 366ms\tremaining: 211ms\n",
      "634:\tlearn: 0.0145072\ttotal: 367ms\tremaining: 211ms\n",
      "635:\tlearn: 0.0144806\ttotal: 367ms\tremaining: 210ms\n",
      "636:\tlearn: 0.0144006\ttotal: 368ms\tremaining: 209ms\n",
      "637:\tlearn: 0.0143875\ttotal: 368ms\tremaining: 209ms\n",
      "638:\tlearn: 0.0143112\ttotal: 369ms\tremaining: 208ms\n",
      "639:\tlearn: 0.0142658\ttotal: 369ms\tremaining: 208ms\n",
      "640:\tlearn: 0.0142260\ttotal: 370ms\tremaining: 207ms\n",
      "641:\tlearn: 0.0141689\ttotal: 370ms\tremaining: 206ms\n",
      "642:\tlearn: 0.0141328\ttotal: 370ms\tremaining: 206ms\n",
      "643:\tlearn: 0.0140548\ttotal: 371ms\tremaining: 205ms\n",
      "644:\tlearn: 0.0139990\ttotal: 372ms\tremaining: 204ms\n",
      "645:\tlearn: 0.0139638\ttotal: 372ms\tremaining: 204ms\n",
      "646:\tlearn: 0.0139291\ttotal: 373ms\tremaining: 203ms\n",
      "647:\tlearn: 0.0138500\ttotal: 373ms\tremaining: 203ms\n",
      "648:\tlearn: 0.0138161\ttotal: 373ms\tremaining: 202ms\n",
      "649:\tlearn: 0.0137827\ttotal: 374ms\tremaining: 201ms\n",
      "650:\tlearn: 0.0137380\ttotal: 374ms\tremaining: 201ms\n",
      "651:\tlearn: 0.0136941\ttotal: 375ms\tremaining: 200ms\n",
      "652:\tlearn: 0.0136244\ttotal: 375ms\tremaining: 199ms\n",
      "653:\tlearn: 0.0135485\ttotal: 376ms\tremaining: 199ms\n",
      "654:\tlearn: 0.0134994\ttotal: 376ms\tremaining: 198ms\n",
      "655:\tlearn: 0.0134756\ttotal: 377ms\tremaining: 197ms\n",
      "656:\tlearn: 0.0134327\ttotal: 377ms\tremaining: 197ms\n",
      "657:\tlearn: 0.0134095\ttotal: 377ms\tremaining: 196ms\n",
      "658:\tlearn: 0.0133420\ttotal: 378ms\tremaining: 196ms\n",
      "659:\tlearn: 0.0133002\ttotal: 378ms\tremaining: 195ms\n",
      "660:\tlearn: 0.0132688\ttotal: 379ms\tremaining: 194ms\n",
      "661:\tlearn: 0.0132030\ttotal: 379ms\tremaining: 194ms\n",
      "662:\tlearn: 0.0131324\ttotal: 380ms\tremaining: 193ms\n",
      "663:\tlearn: 0.0130607\ttotal: 380ms\tremaining: 193ms\n",
      "664:\tlearn: 0.0130135\ttotal: 381ms\tremaining: 192ms\n",
      "665:\tlearn: 0.0129735\ttotal: 382ms\tremaining: 191ms\n",
      "666:\tlearn: 0.0129203\ttotal: 382ms\tremaining: 191ms\n",
      "667:\tlearn: 0.0128524\ttotal: 383ms\tremaining: 190ms\n",
      "668:\tlearn: 0.0128032\ttotal: 383ms\tremaining: 190ms\n",
      "669:\tlearn: 0.0127346\ttotal: 384ms\tremaining: 189ms\n",
      "670:\tlearn: 0.0126682\ttotal: 384ms\tremaining: 188ms\n",
      "671:\tlearn: 0.0126299\ttotal: 384ms\tremaining: 188ms\n",
      "672:\tlearn: 0.0125839\ttotal: 385ms\tremaining: 187ms\n",
      "673:\tlearn: 0.0125331\ttotal: 385ms\tremaining: 186ms\n",
      "674:\tlearn: 0.0124879\ttotal: 386ms\tremaining: 186ms\n",
      "675:\tlearn: 0.0124591\ttotal: 386ms\tremaining: 185ms\n",
      "676:\tlearn: 0.0123948\ttotal: 387ms\tremaining: 185ms\n",
      "677:\tlearn: 0.0123508\ttotal: 387ms\tremaining: 184ms\n",
      "678:\tlearn: 0.0123339\ttotal: 388ms\tremaining: 183ms\n",
      "679:\tlearn: 0.0122971\ttotal: 388ms\tremaining: 183ms\n",
      "680:\tlearn: 0.0122519\ttotal: 389ms\tremaining: 182ms\n",
      "681:\tlearn: 0.0122241\ttotal: 389ms\tremaining: 181ms\n",
      "682:\tlearn: 0.0121967\ttotal: 390ms\tremaining: 181ms\n",
      "683:\tlearn: 0.0121698\ttotal: 390ms\tremaining: 180ms\n",
      "684:\tlearn: 0.0120987\ttotal: 390ms\tremaining: 180ms\n",
      "685:\tlearn: 0.0120444\ttotal: 391ms\tremaining: 179ms\n",
      "686:\tlearn: 0.0119833\ttotal: 391ms\tremaining: 178ms\n",
      "687:\tlearn: 0.0119307\ttotal: 392ms\tremaining: 178ms\n",
      "688:\tlearn: 0.0118794\ttotal: 392ms\tremaining: 177ms\n",
      "689:\tlearn: 0.0118180\ttotal: 393ms\tremaining: 176ms\n",
      "690:\tlearn: 0.0117644\ttotal: 393ms\tremaining: 176ms\n",
      "691:\tlearn: 0.0117294\ttotal: 394ms\tremaining: 175ms\n",
      "692:\tlearn: 0.0116865\ttotal: 394ms\tremaining: 175ms\n",
      "693:\tlearn: 0.0116219\ttotal: 394ms\tremaining: 174ms\n",
      "694:\tlearn: 0.0115729\ttotal: 395ms\tremaining: 173ms\n",
      "695:\tlearn: 0.0115111\ttotal: 395ms\tremaining: 173ms\n",
      "696:\tlearn: 0.0114527\ttotal: 396ms\tremaining: 172ms\n",
      "697:\tlearn: 0.0113955\ttotal: 396ms\tremaining: 171ms\n",
      "698:\tlearn: 0.0113387\ttotal: 397ms\tremaining: 171ms\n",
      "699:\tlearn: 0.0113172\ttotal: 397ms\tremaining: 170ms\n",
      "700:\tlearn: 0.0112841\ttotal: 397ms\tremaining: 169ms\n",
      "701:\tlearn: 0.0112333\ttotal: 398ms\tremaining: 169ms\n",
      "702:\tlearn: 0.0111919\ttotal: 398ms\tremaining: 168ms\n",
      "703:\tlearn: 0.0111600\ttotal: 399ms\tremaining: 168ms\n",
      "704:\tlearn: 0.0111192\ttotal: 399ms\tremaining: 167ms\n",
      "705:\tlearn: 0.0110880\ttotal: 400ms\tremaining: 166ms\n",
      "706:\tlearn: 0.0110479\ttotal: 400ms\tremaining: 166ms\n",
      "707:\tlearn: 0.0109905\ttotal: 401ms\tremaining: 165ms\n",
      "708:\tlearn: 0.0109506\ttotal: 401ms\tremaining: 165ms\n",
      "709:\tlearn: 0.0109205\ttotal: 402ms\tremaining: 164ms\n",
      "710:\tlearn: 0.0108723\ttotal: 402ms\tremaining: 163ms\n",
      "711:\tlearn: 0.0108488\ttotal: 403ms\tremaining: 163ms\n",
      "712:\tlearn: 0.0108257\ttotal: 403ms\tremaining: 162ms\n",
      "713:\tlearn: 0.0107787\ttotal: 404ms\tremaining: 162ms\n",
      "714:\tlearn: 0.0107406\ttotal: 404ms\tremaining: 161ms\n",
      "715:\tlearn: 0.0107181\ttotal: 405ms\tremaining: 161ms\n",
      "716:\tlearn: 0.0106808\ttotal: 405ms\tremaining: 160ms\n",
      "717:\tlearn: 0.0106297\ttotal: 406ms\tremaining: 159ms\n",
      "718:\tlearn: 0.0105862\ttotal: 406ms\tremaining: 159ms\n",
      "719:\tlearn: 0.0105278\ttotal: 407ms\tremaining: 158ms\n",
      "720:\tlearn: 0.0104855\ttotal: 407ms\tremaining: 158ms\n",
      "721:\tlearn: 0.0104285\ttotal: 408ms\tremaining: 157ms\n",
      "722:\tlearn: 0.0103749\ttotal: 408ms\tremaining: 156ms\n",
      "723:\tlearn: 0.0103387\ttotal: 409ms\tremaining: 156ms\n",
      "724:\tlearn: 0.0102979\ttotal: 409ms\tremaining: 155ms\n",
      "725:\tlearn: 0.0102428\ttotal: 410ms\tremaining: 155ms\n",
      "726:\tlearn: 0.0102031\ttotal: 411ms\tremaining: 154ms\n",
      "727:\tlearn: 0.0101390\ttotal: 411ms\tremaining: 154ms\n",
      "728:\tlearn: 0.0101110\ttotal: 412ms\tremaining: 153ms\n",
      "729:\tlearn: 0.0100698\ttotal: 413ms\tremaining: 153ms\n",
      "730:\tlearn: 0.0100075\ttotal: 413ms\tremaining: 152ms\n",
      "731:\tlearn: 0.0099674\ttotal: 414ms\tremaining: 151ms\n",
      "732:\tlearn: 0.0099181\ttotal: 414ms\tremaining: 151ms\n",
      "733:\tlearn: 0.0099047\ttotal: 415ms\tremaining: 150ms\n",
      "734:\tlearn: 0.0098436\ttotal: 415ms\tremaining: 150ms\n",
      "735:\tlearn: 0.0097941\ttotal: 416ms\tremaining: 149ms\n",
      "736:\tlearn: 0.0097459\ttotal: 416ms\tremaining: 149ms\n",
      "737:\tlearn: 0.0097115\ttotal: 417ms\tremaining: 148ms\n",
      "738:\tlearn: 0.0096918\ttotal: 417ms\tremaining: 147ms\n",
      "739:\tlearn: 0.0096335\ttotal: 418ms\tremaining: 147ms\n",
      "740:\tlearn: 0.0095965\ttotal: 418ms\tremaining: 146ms\n",
      "741:\tlearn: 0.0095779\ttotal: 419ms\tremaining: 146ms\n",
      "742:\tlearn: 0.0095593\ttotal: 419ms\tremaining: 145ms\n",
      "743:\tlearn: 0.0095410\ttotal: 419ms\tremaining: 144ms\n",
      "744:\tlearn: 0.0095230\ttotal: 420ms\tremaining: 144ms\n",
      "745:\tlearn: 0.0094665\ttotal: 420ms\tremaining: 143ms\n",
      "746:\tlearn: 0.0094159\ttotal: 421ms\tremaining: 142ms\n",
      "747:\tlearn: 0.0093610\ttotal: 421ms\tremaining: 142ms\n",
      "748:\tlearn: 0.0093140\ttotal: 422ms\tremaining: 141ms\n",
      "749:\tlearn: 0.0092678\ttotal: 422ms\tremaining: 141ms\n",
      "750:\tlearn: 0.0092213\ttotal: 422ms\tremaining: 140ms\n",
      "751:\tlearn: 0.0092040\ttotal: 423ms\tremaining: 139ms\n",
      "752:\tlearn: 0.0091870\ttotal: 423ms\tremaining: 139ms\n",
      "753:\tlearn: 0.0091515\ttotal: 424ms\tremaining: 138ms\n",
      "754:\tlearn: 0.0091323\ttotal: 424ms\tremaining: 138ms\n",
      "755:\tlearn: 0.0090976\ttotal: 425ms\tremaining: 137ms\n",
      "756:\tlearn: 0.0090700\ttotal: 425ms\tremaining: 137ms\n",
      "757:\tlearn: 0.0090259\ttotal: 426ms\tremaining: 136ms\n",
      "758:\tlearn: 0.0090098\ttotal: 426ms\tremaining: 135ms\n",
      "759:\tlearn: 0.0089940\ttotal: 427ms\tremaining: 135ms\n",
      "760:\tlearn: 0.0089606\ttotal: 427ms\tremaining: 134ms\n",
      "761:\tlearn: 0.0089128\ttotal: 428ms\tremaining: 134ms\n",
      "762:\tlearn: 0.0088813\ttotal: 428ms\tremaining: 133ms\n",
      "763:\tlearn: 0.0088660\ttotal: 429ms\tremaining: 132ms\n",
      "764:\tlearn: 0.0088330\ttotal: 429ms\tremaining: 132ms\n",
      "765:\tlearn: 0.0088229\ttotal: 430ms\tremaining: 131ms\n",
      "766:\tlearn: 0.0087911\ttotal: 430ms\tremaining: 131ms\n",
      "767:\tlearn: 0.0087445\ttotal: 431ms\tremaining: 130ms\n",
      "768:\tlearn: 0.0087128\ttotal: 431ms\tremaining: 130ms\n",
      "769:\tlearn: 0.0086673\ttotal: 432ms\tremaining: 129ms\n",
      "770:\tlearn: 0.0086407\ttotal: 432ms\tremaining: 128ms\n",
      "771:\tlearn: 0.0085919\ttotal: 432ms\tremaining: 128ms\n",
      "772:\tlearn: 0.0085505\ttotal: 433ms\tremaining: 127ms\n",
      "773:\tlearn: 0.0085200\ttotal: 433ms\tremaining: 127ms\n",
      "774:\tlearn: 0.0084904\ttotal: 434ms\tremaining: 126ms\n",
      "775:\tlearn: 0.0084532\ttotal: 434ms\tremaining: 125ms\n",
      "776:\tlearn: 0.0084331\ttotal: 435ms\tremaining: 125ms\n",
      "777:\tlearn: 0.0084076\ttotal: 435ms\tremaining: 124ms\n",
      "778:\tlearn: 0.0083692\ttotal: 436ms\tremaining: 124ms\n",
      "779:\tlearn: 0.0083226\ttotal: 436ms\tremaining: 123ms\n",
      "780:\tlearn: 0.0082936\ttotal: 437ms\tremaining: 122ms\n",
      "781:\tlearn: 0.0082653\ttotal: 437ms\tremaining: 122ms\n",
      "782:\tlearn: 0.0082297\ttotal: 437ms\tremaining: 121ms\n",
      "783:\tlearn: 0.0082177\ttotal: 438ms\tremaining: 121ms\n",
      "784:\tlearn: 0.0082060\ttotal: 438ms\tremaining: 120ms\n",
      "785:\tlearn: 0.0081944\ttotal: 439ms\tremaining: 119ms\n",
      "786:\tlearn: 0.0081831\ttotal: 439ms\tremaining: 119ms\n",
      "787:\tlearn: 0.0081639\ttotal: 440ms\tremaining: 118ms\n",
      "788:\tlearn: 0.0081527\ttotal: 440ms\tremaining: 118ms\n",
      "789:\tlearn: 0.0081246\ttotal: 441ms\tremaining: 117ms\n",
      "790:\tlearn: 0.0080943\ttotal: 441ms\tremaining: 117ms\n",
      "791:\tlearn: 0.0080828\ttotal: 441ms\tremaining: 116ms\n",
      "792:\tlearn: 0.0080486\ttotal: 442ms\tremaining: 115ms\n",
      "793:\tlearn: 0.0080299\ttotal: 442ms\tremaining: 115ms\n",
      "794:\tlearn: 0.0079959\ttotal: 443ms\tremaining: 114ms\n",
      "795:\tlearn: 0.0079625\ttotal: 443ms\tremaining: 114ms\n",
      "796:\tlearn: 0.0079543\ttotal: 444ms\tremaining: 113ms\n",
      "797:\tlearn: 0.0079272\ttotal: 444ms\tremaining: 112ms\n",
      "798:\tlearn: 0.0078972\ttotal: 445ms\tremaining: 112ms\n",
      "799:\tlearn: 0.0078891\ttotal: 445ms\tremaining: 111ms\n",
      "800:\tlearn: 0.0078626\ttotal: 446ms\tremaining: 111ms\n",
      "801:\tlearn: 0.0078332\ttotal: 446ms\tremaining: 110ms\n",
      "802:\tlearn: 0.0078225\ttotal: 447ms\tremaining: 110ms\n",
      "803:\tlearn: 0.0077902\ttotal: 448ms\tremaining: 109ms\n",
      "804:\tlearn: 0.0077859\ttotal: 448ms\tremaining: 109ms\n",
      "805:\tlearn: 0.0077680\ttotal: 449ms\tremaining: 108ms\n",
      "806:\tlearn: 0.0077363\ttotal: 449ms\tremaining: 107ms\n",
      "807:\tlearn: 0.0077143\ttotal: 450ms\tremaining: 107ms\n",
      "808:\tlearn: 0.0076811\ttotal: 450ms\tremaining: 106ms\n",
      "809:\tlearn: 0.0076769\ttotal: 451ms\tremaining: 106ms\n",
      "810:\tlearn: 0.0076731\ttotal: 451ms\tremaining: 105ms\n",
      "811:\tlearn: 0.0076469\ttotal: 451ms\tremaining: 105ms\n",
      "812:\tlearn: 0.0076135\ttotal: 452ms\tremaining: 104ms\n",
      "813:\tlearn: 0.0075882\ttotal: 453ms\tremaining: 103ms\n",
      "814:\tlearn: 0.0075736\ttotal: 453ms\tremaining: 103ms\n",
      "815:\tlearn: 0.0075461\ttotal: 454ms\tremaining: 102ms\n",
      "816:\tlearn: 0.0075319\ttotal: 454ms\tremaining: 102ms\n",
      "817:\tlearn: 0.0075177\ttotal: 455ms\tremaining: 101ms\n",
      "818:\tlearn: 0.0075038\ttotal: 455ms\tremaining: 101ms\n",
      "819:\tlearn: 0.0074899\ttotal: 456ms\tremaining: 100ms\n",
      "820:\tlearn: 0.0074569\ttotal: 456ms\tremaining: 99.5ms\n",
      "821:\tlearn: 0.0074394\ttotal: 457ms\tremaining: 98.9ms\n",
      "822:\tlearn: 0.0074095\ttotal: 458ms\tremaining: 98.4ms\n",
      "823:\tlearn: 0.0073803\ttotal: 458ms\tremaining: 97.8ms\n",
      "824:\tlearn: 0.0073669\ttotal: 458ms\tremaining: 97.2ms\n",
      "825:\tlearn: 0.0073352\ttotal: 460ms\tremaining: 96.8ms\n",
      "826:\tlearn: 0.0073107\ttotal: 460ms\tremaining: 96.2ms\n",
      "827:\tlearn: 0.0072973\ttotal: 461ms\tremaining: 95.7ms\n",
      "828:\tlearn: 0.0072843\ttotal: 461ms\tremaining: 95.1ms\n",
      "829:\tlearn: 0.0072533\ttotal: 462ms\tremaining: 94.6ms\n",
      "830:\tlearn: 0.0072402\ttotal: 462ms\tremaining: 94ms\n",
      "831:\tlearn: 0.0072275\ttotal: 463ms\tremaining: 93.4ms\n",
      "832:\tlearn: 0.0072035\ttotal: 463ms\tremaining: 92.8ms\n",
      "833:\tlearn: 0.0071721\ttotal: 463ms\tremaining: 92.2ms\n",
      "834:\tlearn: 0.0071594\ttotal: 464ms\tremaining: 91.7ms\n",
      "835:\tlearn: 0.0071470\ttotal: 464ms\tremaining: 91.1ms\n",
      "836:\tlearn: 0.0071165\ttotal: 465ms\tremaining: 90.5ms\n"
     ]
    },
    {
     "name": "stdout",
     "output_type": "stream",
     "text": [
      "837:\tlearn: 0.0070860\ttotal: 465ms\tremaining: 90ms\n",
      "838:\tlearn: 0.0070740\ttotal: 466ms\tremaining: 89.4ms\n",
      "839:\tlearn: 0.0070442\ttotal: 466ms\tremaining: 88.9ms\n",
      "840:\tlearn: 0.0070334\ttotal: 467ms\tremaining: 88.3ms\n",
      "841:\tlearn: 0.0070062\ttotal: 467ms\tremaining: 87.7ms\n",
      "842:\tlearn: 0.0069957\ttotal: 468ms\tremaining: 87.1ms\n",
      "843:\tlearn: 0.0069853\ttotal: 468ms\tremaining: 86.6ms\n",
      "844:\tlearn: 0.0069585\ttotal: 469ms\tremaining: 86ms\n",
      "845:\tlearn: 0.0069472\ttotal: 469ms\tremaining: 85.4ms\n",
      "846:\tlearn: 0.0069370\ttotal: 470ms\tremaining: 84.8ms\n",
      "847:\tlearn: 0.0069108\ttotal: 470ms\tremaining: 84.3ms\n",
      "848:\tlearn: 0.0068998\ttotal: 471ms\tremaining: 83.7ms\n",
      "849:\tlearn: 0.0068898\ttotal: 471ms\tremaining: 83.2ms\n",
      "850:\tlearn: 0.0068643\ttotal: 472ms\tremaining: 82.6ms\n",
      "851:\tlearn: 0.0068259\ttotal: 472ms\tremaining: 82.1ms\n",
      "852:\tlearn: 0.0068013\ttotal: 473ms\tremaining: 81.5ms\n",
      "853:\tlearn: 0.0067873\ttotal: 473ms\tremaining: 80.9ms\n",
      "854:\tlearn: 0.0067502\ttotal: 474ms\tremaining: 80.4ms\n",
      "855:\tlearn: 0.0067217\ttotal: 475ms\tremaining: 79.8ms\n",
      "856:\tlearn: 0.0066856\ttotal: 475ms\tremaining: 79.3ms\n",
      "857:\tlearn: 0.0066504\ttotal: 476ms\tremaining: 78.7ms\n",
      "858:\tlearn: 0.0066173\ttotal: 476ms\tremaining: 78.2ms\n",
      "859:\tlearn: 0.0065831\ttotal: 477ms\tremaining: 77.6ms\n",
      "860:\tlearn: 0.0065477\ttotal: 478ms\tremaining: 77.1ms\n",
      "861:\tlearn: 0.0065143\ttotal: 478ms\tremaining: 76.5ms\n",
      "862:\tlearn: 0.0064874\ttotal: 478ms\tremaining: 75.9ms\n",
      "863:\tlearn: 0.0064546\ttotal: 479ms\tremaining: 75.4ms\n",
      "864:\tlearn: 0.0064284\ttotal: 480ms\tremaining: 74.9ms\n",
      "865:\tlearn: 0.0063962\ttotal: 480ms\tremaining: 74.3ms\n",
      "866:\tlearn: 0.0063779\ttotal: 481ms\tremaining: 73.7ms\n",
      "867:\tlearn: 0.0063516\ttotal: 481ms\tremaining: 73.2ms\n",
      "868:\tlearn: 0.0063288\ttotal: 482ms\tremaining: 72.6ms\n",
      "869:\tlearn: 0.0063109\ttotal: 482ms\tremaining: 72ms\n",
      "870:\tlearn: 0.0062800\ttotal: 483ms\tremaining: 71.5ms\n",
      "871:\tlearn: 0.0062552\ttotal: 483ms\tremaining: 70.9ms\n",
      "872:\tlearn: 0.0062241\ttotal: 483ms\tremaining: 70.3ms\n",
      "873:\tlearn: 0.0061993\ttotal: 484ms\tremaining: 69.8ms\n",
      "874:\tlearn: 0.0061688\ttotal: 484ms\tremaining: 69.2ms\n",
      "875:\tlearn: 0.0061516\ttotal: 485ms\tremaining: 68.6ms\n",
      "876:\tlearn: 0.0061327\ttotal: 485ms\tremaining: 68.1ms\n",
      "877:\tlearn: 0.0061065\ttotal: 486ms\tremaining: 67.5ms\n",
      "878:\tlearn: 0.0060962\ttotal: 486ms\tremaining: 67ms\n",
      "879:\tlearn: 0.0060726\ttotal: 487ms\tremaining: 66.4ms\n",
      "880:\tlearn: 0.0060542\ttotal: 487ms\tremaining: 65.8ms\n",
      "881:\tlearn: 0.0060312\ttotal: 488ms\tremaining: 65.3ms\n",
      "882:\tlearn: 0.0060132\ttotal: 488ms\tremaining: 64.7ms\n",
      "883:\tlearn: 0.0059954\ttotal: 489ms\tremaining: 64.2ms\n",
      "884:\tlearn: 0.0059806\ttotal: 489ms\tremaining: 63.6ms\n",
      "885:\tlearn: 0.0059594\ttotal: 490ms\tremaining: 63.1ms\n",
      "886:\tlearn: 0.0059521\ttotal: 491ms\tremaining: 62.5ms\n",
      "887:\tlearn: 0.0059368\ttotal: 491ms\tremaining: 61.9ms\n",
      "888:\tlearn: 0.0059295\ttotal: 492ms\tremaining: 61.4ms\n",
      "889:\tlearn: 0.0059066\ttotal: 492ms\tremaining: 60.8ms\n",
      "890:\tlearn: 0.0058845\ttotal: 492ms\tremaining: 60.2ms\n",
      "891:\tlearn: 0.0058622\ttotal: 493ms\tremaining: 59.7ms\n",
      "892:\tlearn: 0.0058460\ttotal: 493ms\tremaining: 59.1ms\n",
      "893:\tlearn: 0.0058291\ttotal: 494ms\tremaining: 58.5ms\n",
      "894:\tlearn: 0.0058080\ttotal: 494ms\tremaining: 58ms\n",
      "895:\tlearn: 0.0058010\ttotal: 495ms\tremaining: 57.4ms\n",
      "896:\tlearn: 0.0057799\ttotal: 495ms\tremaining: 56.9ms\n",
      "897:\tlearn: 0.0057535\ttotal: 496ms\tremaining: 56.3ms\n",
      "898:\tlearn: 0.0057324\ttotal: 496ms\tremaining: 55.7ms\n",
      "899:\tlearn: 0.0057255\ttotal: 496ms\tremaining: 55.2ms\n",
      "900:\tlearn: 0.0057042\ttotal: 497ms\tremaining: 54.6ms\n",
      "901:\tlearn: 0.0056836\ttotal: 497ms\tremaining: 54ms\n",
      "902:\tlearn: 0.0056741\ttotal: 498ms\tremaining: 53.5ms\n",
      "903:\tlearn: 0.0056673\ttotal: 498ms\tremaining: 52.9ms\n",
      "904:\tlearn: 0.0056607\ttotal: 499ms\tremaining: 52.3ms\n",
      "905:\tlearn: 0.0056541\ttotal: 499ms\tremaining: 51.8ms\n",
      "906:\tlearn: 0.0056321\ttotal: 500ms\tremaining: 51.2ms\n",
      "907:\tlearn: 0.0056115\ttotal: 500ms\tremaining: 50.7ms\n",
      "908:\tlearn: 0.0055961\ttotal: 501ms\tremaining: 50.1ms\n"
     ]
    },
    {
     "name": "stdout",
     "output_type": "stream",
     "text": [
      "909:\tlearn: 0.0055869\ttotal: 502ms\tremaining: 49.6ms\n",
      "910:\tlearn: 0.0055717\ttotal: 502ms\tremaining: 49.1ms\n",
      "911:\tlearn: 0.0055494\ttotal: 503ms\tremaining: 48.5ms\n",
      "912:\tlearn: 0.0055279\ttotal: 503ms\tremaining: 47.9ms\n",
      "913:\tlearn: 0.0055084\ttotal: 504ms\tremaining: 47.4ms\n",
      "914:\tlearn: 0.0054994\ttotal: 504ms\tremaining: 46.8ms\n",
      "915:\tlearn: 0.0054930\ttotal: 505ms\tremaining: 46.3ms\n",
      "916:\tlearn: 0.0054720\ttotal: 505ms\tremaining: 45.7ms\n",
      "917:\tlearn: 0.0054631\ttotal: 506ms\tremaining: 45.2ms\n",
      "918:\tlearn: 0.0054569\ttotal: 506ms\tremaining: 44.6ms\n",
      "919:\tlearn: 0.0054482\ttotal: 507ms\tremaining: 44.1ms\n",
      "920:\tlearn: 0.0054420\ttotal: 507ms\tremaining: 43.5ms\n",
      "921:\tlearn: 0.0054359\ttotal: 508ms\tremaining: 42.9ms\n",
      "922:\tlearn: 0.0054154\ttotal: 508ms\tremaining: 42.4ms\n",
      "923:\tlearn: 0.0053736\ttotal: 508ms\tremaining: 41.8ms\n",
      "924:\tlearn: 0.0053651\ttotal: 509ms\tremaining: 41.3ms\n",
      "925:\tlearn: 0.0053591\ttotal: 509ms\tremaining: 40.7ms\n",
      "926:\tlearn: 0.0053402\ttotal: 510ms\tremaining: 40.1ms\n",
      "927:\tlearn: 0.0052996\ttotal: 510ms\tremaining: 39.6ms\n",
      "928:\tlearn: 0.0052808\ttotal: 511ms\tremaining: 39ms\n",
      "929:\tlearn: 0.0052736\ttotal: 511ms\tremaining: 38.5ms\n",
      "930:\tlearn: 0.0052557\ttotal: 512ms\tremaining: 37.9ms\n",
      "931:\tlearn: 0.0052475\ttotal: 512ms\tremaining: 37.4ms\n",
      "932:\tlearn: 0.0052418\ttotal: 513ms\tremaining: 36.8ms\n",
      "933:\tlearn: 0.0052361\ttotal: 513ms\tremaining: 36.3ms\n",
      "934:\tlearn: 0.0052162\ttotal: 514ms\tremaining: 35.7ms\n",
      "935:\tlearn: 0.0051771\ttotal: 514ms\tremaining: 35.1ms\n",
      "936:\tlearn: 0.0051702\ttotal: 514ms\tremaining: 34.6ms\n",
      "937:\tlearn: 0.0051646\ttotal: 515ms\tremaining: 34ms\n",
      "938:\tlearn: 0.0051447\ttotal: 515ms\tremaining: 33.5ms\n",
      "939:\tlearn: 0.0051068\ttotal: 516ms\tremaining: 32.9ms\n",
      "940:\tlearn: 0.0050898\ttotal: 516ms\tremaining: 32.4ms\n",
      "941:\tlearn: 0.0050817\ttotal: 517ms\tremaining: 31.8ms\n",
      "942:\tlearn: 0.0050627\ttotal: 517ms\tremaining: 31.3ms\n",
      "943:\tlearn: 0.0050550\ttotal: 518ms\tremaining: 30.7ms\n",
      "944:\tlearn: 0.0050471\ttotal: 518ms\tremaining: 30.2ms\n",
      "945:\tlearn: 0.0050417\ttotal: 519ms\tremaining: 29.6ms\n",
      "946:\tlearn: 0.0050052\ttotal: 519ms\tremaining: 29.1ms\n",
      "947:\tlearn: 0.0049888\ttotal: 520ms\tremaining: 28.5ms\n",
      "948:\tlearn: 0.0049712\ttotal: 521ms\tremaining: 28ms\n",
      "949:\tlearn: 0.0049360\ttotal: 521ms\tremaining: 27.4ms\n",
      "950:\tlearn: 0.0049181\ttotal: 522ms\tremaining: 26.9ms\n",
      "951:\tlearn: 0.0049025\ttotal: 522ms\tremaining: 26.3ms\n",
      "952:\tlearn: 0.0048950\ttotal: 523ms\tremaining: 25.8ms\n",
      "953:\tlearn: 0.0048898\ttotal: 523ms\tremaining: 25.2ms\n",
      "954:\tlearn: 0.0048879\ttotal: 524ms\tremaining: 24.7ms\n",
      "955:\tlearn: 0.0048805\ttotal: 524ms\tremaining: 24.1ms\n",
      "956:\tlearn: 0.0048754\ttotal: 525ms\tremaining: 23.6ms\n",
      "957:\tlearn: 0.0048563\ttotal: 525ms\tremaining: 23ms\n",
      "958:\tlearn: 0.0048491\ttotal: 526ms\tremaining: 22.5ms\n",
      "959:\tlearn: 0.0048418\ttotal: 526ms\tremaining: 21.9ms\n",
      "960:\tlearn: 0.0048346\ttotal: 527ms\tremaining: 21.4ms\n",
      "961:\tlearn: 0.0048160\ttotal: 527ms\tremaining: 20.8ms\n",
      "962:\tlearn: 0.0047824\ttotal: 528ms\tremaining: 20.3ms\n",
      "963:\tlearn: 0.0047796\ttotal: 529ms\tremaining: 19.7ms\n",
      "964:\tlearn: 0.0047768\ttotal: 529ms\tremaining: 19.2ms\n",
      "965:\tlearn: 0.0047741\ttotal: 530ms\tremaining: 18.6ms\n",
      "966:\tlearn: 0.0047412\ttotal: 530ms\tremaining: 18.1ms\n",
      "967:\tlearn: 0.0047258\ttotal: 531ms\tremaining: 17.6ms\n",
      "968:\tlearn: 0.0047091\ttotal: 532ms\tremaining: 17ms\n",
      "969:\tlearn: 0.0046940\ttotal: 532ms\tremaining: 16.5ms\n",
      "970:\tlearn: 0.0046780\ttotal: 533ms\tremaining: 15.9ms\n",
      "971:\tlearn: 0.0046633\ttotal: 534ms\tremaining: 15.4ms\n",
      "972:\tlearn: 0.0046615\ttotal: 534ms\tremaining: 14.8ms\n",
      "973:\tlearn: 0.0046462\ttotal: 535ms\tremaining: 14.3ms\n",
      "974:\tlearn: 0.0046326\ttotal: 535ms\tremaining: 13.7ms\n",
      "975:\tlearn: 0.0046186\ttotal: 536ms\tremaining: 13.2ms\n",
      "976:\tlearn: 0.0046039\ttotal: 536ms\tremaining: 12.6ms\n",
      "977:\tlearn: 0.0046021\ttotal: 537ms\tremaining: 12.1ms\n",
      "978:\tlearn: 0.0045934\ttotal: 537ms\tremaining: 11.5ms\n",
      "979:\tlearn: 0.0045804\ttotal: 538ms\tremaining: 11ms\n",
      "980:\tlearn: 0.0045659\ttotal: 538ms\tremaining: 10.4ms\n",
      "981:\tlearn: 0.0045559\ttotal: 539ms\tremaining: 9.88ms\n",
      "982:\tlearn: 0.0045399\ttotal: 539ms\tremaining: 9.32ms\n",
      "983:\tlearn: 0.0045252\ttotal: 540ms\tremaining: 8.77ms\n",
      "984:\tlearn: 0.0045169\ttotal: 540ms\tremaining: 8.22ms\n",
      "985:\tlearn: 0.0045083\ttotal: 540ms\tremaining: 7.67ms\n",
      "986:\tlearn: 0.0044957\ttotal: 541ms\tremaining: 7.12ms\n",
      "987:\tlearn: 0.0044813\ttotal: 541ms\tremaining: 6.58ms\n",
      "988:\tlearn: 0.0044767\ttotal: 542ms\tremaining: 6.03ms\n",
      "989:\tlearn: 0.0044689\ttotal: 542ms\tremaining: 5.48ms\n",
      "990:\tlearn: 0.0044606\ttotal: 543ms\tremaining: 4.93ms\n",
      "991:\tlearn: 0.0044482\ttotal: 544ms\tremaining: 4.38ms\n",
      "992:\tlearn: 0.0044385\ttotal: 544ms\tremaining: 3.83ms\n",
      "993:\tlearn: 0.0044251\ttotal: 545ms\tremaining: 3.29ms\n",
      "994:\tlearn: 0.0044169\ttotal: 545ms\tremaining: 2.74ms\n",
      "995:\tlearn: 0.0044116\ttotal: 546ms\tremaining: 2.19ms\n",
      "996:\tlearn: 0.0044022\ttotal: 546ms\tremaining: 1.64ms\n",
      "997:\tlearn: 0.0043857\ttotal: 547ms\tremaining: 1.1ms\n",
      "998:\tlearn: 0.0043777\ttotal: 548ms\tremaining: 548us\n",
      "999:\tlearn: 0.0043646\ttotal: 548ms\tremaining: 0us\n"
     ]
    },
    {
     "data": {
      "text/plain": [
       "<catboost.core.CatBoostRegressor at 0x7f97991ea070>"
      ]
     },
     "execution_count": 9,
     "metadata": {},
     "output_type": "execute_result"
    }
   ],
   "source": [
    "#Train the Model \n",
    "prior_model = ctb.CatBoostRegressor()\n",
    "prior_model.fit(X_train,Y_train)"
   ]
  },
  {
   "cell_type": "code",
   "execution_count": 10,
   "id": "af65dcda",
   "metadata": {
    "execution": {
     "iopub.execute_input": "2022-03-16T13:32:53.091767Z",
     "iopub.status.busy": "2022-03-16T13:32:53.091108Z",
     "iopub.status.idle": "2022-03-16T13:32:53.102001Z",
     "shell.execute_reply": "2022-03-16T13:32:53.102342Z"
    },
    "id": "af65dcda",
    "papermill": {
     "duration": 0.030136,
     "end_time": "2022-03-16T13:32:53.102498",
     "exception": false,
     "start_time": "2022-03-16T13:32:53.072362",
     "status": "completed"
    },
    "tags": []
   },
   "outputs": [
    {
     "data": {
      "application/scrapbook.scrap.json+json": {
       "data": 0.0874413117180488,
       "encoder": "json",
       "name": "Prior Model MSE",
       "version": 1
      }
     },
     "metadata": {
      "scrapbook": {
       "data": true,
       "display": false,
       "name": "Prior Model MSE"
      }
     },
     "output_type": "display_data"
    },
    {
     "data": {
      "application/scrapbook.scrap.json+json": {
       "data": 0.09893360202039467,
       "encoder": "json",
       "name": "ABC Pre-generator MSE",
       "version": 1
      }
     },
     "metadata": {
      "scrapbook": {
       "data": true,
       "display": false,
       "name": "ABC Pre-generator MSE"
      }
     },
     "output_type": "display_data"
    },
    {
     "data": {
      "application/scrapbook.scrap.json+json": {
       "data": 0.1480947906149753,
       "encoder": "json",
       "name": "Prior Model MSE",
       "version": 1
      }
     },
     "metadata": {
      "scrapbook": {
       "data": true,
       "display": false,
       "name": "Prior Model MSE"
      }
     },
     "output_type": "display_data"
    },
    {
     "data": {
      "application/scrapbook.scrap.json+json": {
       "data": 0.15993635862150662,
       "encoder": "json",
       "name": "ABC Pre-generator MSE",
       "version": 1
      }
     },
     "metadata": {
      "scrapbook": {
       "data": true,
       "display": false,
       "name": "ABC Pre-generator MSE"
      }
     },
     "output_type": "display_data"
    }
   ],
   "source": [
    "y_pred = prior_model.predict(X_test)\n",
    "y_abc = y_pred + np.random.normal(0,variance, y_pred.shape) + bias \n",
    "mse = mean_squared_error(y_pred,Y_test)\n",
    "sb.glue(\"Prior Model MSE\",mse)\n",
    "mse = mean_squared_error(y_abc,Y_test)\n",
    "sb.glue(\"ABC Pre-generator MSE\",mse)\n",
    "mae = mean_absolute_error(y_pred,Y_test)\n",
    "sb.glue(\"Prior Model MSE\",mae)\n",
    "mae = mean_absolute_error(y_abc,Y_test)\n",
    "sb.glue(\"ABC Pre-generator MSE\",mae)"
   ]
  },
  {
   "cell_type": "markdown",
   "id": "25609da2",
   "metadata": {
    "papermill": {
     "duration": 0.013792,
     "end_time": "2022-03-16T13:32:53.130576",
     "exception": false,
     "start_time": "2022-03-16T13:32:53.116784",
     "status": "completed"
    },
    "tags": []
   },
   "source": [
    "# ABC GAN Model"
   ]
  },
  {
   "cell_type": "code",
   "execution_count": 11,
   "id": "dfc3464d",
   "metadata": {
    "execution": {
     "iopub.execute_input": "2022-03-16T13:32:53.162296Z",
     "iopub.status.busy": "2022-03-16T13:32:53.161779Z",
     "iopub.status.idle": "2022-03-16T13:32:53.164789Z",
     "shell.execute_reply": "2022-03-16T13:32:53.165184Z"
    },
    "papermill": {
     "duration": 0.021007,
     "end_time": "2022-03-16T13:32:53.165329",
     "exception": false,
     "start_time": "2022-03-16T13:32:53.144322",
     "status": "completed"
    },
    "tags": []
   },
   "outputs": [],
   "source": [
    "gen = network.Generator(n_features+1).to(device)\n",
    "disc = network.Discriminator(n_features+1).to(device)\n",
    "\n",
    "criterion = torch.nn.BCELoss()\n",
    "gen_opt = torch.optim.Adam(gen.parameters(), lr=0.001, betas=(0.5, 0.999))\n",
    "disc_opt = torch.optim.Adam(disc.parameters(), lr=0.001, betas=(0.5, 0.999))"
   ]
  },
  {
   "cell_type": "code",
   "execution_count": 12,
   "id": "b75fdd85",
   "metadata": {
    "execution": {
     "iopub.execute_input": "2022-03-16T13:32:53.196830Z",
     "iopub.status.busy": "2022-03-16T13:32:53.196340Z",
     "iopub.status.idle": "2022-03-16T13:33:09.490258Z",
     "shell.execute_reply": "2022-03-16T13:33:09.490686Z"
    },
    "papermill": {
     "duration": 16.31131,
     "end_time": "2022-03-16T13:33:09.490879",
     "exception": false,
     "start_time": "2022-03-16T13:32:53.179569",
     "status": "completed"
    },
    "tags": []
   },
   "outputs": [
    {
     "data": {
      "image/png": "[encoded data removed]",
      "text/plain": [
       "<Figure size 432x288 with 1 Axes>"
      ]
     },
     "metadata": {
      "needs_background": "light"
     },
     "output_type": "display_data"
    },
    {
     "data": {
      "image/png": "[encoded data removed]",
      "text/plain": [
       "<Figure size 432x288 with 1 Axes>"
      ]
     },
     "metadata": {
      "needs_background": "light"
     },
     "output_type": "display_data"
    }
   ],
   "source": [
    "#Training the ABC_GAN \n",
    "ABC_train_test2.training_GAN(disc,gen,disc_opt,gen_opt,train_data,batch_size,n_epochs,criterion,prior_model,variance,bias,device)"
   ]
  },
  {
   "cell_type": "code",
   "execution_count": 13,
   "id": "1fa7c368",
   "metadata": {
    "execution": {
     "iopub.execute_input": "2022-03-16T13:33:09.518983Z",
     "iopub.status.busy": "2022-03-16T13:33:09.518581Z",
     "iopub.status.idle": "2022-03-16T13:33:09.705611Z",
     "shell.execute_reply": "2022-03-16T13:33:09.705939Z"
    },
    "papermill": {
     "duration": 0.201599,
     "end_time": "2022-03-16T13:33:09.706068",
     "exception": false,
     "start_time": "2022-03-16T13:33:09.504469",
     "status": "completed"
    },
    "tags": []
   },
   "outputs": [
    {
     "data": {
      "application/scrapbook.scrap.json+json": {
       "data": 0.030690839440806677,
       "encoder": "json",
       "name": "ABC-GAN Model 1 MSE",
       "version": 1
      }
     },
     "metadata": {
      "scrapbook": {
       "data": true,
       "display": false,
       "name": "ABC-GAN Model 1 MSE"
      }
     },
     "output_type": "display_data"
    },
    {
     "data": {
      "application/scrapbook.scrap.json+json": {
       "data": 0.0869974890165031,
       "encoder": "json",
       "name": "ABC-GAN Model 1 MAE",
       "version": 1
      }
     },
     "metadata": {
      "scrapbook": {
       "data": true,
       "display": false,
       "name": "ABC-GAN Model 1 MAE"
      }
     },
     "output_type": "display_data"
    },
    {
     "data": {
      "application/scrapbook.scrap.json+json": {
       "data": 1.7399497803300619,
       "encoder": "json",
       "name": "ABC-GAN Model 1 Manhattan Distance",
       "version": 1
      }
     },
     "metadata": {
      "scrapbook": {
       "data": true,
       "display": false,
       "name": "ABC-GAN Model 1 Manhattan Distance"
      }
     },
     "output_type": "display_data"
    },
    {
     "data": {
      "application/scrapbook.scrap.json+json": {
       "data": 0.7833549149932848,
       "encoder": "json",
       "name": "ABC-GAN Model 1 Euclidean distance",
       "version": 1
      }
     },
     "metadata": {
      "scrapbook": {
       "data": true,
       "display": false,
       "name": "ABC-GAN Model 1 Euclidean distance"
      }
     },
     "output_type": "display_data"
    },
    {
     "data": {
      "application/scrapbook.scrap.json+json": {
       "data": [
        [
         0.030822669876151548,
         0.03009135881536564,
         0.030588825540178482,
         0.03142003238440465,
         0.03165807535865265,
         0.031219844273829407,
         0.030327290775393777,
         0.031177602065234532,
         0.030727774173146993,
         0.02998797116605814,
         0.032292909752474966,
         0.031389835215779656,
         0.030432525937386573,
         0.03229771177154001,
         0.030448227895728215,
         0.03207442152767057,
         0.028738217791652393,
         0.03183877303919943,
         0.031941348427827275,
         0.030508842839044,
         0.02949939943571307,
         0.030334429290388237,
         0.03057674515170384,
         0.032202815209283586,
         0.03041727653381514,
         0.03071013717507549,
         0.031267004528135696,
         0.03173338147154654,
         0.03087879079768922,
         0.032887676186373255,
         0.030527206638502717,
         0.03139333205937818,
         0.030757674438255316,
         0.030841603263349164,
         0.03099451110547969,
         0.03091213764005779,
         0.030213103798128298,
         0.03033523606166405,
         0.03155280411747032,
         0.03022382311233656,
         0.03127257394609993,
         0.029813086664593487,
         0.029134669139159457,
         0.03075557044009991,
         0.030231914470345123,
         0.031489307016827756,
         0.028748468664859268,
         0.02999469648190945,
         0.028947495251248984,
         0.030776176018090358,
         0.02982913603936178,
         0.03081806914345518,
         0.031064148494576022,
         0.032179486943013515,
         0.03269728991546938,
         0.02968579942585865,
         0.030479855713793125,
         0.028513476861937607,
         0.029300122840331993,
         0.03177992618157076,
         0.029714074750514692,
         0.03027457299362273,
         0.030426517880458158,
         0.030962147194219573,
         0.02848333706967815,
         0.02925855635531387,
         0.029665595150050406,
         0.030134885174303412,
         0.03272363591194227,
         0.030523738983576982,
         0.029105546839269143,
         0.029962764883800286,
         0.02996893981019394,
         0.030736234478773123,
         0.02937791584235182,
         0.030227188989426494,
         0.030681114129910553,
         0.03249088579167012,
         0.030745497952771712,
         0.03134277344953405,
         0.031105548024710737,
         0.03138258267107048,
         0.03063964329083011,
         0.030866235394559304,
         0.031004147296155755,
         0.030986644490546795,
         0.02937938373586878,
         0.029993676798151236,
         0.028852340813981924,
         0.032901374840811196,
         0.03216483882609432,
         0.03193370889438106,
         0.02993742333464593,
         0.030215437135568755,
         0.02957463203248269,
         0.031827104621098876,
         0.02907374066827429,
         0.032709293220874194,
         0.030904878191927332,
         0.031070769873585535
        ],
        [
         0.08496589064598084,
         0.08547315932810307,
         0.08923608511686325,
         0.09189394637942314,
         0.0845089752227068,
         0.08862054422497749,
         0.08546722419559956,
         0.09174858219921589,
         0.08699408359825611,
         0.08811265528202057,
         0.0893023494631052,
         0.08588499501347542,
         0.08767199963331222,
         0.08535700663924217,
         0.08216062858700753,
         0.09014336429536343,
         0.08445451781153679,
         0.08876861073076725,
         0.09114323444664478,
         0.08955956250429153,
         0.08555227182805539,
         0.09132255539298058,
         0.08706072941422463,
         0.09070356748998165,
         0.08662336058914662,
         0.08664082698523998,
         0.08592009842395783,
         0.0880988173186779,
         0.08721491992473603,
         0.08921910747885704,
         0.08257117867469788,
         0.08821726702153683,
         0.09121358916163444,
         0.0849952943623066,
         0.08943026289343833,
         0.0916624654084444,
         0.08766765743494034,
         0.08939695246517658,
         0.09127514064311981,
         0.08539965897798538,
         0.08745831102132798,
         0.08375029265880585,
         0.08236759454011917,
         0.08913924582302571,
         0.08842281959950923,
         0.08786686435341835,
         0.08798047974705696,
         0.08569668084383011,
         0.08268757611513138,
         0.08531411662697792,
         0.08460479788482189,
         0.08426079228520393,
         0.09283713027834892,
         0.09169805496931076,
         0.08612970486283303,
         0.0830689650028944,
         0.08701151721179486,
         0.08176591321825981,
         0.08510800078511238,
         0.09279145449399948,
         0.08271747380495072,
         0.08733070641756058,
         0.08518650941550732,
         0.08340858891606331,
         0.08549635969102383,
         0.08515548519790173,
         0.08663670904934406,
         0.0875796876847744,
         0.08792372979223728,
         0.0847841240465641,
         0.08916897401213646,
         0.08465086556971073,
         0.08675787933170795,
         0.08738389238715172,
         0.08428435735404491,
         0.08682841509580612,
         0.08387799188494682,
         0.0881625410169363,
         0.08182724714279174,
         0.08891388475894928,
         0.08928877897560597,
         0.09123920798301696,
         0.08573953323066234,
         0.0901741098612547,
         0.09069837257266045,
         0.08954824507236481,
         0.08381925486028194,
         0.084989158436656,
         0.08335069306194783,
         0.08973830193281174,
         0.08668064400553703,
         0.08493436649441719,
         0.0850507665425539,
         0.08649027161300182,
         0.08778057470917702,
         0.0895992185920477,
         0.08361852541565895,
         0.08483493328094482,
         0.08544831387698651,
         0.08703675903379918
        ],
        [
         1.6993178129196167,
         1.7094631865620613,
         1.784721702337265,
         1.8378789275884628,
         1.690179504454136,
         1.7724108844995499,
         1.7093444839119911,
         1.8349716439843178,
         1.7398816719651222,
         1.7622531056404114,
         1.786046989262104,
         1.7176999002695084,
         1.7534399926662445,
         1.7071401327848434,
         1.6432125717401505,
         1.8028672859072685,
         1.6890903562307358,
         1.775372214615345,
         1.8228646889328957,
         1.7911912500858307,
         1.7110454365611076,
         1.8264511078596115,
         1.7412145882844925,
         1.814071349799633,
         1.7324672117829323,
         1.7328165397047997,
         1.7184019684791565,
         1.761976346373558,
         1.7442983984947205,
         1.7843821495771408,
         1.6514235734939575,
         1.7643453404307365,
         1.824271783232689,
         1.699905887246132,
         1.7886052578687668,
         1.833249308168888,
         1.7533531486988068,
         1.7879390493035316,
         1.8255028128623962,
         1.7079931795597076,
         1.7491662204265594,
         1.675005853176117,
         1.6473518908023834,
         1.782784916460514,
         1.7684563919901848,
         1.757337287068367,
         1.7596095949411392,
         1.7139336168766022,
         1.6537515223026276,
         1.7062823325395584,
         1.6920959576964378,
         1.6852158457040787,
         1.8567426055669785,
         1.8339610993862152,
         1.7225940972566605,
         1.661379300057888,
         1.740230344235897,
         1.6353182643651962,
         1.7021600157022476,
         1.8558290898799896,
         1.6543494760990143,
         1.7466141283512115,
         1.7037301883101463,
         1.6681717783212662,
         1.7099271938204765,
         1.7031097039580345,
         1.7327341809868813,
         1.751593753695488,
         1.7584745958447456,
         1.695682480931282,
         1.7833794802427292,
         1.6930173113942146,
         1.735157586634159,
         1.7476778477430344,
         1.6856871470808983,
         1.7365683019161224,
         1.6775598376989365,
         1.763250820338726,
         1.636544942855835,
         1.7782776951789856,
         1.7857755795121193,
         1.8247841596603394,
         1.714790664613247,
         1.8034821972250938,
         1.813967451453209,
         1.7909649014472961,
         1.6763850972056389,
         1.69978316873312,
         1.6670138612389565,
         1.7947660386562347,
         1.7336128801107407,
         1.6986873298883438,
         1.701015330851078,
         1.7298054322600365,
         1.7556114941835403,
         1.7919843718409538,
         1.672370508313179,
         1.6966986656188965,
         1.70896627753973,
         1.7407351806759834
        ],
        [
         0.785145462652005,
         0.7757752099076851,
         0.7821614352571786,
         0.7927172558283898,
         0.7957144633428834,
         0.7901878798593333,
         0.7788105132237723,
         0.7896531145412463,
         0.7839358924446181,
         0.774441362093453,
         0.8036530315064451,
         0.7923362318584157,
         0.780160572412969,
         0.8037127816768875,
         0.780361812183659,
         0.8009297288485497,
         0.7581321493203199,
         0.7979821180853545,
         0.7992665191014481,
         0.7811381803374355,
         0.7681067560660181,
         0.7789021670323975,
         0.7820069712183368,
         0.8025311858025654,
         0.7799650829853236,
         0.7837108800453837,
         0.7907844779475087,
         0.7966602973858625,
         0.7858599213306303,
         0.8110200513720145,
         0.7813732352532011,
         0.7923803639588525,
         0.7843172118251048,
         0.7853865705924589,
         0.7873310752851013,
         0.7862841425344631,
         0.777342959035821,
         0.7789125247633916,
         0.7943903840992831,
         0.7774808436525824,
         0.7908549038363476,
         0.7721798581236561,
         0.7633435548841617,
         0.7842903855090908,
         0.7775849081655987,
         0.7935906629595355,
         0.7582673494864363,
         0.774528198091063,
         0.7608875771262005,
         0.784553070455917,
         0.7723876751911799,
         0.785086863263616,
         0.7882150530734112,
         0.8022404495288618,
         0.8086691525645007,
         0.7705296804907472,
         0.7807670038339622,
         0.7551619278265769,
         0.7655079730522993,
         0.7972443312005518,
         0.7708965527295435,
         0.7781333175442718,
         0.7800835580943641,
         0.7869199094472012,
         0.7547627053541814,
         0.7649647881479757,
         0.7702674230428079,
         0.7763360763780518,
         0.8089948814664067,
         0.7813288550101932,
         0.7629619497624917,
         0.7741158167070388,
         0.7741955800725543,
         0.7840438059033835,
         0.7665235266102642,
         0.7775241345376553,
         0.7833404640373246,
         0.8061127190619203,
         0.7841619469570263,
         0.7917420470018508,
         0.7887401096015181,
         0.7922446928957049,
         0.7828108748711927,
         0.7857001386605363,
         0.7874534563535264,
         0.7872311539890529,
         0.766542676383628,
         0.7745150327547069,
         0.7596359761620288,
         0.8111889402699127,
         0.8020578386387645,
         0.7991709315832384,
         0.7737883862484101,
         0.7773729752900953,
         0.7690855873371011,
         0.7978358806308334,
         0.7625449582585185,
         0.8088175717783856,
         0.7861918110986317,
         0.7882990533241244
        ]
       ],
       "encoder": "json",
       "name": "ABC_GAN_1 Metrics",
       "version": 1
      }
     },
     "metadata": {
      "scrapbook": {
       "data": true,
       "display": false,
       "name": "ABC_GAN_1 Metrics"
      }
     },
     "output_type": "display_data"
    },
    {
     "name": "stdout",
     "output_type": "stream",
     "text": [
      "MSE\n",
      "0.030690839440806677\n"
     ]
    }
   ],
   "source": [
    "ABC_GAN1_metrics=ABC_train_test2.test_generator(gen,test_data,prior_model,variance,bias,\"1\",device)\n",
    "sb.glue(\"ABC_GAN_1 Metrics\",ABC_GAN1_metrics)\n",
    "\n",
    "print(\"MSE\")\n",
    "print(mean(ABC_GAN1_metrics[0]))"
   ]
  },
  {
   "cell_type": "code",
   "execution_count": 14,
   "id": "eb22ce5c",
   "metadata": {
    "execution": {
     "iopub.execute_input": "2022-03-16T13:33:09.736008Z",
     "iopub.status.busy": "2022-03-16T13:33:09.735602Z",
     "iopub.status.idle": "2022-03-16T13:33:10.073903Z",
     "shell.execute_reply": "2022-03-16T13:33:10.074321Z"
    },
    "papermill": {
     "duration": 0.354339,
     "end_time": "2022-03-16T13:33:10.074454",
     "exception": false,
     "start_time": "2022-03-16T13:33:09.720115",
     "status": "completed"
    },
    "tags": []
   },
   "outputs": [
    {
     "data": {
      "image/png": "[encoded data removed]",
      "text/plain": [
       "<Figure size 432x288 with 1 Axes>"
      ]
     },
     "metadata": {
      "needs_background": "light"
     },
     "output_type": "display_data"
    },
    {
     "data": {
      "image/png": "[encoded data removed]",
      "text/plain": [
       "<Figure size 432x288 with 1 Axes>"
      ]
     },
     "metadata": {
      "needs_background": "light"
     },
     "output_type": "display_data"
    },
    {
     "data": {
      "image/png": "[encoded data removed]",
      "text/plain": [
       "<Figure size 432x288 with 1 Axes>"
      ]
     },
     "metadata": {
      "needs_background": "light"
     },
     "output_type": "display_data"
    },
    {
     "data": {
      "image/png": "[encoded data removed]",
      "text/plain": [
       "<Figure size 432x288 with 1 Axes>"
      ]
     },
     "metadata": {
      "needs_background": "light"
     },
     "output_type": "display_data"
    }
   ],
   "source": [
    "sanityChecks.discProbVsError(train_data,disc,device)\n",
    "sanityChecks.discProbVsError(test_data,disc,device)"
   ]
  },
  {
   "cell_type": "markdown",
   "id": "130f3a4d",
   "metadata": {
    "id": "130f3a4d",
    "papermill": {
     "duration": 0.050032,
     "end_time": "2022-03-16T13:33:10.142066",
     "exception": false,
     "start_time": "2022-03-16T13:33:10.092034",
     "status": "completed"
    },
    "tags": []
   },
   "source": [
    "# ABC - GAN Model with skip connection"
   ]
  },
  {
   "cell_type": "code",
   "execution_count": 15,
   "id": "4e43dad1",
   "metadata": {
    "execution": {
     "iopub.execute_input": "2022-03-16T13:33:10.183188Z",
     "iopub.status.busy": "2022-03-16T13:33:10.182733Z",
     "iopub.status.idle": "2022-03-16T13:33:10.185364Z",
     "shell.execute_reply": "2022-03-16T13:33:10.185654Z"
    },
    "id": "4e43dad1",
    "papermill": {
     "duration": 0.027164,
     "end_time": "2022-03-16T13:33:10.185785",
     "exception": false,
     "start_time": "2022-03-16T13:33:10.158621",
     "status": "completed"
    },
    "tags": []
   },
   "outputs": [],
   "source": [
    "#Generator\n",
    "gen3 = network.GeneratorWithSkipConnection(n_features+1).to(device)\n",
    "constraints=network.weightConstraint()\n",
    "#Discriminator \n",
    "disc3 = network.Discriminator(n_features+1).to(device)\n",
    "\n",
    "criterion = torch.nn.BCELoss()\n",
    "gen_opt = torch.optim.Adam(gen3.parameters(), lr=0.001, betas=(0.5, 0.999))\n",
    "disc_opt = torch.optim.Adam(disc3.parameters(), lr=0.001, betas=(0.5, 0.999))\n"
   ]
  },
  {
   "cell_type": "code",
   "execution_count": 16,
   "id": "26acbc37",
   "metadata": {
    "execution": {
     "iopub.execute_input": "2022-03-16T13:33:10.223450Z",
     "iopub.status.busy": "2022-03-16T13:33:10.223023Z",
     "iopub.status.idle": "2022-03-16T13:33:50.985727Z",
     "shell.execute_reply": "2022-03-16T13:33:50.986045Z"
    },
    "id": "26acbc37",
    "papermill": {
     "duration": 40.782635,
     "end_time": "2022-03-16T13:33:50.986181",
     "exception": false,
     "start_time": "2022-03-16T13:33:10.203546",
     "status": "completed"
    },
    "tags": []
   },
   "outputs": [
    {
     "data": {
      "image/png": "[encoded data removed]",
      "text/plain": [
       "<Figure size 432x288 with 1 Axes>"
      ]
     },
     "metadata": {
      "needs_background": "light"
     },
     "output_type": "display_data"
    },
    {
     "data": {
      "image/png": "[encoded data removed]",
      "text/plain": [
       "<Figure size 432x288 with 1 Axes>"
      ]
     },
     "metadata": {
      "needs_background": "light"
     },
     "output_type": "display_data"
    }
   ],
   "source": [
    "ABC_train_test2.training_GAN_skip_connection(disc3,gen3,disc_opt,gen_opt,train_data,batch_size,n_epochs,criterion,prior_model,variance,bias,device)"
   ]
  },
  {
   "cell_type": "code",
   "execution_count": 17,
   "id": "c5e0717b",
   "metadata": {
    "execution": {
     "iopub.execute_input": "2022-03-16T13:33:51.027281Z",
     "iopub.status.busy": "2022-03-16T13:33:51.026846Z",
     "iopub.status.idle": "2022-03-16T13:33:51.365178Z",
     "shell.execute_reply": "2022-03-16T13:33:51.365470Z"
    },
    "id": "c5e0717b",
    "papermill": {
     "duration": 0.360372,
     "end_time": "2022-03-16T13:33:51.365602",
     "exception": false,
     "start_time": "2022-03-16T13:33:51.005230",
     "status": "completed"
    },
    "tags": []
   },
   "outputs": [
    {
     "data": {
      "application/scrapbook.scrap.json+json": {
       "data": 0.03925938735753314,
       "encoder": "json",
       "name": "ABC-GAN Model 3 MSE",
       "version": 1
      }
     },
     "metadata": {
      "scrapbook": {
       "data": true,
       "display": false,
       "name": "ABC-GAN Model 3 MSE"
      }
     },
     "output_type": "display_data"
    },
    {
     "data": {
      "application/scrapbook.scrap.json+json": {
       "data": 0.08207640169560909,
       "encoder": "json",
       "name": "ABC-GAN Model 3 MAE",
       "version": 1
      }
     },
     "metadata": {
      "scrapbook": {
       "data": true,
       "display": false,
       "name": "ABC-GAN Model 3 MAE"
      }
     },
     "output_type": "display_data"
    },
    {
     "data": {
      "application/scrapbook.scrap.json+json": {
       "data": 1.6415280339121818,
       "encoder": "json",
       "name": "ABC-GAN Model 3 Manhattan Distance",
       "version": 1
      }
     },
     "metadata": {
      "scrapbook": {
       "data": true,
       "display": false,
       "name": "ABC-GAN Model 3 Manhattan Distance"
      }
     },
     "output_type": "display_data"
    },
    {
     "data": {
      "application/scrapbook.scrap.json+json": {
       "data": 0.8827907211511669,
       "encoder": "json",
       "name": "ABC-GAN Model 3 Euclidean distance",
       "version": 1
      }
     },
     "metadata": {
      "scrapbook": {
       "data": true,
       "display": false,
       "name": "ABC-GAN Model 3 Euclidean distance"
      }
     },
     "output_type": "display_data"
    },
    {
     "data": {
      "application/scrapbook.scrap.json+json": {
       "data": [
        [
         0.03413478505711026,
         0.046097149614441245,
         0.03268546987153311,
         0.04165219204072498,
         0.04139727265689221,
         0.045590870079996036,
         0.04463400233948508,
         0.03160674083647823,
         0.03676625493745882,
         0.04680006197242127,
         0.04122809358069551,
         0.049806758335446955,
         0.03921008728136266,
         0.05038150022241526,
         0.038939308500870205,
         0.04275509609552906,
         0.038248915415925566,
         0.02781696271827715,
         0.04324683370216129,
         0.040224852967959315,
         0.03542961990407485,
         0.030673239185324063,
         0.03506869477527534,
         0.03204720520635853,
         0.0465079611162262,
         0.04766926836025892,
         0.03933043895050357,
         0.02815683335193131,
         0.05000336465679796,
         0.03322445458479019,
         0.02424592685757937,
         0.04016066710876629,
         0.05416229506012563,
         0.04962590386280411,
         0.04348705219837225,
         0.034933215854513776,
         0.03111985274761262,
         0.0378557220968981,
         0.04040301266383667,
         0.04233316010762095,
         0.03313218664379791,
         0.04686407495528768,
         0.031629535826498356,
         0.0335783631532701,
         0.03562872195222376,
         0.035995397996061294,
         0.03545324511805561,
         0.052182417992651685,
         0.04267570256979763,
         0.04339072392230675,
         0.03618465238996656,
         0.042255372152864824,
         0.044204647659305776,
         0.026962399593582608,
         0.037130279575803574,
         0.03704605081254838,
         0.04189858462149761,
         0.032725529572829884,
         0.03704029188522852,
         0.03340338466851432,
         0.03957336003647259,
         0.047505933225150065,
         0.04623786703461249,
         0.04663288595033986,
         0.03140399989868076,
         0.03559083431277209,
         0.038076027156921544,
         0.03462419408309706,
         0.024404617625114648,
         0.0498634464580063,
         0.038210810739610426,
         0.03649224898403214,
         0.03284500798795694,
         0.03932198784764621,
         0.03468674895544853,
         0.03924472693830415,
         0.06102226304827194,
         0.04016250067218687,
         0.04636135134481915,
         0.052320119155521524,
         0.04065184046099311,
         0.035701730826132816,
         0.036720249753825686,
         0.036394177647580336,
         0.05468093541285862,
         0.036237064367678526,
         0.04230719966274375,
         0.038226061059257285,
         0.04139000466601669,
         0.0428683768982702,
         0.0411654353802968,
         0.029902984308961496,
         0.029604243697430623,
         0.03843055789732196,
         0.036930696983671255,
         0.02931153145703951,
         0.03801508748696961,
         0.04079821198920276,
         0.03448529420967008,
         0.03849346019347999
        ],
        [
         0.0877226259559393,
         0.08712812960147857,
         0.07108781486749649,
         0.090831608325243,
         0.085961240157485,
         0.08408238515257835,
         0.08784633763134479,
         0.07174509055912495,
         0.07685083635151387,
         0.08430716954171658,
         0.08124772943556309,
         0.09113172665238381,
         0.08868637531995774,
         0.0883958838880062,
         0.07772456780076027,
         0.09017155654728412,
         0.07811217941343784,
         0.06824252977967263,
         0.08288357146084309,
         0.07755073420703411,
         0.07409912627190351,
         0.07613191679120064,
         0.08110107742249965,
         0.08223345577716827,
         0.08965097144246101,
         0.08892344459891319,
         0.08102091550827026,
         0.07629292160272598,
         0.08310378342866898,
         0.08100196029990911,
         0.06662582438439131,
         0.0905474841594696,
         0.09444887824356556,
         0.08872121796011925,
         0.08301862739026547,
         0.07745259292423726,
         0.07149551175534725,
         0.0825988806784153,
         0.08477266207337379,
         0.08820134922862052,
         0.08245409727096557,
         0.0976338867098093,
         0.07585546001791954,
         0.07636380195617676,
         0.08080523945391178,
         0.07890991009771824,
         0.08458544015884399,
         0.08845928981900215,
         0.08408613204956054,
         0.08226700760424137,
         0.08027969598770142,
         0.0793151505291462,
         0.09130330011248589,
         0.07572582438588142,
         0.08271677196025848,
         0.08725836016237735,
         0.08176976405084133,
         0.0897784024477005,
         0.07650975547730923,
         0.07629695311188697,
         0.07776205837726594,
         0.08756233789026738,
         0.08238036297261715,
         0.08859677985310555,
         0.07788246106356382,
         0.07212277576327324,
         0.08042916730046272,
         0.08512923382222652,
         0.07331733591854572,
         0.08377708122134209,
         0.07449809648096561,
         0.09127680361270904,
         0.07646334748715163,
         0.0830481193959713,
         0.07701383568346501,
         0.07054899595677852,
         0.08972080647945405,
         0.08340369500219821,
         0.09082623794674874,
         0.09455753080546855,
         0.08127349838614464,
         0.07877340912818909,
         0.07933982014656067,
         0.07897054329514504,
         0.08949391022324563,
         0.08013446070253849,
         0.085256939381361,
         0.08015917465090752,
         0.08180488385260105,
         0.08334571234881878,
         0.09078388959169388,
         0.07182848285883665,
         0.07564140409231186,
         0.08333325311541558,
         0.0844983171671629,
         0.07931539677083492,
         0.08206618912518024,
         0.08675478622317315,
         0.06974414736032486,
         0.07927795015275478
        ],
        [
         1.7544525191187859,
         1.7425625920295715,
         1.4217562973499298,
         1.81663216650486,
         1.7192248031497002,
         1.681647703051567,
         1.756926752626896,
         1.434901811182499,
         1.5370167270302773,
         1.6861433908343315,
         1.6249545887112617,
         1.822634533047676,
         1.7737275063991547,
         1.7679176777601242,
         1.5544913560152054,
         1.8034311309456825,
         1.5622435882687569,
         1.3648505955934525,
         1.6576714292168617,
         1.5510146841406822,
         1.4819825254380703,
         1.5226383358240128,
         1.6220215484499931,
         1.6446691155433655,
         1.7930194288492203,
         1.7784688919782639,
         1.6204183101654053,
         1.5258584320545197,
         1.6620756685733795,
         1.6200392059981823,
         1.3325164876878262,
         1.810949683189392,
         1.8889775648713112,
         1.774424359202385,
         1.6603725478053093,
         1.549051858484745,
         1.429910235106945,
         1.651977613568306,
         1.695453241467476,
         1.7640269845724106,
         1.6490819454193115,
         1.952677734196186,
         1.5171092003583908,
         1.5272760391235352,
         1.6161047890782356,
         1.5781982019543648,
         1.6917088031768799,
         1.769185796380043,
         1.681722640991211,
         1.6453401520848274,
         1.6055939197540283,
         1.586303010582924,
         1.8260660022497177,
         1.5145164877176285,
         1.6543354392051697,
         1.7451672032475471,
         1.6353952810168266,
         1.79556804895401,
         1.5301951095461845,
         1.5259390622377396,
         1.5552411675453186,
         1.7512467578053474,
         1.647607259452343,
         1.771935597062111,
         1.5576492212712765,
         1.4424555152654648,
         1.6085833460092545,
         1.7025846764445305,
         1.4663467183709145,
         1.6755416244268417,
         1.4899619296193123,
         1.825536072254181,
         1.5292669497430325,
         1.660962387919426,
         1.5402767136693,
         1.4109799191355705,
         1.7944161295890808,
         1.6680739000439644,
         1.8165247589349747,
         1.8911506161093712,
         1.6254699677228928,
         1.5754681825637817,
         1.5867964029312134,
         1.5794108659029007,
         1.7898782044649124,
         1.6026892140507698,
         1.7051387876272202,
         1.6031834930181503,
         1.636097677052021,
         1.6669142469763756,
         1.8156777918338776,
         1.436569657176733,
         1.5128280818462372,
         1.6666650623083115,
         1.689966343343258,
         1.5863079354166985,
         1.6413237825036049,
         1.7350957244634628,
         1.3948829472064972,
         1.5855590030550957
        ],
        [
         0.8262540173228843,
         0.9601786251988871,
         0.808522972729076,
         0.9127123538193725,
         0.9099150801793782,
         0.9548913035523576,
         0.9448174674452741,
         0.7950690641256045,
         0.8575109904538696,
         0.9674715703566825,
         0.9080538924611855,
         0.9980657126206366,
         0.8855516617494731,
         1.0038077527337121,
         0.8824886231659896,
         0.9247172118602429,
         0.8746303838299418,
         0.7458815283713245,
         0.9300197170185296,
         0.8969376005939244,
         0.8417793048546021,
         0.783239927293343,
         0.8374806836611259,
         0.8005898476293405,
         0.9644476254958193,
         0.976414546801295,
         0.8869096791726152,
         0.7504243246581405,
         1.0000336460019528,
         0.8151620033440002,
         0.6963609244864242,
         0.8962217036957573,
         1.0407909978485175,
         0.9962520149320061,
         0.9325990799735141,
         0.8358614221808993,
         0.7889214504323306,
         0.8701232337651731,
         0.898921716990269,
         0.9201430335292546,
         0.8140293194203501,
         0.9681329966000299,
         0.795355716978238,
         0.8194920762676122,
         0.8441412435395366,
         0.8484739005539451,
         0.8420599161348984,
         1.0215910922933078,
         0.9238582420457981,
         0.9315656060880173,
         0.8507015033484607,
         0.9192972550036775,
         0.9402621725806667,
         0.7343350678482216,
         0.8617456652145524,
         0.8607676900598487,
         0.915407937714084,
         0.8090182887034122,
         0.8607007829115588,
         0.8173540807815708,
         0.8896444237612304,
         0.9747403061857047,
         0.9616430422418965,
         0.9657420561448058,
         0.7925149828070225,
         0.8436922935854291,
         0.8726514442424483,
         0.8321561642275692,
         0.6986360658470854,
         0.9986335309612461,
         0.8741946092216587,
         0.8543096509349773,
         0.8104937752747635,
         0.8868143869789914,
         0.8329075453548075,
         0.8859427401170366,
         1.1047376434997762,
         0.896242162277438,
         0.9629262832098743,
         1.0229381130402906,
         0.9016855378788452,
         0.8450056902309335,
         0.8569743257977532,
         0.8531609185561695,
         1.04576226182492,
         0.8513173834437839,
         0.9198608553769831,
         0.874369041758196,
         0.9098352011877392,
         0.925941433334422,
         0.9073636027557729,
         0.7733431878404502,
         0.7694705153211606,
         0.8767047153668327,
         0.8594265179021561,
         0.7656569918317145,
         0.8719528368778854,
         0.9033073894218153,
         0.8304853305106609,
         0.8774219075619207
        ]
       ],
       "encoder": "json",
       "name": "ABC_GAN_3 Metrics",
       "version": 1
      }
     },
     "metadata": {
      "scrapbook": {
       "data": true,
       "display": false,
       "name": "ABC_GAN_3 Metrics"
      }
     },
     "output_type": "display_data"
    },
    {
     "name": "stdout",
     "output_type": "stream",
     "text": [
      "MSE\n",
      "0.03925938735753314\n"
     ]
    }
   ],
   "source": [
    "ABC_GAN3_metrics=ABC_train_test2.test_generator(gen3,test_data,prior_model,variance,bias,\"3\",device)\n",
    "sb.glue(\"ABC_GAN_3 Metrics\",ABC_GAN3_metrics)\n",
    "\n",
    "print(\"MSE\")\n",
    "print(mean(ABC_GAN3_metrics[0]))"
   ]
  },
  {
   "cell_type": "code",
   "execution_count": 18,
   "id": "c8e46b48",
   "metadata": {
    "execution": {
     "iopub.execute_input": "2022-03-16T13:33:51.410544Z",
     "iopub.status.busy": "2022-03-16T13:33:51.410108Z",
     "iopub.status.idle": "2022-03-16T13:33:51.799032Z",
     "shell.execute_reply": "2022-03-16T13:33:51.799412Z"
    },
    "id": "c8e46b48",
    "papermill": {
     "duration": 0.412687,
     "end_time": "2022-03-16T13:33:51.799557",
     "exception": false,
     "start_time": "2022-03-16T13:33:51.386870",
     "status": "completed"
    },
    "tags": []
   },
   "outputs": [
    {
     "data": {
      "image/png": "[encoded data removed]",
      "text/plain": [
       "<Figure size 432x288 with 1 Axes>"
      ]
     },
     "metadata": {
      "needs_background": "light"
     },
     "output_type": "display_data"
    },
    {
     "data": {
      "image/png": "[encoded data removed]",
      "text/plain": [
       "<Figure size 432x288 with 1 Axes>"
      ]
     },
     "metadata": {
      "needs_background": "light"
     },
     "output_type": "display_data"
    },
    {
     "data": {
      "image/png": "[encoded data removed]",
      "text/plain": [
       "<Figure size 432x288 with 1 Axes>"
      ]
     },
     "metadata": {
      "needs_background": "light"
     },
     "output_type": "display_data"
    },
    {
     "data": {
      "image/png": "[encoded data removed]",
      "text/plain": [
       "<Figure size 432x288 with 1 Axes>"
      ]
     },
     "metadata": {
      "needs_background": "light"
     },
     "output_type": "display_data"
    }
   ],
   "source": [
    "sanityChecks.discProbVsError(train_data,disc3,device)\n",
    "sanityChecks.discProbVsError(test_data,disc3,device)"
   ]
  },
  {
   "cell_type": "markdown",
   "id": "a5bd74c3",
   "metadata": {
    "id": "a5bd74c3",
    "papermill": {
     "duration": 0.02406,
     "end_time": "2022-03-16T13:33:51.849329",
     "exception": false,
     "start_time": "2022-03-16T13:33:51.825269",
     "status": "completed"
    },
    "tags": []
   },
   "source": [
    "## Skip Connection Model Analysis - ABC-GAN "
   ]
  },
  {
   "cell_type": "markdown",
   "id": "5744a8bf",
   "metadata": {
    "id": "5744a8bf",
    "papermill": {
     "duration": 0.024728,
     "end_time": "2022-03-16T13:33:51.915476",
     "exception": false,
     "start_time": "2022-03-16T13:33:51.890748",
     "status": "completed"
    },
    "tags": []
   },
   "source": [
    "### Weight Analysis \n",
    "\n",
    "Study the weights of the skip connection layer\n",
    "\n",
    "Equation of the skip connection is \n",
    "\n",
    "$output = y_{gan} * w + y_{abc} * (1-w)$"
   ]
  },
  {
   "cell_type": "code",
   "execution_count": 19,
   "id": "52c31dea",
   "metadata": {
    "execution": {
     "iopub.execute_input": "2022-03-16T13:33:51.970698Z",
     "iopub.status.busy": "2022-03-16T13:33:51.970228Z",
     "iopub.status.idle": "2022-03-16T13:33:51.974211Z",
     "shell.execute_reply": "2022-03-16T13:33:51.974579Z"
    },
    "id": "52c31dea",
    "papermill": {
     "duration": 0.033544,
     "end_time": "2022-03-16T13:33:51.974725",
     "exception": false,
     "start_time": "2022-03-16T13:33:51.941181",
     "status": "completed"
    },
    "tags": []
   },
   "outputs": [
    {
     "name": "stdout",
     "output_type": "stream",
     "text": [
      "Weight of the node at skip connection\n",
      "Parameter containing:\n",
      "tensor([[0.1534]], requires_grad=True)\n"
     ]
    },
    {
     "data": {
      "application/scrapbook.scrap.json+json": {
       "data": 0.15340876579284668,
       "encoder": "json",
       "name": "Skip Connection Weight",
       "version": 1
      }
     },
     "metadata": {
      "scrapbook": {
       "data": true,
       "display": false,
       "name": "Skip Connection Weight"
      }
     },
     "output_type": "display_data"
    }
   ],
   "source": [
    "print(\"Weight of the node at skip connection\")\n",
    "for name,param in gen3.named_parameters():\n",
    "    if(name == \"skipNode.weight\"):\n",
    "        print(param)\n",
    "        sb.glue(\"Skip Connection Weight\",param.item())"
   ]
  }
 ],
 "metadata": {
  "colab": {
   "collapsed_sections": [],
   "name": "ABC_GAN_Model-Catboost_Pre-gen.ipynb",
   "provenance": []
  },
  "interpreter": {
   "hash": "31f2aee4e71d21fbe5cf8b01ff0e069b9275f58929596ceb00d14d90e3e16cd6"
  },
  "kernelspec": {
   "display_name": "Python 3 (ipykernel)",
   "language": "python",
   "name": "python3"
  },
  "language_info": {
   "codemirror_mode": {
    "name": "ipython",
    "version": 3
   },
   "file_extension": ".py",
   "mimetype": "text/x-python",
   "name": "python",
   "nbconvert_exporter": "python",
   "pygments_lexer": "ipython3",
   "version": "3.8.11"
  },
  "papermill": {
   "default_parameters": {},
   "duration": 63.628988,
   "end_time": "2022-03-16T13:33:52.410438",
   "environment_variables": {},
   "exception": null,
   "input_path": "ABC_GAN-Catboost.ipynb",
   "output_path": "./ABC_GAN_Catboost/ABC-GAN_output_6_7.ipynb",
   "parameters": {
    "bias": 0.01,
    "variance": 0.1
   },
   "start_time": "2022-03-16T13:32:48.781450",
   "version": "2.3.3"
  }
 },
 "nbformat": 4,
 "nbformat_minor": 5
}