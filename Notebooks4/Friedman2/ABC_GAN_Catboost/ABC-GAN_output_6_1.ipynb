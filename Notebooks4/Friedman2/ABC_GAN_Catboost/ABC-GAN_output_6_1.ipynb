{
 "cells": [
  {
   "cell_type": "markdown",
   "id": "622780e6",
   "metadata": {
    "id": "622780e6",
    "papermill": {
     "duration": 0.03489,
     "end_time": "2022-03-16T13:26:51.540631",
     "exception": false,
     "start_time": "2022-03-16T13:26:51.505741",
     "status": "completed"
    },
    "tags": []
   },
   "source": [
    "## Import Libraries "
   ]
  },
  {
   "cell_type": "code",
   "execution_count": 1,
   "id": "a62397e3",
   "metadata": {
    "execution": {
     "iopub.execute_input": "2022-03-16T13:26:51.576327Z",
     "iopub.status.busy": "2022-03-16T13:26:51.575830Z",
     "iopub.status.idle": "2022-03-16T13:26:51.578087Z",
     "shell.execute_reply": "2022-03-16T13:26:51.578431Z"
    },
    "id": "a62397e3",
    "papermill": {
     "duration": 0.022006,
     "end_time": "2022-03-16T13:26:51.578649",
     "exception": false,
     "start_time": "2022-03-16T13:26:51.556643",
     "status": "completed"
    },
    "tags": []
   },
   "outputs": [],
   "source": [
    "import warnings\n",
    "import sys\n",
    "sys.path.insert(0, '../../src')\n",
    "warnings.filterwarnings('ignore')"
   ]
  },
  {
   "cell_type": "code",
   "execution_count": 2,
   "id": "d6a4e155",
   "metadata": {
    "execution": {
     "iopub.execute_input": "2022-03-16T13:26:51.598693Z",
     "iopub.status.busy": "2022-03-16T13:26:51.598288Z",
     "iopub.status.idle": "2022-03-16T13:26:53.462754Z",
     "shell.execute_reply": "2022-03-16T13:26:53.463030Z"
    },
    "id": "d6a4e155",
    "papermill": {
     "duration": 1.875214,
     "end_time": "2022-03-16T13:26:53.463162",
     "exception": false,
     "start_time": "2022-03-16T13:26:51.587948",
     "status": "completed"
    },
    "tags": []
   },
   "outputs": [],
   "source": [
    "import ABC_train_test2\n",
    "import friedman2Dataset\n",
    "import network\n",
    "import dataset\n",
    "import sanityChecks\n",
    "import torch \n",
    "import scrapbook as sb\n",
    "from statistics import mean \n",
    "import catboost as ctb \n",
    "from sklearn.model_selection import train_test_split\n",
    "from sklearn.metrics import mean_squared_error,mean_absolute_error\n",
    "import numpy as np"
   ]
  },
  {
   "cell_type": "markdown",
   "id": "2fa5b0f7",
   "metadata": {
    "id": "2fa5b0f7",
    "papermill": {
     "duration": 0.00725,
     "end_time": "2022-03-16T13:26:53.478227",
     "exception": false,
     "start_time": "2022-03-16T13:26:53.470977",
     "status": "completed"
    },
    "tags": []
   },
   "source": [
    "## Parameters "
   ]
  },
  {
   "cell_type": "code",
   "execution_count": 3,
   "id": "783186fb",
   "metadata": {
    "execution": {
     "iopub.execute_input": "2022-03-16T13:26:53.496103Z",
     "iopub.status.busy": "2022-03-16T13:26:53.495701Z",
     "iopub.status.idle": "2022-03-16T13:26:53.497071Z",
     "shell.execute_reply": "2022-03-16T13:26:53.497375Z"
    },
    "id": "783186fb",
    "papermill": {
     "duration": 0.012192,
     "end_time": "2022-03-16T13:26:53.497506",
     "exception": false,
     "start_time": "2022-03-16T13:26:53.485314",
     "status": "completed"
    },
    "tags": [
     "parameters"
    ]
   },
   "outputs": [],
   "source": [
    "variance = 1\n",
    "bias = 1 "
   ]
  },
  {
   "cell_type": "code",
   "execution_count": 4,
   "id": "b10568e2",
   "metadata": {
    "execution": {
     "iopub.execute_input": "2022-03-16T13:26:53.515206Z",
     "iopub.status.busy": "2022-03-16T13:26:53.514795Z",
     "iopub.status.idle": "2022-03-16T13:26:53.516103Z",
     "shell.execute_reply": "2022-03-16T13:26:53.516369Z"
    },
    "papermill": {
     "duration": 0.011642,
     "end_time": "2022-03-16T13:26:53.516500",
     "exception": false,
     "start_time": "2022-03-16T13:26:53.504858",
     "status": "completed"
    },
    "tags": [
     "injected-parameters"
    ]
   },
   "outputs": [],
   "source": [
    "# Parameters\n",
    "variance = 0.1\n",
    "bias = 1\n"
   ]
  },
  {
   "cell_type": "markdown",
   "id": "391cdbfd",
   "metadata": {
    "id": "391cdbfd",
    "papermill": {
     "duration": 0.009394,
     "end_time": "2022-03-16T13:26:53.534779",
     "exception": false,
     "start_time": "2022-03-16T13:26:53.525385",
     "status": "completed"
    },
    "tags": []
   },
   "source": [
    "## Dataset \n"
   ]
  },
  {
   "cell_type": "code",
   "execution_count": 5,
   "id": "5b51f161",
   "metadata": {
    "execution": {
     "iopub.execute_input": "2022-03-16T13:26:53.555314Z",
     "iopub.status.busy": "2022-03-16T13:26:53.554475Z",
     "iopub.status.idle": "2022-03-16T13:26:53.559064Z",
     "shell.execute_reply": "2022-03-16T13:26:53.559398Z"
    },
    "id": "5b51f161",
    "papermill": {
     "duration": 0.016259,
     "end_time": "2022-03-16T13:26:53.559718",
     "exception": false,
     "start_time": "2022-03-16T13:26:53.543459",
     "status": "completed"
    },
    "tags": []
   },
   "outputs": [],
   "source": [
    "#Parameters \n",
    "n_features = 4\n",
    "n_samples= 100\n",
    "n_target = 1 "
   ]
  },
  {
   "cell_type": "code",
   "execution_count": 6,
   "id": "5d6eced4",
   "metadata": {
    "execution": {
     "iopub.execute_input": "2022-03-16T13:26:53.580403Z",
     "iopub.status.busy": "2022-03-16T13:26:53.578708Z",
     "iopub.status.idle": "2022-03-16T13:26:53.586175Z",
     "shell.execute_reply": "2022-03-16T13:26:53.586488Z"
    },
    "id": "5d6eced4",
    "papermill": {
     "duration": 0.019335,
     "end_time": "2022-03-16T13:26:53.586616",
     "exception": false,
     "start_time": "2022-03-16T13:26:53.567281",
     "status": "completed"
    },
    "tags": []
   },
   "outputs": [
    {
     "name": "stdout",
     "output_type": "stream",
     "text": [
      "          X1           X2        X3         X4           Y\n",
      "0   9.297703  1276.645431  0.150125   4.796767  191.750379\n",
      "1  49.962166   313.050596  0.420943   9.585322  140.980577\n",
      "2  43.926343   530.676435  0.041915   8.420929   49.119826\n",
      "3  44.516965   374.216074  0.397736  10.219664  155.474705\n",
      "4  97.043248  1433.608854  0.436639   5.369894  633.369801\n"
     ]
    }
   ],
   "source": [
    "X,Y = friedman2Dataset.friedman2_data(n_samples)"
   ]
  },
  {
   "cell_type": "code",
   "execution_count": 7,
   "id": "fe007438",
   "metadata": {
    "execution": {
     "iopub.execute_input": "2022-03-16T13:26:53.607328Z",
     "iopub.status.busy": "2022-03-16T13:26:53.606916Z",
     "iopub.status.idle": "2022-03-16T13:26:53.608563Z",
     "shell.execute_reply": "2022-03-16T13:26:53.608891Z"
    },
    "id": "fe007438",
    "papermill": {
     "duration": 0.013863,
     "end_time": "2022-03-16T13:26:53.609016",
     "exception": false,
     "start_time": "2022-03-16T13:26:53.595153",
     "status": "completed"
    },
    "tags": []
   },
   "outputs": [],
   "source": [
    "#Train test split for dataset \n",
    "X_train,X_test,Y_train,Y_test = train_test_split(X,Y,test_size = 0.2)\n",
    "train_data = dataset.CustomDataset(X_train,Y_train)\n",
    "test_data = dataset.CustomDataset(X_test,Y_test)\n"
   ]
  },
  {
   "cell_type": "markdown",
   "id": "a9a1af34",
   "metadata": {
    "id": "a9a1af34",
    "papermill": {
     "duration": 0.008088,
     "end_time": "2022-03-16T13:26:53.625510",
     "exception": false,
     "start_time": "2022-03-16T13:26:53.617422",
     "status": "completed"
    },
    "tags": []
   },
   "source": [
    "## Training Parameters "
   ]
  },
  {
   "cell_type": "code",
   "execution_count": 8,
   "id": "952b7fc8",
   "metadata": {
    "execution": {
     "iopub.execute_input": "2022-03-16T13:26:53.645893Z",
     "iopub.status.busy": "2022-03-16T13:26:53.645467Z",
     "iopub.status.idle": "2022-03-16T13:26:53.646927Z",
     "shell.execute_reply": "2022-03-16T13:26:53.647217Z"
    },
    "id": "952b7fc8",
    "papermill": {
     "duration": 0.013201,
     "end_time": "2022-03-16T13:26:53.647344",
     "exception": false,
     "start_time": "2022-03-16T13:26:53.634143",
     "status": "completed"
    },
    "tags": []
   },
   "outputs": [],
   "source": [
    "batch_size = 32\n",
    "n_epochs = 1000\n",
    "#Select the device \n",
    "device = torch.device('cuda' if torch.cuda.is_available() else 'cpu')"
   ]
  },
  {
   "cell_type": "markdown",
   "id": "a95e1600",
   "metadata": {
    "id": "a95e1600",
    "papermill": {
     "duration": 0.008793,
     "end_time": "2022-03-16T13:26:53.664955",
     "exception": false,
     "start_time": "2022-03-16T13:26:53.656162",
     "status": "completed"
    },
    "tags": []
   },
   "source": [
    "# ABC Pre-generator Model \n",
    "\n",
    "1. The catboost model is used as a pre-generator model for the ABC-GAN. \n",
    "2. The model is first trained on the entire dataset \n",
    "3. It generats X,Y pairs and we add some Gaussian noise with mean 0 and variance 1 to it which is then feed as input to the generator.\n"
   ]
  },
  {
   "cell_type": "code",
   "execution_count": 9,
   "id": "ff8ce7bd",
   "metadata": {
    "execution": {
     "iopub.execute_input": "2022-03-16T13:26:53.687618Z",
     "iopub.status.busy": "2022-03-16T13:26:53.686985Z",
     "iopub.status.idle": "2022-03-16T13:26:54.394550Z",
     "shell.execute_reply": "2022-03-16T13:26:54.394885Z"
    },
    "id": "ff8ce7bd",
    "papermill": {
     "duration": 0.721227,
     "end_time": "2022-03-16T13:26:54.395041",
     "exception": false,
     "start_time": "2022-03-16T13:26:53.673814",
     "status": "completed"
    },
    "tags": []
   },
   "outputs": [
    {
     "name": "stdout",
     "output_type": "stream",
     "text": [
      "Learning rate set to 0.024897\n",
      "0:\tlearn: 1.0192706\ttotal: 58.1ms\tremaining: 58.1s\n",
      "1:\tlearn: 1.0070457\ttotal: 58.8ms\tremaining: 29.4s\n",
      "2:\tlearn: 0.9979146\ttotal: 59.4ms\tremaining: 19.7s\n",
      "3:\tlearn: 0.9869376\ttotal: 59.8ms\tremaining: 14.9s\n",
      "4:\tlearn: 0.9739709\ttotal: 60.2ms\tremaining: 12s\n",
      "5:\tlearn: 0.9600434\ttotal: 60.6ms\tremaining: 10s\n",
      "6:\tlearn: 0.9471124\ttotal: 61ms\tremaining: 8.65s\n",
      "7:\tlearn: 0.9355132\ttotal: 61.3ms\tremaining: 7.6s\n",
      "8:\tlearn: 0.9227947\ttotal: 62.1ms\tremaining: 6.84s\n",
      "9:\tlearn: 0.9099837\ttotal: 62.6ms\tremaining: 6.19s\n",
      "10:\tlearn: 0.8991828\ttotal: 63.1ms\tremaining: 5.67s\n",
      "11:\tlearn: 0.8852429\ttotal: 63.6ms\tremaining: 5.24s\n",
      "12:\tlearn: 0.8731419\ttotal: 64.6ms\tremaining: 4.91s\n",
      "13:\tlearn: 0.8615124\ttotal: 65.2ms\tremaining: 4.59s\n",
      "14:\tlearn: 0.8510306\ttotal: 65.8ms\tremaining: 4.32s\n",
      "15:\tlearn: 0.8427577\ttotal: 66.4ms\tremaining: 4.08s\n",
      "16:\tlearn: 0.8314467\ttotal: 67ms\tremaining: 3.87s\n",
      "17:\tlearn: 0.8233285\ttotal: 67.5ms\tremaining: 3.68s\n",
      "18:\tlearn: 0.8162157\ttotal: 68ms\tremaining: 3.51s\n",
      "19:\tlearn: 0.8061739\ttotal: 68.7ms\tremaining: 3.37s\n",
      "20:\tlearn: 0.7949872\ttotal: 69.6ms\tremaining: 3.24s\n",
      "21:\tlearn: 0.7846306\ttotal: 70.1ms\tremaining: 3.12s\n",
      "22:\tlearn: 0.7751166\ttotal: 71ms\tremaining: 3.02s\n",
      "23:\tlearn: 0.7656521\ttotal: 72.1ms\tremaining: 2.93s\n",
      "24:\tlearn: 0.7564547\ttotal: 73.1ms\tremaining: 2.85s\n",
      "25:\tlearn: 0.7454866\ttotal: 74ms\tremaining: 2.77s\n",
      "26:\tlearn: 0.7374133\ttotal: 74.5ms\tremaining: 2.69s\n",
      "27:\tlearn: 0.7283505\ttotal: 74.9ms\tremaining: 2.6s\n",
      "28:\tlearn: 0.7179059\ttotal: 75.5ms\tremaining: 2.53s\n",
      "29:\tlearn: 0.7080222\ttotal: 76.4ms\tremaining: 2.47s\n",
      "30:\tlearn: 0.7007547\ttotal: 77ms\tremaining: 2.4s\n",
      "31:\tlearn: 0.6919504\ttotal: 77.3ms\tremaining: 2.34s\n",
      "32:\tlearn: 0.6843730\ttotal: 77.7ms\tremaining: 2.28s\n",
      "33:\tlearn: 0.6761775\ttotal: 78.2ms\tremaining: 2.22s\n",
      "34:\tlearn: 0.6673929\ttotal: 78.7ms\tremaining: 2.17s\n",
      "35:\tlearn: 0.6583025\ttotal: 79.2ms\tremaining: 2.12s\n",
      "36:\tlearn: 0.6490657\ttotal: 79.9ms\tremaining: 2.08s\n",
      "37:\tlearn: 0.6413170\ttotal: 80.8ms\tremaining: 2.04s\n",
      "38:\tlearn: 0.6347702\ttotal: 81.7ms\tremaining: 2.01s\n",
      "39:\tlearn: 0.6266645\ttotal: 82.3ms\tremaining: 1.98s\n",
      "40:\tlearn: 0.6207583\ttotal: 83ms\tremaining: 1.94s\n",
      "41:\tlearn: 0.6129974\ttotal: 83.6ms\tremaining: 1.91s\n",
      "42:\tlearn: 0.6055911\ttotal: 84.3ms\tremaining: 1.88s\n",
      "43:\tlearn: 0.5987686\ttotal: 85.1ms\tremaining: 1.85s\n",
      "44:\tlearn: 0.5943838\ttotal: 85.8ms\tremaining: 1.82s\n",
      "45:\tlearn: 0.5868998\ttotal: 86.5ms\tremaining: 1.79s\n",
      "46:\tlearn: 0.5794758\ttotal: 87.1ms\tremaining: 1.77s\n",
      "47:\tlearn: 0.5740889\ttotal: 87.7ms\tremaining: 1.74s\n"
     ]
    },
    {
     "name": "stdout",
     "output_type": "stream",
     "text": [
      "48:\tlearn: 0.5680149\ttotal: 89ms\tremaining: 1.73s\n",
      "49:\tlearn: 0.5619018\ttotal: 90.1ms\tremaining: 1.71s\n",
      "50:\tlearn: 0.5560193\ttotal: 91ms\tremaining: 1.69s\n",
      "51:\tlearn: 0.5493027\ttotal: 91.8ms\tremaining: 1.67s\n",
      "52:\tlearn: 0.5426680\ttotal: 94.1ms\tremaining: 1.68s\n",
      "53:\tlearn: 0.5353276\ttotal: 95.1ms\tremaining: 1.67s\n",
      "54:\tlearn: 0.5305014\ttotal: 95.8ms\tremaining: 1.65s\n",
      "55:\tlearn: 0.5249563\ttotal: 96.6ms\tremaining: 1.63s\n",
      "56:\tlearn: 0.5187988\ttotal: 97.4ms\tremaining: 1.61s\n",
      "57:\tlearn: 0.5116824\ttotal: 98.1ms\tremaining: 1.59s\n",
      "58:\tlearn: 0.5044531\ttotal: 98.6ms\tremaining: 1.57s\n",
      "59:\tlearn: 0.4977575\ttotal: 99.3ms\tremaining: 1.56s\n",
      "60:\tlearn: 0.4913311\ttotal: 100ms\tremaining: 1.54s\n",
      "61:\tlearn: 0.4848336\ttotal: 101ms\tremaining: 1.53s\n",
      "62:\tlearn: 0.4797446\ttotal: 102ms\tremaining: 1.52s\n",
      "63:\tlearn: 0.4725979\ttotal: 103ms\tremaining: 1.51s\n",
      "64:\tlearn: 0.4678279\ttotal: 104ms\tremaining: 1.5s\n",
      "65:\tlearn: 0.4624523\ttotal: 105ms\tremaining: 1.49s\n",
      "66:\tlearn: 0.4570914\ttotal: 106ms\tremaining: 1.47s\n",
      "67:\tlearn: 0.4526016\ttotal: 106ms\tremaining: 1.46s\n",
      "68:\tlearn: 0.4461966\ttotal: 107ms\tremaining: 1.45s\n",
      "69:\tlearn: 0.4413511\ttotal: 108ms\tremaining: 1.44s\n",
      "70:\tlearn: 0.4371627\ttotal: 109ms\tremaining: 1.43s\n",
      "71:\tlearn: 0.4328603\ttotal: 110ms\tremaining: 1.42s\n",
      "72:\tlearn: 0.4285596\ttotal: 111ms\tremaining: 1.4s\n",
      "73:\tlearn: 0.4235919\ttotal: 111ms\tremaining: 1.39s\n",
      "74:\tlearn: 0.4183774\ttotal: 111ms\tremaining: 1.37s\n",
      "75:\tlearn: 0.4130983\ttotal: 112ms\tremaining: 1.36s\n",
      "76:\tlearn: 0.4083788\ttotal: 113ms\tremaining: 1.35s\n",
      "77:\tlearn: 0.4034686\ttotal: 114ms\tremaining: 1.34s\n",
      "78:\tlearn: 0.3987540\ttotal: 114ms\tremaining: 1.33s\n",
      "79:\tlearn: 0.3942780\ttotal: 115ms\tremaining: 1.32s\n",
      "80:\tlearn: 0.3908845\ttotal: 115ms\tremaining: 1.31s\n",
      "81:\tlearn: 0.3863890\ttotal: 116ms\tremaining: 1.3s\n",
      "82:\tlearn: 0.3815582\ttotal: 117ms\tremaining: 1.29s\n",
      "83:\tlearn: 0.3772152\ttotal: 117ms\tremaining: 1.27s\n",
      "84:\tlearn: 0.3735704\ttotal: 118ms\tremaining: 1.26s\n",
      "85:\tlearn: 0.3692133\ttotal: 118ms\tremaining: 1.26s\n",
      "86:\tlearn: 0.3658812\ttotal: 119ms\tremaining: 1.25s\n",
      "87:\tlearn: 0.3627170\ttotal: 120ms\tremaining: 1.25s\n",
      "88:\tlearn: 0.3594827\ttotal: 121ms\tremaining: 1.24s\n",
      "89:\tlearn: 0.3560567\ttotal: 121ms\tremaining: 1.23s\n",
      "90:\tlearn: 0.3531642\ttotal: 122ms\tremaining: 1.22s\n",
      "91:\tlearn: 0.3497695\ttotal: 122ms\tremaining: 1.21s\n",
      "92:\tlearn: 0.3461909\ttotal: 123ms\tremaining: 1.2s\n",
      "93:\tlearn: 0.3425425\ttotal: 123ms\tremaining: 1.19s\n",
      "94:\tlearn: 0.3390170\ttotal: 124ms\tremaining: 1.18s\n",
      "95:\tlearn: 0.3358048\ttotal: 124ms\tremaining: 1.17s\n",
      "96:\tlearn: 0.3319695\ttotal: 125ms\tremaining: 1.16s\n",
      "97:\tlearn: 0.3286241\ttotal: 125ms\tremaining: 1.15s\n",
      "98:\tlearn: 0.3243791\ttotal: 126ms\tremaining: 1.15s\n",
      "99:\tlearn: 0.3200459\ttotal: 126ms\tremaining: 1.14s\n",
      "100:\tlearn: 0.3166968\ttotal: 127ms\tremaining: 1.13s\n",
      "101:\tlearn: 0.3144915\ttotal: 127ms\tremaining: 1.12s\n",
      "102:\tlearn: 0.3116999\ttotal: 128ms\tremaining: 1.11s\n",
      "103:\tlearn: 0.3090928\ttotal: 128ms\tremaining: 1.1s\n",
      "104:\tlearn: 0.3055671\ttotal: 129ms\tremaining: 1.1s\n",
      "105:\tlearn: 0.3019002\ttotal: 129ms\tremaining: 1.09s\n",
      "106:\tlearn: 0.2986369\ttotal: 130ms\tremaining: 1.08s\n",
      "107:\tlearn: 0.2949642\ttotal: 130ms\tremaining: 1.08s\n",
      "108:\tlearn: 0.2922438\ttotal: 131ms\tremaining: 1.07s\n",
      "109:\tlearn: 0.2892019\ttotal: 131ms\tremaining: 1.06s\n",
      "110:\tlearn: 0.2869935\ttotal: 132ms\tremaining: 1.05s\n",
      "111:\tlearn: 0.2842166\ttotal: 132ms\tremaining: 1.05s\n",
      "112:\tlearn: 0.2815819\ttotal: 133ms\tremaining: 1.04s\n",
      "113:\tlearn: 0.2778321\ttotal: 133ms\tremaining: 1.03s\n",
      "114:\tlearn: 0.2748245\ttotal: 133ms\tremaining: 1.03s\n",
      "115:\tlearn: 0.2724504\ttotal: 134ms\tremaining: 1.02s\n",
      "116:\tlearn: 0.2690182\ttotal: 135ms\tremaining: 1.02s\n",
      "117:\tlearn: 0.2662674\ttotal: 135ms\tremaining: 1.01s\n",
      "118:\tlearn: 0.2636362\ttotal: 136ms\tremaining: 1.01s\n",
      "119:\tlearn: 0.2613273\ttotal: 136ms\tremaining: 1s\n",
      "120:\tlearn: 0.2580266\ttotal: 137ms\tremaining: 994ms\n",
      "121:\tlearn: 0.2558564\ttotal: 137ms\tremaining: 989ms\n",
      "122:\tlearn: 0.2538277\ttotal: 138ms\tremaining: 984ms\n",
      "123:\tlearn: 0.2518575\ttotal: 138ms\tremaining: 978ms\n",
      "124:\tlearn: 0.2504512\ttotal: 140ms\tremaining: 977ms\n",
      "125:\tlearn: 0.2482918\ttotal: 140ms\tremaining: 971ms\n",
      "126:\tlearn: 0.2457163\ttotal: 140ms\tremaining: 966ms\n",
      "127:\tlearn: 0.2436062\ttotal: 141ms\tremaining: 961ms\n",
      "128:\tlearn: 0.2417543\ttotal: 142ms\tremaining: 956ms\n",
      "129:\tlearn: 0.2395774\ttotal: 142ms\tremaining: 950ms\n",
      "130:\tlearn: 0.2378770\ttotal: 142ms\tremaining: 945ms\n",
      "131:\tlearn: 0.2362017\ttotal: 143ms\tremaining: 939ms\n",
      "132:\tlearn: 0.2338192\ttotal: 143ms\tremaining: 934ms\n",
      "133:\tlearn: 0.2315780\ttotal: 144ms\tremaining: 928ms\n",
      "134:\tlearn: 0.2297131\ttotal: 144ms\tremaining: 923ms\n",
      "135:\tlearn: 0.2280456\ttotal: 144ms\tremaining: 918ms\n",
      "136:\tlearn: 0.2261391\ttotal: 145ms\tremaining: 912ms\n",
      "137:\tlearn: 0.2244952\ttotal: 145ms\tremaining: 907ms\n",
      "138:\tlearn: 0.2223936\ttotal: 146ms\tremaining: 902ms\n",
      "139:\tlearn: 0.2208855\ttotal: 146ms\tremaining: 897ms\n",
      "140:\tlearn: 0.2188691\ttotal: 147ms\tremaining: 893ms\n",
      "141:\tlearn: 0.2167140\ttotal: 147ms\tremaining: 888ms\n",
      "142:\tlearn: 0.2150001\ttotal: 147ms\tremaining: 883ms\n",
      "143:\tlearn: 0.2128987\ttotal: 148ms\tremaining: 879ms\n",
      "144:\tlearn: 0.2109291\ttotal: 148ms\tremaining: 875ms\n",
      "145:\tlearn: 0.2084706\ttotal: 149ms\tremaining: 870ms\n",
      "146:\tlearn: 0.2064207\ttotal: 149ms\tremaining: 866ms\n",
      "147:\tlearn: 0.2047438\ttotal: 150ms\tremaining: 862ms\n",
      "148:\tlearn: 0.2029459\ttotal: 150ms\tremaining: 859ms\n"
     ]
    },
    {
     "name": "stdout",
     "output_type": "stream",
     "text": [
      "149:\tlearn: 0.2013362\ttotal: 151ms\tremaining: 856ms\n",
      "150:\tlearn: 0.1992627\ttotal: 152ms\tremaining: 852ms\n",
      "151:\tlearn: 0.1976864\ttotal: 152ms\tremaining: 848ms\n",
      "152:\tlearn: 0.1959713\ttotal: 153ms\tremaining: 844ms\n",
      "153:\tlearn: 0.1942415\ttotal: 153ms\tremaining: 841ms\n",
      "154:\tlearn: 0.1924415\ttotal: 154ms\tremaining: 837ms\n",
      "155:\tlearn: 0.1905148\ttotal: 154ms\tremaining: 833ms\n",
      "156:\tlearn: 0.1890139\ttotal: 155ms\tremaining: 830ms\n",
      "157:\tlearn: 0.1870123\ttotal: 155ms\tremaining: 826ms\n",
      "158:\tlearn: 0.1853766\ttotal: 156ms\tremaining: 823ms\n",
      "159:\tlearn: 0.1836085\ttotal: 156ms\tremaining: 819ms\n",
      "160:\tlearn: 0.1824274\ttotal: 156ms\tremaining: 816ms\n",
      "161:\tlearn: 0.1809223\ttotal: 157ms\tremaining: 812ms\n",
      "162:\tlearn: 0.1794146\ttotal: 157ms\tremaining: 809ms\n",
      "163:\tlearn: 0.1780995\ttotal: 158ms\tremaining: 806ms\n",
      "164:\tlearn: 0.1769119\ttotal: 159ms\tremaining: 802ms\n",
      "165:\tlearn: 0.1751328\ttotal: 159ms\tremaining: 798ms\n",
      "166:\tlearn: 0.1737944\ttotal: 159ms\tremaining: 795ms\n",
      "167:\tlearn: 0.1719794\ttotal: 160ms\tremaining: 791ms\n",
      "168:\tlearn: 0.1707181\ttotal: 160ms\tremaining: 788ms\n",
      "169:\tlearn: 0.1695679\ttotal: 161ms\tremaining: 784ms\n",
      "170:\tlearn: 0.1681988\ttotal: 161ms\tremaining: 782ms\n",
      "171:\tlearn: 0.1668673\ttotal: 162ms\tremaining: 780ms\n",
      "172:\tlearn: 0.1652506\ttotal: 163ms\tremaining: 777ms\n",
      "173:\tlearn: 0.1637832\ttotal: 163ms\tremaining: 774ms\n",
      "174:\tlearn: 0.1625588\ttotal: 164ms\tremaining: 772ms\n",
      "175:\tlearn: 0.1612977\ttotal: 164ms\tremaining: 770ms\n",
      "176:\tlearn: 0.1601013\ttotal: 165ms\tremaining: 767ms\n",
      "177:\tlearn: 0.1588330\ttotal: 166ms\tremaining: 765ms\n",
      "178:\tlearn: 0.1575006\ttotal: 166ms\tremaining: 763ms\n",
      "179:\tlearn: 0.1562893\ttotal: 167ms\tremaining: 761ms\n",
      "180:\tlearn: 0.1551839\ttotal: 168ms\tremaining: 758ms\n",
      "181:\tlearn: 0.1538554\ttotal: 168ms\tremaining: 756ms\n",
      "182:\tlearn: 0.1525745\ttotal: 169ms\tremaining: 754ms\n",
      "183:\tlearn: 0.1512246\ttotal: 169ms\tremaining: 751ms\n",
      "184:\tlearn: 0.1501238\ttotal: 170ms\tremaining: 748ms\n",
      "185:\tlearn: 0.1492029\ttotal: 170ms\tremaining: 745ms\n",
      "186:\tlearn: 0.1480455\ttotal: 171ms\tremaining: 742ms\n",
      "187:\tlearn: 0.1469194\ttotal: 171ms\tremaining: 740ms\n",
      "188:\tlearn: 0.1456351\ttotal: 172ms\tremaining: 737ms\n",
      "189:\tlearn: 0.1444581\ttotal: 172ms\tremaining: 735ms\n",
      "190:\tlearn: 0.1434666\ttotal: 173ms\tremaining: 733ms\n",
      "191:\tlearn: 0.1425397\ttotal: 173ms\tremaining: 730ms\n",
      "192:\tlearn: 0.1415276\ttotal: 174ms\tremaining: 727ms\n",
      "193:\tlearn: 0.1402070\ttotal: 174ms\tremaining: 724ms\n",
      "194:\tlearn: 0.1392281\ttotal: 175ms\tremaining: 721ms\n",
      "195:\tlearn: 0.1383206\ttotal: 175ms\tremaining: 718ms\n",
      "196:\tlearn: 0.1371833\ttotal: 176ms\tremaining: 716ms\n",
      "197:\tlearn: 0.1359177\ttotal: 176ms\tremaining: 713ms\n",
      "198:\tlearn: 0.1349763\ttotal: 176ms\tremaining: 710ms\n",
      "199:\tlearn: 0.1337961\ttotal: 177ms\tremaining: 707ms\n",
      "200:\tlearn: 0.1327604\ttotal: 177ms\tremaining: 704ms\n",
      "201:\tlearn: 0.1318564\ttotal: 178ms\tremaining: 703ms\n",
      "202:\tlearn: 0.1309598\ttotal: 178ms\tremaining: 700ms\n",
      "203:\tlearn: 0.1299088\ttotal: 179ms\tremaining: 697ms\n",
      "204:\tlearn: 0.1287710\ttotal: 179ms\tremaining: 694ms\n",
      "205:\tlearn: 0.1279537\ttotal: 179ms\tremaining: 692ms\n",
      "206:\tlearn: 0.1270864\ttotal: 180ms\tremaining: 690ms\n",
      "207:\tlearn: 0.1262581\ttotal: 180ms\tremaining: 687ms\n",
      "208:\tlearn: 0.1254263\ttotal: 181ms\tremaining: 685ms\n",
      "209:\tlearn: 0.1247212\ttotal: 182ms\tremaining: 683ms\n",
      "210:\tlearn: 0.1238107\ttotal: 182ms\tremaining: 680ms\n",
      "211:\tlearn: 0.1228412\ttotal: 183ms\tremaining: 679ms\n",
      "212:\tlearn: 0.1217571\ttotal: 183ms\tremaining: 676ms\n",
      "213:\tlearn: 0.1207130\ttotal: 184ms\tremaining: 675ms\n",
      "214:\tlearn: 0.1198937\ttotal: 184ms\tremaining: 673ms\n",
      "215:\tlearn: 0.1190154\ttotal: 185ms\tremaining: 670ms\n",
      "216:\tlearn: 0.1179480\ttotal: 185ms\tremaining: 668ms\n",
      "217:\tlearn: 0.1171753\ttotal: 186ms\tremaining: 666ms\n",
      "218:\tlearn: 0.1162707\ttotal: 186ms\tremaining: 664ms\n",
      "219:\tlearn: 0.1154585\ttotal: 187ms\tremaining: 662ms\n",
      "220:\tlearn: 0.1145753\ttotal: 187ms\tremaining: 660ms\n",
      "221:\tlearn: 0.1137574\ttotal: 188ms\tremaining: 658ms\n",
      "222:\tlearn: 0.1127616\ttotal: 188ms\tremaining: 656ms\n",
      "223:\tlearn: 0.1117792\ttotal: 189ms\tremaining: 654ms\n",
      "224:\tlearn: 0.1109039\ttotal: 189ms\tremaining: 651ms\n",
      "225:\tlearn: 0.1100430\ttotal: 190ms\tremaining: 650ms\n",
      "226:\tlearn: 0.1090795\ttotal: 190ms\tremaining: 648ms\n",
      "227:\tlearn: 0.1081465\ttotal: 191ms\tremaining: 645ms\n",
      "228:\tlearn: 0.1073947\ttotal: 191ms\tremaining: 643ms\n",
      "229:\tlearn: 0.1064218\ttotal: 192ms\tremaining: 641ms\n",
      "230:\tlearn: 0.1056036\ttotal: 192ms\tremaining: 639ms\n",
      "231:\tlearn: 0.1048641\ttotal: 193ms\tremaining: 639ms\n",
      "232:\tlearn: 0.1039774\ttotal: 194ms\tremaining: 637ms\n",
      "233:\tlearn: 0.1030946\ttotal: 194ms\tremaining: 635ms\n",
      "234:\tlearn: 0.1022793\ttotal: 195ms\tremaining: 633ms\n",
      "235:\tlearn: 0.1016005\ttotal: 195ms\tremaining: 631ms\n",
      "236:\tlearn: 0.1009172\ttotal: 195ms\tremaining: 629ms\n",
      "237:\tlearn: 0.1003205\ttotal: 196ms\tremaining: 627ms\n",
      "238:\tlearn: 0.0994422\ttotal: 196ms\tremaining: 625ms\n",
      "239:\tlearn: 0.0987117\ttotal: 197ms\tremaining: 623ms\n",
      "240:\tlearn: 0.0979625\ttotal: 197ms\tremaining: 621ms\n",
      "241:\tlearn: 0.0971012\ttotal: 198ms\tremaining: 619ms\n",
      "242:\tlearn: 0.0962851\ttotal: 198ms\tremaining: 617ms\n",
      "243:\tlearn: 0.0955120\ttotal: 198ms\tremaining: 615ms\n",
      "244:\tlearn: 0.0948106\ttotal: 199ms\tremaining: 613ms\n",
      "245:\tlearn: 0.0941718\ttotal: 199ms\tremaining: 611ms\n",
      "246:\tlearn: 0.0935198\ttotal: 200ms\tremaining: 609ms\n",
      "247:\tlearn: 0.0929307\ttotal: 200ms\tremaining: 607ms\n",
      "248:\tlearn: 0.0923081\ttotal: 201ms\tremaining: 606ms\n",
      "249:\tlearn: 0.0916408\ttotal: 201ms\tremaining: 604ms\n",
      "250:\tlearn: 0.0910019\ttotal: 202ms\tremaining: 602ms\n",
      "251:\tlearn: 0.0902574\ttotal: 202ms\tremaining: 601ms\n",
      "252:\tlearn: 0.0896372\ttotal: 203ms\tremaining: 599ms\n",
      "253:\tlearn: 0.0890571\ttotal: 203ms\tremaining: 597ms\n",
      "254:\tlearn: 0.0884150\ttotal: 204ms\tremaining: 595ms\n",
      "255:\tlearn: 0.0877722\ttotal: 204ms\tremaining: 594ms\n",
      "256:\tlearn: 0.0872319\ttotal: 205ms\tremaining: 592ms\n",
      "257:\tlearn: 0.0868731\ttotal: 205ms\tremaining: 590ms\n",
      "258:\tlearn: 0.0862721\ttotal: 206ms\tremaining: 588ms\n",
      "259:\tlearn: 0.0857562\ttotal: 206ms\tremaining: 587ms\n",
      "260:\tlearn: 0.0851972\ttotal: 207ms\tremaining: 585ms\n",
      "261:\tlearn: 0.0844850\ttotal: 207ms\tremaining: 583ms\n",
      "262:\tlearn: 0.0838504\ttotal: 208ms\tremaining: 582ms\n",
      "263:\tlearn: 0.0833231\ttotal: 208ms\tremaining: 580ms\n",
      "264:\tlearn: 0.0828180\ttotal: 209ms\tremaining: 579ms\n",
      "265:\tlearn: 0.0822602\ttotal: 209ms\tremaining: 577ms\n",
      "266:\tlearn: 0.0816856\ttotal: 210ms\tremaining: 576ms\n",
      "267:\tlearn: 0.0811936\ttotal: 210ms\tremaining: 574ms\n",
      "268:\tlearn: 0.0806666\ttotal: 211ms\tremaining: 572ms\n",
      "269:\tlearn: 0.0801102\ttotal: 211ms\tremaining: 571ms\n",
      "270:\tlearn: 0.0796243\ttotal: 211ms\tremaining: 569ms\n",
      "271:\tlearn: 0.0791469\ttotal: 212ms\tremaining: 568ms\n",
      "272:\tlearn: 0.0786458\ttotal: 213ms\tremaining: 566ms\n",
      "273:\tlearn: 0.0780572\ttotal: 213ms\tremaining: 565ms\n",
      "274:\tlearn: 0.0774836\ttotal: 214ms\tremaining: 563ms\n",
      "275:\tlearn: 0.0769782\ttotal: 214ms\tremaining: 561ms\n",
      "276:\tlearn: 0.0764760\ttotal: 214ms\tremaining: 560ms\n",
      "277:\tlearn: 0.0758249\ttotal: 215ms\tremaining: 558ms\n",
      "278:\tlearn: 0.0753672\ttotal: 216ms\tremaining: 557ms\n",
      "279:\tlearn: 0.0748976\ttotal: 217ms\tremaining: 557ms\n",
      "280:\tlearn: 0.0744545\ttotal: 218ms\tremaining: 557ms\n",
      "281:\tlearn: 0.0739006\ttotal: 218ms\tremaining: 555ms\n",
      "282:\tlearn: 0.0733975\ttotal: 218ms\tremaining: 554ms\n",
      "283:\tlearn: 0.0729134\ttotal: 219ms\tremaining: 552ms\n",
      "284:\tlearn: 0.0724484\ttotal: 219ms\tremaining: 550ms\n",
      "285:\tlearn: 0.0719296\ttotal: 220ms\tremaining: 549ms\n",
      "286:\tlearn: 0.0714987\ttotal: 220ms\tremaining: 547ms\n",
      "287:\tlearn: 0.0709433\ttotal: 221ms\tremaining: 546ms\n",
      "288:\tlearn: 0.0705115\ttotal: 222ms\tremaining: 545ms\n",
      "289:\tlearn: 0.0701430\ttotal: 222ms\tremaining: 544ms\n",
      "290:\tlearn: 0.0695402\ttotal: 223ms\tremaining: 544ms\n",
      "291:\tlearn: 0.0689525\ttotal: 224ms\tremaining: 543ms\n",
      "292:\tlearn: 0.0685143\ttotal: 225ms\tremaining: 542ms\n",
      "293:\tlearn: 0.0680993\ttotal: 225ms\tremaining: 541ms\n",
      "294:\tlearn: 0.0677068\ttotal: 226ms\tremaining: 540ms\n",
      "295:\tlearn: 0.0671958\ttotal: 227ms\tremaining: 540ms\n",
      "296:\tlearn: 0.0667867\ttotal: 227ms\tremaining: 538ms\n",
      "297:\tlearn: 0.0663686\ttotal: 228ms\tremaining: 537ms\n",
      "298:\tlearn: 0.0660986\ttotal: 229ms\tremaining: 536ms\n",
      "299:\tlearn: 0.0657627\ttotal: 229ms\tremaining: 535ms\n",
      "300:\tlearn: 0.0653389\ttotal: 230ms\tremaining: 533ms\n",
      "301:\tlearn: 0.0650413\ttotal: 230ms\tremaining: 532ms\n",
      "302:\tlearn: 0.0645806\ttotal: 231ms\tremaining: 530ms\n",
      "303:\tlearn: 0.0641486\ttotal: 231ms\tremaining: 529ms\n",
      "304:\tlearn: 0.0636976\ttotal: 232ms\tremaining: 528ms\n",
      "305:\tlearn: 0.0633054\ttotal: 232ms\tremaining: 527ms\n",
      "306:\tlearn: 0.0629067\ttotal: 233ms\tremaining: 525ms\n",
      "307:\tlearn: 0.0625372\ttotal: 233ms\tremaining: 524ms\n",
      "308:\tlearn: 0.0621337\ttotal: 234ms\tremaining: 522ms\n",
      "309:\tlearn: 0.0618237\ttotal: 234ms\tremaining: 521ms\n",
      "310:\tlearn: 0.0613860\ttotal: 235ms\tremaining: 521ms\n"
     ]
    },
    {
     "name": "stdout",
     "output_type": "stream",
     "text": [
      "311:\tlearn: 0.0610915\ttotal: 236ms\tremaining: 521ms\n",
      "312:\tlearn: 0.0606945\ttotal: 237ms\tremaining: 520ms\n",
      "313:\tlearn: 0.0603471\ttotal: 237ms\tremaining: 519ms\n",
      "314:\tlearn: 0.0601429\ttotal: 238ms\tremaining: 517ms\n",
      "315:\tlearn: 0.0597006\ttotal: 238ms\tremaining: 516ms\n",
      "316:\tlearn: 0.0593798\ttotal: 239ms\tremaining: 515ms\n",
      "317:\tlearn: 0.0591240\ttotal: 239ms\tremaining: 513ms\n",
      "318:\tlearn: 0.0587751\ttotal: 240ms\tremaining: 512ms\n",
      "319:\tlearn: 0.0583738\ttotal: 240ms\tremaining: 510ms\n",
      "320:\tlearn: 0.0580053\ttotal: 241ms\tremaining: 509ms\n",
      "321:\tlearn: 0.0576705\ttotal: 241ms\tremaining: 508ms\n",
      "322:\tlearn: 0.0573462\ttotal: 242ms\tremaining: 506ms\n",
      "323:\tlearn: 0.0571570\ttotal: 242ms\tremaining: 505ms\n",
      "324:\tlearn: 0.0567117\ttotal: 242ms\tremaining: 504ms\n",
      "325:\tlearn: 0.0563958\ttotal: 243ms\tremaining: 503ms\n",
      "326:\tlearn: 0.0560843\ttotal: 244ms\tremaining: 502ms\n",
      "327:\tlearn: 0.0557638\ttotal: 245ms\tremaining: 501ms\n",
      "328:\tlearn: 0.0554478\ttotal: 245ms\tremaining: 500ms\n",
      "329:\tlearn: 0.0551490\ttotal: 246ms\tremaining: 499ms\n",
      "330:\tlearn: 0.0548726\ttotal: 246ms\tremaining: 497ms\n",
      "331:\tlearn: 0.0545481\ttotal: 246ms\tremaining: 496ms\n",
      "332:\tlearn: 0.0542736\ttotal: 247ms\tremaining: 494ms\n",
      "333:\tlearn: 0.0539414\ttotal: 247ms\tremaining: 493ms\n",
      "334:\tlearn: 0.0537524\ttotal: 248ms\tremaining: 492ms\n",
      "335:\tlearn: 0.0535102\ttotal: 248ms\tremaining: 491ms\n",
      "336:\tlearn: 0.0532586\ttotal: 249ms\tremaining: 490ms\n",
      "337:\tlearn: 0.0528856\ttotal: 249ms\tremaining: 488ms\n",
      "338:\tlearn: 0.0527068\ttotal: 250ms\tremaining: 487ms\n",
      "339:\tlearn: 0.0524358\ttotal: 250ms\tremaining: 486ms\n",
      "340:\tlearn: 0.0520492\ttotal: 251ms\tremaining: 485ms\n",
      "341:\tlearn: 0.0517831\ttotal: 251ms\tremaining: 483ms\n",
      "342:\tlearn: 0.0514912\ttotal: 252ms\tremaining: 482ms\n",
      "343:\tlearn: 0.0511122\ttotal: 252ms\tremaining: 481ms\n",
      "344:\tlearn: 0.0508149\ttotal: 253ms\tremaining: 480ms\n",
      "345:\tlearn: 0.0506437\ttotal: 253ms\tremaining: 479ms\n",
      "346:\tlearn: 0.0503318\ttotal: 254ms\tremaining: 477ms\n",
      "347:\tlearn: 0.0500911\ttotal: 254ms\tremaining: 476ms\n",
      "348:\tlearn: 0.0498067\ttotal: 254ms\tremaining: 475ms\n",
      "349:\tlearn: 0.0495147\ttotal: 255ms\tremaining: 474ms\n",
      "350:\tlearn: 0.0492775\ttotal: 256ms\tremaining: 473ms\n",
      "351:\tlearn: 0.0489291\ttotal: 256ms\tremaining: 472ms\n",
      "352:\tlearn: 0.0486566\ttotal: 257ms\tremaining: 471ms\n",
      "353:\tlearn: 0.0483449\ttotal: 257ms\tremaining: 469ms\n",
      "354:\tlearn: 0.0480796\ttotal: 258ms\tremaining: 468ms\n",
      "355:\tlearn: 0.0477389\ttotal: 258ms\tremaining: 467ms\n",
      "356:\tlearn: 0.0474679\ttotal: 259ms\tremaining: 466ms\n",
      "357:\tlearn: 0.0471977\ttotal: 259ms\tremaining: 464ms\n",
      "358:\tlearn: 0.0469168\ttotal: 259ms\tremaining: 463ms\n",
      "359:\tlearn: 0.0466627\ttotal: 260ms\tremaining: 462ms\n",
      "360:\tlearn: 0.0464046\ttotal: 260ms\tremaining: 461ms\n",
      "361:\tlearn: 0.0461727\ttotal: 261ms\tremaining: 459ms\n",
      "362:\tlearn: 0.0459203\ttotal: 261ms\tremaining: 458ms\n",
      "363:\tlearn: 0.0456485\ttotal: 261ms\tremaining: 457ms\n",
      "364:\tlearn: 0.0454052\ttotal: 262ms\tremaining: 456ms\n",
      "365:\tlearn: 0.0451682\ttotal: 262ms\tremaining: 454ms\n",
      "366:\tlearn: 0.0449174\ttotal: 263ms\tremaining: 453ms\n",
      "367:\tlearn: 0.0446407\ttotal: 263ms\tremaining: 452ms\n",
      "368:\tlearn: 0.0443937\ttotal: 264ms\tremaining: 451ms\n",
      "369:\tlearn: 0.0441606\ttotal: 264ms\tremaining: 449ms\n",
      "370:\tlearn: 0.0439322\ttotal: 264ms\tremaining: 448ms\n",
      "371:\tlearn: 0.0437013\ttotal: 265ms\tremaining: 447ms\n",
      "372:\tlearn: 0.0434639\ttotal: 265ms\tremaining: 446ms\n",
      "373:\tlearn: 0.0432432\ttotal: 266ms\tremaining: 445ms\n",
      "374:\tlearn: 0.0430218\ttotal: 266ms\tremaining: 444ms\n",
      "375:\tlearn: 0.0427841\ttotal: 267ms\tremaining: 443ms\n",
      "376:\tlearn: 0.0425631\ttotal: 267ms\tremaining: 442ms\n",
      "377:\tlearn: 0.0423498\ttotal: 268ms\tremaining: 441ms\n",
      "378:\tlearn: 0.0421780\ttotal: 269ms\tremaining: 440ms\n",
      "379:\tlearn: 0.0419533\ttotal: 269ms\tremaining: 439ms\n",
      "380:\tlearn: 0.0417516\ttotal: 270ms\tremaining: 438ms\n",
      "381:\tlearn: 0.0415324\ttotal: 270ms\tremaining: 437ms\n",
      "382:\tlearn: 0.0413182\ttotal: 271ms\tremaining: 436ms\n",
      "383:\tlearn: 0.0411377\ttotal: 271ms\tremaining: 435ms\n",
      "384:\tlearn: 0.0409337\ttotal: 271ms\tremaining: 434ms\n",
      "385:\tlearn: 0.0407564\ttotal: 272ms\tremaining: 432ms\n",
      "386:\tlearn: 0.0405038\ttotal: 272ms\tremaining: 431ms\n",
      "387:\tlearn: 0.0402524\ttotal: 273ms\tremaining: 430ms\n",
      "388:\tlearn: 0.0400086\ttotal: 273ms\tremaining: 429ms\n",
      "389:\tlearn: 0.0397509\ttotal: 274ms\tremaining: 428ms\n",
      "390:\tlearn: 0.0395041\ttotal: 274ms\tremaining: 427ms\n",
      "391:\tlearn: 0.0392623\ttotal: 275ms\tremaining: 426ms\n",
      "392:\tlearn: 0.0390732\ttotal: 275ms\tremaining: 425ms\n",
      "393:\tlearn: 0.0388376\ttotal: 275ms\tremaining: 423ms\n",
      "394:\tlearn: 0.0386114\ttotal: 276ms\tremaining: 422ms\n",
      "395:\tlearn: 0.0383849\ttotal: 276ms\tremaining: 421ms\n",
      "396:\tlearn: 0.0381970\ttotal: 277ms\tremaining: 420ms\n",
      "397:\tlearn: 0.0380163\ttotal: 277ms\tremaining: 419ms\n",
      "398:\tlearn: 0.0378018\ttotal: 278ms\tremaining: 418ms\n",
      "399:\tlearn: 0.0376667\ttotal: 278ms\tremaining: 417ms\n",
      "400:\tlearn: 0.0375334\ttotal: 279ms\tremaining: 416ms\n",
      "401:\tlearn: 0.0373722\ttotal: 279ms\tremaining: 415ms\n",
      "402:\tlearn: 0.0371958\ttotal: 279ms\tremaining: 414ms\n",
      "403:\tlearn: 0.0370669\ttotal: 280ms\tremaining: 413ms\n",
      "404:\tlearn: 0.0369106\ttotal: 280ms\tremaining: 412ms\n",
      "405:\tlearn: 0.0367566\ttotal: 281ms\tremaining: 411ms\n",
      "406:\tlearn: 0.0365495\ttotal: 281ms\tremaining: 410ms\n",
      "407:\tlearn: 0.0363931\ttotal: 282ms\tremaining: 409ms\n",
      "408:\tlearn: 0.0362844\ttotal: 282ms\tremaining: 408ms\n",
      "409:\tlearn: 0.0360833\ttotal: 283ms\tremaining: 407ms\n",
      "410:\tlearn: 0.0359645\ttotal: 283ms\tremaining: 406ms\n",
      "411:\tlearn: 0.0357684\ttotal: 284ms\tremaining: 405ms\n",
      "412:\tlearn: 0.0355763\ttotal: 284ms\tremaining: 404ms\n",
      "413:\tlearn: 0.0354612\ttotal: 285ms\tremaining: 403ms\n",
      "414:\tlearn: 0.0353480\ttotal: 285ms\tremaining: 402ms\n",
      "415:\tlearn: 0.0351615\ttotal: 285ms\tremaining: 401ms\n",
      "416:\tlearn: 0.0350204\ttotal: 286ms\tremaining: 400ms\n",
      "417:\tlearn: 0.0349106\ttotal: 286ms\tremaining: 398ms\n",
      "418:\tlearn: 0.0347299\ttotal: 287ms\tremaining: 397ms\n",
      "419:\tlearn: 0.0346173\ttotal: 287ms\tremaining: 396ms\n",
      "420:\tlearn: 0.0344573\ttotal: 287ms\tremaining: 395ms\n",
      "421:\tlearn: 0.0343468\ttotal: 288ms\tremaining: 394ms\n",
      "422:\tlearn: 0.0341619\ttotal: 289ms\tremaining: 394ms\n",
      "423:\tlearn: 0.0340543\ttotal: 289ms\tremaining: 393ms\n",
      "424:\tlearn: 0.0338674\ttotal: 290ms\tremaining: 392ms\n",
      "425:\tlearn: 0.0337736\ttotal: 290ms\tremaining: 391ms\n",
      "426:\tlearn: 0.0336811\ttotal: 291ms\tremaining: 391ms\n",
      "427:\tlearn: 0.0334924\ttotal: 292ms\tremaining: 390ms\n",
      "428:\tlearn: 0.0333263\ttotal: 292ms\tremaining: 389ms\n",
      "429:\tlearn: 0.0331788\ttotal: 293ms\tremaining: 388ms\n",
      "430:\tlearn: 0.0330012\ttotal: 293ms\tremaining: 387ms\n",
      "431:\tlearn: 0.0329133\ttotal: 294ms\tremaining: 386ms\n",
      "432:\tlearn: 0.0328266\ttotal: 294ms\tremaining: 386ms\n",
      "433:\tlearn: 0.0326622\ttotal: 295ms\tremaining: 385ms\n",
      "434:\tlearn: 0.0324720\ttotal: 295ms\tremaining: 384ms\n",
      "435:\tlearn: 0.0323315\ttotal: 296ms\tremaining: 383ms\n",
      "436:\tlearn: 0.0321730\ttotal: 297ms\tremaining: 383ms\n",
      "437:\tlearn: 0.0320371\ttotal: 298ms\tremaining: 382ms\n",
      "438:\tlearn: 0.0318524\ttotal: 299ms\tremaining: 382ms\n",
      "439:\tlearn: 0.0316715\ttotal: 299ms\tremaining: 381ms\n",
      "440:\tlearn: 0.0315390\ttotal: 299ms\tremaining: 380ms\n",
      "441:\tlearn: 0.0313632\ttotal: 300ms\tremaining: 379ms\n",
      "442:\tlearn: 0.0311873\ttotal: 300ms\tremaining: 377ms\n",
      "443:\tlearn: 0.0310591\ttotal: 301ms\tremaining: 377ms\n",
      "444:\tlearn: 0.0308872\ttotal: 301ms\tremaining: 375ms\n",
      "445:\tlearn: 0.0307167\ttotal: 301ms\tremaining: 374ms\n",
      "446:\tlearn: 0.0305716\ttotal: 302ms\tremaining: 373ms\n",
      "447:\tlearn: 0.0304486\ttotal: 302ms\tremaining: 372ms\n",
      "448:\tlearn: 0.0302826\ttotal: 303ms\tremaining: 371ms\n",
      "449:\tlearn: 0.0301625\ttotal: 303ms\tremaining: 371ms\n",
      "450:\tlearn: 0.0299841\ttotal: 304ms\tremaining: 370ms\n",
      "451:\tlearn: 0.0298673\ttotal: 304ms\tremaining: 369ms\n",
      "452:\tlearn: 0.0297583\ttotal: 305ms\tremaining: 368ms\n",
      "453:\tlearn: 0.0296515\ttotal: 305ms\tremaining: 367ms\n",
      "454:\tlearn: 0.0295389\ttotal: 305ms\tremaining: 366ms\n",
      "455:\tlearn: 0.0294080\ttotal: 306ms\tremaining: 365ms\n",
      "456:\tlearn: 0.0292990\ttotal: 306ms\tremaining: 364ms\n",
      "457:\tlearn: 0.0291338\ttotal: 307ms\tremaining: 363ms\n",
      "458:\tlearn: 0.0290278\ttotal: 307ms\tremaining: 362ms\n",
      "459:\tlearn: 0.0288667\ttotal: 308ms\tremaining: 361ms\n",
      "460:\tlearn: 0.0286950\ttotal: 308ms\tremaining: 360ms\n",
      "461:\tlearn: 0.0285509\ttotal: 309ms\tremaining: 360ms\n",
      "462:\tlearn: 0.0284102\ttotal: 309ms\tremaining: 359ms\n",
      "463:\tlearn: 0.0282584\ttotal: 310ms\tremaining: 358ms\n",
      "464:\tlearn: 0.0281526\ttotal: 311ms\tremaining: 357ms\n",
      "465:\tlearn: 0.0280605\ttotal: 311ms\tremaining: 357ms\n",
      "466:\tlearn: 0.0279089\ttotal: 312ms\tremaining: 356ms\n",
      "467:\tlearn: 0.0278114\ttotal: 313ms\tremaining: 355ms\n",
      "468:\tlearn: 0.0276636\ttotal: 313ms\tremaining: 355ms\n",
      "469:\tlearn: 0.0275499\ttotal: 314ms\tremaining: 354ms\n",
      "470:\tlearn: 0.0274513\ttotal: 314ms\tremaining: 353ms\n",
      "471:\tlearn: 0.0273655\ttotal: 315ms\tremaining: 352ms\n",
      "472:\tlearn: 0.0272826\ttotal: 316ms\tremaining: 352ms\n",
      "473:\tlearn: 0.0272007\ttotal: 316ms\tremaining: 351ms\n",
      "474:\tlearn: 0.0271204\ttotal: 317ms\tremaining: 350ms\n",
      "475:\tlearn: 0.0270418\ttotal: 318ms\tremaining: 350ms\n",
      "476:\tlearn: 0.0269829\ttotal: 319ms\tremaining: 350ms\n",
      "477:\tlearn: 0.0268822\ttotal: 320ms\tremaining: 349ms\n",
      "478:\tlearn: 0.0267668\ttotal: 320ms\tremaining: 348ms\n",
      "479:\tlearn: 0.0266683\ttotal: 321ms\tremaining: 348ms\n",
      "480:\tlearn: 0.0265258\ttotal: 321ms\tremaining: 347ms\n",
      "481:\tlearn: 0.0264554\ttotal: 322ms\tremaining: 346ms\n",
      "482:\tlearn: 0.0264001\ttotal: 322ms\tremaining: 345ms\n",
      "483:\tlearn: 0.0263456\ttotal: 323ms\tremaining: 344ms\n",
      "484:\tlearn: 0.0262932\ttotal: 323ms\tremaining: 343ms\n",
      "485:\tlearn: 0.0262259\ttotal: 324ms\tremaining: 343ms\n",
      "486:\tlearn: 0.0260719\ttotal: 324ms\tremaining: 342ms\n",
      "487:\tlearn: 0.0260134\ttotal: 325ms\tremaining: 341ms\n",
      "488:\tlearn: 0.0258776\ttotal: 325ms\tremaining: 340ms\n",
      "489:\tlearn: 0.0258200\ttotal: 326ms\tremaining: 339ms\n",
      "490:\tlearn: 0.0257549\ttotal: 326ms\tremaining: 338ms\n",
      "491:\tlearn: 0.0256983\ttotal: 327ms\tremaining: 337ms\n",
      "492:\tlearn: 0.0255656\ttotal: 327ms\tremaining: 336ms\n",
      "493:\tlearn: 0.0255103\ttotal: 328ms\tremaining: 336ms\n",
      "494:\tlearn: 0.0254606\ttotal: 328ms\tremaining: 335ms\n",
      "495:\tlearn: 0.0254064\ttotal: 328ms\tremaining: 334ms\n",
      "496:\tlearn: 0.0253471\ttotal: 329ms\tremaining: 333ms\n",
      "497:\tlearn: 0.0252850\ttotal: 329ms\tremaining: 332ms\n",
      "498:\tlearn: 0.0252319\ttotal: 330ms\tremaining: 331ms\n"
     ]
    },
    {
     "name": "stdout",
     "output_type": "stream",
     "text": [
      "499:\tlearn: 0.0251035\ttotal: 332ms\tremaining: 332ms\n",
      "500:\tlearn: 0.0250512\ttotal: 332ms\tremaining: 331ms\n",
      "501:\tlearn: 0.0249997\ttotal: 333ms\tremaining: 330ms\n",
      "502:\tlearn: 0.0249377\ttotal: 333ms\tremaining: 329ms\n",
      "503:\tlearn: 0.0248873\ttotal: 334ms\tremaining: 328ms\n",
      "504:\tlearn: 0.0247627\ttotal: 334ms\tremaining: 328ms\n",
      "505:\tlearn: 0.0247131\ttotal: 335ms\tremaining: 327ms\n",
      "506:\tlearn: 0.0246700\ttotal: 335ms\tremaining: 326ms\n",
      "507:\tlearn: 0.0245486\ttotal: 336ms\tremaining: 325ms\n",
      "508:\tlearn: 0.0245065\ttotal: 336ms\tremaining: 324ms\n",
      "509:\tlearn: 0.0244649\ttotal: 337ms\tremaining: 324ms\n",
      "510:\tlearn: 0.0243858\ttotal: 337ms\tremaining: 323ms\n",
      "511:\tlearn: 0.0243450\ttotal: 338ms\tremaining: 322ms\n",
      "512:\tlearn: 0.0242396\ttotal: 339ms\tremaining: 321ms\n",
      "513:\tlearn: 0.0241225\ttotal: 339ms\tremaining: 320ms\n",
      "514:\tlearn: 0.0239922\ttotal: 339ms\tremaining: 320ms\n",
      "515:\tlearn: 0.0239088\ttotal: 340ms\tremaining: 319ms\n",
      "516:\tlearn: 0.0238194\ttotal: 341ms\tremaining: 319ms\n",
      "517:\tlearn: 0.0237287\ttotal: 342ms\tremaining: 318ms\n",
      "518:\tlearn: 0.0236395\ttotal: 343ms\tremaining: 318ms\n",
      "519:\tlearn: 0.0235280\ttotal: 343ms\tremaining: 317ms\n",
      "520:\tlearn: 0.0234032\ttotal: 344ms\tremaining: 317ms\n",
      "521:\tlearn: 0.0233189\ttotal: 345ms\tremaining: 316ms\n",
      "522:\tlearn: 0.0232331\ttotal: 345ms\tremaining: 315ms\n",
      "523:\tlearn: 0.0231527\ttotal: 346ms\tremaining: 314ms\n",
      "524:\tlearn: 0.0230686\ttotal: 346ms\tremaining: 313ms\n",
      "525:\tlearn: 0.0229710\ttotal: 347ms\tremaining: 312ms\n",
      "526:\tlearn: 0.0228889\ttotal: 347ms\tremaining: 311ms\n",
      "527:\tlearn: 0.0227934\ttotal: 347ms\tremaining: 310ms\n",
      "528:\tlearn: 0.0227130\ttotal: 348ms\tremaining: 310ms\n",
      "529:\tlearn: 0.0226096\ttotal: 348ms\tremaining: 309ms\n",
      "530:\tlearn: 0.0224847\ttotal: 348ms\tremaining: 308ms\n",
      "531:\tlearn: 0.0223966\ttotal: 349ms\tremaining: 307ms\n",
      "532:\tlearn: 0.0223094\ttotal: 350ms\tremaining: 306ms\n",
      "533:\tlearn: 0.0222326\ttotal: 350ms\tremaining: 306ms\n",
      "534:\tlearn: 0.0221567\ttotal: 351ms\tremaining: 305ms\n",
      "535:\tlearn: 0.0220362\ttotal: 351ms\tremaining: 304ms\n",
      "536:\tlearn: 0.0219617\ttotal: 352ms\tremaining: 303ms\n",
      "537:\tlearn: 0.0218887\ttotal: 352ms\tremaining: 302ms\n",
      "538:\tlearn: 0.0217713\ttotal: 352ms\tremaining: 301ms\n",
      "539:\tlearn: 0.0216852\ttotal: 353ms\tremaining: 300ms\n",
      "540:\tlearn: 0.0215698\ttotal: 353ms\tremaining: 300ms\n",
      "541:\tlearn: 0.0214964\ttotal: 353ms\tremaining: 299ms\n",
      "542:\tlearn: 0.0214125\ttotal: 354ms\tremaining: 298ms\n",
      "543:\tlearn: 0.0213006\ttotal: 354ms\tremaining: 297ms\n",
      "544:\tlearn: 0.0212186\ttotal: 355ms\tremaining: 296ms\n",
      "545:\tlearn: 0.0210922\ttotal: 355ms\tremaining: 295ms\n",
      "546:\tlearn: 0.0209866\ttotal: 356ms\tremaining: 294ms\n",
      "547:\tlearn: 0.0209278\ttotal: 356ms\tremaining: 294ms\n",
      "548:\tlearn: 0.0208202\ttotal: 357ms\tremaining: 293ms\n",
      "549:\tlearn: 0.0207143\ttotal: 357ms\tremaining: 292ms\n",
      "550:\tlearn: 0.0206364\ttotal: 358ms\tremaining: 292ms\n",
      "551:\tlearn: 0.0205170\ttotal: 358ms\tremaining: 291ms\n",
      "552:\tlearn: 0.0204471\ttotal: 359ms\tremaining: 290ms\n",
      "553:\tlearn: 0.0203704\ttotal: 359ms\tremaining: 289ms\n",
      "554:\tlearn: 0.0202686\ttotal: 360ms\tremaining: 288ms\n",
      "555:\tlearn: 0.0201936\ttotal: 360ms\tremaining: 288ms\n",
      "556:\tlearn: 0.0200942\ttotal: 361ms\tremaining: 287ms\n",
      "557:\tlearn: 0.0200211\ttotal: 361ms\tremaining: 286ms\n",
      "558:\tlearn: 0.0199127\ttotal: 362ms\tremaining: 285ms\n",
      "559:\tlearn: 0.0198045\ttotal: 362ms\tremaining: 284ms\n",
      "560:\tlearn: 0.0197150\ttotal: 362ms\tremaining: 284ms\n",
      "561:\tlearn: 0.0196048\ttotal: 363ms\tremaining: 283ms\n",
      "562:\tlearn: 0.0195100\ttotal: 363ms\tremaining: 282ms\n",
      "563:\tlearn: 0.0194028\ttotal: 363ms\tremaining: 281ms\n",
      "564:\tlearn: 0.0193182\ttotal: 364ms\tremaining: 280ms\n",
      "565:\tlearn: 0.0192524\ttotal: 364ms\tremaining: 279ms\n",
      "566:\tlearn: 0.0191708\ttotal: 365ms\tremaining: 278ms\n",
      "567:\tlearn: 0.0191219\ttotal: 365ms\tremaining: 278ms\n",
      "568:\tlearn: 0.0190703\ttotal: 366ms\tremaining: 277ms\n",
      "569:\tlearn: 0.0189717\ttotal: 366ms\tremaining: 276ms\n",
      "570:\tlearn: 0.0189203\ttotal: 367ms\tremaining: 276ms\n",
      "571:\tlearn: 0.0188168\ttotal: 367ms\tremaining: 275ms\n",
      "572:\tlearn: 0.0187669\ttotal: 368ms\tremaining: 274ms\n",
      "573:\tlearn: 0.0186792\ttotal: 369ms\tremaining: 273ms\n",
      "574:\tlearn: 0.0185909\ttotal: 369ms\tremaining: 273ms\n",
      "575:\tlearn: 0.0185057\ttotal: 370ms\tremaining: 272ms\n",
      "576:\tlearn: 0.0184059\ttotal: 371ms\tremaining: 272ms\n",
      "577:\tlearn: 0.0183228\ttotal: 372ms\tremaining: 271ms\n",
      "578:\tlearn: 0.0182747\ttotal: 372ms\tremaining: 271ms\n",
      "579:\tlearn: 0.0181923\ttotal: 373ms\tremaining: 270ms\n",
      "580:\tlearn: 0.0181149\ttotal: 373ms\tremaining: 269ms\n",
      "581:\tlearn: 0.0180337\ttotal: 374ms\tremaining: 268ms\n",
      "582:\tlearn: 0.0179373\ttotal: 374ms\tremaining: 268ms\n",
      "583:\tlearn: 0.0178461\ttotal: 375ms\tremaining: 267ms\n",
      "584:\tlearn: 0.0177543\ttotal: 376ms\tremaining: 267ms\n",
      "585:\tlearn: 0.0176755\ttotal: 377ms\tremaining: 266ms\n",
      "586:\tlearn: 0.0176032\ttotal: 377ms\tremaining: 265ms\n",
      "587:\tlearn: 0.0175141\ttotal: 378ms\tremaining: 265ms\n",
      "588:\tlearn: 0.0174547\ttotal: 378ms\tremaining: 264ms\n",
      "589:\tlearn: 0.0173965\ttotal: 379ms\tremaining: 264ms\n",
      "590:\tlearn: 0.0173401\ttotal: 380ms\tremaining: 263ms\n",
      "591:\tlearn: 0.0172627\ttotal: 380ms\tremaining: 262ms\n",
      "592:\tlearn: 0.0171766\ttotal: 381ms\tremaining: 261ms\n",
      "593:\tlearn: 0.0170927\ttotal: 381ms\tremaining: 261ms\n",
      "594:\tlearn: 0.0170099\ttotal: 382ms\tremaining: 260ms\n",
      "595:\tlearn: 0.0169349\ttotal: 383ms\tremaining: 259ms\n",
      "596:\tlearn: 0.0168434\ttotal: 383ms\tremaining: 259ms\n",
      "597:\tlearn: 0.0167697\ttotal: 384ms\tremaining: 258ms\n",
      "598:\tlearn: 0.0166867\ttotal: 384ms\tremaining: 257ms\n",
      "599:\tlearn: 0.0166069\ttotal: 385ms\tremaining: 257ms\n",
      "600:\tlearn: 0.0165352\ttotal: 386ms\tremaining: 256ms\n",
      "601:\tlearn: 0.0164469\ttotal: 386ms\tremaining: 255ms\n",
      "602:\tlearn: 0.0163664\ttotal: 387ms\tremaining: 255ms\n",
      "603:\tlearn: 0.0162898\ttotal: 388ms\tremaining: 254ms\n",
      "604:\tlearn: 0.0162202\ttotal: 388ms\tremaining: 254ms\n",
      "605:\tlearn: 0.0161361\ttotal: 389ms\tremaining: 253ms\n",
      "606:\tlearn: 0.0160809\ttotal: 390ms\tremaining: 252ms\n",
      "607:\tlearn: 0.0160272\ttotal: 390ms\tremaining: 252ms\n",
      "608:\tlearn: 0.0159748\ttotal: 391ms\tremaining: 251ms\n",
      "609:\tlearn: 0.0159294\ttotal: 391ms\tremaining: 250ms\n",
      "610:\tlearn: 0.0158515\ttotal: 392ms\tremaining: 250ms\n",
      "611:\tlearn: 0.0157786\ttotal: 393ms\tremaining: 249ms\n",
      "612:\tlearn: 0.0157345\ttotal: 393ms\tremaining: 248ms\n",
      "613:\tlearn: 0.0156570\ttotal: 394ms\tremaining: 248ms\n",
      "614:\tlearn: 0.0156019\ttotal: 394ms\tremaining: 247ms\n",
      "615:\tlearn: 0.0155271\ttotal: 395ms\tremaining: 246ms\n",
      "616:\tlearn: 0.0154581\ttotal: 396ms\tremaining: 246ms\n",
      "617:\tlearn: 0.0153978\ttotal: 397ms\tremaining: 245ms\n",
      "618:\tlearn: 0.0153333\ttotal: 397ms\tremaining: 245ms\n",
      "619:\tlearn: 0.0152605\ttotal: 398ms\tremaining: 244ms\n",
      "620:\tlearn: 0.0151974\ttotal: 398ms\tremaining: 243ms\n",
      "621:\tlearn: 0.0151430\ttotal: 399ms\tremaining: 242ms\n",
      "622:\tlearn: 0.0150827\ttotal: 399ms\tremaining: 242ms\n",
      "623:\tlearn: 0.0150354\ttotal: 400ms\tremaining: 241ms\n",
      "624:\tlearn: 0.0149816\ttotal: 400ms\tremaining: 240ms\n",
      "625:\tlearn: 0.0149108\ttotal: 401ms\tremaining: 240ms\n",
      "626:\tlearn: 0.0148396\ttotal: 402ms\tremaining: 239ms\n",
      "627:\tlearn: 0.0147828\ttotal: 402ms\tremaining: 238ms\n",
      "628:\tlearn: 0.0147088\ttotal: 403ms\tremaining: 238ms\n",
      "629:\tlearn: 0.0146574\ttotal: 404ms\tremaining: 237ms\n",
      "630:\tlearn: 0.0146083\ttotal: 404ms\tremaining: 236ms\n",
      "631:\tlearn: 0.0145532\ttotal: 405ms\tremaining: 236ms\n",
      "632:\tlearn: 0.0144824\ttotal: 405ms\tremaining: 235ms\n",
      "633:\tlearn: 0.0144266\ttotal: 406ms\tremaining: 234ms\n",
      "634:\tlearn: 0.0143834\ttotal: 407ms\tremaining: 234ms\n",
      "635:\tlearn: 0.0143299\ttotal: 408ms\tremaining: 234ms\n",
      "636:\tlearn: 0.0142612\ttotal: 409ms\tremaining: 233ms\n",
      "637:\tlearn: 0.0142070\ttotal: 410ms\tremaining: 233ms\n",
      "638:\tlearn: 0.0141402\ttotal: 410ms\tremaining: 232ms\n",
      "639:\tlearn: 0.0140820\ttotal: 411ms\tremaining: 231ms\n",
      "640:\tlearn: 0.0140473\ttotal: 411ms\tremaining: 230ms\n",
      "641:\tlearn: 0.0139791\ttotal: 411ms\tremaining: 229ms\n",
      "642:\tlearn: 0.0139245\ttotal: 412ms\tremaining: 229ms\n",
      "643:\tlearn: 0.0138664\ttotal: 412ms\tremaining: 228ms\n",
      "644:\tlearn: 0.0138023\ttotal: 412ms\tremaining: 227ms\n",
      "645:\tlearn: 0.0137487\ttotal: 413ms\tremaining: 226ms\n",
      "646:\tlearn: 0.0136958\ttotal: 413ms\tremaining: 225ms\n",
      "647:\tlearn: 0.0136325\ttotal: 414ms\tremaining: 225ms\n",
      "648:\tlearn: 0.0135823\ttotal: 414ms\tremaining: 224ms\n"
     ]
    },
    {
     "name": "stdout",
     "output_type": "stream",
     "text": [
      "649:\tlearn: 0.0135332\ttotal: 415ms\tremaining: 223ms\n",
      "650:\tlearn: 0.0134832\ttotal: 416ms\tremaining: 223ms\n",
      "651:\tlearn: 0.0134342\ttotal: 417ms\tremaining: 222ms\n",
      "652:\tlearn: 0.0133931\ttotal: 417ms\tremaining: 222ms\n",
      "653:\tlearn: 0.0133449\ttotal: 418ms\tremaining: 221ms\n",
      "654:\tlearn: 0.0133047\ttotal: 418ms\tremaining: 220ms\n",
      "655:\tlearn: 0.0132571\ttotal: 419ms\tremaining: 220ms\n",
      "656:\tlearn: 0.0132098\ttotal: 420ms\tremaining: 219ms\n",
      "657:\tlearn: 0.0131590\ttotal: 420ms\tremaining: 218ms\n",
      "658:\tlearn: 0.0130937\ttotal: 421ms\tremaining: 218ms\n",
      "659:\tlearn: 0.0130261\ttotal: 421ms\tremaining: 217ms\n",
      "660:\tlearn: 0.0129801\ttotal: 422ms\tremaining: 216ms\n",
      "661:\tlearn: 0.0129223\ttotal: 422ms\tremaining: 215ms\n",
      "662:\tlearn: 0.0128658\ttotal: 422ms\tremaining: 215ms\n",
      "663:\tlearn: 0.0128270\ttotal: 423ms\tremaining: 214ms\n",
      "664:\tlearn: 0.0127631\ttotal: 423ms\tremaining: 213ms\n",
      "665:\tlearn: 0.0127121\ttotal: 424ms\tremaining: 213ms\n",
      "666:\tlearn: 0.0126686\ttotal: 424ms\tremaining: 212ms\n",
      "667:\tlearn: 0.0126190\ttotal: 425ms\tremaining: 211ms\n",
      "668:\tlearn: 0.0125749\ttotal: 426ms\tremaining: 211ms\n",
      "669:\tlearn: 0.0125327\ttotal: 427ms\tremaining: 210ms\n",
      "670:\tlearn: 0.0124896\ttotal: 427ms\tremaining: 210ms\n",
      "671:\tlearn: 0.0124443\ttotal: 428ms\tremaining: 209ms\n",
      "672:\tlearn: 0.0124034\ttotal: 429ms\tremaining: 208ms\n",
      "673:\tlearn: 0.0123554\ttotal: 429ms\tremaining: 208ms\n",
      "674:\tlearn: 0.0123249\ttotal: 430ms\tremaining: 207ms\n",
      "675:\tlearn: 0.0122850\ttotal: 430ms\tremaining: 206ms\n",
      "676:\tlearn: 0.0122456\ttotal: 431ms\tremaining: 206ms\n",
      "677:\tlearn: 0.0122067\ttotal: 431ms\tremaining: 205ms\n",
      "678:\tlearn: 0.0121710\ttotal: 432ms\tremaining: 204ms\n",
      "679:\tlearn: 0.0121411\ttotal: 432ms\tremaining: 203ms\n",
      "680:\tlearn: 0.0121032\ttotal: 432ms\tremaining: 203ms\n",
      "681:\tlearn: 0.0120573\ttotal: 433ms\tremaining: 202ms\n",
      "682:\tlearn: 0.0120254\ttotal: 433ms\tremaining: 201ms\n",
      "683:\tlearn: 0.0119884\ttotal: 434ms\tremaining: 200ms\n",
      "684:\tlearn: 0.0119594\ttotal: 434ms\tremaining: 200ms\n",
      "685:\tlearn: 0.0119257\ttotal: 434ms\tremaining: 199ms\n",
      "686:\tlearn: 0.0118848\ttotal: 435ms\tremaining: 198ms\n",
      "687:\tlearn: 0.0118492\ttotal: 435ms\tremaining: 197ms\n",
      "688:\tlearn: 0.0118051\ttotal: 436ms\tremaining: 197ms\n",
      "689:\tlearn: 0.0117742\ttotal: 436ms\tremaining: 196ms\n",
      "690:\tlearn: 0.0117395\ttotal: 436ms\tremaining: 195ms\n",
      "691:\tlearn: 0.0116998\ttotal: 437ms\tremaining: 194ms\n",
      "692:\tlearn: 0.0116619\ttotal: 437ms\tremaining: 194ms\n",
      "693:\tlearn: 0.0116280\ttotal: 437ms\tremaining: 193ms\n",
      "694:\tlearn: 0.0115977\ttotal: 438ms\tremaining: 192ms\n",
      "695:\tlearn: 0.0115665\ttotal: 438ms\tremaining: 191ms\n",
      "696:\tlearn: 0.0115286\ttotal: 439ms\tremaining: 191ms\n",
      "697:\tlearn: 0.0114970\ttotal: 439ms\tremaining: 190ms\n",
      "698:\tlearn: 0.0114644\ttotal: 440ms\tremaining: 189ms\n",
      "699:\tlearn: 0.0114404\ttotal: 440ms\tremaining: 189ms\n",
      "700:\tlearn: 0.0114206\ttotal: 441ms\tremaining: 188ms\n",
      "701:\tlearn: 0.0113908\ttotal: 441ms\tremaining: 187ms\n",
      "702:\tlearn: 0.0113537\ttotal: 442ms\tremaining: 187ms\n",
      "703:\tlearn: 0.0113304\ttotal: 442ms\tremaining: 186ms\n",
      "704:\tlearn: 0.0112941\ttotal: 443ms\tremaining: 185ms\n",
      "705:\tlearn: 0.0112502\ttotal: 443ms\tremaining: 184ms\n",
      "706:\tlearn: 0.0112094\ttotal: 443ms\tremaining: 184ms\n",
      "707:\tlearn: 0.0111740\ttotal: 444ms\tremaining: 183ms\n",
      "708:\tlearn: 0.0111342\ttotal: 445ms\tremaining: 183ms\n",
      "709:\tlearn: 0.0111049\ttotal: 445ms\tremaining: 182ms\n",
      "710:\tlearn: 0.0110702\ttotal: 446ms\tremaining: 181ms\n",
      "711:\tlearn: 0.0110290\ttotal: 446ms\tremaining: 181ms\n",
      "712:\tlearn: 0.0110003\ttotal: 447ms\tremaining: 180ms\n",
      "713:\tlearn: 0.0109641\ttotal: 447ms\tremaining: 179ms\n",
      "714:\tlearn: 0.0109366\ttotal: 448ms\tremaining: 179ms\n",
      "715:\tlearn: 0.0109002\ttotal: 449ms\tremaining: 178ms\n",
      "716:\tlearn: 0.0108644\ttotal: 449ms\tremaining: 177ms\n",
      "717:\tlearn: 0.0108306\ttotal: 450ms\tremaining: 177ms\n",
      "718:\tlearn: 0.0107935\ttotal: 450ms\tremaining: 176ms\n",
      "719:\tlearn: 0.0107585\ttotal: 451ms\tremaining: 175ms\n",
      "720:\tlearn: 0.0107264\ttotal: 451ms\tremaining: 175ms\n",
      "721:\tlearn: 0.0106892\ttotal: 452ms\tremaining: 174ms\n",
      "722:\tlearn: 0.0106578\ttotal: 452ms\tremaining: 173ms\n",
      "723:\tlearn: 0.0106321\ttotal: 453ms\tremaining: 173ms\n",
      "724:\tlearn: 0.0105944\ttotal: 453ms\tremaining: 172ms\n",
      "725:\tlearn: 0.0105629\ttotal: 453ms\tremaining: 171ms\n",
      "726:\tlearn: 0.0105293\ttotal: 454ms\tremaining: 170ms\n",
      "727:\tlearn: 0.0104819\ttotal: 455ms\tremaining: 170ms\n",
      "728:\tlearn: 0.0104590\ttotal: 455ms\tremaining: 169ms\n",
      "729:\tlearn: 0.0104247\ttotal: 456ms\tremaining: 169ms\n",
      "730:\tlearn: 0.0103798\ttotal: 456ms\tremaining: 168ms\n",
      "731:\tlearn: 0.0103485\ttotal: 457ms\tremaining: 167ms\n",
      "732:\tlearn: 0.0103045\ttotal: 457ms\tremaining: 166ms\n",
      "733:\tlearn: 0.0102567\ttotal: 457ms\tremaining: 166ms\n",
      "734:\tlearn: 0.0101978\ttotal: 458ms\tremaining: 165ms\n",
      "735:\tlearn: 0.0101552\ttotal: 458ms\tremaining: 164ms\n",
      "736:\tlearn: 0.0101333\ttotal: 458ms\tremaining: 164ms\n",
      "737:\tlearn: 0.0100762\ttotal: 459ms\tremaining: 163ms\n",
      "738:\tlearn: 0.0100305\ttotal: 460ms\tremaining: 162ms\n",
      "739:\tlearn: 0.0100010\ttotal: 460ms\tremaining: 162ms\n",
      "740:\tlearn: 0.0099593\ttotal: 461ms\tremaining: 161ms\n",
      "741:\tlearn: 0.0099040\ttotal: 461ms\tremaining: 160ms\n",
      "742:\tlearn: 0.0098786\ttotal: 461ms\tremaining: 160ms\n",
      "743:\tlearn: 0.0098380\ttotal: 462ms\tremaining: 159ms\n",
      "744:\tlearn: 0.0097981\ttotal: 462ms\tremaining: 158ms\n",
      "745:\tlearn: 0.0097549\ttotal: 463ms\tremaining: 158ms\n",
      "746:\tlearn: 0.0097342\ttotal: 463ms\tremaining: 157ms\n",
      "747:\tlearn: 0.0097020\ttotal: 464ms\tremaining: 156ms\n",
      "748:\tlearn: 0.0096600\ttotal: 464ms\tremaining: 156ms\n",
      "749:\tlearn: 0.0096399\ttotal: 465ms\tremaining: 155ms\n",
      "750:\tlearn: 0.0095869\ttotal: 465ms\tremaining: 154ms\n",
      "751:\tlearn: 0.0095555\ttotal: 466ms\tremaining: 154ms\n",
      "752:\tlearn: 0.0095149\ttotal: 466ms\tremaining: 153ms\n",
      "753:\tlearn: 0.0094952\ttotal: 467ms\tremaining: 152ms\n",
      "754:\tlearn: 0.0094758\ttotal: 467ms\tremaining: 152ms\n",
      "755:\tlearn: 0.0094243\ttotal: 468ms\tremaining: 151ms\n",
      "756:\tlearn: 0.0093777\ttotal: 468ms\tremaining: 150ms\n",
      "757:\tlearn: 0.0093581\ttotal: 469ms\tremaining: 150ms\n",
      "758:\tlearn: 0.0093393\ttotal: 470ms\tremaining: 149ms\n",
      "759:\tlearn: 0.0092899\ttotal: 470ms\tremaining: 149ms\n",
      "760:\tlearn: 0.0092609\ttotal: 471ms\tremaining: 148ms\n",
      "761:\tlearn: 0.0092338\ttotal: 472ms\tremaining: 147ms\n",
      "762:\tlearn: 0.0091984\ttotal: 473ms\tremaining: 147ms\n",
      "763:\tlearn: 0.0091548\ttotal: 474ms\tremaining: 146ms\n",
      "764:\tlearn: 0.0091262\ttotal: 474ms\tremaining: 146ms\n",
      "765:\tlearn: 0.0090886\ttotal: 475ms\tremaining: 145ms\n",
      "766:\tlearn: 0.0090442\ttotal: 476ms\tremaining: 145ms\n",
      "767:\tlearn: 0.0090258\ttotal: 476ms\tremaining: 144ms\n",
      "768:\tlearn: 0.0089938\ttotal: 477ms\tremaining: 143ms\n",
      "769:\tlearn: 0.0089613\ttotal: 477ms\tremaining: 143ms\n",
      "770:\tlearn: 0.0089436\ttotal: 478ms\tremaining: 142ms\n",
      "771:\tlearn: 0.0089049\ttotal: 479ms\tremaining: 141ms\n",
      "772:\tlearn: 0.0088618\ttotal: 479ms\tremaining: 141ms\n",
      "773:\tlearn: 0.0088347\ttotal: 480ms\tremaining: 140ms\n",
      "774:\tlearn: 0.0088066\ttotal: 480ms\tremaining: 139ms\n",
      "775:\tlearn: 0.0087691\ttotal: 481ms\tremaining: 139ms\n",
      "776:\tlearn: 0.0087272\ttotal: 482ms\tremaining: 138ms\n",
      "777:\tlearn: 0.0086910\ttotal: 482ms\tremaining: 138ms\n",
      "778:\tlearn: 0.0086562\ttotal: 483ms\tremaining: 137ms\n",
      "779:\tlearn: 0.0086209\ttotal: 484ms\tremaining: 136ms\n",
      "780:\tlearn: 0.0085853\ttotal: 485ms\tremaining: 136ms\n",
      "781:\tlearn: 0.0085562\ttotal: 485ms\tremaining: 135ms\n",
      "782:\tlearn: 0.0085173\ttotal: 486ms\tremaining: 135ms\n",
      "783:\tlearn: 0.0084892\ttotal: 486ms\tremaining: 134ms\n",
      "784:\tlearn: 0.0084523\ttotal: 487ms\tremaining: 133ms\n",
      "785:\tlearn: 0.0084096\ttotal: 488ms\tremaining: 133ms\n",
      "786:\tlearn: 0.0083711\ttotal: 488ms\tremaining: 132ms\n",
      "787:\tlearn: 0.0083422\ttotal: 489ms\tremaining: 132ms\n",
      "788:\tlearn: 0.0083065\ttotal: 490ms\tremaining: 131ms\n",
      "789:\tlearn: 0.0082661\ttotal: 490ms\tremaining: 130ms\n",
      "790:\tlearn: 0.0082306\ttotal: 491ms\tremaining: 130ms\n",
      "791:\tlearn: 0.0081903\ttotal: 492ms\tremaining: 129ms\n",
      "792:\tlearn: 0.0081575\ttotal: 492ms\tremaining: 129ms\n",
      "793:\tlearn: 0.0081229\ttotal: 493ms\tremaining: 128ms\n",
      "794:\tlearn: 0.0080945\ttotal: 494ms\tremaining: 127ms\n",
      "795:\tlearn: 0.0080615\ttotal: 494ms\tremaining: 127ms\n",
      "796:\tlearn: 0.0080269\ttotal: 495ms\tremaining: 126ms\n",
      "797:\tlearn: 0.0079931\ttotal: 495ms\tremaining: 125ms\n",
      "798:\tlearn: 0.0079706\ttotal: 496ms\tremaining: 125ms\n",
      "799:\tlearn: 0.0079444\ttotal: 497ms\tremaining: 124ms\n",
      "800:\tlearn: 0.0079282\ttotal: 497ms\tremaining: 124ms\n",
      "801:\tlearn: 0.0078915\ttotal: 498ms\tremaining: 123ms\n",
      "802:\tlearn: 0.0078538\ttotal: 498ms\tremaining: 122ms\n",
      "803:\tlearn: 0.0078282\ttotal: 499ms\tremaining: 122ms\n",
      "804:\tlearn: 0.0077951\ttotal: 499ms\tremaining: 121ms\n",
      "805:\tlearn: 0.0077583\ttotal: 500ms\tremaining: 120ms\n",
      "806:\tlearn: 0.0077320\ttotal: 500ms\tremaining: 120ms\n",
      "807:\tlearn: 0.0077072\ttotal: 500ms\tremaining: 119ms\n",
      "808:\tlearn: 0.0076728\ttotal: 501ms\tremaining: 118ms\n",
      "809:\tlearn: 0.0076370\ttotal: 501ms\tremaining: 118ms\n",
      "810:\tlearn: 0.0076057\ttotal: 502ms\tremaining: 117ms\n",
      "811:\tlearn: 0.0075761\ttotal: 502ms\tremaining: 116ms\n",
      "812:\tlearn: 0.0075583\ttotal: 503ms\tremaining: 116ms\n",
      "813:\tlearn: 0.0075247\ttotal: 503ms\tremaining: 115ms\n",
      "814:\tlearn: 0.0074967\ttotal: 504ms\tremaining: 114ms\n",
      "815:\tlearn: 0.0074821\ttotal: 505ms\tremaining: 114ms\n",
      "816:\tlearn: 0.0074521\ttotal: 505ms\tremaining: 113ms\n",
      "817:\tlearn: 0.0074208\ttotal: 506ms\tremaining: 113ms\n",
      "818:\tlearn: 0.0074036\ttotal: 506ms\tremaining: 112ms\n",
      "819:\tlearn: 0.0073767\ttotal: 507ms\tremaining: 111ms\n",
      "820:\tlearn: 0.0073445\ttotal: 507ms\tremaining: 111ms\n",
      "821:\tlearn: 0.0073168\ttotal: 508ms\tremaining: 110ms\n",
      "822:\tlearn: 0.0072824\ttotal: 508ms\tremaining: 109ms\n"
     ]
    },
    {
     "name": "stdout",
     "output_type": "stream",
     "text": [
      "823:\tlearn: 0.0072696\ttotal: 509ms\tremaining: 109ms\n",
      "824:\tlearn: 0.0072411\ttotal: 510ms\tremaining: 108ms\n",
      "825:\tlearn: 0.0072133\ttotal: 510ms\tremaining: 107ms\n",
      "826:\tlearn: 0.0071995\ttotal: 510ms\tremaining: 107ms\n",
      "827:\tlearn: 0.0071704\ttotal: 511ms\tremaining: 106ms\n",
      "828:\tlearn: 0.0071470\ttotal: 511ms\tremaining: 105ms\n",
      "829:\tlearn: 0.0071187\ttotal: 512ms\tremaining: 105ms\n",
      "830:\tlearn: 0.0070958\ttotal: 512ms\tremaining: 104ms\n",
      "831:\tlearn: 0.0070734\ttotal: 512ms\tremaining: 103ms\n",
      "832:\tlearn: 0.0070491\ttotal: 513ms\tremaining: 103ms\n",
      "833:\tlearn: 0.0070185\ttotal: 513ms\tremaining: 102ms\n",
      "834:\tlearn: 0.0069948\ttotal: 514ms\tremaining: 102ms\n",
      "835:\tlearn: 0.0069678\ttotal: 514ms\tremaining: 101ms\n",
      "836:\tlearn: 0.0069539\ttotal: 515ms\tremaining: 100ms\n",
      "837:\tlearn: 0.0069354\ttotal: 515ms\tremaining: 99.6ms\n",
      "838:\tlearn: 0.0069060\ttotal: 516ms\tremaining: 99ms\n",
      "839:\tlearn: 0.0068924\ttotal: 516ms\tremaining: 98.3ms\n",
      "840:\tlearn: 0.0068653\ttotal: 517ms\tremaining: 97.7ms\n",
      "841:\tlearn: 0.0068394\ttotal: 517ms\tremaining: 97ms\n",
      "842:\tlearn: 0.0068167\ttotal: 518ms\tremaining: 96.4ms\n",
      "843:\tlearn: 0.0067988\ttotal: 518ms\tremaining: 95.8ms\n",
      "844:\tlearn: 0.0067708\ttotal: 519ms\tremaining: 95.2ms\n",
      "845:\tlearn: 0.0067574\ttotal: 519ms\tremaining: 94.5ms\n",
      "846:\tlearn: 0.0067325\ttotal: 520ms\tremaining: 94ms\n",
      "847:\tlearn: 0.0067194\ttotal: 521ms\tremaining: 93.3ms\n",
      "848:\tlearn: 0.0066934\ttotal: 521ms\tremaining: 92.7ms\n",
      "849:\tlearn: 0.0066665\ttotal: 522ms\tremaining: 92.1ms\n",
      "850:\tlearn: 0.0066443\ttotal: 522ms\tremaining: 91.4ms\n",
      "851:\tlearn: 0.0066204\ttotal: 523ms\tremaining: 90.8ms\n",
      "852:\tlearn: 0.0066075\ttotal: 523ms\tremaining: 90.1ms\n",
      "853:\tlearn: 0.0065816\ttotal: 523ms\tremaining: 89.5ms\n",
      "854:\tlearn: 0.0065609\ttotal: 524ms\tremaining: 88.8ms\n",
      "855:\tlearn: 0.0065379\ttotal: 524ms\tremaining: 88.1ms\n",
      "856:\tlearn: 0.0065153\ttotal: 524ms\tremaining: 87.5ms\n",
      "857:\tlearn: 0.0064931\ttotal: 525ms\tremaining: 86.8ms\n",
      "858:\tlearn: 0.0064647\ttotal: 525ms\tremaining: 86.2ms\n",
      "859:\tlearn: 0.0064400\ttotal: 525ms\tremaining: 85.5ms\n",
      "860:\tlearn: 0.0064124\ttotal: 526ms\tremaining: 84.9ms\n",
      "861:\tlearn: 0.0063908\ttotal: 526ms\tremaining: 84.3ms\n",
      "862:\tlearn: 0.0063639\ttotal: 527ms\tremaining: 83.6ms\n",
      "863:\tlearn: 0.0063399\ttotal: 527ms\tremaining: 83ms\n",
      "864:\tlearn: 0.0063137\ttotal: 527ms\tremaining: 82.3ms\n",
      "865:\tlearn: 0.0062910\ttotal: 528ms\tremaining: 81.7ms\n",
      "866:\tlearn: 0.0062723\ttotal: 528ms\tremaining: 81ms\n",
      "867:\tlearn: 0.0062541\ttotal: 529ms\tremaining: 80.4ms\n",
      "868:\tlearn: 0.0062362\ttotal: 529ms\tremaining: 79.8ms\n",
      "869:\tlearn: 0.0062148\ttotal: 529ms\tremaining: 79.1ms\n",
      "870:\tlearn: 0.0061963\ttotal: 530ms\tremaining: 78.5ms\n",
      "871:\tlearn: 0.0061793\ttotal: 530ms\tremaining: 77.8ms\n",
      "872:\tlearn: 0.0061613\ttotal: 530ms\tremaining: 77.2ms\n",
      "873:\tlearn: 0.0061438\ttotal: 531ms\tremaining: 76.5ms\n",
      "874:\tlearn: 0.0061236\ttotal: 531ms\tremaining: 75.9ms\n",
      "875:\tlearn: 0.0061134\ttotal: 532ms\tremaining: 75.2ms\n",
      "876:\tlearn: 0.0060973\ttotal: 532ms\tremaining: 74.6ms\n",
      "877:\tlearn: 0.0060873\ttotal: 533ms\tremaining: 74ms\n",
      "878:\tlearn: 0.0060774\ttotal: 533ms\tremaining: 73.4ms\n",
      "879:\tlearn: 0.0060549\ttotal: 533ms\tremaining: 72.7ms\n",
      "880:\tlearn: 0.0060452\ttotal: 534ms\tremaining: 72.1ms\n",
      "881:\tlearn: 0.0060294\ttotal: 534ms\tremaining: 71.5ms\n",
      "882:\tlearn: 0.0060195\ttotal: 535ms\tremaining: 70.8ms\n",
      "883:\tlearn: 0.0059940\ttotal: 535ms\tremaining: 70.2ms\n",
      "884:\tlearn: 0.0059845\ttotal: 536ms\tremaining: 69.6ms\n",
      "885:\tlearn: 0.0059681\ttotal: 536ms\tremaining: 69ms\n",
      "886:\tlearn: 0.0059520\ttotal: 537ms\tremaining: 68.4ms\n",
      "887:\tlearn: 0.0059367\ttotal: 537ms\tremaining: 67.8ms\n",
      "888:\tlearn: 0.0059275\ttotal: 538ms\tremaining: 67.1ms\n",
      "889:\tlearn: 0.0059023\ttotal: 538ms\tremaining: 66.5ms\n",
      "890:\tlearn: 0.0058933\ttotal: 539ms\tremaining: 65.9ms\n",
      "891:\tlearn: 0.0058843\ttotal: 539ms\tremaining: 65.3ms\n",
      "892:\tlearn: 0.0058655\ttotal: 540ms\tremaining: 64.7ms\n",
      "893:\tlearn: 0.0058409\ttotal: 540ms\tremaining: 64ms\n",
      "894:\tlearn: 0.0058127\ttotal: 540ms\tremaining: 63.4ms\n",
      "895:\tlearn: 0.0057921\ttotal: 541ms\tremaining: 62.8ms\n",
      "896:\tlearn: 0.0057743\ttotal: 541ms\tremaining: 62.1ms\n",
      "897:\tlearn: 0.0057574\ttotal: 541ms\tremaining: 61.5ms\n",
      "898:\tlearn: 0.0057345\ttotal: 542ms\tremaining: 60.9ms\n",
      "899:\tlearn: 0.0057180\ttotal: 542ms\tremaining: 60.3ms\n",
      "900:\tlearn: 0.0057020\ttotal: 543ms\tremaining: 59.6ms\n",
      "901:\tlearn: 0.0056894\ttotal: 543ms\tremaining: 59ms\n",
      "902:\tlearn: 0.0056721\ttotal: 544ms\tremaining: 58.4ms\n",
      "903:\tlearn: 0.0056523\ttotal: 544ms\tremaining: 57.8ms\n",
      "904:\tlearn: 0.0056353\ttotal: 544ms\tremaining: 57.1ms\n",
      "905:\tlearn: 0.0056193\ttotal: 545ms\tremaining: 56.5ms\n",
      "906:\tlearn: 0.0056037\ttotal: 545ms\tremaining: 55.9ms\n",
      "907:\tlearn: 0.0055844\ttotal: 545ms\tremaining: 55.3ms\n",
      "908:\tlearn: 0.0055681\ttotal: 546ms\tremaining: 54.6ms\n",
      "909:\tlearn: 0.0055528\ttotal: 546ms\tremaining: 54ms\n",
      "910:\tlearn: 0.0055377\ttotal: 546ms\tremaining: 53.4ms\n",
      "911:\tlearn: 0.0055187\ttotal: 547ms\tremaining: 52.8ms\n",
      "912:\tlearn: 0.0055023\ttotal: 547ms\tremaining: 52.1ms\n",
      "913:\tlearn: 0.0054875\ttotal: 548ms\tremaining: 51.5ms\n",
      "914:\tlearn: 0.0054651\ttotal: 548ms\tremaining: 50.9ms\n",
      "915:\tlearn: 0.0054493\ttotal: 548ms\tremaining: 50.3ms\n",
      "916:\tlearn: 0.0054328\ttotal: 549ms\tremaining: 49.7ms\n",
      "917:\tlearn: 0.0054110\ttotal: 549ms\tremaining: 49ms\n",
      "918:\tlearn: 0.0053956\ttotal: 549ms\tremaining: 48.4ms\n",
      "919:\tlearn: 0.0053743\ttotal: 550ms\tremaining: 47.8ms\n",
      "920:\tlearn: 0.0053613\ttotal: 550ms\tremaining: 47.2ms\n",
      "921:\tlearn: 0.0053399\ttotal: 551ms\tremaining: 46.6ms\n",
      "922:\tlearn: 0.0053256\ttotal: 551ms\tremaining: 46ms\n",
      "923:\tlearn: 0.0053129\ttotal: 551ms\tremaining: 45.3ms\n",
      "924:\tlearn: 0.0052991\ttotal: 552ms\tremaining: 44.7ms\n",
      "925:\tlearn: 0.0052868\ttotal: 552ms\tremaining: 44.1ms\n",
      "926:\tlearn: 0.0052789\ttotal: 553ms\tremaining: 43.5ms\n",
      "927:\tlearn: 0.0052718\ttotal: 553ms\tremaining: 42.9ms\n",
      "928:\tlearn: 0.0052559\ttotal: 553ms\tremaining: 42.3ms\n",
      "929:\tlearn: 0.0052488\ttotal: 554ms\tremaining: 41.7ms\n",
      "930:\tlearn: 0.0052412\ttotal: 554ms\tremaining: 41.1ms\n",
      "931:\tlearn: 0.0052343\ttotal: 555ms\tremaining: 40.5ms\n",
      "932:\tlearn: 0.0052188\ttotal: 555ms\tremaining: 39.9ms\n",
      "933:\tlearn: 0.0052119\ttotal: 555ms\tremaining: 39.2ms\n",
      "934:\tlearn: 0.0052051\ttotal: 556ms\tremaining: 38.6ms\n",
      "935:\tlearn: 0.0051975\ttotal: 556ms\tremaining: 38ms\n",
      "936:\tlearn: 0.0051770\ttotal: 556ms\tremaining: 37.4ms\n",
      "937:\tlearn: 0.0051700\ttotal: 557ms\tremaining: 36.8ms\n",
      "938:\tlearn: 0.0051588\ttotal: 557ms\tremaining: 36.2ms\n",
      "939:\tlearn: 0.0051386\ttotal: 558ms\tremaining: 35.6ms\n",
      "940:\tlearn: 0.0051320\ttotal: 558ms\tremaining: 35ms\n",
      "941:\tlearn: 0.0051229\ttotal: 558ms\tremaining: 34.4ms\n",
      "942:\tlearn: 0.0051120\ttotal: 559ms\tremaining: 33.8ms\n",
      "943:\tlearn: 0.0051055\ttotal: 559ms\tremaining: 33.2ms\n",
      "944:\tlearn: 0.0050858\ttotal: 560ms\tremaining: 32.6ms\n",
      "945:\tlearn: 0.0050794\ttotal: 560ms\tremaining: 32ms\n",
      "946:\tlearn: 0.0050725\ttotal: 560ms\tremaining: 31.4ms\n",
      "947:\tlearn: 0.0050531\ttotal: 561ms\tremaining: 30.8ms\n",
      "948:\tlearn: 0.0050468\ttotal: 561ms\tremaining: 30.2ms\n",
      "949:\tlearn: 0.0050400\ttotal: 562ms\tremaining: 29.6ms\n",
      "950:\tlearn: 0.0050337\ttotal: 562ms\tremaining: 29ms\n",
      "951:\tlearn: 0.0050147\ttotal: 563ms\tremaining: 28.4ms\n",
      "952:\tlearn: 0.0050007\ttotal: 563ms\tremaining: 27.8ms\n",
      "953:\tlearn: 0.0049944\ttotal: 563ms\tremaining: 27.2ms\n",
      "954:\tlearn: 0.0049806\ttotal: 564ms\tremaining: 26.6ms\n",
      "955:\tlearn: 0.0049662\ttotal: 564ms\tremaining: 26ms\n",
      "956:\tlearn: 0.0049600\ttotal: 564ms\tremaining: 25.4ms\n",
      "957:\tlearn: 0.0049497\ttotal: 565ms\tremaining: 24.8ms\n",
      "958:\tlearn: 0.0049436\ttotal: 565ms\tremaining: 24.2ms\n",
      "959:\tlearn: 0.0049301\ttotal: 566ms\tremaining: 23.6ms\n",
      "960:\tlearn: 0.0049241\ttotal: 566ms\tremaining: 23ms\n",
      "961:\tlearn: 0.0049108\ttotal: 566ms\tremaining: 22.4ms\n",
      "962:\tlearn: 0.0049023\ttotal: 567ms\tremaining: 21.8ms\n",
      "963:\tlearn: 0.0048963\ttotal: 567ms\tremaining: 21.2ms\n",
      "964:\tlearn: 0.0048833\ttotal: 568ms\tremaining: 20.6ms\n",
      "965:\tlearn: 0.0048774\ttotal: 568ms\tremaining: 20ms\n",
      "966:\tlearn: 0.0048604\ttotal: 568ms\tremaining: 19.4ms\n",
      "967:\tlearn: 0.0048423\ttotal: 569ms\tremaining: 18.8ms\n",
      "968:\tlearn: 0.0048365\ttotal: 569ms\tremaining: 18.2ms\n",
      "969:\tlearn: 0.0048240\ttotal: 569ms\tremaining: 17.6ms\n",
      "970:\tlearn: 0.0048143\ttotal: 570ms\tremaining: 17ms\n",
      "971:\tlearn: 0.0048048\ttotal: 570ms\tremaining: 16.4ms\n",
      "972:\tlearn: 0.0047866\ttotal: 571ms\tremaining: 15.8ms\n",
      "973:\tlearn: 0.0047694\ttotal: 571ms\tremaining: 15.2ms\n",
      "974:\tlearn: 0.0047520\ttotal: 572ms\tremaining: 14.7ms\n",
      "975:\tlearn: 0.0047464\ttotal: 572ms\tremaining: 14.1ms\n",
      "976:\tlearn: 0.0047289\ttotal: 573ms\tremaining: 13.5ms\n",
      "977:\tlearn: 0.0047233\ttotal: 573ms\tremaining: 12.9ms\n",
      "978:\tlearn: 0.0047114\ttotal: 574ms\tremaining: 12.3ms\n",
      "979:\tlearn: 0.0047023\ttotal: 574ms\tremaining: 11.7ms\n",
      "980:\tlearn: 0.0046852\ttotal: 575ms\tremaining: 11.1ms\n",
      "981:\tlearn: 0.0046799\ttotal: 575ms\tremaining: 10.5ms\n",
      "982:\tlearn: 0.0046633\ttotal: 576ms\tremaining: 9.95ms\n",
      "983:\tlearn: 0.0046580\ttotal: 576ms\tremaining: 9.37ms\n",
      "984:\tlearn: 0.0046409\ttotal: 576ms\tremaining: 8.78ms\n",
      "985:\tlearn: 0.0046346\ttotal: 577ms\tremaining: 8.19ms\n",
      "986:\tlearn: 0.0046294\ttotal: 578ms\tremaining: 7.61ms\n",
      "987:\tlearn: 0.0046070\ttotal: 578ms\tremaining: 7.02ms\n",
      "988:\tlearn: 0.0045934\ttotal: 578ms\tremaining: 6.43ms\n",
      "989:\tlearn: 0.0045859\ttotal: 579ms\tremaining: 5.85ms\n",
      "990:\tlearn: 0.0045808\ttotal: 579ms\tremaining: 5.26ms\n",
      "991:\tlearn: 0.0045637\ttotal: 580ms\tremaining: 4.67ms\n",
      "992:\tlearn: 0.0045469\ttotal: 580ms\tremaining: 4.09ms\n",
      "993:\tlearn: 0.0045362\ttotal: 581ms\tremaining: 3.5ms\n",
      "994:\tlearn: 0.0045195\ttotal: 581ms\tremaining: 2.92ms\n",
      "995:\tlearn: 0.0045090\ttotal: 582ms\tremaining: 2.34ms\n",
      "996:\tlearn: 0.0044979\ttotal: 582ms\tremaining: 1.75ms\n",
      "997:\tlearn: 0.0044816\ttotal: 583ms\tremaining: 1.17ms\n",
      "998:\tlearn: 0.0044693\ttotal: 583ms\tremaining: 583us\n",
      "999:\tlearn: 0.0044533\ttotal: 584ms\tremaining: 0us\n"
     ]
    },
    {
     "data": {
      "text/plain": [
       "<catboost.core.CatBoostRegressor at 0x7ff2815825e0>"
      ]
     },
     "execution_count": 9,
     "metadata": {},
     "output_type": "execute_result"
    }
   ],
   "source": [
    "#Train the Model \n",
    "prior_model = ctb.CatBoostRegressor()\n",
    "prior_model.fit(X_train,Y_train)"
   ]
  },
  {
   "cell_type": "code",
   "execution_count": 10,
   "id": "af65dcda",
   "metadata": {
    "execution": {
     "iopub.execute_input": "2022-03-16T13:26:54.428500Z",
     "iopub.status.busy": "2022-03-16T13:26:54.427957Z",
     "iopub.status.idle": "2022-03-16T13:26:54.438568Z",
     "shell.execute_reply": "2022-03-16T13:26:54.438897Z"
    },
    "id": "af65dcda",
    "papermill": {
     "duration": 0.030637,
     "end_time": "2022-03-16T13:26:54.439051",
     "exception": false,
     "start_time": "2022-03-16T13:26:54.408414",
     "status": "completed"
    },
    "tags": []
   },
   "outputs": [
    {
     "data": {
      "application/scrapbook.scrap.json+json": {
       "data": 0.017822042125395194,
       "encoder": "json",
       "name": "Prior Model MSE",
       "version": 1
      }
     },
     "metadata": {
      "scrapbook": {
       "data": true,
       "display": false,
       "name": "Prior Model MSE"
      }
     },
     "output_type": "display_data"
    },
    {
     "data": {
      "application/scrapbook.scrap.json+json": {
       "data": 1.0864572957052114,
       "encoder": "json",
       "name": "ABC Pre-generator MSE",
       "version": 1
      }
     },
     "metadata": {
      "scrapbook": {
       "data": true,
       "display": false,
       "name": "ABC Pre-generator MSE"
      }
     },
     "output_type": "display_data"
    },
    {
     "data": {
      "application/scrapbook.scrap.json+json": {
       "data": 0.10260826624139419,
       "encoder": "json",
       "name": "Prior Model MSE",
       "version": 1
      }
     },
     "metadata": {
      "scrapbook": {
       "data": true,
       "display": false,
       "name": "Prior Model MSE"
      }
     },
     "output_type": "display_data"
    },
    {
     "data": {
      "application/scrapbook.scrap.json+json": {
       "data": 1.0298678758791422,
       "encoder": "json",
       "name": "ABC Pre-generator MSE",
       "version": 1
      }
     },
     "metadata": {
      "scrapbook": {
       "data": true,
       "display": false,
       "name": "ABC Pre-generator MSE"
      }
     },
     "output_type": "display_data"
    }
   ],
   "source": [
    "y_pred = prior_model.predict(X_test)\n",
    "y_abc = y_pred + np.random.normal(0,variance, y_pred.shape) + bias \n",
    "mse = mean_squared_error(y_pred,Y_test)\n",
    "sb.glue(\"Prior Model MSE\",mse)\n",
    "mse = mean_squared_error(y_abc,Y_test)\n",
    "sb.glue(\"ABC Pre-generator MSE\",mse)\n",
    "mae = mean_absolute_error(y_pred,Y_test)\n",
    "sb.glue(\"Prior Model MSE\",mae)\n",
    "mae = mean_absolute_error(y_abc,Y_test)\n",
    "sb.glue(\"ABC Pre-generator MSE\",mae)"
   ]
  },
  {
   "cell_type": "markdown",
   "id": "25609da2",
   "metadata": {
    "papermill": {
     "duration": 0.013191,
     "end_time": "2022-03-16T13:26:54.466179",
     "exception": false,
     "start_time": "2022-03-16T13:26:54.452988",
     "status": "completed"
    },
    "tags": []
   },
   "source": [
    "# ABC GAN Model"
   ]
  },
  {
   "cell_type": "code",
   "execution_count": 11,
   "id": "dfc3464d",
   "metadata": {
    "execution": {
     "iopub.execute_input": "2022-03-16T13:26:54.499078Z",
     "iopub.status.busy": "2022-03-16T13:26:54.498583Z",
     "iopub.status.idle": "2022-03-16T13:26:54.501848Z",
     "shell.execute_reply": "2022-03-16T13:26:54.501506Z"
    },
    "papermill": {
     "duration": 0.021244,
     "end_time": "2022-03-16T13:26:54.501972",
     "exception": false,
     "start_time": "2022-03-16T13:26:54.480728",
     "status": "completed"
    },
    "tags": []
   },
   "outputs": [],
   "source": [
    "gen = network.Generator(n_features+1).to(device)\n",
    "disc = network.Discriminator(n_features+1).to(device)\n",
    "\n",
    "criterion = torch.nn.BCELoss()\n",
    "gen_opt = torch.optim.Adam(gen.parameters(), lr=0.001, betas=(0.5, 0.999))\n",
    "disc_opt = torch.optim.Adam(disc.parameters(), lr=0.001, betas=(0.5, 0.999))"
   ]
  },
  {
   "cell_type": "code",
   "execution_count": 12,
   "id": "b75fdd85",
   "metadata": {
    "execution": {
     "iopub.execute_input": "2022-03-16T13:26:54.533809Z",
     "iopub.status.busy": "2022-03-16T13:26:54.533349Z",
     "iopub.status.idle": "2022-03-16T13:27:11.727305Z",
     "shell.execute_reply": "2022-03-16T13:27:11.727628Z"
    },
    "papermill": {
     "duration": 17.211331,
     "end_time": "2022-03-16T13:27:11.727803",
     "exception": false,
     "start_time": "2022-03-16T13:26:54.516472",
     "status": "completed"
    },
    "tags": []
   },
   "outputs": [
    {
     "data": {
      "image/png": "[encoded data removed]",
      "text/plain": [
       "<Figure size 432x288 with 1 Axes>"
      ]
     },
     "metadata": {
      "needs_background": "light"
     },
     "output_type": "display_data"
    },
    {
     "data": {
      "image/png": "[encoded data removed]",
      "text/plain": [
       "<Figure size 432x288 with 1 Axes>"
      ]
     },
     "metadata": {
      "needs_background": "light"
     },
     "output_type": "display_data"
    }
   ],
   "source": [
    "#Training the ABC_GAN \n",
    "ABC_train_test2.training_GAN(disc,gen,disc_opt,gen_opt,train_data,batch_size,n_epochs,criterion,prior_model,variance,bias,device)"
   ]
  },
  {
   "cell_type": "code",
   "execution_count": 13,
   "id": "1fa7c368",
   "metadata": {
    "execution": {
     "iopub.execute_input": "2022-03-16T13:27:11.754247Z",
     "iopub.status.busy": "2022-03-16T13:27:11.753744Z",
     "iopub.status.idle": "2022-03-16T13:27:11.932107Z",
     "shell.execute_reply": "2022-03-16T13:27:11.932402Z"
    },
    "papermill": {
     "duration": 0.192295,
     "end_time": "2022-03-16T13:27:11.932526",
     "exception": false,
     "start_time": "2022-03-16T13:27:11.740231",
     "status": "completed"
    },
    "tags": []
   },
   "outputs": [
    {
     "data": {
      "application/scrapbook.scrap.json+json": {
       "data": 0.004107907419219175,
       "encoder": "json",
       "name": "ABC-GAN Model 1 MSE",
       "version": 1
      }
     },
     "metadata": {
      "scrapbook": {
       "data": true,
       "display": false,
       "name": "ABC-GAN Model 1 MSE"
      }
     },
     "output_type": "display_data"
    },
    {
     "data": {
      "application/scrapbook.scrap.json+json": {
       "data": 0.05346753548085689,
       "encoder": "json",
       "name": "ABC-GAN Model 1 MAE",
       "version": 1
      }
     },
     "metadata": {
      "scrapbook": {
       "data": true,
       "display": false,
       "name": "ABC-GAN Model 1 MAE"
      }
     },
     "output_type": "display_data"
    },
    {
     "data": {
      "application/scrapbook.scrap.json+json": {
       "data": 1.069350709617138,
       "encoder": "json",
       "name": "ABC-GAN Model 1 Manhattan Distance",
       "version": 1
      }
     },
     "metadata": {
      "scrapbook": {
       "data": true,
       "display": false,
       "name": "ABC-GAN Model 1 Manhattan Distance"
      }
     },
     "output_type": "display_data"
    },
    {
     "data": {
      "application/scrapbook.scrap.json+json": {
       "data": 0.28575248083024524,
       "encoder": "json",
       "name": "ABC-GAN Model 1 Euclidean distance",
       "version": 1
      }
     },
     "metadata": {
      "scrapbook": {
       "data": true,
       "display": false,
       "name": "ABC-GAN Model 1 Euclidean distance"
      }
     },
     "output_type": "display_data"
    },
    {
     "data": {
      "application/scrapbook.scrap.json+json": {
       "data": [
        [
         0.006457451265384241,
         0.0036478591105155596,
         0.003608495741322738,
         0.00493038435344703,
         0.004145283824804615,
         0.005206423213293128,
         0.003510528776034037,
         0.0037432049657790552,
         0.004635458620094406,
         0.00431663241443241,
         0.004322802772535957,
         0.0031190009700223552,
         0.004269480148315026,
         0.004245042595578248,
         0.003361435277531237,
         0.004408109721265467,
         0.003216342551861516,
         0.003817483095426634,
         0.005536867421271309,
         0.003840752640293861,
         0.00416279033813965,
         0.0061185891217351695,
         0.0036232842861225064,
         0.004597426907963355,
         0.004360396194321254,
         0.004484217172671235,
         0.00522764634196108,
         0.004378006631551605,
         0.004351318043031761,
         0.00399045263422408,
         0.003969651238481304,
         0.0048469785796060386,
         0.004496878885251814,
         0.0036120386795792476,
         0.0032408218097898277,
         0.003967530299664536,
         0.003613010679993049,
         0.005081957886365439,
         0.003955190026560319,
         0.003936081324476949,
         0.0035469061140219983,
         0.00413471381035699,
         0.0034439061630186854,
         0.004790005615670627,
         0.00323441683767411,
         0.004371882037693319,
         0.003963414426241303,
         0.0038603445397700125,
         0.002980792455572438,
         0.0037065840739927123,
         0.004078383044664192,
         0.0037228455694418364,
         0.0033023674148305827,
         0.0043490231268141204,
         0.003806123598048079,
         0.0032605976728734983,
         0.0037411128836589633,
         0.003951322409917328,
         0.004853252835740092,
         0.0045813096993373,
         0.0054358967157804375,
         0.004013373349529279,
         0.004167476711218023,
         0.004457616107522579,
         0.004558017484809764,
         0.0034158391617364462,
         0.0034726261829510956,
         0.00411224919082172,
         0.0035192595754654846,
         0.00449701378807091,
         0.006015633770318408,
         0.0034216347443856696,
         0.003929940395500221,
         0.003205734695272568,
         0.004180019093185526,
         0.004638356198336492,
         0.0039273529995034985,
         0.004023387402219307,
         0.003823615445628696,
         0.0033254914442097092,
         0.0037897716146511147,
         0.004469668479626617,
         0.0034462498949263355,
         0.0037449966290833596,
         0.0043734442574752935,
         0.0036135200709988503,
         0.0038697490104900576,
         0.004387921812485153,
         0.0038750380955955054,
         0.004062975930014807,
         0.003419265586093627,
         0.0034070915749363287,
         0.005003297014263293,
         0.0037468164694733227,
         0.005318966265844495,
         0.004166199705608583,
         0.004500332180860241,
         0.003540004111157431,
         0.0034041308046171464,
         0.004478157067212833
        ],
        [
         0.06659191399812699,
         0.04933351017534733,
         0.05036262795329094,
         0.056385985016822814,
         0.055113513767719266,
         0.05873035155236721,
         0.05079142302274704,
         0.04840554893016815,
         0.05711945369839668,
         0.056623664870858195,
         0.053504737466573714,
         0.045120709016919135,
         0.05243730582296848,
         0.053152620792388916,
         0.046109769865870474,
         0.054347936809062955,
         0.046643512696027754,
         0.05026053935289383,
         0.0637438453733921,
         0.05159648098051548,
         0.054475142434239385,
         0.0638409573584795,
         0.05005451738834381,
         0.05887915901839733,
         0.05429984517395496,
         0.05685601755976677,
         0.06233551613986492,
         0.05373011790215969,
         0.05382971614599228,
         0.054791181534528735,
         0.04939970746636391,
         0.05831409953534603,
         0.05296767614781857,
         0.04969034865498543,
         0.049964750185608864,
         0.052836089953780176,
         0.05058870390057564,
         0.059182623773813246,
         0.05407850854098797,
         0.05361917763948441,
         0.0508728988468647,
         0.05220296904444695,
         0.05165580399334431,
         0.055370008945465087,
         0.04841078408062458,
         0.05457576438784599,
         0.05350349210202694,
         0.05061119757592678,
         0.04342743307352066,
         0.05111148096621036,
         0.05310275480151176,
         0.05184793658554554,
         0.04754784516990185,
         0.055068501830101015,
         0.05349864512681961,
         0.04837992116808891,
         0.052565420418977736,
         0.050995872169733045,
         0.05771700590848923,
         0.05961174257099629,
         0.062347954511642455,
         0.05170203000307083,
         0.05162892416119576,
         0.058165411651134494,
         0.05782890953123569,
         0.047237877547740934,
         0.052517404034733775,
         0.05578809194266796,
         0.04972214922308922,
         0.057093264535069466,
         0.0638314165174961,
         0.04808513894677162,
         0.050947681069374084,
         0.04975198209285736,
         0.05563418120145798,
         0.0574101697653532,
         0.0543120089918375,
         0.0544181153178215,
         0.05268242098391056,
         0.048744949698448184,
         0.051463205739855765,
         0.05569720901548862,
         0.050153594091534616,
         0.05120019018650055,
         0.054451465234160425,
         0.05157181546092034,
         0.05200657434761524,
         0.05742315798997879,
         0.05056736804544926,
         0.0538504496216774,
         0.049234021455049515,
         0.05096248388290405,
         0.05796326696872711,
         0.04963960088789463,
         0.06282502375543117,
         0.05286069884896279,
         0.056519505009055136,
         0.05202704332768917,
         0.0479255061596632,
         0.056374499946832655
        ],
        [
         1.3318382799625397,
         0.9866702035069466,
         1.0072525590658188,
         1.1277197003364563,
         1.1022702753543854,
         1.1746070310473442,
         1.0158284604549408,
         0.968110978603363,
         1.1423890739679337,
         1.1324732974171638,
         1.0700947493314743,
         0.9024141803383827,
         1.0487461164593697,
         1.0630524158477783,
         0.9221953973174095,
         1.0869587361812592,
         0.9328702539205551,
         1.0052107870578766,
         1.274876907467842,
         1.0319296196103096,
         1.0895028486847878,
         1.27681914716959,
         1.0010903477668762,
         1.1775831803679466,
         1.0859969034790993,
         1.1371203511953354,
         1.2467103227972984,
         1.0746023580431938,
         1.0765943229198456,
         1.0958236306905746,
         0.9879941493272781,
         1.1662819907069206,
         1.0593535229563713,
         0.9938069730997086,
         0.9992950037121773,
         1.0567217990756035,
         1.0117740780115128,
         1.183652475476265,
         1.0815701708197594,
         1.072383552789688,
         1.017457976937294,
         1.044059380888939,
         1.0331160798668861,
         1.1074001789093018,
         0.9682156816124916,
         1.0915152877569199,
         1.0700698420405388,
         1.0122239515185356,
         0.8685486614704132,
         1.0222296193242073,
         1.0620550960302353,
         1.0369587317109108,
         0.950956903398037,
         1.1013700366020203,
         1.0699729025363922,
         0.9675984233617783,
         1.0513084083795547,
         1.019917443394661,
         1.1543401181697845,
         1.1922348514199257,
         1.2469590902328491,
         1.0340406000614166,
         1.032578483223915,
         1.1633082330226898,
         1.156578190624714,
         0.9447575509548187,
         1.0503480806946754,
         1.1157618388533592,
         0.9944429844617844,
         1.1418652907013893,
         1.2766283303499222,
         0.9617027789354324,
         1.0189536213874817,
         0.9950396418571472,
         1.1126836240291595,
         1.148203395307064,
         1.08624017983675,
         1.08836230635643,
         1.0536484196782112,
         0.9748989939689636,
         1.0292641147971153,
         1.1139441803097725,
         1.0030718818306923,
         1.024003803730011,
         1.0890293046832085,
         1.0314363092184067,
         1.0401314869523048,
         1.1484631597995758,
         1.0113473609089851,
         1.077008992433548,
         0.9846804291009903,
         1.019249677658081,
         1.1592653393745422,
         0.9927920177578926,
         1.2565004751086235,
         1.0572139769792557,
         1.1303901001811028,
         1.0405408665537834,
         0.958510123193264,
         1.1274899989366531
        ],
        [
         0.35937310042306286,
         0.2701058722247837,
         0.2686445883066599,
         0.314018609430939,
         0.2879334584519352,
         0.32268942385188665,
         0.2649727826035737,
         0.27361304668378134,
         0.30448180964039234,
         0.29382417921037096,
         0.2940341059311303,
         0.24975992352746887,
         0.2922149944241406,
         0.29137750755946307,
         0.2592849890576482,
         0.2969211922805601,
         0.25362738621298436,
         0.2763144258060601,
         0.332772217027543,
         0.2771552864476469,
         0.28854082339037057,
         0.34981678409519373,
         0.2691945128015245,
         0.30323017356336274,
         0.2953098777325694,
         0.29947344365306366,
         0.32334645017259983,
         0.2959056143959288,
         0.29500230653443243,
         0.28250496045995654,
         0.2817676787171057,
         0.3113512029720148,
         0.29989594479591797,
         0.2687764379397587,
         0.2545907229177775,
         0.2816923960515987,
         0.26881259940683766,
         0.3188089674512133,
         0.2812539786940024,
         0.2805737451892799,
         0.26634211510844463,
         0.2875661249297973,
         0.26244641978959005,
         0.30951593224487256,
         0.25433901932948116,
         0.29569856400372724,
         0.2815462458013356,
         0.2778612797699605,
         0.24416357040199255,
         0.27227133796978015,
         0.28560052677347053,
         0.2728679376343742,
         0.2569967865491934,
         0.29492450311271595,
         0.27590301187366834,
         0.25536631229954737,
         0.27353657465351733,
         0.28111643174732165,
         0.3115526548030073,
         0.30269818959938627,
         0.3297240275072606,
         0.2833151372422335,
         0.28870319399750405,
         0.29858386116877045,
         0.30192772263605616,
         0.26137479456659346,
         0.2635384671333995,
         0.2867838625453573,
         0.26530207596117616,
         0.2999004430830641,
         0.3468611759859673,
         0.2615964351586493,
         0.28035478934736324,
         0.2532087950791823,
         0.2891373062468946,
         0.3045769590214103,
         0.2802624840931622,
         0.2836683768846752,
         0.2765362705190296,
         0.2578949958494623,
         0.2753097025043293,
         0.2989872398490148,
         0.26253570785423974,
         0.27367852049743907,
         0.29575139078203144,
         0.2688315484089935,
         0.2781995330869575,
         0.2962405040667178,
         0.2783895865723251,
         0.2850605525152439,
         0.2615058540871935,
         0.2610399040352386,
         0.31633200958054475,
         0.2737450079717737,
         0.3261584359125023,
         0.28865895813601844,
         0.30001107249100795,
         0.26608284841971425,
         0.26092645724867175,
         0.2992710165456332
        ]
       ],
       "encoder": "json",
       "name": "ABC_GAN_1 Metrics",
       "version": 1
      }
     },
     "metadata": {
      "scrapbook": {
       "data": true,
       "display": false,
       "name": "ABC_GAN_1 Metrics"
      }
     },
     "output_type": "display_data"
    },
    {
     "name": "stdout",
     "output_type": "stream",
     "text": [
      "MSE\n",
      "0.004107907419219175\n"
     ]
    }
   ],
   "source": [
    "ABC_GAN1_metrics=ABC_train_test2.test_generator(gen,test_data,prior_model,variance,bias,\"1\",device)\n",
    "sb.glue(\"ABC_GAN_1 Metrics\",ABC_GAN1_metrics)\n",
    "\n",
    "print(\"MSE\")\n",
    "print(mean(ABC_GAN1_metrics[0]))"
   ]
  },
  {
   "cell_type": "code",
   "execution_count": 14,
   "id": "eb22ce5c",
   "metadata": {
    "execution": {
     "iopub.execute_input": "2022-03-16T13:27:11.959335Z",
     "iopub.status.busy": "2022-03-16T13:27:11.958976Z",
     "iopub.status.idle": "2022-03-16T13:27:12.263007Z",
     "shell.execute_reply": "2022-03-16T13:27:12.263300Z"
    },
    "papermill": {
     "duration": 0.318686,
     "end_time": "2022-03-16T13:27:12.263422",
     "exception": false,
     "start_time": "2022-03-16T13:27:11.944736",
     "status": "completed"
    },
    "tags": []
   },
   "outputs": [
    {
     "data": {
      "image/png": "[encoded data removed]",
      "text/plain": [
       "<Figure size 432x288 with 1 Axes>"
      ]
     },
     "metadata": {
      "needs_background": "light"
     },
     "output_type": "display_data"
    },
    {
     "data": {
      "image/png": "[encoded data removed]",
      "text/plain": [
       "<Figure size 432x288 with 1 Axes>"
      ]
     },
     "metadata": {
      "needs_background": "light"
     },
     "output_type": "display_data"
    },
    {
     "data": {
      "image/png": "[encoded data removed]",
      "text/plain": [
       "<Figure size 432x288 with 1 Axes>"
      ]
     },
     "metadata": {
      "needs_background": "light"
     },
     "output_type": "display_data"
    },
    {
     "data": {
      "image/png": "[encoded data removed]",
      "text/plain": [
       "<Figure size 432x288 with 1 Axes>"
      ]
     },
     "metadata": {
      "needs_background": "light"
     },
     "output_type": "display_data"
    }
   ],
   "source": [
    "sanityChecks.discProbVsError(train_data,disc,device)\n",
    "sanityChecks.discProbVsError(test_data,disc,device)"
   ]
  },
  {
   "cell_type": "markdown",
   "id": "130f3a4d",
   "metadata": {
    "id": "130f3a4d",
    "papermill": {
     "duration": 0.043156,
     "end_time": "2022-03-16T13:27:12.333850",
     "exception": false,
     "start_time": "2022-03-16T13:27:12.290694",
     "status": "completed"
    },
    "tags": []
   },
   "source": [
    "# ABC - GAN Model with skip connection"
   ]
  },
  {
   "cell_type": "code",
   "execution_count": 15,
   "id": "4e43dad1",
   "metadata": {
    "execution": {
     "iopub.execute_input": "2022-03-16T13:27:12.365417Z",
     "iopub.status.busy": "2022-03-16T13:27:12.365032Z",
     "iopub.status.idle": "2022-03-16T13:27:12.367476Z",
     "shell.execute_reply": "2022-03-16T13:27:12.367726Z"
    },
    "id": "4e43dad1",
    "papermill": {
     "duration": 0.019806,
     "end_time": "2022-03-16T13:27:12.367838",
     "exception": false,
     "start_time": "2022-03-16T13:27:12.348032",
     "status": "completed"
    },
    "tags": []
   },
   "outputs": [],
   "source": [
    "#Generator\n",
    "gen3 = network.GeneratorWithSkipConnection(n_features+1).to(device)\n",
    "constraints=network.weightConstraint()\n",
    "#Discriminator \n",
    "disc3 = network.Discriminator(n_features+1).to(device)\n",
    "\n",
    "criterion = torch.nn.BCELoss()\n",
    "gen_opt = torch.optim.Adam(gen3.parameters(), lr=0.001, betas=(0.5, 0.999))\n",
    "disc_opt = torch.optim.Adam(disc3.parameters(), lr=0.001, betas=(0.5, 0.999))\n"
   ]
  },
  {
   "cell_type": "code",
   "execution_count": 16,
   "id": "26acbc37",
   "metadata": {
    "execution": {
     "iopub.execute_input": "2022-03-16T13:27:12.398611Z",
     "iopub.status.busy": "2022-03-16T13:27:12.398248Z",
     "iopub.status.idle": "2022-03-16T13:27:50.293943Z",
     "shell.execute_reply": "2022-03-16T13:27:50.294256Z"
    },
    "id": "26acbc37",
    "papermill": {
     "duration": 37.912342,
     "end_time": "2022-03-16T13:27:50.294377",
     "exception": false,
     "start_time": "2022-03-16T13:27:12.382035",
     "status": "completed"
    },
    "tags": []
   },
   "outputs": [
    {
     "data": {
      "image/png": "[encoded data removed]",
      "text/plain": [
       "<Figure size 432x288 with 1 Axes>"
      ]
     },
     "metadata": {
      "needs_background": "light"
     },
     "output_type": "display_data"
    },
    {
     "data": {
      "image/png": "[encoded data removed]",
      "text/plain": [
       "<Figure size 432x288 with 1 Axes>"
      ]
     },
     "metadata": {
      "needs_background": "light"
     },
     "output_type": "display_data"
    }
   ],
   "source": [
    "ABC_train_test2.training_GAN_skip_connection(disc3,gen3,disc_opt,gen_opt,train_data,batch_size,n_epochs,criterion,prior_model,variance,bias,device)"
   ]
  },
  {
   "cell_type": "code",
   "execution_count": 17,
   "id": "c5e0717b",
   "metadata": {
    "execution": {
     "iopub.execute_input": "2022-03-16T13:27:50.327184Z",
     "iopub.status.busy": "2022-03-16T13:27:50.326732Z",
     "iopub.status.idle": "2022-03-16T13:27:50.604532Z",
     "shell.execute_reply": "2022-03-16T13:27:50.604863Z"
    },
    "id": "c5e0717b",
    "papermill": {
     "duration": 0.295515,
     "end_time": "2022-03-16T13:27:50.604992",
     "exception": false,
     "start_time": "2022-03-16T13:27:50.309477",
     "status": "completed"
    },
    "tags": []
   },
   "outputs": [
    {
     "data": {
      "application/scrapbook.scrap.json+json": {
       "data": 0.005047894539733999,
       "encoder": "json",
       "name": "ABC-GAN Model 3 MSE",
       "version": 1
      }
     },
     "metadata": {
      "scrapbook": {
       "data": true,
       "display": false,
       "name": "ABC-GAN Model 3 MSE"
      }
     },
     "output_type": "display_data"
    },
    {
     "data": {
      "application/scrapbook.scrap.json+json": {
       "data": 0.0554371151663363,
       "encoder": "json",
       "name": "ABC-GAN Model 3 MAE",
       "version": 1
      }
     },
     "metadata": {
      "scrapbook": {
       "data": true,
       "display": false,
       "name": "ABC-GAN Model 3 MAE"
      }
     },
     "output_type": "display_data"
    },
    {
     "data": {
      "application/scrapbook.scrap.json+json": {
       "data": 1.1087423033267259,
       "encoder": "json",
       "name": "ABC-GAN Model 3 Manhattan Distance",
       "version": 1
      }
     },
     "metadata": {
      "scrapbook": {
       "data": true,
       "display": false,
       "name": "ABC-GAN Model 3 Manhattan Distance"
      }
     },
     "output_type": "display_data"
    },
    {
     "data": {
      "application/scrapbook.scrap.json+json": {
       "data": 0.3163971111387323,
       "encoder": "json",
       "name": "ABC-GAN Model 3 Euclidean distance",
       "version": 1
      }
     },
     "metadata": {
      "scrapbook": {
       "data": true,
       "display": false,
       "name": "ABC-GAN Model 3 Euclidean distance"
      }
     },
     "output_type": "display_data"
    },
    {
     "data": {
      "application/scrapbook.scrap.json+json": {
       "data": [
        [
         0.004476849791267281,
         0.00348785585497693,
         0.004901716676784009,
         0.005113523747497052,
         0.004375078978860826,
         0.005387910772054629,
         0.004013231099185723,
         0.007093448433305838,
         0.004272420729440542,
         0.004294831578321136,
         0.005226398201591655,
         0.005827908819155715,
         0.00391771687270266,
         0.0029884351790572484,
         0.004966633554149792,
         0.004357598969343669,
         0.00475842125178323,
         0.004739704120156231,
         0.006215979489267866,
         0.004504374677559377,
         0.004701504640599198,
         0.004860012055115793,
         0.005076458292143983,
         0.004988294148621432,
         0.0036911331676510407,
         0.0066147970406232005,
         0.005161479752693122,
         0.0037864634067984473,
         0.004714548810206233,
         0.005468555374598917,
         0.004471283809209537,
         0.006095287886387625,
         0.005052161033495285,
         0.004442220188067993,
         0.004491046081454277,
         0.004240693516635098,
         0.00464228973477099,
         0.004518275877912294,
         0.0052812881433660155,
         0.005747934413169344,
         0.0038009378882462043,
         0.004083331455960228,
         0.004979928560739434,
         0.0050461438894090285,
         0.005144389284472585,
         0.004231818772602149,
         0.004056286631399055,
         0.0060068709633642765,
         0.0054314306066932895,
         0.004566715570975656,
         0.0052031160291955885,
         0.0037406303599599082,
         0.005062160676287265,
         0.005066022750046796,
         0.005830950125879976,
         0.004772645849527103,
         0.0053503634838183226,
         0.005203273216099614,
         0.005112930754730206,
         0.005440354019416384,
         0.006808164502193438,
         0.0043219861367001415,
         0.004375122626987272,
         0.004328544862232354,
         0.004497661029401924,
         0.005168011196202539,
         0.005181417598077666,
         0.006216072590475653,
         0.005316533770572842,
         0.005154476551044574,
         0.006410329438360819,
         0.0055078925193917895,
         0.0033319660662487942,
         0.007698338985875663,
         0.0035731817963793335,
         0.005148188814229517,
         0.005031892428603492,
         0.006155898000699468,
         0.006123578917137042,
         0.0046385775878713415,
         0.0041902083425452,
         0.005434013994065958,
         0.008464358255669269,
         0.005056328334884409,
         0.003882199329083337,
         0.0038104755468032505,
         0.005334637480765637,
         0.004491784362092145,
         0.006054913798657614,
         0.00494983117669663,
         0.005700813042971166,
         0.0059783850304207424,
         0.006154623767652102,
         0.003953009210211668,
         0.005550558510394944,
         0.006423516719673785,
         0.006027830129868407,
         0.004366206856598278,
         0.00572165313669142,
         0.007160204470163922
        ],
        [
         0.051501116901636126,
         0.043833177909255026,
         0.05673151724040508,
         0.05977535806596279,
         0.0514351524412632,
         0.056663041934370995,
         0.04643143676221371,
         0.061702003702521324,
         0.051289096102118494,
         0.04568172208964825,
         0.05673936419188976,
         0.05989049933850765,
         0.0510022085160017,
         0.04586787186563015,
         0.05517120622098446,
         0.049823465570807454,
         0.054039984568953515,
         0.05458175502717495,
         0.06565991453826428,
         0.0522905882447958,
         0.05409652553498745,
         0.05457804165780544,
         0.05438384972512722,
         0.05637379847466946,
         0.04853193387389183,
         0.06710544936358928,
         0.05793108753859997,
         0.04641645066440105,
         0.05568206235766411,
         0.05632982216775417,
         0.05065657310187817,
         0.05818959586322307,
         0.054372113570570944,
         0.05713555626571178,
         0.04770875684916973,
         0.05210493169724941,
         0.055865378305315974,
         0.053565720841288564,
         0.05675896070897579,
         0.061055979877710345,
         0.04868180379271507,
         0.051397336274385454,
         0.05338951759040356,
         0.056377926096320155,
         0.055868403241038325,
         0.05321928523480892,
         0.04982310645282269,
         0.0625527199357748,
         0.05735503844916821,
         0.0542924877256155,
         0.05297084972262382,
         0.044897356256842616,
         0.05896038673818112,
         0.056912949308753014,
         0.05892835520207882,
         0.056424605473876,
         0.061529488489031794,
         0.054013962671160695,
         0.05422690324485302,
         0.055787015706300735,
         0.06531114690005779,
         0.05337822400033474,
         0.04970865212380886,
         0.05102340392768383,
         0.053415846452116965,
         0.05706141404807567,
         0.05703091435134411,
         0.06400776319205762,
         0.05639440380036831,
         0.05934000872075558,
         0.06289380006492137,
         0.05788863264024258,
         0.046040375158190726,
         0.06685324274003505,
         0.04970250837504864,
         0.052635305747389796,
         0.04712088964879513,
         0.06014295592904091,
         0.060421266779303553,
         0.05544579587876797,
         0.05044997446238995,
         0.05901334993541241,
         0.07403667084872723,
         0.05893867425620556,
         0.04638570658862591,
         0.04512069784104824,
         0.06133348755538463,
         0.05393929742276669,
         0.06271458379924297,
         0.05578144006431103,
         0.06017473265528679,
         0.058022893592715265,
         0.05798855386674404,
         0.049215729162096974,
         0.06091987006366253,
         0.06292093954980374,
         0.05777076445519924,
         0.05437450669705868,
         0.05803025774657726,
         0.06420026831328869
        ],
        [
         1.0300223380327225,
         0.8766635581851006,
         1.1346303448081017,
         1.1955071613192558,
         1.028703048825264,
         1.13326083868742,
         0.9286287352442741,
         1.2340400740504265,
         1.0257819220423698,
         0.9136344417929649,
         1.1347872838377953,
         1.197809986770153,
         1.020044170320034,
         0.917357437312603,
         1.1034241244196892,
         0.9964693114161491,
         1.0807996913790703,
         1.091635100543499,
         1.3131982907652855,
         1.045811764895916,
         1.081930510699749,
         1.0915608331561089,
         1.0876769945025444,
         1.1274759694933891,
         0.9706386774778366,
         1.3421089872717857,
         1.1586217507719994,
         0.9283290132880211,
         1.1136412471532822,
         1.1265964433550835,
         1.0131314620375633,
         1.1637919172644615,
         1.087442271411419,
         1.1427111253142357,
         0.9541751369833946,
         1.0420986339449883,
         1.1173075661063194,
         1.0713144168257713,
         1.1351792141795158,
         1.2211195975542068,
         0.9736360758543015,
         1.027946725487709,
         1.0677903518080711,
         1.127558521926403,
         1.1173680648207664,
         1.0643857046961784,
         0.9964621290564537,
         1.251054398715496,
         1.147100768983364,
         1.08584975451231,
         1.0594169944524765,
         0.8979471251368523,
         1.1792077347636223,
         1.1382589861750603,
         1.1785671040415764,
         1.12849210947752,
         1.2305897697806358,
         1.080279253423214,
         1.0845380648970604,
         1.1157403141260147,
         1.3062229380011559,
         1.0675644800066948,
         0.9941730424761772,
         1.0204680785536766,
         1.0683169290423393,
         1.1412282809615135,
         1.1406182870268822,
         1.2801552638411522,
         1.1278880760073662,
         1.1868001744151115,
         1.2578760012984276,
         1.1577726528048515,
         0.9208075031638145,
         1.3370648548007011,
         0.9940501675009727,
         1.0527061149477959,
         0.9424177929759026,
         1.2028591185808182,
         1.208425335586071,
         1.1089159175753593,
         1.008999489247799,
         1.1802669987082481,
         1.4807334169745445,
         1.1787734851241112,
         0.9277141317725182,
         0.9024139568209648,
         1.2266697511076927,
         1.0787859484553337,
         1.2542916759848595,
         1.1156288012862206,
         1.2034946531057358,
         1.1604578718543053,
         1.1597710773348808,
         0.9843145832419395,
         1.2183974012732506,
         1.2584187909960747,
         1.1554152891039848,
         1.0874901339411736,
         1.1606051549315453,
         1.2840053662657738
        ],
        [
         0.2992273313474984,
         0.2641157267175482,
         0.313104349276212,
         0.3197975530705966,
         0.29580665911574155,
         0.3282654648925052,
         0.2833101162749302,
         0.37665497297409567,
         0.29231560784332206,
         0.29308127126519484,
         0.3233078471547406,
         0.3414061750805253,
         0.2799184478630396,
         0.244476386551227,
         0.31517086014255163,
         0.295215140849641,
         0.30849380064381293,
         0.30788647648626044,
         0.35258983222060913,
         0.30014578716215146,
         0.3066432663731326,
         0.3117695320301775,
         0.3186364163790443,
         0.3158573775811302,
         0.2717032634198949,
         0.3637250896109093,
         0.32129362747160495,
         0.27518951312862366,
         0.3070683575429495,
         0.3307130289117415,
         0.299041261675025,
         0.34915005044787334,
         0.31787296309989266,
         0.29806778383676397,
         0.2997013874327003,
         0.29122821005648125,
         0.3047060791901267,
         0.3006085786504535,
         0.3250011736399121,
         0.3390555828524091,
         0.27571499372526714,
         0.28577373763032277,
         0.31559241311347885,
         0.31768361271582857,
         0.3207612596456307,
         0.29092331541497835,
         0.2848257934738023,
         0.346608452388694,
         0.3295885497614652,
         0.30221567037384595,
         0.32258691942469053,
         0.27351893389525733,
         0.31818738743976843,
         0.31830874163449535,
         0.3414952452342485,
         0.3089545548952824,
         0.32711965651175173,
         0.32259179208713956,
         0.3197790097780092,
         0.32985918266485725,
         0.36900310302742545,
         0.2940063311121086,
         0.2958081346747338,
         0.2942293276419723,
         0.2999220241796832,
         0.3214968490110763,
         0.32191357840506407,
         0.3525924727068249,
         0.3260838472102794,
         0.3210755845916838,
         0.3580594765778674,
         0.3319003621387536,
         0.2581459302893925,
         0.39238600856492484,
         0.2673268335345082,
         0.32087969129346644,
         0.31723469005149774,
         0.35088168948235154,
         0.34995939527713904,
         0.30458422768985727,
         0.28948949350693887,
         0.32966692263756026,
         0.41144521520293,
         0.3180040356625812,
         0.27864670567165645,
         0.2760607015423691,
         0.3266385611272998,
         0.2997260202949402,
         0.3479917757263127,
         0.3146372888484971,
         0.3376629397186243,
         0.3457856281114281,
         0.3508453724264324,
         0.2811764289627304,
         0.3331833882532244,
         0.35842758598282537,
         0.34721261871851394,
         0.2955065771382518,
         0.33827956298574763,
         0.3784231618218928
        ]
       ],
       "encoder": "json",
       "name": "ABC_GAN_3 Metrics",
       "version": 1
      }
     },
     "metadata": {
      "scrapbook": {
       "data": true,
       "display": false,
       "name": "ABC_GAN_3 Metrics"
      }
     },
     "output_type": "display_data"
    },
    {
     "name": "stdout",
     "output_type": "stream",
     "text": [
      "MSE\n",
      "0.005047894539733999\n"
     ]
    }
   ],
   "source": [
    "ABC_GAN3_metrics=ABC_train_test2.test_generator(gen3,test_data,prior_model,variance,bias,\"3\",device)\n",
    "sb.glue(\"ABC_GAN_3 Metrics\",ABC_GAN3_metrics)\n",
    "\n",
    "print(\"MSE\")\n",
    "print(mean(ABC_GAN3_metrics[0]))"
   ]
  },
  {
   "cell_type": "code",
   "execution_count": 18,
   "id": "c8e46b48",
   "metadata": {
    "execution": {
     "iopub.execute_input": "2022-03-16T13:27:50.640644Z",
     "iopub.status.busy": "2022-03-16T13:27:50.640266Z",
     "iopub.status.idle": "2022-03-16T13:27:50.929785Z",
     "shell.execute_reply": "2022-03-16T13:27:50.930071Z"
    },
    "id": "c8e46b48",
    "papermill": {
     "duration": 0.308505,
     "end_time": "2022-03-16T13:27:50.930191",
     "exception": false,
     "start_time": "2022-03-16T13:27:50.621686",
     "status": "completed"
    },
    "tags": []
   },
   "outputs": [
    {
     "data": {
      "image/png": "[encoded data removed]",
      "text/plain": [
       "<Figure size 432x288 with 1 Axes>"
      ]
     },
     "metadata": {
      "needs_background": "light"
     },
     "output_type": "display_data"
    },
    {
     "data": {
      "image/png": "[encoded data removed]",
      "text/plain": [
       "<Figure size 432x288 with 1 Axes>"
      ]
     },
     "metadata": {
      "needs_background": "light"
     },
     "output_type": "display_data"
    },
    {
     "data": {
      "image/png": "[encoded data removed]",
      "text/plain": [
       "<Figure size 432x288 with 1 Axes>"
      ]
     },
     "metadata": {
      "needs_background": "light"
     },
     "output_type": "display_data"
    },
    {
     "data": {
      "image/png": "[encoded data removed]",
      "text/plain": [
       "<Figure size 432x288 with 1 Axes>"
      ]
     },
     "metadata": {
      "needs_background": "light"
     },
     "output_type": "display_data"
    }
   ],
   "source": [
    "sanityChecks.discProbVsError(train_data,disc3,device)\n",
    "sanityChecks.discProbVsError(test_data,disc3,device)"
   ]
  },
  {
   "cell_type": "markdown",
   "id": "a5bd74c3",
   "metadata": {
    "id": "a5bd74c3",
    "papermill": {
     "duration": 0.018744,
     "end_time": "2022-03-16T13:27:50.968300",
     "exception": false,
     "start_time": "2022-03-16T13:27:50.949556",
     "status": "completed"
    },
    "tags": []
   },
   "source": [
    "## Skip Connection Model Analysis - ABC-GAN "
   ]
  },
  {
   "cell_type": "markdown",
   "id": "5744a8bf",
   "metadata": {
    "id": "5744a8bf",
    "papermill": {
     "duration": 0.018516,
     "end_time": "2022-03-16T13:27:51.005454",
     "exception": false,
     "start_time": "2022-03-16T13:27:50.986938",
     "status": "completed"
    },
    "tags": []
   },
   "source": [
    "### Weight Analysis \n",
    "\n",
    "Study the weights of the skip connection layer\n",
    "\n",
    "Equation of the skip connection is \n",
    "\n",
    "$output = y_{gan} * w + y_{abc} * (1-w)$"
   ]
  },
  {
   "cell_type": "code",
   "execution_count": 19,
   "id": "52c31dea",
   "metadata": {
    "execution": {
     "iopub.execute_input": "2022-03-16T13:27:51.045633Z",
     "iopub.status.busy": "2022-03-16T13:27:51.045254Z",
     "iopub.status.idle": "2022-03-16T13:27:51.048954Z",
     "shell.execute_reply": "2022-03-16T13:27:51.048614Z"
    },
    "id": "52c31dea",
    "papermill": {
     "duration": 0.025018,
     "end_time": "2022-03-16T13:27:51.049051",
     "exception": false,
     "start_time": "2022-03-16T13:27:51.024033",
     "status": "completed"
    },
    "tags": []
   },
   "outputs": [
    {
     "name": "stdout",
     "output_type": "stream",
     "text": [
      "Weight of the node at skip connection\n",
      "Parameter containing:\n",
      "tensor([[0.0690]], requires_grad=True)\n"
     ]
    },
    {
     "data": {
      "application/scrapbook.scrap.json+json": {
       "data": 0.06901369988918304,
       "encoder": "json",
       "name": "Skip Connection Weight",
       "version": 1
      }
     },
     "metadata": {
      "scrapbook": {
       "data": true,
       "display": false,
       "name": "Skip Connection Weight"
      }
     },
     "output_type": "display_data"
    }
   ],
   "source": [
    "print(\"Weight of the node at skip connection\")\n",
    "for name,param in gen3.named_parameters():\n",
    "    if(name == \"skipNode.weight\"):\n",
    "        print(param)\n",
    "        sb.glue(\"Skip Connection Weight\",param.item())"
   ]
  }
 ],
 "metadata": {
  "colab": {
   "collapsed_sections": [],
   "name": "ABC_GAN_Model-Catboost_Pre-gen.ipynb",
   "provenance": []
  },
  "interpreter": {
   "hash": "31f2aee4e71d21fbe5cf8b01ff0e069b9275f58929596ceb00d14d90e3e16cd6"
  },
  "kernelspec": {
   "display_name": "Python 3 (ipykernel)",
   "language": "python",
   "name": "python3"
  },
  "language_info": {
   "codemirror_mode": {
    "name": "ipython",
    "version": 3
   },
   "file_extension": ".py",
   "mimetype": "text/x-python",
   "name": "python",
   "nbconvert_exporter": "python",
   "pygments_lexer": "ipython3",
   "version": "3.8.11"
  },
  "papermill": {
   "default_parameters": {},
   "duration": 60.696538,
   "end_time": "2022-03-16T13:27:51.376386",
   "environment_variables": {},
   "exception": null,
   "input_path": "ABC_GAN-Catboost.ipynb",
   "output_path": "./ABC_GAN_Catboost/ABC-GAN_output_6_1.ipynb",
   "parameters": {
    "bias": 1,
    "variance": 0.1
   },
   "start_time": "2022-03-16T13:26:50.679848",
   "version": "2.3.3"
  }
 },
 "nbformat": 4,
 "nbformat_minor": 5
}