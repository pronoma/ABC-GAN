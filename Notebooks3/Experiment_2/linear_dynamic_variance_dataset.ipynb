{
 "cells": [
  {
   "cell_type": "code",
   "execution_count": 1,
   "metadata": {},
   "outputs": [],
   "source": [
    "import pandas as pd\n",
    "import numpy as np\n",
    "import math"
   ]
  },
  {
   "cell_type": "code",
   "execution_count": 2,
   "metadata": {},
   "outputs": [],
   "source": [
    "#Dataset Size\n",
    "n = 100 "
   ]
  },
  {
   "cell_type": "code",
   "execution_count": 3,
   "metadata": {},
   "outputs": [],
   "source": [
    "x = np.random.uniform(0,1,(n,5))"
   ]
  },
  {
   "cell_type": "code",
   "execution_count": 4,
   "metadata": {},
   "outputs": [],
   "source": [
    "y = 4 * x[:,0] + 3 * x[:,1] + 12 * x[:,2] + 2 * x[:,3] + x[:,4] + 10 + np.random.normal(0,np.square(x[:,1]) + 2 * abs(x[:,2]))\n",
    "y = np.reshape(y,(100,1))"
   ]
  },
  {
   "cell_type": "code",
   "execution_count": 5,
   "metadata": {},
   "outputs": [
    {
     "data": {
      "text/html": [
       "<div>\n",
       "<style scoped>\n",
       "    .dataframe tbody tr th:only-of-type {\n",
       "        vertical-align: middle;\n",
       "    }\n",
       "\n",
       "    .dataframe tbody tr th {\n",
       "        vertical-align: top;\n",
       "    }\n",
       "\n",
       "    .dataframe thead th {\n",
       "        text-align: right;\n",
       "    }\n",
       "</style>\n",
       "<table border=\"1\" class=\"dataframe\">\n",
       "  <thead>\n",
       "    <tr style=\"text-align: right;\">\n",
       "      <th></th>\n",
       "      <th>X0</th>\n",
       "      <th>X1</th>\n",
       "      <th>X2</th>\n",
       "      <th>X3</th>\n",
       "      <th>X4</th>\n",
       "      <th>Y</th>\n",
       "    </tr>\n",
       "  </thead>\n",
       "  <tbody>\n",
       "    <tr>\n",
       "      <th>0</th>\n",
       "      <td>0.979648</td>\n",
       "      <td>0.236006</td>\n",
       "      <td>0.631384</td>\n",
       "      <td>0.340102</td>\n",
       "      <td>0.104296</td>\n",
       "      <td>21.693515</td>\n",
       "    </tr>\n",
       "    <tr>\n",
       "      <th>1</th>\n",
       "      <td>0.896530</td>\n",
       "      <td>0.049425</td>\n",
       "      <td>0.418649</td>\n",
       "      <td>0.538867</td>\n",
       "      <td>0.133365</td>\n",
       "      <td>19.938767</td>\n",
       "    </tr>\n",
       "    <tr>\n",
       "      <th>2</th>\n",
       "      <td>0.474301</td>\n",
       "      <td>0.153330</td>\n",
       "      <td>0.171881</td>\n",
       "      <td>0.474207</td>\n",
       "      <td>0.974987</td>\n",
       "      <td>16.522061</td>\n",
       "    </tr>\n",
       "    <tr>\n",
       "      <th>3</th>\n",
       "      <td>0.744602</td>\n",
       "      <td>0.589923</td>\n",
       "      <td>0.595234</td>\n",
       "      <td>0.384557</td>\n",
       "      <td>0.501106</td>\n",
       "      <td>26.906855</td>\n",
       "    </tr>\n",
       "    <tr>\n",
       "      <th>4</th>\n",
       "      <td>0.818485</td>\n",
       "      <td>0.736160</td>\n",
       "      <td>0.259069</td>\n",
       "      <td>0.889271</td>\n",
       "      <td>0.674801</td>\n",
       "      <td>21.946108</td>\n",
       "    </tr>\n",
       "    <tr>\n",
       "      <th>...</th>\n",
       "      <td>...</td>\n",
       "      <td>...</td>\n",
       "      <td>...</td>\n",
       "      <td>...</td>\n",
       "      <td>...</td>\n",
       "      <td>...</td>\n",
       "    </tr>\n",
       "    <tr>\n",
       "      <th>95</th>\n",
       "      <td>0.326081</td>\n",
       "      <td>0.921064</td>\n",
       "      <td>0.938273</td>\n",
       "      <td>0.026495</td>\n",
       "      <td>0.538871</td>\n",
       "      <td>19.605372</td>\n",
       "    </tr>\n",
       "    <tr>\n",
       "      <th>96</th>\n",
       "      <td>0.181127</td>\n",
       "      <td>0.112286</td>\n",
       "      <td>0.728793</td>\n",
       "      <td>0.257727</td>\n",
       "      <td>0.410254</td>\n",
       "      <td>20.273059</td>\n",
       "    </tr>\n",
       "    <tr>\n",
       "      <th>97</th>\n",
       "      <td>0.711829</td>\n",
       "      <td>0.874436</td>\n",
       "      <td>0.673658</td>\n",
       "      <td>0.671777</td>\n",
       "      <td>0.416095</td>\n",
       "      <td>27.285643</td>\n",
       "    </tr>\n",
       "    <tr>\n",
       "      <th>98</th>\n",
       "      <td>0.603953</td>\n",
       "      <td>0.973375</td>\n",
       "      <td>0.398574</td>\n",
       "      <td>0.692359</td>\n",
       "      <td>0.957018</td>\n",
       "      <td>19.348742</td>\n",
       "    </tr>\n",
       "    <tr>\n",
       "      <th>99</th>\n",
       "      <td>0.077940</td>\n",
       "      <td>0.878520</td>\n",
       "      <td>0.127962</td>\n",
       "      <td>0.581513</td>\n",
       "      <td>0.332823</td>\n",
       "      <td>17.264819</td>\n",
       "    </tr>\n",
       "  </tbody>\n",
       "</table>\n",
       "<p>100 rows × 6 columns</p>\n",
       "</div>"
      ],
      "text/plain": [
       "          X0        X1        X2        X3        X4          Y\n",
       "0   0.979648  0.236006  0.631384  0.340102  0.104296  21.693515\n",
       "1   0.896530  0.049425  0.418649  0.538867  0.133365  19.938767\n",
       "2   0.474301  0.153330  0.171881  0.474207  0.974987  16.522061\n",
       "3   0.744602  0.589923  0.595234  0.384557  0.501106  26.906855\n",
       "4   0.818485  0.736160  0.259069  0.889271  0.674801  21.946108\n",
       "..       ...       ...       ...       ...       ...        ...\n",
       "95  0.326081  0.921064  0.938273  0.026495  0.538871  19.605372\n",
       "96  0.181127  0.112286  0.728793  0.257727  0.410254  20.273059\n",
       "97  0.711829  0.874436  0.673658  0.671777  0.416095  27.285643\n",
       "98  0.603953  0.973375  0.398574  0.692359  0.957018  19.348742\n",
       "99  0.077940  0.878520  0.127962  0.581513  0.332823  17.264819\n",
       "\n",
       "[100 rows x 6 columns]"
      ]
     },
     "metadata": {},
     "output_type": "display_data"
    }
   ],
   "source": [
    "dataset = np.concatenate((x,y), axis = 1)\n",
    "df = pd.DataFrame(dataset,columns=['X0','X1','X2','X3','X4','Y'])\n",
    "display(df)"
   ]
  },
  {
   "cell_type": "code",
   "execution_count": 6,
   "metadata": {},
   "outputs": [],
   "source": [
    "df.to_csv(\"linear_dynamic_variance_dataset.csv\")"
   ]
  }
 ],
 "metadata": {
  "interpreter": {
   "hash": "10498c76ddd8160350534c6544a2b2fb65f2138dbc70420f7c81a3268f830f23"
  },
  "kernelspec": {
   "display_name": "Python 3.8.11 ('papermill')",
   "language": "python",
   "name": "python3"
  },
  "language_info": {
   "codemirror_mode": {
    "name": "ipython",
    "version": 3
   },
   "file_extension": ".py",
   "mimetype": "text/x-python",
   "name": "python",
   "nbconvert_exporter": "python",
   "pygments_lexer": "ipython3",
   "version": "3.8.11"
  },
  "orig_nbformat": 4
 },
 "nbformat": 4,
 "nbformat_minor": 2
}
