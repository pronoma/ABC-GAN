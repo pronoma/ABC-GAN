{
 "cells": [
  {
   "cell_type": "code",
   "execution_count": 1,
   "metadata": {},
   "outputs": [],
   "source": [
    "import pandas as pd\n",
    "import numpy as np\n",
    "import math"
   ]
  },
  {
   "cell_type": "code",
   "execution_count": 2,
   "metadata": {},
   "outputs": [],
   "source": [
    "#Dataset Size\n",
    "n = 100"
   ]
  },
  {
   "cell_type": "code",
   "execution_count": 3,
   "metadata": {},
   "outputs": [],
   "source": [
    "x = np.random.uniform(0,1,(n,5))"
   ]
  },
  {
   "cell_type": "code",
   "execution_count": 4,
   "metadata": {},
   "outputs": [],
   "source": [
    "y = 10 * np.sin(math.pi * x[:,0]* x[:,1]) + 20 * np.square(x[:,2]+0.5) + 10 * x[:,3] + 5* x[:,4] + np.random.normal(0,np.square(x[:,1]) + 2 * abs(x[:,2]))\n",
    "y = np.reshape(y,(100,1))"
   ]
  },
  {
   "cell_type": "code",
   "execution_count": 5,
   "metadata": {},
   "outputs": [
    {
     "data": {
      "text/html": [
       "<div>\n",
       "<style scoped>\n",
       "    .dataframe tbody tr th:only-of-type {\n",
       "        vertical-align: middle;\n",
       "    }\n",
       "\n",
       "    .dataframe tbody tr th {\n",
       "        vertical-align: top;\n",
       "    }\n",
       "\n",
       "    .dataframe thead th {\n",
       "        text-align: right;\n",
       "    }\n",
       "</style>\n",
       "<table border=\"1\" class=\"dataframe\">\n",
       "  <thead>\n",
       "    <tr style=\"text-align: right;\">\n",
       "      <th></th>\n",
       "      <th>X0</th>\n",
       "      <th>X1</th>\n",
       "      <th>X2</th>\n",
       "      <th>X3</th>\n",
       "      <th>X4</th>\n",
       "      <th>Y</th>\n",
       "    </tr>\n",
       "  </thead>\n",
       "  <tbody>\n",
       "    <tr>\n",
       "      <th>0</th>\n",
       "      <td>0.315304</td>\n",
       "      <td>0.987011</td>\n",
       "      <td>0.218901</td>\n",
       "      <td>0.794746</td>\n",
       "      <td>0.109435</td>\n",
       "      <td>28.655630</td>\n",
       "    </tr>\n",
       "    <tr>\n",
       "      <th>1</th>\n",
       "      <td>0.631239</td>\n",
       "      <td>0.197705</td>\n",
       "      <td>0.796847</td>\n",
       "      <td>0.201099</td>\n",
       "      <td>0.726132</td>\n",
       "      <td>40.018183</td>\n",
       "    </tr>\n",
       "    <tr>\n",
       "      <th>2</th>\n",
       "      <td>0.697501</td>\n",
       "      <td>0.570345</td>\n",
       "      <td>0.656077</td>\n",
       "      <td>0.511616</td>\n",
       "      <td>0.738524</td>\n",
       "      <td>44.313752</td>\n",
       "    </tr>\n",
       "    <tr>\n",
       "      <th>3</th>\n",
       "      <td>0.470572</td>\n",
       "      <td>0.027676</td>\n",
       "      <td>0.031520</td>\n",
       "      <td>0.439152</td>\n",
       "      <td>0.289870</td>\n",
       "      <td>11.845246</td>\n",
       "    </tr>\n",
       "    <tr>\n",
       "      <th>4</th>\n",
       "      <td>0.458924</td>\n",
       "      <td>0.433668</td>\n",
       "      <td>0.038507</td>\n",
       "      <td>0.899776</td>\n",
       "      <td>0.919173</td>\n",
       "      <td>25.458610</td>\n",
       "    </tr>\n",
       "    <tr>\n",
       "      <th>...</th>\n",
       "      <td>...</td>\n",
       "      <td>...</td>\n",
       "      <td>...</td>\n",
       "      <td>...</td>\n",
       "      <td>...</td>\n",
       "      <td>...</td>\n",
       "    </tr>\n",
       "    <tr>\n",
       "      <th>95</th>\n",
       "      <td>0.780655</td>\n",
       "      <td>0.324601</td>\n",
       "      <td>0.079747</td>\n",
       "      <td>0.419485</td>\n",
       "      <td>0.041743</td>\n",
       "      <td>18.598602</td>\n",
       "    </tr>\n",
       "    <tr>\n",
       "      <th>96</th>\n",
       "      <td>0.336497</td>\n",
       "      <td>0.341321</td>\n",
       "      <td>0.521461</td>\n",
       "      <td>0.861080</td>\n",
       "      <td>0.861385</td>\n",
       "      <td>35.018921</td>\n",
       "    </tr>\n",
       "    <tr>\n",
       "      <th>97</th>\n",
       "      <td>0.493670</td>\n",
       "      <td>0.751583</td>\n",
       "      <td>0.799461</td>\n",
       "      <td>0.473575</td>\n",
       "      <td>0.654692</td>\n",
       "      <td>49.662698</td>\n",
       "    </tr>\n",
       "    <tr>\n",
       "      <th>98</th>\n",
       "      <td>0.879572</td>\n",
       "      <td>0.425852</td>\n",
       "      <td>0.614746</td>\n",
       "      <td>0.261312</td>\n",
       "      <td>0.045842</td>\n",
       "      <td>36.460477</td>\n",
       "    </tr>\n",
       "    <tr>\n",
       "      <th>99</th>\n",
       "      <td>0.173221</td>\n",
       "      <td>0.565768</td>\n",
       "      <td>0.840664</td>\n",
       "      <td>0.807839</td>\n",
       "      <td>0.410123</td>\n",
       "      <td>51.576014</td>\n",
       "    </tr>\n",
       "  </tbody>\n",
       "</table>\n",
       "<p>100 rows × 6 columns</p>\n",
       "</div>"
      ],
      "text/plain": [
       "          X0        X1        X2        X3        X4          Y\n",
       "0   0.315304  0.987011  0.218901  0.794746  0.109435  28.655630\n",
       "1   0.631239  0.197705  0.796847  0.201099  0.726132  40.018183\n",
       "2   0.697501  0.570345  0.656077  0.511616  0.738524  44.313752\n",
       "3   0.470572  0.027676  0.031520  0.439152  0.289870  11.845246\n",
       "4   0.458924  0.433668  0.038507  0.899776  0.919173  25.458610\n",
       "..       ...       ...       ...       ...       ...        ...\n",
       "95  0.780655  0.324601  0.079747  0.419485  0.041743  18.598602\n",
       "96  0.336497  0.341321  0.521461  0.861080  0.861385  35.018921\n",
       "97  0.493670  0.751583  0.799461  0.473575  0.654692  49.662698\n",
       "98  0.879572  0.425852  0.614746  0.261312  0.045842  36.460477\n",
       "99  0.173221  0.565768  0.840664  0.807839  0.410123  51.576014\n",
       "\n",
       "[100 rows x 6 columns]"
      ]
     },
     "metadata": {},
     "output_type": "display_data"
    }
   ],
   "source": [
    "dataset = np.concatenate((x,y), axis = 1)\n",
    "df = pd.DataFrame(dataset,columns=['X0','X1','X2','X3','X4','Y'])\n",
    "display(df)"
   ]
  },
  {
   "cell_type": "code",
   "execution_count": 6,
   "metadata": {},
   "outputs": [],
   "source": [
    "df.to_csv(\"quadratic_dynamic_variance_dataset.csv\")"
   ]
  }
 ],
 "metadata": {
  "interpreter": {
   "hash": "10498c76ddd8160350534c6544a2b2fb65f2138dbc70420f7c81a3268f830f23"
  },
  "kernelspec": {
   "display_name": "Python 3.8.11 ('papermill')",
   "language": "python",
   "name": "python3"
  },
  "language_info": {
   "codemirror_mode": {
    "name": "ipython",
    "version": 3
   },
   "file_extension": ".py",
   "mimetype": "text/x-python",
   "name": "python",
   "nbconvert_exporter": "python",
   "pygments_lexer": "ipython3",
   "version": "3.8.11"
  },
  "orig_nbformat": 4
 },
 "nbformat": 4,
 "nbformat_minor": 2
}
