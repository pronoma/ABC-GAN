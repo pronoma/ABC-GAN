{
 "cells": [
  {
   "cell_type": "code",
   "execution_count": 1,
   "metadata": {},
   "outputs": [],
   "source": [
    "import pandas as pd\n",
    "import numpy as np\n",
    "import math"
   ]
  },
  {
   "cell_type": "code",
   "execution_count": 2,
   "metadata": {},
   "outputs": [],
   "source": [
    "#Dataset Size\n",
    "n = 100\n",
    "variance = 1 "
   ]
  },
  {
   "cell_type": "code",
   "execution_count": 3,
   "metadata": {},
   "outputs": [],
   "source": [
    "x = np.random.uniform(0,1,(n,5))"
   ]
  },
  {
   "cell_type": "code",
   "execution_count": 4,
   "metadata": {},
   "outputs": [],
   "source": [
    "y = 10 * np.sin(math.pi * x[:,0]* x[:,1]) + 20 * np.square(x[:,2]+0.5) + 10 * x[:,3] + 5* x[:,4]\n",
    "y = y + + np.random.normal(0,variance,y.shape)\n",
    "y = np.reshape(y,(100,1))"
   ]
  },
  {
   "cell_type": "code",
   "execution_count": 5,
   "metadata": {},
   "outputs": [
    {
     "data": {
      "text/html": [
       "<div>\n",
       "<style scoped>\n",
       "    .dataframe tbody tr th:only-of-type {\n",
       "        vertical-align: middle;\n",
       "    }\n",
       "\n",
       "    .dataframe tbody tr th {\n",
       "        vertical-align: top;\n",
       "    }\n",
       "\n",
       "    .dataframe thead th {\n",
       "        text-align: right;\n",
       "    }\n",
       "</style>\n",
       "<table border=\"1\" class=\"dataframe\">\n",
       "  <thead>\n",
       "    <tr style=\"text-align: right;\">\n",
       "      <th></th>\n",
       "      <th>X0</th>\n",
       "      <th>X1</th>\n",
       "      <th>X2</th>\n",
       "      <th>X3</th>\n",
       "      <th>X4</th>\n",
       "      <th>Y</th>\n",
       "    </tr>\n",
       "  </thead>\n",
       "  <tbody>\n",
       "    <tr>\n",
       "      <th>0</th>\n",
       "      <td>0.998824</td>\n",
       "      <td>0.688585</td>\n",
       "      <td>0.172086</td>\n",
       "      <td>0.516471</td>\n",
       "      <td>0.637355</td>\n",
       "      <td>25.691047</td>\n",
       "    </tr>\n",
       "    <tr>\n",
       "      <th>1</th>\n",
       "      <td>0.007501</td>\n",
       "      <td>0.714049</td>\n",
       "      <td>0.547857</td>\n",
       "      <td>0.841765</td>\n",
       "      <td>0.238708</td>\n",
       "      <td>29.859570</td>\n",
       "    </tr>\n",
       "    <tr>\n",
       "      <th>2</th>\n",
       "      <td>0.886862</td>\n",
       "      <td>0.763094</td>\n",
       "      <td>0.657418</td>\n",
       "      <td>0.354995</td>\n",
       "      <td>0.623382</td>\n",
       "      <td>41.162844</td>\n",
       "    </tr>\n",
       "    <tr>\n",
       "      <th>3</th>\n",
       "      <td>0.629512</td>\n",
       "      <td>0.538282</td>\n",
       "      <td>0.751046</td>\n",
       "      <td>0.549787</td>\n",
       "      <td>0.601327</td>\n",
       "      <td>49.251305</td>\n",
       "    </tr>\n",
       "    <tr>\n",
       "      <th>4</th>\n",
       "      <td>0.752578</td>\n",
       "      <td>0.266515</td>\n",
       "      <td>0.968932</td>\n",
       "      <td>0.674608</td>\n",
       "      <td>0.357547</td>\n",
       "      <td>57.438698</td>\n",
       "    </tr>\n",
       "    <tr>\n",
       "      <th>...</th>\n",
       "      <td>...</td>\n",
       "      <td>...</td>\n",
       "      <td>...</td>\n",
       "      <td>...</td>\n",
       "      <td>...</td>\n",
       "      <td>...</td>\n",
       "    </tr>\n",
       "    <tr>\n",
       "      <th>95</th>\n",
       "      <td>0.970466</td>\n",
       "      <td>0.802114</td>\n",
       "      <td>0.241715</td>\n",
       "      <td>0.035008</td>\n",
       "      <td>0.871398</td>\n",
       "      <td>21.955961</td>\n",
       "    </tr>\n",
       "    <tr>\n",
       "      <th>96</th>\n",
       "      <td>0.461988</td>\n",
       "      <td>0.644680</td>\n",
       "      <td>0.718761</td>\n",
       "      <td>0.540594</td>\n",
       "      <td>0.332765</td>\n",
       "      <td>43.927632</td>\n",
       "    </tr>\n",
       "    <tr>\n",
       "      <th>97</th>\n",
       "      <td>0.657989</td>\n",
       "      <td>0.654028</td>\n",
       "      <td>0.303993</td>\n",
       "      <td>0.812238</td>\n",
       "      <td>0.092870</td>\n",
       "      <td>31.007740</td>\n",
       "    </tr>\n",
       "    <tr>\n",
       "      <th>98</th>\n",
       "      <td>0.788087</td>\n",
       "      <td>0.885789</td>\n",
       "      <td>0.245246</td>\n",
       "      <td>0.685691</td>\n",
       "      <td>0.665624</td>\n",
       "      <td>29.436286</td>\n",
       "    </tr>\n",
       "    <tr>\n",
       "      <th>99</th>\n",
       "      <td>0.334569</td>\n",
       "      <td>0.786072</td>\n",
       "      <td>0.908127</td>\n",
       "      <td>0.408092</td>\n",
       "      <td>0.013762</td>\n",
       "      <td>51.739977</td>\n",
       "    </tr>\n",
       "  </tbody>\n",
       "</table>\n",
       "<p>100 rows × 6 columns</p>\n",
       "</div>"
      ],
      "text/plain": [
       "          X0        X1        X2        X3        X4          Y\n",
       "0   0.998824  0.688585  0.172086  0.516471  0.637355  25.691047\n",
       "1   0.007501  0.714049  0.547857  0.841765  0.238708  29.859570\n",
       "2   0.886862  0.763094  0.657418  0.354995  0.623382  41.162844\n",
       "3   0.629512  0.538282  0.751046  0.549787  0.601327  49.251305\n",
       "4   0.752578  0.266515  0.968932  0.674608  0.357547  57.438698\n",
       "..       ...       ...       ...       ...       ...        ...\n",
       "95  0.970466  0.802114  0.241715  0.035008  0.871398  21.955961\n",
       "96  0.461988  0.644680  0.718761  0.540594  0.332765  43.927632\n",
       "97  0.657989  0.654028  0.303993  0.812238  0.092870  31.007740\n",
       "98  0.788087  0.885789  0.245246  0.685691  0.665624  29.436286\n",
       "99  0.334569  0.786072  0.908127  0.408092  0.013762  51.739977\n",
       "\n",
       "[100 rows x 6 columns]"
      ]
     },
     "metadata": {},
     "output_type": "display_data"
    }
   ],
   "source": [
    "dataset = np.concatenate((x,y), axis = 1)\n",
    "df = pd.DataFrame(dataset,columns=['X0','X1','X2','X3','X4','Y'])\n",
    "display(df)"
   ]
  },
  {
   "cell_type": "code",
   "execution_count": 6,
   "metadata": {},
   "outputs": [],
   "source": [
    "df.to_csv(\"quadratic_constant_variance_dataset.csv\")"
   ]
  }
 ],
 "metadata": {
  "interpreter": {
   "hash": "10498c76ddd8160350534c6544a2b2fb65f2138dbc70420f7c81a3268f830f23"
  },
  "kernelspec": {
   "display_name": "Python 3.8.11 ('papermill')",
   "language": "python",
   "name": "python3"
  },
  "language_info": {
   "codemirror_mode": {
    "name": "ipython",
    "version": 3
   },
   "file_extension": ".py",
   "mimetype": "text/x-python",
   "name": "python",
   "nbconvert_exporter": "python",
   "pygments_lexer": "ipython3",
   "version": "3.8.11"
  },
  "orig_nbformat": 4
 },
 "nbformat": 4,
 "nbformat_minor": 2
}
