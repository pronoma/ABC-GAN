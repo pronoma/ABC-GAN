{
 "cells": [
  {
   "cell_type": "code",
   "execution_count": null,
   "id": "423b7ca4",
   "metadata": {},
   "outputs": [],
   "source": [
    "import warnings\n",
    "warnings.filterwarnings('ignore')"
   ]
  },
  {
   "cell_type": "code",
   "execution_count": null,
   "id": "618121c9",
   "metadata": {},
   "outputs": [],
   "source": [
    "import scrapbook as sb \n",
    "import pandas as pd\n",
    "import numpy as np \n",
    "import seaborn as sns \n",
    "import numpy as np\n",
    "from statistics import mean, median\n",
    "import matplotlib.pyplot as plt"
   ]
  },
  {
   "cell_type": "code",
   "execution_count": null,
   "id": "cf20f852",
   "metadata": {},
   "outputs": [],
   "source": [
    "book = sb.read_notebooks(\"./GAN_Output\")\n",
    "gan_data = []\n",
    "gan_mse = []\n",
    "for nb in book.notebooks:\n",
    "    metrics = nb.scraps['GAN_1 Metrics'].data\n",
    "    for i in range(1000):\n",
    "        gan_mse.append(metrics[0][i])\n",
    "    nbList = [nb.scraps['GAN Model MSE'].data,\n",
    "              nb.scraps['GAN Model MAE'].data,\n",
    "              nb.scraps['GAN Model Euclidean distance'].data,\n",
    "              nb.scraps['GAN Model Manhattan Distance'].data]        \n",
    "    gan_data.append(nbList)\n",
    "    \n",
    "df = pd.DataFrame(gan_data, columns = ['MSE','MAE','Euclidean Distance','Manhattan Distance'])\n",
    "display(df.style)\n",
    "print(\"MEDIAN:\")\n",
    "print(df.median(axis = 0))\n",
    "gan_data = np.array(gan_data)\n",
    "gan_median = median(gan_data[:,1])"
   ]
  },
  {
   "cell_type": "code",
   "execution_count": null,
   "id": "ea491444",
   "metadata": {},
   "outputs": [],
   "source": [
    "book = sb.read_notebooks(\"./Output_B\")\n",
    "abc_mae = []\n",
    "abc_mae_skip = []\n",
    "abc_mae_mean = []\n",
    "abc_mae_skip_mean = []\n",
    "abc_weights = []\n",
    "prior_model = []\n",
    "abc_pre_generator = []\n",
    "\n",
    "for nb in book.notebooks:\n",
    "    metrics1 = np.array(nb.scraps['ABC_GAN_1 Metrics'].data)\n",
    "    metrics3 = np.array(nb.scraps['ABC_GAN_3 Metrics'].data)    \n",
    "    #Divide data according to parameters \n",
    "    for j in range(100):\n",
    "        abc_mae.append(metrics1[1,j])\n",
    "        abc_mae_skip.append(metrics3[1,j])\n",
    "    abc_weights.append(nb.scraps['Skip Connection Weight'].data)\n",
    "    prior_model.append(nb.scraps['Prior Model MAE'].data)\n",
    "    abc_pre_generator.append(nb.scraps['Pre-generator MAE'].data)\n",
    "    abc_mae_skip_mean.append(mean(metrics3[1,:]))\n",
    "    abc_mae_mean.append(mean(metrics1[1,:]))"
   ]
  },
  {
   "cell_type": "code",
   "execution_count": null,
   "id": "d0d13f91",
   "metadata": {},
   "outputs": [],
   "source": [
    "data = []\n",
    "data_median_stats = []\n",
    "for j in range(len(abc_weights)):\n",
    "    data.append([prior_model[j],\n",
    "                    abc_pre_generator[j],abc_weights[j],abc_mae_mean[j],abc_mae_skip_mean[j]])\n",
    "\n",
    "df = pd.DataFrame(data, columns = ['Baseline','Prior Model','Weight','ABC_GAN','Skip_GAN'])\n",
    "data_median_stats = [gan_median,df['Baseline'].median(),df['Prior Model'].median(), df['ABC_GAN'].median(), df['Skip_GAN'].median(),\n",
    "                    df['Weight'].median()]            \n",
    "df"
   ]
  },
  {
   "cell_type": "code",
   "execution_count": null,
   "id": "5aa4de83",
   "metadata": {},
   "outputs": [],
   "source": [
    "data_median_stats = np.reshape(data_median_stats,(1,6))\n",
    "median_output = pd.DataFrame(data_median_stats,columns=['GAN','Baseline','Prior Model','ABC_GAN','Skip_GAN','Weight'])\n",
    "median_output.head()"
   ]
  }
 ],
 "metadata": {
  "interpreter": {
   "hash": "10498c76ddd8160350534c6544a2b2fb65f2138dbc70420f7c81a3268f830f23"
  },
  "kernelspec": {
   "display_name": "papermill-tutorial",
   "language": "python",
   "name": "python3"
  },
  "language_info": {
   "codemirror_mode": {
    "name": "ipython",
    "version": 3
   },
   "file_extension": ".py",
   "mimetype": "text/x-python",
   "name": "python",
   "nbconvert_exporter": "python",
   "pygments_lexer": "ipython3",
   "version": "3.8.11"
  }
 },
 "nbformat": 4,
 "nbformat_minor": 5
}
