{
 "cells": [
  {
   "cell_type": "code",
   "execution_count": 1,
   "metadata": {},
   "outputs": [],
   "source": [
    "import pandas as pd\n",
    "import numpy as np\n",
    "import math"
   ]
  },
  {
   "cell_type": "code",
   "execution_count": 2,
   "metadata": {},
   "outputs": [],
   "source": [
    "#Dataset Size\n",
    "n = 5000 "
   ]
  },
  {
   "cell_type": "code",
   "execution_count": 3,
   "metadata": {},
   "outputs": [],
   "source": [
    "x = np.random.uniform(0,1,(n,5))"
   ]
  },
  {
   "cell_type": "code",
   "execution_count": 4,
   "metadata": {},
   "outputs": [],
   "source": [
    "y = 4 * x[:,0] + 3 * x[:,1] + 12 * x[:,2] + 2 * x[:,3] + x[:,4] + 10 + np.random.normal(0,np.square(x[:,1]) + 2 * abs(x[:,2]))\n",
    "y = np.reshape(y,(n,1))"
   ]
  },
  {
   "cell_type": "code",
   "execution_count": 5,
   "metadata": {},
   "outputs": [
    {
     "data": {
      "text/html": [
       "<div>\n",
       "<style scoped>\n",
       "    .dataframe tbody tr th:only-of-type {\n",
       "        vertical-align: middle;\n",
       "    }\n",
       "\n",
       "    .dataframe tbody tr th {\n",
       "        vertical-align: top;\n",
       "    }\n",
       "\n",
       "    .dataframe thead th {\n",
       "        text-align: right;\n",
       "    }\n",
       "</style>\n",
       "<table border=\"1\" class=\"dataframe\">\n",
       "  <thead>\n",
       "    <tr style=\"text-align: right;\">\n",
       "      <th></th>\n",
       "      <th>X0</th>\n",
       "      <th>X1</th>\n",
       "      <th>X2</th>\n",
       "      <th>X3</th>\n",
       "      <th>X4</th>\n",
       "      <th>Y</th>\n",
       "    </tr>\n",
       "  </thead>\n",
       "  <tbody>\n",
       "    <tr>\n",
       "      <th>0</th>\n",
       "      <td>0.697318</td>\n",
       "      <td>0.847962</td>\n",
       "      <td>0.054812</td>\n",
       "      <td>0.282582</td>\n",
       "      <td>0.239000</td>\n",
       "      <td>15.765378</td>\n",
       "    </tr>\n",
       "    <tr>\n",
       "      <th>1</th>\n",
       "      <td>0.447341</td>\n",
       "      <td>0.416091</td>\n",
       "      <td>0.263423</td>\n",
       "      <td>0.315748</td>\n",
       "      <td>0.320021</td>\n",
       "      <td>18.463735</td>\n",
       "    </tr>\n",
       "    <tr>\n",
       "      <th>2</th>\n",
       "      <td>0.620080</td>\n",
       "      <td>0.425428</td>\n",
       "      <td>0.339799</td>\n",
       "      <td>0.430260</td>\n",
       "      <td>0.356083</td>\n",
       "      <td>18.142995</td>\n",
       "    </tr>\n",
       "    <tr>\n",
       "      <th>3</th>\n",
       "      <td>0.013172</td>\n",
       "      <td>0.540998</td>\n",
       "      <td>0.195288</td>\n",
       "      <td>0.910768</td>\n",
       "      <td>0.159449</td>\n",
       "      <td>16.543731</td>\n",
       "    </tr>\n",
       "    <tr>\n",
       "      <th>4</th>\n",
       "      <td>0.883000</td>\n",
       "      <td>0.585699</td>\n",
       "      <td>0.374686</td>\n",
       "      <td>0.312411</td>\n",
       "      <td>0.791912</td>\n",
       "      <td>22.625328</td>\n",
       "    </tr>\n",
       "    <tr>\n",
       "      <th>...</th>\n",
       "      <td>...</td>\n",
       "      <td>...</td>\n",
       "      <td>...</td>\n",
       "      <td>...</td>\n",
       "      <td>...</td>\n",
       "      <td>...</td>\n",
       "    </tr>\n",
       "    <tr>\n",
       "      <th>4995</th>\n",
       "      <td>0.675621</td>\n",
       "      <td>0.220283</td>\n",
       "      <td>0.659544</td>\n",
       "      <td>0.366700</td>\n",
       "      <td>0.519429</td>\n",
       "      <td>23.239608</td>\n",
       "    </tr>\n",
       "    <tr>\n",
       "      <th>4996</th>\n",
       "      <td>0.155043</td>\n",
       "      <td>0.441473</td>\n",
       "      <td>0.497468</td>\n",
       "      <td>0.293153</td>\n",
       "      <td>0.082456</td>\n",
       "      <td>19.280524</td>\n",
       "    </tr>\n",
       "    <tr>\n",
       "      <th>4997</th>\n",
       "      <td>0.673500</td>\n",
       "      <td>0.446771</td>\n",
       "      <td>0.153287</td>\n",
       "      <td>0.219786</td>\n",
       "      <td>0.919542</td>\n",
       "      <td>16.257735</td>\n",
       "    </tr>\n",
       "    <tr>\n",
       "      <th>4998</th>\n",
       "      <td>0.049816</td>\n",
       "      <td>0.575210</td>\n",
       "      <td>0.743274</td>\n",
       "      <td>0.600940</td>\n",
       "      <td>0.266975</td>\n",
       "      <td>21.137908</td>\n",
       "    </tr>\n",
       "    <tr>\n",
       "      <th>4999</th>\n",
       "      <td>0.851164</td>\n",
       "      <td>0.385861</td>\n",
       "      <td>0.333955</td>\n",
       "      <td>0.346434</td>\n",
       "      <td>0.811379</td>\n",
       "      <td>20.271059</td>\n",
       "    </tr>\n",
       "  </tbody>\n",
       "</table>\n",
       "<p>5000 rows × 6 columns</p>\n",
       "</div>"
      ],
      "text/plain": [
       "            X0        X1        X2        X3        X4          Y\n",
       "0     0.697318  0.847962  0.054812  0.282582  0.239000  15.765378\n",
       "1     0.447341  0.416091  0.263423  0.315748  0.320021  18.463735\n",
       "2     0.620080  0.425428  0.339799  0.430260  0.356083  18.142995\n",
       "3     0.013172  0.540998  0.195288  0.910768  0.159449  16.543731\n",
       "4     0.883000  0.585699  0.374686  0.312411  0.791912  22.625328\n",
       "...        ...       ...       ...       ...       ...        ...\n",
       "4995  0.675621  0.220283  0.659544  0.366700  0.519429  23.239608\n",
       "4996  0.155043  0.441473  0.497468  0.293153  0.082456  19.280524\n",
       "4997  0.673500  0.446771  0.153287  0.219786  0.919542  16.257735\n",
       "4998  0.049816  0.575210  0.743274  0.600940  0.266975  21.137908\n",
       "4999  0.851164  0.385861  0.333955  0.346434  0.811379  20.271059\n",
       "\n",
       "[5000 rows x 6 columns]"
      ]
     },
     "metadata": {},
     "output_type": "display_data"
    }
   ],
   "source": [
    "dataset = np.concatenate((x,y), axis = 1)\n",
    "df = pd.DataFrame(dataset,columns=['X0','X1','X2','X3','X4','Y'])\n",
    "display(df)"
   ]
  },
  {
   "cell_type": "code",
   "execution_count": 6,
   "metadata": {},
   "outputs": [],
   "source": [
    "df.to_csv(\"linear_dynamic_variance_dataset.csv\")"
   ]
  }
 ],
 "metadata": {
  "interpreter": {
   "hash": "10498c76ddd8160350534c6544a2b2fb65f2138dbc70420f7c81a3268f830f23"
  },
  "kernelspec": {
   "display_name": "Python 3.8.11 ('papermill')",
   "language": "python",
   "name": "python3"
  },
  "language_info": {
   "codemirror_mode": {
    "name": "ipython",
    "version": 3
   },
   "file_extension": ".py",
   "mimetype": "text/x-python",
   "name": "python",
   "nbconvert_exporter": "python",
   "pygments_lexer": "ipython3",
   "version": "3.8.11"
  },
  "orig_nbformat": 4
 },
 "nbformat": 4,
 "nbformat_minor": 2
}
