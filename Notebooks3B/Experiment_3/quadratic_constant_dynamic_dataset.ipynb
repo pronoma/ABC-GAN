{
 "cells": [
  {
   "cell_type": "code",
   "execution_count": 1,
   "metadata": {},
   "outputs": [],
   "source": [
    "import pandas as pd\n",
    "import numpy as np\n",
    "import math"
   ]
  },
  {
   "cell_type": "code",
   "execution_count": 2,
   "metadata": {},
   "outputs": [],
   "source": [
    "#Dataset Size\n",
    "n = 5000"
   ]
  },
  {
   "cell_type": "code",
   "execution_count": 3,
   "metadata": {},
   "outputs": [],
   "source": [
    "x = np.random.uniform(0,1,(n,5))"
   ]
  },
  {
   "cell_type": "code",
   "execution_count": 4,
   "metadata": {},
   "outputs": [],
   "source": [
    "y = 10 * np.sin(math.pi * x[:,0]* x[:,1]) + 20 * np.square(x[:,2]+0.5) + 10 * x[:,3] + 5* x[:,4] + np.random.normal(0,np.square(x[:,1]) + 2 * abs(x[:,2]))\n",
    "y = np.reshape(y,(n,1))"
   ]
  },
  {
   "cell_type": "code",
   "execution_count": 5,
   "metadata": {},
   "outputs": [
    {
     "data": {
      "text/html": [
       "<div>\n",
       "<style scoped>\n",
       "    .dataframe tbody tr th:only-of-type {\n",
       "        vertical-align: middle;\n",
       "    }\n",
       "\n",
       "    .dataframe tbody tr th {\n",
       "        vertical-align: top;\n",
       "    }\n",
       "\n",
       "    .dataframe thead th {\n",
       "        text-align: right;\n",
       "    }\n",
       "</style>\n",
       "<table border=\"1\" class=\"dataframe\">\n",
       "  <thead>\n",
       "    <tr style=\"text-align: right;\">\n",
       "      <th></th>\n",
       "      <th>X0</th>\n",
       "      <th>X1</th>\n",
       "      <th>X2</th>\n",
       "      <th>X3</th>\n",
       "      <th>X4</th>\n",
       "      <th>Y</th>\n",
       "    </tr>\n",
       "  </thead>\n",
       "  <tbody>\n",
       "    <tr>\n",
       "      <th>0</th>\n",
       "      <td>0.289455</td>\n",
       "      <td>0.172784</td>\n",
       "      <td>0.039520</td>\n",
       "      <td>0.643388</td>\n",
       "      <td>0.184867</td>\n",
       "      <td>14.664402</td>\n",
       "    </tr>\n",
       "    <tr>\n",
       "      <th>1</th>\n",
       "      <td>0.862083</td>\n",
       "      <td>0.376250</td>\n",
       "      <td>0.742132</td>\n",
       "      <td>0.678905</td>\n",
       "      <td>0.926188</td>\n",
       "      <td>51.316406</td>\n",
       "    </tr>\n",
       "    <tr>\n",
       "      <th>2</th>\n",
       "      <td>0.075346</td>\n",
       "      <td>0.395490</td>\n",
       "      <td>0.835628</td>\n",
       "      <td>0.630379</td>\n",
       "      <td>0.168807</td>\n",
       "      <td>44.615342</td>\n",
       "    </tr>\n",
       "    <tr>\n",
       "      <th>3</th>\n",
       "      <td>0.970776</td>\n",
       "      <td>0.361870</td>\n",
       "      <td>0.322145</td>\n",
       "      <td>0.353139</td>\n",
       "      <td>0.471238</td>\n",
       "      <td>28.152917</td>\n",
       "    </tr>\n",
       "    <tr>\n",
       "      <th>4</th>\n",
       "      <td>0.762831</td>\n",
       "      <td>0.051940</td>\n",
       "      <td>0.879068</td>\n",
       "      <td>0.632837</td>\n",
       "      <td>0.078776</td>\n",
       "      <td>45.761763</td>\n",
       "    </tr>\n",
       "    <tr>\n",
       "      <th>...</th>\n",
       "      <td>...</td>\n",
       "      <td>...</td>\n",
       "      <td>...</td>\n",
       "      <td>...</td>\n",
       "      <td>...</td>\n",
       "      <td>...</td>\n",
       "    </tr>\n",
       "    <tr>\n",
       "      <th>4995</th>\n",
       "      <td>0.864952</td>\n",
       "      <td>0.843265</td>\n",
       "      <td>0.516217</td>\n",
       "      <td>0.272169</td>\n",
       "      <td>0.034580</td>\n",
       "      <td>30.537058</td>\n",
       "    </tr>\n",
       "    <tr>\n",
       "      <th>4996</th>\n",
       "      <td>0.206644</td>\n",
       "      <td>0.234632</td>\n",
       "      <td>0.601057</td>\n",
       "      <td>0.825614</td>\n",
       "      <td>0.538634</td>\n",
       "      <td>37.199506</td>\n",
       "    </tr>\n",
       "    <tr>\n",
       "      <th>4997</th>\n",
       "      <td>0.082671</td>\n",
       "      <td>0.410909</td>\n",
       "      <td>0.905477</td>\n",
       "      <td>0.371883</td>\n",
       "      <td>0.954067</td>\n",
       "      <td>48.487639</td>\n",
       "    </tr>\n",
       "    <tr>\n",
       "      <th>4998</th>\n",
       "      <td>0.948674</td>\n",
       "      <td>0.929394</td>\n",
       "      <td>0.151786</td>\n",
       "      <td>0.904218</td>\n",
       "      <td>0.350034</td>\n",
       "      <td>22.458203</td>\n",
       "    </tr>\n",
       "    <tr>\n",
       "      <th>4999</th>\n",
       "      <td>0.983860</td>\n",
       "      <td>0.481657</td>\n",
       "      <td>0.362021</td>\n",
       "      <td>0.517022</td>\n",
       "      <td>0.101739</td>\n",
       "      <td>30.187904</td>\n",
       "    </tr>\n",
       "  </tbody>\n",
       "</table>\n",
       "<p>5000 rows × 6 columns</p>\n",
       "</div>"
      ],
      "text/plain": [
       "            X0        X1        X2        X3        X4          Y\n",
       "0     0.289455  0.172784  0.039520  0.643388  0.184867  14.664402\n",
       "1     0.862083  0.376250  0.742132  0.678905  0.926188  51.316406\n",
       "2     0.075346  0.395490  0.835628  0.630379  0.168807  44.615342\n",
       "3     0.970776  0.361870  0.322145  0.353139  0.471238  28.152917\n",
       "4     0.762831  0.051940  0.879068  0.632837  0.078776  45.761763\n",
       "...        ...       ...       ...       ...       ...        ...\n",
       "4995  0.864952  0.843265  0.516217  0.272169  0.034580  30.537058\n",
       "4996  0.206644  0.234632  0.601057  0.825614  0.538634  37.199506\n",
       "4997  0.082671  0.410909  0.905477  0.371883  0.954067  48.487639\n",
       "4998  0.948674  0.929394  0.151786  0.904218  0.350034  22.458203\n",
       "4999  0.983860  0.481657  0.362021  0.517022  0.101739  30.187904\n",
       "\n",
       "[5000 rows x 6 columns]"
      ]
     },
     "metadata": {},
     "output_type": "display_data"
    }
   ],
   "source": [
    "dataset = np.concatenate((x,y), axis = 1)\n",
    "df = pd.DataFrame(dataset,columns=['X0','X1','X2','X3','X4','Y'])\n",
    "display(df)"
   ]
  },
  {
   "cell_type": "code",
   "execution_count": 6,
   "metadata": {},
   "outputs": [],
   "source": [
    "df.to_csv(\"quadratic_dynamic_variance_dataset.csv\")"
   ]
  }
 ],
 "metadata": {
  "interpreter": {
   "hash": "10498c76ddd8160350534c6544a2b2fb65f2138dbc70420f7c81a3268f830f23"
  },
  "kernelspec": {
   "display_name": "Python 3.8.11 ('papermill')",
   "language": "python",
   "name": "python3"
  },
  "language_info": {
   "codemirror_mode": {
    "name": "ipython",
    "version": 3
   },
   "file_extension": ".py",
   "mimetype": "text/x-python",
   "name": "python",
   "nbconvert_exporter": "python",
   "pygments_lexer": "ipython3",
   "version": "3.8.11"
  },
  "orig_nbformat": 4
 },
 "nbformat": 4,
 "nbformat_minor": 2
}
