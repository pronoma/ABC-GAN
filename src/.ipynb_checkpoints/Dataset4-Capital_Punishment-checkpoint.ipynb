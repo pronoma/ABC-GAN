{
 "cells": [
  {
   "cell_type": "markdown",
   "metadata": {},
   "source": [
    "# Dataset 4 - Capital Punishment\n",
    "## Parameters"
   ]
  },
  {
   "cell_type": "code",
   "execution_count": 1,
   "metadata": {
    "id": "j8GuQok9h7Om"
   },
   "outputs": [],
   "source": [
    "#ABC_Generator \n",
    "std = 1\n",
    "mean = 1\n",
    "prior = 0"
   ]
  },
  {
   "cell_type": "markdown",
   "metadata": {
    "id": "D-T7J-_liQqZ"
   },
   "source": [
    "## Import Libraries and Dataset"
   ]
  },
  {
   "cell_type": "code",
   "execution_count": 2,
   "metadata": {
    "id": "_efX0iLtiSuk"
   },
   "outputs": [],
   "source": [
    "import warnings\n",
    "warnings.filterwarnings('ignore')"
   ]
  },
  {
   "cell_type": "code",
   "execution_count": 3,
   "metadata": {
    "id": "gHDrMBCJidHU"
   },
   "outputs": [
    {
     "ename": "ModuleNotFoundError",
     "evalue": "No module named 'torch'",
     "output_type": "error",
     "traceback": [
      "\u001b[1;31m---------------------------------------------------------------------------\u001b[0m",
      "\u001b[1;31mModuleNotFoundError\u001b[0m                       Traceback (most recent call last)",
      "\u001b[1;32m<ipython-input-3-581f82fb4d4e>\u001b[0m in \u001b[0;36m<module>\u001b[1;34m\u001b[0m\n\u001b[0;32m      1\u001b[0m \u001b[1;32mimport\u001b[0m \u001b[0mstatsmodels\u001b[0m\u001b[1;33m.\u001b[0m\u001b[0mapi\u001b[0m \u001b[1;32mas\u001b[0m \u001b[0msm\u001b[0m\u001b[1;33m\u001b[0m\u001b[1;33m\u001b[0m\u001b[0m\n\u001b[1;32m----> 2\u001b[1;33m \u001b[1;32mimport\u001b[0m \u001b[0mtorch\u001b[0m\u001b[1;33m\u001b[0m\u001b[1;33m\u001b[0m\u001b[0m\n\u001b[0m\u001b[0;32m      3\u001b[0m \u001b[1;32mfrom\u001b[0m \u001b[0mtorch\u001b[0m \u001b[1;32mimport\u001b[0m \u001b[0mnn\u001b[0m\u001b[1;33m\u001b[0m\u001b[1;33m\u001b[0m\u001b[0m\n\u001b[0;32m      4\u001b[0m \u001b[1;32mfrom\u001b[0m \u001b[0mtorch\u001b[0m\u001b[1;33m.\u001b[0m\u001b[0mutils\u001b[0m\u001b[1;33m.\u001b[0m\u001b[0mdata\u001b[0m \u001b[1;32mimport\u001b[0m \u001b[0mDataset\u001b[0m \u001b[1;33m,\u001b[0m \u001b[0mDataLoader\u001b[0m\u001b[1;33m\u001b[0m\u001b[1;33m\u001b[0m\u001b[0m\n\u001b[0;32m      5\u001b[0m \u001b[1;32mimport\u001b[0m \u001b[0mnumpy\u001b[0m \u001b[1;32mas\u001b[0m \u001b[0mnp\u001b[0m\u001b[1;33m\u001b[0m\u001b[1;33m\u001b[0m\u001b[0m\n",
      "\u001b[1;31mModuleNotFoundError\u001b[0m: No module named 'torch'"
     ]
    }
   ],
   "source": [
    "import statsmodels.api as sm\n",
    "import torch\n",
    "from torch import nn\n",
    "from torch.utils.data import Dataset , DataLoader \n",
    "import numpy as np\n",
    "import matplotlib.pyplot as plt\n",
    "import seaborn as sns \n",
    "from statistics import mean\n",
    "import matplotlib.image as mpimg\n",
    "from IPython.display import Image\n",
    "import pandas as pd\n",
    "from sklearn import preprocessing\n",
    "from scipy.stats import spearmanr\n",
    "from sklearn.decomposition import PCA\n",
    "%matplotlib inline"
   ]
  },
  {
   "cell_type": "code",
   "execution_count": null,
   "metadata": {
    "colab": {
     "base_uri": "https://localhost:8080/",
     "height": 582
    },
    "id": "9TY8v6h3isH-",
    "outputId": "deb7b07f-fe34-4e6c-8544-5ce532f3366e"
   },
   "outputs": [],
   "source": [
    "#Load the dataset \n",
    "real_data = sm.datasets.cpunish.load_pandas()\n",
    "real_data.data\n",
    "n_features = 6"
   ]
  },
  {
   "cell_type": "markdown",
   "metadata": {
    "id": "AnF0u3wEkTYw"
   },
   "source": [
    "#Pre processing (is this required?)"
   ]
  },
  {
   "cell_type": "code",
   "execution_count": null,
   "metadata": {
    "id": "MfqfP1vfkYAb"
   },
   "outputs": [],
   "source": [
    "#Remove the outliers \n",
    "real_data.data = real_data.data.drop([0,1,2])\n",
    "real_data.data = real_data.data.reset_index(drop=True)\n",
    "n = len(real_data.data.index) #No of datapoints \n",
    "real_data.data"
   ]
  },
  {
   "cell_type": "code",
   "execution_count": null,
   "metadata": {
    "id": "F6wvCJbkkb-Y"
   },
   "outputs": [],
   "source": [
    "#Normalizing the dataset\n",
    "scaler = preprocessing.StandardScaler()\n",
    "real_data.data = pd.DataFrame(scaler.fit_transform(real_data.data), columns=real_data.data.columns)\n",
    "X = real_data.data.iloc[:, 1:7]\n",
    "y = real_data.data.iloc[:, 0]"
   ]
  },
  {
   "cell_type": "code",
   "execution_count": null,
   "metadata": {
    "id": "TUd9-b21kexr"
   },
   "outputs": [],
   "source": [
    "#Check corelation between features and perform PCA\n",
    "\n",
    "#Correlation Matrix before PCA \n",
    "corr = spearmanr(X).correlation\n",
    "print(corr)\n",
    "plt.imshow(corr)\n",
    "plt.show()\n",
    "\n",
    "#PCA \n",
    "pca = PCA(n_components=6)\n",
    "pca.fit(X)\n",
    "Xp = pca.transform(X)\n",
    "\n",
    "#Correlation Matrix after PCA \n",
    "corr = spearmanr(Xp).correlation\n",
    "print(corr)\n",
    "plt.imshow(corr)\n",
    "plt.show()"
   ]
  },
  {
   "cell_type": "markdown",
   "metadata": {
    "id": "yKBstHmpQwr5"
   },
   "source": [
    "# Stats Model"
   ]
  },
  {
   "cell_type": "code",
   "execution_count": null,
   "metadata": {
    "id": "AFHvu8NABfay"
   },
   "outputs": [],
   "source": [
    "#Add Constant \n",
    "[coeff,y_pred] = statsModel.statsModel(X,Y)\n",
    "#should this be Y, Xpc instead?"
   ]
  },
  {
   "cell_type": "markdown",
   "metadata": {
    "id": "a308d4dd"
   },
   "source": [
    "# Generator and Discriminator Networks "
   ]
  },
  {
   "cell_type": "markdown",
   "metadata": {
    "id": "d7929183"
   },
   "source": [
    "**GAN Generator**"
   ]
  },
  {
   "cell_type": "code",
   "execution_count": null,
   "metadata": {
    "id": "de54c924"
   },
   "outputs": [],
   "source": [
    "class Generator(nn.Module):\n",
    "  def __init__(self):\n",
    "    super().__init__()\n",
    "    #Input to Output Layer Linear Transformation\n",
    "    self.output = nn.Linear(n_input,1)\n",
    "\n",
    "  def forward(self, x):\n",
    "    #Pass the input tensor through the operations \n",
    "    x = self.output(x)\n",
    "    return x "
   ]
  },
  {
   "cell_type": "markdown",
   "metadata": {
    "id": "d4e95b42"
   },
   "source": [
    "**GAN Discriminator**"
   ]
  },
  {
   "cell_type": "code",
   "execution_count": null,
   "metadata": {
    "id": "4bdee206"
   },
   "outputs": [],
   "source": [
    "class Discriminator(nn.Module):\n",
    "  def __init__(self):\n",
    "    super().__init__()\n",
    "    self.hidden = nn.Linear(n_input,hiddenNodes)\n",
    "    self.output = nn.Linear(hiddenNodes,1)\n",
    "    #Define LeakyRelu Activation and sigmoid output\n",
    "    self.sigmoid = nn.Sigmoid()\n",
    "    self.leakyRelu = nn.LeakyReLU()\n",
    "\n",
    "  def forward(self, x):\n",
    "    #Pass the input tensor through the operations \n",
    "    x = self.hidden(x)\n",
    "    x = self.leakyRelu(x)\n",
    "    x = self.output(x)\n",
    "    x = self.sigmoid(x)\n",
    "    return x "
   ]
  },
  {
   "cell_type": "markdown",
   "metadata": {
    "id": "33c21ef8"
   },
   "source": [
    "**ABC Generator**"
   ]
  },
  {
   "cell_type": "markdown",
   "metadata": {
    "id": "d2a81cd7"
   },
   "source": [
    "The ABC generator is defined as follows:\n",
    "\n",
    "$Y = 1 + \\beta_1 x_1 + \\beta_2 x_2 + \\beta_2 x_3 + ... + \\beta_n x_n + N(0,\\sigma)$ where $\\sigma = 0.1$ \n",
    "\n",
    "$\\beta_i \\sim N(0,\\sigma^{*})$ when $\\mu = 0$ else\n",
    "\n",
    "$\\beta_i \\sim N(\\beta_i^{*},\\sigma^{*})$ where $\\beta_i^{*}s$ are coefficients obtained from stats model\n",
    "\n",
    "Parameters : $\\mu$ and $\\sigma^{*}$"
   ]
  },
  {
   "cell_type": "code",
   "execution_count": null,
   "metadata": {
    "id": "ec1fd836"
   },
   "outputs": [],
   "source": [
    "def ABC_pre_generator(x_batch,coeff,variance,mean,device):\n",
    "\n",
    "  coeff_len = len(coeff)\n",
    "\n",
    "  if mean == 0:\n",
    "    weights = np.random.normal(0,variance,size=(coeff_len,1))\n",
    "    weights = torch.from_numpy(weights).reshape(coeff_len,1)\n",
    "  else:\n",
    "    weights = []\n",
    "    for i in range(coeff_len):\n",
    "      weights.append(np.random.normal(coeff[i],variance))\n",
    "    weights = torch.tensor(weights).reshape(coeff_len,1)\n",
    "    \n",
    "  y_abc =  torch.matmul(x_batch,weights.float())\n",
    "  gen_input = torch.cat((x_batch,y_abc),dim = 1).to(device)\n",
    "  return gen_input "
   ]
  },
  {
   "cell_type": "markdown",
   "metadata": {
    "id": "93054c41"
   },
   "source": [
    "# GAN Model"
   ]
  },
  {
   "cell_type": "code",
   "execution_count": null,
   "metadata": {
    "id": "19ce6215"
   },
   "outputs": [],
   "source": [
    "real_dataset = dataset.CustomDataset(X,Y)\n",
    "device = torch.device('cuda' if torch.cuda.is_available() else 'cpu')"
   ]
  },
  {
   "cell_type": "code",
   "execution_count": null,
   "metadata": {
    "id": "8361a649"
   },
   "outputs": [],
   "source": [
    "generator = Generator(n_features+2)\n",
    "discriminator = Discriminator(n_features+2,hidden_nodes)\n",
    "\n",
    "criterion = torch.nn.BCEWithLogitsLoss()\n",
    "gen_opt = torch.optim.Adam(generator.parameters(), lr=0.01, betas=(0.5, 0.999))\n",
    "disc_opt = torch.optim.Adam(discriminator.parameters(), lr=0.01, betas=(0.5, 0.999))"
   ]
  },
  {
   "cell_type": "code",
   "execution_count": null,
   "metadata": {
    "id": "lgDu1xHMS1hN"
   },
   "outputs": [],
   "source": [
    "sample_size = len(real_dataset)\n",
    "n_epochs = 5000\n",
    "batch_size = sample_size"
   ]
  },
  {
   "cell_type": "code",
   "execution_count": null,
   "metadata": {
    "id": "ce02725d",
    "outputId": "cbe6c9ef-1d19-44a9-acea-2edfbb7fc844"
   },
   "outputs": [],
   "source": [
    "train_test.training_GAN(discriminator,generator,disc_opt,gen_opt,real_dataset,batch_size, n_epochs,criterion,device)"
   ]
  },
  {
   "cell_type": "code",
   "execution_count": null,
   "metadata": {
    "id": "0e6caab5"
   },
   "outputs": [],
   "source": [
    "train_test.test_generator(generator,real_dataset,device)"
   ]
  },
  {
   "cell_type": "markdown",
   "metadata": {
    "id": "9e04a421"
   },
   "source": [
    "# ABC GAN Model"
   ]
  },
  {
   "cell_type": "code",
   "execution_count": null,
   "metadata": {
    "id": "4ded47d7"
   },
   "outputs": [],
   "source": [
    "gen = Generator(n_features+2)\n",
    "disc = Discriminator(n_features+2,hidden_nodes)\n",
    "\n",
    "criterion = torch.nn.BCEWithLogitsLoss()\n",
    "gen_opt = torch.optim.Adam(gen.parameters(), lr=0.01, betas=(0.5, 0.999))\n",
    "disc_opt = torch.optim.Adam(disc.parameters(), lr=0.01, betas=(0.5, 0.999))"
   ]
  },
  {
   "cell_type": "code",
   "execution_count": null,
   "metadata": {
    "id": "7ac000d8"
   },
   "outputs": [],
   "source": [
    "n_epoch_abc = 1000\n",
    "batch_size = sample_size"
   ]
  },
  {
   "cell_type": "code",
   "execution_count": null,
   "metadata": {
    "id": "64389404"
   },
   "outputs": [],
   "source": [
    "ABC_train_test.training_GAN(disc, gen,disc_opt,gen_opt,real_dataset, batch_size, n_epoch_abc,criterion,coeff,mean,variance,device)"
   ]
  },
  {
   "cell_type": "code",
   "execution_count": null,
   "metadata": {
    "id": "5423e4bc",
    "outputId": "7667fdf6-fc1a-480a-f6de-5eed86033e13"
   },
   "outputs": [],
   "source": [
    "ABC_train_test.test_generator(gen,real_dataset,coeff,mean,variance,device)"
   ]
  },
  {
   "cell_type": "markdown",
   "metadata": {
    "id": "Hnfpc8qwTQjQ"
   },
   "source": [
    "**Sanity Check**"
   ]
  },
  {
   "cell_type": "code",
   "execution_count": null,
   "metadata": {
    "id": "349b9213"
   },
   "outputs": [],
   "source": [
    "sanityChecks.discProbVsError(real_dataset,disc,device)"
   ]
  },
  {
   "cell_type": "markdown",
   "metadata": {
    "id": "k2j87rh0TWiK"
   },
   "source": [
    "**Visualisation of Trained GAN Generator**"
   ]
  },
  {
   "cell_type": "code",
   "execution_count": null,
   "metadata": {
    "id": "DdEH5VqzTcgW"
   },
   "outputs": [],
   "source": [
    "for name, param in gen.named_parameters():\n",
    "    print(name,param)"
   ]
  }
 ],
 "metadata": {
  "colab": {
   "name": "Capital Punishment.ipynb",
   "provenance": []
  },
  "kernelspec": {
   "display_name": "Python 3",
   "language": "python",
   "name": "python3"
  },
  "language_info": {
   "codemirror_mode": {
    "name": "ipython",
    "version": 3
   },
   "file_extension": ".py",
   "mimetype": "text/x-python",
   "name": "python",
   "nbconvert_exporter": "python",
   "pygments_lexer": "ipython3",
   "version": "3.8.8"
  }
 },
 "nbformat": 4,
 "nbformat_minor": 1
}
