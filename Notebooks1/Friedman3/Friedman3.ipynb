{
 "cells": [
  {
   "cell_type": "code",
   "execution_count": 1,
   "id": "423b7ca4",
   "metadata": {
    "execution": {
     "iopub.execute_input": "2022-05-19T13:36:57.340381Z",
     "iopub.status.busy": "2022-05-19T13:36:57.339567Z",
     "iopub.status.idle": "2022-05-19T13:36:57.342616Z",
     "shell.execute_reply": "2022-05-19T13:36:57.343140Z"
    },
    "papermill": {
     "duration": 0.031626,
     "end_time": "2022-05-19T13:36:57.343480",
     "exception": false,
     "start_time": "2022-05-19T13:36:57.311854",
     "status": "completed"
    },
    "tags": []
   },
   "outputs": [],
   "source": [
    "import warnings\n",
    "warnings.filterwarnings('ignore')"
   ]
  },
  {
   "cell_type": "code",
   "execution_count": 2,
   "id": "618121c9",
   "metadata": {
    "execution": {
     "iopub.execute_input": "2022-05-19T13:36:57.362942Z",
     "iopub.status.busy": "2022-05-19T13:36:57.362420Z",
     "iopub.status.idle": "2022-05-19T13:36:58.552687Z",
     "shell.execute_reply": "2022-05-19T13:36:58.552915Z"
    },
    "papermill": {
     "duration": 1.200446,
     "end_time": "2022-05-19T13:36:58.553044",
     "exception": false,
     "start_time": "2022-05-19T13:36:57.352598",
     "status": "completed"
    },
    "tags": []
   },
   "outputs": [],
   "source": [
    "import scrapbook as sb \n",
    "import pandas as pd\n",
    "import numpy as np \n",
    "import seaborn as sns \n",
    "import numpy as np\n",
    "from statistics import mean, median\n",
    "import matplotlib.pyplot as plt"
   ]
  },
  {
   "cell_type": "markdown",
   "id": "8842137f",
   "metadata": {
    "papermill": {
     "duration": 0.003728,
     "end_time": "2022-05-19T13:36:58.560942",
     "exception": false,
     "start_time": "2022-05-19T13:36:58.557214",
     "status": "completed"
    },
    "tags": []
   },
   "source": [
    "# Baseline "
   ]
  },
  {
   "cell_type": "code",
   "execution_count": 3,
   "id": "a9dce367",
   "metadata": {
    "execution": {
     "iopub.execute_input": "2022-05-19T13:36:58.572286Z",
     "iopub.status.busy": "2022-05-19T13:36:58.571916Z",
     "iopub.status.idle": "2022-05-19T13:36:58.688523Z",
     "shell.execute_reply": "2022-05-19T13:36:58.688763Z"
    },
    "papermill": {
     "duration": 0.123316,
     "end_time": "2022-05-19T13:36:58.688881",
     "exception": false,
     "start_time": "2022-05-19T13:36:58.565565",
     "status": "completed"
    },
    "tags": []
   },
   "outputs": [
    {
     "data": {
      "text/html": [
       "<div>\n",
       "<style scoped>\n",
       "    .dataframe tbody tr th:only-of-type {\n",
       "        vertical-align: middle;\n",
       "    }\n",
       "\n",
       "    .dataframe tbody tr th {\n",
       "        vertical-align: top;\n",
       "    }\n",
       "\n",
       "    .dataframe thead th {\n",
       "        text-align: right;\n",
       "    }\n",
       "</style>\n",
       "<table border=\"1\" class=\"dataframe\">\n",
       "  <thead>\n",
       "    <tr style=\"text-align: right;\">\n",
       "      <th></th>\n",
       "      <th>Stats Model</th>\n",
       "      <th>Catboost</th>\n",
       "    </tr>\n",
       "  </thead>\n",
       "  <tbody>\n",
       "    <tr>\n",
       "      <th>0</th>\n",
       "      <td>0.559211</td>\n",
       "      <td>1.198509</td>\n",
       "    </tr>\n",
       "    <tr>\n",
       "      <th>1</th>\n",
       "      <td>0.539465</td>\n",
       "      <td>0.849191</td>\n",
       "    </tr>\n",
       "    <tr>\n",
       "      <th>2</th>\n",
       "      <td>0.527114</td>\n",
       "      <td>0.608345</td>\n",
       "    </tr>\n",
       "    <tr>\n",
       "      <th>3</th>\n",
       "      <td>0.481079</td>\n",
       "      <td>1.070543</td>\n",
       "    </tr>\n",
       "    <tr>\n",
       "      <th>4</th>\n",
       "      <td>0.576510</td>\n",
       "      <td>1.389425</td>\n",
       "    </tr>\n",
       "    <tr>\n",
       "      <th>5</th>\n",
       "      <td>0.449442</td>\n",
       "      <td>0.884359</td>\n",
       "    </tr>\n",
       "    <tr>\n",
       "      <th>6</th>\n",
       "      <td>0.644467</td>\n",
       "      <td>0.898389</td>\n",
       "    </tr>\n",
       "    <tr>\n",
       "      <th>7</th>\n",
       "      <td>0.691582</td>\n",
       "      <td>0.831902</td>\n",
       "    </tr>\n",
       "    <tr>\n",
       "      <th>8</th>\n",
       "      <td>0.549939</td>\n",
       "      <td>0.544486</td>\n",
       "    </tr>\n",
       "    <tr>\n",
       "      <th>9</th>\n",
       "      <td>0.555921</td>\n",
       "      <td>0.831253</td>\n",
       "    </tr>\n",
       "  </tbody>\n",
       "</table>\n",
       "</div>"
      ],
      "text/plain": [
       "   Stats Model  Catboost\n",
       "0     0.559211  1.198509\n",
       "1     0.539465  0.849191\n",
       "2     0.527114  0.608345\n",
       "3     0.481079  1.070543\n",
       "4     0.576510  1.389425\n",
       "5     0.449442  0.884359\n",
       "6     0.644467  0.898389\n",
       "7     0.691582  0.831902\n",
       "8     0.549939  0.544486\n",
       "9     0.555921  0.831253"
      ]
     },
     "metadata": {},
     "output_type": "display_data"
    },
    {
     "name": "stdout",
     "output_type": "stream",
     "text": [
      "Stats Model    0.552930\n",
      "Catboost       0.866775\n",
      "dtype: float64\n"
     ]
    }
   ],
   "source": [
    "books = sb.read_notebooks(\"./BaseLine_Model_Output\")\n",
    "baseLine_data = []\n",
    "for nb in books.notebooks: \n",
    "    nbList=[nb.scraps['Stats Model MAE'].data,nb.scraps['Catboost MAE'].data]\n",
    "    baseLine_data.append(nbList)\n",
    "df = pd.DataFrame(baseLine_data, columns = [\"Stats Model\",\"Catboost\"])\n",
    "baseline_data = np.array(baseLine_data)\n",
    "stats = median(baseline_data[:,0])\n",
    "catboost = median(baseline_data[:,1])\n",
    "display(df)\n",
    "print(df.median(axis=0))"
   ]
  },
  {
   "cell_type": "markdown",
   "id": "2ef4d014",
   "metadata": {
    "papermill": {
     "duration": 0.004115,
     "end_time": "2022-05-19T13:36:58.697414",
     "exception": false,
     "start_time": "2022-05-19T13:36:58.693299",
     "status": "completed"
    },
    "tags": []
   },
   "source": [
    "# GAN Model"
   ]
  },
  {
   "cell_type": "code",
   "execution_count": 4,
   "id": "ce2d028d",
   "metadata": {
    "execution": {
     "iopub.execute_input": "2022-05-19T13:36:58.709132Z",
     "iopub.status.busy": "2022-05-19T13:36:58.708726Z",
     "iopub.status.idle": "2022-05-19T13:36:58.877827Z",
     "shell.execute_reply": "2022-05-19T13:36:58.878088Z"
    },
    "papermill": {
     "duration": 0.1767,
     "end_time": "2022-05-19T13:36:58.878208",
     "exception": false,
     "start_time": "2022-05-19T13:36:58.701508",
     "status": "completed"
    },
    "tags": []
   },
   "outputs": [
    {
     "data": {
      "text/html": [
       "<style type=\"text/css\">\n",
       "</style>\n",
       "<table id=\"T_2461d_\">\n",
       "  <thead>\n",
       "    <tr>\n",
       "      <th class=\"blank level0\" >&nbsp;</th>\n",
       "      <th class=\"col_heading level0 col0\" >MSE</th>\n",
       "      <th class=\"col_heading level0 col1\" >MAE</th>\n",
       "      <th class=\"col_heading level0 col2\" >Euclidean Distance</th>\n",
       "      <th class=\"col_heading level0 col3\" >Manhattan Distance</th>\n",
       "    </tr>\n",
       "  </thead>\n",
       "  <tbody>\n",
       "    <tr>\n",
       "      <th id=\"T_2461d_level0_row0\" class=\"row_heading level0 row0\" >0</th>\n",
       "      <td id=\"T_2461d_row0_col0\" class=\"data row0 col0\" >0.155729</td>\n",
       "      <td id=\"T_2461d_row0_col1\" class=\"data row0 col1\" >0.243533</td>\n",
       "      <td id=\"T_2461d_row0_col2\" class=\"data row0 col2\" >1.764267</td>\n",
       "      <td id=\"T_2461d_row0_col3\" class=\"data row0 col3\" >4.870652</td>\n",
       "    </tr>\n",
       "    <tr>\n",
       "      <th id=\"T_2461d_level0_row1\" class=\"row_heading level0 row1\" >1</th>\n",
       "      <td id=\"T_2461d_row1_col0\" class=\"data row1 col0\" >0.480955</td>\n",
       "      <td id=\"T_2461d_row1_col1\" class=\"data row1 col1\" >0.581771</td>\n",
       "      <td id=\"T_2461d_row1_col2\" class=\"data row1 col2\" >3.101088</td>\n",
       "      <td id=\"T_2461d_row1_col3\" class=\"data row1 col3\" >11.635422</td>\n",
       "    </tr>\n",
       "    <tr>\n",
       "      <th id=\"T_2461d_level0_row2\" class=\"row_heading level0 row2\" >2</th>\n",
       "      <td id=\"T_2461d_row2_col0\" class=\"data row2 col0\" >0.329641</td>\n",
       "      <td id=\"T_2461d_row2_col1\" class=\"data row2 col1\" >0.404866</td>\n",
       "      <td id=\"T_2461d_row2_col2\" class=\"data row2 col2\" >2.567177</td>\n",
       "      <td id=\"T_2461d_row2_col3\" class=\"data row2 col3\" >8.097312</td>\n",
       "    </tr>\n",
       "    <tr>\n",
       "      <th id=\"T_2461d_level0_row3\" class=\"row_heading level0 row3\" >3</th>\n",
       "      <td id=\"T_2461d_row3_col0\" class=\"data row3 col0\" >0.411285</td>\n",
       "      <td id=\"T_2461d_row3_col1\" class=\"data row3 col1\" >0.566355</td>\n",
       "      <td id=\"T_2461d_row3_col2\" class=\"data row3 col2\" >2.867202</td>\n",
       "      <td id=\"T_2461d_row3_col3\" class=\"data row3 col3\" >11.327104</td>\n",
       "    </tr>\n",
       "    <tr>\n",
       "      <th id=\"T_2461d_level0_row4\" class=\"row_heading level0 row4\" >4</th>\n",
       "      <td id=\"T_2461d_row4_col0\" class=\"data row4 col0\" >0.252376</td>\n",
       "      <td id=\"T_2461d_row4_col1\" class=\"data row4 col1\" >0.390330</td>\n",
       "      <td id=\"T_2461d_row4_col2\" class=\"data row4 col2\" >2.246448</td>\n",
       "      <td id=\"T_2461d_row4_col3\" class=\"data row4 col3\" >7.806599</td>\n",
       "    </tr>\n",
       "    <tr>\n",
       "      <th id=\"T_2461d_level0_row5\" class=\"row_heading level0 row5\" >5</th>\n",
       "      <td id=\"T_2461d_row5_col0\" class=\"data row5 col0\" >0.205691</td>\n",
       "      <td id=\"T_2461d_row5_col1\" class=\"data row5 col1\" >0.367313</td>\n",
       "      <td id=\"T_2461d_row5_col2\" class=\"data row5 col2\" >2.027688</td>\n",
       "      <td id=\"T_2461d_row5_col3\" class=\"data row5 col3\" >7.346263</td>\n",
       "    </tr>\n",
       "    <tr>\n",
       "      <th id=\"T_2461d_level0_row6\" class=\"row_heading level0 row6\" >6</th>\n",
       "      <td id=\"T_2461d_row6_col0\" class=\"data row6 col0\" >0.106401</td>\n",
       "      <td id=\"T_2461d_row6_col1\" class=\"data row6 col1\" >0.253454</td>\n",
       "      <td id=\"T_2461d_row6_col2\" class=\"data row6 col2\" >1.458104</td>\n",
       "      <td id=\"T_2461d_row6_col3\" class=\"data row6 col3\" >5.069089</td>\n",
       "    </tr>\n",
       "    <tr>\n",
       "      <th id=\"T_2461d_level0_row7\" class=\"row_heading level0 row7\" >7</th>\n",
       "      <td id=\"T_2461d_row7_col0\" class=\"data row7 col0\" >0.268535</td>\n",
       "      <td id=\"T_2461d_row7_col1\" class=\"data row7 col1\" >0.420745</td>\n",
       "      <td id=\"T_2461d_row7_col2\" class=\"data row7 col2\" >2.317349</td>\n",
       "      <td id=\"T_2461d_row7_col3\" class=\"data row7 col3\" >8.414902</td>\n",
       "    </tr>\n",
       "    <tr>\n",
       "      <th id=\"T_2461d_level0_row8\" class=\"row_heading level0 row8\" >8</th>\n",
       "      <td id=\"T_2461d_row8_col0\" class=\"data row8 col0\" >0.686369</td>\n",
       "      <td id=\"T_2461d_row8_col1\" class=\"data row8 col1\" >0.581106</td>\n",
       "      <td id=\"T_2461d_row8_col2\" class=\"data row8 col2\" >3.704330</td>\n",
       "      <td id=\"T_2461d_row8_col3\" class=\"data row8 col3\" >11.622122</td>\n",
       "    </tr>\n",
       "    <tr>\n",
       "      <th id=\"T_2461d_level0_row9\" class=\"row_heading level0 row9\" >9</th>\n",
       "      <td id=\"T_2461d_row9_col0\" class=\"data row9 col0\" >0.211097</td>\n",
       "      <td id=\"T_2461d_row9_col1\" class=\"data row9 col1\" >0.358662</td>\n",
       "      <td id=\"T_2461d_row9_col2\" class=\"data row9 col2\" >2.054277</td>\n",
       "      <td id=\"T_2461d_row9_col3\" class=\"data row9 col3\" >7.173240</td>\n",
       "    </tr>\n",
       "  </tbody>\n",
       "</table>\n"
      ],
      "text/plain": [
       "<pandas.io.formats.style.Styler at 0x7feb44b31e50>"
      ]
     },
     "metadata": {},
     "output_type": "display_data"
    },
    {
     "name": "stdout",
     "output_type": "stream",
     "text": [
      "MEDIAN:\n",
      "MSE                   0.260455\n",
      "MAE                   0.397598\n",
      "Euclidean Distance    2.281899\n",
      "Manhattan Distance    7.951955\n",
      "dtype: float64\n"
     ]
    }
   ],
   "source": [
    "book = sb.read_notebooks(\"./GAN_Output\")\n",
    "gan_data = []\n",
    "gan_mse = []\n",
    "for nb in book.notebooks:\n",
    "    metrics = nb.scraps['GAN_1 Metrics'].data\n",
    "    for i in range(1000):\n",
    "        gan_mse.append(metrics[0][i])\n",
    "    nbList = [nb.scraps['GAN Model MSE'].data,\n",
    "              nb.scraps['GAN Model MAE'].data,\n",
    "              nb.scraps['GAN Model Euclidean distance'].data,\n",
    "              nb.scraps['GAN Model Manhattan Distance'].data]        \n",
    "    gan_data.append(nbList)\n",
    "    \n",
    "df = pd.DataFrame(gan_data, columns = ['MSE','MAE','Euclidean Distance','Manhattan Distance'])\n",
    "display(df.style)\n",
    "print(\"MEDIAN:\")\n",
    "print(df.median(axis = 0))\n",
    "gan_data = np.array(gan_data)\n",
    "gan_median = median(gan_data[:,1])"
   ]
  },
  {
   "cell_type": "markdown",
   "id": "db69b3bd",
   "metadata": {
    "papermill": {
     "duration": 0.004564,
     "end_time": "2022-05-19T13:36:58.887679",
     "exception": false,
     "start_time": "2022-05-19T13:36:58.883115",
     "status": "completed"
    },
    "tags": []
   },
   "source": [
    "# ABC_GAN Analysis"
   ]
  },
  {
   "cell_type": "markdown",
   "id": "930ab0e5",
   "metadata": {
    "papermill": {
     "duration": 0.00454,
     "end_time": "2022-05-19T13:36:58.896890",
     "exception": false,
     "start_time": "2022-05-19T13:36:58.892350",
     "status": "completed"
    },
    "tags": []
   },
   "source": [
    "## ABC Pre-generator - Catboost \n"
   ]
  },
  {
   "cell_type": "code",
   "execution_count": 5,
   "id": "ea491444",
   "metadata": {
    "execution": {
     "iopub.execute_input": "2022-05-19T13:36:58.910772Z",
     "iopub.status.busy": "2022-05-19T13:36:58.910383Z",
     "iopub.status.idle": "2022-05-19T13:36:59.754976Z",
     "shell.execute_reply": "2022-05-19T13:36:59.755228Z"
    },
    "papermill": {
     "duration": 0.853969,
     "end_time": "2022-05-19T13:36:59.755372",
     "exception": false,
     "start_time": "2022-05-19T13:36:58.901403",
     "status": "completed"
    },
    "tags": []
   },
   "outputs": [],
   "source": [
    "book = sb.read_notebooks(\"./ABC_GAN_Catboost\")\n",
    "paramVal = [1,0.1,0.01]\n",
    "abc_mae = [[] for i in range(3)]\n",
    "abc_mae_skip = [[] for i in range(3)]\n",
    "abc_mae_mean = [[] for i in range(3)]\n",
    "abc_mae_skip_mean = [[] for i in range(3)]\n",
    "abc_weights = [[] for i in range(3)]\n",
    "prior_model = [[] for i in range(3)]\n",
    "abc_pre_generator = [[] for i in range(3)]\n",
    "\n",
    "for nb in book.notebooks:\n",
    "    metrics1 = np.array(nb.scraps['ABC_GAN_1 Metrics'].data)\n",
    "    metrics3 = np.array(nb.scraps['ABC_GAN_3 Metrics'].data)\n",
    "    paramVar = float(nb.papermill_dataframe.iloc[0]['value'])\n",
    "    \n",
    "    #Divide data according to parameters \n",
    "    for i in range(3):\n",
    "        if paramVar == paramVal[i]:\n",
    "            for j in range(100):\n",
    "                abc_mae[i].append(metrics1[1,j])\n",
    "                abc_mae_skip[i].append(metrics3[1,j])\n",
    "            abc_weights[i].append(nb.scraps['Skip Connection Weight'].data)\n",
    "            prior_model[i].append(nb.scraps['Prior Model MAE'].data)\n",
    "            abc_pre_generator[i].append(nb.scraps['ABC Pre-generator MAE'].data)\n",
    "            abc_mae_skip_mean[i].append(mean(metrics3[1,:]))\n",
    "            abc_mae_mean[i].append(mean(metrics1[1,:]))"
   ]
  },
  {
   "cell_type": "code",
   "execution_count": 6,
   "id": "d0d13f91",
   "metadata": {
    "execution": {
     "iopub.execute_input": "2022-05-19T13:36:59.770874Z",
     "iopub.status.busy": "2022-05-19T13:36:59.770479Z",
     "iopub.status.idle": "2022-05-19T13:36:59.772181Z",
     "shell.execute_reply": "2022-05-19T13:36:59.772422Z"
    },
    "papermill": {
     "duration": 0.012133,
     "end_time": "2022-05-19T13:36:59.772529",
     "exception": false,
     "start_time": "2022-05-19T13:36:59.760396",
     "status": "completed"
    },
    "tags": []
   },
   "outputs": [
    {
     "name": "stdout",
     "output_type": "stream",
     "text": [
      "[[0.3871505244052966, 1.0, 1.0387623669986596, 0.37262011703010645, 0.3880258403783664, 0.204212486743927], [0.3779443393632169, 0.1, 0.3735413580582606, 0.3673721093726344, 0.355285068531055, 0.28923986852169037], [0.42389601949318334, 0.01, 0.4225384156657258, 0.423910861749202, 0.42417094468504823, 0.0]]\n"
     ]
    }
   ],
   "source": [
    "data = [[] for i in range(3)]\n",
    "data_median_catboost = [[] for i in range(3)]\n",
    "for i in range(3):\n",
    "    for j in range(len(abc_weights[i])):\n",
    "        data[i].append([prior_model[i][j],paramVal[i],\n",
    "                     abc_pre_generator[i][j],abc_weights[i][j],abc_mae_mean[i][j],abc_mae_skip_mean[i][j]])\n",
    "    \n",
    "    df = pd.DataFrame(data[i], columns = ['Baseline','Variance','Prior Model','Weight','ABC_GAN','Skip_GAN'])\n",
    "    data_median_catboost[i] = [ df['Baseline'].median(),df['Variance'].median(), df['Prior Model'].median(),\n",
    "                        df['ABC_GAN'].median(), df['Skip_GAN'].median(),df['Weight'].median()]\n",
    "print(data_median_catboost)\n"
   ]
  },
  {
   "cell_type": "markdown",
   "id": "a7a27753",
   "metadata": {
    "papermill": {
     "duration": 0.004738,
     "end_time": "2022-05-19T13:36:59.782181",
     "exception": false,
     "start_time": "2022-05-19T13:36:59.777443",
     "status": "completed"
    },
    "tags": []
   },
   "source": [
    "## ABC Pre-generator - Stats \n"
   ]
  },
  {
   "cell_type": "code",
   "execution_count": 7,
   "id": "bcab942a",
   "metadata": {
    "execution": {
     "iopub.execute_input": "2022-05-19T13:36:59.796337Z",
     "iopub.status.busy": "2022-05-19T13:36:59.795961Z",
     "iopub.status.idle": "2022-05-19T13:37:01.094781Z",
     "shell.execute_reply": "2022-05-19T13:37:01.095032Z"
    },
    "papermill": {
     "duration": 1.308211,
     "end_time": "2022-05-19T13:37:01.095153",
     "exception": false,
     "start_time": "2022-05-19T13:36:59.786942",
     "status": "completed"
    },
    "tags": []
   },
   "outputs": [],
   "source": [
    "book = sb.read_notebooks(\"./ABC_GAN_Stats\")\n",
    "paramVal = [1,0.1,0.01]\n",
    "abc_mae = [[] for i in range(3)]\n",
    "abc_mae_skip = [[] for i in range(3)]\n",
    "abc_mae_mean = [[] for i in range(3)]\n",
    "abc_mae_skip_mean = [[] for i in range(3)]\n",
    "abc_weights = [[] for i in range(3)]\n",
    "prior_model = [[] for i in range(3)]\n",
    "abc_pre_generator = [[] for i in range(3)]\n",
    "\n",
    "for nb in book.notebooks:\n",
    "    metrics1 = np.array(nb.scraps['ABC_GAN_1 Metrics'].data)\n",
    "    metrics3 = np.array(nb.scraps['ABC_GAN_3 Metrics'].data)\n",
    "    paramVar = float(nb.papermill_dataframe.iloc[0]['value'])\n",
    "    \n",
    "    #Divide data according to parameters \n",
    "    for i in range(3):\n",
    "        if paramVar == paramVal[i]:\n",
    "            for j in range(100):\n",
    "                abc_mae[i].append(metrics1[1,j])\n",
    "                abc_mae_skip[i].append(metrics3[1,j])\n",
    "            abc_weights[i].append(nb.scraps['Skip Connection Weight'].data)\n",
    "            prior_model[i].append(nb.scraps['Prior Model MAE'].data)\n",
    "            abc_pre_generator[i].append(nb.scraps['ABC Pre-generator MAE'].data)\n",
    "            abc_mae_skip_mean[i].append(mean(metrics3[1,:]))\n",
    "            abc_mae_mean[i].append(mean(metrics1[1,:]))"
   ]
  },
  {
   "cell_type": "code",
   "execution_count": 8,
   "id": "4abbead5",
   "metadata": {
    "execution": {
     "iopub.execute_input": "2022-05-19T13:37:01.111011Z",
     "iopub.status.busy": "2022-05-19T13:37:01.110631Z",
     "iopub.status.idle": "2022-05-19T13:37:01.112117Z",
     "shell.execute_reply": "2022-05-19T13:37:01.112401Z"
    },
    "papermill": {
     "duration": 0.012042,
     "end_time": "2022-05-19T13:37:01.112516",
     "exception": false,
     "start_time": "2022-05-19T13:37:01.100474",
     "status": "completed"
    },
    "tags": []
   },
   "outputs": [
    {
     "name": "stdout",
     "output_type": "stream",
     "text": [
      "[[0.5499411668699867, 1.0, 1.0697676428179261, 0.4583901086981408, 0.37041094949703374, 0.9976971745491028], [0.6053406625702988, 0.1, 0.625143836017054, 0.5839598947566003, 0.5740661852596269, 0.3009869158267975], [0.5069318524069576, 0.01, 0.5065895870617352, 0.5247535722646862, 0.4882658434525132, 0.19477925449609756]]\n"
     ]
    }
   ],
   "source": [
    "data = [[] for i in range(3)]\n",
    "data_median_stats = [[] for i in range(3)]\n",
    "for i in range(3):\n",
    "    for j in range(len(abc_weights[i])):\n",
    "        data[i].append([paramVal[i],prior_model[i][j],\n",
    "                     abc_pre_generator[i][j],abc_weights[i][j],abc_mae_mean[i][j],abc_mae_skip_mean[i][j]])\n",
    "    \n",
    "    df = pd.DataFrame(data[i], columns = ['Variance','Baseline','Prior Model','Weight','ABC_GAN','Skip_GAN'])\n",
    "    data_median_stats[i] = [df['Baseline'].median(),df['Variance'].median(), df['Prior Model'].median(), df['ABC_GAN'].median(), df['Skip_GAN'].median(),\n",
    "                        df['Weight'].median()]\n",
    "print(data_median_stats)"
   ]
  },
  {
   "cell_type": "code",
   "execution_count": 9,
   "id": "5aa4de83",
   "metadata": {
    "execution": {
     "iopub.execute_input": "2022-05-19T13:37:01.129878Z",
     "iopub.status.busy": "2022-05-19T13:37:01.129503Z",
     "iopub.status.idle": "2022-05-19T13:37:01.135004Z",
     "shell.execute_reply": "2022-05-19T13:37:01.135254Z"
    },
    "papermill": {
     "duration": 0.017768,
     "end_time": "2022-05-19T13:37:01.135363",
     "exception": false,
     "start_time": "2022-05-19T13:37:01.117595",
     "status": "completed"
    },
    "tags": []
   },
   "outputs": [
    {
     "data": {
      "text/html": [
       "<div>\n",
       "<style scoped>\n",
       "    .dataframe tbody tr th:only-of-type {\n",
       "        vertical-align: middle;\n",
       "    }\n",
       "\n",
       "    .dataframe tbody tr th {\n",
       "        vertical-align: top;\n",
       "    }\n",
       "\n",
       "    .dataframe thead th {\n",
       "        text-align: right;\n",
       "    }\n",
       "</style>\n",
       "<table border=\"1\" class=\"dataframe\">\n",
       "  <thead>\n",
       "    <tr style=\"text-align: right;\">\n",
       "      <th></th>\n",
       "      <th>Baseline</th>\n",
       "      <th>GAN</th>\n",
       "      <th>Baseline</th>\n",
       "      <th>Variance</th>\n",
       "      <th>Prior Model</th>\n",
       "      <th>ABC_GAN</th>\n",
       "      <th>Skip_GAN</th>\n",
       "      <th>Weight</th>\n",
       "    </tr>\n",
       "  </thead>\n",
       "  <tbody>\n",
       "    <tr>\n",
       "      <th>0</th>\n",
       "      <td>0.55293</td>\n",
       "      <td>0.397598</td>\n",
       "      <td>0.549941</td>\n",
       "      <td>1.00</td>\n",
       "      <td>1.069768</td>\n",
       "      <td>0.458390</td>\n",
       "      <td>0.370411</td>\n",
       "      <td>0.997697</td>\n",
       "    </tr>\n",
       "    <tr>\n",
       "      <th>1</th>\n",
       "      <td>0.55293</td>\n",
       "      <td>0.397598</td>\n",
       "      <td>0.605341</td>\n",
       "      <td>0.10</td>\n",
       "      <td>0.625144</td>\n",
       "      <td>0.583960</td>\n",
       "      <td>0.574066</td>\n",
       "      <td>0.300987</td>\n",
       "    </tr>\n",
       "    <tr>\n",
       "      <th>2</th>\n",
       "      <td>0.55293</td>\n",
       "      <td>0.397598</td>\n",
       "      <td>0.506932</td>\n",
       "      <td>0.01</td>\n",
       "      <td>0.506590</td>\n",
       "      <td>0.524754</td>\n",
       "      <td>0.488266</td>\n",
       "      <td>0.194779</td>\n",
       "    </tr>\n",
       "  </tbody>\n",
       "</table>\n",
       "</div>"
      ],
      "text/plain": [
       "   Baseline       GAN  Baseline  Variance  Prior Model   ABC_GAN  Skip_GAN  \\\n",
       "0   0.55293  0.397598  0.549941      1.00     1.069768  0.458390  0.370411   \n",
       "1   0.55293  0.397598  0.605341      0.10     0.625144  0.583960  0.574066   \n",
       "2   0.55293  0.397598  0.506932      0.01     0.506590  0.524754  0.488266   \n",
       "\n",
       "     Weight  \n",
       "0  0.997697  \n",
       "1  0.300987  \n",
       "2  0.194779  "
      ]
     },
     "metadata": {},
     "output_type": "display_data"
    },
    {
     "data": {
      "text/html": [
       "<div>\n",
       "<style scoped>\n",
       "    .dataframe tbody tr th:only-of-type {\n",
       "        vertical-align: middle;\n",
       "    }\n",
       "\n",
       "    .dataframe tbody tr th {\n",
       "        vertical-align: top;\n",
       "    }\n",
       "\n",
       "    .dataframe thead th {\n",
       "        text-align: right;\n",
       "    }\n",
       "</style>\n",
       "<table border=\"1\" class=\"dataframe\">\n",
       "  <thead>\n",
       "    <tr style=\"text-align: right;\">\n",
       "      <th></th>\n",
       "      <th>Baseline</th>\n",
       "      <th>GAN</th>\n",
       "      <th>Baseline</th>\n",
       "      <th>Variance</th>\n",
       "      <th>Prior Model</th>\n",
       "      <th>ABC_GAN</th>\n",
       "      <th>Skip_GAN</th>\n",
       "      <th>Weight</th>\n",
       "    </tr>\n",
       "  </thead>\n",
       "  <tbody>\n",
       "    <tr>\n",
       "      <th>0</th>\n",
       "      <td>0.866775</td>\n",
       "      <td>0.397598</td>\n",
       "      <td>0.387151</td>\n",
       "      <td>1.00</td>\n",
       "      <td>1.038762</td>\n",
       "      <td>0.372620</td>\n",
       "      <td>0.388026</td>\n",
       "      <td>0.204212</td>\n",
       "    </tr>\n",
       "    <tr>\n",
       "      <th>1</th>\n",
       "      <td>0.866775</td>\n",
       "      <td>0.397598</td>\n",
       "      <td>0.377944</td>\n",
       "      <td>0.10</td>\n",
       "      <td>0.373541</td>\n",
       "      <td>0.367372</td>\n",
       "      <td>0.355285</td>\n",
       "      <td>0.289240</td>\n",
       "    </tr>\n",
       "    <tr>\n",
       "      <th>2</th>\n",
       "      <td>0.866775</td>\n",
       "      <td>0.397598</td>\n",
       "      <td>0.423896</td>\n",
       "      <td>0.01</td>\n",
       "      <td>0.422538</td>\n",
       "      <td>0.423911</td>\n",
       "      <td>0.424171</td>\n",
       "      <td>0.000000</td>\n",
       "    </tr>\n",
       "  </tbody>\n",
       "</table>\n",
       "</div>"
      ],
      "text/plain": [
       "   Baseline       GAN  Baseline  Variance  Prior Model   ABC_GAN  Skip_GAN  \\\n",
       "0  0.866775  0.397598  0.387151      1.00     1.038762  0.372620  0.388026   \n",
       "1  0.866775  0.397598  0.377944      0.10     0.373541  0.367372  0.355285   \n",
       "2  0.866775  0.397598  0.423896      0.01     0.422538  0.423911  0.424171   \n",
       "\n",
       "     Weight  \n",
       "0  0.204212  \n",
       "1  0.289240  \n",
       "2  0.000000  "
      ]
     },
     "metadata": {},
     "output_type": "display_data"
    }
   ],
   "source": [
    "#Output Table \n",
    "output_data_stats = [[stats, gan_median] for i in range(3)]\n",
    "for i in range(3):\n",
    "    for j in range(6):\n",
    "        output_data_stats[i].append(data_median_stats[i][j])\n",
    "\n",
    "df_stats = pd.DataFrame(output_data_stats, columns=['Baseline','GAN','Baseline','Variance','Prior Model','ABC_GAN','Skip_GAN','Weight'])\n",
    "\n",
    "output_data_catboost = [[catboost, gan_median] for i in range(3)]\n",
    "for i in range(3):\n",
    "    for j in range(6):\n",
    "        output_data_catboost[i].append(data_median_catboost[i][j])\n",
    "df_catboost = pd.DataFrame(output_data_catboost,columns=['Baseline','GAN','Baseline','Variance','Prior Model','ABC_GAN','Skip_GAN','Weight'])\n",
    "\n",
    "display(df_stats)\n",
    "display(df_catboost)"
   ]
  }
 ],
 "metadata": {
  "interpreter": {
   "hash": "10498c76ddd8160350534c6544a2b2fb65f2138dbc70420f7c81a3268f830f23"
  },
  "kernelspec": {
   "display_name": "papermill-tutorial",
   "language": "python",
   "name": "python3"
  },
  "language_info": {
   "codemirror_mode": {
    "name": "ipython",
    "version": 3
   },
   "file_extension": ".py",
   "mimetype": "text/x-python",
   "name": "python",
   "nbconvert_exporter": "python",
   "pygments_lexer": "ipython3",
   "version": "3.8.11"
  },
  "papermill": {
   "default_parameters": {},
   "duration": 4.91003,
   "end_time": "2022-05-19T13:37:01.347917",
   "environment_variables": {},
   "exception": null,
   "input_path": "Analysis.ipynb",
   "output_path": "Friedman3.ipynb",
   "parameters": {},
   "start_time": "2022-05-19T13:36:56.437887",
   "version": "2.3.3"
  }
 },
 "nbformat": 4,
 "nbformat_minor": 5
}
