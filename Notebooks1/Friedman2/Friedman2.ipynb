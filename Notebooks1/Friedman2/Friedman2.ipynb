{
 "cells": [
  {
   "cell_type": "code",
   "execution_count": 1,
   "id": "423b7ca4",
   "metadata": {
    "execution": {
     "iopub.execute_input": "2022-05-19T12:17:36.054941Z",
     "iopub.status.busy": "2022-05-19T12:17:36.054076Z",
     "iopub.status.idle": "2022-05-19T12:17:36.057095Z",
     "shell.execute_reply": "2022-05-19T12:17:36.057634Z"
    },
    "papermill": {
     "duration": 0.031607,
     "end_time": "2022-05-19T12:17:36.057959",
     "exception": false,
     "start_time": "2022-05-19T12:17:36.026352",
     "status": "completed"
    },
    "tags": []
   },
   "outputs": [],
   "source": [
    "import warnings\n",
    "warnings.filterwarnings('ignore')"
   ]
  },
  {
   "cell_type": "code",
   "execution_count": 2,
   "id": "618121c9",
   "metadata": {
    "execution": {
     "iopub.execute_input": "2022-05-19T12:17:36.077476Z",
     "iopub.status.busy": "2022-05-19T12:17:36.076937Z",
     "iopub.status.idle": "2022-05-19T12:17:37.263664Z",
     "shell.execute_reply": "2022-05-19T12:17:37.263890Z"
    },
    "papermill": {
     "duration": 1.197056,
     "end_time": "2022-05-19T12:17:37.264016",
     "exception": false,
     "start_time": "2022-05-19T12:17:36.066960",
     "status": "completed"
    },
    "tags": []
   },
   "outputs": [],
   "source": [
    "import scrapbook as sb \n",
    "import pandas as pd\n",
    "import numpy as np \n",
    "import seaborn as sns \n",
    "import numpy as np\n",
    "from statistics import mean, median\n",
    "import matplotlib.pyplot as plt"
   ]
  },
  {
   "cell_type": "markdown",
   "id": "8842137f",
   "metadata": {
    "papermill": {
     "duration": 0.003731,
     "end_time": "2022-05-19T12:17:37.271881",
     "exception": false,
     "start_time": "2022-05-19T12:17:37.268150",
     "status": "completed"
    },
    "tags": []
   },
   "source": [
    "# Baseline "
   ]
  },
  {
   "cell_type": "code",
   "execution_count": 3,
   "id": "a9dce367",
   "metadata": {
    "execution": {
     "iopub.execute_input": "2022-05-19T12:17:37.283430Z",
     "iopub.status.busy": "2022-05-19T12:17:37.282971Z",
     "iopub.status.idle": "2022-05-19T12:17:37.397481Z",
     "shell.execute_reply": "2022-05-19T12:17:37.397774Z"
    },
    "papermill": {
     "duration": 0.121369,
     "end_time": "2022-05-19T12:17:37.397890",
     "exception": false,
     "start_time": "2022-05-19T12:17:37.276521",
     "status": "completed"
    },
    "tags": []
   },
   "outputs": [
    {
     "data": {
      "text/html": [
       "<div>\n",
       "<style scoped>\n",
       "    .dataframe tbody tr th:only-of-type {\n",
       "        vertical-align: middle;\n",
       "    }\n",
       "\n",
       "    .dataframe tbody tr th {\n",
       "        vertical-align: top;\n",
       "    }\n",
       "\n",
       "    .dataframe thead th {\n",
       "        text-align: right;\n",
       "    }\n",
       "</style>\n",
       "<table border=\"1\" class=\"dataframe\">\n",
       "  <thead>\n",
       "    <tr style=\"text-align: right;\">\n",
       "      <th></th>\n",
       "      <th>Stats Model</th>\n",
       "      <th>Catboost</th>\n",
       "    </tr>\n",
       "  </thead>\n",
       "  <tbody>\n",
       "    <tr>\n",
       "      <th>0</th>\n",
       "      <td>0.287941</td>\n",
       "      <td>0.100321</td>\n",
       "    </tr>\n",
       "    <tr>\n",
       "      <th>1</th>\n",
       "      <td>0.188694</td>\n",
       "      <td>0.132098</td>\n",
       "    </tr>\n",
       "    <tr>\n",
       "      <th>2</th>\n",
       "      <td>0.279464</td>\n",
       "      <td>0.124398</td>\n",
       "    </tr>\n",
       "    <tr>\n",
       "      <th>3</th>\n",
       "      <td>0.326746</td>\n",
       "      <td>0.120304</td>\n",
       "    </tr>\n",
       "    <tr>\n",
       "      <th>4</th>\n",
       "      <td>0.208246</td>\n",
       "      <td>0.122657</td>\n",
       "    </tr>\n",
       "    <tr>\n",
       "      <th>5</th>\n",
       "      <td>0.356061</td>\n",
       "      <td>0.151503</td>\n",
       "    </tr>\n",
       "    <tr>\n",
       "      <th>6</th>\n",
       "      <td>0.227851</td>\n",
       "      <td>0.147860</td>\n",
       "    </tr>\n",
       "    <tr>\n",
       "      <th>7</th>\n",
       "      <td>0.235551</td>\n",
       "      <td>0.090044</td>\n",
       "    </tr>\n",
       "    <tr>\n",
       "      <th>8</th>\n",
       "      <td>0.274094</td>\n",
       "      <td>0.181755</td>\n",
       "    </tr>\n",
       "    <tr>\n",
       "      <th>9</th>\n",
       "      <td>0.261315</td>\n",
       "      <td>0.090944</td>\n",
       "    </tr>\n",
       "  </tbody>\n",
       "</table>\n",
       "</div>"
      ],
      "text/plain": [
       "   Stats Model  Catboost\n",
       "0     0.287941  0.100321\n",
       "1     0.188694  0.132098\n",
       "2     0.279464  0.124398\n",
       "3     0.326746  0.120304\n",
       "4     0.208246  0.122657\n",
       "5     0.356061  0.151503\n",
       "6     0.227851  0.147860\n",
       "7     0.235551  0.090044\n",
       "8     0.274094  0.181755\n",
       "9     0.261315  0.090944"
      ]
     },
     "metadata": {},
     "output_type": "display_data"
    },
    {
     "name": "stdout",
     "output_type": "stream",
     "text": [
      "Stats Model    0.267705\n",
      "Catboost       0.123528\n",
      "dtype: float64\n"
     ]
    }
   ],
   "source": [
    "books = sb.read_notebooks(\"./BaseLine_Model_Output\")\n",
    "baseLine_data = []\n",
    "for nb in books.notebooks: \n",
    "    nbList=[nb.scraps['Stats Model MAE'].data,nb.scraps['Catboost MAE'].data]\n",
    "    baseLine_data.append(nbList)\n",
    "df = pd.DataFrame(baseLine_data, columns = [\"Stats Model\",\"Catboost\"])\n",
    "baseline_data = np.array(baseLine_data)\n",
    "stats = median(baseline_data[:,0])\n",
    "catboost = median(baseline_data[:,1])\n",
    "display(df)\n",
    "print(df.median(axis=0))"
   ]
  },
  {
   "cell_type": "markdown",
   "id": "2ef4d014",
   "metadata": {
    "papermill": {
     "duration": 0.004133,
     "end_time": "2022-05-19T12:17:37.406435",
     "exception": false,
     "start_time": "2022-05-19T12:17:37.402302",
     "status": "completed"
    },
    "tags": []
   },
   "source": [
    "# GAN Model"
   ]
  },
  {
   "cell_type": "code",
   "execution_count": 4,
   "id": "ce2d028d",
   "metadata": {
    "execution": {
     "iopub.execute_input": "2022-05-19T12:17:37.418168Z",
     "iopub.status.busy": "2022-05-19T12:17:37.417746Z",
     "iopub.status.idle": "2022-05-19T12:17:37.597326Z",
     "shell.execute_reply": "2022-05-19T12:17:37.597585Z"
    },
    "papermill": {
     "duration": 0.187189,
     "end_time": "2022-05-19T12:17:37.597705",
     "exception": false,
     "start_time": "2022-05-19T12:17:37.410516",
     "status": "completed"
    },
    "tags": []
   },
   "outputs": [
    {
     "data": {
      "text/html": [
       "<style type=\"text/css\">\n",
       "</style>\n",
       "<table id=\"T_e62a3_\">\n",
       "  <thead>\n",
       "    <tr>\n",
       "      <th class=\"blank level0\" >&nbsp;</th>\n",
       "      <th class=\"col_heading level0 col0\" >MSE</th>\n",
       "      <th class=\"col_heading level0 col1\" >MAE</th>\n",
       "      <th class=\"col_heading level0 col2\" >Euclidean Distance</th>\n",
       "      <th class=\"col_heading level0 col3\" >Manhattan Distance</th>\n",
       "    </tr>\n",
       "  </thead>\n",
       "  <tbody>\n",
       "    <tr>\n",
       "      <th id=\"T_e62a3_level0_row0\" class=\"row_heading level0 row0\" >0</th>\n",
       "      <td id=\"T_e62a3_row0_col0\" class=\"data row0 col0\" >0.003925</td>\n",
       "      <td id=\"T_e62a3_row0_col1\" class=\"data row0 col1\" >0.046379</td>\n",
       "      <td id=\"T_e62a3_row0_col2\" class=\"data row0 col2\" >0.278253</td>\n",
       "      <td id=\"T_e62a3_row0_col3\" class=\"data row0 col3\" >0.927583</td>\n",
       "    </tr>\n",
       "    <tr>\n",
       "      <th id=\"T_e62a3_level0_row1\" class=\"row_heading level0 row1\" >1</th>\n",
       "      <td id=\"T_e62a3_row1_col0\" class=\"data row1 col0\" >0.015190</td>\n",
       "      <td id=\"T_e62a3_row1_col1\" class=\"data row1 col1\" >0.090338</td>\n",
       "      <td id=\"T_e62a3_row1_col2\" class=\"data row1 col2\" >0.550521</td>\n",
       "      <td id=\"T_e62a3_row1_col3\" class=\"data row1 col3\" >1.806768</td>\n",
       "    </tr>\n",
       "    <tr>\n",
       "      <th id=\"T_e62a3_level0_row2\" class=\"row_heading level0 row2\" >2</th>\n",
       "      <td id=\"T_e62a3_row2_col0\" class=\"data row2 col0\" >0.003680</td>\n",
       "      <td id=\"T_e62a3_row2_col1\" class=\"data row2 col1\" >0.050162</td>\n",
       "      <td id=\"T_e62a3_row2_col2\" class=\"data row2 col2\" >0.270881</td>\n",
       "      <td id=\"T_e62a3_row2_col3\" class=\"data row2 col3\" >1.003233</td>\n",
       "    </tr>\n",
       "    <tr>\n",
       "      <th id=\"T_e62a3_level0_row3\" class=\"row_heading level0 row3\" >3</th>\n",
       "      <td id=\"T_e62a3_row3_col0\" class=\"data row3 col0\" >0.002585</td>\n",
       "      <td id=\"T_e62a3_row3_col1\" class=\"data row3 col1\" >0.039138</td>\n",
       "      <td id=\"T_e62a3_row3_col2\" class=\"data row3 col2\" >0.226374</td>\n",
       "      <td id=\"T_e62a3_row3_col3\" class=\"data row3 col3\" >0.782752</td>\n",
       "    </tr>\n",
       "    <tr>\n",
       "      <th id=\"T_e62a3_level0_row4\" class=\"row_heading level0 row4\" >4</th>\n",
       "      <td id=\"T_e62a3_row4_col0\" class=\"data row4 col0\" >0.010736</td>\n",
       "      <td id=\"T_e62a3_row4_col1\" class=\"data row4 col1\" >0.082382</td>\n",
       "      <td id=\"T_e62a3_row4_col2\" class=\"data row4 col2\" >0.462688</td>\n",
       "      <td id=\"T_e62a3_row4_col3\" class=\"data row4 col3\" >1.647635</td>\n",
       "    </tr>\n",
       "    <tr>\n",
       "      <th id=\"T_e62a3_level0_row5\" class=\"row_heading level0 row5\" >5</th>\n",
       "      <td id=\"T_e62a3_row5_col0\" class=\"data row5 col0\" >0.004975</td>\n",
       "      <td id=\"T_e62a3_row5_col1\" class=\"data row5 col1\" >0.057724</td>\n",
       "      <td id=\"T_e62a3_row5_col2\" class=\"data row5 col2\" >0.315023</td>\n",
       "      <td id=\"T_e62a3_row5_col3\" class=\"data row5 col3\" >1.154474</td>\n",
       "    </tr>\n",
       "    <tr>\n",
       "      <th id=\"T_e62a3_level0_row6\" class=\"row_heading level0 row6\" >6</th>\n",
       "      <td id=\"T_e62a3_row6_col0\" class=\"data row6 col0\" >0.006896</td>\n",
       "      <td id=\"T_e62a3_row6_col1\" class=\"data row6 col1\" >0.066599</td>\n",
       "      <td id=\"T_e62a3_row6_col2\" class=\"data row6 col2\" >0.370883</td>\n",
       "      <td id=\"T_e62a3_row6_col3\" class=\"data row6 col3\" >1.331986</td>\n",
       "    </tr>\n",
       "    <tr>\n",
       "      <th id=\"T_e62a3_level0_row7\" class=\"row_heading level0 row7\" >7</th>\n",
       "      <td id=\"T_e62a3_row7_col0\" class=\"data row7 col0\" >0.004594</td>\n",
       "      <td id=\"T_e62a3_row7_col1\" class=\"data row7 col1\" >0.050541</td>\n",
       "      <td id=\"T_e62a3_row7_col2\" class=\"data row7 col2\" >0.302654</td>\n",
       "      <td id=\"T_e62a3_row7_col3\" class=\"data row7 col3\" >1.010813</td>\n",
       "    </tr>\n",
       "    <tr>\n",
       "      <th id=\"T_e62a3_level0_row8\" class=\"row_heading level0 row8\" >8</th>\n",
       "      <td id=\"T_e62a3_row8_col0\" class=\"data row8 col0\" >0.007402</td>\n",
       "      <td id=\"T_e62a3_row8_col1\" class=\"data row8 col1\" >0.065142</td>\n",
       "      <td id=\"T_e62a3_row8_col2\" class=\"data row8 col2\" >0.384195</td>\n",
       "      <td id=\"T_e62a3_row8_col3\" class=\"data row8 col3\" >1.302832</td>\n",
       "    </tr>\n",
       "    <tr>\n",
       "      <th id=\"T_e62a3_level0_row9\" class=\"row_heading level0 row9\" >9</th>\n",
       "      <td id=\"T_e62a3_row9_col0\" class=\"data row9 col0\" >0.007516</td>\n",
       "      <td id=\"T_e62a3_row9_col1\" class=\"data row9 col1\" >0.063800</td>\n",
       "      <td id=\"T_e62a3_row9_col2\" class=\"data row9 col2\" >0.385625</td>\n",
       "      <td id=\"T_e62a3_row9_col3\" class=\"data row9 col3\" >1.275995</td>\n",
       "    </tr>\n",
       "  </tbody>\n",
       "</table>\n"
      ],
      "text/plain": [
       "<pandas.io.formats.style.Styler at 0x7fdd7cade850>"
      ]
     },
     "metadata": {},
     "output_type": "display_data"
    },
    {
     "name": "stdout",
     "output_type": "stream",
     "text": [
      "MEDIAN:\n",
      "MSE                   0.005936\n",
      "MAE                   0.060762\n",
      "Euclidean Distance    0.342953\n",
      "Manhattan Distance    1.215234\n",
      "dtype: float64\n"
     ]
    }
   ],
   "source": [
    "book = sb.read_notebooks(\"./GAN_Output\")\n",
    "gan_data = []\n",
    "gan_mse = []\n",
    "for nb in book.notebooks:\n",
    "    metrics = nb.scraps['GAN_1 Metrics'].data\n",
    "    for i in range(1000):\n",
    "        gan_mse.append(metrics[0][i])\n",
    "    nbList = [nb.scraps['GAN Model MSE'].data,\n",
    "              nb.scraps['GAN Model MAE'].data,\n",
    "              nb.scraps['GAN Model Euclidean distance'].data,\n",
    "              nb.scraps['GAN Model Manhattan Distance'].data]        \n",
    "    gan_data.append(nbList)\n",
    "    \n",
    "df = pd.DataFrame(gan_data, columns = ['MSE','MAE','Euclidean Distance','Manhattan Distance'])\n",
    "display(df.style)\n",
    "print(\"MEDIAN:\")\n",
    "print(df.median(axis = 0))\n",
    "gan_data = np.array(gan_data)\n",
    "gan_median = median(gan_data[:,1])"
   ]
  },
  {
   "cell_type": "markdown",
   "id": "db69b3bd",
   "metadata": {
    "papermill": {
     "duration": 0.004627,
     "end_time": "2022-05-19T12:17:37.607287",
     "exception": false,
     "start_time": "2022-05-19T12:17:37.602660",
     "status": "completed"
    },
    "tags": []
   },
   "source": [
    "# ABC_GAN Analysis"
   ]
  },
  {
   "cell_type": "markdown",
   "id": "930ab0e5",
   "metadata": {
    "papermill": {
     "duration": 0.004505,
     "end_time": "2022-05-19T12:17:37.616346",
     "exception": false,
     "start_time": "2022-05-19T12:17:37.611841",
     "status": "completed"
    },
    "tags": []
   },
   "source": [
    "## ABC Pre-generator - Catboost \n"
   ]
  },
  {
   "cell_type": "code",
   "execution_count": 5,
   "id": "ea491444",
   "metadata": {
    "execution": {
     "iopub.execute_input": "2022-05-19T12:17:37.630274Z",
     "iopub.status.busy": "2022-05-19T12:17:37.629888Z",
     "iopub.status.idle": "2022-05-19T12:17:38.486243Z",
     "shell.execute_reply": "2022-05-19T12:17:38.486495Z"
    },
    "papermill": {
     "duration": 0.865762,
     "end_time": "2022-05-19T12:17:38.486617",
     "exception": false,
     "start_time": "2022-05-19T12:17:37.620855",
     "status": "completed"
    },
    "tags": []
   },
   "outputs": [],
   "source": [
    "book = sb.read_notebooks(\"./ABC_GAN_Catboost\")\n",
    "paramVal = [1,0.1,0.01]\n",
    "abc_mae = [[] for i in range(3)]\n",
    "abc_mae_skip = [[] for i in range(3)]\n",
    "abc_mae_mean = [[] for i in range(3)]\n",
    "abc_mae_skip_mean = [[] for i in range(3)]\n",
    "abc_weights = [[] for i in range(3)]\n",
    "prior_model = [[] for i in range(3)]\n",
    "abc_pre_generator = [[] for i in range(3)]\n",
    "\n",
    "for nb in book.notebooks:\n",
    "    metrics1 = np.array(nb.scraps['ABC_GAN_1 Metrics'].data)\n",
    "    metrics3 = np.array(nb.scraps['ABC_GAN_3 Metrics'].data)\n",
    "    paramVar = float(nb.papermill_dataframe.iloc[0]['value'])\n",
    "    \n",
    "    #Divide data according to parameters \n",
    "    for i in range(3):\n",
    "        if paramVar == paramVal[i]:\n",
    "            for j in range(100):\n",
    "                abc_mae[i].append(metrics1[1,j])\n",
    "                abc_mae_skip[i].append(metrics3[1,j])\n",
    "            abc_weights[i].append(nb.scraps['Skip Connection Weight'].data)\n",
    "            prior_model[i].append(nb.scraps['Prior Model MAE'].data)\n",
    "            abc_pre_generator[i].append(nb.scraps['ABC Pre-generator MAE'].data)\n",
    "            abc_mae_skip_mean[i].append(mean(metrics3[1,:]))\n",
    "            abc_mae_mean[i].append(mean(metrics1[1,:]))"
   ]
  },
  {
   "cell_type": "code",
   "execution_count": 6,
   "id": "d0d13f91",
   "metadata": {
    "execution": {
     "iopub.execute_input": "2022-05-19T12:17:38.501742Z",
     "iopub.status.busy": "2022-05-19T12:17:38.500082Z",
     "iopub.status.idle": "2022-05-19T12:17:38.503415Z",
     "shell.execute_reply": "2022-05-19T12:17:38.503661Z"
    },
    "papermill": {
     "duration": 0.012112,
     "end_time": "2022-05-19T12:17:38.503768",
     "exception": false,
     "start_time": "2022-05-19T12:17:38.491656",
     "status": "completed"
    },
    "tags": []
   },
   "outputs": [
    {
     "name": "stdout",
     "output_type": "stream",
     "text": [
      "[[0.13046564373870745, 1.0, 0.7795531598265417, 0.0740105579700321, 0.06983858133107423, 0.12741650640964508], [0.12747633715256595, 0.1, 0.16171777631953266, 0.0884809817271307, 0.07142530800169333, 0.22983835637569427], [0.13139145441351893, 0.01, 0.13224829098477203, 0.09366990771517159, 0.12402306892140769, 1.1432555766077712e-05]]\n"
     ]
    }
   ],
   "source": [
    "data = [[] for i in range(3)]\n",
    "data_median_catboost = [[] for i in range(3)]\n",
    "for i in range(3):\n",
    "    for j in range(len(abc_weights[i])):\n",
    "        data[i].append([prior_model[i][j],paramVal[i],\n",
    "                     abc_pre_generator[i][j],abc_weights[i][j],abc_mae_mean[i][j],abc_mae_skip_mean[i][j]])\n",
    "    \n",
    "    df = pd.DataFrame(data[i], columns = ['Baseline','Variance','Prior Model','Weight','ABC_GAN','Skip_GAN'])\n",
    "    data_median_catboost[i] = [ df['Baseline'].median(),df['Variance'].median(), df['Prior Model'].median(),\n",
    "                        df['ABC_GAN'].median(), df['Skip_GAN'].median(),df['Weight'].median()]\n",
    "print(data_median_catboost)\n"
   ]
  },
  {
   "cell_type": "markdown",
   "id": "7ff2062a",
   "metadata": {
    "papermill": {
     "duration": 0.004729,
     "end_time": "2022-05-19T12:17:38.513378",
     "exception": false,
     "start_time": "2022-05-19T12:17:38.508649",
     "status": "completed"
    },
    "tags": []
   },
   "source": [
    "## ABC Pre-generator - Stats \n"
   ]
  },
  {
   "cell_type": "code",
   "execution_count": 7,
   "id": "3a751ae4",
   "metadata": {
    "execution": {
     "iopub.execute_input": "2022-05-19T12:17:38.527764Z",
     "iopub.status.busy": "2022-05-19T12:17:38.527331Z",
     "iopub.status.idle": "2022-05-19T12:17:39.836954Z",
     "shell.execute_reply": "2022-05-19T12:17:39.837208Z"
    },
    "papermill": {
     "duration": 1.319182,
     "end_time": "2022-05-19T12:17:39.837327",
     "exception": false,
     "start_time": "2022-05-19T12:17:38.518145",
     "status": "completed"
    },
    "tags": []
   },
   "outputs": [],
   "source": [
    "book = sb.read_notebooks(\"./ABC_GAN_Stats\")\n",
    "paramVal = [1,0.1,0.01]\n",
    "abc_mae = [[] for i in range(3)]\n",
    "abc_mae_skip = [[] for i in range(3)]\n",
    "abc_mae_mean = [[] for i in range(3)]\n",
    "abc_mae_skip_mean = [[] for i in range(3)]\n",
    "abc_weights = [[] for i in range(3)]\n",
    "prior_model = [[] for i in range(3)]\n",
    "abc_pre_generator = [[] for i in range(3)]\n",
    "\n",
    "for nb in book.notebooks:\n",
    "    metrics1 = np.array(nb.scraps['ABC_GAN_1 Metrics'].data)\n",
    "    metrics3 = np.array(nb.scraps['ABC_GAN_3 Metrics'].data)\n",
    "    paramVar = float(nb.papermill_dataframe.iloc[0]['value'])\n",
    "    \n",
    "    #Divide data according to parameters \n",
    "    for i in range(3):\n",
    "        if paramVar == paramVal[i]:\n",
    "            for j in range(100):\n",
    "                abc_mae[i].append(metrics1[1,j])\n",
    "                abc_mae_skip[i].append(metrics3[1,j])\n",
    "            abc_weights[i].append(nb.scraps['Skip Connection Weight'].data)\n",
    "            prior_model[i].append(nb.scraps['Prior Model MAE'].data)\n",
    "            abc_pre_generator[i].append(nb.scraps['ABC Pre-generator MAE'].data)\n",
    "            abc_mae_skip_mean[i].append(mean(metrics3[1,:]))\n",
    "            abc_mae_mean[i].append(mean(metrics1[1,:]))"
   ]
  },
  {
   "cell_type": "code",
   "execution_count": 8,
   "id": "bd43c879",
   "metadata": {
    "execution": {
     "iopub.execute_input": "2022-05-19T12:17:39.853078Z",
     "iopub.status.busy": "2022-05-19T12:17:39.852679Z",
     "iopub.status.idle": "2022-05-19T12:17:39.854255Z",
     "shell.execute_reply": "2022-05-19T12:17:39.854500Z"
    },
    "papermill": {
     "duration": 0.012025,
     "end_time": "2022-05-19T12:17:39.854608",
     "exception": false,
     "start_time": "2022-05-19T12:17:39.842583",
     "status": "completed"
    },
    "tags": []
   },
   "outputs": [
    {
     "name": "stdout",
     "output_type": "stream",
     "text": [
      "[[0.2803421524470827, 1.0, 0.828875747312106, 0.08724931804221123, 0.06896554022626952, 0.9255139827728271], [0.2548423315714845, 0.1, 0.2790772676804481, 0.0892581378724426, 0.04919019117071294, 0.21587934345006943], [0.2916185794096122, 0.01, 0.2931337617804155, 0.08614225113354623, 0.07015415302729233, 0.16751329600811005]]\n"
     ]
    }
   ],
   "source": [
    "data = [[] for i in range(3)]\n",
    "data_median_stats = [[] for i in range(3)]\n",
    "for i in range(3):\n",
    "    for j in range(len(abc_weights[i])):\n",
    "        data[i].append([paramVal[i],prior_model[i][j],\n",
    "                     abc_pre_generator[i][j],abc_weights[i][j],abc_mae_mean[i][j],abc_mae_skip_mean[i][j]])\n",
    "    \n",
    "    df = pd.DataFrame(data[i], columns = ['Variance','Baseline','Prior Model','Weight','ABC_GAN','Skip_GAN'])\n",
    "    data_median_stats[i] = [df['Baseline'].median(),df['Variance'].median(), df['Prior Model'].median(), df['ABC_GAN'].median(), df['Skip_GAN'].median(),\n",
    "                        df['Weight'].median()]\n",
    "print(data_median_stats)"
   ]
  },
  {
   "cell_type": "code",
   "execution_count": 9,
   "id": "5aa4de83",
   "metadata": {
    "execution": {
     "iopub.execute_input": "2022-05-19T12:17:39.871753Z",
     "iopub.status.busy": "2022-05-19T12:17:39.868778Z",
     "iopub.status.idle": "2022-05-19T12:17:39.877028Z",
     "shell.execute_reply": "2022-05-19T12:17:39.877278Z"
    },
    "papermill": {
     "duration": 0.01769,
     "end_time": "2022-05-19T12:17:39.877386",
     "exception": false,
     "start_time": "2022-05-19T12:17:39.859696",
     "status": "completed"
    },
    "tags": []
   },
   "outputs": [
    {
     "data": {
      "text/html": [
       "<div>\n",
       "<style scoped>\n",
       "    .dataframe tbody tr th:only-of-type {\n",
       "        vertical-align: middle;\n",
       "    }\n",
       "\n",
       "    .dataframe tbody tr th {\n",
       "        vertical-align: top;\n",
       "    }\n",
       "\n",
       "    .dataframe thead th {\n",
       "        text-align: right;\n",
       "    }\n",
       "</style>\n",
       "<table border=\"1\" class=\"dataframe\">\n",
       "  <thead>\n",
       "    <tr style=\"text-align: right;\">\n",
       "      <th></th>\n",
       "      <th>Baseline</th>\n",
       "      <th>GAN</th>\n",
       "      <th>Baseline</th>\n",
       "      <th>Variance</th>\n",
       "      <th>Prior Model</th>\n",
       "      <th>ABC_GAN</th>\n",
       "      <th>Skip_GAN</th>\n",
       "      <th>Weight</th>\n",
       "    </tr>\n",
       "  </thead>\n",
       "  <tbody>\n",
       "    <tr>\n",
       "      <th>0</th>\n",
       "      <td>0.267705</td>\n",
       "      <td>0.060762</td>\n",
       "      <td>0.280342</td>\n",
       "      <td>1.00</td>\n",
       "      <td>0.828876</td>\n",
       "      <td>0.087249</td>\n",
       "      <td>0.068966</td>\n",
       "      <td>0.925514</td>\n",
       "    </tr>\n",
       "    <tr>\n",
       "      <th>1</th>\n",
       "      <td>0.267705</td>\n",
       "      <td>0.060762</td>\n",
       "      <td>0.254842</td>\n",
       "      <td>0.10</td>\n",
       "      <td>0.279077</td>\n",
       "      <td>0.089258</td>\n",
       "      <td>0.049190</td>\n",
       "      <td>0.215879</td>\n",
       "    </tr>\n",
       "    <tr>\n",
       "      <th>2</th>\n",
       "      <td>0.267705</td>\n",
       "      <td>0.060762</td>\n",
       "      <td>0.291619</td>\n",
       "      <td>0.01</td>\n",
       "      <td>0.293134</td>\n",
       "      <td>0.086142</td>\n",
       "      <td>0.070154</td>\n",
       "      <td>0.167513</td>\n",
       "    </tr>\n",
       "  </tbody>\n",
       "</table>\n",
       "</div>"
      ],
      "text/plain": [
       "   Baseline       GAN  Baseline  Variance  Prior Model   ABC_GAN  Skip_GAN  \\\n",
       "0  0.267705  0.060762  0.280342      1.00     0.828876  0.087249  0.068966   \n",
       "1  0.267705  0.060762  0.254842      0.10     0.279077  0.089258  0.049190   \n",
       "2  0.267705  0.060762  0.291619      0.01     0.293134  0.086142  0.070154   \n",
       "\n",
       "     Weight  \n",
       "0  0.925514  \n",
       "1  0.215879  \n",
       "2  0.167513  "
      ]
     },
     "metadata": {},
     "output_type": "display_data"
    },
    {
     "data": {
      "text/html": [
       "<div>\n",
       "<style scoped>\n",
       "    .dataframe tbody tr th:only-of-type {\n",
       "        vertical-align: middle;\n",
       "    }\n",
       "\n",
       "    .dataframe tbody tr th {\n",
       "        vertical-align: top;\n",
       "    }\n",
       "\n",
       "    .dataframe thead th {\n",
       "        text-align: right;\n",
       "    }\n",
       "</style>\n",
       "<table border=\"1\" class=\"dataframe\">\n",
       "  <thead>\n",
       "    <tr style=\"text-align: right;\">\n",
       "      <th></th>\n",
       "      <th>Baseline</th>\n",
       "      <th>GAN</th>\n",
       "      <th>Baseline</th>\n",
       "      <th>Variance</th>\n",
       "      <th>Prior Model</th>\n",
       "      <th>ABC_GAN</th>\n",
       "      <th>Skip_GAN</th>\n",
       "      <th>Weight</th>\n",
       "    </tr>\n",
       "  </thead>\n",
       "  <tbody>\n",
       "    <tr>\n",
       "      <th>0</th>\n",
       "      <td>0.123528</td>\n",
       "      <td>0.060762</td>\n",
       "      <td>0.130466</td>\n",
       "      <td>1.00</td>\n",
       "      <td>0.779553</td>\n",
       "      <td>0.074011</td>\n",
       "      <td>0.069839</td>\n",
       "      <td>0.127417</td>\n",
       "    </tr>\n",
       "    <tr>\n",
       "      <th>1</th>\n",
       "      <td>0.123528</td>\n",
       "      <td>0.060762</td>\n",
       "      <td>0.127476</td>\n",
       "      <td>0.10</td>\n",
       "      <td>0.161718</td>\n",
       "      <td>0.088481</td>\n",
       "      <td>0.071425</td>\n",
       "      <td>0.229838</td>\n",
       "    </tr>\n",
       "    <tr>\n",
       "      <th>2</th>\n",
       "      <td>0.123528</td>\n",
       "      <td>0.060762</td>\n",
       "      <td>0.131391</td>\n",
       "      <td>0.01</td>\n",
       "      <td>0.132248</td>\n",
       "      <td>0.093670</td>\n",
       "      <td>0.124023</td>\n",
       "      <td>0.000011</td>\n",
       "    </tr>\n",
       "  </tbody>\n",
       "</table>\n",
       "</div>"
      ],
      "text/plain": [
       "   Baseline       GAN  Baseline  Variance  Prior Model   ABC_GAN  Skip_GAN  \\\n",
       "0  0.123528  0.060762  0.130466      1.00     0.779553  0.074011  0.069839   \n",
       "1  0.123528  0.060762  0.127476      0.10     0.161718  0.088481  0.071425   \n",
       "2  0.123528  0.060762  0.131391      0.01     0.132248  0.093670  0.124023   \n",
       "\n",
       "     Weight  \n",
       "0  0.127417  \n",
       "1  0.229838  \n",
       "2  0.000011  "
      ]
     },
     "metadata": {},
     "output_type": "display_data"
    }
   ],
   "source": [
    "#Output Table \n",
    "output_data_stats = [[stats, gan_median] for i in range(3)]\n",
    "for i in range(3):\n",
    "    for j in range(6):\n",
    "        output_data_stats[i].append(data_median_stats[i][j])\n",
    "\n",
    "df_stats = pd.DataFrame(output_data_stats, columns=['Baseline','GAN','Baseline','Variance','Prior Model','ABC_GAN','Skip_GAN','Weight'])\n",
    "\n",
    "output_data_catboost = [[catboost, gan_median] for i in range(3)]\n",
    "for i in range(3):\n",
    "    for j in range(6):\n",
    "        output_data_catboost[i].append(data_median_catboost[i][j])\n",
    "df_catboost = pd.DataFrame(output_data_catboost,columns=['Baseline','GAN','Baseline','Variance','Prior Model','ABC_GAN','Skip_GAN','Weight'])\n",
    "\n",
    "display(df_stats)\n",
    "display(df_catboost)"
   ]
  }
 ],
 "metadata": {
  "interpreter": {
   "hash": "10498c76ddd8160350534c6544a2b2fb65f2138dbc70420f7c81a3268f830f23"
  },
  "kernelspec": {
   "display_name": "papermill-tutorial",
   "language": "python",
   "name": "python3"
  },
  "language_info": {
   "codemirror_mode": {
    "name": "ipython",
    "version": 3
   },
   "file_extension": ".py",
   "mimetype": "text/x-python",
   "name": "python",
   "nbconvert_exporter": "python",
   "pygments_lexer": "ipython3",
   "version": "3.8.11"
  },
  "papermill": {
   "default_parameters": {},
   "duration": 4.909759,
   "end_time": "2022-05-19T12:17:40.089935",
   "environment_variables": {},
   "exception": null,
   "input_path": "Analysis.ipynb",
   "output_path": "Friedman2.ipynb",
   "parameters": {},
   "start_time": "2022-05-19T12:17:35.180176",
   "version": "2.3.3"
  }
 },
 "nbformat": 4,
 "nbformat_minor": 5
}