{
 "cells": [
  {
   "cell_type": "code",
   "execution_count": null,
   "id": "423b7ca4",
   "metadata": {},
   "outputs": [],
   "source": [
    "import warnings\n",
    "warnings.filterwarnings('ignore')"
   ]
  },
  {
   "cell_type": "code",
   "execution_count": null,
   "id": "618121c9",
   "metadata": {},
   "outputs": [],
   "source": [
    "import scrapbook as sb \n",
    "import pandas as pd\n",
    "import numpy as np \n",
    "import seaborn as sns \n",
    "import numpy as np\n",
    "from statistics import mean, median\n",
    "import matplotlib.pyplot as plt"
   ]
  },
  {
   "cell_type": "markdown",
   "id": "8842137f",
   "metadata": {},
   "source": [
    "# Baseline "
   ]
  },
  {
   "cell_type": "code",
   "execution_count": null,
   "id": "a9dce367",
   "metadata": {},
   "outputs": [],
   "source": [
    "books = sb.read_notebooks(\"./BaseLine_Model_Output\")\n",
    "baseLine_data = []\n",
    "for nb in books.notebooks: \n",
    "    nbList=[nb.scraps['Stats Model MAE'].data,nb.scraps['Catboost MAE'].data]\n",
    "    baseLine_data.append(nbList)\n",
    "df = pd.DataFrame(baseLine_data, columns = [\"Stats Model\",\"Catboost\"])\n",
    "baseline_data = np.array(baseLine_data)\n",
    "stats = median(baseline_data[:,0])\n",
    "catboost = median(baseline_data[:,1])\n",
    "display(df)\n",
    "print(df.median(axis=0))"
   ]
  },
  {
   "cell_type": "markdown",
   "id": "2ef4d014",
   "metadata": {},
   "source": [
    "# GAN Model"
   ]
  },
  {
   "cell_type": "code",
   "execution_count": null,
   "id": "ce2d028d",
   "metadata": {},
   "outputs": [],
   "source": [
    "book = sb.read_notebooks(\"./GAN_Output\")\n",
    "gan_data = []\n",
    "gan_mse = []\n",
    "for nb in book.notebooks:\n",
    "    metrics = nb.scraps['GAN_1 Metrics'].data\n",
    "    for i in range(1000):\n",
    "        gan_mse.append(metrics[0][i])\n",
    "    nbList = [nb.scraps['GAN Model MSE'].data,\n",
    "              nb.scraps['GAN Model MAE'].data,\n",
    "              nb.scraps['GAN Model Euclidean distance'].data,\n",
    "              nb.scraps['GAN Model Manhattan Distance'].data]        \n",
    "    gan_data.append(nbList)\n",
    "    \n",
    "df = pd.DataFrame(gan_data, columns = ['MSE','MAE','Euclidean Distance','Manhattan Distance'])\n",
    "display(df.style)\n",
    "print(\"MEDIAN:\")\n",
    "print(df.median(axis = 0))\n",
    "gan_data = np.array(gan_data)\n",
    "gan_median = median(gan_data[:,1])"
   ]
  },
  {
   "cell_type": "markdown",
   "id": "db69b3bd",
   "metadata": {},
   "source": [
    "# ABC_GAN Analysis"
   ]
  },
  {
   "cell_type": "markdown",
   "id": "930ab0e5",
   "metadata": {},
   "source": [
    "## ABC Pre-generator - Catboost \n"
   ]
  },
  {
   "cell_type": "code",
   "execution_count": null,
   "id": "ea491444",
   "metadata": {},
   "outputs": [],
   "source": [
    "book = sb.read_notebooks(\"./ABC_GAN_Catboost\")\n",
    "paramVal = [1,0.1,0.01]\n",
    "abc_mae = [[] for i in range(3)]\n",
    "abc_mae_skip = [[] for i in range(3)]\n",
    "abc_mae_mean = [[] for i in range(3)]\n",
    "abc_mae_skip_mean = [[] for i in range(3)]\n",
    "abc_weights = [[] for i in range(3)]\n",
    "prior_model = [[] for i in range(3)]\n",
    "abc_pre_generator = [[] for i in range(3)]\n",
    "\n",
    "for nb in book.notebooks:\n",
    "    metrics1 = np.array(nb.scraps['ABC_GAN_1 Metrics'].data)\n",
    "    metrics3 = np.array(nb.scraps['ABC_GAN_3 Metrics'].data)\n",
    "    paramVar = float(nb.papermill_dataframe.iloc[0]['value'])\n",
    "    \n",
    "    #Divide data according to parameters \n",
    "    for i in range(3):\n",
    "        if paramVar == paramVal[i]:\n",
    "            for j in range(100):\n",
    "                abc_mae[i].append(metrics1[1,j])\n",
    "                abc_mae_skip[i].append(metrics3[1,j])\n",
    "            abc_weights[i].append(nb.scraps['Skip Connection Weight'].data)\n",
    "            prior_model[i].append(nb.scraps['Prior Model MAE'].data)\n",
    "            abc_pre_generator[i].append(nb.scraps['ABC Pre-generator MAE'].data)\n",
    "            abc_mae_skip_mean[i].append(mean(metrics3[1,:]))\n",
    "            abc_mae_mean[i].append(mean(metrics1[1,:]))"
   ]
  },
  {
   "cell_type": "code",
   "execution_count": null,
   "id": "d0d13f91",
   "metadata": {},
   "outputs": [],
   "source": [
    "data = [[] for i in range(3)]\n",
    "data_median_catboost = [[] for i in range(3)]\n",
    "for i in range(3):\n",
    "    for j in range(len(abc_weights[i])):\n",
    "        data[i].append([prior_model[i][j],paramVal[i],\n",
    "                     abc_pre_generator[i][j],abc_weights[i][j],abc_mae_mean[i][j],abc_mae_skip_mean[i][j]])\n",
    "    \n",
    "    df = pd.DataFrame(data[i], columns = ['Baseline','Variance','Prior Model','Weight','ABC_GAN','Skip_GAN'])\n",
    "    data_median_catboost[i] = [ df['Baseline'].median(),df['Variance'].median(), df['Prior Model'].median(),\n",
    "                        df['ABC_GAN'].median(), df['Skip_GAN'].median(),df['Weight'].median()]\n",
    "print(data_median_catboost)\n"
   ]
  },
  {
   "cell_type": "markdown",
   "id": "930ab0e5",
   "metadata": {},
   "source": [
    "## ABC Pre-generator - Stats \n"
   ]
  },
  {
   "cell_type": "code",
   "execution_count": null,
   "id": "ea491444",
   "metadata": {},
   "outputs": [],
   "source": [
    "book = sb.read_notebooks(\"./ABC_GAN_Stats\")\n",
    "paramVal = [1,0.1,0.01]\n",
    "abc_mae = [[] for i in range(3)]\n",
    "abc_mae_skip = [[] for i in range(3)]\n",
    "abc_mae_mean = [[] for i in range(3)]\n",
    "abc_mae_skip_mean = [[] for i in range(3)]\n",
    "abc_weights = [[] for i in range(3)]\n",
    "prior_model = [[] for i in range(3)]\n",
    "abc_pre_generator = [[] for i in range(3)]\n",
    "\n",
    "for nb in book.notebooks:\n",
    "    metrics1 = np.array(nb.scraps['ABC_GAN_1 Metrics'].data)\n",
    "    metrics3 = np.array(nb.scraps['ABC_GAN_3 Metrics'].data)\n",
    "    paramVar = float(nb.papermill_dataframe.iloc[0]['value'])\n",
    "    \n",
    "    #Divide data according to parameters \n",
    "    for i in range(3):\n",
    "        if paramVar == paramVal[i]:\n",
    "            for j in range(100):\n",
    "                abc_mae[i].append(metrics1[1,j])\n",
    "                abc_mae_skip[i].append(metrics3[1,j])\n",
    "            abc_weights[i].append(nb.scraps['Skip Connection Weight'].data)\n",
    "            prior_model[i].append(nb.scraps['Prior Model MAE'].data)\n",
    "            abc_pre_generator[i].append(nb.scraps['ABC Pre-generator MAE'].data)\n",
    "            abc_mae_skip_mean[i].append(mean(metrics3[1,:]))\n",
    "            abc_mae_mean[i].append(mean(metrics1[1,:]))"
   ]
  },
  {
   "cell_type": "code",
   "execution_count": null,
   "id": "d0d13f91",
   "metadata": {},
   "outputs": [],
   "source": [
    "data = [[] for i in range(3)]\n",
    "data_median_stats = [[] for i in range(3)]\n",
    "for i in range(3):\n",
    "    for j in range(len(abc_weights[i])):\n",
    "        data[i].append([paramVal[i],prior_model[i][j],\n",
    "                     abc_pre_generator[i][j],abc_weights[i][j],abc_mae_mean[i][j],abc_mae_skip_mean[i][j]])\n",
    "    \n",
    "    df = pd.DataFrame(data[i], columns = ['Variance','Baseline','Prior Model','Weight','ABC_GAN','Skip_GAN'])\n",
    "    data_median_stats[i] = [df['Baseline'].median(),df['Variance'].median(), df['Prior Model'].median(), df['ABC_GAN'].median(), df['Skip_GAN'].median(),\n",
    "                        df['Weight'].median()]\n",
    "print(data_median_stats)"
   ]
  },
  {
   "cell_type": "code",
   "execution_count": null,
   "id": "5aa4de83",
   "metadata": {},
   "outputs": [],
   "source": [
    "#Output Table \n",
    "output_data_stats = [[stats, gan_median] for i in range(3)]\n",
    "for i in range(3):\n",
    "    for j in range(6):\n",
    "        output_data_stats[i].append(data_median_stats[i][j])\n",
    "\n",
    "df_stats = pd.DataFrame(output_data_stats, columns=['Baseline','GAN','Baseline','Variance','Prior Model','ABC_GAN','Skip_GAN','Weight'])\n",
    "\n",
    "output_data_catboost = [[catboost, gan_median] for i in range(3)]\n",
    "for i in range(3):\n",
    "    for j in range(6):\n",
    "        output_data_catboost[i].append(data_median_catboost[i][j])\n",
    "df_catboost = pd.DataFrame(output_data_catboost,columns=['Baseline','GAN','Baseline','Variance','Prior Model','ABC_GAN','Skip_GAN','Weight'])\n",
    "\n",
    "display(df_stats)\n",
    "display(df_catboost)"
   ]
  }
 ],
 "metadata": {
  "interpreter": {
   "hash": "10498c76ddd8160350534c6544a2b2fb65f2138dbc70420f7c81a3268f830f23"
  },
  "kernelspec": {
   "display_name": "papermill-tutorial",
   "language": "python",
   "name": "python3"
  },
  "language_info": {
   "codemirror_mode": {
    "name": "ipython",
    "version": 3
   },
   "file_extension": ".py",
   "mimetype": "text/x-python",
   "name": "python",
   "nbconvert_exporter": "python",
   "pygments_lexer": "ipython3",
   "version": "3.8.11"
  }
 },
 "nbformat": 4,
 "nbformat_minor": 5
}
