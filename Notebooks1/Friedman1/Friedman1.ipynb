{
 "cells": [
  {
   "cell_type": "code",
   "execution_count": 1,
   "id": "423b7ca4",
   "metadata": {
    "execution": {
     "iopub.execute_input": "2022-05-18T08:51:48.318983Z",
     "iopub.status.busy": "2022-05-18T08:51:48.315350Z",
     "iopub.status.idle": "2022-05-18T08:51:48.326876Z",
     "shell.execute_reply": "2022-05-18T08:51:48.327501Z"
    },
    "papermill": {
     "duration": 0.04358,
     "end_time": "2022-05-18T08:51:48.327883",
     "exception": false,
     "start_time": "2022-05-18T08:51:48.284303",
     "status": "completed"
    },
    "tags": []
   },
   "outputs": [],
   "source": [
    "import warnings\n",
    "warnings.filterwarnings('ignore')"
   ]
  },
  {
   "cell_type": "code",
   "execution_count": 2,
   "id": "618121c9",
   "metadata": {
    "execution": {
     "iopub.execute_input": "2022-05-18T08:51:48.349913Z",
     "iopub.status.busy": "2022-05-18T08:51:48.349344Z",
     "iopub.status.idle": "2022-05-18T08:51:49.658758Z",
     "shell.execute_reply": "2022-05-18T08:51:49.659016Z"
    },
    "papermill": {
     "duration": 1.320645,
     "end_time": "2022-05-18T08:51:49.659136",
     "exception": false,
     "start_time": "2022-05-18T08:51:48.338491",
     "status": "completed"
    },
    "tags": []
   },
   "outputs": [],
   "source": [
    "import scrapbook as sb \n",
    "import pandas as pd\n",
    "import numpy as np \n",
    "import seaborn as sns \n",
    "import numpy as np\n",
    "from statistics import mean, median\n",
    "import matplotlib.pyplot as plt"
   ]
  },
  {
   "cell_type": "markdown",
   "id": "8842137f",
   "metadata": {
    "papermill": {
     "duration": 0.003901,
     "end_time": "2022-05-18T08:51:49.667167",
     "exception": false,
     "start_time": "2022-05-18T08:51:49.663266",
     "status": "completed"
    },
    "tags": []
   },
   "source": [
    "# Baseline "
   ]
  },
  {
   "cell_type": "code",
   "execution_count": 3,
   "id": "a9dce367",
   "metadata": {
    "execution": {
     "iopub.execute_input": "2022-05-18T08:51:49.679053Z",
     "iopub.status.busy": "2022-05-18T08:51:49.678592Z",
     "iopub.status.idle": "2022-05-18T08:51:49.798257Z",
     "shell.execute_reply": "2022-05-18T08:51:49.798557Z"
    },
    "papermill": {
     "duration": 0.127684,
     "end_time": "2022-05-18T08:51:49.798675",
     "exception": false,
     "start_time": "2022-05-18T08:51:49.670991",
     "status": "completed"
    },
    "tags": []
   },
   "outputs": [
    {
     "data": {
      "text/html": [
       "<div>\n",
       "<style scoped>\n",
       "    .dataframe tbody tr th:only-of-type {\n",
       "        vertical-align: middle;\n",
       "    }\n",
       "\n",
       "    .dataframe tbody tr th {\n",
       "        vertical-align: top;\n",
       "    }\n",
       "\n",
       "    .dataframe thead th {\n",
       "        text-align: right;\n",
       "    }\n",
       "</style>\n",
       "<table border=\"1\" class=\"dataframe\">\n",
       "  <thead>\n",
       "    <tr style=\"text-align: right;\">\n",
       "      <th></th>\n",
       "      <th>Stats Model</th>\n",
       "      <th>Catboost</th>\n",
       "    </tr>\n",
       "  </thead>\n",
       "  <tbody>\n",
       "    <tr>\n",
       "      <th>0</th>\n",
       "      <td>0.446618</td>\n",
       "      <td>0.256896</td>\n",
       "    </tr>\n",
       "    <tr>\n",
       "      <th>1</th>\n",
       "      <td>0.355889</td>\n",
       "      <td>0.362786</td>\n",
       "    </tr>\n",
       "    <tr>\n",
       "      <th>2</th>\n",
       "      <td>0.539765</td>\n",
       "      <td>0.383997</td>\n",
       "    </tr>\n",
       "    <tr>\n",
       "      <th>3</th>\n",
       "      <td>0.516100</td>\n",
       "      <td>0.378521</td>\n",
       "    </tr>\n",
       "    <tr>\n",
       "      <th>4</th>\n",
       "      <td>0.465442</td>\n",
       "      <td>0.329466</td>\n",
       "    </tr>\n",
       "    <tr>\n",
       "      <th>5</th>\n",
       "      <td>0.472790</td>\n",
       "      <td>0.418192</td>\n",
       "    </tr>\n",
       "    <tr>\n",
       "      <th>6</th>\n",
       "      <td>0.372389</td>\n",
       "      <td>0.349403</td>\n",
       "    </tr>\n",
       "    <tr>\n",
       "      <th>7</th>\n",
       "      <td>0.407086</td>\n",
       "      <td>0.349494</td>\n",
       "    </tr>\n",
       "    <tr>\n",
       "      <th>8</th>\n",
       "      <td>0.410168</td>\n",
       "      <td>0.233684</td>\n",
       "    </tr>\n",
       "    <tr>\n",
       "      <th>9</th>\n",
       "      <td>0.272517</td>\n",
       "      <td>0.196731</td>\n",
       "    </tr>\n",
       "  </tbody>\n",
       "</table>\n",
       "</div>"
      ],
      "text/plain": [
       "   Stats Model  Catboost\n",
       "0     0.446618  0.256896\n",
       "1     0.355889  0.362786\n",
       "2     0.539765  0.383997\n",
       "3     0.516100  0.378521\n",
       "4     0.465442  0.329466\n",
       "5     0.472790  0.418192\n",
       "6     0.372389  0.349403\n",
       "7     0.407086  0.349494\n",
       "8     0.410168  0.233684\n",
       "9     0.272517  0.196731"
      ]
     },
     "metadata": {},
     "output_type": "display_data"
    },
    {
     "name": "stdout",
     "output_type": "stream",
     "text": [
      "Stats Model    0.428393\n",
      "Catboost       0.349449\n",
      "dtype: float64\n"
     ]
    }
   ],
   "source": [
    "books = sb.read_notebooks(\"./BaseLine_Model_Output\")\n",
    "baseLine_data = []\n",
    "for nb in books.notebooks: \n",
    "    nbList=[nb.scraps['Stats Model MAE'].data,nb.scraps['Catboost MAE'].data]\n",
    "    baseLine_data.append(nbList)\n",
    "df = pd.DataFrame(baseLine_data, columns = [\"Stats Model\",\"Catboost\"])\n",
    "baseline_data = np.array(baseLine_data)\n",
    "stats = median(baseline_data[:,0])\n",
    "catboost = median(baseline_data[:,1])\n",
    "display(df)\n",
    "print(df.median(axis=0))"
   ]
  },
  {
   "cell_type": "markdown",
   "id": "2ef4d014",
   "metadata": {
    "papermill": {
     "duration": 0.004192,
     "end_time": "2022-05-18T08:51:49.807358",
     "exception": false,
     "start_time": "2022-05-18T08:51:49.803166",
     "status": "completed"
    },
    "tags": []
   },
   "source": [
    "# GAN Model"
   ]
  },
  {
   "cell_type": "code",
   "execution_count": 4,
   "id": "ce2d028d",
   "metadata": {
    "execution": {
     "iopub.execute_input": "2022-05-18T08:51:49.819421Z",
     "iopub.status.busy": "2022-05-18T08:51:49.818974Z",
     "iopub.status.idle": "2022-05-18T08:51:49.993333Z",
     "shell.execute_reply": "2022-05-18T08:51:49.993635Z"
    },
    "papermill": {
     "duration": 0.182266,
     "end_time": "2022-05-18T08:51:49.993754",
     "exception": false,
     "start_time": "2022-05-18T08:51:49.811488",
     "status": "completed"
    },
    "tags": []
   },
   "outputs": [
    {
     "data": {
      "text/html": [
       "<style type=\"text/css\">\n",
       "</style>\n",
       "<table id=\"T_8a3f4_\">\n",
       "  <thead>\n",
       "    <tr>\n",
       "      <th class=\"blank level0\" >&nbsp;</th>\n",
       "      <th class=\"col_heading level0 col0\" >MSE</th>\n",
       "      <th class=\"col_heading level0 col1\" >MAE</th>\n",
       "      <th class=\"col_heading level0 col2\" >Euclidean Distance</th>\n",
       "      <th class=\"col_heading level0 col3\" >Manhattan Distance</th>\n",
       "    </tr>\n",
       "  </thead>\n",
       "  <tbody>\n",
       "    <tr>\n",
       "      <th id=\"T_8a3f4_level0_row0\" class=\"row_heading level0 row0\" >0</th>\n",
       "      <td id=\"T_8a3f4_row0_col0\" class=\"data row0 col0\" >0.052149</td>\n",
       "      <td id=\"T_8a3f4_row0_col1\" class=\"data row0 col1\" >0.152866</td>\n",
       "      <td id=\"T_8a3f4_row0_col2\" class=\"data row0 col2\" >1.020008</td>\n",
       "      <td id=\"T_8a3f4_row0_col3\" class=\"data row0 col3\" >3.057312</td>\n",
       "    </tr>\n",
       "    <tr>\n",
       "      <th id=\"T_8a3f4_level0_row1\" class=\"row_heading level0 row1\" >1</th>\n",
       "      <td id=\"T_8a3f4_row1_col0\" class=\"data row1 col0\" >0.123697</td>\n",
       "      <td id=\"T_8a3f4_row1_col1\" class=\"data row1 col1\" >0.229275</td>\n",
       "      <td id=\"T_8a3f4_row1_col2\" class=\"data row1 col2\" >1.572754</td>\n",
       "      <td id=\"T_8a3f4_row1_col3\" class=\"data row1 col3\" >4.585508</td>\n",
       "    </tr>\n",
       "    <tr>\n",
       "      <th id=\"T_8a3f4_level0_row2\" class=\"row_heading level0 row2\" >2</th>\n",
       "      <td id=\"T_8a3f4_row2_col0\" class=\"data row2 col0\" >0.121998</td>\n",
       "      <td id=\"T_8a3f4_row2_col1\" class=\"data row2 col1\" >0.224301</td>\n",
       "      <td id=\"T_8a3f4_row2_col2\" class=\"data row2 col2\" >1.561952</td>\n",
       "      <td id=\"T_8a3f4_row2_col3\" class=\"data row2 col3\" >4.486017</td>\n",
       "    </tr>\n",
       "    <tr>\n",
       "      <th id=\"T_8a3f4_level0_row3\" class=\"row_heading level0 row3\" >3</th>\n",
       "      <td id=\"T_8a3f4_row3_col0\" class=\"data row3 col0\" >0.062488</td>\n",
       "      <td id=\"T_8a3f4_row3_col1\" class=\"data row3 col1\" >0.192243</td>\n",
       "      <td id=\"T_8a3f4_row3_col2\" class=\"data row3 col2\" >1.117595</td>\n",
       "      <td id=\"T_8a3f4_row3_col3\" class=\"data row3 col3\" >3.844851</td>\n",
       "    </tr>\n",
       "    <tr>\n",
       "      <th id=\"T_8a3f4_level0_row4\" class=\"row_heading level0 row4\" >4</th>\n",
       "      <td id=\"T_8a3f4_row4_col0\" class=\"data row4 col0\" >0.124140</td>\n",
       "      <td id=\"T_8a3f4_row4_col1\" class=\"data row4 col1\" >0.252486</td>\n",
       "      <td id=\"T_8a3f4_row4_col2\" class=\"data row4 col2\" >1.575309</td>\n",
       "      <td id=\"T_8a3f4_row4_col3\" class=\"data row4 col3\" >5.049725</td>\n",
       "    </tr>\n",
       "    <tr>\n",
       "      <th id=\"T_8a3f4_level0_row5\" class=\"row_heading level0 row5\" >5</th>\n",
       "      <td id=\"T_8a3f4_row5_col0\" class=\"data row5 col0\" >0.034784</td>\n",
       "      <td id=\"T_8a3f4_row5_col1\" class=\"data row5 col1\" >0.124183</td>\n",
       "      <td id=\"T_8a3f4_row5_col2\" class=\"data row5 col2\" >0.833122</td>\n",
       "      <td id=\"T_8a3f4_row5_col3\" class=\"data row5 col3\" >2.483661</td>\n",
       "    </tr>\n",
       "    <tr>\n",
       "      <th id=\"T_8a3f4_level0_row6\" class=\"row_heading level0 row6\" >6</th>\n",
       "      <td id=\"T_8a3f4_row6_col0\" class=\"data row6 col0\" >0.107623</td>\n",
       "      <td id=\"T_8a3f4_row6_col1\" class=\"data row6 col1\" >0.224102</td>\n",
       "      <td id=\"T_8a3f4_row6_col2\" class=\"data row6 col2\" >1.466874</td>\n",
       "      <td id=\"T_8a3f4_row6_col3\" class=\"data row6 col3\" >4.482047</td>\n",
       "    </tr>\n",
       "    <tr>\n",
       "      <th id=\"T_8a3f4_level0_row7\" class=\"row_heading level0 row7\" >7</th>\n",
       "      <td id=\"T_8a3f4_row7_col0\" class=\"data row7 col0\" >0.047333</td>\n",
       "      <td id=\"T_8a3f4_row7_col1\" class=\"data row7 col1\" >0.157143</td>\n",
       "      <td id=\"T_8a3f4_row7_col2\" class=\"data row7 col2\" >0.972630</td>\n",
       "      <td id=\"T_8a3f4_row7_col3\" class=\"data row7 col3\" >3.142854</td>\n",
       "    </tr>\n",
       "    <tr>\n",
       "      <th id=\"T_8a3f4_level0_row8\" class=\"row_heading level0 row8\" >8</th>\n",
       "      <td id=\"T_8a3f4_row8_col0\" class=\"data row8 col0\" >0.187382</td>\n",
       "      <td id=\"T_8a3f4_row8_col1\" class=\"data row8 col1\" >0.269006</td>\n",
       "      <td id=\"T_8a3f4_row8_col2\" class=\"data row8 col2\" >1.935102</td>\n",
       "      <td id=\"T_8a3f4_row8_col3\" class=\"data row8 col3\" >5.380119</td>\n",
       "    </tr>\n",
       "    <tr>\n",
       "      <th id=\"T_8a3f4_level0_row9\" class=\"row_heading level0 row9\" >9</th>\n",
       "      <td id=\"T_8a3f4_row9_col0\" class=\"data row9 col0\" >0.042565</td>\n",
       "      <td id=\"T_8a3f4_row9_col1\" class=\"data row9 col1\" >0.149225</td>\n",
       "      <td id=\"T_8a3f4_row9_col2\" class=\"data row9 col2\" >0.922446</td>\n",
       "      <td id=\"T_8a3f4_row9_col3\" class=\"data row9 col3\" >2.984504</td>\n",
       "    </tr>\n",
       "  </tbody>\n",
       "</table>\n"
      ],
      "text/plain": [
       "<pandas.io.formats.style.Styler at 0x7fae921459d0>"
      ]
     },
     "metadata": {},
     "output_type": "display_data"
    },
    {
     "name": "stdout",
     "output_type": "stream",
     "text": [
      "MEDIAN:\n",
      "MSE                   0.085055\n",
      "MAE                   0.208172\n",
      "Euclidean Distance    1.292234\n",
      "Manhattan Distance    4.163449\n",
      "dtype: float64\n"
     ]
    }
   ],
   "source": [
    "book = sb.read_notebooks(\"./GAN_Output\")\n",
    "gan_data = []\n",
    "gan_mse = []\n",
    "for nb in book.notebooks:\n",
    "    metrics = nb.scraps['GAN_1 Metrics'].data\n",
    "    for i in range(1000):\n",
    "        gan_mse.append(metrics[0][i])\n",
    "    nbList = [nb.scraps['GAN Model MSE'].data,\n",
    "              nb.scraps['GAN Model MAE'].data,\n",
    "              nb.scraps['GAN Model Euclidean distance'].data,\n",
    "              nb.scraps['GAN Model Manhattan Distance'].data]        \n",
    "    gan_data.append(nbList)\n",
    "    \n",
    "df = pd.DataFrame(gan_data, columns = ['MSE','MAE','Euclidean Distance','Manhattan Distance'])\n",
    "display(df.style)\n",
    "print(\"MEDIAN:\")\n",
    "print(df.median(axis = 0))\n",
    "gan_data = np.array(gan_data)\n",
    "gan_median = median(gan_data[:,1])"
   ]
  },
  {
   "cell_type": "markdown",
   "id": "db69b3bd",
   "metadata": {
    "papermill": {
     "duration": 0.004802,
     "end_time": "2022-05-18T08:51:50.003670",
     "exception": false,
     "start_time": "2022-05-18T08:51:49.998868",
     "status": "completed"
    },
    "tags": []
   },
   "source": [
    "# ABC_GAN Analysis"
   ]
  },
  {
   "cell_type": "markdown",
   "id": "930ab0e5",
   "metadata": {
    "papermill": {
     "duration": 0.00457,
     "end_time": "2022-05-18T08:51:50.012888",
     "exception": false,
     "start_time": "2022-05-18T08:51:50.008318",
     "status": "completed"
    },
    "tags": []
   },
   "source": [
    "## ABC Pre-generator - Catboost \n"
   ]
  },
  {
   "cell_type": "code",
   "execution_count": 5,
   "id": "ea491444",
   "metadata": {
    "execution": {
     "iopub.execute_input": "2022-05-18T08:51:50.027244Z",
     "iopub.status.busy": "2022-05-18T08:51:50.026835Z",
     "iopub.status.idle": "2022-05-18T08:51:50.906556Z",
     "shell.execute_reply": "2022-05-18T08:51:50.906813Z"
    },
    "papermill": {
     "duration": 0.889404,
     "end_time": "2022-05-18T08:51:50.906936",
     "exception": false,
     "start_time": "2022-05-18T08:51:50.017532",
     "status": "completed"
    },
    "tags": []
   },
   "outputs": [],
   "source": [
    "book = sb.read_notebooks(\"./ABC_GAN_Catboost\")\n",
    "paramVal = [1,0.1,0.01]\n",
    "abc_mae = [[] for i in range(3)]\n",
    "abc_mae_skip = [[] for i in range(3)]\n",
    "abc_mae_mean = [[] for i in range(3)]\n",
    "abc_mae_skip_mean = [[] for i in range(3)]\n",
    "abc_weights = [[] for i in range(3)]\n",
    "prior_model = [[] for i in range(3)]\n",
    "abc_pre_generator = [[] for i in range(3)]\n",
    "\n",
    "for nb in book.notebooks:\n",
    "    metrics1 = np.array(nb.scraps['ABC_GAN_1 Metrics'].data)\n",
    "    metrics3 = np.array(nb.scraps['ABC_GAN_3 Metrics'].data)\n",
    "    paramVar = float(nb.papermill_dataframe.iloc[0]['value'])\n",
    "    \n",
    "    #Divide data according to parameters \n",
    "    for i in range(3):\n",
    "        if paramVar == paramVal[i]:\n",
    "            for j in range(100):\n",
    "                abc_mae[i].append(metrics1[1,j])\n",
    "                abc_mae_skip[i].append(metrics3[1,j])\n",
    "            abc_weights[i].append(nb.scraps['Skip Connection Weight'].data)\n",
    "            prior_model[i].append(nb.scraps['Prior Model MAE'].data)\n",
    "            abc_pre_generator[i].append(nb.scraps['ABC Pre-generator MAE'].data)\n",
    "            abc_mae_skip_mean[i].append(mean(metrics3[1,:]))\n",
    "            abc_mae_mean[i].append(mean(metrics1[1,:]))"
   ]
  },
  {
   "cell_type": "code",
   "execution_count": 6,
   "id": "d0d13f91",
   "metadata": {
    "execution": {
     "iopub.execute_input": "2022-05-18T08:51:50.922695Z",
     "iopub.status.busy": "2022-05-18T08:51:50.922198Z",
     "iopub.status.idle": "2022-05-18T08:51:50.924101Z",
     "shell.execute_reply": "2022-05-18T08:51:50.924333Z"
    },
    "papermill": {
     "duration": 0.012446,
     "end_time": "2022-05-18T08:51:50.924448",
     "exception": false,
     "start_time": "2022-05-18T08:51:50.912002",
     "status": "completed"
    },
    "tags": []
   },
   "outputs": [
    {
     "name": "stdout",
     "output_type": "stream",
     "text": [
      "[[0.3284895998228049, 1.0, 0.9342310346052503, 0.20056221077172087, 0.16983164138183932, 0.36616359651088715], [0.3422213657088792, 0.1, 0.3556469392849807, 0.3052056774329394, 0.24653722626157104, 0.22563840448856354], [0.28883367551810446, 0.01, 0.28719960297101377, 0.27654515282996, 0.2850077768463807, 0.008500191383063793]]\n"
     ]
    }
   ],
   "source": [
    "data = [[] for i in range(3)]\n",
    "data_median_catboost = [[] for i in range(3)]\n",
    "for i in range(3):\n",
    "    for j in range(len(abc_weights[i])):\n",
    "        data[i].append([prior_model[i][j],paramVal[i],\n",
    "                     abc_pre_generator[i][j],abc_weights[i][j],abc_mae_mean[i][j],abc_mae_skip_mean[i][j]])\n",
    "    \n",
    "    df = pd.DataFrame(data[i], columns = ['Baseline','Variance','Prior Model','Weight','ABC_GAN','Skip_GAN'])\n",
    "    data_median_catboost[i] = [ df['Baseline'].median(),df['Variance'].median(), df['Prior Model'].median(),\n",
    "                        df['ABC_GAN'].median(), df['Skip_GAN'].median(),df['Weight'].median()]\n",
    "print(data_median_catboost)\n"
   ]
  },
  {
   "cell_type": "markdown",
   "id": "45ec8665",
   "metadata": {
    "papermill": {
     "duration": 0.004803,
     "end_time": "2022-05-18T08:51:50.934250",
     "exception": false,
     "start_time": "2022-05-18T08:51:50.929447",
     "status": "completed"
    },
    "tags": []
   },
   "source": [
    "## ABC Pre-generator - Stats \n"
   ]
  },
  {
   "cell_type": "code",
   "execution_count": 7,
   "id": "2b6808bf",
   "metadata": {
    "execution": {
     "iopub.execute_input": "2022-05-18T08:51:50.948790Z",
     "iopub.status.busy": "2022-05-18T08:51:50.948404Z",
     "iopub.status.idle": "2022-05-18T08:51:52.301982Z",
     "shell.execute_reply": "2022-05-18T08:51:52.302214Z"
    },
    "papermill": {
     "duration": 1.363275,
     "end_time": "2022-05-18T08:51:52.302339",
     "exception": false,
     "start_time": "2022-05-18T08:51:50.939064",
     "status": "completed"
    },
    "tags": []
   },
   "outputs": [],
   "source": [
    "book = sb.read_notebooks(\"./ABC_GAN_Stats\")\n",
    "paramVal = [1,0.1,0.01]\n",
    "abc_mae = [[] for i in range(3)]\n",
    "abc_mae_skip = [[] for i in range(3)]\n",
    "abc_mae_mean = [[] for i in range(3)]\n",
    "abc_mae_skip_mean = [[] for i in range(3)]\n",
    "abc_weights = [[] for i in range(3)]\n",
    "prior_model = [[] for i in range(3)]\n",
    "abc_pre_generator = [[] for i in range(3)]\n",
    "\n",
    "for nb in book.notebooks:\n",
    "    metrics1 = np.array(nb.scraps['ABC_GAN_1 Metrics'].data)\n",
    "    metrics3 = np.array(nb.scraps['ABC_GAN_3 Metrics'].data)\n",
    "    paramVar = float(nb.papermill_dataframe.iloc[0]['value'])\n",
    "    \n",
    "    #Divide data according to parameters \n",
    "    for i in range(3):\n",
    "        if paramVar == paramVal[i]:\n",
    "            for j in range(100):\n",
    "                abc_mae[i].append(metrics1[1,j])\n",
    "                abc_mae_skip[i].append(metrics3[1,j])\n",
    "            abc_weights[i].append(nb.scraps['Skip Connection Weight'].data)\n",
    "            prior_model[i].append(nb.scraps['Prior Model MAE'].data)\n",
    "            abc_pre_generator[i].append(nb.scraps['ABC Pre-generator MAE'].data)\n",
    "            abc_mae_skip_mean[i].append(mean(metrics3[1,:]))\n",
    "            abc_mae_mean[i].append(mean(metrics1[1,:]))"
   ]
  },
  {
   "cell_type": "code",
   "execution_count": 8,
   "id": "0e6074b1",
   "metadata": {
    "execution": {
     "iopub.execute_input": "2022-05-18T08:51:52.316965Z",
     "iopub.status.busy": "2022-05-18T08:51:52.316568Z",
     "iopub.status.idle": "2022-05-18T08:51:52.319971Z",
     "shell.execute_reply": "2022-05-18T08:51:52.320213Z"
    },
    "papermill": {
     "duration": 0.012692,
     "end_time": "2022-05-18T08:51:52.320331",
     "exception": false,
     "start_time": "2022-05-18T08:51:52.307639",
     "status": "completed"
    },
    "tags": []
   },
   "outputs": [
    {
     "name": "stdout",
     "output_type": "stream",
     "text": [
      "[[0.3299035718500814, 1.0, 0.8106776979131838, 0.27565625952207484, 0.18991099416287616, 0.9643011093139648], [0.45901400777813817, 0.1, 0.4538427825330652, 0.31216624486965594, 0.15889515103814192, 0.17494748532772064], [0.39844206415763644, 0.01, 0.3990571479950601, 0.3003488202616572, 0.2715642233293504, 0.1280488520860672]]\n"
     ]
    }
   ],
   "source": [
    "data = [[] for i in range(3)]\n",
    "data_median_stats = [[] for i in range(3)]\n",
    "for i in range(3):\n",
    "    for j in range(len(abc_weights[i])):\n",
    "        data[i].append([paramVal[i],prior_model[i][j],\n",
    "                     abc_pre_generator[i][j],abc_weights[i][j],abc_mae_mean[i][j],abc_mae_skip_mean[i][j]])\n",
    "    \n",
    "    df = pd.DataFrame(data[i], columns = ['Variance','Baseline','Prior Model','Weight','ABC_GAN','Skip_GAN'])\n",
    "    data_median_stats[i] = [df['Baseline'].median(),df['Variance'].median(), df['Prior Model'].median(), df['ABC_GAN'].median(), df['Skip_GAN'].median(),\n",
    "                        df['Weight'].median()]\n",
    "print(data_median_stats)"
   ]
  },
  {
   "cell_type": "code",
   "execution_count": 9,
   "id": "5aa4de83",
   "metadata": {
    "execution": {
     "iopub.execute_input": "2022-05-18T08:51:52.338488Z",
     "iopub.status.busy": "2022-05-18T08:51:52.338035Z",
     "iopub.status.idle": "2022-05-18T08:51:52.343413Z",
     "shell.execute_reply": "2022-05-18T08:51:52.343711Z"
    },
    "papermill": {
     "duration": 0.018229,
     "end_time": "2022-05-18T08:51:52.343825",
     "exception": false,
     "start_time": "2022-05-18T08:51:52.325596",
     "status": "completed"
    },
    "tags": []
   },
   "outputs": [
    {
     "data": {
      "text/html": [
       "<div>\n",
       "<style scoped>\n",
       "    .dataframe tbody tr th:only-of-type {\n",
       "        vertical-align: middle;\n",
       "    }\n",
       "\n",
       "    .dataframe tbody tr th {\n",
       "        vertical-align: top;\n",
       "    }\n",
       "\n",
       "    .dataframe thead th {\n",
       "        text-align: right;\n",
       "    }\n",
       "</style>\n",
       "<table border=\"1\" class=\"dataframe\">\n",
       "  <thead>\n",
       "    <tr style=\"text-align: right;\">\n",
       "      <th></th>\n",
       "      <th>Baseline</th>\n",
       "      <th>GAN</th>\n",
       "      <th>Baseline</th>\n",
       "      <th>Variance</th>\n",
       "      <th>Prior Model</th>\n",
       "      <th>ABC_GAN</th>\n",
       "      <th>Skip_GAN</th>\n",
       "      <th>Weight</th>\n",
       "    </tr>\n",
       "  </thead>\n",
       "  <tbody>\n",
       "    <tr>\n",
       "      <th>0</th>\n",
       "      <td>0.428393</td>\n",
       "      <td>0.208172</td>\n",
       "      <td>0.329904</td>\n",
       "      <td>1.00</td>\n",
       "      <td>0.810678</td>\n",
       "      <td>0.275656</td>\n",
       "      <td>0.189911</td>\n",
       "      <td>0.964301</td>\n",
       "    </tr>\n",
       "    <tr>\n",
       "      <th>1</th>\n",
       "      <td>0.428393</td>\n",
       "      <td>0.208172</td>\n",
       "      <td>0.459014</td>\n",
       "      <td>0.10</td>\n",
       "      <td>0.453843</td>\n",
       "      <td>0.312166</td>\n",
       "      <td>0.158895</td>\n",
       "      <td>0.174947</td>\n",
       "    </tr>\n",
       "    <tr>\n",
       "      <th>2</th>\n",
       "      <td>0.428393</td>\n",
       "      <td>0.208172</td>\n",
       "      <td>0.398442</td>\n",
       "      <td>0.01</td>\n",
       "      <td>0.399057</td>\n",
       "      <td>0.300349</td>\n",
       "      <td>0.271564</td>\n",
       "      <td>0.128049</td>\n",
       "    </tr>\n",
       "  </tbody>\n",
       "</table>\n",
       "</div>"
      ],
      "text/plain": [
       "   Baseline       GAN  Baseline  Variance  Prior Model   ABC_GAN  Skip_GAN  \\\n",
       "0  0.428393  0.208172  0.329904      1.00     0.810678  0.275656  0.189911   \n",
       "1  0.428393  0.208172  0.459014      0.10     0.453843  0.312166  0.158895   \n",
       "2  0.428393  0.208172  0.398442      0.01     0.399057  0.300349  0.271564   \n",
       "\n",
       "     Weight  \n",
       "0  0.964301  \n",
       "1  0.174947  \n",
       "2  0.128049  "
      ]
     },
     "metadata": {},
     "output_type": "display_data"
    },
    {
     "data": {
      "text/html": [
       "<div>\n",
       "<style scoped>\n",
       "    .dataframe tbody tr th:only-of-type {\n",
       "        vertical-align: middle;\n",
       "    }\n",
       "\n",
       "    .dataframe tbody tr th {\n",
       "        vertical-align: top;\n",
       "    }\n",
       "\n",
       "    .dataframe thead th {\n",
       "        text-align: right;\n",
       "    }\n",
       "</style>\n",
       "<table border=\"1\" class=\"dataframe\">\n",
       "  <thead>\n",
       "    <tr style=\"text-align: right;\">\n",
       "      <th></th>\n",
       "      <th>Baseline</th>\n",
       "      <th>GAN</th>\n",
       "      <th>Baseline</th>\n",
       "      <th>Variance</th>\n",
       "      <th>Prior Model</th>\n",
       "      <th>ABC_GAN</th>\n",
       "      <th>Skip_GAN</th>\n",
       "      <th>Weight</th>\n",
       "    </tr>\n",
       "  </thead>\n",
       "  <tbody>\n",
       "    <tr>\n",
       "      <th>0</th>\n",
       "      <td>0.349449</td>\n",
       "      <td>0.208172</td>\n",
       "      <td>0.328490</td>\n",
       "      <td>1.00</td>\n",
       "      <td>0.934231</td>\n",
       "      <td>0.200562</td>\n",
       "      <td>0.169832</td>\n",
       "      <td>0.366164</td>\n",
       "    </tr>\n",
       "    <tr>\n",
       "      <th>1</th>\n",
       "      <td>0.349449</td>\n",
       "      <td>0.208172</td>\n",
       "      <td>0.342221</td>\n",
       "      <td>0.10</td>\n",
       "      <td>0.355647</td>\n",
       "      <td>0.305206</td>\n",
       "      <td>0.246537</td>\n",
       "      <td>0.225638</td>\n",
       "    </tr>\n",
       "    <tr>\n",
       "      <th>2</th>\n",
       "      <td>0.349449</td>\n",
       "      <td>0.208172</td>\n",
       "      <td>0.288834</td>\n",
       "      <td>0.01</td>\n",
       "      <td>0.287200</td>\n",
       "      <td>0.276545</td>\n",
       "      <td>0.285008</td>\n",
       "      <td>0.008500</td>\n",
       "    </tr>\n",
       "  </tbody>\n",
       "</table>\n",
       "</div>"
      ],
      "text/plain": [
       "   Baseline       GAN  Baseline  Variance  Prior Model   ABC_GAN  Skip_GAN  \\\n",
       "0  0.349449  0.208172  0.328490      1.00     0.934231  0.200562  0.169832   \n",
       "1  0.349449  0.208172  0.342221      0.10     0.355647  0.305206  0.246537   \n",
       "2  0.349449  0.208172  0.288834      0.01     0.287200  0.276545  0.285008   \n",
       "\n",
       "     Weight  \n",
       "0  0.366164  \n",
       "1  0.225638  \n",
       "2  0.008500  "
      ]
     },
     "metadata": {},
     "output_type": "display_data"
    }
   ],
   "source": [
    "#Output Table \n",
    "output_data_stats = [[stats, gan_median] for i in range(3)]\n",
    "for i in range(3):\n",
    "    for j in range(6):\n",
    "        output_data_stats[i].append(data_median_stats[i][j])\n",
    "\n",
    "df_stats = pd.DataFrame(output_data_stats, columns=['Baseline','GAN','Baseline','Variance','Prior Model','ABC_GAN','Skip_GAN','Weight'])\n",
    "\n",
    "output_data_catboost = [[catboost, gan_median] for i in range(3)]\n",
    "for i in range(3):\n",
    "    for j in range(6):\n",
    "        output_data_catboost[i].append(data_median_catboost[i][j])\n",
    "df_catboost = pd.DataFrame(output_data_catboost,columns=['Baseline','GAN','Baseline','Variance','Prior Model','ABC_GAN','Skip_GAN','Weight'])\n",
    "\n",
    "display(df_stats)\n",
    "display(df_catboost)"
   ]
  }
 ],
 "metadata": {
  "interpreter": {
   "hash": "10498c76ddd8160350534c6544a2b2fb65f2138dbc70420f7c81a3268f830f23"
  },
  "kernelspec": {
   "display_name": "papermill-tutorial",
   "language": "python",
   "name": "papermill-tutorial"
  },
  "language_info": {
   "codemirror_mode": {
    "name": "ipython",
    "version": 3
   },
   "file_extension": ".py",
   "mimetype": "text/x-python",
   "name": "python",
   "nbconvert_exporter": "python",
   "pygments_lexer": "ipython3",
   "version": "3.8.11"
  },
  "papermill": {
   "default_parameters": {},
   "duration": 5.135067,
   "end_time": "2022-05-18T08:51:52.557325",
   "environment_variables": {},
   "exception": null,
   "input_path": "Analysis.ipynb",
   "output_path": "Friedman1.ipynb",
   "parameters": {},
   "start_time": "2022-05-18T08:51:47.422258",
   "version": "2.3.3"
  }
 },
 "nbformat": 4,
 "nbformat_minor": 5
}