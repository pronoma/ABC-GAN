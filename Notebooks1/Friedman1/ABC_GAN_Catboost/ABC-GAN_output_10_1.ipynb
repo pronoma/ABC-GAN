{
 "cells": [
  {
   "cell_type": "markdown",
   "id": "622780e6",
   "metadata": {
    "id": "622780e6",
    "papermill": {
     "duration": 0.036137,
     "end_time": "2022-05-18T08:49:45.005382",
     "exception": false,
     "start_time": "2022-05-18T08:49:44.969245",
     "status": "completed"
    },
    "tags": []
   },
   "source": [
    "## Import Libraries "
   ]
  },
  {
   "cell_type": "code",
   "execution_count": 1,
   "id": "a62397e3",
   "metadata": {
    "execution": {
     "iopub.execute_input": "2022-05-18T08:49:45.043344Z",
     "iopub.status.busy": "2022-05-18T08:49:45.042728Z",
     "iopub.status.idle": "2022-05-18T08:49:45.044921Z",
     "shell.execute_reply": "2022-05-18T08:49:45.045260Z"
    },
    "id": "a62397e3",
    "papermill": {
     "duration": 0.022581,
     "end_time": "2022-05-18T08:49:45.045472",
     "exception": false,
     "start_time": "2022-05-18T08:49:45.022891",
     "status": "completed"
    },
    "tags": []
   },
   "outputs": [],
   "source": [
    "import warnings\n",
    "import sys\n",
    "sys.path.insert(0, '../../src')\n",
    "warnings.filterwarnings('ignore')"
   ]
  },
  {
   "cell_type": "code",
   "execution_count": 2,
   "id": "d6a4e155",
   "metadata": {
    "execution": {
     "iopub.execute_input": "2022-05-18T08:49:45.066314Z",
     "iopub.status.busy": "2022-05-18T08:49:45.065917Z",
     "iopub.status.idle": "2022-05-18T08:49:46.658373Z",
     "shell.execute_reply": "2022-05-18T08:49:46.658604Z"
    },
    "id": "d6a4e155",
    "papermill": {
     "duration": 1.603585,
     "end_time": "2022-05-18T08:49:46.658731",
     "exception": false,
     "start_time": "2022-05-18T08:49:45.055146",
     "status": "completed"
    },
    "tags": []
   },
   "outputs": [],
   "source": [
    "import ABC_train_test2\n",
    "import friedman1Dataset\n",
    "import network\n",
    "import dataset\n",
    "import sanityChecks\n",
    "import torch \n",
    "import scrapbook as sb\n",
    "from statistics import mean \n",
    "import catboost as ctb \n",
    "from sklearn.model_selection import train_test_split\n",
    "from sklearn.metrics import mean_squared_error,mean_absolute_error\n",
    "import numpy as np"
   ]
  },
  {
   "cell_type": "markdown",
   "id": "2fa5b0f7",
   "metadata": {
    "id": "2fa5b0f7",
    "papermill": {
     "duration": 0.006793,
     "end_time": "2022-05-18T08:49:46.672640",
     "exception": false,
     "start_time": "2022-05-18T08:49:46.665847",
     "status": "completed"
    },
    "tags": []
   },
   "source": [
    "## Parameters "
   ]
  },
  {
   "cell_type": "code",
   "execution_count": 3,
   "id": "783186fb",
   "metadata": {
    "execution": {
     "iopub.execute_input": "2022-05-18T08:49:46.688392Z",
     "iopub.status.busy": "2022-05-18T08:49:46.688019Z",
     "iopub.status.idle": "2022-05-18T08:49:46.689266Z",
     "shell.execute_reply": "2022-05-18T08:49:46.689501Z"
    },
    "id": "783186fb",
    "papermill": {
     "duration": 0.010269,
     "end_time": "2022-05-18T08:49:46.689610",
     "exception": false,
     "start_time": "2022-05-18T08:49:46.679341",
     "status": "completed"
    },
    "tags": [
     "parameters"
    ]
   },
   "outputs": [],
   "source": [
    "variance = 1"
   ]
  },
  {
   "cell_type": "code",
   "execution_count": 4,
   "id": "f9eaff94",
   "metadata": {
    "execution": {
     "iopub.execute_input": "2022-05-18T08:49:46.705007Z",
     "iopub.status.busy": "2022-05-18T08:49:46.704649Z",
     "iopub.status.idle": "2022-05-18T08:49:46.705885Z",
     "shell.execute_reply": "2022-05-18T08:49:46.706133Z"
    },
    "papermill": {
     "duration": 0.009811,
     "end_time": "2022-05-18T08:49:46.706244",
     "exception": false,
     "start_time": "2022-05-18T08:49:46.696433",
     "status": "completed"
    },
    "tags": [
     "injected-parameters"
    ]
   },
   "outputs": [],
   "source": [
    "# Parameters\n",
    "variance = 0.1\n"
   ]
  },
  {
   "cell_type": "markdown",
   "id": "391cdbfd",
   "metadata": {
    "id": "391cdbfd",
    "papermill": {
     "duration": 0.006749,
     "end_time": "2022-05-18T08:49:46.719931",
     "exception": false,
     "start_time": "2022-05-18T08:49:46.713182",
     "status": "completed"
    },
    "tags": []
   },
   "source": [
    "## Dataset \n"
   ]
  },
  {
   "cell_type": "code",
   "execution_count": 5,
   "id": "5b51f161",
   "metadata": {
    "execution": {
     "iopub.execute_input": "2022-05-18T08:49:46.735626Z",
     "iopub.status.busy": "2022-05-18T08:49:46.735250Z",
     "iopub.status.idle": "2022-05-18T08:49:46.736466Z",
     "shell.execute_reply": "2022-05-18T08:49:46.736707Z"
    },
    "id": "5b51f161",
    "papermill": {
     "duration": 0.01002,
     "end_time": "2022-05-18T08:49:46.736816",
     "exception": false,
     "start_time": "2022-05-18T08:49:46.726796",
     "status": "completed"
    },
    "tags": []
   },
   "outputs": [],
   "source": [
    "#Parameters \n",
    "n_features = 5\n",
    "n_samples= 100\n",
    "n_target = 1 "
   ]
  },
  {
   "cell_type": "code",
   "execution_count": 6,
   "id": "5d6eced4",
   "metadata": {
    "execution": {
     "iopub.execute_input": "2022-05-18T08:49:46.753520Z",
     "iopub.status.busy": "2022-05-18T08:49:46.752222Z",
     "iopub.status.idle": "2022-05-18T08:49:46.758217Z",
     "shell.execute_reply": "2022-05-18T08:49:46.758587Z"
    },
    "id": "5d6eced4",
    "papermill": {
     "duration": 0.014984,
     "end_time": "2022-05-18T08:49:46.758700",
     "exception": false,
     "start_time": "2022-05-18T08:49:46.743716",
     "status": "completed"
    },
    "tags": []
   },
   "outputs": [
    {
     "name": "stdout",
     "output_type": "stream",
     "text": [
      "         X0        X1        X2        X3        X4         Y\n",
      "0 -0.720425  1.558744  0.647667 -1.269360  0.483738 -0.274522\n",
      "1 -1.796707 -0.456653  0.915159 -0.420118  0.661729 -1.336577\n",
      "2 -1.669023 -0.162197  0.759985 -0.947040  1.611609 -1.311774\n",
      "3 -0.728724  1.282032 -0.775527  0.733729 -0.685036  0.612992\n",
      "4  0.742972  1.147821 -1.418835 -0.213157 -1.013121  0.942790\n"
     ]
    }
   ],
   "source": [
    "X,Y = friedman1Dataset.friedman1_data(n_samples,n_features)"
   ]
  },
  {
   "cell_type": "code",
   "execution_count": 7,
   "id": "fe007438",
   "metadata": {
    "execution": {
     "iopub.execute_input": "2022-05-18T08:49:46.775859Z",
     "iopub.status.busy": "2022-05-18T08:49:46.775494Z",
     "iopub.status.idle": "2022-05-18T08:49:46.776837Z",
     "shell.execute_reply": "2022-05-18T08:49:46.777067Z"
    },
    "id": "fe007438",
    "papermill": {
     "duration": 0.011173,
     "end_time": "2022-05-18T08:49:46.777179",
     "exception": false,
     "start_time": "2022-05-18T08:49:46.766006",
     "status": "completed"
    },
    "tags": []
   },
   "outputs": [],
   "source": [
    "#Train test split for dataset \n",
    "X_train,X_test,Y_train,Y_test = train_test_split(X,Y,test_size = 0.2)\n",
    "train_data = dataset.CustomDataset(X_train,Y_train)\n",
    "test_data = dataset.CustomDataset(X_test,Y_test)\n"
   ]
  },
  {
   "cell_type": "markdown",
   "id": "a9a1af34",
   "metadata": {
    "id": "a9a1af34",
    "papermill": {
     "duration": 0.007267,
     "end_time": "2022-05-18T08:49:46.791690",
     "exception": false,
     "start_time": "2022-05-18T08:49:46.784423",
     "status": "completed"
    },
    "tags": []
   },
   "source": [
    "## Training Parameters "
   ]
  },
  {
   "cell_type": "code",
   "execution_count": 8,
   "id": "952b7fc8",
   "metadata": {
    "execution": {
     "iopub.execute_input": "2022-05-18T08:49:46.808426Z",
     "iopub.status.busy": "2022-05-18T08:49:46.808066Z",
     "iopub.status.idle": "2022-05-18T08:49:46.809350Z",
     "shell.execute_reply": "2022-05-18T08:49:46.809603Z"
    },
    "id": "952b7fc8",
    "papermill": {
     "duration": 0.010953,
     "end_time": "2022-05-18T08:49:46.809720",
     "exception": false,
     "start_time": "2022-05-18T08:49:46.798767",
     "status": "completed"
    },
    "tags": []
   },
   "outputs": [],
   "source": [
    "batch_size = 32\n",
    "n_epochs = 1000\n",
    "#Select the device \n",
    "device = torch.device('cuda' if torch.cuda.is_available() else 'cpu')"
   ]
  },
  {
   "cell_type": "markdown",
   "id": "a95e1600",
   "metadata": {
    "id": "a95e1600",
    "papermill": {
     "duration": 0.00714,
     "end_time": "2022-05-18T08:49:46.824401",
     "exception": false,
     "start_time": "2022-05-18T08:49:46.817261",
     "status": "completed"
    },
    "tags": []
   },
   "source": [
    "# ABC Pre-generator Model \n",
    "\n",
    "1. The catboost model is used as a pre-generator model for the ABC-GAN. \n",
    "2. The model is first trained on the entire dataset \n",
    "3. It generats X,Y pairs and we add some Gaussian noise with mean 0 and variance 1 to it which is then feed as input to the generator.\n"
   ]
  },
  {
   "cell_type": "code",
   "execution_count": 9,
   "id": "ff8ce7bd",
   "metadata": {
    "execution": {
     "iopub.execute_input": "2022-05-18T08:49:46.842481Z",
     "iopub.status.busy": "2022-05-18T08:49:46.842090Z",
     "iopub.status.idle": "2022-05-18T08:49:47.468242Z",
     "shell.execute_reply": "2022-05-18T08:49:47.468551Z"
    },
    "id": "ff8ce7bd",
    "papermill": {
     "duration": 0.637153,
     "end_time": "2022-05-18T08:49:47.468674",
     "exception": false,
     "start_time": "2022-05-18T08:49:46.831521",
     "status": "completed"
    },
    "tags": []
   },
   "outputs": [
    {
     "name": "stdout",
     "output_type": "stream",
     "text": [
      "Learning rate set to 0.024897\n",
      "0:\tlearn: 1.0135865\ttotal: 57.8ms\tremaining: 57.7s\n",
      "1:\tlearn: 1.0048441\ttotal: 58.4ms\tremaining: 29.2s\n",
      "2:\tlearn: 0.9974237\ttotal: 59ms\tremaining: 19.6s\n",
      "3:\tlearn: 0.9873486\ttotal: 59.4ms\tremaining: 14.8s\n",
      "4:\tlearn: 0.9781966\ttotal: 59.8ms\tremaining: 11.9s\n",
      "5:\tlearn: 0.9704118\ttotal: 60.2ms\tremaining: 9.97s\n",
      "6:\tlearn: 0.9605484\ttotal: 60.6ms\tremaining: 8.6s\n",
      "7:\tlearn: 0.9527157\ttotal: 61ms\tremaining: 7.57s\n",
      "8:\tlearn: 0.9443769\ttotal: 61.5ms\tremaining: 6.77s\n",
      "9:\tlearn: 0.9359076\ttotal: 61.9ms\tremaining: 6.13s\n",
      "10:\tlearn: 0.9291076\ttotal: 62.3ms\tremaining: 5.6s\n",
      "11:\tlearn: 0.9183679\ttotal: 62.8ms\tremaining: 5.17s\n",
      "12:\tlearn: 0.9076332\ttotal: 63.4ms\tremaining: 4.81s\n",
      "13:\tlearn: 0.9010205\ttotal: 63.9ms\tremaining: 4.5s\n",
      "14:\tlearn: 0.8944494\ttotal: 64.4ms\tremaining: 4.23s\n",
      "15:\tlearn: 0.8875393\ttotal: 64.9ms\tremaining: 3.99s\n",
      "16:\tlearn: 0.8774109\ttotal: 65.5ms\tremaining: 3.79s\n",
      "17:\tlearn: 0.8692934\ttotal: 66.1ms\tremaining: 3.61s\n",
      "18:\tlearn: 0.8613192\ttotal: 66.6ms\tremaining: 3.44s\n",
      "19:\tlearn: 0.8551973\ttotal: 67.1ms\tremaining: 3.29s\n",
      "20:\tlearn: 0.8475314\ttotal: 67.5ms\tremaining: 3.15s\n",
      "21:\tlearn: 0.8382401\ttotal: 67.9ms\tremaining: 3.02s\n",
      "22:\tlearn: 0.8302627\ttotal: 68.3ms\tremaining: 2.9s\n",
      "23:\tlearn: 0.8237638\ttotal: 68.8ms\tremaining: 2.8s\n",
      "24:\tlearn: 0.8165788\ttotal: 69.2ms\tremaining: 2.7s\n",
      "25:\tlearn: 0.8086313\ttotal: 69.6ms\tremaining: 2.61s\n",
      "26:\tlearn: 0.8023052\ttotal: 70.1ms\tremaining: 2.52s\n",
      "27:\tlearn: 0.7944062\ttotal: 70.5ms\tremaining: 2.45s\n",
      "28:\tlearn: 0.7881234\ttotal: 71.1ms\tremaining: 2.38s\n",
      "29:\tlearn: 0.7822314\ttotal: 71.5ms\tremaining: 2.31s\n",
      "30:\tlearn: 0.7756521\ttotal: 71.9ms\tremaining: 2.25s\n",
      "31:\tlearn: 0.7695438\ttotal: 72.4ms\tremaining: 2.19s\n",
      "32:\tlearn: 0.7618247\ttotal: 72.6ms\tremaining: 2.13s\n",
      "33:\tlearn: 0.7544824\ttotal: 73ms\tremaining: 2.08s\n",
      "34:\tlearn: 0.7476703\ttotal: 73.6ms\tremaining: 2.03s\n",
      "35:\tlearn: 0.7417079\ttotal: 74.2ms\tremaining: 1.99s\n",
      "36:\tlearn: 0.7357384\ttotal: 74.7ms\tremaining: 1.94s\n",
      "37:\tlearn: 0.7297931\ttotal: 75.2ms\tremaining: 1.9s\n",
      "38:\tlearn: 0.7240679\ttotal: 75.7ms\tremaining: 1.86s\n",
      "39:\tlearn: 0.7168434\ttotal: 76.1ms\tremaining: 1.83s\n",
      "40:\tlearn: 0.7109562\ttotal: 76.7ms\tremaining: 1.79s\n",
      "41:\tlearn: 0.7055305\ttotal: 77.1ms\tremaining: 1.76s\n",
      "42:\tlearn: 0.6991419\ttotal: 77.6ms\tremaining: 1.73s\n",
      "43:\tlearn: 0.6933796\ttotal: 78ms\tremaining: 1.69s\n",
      "44:\tlearn: 0.6872123\ttotal: 78.4ms\tremaining: 1.66s\n",
      "45:\tlearn: 0.6818747\ttotal: 78.8ms\tremaining: 1.63s\n",
      "46:\tlearn: 0.6769896\ttotal: 79.4ms\tremaining: 1.61s\n",
      "47:\tlearn: 0.6712558\ttotal: 79.8ms\tremaining: 1.58s\n",
      "48:\tlearn: 0.6660371\ttotal: 80.3ms\tremaining: 1.56s\n",
      "49:\tlearn: 0.6609041\ttotal: 80.7ms\tremaining: 1.53s\n",
      "50:\tlearn: 0.6554467\ttotal: 81.3ms\tremaining: 1.51s\n",
      "51:\tlearn: 0.6505813\ttotal: 81.7ms\tremaining: 1.49s\n",
      "52:\tlearn: 0.6460547\ttotal: 82.3ms\tremaining: 1.47s\n",
      "53:\tlearn: 0.6399373\ttotal: 82.6ms\tremaining: 1.45s\n",
      "54:\tlearn: 0.6347162\ttotal: 83.1ms\tremaining: 1.43s\n",
      "55:\tlearn: 0.6302966\ttotal: 83.6ms\tremaining: 1.41s\n",
      "56:\tlearn: 0.6262323\ttotal: 84.2ms\tremaining: 1.39s\n",
      "57:\tlearn: 0.6209573\ttotal: 84.6ms\tremaining: 1.37s\n",
      "58:\tlearn: 0.6160573\ttotal: 85.2ms\tremaining: 1.36s\n",
      "59:\tlearn: 0.6113510\ttotal: 85.8ms\tremaining: 1.34s\n",
      "60:\tlearn: 0.6059132\ttotal: 86.3ms\tremaining: 1.33s\n",
      "61:\tlearn: 0.6020872\ttotal: 87ms\tremaining: 1.31s\n",
      "62:\tlearn: 0.5971848\ttotal: 87.5ms\tremaining: 1.3s\n",
      "63:\tlearn: 0.5924284\ttotal: 88.1ms\tremaining: 1.29s\n",
      "64:\tlearn: 0.5875238\ttotal: 88.4ms\tremaining: 1.27s\n",
      "65:\tlearn: 0.5816431\ttotal: 89ms\tremaining: 1.26s\n",
      "66:\tlearn: 0.5770509\ttotal: 89.3ms\tremaining: 1.24s\n",
      "67:\tlearn: 0.5738819\ttotal: 89.7ms\tremaining: 1.23s\n",
      "68:\tlearn: 0.5694273\ttotal: 90.1ms\tremaining: 1.22s\n",
      "69:\tlearn: 0.5650083\ttotal: 90.4ms\tremaining: 1.2s\n",
      "70:\tlearn: 0.5594886\ttotal: 90.8ms\tremaining: 1.19s\n",
      "71:\tlearn: 0.5554511\ttotal: 91.1ms\tremaining: 1.17s\n",
      "72:\tlearn: 0.5505871\ttotal: 91.5ms\tremaining: 1.16s\n",
      "73:\tlearn: 0.5459749\ttotal: 91.9ms\tremaining: 1.15s\n",
      "74:\tlearn: 0.5413537\ttotal: 92.3ms\tremaining: 1.14s\n",
      "75:\tlearn: 0.5379792\ttotal: 92.6ms\tremaining: 1.13s\n",
      "76:\tlearn: 0.5338456\ttotal: 93ms\tremaining: 1.11s\n",
      "77:\tlearn: 0.5295219\ttotal: 93.5ms\tremaining: 1.1s\n",
      "78:\tlearn: 0.5256687\ttotal: 93.9ms\tremaining: 1.09s\n",
      "79:\tlearn: 0.5222885\ttotal: 94.6ms\tremaining: 1.09s\n",
      "80:\tlearn: 0.5183553\ttotal: 95ms\tremaining: 1.08s\n",
      "81:\tlearn: 0.5143648\ttotal: 95.4ms\tremaining: 1.07s\n",
      "82:\tlearn: 0.5100328\ttotal: 95.8ms\tremaining: 1.06s\n",
      "83:\tlearn: 0.5064501\ttotal: 96.3ms\tremaining: 1.05s\n",
      "84:\tlearn: 0.5026872\ttotal: 96.7ms\tremaining: 1.04s\n",
      "85:\tlearn: 0.4993303\ttotal: 97.1ms\tremaining: 1.03s\n",
      "86:\tlearn: 0.4956931\ttotal: 97.5ms\tremaining: 1.02s\n",
      "87:\tlearn: 0.4926328\ttotal: 97.9ms\tremaining: 1.01s\n",
      "88:\tlearn: 0.4889369\ttotal: 98.3ms\tremaining: 1.01s\n",
      "89:\tlearn: 0.4851968\ttotal: 98.7ms\tremaining: 998ms\n",
      "90:\tlearn: 0.4816422\ttotal: 99.1ms\tremaining: 989ms\n",
      "91:\tlearn: 0.4782800\ttotal: 99.6ms\tremaining: 983ms\n",
      "92:\tlearn: 0.4752843\ttotal: 100ms\tremaining: 976ms\n",
      "93:\tlearn: 0.4719274\ttotal: 101ms\tremaining: 969ms\n",
      "94:\tlearn: 0.4688995\ttotal: 101ms\tremaining: 962ms\n",
      "95:\tlearn: 0.4655303\ttotal: 101ms\tremaining: 955ms\n",
      "96:\tlearn: 0.4621769\ttotal: 102ms\tremaining: 951ms\n",
      "97:\tlearn: 0.4590870\ttotal: 103ms\tremaining: 944ms\n",
      "98:\tlearn: 0.4561554\ttotal: 103ms\tremaining: 940ms\n",
      "99:\tlearn: 0.4524385\ttotal: 104ms\tremaining: 934ms\n",
      "100:\tlearn: 0.4493427\ttotal: 104ms\tremaining: 927ms\n",
      "101:\tlearn: 0.4464788\ttotal: 105ms\tremaining: 921ms\n",
      "102:\tlearn: 0.4434633\ttotal: 105ms\tremaining: 916ms\n",
      "103:\tlearn: 0.4403805\ttotal: 106ms\tremaining: 911ms\n",
      "104:\tlearn: 0.4369906\ttotal: 106ms\tremaining: 905ms\n",
      "105:\tlearn: 0.4342582\ttotal: 107ms\tremaining: 900ms\n"
     ]
    },
    {
     "name": "stdout",
     "output_type": "stream",
     "text": [
      "106:\tlearn: 0.4320307\ttotal: 107ms\tremaining: 895ms\n",
      "107:\tlearn: 0.4290560\ttotal: 108ms\tremaining: 891ms\n",
      "108:\tlearn: 0.4256232\ttotal: 108ms\tremaining: 886ms\n",
      "109:\tlearn: 0.4228761\ttotal: 109ms\tremaining: 881ms\n",
      "110:\tlearn: 0.4207693\ttotal: 109ms\tremaining: 875ms\n",
      "111:\tlearn: 0.4188286\ttotal: 110ms\tremaining: 870ms\n",
      "112:\tlearn: 0.4159774\ttotal: 110ms\tremaining: 864ms\n",
      "113:\tlearn: 0.4128284\ttotal: 111ms\tremaining: 859ms\n",
      "114:\tlearn: 0.4100374\ttotal: 111ms\tremaining: 853ms\n",
      "115:\tlearn: 0.4065986\ttotal: 111ms\tremaining: 848ms\n",
      "116:\tlearn: 0.4036546\ttotal: 112ms\tremaining: 844ms\n",
      "117:\tlearn: 0.4008086\ttotal: 112ms\tremaining: 840ms\n",
      "118:\tlearn: 0.3985040\ttotal: 113ms\tremaining: 837ms\n",
      "119:\tlearn: 0.3958833\ttotal: 114ms\tremaining: 833ms\n",
      "120:\tlearn: 0.3932598\ttotal: 114ms\tremaining: 828ms\n",
      "121:\tlearn: 0.3902359\ttotal: 115ms\tremaining: 825ms\n",
      "122:\tlearn: 0.3883346\ttotal: 115ms\tremaining: 820ms\n",
      "123:\tlearn: 0.3859410\ttotal: 116ms\tremaining: 817ms\n",
      "124:\tlearn: 0.3835027\ttotal: 116ms\tremaining: 813ms\n",
      "125:\tlearn: 0.3815309\ttotal: 117ms\tremaining: 810ms\n",
      "126:\tlearn: 0.3792040\ttotal: 117ms\tremaining: 806ms\n",
      "127:\tlearn: 0.3767385\ttotal: 118ms\tremaining: 802ms\n",
      "128:\tlearn: 0.3741500\ttotal: 118ms\tremaining: 798ms\n",
      "129:\tlearn: 0.3719920\ttotal: 119ms\tremaining: 795ms\n",
      "130:\tlearn: 0.3696244\ttotal: 119ms\tremaining: 791ms\n",
      "131:\tlearn: 0.3674820\ttotal: 120ms\tremaining: 787ms\n",
      "132:\tlearn: 0.3652818\ttotal: 120ms\tremaining: 783ms\n",
      "133:\tlearn: 0.3630752\ttotal: 120ms\tremaining: 778ms\n",
      "134:\tlearn: 0.3608277\ttotal: 121ms\tremaining: 775ms\n",
      "135:\tlearn: 0.3590333\ttotal: 121ms\tremaining: 771ms\n",
      "136:\tlearn: 0.3570055\ttotal: 122ms\tremaining: 768ms\n",
      "137:\tlearn: 0.3543411\ttotal: 122ms\tremaining: 764ms\n",
      "138:\tlearn: 0.3515667\ttotal: 123ms\tremaining: 761ms\n",
      "139:\tlearn: 0.3495460\ttotal: 123ms\tremaining: 757ms\n",
      "140:\tlearn: 0.3475862\ttotal: 124ms\tremaining: 754ms\n",
      "141:\tlearn: 0.3455370\ttotal: 124ms\tremaining: 751ms\n",
      "142:\tlearn: 0.3434532\ttotal: 125ms\tremaining: 747ms\n",
      "143:\tlearn: 0.3409167\ttotal: 125ms\tremaining: 744ms\n",
      "144:\tlearn: 0.3392214\ttotal: 125ms\tremaining: 740ms\n",
      "145:\tlearn: 0.3372689\ttotal: 126ms\tremaining: 736ms\n",
      "146:\tlearn: 0.3355022\ttotal: 126ms\tremaining: 734ms\n",
      "147:\tlearn: 0.3332846\ttotal: 127ms\tremaining: 730ms\n",
      "148:\tlearn: 0.3312462\ttotal: 128ms\tremaining: 729ms\n",
      "149:\tlearn: 0.3285913\ttotal: 128ms\tremaining: 725ms\n",
      "150:\tlearn: 0.3266928\ttotal: 129ms\tremaining: 723ms\n",
      "151:\tlearn: 0.3240810\ttotal: 129ms\tremaining: 721ms\n",
      "152:\tlearn: 0.3215429\ttotal: 130ms\tremaining: 718ms\n",
      "153:\tlearn: 0.3199430\ttotal: 130ms\tremaining: 715ms\n",
      "154:\tlearn: 0.3181037\ttotal: 131ms\tremaining: 712ms\n",
      "155:\tlearn: 0.3159951\ttotal: 131ms\tremaining: 709ms\n",
      "156:\tlearn: 0.3137775\ttotal: 131ms\tremaining: 706ms\n",
      "157:\tlearn: 0.3116734\ttotal: 132ms\tremaining: 704ms\n",
      "158:\tlearn: 0.3093037\ttotal: 133ms\tremaining: 702ms\n",
      "159:\tlearn: 0.3072833\ttotal: 133ms\tremaining: 699ms\n",
      "160:\tlearn: 0.3050610\ttotal: 134ms\tremaining: 697ms\n",
      "161:\tlearn: 0.3029504\ttotal: 134ms\tremaining: 694ms\n",
      "162:\tlearn: 0.3007247\ttotal: 135ms\tremaining: 691ms\n",
      "163:\tlearn: 0.2985010\ttotal: 135ms\tremaining: 689ms\n",
      "164:\tlearn: 0.2966449\ttotal: 136ms\tremaining: 687ms\n",
      "165:\tlearn: 0.2949971\ttotal: 136ms\tremaining: 684ms\n",
      "166:\tlearn: 0.2934416\ttotal: 137ms\tremaining: 682ms\n",
      "167:\tlearn: 0.2916238\ttotal: 137ms\tremaining: 679ms\n",
      "168:\tlearn: 0.2895392\ttotal: 138ms\tremaining: 676ms\n",
      "169:\tlearn: 0.2877011\ttotal: 138ms\tremaining: 674ms\n",
      "170:\tlearn: 0.2857949\ttotal: 138ms\tremaining: 671ms\n",
      "171:\tlearn: 0.2839676\ttotal: 139ms\tremaining: 669ms\n",
      "172:\tlearn: 0.2820837\ttotal: 139ms\tremaining: 666ms\n",
      "173:\tlearn: 0.2803087\ttotal: 140ms\tremaining: 664ms\n",
      "174:\tlearn: 0.2782242\ttotal: 140ms\tremaining: 661ms\n",
      "175:\tlearn: 0.2763478\ttotal: 141ms\tremaining: 659ms\n",
      "176:\tlearn: 0.2748242\ttotal: 141ms\tremaining: 657ms\n",
      "177:\tlearn: 0.2727298\ttotal: 142ms\tremaining: 654ms\n",
      "178:\tlearn: 0.2709794\ttotal: 142ms\tremaining: 652ms\n",
      "179:\tlearn: 0.2692182\ttotal: 143ms\tremaining: 649ms\n",
      "180:\tlearn: 0.2671179\ttotal: 143ms\tremaining: 647ms\n",
      "181:\tlearn: 0.2658254\ttotal: 143ms\tremaining: 645ms\n",
      "182:\tlearn: 0.2644354\ttotal: 144ms\tremaining: 642ms\n",
      "183:\tlearn: 0.2624927\ttotal: 144ms\tremaining: 640ms\n",
      "184:\tlearn: 0.2608084\ttotal: 145ms\tremaining: 638ms\n",
      "185:\tlearn: 0.2589359\ttotal: 145ms\tremaining: 636ms\n",
      "186:\tlearn: 0.2569024\ttotal: 146ms\tremaining: 634ms\n",
      "187:\tlearn: 0.2553961\ttotal: 146ms\tremaining: 631ms\n",
      "188:\tlearn: 0.2537120\ttotal: 147ms\tremaining: 629ms\n",
      "189:\tlearn: 0.2517904\ttotal: 147ms\tremaining: 627ms\n",
      "190:\tlearn: 0.2499566\ttotal: 147ms\tremaining: 624ms\n",
      "191:\tlearn: 0.2486104\ttotal: 148ms\tremaining: 622ms\n",
      "192:\tlearn: 0.2470582\ttotal: 148ms\tremaining: 620ms\n",
      "193:\tlearn: 0.2451250\ttotal: 149ms\tremaining: 619ms\n",
      "194:\tlearn: 0.2432040\ttotal: 149ms\tremaining: 617ms\n",
      "195:\tlearn: 0.2417252\ttotal: 150ms\tremaining: 615ms\n",
      "196:\tlearn: 0.2401233\ttotal: 151ms\tremaining: 614ms\n",
      "197:\tlearn: 0.2384609\ttotal: 151ms\tremaining: 611ms\n",
      "198:\tlearn: 0.2369692\ttotal: 151ms\tremaining: 609ms\n",
      "199:\tlearn: 0.2353343\ttotal: 152ms\tremaining: 607ms\n",
      "200:\tlearn: 0.2338030\ttotal: 152ms\tremaining: 604ms\n",
      "201:\tlearn: 0.2322805\ttotal: 152ms\tremaining: 602ms\n",
      "202:\tlearn: 0.2310119\ttotal: 153ms\tremaining: 600ms\n",
      "203:\tlearn: 0.2295554\ttotal: 153ms\tremaining: 597ms\n",
      "204:\tlearn: 0.2279421\ttotal: 153ms\tremaining: 595ms\n",
      "205:\tlearn: 0.2263880\ttotal: 154ms\tremaining: 593ms\n",
      "206:\tlearn: 0.2249577\ttotal: 154ms\tremaining: 590ms\n",
      "207:\tlearn: 0.2235480\ttotal: 155ms\tremaining: 589ms\n",
      "208:\tlearn: 0.2219869\ttotal: 155ms\tremaining: 587ms\n",
      "209:\tlearn: 0.2203579\ttotal: 155ms\tremaining: 585ms\n",
      "210:\tlearn: 0.2189064\ttotal: 156ms\tremaining: 583ms\n",
      "211:\tlearn: 0.2175929\ttotal: 156ms\tremaining: 581ms\n",
      "212:\tlearn: 0.2163054\ttotal: 157ms\tremaining: 580ms\n",
      "213:\tlearn: 0.2152408\ttotal: 157ms\tremaining: 578ms\n",
      "214:\tlearn: 0.2138329\ttotal: 158ms\tremaining: 576ms\n",
      "215:\tlearn: 0.2124711\ttotal: 158ms\tremaining: 575ms\n",
      "216:\tlearn: 0.2108526\ttotal: 159ms\tremaining: 573ms\n",
      "217:\tlearn: 0.2092367\ttotal: 159ms\tremaining: 571ms\n",
      "218:\tlearn: 0.2077741\ttotal: 160ms\tremaining: 569ms\n",
      "219:\tlearn: 0.2062833\ttotal: 160ms\tremaining: 567ms\n",
      "220:\tlearn: 0.2047016\ttotal: 160ms\tremaining: 566ms\n",
      "221:\tlearn: 0.2033983\ttotal: 161ms\tremaining: 564ms\n",
      "222:\tlearn: 0.2022170\ttotal: 162ms\tremaining: 563ms\n",
      "223:\tlearn: 0.2009387\ttotal: 162ms\tremaining: 561ms\n",
      "224:\tlearn: 0.1995644\ttotal: 163ms\tremaining: 560ms\n",
      "225:\tlearn: 0.1982667\ttotal: 163ms\tremaining: 559ms\n",
      "226:\tlearn: 0.1969198\ttotal: 164ms\tremaining: 558ms\n",
      "227:\tlearn: 0.1956717\ttotal: 164ms\tremaining: 556ms\n",
      "228:\tlearn: 0.1947817\ttotal: 165ms\tremaining: 555ms\n",
      "229:\tlearn: 0.1936826\ttotal: 165ms\tremaining: 553ms\n",
      "230:\tlearn: 0.1924432\ttotal: 166ms\tremaining: 552ms\n",
      "231:\tlearn: 0.1912642\ttotal: 166ms\tremaining: 550ms\n",
      "232:\tlearn: 0.1899716\ttotal: 167ms\tremaining: 549ms\n",
      "233:\tlearn: 0.1886237\ttotal: 167ms\tremaining: 547ms\n",
      "234:\tlearn: 0.1874292\ttotal: 168ms\tremaining: 546ms\n",
      "235:\tlearn: 0.1861155\ttotal: 168ms\tremaining: 545ms\n",
      "236:\tlearn: 0.1846817\ttotal: 169ms\tremaining: 543ms\n",
      "237:\tlearn: 0.1837067\ttotal: 169ms\tremaining: 542ms\n",
      "238:\tlearn: 0.1824204\ttotal: 170ms\tremaining: 540ms\n",
      "239:\tlearn: 0.1814881\ttotal: 170ms\tremaining: 538ms\n",
      "240:\tlearn: 0.1802683\ttotal: 171ms\tremaining: 537ms\n",
      "241:\tlearn: 0.1789915\ttotal: 171ms\tremaining: 536ms\n",
      "242:\tlearn: 0.1777925\ttotal: 172ms\tremaining: 534ms\n",
      "243:\tlearn: 0.1766767\ttotal: 172ms\tremaining: 533ms\n",
      "244:\tlearn: 0.1756681\ttotal: 173ms\tremaining: 532ms\n",
      "245:\tlearn: 0.1746649\ttotal: 173ms\tremaining: 531ms\n",
      "246:\tlearn: 0.1736078\ttotal: 174ms\tremaining: 530ms\n",
      "247:\tlearn: 0.1724264\ttotal: 174ms\tremaining: 528ms\n",
      "248:\tlearn: 0.1712807\ttotal: 175ms\tremaining: 527ms\n",
      "249:\tlearn: 0.1702702\ttotal: 175ms\tremaining: 525ms\n",
      "250:\tlearn: 0.1693700\ttotal: 176ms\tremaining: 524ms\n",
      "251:\tlearn: 0.1683282\ttotal: 176ms\tremaining: 522ms\n",
      "252:\tlearn: 0.1672257\ttotal: 176ms\tremaining: 521ms\n",
      "253:\tlearn: 0.1661553\ttotal: 177ms\tremaining: 520ms\n",
      "254:\tlearn: 0.1651963\ttotal: 177ms\tremaining: 518ms\n",
      "255:\tlearn: 0.1640087\ttotal: 178ms\tremaining: 517ms\n",
      "256:\tlearn: 0.1631154\ttotal: 179ms\tremaining: 516ms\n",
      "257:\tlearn: 0.1620439\ttotal: 179ms\tremaining: 515ms\n",
      "258:\tlearn: 0.1613098\ttotal: 179ms\tremaining: 513ms\n",
      "259:\tlearn: 0.1601613\ttotal: 180ms\tremaining: 512ms\n"
     ]
    },
    {
     "name": "stdout",
     "output_type": "stream",
     "text": [
      "260:\tlearn: 0.1592270\ttotal: 189ms\tremaining: 536ms\n",
      "261:\tlearn: 0.1580656\ttotal: 190ms\tremaining: 536ms\n",
      "262:\tlearn: 0.1572304\ttotal: 191ms\tremaining: 535ms\n",
      "263:\tlearn: 0.1561857\ttotal: 191ms\tremaining: 533ms\n",
      "264:\tlearn: 0.1554124\ttotal: 192ms\tremaining: 532ms\n",
      "265:\tlearn: 0.1544232\ttotal: 192ms\tremaining: 530ms\n",
      "266:\tlearn: 0.1533919\ttotal: 193ms\tremaining: 529ms\n",
      "267:\tlearn: 0.1525171\ttotal: 193ms\tremaining: 527ms\n",
      "268:\tlearn: 0.1513436\ttotal: 193ms\tremaining: 526ms\n",
      "269:\tlearn: 0.1503390\ttotal: 194ms\tremaining: 525ms\n",
      "270:\tlearn: 0.1492863\ttotal: 194ms\tremaining: 523ms\n",
      "271:\tlearn: 0.1484226\ttotal: 195ms\tremaining: 522ms\n",
      "272:\tlearn: 0.1476250\ttotal: 195ms\tremaining: 521ms\n",
      "273:\tlearn: 0.1467527\ttotal: 196ms\tremaining: 519ms\n",
      "274:\tlearn: 0.1458645\ttotal: 197ms\tremaining: 519ms\n",
      "275:\tlearn: 0.1449928\ttotal: 197ms\tremaining: 517ms\n",
      "276:\tlearn: 0.1440707\ttotal: 198ms\tremaining: 516ms\n",
      "277:\tlearn: 0.1432125\ttotal: 198ms\tremaining: 515ms\n",
      "278:\tlearn: 0.1422698\ttotal: 199ms\tremaining: 514ms\n",
      "279:\tlearn: 0.1415776\ttotal: 199ms\tremaining: 512ms\n",
      "280:\tlearn: 0.1404694\ttotal: 200ms\tremaining: 511ms\n",
      "281:\tlearn: 0.1393835\ttotal: 200ms\tremaining: 510ms\n",
      "282:\tlearn: 0.1384521\ttotal: 201ms\tremaining: 508ms\n",
      "283:\tlearn: 0.1375789\ttotal: 201ms\tremaining: 507ms\n",
      "284:\tlearn: 0.1368561\ttotal: 202ms\tremaining: 506ms\n",
      "285:\tlearn: 0.1362485\ttotal: 202ms\tremaining: 505ms\n",
      "286:\tlearn: 0.1355828\ttotal: 203ms\tremaining: 504ms\n",
      "287:\tlearn: 0.1345556\ttotal: 203ms\tremaining: 502ms\n",
      "288:\tlearn: 0.1337736\ttotal: 204ms\tremaining: 501ms\n",
      "289:\tlearn: 0.1329878\ttotal: 204ms\tremaining: 500ms\n",
      "290:\tlearn: 0.1321796\ttotal: 205ms\tremaining: 499ms\n",
      "291:\tlearn: 0.1311383\ttotal: 205ms\tremaining: 498ms\n",
      "292:\tlearn: 0.1303245\ttotal: 206ms\tremaining: 496ms\n",
      "293:\tlearn: 0.1296069\ttotal: 206ms\tremaining: 496ms\n",
      "294:\tlearn: 0.1287906\ttotal: 207ms\tremaining: 494ms\n",
      "295:\tlearn: 0.1280801\ttotal: 207ms\tremaining: 493ms\n",
      "296:\tlearn: 0.1272319\ttotal: 208ms\tremaining: 492ms\n",
      "297:\tlearn: 0.1265685\ttotal: 208ms\tremaining: 490ms\n",
      "298:\tlearn: 0.1255431\ttotal: 209ms\tremaining: 489ms\n",
      "299:\tlearn: 0.1249179\ttotal: 209ms\tremaining: 488ms\n",
      "300:\tlearn: 0.1240374\ttotal: 210ms\tremaining: 487ms\n",
      "301:\tlearn: 0.1232669\ttotal: 210ms\tremaining: 486ms\n",
      "302:\tlearn: 0.1225875\ttotal: 211ms\tremaining: 485ms\n",
      "303:\tlearn: 0.1215230\ttotal: 211ms\tremaining: 484ms\n",
      "304:\tlearn: 0.1208173\ttotal: 212ms\tremaining: 483ms\n",
      "305:\tlearn: 0.1200902\ttotal: 212ms\tremaining: 482ms\n",
      "306:\tlearn: 0.1193439\ttotal: 213ms\tremaining: 480ms\n",
      "307:\tlearn: 0.1187761\ttotal: 213ms\tremaining: 479ms\n",
      "308:\tlearn: 0.1182424\ttotal: 213ms\tremaining: 477ms\n",
      "309:\tlearn: 0.1174368\ttotal: 214ms\tremaining: 476ms\n",
      "310:\tlearn: 0.1167053\ttotal: 214ms\tremaining: 474ms\n",
      "311:\tlearn: 0.1158747\ttotal: 214ms\tremaining: 473ms\n",
      "312:\tlearn: 0.1151128\ttotal: 215ms\tremaining: 472ms\n",
      "313:\tlearn: 0.1145122\ttotal: 215ms\tremaining: 470ms\n",
      "314:\tlearn: 0.1139220\ttotal: 216ms\tremaining: 469ms\n",
      "315:\tlearn: 0.1131621\ttotal: 216ms\tremaining: 467ms\n",
      "316:\tlearn: 0.1127577\ttotal: 216ms\tremaining: 466ms\n",
      "317:\tlearn: 0.1119677\ttotal: 217ms\tremaining: 465ms\n",
      "318:\tlearn: 0.1112919\ttotal: 219ms\tremaining: 467ms\n",
      "319:\tlearn: 0.1105536\ttotal: 220ms\tremaining: 467ms\n",
      "320:\tlearn: 0.1098335\ttotal: 220ms\tremaining: 466ms\n",
      "321:\tlearn: 0.1093775\ttotal: 221ms\tremaining: 465ms\n",
      "322:\tlearn: 0.1086289\ttotal: 221ms\tremaining: 464ms\n",
      "323:\tlearn: 0.1079145\ttotal: 222ms\tremaining: 463ms\n",
      "324:\tlearn: 0.1072248\ttotal: 222ms\tremaining: 462ms\n",
      "325:\tlearn: 0.1066412\ttotal: 223ms\tremaining: 461ms\n",
      "326:\tlearn: 0.1060137\ttotal: 223ms\tremaining: 460ms\n",
      "327:\tlearn: 0.1053450\ttotal: 224ms\tremaining: 458ms\n",
      "328:\tlearn: 0.1049286\ttotal: 224ms\tremaining: 457ms\n",
      "329:\tlearn: 0.1043402\ttotal: 225ms\tremaining: 456ms\n",
      "330:\tlearn: 0.1037220\ttotal: 225ms\tremaining: 455ms\n",
      "331:\tlearn: 0.1031919\ttotal: 226ms\tremaining: 454ms\n",
      "332:\tlearn: 0.1026728\ttotal: 226ms\tremaining: 453ms\n",
      "333:\tlearn: 0.1020487\ttotal: 226ms\tremaining: 452ms\n",
      "334:\tlearn: 0.1016223\ttotal: 227ms\tremaining: 450ms\n",
      "335:\tlearn: 0.1010213\ttotal: 227ms\tremaining: 449ms\n",
      "336:\tlearn: 0.1004951\ttotal: 228ms\tremaining: 448ms\n",
      "337:\tlearn: 0.0999464\ttotal: 228ms\tremaining: 447ms\n",
      "338:\tlearn: 0.0993246\ttotal: 229ms\tremaining: 446ms\n",
      "339:\tlearn: 0.0986656\ttotal: 229ms\tremaining: 445ms\n",
      "340:\tlearn: 0.0980989\ttotal: 230ms\tremaining: 445ms\n",
      "341:\tlearn: 0.0976000\ttotal: 230ms\tremaining: 443ms\n",
      "342:\tlearn: 0.0970471\ttotal: 231ms\tremaining: 442ms\n",
      "343:\tlearn: 0.0967677\ttotal: 231ms\tremaining: 441ms\n",
      "344:\tlearn: 0.0963077\ttotal: 232ms\tremaining: 440ms\n",
      "345:\tlearn: 0.0957614\ttotal: 232ms\tremaining: 439ms\n",
      "346:\tlearn: 0.0952492\ttotal: 233ms\tremaining: 438ms\n",
      "347:\tlearn: 0.0946280\ttotal: 233ms\tremaining: 437ms\n",
      "348:\tlearn: 0.0941020\ttotal: 234ms\tremaining: 436ms\n",
      "349:\tlearn: 0.0936878\ttotal: 234ms\tremaining: 435ms\n",
      "350:\tlearn: 0.0932677\ttotal: 234ms\tremaining: 433ms\n",
      "351:\tlearn: 0.0927565\ttotal: 235ms\tremaining: 432ms\n",
      "352:\tlearn: 0.0922452\ttotal: 235ms\tremaining: 431ms\n",
      "353:\tlearn: 0.0917817\ttotal: 236ms\tremaining: 430ms\n",
      "354:\tlearn: 0.0913810\ttotal: 236ms\tremaining: 429ms\n",
      "355:\tlearn: 0.0909294\ttotal: 237ms\tremaining: 428ms\n",
      "356:\tlearn: 0.0904203\ttotal: 237ms\tremaining: 427ms\n",
      "357:\tlearn: 0.0901330\ttotal: 238ms\tremaining: 426ms\n",
      "358:\tlearn: 0.0898453\ttotal: 238ms\tremaining: 425ms\n",
      "359:\tlearn: 0.0894413\ttotal: 238ms\tremaining: 424ms\n",
      "360:\tlearn: 0.0889691\ttotal: 239ms\tremaining: 422ms\n",
      "361:\tlearn: 0.0885389\ttotal: 239ms\tremaining: 421ms\n",
      "362:\tlearn: 0.0880448\ttotal: 241ms\tremaining: 423ms\n",
      "363:\tlearn: 0.0877675\ttotal: 242ms\tremaining: 423ms\n",
      "364:\tlearn: 0.0873143\ttotal: 245ms\tremaining: 426ms\n",
      "365:\tlearn: 0.0869161\ttotal: 245ms\tremaining: 424ms\n",
      "366:\tlearn: 0.0867052\ttotal: 245ms\tremaining: 423ms\n",
      "367:\tlearn: 0.0864564\ttotal: 246ms\tremaining: 423ms\n",
      "368:\tlearn: 0.0862005\ttotal: 247ms\tremaining: 422ms\n",
      "369:\tlearn: 0.0859331\ttotal: 247ms\tremaining: 421ms\n",
      "370:\tlearn: 0.0854637\ttotal: 248ms\tremaining: 420ms\n",
      "371:\tlearn: 0.0852023\ttotal: 248ms\tremaining: 419ms\n",
      "372:\tlearn: 0.0848063\ttotal: 249ms\tremaining: 418ms\n",
      "373:\tlearn: 0.0844738\ttotal: 249ms\tremaining: 417ms\n",
      "374:\tlearn: 0.0841186\ttotal: 250ms\tremaining: 416ms\n",
      "375:\tlearn: 0.0838398\ttotal: 251ms\tremaining: 416ms\n",
      "376:\tlearn: 0.0834610\ttotal: 251ms\tremaining: 415ms\n",
      "377:\tlearn: 0.0830762\ttotal: 252ms\tremaining: 415ms\n",
      "378:\tlearn: 0.0825518\ttotal: 253ms\tremaining: 414ms\n",
      "379:\tlearn: 0.0820764\ttotal: 253ms\tremaining: 413ms\n",
      "380:\tlearn: 0.0818297\ttotal: 253ms\tremaining: 412ms\n",
      "381:\tlearn: 0.0814952\ttotal: 254ms\tremaining: 411ms\n",
      "382:\tlearn: 0.0811381\ttotal: 254ms\tremaining: 410ms\n",
      "383:\tlearn: 0.0809662\ttotal: 255ms\tremaining: 409ms\n",
      "384:\tlearn: 0.0807967\ttotal: 255ms\tremaining: 408ms\n",
      "385:\tlearn: 0.0804498\ttotal: 256ms\tremaining: 407ms\n",
      "386:\tlearn: 0.0800749\ttotal: 256ms\tremaining: 406ms\n",
      "387:\tlearn: 0.0799082\ttotal: 257ms\tremaining: 405ms\n",
      "388:\tlearn: 0.0797439\ttotal: 257ms\tremaining: 404ms\n",
      "389:\tlearn: 0.0795820\ttotal: 258ms\tremaining: 403ms\n",
      "390:\tlearn: 0.0792461\ttotal: 258ms\tremaining: 402ms\n",
      "391:\tlearn: 0.0790901\ttotal: 259ms\tremaining: 401ms\n",
      "392:\tlearn: 0.0789420\ttotal: 259ms\tremaining: 400ms\n",
      "393:\tlearn: 0.0786346\ttotal: 259ms\tremaining: 399ms\n",
      "394:\tlearn: 0.0784906\ttotal: 260ms\tremaining: 398ms\n",
      "395:\tlearn: 0.0780724\ttotal: 260ms\tremaining: 397ms\n",
      "396:\tlearn: 0.0777747\ttotal: 261ms\tremaining: 396ms\n",
      "397:\tlearn: 0.0775940\ttotal: 261ms\tremaining: 395ms\n",
      "398:\tlearn: 0.0774554\ttotal: 262ms\tremaining: 394ms\n",
      "399:\tlearn: 0.0770489\ttotal: 262ms\tremaining: 393ms\n",
      "400:\tlearn: 0.0768722\ttotal: 263ms\tremaining: 393ms\n",
      "401:\tlearn: 0.0765157\ttotal: 263ms\tremaining: 391ms\n",
      "402:\tlearn: 0.0761813\ttotal: 264ms\tremaining: 391ms\n",
      "403:\tlearn: 0.0760075\ttotal: 264ms\tremaining: 390ms\n",
      "404:\tlearn: 0.0757617\ttotal: 265ms\tremaining: 389ms\n",
      "405:\tlearn: 0.0755913\ttotal: 265ms\tremaining: 388ms\n",
      "406:\tlearn: 0.0754595\ttotal: 266ms\tremaining: 387ms\n",
      "407:\tlearn: 0.0753301\ttotal: 266ms\tremaining: 386ms\n",
      "408:\tlearn: 0.0752029\ttotal: 267ms\tremaining: 385ms\n",
      "409:\tlearn: 0.0749620\ttotal: 267ms\tremaining: 384ms\n",
      "410:\tlearn: 0.0746370\ttotal: 268ms\tremaining: 384ms\n",
      "411:\tlearn: 0.0743034\ttotal: 268ms\tremaining: 383ms\n",
      "412:\tlearn: 0.0740660\ttotal: 268ms\tremaining: 382ms\n",
      "413:\tlearn: 0.0739422\ttotal: 269ms\tremaining: 381ms\n",
      "414:\tlearn: 0.0738206\ttotal: 269ms\tremaining: 380ms\n",
      "415:\tlearn: 0.0737011\ttotal: 270ms\tremaining: 379ms\n",
      "416:\tlearn: 0.0734678\ttotal: 270ms\tremaining: 378ms\n",
      "417:\tlearn: 0.0731224\ttotal: 271ms\tremaining: 377ms\n",
      "418:\tlearn: 0.0729640\ttotal: 271ms\tremaining: 376ms\n",
      "419:\tlearn: 0.0728480\ttotal: 271ms\tremaining: 375ms\n",
      "420:\tlearn: 0.0725911\ttotal: 272ms\tremaining: 374ms\n",
      "421:\tlearn: 0.0724771\ttotal: 273ms\tremaining: 374ms\n",
      "422:\tlearn: 0.0722507\ttotal: 274ms\tremaining: 374ms\n",
      "423:\tlearn: 0.0721386\ttotal: 274ms\tremaining: 373ms\n",
      "424:\tlearn: 0.0718031\ttotal: 275ms\tremaining: 372ms\n",
      "425:\tlearn: 0.0715317\ttotal: 275ms\tremaining: 371ms\n",
      "426:\tlearn: 0.0711896\ttotal: 276ms\tremaining: 370ms\n",
      "427:\tlearn: 0.0709235\ttotal: 276ms\tremaining: 369ms\n",
      "428:\tlearn: 0.0707728\ttotal: 277ms\tremaining: 368ms\n",
      "429:\tlearn: 0.0706246\ttotal: 277ms\tremaining: 368ms\n",
      "430:\tlearn: 0.0705176\ttotal: 278ms\tremaining: 367ms\n",
      "431:\tlearn: 0.0702756\ttotal: 278ms\tremaining: 366ms\n",
      "432:\tlearn: 0.0701699\ttotal: 279ms\tremaining: 365ms\n",
      "433:\tlearn: 0.0700661\ttotal: 279ms\tremaining: 364ms\n",
      "434:\tlearn: 0.0697478\ttotal: 279ms\tremaining: 363ms\n",
      "435:\tlearn: 0.0692314\ttotal: 280ms\tremaining: 362ms\n",
      "436:\tlearn: 0.0689235\ttotal: 280ms\tremaining: 361ms\n",
      "437:\tlearn: 0.0686714\ttotal: 281ms\tremaining: 360ms\n",
      "438:\tlearn: 0.0685304\ttotal: 281ms\tremaining: 359ms\n",
      "439:\tlearn: 0.0684293\ttotal: 282ms\tremaining: 358ms\n",
      "440:\tlearn: 0.0680393\ttotal: 282ms\tremaining: 357ms\n",
      "441:\tlearn: 0.0677918\ttotal: 282ms\tremaining: 357ms\n",
      "442:\tlearn: 0.0673610\ttotal: 283ms\tremaining: 356ms\n",
      "443:\tlearn: 0.0672629\ttotal: 283ms\tremaining: 355ms\n",
      "444:\tlearn: 0.0668403\ttotal: 284ms\tremaining: 354ms\n",
      "445:\tlearn: 0.0667444\ttotal: 284ms\tremaining: 353ms\n",
      "446:\tlearn: 0.0664524\ttotal: 285ms\tremaining: 352ms\n",
      "447:\tlearn: 0.0663593\ttotal: 285ms\tremaining: 351ms\n",
      "448:\tlearn: 0.0662673\ttotal: 285ms\tremaining: 350ms\n",
      "449:\tlearn: 0.0658433\ttotal: 286ms\tremaining: 349ms\n",
      "450:\tlearn: 0.0657400\ttotal: 286ms\tremaining: 349ms\n",
      "451:\tlearn: 0.0652695\ttotal: 287ms\tremaining: 348ms\n",
      "452:\tlearn: 0.0648708\ttotal: 288ms\tremaining: 347ms\n",
      "453:\tlearn: 0.0645918\ttotal: 288ms\tremaining: 347ms\n",
      "454:\tlearn: 0.0645031\ttotal: 289ms\tremaining: 346ms\n",
      "455:\tlearn: 0.0642311\ttotal: 289ms\tremaining: 345ms\n",
      "456:\tlearn: 0.0639553\ttotal: 290ms\tremaining: 344ms\n"
     ]
    },
    {
     "name": "stdout",
     "output_type": "stream",
     "text": [
      "457:\tlearn: 0.0635869\ttotal: 290ms\tremaining: 344ms\n",
      "458:\tlearn: 0.0631484\ttotal: 291ms\tremaining: 343ms\n",
      "459:\tlearn: 0.0630603\ttotal: 291ms\tremaining: 342ms\n",
      "460:\tlearn: 0.0626313\ttotal: 292ms\tremaining: 341ms\n",
      "461:\tlearn: 0.0623666\ttotal: 292ms\tremaining: 341ms\n",
      "462:\tlearn: 0.0620116\ttotal: 293ms\tremaining: 340ms\n",
      "463:\tlearn: 0.0615947\ttotal: 294ms\tremaining: 339ms\n",
      "464:\tlearn: 0.0615102\ttotal: 294ms\tremaining: 338ms\n",
      "465:\tlearn: 0.0612547\ttotal: 295ms\tremaining: 337ms\n",
      "466:\tlearn: 0.0609106\ttotal: 295ms\tremaining: 337ms\n",
      "467:\tlearn: 0.0604943\ttotal: 296ms\tremaining: 336ms\n",
      "468:\tlearn: 0.0601322\ttotal: 296ms\tremaining: 335ms\n",
      "469:\tlearn: 0.0598087\ttotal: 296ms\tremaining: 334ms\n",
      "470:\tlearn: 0.0594156\ttotal: 297ms\tremaining: 333ms\n",
      "471:\tlearn: 0.0593352\ttotal: 297ms\tremaining: 333ms\n",
      "472:\tlearn: 0.0590949\ttotal: 298ms\tremaining: 332ms\n",
      "473:\tlearn: 0.0587497\ttotal: 298ms\tremaining: 331ms\n",
      "474:\tlearn: 0.0583068\ttotal: 299ms\tremaining: 330ms\n",
      "475:\tlearn: 0.0578717\ttotal: 299ms\tremaining: 330ms\n",
      "476:\tlearn: 0.0575329\ttotal: 300ms\tremaining: 329ms\n",
      "477:\tlearn: 0.0573043\ttotal: 300ms\tremaining: 328ms\n",
      "478:\tlearn: 0.0569795\ttotal: 301ms\tremaining: 327ms\n",
      "479:\tlearn: 0.0569038\ttotal: 301ms\tremaining: 326ms\n",
      "480:\tlearn: 0.0568291\ttotal: 302ms\tremaining: 326ms\n",
      "481:\tlearn: 0.0565172\ttotal: 302ms\tremaining: 325ms\n",
      "482:\tlearn: 0.0564521\ttotal: 308ms\tremaining: 329ms\n",
      "483:\tlearn: 0.0563878\ttotal: 308ms\tremaining: 329ms\n",
      "484:\tlearn: 0.0561087\ttotal: 309ms\tremaining: 328ms\n",
      "485:\tlearn: 0.0560389\ttotal: 309ms\tremaining: 327ms\n",
      "486:\tlearn: 0.0557473\ttotal: 310ms\tremaining: 326ms\n",
      "487:\tlearn: 0.0554465\ttotal: 310ms\tremaining: 325ms\n",
      "488:\tlearn: 0.0553838\ttotal: 311ms\tremaining: 324ms\n",
      "489:\tlearn: 0.0553218\ttotal: 311ms\tremaining: 324ms\n",
      "490:\tlearn: 0.0552608\ttotal: 311ms\tremaining: 323ms\n",
      "491:\tlearn: 0.0549913\ttotal: 312ms\tremaining: 322ms\n",
      "492:\tlearn: 0.0546729\ttotal: 312ms\tremaining: 321ms\n",
      "493:\tlearn: 0.0544590\ttotal: 313ms\tremaining: 321ms\n",
      "494:\tlearn: 0.0541652\ttotal: 313ms\tremaining: 320ms\n",
      "495:\tlearn: 0.0541055\ttotal: 314ms\tremaining: 319ms\n",
      "496:\tlearn: 0.0537855\ttotal: 314ms\tremaining: 318ms\n",
      "497:\tlearn: 0.0535274\ttotal: 315ms\tremaining: 317ms\n",
      "498:\tlearn: 0.0534689\ttotal: 315ms\tremaining: 316ms\n",
      "499:\tlearn: 0.0534111\ttotal: 316ms\tremaining: 316ms\n",
      "500:\tlearn: 0.0532058\ttotal: 316ms\tremaining: 315ms\n",
      "501:\tlearn: 0.0528952\ttotal: 316ms\tremaining: 314ms\n",
      "502:\tlearn: 0.0524502\ttotal: 317ms\tremaining: 313ms\n",
      "503:\tlearn: 0.0521501\ttotal: 317ms\tremaining: 312ms\n",
      "504:\tlearn: 0.0518747\ttotal: 318ms\tremaining: 311ms\n",
      "505:\tlearn: 0.0515826\ttotal: 318ms\tremaining: 311ms\n",
      "506:\tlearn: 0.0513146\ttotal: 318ms\tremaining: 310ms\n",
      "507:\tlearn: 0.0510369\ttotal: 319ms\tremaining: 309ms\n",
      "508:\tlearn: 0.0508507\ttotal: 319ms\tremaining: 308ms\n",
      "509:\tlearn: 0.0506484\ttotal: 320ms\tremaining: 307ms\n",
      "510:\tlearn: 0.0503874\ttotal: 320ms\tremaining: 306ms\n",
      "511:\tlearn: 0.0501816\ttotal: 321ms\tremaining: 306ms\n",
      "512:\tlearn: 0.0499041\ttotal: 321ms\tremaining: 305ms\n",
      "513:\tlearn: 0.0496034\ttotal: 322ms\tremaining: 304ms\n",
      "514:\tlearn: 0.0493731\ttotal: 322ms\tremaining: 303ms\n",
      "515:\tlearn: 0.0491832\ttotal: 323ms\tremaining: 303ms\n",
      "516:\tlearn: 0.0489902\ttotal: 323ms\tremaining: 302ms\n",
      "517:\tlearn: 0.0488058\ttotal: 324ms\tremaining: 301ms\n",
      "518:\tlearn: 0.0486166\ttotal: 324ms\tremaining: 300ms\n",
      "519:\tlearn: 0.0482718\ttotal: 324ms\tremaining: 299ms\n",
      "520:\tlearn: 0.0479333\ttotal: 325ms\tremaining: 299ms\n",
      "521:\tlearn: 0.0477500\ttotal: 325ms\tremaining: 298ms\n",
      "522:\tlearn: 0.0475092\ttotal: 326ms\tremaining: 297ms\n",
      "523:\tlearn: 0.0473305\ttotal: 327ms\tremaining: 297ms\n",
      "524:\tlearn: 0.0470751\ttotal: 327ms\tremaining: 296ms\n",
      "525:\tlearn: 0.0467956\ttotal: 327ms\tremaining: 295ms\n",
      "526:\tlearn: 0.0465525\ttotal: 328ms\tremaining: 294ms\n",
      "527:\tlearn: 0.0463051\ttotal: 328ms\tremaining: 294ms\n",
      "528:\tlearn: 0.0460356\ttotal: 329ms\tremaining: 293ms\n",
      "529:\tlearn: 0.0457728\ttotal: 329ms\tremaining: 292ms\n",
      "530:\tlearn: 0.0456020\ttotal: 330ms\tremaining: 291ms\n",
      "531:\tlearn: 0.0453622\ttotal: 330ms\tremaining: 290ms\n",
      "532:\tlearn: 0.0449987\ttotal: 330ms\tremaining: 289ms\n",
      "533:\tlearn: 0.0447461\ttotal: 331ms\tremaining: 289ms\n",
      "534:\tlearn: 0.0444085\ttotal: 331ms\tremaining: 288ms\n",
      "535:\tlearn: 0.0441644\ttotal: 332ms\tremaining: 287ms\n",
      "536:\tlearn: 0.0439469\ttotal: 333ms\tremaining: 287ms\n",
      "537:\tlearn: 0.0437826\ttotal: 333ms\tremaining: 286ms\n",
      "538:\tlearn: 0.0434822\ttotal: 338ms\tremaining: 289ms\n",
      "539:\tlearn: 0.0431874\ttotal: 338ms\tremaining: 288ms\n",
      "540:\tlearn: 0.0429680\ttotal: 339ms\tremaining: 287ms\n",
      "541:\tlearn: 0.0427626\ttotal: 339ms\tremaining: 286ms\n",
      "542:\tlearn: 0.0425751\ttotal: 339ms\tremaining: 286ms\n",
      "543:\tlearn: 0.0423754\ttotal: 340ms\tremaining: 285ms\n",
      "544:\tlearn: 0.0422248\ttotal: 340ms\tremaining: 284ms\n",
      "545:\tlearn: 0.0420677\ttotal: 341ms\tremaining: 283ms\n",
      "546:\tlearn: 0.0418764\ttotal: 341ms\tremaining: 283ms\n",
      "547:\tlearn: 0.0415989\ttotal: 342ms\tremaining: 282ms\n",
      "548:\tlearn: 0.0414010\ttotal: 342ms\tremaining: 281ms\n",
      "549:\tlearn: 0.0412586\ttotal: 343ms\tremaining: 280ms\n",
      "550:\tlearn: 0.0411080\ttotal: 343ms\tremaining: 280ms\n",
      "551:\tlearn: 0.0409694\ttotal: 344ms\tremaining: 279ms\n",
      "552:\tlearn: 0.0408339\ttotal: 344ms\tremaining: 278ms\n",
      "553:\tlearn: 0.0406883\ttotal: 345ms\tremaining: 277ms\n",
      "554:\tlearn: 0.0405564\ttotal: 345ms\tremaining: 277ms\n",
      "555:\tlearn: 0.0403344\ttotal: 345ms\tremaining: 276ms\n",
      "556:\tlearn: 0.0401772\ttotal: 346ms\tremaining: 275ms\n",
      "557:\tlearn: 0.0400249\ttotal: 346ms\tremaining: 274ms\n",
      "558:\tlearn: 0.0399292\ttotal: 347ms\tremaining: 273ms\n",
      "559:\tlearn: 0.0397122\ttotal: 347ms\tremaining: 273ms\n",
      "560:\tlearn: 0.0396187\ttotal: 348ms\tremaining: 272ms\n",
      "561:\tlearn: 0.0395056\ttotal: 348ms\tremaining: 271ms\n",
      "562:\tlearn: 0.0392945\ttotal: 349ms\tremaining: 271ms\n",
      "563:\tlearn: 0.0392039\ttotal: 349ms\tremaining: 270ms\n",
      "564:\tlearn: 0.0391153\ttotal: 349ms\tremaining: 269ms\n",
      "565:\tlearn: 0.0389703\ttotal: 350ms\tremaining: 268ms\n",
      "566:\tlearn: 0.0388959\ttotal: 350ms\tremaining: 267ms\n",
      "567:\tlearn: 0.0386900\ttotal: 351ms\tremaining: 267ms\n",
      "568:\tlearn: 0.0385670\ttotal: 351ms\tremaining: 266ms\n",
      "569:\tlearn: 0.0384007\ttotal: 352ms\tremaining: 265ms\n",
      "570:\tlearn: 0.0382387\ttotal: 352ms\tremaining: 264ms\n",
      "571:\tlearn: 0.0381100\ttotal: 352ms\tremaining: 264ms\n",
      "572:\tlearn: 0.0379335\ttotal: 353ms\tremaining: 263ms\n",
      "573:\tlearn: 0.0378923\ttotal: 353ms\tremaining: 262ms\n",
      "574:\tlearn: 0.0378517\ttotal: 354ms\tremaining: 262ms\n",
      "575:\tlearn: 0.0376890\ttotal: 354ms\tremaining: 261ms\n",
      "576:\tlearn: 0.0376490\ttotal: 355ms\tremaining: 260ms\n",
      "577:\tlearn: 0.0376097\ttotal: 355ms\tremaining: 259ms\n",
      "578:\tlearn: 0.0375708\ttotal: 356ms\tremaining: 259ms\n",
      "579:\tlearn: 0.0374121\ttotal: 356ms\tremaining: 258ms\n",
      "580:\tlearn: 0.0373740\ttotal: 357ms\tremaining: 257ms\n",
      "581:\tlearn: 0.0373363\ttotal: 357ms\tremaining: 256ms\n",
      "582:\tlearn: 0.0372992\ttotal: 358ms\tremaining: 256ms\n",
      "583:\tlearn: 0.0371219\ttotal: 358ms\tremaining: 255ms\n",
      "584:\tlearn: 0.0368835\ttotal: 359ms\tremaining: 254ms\n",
      "585:\tlearn: 0.0368473\ttotal: 359ms\tremaining: 254ms\n",
      "586:\tlearn: 0.0368114\ttotal: 359ms\tremaining: 253ms\n",
      "587:\tlearn: 0.0367761\ttotal: 360ms\tremaining: 252ms\n",
      "588:\tlearn: 0.0365428\ttotal: 360ms\tremaining: 251ms\n",
      "589:\tlearn: 0.0365137\ttotal: 361ms\tremaining: 251ms\n",
      "590:\tlearn: 0.0364850\ttotal: 362ms\tremaining: 250ms\n",
      "591:\tlearn: 0.0363248\ttotal: 362ms\tremaining: 250ms\n",
      "592:\tlearn: 0.0361546\ttotal: 363ms\tremaining: 249ms\n",
      "593:\tlearn: 0.0359270\ttotal: 363ms\tremaining: 248ms\n",
      "594:\tlearn: 0.0358989\ttotal: 364ms\tremaining: 248ms\n",
      "595:\tlearn: 0.0358712\ttotal: 364ms\tremaining: 247ms\n",
      "596:\tlearn: 0.0357387\ttotal: 365ms\tremaining: 246ms\n",
      "597:\tlearn: 0.0355497\ttotal: 366ms\tremaining: 246ms\n",
      "598:\tlearn: 0.0353276\ttotal: 366ms\tremaining: 245ms\n",
      "599:\tlearn: 0.0351436\ttotal: 366ms\tremaining: 244ms\n",
      "600:\tlearn: 0.0351165\ttotal: 367ms\tremaining: 244ms\n",
      "601:\tlearn: 0.0350316\ttotal: 367ms\tremaining: 243ms\n",
      "602:\tlearn: 0.0349011\ttotal: 368ms\tremaining: 242ms\n",
      "603:\tlearn: 0.0347223\ttotal: 368ms\tremaining: 241ms\n",
      "604:\tlearn: 0.0345409\ttotal: 369ms\tremaining: 241ms\n",
      "605:\tlearn: 0.0343806\ttotal: 369ms\tremaining: 240ms\n",
      "606:\tlearn: 0.0343546\ttotal: 369ms\tremaining: 239ms\n",
      "607:\tlearn: 0.0342035\ttotal: 370ms\tremaining: 238ms\n",
      "608:\tlearn: 0.0341780\ttotal: 370ms\tremaining: 238ms\n",
      "609:\tlearn: 0.0341528\ttotal: 371ms\tremaining: 237ms\n",
      "610:\tlearn: 0.0339973\ttotal: 371ms\tremaining: 236ms\n",
      "611:\tlearn: 0.0339726\ttotal: 372ms\tremaining: 236ms\n",
      "612:\tlearn: 0.0337950\ttotal: 372ms\tremaining: 235ms\n"
     ]
    },
    {
     "name": "stdout",
     "output_type": "stream",
     "text": [
      "613:\tlearn: 0.0336245\ttotal: 373ms\tremaining: 234ms\n",
      "614:\tlearn: 0.0334534\ttotal: 373ms\tremaining: 234ms\n",
      "615:\tlearn: 0.0334294\ttotal: 374ms\tremaining: 233ms\n",
      "616:\tlearn: 0.0333063\ttotal: 374ms\tremaining: 232ms\n",
      "617:\tlearn: 0.0331827\ttotal: 374ms\tremaining: 231ms\n",
      "618:\tlearn: 0.0330346\ttotal: 375ms\tremaining: 231ms\n",
      "619:\tlearn: 0.0329100\ttotal: 376ms\tremaining: 230ms\n",
      "620:\tlearn: 0.0327932\ttotal: 376ms\tremaining: 229ms\n",
      "621:\tlearn: 0.0326730\ttotal: 376ms\tremaining: 229ms\n",
      "622:\tlearn: 0.0325552\ttotal: 377ms\tremaining: 228ms\n",
      "623:\tlearn: 0.0324415\ttotal: 377ms\tremaining: 227ms\n",
      "624:\tlearn: 0.0323290\ttotal: 378ms\tremaining: 227ms\n",
      "625:\tlearn: 0.0321872\ttotal: 378ms\tremaining: 226ms\n",
      "626:\tlearn: 0.0320745\ttotal: 379ms\tremaining: 225ms\n",
      "627:\tlearn: 0.0319242\ttotal: 379ms\tremaining: 225ms\n",
      "628:\tlearn: 0.0317648\ttotal: 380ms\tremaining: 224ms\n",
      "629:\tlearn: 0.0316184\ttotal: 380ms\tremaining: 223ms\n",
      "630:\tlearn: 0.0315192\ttotal: 381ms\tremaining: 223ms\n",
      "631:\tlearn: 0.0313645\ttotal: 381ms\tremaining: 222ms\n",
      "632:\tlearn: 0.0312189\ttotal: 382ms\tremaining: 221ms\n",
      "633:\tlearn: 0.0310789\ttotal: 382ms\tremaining: 221ms\n",
      "634:\tlearn: 0.0308741\ttotal: 383ms\tremaining: 220ms\n",
      "635:\tlearn: 0.0307595\ttotal: 383ms\tremaining: 219ms\n",
      "636:\tlearn: 0.0306542\ttotal: 384ms\tremaining: 219ms\n",
      "637:\tlearn: 0.0305373\ttotal: 384ms\tremaining: 218ms\n",
      "638:\tlearn: 0.0304417\ttotal: 385ms\tremaining: 217ms\n",
      "639:\tlearn: 0.0303313\ttotal: 385ms\tremaining: 217ms\n",
      "640:\tlearn: 0.0302380\ttotal: 386ms\tremaining: 216ms\n",
      "641:\tlearn: 0.0301466\ttotal: 386ms\tremaining: 215ms\n",
      "642:\tlearn: 0.0300571\ttotal: 387ms\tremaining: 215ms\n",
      "643:\tlearn: 0.0298926\ttotal: 387ms\tremaining: 214ms\n",
      "644:\tlearn: 0.0297942\ttotal: 387ms\tremaining: 213ms\n",
      "645:\tlearn: 0.0296470\ttotal: 388ms\tremaining: 213ms\n",
      "646:\tlearn: 0.0295307\ttotal: 388ms\tremaining: 212ms\n",
      "647:\tlearn: 0.0293713\ttotal: 389ms\tremaining: 211ms\n",
      "648:\tlearn: 0.0292703\ttotal: 389ms\tremaining: 210ms\n",
      "649:\tlearn: 0.0291849\ttotal: 389ms\tremaining: 210ms\n",
      "650:\tlearn: 0.0291011\ttotal: 390ms\tremaining: 209ms\n",
      "651:\tlearn: 0.0289614\ttotal: 390ms\tremaining: 208ms\n",
      "652:\tlearn: 0.0288060\ttotal: 391ms\tremaining: 208ms\n",
      "653:\tlearn: 0.0287245\ttotal: 391ms\tremaining: 207ms\n",
      "654:\tlearn: 0.0286334\ttotal: 391ms\tremaining: 206ms\n",
      "655:\tlearn: 0.0284809\ttotal: 392ms\tremaining: 206ms\n",
      "656:\tlearn: 0.0283853\ttotal: 393ms\tremaining: 205ms\n",
      "657:\tlearn: 0.0282765\ttotal: 393ms\tremaining: 204ms\n",
      "658:\tlearn: 0.0281977\ttotal: 393ms\tremaining: 204ms\n",
      "659:\tlearn: 0.0280902\ttotal: 394ms\tremaining: 203ms\n",
      "660:\tlearn: 0.0279642\ttotal: 394ms\tremaining: 202ms\n",
      "661:\tlearn: 0.0278877\ttotal: 395ms\tremaining: 202ms\n",
      "662:\tlearn: 0.0277837\ttotal: 395ms\tremaining: 201ms\n",
      "663:\tlearn: 0.0276618\ttotal: 396ms\tremaining: 200ms\n",
      "664:\tlearn: 0.0275152\ttotal: 396ms\tremaining: 200ms\n",
      "665:\tlearn: 0.0274225\ttotal: 396ms\tremaining: 199ms\n",
      "666:\tlearn: 0.0273486\ttotal: 397ms\tremaining: 198ms\n",
      "667:\tlearn: 0.0272234\ttotal: 397ms\tremaining: 197ms\n",
      "668:\tlearn: 0.0271049\ttotal: 397ms\tremaining: 197ms\n",
      "669:\tlearn: 0.0269764\ttotal: 398ms\tremaining: 196ms\n",
      "670:\tlearn: 0.0268870\ttotal: 398ms\tremaining: 195ms\n",
      "671:\tlearn: 0.0267706\ttotal: 399ms\tremaining: 195ms\n",
      "672:\tlearn: 0.0266497\ttotal: 399ms\tremaining: 194ms\n",
      "673:\tlearn: 0.0265531\ttotal: 399ms\tremaining: 193ms\n",
      "674:\tlearn: 0.0264656\ttotal: 400ms\tremaining: 193ms\n",
      "675:\tlearn: 0.0263424\ttotal: 400ms\tremaining: 192ms\n",
      "676:\tlearn: 0.0262570\ttotal: 401ms\tremaining: 191ms\n",
      "677:\tlearn: 0.0261367\ttotal: 401ms\tremaining: 191ms\n",
      "678:\tlearn: 0.0260297\ttotal: 402ms\tremaining: 190ms\n",
      "679:\tlearn: 0.0258744\ttotal: 402ms\tremaining: 189ms\n",
      "680:\tlearn: 0.0257547\ttotal: 402ms\tremaining: 188ms\n",
      "681:\tlearn: 0.0256452\ttotal: 403ms\tremaining: 188ms\n",
      "682:\tlearn: 0.0255299\ttotal: 403ms\tremaining: 187ms\n",
      "683:\tlearn: 0.0254548\ttotal: 404ms\tremaining: 186ms\n",
      "684:\tlearn: 0.0253572\ttotal: 404ms\tremaining: 186ms\n",
      "685:\tlearn: 0.0252557\ttotal: 405ms\tremaining: 185ms\n",
      "686:\tlearn: 0.0251771\ttotal: 405ms\tremaining: 185ms\n",
      "687:\tlearn: 0.0251013\ttotal: 406ms\tremaining: 184ms\n",
      "688:\tlearn: 0.0250091\ttotal: 406ms\tremaining: 183ms\n",
      "689:\tlearn: 0.0249065\ttotal: 407ms\tremaining: 183ms\n",
      "690:\tlearn: 0.0248283\ttotal: 407ms\tremaining: 182ms\n",
      "691:\tlearn: 0.0247355\ttotal: 408ms\tremaining: 181ms\n",
      "692:\tlearn: 0.0245888\ttotal: 408ms\tremaining: 181ms\n",
      "693:\tlearn: 0.0244571\ttotal: 409ms\tremaining: 180ms\n",
      "694:\tlearn: 0.0243568\ttotal: 409ms\tremaining: 179ms\n",
      "695:\tlearn: 0.0242284\ttotal: 410ms\tremaining: 179ms\n",
      "696:\tlearn: 0.0241309\ttotal: 410ms\tremaining: 178ms\n",
      "697:\tlearn: 0.0240059\ttotal: 410ms\tremaining: 178ms\n",
      "698:\tlearn: 0.0239067\ttotal: 411ms\tremaining: 177ms\n",
      "699:\tlearn: 0.0238166\ttotal: 411ms\tremaining: 176ms\n",
      "700:\tlearn: 0.0237080\ttotal: 412ms\tremaining: 176ms\n",
      "701:\tlearn: 0.0236090\ttotal: 412ms\tremaining: 175ms\n",
      "702:\tlearn: 0.0235379\ttotal: 413ms\tremaining: 174ms\n",
      "703:\tlearn: 0.0234345\ttotal: 413ms\tremaining: 174ms\n",
      "704:\tlearn: 0.0233281\ttotal: 414ms\tremaining: 173ms\n",
      "705:\tlearn: 0.0233094\ttotal: 414ms\tremaining: 172ms\n",
      "706:\tlearn: 0.0232909\ttotal: 415ms\tremaining: 172ms\n",
      "707:\tlearn: 0.0231953\ttotal: 415ms\tremaining: 171ms\n",
      "708:\tlearn: 0.0231772\ttotal: 416ms\tremaining: 171ms\n",
      "709:\tlearn: 0.0231397\ttotal: 416ms\tremaining: 170ms\n",
      "710:\tlearn: 0.0231219\ttotal: 417ms\tremaining: 169ms\n",
      "711:\tlearn: 0.0230290\ttotal: 417ms\tremaining: 169ms\n",
      "712:\tlearn: 0.0229613\ttotal: 418ms\tremaining: 168ms\n",
      "713:\tlearn: 0.0228614\ttotal: 418ms\tremaining: 167ms\n",
      "714:\tlearn: 0.0227580\ttotal: 419ms\tremaining: 167ms\n",
      "715:\tlearn: 0.0227407\ttotal: 419ms\tremaining: 166ms\n",
      "716:\tlearn: 0.0227236\ttotal: 420ms\tremaining: 166ms\n",
      "717:\tlearn: 0.0226544\ttotal: 420ms\tremaining: 165ms\n",
      "718:\tlearn: 0.0225537\ttotal: 420ms\tremaining: 164ms\n",
      "719:\tlearn: 0.0224966\ttotal: 421ms\tremaining: 164ms\n",
      "720:\tlearn: 0.0224811\ttotal: 421ms\tremaining: 163ms\n",
      "721:\tlearn: 0.0223940\ttotal: 422ms\tremaining: 162ms\n",
      "722:\tlearn: 0.0223397\ttotal: 422ms\tremaining: 162ms\n",
      "723:\tlearn: 0.0222449\ttotal: 423ms\tremaining: 161ms\n",
      "724:\tlearn: 0.0221547\ttotal: 423ms\tremaining: 160ms\n",
      "725:\tlearn: 0.0220762\ttotal: 423ms\tremaining: 160ms\n",
      "726:\tlearn: 0.0220613\ttotal: 424ms\tremaining: 159ms\n",
      "727:\tlearn: 0.0219853\ttotal: 424ms\tremaining: 159ms\n",
      "728:\tlearn: 0.0218625\ttotal: 431ms\tremaining: 160ms\n",
      "729:\tlearn: 0.0217856\ttotal: 433ms\tremaining: 160ms\n",
      "730:\tlearn: 0.0217003\ttotal: 433ms\tremaining: 159ms\n",
      "731:\tlearn: 0.0216256\ttotal: 433ms\tremaining: 159ms\n",
      "732:\tlearn: 0.0215422\ttotal: 434ms\tremaining: 158ms\n",
      "733:\tlearn: 0.0214776\ttotal: 435ms\tremaining: 158ms\n",
      "734:\tlearn: 0.0214041\ttotal: 435ms\tremaining: 157ms\n",
      "735:\tlearn: 0.0213347\ttotal: 436ms\tremaining: 156ms\n",
      "736:\tlearn: 0.0212724\ttotal: 436ms\tremaining: 156ms\n",
      "737:\tlearn: 0.0212164\ttotal: 437ms\tremaining: 155ms\n",
      "738:\tlearn: 0.0211626\ttotal: 437ms\tremaining: 154ms\n",
      "739:\tlearn: 0.0210823\ttotal: 438ms\tremaining: 154ms\n",
      "740:\tlearn: 0.0210048\ttotal: 438ms\tremaining: 153ms\n",
      "741:\tlearn: 0.0209523\ttotal: 439ms\tremaining: 153ms\n",
      "742:\tlearn: 0.0209385\ttotal: 439ms\tremaining: 152ms\n",
      "743:\tlearn: 0.0208627\ttotal: 440ms\tremaining: 151ms\n",
      "744:\tlearn: 0.0208117\ttotal: 440ms\tremaining: 151ms\n",
      "745:\tlearn: 0.0207982\ttotal: 441ms\tremaining: 150ms\n",
      "746:\tlearn: 0.0207241\ttotal: 441ms\tremaining: 149ms\n",
      "747:\tlearn: 0.0206627\ttotal: 442ms\tremaining: 149ms\n",
      "748:\tlearn: 0.0205923\ttotal: 442ms\tremaining: 148ms\n",
      "749:\tlearn: 0.0205792\ttotal: 443ms\tremaining: 148ms\n",
      "750:\tlearn: 0.0205195\ttotal: 443ms\tremaining: 147ms\n",
      "751:\tlearn: 0.0204507\ttotal: 444ms\tremaining: 146ms\n",
      "752:\tlearn: 0.0204379\ttotal: 444ms\tremaining: 146ms\n",
      "753:\tlearn: 0.0204253\ttotal: 445ms\tremaining: 145ms\n",
      "754:\tlearn: 0.0203579\ttotal: 445ms\tremaining: 145ms\n",
      "755:\tlearn: 0.0203001\ttotal: 446ms\tremaining: 144ms\n",
      "756:\tlearn: 0.0202461\ttotal: 446ms\tremaining: 143ms\n",
      "757:\tlearn: 0.0201838\ttotal: 447ms\tremaining: 143ms\n",
      "758:\tlearn: 0.0201232\ttotal: 447ms\tremaining: 142ms\n",
      "759:\tlearn: 0.0200458\ttotal: 448ms\tremaining: 141ms\n",
      "760:\tlearn: 0.0200336\ttotal: 448ms\tremaining: 141ms\n",
      "761:\tlearn: 0.0199577\ttotal: 449ms\tremaining: 140ms\n",
      "762:\tlearn: 0.0199455\ttotal: 450ms\tremaining: 140ms\n",
      "763:\tlearn: 0.0198919\ttotal: 450ms\tremaining: 139ms\n",
      "764:\tlearn: 0.0198799\ttotal: 450ms\tremaining: 138ms\n",
      "765:\tlearn: 0.0198151\ttotal: 451ms\tremaining: 138ms\n",
      "766:\tlearn: 0.0197597\ttotal: 451ms\tremaining: 137ms\n",
      "767:\tlearn: 0.0197480\ttotal: 452ms\tremaining: 137ms\n",
      "768:\tlearn: 0.0196846\ttotal: 452ms\tremaining: 136ms\n",
      "769:\tlearn: 0.0196731\ttotal: 453ms\tremaining: 135ms\n",
      "770:\tlearn: 0.0196193\ttotal: 453ms\tremaining: 135ms\n",
      "771:\tlearn: 0.0195559\ttotal: 454ms\tremaining: 134ms\n",
      "772:\tlearn: 0.0195046\ttotal: 454ms\tremaining: 133ms\n",
      "773:\tlearn: 0.0194311\ttotal: 455ms\tremaining: 133ms\n",
      "774:\tlearn: 0.0193665\ttotal: 462ms\tremaining: 134ms\n",
      "775:\tlearn: 0.0193035\ttotal: 462ms\tremaining: 133ms\n",
      "776:\tlearn: 0.0192504\ttotal: 463ms\tremaining: 133ms\n",
      "777:\tlearn: 0.0192005\ttotal: 463ms\tremaining: 132ms\n",
      "778:\tlearn: 0.0191707\ttotal: 464ms\tremaining: 132ms\n",
      "779:\tlearn: 0.0191140\ttotal: 464ms\tremaining: 131ms\n",
      "780:\tlearn: 0.0190135\ttotal: 465ms\tremaining: 130ms\n",
      "781:\tlearn: 0.0189846\ttotal: 465ms\tremaining: 130ms\n",
      "782:\tlearn: 0.0189338\ttotal: 466ms\tremaining: 129ms\n",
      "783:\tlearn: 0.0188785\ttotal: 466ms\tremaining: 128ms\n",
      "784:\tlearn: 0.0188504\ttotal: 467ms\tremaining: 128ms\n",
      "785:\tlearn: 0.0188010\ttotal: 467ms\tremaining: 127ms\n",
      "786:\tlearn: 0.0187032\ttotal: 468ms\tremaining: 127ms\n",
      "787:\tlearn: 0.0186143\ttotal: 468ms\tremaining: 126ms\n",
      "788:\tlearn: 0.0185398\ttotal: 468ms\tremaining: 125ms\n",
      "789:\tlearn: 0.0185029\ttotal: 469ms\tremaining: 125ms\n",
      "790:\tlearn: 0.0184664\ttotal: 469ms\tremaining: 124ms\n",
      "791:\tlearn: 0.0184286\ttotal: 470ms\tremaining: 123ms\n",
      "792:\tlearn: 0.0183373\ttotal: 470ms\tremaining: 123ms\n",
      "793:\tlearn: 0.0182711\ttotal: 471ms\tremaining: 122ms\n",
      "794:\tlearn: 0.0181793\ttotal: 471ms\tremaining: 121ms\n",
      "795:\tlearn: 0.0181301\ttotal: 471ms\tremaining: 121ms\n",
      "796:\tlearn: 0.0181093\ttotal: 472ms\tremaining: 120ms\n",
      "797:\tlearn: 0.0181004\ttotal: 472ms\tremaining: 120ms\n",
      "798:\tlearn: 0.0180135\ttotal: 472ms\tremaining: 119ms\n",
      "799:\tlearn: 0.0179360\ttotal: 473ms\tremaining: 118ms\n",
      "800:\tlearn: 0.0178726\ttotal: 473ms\tremaining: 118ms\n",
      "801:\tlearn: 0.0177857\ttotal: 474ms\tremaining: 117ms\n",
      "802:\tlearn: 0.0177450\ttotal: 474ms\tremaining: 116ms\n"
     ]
    },
    {
     "name": "stdout",
     "output_type": "stream",
     "text": [
      "803:\tlearn: 0.0177362\ttotal: 475ms\tremaining: 116ms\n",
      "804:\tlearn: 0.0176898\ttotal: 476ms\tremaining: 115ms\n",
      "805:\tlearn: 0.0176775\ttotal: 476ms\tremaining: 115ms\n",
      "806:\tlearn: 0.0176307\ttotal: 476ms\tremaining: 114ms\n",
      "807:\tlearn: 0.0175846\ttotal: 477ms\tremaining: 113ms\n",
      "808:\tlearn: 0.0174959\ttotal: 477ms\tremaining: 113ms\n",
      "809:\tlearn: 0.0174873\ttotal: 478ms\tremaining: 112ms\n",
      "810:\tlearn: 0.0174485\ttotal: 478ms\tremaining: 111ms\n",
      "811:\tlearn: 0.0174400\ttotal: 478ms\tremaining: 111ms\n",
      "812:\tlearn: 0.0173532\ttotal: 479ms\tremaining: 110ms\n",
      "813:\tlearn: 0.0173449\ttotal: 479ms\tremaining: 110ms\n",
      "814:\tlearn: 0.0173006\ttotal: 480ms\tremaining: 109ms\n",
      "815:\tlearn: 0.0172160\ttotal: 480ms\tremaining: 108ms\n",
      "816:\tlearn: 0.0171774\ttotal: 481ms\tremaining: 108ms\n",
      "817:\tlearn: 0.0171332\ttotal: 481ms\tremaining: 107ms\n",
      "818:\tlearn: 0.0170892\ttotal: 482ms\tremaining: 107ms\n",
      "819:\tlearn: 0.0170064\ttotal: 482ms\tremaining: 106ms\n",
      "820:\tlearn: 0.0169261\ttotal: 483ms\tremaining: 105ms\n",
      "821:\tlearn: 0.0168509\ttotal: 483ms\tremaining: 105ms\n",
      "822:\tlearn: 0.0168120\ttotal: 484ms\tremaining: 104ms\n",
      "823:\tlearn: 0.0167821\ttotal: 484ms\tremaining: 103ms\n",
      "824:\tlearn: 0.0167476\ttotal: 485ms\tremaining: 103ms\n",
      "825:\tlearn: 0.0166527\ttotal: 485ms\tremaining: 102ms\n",
      "826:\tlearn: 0.0166013\ttotal: 486ms\tremaining: 102ms\n",
      "827:\tlearn: 0.0165076\ttotal: 486ms\tremaining: 101ms\n",
      "828:\tlearn: 0.0164664\ttotal: 486ms\tremaining: 100ms\n",
      "829:\tlearn: 0.0163749\ttotal: 487ms\tremaining: 99.8ms\n",
      "830:\tlearn: 0.0162854\ttotal: 488ms\tremaining: 99.2ms\n",
      "831:\tlearn: 0.0162552\ttotal: 488ms\tremaining: 98.5ms\n",
      "832:\tlearn: 0.0161658\ttotal: 489ms\tremaining: 97.9ms\n",
      "833:\tlearn: 0.0161007\ttotal: 489ms\tremaining: 97.3ms\n",
      "834:\tlearn: 0.0160567\ttotal: 489ms\tremaining: 96.7ms\n",
      "835:\tlearn: 0.0160197\ttotal: 490ms\tremaining: 96.1ms\n",
      "836:\tlearn: 0.0159718\ttotal: 490ms\tremaining: 95.5ms\n",
      "837:\tlearn: 0.0159327\ttotal: 491ms\tremaining: 94.9ms\n",
      "838:\tlearn: 0.0158481\ttotal: 491ms\tremaining: 94.2ms\n",
      "839:\tlearn: 0.0158123\ttotal: 492ms\tremaining: 93.6ms\n",
      "840:\tlearn: 0.0157505\ttotal: 492ms\tremaining: 93ms\n",
      "841:\tlearn: 0.0156746\ttotal: 492ms\tremaining: 92.4ms\n",
      "842:\tlearn: 0.0156284\ttotal: 493ms\tremaining: 91.8ms\n",
      "843:\tlearn: 0.0155698\ttotal: 493ms\tremaining: 91.2ms\n",
      "844:\tlearn: 0.0155156\ttotal: 494ms\tremaining: 90.5ms\n",
      "845:\tlearn: 0.0154737\ttotal: 494ms\tremaining: 89.9ms\n",
      "846:\tlearn: 0.0154281\ttotal: 494ms\tremaining: 89.3ms\n",
      "847:\tlearn: 0.0153750\ttotal: 495ms\tremaining: 88.7ms\n",
      "848:\tlearn: 0.0153230\ttotal: 495ms\tremaining: 88.1ms\n",
      "849:\tlearn: 0.0152835\ttotal: 496ms\tremaining: 87.5ms\n",
      "850:\tlearn: 0.0152510\ttotal: 496ms\tremaining: 86.9ms\n",
      "851:\tlearn: 0.0151723\ttotal: 497ms\tremaining: 86.3ms\n",
      "852:\tlearn: 0.0151276\ttotal: 497ms\tremaining: 85.7ms\n",
      "853:\tlearn: 0.0150504\ttotal: 498ms\tremaining: 85.1ms\n",
      "854:\tlearn: 0.0150004\ttotal: 498ms\tremaining: 84.5ms\n",
      "855:\tlearn: 0.0149246\ttotal: 499ms\tremaining: 83.9ms\n",
      "856:\tlearn: 0.0148828\ttotal: 499ms\tremaining: 83.3ms\n",
      "857:\tlearn: 0.0148393\ttotal: 499ms\tremaining: 82.7ms\n",
      "858:\tlearn: 0.0147653\ttotal: 500ms\tremaining: 82ms\n",
      "859:\tlearn: 0.0147245\ttotal: 500ms\tremaining: 81.4ms\n",
      "860:\tlearn: 0.0146520\ttotal: 501ms\tremaining: 80.8ms\n",
      "861:\tlearn: 0.0146116\ttotal: 501ms\tremaining: 80.2ms\n",
      "862:\tlearn: 0.0145720\ttotal: 502ms\tremaining: 79.6ms\n",
      "863:\tlearn: 0.0145064\ttotal: 502ms\tremaining: 79ms\n",
      "864:\tlearn: 0.0144675\ttotal: 503ms\tremaining: 78.5ms\n",
      "865:\tlearn: 0.0144293\ttotal: 503ms\tremaining: 77.9ms\n",
      "866:\tlearn: 0.0143648\ttotal: 504ms\tremaining: 77.3ms\n",
      "867:\tlearn: 0.0143291\ttotal: 504ms\tremaining: 76.7ms\n",
      "868:\tlearn: 0.0142835\ttotal: 505ms\tremaining: 76.1ms\n",
      "869:\tlearn: 0.0142207\ttotal: 505ms\tremaining: 75.5ms\n",
      "870:\tlearn: 0.0141789\ttotal: 506ms\tremaining: 74.9ms\n",
      "871:\tlearn: 0.0141378\ttotal: 506ms\tremaining: 74.3ms\n",
      "872:\tlearn: 0.0140759\ttotal: 507ms\tremaining: 73.7ms\n",
      "873:\tlearn: 0.0140357\ttotal: 507ms\tremaining: 73.1ms\n",
      "874:\tlearn: 0.0139751\ttotal: 508ms\tremaining: 72.5ms\n",
      "875:\tlearn: 0.0139358\ttotal: 508ms\tremaining: 71.9ms\n",
      "876:\tlearn: 0.0138764\ttotal: 509ms\tremaining: 71.3ms\n",
      "877:\tlearn: 0.0138380\ttotal: 509ms\tremaining: 70.7ms\n",
      "878:\tlearn: 0.0137900\ttotal: 510ms\tremaining: 70.1ms\n",
      "879:\tlearn: 0.0137306\ttotal: 510ms\tremaining: 69.5ms\n",
      "880:\tlearn: 0.0137025\ttotal: 511ms\tremaining: 69ms\n",
      "881:\tlearn: 0.0136650\ttotal: 511ms\tremaining: 68.4ms\n",
      "882:\tlearn: 0.0136185\ttotal: 511ms\tremaining: 67.8ms\n",
      "883:\tlearn: 0.0135809\ttotal: 512ms\tremaining: 67.2ms\n",
      "884:\tlearn: 0.0135441\ttotal: 512ms\tremaining: 66.6ms\n",
      "885:\tlearn: 0.0134927\ttotal: 513ms\tremaining: 66ms\n",
      "886:\tlearn: 0.0134462\ttotal: 513ms\tremaining: 65.4ms\n",
      "887:\tlearn: 0.0134016\ttotal: 514ms\tremaining: 64.8ms\n",
      "888:\tlearn: 0.0133501\ttotal: 514ms\tremaining: 64.2ms\n",
      "889:\tlearn: 0.0132998\ttotal: 514ms\tremaining: 63.6ms\n",
      "890:\tlearn: 0.0132900\ttotal: 515ms\tremaining: 63ms\n",
      "891:\tlearn: 0.0132803\ttotal: 515ms\tremaining: 62.4ms\n",
      "892:\tlearn: 0.0132557\ttotal: 516ms\tremaining: 61.8ms\n",
      "893:\tlearn: 0.0132171\ttotal: 516ms\tremaining: 61.2ms\n",
      "894:\tlearn: 0.0131818\ttotal: 516ms\tremaining: 60.6ms\n",
      "895:\tlearn: 0.0131723\ttotal: 517ms\tremaining: 60ms\n",
      "896:\tlearn: 0.0131485\ttotal: 517ms\tremaining: 59.4ms\n",
      "897:\tlearn: 0.0131325\ttotal: 517ms\tremaining: 58.8ms\n",
      "898:\tlearn: 0.0131232\ttotal: 518ms\tremaining: 58.2ms\n",
      "899:\tlearn: 0.0131007\ttotal: 518ms\tremaining: 57.6ms\n",
      "900:\tlearn: 0.0130634\ttotal: 519ms\tremaining: 57ms\n",
      "901:\tlearn: 0.0130292\ttotal: 519ms\tremaining: 56.4ms\n",
      "902:\tlearn: 0.0129956\ttotal: 519ms\tremaining: 55.8ms\n",
      "903:\tlearn: 0.0129801\ttotal: 520ms\tremaining: 55.2ms\n",
      "904:\tlearn: 0.0129583\ttotal: 520ms\tremaining: 54.6ms\n",
      "905:\tlearn: 0.0129431\ttotal: 520ms\tremaining: 54ms\n",
      "906:\tlearn: 0.0129205\ttotal: 521ms\tremaining: 53.4ms\n",
      "907:\tlearn: 0.0128844\ttotal: 521ms\tremaining: 52.8ms\n",
      "908:\tlearn: 0.0128517\ttotal: 522ms\tremaining: 52.2ms\n",
      "909:\tlearn: 0.0128179\ttotal: 522ms\tremaining: 51.6ms\n",
      "910:\tlearn: 0.0127920\ttotal: 523ms\tremaining: 51.1ms\n",
      "911:\tlearn: 0.0127427\ttotal: 523ms\tremaining: 50.5ms\n",
      "912:\tlearn: 0.0127176\ttotal: 523ms\tremaining: 49.9ms\n",
      "913:\tlearn: 0.0126847\ttotal: 524ms\tremaining: 49.3ms\n",
      "914:\tlearn: 0.0126381\ttotal: 524ms\tremaining: 48.7ms\n",
      "915:\tlearn: 0.0126134\ttotal: 525ms\tremaining: 48.1ms\n",
      "916:\tlearn: 0.0125783\ttotal: 525ms\tremaining: 47.5ms\n",
      "917:\tlearn: 0.0125465\ttotal: 526ms\tremaining: 47ms\n",
      "918:\tlearn: 0.0125152\ttotal: 526ms\tremaining: 46.4ms\n",
      "919:\tlearn: 0.0125009\ttotal: 527ms\tremaining: 45.8ms\n",
      "920:\tlearn: 0.0124789\ttotal: 527ms\tremaining: 45.2ms\n",
      "921:\tlearn: 0.0124449\ttotal: 527ms\tremaining: 44.6ms\n",
      "922:\tlearn: 0.0124142\ttotal: 528ms\tremaining: 44ms\n",
      "923:\tlearn: 0.0123591\ttotal: 528ms\tremaining: 43.4ms\n",
      "924:\tlearn: 0.0123452\ttotal: 529ms\tremaining: 42.9ms\n",
      "925:\tlearn: 0.0123204\ttotal: 529ms\tremaining: 42.3ms\n",
      "926:\tlearn: 0.0122666\ttotal: 530ms\tremaining: 41.7ms\n",
      "927:\tlearn: 0.0122584\ttotal: 530ms\tremaining: 41.1ms\n",
      "928:\tlearn: 0.0122462\ttotal: 531ms\tremaining: 40.5ms\n",
      "929:\tlearn: 0.0122219\ttotal: 531ms\tremaining: 40ms\n",
      "930:\tlearn: 0.0121894\ttotal: 532ms\tremaining: 39.4ms\n",
      "931:\tlearn: 0.0121466\ttotal: 532ms\tremaining: 38.8ms\n",
      "932:\tlearn: 0.0121228\ttotal: 532ms\tremaining: 38.2ms\n",
      "933:\tlearn: 0.0120989\ttotal: 533ms\tremaining: 37.7ms\n",
      "934:\tlearn: 0.0120469\ttotal: 534ms\tremaining: 37.1ms\n",
      "935:\tlearn: 0.0120324\ttotal: 534ms\tremaining: 36.5ms\n",
      "936:\tlearn: 0.0119894\ttotal: 534ms\tremaining: 35.9ms\n",
      "937:\tlearn: 0.0119577\ttotal: 535ms\tremaining: 35.4ms\n",
      "938:\tlearn: 0.0119145\ttotal: 535ms\tremaining: 34.8ms\n",
      "939:\tlearn: 0.0118867\ttotal: 536ms\tremaining: 34.2ms\n",
      "940:\tlearn: 0.0118456\ttotal: 536ms\tremaining: 33.6ms\n",
      "941:\tlearn: 0.0118378\ttotal: 537ms\tremaining: 33.1ms\n",
      "942:\tlearn: 0.0117976\ttotal: 537ms\tremaining: 32.5ms\n",
      "943:\tlearn: 0.0117899\ttotal: 538ms\tremaining: 31.9ms\n",
      "944:\tlearn: 0.0117449\ttotal: 538ms\tremaining: 31.3ms\n",
      "945:\tlearn: 0.0117199\ttotal: 539ms\tremaining: 30.8ms\n",
      "946:\tlearn: 0.0117144\ttotal: 539ms\tremaining: 30.2ms\n",
      "947:\tlearn: 0.0117022\ttotal: 539ms\tremaining: 29.6ms\n",
      "948:\tlearn: 0.0116526\ttotal: 540ms\tremaining: 29ms\n",
      "949:\tlearn: 0.0116138\ttotal: 540ms\tremaining: 28.4ms\n",
      "950:\tlearn: 0.0116083\ttotal: 541ms\tremaining: 27.9ms\n",
      "951:\tlearn: 0.0115963\ttotal: 541ms\tremaining: 27.3ms\n",
      "952:\tlearn: 0.0115629\ttotal: 542ms\tremaining: 26.7ms\n",
      "953:\tlearn: 0.0115348\ttotal: 542ms\tremaining: 26.2ms\n",
      "954:\tlearn: 0.0114968\ttotal: 543ms\tremaining: 25.6ms\n",
      "955:\tlearn: 0.0114754\ttotal: 543ms\tremaining: 25ms\n",
      "956:\tlearn: 0.0114384\ttotal: 544ms\tremaining: 24.4ms\n",
      "957:\tlearn: 0.0113956\ttotal: 544ms\tremaining: 23.9ms\n",
      "958:\tlearn: 0.0113840\ttotal: 545ms\tremaining: 23.3ms\n",
      "959:\tlearn: 0.0113651\ttotal: 545ms\tremaining: 22.7ms\n",
      "960:\tlearn: 0.0113432\ttotal: 546ms\tremaining: 22.1ms\n",
      "961:\tlearn: 0.0113109\ttotal: 546ms\tremaining: 21.6ms\n",
      "962:\tlearn: 0.0112837\ttotal: 547ms\tremaining: 21ms\n",
      "963:\tlearn: 0.0112569\ttotal: 547ms\tremaining: 20.4ms\n",
      "964:\tlearn: 0.0112158\ttotal: 548ms\tremaining: 19.9ms\n",
      "965:\tlearn: 0.0111689\ttotal: 548ms\tremaining: 19.3ms\n",
      "966:\tlearn: 0.0111226\ttotal: 548ms\tremaining: 18.7ms\n",
      "967:\tlearn: 0.0110774\ttotal: 549ms\tremaining: 18.1ms\n",
      "968:\tlearn: 0.0110467\ttotal: 549ms\tremaining: 17.6ms\n",
      "969:\tlearn: 0.0110209\ttotal: 549ms\tremaining: 17ms\n",
      "970:\tlearn: 0.0109853\ttotal: 550ms\tremaining: 16.4ms\n",
      "971:\tlearn: 0.0109415\ttotal: 550ms\tremaining: 15.8ms\n",
      "972:\tlearn: 0.0109068\ttotal: 550ms\tremaining: 15.3ms\n",
      "973:\tlearn: 0.0108737\ttotal: 551ms\tremaining: 14.7ms\n",
      "974:\tlearn: 0.0108503\ttotal: 551ms\tremaining: 14.1ms\n",
      "975:\tlearn: 0.0108163\ttotal: 552ms\tremaining: 13.6ms\n",
      "976:\tlearn: 0.0108042\ttotal: 552ms\tremaining: 13ms\n",
      "977:\tlearn: 0.0107711\ttotal: 552ms\tremaining: 12.4ms\n",
      "978:\tlearn: 0.0107592\ttotal: 553ms\tremaining: 11.9ms\n",
      "979:\tlearn: 0.0107296\ttotal: 553ms\tremaining: 11.3ms\n",
      "980:\tlearn: 0.0107048\ttotal: 553ms\tremaining: 10.7ms\n",
      "981:\tlearn: 0.0106779\ttotal: 554ms\tremaining: 10.2ms\n",
      "982:\tlearn: 0.0106490\ttotal: 554ms\tremaining: 9.59ms\n",
      "983:\tlearn: 0.0106247\ttotal: 555ms\tremaining: 9.02ms\n",
      "984:\tlearn: 0.0105870\ttotal: 555ms\tremaining: 8.46ms\n",
      "985:\tlearn: 0.0105365\ttotal: 556ms\tremaining: 7.89ms\n"
     ]
    },
    {
     "name": "stdout",
     "output_type": "stream",
     "text": [
      "986:\tlearn: 0.0104946\ttotal: 556ms\tremaining: 7.33ms\n",
      "987:\tlearn: 0.0104454\ttotal: 557ms\tremaining: 6.76ms\n",
      "988:\tlearn: 0.0104185\ttotal: 557ms\tremaining: 6.2ms\n",
      "989:\tlearn: 0.0103828\ttotal: 558ms\tremaining: 5.63ms\n",
      "990:\tlearn: 0.0103434\ttotal: 558ms\tremaining: 5.07ms\n",
      "991:\tlearn: 0.0102955\ttotal: 559ms\tremaining: 4.51ms\n",
      "992:\tlearn: 0.0102851\ttotal: 559ms\tremaining: 3.94ms\n",
      "993:\tlearn: 0.0102503\ttotal: 559ms\tremaining: 3.38ms\n",
      "994:\tlearn: 0.0102105\ttotal: 560ms\tremaining: 2.81ms\n",
      "995:\tlearn: 0.0101848\ttotal: 560ms\tremaining: 2.25ms\n",
      "996:\tlearn: 0.0101596\ttotal: 561ms\tremaining: 1.69ms\n",
      "997:\tlearn: 0.0101284\ttotal: 561ms\tremaining: 1.12ms\n",
      "998:\tlearn: 0.0100718\ttotal: 562ms\tremaining: 562us\n",
      "999:\tlearn: 0.0100163\ttotal: 562ms\tremaining: 0us\n"
     ]
    },
    {
     "data": {
      "text/plain": [
       "<catboost.core.CatBoostRegressor at 0x7fdab8fa8130>"
      ]
     },
     "execution_count": 9,
     "metadata": {},
     "output_type": "execute_result"
    }
   ],
   "source": [
    "#Train the Model \n",
    "prior_model = ctb.CatBoostRegressor()\n",
    "prior_model.fit(X_train,Y_train)"
   ]
  },
  {
   "cell_type": "code",
   "execution_count": 10,
   "id": "af65dcda",
   "metadata": {
    "execution": {
     "iopub.execute_input": "2022-05-18T08:49:47.490452Z",
     "iopub.status.busy": "2022-05-18T08:49:47.490053Z",
     "iopub.status.idle": "2022-05-18T08:49:47.497546Z",
     "shell.execute_reply": "2022-05-18T08:49:47.497835Z"
    },
    "id": "af65dcda",
    "papermill": {
     "duration": 0.020129,
     "end_time": "2022-05-18T08:49:47.497954",
     "exception": false,
     "start_time": "2022-05-18T08:49:47.477825",
     "status": "completed"
    },
    "tags": []
   },
   "outputs": [
    {
     "data": {
      "application/scrapbook.scrap.json+json": {
       "data": 0.1903659563757405,
       "encoder": "json",
       "name": "Prior Model MSE",
       "version": 1
      }
     },
     "metadata": {
      "scrapbook": {
       "data": true,
       "display": false,
       "name": "Prior Model MSE"
      }
     },
     "output_type": "display_data"
    },
    {
     "data": {
      "application/scrapbook.scrap.json+json": {
       "data": 0.20548246403988762,
       "encoder": "json",
       "name": "ABC Pre-generator MSE",
       "version": 1
      }
     },
     "metadata": {
      "scrapbook": {
       "data": true,
       "display": false,
       "name": "ABC Pre-generator MSE"
      }
     },
     "output_type": "display_data"
    },
    {
     "data": {
      "application/scrapbook.scrap.json+json": {
       "data": 0.3146935874563449,
       "encoder": "json",
       "name": "Prior Model MAE",
       "version": 1
      }
     },
     "metadata": {
      "scrapbook": {
       "data": true,
       "display": false,
       "name": "Prior Model MAE"
      }
     },
     "output_type": "display_data"
    },
    {
     "data": {
      "application/scrapbook.scrap.json+json": {
       "data": 0.3260776076035688,
       "encoder": "json",
       "name": "ABC Pre-generator MAE",
       "version": 1
      }
     },
     "metadata": {
      "scrapbook": {
       "data": true,
       "display": false,
       "name": "ABC Pre-generator MAE"
      }
     },
     "output_type": "display_data"
    }
   ],
   "source": [
    "y_pred = prior_model.predict(X_test)\n",
    "y_abc = y_pred + np.random.normal(0,variance, y_pred.shape)\n",
    "mse = mean_squared_error(y_pred,Y_test)\n",
    "sb.glue(\"Prior Model MSE\",mse)\n",
    "mse = mean_squared_error(y_abc,Y_test)\n",
    "sb.glue(\"ABC Pre-generator MSE\",mse)\n",
    "\n",
    "mae = mean_absolute_error(y_pred,Y_test)\n",
    "sb.glue(\"Prior Model MAE\",mae)\n",
    "mae = mean_absolute_error(y_abc,Y_test)\n",
    "sb.glue(\"ABC Pre-generator MAE\",mae)"
   ]
  },
  {
   "cell_type": "markdown",
   "id": "25609da2",
   "metadata": {
    "papermill": {
     "duration": 0.009436,
     "end_time": "2022-05-18T08:49:47.517204",
     "exception": false,
     "start_time": "2022-05-18T08:49:47.507768",
     "status": "completed"
    },
    "tags": []
   },
   "source": [
    "# ABC GAN Model"
   ]
  },
  {
   "cell_type": "code",
   "execution_count": 11,
   "id": "dfc3464d",
   "metadata": {
    "execution": {
     "iopub.execute_input": "2022-05-18T08:49:47.539360Z",
     "iopub.status.busy": "2022-05-18T08:49:47.538979Z",
     "iopub.status.idle": "2022-05-18T08:49:47.541213Z",
     "shell.execute_reply": "2022-05-18T08:49:47.541452Z"
    },
    "papermill": {
     "duration": 0.014966,
     "end_time": "2022-05-18T08:49:47.541564",
     "exception": false,
     "start_time": "2022-05-18T08:49:47.526598",
     "status": "completed"
    },
    "tags": []
   },
   "outputs": [],
   "source": [
    "gen = network.Generator(n_features+1).to(device)\n",
    "disc = network.Discriminator(n_features+1).to(device)\n",
    "\n",
    "criterion = torch.nn.BCELoss()\n",
    "gen_opt = torch.optim.Adam(gen.parameters(), lr=0.001, betas=(0.5, 0.999))\n",
    "disc_opt = torch.optim.Adam(disc.parameters(), lr=0.001, betas=(0.5, 0.999))"
   ]
  },
  {
   "cell_type": "code",
   "execution_count": 12,
   "id": "b75fdd85",
   "metadata": {
    "execution": {
     "iopub.execute_input": "2022-05-18T08:49:47.563001Z",
     "iopub.status.busy": "2022-05-18T08:49:47.562638Z",
     "iopub.status.idle": "2022-05-18T08:50:03.042350Z",
     "shell.execute_reply": "2022-05-18T08:50:03.042660Z"
    },
    "papermill": {
     "duration": 15.491582,
     "end_time": "2022-05-18T08:50:03.042785",
     "exception": false,
     "start_time": "2022-05-18T08:49:47.551203",
     "status": "completed"
    },
    "tags": []
   },
   "outputs": [
    {
     "data": {
      "image/png": "[encoded data removed]",
      "text/plain": [
       "<Figure size 432x288 with 1 Axes>"
      ]
     },
     "metadata": {
      "needs_background": "light"
     },
     "output_type": "display_data"
    },
    {
     "data": {
      "image/png": "[encoded data removed]",
      "text/plain": [
       "<Figure size 432x288 with 1 Axes>"
      ]
     },
     "metadata": {
      "needs_background": "light"
     },
     "output_type": "display_data"
    }
   ],
   "source": [
    "#Training the ABC_GAN \n",
    "ABC_train_test2.training_GAN(disc,gen,disc_opt,gen_opt,train_data,batch_size,n_epochs,criterion,prior_model,variance,0,device)"
   ]
  },
  {
   "cell_type": "code",
   "execution_count": 13,
   "id": "1fa7c368",
   "metadata": {
    "execution": {
     "iopub.execute_input": "2022-05-18T08:50:03.066720Z",
     "iopub.status.busy": "2022-05-18T08:50:03.066266Z",
     "iopub.status.idle": "2022-05-18T08:50:03.262354Z",
     "shell.execute_reply": "2022-05-18T08:50:03.262764Z"
    },
    "papermill": {
     "duration": 0.209386,
     "end_time": "2022-05-18T08:50:03.262892",
     "exception": false,
     "start_time": "2022-05-18T08:50:03.053506",
     "status": "completed"
    },
    "tags": []
   },
   "outputs": [
    {
     "data": {
      "application/scrapbook.scrap.json+json": {
       "data": 0.1922917615077465,
       "encoder": "json",
       "name": "ABC-GAN Model 1 MSE",
       "version": 1
      }
     },
     "metadata": {
      "scrapbook": {
       "data": true,
       "display": false,
       "name": "ABC-GAN Model 1 MSE"
      }
     },
     "output_type": "display_data"
    },
    {
     "data": {
      "application/scrapbook.scrap.json+json": {
       "data": 0.3411151322145015,
       "encoder": "json",
       "name": "ABC-GAN Model 1 MAE",
       "version": 1
      }
     },
     "metadata": {
      "scrapbook": {
       "data": true,
       "display": false,
       "name": "ABC-GAN Model 1 MAE"
      }
     },
     "output_type": "display_data"
    },
    {
     "data": {
      "application/scrapbook.scrap.json+json": {
       "data": 6.82230264429003,
       "encoder": "json",
       "name": "ABC-GAN Model 1 Manhattan Distance",
       "version": 1
      }
     },
     "metadata": {
      "scrapbook": {
       "data": true,
       "display": false,
       "name": "ABC-GAN Model 1 Manhattan Distance"
      }
     },
     "output_type": "display_data"
    },
    {
     "data": {
      "application/scrapbook.scrap.json+json": {
       "data": 1.959847732689623,
       "encoder": "json",
       "name": "ABC-GAN Model 1 Euclidean distance",
       "version": 1
      }
     },
     "metadata": {
      "scrapbook": {
       "data": true,
       "display": false,
       "name": "ABC-GAN Model 1 Euclidean distance"
      }
     },
     "output_type": "display_data"
    },
    {
     "data": {
      "application/scrapbook.scrap.json+json": {
       "data": [
        [
         0.19009290506367701,
         0.1916820902059077,
         0.17298168518429113,
         0.19666426408284846,
         0.19826960058358686,
         0.17431457476344545,
         0.17445126400677152,
         0.16667085702511883,
         0.19110635539699442,
         0.1915351289287003,
         0.18478925844807068,
         0.20577199014136668,
         0.19640669018903525,
         0.18806598130498303,
         0.18986468069843282,
         0.17296213284121573,
         0.1767872069297493,
         0.1742434842556019,
         0.22258349784887263,
         0.2001987599780275,
         0.2028106771117233,
         0.20603997172349425,
         0.2062398470849446,
         0.2085733486629755,
         0.18881023684434095,
         0.19105066459786188,
         0.2018600048626155,
         0.1693672682139309,
         0.1788807896709626,
         0.1825056866923696,
         0.1767632936102376,
         0.20507419882478356,
         0.1967713878225478,
         0.1900087735702795,
         0.19579810416791324,
         0.18710690172854325,
         0.17332945722694865,
         0.1809571464345418,
         0.20286694977581052,
         0.17352104691653997,
         0.18998177806837555,
         0.20557384280141947,
         0.17884663687393393,
         0.19976997037273928,
         0.2059038005003569,
         0.18827345364818826,
         0.1800789153921813,
         0.21539334984152977,
         0.18319110000132316,
         0.18404082010850784,
         0.18692241758148032,
         0.20917899929493444,
         0.20868638044192797,
         0.19625200742248006,
         0.1701258086450404,
         0.20602007118552282,
         0.20267329360142408,
         0.2015095306607087,
         0.17212596032374483,
         0.194227597437848,
         0.1937192750293883,
         0.21899537463287322,
         0.1883184275154745,
         0.21007449458000668,
         0.17910144057347227,
         0.17413468553527373,
         0.18114545876174984,
         0.17970088504075205,
         0.19132086344128602,
         0.1997770890089204,
         0.1907596654199839,
         0.20121812198594805,
         0.21069939626624187,
         0.16704340657216993,
         0.20863025410513666,
         0.17749931579852993,
         0.20712705042595547,
         0.19421377896433642,
         0.20576059331638108,
         0.1849643519977473,
         0.18565914264692132,
         0.19948502404066218,
         0.1901981879778179,
         0.1878384573306533,
         0.24090358636929135,
         0.1982133660967949,
         0.1681753317979766,
         0.2029018384664092,
         0.19504357781034556,
         0.18674471174426102,
         0.210611194763426,
         0.21980798690329123,
         0.19018032945234334,
         0.18955874115258,
         0.18290893272891934,
         0.19165796415852426,
         0.19113836246528612,
         0.1897443909954704,
         0.19948017797769504,
         0.1881670193006224
        ],
        [
         0.3321513246744871,
         0.3451612014323473,
         0.3112180858850479,
         0.351810485124588,
         0.33927384465932847,
         0.3365747582167387,
         0.3226259808987379,
         0.30550790317356585,
         0.3171552259474993,
         0.3213856291025877,
         0.3231838088482618,
         0.35400498397648333,
         0.3320100553333759,
         0.3376323368400335,
         0.3403964225202799,
         0.3287040442228317,
         0.3264378920197487,
         0.3265443820506334,
         0.3605927012860775,
         0.3439887449145317,
         0.34984940141439436,
         0.3525817397981882,
         0.3505676880478859,
         0.35761364847421645,
         0.34256349615752696,
         0.3377701800316572,
         0.34417949691414834,
         0.31937198899686337,
         0.3276421971619129,
         0.33373572267591955,
         0.33512689732015133,
         0.32829763777554033,
         0.3596751417964697,
         0.33273484706878664,
         0.3399782367050648,
         0.3413600571453571,
         0.3383169502019882,
         0.3542192060500383,
         0.35436151549220085,
         0.34554386138916016,
         0.34148665368556974,
         0.3621996853500605,
         0.31164273247122765,
         0.339863209053874,
         0.370712012052536,
         0.3361741598695517,
         0.34389672949910166,
         0.36464853733778,
         0.33735744990408423,
         0.34208658523857594,
         0.34319171234965323,
         0.36428850814700126,
         0.34088885635137556,
         0.3501406256109476,
         0.31775440722703935,
         0.36821243166923523,
         0.35474078729748726,
         0.32381759136915206,
         0.320270050317049,
         0.34701504856348037,
         0.3500191118568182,
         0.352052091807127,
         0.33777475357055664,
         0.3583685878664255,
         0.3422191087156534,
         0.32782901972532275,
         0.3327788729220629,
         0.3237479545176029,
         0.3363538753241301,
         0.3670380041003227,
         0.34905189722776414,
         0.3586826786398888,
         0.3573211286216974,
         0.30922764353454113,
         0.3538381328806281,
         0.33434242717921736,
         0.37160176150500773,
         0.3485249880701303,
         0.35256906822323797,
         0.32854183539748194,
         0.35082810558378696,
         0.33575249537825586,
         0.3447892118245363,
         0.3514281302690506,
         0.36886629797518256,
         0.33205925673246384,
         0.3072100095450878,
         0.3460210930556059,
         0.3343164276331663,
         0.34465834200382234,
         0.3729445621371269,
         0.3735987402498722,
         0.32355258911848067,
         0.3349231664091349,
         0.342515953630209,
         0.33856838569045067,
         0.32567088939249517,
         0.33495333082973955,
         0.33624276965856553,
         0.33849302753806115
        ],
        [
         6.643026493489742,
         6.903224028646946,
         6.224361717700958,
         7.03620970249176,
         6.785476893186569,
         6.731495164334774,
         6.452519617974758,
         6.110158063471317,
         6.3431045189499855,
         6.427712582051754,
         6.463676176965237,
         7.080099679529667,
         6.640201106667519,
         6.752646736800671,
         6.807928450405598,
         6.5740808844566345,
         6.528757840394974,
         6.530887641012669,
         7.21185402572155,
         6.879774898290634,
         6.996988028287888,
         7.051634795963764,
         7.011353760957718,
         7.152272969484329,
         6.851269923150539,
         6.755403600633144,
         6.883589938282967,
         6.387439779937267,
         6.552843943238258,
         6.674714453518391,
         6.702537946403027,
         6.565952755510807,
         7.193502835929394,
         6.654696941375732,
         6.7995647341012955,
         6.827201142907143,
         6.766339004039764,
         7.084384121000767,
         7.087230309844017,
         6.910877227783203,
         6.829733073711395,
         7.243993707001209,
         6.232854649424553,
         6.79726418107748,
         7.41424024105072,
         6.723483197391033,
         6.877934589982033,
         7.2929707467556,
         6.747148998081684,
         6.841731704771519,
         6.863834246993065,
         7.285770162940025,
         6.817777127027512,
         7.002812512218952,
         6.355088144540787,
         7.364248633384705,
         7.094815745949745,
         6.476351827383041,
         6.4054010063409805,
         6.9403009712696075,
         7.000382237136364,
         7.04104183614254,
         6.755495071411133,
         7.16737175732851,
         6.844382174313068,
         6.5565803945064545,
         6.6555774584412575,
         6.474959090352058,
         6.727077506482601,
         7.3407600820064545,
         6.981037944555283,
         7.173653572797775,
         7.1464225724339485,
         6.184552870690823,
         7.076762657612562,
         6.686848543584347,
         7.432035230100155,
         6.970499761402607,
         7.05138136446476,
         6.570836707949638,
         7.016562111675739,
         6.715049907565117,
         6.8957842364907265,
         7.028562605381012,
         7.377325959503651,
         6.641185134649277,
         6.144200190901756,
         6.920421861112118,
         6.686328552663326,
         6.8931668400764465,
         7.4588912427425385,
         7.471974804997444,
         6.471051782369614,
         6.698463328182697,
         6.850319072604179,
         6.771367713809013,
         6.513417787849903,
         6.699066616594791,
         6.72485539317131,
         6.769860550761223
        ],
        [
         1.949835403636302,
         1.9579687954914282,
         1.8600090601085315,
         1.9832511897530702,
         1.991329207256233,
         1.8671613468762973,
         1.867893273218636,
         1.8257648097447756,
         1.9550261143882166,
         1.9572180712874092,
         1.9224425008206132,
         2.0286546780631083,
         1.981952018536449,
         1.9394121857149555,
         1.9486645719488658,
         1.8599039375258912,
         1.8803574496874222,
         1.8667805669419313,
         2.10989809160951,
         2.000993553103195,
         2.014004355068396,
         2.029975230013875,
         2.0309596110456978,
         2.0424169440296733,
         1.9432459280510068,
         1.954741234014681,
         2.0092785016647916,
         1.8404742226607298,
         1.8914586417416723,
         1.9105270827306773,
         1.8802302710585084,
         2.0252120818560386,
         1.983791258285749,
         1.9494038759081174,
         1.9788789966438738,
         1.9344606572817307,
         1.8618778543553745,
         1.90240451237134,
         2.0142837425537174,
         1.8629065833612806,
         1.9492653901835715,
         2.027677700234529,
         1.8912780698455418,
         1.998849520963193,
         2.029304316756641,
         1.940481660043136,
         1.8977824711603872,
         2.0755401698908638,
         1.9141112820383415,
         1.9185453870498235,
         1.9335067498277854,
         2.0453801568164995,
         2.0429702907381104,
         1.981171408144586,
         1.8445910584465077,
         2.029877194243646,
         2.0133220984304727,
         2.007533465029705,
         1.8554027073589434,
         1.9709266725976795,
         1.9683458793077415,
         2.092822852669921,
         1.9407134127195313,
         2.049753617291633,
         1.8926248469967433,
         1.8661976612099465,
         1.903394119785757,
         1.8957894663741122,
         1.9561230198598758,
         1.9988851343132272,
         1.9532519828224104,
         2.0060813641821613,
         2.05280002078255,
         1.8278041830139788,
         2.0426955431739535,
         1.8841407367738214,
         2.03532331793234,
         1.9708565597949357,
         2.0285984980590963,
         1.923353072099594,
         1.9269620787494564,
         1.9974234605644452,
         1.9503752868502917,
         1.9382386712201018,
         2.1950106440256336,
         1.9910467904938594,
         1.8339865419243218,
         2.014456941542356,
         1.9750624183065484,
         1.9325874455985739,
         2.0523703114371243,
         2.0967021099969885,
         1.950283720140961,
         1.9470939430473302,
         1.9126365714840827,
         1.957845571839231,
         1.955189824366351,
         1.9480471811302231,
         1.9973991988468156,
         1.9399330880245453
        ]
       ],
       "encoder": "json",
       "name": "ABC_GAN_1 Metrics",
       "version": 1
      }
     },
     "metadata": {
      "scrapbook": {
       "data": true,
       "display": false,
       "name": "ABC_GAN_1 Metrics"
      }
     },
     "output_type": "display_data"
    },
    {
     "name": "stdout",
     "output_type": "stream",
     "text": [
      "MSE\n",
      "0.1922917615077465\n"
     ]
    }
   ],
   "source": [
    "ABC_GAN1_metrics=ABC_train_test2.test_generator(gen,test_data,prior_model,variance,0,\"1\",device)\n",
    "sb.glue(\"ABC_GAN_1 Metrics\",ABC_GAN1_metrics)\n",
    "\n",
    "print(\"MSE\")\n",
    "print(mean(ABC_GAN1_metrics[0]))"
   ]
  },
  {
   "cell_type": "code",
   "execution_count": 14,
   "id": "eb22ce5c",
   "metadata": {
    "execution": {
     "iopub.execute_input": "2022-05-18T08:50:03.289576Z",
     "iopub.status.busy": "2022-05-18T08:50:03.289199Z",
     "iopub.status.idle": "2022-05-18T08:50:03.584003Z",
     "shell.execute_reply": "2022-05-18T08:50:03.584295Z"
    },
    "papermill": {
     "duration": 0.309363,
     "end_time": "2022-05-18T08:50:03.584417",
     "exception": false,
     "start_time": "2022-05-18T08:50:03.275054",
     "status": "completed"
    },
    "tags": []
   },
   "outputs": [
    {
     "data": {
      "image/png": "[encoded data removed]",
      "text/plain": [
       "<Figure size 432x288 with 1 Axes>"
      ]
     },
     "metadata": {
      "needs_background": "light"
     },
     "output_type": "display_data"
    },
    {
     "data": {
      "image/png": "[encoded data removed]",
      "text/plain": [
       "<Figure size 432x288 with 1 Axes>"
      ]
     },
     "metadata": {
      "needs_background": "light"
     },
     "output_type": "display_data"
    },
    {
     "data": {
      "image/png": "[encoded data removed]",
      "text/plain": [
       "<Figure size 432x288 with 1 Axes>"
      ]
     },
     "metadata": {
      "needs_background": "light"
     },
     "output_type": "display_data"
    },
    {
     "data": {
      "image/png": "[encoded data removed]",
      "text/plain": [
       "<Figure size 432x288 with 1 Axes>"
      ]
     },
     "metadata": {
      "needs_background": "light"
     },
     "output_type": "display_data"
    }
   ],
   "source": [
    "sanityChecks.discProbVsError(train_data,disc,device)\n",
    "sanityChecks.discProbVsError(test_data,disc,device)"
   ]
  },
  {
   "cell_type": "markdown",
   "id": "130f3a4d",
   "metadata": {
    "id": "130f3a4d",
    "papermill": {
     "duration": 0.014065,
     "end_time": "2022-05-18T08:50:03.612880",
     "exception": false,
     "start_time": "2022-05-18T08:50:03.598815",
     "status": "completed"
    },
    "tags": []
   },
   "source": [
    "# ABC - GAN Model with skip connection"
   ]
  },
  {
   "cell_type": "code",
   "execution_count": 15,
   "id": "4e43dad1",
   "metadata": {
    "execution": {
     "iopub.execute_input": "2022-05-18T08:50:03.645542Z",
     "iopub.status.busy": "2022-05-18T08:50:03.645103Z",
     "iopub.status.idle": "2022-05-18T08:50:03.647096Z",
     "shell.execute_reply": "2022-05-18T08:50:03.647338Z"
    },
    "id": "4e43dad1",
    "papermill": {
     "duration": 0.020225,
     "end_time": "2022-05-18T08:50:03.647453",
     "exception": false,
     "start_time": "2022-05-18T08:50:03.627228",
     "status": "completed"
    },
    "tags": []
   },
   "outputs": [],
   "source": [
    "#Generator\n",
    "gen3 = network.GeneratorWithSkipConnection(n_features+1).to(device)\n",
    "constraints=network.weightConstraint()\n",
    "#Discriminator \n",
    "disc3 = network.Discriminator(n_features+1).to(device)\n",
    "\n",
    "criterion = torch.nn.BCELoss()\n",
    "gen_opt = torch.optim.Adam(gen3.parameters(), lr=0.001, betas=(0.5, 0.999))\n",
    "disc_opt = torch.optim.Adam(disc3.parameters(), lr=0.001, betas=(0.5, 0.999))\n"
   ]
  },
  {
   "cell_type": "code",
   "execution_count": 16,
   "id": "26acbc37",
   "metadata": {
    "execution": {
     "iopub.execute_input": "2022-05-18T08:50:03.680020Z",
     "iopub.status.busy": "2022-05-18T08:50:03.679629Z",
     "iopub.status.idle": "2022-05-18T08:50:43.610140Z",
     "shell.execute_reply": "2022-05-18T08:50:43.610452Z"
    },
    "id": "26acbc37",
    "papermill": {
     "duration": 39.948314,
     "end_time": "2022-05-18T08:50:43.610576",
     "exception": false,
     "start_time": "2022-05-18T08:50:03.662262",
     "status": "completed"
    },
    "tags": []
   },
   "outputs": [
    {
     "data": {
      "image/png": "[encoded data removed]",
      "text/plain": [
       "<Figure size 432x288 with 1 Axes>"
      ]
     },
     "metadata": {
      "needs_background": "light"
     },
     "output_type": "display_data"
    },
    {
     "data": {
      "image/png": "[encoded data removed]",
      "text/plain": [
       "<Figure size 432x288 with 1 Axes>"
      ]
     },
     "metadata": {
      "needs_background": "light"
     },
     "output_type": "display_data"
    }
   ],
   "source": [
    "ABC_train_test2.training_GAN_skip_connection(disc3,gen3,disc_opt,gen_opt,train_data,batch_size,n_epochs,criterion,prior_model,variance,0,device)"
   ]
  },
  {
   "cell_type": "code",
   "execution_count": 17,
   "id": "c5e0717b",
   "metadata": {
    "execution": {
     "iopub.execute_input": "2022-05-18T08:50:43.643827Z",
     "iopub.status.busy": "2022-05-18T08:50:43.643425Z",
     "iopub.status.idle": "2022-05-18T08:50:43.953966Z",
     "shell.execute_reply": "2022-05-18T08:50:43.954300Z"
    },
    "id": "c5e0717b",
    "papermill": {
     "duration": 0.328502,
     "end_time": "2022-05-18T08:50:43.954430",
     "exception": false,
     "start_time": "2022-05-18T08:50:43.625928",
     "status": "completed"
    },
    "tags": []
   },
   "outputs": [
    {
     "data": {
      "application/scrapbook.scrap.json+json": {
       "data": 0.1202387802439366,
       "encoder": "json",
       "name": "ABC-GAN Model 3 MSE",
       "version": 1
      }
     },
     "metadata": {
      "scrapbook": {
       "data": true,
       "display": false,
       "name": "ABC-GAN Model 3 MSE"
      }
     },
     "output_type": "display_data"
    },
    {
     "data": {
      "application/scrapbook.scrap.json+json": {
       "data": 0.24995346957072614,
       "encoder": "json",
       "name": "ABC-GAN Model 3 MAE",
       "version": 1
      }
     },
     "metadata": {
      "scrapbook": {
       "data": true,
       "display": false,
       "name": "ABC-GAN Model 3 MAE"
      }
     },
     "output_type": "display_data"
    },
    {
     "data": {
      "application/scrapbook.scrap.json+json": {
       "data": 4.9990693914145234,
       "encoder": "json",
       "name": "ABC-GAN Model 3 Manhattan Distance",
       "version": 1
      }
     },
     "metadata": {
      "scrapbook": {
       "data": true,
       "display": false,
       "name": "ABC-GAN Model 3 Manhattan Distance"
      }
     },
     "output_type": "display_data"
    },
    {
     "data": {
      "application/scrapbook.scrap.json+json": {
       "data": 1.5496163914128327,
       "encoder": "json",
       "name": "ABC-GAN Model 3 Euclidean distance",
       "version": 1
      }
     },
     "metadata": {
      "scrapbook": {
       "data": true,
       "display": false,
       "name": "ABC-GAN Model 3 Euclidean distance"
      }
     },
     "output_type": "display_data"
    },
    {
     "data": {
      "application/scrapbook.scrap.json+json": {
       "data": [
        [
         0.13111641463704454,
         0.14256940757434072,
         0.10985789810048216,
         0.11000519316507107,
         0.11483114839484965,
         0.11586042226327745,
         0.1377336609029079,
         0.1193041842147601,
         0.12467578873995641,
         0.11155109670632787,
         0.1370772846948789,
         0.10840855330468649,
         0.11287699949209222,
         0.12604056920553233,
         0.11304751348870712,
         0.1340547123494527,
         0.12099697774058024,
         0.1107959884737042,
         0.11138250551503244,
         0.111453030282243,
         0.11386662914989576,
         0.13440539109269248,
         0.11943800994088098,
         0.13540619577905813,
         0.121718592940729,
         0.12236841417940618,
         0.13849128595403526,
         0.12247098987644416,
         0.10539088539846861,
         0.09911402241565168,
         0.12172793944255553,
         0.12547018044937003,
         0.1270292242784502,
         0.12131229115279596,
         0.13456425530326968,
         0.11679321922555022,
         0.10934047673135253,
         0.1108460262057857,
         0.12145870133413768,
         0.12149107073944743,
         0.12486497813122406,
         0.1113355773603311,
         0.10724128769127077,
         0.11730308369351725,
         0.1111265697646558,
         0.1288039026817433,
         0.12547493371651675,
         0.12247966876426712,
         0.11964639539774793,
         0.11113139669372249,
         0.12886721028132636,
         0.10413451020732829,
         0.1147179874850768,
         0.11225364958949044,
         0.11526251705972612,
         0.10476358672788974,
         0.13237992808081284,
         0.12393940704489129,
         0.11974758893766368,
         0.1298116874621035,
         0.12372208738161791,
         0.1219009038209955,
         0.11388062449528791,
         0.12174104473098879,
         0.14178228116703478,
         0.11574091008265261,
         0.11469515546861979,
         0.12399223212934443,
         0.12466462936149733,
         0.12789048096645375,
         0.1350897750035179,
         0.11244174771045204,
         0.12534373806667132,
         0.12185085519237367,
         0.11883697092812659,
         0.10121897587538978,
         0.12146474878103115,
         0.13852925073075242,
         0.11455043266060642,
         0.1226642428997701,
         0.12548581473027948,
         0.11743235461805143,
         0.11654966809941632,
         0.11196169446753106,
         0.1264251559390231,
         0.1254808498508048,
         0.11772280028985098,
         0.1100355516309375,
         0.11107415627956511,
         0.10758447299928701,
         0.1280061403385997,
         0.11777678165703838,
         0.12298617102889953,
         0.12706655463213604,
         0.11918334620286122,
         0.12411264788033707,
         0.12638138686118738,
         0.10779678524341563,
         0.12368567252512697,
         0.123499914058916
        ],
        [
         0.25036977380514147,
         0.29093906581401824,
         0.2450096771121025,
         0.24005841165781022,
         0.24196893461048602,
         0.25054397657513616,
         0.2737992525100708,
         0.25892417393624784,
         0.2560304939746857,
         0.23904603645205497,
         0.2556759178638458,
         0.22872626408934593,
         0.24716142192482948,
         0.2674440864473581,
         0.23456308096647263,
         0.26147924810647966,
         0.2638420544564724,
         0.24009182080626487,
         0.25312272012233733,
         0.24257879182696343,
         0.24244002774357795,
         0.26788526475429536,
         0.25320729315280915,
         0.2624467954039574,
         0.23978108316659927,
         0.23942758291959762,
         0.2814606040716171,
         0.2487017884850502,
         0.2307228624820709,
         0.2139522187411785,
         0.23698095604777336,
         0.2686761125922203,
         0.2394515138119459,
         0.2578890066593885,
         0.2569726496934891,
         0.2433575227856636,
         0.24308547899127006,
         0.24825034141540528,
         0.25236656069755553,
         0.24014624878764151,
         0.26156032606959345,
         0.23341289833188056,
         0.22970573380589485,
         0.24796333611011506,
         0.24088108837604522,
         0.25865491330623624,
         0.2584649194031954,
         0.2584026366472244,
         0.2510285086929798,
         0.24329522922635077,
         0.26524077318608763,
         0.2237399399280548,
         0.24722755514085293,
         0.23853257223963736,
         0.24456452801823617,
         0.23979593068361282,
         0.2564756251871586,
         0.2561320081353188,
         0.24198380559682847,
         0.25657127872109414,
         0.24531326070427895,
         0.2340078815817833,
         0.2460608035326004,
         0.2437271550297737,
         0.28782663196325303,
         0.23809652850031854,
         0.24300657771527767,
         0.2614340357482433,
         0.2579346768558025,
         0.27049451023340226,
         0.26694162040948866,
         0.24666815251111984,
         0.24902975857257842,
         0.2665677070617676,
         0.25792534574866294,
         0.22863851375877858,
         0.27065699696540835,
         0.27872493788599967,
         0.23992900773882866,
         0.24320027008652687,
         0.2650064669549465,
         0.2306878812611103,
         0.22914582677185535,
         0.24811701625585555,
         0.2604036934673786,
         0.24039811119437218,
         0.2542178057134151,
         0.2373796511441469,
         0.23036721609532834,
         0.23453952744603157,
         0.2591458797454834,
         0.2474744975566864,
         0.252144605666399,
         0.252945776283741,
         0.23754158429801464,
         0.2648456212133169,
         0.2515294082462788,
         0.243927463889122,
         0.25962058678269384,
         0.2575132422149181
        ],
        [
         5.007395476102829,
         5.818781316280365,
         4.90019354224205,
         4.801168233156204,
         4.839378692209721,
         5.010879531502724,
         5.475985050201416,
         5.1784834787249565,
         5.120609879493713,
         4.7809207290410995,
         5.1135183572769165,
         4.574525281786919,
         4.94322843849659,
         5.348881728947163,
         4.6912616193294525,
         5.229584962129593,
         5.276841089129448,
         4.8018364161252975,
         5.062454402446747,
         4.8515758365392685,
         4.848800554871559,
         5.357705295085907,
         5.064145863056183,
         5.248935908079147,
         4.7956216633319855,
         4.7885516583919525,
         5.6292120814323425,
         4.974035769701004,
         4.6144572496414185,
         4.27904437482357,
         4.739619120955467,
         5.373522251844406,
         4.789030276238918,
         5.157780133187771,
         5.1394529938697815,
         4.867150455713272,
         4.861709579825401,
         4.9650068283081055,
         5.047331213951111,
         4.8029249757528305,
         5.231206521391869,
         4.668257966637611,
         4.594114676117897,
         4.959266722202301,
         4.8176217675209045,
         5.173098266124725,
         5.169298388063908,
         5.1680527329444885,
         5.020570173859596,
         4.865904584527016,
         5.304815463721752,
         4.474798798561096,
         4.944551102817059,
         4.7706514447927475,
         4.891290560364723,
         4.7959186136722565,
         5.129512503743172,
         5.122640162706375,
         4.839676111936569,
         5.131425574421883,
         4.906265214085579,
         4.680157631635666,
         4.921216070652008,
         4.874543100595474,
         5.75653263926506,
         4.7619305700063705,
         4.860131554305553,
         5.228680714964867,
         5.158693537116051,
         5.409890204668045,
         5.338832408189774,
         4.933363050222397,
         4.980595171451569,
         5.331354141235352,
         5.158506914973259,
         4.572770275175571,
         5.4131399393081665,
         5.574498757719994,
         4.798580154776573,
         4.864005401730537,
         5.30012933909893,
         4.613757625222206,
         4.582916535437107,
         4.962340325117111,
         5.208073869347572,
         4.8079622238874435,
         5.084356114268303,
         4.747593022882938,
         4.607344321906567,
         4.690790548920631,
         5.182917594909668,
         4.949489951133728,
         5.04289211332798,
         5.05891552567482,
         4.750831685960293,
         5.296912424266338,
         5.030588164925575,
         4.87854927778244,
         5.192411735653877,
         5.150264844298363
        ],
        [
         1.6193604579403842,
         1.6886053865503374,
         1.48228133699701,
         1.483274709317671,
         1.5154613053116839,
         1.5222379726132012,
         1.6597208253372486,
         1.544695337047148,
         1.5790870067222795,
         1.4936605819685267,
         1.655761363813511,
         1.472471074790174,
         1.5025112278588284,
         1.5877063280439008,
         1.5036456596466277,
         1.6374047291335927,
         1.5556154906697237,
         1.4885965771403897,
         1.492531443655593,
         1.4930038866810964,
         1.5090833585318988,
         1.6395450045222453,
         1.5455614510001277,
         1.645637844600434,
         1.5602473710327411,
         1.564406687402008,
         1.6642793392578978,
         1.5650622343948126,
         1.4518325344093141,
         1.4079348167841554,
         1.5603072738570152,
         1.5841097212590423,
         1.5939211039348855,
         1.5576411085535458,
         1.640513671404598,
         1.5283534880749952,
         1.4787865074536792,
         1.488932679510969,
         1.5585807732301697,
         1.5587884445263727,
         1.5802846460762952,
         1.4922169906573983,
         1.464522363716381,
         1.5316858926915613,
         1.490815681193727,
         1.6050165275270114,
         1.5841397268960635,
         1.565117687359434,
         1.5469091466388576,
         1.4908480586144417,
         1.605410914883329,
         1.4431528692922888,
         1.5147144119277192,
         1.4983567638549269,
         1.5183050883121358,
         1.447505348714745,
         1.627144296495015,
         1.574416762136959,
         1.5475631743981484,
         1.6112832616402586,
         1.5730358379999987,
         1.5614154080256508,
         1.5091760963869518,
         1.5603912633117938,
         1.6839375354628494,
         1.521452661653675,
         1.5145636696330715,
         1.5747522480018528,
         1.5790163353271387,
         1.5993153595614202,
         1.6437139349869727,
         1.49961160111845,
         1.5833113279874638,
         1.5610948414005708,
         1.5416677393532408,
         1.4228069150477851,
         1.5586195737320325,
         1.664507439038663,
         1.5136078267543838,
         1.5662965421641593,
         1.5842084126167206,
         1.5325296383303746,
         1.5267591041118196,
         1.4964069932176276,
         1.5901267618590857,
         1.5841770724941375,
         1.534423672196509,
         1.4834793671024717,
         1.490464063837603,
         1.4668638178050954,
         1.6000383766560082,
         1.534775434107794,
         1.5683505413580188,
         1.5941552912570094,
         1.5439128615492599,
         1.5755167271745296,
         1.589851482756722,
         1.4683104933454343,
         1.5728043268323428,
         1.5716228177200533
        ]
       ],
       "encoder": "json",
       "name": "ABC_GAN_3 Metrics",
       "version": 1
      }
     },
     "metadata": {
      "scrapbook": {
       "data": true,
       "display": false,
       "name": "ABC_GAN_3 Metrics"
      }
     },
     "output_type": "display_data"
    },
    {
     "name": "stdout",
     "output_type": "stream",
     "text": [
      "MSE\n",
      "0.1202387802439366\n"
     ]
    }
   ],
   "source": [
    "ABC_GAN3_metrics=ABC_train_test2.test_generator(gen3,test_data,prior_model,variance,0,\"3\",device)\n",
    "sb.glue(\"ABC_GAN_3 Metrics\",ABC_GAN3_metrics)\n",
    "\n",
    "print(\"MSE\")\n",
    "print(mean(ABC_GAN3_metrics[0]))"
   ]
  },
  {
   "cell_type": "code",
   "execution_count": 18,
   "id": "c8e46b48",
   "metadata": {
    "execution": {
     "iopub.execute_input": "2022-05-18T08:50:44.013894Z",
     "iopub.status.busy": "2022-05-18T08:50:44.013500Z",
     "iopub.status.idle": "2022-05-18T08:50:44.303153Z",
     "shell.execute_reply": "2022-05-18T08:50:44.303446Z"
    },
    "id": "c8e46b48",
    "papermill": {
     "duration": 0.309263,
     "end_time": "2022-05-18T08:50:44.303569",
     "exception": false,
     "start_time": "2022-05-18T08:50:43.994306",
     "status": "completed"
    },
    "tags": []
   },
   "outputs": [
    {
     "data": {
      "image/png": "[encoded data removed]",
      "text/plain": [
       "<Figure size 432x288 with 1 Axes>"
      ]
     },
     "metadata": {
      "needs_background": "light"
     },
     "output_type": "display_data"
    },
    {
     "data": {
      "image/png": "[encoded data removed]",
      "text/plain": [
       "<Figure size 432x288 with 1 Axes>"
      ]
     },
     "metadata": {
      "needs_background": "light"
     },
     "output_type": "display_data"
    },
    {
     "data": {
      "image/png": "[encoded data removed]",
      "text/plain": [
       "<Figure size 432x288 with 1 Axes>"
      ]
     },
     "metadata": {
      "needs_background": "light"
     },
     "output_type": "display_data"
    },
    {
     "data": {
      "image/png": "[encoded data removed]",
      "text/plain": [
       "<Figure size 432x288 with 1 Axes>"
      ]
     },
     "metadata": {
      "needs_background": "light"
     },
     "output_type": "display_data"
    }
   ],
   "source": [
    "sanityChecks.discProbVsError(train_data,disc3,device)\n",
    "sanityChecks.discProbVsError(test_data,disc3,device)"
   ]
  },
  {
   "cell_type": "markdown",
   "id": "a5bd74c3",
   "metadata": {
    "id": "a5bd74c3",
    "papermill": {
     "duration": 0.019207,
     "end_time": "2022-05-18T08:50:44.342011",
     "exception": false,
     "start_time": "2022-05-18T08:50:44.322804",
     "status": "completed"
    },
    "tags": []
   },
   "source": [
    "## Skip Connection Model Analysis - ABC-GAN "
   ]
  },
  {
   "cell_type": "markdown",
   "id": "5744a8bf",
   "metadata": {
    "id": "5744a8bf",
    "papermill": {
     "duration": 0.019019,
     "end_time": "2022-05-18T08:50:44.380129",
     "exception": false,
     "start_time": "2022-05-18T08:50:44.361110",
     "status": "completed"
    },
    "tags": []
   },
   "source": [
    "### Weight Analysis \n",
    "\n",
    "Study the weights of the skip connection layer\n",
    "\n",
    "Equation of the skip connection is \n",
    "\n",
    "$output = y_{gan} * w + y_{abc} * (1-w)$"
   ]
  },
  {
   "cell_type": "code",
   "execution_count": 19,
   "id": "52c31dea",
   "metadata": {
    "execution": {
     "iopub.execute_input": "2022-05-18T08:50:44.420611Z",
     "iopub.status.busy": "2022-05-18T08:50:44.420204Z",
     "iopub.status.idle": "2022-05-18T08:50:44.423657Z",
     "shell.execute_reply": "2022-05-18T08:50:44.423893Z"
    },
    "id": "52c31dea",
    "papermill": {
     "duration": 0.025113,
     "end_time": "2022-05-18T08:50:44.424010",
     "exception": false,
     "start_time": "2022-05-18T08:50:44.398897",
     "status": "completed"
    },
    "tags": []
   },
   "outputs": [
    {
     "name": "stdout",
     "output_type": "stream",
     "text": [
      "Weight of the node at skip connection\n",
      "Parameter containing:\n",
      "tensor([[0.1473]], requires_grad=True)\n"
     ]
    },
    {
     "data": {
      "application/scrapbook.scrap.json+json": {
       "data": 0.14734046161174774,
       "encoder": "json",
       "name": "Skip Connection Weight",
       "version": 1
      }
     },
     "metadata": {
      "scrapbook": {
       "data": true,
       "display": false,
       "name": "Skip Connection Weight"
      }
     },
     "output_type": "display_data"
    }
   ],
   "source": [
    "print(\"Weight of the node at skip connection\")\n",
    "for name,param in gen3.named_parameters():\n",
    "    if(name == \"skipNode.weight\"):\n",
    "        print(param)\n",
    "        sb.glue(\"Skip Connection Weight\",param.item())"
   ]
  }
 ],
 "metadata": {
  "colab": {
   "collapsed_sections": [],
   "name": "ABC_GAN_Model-Catboost_Pre-gen.ipynb",
   "provenance": []
  },
  "interpreter": {
   "hash": "31f2aee4e71d21fbe5cf8b01ff0e069b9275f58929596ceb00d14d90e3e16cd6"
  },
  "kernelspec": {
   "display_name": "Python 3 (ipykernel)",
   "language": "python",
   "name": "python3"
  },
  "language_info": {
   "codemirror_mode": {
    "name": "ipython",
    "version": 3
   },
   "file_extension": ".py",
   "mimetype": "text/x-python",
   "name": "python",
   "nbconvert_exporter": "python",
   "pygments_lexer": "ipython3",
   "version": "3.8.11"
  },
  "papermill": {
   "default_parameters": {},
   "duration": 60.646706,
   "end_time": "2022-05-18T08:50:44.751029",
   "environment_variables": {},
   "exception": null,
   "input_path": "ABC_GAN-Catboost.ipynb",
   "output_path": "./ABC_GAN_Catboost/ABC-GAN_output_10_1.ipynb",
   "parameters": {
    "variance": 0.1
   },
   "start_time": "2022-05-18T08:49:44.104323",
   "version": "2.3.3"
  }
 },
 "nbformat": 4,
 "nbformat_minor": 5
}