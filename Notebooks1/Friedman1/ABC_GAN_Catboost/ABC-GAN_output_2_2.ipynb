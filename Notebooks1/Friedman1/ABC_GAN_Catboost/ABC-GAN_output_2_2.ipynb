{
 "cells": [
  {
   "cell_type": "markdown",
   "id": "622780e6",
   "metadata": {
    "id": "622780e6",
    "papermill": {
     "duration": 0.032493,
     "end_time": "2022-05-18T08:27:26.112949",
     "exception": false,
     "start_time": "2022-05-18T08:27:26.080456",
     "status": "completed"
    },
    "tags": []
   },
   "source": [
    "## Import Libraries "
   ]
  },
  {
   "cell_type": "code",
   "execution_count": 1,
   "id": "a62397e3",
   "metadata": {
    "execution": {
     "iopub.execute_input": "2022-05-18T08:27:26.151092Z",
     "iopub.status.busy": "2022-05-18T08:27:26.150562Z",
     "iopub.status.idle": "2022-05-18T08:27:26.152785Z",
     "shell.execute_reply": "2022-05-18T08:27:26.153136Z"
    },
    "id": "a62397e3",
    "papermill": {
     "duration": 0.023241,
     "end_time": "2022-05-18T08:27:26.153347",
     "exception": false,
     "start_time": "2022-05-18T08:27:26.130106",
     "status": "completed"
    },
    "tags": []
   },
   "outputs": [],
   "source": [
    "import warnings\n",
    "import sys\n",
    "sys.path.insert(0, '../../src')\n",
    "warnings.filterwarnings('ignore')"
   ]
  },
  {
   "cell_type": "code",
   "execution_count": 2,
   "id": "d6a4e155",
   "metadata": {
    "execution": {
     "iopub.execute_input": "2022-05-18T08:27:26.173801Z",
     "iopub.status.busy": "2022-05-18T08:27:26.173378Z",
     "iopub.status.idle": "2022-05-18T08:27:28.104029Z",
     "shell.execute_reply": "2022-05-18T08:27:28.104313Z"
    },
    "id": "d6a4e155",
    "papermill": {
     "duration": 1.941684,
     "end_time": "2022-05-18T08:27:28.104474",
     "exception": false,
     "start_time": "2022-05-18T08:27:26.162790",
     "status": "completed"
    },
    "tags": []
   },
   "outputs": [],
   "source": [
    "import ABC_train_test2\n",
    "import friedman1Dataset\n",
    "import network\n",
    "import dataset\n",
    "import sanityChecks\n",
    "import torch \n",
    "import scrapbook as sb\n",
    "from statistics import mean \n",
    "import catboost as ctb \n",
    "from sklearn.model_selection import train_test_split\n",
    "from sklearn.metrics import mean_squared_error,mean_absolute_error\n",
    "import numpy as np"
   ]
  },
  {
   "cell_type": "markdown",
   "id": "2fa5b0f7",
   "metadata": {
    "id": "2fa5b0f7",
    "papermill": {
     "duration": 0.006954,
     "end_time": "2022-05-18T08:27:28.119181",
     "exception": false,
     "start_time": "2022-05-18T08:27:28.112227",
     "status": "completed"
    },
    "tags": []
   },
   "source": [
    "## Parameters "
   ]
  },
  {
   "cell_type": "code",
   "execution_count": 3,
   "id": "783186fb",
   "metadata": {
    "execution": {
     "iopub.execute_input": "2022-05-18T08:27:28.135241Z",
     "iopub.status.busy": "2022-05-18T08:27:28.134855Z",
     "iopub.status.idle": "2022-05-18T08:27:28.136205Z",
     "shell.execute_reply": "2022-05-18T08:27:28.136461Z"
    },
    "id": "783186fb",
    "papermill": {
     "duration": 0.010587,
     "end_time": "2022-05-18T08:27:28.136574",
     "exception": false,
     "start_time": "2022-05-18T08:27:28.125987",
     "status": "completed"
    },
    "tags": [
     "parameters"
    ]
   },
   "outputs": [],
   "source": [
    "variance = 1"
   ]
  },
  {
   "cell_type": "code",
   "execution_count": 4,
   "id": "94f78911",
   "metadata": {
    "execution": {
     "iopub.execute_input": "2022-05-18T08:27:28.153048Z",
     "iopub.status.busy": "2022-05-18T08:27:28.152654Z",
     "iopub.status.idle": "2022-05-18T08:27:28.153964Z",
     "shell.execute_reply": "2022-05-18T08:27:28.154293Z"
    },
    "papermill": {
     "duration": 0.010392,
     "end_time": "2022-05-18T08:27:28.154419",
     "exception": false,
     "start_time": "2022-05-18T08:27:28.144027",
     "status": "completed"
    },
    "tags": [
     "injected-parameters"
    ]
   },
   "outputs": [],
   "source": [
    "# Parameters\n",
    "variance = 0.01\n"
   ]
  },
  {
   "cell_type": "markdown",
   "id": "391cdbfd",
   "metadata": {
    "id": "391cdbfd",
    "papermill": {
     "duration": 0.007186,
     "end_time": "2022-05-18T08:27:28.168727",
     "exception": false,
     "start_time": "2022-05-18T08:27:28.161541",
     "status": "completed"
    },
    "tags": []
   },
   "source": [
    "## Dataset \n"
   ]
  },
  {
   "cell_type": "code",
   "execution_count": 5,
   "id": "5b51f161",
   "metadata": {
    "execution": {
     "iopub.execute_input": "2022-05-18T08:27:28.185221Z",
     "iopub.status.busy": "2022-05-18T08:27:28.184842Z",
     "iopub.status.idle": "2022-05-18T08:27:28.186099Z",
     "shell.execute_reply": "2022-05-18T08:27:28.186344Z"
    },
    "id": "5b51f161",
    "papermill": {
     "duration": 0.010628,
     "end_time": "2022-05-18T08:27:28.186458",
     "exception": false,
     "start_time": "2022-05-18T08:27:28.175830",
     "status": "completed"
    },
    "tags": []
   },
   "outputs": [],
   "source": [
    "#Parameters \n",
    "n_features = 5\n",
    "n_samples= 100\n",
    "n_target = 1 "
   ]
  },
  {
   "cell_type": "code",
   "execution_count": 6,
   "id": "5d6eced4",
   "metadata": {
    "execution": {
     "iopub.execute_input": "2022-05-18T08:27:28.203750Z",
     "iopub.status.busy": "2022-05-18T08:27:28.203357Z",
     "iopub.status.idle": "2022-05-18T08:27:28.208357Z",
     "shell.execute_reply": "2022-05-18T08:27:28.208605Z"
    },
    "id": "5d6eced4",
    "papermill": {
     "duration": 0.015266,
     "end_time": "2022-05-18T08:27:28.208723",
     "exception": false,
     "start_time": "2022-05-18T08:27:28.193457",
     "status": "completed"
    },
    "tags": []
   },
   "outputs": [
    {
     "name": "stdout",
     "output_type": "stream",
     "text": [
      "         X0        X1        X2        X3        X4         Y\n",
      "0  1.181993  0.067816  1.618054 -0.474050 -1.446193  0.666924\n",
      "1  1.898950 -0.094241 -0.743678  1.207725  0.658390  1.631250\n",
      "2 -1.515737  0.614044 -0.677333 -0.467810  0.310542 -1.092058\n",
      "3  0.714759 -1.102471  0.268572  1.340245  0.848718  0.425493\n",
      "4 -0.377361 -1.735750  0.923678 -0.291582 -0.387625 -1.388486\n"
     ]
    }
   ],
   "source": [
    "X,Y = friedman1Dataset.friedman1_data(n_samples,n_features)"
   ]
  },
  {
   "cell_type": "code",
   "execution_count": 7,
   "id": "fe007438",
   "metadata": {
    "execution": {
     "iopub.execute_input": "2022-05-18T08:27:28.225920Z",
     "iopub.status.busy": "2022-05-18T08:27:28.225544Z",
     "iopub.status.idle": "2022-05-18T08:27:28.227183Z",
     "shell.execute_reply": "2022-05-18T08:27:28.227438Z"
    },
    "id": "fe007438",
    "papermill": {
     "duration": 0.011447,
     "end_time": "2022-05-18T08:27:28.227552",
     "exception": false,
     "start_time": "2022-05-18T08:27:28.216105",
     "status": "completed"
    },
    "tags": []
   },
   "outputs": [],
   "source": [
    "#Train test split for dataset \n",
    "X_train,X_test,Y_train,Y_test = train_test_split(X,Y,test_size = 0.2)\n",
    "train_data = dataset.CustomDataset(X_train,Y_train)\n",
    "test_data = dataset.CustomDataset(X_test,Y_test)\n"
   ]
  },
  {
   "cell_type": "markdown",
   "id": "a9a1af34",
   "metadata": {
    "id": "a9a1af34",
    "papermill": {
     "duration": 0.01823,
     "end_time": "2022-05-18T08:27:28.252988",
     "exception": false,
     "start_time": "2022-05-18T08:27:28.234758",
     "status": "completed"
    },
    "tags": []
   },
   "source": [
    "## Training Parameters "
   ]
  },
  {
   "cell_type": "code",
   "execution_count": 8,
   "id": "952b7fc8",
   "metadata": {
    "execution": {
     "iopub.execute_input": "2022-05-18T08:27:28.270825Z",
     "iopub.status.busy": "2022-05-18T08:27:28.270442Z",
     "iopub.status.idle": "2022-05-18T08:27:28.271766Z",
     "shell.execute_reply": "2022-05-18T08:27:28.272013Z"
    },
    "id": "952b7fc8",
    "papermill": {
     "duration": 0.011311,
     "end_time": "2022-05-18T08:27:28.272125",
     "exception": false,
     "start_time": "2022-05-18T08:27:28.260814",
     "status": "completed"
    },
    "tags": []
   },
   "outputs": [],
   "source": [
    "batch_size = 32\n",
    "n_epochs = 1000\n",
    "#Select the device \n",
    "device = torch.device('cuda' if torch.cuda.is_available() else 'cpu')"
   ]
  },
  {
   "cell_type": "markdown",
   "id": "a95e1600",
   "metadata": {
    "id": "a95e1600",
    "papermill": {
     "duration": 0.007108,
     "end_time": "2022-05-18T08:27:28.286495",
     "exception": false,
     "start_time": "2022-05-18T08:27:28.279387",
     "status": "completed"
    },
    "tags": []
   },
   "source": [
    "# ABC Pre-generator Model \n",
    "\n",
    "1. The catboost model is used as a pre-generator model for the ABC-GAN. \n",
    "2. The model is first trained on the entire dataset \n",
    "3. It generats X,Y pairs and we add some Gaussian noise with mean 0 and variance 1 to it which is then feed as input to the generator.\n"
   ]
  },
  {
   "cell_type": "code",
   "execution_count": 9,
   "id": "ff8ce7bd",
   "metadata": {
    "execution": {
     "iopub.execute_input": "2022-05-18T08:27:28.304439Z",
     "iopub.status.busy": "2022-05-18T08:27:28.304039Z",
     "iopub.status.idle": "2022-05-18T08:27:28.942334Z",
     "shell.execute_reply": "2022-05-18T08:27:28.942607Z"
    },
    "id": "ff8ce7bd",
    "papermill": {
     "duration": 0.649112,
     "end_time": "2022-05-18T08:27:28.942743",
     "exception": false,
     "start_time": "2022-05-18T08:27:28.293631",
     "status": "completed"
    },
    "tags": []
   },
   "outputs": [
    {
     "name": "stdout",
     "output_type": "stream",
     "text": [
      "Learning rate set to 0.024897\n",
      "0:\tlearn: 0.9885725\ttotal: 55.8ms\tremaining: 55.7s\n",
      "1:\tlearn: 0.9791886\ttotal: 56.3ms\tremaining: 28.1s\n",
      "2:\tlearn: 0.9675722\ttotal: 56.9ms\tremaining: 18.9s\n",
      "3:\tlearn: 0.9574282\ttotal: 57.5ms\tremaining: 14.3s\n",
      "4:\tlearn: 0.9467503\ttotal: 58ms\tremaining: 11.5s\n",
      "5:\tlearn: 0.9373775\ttotal: 58.6ms\tremaining: 9.71s\n",
      "6:\tlearn: 0.9244996\ttotal: 59.1ms\tremaining: 8.39s\n",
      "7:\tlearn: 0.9142117\ttotal: 59.7ms\tremaining: 7.4s\n",
      "8:\tlearn: 0.9046219\ttotal: 60.2ms\tremaining: 6.63s\n",
      "9:\tlearn: 0.8934408\ttotal: 60.8ms\tremaining: 6.02s\n",
      "10:\tlearn: 0.8834490\ttotal: 61.3ms\tremaining: 5.51s\n",
      "11:\tlearn: 0.8721873\ttotal: 61.8ms\tremaining: 5.09s\n",
      "12:\tlearn: 0.8618331\ttotal: 62.5ms\tremaining: 4.75s\n",
      "13:\tlearn: 0.8520258\ttotal: 63.1ms\tremaining: 4.44s\n",
      "14:\tlearn: 0.8453242\ttotal: 63.5ms\tremaining: 4.17s\n",
      "15:\tlearn: 0.8357729\ttotal: 64.1ms\tremaining: 3.94s\n",
      "16:\tlearn: 0.8267629\ttotal: 64.6ms\tremaining: 3.73s\n",
      "17:\tlearn: 0.8184253\ttotal: 65.1ms\tremaining: 3.55s\n",
      "18:\tlearn: 0.8092460\ttotal: 65.6ms\tremaining: 3.39s\n",
      "19:\tlearn: 0.8009350\ttotal: 66.2ms\tremaining: 3.24s\n",
      "20:\tlearn: 0.7927506\ttotal: 66.6ms\tremaining: 3.1s\n",
      "21:\tlearn: 0.7836662\ttotal: 67ms\tremaining: 2.98s\n",
      "22:\tlearn: 0.7748568\ttotal: 67.7ms\tremaining: 2.88s\n",
      "23:\tlearn: 0.7656300\ttotal: 68.1ms\tremaining: 2.77s\n",
      "24:\tlearn: 0.7576402\ttotal: 68.5ms\tremaining: 2.67s\n",
      "25:\tlearn: 0.7498620\ttotal: 69ms\tremaining: 2.58s\n",
      "26:\tlearn: 0.7426289\ttotal: 69.4ms\tremaining: 2.5s\n",
      "27:\tlearn: 0.7340984\ttotal: 69.9ms\tremaining: 2.43s\n",
      "28:\tlearn: 0.7247700\ttotal: 70.4ms\tremaining: 2.35s\n",
      "29:\tlearn: 0.7177853\ttotal: 70.9ms\tremaining: 2.29s\n",
      "30:\tlearn: 0.7101235\ttotal: 71.4ms\tremaining: 2.23s\n",
      "31:\tlearn: 0.7023112\ttotal: 71.8ms\tremaining: 2.17s\n",
      "32:\tlearn: 0.6953023\ttotal: 72.3ms\tremaining: 2.12s\n",
      "33:\tlearn: 0.6876576\ttotal: 72.7ms\tremaining: 2.06s\n",
      "34:\tlearn: 0.6807092\ttotal: 73.3ms\tremaining: 2.02s\n",
      "35:\tlearn: 0.6749839\ttotal: 74ms\tremaining: 1.98s\n",
      "36:\tlearn: 0.6680226\ttotal: 74.3ms\tremaining: 1.93s\n",
      "37:\tlearn: 0.6601530\ttotal: 75ms\tremaining: 1.9s\n",
      "38:\tlearn: 0.6533478\ttotal: 75.4ms\tremaining: 1.86s\n",
      "39:\tlearn: 0.6468793\ttotal: 75.8ms\tremaining: 1.82s\n",
      "40:\tlearn: 0.6405925\ttotal: 76.3ms\tremaining: 1.78s\n",
      "41:\tlearn: 0.6343080\ttotal: 76.8ms\tremaining: 1.75s\n",
      "42:\tlearn: 0.6274232\ttotal: 77.4ms\tremaining: 1.72s\n",
      "43:\tlearn: 0.6194639\ttotal: 77.9ms\tremaining: 1.69s\n",
      "44:\tlearn: 0.6125253\ttotal: 78.3ms\tremaining: 1.66s\n",
      "45:\tlearn: 0.6067960\ttotal: 78.8ms\tremaining: 1.63s\n",
      "46:\tlearn: 0.6009759\ttotal: 79.3ms\tremaining: 1.61s\n",
      "47:\tlearn: 0.5940241\ttotal: 79.8ms\tremaining: 1.58s\n",
      "48:\tlearn: 0.5884525\ttotal: 80.2ms\tremaining: 1.56s\n",
      "49:\tlearn: 0.5822581\ttotal: 80.8ms\tremaining: 1.53s\n",
      "50:\tlearn: 0.5753307\ttotal: 81.3ms\tremaining: 1.51s\n",
      "51:\tlearn: 0.5690740\ttotal: 81.9ms\tremaining: 1.49s\n",
      "52:\tlearn: 0.5632249\ttotal: 82.2ms\tremaining: 1.47s\n",
      "53:\tlearn: 0.5582700\ttotal: 82.6ms\tremaining: 1.45s\n",
      "54:\tlearn: 0.5523397\ttotal: 83.1ms\tremaining: 1.43s\n",
      "55:\tlearn: 0.5466067\ttotal: 83.7ms\tremaining: 1.41s\n",
      "56:\tlearn: 0.5419934\ttotal: 84.1ms\tremaining: 1.39s\n",
      "57:\tlearn: 0.5366122\ttotal: 84.6ms\tremaining: 1.37s\n",
      "58:\tlearn: 0.5308395\ttotal: 85ms\tremaining: 1.36s\n",
      "59:\tlearn: 0.5254289\ttotal: 85.6ms\tremaining: 1.34s\n",
      "60:\tlearn: 0.5201351\ttotal: 86.2ms\tremaining: 1.33s\n",
      "61:\tlearn: 0.5144671\ttotal: 86.6ms\tremaining: 1.31s\n",
      "62:\tlearn: 0.5095328\ttotal: 87.2ms\tremaining: 1.3s\n",
      "63:\tlearn: 0.5041107\ttotal: 87.8ms\tremaining: 1.28s\n",
      "64:\tlearn: 0.5000555\ttotal: 88.1ms\tremaining: 1.27s\n",
      "65:\tlearn: 0.4947975\ttotal: 88.7ms\tremaining: 1.25s\n",
      "66:\tlearn: 0.4898984\ttotal: 89.1ms\tremaining: 1.24s\n",
      "67:\tlearn: 0.4848801\ttotal: 89.7ms\tremaining: 1.23s\n",
      "68:\tlearn: 0.4811183\ttotal: 90.2ms\tremaining: 1.22s\n",
      "69:\tlearn: 0.4761097\ttotal: 90.8ms\tremaining: 1.21s\n",
      "70:\tlearn: 0.4710750\ttotal: 91.3ms\tremaining: 1.2s\n",
      "71:\tlearn: 0.4660737\ttotal: 91.8ms\tremaining: 1.18s\n",
      "72:\tlearn: 0.4613613\ttotal: 92.4ms\tremaining: 1.17s\n",
      "73:\tlearn: 0.4572630\ttotal: 93ms\tremaining: 1.16s\n",
      "74:\tlearn: 0.4528643\ttotal: 93.6ms\tremaining: 1.15s\n",
      "75:\tlearn: 0.4486837\ttotal: 93.9ms\tremaining: 1.14s\n",
      "76:\tlearn: 0.4448732\ttotal: 94.4ms\tremaining: 1.13s\n",
      "77:\tlearn: 0.4404173\ttotal: 95.1ms\tremaining: 1.12s\n",
      "78:\tlearn: 0.4372679\ttotal: 95.5ms\tremaining: 1.11s\n"
     ]
    },
    {
     "name": "stdout",
     "output_type": "stream",
     "text": [
      "79:\tlearn: 0.4331892\ttotal: 96.3ms\tremaining: 1.11s\n",
      "80:\tlearn: 0.4286667\ttotal: 96.9ms\tremaining: 1.1s\n",
      "81:\tlearn: 0.4242053\ttotal: 97.4ms\tremaining: 1.09s\n",
      "82:\tlearn: 0.4202215\ttotal: 97.8ms\tremaining: 1.08s\n",
      "83:\tlearn: 0.4162327\ttotal: 98.3ms\tremaining: 1.07s\n",
      "84:\tlearn: 0.4117739\ttotal: 98.8ms\tremaining: 1.06s\n",
      "85:\tlearn: 0.4081074\ttotal: 99.4ms\tremaining: 1.06s\n",
      "86:\tlearn: 0.4035522\ttotal: 99.9ms\tremaining: 1.05s\n",
      "87:\tlearn: 0.3995712\ttotal: 100ms\tremaining: 1.04s\n",
      "88:\tlearn: 0.3960984\ttotal: 101ms\tremaining: 1.03s\n",
      "89:\tlearn: 0.3928027\ttotal: 102ms\tremaining: 1.03s\n",
      "90:\tlearn: 0.3890918\ttotal: 102ms\tremaining: 1.02s\n",
      "91:\tlearn: 0.3853745\ttotal: 103ms\tremaining: 1.01s\n",
      "92:\tlearn: 0.3818733\ttotal: 103ms\tremaining: 1s\n",
      "93:\tlearn: 0.3780643\ttotal: 104ms\tremaining: 999ms\n",
      "94:\tlearn: 0.3750237\ttotal: 104ms\tremaining: 992ms\n",
      "95:\tlearn: 0.3716250\ttotal: 105ms\tremaining: 985ms\n",
      "96:\tlearn: 0.3684075\ttotal: 105ms\tremaining: 979ms\n",
      "97:\tlearn: 0.3649175\ttotal: 106ms\tremaining: 972ms\n",
      "98:\tlearn: 0.3615849\ttotal: 106ms\tremaining: 966ms\n",
      "99:\tlearn: 0.3584957\ttotal: 107ms\tremaining: 960ms\n",
      "100:\tlearn: 0.3552044\ttotal: 107ms\tremaining: 954ms\n",
      "101:\tlearn: 0.3519993\ttotal: 108ms\tremaining: 948ms\n",
      "102:\tlearn: 0.3487930\ttotal: 108ms\tremaining: 942ms\n",
      "103:\tlearn: 0.3458127\ttotal: 109ms\tremaining: 936ms\n",
      "104:\tlearn: 0.3428465\ttotal: 109ms\tremaining: 930ms\n",
      "105:\tlearn: 0.3399538\ttotal: 110ms\tremaining: 924ms\n",
      "106:\tlearn: 0.3368667\ttotal: 110ms\tremaining: 918ms\n",
      "107:\tlearn: 0.3338151\ttotal: 110ms\tremaining: 912ms\n",
      "108:\tlearn: 0.3303552\ttotal: 111ms\tremaining: 907ms\n",
      "109:\tlearn: 0.3271595\ttotal: 112ms\tremaining: 903ms\n",
      "110:\tlearn: 0.3245137\ttotal: 112ms\tremaining: 898ms\n",
      "111:\tlearn: 0.3213740\ttotal: 113ms\tremaining: 893ms\n",
      "112:\tlearn: 0.3186949\ttotal: 113ms\tremaining: 888ms\n",
      "113:\tlearn: 0.3158510\ttotal: 114ms\tremaining: 883ms\n",
      "114:\tlearn: 0.3129476\ttotal: 114ms\tremaining: 877ms\n",
      "115:\tlearn: 0.3101698\ttotal: 114ms\tremaining: 872ms\n",
      "116:\tlearn: 0.3072482\ttotal: 115ms\tremaining: 868ms\n",
      "117:\tlearn: 0.3046684\ttotal: 116ms\tremaining: 864ms\n",
      "118:\tlearn: 0.3018110\ttotal: 116ms\tremaining: 860ms\n",
      "119:\tlearn: 0.2996690\ttotal: 117ms\tremaining: 857ms\n",
      "120:\tlearn: 0.2967283\ttotal: 117ms\tremaining: 853ms\n",
      "121:\tlearn: 0.2943640\ttotal: 118ms\tremaining: 849ms\n",
      "122:\tlearn: 0.2920592\ttotal: 118ms\tremaining: 844ms\n",
      "123:\tlearn: 0.2889121\ttotal: 119ms\tremaining: 839ms\n",
      "124:\tlearn: 0.2863041\ttotal: 119ms\tremaining: 836ms\n",
      "125:\tlearn: 0.2841588\ttotal: 120ms\tremaining: 833ms\n",
      "126:\tlearn: 0.2815676\ttotal: 121ms\tremaining: 830ms\n",
      "127:\tlearn: 0.2798542\ttotal: 121ms\tremaining: 825ms\n",
      "128:\tlearn: 0.2776437\ttotal: 122ms\tremaining: 822ms\n",
      "129:\tlearn: 0.2753807\ttotal: 122ms\tremaining: 818ms\n",
      "130:\tlearn: 0.2732615\ttotal: 123ms\tremaining: 814ms\n",
      "131:\tlearn: 0.2708513\ttotal: 123ms\tremaining: 811ms\n",
      "132:\tlearn: 0.2686728\ttotal: 124ms\tremaining: 807ms\n",
      "133:\tlearn: 0.2662642\ttotal: 124ms\tremaining: 804ms\n",
      "134:\tlearn: 0.2642652\ttotal: 125ms\tremaining: 801ms\n",
      "135:\tlearn: 0.2618754\ttotal: 125ms\tremaining: 797ms\n",
      "136:\tlearn: 0.2597136\ttotal: 126ms\tremaining: 794ms\n",
      "137:\tlearn: 0.2575189\ttotal: 126ms\tremaining: 790ms\n",
      "138:\tlearn: 0.2554554\ttotal: 127ms\tremaining: 786ms\n",
      "139:\tlearn: 0.2535988\ttotal: 127ms\tremaining: 782ms\n",
      "140:\tlearn: 0.2515514\ttotal: 128ms\tremaining: 779ms\n",
      "141:\tlearn: 0.2494216\ttotal: 129ms\tremaining: 777ms\n",
      "142:\tlearn: 0.2472115\ttotal: 129ms\tremaining: 774ms\n",
      "143:\tlearn: 0.2453169\ttotal: 130ms\tremaining: 773ms\n",
      "144:\tlearn: 0.2433176\ttotal: 131ms\tremaining: 774ms\n",
      "145:\tlearn: 0.2417164\ttotal: 132ms\tremaining: 771ms\n",
      "146:\tlearn: 0.2397289\ttotal: 132ms\tremaining: 768ms\n",
      "147:\tlearn: 0.2376744\ttotal: 133ms\tremaining: 764ms\n",
      "148:\tlearn: 0.2357357\ttotal: 134ms\tremaining: 764ms\n",
      "149:\tlearn: 0.2340691\ttotal: 134ms\tremaining: 762ms\n",
      "150:\tlearn: 0.2322053\ttotal: 135ms\tremaining: 760ms\n",
      "151:\tlearn: 0.2303669\ttotal: 136ms\tremaining: 756ms\n",
      "152:\tlearn: 0.2285003\ttotal: 136ms\tremaining: 753ms\n",
      "153:\tlearn: 0.2267803\ttotal: 136ms\tremaining: 750ms\n",
      "154:\tlearn: 0.2251021\ttotal: 137ms\tremaining: 748ms\n",
      "155:\tlearn: 0.2232669\ttotal: 138ms\tremaining: 744ms\n",
      "156:\tlearn: 0.2213642\ttotal: 138ms\tremaining: 741ms\n",
      "157:\tlearn: 0.2195576\ttotal: 139ms\tremaining: 738ms\n",
      "158:\tlearn: 0.2176000\ttotal: 139ms\tremaining: 736ms\n",
      "159:\tlearn: 0.2158805\ttotal: 140ms\tremaining: 735ms\n",
      "160:\tlearn: 0.2141409\ttotal: 141ms\tremaining: 733ms\n",
      "161:\tlearn: 0.2125316\ttotal: 141ms\tremaining: 730ms\n",
      "162:\tlearn: 0.2107739\ttotal: 142ms\tremaining: 727ms\n",
      "163:\tlearn: 0.2092568\ttotal: 142ms\tremaining: 724ms\n",
      "164:\tlearn: 0.2075664\ttotal: 143ms\tremaining: 721ms\n",
      "165:\tlearn: 0.2059067\ttotal: 143ms\tremaining: 719ms\n",
      "166:\tlearn: 0.2043592\ttotal: 144ms\tremaining: 716ms\n",
      "167:\tlearn: 0.2028843\ttotal: 144ms\tremaining: 714ms\n",
      "168:\tlearn: 0.2014068\ttotal: 145ms\tremaining: 713ms\n",
      "169:\tlearn: 0.2000356\ttotal: 146ms\tremaining: 711ms\n",
      "170:\tlearn: 0.1983558\ttotal: 146ms\tremaining: 709ms\n",
      "171:\tlearn: 0.1968267\ttotal: 147ms\tremaining: 708ms\n",
      "172:\tlearn: 0.1952427\ttotal: 148ms\tremaining: 706ms\n",
      "173:\tlearn: 0.1939218\ttotal: 148ms\tremaining: 705ms\n",
      "174:\tlearn: 0.1925489\ttotal: 149ms\tremaining: 703ms\n",
      "175:\tlearn: 0.1912214\ttotal: 150ms\tremaining: 701ms\n",
      "176:\tlearn: 0.1894724\ttotal: 150ms\tremaining: 699ms\n",
      "177:\tlearn: 0.1880809\ttotal: 151ms\tremaining: 697ms\n",
      "178:\tlearn: 0.1867449\ttotal: 152ms\tremaining: 696ms\n",
      "179:\tlearn: 0.1852579\ttotal: 152ms\tremaining: 694ms\n",
      "180:\tlearn: 0.1839706\ttotal: 153ms\tremaining: 693ms\n",
      "181:\tlearn: 0.1826285\ttotal: 154ms\tremaining: 693ms\n",
      "182:\tlearn: 0.1812905\ttotal: 155ms\tremaining: 692ms\n",
      "183:\tlearn: 0.1799346\ttotal: 156ms\tremaining: 690ms\n",
      "184:\tlearn: 0.1787345\ttotal: 156ms\tremaining: 688ms\n",
      "185:\tlearn: 0.1772863\ttotal: 157ms\tremaining: 685ms\n",
      "186:\tlearn: 0.1761725\ttotal: 157ms\tremaining: 683ms\n",
      "187:\tlearn: 0.1745793\ttotal: 158ms\tremaining: 681ms\n",
      "188:\tlearn: 0.1733587\ttotal: 158ms\tremaining: 679ms\n",
      "189:\tlearn: 0.1720650\ttotal: 159ms\tremaining: 677ms\n",
      "190:\tlearn: 0.1707686\ttotal: 159ms\tremaining: 674ms\n",
      "191:\tlearn: 0.1695122\ttotal: 160ms\tremaining: 672ms\n",
      "192:\tlearn: 0.1682810\ttotal: 160ms\tremaining: 670ms\n",
      "193:\tlearn: 0.1669207\ttotal: 161ms\tremaining: 668ms\n",
      "194:\tlearn: 0.1655951\ttotal: 161ms\tremaining: 665ms\n",
      "195:\tlearn: 0.1641231\ttotal: 162ms\tremaining: 663ms\n",
      "196:\tlearn: 0.1630052\ttotal: 162ms\tremaining: 661ms\n",
      "197:\tlearn: 0.1617908\ttotal: 163ms\tremaining: 659ms\n",
      "198:\tlearn: 0.1605564\ttotal: 163ms\tremaining: 657ms\n",
      "199:\tlearn: 0.1595991\ttotal: 164ms\tremaining: 655ms\n",
      "200:\tlearn: 0.1586659\ttotal: 164ms\tremaining: 652ms\n",
      "201:\tlearn: 0.1574856\ttotal: 165ms\tremaining: 650ms\n",
      "202:\tlearn: 0.1562563\ttotal: 165ms\tremaining: 649ms\n",
      "203:\tlearn: 0.1550844\ttotal: 166ms\tremaining: 648ms\n",
      "204:\tlearn: 0.1538499\ttotal: 167ms\tremaining: 647ms\n",
      "205:\tlearn: 0.1528274\ttotal: 167ms\tremaining: 645ms\n",
      "206:\tlearn: 0.1517988\ttotal: 168ms\tremaining: 643ms\n",
      "207:\tlearn: 0.1507575\ttotal: 168ms\tremaining: 641ms\n",
      "208:\tlearn: 0.1494939\ttotal: 169ms\tremaining: 639ms\n",
      "209:\tlearn: 0.1483991\ttotal: 170ms\tremaining: 638ms\n",
      "210:\tlearn: 0.1474768\ttotal: 170ms\tremaining: 636ms\n",
      "211:\tlearn: 0.1463469\ttotal: 171ms\tremaining: 635ms\n",
      "212:\tlearn: 0.1453173\ttotal: 171ms\tremaining: 633ms\n",
      "213:\tlearn: 0.1442114\ttotal: 172ms\tremaining: 631ms\n",
      "214:\tlearn: 0.1430173\ttotal: 172ms\tremaining: 629ms\n",
      "215:\tlearn: 0.1418840\ttotal: 173ms\tremaining: 628ms\n",
      "216:\tlearn: 0.1406649\ttotal: 173ms\tremaining: 626ms\n",
      "217:\tlearn: 0.1398066\ttotal: 174ms\tremaining: 624ms\n",
      "218:\tlearn: 0.1387306\ttotal: 174ms\tremaining: 622ms\n",
      "219:\tlearn: 0.1377682\ttotal: 175ms\tremaining: 621ms\n",
      "220:\tlearn: 0.1367263\ttotal: 176ms\tremaining: 619ms\n",
      "221:\tlearn: 0.1357407\ttotal: 176ms\tremaining: 617ms\n",
      "222:\tlearn: 0.1345980\ttotal: 177ms\tremaining: 615ms\n",
      "223:\tlearn: 0.1337164\ttotal: 177ms\tremaining: 614ms\n",
      "224:\tlearn: 0.1327002\ttotal: 178ms\tremaining: 612ms\n",
      "225:\tlearn: 0.1318195\ttotal: 178ms\tremaining: 610ms\n",
      "226:\tlearn: 0.1308726\ttotal: 179ms\tremaining: 609ms\n",
      "227:\tlearn: 0.1297842\ttotal: 179ms\tremaining: 607ms\n",
      "228:\tlearn: 0.1287617\ttotal: 180ms\tremaining: 605ms\n",
      "229:\tlearn: 0.1278307\ttotal: 180ms\tremaining: 603ms\n",
      "230:\tlearn: 0.1269521\ttotal: 181ms\tremaining: 601ms\n",
      "231:\tlearn: 0.1260308\ttotal: 181ms\tremaining: 599ms\n",
      "232:\tlearn: 0.1250936\ttotal: 181ms\tremaining: 597ms\n",
      "233:\tlearn: 0.1240289\ttotal: 182ms\tremaining: 595ms\n",
      "234:\tlearn: 0.1229855\ttotal: 182ms\tremaining: 594ms\n",
      "235:\tlearn: 0.1220759\ttotal: 183ms\tremaining: 592ms\n",
      "236:\tlearn: 0.1211008\ttotal: 183ms\tremaining: 591ms\n",
      "237:\tlearn: 0.1202739\ttotal: 184ms\tremaining: 589ms\n",
      "238:\tlearn: 0.1193722\ttotal: 184ms\tremaining: 587ms\n",
      "239:\tlearn: 0.1186078\ttotal: 185ms\tremaining: 586ms\n",
      "240:\tlearn: 0.1176598\ttotal: 185ms\tremaining: 584ms\n",
      "241:\tlearn: 0.1168485\ttotal: 186ms\tremaining: 583ms\n"
     ]
    },
    {
     "name": "stdout",
     "output_type": "stream",
     "text": [
      "242:\tlearn: 0.1159651\ttotal: 187ms\tremaining: 582ms\n",
      "243:\tlearn: 0.1150742\ttotal: 187ms\tremaining: 580ms\n",
      "244:\tlearn: 0.1142731\ttotal: 188ms\tremaining: 579ms\n",
      "245:\tlearn: 0.1134563\ttotal: 188ms\tremaining: 577ms\n",
      "246:\tlearn: 0.1126048\ttotal: 189ms\tremaining: 575ms\n",
      "247:\tlearn: 0.1118209\ttotal: 189ms\tremaining: 574ms\n",
      "248:\tlearn: 0.1110752\ttotal: 190ms\tremaining: 572ms\n",
      "249:\tlearn: 0.1103168\ttotal: 190ms\tremaining: 570ms\n",
      "250:\tlearn: 0.1095038\ttotal: 191ms\tremaining: 569ms\n",
      "251:\tlearn: 0.1088098\ttotal: 191ms\tremaining: 567ms\n",
      "252:\tlearn: 0.1080415\ttotal: 192ms\tremaining: 566ms\n",
      "253:\tlearn: 0.1073230\ttotal: 192ms\tremaining: 564ms\n",
      "254:\tlearn: 0.1065232\ttotal: 193ms\tremaining: 563ms\n",
      "255:\tlearn: 0.1057138\ttotal: 193ms\tremaining: 561ms\n",
      "256:\tlearn: 0.1048899\ttotal: 194ms\tremaining: 560ms\n",
      "257:\tlearn: 0.1041485\ttotal: 194ms\tremaining: 559ms\n",
      "258:\tlearn: 0.1034378\ttotal: 195ms\tremaining: 557ms\n",
      "259:\tlearn: 0.1027235\ttotal: 195ms\tremaining: 555ms\n",
      "260:\tlearn: 0.1020061\ttotal: 196ms\tremaining: 554ms\n",
      "261:\tlearn: 0.1014024\ttotal: 196ms\tremaining: 553ms\n",
      "262:\tlearn: 0.1007621\ttotal: 197ms\tremaining: 551ms\n",
      "263:\tlearn: 0.1000498\ttotal: 197ms\tremaining: 550ms\n",
      "264:\tlearn: 0.0993101\ttotal: 198ms\tremaining: 548ms\n",
      "265:\tlearn: 0.0985596\ttotal: 198ms\tremaining: 546ms\n",
      "266:\tlearn: 0.0978933\ttotal: 198ms\tremaining: 545ms\n",
      "267:\tlearn: 0.0971773\ttotal: 199ms\tremaining: 543ms\n",
      "268:\tlearn: 0.0965627\ttotal: 199ms\tremaining: 542ms\n",
      "269:\tlearn: 0.0958354\ttotal: 200ms\tremaining: 540ms\n",
      "270:\tlearn: 0.0952262\ttotal: 200ms\tremaining: 538ms\n",
      "271:\tlearn: 0.0945057\ttotal: 201ms\tremaining: 537ms\n",
      "272:\tlearn: 0.0938199\ttotal: 201ms\tremaining: 535ms\n",
      "273:\tlearn: 0.0931819\ttotal: 201ms\tremaining: 534ms\n",
      "274:\tlearn: 0.0924923\ttotal: 202ms\tremaining: 533ms\n",
      "275:\tlearn: 0.0918687\ttotal: 203ms\tremaining: 531ms\n",
      "276:\tlearn: 0.0912665\ttotal: 203ms\tremaining: 530ms\n",
      "277:\tlearn: 0.0905115\ttotal: 204ms\tremaining: 529ms\n",
      "278:\tlearn: 0.0899548\ttotal: 204ms\tremaining: 528ms\n",
      "279:\tlearn: 0.0893714\ttotal: 205ms\tremaining: 526ms\n",
      "280:\tlearn: 0.0887489\ttotal: 205ms\tremaining: 525ms\n",
      "281:\tlearn: 0.0881723\ttotal: 206ms\tremaining: 524ms\n",
      "282:\tlearn: 0.0875006\ttotal: 206ms\tremaining: 523ms\n",
      "283:\tlearn: 0.0868866\ttotal: 207ms\tremaining: 521ms\n",
      "284:\tlearn: 0.0862847\ttotal: 207ms\tremaining: 520ms\n",
      "285:\tlearn: 0.0856395\ttotal: 208ms\tremaining: 519ms\n",
      "286:\tlearn: 0.0850783\ttotal: 209ms\tremaining: 518ms\n",
      "287:\tlearn: 0.0845421\ttotal: 209ms\tremaining: 517ms\n",
      "288:\tlearn: 0.0840266\ttotal: 210ms\tremaining: 516ms\n",
      "289:\tlearn: 0.0833803\ttotal: 210ms\tremaining: 514ms\n",
      "290:\tlearn: 0.0828106\ttotal: 211ms\tremaining: 513ms\n",
      "291:\tlearn: 0.0822595\ttotal: 211ms\tremaining: 512ms\n",
      "292:\tlearn: 0.0816886\ttotal: 212ms\tremaining: 510ms\n",
      "293:\tlearn: 0.0811711\ttotal: 212ms\tremaining: 509ms\n",
      "294:\tlearn: 0.0805513\ttotal: 213ms\tremaining: 508ms\n",
      "295:\tlearn: 0.0799944\ttotal: 213ms\tremaining: 507ms\n",
      "296:\tlearn: 0.0794269\ttotal: 214ms\tremaining: 506ms\n",
      "297:\tlearn: 0.0789378\ttotal: 214ms\tremaining: 505ms\n",
      "298:\tlearn: 0.0784048\ttotal: 215ms\tremaining: 503ms\n",
      "299:\tlearn: 0.0778935\ttotal: 215ms\tremaining: 502ms\n",
      "300:\tlearn: 0.0774084\ttotal: 216ms\tremaining: 501ms\n",
      "301:\tlearn: 0.0768085\ttotal: 216ms\tremaining: 500ms\n",
      "302:\tlearn: 0.0763284\ttotal: 217ms\tremaining: 499ms\n",
      "303:\tlearn: 0.0758074\ttotal: 217ms\tremaining: 498ms\n",
      "304:\tlearn: 0.0753356\ttotal: 218ms\tremaining: 497ms\n",
      "305:\tlearn: 0.0748964\ttotal: 219ms\tremaining: 496ms\n",
      "306:\tlearn: 0.0744648\ttotal: 219ms\tremaining: 495ms\n",
      "307:\tlearn: 0.0739564\ttotal: 220ms\tremaining: 494ms\n",
      "308:\tlearn: 0.0734041\ttotal: 220ms\tremaining: 493ms\n",
      "309:\tlearn: 0.0729080\ttotal: 222ms\tremaining: 493ms\n",
      "310:\tlearn: 0.0724361\ttotal: 222ms\tremaining: 492ms\n",
      "311:\tlearn: 0.0719703\ttotal: 223ms\tremaining: 491ms\n",
      "312:\tlearn: 0.0716558\ttotal: 223ms\tremaining: 490ms\n",
      "313:\tlearn: 0.0712015\ttotal: 224ms\tremaining: 489ms\n",
      "314:\tlearn: 0.0708887\ttotal: 224ms\tremaining: 488ms\n",
      "315:\tlearn: 0.0704693\ttotal: 225ms\tremaining: 487ms\n",
      "316:\tlearn: 0.0702184\ttotal: 225ms\tremaining: 485ms\n",
      "317:\tlearn: 0.0697637\ttotal: 226ms\tremaining: 484ms\n",
      "318:\tlearn: 0.0692988\ttotal: 226ms\tremaining: 483ms\n",
      "319:\tlearn: 0.0689367\ttotal: 227ms\tremaining: 482ms\n",
      "320:\tlearn: 0.0685850\ttotal: 227ms\tremaining: 481ms\n",
      "321:\tlearn: 0.0681641\ttotal: 228ms\tremaining: 480ms\n",
      "322:\tlearn: 0.0677865\ttotal: 228ms\tremaining: 479ms\n",
      "323:\tlearn: 0.0674348\ttotal: 229ms\tremaining: 478ms\n",
      "324:\tlearn: 0.0670656\ttotal: 229ms\tremaining: 477ms\n",
      "325:\tlearn: 0.0667886\ttotal: 230ms\tremaining: 475ms\n",
      "326:\tlearn: 0.0665620\ttotal: 230ms\tremaining: 474ms\n",
      "327:\tlearn: 0.0663399\ttotal: 231ms\tremaining: 473ms\n",
      "328:\tlearn: 0.0659845\ttotal: 232ms\tremaining: 472ms\n",
      "329:\tlearn: 0.0657664\ttotal: 232ms\tremaining: 472ms\n",
      "330:\tlearn: 0.0653789\ttotal: 233ms\tremaining: 471ms\n",
      "331:\tlearn: 0.0650003\ttotal: 233ms\tremaining: 470ms\n",
      "332:\tlearn: 0.0645975\ttotal: 234ms\tremaining: 468ms\n",
      "333:\tlearn: 0.0642351\ttotal: 234ms\tremaining: 467ms\n",
      "334:\tlearn: 0.0639797\ttotal: 235ms\tremaining: 466ms\n",
      "335:\tlearn: 0.0637731\ttotal: 235ms\tremaining: 465ms\n",
      "336:\tlearn: 0.0634258\ttotal: 236ms\tremaining: 464ms\n",
      "337:\tlearn: 0.0630782\ttotal: 236ms\tremaining: 463ms\n",
      "338:\tlearn: 0.0627296\ttotal: 237ms\tremaining: 462ms\n",
      "339:\tlearn: 0.0623979\ttotal: 237ms\tremaining: 461ms\n",
      "340:\tlearn: 0.0621036\ttotal: 238ms\tremaining: 460ms\n",
      "341:\tlearn: 0.0617766\ttotal: 239ms\tremaining: 459ms\n",
      "342:\tlearn: 0.0614471\ttotal: 239ms\tremaining: 458ms\n",
      "343:\tlearn: 0.0610809\ttotal: 239ms\tremaining: 457ms\n",
      "344:\tlearn: 0.0608733\ttotal: 240ms\tremaining: 456ms\n",
      "345:\tlearn: 0.0605634\ttotal: 240ms\tremaining: 454ms\n",
      "346:\tlearn: 0.0602514\ttotal: 241ms\tremaining: 453ms\n",
      "347:\tlearn: 0.0599468\ttotal: 241ms\tremaining: 452ms\n",
      "348:\tlearn: 0.0596573\ttotal: 242ms\tremaining: 451ms\n",
      "349:\tlearn: 0.0593661\ttotal: 242ms\tremaining: 450ms\n",
      "350:\tlearn: 0.0591083\ttotal: 243ms\tremaining: 449ms\n",
      "351:\tlearn: 0.0588107\ttotal: 243ms\tremaining: 448ms\n",
      "352:\tlearn: 0.0585309\ttotal: 244ms\tremaining: 447ms\n",
      "353:\tlearn: 0.0581796\ttotal: 244ms\tremaining: 446ms\n",
      "354:\tlearn: 0.0580018\ttotal: 245ms\tremaining: 445ms\n",
      "355:\tlearn: 0.0576011\ttotal: 245ms\tremaining: 444ms\n",
      "356:\tlearn: 0.0574205\ttotal: 246ms\tremaining: 443ms\n",
      "357:\tlearn: 0.0571528\ttotal: 247ms\tremaining: 442ms\n",
      "358:\tlearn: 0.0569824\ttotal: 247ms\tremaining: 441ms\n",
      "359:\tlearn: 0.0567104\ttotal: 248ms\tremaining: 440ms\n",
      "360:\tlearn: 0.0565005\ttotal: 248ms\tremaining: 439ms\n",
      "361:\tlearn: 0.0563360\ttotal: 249ms\tremaining: 438ms\n",
      "362:\tlearn: 0.0560813\ttotal: 249ms\tremaining: 437ms\n",
      "363:\tlearn: 0.0558307\ttotal: 250ms\tremaining: 436ms\n",
      "364:\tlearn: 0.0556712\ttotal: 250ms\tremaining: 435ms\n",
      "365:\tlearn: 0.0553878\ttotal: 251ms\tremaining: 434ms\n",
      "366:\tlearn: 0.0552192\ttotal: 251ms\tremaining: 433ms\n",
      "367:\tlearn: 0.0548404\ttotal: 252ms\tremaining: 432ms\n",
      "368:\tlearn: 0.0546883\ttotal: 252ms\tremaining: 431ms\n",
      "369:\tlearn: 0.0545385\ttotal: 253ms\tremaining: 430ms\n",
      "370:\tlearn: 0.0543024\ttotal: 253ms\tremaining: 429ms\n",
      "371:\tlearn: 0.0539383\ttotal: 254ms\tremaining: 428ms\n",
      "372:\tlearn: 0.0536952\ttotal: 254ms\tremaining: 427ms\n",
      "373:\tlearn: 0.0534680\ttotal: 255ms\tremaining: 426ms\n",
      "374:\tlearn: 0.0533250\ttotal: 255ms\tremaining: 425ms\n",
      "375:\tlearn: 0.0531031\ttotal: 256ms\tremaining: 424ms\n",
      "376:\tlearn: 0.0527521\ttotal: 256ms\tremaining: 423ms\n",
      "377:\tlearn: 0.0524803\ttotal: 257ms\tremaining: 422ms\n",
      "378:\tlearn: 0.0522156\ttotal: 257ms\tremaining: 421ms\n",
      "379:\tlearn: 0.0519785\ttotal: 258ms\tremaining: 420ms\n",
      "380:\tlearn: 0.0516370\ttotal: 258ms\tremaining: 419ms\n",
      "381:\tlearn: 0.0514717\ttotal: 259ms\tremaining: 418ms\n",
      "382:\tlearn: 0.0512889\ttotal: 259ms\tremaining: 418ms\n",
      "383:\tlearn: 0.0511292\ttotal: 260ms\tremaining: 416ms\n",
      "384:\tlearn: 0.0509523\ttotal: 260ms\tremaining: 416ms\n",
      "385:\tlearn: 0.0506253\ttotal: 261ms\tremaining: 415ms\n",
      "386:\tlearn: 0.0503183\ttotal: 261ms\tremaining: 414ms\n",
      "387:\tlearn: 0.0500180\ttotal: 262ms\tremaining: 413ms\n",
      "388:\tlearn: 0.0497896\ttotal: 263ms\tremaining: 413ms\n",
      "389:\tlearn: 0.0495931\ttotal: 263ms\tremaining: 412ms\n",
      "390:\tlearn: 0.0492842\ttotal: 264ms\tremaining: 411ms\n",
      "391:\tlearn: 0.0489976\ttotal: 264ms\tremaining: 410ms\n",
      "392:\tlearn: 0.0488348\ttotal: 265ms\tremaining: 409ms\n",
      "393:\tlearn: 0.0486749\ttotal: 265ms\tremaining: 408ms\n",
      "394:\tlearn: 0.0483968\ttotal: 266ms\tremaining: 407ms\n",
      "395:\tlearn: 0.0481046\ttotal: 266ms\tremaining: 406ms\n",
      "396:\tlearn: 0.0479046\ttotal: 267ms\tremaining: 405ms\n",
      "397:\tlearn: 0.0477656\ttotal: 267ms\tremaining: 404ms\n",
      "398:\tlearn: 0.0476058\ttotal: 268ms\tremaining: 403ms\n",
      "399:\tlearn: 0.0474583\ttotal: 268ms\tremaining: 402ms\n",
      "400:\tlearn: 0.0471778\ttotal: 269ms\tremaining: 401ms\n",
      "401:\tlearn: 0.0470306\ttotal: 269ms\tremaining: 401ms\n",
      "402:\tlearn: 0.0468750\ttotal: 270ms\tremaining: 400ms\n",
      "403:\tlearn: 0.0466579\ttotal: 270ms\tremaining: 399ms\n",
      "404:\tlearn: 0.0464133\ttotal: 271ms\tremaining: 398ms\n",
      "405:\tlearn: 0.0462740\ttotal: 271ms\tremaining: 397ms\n",
      "406:\tlearn: 0.0461455\ttotal: 272ms\tremaining: 396ms\n",
      "407:\tlearn: 0.0459103\ttotal: 272ms\tremaining: 395ms\n",
      "408:\tlearn: 0.0456371\ttotal: 273ms\tremaining: 394ms\n",
      "409:\tlearn: 0.0454703\ttotal: 274ms\tremaining: 395ms\n",
      "410:\tlearn: 0.0453134\ttotal: 275ms\tremaining: 394ms\n",
      "411:\tlearn: 0.0450884\ttotal: 275ms\tremaining: 393ms\n",
      "412:\tlearn: 0.0448290\ttotal: 276ms\tremaining: 392ms\n",
      "413:\tlearn: 0.0446117\ttotal: 276ms\tremaining: 391ms\n",
      "414:\tlearn: 0.0444842\ttotal: 277ms\tremaining: 390ms\n",
      "415:\tlearn: 0.0443632\ttotal: 277ms\tremaining: 389ms\n",
      "416:\tlearn: 0.0441084\ttotal: 277ms\tremaining: 388ms\n",
      "417:\tlearn: 0.0439539\ttotal: 278ms\tremaining: 387ms\n",
      "418:\tlearn: 0.0438386\ttotal: 278ms\tremaining: 386ms\n",
      "419:\tlearn: 0.0435893\ttotal: 279ms\tremaining: 385ms\n",
      "420:\tlearn: 0.0434675\ttotal: 279ms\tremaining: 384ms\n"
     ]
    },
    {
     "name": "stdout",
     "output_type": "stream",
     "text": [
      "421:\tlearn: 0.0433475\ttotal: 280ms\tremaining: 384ms\n",
      "422:\tlearn: 0.0431454\ttotal: 281ms\tremaining: 383ms\n",
      "423:\tlearn: 0.0430335\ttotal: 281ms\tremaining: 382ms\n",
      "424:\tlearn: 0.0427933\ttotal: 282ms\tremaining: 381ms\n",
      "425:\tlearn: 0.0426484\ttotal: 282ms\tremaining: 380ms\n",
      "426:\tlearn: 0.0424115\ttotal: 283ms\tremaining: 379ms\n",
      "427:\tlearn: 0.0423049\ttotal: 283ms\tremaining: 379ms\n",
      "428:\tlearn: 0.0421753\ttotal: 284ms\tremaining: 378ms\n",
      "429:\tlearn: 0.0419457\ttotal: 284ms\tremaining: 377ms\n",
      "430:\tlearn: 0.0417975\ttotal: 285ms\tremaining: 376ms\n",
      "431:\tlearn: 0.0416104\ttotal: 285ms\tremaining: 375ms\n",
      "432:\tlearn: 0.0415077\ttotal: 286ms\tremaining: 374ms\n",
      "433:\tlearn: 0.0412827\ttotal: 286ms\tremaining: 373ms\n",
      "434:\tlearn: 0.0411559\ttotal: 287ms\tremaining: 372ms\n",
      "435:\tlearn: 0.0409582\ttotal: 287ms\tremaining: 371ms\n",
      "436:\tlearn: 0.0407798\ttotal: 288ms\tremaining: 371ms\n",
      "437:\tlearn: 0.0406065\ttotal: 289ms\tremaining: 371ms\n",
      "438:\tlearn: 0.0404419\ttotal: 289ms\tremaining: 370ms\n",
      "439:\tlearn: 0.0402813\ttotal: 290ms\tremaining: 369ms\n",
      "440:\tlearn: 0.0400568\ttotal: 290ms\tremaining: 368ms\n",
      "441:\tlearn: 0.0399123\ttotal: 291ms\tremaining: 367ms\n",
      "442:\tlearn: 0.0397593\ttotal: 291ms\tremaining: 366ms\n",
      "443:\tlearn: 0.0395453\ttotal: 291ms\tremaining: 365ms\n",
      "444:\tlearn: 0.0394070\ttotal: 292ms\tremaining: 364ms\n",
      "445:\tlearn: 0.0392062\ttotal: 292ms\tremaining: 363ms\n",
      "446:\tlearn: 0.0390969\ttotal: 293ms\tremaining: 362ms\n",
      "447:\tlearn: 0.0388916\ttotal: 294ms\tremaining: 362ms\n",
      "448:\tlearn: 0.0388294\ttotal: 294ms\tremaining: 361ms\n",
      "449:\tlearn: 0.0387726\ttotal: 295ms\tremaining: 360ms\n",
      "450:\tlearn: 0.0387045\ttotal: 295ms\tremaining: 359ms\n",
      "451:\tlearn: 0.0386092\ttotal: 295ms\tremaining: 358ms\n",
      "452:\tlearn: 0.0384892\ttotal: 296ms\tremaining: 357ms\n",
      "453:\tlearn: 0.0382913\ttotal: 296ms\tremaining: 356ms\n",
      "454:\tlearn: 0.0381083\ttotal: 297ms\tremaining: 356ms\n",
      "455:\tlearn: 0.0379927\ttotal: 298ms\tremaining: 355ms\n",
      "456:\tlearn: 0.0379356\ttotal: 298ms\tremaining: 355ms\n",
      "457:\tlearn: 0.0378359\ttotal: 299ms\tremaining: 354ms\n",
      "458:\tlearn: 0.0376396\ttotal: 300ms\tremaining: 353ms\n",
      "459:\tlearn: 0.0375827\ttotal: 300ms\tremaining: 352ms\n",
      "460:\tlearn: 0.0373952\ttotal: 301ms\tremaining: 351ms\n",
      "461:\tlearn: 0.0373152\ttotal: 301ms\tremaining: 351ms\n",
      "462:\tlearn: 0.0371432\ttotal: 302ms\tremaining: 350ms\n",
      "463:\tlearn: 0.0370940\ttotal: 302ms\tremaining: 349ms\n",
      "464:\tlearn: 0.0369632\ttotal: 303ms\tremaining: 348ms\n",
      "465:\tlearn: 0.0368863\ttotal: 303ms\tremaining: 347ms\n",
      "466:\tlearn: 0.0367593\ttotal: 304ms\tremaining: 346ms\n",
      "467:\tlearn: 0.0366997\ttotal: 304ms\tremaining: 346ms\n",
      "468:\tlearn: 0.0365736\ttotal: 305ms\tremaining: 345ms\n",
      "469:\tlearn: 0.0364113\ttotal: 305ms\tremaining: 344ms\n",
      "470:\tlearn: 0.0363620\ttotal: 306ms\tremaining: 343ms\n",
      "471:\tlearn: 0.0362567\ttotal: 306ms\tremaining: 343ms\n",
      "472:\tlearn: 0.0361407\ttotal: 307ms\tremaining: 342ms\n",
      "473:\tlearn: 0.0360829\ttotal: 307ms\tremaining: 341ms\n",
      "474:\tlearn: 0.0359835\ttotal: 308ms\tremaining: 340ms\n",
      "475:\tlearn: 0.0359113\ttotal: 308ms\tremaining: 339ms\n",
      "476:\tlearn: 0.0358277\ttotal: 309ms\tremaining: 339ms\n",
      "477:\tlearn: 0.0357811\ttotal: 309ms\tremaining: 338ms\n",
      "478:\tlearn: 0.0356997\ttotal: 310ms\tremaining: 337ms\n",
      "479:\tlearn: 0.0356004\ttotal: 311ms\tremaining: 337ms\n",
      "480:\tlearn: 0.0355055\ttotal: 311ms\tremaining: 336ms\n",
      "481:\tlearn: 0.0354262\ttotal: 312ms\tremaining: 335ms\n",
      "482:\tlearn: 0.0353486\ttotal: 312ms\tremaining: 334ms\n",
      "483:\tlearn: 0.0351448\ttotal: 313ms\tremaining: 334ms\n",
      "484:\tlearn: 0.0349461\ttotal: 313ms\tremaining: 333ms\n",
      "485:\tlearn: 0.0347525\ttotal: 314ms\tremaining: 332ms\n",
      "486:\tlearn: 0.0346035\ttotal: 314ms\tremaining: 331ms\n",
      "487:\tlearn: 0.0344878\ttotal: 315ms\tremaining: 330ms\n",
      "488:\tlearn: 0.0343423\ttotal: 315ms\tremaining: 330ms\n",
      "489:\tlearn: 0.0341670\ttotal: 316ms\tremaining: 329ms\n",
      "490:\tlearn: 0.0339959\ttotal: 316ms\tremaining: 328ms\n",
      "491:\tlearn: 0.0338167\ttotal: 317ms\tremaining: 327ms\n",
      "492:\tlearn: 0.0336761\ttotal: 317ms\tremaining: 326ms\n",
      "493:\tlearn: 0.0335384\ttotal: 318ms\tremaining: 326ms\n",
      "494:\tlearn: 0.0334284\ttotal: 318ms\tremaining: 325ms\n",
      "495:\tlearn: 0.0332654\ttotal: 319ms\tremaining: 324ms\n",
      "496:\tlearn: 0.0331315\ttotal: 319ms\tremaining: 323ms\n",
      "497:\tlearn: 0.0329727\ttotal: 320ms\tremaining: 322ms\n",
      "498:\tlearn: 0.0328176\ttotal: 320ms\tremaining: 321ms\n",
      "499:\tlearn: 0.0326897\ttotal: 321ms\tremaining: 321ms\n",
      "500:\tlearn: 0.0325569\ttotal: 321ms\tremaining: 320ms\n",
      "501:\tlearn: 0.0324319\ttotal: 322ms\tremaining: 319ms\n",
      "502:\tlearn: 0.0323049\ttotal: 322ms\tremaining: 318ms\n",
      "503:\tlearn: 0.0321528\ttotal: 323ms\tremaining: 317ms\n",
      "504:\tlearn: 0.0320053\ttotal: 323ms\tremaining: 317ms\n",
      "505:\tlearn: 0.0318614\ttotal: 323ms\tremaining: 316ms\n",
      "506:\tlearn: 0.0317576\ttotal: 324ms\tremaining: 315ms\n",
      "507:\tlearn: 0.0316227\ttotal: 324ms\tremaining: 314ms\n",
      "508:\tlearn: 0.0314908\ttotal: 325ms\tremaining: 314ms\n",
      "509:\tlearn: 0.0314164\ttotal: 326ms\tremaining: 313ms\n",
      "510:\tlearn: 0.0313082\ttotal: 326ms\tremaining: 312ms\n",
      "511:\tlearn: 0.0312335\ttotal: 327ms\tremaining: 311ms\n",
      "512:\tlearn: 0.0311608\ttotal: 327ms\tremaining: 310ms\n",
      "513:\tlearn: 0.0310908\ttotal: 327ms\tremaining: 309ms\n",
      "514:\tlearn: 0.0310284\ttotal: 328ms\tremaining: 309ms\n",
      "515:\tlearn: 0.0309840\ttotal: 328ms\tremaining: 308ms\n",
      "516:\tlearn: 0.0308822\ttotal: 329ms\tremaining: 307ms\n",
      "517:\tlearn: 0.0308193\ttotal: 329ms\tremaining: 306ms\n",
      "518:\tlearn: 0.0307579\ttotal: 330ms\tremaining: 306ms\n",
      "519:\tlearn: 0.0306979\ttotal: 330ms\tremaining: 305ms\n",
      "520:\tlearn: 0.0305594\ttotal: 331ms\tremaining: 304ms\n",
      "521:\tlearn: 0.0304466\ttotal: 331ms\tremaining: 303ms\n",
      "522:\tlearn: 0.0303133\ttotal: 332ms\tremaining: 303ms\n",
      "523:\tlearn: 0.0302047\ttotal: 332ms\tremaining: 302ms\n",
      "524:\tlearn: 0.0300981\ttotal: 333ms\tremaining: 301ms\n",
      "525:\tlearn: 0.0299716\ttotal: 333ms\tremaining: 300ms\n",
      "526:\tlearn: 0.0298688\ttotal: 334ms\tremaining: 300ms\n",
      "527:\tlearn: 0.0297578\ttotal: 335ms\tremaining: 299ms\n",
      "528:\tlearn: 0.0296365\ttotal: 335ms\tremaining: 298ms\n",
      "529:\tlearn: 0.0295282\ttotal: 336ms\tremaining: 298ms\n",
      "530:\tlearn: 0.0294505\ttotal: 336ms\tremaining: 297ms\n",
      "531:\tlearn: 0.0293613\ttotal: 337ms\tremaining: 296ms\n",
      "532:\tlearn: 0.0292922\ttotal: 337ms\tremaining: 295ms\n",
      "533:\tlearn: 0.0291686\ttotal: 338ms\tremaining: 295ms\n",
      "534:\tlearn: 0.0290953\ttotal: 338ms\tremaining: 294ms\n",
      "535:\tlearn: 0.0290663\ttotal: 339ms\tremaining: 293ms\n",
      "536:\tlearn: 0.0290105\ttotal: 339ms\tremaining: 292ms\n",
      "537:\tlearn: 0.0289560\ttotal: 340ms\tremaining: 292ms\n",
      "538:\tlearn: 0.0288503\ttotal: 340ms\tremaining: 291ms\n",
      "539:\tlearn: 0.0288005\ttotal: 341ms\tremaining: 290ms\n",
      "540:\tlearn: 0.0286968\ttotal: 341ms\tremaining: 289ms\n",
      "541:\tlearn: 0.0286373\ttotal: 341ms\tremaining: 288ms\n",
      "542:\tlearn: 0.0284974\ttotal: 342ms\tremaining: 288ms\n",
      "543:\tlearn: 0.0284030\ttotal: 342ms\tremaining: 287ms\n",
      "544:\tlearn: 0.0283113\ttotal: 343ms\tremaining: 286ms\n",
      "545:\tlearn: 0.0282297\ttotal: 343ms\tremaining: 285ms\n",
      "546:\tlearn: 0.0281728\ttotal: 344ms\tremaining: 285ms\n",
      "547:\tlearn: 0.0281516\ttotal: 344ms\tremaining: 284ms\n",
      "548:\tlearn: 0.0280629\ttotal: 345ms\tremaining: 283ms\n",
      "549:\tlearn: 0.0279905\ttotal: 345ms\tremaining: 282ms\n",
      "550:\tlearn: 0.0279062\ttotal: 346ms\tremaining: 282ms\n",
      "551:\tlearn: 0.0278233\ttotal: 346ms\tremaining: 281ms\n",
      "552:\tlearn: 0.0277485\ttotal: 347ms\tremaining: 280ms\n",
      "553:\tlearn: 0.0276684\ttotal: 347ms\tremaining: 280ms\n",
      "554:\tlearn: 0.0276481\ttotal: 348ms\tremaining: 279ms\n",
      "555:\tlearn: 0.0275494\ttotal: 348ms\tremaining: 278ms\n",
      "556:\tlearn: 0.0275295\ttotal: 349ms\tremaining: 278ms\n",
      "557:\tlearn: 0.0274072\ttotal: 349ms\tremaining: 277ms\n",
      "558:\tlearn: 0.0273454\ttotal: 350ms\tremaining: 276ms\n",
      "559:\tlearn: 0.0272942\ttotal: 350ms\tremaining: 275ms\n",
      "560:\tlearn: 0.0272515\ttotal: 351ms\tremaining: 275ms\n",
      "561:\tlearn: 0.0272016\ttotal: 351ms\tremaining: 274ms\n",
      "562:\tlearn: 0.0271526\ttotal: 352ms\tremaining: 273ms\n",
      "563:\tlearn: 0.0270753\ttotal: 352ms\tremaining: 272ms\n",
      "564:\tlearn: 0.0270272\ttotal: 353ms\tremaining: 272ms\n",
      "565:\tlearn: 0.0269512\ttotal: 354ms\tremaining: 271ms\n",
      "566:\tlearn: 0.0269084\ttotal: 354ms\tremaining: 270ms\n",
      "567:\tlearn: 0.0268337\ttotal: 355ms\tremaining: 270ms\n",
      "568:\tlearn: 0.0267870\ttotal: 355ms\tremaining: 269ms\n",
      "569:\tlearn: 0.0267412\ttotal: 356ms\tremaining: 268ms\n",
      "570:\tlearn: 0.0266351\ttotal: 356ms\tremaining: 267ms\n",
      "571:\tlearn: 0.0265410\ttotal: 357ms\tremaining: 267ms\n",
      "572:\tlearn: 0.0264467\ttotal: 357ms\tremaining: 266ms\n",
      "573:\tlearn: 0.0264056\ttotal: 358ms\tremaining: 265ms\n",
      "574:\tlearn: 0.0263613\ttotal: 358ms\tremaining: 265ms\n",
      "575:\tlearn: 0.0262331\ttotal: 358ms\tremaining: 264ms\n",
      "576:\tlearn: 0.0261403\ttotal: 359ms\tremaining: 263ms\n",
      "577:\tlearn: 0.0260374\ttotal: 359ms\tremaining: 262ms\n",
      "578:\tlearn: 0.0259130\ttotal: 360ms\tremaining: 262ms\n",
      "579:\tlearn: 0.0258122\ttotal: 360ms\tremaining: 261ms\n",
      "580:\tlearn: 0.0256911\ttotal: 361ms\tremaining: 260ms\n",
      "581:\tlearn: 0.0255925\ttotal: 362ms\tremaining: 260ms\n",
      "582:\tlearn: 0.0255534\ttotal: 362ms\tremaining: 259ms\n",
      "583:\tlearn: 0.0254441\ttotal: 363ms\tremaining: 258ms\n",
      "584:\tlearn: 0.0253372\ttotal: 363ms\tremaining: 258ms\n",
      "585:\tlearn: 0.0252962\ttotal: 363ms\tremaining: 257ms\n",
      "586:\tlearn: 0.0251813\ttotal: 364ms\tremaining: 256ms\n",
      "587:\tlearn: 0.0250859\ttotal: 365ms\tremaining: 255ms\n",
      "588:\tlearn: 0.0249831\ttotal: 366ms\tremaining: 255ms\n",
      "589:\tlearn: 0.0249447\ttotal: 366ms\tremaining: 254ms\n",
      "590:\tlearn: 0.0248515\ttotal: 367ms\tremaining: 254ms\n",
      "591:\tlearn: 0.0247373\ttotal: 367ms\tremaining: 253ms\n",
      "592:\tlearn: 0.0246409\ttotal: 368ms\tremaining: 252ms\n",
      "593:\tlearn: 0.0246034\ttotal: 368ms\tremaining: 252ms\n",
      "594:\tlearn: 0.0245130\ttotal: 369ms\tremaining: 251ms\n",
      "595:\tlearn: 0.0244193\ttotal: 369ms\tremaining: 250ms\n",
      "596:\tlearn: 0.0243227\ttotal: 370ms\tremaining: 250ms\n"
     ]
    },
    {
     "name": "stdout",
     "output_type": "stream",
     "text": [
      "597:\tlearn: 0.0242298\ttotal: 371ms\tremaining: 249ms\n",
      "598:\tlearn: 0.0241254\ttotal: 371ms\tremaining: 249ms\n",
      "599:\tlearn: 0.0239626\ttotal: 372ms\tremaining: 248ms\n",
      "600:\tlearn: 0.0238837\ttotal: 372ms\tremaining: 247ms\n",
      "601:\tlearn: 0.0237962\ttotal: 373ms\tremaining: 247ms\n",
      "602:\tlearn: 0.0237076\ttotal: 373ms\tremaining: 246ms\n",
      "603:\tlearn: 0.0236228\ttotal: 374ms\tremaining: 245ms\n",
      "604:\tlearn: 0.0234657\ttotal: 374ms\tremaining: 244ms\n",
      "605:\tlearn: 0.0233763\ttotal: 374ms\tremaining: 243ms\n",
      "606:\tlearn: 0.0233005\ttotal: 375ms\tremaining: 243ms\n",
      "607:\tlearn: 0.0232183\ttotal: 375ms\tremaining: 242ms\n",
      "608:\tlearn: 0.0231443\ttotal: 376ms\tremaining: 241ms\n",
      "609:\tlearn: 0.0229922\ttotal: 376ms\tremaining: 241ms\n",
      "610:\tlearn: 0.0229268\ttotal: 377ms\tremaining: 240ms\n",
      "611:\tlearn: 0.0228471\ttotal: 377ms\tremaining: 239ms\n",
      "612:\tlearn: 0.0226991\ttotal: 378ms\tremaining: 238ms\n",
      "613:\tlearn: 0.0226303\ttotal: 378ms\tremaining: 238ms\n",
      "614:\tlearn: 0.0225597\ttotal: 379ms\tremaining: 237ms\n",
      "615:\tlearn: 0.0224372\ttotal: 379ms\tremaining: 236ms\n",
      "616:\tlearn: 0.0223356\ttotal: 380ms\tremaining: 236ms\n",
      "617:\tlearn: 0.0222736\ttotal: 380ms\tremaining: 235ms\n",
      "618:\tlearn: 0.0221265\ttotal: 381ms\tremaining: 234ms\n",
      "619:\tlearn: 0.0220281\ttotal: 381ms\tremaining: 234ms\n",
      "620:\tlearn: 0.0218760\ttotal: 382ms\tremaining: 233ms\n",
      "621:\tlearn: 0.0218109\ttotal: 382ms\tremaining: 232ms\n",
      "622:\tlearn: 0.0217155\ttotal: 383ms\tremaining: 232ms\n",
      "623:\tlearn: 0.0216521\ttotal: 383ms\tremaining: 231ms\n",
      "624:\tlearn: 0.0215562\ttotal: 383ms\tremaining: 230ms\n",
      "625:\tlearn: 0.0214641\ttotal: 384ms\tremaining: 229ms\n",
      "626:\tlearn: 0.0213256\ttotal: 384ms\tremaining: 229ms\n",
      "627:\tlearn: 0.0211895\ttotal: 385ms\tremaining: 228ms\n",
      "628:\tlearn: 0.0210975\ttotal: 385ms\tremaining: 227ms\n",
      "629:\tlearn: 0.0209642\ttotal: 386ms\tremaining: 226ms\n",
      "630:\tlearn: 0.0208332\ttotal: 386ms\tremaining: 226ms\n",
      "631:\tlearn: 0.0207361\ttotal: 387ms\tremaining: 225ms\n",
      "632:\tlearn: 0.0206081\ttotal: 387ms\tremaining: 224ms\n",
      "633:\tlearn: 0.0205213\ttotal: 387ms\tremaining: 224ms\n",
      "634:\tlearn: 0.0203959\ttotal: 388ms\tremaining: 223ms\n",
      "635:\tlearn: 0.0202736\ttotal: 388ms\tremaining: 222ms\n",
      "636:\tlearn: 0.0202021\ttotal: 389ms\tremaining: 222ms\n",
      "637:\tlearn: 0.0201146\ttotal: 389ms\tremaining: 221ms\n",
      "638:\tlearn: 0.0200229\ttotal: 390ms\tremaining: 220ms\n",
      "639:\tlearn: 0.0199199\ttotal: 390ms\tremaining: 220ms\n",
      "640:\tlearn: 0.0198352\ttotal: 391ms\tremaining: 219ms\n",
      "641:\tlearn: 0.0197345\ttotal: 391ms\tremaining: 218ms\n",
      "642:\tlearn: 0.0196357\ttotal: 392ms\tremaining: 218ms\n",
      "643:\tlearn: 0.0195339\ttotal: 392ms\tremaining: 217ms\n",
      "644:\tlearn: 0.0194268\ttotal: 393ms\tremaining: 216ms\n",
      "645:\tlearn: 0.0193214\ttotal: 393ms\tremaining: 216ms\n",
      "646:\tlearn: 0.0192177\ttotal: 394ms\tremaining: 215ms\n",
      "647:\tlearn: 0.0191293\ttotal: 394ms\tremaining: 214ms\n",
      "648:\tlearn: 0.0190501\ttotal: 395ms\tremaining: 213ms\n",
      "649:\tlearn: 0.0189656\ttotal: 395ms\tremaining: 213ms\n",
      "650:\tlearn: 0.0188800\ttotal: 396ms\tremaining: 212ms\n",
      "651:\tlearn: 0.0187782\ttotal: 396ms\tremaining: 212ms\n",
      "652:\tlearn: 0.0186945\ttotal: 397ms\tremaining: 211ms\n",
      "653:\tlearn: 0.0186145\ttotal: 398ms\tremaining: 210ms\n",
      "654:\tlearn: 0.0185325\ttotal: 398ms\tremaining: 210ms\n",
      "655:\tlearn: 0.0184338\ttotal: 398ms\tremaining: 209ms\n",
      "656:\tlearn: 0.0183401\ttotal: 399ms\tremaining: 208ms\n",
      "657:\tlearn: 0.0182603\ttotal: 399ms\tremaining: 207ms\n",
      "658:\tlearn: 0.0181826\ttotal: 400ms\tremaining: 207ms\n",
      "659:\tlearn: 0.0181046\ttotal: 400ms\tremaining: 206ms\n",
      "660:\tlearn: 0.0180279\ttotal: 401ms\tremaining: 205ms\n",
      "661:\tlearn: 0.0179500\ttotal: 401ms\tremaining: 205ms\n",
      "662:\tlearn: 0.0178600\ttotal: 401ms\tremaining: 204ms\n",
      "663:\tlearn: 0.0177819\ttotal: 402ms\tremaining: 203ms\n",
      "664:\tlearn: 0.0177056\ttotal: 402ms\tremaining: 203ms\n",
      "665:\tlearn: 0.0176311\ttotal: 403ms\tremaining: 202ms\n",
      "666:\tlearn: 0.0175694\ttotal: 404ms\tremaining: 201ms\n",
      "667:\tlearn: 0.0175088\ttotal: 404ms\tremaining: 201ms\n",
      "668:\tlearn: 0.0174494\ttotal: 404ms\tremaining: 200ms\n",
      "669:\tlearn: 0.0173613\ttotal: 405ms\tremaining: 199ms\n",
      "670:\tlearn: 0.0172883\ttotal: 405ms\tremaining: 199ms\n",
      "671:\tlearn: 0.0172296\ttotal: 406ms\tremaining: 198ms\n",
      "672:\tlearn: 0.0171580\ttotal: 406ms\tremaining: 197ms\n",
      "673:\tlearn: 0.0171008\ttotal: 407ms\tremaining: 197ms\n",
      "674:\tlearn: 0.0170309\ttotal: 408ms\tremaining: 196ms\n",
      "675:\tlearn: 0.0169467\ttotal: 408ms\tremaining: 196ms\n",
      "676:\tlearn: 0.0168907\ttotal: 409ms\tremaining: 195ms\n",
      "677:\tlearn: 0.0168356\ttotal: 409ms\tremaining: 194ms\n",
      "678:\tlearn: 0.0167789\ttotal: 410ms\tremaining: 194ms\n",
      "679:\tlearn: 0.0166950\ttotal: 410ms\tremaining: 193ms\n",
      "680:\tlearn: 0.0166407\ttotal: 411ms\tremaining: 193ms\n",
      "681:\tlearn: 0.0165530\ttotal: 412ms\tremaining: 192ms\n",
      "682:\tlearn: 0.0164562\ttotal: 412ms\tremaining: 191ms\n",
      "683:\tlearn: 0.0164035\ttotal: 413ms\tremaining: 191ms\n",
      "684:\tlearn: 0.0163181\ttotal: 413ms\tremaining: 190ms\n",
      "685:\tlearn: 0.0162237\ttotal: 414ms\tremaining: 189ms\n",
      "686:\tlearn: 0.0161725\ttotal: 414ms\tremaining: 189ms\n",
      "687:\tlearn: 0.0160894\ttotal: 415ms\tremaining: 188ms\n",
      "688:\tlearn: 0.0160059\ttotal: 415ms\tremaining: 187ms\n",
      "689:\tlearn: 0.0159247\ttotal: 416ms\tremaining: 187ms\n",
      "690:\tlearn: 0.0158361\ttotal: 416ms\tremaining: 186ms\n",
      "691:\tlearn: 0.0157496\ttotal: 417ms\tremaining: 185ms\n",
      "692:\tlearn: 0.0156529\ttotal: 417ms\tremaining: 185ms\n",
      "693:\tlearn: 0.0155759\ttotal: 417ms\tremaining: 184ms\n",
      "694:\tlearn: 0.0155004\ttotal: 418ms\tremaining: 183ms\n",
      "695:\tlearn: 0.0154418\ttotal: 418ms\tremaining: 183ms\n",
      "696:\tlearn: 0.0153715\ttotal: 419ms\tremaining: 182ms\n",
      "697:\tlearn: 0.0153027\ttotal: 419ms\tremaining: 181ms\n",
      "698:\tlearn: 0.0152274\ttotal: 420ms\tremaining: 181ms\n",
      "699:\tlearn: 0.0151546\ttotal: 420ms\tremaining: 180ms\n",
      "700:\tlearn: 0.0150817\ttotal: 421ms\tremaining: 179ms\n",
      "701:\tlearn: 0.0150151\ttotal: 421ms\tremaining: 179ms\n",
      "702:\tlearn: 0.0149293\ttotal: 422ms\tremaining: 178ms\n",
      "703:\tlearn: 0.0148448\ttotal: 422ms\tremaining: 178ms\n",
      "704:\tlearn: 0.0147792\ttotal: 423ms\tremaining: 177ms\n",
      "705:\tlearn: 0.0147237\ttotal: 423ms\tremaining: 176ms\n",
      "706:\tlearn: 0.0146547\ttotal: 424ms\tremaining: 176ms\n",
      "707:\tlearn: 0.0145913\ttotal: 424ms\tremaining: 175ms\n",
      "708:\tlearn: 0.0145225\ttotal: 425ms\tremaining: 174ms\n",
      "709:\tlearn: 0.0144692\ttotal: 425ms\tremaining: 174ms\n",
      "710:\tlearn: 0.0143971\ttotal: 426ms\tremaining: 173ms\n",
      "711:\tlearn: 0.0143262\ttotal: 426ms\tremaining: 172ms\n",
      "712:\tlearn: 0.0142553\ttotal: 427ms\tremaining: 172ms\n",
      "713:\tlearn: 0.0141820\ttotal: 427ms\tremaining: 171ms\n",
      "714:\tlearn: 0.0141294\ttotal: 428ms\tremaining: 170ms\n",
      "715:\tlearn: 0.0140784\ttotal: 428ms\tremaining: 170ms\n",
      "716:\tlearn: 0.0140286\ttotal: 429ms\tremaining: 169ms\n",
      "717:\tlearn: 0.0139578\ttotal: 429ms\tremaining: 169ms\n",
      "718:\tlearn: 0.0139093\ttotal: 430ms\tremaining: 168ms\n",
      "719:\tlearn: 0.0138417\ttotal: 430ms\tremaining: 167ms\n",
      "720:\tlearn: 0.0137736\ttotal: 431ms\tremaining: 167ms\n",
      "721:\tlearn: 0.0137229\ttotal: 431ms\tremaining: 166ms\n",
      "722:\tlearn: 0.0136567\ttotal: 432ms\tremaining: 165ms\n",
      "723:\tlearn: 0.0136030\ttotal: 432ms\tremaining: 165ms\n",
      "724:\tlearn: 0.0135457\ttotal: 433ms\tremaining: 164ms\n",
      "725:\tlearn: 0.0134935\ttotal: 433ms\tremaining: 164ms\n",
      "726:\tlearn: 0.0134448\ttotal: 434ms\tremaining: 163ms\n",
      "727:\tlearn: 0.0133967\ttotal: 434ms\tremaining: 162ms\n",
      "728:\tlearn: 0.0133495\ttotal: 435ms\tremaining: 162ms\n",
      "729:\tlearn: 0.0133003\ttotal: 435ms\tremaining: 161ms\n",
      "730:\tlearn: 0.0132458\ttotal: 436ms\tremaining: 160ms\n",
      "731:\tlearn: 0.0131968\ttotal: 436ms\tremaining: 160ms\n",
      "732:\tlearn: 0.0131498\ttotal: 437ms\tremaining: 159ms\n",
      "733:\tlearn: 0.0130880\ttotal: 438ms\tremaining: 159ms\n",
      "734:\tlearn: 0.0130400\ttotal: 438ms\tremaining: 158ms\n",
      "735:\tlearn: 0.0130084\ttotal: 438ms\tremaining: 157ms\n",
      "736:\tlearn: 0.0129773\ttotal: 439ms\tremaining: 157ms\n",
      "737:\tlearn: 0.0129251\ttotal: 439ms\tremaining: 156ms\n",
      "738:\tlearn: 0.0128793\ttotal: 440ms\tremaining: 155ms\n",
      "739:\tlearn: 0.0128256\ttotal: 440ms\tremaining: 155ms\n",
      "740:\tlearn: 0.0127660\ttotal: 441ms\tremaining: 154ms\n",
      "741:\tlearn: 0.0127363\ttotal: 441ms\tremaining: 153ms\n",
      "742:\tlearn: 0.0126720\ttotal: 442ms\tremaining: 153ms\n",
      "743:\tlearn: 0.0126221\ttotal: 442ms\tremaining: 152ms\n",
      "744:\tlearn: 0.0125781\ttotal: 443ms\tremaining: 152ms\n",
      "745:\tlearn: 0.0125202\ttotal: 443ms\tremaining: 151ms\n",
      "746:\tlearn: 0.0124917\ttotal: 443ms\tremaining: 150ms\n",
      "747:\tlearn: 0.0124298\ttotal: 444ms\tremaining: 150ms\n",
      "748:\tlearn: 0.0123816\ttotal: 444ms\tremaining: 149ms\n",
      "749:\tlearn: 0.0123332\ttotal: 445ms\tremaining: 148ms\n",
      "750:\tlearn: 0.0122801\ttotal: 445ms\tremaining: 148ms\n",
      "751:\tlearn: 0.0122370\ttotal: 446ms\tremaining: 147ms\n",
      "752:\tlearn: 0.0121813\ttotal: 446ms\tremaining: 146ms\n",
      "753:\tlearn: 0.0121346\ttotal: 447ms\tremaining: 146ms\n",
      "754:\tlearn: 0.0120806\ttotal: 447ms\tremaining: 145ms\n",
      "755:\tlearn: 0.0120353\ttotal: 448ms\tremaining: 145ms\n",
      "756:\tlearn: 0.0119849\ttotal: 448ms\tremaining: 144ms\n",
      "757:\tlearn: 0.0119332\ttotal: 449ms\tremaining: 143ms\n",
      "758:\tlearn: 0.0118850\ttotal: 449ms\tremaining: 143ms\n",
      "759:\tlearn: 0.0118414\ttotal: 450ms\tremaining: 142ms\n",
      "760:\tlearn: 0.0117930\ttotal: 450ms\tremaining: 141ms\n",
      "761:\tlearn: 0.0117431\ttotal: 451ms\tremaining: 141ms\n",
      "762:\tlearn: 0.0117019\ttotal: 451ms\tremaining: 140ms\n",
      "763:\tlearn: 0.0116425\ttotal: 452ms\tremaining: 140ms\n",
      "764:\tlearn: 0.0115884\ttotal: 452ms\tremaining: 139ms\n",
      "765:\tlearn: 0.0115373\ttotal: 453ms\tremaining: 138ms\n",
      "766:\tlearn: 0.0115047\ttotal: 453ms\tremaining: 138ms\n",
      "767:\tlearn: 0.0114504\ttotal: 454ms\tremaining: 137ms\n",
      "768:\tlearn: 0.0113979\ttotal: 454ms\tremaining: 136ms\n",
      "769:\tlearn: 0.0113481\ttotal: 454ms\tremaining: 136ms\n",
      "770:\tlearn: 0.0112993\ttotal: 455ms\tremaining: 135ms\n",
      "771:\tlearn: 0.0112456\ttotal: 455ms\tremaining: 134ms\n",
      "772:\tlearn: 0.0111927\ttotal: 456ms\tremaining: 134ms\n",
      "773:\tlearn: 0.0111617\ttotal: 456ms\tremaining: 133ms\n",
      "774:\tlearn: 0.0111090\ttotal: 457ms\tremaining: 133ms\n",
      "775:\tlearn: 0.0110789\ttotal: 457ms\tremaining: 132ms\n",
      "776:\tlearn: 0.0110419\ttotal: 458ms\tremaining: 131ms\n",
      "777:\tlearn: 0.0110038\ttotal: 458ms\tremaining: 131ms\n",
      "778:\tlearn: 0.0109746\ttotal: 459ms\tremaining: 130ms\n",
      "779:\tlearn: 0.0109386\ttotal: 459ms\tremaining: 130ms\n",
      "780:\tlearn: 0.0109104\ttotal: 460ms\tremaining: 129ms\n",
      "781:\tlearn: 0.0108660\ttotal: 460ms\tremaining: 128ms\n",
      "782:\tlearn: 0.0108291\ttotal: 461ms\tremaining: 128ms\n",
      "783:\tlearn: 0.0107896\ttotal: 461ms\tremaining: 127ms\n",
      "784:\tlearn: 0.0107547\ttotal: 462ms\tremaining: 127ms\n",
      "785:\tlearn: 0.0107204\ttotal: 463ms\tremaining: 126ms\n",
      "786:\tlearn: 0.0106747\ttotal: 463ms\tremaining: 125ms\n"
     ]
    },
    {
     "name": "stdout",
     "output_type": "stream",
     "text": [
      "787:\tlearn: 0.0106410\ttotal: 464ms\tremaining: 125ms\n",
      "788:\tlearn: 0.0106080\ttotal: 464ms\tremaining: 124ms\n",
      "789:\tlearn: 0.0105636\ttotal: 465ms\tremaining: 124ms\n",
      "790:\tlearn: 0.0105284\ttotal: 465ms\tremaining: 123ms\n",
      "791:\tlearn: 0.0104961\ttotal: 466ms\tremaining: 122ms\n",
      "792:\tlearn: 0.0104588\ttotal: 467ms\tremaining: 122ms\n",
      "793:\tlearn: 0.0104272\ttotal: 467ms\tremaining: 121ms\n",
      "794:\tlearn: 0.0103844\ttotal: 468ms\tremaining: 121ms\n",
      "795:\tlearn: 0.0103532\ttotal: 468ms\tremaining: 120ms\n",
      "796:\tlearn: 0.0103112\ttotal: 469ms\tremaining: 119ms\n",
      "797:\tlearn: 0.0102750\ttotal: 469ms\tremaining: 119ms\n",
      "798:\tlearn: 0.0102448\ttotal: 470ms\tremaining: 118ms\n",
      "799:\tlearn: 0.0101871\ttotal: 470ms\tremaining: 117ms\n",
      "800:\tlearn: 0.0101459\ttotal: 470ms\tremaining: 117ms\n",
      "801:\tlearn: 0.0101163\ttotal: 471ms\tremaining: 116ms\n",
      "802:\tlearn: 0.0100600\ttotal: 472ms\tremaining: 116ms\n",
      "803:\tlearn: 0.0100545\ttotal: 472ms\tremaining: 115ms\n",
      "804:\tlearn: 0.0100257\ttotal: 473ms\tremaining: 115ms\n",
      "805:\tlearn: 0.0099707\ttotal: 474ms\tremaining: 114ms\n",
      "806:\tlearn: 0.0099653\ttotal: 474ms\tremaining: 113ms\n",
      "807:\tlearn: 0.0099600\ttotal: 474ms\tremaining: 113ms\n",
      "808:\tlearn: 0.0099061\ttotal: 475ms\tremaining: 112ms\n",
      "809:\tlearn: 0.0099008\ttotal: 475ms\tremaining: 111ms\n",
      "810:\tlearn: 0.0098957\ttotal: 476ms\tremaining: 111ms\n",
      "811:\tlearn: 0.0098425\ttotal: 476ms\tremaining: 110ms\n",
      "812:\tlearn: 0.0098374\ttotal: 477ms\tremaining: 110ms\n",
      "813:\tlearn: 0.0098097\ttotal: 477ms\tremaining: 109ms\n",
      "814:\tlearn: 0.0097628\ttotal: 478ms\tremaining: 108ms\n",
      "815:\tlearn: 0.0097578\ttotal: 478ms\tremaining: 108ms\n",
      "816:\tlearn: 0.0097529\ttotal: 479ms\tremaining: 107ms\n",
      "817:\tlearn: 0.0097083\ttotal: 479ms\tremaining: 107ms\n",
      "818:\tlearn: 0.0096582\ttotal: 480ms\tremaining: 106ms\n",
      "819:\tlearn: 0.0096534\ttotal: 480ms\tremaining: 105ms\n",
      "820:\tlearn: 0.0096053\ttotal: 481ms\tremaining: 105ms\n",
      "821:\tlearn: 0.0095786\ttotal: 481ms\tremaining: 104ms\n",
      "822:\tlearn: 0.0095297\ttotal: 482ms\tremaining: 104ms\n",
      "823:\tlearn: 0.0094809\ttotal: 482ms\tremaining: 103ms\n",
      "824:\tlearn: 0.0094331\ttotal: 483ms\tremaining: 102ms\n",
      "825:\tlearn: 0.0093926\ttotal: 483ms\tremaining: 102ms\n",
      "826:\tlearn: 0.0093453\ttotal: 484ms\tremaining: 101ms\n",
      "827:\tlearn: 0.0093070\ttotal: 485ms\tremaining: 101ms\n",
      "828:\tlearn: 0.0092603\ttotal: 485ms\tremaining: 100ms\n",
      "829:\tlearn: 0.0092367\ttotal: 486ms\tremaining: 99.5ms\n",
      "830:\tlearn: 0.0091905\ttotal: 486ms\tremaining: 98.9ms\n",
      "831:\tlearn: 0.0091516\ttotal: 487ms\tremaining: 98.2ms\n",
      "832:\tlearn: 0.0091134\ttotal: 487ms\tremaining: 97.6ms\n",
      "833:\tlearn: 0.0090737\ttotal: 488ms\tremaining: 97ms\n",
      "834:\tlearn: 0.0090288\ttotal: 488ms\tremaining: 96.4ms\n",
      "835:\tlearn: 0.0089915\ttotal: 488ms\tremaining: 95.8ms\n",
      "836:\tlearn: 0.0089529\ttotal: 489ms\tremaining: 95.2ms\n",
      "837:\tlearn: 0.0089092\ttotal: 490ms\tremaining: 94.6ms\n",
      "838:\tlearn: 0.0088799\ttotal: 490ms\tremaining: 94.1ms\n",
      "839:\tlearn: 0.0088383\ttotal: 491ms\tremaining: 93.4ms\n",
      "840:\tlearn: 0.0088156\ttotal: 491ms\tremaining: 92.8ms\n",
      "841:\tlearn: 0.0087753\ttotal: 491ms\tremaining: 92.2ms\n",
      "842:\tlearn: 0.0087393\ttotal: 492ms\tremaining: 91.6ms\n",
      "843:\tlearn: 0.0087038\ttotal: 493ms\tremaining: 91ms\n",
      "844:\tlearn: 0.0086690\ttotal: 493ms\tremaining: 90.4ms\n",
      "845:\tlearn: 0.0086315\ttotal: 494ms\tremaining: 89.9ms\n",
      "846:\tlearn: 0.0086075\ttotal: 494ms\tremaining: 89.2ms\n",
      "847:\tlearn: 0.0085735\ttotal: 495ms\tremaining: 88.7ms\n",
      "848:\tlearn: 0.0085370\ttotal: 495ms\tremaining: 88.1ms\n",
      "849:\tlearn: 0.0084978\ttotal: 496ms\tremaining: 87.5ms\n",
      "850:\tlearn: 0.0084620\ttotal: 496ms\tremaining: 86.9ms\n",
      "851:\tlearn: 0.0084384\ttotal: 497ms\tremaining: 86.3ms\n",
      "852:\tlearn: 0.0084143\ttotal: 497ms\tremaining: 85.7ms\n",
      "853:\tlearn: 0.0083918\ttotal: 498ms\tremaining: 85.1ms\n",
      "854:\tlearn: 0.0083557\ttotal: 498ms\tremaining: 84.5ms\n",
      "855:\tlearn: 0.0083232\ttotal: 499ms\tremaining: 83.9ms\n",
      "856:\tlearn: 0.0082887\ttotal: 499ms\tremaining: 83.3ms\n",
      "857:\tlearn: 0.0082539\ttotal: 500ms\tremaining: 82.7ms\n",
      "858:\tlearn: 0.0082291\ttotal: 500ms\tremaining: 82.1ms\n",
      "859:\tlearn: 0.0081937\ttotal: 501ms\tremaining: 81.5ms\n",
      "860:\tlearn: 0.0081695\ttotal: 501ms\tremaining: 80.9ms\n",
      "861:\tlearn: 0.0081348\ttotal: 502ms\tremaining: 80.3ms\n",
      "862:\tlearn: 0.0081121\ttotal: 502ms\tremaining: 79.7ms\n",
      "863:\tlearn: 0.0080781\ttotal: 503ms\tremaining: 79.1ms\n",
      "864:\tlearn: 0.0080403\ttotal: 503ms\tremaining: 78.5ms\n",
      "865:\tlearn: 0.0080182\ttotal: 504ms\tremaining: 77.9ms\n",
      "866:\tlearn: 0.0079961\ttotal: 504ms\tremaining: 77.4ms\n",
      "867:\tlearn: 0.0079610\ttotal: 505ms\tremaining: 76.8ms\n",
      "868:\tlearn: 0.0079244\ttotal: 506ms\tremaining: 76.2ms\n",
      "869:\tlearn: 0.0078887\ttotal: 506ms\tremaining: 75.6ms\n",
      "870:\tlearn: 0.0078661\ttotal: 507ms\tremaining: 75ms\n",
      "871:\tlearn: 0.0078448\ttotal: 507ms\tremaining: 74.4ms\n",
      "872:\tlearn: 0.0078239\ttotal: 508ms\tremaining: 73.8ms\n",
      "873:\tlearn: 0.0077912\ttotal: 508ms\tremaining: 73.2ms\n",
      "874:\tlearn: 0.0077569\ttotal: 509ms\tremaining: 72.7ms\n",
      "875:\tlearn: 0.0077189\ttotal: 509ms\tremaining: 72ms\n",
      "876:\tlearn: 0.0076851\ttotal: 509ms\tremaining: 71.5ms\n",
      "877:\tlearn: 0.0076514\ttotal: 510ms\tremaining: 70.9ms\n",
      "878:\tlearn: 0.0076145\ttotal: 510ms\tremaining: 70.3ms\n",
      "879:\tlearn: 0.0075793\ttotal: 511ms\tremaining: 69.7ms\n",
      "880:\tlearn: 0.0075488\ttotal: 512ms\tremaining: 69.1ms\n",
      "881:\tlearn: 0.0075238\ttotal: 512ms\tremaining: 68.5ms\n",
      "882:\tlearn: 0.0075053\ttotal: 513ms\tremaining: 67.9ms\n",
      "883:\tlearn: 0.0074871\ttotal: 513ms\tremaining: 67.3ms\n",
      "884:\tlearn: 0.0074674\ttotal: 514ms\tremaining: 66.8ms\n",
      "885:\tlearn: 0.0074324\ttotal: 514ms\tremaining: 66.2ms\n",
      "886:\tlearn: 0.0074152\ttotal: 515ms\tremaining: 65.6ms\n",
      "887:\tlearn: 0.0073833\ttotal: 515ms\tremaining: 65ms\n",
      "888:\tlearn: 0.0073438\ttotal: 516ms\tremaining: 64.4ms\n",
      "889:\tlearn: 0.0073086\ttotal: 516ms\tremaining: 63.8ms\n",
      "890:\tlearn: 0.0072728\ttotal: 517ms\tremaining: 63.2ms\n",
      "891:\tlearn: 0.0072305\ttotal: 517ms\tremaining: 62.6ms\n",
      "892:\tlearn: 0.0071981\ttotal: 518ms\tremaining: 62ms\n",
      "893:\tlearn: 0.0071568\ttotal: 518ms\tremaining: 61.4ms\n",
      "894:\tlearn: 0.0071389\ttotal: 519ms\tremaining: 60.8ms\n",
      "895:\tlearn: 0.0071217\ttotal: 519ms\tremaining: 60.3ms\n",
      "896:\tlearn: 0.0070656\ttotal: 520ms\tremaining: 59.7ms\n",
      "897:\tlearn: 0.0070344\ttotal: 520ms\tremaining: 59.1ms\n",
      "898:\tlearn: 0.0070125\ttotal: 521ms\tremaining: 58.5ms\n",
      "899:\tlearn: 0.0069902\ttotal: 521ms\tremaining: 57.9ms\n",
      "900:\tlearn: 0.0069600\ttotal: 522ms\tremaining: 57.3ms\n",
      "901:\tlearn: 0.0069205\ttotal: 522ms\tremaining: 56.8ms\n",
      "902:\tlearn: 0.0068893\ttotal: 523ms\tremaining: 56.2ms\n",
      "903:\tlearn: 0.0068625\ttotal: 523ms\tremaining: 55.6ms\n",
      "904:\tlearn: 0.0068409\ttotal: 524ms\tremaining: 55ms\n",
      "905:\tlearn: 0.0067878\ttotal: 524ms\tremaining: 54.4ms\n",
      "906:\tlearn: 0.0067587\ttotal: 525ms\tremaining: 53.8ms\n",
      "907:\tlearn: 0.0067380\ttotal: 526ms\tremaining: 53.3ms\n",
      "908:\tlearn: 0.0066865\ttotal: 526ms\tremaining: 52.7ms\n",
      "909:\tlearn: 0.0066583\ttotal: 527ms\tremaining: 52.1ms\n",
      "910:\tlearn: 0.0066382\ttotal: 527ms\tremaining: 51.5ms\n",
      "911:\tlearn: 0.0066176\ttotal: 528ms\tremaining: 50.9ms\n",
      "912:\tlearn: 0.0065677\ttotal: 528ms\tremaining: 50.3ms\n",
      "913:\tlearn: 0.0065422\ttotal: 529ms\tremaining: 49.8ms\n",
      "914:\tlearn: 0.0065161\ttotal: 529ms\tremaining: 49.2ms\n",
      "915:\tlearn: 0.0064898\ttotal: 530ms\tremaining: 48.6ms\n",
      "916:\tlearn: 0.0064642\ttotal: 530ms\tremaining: 48ms\n",
      "917:\tlearn: 0.0064284\ttotal: 531ms\tremaining: 47.4ms\n",
      "918:\tlearn: 0.0064089\ttotal: 531ms\tremaining: 46.8ms\n",
      "919:\tlearn: 0.0063868\ttotal: 532ms\tremaining: 46.2ms\n",
      "920:\tlearn: 0.0063625\ttotal: 532ms\tremaining: 45.6ms\n",
      "921:\tlearn: 0.0063377\ttotal: 533ms\tremaining: 45.1ms\n",
      "922:\tlearn: 0.0063032\ttotal: 533ms\tremaining: 44.5ms\n",
      "923:\tlearn: 0.0062755\ttotal: 533ms\tremaining: 43.9ms\n",
      "924:\tlearn: 0.0062515\ttotal: 534ms\tremaining: 43.3ms\n",
      "925:\tlearn: 0.0062179\ttotal: 534ms\tremaining: 42.7ms\n",
      "926:\tlearn: 0.0061850\ttotal: 535ms\tremaining: 42.1ms\n",
      "927:\tlearn: 0.0061567\ttotal: 535ms\tremaining: 41.5ms\n",
      "928:\tlearn: 0.0061405\ttotal: 536ms\tremaining: 40.9ms\n",
      "929:\tlearn: 0.0061245\ttotal: 536ms\tremaining: 40.4ms\n",
      "930:\tlearn: 0.0061061\ttotal: 537ms\tremaining: 39.8ms\n",
      "931:\tlearn: 0.0060858\ttotal: 537ms\tremaining: 39.2ms\n",
      "932:\tlearn: 0.0060678\ttotal: 538ms\tremaining: 38.6ms\n",
      "933:\tlearn: 0.0060501\ttotal: 538ms\tremaining: 38.1ms\n",
      "934:\tlearn: 0.0060145\ttotal: 539ms\tremaining: 37.5ms\n",
      "935:\tlearn: 0.0060037\ttotal: 539ms\tremaining: 36.9ms\n",
      "936:\tlearn: 0.0059689\ttotal: 540ms\tremaining: 36.3ms\n",
      "937:\tlearn: 0.0059582\ttotal: 541ms\tremaining: 35.7ms\n",
      "938:\tlearn: 0.0059476\ttotal: 541ms\tremaining: 35.2ms\n",
      "939:\tlearn: 0.0059276\ttotal: 542ms\tremaining: 34.6ms\n",
      "940:\tlearn: 0.0058942\ttotal: 542ms\tremaining: 34ms\n",
      "941:\tlearn: 0.0058747\ttotal: 543ms\tremaining: 33.4ms\n",
      "942:\tlearn: 0.0058414\ttotal: 544ms\tremaining: 32.9ms\n",
      "943:\tlearn: 0.0058310\ttotal: 544ms\tremaining: 32.3ms\n",
      "944:\tlearn: 0.0058119\ttotal: 545ms\tremaining: 31.7ms\n",
      "945:\tlearn: 0.0057800\ttotal: 545ms\tremaining: 31.1ms\n",
      "946:\tlearn: 0.0057613\ttotal: 546ms\tremaining: 30.5ms\n",
      "947:\tlearn: 0.0057212\ttotal: 546ms\tremaining: 30ms\n",
      "948:\tlearn: 0.0057030\ttotal: 547ms\tremaining: 29.4ms\n",
      "949:\tlearn: 0.0056868\ttotal: 547ms\tremaining: 28.8ms\n",
      "950:\tlearn: 0.0056635\ttotal: 548ms\tremaining: 28.2ms\n",
      "951:\tlearn: 0.0056358\ttotal: 548ms\tremaining: 27.6ms\n",
      "952:\tlearn: 0.0056245\ttotal: 549ms\tremaining: 27.1ms\n",
      "953:\tlearn: 0.0056133\ttotal: 549ms\tremaining: 26.5ms\n",
      "954:\tlearn: 0.0055866\ttotal: 550ms\tremaining: 25.9ms\n",
      "955:\tlearn: 0.0055472\ttotal: 551ms\tremaining: 25.3ms\n",
      "956:\tlearn: 0.0055213\ttotal: 551ms\tremaining: 24.8ms\n",
      "957:\tlearn: 0.0055057\ttotal: 552ms\tremaining: 24.2ms\n",
      "958:\tlearn: 0.0054905\ttotal: 552ms\tremaining: 23.6ms\n",
      "959:\tlearn: 0.0054641\ttotal: 553ms\tremaining: 23ms\n",
      "960:\tlearn: 0.0054492\ttotal: 553ms\tremaining: 22.5ms\n",
      "961:\tlearn: 0.0054121\ttotal: 554ms\tremaining: 21.9ms\n"
     ]
    },
    {
     "name": "stdout",
     "output_type": "stream",
     "text": [
      "962:\tlearn: 0.0053894\ttotal: 554ms\tremaining: 21.3ms\n",
      "963:\tlearn: 0.0053672\ttotal: 555ms\tremaining: 20.7ms\n",
      "964:\tlearn: 0.0053527\ttotal: 555ms\tremaining: 20.1ms\n",
      "965:\tlearn: 0.0053400\ttotal: 556ms\tremaining: 19.6ms\n",
      "966:\tlearn: 0.0053160\ttotal: 556ms\tremaining: 19ms\n",
      "967:\tlearn: 0.0052908\ttotal: 557ms\tremaining: 18.4ms\n",
      "968:\tlearn: 0.0052545\ttotal: 557ms\tremaining: 17.8ms\n",
      "969:\tlearn: 0.0052334\ttotal: 558ms\tremaining: 17.2ms\n",
      "970:\tlearn: 0.0052210\ttotal: 558ms\tremaining: 16.7ms\n",
      "971:\tlearn: 0.0051982\ttotal: 559ms\tremaining: 16.1ms\n",
      "972:\tlearn: 0.0051739\ttotal: 559ms\tremaining: 15.5ms\n",
      "973:\tlearn: 0.0051553\ttotal: 560ms\tremaining: 14.9ms\n",
      "974:\tlearn: 0.0051315\ttotal: 560ms\tremaining: 14.4ms\n",
      "975:\tlearn: 0.0050968\ttotal: 561ms\tremaining: 13.8ms\n",
      "976:\tlearn: 0.0050721\ttotal: 561ms\tremaining: 13.2ms\n",
      "977:\tlearn: 0.0050480\ttotal: 562ms\tremaining: 12.6ms\n",
      "978:\tlearn: 0.0050381\ttotal: 563ms\tremaining: 12.1ms\n",
      "979:\tlearn: 0.0050282\ttotal: 563ms\tremaining: 11.5ms\n",
      "980:\tlearn: 0.0050186\ttotal: 564ms\tremaining: 10.9ms\n",
      "981:\tlearn: 0.0049951\ttotal: 564ms\tremaining: 10.3ms\n",
      "982:\tlearn: 0.0049856\ttotal: 565ms\tremaining: 9.76ms\n",
      "983:\tlearn: 0.0049637\ttotal: 565ms\tremaining: 9.19ms\n",
      "984:\tlearn: 0.0049543\ttotal: 565ms\tremaining: 8.61ms\n",
      "985:\tlearn: 0.0049328\ttotal: 566ms\tremaining: 8.04ms\n",
      "986:\tlearn: 0.0049235\ttotal: 567ms\tremaining: 7.46ms\n",
      "987:\tlearn: 0.0049024\ttotal: 567ms\tremaining: 6.89ms\n",
      "988:\tlearn: 0.0048798\ttotal: 568ms\tremaining: 6.31ms\n",
      "989:\tlearn: 0.0048592\ttotal: 568ms\tremaining: 5.74ms\n",
      "990:\tlearn: 0.0048501\ttotal: 568ms\tremaining: 5.16ms\n",
      "991:\tlearn: 0.0048314\ttotal: 569ms\tremaining: 4.59ms\n",
      "992:\tlearn: 0.0048224\ttotal: 569ms\tremaining: 4.01ms\n",
      "993:\tlearn: 0.0048027\ttotal: 570ms\tremaining: 3.44ms\n",
      "994:\tlearn: 0.0047928\ttotal: 571ms\tremaining: 2.87ms\n",
      "995:\tlearn: 0.0047735\ttotal: 571ms\tremaining: 2.29ms\n",
      "996:\tlearn: 0.0047546\ttotal: 571ms\tremaining: 1.72ms\n",
      "997:\tlearn: 0.0047457\ttotal: 572ms\tremaining: 1.15ms\n",
      "998:\tlearn: 0.0047271\ttotal: 572ms\tremaining: 572us\n",
      "999:\tlearn: 0.0047088\ttotal: 573ms\tremaining: 0us\n"
     ]
    },
    {
     "data": {
      "text/plain": [
       "<catboost.core.CatBoostRegressor at 0x7fb7c81d8220>"
      ]
     },
     "execution_count": 9,
     "metadata": {},
     "output_type": "execute_result"
    }
   ],
   "source": [
    "#Train the Model \n",
    "prior_model = ctb.CatBoostRegressor()\n",
    "prior_model.fit(X_train,Y_train)"
   ]
  },
  {
   "cell_type": "code",
   "execution_count": 10,
   "id": "af65dcda",
   "metadata": {
    "execution": {
     "iopub.execute_input": "2022-05-18T08:27:28.964886Z",
     "iopub.status.busy": "2022-05-18T08:27:28.964481Z",
     "iopub.status.idle": "2022-05-18T08:27:28.971984Z",
     "shell.execute_reply": "2022-05-18T08:27:28.972277Z"
    },
    "id": "af65dcda",
    "papermill": {
     "duration": 0.020406,
     "end_time": "2022-05-18T08:27:28.972397",
     "exception": false,
     "start_time": "2022-05-18T08:27:28.951991",
     "status": "completed"
    },
    "tags": []
   },
   "outputs": [
    {
     "data": {
      "application/scrapbook.scrap.json+json": {
       "data": 0.25362727302054733,
       "encoder": "json",
       "name": "Prior Model MSE",
       "version": 1
      }
     },
     "metadata": {
      "scrapbook": {
       "data": true,
       "display": false,
       "name": "Prior Model MSE"
      }
     },
     "output_type": "display_data"
    },
    {
     "data": {
      "application/scrapbook.scrap.json+json": {
       "data": 0.2531884839119961,
       "encoder": "json",
       "name": "ABC Pre-generator MSE",
       "version": 1
      }
     },
     "metadata": {
      "scrapbook": {
       "data": true,
       "display": false,
       "name": "ABC Pre-generator MSE"
      }
     },
     "output_type": "display_data"
    },
    {
     "data": {
      "application/scrapbook.scrap.json+json": {
       "data": 0.4213331127047784,
       "encoder": "json",
       "name": "Prior Model MAE",
       "version": 1
      }
     },
     "metadata": {
      "scrapbook": {
       "data": true,
       "display": false,
       "name": "Prior Model MAE"
      }
     },
     "output_type": "display_data"
    },
    {
     "data": {
      "application/scrapbook.scrap.json+json": {
       "data": 0.4214547777243709,
       "encoder": "json",
       "name": "ABC Pre-generator MAE",
       "version": 1
      }
     },
     "metadata": {
      "scrapbook": {
       "data": true,
       "display": false,
       "name": "ABC Pre-generator MAE"
      }
     },
     "output_type": "display_data"
    }
   ],
   "source": [
    "y_pred = prior_model.predict(X_test)\n",
    "y_abc = y_pred + np.random.normal(0,variance, y_pred.shape)\n",
    "mse = mean_squared_error(y_pred,Y_test)\n",
    "sb.glue(\"Prior Model MSE\",mse)\n",
    "mse = mean_squared_error(y_abc,Y_test)\n",
    "sb.glue(\"ABC Pre-generator MSE\",mse)\n",
    "\n",
    "mae = mean_absolute_error(y_pred,Y_test)\n",
    "sb.glue(\"Prior Model MAE\",mae)\n",
    "mae = mean_absolute_error(y_abc,Y_test)\n",
    "sb.glue(\"ABC Pre-generator MAE\",mae)"
   ]
  },
  {
   "cell_type": "markdown",
   "id": "25609da2",
   "metadata": {
    "papermill": {
     "duration": 0.009435,
     "end_time": "2022-05-18T08:27:28.991520",
     "exception": false,
     "start_time": "2022-05-18T08:27:28.982085",
     "status": "completed"
    },
    "tags": []
   },
   "source": [
    "# ABC GAN Model"
   ]
  },
  {
   "cell_type": "code",
   "execution_count": 11,
   "id": "dfc3464d",
   "metadata": {
    "execution": {
     "iopub.execute_input": "2022-05-18T08:27:29.013327Z",
     "iopub.status.busy": "2022-05-18T08:27:29.012953Z",
     "iopub.status.idle": "2022-05-18T08:27:29.015471Z",
     "shell.execute_reply": "2022-05-18T08:27:29.015720Z"
    },
    "papermill": {
     "duration": 0.014861,
     "end_time": "2022-05-18T08:27:29.015833",
     "exception": false,
     "start_time": "2022-05-18T08:27:29.000972",
     "status": "completed"
    },
    "tags": []
   },
   "outputs": [],
   "source": [
    "gen = network.Generator(n_features+1).to(device)\n",
    "disc = network.Discriminator(n_features+1).to(device)\n",
    "\n",
    "criterion = torch.nn.BCELoss()\n",
    "gen_opt = torch.optim.Adam(gen.parameters(), lr=0.001, betas=(0.5, 0.999))\n",
    "disc_opt = torch.optim.Adam(disc.parameters(), lr=0.001, betas=(0.5, 0.999))"
   ]
  },
  {
   "cell_type": "code",
   "execution_count": 12,
   "id": "b75fdd85",
   "metadata": {
    "execution": {
     "iopub.execute_input": "2022-05-18T08:27:29.037178Z",
     "iopub.status.busy": "2022-05-18T08:27:29.036795Z",
     "iopub.status.idle": "2022-05-18T08:27:43.161554Z",
     "shell.execute_reply": "2022-05-18T08:27:43.161796Z"
    },
    "papermill": {
     "duration": 14.136499,
     "end_time": "2022-05-18T08:27:43.161915",
     "exception": false,
     "start_time": "2022-05-18T08:27:29.025416",
     "status": "completed"
    },
    "tags": []
   },
   "outputs": [
    {
     "data": {
      "image/png": "[encoded data removed]",
      "text/plain": [
       "<Figure size 432x288 with 1 Axes>"
      ]
     },
     "metadata": {
      "needs_background": "light"
     },
     "output_type": "display_data"
    },
    {
     "data": {
      "image/png": "[encoded data removed]",
      "text/plain": [
       "<Figure size 432x288 with 1 Axes>"
      ]
     },
     "metadata": {
      "needs_background": "light"
     },
     "output_type": "display_data"
    }
   ],
   "source": [
    "#Training the ABC_GAN \n",
    "ABC_train_test2.training_GAN(disc,gen,disc_opt,gen_opt,train_data,batch_size,n_epochs,criterion,prior_model,variance,0,device)"
   ]
  },
  {
   "cell_type": "code",
   "execution_count": 13,
   "id": "1fa7c368",
   "metadata": {
    "execution": {
     "iopub.execute_input": "2022-05-18T08:27:43.186114Z",
     "iopub.status.busy": "2022-05-18T08:27:43.185547Z",
     "iopub.status.idle": "2022-05-18T08:27:43.348420Z",
     "shell.execute_reply": "2022-05-18T08:27:43.348729Z"
    },
    "papermill": {
     "duration": 0.176151,
     "end_time": "2022-05-18T08:27:43.348856",
     "exception": false,
     "start_time": "2022-05-18T08:27:43.172705",
     "status": "completed"
    },
    "tags": []
   },
   "outputs": [
    {
     "data": {
      "application/scrapbook.scrap.json+json": {
       "data": 0.1798791167688243,
       "encoder": "json",
       "name": "ABC-GAN Model 1 MSE",
       "version": 1
      }
     },
     "metadata": {
      "scrapbook": {
       "data": true,
       "display": false,
       "name": "ABC-GAN Model 1 MSE"
      }
     },
     "output_type": "display_data"
    },
    {
     "data": {
      "application/scrapbook.scrap.json+json": {
       "data": 0.3529699476072565,
       "encoder": "json",
       "name": "ABC-GAN Model 1 MAE",
       "version": 1
      }
     },
     "metadata": {
      "scrapbook": {
       "data": true,
       "display": false,
       "name": "ABC-GAN Model 1 MAE"
      }
     },
     "output_type": "display_data"
    },
    {
     "data": {
      "application/scrapbook.scrap.json+json": {
       "data": 7.05939895214513,
       "encoder": "json",
       "name": "ABC-GAN Model 1 Manhattan Distance",
       "version": 1
      }
     },
     "metadata": {
      "scrapbook": {
       "data": true,
       "display": false,
       "name": "ABC-GAN Model 1 Manhattan Distance"
      }
     },
     "output_type": "display_data"
    },
    {
     "data": {
      "application/scrapbook.scrap.json+json": {
       "data": 1.896705284612504,
       "encoder": "json",
       "name": "ABC-GAN Model 1 Euclidean distance",
       "version": 1
      }
     },
     "metadata": {
      "scrapbook": {
       "data": true,
       "display": false,
       "name": "ABC-GAN Model 1 Euclidean distance"
      }
     },
     "output_type": "display_data"
    },
    {
     "data": {
      "application/scrapbook.scrap.json+json": {
       "data": [
        [
         0.17932030421305103,
         0.18309861215130696,
         0.17840279375002469,
         0.18016406846991112,
         0.178742334955737,
         0.18356364182668955,
         0.1789674369714752,
         0.18037214937964038,
         0.17779348310516827,
         0.1795167556487574,
         0.18265227377463403,
         0.18032329740522152,
         0.18188235663544314,
         0.1829472279167102,
         0.179531507685313,
         0.17973771331405547,
         0.18045674419063523,
         0.18217257529127415,
         0.18007566262187225,
         0.18361998058356527,
         0.17532554609953097,
         0.18089434367016663,
         0.17827264072528154,
         0.17960740576292133,
         0.18187826079894223,
         0.18109429117303752,
         0.17855362285227652,
         0.17657330187653808,
         0.18168074174396662,
         0.1815757099082748,
         0.18101222883936657,
         0.17905008763606853,
         0.18114863335008763,
         0.18151490591434252,
         0.17974122933357234,
         0.17795912899915103,
         0.17728958105330167,
         0.17784869097352624,
         0.17841319913945108,
         0.1784779032684552,
         0.1785618533913226,
         0.1793441610053056,
         0.1812686814717201,
         0.17850486805307603,
         0.17971359961536826,
         0.18026208001705074,
         0.18141755240345103,
         0.17874399817667003,
         0.18308544944136265,
         0.17785953043695804,
         0.1827773009460009,
         0.17736313169890808,
         0.1799467003826774,
         0.1798075439129616,
         0.18186136952659462,
         0.17752939383415967,
         0.18089509849895713,
         0.17769083899096966,
         0.18196429938652878,
         0.17740134702263194,
         0.18036282600174625,
         0.18090986285473343,
         0.17470412343925534,
         0.1814209604349845,
         0.17854483920502615,
         0.18166854781449798,
         0.18101612161174718,
         0.17992211334776076,
         0.17805608780765764,
         0.1798098548266839,
         0.17902658464907675,
         0.1796393967425058,
         0.18114276791932027,
         0.17929650377145245,
         0.18233837223359134,
         0.18308899389980265,
         0.1778914995649818,
         0.18010606574880317,
         0.18185238548198163,
         0.18047187310887036,
         0.17913284044946112,
         0.17995500397138114,
         0.1813357154695997,
         0.17787208375483915,
         0.17976630580018352,
         0.17868977745085643,
         0.18242423240830954,
         0.18031576934677135,
         0.17964614700121417,
         0.1796463672253755,
         0.1785193918987727,
         0.17773590432093717,
         0.1829161316955232,
         0.17913243032532067,
         0.17756452730076586,
         0.1779790668545655,
         0.18141330783843052,
         0.17826562588387992,
         0.17876380893381608,
         0.17831628726652654
        ],
        [
         0.35186609011143444,
         0.3561747221276164,
         0.35183632988482716,
         0.35491438675671816,
         0.3523329908028245,
         0.3575255049392581,
         0.35355033446103334,
         0.35271533448249104,
         0.35168286729604004,
         0.35223267767578365,
         0.35517849754542113,
         0.35191189888864755,
         0.35436516646295785,
         0.35672709811478853,
         0.35118294721469284,
         0.35366012547165154,
         0.3530106136575341,
         0.35486072283238174,
         0.35316278915852306,
         0.35503582265228034,
         0.3481931468471885,
         0.3548346573486924,
         0.35199976358562707,
         0.35365810375660656,
         0.3551609540358186,
         0.35393164623528717,
         0.35083263646811247,
         0.3487146424129605,
         0.3530954891815782,
         0.356697909720242,
         0.35512413177639246,
         0.3526387246325612,
         0.35338984038680793,
         0.35357286464422943,
         0.3538961397483945,
         0.35313454624265433,
         0.35214550476521256,
         0.3530171213671565,
         0.350916469655931,
         0.3500278605148196,
         0.35018138494342566,
         0.3527660774067044,
         0.3556315092369914,
         0.352709642238915,
         0.35139128025621175,
         0.3544455269351602,
         0.3531533287838101,
         0.349849989823997,
         0.3581524608656764,
         0.3506593158468604,
         0.3568282088264823,
         0.34952649343758824,
         0.35549141447991134,
         0.35303515549749137,
         0.355579355917871,
         0.34956442955881356,
         0.35328097324818375,
         0.35231179725378753,
         0.35323350969702005,
         0.3494573960080743,
         0.3529385956004262,
         0.3541312826797366,
         0.35009228643029927,
         0.35328087117522955,
         0.3496368082240224,
         0.3551765589043498,
         0.35578238051384686,
         0.35280881989747287,
         0.35284421388059856,
         0.35230518598109484,
         0.35171399507671597,
         0.3538394821807742,
         0.354187892191112,
         0.350426840223372,
         0.3554625252261758,
         0.3549148427322507,
         0.35015371087938546,
         0.3519874902442098,
         0.3552454514428973,
         0.35183085668832065,
         0.35229548905044794,
         0.3522234005853534,
         0.35641175527125596,
         0.35016567837446927,
         0.353185691870749,
         0.3520162170752883,
         0.35457414370030166,
         0.35267765577882526,
         0.353639661334455,
         0.3536313084885478,
         0.3525055835023522,
         0.34897592570632696,
         0.3578341344371438,
         0.3519075283780694,
         0.3506635891273618,
         0.351211548037827,
         0.3530108889564872,
         0.3515230091288686,
         0.35441338922828436,
         0.3492097483947873
        ],
        [
         7.037321802228689,
         7.123494442552328,
         7.036726597696543,
         7.098287735134363,
         7.04665981605649,
         7.150510098785162,
         7.071006689220667,
         7.05430668964982,
         7.033657345920801,
         7.044653553515673,
         7.1035699509084225,
         7.038237977772951,
         7.087303329259157,
         7.134541962295771,
         7.023658944293857,
         7.073202509433031,
         7.0602122731506824,
         7.0972144566476345,
         7.063255783170462,
         7.100716453045607,
         6.9638629369437695,
         7.096693146973848,
         7.039995271712542,
         7.073162075132132,
         7.1032190807163715,
         7.078632924705744,
         7.016652729362249,
         6.974292848259211,
         7.061909783631563,
         7.1339581944048405,
         7.102482635527849,
         7.052774492651224,
         7.067796807736158,
         7.071457292884588,
         7.07792279496789,
         7.0626909248530865,
         7.042910095304251,
         7.06034242734313,
         7.01832939311862,
         7.000557210296392,
         7.003627698868513,
         7.0553215481340885,
         7.112630184739828,
         7.054192844778299,
         7.027825605124235,
         7.088910538703203,
         7.063066575676203,
         6.99699979647994,
         7.163049217313528,
         7.013186316937208,
         7.136564176529646,
         6.990529868751764,
         7.1098282895982265,
         7.060703109949827,
         7.11158711835742,
         6.991288591176271,
         7.0656194649636745,
         7.04623594507575,
         7.064670193940401,
         6.989147920161486,
         7.058771912008524,
         7.082625653594732,
         7.001845728605986,
         7.065617423504591,
         6.992736164480448,
         7.103531178086996,
         7.1156476102769375,
         7.056176397949457,
         7.056884277611971,
         7.046103719621897,
         7.034279901534319,
         7.076789643615484,
         7.083757843822241,
         7.00853680446744,
         7.109250504523516,
         7.098296854645014,
         7.003074217587709,
         7.039749804884195,
         7.104909028857946,
         7.036617133766413,
         7.045909781008959,
         7.0444680117070675,
         7.128235105425119,
         7.003313567489386,
         7.06371383741498,
         7.040324341505766,
         7.091482874006033,
         7.053553115576506,
         7.0727932266891,
         7.072626169770956,
         7.050111670047045,
         6.979518514126539,
         7.156682688742876,
         7.038150567561388,
         7.0132717825472355,
         7.02423096075654,
         7.060217779129744,
         7.030460182577372,
         7.088267784565687,
         6.984194967895746
        ],
        [
         1.8937808965825536,
         1.9136280315218366,
         1.888929822677511,
         1.8982311159071812,
         1.8907265003470861,
         1.9160565848987317,
         1.8919166840612998,
         1.8993269828001726,
         1.8857013714009345,
         1.894817963017859,
         1.9112941886304893,
         1.8990697586198433,
         1.9072616843812658,
         1.9128367829833794,
         1.8948958160559275,
         1.8959837199409464,
         1.8997723242043254,
         1.9087827288157977,
         1.8977653312349883,
         1.91635059727371,
         1.8725680019669833,
         1.9020743606398076,
         1.8882406664685598,
         1.8952963133131522,
         1.9072402093021328,
         1.9031252779207024,
         1.8897281436877449,
         1.8792195288285938,
         1.9062043004041653,
         1.9056532208577446,
         1.9026940313112173,
         1.8923534957088146,
         1.9034107982781208,
         1.9053341224800573,
         1.8960022644162235,
         1.8865795981042042,
         1.8830272491565367,
         1.8859941196807917,
         1.88898490803633,
         1.889327410844691,
         1.8897716972762746,
         1.8939068667983945,
         1.9040413938342835,
         1.8894701270624843,
         1.8958565326277632,
         1.8987473766515164,
         1.9048231015159967,
         1.8907352970559894,
         1.9135592462286746,
         1.8860515922792678,
         1.9119482260040455,
         1.883417806536341,
         1.897085661654093,
         1.8963519921837382,
         1.9071516432973787,
         1.8843003679570816,
         1.9020783290861454,
         1.8851569642391566,
         1.9076912715978378,
         1.8836206997303457,
         1.899277894367995,
         1.9021559497303762,
         1.8692464975987269,
         1.904840993022696,
         1.8896816621062191,
         1.9061403296425892,
         1.9027144904674858,
         1.8969560529846798,
         1.8870934677840292,
         1.8963641782457499,
         1.892229291862256,
         1.8954650972387006,
         1.9033799826588507,
         1.8936552155630257,
         1.9096511316656315,
         1.91357776899609,
         1.8862210875980672,
         1.8979255293546329,
         1.9071045355825758,
         1.8998519579634112,
         1.8927907462234759,
         1.8971294313851186,
         1.9043934229544048,
         1.8861181498243378,
         1.896134519490553,
         1.8904485047250372,
         1.9101006905831408,
         1.8990301174376953,
         1.8955007095815828,
         1.8955018714070186,
         1.8895469927936308,
         1.8853960025466117,
         1.9126742100813887,
         1.8927885794526587,
         1.8844868123750076,
         1.8866852777003669,
         1.9048008181352218,
         1.8882035159583828,
         1.8908400722103182,
         1.8884718015714532
        ]
       ],
       "encoder": "json",
       "name": "ABC_GAN_1 Metrics",
       "version": 1
      }
     },
     "metadata": {
      "scrapbook": {
       "data": true,
       "display": false,
       "name": "ABC_GAN_1 Metrics"
      }
     },
     "output_type": "display_data"
    },
    {
     "name": "stdout",
     "output_type": "stream",
     "text": [
      "MSE\n",
      "0.1798791167688243\n"
     ]
    }
   ],
   "source": [
    "ABC_GAN1_metrics=ABC_train_test2.test_generator(gen,test_data,prior_model,variance,0,\"1\",device)\n",
    "sb.glue(\"ABC_GAN_1 Metrics\",ABC_GAN1_metrics)\n",
    "\n",
    "print(\"MSE\")\n",
    "print(mean(ABC_GAN1_metrics[0]))"
   ]
  },
  {
   "cell_type": "code",
   "execution_count": 14,
   "id": "eb22ce5c",
   "metadata": {
    "execution": {
     "iopub.execute_input": "2022-05-18T08:27:43.375560Z",
     "iopub.status.busy": "2022-05-18T08:27:43.375186Z",
     "iopub.status.idle": "2022-05-18T08:27:43.674284Z",
     "shell.execute_reply": "2022-05-18T08:27:43.674660Z"
    },
    "papermill": {
     "duration": 0.313623,
     "end_time": "2022-05-18T08:27:43.674785",
     "exception": false,
     "start_time": "2022-05-18T08:27:43.361162",
     "status": "completed"
    },
    "tags": []
   },
   "outputs": [
    {
     "data": {
      "image/png": "[encoded data removed]",
      "text/plain": [
       "<Figure size 432x288 with 1 Axes>"
      ]
     },
     "metadata": {
      "needs_background": "light"
     },
     "output_type": "display_data"
    },
    {
     "data": {
      "image/png": "[encoded data removed]",
      "text/plain": [
       "<Figure size 432x288 with 1 Axes>"
      ]
     },
     "metadata": {
      "needs_background": "light"
     },
     "output_type": "display_data"
    },
    {
     "data": {
      "image/png": "[encoded data removed]",
      "text/plain": [
       "<Figure size 432x288 with 1 Axes>"
      ]
     },
     "metadata": {
      "needs_background": "light"
     },
     "output_type": "display_data"
    },
    {
     "data": {
      "image/png": "[encoded data removed]",
      "text/plain": [
       "<Figure size 432x288 with 1 Axes>"
      ]
     },
     "metadata": {
      "needs_background": "light"
     },
     "output_type": "display_data"
    }
   ],
   "source": [
    "sanityChecks.discProbVsError(train_data,disc,device)\n",
    "sanityChecks.discProbVsError(test_data,disc,device)"
   ]
  },
  {
   "cell_type": "markdown",
   "id": "130f3a4d",
   "metadata": {
    "id": "130f3a4d",
    "papermill": {
     "duration": 0.014792,
     "end_time": "2022-05-18T08:27:43.706049",
     "exception": false,
     "start_time": "2022-05-18T08:27:43.691257",
     "status": "completed"
    },
    "tags": []
   },
   "source": [
    "# ABC - GAN Model with skip connection"
   ]
  },
  {
   "cell_type": "code",
   "execution_count": 15,
   "id": "4e43dad1",
   "metadata": {
    "execution": {
     "iopub.execute_input": "2022-05-18T08:27:43.738404Z",
     "iopub.status.busy": "2022-05-18T08:27:43.738014Z",
     "iopub.status.idle": "2022-05-18T08:27:43.740254Z",
     "shell.execute_reply": "2022-05-18T08:27:43.740503Z"
    },
    "id": "4e43dad1",
    "papermill": {
     "duration": 0.020107,
     "end_time": "2022-05-18T08:27:43.740662",
     "exception": false,
     "start_time": "2022-05-18T08:27:43.720555",
     "status": "completed"
    },
    "tags": []
   },
   "outputs": [],
   "source": [
    "#Generator\n",
    "gen3 = network.GeneratorWithSkipConnection(n_features+1).to(device)\n",
    "constraints=network.weightConstraint()\n",
    "#Discriminator \n",
    "disc3 = network.Discriminator(n_features+1).to(device)\n",
    "\n",
    "criterion = torch.nn.BCELoss()\n",
    "gen_opt = torch.optim.Adam(gen3.parameters(), lr=0.001, betas=(0.5, 0.999))\n",
    "disc_opt = torch.optim.Adam(disc3.parameters(), lr=0.001, betas=(0.5, 0.999))\n"
   ]
  },
  {
   "cell_type": "code",
   "execution_count": 16,
   "id": "26acbc37",
   "metadata": {
    "execution": {
     "iopub.execute_input": "2022-05-18T08:27:43.771632Z",
     "iopub.status.busy": "2022-05-18T08:27:43.771264Z",
     "iopub.status.idle": "2022-05-18T08:28:20.996129Z",
     "shell.execute_reply": "2022-05-18T08:28:20.996471Z"
    },
    "id": "26acbc37",
    "papermill": {
     "duration": 37.241675,
     "end_time": "2022-05-18T08:28:20.996669",
     "exception": false,
     "start_time": "2022-05-18T08:27:43.754994",
     "status": "completed"
    },
    "tags": []
   },
   "outputs": [
    {
     "data": {
      "image/png": "[encoded data removed]",
      "text/plain": [
       "<Figure size 432x288 with 1 Axes>"
      ]
     },
     "metadata": {
      "needs_background": "light"
     },
     "output_type": "display_data"
    },
    {
     "data": {
      "image/png": "[encoded data removed]",
      "text/plain": [
       "<Figure size 432x288 with 1 Axes>"
      ]
     },
     "metadata": {
      "needs_background": "light"
     },
     "output_type": "display_data"
    }
   ],
   "source": [
    "ABC_train_test2.training_GAN_skip_connection(disc3,gen3,disc_opt,gen_opt,train_data,batch_size,n_epochs,criterion,prior_model,variance,0,device)"
   ]
  },
  {
   "cell_type": "code",
   "execution_count": 17,
   "id": "c5e0717b",
   "metadata": {
    "execution": {
     "iopub.execute_input": "2022-05-18T08:28:21.031764Z",
     "iopub.status.busy": "2022-05-18T08:28:21.031313Z",
     "iopub.status.idle": "2022-05-18T08:28:21.330597Z",
     "shell.execute_reply": "2022-05-18T08:28:21.330845Z"
    },
    "id": "c5e0717b",
    "papermill": {
     "duration": 0.318358,
     "end_time": "2022-05-18T08:28:21.330969",
     "exception": false,
     "start_time": "2022-05-18T08:28:21.012611",
     "status": "completed"
    },
    "tags": []
   },
   "outputs": [
    {
     "data": {
      "application/scrapbook.scrap.json+json": {
       "data": 0.2536828907665432,
       "encoder": "json",
       "name": "ABC-GAN Model 3 MSE",
       "version": 1
      }
     },
     "metadata": {
      "scrapbook": {
       "data": true,
       "display": false,
       "name": "ABC-GAN Model 3 MSE"
      }
     },
     "output_type": "display_data"
    },
    {
     "data": {
      "application/scrapbook.scrap.json+json": {
       "data": 0.4214309319527965,
       "encoder": "json",
       "name": "ABC-GAN Model 3 MAE",
       "version": 1
      }
     },
     "metadata": {
      "scrapbook": {
       "data": true,
       "display": false,
       "name": "ABC-GAN Model 3 MAE"
      }
     },
     "output_type": "display_data"
    },
    {
     "data": {
      "application/scrapbook.scrap.json+json": {
       "data": 8.42861863905593,
       "encoder": "json",
       "name": "ABC-GAN Model 3 Manhattan Distance",
       "version": 1
      }
     },
     "metadata": {
      "scrapbook": {
       "data": true,
       "display": false,
       "name": "ABC-GAN Model 3 Manhattan Distance"
      }
     },
     "output_type": "display_data"
    },
    {
     "data": {
      "application/scrapbook.scrap.json+json": {
       "data": 2.2524574471541308,
       "encoder": "json",
       "name": "ABC-GAN Model 3 Euclidean distance",
       "version": 1
      }
     },
     "metadata": {
      "scrapbook": {
       "data": true,
       "display": false,
       "name": "ABC-GAN Model 3 Euclidean distance"
      }
     },
     "output_type": "display_data"
    },
    {
     "data": {
      "application/scrapbook.scrap.json+json": {
       "data": [
        [
         0.2511981473862273,
         0.25660402429662077,
         0.2503534031877676,
         0.24787319802692873,
         0.2528198094784255,
         0.2524628160623188,
         0.2525983079397931,
         0.25687129318744917,
         0.25354786878483215,
         0.25404471646327287,
         0.2538957505644509,
         0.25278800418374875,
         0.2529999921642125,
         0.2569118455295835,
         0.2501468704115145,
         0.2538794762182136,
         0.25387713226860237,
         0.2544802177990235,
         0.25309328734476166,
         0.2518373192991641,
         0.25378766820623183,
         0.25248324341226397,
         0.25130482313246133,
         0.251766708250944,
         0.2538624540343191,
         0.25600016059465075,
         0.25483713951712916,
         0.25541099637022063,
         0.25610771009771827,
         0.2513443080186308,
         0.250444638962682,
         0.25000232665969635,
         0.2537523825864102,
         0.26085087013913383,
         0.2504894194038746,
         0.25481354439965803,
         0.25417977332550745,
         0.2534865723245845,
         0.2540034765588994,
         0.25378239753314885,
         0.2570382102341534,
         0.2543872164601594,
         0.25207318799879297,
         0.2538559211931541,
         0.25497151393292594,
         0.25271922701221655,
         0.2558100508834672,
         0.25491794319915806,
         0.2545272740142885,
         0.2506820244325211,
         0.24921509029465683,
         0.25651326209421565,
         0.25515059207199486,
         0.25207724704283946,
         0.25325431012916966,
         0.25279652329696356,
         0.25458585473029366,
         0.25625403606964575,
         0.2510491427750198,
         0.25628562820317075,
         0.2563415416171434,
         0.25150372103217744,
         0.25406968886509773,
         0.25404411381740255,
         0.2516071489754501,
         0.2522456347226113,
         0.25680610502192697,
         0.25290548814085734,
         0.25175549813296033,
         0.2558818262778858,
         0.25169663165832795,
         0.25680562061622647,
         0.2558182545821354,
         0.25210065574602863,
         0.2525771390442187,
         0.2530566712886403,
         0.2510896264414805,
         0.2550730249948365,
         0.25397956225788365,
         0.25407208675930437,
         0.25315117652296687,
         0.2578222883677809,
         0.2519621686952499,
         0.2529879535925403,
         0.25282266665767905,
         0.25057893470991816,
         0.25836967847585307,
         0.2524297237358326,
         0.25294544677705827,
         0.25653142821878494,
         0.252610230448607,
         0.25633688493893214,
         0.2556604318095456,
         0.25511273630575,
         0.25182995225155136,
         0.25492888610261455,
         0.25691562986923755,
         0.25217142116492713,
         0.2526689697514454,
         0.2538640780715669
        ],
        [
         0.41896311114542184,
         0.423285525245592,
         0.4188178825424984,
         0.4173141840379685,
         0.4219751074910164,
         0.42004478950984775,
         0.4198144633788615,
         0.4246366745326668,
         0.42198524842970075,
         0.4221782479813555,
         0.41980221881531177,
         0.4197843188652769,
         0.4206766661896836,
         0.42210199986584485,
         0.41909061330370606,
         0.42084691799245777,
         0.42250045388936996,
         0.42291202768683434,
         0.4227879446465522,
         0.4210803215391934,
         0.42153806360438467,
         0.42214441457763313,
         0.4185929659754038,
         0.4205491088796407,
         0.4212565981782973,
         0.4255431414116174,
         0.42145219165831804,
         0.4231880305334926,
         0.42178659308701755,
         0.4189709353260696,
         0.4182791569037363,
         0.4188747965730727,
         0.4237011800520122,
         0.4265122990589589,
         0.4175162986619398,
         0.4230977953411639,
         0.4218765165191144,
         0.41984990913188086,
         0.42342979651875795,
         0.4231406723964028,
         0.42321157953701916,
         0.42212684978730974,
         0.42112446641549467,
         0.4236135024111718,
         0.421540634916164,
         0.41975759556517006,
         0.4230097617488354,
         0.4216479362454265,
         0.419555316446349,
         0.4201990914065391,
         0.41672585068736223,
         0.42419300843030217,
         0.42393652494065465,
         0.4210535502061248,
         0.41997474962845444,
         0.419663210233557,
         0.422838396707084,
         0.4256684663705528,
         0.42202304732054474,
         0.4225603427737951,
         0.42161624229047445,
         0.4196613972075284,
         0.4214593210956082,
         0.4244190397672355,
         0.4188025478506461,
         0.42030188119970263,
         0.4231815506704152,
         0.4196514174342155,
         0.4196700225584209,
         0.4228098404826596,
         0.41889118584804236,
         0.4223039392847568,
         0.4245268006809056,
         0.41994205191149375,
         0.4207555370638147,
         0.422163549461402,
         0.4190096979029477,
         0.4219235190656036,
         0.4186650144634768,
         0.4220187553204596,
         0.420332776196301,
         0.4246344194514677,
         0.41768514970317483,
         0.4213168346323073,
         0.4207947509014048,
         0.4186561351409182,
         0.4257648394210264,
         0.42136105690151454,
         0.4203970359885716,
         0.424803034751676,
         0.41991813890635965,
         0.4227018696255982,
         0.42471837825141845,
         0.42179268174804746,
         0.4192274767905474,
         0.42435201108455656,
         0.4239316259510815,
         0.42123189503327013,
         0.4206900436896831,
         0.42068666629493234
        ],
        [
         8.379262222908437,
         8.46571050491184,
         8.376357650849968,
         8.34628368075937,
         8.439502149820328,
         8.400895790196955,
         8.396289267577231,
         8.492733490653336,
         8.439704968594015,
         8.44356495962711,
         8.396044376306236,
         8.395686377305537,
         8.413533323793672,
         8.442039997316897,
         8.381812266074121,
         8.416938359849155,
         8.4500090777874,
         8.458240553736687,
         8.455758892931044,
         8.421606430783868,
         8.430761272087693,
         8.442888291552663,
         8.371859319508076,
         8.410982177592814,
         8.425131963565946,
         8.510862828232348,
         8.42904383316636,
         8.463760610669851,
         8.43573186174035,
         8.379418706521392,
         8.365583138074726,
         8.377495931461453,
         8.474023601040244,
         8.530245981179178,
         8.350325973238796,
         8.461955906823277,
         8.437530330382288,
         8.396998182637617,
         8.468595930375159,
         8.462813447928056,
         8.464231590740383,
         8.442536995746195,
         8.422489328309894,
         8.472270048223436,
         8.43081269832328,
         8.395151911303401,
         8.460195234976709,
         8.43295872490853,
         8.39110632892698,
         8.403981828130782,
         8.334517013747245,
         8.483860168606043,
         8.478730498813093,
         8.421071004122496,
         8.399494992569089,
         8.39326420467114,
         8.45676793414168,
         8.513369327411056,
         8.440460946410894,
         8.451206855475903,
         8.43232484580949,
         8.393227944150567,
         8.429186421912163,
         8.48838079534471,
         8.376050957012922,
         8.406037623994052,
         8.463631013408303,
         8.393028348684311,
         8.393400451168418,
         8.456196809653193,
         8.377823716960847,
         8.446078785695136,
         8.490536013618112,
         8.398841038229875,
         8.415110741276294,
         8.44327098922804,
         8.380193958058953,
         8.438470381312072,
         8.373300289269537,
         8.440375106409192,
         8.40665552392602,
         8.492688389029354,
         8.353702994063497,
         8.426336692646146,
         8.415895018028095,
         8.373122702818364,
         8.515296788420528,
         8.42722113803029,
         8.407940719771432,
         8.49606069503352,
         8.398362778127193,
         8.454037392511964,
         8.49436756502837,
         8.43585363496095,
         8.384549535810947,
         8.487040221691132,
         8.47863251902163,
         8.424637900665402,
         8.413800873793662,
         8.413733325898647
        ],
        [
         2.2414198508366403,
         2.265409562514561,
         2.237647886454737,
         2.226536314668722,
         2.248643188584732,
         2.247055032981252,
         2.247657927442666,
         2.266589037242743,
         2.2518786325414264,
         2.254083922409602,
         2.2534229543716418,
         2.248501741977305,
         2.249444341006074,
         2.266767943701267,
         2.2367247055080988,
         2.2533507326566524,
         2.2533403305697184,
         2.256015149767499,
         2.2498590504507687,
         2.24426967764199,
         2.2529432669565024,
         2.247145938350529,
         2.2418957296558704,
         2.243955027405603,
         2.253275189737459,
         2.2627424095316315,
         2.2575966846056854,
         2.260137147919217,
         2.2632176656155645,
         2.2420718454975113,
         2.238055580018879,
         2.2360783826140636,
         2.2527866414128535,
         2.2840791148256394,
         2.2382556574434234,
         2.257492167869727,
         2.254683007988074,
         2.251606414649703,
         2.2539009585999974,
         2.2529198722242603,
         2.2673253416047436,
         2.2556028748880395,
         2.245320413655,
         2.253246196904165,
         2.2581918161791568,
         2.248195841167831,
         2.2619020795934874,
         2.2579545752700962,
         2.256223721239933,
         2.23911600607258,
         2.2325549950433774,
         2.2650088834007502,
         2.2589846926085837,
         2.245338491376476,
         2.25057463830538,
         2.2485396296128006,
         2.2564833468487806,
         2.263864112837366,
         2.2407549744450854,
         2.2640036581382583,
         2.2642506116467915,
         2.2427827404016534,
         2.254194707052156,
         2.254081248834667,
         2.2432438519940274,
         2.2460883095845157,
         2.266301414295667,
         2.249024180131718,
         2.2439050698858023,
         2.2622193805105897,
         2.2436427151323715,
         2.2662992768662593,
         2.261938348329306,
         2.245442743629989,
         2.2475637434529805,
         2.249696296341532,
         2.24093563692258,
         2.258641295092412,
         2.253794854275267,
         2.254205344503044,
         2.250116337094448,
         2.2707808717169558,
         2.244825911714536,
         2.2493908223896546,
         2.2486558947855007,
         2.238655555059412,
         2.2731901745162153,
         2.2469077583907735,
         2.2492018441085193,
         2.2650890853067343,
         2.247710970959598,
         2.264230045463279,
         2.261240508258888,
         2.2588171077170016,
         2.244236851366412,
         2.258003038539207,
         2.2667846385099644,
         2.2457578728123258,
         2.2479722852003556,
         2.2532823971778013
        ]
       ],
       "encoder": "json",
       "name": "ABC_GAN_3 Metrics",
       "version": 1
      }
     },
     "metadata": {
      "scrapbook": {
       "data": true,
       "display": false,
       "name": "ABC_GAN_3 Metrics"
      }
     },
     "output_type": "display_data"
    },
    {
     "name": "stdout",
     "output_type": "stream",
     "text": [
      "MSE\n",
      "0.2536828907665432\n"
     ]
    }
   ],
   "source": [
    "ABC_GAN3_metrics=ABC_train_test2.test_generator(gen3,test_data,prior_model,variance,0,\"3\",device)\n",
    "sb.glue(\"ABC_GAN_3 Metrics\",ABC_GAN3_metrics)\n",
    "\n",
    "print(\"MSE\")\n",
    "print(mean(ABC_GAN3_metrics[0]))"
   ]
  },
  {
   "cell_type": "code",
   "execution_count": 18,
   "id": "c8e46b48",
   "metadata": {
    "execution": {
     "iopub.execute_input": "2022-05-18T08:28:21.391984Z",
     "iopub.status.busy": "2022-05-18T08:28:21.391612Z",
     "iopub.status.idle": "2022-05-18T08:28:21.686361Z",
     "shell.execute_reply": "2022-05-18T08:28:21.686621Z"
    },
    "id": "c8e46b48",
    "papermill": {
     "duration": 0.314179,
     "end_time": "2022-05-18T08:28:21.686749",
     "exception": false,
     "start_time": "2022-05-18T08:28:21.372570",
     "status": "completed"
    },
    "tags": []
   },
   "outputs": [
    {
     "data": {
      "image/png": "[encoded data removed]",
      "text/plain": [
       "<Figure size 432x288 with 1 Axes>"
      ]
     },
     "metadata": {
      "needs_background": "light"
     },
     "output_type": "display_data"
    },
    {
     "data": {
      "image/png": "[encoded data removed]",
      "text/plain": [
       "<Figure size 432x288 with 1 Axes>"
      ]
     },
     "metadata": {
      "needs_background": "light"
     },
     "output_type": "display_data"
    },
    {
     "data": {
      "image/png": "[encoded data removed]",
      "text/plain": [
       "<Figure size 432x288 with 1 Axes>"
      ]
     },
     "metadata": {
      "needs_background": "light"
     },
     "output_type": "display_data"
    },
    {
     "data": {
      "image/png": "[encoded data removed]",
      "text/plain": [
       "<Figure size 432x288 with 1 Axes>"
      ]
     },
     "metadata": {
      "needs_background": "light"
     },
     "output_type": "display_data"
    }
   ],
   "source": [
    "sanityChecks.discProbVsError(train_data,disc3,device)\n",
    "sanityChecks.discProbVsError(test_data,disc3,device)"
   ]
  },
  {
   "cell_type": "markdown",
   "id": "a5bd74c3",
   "metadata": {
    "id": "a5bd74c3",
    "papermill": {
     "duration": 0.019267,
     "end_time": "2022-05-18T08:28:21.725513",
     "exception": false,
     "start_time": "2022-05-18T08:28:21.706246",
     "status": "completed"
    },
    "tags": []
   },
   "source": [
    "## Skip Connection Model Analysis - ABC-GAN "
   ]
  },
  {
   "cell_type": "markdown",
   "id": "5744a8bf",
   "metadata": {
    "id": "5744a8bf",
    "papermill": {
     "duration": 0.018987,
     "end_time": "2022-05-18T08:28:21.763415",
     "exception": false,
     "start_time": "2022-05-18T08:28:21.744428",
     "status": "completed"
    },
    "tags": []
   },
   "source": [
    "### Weight Analysis \n",
    "\n",
    "Study the weights of the skip connection layer\n",
    "\n",
    "Equation of the skip connection is \n",
    "\n",
    "$output = y_{gan} * w + y_{abc} * (1-w)$"
   ]
  },
  {
   "cell_type": "code",
   "execution_count": 19,
   "id": "52c31dea",
   "metadata": {
    "execution": {
     "iopub.execute_input": "2022-05-18T08:28:21.806958Z",
     "iopub.status.busy": "2022-05-18T08:28:21.806540Z",
     "iopub.status.idle": "2022-05-18T08:28:21.809929Z",
     "shell.execute_reply": "2022-05-18T08:28:21.810175Z"
    },
    "id": "52c31dea",
    "papermill": {
     "duration": 0.026754,
     "end_time": "2022-05-18T08:28:21.810343",
     "exception": false,
     "start_time": "2022-05-18T08:28:21.783589",
     "status": "completed"
    },
    "tags": []
   },
   "outputs": [
    {
     "name": "stdout",
     "output_type": "stream",
     "text": [
      "Weight of the node at skip connection\n",
      "Parameter containing:\n",
      "tensor([[0.]], requires_grad=True)\n"
     ]
    },
    {
     "data": {
      "application/scrapbook.scrap.json+json": {
       "data": 0.0,
       "encoder": "json",
       "name": "Skip Connection Weight",
       "version": 1
      }
     },
     "metadata": {
      "scrapbook": {
       "data": true,
       "display": false,
       "name": "Skip Connection Weight"
      }
     },
     "output_type": "display_data"
    }
   ],
   "source": [
    "print(\"Weight of the node at skip connection\")\n",
    "for name,param in gen3.named_parameters():\n",
    "    if(name == \"skipNode.weight\"):\n",
    "        print(param)\n",
    "        sb.glue(\"Skip Connection Weight\",param.item())"
   ]
  }
 ],
 "metadata": {
  "colab": {
   "collapsed_sections": [],
   "name": "ABC_GAN_Model-Catboost_Pre-gen.ipynb",
   "provenance": []
  },
  "interpreter": {
   "hash": "31f2aee4e71d21fbe5cf8b01ff0e069b9275f58929596ceb00d14d90e3e16cd6"
  },
  "kernelspec": {
   "display_name": "Python 3 (ipykernel)",
   "language": "python",
   "name": "python3"
  },
  "language_info": {
   "codemirror_mode": {
    "name": "ipython",
    "version": 3
   },
   "file_extension": ".py",
   "mimetype": "text/x-python",
   "name": "python",
   "nbconvert_exporter": "python",
   "pygments_lexer": "ipython3",
   "version": "3.8.11"
  },
  "papermill": {
   "default_parameters": {},
   "duration": 57.165621,
   "end_time": "2022-05-18T08:28:22.137975",
   "environment_variables": {},
   "exception": null,
   "input_path": "ABC_GAN-Catboost.ipynb",
   "output_path": "./ABC_GAN_Catboost/ABC-GAN_output_2_2.ipynb",
   "parameters": {
    "variance": 0.01
   },
   "start_time": "2022-05-18T08:27:24.972354",
   "version": "2.3.3"
  }
 },
 "nbformat": 4,
 "nbformat_minor": 5
}