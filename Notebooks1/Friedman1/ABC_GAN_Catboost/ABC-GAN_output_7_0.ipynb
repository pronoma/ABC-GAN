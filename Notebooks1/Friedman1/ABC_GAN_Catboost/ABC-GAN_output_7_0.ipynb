{
 "cells": [
  {
   "cell_type": "markdown",
   "id": "622780e6",
   "metadata": {
    "id": "622780e6",
    "papermill": {
     "duration": 0.03344,
     "end_time": "2022-05-18T08:39:51.513853",
     "exception": false,
     "start_time": "2022-05-18T08:39:51.480413",
     "status": "completed"
    },
    "tags": []
   },
   "source": [
    "## Import Libraries "
   ]
  },
  {
   "cell_type": "code",
   "execution_count": 1,
   "id": "a62397e3",
   "metadata": {
    "execution": {
     "iopub.execute_input": "2022-05-18T08:39:51.549440Z",
     "iopub.status.busy": "2022-05-18T08:39:51.548932Z",
     "iopub.status.idle": "2022-05-18T08:39:51.551300Z",
     "shell.execute_reply": "2022-05-18T08:39:51.551631Z"
    },
    "id": "a62397e3",
    "papermill": {
     "duration": 0.022056,
     "end_time": "2022-05-18T08:39:51.551836",
     "exception": false,
     "start_time": "2022-05-18T08:39:51.529780",
     "status": "completed"
    },
    "tags": []
   },
   "outputs": [],
   "source": [
    "import warnings\n",
    "import sys\n",
    "sys.path.insert(0, '../../src')\n",
    "warnings.filterwarnings('ignore')"
   ]
  },
  {
   "cell_type": "code",
   "execution_count": 2,
   "id": "d6a4e155",
   "metadata": {
    "execution": {
     "iopub.execute_input": "2022-05-18T08:39:51.572658Z",
     "iopub.status.busy": "2022-05-18T08:39:51.572178Z",
     "iopub.status.idle": "2022-05-18T08:39:53.350537Z",
     "shell.execute_reply": "2022-05-18T08:39:53.350794Z"
    },
    "id": "d6a4e155",
    "papermill": {
     "duration": 1.789539,
     "end_time": "2022-05-18T08:39:53.350919",
     "exception": false,
     "start_time": "2022-05-18T08:39:51.561380",
     "status": "completed"
    },
    "tags": []
   },
   "outputs": [],
   "source": [
    "import ABC_train_test2\n",
    "import friedman1Dataset\n",
    "import network\n",
    "import dataset\n",
    "import sanityChecks\n",
    "import torch \n",
    "import scrapbook as sb\n",
    "from statistics import mean \n",
    "import catboost as ctb \n",
    "from sklearn.model_selection import train_test_split\n",
    "from sklearn.metrics import mean_squared_error,mean_absolute_error\n",
    "import numpy as np"
   ]
  },
  {
   "cell_type": "markdown",
   "id": "2fa5b0f7",
   "metadata": {
    "id": "2fa5b0f7",
    "papermill": {
     "duration": 0.007154,
     "end_time": "2022-05-18T08:39:53.365135",
     "exception": false,
     "start_time": "2022-05-18T08:39:53.357981",
     "status": "completed"
    },
    "tags": []
   },
   "source": [
    "## Parameters "
   ]
  },
  {
   "cell_type": "code",
   "execution_count": 3,
   "id": "783186fb",
   "metadata": {
    "execution": {
     "iopub.execute_input": "2022-05-18T08:39:53.381214Z",
     "iopub.status.busy": "2022-05-18T08:39:53.380831Z",
     "iopub.status.idle": "2022-05-18T08:39:53.382106Z",
     "shell.execute_reply": "2022-05-18T08:39:53.382354Z"
    },
    "id": "783186fb",
    "papermill": {
     "duration": 0.010539,
     "end_time": "2022-05-18T08:39:53.382465",
     "exception": false,
     "start_time": "2022-05-18T08:39:53.371926",
     "status": "completed"
    },
    "tags": [
     "parameters"
    ]
   },
   "outputs": [],
   "source": [
    "variance = 1"
   ]
  },
  {
   "cell_type": "code",
   "execution_count": 4,
   "id": "789b9fe7",
   "metadata": {
    "execution": {
     "iopub.execute_input": "2022-05-18T08:39:53.397988Z",
     "iopub.status.busy": "2022-05-18T08:39:53.397591Z",
     "iopub.status.idle": "2022-05-18T08:39:53.398658Z",
     "shell.execute_reply": "2022-05-18T08:39:53.398892Z"
    },
    "papermill": {
     "duration": 0.0097,
     "end_time": "2022-05-18T08:39:53.398999",
     "exception": false,
     "start_time": "2022-05-18T08:39:53.389299",
     "status": "completed"
    },
    "tags": [
     "injected-parameters"
    ]
   },
   "outputs": [],
   "source": [
    "# Parameters\n",
    "variance = 1\n"
   ]
  },
  {
   "cell_type": "markdown",
   "id": "391cdbfd",
   "metadata": {
    "id": "391cdbfd",
    "papermill": {
     "duration": 0.006801,
     "end_time": "2022-05-18T08:39:53.412699",
     "exception": false,
     "start_time": "2022-05-18T08:39:53.405898",
     "status": "completed"
    },
    "tags": []
   },
   "source": [
    "## Dataset \n"
   ]
  },
  {
   "cell_type": "code",
   "execution_count": 5,
   "id": "5b51f161",
   "metadata": {
    "execution": {
     "iopub.execute_input": "2022-05-18T08:39:53.428312Z",
     "iopub.status.busy": "2022-05-18T08:39:53.427939Z",
     "iopub.status.idle": "2022-05-18T08:39:53.429093Z",
     "shell.execute_reply": "2022-05-18T08:39:53.429384Z"
    },
    "id": "5b51f161",
    "papermill": {
     "duration": 0.009964,
     "end_time": "2022-05-18T08:39:53.429495",
     "exception": false,
     "start_time": "2022-05-18T08:39:53.419531",
     "status": "completed"
    },
    "tags": []
   },
   "outputs": [],
   "source": [
    "#Parameters \n",
    "n_features = 5\n",
    "n_samples= 100\n",
    "n_target = 1 "
   ]
  },
  {
   "cell_type": "code",
   "execution_count": 6,
   "id": "5d6eced4",
   "metadata": {
    "execution": {
     "iopub.execute_input": "2022-05-18T08:39:53.446301Z",
     "iopub.status.busy": "2022-05-18T08:39:53.444961Z",
     "iopub.status.idle": "2022-05-18T08:39:53.451165Z",
     "shell.execute_reply": "2022-05-18T08:39:53.451400Z"
    },
    "id": "5d6eced4",
    "papermill": {
     "duration": 0.015091,
     "end_time": "2022-05-18T08:39:53.451512",
     "exception": false,
     "start_time": "2022-05-18T08:39:53.436421",
     "status": "completed"
    },
    "tags": []
   },
   "outputs": [
    {
     "name": "stdout",
     "output_type": "stream",
     "text": [
      "         X0        X1        X2        X3        X4         Y\n",
      "0  1.104127  1.329076 -1.418494 -0.720521 -1.461166  0.365985\n",
      "1  0.001426 -1.133990 -1.210805  0.757399  0.031341  0.110826\n",
      "2 -1.317753 -1.216840 -1.423645 -1.394630 -0.835984 -1.616669\n",
      "3 -0.789436 -1.655100  0.826210 -1.136309  1.673345 -1.285406\n",
      "4  0.315065 -0.861647 -1.320474 -1.778323  0.288964 -0.791296\n"
     ]
    }
   ],
   "source": [
    "X,Y = friedman1Dataset.friedman1_data(n_samples,n_features)"
   ]
  },
  {
   "cell_type": "code",
   "execution_count": 7,
   "id": "fe007438",
   "metadata": {
    "execution": {
     "iopub.execute_input": "2022-05-18T08:39:53.468388Z",
     "iopub.status.busy": "2022-05-18T08:39:53.468023Z",
     "iopub.status.idle": "2022-05-18T08:39:53.469583Z",
     "shell.execute_reply": "2022-05-18T08:39:53.469823Z"
    },
    "id": "fe007438",
    "papermill": {
     "duration": 0.011122,
     "end_time": "2022-05-18T08:39:53.469930",
     "exception": false,
     "start_time": "2022-05-18T08:39:53.458808",
     "status": "completed"
    },
    "tags": []
   },
   "outputs": [],
   "source": [
    "#Train test split for dataset \n",
    "X_train,X_test,Y_train,Y_test = train_test_split(X,Y,test_size = 0.2)\n",
    "train_data = dataset.CustomDataset(X_train,Y_train)\n",
    "test_data = dataset.CustomDataset(X_test,Y_test)\n"
   ]
  },
  {
   "cell_type": "markdown",
   "id": "a9a1af34",
   "metadata": {
    "id": "a9a1af34",
    "papermill": {
     "duration": 0.00707,
     "end_time": "2022-05-18T08:39:53.484188",
     "exception": false,
     "start_time": "2022-05-18T08:39:53.477118",
     "status": "completed"
    },
    "tags": []
   },
   "source": [
    "## Training Parameters "
   ]
  },
  {
   "cell_type": "code",
   "execution_count": 8,
   "id": "952b7fc8",
   "metadata": {
    "execution": {
     "iopub.execute_input": "2022-05-18T08:39:53.500533Z",
     "iopub.status.busy": "2022-05-18T08:39:53.500152Z",
     "iopub.status.idle": "2022-05-18T08:39:53.501509Z",
     "shell.execute_reply": "2022-05-18T08:39:53.501747Z"
    },
    "id": "952b7fc8",
    "papermill": {
     "duration": 0.010627,
     "end_time": "2022-05-18T08:39:53.501853",
     "exception": false,
     "start_time": "2022-05-18T08:39:53.491226",
     "status": "completed"
    },
    "tags": []
   },
   "outputs": [],
   "source": [
    "batch_size = 32\n",
    "n_epochs = 1000\n",
    "#Select the device \n",
    "device = torch.device('cuda' if torch.cuda.is_available() else 'cpu')"
   ]
  },
  {
   "cell_type": "markdown",
   "id": "a95e1600",
   "metadata": {
    "id": "a95e1600",
    "papermill": {
     "duration": 0.00707,
     "end_time": "2022-05-18T08:39:53.516062",
     "exception": false,
     "start_time": "2022-05-18T08:39:53.508992",
     "status": "completed"
    },
    "tags": []
   },
   "source": [
    "# ABC Pre-generator Model \n",
    "\n",
    "1. The catboost model is used as a pre-generator model for the ABC-GAN. \n",
    "2. The model is first trained on the entire dataset \n",
    "3. It generats X,Y pairs and we add some Gaussian noise with mean 0 and variance 1 to it which is then feed as input to the generator.\n"
   ]
  },
  {
   "cell_type": "code",
   "execution_count": 9,
   "id": "ff8ce7bd",
   "metadata": {
    "execution": {
     "iopub.execute_input": "2022-05-18T08:39:53.533938Z",
     "iopub.status.busy": "2022-05-18T08:39:53.533557Z",
     "iopub.status.idle": "2022-05-18T08:39:54.164939Z",
     "shell.execute_reply": "2022-05-18T08:39:54.165231Z"
    },
    "id": "ff8ce7bd",
    "papermill": {
     "duration": 0.642176,
     "end_time": "2022-05-18T08:39:54.165352",
     "exception": false,
     "start_time": "2022-05-18T08:39:53.523176",
     "status": "completed"
    },
    "tags": []
   },
   "outputs": [
    {
     "name": "stdout",
     "output_type": "stream",
     "text": [
      "Learning rate set to 0.024897\n",
      "0:\tlearn: 0.9517389\ttotal: 57.3ms\tremaining: 57.2s\n",
      "1:\tlearn: 0.9419524\ttotal: 57.9ms\tremaining: 28.9s\n",
      "2:\tlearn: 0.9325638\ttotal: 58.4ms\tremaining: 19.4s\n",
      "3:\tlearn: 0.9225969\ttotal: 58.8ms\tremaining: 14.6s\n",
      "4:\tlearn: 0.9141077\ttotal: 59.2ms\tremaining: 11.8s\n",
      "5:\tlearn: 0.9045813\ttotal: 59.6ms\tremaining: 9.88s\n",
      "6:\tlearn: 0.8936240\ttotal: 60.1ms\tremaining: 8.52s\n",
      "7:\tlearn: 0.8856232\ttotal: 60.5ms\tremaining: 7.5s\n",
      "8:\tlearn: 0.8778585\ttotal: 60.9ms\tremaining: 6.71s\n",
      "9:\tlearn: 0.8688831\ttotal: 61.4ms\tremaining: 6.07s\n",
      "10:\tlearn: 0.8599159\ttotal: 62ms\tremaining: 5.57s\n",
      "11:\tlearn: 0.8502611\ttotal: 62.4ms\tremaining: 5.14s\n",
      "12:\tlearn: 0.8420531\ttotal: 62.8ms\tremaining: 4.77s\n",
      "13:\tlearn: 0.8344519\ttotal: 63.2ms\tremaining: 4.45s\n",
      "14:\tlearn: 0.8267968\ttotal: 63.6ms\tremaining: 4.17s\n",
      "15:\tlearn: 0.8190328\ttotal: 64ms\tremaining: 3.93s\n",
      "16:\tlearn: 0.8131616\ttotal: 64.4ms\tremaining: 3.73s\n",
      "17:\tlearn: 0.8048060\ttotal: 64.8ms\tremaining: 3.53s\n",
      "18:\tlearn: 0.7977961\ttotal: 65.3ms\tremaining: 3.37s\n",
      "19:\tlearn: 0.7908807\ttotal: 65.7ms\tremaining: 3.22s\n",
      "20:\tlearn: 0.7826918\ttotal: 66.1ms\tremaining: 3.08s\n",
      "21:\tlearn: 0.7750086\ttotal: 66.5ms\tremaining: 2.96s\n",
      "22:\tlearn: 0.7674556\ttotal: 67ms\tremaining: 2.85s\n",
      "23:\tlearn: 0.7610103\ttotal: 67.4ms\tremaining: 2.74s\n",
      "24:\tlearn: 0.7517163\ttotal: 67.7ms\tremaining: 2.64s\n",
      "25:\tlearn: 0.7468908\ttotal: 68.1ms\tremaining: 2.55s\n",
      "26:\tlearn: 0.7416202\ttotal: 68.5ms\tremaining: 2.47s\n",
      "27:\tlearn: 0.7351506\ttotal: 69ms\tremaining: 2.4s\n",
      "28:\tlearn: 0.7275737\ttotal: 69.4ms\tremaining: 2.32s\n",
      "29:\tlearn: 0.7210485\ttotal: 69.8ms\tremaining: 2.25s\n",
      "30:\tlearn: 0.7140792\ttotal: 70.1ms\tremaining: 2.19s\n",
      "31:\tlearn: 0.7087452\ttotal: 70.5ms\tremaining: 2.13s\n",
      "32:\tlearn: 0.7027937\ttotal: 71.1ms\tremaining: 2.08s\n",
      "33:\tlearn: 0.6975211\ttotal: 71.6ms\tremaining: 2.03s\n",
      "34:\tlearn: 0.6916745\ttotal: 72ms\tremaining: 1.99s\n",
      "35:\tlearn: 0.6862773\ttotal: 72.5ms\tremaining: 1.94s\n",
      "36:\tlearn: 0.6794595\ttotal: 73ms\tremaining: 1.9s\n",
      "37:\tlearn: 0.6747744\ttotal: 73.5ms\tremaining: 1.86s\n",
      "38:\tlearn: 0.6693199\ttotal: 74ms\tremaining: 1.82s\n",
      "39:\tlearn: 0.6635611\ttotal: 74.4ms\tremaining: 1.78s\n",
      "40:\tlearn: 0.6574228\ttotal: 74.8ms\tremaining: 1.75s\n",
      "41:\tlearn: 0.6514945\ttotal: 75.3ms\tremaining: 1.72s\n",
      "42:\tlearn: 0.6456565\ttotal: 75.6ms\tremaining: 1.68s\n",
      "43:\tlearn: 0.6395261\ttotal: 76.1ms\tremaining: 1.65s\n",
      "44:\tlearn: 0.6333959\ttotal: 76.6ms\tremaining: 1.63s\n",
      "45:\tlearn: 0.6272398\ttotal: 77.1ms\tremaining: 1.6s\n",
      "46:\tlearn: 0.6220616\ttotal: 77.5ms\tremaining: 1.57s\n",
      "47:\tlearn: 0.6162836\ttotal: 77.9ms\tremaining: 1.54s\n",
      "48:\tlearn: 0.6110078\ttotal: 78.5ms\tremaining: 1.52s\n",
      "49:\tlearn: 0.6061343\ttotal: 78.9ms\tremaining: 1.5s\n",
      "50:\tlearn: 0.6007415\ttotal: 79.4ms\tremaining: 1.48s\n",
      "51:\tlearn: 0.5954222\ttotal: 79.8ms\tremaining: 1.45s\n",
      "52:\tlearn: 0.5901707\ttotal: 80.3ms\tremaining: 1.43s\n",
      "53:\tlearn: 0.5853568\ttotal: 80.8ms\tremaining: 1.42s\n",
      "54:\tlearn: 0.5800653\ttotal: 81.2ms\tremaining: 1.4s\n",
      "55:\tlearn: 0.5751825\ttotal: 81.7ms\tremaining: 1.38s\n",
      "56:\tlearn: 0.5696144\ttotal: 82.1ms\tremaining: 1.36s\n",
      "57:\tlearn: 0.5635667\ttotal: 82.6ms\tremaining: 1.34s\n",
      "58:\tlearn: 0.5592312\ttotal: 83.1ms\tremaining: 1.32s\n",
      "59:\tlearn: 0.5552384\ttotal: 83.5ms\tremaining: 1.31s\n",
      "60:\tlearn: 0.5508398\ttotal: 83.9ms\tremaining: 1.29s\n",
      "61:\tlearn: 0.5464864\ttotal: 84.3ms\tremaining: 1.27s\n",
      "62:\tlearn: 0.5417582\ttotal: 84.8ms\tremaining: 1.26s\n",
      "63:\tlearn: 0.5367886\ttotal: 85.3ms\tremaining: 1.25s\n",
      "64:\tlearn: 0.5315122\ttotal: 85.9ms\tremaining: 1.24s\n",
      "65:\tlearn: 0.5272824\ttotal: 86.5ms\tremaining: 1.22s\n",
      "66:\tlearn: 0.5235554\ttotal: 87ms\tremaining: 1.21s\n",
      "67:\tlearn: 0.5189269\ttotal: 87.6ms\tremaining: 1.2s\n",
      "68:\tlearn: 0.5152472\ttotal: 88.2ms\tremaining: 1.19s\n",
      "69:\tlearn: 0.5105406\ttotal: 88.7ms\tremaining: 1.18s\n",
      "70:\tlearn: 0.5064157\ttotal: 89.2ms\tremaining: 1.17s\n",
      "71:\tlearn: 0.5026978\ttotal: 89.7ms\tremaining: 1.16s\n",
      "72:\tlearn: 0.4983585\ttotal: 90.2ms\tremaining: 1.14s\n",
      "73:\tlearn: 0.4941555\ttotal: 90.6ms\tremaining: 1.13s\n",
      "74:\tlearn: 0.4897264\ttotal: 91.1ms\tremaining: 1.12s\n",
      "75:\tlearn: 0.4847683\ttotal: 91.5ms\tremaining: 1.11s\n",
      "76:\tlearn: 0.4810875\ttotal: 91.8ms\tremaining: 1.1s\n",
      "77:\tlearn: 0.4774098\ttotal: 92.3ms\tremaining: 1.09s\n",
      "78:\tlearn: 0.4736379\ttotal: 92.6ms\tremaining: 1.08s\n",
      "79:\tlearn: 0.4697381\ttotal: 93.2ms\tremaining: 1.07s\n",
      "80:\tlearn: 0.4658515\ttotal: 93.7ms\tremaining: 1.06s\n",
      "81:\tlearn: 0.4626074\ttotal: 94.2ms\tremaining: 1.05s\n",
      "82:\tlearn: 0.4581903\ttotal: 94.7ms\tremaining: 1.05s\n",
      "83:\tlearn: 0.4548809\ttotal: 95.2ms\tremaining: 1.04s\n",
      "84:\tlearn: 0.4513728\ttotal: 95.7ms\tremaining: 1.03s\n",
      "85:\tlearn: 0.4479028\ttotal: 96ms\tremaining: 1.02s\n",
      "86:\tlearn: 0.4445669\ttotal: 96.4ms\tremaining: 1.01s\n",
      "87:\tlearn: 0.4409079\ttotal: 97.4ms\tremaining: 1.01s\n",
      "88:\tlearn: 0.4375388\ttotal: 97.8ms\tremaining: 1s\n",
      "89:\tlearn: 0.4336805\ttotal: 98.3ms\tremaining: 994ms\n",
      "90:\tlearn: 0.4301396\ttotal: 98.7ms\tremaining: 986ms\n",
      "91:\tlearn: 0.4266195\ttotal: 99.1ms\tremaining: 978ms\n",
      "92:\tlearn: 0.4232780\ttotal: 99.6ms\tremaining: 971ms\n",
      "93:\tlearn: 0.4202349\ttotal: 100ms\tremaining: 966ms\n",
      "94:\tlearn: 0.4172301\ttotal: 101ms\tremaining: 959ms\n",
      "95:\tlearn: 0.4137205\ttotal: 101ms\tremaining: 954ms\n",
      "96:\tlearn: 0.4106739\ttotal: 102ms\tremaining: 947ms\n",
      "97:\tlearn: 0.4079039\ttotal: 102ms\tremaining: 942ms\n",
      "98:\tlearn: 0.4050794\ttotal: 103ms\tremaining: 935ms\n",
      "99:\tlearn: 0.4017454\ttotal: 103ms\tremaining: 928ms\n",
      "100:\tlearn: 0.3986789\ttotal: 104ms\tremaining: 923ms\n",
      "101:\tlearn: 0.3956269\ttotal: 104ms\tremaining: 917ms\n",
      "102:\tlearn: 0.3929465\ttotal: 105ms\tremaining: 911ms\n",
      "103:\tlearn: 0.3894970\ttotal: 105ms\tremaining: 905ms\n",
      "104:\tlearn: 0.3865546\ttotal: 105ms\tremaining: 899ms\n",
      "105:\tlearn: 0.3834673\ttotal: 106ms\tremaining: 892ms\n",
      "106:\tlearn: 0.3807194\ttotal: 106ms\tremaining: 888ms\n",
      "107:\tlearn: 0.3777127\ttotal: 107ms\tremaining: 883ms\n",
      "108:\tlearn: 0.3752161\ttotal: 107ms\tremaining: 879ms\n",
      "109:\tlearn: 0.3720213\ttotal: 108ms\tremaining: 874ms\n"
     ]
    },
    {
     "name": "stdout",
     "output_type": "stream",
     "text": [
      "110:\tlearn: 0.3690990\ttotal: 109ms\tremaining: 870ms\n",
      "111:\tlearn: 0.3664256\ttotal: 109ms\tremaining: 866ms\n",
      "112:\tlearn: 0.3632676\ttotal: 110ms\tremaining: 861ms\n",
      "113:\tlearn: 0.3608987\ttotal: 110ms\tremaining: 856ms\n",
      "114:\tlearn: 0.3577345\ttotal: 111ms\tremaining: 852ms\n",
      "115:\tlearn: 0.3549147\ttotal: 111ms\tremaining: 846ms\n",
      "116:\tlearn: 0.3519748\ttotal: 112ms\tremaining: 842ms\n",
      "117:\tlearn: 0.3498342\ttotal: 112ms\tremaining: 836ms\n",
      "118:\tlearn: 0.3473997\ttotal: 112ms\tremaining: 833ms\n",
      "119:\tlearn: 0.3447066\ttotal: 113ms\tremaining: 828ms\n",
      "120:\tlearn: 0.3422590\ttotal: 113ms\tremaining: 823ms\n",
      "121:\tlearn: 0.3396583\ttotal: 114ms\tremaining: 819ms\n",
      "122:\tlearn: 0.3377942\ttotal: 114ms\tremaining: 814ms\n",
      "123:\tlearn: 0.3355731\ttotal: 115ms\tremaining: 812ms\n",
      "124:\tlearn: 0.3328308\ttotal: 115ms\tremaining: 808ms\n",
      "125:\tlearn: 0.3302872\ttotal: 116ms\tremaining: 803ms\n",
      "126:\tlearn: 0.3273081\ttotal: 116ms\tremaining: 799ms\n",
      "127:\tlearn: 0.3254609\ttotal: 117ms\tremaining: 794ms\n",
      "128:\tlearn: 0.3231216\ttotal: 117ms\tremaining: 791ms\n",
      "129:\tlearn: 0.3206473\ttotal: 118ms\tremaining: 788ms\n",
      "130:\tlearn: 0.3184729\ttotal: 118ms\tremaining: 783ms\n",
      "131:\tlearn: 0.3165600\ttotal: 118ms\tremaining: 779ms\n",
      "132:\tlearn: 0.3140536\ttotal: 119ms\tremaining: 775ms\n",
      "133:\tlearn: 0.3117612\ttotal: 119ms\tremaining: 772ms\n",
      "134:\tlearn: 0.3094022\ttotal: 120ms\tremaining: 768ms\n",
      "135:\tlearn: 0.3075142\ttotal: 120ms\tremaining: 765ms\n",
      "136:\tlearn: 0.3057113\ttotal: 121ms\tremaining: 762ms\n",
      "137:\tlearn: 0.3032112\ttotal: 122ms\tremaining: 759ms\n",
      "138:\tlearn: 0.3010622\ttotal: 122ms\tremaining: 756ms\n",
      "139:\tlearn: 0.2990704\ttotal: 123ms\tremaining: 753ms\n",
      "140:\tlearn: 0.2973068\ttotal: 123ms\tremaining: 749ms\n",
      "141:\tlearn: 0.2954623\ttotal: 123ms\tremaining: 746ms\n",
      "142:\tlearn: 0.2933480\ttotal: 124ms\tremaining: 742ms\n",
      "143:\tlearn: 0.2912025\ttotal: 124ms\tremaining: 739ms\n",
      "144:\tlearn: 0.2891165\ttotal: 125ms\tremaining: 736ms\n",
      "145:\tlearn: 0.2871797\ttotal: 125ms\tremaining: 733ms\n",
      "146:\tlearn: 0.2853817\ttotal: 126ms\tremaining: 730ms\n",
      "147:\tlearn: 0.2833953\ttotal: 126ms\tremaining: 728ms\n",
      "148:\tlearn: 0.2813294\ttotal: 127ms\tremaining: 725ms\n",
      "149:\tlearn: 0.2792319\ttotal: 127ms\tremaining: 722ms\n",
      "150:\tlearn: 0.2771309\ttotal: 128ms\tremaining: 719ms\n",
      "151:\tlearn: 0.2754053\ttotal: 129ms\tremaining: 717ms\n",
      "152:\tlearn: 0.2735575\ttotal: 129ms\tremaining: 714ms\n",
      "153:\tlearn: 0.2713007\ttotal: 129ms\tremaining: 711ms\n",
      "154:\tlearn: 0.2694564\ttotal: 130ms\tremaining: 709ms\n",
      "155:\tlearn: 0.2675058\ttotal: 131ms\tremaining: 707ms\n",
      "156:\tlearn: 0.2657895\ttotal: 131ms\tremaining: 705ms\n",
      "157:\tlearn: 0.2640535\ttotal: 132ms\tremaining: 702ms\n",
      "158:\tlearn: 0.2621557\ttotal: 132ms\tremaining: 699ms\n",
      "159:\tlearn: 0.2605924\ttotal: 133ms\tremaining: 697ms\n",
      "160:\tlearn: 0.2591131\ttotal: 133ms\tremaining: 694ms\n",
      "161:\tlearn: 0.2570462\ttotal: 134ms\tremaining: 691ms\n",
      "162:\tlearn: 0.2547901\ttotal: 134ms\tremaining: 689ms\n",
      "163:\tlearn: 0.2531217\ttotal: 135ms\tremaining: 686ms\n",
      "164:\tlearn: 0.2516707\ttotal: 135ms\tremaining: 683ms\n",
      "165:\tlearn: 0.2498008\ttotal: 135ms\tremaining: 680ms\n",
      "166:\tlearn: 0.2485147\ttotal: 136ms\tremaining: 677ms\n",
      "167:\tlearn: 0.2469529\ttotal: 136ms\tremaining: 674ms\n",
      "168:\tlearn: 0.2451688\ttotal: 136ms\tremaining: 670ms\n",
      "169:\tlearn: 0.2430805\ttotal: 138ms\tremaining: 674ms\n",
      "170:\tlearn: 0.2414013\ttotal: 139ms\tremaining: 672ms\n",
      "171:\tlearn: 0.2399361\ttotal: 139ms\tremaining: 669ms\n",
      "172:\tlearn: 0.2377432\ttotal: 141ms\tremaining: 673ms\n",
      "173:\tlearn: 0.2361680\ttotal: 143ms\tremaining: 677ms\n",
      "174:\tlearn: 0.2343650\ttotal: 143ms\tremaining: 676ms\n",
      "175:\tlearn: 0.2325614\ttotal: 144ms\tremaining: 673ms\n",
      "176:\tlearn: 0.2308609\ttotal: 144ms\tremaining: 670ms\n",
      "177:\tlearn: 0.2293564\ttotal: 144ms\tremaining: 667ms\n",
      "178:\tlearn: 0.2280189\ttotal: 145ms\tremaining: 664ms\n",
      "179:\tlearn: 0.2262984\ttotal: 150ms\tremaining: 683ms\n",
      "180:\tlearn: 0.2244834\ttotal: 151ms\tremaining: 682ms\n",
      "181:\tlearn: 0.2235207\ttotal: 152ms\tremaining: 683ms\n",
      "182:\tlearn: 0.2217500\ttotal: 153ms\tremaining: 681ms\n",
      "183:\tlearn: 0.2202821\ttotal: 153ms\tremaining: 678ms\n",
      "184:\tlearn: 0.2186149\ttotal: 155ms\tremaining: 681ms\n",
      "185:\tlearn: 0.2171484\ttotal: 155ms\tremaining: 679ms\n",
      "186:\tlearn: 0.2155655\ttotal: 158ms\tremaining: 685ms\n",
      "187:\tlearn: 0.2138910\ttotal: 158ms\tremaining: 682ms\n",
      "188:\tlearn: 0.2123444\ttotal: 159ms\tremaining: 682ms\n",
      "189:\tlearn: 0.2109558\ttotal: 159ms\tremaining: 679ms\n",
      "190:\tlearn: 0.2094879\ttotal: 160ms\tremaining: 676ms\n",
      "191:\tlearn: 0.2079316\ttotal: 161ms\tremaining: 676ms\n",
      "192:\tlearn: 0.2065697\ttotal: 161ms\tremaining: 675ms\n",
      "193:\tlearn: 0.2050620\ttotal: 162ms\tremaining: 673ms\n",
      "194:\tlearn: 0.2035816\ttotal: 162ms\tremaining: 671ms\n",
      "195:\tlearn: 0.2020234\ttotal: 163ms\tremaining: 668ms\n",
      "196:\tlearn: 0.2003631\ttotal: 164ms\tremaining: 667ms\n",
      "197:\tlearn: 0.1987280\ttotal: 164ms\tremaining: 664ms\n",
      "198:\tlearn: 0.1971107\ttotal: 165ms\tremaining: 663ms\n",
      "199:\tlearn: 0.1953686\ttotal: 165ms\tremaining: 660ms\n",
      "200:\tlearn: 0.1941027\ttotal: 167ms\tremaining: 664ms\n",
      "201:\tlearn: 0.1926883\ttotal: 168ms\tremaining: 663ms\n",
      "202:\tlearn: 0.1912121\ttotal: 169ms\tremaining: 664ms\n",
      "203:\tlearn: 0.1897655\ttotal: 170ms\tremaining: 664ms\n",
      "204:\tlearn: 0.1885420\ttotal: 171ms\tremaining: 662ms\n",
      "205:\tlearn: 0.1876346\ttotal: 171ms\tremaining: 661ms\n",
      "206:\tlearn: 0.1867142\ttotal: 172ms\tremaining: 659ms\n",
      "207:\tlearn: 0.1856350\ttotal: 173ms\tremaining: 658ms\n",
      "208:\tlearn: 0.1845156\ttotal: 174ms\tremaining: 657ms\n",
      "209:\tlearn: 0.1835484\ttotal: 174ms\tremaining: 656ms\n",
      "210:\tlearn: 0.1825001\ttotal: 175ms\tremaining: 655ms\n",
      "211:\tlearn: 0.1816938\ttotal: 176ms\tremaining: 652ms\n",
      "212:\tlearn: 0.1809130\ttotal: 176ms\tremaining: 650ms\n",
      "213:\tlearn: 0.1794805\ttotal: 176ms\tremaining: 648ms\n",
      "214:\tlearn: 0.1784360\ttotal: 177ms\tremaining: 646ms\n",
      "215:\tlearn: 0.1781090\ttotal: 178ms\tremaining: 644ms\n",
      "216:\tlearn: 0.1770292\ttotal: 178ms\tremaining: 643ms\n",
      "217:\tlearn: 0.1759368\ttotal: 179ms\tremaining: 641ms\n",
      "218:\tlearn: 0.1744737\ttotal: 179ms\tremaining: 639ms\n",
      "219:\tlearn: 0.1728874\ttotal: 179ms\tremaining: 636ms\n"
     ]
    },
    {
     "name": "stdout",
     "output_type": "stream",
     "text": [
      "220:\tlearn: 0.1716627\ttotal: 180ms\tremaining: 635ms\n",
      "221:\tlearn: 0.1702312\ttotal: 181ms\tremaining: 634ms\n",
      "222:\tlearn: 0.1688373\ttotal: 181ms\tremaining: 632ms\n",
      "223:\tlearn: 0.1675724\ttotal: 182ms\tremaining: 630ms\n",
      "224:\tlearn: 0.1662526\ttotal: 182ms\tremaining: 629ms\n",
      "225:\tlearn: 0.1650237\ttotal: 183ms\tremaining: 627ms\n",
      "226:\tlearn: 0.1644780\ttotal: 183ms\tremaining: 625ms\n",
      "227:\tlearn: 0.1633616\ttotal: 184ms\tremaining: 623ms\n",
      "228:\tlearn: 0.1619508\ttotal: 184ms\tremaining: 621ms\n",
      "229:\tlearn: 0.1608027\ttotal: 185ms\tremaining: 619ms\n",
      "230:\tlearn: 0.1595554\ttotal: 185ms\tremaining: 617ms\n",
      "231:\tlearn: 0.1584824\ttotal: 186ms\tremaining: 615ms\n",
      "232:\tlearn: 0.1571546\ttotal: 186ms\tremaining: 613ms\n",
      "233:\tlearn: 0.1558291\ttotal: 187ms\tremaining: 611ms\n",
      "234:\tlearn: 0.1553524\ttotal: 187ms\tremaining: 609ms\n",
      "235:\tlearn: 0.1541354\ttotal: 188ms\tremaining: 608ms\n",
      "236:\tlearn: 0.1536862\ttotal: 188ms\tremaining: 606ms\n",
      "237:\tlearn: 0.1527157\ttotal: 189ms\tremaining: 604ms\n",
      "238:\tlearn: 0.1516590\ttotal: 189ms\tremaining: 603ms\n",
      "239:\tlearn: 0.1504697\ttotal: 190ms\tremaining: 602ms\n",
      "240:\tlearn: 0.1496663\ttotal: 191ms\tremaining: 600ms\n",
      "241:\tlearn: 0.1484991\ttotal: 191ms\tremaining: 599ms\n",
      "242:\tlearn: 0.1475609\ttotal: 192ms\tremaining: 597ms\n",
      "243:\tlearn: 0.1463312\ttotal: 192ms\tremaining: 595ms\n",
      "244:\tlearn: 0.1452812\ttotal: 193ms\tremaining: 593ms\n",
      "245:\tlearn: 0.1444586\ttotal: 193ms\tremaining: 592ms\n",
      "246:\tlearn: 0.1433152\ttotal: 194ms\tremaining: 591ms\n",
      "247:\tlearn: 0.1421930\ttotal: 194ms\tremaining: 589ms\n",
      "248:\tlearn: 0.1410744\ttotal: 195ms\tremaining: 588ms\n",
      "249:\tlearn: 0.1400700\ttotal: 195ms\tremaining: 586ms\n",
      "250:\tlearn: 0.1389125\ttotal: 196ms\tremaining: 585ms\n",
      "251:\tlearn: 0.1379542\ttotal: 196ms\tremaining: 583ms\n",
      "252:\tlearn: 0.1375524\ttotal: 197ms\tremaining: 581ms\n",
      "253:\tlearn: 0.1367305\ttotal: 197ms\tremaining: 580ms\n",
      "254:\tlearn: 0.1360464\ttotal: 198ms\tremaining: 578ms\n",
      "255:\tlearn: 0.1348987\ttotal: 198ms\tremaining: 576ms\n",
      "256:\tlearn: 0.1338813\ttotal: 199ms\tremaining: 575ms\n",
      "257:\tlearn: 0.1334518\ttotal: 199ms\tremaining: 573ms\n",
      "258:\tlearn: 0.1328584\ttotal: 200ms\tremaining: 572ms\n",
      "259:\tlearn: 0.1320675\ttotal: 200ms\tremaining: 570ms\n",
      "260:\tlearn: 0.1315081\ttotal: 201ms\tremaining: 569ms\n",
      "261:\tlearn: 0.1305116\ttotal: 202ms\tremaining: 568ms\n",
      "262:\tlearn: 0.1294416\ttotal: 202ms\tremaining: 566ms\n",
      "263:\tlearn: 0.1286239\ttotal: 202ms\tremaining: 564ms\n",
      "264:\tlearn: 0.1277476\ttotal: 203ms\tremaining: 562ms\n",
      "265:\tlearn: 0.1273612\ttotal: 203ms\tremaining: 561ms\n",
      "266:\tlearn: 0.1262315\ttotal: 204ms\tremaining: 560ms\n",
      "267:\tlearn: 0.1252836\ttotal: 205ms\tremaining: 559ms\n",
      "268:\tlearn: 0.1242713\ttotal: 205ms\tremaining: 557ms\n",
      "269:\tlearn: 0.1233370\ttotal: 206ms\tremaining: 556ms\n",
      "270:\tlearn: 0.1225781\ttotal: 206ms\tremaining: 554ms\n",
      "271:\tlearn: 0.1220327\ttotal: 206ms\tremaining: 553ms\n",
      "272:\tlearn: 0.1213749\ttotal: 207ms\tremaining: 551ms\n",
      "273:\tlearn: 0.1209999\ttotal: 207ms\tremaining: 549ms\n",
      "274:\tlearn: 0.1199690\ttotal: 208ms\tremaining: 548ms\n",
      "275:\tlearn: 0.1193871\ttotal: 208ms\tremaining: 546ms\n",
      "276:\tlearn: 0.1184638\ttotal: 209ms\tremaining: 545ms\n",
      "277:\tlearn: 0.1176497\ttotal: 209ms\tremaining: 543ms\n",
      "278:\tlearn: 0.1168722\ttotal: 210ms\tremaining: 542ms\n",
      "279:\tlearn: 0.1160745\ttotal: 210ms\tremaining: 541ms\n",
      "280:\tlearn: 0.1152795\ttotal: 211ms\tremaining: 540ms\n",
      "281:\tlearn: 0.1144549\ttotal: 211ms\tremaining: 538ms\n",
      "282:\tlearn: 0.1140521\ttotal: 212ms\tremaining: 537ms\n",
      "283:\tlearn: 0.1137272\ttotal: 213ms\tremaining: 536ms\n",
      "284:\tlearn: 0.1128810\ttotal: 213ms\tremaining: 534ms\n",
      "285:\tlearn: 0.1122149\ttotal: 214ms\tremaining: 533ms\n",
      "286:\tlearn: 0.1118598\ttotal: 214ms\tremaining: 532ms\n",
      "287:\tlearn: 0.1112161\ttotal: 215ms\tremaining: 530ms\n",
      "288:\tlearn: 0.1103855\ttotal: 215ms\tremaining: 529ms\n",
      "289:\tlearn: 0.1095818\ttotal: 216ms\tremaining: 528ms\n",
      "290:\tlearn: 0.1088168\ttotal: 216ms\tremaining: 526ms\n",
      "291:\tlearn: 0.1080362\ttotal: 217ms\tremaining: 525ms\n",
      "292:\tlearn: 0.1073235\ttotal: 217ms\tremaining: 524ms\n",
      "293:\tlearn: 0.1065606\ttotal: 217ms\tremaining: 522ms\n",
      "294:\tlearn: 0.1060470\ttotal: 218ms\tremaining: 521ms\n",
      "295:\tlearn: 0.1055921\ttotal: 218ms\tremaining: 520ms\n",
      "296:\tlearn: 0.1048206\ttotal: 219ms\tremaining: 518ms\n",
      "297:\tlearn: 0.1045236\ttotal: 219ms\tremaining: 517ms\n",
      "298:\tlearn: 0.1038298\ttotal: 220ms\tremaining: 515ms\n",
      "299:\tlearn: 0.1035399\ttotal: 221ms\tremaining: 516ms\n",
      "300:\tlearn: 0.1032400\ttotal: 222ms\tremaining: 514ms\n",
      "301:\tlearn: 0.1029472\ttotal: 222ms\tremaining: 513ms\n",
      "302:\tlearn: 0.1021276\ttotal: 222ms\tremaining: 512ms\n",
      "303:\tlearn: 0.1018414\ttotal: 223ms\tremaining: 510ms\n",
      "304:\tlearn: 0.1011333\ttotal: 223ms\tremaining: 509ms\n",
      "305:\tlearn: 0.1004543\ttotal: 224ms\tremaining: 508ms\n",
      "306:\tlearn: 0.0999122\ttotal: 224ms\tremaining: 506ms\n",
      "307:\tlearn: 0.0996283\ttotal: 225ms\tremaining: 505ms\n",
      "308:\tlearn: 0.0992939\ttotal: 225ms\tremaining: 504ms\n",
      "309:\tlearn: 0.0985605\ttotal: 226ms\tremaining: 502ms\n",
      "310:\tlearn: 0.0979158\ttotal: 226ms\tremaining: 501ms\n",
      "311:\tlearn: 0.0974319\ttotal: 227ms\tremaining: 500ms\n",
      "312:\tlearn: 0.0966590\ttotal: 227ms\tremaining: 498ms\n",
      "313:\tlearn: 0.0962742\ttotal: 227ms\tremaining: 497ms\n",
      "314:\tlearn: 0.0956543\ttotal: 228ms\tremaining: 495ms\n",
      "315:\tlearn: 0.0952884\ttotal: 228ms\tremaining: 494ms\n",
      "316:\tlearn: 0.0950305\ttotal: 229ms\tremaining: 493ms\n",
      "317:\tlearn: 0.0943910\ttotal: 229ms\tremaining: 491ms\n",
      "318:\tlearn: 0.0936541\ttotal: 230ms\tremaining: 490ms\n",
      "319:\tlearn: 0.0930384\ttotal: 230ms\tremaining: 489ms\n",
      "320:\tlearn: 0.0925364\ttotal: 230ms\tremaining: 488ms\n",
      "321:\tlearn: 0.0921342\ttotal: 231ms\tremaining: 486ms\n",
      "322:\tlearn: 0.0915852\ttotal: 232ms\tremaining: 485ms\n",
      "323:\tlearn: 0.0909278\ttotal: 232ms\tremaining: 484ms\n",
      "324:\tlearn: 0.0906929\ttotal: 233ms\tremaining: 483ms\n",
      "325:\tlearn: 0.0903878\ttotal: 233ms\tremaining: 482ms\n",
      "326:\tlearn: 0.0898346\ttotal: 234ms\tremaining: 481ms\n",
      "327:\tlearn: 0.0895015\ttotal: 234ms\tremaining: 479ms\n",
      "328:\tlearn: 0.0888537\ttotal: 234ms\tremaining: 478ms\n",
      "329:\tlearn: 0.0881525\ttotal: 235ms\tremaining: 477ms\n",
      "330:\tlearn: 0.0875175\ttotal: 235ms\tremaining: 476ms\n",
      "331:\tlearn: 0.0871970\ttotal: 236ms\tremaining: 474ms\n",
      "332:\tlearn: 0.0865804\ttotal: 236ms\tremaining: 473ms\n",
      "333:\tlearn: 0.0861170\ttotal: 237ms\tremaining: 472ms\n",
      "334:\tlearn: 0.0858520\ttotal: 237ms\tremaining: 471ms\n",
      "335:\tlearn: 0.0851977\ttotal: 238ms\tremaining: 470ms\n",
      "336:\tlearn: 0.0846024\ttotal: 238ms\tremaining: 468ms\n",
      "337:\tlearn: 0.0840620\ttotal: 239ms\tremaining: 467ms\n",
      "338:\tlearn: 0.0835465\ttotal: 239ms\tremaining: 466ms\n",
      "339:\tlearn: 0.0831266\ttotal: 240ms\tremaining: 465ms\n",
      "340:\tlearn: 0.0827035\ttotal: 240ms\tremaining: 464ms\n",
      "341:\tlearn: 0.0823979\ttotal: 241ms\tremaining: 463ms\n",
      "342:\tlearn: 0.0818440\ttotal: 241ms\tremaining: 462ms\n",
      "343:\tlearn: 0.0814240\ttotal: 242ms\tremaining: 461ms\n",
      "344:\tlearn: 0.0811000\ttotal: 242ms\tremaining: 459ms\n",
      "345:\tlearn: 0.0805394\ttotal: 243ms\tremaining: 458ms\n",
      "346:\tlearn: 0.0802270\ttotal: 243ms\tremaining: 457ms\n",
      "347:\tlearn: 0.0796280\ttotal: 243ms\tremaining: 456ms\n",
      "348:\tlearn: 0.0793890\ttotal: 244ms\tremaining: 455ms\n",
      "349:\tlearn: 0.0788450\ttotal: 244ms\tremaining: 454ms\n",
      "350:\tlearn: 0.0782847\ttotal: 245ms\tremaining: 453ms\n",
      "351:\tlearn: 0.0777378\ttotal: 245ms\tremaining: 452ms\n",
      "352:\tlearn: 0.0771926\ttotal: 246ms\tremaining: 450ms\n",
      "353:\tlearn: 0.0768165\ttotal: 246ms\tremaining: 449ms\n",
      "354:\tlearn: 0.0763006\ttotal: 247ms\tremaining: 448ms\n",
      "355:\tlearn: 0.0759387\ttotal: 247ms\tremaining: 447ms\n",
      "356:\tlearn: 0.0757020\ttotal: 248ms\tremaining: 446ms\n",
      "357:\tlearn: 0.0751780\ttotal: 248ms\tremaining: 445ms\n",
      "358:\tlearn: 0.0747369\ttotal: 249ms\tremaining: 444ms\n",
      "359:\tlearn: 0.0742838\ttotal: 249ms\tremaining: 443ms\n",
      "360:\tlearn: 0.0736651\ttotal: 249ms\tremaining: 442ms\n",
      "361:\tlearn: 0.0732233\ttotal: 250ms\tremaining: 440ms\n",
      "362:\tlearn: 0.0729644\ttotal: 250ms\tremaining: 439ms\n",
      "363:\tlearn: 0.0724653\ttotal: 251ms\tremaining: 438ms\n",
      "364:\tlearn: 0.0721121\ttotal: 251ms\tremaining: 437ms\n",
      "365:\tlearn: 0.0715189\ttotal: 252ms\tremaining: 436ms\n",
      "366:\tlearn: 0.0712985\ttotal: 252ms\tremaining: 435ms\n",
      "367:\tlearn: 0.0707526\ttotal: 253ms\tremaining: 434ms\n",
      "368:\tlearn: 0.0702740\ttotal: 253ms\tremaining: 433ms\n",
      "369:\tlearn: 0.0697921\ttotal: 254ms\tremaining: 432ms\n",
      "370:\tlearn: 0.0692288\ttotal: 255ms\tremaining: 432ms\n",
      "371:\tlearn: 0.0687175\ttotal: 255ms\tremaining: 430ms\n",
      "372:\tlearn: 0.0682464\ttotal: 255ms\tremaining: 429ms\n",
      "373:\tlearn: 0.0677835\ttotal: 256ms\tremaining: 429ms\n",
      "374:\tlearn: 0.0672453\ttotal: 257ms\tremaining: 428ms\n",
      "375:\tlearn: 0.0667231\ttotal: 257ms\tremaining: 426ms\n",
      "376:\tlearn: 0.0662510\ttotal: 257ms\tremaining: 425ms\n",
      "377:\tlearn: 0.0657726\ttotal: 258ms\tremaining: 424ms\n",
      "378:\tlearn: 0.0653348\ttotal: 258ms\tremaining: 423ms\n",
      "379:\tlearn: 0.0648330\ttotal: 259ms\tremaining: 422ms\n",
      "380:\tlearn: 0.0644096\ttotal: 259ms\tremaining: 421ms\n",
      "381:\tlearn: 0.0639134\ttotal: 260ms\tremaining: 420ms\n",
      "382:\tlearn: 0.0635195\ttotal: 260ms\tremaining: 420ms\n",
      "383:\tlearn: 0.0631356\ttotal: 261ms\tremaining: 419ms\n",
      "384:\tlearn: 0.0629260\ttotal: 261ms\tremaining: 418ms\n",
      "385:\tlearn: 0.0625018\ttotal: 262ms\tremaining: 417ms\n",
      "386:\tlearn: 0.0620903\ttotal: 262ms\tremaining: 416ms\n",
      "387:\tlearn: 0.0617128\ttotal: 263ms\tremaining: 415ms\n",
      "388:\tlearn: 0.0613234\ttotal: 263ms\tremaining: 414ms\n",
      "389:\tlearn: 0.0609280\ttotal: 264ms\tremaining: 413ms\n",
      "390:\tlearn: 0.0605903\ttotal: 264ms\tremaining: 412ms\n",
      "391:\tlearn: 0.0601945\ttotal: 265ms\tremaining: 411ms\n",
      "392:\tlearn: 0.0598370\ttotal: 265ms\tremaining: 410ms\n",
      "393:\tlearn: 0.0596606\ttotal: 266ms\tremaining: 409ms\n",
      "394:\tlearn: 0.0593020\ttotal: 266ms\tremaining: 408ms\n",
      "395:\tlearn: 0.0589540\ttotal: 267ms\tremaining: 407ms\n",
      "396:\tlearn: 0.0586749\ttotal: 267ms\tremaining: 406ms\n",
      "397:\tlearn: 0.0585036\ttotal: 268ms\tremaining: 405ms\n",
      "398:\tlearn: 0.0580593\ttotal: 268ms\tremaining: 404ms\n",
      "399:\tlearn: 0.0576861\ttotal: 269ms\tremaining: 403ms\n",
      "400:\tlearn: 0.0572531\ttotal: 269ms\tremaining: 402ms\n",
      "401:\tlearn: 0.0568871\ttotal: 270ms\tremaining: 401ms\n",
      "402:\tlearn: 0.0565131\ttotal: 270ms\tremaining: 400ms\n",
      "403:\tlearn: 0.0561555\ttotal: 271ms\tremaining: 399ms\n",
      "404:\tlearn: 0.0558234\ttotal: 271ms\tremaining: 398ms\n",
      "405:\tlearn: 0.0554755\ttotal: 272ms\tremaining: 397ms\n",
      "406:\tlearn: 0.0551331\ttotal: 272ms\tremaining: 397ms\n",
      "407:\tlearn: 0.0549838\ttotal: 273ms\tremaining: 396ms\n",
      "408:\tlearn: 0.0546363\ttotal: 273ms\tremaining: 395ms\n",
      "409:\tlearn: 0.0543193\ttotal: 274ms\tremaining: 394ms\n",
      "410:\tlearn: 0.0540018\ttotal: 274ms\tremaining: 392ms\n",
      "411:\tlearn: 0.0536669\ttotal: 274ms\tremaining: 391ms\n",
      "412:\tlearn: 0.0533766\ttotal: 275ms\tremaining: 391ms\n",
      "413:\tlearn: 0.0532338\ttotal: 276ms\tremaining: 390ms\n",
      "414:\tlearn: 0.0529491\ttotal: 276ms\tremaining: 389ms\n",
      "415:\tlearn: 0.0525580\ttotal: 277ms\tremaining: 388ms\n",
      "416:\tlearn: 0.0522613\ttotal: 277ms\tremaining: 388ms\n",
      "417:\tlearn: 0.0518773\ttotal: 278ms\tremaining: 387ms\n",
      "418:\tlearn: 0.0515428\ttotal: 278ms\tremaining: 386ms\n",
      "419:\tlearn: 0.0514080\ttotal: 279ms\tremaining: 385ms\n",
      "420:\tlearn: 0.0511024\ttotal: 279ms\tremaining: 384ms\n",
      "421:\tlearn: 0.0509522\ttotal: 280ms\tremaining: 383ms\n",
      "422:\tlearn: 0.0506828\ttotal: 280ms\tremaining: 382ms\n",
      "423:\tlearn: 0.0503507\ttotal: 281ms\tremaining: 381ms\n",
      "424:\tlearn: 0.0499880\ttotal: 281ms\tremaining: 380ms\n",
      "425:\tlearn: 0.0497265\ttotal: 282ms\tremaining: 379ms\n",
      "426:\tlearn: 0.0493695\ttotal: 282ms\tremaining: 379ms\n",
      "427:\tlearn: 0.0490813\ttotal: 283ms\tremaining: 378ms\n",
      "428:\tlearn: 0.0487940\ttotal: 283ms\tremaining: 377ms\n",
      "429:\tlearn: 0.0485209\ttotal: 283ms\tremaining: 376ms\n",
      "430:\tlearn: 0.0482595\ttotal: 284ms\tremaining: 375ms\n"
     ]
    },
    {
     "name": "stdout",
     "output_type": "stream",
     "text": [
      "431:\tlearn: 0.0479432\ttotal: 285ms\tremaining: 375ms\n",
      "432:\tlearn: 0.0476772\ttotal: 285ms\tremaining: 374ms\n",
      "433:\tlearn: 0.0473657\ttotal: 286ms\tremaining: 373ms\n",
      "434:\tlearn: 0.0471052\ttotal: 286ms\tremaining: 372ms\n",
      "435:\tlearn: 0.0469607\ttotal: 287ms\tremaining: 371ms\n",
      "436:\tlearn: 0.0468437\ttotal: 287ms\tremaining: 370ms\n",
      "437:\tlearn: 0.0465722\ttotal: 288ms\tremaining: 369ms\n",
      "438:\tlearn: 0.0464356\ttotal: 288ms\tremaining: 368ms\n",
      "439:\tlearn: 0.0461897\ttotal: 289ms\tremaining: 367ms\n",
      "440:\tlearn: 0.0459380\ttotal: 289ms\tremaining: 367ms\n",
      "441:\tlearn: 0.0456421\ttotal: 290ms\tremaining: 366ms\n",
      "442:\tlearn: 0.0454077\ttotal: 290ms\tremaining: 365ms\n",
      "443:\tlearn: 0.0451185\ttotal: 291ms\tremaining: 364ms\n",
      "444:\tlearn: 0.0448748\ttotal: 291ms\tremaining: 363ms\n",
      "445:\tlearn: 0.0447403\ttotal: 292ms\tremaining: 362ms\n",
      "446:\tlearn: 0.0444996\ttotal: 292ms\tremaining: 361ms\n",
      "447:\tlearn: 0.0443680\ttotal: 292ms\tremaining: 360ms\n",
      "448:\tlearn: 0.0441385\ttotal: 293ms\tremaining: 360ms\n",
      "449:\tlearn: 0.0438607\ttotal: 293ms\tremaining: 359ms\n",
      "450:\tlearn: 0.0436248\ttotal: 294ms\tremaining: 358ms\n",
      "451:\tlearn: 0.0433932\ttotal: 294ms\tremaining: 357ms\n",
      "452:\tlearn: 0.0431622\ttotal: 295ms\tremaining: 356ms\n",
      "453:\tlearn: 0.0430565\ttotal: 295ms\tremaining: 355ms\n",
      "454:\tlearn: 0.0428118\ttotal: 296ms\tremaining: 354ms\n",
      "455:\tlearn: 0.0425864\ttotal: 296ms\tremaining: 353ms\n",
      "456:\tlearn: 0.0423622\ttotal: 297ms\tremaining: 353ms\n",
      "457:\tlearn: 0.0421414\ttotal: 297ms\tremaining: 352ms\n",
      "458:\tlearn: 0.0419744\ttotal: 298ms\tremaining: 351ms\n",
      "459:\tlearn: 0.0417522\ttotal: 298ms\tremaining: 350ms\n",
      "460:\tlearn: 0.0415366\ttotal: 299ms\tremaining: 350ms\n",
      "461:\tlearn: 0.0414361\ttotal: 300ms\tremaining: 349ms\n",
      "462:\tlearn: 0.0412247\ttotal: 301ms\tremaining: 349ms\n",
      "463:\tlearn: 0.0410101\ttotal: 301ms\tremaining: 348ms\n",
      "464:\tlearn: 0.0408030\ttotal: 302ms\tremaining: 348ms\n",
      "465:\tlearn: 0.0406182\ttotal: 303ms\tremaining: 347ms\n",
      "466:\tlearn: 0.0404677\ttotal: 303ms\tremaining: 346ms\n",
      "467:\tlearn: 0.0402653\ttotal: 304ms\tremaining: 345ms\n",
      "468:\tlearn: 0.0400550\ttotal: 304ms\tremaining: 344ms\n",
      "469:\tlearn: 0.0399094\ttotal: 304ms\tremaining: 343ms\n",
      "470:\tlearn: 0.0396990\ttotal: 305ms\tremaining: 342ms\n",
      "471:\tlearn: 0.0394202\ttotal: 305ms\tremaining: 341ms\n",
      "472:\tlearn: 0.0392248\ttotal: 306ms\tremaining: 341ms\n",
      "473:\tlearn: 0.0390228\ttotal: 306ms\tremaining: 340ms\n",
      "474:\tlearn: 0.0388432\ttotal: 307ms\tremaining: 339ms\n",
      "475:\tlearn: 0.0386981\ttotal: 307ms\tremaining: 338ms\n",
      "476:\tlearn: 0.0384460\ttotal: 308ms\tremaining: 337ms\n",
      "477:\tlearn: 0.0381788\ttotal: 308ms\tremaining: 337ms\n",
      "478:\tlearn: 0.0379328\ttotal: 309ms\tremaining: 336ms\n",
      "479:\tlearn: 0.0376997\ttotal: 309ms\tremaining: 335ms\n",
      "480:\tlearn: 0.0375087\ttotal: 310ms\tremaining: 334ms\n",
      "481:\tlearn: 0.0372514\ttotal: 310ms\tremaining: 333ms\n",
      "482:\tlearn: 0.0370242\ttotal: 311ms\tremaining: 332ms\n",
      "483:\tlearn: 0.0367920\ttotal: 311ms\tremaining: 332ms\n",
      "484:\tlearn: 0.0365430\ttotal: 311ms\tremaining: 331ms\n",
      "485:\tlearn: 0.0363168\ttotal: 312ms\tremaining: 330ms\n",
      "486:\tlearn: 0.0361844\ttotal: 312ms\tremaining: 329ms\n",
      "487:\tlearn: 0.0359884\ttotal: 313ms\tremaining: 328ms\n",
      "488:\tlearn: 0.0357545\ttotal: 313ms\tremaining: 327ms\n",
      "489:\tlearn: 0.0355363\ttotal: 314ms\tremaining: 326ms\n",
      "490:\tlearn: 0.0353462\ttotal: 314ms\tremaining: 326ms\n",
      "491:\tlearn: 0.0351170\ttotal: 315ms\tremaining: 325ms\n",
      "492:\tlearn: 0.0349919\ttotal: 315ms\tremaining: 324ms\n",
      "493:\tlearn: 0.0348067\ttotal: 315ms\tremaining: 323ms\n",
      "494:\tlearn: 0.0346245\ttotal: 316ms\tremaining: 322ms\n",
      "495:\tlearn: 0.0344490\ttotal: 316ms\tremaining: 321ms\n",
      "496:\tlearn: 0.0343293\ttotal: 317ms\tremaining: 321ms\n",
      "497:\tlearn: 0.0341393\ttotal: 317ms\tremaining: 320ms\n",
      "498:\tlearn: 0.0339530\ttotal: 318ms\tremaining: 319ms\n",
      "499:\tlearn: 0.0337421\ttotal: 318ms\tremaining: 318ms\n",
      "500:\tlearn: 0.0335369\ttotal: 318ms\tremaining: 317ms\n",
      "501:\tlearn: 0.0333290\ttotal: 319ms\tremaining: 316ms\n",
      "502:\tlearn: 0.0331250\ttotal: 319ms\tremaining: 315ms\n",
      "503:\tlearn: 0.0330130\ttotal: 320ms\tremaining: 315ms\n",
      "504:\tlearn: 0.0328475\ttotal: 320ms\tremaining: 314ms\n",
      "505:\tlearn: 0.0326111\ttotal: 321ms\tremaining: 313ms\n",
      "506:\tlearn: 0.0325032\ttotal: 321ms\tremaining: 312ms\n",
      "507:\tlearn: 0.0323389\ttotal: 322ms\tremaining: 312ms\n",
      "508:\tlearn: 0.0321787\ttotal: 322ms\tremaining: 311ms\n",
      "509:\tlearn: 0.0320741\ttotal: 323ms\tremaining: 310ms\n",
      "510:\tlearn: 0.0319015\ttotal: 323ms\tremaining: 309ms\n",
      "511:\tlearn: 0.0317413\ttotal: 324ms\tremaining: 309ms\n",
      "512:\tlearn: 0.0315722\ttotal: 324ms\tremaining: 308ms\n",
      "513:\tlearn: 0.0314302\ttotal: 325ms\tremaining: 307ms\n",
      "514:\tlearn: 0.0312915\ttotal: 325ms\tremaining: 306ms\n",
      "515:\tlearn: 0.0311139\ttotal: 325ms\tremaining: 305ms\n",
      "516:\tlearn: 0.0309395\ttotal: 326ms\tremaining: 304ms\n",
      "517:\tlearn: 0.0307852\ttotal: 326ms\tremaining: 304ms\n",
      "518:\tlearn: 0.0306413\ttotal: 327ms\tremaining: 303ms\n",
      "519:\tlearn: 0.0305678\ttotal: 327ms\tremaining: 302ms\n",
      "520:\tlearn: 0.0304071\ttotal: 328ms\tremaining: 301ms\n",
      "521:\tlearn: 0.0302756\ttotal: 328ms\tremaining: 301ms\n",
      "522:\tlearn: 0.0302043\ttotal: 329ms\tremaining: 300ms\n",
      "523:\tlearn: 0.0300241\ttotal: 329ms\tremaining: 299ms\n",
      "524:\tlearn: 0.0298942\ttotal: 330ms\tremaining: 298ms\n",
      "525:\tlearn: 0.0297675\ttotal: 330ms\tremaining: 297ms\n",
      "526:\tlearn: 0.0296707\ttotal: 331ms\tremaining: 297ms\n",
      "527:\tlearn: 0.0295259\ttotal: 331ms\tremaining: 296ms\n",
      "528:\tlearn: 0.0293530\ttotal: 331ms\tremaining: 295ms\n",
      "529:\tlearn: 0.0292652\ttotal: 332ms\tremaining: 294ms\n",
      "530:\tlearn: 0.0290859\ttotal: 332ms\tremaining: 294ms\n",
      "531:\tlearn: 0.0289456\ttotal: 333ms\tremaining: 293ms\n",
      "532:\tlearn: 0.0288609\ttotal: 334ms\tremaining: 292ms\n",
      "533:\tlearn: 0.0286867\ttotal: 334ms\tremaining: 291ms\n",
      "534:\tlearn: 0.0285071\ttotal: 334ms\tremaining: 291ms\n",
      "535:\tlearn: 0.0283714\ttotal: 335ms\tremaining: 290ms\n",
      "536:\tlearn: 0.0282266\ttotal: 335ms\tremaining: 289ms\n",
      "537:\tlearn: 0.0280938\ttotal: 336ms\tremaining: 288ms\n",
      "538:\tlearn: 0.0280137\ttotal: 336ms\tremaining: 288ms\n",
      "539:\tlearn: 0.0278478\ttotal: 337ms\tremaining: 287ms\n",
      "540:\tlearn: 0.0276895\ttotal: 337ms\tremaining: 286ms\n",
      "541:\tlearn: 0.0276125\ttotal: 338ms\tremaining: 285ms\n",
      "542:\tlearn: 0.0274518\ttotal: 338ms\tremaining: 285ms\n",
      "543:\tlearn: 0.0273238\ttotal: 339ms\tremaining: 284ms\n",
      "544:\tlearn: 0.0271668\ttotal: 339ms\tremaining: 283ms\n",
      "545:\tlearn: 0.0270490\ttotal: 340ms\tremaining: 282ms\n",
      "546:\tlearn: 0.0268940\ttotal: 340ms\tremaining: 282ms\n",
      "547:\tlearn: 0.0267643\ttotal: 341ms\tremaining: 281ms\n",
      "548:\tlearn: 0.0266700\ttotal: 341ms\tremaining: 280ms\n",
      "549:\tlearn: 0.0265756\ttotal: 342ms\tremaining: 279ms\n",
      "550:\tlearn: 0.0264533\ttotal: 342ms\tremaining: 279ms\n",
      "551:\tlearn: 0.0263240\ttotal: 343ms\tremaining: 278ms\n",
      "552:\tlearn: 0.0261880\ttotal: 343ms\tremaining: 277ms\n",
      "553:\tlearn: 0.0260954\ttotal: 344ms\tremaining: 277ms\n",
      "554:\tlearn: 0.0259645\ttotal: 344ms\tremaining: 276ms\n",
      "555:\tlearn: 0.0258526\ttotal: 345ms\tremaining: 275ms\n",
      "556:\tlearn: 0.0257627\ttotal: 345ms\tremaining: 274ms\n",
      "557:\tlearn: 0.0256535\ttotal: 346ms\tremaining: 274ms\n",
      "558:\tlearn: 0.0255665\ttotal: 346ms\tremaining: 273ms\n",
      "559:\tlearn: 0.0254401\ttotal: 347ms\tremaining: 272ms\n",
      "560:\tlearn: 0.0252958\ttotal: 347ms\tremaining: 272ms\n",
      "561:\tlearn: 0.0251748\ttotal: 347ms\tremaining: 271ms\n",
      "562:\tlearn: 0.0250339\ttotal: 348ms\tremaining: 270ms\n",
      "563:\tlearn: 0.0249174\ttotal: 348ms\tremaining: 269ms\n",
      "564:\tlearn: 0.0248056\ttotal: 349ms\tremaining: 269ms\n",
      "565:\tlearn: 0.0246974\ttotal: 349ms\tremaining: 268ms\n",
      "566:\tlearn: 0.0245880\ttotal: 350ms\tremaining: 267ms\n",
      "567:\tlearn: 0.0244530\ttotal: 350ms\tremaining: 266ms\n",
      "568:\tlearn: 0.0243360\ttotal: 351ms\tremaining: 266ms\n",
      "569:\tlearn: 0.0242143\ttotal: 351ms\tremaining: 265ms\n",
      "570:\tlearn: 0.0240758\ttotal: 352ms\tremaining: 264ms\n",
      "571:\tlearn: 0.0239968\ttotal: 352ms\tremaining: 263ms\n",
      "572:\tlearn: 0.0239201\ttotal: 353ms\tremaining: 263ms\n",
      "573:\tlearn: 0.0237941\ttotal: 353ms\tremaining: 262ms\n",
      "574:\tlearn: 0.0237177\ttotal: 353ms\tremaining: 261ms\n",
      "575:\tlearn: 0.0236194\ttotal: 354ms\tremaining: 260ms\n",
      "576:\tlearn: 0.0235448\ttotal: 354ms\tremaining: 260ms\n",
      "577:\tlearn: 0.0234270\ttotal: 355ms\tremaining: 259ms\n",
      "578:\tlearn: 0.0233540\ttotal: 355ms\tremaining: 258ms\n",
      "579:\tlearn: 0.0232385\ttotal: 356ms\tremaining: 258ms\n",
      "580:\tlearn: 0.0231309\ttotal: 356ms\tremaining: 257ms\n",
      "581:\tlearn: 0.0229925\ttotal: 357ms\tremaining: 256ms\n",
      "582:\tlearn: 0.0229219\ttotal: 357ms\tremaining: 256ms\n",
      "583:\tlearn: 0.0228173\ttotal: 358ms\tremaining: 255ms\n",
      "584:\tlearn: 0.0227070\ttotal: 359ms\tremaining: 254ms\n",
      "585:\tlearn: 0.0226383\ttotal: 359ms\tremaining: 254ms\n",
      "586:\tlearn: 0.0225365\ttotal: 360ms\tremaining: 253ms\n",
      "587:\tlearn: 0.0224249\ttotal: 360ms\tremaining: 252ms\n",
      "588:\tlearn: 0.0223255\ttotal: 360ms\tremaining: 252ms\n",
      "589:\tlearn: 0.0222199\ttotal: 361ms\tremaining: 251ms\n",
      "590:\tlearn: 0.0221228\ttotal: 361ms\tremaining: 250ms\n",
      "591:\tlearn: 0.0219962\ttotal: 362ms\tremaining: 249ms\n",
      "592:\tlearn: 0.0218953\ttotal: 362ms\tremaining: 249ms\n"
     ]
    },
    {
     "name": "stdout",
     "output_type": "stream",
     "text": [
      "593:\tlearn: 0.0218298\ttotal: 363ms\tremaining: 248ms\n",
      "594:\tlearn: 0.0217253\ttotal: 363ms\tremaining: 247ms\n",
      "595:\tlearn: 0.0216612\ttotal: 364ms\tremaining: 247ms\n",
      "596:\tlearn: 0.0215587\ttotal: 364ms\tremaining: 246ms\n",
      "597:\tlearn: 0.0214662\ttotal: 365ms\tremaining: 245ms\n",
      "598:\tlearn: 0.0213690\ttotal: 365ms\tremaining: 245ms\n",
      "599:\tlearn: 0.0212328\ttotal: 366ms\tremaining: 244ms\n",
      "600:\tlearn: 0.0210989\ttotal: 366ms\tremaining: 243ms\n",
      "601:\tlearn: 0.0209672\ttotal: 366ms\tremaining: 242ms\n",
      "602:\tlearn: 0.0208376\ttotal: 367ms\tremaining: 242ms\n",
      "603:\tlearn: 0.0207102\ttotal: 368ms\tremaining: 241ms\n",
      "604:\tlearn: 0.0206513\ttotal: 368ms\tremaining: 240ms\n",
      "605:\tlearn: 0.0205438\ttotal: 369ms\tremaining: 240ms\n",
      "606:\tlearn: 0.0204861\ttotal: 369ms\tremaining: 239ms\n",
      "607:\tlearn: 0.0203811\ttotal: 370ms\tremaining: 238ms\n",
      "608:\tlearn: 0.0202704\ttotal: 370ms\tremaining: 238ms\n",
      "609:\tlearn: 0.0201682\ttotal: 371ms\tremaining: 237ms\n",
      "610:\tlearn: 0.0201123\ttotal: 371ms\tremaining: 236ms\n",
      "611:\tlearn: 0.0199908\ttotal: 371ms\tremaining: 236ms\n",
      "612:\tlearn: 0.0199362\ttotal: 372ms\tremaining: 235ms\n",
      "613:\tlearn: 0.0198354\ttotal: 372ms\tremaining: 234ms\n",
      "614:\tlearn: 0.0197168\ttotal: 373ms\tremaining: 233ms\n",
      "615:\tlearn: 0.0196503\ttotal: 374ms\tremaining: 233ms\n",
      "616:\tlearn: 0.0195650\ttotal: 374ms\tremaining: 232ms\n",
      "617:\tlearn: 0.0194682\ttotal: 375ms\tremaining: 231ms\n",
      "618:\tlearn: 0.0193640\ttotal: 375ms\tremaining: 231ms\n",
      "619:\tlearn: 0.0192425\ttotal: 375ms\tremaining: 230ms\n",
      "620:\tlearn: 0.0191599\ttotal: 376ms\tremaining: 229ms\n",
      "621:\tlearn: 0.0190412\ttotal: 376ms\tremaining: 229ms\n",
      "622:\tlearn: 0.0189604\ttotal: 377ms\tremaining: 228ms\n",
      "623:\tlearn: 0.0188525\ttotal: 377ms\tremaining: 227ms\n",
      "624:\tlearn: 0.0187526\ttotal: 378ms\tremaining: 227ms\n",
      "625:\tlearn: 0.0186392\ttotal: 378ms\tremaining: 226ms\n",
      "626:\tlearn: 0.0185595\ttotal: 379ms\tremaining: 225ms\n",
      "627:\tlearn: 0.0184624\ttotal: 379ms\tremaining: 225ms\n",
      "628:\tlearn: 0.0183505\ttotal: 380ms\tremaining: 224ms\n",
      "629:\tlearn: 0.0182735\ttotal: 381ms\tremaining: 224ms\n",
      "630:\tlearn: 0.0181968\ttotal: 381ms\tremaining: 223ms\n",
      "631:\tlearn: 0.0180957\ttotal: 381ms\tremaining: 222ms\n",
      "632:\tlearn: 0.0179951\ttotal: 382ms\tremaining: 221ms\n",
      "633:\tlearn: 0.0179209\ttotal: 383ms\tremaining: 221ms\n",
      "634:\tlearn: 0.0178140\ttotal: 383ms\tremaining: 220ms\n",
      "635:\tlearn: 0.0177404\ttotal: 383ms\tremaining: 219ms\n",
      "636:\tlearn: 0.0176374\ttotal: 384ms\tremaining: 219ms\n",
      "637:\tlearn: 0.0175736\ttotal: 384ms\tremaining: 218ms\n",
      "638:\tlearn: 0.0174844\ttotal: 385ms\tremaining: 217ms\n",
      "639:\tlearn: 0.0174138\ttotal: 385ms\tremaining: 217ms\n",
      "640:\tlearn: 0.0173306\ttotal: 386ms\tremaining: 216ms\n",
      "641:\tlearn: 0.0172607\ttotal: 386ms\tremaining: 215ms\n",
      "642:\tlearn: 0.0171655\ttotal: 387ms\tremaining: 215ms\n",
      "643:\tlearn: 0.0171047\ttotal: 387ms\tremaining: 214ms\n",
      "644:\tlearn: 0.0170113\ttotal: 388ms\tremaining: 213ms\n",
      "645:\tlearn: 0.0169513\ttotal: 388ms\tremaining: 213ms\n",
      "646:\tlearn: 0.0168595\ttotal: 389ms\tremaining: 212ms\n",
      "647:\tlearn: 0.0167929\ttotal: 389ms\tremaining: 211ms\n",
      "648:\tlearn: 0.0166952\ttotal: 390ms\tremaining: 211ms\n",
      "649:\tlearn: 0.0166375\ttotal: 390ms\tremaining: 210ms\n",
      "650:\tlearn: 0.0165807\ttotal: 391ms\tremaining: 210ms\n",
      "651:\tlearn: 0.0165022\ttotal: 391ms\tremaining: 209ms\n",
      "652:\tlearn: 0.0164235\ttotal: 392ms\tremaining: 208ms\n",
      "653:\tlearn: 0.0163320\ttotal: 392ms\tremaining: 208ms\n",
      "654:\tlearn: 0.0162692\ttotal: 393ms\tremaining: 207ms\n",
      "655:\tlearn: 0.0161813\ttotal: 393ms\tremaining: 206ms\n",
      "656:\tlearn: 0.0161271\ttotal: 394ms\tremaining: 206ms\n",
      "657:\tlearn: 0.0160408\ttotal: 394ms\tremaining: 205ms\n",
      "658:\tlearn: 0.0159873\ttotal: 395ms\tremaining: 204ms\n",
      "659:\tlearn: 0.0159195\ttotal: 395ms\tremaining: 204ms\n",
      "660:\tlearn: 0.0158679\ttotal: 395ms\tremaining: 203ms\n",
      "661:\tlearn: 0.0158077\ttotal: 396ms\tremaining: 202ms\n",
      "662:\tlearn: 0.0157489\ttotal: 396ms\tremaining: 202ms\n",
      "663:\tlearn: 0.0156913\ttotal: 397ms\tremaining: 201ms\n",
      "664:\tlearn: 0.0156350\ttotal: 398ms\tremaining: 200ms\n",
      "665:\tlearn: 0.0155673\ttotal: 398ms\tremaining: 200ms\n",
      "666:\tlearn: 0.0155132\ttotal: 398ms\tremaining: 199ms\n",
      "667:\tlearn: 0.0154603\ttotal: 399ms\tremaining: 198ms\n",
      "668:\tlearn: 0.0154049\ttotal: 399ms\tremaining: 198ms\n",
      "669:\tlearn: 0.0153413\ttotal: 400ms\tremaining: 197ms\n",
      "670:\tlearn: 0.0152873\ttotal: 400ms\tremaining: 196ms\n",
      "671:\tlearn: 0.0152372\ttotal: 401ms\tremaining: 196ms\n",
      "672:\tlearn: 0.0151694\ttotal: 401ms\tremaining: 195ms\n",
      "673:\tlearn: 0.0151204\ttotal: 402ms\tremaining: 194ms\n",
      "674:\tlearn: 0.0150725\ttotal: 402ms\tremaining: 194ms\n",
      "675:\tlearn: 0.0150060\ttotal: 403ms\tremaining: 193ms\n",
      "676:\tlearn: 0.0149592\ttotal: 403ms\tremaining: 192ms\n",
      "677:\tlearn: 0.0148940\ttotal: 404ms\tremaining: 192ms\n",
      "678:\tlearn: 0.0148483\ttotal: 405ms\tremaining: 191ms\n",
      "679:\tlearn: 0.0148114\ttotal: 405ms\tremaining: 191ms\n",
      "680:\tlearn: 0.0147670\ttotal: 405ms\tremaining: 190ms\n",
      "681:\tlearn: 0.0147032\ttotal: 406ms\tremaining: 189ms\n",
      "682:\tlearn: 0.0146674\ttotal: 406ms\tremaining: 189ms\n",
      "683:\tlearn: 0.0146121\ttotal: 407ms\tremaining: 188ms\n",
      "684:\tlearn: 0.0145497\ttotal: 407ms\tremaining: 187ms\n",
      "685:\tlearn: 0.0145100\ttotal: 408ms\tremaining: 187ms\n",
      "686:\tlearn: 0.0144488\ttotal: 408ms\tremaining: 186ms\n",
      "687:\tlearn: 0.0144072\ttotal: 409ms\tremaining: 185ms\n",
      "688:\tlearn: 0.0143472\ttotal: 409ms\tremaining: 185ms\n",
      "689:\tlearn: 0.0143065\ttotal: 410ms\tremaining: 184ms\n",
      "690:\tlearn: 0.0142686\ttotal: 410ms\tremaining: 183ms\n",
      "691:\tlearn: 0.0142099\ttotal: 411ms\tremaining: 183ms\n",
      "692:\tlearn: 0.0141706\ttotal: 412ms\tremaining: 182ms\n",
      "693:\tlearn: 0.0141130\ttotal: 412ms\tremaining: 182ms\n",
      "694:\tlearn: 0.0140764\ttotal: 413ms\tremaining: 181ms\n",
      "695:\tlearn: 0.0140200\ttotal: 413ms\tremaining: 180ms\n",
      "696:\tlearn: 0.0139820\ttotal: 413ms\tremaining: 180ms\n",
      "697:\tlearn: 0.0139267\ttotal: 414ms\tremaining: 179ms\n",
      "698:\tlearn: 0.0138863\ttotal: 414ms\tremaining: 178ms\n",
      "699:\tlearn: 0.0138492\ttotal: 415ms\tremaining: 178ms\n",
      "700:\tlearn: 0.0137954\ttotal: 415ms\tremaining: 177ms\n",
      "701:\tlearn: 0.0137462\ttotal: 415ms\tremaining: 176ms\n",
      "702:\tlearn: 0.0137117\ttotal: 416ms\tremaining: 176ms\n",
      "703:\tlearn: 0.0136461\ttotal: 416ms\tremaining: 175ms\n",
      "704:\tlearn: 0.0135938\ttotal: 417ms\tremaining: 174ms\n",
      "705:\tlearn: 0.0135603\ttotal: 417ms\tremaining: 174ms\n",
      "706:\tlearn: 0.0135102\ttotal: 417ms\tremaining: 173ms\n",
      "707:\tlearn: 0.0134774\ttotal: 418ms\tremaining: 172ms\n",
      "708:\tlearn: 0.0134131\ttotal: 418ms\tremaining: 172ms\n",
      "709:\tlearn: 0.0133643\ttotal: 419ms\tremaining: 171ms\n",
      "710:\tlearn: 0.0133324\ttotal: 419ms\tremaining: 170ms\n",
      "711:\tlearn: 0.0132818\ttotal: 420ms\tremaining: 170ms\n",
      "712:\tlearn: 0.0132475\ttotal: 420ms\tremaining: 169ms\n",
      "713:\tlearn: 0.0131935\ttotal: 421ms\tremaining: 169ms\n",
      "714:\tlearn: 0.0131626\ttotal: 421ms\tremaining: 168ms\n",
      "715:\tlearn: 0.0131018\ttotal: 422ms\tremaining: 167ms\n",
      "716:\tlearn: 0.0130550\ttotal: 422ms\tremaining: 167ms\n",
      "717:\tlearn: 0.0130063\ttotal: 423ms\tremaining: 166ms\n",
      "718:\tlearn: 0.0129764\ttotal: 423ms\tremaining: 165ms\n",
      "719:\tlearn: 0.0129086\ttotal: 424ms\tremaining: 165ms\n",
      "720:\tlearn: 0.0128658\ttotal: 424ms\tremaining: 164ms\n",
      "721:\tlearn: 0.0128367\ttotal: 425ms\tremaining: 164ms\n",
      "722:\tlearn: 0.0127948\ttotal: 425ms\tremaining: 163ms\n",
      "723:\tlearn: 0.0127288\ttotal: 426ms\tremaining: 162ms\n",
      "724:\tlearn: 0.0126878\ttotal: 426ms\tremaining: 162ms\n",
      "725:\tlearn: 0.0126596\ttotal: 427ms\tremaining: 161ms\n",
      "726:\tlearn: 0.0126008\ttotal: 427ms\tremaining: 160ms\n",
      "727:\tlearn: 0.0125608\ttotal: 427ms\tremaining: 160ms\n",
      "728:\tlearn: 0.0125145\ttotal: 428ms\tremaining: 159ms\n",
      "729:\tlearn: 0.0124871\ttotal: 428ms\tremaining: 158ms\n",
      "730:\tlearn: 0.0124481\ttotal: 429ms\tremaining: 158ms\n",
      "731:\tlearn: 0.0123850\ttotal: 429ms\tremaining: 157ms\n",
      "732:\tlearn: 0.0123300\ttotal: 430ms\tremaining: 157ms\n",
      "733:\tlearn: 0.0122941\ttotal: 430ms\tremaining: 156ms\n",
      "734:\tlearn: 0.0122492\ttotal: 431ms\tremaining: 155ms\n",
      "735:\tlearn: 0.0121877\ttotal: 431ms\tremaining: 155ms\n",
      "736:\tlearn: 0.0121346\ttotal: 432ms\tremaining: 154ms\n",
      "737:\tlearn: 0.0120827\ttotal: 432ms\tremaining: 153ms\n",
      "738:\tlearn: 0.0120391\ttotal: 433ms\tremaining: 153ms\n",
      "739:\tlearn: 0.0120049\ttotal: 433ms\tremaining: 152ms\n",
      "740:\tlearn: 0.0119501\ttotal: 434ms\tremaining: 152ms\n",
      "741:\tlearn: 0.0119035\ttotal: 435ms\tremaining: 151ms\n",
      "742:\tlearn: 0.0118492\ttotal: 435ms\tremaining: 150ms\n",
      "743:\tlearn: 0.0118071\ttotal: 435ms\tremaining: 150ms\n",
      "744:\tlearn: 0.0117715\ttotal: 436ms\tremaining: 149ms\n",
      "745:\tlearn: 0.0117303\ttotal: 436ms\tremaining: 148ms\n",
      "746:\tlearn: 0.0116946\ttotal: 437ms\tremaining: 148ms\n",
      "747:\tlearn: 0.0116366\ttotal: 437ms\tremaining: 147ms\n",
      "748:\tlearn: 0.0116017\ttotal: 437ms\tremaining: 147ms\n",
      "749:\tlearn: 0.0115575\ttotal: 438ms\tremaining: 146ms\n",
      "750:\tlearn: 0.0115205\ttotal: 438ms\tremaining: 145ms\n",
      "751:\tlearn: 0.0114869\ttotal: 439ms\tremaining: 145ms\n",
      "752:\tlearn: 0.0114307\ttotal: 439ms\tremaining: 144ms\n",
      "753:\tlearn: 0.0114055\ttotal: 439ms\tremaining: 143ms\n",
      "754:\tlearn: 0.0113626\ttotal: 440ms\tremaining: 143ms\n",
      "755:\tlearn: 0.0113273\ttotal: 440ms\tremaining: 142ms\n",
      "756:\tlearn: 0.0112853\ttotal: 441ms\tremaining: 142ms\n",
      "757:\tlearn: 0.0112522\ttotal: 441ms\tremaining: 141ms\n",
      "758:\tlearn: 0.0112133\ttotal: 442ms\tremaining: 140ms\n",
      "759:\tlearn: 0.0111789\ttotal: 442ms\tremaining: 140ms\n",
      "760:\tlearn: 0.0111381\ttotal: 443ms\tremaining: 139ms\n",
      "761:\tlearn: 0.0111150\ttotal: 443ms\tremaining: 138ms\n",
      "762:\tlearn: 0.0110751\ttotal: 443ms\tremaining: 138ms\n",
      "763:\tlearn: 0.0110406\ttotal: 444ms\tremaining: 137ms\n",
      "764:\tlearn: 0.0109874\ttotal: 444ms\tremaining: 136ms\n",
      "765:\tlearn: 0.0109651\ttotal: 445ms\tremaining: 136ms\n",
      "766:\tlearn: 0.0109186\ttotal: 445ms\tremaining: 135ms\n",
      "767:\tlearn: 0.0108972\ttotal: 446ms\tremaining: 135ms\n",
      "768:\tlearn: 0.0108539\ttotal: 446ms\tremaining: 134ms\n",
      "769:\tlearn: 0.0108322\ttotal: 447ms\tremaining: 133ms\n",
      "770:\tlearn: 0.0108011\ttotal: 447ms\tremaining: 133ms\n",
      "771:\tlearn: 0.0107795\ttotal: 447ms\tremaining: 132ms\n",
      "772:\tlearn: 0.0107593\ttotal: 448ms\tremaining: 132ms\n",
      "773:\tlearn: 0.0107287\ttotal: 448ms\tremaining: 131ms\n",
      "774:\tlearn: 0.0107076\ttotal: 449ms\tremaining: 130ms\n",
      "775:\tlearn: 0.0106774\ttotal: 449ms\tremaining: 130ms\n",
      "776:\tlearn: 0.0106564\ttotal: 450ms\tremaining: 129ms\n",
      "777:\tlearn: 0.0106192\ttotal: 450ms\tremaining: 128ms\n",
      "778:\tlearn: 0.0105996\ttotal: 451ms\tremaining: 128ms\n",
      "779:\tlearn: 0.0105702\ttotal: 451ms\tremaining: 127ms\n",
      "780:\tlearn: 0.0105509\ttotal: 452ms\tremaining: 127ms\n",
      "781:\tlearn: 0.0105215\ttotal: 452ms\tremaining: 126ms\n",
      "782:\tlearn: 0.0104858\ttotal: 453ms\tremaining: 125ms\n",
      "783:\tlearn: 0.0104572\ttotal: 453ms\tremaining: 125ms\n",
      "784:\tlearn: 0.0104373\ttotal: 454ms\tremaining: 124ms\n",
      "785:\tlearn: 0.0103957\ttotal: 454ms\tremaining: 124ms\n",
      "786:\tlearn: 0.0103756\ttotal: 455ms\tremaining: 123ms\n",
      "787:\tlearn: 0.0103349\ttotal: 455ms\tremaining: 122ms\n",
      "788:\tlearn: 0.0103070\ttotal: 456ms\tremaining: 122ms\n",
      "789:\tlearn: 0.0102727\ttotal: 456ms\tremaining: 121ms\n",
      "790:\tlearn: 0.0102323\ttotal: 457ms\tremaining: 121ms\n",
      "791:\tlearn: 0.0102080\ttotal: 457ms\tremaining: 120ms\n",
      "792:\tlearn: 0.0101890\ttotal: 458ms\tremaining: 120ms\n",
      "793:\tlearn: 0.0101494\ttotal: 459ms\tremaining: 119ms\n",
      "794:\tlearn: 0.0101308\ttotal: 459ms\tremaining: 118ms\n",
      "795:\tlearn: 0.0100978\ttotal: 460ms\tremaining: 118ms\n",
      "796:\tlearn: 0.0100591\ttotal: 460ms\tremaining: 117ms\n",
      "797:\tlearn: 0.0100403\ttotal: 461ms\tremaining: 117ms\n",
      "798:\tlearn: 0.0100031\ttotal: 461ms\tremaining: 116ms\n",
      "799:\tlearn: 0.0099800\ttotal: 462ms\tremaining: 115ms\n",
      "800:\tlearn: 0.0099521\ttotal: 462ms\tremaining: 115ms\n",
      "801:\tlearn: 0.0099310\ttotal: 463ms\tremaining: 114ms\n",
      "802:\tlearn: 0.0099127\ttotal: 463ms\tremaining: 114ms\n",
      "803:\tlearn: 0.0098759\ttotal: 464ms\tremaining: 113ms\n",
      "804:\tlearn: 0.0098489\ttotal: 464ms\tremaining: 112ms\n",
      "805:\tlearn: 0.0098173\ttotal: 465ms\tremaining: 112ms\n",
      "806:\tlearn: 0.0097835\ttotal: 465ms\tremaining: 111ms\n",
      "807:\tlearn: 0.0097515\ttotal: 466ms\tremaining: 111ms\n",
      "808:\tlearn: 0.0097206\ttotal: 466ms\tremaining: 110ms\n",
      "809:\tlearn: 0.0096945\ttotal: 467ms\tremaining: 109ms\n",
      "810:\tlearn: 0.0096631\ttotal: 467ms\tremaining: 109ms\n"
     ]
    },
    {
     "name": "stdout",
     "output_type": "stream",
     "text": [
      "811:\tlearn: 0.0096306\ttotal: 468ms\tremaining: 108ms\n",
      "812:\tlearn: 0.0095997\ttotal: 468ms\tremaining: 108ms\n",
      "813:\tlearn: 0.0095694\ttotal: 469ms\tremaining: 107ms\n",
      "814:\tlearn: 0.0095494\ttotal: 469ms\tremaining: 106ms\n",
      "815:\tlearn: 0.0095197\ttotal: 469ms\tremaining: 106ms\n",
      "816:\tlearn: 0.0095000\ttotal: 470ms\tremaining: 105ms\n",
      "817:\tlearn: 0.0094671\ttotal: 471ms\tremaining: 105ms\n",
      "818:\tlearn: 0.0094467\ttotal: 471ms\tremaining: 104ms\n",
      "819:\tlearn: 0.0094144\ttotal: 471ms\tremaining: 103ms\n",
      "820:\tlearn: 0.0093805\ttotal: 472ms\tremaining: 103ms\n",
      "821:\tlearn: 0.0093561\ttotal: 472ms\tremaining: 102ms\n",
      "822:\tlearn: 0.0093253\ttotal: 473ms\tremaining: 102ms\n",
      "823:\tlearn: 0.0092940\ttotal: 473ms\tremaining: 101ms\n",
      "824:\tlearn: 0.0092625\ttotal: 474ms\tremaining: 100ms\n",
      "825:\tlearn: 0.0092389\ttotal: 474ms\tremaining: 99.9ms\n",
      "826:\tlearn: 0.0092083\ttotal: 474ms\tremaining: 99.3ms\n",
      "827:\tlearn: 0.0091754\ttotal: 475ms\tremaining: 98.6ms\n",
      "828:\tlearn: 0.0091460\ttotal: 475ms\tremaining: 98ms\n",
      "829:\tlearn: 0.0091159\ttotal: 476ms\tremaining: 97.5ms\n",
      "830:\tlearn: 0.0090838\ttotal: 476ms\tremaining: 96.8ms\n",
      "831:\tlearn: 0.0090633\ttotal: 477ms\tremaining: 96.2ms\n",
      "832:\tlearn: 0.0090447\ttotal: 477ms\tremaining: 95.6ms\n",
      "833:\tlearn: 0.0090152\ttotal: 477ms\tremaining: 95ms\n",
      "834:\tlearn: 0.0089822\ttotal: 478ms\tremaining: 94.4ms\n",
      "835:\tlearn: 0.0089423\ttotal: 478ms\tremaining: 93.8ms\n",
      "836:\tlearn: 0.0089001\ttotal: 479ms\tremaining: 93.3ms\n",
      "837:\tlearn: 0.0088639\ttotal: 479ms\tremaining: 92.6ms\n",
      "838:\tlearn: 0.0088230\ttotal: 480ms\tremaining: 92ms\n",
      "839:\tlearn: 0.0087877\ttotal: 480ms\tremaining: 91.5ms\n",
      "840:\tlearn: 0.0087605\ttotal: 481ms\tremaining: 90.9ms\n",
      "841:\tlearn: 0.0087274\ttotal: 481ms\tremaining: 90.3ms\n",
      "842:\tlearn: 0.0087105\ttotal: 482ms\tremaining: 89.7ms\n",
      "843:\tlearn: 0.0086880\ttotal: 482ms\tremaining: 89.1ms\n",
      "844:\tlearn: 0.0086615\ttotal: 483ms\tremaining: 88.5ms\n",
      "845:\tlearn: 0.0086393\ttotal: 483ms\tremaining: 87.9ms\n",
      "846:\tlearn: 0.0086173\ttotal: 483ms\tremaining: 87.3ms\n",
      "847:\tlearn: 0.0086008\ttotal: 484ms\tremaining: 86.7ms\n",
      "848:\tlearn: 0.0085792\ttotal: 484ms\tremaining: 86.2ms\n",
      "849:\tlearn: 0.0085628\ttotal: 485ms\tremaining: 85.6ms\n",
      "850:\tlearn: 0.0085415\ttotal: 485ms\tremaining: 85ms\n",
      "851:\tlearn: 0.0085069\ttotal: 486ms\tremaining: 84.4ms\n",
      "852:\tlearn: 0.0084792\ttotal: 486ms\tremaining: 83.8ms\n",
      "853:\tlearn: 0.0084407\ttotal: 487ms\tremaining: 83.2ms\n",
      "854:\tlearn: 0.0084029\ttotal: 487ms\tremaining: 82.6ms\n",
      "855:\tlearn: 0.0083820\ttotal: 488ms\tremaining: 82ms\n",
      "856:\tlearn: 0.0083412\ttotal: 488ms\tremaining: 81.4ms\n",
      "857:\tlearn: 0.0082904\ttotal: 488ms\tremaining: 80.8ms\n",
      "858:\tlearn: 0.0082699\ttotal: 489ms\tremaining: 80.3ms\n",
      "859:\tlearn: 0.0082203\ttotal: 490ms\tremaining: 79.7ms\n",
      "860:\tlearn: 0.0082097\ttotal: 490ms\tremaining: 79.1ms\n",
      "861:\tlearn: 0.0081896\ttotal: 491ms\tremaining: 78.5ms\n",
      "862:\tlearn: 0.0081571\ttotal: 491ms\tremaining: 77.9ms\n",
      "863:\tlearn: 0.0081466\ttotal: 491ms\tremaining: 77.3ms\n",
      "864:\tlearn: 0.0080986\ttotal: 492ms\tremaining: 76.8ms\n",
      "865:\tlearn: 0.0080884\ttotal: 492ms\tremaining: 76.2ms\n",
      "866:\tlearn: 0.0080688\ttotal: 493ms\tremaining: 75.7ms\n",
      "867:\tlearn: 0.0080373\ttotal: 494ms\tremaining: 75.1ms\n",
      "868:\tlearn: 0.0080009\ttotal: 494ms\tremaining: 74.5ms\n",
      "869:\tlearn: 0.0079687\ttotal: 495ms\tremaining: 73.9ms\n",
      "870:\tlearn: 0.0079343\ttotal: 495ms\tremaining: 73.3ms\n",
      "871:\tlearn: 0.0078849\ttotal: 496ms\tremaining: 72.7ms\n",
      "872:\tlearn: 0.0078602\ttotal: 496ms\tremaining: 72.1ms\n",
      "873:\tlearn: 0.0078397\ttotal: 496ms\tremaining: 71.6ms\n",
      "874:\tlearn: 0.0078195\ttotal: 497ms\tremaining: 71ms\n",
      "875:\tlearn: 0.0078062\ttotal: 497ms\tremaining: 70.4ms\n",
      "876:\tlearn: 0.0077825\ttotal: 498ms\tremaining: 69.8ms\n",
      "877:\tlearn: 0.0077582\ttotal: 498ms\tremaining: 69.3ms\n",
      "878:\tlearn: 0.0077277\ttotal: 499ms\tremaining: 68.7ms\n",
      "879:\tlearn: 0.0077035\ttotal: 499ms\tremaining: 68.1ms\n",
      "880:\tlearn: 0.0076741\ttotal: 500ms\tremaining: 67.5ms\n",
      "881:\tlearn: 0.0076451\ttotal: 500ms\tremaining: 66.9ms\n",
      "882:\tlearn: 0.0076198\ttotal: 501ms\tremaining: 66.3ms\n",
      "883:\tlearn: 0.0075883\ttotal: 501ms\tremaining: 65.7ms\n",
      "884:\tlearn: 0.0075420\ttotal: 502ms\tremaining: 65.2ms\n",
      "885:\tlearn: 0.0074968\ttotal: 502ms\tremaining: 64.6ms\n",
      "886:\tlearn: 0.0074734\ttotal: 502ms\tremaining: 64ms\n",
      "887:\tlearn: 0.0074573\ttotal: 503ms\tremaining: 63.4ms\n",
      "888:\tlearn: 0.0074344\ttotal: 503ms\tremaining: 62.8ms\n",
      "889:\tlearn: 0.0074188\ttotal: 504ms\tremaining: 62.3ms\n",
      "890:\tlearn: 0.0073942\ttotal: 504ms\tremaining: 61.7ms\n",
      "891:\tlearn: 0.0073790\ttotal: 505ms\tremaining: 61.1ms\n",
      "892:\tlearn: 0.0073642\ttotal: 505ms\tremaining: 60.5ms\n",
      "893:\tlearn: 0.0073498\ttotal: 506ms\tremaining: 60ms\n",
      "894:\tlearn: 0.0073260\ttotal: 506ms\tremaining: 59.4ms\n",
      "895:\tlearn: 0.0073041\ttotal: 507ms\tremaining: 58.8ms\n",
      "896:\tlearn: 0.0072900\ttotal: 507ms\tremaining: 58.2ms\n",
      "897:\tlearn: 0.0072636\ttotal: 507ms\tremaining: 57.6ms\n",
      "898:\tlearn: 0.0072465\ttotal: 508ms\tremaining: 57.1ms\n",
      "899:\tlearn: 0.0072329\ttotal: 508ms\tremaining: 56.5ms\n",
      "900:\tlearn: 0.0072096\ttotal: 509ms\tremaining: 55.9ms\n",
      "901:\tlearn: 0.0071963\ttotal: 509ms\tremaining: 55.3ms\n",
      "902:\tlearn: 0.0071707\ttotal: 510ms\tremaining: 54.8ms\n",
      "903:\tlearn: 0.0071563\ttotal: 510ms\tremaining: 54.2ms\n",
      "904:\tlearn: 0.0071482\ttotal: 511ms\tremaining: 53.6ms\n",
      "905:\tlearn: 0.0071241\ttotal: 511ms\tremaining: 53ms\n",
      "906:\tlearn: 0.0071016\ttotal: 512ms\tremaining: 52.5ms\n",
      "907:\tlearn: 0.0070889\ttotal: 512ms\tremaining: 51.9ms\n",
      "908:\tlearn: 0.0070641\ttotal: 513ms\tremaining: 51.3ms\n",
      "909:\tlearn: 0.0070238\ttotal: 513ms\tremaining: 50.7ms\n",
      "910:\tlearn: 0.0069816\ttotal: 514ms\tremaining: 50.2ms\n",
      "911:\tlearn: 0.0069400\ttotal: 514ms\tremaining: 49.6ms\n",
      "912:\tlearn: 0.0069013\ttotal: 515ms\tremaining: 49.1ms\n",
      "913:\tlearn: 0.0068608\ttotal: 516ms\tremaining: 48.5ms\n",
      "914:\tlearn: 0.0068209\ttotal: 516ms\tremaining: 48ms\n",
      "915:\tlearn: 0.0067817\ttotal: 517ms\tremaining: 47.4ms\n",
      "916:\tlearn: 0.0067637\ttotal: 517ms\tremaining: 46.8ms\n",
      "917:\tlearn: 0.0067332\ttotal: 518ms\tremaining: 46.3ms\n",
      "918:\tlearn: 0.0066948\ttotal: 518ms\tremaining: 45.7ms\n",
      "919:\tlearn: 0.0066743\ttotal: 519ms\tremaining: 45.1ms\n",
      "920:\tlearn: 0.0066623\ttotal: 519ms\tremaining: 44.5ms\n",
      "921:\tlearn: 0.0066448\ttotal: 520ms\tremaining: 44ms\n",
      "922:\tlearn: 0.0066183\ttotal: 520ms\tremaining: 43.4ms\n",
      "923:\tlearn: 0.0066012\ttotal: 520ms\tremaining: 42.8ms\n",
      "924:\tlearn: 0.0065844\ttotal: 521ms\tremaining: 42.2ms\n",
      "925:\tlearn: 0.0065563\ttotal: 521ms\tremaining: 41.6ms\n",
      "926:\tlearn: 0.0065299\ttotal: 522ms\tremaining: 41.1ms\n",
      "927:\tlearn: 0.0064930\ttotal: 522ms\tremaining: 40.5ms\n",
      "928:\tlearn: 0.0064766\ttotal: 523ms\tremaining: 39.9ms\n",
      "929:\tlearn: 0.0064605\ttotal: 523ms\tremaining: 39.4ms\n",
      "930:\tlearn: 0.0064334\ttotal: 523ms\tremaining: 38.8ms\n",
      "931:\tlearn: 0.0063977\ttotal: 524ms\tremaining: 38.2ms\n",
      "932:\tlearn: 0.0063817\ttotal: 524ms\tremaining: 37.6ms\n",
      "933:\tlearn: 0.0063702\ttotal: 524ms\tremaining: 37.1ms\n",
      "934:\tlearn: 0.0063590\ttotal: 525ms\tremaining: 36.5ms\n",
      "935:\tlearn: 0.0063359\ttotal: 525ms\tremaining: 35.9ms\n",
      "936:\tlearn: 0.0063203\ttotal: 526ms\tremaining: 35.4ms\n",
      "937:\tlearn: 0.0063094\ttotal: 526ms\tremaining: 34.8ms\n",
      "938:\tlearn: 0.0062879\ttotal: 527ms\tremaining: 34.2ms\n",
      "939:\tlearn: 0.0062727\ttotal: 527ms\tremaining: 33.7ms\n",
      "940:\tlearn: 0.0062621\ttotal: 528ms\tremaining: 33.1ms\n",
      "941:\tlearn: 0.0062324\ttotal: 528ms\tremaining: 32.5ms\n",
      "942:\tlearn: 0.0062190\ttotal: 528ms\tremaining: 31.9ms\n",
      "943:\tlearn: 0.0062054\ttotal: 529ms\tremaining: 31.4ms\n",
      "944:\tlearn: 0.0061808\ttotal: 529ms\tremaining: 30.8ms\n",
      "945:\tlearn: 0.0061673\ttotal: 530ms\tremaining: 30.2ms\n",
      "946:\tlearn: 0.0061526\ttotal: 530ms\tremaining: 29.7ms\n",
      "947:\tlearn: 0.0061394\ttotal: 531ms\tremaining: 29.1ms\n",
      "948:\tlearn: 0.0061250\ttotal: 531ms\tremaining: 28.5ms\n",
      "949:\tlearn: 0.0061142\ttotal: 532ms\tremaining: 28ms\n",
      "950:\tlearn: 0.0061036\ttotal: 532ms\tremaining: 27.4ms\n",
      "951:\tlearn: 0.0060907\ttotal: 533ms\tremaining: 26.9ms\n",
      "952:\tlearn: 0.0060703\ttotal: 533ms\tremaining: 26.3ms\n",
      "953:\tlearn: 0.0060506\ttotal: 534ms\tremaining: 25.7ms\n",
      "954:\tlearn: 0.0060225\ttotal: 534ms\tremaining: 25.2ms\n",
      "955:\tlearn: 0.0060096\ttotal: 535ms\tremaining: 24.6ms\n",
      "956:\tlearn: 0.0059999\ttotal: 535ms\tremaining: 24.1ms\n",
      "957:\tlearn: 0.0059807\ttotal: 536ms\tremaining: 23.5ms\n",
      "958:\tlearn: 0.0059482\ttotal: 536ms\tremaining: 22.9ms\n",
      "959:\tlearn: 0.0059246\ttotal: 537ms\tremaining: 22.4ms\n",
      "960:\tlearn: 0.0059010\ttotal: 537ms\tremaining: 21.8ms\n",
      "961:\tlearn: 0.0058694\ttotal: 538ms\tremaining: 21.2ms\n",
      "962:\tlearn: 0.0058575\ttotal: 538ms\tremaining: 20.7ms\n",
      "963:\tlearn: 0.0058266\ttotal: 539ms\tremaining: 20.1ms\n",
      "964:\tlearn: 0.0057944\ttotal: 539ms\tremaining: 19.6ms\n",
      "965:\tlearn: 0.0057829\ttotal: 540ms\tremaining: 19ms\n",
      "966:\tlearn: 0.0057721\ttotal: 540ms\tremaining: 18.4ms\n",
      "967:\tlearn: 0.0057537\ttotal: 541ms\tremaining: 17.9ms\n",
      "968:\tlearn: 0.0057224\ttotal: 541ms\tremaining: 17.3ms\n",
      "969:\tlearn: 0.0056919\ttotal: 542ms\tremaining: 16.8ms\n",
      "970:\tlearn: 0.0056813\ttotal: 543ms\tremaining: 16.2ms\n",
      "971:\tlearn: 0.0056711\ttotal: 543ms\tremaining: 15.6ms\n",
      "972:\tlearn: 0.0056414\ttotal: 543ms\tremaining: 15.1ms\n",
      "973:\tlearn: 0.0056260\ttotal: 544ms\tremaining: 14.5ms\n",
      "974:\tlearn: 0.0056157\ttotal: 545ms\tremaining: 14ms\n",
      "975:\tlearn: 0.0056029\ttotal: 545ms\tremaining: 13.4ms\n"
     ]
    },
    {
     "name": "stdout",
     "output_type": "stream",
     "text": [
      "976:\tlearn: 0.0055937\ttotal: 546ms\tremaining: 12.8ms\n",
      "977:\tlearn: 0.0055640\ttotal: 546ms\tremaining: 12.3ms\n",
      "978:\tlearn: 0.0055549\ttotal: 547ms\tremaining: 11.7ms\n",
      "979:\tlearn: 0.0055347\ttotal: 548ms\tremaining: 11.2ms\n",
      "980:\tlearn: 0.0055167\ttotal: 548ms\tremaining: 10.6ms\n",
      "981:\tlearn: 0.0055083\ttotal: 549ms\tremaining: 10.1ms\n",
      "982:\tlearn: 0.0054906\ttotal: 550ms\tremaining: 9.51ms\n",
      "983:\tlearn: 0.0054728\ttotal: 550ms\tremaining: 8.95ms\n",
      "984:\tlearn: 0.0054629\ttotal: 551ms\tremaining: 8.39ms\n",
      "985:\tlearn: 0.0054433\ttotal: 551ms\tremaining: 7.83ms\n",
      "986:\tlearn: 0.0054336\ttotal: 552ms\tremaining: 7.27ms\n",
      "987:\tlearn: 0.0054172\ttotal: 552ms\tremaining: 6.71ms\n",
      "988:\tlearn: 0.0054078\ttotal: 553ms\tremaining: 6.15ms\n",
      "989:\tlearn: 0.0053906\ttotal: 553ms\tremaining: 5.59ms\n",
      "990:\tlearn: 0.0053812\ttotal: 554ms\tremaining: 5.03ms\n",
      "991:\tlearn: 0.0053643\ttotal: 555ms\tremaining: 4.47ms\n",
      "992:\tlearn: 0.0053531\ttotal: 555ms\tremaining: 3.91ms\n",
      "993:\tlearn: 0.0053302\ttotal: 555ms\tremaining: 3.35ms\n",
      "994:\tlearn: 0.0053242\ttotal: 556ms\tremaining: 2.79ms\n",
      "995:\tlearn: 0.0053090\ttotal: 556ms\tremaining: 2.23ms\n",
      "996:\tlearn: 0.0052940\ttotal: 557ms\tremaining: 1.68ms\n",
      "997:\tlearn: 0.0052714\ttotal: 557ms\tremaining: 1.12ms\n",
      "998:\tlearn: 0.0052531\ttotal: 558ms\tremaining: 558us\n",
      "999:\tlearn: 0.0052386\ttotal: 558ms\tremaining: 0us\n"
     ]
    },
    {
     "data": {
      "text/plain": [
       "<catboost.core.CatBoostRegressor at 0x7f83381f0640>"
      ]
     },
     "execution_count": 9,
     "metadata": {},
     "output_type": "execute_result"
    }
   ],
   "source": [
    "#Train the Model \n",
    "prior_model = ctb.CatBoostRegressor()\n",
    "prior_model.fit(X_train,Y_train)"
   ]
  },
  {
   "cell_type": "code",
   "execution_count": 10,
   "id": "af65dcda",
   "metadata": {
    "execution": {
     "iopub.execute_input": "2022-05-18T08:39:54.187492Z",
     "iopub.status.busy": "2022-05-18T08:39:54.187124Z",
     "iopub.status.idle": "2022-05-18T08:39:54.194516Z",
     "shell.execute_reply": "2022-05-18T08:39:54.194889Z"
    },
    "id": "af65dcda",
    "papermill": {
     "duration": 0.020259,
     "end_time": "2022-05-18T08:39:54.195011",
     "exception": false,
     "start_time": "2022-05-18T08:39:54.174752",
     "status": "completed"
    },
    "tags": []
   },
   "outputs": [
    {
     "data": {
      "application/scrapbook.scrap.json+json": {
       "data": 0.20959404210131288,
       "encoder": "json",
       "name": "Prior Model MSE",
       "version": 1
      }
     },
     "metadata": {
      "scrapbook": {
       "data": true,
       "display": false,
       "name": "Prior Model MSE"
      }
     },
     "output_type": "display_data"
    },
    {
     "data": {
      "application/scrapbook.scrap.json+json": {
       "data": 1.52564511818921,
       "encoder": "json",
       "name": "ABC Pre-generator MSE",
       "version": 1
      }
     },
     "metadata": {
      "scrapbook": {
       "data": true,
       "display": false,
       "name": "ABC Pre-generator MSE"
      }
     },
     "output_type": "display_data"
    },
    {
     "data": {
      "application/scrapbook.scrap.json+json": {
       "data": 0.351388089076817,
       "encoder": "json",
       "name": "Prior Model MAE",
       "version": 1
      }
     },
     "metadata": {
      "scrapbook": {
       "data": true,
       "display": false,
       "name": "Prior Model MAE"
      }
     },
     "output_type": "display_data"
    },
    {
     "data": {
      "application/scrapbook.scrap.json+json": {
       "data": 1.0488069884685245,
       "encoder": "json",
       "name": "ABC Pre-generator MAE",
       "version": 1
      }
     },
     "metadata": {
      "scrapbook": {
       "data": true,
       "display": false,
       "name": "ABC Pre-generator MAE"
      }
     },
     "output_type": "display_data"
    }
   ],
   "source": [
    "y_pred = prior_model.predict(X_test)\n",
    "y_abc = y_pred + np.random.normal(0,variance, y_pred.shape)\n",
    "mse = mean_squared_error(y_pred,Y_test)\n",
    "sb.glue(\"Prior Model MSE\",mse)\n",
    "mse = mean_squared_error(y_abc,Y_test)\n",
    "sb.glue(\"ABC Pre-generator MSE\",mse)\n",
    "\n",
    "mae = mean_absolute_error(y_pred,Y_test)\n",
    "sb.glue(\"Prior Model MAE\",mae)\n",
    "mae = mean_absolute_error(y_abc,Y_test)\n",
    "sb.glue(\"ABC Pre-generator MAE\",mae)"
   ]
  },
  {
   "cell_type": "markdown",
   "id": "25609da2",
   "metadata": {
    "papermill": {
     "duration": 0.009505,
     "end_time": "2022-05-18T08:39:54.214392",
     "exception": false,
     "start_time": "2022-05-18T08:39:54.204887",
     "status": "completed"
    },
    "tags": []
   },
   "source": [
    "# ABC GAN Model"
   ]
  },
  {
   "cell_type": "code",
   "execution_count": 11,
   "id": "dfc3464d",
   "metadata": {
    "execution": {
     "iopub.execute_input": "2022-05-18T08:39:54.236174Z",
     "iopub.status.busy": "2022-05-18T08:39:54.235795Z",
     "iopub.status.idle": "2022-05-18T08:39:54.238297Z",
     "shell.execute_reply": "2022-05-18T08:39:54.238544Z"
    },
    "papermill": {
     "duration": 0.014834,
     "end_time": "2022-05-18T08:39:54.238653",
     "exception": false,
     "start_time": "2022-05-18T08:39:54.223819",
     "status": "completed"
    },
    "tags": []
   },
   "outputs": [],
   "source": [
    "gen = network.Generator(n_features+1).to(device)\n",
    "disc = network.Discriminator(n_features+1).to(device)\n",
    "\n",
    "criterion = torch.nn.BCELoss()\n",
    "gen_opt = torch.optim.Adam(gen.parameters(), lr=0.001, betas=(0.5, 0.999))\n",
    "disc_opt = torch.optim.Adam(disc.parameters(), lr=0.001, betas=(0.5, 0.999))"
   ]
  },
  {
   "cell_type": "code",
   "execution_count": 12,
   "id": "b75fdd85",
   "metadata": {
    "execution": {
     "iopub.execute_input": "2022-05-18T08:39:54.260101Z",
     "iopub.status.busy": "2022-05-18T08:39:54.259737Z",
     "iopub.status.idle": "2022-05-18T08:40:08.032909Z",
     "shell.execute_reply": "2022-05-18T08:40:08.033204Z"
    },
    "papermill": {
     "duration": 13.784922,
     "end_time": "2022-05-18T08:40:08.033332",
     "exception": false,
     "start_time": "2022-05-18T08:39:54.248410",
     "status": "completed"
    },
    "tags": []
   },
   "outputs": [
    {
     "data": {
      "image/png": "[encoded data removed]",
      "text/plain": [
       "<Figure size 432x288 with 1 Axes>"
      ]
     },
     "metadata": {
      "needs_background": "light"
     },
     "output_type": "display_data"
    },
    {
     "data": {
      "image/png": "[encoded data removed]",
      "text/plain": [
       "<Figure size 432x288 with 1 Axes>"
      ]
     },
     "metadata": {
      "needs_background": "light"
     },
     "output_type": "display_data"
    }
   ],
   "source": [
    "#Training the ABC_GAN \n",
    "ABC_train_test2.training_GAN(disc,gen,disc_opt,gen_opt,train_data,batch_size,n_epochs,criterion,prior_model,variance,0,device)"
   ]
  },
  {
   "cell_type": "code",
   "execution_count": 13,
   "id": "1fa7c368",
   "metadata": {
    "execution": {
     "iopub.execute_input": "2022-05-18T08:40:08.057277Z",
     "iopub.status.busy": "2022-05-18T08:40:08.056896Z",
     "iopub.status.idle": "2022-05-18T08:40:08.229692Z",
     "shell.execute_reply": "2022-05-18T08:40:08.229995Z"
    },
    "papermill": {
     "duration": 0.18602,
     "end_time": "2022-05-18T08:40:08.230121",
     "exception": false,
     "start_time": "2022-05-18T08:40:08.044101",
     "status": "completed"
    },
    "tags": []
   },
   "outputs": [
    {
     "data": {
      "application/scrapbook.scrap.json+json": {
       "data": 0.08073253204631721,
       "encoder": "json",
       "name": "ABC-GAN Model 1 MSE",
       "version": 1
      }
     },
     "metadata": {
      "scrapbook": {
       "data": true,
       "display": false,
       "name": "ABC-GAN Model 1 MSE"
      }
     },
     "output_type": "display_data"
    },
    {
     "data": {
      "application/scrapbook.scrap.json+json": {
       "data": 0.19570744541846216,
       "encoder": "json",
       "name": "ABC-GAN Model 1 MAE",
       "version": 1
      }
     },
     "metadata": {
      "scrapbook": {
       "data": true,
       "display": false,
       "name": "ABC-GAN Model 1 MAE"
      }
     },
     "output_type": "display_data"
    },
    {
     "data": {
      "application/scrapbook.scrap.json+json": {
       "data": 3.9141489083692433,
       "encoder": "json",
       "name": "ABC-GAN Model 1 Manhattan Distance",
       "version": 1
      }
     },
     "metadata": {
      "scrapbook": {
       "data": true,
       "display": false,
       "name": "ABC-GAN Model 1 Manhattan Distance"
      }
     },
     "output_type": "display_data"
    },
    {
     "data": {
      "application/scrapbook.scrap.json+json": {
       "data": 1.2704117638242607,
       "encoder": "json",
       "name": "ABC-GAN Model 1 Euclidean distance",
       "version": 1
      }
     },
     "metadata": {
      "scrapbook": {
       "data": true,
       "display": false,
       "name": "ABC-GAN Model 1 Euclidean distance"
      }
     },
     "output_type": "display_data"
    },
    {
     "data": {
      "application/scrapbook.scrap.json+json": {
       "data": [
        [
         0.07762411625512651,
         0.07993332736346402,
         0.08137760859118541,
         0.08541170839790355,
         0.07604980959464715,
         0.07972004208314575,
         0.08245487472875826,
         0.0809266136756644,
         0.0765411210196805,
         0.08415539174891572,
         0.0838008484521179,
         0.07970017473814255,
         0.0805243667618748,
         0.07931970012878667,
         0.08339379881019213,
         0.07974671931738794,
         0.07744820933446059,
         0.07789479128386169,
         0.07969971103953839,
         0.07625384977960656,
         0.08471474349275651,
         0.0765997183013595,
         0.07715915114443547,
         0.08046866887521596,
         0.0748327916700239,
         0.07626806083047377,
         0.07521052023725334,
         0.08124280997243245,
         0.0867074062395352,
         0.08257102645914659,
         0.08767789438957925,
         0.07892279151489442,
         0.08765060351153178,
         0.07643557224934831,
         0.0845953464429589,
         0.07554708907218272,
         0.08151972107447766,
         0.07653913003414062,
         0.08248847678528153,
         0.08499064389550608,
         0.08084697179765066,
         0.07564040165609079,
         0.08190548229128072,
         0.08484226453043439,
         0.08194908087252786,
         0.08726878384219963,
         0.07976614615681725,
         0.07786539728753301,
         0.08020142320881518,
         0.08207683460773965,
         0.07651245510886923,
         0.08293037366531109,
         0.08497367002113376,
         0.08224432422662407,
         0.07752886025759068,
         0.07402901839973383,
         0.0827236428273864,
         0.08049069183469225,
         0.0784668300014902,
         0.08637880976752658,
         0.07924827216434416,
         0.08064811664827624,
         0.07906423479816009,
         0.07854271174105255,
         0.08184502970408973,
         0.0807138888565033,
         0.08547767824956946,
         0.08226016929792578,
         0.08237114397205246,
         0.08511561184714832,
         0.08272036846096062,
         0.08117012707617025,
         0.07677952577583926,
         0.07604852704907186,
         0.0770086690079378,
         0.0823931545079702,
         0.08187514704656099,
         0.08317276329822673,
         0.07701602602783711,
         0.07938941159184967,
         0.08219282761865598,
         0.08290044988622733,
         0.07600338939294535,
         0.07735824858672344,
         0.0805922024341816,
         0.0804521345098507,
         0.08324259682618448,
         0.07827475789732449,
         0.08448816037638739,
         0.08486114499535229,
         0.08127309600149668,
         0.07679194904477789,
         0.0796155900675695,
         0.09093844108648794,
         0.07983371989344541,
         0.08175326205056742,
         0.0813416700472693,
         0.07839411459509871,
         0.08067019849549284,
         0.08665426204569436
        ],
        [
         0.18267882717773318,
         0.20112672699615358,
         0.1978254343383014,
         0.20844861837103962,
         0.19401296777650714,
         0.1954653191380203,
         0.20371211068704725,
         0.18450841782614588,
         0.18932293066754938,
         0.1986373039893806,
         0.20155568243935704,
         0.1933335774578154,
         0.18747533364221453,
         0.1969864177517593,
         0.1958691189996898,
         0.19655034514144062,
         0.18652042327448726,
         0.18285892913118004,
         0.1893105329014361,
         0.1853970224969089,
         0.21211095405742525,
         0.19158825678750874,
         0.19442269382998348,
         0.19675020081922412,
         0.1850518967024982,
         0.1930968386121094,
         0.18654450615867973,
         0.20008791582658886,
         0.20985686974599957,
         0.199155795853585,
         0.20726686166599392,
         0.18740692986175417,
         0.20421981243416668,
         0.18592195464298128,
         0.20240440564230083,
         0.1873416039161384,
         0.20990749793127178,
         0.1899743930436671,
         0.18888657027855515,
         0.20224479688331484,
         0.18975098142400385,
         0.1869845206849277,
         0.1898222372867167,
         0.1977389628998935,
         0.2040648746304214,
         0.21208054544404148,
         0.18738860515877603,
         0.18498654840514064,
         0.20085618468001484,
         0.20728257009759546,
         0.19558745650574566,
         0.19948549373075367,
         0.20768973054364323,
         0.1973288136534393,
         0.19030800489708782,
         0.1779058317653835,
         0.20064940908923745,
         0.19698333768174053,
         0.189308353792876,
         0.2098969724960625,
         0.19872669437900187,
         0.19050492765381932,
         0.20314857782796025,
         0.19053985374048352,
         0.19510036883875728,
         0.19766032947227358,
         0.20673158345744014,
         0.19723927257582546,
         0.20028408402577041,
         0.21077106846496463,
         0.19548406777903438,
         0.19574320735409856,
         0.188986833114177,
         0.19197985036298632,
         0.1895479810424149,
         0.19335348913446068,
         0.19716291753575205,
         0.20473556546494365,
         0.18817103607580066,
         0.19002170516178013,
         0.1991269308142364,
         0.19175046710297466,
         0.18395125968381762,
         0.19088633926585316,
         0.19375129090622067,
         0.18984989272430539,
         0.1961488981731236,
         0.19525495944544674,
         0.1999581222422421,
         0.20731460461392998,
         0.19208253910765052,
         0.18994202939793467,
         0.19491543797776104,
         0.20821170145645737,
         0.1980920928530395,
         0.1944909636862576,
         0.1874458455480635,
         0.1911103175021708,
         0.2080272446386516,
         0.2006039614789188
        ],
        [
         3.6535765435546637,
         4.022534539923072,
         3.9565086867660284,
         4.168972367420793,
         3.880259355530143,
         3.9093063827604055,
         4.074242213740945,
         3.6901683565229177,
         3.7864586133509874,
         3.972746079787612,
         4.031113648787141,
         3.866671549156308,
         3.7495066728442907,
         3.939728355035186,
         3.9173823799937963,
         3.9310069028288126,
         3.730408465489745,
         3.657178582623601,
         3.786210658028722,
         3.707940449938178,
         4.242219081148505,
         3.8317651357501745,
         3.8884538765996695,
         3.9350040163844824,
         3.701037934049964,
         3.8619367722421885,
         3.7308901231735945,
         4.001758316531777,
         4.1971373949199915,
         3.9831159170717,
         4.145337233319879,
         3.7481385972350836,
         4.084396248683333,
         3.718439092859626,
         4.048088112846017,
         3.746832078322768,
         4.198149958625436,
         3.7994878608733416,
         3.777731405571103,
         4.044895937666297,
         3.795019628480077,
         3.739690413698554,
         3.796444745734334,
         3.9547792579978704,
         4.081297492608428,
         4.24161090888083,
         3.747772103175521,
         3.6997309681028128,
         4.017123693600297,
         4.145651401951909,
         3.911749130114913,
         3.989709874615073,
         4.153794610872865,
         3.9465762730687857,
         3.8061600979417562,
         3.5581166353076696,
         4.012988181784749,
         3.9396667536348104,
         3.78616707585752,
         4.19793944992125,
         3.974533887580037,
         3.8100985530763865,
         4.062971556559205,
         3.8107970748096704,
         3.9020073767751455,
         3.9532065894454718,
         4.134631669148803,
         3.944785451516509,
         4.0056816805154085,
         4.215421369299293,
         3.9096813555806875,
         3.914864147081971,
         3.7797366622835398,
         3.8395970072597265,
         3.790959620848298,
         3.8670697826892138,
         3.943258350715041,
         4.094711309298873,
         3.763420721516013,
         3.8004341032356024,
         3.982538616284728,
         3.835009342059493,
         3.6790251936763525,
         3.8177267853170633,
         3.8750258181244135,
         3.796997854486108,
         3.922977963462472,
         3.9050991889089346,
         3.999162444844842,
         4.1462920922786,
         3.8416507821530104,
         3.7988405879586935,
         3.8983087595552206,
         4.1642340291291475,
         3.96184185706079,
         3.889819273725152,
         3.7489169109612703,
         3.822206350043416,
         4.160544892773032,
         4.012079229578376
        ],
        [
         1.2459864867254902,
         1.2643838607279358,
         1.2757555298033039,
         1.3069943259089043,
         1.2332867435811279,
         1.2626958626933547,
         1.2841719100553342,
         1.272215498063629,
         1.2372640867630524,
         1.2973464591150332,
         1.294610740354937,
         1.2625385121899653,
         1.2690497765011017,
         1.2595213386742337,
         1.291462727376924,
         1.2629071170706732,
         1.2445738976409606,
         1.2481569715693752,
         1.2625348394364284,
         1.2349400777333819,
         1.3016508248586216,
         1.2377375998276816,
         1.2422491790654198,
         1.268610806159367,
         1.2233788593074828,
         1.2350551471936286,
         1.2264625574166814,
         1.2746984739336003,
         1.3168705801219436,
         1.2850760791419829,
         1.3242197279120957,
         1.2563661211199102,
         1.3240136216182354,
         1.2364107104789113,
         1.3007332273987537,
         1.2292037184468871,
         1.2768689915138334,
         1.237247994818667,
         1.2844335466288752,
         1.3037687210199982,
         1.2715893346332428,
         1.2299626145220088,
         1.2798865753751834,
         1.3026301434439047,
         1.2802271741572109,
         1.3211266694923665,
         1.2630609340551804,
         1.2479214501524767,
         1.2665024532847553,
         1.2812246844932365,
         1.2370323771742535,
         1.2878693541296111,
         1.3036385236800403,
         1.282531280138025,
         1.2452217493891653,
         1.2167910124564023,
         1.2862631365889827,
         1.2687843933048062,
         1.2527316552357908,
         1.3143729285672814,
         1.2589541069025842,
         1.2700245403005113,
         1.257491429777238,
         1.253337239062596,
         1.2794141604976064,
         1.270542316150889,
         1.3074989732276616,
         1.282654819489061,
         1.283519723043261,
         1.304726882126281,
         1.286237679909593,
         1.274128149568718,
         1.2391894590887969,
         1.2332763441262615,
         1.2410372194897121,
         1.283691197352153,
         1.2796495383233724,
         1.2897500788775067,
         1.2410964992927593,
         1.260074692959506,
         1.2821296940532654,
         1.287636982120561,
         1.2329102918943078,
         1.243850863944094,
         1.269584203069506,
         1.2684804650435157,
         1.2902914153491412,
         1.2511974895860725,
         1.299908922781803,
         1.3027750764836752,
         1.274936045466569,
         1.2392897082182026,
         1.2618683771897092,
         1.3486173741019944,
         1.2635958206123143,
         1.2786966962541775,
         1.2754737946917554,
         1.2521510659269408,
         1.2701983978536018,
         1.3164669539771545
        ]
       ],
       "encoder": "json",
       "name": "ABC_GAN_1 Metrics",
       "version": 1
      }
     },
     "metadata": {
      "scrapbook": {
       "data": true,
       "display": false,
       "name": "ABC_GAN_1 Metrics"
      }
     },
     "output_type": "display_data"
    },
    {
     "name": "stdout",
     "output_type": "stream",
     "text": [
      "MSE\n",
      "0.08073253204631721\n"
     ]
    }
   ],
   "source": [
    "ABC_GAN1_metrics=ABC_train_test2.test_generator(gen,test_data,prior_model,variance,0,\"1\",device)\n",
    "sb.glue(\"ABC_GAN_1 Metrics\",ABC_GAN1_metrics)\n",
    "\n",
    "print(\"MSE\")\n",
    "print(mean(ABC_GAN1_metrics[0]))"
   ]
  },
  {
   "cell_type": "code",
   "execution_count": 14,
   "id": "eb22ce5c",
   "metadata": {
    "execution": {
     "iopub.execute_input": "2022-05-18T08:40:08.256730Z",
     "iopub.status.busy": "2022-05-18T08:40:08.256367Z",
     "iopub.status.idle": "2022-05-18T08:40:08.554789Z",
     "shell.execute_reply": "2022-05-18T08:40:08.555098Z"
    },
    "papermill": {
     "duration": 0.312837,
     "end_time": "2022-05-18T08:40:08.555221",
     "exception": false,
     "start_time": "2022-05-18T08:40:08.242384",
     "status": "completed"
    },
    "tags": []
   },
   "outputs": [
    {
     "data": {
      "image/png": "[encoded data removed]",
      "text/plain": [
       "<Figure size 432x288 with 1 Axes>"
      ]
     },
     "metadata": {
      "needs_background": "light"
     },
     "output_type": "display_data"
    },
    {
     "data": {
      "image/png": "[encoded data removed]",
      "text/plain": [
       "<Figure size 432x288 with 1 Axes>"
      ]
     },
     "metadata": {
      "needs_background": "light"
     },
     "output_type": "display_data"
    },
    {
     "data": {
      "image/png": "[encoded data removed]",
      "text/plain": [
       "<Figure size 432x288 with 1 Axes>"
      ]
     },
     "metadata": {
      "needs_background": "light"
     },
     "output_type": "display_data"
    },
    {
     "data": {
      "image/png": "[encoded data removed]",
      "text/plain": [
       "<Figure size 432x288 with 1 Axes>"
      ]
     },
     "metadata": {
      "needs_background": "light"
     },
     "output_type": "display_data"
    }
   ],
   "source": [
    "sanityChecks.discProbVsError(train_data,disc,device)\n",
    "sanityChecks.discProbVsError(test_data,disc,device)"
   ]
  },
  {
   "cell_type": "markdown",
   "id": "130f3a4d",
   "metadata": {
    "id": "130f3a4d",
    "papermill": {
     "duration": 0.014978,
     "end_time": "2022-05-18T08:40:08.584730",
     "exception": false,
     "start_time": "2022-05-18T08:40:08.569752",
     "status": "completed"
    },
    "tags": []
   },
   "source": [
    "# ABC - GAN Model with skip connection"
   ]
  },
  {
   "cell_type": "code",
   "execution_count": 15,
   "id": "4e43dad1",
   "metadata": {
    "execution": {
     "iopub.execute_input": "2022-05-18T08:40:08.616790Z",
     "iopub.status.busy": "2022-05-18T08:40:08.616399Z",
     "iopub.status.idle": "2022-05-18T08:40:08.618579Z",
     "shell.execute_reply": "2022-05-18T08:40:08.618833Z"
    },
    "id": "4e43dad1",
    "papermill": {
     "duration": 0.019813,
     "end_time": "2022-05-18T08:40:08.618944",
     "exception": false,
     "start_time": "2022-05-18T08:40:08.599131",
     "status": "completed"
    },
    "tags": []
   },
   "outputs": [],
   "source": [
    "#Generator\n",
    "gen3 = network.GeneratorWithSkipConnection(n_features+1).to(device)\n",
    "constraints=network.weightConstraint()\n",
    "#Discriminator \n",
    "disc3 = network.Discriminator(n_features+1).to(device)\n",
    "\n",
    "criterion = torch.nn.BCELoss()\n",
    "gen_opt = torch.optim.Adam(gen3.parameters(), lr=0.001, betas=(0.5, 0.999))\n",
    "disc_opt = torch.optim.Adam(disc3.parameters(), lr=0.001, betas=(0.5, 0.999))\n"
   ]
  },
  {
   "cell_type": "code",
   "execution_count": 16,
   "id": "26acbc37",
   "metadata": {
    "execution": {
     "iopub.execute_input": "2022-05-18T08:40:08.649964Z",
     "iopub.status.busy": "2022-05-18T08:40:08.649607Z",
     "iopub.status.idle": "2022-05-18T08:40:45.869146Z",
     "shell.execute_reply": "2022-05-18T08:40:45.869467Z"
    },
    "id": "26acbc37",
    "papermill": {
     "duration": 37.236313,
     "end_time": "2022-05-18T08:40:45.869591",
     "exception": false,
     "start_time": "2022-05-18T08:40:08.633278",
     "status": "completed"
    },
    "tags": []
   },
   "outputs": [
    {
     "data": {
      "image/png": "[encoded data removed]",
      "text/plain": [
       "<Figure size 432x288 with 1 Axes>"
      ]
     },
     "metadata": {
      "needs_background": "light"
     },
     "output_type": "display_data"
    },
    {
     "data": {
      "image/png": "[encoded data removed]",
      "text/plain": [
       "<Figure size 432x288 with 1 Axes>"
      ]
     },
     "metadata": {
      "needs_background": "light"
     },
     "output_type": "display_data"
    }
   ],
   "source": [
    "ABC_train_test2.training_GAN_skip_connection(disc3,gen3,disc_opt,gen_opt,train_data,batch_size,n_epochs,criterion,prior_model,variance,0,device)"
   ]
  },
  {
   "cell_type": "code",
   "execution_count": 17,
   "id": "c5e0717b",
   "metadata": {
    "execution": {
     "iopub.execute_input": "2022-05-18T08:40:45.903137Z",
     "iopub.status.busy": "2022-05-18T08:40:45.902638Z",
     "iopub.status.idle": "2022-05-18T08:40:46.173809Z",
     "shell.execute_reply": "2022-05-18T08:40:46.174134Z"
    },
    "id": "c5e0717b",
    "papermill": {
     "duration": 0.289215,
     "end_time": "2022-05-18T08:40:46.174258",
     "exception": false,
     "start_time": "2022-05-18T08:40:45.885043",
     "status": "completed"
    },
    "tags": []
   },
   "outputs": [
    {
     "data": {
      "application/scrapbook.scrap.json+json": {
       "data": 0.07389724766437111,
       "encoder": "json",
       "name": "ABC-GAN Model 3 MSE",
       "version": 1
      }
     },
     "metadata": {
      "scrapbook": {
       "data": true,
       "display": false,
       "name": "ABC-GAN Model 3 MSE"
      }
     },
     "output_type": "display_data"
    },
    {
     "data": {
      "application/scrapbook.scrap.json+json": {
       "data": 0.1925867758691311,
       "encoder": "json",
       "name": "ABC-GAN Model 3 MAE",
       "version": 1
      }
     },
     "metadata": {
      "scrapbook": {
       "data": true,
       "display": false,
       "name": "ABC-GAN Model 3 MAE"
      }
     },
     "output_type": "display_data"
    },
    {
     "data": {
      "application/scrapbook.scrap.json+json": {
       "data": 3.8517355173826218,
       "encoder": "json",
       "name": "ABC-GAN Model 3 Manhattan Distance",
       "version": 1
      }
     },
     "metadata": {
      "scrapbook": {
       "data": true,
       "display": false,
       "name": "ABC-GAN Model 3 Manhattan Distance"
      }
     },
     "output_type": "display_data"
    },
    {
     "data": {
      "application/scrapbook.scrap.json+json": {
       "data": 1.2136488234986225,
       "encoder": "json",
       "name": "ABC-GAN Model 3 Euclidean distance",
       "version": 1
      }
     },
     "metadata": {
      "scrapbook": {
       "data": true,
       "display": false,
       "name": "ABC-GAN Model 3 Euclidean distance"
      }
     },
     "output_type": "display_data"
    },
    {
     "data": {
      "application/scrapbook.scrap.json+json": {
       "data": [
        [
         0.0850849340542121,
         0.07385173117226522,
         0.08313888691786606,
         0.07922069781964662,
         0.07464844991215935,
         0.09023052914277999,
         0.07862730328189843,
         0.05883117617471475,
         0.07038719673515899,
         0.0742833424652137,
         0.07629791668124866,
         0.07498808511550248,
         0.07185826819249043,
         0.07709079047671515,
         0.06777083795091128,
         0.06936959022998798,
         0.06403914126000847,
         0.07441607045876775,
         0.07471812803298154,
         0.07437055968963943,
         0.07440612502605845,
         0.06264698698277711,
         0.0769845344308995,
         0.06516994291651113,
         0.06948506072166724,
         0.06340003554823789,
         0.06296058554403619,
         0.07093668322289273,
         0.07896633741978495,
         0.07345881429445575,
         0.07435591131922825,
         0.0717899932543297,
         0.08961564192727768,
         0.06542056772149037,
         0.0853546742550095,
         0.07143108035607801,
         0.06770292932094395,
         0.09361489424107329,
         0.0750424672052469,
         0.06223195521830902,
         0.06794013979829973,
         0.07211456845404504,
         0.09713426081341929,
         0.07615356812534071,
         0.07571254735009511,
         0.08154947592350718,
         0.0644296311830042,
         0.06993765859039916,
         0.09025978180088327,
         0.06460975428339868,
         0.06262250310362591,
         0.0778281123135907,
         0.0648018880900103,
         0.07788789331435217,
         0.0872356174820776,
         0.08814209736664595,
         0.0660832816518933,
         0.07661397268309482,
         0.07584800041276281,
         0.06714230823744316,
         0.06974927692575263,
         0.08725106864459309,
         0.0868532698003556,
         0.07190025773295264,
         0.06998762953113771,
         0.08570878664072375,
         0.08453102433099915,
         0.06287483555557447,
         0.06688465112252166,
         0.06428772981868014,
         0.07131634826915553,
         0.07545836607174587,
         0.07166534070454708,
         0.05993698992221959,
         0.10137991328195999,
         0.07695266817627497,
         0.08238016615153802,
         0.06783201012567555,
         0.08056982559402395,
         0.08155014118087656,
         0.06733302305491104,
         0.06383605327099226,
         0.07680000004494694,
         0.0768023809777123,
         0.0771418188910992,
         0.08243079106417225,
         0.07100948142719887,
         0.07049380757790157,
         0.07889661481445347,
         0.06912327927826087,
         0.08742453240322841,
         0.06501711623569575,
         0.06014799095962433,
         0.06179427117661136,
         0.07687028853710931,
         0.0692042216550806,
         0.06794691330040355,
         0.06493775883969838,
         0.06292252572132515,
         0.06827567995701316
        ],
        [
         0.2070253354497254,
         0.199486846011132,
         0.19571981141343714,
         0.2071518731303513,
         0.1911809762008488,
         0.22442701356485487,
         0.203210196364671,
         0.17120341705158354,
         0.18919958239421247,
         0.19076038198545575,
         0.19518705876544118,
         0.18125292705371976,
         0.19090257035568356,
         0.19101330684497952,
         0.17854953510686755,
         0.18780329274013638,
         0.16710764514282345,
         0.1852123954333365,
         0.20213958071544766,
         0.1902160477824509,
         0.20342063205316663,
         0.17795510878786444,
         0.19279254460707307,
         0.18001627819612623,
         0.18881741939112545,
         0.1654687815345824,
         0.17573461653664707,
         0.19190772799775005,
         0.1929115922190249,
         0.17863728227093817,
         0.17577234590426088,
         0.2044393134303391,
         0.2073383721522987,
         0.1735341195948422,
         0.20231877984479069,
         0.1873689320869744,
         0.18290085913613438,
         0.19544313522055745,
         0.199378362018615,
         0.1800927178002894,
         0.1707728155888617,
         0.1908283275552094,
         0.18511258559301497,
         0.19577438132837416,
         0.19306166665628552,
         0.20161974551156164,
         0.176941932272166,
         0.18436355935409665,
         0.20853347340598702,
         0.17929801242426038,
         0.16843755627050996,
         0.18274003388360144,
         0.18651992520317434,
         0.20211661821231247,
         0.22379402173683047,
         0.2052975376136601,
         0.18090146677568555,
         0.20270223943516613,
         0.20258520068600774,
         0.1862699673511088,
         0.17599664041772484,
         0.18872574688866733,
         0.218885285127908,
         0.2036791612394154,
         0.196743003744632,
         0.2079351727850735,
         0.21975934850051998,
         0.18355493592098354,
         0.18645006464794278,
         0.18120309012010694,
         0.19472641618922354,
         0.18863871591165662,
         0.20589129300788045,
         0.17013731906190516,
         0.22836834164336323,
         0.1943209615536034,
         0.219633902143687,
         0.19484946141019463,
         0.2120677282102406,
         0.22378839524462818,
         0.18283301005139946,
         0.18431938784196972,
         0.19020935902372002,
         0.20787067459896208,
         0.19739678958430887,
         0.22261524545028805,
         0.19154856661334635,
         0.18773625390604137,
         0.20434801550582052,
         0.18892213283106685,
         0.2172296022064984,
         0.1823825259692967,
         0.1696825568564236,
         0.18468985417857767,
         0.19146943287923932,
         0.18453957559540868,
         0.1966983330436051,
         0.17537128524854778,
         0.18061206983402373,
         0.1901781507767737
        ],
        [
         4.140506708994508,
         3.98973692022264,
         3.9143962282687426,
         4.143037462607026,
         3.8236195240169764,
         4.488540271297097,
         4.06420392729342,
         3.4240683410316706,
         3.7839916478842497,
         3.815207639709115,
         3.9037411753088236,
         3.625058541074395,
         3.8180514071136713,
         3.8202661368995905,
         3.570990702137351,
         3.7560658548027277,
         3.342152902856469,
         3.70424790866673,
         4.042791614308953,
         3.8043209556490183,
         4.068412641063333,
         3.559102175757289,
         3.8558508921414614,
         3.6003255639225245,
         3.776348387822509,
         3.3093756306916475,
         3.5146923307329416,
         3.838154559955001,
         3.858231844380498,
         3.572745645418763,
         3.5154469180852175,
         4.088786268606782,
         4.146767443045974,
         3.470682391896844,
         4.046375596895814,
         3.7473786417394876,
         3.6580171827226877,
         3.908862704411149,
         3.9875672403723,
         3.601854356005788,
         3.415456311777234,
         3.816566551104188,
         3.702251711860299,
         3.915487626567483,
         3.8612333331257105,
         4.032394910231233,
         3.5388386454433203,
         3.687271187081933,
         4.1706694681197405,
         3.5859602484852076,
         3.368751125410199,
         3.6548006776720285,
         3.730398504063487,
         4.042332364246249,
         4.4758804347366095,
         4.105950752273202,
         3.618029335513711,
         4.054044788703322,
         4.051704013720155,
         3.725399347022176,
         3.519932808354497,
         3.774514937773347,
         4.37770570255816,
         4.073583224788308,
         3.93486007489264,
         4.15870345570147,
         4.3951869700104,
         3.671098718419671,
         3.7290012929588556,
         3.6240618024021387,
         3.8945283237844706,
         3.7727743182331324,
         4.117825860157609,
         3.402746381238103,
         4.567366832867265,
         3.886419231072068,
         4.39267804287374,
         3.8969892282038927,
         4.241354564204812,
         4.475767904892564,
         3.6566602010279894,
         3.6863877568393946,
         3.8041871804744005,
         4.157413491979241,
         3.9479357916861773,
         4.452304909005761,
         3.8309713322669268,
         3.7547250781208277,
         4.08696031011641,
         3.778442656621337,
         4.344592044129968,
         3.647650519385934,
         3.3936511371284723,
         3.6937970835715532,
         3.8293886575847864,
         3.6907915119081736,
         3.933966660872102,
         3.507425704970956,
         3.6122413966804743,
         3.803563015535474
        ],
        [
         1.3044917328539272,
         1.2153331327028423,
         1.289487393640326,
         1.2587350620336801,
         1.2218711054130003,
         1.343357950382399,
         1.254011987836627,
         1.0847227864732514,
         1.1864838535366504,
         1.2188793415692443,
         1.2352968605258305,
         1.2246475829029546,
         1.1988183197840316,
         1.2416987595766948,
         1.1642236722461135,
         1.1778759716539597,
         1.1317167601481253,
         1.2199677902204447,
         1.2224412299409861,
         1.2195946842261935,
         1.2198862654039389,
         1.1193479082285105,
         1.2408427332333416,
         1.1416649501190017,
         1.1788558921400634,
         1.1260553765089698,
         1.1221460292139895,
         1.191106067677373,
         1.2567126753541158,
         1.2120958237239805,
         1.2194745697982246,
         1.1982486657979614,
         1.3387728853489502,
         1.1438581006531394,
         1.3065578766745047,
         1.1952496003436102,
         1.1636402306636184,
         1.368319365068501,
         1.225091565600277,
         1.1156339472991041,
         1.165676968960953,
         1.2009543576176829,
         1.3938024308589745,
         1.2341277739791834,
         1.2305490429080437,
         1.2771020000258961,
         1.1351619371966644,
         1.1826889581829971,
         1.3435756904684104,
         1.1367475910104115,
         1.119129153436956,
         1.2476226377682533,
         1.1384365427199736,
         1.2481017051054146,
         1.3208755996086656,
         1.327720583305433,
         1.1496371745197989,
         1.2378527592819335,
         1.2316493040858896,
         1.1588123941125514,
         1.1810950590511555,
         1.3209925710963941,
         1.317977767645233,
         1.1991685263794463,
         1.183111402456571,
         1.3092653408742152,
         1.300238626798936,
         1.121381608156425,
         1.1565867984939278,
         1.133911194218314,
         1.1942893139365816,
         1.2284817139196325,
         1.1972079243351765,
         1.0948697632341446,
         1.423937591904645,
         1.2405858952630002,
         1.2835900136066658,
         1.164748986912421,
         1.2694079375364244,
         1.2771072091322369,
         1.1604570052777574,
         1.129920822633093,
         1.2393546711490375,
         1.2393738820687832,
         1.242109648067345,
         1.2839843539870122,
         1.1917170924946816,
         1.1873820579569287,
         1.256157751354928,
         1.1757829670331246,
         1.3223050510621852,
         1.1403255345356058,
         1.0967952494392408,
         1.1117038380487076,
         1.2399216792774397,
         1.1764711781856843,
         1.1657350753958082,
         1.1396294032684342,
         1.121806807978318,
         1.1685519240240303
        ]
       ],
       "encoder": "json",
       "name": "ABC_GAN_3 Metrics",
       "version": 1
      }
     },
     "metadata": {
      "scrapbook": {
       "data": true,
       "display": false,
       "name": "ABC_GAN_3 Metrics"
      }
     },
     "output_type": "display_data"
    },
    {
     "name": "stdout",
     "output_type": "stream",
     "text": [
      "MSE\n",
      "0.07389724766437111\n"
     ]
    }
   ],
   "source": [
    "ABC_GAN3_metrics=ABC_train_test2.test_generator(gen3,test_data,prior_model,variance,0,\"3\",device)\n",
    "sb.glue(\"ABC_GAN_3 Metrics\",ABC_GAN3_metrics)\n",
    "\n",
    "print(\"MSE\")\n",
    "print(mean(ABC_GAN3_metrics[0]))"
   ]
  },
  {
   "cell_type": "code",
   "execution_count": 18,
   "id": "c8e46b48",
   "metadata": {
    "execution": {
     "iopub.execute_input": "2022-05-18T08:40:46.234007Z",
     "iopub.status.busy": "2022-05-18T08:40:46.233649Z",
     "iopub.status.idle": "2022-05-18T08:40:46.521136Z",
     "shell.execute_reply": "2022-05-18T08:40:46.521447Z"
    },
    "id": "c8e46b48",
    "papermill": {
     "duration": 0.307442,
     "end_time": "2022-05-18T08:40:46.521573",
     "exception": false,
     "start_time": "2022-05-18T08:40:46.214131",
     "status": "completed"
    },
    "tags": []
   },
   "outputs": [
    {
     "data": {
      "image/png": "[encoded data removed]",
      "text/plain": [
       "<Figure size 432x288 with 1 Axes>"
      ]
     },
     "metadata": {
      "needs_background": "light"
     },
     "output_type": "display_data"
    },
    {
     "data": {
      "image/png": "[encoded data removed]",
      "text/plain": [
       "<Figure size 432x288 with 1 Axes>"
      ]
     },
     "metadata": {
      "needs_background": "light"
     },
     "output_type": "display_data"
    },
    {
     "data": {
      "image/png": "[encoded data removed]",
      "text/plain": [
       "<Figure size 432x288 with 1 Axes>"
      ]
     },
     "metadata": {
      "needs_background": "light"
     },
     "output_type": "display_data"
    },
    {
     "data": {
      "image/png": "[encoded data removed]",
      "text/plain": [
       "<Figure size 432x288 with 1 Axes>"
      ]
     },
     "metadata": {
      "needs_background": "light"
     },
     "output_type": "display_data"
    }
   ],
   "source": [
    "sanityChecks.discProbVsError(train_data,disc3,device)\n",
    "sanityChecks.discProbVsError(test_data,disc3,device)"
   ]
  },
  {
   "cell_type": "markdown",
   "id": "a5bd74c3",
   "metadata": {
    "id": "a5bd74c3",
    "papermill": {
     "duration": 0.019013,
     "end_time": "2022-05-18T08:40:46.559925",
     "exception": false,
     "start_time": "2022-05-18T08:40:46.540912",
     "status": "completed"
    },
    "tags": []
   },
   "source": [
    "## Skip Connection Model Analysis - ABC-GAN "
   ]
  },
  {
   "cell_type": "markdown",
   "id": "5744a8bf",
   "metadata": {
    "id": "5744a8bf",
    "papermill": {
     "duration": 0.018771,
     "end_time": "2022-05-18T08:40:46.597572",
     "exception": false,
     "start_time": "2022-05-18T08:40:46.578801",
     "status": "completed"
    },
    "tags": []
   },
   "source": [
    "### Weight Analysis \n",
    "\n",
    "Study the weights of the skip connection layer\n",
    "\n",
    "Equation of the skip connection is \n",
    "\n",
    "$output = y_{gan} * w + y_{abc} * (1-w)$"
   ]
  },
  {
   "cell_type": "code",
   "execution_count": 19,
   "id": "52c31dea",
   "metadata": {
    "execution": {
     "iopub.execute_input": "2022-05-18T08:40:46.638245Z",
     "iopub.status.busy": "2022-05-18T08:40:46.637827Z",
     "iopub.status.idle": "2022-05-18T08:40:46.641149Z",
     "shell.execute_reply": "2022-05-18T08:40:46.641382Z"
    },
    "id": "52c31dea",
    "papermill": {
     "duration": 0.025183,
     "end_time": "2022-05-18T08:40:46.641499",
     "exception": false,
     "start_time": "2022-05-18T08:40:46.616316",
     "status": "completed"
    },
    "tags": []
   },
   "outputs": [
    {
     "name": "stdout",
     "output_type": "stream",
     "text": [
      "Weight of the node at skip connection\n",
      "Parameter containing:\n",
      "tensor([[0.4433]], requires_grad=True)\n"
     ]
    },
    {
     "data": {
      "application/scrapbook.scrap.json+json": {
       "data": 0.4432592988014221,
       "encoder": "json",
       "name": "Skip Connection Weight",
       "version": 1
      }
     },
     "metadata": {
      "scrapbook": {
       "data": true,
       "display": false,
       "name": "Skip Connection Weight"
      }
     },
     "output_type": "display_data"
    }
   ],
   "source": [
    "print(\"Weight of the node at skip connection\")\n",
    "for name,param in gen3.named_parameters():\n",
    "    if(name == \"skipNode.weight\"):\n",
    "        print(param)\n",
    "        sb.glue(\"Skip Connection Weight\",param.item())"
   ]
  }
 ],
 "metadata": {
  "colab": {
   "collapsed_sections": [],
   "name": "ABC_GAN_Model-Catboost_Pre-gen.ipynb",
   "provenance": []
  },
  "interpreter": {
   "hash": "31f2aee4e71d21fbe5cf8b01ff0e069b9275f58929596ceb00d14d90e3e16cd6"
  },
  "kernelspec": {
   "display_name": "Python 3 (ipykernel)",
   "language": "python",
   "name": "python3"
  },
  "language_info": {
   "codemirror_mode": {
    "name": "ipython",
    "version": 3
   },
   "file_extension": ".py",
   "mimetype": "text/x-python",
   "name": "python",
   "nbconvert_exporter": "python",
   "pygments_lexer": "ipython3",
   "version": "3.8.11"
  },
  "papermill": {
   "default_parameters": {},
   "duration": 56.39524,
   "end_time": "2022-05-18T08:40:46.968130",
   "environment_variables": {},
   "exception": null,
   "input_path": "ABC_GAN-Catboost.ipynb",
   "output_path": "./ABC_GAN_Catboost/ABC-GAN_output_7_0.ipynb",
   "parameters": {
    "variance": 1
   },
   "start_time": "2022-05-18T08:39:50.572890",
   "version": "2.3.3"
  }
 },
 "nbformat": 4,
 "nbformat_minor": 5
}