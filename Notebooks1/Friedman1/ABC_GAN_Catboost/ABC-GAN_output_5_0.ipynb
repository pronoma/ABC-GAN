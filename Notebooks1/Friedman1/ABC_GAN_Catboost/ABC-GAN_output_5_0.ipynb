{
 "cells": [
  {
   "cell_type": "markdown",
   "id": "622780e6",
   "metadata": {
    "id": "622780e6",
    "papermill": {
     "duration": 0.0278,
     "end_time": "2022-05-18T08:34:11.262559",
     "exception": false,
     "start_time": "2022-05-18T08:34:11.234759",
     "status": "completed"
    },
    "tags": []
   },
   "source": [
    "## Import Libraries "
   ]
  },
  {
   "cell_type": "code",
   "execution_count": 1,
   "id": "a62397e3",
   "metadata": {
    "execution": {
     "iopub.execute_input": "2022-05-18T08:34:11.283906Z",
     "iopub.status.busy": "2022-05-18T08:34:11.283412Z",
     "iopub.status.idle": "2022-05-18T08:34:11.285569Z",
     "shell.execute_reply": "2022-05-18T08:34:11.285841Z"
    },
    "id": "a62397e3",
    "papermill": {
     "duration": 0.015175,
     "end_time": "2022-05-18T08:34:11.286022",
     "exception": false,
     "start_time": "2022-05-18T08:34:11.270847",
     "status": "completed"
    },
    "tags": []
   },
   "outputs": [],
   "source": [
    "import warnings\n",
    "import sys\n",
    "sys.path.insert(0, '../../src')\n",
    "warnings.filterwarnings('ignore')"
   ]
  },
  {
   "cell_type": "code",
   "execution_count": 2,
   "id": "d6a4e155",
   "metadata": {
    "execution": {
     "iopub.execute_input": "2022-05-18T08:34:11.303274Z",
     "iopub.status.busy": "2022-05-18T08:34:11.302873Z",
     "iopub.status.idle": "2022-05-18T08:34:13.269594Z",
     "shell.execute_reply": "2022-05-18T08:34:13.269859Z"
    },
    "id": "d6a4e155",
    "papermill": {
     "duration": 1.976601,
     "end_time": "2022-05-18T08:34:13.270000",
     "exception": false,
     "start_time": "2022-05-18T08:34:11.293399",
     "status": "completed"
    },
    "tags": []
   },
   "outputs": [],
   "source": [
    "import ABC_train_test2\n",
    "import friedman1Dataset\n",
    "import network\n",
    "import dataset\n",
    "import sanityChecks\n",
    "import torch \n",
    "import scrapbook as sb\n",
    "from statistics import mean \n",
    "import catboost as ctb \n",
    "from sklearn.model_selection import train_test_split\n",
    "from sklearn.metrics import mean_squared_error,mean_absolute_error\n",
    "import numpy as np"
   ]
  },
  {
   "cell_type": "markdown",
   "id": "2fa5b0f7",
   "metadata": {
    "id": "2fa5b0f7",
    "papermill": {
     "duration": 0.007272,
     "end_time": "2022-05-18T08:34:13.284699",
     "exception": false,
     "start_time": "2022-05-18T08:34:13.277427",
     "status": "completed"
    },
    "tags": []
   },
   "source": [
    "## Parameters "
   ]
  },
  {
   "cell_type": "code",
   "execution_count": 3,
   "id": "783186fb",
   "metadata": {
    "execution": {
     "iopub.execute_input": "2022-05-18T08:34:13.302218Z",
     "iopub.status.busy": "2022-05-18T08:34:13.301827Z",
     "iopub.status.idle": "2022-05-18T08:34:13.303270Z",
     "shell.execute_reply": "2022-05-18T08:34:13.303607Z"
    },
    "id": "783186fb",
    "papermill": {
     "duration": 0.0119,
     "end_time": "2022-05-18T08:34:13.303751",
     "exception": false,
     "start_time": "2022-05-18T08:34:13.291851",
     "status": "completed"
    },
    "tags": [
     "parameters"
    ]
   },
   "outputs": [],
   "source": [
    "variance = 1"
   ]
  },
  {
   "cell_type": "code",
   "execution_count": 4,
   "id": "f8646594",
   "metadata": {
    "execution": {
     "iopub.execute_input": "2022-05-18T08:34:13.320655Z",
     "iopub.status.busy": "2022-05-18T08:34:13.320284Z",
     "iopub.status.idle": "2022-05-18T08:34:13.321575Z",
     "shell.execute_reply": "2022-05-18T08:34:13.321823Z"
    },
    "papermill": {
     "duration": 0.010839,
     "end_time": "2022-05-18T08:34:13.321936",
     "exception": false,
     "start_time": "2022-05-18T08:34:13.311097",
     "status": "completed"
    },
    "tags": [
     "injected-parameters"
    ]
   },
   "outputs": [],
   "source": [
    "# Parameters\n",
    "variance = 1\n"
   ]
  },
  {
   "cell_type": "markdown",
   "id": "391cdbfd",
   "metadata": {
    "id": "391cdbfd",
    "papermill": {
     "duration": 0.007533,
     "end_time": "2022-05-18T08:34:13.336680",
     "exception": false,
     "start_time": "2022-05-18T08:34:13.329147",
     "status": "completed"
    },
    "tags": []
   },
   "source": [
    "## Dataset \n"
   ]
  },
  {
   "cell_type": "code",
   "execution_count": 5,
   "id": "5b51f161",
   "metadata": {
    "execution": {
     "iopub.execute_input": "2022-05-18T08:34:13.354272Z",
     "iopub.status.busy": "2022-05-18T08:34:13.353883Z",
     "iopub.status.idle": "2022-05-18T08:34:13.355468Z",
     "shell.execute_reply": "2022-05-18T08:34:13.355727Z"
    },
    "id": "5b51f161",
    "papermill": {
     "duration": 0.011671,
     "end_time": "2022-05-18T08:34:13.355880",
     "exception": false,
     "start_time": "2022-05-18T08:34:13.344209",
     "status": "completed"
    },
    "tags": []
   },
   "outputs": [],
   "source": [
    "#Parameters \n",
    "n_features = 5\n",
    "n_samples= 100\n",
    "n_target = 1 "
   ]
  },
  {
   "cell_type": "code",
   "execution_count": 6,
   "id": "5d6eced4",
   "metadata": {
    "execution": {
     "iopub.execute_input": "2022-05-18T08:34:13.375482Z",
     "iopub.status.busy": "2022-05-18T08:34:13.374275Z",
     "iopub.status.idle": "2022-05-18T08:34:13.380772Z",
     "shell.execute_reply": "2022-05-18T08:34:13.381032Z"
    },
    "id": "5d6eced4",
    "papermill": {
     "duration": 0.017533,
     "end_time": "2022-05-18T08:34:13.381154",
     "exception": false,
     "start_time": "2022-05-18T08:34:13.363621",
     "status": "completed"
    },
    "tags": []
   },
   "outputs": [
    {
     "name": "stdout",
     "output_type": "stream",
     "text": [
      "         X0        X1        X2        X3        X4         Y\n",
      "0 -0.708396 -0.655396  1.624874 -0.507174  1.696076  0.308947\n",
      "1  0.159150 -0.965853  1.150216 -0.431094  0.203892 -0.436050\n",
      "2 -1.633384  1.905087 -0.006355  1.268488 -1.740486 -0.678451\n",
      "3  0.727508 -1.609423 -0.662147  1.416915  0.744033 -0.235495\n",
      "4 -0.355223 -1.606496  0.270757  0.031348  0.517798 -1.167927\n"
     ]
    }
   ],
   "source": [
    "X,Y = friedman1Dataset.friedman1_data(n_samples,n_features)"
   ]
  },
  {
   "cell_type": "code",
   "execution_count": 7,
   "id": "fe007438",
   "metadata": {
    "execution": {
     "iopub.execute_input": "2022-05-18T08:34:13.407733Z",
     "iopub.status.busy": "2022-05-18T08:34:13.405420Z",
     "iopub.status.idle": "2022-05-18T08:34:13.413757Z",
     "shell.execute_reply": "2022-05-18T08:34:13.415657Z"
    },
    "id": "fe007438",
    "papermill": {
     "duration": 0.027146,
     "end_time": "2022-05-18T08:34:13.415957",
     "exception": false,
     "start_time": "2022-05-18T08:34:13.388811",
     "status": "completed"
    },
    "tags": []
   },
   "outputs": [],
   "source": [
    "#Train test split for dataset \n",
    "X_train,X_test,Y_train,Y_test = train_test_split(X,Y,test_size = 0.2)\n",
    "train_data = dataset.CustomDataset(X_train,Y_train)\n",
    "test_data = dataset.CustomDataset(X_test,Y_test)\n"
   ]
  },
  {
   "cell_type": "markdown",
   "id": "a9a1af34",
   "metadata": {
    "id": "a9a1af34",
    "papermill": {
     "duration": 0.008209,
     "end_time": "2022-05-18T08:34:13.433422",
     "exception": false,
     "start_time": "2022-05-18T08:34:13.425213",
     "status": "completed"
    },
    "tags": []
   },
   "source": [
    "## Training Parameters "
   ]
  },
  {
   "cell_type": "code",
   "execution_count": 8,
   "id": "952b7fc8",
   "metadata": {
    "execution": {
     "iopub.execute_input": "2022-05-18T08:34:13.451886Z",
     "iopub.status.busy": "2022-05-18T08:34:13.451501Z",
     "iopub.status.idle": "2022-05-18T08:34:13.452720Z",
     "shell.execute_reply": "2022-05-18T08:34:13.452957Z"
    },
    "id": "952b7fc8",
    "papermill": {
     "duration": 0.012091,
     "end_time": "2022-05-18T08:34:13.453072",
     "exception": false,
     "start_time": "2022-05-18T08:34:13.440981",
     "status": "completed"
    },
    "tags": []
   },
   "outputs": [],
   "source": [
    "batch_size = 32\n",
    "n_epochs = 1000\n",
    "#Select the device \n",
    "device = torch.device('cuda' if torch.cuda.is_available() else 'cpu')"
   ]
  },
  {
   "cell_type": "markdown",
   "id": "a95e1600",
   "metadata": {
    "id": "a95e1600",
    "papermill": {
     "duration": 0.007867,
     "end_time": "2022-05-18T08:34:13.468553",
     "exception": false,
     "start_time": "2022-05-18T08:34:13.460686",
     "status": "completed"
    },
    "tags": []
   },
   "source": [
    "# ABC Pre-generator Model \n",
    "\n",
    "1. The catboost model is used as a pre-generator model for the ABC-GAN. \n",
    "2. The model is first trained on the entire dataset \n",
    "3. It generats X,Y pairs and we add some Gaussian noise with mean 0 and variance 1 to it which is then feed as input to the generator.\n"
   ]
  },
  {
   "cell_type": "code",
   "execution_count": 9,
   "id": "ff8ce7bd",
   "metadata": {
    "execution": {
     "iopub.execute_input": "2022-05-18T08:34:13.488536Z",
     "iopub.status.busy": "2022-05-18T08:34:13.488132Z",
     "iopub.status.idle": "2022-05-18T08:34:14.121909Z",
     "shell.execute_reply": "2022-05-18T08:34:14.122205Z"
    },
    "id": "ff8ce7bd",
    "papermill": {
     "duration": 0.64602,
     "end_time": "2022-05-18T08:34:14.122327",
     "exception": false,
     "start_time": "2022-05-18T08:34:13.476307",
     "status": "completed"
    },
    "tags": []
   },
   "outputs": [
    {
     "name": "stdout",
     "output_type": "stream",
     "text": [
      "Learning rate set to 0.024897\n",
      "0:\tlearn: 1.0257172\ttotal: 56.7ms\tremaining: 56.6s\n",
      "1:\tlearn: 1.0137086\ttotal: 57.1ms\tremaining: 28.5s\n",
      "2:\tlearn: 1.0034070\ttotal: 57.6ms\tremaining: 19.1s\n",
      "3:\tlearn: 0.9929438\ttotal: 58.2ms\tremaining: 14.5s\n",
      "4:\tlearn: 0.9841309\ttotal: 59.7ms\tremaining: 11.9s\n",
      "5:\tlearn: 0.9748808\ttotal: 60.3ms\tremaining: 9.99s\n",
      "6:\tlearn: 0.9630067\ttotal: 60.9ms\tremaining: 8.63s\n",
      "7:\tlearn: 0.9517756\ttotal: 61.5ms\tremaining: 7.63s\n",
      "8:\tlearn: 0.9432717\ttotal: 62ms\tremaining: 6.83s\n",
      "9:\tlearn: 0.9340280\ttotal: 62.5ms\tremaining: 6.18s\n",
      "10:\tlearn: 0.9247969\ttotal: 63.2ms\tremaining: 5.68s\n",
      "11:\tlearn: 0.9138121\ttotal: 63.9ms\tremaining: 5.26s\n",
      "12:\tlearn: 0.9045354\ttotal: 64.6ms\tremaining: 4.91s\n",
      "13:\tlearn: 0.8961142\ttotal: 65ms\tremaining: 4.58s\n",
      "14:\tlearn: 0.8880960\ttotal: 65.5ms\tremaining: 4.3s\n",
      "15:\tlearn: 0.8792496\ttotal: 66.1ms\tremaining: 4.06s\n",
      "16:\tlearn: 0.8703510\ttotal: 66.7ms\tremaining: 3.85s\n",
      "17:\tlearn: 0.8627695\ttotal: 67.2ms\tremaining: 3.66s\n",
      "18:\tlearn: 0.8538261\ttotal: 67.6ms\tremaining: 3.49s\n",
      "19:\tlearn: 0.8446309\ttotal: 68.1ms\tremaining: 3.33s\n",
      "20:\tlearn: 0.8364608\ttotal: 68.6ms\tremaining: 3.2s\n",
      "21:\tlearn: 0.8275786\ttotal: 68.9ms\tremaining: 3.06s\n"
     ]
    },
    {
     "name": "stdout",
     "output_type": "stream",
     "text": [
      "22:\tlearn: 0.8204650\ttotal: 70.7ms\tremaining: 3s\n",
      "23:\tlearn: 0.8136739\ttotal: 71.1ms\tremaining: 2.89s\n",
      "24:\tlearn: 0.8061872\ttotal: 71.6ms\tremaining: 2.79s\n",
      "25:\tlearn: 0.7982656\ttotal: 72ms\tremaining: 2.7s\n",
      "26:\tlearn: 0.7902892\ttotal: 72.5ms\tremaining: 2.61s\n",
      "27:\tlearn: 0.7816765\ttotal: 72.9ms\tremaining: 2.53s\n",
      "28:\tlearn: 0.7746514\ttotal: 73.3ms\tremaining: 2.46s\n",
      "29:\tlearn: 0.7671837\ttotal: 73.7ms\tremaining: 2.38s\n",
      "30:\tlearn: 0.7597853\ttotal: 74.2ms\tremaining: 2.32s\n",
      "31:\tlearn: 0.7532466\ttotal: 74.5ms\tremaining: 2.25s\n",
      "32:\tlearn: 0.7460970\ttotal: 74.9ms\tremaining: 2.19s\n",
      "33:\tlearn: 0.7376869\ttotal: 75.2ms\tremaining: 2.14s\n",
      "34:\tlearn: 0.7310183\ttotal: 75.6ms\tremaining: 2.08s\n",
      "35:\tlearn: 0.7244216\ttotal: 75.9ms\tremaining: 2.03s\n",
      "36:\tlearn: 0.7164543\ttotal: 76.3ms\tremaining: 1.99s\n",
      "37:\tlearn: 0.7103812\ttotal: 76.7ms\tremaining: 1.94s\n",
      "38:\tlearn: 0.7044565\ttotal: 77.3ms\tremaining: 1.9s\n",
      "39:\tlearn: 0.6977486\ttotal: 77.6ms\tremaining: 1.86s\n",
      "40:\tlearn: 0.6911492\ttotal: 78ms\tremaining: 1.82s\n",
      "41:\tlearn: 0.6852281\ttotal: 79.1ms\tremaining: 1.8s\n",
      "42:\tlearn: 0.6794849\ttotal: 79.4ms\tremaining: 1.77s\n",
      "43:\tlearn: 0.6728553\ttotal: 79.8ms\tremaining: 1.73s\n",
      "44:\tlearn: 0.6659450\ttotal: 80.3ms\tremaining: 1.7s\n",
      "45:\tlearn: 0.6598720\ttotal: 80.7ms\tremaining: 1.67s\n",
      "46:\tlearn: 0.6545005\ttotal: 81.3ms\tremaining: 1.65s\n",
      "47:\tlearn: 0.6492444\ttotal: 81.6ms\tremaining: 1.62s\n",
      "48:\tlearn: 0.6438820\ttotal: 82.1ms\tremaining: 1.59s\n",
      "49:\tlearn: 0.6394232\ttotal: 82.5ms\tremaining: 1.57s\n",
      "50:\tlearn: 0.6344173\ttotal: 82.9ms\tremaining: 1.54s\n",
      "51:\tlearn: 0.6288925\ttotal: 83.4ms\tremaining: 1.52s\n",
      "52:\tlearn: 0.6234912\ttotal: 83.9ms\tremaining: 1.5s\n",
      "53:\tlearn: 0.6188035\ttotal: 84.3ms\tremaining: 1.48s\n",
      "54:\tlearn: 0.6125906\ttotal: 84.6ms\tremaining: 1.45s\n",
      "55:\tlearn: 0.6079839\ttotal: 85ms\tremaining: 1.43s\n",
      "56:\tlearn: 0.6034399\ttotal: 85.3ms\tremaining: 1.41s\n",
      "57:\tlearn: 0.5996503\ttotal: 85.8ms\tremaining: 1.39s\n",
      "58:\tlearn: 0.5951854\ttotal: 86.2ms\tremaining: 1.37s\n",
      "59:\tlearn: 0.5907493\ttotal: 86.6ms\tremaining: 1.36s\n",
      "60:\tlearn: 0.5854518\ttotal: 86.9ms\tremaining: 1.34s\n",
      "61:\tlearn: 0.5805629\ttotal: 87.3ms\tremaining: 1.32s\n",
      "62:\tlearn: 0.5763907\ttotal: 87.6ms\tremaining: 1.3s\n",
      "63:\tlearn: 0.5713703\ttotal: 88ms\tremaining: 1.29s\n",
      "64:\tlearn: 0.5667181\ttotal: 88.5ms\tremaining: 1.27s\n",
      "65:\tlearn: 0.5622433\ttotal: 88.9ms\tremaining: 1.26s\n",
      "66:\tlearn: 0.5573886\ttotal: 89.3ms\tremaining: 1.24s\n",
      "67:\tlearn: 0.5532718\ttotal: 89.7ms\tremaining: 1.23s\n",
      "68:\tlearn: 0.5482412\ttotal: 90.1ms\tremaining: 1.22s\n",
      "69:\tlearn: 0.5440020\ttotal: 90.5ms\tremaining: 1.2s\n",
      "70:\tlearn: 0.5394005\ttotal: 90.8ms\tremaining: 1.19s\n",
      "71:\tlearn: 0.5353843\ttotal: 91.1ms\tremaining: 1.17s\n",
      "72:\tlearn: 0.5312847\ttotal: 91.4ms\tremaining: 1.16s\n",
      "73:\tlearn: 0.5263343\ttotal: 91.7ms\tremaining: 1.15s\n",
      "74:\tlearn: 0.5224005\ttotal: 92.2ms\tremaining: 1.14s\n",
      "75:\tlearn: 0.5182554\ttotal: 92.6ms\tremaining: 1.13s\n",
      "76:\tlearn: 0.5146422\ttotal: 93.1ms\tremaining: 1.12s\n",
      "77:\tlearn: 0.5105642\ttotal: 93.5ms\tremaining: 1.1s\n",
      "78:\tlearn: 0.5065105\ttotal: 93.9ms\tremaining: 1.09s\n",
      "79:\tlearn: 0.5020967\ttotal: 94.2ms\tremaining: 1.08s\n",
      "80:\tlearn: 0.4978735\ttotal: 94.6ms\tremaining: 1.07s\n",
      "81:\tlearn: 0.4938241\ttotal: 95ms\tremaining: 1.06s\n",
      "82:\tlearn: 0.4901448\ttotal: 95.5ms\tremaining: 1.05s\n",
      "83:\tlearn: 0.4855150\ttotal: 95.9ms\tremaining: 1.04s\n",
      "84:\tlearn: 0.4815407\ttotal: 96.4ms\tremaining: 1.04s\n",
      "85:\tlearn: 0.4783582\ttotal: 96.8ms\tremaining: 1.03s\n",
      "86:\tlearn: 0.4751586\ttotal: 97.1ms\tremaining: 1.02s\n",
      "87:\tlearn: 0.4722194\ttotal: 97.5ms\tremaining: 1.01s\n",
      "88:\tlearn: 0.4675797\ttotal: 98ms\tremaining: 1s\n",
      "89:\tlearn: 0.4639054\ttotal: 98.7ms\tremaining: 998ms\n",
      "90:\tlearn: 0.4602197\ttotal: 99.1ms\tremaining: 990ms\n",
      "91:\tlearn: 0.4569014\ttotal: 99.4ms\tremaining: 981ms\n",
      "92:\tlearn: 0.4530441\ttotal: 99.8ms\tremaining: 973ms\n",
      "93:\tlearn: 0.4495977\ttotal: 100ms\tremaining: 966ms\n",
      "94:\tlearn: 0.4460630\ttotal: 101ms\tremaining: 962ms\n",
      "95:\tlearn: 0.4425523\ttotal: 101ms\tremaining: 954ms\n",
      "96:\tlearn: 0.4392105\ttotal: 102ms\tremaining: 947ms\n",
      "97:\tlearn: 0.4361117\ttotal: 102ms\tremaining: 939ms\n",
      "98:\tlearn: 0.4328039\ttotal: 102ms\tremaining: 932ms\n",
      "99:\tlearn: 0.4297414\ttotal: 103ms\tremaining: 925ms\n",
      "100:\tlearn: 0.4257301\ttotal: 104ms\tremaining: 923ms\n",
      "101:\tlearn: 0.4226419\ttotal: 104ms\tremaining: 915ms\n",
      "102:\tlearn: 0.4196369\ttotal: 104ms\tremaining: 908ms\n",
      "103:\tlearn: 0.4157718\ttotal: 105ms\tremaining: 901ms\n",
      "104:\tlearn: 0.4130400\ttotal: 105ms\tremaining: 894ms\n",
      "105:\tlearn: 0.4099129\ttotal: 105ms\tremaining: 887ms\n",
      "106:\tlearn: 0.4065737\ttotal: 105ms\tremaining: 880ms\n",
      "107:\tlearn: 0.4036893\ttotal: 106ms\tremaining: 873ms\n",
      "108:\tlearn: 0.4003855\ttotal: 106ms\tremaining: 867ms\n",
      "109:\tlearn: 0.3977096\ttotal: 107ms\tremaining: 862ms\n",
      "110:\tlearn: 0.3943867\ttotal: 107ms\tremaining: 856ms\n",
      "111:\tlearn: 0.3915939\ttotal: 107ms\tremaining: 851ms\n",
      "112:\tlearn: 0.3886954\ttotal: 108ms\tremaining: 846ms\n",
      "113:\tlearn: 0.3859417\ttotal: 108ms\tremaining: 840ms\n",
      "114:\tlearn: 0.3828838\ttotal: 109ms\tremaining: 836ms\n",
      "115:\tlearn: 0.3804026\ttotal: 109ms\tremaining: 831ms\n",
      "116:\tlearn: 0.3780542\ttotal: 109ms\tremaining: 825ms\n",
      "117:\tlearn: 0.3750291\ttotal: 110ms\tremaining: 820ms\n",
      "118:\tlearn: 0.3730606\ttotal: 110ms\tremaining: 814ms\n",
      "119:\tlearn: 0.3708238\ttotal: 110ms\tremaining: 810ms\n",
      "120:\tlearn: 0.3683219\ttotal: 111ms\tremaining: 805ms\n",
      "121:\tlearn: 0.3661137\ttotal: 111ms\tremaining: 802ms\n",
      "122:\tlearn: 0.3638566\ttotal: 112ms\tremaining: 797ms\n",
      "123:\tlearn: 0.3610549\ttotal: 112ms\tremaining: 792ms\n",
      "124:\tlearn: 0.3586254\ttotal: 113ms\tremaining: 788ms\n",
      "125:\tlearn: 0.3560618\ttotal: 113ms\tremaining: 784ms\n",
      "126:\tlearn: 0.3538887\ttotal: 114ms\tremaining: 781ms\n",
      "127:\tlearn: 0.3513474\ttotal: 114ms\tremaining: 779ms\n",
      "128:\tlearn: 0.3488080\ttotal: 115ms\tremaining: 775ms\n",
      "129:\tlearn: 0.3465113\ttotal: 115ms\tremaining: 772ms\n",
      "130:\tlearn: 0.3440450\ttotal: 116ms\tremaining: 767ms\n",
      "131:\tlearn: 0.3416882\ttotal: 116ms\tremaining: 762ms\n",
      "132:\tlearn: 0.3393667\ttotal: 116ms\tremaining: 758ms\n",
      "133:\tlearn: 0.3370771\ttotal: 116ms\tremaining: 753ms\n",
      "134:\tlearn: 0.3345285\ttotal: 117ms\tremaining: 748ms\n",
      "135:\tlearn: 0.3325536\ttotal: 117ms\tremaining: 744ms\n",
      "136:\tlearn: 0.3306424\ttotal: 117ms\tremaining: 740ms\n",
      "137:\tlearn: 0.3278554\ttotal: 118ms\tremaining: 735ms\n",
      "138:\tlearn: 0.3258072\ttotal: 118ms\tremaining: 731ms\n",
      "139:\tlearn: 0.3235514\ttotal: 118ms\tremaining: 726ms\n",
      "140:\tlearn: 0.3216161\ttotal: 119ms\tremaining: 722ms\n",
      "141:\tlearn: 0.3192837\ttotal: 119ms\tremaining: 718ms\n",
      "142:\tlearn: 0.3173530\ttotal: 119ms\tremaining: 713ms\n",
      "143:\tlearn: 0.3154922\ttotal: 119ms\tremaining: 709ms\n",
      "144:\tlearn: 0.3129842\ttotal: 120ms\tremaining: 706ms\n",
      "145:\tlearn: 0.3111505\ttotal: 120ms\tremaining: 703ms\n",
      "146:\tlearn: 0.3090100\ttotal: 121ms\tremaining: 700ms\n",
      "147:\tlearn: 0.3073869\ttotal: 121ms\tremaining: 698ms\n",
      "148:\tlearn: 0.3056648\ttotal: 122ms\tremaining: 696ms\n",
      "149:\tlearn: 0.3032670\ttotal: 122ms\tremaining: 693ms\n",
      "150:\tlearn: 0.3010466\ttotal: 123ms\tremaining: 692ms\n",
      "151:\tlearn: 0.2990519\ttotal: 124ms\tremaining: 689ms\n",
      "152:\tlearn: 0.2968679\ttotal: 124ms\tremaining: 687ms\n",
      "153:\tlearn: 0.2945228\ttotal: 125ms\tremaining: 684ms\n",
      "154:\tlearn: 0.2922317\ttotal: 125ms\tremaining: 681ms\n",
      "155:\tlearn: 0.2906287\ttotal: 125ms\tremaining: 679ms\n",
      "156:\tlearn: 0.2888241\ttotal: 126ms\tremaining: 676ms\n",
      "157:\tlearn: 0.2866416\ttotal: 126ms\tremaining: 674ms\n",
      "158:\tlearn: 0.2848939\ttotal: 127ms\tremaining: 672ms\n",
      "159:\tlearn: 0.2827721\ttotal: 127ms\tremaining: 669ms\n",
      "160:\tlearn: 0.2808841\ttotal: 128ms\tremaining: 667ms\n",
      "161:\tlearn: 0.2789535\ttotal: 129ms\tremaining: 666ms\n",
      "162:\tlearn: 0.2767630\ttotal: 130ms\tremaining: 665ms\n",
      "163:\tlearn: 0.2748776\ttotal: 130ms\tremaining: 662ms\n",
      "164:\tlearn: 0.2737159\ttotal: 130ms\tremaining: 660ms\n",
      "165:\tlearn: 0.2716549\ttotal: 131ms\tremaining: 658ms\n",
      "166:\tlearn: 0.2701103\ttotal: 131ms\tremaining: 655ms\n",
      "167:\tlearn: 0.2680563\ttotal: 132ms\tremaining: 653ms\n",
      "168:\tlearn: 0.2665033\ttotal: 132ms\tremaining: 651ms\n",
      "169:\tlearn: 0.2647548\ttotal: 133ms\tremaining: 648ms\n",
      "170:\tlearn: 0.2629260\ttotal: 133ms\tremaining: 646ms\n",
      "171:\tlearn: 0.2611347\ttotal: 134ms\tremaining: 645ms\n",
      "172:\tlearn: 0.2596451\ttotal: 134ms\tremaining: 643ms\n",
      "173:\tlearn: 0.2577996\ttotal: 135ms\tremaining: 640ms\n",
      "174:\tlearn: 0.2560097\ttotal: 135ms\tremaining: 639ms\n",
      "175:\tlearn: 0.2542817\ttotal: 136ms\tremaining: 637ms\n",
      "176:\tlearn: 0.2525983\ttotal: 137ms\tremaining: 635ms\n",
      "177:\tlearn: 0.2505576\ttotal: 137ms\tremaining: 633ms\n",
      "178:\tlearn: 0.2490561\ttotal: 138ms\tremaining: 631ms\n",
      "179:\tlearn: 0.2473628\ttotal: 138ms\tremaining: 629ms\n",
      "180:\tlearn: 0.2455240\ttotal: 138ms\tremaining: 626ms\n",
      "181:\tlearn: 0.2438562\ttotal: 139ms\tremaining: 623ms\n",
      "182:\tlearn: 0.2424184\ttotal: 139ms\tremaining: 620ms\n",
      "183:\tlearn: 0.2408468\ttotal: 139ms\tremaining: 617ms\n",
      "184:\tlearn: 0.2392097\ttotal: 140ms\tremaining: 615ms\n",
      "185:\tlearn: 0.2378264\ttotal: 140ms\tremaining: 612ms\n",
      "186:\tlearn: 0.2360109\ttotal: 140ms\tremaining: 610ms\n",
      "187:\tlearn: 0.2343903\ttotal: 141ms\tremaining: 608ms\n",
      "188:\tlearn: 0.2331630\ttotal: 141ms\tremaining: 606ms\n",
      "189:\tlearn: 0.2317562\ttotal: 142ms\tremaining: 604ms\n",
      "190:\tlearn: 0.2302320\ttotal: 142ms\tremaining: 602ms\n",
      "191:\tlearn: 0.2281752\ttotal: 142ms\tremaining: 599ms\n",
      "192:\tlearn: 0.2269142\ttotal: 143ms\tremaining: 598ms\n",
      "193:\tlearn: 0.2257669\ttotal: 144ms\tremaining: 599ms\n",
      "194:\tlearn: 0.2240013\ttotal: 145ms\tremaining: 597ms\n",
      "195:\tlearn: 0.2219723\ttotal: 145ms\tremaining: 594ms\n",
      "196:\tlearn: 0.2199699\ttotal: 145ms\tremaining: 592ms\n",
      "197:\tlearn: 0.2188087\ttotal: 145ms\tremaining: 589ms\n",
      "198:\tlearn: 0.2172588\ttotal: 146ms\tremaining: 587ms\n",
      "199:\tlearn: 0.2156413\ttotal: 146ms\tremaining: 584ms\n",
      "200:\tlearn: 0.2145112\ttotal: 146ms\tremaining: 582ms\n",
      "201:\tlearn: 0.2132792\ttotal: 147ms\tremaining: 579ms\n",
      "202:\tlearn: 0.2113357\ttotal: 147ms\tremaining: 577ms\n",
      "203:\tlearn: 0.2096674\ttotal: 147ms\tremaining: 574ms\n",
      "204:\tlearn: 0.2079263\ttotal: 147ms\tremaining: 572ms\n",
      "205:\tlearn: 0.2060780\ttotal: 148ms\tremaining: 569ms\n",
      "206:\tlearn: 0.2048880\ttotal: 148ms\tremaining: 567ms\n",
      "207:\tlearn: 0.2033284\ttotal: 148ms\tremaining: 564ms\n",
      "208:\tlearn: 0.2017097\ttotal: 149ms\tremaining: 563ms\n",
      "209:\tlearn: 0.2003942\ttotal: 149ms\tremaining: 560ms\n",
      "210:\tlearn: 0.1989102\ttotal: 149ms\tremaining: 558ms\n",
      "211:\tlearn: 0.1978758\ttotal: 149ms\tremaining: 555ms\n",
      "212:\tlearn: 0.1965615\ttotal: 150ms\tremaining: 554ms\n",
      "213:\tlearn: 0.1949646\ttotal: 150ms\tremaining: 552ms\n",
      "214:\tlearn: 0.1933876\ttotal: 151ms\tremaining: 550ms\n",
      "215:\tlearn: 0.1916638\ttotal: 151ms\tremaining: 548ms\n",
      "216:\tlearn: 0.1905684\ttotal: 152ms\tremaining: 547ms\n",
      "217:\tlearn: 0.1896565\ttotal: 152ms\tremaining: 546ms\n",
      "218:\tlearn: 0.1885183\ttotal: 153ms\tremaining: 544ms\n",
      "219:\tlearn: 0.1871213\ttotal: 153ms\tremaining: 542ms\n",
      "220:\tlearn: 0.1861283\ttotal: 153ms\tremaining: 541ms\n",
      "221:\tlearn: 0.1847727\ttotal: 154ms\tremaining: 539ms\n",
      "222:\tlearn: 0.1838092\ttotal: 154ms\tremaining: 538ms\n",
      "223:\tlearn: 0.1827233\ttotal: 155ms\tremaining: 536ms\n",
      "224:\tlearn: 0.1814747\ttotal: 155ms\tremaining: 535ms\n",
      "225:\tlearn: 0.1801248\ttotal: 156ms\tremaining: 534ms\n",
      "226:\tlearn: 0.1785681\ttotal: 156ms\tremaining: 533ms\n",
      "227:\tlearn: 0.1772355\ttotal: 157ms\tremaining: 531ms\n",
      "228:\tlearn: 0.1759466\ttotal: 158ms\tremaining: 532ms\n",
      "229:\tlearn: 0.1745119\ttotal: 159ms\tremaining: 531ms\n",
      "230:\tlearn: 0.1732330\ttotal: 159ms\tremaining: 530ms\n",
      "231:\tlearn: 0.1721560\ttotal: 160ms\tremaining: 529ms\n",
      "232:\tlearn: 0.1709286\ttotal: 160ms\tremaining: 528ms\n",
      "233:\tlearn: 0.1699671\ttotal: 161ms\tremaining: 526ms\n",
      "234:\tlearn: 0.1689567\ttotal: 161ms\tremaining: 525ms\n",
      "235:\tlearn: 0.1676009\ttotal: 162ms\tremaining: 523ms\n",
      "236:\tlearn: 0.1665574\ttotal: 162ms\tremaining: 522ms\n",
      "237:\tlearn: 0.1651554\ttotal: 162ms\tremaining: 520ms\n",
      "238:\tlearn: 0.1639671\ttotal: 163ms\tremaining: 519ms\n",
      "239:\tlearn: 0.1628963\ttotal: 163ms\tremaining: 517ms\n",
      "240:\tlearn: 0.1618480\ttotal: 164ms\tremaining: 516ms\n",
      "241:\tlearn: 0.1608469\ttotal: 164ms\tremaining: 515ms\n",
      "242:\tlearn: 0.1596385\ttotal: 165ms\tremaining: 513ms\n",
      "243:\tlearn: 0.1585870\ttotal: 165ms\tremaining: 512ms\n",
      "244:\tlearn: 0.1574690\ttotal: 166ms\tremaining: 511ms\n",
      "245:\tlearn: 0.1562504\ttotal: 166ms\tremaining: 510ms\n",
      "246:\tlearn: 0.1550466\ttotal: 167ms\tremaining: 508ms\n",
      "247:\tlearn: 0.1541955\ttotal: 167ms\tremaining: 507ms\n",
      "248:\tlearn: 0.1528964\ttotal: 168ms\tremaining: 506ms\n",
      "249:\tlearn: 0.1518103\ttotal: 168ms\tremaining: 504ms\n",
      "250:\tlearn: 0.1509062\ttotal: 168ms\tremaining: 503ms\n"
     ]
    },
    {
     "name": "stdout",
     "output_type": "stream",
     "text": [
      "251:\tlearn: 0.1499678\ttotal: 169ms\tremaining: 502ms\n",
      "252:\tlearn: 0.1491910\ttotal: 170ms\tremaining: 501ms\n",
      "253:\tlearn: 0.1481719\ttotal: 170ms\tremaining: 500ms\n",
      "254:\tlearn: 0.1473315\ttotal: 171ms\tremaining: 499ms\n",
      "255:\tlearn: 0.1463755\ttotal: 172ms\tremaining: 498ms\n",
      "256:\tlearn: 0.1452046\ttotal: 172ms\tremaining: 498ms\n",
      "257:\tlearn: 0.1444291\ttotal: 173ms\tremaining: 496ms\n",
      "258:\tlearn: 0.1432759\ttotal: 173ms\tremaining: 496ms\n",
      "259:\tlearn: 0.1424940\ttotal: 174ms\tremaining: 495ms\n",
      "260:\tlearn: 0.1413607\ttotal: 174ms\tremaining: 493ms\n",
      "261:\tlearn: 0.1403240\ttotal: 175ms\tremaining: 492ms\n",
      "262:\tlearn: 0.1393364\ttotal: 175ms\tremaining: 491ms\n",
      "263:\tlearn: 0.1383369\ttotal: 176ms\tremaining: 489ms\n",
      "264:\tlearn: 0.1374551\ttotal: 176ms\tremaining: 488ms\n",
      "265:\tlearn: 0.1364541\ttotal: 177ms\tremaining: 487ms\n",
      "266:\tlearn: 0.1356986\ttotal: 177ms\tremaining: 486ms\n",
      "267:\tlearn: 0.1349191\ttotal: 177ms\tremaining: 485ms\n",
      "268:\tlearn: 0.1340395\ttotal: 178ms\tremaining: 484ms\n",
      "269:\tlearn: 0.1333576\ttotal: 178ms\tremaining: 483ms\n",
      "270:\tlearn: 0.1323208\ttotal: 179ms\tremaining: 481ms\n",
      "271:\tlearn: 0.1315730\ttotal: 179ms\tremaining: 480ms\n",
      "272:\tlearn: 0.1310390\ttotal: 180ms\tremaining: 479ms\n",
      "273:\tlearn: 0.1302048\ttotal: 180ms\tremaining: 478ms\n",
      "274:\tlearn: 0.1292657\ttotal: 181ms\tremaining: 477ms\n",
      "275:\tlearn: 0.1285946\ttotal: 181ms\tremaining: 476ms\n",
      "276:\tlearn: 0.1277359\ttotal: 182ms\tremaining: 474ms\n",
      "277:\tlearn: 0.1268246\ttotal: 182ms\tremaining: 473ms\n",
      "278:\tlearn: 0.1259873\ttotal: 183ms\tremaining: 472ms\n",
      "279:\tlearn: 0.1251874\ttotal: 183ms\tremaining: 471ms\n",
      "280:\tlearn: 0.1243789\ttotal: 184ms\tremaining: 470ms\n",
      "281:\tlearn: 0.1235491\ttotal: 184ms\tremaining: 468ms\n",
      "282:\tlearn: 0.1230361\ttotal: 184ms\tremaining: 467ms\n",
      "283:\tlearn: 0.1221173\ttotal: 185ms\tremaining: 466ms\n",
      "284:\tlearn: 0.1212972\ttotal: 185ms\tremaining: 465ms\n",
      "285:\tlearn: 0.1207237\ttotal: 186ms\tremaining: 464ms\n",
      "286:\tlearn: 0.1199356\ttotal: 187ms\tremaining: 464ms\n",
      "287:\tlearn: 0.1192779\ttotal: 187ms\tremaining: 463ms\n",
      "288:\tlearn: 0.1185733\ttotal: 188ms\tremaining: 462ms\n",
      "289:\tlearn: 0.1178539\ttotal: 188ms\tremaining: 461ms\n",
      "290:\tlearn: 0.1172511\ttotal: 189ms\tremaining: 460ms\n",
      "291:\tlearn: 0.1165495\ttotal: 189ms\tremaining: 459ms\n",
      "292:\tlearn: 0.1158534\ttotal: 190ms\tremaining: 458ms\n",
      "293:\tlearn: 0.1151275\ttotal: 190ms\tremaining: 457ms\n",
      "294:\tlearn: 0.1142754\ttotal: 191ms\tremaining: 455ms\n",
      "295:\tlearn: 0.1134826\ttotal: 191ms\tremaining: 454ms\n",
      "296:\tlearn: 0.1127456\ttotal: 192ms\tremaining: 453ms\n",
      "297:\tlearn: 0.1118861\ttotal: 192ms\tremaining: 452ms\n",
      "298:\tlearn: 0.1111869\ttotal: 192ms\tremaining: 451ms\n",
      "299:\tlearn: 0.1107231\ttotal: 193ms\tremaining: 450ms\n",
      "300:\tlearn: 0.1100106\ttotal: 193ms\tremaining: 449ms\n",
      "301:\tlearn: 0.1092332\ttotal: 194ms\tremaining: 448ms\n",
      "302:\tlearn: 0.1086312\ttotal: 194ms\tremaining: 447ms\n",
      "303:\tlearn: 0.1079670\ttotal: 195ms\tremaining: 446ms\n",
      "304:\tlearn: 0.1072746\ttotal: 195ms\tremaining: 445ms\n",
      "305:\tlearn: 0.1066230\ttotal: 196ms\tremaining: 443ms\n",
      "306:\tlearn: 0.1061799\ttotal: 196ms\tremaining: 442ms\n",
      "307:\tlearn: 0.1053905\ttotal: 196ms\tremaining: 441ms\n",
      "308:\tlearn: 0.1048442\ttotal: 197ms\tremaining: 440ms\n",
      "309:\tlearn: 0.1042075\ttotal: 197ms\tremaining: 439ms\n",
      "310:\tlearn: 0.1036372\ttotal: 198ms\tremaining: 438ms\n",
      "311:\tlearn: 0.1029887\ttotal: 198ms\tremaining: 437ms\n",
      "312:\tlearn: 0.1023594\ttotal: 199ms\tremaining: 436ms\n",
      "313:\tlearn: 0.1016943\ttotal: 199ms\tremaining: 435ms\n",
      "314:\tlearn: 0.1011607\ttotal: 199ms\tremaining: 434ms\n",
      "315:\tlearn: 0.1006360\ttotal: 200ms\tremaining: 433ms\n",
      "316:\tlearn: 0.1001108\ttotal: 201ms\tremaining: 433ms\n",
      "317:\tlearn: 0.0995755\ttotal: 201ms\tremaining: 432ms\n",
      "318:\tlearn: 0.0989870\ttotal: 202ms\tremaining: 431ms\n",
      "319:\tlearn: 0.0985367\ttotal: 202ms\tremaining: 430ms\n",
      "320:\tlearn: 0.0979425\ttotal: 203ms\tremaining: 429ms\n",
      "321:\tlearn: 0.0973162\ttotal: 204ms\tremaining: 428ms\n",
      "322:\tlearn: 0.0968225\ttotal: 204ms\tremaining: 428ms\n",
      "323:\tlearn: 0.0962142\ttotal: 204ms\tremaining: 427ms\n",
      "324:\tlearn: 0.0956593\ttotal: 205ms\tremaining: 426ms\n",
      "325:\tlearn: 0.0952074\ttotal: 205ms\tremaining: 425ms\n",
      "326:\tlearn: 0.0947627\ttotal: 206ms\tremaining: 424ms\n",
      "327:\tlearn: 0.0942230\ttotal: 206ms\tremaining: 422ms\n",
      "328:\tlearn: 0.0936895\ttotal: 207ms\tremaining: 421ms\n",
      "329:\tlearn: 0.0931478\ttotal: 207ms\tremaining: 420ms\n",
      "330:\tlearn: 0.0925598\ttotal: 208ms\tremaining: 419ms\n",
      "331:\tlearn: 0.0920445\ttotal: 208ms\tremaining: 418ms\n",
      "332:\tlearn: 0.0915725\ttotal: 208ms\tremaining: 418ms\n",
      "333:\tlearn: 0.0911064\ttotal: 209ms\tremaining: 417ms\n",
      "334:\tlearn: 0.0905820\ttotal: 209ms\tremaining: 416ms\n",
      "335:\tlearn: 0.0901209\ttotal: 210ms\tremaining: 415ms\n",
      "336:\tlearn: 0.0895529\ttotal: 210ms\tremaining: 414ms\n",
      "337:\tlearn: 0.0891268\ttotal: 211ms\tremaining: 413ms\n",
      "338:\tlearn: 0.0887091\ttotal: 211ms\tremaining: 412ms\n",
      "339:\tlearn: 0.0881618\ttotal: 211ms\tremaining: 410ms\n",
      "340:\tlearn: 0.0877589\ttotal: 212ms\tremaining: 410ms\n",
      "341:\tlearn: 0.0872322\ttotal: 212ms\tremaining: 409ms\n",
      "342:\tlearn: 0.0867057\ttotal: 213ms\tremaining: 408ms\n",
      "343:\tlearn: 0.0862859\ttotal: 213ms\tremaining: 407ms\n",
      "344:\tlearn: 0.0857589\ttotal: 214ms\tremaining: 406ms\n",
      "345:\tlearn: 0.0853469\ttotal: 214ms\tremaining: 405ms\n",
      "346:\tlearn: 0.0849439\ttotal: 215ms\tremaining: 404ms\n",
      "347:\tlearn: 0.0844101\ttotal: 215ms\tremaining: 404ms\n",
      "348:\tlearn: 0.0838858\ttotal: 216ms\tremaining: 403ms\n",
      "349:\tlearn: 0.0833992\ttotal: 217ms\tremaining: 402ms\n",
      "350:\tlearn: 0.0828944\ttotal: 217ms\tremaining: 401ms\n",
      "351:\tlearn: 0.0823920\ttotal: 218ms\tremaining: 401ms\n",
      "352:\tlearn: 0.0819480\ttotal: 218ms\tremaining: 400ms\n",
      "353:\tlearn: 0.0814646\ttotal: 218ms\tremaining: 399ms\n",
      "354:\tlearn: 0.0810667\ttotal: 219ms\tremaining: 398ms\n",
      "355:\tlearn: 0.0805887\ttotal: 219ms\tremaining: 397ms\n",
      "356:\tlearn: 0.0801191\ttotal: 220ms\tremaining: 396ms\n",
      "357:\tlearn: 0.0796629\ttotal: 220ms\tremaining: 395ms\n",
      "358:\tlearn: 0.0792510\ttotal: 221ms\tremaining: 395ms\n",
      "359:\tlearn: 0.0788338\ttotal: 221ms\tremaining: 394ms\n",
      "360:\tlearn: 0.0783832\ttotal: 222ms\tremaining: 392ms\n",
      "361:\tlearn: 0.0779781\ttotal: 222ms\tremaining: 392ms\n",
      "362:\tlearn: 0.0776220\ttotal: 223ms\tremaining: 391ms\n",
      "363:\tlearn: 0.0773439\ttotal: 223ms\tremaining: 390ms\n",
      "364:\tlearn: 0.0769291\ttotal: 224ms\tremaining: 389ms\n",
      "365:\tlearn: 0.0765004\ttotal: 224ms\tremaining: 388ms\n",
      "366:\tlearn: 0.0761246\ttotal: 225ms\tremaining: 387ms\n",
      "367:\tlearn: 0.0757064\ttotal: 225ms\tremaining: 386ms\n",
      "368:\tlearn: 0.0753954\ttotal: 225ms\tremaining: 385ms\n",
      "369:\tlearn: 0.0749061\ttotal: 226ms\tremaining: 385ms\n",
      "370:\tlearn: 0.0745205\ttotal: 226ms\tremaining: 384ms\n",
      "371:\tlearn: 0.0739399\ttotal: 227ms\tremaining: 383ms\n",
      "372:\tlearn: 0.0736631\ttotal: 227ms\tremaining: 382ms\n",
      "373:\tlearn: 0.0733348\ttotal: 228ms\tremaining: 381ms\n",
      "374:\tlearn: 0.0728658\ttotal: 228ms\tremaining: 381ms\n",
      "375:\tlearn: 0.0724982\ttotal: 229ms\tremaining: 380ms\n",
      "376:\tlearn: 0.0719423\ttotal: 230ms\tremaining: 379ms\n",
      "377:\tlearn: 0.0716835\ttotal: 230ms\tremaining: 378ms\n",
      "378:\tlearn: 0.0715073\ttotal: 230ms\tremaining: 378ms\n",
      "379:\tlearn: 0.0710574\ttotal: 231ms\tremaining: 377ms\n",
      "380:\tlearn: 0.0706115\ttotal: 232ms\tremaining: 376ms\n",
      "381:\tlearn: 0.0702885\ttotal: 232ms\tremaining: 375ms\n",
      "382:\tlearn: 0.0699716\ttotal: 233ms\tremaining: 375ms\n",
      "383:\tlearn: 0.0695402\ttotal: 233ms\tremaining: 374ms\n",
      "384:\tlearn: 0.0693733\ttotal: 234ms\tremaining: 374ms\n",
      "385:\tlearn: 0.0690637\ttotal: 234ms\tremaining: 373ms\n",
      "386:\tlearn: 0.0686384\ttotal: 235ms\tremaining: 372ms\n",
      "387:\tlearn: 0.0682208\ttotal: 235ms\tremaining: 371ms\n",
      "388:\tlearn: 0.0678325\ttotal: 236ms\tremaining: 370ms\n",
      "389:\tlearn: 0.0675186\ttotal: 236ms\tremaining: 370ms\n",
      "390:\tlearn: 0.0671382\ttotal: 237ms\tremaining: 369ms\n",
      "391:\tlearn: 0.0667640\ttotal: 237ms\tremaining: 368ms\n",
      "392:\tlearn: 0.0664718\ttotal: 238ms\tremaining: 368ms\n",
      "393:\tlearn: 0.0662252\ttotal: 238ms\tremaining: 367ms\n",
      "394:\tlearn: 0.0658274\ttotal: 239ms\tremaining: 366ms\n",
      "395:\tlearn: 0.0655469\ttotal: 240ms\tremaining: 366ms\n",
      "396:\tlearn: 0.0651509\ttotal: 240ms\tremaining: 365ms\n",
      "397:\tlearn: 0.0647592\ttotal: 241ms\tremaining: 364ms\n",
      "398:\tlearn: 0.0644053\ttotal: 241ms\tremaining: 363ms\n",
      "399:\tlearn: 0.0641363\ttotal: 242ms\tremaining: 362ms\n",
      "400:\tlearn: 0.0637180\ttotal: 242ms\tremaining: 362ms\n",
      "401:\tlearn: 0.0633741\ttotal: 243ms\tremaining: 361ms\n",
      "402:\tlearn: 0.0629993\ttotal: 243ms\tremaining: 360ms\n",
      "403:\tlearn: 0.0626630\ttotal: 244ms\tremaining: 360ms\n",
      "404:\tlearn: 0.0622975\ttotal: 245ms\tremaining: 359ms\n",
      "405:\tlearn: 0.0619325\ttotal: 245ms\tremaining: 359ms\n",
      "406:\tlearn: 0.0615921\ttotal: 246ms\tremaining: 358ms\n",
      "407:\tlearn: 0.0612367\ttotal: 246ms\tremaining: 358ms\n",
      "408:\tlearn: 0.0609780\ttotal: 247ms\tremaining: 357ms\n",
      "409:\tlearn: 0.0607310\ttotal: 247ms\tremaining: 356ms\n",
      "410:\tlearn: 0.0603785\ttotal: 248ms\tremaining: 355ms\n",
      "411:\tlearn: 0.0600341\ttotal: 248ms\tremaining: 355ms\n",
      "412:\tlearn: 0.0597320\ttotal: 249ms\tremaining: 354ms\n",
      "413:\tlearn: 0.0593302\ttotal: 250ms\tremaining: 354ms\n",
      "414:\tlearn: 0.0590298\ttotal: 251ms\tremaining: 353ms\n",
      "415:\tlearn: 0.0586995\ttotal: 251ms\tremaining: 352ms\n"
     ]
    },
    {
     "name": "stdout",
     "output_type": "stream",
     "text": [
      "416:\tlearn: 0.0584522\ttotal: 252ms\tremaining: 352ms\n",
      "417:\tlearn: 0.0581514\ttotal: 252ms\tremaining: 351ms\n",
      "418:\tlearn: 0.0577639\ttotal: 253ms\tremaining: 351ms\n",
      "419:\tlearn: 0.0574282\ttotal: 253ms\tremaining: 350ms\n",
      "420:\tlearn: 0.0571170\ttotal: 254ms\tremaining: 349ms\n",
      "421:\tlearn: 0.0568360\ttotal: 254ms\tremaining: 348ms\n",
      "422:\tlearn: 0.0565317\ttotal: 255ms\tremaining: 348ms\n",
      "423:\tlearn: 0.0561589\ttotal: 256ms\tremaining: 347ms\n",
      "424:\tlearn: 0.0558438\ttotal: 256ms\tremaining: 346ms\n",
      "425:\tlearn: 0.0555446\ttotal: 256ms\tremaining: 346ms\n",
      "426:\tlearn: 0.0553165\ttotal: 257ms\tremaining: 345ms\n",
      "427:\tlearn: 0.0549578\ttotal: 258ms\tremaining: 344ms\n",
      "428:\tlearn: 0.0546541\ttotal: 258ms\tremaining: 344ms\n",
      "429:\tlearn: 0.0544349\ttotal: 259ms\tremaining: 343ms\n",
      "430:\tlearn: 0.0541615\ttotal: 260ms\tremaining: 343ms\n",
      "431:\tlearn: 0.0538804\ttotal: 260ms\tremaining: 342ms\n",
      "432:\tlearn: 0.0534967\ttotal: 261ms\tremaining: 341ms\n",
      "433:\tlearn: 0.0531542\ttotal: 261ms\tremaining: 341ms\n",
      "434:\tlearn: 0.0528191\ttotal: 262ms\tremaining: 340ms\n",
      "435:\tlearn: 0.0525588\ttotal: 262ms\tremaining: 339ms\n",
      "436:\tlearn: 0.0522296\ttotal: 263ms\tremaining: 338ms\n",
      "437:\tlearn: 0.0519887\ttotal: 263ms\tremaining: 338ms\n",
      "438:\tlearn: 0.0516321\ttotal: 264ms\tremaining: 337ms\n",
      "439:\tlearn: 0.0513114\ttotal: 264ms\tremaining: 336ms\n",
      "440:\tlearn: 0.0511107\ttotal: 264ms\tremaining: 335ms\n",
      "441:\tlearn: 0.0507996\ttotal: 265ms\tremaining: 334ms\n",
      "442:\tlearn: 0.0504985\ttotal: 265ms\tremaining: 333ms\n",
      "443:\tlearn: 0.0501957\ttotal: 266ms\tremaining: 333ms\n",
      "444:\tlearn: 0.0499044\ttotal: 266ms\tremaining: 332ms\n",
      "445:\tlearn: 0.0496007\ttotal: 266ms\tremaining: 331ms\n",
      "446:\tlearn: 0.0493095\ttotal: 267ms\tremaining: 330ms\n",
      "447:\tlearn: 0.0490124\ttotal: 267ms\tremaining: 329ms\n",
      "448:\tlearn: 0.0487286\ttotal: 268ms\tremaining: 328ms\n",
      "449:\tlearn: 0.0485435\ttotal: 268ms\tremaining: 328ms\n",
      "450:\tlearn: 0.0483054\ttotal: 269ms\tremaining: 327ms\n",
      "451:\tlearn: 0.0480716\ttotal: 269ms\tremaining: 326ms\n",
      "452:\tlearn: 0.0478595\ttotal: 270ms\tremaining: 326ms\n",
      "453:\tlearn: 0.0476302\ttotal: 270ms\tremaining: 325ms\n",
      "454:\tlearn: 0.0473464\ttotal: 271ms\tremaining: 324ms\n",
      "455:\tlearn: 0.0471725\ttotal: 271ms\tremaining: 324ms\n",
      "456:\tlearn: 0.0468952\ttotal: 272ms\tremaining: 323ms\n",
      "457:\tlearn: 0.0466298\ttotal: 272ms\tremaining: 322ms\n",
      "458:\tlearn: 0.0463586\ttotal: 273ms\tremaining: 321ms\n",
      "459:\tlearn: 0.0461194\ttotal: 273ms\tremaining: 321ms\n",
      "460:\tlearn: 0.0459006\ttotal: 274ms\tremaining: 320ms\n",
      "461:\tlearn: 0.0456832\ttotal: 274ms\tremaining: 319ms\n",
      "462:\tlearn: 0.0454821\ttotal: 275ms\tremaining: 319ms\n",
      "463:\tlearn: 0.0452195\ttotal: 275ms\tremaining: 318ms\n",
      "464:\tlearn: 0.0449894\ttotal: 276ms\tremaining: 317ms\n",
      "465:\tlearn: 0.0447695\ttotal: 276ms\tremaining: 316ms\n",
      "466:\tlearn: 0.0445607\ttotal: 277ms\tremaining: 316ms\n",
      "467:\tlearn: 0.0443541\ttotal: 277ms\tremaining: 315ms\n",
      "468:\tlearn: 0.0440865\ttotal: 278ms\tremaining: 314ms\n",
      "469:\tlearn: 0.0438818\ttotal: 278ms\tremaining: 314ms\n",
      "470:\tlearn: 0.0436625\ttotal: 279ms\tremaining: 313ms\n",
      "471:\tlearn: 0.0434433\ttotal: 279ms\tremaining: 312ms\n",
      "472:\tlearn: 0.0432345\ttotal: 280ms\tremaining: 312ms\n",
      "473:\tlearn: 0.0429892\ttotal: 280ms\tremaining: 311ms\n",
      "474:\tlearn: 0.0427826\ttotal: 281ms\tremaining: 311ms\n",
      "475:\tlearn: 0.0426643\ttotal: 282ms\tremaining: 310ms\n",
      "476:\tlearn: 0.0424677\ttotal: 282ms\tremaining: 309ms\n",
      "477:\tlearn: 0.0423517\ttotal: 282ms\tremaining: 308ms\n",
      "478:\tlearn: 0.0420691\ttotal: 283ms\tremaining: 307ms\n",
      "479:\tlearn: 0.0418624\ttotal: 283ms\tremaining: 307ms\n",
      "480:\tlearn: 0.0417011\ttotal: 284ms\tremaining: 306ms\n",
      "481:\tlearn: 0.0415192\ttotal: 284ms\tremaining: 305ms\n",
      "482:\tlearn: 0.0413219\ttotal: 285ms\tremaining: 305ms\n",
      "483:\tlearn: 0.0410802\ttotal: 285ms\tremaining: 304ms\n",
      "484:\tlearn: 0.0408239\ttotal: 286ms\tremaining: 304ms\n",
      "485:\tlearn: 0.0406310\ttotal: 286ms\tremaining: 303ms\n",
      "486:\tlearn: 0.0404492\ttotal: 287ms\tremaining: 302ms\n",
      "487:\tlearn: 0.0402167\ttotal: 287ms\tremaining: 302ms\n",
      "488:\tlearn: 0.0400289\ttotal: 288ms\tremaining: 301ms\n",
      "489:\tlearn: 0.0398520\ttotal: 288ms\tremaining: 300ms\n",
      "490:\tlearn: 0.0396360\ttotal: 289ms\tremaining: 299ms\n",
      "491:\tlearn: 0.0395289\ttotal: 289ms\tremaining: 299ms\n",
      "492:\tlearn: 0.0392572\ttotal: 290ms\tremaining: 298ms\n",
      "493:\tlearn: 0.0391522\ttotal: 290ms\tremaining: 297ms\n",
      "494:\tlearn: 0.0388791\ttotal: 291ms\tremaining: 297ms\n",
      "495:\tlearn: 0.0387759\ttotal: 291ms\tremaining: 296ms\n",
      "496:\tlearn: 0.0386132\ttotal: 291ms\tremaining: 295ms\n",
      "497:\tlearn: 0.0384350\ttotal: 292ms\tremaining: 294ms\n",
      "498:\tlearn: 0.0383335\ttotal: 292ms\tremaining: 293ms\n",
      "499:\tlearn: 0.0381649\ttotal: 293ms\tremaining: 293ms\n",
      "500:\tlearn: 0.0380648\ttotal: 293ms\tremaining: 292ms\n",
      "501:\tlearn: 0.0379077\ttotal: 294ms\tremaining: 291ms\n",
      "502:\tlearn: 0.0376472\ttotal: 294ms\tremaining: 291ms\n",
      "503:\tlearn: 0.0374939\ttotal: 295ms\tremaining: 290ms\n",
      "504:\tlearn: 0.0373955\ttotal: 295ms\tremaining: 290ms\n",
      "505:\tlearn: 0.0371514\ttotal: 296ms\tremaining: 289ms\n",
      "506:\tlearn: 0.0370183\ttotal: 296ms\tremaining: 288ms\n",
      "507:\tlearn: 0.0368672\ttotal: 297ms\tremaining: 287ms\n",
      "508:\tlearn: 0.0367718\ttotal: 297ms\tremaining: 287ms\n",
      "509:\tlearn: 0.0366125\ttotal: 298ms\tremaining: 286ms\n",
      "510:\tlearn: 0.0365183\ttotal: 298ms\tremaining: 285ms\n",
      "511:\tlearn: 0.0362826\ttotal: 298ms\tremaining: 284ms\n",
      "512:\tlearn: 0.0361901\ttotal: 299ms\tremaining: 284ms\n",
      "513:\tlearn: 0.0360281\ttotal: 299ms\tremaining: 283ms\n",
      "514:\tlearn: 0.0358751\ttotal: 300ms\tremaining: 282ms\n",
      "515:\tlearn: 0.0357591\ttotal: 300ms\tremaining: 282ms\n",
      "516:\tlearn: 0.0356386\ttotal: 301ms\tremaining: 281ms\n",
      "517:\tlearn: 0.0354843\ttotal: 301ms\tremaining: 280ms\n",
      "518:\tlearn: 0.0352755\ttotal: 302ms\tremaining: 279ms\n",
      "519:\tlearn: 0.0351520\ttotal: 302ms\tremaining: 279ms\n",
      "520:\tlearn: 0.0350096\ttotal: 303ms\tremaining: 278ms\n",
      "521:\tlearn: 0.0348590\ttotal: 303ms\tremaining: 277ms\n",
      "522:\tlearn: 0.0347452\ttotal: 304ms\tremaining: 277ms\n",
      "523:\tlearn: 0.0345459\ttotal: 304ms\tremaining: 276ms\n",
      "524:\tlearn: 0.0343214\ttotal: 304ms\tremaining: 275ms\n",
      "525:\tlearn: 0.0342352\ttotal: 305ms\tremaining: 275ms\n",
      "526:\tlearn: 0.0341503\ttotal: 305ms\tremaining: 274ms\n",
      "527:\tlearn: 0.0339315\ttotal: 306ms\tremaining: 273ms\n",
      "528:\tlearn: 0.0338208\ttotal: 306ms\tremaining: 273ms\n",
      "529:\tlearn: 0.0336869\ttotal: 307ms\tremaining: 272ms\n",
      "530:\tlearn: 0.0335796\ttotal: 307ms\tremaining: 271ms\n",
      "531:\tlearn: 0.0333923\ttotal: 308ms\tremaining: 271ms\n",
      "532:\tlearn: 0.0331868\ttotal: 308ms\tremaining: 270ms\n",
      "533:\tlearn: 0.0331071\ttotal: 309ms\tremaining: 269ms\n",
      "534:\tlearn: 0.0329634\ttotal: 309ms\tremaining: 269ms\n",
      "535:\tlearn: 0.0328441\ttotal: 310ms\tremaining: 268ms\n",
      "536:\tlearn: 0.0327419\ttotal: 310ms\tremaining: 268ms\n",
      "537:\tlearn: 0.0326665\ttotal: 311ms\tremaining: 267ms\n",
      "538:\tlearn: 0.0325362\ttotal: 311ms\tremaining: 266ms\n",
      "539:\tlearn: 0.0324591\ttotal: 312ms\tremaining: 266ms\n",
      "540:\tlearn: 0.0323203\ttotal: 312ms\tremaining: 265ms\n",
      "541:\tlearn: 0.0322169\ttotal: 313ms\tremaining: 264ms\n",
      "542:\tlearn: 0.0321165\ttotal: 313ms\tremaining: 264ms\n",
      "543:\tlearn: 0.0319391\ttotal: 314ms\tremaining: 263ms\n",
      "544:\tlearn: 0.0317669\ttotal: 314ms\tremaining: 262ms\n",
      "545:\tlearn: 0.0316549\ttotal: 315ms\tremaining: 262ms\n",
      "546:\tlearn: 0.0315833\ttotal: 315ms\tremaining: 261ms\n",
      "547:\tlearn: 0.0315093\ttotal: 316ms\tremaining: 260ms\n",
      "548:\tlearn: 0.0314073\ttotal: 316ms\tremaining: 260ms\n",
      "549:\tlearn: 0.0313332\ttotal: 317ms\tremaining: 259ms\n",
      "550:\tlearn: 0.0312635\ttotal: 317ms\tremaining: 258ms\n",
      "551:\tlearn: 0.0311022\ttotal: 318ms\tremaining: 258ms\n",
      "552:\tlearn: 0.0310294\ttotal: 318ms\tremaining: 257ms\n",
      "553:\tlearn: 0.0308710\ttotal: 319ms\tremaining: 256ms\n",
      "554:\tlearn: 0.0307236\ttotal: 319ms\tremaining: 256ms\n",
      "555:\tlearn: 0.0306260\ttotal: 319ms\tremaining: 255ms\n",
      "556:\tlearn: 0.0304593\ttotal: 320ms\tremaining: 254ms\n",
      "557:\tlearn: 0.0303061\ttotal: 321ms\tremaining: 254ms\n",
      "558:\tlearn: 0.0301926\ttotal: 321ms\tremaining: 253ms\n",
      "559:\tlearn: 0.0301046\ttotal: 321ms\tremaining: 253ms\n",
      "560:\tlearn: 0.0299955\ttotal: 322ms\tremaining: 252ms\n",
      "561:\tlearn: 0.0298302\ttotal: 323ms\tremaining: 251ms\n",
      "562:\tlearn: 0.0296697\ttotal: 323ms\tremaining: 251ms\n",
      "563:\tlearn: 0.0295856\ttotal: 323ms\tremaining: 250ms\n",
      "564:\tlearn: 0.0294815\ttotal: 324ms\tremaining: 250ms\n",
      "565:\tlearn: 0.0293806\ttotal: 325ms\tremaining: 249ms\n",
      "566:\tlearn: 0.0292205\ttotal: 325ms\tremaining: 248ms\n",
      "567:\tlearn: 0.0290668\ttotal: 326ms\tremaining: 248ms\n",
      "568:\tlearn: 0.0289874\ttotal: 326ms\tremaining: 247ms\n",
      "569:\tlearn: 0.0288917\ttotal: 327ms\tremaining: 247ms\n",
      "570:\tlearn: 0.0287328\ttotal: 327ms\tremaining: 246ms\n",
      "571:\tlearn: 0.0286408\ttotal: 328ms\tremaining: 245ms\n",
      "572:\tlearn: 0.0284864\ttotal: 328ms\tremaining: 245ms\n",
      "573:\tlearn: 0.0284217\ttotal: 329ms\tremaining: 244ms\n",
      "574:\tlearn: 0.0283580\ttotal: 329ms\tremaining: 243ms\n",
      "575:\tlearn: 0.0282081\ttotal: 330ms\tremaining: 243ms\n",
      "576:\tlearn: 0.0281212\ttotal: 330ms\tremaining: 242ms\n",
      "577:\tlearn: 0.0279755\ttotal: 331ms\tremaining: 241ms\n",
      "578:\tlearn: 0.0278828\ttotal: 331ms\tremaining: 241ms\n",
      "579:\tlearn: 0.0277997\ttotal: 331ms\tremaining: 240ms\n",
      "580:\tlearn: 0.0276584\ttotal: 332ms\tremaining: 239ms\n",
      "581:\tlearn: 0.0275657\ttotal: 332ms\tremaining: 239ms\n",
      "582:\tlearn: 0.0274863\ttotal: 333ms\tremaining: 238ms\n",
      "583:\tlearn: 0.0273853\ttotal: 333ms\tremaining: 238ms\n",
      "584:\tlearn: 0.0273194\ttotal: 334ms\tremaining: 237ms\n",
      "585:\tlearn: 0.0271746\ttotal: 335ms\tremaining: 236ms\n",
      "586:\tlearn: 0.0271147\ttotal: 335ms\tremaining: 236ms\n",
      "587:\tlearn: 0.0270079\ttotal: 336ms\tremaining: 235ms\n",
      "588:\tlearn: 0.0269445\ttotal: 336ms\tremaining: 235ms\n",
      "589:\tlearn: 0.0267977\ttotal: 337ms\tremaining: 234ms\n",
      "590:\tlearn: 0.0267233\ttotal: 337ms\tremaining: 233ms\n",
      "591:\tlearn: 0.0266500\ttotal: 337ms\tremaining: 233ms\n",
      "592:\tlearn: 0.0265604\ttotal: 338ms\tremaining: 232ms\n",
      "593:\tlearn: 0.0264176\ttotal: 338ms\tremaining: 231ms\n",
      "594:\tlearn: 0.0263457\ttotal: 339ms\tremaining: 231ms\n",
      "595:\tlearn: 0.0262591\ttotal: 339ms\tremaining: 230ms\n",
      "596:\tlearn: 0.0261424\ttotal: 340ms\tremaining: 229ms\n",
      "597:\tlearn: 0.0260817\ttotal: 340ms\tremaining: 229ms\n",
      "598:\tlearn: 0.0260116\ttotal: 341ms\tremaining: 228ms\n",
      "599:\tlearn: 0.0258714\ttotal: 341ms\tremaining: 227ms\n",
      "600:\tlearn: 0.0257575\ttotal: 341ms\tremaining: 227ms\n",
      "601:\tlearn: 0.0256500\ttotal: 342ms\tremaining: 226ms\n",
      "602:\tlearn: 0.0255816\ttotal: 342ms\tremaining: 225ms\n",
      "603:\tlearn: 0.0254914\ttotal: 343ms\tremaining: 225ms\n",
      "604:\tlearn: 0.0254240\ttotal: 343ms\tremaining: 224ms\n",
      "605:\tlearn: 0.0253294\ttotal: 344ms\tremaining: 224ms\n",
      "606:\tlearn: 0.0252630\ttotal: 344ms\tremaining: 223ms\n",
      "607:\tlearn: 0.0251976\ttotal: 345ms\tremaining: 222ms\n",
      "608:\tlearn: 0.0251287\ttotal: 345ms\tremaining: 222ms\n",
      "609:\tlearn: 0.0250643\ttotal: 346ms\tremaining: 221ms\n",
      "610:\tlearn: 0.0249964\ttotal: 346ms\tremaining: 221ms\n",
      "611:\tlearn: 0.0249329\ttotal: 347ms\tremaining: 220ms\n",
      "612:\tlearn: 0.0248265\ttotal: 347ms\tremaining: 219ms\n",
      "613:\tlearn: 0.0247641\ttotal: 348ms\tremaining: 219ms\n",
      "614:\tlearn: 0.0246978\ttotal: 349ms\tremaining: 218ms\n",
      "615:\tlearn: 0.0246357\ttotal: 349ms\tremaining: 218ms\n",
      "616:\tlearn: 0.0245911\ttotal: 350ms\tremaining: 217ms\n",
      "617:\tlearn: 0.0245299\ttotal: 350ms\tremaining: 216ms\n",
      "618:\tlearn: 0.0244803\ttotal: 351ms\tremaining: 216ms\n",
      "619:\tlearn: 0.0244363\ttotal: 351ms\tremaining: 215ms\n"
     ]
    },
    {
     "name": "stdout",
     "output_type": "stream",
     "text": [
      "620:\tlearn: 0.0243760\ttotal: 352ms\tremaining: 215ms\n",
      "621:\tlearn: 0.0242885\ttotal: 352ms\tremaining: 214ms\n",
      "622:\tlearn: 0.0242292\ttotal: 353ms\tremaining: 214ms\n",
      "623:\tlearn: 0.0241654\ttotal: 354ms\tremaining: 213ms\n",
      "624:\tlearn: 0.0241068\ttotal: 354ms\tremaining: 213ms\n",
      "625:\tlearn: 0.0240572\ttotal: 355ms\tremaining: 212ms\n",
      "626:\tlearn: 0.0239359\ttotal: 355ms\tremaining: 211ms\n",
      "627:\tlearn: 0.0238645\ttotal: 356ms\tremaining: 211ms\n",
      "628:\tlearn: 0.0237656\ttotal: 357ms\tremaining: 210ms\n",
      "629:\tlearn: 0.0236477\ttotal: 357ms\tremaining: 210ms\n",
      "630:\tlearn: 0.0235228\ttotal: 358ms\tremaining: 209ms\n",
      "631:\tlearn: 0.0234075\ttotal: 358ms\tremaining: 209ms\n",
      "632:\tlearn: 0.0233095\ttotal: 359ms\tremaining: 208ms\n",
      "633:\tlearn: 0.0231878\ttotal: 359ms\tremaining: 207ms\n",
      "634:\tlearn: 0.0230929\ttotal: 360ms\tremaining: 207ms\n",
      "635:\tlearn: 0.0230040\ttotal: 360ms\tremaining: 206ms\n",
      "636:\tlearn: 0.0228850\ttotal: 361ms\tremaining: 205ms\n",
      "637:\tlearn: 0.0227749\ttotal: 361ms\tremaining: 205ms\n",
      "638:\tlearn: 0.0226671\ttotal: 361ms\tremaining: 204ms\n",
      "639:\tlearn: 0.0225616\ttotal: 362ms\tremaining: 203ms\n",
      "640:\tlearn: 0.0224584\ttotal: 362ms\tremaining: 203ms\n",
      "641:\tlearn: 0.0223574\ttotal: 363ms\tremaining: 202ms\n",
      "642:\tlearn: 0.0222601\ttotal: 363ms\tremaining: 202ms\n",
      "643:\tlearn: 0.0222210\ttotal: 363ms\tremaining: 201ms\n",
      "644:\tlearn: 0.0221685\ttotal: 364ms\tremaining: 200ms\n",
      "645:\tlearn: 0.0220631\ttotal: 364ms\tremaining: 200ms\n",
      "646:\tlearn: 0.0220114\ttotal: 365ms\tremaining: 199ms\n",
      "647:\tlearn: 0.0219212\ttotal: 365ms\tremaining: 198ms\n",
      "648:\tlearn: 0.0218701\ttotal: 366ms\tremaining: 198ms\n",
      "649:\tlearn: 0.0218319\ttotal: 366ms\tremaining: 197ms\n",
      "650:\tlearn: 0.0217487\ttotal: 367ms\tremaining: 197ms\n",
      "651:\tlearn: 0.0216537\ttotal: 368ms\tremaining: 196ms\n",
      "652:\tlearn: 0.0215499\ttotal: 368ms\tremaining: 196ms\n",
      "653:\tlearn: 0.0214465\ttotal: 369ms\tremaining: 195ms\n",
      "654:\tlearn: 0.0213658\ttotal: 369ms\tremaining: 195ms\n",
      "655:\tlearn: 0.0212575\ttotal: 370ms\tremaining: 194ms\n",
      "656:\tlearn: 0.0211562\ttotal: 371ms\tremaining: 193ms\n",
      "657:\tlearn: 0.0210567\ttotal: 371ms\tremaining: 193ms\n",
      "658:\tlearn: 0.0210075\ttotal: 372ms\tremaining: 192ms\n",
      "659:\tlearn: 0.0209187\ttotal: 372ms\tremaining: 192ms\n",
      "660:\tlearn: 0.0208733\ttotal: 373ms\tremaining: 191ms\n",
      "661:\tlearn: 0.0207798\ttotal: 373ms\tremaining: 191ms\n",
      "662:\tlearn: 0.0206928\ttotal: 374ms\tremaining: 190ms\n",
      "663:\tlearn: 0.0206366\ttotal: 374ms\tremaining: 189ms\n",
      "664:\tlearn: 0.0205381\ttotal: 375ms\tremaining: 189ms\n",
      "665:\tlearn: 0.0204828\ttotal: 375ms\tremaining: 188ms\n",
      "666:\tlearn: 0.0203777\ttotal: 376ms\tremaining: 188ms\n",
      "667:\tlearn: 0.0203307\ttotal: 376ms\tremaining: 187ms\n",
      "668:\tlearn: 0.0202367\ttotal: 377ms\tremaining: 186ms\n",
      "669:\tlearn: 0.0202000\ttotal: 378ms\tremaining: 186ms\n",
      "670:\tlearn: 0.0201640\ttotal: 378ms\tremaining: 186ms\n",
      "671:\tlearn: 0.0200741\ttotal: 379ms\tremaining: 185ms\n",
      "672:\tlearn: 0.0200208\ttotal: 379ms\tremaining: 184ms\n",
      "673:\tlearn: 0.0198883\ttotal: 380ms\tremaining: 184ms\n",
      "674:\tlearn: 0.0197789\ttotal: 380ms\tremaining: 183ms\n",
      "675:\tlearn: 0.0197269\ttotal: 381ms\tremaining: 183ms\n",
      "676:\tlearn: 0.0196169\ttotal: 381ms\tremaining: 182ms\n",
      "677:\tlearn: 0.0195255\ttotal: 382ms\tremaining: 181ms\n",
      "678:\tlearn: 0.0194355\ttotal: 382ms\tremaining: 181ms\n",
      "679:\tlearn: 0.0193303\ttotal: 383ms\tremaining: 180ms\n",
      "680:\tlearn: 0.0192423\ttotal: 383ms\tremaining: 179ms\n",
      "681:\tlearn: 0.0191378\ttotal: 384ms\tremaining: 179ms\n",
      "682:\tlearn: 0.0190371\ttotal: 384ms\tremaining: 178ms\n",
      "683:\tlearn: 0.0189614\ttotal: 385ms\tremaining: 178ms\n",
      "684:\tlearn: 0.0188897\ttotal: 386ms\tremaining: 177ms\n",
      "685:\tlearn: 0.0188049\ttotal: 386ms\tremaining: 177ms\n",
      "686:\tlearn: 0.0187044\ttotal: 387ms\tremaining: 176ms\n",
      "687:\tlearn: 0.0186208\ttotal: 387ms\tremaining: 176ms\n",
      "688:\tlearn: 0.0185190\ttotal: 388ms\tremaining: 175ms\n",
      "689:\tlearn: 0.0184233\ttotal: 389ms\tremaining: 175ms\n",
      "690:\tlearn: 0.0183417\ttotal: 389ms\tremaining: 174ms\n",
      "691:\tlearn: 0.0182606\ttotal: 390ms\tremaining: 173ms\n",
      "692:\tlearn: 0.0181641\ttotal: 390ms\tremaining: 173ms\n",
      "693:\tlearn: 0.0180848\ttotal: 391ms\tremaining: 172ms\n",
      "694:\tlearn: 0.0179894\ttotal: 391ms\tremaining: 172ms\n",
      "695:\tlearn: 0.0179031\ttotal: 391ms\tremaining: 171ms\n",
      "696:\tlearn: 0.0178241\ttotal: 392ms\tremaining: 170ms\n",
      "697:\tlearn: 0.0177383\ttotal: 392ms\tremaining: 170ms\n",
      "698:\tlearn: 0.0176539\ttotal: 393ms\tremaining: 169ms\n",
      "699:\tlearn: 0.0175711\ttotal: 393ms\tremaining: 169ms\n",
      "700:\tlearn: 0.0174767\ttotal: 394ms\tremaining: 168ms\n",
      "701:\tlearn: 0.0173960\ttotal: 394ms\tremaining: 167ms\n",
      "702:\tlearn: 0.0173564\ttotal: 395ms\tremaining: 167ms\n",
      "703:\tlearn: 0.0172772\ttotal: 395ms\tremaining: 166ms\n",
      "704:\tlearn: 0.0172383\ttotal: 396ms\tremaining: 166ms\n",
      "705:\tlearn: 0.0171619\ttotal: 397ms\tremaining: 165ms\n",
      "706:\tlearn: 0.0170846\ttotal: 397ms\tremaining: 165ms\n",
      "707:\tlearn: 0.0170098\ttotal: 398ms\tremaining: 164ms\n",
      "708:\tlearn: 0.0169190\ttotal: 399ms\tremaining: 164ms\n",
      "709:\tlearn: 0.0168278\ttotal: 399ms\tremaining: 163ms\n",
      "710:\tlearn: 0.0167500\ttotal: 400ms\tremaining: 162ms\n",
      "711:\tlearn: 0.0166781\ttotal: 400ms\tremaining: 162ms\n",
      "712:\tlearn: 0.0165893\ttotal: 401ms\tremaining: 161ms\n",
      "713:\tlearn: 0.0165189\ttotal: 401ms\tremaining: 161ms\n",
      "714:\tlearn: 0.0164315\ttotal: 401ms\tremaining: 160ms\n",
      "715:\tlearn: 0.0163450\ttotal: 402ms\tremaining: 159ms\n",
      "716:\tlearn: 0.0162714\ttotal: 403ms\tremaining: 159ms\n",
      "717:\tlearn: 0.0162225\ttotal: 403ms\tremaining: 158ms\n",
      "718:\tlearn: 0.0161751\ttotal: 404ms\tremaining: 158ms\n",
      "719:\tlearn: 0.0161067\ttotal: 404ms\tremaining: 157ms\n",
      "720:\tlearn: 0.0160672\ttotal: 405ms\tremaining: 157ms\n",
      "721:\tlearn: 0.0160222\ttotal: 405ms\tremaining: 156ms\n",
      "722:\tlearn: 0.0159676\ttotal: 406ms\tremaining: 155ms\n",
      "723:\tlearn: 0.0158685\ttotal: 406ms\tremaining: 155ms\n",
      "724:\tlearn: 0.0158149\ttotal: 406ms\tremaining: 154ms\n",
      "725:\tlearn: 0.0157310\ttotal: 407ms\tremaining: 154ms\n",
      "726:\tlearn: 0.0156346\ttotal: 407ms\tremaining: 153ms\n",
      "727:\tlearn: 0.0155646\ttotal: 408ms\tremaining: 152ms\n",
      "728:\tlearn: 0.0155123\ttotal: 408ms\tremaining: 152ms\n",
      "729:\tlearn: 0.0154381\ttotal: 409ms\tremaining: 151ms\n",
      "730:\tlearn: 0.0153476\ttotal: 409ms\tremaining: 151ms\n",
      "731:\tlearn: 0.0152796\ttotal: 410ms\tremaining: 150ms\n",
      "732:\tlearn: 0.0151880\ttotal: 411ms\tremaining: 150ms\n",
      "733:\tlearn: 0.0151196\ttotal: 411ms\tremaining: 149ms\n",
      "734:\tlearn: 0.0150408\ttotal: 411ms\tremaining: 148ms\n",
      "735:\tlearn: 0.0149790\ttotal: 412ms\tremaining: 148ms\n",
      "736:\tlearn: 0.0149140\ttotal: 412ms\tremaining: 147ms\n",
      "737:\tlearn: 0.0148359\ttotal: 413ms\tremaining: 147ms\n",
      "738:\tlearn: 0.0147666\ttotal: 414ms\tremaining: 146ms\n",
      "739:\tlearn: 0.0146822\ttotal: 414ms\tremaining: 146ms\n",
      "740:\tlearn: 0.0145998\ttotal: 415ms\tremaining: 145ms\n",
      "741:\tlearn: 0.0145354\ttotal: 415ms\tremaining: 144ms\n",
      "742:\tlearn: 0.0144980\ttotal: 416ms\tremaining: 144ms\n",
      "743:\tlearn: 0.0144245\ttotal: 417ms\tremaining: 143ms\n",
      "744:\tlearn: 0.0143879\ttotal: 417ms\tremaining: 143ms\n",
      "745:\tlearn: 0.0143488\ttotal: 418ms\tremaining: 142ms\n",
      "746:\tlearn: 0.0142744\ttotal: 418ms\tremaining: 142ms\n",
      "747:\tlearn: 0.0142360\ttotal: 419ms\tremaining: 141ms\n",
      "748:\tlearn: 0.0141717\ttotal: 419ms\tremaining: 140ms\n",
      "749:\tlearn: 0.0141103\ttotal: 420ms\tremaining: 140ms\n",
      "750:\tlearn: 0.0140728\ttotal: 420ms\tremaining: 139ms\n",
      "751:\tlearn: 0.0140383\ttotal: 420ms\tremaining: 139ms\n",
      "752:\tlearn: 0.0139663\ttotal: 421ms\tremaining: 138ms\n",
      "753:\tlearn: 0.0139299\ttotal: 421ms\tremaining: 137ms\n",
      "754:\tlearn: 0.0139019\ttotal: 422ms\tremaining: 137ms\n",
      "755:\tlearn: 0.0138686\ttotal: 422ms\tremaining: 136ms\n",
      "756:\tlearn: 0.0138480\ttotal: 423ms\tremaining: 136ms\n",
      "757:\tlearn: 0.0137780\ttotal: 423ms\tremaining: 135ms\n",
      "758:\tlearn: 0.0137188\ttotal: 424ms\tremaining: 134ms\n",
      "759:\tlearn: 0.0136624\ttotal: 424ms\tremaining: 134ms\n",
      "760:\tlearn: 0.0136275\ttotal: 424ms\tremaining: 133ms\n",
      "761:\tlearn: 0.0136075\ttotal: 425ms\tremaining: 133ms\n",
      "762:\tlearn: 0.0135731\ttotal: 426ms\tremaining: 132ms\n",
      "763:\tlearn: 0.0135393\ttotal: 426ms\tremaining: 132ms\n",
      "764:\tlearn: 0.0135129\ttotal: 427ms\tremaining: 131ms\n",
      "765:\tlearn: 0.0134587\ttotal: 427ms\tremaining: 130ms\n",
      "766:\tlearn: 0.0134328\ttotal: 428ms\tremaining: 130ms\n",
      "767:\tlearn: 0.0133999\ttotal: 428ms\tremaining: 129ms\n",
      "768:\tlearn: 0.0133687\ttotal: 429ms\tremaining: 129ms\n",
      "769:\tlearn: 0.0133140\ttotal: 429ms\tremaining: 128ms\n",
      "770:\tlearn: 0.0132953\ttotal: 430ms\tremaining: 128ms\n",
      "771:\tlearn: 0.0132630\ttotal: 430ms\tremaining: 127ms\n",
      "772:\tlearn: 0.0132099\ttotal: 431ms\tremaining: 126ms\n",
      "773:\tlearn: 0.0131542\ttotal: 431ms\tremaining: 126ms\n",
      "774:\tlearn: 0.0131260\ttotal: 431ms\tremaining: 125ms\n",
      "775:\tlearn: 0.0130961\ttotal: 432ms\tremaining: 125ms\n",
      "776:\tlearn: 0.0130415\ttotal: 432ms\tremaining: 124ms\n",
      "777:\tlearn: 0.0129886\ttotal: 433ms\tremaining: 124ms\n",
      "778:\tlearn: 0.0129269\ttotal: 434ms\tremaining: 123ms\n"
     ]
    },
    {
     "name": "stdout",
     "output_type": "stream",
     "text": [
      "779:\tlearn: 0.0128733\ttotal: 434ms\tremaining: 122ms\n",
      "780:\tlearn: 0.0128556\ttotal: 435ms\tremaining: 122ms\n",
      "781:\tlearn: 0.0127954\ttotal: 436ms\tremaining: 121ms\n",
      "782:\tlearn: 0.0127430\ttotal: 436ms\tremaining: 121ms\n",
      "783:\tlearn: 0.0126759\ttotal: 436ms\tremaining: 120ms\n",
      "784:\tlearn: 0.0126167\ttotal: 437ms\tremaining: 120ms\n",
      "785:\tlearn: 0.0125563\ttotal: 437ms\tremaining: 119ms\n",
      "786:\tlearn: 0.0124946\ttotal: 438ms\tremaining: 118ms\n",
      "787:\tlearn: 0.0124371\ttotal: 438ms\tremaining: 118ms\n",
      "788:\tlearn: 0.0123829\ttotal: 438ms\tremaining: 117ms\n",
      "789:\tlearn: 0.0123271\ttotal: 439ms\tremaining: 117ms\n",
      "790:\tlearn: 0.0122628\ttotal: 440ms\tremaining: 116ms\n",
      "791:\tlearn: 0.0121997\ttotal: 440ms\tremaining: 116ms\n",
      "792:\tlearn: 0.0121381\ttotal: 441ms\tremaining: 115ms\n",
      "793:\tlearn: 0.0120990\ttotal: 441ms\tremaining: 114ms\n",
      "794:\tlearn: 0.0120596\ttotal: 442ms\tremaining: 114ms\n",
      "795:\tlearn: 0.0120112\ttotal: 442ms\tremaining: 113ms\n",
      "796:\tlearn: 0.0119801\ttotal: 443ms\tremaining: 113ms\n",
      "797:\tlearn: 0.0119251\ttotal: 443ms\tremaining: 112ms\n",
      "798:\tlearn: 0.0118944\ttotal: 444ms\tremaining: 112ms\n",
      "799:\tlearn: 0.0118353\ttotal: 444ms\tremaining: 111ms\n",
      "800:\tlearn: 0.0117973\ttotal: 445ms\tremaining: 110ms\n",
      "801:\tlearn: 0.0117675\ttotal: 445ms\tremaining: 110ms\n",
      "802:\tlearn: 0.0117381\ttotal: 446ms\tremaining: 109ms\n",
      "803:\tlearn: 0.0116830\ttotal: 446ms\tremaining: 109ms\n",
      "804:\tlearn: 0.0116293\ttotal: 447ms\tremaining: 108ms\n",
      "805:\tlearn: 0.0115725\ttotal: 447ms\tremaining: 108ms\n",
      "806:\tlearn: 0.0115361\ttotal: 448ms\tremaining: 107ms\n",
      "807:\tlearn: 0.0115077\ttotal: 449ms\tremaining: 107ms\n",
      "808:\tlearn: 0.0114625\ttotal: 449ms\tremaining: 106ms\n",
      "809:\tlearn: 0.0114103\ttotal: 450ms\tremaining: 106ms\n",
      "810:\tlearn: 0.0113611\ttotal: 450ms\tremaining: 105ms\n",
      "811:\tlearn: 0.0113258\ttotal: 451ms\tremaining: 104ms\n",
      "812:\tlearn: 0.0112985\ttotal: 451ms\tremaining: 104ms\n",
      "813:\tlearn: 0.0112558\ttotal: 452ms\tremaining: 103ms\n",
      "814:\tlearn: 0.0112022\ttotal: 452ms\tremaining: 103ms\n",
      "815:\tlearn: 0.0111756\ttotal: 452ms\tremaining: 102ms\n",
      "816:\tlearn: 0.0111300\ttotal: 453ms\tremaining: 101ms\n",
      "817:\tlearn: 0.0110724\ttotal: 453ms\tremaining: 101ms\n",
      "818:\tlearn: 0.0110314\ttotal: 454ms\tremaining: 100ms\n",
      "819:\tlearn: 0.0109870\ttotal: 454ms\tremaining: 99.7ms\n",
      "820:\tlearn: 0.0109370\ttotal: 455ms\tremaining: 99.2ms\n",
      "821:\tlearn: 0.0108881\ttotal: 455ms\tremaining: 98.6ms\n",
      "822:\tlearn: 0.0108622\ttotal: 456ms\tremaining: 98ms\n",
      "823:\tlearn: 0.0108365\ttotal: 456ms\tremaining: 97.5ms\n",
      "824:\tlearn: 0.0107910\ttotal: 457ms\tremaining: 96.9ms\n",
      "825:\tlearn: 0.0107515\ttotal: 457ms\tremaining: 96.4ms\n",
      "826:\tlearn: 0.0107265\ttotal: 458ms\tremaining: 95.8ms\n",
      "827:\tlearn: 0.0107019\ttotal: 458ms\tremaining: 95.2ms\n",
      "828:\tlearn: 0.0106775\ttotal: 459ms\tremaining: 94.7ms\n",
      "829:\tlearn: 0.0106350\ttotal: 460ms\tremaining: 94.1ms\n",
      "830:\tlearn: 0.0105873\ttotal: 461ms\tremaining: 93.7ms\n",
      "831:\tlearn: 0.0105633\ttotal: 461ms\tremaining: 93.1ms\n",
      "832:\tlearn: 0.0105171\ttotal: 462ms\tremaining: 92.6ms\n",
      "833:\tlearn: 0.0104680\ttotal: 463ms\tremaining: 92.1ms\n",
      "834:\tlearn: 0.0104216\ttotal: 463ms\tremaining: 91.5ms\n",
      "835:\tlearn: 0.0103982\ttotal: 464ms\tremaining: 90.9ms\n",
      "836:\tlearn: 0.0103751\ttotal: 464ms\tremaining: 90.4ms\n",
      "837:\tlearn: 0.0103400\ttotal: 465ms\tremaining: 89.8ms\n",
      "838:\tlearn: 0.0103028\ttotal: 465ms\tremaining: 89.2ms\n",
      "839:\tlearn: 0.0102683\ttotal: 465ms\tremaining: 88.6ms\n",
      "840:\tlearn: 0.0102346\ttotal: 466ms\tremaining: 88.1ms\n",
      "841:\tlearn: 0.0101826\ttotal: 466ms\tremaining: 87.5ms\n",
      "842:\tlearn: 0.0101348\ttotal: 467ms\tremaining: 86.9ms\n",
      "843:\tlearn: 0.0100909\ttotal: 467ms\tremaining: 86.3ms\n",
      "844:\tlearn: 0.0100442\ttotal: 468ms\tremaining: 85.8ms\n",
      "845:\tlearn: 0.0100200\ttotal: 468ms\tremaining: 85.2ms\n",
      "846:\tlearn: 0.0099742\ttotal: 469ms\tremaining: 84.7ms\n",
      "847:\tlearn: 0.0099314\ttotal: 469ms\tremaining: 84.1ms\n",
      "848:\tlearn: 0.0098925\ttotal: 470ms\tremaining: 83.5ms\n",
      "849:\tlearn: 0.0098479\ttotal: 470ms\tremaining: 83ms\n",
      "850:\tlearn: 0.0098042\ttotal: 471ms\tremaining: 82.4ms\n",
      "851:\tlearn: 0.0097813\ttotal: 471ms\tremaining: 81.9ms\n",
      "852:\tlearn: 0.0097683\ttotal: 472ms\tremaining: 81.3ms\n",
      "853:\tlearn: 0.0097337\ttotal: 472ms\tremaining: 80.7ms\n",
      "854:\tlearn: 0.0096909\ttotal: 473ms\tremaining: 80.2ms\n",
      "855:\tlearn: 0.0096686\ttotal: 473ms\tremaining: 79.6ms\n",
      "856:\tlearn: 0.0096484\ttotal: 474ms\tremaining: 79ms\n",
      "857:\tlearn: 0.0096285\ttotal: 474ms\tremaining: 78.5ms\n",
      "858:\tlearn: 0.0095868\ttotal: 475ms\tremaining: 77.9ms\n",
      "859:\tlearn: 0.0095673\ttotal: 475ms\tremaining: 77.4ms\n",
      "860:\tlearn: 0.0095455\ttotal: 476ms\tremaining: 76.8ms\n",
      "861:\tlearn: 0.0095265\ttotal: 477ms\tremaining: 76.3ms\n",
      "862:\tlearn: 0.0095078\ttotal: 477ms\tremaining: 75.8ms\n",
      "863:\tlearn: 0.0094621\ttotal: 478ms\tremaining: 75.2ms\n",
      "864:\tlearn: 0.0094215\ttotal: 478ms\tremaining: 74.7ms\n",
      "865:\tlearn: 0.0094002\ttotal: 479ms\tremaining: 74.1ms\n",
      "866:\tlearn: 0.0093791\ttotal: 479ms\tremaining: 73.5ms\n",
      "867:\tlearn: 0.0093609\ttotal: 480ms\tremaining: 72.9ms\n",
      "868:\tlearn: 0.0093164\ttotal: 480ms\tremaining: 72.4ms\n",
      "869:\tlearn: 0.0092769\ttotal: 480ms\tremaining: 71.8ms\n",
      "870:\tlearn: 0.0092535\ttotal: 481ms\tremaining: 71.2ms\n",
      "871:\tlearn: 0.0092187\ttotal: 481ms\tremaining: 70.7ms\n",
      "872:\tlearn: 0.0092017\ttotal: 482ms\tremaining: 70.1ms\n",
      "873:\tlearn: 0.0091583\ttotal: 482ms\tremaining: 69.5ms\n",
      "874:\tlearn: 0.0091201\ttotal: 483ms\tremaining: 69ms\n",
      "875:\tlearn: 0.0090776\ttotal: 483ms\tremaining: 68.4ms\n",
      "876:\tlearn: 0.0090439\ttotal: 484ms\tremaining: 67.8ms\n",
      "877:\tlearn: 0.0090023\ttotal: 484ms\tremaining: 67.3ms\n",
      "878:\tlearn: 0.0089691\ttotal: 485ms\tremaining: 66.7ms\n",
      "879:\tlearn: 0.0089284\ttotal: 485ms\tremaining: 66.1ms\n",
      "880:\tlearn: 0.0088919\ttotal: 485ms\tremaining: 65.6ms\n",
      "881:\tlearn: 0.0088692\ttotal: 486ms\tremaining: 65ms\n",
      "882:\tlearn: 0.0088341\ttotal: 487ms\tremaining: 64.5ms\n",
      "883:\tlearn: 0.0088120\ttotal: 487ms\tremaining: 63.9ms\n",
      "884:\tlearn: 0.0087835\ttotal: 488ms\tremaining: 63.4ms\n",
      "885:\tlearn: 0.0087664\ttotal: 488ms\tremaining: 62.8ms\n",
      "886:\tlearn: 0.0087383\ttotal: 489ms\tremaining: 62.2ms\n",
      "887:\tlearn: 0.0087216\ttotal: 489ms\tremaining: 61.7ms\n",
      "888:\tlearn: 0.0086824\ttotal: 490ms\tremaining: 61.1ms\n",
      "889:\tlearn: 0.0086549\ttotal: 490ms\tremaining: 60.6ms\n",
      "890:\tlearn: 0.0086356\ttotal: 491ms\tremaining: 60ms\n",
      "891:\tlearn: 0.0086197\ttotal: 491ms\tremaining: 59.5ms\n",
      "892:\tlearn: 0.0085869\ttotal: 492ms\tremaining: 58.9ms\n",
      "893:\tlearn: 0.0085599\ttotal: 492ms\tremaining: 58.4ms\n",
      "894:\tlearn: 0.0085419\ttotal: 493ms\tremaining: 57.8ms\n",
      "895:\tlearn: 0.0085154\ttotal: 493ms\tremaining: 57.2ms\n",
      "896:\tlearn: 0.0085002\ttotal: 493ms\tremaining: 56.7ms\n",
      "897:\tlearn: 0.0084852\ttotal: 494ms\tremaining: 56.1ms\n",
      "898:\tlearn: 0.0084496\ttotal: 495ms\tremaining: 55.6ms\n",
      "899:\tlearn: 0.0084293\ttotal: 495ms\tremaining: 55ms\n",
      "900:\tlearn: 0.0084034\ttotal: 495ms\tremaining: 54.4ms\n",
      "901:\tlearn: 0.0083863\ttotal: 496ms\tremaining: 53.9ms\n",
      "902:\tlearn: 0.0083695\ttotal: 496ms\tremaining: 53.3ms\n",
      "903:\tlearn: 0.0083316\ttotal: 497ms\tremaining: 52.7ms\n",
      "904:\tlearn: 0.0082946\ttotal: 497ms\tremaining: 52.2ms\n",
      "905:\tlearn: 0.0082649\ttotal: 498ms\tremaining: 51.7ms\n",
      "906:\tlearn: 0.0082453\ttotal: 498ms\tremaining: 51.1ms\n",
      "907:\tlearn: 0.0082111\ttotal: 499ms\tremaining: 50.5ms\n",
      "908:\tlearn: 0.0081744\ttotal: 499ms\tremaining: 50ms\n",
      "909:\tlearn: 0.0081496\ttotal: 500ms\tremaining: 49.4ms\n",
      "910:\tlearn: 0.0081306\ttotal: 500ms\tremaining: 48.9ms\n",
      "911:\tlearn: 0.0080985\ttotal: 501ms\tremaining: 48.3ms\n",
      "912:\tlearn: 0.0080741\ttotal: 501ms\tremaining: 47.7ms\n",
      "913:\tlearn: 0.0080564\ttotal: 501ms\tremaining: 47.2ms\n",
      "914:\tlearn: 0.0080254\ttotal: 502ms\tremaining: 46.6ms\n",
      "915:\tlearn: 0.0079891\ttotal: 502ms\tremaining: 46.1ms\n",
      "916:\tlearn: 0.0079653\ttotal: 503ms\tremaining: 45.5ms\n",
      "917:\tlearn: 0.0079482\ttotal: 503ms\tremaining: 45ms\n",
      "918:\tlearn: 0.0079280\ttotal: 504ms\tremaining: 44.4ms\n",
      "919:\tlearn: 0.0078945\ttotal: 504ms\tremaining: 43.8ms\n",
      "920:\tlearn: 0.0078711\ttotal: 505ms\tremaining: 43.3ms\n",
      "921:\tlearn: 0.0078547\ttotal: 506ms\tremaining: 42.8ms\n",
      "922:\tlearn: 0.0078448\ttotal: 507ms\tremaining: 42.3ms\n",
      "923:\tlearn: 0.0078254\ttotal: 507ms\tremaining: 41.7ms\n",
      "924:\tlearn: 0.0078024\ttotal: 508ms\tremaining: 41.2ms\n",
      "925:\tlearn: 0.0077913\ttotal: 509ms\tremaining: 40.6ms\n",
      "926:\tlearn: 0.0077586\ttotal: 509ms\tremaining: 40.1ms\n",
      "927:\tlearn: 0.0077478\ttotal: 510ms\tremaining: 39.6ms\n",
      "928:\tlearn: 0.0077132\ttotal: 511ms\tremaining: 39ms\n",
      "929:\tlearn: 0.0076958\ttotal: 511ms\tremaining: 38.5ms\n",
      "930:\tlearn: 0.0076818\ttotal: 512ms\tremaining: 38ms\n",
      "931:\tlearn: 0.0076662\ttotal: 513ms\tremaining: 37.4ms\n",
      "932:\tlearn: 0.0076547\ttotal: 514ms\tremaining: 36.9ms\n",
      "933:\tlearn: 0.0076441\ttotal: 514ms\tremaining: 36.3ms\n",
      "934:\tlearn: 0.0076125\ttotal: 515ms\tremaining: 35.8ms\n",
      "935:\tlearn: 0.0076021\ttotal: 515ms\tremaining: 35.2ms\n",
      "936:\tlearn: 0.0075852\ttotal: 516ms\tremaining: 34.7ms\n",
      "937:\tlearn: 0.0075715\ttotal: 516ms\tremaining: 34.1ms\n",
      "938:\tlearn: 0.0075385\ttotal: 517ms\tremaining: 33.6ms\n",
      "939:\tlearn: 0.0075050\ttotal: 517ms\tremaining: 33ms\n",
      "940:\tlearn: 0.0074893\ttotal: 518ms\tremaining: 32.5ms\n",
      "941:\tlearn: 0.0074793\ttotal: 519ms\tremaining: 31.9ms\n",
      "942:\tlearn: 0.0074463\ttotal: 519ms\tremaining: 31.4ms\n",
      "943:\tlearn: 0.0074299\ttotal: 520ms\tremaining: 30.8ms\n",
      "944:\tlearn: 0.0074200\ttotal: 520ms\tremaining: 30.3ms\n",
      "945:\tlearn: 0.0074039\ttotal: 521ms\tremaining: 29.7ms\n",
      "946:\tlearn: 0.0073907\ttotal: 521ms\tremaining: 29.2ms\n",
      "947:\tlearn: 0.0073634\ttotal: 522ms\tremaining: 28.6ms\n",
      "948:\tlearn: 0.0073504\ttotal: 523ms\tremaining: 28.1ms\n",
      "949:\tlearn: 0.0073269\ttotal: 523ms\tremaining: 27.6ms\n",
      "950:\tlearn: 0.0072967\ttotal: 524ms\tremaining: 27ms\n",
      "951:\tlearn: 0.0072805\ttotal: 525ms\tremaining: 26.4ms\n",
      "952:\tlearn: 0.0072574\ttotal: 525ms\tremaining: 25.9ms\n",
      "953:\tlearn: 0.0072355\ttotal: 526ms\tremaining: 25.3ms\n",
      "954:\tlearn: 0.0072261\ttotal: 526ms\tremaining: 24.8ms\n",
      "955:\tlearn: 0.0072103\ttotal: 526ms\tremaining: 24.2ms\n",
      "956:\tlearn: 0.0071976\ttotal: 527ms\tremaining: 23.7ms\n",
      "957:\tlearn: 0.0071767\ttotal: 527ms\tremaining: 23.1ms\n",
      "958:\tlearn: 0.0071611\ttotal: 528ms\tremaining: 22.6ms\n",
      "959:\tlearn: 0.0071319\ttotal: 528ms\tremaining: 22ms\n",
      "960:\tlearn: 0.0071228\ttotal: 529ms\tremaining: 21.5ms\n",
      "961:\tlearn: 0.0071075\ttotal: 529ms\tremaining: 20.9ms\n",
      "962:\tlearn: 0.0070764\ttotal: 530ms\tremaining: 20.3ms\n",
      "963:\tlearn: 0.0070474\ttotal: 530ms\tremaining: 19.8ms\n",
      "964:\tlearn: 0.0070324\ttotal: 530ms\tremaining: 19.2ms\n",
      "965:\tlearn: 0.0070087\ttotal: 531ms\tremaining: 18.7ms\n",
      "966:\tlearn: 0.0069940\ttotal: 531ms\tremaining: 18.1ms\n",
      "967:\tlearn: 0.0069798\ttotal: 532ms\tremaining: 17.6ms\n",
      "968:\tlearn: 0.0069545\ttotal: 532ms\tremaining: 17ms\n",
      "969:\tlearn: 0.0069266\ttotal: 532ms\tremaining: 16.5ms\n",
      "970:\tlearn: 0.0069143\ttotal: 533ms\tremaining: 15.9ms\n",
      "971:\tlearn: 0.0069056\ttotal: 533ms\tremaining: 15.4ms\n",
      "972:\tlearn: 0.0068806\ttotal: 534ms\tremaining: 14.8ms\n"
     ]
    },
    {
     "name": "stdout",
     "output_type": "stream",
     "text": [
      "973:\tlearn: 0.0068685\ttotal: 534ms\tremaining: 14.3ms\n",
      "974:\tlearn: 0.0068541\ttotal: 535ms\tremaining: 13.7ms\n",
      "975:\tlearn: 0.0068251\ttotal: 536ms\tremaining: 13.2ms\n",
      "976:\tlearn: 0.0068110\ttotal: 536ms\tremaining: 12.6ms\n",
      "977:\tlearn: 0.0067845\ttotal: 537ms\tremaining: 12.1ms\n",
      "978:\tlearn: 0.0067727\ttotal: 537ms\tremaining: 11.5ms\n",
      "979:\tlearn: 0.0067451\ttotal: 538ms\tremaining: 11ms\n",
      "980:\tlearn: 0.0067336\ttotal: 539ms\tremaining: 10.4ms\n",
      "981:\tlearn: 0.0067044\ttotal: 539ms\tremaining: 9.88ms\n",
      "982:\tlearn: 0.0066960\ttotal: 540ms\tremaining: 9.33ms\n",
      "983:\tlearn: 0.0066822\ttotal: 540ms\tremaining: 8.78ms\n",
      "984:\tlearn: 0.0066544\ttotal: 541ms\tremaining: 8.23ms\n",
      "985:\tlearn: 0.0066408\ttotal: 541ms\tremaining: 7.68ms\n",
      "986:\tlearn: 0.0066325\ttotal: 542ms\tremaining: 7.13ms\n",
      "987:\tlearn: 0.0066192\ttotal: 542ms\tremaining: 6.58ms\n",
      "988:\tlearn: 0.0065852\ttotal: 543ms\tremaining: 6.04ms\n",
      "989:\tlearn: 0.0065698\ttotal: 543ms\tremaining: 5.49ms\n",
      "990:\tlearn: 0.0065546\ttotal: 544ms\tremaining: 4.94ms\n",
      "991:\tlearn: 0.0065391\ttotal: 544ms\tremaining: 4.39ms\n",
      "992:\tlearn: 0.0065260\ttotal: 545ms\tremaining: 3.84ms\n",
      "993:\tlearn: 0.0064927\ttotal: 546ms\tremaining: 3.29ms\n",
      "994:\tlearn: 0.0064666\ttotal: 546ms\tremaining: 2.74ms\n",
      "995:\tlearn: 0.0064459\ttotal: 546ms\tremaining: 2.19ms\n",
      "996:\tlearn: 0.0064221\ttotal: 547ms\tremaining: 1.65ms\n",
      "997:\tlearn: 0.0063976\ttotal: 548ms\tremaining: 1.1ms\n",
      "998:\tlearn: 0.0063866\ttotal: 548ms\tremaining: 548us\n",
      "999:\tlearn: 0.0063758\ttotal: 549ms\tremaining: 0us\n"
     ]
    },
    {
     "data": {
      "text/plain": [
       "<catboost.core.CatBoostRegressor at 0x7f8681b20c70>"
      ]
     },
     "execution_count": 9,
     "metadata": {},
     "output_type": "execute_result"
    }
   ],
   "source": [
    "#Train the Model \n",
    "prior_model = ctb.CatBoostRegressor()\n",
    "prior_model.fit(X_train,Y_train)"
   ]
  },
  {
   "cell_type": "code",
   "execution_count": 10,
   "id": "af65dcda",
   "metadata": {
    "execution": {
     "iopub.execute_input": "2022-05-18T08:34:14.144853Z",
     "iopub.status.busy": "2022-05-18T08:34:14.144468Z",
     "iopub.status.idle": "2022-05-18T08:34:14.151789Z",
     "shell.execute_reply": "2022-05-18T08:34:14.152081Z"
    },
    "id": "af65dcda",
    "papermill": {
     "duration": 0.020284,
     "end_time": "2022-05-18T08:34:14.152218",
     "exception": false,
     "start_time": "2022-05-18T08:34:14.131934",
     "status": "completed"
    },
    "tags": []
   },
   "outputs": [
    {
     "data": {
      "application/scrapbook.scrap.json+json": {
       "data": 0.11732512903251043,
       "encoder": "json",
       "name": "Prior Model MSE",
       "version": 1
      }
     },
     "metadata": {
      "scrapbook": {
       "data": true,
       "display": false,
       "name": "Prior Model MSE"
      }
     },
     "output_type": "display_data"
    },
    {
     "data": {
      "application/scrapbook.scrap.json+json": {
       "data": 0.8538134311472518,
       "encoder": "json",
       "name": "ABC Pre-generator MSE",
       "version": 1
      }
     },
     "metadata": {
      "scrapbook": {
       "data": true,
       "display": false,
       "name": "ABC Pre-generator MSE"
      }
     },
     "output_type": "display_data"
    },
    {
     "data": {
      "application/scrapbook.scrap.json+json": {
       "data": 0.24890469291101552,
       "encoder": "json",
       "name": "Prior Model MAE",
       "version": 1
      }
     },
     "metadata": {
      "scrapbook": {
       "data": true,
       "display": false,
       "name": "Prior Model MAE"
      }
     },
     "output_type": "display_data"
    },
    {
     "data": {
      "application/scrapbook.scrap.json+json": {
       "data": 0.7960247266529139,
       "encoder": "json",
       "name": "ABC Pre-generator MAE",
       "version": 1
      }
     },
     "metadata": {
      "scrapbook": {
       "data": true,
       "display": false,
       "name": "ABC Pre-generator MAE"
      }
     },
     "output_type": "display_data"
    }
   ],
   "source": [
    "y_pred = prior_model.predict(X_test)\n",
    "y_abc = y_pred + np.random.normal(0,variance, y_pred.shape)\n",
    "mse = mean_squared_error(y_pred,Y_test)\n",
    "sb.glue(\"Prior Model MSE\",mse)\n",
    "mse = mean_squared_error(y_abc,Y_test)\n",
    "sb.glue(\"ABC Pre-generator MSE\",mse)\n",
    "\n",
    "mae = mean_absolute_error(y_pred,Y_test)\n",
    "sb.glue(\"Prior Model MAE\",mae)\n",
    "mae = mean_absolute_error(y_abc,Y_test)\n",
    "sb.glue(\"ABC Pre-generator MAE\",mae)"
   ]
  },
  {
   "cell_type": "markdown",
   "id": "25609da2",
   "metadata": {
    "papermill": {
     "duration": 0.009569,
     "end_time": "2022-05-18T08:34:14.171798",
     "exception": false,
     "start_time": "2022-05-18T08:34:14.162229",
     "status": "completed"
    },
    "tags": []
   },
   "source": [
    "# ABC GAN Model"
   ]
  },
  {
   "cell_type": "code",
   "execution_count": 11,
   "id": "dfc3464d",
   "metadata": {
    "execution": {
     "iopub.execute_input": "2022-05-18T08:34:14.194548Z",
     "iopub.status.busy": "2022-05-18T08:34:14.194164Z",
     "iopub.status.idle": "2022-05-18T08:34:14.196531Z",
     "shell.execute_reply": "2022-05-18T08:34:14.196776Z"
    },
    "papermill": {
     "duration": 0.015547,
     "end_time": "2022-05-18T08:34:14.196888",
     "exception": false,
     "start_time": "2022-05-18T08:34:14.181341",
     "status": "completed"
    },
    "tags": []
   },
   "outputs": [],
   "source": [
    "gen = network.Generator(n_features+1).to(device)\n",
    "disc = network.Discriminator(n_features+1).to(device)\n",
    "\n",
    "criterion = torch.nn.BCELoss()\n",
    "gen_opt = torch.optim.Adam(gen.parameters(), lr=0.001, betas=(0.5, 0.999))\n",
    "disc_opt = torch.optim.Adam(disc.parameters(), lr=0.001, betas=(0.5, 0.999))"
   ]
  },
  {
   "cell_type": "code",
   "execution_count": 12,
   "id": "b75fdd85",
   "metadata": {
    "execution": {
     "iopub.execute_input": "2022-05-18T08:34:14.218712Z",
     "iopub.status.busy": "2022-05-18T08:34:14.218326Z",
     "iopub.status.idle": "2022-05-18T08:34:28.249152Z",
     "shell.execute_reply": "2022-05-18T08:34:28.249412Z"
    },
    "papermill": {
     "duration": 14.042841,
     "end_time": "2022-05-18T08:34:28.249539",
     "exception": false,
     "start_time": "2022-05-18T08:34:14.206698",
     "status": "completed"
    },
    "tags": []
   },
   "outputs": [
    {
     "data": {
      "image/png": "[encoded data removed]",
      "text/plain": [
       "<Figure size 432x288 with 1 Axes>"
      ]
     },
     "metadata": {
      "needs_background": "light"
     },
     "output_type": "display_data"
    },
    {
     "data": {
      "image/png": "[encoded data removed]",
      "text/plain": [
       "<Figure size 432x288 with 1 Axes>"
      ]
     },
     "metadata": {
      "needs_background": "light"
     },
     "output_type": "display_data"
    }
   ],
   "source": [
    "#Training the ABC_GAN \n",
    "ABC_train_test2.training_GAN(disc,gen,disc_opt,gen_opt,train_data,batch_size,n_epochs,criterion,prior_model,variance,0,device)"
   ]
  },
  {
   "cell_type": "code",
   "execution_count": 13,
   "id": "1fa7c368",
   "metadata": {
    "execution": {
     "iopub.execute_input": "2022-05-18T08:34:28.275768Z",
     "iopub.status.busy": "2022-05-18T08:34:28.274872Z",
     "iopub.status.idle": "2022-05-18T08:34:28.449569Z",
     "shell.execute_reply": "2022-05-18T08:34:28.449873Z"
    },
    "papermill": {
     "duration": 0.189652,
     "end_time": "2022-05-18T08:34:28.450017",
     "exception": false,
     "start_time": "2022-05-18T08:34:28.260365",
     "status": "completed"
    },
    "tags": []
   },
   "outputs": [
    {
     "data": {
      "application/scrapbook.scrap.json+json": {
       "data": 0.03808590692403909,
       "encoder": "json",
       "name": "ABC-GAN Model 1 MSE",
       "version": 1
      }
     },
     "metadata": {
      "scrapbook": {
       "data": true,
       "display": false,
       "name": "ABC-GAN Model 1 MSE"
      }
     },
     "output_type": "display_data"
    },
    {
     "data": {
      "application/scrapbook.scrap.json+json": {
       "data": 0.13808012618869542,
       "encoder": "json",
       "name": "ABC-GAN Model 1 MAE",
       "version": 1
      }
     },
     "metadata": {
      "scrapbook": {
       "data": true,
       "display": false,
       "name": "ABC-GAN Model 1 MAE"
      }
     },
     "output_type": "display_data"
    },
    {
     "data": {
      "application/scrapbook.scrap.json+json": {
       "data": 2.7616025237739086,
       "encoder": "json",
       "name": "ABC-GAN Model 1 Manhattan Distance",
       "version": 1
      }
     },
     "metadata": {
      "scrapbook": {
       "data": true,
       "display": false,
       "name": "ABC-GAN Model 1 Manhattan Distance"
      }
     },
     "output_type": "display_data"
    },
    {
     "data": {
      "application/scrapbook.scrap.json+json": {
       "data": 0.8723566293033457,
       "encoder": "json",
       "name": "ABC-GAN Model 1 Euclidean distance",
       "version": 1
      }
     },
     "metadata": {
      "scrapbook": {
       "data": true,
       "display": false,
       "name": "ABC-GAN Model 1 Euclidean distance"
      }
     },
     "output_type": "display_data"
    },
    {
     "data": {
      "application/scrapbook.scrap.json+json": {
       "data": [
        [
         0.03489595822406449,
         0.04287742108278904,
         0.03895554638862299,
         0.03628804461469546,
         0.038877004445270716,
         0.034806873608758816,
         0.035806900864544154,
         0.035855876678650464,
         0.04016770854936141,
         0.04009440165996718,
         0.04219454283863529,
         0.03803659311549283,
         0.03879728601576552,
         0.03592822492068874,
         0.04197223665613252,
         0.03785205771076218,
         0.03884112255510512,
         0.03583758860871972,
         0.03958702615063338,
         0.034118052712428175,
         0.037706004016093524,
         0.03904689157344241,
         0.04055351372305001,
         0.03637917410406172,
         0.03698412605794079,
         0.03623781273031638,
         0.04009407240861686,
         0.03631340300341163,
         0.037738461769850504,
         0.04012874394631977,
         0.03425299109158664,
         0.03792683857871955,
         0.04122827071724396,
         0.03743310878006956,
         0.03878596549777458,
         0.0357152643888807,
         0.03978409060439353,
         0.035087734332325426,
         0.037661600268489734,
         0.045931964811308346,
         0.03772732933420788,
         0.04079456076068934,
         0.037605144764220486,
         0.037535339615427585,
         0.03769482614648166,
         0.03849515470495015,
         0.037753070423410154,
         0.037540316446300605,
         0.0372329361561435,
         0.036128022624845144,
         0.04110984031243754,
         0.0362813190046214,
         0.03786878079683237,
         0.036362119043612154,
         0.03691847560578686,
         0.03952407682007689,
         0.036889977980034724,
         0.03549578726385912,
         0.04371303996313887,
         0.03830233832006004,
         0.03607603115688633,
         0.04040710527962823,
         0.03704841798335462,
         0.036875968172733795,
         0.0340010754118506,
         0.03544170134064957,
         0.04365847447531851,
         0.03671584264339223,
         0.03665612336996462,
         0.03845010018965127,
         0.03853384461604883,
         0.037349982914832006,
         0.03842856035393607,
         0.033971224812392,
         0.03634081142460989,
         0.04087172263153015,
         0.04328596960394876,
         0.03662816141045619,
         0.035632493545158336,
         0.038940552495479175,
         0.04133926685553685,
         0.035783980319155084,
         0.03629143814196285,
         0.03925549537289881,
         0.03593425269477922,
         0.038382687482154995,
         0.04002876987532235,
         0.03594581112246169,
         0.036770575272416575,
         0.0381182273738249,
         0.03704741068692994,
         0.035764427389914685,
         0.0404214948925405,
         0.03950855903010081,
         0.039105692484861496,
         0.0401076073918689,
         0.034927357211257413,
         0.04101567449064504,
         0.041761720325974604,
         0.03801312426536109
        ],
        [
         0.13360329940915108,
         0.15039395950734616,
         0.14184527210891246,
         0.13159818463027478,
         0.13759519942104817,
         0.13121217265725135,
         0.1328659988939762,
         0.1273021198809147,
         0.14698228538036345,
         0.1422055795788765,
         0.15134784393012524,
         0.1353459231555462,
         0.14246405698359013,
         0.13192968480288983,
         0.1481185168027878,
         0.1334922004491091,
         0.14567564837634564,
         0.13315179087221624,
         0.14271833896636962,
         0.12775398697704077,
         0.13130177464336157,
         0.13743485249578952,
         0.1431490320712328,
         0.13384826593101024,
         0.13694271463900803,
         0.1301876436918974,
         0.13639984391629695,
         0.13627820536494256,
         0.13960526809096335,
         0.14129867050796746,
         0.1348585683852434,
         0.13988319784402847,
         0.147997922077775,
         0.13577346615493296,
         0.13733425922691822,
         0.13160518556833267,
         0.14523137100040912,
         0.13893372006714344,
         0.14186749644577504,
         0.15671130120754242,
         0.13870281167328358,
         0.14443127289414406,
         0.13620627000927926,
         0.13889161497354507,
         0.13471588008105756,
         0.14048049338161944,
         0.1363084189593792,
         0.1375118788331747,
         0.13601473160088062,
         0.13143893890082836,
         0.14121635518968106,
         0.13022669777274132,
         0.13976061008870602,
         0.1279822152107954,
         0.14144262932240964,
         0.1344913549721241,
         0.13145776838064194,
         0.13375931307673455,
         0.14733502119779587,
         0.141631012968719,
         0.13291257806122303,
         0.14749205745756627,
         0.13142833542078733,
         0.13915529362857343,
         0.1271498367190361,
         0.13443798162043094,
         0.1537675980478525,
         0.1295859893783927,
         0.1365540001541376,
         0.1452500481158495,
         0.1375769142061472,
         0.14037009850144386,
         0.14074005782604218,
         0.12171492651104927,
         0.13897287026047705,
         0.13915869183838367,
         0.14448419120162725,
         0.13638363853096963,
         0.13311402611434459,
         0.14300335757434368,
         0.15062984712421895,
         0.12855570167303085,
         0.12793222963809966,
         0.1344038400799036,
         0.12745349928736688,
         0.14147713240236043,
         0.14142359457910061,
         0.1336990050971508,
         0.14036394357681276,
         0.1411412961781025,
         0.13921615481376648,
         0.12783894911408425,
         0.149842207506299,
         0.14086159449070693,
         0.14031863026320934,
         0.1428248394280672,
         0.1230588760226965,
         0.14631418213248254,
         0.1435557033866644,
         0.14559878930449485
        ],
        [
         2.6720659881830215,
         3.007879190146923,
         2.8369054421782494,
         2.6319636926054955,
         2.7519039884209633,
         2.624243453145027,
         2.6573199778795242,
         2.5460423976182938,
         2.9396457076072693,
         2.84411159157753,
         3.0269568786025047,
         2.7069184631109238,
         2.8492811396718025,
         2.6385936960577965,
         2.9623703360557556,
         2.6698440089821815,
         2.9135129675269127,
         2.6630358174443245,
         2.8543667793273926,
         2.5550797395408154,
         2.6260354928672314,
         2.7486970499157906,
         2.862980641424656,
         2.676965318620205,
         2.738854292780161,
         2.603752873837948,
         2.727996878325939,
         2.725564107298851,
         2.7921053618192673,
         2.8259734101593494,
         2.6971713677048683,
         2.7976639568805695,
         2.9599584415555,
         2.7154693230986595,
         2.7466851845383644,
         2.6321037113666534,
         2.9046274200081825,
         2.778674401342869,
         2.8373499289155006,
         3.1342260241508484,
         2.7740562334656715,
         2.888625457882881,
         2.724125400185585,
         2.7778322994709015,
         2.694317601621151,
         2.809609867632389,
         2.726168379187584,
         2.750237576663494,
         2.7202946320176125,
         2.6287787780165672,
         2.824327103793621,
         2.6045339554548264,
         2.7952122017741203,
         2.559644304215908,
         2.8288525864481926,
         2.689827099442482,
         2.6291553676128387,
         2.675186261534691,
         2.9467004239559174,
         2.83262025937438,
         2.6582515612244606,
         2.9498411491513252,
         2.6285667084157467,
         2.7831058725714684,
         2.542996734380722,
         2.688759632408619,
         3.0753519609570503,
         2.591719787567854,
         2.7310800030827522,
         2.90500096231699,
         2.751538284122944,
         2.8074019700288773,
         2.8148011565208435,
         2.4342985302209854,
         2.7794574052095413,
         2.7831738367676735,
         2.889683824032545,
         2.7276727706193924,
         2.662280522286892,
         2.8600671514868736,
         3.012596942484379,
         2.571114033460617,
         2.5586445927619934,
         2.688076801598072,
         2.5490699857473373,
         2.829542648047209,
         2.828471891582012,
         2.673980101943016,
         2.807278871536255,
         2.82282592356205,
         2.7843230962753296,
         2.556778982281685,
         2.9968441501259804,
         2.8172318898141384,
         2.806372605264187,
         2.856496788561344,
         2.46117752045393,
         2.9262836426496506,
         2.871114067733288,
         2.911975786089897
        ],
        [
         0.8354155639448487,
         0.926039103740107,
         0.8826726050877867,
         0.8519160124647905,
         0.8817823364671206,
         0.8343485315952658,
         0.8462493824463821,
         0.8468279244173571,
         0.8963002683181726,
         0.8954820116559258,
         0.9186353230595401,
         0.8721994395262224,
         0.8808778123640704,
         0.8476818379638524,
         0.9162121659979473,
         0.870081119330401,
         0.8813753179560354,
         0.8466119371792453,
         0.8897980237181174,
         0.8260514840181352,
         0.8684008753576141,
         0.8837068696512709,
         0.9005944006382675,
         0.852985042120455,
         0.8600479760797161,
         0.8513261740404364,
         0.8954783348425226,
         0.8522136234936828,
         0.868774559593575,
         0.8958654357248054,
         0.82768340676356,
         0.870940165323882,
         0.9080558431863535,
         0.8652526657580379,
         0.8807492889327198,
         0.8451658344831586,
         0.8920099842983096,
         0.8377079960502398,
         0.8678893969681821,
         0.9584567263190169,
         0.8686464106206608,
         0.9032669678526868,
         0.8672386610872521,
         0.8664333744198406,
         0.8682721479637783,
         0.8774412197401049,
         0.8689426957332704,
         0.8664908129495731,
         0.8629361060489183,
         0.8500355595484832,
         0.9067506858275602,
         0.8518370619387419,
         0.8702732995655142,
         0.852785073082452,
         0.8592843022630736,
         0.8890902858548942,
         0.8589525945014047,
         0.8425649798544813,
         0.9350191437948088,
         0.8752409761895297,
         0.8494237005980741,
         0.8989672438929933,
         0.860795190313638,
         0.8587894756310628,
         0.8246341663046785,
         0.8419228152348593,
         0.9344353854100187,
         0.8569228978547863,
         0.8562257105455853,
         0.8769275932441774,
         0.8778820492076236,
         0.8642914197749738,
         0.8766819303936413,
         0.8242721008549543,
         0.8525351772755173,
         0.9041208174965352,
         0.9304404290866639,
         0.8558990759482824,
         0.8441859220001047,
         0.8825027194913245,
         0.90927737083397,
         0.8459784904967157,
         0.8519558455925148,
         0.8860642795294121,
         0.847752943902635,
         0.8761585185587708,
         0.8947487901676352,
         0.847889274875696,
         0.8575613712430915,
         0.873134896494521,
         0.8607834883050434,
         0.8457473309436416,
         0.8991272979121533,
         0.8889157331277336,
         0.8843720086576858,
         0.8956294701702139,
         0.835791328158619,
         0.9057115930653095,
         0.9139115966653952,
         0.8719303213601541
        ]
       ],
       "encoder": "json",
       "name": "ABC_GAN_1 Metrics",
       "version": 1
      }
     },
     "metadata": {
      "scrapbook": {
       "data": true,
       "display": false,
       "name": "ABC_GAN_1 Metrics"
      }
     },
     "output_type": "display_data"
    },
    {
     "name": "stdout",
     "output_type": "stream",
     "text": [
      "MSE\n",
      "0.03808590692403909\n"
     ]
    }
   ],
   "source": [
    "ABC_GAN1_metrics=ABC_train_test2.test_generator(gen,test_data,prior_model,variance,0,\"1\",device)\n",
    "sb.glue(\"ABC_GAN_1 Metrics\",ABC_GAN1_metrics)\n",
    "\n",
    "print(\"MSE\")\n",
    "print(mean(ABC_GAN1_metrics[0]))"
   ]
  },
  {
   "cell_type": "code",
   "execution_count": 14,
   "id": "eb22ce5c",
   "metadata": {
    "execution": {
     "iopub.execute_input": "2022-05-18T08:34:28.477906Z",
     "iopub.status.busy": "2022-05-18T08:34:28.477541Z",
     "iopub.status.idle": "2022-05-18T08:34:28.756958Z",
     "shell.execute_reply": "2022-05-18T08:34:28.757260Z"
    },
    "papermill": {
     "duration": 0.294889,
     "end_time": "2022-05-18T08:34:28.757386",
     "exception": false,
     "start_time": "2022-05-18T08:34:28.462497",
     "status": "completed"
    },
    "tags": []
   },
   "outputs": [
    {
     "data": {
      "image/png": "[encoded data removed]",
      "text/plain": [
       "<Figure size 432x288 with 1 Axes>"
      ]
     },
     "metadata": {
      "needs_background": "light"
     },
     "output_type": "display_data"
    },
    {
     "data": {
      "image/png": "[encoded data removed]",
      "text/plain": [
       "<Figure size 432x288 with 1 Axes>"
      ]
     },
     "metadata": {
      "needs_background": "light"
     },
     "output_type": "display_data"
    },
    {
     "data": {
      "image/png": "[encoded data removed]",
      "text/plain": [
       "<Figure size 432x288 with 1 Axes>"
      ]
     },
     "metadata": {
      "needs_background": "light"
     },
     "output_type": "display_data"
    },
    {
     "data": {
      "image/png": "[encoded data removed]",
      "text/plain": [
       "<Figure size 432x288 with 1 Axes>"
      ]
     },
     "metadata": {
      "needs_background": "light"
     },
     "output_type": "display_data"
    }
   ],
   "source": [
    "sanityChecks.discProbVsError(train_data,disc,device)\n",
    "sanityChecks.discProbVsError(test_data,disc,device)"
   ]
  },
  {
   "cell_type": "markdown",
   "id": "130f3a4d",
   "metadata": {
    "id": "130f3a4d",
    "papermill": {
     "duration": 0.015395,
     "end_time": "2022-05-18T08:34:28.787622",
     "exception": false,
     "start_time": "2022-05-18T08:34:28.772227",
     "status": "completed"
    },
    "tags": []
   },
   "source": [
    "# ABC - GAN Model with skip connection"
   ]
  },
  {
   "cell_type": "code",
   "execution_count": 15,
   "id": "4e43dad1",
   "metadata": {
    "execution": {
     "iopub.execute_input": "2022-05-18T08:34:28.822033Z",
     "iopub.status.busy": "2022-05-18T08:34:28.821612Z",
     "iopub.status.idle": "2022-05-18T08:34:28.824037Z",
     "shell.execute_reply": "2022-05-18T08:34:28.824287Z"
    },
    "id": "4e43dad1",
    "papermill": {
     "duration": 0.021069,
     "end_time": "2022-05-18T08:34:28.824411",
     "exception": false,
     "start_time": "2022-05-18T08:34:28.803342",
     "status": "completed"
    },
    "tags": []
   },
   "outputs": [],
   "source": [
    "#Generator\n",
    "gen3 = network.GeneratorWithSkipConnection(n_features+1).to(device)\n",
    "constraints=network.weightConstraint()\n",
    "#Discriminator \n",
    "disc3 = network.Discriminator(n_features+1).to(device)\n",
    "\n",
    "criterion = torch.nn.BCELoss()\n",
    "gen_opt = torch.optim.Adam(gen3.parameters(), lr=0.001, betas=(0.5, 0.999))\n",
    "disc_opt = torch.optim.Adam(disc3.parameters(), lr=0.001, betas=(0.5, 0.999))\n"
   ]
  },
  {
   "cell_type": "code",
   "execution_count": 16,
   "id": "26acbc37",
   "metadata": {
    "execution": {
     "iopub.execute_input": "2022-05-18T08:34:28.858530Z",
     "iopub.status.busy": "2022-05-18T08:34:28.858094Z",
     "iopub.status.idle": "2022-05-18T08:35:05.119806Z",
     "shell.execute_reply": "2022-05-18T08:35:05.120139Z"
    },
    "id": "26acbc37",
    "papermill": {
     "duration": 36.280468,
     "end_time": "2022-05-18T08:35:05.120264",
     "exception": false,
     "start_time": "2022-05-18T08:34:28.839796",
     "status": "completed"
    },
    "tags": []
   },
   "outputs": [
    {
     "data": {
      "image/png": "[encoded data removed]",
      "text/plain": [
       "<Figure size 432x288 with 1 Axes>"
      ]
     },
     "metadata": {
      "needs_background": "light"
     },
     "output_type": "display_data"
    },
    {
     "data": {
      "image/png": "[encoded data removed]",
      "text/plain": [
       "<Figure size 432x288 with 1 Axes>"
      ]
     },
     "metadata": {
      "needs_background": "light"
     },
     "output_type": "display_data"
    }
   ],
   "source": [
    "ABC_train_test2.training_GAN_skip_connection(disc3,gen3,disc_opt,gen_opt,train_data,batch_size,n_epochs,criterion,prior_model,variance,0,device)"
   ]
  },
  {
   "cell_type": "code",
   "execution_count": 17,
   "id": "c5e0717b",
   "metadata": {
    "execution": {
     "iopub.execute_input": "2022-05-18T08:35:05.154605Z",
     "iopub.status.busy": "2022-05-18T08:35:05.154135Z",
     "iopub.status.idle": "2022-05-18T08:35:05.430517Z",
     "shell.execute_reply": "2022-05-18T08:35:05.430862Z"
    },
    "id": "c5e0717b",
    "papermill": {
     "duration": 0.295144,
     "end_time": "2022-05-18T08:35:05.430991",
     "exception": false,
     "start_time": "2022-05-18T08:35:05.135847",
     "status": "completed"
    },
    "tags": []
   },
   "outputs": [
    {
     "data": {
      "application/scrapbook.scrap.json+json": {
       "data": 0.03703258944552345,
       "encoder": "json",
       "name": "ABC-GAN Model 3 MSE",
       "version": 1
      }
     },
     "metadata": {
      "scrapbook": {
       "data": true,
       "display": false,
       "name": "ABC-GAN Model 3 MSE"
      }
     },
     "output_type": "display_data"
    },
    {
     "data": {
      "application/scrapbook.scrap.json+json": {
       "data": 0.1501674416633323,
       "encoder": "json",
       "name": "ABC-GAN Model 3 MAE",
       "version": 1
      }
     },
     "metadata": {
      "scrapbook": {
       "data": true,
       "display": false,
       "name": "ABC-GAN Model 3 MAE"
      }
     },
     "output_type": "display_data"
    },
    {
     "data": {
      "application/scrapbook.scrap.json+json": {
       "data": 3.003348833266646,
       "encoder": "json",
       "name": "ABC-GAN Model 3 Manhattan Distance",
       "version": 1
      }
     },
     "metadata": {
      "scrapbook": {
       "data": true,
       "display": false,
       "name": "ABC-GAN Model 3 Manhattan Distance"
      }
     },
     "output_type": "display_data"
    },
    {
     "data": {
      "application/scrapbook.scrap.json+json": {
       "data": 0.856542101585486,
       "encoder": "json",
       "name": "ABC-GAN Model 3 Euclidean distance",
       "version": 1
      }
     },
     "metadata": {
      "scrapbook": {
       "data": true,
       "display": false,
       "name": "ABC-GAN Model 3 Euclidean distance"
      }
     },
     "output_type": "display_data"
    },
    {
     "data": {
      "application/scrapbook.scrap.json+json": {
       "data": [
        [
         0.0400654267594006,
         0.05032264164366056,
         0.053547343671735456,
         0.025083962568714546,
         0.040156345838043096,
         0.02566797536959973,
         0.0289834345182563,
         0.03287190587681234,
         0.024039946084477428,
         0.035163418369631515,
         0.030048295410613508,
         0.033910924524844475,
         0.03895014396799286,
         0.04715052000960111,
         0.03899899634484845,
         0.033861326512253084,
         0.04077465583925457,
         0.03261902354013963,
         0.029955329810799115,
         0.037013530618125436,
         0.039694656917042215,
         0.04364777329297624,
         0.026685435130776904,
         0.042927746742283814,
         0.034809387701848146,
         0.03396091064716511,
         0.03691705688003779,
         0.04849409295375086,
         0.04003725456105791,
         0.03579850592919496,
         0.03132814794792482,
         0.03444102894925076,
         0.048777567701441794,
         0.024072504593204286,
         0.04496293499659117,
         0.03555855479521655,
         0.03678333993765594,
         0.03495326366110539,
         0.03496306836393676,
         0.03153607618817413,
         0.06937566496149619,
         0.030130287468832485,
         0.03479657872230759,
         0.03472741673367552,
         0.034754981437887744,
         0.03695037020768449,
         0.032032739864839274,
         0.030430940782018724,
         0.04446404123973799,
         0.03399208231622275,
         0.036347474139819445,
         0.03386283549717195,
         0.03119952789438024,
         0.0357633414206597,
         0.04611253654129134,
         0.03983760702122816,
         0.04882636533516775,
         0.031630104581396146,
         0.04006560786114377,
         0.05042107549305058,
         0.026786887252952585,
         0.04185591286049587,
         0.03501760312737703,
         0.02946844063594405,
         0.04813243259853023,
         0.033531662404320026,
         0.028327060323792085,
         0.03381321687545241,
         0.034098691449413465,
         0.027214459366604292,
         0.03764939551497902,
         0.03224489890565707,
         0.03318658297688455,
         0.03241444133561413,
         0.042089677218851124,
         0.028937476891869818,
         0.04367087686656127,
         0.05569930173052605,
         0.03711022414004313,
         0.03468066117392612,
         0.04486536354041647,
         0.03089991572994417,
         0.03408039933878643,
         0.03345707398808271,
         0.03536769823723498,
         0.04533804346623606,
         0.038287230282761965,
         0.038010167036522734,
         0.04425545825146987,
         0.029958743319968707,
         0.04342797677548488,
         0.03890793483630615,
         0.035471388414194456,
         0.038684018297096986,
         0.04556673622510403,
         0.029307032800104015,
         0.043404243770793084,
         0.033407969039241925,
         0.02715309409916773,
         0.04222251876418186
        ],
        [
         0.15432535149157048,
         0.17048488073050977,
         0.16130272373557092,
         0.1256947111338377,
         0.16624710895121098,
         0.13023589067161084,
         0.12881553806364537,
         0.14563347697257994,
         0.12756991274654866,
         0.14755581952631475,
         0.13679029792547226,
         0.1490820836275816,
         0.14895954094827174,
         0.15488767437636852,
         0.15891396962106227,
         0.133997802156955,
         0.14892384670674802,
         0.15237101763486863,
         0.14003122858703138,
         0.14606527723371981,
         0.1495942037552595,
         0.16078746132552624,
         0.12331174872815609,
         0.16214059852063656,
         0.14944500280544162,
         0.1482554253190756,
         0.15344637595117092,
         0.1774098951369524,
         0.15736181624233722,
         0.16486494056880474,
         0.14918290711939336,
         0.15117308031767607,
         0.16001924686133862,
         0.11974666863679886,
         0.1787212397903204,
         0.15334921032190324,
         0.1590708363801241,
         0.154536260291934,
         0.14764822721481324,
         0.1377128940075636,
         0.18992755375802517,
         0.13165503405034543,
         0.14322520159184932,
         0.15619199983775617,
         0.1532469529658556,
         0.1555319491773844,
         0.13472370766103267,
         0.12793924547731877,
         0.16499097719788552,
         0.14787480048835278,
         0.15165201984345913,
         0.15333226434886454,
         0.14398835189640521,
         0.1395736400038004,
         0.16692351885139942,
         0.1574093084782362,
         0.16870676092803477,
         0.13943451307713986,
         0.165669309720397,
         0.14849835820496082,
         0.13398021198809146,
         0.15919276662170886,
         0.14920284934341907,
         0.13420685492455958,
         0.1665469855070114,
         0.14230073280632496,
         0.1430998992174864,
         0.1532313298434019,
         0.13713285587728025,
         0.12495392523705959,
         0.16110419146716595,
         0.1407572653144598,
         0.14689887054264544,
         0.14927311055362225,
         0.1421277828514576,
         0.13488832972943782,
         0.1747781213372946,
         0.18862532479688526,
         0.15368053056299685,
         0.1402310010045767,
         0.15494839064776897,
         0.14050481282174587,
         0.1500938106328249,
         0.14222184233367444,
         0.156404235586524,
         0.15778520293533801,
         0.15903927721083164,
         0.15242263935506345,
         0.14502468146383762,
         0.13438931815326213,
         0.15465595610439778,
         0.16224693693220615,
         0.14513904973864555,
         0.15376574732363224,
         0.1578561957925558,
         0.13201227523386477,
         0.16730361841619015,
         0.14731850512325764,
         0.13927682004868985,
         0.16196025125682353
        ],
        [
         3.0865070298314095,
         3.409697614610195,
         3.226054474711418,
         2.513894222676754,
         3.3249421790242195,
         2.6047178134322166,
         2.5763107612729073,
         2.912669539451599,
         2.551398254930973,
         2.9511163905262947,
         2.735805958509445,
         2.981641672551632,
         2.979190818965435,
         3.0977534875273705,
         3.1782793924212456,
         2.6799560431391,
         2.97847693413496,
         3.0474203526973724,
         2.8006245717406273,
         2.9213055446743965,
         2.9918840751051903,
         3.2157492265105247,
         2.466234974563122,
         3.242811970412731,
         2.9889000561088324,
         2.9651085063815117,
         3.0689275190234184,
         3.548197902739048,
         3.1472363248467445,
         3.297298811376095,
         2.983658142387867,
         3.0234616063535213,
         3.2003849372267723,
         2.394933372735977,
         3.574424795806408,
         3.0669842064380646,
         3.181416727602482,
         3.0907252058386803,
         2.9529645442962646,
         2.754257880151272,
         3.7985510751605034,
         2.6331006810069084,
         2.8645040318369865,
         3.123839996755123,
         3.064939059317112,
         3.1106389835476875,
         2.6944741532206535,
         2.5587849095463753,
         3.2998195439577103,
         2.9574960097670555,
         3.0330403968691826,
         3.066645286977291,
         2.8797670379281044,
         2.791472800076008,
         3.3384703770279884,
         3.148186169564724,
         3.3741352185606956,
         2.788690261542797,
         3.31338619440794,
         2.9699671640992165,
         2.6796042397618294,
         3.1838553324341774,
         2.9840569868683815,
         2.684137098491192,
         3.3309397101402283,
         2.846014656126499,
         2.8619979843497276,
         3.064626596868038,
         2.7426571175456047,
         2.499078504741192,
         3.222083829343319,
         2.815145306289196,
         2.937977410852909,
         2.985462211072445,
         2.842555657029152,
         2.6977665945887566,
         3.4955624267458916,
         3.772506495937705,
         3.0736106112599373,
         2.8046200200915337,
         3.0989678129553795,
         2.8100962564349174,
         3.001876212656498,
         2.8444368466734886,
         3.12808471173048,
         3.1557040587067604,
         3.180785544216633,
         3.0484527871012688,
         2.9004936292767525,
         2.6877863630652428,
         3.0931191220879555,
         3.244938738644123,
         2.902780994772911,
         3.075314946472645,
         3.157123915851116,
         2.6402455046772957,
         3.346072368323803,
         2.9463701024651527,
         2.785536400973797,
         3.239205025136471
        ],
        [
         0.8951583855318633,
         1.003221228280787,
         1.0348656306181536,
         0.7082931959113337,
         0.896173485861338,
         0.7164911076852207,
         0.761359764083397,
         0.810825577751619,
         0.6933966553781094,
         0.8386109750012996,
         0.7752199095819651,
         0.8235402178988526,
         0.8826113977056138,
         0.9710872258412332,
         0.8831647224028872,
         0.8229377438452204,
         0.9030465750918341,
         0.807700730965865,
         0.7740197647450499,
         0.8603898025677134,
         0.8910068116130451,
         0.9343208580886573,
         0.7305536959153229,
         0.9265823950656932,
         0.8343786634598005,
         0.8241469607681037,
         0.8592677915532246,
         0.9848258013857157,
         0.8948436127174167,
         0.8461501749594449,
         0.7915572998580055,
         0.829952154636046,
         0.9877000324130986,
         0.6938660474933802,
         0.948292518124984,
         0.843309608568722,
         0.8577102067441652,
         0.8361012338360158,
         0.8362184925476924,
         0.7941797805053228,
         1.177927544134156,
         0.7762768509859416,
         0.8342251341491407,
         0.8333956651396205,
         0.8337263512434729,
         0.8596553984904008,
         0.8004091436863934,
         0.780140253826435,
         0.943016874077426,
         0.8245251035138075,
         0.8526133254860546,
         0.8229560802032141,
         0.7899307298033195,
         0.8457344904952109,
         0.9603388624989758,
         0.8926097357885826,
         0.9881939620860649,
         0.7953628678961088,
         0.8951604086547145,
         1.0042019268359386,
         0.7319410803193462,
         0.9149416687472035,
         0.8368703977005881,
         0.7677035969167273,
         0.9811466006518111,
         0.8189220036648183,
         0.7526893160367308,
         0.8223529275858682,
         0.8258170675084582,
         0.7377595728501839,
         0.8677487598951557,
         0.8030554016462012,
         0.8146972809195394,
         0.8051638508479393,
         0.9174930759286538,
         0.7607558989829762,
         0.9345681020296088,
         1.055455368365011,
         0.8615129034442041,
         0.8328344514238843,
         0.9472630420365451,
         0.7861286883194656,
         0.8255955346146977,
         0.8180106843811114,
         0.8410433786343601,
         0.9522399221439527,
         0.8750683434196664,
         0.8718964048156493,
         0.9408024048807472,
         0.7740638645482517,
         0.9319654154042936,
         0.8821330379971736,
         0.8422753518202282,
         0.879591021976657,
         0.954638530807384,
         0.7655982340641078,
         0.9317107251802255,
         0.8174101667980638,
         0.7369273247636802,
         0.9189398104792486
        ]
       ],
       "encoder": "json",
       "name": "ABC_GAN_3 Metrics",
       "version": 1
      }
     },
     "metadata": {
      "scrapbook": {
       "data": true,
       "display": false,
       "name": "ABC_GAN_3 Metrics"
      }
     },
     "output_type": "display_data"
    },
    {
     "name": "stdout",
     "output_type": "stream",
     "text": [
      "MSE\n",
      "0.03703258944552345\n"
     ]
    }
   ],
   "source": [
    "ABC_GAN3_metrics=ABC_train_test2.test_generator(gen3,test_data,prior_model,variance,0,\"3\",device)\n",
    "sb.glue(\"ABC_GAN_3 Metrics\",ABC_GAN3_metrics)\n",
    "\n",
    "print(\"MSE\")\n",
    "print(mean(ABC_GAN3_metrics[0]))"
   ]
  },
  {
   "cell_type": "code",
   "execution_count": 18,
   "id": "c8e46b48",
   "metadata": {
    "execution": {
     "iopub.execute_input": "2022-05-18T08:35:05.492642Z",
     "iopub.status.busy": "2022-05-18T08:35:05.492280Z",
     "iopub.status.idle": "2022-05-18T08:35:05.784278Z",
     "shell.execute_reply": "2022-05-18T08:35:05.784537Z"
    },
    "id": "c8e46b48",
    "papermill": {
     "duration": 0.311709,
     "end_time": "2022-05-18T08:35:05.784661",
     "exception": false,
     "start_time": "2022-05-18T08:35:05.472952",
     "status": "completed"
    },
    "tags": []
   },
   "outputs": [
    {
     "data": {
      "image/png": "[encoded data removed]",
      "text/plain": [
       "<Figure size 432x288 with 1 Axes>"
      ]
     },
     "metadata": {
      "needs_background": "light"
     },
     "output_type": "display_data"
    },
    {
     "data": {
      "image/png": "[encoded data removed]",
      "text/plain": [
       "<Figure size 432x288 with 1 Axes>"
      ]
     },
     "metadata": {
      "needs_background": "light"
     },
     "output_type": "display_data"
    },
    {
     "data": {
      "image/png": "[encoded data removed]",
      "text/plain": [
       "<Figure size 432x288 with 1 Axes>"
      ]
     },
     "metadata": {
      "needs_background": "light"
     },
     "output_type": "display_data"
    },
    {
     "data": {
      "image/png": "[encoded data removed]",
      "text/plain": [
       "<Figure size 432x288 with 1 Axes>"
      ]
     },
     "metadata": {
      "needs_background": "light"
     },
     "output_type": "display_data"
    }
   ],
   "source": [
    "sanityChecks.discProbVsError(train_data,disc3,device)\n",
    "sanityChecks.discProbVsError(test_data,disc3,device)"
   ]
  },
  {
   "cell_type": "markdown",
   "id": "a5bd74c3",
   "metadata": {
    "id": "a5bd74c3",
    "papermill": {
     "duration": 0.019429,
     "end_time": "2022-05-18T08:35:05.823626",
     "exception": false,
     "start_time": "2022-05-18T08:35:05.804197",
     "status": "completed"
    },
    "tags": []
   },
   "source": [
    "## Skip Connection Model Analysis - ABC-GAN "
   ]
  },
  {
   "cell_type": "markdown",
   "id": "5744a8bf",
   "metadata": {
    "id": "5744a8bf",
    "papermill": {
     "duration": 0.019002,
     "end_time": "2022-05-18T08:35:05.861851",
     "exception": false,
     "start_time": "2022-05-18T08:35:05.842849",
     "status": "completed"
    },
    "tags": []
   },
   "source": [
    "### Weight Analysis \n",
    "\n",
    "Study the weights of the skip connection layer\n",
    "\n",
    "Equation of the skip connection is \n",
    "\n",
    "$output = y_{gan} * w + y_{abc} * (1-w)$"
   ]
  },
  {
   "cell_type": "code",
   "execution_count": 19,
   "id": "52c31dea",
   "metadata": {
    "execution": {
     "iopub.execute_input": "2022-05-18T08:35:05.902786Z",
     "iopub.status.busy": "2022-05-18T08:35:05.902386Z",
     "iopub.status.idle": "2022-05-18T08:35:05.906090Z",
     "shell.execute_reply": "2022-05-18T08:35:05.905785Z"
    },
    "id": "52c31dea",
    "papermill": {
     "duration": 0.025336,
     "end_time": "2022-05-18T08:35:05.906192",
     "exception": false,
     "start_time": "2022-05-18T08:35:05.880856",
     "status": "completed"
    },
    "tags": []
   },
   "outputs": [
    {
     "name": "stdout",
     "output_type": "stream",
     "text": [
      "Weight of the node at skip connection\n",
      "Parameter containing:\n",
      "tensor([[0.1682]], requires_grad=True)\n"
     ]
    },
    {
     "data": {
      "application/scrapbook.scrap.json+json": {
       "data": 0.16822519898414612,
       "encoder": "json",
       "name": "Skip Connection Weight",
       "version": 1
      }
     },
     "metadata": {
      "scrapbook": {
       "data": true,
       "display": false,
       "name": "Skip Connection Weight"
      }
     },
     "output_type": "display_data"
    }
   ],
   "source": [
    "print(\"Weight of the node at skip connection\")\n",
    "for name,param in gen3.named_parameters():\n",
    "    if(name == \"skipNode.weight\"):\n",
    "        print(param)\n",
    "        sb.glue(\"Skip Connection Weight\",param.item())"
   ]
  }
 ],
 "metadata": {
  "colab": {
   "collapsed_sections": [],
   "name": "ABC_GAN_Model-Catboost_Pre-gen.ipynb",
   "provenance": []
  },
  "interpreter": {
   "hash": "31f2aee4e71d21fbe5cf8b01ff0e069b9275f58929596ceb00d14d90e3e16cd6"
  },
  "kernelspec": {
   "display_name": "Python 3 (ipykernel)",
   "language": "python",
   "name": "python3"
  },
  "language_info": {
   "codemirror_mode": {
    "name": "ipython",
    "version": 3
   },
   "file_extension": ".py",
   "mimetype": "text/x-python",
   "name": "python",
   "nbconvert_exporter": "python",
   "pygments_lexer": "ipython3",
   "version": "3.8.11"
  },
  "papermill": {
   "default_parameters": {},
   "duration": 55.929083,
   "end_time": "2022-05-18T08:35:06.234240",
   "environment_variables": {},
   "exception": null,
   "input_path": "ABC_GAN-Catboost.ipynb",
   "output_path": "./ABC_GAN_Catboost/ABC-GAN_output_5_0.ipynb",
   "parameters": {
    "variance": 1
   },
   "start_time": "2022-05-18T08:34:10.305157",
   "version": "2.3.3"
  }
 },
 "nbformat": 4,
 "nbformat_minor": 5
}