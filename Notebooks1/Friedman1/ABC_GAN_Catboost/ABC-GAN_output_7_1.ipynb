{
 "cells": [
  {
   "cell_type": "markdown",
   "id": "622780e6",
   "metadata": {
    "id": "622780e6",
    "papermill": {
     "duration": 0.034053,
     "end_time": "2022-05-18T08:40:48.912940",
     "exception": false,
     "start_time": "2022-05-18T08:40:48.878887",
     "status": "completed"
    },
    "tags": []
   },
   "source": [
    "## Import Libraries "
   ]
  },
  {
   "cell_type": "code",
   "execution_count": 1,
   "id": "a62397e3",
   "metadata": {
    "execution": {
     "iopub.execute_input": "2022-05-18T08:40:48.951704Z",
     "iopub.status.busy": "2022-05-18T08:40:48.951125Z",
     "iopub.status.idle": "2022-05-18T08:40:48.953554Z",
     "shell.execute_reply": "2022-05-18T08:40:48.953905Z"
    },
    "id": "a62397e3",
    "papermill": {
     "duration": 0.023781,
     "end_time": "2022-05-18T08:40:48.954127",
     "exception": false,
     "start_time": "2022-05-18T08:40:48.930346",
     "status": "completed"
    },
    "tags": []
   },
   "outputs": [],
   "source": [
    "import warnings\n",
    "import sys\n",
    "sys.path.insert(0, '../../src')\n",
    "warnings.filterwarnings('ignore')"
   ]
  },
  {
   "cell_type": "code",
   "execution_count": 2,
   "id": "d6a4e155",
   "metadata": {
    "execution": {
     "iopub.execute_input": "2022-05-18T08:40:48.974791Z",
     "iopub.status.busy": "2022-05-18T08:40:48.974395Z",
     "iopub.status.idle": "2022-05-18T08:40:50.663344Z",
     "shell.execute_reply": "2022-05-18T08:40:50.663602Z"
    },
    "id": "d6a4e155",
    "papermill": {
     "duration": 1.69993,
     "end_time": "2022-05-18T08:40:50.663728",
     "exception": false,
     "start_time": "2022-05-18T08:40:48.963798",
     "status": "completed"
    },
    "tags": []
   },
   "outputs": [],
   "source": [
    "import ABC_train_test2\n",
    "import friedman1Dataset\n",
    "import network\n",
    "import dataset\n",
    "import sanityChecks\n",
    "import torch \n",
    "import scrapbook as sb\n",
    "from statistics import mean \n",
    "import catboost as ctb \n",
    "from sklearn.model_selection import train_test_split\n",
    "from sklearn.metrics import mean_squared_error,mean_absolute_error\n",
    "import numpy as np"
   ]
  },
  {
   "cell_type": "markdown",
   "id": "2fa5b0f7",
   "metadata": {
    "id": "2fa5b0f7",
    "papermill": {
     "duration": 0.006942,
     "end_time": "2022-05-18T08:40:50.677946",
     "exception": false,
     "start_time": "2022-05-18T08:40:50.671004",
     "status": "completed"
    },
    "tags": []
   },
   "source": [
    "## Parameters "
   ]
  },
  {
   "cell_type": "code",
   "execution_count": 3,
   "id": "783186fb",
   "metadata": {
    "execution": {
     "iopub.execute_input": "2022-05-18T08:40:50.693879Z",
     "iopub.status.busy": "2022-05-18T08:40:50.693507Z",
     "iopub.status.idle": "2022-05-18T08:40:50.694713Z",
     "shell.execute_reply": "2022-05-18T08:40:50.694961Z"
    },
    "id": "783186fb",
    "papermill": {
     "duration": 0.010353,
     "end_time": "2022-05-18T08:40:50.695074",
     "exception": false,
     "start_time": "2022-05-18T08:40:50.684721",
     "status": "completed"
    },
    "tags": [
     "parameters"
    ]
   },
   "outputs": [],
   "source": [
    "variance = 1"
   ]
  },
  {
   "cell_type": "code",
   "execution_count": 4,
   "id": "bf5928cd",
   "metadata": {
    "execution": {
     "iopub.execute_input": "2022-05-18T08:40:50.710745Z",
     "iopub.status.busy": "2022-05-18T08:40:50.710365Z",
     "iopub.status.idle": "2022-05-18T08:40:50.711628Z",
     "shell.execute_reply": "2022-05-18T08:40:50.711869Z"
    },
    "papermill": {
     "duration": 0.010016,
     "end_time": "2022-05-18T08:40:50.711975",
     "exception": false,
     "start_time": "2022-05-18T08:40:50.701959",
     "status": "completed"
    },
    "tags": [
     "injected-parameters"
    ]
   },
   "outputs": [],
   "source": [
    "# Parameters\n",
    "variance = 0.1\n"
   ]
  },
  {
   "cell_type": "markdown",
   "id": "391cdbfd",
   "metadata": {
    "id": "391cdbfd",
    "papermill": {
     "duration": 0.006772,
     "end_time": "2022-05-18T08:40:50.725598",
     "exception": false,
     "start_time": "2022-05-18T08:40:50.718826",
     "status": "completed"
    },
    "tags": []
   },
   "source": [
    "## Dataset \n"
   ]
  },
  {
   "cell_type": "code",
   "execution_count": 5,
   "id": "5b51f161",
   "metadata": {
    "execution": {
     "iopub.execute_input": "2022-05-18T08:40:50.741106Z",
     "iopub.status.busy": "2022-05-18T08:40:50.740752Z",
     "iopub.status.idle": "2022-05-18T08:40:50.742061Z",
     "shell.execute_reply": "2022-05-18T08:40:50.742295Z"
    },
    "id": "5b51f161",
    "papermill": {
     "duration": 0.009972,
     "end_time": "2022-05-18T08:40:50.742399",
     "exception": false,
     "start_time": "2022-05-18T08:40:50.732427",
     "status": "completed"
    },
    "tags": []
   },
   "outputs": [],
   "source": [
    "#Parameters \n",
    "n_features = 5\n",
    "n_samples= 100\n",
    "n_target = 1 "
   ]
  },
  {
   "cell_type": "code",
   "execution_count": 6,
   "id": "5d6eced4",
   "metadata": {
    "execution": {
     "iopub.execute_input": "2022-05-18T08:40:50.759166Z",
     "iopub.status.busy": "2022-05-18T08:40:50.757893Z",
     "iopub.status.idle": "2022-05-18T08:40:50.764102Z",
     "shell.execute_reply": "2022-05-18T08:40:50.764408Z"
    },
    "id": "5d6eced4",
    "papermill": {
     "duration": 0.015182,
     "end_time": "2022-05-18T08:40:50.764520",
     "exception": false,
     "start_time": "2022-05-18T08:40:50.749338",
     "status": "completed"
    },
    "tags": []
   },
   "outputs": [
    {
     "name": "stdout",
     "output_type": "stream",
     "text": [
      "         X0        X1        X2        X3        X4         Y\n",
      "0  0.883655  0.725884  1.181982  1.015916  0.467164  1.857573\n",
      "1  0.887800  1.354652  1.519685 -1.195479  0.443669  0.634895\n",
      "2  0.035618  0.216427  1.002031  0.509542 -1.214062  0.581029\n",
      "3 -1.516431  1.123030 -0.606525  1.118777 -0.311668 -0.521767\n",
      "4 -0.141922 -1.461151 -1.628650 -0.892247  0.697051 -0.648080\n"
     ]
    }
   ],
   "source": [
    "X,Y = friedman1Dataset.friedman1_data(n_samples,n_features)"
   ]
  },
  {
   "cell_type": "code",
   "execution_count": 7,
   "id": "fe007438",
   "metadata": {
    "execution": {
     "iopub.execute_input": "2022-05-18T08:40:50.781616Z",
     "iopub.status.busy": "2022-05-18T08:40:50.781263Z",
     "iopub.status.idle": "2022-05-18T08:40:50.782574Z",
     "shell.execute_reply": "2022-05-18T08:40:50.782862Z"
    },
    "id": "fe007438",
    "papermill": {
     "duration": 0.01108,
     "end_time": "2022-05-18T08:40:50.782967",
     "exception": false,
     "start_time": "2022-05-18T08:40:50.771887",
     "status": "completed"
    },
    "tags": []
   },
   "outputs": [],
   "source": [
    "#Train test split for dataset \n",
    "X_train,X_test,Y_train,Y_test = train_test_split(X,Y,test_size = 0.2)\n",
    "train_data = dataset.CustomDataset(X_train,Y_train)\n",
    "test_data = dataset.CustomDataset(X_test,Y_test)\n"
   ]
  },
  {
   "cell_type": "markdown",
   "id": "a9a1af34",
   "metadata": {
    "id": "a9a1af34",
    "papermill": {
     "duration": 0.007099,
     "end_time": "2022-05-18T08:40:50.797224",
     "exception": false,
     "start_time": "2022-05-18T08:40:50.790125",
     "status": "completed"
    },
    "tags": []
   },
   "source": [
    "## Training Parameters "
   ]
  },
  {
   "cell_type": "code",
   "execution_count": 8,
   "id": "952b7fc8",
   "metadata": {
    "execution": {
     "iopub.execute_input": "2022-05-18T08:40:50.813804Z",
     "iopub.status.busy": "2022-05-18T08:40:50.813434Z",
     "iopub.status.idle": "2022-05-18T08:40:50.814846Z",
     "shell.execute_reply": "2022-05-18T08:40:50.815070Z"
    },
    "id": "952b7fc8",
    "papermill": {
     "duration": 0.010833,
     "end_time": "2022-05-18T08:40:50.815175",
     "exception": false,
     "start_time": "2022-05-18T08:40:50.804342",
     "status": "completed"
    },
    "tags": []
   },
   "outputs": [],
   "source": [
    "batch_size = 32\n",
    "n_epochs = 1000\n",
    "#Select the device \n",
    "device = torch.device('cuda' if torch.cuda.is_available() else 'cpu')"
   ]
  },
  {
   "cell_type": "markdown",
   "id": "a95e1600",
   "metadata": {
    "id": "a95e1600",
    "papermill": {
     "duration": 0.007081,
     "end_time": "2022-05-18T08:40:50.829410",
     "exception": false,
     "start_time": "2022-05-18T08:40:50.822329",
     "status": "completed"
    },
    "tags": []
   },
   "source": [
    "# ABC Pre-generator Model \n",
    "\n",
    "1. The catboost model is used as a pre-generator model for the ABC-GAN. \n",
    "2. The model is first trained on the entire dataset \n",
    "3. It generats X,Y pairs and we add some Gaussian noise with mean 0 and variance 1 to it which is then feed as input to the generator.\n"
   ]
  },
  {
   "cell_type": "code",
   "execution_count": 9,
   "id": "ff8ce7bd",
   "metadata": {
    "execution": {
     "iopub.execute_input": "2022-05-18T08:40:50.847132Z",
     "iopub.status.busy": "2022-05-18T08:40:50.846755Z",
     "iopub.status.idle": "2022-05-18T08:40:51.467625Z",
     "shell.execute_reply": "2022-05-18T08:40:51.467991Z"
    },
    "id": "ff8ce7bd",
    "papermill": {
     "duration": 0.631517,
     "end_time": "2022-05-18T08:40:51.468120",
     "exception": false,
     "start_time": "2022-05-18T08:40:50.836603",
     "status": "completed"
    },
    "tags": []
   },
   "outputs": [
    {
     "name": "stdout",
     "output_type": "stream",
     "text": [
      "Learning rate set to 0.024897\n",
      "0:\tlearn: 0.9906035\ttotal: 56.5ms\tremaining: 56.5s\n",
      "1:\tlearn: 0.9806321\ttotal: 57.1ms\tremaining: 28.5s\n",
      "2:\tlearn: 0.9687600\ttotal: 57.6ms\tremaining: 19.1s\n",
      "3:\tlearn: 0.9582720\ttotal: 58ms\tremaining: 14.5s\n",
      "4:\tlearn: 0.9465249\ttotal: 58.5ms\tremaining: 11.7s\n",
      "5:\tlearn: 0.9354561\ttotal: 59ms\tremaining: 9.77s\n",
      "6:\tlearn: 0.9230395\ttotal: 59.5ms\tremaining: 8.44s\n",
      "7:\tlearn: 0.9112584\ttotal: 60ms\tremaining: 7.43s\n",
      "8:\tlearn: 0.9010935\ttotal: 60.5ms\tremaining: 6.66s\n",
      "9:\tlearn: 0.8913752\ttotal: 61.1ms\tremaining: 6.05s\n",
      "10:\tlearn: 0.8809961\ttotal: 61.6ms\tremaining: 5.54s\n",
      "11:\tlearn: 0.8707427\ttotal: 62.1ms\tremaining: 5.11s\n",
      "12:\tlearn: 0.8619380\ttotal: 62.6ms\tremaining: 4.75s\n",
      "13:\tlearn: 0.8524472\ttotal: 63ms\tremaining: 4.44s\n",
      "14:\tlearn: 0.8440078\ttotal: 63.6ms\tremaining: 4.17s\n",
      "15:\tlearn: 0.8353831\ttotal: 64.1ms\tremaining: 3.94s\n",
      "16:\tlearn: 0.8267227\ttotal: 64.7ms\tremaining: 3.74s\n",
      "17:\tlearn: 0.8192886\ttotal: 65.1ms\tremaining: 3.55s\n",
      "18:\tlearn: 0.8113837\ttotal: 65.6ms\tremaining: 3.39s\n",
      "19:\tlearn: 0.8033070\ttotal: 66.1ms\tremaining: 3.24s\n",
      "20:\tlearn: 0.7936783\ttotal: 66.5ms\tremaining: 3.1s\n",
      "21:\tlearn: 0.7849149\ttotal: 67ms\tremaining: 2.98s\n",
      "22:\tlearn: 0.7760105\ttotal: 67.4ms\tremaining: 2.86s\n",
      "23:\tlearn: 0.7686931\ttotal: 67.8ms\tremaining: 2.76s\n",
      "24:\tlearn: 0.7594441\ttotal: 68.2ms\tremaining: 2.66s\n",
      "25:\tlearn: 0.7507331\ttotal: 68.8ms\tremaining: 2.58s\n",
      "26:\tlearn: 0.7439309\ttotal: 69.4ms\tremaining: 2.5s\n",
      "27:\tlearn: 0.7357974\ttotal: 69.8ms\tremaining: 2.42s\n",
      "28:\tlearn: 0.7269784\ttotal: 70.4ms\tremaining: 2.36s\n",
      "29:\tlearn: 0.7204245\ttotal: 70.9ms\tremaining: 2.29s\n",
      "30:\tlearn: 0.7135818\ttotal: 71.3ms\tremaining: 2.23s\n",
      "31:\tlearn: 0.7061742\ttotal: 71.9ms\tremaining: 2.17s\n",
      "32:\tlearn: 0.7007425\ttotal: 72.5ms\tremaining: 2.12s\n",
      "33:\tlearn: 0.6945036\ttotal: 73ms\tremaining: 2.07s\n",
      "34:\tlearn: 0.6883819\ttotal: 73.5ms\tremaining: 2.03s\n",
      "35:\tlearn: 0.6827581\ttotal: 73.9ms\tremaining: 1.98s\n",
      "36:\tlearn: 0.6761106\ttotal: 74.3ms\tremaining: 1.93s\n",
      "37:\tlearn: 0.6679939\ttotal: 74.8ms\tremaining: 1.89s\n",
      "38:\tlearn: 0.6617461\ttotal: 75.3ms\tremaining: 1.85s\n",
      "39:\tlearn: 0.6559203\ttotal: 75.8ms\tremaining: 1.82s\n",
      "40:\tlearn: 0.6489158\ttotal: 76.2ms\tremaining: 1.78s\n",
      "41:\tlearn: 0.6426246\ttotal: 76.6ms\tremaining: 1.75s\n",
      "42:\tlearn: 0.6366450\ttotal: 77.1ms\tremaining: 1.71s\n",
      "43:\tlearn: 0.6308707\ttotal: 77.7ms\tremaining: 1.69s\n",
      "44:\tlearn: 0.6237543\ttotal: 78ms\tremaining: 1.66s\n",
      "45:\tlearn: 0.6180265\ttotal: 78.5ms\tremaining: 1.63s\n",
      "46:\tlearn: 0.6130720\ttotal: 79ms\tremaining: 1.6s\n",
      "47:\tlearn: 0.6077412\ttotal: 79.4ms\tremaining: 1.57s\n",
      "48:\tlearn: 0.6019137\ttotal: 79.9ms\tremaining: 1.55s\n",
      "49:\tlearn: 0.5950991\ttotal: 80.5ms\tremaining: 1.53s\n",
      "50:\tlearn: 0.5894264\ttotal: 80.9ms\tremaining: 1.5s\n",
      "51:\tlearn: 0.5834022\ttotal: 81.4ms\tremaining: 1.48s\n",
      "52:\tlearn: 0.5781254\ttotal: 82ms\tremaining: 1.46s\n",
      "53:\tlearn: 0.5719451\ttotal: 82.6ms\tremaining: 1.45s\n",
      "54:\tlearn: 0.5671724\ttotal: 83.2ms\tremaining: 1.43s\n",
      "55:\tlearn: 0.5621171\ttotal: 83.6ms\tremaining: 1.41s\n",
      "56:\tlearn: 0.5575303\ttotal: 84.1ms\tremaining: 1.39s\n",
      "57:\tlearn: 0.5528296\ttotal: 84.7ms\tremaining: 1.38s\n",
      "58:\tlearn: 0.5472120\ttotal: 85.2ms\tremaining: 1.36s\n",
      "59:\tlearn: 0.5421761\ttotal: 85.7ms\tremaining: 1.34s\n",
      "60:\tlearn: 0.5375039\ttotal: 86.1ms\tremaining: 1.32s\n",
      "61:\tlearn: 0.5331988\ttotal: 86.5ms\tremaining: 1.31s\n",
      "62:\tlearn: 0.5281439\ttotal: 87ms\tremaining: 1.29s\n",
      "63:\tlearn: 0.5235159\ttotal: 87.4ms\tremaining: 1.28s\n",
      "64:\tlearn: 0.5187881\ttotal: 87.9ms\tremaining: 1.26s\n",
      "65:\tlearn: 0.5145509\ttotal: 88.3ms\tremaining: 1.25s\n",
      "66:\tlearn: 0.5099528\ttotal: 88.9ms\tremaining: 1.24s\n",
      "67:\tlearn: 0.5046165\ttotal: 89.5ms\tremaining: 1.23s\n",
      "68:\tlearn: 0.5002518\ttotal: 90ms\tremaining: 1.21s\n",
      "69:\tlearn: 0.4954261\ttotal: 90.4ms\tremaining: 1.2s\n",
      "70:\tlearn: 0.4908503\ttotal: 90.9ms\tremaining: 1.19s\n",
      "71:\tlearn: 0.4862892\ttotal: 91.3ms\tremaining: 1.18s\n",
      "72:\tlearn: 0.4815932\ttotal: 92ms\tremaining: 1.17s\n",
      "73:\tlearn: 0.4776881\ttotal: 92.4ms\tremaining: 1.16s\n",
      "74:\tlearn: 0.4730319\ttotal: 92.9ms\tremaining: 1.15s\n",
      "75:\tlearn: 0.4694844\ttotal: 93.5ms\tremaining: 1.14s\n",
      "76:\tlearn: 0.4657981\ttotal: 94.2ms\tremaining: 1.13s\n",
      "77:\tlearn: 0.4623061\ttotal: 94.8ms\tremaining: 1.12s\n",
      "78:\tlearn: 0.4588038\ttotal: 95.3ms\tremaining: 1.11s\n",
      "79:\tlearn: 0.4551127\ttotal: 95.8ms\tremaining: 1.1s\n",
      "80:\tlearn: 0.4501552\ttotal: 96.2ms\tremaining: 1.09s\n",
      "81:\tlearn: 0.4472108\ttotal: 96.7ms\tremaining: 1.08s\n",
      "82:\tlearn: 0.4434942\ttotal: 97.2ms\tremaining: 1.07s\n",
      "83:\tlearn: 0.4401719\ttotal: 97.6ms\tremaining: 1.06s\n",
      "84:\tlearn: 0.4355303\ttotal: 98.1ms\tremaining: 1.06s\n",
      "85:\tlearn: 0.4320420\ttotal: 98.6ms\tremaining: 1.05s\n",
      "86:\tlearn: 0.4282850\ttotal: 99.1ms\tremaining: 1.04s\n",
      "87:\tlearn: 0.4242431\ttotal: 99.6ms\tremaining: 1.03s\n",
      "88:\tlearn: 0.4208913\ttotal: 100ms\tremaining: 1.02s\n",
      "89:\tlearn: 0.4174695\ttotal: 101ms\tremaining: 1.02s\n",
      "90:\tlearn: 0.4144505\ttotal: 101ms\tremaining: 1.01s\n",
      "91:\tlearn: 0.4110916\ttotal: 102ms\tremaining: 1s\n",
      "92:\tlearn: 0.4078698\ttotal: 102ms\tremaining: 996ms\n",
      "93:\tlearn: 0.4040687\ttotal: 103ms\tremaining: 989ms\n",
      "94:\tlearn: 0.4007545\ttotal: 103ms\tremaining: 982ms\n",
      "95:\tlearn: 0.3972529\ttotal: 104ms\tremaining: 975ms\n",
      "96:\tlearn: 0.3941548\ttotal: 104ms\tremaining: 969ms\n",
      "97:\tlearn: 0.3913842\ttotal: 105ms\tremaining: 963ms\n",
      "98:\tlearn: 0.3879362\ttotal: 105ms\tremaining: 956ms\n",
      "99:\tlearn: 0.3839596\ttotal: 106ms\tremaining: 950ms\n",
      "100:\tlearn: 0.3817443\ttotal: 106ms\tremaining: 944ms\n",
      "101:\tlearn: 0.3787075\ttotal: 106ms\tremaining: 937ms\n",
      "102:\tlearn: 0.3760148\ttotal: 107ms\tremaining: 931ms\n",
      "103:\tlearn: 0.3731603\ttotal: 107ms\tremaining: 925ms\n",
      "104:\tlearn: 0.3699048\ttotal: 108ms\tremaining: 920ms\n"
     ]
    },
    {
     "name": "stdout",
     "output_type": "stream",
     "text": [
      "105:\tlearn: 0.3673350\ttotal: 109ms\tremaining: 916ms\n",
      "106:\tlearn: 0.3641057\ttotal: 109ms\tremaining: 911ms\n",
      "107:\tlearn: 0.3614370\ttotal: 110ms\tremaining: 907ms\n",
      "108:\tlearn: 0.3585589\ttotal: 111ms\tremaining: 904ms\n",
      "109:\tlearn: 0.3556680\ttotal: 111ms\tremaining: 901ms\n",
      "110:\tlearn: 0.3527829\ttotal: 112ms\tremaining: 896ms\n",
      "111:\tlearn: 0.3504286\ttotal: 112ms\tremaining: 890ms\n",
      "112:\tlearn: 0.3476634\ttotal: 113ms\tremaining: 886ms\n",
      "113:\tlearn: 0.3446706\ttotal: 113ms\tremaining: 880ms\n",
      "114:\tlearn: 0.3419813\ttotal: 114ms\tremaining: 874ms\n",
      "115:\tlearn: 0.3393701\ttotal: 114ms\tremaining: 871ms\n",
      "116:\tlearn: 0.3366267\ttotal: 115ms\tremaining: 867ms\n",
      "117:\tlearn: 0.3338047\ttotal: 115ms\tremaining: 863ms\n",
      "118:\tlearn: 0.3313193\ttotal: 116ms\tremaining: 858ms\n",
      "119:\tlearn: 0.3291279\ttotal: 116ms\tremaining: 853ms\n",
      "120:\tlearn: 0.3264109\ttotal: 117ms\tremaining: 849ms\n",
      "121:\tlearn: 0.3236415\ttotal: 117ms\tremaining: 845ms\n",
      "122:\tlearn: 0.3214642\ttotal: 118ms\tremaining: 840ms\n",
      "123:\tlearn: 0.3189995\ttotal: 118ms\tremaining: 837ms\n",
      "124:\tlearn: 0.3167160\ttotal: 119ms\tremaining: 833ms\n",
      "125:\tlearn: 0.3150503\ttotal: 120ms\tremaining: 829ms\n",
      "126:\tlearn: 0.3132025\ttotal: 120ms\tremaining: 826ms\n",
      "127:\tlearn: 0.3110731\ttotal: 121ms\tremaining: 821ms\n",
      "128:\tlearn: 0.3092755\ttotal: 121ms\tremaining: 817ms\n",
      "129:\tlearn: 0.3068973\ttotal: 121ms\tremaining: 812ms\n",
      "130:\tlearn: 0.3049620\ttotal: 122ms\tremaining: 809ms\n",
      "131:\tlearn: 0.3029807\ttotal: 122ms\tremaining: 805ms\n",
      "132:\tlearn: 0.3006964\ttotal: 123ms\tremaining: 801ms\n",
      "133:\tlearn: 0.2986086\ttotal: 124ms\tremaining: 798ms\n",
      "134:\tlearn: 0.2964247\ttotal: 124ms\tremaining: 795ms\n",
      "135:\tlearn: 0.2942553\ttotal: 124ms\tremaining: 791ms\n",
      "136:\tlearn: 0.2924929\ttotal: 125ms\tremaining: 787ms\n",
      "137:\tlearn: 0.2906713\ttotal: 125ms\tremaining: 783ms\n",
      "138:\tlearn: 0.2891188\ttotal: 126ms\tremaining: 780ms\n",
      "139:\tlearn: 0.2871172\ttotal: 126ms\tremaining: 777ms\n",
      "140:\tlearn: 0.2850958\ttotal: 127ms\tremaining: 773ms\n",
      "141:\tlearn: 0.2825828\ttotal: 127ms\tremaining: 769ms\n",
      "142:\tlearn: 0.2805899\ttotal: 128ms\tremaining: 766ms\n",
      "143:\tlearn: 0.2787080\ttotal: 128ms\tremaining: 763ms\n",
      "144:\tlearn: 0.2772862\ttotal: 129ms\tremaining: 760ms\n",
      "145:\tlearn: 0.2753506\ttotal: 129ms\tremaining: 757ms\n",
      "146:\tlearn: 0.2734210\ttotal: 130ms\tremaining: 754ms\n",
      "147:\tlearn: 0.2717881\ttotal: 131ms\tremaining: 752ms\n",
      "148:\tlearn: 0.2699321\ttotal: 131ms\tremaining: 748ms\n",
      "149:\tlearn: 0.2679768\ttotal: 132ms\tremaining: 746ms\n",
      "150:\tlearn: 0.2660363\ttotal: 132ms\tremaining: 744ms\n",
      "151:\tlearn: 0.2648212\ttotal: 133ms\tremaining: 740ms\n",
      "152:\tlearn: 0.2627496\ttotal: 133ms\tremaining: 738ms\n",
      "153:\tlearn: 0.2608354\ttotal: 134ms\tremaining: 735ms\n",
      "154:\tlearn: 0.2592773\ttotal: 134ms\tremaining: 733ms\n",
      "155:\tlearn: 0.2573489\ttotal: 135ms\tremaining: 730ms\n",
      "156:\tlearn: 0.2555681\ttotal: 136ms\tremaining: 728ms\n",
      "157:\tlearn: 0.2537533\ttotal: 136ms\tremaining: 725ms\n",
      "158:\tlearn: 0.2520317\ttotal: 137ms\tremaining: 723ms\n",
      "159:\tlearn: 0.2502042\ttotal: 137ms\tremaining: 720ms\n",
      "160:\tlearn: 0.2486751\ttotal: 138ms\tremaining: 717ms\n",
      "161:\tlearn: 0.2468974\ttotal: 138ms\tremaining: 715ms\n",
      "162:\tlearn: 0.2454541\ttotal: 139ms\tremaining: 713ms\n",
      "163:\tlearn: 0.2436917\ttotal: 139ms\tremaining: 710ms\n",
      "164:\tlearn: 0.2421369\ttotal: 140ms\tremaining: 707ms\n",
      "165:\tlearn: 0.2407257\ttotal: 140ms\tremaining: 704ms\n",
      "166:\tlearn: 0.2390771\ttotal: 141ms\tremaining: 702ms\n",
      "167:\tlearn: 0.2375397\ttotal: 141ms\tremaining: 699ms\n",
      "168:\tlearn: 0.2361425\ttotal: 142ms\tremaining: 697ms\n",
      "169:\tlearn: 0.2344087\ttotal: 142ms\tremaining: 694ms\n",
      "170:\tlearn: 0.2326535\ttotal: 143ms\tremaining: 692ms\n",
      "171:\tlearn: 0.2312194\ttotal: 143ms\tremaining: 690ms\n",
      "172:\tlearn: 0.2297899\ttotal: 144ms\tremaining: 688ms\n",
      "173:\tlearn: 0.2284533\ttotal: 145ms\tremaining: 687ms\n",
      "174:\tlearn: 0.2268490\ttotal: 145ms\tremaining: 684ms\n",
      "175:\tlearn: 0.2256371\ttotal: 146ms\tremaining: 682ms\n",
      "176:\tlearn: 0.2242666\ttotal: 146ms\tremaining: 680ms\n",
      "177:\tlearn: 0.2228728\ttotal: 147ms\tremaining: 678ms\n",
      "178:\tlearn: 0.2211433\ttotal: 147ms\tremaining: 675ms\n",
      "179:\tlearn: 0.2198353\ttotal: 148ms\tremaining: 673ms\n",
      "180:\tlearn: 0.2184291\ttotal: 148ms\tremaining: 671ms\n",
      "181:\tlearn: 0.2171416\ttotal: 149ms\tremaining: 669ms\n",
      "182:\tlearn: 0.2156270\ttotal: 149ms\tremaining: 667ms\n",
      "183:\tlearn: 0.2144301\ttotal: 150ms\tremaining: 665ms\n",
      "184:\tlearn: 0.2132857\ttotal: 151ms\tremaining: 664ms\n",
      "185:\tlearn: 0.2119845\ttotal: 151ms\tremaining: 661ms\n",
      "186:\tlearn: 0.2104432\ttotal: 152ms\tremaining: 659ms\n",
      "187:\tlearn: 0.2090267\ttotal: 152ms\tremaining: 657ms\n",
      "188:\tlearn: 0.2074370\ttotal: 153ms\tremaining: 655ms\n",
      "189:\tlearn: 0.2061851\ttotal: 153ms\tremaining: 653ms\n",
      "190:\tlearn: 0.2048502\ttotal: 154ms\tremaining: 652ms\n",
      "191:\tlearn: 0.2036391\ttotal: 154ms\tremaining: 650ms\n",
      "192:\tlearn: 0.2022135\ttotal: 155ms\tremaining: 648ms\n",
      "193:\tlearn: 0.2007882\ttotal: 155ms\tremaining: 646ms\n",
      "194:\tlearn: 0.1994251\ttotal: 156ms\tremaining: 644ms\n",
      "195:\tlearn: 0.1981045\ttotal: 157ms\tremaining: 642ms\n",
      "196:\tlearn: 0.1970407\ttotal: 157ms\tremaining: 640ms\n",
      "197:\tlearn: 0.1961040\ttotal: 158ms\tremaining: 639ms\n",
      "198:\tlearn: 0.1948222\ttotal: 158ms\tremaining: 637ms\n",
      "199:\tlearn: 0.1936467\ttotal: 159ms\tremaining: 635ms\n",
      "200:\tlearn: 0.1925003\ttotal: 159ms\tremaining: 633ms\n",
      "201:\tlearn: 0.1912646\ttotal: 160ms\tremaining: 631ms\n",
      "202:\tlearn: 0.1901998\ttotal: 160ms\tremaining: 629ms\n",
      "203:\tlearn: 0.1889702\ttotal: 161ms\tremaining: 627ms\n",
      "204:\tlearn: 0.1877819\ttotal: 161ms\tremaining: 625ms\n",
      "205:\tlearn: 0.1864075\ttotal: 162ms\tremaining: 623ms\n",
      "206:\tlearn: 0.1854906\ttotal: 162ms\tremaining: 621ms\n",
      "207:\tlearn: 0.1842238\ttotal: 163ms\tremaining: 619ms\n",
      "208:\tlearn: 0.1830500\ttotal: 163ms\tremaining: 617ms\n",
      "209:\tlearn: 0.1820477\ttotal: 163ms\tremaining: 615ms\n",
      "210:\tlearn: 0.1807970\ttotal: 164ms\tremaining: 613ms\n",
      "211:\tlearn: 0.1796653\ttotal: 165ms\tremaining: 612ms\n",
      "212:\tlearn: 0.1784986\ttotal: 165ms\tremaining: 611ms\n",
      "213:\tlearn: 0.1776691\ttotal: 166ms\tremaining: 609ms\n",
      "214:\tlearn: 0.1767513\ttotal: 166ms\tremaining: 608ms\n",
      "215:\tlearn: 0.1758064\ttotal: 167ms\tremaining: 606ms\n",
      "216:\tlearn: 0.1749214\ttotal: 167ms\tremaining: 604ms\n",
      "217:\tlearn: 0.1739042\ttotal: 168ms\tremaining: 602ms\n",
      "218:\tlearn: 0.1729893\ttotal: 168ms\tremaining: 600ms\n",
      "219:\tlearn: 0.1721400\ttotal: 169ms\tremaining: 599ms\n",
      "220:\tlearn: 0.1710094\ttotal: 169ms\tremaining: 597ms\n",
      "221:\tlearn: 0.1698894\ttotal: 170ms\tremaining: 595ms\n",
      "222:\tlearn: 0.1687777\ttotal: 170ms\tremaining: 593ms\n",
      "223:\tlearn: 0.1677436\ttotal: 171ms\tremaining: 592ms\n",
      "224:\tlearn: 0.1667070\ttotal: 171ms\tremaining: 590ms\n",
      "225:\tlearn: 0.1657826\ttotal: 172ms\tremaining: 588ms\n",
      "226:\tlearn: 0.1648498\ttotal: 172ms\tremaining: 587ms\n",
      "227:\tlearn: 0.1640099\ttotal: 173ms\tremaining: 585ms\n",
      "228:\tlearn: 0.1632527\ttotal: 173ms\tremaining: 583ms\n",
      "229:\tlearn: 0.1621430\ttotal: 174ms\tremaining: 582ms\n",
      "230:\tlearn: 0.1609732\ttotal: 174ms\tremaining: 580ms\n",
      "231:\tlearn: 0.1600015\ttotal: 175ms\tremaining: 579ms\n",
      "232:\tlearn: 0.1591309\ttotal: 175ms\tremaining: 577ms\n",
      "233:\tlearn: 0.1582295\ttotal: 176ms\tremaining: 575ms\n",
      "234:\tlearn: 0.1573491\ttotal: 176ms\tremaining: 574ms\n",
      "235:\tlearn: 0.1564940\ttotal: 177ms\tremaining: 572ms\n",
      "236:\tlearn: 0.1556902\ttotal: 177ms\tremaining: 570ms\n",
      "237:\tlearn: 0.1548181\ttotal: 178ms\tremaining: 569ms\n",
      "238:\tlearn: 0.1538661\ttotal: 178ms\tremaining: 567ms\n",
      "239:\tlearn: 0.1530262\ttotal: 179ms\tremaining: 566ms\n",
      "240:\tlearn: 0.1521956\ttotal: 179ms\tremaining: 564ms\n",
      "241:\tlearn: 0.1513182\ttotal: 180ms\tremaining: 563ms\n",
      "242:\tlearn: 0.1505407\ttotal: 180ms\tremaining: 562ms\n",
      "243:\tlearn: 0.1496774\ttotal: 181ms\tremaining: 561ms\n",
      "244:\tlearn: 0.1488760\ttotal: 182ms\tremaining: 559ms\n",
      "245:\tlearn: 0.1480643\ttotal: 182ms\tremaining: 558ms\n",
      "246:\tlearn: 0.1473592\ttotal: 183ms\tremaining: 557ms\n",
      "247:\tlearn: 0.1464767\ttotal: 183ms\tremaining: 556ms\n",
      "248:\tlearn: 0.1456984\ttotal: 184ms\tremaining: 554ms\n",
      "249:\tlearn: 0.1449487\ttotal: 184ms\tremaining: 552ms\n",
      "250:\tlearn: 0.1441851\ttotal: 184ms\tremaining: 551ms\n",
      "251:\tlearn: 0.1434561\ttotal: 185ms\tremaining: 549ms\n",
      "252:\tlearn: 0.1427613\ttotal: 185ms\tremaining: 548ms\n",
      "253:\tlearn: 0.1420797\ttotal: 186ms\tremaining: 546ms\n",
      "254:\tlearn: 0.1412819\ttotal: 186ms\tremaining: 545ms\n"
     ]
    },
    {
     "name": "stdout",
     "output_type": "stream",
     "text": [
      "255:\tlearn: 0.1405956\ttotal: 187ms\tremaining: 544ms\n",
      "256:\tlearn: 0.1396602\ttotal: 188ms\tremaining: 543ms\n",
      "257:\tlearn: 0.1389100\ttotal: 188ms\tremaining: 542ms\n",
      "258:\tlearn: 0.1382258\ttotal: 189ms\tremaining: 540ms\n",
      "259:\tlearn: 0.1375819\ttotal: 189ms\tremaining: 539ms\n",
      "260:\tlearn: 0.1369001\ttotal: 190ms\tremaining: 538ms\n",
      "261:\tlearn: 0.1360865\ttotal: 190ms\tremaining: 536ms\n",
      "262:\tlearn: 0.1351964\ttotal: 191ms\tremaining: 535ms\n",
      "263:\tlearn: 0.1346378\ttotal: 191ms\tremaining: 534ms\n",
      "264:\tlearn: 0.1340693\ttotal: 192ms\tremaining: 532ms\n",
      "265:\tlearn: 0.1334743\ttotal: 192ms\tremaining: 531ms\n",
      "266:\tlearn: 0.1329939\ttotal: 193ms\tremaining: 530ms\n",
      "267:\tlearn: 0.1323809\ttotal: 194ms\tremaining: 529ms\n",
      "268:\tlearn: 0.1315425\ttotal: 194ms\tremaining: 527ms\n",
      "269:\tlearn: 0.1310626\ttotal: 195ms\tremaining: 526ms\n",
      "270:\tlearn: 0.1303584\ttotal: 195ms\tremaining: 525ms\n",
      "271:\tlearn: 0.1296285\ttotal: 196ms\tremaining: 524ms\n",
      "272:\tlearn: 0.1290524\ttotal: 197ms\tremaining: 523ms\n",
      "273:\tlearn: 0.1283775\ttotal: 197ms\tremaining: 522ms\n",
      "274:\tlearn: 0.1279905\ttotal: 197ms\tremaining: 521ms\n",
      "275:\tlearn: 0.1276644\ttotal: 198ms\tremaining: 520ms\n",
      "276:\tlearn: 0.1270086\ttotal: 199ms\tremaining: 519ms\n",
      "277:\tlearn: 0.1262947\ttotal: 199ms\tremaining: 518ms\n",
      "278:\tlearn: 0.1256313\ttotal: 200ms\tremaining: 517ms\n",
      "279:\tlearn: 0.1250744\ttotal: 200ms\tremaining: 515ms\n",
      "280:\tlearn: 0.1243791\ttotal: 201ms\tremaining: 514ms\n",
      "281:\tlearn: 0.1238044\ttotal: 201ms\tremaining: 513ms\n",
      "282:\tlearn: 0.1232123\ttotal: 202ms\tremaining: 511ms\n",
      "283:\tlearn: 0.1226874\ttotal: 202ms\tremaining: 510ms\n",
      "284:\tlearn: 0.1222022\ttotal: 203ms\tremaining: 509ms\n",
      "285:\tlearn: 0.1217052\ttotal: 203ms\tremaining: 507ms\n",
      "286:\tlearn: 0.1212100\ttotal: 204ms\tremaining: 506ms\n",
      "287:\tlearn: 0.1206334\ttotal: 204ms\tremaining: 504ms\n",
      "288:\tlearn: 0.1200569\ttotal: 204ms\tremaining: 503ms\n",
      "289:\tlearn: 0.1195160\ttotal: 205ms\tremaining: 501ms\n",
      "290:\tlearn: 0.1190886\ttotal: 205ms\tremaining: 500ms\n",
      "291:\tlearn: 0.1186264\ttotal: 206ms\tremaining: 499ms\n",
      "292:\tlearn: 0.1180478\ttotal: 206ms\tremaining: 498ms\n",
      "293:\tlearn: 0.1176706\ttotal: 207ms\tremaining: 496ms\n",
      "294:\tlearn: 0.1170857\ttotal: 207ms\tremaining: 495ms\n",
      "295:\tlearn: 0.1166325\ttotal: 208ms\tremaining: 494ms\n",
      "296:\tlearn: 0.1162347\ttotal: 208ms\tremaining: 492ms\n",
      "297:\tlearn: 0.1156776\ttotal: 209ms\tremaining: 491ms\n",
      "298:\tlearn: 0.1150928\ttotal: 209ms\tremaining: 490ms\n",
      "299:\tlearn: 0.1145607\ttotal: 209ms\tremaining: 489ms\n",
      "300:\tlearn: 0.1142076\ttotal: 210ms\tremaining: 488ms\n",
      "301:\tlearn: 0.1136598\ttotal: 210ms\tremaining: 486ms\n",
      "302:\tlearn: 0.1129764\ttotal: 211ms\tremaining: 485ms\n",
      "303:\tlearn: 0.1124142\ttotal: 211ms\tremaining: 484ms\n",
      "304:\tlearn: 0.1121488\ttotal: 212ms\tremaining: 483ms\n",
      "305:\tlearn: 0.1115868\ttotal: 212ms\tremaining: 482ms\n",
      "306:\tlearn: 0.1113550\ttotal: 213ms\tremaining: 481ms\n",
      "307:\tlearn: 0.1109777\ttotal: 214ms\tremaining: 480ms\n",
      "308:\tlearn: 0.1106075\ttotal: 214ms\tremaining: 479ms\n",
      "309:\tlearn: 0.1102628\ttotal: 214ms\tremaining: 477ms\n",
      "310:\tlearn: 0.1097209\ttotal: 215ms\tremaining: 476ms\n",
      "311:\tlearn: 0.1091699\ttotal: 216ms\tremaining: 475ms\n",
      "312:\tlearn: 0.1087118\ttotal: 216ms\tremaining: 474ms\n",
      "313:\tlearn: 0.1083717\ttotal: 217ms\tremaining: 473ms\n",
      "314:\tlearn: 0.1078292\ttotal: 217ms\tremaining: 472ms\n",
      "315:\tlearn: 0.1073006\ttotal: 217ms\tremaining: 471ms\n",
      "316:\tlearn: 0.1067885\ttotal: 218ms\tremaining: 470ms\n",
      "317:\tlearn: 0.1063534\ttotal: 218ms\tremaining: 469ms\n",
      "318:\tlearn: 0.1061365\ttotal: 219ms\tremaining: 467ms\n",
      "319:\tlearn: 0.1056368\ttotal: 219ms\tremaining: 466ms\n",
      "320:\tlearn: 0.1051169\ttotal: 220ms\tremaining: 465ms\n",
      "321:\tlearn: 0.1047258\ttotal: 220ms\tremaining: 464ms\n",
      "322:\tlearn: 0.1042406\ttotal: 221ms\tremaining: 463ms\n",
      "323:\tlearn: 0.1040308\ttotal: 221ms\tremaining: 462ms\n",
      "324:\tlearn: 0.1035585\ttotal: 222ms\tremaining: 461ms\n",
      "325:\tlearn: 0.1029751\ttotal: 222ms\tremaining: 460ms\n",
      "326:\tlearn: 0.1027695\ttotal: 223ms\tremaining: 458ms\n",
      "327:\tlearn: 0.1022759\ttotal: 223ms\tremaining: 457ms\n",
      "328:\tlearn: 0.1018200\ttotal: 224ms\tremaining: 457ms\n",
      "329:\tlearn: 0.1015369\ttotal: 224ms\tremaining: 455ms\n",
      "330:\tlearn: 0.1010931\ttotal: 225ms\tremaining: 454ms\n",
      "331:\tlearn: 0.1006772\ttotal: 225ms\tremaining: 453ms\n",
      "332:\tlearn: 0.1002519\ttotal: 226ms\tremaining: 452ms\n",
      "333:\tlearn: 0.0998374\ttotal: 226ms\tremaining: 451ms\n",
      "334:\tlearn: 0.0994469\ttotal: 227ms\tremaining: 450ms\n",
      "335:\tlearn: 0.0990622\ttotal: 227ms\tremaining: 449ms\n",
      "336:\tlearn: 0.0986826\ttotal: 228ms\tremaining: 448ms\n",
      "337:\tlearn: 0.0982837\ttotal: 228ms\tremaining: 447ms\n",
      "338:\tlearn: 0.0978763\ttotal: 229ms\tremaining: 446ms\n",
      "339:\tlearn: 0.0974830\ttotal: 229ms\tremaining: 445ms\n",
      "340:\tlearn: 0.0971071\ttotal: 229ms\tremaining: 444ms\n",
      "341:\tlearn: 0.0968397\ttotal: 230ms\tremaining: 442ms\n",
      "342:\tlearn: 0.0964643\ttotal: 230ms\tremaining: 441ms\n",
      "343:\tlearn: 0.0962657\ttotal: 231ms\tremaining: 440ms\n",
      "344:\tlearn: 0.0960099\ttotal: 231ms\tremaining: 439ms\n",
      "345:\tlearn: 0.0956459\ttotal: 232ms\tremaining: 438ms\n",
      "346:\tlearn: 0.0952962\ttotal: 232ms\tremaining: 437ms\n",
      "347:\tlearn: 0.0949372\ttotal: 233ms\tremaining: 436ms\n",
      "348:\tlearn: 0.0945813\ttotal: 233ms\tremaining: 435ms\n",
      "349:\tlearn: 0.0943365\ttotal: 234ms\tremaining: 434ms\n",
      "350:\tlearn: 0.0937015\ttotal: 234ms\tremaining: 433ms\n",
      "351:\tlearn: 0.0935172\ttotal: 234ms\tremaining: 431ms\n",
      "352:\tlearn: 0.0931755\ttotal: 235ms\tremaining: 430ms\n",
      "353:\tlearn: 0.0929389\ttotal: 235ms\tremaining: 429ms\n",
      "354:\tlearn: 0.0923268\ttotal: 236ms\tremaining: 428ms\n",
      "355:\tlearn: 0.0921611\ttotal: 236ms\tremaining: 427ms\n",
      "356:\tlearn: 0.0918195\ttotal: 237ms\tremaining: 426ms\n",
      "357:\tlearn: 0.0914919\ttotal: 237ms\tremaining: 426ms\n",
      "358:\tlearn: 0.0913306\ttotal: 238ms\tremaining: 425ms\n",
      "359:\tlearn: 0.0909985\ttotal: 238ms\tremaining: 424ms\n",
      "360:\tlearn: 0.0905684\ttotal: 239ms\tremaining: 423ms\n",
      "361:\tlearn: 0.0902941\ttotal: 239ms\tremaining: 422ms\n",
      "362:\tlearn: 0.0897112\ttotal: 240ms\tremaining: 421ms\n",
      "363:\tlearn: 0.0895578\ttotal: 240ms\tremaining: 420ms\n",
      "364:\tlearn: 0.0891418\ttotal: 241ms\tremaining: 419ms\n",
      "365:\tlearn: 0.0888784\ttotal: 241ms\tremaining: 418ms\n",
      "366:\tlearn: 0.0884704\ttotal: 242ms\tremaining: 417ms\n",
      "367:\tlearn: 0.0880247\ttotal: 242ms\tremaining: 416ms\n",
      "368:\tlearn: 0.0877181\ttotal: 243ms\tremaining: 415ms\n",
      "369:\tlearn: 0.0874600\ttotal: 243ms\tremaining: 414ms\n",
      "370:\tlearn: 0.0870665\ttotal: 244ms\tremaining: 413ms\n",
      "371:\tlearn: 0.0865078\ttotal: 244ms\tremaining: 413ms\n",
      "372:\tlearn: 0.0862567\ttotal: 245ms\tremaining: 412ms\n",
      "373:\tlearn: 0.0858749\ttotal: 246ms\tremaining: 411ms\n",
      "374:\tlearn: 0.0853237\ttotal: 246ms\tremaining: 410ms\n",
      "375:\tlearn: 0.0850319\ttotal: 246ms\tremaining: 409ms\n",
      "376:\tlearn: 0.0845931\ttotal: 247ms\tremaining: 408ms\n",
      "377:\tlearn: 0.0843096\ttotal: 248ms\tremaining: 408ms\n",
      "378:\tlearn: 0.0840958\ttotal: 248ms\tremaining: 407ms\n",
      "379:\tlearn: 0.0837333\ttotal: 249ms\tremaining: 406ms\n",
      "380:\tlearn: 0.0833104\ttotal: 249ms\tremaining: 405ms\n",
      "381:\tlearn: 0.0831032\ttotal: 250ms\tremaining: 404ms\n",
      "382:\tlearn: 0.0825905\ttotal: 250ms\tremaining: 403ms\n",
      "383:\tlearn: 0.0821819\ttotal: 251ms\tremaining: 402ms\n",
      "384:\tlearn: 0.0816869\ttotal: 251ms\tremaining: 401ms\n",
      "385:\tlearn: 0.0813694\ttotal: 252ms\tremaining: 400ms\n",
      "386:\tlearn: 0.0811182\ttotal: 252ms\tremaining: 400ms\n",
      "387:\tlearn: 0.0807656\ttotal: 253ms\tremaining: 399ms\n",
      "388:\tlearn: 0.0806163\ttotal: 253ms\tremaining: 398ms\n",
      "389:\tlearn: 0.0804201\ttotal: 254ms\tremaining: 397ms\n",
      "390:\tlearn: 0.0799332\ttotal: 254ms\tremaining: 396ms\n",
      "391:\tlearn: 0.0794610\ttotal: 255ms\tremaining: 395ms\n",
      "392:\tlearn: 0.0790813\ttotal: 255ms\tremaining: 394ms\n",
      "393:\tlearn: 0.0787099\ttotal: 256ms\tremaining: 394ms\n",
      "394:\tlearn: 0.0785654\ttotal: 256ms\tremaining: 392ms\n",
      "395:\tlearn: 0.0783323\ttotal: 257ms\tremaining: 391ms\n",
      "396:\tlearn: 0.0780676\ttotal: 257ms\tremaining: 390ms\n",
      "397:\tlearn: 0.0778093\ttotal: 257ms\tremaining: 389ms\n",
      "398:\tlearn: 0.0775347\ttotal: 258ms\tremaining: 388ms\n",
      "399:\tlearn: 0.0774033\ttotal: 258ms\tremaining: 387ms\n",
      "400:\tlearn: 0.0771538\ttotal: 259ms\tremaining: 386ms\n",
      "401:\tlearn: 0.0768765\ttotal: 259ms\tremaining: 385ms\n",
      "402:\tlearn: 0.0766138\ttotal: 260ms\tremaining: 385ms\n",
      "403:\tlearn: 0.0763463\ttotal: 260ms\tremaining: 384ms\n",
      "404:\tlearn: 0.0762097\ttotal: 261ms\tremaining: 383ms\n",
      "405:\tlearn: 0.0759511\ttotal: 261ms\tremaining: 382ms\n",
      "406:\tlearn: 0.0758282\ttotal: 261ms\tremaining: 381ms\n",
      "407:\tlearn: 0.0756952\ttotal: 262ms\tremaining: 380ms\n",
      "408:\tlearn: 0.0754005\ttotal: 262ms\tremaining: 379ms\n",
      "409:\tlearn: 0.0749530\ttotal: 263ms\tremaining: 378ms\n",
      "410:\tlearn: 0.0745173\ttotal: 263ms\tremaining: 378ms\n",
      "411:\tlearn: 0.0741785\ttotal: 264ms\tremaining: 377ms\n",
      "412:\tlearn: 0.0737380\ttotal: 264ms\tremaining: 375ms\n",
      "413:\tlearn: 0.0734079\ttotal: 265ms\tremaining: 375ms\n",
      "414:\tlearn: 0.0730137\ttotal: 265ms\tremaining: 374ms\n",
      "415:\tlearn: 0.0726935\ttotal: 266ms\tremaining: 373ms\n",
      "416:\tlearn: 0.0724048\ttotal: 266ms\tremaining: 372ms\n",
      "417:\tlearn: 0.0722954\ttotal: 266ms\tremaining: 371ms\n",
      "418:\tlearn: 0.0718826\ttotal: 267ms\tremaining: 370ms\n",
      "419:\tlearn: 0.0716202\ttotal: 267ms\tremaining: 369ms\n",
      "420:\tlearn: 0.0714656\ttotal: 268ms\tremaining: 368ms\n",
      "421:\tlearn: 0.0710754\ttotal: 268ms\tremaining: 367ms\n",
      "422:\tlearn: 0.0708505\ttotal: 268ms\tremaining: 366ms\n",
      "423:\tlearn: 0.0704184\ttotal: 269ms\tremaining: 365ms\n",
      "424:\tlearn: 0.0701638\ttotal: 269ms\tremaining: 365ms\n",
      "425:\tlearn: 0.0699037\ttotal: 270ms\tremaining: 364ms\n",
      "426:\tlearn: 0.0697808\ttotal: 270ms\tremaining: 363ms\n",
      "427:\tlearn: 0.0696596\ttotal: 271ms\tremaining: 362ms\n",
      "428:\tlearn: 0.0695403\ttotal: 271ms\tremaining: 361ms\n",
      "429:\tlearn: 0.0691541\ttotal: 272ms\tremaining: 360ms\n",
      "430:\tlearn: 0.0689883\ttotal: 272ms\tremaining: 359ms\n",
      "431:\tlearn: 0.0686323\ttotal: 272ms\tremaining: 358ms\n",
      "432:\tlearn: 0.0682671\ttotal: 273ms\tremaining: 358ms\n",
      "433:\tlearn: 0.0681205\ttotal: 273ms\tremaining: 356ms\n",
      "434:\tlearn: 0.0678795\ttotal: 274ms\tremaining: 356ms\n",
      "435:\tlearn: 0.0675948\ttotal: 274ms\tremaining: 355ms\n",
      "436:\tlearn: 0.0672446\ttotal: 275ms\tremaining: 354ms\n",
      "437:\tlearn: 0.0670688\ttotal: 276ms\tremaining: 354ms\n",
      "438:\tlearn: 0.0667641\ttotal: 276ms\tremaining: 353ms\n",
      "439:\tlearn: 0.0665256\ttotal: 277ms\tremaining: 352ms\n",
      "440:\tlearn: 0.0663643\ttotal: 277ms\tremaining: 351ms\n",
      "441:\tlearn: 0.0661080\ttotal: 278ms\tremaining: 350ms\n",
      "442:\tlearn: 0.0659315\ttotal: 278ms\tremaining: 350ms\n",
      "443:\tlearn: 0.0655973\ttotal: 279ms\tremaining: 349ms\n",
      "444:\tlearn: 0.0654266\ttotal: 279ms\tremaining: 348ms\n",
      "445:\tlearn: 0.0651333\ttotal: 280ms\tremaining: 347ms\n",
      "446:\tlearn: 0.0647975\ttotal: 280ms\tremaining: 346ms\n",
      "447:\tlearn: 0.0645719\ttotal: 280ms\tremaining: 346ms\n",
      "448:\tlearn: 0.0644180\ttotal: 281ms\tremaining: 345ms\n",
      "449:\tlearn: 0.0641745\ttotal: 282ms\tremaining: 344ms\n",
      "450:\tlearn: 0.0640793\ttotal: 282ms\tremaining: 343ms\n",
      "451:\tlearn: 0.0639152\ttotal: 283ms\tremaining: 343ms\n",
      "452:\tlearn: 0.0636180\ttotal: 283ms\tremaining: 342ms\n",
      "453:\tlearn: 0.0635285\ttotal: 283ms\tremaining: 341ms\n",
      "454:\tlearn: 0.0634363\ttotal: 284ms\tremaining: 340ms\n",
      "455:\tlearn: 0.0631682\ttotal: 284ms\tremaining: 339ms\n",
      "456:\tlearn: 0.0630816\ttotal: 285ms\tremaining: 339ms\n",
      "457:\tlearn: 0.0629867\ttotal: 285ms\tremaining: 338ms\n",
      "458:\tlearn: 0.0629025\ttotal: 286ms\tremaining: 337ms\n",
      "459:\tlearn: 0.0628197\ttotal: 286ms\tremaining: 336ms\n",
      "460:\tlearn: 0.0627287\ttotal: 287ms\tremaining: 335ms\n",
      "461:\tlearn: 0.0624689\ttotal: 288ms\tremaining: 335ms\n",
      "462:\tlearn: 0.0623887\ttotal: 288ms\tremaining: 334ms\n",
      "463:\tlearn: 0.0623098\ttotal: 289ms\tremaining: 333ms\n",
      "464:\tlearn: 0.0622226\ttotal: 289ms\tremaining: 333ms\n",
      "465:\tlearn: 0.0621459\ttotal: 290ms\tremaining: 332ms\n",
      "466:\tlearn: 0.0618995\ttotal: 290ms\tremaining: 331ms\n",
      "467:\tlearn: 0.0618147\ttotal: 290ms\tremaining: 330ms\n",
      "468:\tlearn: 0.0617107\ttotal: 291ms\tremaining: 329ms\n"
     ]
    },
    {
     "name": "stdout",
     "output_type": "stream",
     "text": [
      "469:\tlearn: 0.0614188\ttotal: 292ms\tremaining: 329ms\n",
      "470:\tlearn: 0.0611705\ttotal: 292ms\tremaining: 328ms\n",
      "471:\tlearn: 0.0610881\ttotal: 293ms\tremaining: 327ms\n",
      "472:\tlearn: 0.0610155\ttotal: 293ms\tremaining: 327ms\n",
      "473:\tlearn: 0.0609043\ttotal: 294ms\tremaining: 326ms\n",
      "474:\tlearn: 0.0606803\ttotal: 294ms\tremaining: 325ms\n",
      "475:\tlearn: 0.0606102\ttotal: 295ms\tremaining: 324ms\n",
      "476:\tlearn: 0.0605107\ttotal: 295ms\tremaining: 324ms\n",
      "477:\tlearn: 0.0602748\ttotal: 296ms\tremaining: 323ms\n",
      "478:\tlearn: 0.0601676\ttotal: 296ms\tremaining: 322ms\n",
      "479:\tlearn: 0.0600960\ttotal: 297ms\tremaining: 321ms\n",
      "480:\tlearn: 0.0600064\ttotal: 297ms\tremaining: 321ms\n",
      "481:\tlearn: 0.0596399\ttotal: 298ms\tremaining: 320ms\n",
      "482:\tlearn: 0.0592808\ttotal: 298ms\tremaining: 319ms\n",
      "483:\tlearn: 0.0589599\ttotal: 299ms\tremaining: 319ms\n",
      "484:\tlearn: 0.0586583\ttotal: 299ms\tremaining: 318ms\n",
      "485:\tlearn: 0.0584475\ttotal: 300ms\tremaining: 317ms\n",
      "486:\tlearn: 0.0581412\ttotal: 301ms\tremaining: 317ms\n",
      "487:\tlearn: 0.0578210\ttotal: 301ms\tremaining: 316ms\n",
      "488:\tlearn: 0.0575170\ttotal: 302ms\tremaining: 315ms\n",
      "489:\tlearn: 0.0571360\ttotal: 302ms\tremaining: 315ms\n",
      "490:\tlearn: 0.0568307\ttotal: 303ms\tremaining: 314ms\n",
      "491:\tlearn: 0.0565008\ttotal: 303ms\tremaining: 313ms\n",
      "492:\tlearn: 0.0561780\ttotal: 304ms\tremaining: 312ms\n",
      "493:\tlearn: 0.0558927\ttotal: 304ms\tremaining: 312ms\n",
      "494:\tlearn: 0.0556079\ttotal: 305ms\tremaining: 311ms\n",
      "495:\tlearn: 0.0553266\ttotal: 305ms\tremaining: 310ms\n",
      "496:\tlearn: 0.0550950\ttotal: 306ms\tremaining: 310ms\n",
      "497:\tlearn: 0.0548199\ttotal: 306ms\tremaining: 309ms\n",
      "498:\tlearn: 0.0545391\ttotal: 307ms\tremaining: 308ms\n",
      "499:\tlearn: 0.0542367\ttotal: 307ms\tremaining: 307ms\n",
      "500:\tlearn: 0.0538981\ttotal: 308ms\tremaining: 307ms\n",
      "501:\tlearn: 0.0536406\ttotal: 308ms\tremaining: 306ms\n",
      "502:\tlearn: 0.0533399\ttotal: 309ms\tremaining: 305ms\n",
      "503:\tlearn: 0.0531205\ttotal: 309ms\tremaining: 304ms\n",
      "504:\tlearn: 0.0528981\ttotal: 310ms\tremaining: 304ms\n",
      "505:\tlearn: 0.0526721\ttotal: 310ms\tremaining: 303ms\n",
      "506:\tlearn: 0.0524515\ttotal: 311ms\tremaining: 302ms\n",
      "507:\tlearn: 0.0522363\ttotal: 311ms\tremaining: 302ms\n",
      "508:\tlearn: 0.0520272\ttotal: 312ms\tremaining: 301ms\n",
      "509:\tlearn: 0.0518186\ttotal: 312ms\tremaining: 300ms\n",
      "510:\tlearn: 0.0516357\ttotal: 313ms\tremaining: 299ms\n",
      "511:\tlearn: 0.0514338\ttotal: 313ms\tremaining: 298ms\n",
      "512:\tlearn: 0.0512751\ttotal: 314ms\tremaining: 298ms\n",
      "513:\tlearn: 0.0510777\ttotal: 314ms\tremaining: 297ms\n",
      "514:\tlearn: 0.0507594\ttotal: 315ms\tremaining: 296ms\n",
      "515:\tlearn: 0.0506075\ttotal: 315ms\tremaining: 296ms\n",
      "516:\tlearn: 0.0504140\ttotal: 316ms\tremaining: 295ms\n",
      "517:\tlearn: 0.0501758\ttotal: 316ms\tremaining: 294ms\n",
      "518:\tlearn: 0.0499421\ttotal: 317ms\tremaining: 293ms\n",
      "519:\tlearn: 0.0497298\ttotal: 317ms\tremaining: 293ms\n",
      "520:\tlearn: 0.0495021\ttotal: 318ms\tremaining: 292ms\n",
      "521:\tlearn: 0.0492787\ttotal: 318ms\tremaining: 291ms\n",
      "522:\tlearn: 0.0490279\ttotal: 319ms\tremaining: 291ms\n",
      "523:\tlearn: 0.0488449\ttotal: 319ms\tremaining: 290ms\n",
      "524:\tlearn: 0.0486606\ttotal: 320ms\tremaining: 289ms\n",
      "525:\tlearn: 0.0484584\ttotal: 320ms\tremaining: 289ms\n",
      "526:\tlearn: 0.0482450\ttotal: 321ms\tremaining: 288ms\n",
      "527:\tlearn: 0.0480808\ttotal: 321ms\tremaining: 287ms\n",
      "528:\tlearn: 0.0480132\ttotal: 321ms\tremaining: 286ms\n",
      "529:\tlearn: 0.0477744\ttotal: 322ms\tremaining: 286ms\n",
      "530:\tlearn: 0.0475399\ttotal: 323ms\tremaining: 285ms\n",
      "531:\tlearn: 0.0473643\ttotal: 323ms\tremaining: 284ms\n",
      "532:\tlearn: 0.0471719\ttotal: 324ms\tremaining: 284ms\n",
      "533:\tlearn: 0.0469441\ttotal: 324ms\tremaining: 283ms\n",
      "534:\tlearn: 0.0466855\ttotal: 325ms\tremaining: 282ms\n",
      "535:\tlearn: 0.0465113\ttotal: 325ms\tremaining: 282ms\n",
      "536:\tlearn: 0.0463472\ttotal: 326ms\tremaining: 281ms\n",
      "537:\tlearn: 0.0461826\ttotal: 326ms\tremaining: 280ms\n",
      "538:\tlearn: 0.0459639\ttotal: 327ms\tremaining: 280ms\n",
      "539:\tlearn: 0.0457163\ttotal: 328ms\tremaining: 279ms\n",
      "540:\tlearn: 0.0455456\ttotal: 328ms\tremaining: 278ms\n",
      "541:\tlearn: 0.0453567\ttotal: 329ms\tremaining: 278ms\n",
      "542:\tlearn: 0.0451434\ttotal: 329ms\tremaining: 277ms\n",
      "543:\tlearn: 0.0449220\ttotal: 329ms\tremaining: 276ms\n",
      "544:\tlearn: 0.0447680\ttotal: 330ms\tremaining: 275ms\n",
      "545:\tlearn: 0.0445524\ttotal: 330ms\tremaining: 275ms\n",
      "546:\tlearn: 0.0444019\ttotal: 331ms\tremaining: 274ms\n",
      "547:\tlearn: 0.0442010\ttotal: 331ms\tremaining: 273ms\n",
      "548:\tlearn: 0.0439924\ttotal: 332ms\tremaining: 273ms\n",
      "549:\tlearn: 0.0437519\ttotal: 333ms\tremaining: 272ms\n",
      "550:\tlearn: 0.0435819\ttotal: 333ms\tremaining: 272ms\n",
      "551:\tlearn: 0.0434370\ttotal: 334ms\tremaining: 271ms\n",
      "552:\tlearn: 0.0432363\ttotal: 334ms\tremaining: 270ms\n",
      "553:\tlearn: 0.0430699\ttotal: 335ms\tremaining: 270ms\n",
      "554:\tlearn: 0.0429144\ttotal: 335ms\tremaining: 269ms\n",
      "555:\tlearn: 0.0427734\ttotal: 336ms\tremaining: 268ms\n",
      "556:\tlearn: 0.0425565\ttotal: 336ms\tremaining: 267ms\n",
      "557:\tlearn: 0.0424989\ttotal: 337ms\tremaining: 267ms\n",
      "558:\tlearn: 0.0423058\ttotal: 337ms\tremaining: 266ms\n",
      "559:\tlearn: 0.0420821\ttotal: 338ms\tremaining: 266ms\n",
      "560:\tlearn: 0.0418564\ttotal: 338ms\tremaining: 265ms\n",
      "561:\tlearn: 0.0416380\ttotal: 339ms\tremaining: 264ms\n",
      "562:\tlearn: 0.0415024\ttotal: 339ms\tremaining: 263ms\n",
      "563:\tlearn: 0.0412879\ttotal: 340ms\tremaining: 263ms\n",
      "564:\tlearn: 0.0410771\ttotal: 341ms\tremaining: 262ms\n",
      "565:\tlearn: 0.0409443\ttotal: 341ms\tremaining: 262ms\n",
      "566:\tlearn: 0.0407448\ttotal: 342ms\tremaining: 261ms\n",
      "567:\tlearn: 0.0405487\ttotal: 342ms\tremaining: 260ms\n",
      "568:\tlearn: 0.0403561\ttotal: 343ms\tremaining: 260ms\n",
      "569:\tlearn: 0.0401669\ttotal: 343ms\tremaining: 259ms\n",
      "570:\tlearn: 0.0399809\ttotal: 344ms\tremaining: 258ms\n",
      "571:\tlearn: 0.0397982\ttotal: 344ms\tremaining: 257ms\n",
      "572:\tlearn: 0.0395426\ttotal: 345ms\tremaining: 257ms\n",
      "573:\tlearn: 0.0394263\ttotal: 345ms\tremaining: 256ms\n",
      "574:\tlearn: 0.0392440\ttotal: 345ms\tremaining: 255ms\n",
      "575:\tlearn: 0.0390882\ttotal: 346ms\tremaining: 255ms\n",
      "576:\tlearn: 0.0388682\ttotal: 346ms\tremaining: 254ms\n",
      "577:\tlearn: 0.0386754\ttotal: 347ms\tremaining: 253ms\n",
      "578:\tlearn: 0.0385251\ttotal: 347ms\tremaining: 253ms\n",
      "579:\tlearn: 0.0383121\ttotal: 348ms\tremaining: 252ms\n",
      "580:\tlearn: 0.0381503\ttotal: 348ms\tremaining: 251ms\n",
      "581:\tlearn: 0.0380056\ttotal: 349ms\tremaining: 251ms\n",
      "582:\tlearn: 0.0378557\ttotal: 349ms\tremaining: 250ms\n",
      "583:\tlearn: 0.0376597\ttotal: 350ms\tremaining: 249ms\n",
      "584:\tlearn: 0.0375141\ttotal: 350ms\tremaining: 249ms\n",
      "585:\tlearn: 0.0374732\ttotal: 351ms\tremaining: 248ms\n",
      "586:\tlearn: 0.0374238\ttotal: 351ms\tremaining: 247ms\n",
      "587:\tlearn: 0.0372573\ttotal: 352ms\tremaining: 247ms\n",
      "588:\tlearn: 0.0371259\ttotal: 352ms\tremaining: 246ms\n",
      "589:\tlearn: 0.0369630\ttotal: 353ms\tremaining: 245ms\n",
      "590:\tlearn: 0.0368345\ttotal: 353ms\tremaining: 245ms\n",
      "591:\tlearn: 0.0366677\ttotal: 354ms\tremaining: 244ms\n",
      "592:\tlearn: 0.0365418\ttotal: 354ms\tremaining: 243ms\n",
      "593:\tlearn: 0.0364181\ttotal: 355ms\tremaining: 242ms\n",
      "594:\tlearn: 0.0362873\ttotal: 355ms\tremaining: 242ms\n",
      "595:\tlearn: 0.0361351\ttotal: 356ms\tremaining: 241ms\n",
      "596:\tlearn: 0.0359756\ttotal: 356ms\tremaining: 240ms\n",
      "597:\tlearn: 0.0358570\ttotal: 356ms\tremaining: 240ms\n",
      "598:\tlearn: 0.0357303\ttotal: 357ms\tremaining: 239ms\n",
      "599:\tlearn: 0.0355959\ttotal: 357ms\tremaining: 238ms\n",
      "600:\tlearn: 0.0354508\ttotal: 358ms\tremaining: 238ms\n",
      "601:\tlearn: 0.0352973\ttotal: 358ms\tremaining: 237ms\n",
      "602:\tlearn: 0.0351898\ttotal: 359ms\tremaining: 236ms\n",
      "603:\tlearn: 0.0349859\ttotal: 359ms\tremaining: 236ms\n",
      "604:\tlearn: 0.0348808\ttotal: 360ms\tremaining: 235ms\n",
      "605:\tlearn: 0.0346812\ttotal: 360ms\tremaining: 234ms\n",
      "606:\tlearn: 0.0345454\ttotal: 361ms\tremaining: 234ms\n",
      "607:\tlearn: 0.0345008\ttotal: 361ms\tremaining: 233ms\n",
      "608:\tlearn: 0.0343241\ttotal: 362ms\tremaining: 232ms\n",
      "609:\tlearn: 0.0341307\ttotal: 362ms\tremaining: 232ms\n",
      "610:\tlearn: 0.0340199\ttotal: 363ms\tremaining: 231ms\n",
      "611:\tlearn: 0.0339110\ttotal: 364ms\tremaining: 231ms\n",
      "612:\tlearn: 0.0337813\ttotal: 364ms\tremaining: 230ms\n",
      "613:\tlearn: 0.0336747\ttotal: 365ms\tremaining: 229ms\n",
      "614:\tlearn: 0.0334865\ttotal: 365ms\tremaining: 229ms\n",
      "615:\tlearn: 0.0333548\ttotal: 366ms\tremaining: 228ms\n",
      "616:\tlearn: 0.0332567\ttotal: 366ms\tremaining: 227ms\n",
      "617:\tlearn: 0.0330715\ttotal: 367ms\tremaining: 227ms\n",
      "618:\tlearn: 0.0329505\ttotal: 368ms\tremaining: 226ms\n",
      "619:\tlearn: 0.0328228\ttotal: 368ms\tremaining: 226ms\n",
      "620:\tlearn: 0.0326432\ttotal: 369ms\tremaining: 225ms\n",
      "621:\tlearn: 0.0325432\ttotal: 369ms\tremaining: 224ms\n",
      "622:\tlearn: 0.0324256\ttotal: 370ms\tremaining: 224ms\n"
     ]
    },
    {
     "name": "stdout",
     "output_type": "stream",
     "text": [
      "623:\tlearn: 0.0323031\ttotal: 370ms\tremaining: 223ms\n",
      "624:\tlearn: 0.0322054\ttotal: 371ms\tremaining: 223ms\n",
      "625:\tlearn: 0.0320294\ttotal: 371ms\tremaining: 222ms\n",
      "626:\tlearn: 0.0319092\ttotal: 372ms\tremaining: 221ms\n",
      "627:\tlearn: 0.0317330\ttotal: 372ms\tremaining: 220ms\n",
      "628:\tlearn: 0.0315620\ttotal: 373ms\tremaining: 220ms\n",
      "629:\tlearn: 0.0314686\ttotal: 373ms\tremaining: 219ms\n",
      "630:\tlearn: 0.0312975\ttotal: 374ms\tremaining: 218ms\n",
      "631:\tlearn: 0.0311799\ttotal: 374ms\tremaining: 218ms\n",
      "632:\tlearn: 0.0310530\ttotal: 375ms\tremaining: 217ms\n",
      "633:\tlearn: 0.0308858\ttotal: 375ms\tremaining: 217ms\n",
      "634:\tlearn: 0.0307825\ttotal: 376ms\tremaining: 216ms\n",
      "635:\tlearn: 0.0306673\ttotal: 376ms\tremaining: 215ms\n",
      "636:\tlearn: 0.0305452\ttotal: 377ms\tremaining: 215ms\n",
      "637:\tlearn: 0.0303968\ttotal: 377ms\tremaining: 214ms\n",
      "638:\tlearn: 0.0302292\ttotal: 378ms\tremaining: 213ms\n",
      "639:\tlearn: 0.0300662\ttotal: 378ms\tremaining: 213ms\n",
      "640:\tlearn: 0.0299076\ttotal: 379ms\tremaining: 212ms\n",
      "641:\tlearn: 0.0297464\ttotal: 379ms\tremaining: 211ms\n",
      "642:\tlearn: 0.0295934\ttotal: 379ms\tremaining: 211ms\n",
      "643:\tlearn: 0.0295589\ttotal: 380ms\tremaining: 210ms\n",
      "644:\tlearn: 0.0294159\ttotal: 380ms\tremaining: 209ms\n",
      "645:\tlearn: 0.0292680\ttotal: 381ms\tremaining: 209ms\n",
      "646:\tlearn: 0.0291216\ttotal: 382ms\tremaining: 208ms\n",
      "647:\tlearn: 0.0290201\ttotal: 382ms\tremaining: 208ms\n",
      "648:\tlearn: 0.0289918\ttotal: 383ms\tremaining: 207ms\n",
      "649:\tlearn: 0.0288493\ttotal: 383ms\tremaining: 206ms\n",
      "650:\tlearn: 0.0286963\ttotal: 384ms\tremaining: 206ms\n",
      "651:\tlearn: 0.0285443\ttotal: 384ms\tremaining: 205ms\n",
      "652:\tlearn: 0.0284098\ttotal: 385ms\tremaining: 204ms\n",
      "653:\tlearn: 0.0283123\ttotal: 385ms\tremaining: 204ms\n",
      "654:\tlearn: 0.0281754\ttotal: 385ms\tremaining: 203ms\n",
      "655:\tlearn: 0.0280443\ttotal: 386ms\tremaining: 202ms\n",
      "656:\tlearn: 0.0279114\ttotal: 386ms\tremaining: 202ms\n",
      "657:\tlearn: 0.0278195\ttotal: 386ms\tremaining: 201ms\n",
      "658:\tlearn: 0.0276964\ttotal: 387ms\tremaining: 200ms\n",
      "659:\tlearn: 0.0276027\ttotal: 387ms\tremaining: 199ms\n",
      "660:\tlearn: 0.0274748\ttotal: 387ms\tremaining: 199ms\n",
      "661:\tlearn: 0.0273837\ttotal: 388ms\tremaining: 198ms\n",
      "662:\tlearn: 0.0272699\ttotal: 388ms\tremaining: 197ms\n",
      "663:\tlearn: 0.0271461\ttotal: 388ms\tremaining: 197ms\n",
      "664:\tlearn: 0.0270384\ttotal: 389ms\tremaining: 196ms\n",
      "665:\tlearn: 0.0269500\ttotal: 389ms\tremaining: 195ms\n",
      "666:\tlearn: 0.0268581\ttotal: 389ms\tremaining: 194ms\n",
      "667:\tlearn: 0.0267679\ttotal: 390ms\tremaining: 194ms\n",
      "668:\tlearn: 0.0266513\ttotal: 390ms\tremaining: 193ms\n",
      "669:\tlearn: 0.0265655\ttotal: 391ms\tremaining: 192ms\n",
      "670:\tlearn: 0.0265393\ttotal: 391ms\tremaining: 192ms\n",
      "671:\tlearn: 0.0264515\ttotal: 391ms\tremaining: 191ms\n",
      "672:\tlearn: 0.0264258\ttotal: 392ms\tremaining: 190ms\n",
      "673:\tlearn: 0.0263398\ttotal: 392ms\tremaining: 190ms\n",
      "674:\tlearn: 0.0262195\ttotal: 393ms\tremaining: 189ms\n",
      "675:\tlearn: 0.0261356\ttotal: 393ms\tremaining: 188ms\n",
      "676:\tlearn: 0.0260531\ttotal: 394ms\tremaining: 188ms\n",
      "677:\tlearn: 0.0259722\ttotal: 394ms\tremaining: 187ms\n",
      "678:\tlearn: 0.0259345\ttotal: 394ms\tremaining: 186ms\n",
      "679:\tlearn: 0.0258979\ttotal: 395ms\tremaining: 186ms\n",
      "680:\tlearn: 0.0258734\ttotal: 395ms\tremaining: 185ms\n",
      "681:\tlearn: 0.0257967\ttotal: 396ms\tremaining: 184ms\n",
      "682:\tlearn: 0.0256821\ttotal: 396ms\tremaining: 184ms\n",
      "683:\tlearn: 0.0255703\ttotal: 396ms\tremaining: 183ms\n",
      "684:\tlearn: 0.0254324\ttotal: 397ms\tremaining: 182ms\n",
      "685:\tlearn: 0.0253977\ttotal: 397ms\tremaining: 182ms\n",
      "686:\tlearn: 0.0252624\ttotal: 398ms\tremaining: 181ms\n",
      "687:\tlearn: 0.0252298\ttotal: 398ms\tremaining: 180ms\n",
      "688:\tlearn: 0.0251925\ttotal: 398ms\tremaining: 180ms\n",
      "689:\tlearn: 0.0251604\ttotal: 399ms\tremaining: 179ms\n",
      "690:\tlearn: 0.0251289\ttotal: 399ms\tremaining: 178ms\n",
      "691:\tlearn: 0.0249914\ttotal: 400ms\tremaining: 178ms\n",
      "692:\tlearn: 0.0249602\ttotal: 400ms\tremaining: 177ms\n",
      "693:\tlearn: 0.0248285\ttotal: 400ms\tremaining: 176ms\n",
      "694:\tlearn: 0.0247921\ttotal: 401ms\tremaining: 176ms\n",
      "695:\tlearn: 0.0247617\ttotal: 401ms\tremaining: 175ms\n",
      "696:\tlearn: 0.0247316\ttotal: 401ms\tremaining: 175ms\n",
      "697:\tlearn: 0.0245974\ttotal: 402ms\tremaining: 174ms\n",
      "698:\tlearn: 0.0244636\ttotal: 402ms\tremaining: 173ms\n",
      "699:\tlearn: 0.0244341\ttotal: 403ms\tremaining: 173ms\n",
      "700:\tlearn: 0.0243613\ttotal: 403ms\tremaining: 172ms\n",
      "701:\tlearn: 0.0242554\ttotal: 404ms\tremaining: 171ms\n",
      "702:\tlearn: 0.0241263\ttotal: 404ms\tremaining: 171ms\n",
      "703:\tlearn: 0.0240229\ttotal: 405ms\tremaining: 170ms\n",
      "704:\tlearn: 0.0239844\ttotal: 405ms\tremaining: 170ms\n",
      "705:\tlearn: 0.0238592\ttotal: 406ms\tremaining: 169ms\n",
      "706:\tlearn: 0.0238305\ttotal: 406ms\tremaining: 168ms\n",
      "707:\tlearn: 0.0237930\ttotal: 407ms\tremaining: 168ms\n",
      "708:\tlearn: 0.0236701\ttotal: 407ms\tremaining: 167ms\n",
      "709:\tlearn: 0.0236335\ttotal: 408ms\tremaining: 166ms\n",
      "710:\tlearn: 0.0235056\ttotal: 408ms\tremaining: 166ms\n",
      "711:\tlearn: 0.0234776\ttotal: 409ms\tremaining: 165ms\n",
      "712:\tlearn: 0.0233574\ttotal: 409ms\tremaining: 165ms\n",
      "713:\tlearn: 0.0232534\ttotal: 410ms\tremaining: 164ms\n",
      "714:\tlearn: 0.0232262\ttotal: 410ms\tremaining: 163ms\n",
      "715:\tlearn: 0.0230956\ttotal: 411ms\tremaining: 163ms\n",
      "716:\tlearn: 0.0230598\ttotal: 411ms\tremaining: 162ms\n",
      "717:\tlearn: 0.0230332\ttotal: 412ms\tremaining: 162ms\n",
      "718:\tlearn: 0.0229329\ttotal: 412ms\tremaining: 161ms\n",
      "719:\tlearn: 0.0228097\ttotal: 412ms\tremaining: 160ms\n",
      "720:\tlearn: 0.0227835\ttotal: 413ms\tremaining: 160ms\n",
      "721:\tlearn: 0.0227577\ttotal: 414ms\tremaining: 159ms\n",
      "722:\tlearn: 0.0226574\ttotal: 414ms\tremaining: 159ms\n",
      "723:\tlearn: 0.0226318\ttotal: 414ms\tremaining: 158ms\n",
      "724:\tlearn: 0.0225369\ttotal: 415ms\tremaining: 157ms\n",
      "725:\tlearn: 0.0224410\ttotal: 416ms\tremaining: 157ms\n",
      "726:\tlearn: 0.0223442\ttotal: 416ms\tremaining: 156ms\n",
      "727:\tlearn: 0.0222519\ttotal: 417ms\tremaining: 156ms\n",
      "728:\tlearn: 0.0221592\ttotal: 417ms\tremaining: 155ms\n",
      "729:\tlearn: 0.0220692\ttotal: 417ms\tremaining: 154ms\n",
      "730:\tlearn: 0.0219761\ttotal: 418ms\tremaining: 154ms\n",
      "731:\tlearn: 0.0218885\ttotal: 419ms\tremaining: 153ms\n",
      "732:\tlearn: 0.0217990\ttotal: 419ms\tremaining: 153ms\n",
      "733:\tlearn: 0.0217135\ttotal: 420ms\tremaining: 152ms\n",
      "734:\tlearn: 0.0215670\ttotal: 420ms\tremaining: 152ms\n",
      "735:\tlearn: 0.0214805\ttotal: 421ms\tremaining: 151ms\n",
      "736:\tlearn: 0.0214491\ttotal: 421ms\tremaining: 150ms\n",
      "737:\tlearn: 0.0212986\ttotal: 422ms\tremaining: 150ms\n",
      "738:\tlearn: 0.0212247\ttotal: 423ms\tremaining: 149ms\n",
      "739:\tlearn: 0.0211584\ttotal: 423ms\tremaining: 149ms\n",
      "740:\tlearn: 0.0210933\ttotal: 424ms\tremaining: 148ms\n",
      "741:\tlearn: 0.0210293\ttotal: 424ms\tremaining: 148ms\n",
      "742:\tlearn: 0.0209480\ttotal: 425ms\tremaining: 147ms\n",
      "743:\tlearn: 0.0208852\ttotal: 425ms\tremaining: 146ms\n",
      "744:\tlearn: 0.0208547\ttotal: 426ms\tremaining: 146ms\n",
      "745:\tlearn: 0.0207750\ttotal: 426ms\tremaining: 145ms\n",
      "746:\tlearn: 0.0207040\ttotal: 427ms\tremaining: 144ms\n",
      "747:\tlearn: 0.0206434\ttotal: 427ms\tremaining: 144ms\n",
      "748:\tlearn: 0.0205838\ttotal: 428ms\tremaining: 143ms\n",
      "749:\tlearn: 0.0205143\ttotal: 428ms\tremaining: 143ms\n",
      "750:\tlearn: 0.0204426\ttotal: 429ms\tremaining: 142ms\n",
      "751:\tlearn: 0.0203679\ttotal: 429ms\tremaining: 141ms\n",
      "752:\tlearn: 0.0202996\ttotal: 429ms\tremaining: 141ms\n",
      "753:\tlearn: 0.0202430\ttotal: 430ms\tremaining: 140ms\n",
      "754:\tlearn: 0.0201711\ttotal: 430ms\tremaining: 140ms\n",
      "755:\tlearn: 0.0201038\ttotal: 431ms\tremaining: 139ms\n",
      "756:\tlearn: 0.0200390\ttotal: 432ms\tremaining: 139ms\n",
      "757:\tlearn: 0.0199851\ttotal: 432ms\tremaining: 138ms\n",
      "758:\tlearn: 0.0198754\ttotal: 433ms\tremaining: 137ms\n",
      "759:\tlearn: 0.0198124\ttotal: 433ms\tremaining: 137ms\n",
      "760:\tlearn: 0.0197474\ttotal: 434ms\tremaining: 136ms\n",
      "761:\tlearn: 0.0196532\ttotal: 434ms\tremaining: 136ms\n",
      "762:\tlearn: 0.0195920\ttotal: 435ms\tremaining: 135ms\n",
      "763:\tlearn: 0.0195283\ttotal: 435ms\tremaining: 134ms\n",
      "764:\tlearn: 0.0194229\ttotal: 436ms\tremaining: 134ms\n",
      "765:\tlearn: 0.0193589\ttotal: 436ms\tremaining: 133ms\n",
      "766:\tlearn: 0.0192928\ttotal: 437ms\tremaining: 133ms\n",
      "767:\tlearn: 0.0192273\ttotal: 437ms\tremaining: 132ms\n",
      "768:\tlearn: 0.0191203\ttotal: 438ms\tremaining: 131ms\n",
      "769:\tlearn: 0.0190341\ttotal: 438ms\tremaining: 131ms\n",
      "770:\tlearn: 0.0189779\ttotal: 439ms\tremaining: 130ms\n",
      "771:\tlearn: 0.0188936\ttotal: 439ms\tremaining: 130ms\n",
      "772:\tlearn: 0.0187722\ttotal: 440ms\tremaining: 129ms\n",
      "773:\tlearn: 0.0187125\ttotal: 440ms\tremaining: 128ms\n",
      "774:\tlearn: 0.0186579\ttotal: 440ms\tremaining: 128ms\n",
      "775:\tlearn: 0.0185955\ttotal: 441ms\tremaining: 127ms\n",
      "776:\tlearn: 0.0185419\ttotal: 441ms\tremaining: 127ms\n",
      "777:\tlearn: 0.0184894\ttotal: 442ms\tremaining: 126ms\n",
      "778:\tlearn: 0.0184321\ttotal: 442ms\tremaining: 125ms\n",
      "779:\tlearn: 0.0183693\ttotal: 443ms\tremaining: 125ms\n",
      "780:\tlearn: 0.0183097\ttotal: 443ms\tremaining: 124ms\n",
      "781:\tlearn: 0.0182544\ttotal: 444ms\tremaining: 124ms\n",
      "782:\tlearn: 0.0181681\ttotal: 444ms\tremaining: 123ms\n",
      "783:\tlearn: 0.0180881\ttotal: 445ms\tremaining: 123ms\n",
      "784:\tlearn: 0.0180095\ttotal: 445ms\tremaining: 122ms\n",
      "785:\tlearn: 0.0179252\ttotal: 446ms\tremaining: 121ms\n",
      "786:\tlearn: 0.0178713\ttotal: 446ms\tremaining: 121ms\n",
      "787:\tlearn: 0.0177886\ttotal: 447ms\tremaining: 120ms\n",
      "788:\tlearn: 0.0177125\ttotal: 447ms\tremaining: 120ms\n",
      "789:\tlearn: 0.0176400\ttotal: 448ms\tremaining: 119ms\n",
      "790:\tlearn: 0.0175665\ttotal: 448ms\tremaining: 118ms\n",
      "791:\tlearn: 0.0174537\ttotal: 448ms\tremaining: 118ms\n",
      "792:\tlearn: 0.0173733\ttotal: 449ms\tremaining: 117ms\n",
      "793:\tlearn: 0.0173210\ttotal: 450ms\tremaining: 117ms\n",
      "794:\tlearn: 0.0172424\ttotal: 450ms\tremaining: 116ms\n",
      "795:\tlearn: 0.0171499\ttotal: 451ms\tremaining: 116ms\n",
      "796:\tlearn: 0.0170733\ttotal: 451ms\tremaining: 115ms\n",
      "797:\tlearn: 0.0170227\ttotal: 452ms\tremaining: 114ms\n",
      "798:\tlearn: 0.0169476\ttotal: 452ms\tremaining: 114ms\n",
      "799:\tlearn: 0.0168777\ttotal: 453ms\tremaining: 113ms\n",
      "800:\tlearn: 0.0168090\ttotal: 453ms\tremaining: 113ms\n",
      "801:\tlearn: 0.0167416\ttotal: 454ms\tremaining: 112ms\n",
      "802:\tlearn: 0.0166664\ttotal: 454ms\tremaining: 111ms\n",
      "803:\tlearn: 0.0166005\ttotal: 455ms\tremaining: 111ms\n",
      "804:\tlearn: 0.0165377\ttotal: 455ms\tremaining: 110ms\n",
      "805:\tlearn: 0.0164324\ttotal: 456ms\tremaining: 110ms\n",
      "806:\tlearn: 0.0163831\ttotal: 457ms\tremaining: 109ms\n",
      "807:\tlearn: 0.0163147\ttotal: 457ms\tremaining: 109ms\n",
      "808:\tlearn: 0.0162121\ttotal: 458ms\tremaining: 108ms\n",
      "809:\tlearn: 0.0161455\ttotal: 458ms\tremaining: 107ms\n",
      "810:\tlearn: 0.0160450\ttotal: 459ms\tremaining: 107ms\n",
      "811:\tlearn: 0.0159938\ttotal: 459ms\tremaining: 106ms\n",
      "812:\tlearn: 0.0158954\ttotal: 460ms\tremaining: 106ms\n",
      "813:\tlearn: 0.0158311\ttotal: 460ms\tremaining: 105ms\n",
      "814:\tlearn: 0.0157348\ttotal: 461ms\tremaining: 105ms\n",
      "815:\tlearn: 0.0156851\ttotal: 461ms\tremaining: 104ms\n",
      "816:\tlearn: 0.0155908\ttotal: 462ms\tremaining: 103ms\n",
      "817:\tlearn: 0.0155265\ttotal: 462ms\tremaining: 103ms\n",
      "818:\tlearn: 0.0154341\ttotal: 463ms\tremaining: 102ms\n",
      "819:\tlearn: 0.0153861\ttotal: 463ms\tremaining: 102ms\n",
      "820:\tlearn: 0.0153250\ttotal: 464ms\tremaining: 101ms\n",
      "821:\tlearn: 0.0152346\ttotal: 464ms\tremaining: 101ms\n",
      "822:\tlearn: 0.0151460\ttotal: 465ms\tremaining: 99.9ms\n",
      "823:\tlearn: 0.0150995\ttotal: 465ms\tremaining: 99.3ms\n",
      "824:\tlearn: 0.0149940\ttotal: 465ms\tremaining: 98.7ms\n",
      "825:\tlearn: 0.0149285\ttotal: 466ms\tremaining: 98.2ms\n",
      "826:\tlearn: 0.0148700\ttotal: 466ms\tremaining: 97.6ms\n",
      "827:\tlearn: 0.0147852\ttotal: 467ms\tremaining: 97ms\n",
      "828:\tlearn: 0.0147405\ttotal: 467ms\tremaining: 96.4ms\n",
      "829:\tlearn: 0.0146967\ttotal: 468ms\tremaining: 95.8ms\n",
      "830:\tlearn: 0.0146141\ttotal: 468ms\tremaining: 95.3ms\n",
      "831:\tlearn: 0.0145624\ttotal: 469ms\tremaining: 94.7ms\n",
      "832:\tlearn: 0.0145000\ttotal: 469ms\tremaining: 94.1ms\n",
      "833:\tlearn: 0.0144382\ttotal: 470ms\tremaining: 93.6ms\n",
      "834:\tlearn: 0.0143622\ttotal: 471ms\tremaining: 93ms\n",
      "835:\tlearn: 0.0143120\ttotal: 471ms\tremaining: 92.4ms\n",
      "836:\tlearn: 0.0142591\ttotal: 472ms\tremaining: 91.9ms\n",
      "837:\tlearn: 0.0142170\ttotal: 472ms\tremaining: 91.3ms\n",
      "838:\tlearn: 0.0141371\ttotal: 473ms\tremaining: 90.7ms\n",
      "839:\tlearn: 0.0140718\ttotal: 473ms\tremaining: 90.1ms\n",
      "840:\tlearn: 0.0140121\ttotal: 474ms\tremaining: 89.5ms\n"
     ]
    },
    {
     "name": "stdout",
     "output_type": "stream",
     "text": [
      "841:\tlearn: 0.0139578\ttotal: 474ms\tremaining: 89ms\n",
      "842:\tlearn: 0.0139070\ttotal: 475ms\tremaining: 88.5ms\n",
      "843:\tlearn: 0.0138302\ttotal: 475ms\tremaining: 87.9ms\n",
      "844:\tlearn: 0.0137727\ttotal: 476ms\tremaining: 87.3ms\n",
      "845:\tlearn: 0.0136944\ttotal: 477ms\tremaining: 86.8ms\n",
      "846:\tlearn: 0.0136579\ttotal: 477ms\tremaining: 86.2ms\n",
      "847:\tlearn: 0.0136175\ttotal: 478ms\tremaining: 85.6ms\n",
      "848:\tlearn: 0.0135697\ttotal: 478ms\tremaining: 85ms\n",
      "849:\tlearn: 0.0134957\ttotal: 479ms\tremaining: 84.5ms\n",
      "850:\tlearn: 0.0134480\ttotal: 479ms\tremaining: 83.9ms\n",
      "851:\tlearn: 0.0133928\ttotal: 480ms\tremaining: 83.3ms\n",
      "852:\tlearn: 0.0133389\ttotal: 480ms\tremaining: 82.7ms\n",
      "853:\tlearn: 0.0132856\ttotal: 481ms\tremaining: 82.2ms\n",
      "854:\tlearn: 0.0132505\ttotal: 481ms\tremaining: 81.6ms\n",
      "855:\tlearn: 0.0132160\ttotal: 482ms\tremaining: 81.1ms\n",
      "856:\tlearn: 0.0131415\ttotal: 483ms\tremaining: 80.5ms\n",
      "857:\tlearn: 0.0130953\ttotal: 483ms\tremaining: 80ms\n",
      "858:\tlearn: 0.0130433\ttotal: 484ms\tremaining: 79.4ms\n",
      "859:\tlearn: 0.0129970\ttotal: 484ms\tremaining: 78.9ms\n",
      "860:\tlearn: 0.0129458\ttotal: 485ms\tremaining: 78.3ms\n",
      "861:\tlearn: 0.0129003\ttotal: 485ms\tremaining: 77.7ms\n",
      "862:\tlearn: 0.0128551\ttotal: 486ms\tremaining: 77.1ms\n",
      "863:\tlearn: 0.0128179\ttotal: 486ms\tremaining: 76.6ms\n",
      "864:\tlearn: 0.0127736\ttotal: 487ms\tremaining: 76ms\n",
      "865:\tlearn: 0.0127248\ttotal: 487ms\tremaining: 75.4ms\n",
      "866:\tlearn: 0.0126643\ttotal: 488ms\tremaining: 74.8ms\n",
      "867:\tlearn: 0.0125914\ttotal: 488ms\tremaining: 74.3ms\n",
      "868:\tlearn: 0.0125499\ttotal: 489ms\tremaining: 73.7ms\n",
      "869:\tlearn: 0.0125138\ttotal: 489ms\tremaining: 73.1ms\n",
      "870:\tlearn: 0.0124731\ttotal: 490ms\tremaining: 72.6ms\n",
      "871:\tlearn: 0.0124382\ttotal: 490ms\tremaining: 72ms\n",
      "872:\tlearn: 0.0123984\ttotal: 491ms\tremaining: 71.4ms\n",
      "873:\tlearn: 0.0123396\ttotal: 491ms\tremaining: 70.8ms\n",
      "874:\tlearn: 0.0122693\ttotal: 492ms\tremaining: 70.3ms\n",
      "875:\tlearn: 0.0122350\ttotal: 492ms\tremaining: 69.7ms\n",
      "876:\tlearn: 0.0121962\ttotal: 493ms\tremaining: 69.1ms\n",
      "877:\tlearn: 0.0121581\ttotal: 493ms\tremaining: 68.6ms\n",
      "878:\tlearn: 0.0121126\ttotal: 494ms\tremaining: 68ms\n",
      "879:\tlearn: 0.0120755\ttotal: 494ms\tremaining: 67.4ms\n",
      "880:\tlearn: 0.0120334\ttotal: 495ms\tremaining: 66.8ms\n",
      "881:\tlearn: 0.0119630\ttotal: 495ms\tremaining: 66.3ms\n",
      "882:\tlearn: 0.0119207\ttotal: 496ms\tremaining: 65.7ms\n",
      "883:\tlearn: 0.0118798\ttotal: 496ms\tremaining: 65.1ms\n",
      "884:\tlearn: 0.0118405\ttotal: 497ms\tremaining: 64.6ms\n",
      "885:\tlearn: 0.0118161\ttotal: 497ms\tremaining: 64ms\n",
      "886:\tlearn: 0.0117745\ttotal: 498ms\tremaining: 63.4ms\n",
      "887:\tlearn: 0.0117357\ttotal: 498ms\tremaining: 62.8ms\n",
      "888:\tlearn: 0.0116694\ttotal: 499ms\tremaining: 62.3ms\n",
      "889:\tlearn: 0.0116422\ttotal: 499ms\tremaining: 61.7ms\n",
      "890:\tlearn: 0.0116102\ttotal: 500ms\tremaining: 61.1ms\n",
      "891:\tlearn: 0.0115707\ttotal: 500ms\tremaining: 60.6ms\n",
      "892:\tlearn: 0.0115471\ttotal: 501ms\tremaining: 60ms\n",
      "893:\tlearn: 0.0115094\ttotal: 501ms\tremaining: 59.4ms\n",
      "894:\tlearn: 0.0114781\ttotal: 501ms\tremaining: 58.8ms\n",
      "895:\tlearn: 0.0114381\ttotal: 502ms\tremaining: 58.3ms\n",
      "896:\tlearn: 0.0114030\ttotal: 503ms\tremaining: 57.7ms\n",
      "897:\tlearn: 0.0113647\ttotal: 503ms\tremaining: 57.1ms\n",
      "898:\tlearn: 0.0113282\ttotal: 503ms\tremaining: 56.6ms\n",
      "899:\tlearn: 0.0112889\ttotal: 504ms\tremaining: 56ms\n",
      "900:\tlearn: 0.0112658\ttotal: 504ms\tremaining: 55.4ms\n",
      "901:\tlearn: 0.0112023\ttotal: 505ms\tremaining: 54.8ms\n",
      "902:\tlearn: 0.0111671\ttotal: 505ms\tremaining: 54.3ms\n",
      "903:\tlearn: 0.0111412\ttotal: 506ms\tremaining: 53.7ms\n",
      "904:\tlearn: 0.0111043\ttotal: 506ms\tremaining: 53.1ms\n",
      "905:\tlearn: 0.0110665\ttotal: 506ms\tremaining: 52.5ms\n",
      "906:\tlearn: 0.0110378\ttotal: 507ms\tremaining: 52ms\n",
      "907:\tlearn: 0.0109996\ttotal: 507ms\tremaining: 51.4ms\n",
      "908:\tlearn: 0.0109619\ttotal: 508ms\tremaining: 50.8ms\n",
      "909:\tlearn: 0.0109395\ttotal: 508ms\tremaining: 50.3ms\n",
      "910:\tlearn: 0.0109024\ttotal: 509ms\tremaining: 49.7ms\n",
      "911:\tlearn: 0.0108744\ttotal: 509ms\tremaining: 49.1ms\n",
      "912:\tlearn: 0.0108227\ttotal: 510ms\tremaining: 48.6ms\n",
      "913:\tlearn: 0.0107896\ttotal: 510ms\tremaining: 48ms\n",
      "914:\tlearn: 0.0107350\ttotal: 511ms\tremaining: 47.5ms\n",
      "915:\tlearn: 0.0107077\ttotal: 512ms\tremaining: 46.9ms\n",
      "916:\tlearn: 0.0106574\ttotal: 512ms\tremaining: 46.3ms\n",
      "917:\tlearn: 0.0106252\ttotal: 512ms\tremaining: 45.8ms\n",
      "918:\tlearn: 0.0105985\ttotal: 513ms\tremaining: 45.2ms\n",
      "919:\tlearn: 0.0105385\ttotal: 513ms\tremaining: 44.6ms\n",
      "920:\tlearn: 0.0104898\ttotal: 514ms\tremaining: 44.1ms\n",
      "921:\tlearn: 0.0104363\ttotal: 514ms\tremaining: 43.5ms\n",
      "922:\tlearn: 0.0104043\ttotal: 515ms\tremaining: 43ms\n",
      "923:\tlearn: 0.0103803\ttotal: 515ms\tremaining: 42.4ms\n",
      "924:\tlearn: 0.0103546\ttotal: 516ms\tremaining: 41.8ms\n",
      "925:\tlearn: 0.0103335\ttotal: 516ms\tremaining: 41.3ms\n",
      "926:\tlearn: 0.0103027\ttotal: 517ms\tremaining: 40.7ms\n",
      "927:\tlearn: 0.0102642\ttotal: 517ms\tremaining: 40.1ms\n",
      "928:\tlearn: 0.0102389\ttotal: 518ms\tremaining: 39.6ms\n",
      "929:\tlearn: 0.0101876\ttotal: 519ms\tremaining: 39ms\n",
      "930:\tlearn: 0.0101408\ttotal: 519ms\tremaining: 38.5ms\n",
      "931:\tlearn: 0.0100904\ttotal: 520ms\tremaining: 37.9ms\n",
      "932:\tlearn: 0.0100351\ttotal: 520ms\tremaining: 37.4ms\n",
      "933:\tlearn: 0.0099982\ttotal: 521ms\tremaining: 36.8ms\n",
      "934:\tlearn: 0.0099737\ttotal: 521ms\tremaining: 36.2ms\n",
      "935:\tlearn: 0.0099185\ttotal: 522ms\tremaining: 35.7ms\n",
      "936:\tlearn: 0.0098878\ttotal: 522ms\tremaining: 35.1ms\n",
      "937:\tlearn: 0.0098586\ttotal: 523ms\tremaining: 34.6ms\n",
      "938:\tlearn: 0.0098348\ttotal: 523ms\tremaining: 34ms\n",
      "939:\tlearn: 0.0098048\ttotal: 524ms\tremaining: 33.4ms\n",
      "940:\tlearn: 0.0097822\ttotal: 524ms\tremaining: 32.9ms\n",
      "941:\tlearn: 0.0097540\ttotal: 525ms\tremaining: 32.3ms\n",
      "942:\tlearn: 0.0097100\ttotal: 526ms\tremaining: 31.8ms\n",
      "943:\tlearn: 0.0096869\ttotal: 526ms\tremaining: 31.2ms\n",
      "944:\tlearn: 0.0096576\ttotal: 527ms\tremaining: 30.6ms\n",
      "945:\tlearn: 0.0096397\ttotal: 527ms\tremaining: 30.1ms\n",
      "946:\tlearn: 0.0096219\ttotal: 528ms\tremaining: 29.5ms\n",
      "947:\tlearn: 0.0095937\ttotal: 528ms\tremaining: 29ms\n",
      "948:\tlearn: 0.0095520\ttotal: 529ms\tremaining: 28.4ms\n",
      "949:\tlearn: 0.0095296\ttotal: 529ms\tremaining: 27.8ms\n",
      "950:\tlearn: 0.0094906\ttotal: 530ms\tremaining: 27.3ms\n",
      "951:\tlearn: 0.0094665\ttotal: 530ms\tremaining: 26.7ms\n",
      "952:\tlearn: 0.0094354\ttotal: 531ms\tremaining: 26.2ms\n",
      "953:\tlearn: 0.0094181\ttotal: 531ms\tremaining: 25.6ms\n",
      "954:\tlearn: 0.0093961\ttotal: 532ms\tremaining: 25ms\n",
      "955:\tlearn: 0.0093583\ttotal: 532ms\tremaining: 24.5ms\n",
      "956:\tlearn: 0.0093320\ttotal: 533ms\tremaining: 23.9ms\n",
      "957:\tlearn: 0.0092945\ttotal: 533ms\tremaining: 23.4ms\n",
      "958:\tlearn: 0.0092712\ttotal: 533ms\tremaining: 22.8ms\n",
      "959:\tlearn: 0.0092318\ttotal: 534ms\tremaining: 22.3ms\n",
      "960:\tlearn: 0.0092046\ttotal: 534ms\tremaining: 21.7ms\n",
      "961:\tlearn: 0.0091712\ttotal: 535ms\tremaining: 21.1ms\n",
      "962:\tlearn: 0.0091259\ttotal: 535ms\tremaining: 20.6ms\n",
      "963:\tlearn: 0.0091020\ttotal: 536ms\tremaining: 20ms\n",
      "964:\tlearn: 0.0090578\ttotal: 536ms\tremaining: 19.5ms\n",
      "965:\tlearn: 0.0090285\ttotal: 537ms\tremaining: 18.9ms\n",
      "966:\tlearn: 0.0089792\ttotal: 537ms\tremaining: 18.3ms\n",
      "967:\tlearn: 0.0089490\ttotal: 538ms\tremaining: 17.8ms\n",
      "968:\tlearn: 0.0089009\ttotal: 538ms\tremaining: 17.2ms\n",
      "969:\tlearn: 0.0088776\ttotal: 539ms\tremaining: 16.7ms\n",
      "970:\tlearn: 0.0088515\ttotal: 539ms\tremaining: 16.1ms\n",
      "971:\tlearn: 0.0088267\ttotal: 540ms\tremaining: 15.5ms\n",
      "972:\tlearn: 0.0088104\ttotal: 540ms\tremaining: 15ms\n",
      "973:\tlearn: 0.0087673\ttotal: 541ms\tremaining: 14.4ms\n",
      "974:\tlearn: 0.0087447\ttotal: 541ms\tremaining: 13.9ms\n",
      "975:\tlearn: 0.0086984\ttotal: 542ms\tremaining: 13.3ms\n",
      "976:\tlearn: 0.0086746\ttotal: 542ms\tremaining: 12.8ms\n",
      "977:\tlearn: 0.0086588\ttotal: 543ms\tremaining: 12.2ms\n",
      "978:\tlearn: 0.0086171\ttotal: 543ms\tremaining: 11.7ms\n",
      "979:\tlearn: 0.0085951\ttotal: 544ms\tremaining: 11.1ms\n",
      "980:\tlearn: 0.0085674\ttotal: 544ms\tremaining: 10.5ms\n",
      "981:\tlearn: 0.0085521\ttotal: 545ms\tremaining: 9.99ms\n",
      "982:\tlearn: 0.0085292\ttotal: 546ms\tremaining: 9.43ms\n",
      "983:\tlearn: 0.0084993\ttotal: 546ms\tremaining: 8.88ms\n",
      "984:\tlearn: 0.0084779\ttotal: 547ms\tremaining: 8.32ms\n",
      "985:\tlearn: 0.0084486\ttotal: 547ms\tremaining: 7.77ms\n",
      "986:\tlearn: 0.0084197\ttotal: 548ms\tremaining: 7.21ms\n",
      "987:\tlearn: 0.0084052\ttotal: 548ms\tremaining: 6.66ms\n",
      "988:\tlearn: 0.0083779\ttotal: 549ms\tremaining: 6.1ms\n",
      "989:\tlearn: 0.0083497\ttotal: 549ms\tremaining: 5.55ms\n",
      "990:\tlearn: 0.0083242\ttotal: 550ms\tremaining: 4.99ms\n",
      "991:\tlearn: 0.0083115\ttotal: 550ms\tremaining: 4.44ms\n",
      "992:\tlearn: 0.0082972\ttotal: 551ms\tremaining: 3.88ms\n",
      "993:\tlearn: 0.0082733\ttotal: 551ms\tremaining: 3.33ms\n",
      "994:\tlearn: 0.0082391\ttotal: 552ms\tremaining: 2.77ms\n"
     ]
    },
    {
     "name": "stdout",
     "output_type": "stream",
     "text": [
      "995:\tlearn: 0.0082258\ttotal: 553ms\tremaining: 2.22ms\n",
      "996:\tlearn: 0.0082093\ttotal: 553ms\tremaining: 1.66ms\n",
      "997:\tlearn: 0.0081950\ttotal: 553ms\tremaining: 1.11ms\n",
      "998:\tlearn: 0.0081809\ttotal: 555ms\tremaining: 555us\n",
      "999:\tlearn: 0.0081687\ttotal: 555ms\tremaining: 0us\n"
     ]
    },
    {
     "data": {
      "text/plain": [
       "<catboost.core.CatBoostRegressor at 0x7fe4f8138b50>"
      ]
     },
     "execution_count": 9,
     "metadata": {},
     "output_type": "execute_result"
    }
   ],
   "source": [
    "#Train the Model \n",
    "prior_model = ctb.CatBoostRegressor()\n",
    "prior_model.fit(X_train,Y_train)"
   ]
  },
  {
   "cell_type": "code",
   "execution_count": 10,
   "id": "af65dcda",
   "metadata": {
    "execution": {
     "iopub.execute_input": "2022-05-18T08:40:51.490252Z",
     "iopub.status.busy": "2022-05-18T08:40:51.489888Z",
     "iopub.status.idle": "2022-05-18T08:40:51.497173Z",
     "shell.execute_reply": "2022-05-18T08:40:51.497451Z"
    },
    "id": "af65dcda",
    "papermill": {
     "duration": 0.020227,
     "end_time": "2022-05-18T08:40:51.497563",
     "exception": false,
     "start_time": "2022-05-18T08:40:51.477336",
     "status": "completed"
    },
    "tags": []
   },
   "outputs": [
    {
     "data": {
      "application/scrapbook.scrap.json+json": {
       "data": 0.28830042838382175,
       "encoder": "json",
       "name": "Prior Model MSE",
       "version": 1
      }
     },
     "metadata": {
      "scrapbook": {
       "data": true,
       "display": false,
       "name": "Prior Model MSE"
      }
     },
     "output_type": "display_data"
    },
    {
     "data": {
      "application/scrapbook.scrap.json+json": {
       "data": 0.30711141268919023,
       "encoder": "json",
       "name": "ABC Pre-generator MSE",
       "version": 1
      }
     },
     "metadata": {
      "scrapbook": {
       "data": true,
       "display": false,
       "name": "ABC Pre-generator MSE"
      }
     },
     "output_type": "display_data"
    },
    {
     "data": {
      "application/scrapbook.scrap.json+json": {
       "data": 0.456818215925442,
       "encoder": "json",
       "name": "Prior Model MAE",
       "version": 1
      }
     },
     "metadata": {
      "scrapbook": {
       "data": true,
       "display": false,
       "name": "Prior Model MAE"
      }
     },
     "output_type": "display_data"
    },
    {
     "data": {
      "application/scrapbook.scrap.json+json": {
       "data": 0.47184316296700457,
       "encoder": "json",
       "name": "ABC Pre-generator MAE",
       "version": 1
      }
     },
     "metadata": {
      "scrapbook": {
       "data": true,
       "display": false,
       "name": "ABC Pre-generator MAE"
      }
     },
     "output_type": "display_data"
    }
   ],
   "source": [
    "y_pred = prior_model.predict(X_test)\n",
    "y_abc = y_pred + np.random.normal(0,variance, y_pred.shape)\n",
    "mse = mean_squared_error(y_pred,Y_test)\n",
    "sb.glue(\"Prior Model MSE\",mse)\n",
    "mse = mean_squared_error(y_abc,Y_test)\n",
    "sb.glue(\"ABC Pre-generator MSE\",mse)\n",
    "\n",
    "mae = mean_absolute_error(y_pred,Y_test)\n",
    "sb.glue(\"Prior Model MAE\",mae)\n",
    "mae = mean_absolute_error(y_abc,Y_test)\n",
    "sb.glue(\"ABC Pre-generator MAE\",mae)"
   ]
  },
  {
   "cell_type": "markdown",
   "id": "25609da2",
   "metadata": {
    "papermill": {
     "duration": 0.009517,
     "end_time": "2022-05-18T08:40:51.516888",
     "exception": false,
     "start_time": "2022-05-18T08:40:51.507371",
     "status": "completed"
    },
    "tags": []
   },
   "source": [
    "# ABC GAN Model"
   ]
  },
  {
   "cell_type": "code",
   "execution_count": 11,
   "id": "dfc3464d",
   "metadata": {
    "execution": {
     "iopub.execute_input": "2022-05-18T08:40:51.539119Z",
     "iopub.status.busy": "2022-05-18T08:40:51.538738Z",
     "iopub.status.idle": "2022-05-18T08:40:51.541332Z",
     "shell.execute_reply": "2022-05-18T08:40:51.541564Z"
    },
    "papermill": {
     "duration": 0.015232,
     "end_time": "2022-05-18T08:40:51.541675",
     "exception": false,
     "start_time": "2022-05-18T08:40:51.526443",
     "status": "completed"
    },
    "tags": []
   },
   "outputs": [],
   "source": [
    "gen = network.Generator(n_features+1).to(device)\n",
    "disc = network.Discriminator(n_features+1).to(device)\n",
    "\n",
    "criterion = torch.nn.BCELoss()\n",
    "gen_opt = torch.optim.Adam(gen.parameters(), lr=0.001, betas=(0.5, 0.999))\n",
    "disc_opt = torch.optim.Adam(disc.parameters(), lr=0.001, betas=(0.5, 0.999))"
   ]
  },
  {
   "cell_type": "code",
   "execution_count": 12,
   "id": "b75fdd85",
   "metadata": {
    "execution": {
     "iopub.execute_input": "2022-05-18T08:40:51.563518Z",
     "iopub.status.busy": "2022-05-18T08:40:51.563140Z",
     "iopub.status.idle": "2022-05-18T08:41:05.663998Z",
     "shell.execute_reply": "2022-05-18T08:41:05.664298Z"
    },
    "papermill": {
     "duration": 14.112983,
     "end_time": "2022-05-18T08:41:05.664434",
     "exception": false,
     "start_time": "2022-05-18T08:40:51.551451",
     "status": "completed"
    },
    "tags": []
   },
   "outputs": [
    {
     "data": {
      "image/png": "[encoded data removed]",
      "text/plain": [
       "<Figure size 432x288 with 1 Axes>"
      ]
     },
     "metadata": {
      "needs_background": "light"
     },
     "output_type": "display_data"
    },
    {
     "data": {
      "image/png": "[encoded data removed]",
      "text/plain": [
       "<Figure size 432x288 with 1 Axes>"
      ]
     },
     "metadata": {
      "needs_background": "light"
     },
     "output_type": "display_data"
    }
   ],
   "source": [
    "#Training the ABC_GAN \n",
    "ABC_train_test2.training_GAN(disc,gen,disc_opt,gen_opt,train_data,batch_size,n_epochs,criterion,prior_model,variance,0,device)"
   ]
  },
  {
   "cell_type": "code",
   "execution_count": 13,
   "id": "1fa7c368",
   "metadata": {
    "execution": {
     "iopub.execute_input": "2022-05-18T08:41:05.688449Z",
     "iopub.status.busy": "2022-05-18T08:41:05.687997Z",
     "iopub.status.idle": "2022-05-18T08:41:05.854540Z",
     "shell.execute_reply": "2022-05-18T08:41:05.854849Z"
    },
    "papermill": {
     "duration": 0.179669,
     "end_time": "2022-05-18T08:41:05.854972",
     "exception": false,
     "start_time": "2022-05-18T08:41:05.675303",
     "status": "completed"
    },
    "tags": []
   },
   "outputs": [
    {
     "data": {
      "application/scrapbook.scrap.json+json": {
       "data": 0.18068470668327716,
       "encoder": "json",
       "name": "ABC-GAN Model 1 MSE",
       "version": 1
      }
     },
     "metadata": {
      "scrapbook": {
       "data": true,
       "display": false,
       "name": "ABC-GAN Model 1 MSE"
      }
     },
     "output_type": "display_data"
    },
    {
     "data": {
      "application/scrapbook.scrap.json+json": {
       "data": 0.3428525623604655,
       "encoder": "json",
       "name": "ABC-GAN Model 1 MAE",
       "version": 1
      }
     },
     "metadata": {
      "scrapbook": {
       "data": true,
       "display": false,
       "name": "ABC-GAN Model 1 MAE"
      }
     },
     "output_type": "display_data"
    },
    {
     "data": {
      "application/scrapbook.scrap.json+json": {
       "data": 6.85705124720931,
       "encoder": "json",
       "name": "ABC-GAN Model 1 Manhattan Distance",
       "version": 1
      }
     },
     "metadata": {
      "scrapbook": {
       "data": true,
       "display": false,
       "name": "ABC-GAN Model 1 Manhattan Distance"
      }
     },
     "output_type": "display_data"
    },
    {
     "data": {
      "application/scrapbook.scrap.json+json": {
       "data": 1.9001270525989982,
       "encoder": "json",
       "name": "ABC-GAN Model 1 Euclidean distance",
       "version": 1
      }
     },
     "metadata": {
      "scrapbook": {
       "data": true,
       "display": false,
       "name": "ABC-GAN Model 1 Euclidean distance"
      }
     },
     "output_type": "display_data"
    },
    {
     "data": {
      "application/scrapbook.scrap.json+json": {
       "data": [
        [
         0.17832811839105567,
         0.16785212478282924,
         0.1686829187696246,
         0.1714950490349493,
         0.17212508970965784,
         0.19187540625505276,
         0.1976820419894687,
         0.18658534389120018,
         0.1627008342942446,
         0.18030019997262534,
         0.1924112903173605,
         0.17787920339061264,
         0.16717877339659332,
         0.16859023091569014,
         0.18325893529992118,
         0.18881361732813345,
         0.20384609892758782,
         0.15823880246595926,
         0.1708734234864,
         0.17409124615827404,
         0.17794126351878004,
         0.18826256210498526,
         0.18210529577729423,
         0.17926526326666056,
         0.16902066888884013,
         0.173638890846185,
         0.1846452035986435,
         0.17835746395769841,
         0.18012911918338353,
         0.16709971662051906,
         0.18804523727469732,
         0.17308198369286895,
         0.18000666128106046,
         0.19849665143042566,
         0.18589735226107543,
         0.16303345879003445,
         0.16876707790686632,
         0.17463486079995105,
         0.20052424432469626,
         0.19792707231443785,
         0.18491658171186,
         0.18020941204351598,
         0.16242817838950066,
         0.18273879571401902,
         0.1809059448428128,
         0.1862743123569321,
         0.18842978051065287,
         0.17167879108450107,
         0.16374132001749692,
         0.18046089411769956,
         0.18566365231933796,
         0.1752093502428347,
         0.18819677039712648,
         0.19182145554616895,
         0.18003866153758347,
         0.1861882241125549,
         0.18538503115025334,
         0.17390225374242313,
         0.17643367111682304,
         0.16765498329773867,
         0.1859763155292073,
         0.19042743601295847,
         0.17464259751648006,
         0.18847691631863128,
         0.18291808111549823,
         0.1746932362386237,
         0.1735710081390947,
         0.19478131222988462,
         0.1937795651506275,
         0.16866079653385205,
         0.21423253820886576,
         0.18561507928126617,
         0.1638790198133302,
         0.16605893825928325,
         0.16224295741456843,
         0.18148325542276464,
         0.18783166293006479,
         0.19065349065035608,
         0.18564363715056426,
         0.16283951444800832,
         0.19042880607410145,
         0.18131358880487597,
         0.17795227922891466,
         0.175510888305012,
         0.1932994190682546,
         0.19545806817479877,
         0.19628684974996344,
         0.18940610352996493,
         0.17331329274423438,
         0.17938055483065934,
         0.17973396981411036,
         0.19543644057143417,
         0.1814743337080225,
         0.1784149716794961,
         0.17035392821824077,
         0.1892624898162174,
         0.17081982323802936,
         0.20380392513261758,
         0.17631040676701307,
         0.17613630963964616
        ],
        [
         0.34998537935316565,
         0.32324123606085775,
         0.3271850425750017,
         0.32299520820379257,
         0.32851260267198085,
         0.35095547437667846,
         0.3655278991907835,
         0.35430268906056883,
         0.3345725145190954,
         0.33674677461385727,
         0.3621089641004801,
         0.33342690467834474,
         0.3306662146002054,
         0.32727945037186146,
         0.3514399353414774,
         0.35151714757084845,
         0.36185085251927374,
         0.3246635179966688,
         0.34067786298692226,
         0.33840311542153356,
         0.33781438916921613,
         0.3444997321814299,
         0.3432858236134052,
         0.3477594155818224,
         0.328648167848587,
         0.33412846401333807,
         0.33604371175169945,
         0.34317108131945134,
         0.3490286197513342,
         0.3214991487562656,
         0.35031825825572016,
         0.3346439070999622,
         0.3416804734617472,
         0.36411811150610446,
         0.34818308539688586,
         0.3257029838860035,
         0.3412056524306536,
         0.34260330013930795,
         0.35774234868586063,
         0.35639492608606815,
         0.34463120363652705,
         0.35154746323823927,
         0.3227867804467678,
         0.3443174246698618,
         0.33461577966809275,
         0.3526353858411312,
         0.35262990854680537,
         0.3314385287463665,
         0.3227116119116545,
         0.3417257733643055,
         0.3382092662155628,
         0.34048922583460806,
         0.34033548794686797,
         0.3510035127401352,
         0.350919833406806,
         0.34632442630827426,
         0.35262562297284605,
         0.3275772012770176,
         0.3370541322976351,
         0.32738778442144395,
         0.34307374693453313,
         0.3497915808111429,
         0.34162386395037175,
         0.34829308874905107,
         0.3520993895828724,
         0.3407860230654478,
         0.3315615579485893,
         0.35901633054018023,
         0.35084750652313235,
         0.32863891310989857,
         0.3816422138363123,
         0.3494037341326475,
         0.3281772695481777,
         0.3328244246542454,
         0.3285596828907728,
         0.35106102339923384,
         0.34379673190414906,
         0.3522514168173075,
         0.34475827105343343,
         0.32394285686314106,
         0.3546733532100916,
         0.34484823048114777,
         0.34325416535139086,
         0.33428120985627174,
         0.36170172728598116,
         0.35796523876488207,
         0.3437232218682766,
         0.3605171386152506,
         0.3461191691458225,
         0.3402760747820139,
         0.34539252929389475,
         0.3574226349592209,
         0.3499948468059301,
         0.34785679429769517,
         0.33085547387599945,
         0.34980726428329945,
         0.334946882724762,
         0.3583163131028414,
         0.3370950296521187,
         0.3285625707358122
        ],
        [
         6.9997075870633125,
         6.4648247212171555,
         6.543700851500034,
         6.459904164075851,
         6.570252053439617,
         7.019109487533569,
         7.31055798381567,
         7.086053781211376,
         6.691450290381908,
         6.734935492277145,
         7.242179282009602,
         6.6685380935668945,
         6.613324292004108,
         6.545589007437229,
         7.028798706829548,
         7.030342951416969,
         7.237017050385475,
         6.493270359933376,
         6.813557259738445,
         6.768062308430672,
         6.756287783384323,
         6.889994643628597,
         6.8657164722681046,
         6.955188311636448,
         6.572963356971741,
         6.682569280266762,
         6.720874235033989,
         6.863421626389027,
         6.980572395026684,
         6.429982975125313,
         7.006365165114403,
         6.692878141999245,
         6.833609469234943,
         7.282362230122089,
         6.963661707937717,
         6.51405967772007,
         6.824113048613071,
         6.8520660027861595,
         7.154846973717213,
         7.127898521721363,
         6.892624072730541,
         7.030949264764786,
         6.455735608935356,
         6.886348493397236,
         6.6923155933618546,
         7.052707716822624,
         7.052598170936108,
         6.62877057492733,
         6.4542322382330894,
         6.83451546728611,
         6.764185324311256,
         6.809784516692162,
         6.806709758937359,
         7.020070254802704,
         7.01839666813612,
         6.926488526165485,
         7.052512459456921,
         6.551544025540352,
         6.741082645952702,
         6.547755688428879,
         6.861474938690662,
         6.995831616222858,
         6.832477279007435,
         6.965861774981022,
         7.041987791657448,
         6.815720461308956,
         6.6312311589717865,
         7.180326610803604,
         7.0169501304626465,
         6.572778262197971,
         7.632844276726246,
         6.98807468265295,
         6.563545390963554,
         6.6564884930849075,
         6.571193657815456,
         7.021220467984676,
         6.875934638082981,
         7.0450283363461494,
         6.895165421068668,
         6.478857137262821,
         7.093467064201832,
         6.896964609622955,
         6.865083307027817,
         6.685624197125435,
         7.234034545719624,
         7.159304775297642,
         6.874464437365532,
         7.210342772305012,
         6.9223833829164505,
         6.805521495640278,
         6.907850585877895,
         7.148452699184418,
         6.999896936118603,
         6.957135885953903,
         6.617109477519989,
         6.996145285665989,
         6.698937654495239,
         7.1663262620568275,
         6.741900593042374,
         6.571251414716244
        ],
        [
         1.8885344497310907,
         1.8322233749345587,
         1.8367521268240012,
         1.8519991848537585,
         1.8553980150342828,
         1.9589558762516972,
         1.9883764331205935,
         1.9317626349590686,
         1.8038893219609933,
         1.8989481297424917,
         1.9616895285307536,
         1.8861558970064622,
         1.8285446311019773,
         1.83624742840223,
         1.9144656450295534,
         1.9432633240409465,
         2.019138920072553,
         1.7789817450775556,
         1.848639626787222,
         1.8659648772593447,
         1.8864848979982853,
         1.9404255311914718,
         1.9084302228653487,
         1.8934902337570192,
         1.8385900515821363,
         1.8635390569890666,
         1.9216930223042572,
         1.8886898313788762,
         1.8980469919545382,
         1.828112231896713,
         1.93930522236546,
         1.8605482186327178,
         1.8974017038100313,
         1.9924690784573078,
         1.9281978750173718,
         1.8057323101170586,
         1.837210265085988,
         1.8688759231150207,
         2.0026195061703373,
         1.9896083650529712,
         1.9231046862397274,
         1.8984699736551853,
         1.8023771990873645,
         1.9117468227462497,
         1.9021353518759532,
         1.9301518715216794,
         1.9412871014389026,
         1.8529910473852866,
         1.8096481426923683,
         1.8997941684177237,
         1.9269854816232423,
         1.8719473830363647,
         1.9400864434201197,
         1.9586804514579144,
         1.8975703493551088,
         1.9297058019944642,
         1.9255390473851905,
         1.8649517620701246,
         1.878476356608318,
         1.8311470902018694,
         1.92860735002855,
         1.9515503376185739,
         1.868917320356789,
         1.9415298932472365,
         1.912684402171452,
         1.8691882528981596,
         1.8631747536884173,
         1.9737340865977089,
         1.9686521538891908,
         1.8366316807343384,
         2.06993979723501,
         1.926733397651404,
         1.8104089030566006,
         1.8224101528431147,
         1.8013492577208254,
         1.9051680000607014,
         1.9382036163936172,
         1.9527083276841735,
         1.9268816110522424,
         1.8046579423702893,
         1.9515573579790138,
         1.904277231943269,
         1.886543289876565,
         1.8735575160907765,
         1.9662116827455511,
         1.977159923601522,
         1.9813472676437285,
         1.9463098598628377,
         1.861791034161645,
         1.8940990197487528,
         1.8959639754705804,
         1.9770505333523176,
         1.9051211704667106,
         1.8889942915715552,
         1.8458273387196364,
         1.9455718430128321,
         1.8483496597669467,
         2.018930039068306,
         1.8778200487108079,
         1.8768926961318069
        ]
       ],
       "encoder": "json",
       "name": "ABC_GAN_1 Metrics",
       "version": 1
      }
     },
     "metadata": {
      "scrapbook": {
       "data": true,
       "display": false,
       "name": "ABC_GAN_1 Metrics"
      }
     },
     "output_type": "display_data"
    },
    {
     "name": "stdout",
     "output_type": "stream",
     "text": [
      "MSE\n",
      "0.18068470668327716\n"
     ]
    }
   ],
   "source": [
    "ABC_GAN1_metrics=ABC_train_test2.test_generator(gen,test_data,prior_model,variance,0,\"1\",device)\n",
    "sb.glue(\"ABC_GAN_1 Metrics\",ABC_GAN1_metrics)\n",
    "\n",
    "print(\"MSE\")\n",
    "print(mean(ABC_GAN1_metrics[0]))"
   ]
  },
  {
   "cell_type": "code",
   "execution_count": 14,
   "id": "eb22ce5c",
   "metadata": {
    "execution": {
     "iopub.execute_input": "2022-05-18T08:41:05.881661Z",
     "iopub.status.busy": "2022-05-18T08:41:05.881305Z",
     "iopub.status.idle": "2022-05-18T08:41:06.168013Z",
     "shell.execute_reply": "2022-05-18T08:41:06.168301Z"
    },
    "papermill": {
     "duration": 0.301136,
     "end_time": "2022-05-18T08:41:06.168424",
     "exception": false,
     "start_time": "2022-05-18T08:41:05.867288",
     "status": "completed"
    },
    "tags": []
   },
   "outputs": [
    {
     "data": {
      "image/png": "[encoded data removed]",
      "text/plain": [
       "<Figure size 432x288 with 1 Axes>"
      ]
     },
     "metadata": {
      "needs_background": "light"
     },
     "output_type": "display_data"
    },
    {
     "data": {
      "image/png": "[encoded data removed]",
      "text/plain": [
       "<Figure size 432x288 with 1 Axes>"
      ]
     },
     "metadata": {
      "needs_background": "light"
     },
     "output_type": "display_data"
    },
    {
     "data": {
      "image/png": "[encoded data removed]",
      "text/plain": [
       "<Figure size 432x288 with 1 Axes>"
      ]
     },
     "metadata": {
      "needs_background": "light"
     },
     "output_type": "display_data"
    },
    {
     "data": {
      "image/png": "[encoded data removed]",
      "text/plain": [
       "<Figure size 432x288 with 1 Axes>"
      ]
     },
     "metadata": {
      "needs_background": "light"
     },
     "output_type": "display_data"
    }
   ],
   "source": [
    "sanityChecks.discProbVsError(train_data,disc,device)\n",
    "sanityChecks.discProbVsError(test_data,disc,device)"
   ]
  },
  {
   "cell_type": "markdown",
   "id": "130f3a4d",
   "metadata": {
    "id": "130f3a4d",
    "papermill": {
     "duration": 0.014219,
     "end_time": "2022-05-18T08:41:06.197196",
     "exception": false,
     "start_time": "2022-05-18T08:41:06.182977",
     "status": "completed"
    },
    "tags": []
   },
   "source": [
    "# ABC - GAN Model with skip connection"
   ]
  },
  {
   "cell_type": "code",
   "execution_count": 15,
   "id": "4e43dad1",
   "metadata": {
    "execution": {
     "iopub.execute_input": "2022-05-18T08:41:06.249323Z",
     "iopub.status.busy": "2022-05-18T08:41:06.245984Z",
     "iopub.status.idle": "2022-05-18T08:41:06.254005Z",
     "shell.execute_reply": "2022-05-18T08:41:06.254653Z"
    },
    "id": "4e43dad1",
    "papermill": {
     "duration": 0.043692,
     "end_time": "2022-05-18T08:41:06.255216",
     "exception": false,
     "start_time": "2022-05-18T08:41:06.211524",
     "status": "completed"
    },
    "tags": []
   },
   "outputs": [],
   "source": [
    "#Generator\n",
    "gen3 = network.GeneratorWithSkipConnection(n_features+1).to(device)\n",
    "constraints=network.weightConstraint()\n",
    "#Discriminator \n",
    "disc3 = network.Discriminator(n_features+1).to(device)\n",
    "\n",
    "criterion = torch.nn.BCELoss()\n",
    "gen_opt = torch.optim.Adam(gen3.parameters(), lr=0.001, betas=(0.5, 0.999))\n",
    "disc_opt = torch.optim.Adam(disc3.parameters(), lr=0.001, betas=(0.5, 0.999))\n"
   ]
  },
  {
   "cell_type": "code",
   "execution_count": 16,
   "id": "26acbc37",
   "metadata": {
    "execution": {
     "iopub.execute_input": "2022-05-18T08:41:06.292415Z",
     "iopub.status.busy": "2022-05-18T08:41:06.292018Z",
     "iopub.status.idle": "2022-05-18T08:41:43.678751Z",
     "shell.execute_reply": "2022-05-18T08:41:43.679078Z"
    },
    "id": "26acbc37",
    "papermill": {
     "duration": 37.405125,
     "end_time": "2022-05-18T08:41:43.679204",
     "exception": false,
     "start_time": "2022-05-18T08:41:06.274079",
     "status": "completed"
    },
    "tags": []
   },
   "outputs": [
    {
     "data": {
      "image/png": "[encoded data removed]",
      "text/plain": [
       "<Figure size 432x288 with 1 Axes>"
      ]
     },
     "metadata": {
      "needs_background": "light"
     },
     "output_type": "display_data"
    },
    {
     "data": {
      "image/png": "[encoded data removed]",
      "text/plain": [
       "<Figure size 432x288 with 1 Axes>"
      ]
     },
     "metadata": {
      "needs_background": "light"
     },
     "output_type": "display_data"
    }
   ],
   "source": [
    "ABC_train_test2.training_GAN_skip_connection(disc3,gen3,disc_opt,gen_opt,train_data,batch_size,n_epochs,criterion,prior_model,variance,0,device)"
   ]
  },
  {
   "cell_type": "code",
   "execution_count": 17,
   "id": "c5e0717b",
   "metadata": {
    "execution": {
     "iopub.execute_input": "2022-05-18T08:41:43.712179Z",
     "iopub.status.busy": "2022-05-18T08:41:43.711716Z",
     "iopub.status.idle": "2022-05-18T08:41:43.992247Z",
     "shell.execute_reply": "2022-05-18T08:41:43.992580Z"
    },
    "id": "c5e0717b",
    "papermill": {
     "duration": 0.298328,
     "end_time": "2022-05-18T08:41:43.992706",
     "exception": false,
     "start_time": "2022-05-18T08:41:43.694378",
     "status": "completed"
    },
    "tags": []
   },
   "outputs": [
    {
     "data": {
      "application/scrapbook.scrap.json+json": {
       "data": 0.16974998630566998,
       "encoder": "json",
       "name": "ABC-GAN Model 3 MSE",
       "version": 1
      }
     },
     "metadata": {
      "scrapbook": {
       "data": true,
       "display": false,
       "name": "ABC-GAN Model 3 MSE"
      }
     },
     "output_type": "display_data"
    },
    {
     "data": {
      "application/scrapbook.scrap.json+json": {
       "data": 0.3212773571489379,
       "encoder": "json",
       "name": "ABC-GAN Model 3 MAE",
       "version": 1
      }
     },
     "metadata": {
      "scrapbook": {
       "data": true,
       "display": false,
       "name": "ABC-GAN Model 3 MAE"
      }
     },
     "output_type": "display_data"
    },
    {
     "data": {
      "application/scrapbook.scrap.json+json": {
       "data": 6.425547142978758,
       "encoder": "json",
       "name": "ABC-GAN Model 3 Manhattan Distance",
       "version": 1
      }
     },
     "metadata": {
      "scrapbook": {
       "data": true,
       "display": false,
       "name": "ABC-GAN Model 3 Manhattan Distance"
      }
     },
     "output_type": "display_data"
    },
    {
     "data": {
      "application/scrapbook.scrap.json+json": {
       "data": 1.8415397601522254,
       "encoder": "json",
       "name": "ABC-GAN Model 3 Euclidean distance",
       "version": 1
      }
     },
     "metadata": {
      "scrapbook": {
       "data": true,
       "display": false,
       "name": "ABC-GAN Model 3 Euclidean distance"
      }
     },
     "output_type": "display_data"
    },
    {
     "data": {
      "application/scrapbook.scrap.json+json": {
       "data": [
        [
         0.16252799242356836,
         0.15367800022319425,
         0.16558446855978107,
         0.17528756108450189,
         0.16075716091119369,
         0.16360923773153285,
         0.1587934605580005,
         0.16583921706029742,
         0.17518924496471291,
         0.1801710912188888,
         0.1761171520453323,
         0.18594448106675796,
         0.17380529752248372,
         0.18855879631072187,
         0.17397647624743817,
         0.17023972255671263,
         0.17365691980585612,
         0.16635518571954327,
         0.17509870678507472,
         0.18658481169055469,
         0.16251462585533188,
         0.15703637732194034,
         0.17360136229066345,
         0.16572086795208993,
         0.19183506915347065,
         0.17538092653187468,
         0.17403379746625403,
         0.1686664659009687,
         0.1821107689356785,
         0.16930126911963717,
         0.15486178318569416,
         0.16569391716547818,
         0.17921596525906933,
         0.18570677105857028,
         0.19785685460426888,
         0.15865614874475134,
         0.17504020396468936,
         0.1715472464138629,
         0.18324278021602178,
         0.14364616840254735,
         0.15883248251543727,
         0.16933834435383613,
         0.16942561919942167,
         0.16237578348917295,
         0.16251206598936893,
         0.1732746585716536,
         0.19500841800739915,
         0.17056267894950888,
         0.1677238752129932,
         0.16847993225820157,
         0.17618984206993193,
         0.17265474065833836,
         0.1487995029546894,
         0.16810117857526305,
         0.1928581658751521,
         0.17290879303682302,
         0.15829196320947128,
         0.16175123037227418,
         0.16846437639304115,
         0.1581537204157418,
         0.1504434568313287,
         0.19355835684276493,
         0.16127836059695225,
         0.1617075888307305,
         0.1704881618601271,
         0.16454895437520373,
         0.1822515345306947,
         0.14829799407046984,
         0.19568501567331412,
         0.17326594807592904,
         0.17232561033339047,
         0.18655987639162847,
         0.1492098621729588,
         0.17463125592757014,
         0.16551902250709336,
         0.167766689924488,
         0.1756860310784496,
         0.15254488603217312,
         0.18655777809158863,
         0.16730041979050797,
         0.16458599963805834,
         0.18675007643132738,
         0.1663700924144937,
         0.16120095481208335,
         0.18232113121228483,
         0.1682162262912959,
         0.17929012541134598,
         0.15311104379174445,
         0.17077982876492617,
         0.15933160001183402,
         0.16803797666458659,
         0.16178237110713928,
         0.1687458324087411,
         0.17045851602631917,
         0.16880239679117257,
         0.16532766447946493,
         0.15650554488547982,
         0.15496180449784475,
         0.16413696332275887,
         0.16150395153000235
        ],
        [
         0.32212804928421973,
         0.30650332011282444,
         0.3132165653631091,
         0.33222887236624954,
         0.3016360726207495,
         0.3149610185995698,
         0.30898682102561,
         0.3095023203641176,
         0.33261514380574225,
         0.30924616269767286,
         0.32306825313717125,
         0.33042925111949445,
         0.3488675432279706,
         0.3363145854324102,
         0.3219603422097862,
         0.31574044451117517,
         0.3319494999013841,
         0.32628032229840753,
         0.33926941864192484,
         0.3275921531021595,
         0.31519024856388567,
         0.31614319048821926,
         0.32412588614970445,
         0.3029342361725867,
         0.33505128547549246,
         0.31049106158316137,
         0.3256056156009436,
         0.32797714974731207,
         0.34519145302474497,
         0.3275099888443947,
         0.29974519796669485,
         0.3185344558209181,
         0.3365319941192865,
         0.32867552768439057,
         0.35087876543402674,
         0.30195323936641216,
         0.3388229224830866,
         0.3300836835987866,
         0.32455139569938185,
         0.30239393627271055,
         0.3167720830067992,
         0.33110353350639343,
         0.33315719459205867,
         0.3222820347175002,
         0.3191596794873476,
         0.3289845231920481,
         0.3381892188452184,
         0.3142724111676216,
         0.31946395244449377,
         0.30494729820638894,
         0.3141843255609274,
         0.31664320901036264,
         0.3008917858824134,
         0.3214722521603107,
         0.344083895534277,
         0.3443199459463358,
         0.3106896017678082,
         0.32057987339794636,
         0.3272503105923533,
         0.31042100843042136,
         0.2964924143627286,
         0.33219432849437,
         0.31434916481375696,
         0.30690333563834427,
         0.3359196461737156,
         0.315870975330472,
         0.31879043485969305,
         0.317285037226975,
         0.3395463671535254,
         0.3239471978507936,
         0.322556671500206,
         0.3303002867847681,
         0.2967403266578913,
         0.31592399924993514,
         0.3316266074776649,
         0.3256304679438472,
         0.3160389382392168,
         0.31084678107872604,
         0.33650803873315455,
         0.31695008669048547,
         0.3231593379750848,
         0.3406007396057248,
         0.3091102786362171,
         0.32010543551295995,
         0.3373575504869223,
         0.3301428731530905,
         0.3307198263704777,
         0.29555171662941576,
         0.32287658043205736,
         0.31805337676778433,
         0.3269207585602999,
         0.2996412263251841,
         0.3228044964373112,
         0.31547454223036764,
         0.3386908723041415,
         0.3201558988541365,
         0.31000786647200584,
         0.2886049604043365,
         0.307215454056859,
         0.312365286052227
        ],
        [
         6.442560985684395,
         6.130066402256489,
         6.264331307262182,
         6.644577447324991,
         6.0327214524149895,
         6.299220371991396,
         6.179736420512199,
         6.1900464072823524,
         6.652302876114845,
         6.184923253953457,
         6.461365062743425,
         6.608585022389889,
         6.977350864559412,
         6.726291708648205,
         6.4392068441957235,
         6.314808890223503,
         6.638989998027682,
         6.525606445968151,
         6.785388372838497,
         6.55184306204319,
         6.303804971277714,
         6.322863809764385,
         6.482517722994089,
         6.058684723451734,
         6.7010257095098495,
         6.209821231663227,
         6.512112312018871,
         6.559542994946241,
         6.9038290604949,
         6.550199776887894,
         5.994903959333897,
         6.370689116418362,
         6.730639882385731,
         6.573510553687811,
         7.017575308680534,
         6.039064787328243,
         6.776458449661732,
         6.601673671975732,
         6.491027913987637,
         6.047878725454211,
         6.335441660135984,
         6.622070670127869,
         6.663143891841173,
         6.445640694350004,
         6.383193589746952,
         6.5796904638409615,
         6.763784376904368,
         6.285448223352432,
         6.389279048889875,
         6.098945964127779,
         6.283686511218548,
         6.3328641802072525,
         6.017835717648268,
         6.429445043206215,
         6.881677910685539,
         6.886398918926716,
         6.213792035356164,
         6.411597467958927,
         6.545006211847067,
         6.208420168608427,
         5.929848287254572,
         6.6438865698874,
         6.286983296275139,
         6.138066712766886,
         6.718392923474312,
         6.31741950660944,
         6.375808697193861,
         6.345700744539499,
         6.790927343070507,
         6.478943957015872,
         6.45113343000412,
         6.606005735695362,
         5.9348065331578255,
         6.318479984998703,
         6.632532149553299,
         6.512609358876944,
         6.320778764784336,
         6.216935621574521,
         6.730160774663091,
         6.3390017338097095,
         6.463186759501696,
         6.812014792114496,
         6.182205572724342,
         6.402108710259199,
         6.747151009738445,
         6.6028574630618095,
         6.6143965274095535,
         5.911034332588315,
         6.457531608641148,
         6.361067535355687,
         6.5384151712059975,
         5.992824526503682,
         6.4560899287462234,
         6.309490844607353,
         6.77381744608283,
         6.403117977082729,
         6.200157329440117,
         5.772099208086729,
         6.14430908113718,
         6.24730572104454
        ],
        [
         1.802930905074115,
         1.753157153384683,
         1.8198047618345272,
         1.8723651411223288,
         1.793082044476458,
         1.8089181171713264,
         1.7820968579625547,
         1.8212040910359135,
         1.8718399769462821,
         1.8982681118266134,
         1.876790622554004,
         1.9284422784556345,
         1.864431803646804,
         1.9419515766914572,
         1.8653497058055262,
         1.845208511560212,
         1.863635800288544,
         1.8240350090913457,
         1.8713562289691117,
         1.9317598799568994,
         1.8028567655547785,
         1.7722097918809743,
         1.8633376628548217,
         1.8205541351582486,
         1.9587499541976798,
         1.8728637245238888,
         1.8656569752569951,
         1.8366625487604886,
         1.9084589014997337,
         1.8401155894108239,
         1.7598964923295584,
         1.8204060929665016,
         1.8932298606300786,
         1.9272092312905222,
         1.9892554114757053,
         1.7813261843062396,
         1.871043580276469,
         1.8522810068338058,
         1.9143812588720241,
         1.6949700198088895,
         1.782315811047174,
         1.8403170615621436,
         1.8407912385679244,
         1.8020864767772546,
         1.80284256655632,
         1.8615835118073731,
         1.9748843915905516,
         1.8469579256144892,
         1.831523274288335,
         1.835646655858374,
         1.877177892848368,
         1.858250471052481,
         1.7251058109848765,
         1.833582169281012,
         1.9639662210697622,
         1.8596171274583542,
         1.7792805467911532,
         1.7986174155293513,
         1.8355619106586472,
         1.7785034181341446,
         1.7346092172666945,
         1.9675281794310593,
         1.7959864175263256,
         1.7983747597802326,
         1.8465544230275321,
         1.8141055888520037,
         1.9091963467946125,
         1.7221962377758804,
         1.9783074365391955,
         1.8615367204324982,
         1.8564784422846956,
         1.931630794906876,
         1.7274829213219958,
         1.8688566340282506,
         1.8194450940168179,
         1.8317570249598498,
         1.874492096960932,
         1.7466819174204165,
         1.931619932034191,
         1.8292097735935482,
         1.814309784122096,
         1.9326152044901612,
         1.8241167309933521,
         1.7955553726470446,
         1.9095608459134517,
         1.834209509795955,
         1.893621532468122,
         1.749920248421307,
         1.8481332677322064,
         1.7851140020280722,
         1.8332374459659424,
         1.7987905442665597,
         1.8370946214538928,
         1.846393869283145,
         1.8374024969569,
         1.8183930514576045,
         1.7692119425635802,
         1.760464736925138,
         1.8118331232360163,
         1.7972420623277343
        ]
       ],
       "encoder": "json",
       "name": "ABC_GAN_3 Metrics",
       "version": 1
      }
     },
     "metadata": {
      "scrapbook": {
       "data": true,
       "display": false,
       "name": "ABC_GAN_3 Metrics"
      }
     },
     "output_type": "display_data"
    },
    {
     "name": "stdout",
     "output_type": "stream",
     "text": [
      "MSE\n",
      "0.16974998630566998\n"
     ]
    }
   ],
   "source": [
    "ABC_GAN3_metrics=ABC_train_test2.test_generator(gen3,test_data,prior_model,variance,0,\"3\",device)\n",
    "sb.glue(\"ABC_GAN_3 Metrics\",ABC_GAN3_metrics)\n",
    "\n",
    "print(\"MSE\")\n",
    "print(mean(ABC_GAN3_metrics[0]))"
   ]
  },
  {
   "cell_type": "code",
   "execution_count": 18,
   "id": "c8e46b48",
   "metadata": {
    "execution": {
     "iopub.execute_input": "2022-05-18T08:41:44.051947Z",
     "iopub.status.busy": "2022-05-18T08:41:44.051576Z",
     "iopub.status.idle": "2022-05-18T08:41:44.336914Z",
     "shell.execute_reply": "2022-05-18T08:41:44.337221Z"
    },
    "id": "c8e46b48",
    "papermill": {
     "duration": 0.304652,
     "end_time": "2022-05-18T08:41:44.337345",
     "exception": false,
     "start_time": "2022-05-18T08:41:44.032693",
     "status": "completed"
    },
    "tags": []
   },
   "outputs": [
    {
     "data": {
      "image/png": "[encoded data removed]",
      "text/plain": [
       "<Figure size 432x288 with 1 Axes>"
      ]
     },
     "metadata": {
      "needs_background": "light"
     },
     "output_type": "display_data"
    },
    {
     "data": {
      "image/png": "[encoded data removed]",
      "text/plain": [
       "<Figure size 432x288 with 1 Axes>"
      ]
     },
     "metadata": {
      "needs_background": "light"
     },
     "output_type": "display_data"
    },
    {
     "data": {
      "image/png": "[encoded data removed]",
      "text/plain": [
       "<Figure size 432x288 with 1 Axes>"
      ]
     },
     "metadata": {
      "needs_background": "light"
     },
     "output_type": "display_data"
    },
    {
     "data": {
      "image/png": "[encoded data removed]",
      "text/plain": [
       "<Figure size 432x288 with 1 Axes>"
      ]
     },
     "metadata": {
      "needs_background": "light"
     },
     "output_type": "display_data"
    }
   ],
   "source": [
    "sanityChecks.discProbVsError(train_data,disc3,device)\n",
    "sanityChecks.discProbVsError(test_data,disc3,device)"
   ]
  },
  {
   "cell_type": "markdown",
   "id": "a5bd74c3",
   "metadata": {
    "id": "a5bd74c3",
    "papermill": {
     "duration": 0.01899,
     "end_time": "2022-05-18T08:41:44.375661",
     "exception": false,
     "start_time": "2022-05-18T08:41:44.356671",
     "status": "completed"
    },
    "tags": []
   },
   "source": [
    "## Skip Connection Model Analysis - ABC-GAN "
   ]
  },
  {
   "cell_type": "markdown",
   "id": "5744a8bf",
   "metadata": {
    "id": "5744a8bf",
    "papermill": {
     "duration": 0.019505,
     "end_time": "2022-05-18T08:41:44.414420",
     "exception": false,
     "start_time": "2022-05-18T08:41:44.394915",
     "status": "completed"
    },
    "tags": []
   },
   "source": [
    "### Weight Analysis \n",
    "\n",
    "Study the weights of the skip connection layer\n",
    "\n",
    "Equation of the skip connection is \n",
    "\n",
    "$output = y_{gan} * w + y_{abc} * (1-w)$"
   ]
  },
  {
   "cell_type": "code",
   "execution_count": 19,
   "id": "52c31dea",
   "metadata": {
    "execution": {
     "iopub.execute_input": "2022-05-18T08:41:44.455931Z",
     "iopub.status.busy": "2022-05-18T08:41:44.455533Z",
     "iopub.status.idle": "2022-05-18T08:41:44.458967Z",
     "shell.execute_reply": "2022-05-18T08:41:44.459210Z"
    },
    "id": "52c31dea",
    "papermill": {
     "duration": 0.025345,
     "end_time": "2022-05-18T08:41:44.459328",
     "exception": false,
     "start_time": "2022-05-18T08:41:44.433983",
     "status": "completed"
    },
    "tags": []
   },
   "outputs": [
    {
     "name": "stdout",
     "output_type": "stream",
     "text": [
      "Weight of the node at skip connection\n",
      "Parameter containing:\n",
      "tensor([[0.7990]], requires_grad=True)\n"
     ]
    },
    {
     "data": {
      "application/scrapbook.scrap.json+json": {
       "data": 0.7989718317985535,
       "encoder": "json",
       "name": "Skip Connection Weight",
       "version": 1
      }
     },
     "metadata": {
      "scrapbook": {
       "data": true,
       "display": false,
       "name": "Skip Connection Weight"
      }
     },
     "output_type": "display_data"
    }
   ],
   "source": [
    "print(\"Weight of the node at skip connection\")\n",
    "for name,param in gen3.named_parameters():\n",
    "    if(name == \"skipNode.weight\"):\n",
    "        print(param)\n",
    "        sb.glue(\"Skip Connection Weight\",param.item())"
   ]
  }
 ],
 "metadata": {
  "colab": {
   "collapsed_sections": [],
   "name": "ABC_GAN_Model-Catboost_Pre-gen.ipynb",
   "provenance": []
  },
  "interpreter": {
   "hash": "31f2aee4e71d21fbe5cf8b01ff0e069b9275f58929596ceb00d14d90e3e16cd6"
  },
  "kernelspec": {
   "display_name": "Python 3 (ipykernel)",
   "language": "python",
   "name": "python3"
  },
  "language_info": {
   "codemirror_mode": {
    "name": "ipython",
    "version": 3
   },
   "file_extension": ".py",
   "mimetype": "text/x-python",
   "name": "python",
   "nbconvert_exporter": "python",
   "pygments_lexer": "ipython3",
   "version": "3.8.11"
  },
  "papermill": {
   "default_parameters": {},
   "duration": 56.766161,
   "end_time": "2022-05-18T08:41:44.786050",
   "environment_variables": {},
   "exception": null,
   "input_path": "ABC_GAN-Catboost.ipynb",
   "output_path": "./ABC_GAN_Catboost/ABC-GAN_output_7_1.ipynb",
   "parameters": {
    "variance": 0.1
   },
   "start_time": "2022-05-18T08:40:48.019889",
   "version": "2.3.3"
  }
 },
 "nbformat": 4,
 "nbformat_minor": 5
}