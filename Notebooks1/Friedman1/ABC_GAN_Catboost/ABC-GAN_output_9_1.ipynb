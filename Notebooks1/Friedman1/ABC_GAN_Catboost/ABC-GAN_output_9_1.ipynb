{
 "cells": [
  {
   "cell_type": "markdown",
   "id": "622780e6",
   "metadata": {
    "id": "622780e6",
    "papermill": {
     "duration": 0.034885,
     "end_time": "2022-05-18T08:46:40.663874",
     "exception": false,
     "start_time": "2022-05-18T08:46:40.628989",
     "status": "completed"
    },
    "tags": []
   },
   "source": [
    "## Import Libraries "
   ]
  },
  {
   "cell_type": "code",
   "execution_count": 1,
   "id": "a62397e3",
   "metadata": {
    "execution": {
     "iopub.execute_input": "2022-05-18T08:46:40.701774Z",
     "iopub.status.busy": "2022-05-18T08:46:40.701269Z",
     "iopub.status.idle": "2022-05-18T08:46:40.703688Z",
     "shell.execute_reply": "2022-05-18T08:46:40.704032Z"
    },
    "id": "a62397e3",
    "papermill": {
     "duration": 0.0235,
     "end_time": "2022-05-18T08:46:40.704250",
     "exception": false,
     "start_time": "2022-05-18T08:46:40.680750",
     "status": "completed"
    },
    "tags": []
   },
   "outputs": [],
   "source": [
    "import warnings\n",
    "import sys\n",
    "sys.path.insert(0, '../../src')\n",
    "warnings.filterwarnings('ignore')"
   ]
  },
  {
   "cell_type": "code",
   "execution_count": 2,
   "id": "d6a4e155",
   "metadata": {
    "execution": {
     "iopub.execute_input": "2022-05-18T08:46:40.725189Z",
     "iopub.status.busy": "2022-05-18T08:46:40.724777Z",
     "iopub.status.idle": "2022-05-18T08:46:42.327582Z",
     "shell.execute_reply": "2022-05-18T08:46:42.327817Z"
    },
    "id": "d6a4e155",
    "papermill": {
     "duration": 1.614348,
     "end_time": "2022-05-18T08:46:42.327946",
     "exception": false,
     "start_time": "2022-05-18T08:46:40.713598",
     "status": "completed"
    },
    "tags": []
   },
   "outputs": [],
   "source": [
    "import ABC_train_test2\n",
    "import friedman1Dataset\n",
    "import network\n",
    "import dataset\n",
    "import sanityChecks\n",
    "import torch \n",
    "import scrapbook as sb\n",
    "from statistics import mean \n",
    "import catboost as ctb \n",
    "from sklearn.model_selection import train_test_split\n",
    "from sklearn.metrics import mean_squared_error,mean_absolute_error\n",
    "import numpy as np"
   ]
  },
  {
   "cell_type": "markdown",
   "id": "2fa5b0f7",
   "metadata": {
    "id": "2fa5b0f7",
    "papermill": {
     "duration": 0.006932,
     "end_time": "2022-05-18T08:46:42.342120",
     "exception": false,
     "start_time": "2022-05-18T08:46:42.335188",
     "status": "completed"
    },
    "tags": []
   },
   "source": [
    "## Parameters "
   ]
  },
  {
   "cell_type": "code",
   "execution_count": 3,
   "id": "783186fb",
   "metadata": {
    "execution": {
     "iopub.execute_input": "2022-05-18T08:46:42.358187Z",
     "iopub.status.busy": "2022-05-18T08:46:42.357813Z",
     "iopub.status.idle": "2022-05-18T08:46:42.359094Z",
     "shell.execute_reply": "2022-05-18T08:46:42.359355Z"
    },
    "id": "783186fb",
    "papermill": {
     "duration": 0.010468,
     "end_time": "2022-05-18T08:46:42.359471",
     "exception": false,
     "start_time": "2022-05-18T08:46:42.349003",
     "status": "completed"
    },
    "tags": [
     "parameters"
    ]
   },
   "outputs": [],
   "source": [
    "variance = 1"
   ]
  },
  {
   "cell_type": "code",
   "execution_count": 4,
   "id": "fe587011",
   "metadata": {
    "execution": {
     "iopub.execute_input": "2022-05-18T08:46:42.375498Z",
     "iopub.status.busy": "2022-05-18T08:46:42.375119Z",
     "iopub.status.idle": "2022-05-18T08:46:42.376428Z",
     "shell.execute_reply": "2022-05-18T08:46:42.376672Z"
    },
    "papermill": {
     "duration": 0.010238,
     "end_time": "2022-05-18T08:46:42.376782",
     "exception": false,
     "start_time": "2022-05-18T08:46:42.366544",
     "status": "completed"
    },
    "tags": [
     "injected-parameters"
    ]
   },
   "outputs": [],
   "source": [
    "# Parameters\n",
    "variance = 0.1\n"
   ]
  },
  {
   "cell_type": "markdown",
   "id": "391cdbfd",
   "metadata": {
    "id": "391cdbfd",
    "papermill": {
     "duration": 0.006752,
     "end_time": "2022-05-18T08:46:42.390446",
     "exception": false,
     "start_time": "2022-05-18T08:46:42.383694",
     "status": "completed"
    },
    "tags": []
   },
   "source": [
    "## Dataset \n"
   ]
  },
  {
   "cell_type": "code",
   "execution_count": 5,
   "id": "5b51f161",
   "metadata": {
    "execution": {
     "iopub.execute_input": "2022-05-18T08:46:42.408899Z",
     "iopub.status.busy": "2022-05-18T08:46:42.408522Z",
     "iopub.status.idle": "2022-05-18T08:46:42.409815Z",
     "shell.execute_reply": "2022-05-18T08:46:42.410136Z"
    },
    "id": "5b51f161",
    "papermill": {
     "duration": 0.01294,
     "end_time": "2022-05-18T08:46:42.410257",
     "exception": false,
     "start_time": "2022-05-18T08:46:42.397317",
     "status": "completed"
    },
    "tags": []
   },
   "outputs": [],
   "source": [
    "#Parameters \n",
    "n_features = 5\n",
    "n_samples= 100\n",
    "n_target = 1 "
   ]
  },
  {
   "cell_type": "code",
   "execution_count": 6,
   "id": "5d6eced4",
   "metadata": {
    "execution": {
     "iopub.execute_input": "2022-05-18T08:46:42.428609Z",
     "iopub.status.busy": "2022-05-18T08:46:42.428058Z",
     "iopub.status.idle": "2022-05-18T08:46:42.433059Z",
     "shell.execute_reply": "2022-05-18T08:46:42.433302Z"
    },
    "id": "5d6eced4",
    "papermill": {
     "duration": 0.016059,
     "end_time": "2022-05-18T08:46:42.433419",
     "exception": false,
     "start_time": "2022-05-18T08:46:42.417360",
     "status": "completed"
    },
    "tags": []
   },
   "outputs": [
    {
     "name": "stdout",
     "output_type": "stream",
     "text": [
      "         X0        X1        X2        X3        X4         Y\n",
      "0  0.771836  1.013772 -0.962291 -0.808010  1.551120  0.826011\n",
      "1  1.151894 -0.799617 -0.887840 -0.993377  0.111361 -0.167061\n",
      "2 -0.219675  0.356112 -1.057940  1.803398  1.357880  2.117201\n",
      "3  1.457444  0.966889  1.098200 -0.876288 -0.788795 -0.563333\n",
      "4 -0.851701  0.411054  1.459463 -0.309354  1.142181  0.509215\n"
     ]
    }
   ],
   "source": [
    "X,Y = friedman1Dataset.friedman1_data(n_samples,n_features)"
   ]
  },
  {
   "cell_type": "code",
   "execution_count": 7,
   "id": "fe007438",
   "metadata": {
    "execution": {
     "iopub.execute_input": "2022-05-18T08:46:42.450616Z",
     "iopub.status.busy": "2022-05-18T08:46:42.450241Z",
     "iopub.status.idle": "2022-05-18T08:46:42.451599Z",
     "shell.execute_reply": "2022-05-18T08:46:42.451850Z"
    },
    "id": "fe007438",
    "papermill": {
     "duration": 0.011201,
     "end_time": "2022-05-18T08:46:42.451961",
     "exception": false,
     "start_time": "2022-05-18T08:46:42.440760",
     "status": "completed"
    },
    "tags": []
   },
   "outputs": [],
   "source": [
    "#Train test split for dataset \n",
    "X_train,X_test,Y_train,Y_test = train_test_split(X,Y,test_size = 0.2)\n",
    "train_data = dataset.CustomDataset(X_train,Y_train)\n",
    "test_data = dataset.CustomDataset(X_test,Y_test)\n"
   ]
  },
  {
   "cell_type": "markdown",
   "id": "a9a1af34",
   "metadata": {
    "id": "a9a1af34",
    "papermill": {
     "duration": 0.007102,
     "end_time": "2022-05-18T08:46:42.466202",
     "exception": false,
     "start_time": "2022-05-18T08:46:42.459100",
     "status": "completed"
    },
    "tags": []
   },
   "source": [
    "## Training Parameters "
   ]
  },
  {
   "cell_type": "code",
   "execution_count": 8,
   "id": "952b7fc8",
   "metadata": {
    "execution": {
     "iopub.execute_input": "2022-05-18T08:46:42.482950Z",
     "iopub.status.busy": "2022-05-18T08:46:42.482583Z",
     "iopub.status.idle": "2022-05-18T08:46:42.483768Z",
     "shell.execute_reply": "2022-05-18T08:46:42.484051Z"
    },
    "id": "952b7fc8",
    "papermill": {
     "duration": 0.010804,
     "end_time": "2022-05-18T08:46:42.484165",
     "exception": false,
     "start_time": "2022-05-18T08:46:42.473361",
     "status": "completed"
    },
    "tags": []
   },
   "outputs": [],
   "source": [
    "batch_size = 32\n",
    "n_epochs = 1000\n",
    "#Select the device \n",
    "device = torch.device('cuda' if torch.cuda.is_available() else 'cpu')"
   ]
  },
  {
   "cell_type": "markdown",
   "id": "a95e1600",
   "metadata": {
    "id": "a95e1600",
    "papermill": {
     "duration": 0.007016,
     "end_time": "2022-05-18T08:46:42.498270",
     "exception": false,
     "start_time": "2022-05-18T08:46:42.491254",
     "status": "completed"
    },
    "tags": []
   },
   "source": [
    "# ABC Pre-generator Model \n",
    "\n",
    "1. The catboost model is used as a pre-generator model for the ABC-GAN. \n",
    "2. The model is first trained on the entire dataset \n",
    "3. It generats X,Y pairs and we add some Gaussian noise with mean 0 and variance 1 to it which is then feed as input to the generator.\n"
   ]
  },
  {
   "cell_type": "code",
   "execution_count": 9,
   "id": "ff8ce7bd",
   "metadata": {
    "execution": {
     "iopub.execute_input": "2022-05-18T08:46:42.517161Z",
     "iopub.status.busy": "2022-05-18T08:46:42.516769Z",
     "iopub.status.idle": "2022-05-18T08:46:43.218134Z",
     "shell.execute_reply": "2022-05-18T08:46:43.218391Z"
    },
    "id": "ff8ce7bd",
    "papermill": {
     "duration": 0.712857,
     "end_time": "2022-05-18T08:46:43.218510",
     "exception": false,
     "start_time": "2022-05-18T08:46:42.505653",
     "status": "completed"
    },
    "tags": []
   },
   "outputs": [
    {
     "name": "stdout",
     "output_type": "stream",
     "text": [
      "Learning rate set to 0.024897\n",
      "0:\tlearn: 0.9911889\ttotal: 57.7ms\tremaining: 57.7s\n",
      "1:\tlearn: 0.9788012\ttotal: 58.4ms\tremaining: 29.1s\n",
      "2:\tlearn: 0.9712077\ttotal: 59.1ms\tremaining: 19.7s\n",
      "3:\tlearn: 0.9610979\ttotal: 59.8ms\tremaining: 14.9s\n",
      "4:\tlearn: 0.9519174\ttotal: 60.3ms\tremaining: 12s\n",
      "5:\tlearn: 0.9438712\ttotal: 60.6ms\tremaining: 10s\n",
      "6:\tlearn: 0.9348883\ttotal: 61.3ms\tremaining: 8.69s\n",
      "7:\tlearn: 0.9242110\ttotal: 61.8ms\tremaining: 7.66s\n",
      "8:\tlearn: 0.9144425\ttotal: 62.3ms\tremaining: 6.85s\n",
      "9:\tlearn: 0.9067711\ttotal: 62.8ms\tremaining: 6.22s\n",
      "10:\tlearn: 0.8978189\ttotal: 63.3ms\tremaining: 5.69s\n",
      "11:\tlearn: 0.8878569\ttotal: 63.7ms\tremaining: 5.24s\n",
      "12:\tlearn: 0.8787669\ttotal: 64.2ms\tremaining: 4.88s\n",
      "13:\tlearn: 0.8705219\ttotal: 64.7ms\tremaining: 4.56s\n",
      "14:\tlearn: 0.8630629\ttotal: 65.2ms\tremaining: 4.28s\n",
      "15:\tlearn: 0.8553975\ttotal: 65.7ms\tremaining: 4.04s\n",
      "16:\tlearn: 0.8471938\ttotal: 66.1ms\tremaining: 3.82s\n",
      "17:\tlearn: 0.8419450\ttotal: 66.5ms\tremaining: 3.63s\n",
      "18:\tlearn: 0.8333804\ttotal: 66.9ms\tremaining: 3.45s\n",
      "19:\tlearn: 0.8262669\ttotal: 67.3ms\tremaining: 3.29s\n",
      "20:\tlearn: 0.8186119\ttotal: 67.8ms\tremaining: 3.16s\n",
      "21:\tlearn: 0.8085522\ttotal: 68.2ms\tremaining: 3.03s\n",
      "22:\tlearn: 0.7992487\ttotal: 68.6ms\tremaining: 2.91s\n",
      "23:\tlearn: 0.7921697\ttotal: 69ms\tremaining: 2.81s\n",
      "24:\tlearn: 0.7840521\ttotal: 69.5ms\tremaining: 2.71s\n",
      "25:\tlearn: 0.7771141\ttotal: 70ms\tremaining: 2.62s\n",
      "26:\tlearn: 0.7696420\ttotal: 70.5ms\tremaining: 2.54s\n",
      "27:\tlearn: 0.7629548\ttotal: 70.9ms\tremaining: 2.46s\n",
      "28:\tlearn: 0.7563683\ttotal: 71.3ms\tremaining: 2.39s\n",
      "29:\tlearn: 0.7506175\ttotal: 71.7ms\tremaining: 2.32s\n",
      "30:\tlearn: 0.7433114\ttotal: 72.1ms\tremaining: 2.25s\n",
      "31:\tlearn: 0.7351981\ttotal: 72.8ms\tremaining: 2.2s\n",
      "32:\tlearn: 0.7270034\ttotal: 78.7ms\tremaining: 2.31s\n",
      "33:\tlearn: 0.7198494\ttotal: 79.2ms\tremaining: 2.25s\n",
      "34:\tlearn: 0.7130781\ttotal: 79.7ms\tremaining: 2.2s\n",
      "35:\tlearn: 0.7055926\ttotal: 80.2ms\tremaining: 2.15s\n",
      "36:\tlearn: 0.7000650\ttotal: 80.6ms\tremaining: 2.1s\n",
      "37:\tlearn: 0.6956991\ttotal: 80.7ms\tremaining: 2.04s\n",
      "38:\tlearn: 0.6893503\ttotal: 81.2ms\tremaining: 2s\n",
      "39:\tlearn: 0.6837350\ttotal: 81.7ms\tremaining: 1.96s\n",
      "40:\tlearn: 0.6769568\ttotal: 82ms\tremaining: 1.92s\n",
      "41:\tlearn: 0.6702413\ttotal: 82.3ms\tremaining: 1.88s\n",
      "42:\tlearn: 0.6623056\ttotal: 82.7ms\tremaining: 1.84s\n",
      "43:\tlearn: 0.6589921\ttotal: 83ms\tremaining: 1.8s\n",
      "44:\tlearn: 0.6528585\ttotal: 83.4ms\tremaining: 1.77s\n",
      "45:\tlearn: 0.6462013\ttotal: 83.8ms\tremaining: 1.74s\n",
      "46:\tlearn: 0.6390484\ttotal: 84.2ms\tremaining: 1.71s\n",
      "47:\tlearn: 0.6346031\ttotal: 84.5ms\tremaining: 1.68s\n",
      "48:\tlearn: 0.6297166\ttotal: 84.9ms\tremaining: 1.65s\n",
      "49:\tlearn: 0.6245686\ttotal: 85.2ms\tremaining: 1.62s\n",
      "50:\tlearn: 0.6193520\ttotal: 85.7ms\tremaining: 1.59s\n",
      "51:\tlearn: 0.6135190\ttotal: 86.3ms\tremaining: 1.57s\n",
      "52:\tlearn: 0.6074486\ttotal: 86.8ms\tremaining: 1.55s\n",
      "53:\tlearn: 0.6032349\ttotal: 87.2ms\tremaining: 1.53s\n",
      "54:\tlearn: 0.5990118\ttotal: 87.6ms\tremaining: 1.5s\n",
      "55:\tlearn: 0.5944657\ttotal: 88ms\tremaining: 1.48s\n",
      "56:\tlearn: 0.5894015\ttotal: 88.4ms\tremaining: 1.46s\n",
      "57:\tlearn: 0.5853550\ttotal: 89ms\tremaining: 1.45s\n",
      "58:\tlearn: 0.5796786\ttotal: 89.3ms\tremaining: 1.42s\n",
      "59:\tlearn: 0.5757290\ttotal: 89.6ms\tremaining: 1.4s\n",
      "60:\tlearn: 0.5706954\ttotal: 90ms\tremaining: 1.38s\n",
      "61:\tlearn: 0.5671516\ttotal: 90.3ms\tremaining: 1.37s\n",
      "62:\tlearn: 0.5620623\ttotal: 90.7ms\tremaining: 1.35s\n",
      "63:\tlearn: 0.5580185\ttotal: 91ms\tremaining: 1.33s\n",
      "64:\tlearn: 0.5538866\ttotal: 91.4ms\tremaining: 1.31s\n",
      "65:\tlearn: 0.5499051\ttotal: 91.8ms\tremaining: 1.3s\n",
      "66:\tlearn: 0.5448113\ttotal: 92.2ms\tremaining: 1.28s\n",
      "67:\tlearn: 0.5402493\ttotal: 92.5ms\tremaining: 1.27s\n",
      "68:\tlearn: 0.5364222\ttotal: 92.9ms\tremaining: 1.25s\n",
      "69:\tlearn: 0.5322686\ttotal: 93.3ms\tremaining: 1.24s\n",
      "70:\tlearn: 0.5287099\ttotal: 93.6ms\tremaining: 1.22s\n",
      "71:\tlearn: 0.5242639\ttotal: 94.2ms\tremaining: 1.21s\n",
      "72:\tlearn: 0.5201689\ttotal: 94.5ms\tremaining: 1.2s\n",
      "73:\tlearn: 0.5153477\ttotal: 94.8ms\tremaining: 1.19s\n",
      "74:\tlearn: 0.5112167\ttotal: 95.2ms\tremaining: 1.17s\n",
      "75:\tlearn: 0.5070232\ttotal: 95.6ms\tremaining: 1.16s\n",
      "76:\tlearn: 0.5025557\ttotal: 95.9ms\tremaining: 1.15s\n",
      "77:\tlearn: 0.4978905\ttotal: 96.3ms\tremaining: 1.14s\n",
      "78:\tlearn: 0.4946104\ttotal: 96.6ms\tremaining: 1.13s\n",
      "79:\tlearn: 0.4917699\ttotal: 96.9ms\tremaining: 1.11s\n",
      "80:\tlearn: 0.4883096\ttotal: 97.6ms\tremaining: 1.11s\n",
      "81:\tlearn: 0.4838525\ttotal: 98.1ms\tremaining: 1.1s\n",
      "82:\tlearn: 0.4799396\ttotal: 98.6ms\tremaining: 1.09s\n",
      "83:\tlearn: 0.4758315\ttotal: 99.2ms\tremaining: 1.08s\n",
      "84:\tlearn: 0.4727245\ttotal: 99.8ms\tremaining: 1.07s\n",
      "85:\tlearn: 0.4681931\ttotal: 100ms\tremaining: 1.07s\n",
      "86:\tlearn: 0.4650658\ttotal: 101ms\tremaining: 1.06s\n",
      "87:\tlearn: 0.4609320\ttotal: 101ms\tremaining: 1.05s\n",
      "88:\tlearn: 0.4570190\ttotal: 102ms\tremaining: 1.04s\n",
      "89:\tlearn: 0.4535376\ttotal: 102ms\tremaining: 1.03s\n",
      "90:\tlearn: 0.4498501\ttotal: 103ms\tremaining: 1.02s\n",
      "91:\tlearn: 0.4458100\ttotal: 103ms\tremaining: 1.01s\n",
      "92:\tlearn: 0.4419262\ttotal: 103ms\tremaining: 1.01s\n",
      "93:\tlearn: 0.4385373\ttotal: 104ms\tremaining: 998ms\n",
      "94:\tlearn: 0.4351724\ttotal: 104ms\tremaining: 989ms\n",
      "95:\tlearn: 0.4322073\ttotal: 105ms\tremaining: 989ms\n",
      "96:\tlearn: 0.4289955\ttotal: 106ms\tremaining: 988ms\n",
      "97:\tlearn: 0.4259058\ttotal: 107ms\tremaining: 981ms\n"
     ]
    },
    {
     "name": "stdout",
     "output_type": "stream",
     "text": [
      "98:\tlearn: 0.4222520\ttotal: 107ms\tremaining: 976ms\n",
      "99:\tlearn: 0.4186352\ttotal: 108ms\tremaining: 970ms\n",
      "100:\tlearn: 0.4161701\ttotal: 108ms\tremaining: 964ms\n",
      "101:\tlearn: 0.4129840\ttotal: 109ms\tremaining: 958ms\n",
      "102:\tlearn: 0.4103942\ttotal: 109ms\tremaining: 952ms\n",
      "103:\tlearn: 0.4071098\ttotal: 110ms\tremaining: 947ms\n",
      "104:\tlearn: 0.4035209\ttotal: 110ms\tremaining: 940ms\n",
      "105:\tlearn: 0.3999005\ttotal: 111ms\tremaining: 933ms\n",
      "106:\tlearn: 0.3963563\ttotal: 111ms\tremaining: 927ms\n",
      "107:\tlearn: 0.3929675\ttotal: 111ms\tremaining: 921ms\n",
      "108:\tlearn: 0.3895125\ttotal: 112ms\tremaining: 916ms\n",
      "109:\tlearn: 0.3861606\ttotal: 113ms\tremaining: 911ms\n",
      "110:\tlearn: 0.3828709\ttotal: 113ms\tremaining: 906ms\n",
      "111:\tlearn: 0.3802085\ttotal: 114ms\tremaining: 902ms\n",
      "112:\tlearn: 0.3774829\ttotal: 114ms\tremaining: 898ms\n",
      "113:\tlearn: 0.3753462\ttotal: 115ms\tremaining: 893ms\n",
      "114:\tlearn: 0.3718964\ttotal: 115ms\tremaining: 888ms\n",
      "115:\tlearn: 0.3688568\ttotal: 116ms\tremaining: 882ms\n",
      "116:\tlearn: 0.3658269\ttotal: 116ms\tremaining: 877ms\n",
      "117:\tlearn: 0.3633545\ttotal: 117ms\tremaining: 871ms\n",
      "118:\tlearn: 0.3604303\ttotal: 117ms\tremaining: 866ms\n",
      "119:\tlearn: 0.3575722\ttotal: 117ms\tremaining: 860ms\n",
      "120:\tlearn: 0.3549971\ttotal: 118ms\tremaining: 854ms\n",
      "121:\tlearn: 0.3521201\ttotal: 118ms\tremaining: 849ms\n",
      "122:\tlearn: 0.3496842\ttotal: 118ms\tremaining: 845ms\n",
      "123:\tlearn: 0.3468300\ttotal: 119ms\tremaining: 840ms\n",
      "124:\tlearn: 0.3449004\ttotal: 119ms\tremaining: 835ms\n",
      "125:\tlearn: 0.3428778\ttotal: 120ms\tremaining: 830ms\n",
      "126:\tlearn: 0.3401715\ttotal: 120ms\tremaining: 825ms\n",
      "127:\tlearn: 0.3369382\ttotal: 120ms\tremaining: 820ms\n",
      "128:\tlearn: 0.3341897\ttotal: 121ms\tremaining: 815ms\n",
      "129:\tlearn: 0.3316181\ttotal: 121ms\tremaining: 809ms\n",
      "130:\tlearn: 0.3296559\ttotal: 121ms\tremaining: 804ms\n",
      "131:\tlearn: 0.3276002\ttotal: 122ms\tremaining: 800ms\n",
      "132:\tlearn: 0.3252319\ttotal: 122ms\tremaining: 795ms\n",
      "133:\tlearn: 0.3230197\ttotal: 122ms\tremaining: 791ms\n",
      "134:\tlearn: 0.3209028\ttotal: 123ms\tremaining: 786ms\n",
      "135:\tlearn: 0.3183874\ttotal: 123ms\tremaining: 781ms\n",
      "136:\tlearn: 0.3160960\ttotal: 123ms\tremaining: 777ms\n",
      "137:\tlearn: 0.3138297\ttotal: 124ms\tremaining: 773ms\n",
      "138:\tlearn: 0.3114344\ttotal: 124ms\tremaining: 768ms\n",
      "139:\tlearn: 0.3091753\ttotal: 124ms\tremaining: 764ms\n",
      "140:\tlearn: 0.3071320\ttotal: 125ms\tremaining: 760ms\n",
      "141:\tlearn: 0.3052164\ttotal: 125ms\tremaining: 756ms\n",
      "142:\tlearn: 0.3029203\ttotal: 125ms\tremaining: 752ms\n",
      "143:\tlearn: 0.3008628\ttotal: 126ms\tremaining: 749ms\n",
      "144:\tlearn: 0.2990110\ttotal: 127ms\tremaining: 746ms\n",
      "145:\tlearn: 0.2966862\ttotal: 127ms\tremaining: 744ms\n",
      "146:\tlearn: 0.2945271\ttotal: 128ms\tremaining: 741ms\n",
      "147:\tlearn: 0.2927392\ttotal: 128ms\tremaining: 738ms\n",
      "148:\tlearn: 0.2899440\ttotal: 129ms\tremaining: 736ms\n",
      "149:\tlearn: 0.2878790\ttotal: 129ms\tremaining: 733ms\n",
      "150:\tlearn: 0.2859446\ttotal: 130ms\tremaining: 730ms\n",
      "151:\tlearn: 0.2837463\ttotal: 130ms\tremaining: 726ms\n",
      "152:\tlearn: 0.2815605\ttotal: 131ms\tremaining: 724ms\n",
      "153:\tlearn: 0.2793538\ttotal: 131ms\tremaining: 721ms\n",
      "154:\tlearn: 0.2776839\ttotal: 132ms\tremaining: 717ms\n",
      "155:\tlearn: 0.2760085\ttotal: 132ms\tremaining: 713ms\n",
      "156:\tlearn: 0.2736485\ttotal: 132ms\tremaining: 711ms\n",
      "157:\tlearn: 0.2721580\ttotal: 133ms\tremaining: 707ms\n",
      "158:\tlearn: 0.2697108\ttotal: 133ms\tremaining: 705ms\n",
      "159:\tlearn: 0.2677751\ttotal: 140ms\tremaining: 737ms\n",
      "160:\tlearn: 0.2662833\ttotal: 141ms\tremaining: 734ms\n",
      "161:\tlearn: 0.2642142\ttotal: 141ms\tremaining: 730ms\n",
      "162:\tlearn: 0.2621157\ttotal: 141ms\tremaining: 726ms\n",
      "163:\tlearn: 0.2603975\ttotal: 142ms\tremaining: 723ms\n",
      "164:\tlearn: 0.2588574\ttotal: 142ms\tremaining: 719ms\n",
      "165:\tlearn: 0.2569573\ttotal: 142ms\tremaining: 716ms\n",
      "166:\tlearn: 0.2554053\ttotal: 143ms\tremaining: 712ms\n",
      "167:\tlearn: 0.2535875\ttotal: 143ms\tremaining: 709ms\n",
      "168:\tlearn: 0.2521171\ttotal: 143ms\tremaining: 706ms\n",
      "169:\tlearn: 0.2506076\ttotal: 144ms\tremaining: 703ms\n",
      "170:\tlearn: 0.2489237\ttotal: 144ms\tremaining: 699ms\n",
      "171:\tlearn: 0.2471368\ttotal: 145ms\tremaining: 697ms\n",
      "172:\tlearn: 0.2452327\ttotal: 145ms\tremaining: 693ms\n",
      "173:\tlearn: 0.2437345\ttotal: 145ms\tremaining: 690ms\n",
      "174:\tlearn: 0.2420865\ttotal: 146ms\tremaining: 687ms\n",
      "175:\tlearn: 0.2403375\ttotal: 146ms\tremaining: 684ms\n",
      "176:\tlearn: 0.2388989\ttotal: 146ms\tremaining: 681ms\n",
      "177:\tlearn: 0.2372037\ttotal: 147ms\tremaining: 678ms\n",
      "178:\tlearn: 0.2356023\ttotal: 147ms\tremaining: 675ms\n",
      "179:\tlearn: 0.2340798\ttotal: 147ms\tremaining: 672ms\n",
      "180:\tlearn: 0.2325511\ttotal: 148ms\tremaining: 669ms\n",
      "181:\tlearn: 0.2311026\ttotal: 148ms\tremaining: 667ms\n",
      "182:\tlearn: 0.2296080\ttotal: 149ms\tremaining: 664ms\n",
      "183:\tlearn: 0.2278847\ttotal: 149ms\tremaining: 661ms\n",
      "184:\tlearn: 0.2260924\ttotal: 149ms\tremaining: 658ms\n",
      "185:\tlearn: 0.2246844\ttotal: 150ms\tremaining: 655ms\n",
      "186:\tlearn: 0.2230440\ttotal: 150ms\tremaining: 653ms\n",
      "187:\tlearn: 0.2217321\ttotal: 151ms\tremaining: 650ms\n",
      "188:\tlearn: 0.2201954\ttotal: 151ms\tremaining: 648ms\n",
      "189:\tlearn: 0.2187189\ttotal: 151ms\tremaining: 645ms\n",
      "190:\tlearn: 0.2175940\ttotal: 152ms\tremaining: 642ms\n",
      "191:\tlearn: 0.2161221\ttotal: 152ms\tremaining: 640ms\n",
      "192:\tlearn: 0.2143757\ttotal: 152ms\tremaining: 637ms\n",
      "193:\tlearn: 0.2131140\ttotal: 153ms\tremaining: 634ms\n",
      "194:\tlearn: 0.2117536\ttotal: 153ms\tremaining: 632ms\n",
      "195:\tlearn: 0.2102684\ttotal: 153ms\tremaining: 629ms\n",
      "196:\tlearn: 0.2086864\ttotal: 154ms\tremaining: 630ms\n",
      "197:\tlearn: 0.2074972\ttotal: 155ms\tremaining: 627ms\n",
      "198:\tlearn: 0.2057352\ttotal: 155ms\tremaining: 625ms\n",
      "199:\tlearn: 0.2045453\ttotal: 156ms\tremaining: 622ms\n",
      "200:\tlearn: 0.2032109\ttotal: 156ms\tremaining: 620ms\n",
      "201:\tlearn: 0.2016548\ttotal: 156ms\tremaining: 617ms\n",
      "202:\tlearn: 0.2004733\ttotal: 157ms\tremaining: 615ms\n",
      "203:\tlearn: 0.1989078\ttotal: 157ms\tremaining: 612ms\n",
      "204:\tlearn: 0.1970720\ttotal: 157ms\tremaining: 610ms\n",
      "205:\tlearn: 0.1954192\ttotal: 158ms\tremaining: 608ms\n",
      "206:\tlearn: 0.1940800\ttotal: 158ms\tremaining: 605ms\n",
      "207:\tlearn: 0.1929966\ttotal: 159ms\tremaining: 604ms\n",
      "208:\tlearn: 0.1914779\ttotal: 159ms\tremaining: 602ms\n",
      "209:\tlearn: 0.1899955\ttotal: 159ms\tremaining: 600ms\n",
      "210:\tlearn: 0.1888381\ttotal: 160ms\tremaining: 598ms\n",
      "211:\tlearn: 0.1874140\ttotal: 160ms\tremaining: 596ms\n",
      "212:\tlearn: 0.1861025\ttotal: 161ms\tremaining: 594ms\n",
      "213:\tlearn: 0.1844270\ttotal: 161ms\tremaining: 593ms\n",
      "214:\tlearn: 0.1832717\ttotal: 162ms\tremaining: 591ms\n",
      "215:\tlearn: 0.1820396\ttotal: 162ms\tremaining: 590ms\n",
      "216:\tlearn: 0.1809973\ttotal: 163ms\tremaining: 588ms\n",
      "217:\tlearn: 0.1800300\ttotal: 163ms\tremaining: 586ms\n",
      "218:\tlearn: 0.1792085\ttotal: 164ms\tremaining: 586ms\n",
      "219:\tlearn: 0.1777957\ttotal: 165ms\tremaining: 584ms\n",
      "220:\tlearn: 0.1767845\ttotal: 165ms\tremaining: 582ms\n",
      "221:\tlearn: 0.1756892\ttotal: 166ms\tremaining: 580ms\n",
      "222:\tlearn: 0.1746707\ttotal: 166ms\tremaining: 578ms\n",
      "223:\tlearn: 0.1734618\ttotal: 167ms\tremaining: 577ms\n",
      "224:\tlearn: 0.1724693\ttotal: 167ms\tremaining: 576ms\n",
      "225:\tlearn: 0.1712004\ttotal: 168ms\tremaining: 574ms\n",
      "226:\tlearn: 0.1700365\ttotal: 168ms\tremaining: 572ms\n",
      "227:\tlearn: 0.1687867\ttotal: 168ms\tremaining: 569ms\n",
      "228:\tlearn: 0.1677226\ttotal: 169ms\tremaining: 568ms\n",
      "229:\tlearn: 0.1666720\ttotal: 169ms\tremaining: 566ms\n",
      "230:\tlearn: 0.1655827\ttotal: 170ms\tremaining: 564ms\n",
      "231:\tlearn: 0.1642463\ttotal: 170ms\tremaining: 563ms\n",
      "232:\tlearn: 0.1631018\ttotal: 171ms\tremaining: 562ms\n",
      "233:\tlearn: 0.1623126\ttotal: 171ms\tremaining: 560ms\n",
      "234:\tlearn: 0.1612856\ttotal: 172ms\tremaining: 559ms\n",
      "235:\tlearn: 0.1601680\ttotal: 172ms\tremaining: 556ms\n",
      "236:\tlearn: 0.1589478\ttotal: 172ms\tremaining: 555ms\n",
      "237:\tlearn: 0.1576201\ttotal: 173ms\tremaining: 553ms\n",
      "238:\tlearn: 0.1562808\ttotal: 173ms\tremaining: 552ms\n",
      "239:\tlearn: 0.1554076\ttotal: 174ms\tremaining: 550ms\n",
      "240:\tlearn: 0.1543500\ttotal: 174ms\tremaining: 548ms\n",
      "241:\tlearn: 0.1533083\ttotal: 175ms\tremaining: 547ms\n",
      "242:\tlearn: 0.1524507\ttotal: 175ms\tremaining: 546ms\n",
      "243:\tlearn: 0.1515817\ttotal: 176ms\tremaining: 544ms\n",
      "244:\tlearn: 0.1505973\ttotal: 176ms\tremaining: 543ms\n",
      "245:\tlearn: 0.1495993\ttotal: 176ms\tremaining: 541ms\n",
      "246:\tlearn: 0.1487120\ttotal: 177ms\tremaining: 539ms\n",
      "247:\tlearn: 0.1477310\ttotal: 177ms\tremaining: 538ms\n",
      "248:\tlearn: 0.1465985\ttotal: 178ms\tremaining: 537ms\n",
      "249:\tlearn: 0.1455590\ttotal: 178ms\tremaining: 535ms\n",
      "250:\tlearn: 0.1444333\ttotal: 179ms\tremaining: 534ms\n",
      "251:\tlearn: 0.1436160\ttotal: 179ms\tremaining: 532ms\n",
      "252:\tlearn: 0.1428264\ttotal: 180ms\tremaining: 531ms\n",
      "253:\tlearn: 0.1423128\ttotal: 180ms\tremaining: 529ms\n",
      "254:\tlearn: 0.1414531\ttotal: 181ms\tremaining: 528ms\n",
      "255:\tlearn: 0.1405517\ttotal: 181ms\tremaining: 526ms\n",
      "256:\tlearn: 0.1393560\ttotal: 182ms\tremaining: 525ms\n",
      "257:\tlearn: 0.1381714\ttotal: 182ms\tremaining: 524ms\n",
      "258:\tlearn: 0.1371940\ttotal: 183ms\tremaining: 522ms\n",
      "259:\tlearn: 0.1364322\ttotal: 183ms\tremaining: 521ms\n",
      "260:\tlearn: 0.1357143\ttotal: 183ms\tremaining: 519ms\n",
      "261:\tlearn: 0.1348602\ttotal: 184ms\tremaining: 518ms\n",
      "262:\tlearn: 0.1337674\ttotal: 184ms\tremaining: 516ms\n",
      "263:\tlearn: 0.1329314\ttotal: 185ms\tremaining: 515ms\n",
      "264:\tlearn: 0.1321739\ttotal: 185ms\tremaining: 514ms\n",
      "265:\tlearn: 0.1310841\ttotal: 186ms\tremaining: 513ms\n"
     ]
    },
    {
     "name": "stdout",
     "output_type": "stream",
     "text": [
      "266:\tlearn: 0.1304043\ttotal: 186ms\tremaining: 512ms\n",
      "267:\tlearn: 0.1293520\ttotal: 187ms\tremaining: 511ms\n",
      "268:\tlearn: 0.1286233\ttotal: 188ms\tremaining: 510ms\n",
      "269:\tlearn: 0.1277642\ttotal: 188ms\tremaining: 508ms\n",
      "270:\tlearn: 0.1271102\ttotal: 188ms\tremaining: 507ms\n",
      "271:\tlearn: 0.1264567\ttotal: 189ms\tremaining: 505ms\n",
      "272:\tlearn: 0.1254944\ttotal: 189ms\tremaining: 504ms\n",
      "273:\tlearn: 0.1248166\ttotal: 190ms\tremaining: 503ms\n",
      "274:\tlearn: 0.1239911\ttotal: 190ms\tremaining: 502ms\n",
      "275:\tlearn: 0.1231233\ttotal: 191ms\tremaining: 500ms\n",
      "276:\tlearn: 0.1221065\ttotal: 191ms\tremaining: 499ms\n",
      "277:\tlearn: 0.1213456\ttotal: 192ms\tremaining: 498ms\n",
      "278:\tlearn: 0.1204562\ttotal: 192ms\tremaining: 497ms\n",
      "279:\tlearn: 0.1197809\ttotal: 193ms\tremaining: 496ms\n",
      "280:\tlearn: 0.1188900\ttotal: 193ms\tremaining: 495ms\n",
      "281:\tlearn: 0.1181447\ttotal: 201ms\tremaining: 512ms\n",
      "282:\tlearn: 0.1175508\ttotal: 202ms\tremaining: 511ms\n",
      "283:\tlearn: 0.1167617\ttotal: 202ms\tremaining: 510ms\n",
      "284:\tlearn: 0.1157901\ttotal: 203ms\tremaining: 508ms\n",
      "285:\tlearn: 0.1150957\ttotal: 203ms\tremaining: 507ms\n",
      "286:\tlearn: 0.1146191\ttotal: 204ms\tremaining: 506ms\n",
      "287:\tlearn: 0.1139946\ttotal: 204ms\tremaining: 504ms\n",
      "288:\tlearn: 0.1132388\ttotal: 204ms\tremaining: 503ms\n",
      "289:\tlearn: 0.1126375\ttotal: 206ms\tremaining: 503ms\n",
      "290:\tlearn: 0.1117575\ttotal: 206ms\tremaining: 502ms\n",
      "291:\tlearn: 0.1108103\ttotal: 206ms\tremaining: 500ms\n",
      "292:\tlearn: 0.1098327\ttotal: 207ms\tremaining: 499ms\n",
      "293:\tlearn: 0.1090783\ttotal: 207ms\tremaining: 498ms\n",
      "294:\tlearn: 0.1083530\ttotal: 208ms\tremaining: 497ms\n",
      "295:\tlearn: 0.1078761\ttotal: 208ms\tremaining: 495ms\n",
      "296:\tlearn: 0.1072735\ttotal: 209ms\tremaining: 494ms\n",
      "297:\tlearn: 0.1066867\ttotal: 209ms\tremaining: 493ms\n",
      "298:\tlearn: 0.1059658\ttotal: 210ms\tremaining: 491ms\n",
      "299:\tlearn: 0.1051129\ttotal: 210ms\tremaining: 490ms\n",
      "300:\tlearn: 0.1041903\ttotal: 211ms\tremaining: 489ms\n",
      "301:\tlearn: 0.1035211\ttotal: 211ms\tremaining: 487ms\n",
      "302:\tlearn: 0.1028181\ttotal: 211ms\tremaining: 486ms\n",
      "303:\tlearn: 0.1019997\ttotal: 212ms\tremaining: 485ms\n",
      "304:\tlearn: 0.1015341\ttotal: 213ms\tremaining: 484ms\n",
      "305:\tlearn: 0.1010480\ttotal: 213ms\tremaining: 483ms\n",
      "306:\tlearn: 0.1001411\ttotal: 214ms\tremaining: 482ms\n",
      "307:\tlearn: 0.0992423\ttotal: 214ms\tremaining: 482ms\n",
      "308:\tlearn: 0.0988068\ttotal: 215ms\tremaining: 480ms\n",
      "309:\tlearn: 0.0982633\ttotal: 215ms\tremaining: 479ms\n",
      "310:\tlearn: 0.0978616\ttotal: 216ms\tremaining: 478ms\n",
      "311:\tlearn: 0.0975054\ttotal: 216ms\tremaining: 477ms\n",
      "312:\tlearn: 0.0966914\ttotal: 217ms\tremaining: 476ms\n",
      "313:\tlearn: 0.0962079\ttotal: 217ms\tremaining: 474ms\n",
      "314:\tlearn: 0.0958228\ttotal: 217ms\tremaining: 472ms\n",
      "315:\tlearn: 0.0952270\ttotal: 218ms\tremaining: 471ms\n",
      "316:\tlearn: 0.0943810\ttotal: 218ms\tremaining: 469ms\n",
      "317:\tlearn: 0.0935369\ttotal: 218ms\tremaining: 468ms\n",
      "318:\tlearn: 0.0930801\ttotal: 218ms\tremaining: 466ms\n",
      "319:\tlearn: 0.0925711\ttotal: 219ms\tremaining: 465ms\n",
      "320:\tlearn: 0.0921308\ttotal: 219ms\tremaining: 463ms\n",
      "321:\tlearn: 0.0913378\ttotal: 219ms\tremaining: 462ms\n",
      "322:\tlearn: 0.0905438\ttotal: 220ms\tremaining: 460ms\n",
      "323:\tlearn: 0.0898526\ttotal: 220ms\tremaining: 459ms\n",
      "324:\tlearn: 0.0893052\ttotal: 220ms\tremaining: 457ms\n",
      "325:\tlearn: 0.0885307\ttotal: 220ms\tremaining: 456ms\n",
      "326:\tlearn: 0.0879750\ttotal: 221ms\tremaining: 454ms\n",
      "327:\tlearn: 0.0875633\ttotal: 221ms\tremaining: 453ms\n",
      "328:\tlearn: 0.0868097\ttotal: 221ms\tremaining: 451ms\n",
      "329:\tlearn: 0.0861493\ttotal: 222ms\tremaining: 450ms\n",
      "330:\tlearn: 0.0854182\ttotal: 222ms\tremaining: 448ms\n",
      "331:\tlearn: 0.0850282\ttotal: 222ms\tremaining: 447ms\n",
      "332:\tlearn: 0.0846313\ttotal: 222ms\tremaining: 446ms\n",
      "333:\tlearn: 0.0839393\ttotal: 223ms\tremaining: 444ms\n",
      "334:\tlearn: 0.0832432\ttotal: 223ms\tremaining: 443ms\n",
      "335:\tlearn: 0.0825916\ttotal: 223ms\tremaining: 441ms\n",
      "336:\tlearn: 0.0820869\ttotal: 224ms\tremaining: 440ms\n",
      "337:\tlearn: 0.0813860\ttotal: 224ms\tremaining: 439ms\n",
      "338:\tlearn: 0.0807032\ttotal: 224ms\tremaining: 437ms\n",
      "339:\tlearn: 0.0801101\ttotal: 226ms\tremaining: 439ms\n",
      "340:\tlearn: 0.0795860\ttotal: 227ms\tremaining: 438ms\n",
      "341:\tlearn: 0.0791074\ttotal: 227ms\tremaining: 437ms\n",
      "342:\tlearn: 0.0784745\ttotal: 227ms\tremaining: 436ms\n",
      "343:\tlearn: 0.0779749\ttotal: 228ms\tremaining: 434ms\n",
      "344:\tlearn: 0.0776218\ttotal: 228ms\tremaining: 433ms\n",
      "345:\tlearn: 0.0772760\ttotal: 228ms\tremaining: 431ms\n",
      "346:\tlearn: 0.0768168\ttotal: 229ms\tremaining: 430ms\n",
      "347:\tlearn: 0.0764081\ttotal: 229ms\tremaining: 429ms\n",
      "348:\tlearn: 0.0759266\ttotal: 229ms\tremaining: 427ms\n",
      "349:\tlearn: 0.0754534\ttotal: 229ms\tremaining: 426ms\n",
      "350:\tlearn: 0.0751228\ttotal: 230ms\tremaining: 425ms\n",
      "351:\tlearn: 0.0747939\ttotal: 230ms\tremaining: 424ms\n",
      "352:\tlearn: 0.0743734\ttotal: 230ms\tremaining: 422ms\n",
      "353:\tlearn: 0.0740352\ttotal: 231ms\tremaining: 421ms\n",
      "354:\tlearn: 0.0735648\ttotal: 231ms\tremaining: 420ms\n",
      "355:\tlearn: 0.0732273\ttotal: 231ms\tremaining: 418ms\n",
      "356:\tlearn: 0.0729058\ttotal: 232ms\tremaining: 417ms\n",
      "357:\tlearn: 0.0725253\ttotal: 232ms\tremaining: 416ms\n",
      "358:\tlearn: 0.0720957\ttotal: 232ms\tremaining: 415ms\n",
      "359:\tlearn: 0.0716520\ttotal: 233ms\tremaining: 413ms\n",
      "360:\tlearn: 0.0713306\ttotal: 233ms\tremaining: 412ms\n",
      "361:\tlearn: 0.0710185\ttotal: 233ms\tremaining: 411ms\n",
      "362:\tlearn: 0.0706017\ttotal: 234ms\tremaining: 410ms\n",
      "363:\tlearn: 0.0700340\ttotal: 234ms\tremaining: 409ms\n",
      "364:\tlearn: 0.0696070\ttotal: 235ms\tremaining: 409ms\n",
      "365:\tlearn: 0.0690662\ttotal: 235ms\tremaining: 408ms\n",
      "366:\tlearn: 0.0685184\ttotal: 236ms\tremaining: 407ms\n",
      "367:\tlearn: 0.0681028\ttotal: 236ms\tremaining: 406ms\n",
      "368:\tlearn: 0.0676139\ttotal: 237ms\tremaining: 405ms\n",
      "369:\tlearn: 0.0673273\ttotal: 237ms\tremaining: 404ms\n",
      "370:\tlearn: 0.0670907\ttotal: 238ms\tremaining: 403ms\n",
      "371:\tlearn: 0.0668088\ttotal: 238ms\tremaining: 402ms\n",
      "372:\tlearn: 0.0664121\ttotal: 239ms\tremaining: 401ms\n",
      "373:\tlearn: 0.0659731\ttotal: 239ms\tremaining: 400ms\n",
      "374:\tlearn: 0.0654554\ttotal: 240ms\tremaining: 399ms\n",
      "375:\tlearn: 0.0651780\ttotal: 240ms\tremaining: 399ms\n",
      "376:\tlearn: 0.0648971\ttotal: 241ms\tremaining: 398ms\n",
      "377:\tlearn: 0.0645205\ttotal: 241ms\tremaining: 397ms\n",
      "378:\tlearn: 0.0641444\ttotal: 242ms\tremaining: 396ms\n",
      "379:\tlearn: 0.0638816\ttotal: 242ms\tremaining: 395ms\n",
      "380:\tlearn: 0.0635144\ttotal: 242ms\tremaining: 394ms\n",
      "381:\tlearn: 0.0630597\ttotal: 243ms\tremaining: 393ms\n",
      "382:\tlearn: 0.0628027\ttotal: 243ms\tremaining: 392ms\n",
      "383:\tlearn: 0.0624453\ttotal: 244ms\tremaining: 391ms\n",
      "384:\tlearn: 0.0620022\ttotal: 244ms\tremaining: 390ms\n",
      "385:\tlearn: 0.0616533\ttotal: 245ms\tremaining: 389ms\n",
      "386:\tlearn: 0.0614411\ttotal: 245ms\tremaining: 388ms\n",
      "387:\tlearn: 0.0610996\ttotal: 246ms\tremaining: 388ms\n",
      "388:\tlearn: 0.0608478\ttotal: 246ms\tremaining: 387ms\n",
      "389:\tlearn: 0.0604205\ttotal: 247ms\tremaining: 386ms\n",
      "390:\tlearn: 0.0599899\ttotal: 247ms\tremaining: 385ms\n",
      "391:\tlearn: 0.0597855\ttotal: 248ms\tremaining: 384ms\n",
      "392:\tlearn: 0.0593434\ttotal: 248ms\tremaining: 383ms\n",
      "393:\tlearn: 0.0589263\ttotal: 249ms\tremaining: 383ms\n",
      "394:\tlearn: 0.0585309\ttotal: 249ms\tremaining: 382ms\n",
      "395:\tlearn: 0.0583328\ttotal: 250ms\tremaining: 381ms\n",
      "396:\tlearn: 0.0580937\ttotal: 250ms\tremaining: 380ms\n",
      "397:\tlearn: 0.0576698\ttotal: 251ms\tremaining: 380ms\n",
      "398:\tlearn: 0.0574760\ttotal: 251ms\tremaining: 379ms\n",
      "399:\tlearn: 0.0572443\ttotal: 252ms\tremaining: 378ms\n",
      "400:\tlearn: 0.0568685\ttotal: 252ms\tremaining: 377ms\n",
      "401:\tlearn: 0.0566794\ttotal: 253ms\tremaining: 376ms\n",
      "402:\tlearn: 0.0564416\ttotal: 253ms\tremaining: 375ms\n",
      "403:\tlearn: 0.0560487\ttotal: 254ms\tremaining: 375ms\n",
      "404:\tlearn: 0.0557247\ttotal: 254ms\tremaining: 374ms\n",
      "405:\tlearn: 0.0553106\ttotal: 260ms\tremaining: 380ms\n",
      "406:\tlearn: 0.0550947\ttotal: 260ms\tremaining: 379ms\n",
      "407:\tlearn: 0.0547641\ttotal: 261ms\tremaining: 378ms\n",
      "408:\tlearn: 0.0545834\ttotal: 261ms\tremaining: 377ms\n",
      "409:\tlearn: 0.0544184\ttotal: 262ms\tremaining: 376ms\n",
      "410:\tlearn: 0.0540275\ttotal: 262ms\tremaining: 376ms\n",
      "411:\tlearn: 0.0537786\ttotal: 263ms\tremaining: 375ms\n",
      "412:\tlearn: 0.0533866\ttotal: 263ms\tremaining: 374ms\n",
      "413:\tlearn: 0.0531602\ttotal: 263ms\tremaining: 373ms\n",
      "414:\tlearn: 0.0529527\ttotal: 264ms\tremaining: 371ms\n",
      "415:\tlearn: 0.0527374\ttotal: 264ms\tremaining: 370ms\n",
      "416:\tlearn: 0.0524510\ttotal: 264ms\tremaining: 369ms\n",
      "417:\tlearn: 0.0520489\ttotal: 264ms\tremaining: 368ms\n",
      "418:\tlearn: 0.0517633\ttotal: 265ms\tremaining: 367ms\n",
      "419:\tlearn: 0.0513548\ttotal: 265ms\tremaining: 366ms\n",
      "420:\tlearn: 0.0509552\ttotal: 265ms\tremaining: 365ms\n",
      "421:\tlearn: 0.0507408\ttotal: 266ms\tremaining: 364ms\n",
      "422:\tlearn: 0.0505609\ttotal: 266ms\tremaining: 363ms\n",
      "423:\tlearn: 0.0503834\ttotal: 266ms\tremaining: 362ms\n",
      "424:\tlearn: 0.0502083\ttotal: 267ms\tremaining: 361ms\n",
      "425:\tlearn: 0.0499767\ttotal: 267ms\tremaining: 360ms\n",
      "426:\tlearn: 0.0497496\ttotal: 267ms\tremaining: 359ms\n",
      "427:\tlearn: 0.0495819\ttotal: 268ms\tremaining: 358ms\n",
      "428:\tlearn: 0.0493616\ttotal: 268ms\tremaining: 357ms\n",
      "429:\tlearn: 0.0492733\ttotal: 268ms\tremaining: 356ms\n",
      "430:\tlearn: 0.0491860\ttotal: 269ms\tremaining: 355ms\n",
      "431:\tlearn: 0.0489688\ttotal: 269ms\tremaining: 354ms\n",
      "432:\tlearn: 0.0488078\ttotal: 269ms\tremaining: 353ms\n",
      "433:\tlearn: 0.0486490\ttotal: 270ms\tremaining: 352ms\n",
      "434:\tlearn: 0.0484406\ttotal: 271ms\tremaining: 351ms\n",
      "435:\tlearn: 0.0483572\ttotal: 271ms\tremaining: 350ms\n",
      "436:\tlearn: 0.0482746\ttotal: 271ms\tremaining: 350ms\n",
      "437:\tlearn: 0.0480636\ttotal: 272ms\tremaining: 349ms\n",
      "438:\tlearn: 0.0479112\ttotal: 273ms\tremaining: 348ms\n",
      "439:\tlearn: 0.0477044\ttotal: 273ms\tremaining: 347ms\n",
      "440:\tlearn: 0.0474776\ttotal: 273ms\tremaining: 347ms\n",
      "441:\tlearn: 0.0473983\ttotal: 274ms\tremaining: 346ms\n",
      "442:\tlearn: 0.0473198\ttotal: 275ms\tremaining: 345ms\n",
      "443:\tlearn: 0.0471147\ttotal: 275ms\tremaining: 344ms\n",
      "444:\tlearn: 0.0470372\ttotal: 276ms\tremaining: 344ms\n",
      "445:\tlearn: 0.0469607\ttotal: 276ms\tremaining: 343ms\n"
     ]
    },
    {
     "name": "stdout",
     "output_type": "stream",
     "text": [
      "446:\tlearn: 0.0467013\ttotal: 277ms\tremaining: 342ms\n",
      "447:\tlearn: 0.0465018\ttotal: 277ms\tremaining: 342ms\n",
      "448:\tlearn: 0.0461067\ttotal: 278ms\tremaining: 341ms\n",
      "449:\tlearn: 0.0457188\ttotal: 278ms\tremaining: 340ms\n",
      "450:\tlearn: 0.0455259\ttotal: 279ms\tremaining: 339ms\n",
      "451:\tlearn: 0.0453130\ttotal: 279ms\tremaining: 339ms\n",
      "452:\tlearn: 0.0452401\ttotal: 281ms\tremaining: 339ms\n",
      "453:\tlearn: 0.0451679\ttotal: 281ms\tremaining: 338ms\n",
      "454:\tlearn: 0.0450965\ttotal: 282ms\tremaining: 337ms\n",
      "455:\tlearn: 0.0447195\ttotal: 282ms\tremaining: 337ms\n",
      "456:\tlearn: 0.0445250\ttotal: 283ms\tremaining: 336ms\n",
      "457:\tlearn: 0.0444551\ttotal: 283ms\tremaining: 335ms\n",
      "458:\tlearn: 0.0440868\ttotal: 284ms\tremaining: 334ms\n",
      "459:\tlearn: 0.0437252\ttotal: 284ms\tremaining: 333ms\n",
      "460:\tlearn: 0.0435545\ttotal: 284ms\tremaining: 332ms\n",
      "461:\tlearn: 0.0434872\ttotal: 285ms\tremaining: 332ms\n",
      "462:\tlearn: 0.0431336\ttotal: 285ms\tremaining: 331ms\n",
      "463:\tlearn: 0.0428993\ttotal: 286ms\tremaining: 330ms\n",
      "464:\tlearn: 0.0427044\ttotal: 286ms\tremaining: 329ms\n",
      "465:\tlearn: 0.0426391\ttotal: 286ms\tremaining: 328ms\n",
      "466:\tlearn: 0.0425746\ttotal: 287ms\tremaining: 327ms\n",
      "467:\tlearn: 0.0425108\ttotal: 287ms\tremaining: 326ms\n",
      "468:\tlearn: 0.0422832\ttotal: 288ms\tremaining: 326ms\n",
      "469:\tlearn: 0.0420908\ttotal: 288ms\tremaining: 325ms\n",
      "470:\tlearn: 0.0417539\ttotal: 288ms\tremaining: 324ms\n",
      "471:\tlearn: 0.0415337\ttotal: 289ms\tremaining: 323ms\n",
      "472:\tlearn: 0.0413484\ttotal: 289ms\tremaining: 322ms\n",
      "473:\tlearn: 0.0412876\ttotal: 290ms\tremaining: 321ms\n",
      "474:\tlearn: 0.0412275\ttotal: 290ms\tremaining: 321ms\n",
      "475:\tlearn: 0.0411680\ttotal: 291ms\tremaining: 320ms\n",
      "476:\tlearn: 0.0408426\ttotal: 291ms\tremaining: 319ms\n",
      "477:\tlearn: 0.0406290\ttotal: 291ms\tremaining: 318ms\n",
      "478:\tlearn: 0.0404621\ttotal: 292ms\tremaining: 317ms\n",
      "479:\tlearn: 0.0404046\ttotal: 292ms\tremaining: 316ms\n",
      "480:\tlearn: 0.0400894\ttotal: 293ms\tremaining: 316ms\n",
      "481:\tlearn: 0.0398289\ttotal: 293ms\tremaining: 315ms\n",
      "482:\tlearn: 0.0396540\ttotal: 293ms\tremaining: 314ms\n",
      "483:\tlearn: 0.0393481\ttotal: 294ms\tremaining: 313ms\n",
      "484:\tlearn: 0.0391201\ttotal: 294ms\tremaining: 312ms\n",
      "485:\tlearn: 0.0388441\ttotal: 294ms\tremaining: 311ms\n",
      "486:\tlearn: 0.0387901\ttotal: 295ms\tremaining: 311ms\n",
      "487:\tlearn: 0.0386229\ttotal: 295ms\tremaining: 310ms\n",
      "488:\tlearn: 0.0385697\ttotal: 295ms\tremaining: 309ms\n",
      "489:\tlearn: 0.0385171\ttotal: 296ms\tremaining: 308ms\n",
      "490:\tlearn: 0.0381974\ttotal: 296ms\tremaining: 307ms\n",
      "491:\tlearn: 0.0381457\ttotal: 296ms\tremaining: 306ms\n",
      "492:\tlearn: 0.0378324\ttotal: 297ms\tremaining: 305ms\n"
     ]
    },
    {
     "name": "stdout",
     "output_type": "stream",
     "text": [
      "493:\tlearn: 0.0375251\ttotal: 297ms\tremaining: 305ms\n",
      "494:\tlearn: 0.0374073\ttotal: 298ms\tremaining: 304ms\n",
      "495:\tlearn: 0.0373571\ttotal: 298ms\tremaining: 303ms\n",
      "496:\tlearn: 0.0370568\ttotal: 299ms\tremaining: 302ms\n",
      "497:\tlearn: 0.0368612\ttotal: 299ms\tremaining: 301ms\n",
      "498:\tlearn: 0.0368121\ttotal: 299ms\tremaining: 300ms\n",
      "499:\tlearn: 0.0365630\ttotal: 300ms\tremaining: 300ms\n",
      "500:\tlearn: 0.0363201\ttotal: 300ms\tremaining: 299ms\n",
      "501:\tlearn: 0.0361873\ttotal: 300ms\tremaining: 298ms\n",
      "502:\tlearn: 0.0360761\ttotal: 301ms\tremaining: 297ms\n",
      "503:\tlearn: 0.0359466\ttotal: 301ms\tremaining: 296ms\n",
      "504:\tlearn: 0.0358998\ttotal: 301ms\tremaining: 295ms\n",
      "505:\tlearn: 0.0357729\ttotal: 302ms\tremaining: 295ms\n",
      "506:\tlearn: 0.0356281\ttotal: 302ms\tremaining: 294ms\n",
      "507:\tlearn: 0.0355152\ttotal: 302ms\tremaining: 293ms\n",
      "508:\tlearn: 0.0353797\ttotal: 303ms\tremaining: 292ms\n",
      "509:\tlearn: 0.0353278\ttotal: 303ms\tremaining: 291ms\n",
      "510:\tlearn: 0.0352828\ttotal: 304ms\tremaining: 290ms\n",
      "511:\tlearn: 0.0350173\ttotal: 304ms\tremaining: 290ms\n",
      "512:\tlearn: 0.0347567\ttotal: 308ms\tremaining: 293ms\n",
      "513:\tlearn: 0.0345204\ttotal: 312ms\tremaining: 295ms\n",
      "514:\tlearn: 0.0343270\ttotal: 312ms\tremaining: 294ms\n",
      "515:\tlearn: 0.0341889\ttotal: 313ms\tremaining: 293ms\n",
      "516:\tlearn: 0.0341460\ttotal: 313ms\tremaining: 292ms\n",
      "517:\tlearn: 0.0340188\ttotal: 313ms\tremaining: 292ms\n",
      "518:\tlearn: 0.0337681\ttotal: 314ms\tremaining: 291ms\n",
      "519:\tlearn: 0.0337262\ttotal: 314ms\tremaining: 290ms\n",
      "520:\tlearn: 0.0334806\ttotal: 315ms\tremaining: 289ms\n",
      "521:\tlearn: 0.0332535\ttotal: 315ms\tremaining: 288ms\n",
      "522:\tlearn: 0.0330945\ttotal: 315ms\tremaining: 288ms\n",
      "523:\tlearn: 0.0328749\ttotal: 316ms\tremaining: 287ms\n",
      "524:\tlearn: 0.0326557\ttotal: 316ms\tremaining: 286ms\n",
      "525:\tlearn: 0.0325432\ttotal: 316ms\tremaining: 285ms\n",
      "526:\tlearn: 0.0323096\ttotal: 317ms\tremaining: 284ms\n",
      "527:\tlearn: 0.0321322\ttotal: 317ms\tremaining: 283ms\n",
      "528:\tlearn: 0.0320037\ttotal: 317ms\tremaining: 283ms\n",
      "529:\tlearn: 0.0317650\ttotal: 318ms\tremaining: 282ms\n",
      "530:\tlearn: 0.0316149\ttotal: 318ms\tremaining: 281ms\n",
      "531:\tlearn: 0.0313904\ttotal: 318ms\tremaining: 280ms\n",
      "532:\tlearn: 0.0312846\ttotal: 319ms\tremaining: 279ms\n",
      "533:\tlearn: 0.0310652\ttotal: 319ms\tremaining: 278ms\n",
      "534:\tlearn: 0.0309791\ttotal: 319ms\tremaining: 278ms\n",
      "535:\tlearn: 0.0309414\ttotal: 320ms\tremaining: 277ms\n",
      "536:\tlearn: 0.0307245\ttotal: 320ms\tremaining: 276ms\n",
      "537:\tlearn: 0.0306250\ttotal: 321ms\tremaining: 275ms\n",
      "538:\tlearn: 0.0305109\ttotal: 321ms\tremaining: 274ms\n",
      "539:\tlearn: 0.0303188\ttotal: 321ms\tremaining: 274ms\n",
      "540:\tlearn: 0.0302071\ttotal: 322ms\tremaining: 273ms\n",
      "541:\tlearn: 0.0300136\ttotal: 322ms\tremaining: 272ms\n",
      "542:\tlearn: 0.0299316\ttotal: 322ms\tremaining: 271ms\n",
      "543:\tlearn: 0.0297602\ttotal: 323ms\tremaining: 270ms\n",
      "544:\tlearn: 0.0295542\ttotal: 323ms\tremaining: 270ms\n",
      "545:\tlearn: 0.0294532\ttotal: 323ms\tremaining: 269ms\n",
      "546:\tlearn: 0.0294178\ttotal: 324ms\tremaining: 268ms\n",
      "547:\tlearn: 0.0292516\ttotal: 324ms\tremaining: 267ms\n",
      "548:\tlearn: 0.0290504\ttotal: 324ms\tremaining: 266ms\n",
      "549:\tlearn: 0.0288499\ttotal: 325ms\tremaining: 266ms\n",
      "550:\tlearn: 0.0287576\ttotal: 325ms\tremaining: 265ms\n",
      "551:\tlearn: 0.0287233\ttotal: 325ms\tremaining: 264ms\n",
      "552:\tlearn: 0.0286119\ttotal: 325ms\tremaining: 263ms\n",
      "553:\tlearn: 0.0285780\ttotal: 326ms\tremaining: 262ms\n",
      "554:\tlearn: 0.0284004\ttotal: 326ms\tremaining: 262ms\n",
      "555:\tlearn: 0.0283109\ttotal: 327ms\tremaining: 261ms\n",
      "556:\tlearn: 0.0281189\ttotal: 327ms\tremaining: 260ms\n",
      "557:\tlearn: 0.0279281\ttotal: 327ms\tremaining: 259ms\n",
      "558:\tlearn: 0.0278409\ttotal: 327ms\tremaining: 258ms\n",
      "559:\tlearn: 0.0276526\ttotal: 328ms\tremaining: 258ms\n",
      "560:\tlearn: 0.0275092\ttotal: 328ms\tremaining: 257ms\n",
      "561:\tlearn: 0.0273684\ttotal: 328ms\tremaining: 256ms\n",
      "562:\tlearn: 0.0272304\ttotal: 329ms\tremaining: 255ms\n",
      "563:\tlearn: 0.0270703\ttotal: 329ms\tremaining: 254ms\n",
      "564:\tlearn: 0.0269318\ttotal: 329ms\tremaining: 254ms\n",
      "565:\tlearn: 0.0267827\ttotal: 330ms\tremaining: 253ms\n",
      "566:\tlearn: 0.0266481\ttotal: 330ms\tremaining: 252ms\n",
      "567:\tlearn: 0.0264950\ttotal: 330ms\tremaining: 251ms\n",
      "568:\tlearn: 0.0263308\ttotal: 331ms\tremaining: 251ms\n",
      "569:\tlearn: 0.0261565\ttotal: 331ms\tremaining: 250ms\n",
      "570:\tlearn: 0.0259850\ttotal: 332ms\tremaining: 249ms\n",
      "571:\tlearn: 0.0259048\ttotal: 332ms\tremaining: 248ms\n",
      "572:\tlearn: 0.0258048\ttotal: 332ms\tremaining: 248ms\n",
      "573:\tlearn: 0.0257263\ttotal: 333ms\tremaining: 247ms\n",
      "574:\tlearn: 0.0256243\ttotal: 333ms\tremaining: 246ms\n",
      "575:\tlearn: 0.0255476\ttotal: 333ms\tremaining: 245ms\n",
      "576:\tlearn: 0.0254496\ttotal: 334ms\tremaining: 245ms\n",
      "577:\tlearn: 0.0254199\ttotal: 334ms\tremaining: 244ms\n",
      "578:\tlearn: 0.0253236\ttotal: 334ms\tremaining: 243ms\n",
      "579:\tlearn: 0.0252585\ttotal: 334ms\tremaining: 242ms\n",
      "580:\tlearn: 0.0250848\ttotal: 335ms\tremaining: 241ms\n",
      "581:\tlearn: 0.0249908\ttotal: 335ms\tremaining: 241ms\n",
      "582:\tlearn: 0.0249573\ttotal: 335ms\tremaining: 240ms\n",
      "583:\tlearn: 0.0248601\ttotal: 336ms\tremaining: 239ms\n",
      "584:\tlearn: 0.0247799\ttotal: 336ms\tremaining: 238ms\n",
      "585:\tlearn: 0.0246117\ttotal: 336ms\tremaining: 238ms\n",
      "586:\tlearn: 0.0245387\ttotal: 337ms\tremaining: 237ms\n",
      "587:\tlearn: 0.0244668\ttotal: 337ms\tremaining: 236ms\n",
      "588:\tlearn: 0.0243895\ttotal: 337ms\tremaining: 235ms\n",
      "589:\tlearn: 0.0243547\ttotal: 338ms\tremaining: 235ms\n",
      "590:\tlearn: 0.0241794\ttotal: 338ms\tremaining: 234ms\n",
      "591:\tlearn: 0.0241477\ttotal: 339ms\tremaining: 233ms\n",
      "592:\tlearn: 0.0240627\ttotal: 339ms\tremaining: 233ms\n",
      "593:\tlearn: 0.0239017\ttotal: 340ms\tremaining: 232ms\n",
      "594:\tlearn: 0.0238185\ttotal: 340ms\tremaining: 232ms\n",
      "595:\tlearn: 0.0237366\ttotal: 341ms\tremaining: 231ms\n",
      "596:\tlearn: 0.0235888\ttotal: 341ms\tremaining: 230ms\n",
      "597:\tlearn: 0.0234327\ttotal: 342ms\tremaining: 230ms\n",
      "598:\tlearn: 0.0233253\ttotal: 342ms\tremaining: 229ms\n",
      "599:\tlearn: 0.0232206\ttotal: 343ms\tremaining: 228ms\n",
      "600:\tlearn: 0.0231185\ttotal: 343ms\tremaining: 228ms\n",
      "601:\tlearn: 0.0229762\ttotal: 344ms\tremaining: 227ms\n",
      "602:\tlearn: 0.0229123\ttotal: 344ms\tremaining: 227ms\n",
      "603:\tlearn: 0.0227724\ttotal: 345ms\tremaining: 226ms\n",
      "604:\tlearn: 0.0227099\ttotal: 345ms\tremaining: 225ms\n",
      "605:\tlearn: 0.0226486\ttotal: 346ms\tremaining: 225ms\n",
      "606:\tlearn: 0.0224943\ttotal: 346ms\tremaining: 224ms\n",
      "607:\tlearn: 0.0223585\ttotal: 347ms\tremaining: 224ms\n",
      "608:\tlearn: 0.0222917\ttotal: 347ms\tremaining: 223ms\n",
      "609:\tlearn: 0.0222322\ttotal: 348ms\tremaining: 222ms\n",
      "610:\tlearn: 0.0221666\ttotal: 348ms\tremaining: 222ms\n",
      "611:\tlearn: 0.0220533\ttotal: 348ms\tremaining: 221ms\n",
      "612:\tlearn: 0.0219053\ttotal: 349ms\tremaining: 220ms\n",
      "613:\tlearn: 0.0217913\ttotal: 349ms\tremaining: 220ms\n",
      "614:\tlearn: 0.0216405\ttotal: 350ms\tremaining: 219ms\n",
      "615:\tlearn: 0.0214921\ttotal: 350ms\tremaining: 218ms\n",
      "616:\tlearn: 0.0213537\ttotal: 351ms\tremaining: 218ms\n",
      "617:\tlearn: 0.0212470\ttotal: 351ms\tremaining: 217ms\n",
      "618:\tlearn: 0.0211212\ttotal: 352ms\tremaining: 217ms\n",
      "619:\tlearn: 0.0209972\ttotal: 352ms\tremaining: 216ms\n",
      "620:\tlearn: 0.0208933\ttotal: 353ms\tremaining: 215ms\n",
      "621:\tlearn: 0.0207714\ttotal: 353ms\tremaining: 215ms\n",
      "622:\tlearn: 0.0206699\ttotal: 354ms\tremaining: 214ms\n",
      "623:\tlearn: 0.0205500\ttotal: 355ms\tremaining: 214ms\n",
      "624:\tlearn: 0.0204161\ttotal: 355ms\tremaining: 213ms\n",
      "625:\tlearn: 0.0203172\ttotal: 356ms\tremaining: 212ms\n",
      "626:\tlearn: 0.0202168\ttotal: 356ms\tremaining: 212ms\n",
      "627:\tlearn: 0.0201404\ttotal: 357ms\tremaining: 211ms\n",
      "628:\tlearn: 0.0200474\ttotal: 357ms\tremaining: 211ms\n",
      "629:\tlearn: 0.0199623\ttotal: 358ms\tremaining: 210ms\n",
      "630:\tlearn: 0.0198792\ttotal: 358ms\tremaining: 209ms\n",
      "631:\tlearn: 0.0197538\ttotal: 359ms\tremaining: 209ms\n",
      "632:\tlearn: 0.0196586\ttotal: 359ms\tremaining: 208ms\n",
      "633:\tlearn: 0.0195625\ttotal: 360ms\tremaining: 208ms\n",
      "634:\tlearn: 0.0194341\ttotal: 360ms\tremaining: 207ms\n",
      "635:\tlearn: 0.0193428\ttotal: 361ms\tremaining: 207ms\n",
      "636:\tlearn: 0.0192190\ttotal: 361ms\tremaining: 206ms\n",
      "637:\tlearn: 0.0191342\ttotal: 362ms\tremaining: 205ms\n",
      "638:\tlearn: 0.0190133\ttotal: 362ms\tremaining: 205ms\n",
      "639:\tlearn: 0.0188906\ttotal: 363ms\tremaining: 204ms\n",
      "640:\tlearn: 0.0188032\ttotal: 363ms\tremaining: 203ms\n",
      "641:\tlearn: 0.0186861\ttotal: 364ms\tremaining: 203ms\n",
      "642:\tlearn: 0.0186016\ttotal: 364ms\tremaining: 202ms\n",
      "643:\tlearn: 0.0185263\ttotal: 365ms\tremaining: 202ms\n",
      "644:\tlearn: 0.0184502\ttotal: 365ms\tremaining: 201ms\n",
      "645:\tlearn: 0.0183439\ttotal: 373ms\tremaining: 204ms\n",
      "646:\tlearn: 0.0182701\ttotal: 373ms\tremaining: 204ms\n",
      "647:\tlearn: 0.0181588\ttotal: 374ms\tremaining: 203ms\n",
      "648:\tlearn: 0.0180442\ttotal: 374ms\tremaining: 202ms\n",
      "649:\tlearn: 0.0179571\ttotal: 374ms\tremaining: 202ms\n",
      "650:\tlearn: 0.0178946\ttotal: 375ms\tremaining: 201ms\n",
      "651:\tlearn: 0.0178291\ttotal: 375ms\tremaining: 200ms\n",
      "652:\tlearn: 0.0177232\ttotal: 376ms\tremaining: 200ms\n",
      "653:\tlearn: 0.0176149\ttotal: 376ms\tremaining: 199ms\n",
      "654:\tlearn: 0.0175549\ttotal: 377ms\tremaining: 198ms\n",
      "655:\tlearn: 0.0174877\ttotal: 377ms\tremaining: 198ms\n",
      "656:\tlearn: 0.0173859\ttotal: 378ms\tremaining: 197ms\n",
      "657:\tlearn: 0.0173058\ttotal: 378ms\tremaining: 197ms\n",
      "658:\tlearn: 0.0172018\ttotal: 378ms\tremaining: 196ms\n",
      "659:\tlearn: 0.0171446\ttotal: 379ms\tremaining: 195ms\n",
      "660:\tlearn: 0.0170608\ttotal: 379ms\tremaining: 195ms\n",
      "661:\tlearn: 0.0169788\ttotal: 380ms\tremaining: 194ms\n",
      "662:\tlearn: 0.0169236\ttotal: 380ms\tremaining: 193ms\n",
      "663:\tlearn: 0.0168270\ttotal: 381ms\tremaining: 193ms\n",
      "664:\tlearn: 0.0167735\ttotal: 381ms\tremaining: 192ms\n",
      "665:\tlearn: 0.0166842\ttotal: 382ms\tremaining: 192ms\n",
      "666:\tlearn: 0.0165959\ttotal: 382ms\tremaining: 191ms\n",
      "667:\tlearn: 0.0165125\ttotal: 383ms\tremaining: 190ms\n",
      "668:\tlearn: 0.0163990\ttotal: 383ms\tremaining: 190ms\n",
      "669:\tlearn: 0.0163181\ttotal: 384ms\tremaining: 189ms\n",
      "670:\tlearn: 0.0162324\ttotal: 384ms\tremaining: 189ms\n",
      "671:\tlearn: 0.0161538\ttotal: 385ms\tremaining: 188ms\n",
      "672:\tlearn: 0.0160441\ttotal: 385ms\tremaining: 187ms\n",
      "673:\tlearn: 0.0159752\ttotal: 386ms\tremaining: 187ms\n",
      "674:\tlearn: 0.0158763\ttotal: 386ms\tremaining: 186ms\n",
      "675:\tlearn: 0.0158092\ttotal: 387ms\tremaining: 185ms\n",
      "676:\tlearn: 0.0157124\ttotal: 387ms\tremaining: 185ms\n",
      "677:\tlearn: 0.0156470\ttotal: 388ms\tremaining: 184ms\n",
      "678:\tlearn: 0.0155662\ttotal: 388ms\tremaining: 184ms\n",
      "679:\tlearn: 0.0155029\ttotal: 389ms\tremaining: 183ms\n",
      "680:\tlearn: 0.0154185\ttotal: 389ms\tremaining: 182ms\n",
      "681:\tlearn: 0.0153565\ttotal: 390ms\tremaining: 182ms\n",
      "682:\tlearn: 0.0152736\ttotal: 390ms\tremaining: 181ms\n",
      "683:\tlearn: 0.0152131\ttotal: 391ms\tremaining: 181ms\n",
      "684:\tlearn: 0.0151316\ttotal: 391ms\tremaining: 180ms\n",
      "685:\tlearn: 0.0150725\ttotal: 391ms\tremaining: 179ms\n",
      "686:\tlearn: 0.0149819\ttotal: 392ms\tremaining: 179ms\n",
      "687:\tlearn: 0.0149244\ttotal: 392ms\tremaining: 178ms\n",
      "688:\tlearn: 0.0148450\ttotal: 393ms\tremaining: 177ms\n",
      "689:\tlearn: 0.0148045\ttotal: 393ms\tremaining: 177ms\n",
      "690:\tlearn: 0.0147266\ttotal: 393ms\tremaining: 176ms\n",
      "691:\tlearn: 0.0146678\ttotal: 394ms\tremaining: 175ms\n",
      "692:\tlearn: 0.0145814\ttotal: 404ms\tremaining: 179ms\n",
      "693:\tlearn: 0.0145433\ttotal: 404ms\tremaining: 178ms\n",
      "694:\tlearn: 0.0144562\ttotal: 405ms\tremaining: 178ms\n",
      "695:\tlearn: 0.0143733\ttotal: 405ms\tremaining: 177ms\n",
      "696:\tlearn: 0.0142648\ttotal: 406ms\tremaining: 176ms\n",
      "697:\tlearn: 0.0141656\ttotal: 406ms\tremaining: 176ms\n"
     ]
    },
    {
     "name": "stdout",
     "output_type": "stream",
     "text": [
      "698:\tlearn: 0.0140778\ttotal: 406ms\tremaining: 175ms\n",
      "699:\tlearn: 0.0140233\ttotal: 407ms\tremaining: 174ms\n",
      "700:\tlearn: 0.0139898\ttotal: 407ms\tremaining: 174ms\n",
      "701:\tlearn: 0.0138897\ttotal: 408ms\tremaining: 173ms\n",
      "702:\tlearn: 0.0138500\ttotal: 408ms\tremaining: 172ms\n",
      "703:\tlearn: 0.0138100\ttotal: 410ms\tremaining: 172ms\n",
      "704:\tlearn: 0.0137391\ttotal: 410ms\tremaining: 172ms\n",
      "705:\tlearn: 0.0136610\ttotal: 411ms\tremaining: 171ms\n",
      "706:\tlearn: 0.0135793\ttotal: 411ms\tremaining: 170ms\n",
      "707:\tlearn: 0.0134807\ttotal: 411ms\tremaining: 170ms\n",
      "708:\tlearn: 0.0133998\ttotal: 412ms\tremaining: 169ms\n",
      "709:\tlearn: 0.0133318\ttotal: 412ms\tremaining: 168ms\n",
      "710:\tlearn: 0.0132378\ttotal: 412ms\tremaining: 168ms\n",
      "711:\tlearn: 0.0131872\ttotal: 413ms\tremaining: 167ms\n",
      "712:\tlearn: 0.0131500\ttotal: 413ms\tremaining: 166ms\n",
      "713:\tlearn: 0.0130712\ttotal: 414ms\tremaining: 166ms\n",
      "714:\tlearn: 0.0129947\ttotal: 414ms\tremaining: 165ms\n",
      "715:\tlearn: 0.0129456\ttotal: 414ms\tremaining: 164ms\n",
      "716:\tlearn: 0.0128696\ttotal: 415ms\tremaining: 164ms\n",
      "717:\tlearn: 0.0128341\ttotal: 416ms\tremaining: 163ms\n",
      "718:\tlearn: 0.0127583\ttotal: 416ms\tremaining: 163ms\n",
      "719:\tlearn: 0.0127237\ttotal: 416ms\tremaining: 162ms\n",
      "720:\tlearn: 0.0126531\ttotal: 417ms\tremaining: 161ms\n",
      "721:\tlearn: 0.0125815\ttotal: 417ms\tremaining: 161ms\n",
      "722:\tlearn: 0.0125129\ttotal: 417ms\tremaining: 160ms\n",
      "723:\tlearn: 0.0124269\ttotal: 418ms\tremaining: 159ms\n",
      "724:\tlearn: 0.0123755\ttotal: 418ms\tremaining: 159ms\n",
      "725:\tlearn: 0.0123137\ttotal: 418ms\tremaining: 158ms\n",
      "726:\tlearn: 0.0122437\ttotal: 419ms\tremaining: 157ms\n",
      "727:\tlearn: 0.0122151\ttotal: 420ms\tremaining: 157ms\n",
      "728:\tlearn: 0.0121330\ttotal: 420ms\tremaining: 156ms\n",
      "729:\tlearn: 0.0120704\ttotal: 420ms\tremaining: 156ms\n",
      "730:\tlearn: 0.0120210\ttotal: 421ms\tremaining: 155ms\n",
      "731:\tlearn: 0.0119887\ttotal: 423ms\tremaining: 155ms\n",
      "732:\tlearn: 0.0119272\ttotal: 424ms\tremaining: 154ms\n",
      "733:\tlearn: 0.0118517\ttotal: 424ms\tremaining: 154ms\n",
      "734:\tlearn: 0.0117933\ttotal: 425ms\tremaining: 153ms\n",
      "735:\tlearn: 0.0117584\ttotal: 425ms\tremaining: 152ms\n",
      "736:\tlearn: 0.0116852\ttotal: 426ms\tremaining: 152ms\n",
      "737:\tlearn: 0.0116078\ttotal: 426ms\tremaining: 151ms\n",
      "738:\tlearn: 0.0115492\ttotal: 427ms\tremaining: 151ms\n",
      "739:\tlearn: 0.0115019\ttotal: 427ms\tremaining: 150ms\n",
      "740:\tlearn: 0.0114458\ttotal: 428ms\tremaining: 149ms\n",
      "741:\tlearn: 0.0114124\ttotal: 428ms\tremaining: 149ms\n",
      "742:\tlearn: 0.0113795\ttotal: 428ms\tremaining: 148ms\n",
      "743:\tlearn: 0.0113205\ttotal: 429ms\tremaining: 148ms\n",
      "744:\tlearn: 0.0112917\ttotal: 429ms\tremaining: 147ms\n",
      "745:\tlearn: 0.0112340\ttotal: 429ms\tremaining: 146ms\n",
      "746:\tlearn: 0.0111777\ttotal: 430ms\tremaining: 146ms\n",
      "747:\tlearn: 0.0111495\ttotal: 430ms\tremaining: 145ms\n",
      "748:\tlearn: 0.0111224\ttotal: 431ms\tremaining: 144ms\n",
      "749:\tlearn: 0.0110939\ttotal: 432ms\tremaining: 144ms\n",
      "750:\tlearn: 0.0110661\ttotal: 432ms\tremaining: 143ms\n",
      "751:\tlearn: 0.0110396\ttotal: 433ms\tremaining: 143ms\n",
      "752:\tlearn: 0.0109802\ttotal: 433ms\tremaining: 142ms\n",
      "753:\tlearn: 0.0109155\ttotal: 434ms\tremaining: 141ms\n",
      "754:\tlearn: 0.0108559\ttotal: 434ms\tremaining: 141ms\n",
      "755:\tlearn: 0.0108021\ttotal: 436ms\tremaining: 141ms\n",
      "756:\tlearn: 0.0107759\ttotal: 436ms\tremaining: 140ms\n",
      "757:\tlearn: 0.0107502\ttotal: 436ms\tremaining: 139ms\n",
      "758:\tlearn: 0.0106976\ttotal: 436ms\tremaining: 139ms\n",
      "759:\tlearn: 0.0106710\ttotal: 437ms\tremaining: 138ms\n",
      "760:\tlearn: 0.0106454\ttotal: 437ms\tremaining: 137ms\n",
      "761:\tlearn: 0.0106195\ttotal: 437ms\tremaining: 137ms\n",
      "762:\tlearn: 0.0105679\ttotal: 437ms\tremaining: 136ms\n",
      "763:\tlearn: 0.0105420\ttotal: 438ms\tremaining: 135ms\n",
      "764:\tlearn: 0.0104875\ttotal: 438ms\tremaining: 135ms\n",
      "765:\tlearn: 0.0104627\ttotal: 438ms\tremaining: 134ms\n",
      "766:\tlearn: 0.0104409\ttotal: 439ms\tremaining: 133ms\n",
      "767:\tlearn: 0.0104157\ttotal: 439ms\tremaining: 133ms\n",
      "768:\tlearn: 0.0103656\ttotal: 439ms\tremaining: 132ms\n",
      "769:\tlearn: 0.0103415\ttotal: 440ms\tremaining: 131ms\n",
      "770:\tlearn: 0.0103201\ttotal: 440ms\tremaining: 131ms\n",
      "771:\tlearn: 0.0102676\ttotal: 440ms\tremaining: 130ms\n",
      "772:\tlearn: 0.0102432\ttotal: 441ms\tremaining: 129ms\n",
      "773:\tlearn: 0.0101924\ttotal: 441ms\tremaining: 129ms\n",
      "774:\tlearn: 0.0101690\ttotal: 441ms\tremaining: 128ms\n",
      "775:\tlearn: 0.0101447\ttotal: 442ms\tremaining: 127ms\n",
      "776:\tlearn: 0.0100963\ttotal: 442ms\tremaining: 127ms\n",
      "777:\tlearn: 0.0100762\ttotal: 443ms\tremaining: 126ms\n",
      "778:\tlearn: 0.0100527\ttotal: 443ms\tremaining: 126ms\n",
      "779:\tlearn: 0.0100289\ttotal: 443ms\tremaining: 125ms\n",
      "780:\tlearn: 0.0100035\ttotal: 444ms\tremaining: 125ms\n",
      "781:\tlearn: 0.0099839\ttotal: 445ms\tremaining: 124ms\n",
      "782:\tlearn: 0.0099719\ttotal: 445ms\tremaining: 123ms\n",
      "783:\tlearn: 0.0099147\ttotal: 445ms\tremaining: 123ms\n",
      "784:\tlearn: 0.0098675\ttotal: 446ms\tremaining: 122ms\n",
      "785:\tlearn: 0.0098454\ttotal: 446ms\tremaining: 121ms\n",
      "786:\tlearn: 0.0098262\ttotal: 446ms\tremaining: 121ms\n",
      "787:\tlearn: 0.0098045\ttotal: 447ms\tremaining: 120ms\n",
      "788:\tlearn: 0.0097929\ttotal: 447ms\tremaining: 120ms\n",
      "789:\tlearn: 0.0097410\ttotal: 447ms\tremaining: 119ms\n",
      "790:\tlearn: 0.0096884\ttotal: 448ms\tremaining: 118ms\n",
      "791:\tlearn: 0.0096553\ttotal: 448ms\tremaining: 118ms\n",
      "792:\tlearn: 0.0096343\ttotal: 448ms\tremaining: 117ms\n",
      "793:\tlearn: 0.0096019\ttotal: 449ms\tremaining: 116ms\n",
      "794:\tlearn: 0.0095813\ttotal: 449ms\tremaining: 116ms\n",
      "795:\tlearn: 0.0095739\ttotal: 449ms\tremaining: 115ms\n",
      "796:\tlearn: 0.0095328\ttotal: 450ms\tremaining: 115ms\n",
      "797:\tlearn: 0.0094852\ttotal: 450ms\tremaining: 114ms\n",
      "798:\tlearn: 0.0094431\ttotal: 450ms\tremaining: 113ms\n",
      "799:\tlearn: 0.0094207\ttotal: 450ms\tremaining: 113ms\n",
      "800:\tlearn: 0.0094135\ttotal: 451ms\tremaining: 112ms\n",
      "801:\tlearn: 0.0093882\ttotal: 451ms\tremaining: 111ms\n",
      "802:\tlearn: 0.0093811\ttotal: 451ms\tremaining: 111ms\n",
      "803:\tlearn: 0.0093359\ttotal: 452ms\tremaining: 110ms\n",
      "804:\tlearn: 0.0093111\ttotal: 452ms\tremaining: 109ms\n",
      "805:\tlearn: 0.0092867\ttotal: 452ms\tremaining: 109ms\n",
      "806:\tlearn: 0.0092758\ttotal: 453ms\tremaining: 108ms\n",
      "807:\tlearn: 0.0092239\ttotal: 453ms\tremaining: 108ms\n",
      "808:\tlearn: 0.0091840\ttotal: 453ms\tremaining: 107ms\n",
      "809:\tlearn: 0.0091738\ttotal: 453ms\tremaining: 106ms\n",
      "810:\tlearn: 0.0091501\ttotal: 454ms\tremaining: 106ms\n",
      "811:\tlearn: 0.0091024\ttotal: 454ms\tremaining: 105ms\n",
      "812:\tlearn: 0.0090925\ttotal: 455ms\tremaining: 105ms\n",
      "813:\tlearn: 0.0090543\ttotal: 455ms\tremaining: 104ms\n",
      "814:\tlearn: 0.0090045\ttotal: 456ms\tremaining: 103ms\n",
      "815:\tlearn: 0.0089657\ttotal: 456ms\tremaining: 103ms\n",
      "816:\tlearn: 0.0089285\ttotal: 457ms\tremaining: 102ms\n",
      "817:\tlearn: 0.0088898\ttotal: 457ms\tremaining: 102ms\n",
      "818:\tlearn: 0.0088443\ttotal: 458ms\tremaining: 101ms\n",
      "819:\tlearn: 0.0088064\ttotal: 458ms\tremaining: 101ms\n",
      "820:\tlearn: 0.0087702\ttotal: 459ms\tremaining: 100ms\n",
      "821:\tlearn: 0.0087329\ttotal: 459ms\tremaining: 99.4ms\n",
      "822:\tlearn: 0.0086887\ttotal: 460ms\tremaining: 98.8ms\n",
      "823:\tlearn: 0.0086516\ttotal: 460ms\tremaining: 98.3ms\n",
      "824:\tlearn: 0.0086155\ttotal: 461ms\tremaining: 97.7ms\n",
      "825:\tlearn: 0.0085694\ttotal: 461ms\tremaining: 97.1ms\n",
      "826:\tlearn: 0.0085185\ttotal: 461ms\tremaining: 96.5ms\n",
      "827:\tlearn: 0.0084778\ttotal: 462ms\tremaining: 96ms\n",
      "828:\tlearn: 0.0084354\ttotal: 462ms\tremaining: 95.4ms\n",
      "829:\tlearn: 0.0084008\ttotal: 463ms\tremaining: 94.8ms\n",
      "830:\tlearn: 0.0083517\ttotal: 463ms\tremaining: 94.3ms\n",
      "831:\tlearn: 0.0083180\ttotal: 464ms\tremaining: 93.7ms\n",
      "832:\tlearn: 0.0082700\ttotal: 464ms\tremaining: 93.1ms\n",
      "833:\tlearn: 0.0082210\ttotal: 465ms\tremaining: 92.7ms\n",
      "834:\tlearn: 0.0081928\ttotal: 466ms\tremaining: 92.1ms\n",
      "835:\tlearn: 0.0081547\ttotal: 466ms\tremaining: 91.5ms\n",
      "836:\tlearn: 0.0081221\ttotal: 467ms\tremaining: 90.9ms\n",
      "837:\tlearn: 0.0080762\ttotal: 468ms\tremaining: 90.4ms\n",
      "838:\tlearn: 0.0080492\ttotal: 468ms\tremaining: 89.8ms\n",
      "839:\tlearn: 0.0080174\ttotal: 469ms\tremaining: 89.3ms\n",
      "840:\tlearn: 0.0080032\ttotal: 469ms\tremaining: 88.7ms\n",
      "841:\tlearn: 0.0079949\ttotal: 470ms\tremaining: 88.1ms\n",
      "842:\tlearn: 0.0079497\ttotal: 470ms\tremaining: 87.6ms\n",
      "843:\tlearn: 0.0079035\ttotal: 471ms\tremaining: 87ms\n",
      "844:\tlearn: 0.0078596\ttotal: 471ms\tremaining: 86.5ms\n",
      "845:\tlearn: 0.0078108\ttotal: 472ms\tremaining: 85.9ms\n",
      "846:\tlearn: 0.0077651\ttotal: 472ms\tremaining: 85.3ms\n",
      "847:\tlearn: 0.0077163\ttotal: 473ms\tremaining: 84.7ms\n",
      "848:\tlearn: 0.0076911\ttotal: 473ms\tremaining: 84.1ms\n",
      "849:\tlearn: 0.0076664\ttotal: 474ms\tremaining: 83.6ms\n",
      "850:\tlearn: 0.0076524\ttotal: 474ms\tremaining: 83ms\n",
      "851:\tlearn: 0.0076387\ttotal: 474ms\tremaining: 82.4ms\n",
      "852:\tlearn: 0.0076263\ttotal: 475ms\tremaining: 81.8ms\n",
      "853:\tlearn: 0.0075967\ttotal: 475ms\tremaining: 81.3ms\n",
      "854:\tlearn: 0.0075847\ttotal: 476ms\tremaining: 80.7ms\n",
      "855:\tlearn: 0.0075713\ttotal: 476ms\tremaining: 80.1ms\n",
      "856:\tlearn: 0.0075596\ttotal: 477ms\tremaining: 79.6ms\n",
      "857:\tlearn: 0.0075311\ttotal: 477ms\tremaining: 79ms\n",
      "858:\tlearn: 0.0075263\ttotal: 478ms\tremaining: 78.4ms\n",
      "859:\tlearn: 0.0074795\ttotal: 478ms\tremaining: 77.9ms\n",
      "860:\tlearn: 0.0074721\ttotal: 479ms\tremaining: 77.3ms\n",
      "861:\tlearn: 0.0074649\ttotal: 479ms\tremaining: 76.7ms\n",
      "862:\tlearn: 0.0074577\ttotal: 480ms\tremaining: 76.2ms\n",
      "863:\tlearn: 0.0074117\ttotal: 480ms\tremaining: 75.6ms\n",
      "864:\tlearn: 0.0073843\ttotal: 481ms\tremaining: 75ms\n"
     ]
    },
    {
     "name": "stdout",
     "output_type": "stream",
     "text": [
      "865:\tlearn: 0.0073392\ttotal: 481ms\tremaining: 74.5ms\n",
      "866:\tlearn: 0.0073322\ttotal: 482ms\tremaining: 73.9ms\n",
      "867:\tlearn: 0.0073213\ttotal: 482ms\tremaining: 73.4ms\n",
      "868:\tlearn: 0.0073144\ttotal: 483ms\tremaining: 72.8ms\n",
      "869:\tlearn: 0.0073025\ttotal: 483ms\tremaining: 72.2ms\n",
      "870:\tlearn: 0.0072908\ttotal: 484ms\tremaining: 71.6ms\n",
      "871:\tlearn: 0.0072525\ttotal: 484ms\tremaining: 71.1ms\n",
      "872:\tlearn: 0.0072264\ttotal: 485ms\tremaining: 70.5ms\n",
      "873:\tlearn: 0.0071851\ttotal: 485ms\tremaining: 69.9ms\n",
      "874:\tlearn: 0.0071350\ttotal: 486ms\tremaining: 69.4ms\n",
      "875:\tlearn: 0.0070980\ttotal: 486ms\tremaining: 68.8ms\n",
      "876:\tlearn: 0.0070784\ttotal: 487ms\tremaining: 68.3ms\n",
      "877:\tlearn: 0.0070531\ttotal: 487ms\tremaining: 67.7ms\n",
      "878:\tlearn: 0.0070172\ttotal: 488ms\tremaining: 67.2ms\n",
      "879:\tlearn: 0.0069927\ttotal: 488ms\tremaining: 66.6ms\n",
      "880:\tlearn: 0.0069505\ttotal: 494ms\tremaining: 66.8ms\n",
      "881:\tlearn: 0.0069156\ttotal: 495ms\tremaining: 66.2ms\n",
      "882:\tlearn: 0.0068970\ttotal: 495ms\tremaining: 65.6ms\n",
      "883:\tlearn: 0.0068851\ttotal: 496ms\tremaining: 65ms\n",
      "884:\tlearn: 0.0068510\ttotal: 496ms\tremaining: 64.5ms\n",
      "885:\tlearn: 0.0068277\ttotal: 497ms\tremaining: 63.9ms\n",
      "886:\tlearn: 0.0067896\ttotal: 497ms\tremaining: 63.3ms\n",
      "887:\tlearn: 0.0067717\ttotal: 497ms\tremaining: 62.7ms\n",
      "888:\tlearn: 0.0067388\ttotal: 498ms\tremaining: 62.2ms\n",
      "889:\tlearn: 0.0067160\ttotal: 498ms\tremaining: 61.6ms\n",
      "890:\tlearn: 0.0066707\ttotal: 499ms\tremaining: 61ms\n",
      "891:\tlearn: 0.0066290\ttotal: 499ms\tremaining: 60.5ms\n",
      "892:\tlearn: 0.0066249\ttotal: 500ms\tremaining: 59.9ms\n",
      "893:\tlearn: 0.0066209\ttotal: 500ms\tremaining: 59.3ms\n",
      "894:\tlearn: 0.0065811\ttotal: 501ms\tremaining: 58.8ms\n",
      "895:\tlearn: 0.0065772\ttotal: 501ms\tremaining: 58.2ms\n",
      "896:\tlearn: 0.0065733\ttotal: 502ms\tremaining: 57.6ms\n",
      "897:\tlearn: 0.0065674\ttotal: 502ms\tremaining: 57.1ms\n",
      "898:\tlearn: 0.0065239\ttotal: 503ms\tremaining: 56.5ms\n",
      "899:\tlearn: 0.0064854\ttotal: 503ms\tremaining: 55.9ms\n",
      "900:\tlearn: 0.0064797\ttotal: 504ms\tremaining: 55.4ms\n",
      "901:\tlearn: 0.0064740\ttotal: 504ms\tremaining: 54.8ms\n",
      "902:\tlearn: 0.0064685\ttotal: 505ms\tremaining: 54.2ms\n",
      "903:\tlearn: 0.0064310\ttotal: 505ms\tremaining: 53.7ms\n",
      "904:\tlearn: 0.0064255\ttotal: 506ms\tremaining: 53.1ms\n",
      "905:\tlearn: 0.0064201\ttotal: 506ms\tremaining: 52.5ms\n",
      "906:\tlearn: 0.0063781\ttotal: 506ms\tremaining: 51.9ms\n",
      "907:\tlearn: 0.0063433\ttotal: 507ms\tremaining: 51.4ms\n",
      "908:\tlearn: 0.0063091\ttotal: 507ms\tremaining: 50.8ms\n",
      "909:\tlearn: 0.0063038\ttotal: 508ms\tremaining: 50.2ms\n",
      "910:\tlearn: 0.0062947\ttotal: 508ms\tremaining: 49.7ms\n",
      "911:\tlearn: 0.0062895\ttotal: 509ms\tremaining: 49.1ms\n",
      "912:\tlearn: 0.0062539\ttotal: 509ms\tremaining: 48.5ms\n",
      "913:\tlearn: 0.0062488\ttotal: 510ms\tremaining: 48ms\n",
      "914:\tlearn: 0.0062437\ttotal: 510ms\tremaining: 47.4ms\n",
      "915:\tlearn: 0.0062199\ttotal: 511ms\tremaining: 46.8ms\n",
      "916:\tlearn: 0.0061965\ttotal: 511ms\tremaining: 46.3ms\n",
      "917:\tlearn: 0.0061635\ttotal: 512ms\tremaining: 45.7ms\n",
      "918:\tlearn: 0.0061509\ttotal: 512ms\tremaining: 45.2ms\n",
      "919:\tlearn: 0.0061460\ttotal: 513ms\tremaining: 44.6ms\n",
      "920:\tlearn: 0.0061231\ttotal: 513ms\tremaining: 44ms\n",
      "921:\tlearn: 0.0061110\ttotal: 514ms\tremaining: 43.5ms\n",
      "922:\tlearn: 0.0060901\ttotal: 514ms\tremaining: 42.9ms\n",
      "923:\tlearn: 0.0060612\ttotal: 515ms\tremaining: 42.3ms\n",
      "924:\tlearn: 0.0060319\ttotal: 515ms\tremaining: 41.8ms\n",
      "925:\tlearn: 0.0060038\ttotal: 516ms\tremaining: 41.2ms\n",
      "926:\tlearn: 0.0059785\ttotal: 516ms\tremaining: 40.6ms\n",
      "927:\tlearn: 0.0059513\ttotal: 517ms\tremaining: 40.1ms\n",
      "928:\tlearn: 0.0059232\ttotal: 517ms\tremaining: 39.5ms\n",
      "929:\tlearn: 0.0058967\ttotal: 518ms\tremaining: 39ms\n",
      "930:\tlearn: 0.0058653\ttotal: 518ms\tremaining: 38.4ms\n",
      "931:\tlearn: 0.0058411\ttotal: 519ms\tremaining: 37.8ms\n",
      "932:\tlearn: 0.0058139\ttotal: 519ms\tremaining: 37.3ms\n",
      "933:\tlearn: 0.0057885\ttotal: 519ms\tremaining: 36.7ms\n",
      "934:\tlearn: 0.0057619\ttotal: 527ms\tremaining: 36.7ms\n",
      "935:\tlearn: 0.0057386\ttotal: 528ms\tremaining: 36.1ms\n",
      "936:\tlearn: 0.0057112\ttotal: 528ms\tremaining: 35.5ms\n",
      "937:\tlearn: 0.0056875\ttotal: 529ms\tremaining: 35ms\n",
      "938:\tlearn: 0.0056617\ttotal: 529ms\tremaining: 34.4ms\n",
      "939:\tlearn: 0.0056388\ttotal: 530ms\tremaining: 33.8ms\n",
      "940:\tlearn: 0.0056135\ttotal: 530ms\tremaining: 33.2ms\n",
      "941:\tlearn: 0.0055785\ttotal: 531ms\tremaining: 32.7ms\n",
      "942:\tlearn: 0.0055654\ttotal: 531ms\tremaining: 32.1ms\n",
      "943:\tlearn: 0.0055419\ttotal: 532ms\tremaining: 31.5ms\n",
      "944:\tlearn: 0.0055162\ttotal: 532ms\tremaining: 31ms\n",
      "945:\tlearn: 0.0055053\ttotal: 533ms\tremaining: 30.4ms\n",
      "946:\tlearn: 0.0054812\ttotal: 533ms\tremaining: 29.8ms\n",
      "947:\tlearn: 0.0054562\ttotal: 534ms\tremaining: 29.3ms\n",
      "948:\tlearn: 0.0054343\ttotal: 534ms\tremaining: 28.7ms\n",
      "949:\tlearn: 0.0054015\ttotal: 535ms\tremaining: 28.1ms\n",
      "950:\tlearn: 0.0053881\ttotal: 535ms\tremaining: 27.6ms\n",
      "951:\tlearn: 0.0053591\ttotal: 535ms\tremaining: 27ms\n",
      "952:\tlearn: 0.0053274\ttotal: 536ms\tremaining: 26.4ms\n",
      "953:\tlearn: 0.0053032\ttotal: 536ms\tremaining: 25.8ms\n",
      "954:\tlearn: 0.0052804\ttotal: 536ms\tremaining: 25.3ms\n",
      "955:\tlearn: 0.0052569\ttotal: 537ms\tremaining: 24.7ms\n",
      "956:\tlearn: 0.0052467\ttotal: 537ms\tremaining: 24.1ms\n",
      "957:\tlearn: 0.0052260\ttotal: 538ms\tremaining: 23.6ms\n",
      "958:\tlearn: 0.0051968\ttotal: 538ms\tremaining: 23ms\n",
      "959:\tlearn: 0.0051706\ttotal: 539ms\tremaining: 22.5ms\n",
      "960:\tlearn: 0.0051581\ttotal: 539ms\tremaining: 21.9ms\n",
      "961:\tlearn: 0.0051250\ttotal: 540ms\tremaining: 21.3ms\n",
      "962:\tlearn: 0.0050968\ttotal: 540ms\tremaining: 20.8ms\n",
      "963:\tlearn: 0.0050677\ttotal: 541ms\tremaining: 20.2ms\n",
      "964:\tlearn: 0.0050568\ttotal: 541ms\tremaining: 19.6ms\n",
      "965:\tlearn: 0.0050221\ttotal: 542ms\tremaining: 19.1ms\n",
      "966:\tlearn: 0.0050026\ttotal: 542ms\tremaining: 18.5ms\n",
      "967:\tlearn: 0.0049931\ttotal: 543ms\tremaining: 17.9ms\n",
      "968:\tlearn: 0.0049740\ttotal: 543ms\tremaining: 17.4ms\n",
      "969:\tlearn: 0.0049554\ttotal: 544ms\tremaining: 16.8ms\n",
      "970:\tlearn: 0.0049461\ttotal: 544ms\tremaining: 16.3ms\n",
      "971:\tlearn: 0.0049279\ttotal: 545ms\tremaining: 15.7ms\n",
      "972:\tlearn: 0.0049188\ttotal: 545ms\tremaining: 15.1ms\n",
      "973:\tlearn: 0.0049009\ttotal: 546ms\tremaining: 14.6ms\n",
      "974:\tlearn: 0.0048920\ttotal: 546ms\tremaining: 14ms\n",
      "975:\tlearn: 0.0048718\ttotal: 547ms\tremaining: 13.4ms\n",
      "976:\tlearn: 0.0048520\ttotal: 547ms\tremaining: 12.9ms\n",
      "977:\tlearn: 0.0048326\ttotal: 548ms\tremaining: 12.3ms\n",
      "978:\tlearn: 0.0048133\ttotal: 548ms\tremaining: 11.8ms\n",
      "979:\tlearn: 0.0047962\ttotal: 549ms\tremaining: 11.2ms\n",
      "980:\tlearn: 0.0047794\ttotal: 549ms\tremaining: 10.6ms\n",
      "981:\tlearn: 0.0047608\ttotal: 550ms\tremaining: 10.1ms\n",
      "982:\tlearn: 0.0047355\ttotal: 550ms\tremaining: 9.51ms\n",
      "983:\tlearn: 0.0047069\ttotal: 550ms\tremaining: 8.95ms\n",
      "984:\tlearn: 0.0046904\ttotal: 551ms\tremaining: 8.39ms\n",
      "985:\tlearn: 0.0046768\ttotal: 551ms\tremaining: 7.82ms\n",
      "986:\tlearn: 0.0046524\ttotal: 551ms\tremaining: 7.26ms\n",
      "987:\tlearn: 0.0046248\ttotal: 552ms\tremaining: 6.7ms\n",
      "988:\tlearn: 0.0046087\ttotal: 552ms\tremaining: 6.14ms\n",
      "989:\tlearn: 0.0045930\ttotal: 554ms\tremaining: 5.59ms\n",
      "990:\tlearn: 0.0045772\ttotal: 554ms\tremaining: 5.03ms\n",
      "991:\tlearn: 0.0045545\ttotal: 555ms\tremaining: 4.47ms\n",
      "992:\tlearn: 0.0045391\ttotal: 555ms\tremaining: 3.91ms\n",
      "993:\tlearn: 0.0045290\ttotal: 556ms\tremaining: 3.35ms\n",
      "994:\tlearn: 0.0045023\ttotal: 556ms\tremaining: 2.79ms\n",
      "995:\tlearn: 0.0044926\ttotal: 557ms\tremaining: 2.23ms\n",
      "996:\tlearn: 0.0044831\ttotal: 557ms\tremaining: 1.68ms\n",
      "997:\tlearn: 0.0044738\ttotal: 558ms\tremaining: 1.12ms\n",
      "998:\tlearn: 0.0044647\ttotal: 558ms\tremaining: 558us\n",
      "999:\tlearn: 0.0044510\ttotal: 558ms\tremaining: 0us\n"
     ]
    },
    {
     "data": {
      "text/plain": [
       "<catboost.core.CatBoostRegressor at 0x7fb9945c1b20>"
      ]
     },
     "execution_count": 9,
     "metadata": {},
     "output_type": "execute_result"
    }
   ],
   "source": [
    "#Train the Model \n",
    "prior_model = ctb.CatBoostRegressor()\n",
    "prior_model.fit(X_train,Y_train)"
   ]
  },
  {
   "cell_type": "code",
   "execution_count": 10,
   "id": "af65dcda",
   "metadata": {
    "execution": {
     "iopub.execute_input": "2022-05-18T08:46:43.240275Z",
     "iopub.status.busy": "2022-05-18T08:46:43.239892Z",
     "iopub.status.idle": "2022-05-18T08:46:43.247468Z",
     "shell.execute_reply": "2022-05-18T08:46:43.247758Z"
    },
    "id": "af65dcda",
    "papermill": {
     "duration": 0.020214,
     "end_time": "2022-05-18T08:46:43.247873",
     "exception": false,
     "start_time": "2022-05-18T08:46:43.227659",
     "status": "completed"
    },
    "tags": []
   },
   "outputs": [
    {
     "data": {
      "application/scrapbook.scrap.json+json": {
       "data": 0.30950475196564037,
       "encoder": "json",
       "name": "Prior Model MSE",
       "version": 1
      }
     },
     "metadata": {
      "scrapbook": {
       "data": true,
       "display": false,
       "name": "Prior Model MSE"
      }
     },
     "output_type": "display_data"
    },
    {
     "data": {
      "application/scrapbook.scrap.json+json": {
       "data": 0.34341209324528454,
       "encoder": "json",
       "name": "ABC Pre-generator MSE",
       "version": 1
      }
     },
     "metadata": {
      "scrapbook": {
       "data": true,
       "display": false,
       "name": "ABC Pre-generator MSE"
      }
     },
     "output_type": "display_data"
    },
    {
     "data": {
      "application/scrapbook.scrap.json+json": {
       "data": 0.40862868852514456,
       "encoder": "json",
       "name": "Prior Model MAE",
       "version": 1
      }
     },
     "metadata": {
      "scrapbook": {
       "data": true,
       "display": false,
       "name": "Prior Model MAE"
      }
     },
     "output_type": "display_data"
    },
    {
     "data": {
      "application/scrapbook.scrap.json+json": {
       "data": 0.45593524401244057,
       "encoder": "json",
       "name": "ABC Pre-generator MAE",
       "version": 1
      }
     },
     "metadata": {
      "scrapbook": {
       "data": true,
       "display": false,
       "name": "ABC Pre-generator MAE"
      }
     },
     "output_type": "display_data"
    }
   ],
   "source": [
    "y_pred = prior_model.predict(X_test)\n",
    "y_abc = y_pred + np.random.normal(0,variance, y_pred.shape)\n",
    "mse = mean_squared_error(y_pred,Y_test)\n",
    "sb.glue(\"Prior Model MSE\",mse)\n",
    "mse = mean_squared_error(y_abc,Y_test)\n",
    "sb.glue(\"ABC Pre-generator MSE\",mse)\n",
    "\n",
    "mae = mean_absolute_error(y_pred,Y_test)\n",
    "sb.glue(\"Prior Model MAE\",mae)\n",
    "mae = mean_absolute_error(y_abc,Y_test)\n",
    "sb.glue(\"ABC Pre-generator MAE\",mae)"
   ]
  },
  {
   "cell_type": "markdown",
   "id": "25609da2",
   "metadata": {
    "papermill": {
     "duration": 0.009414,
     "end_time": "2022-05-18T08:46:43.267039",
     "exception": false,
     "start_time": "2022-05-18T08:46:43.257625",
     "status": "completed"
    },
    "tags": []
   },
   "source": [
    "# ABC GAN Model"
   ]
  },
  {
   "cell_type": "code",
   "execution_count": 11,
   "id": "dfc3464d",
   "metadata": {
    "execution": {
     "iopub.execute_input": "2022-05-18T08:46:43.288939Z",
     "iopub.status.busy": "2022-05-18T08:46:43.288561Z",
     "iopub.status.idle": "2022-05-18T08:46:43.290905Z",
     "shell.execute_reply": "2022-05-18T08:46:43.291154Z"
    },
    "papermill": {
     "duration": 0.014825,
     "end_time": "2022-05-18T08:46:43.291264",
     "exception": false,
     "start_time": "2022-05-18T08:46:43.276439",
     "status": "completed"
    },
    "tags": []
   },
   "outputs": [],
   "source": [
    "gen = network.Generator(n_features+1).to(device)\n",
    "disc = network.Discriminator(n_features+1).to(device)\n",
    "\n",
    "criterion = torch.nn.BCELoss()\n",
    "gen_opt = torch.optim.Adam(gen.parameters(), lr=0.001, betas=(0.5, 0.999))\n",
    "disc_opt = torch.optim.Adam(disc.parameters(), lr=0.001, betas=(0.5, 0.999))"
   ]
  },
  {
   "cell_type": "code",
   "execution_count": 12,
   "id": "b75fdd85",
   "metadata": {
    "execution": {
     "iopub.execute_input": "2022-05-18T08:46:43.313657Z",
     "iopub.status.busy": "2022-05-18T08:46:43.313266Z",
     "iopub.status.idle": "2022-05-18T08:46:58.830534Z",
     "shell.execute_reply": "2022-05-18T08:46:58.830794Z"
    },
    "papermill": {
     "duration": 15.529767,
     "end_time": "2022-05-18T08:46:58.830918",
     "exception": false,
     "start_time": "2022-05-18T08:46:43.301151",
     "status": "completed"
    },
    "tags": []
   },
   "outputs": [
    {
     "data": {
      "image/png": "[encoded data removed]",
      "text/plain": [
       "<Figure size 432x288 with 1 Axes>"
      ]
     },
     "metadata": {
      "needs_background": "light"
     },
     "output_type": "display_data"
    },
    {
     "data": {
      "image/png": "[encoded data removed]",
      "text/plain": [
       "<Figure size 432x288 with 1 Axes>"
      ]
     },
     "metadata": {
      "needs_background": "light"
     },
     "output_type": "display_data"
    }
   ],
   "source": [
    "#Training the ABC_GAN \n",
    "ABC_train_test2.training_GAN(disc,gen,disc_opt,gen_opt,train_data,batch_size,n_epochs,criterion,prior_model,variance,0,device)"
   ]
  },
  {
   "cell_type": "code",
   "execution_count": 13,
   "id": "1fa7c368",
   "metadata": {
    "execution": {
     "iopub.execute_input": "2022-05-18T08:46:58.854774Z",
     "iopub.status.busy": "2022-05-18T08:46:58.854390Z",
     "iopub.status.idle": "2022-05-18T08:46:59.049493Z",
     "shell.execute_reply": "2022-05-18T08:46:59.049797Z"
    },
    "papermill": {
     "duration": 0.208435,
     "end_time": "2022-05-18T08:46:59.049919",
     "exception": false,
     "start_time": "2022-05-18T08:46:58.841484",
     "status": "completed"
    },
    "tags": []
   },
   "outputs": [
    {
     "data": {
      "application/scrapbook.scrap.json+json": {
       "data": 0.2237681934813496,
       "encoder": "json",
       "name": "ABC-GAN Model 1 MSE",
       "version": 1
      }
     },
     "metadata": {
      "scrapbook": {
       "data": true,
       "display": false,
       "name": "ABC-GAN Model 1 MSE"
      }
     },
     "output_type": "display_data"
    },
    {
     "data": {
      "application/scrapbook.scrap.json+json": {
       "data": 0.3480072058681399,
       "encoder": "json",
       "name": "ABC-GAN Model 1 MAE",
       "version": 1
      }
     },
     "metadata": {
      "scrapbook": {
       "data": true,
       "display": false,
       "name": "ABC-GAN Model 1 MAE"
      }
     },
     "output_type": "display_data"
    },
    {
     "data": {
      "application/scrapbook.scrap.json+json": {
       "data": 6.960144117362797,
       "encoder": "json",
       "name": "ABC-GAN Model 1 Manhattan Distance",
       "version": 1
      }
     },
     "metadata": {
      "scrapbook": {
       "data": true,
       "display": false,
       "name": "ABC-GAN Model 1 Manhattan Distance"
      }
     },
     "output_type": "display_data"
    },
    {
     "data": {
      "application/scrapbook.scrap.json+json": {
       "data": 2.11487487222118,
       "encoder": "json",
       "name": "ABC-GAN Model 1 Euclidean distance",
       "version": 1
      }
     },
     "metadata": {
      "scrapbook": {
       "data": true,
       "display": false,
       "name": "ABC-GAN Model 1 Euclidean distance"
      }
     },
     "output_type": "display_data"
    },
    {
     "data": {
      "application/scrapbook.scrap.json+json": {
       "data": [
        [
         0.23688387891375817,
         0.21661679062441772,
         0.21389098758566316,
         0.22767687567758932,
         0.22930281173054595,
         0.21905888427156447,
         0.2201078604669493,
         0.21242655858709694,
         0.2109199373896696,
         0.2113798446266289,
         0.22653726364152185,
         0.20785960097538184,
         0.2096603694837497,
         0.23299364480350312,
         0.23119727548295016,
         0.22836381317898158,
         0.21960085334528817,
         0.2113667556927407,
         0.21513420737509245,
         0.20057450449579214,
         0.2130267198460663,
         0.21041002072053366,
         0.21131785683611834,
         0.22163504666375106,
         0.2255977121689587,
         0.2246037228940049,
         0.24221559412659643,
         0.23869371625465652,
         0.22924451429956066,
         0.21326520158792217,
         0.2607516476018515,
         0.23299446289597184,
         0.22865514572064524,
         0.21735872355755834,
         0.24868293911121037,
         0.22499346696270406,
         0.2164445653936209,
         0.23085800715542953,
         0.22948476956559788,
         0.21559222590657337,
         0.21498526534484946,
         0.21251780534563505,
         0.23245045320600727,
         0.21697808132100435,
         0.23832859141728696,
         0.227126889631511,
         0.20856465025182044,
         0.22021188137958525,
         0.227296059107243,
         0.24123309375024132,
         0.2321171786447264,
         0.23791742771178997,
         0.22816440208657962,
         0.2291034500475538,
         0.23407670400911132,
         0.2435914672847037,
         0.21919156646935747,
         0.21944050945753113,
         0.22647822639660192,
         0.21014751232303483,
         0.22441252954002558,
         0.2167243285997909,
         0.20872893152021388,
         0.22825921016821216,
         0.2314867961615799,
         0.23332099566036754,
         0.2279619664647253,
         0.22790968381309162,
         0.21920578376652902,
         0.22776824525696276,
         0.21952281977836652,
         0.23691939203749368,
         0.22433122563880695,
         0.23791351479138187,
         0.23236589243969652,
         0.21539263193270103,
         0.2154783636645338,
         0.24141724205587178,
         0.2223120437842879,
         0.22053492780004125,
         0.23473560676780178,
         0.218275190358872,
         0.20951348602316394,
         0.23203889264362906,
         0.22351526543674244,
         0.22610315325779545,
         0.22028926123107687,
         0.21050332416571363,
         0.2305667869483,
         0.20246384458851815,
         0.24233577734256334,
         0.21234679829521555,
         0.21371057014606087,
         0.22758448985054783,
         0.24349024345567613,
         0.21793533699309772,
         0.20937900083051572,
         0.20559851079038563,
         0.2252979503053242,
         0.221869341024889
        ],
        [
         0.3537390076555312,
         0.33712021680548787,
         0.3431165521033108,
         0.3505646062083542,
         0.35762477153912187,
         0.3480723255313933,
         0.3575156659819186,
         0.35951348738744854,
         0.3345587049610913,
         0.32849803091958163,
         0.3503606555052102,
         0.3295483303256333,
         0.3374012348242104,
         0.35943555617704986,
         0.356570194195956,
         0.35038670832291247,
         0.3474811579100788,
         0.3495997634716332,
         0.3409284592606127,
         0.3334851020015776,
         0.3437926982529461,
         0.3490250405855477,
         0.3434838899411261,
         0.33433262528851626,
         0.34252098025754096,
         0.33774758437648417,
         0.3672105186618865,
         0.3582113695330918,
         0.3500617382116616,
         0.34711196990683674,
         0.37243870412930846,
         0.3584031811915338,
         0.3401725464500487,
         0.3302559328265488,
         0.37027593376114964,
         0.35246242405846717,
         0.36533672818914054,
         0.33770255679264666,
         0.3487362819723785,
         0.34776669861748816,
         0.35095437290146947,
         0.3320179243572056,
         0.3550876070745289,
         0.334961096663028,
         0.36311842845752834,
         0.34142038682475684,
         0.33541519613936543,
         0.3423176963813603,
         0.3525512238033116,
         0.3550461378879845,
         0.35032055163756015,
         0.3726661897264421,
         0.3518168483860791,
         0.3469890427775681,
         0.3548367635346949,
         0.3683996976353228,
         0.35865857610478996,
         0.33243826860561965,
         0.3530127224512398,
         0.3352684591896832,
         0.34226955669000747,
         0.3409544826485217,
         0.3338375587947667,
         0.34665525713935497,
         0.3520958029665053,
         0.36361175077036023,
         0.3427803046070039,
         0.3466781091876328,
         0.3491581202484667,
         0.3481346902437508,
         0.3417632726021111,
         0.3565033723600209,
         0.3574300360865891,
         0.3699724738486111,
         0.35088804783299565,
         0.3475176741369069,
         0.33575886571779845,
         0.3576747772283852,
         0.3357693412341177,
         0.3398196735419333,
         0.3536085569299757,
         0.3567545228637755,
         0.3328645554371178,
         0.359819317329675,
         0.3443351064808667,
         0.34433547900989653,
         0.35620839046314356,
         0.33709955113008616,
         0.35159005494788287,
         0.3238894489593804,
         0.3570905742235482,
         0.3320833523757756,
         0.3380304095335305,
         0.3661242694593966,
         0.359312613774091,
         0.33793365554884075,
         0.34425056921318176,
         0.3361917627044022,
         0.3513989799655974,
         0.34865912394598125
        ],
        [
         7.074780153110623,
         6.742404336109757,
         6.8623310420662165,
         7.011292124167085,
         7.152495430782437,
         6.961446510627866,
         7.1503133196383715,
         7.190269747748971,
         6.691174099221826,
         6.569960618391633,
         7.007213110104203,
         6.590966606512666,
         6.748024696484208,
         7.1887111235409975,
         7.13140388391912,
         7.007734166458249,
         6.949623158201575,
         6.991995269432664,
         6.8185691852122545,
         6.669702040031552,
         6.875853965058923,
         6.980500811710954,
         6.869677798822522,
         6.686652505770326,
         6.850419605150819,
         6.754951687529683,
         7.344210373237729,
         7.164227390661836,
         7.0012347642332315,
         6.942239398136735,
         7.448774082586169,
         7.168063623830676,
         6.803450929000974,
         6.605118656530976,
         7.405518675222993,
         7.049248481169343,
         7.306734563782811,
         6.754051135852933,
         6.97472563944757,
         6.955333972349763,
         7.019087458029389,
         6.640358487144113,
         7.101752141490579,
         6.69922193326056,
         7.262368569150567,
         6.828407736495137,
         6.708303922787309,
         6.846353927627206,
         7.051024476066232,
         7.10092275775969,
         7.006411032751203,
         7.453323794528842,
         7.0363369677215815,
         6.939780855551362,
         7.096735270693898,
         7.367993952706456,
         7.1731715220957994,
         6.648765372112393,
         7.0602544490247965,
         6.705369183793664,
         6.845391133800149,
         6.819089652970433,
         6.676751175895333,
         6.933105142787099,
         7.041916059330106,
         7.272235015407205,
         6.8556060921400785,
         6.933562183752656,
         6.983162404969335,
         6.962693804875016,
         6.835265452042222,
         7.1300674472004175,
         7.148600721731782,
         7.399449476972222,
         7.017760956659913,
         6.950353482738137,
         6.715177314355969,
         7.153495544567704,
         6.715386824682355,
         6.796393470838666,
         7.072171138599515,
         7.13509045727551,
         6.657291108742356,
         7.196386346593499,
         6.886702129617333,
         6.88670958019793,
         7.124167809262872,
         6.741991022601724,
         7.031801098957658,
         6.477788979187608,
         7.1418114844709635,
         6.6416670475155115,
         6.7606081906706095,
         7.322485389187932,
         7.18625227548182,
         6.758673110976815,
         6.885011384263635,
         6.723835254088044,
         7.027979599311948,
         6.973182478919625
        ],
        [
         2.176620678546256,
         2.0814263889189917,
         2.0682890880419165,
         2.1339019456272554,
         2.141507934753201,
         2.093126294668167,
         2.098131837930826,
         2.0611965388438676,
         2.0538740827503013,
         2.056112081704832,
         2.1285547380395076,
         2.038919326385337,
         2.0477322553681168,
         2.158673874412266,
         2.150336138760404,
         2.1371186826144286,
         2.095713975452224,
         2.0560484220598534,
         2.0742912397977893,
         2.0028704625900904,
         2.0641061980725035,
         2.051389873819863,
         2.0558105789985532,
         2.105398046278903,
         2.12413611696124,
         2.11945145211682,
         2.2009797551390444,
         2.184919752552283,
         2.1412356913687045,
         2.0652612502437657,
         2.283644664136045,
         2.1586776642008036,
         2.1384814505655423,
         2.0849878827348536,
         2.230170124054263,
         2.1212895463029278,
         2.080598785896122,
         2.148757813972666,
         2.1423574378034953,
         2.076498138244161,
         2.073573077298456,
         2.0616391796123543,
         2.1561560852869963,
         2.0831614499169495,
         2.183247999734739,
         2.1313230146156212,
         2.042374354773485,
         2.0986275580940283,
         2.1321165967518896,
         2.1965112963526563,
         2.154609842383193,
         2.181363920632181,
         2.136185394981342,
         2.1405767916501093,
         2.163685300634597,
         2.2072220879861804,
         2.0937600935606615,
         2.094948731866874,
         2.1282773616077484,
         2.0501098132687177,
         2.11854917120196,
         2.081942980005893,
         2.043178560577679,
         2.136629168424938,
         2.151682114818915,
         2.160189786386222,
         2.1352375346303996,
         2.134992664217335,
         2.093827995641137,
         2.134330083454585,
         2.0953415940049798,
         2.176783829586639,
         2.1181653648325334,
         2.1813459826051522,
         2.155763866659317,
         2.075536710986828,
         2.075949728025868,
         2.197349503633283,
         2.1086111248131454,
         2.1001663162713626,
         2.1667284406117986,
         2.089378808923226,
         2.0470148315201038,
         2.1542464698526445,
         2.1143096529919285,
         2.1265142993067103,
         2.0989962421647013,
         2.051844653796742,
         2.1474020906588502,
         2.012281514045777,
         2.2015257315896326,
         2.0608095413949132,
         2.067416601200933,
         2.13346895852997,
         2.206763437506051,
         2.087751599176002,
         2.046357744044358,
         2.027799352945876,
         2.1227244300913117,
         2.1065105792513314
        ]
       ],
       "encoder": "json",
       "name": "ABC_GAN_1 Metrics",
       "version": 1
      }
     },
     "metadata": {
      "scrapbook": {
       "data": true,
       "display": false,
       "name": "ABC_GAN_1 Metrics"
      }
     },
     "output_type": "display_data"
    },
    {
     "name": "stdout",
     "output_type": "stream",
     "text": [
      "MSE\n",
      "0.2237681934813496\n"
     ]
    }
   ],
   "source": [
    "ABC_GAN1_metrics=ABC_train_test2.test_generator(gen,test_data,prior_model,variance,0,\"1\",device)\n",
    "sb.glue(\"ABC_GAN_1 Metrics\",ABC_GAN1_metrics)\n",
    "\n",
    "print(\"MSE\")\n",
    "print(mean(ABC_GAN1_metrics[0]))"
   ]
  },
  {
   "cell_type": "code",
   "execution_count": 14,
   "id": "eb22ce5c",
   "metadata": {
    "execution": {
     "iopub.execute_input": "2022-05-18T08:46:59.076423Z",
     "iopub.status.busy": "2022-05-18T08:46:59.076035Z",
     "iopub.status.idle": "2022-05-18T08:46:59.365262Z",
     "shell.execute_reply": "2022-05-18T08:46:59.365613Z"
    },
    "papermill": {
     "duration": 0.303684,
     "end_time": "2022-05-18T08:46:59.365735",
     "exception": false,
     "start_time": "2022-05-18T08:46:59.062051",
     "status": "completed"
    },
    "tags": []
   },
   "outputs": [
    {
     "data": {
      "image/png": "[encoded data removed]",
      "text/plain": [
       "<Figure size 432x288 with 1 Axes>"
      ]
     },
     "metadata": {
      "needs_background": "light"
     },
     "output_type": "display_data"
    },
    {
     "data": {
      "image/png": "[encoded data removed]",
      "text/plain": [
       "<Figure size 432x288 with 1 Axes>"
      ]
     },
     "metadata": {
      "needs_background": "light"
     },
     "output_type": "display_data"
    },
    {
     "data": {
      "image/png": "[encoded data removed]",
      "text/plain": [
       "<Figure size 432x288 with 1 Axes>"
      ]
     },
     "metadata": {
      "needs_background": "light"
     },
     "output_type": "display_data"
    },
    {
     "data": {
      "image/png": "[encoded data removed]",
      "text/plain": [
       "<Figure size 432x288 with 1 Axes>"
      ]
     },
     "metadata": {
      "needs_background": "light"
     },
     "output_type": "display_data"
    }
   ],
   "source": [
    "sanityChecks.discProbVsError(train_data,disc,device)\n",
    "sanityChecks.discProbVsError(test_data,disc,device)"
   ]
  },
  {
   "cell_type": "markdown",
   "id": "130f3a4d",
   "metadata": {
    "id": "130f3a4d",
    "papermill": {
     "duration": 0.014372,
     "end_time": "2022-05-18T08:46:59.394412",
     "exception": false,
     "start_time": "2022-05-18T08:46:59.380040",
     "status": "completed"
    },
    "tags": []
   },
   "source": [
    "# ABC - GAN Model with skip connection"
   ]
  },
  {
   "cell_type": "code",
   "execution_count": 15,
   "id": "4e43dad1",
   "metadata": {
    "execution": {
     "iopub.execute_input": "2022-05-18T08:46:59.426494Z",
     "iopub.status.busy": "2022-05-18T08:46:59.426100Z",
     "iopub.status.idle": "2022-05-18T08:46:59.428052Z",
     "shell.execute_reply": "2022-05-18T08:46:59.428310Z"
    },
    "id": "4e43dad1",
    "papermill": {
     "duration": 0.019917,
     "end_time": "2022-05-18T08:46:59.428425",
     "exception": false,
     "start_time": "2022-05-18T08:46:59.408508",
     "status": "completed"
    },
    "tags": []
   },
   "outputs": [],
   "source": [
    "#Generator\n",
    "gen3 = network.GeneratorWithSkipConnection(n_features+1).to(device)\n",
    "constraints=network.weightConstraint()\n",
    "#Discriminator \n",
    "disc3 = network.Discriminator(n_features+1).to(device)\n",
    "\n",
    "criterion = torch.nn.BCELoss()\n",
    "gen_opt = torch.optim.Adam(gen3.parameters(), lr=0.001, betas=(0.5, 0.999))\n",
    "disc_opt = torch.optim.Adam(disc3.parameters(), lr=0.001, betas=(0.5, 0.999))\n"
   ]
  },
  {
   "cell_type": "code",
   "execution_count": 16,
   "id": "26acbc37",
   "metadata": {
    "execution": {
     "iopub.execute_input": "2022-05-18T08:46:59.459067Z",
     "iopub.status.busy": "2022-05-18T08:46:59.458699Z",
     "iopub.status.idle": "2022-05-18T08:47:39.868155Z",
     "shell.execute_reply": "2022-05-18T08:47:39.868464Z"
    },
    "id": "26acbc37",
    "papermill": {
     "duration": 40.425876,
     "end_time": "2022-05-18T08:47:39.868599",
     "exception": false,
     "start_time": "2022-05-18T08:46:59.442723",
     "status": "completed"
    },
    "tags": []
   },
   "outputs": [
    {
     "data": {
      "image/png": "[encoded data removed]",
      "text/plain": [
       "<Figure size 432x288 with 1 Axes>"
      ]
     },
     "metadata": {
      "needs_background": "light"
     },
     "output_type": "display_data"
    },
    {
     "data": {
      "image/png": "[encoded data removed]",
      "text/plain": [
       "<Figure size 432x288 with 1 Axes>"
      ]
     },
     "metadata": {
      "needs_background": "light"
     },
     "output_type": "display_data"
    }
   ],
   "source": [
    "ABC_train_test2.training_GAN_skip_connection(disc3,gen3,disc_opt,gen_opt,train_data,batch_size,n_epochs,criterion,prior_model,variance,0,device)"
   ]
  },
  {
   "cell_type": "code",
   "execution_count": 17,
   "id": "c5e0717b",
   "metadata": {
    "execution": {
     "iopub.execute_input": "2022-05-18T08:47:39.901870Z",
     "iopub.status.busy": "2022-05-18T08:47:39.901432Z",
     "iopub.status.idle": "2022-05-18T08:47:40.214773Z",
     "shell.execute_reply": "2022-05-18T08:47:40.215075Z"
    },
    "id": "c5e0717b",
    "papermill": {
     "duration": 0.331148,
     "end_time": "2022-05-18T08:47:40.215199",
     "exception": false,
     "start_time": "2022-05-18T08:47:39.884051",
     "status": "completed"
    },
    "tags": []
   },
   "outputs": [
    {
     "data": {
      "application/scrapbook.scrap.json+json": {
       "data": 0.22884356440181056,
       "encoder": "json",
       "name": "ABC-GAN Model 3 MSE",
       "version": 1
      }
     },
     "metadata": {
      "scrapbook": {
       "data": true,
       "display": false,
       "name": "ABC-GAN Model 3 MSE"
      }
     },
     "output_type": "display_data"
    },
    {
     "data": {
      "application/scrapbook.scrap.json+json": {
       "data": 0.3720787262655795,
       "encoder": "json",
       "name": "ABC-GAN Model 3 MAE",
       "version": 1
      }
     },
     "metadata": {
      "scrapbook": {
       "data": true,
       "display": false,
       "name": "ABC-GAN Model 3 MAE"
      }
     },
     "output_type": "display_data"
    },
    {
     "data": {
      "application/scrapbook.scrap.json+json": {
       "data": 7.441574525311589,
       "encoder": "json",
       "name": "ABC-GAN Model 3 Manhattan Distance",
       "version": 1
      }
     },
     "metadata": {
      "scrapbook": {
       "data": true,
       "display": false,
       "name": "ABC-GAN Model 3 Manhattan Distance"
      }
     },
     "output_type": "display_data"
    },
    {
     "data": {
      "application/scrapbook.scrap.json+json": {
       "data": 2.138668364792977,
       "encoder": "json",
       "name": "ABC-GAN Model 3 Euclidean distance",
       "version": 1
      }
     },
     "metadata": {
      "scrapbook": {
       "data": true,
       "display": false,
       "name": "ABC-GAN Model 3 Euclidean distance"
      }
     },
     "output_type": "display_data"
    },
    {
     "data": {
      "application/scrapbook.scrap.json+json": {
       "data": [
        [
         0.21203241902270054,
         0.2511241103735276,
         0.23081653878968683,
         0.22845359273046836,
         0.24104847089618436,
         0.2310931868460481,
         0.2368748934354114,
         0.2314079535343876,
         0.23343091375593494,
         0.23254775824573012,
         0.20946024572779492,
         0.2347682266844279,
         0.22656209355003734,
         0.22155730443268995,
         0.23365627613410309,
         0.2466273123298904,
         0.2161128827566671,
         0.2285118462470895,
         0.22432697711165206,
         0.21983022119854395,
         0.2234299930196102,
         0.2227712851729616,
         0.23822990217561996,
         0.23825242219785445,
         0.20422715910547376,
         0.19860670839073685,
         0.2318306837732227,
         0.22595514942662137,
         0.21161837603293998,
         0.20719858832679278,
         0.24061392350536828,
         0.2351715397595462,
         0.22598956651789978,
         0.2221446069133491,
         0.23346070340384273,
         0.22636788112148215,
         0.21737467107491995,
         0.22433774215486638,
         0.23017380182354855,
         0.2068058402430642,
         0.22816717445409845,
         0.24502316961056128,
         0.24734104825138056,
         0.22998782803603696,
         0.22990107110185143,
         0.22692765021691225,
         0.244186151897759,
         0.222777957055759,
         0.23732104253025438,
         0.23498736032559697,
         0.259865515283968,
         0.22266963675259652,
         0.21527628170221372,
         0.22334114195317678,
         0.2368358455288429,
         0.22141152680949872,
         0.2164884695418341,
         0.24327378302213085,
         0.23069857691696213,
         0.22836396905764253,
         0.23867375599148918,
         0.23710289597172224,
         0.23341490844769117,
         0.20135761694042373,
         0.2416246110742541,
         0.2368719496560065,
         0.23086538904367115,
         0.2230789931280171,
         0.2134057535238981,
         0.23282416153196833,
         0.23376480781815143,
         0.21371524184809343,
         0.22963081030537275,
         0.2333001994562495,
         0.23394214121683202,
         0.25142271160484764,
         0.21292618673202895,
         0.21088866928554756,
         0.2237832918031109,
         0.2307453698506333,
         0.2431476268171318,
         0.24119903414031,
         0.23137542734360528,
         0.2392287224009833,
         0.21757401024953665,
         0.24878514309018432,
         0.23263169114789398,
         0.2275309463119263,
         0.22781930415542245,
         0.2341562738115533,
         0.23049771476922404,
         0.21881023623583928,
         0.20991634836836695,
         0.23053990464135254,
         0.23490790358447827,
         0.21486575417368528,
         0.2500502864207229,
         0.2386280628004363,
         0.22992591112316302,
         0.21977770537345745
        ],
        [
         0.3596482594497502,
         0.3905394942499697,
         0.3710245509631932,
         0.3686778419651091,
         0.3805223532952368,
         0.38405123660340906,
         0.3775985986925662,
         0.3861667116172612,
         0.3693610050715506,
         0.3737435922957957,
         0.361726198438555,
         0.3747720607556403,
         0.36959748724475505,
         0.3670053445734084,
         0.37879437217488887,
         0.3747778312303126,
         0.3639316619373858,
         0.3771861099638045,
         0.37217960143461826,
         0.37281236732378603,
         0.36726844841614364,
         0.37644733423367144,
         0.3813856699503958,
         0.386043515894562,
         0.35070636132732036,
         0.3422738173045218,
         0.37531249755993484,
         0.35672513032332065,
         0.35839850129559636,
         0.35463168257847427,
         0.3660318502224982,
         0.3714116317220032,
         0.37544885659590366,
         0.358193423692137,
         0.38076976845040916,
         0.36648407438769937,
         0.36579542243853214,
         0.36350680151954295,
         0.37254624301567674,
         0.34462541053071616,
         0.3696317018009722,
         0.38558316985145213,
         0.3876026147045195,
         0.375163780990988,
         0.3707517319358885,
         0.3697150037623942,
         0.3816308707930148,
         0.36880128690972924,
         0.37570579955354333,
         0.3693727211095393,
         0.3956921429373324,
         0.35562675753608347,
         0.360965693090111,
         0.3583802626468241,
         0.37567102098837496,
         0.36466269651427863,
         0.3535957195796072,
         0.3890835897065699,
         0.37423599222674964,
         0.36701612630859015,
         0.3909394250251353,
         0.37110806787386535,
         0.3777721363119781,
         0.3428327561356127,
         0.39372792625799774,
         0.38700820142403247,
         0.37924585277214645,
         0.37555830935016277,
         0.3601548523642123,
         0.3753826738335192,
         0.3847156503237784,
         0.351233194116503,
         0.37928191730752586,
         0.37800358617678287,
         0.36776064271107317,
         0.38707283670082687,
         0.3624643408693373,
         0.3532615208067,
         0.36966767767444253,
         0.3787031234242022,
         0.39770484203472733,
         0.3762213305570185,
         0.37065902138128876,
         0.37905189180746673,
         0.3654237904585898,
         0.38776697469875215,
         0.3745943480171263,
         0.37441472271457316,
         0.37248273128643633,
         0.38031896809116006,
         0.3761918702162802,
         0.35612740451470015,
         0.35340614402666687,
         0.37184198657050727,
         0.38144656950607897,
         0.36445042202249167,
         0.3916174703277647,
         0.37274044239893556,
         0.3801538527943194,
         0.37835134798660874
        ],
        [
         7.192965188995004,
         7.810789884999394,
         7.420491019263864,
         7.373556839302182,
         7.6104470659047365,
         7.681024732068181,
         7.551971973851323,
         7.723334232345223,
         7.387220101431012,
         7.474871845915914,
         7.2345239687711,
         7.495441215112805,
         7.391949744895101,
         7.340106891468167,
         7.575887443497777,
         7.495556624606252,
         7.278633238747716,
         7.54372219927609,
         7.443592028692365,
         7.45624734647572,
         7.345368968322873,
         7.5289466846734285,
         7.6277133990079165,
         7.72087031789124,
         7.014127226546407,
         6.845476346090436,
         7.506249951198697,
         7.1345026064664125,
         7.167970025911927,
         7.092633651569486,
         7.320637004449964,
         7.428232634440064,
         7.508977131918073,
         7.16386847384274,
         7.6153953690081835,
         7.329681487753987,
         7.315908448770642,
         7.270136030390859,
         7.450924860313535,
         6.892508210614324,
         7.3926340360194445,
         7.711663397029042,
         7.75205229409039,
         7.50327561981976,
         7.415034638717771,
         7.394300075247884,
         7.632617415860295,
         7.376025738194585,
         7.514115991070867,
         7.387454422190785,
         7.913842858746648,
         7.112535150721669,
         7.21931386180222,
         7.167605252936482,
         7.513420419767499,
         7.293253930285573,
         7.071914391592145,
         7.781671794131398,
         7.484719844534993,
         7.3403225261718035,
         7.818788500502706,
         7.422161357477307,
         7.555442726239562,
         6.8566551227122545,
         7.874558525159955,
         7.740164028480649,
         7.584917055442929,
         7.511166187003255,
         7.2030970472842455,
         7.507653476670384,
         7.694313006475568,
         7.02466388233006,
         7.5856383461505175,
         7.560071723535657,
         7.355212854221463,
         7.741456734016538,
         7.249286817386746,
         7.065230416134,
         7.393353553488851,
         7.574062468484044,
         7.954096840694547,
         7.52442661114037,
         7.413180427625775,
         7.581037836149335,
         7.308475809171796,
         7.755339493975043,
         7.491886960342526,
         7.488294454291463,
         7.449654625728726,
         7.606379361823201,
         7.523837404325604,
         7.1225480902940035,
         7.068122880533338,
         7.436839731410146,
         7.628931390121579,
         7.289008440449834,
         7.832349406555295,
         7.454808847978711,
         7.603077055886388,
         7.567026959732175
        ],
        [
         2.059283462871008,
         2.241089513489042,
         2.1485648176849903,
         2.1375387375693027,
         2.1956706077924544,
         2.149852026749972,
         2.1765793963713405,
         2.15131566040127,
         2.1606985618356624,
         2.1566073274740125,
         2.0467547275030045,
         2.16687898455095,
         2.128671386334853,
         2.1050287619540495,
         2.1617413172445175,
         2.220933642997424,
         2.0790040055597157,
         2.1378112463315815,
         2.1181453071574294,
         2.0968081514461163,
         2.1139063035981995,
         2.110787934269862,
         2.182795923468889,
         2.1828990915654094,
         2.0210252799283523,
         1.9930213666227303,
         2.153279748538135,
         2.1258181927277855,
         2.0572718635753513,
         2.035674769342062,
         2.193690604918425,
         2.1687394484333344,
         2.125980087008812,
         2.1078169128904394,
         2.160836427885474,
         2.127758826190046,
         2.0850643686702814,
         2.1181961295161806,
         2.145571261102966,
         2.0337445279241155,
         2.136198373064161,
         2.213699029274582,
         2.2241449964036994,
         2.144704306127243,
         2.1442997509763013,
         2.1303879938495345,
         2.2099147128238186,
         2.1108195425273046,
         2.1786282038487172,
         2.1678900356134165,
         2.279761019422729,
         2.110306313086309,
         2.0749760562580652,
         2.1134859448464605,
         2.1763999886456666,
         2.1043361271883287,
         2.0808097920849664,
         2.2057823239029317,
         2.1480157211573765,
         2.137119412001316,
         2.1848283959683843,
         2.1776266712718333,
         2.160624485872967,
         2.006776604111298,
         2.198293024481741,
         2.1765658715325227,
         2.1487921679104804,
         2.1122452183779092,
         2.0659416909675747,
         2.1578886047799983,
         2.162243315717042,
         2.0674391978875386,
         2.1430390118025047,
         2.160093513976881,
         2.1630632964239953,
         2.242421510799643,
         2.0636190866147217,
         2.0537218374723856,
         2.115576951108661,
         2.1482335527155016,
         2.2052103156711915,
         2.196356228576366,
         2.1511644629995414,
         2.1873670126477784,
         2.086020183265429,
         2.230628355823463,
         2.1569964819067,
         2.133217974384832,
         2.134569296862589,
         2.1640530206607846,
         2.1470804119511873,
         2.0919380308022477,
         2.0489819343682214,
         2.147276901758842,
         2.167523488151758,
         2.0729966433821607,
         2.236292853902292,
         2.184619247376697,
         2.1444155899599453,
         2.0965576804536403
        ]
       ],
       "encoder": "json",
       "name": "ABC_GAN_3 Metrics",
       "version": 1
      }
     },
     "metadata": {
      "scrapbook": {
       "data": true,
       "display": false,
       "name": "ABC_GAN_3 Metrics"
      }
     },
     "output_type": "display_data"
    },
    {
     "name": "stdout",
     "output_type": "stream",
     "text": [
      "MSE\n",
      "0.22884356440181056\n"
     ]
    }
   ],
   "source": [
    "ABC_GAN3_metrics=ABC_train_test2.test_generator(gen3,test_data,prior_model,variance,0,\"3\",device)\n",
    "sb.glue(\"ABC_GAN_3 Metrics\",ABC_GAN3_metrics)\n",
    "\n",
    "print(\"MSE\")\n",
    "print(mean(ABC_GAN3_metrics[0]))"
   ]
  },
  {
   "cell_type": "code",
   "execution_count": 18,
   "id": "c8e46b48",
   "metadata": {
    "execution": {
     "iopub.execute_input": "2022-05-18T08:47:40.275312Z",
     "iopub.status.busy": "2022-05-18T08:47:40.274929Z",
     "iopub.status.idle": "2022-05-18T08:47:40.568175Z",
     "shell.execute_reply": "2022-05-18T08:47:40.568419Z"
    },
    "id": "c8e46b48",
    "papermill": {
     "duration": 0.312767,
     "end_time": "2022-05-18T08:47:40.568539",
     "exception": false,
     "start_time": "2022-05-18T08:47:40.255772",
     "status": "completed"
    },
    "tags": []
   },
   "outputs": [
    {
     "data": {
      "image/png": "[encoded data removed]",
      "text/plain": [
       "<Figure size 432x288 with 1 Axes>"
      ]
     },
     "metadata": {
      "needs_background": "light"
     },
     "output_type": "display_data"
    },
    {
     "data": {
      "image/png": "[encoded data removed]",
      "text/plain": [
       "<Figure size 432x288 with 1 Axes>"
      ]
     },
     "metadata": {
      "needs_background": "light"
     },
     "output_type": "display_data"
    },
    {
     "data": {
      "image/png": "[encoded data removed]",
      "text/plain": [
       "<Figure size 432x288 with 1 Axes>"
      ]
     },
     "metadata": {
      "needs_background": "light"
     },
     "output_type": "display_data"
    },
    {
     "data": {
      "image/png": "[encoded data removed]",
      "text/plain": [
       "<Figure size 432x288 with 1 Axes>"
      ]
     },
     "metadata": {
      "needs_background": "light"
     },
     "output_type": "display_data"
    }
   ],
   "source": [
    "sanityChecks.discProbVsError(train_data,disc3,device)\n",
    "sanityChecks.discProbVsError(test_data,disc3,device)"
   ]
  },
  {
   "cell_type": "markdown",
   "id": "a5bd74c3",
   "metadata": {
    "id": "a5bd74c3",
    "papermill": {
     "duration": 0.018932,
     "end_time": "2022-05-18T08:47:40.606815",
     "exception": false,
     "start_time": "2022-05-18T08:47:40.587883",
     "status": "completed"
    },
    "tags": []
   },
   "source": [
    "## Skip Connection Model Analysis - ABC-GAN "
   ]
  },
  {
   "cell_type": "markdown",
   "id": "5744a8bf",
   "metadata": {
    "id": "5744a8bf",
    "papermill": {
     "duration": 0.018693,
     "end_time": "2022-05-18T08:47:40.644477",
     "exception": false,
     "start_time": "2022-05-18T08:47:40.625784",
     "status": "completed"
    },
    "tags": []
   },
   "source": [
    "### Weight Analysis \n",
    "\n",
    "Study the weights of the skip connection layer\n",
    "\n",
    "Equation of the skip connection is \n",
    "\n",
    "$output = y_{gan} * w + y_{abc} * (1-w)$"
   ]
  },
  {
   "cell_type": "code",
   "execution_count": 19,
   "id": "52c31dea",
   "metadata": {
    "execution": {
     "iopub.execute_input": "2022-05-18T08:47:40.685489Z",
     "iopub.status.busy": "2022-05-18T08:47:40.685077Z",
     "iopub.status.idle": "2022-05-18T08:47:40.688656Z",
     "shell.execute_reply": "2022-05-18T08:47:40.688871Z"
    },
    "id": "52c31dea",
    "papermill": {
     "duration": 0.025853,
     "end_time": "2022-05-18T08:47:40.688996",
     "exception": false,
     "start_time": "2022-05-18T08:47:40.663143",
     "status": "completed"
    },
    "tags": []
   },
   "outputs": [
    {
     "name": "stdout",
     "output_type": "stream",
     "text": [
      "Weight of the node at skip connection\n",
      "Parameter containing:\n",
      "tensor([[0.1746]], requires_grad=True)\n"
     ]
    },
    {
     "data": {
      "application/scrapbook.scrap.json+json": {
       "data": 0.17464107275009155,
       "encoder": "json",
       "name": "Skip Connection Weight",
       "version": 1
      }
     },
     "metadata": {
      "scrapbook": {
       "data": true,
       "display": false,
       "name": "Skip Connection Weight"
      }
     },
     "output_type": "display_data"
    }
   ],
   "source": [
    "print(\"Weight of the node at skip connection\")\n",
    "for name,param in gen3.named_parameters():\n",
    "    if(name == \"skipNode.weight\"):\n",
    "        print(param)\n",
    "        sb.glue(\"Skip Connection Weight\",param.item())"
   ]
  }
 ],
 "metadata": {
  "colab": {
   "collapsed_sections": [],
   "name": "ABC_GAN_Model-Catboost_Pre-gen.ipynb",
   "provenance": []
  },
  "interpreter": {
   "hash": "31f2aee4e71d21fbe5cf8b01ff0e069b9275f58929596ceb00d14d90e3e16cd6"
  },
  "kernelspec": {
   "display_name": "Python 3 (ipykernel)",
   "language": "python",
   "name": "python3"
  },
  "language_info": {
   "codemirror_mode": {
    "name": "ipython",
    "version": 3
   },
   "file_extension": ".py",
   "mimetype": "text/x-python",
   "name": "python",
   "nbconvert_exporter": "python",
   "pygments_lexer": "ipython3",
   "version": "3.8.11"
  },
  "papermill": {
   "default_parameters": {},
   "duration": 61.253591,
   "end_time": "2022-05-18T08:47:41.023881",
   "environment_variables": {},
   "exception": null,
   "input_path": "ABC_GAN-Catboost.ipynb",
   "output_path": "./ABC_GAN_Catboost/ABC-GAN_output_9_1.ipynb",
   "parameters": {
    "variance": 0.1
   },
   "start_time": "2022-05-18T08:46:39.770290",
   "version": "2.3.3"
  }
 },
 "nbformat": 4,
 "nbformat_minor": 5
}