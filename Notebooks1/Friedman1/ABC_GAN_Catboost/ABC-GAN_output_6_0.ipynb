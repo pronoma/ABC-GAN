{
 "cells": [
  {
   "cell_type": "markdown",
   "id": "622780e6",
   "metadata": {
    "id": "622780e6",
    "papermill": {
     "duration": 0.034328,
     "end_time": "2022-05-18T08:37:02.313910",
     "exception": false,
     "start_time": "2022-05-18T08:37:02.279582",
     "status": "completed"
    },
    "tags": []
   },
   "source": [
    "## Import Libraries "
   ]
  },
  {
   "cell_type": "code",
   "execution_count": 1,
   "id": "a62397e3",
   "metadata": {
    "execution": {
     "iopub.execute_input": "2022-05-18T08:37:02.350249Z",
     "iopub.status.busy": "2022-05-18T08:37:02.349750Z",
     "iopub.status.idle": "2022-05-18T08:37:02.352052Z",
     "shell.execute_reply": "2022-05-18T08:37:02.352393Z"
    },
    "id": "a62397e3",
    "papermill": {
     "duration": 0.022138,
     "end_time": "2022-05-18T08:37:02.352605",
     "exception": false,
     "start_time": "2022-05-18T08:37:02.330467",
     "status": "completed"
    },
    "tags": []
   },
   "outputs": [],
   "source": [
    "import warnings\n",
    "import sys\n",
    "sys.path.insert(0, '../../src')\n",
    "warnings.filterwarnings('ignore')"
   ]
  },
  {
   "cell_type": "code",
   "execution_count": 2,
   "id": "d6a4e155",
   "metadata": {
    "execution": {
     "iopub.execute_input": "2022-05-18T08:37:02.372836Z",
     "iopub.status.busy": "2022-05-18T08:37:02.372429Z",
     "iopub.status.idle": "2022-05-18T08:37:04.145481Z",
     "shell.execute_reply": "2022-05-18T08:37:04.145777Z"
    },
    "id": "d6a4e155",
    "papermill": {
     "duration": 1.784076,
     "end_time": "2022-05-18T08:37:04.146097",
     "exception": false,
     "start_time": "2022-05-18T08:37:02.362021",
     "status": "completed"
    },
    "tags": []
   },
   "outputs": [],
   "source": [
    "import ABC_train_test2\n",
    "import friedman1Dataset\n",
    "import network\n",
    "import dataset\n",
    "import sanityChecks\n",
    "import torch \n",
    "import scrapbook as sb\n",
    "from statistics import mean \n",
    "import catboost as ctb \n",
    "from sklearn.model_selection import train_test_split\n",
    "from sklearn.metrics import mean_squared_error,mean_absolute_error\n",
    "import numpy as np"
   ]
  },
  {
   "cell_type": "markdown",
   "id": "2fa5b0f7",
   "metadata": {
    "id": "2fa5b0f7",
    "papermill": {
     "duration": 0.007346,
     "end_time": "2022-05-18T08:37:04.161956",
     "exception": false,
     "start_time": "2022-05-18T08:37:04.154610",
     "status": "completed"
    },
    "tags": []
   },
   "source": [
    "## Parameters "
   ]
  },
  {
   "cell_type": "code",
   "execution_count": 3,
   "id": "783186fb",
   "metadata": {
    "execution": {
     "iopub.execute_input": "2022-05-18T08:37:04.179287Z",
     "iopub.status.busy": "2022-05-18T08:37:04.178830Z",
     "iopub.status.idle": "2022-05-18T08:37:04.180223Z",
     "shell.execute_reply": "2022-05-18T08:37:04.180478Z"
    },
    "id": "783186fb",
    "papermill": {
     "duration": 0.011365,
     "end_time": "2022-05-18T08:37:04.180598",
     "exception": false,
     "start_time": "2022-05-18T08:37:04.169233",
     "status": "completed"
    },
    "tags": [
     "parameters"
    ]
   },
   "outputs": [],
   "source": [
    "variance = 1"
   ]
  },
  {
   "cell_type": "code",
   "execution_count": 4,
   "id": "9ad308fd",
   "metadata": {
    "execution": {
     "iopub.execute_input": "2022-05-18T08:37:04.197541Z",
     "iopub.status.busy": "2022-05-18T08:37:04.197074Z",
     "iopub.status.idle": "2022-05-18T08:37:04.198511Z",
     "shell.execute_reply": "2022-05-18T08:37:04.198773Z"
    },
    "papermill": {
     "duration": 0.011093,
     "end_time": "2022-05-18T08:37:04.198901",
     "exception": false,
     "start_time": "2022-05-18T08:37:04.187808",
     "status": "completed"
    },
    "tags": [
     "injected-parameters"
    ]
   },
   "outputs": [],
   "source": [
    "# Parameters\n",
    "variance = 1\n"
   ]
  },
  {
   "cell_type": "markdown",
   "id": "391cdbfd",
   "metadata": {
    "id": "391cdbfd",
    "papermill": {
     "duration": 0.007082,
     "end_time": "2022-05-18T08:37:04.213166",
     "exception": false,
     "start_time": "2022-05-18T08:37:04.206084",
     "status": "completed"
    },
    "tags": []
   },
   "source": [
    "## Dataset \n"
   ]
  },
  {
   "cell_type": "code",
   "execution_count": 5,
   "id": "5b51f161",
   "metadata": {
    "execution": {
     "iopub.execute_input": "2022-05-18T08:37:04.229898Z",
     "iopub.status.busy": "2022-05-18T08:37:04.229468Z",
     "iopub.status.idle": "2022-05-18T08:37:04.230613Z",
     "shell.execute_reply": "2022-05-18T08:37:04.230856Z"
    },
    "id": "5b51f161",
    "papermill": {
     "duration": 0.010731,
     "end_time": "2022-05-18T08:37:04.230977",
     "exception": false,
     "start_time": "2022-05-18T08:37:04.220246",
     "status": "completed"
    },
    "tags": []
   },
   "outputs": [],
   "source": [
    "#Parameters \n",
    "n_features = 5\n",
    "n_samples= 100\n",
    "n_target = 1 "
   ]
  },
  {
   "cell_type": "code",
   "execution_count": 6,
   "id": "5d6eced4",
   "metadata": {
    "execution": {
     "iopub.execute_input": "2022-05-18T08:37:04.248571Z",
     "iopub.status.busy": "2022-05-18T08:37:04.247237Z",
     "iopub.status.idle": "2022-05-18T08:37:04.253734Z",
     "shell.execute_reply": "2022-05-18T08:37:04.254029Z"
    },
    "id": "5d6eced4",
    "papermill": {
     "duration": 0.01615,
     "end_time": "2022-05-18T08:37:04.254199",
     "exception": false,
     "start_time": "2022-05-18T08:37:04.238049",
     "status": "completed"
    },
    "tags": []
   },
   "outputs": [
    {
     "name": "stdout",
     "output_type": "stream",
     "text": [
      "         X0        X1        X2        X3        X4         Y\n",
      "0 -0.509945  0.895471  0.514895  1.478223 -0.678759  1.149460\n",
      "1 -0.481325 -0.501168 -1.706469  1.670211 -0.927320  0.816243\n",
      "2  1.377742  1.247364 -1.333221 -0.052293 -1.612513 -0.312384\n",
      "3 -0.604900  0.645016 -0.620896  1.504347  0.550860  1.099567\n",
      "4  1.343534 -1.298190  1.183107 -0.911428  0.986447 -0.286157\n"
     ]
    }
   ],
   "source": [
    "X,Y = friedman1Dataset.friedman1_data(n_samples,n_features)"
   ]
  },
  {
   "cell_type": "code",
   "execution_count": 7,
   "id": "fe007438",
   "metadata": {
    "execution": {
     "iopub.execute_input": "2022-05-18T08:37:04.271672Z",
     "iopub.status.busy": "2022-05-18T08:37:04.271301Z",
     "iopub.status.idle": "2022-05-18T08:37:04.272610Z",
     "shell.execute_reply": "2022-05-18T08:37:04.272856Z"
    },
    "id": "fe007438",
    "papermill": {
     "duration": 0.011367,
     "end_time": "2022-05-18T08:37:04.272967",
     "exception": false,
     "start_time": "2022-05-18T08:37:04.261600",
     "status": "completed"
    },
    "tags": []
   },
   "outputs": [],
   "source": [
    "#Train test split for dataset \n",
    "X_train,X_test,Y_train,Y_test = train_test_split(X,Y,test_size = 0.2)\n",
    "train_data = dataset.CustomDataset(X_train,Y_train)\n",
    "test_data = dataset.CustomDataset(X_test,Y_test)\n"
   ]
  },
  {
   "cell_type": "markdown",
   "id": "a9a1af34",
   "metadata": {
    "id": "a9a1af34",
    "papermill": {
     "duration": 0.007081,
     "end_time": "2022-05-18T08:37:04.287186",
     "exception": false,
     "start_time": "2022-05-18T08:37:04.280105",
     "status": "completed"
    },
    "tags": []
   },
   "source": [
    "## Training Parameters "
   ]
  },
  {
   "cell_type": "code",
   "execution_count": 8,
   "id": "952b7fc8",
   "metadata": {
    "execution": {
     "iopub.execute_input": "2022-05-18T08:37:04.303650Z",
     "iopub.status.busy": "2022-05-18T08:37:04.303254Z",
     "iopub.status.idle": "2022-05-18T08:37:04.304466Z",
     "shell.execute_reply": "2022-05-18T08:37:04.304757Z"
    },
    "id": "952b7fc8",
    "papermill": {
     "duration": 0.010718,
     "end_time": "2022-05-18T08:37:04.304903",
     "exception": false,
     "start_time": "2022-05-18T08:37:04.294185",
     "status": "completed"
    },
    "tags": []
   },
   "outputs": [],
   "source": [
    "batch_size = 32\n",
    "n_epochs = 1000\n",
    "#Select the device \n",
    "device = torch.device('cuda' if torch.cuda.is_available() else 'cpu')"
   ]
  },
  {
   "cell_type": "markdown",
   "id": "a95e1600",
   "metadata": {
    "id": "a95e1600",
    "papermill": {
     "duration": 0.007114,
     "end_time": "2022-05-18T08:37:04.319246",
     "exception": false,
     "start_time": "2022-05-18T08:37:04.312132",
     "status": "completed"
    },
    "tags": []
   },
   "source": [
    "# ABC Pre-generator Model \n",
    "\n",
    "1. The catboost model is used as a pre-generator model for the ABC-GAN. \n",
    "2. The model is first trained on the entire dataset \n",
    "3. It generats X,Y pairs and we add some Gaussian noise with mean 0 and variance 1 to it which is then feed as input to the generator.\n"
   ]
  },
  {
   "cell_type": "code",
   "execution_count": 9,
   "id": "ff8ce7bd",
   "metadata": {
    "execution": {
     "iopub.execute_input": "2022-05-18T08:37:04.338522Z",
     "iopub.status.busy": "2022-05-18T08:37:04.338138Z",
     "iopub.status.idle": "2022-05-18T08:37:04.957770Z",
     "shell.execute_reply": "2022-05-18T08:37:04.958056Z"
    },
    "id": "ff8ce7bd",
    "papermill": {
     "duration": 0.631288,
     "end_time": "2022-05-18T08:37:04.958177",
     "exception": false,
     "start_time": "2022-05-18T08:37:04.326889",
     "status": "completed"
    },
    "tags": []
   },
   "outputs": [
    {
     "name": "stdout",
     "output_type": "stream",
     "text": [
      "Learning rate set to 0.024897\n",
      "0:\tlearn: 1.0034796\ttotal: 57.4ms\tremaining: 57.4s\n",
      "1:\tlearn: 0.9955634\ttotal: 58.2ms\tremaining: 29s\n",
      "2:\tlearn: 0.9854152\ttotal: 58.9ms\tremaining: 19.6s\n",
      "3:\tlearn: 0.9751097\ttotal: 59.5ms\tremaining: 14.8s\n",
      "4:\tlearn: 0.9674357\ttotal: 60ms\tremaining: 11.9s\n",
      "5:\tlearn: 0.9584692\ttotal: 60.5ms\tremaining: 10s\n",
      "6:\tlearn: 0.9474819\ttotal: 61.2ms\tremaining: 8.68s\n",
      "7:\tlearn: 0.9363748\ttotal: 61.8ms\tremaining: 7.66s\n",
      "8:\tlearn: 0.9282240\ttotal: 62.3ms\tremaining: 6.86s\n",
      "9:\tlearn: 0.9187161\ttotal: 62.8ms\tremaining: 6.22s\n",
      "10:\tlearn: 0.9097925\ttotal: 63.3ms\tremaining: 5.69s\n",
      "11:\tlearn: 0.9001225\ttotal: 63.8ms\tremaining: 5.25s\n",
      "12:\tlearn: 0.8902356\ttotal: 64.2ms\tremaining: 4.88s\n",
      "13:\tlearn: 0.8818494\ttotal: 64.8ms\tremaining: 4.56s\n",
      "14:\tlearn: 0.8752731\ttotal: 65.2ms\tremaining: 4.28s\n",
      "15:\tlearn: 0.8682358\ttotal: 65.6ms\tremaining: 4.04s\n",
      "16:\tlearn: 0.8611355\ttotal: 66.1ms\tremaining: 3.82s\n",
      "17:\tlearn: 0.8516464\ttotal: 66.7ms\tremaining: 3.64s\n",
      "18:\tlearn: 0.8446194\ttotal: 67.1ms\tremaining: 3.46s\n",
      "19:\tlearn: 0.8356763\ttotal: 67.6ms\tremaining: 3.31s\n",
      "20:\tlearn: 0.8281432\ttotal: 68ms\tremaining: 3.17s\n",
      "21:\tlearn: 0.8198137\ttotal: 68.5ms\tremaining: 3.04s\n",
      "22:\tlearn: 0.8121346\ttotal: 68.9ms\tremaining: 2.93s\n",
      "23:\tlearn: 0.8054851\ttotal: 69.5ms\tremaining: 2.83s\n",
      "24:\tlearn: 0.7972447\ttotal: 70ms\tremaining: 2.73s\n",
      "25:\tlearn: 0.7908631\ttotal: 70.7ms\tremaining: 2.65s\n",
      "26:\tlearn: 0.7850558\ttotal: 71.2ms\tremaining: 2.56s\n",
      "27:\tlearn: 0.7771484\ttotal: 71.6ms\tremaining: 2.48s\n",
      "28:\tlearn: 0.7695371\ttotal: 72ms\tremaining: 2.41s\n",
      "29:\tlearn: 0.7635612\ttotal: 72.4ms\tremaining: 2.34s\n",
      "30:\tlearn: 0.7574958\ttotal: 73ms\tremaining: 2.28s\n",
      "31:\tlearn: 0.7491283\ttotal: 73.4ms\tremaining: 2.22s\n",
      "32:\tlearn: 0.7435108\ttotal: 73.9ms\tremaining: 2.17s\n",
      "33:\tlearn: 0.7378140\ttotal: 74.4ms\tremaining: 2.11s\n",
      "34:\tlearn: 0.7323499\ttotal: 74.9ms\tremaining: 2.06s\n",
      "35:\tlearn: 0.7272603\ttotal: 75.4ms\tremaining: 2.02s\n",
      "36:\tlearn: 0.7204156\ttotal: 75.8ms\tremaining: 1.97s\n",
      "37:\tlearn: 0.7142707\ttotal: 76.3ms\tremaining: 1.93s\n",
      "38:\tlearn: 0.7082088\ttotal: 76.9ms\tremaining: 1.89s\n",
      "39:\tlearn: 0.7026339\ttotal: 77.4ms\tremaining: 1.86s\n",
      "40:\tlearn: 0.6957521\ttotal: 77.9ms\tremaining: 1.82s\n",
      "41:\tlearn: 0.6892937\ttotal: 78.4ms\tremaining: 1.79s\n",
      "42:\tlearn: 0.6826524\ttotal: 78.8ms\tremaining: 1.75s\n",
      "43:\tlearn: 0.6759303\ttotal: 79.1ms\tremaining: 1.72s\n",
      "44:\tlearn: 0.6683741\ttotal: 79.6ms\tremaining: 1.69s\n",
      "45:\tlearn: 0.6617798\ttotal: 80ms\tremaining: 1.66s\n",
      "46:\tlearn: 0.6566248\ttotal: 80.6ms\tremaining: 1.63s\n",
      "47:\tlearn: 0.6501047\ttotal: 80.9ms\tremaining: 1.6s\n",
      "48:\tlearn: 0.6444024\ttotal: 81.3ms\tremaining: 1.58s\n",
      "49:\tlearn: 0.6382670\ttotal: 81.7ms\tremaining: 1.55s\n",
      "50:\tlearn: 0.6320351\ttotal: 82.3ms\tremaining: 1.53s\n",
      "51:\tlearn: 0.6255719\ttotal: 82.9ms\tremaining: 1.51s\n",
      "52:\tlearn: 0.6195216\ttotal: 83.4ms\tremaining: 1.49s\n",
      "53:\tlearn: 0.6146434\ttotal: 83.9ms\tremaining: 1.47s\n",
      "54:\tlearn: 0.6105699\ttotal: 84.3ms\tremaining: 1.45s\n",
      "55:\tlearn: 0.6057500\ttotal: 84.7ms\tremaining: 1.43s\n",
      "56:\tlearn: 0.6008245\ttotal: 85.4ms\tremaining: 1.41s\n",
      "57:\tlearn: 0.5961917\ttotal: 86ms\tremaining: 1.4s\n",
      "58:\tlearn: 0.5915409\ttotal: 86.4ms\tremaining: 1.38s\n",
      "59:\tlearn: 0.5860413\ttotal: 87.1ms\tremaining: 1.36s\n",
      "60:\tlearn: 0.5817091\ttotal: 87.5ms\tremaining: 1.35s\n",
      "61:\tlearn: 0.5768575\ttotal: 88.1ms\tremaining: 1.33s\n",
      "62:\tlearn: 0.5721507\ttotal: 88.6ms\tremaining: 1.32s\n",
      "63:\tlearn: 0.5661762\ttotal: 89ms\tremaining: 1.3s\n",
      "64:\tlearn: 0.5615873\ttotal: 89.5ms\tremaining: 1.29s\n",
      "65:\tlearn: 0.5572860\ttotal: 89.9ms\tremaining: 1.27s\n",
      "66:\tlearn: 0.5526787\ttotal: 90.2ms\tremaining: 1.26s\n",
      "67:\tlearn: 0.5486870\ttotal: 90.6ms\tremaining: 1.24s\n",
      "68:\tlearn: 0.5448698\ttotal: 91.1ms\tremaining: 1.23s\n",
      "69:\tlearn: 0.5396350\ttotal: 91.6ms\tremaining: 1.22s\n",
      "70:\tlearn: 0.5356983\ttotal: 92ms\tremaining: 1.2s\n",
      "71:\tlearn: 0.5307701\ttotal: 92.4ms\tremaining: 1.19s\n",
      "72:\tlearn: 0.5261012\ttotal: 92.8ms\tremaining: 1.18s\n",
      "73:\tlearn: 0.5215791\ttotal: 93.3ms\tremaining: 1.17s\n",
      "74:\tlearn: 0.5177861\ttotal: 93.8ms\tremaining: 1.16s\n",
      "75:\tlearn: 0.5137905\ttotal: 94.5ms\tremaining: 1.15s\n",
      "76:\tlearn: 0.5100357\ttotal: 95ms\tremaining: 1.14s\n",
      "77:\tlearn: 0.5058868\ttotal: 95.4ms\tremaining: 1.13s\n",
      "78:\tlearn: 0.5026052\ttotal: 95.9ms\tremaining: 1.12s\n",
      "79:\tlearn: 0.4985339\ttotal: 96.5ms\tremaining: 1.11s\n",
      "80:\tlearn: 0.4948364\ttotal: 97ms\tremaining: 1.1s\n",
      "81:\tlearn: 0.4912162\ttotal: 97.3ms\tremaining: 1.09s\n",
      "82:\tlearn: 0.4871019\ttotal: 97.7ms\tremaining: 1.08s\n",
      "83:\tlearn: 0.4833442\ttotal: 98.3ms\tremaining: 1.07s\n",
      "84:\tlearn: 0.4794253\ttotal: 98.7ms\tremaining: 1.06s\n",
      "85:\tlearn: 0.4761508\ttotal: 99.2ms\tremaining: 1.05s\n",
      "86:\tlearn: 0.4724029\ttotal: 99.7ms\tremaining: 1.05s\n",
      "87:\tlearn: 0.4688230\ttotal: 100ms\tremaining: 1.04s\n",
      "88:\tlearn: 0.4651589\ttotal: 101ms\tremaining: 1.03s\n",
      "89:\tlearn: 0.4614198\ttotal: 101ms\tremaining: 1.02s\n",
      "90:\tlearn: 0.4574669\ttotal: 102ms\tremaining: 1.02s\n",
      "91:\tlearn: 0.4535454\ttotal: 103ms\tremaining: 1.01s\n",
      "92:\tlearn: 0.4502852\ttotal: 103ms\tremaining: 1s\n",
      "93:\tlearn: 0.4462581\ttotal: 104ms\tremaining: 999ms\n",
      "94:\tlearn: 0.4429608\ttotal: 104ms\tremaining: 992ms\n",
      "95:\tlearn: 0.4398914\ttotal: 105ms\tremaining: 985ms\n",
      "96:\tlearn: 0.4369495\ttotal: 105ms\tremaining: 980ms\n",
      "97:\tlearn: 0.4336872\ttotal: 106ms\tremaining: 972ms\n"
     ]
    },
    {
     "name": "stdout",
     "output_type": "stream",
     "text": [
      "98:\tlearn: 0.4304059\ttotal: 106ms\tremaining: 967ms\n",
      "99:\tlearn: 0.4266444\ttotal: 107ms\tremaining: 961ms\n",
      "100:\tlearn: 0.4237255\ttotal: 107ms\tremaining: 955ms\n",
      "101:\tlearn: 0.4202094\ttotal: 108ms\tremaining: 949ms\n",
      "102:\tlearn: 0.4173262\ttotal: 108ms\tremaining: 941ms\n",
      "103:\tlearn: 0.4139759\ttotal: 109ms\tremaining: 935ms\n",
      "104:\tlearn: 0.4105976\ttotal: 109ms\tremaining: 930ms\n",
      "105:\tlearn: 0.4075075\ttotal: 110ms\tremaining: 925ms\n",
      "106:\tlearn: 0.4042266\ttotal: 110ms\tremaining: 919ms\n",
      "107:\tlearn: 0.4015268\ttotal: 111ms\tremaining: 913ms\n",
      "108:\tlearn: 0.3985963\ttotal: 111ms\tremaining: 907ms\n",
      "109:\tlearn: 0.3957885\ttotal: 112ms\tremaining: 902ms\n",
      "110:\tlearn: 0.3928077\ttotal: 112ms\tremaining: 896ms\n",
      "111:\tlearn: 0.3898995\ttotal: 112ms\tremaining: 889ms\n",
      "112:\tlearn: 0.3868461\ttotal: 113ms\tremaining: 884ms\n",
      "113:\tlearn: 0.3843092\ttotal: 113ms\tremaining: 878ms\n",
      "114:\tlearn: 0.3812953\ttotal: 113ms\tremaining: 872ms\n",
      "115:\tlearn: 0.3781249\ttotal: 114ms\tremaining: 868ms\n",
      "116:\tlearn: 0.3757145\ttotal: 114ms\tremaining: 864ms\n",
      "117:\tlearn: 0.3730168\ttotal: 115ms\tremaining: 858ms\n",
      "118:\tlearn: 0.3708694\ttotal: 115ms\tremaining: 853ms\n",
      "119:\tlearn: 0.3683260\ttotal: 116ms\tremaining: 848ms\n",
      "120:\tlearn: 0.3659040\ttotal: 116ms\tremaining: 846ms\n",
      "121:\tlearn: 0.3634362\ttotal: 117ms\tremaining: 840ms\n",
      "122:\tlearn: 0.3612832\ttotal: 117ms\tremaining: 835ms\n",
      "123:\tlearn: 0.3588251\ttotal: 118ms\tremaining: 833ms\n",
      "124:\tlearn: 0.3562058\ttotal: 118ms\tremaining: 828ms\n",
      "125:\tlearn: 0.3533501\ttotal: 119ms\tremaining: 823ms\n",
      "126:\tlearn: 0.3504066\ttotal: 119ms\tremaining: 819ms\n",
      "127:\tlearn: 0.3474195\ttotal: 120ms\tremaining: 815ms\n",
      "128:\tlearn: 0.3445547\ttotal: 120ms\tremaining: 811ms\n",
      "129:\tlearn: 0.3424978\ttotal: 121ms\tremaining: 807ms\n",
      "130:\tlearn: 0.3402898\ttotal: 121ms\tremaining: 804ms\n",
      "131:\tlearn: 0.3383785\ttotal: 122ms\tremaining: 800ms\n",
      "132:\tlearn: 0.3360321\ttotal: 122ms\tremaining: 796ms\n",
      "133:\tlearn: 0.3337622\ttotal: 123ms\tremaining: 793ms\n",
      "134:\tlearn: 0.3312047\ttotal: 123ms\tremaining: 788ms\n",
      "135:\tlearn: 0.3294079\ttotal: 123ms\tremaining: 784ms\n",
      "136:\tlearn: 0.3270244\ttotal: 124ms\tremaining: 780ms\n",
      "137:\tlearn: 0.3250469\ttotal: 124ms\tremaining: 776ms\n",
      "138:\tlearn: 0.3230097\ttotal: 125ms\tremaining: 772ms\n",
      "139:\tlearn: 0.3200615\ttotal: 125ms\tremaining: 769ms\n",
      "140:\tlearn: 0.3183733\ttotal: 126ms\tremaining: 765ms\n",
      "141:\tlearn: 0.3162775\ttotal: 126ms\tremaining: 762ms\n",
      "142:\tlearn: 0.3142162\ttotal: 127ms\tremaining: 758ms\n",
      "143:\tlearn: 0.3121211\ttotal: 127ms\tremaining: 755ms\n",
      "144:\tlearn: 0.3098919\ttotal: 128ms\tremaining: 752ms\n",
      "145:\tlearn: 0.3079261\ttotal: 128ms\tremaining: 749ms\n",
      "146:\tlearn: 0.3057773\ttotal: 128ms\tremaining: 745ms\n",
      "147:\tlearn: 0.3039005\ttotal: 129ms\tremaining: 742ms\n",
      "148:\tlearn: 0.3019020\ttotal: 129ms\tremaining: 739ms\n",
      "149:\tlearn: 0.2996265\ttotal: 130ms\tremaining: 736ms\n",
      "150:\tlearn: 0.2977904\ttotal: 130ms\tremaining: 733ms\n",
      "151:\tlearn: 0.2960644\ttotal: 131ms\tremaining: 730ms\n",
      "152:\tlearn: 0.2937304\ttotal: 131ms\tremaining: 726ms\n",
      "153:\tlearn: 0.2915377\ttotal: 132ms\tremaining: 723ms\n",
      "154:\tlearn: 0.2891331\ttotal: 132ms\tremaining: 721ms\n",
      "155:\tlearn: 0.2874019\ttotal: 133ms\tremaining: 718ms\n",
      "156:\tlearn: 0.2853522\ttotal: 133ms\tremaining: 715ms\n",
      "157:\tlearn: 0.2835759\ttotal: 134ms\tremaining: 712ms\n",
      "158:\tlearn: 0.2818550\ttotal: 134ms\tremaining: 708ms\n",
      "159:\tlearn: 0.2796935\ttotal: 135ms\tremaining: 706ms\n",
      "160:\tlearn: 0.2778648\ttotal: 135ms\tremaining: 704ms\n",
      "161:\tlearn: 0.2757649\ttotal: 136ms\tremaining: 702ms\n",
      "162:\tlearn: 0.2741576\ttotal: 136ms\tremaining: 698ms\n",
      "163:\tlearn: 0.2722232\ttotal: 136ms\tremaining: 696ms\n",
      "164:\tlearn: 0.2707901\ttotal: 137ms\tremaining: 694ms\n",
      "165:\tlearn: 0.2690092\ttotal: 138ms\tremaining: 691ms\n",
      "166:\tlearn: 0.2675098\ttotal: 138ms\tremaining: 689ms\n",
      "167:\tlearn: 0.2655830\ttotal: 139ms\tremaining: 686ms\n",
      "168:\tlearn: 0.2633165\ttotal: 139ms\tremaining: 684ms\n",
      "169:\tlearn: 0.2615737\ttotal: 140ms\tremaining: 682ms\n",
      "170:\tlearn: 0.2598597\ttotal: 140ms\tremaining: 679ms\n",
      "171:\tlearn: 0.2581718\ttotal: 141ms\tremaining: 677ms\n",
      "172:\tlearn: 0.2562039\ttotal: 141ms\tremaining: 674ms\n",
      "173:\tlearn: 0.2542130\ttotal: 142ms\tremaining: 672ms\n",
      "174:\tlearn: 0.2523969\ttotal: 142ms\tremaining: 669ms\n",
      "175:\tlearn: 0.2504297\ttotal: 143ms\tremaining: 667ms\n",
      "176:\tlearn: 0.2489159\ttotal: 143ms\tremaining: 666ms\n",
      "177:\tlearn: 0.2469298\ttotal: 144ms\tremaining: 663ms\n",
      "178:\tlearn: 0.2450943\ttotal: 144ms\tremaining: 661ms\n",
      "179:\tlearn: 0.2437298\ttotal: 145ms\tremaining: 659ms\n",
      "180:\tlearn: 0.2423490\ttotal: 145ms\tremaining: 657ms\n",
      "181:\tlearn: 0.2409544\ttotal: 146ms\tremaining: 655ms\n",
      "182:\tlearn: 0.2391530\ttotal: 146ms\tremaining: 653ms\n",
      "183:\tlearn: 0.2376233\ttotal: 147ms\tremaining: 651ms\n",
      "184:\tlearn: 0.2362587\ttotal: 147ms\tremaining: 649ms\n",
      "185:\tlearn: 0.2347516\ttotal: 148ms\tremaining: 647ms\n",
      "186:\tlearn: 0.2331429\ttotal: 148ms\tremaining: 645ms\n",
      "187:\tlearn: 0.2315289\ttotal: 149ms\tremaining: 643ms\n",
      "188:\tlearn: 0.2299564\ttotal: 149ms\tremaining: 641ms\n",
      "189:\tlearn: 0.2283366\ttotal: 150ms\tremaining: 639ms\n",
      "190:\tlearn: 0.2264731\ttotal: 150ms\tremaining: 637ms\n",
      "191:\tlearn: 0.2248210\ttotal: 151ms\tremaining: 636ms\n",
      "192:\tlearn: 0.2230872\ttotal: 152ms\tremaining: 634ms\n",
      "193:\tlearn: 0.2215148\ttotal: 152ms\tremaining: 631ms\n",
      "194:\tlearn: 0.2204327\ttotal: 152ms\tremaining: 629ms\n",
      "195:\tlearn: 0.2188492\ttotal: 153ms\tremaining: 627ms\n",
      "196:\tlearn: 0.2172784\ttotal: 153ms\tremaining: 625ms\n",
      "197:\tlearn: 0.2157248\ttotal: 154ms\tremaining: 624ms\n",
      "198:\tlearn: 0.2142925\ttotal: 154ms\tremaining: 622ms\n",
      "199:\tlearn: 0.2131221\ttotal: 155ms\tremaining: 620ms\n",
      "200:\tlearn: 0.2121260\ttotal: 155ms\tremaining: 618ms\n",
      "201:\tlearn: 0.2109481\ttotal: 156ms\tremaining: 616ms\n",
      "202:\tlearn: 0.2099432\ttotal: 157ms\tremaining: 614ms\n",
      "203:\tlearn: 0.2085609\ttotal: 157ms\tremaining: 612ms\n",
      "204:\tlearn: 0.2074166\ttotal: 157ms\tremaining: 610ms\n",
      "205:\tlearn: 0.2058623\ttotal: 158ms\tremaining: 608ms\n",
      "206:\tlearn: 0.2043335\ttotal: 158ms\tremaining: 607ms\n",
      "207:\tlearn: 0.2031950\ttotal: 159ms\tremaining: 605ms\n",
      "208:\tlearn: 0.2020446\ttotal: 159ms\tremaining: 603ms\n",
      "209:\tlearn: 0.2004359\ttotal: 160ms\tremaining: 602ms\n",
      "210:\tlearn: 0.1992158\ttotal: 160ms\tremaining: 600ms\n",
      "211:\tlearn: 0.1978650\ttotal: 161ms\tremaining: 599ms\n",
      "212:\tlearn: 0.1965813\ttotal: 162ms\tremaining: 597ms\n",
      "213:\tlearn: 0.1952022\ttotal: 162ms\tremaining: 595ms\n",
      "214:\tlearn: 0.1940774\ttotal: 163ms\tremaining: 593ms\n",
      "215:\tlearn: 0.1926831\ttotal: 163ms\tremaining: 592ms\n",
      "216:\tlearn: 0.1913265\ttotal: 164ms\tremaining: 591ms\n",
      "217:\tlearn: 0.1899450\ttotal: 164ms\tremaining: 589ms\n",
      "218:\tlearn: 0.1889352\ttotal: 165ms\tremaining: 587ms\n",
      "219:\tlearn: 0.1880806\ttotal: 165ms\tremaining: 586ms\n",
      "220:\tlearn: 0.1867039\ttotal: 166ms\tremaining: 584ms\n",
      "221:\tlearn: 0.1854494\ttotal: 166ms\tremaining: 582ms\n",
      "222:\tlearn: 0.1839978\ttotal: 167ms\tremaining: 581ms\n",
      "223:\tlearn: 0.1827747\ttotal: 167ms\tremaining: 579ms\n",
      "224:\tlearn: 0.1815363\ttotal: 168ms\tremaining: 577ms\n",
      "225:\tlearn: 0.1803188\ttotal: 168ms\tremaining: 575ms\n",
      "226:\tlearn: 0.1793840\ttotal: 168ms\tremaining: 573ms\n",
      "227:\tlearn: 0.1781574\ttotal: 169ms\tremaining: 571ms\n",
      "228:\tlearn: 0.1766000\ttotal: 169ms\tremaining: 570ms\n",
      "229:\tlearn: 0.1753387\ttotal: 170ms\tremaining: 568ms\n",
      "230:\tlearn: 0.1744691\ttotal: 170ms\tremaining: 567ms\n",
      "231:\tlearn: 0.1732535\ttotal: 171ms\tremaining: 566ms\n",
      "232:\tlearn: 0.1723578\ttotal: 171ms\tremaining: 564ms\n",
      "233:\tlearn: 0.1713615\ttotal: 172ms\tremaining: 563ms\n",
      "234:\tlearn: 0.1700858\ttotal: 172ms\tremaining: 561ms\n",
      "235:\tlearn: 0.1691425\ttotal: 173ms\tremaining: 560ms\n",
      "236:\tlearn: 0.1680773\ttotal: 173ms\tremaining: 558ms\n",
      "237:\tlearn: 0.1671404\ttotal: 174ms\tremaining: 557ms\n",
      "238:\tlearn: 0.1662371\ttotal: 175ms\tremaining: 556ms\n",
      "239:\tlearn: 0.1654272\ttotal: 175ms\tremaining: 555ms\n",
      "240:\tlearn: 0.1645541\ttotal: 176ms\tremaining: 553ms\n",
      "241:\tlearn: 0.1638265\ttotal: 176ms\tremaining: 552ms\n",
      "242:\tlearn: 0.1629746\ttotal: 177ms\tremaining: 550ms\n",
      "243:\tlearn: 0.1618685\ttotal: 177ms\tremaining: 548ms\n",
      "244:\tlearn: 0.1608434\ttotal: 178ms\tremaining: 547ms\n",
      "245:\tlearn: 0.1599202\ttotal: 179ms\tremaining: 548ms\n",
      "246:\tlearn: 0.1589626\ttotal: 179ms\tremaining: 546ms\n",
      "247:\tlearn: 0.1581019\ttotal: 180ms\tremaining: 545ms\n",
      "248:\tlearn: 0.1572512\ttotal: 180ms\tremaining: 544ms\n",
      "249:\tlearn: 0.1564881\ttotal: 181ms\tremaining: 542ms\n",
      "250:\tlearn: 0.1554713\ttotal: 181ms\tremaining: 541ms\n",
      "251:\tlearn: 0.1542397\ttotal: 182ms\tremaining: 539ms\n",
      "252:\tlearn: 0.1533322\ttotal: 182ms\tremaining: 538ms\n",
      "253:\tlearn: 0.1524584\ttotal: 183ms\tremaining: 536ms\n",
      "254:\tlearn: 0.1515649\ttotal: 183ms\tremaining: 535ms\n",
      "255:\tlearn: 0.1506541\ttotal: 184ms\tremaining: 534ms\n",
      "256:\tlearn: 0.1498080\ttotal: 184ms\tremaining: 533ms\n",
      "257:\tlearn: 0.1491074\ttotal: 185ms\tremaining: 531ms\n",
      "258:\tlearn: 0.1483826\ttotal: 185ms\tremaining: 530ms\n"
     ]
    },
    {
     "name": "stdout",
     "output_type": "stream",
     "text": [
      "259:\tlearn: 0.1478521\ttotal: 186ms\tremaining: 529ms\n",
      "260:\tlearn: 0.1474679\ttotal: 187ms\tremaining: 528ms\n",
      "261:\tlearn: 0.1468023\ttotal: 187ms\tremaining: 527ms\n",
      "262:\tlearn: 0.1461656\ttotal: 187ms\tremaining: 525ms\n",
      "263:\tlearn: 0.1454111\ttotal: 188ms\tremaining: 524ms\n",
      "264:\tlearn: 0.1446317\ttotal: 188ms\tremaining: 522ms\n",
      "265:\tlearn: 0.1435637\ttotal: 189ms\tremaining: 521ms\n",
      "266:\tlearn: 0.1424213\ttotal: 189ms\tremaining: 519ms\n",
      "267:\tlearn: 0.1417170\ttotal: 190ms\tremaining: 518ms\n",
      "268:\tlearn: 0.1410891\ttotal: 190ms\tremaining: 517ms\n",
      "269:\tlearn: 0.1400119\ttotal: 191ms\tremaining: 515ms\n",
      "270:\tlearn: 0.1391058\ttotal: 191ms\tremaining: 514ms\n",
      "271:\tlearn: 0.1381467\ttotal: 192ms\tremaining: 513ms\n",
      "272:\tlearn: 0.1371441\ttotal: 192ms\tremaining: 512ms\n",
      "273:\tlearn: 0.1365232\ttotal: 192ms\tremaining: 510ms\n",
      "274:\tlearn: 0.1356953\ttotal: 193ms\tremaining: 508ms\n",
      "275:\tlearn: 0.1346615\ttotal: 193ms\tremaining: 507ms\n",
      "276:\tlearn: 0.1340268\ttotal: 195ms\tremaining: 508ms\n",
      "277:\tlearn: 0.1333433\ttotal: 195ms\tremaining: 506ms\n",
      "278:\tlearn: 0.1322734\ttotal: 195ms\tremaining: 505ms\n",
      "279:\tlearn: 0.1318023\ttotal: 196ms\tremaining: 503ms\n",
      "280:\tlearn: 0.1309126\ttotal: 196ms\tremaining: 502ms\n",
      "281:\tlearn: 0.1302907\ttotal: 196ms\tremaining: 500ms\n",
      "282:\tlearn: 0.1297587\ttotal: 197ms\tremaining: 499ms\n",
      "283:\tlearn: 0.1289632\ttotal: 197ms\tremaining: 498ms\n",
      "284:\tlearn: 0.1283981\ttotal: 198ms\tremaining: 496ms\n",
      "285:\tlearn: 0.1274881\ttotal: 198ms\tremaining: 495ms\n",
      "286:\tlearn: 0.1266942\ttotal: 199ms\tremaining: 494ms\n",
      "287:\tlearn: 0.1263186\ttotal: 199ms\tremaining: 492ms\n",
      "288:\tlearn: 0.1257606\ttotal: 200ms\tremaining: 491ms\n",
      "289:\tlearn: 0.1252047\ttotal: 200ms\tremaining: 490ms\n",
      "290:\tlearn: 0.1242846\ttotal: 200ms\tremaining: 488ms\n",
      "291:\tlearn: 0.1236322\ttotal: 201ms\tremaining: 487ms\n",
      "292:\tlearn: 0.1231004\ttotal: 201ms\tremaining: 485ms\n",
      "293:\tlearn: 0.1223617\ttotal: 202ms\tremaining: 485ms\n",
      "294:\tlearn: 0.1217892\ttotal: 203ms\tremaining: 484ms\n",
      "295:\tlearn: 0.1212933\ttotal: 203ms\tremaining: 483ms\n",
      "296:\tlearn: 0.1203482\ttotal: 203ms\tremaining: 481ms\n",
      "297:\tlearn: 0.1195503\ttotal: 204ms\tremaining: 480ms\n",
      "298:\tlearn: 0.1190603\ttotal: 204ms\tremaining: 479ms\n",
      "299:\tlearn: 0.1185792\ttotal: 205ms\tremaining: 478ms\n",
      "300:\tlearn: 0.1181141\ttotal: 205ms\tremaining: 477ms\n",
      "301:\tlearn: 0.1173775\ttotal: 206ms\tremaining: 475ms\n",
      "302:\tlearn: 0.1169744\ttotal: 206ms\tremaining: 474ms\n",
      "303:\tlearn: 0.1165825\ttotal: 207ms\tremaining: 473ms\n",
      "304:\tlearn: 0.1157718\ttotal: 207ms\tremaining: 472ms\n",
      "305:\tlearn: 0.1153235\ttotal: 207ms\tremaining: 470ms\n",
      "306:\tlearn: 0.1146288\ttotal: 208ms\tremaining: 469ms\n",
      "307:\tlearn: 0.1142227\ttotal: 208ms\tremaining: 468ms\n",
      "308:\tlearn: 0.1135544\ttotal: 209ms\tremaining: 466ms\n",
      "309:\tlearn: 0.1131430\ttotal: 209ms\tremaining: 465ms\n",
      "310:\tlearn: 0.1126378\ttotal: 209ms\tremaining: 464ms\n",
      "311:\tlearn: 0.1121752\ttotal: 210ms\tremaining: 463ms\n",
      "312:\tlearn: 0.1117974\ttotal: 210ms\tremaining: 462ms\n",
      "313:\tlearn: 0.1114250\ttotal: 211ms\tremaining: 460ms\n",
      "314:\tlearn: 0.1109643\ttotal: 211ms\tremaining: 459ms\n",
      "315:\tlearn: 0.1102757\ttotal: 212ms\tremaining: 458ms\n",
      "316:\tlearn: 0.1098802\ttotal: 212ms\tremaining: 457ms\n",
      "317:\tlearn: 0.1095240\ttotal: 212ms\tremaining: 456ms\n",
      "318:\tlearn: 0.1091738\ttotal: 213ms\tremaining: 454ms\n",
      "319:\tlearn: 0.1087599\ttotal: 213ms\tremaining: 453ms\n",
      "320:\tlearn: 0.1082111\ttotal: 214ms\tremaining: 452ms\n",
      "321:\tlearn: 0.1078742\ttotal: 214ms\tremaining: 451ms\n",
      "322:\tlearn: 0.1070590\ttotal: 215ms\tremaining: 450ms\n",
      "323:\tlearn: 0.1067282\ttotal: 215ms\tremaining: 449ms\n",
      "324:\tlearn: 0.1063185\ttotal: 215ms\tremaining: 447ms\n",
      "325:\tlearn: 0.1054419\ttotal: 216ms\tremaining: 447ms\n",
      "326:\tlearn: 0.1051219\ttotal: 216ms\tremaining: 445ms\n",
      "327:\tlearn: 0.1047339\ttotal: 217ms\tremaining: 444ms\n",
      "328:\tlearn: 0.1039534\ttotal: 217ms\tremaining: 443ms\n",
      "329:\tlearn: 0.1035094\ttotal: 218ms\tremaining: 442ms\n",
      "330:\tlearn: 0.1027540\ttotal: 218ms\tremaining: 441ms\n",
      "331:\tlearn: 0.1022610\ttotal: 219ms\tremaining: 440ms\n",
      "332:\tlearn: 0.1019581\ttotal: 219ms\tremaining: 439ms\n",
      "333:\tlearn: 0.1016617\ttotal: 220ms\tremaining: 438ms\n",
      "334:\tlearn: 0.1013597\ttotal: 220ms\tremaining: 437ms\n",
      "335:\tlearn: 0.1010680\ttotal: 221ms\tremaining: 436ms\n",
      "336:\tlearn: 0.1007812\ttotal: 221ms\tremaining: 435ms\n",
      "337:\tlearn: 0.1004745\ttotal: 222ms\tremaining: 434ms\n",
      "338:\tlearn: 0.1001223\ttotal: 222ms\tremaining: 433ms\n",
      "339:\tlearn: 0.0998457\ttotal: 223ms\tremaining: 432ms\n",
      "340:\tlearn: 0.0995610\ttotal: 223ms\tremaining: 432ms\n",
      "341:\tlearn: 0.0987501\ttotal: 224ms\tremaining: 431ms\n",
      "342:\tlearn: 0.0984699\ttotal: 224ms\tremaining: 430ms\n",
      "343:\tlearn: 0.0978849\ttotal: 225ms\tremaining: 429ms\n",
      "344:\tlearn: 0.0974953\ttotal: 225ms\tremaining: 428ms\n",
      "345:\tlearn: 0.0972327\ttotal: 226ms\tremaining: 427ms\n",
      "346:\tlearn: 0.0969702\ttotal: 226ms\tremaining: 425ms\n",
      "347:\tlearn: 0.0964975\ttotal: 227ms\tremaining: 425ms\n",
      "348:\tlearn: 0.0962334\ttotal: 227ms\tremaining: 424ms\n",
      "349:\tlearn: 0.0959736\ttotal: 228ms\tremaining: 423ms\n",
      "350:\tlearn: 0.0957181\ttotal: 228ms\tremaining: 422ms\n",
      "351:\tlearn: 0.0954667\ttotal: 229ms\tremaining: 421ms\n",
      "352:\tlearn: 0.0952194\ttotal: 229ms\tremaining: 420ms\n",
      "353:\tlearn: 0.0949762\ttotal: 230ms\tremaining: 419ms\n",
      "354:\tlearn: 0.0947369\ttotal: 230ms\tremaining: 419ms\n",
      "355:\tlearn: 0.0945015\ttotal: 231ms\tremaining: 417ms\n",
      "356:\tlearn: 0.0937258\ttotal: 231ms\tremaining: 416ms\n",
      "357:\tlearn: 0.0929668\ttotal: 232ms\tremaining: 416ms\n",
      "358:\tlearn: 0.0927360\ttotal: 232ms\tremaining: 415ms\n",
      "359:\tlearn: 0.0925091\ttotal: 233ms\tremaining: 414ms\n",
      "360:\tlearn: 0.0917673\ttotal: 233ms\tremaining: 413ms\n",
      "361:\tlearn: 0.0915444\ttotal: 234ms\tremaining: 412ms\n",
      "362:\tlearn: 0.0913020\ttotal: 234ms\tremaining: 411ms\n",
      "363:\tlearn: 0.0910638\ttotal: 235ms\tremaining: 410ms\n",
      "364:\tlearn: 0.0908495\ttotal: 235ms\tremaining: 409ms\n",
      "365:\tlearn: 0.0906387\ttotal: 236ms\tremaining: 409ms\n",
      "366:\tlearn: 0.0904313\ttotal: 236ms\tremaining: 408ms\n",
      "367:\tlearn: 0.0900892\ttotal: 237ms\tremaining: 407ms\n",
      "368:\tlearn: 0.0893681\ttotal: 237ms\tremaining: 406ms\n",
      "369:\tlearn: 0.0891445\ttotal: 238ms\tremaining: 405ms\n",
      "370:\tlearn: 0.0889250\ttotal: 238ms\tremaining: 404ms\n",
      "371:\tlearn: 0.0886243\ttotal: 239ms\tremaining: 403ms\n",
      "372:\tlearn: 0.0880290\ttotal: 239ms\tremaining: 402ms\n",
      "373:\tlearn: 0.0874192\ttotal: 240ms\tremaining: 401ms\n",
      "374:\tlearn: 0.0867447\ttotal: 240ms\tremaining: 400ms\n",
      "375:\tlearn: 0.0865344\ttotal: 241ms\tremaining: 399ms\n",
      "376:\tlearn: 0.0863442\ttotal: 241ms\tremaining: 398ms\n",
      "377:\tlearn: 0.0857034\ttotal: 242ms\tremaining: 398ms\n",
      "378:\tlearn: 0.0850761\ttotal: 242ms\tremaining: 397ms\n",
      "379:\tlearn: 0.0844769\ttotal: 243ms\tremaining: 396ms\n",
      "380:\tlearn: 0.0838518\ttotal: 243ms\tremaining: 395ms\n",
      "381:\tlearn: 0.0833153\ttotal: 244ms\tremaining: 394ms\n",
      "382:\tlearn: 0.0827255\ttotal: 244ms\tremaining: 394ms\n",
      "383:\tlearn: 0.0821737\ttotal: 245ms\tremaining: 392ms\n",
      "384:\tlearn: 0.0816154\ttotal: 245ms\tremaining: 392ms\n",
      "385:\tlearn: 0.0811041\ttotal: 246ms\tremaining: 391ms\n",
      "386:\tlearn: 0.0806011\ttotal: 246ms\tremaining: 390ms\n",
      "387:\tlearn: 0.0802057\ttotal: 247ms\tremaining: 389ms\n",
      "388:\tlearn: 0.0798180\ttotal: 247ms\tremaining: 389ms\n",
      "389:\tlearn: 0.0792896\ttotal: 248ms\tremaining: 388ms\n",
      "390:\tlearn: 0.0789121\ttotal: 249ms\tremaining: 388ms\n",
      "391:\tlearn: 0.0786506\ttotal: 250ms\tremaining: 387ms\n",
      "392:\tlearn: 0.0781664\ttotal: 250ms\tremaining: 386ms\n",
      "393:\tlearn: 0.0778008\ttotal: 251ms\tremaining: 385ms\n",
      "394:\tlearn: 0.0773342\ttotal: 251ms\tremaining: 385ms\n",
      "395:\tlearn: 0.0768765\ttotal: 251ms\tremaining: 384ms\n",
      "396:\tlearn: 0.0765228\ttotal: 253ms\tremaining: 384ms\n",
      "397:\tlearn: 0.0760265\ttotal: 253ms\tremaining: 382ms\n",
      "398:\tlearn: 0.0756825\ttotal: 253ms\tremaining: 382ms\n",
      "399:\tlearn: 0.0751454\ttotal: 254ms\tremaining: 381ms\n",
      "400:\tlearn: 0.0749271\ttotal: 255ms\tremaining: 381ms\n",
      "401:\tlearn: 0.0744899\ttotal: 255ms\tremaining: 380ms\n",
      "402:\tlearn: 0.0740608\ttotal: 256ms\tremaining: 379ms\n",
      "403:\tlearn: 0.0736396\ttotal: 256ms\tremaining: 378ms\n",
      "404:\tlearn: 0.0732262\ttotal: 257ms\tremaining: 377ms\n",
      "405:\tlearn: 0.0728205\ttotal: 257ms\tremaining: 376ms\n",
      "406:\tlearn: 0.0724224\ttotal: 258ms\tremaining: 375ms\n",
      "407:\tlearn: 0.0718902\ttotal: 258ms\tremaining: 375ms\n",
      "408:\tlearn: 0.0714739\ttotal: 259ms\tremaining: 374ms\n",
      "409:\tlearn: 0.0710660\ttotal: 259ms\tremaining: 373ms\n",
      "410:\tlearn: 0.0705109\ttotal: 260ms\tremaining: 372ms\n",
      "411:\tlearn: 0.0699671\ttotal: 260ms\tremaining: 371ms\n",
      "412:\tlearn: 0.0696001\ttotal: 260ms\tremaining: 370ms\n",
      "413:\tlearn: 0.0694196\ttotal: 261ms\tremaining: 369ms\n",
      "414:\tlearn: 0.0689988\ttotal: 261ms\tremaining: 368ms\n",
      "415:\tlearn: 0.0684777\ttotal: 262ms\tremaining: 367ms\n",
      "416:\tlearn: 0.0681288\ttotal: 262ms\tremaining: 367ms\n",
      "417:\tlearn: 0.0679362\ttotal: 263ms\tremaining: 366ms\n",
      "418:\tlearn: 0.0674261\ttotal: 263ms\tremaining: 365ms\n",
      "419:\tlearn: 0.0670214\ttotal: 263ms\tremaining: 364ms\n",
      "420:\tlearn: 0.0666307\ttotal: 264ms\tremaining: 363ms\n",
      "421:\tlearn: 0.0663413\ttotal: 264ms\tremaining: 362ms\n",
      "422:\tlearn: 0.0661761\ttotal: 265ms\tremaining: 361ms\n",
      "423:\tlearn: 0.0657909\ttotal: 265ms\tremaining: 360ms\n",
      "424:\tlearn: 0.0655098\ttotal: 266ms\tremaining: 359ms\n",
      "425:\tlearn: 0.0649656\ttotal: 266ms\tremaining: 359ms\n",
      "426:\tlearn: 0.0646021\ttotal: 267ms\tremaining: 358ms\n",
      "427:\tlearn: 0.0643306\ttotal: 267ms\tremaining: 357ms\n",
      "428:\tlearn: 0.0640151\ttotal: 268ms\tremaining: 356ms\n",
      "429:\tlearn: 0.0635612\ttotal: 268ms\tremaining: 355ms\n",
      "430:\tlearn: 0.0631184\ttotal: 269ms\tremaining: 355ms\n",
      "431:\tlearn: 0.0626740\ttotal: 269ms\tremaining: 354ms\n",
      "432:\tlearn: 0.0621579\ttotal: 270ms\tremaining: 353ms\n",
      "433:\tlearn: 0.0617830\ttotal: 270ms\tremaining: 352ms\n",
      "434:\tlearn: 0.0615292\ttotal: 271ms\tremaining: 351ms\n",
      "435:\tlearn: 0.0612806\ttotal: 271ms\tremaining: 351ms\n",
      "436:\tlearn: 0.0608890\ttotal: 272ms\tremaining: 350ms\n",
      "437:\tlearn: 0.0606481\ttotal: 272ms\tremaining: 349ms\n",
      "438:\tlearn: 0.0602690\ttotal: 272ms\tremaining: 348ms\n",
      "439:\tlearn: 0.0598025\ttotal: 273ms\tremaining: 347ms\n",
      "440:\tlearn: 0.0593449\ttotal: 273ms\tremaining: 346ms\n",
      "441:\tlearn: 0.0591136\ttotal: 274ms\tremaining: 345ms\n",
      "442:\tlearn: 0.0586693\ttotal: 274ms\tremaining: 345ms\n",
      "443:\tlearn: 0.0582333\ttotal: 275ms\tremaining: 344ms\n",
      "444:\tlearn: 0.0578023\ttotal: 275ms\tremaining: 343ms\n",
      "445:\tlearn: 0.0575087\ttotal: 276ms\tremaining: 342ms\n",
      "446:\tlearn: 0.0572871\ttotal: 276ms\tremaining: 342ms\n",
      "447:\tlearn: 0.0568226\ttotal: 276ms\tremaining: 341ms\n",
      "448:\tlearn: 0.0564119\ttotal: 277ms\tremaining: 340ms\n",
      "449:\tlearn: 0.0560227\ttotal: 277ms\tremaining: 339ms\n",
      "450:\tlearn: 0.0556226\ttotal: 278ms\tremaining: 338ms\n",
      "451:\tlearn: 0.0554095\ttotal: 278ms\tremaining: 337ms\n",
      "452:\tlearn: 0.0549875\ttotal: 279ms\tremaining: 337ms\n",
      "453:\tlearn: 0.0546141\ttotal: 280ms\tremaining: 337ms\n",
      "454:\tlearn: 0.0541934\ttotal: 280ms\tremaining: 336ms\n",
      "455:\tlearn: 0.0538298\ttotal: 281ms\tremaining: 335ms\n",
      "456:\tlearn: 0.0535645\ttotal: 281ms\tremaining: 334ms\n",
      "457:\tlearn: 0.0531138\ttotal: 282ms\tremaining: 333ms\n",
      "458:\tlearn: 0.0528063\ttotal: 282ms\tremaining: 333ms\n",
      "459:\tlearn: 0.0526071\ttotal: 283ms\tremaining: 332ms\n",
      "460:\tlearn: 0.0522123\ttotal: 283ms\tremaining: 331ms\n",
      "461:\tlearn: 0.0519134\ttotal: 284ms\tremaining: 330ms\n",
      "462:\tlearn: 0.0514858\ttotal: 284ms\tremaining: 330ms\n",
      "463:\tlearn: 0.0510690\ttotal: 285ms\tremaining: 329ms\n",
      "464:\tlearn: 0.0506938\ttotal: 285ms\tremaining: 328ms\n",
      "465:\tlearn: 0.0502916\ttotal: 286ms\tremaining: 327ms\n",
      "466:\tlearn: 0.0500082\ttotal: 286ms\tremaining: 327ms\n",
      "467:\tlearn: 0.0496187\ttotal: 287ms\tremaining: 326ms\n",
      "468:\tlearn: 0.0492621\ttotal: 287ms\tremaining: 325ms\n",
      "469:\tlearn: 0.0488863\ttotal: 288ms\tremaining: 324ms\n",
      "470:\tlearn: 0.0486195\ttotal: 288ms\tremaining: 323ms\n",
      "471:\tlearn: 0.0482550\ttotal: 289ms\tremaining: 323ms\n"
     ]
    },
    {
     "name": "stdout",
     "output_type": "stream",
     "text": [
      "472:\tlearn: 0.0479951\ttotal: 289ms\tremaining: 322ms\n",
      "473:\tlearn: 0.0476414\ttotal: 290ms\tremaining: 321ms\n",
      "474:\tlearn: 0.0473257\ttotal: 290ms\tremaining: 321ms\n",
      "475:\tlearn: 0.0469697\ttotal: 290ms\tremaining: 320ms\n",
      "476:\tlearn: 0.0467214\ttotal: 291ms\tremaining: 319ms\n",
      "477:\tlearn: 0.0465448\ttotal: 291ms\tremaining: 318ms\n",
      "478:\tlearn: 0.0462222\ttotal: 292ms\tremaining: 317ms\n",
      "479:\tlearn: 0.0458882\ttotal: 292ms\tremaining: 317ms\n",
      "480:\tlearn: 0.0455354\ttotal: 293ms\tremaining: 316ms\n",
      "481:\tlearn: 0.0452133\ttotal: 293ms\tremaining: 315ms\n",
      "482:\tlearn: 0.0449176\ttotal: 294ms\tremaining: 314ms\n",
      "483:\tlearn: 0.0446843\ttotal: 294ms\tremaining: 314ms\n",
      "484:\tlearn: 0.0444793\ttotal: 294ms\tremaining: 313ms\n",
      "485:\tlearn: 0.0442223\ttotal: 295ms\tremaining: 312ms\n",
      "486:\tlearn: 0.0439718\ttotal: 295ms\tremaining: 311ms\n",
      "487:\tlearn: 0.0436906\ttotal: 296ms\tremaining: 310ms\n",
      "488:\tlearn: 0.0434705\ttotal: 296ms\tremaining: 309ms\n",
      "489:\tlearn: 0.0432291\ttotal: 297ms\tremaining: 309ms\n",
      "490:\tlearn: 0.0430759\ttotal: 297ms\tremaining: 308ms\n",
      "491:\tlearn: 0.0429186\ttotal: 297ms\tremaining: 307ms\n",
      "492:\tlearn: 0.0426987\ttotal: 298ms\tremaining: 306ms\n",
      "493:\tlearn: 0.0424168\ttotal: 298ms\tremaining: 305ms\n",
      "494:\tlearn: 0.0421869\ttotal: 299ms\tremaining: 305ms\n",
      "495:\tlearn: 0.0419228\ttotal: 299ms\tremaining: 304ms\n",
      "496:\tlearn: 0.0416418\ttotal: 299ms\tremaining: 303ms\n",
      "497:\tlearn: 0.0414899\ttotal: 300ms\tremaining: 302ms\n",
      "498:\tlearn: 0.0411912\ttotal: 300ms\tremaining: 302ms\n",
      "499:\tlearn: 0.0409742\ttotal: 301ms\tremaining: 301ms\n",
      "500:\tlearn: 0.0407441\ttotal: 301ms\tremaining: 300ms\n",
      "501:\tlearn: 0.0406006\ttotal: 302ms\tremaining: 299ms\n",
      "502:\tlearn: 0.0403773\ttotal: 302ms\tremaining: 299ms\n",
      "503:\tlearn: 0.0402374\ttotal: 303ms\tremaining: 298ms\n",
      "504:\tlearn: 0.0400595\ttotal: 303ms\tremaining: 297ms\n",
      "505:\tlearn: 0.0397978\ttotal: 303ms\tremaining: 296ms\n",
      "506:\tlearn: 0.0395531\ttotal: 304ms\tremaining: 295ms\n",
      "507:\tlearn: 0.0392995\ttotal: 304ms\tremaining: 295ms\n",
      "508:\tlearn: 0.0391662\ttotal: 305ms\tremaining: 294ms\n",
      "509:\tlearn: 0.0390356\ttotal: 305ms\tremaining: 293ms\n",
      "510:\tlearn: 0.0387973\ttotal: 306ms\tremaining: 293ms\n",
      "511:\tlearn: 0.0386318\ttotal: 306ms\tremaining: 292ms\n",
      "512:\tlearn: 0.0384253\ttotal: 307ms\tremaining: 291ms\n",
      "513:\tlearn: 0.0382994\ttotal: 307ms\tremaining: 290ms\n",
      "514:\tlearn: 0.0381064\ttotal: 308ms\tremaining: 290ms\n",
      "515:\tlearn: 0.0378897\ttotal: 308ms\tremaining: 289ms\n",
      "516:\tlearn: 0.0377605\ttotal: 308ms\tremaining: 288ms\n",
      "517:\tlearn: 0.0376424\ttotal: 309ms\tremaining: 287ms\n",
      "518:\tlearn: 0.0374403\ttotal: 309ms\tremaining: 287ms\n",
      "519:\tlearn: 0.0372846\ttotal: 310ms\tremaining: 286ms\n",
      "520:\tlearn: 0.0371649\ttotal: 310ms\tremaining: 285ms\n",
      "521:\tlearn: 0.0370134\ttotal: 311ms\tremaining: 285ms\n",
      "522:\tlearn: 0.0368311\ttotal: 311ms\tremaining: 284ms\n",
      "523:\tlearn: 0.0366497\ttotal: 312ms\tremaining: 283ms\n",
      "524:\tlearn: 0.0364647\ttotal: 312ms\tremaining: 282ms\n",
      "525:\tlearn: 0.0362902\ttotal: 313ms\tremaining: 282ms\n",
      "526:\tlearn: 0.0361221\ttotal: 313ms\tremaining: 281ms\n",
      "527:\tlearn: 0.0359224\ttotal: 313ms\tremaining: 280ms\n",
      "528:\tlearn: 0.0357671\ttotal: 314ms\tremaining: 279ms\n",
      "529:\tlearn: 0.0355716\ttotal: 314ms\tremaining: 279ms\n",
      "530:\tlearn: 0.0354108\ttotal: 315ms\tremaining: 278ms\n",
      "531:\tlearn: 0.0352925\ttotal: 315ms\tremaining: 277ms\n",
      "532:\tlearn: 0.0351013\ttotal: 316ms\tremaining: 277ms\n",
      "533:\tlearn: 0.0349645\ttotal: 316ms\tremaining: 276ms\n",
      "534:\tlearn: 0.0348681\ttotal: 317ms\tremaining: 275ms\n",
      "535:\tlearn: 0.0347341\ttotal: 317ms\tremaining: 275ms\n",
      "536:\tlearn: 0.0345487\ttotal: 318ms\tremaining: 274ms\n",
      "537:\tlearn: 0.0344551\ttotal: 318ms\tremaining: 273ms\n",
      "538:\tlearn: 0.0342098\ttotal: 318ms\tremaining: 272ms\n",
      "539:\tlearn: 0.0340594\ttotal: 319ms\tremaining: 272ms\n",
      "540:\tlearn: 0.0339198\ttotal: 320ms\tremaining: 271ms\n",
      "541:\tlearn: 0.0338087\ttotal: 320ms\tremaining: 271ms\n",
      "542:\tlearn: 0.0336824\ttotal: 321ms\tremaining: 270ms\n",
      "543:\tlearn: 0.0335011\ttotal: 321ms\tremaining: 269ms\n",
      "544:\tlearn: 0.0333877\ttotal: 322ms\tremaining: 268ms\n",
      "545:\tlearn: 0.0332793\ttotal: 322ms\tremaining: 268ms\n",
      "546:\tlearn: 0.0330738\ttotal: 322ms\tremaining: 267ms\n",
      "547:\tlearn: 0.0328514\ttotal: 323ms\tremaining: 266ms\n",
      "548:\tlearn: 0.0326538\ttotal: 323ms\tremaining: 265ms\n",
      "549:\tlearn: 0.0325008\ttotal: 324ms\tremaining: 265ms\n",
      "550:\tlearn: 0.0322866\ttotal: 324ms\tremaining: 264ms\n",
      "551:\tlearn: 0.0320970\ttotal: 324ms\tremaining: 263ms\n",
      "552:\tlearn: 0.0318868\ttotal: 325ms\tremaining: 263ms\n",
      "553:\tlearn: 0.0316815\ttotal: 325ms\tremaining: 262ms\n",
      "554:\tlearn: 0.0314993\ttotal: 326ms\tremaining: 261ms\n",
      "555:\tlearn: 0.0312997\ttotal: 326ms\tremaining: 260ms\n",
      "556:\tlearn: 0.0311364\ttotal: 327ms\tremaining: 260ms\n",
      "557:\tlearn: 0.0309425\ttotal: 327ms\tremaining: 259ms\n",
      "558:\tlearn: 0.0307715\ttotal: 327ms\tremaining: 258ms\n",
      "559:\tlearn: 0.0306018\ttotal: 328ms\tremaining: 258ms\n",
      "560:\tlearn: 0.0304528\ttotal: 328ms\tremaining: 257ms\n",
      "561:\tlearn: 0.0303179\ttotal: 329ms\tremaining: 256ms\n",
      "562:\tlearn: 0.0301863\ttotal: 330ms\tremaining: 256ms\n",
      "563:\tlearn: 0.0300315\ttotal: 330ms\tremaining: 255ms\n",
      "564:\tlearn: 0.0299043\ttotal: 331ms\tremaining: 254ms\n",
      "565:\tlearn: 0.0297635\ttotal: 331ms\tremaining: 254ms\n",
      "566:\tlearn: 0.0296253\ttotal: 331ms\tremaining: 253ms\n",
      "567:\tlearn: 0.0294840\ttotal: 332ms\tremaining: 253ms\n",
      "568:\tlearn: 0.0293827\ttotal: 333ms\tremaining: 252ms\n",
      "569:\tlearn: 0.0292942\ttotal: 333ms\tremaining: 251ms\n",
      "570:\tlearn: 0.0291666\ttotal: 333ms\tremaining: 250ms\n",
      "571:\tlearn: 0.0290330\ttotal: 334ms\tremaining: 250ms\n",
      "572:\tlearn: 0.0289480\ttotal: 334ms\tremaining: 249ms\n",
      "573:\tlearn: 0.0288347\ttotal: 335ms\tremaining: 249ms\n",
      "574:\tlearn: 0.0286866\ttotal: 335ms\tremaining: 248ms\n",
      "575:\tlearn: 0.0285427\ttotal: 336ms\tremaining: 247ms\n",
      "576:\tlearn: 0.0284030\ttotal: 336ms\tremaining: 247ms\n",
      "577:\tlearn: 0.0282616\ttotal: 337ms\tremaining: 246ms\n",
      "578:\tlearn: 0.0281233\ttotal: 337ms\tremaining: 245ms\n",
      "579:\tlearn: 0.0280402\ttotal: 338ms\tremaining: 245ms\n",
      "580:\tlearn: 0.0279216\ttotal: 338ms\tremaining: 244ms\n",
      "581:\tlearn: 0.0278322\ttotal: 339ms\tremaining: 243ms\n",
      "582:\tlearn: 0.0276993\ttotal: 339ms\tremaining: 242ms\n",
      "583:\tlearn: 0.0275880\ttotal: 339ms\tremaining: 242ms\n",
      "584:\tlearn: 0.0275084\ttotal: 340ms\tremaining: 241ms\n",
      "585:\tlearn: 0.0273796\ttotal: 341ms\tremaining: 241ms\n",
      "586:\tlearn: 0.0273175\ttotal: 341ms\tremaining: 240ms\n",
      "587:\tlearn: 0.0272421\ttotal: 342ms\tremaining: 239ms\n",
      "588:\tlearn: 0.0271368\ttotal: 342ms\tremaining: 239ms\n",
      "589:\tlearn: 0.0270289\ttotal: 342ms\tremaining: 238ms\n",
      "590:\tlearn: 0.0269446\ttotal: 343ms\tremaining: 237ms\n",
      "591:\tlearn: 0.0268521\ttotal: 343ms\tremaining: 237ms\n",
      "592:\tlearn: 0.0267302\ttotal: 344ms\tremaining: 236ms\n",
      "593:\tlearn: 0.0266046\ttotal: 344ms\tremaining: 235ms\n",
      "594:\tlearn: 0.0265495\ttotal: 345ms\tremaining: 235ms\n",
      "595:\tlearn: 0.0263976\ttotal: 345ms\tremaining: 234ms\n",
      "596:\tlearn: 0.0263103\ttotal: 346ms\tremaining: 233ms\n",
      "597:\tlearn: 0.0261899\ttotal: 346ms\tremaining: 233ms\n",
      "598:\tlearn: 0.0260779\ttotal: 347ms\tremaining: 232ms\n",
      "599:\tlearn: 0.0259326\ttotal: 347ms\tremaining: 231ms\n",
      "600:\tlearn: 0.0257909\ttotal: 348ms\tremaining: 231ms\n",
      "601:\tlearn: 0.0256957\ttotal: 348ms\tremaining: 230ms\n",
      "602:\tlearn: 0.0256596\ttotal: 349ms\tremaining: 230ms\n",
      "603:\tlearn: 0.0254725\ttotal: 349ms\tremaining: 229ms\n",
      "604:\tlearn: 0.0253810\ttotal: 350ms\tremaining: 228ms\n",
      "605:\tlearn: 0.0251982\ttotal: 350ms\tremaining: 228ms\n",
      "606:\tlearn: 0.0250189\ttotal: 351ms\tremaining: 227ms\n",
      "607:\tlearn: 0.0249524\ttotal: 351ms\tremaining: 226ms\n",
      "608:\tlearn: 0.0247769\ttotal: 352ms\tremaining: 226ms\n",
      "609:\tlearn: 0.0246050\ttotal: 352ms\tremaining: 225ms\n",
      "610:\tlearn: 0.0245198\ttotal: 352ms\tremaining: 224ms\n",
      "611:\tlearn: 0.0243532\ttotal: 353ms\tremaining: 224ms\n",
      "612:\tlearn: 0.0242703\ttotal: 353ms\tremaining: 223ms\n",
      "613:\tlearn: 0.0241073\ttotal: 354ms\tremaining: 222ms\n",
      "614:\tlearn: 0.0240267\ttotal: 354ms\tremaining: 222ms\n",
      "615:\tlearn: 0.0238670\ttotal: 354ms\tremaining: 221ms\n",
      "616:\tlearn: 0.0237886\ttotal: 355ms\tremaining: 220ms\n",
      "617:\tlearn: 0.0236324\ttotal: 355ms\tremaining: 220ms\n",
      "618:\tlearn: 0.0235561\ttotal: 356ms\tremaining: 219ms\n",
      "619:\tlearn: 0.0234131\ttotal: 356ms\tremaining: 218ms\n",
      "620:\tlearn: 0.0233279\ttotal: 356ms\tremaining: 218ms\n",
      "621:\tlearn: 0.0231769\ttotal: 357ms\tremaining: 217ms\n",
      "622:\tlearn: 0.0231462\ttotal: 357ms\tremaining: 216ms\n",
      "623:\tlearn: 0.0229983\ttotal: 358ms\tremaining: 215ms\n",
      "624:\tlearn: 0.0229682\ttotal: 358ms\tremaining: 215ms\n",
      "625:\tlearn: 0.0228312\ttotal: 358ms\tremaining: 214ms\n",
      "626:\tlearn: 0.0228016\ttotal: 359ms\tremaining: 214ms\n",
      "627:\tlearn: 0.0227724\ttotal: 360ms\tremaining: 213ms\n",
      "628:\tlearn: 0.0226330\ttotal: 361ms\tremaining: 213ms\n",
      "629:\tlearn: 0.0226042\ttotal: 361ms\tremaining: 212ms\n",
      "630:\tlearn: 0.0224735\ttotal: 362ms\tremaining: 211ms\n",
      "631:\tlearn: 0.0224070\ttotal: 362ms\tremaining: 211ms\n",
      "632:\tlearn: 0.0223042\ttotal: 362ms\tremaining: 210ms\n",
      "633:\tlearn: 0.0222011\ttotal: 363ms\tremaining: 209ms\n",
      "634:\tlearn: 0.0221005\ttotal: 363ms\tremaining: 209ms\n",
      "635:\tlearn: 0.0220732\ttotal: 364ms\tremaining: 208ms\n",
      "636:\tlearn: 0.0219435\ttotal: 365ms\tremaining: 208ms\n",
      "637:\tlearn: 0.0218457\ttotal: 365ms\tremaining: 207ms\n",
      "638:\tlearn: 0.0217441\ttotal: 366ms\tremaining: 207ms\n",
      "639:\tlearn: 0.0216453\ttotal: 366ms\tremaining: 206ms\n",
      "640:\tlearn: 0.0215542\ttotal: 367ms\tremaining: 205ms\n",
      "641:\tlearn: 0.0214733\ttotal: 367ms\tremaining: 205ms\n",
      "642:\tlearn: 0.0214472\ttotal: 368ms\tremaining: 204ms\n",
      "643:\tlearn: 0.0213558\ttotal: 368ms\tremaining: 203ms\n",
      "644:\tlearn: 0.0212560\ttotal: 368ms\tremaining: 203ms\n",
      "645:\tlearn: 0.0211780\ttotal: 369ms\tremaining: 202ms\n"
     ]
    },
    {
     "name": "stdout",
     "output_type": "stream",
     "text": [
      "646:\tlearn: 0.0210532\ttotal: 369ms\tremaining: 201ms\n",
      "647:\tlearn: 0.0210279\ttotal: 370ms\tremaining: 201ms\n",
      "648:\tlearn: 0.0209410\ttotal: 370ms\tremaining: 200ms\n",
      "649:\tlearn: 0.0208190\ttotal: 371ms\tremaining: 200ms\n",
      "650:\tlearn: 0.0207236\ttotal: 371ms\tremaining: 199ms\n",
      "651:\tlearn: 0.0206228\ttotal: 372ms\tremaining: 198ms\n",
      "652:\tlearn: 0.0204849\ttotal: 373ms\tremaining: 198ms\n",
      "653:\tlearn: 0.0203456\ttotal: 373ms\tremaining: 198ms\n",
      "654:\tlearn: 0.0203208\ttotal: 374ms\tremaining: 197ms\n",
      "655:\tlearn: 0.0202964\ttotal: 374ms\tremaining: 196ms\n",
      "656:\tlearn: 0.0201640\ttotal: 375ms\tremaining: 196ms\n",
      "657:\tlearn: 0.0200833\ttotal: 375ms\tremaining: 195ms\n",
      "658:\tlearn: 0.0199786\ttotal: 376ms\tremaining: 194ms\n",
      "659:\tlearn: 0.0198770\ttotal: 376ms\tremaining: 194ms\n",
      "660:\tlearn: 0.0197984\ttotal: 377ms\tremaining: 193ms\n",
      "661:\tlearn: 0.0196998\ttotal: 377ms\tremaining: 193ms\n",
      "662:\tlearn: 0.0196232\ttotal: 378ms\tremaining: 192ms\n",
      "663:\tlearn: 0.0195216\ttotal: 378ms\tremaining: 191ms\n",
      "664:\tlearn: 0.0194261\ttotal: 379ms\tremaining: 191ms\n",
      "665:\tlearn: 0.0193517\ttotal: 379ms\tremaining: 190ms\n",
      "666:\tlearn: 0.0192656\ttotal: 380ms\tremaining: 190ms\n",
      "667:\tlearn: 0.0191816\ttotal: 380ms\tremaining: 189ms\n",
      "668:\tlearn: 0.0191168\ttotal: 381ms\tremaining: 188ms\n",
      "669:\tlearn: 0.0190352\ttotal: 381ms\tremaining: 188ms\n",
      "670:\tlearn: 0.0189755\ttotal: 382ms\tremaining: 187ms\n",
      "671:\tlearn: 0.0189143\ttotal: 383ms\tremaining: 187ms\n",
      "672:\tlearn: 0.0188984\ttotal: 383ms\tremaining: 186ms\n",
      "673:\tlearn: 0.0188827\ttotal: 383ms\tremaining: 185ms\n",
      "674:\tlearn: 0.0188002\ttotal: 384ms\tremaining: 185ms\n",
      "675:\tlearn: 0.0187436\ttotal: 384ms\tremaining: 184ms\n",
      "676:\tlearn: 0.0186751\ttotal: 385ms\tremaining: 184ms\n",
      "677:\tlearn: 0.0186599\ttotal: 385ms\tremaining: 183ms\n",
      "678:\tlearn: 0.0186449\ttotal: 386ms\tremaining: 182ms\n",
      "679:\tlearn: 0.0185659\ttotal: 386ms\tremaining: 182ms\n",
      "680:\tlearn: 0.0185511\ttotal: 387ms\tremaining: 181ms\n",
      "681:\tlearn: 0.0184732\ttotal: 387ms\tremaining: 181ms\n",
      "682:\tlearn: 0.0184193\ttotal: 388ms\tremaining: 180ms\n",
      "683:\tlearn: 0.0183711\ttotal: 388ms\tremaining: 179ms\n",
      "684:\tlearn: 0.0183118\ttotal: 389ms\tremaining: 179ms\n",
      "685:\tlearn: 0.0182651\ttotal: 389ms\tremaining: 178ms\n",
      "686:\tlearn: 0.0181901\ttotal: 390ms\tremaining: 178ms\n",
      "687:\tlearn: 0.0181291\ttotal: 390ms\tremaining: 177ms\n",
      "688:\tlearn: 0.0181150\ttotal: 391ms\tremaining: 176ms\n",
      "689:\tlearn: 0.0180556\ttotal: 391ms\tremaining: 176ms\n",
      "690:\tlearn: 0.0179410\ttotal: 392ms\tremaining: 175ms\n",
      "691:\tlearn: 0.0178831\ttotal: 392ms\tremaining: 175ms\n",
      "692:\tlearn: 0.0178694\ttotal: 393ms\tremaining: 174ms\n",
      "693:\tlearn: 0.0177570\ttotal: 393ms\tremaining: 173ms\n",
      "694:\tlearn: 0.0177007\ttotal: 394ms\tremaining: 173ms\n",
      "695:\tlearn: 0.0175853\ttotal: 394ms\tremaining: 172ms\n",
      "696:\tlearn: 0.0175303\ttotal: 394ms\tremaining: 171ms\n",
      "697:\tlearn: 0.0175169\ttotal: 395ms\tremaining: 171ms\n",
      "698:\tlearn: 0.0174042\ttotal: 395ms\tremaining: 170ms\n",
      "699:\tlearn: 0.0173505\ttotal: 396ms\tremaining: 170ms\n",
      "700:\tlearn: 0.0173375\ttotal: 396ms\tremaining: 169ms\n",
      "701:\tlearn: 0.0173246\ttotal: 397ms\tremaining: 168ms\n",
      "702:\tlearn: 0.0172179\ttotal: 397ms\tremaining: 168ms\n",
      "703:\tlearn: 0.0171654\ttotal: 398ms\tremaining: 167ms\n",
      "704:\tlearn: 0.0170465\ttotal: 398ms\tremaining: 167ms\n",
      "705:\tlearn: 0.0169952\ttotal: 399ms\tremaining: 166ms\n",
      "706:\tlearn: 0.0169444\ttotal: 399ms\tremaining: 165ms\n",
      "707:\tlearn: 0.0168950\ttotal: 400ms\tremaining: 165ms\n",
      "708:\tlearn: 0.0168459\ttotal: 401ms\tremaining: 165ms\n",
      "709:\tlearn: 0.0167969\ttotal: 401ms\tremaining: 164ms\n",
      "710:\tlearn: 0.0167647\ttotal: 402ms\tremaining: 163ms\n",
      "711:\tlearn: 0.0167170\ttotal: 403ms\tremaining: 163ms\n",
      "712:\tlearn: 0.0166778\ttotal: 403ms\tremaining: 162ms\n",
      "713:\tlearn: 0.0166278\ttotal: 403ms\tremaining: 162ms\n",
      "714:\tlearn: 0.0165831\ttotal: 404ms\tremaining: 161ms\n",
      "715:\tlearn: 0.0165681\ttotal: 404ms\tremaining: 160ms\n",
      "716:\tlearn: 0.0165298\ttotal: 405ms\tremaining: 160ms\n",
      "717:\tlearn: 0.0164864\ttotal: 405ms\tremaining: 159ms\n",
      "718:\tlearn: 0.0164201\ttotal: 406ms\tremaining: 159ms\n",
      "719:\tlearn: 0.0163201\ttotal: 406ms\tremaining: 158ms\n",
      "720:\tlearn: 0.0162319\ttotal: 406ms\tremaining: 157ms\n",
      "721:\tlearn: 0.0161657\ttotal: 407ms\tremaining: 157ms\n",
      "722:\tlearn: 0.0161511\ttotal: 407ms\tremaining: 156ms\n",
      "723:\tlearn: 0.0161366\ttotal: 408ms\tremaining: 155ms\n",
      "724:\tlearn: 0.0160796\ttotal: 408ms\tremaining: 155ms\n",
      "725:\tlearn: 0.0160653\ttotal: 409ms\tremaining: 154ms\n",
      "726:\tlearn: 0.0159795\ttotal: 409ms\tremaining: 154ms\n",
      "727:\tlearn: 0.0159654\ttotal: 410ms\tremaining: 153ms\n",
      "728:\tlearn: 0.0159082\ttotal: 410ms\tremaining: 152ms\n",
      "729:\tlearn: 0.0158146\ttotal: 410ms\tremaining: 152ms\n",
      "730:\tlearn: 0.0157520\ttotal: 411ms\tremaining: 151ms\n",
      "731:\tlearn: 0.0157381\ttotal: 411ms\tremaining: 151ms\n",
      "732:\tlearn: 0.0157243\ttotal: 412ms\tremaining: 150ms\n",
      "733:\tlearn: 0.0156671\ttotal: 412ms\tremaining: 149ms\n",
      "734:\tlearn: 0.0156563\ttotal: 413ms\tremaining: 149ms\n",
      "735:\tlearn: 0.0156456\ttotal: 413ms\tremaining: 148ms\n",
      "736:\tlearn: 0.0155457\ttotal: 414ms\tremaining: 148ms\n",
      "737:\tlearn: 0.0155352\ttotal: 415ms\tremaining: 147ms\n",
      "738:\tlearn: 0.0155248\ttotal: 415ms\tremaining: 147ms\n",
      "739:\tlearn: 0.0155146\ttotal: 416ms\tremaining: 146ms\n",
      "740:\tlearn: 0.0154167\ttotal: 416ms\tremaining: 145ms\n",
      "741:\tlearn: 0.0153313\ttotal: 417ms\tremaining: 145ms\n",
      "742:\tlearn: 0.0152433\ttotal: 417ms\tremaining: 144ms\n",
      "743:\tlearn: 0.0152003\ttotal: 418ms\tremaining: 144ms\n",
      "744:\tlearn: 0.0151141\ttotal: 418ms\tremaining: 143ms\n",
      "745:\tlearn: 0.0150381\ttotal: 419ms\tremaining: 143ms\n",
      "746:\tlearn: 0.0149973\ttotal: 419ms\tremaining: 142ms\n",
      "747:\tlearn: 0.0149068\ttotal: 420ms\tremaining: 141ms\n",
      "748:\tlearn: 0.0148613\ttotal: 420ms\tremaining: 141ms\n",
      "749:\tlearn: 0.0148324\ttotal: 421ms\tremaining: 140ms\n",
      "750:\tlearn: 0.0148042\ttotal: 421ms\tremaining: 140ms\n",
      "751:\tlearn: 0.0147946\ttotal: 421ms\tremaining: 139ms\n",
      "752:\tlearn: 0.0147860\ttotal: 422ms\tremaining: 138ms\n",
      "753:\tlearn: 0.0147139\ttotal: 422ms\tremaining: 138ms\n",
      "754:\tlearn: 0.0146553\ttotal: 423ms\tremaining: 137ms\n",
      "755:\tlearn: 0.0146350\ttotal: 423ms\tremaining: 137ms\n",
      "756:\tlearn: 0.0145780\ttotal: 424ms\tremaining: 136ms\n",
      "757:\tlearn: 0.0144823\ttotal: 424ms\tremaining: 135ms\n",
      "758:\tlearn: 0.0144273\ttotal: 425ms\tremaining: 135ms\n",
      "759:\tlearn: 0.0143562\ttotal: 425ms\tremaining: 134ms\n",
      "760:\tlearn: 0.0143028\ttotal: 426ms\tremaining: 134ms\n",
      "761:\tlearn: 0.0142579\ttotal: 426ms\tremaining: 133ms\n",
      "762:\tlearn: 0.0142059\ttotal: 427ms\tremaining: 133ms\n",
      "763:\tlearn: 0.0141547\ttotal: 427ms\tremaining: 132ms\n",
      "764:\tlearn: 0.0141109\ttotal: 428ms\tremaining: 131ms\n",
      "765:\tlearn: 0.0140607\ttotal: 428ms\tremaining: 131ms\n",
      "766:\tlearn: 0.0140180\ttotal: 429ms\tremaining: 130ms\n",
      "767:\tlearn: 0.0139755\ttotal: 429ms\tremaining: 130ms\n",
      "768:\tlearn: 0.0139392\ttotal: 431ms\tremaining: 130ms\n",
      "769:\tlearn: 0.0138901\ttotal: 432ms\tremaining: 129ms\n",
      "770:\tlearn: 0.0138437\ttotal: 433ms\tremaining: 128ms\n",
      "771:\tlearn: 0.0138024\ttotal: 433ms\tremaining: 128ms\n",
      "772:\tlearn: 0.0137741\ttotal: 433ms\tremaining: 127ms\n",
      "773:\tlearn: 0.0137290\ttotal: 434ms\tremaining: 127ms\n",
      "774:\tlearn: 0.0136889\ttotal: 434ms\tremaining: 126ms\n",
      "775:\tlearn: 0.0136436\ttotal: 435ms\tremaining: 126ms\n",
      "776:\tlearn: 0.0135631\ttotal: 436ms\tremaining: 125ms\n",
      "777:\tlearn: 0.0135198\ttotal: 436ms\tremaining: 124ms\n",
      "778:\tlearn: 0.0134618\ttotal: 436ms\tremaining: 124ms\n",
      "779:\tlearn: 0.0133837\ttotal: 437ms\tremaining: 123ms\n",
      "780:\tlearn: 0.0133273\ttotal: 437ms\tremaining: 123ms\n",
      "781:\tlearn: 0.0132505\ttotal: 438ms\tremaining: 122ms\n",
      "782:\tlearn: 0.0131897\ttotal: 438ms\tremaining: 121ms\n",
      "783:\tlearn: 0.0131151\ttotal: 439ms\tremaining: 121ms\n",
      "784:\tlearn: 0.0130717\ttotal: 439ms\tremaining: 120ms\n",
      "785:\tlearn: 0.0130000\ttotal: 440ms\tremaining: 120ms\n",
      "786:\tlearn: 0.0129576\ttotal: 440ms\tremaining: 119ms\n",
      "787:\tlearn: 0.0128808\ttotal: 441ms\tremaining: 119ms\n",
      "788:\tlearn: 0.0128393\ttotal: 441ms\tremaining: 118ms\n",
      "789:\tlearn: 0.0127624\ttotal: 442ms\tremaining: 117ms\n",
      "790:\tlearn: 0.0126879\ttotal: 442ms\tremaining: 117ms\n",
      "791:\tlearn: 0.0126388\ttotal: 443ms\tremaining: 116ms\n",
      "792:\tlearn: 0.0125891\ttotal: 444ms\tremaining: 116ms\n",
      "793:\tlearn: 0.0125459\ttotal: 444ms\tremaining: 115ms\n",
      "794:\tlearn: 0.0124950\ttotal: 444ms\tremaining: 115ms\n",
      "795:\tlearn: 0.0124454\ttotal: 445ms\tremaining: 114ms\n",
      "796:\tlearn: 0.0123969\ttotal: 446ms\tremaining: 114ms\n",
      "797:\tlearn: 0.0123587\ttotal: 447ms\tremaining: 113ms\n",
      "798:\tlearn: 0.0123208\ttotal: 447ms\tremaining: 112ms\n",
      "799:\tlearn: 0.0122821\ttotal: 448ms\tremaining: 112ms\n",
      "800:\tlearn: 0.0122462\ttotal: 448ms\tremaining: 111ms\n",
      "801:\tlearn: 0.0121837\ttotal: 449ms\tremaining: 111ms\n",
      "802:\tlearn: 0.0121436\ttotal: 449ms\tremaining: 110ms\n",
      "803:\tlearn: 0.0120539\ttotal: 450ms\tremaining: 110ms\n",
      "804:\tlearn: 0.0119910\ttotal: 450ms\tremaining: 109ms\n",
      "805:\tlearn: 0.0119273\ttotal: 451ms\tremaining: 109ms\n",
      "806:\tlearn: 0.0118900\ttotal: 451ms\tremaining: 108ms\n",
      "807:\tlearn: 0.0118020\ttotal: 452ms\tremaining: 107ms\n",
      "808:\tlearn: 0.0117176\ttotal: 452ms\tremaining: 107ms\n",
      "809:\tlearn: 0.0116579\ttotal: 453ms\tremaining: 106ms\n",
      "810:\tlearn: 0.0116306\ttotal: 454ms\tremaining: 106ms\n",
      "811:\tlearn: 0.0116235\ttotal: 454ms\tremaining: 105ms\n",
      "812:\tlearn: 0.0115590\ttotal: 455ms\tremaining: 105ms\n",
      "813:\tlearn: 0.0115345\ttotal: 455ms\tremaining: 104ms\n",
      "814:\tlearn: 0.0114980\ttotal: 456ms\tremaining: 103ms\n",
      "815:\tlearn: 0.0114740\ttotal: 456ms\tremaining: 103ms\n",
      "816:\tlearn: 0.0114254\ttotal: 457ms\tremaining: 102ms\n",
      "817:\tlearn: 0.0114001\ttotal: 458ms\tremaining: 102ms\n",
      "818:\tlearn: 0.0113752\ttotal: 458ms\tremaining: 101ms\n",
      "819:\tlearn: 0.0113368\ttotal: 459ms\tremaining: 101ms\n",
      "820:\tlearn: 0.0112578\ttotal: 459ms\tremaining: 100ms\n",
      "821:\tlearn: 0.0112349\ttotal: 460ms\tremaining: 99.6ms\n",
      "822:\tlearn: 0.0111977\ttotal: 461ms\tremaining: 99ms\n",
      "823:\tlearn: 0.0111296\ttotal: 461ms\tremaining: 98.5ms\n",
      "824:\tlearn: 0.0110882\ttotal: 462ms\tremaining: 97.9ms\n",
      "825:\tlearn: 0.0110476\ttotal: 462ms\tremaining: 97.4ms\n",
      "826:\tlearn: 0.0110116\ttotal: 463ms\tremaining: 96.8ms\n",
      "827:\tlearn: 0.0109338\ttotal: 463ms\tremaining: 96.3ms\n",
      "828:\tlearn: 0.0109005\ttotal: 464ms\tremaining: 95.7ms\n",
      "829:\tlearn: 0.0108355\ttotal: 465ms\tremaining: 95.2ms\n",
      "830:\tlearn: 0.0108034\ttotal: 466ms\tremaining: 94.8ms\n",
      "831:\tlearn: 0.0107720\ttotal: 467ms\tremaining: 94.3ms\n",
      "832:\tlearn: 0.0107390\ttotal: 468ms\tremaining: 93.8ms\n",
      "833:\tlearn: 0.0107202\ttotal: 469ms\tremaining: 93.3ms\n",
      "834:\tlearn: 0.0106856\ttotal: 469ms\tremaining: 92.7ms\n",
      "835:\tlearn: 0.0106556\ttotal: 470ms\tremaining: 92.2ms\n",
      "836:\tlearn: 0.0106373\ttotal: 470ms\tremaining: 91.6ms\n",
      "837:\tlearn: 0.0106203\ttotal: 471ms\tremaining: 91ms\n",
      "838:\tlearn: 0.0105867\ttotal: 472ms\tremaining: 90.6ms\n"
     ]
    },
    {
     "name": "stdout",
     "output_type": "stream",
     "text": [
      "839:\tlearn: 0.0105533\ttotal: 473ms\tremaining: 90.1ms\n",
      "840:\tlearn: 0.0105226\ttotal: 473ms\tremaining: 89.5ms\n",
      "841:\tlearn: 0.0104968\ttotal: 474ms\tremaining: 88.9ms\n",
      "842:\tlearn: 0.0104795\ttotal: 474ms\tremaining: 88.3ms\n",
      "843:\tlearn: 0.0104543\ttotal: 475ms\tremaining: 87.7ms\n",
      "844:\tlearn: 0.0104034\ttotal: 475ms\tremaining: 87.2ms\n",
      "845:\tlearn: 0.0103480\ttotal: 476ms\tremaining: 86.6ms\n",
      "846:\tlearn: 0.0102934\ttotal: 476ms\tremaining: 86ms\n",
      "847:\tlearn: 0.0102613\ttotal: 476ms\tremaining: 85.4ms\n",
      "848:\tlearn: 0.0102080\ttotal: 477ms\tremaining: 84.8ms\n",
      "849:\tlearn: 0.0101714\ttotal: 477ms\tremaining: 84.2ms\n",
      "850:\tlearn: 0.0101229\ttotal: 478ms\tremaining: 83.6ms\n",
      "851:\tlearn: 0.0100793\ttotal: 478ms\tremaining: 83.1ms\n",
      "852:\tlearn: 0.0100262\ttotal: 479ms\tremaining: 82.5ms\n",
      "853:\tlearn: 0.0099940\ttotal: 479ms\tremaining: 82ms\n",
      "854:\tlearn: 0.0099668\ttotal: 480ms\tremaining: 81.4ms\n",
      "855:\tlearn: 0.0099355\ttotal: 481ms\tremaining: 80.8ms\n",
      "856:\tlearn: 0.0098840\ttotal: 481ms\tremaining: 80.3ms\n",
      "857:\tlearn: 0.0098578\ttotal: 482ms\tremaining: 79.7ms\n",
      "858:\tlearn: 0.0098236\ttotal: 482ms\tremaining: 79.1ms\n",
      "859:\tlearn: 0.0097793\ttotal: 483ms\tremaining: 78.6ms\n",
      "860:\tlearn: 0.0097352\ttotal: 483ms\tremaining: 78ms\n",
      "861:\tlearn: 0.0097020\ttotal: 484ms\tremaining: 77.4ms\n",
      "862:\tlearn: 0.0096617\ttotal: 484ms\tremaining: 76.8ms\n",
      "863:\tlearn: 0.0096190\ttotal: 484ms\tremaining: 76.3ms\n",
      "864:\tlearn: 0.0095913\ttotal: 485ms\tremaining: 75.7ms\n",
      "865:\tlearn: 0.0095487\ttotal: 486ms\tremaining: 75.2ms\n",
      "866:\tlearn: 0.0095292\ttotal: 486ms\tremaining: 74.6ms\n",
      "867:\tlearn: 0.0095009\ttotal: 487ms\tremaining: 74ms\n",
      "868:\tlearn: 0.0094624\ttotal: 487ms\tremaining: 73.5ms\n",
      "869:\tlearn: 0.0094388\ttotal: 488ms\tremaining: 72.9ms\n",
      "870:\tlearn: 0.0094198\ttotal: 488ms\tremaining: 72.3ms\n",
      "871:\tlearn: 0.0093881\ttotal: 489ms\tremaining: 71.7ms\n",
      "872:\tlearn: 0.0093651\ttotal: 489ms\tremaining: 71.2ms\n",
      "873:\tlearn: 0.0093518\ttotal: 490ms\tremaining: 70.6ms\n",
      "874:\tlearn: 0.0093244\ttotal: 490ms\tremaining: 70ms\n",
      "875:\tlearn: 0.0092872\ttotal: 491ms\tremaining: 69.5ms\n",
      "876:\tlearn: 0.0092255\ttotal: 491ms\tremaining: 68.9ms\n",
      "877:\tlearn: 0.0091844\ttotal: 492ms\tremaining: 68.3ms\n",
      "878:\tlearn: 0.0091296\ttotal: 492ms\tremaining: 67.7ms\n",
      "879:\tlearn: 0.0090896\ttotal: 492ms\tremaining: 67.2ms\n",
      "880:\tlearn: 0.0090507\ttotal: 493ms\tremaining: 66.6ms\n",
      "881:\tlearn: 0.0090208\ttotal: 494ms\tremaining: 66ms\n",
      "882:\tlearn: 0.0089830\ttotal: 494ms\tremaining: 65.4ms\n",
      "883:\tlearn: 0.0089280\ttotal: 494ms\tremaining: 64.9ms\n",
      "884:\tlearn: 0.0089222\ttotal: 495ms\tremaining: 64.3ms\n",
      "885:\tlearn: 0.0088684\ttotal: 495ms\tremaining: 63.7ms\n",
      "886:\tlearn: 0.0088627\ttotal: 496ms\tremaining: 63.2ms\n",
      "887:\tlearn: 0.0088309\ttotal: 496ms\tremaining: 62.6ms\n",
      "888:\tlearn: 0.0088252\ttotal: 497ms\tremaining: 62ms\n",
      "889:\tlearn: 0.0088196\ttotal: 498ms\tremaining: 61.5ms\n",
      "890:\tlearn: 0.0087884\ttotal: 498ms\tremaining: 61ms\n",
      "891:\tlearn: 0.0087731\ttotal: 499ms\tremaining: 60.4ms\n",
      "892:\tlearn: 0.0087675\ttotal: 500ms\tremaining: 59.9ms\n",
      "893:\tlearn: 0.0087243\ttotal: 500ms\tremaining: 59.3ms\n",
      "894:\tlearn: 0.0087188\ttotal: 501ms\tremaining: 58.7ms\n",
      "895:\tlearn: 0.0086670\ttotal: 501ms\tremaining: 58.2ms\n",
      "896:\tlearn: 0.0086615\ttotal: 502ms\tremaining: 57.6ms\n",
      "897:\tlearn: 0.0086561\ttotal: 502ms\tremaining: 57ms\n",
      "898:\tlearn: 0.0086302\ttotal: 503ms\tremaining: 56.5ms\n",
      "899:\tlearn: 0.0086248\ttotal: 503ms\tremaining: 55.9ms\n",
      "900:\tlearn: 0.0086195\ttotal: 503ms\tremaining: 55.3ms\n",
      "901:\tlearn: 0.0085779\ttotal: 504ms\tremaining: 54.7ms\n",
      "902:\tlearn: 0.0085726\ttotal: 504ms\tremaining: 54.2ms\n",
      "903:\tlearn: 0.0085674\ttotal: 505ms\tremaining: 53.6ms\n",
      "904:\tlearn: 0.0085170\ttotal: 505ms\tremaining: 53ms\n",
      "905:\tlearn: 0.0085118\ttotal: 506ms\tremaining: 52.5ms\n",
      "906:\tlearn: 0.0084626\ttotal: 506ms\tremaining: 51.9ms\n",
      "907:\tlearn: 0.0084575\ttotal: 506ms\tremaining: 51.3ms\n",
      "908:\tlearn: 0.0084524\ttotal: 507ms\tremaining: 50.8ms\n",
      "909:\tlearn: 0.0084184\ttotal: 508ms\tremaining: 50.2ms\n",
      "910:\tlearn: 0.0084133\ttotal: 508ms\tremaining: 49.6ms\n",
      "911:\tlearn: 0.0083732\ttotal: 509ms\tremaining: 49.1ms\n",
      "912:\tlearn: 0.0083682\ttotal: 509ms\tremaining: 48.5ms\n",
      "913:\tlearn: 0.0083532\ttotal: 509ms\tremaining: 47.9ms\n",
      "914:\tlearn: 0.0083483\ttotal: 510ms\tremaining: 47.4ms\n",
      "915:\tlearn: 0.0083089\ttotal: 511ms\tremaining: 46.8ms\n",
      "916:\tlearn: 0.0083040\ttotal: 511ms\tremaining: 46.3ms\n",
      "917:\tlearn: 0.0082892\ttotal: 512ms\tremaining: 45.7ms\n",
      "918:\tlearn: 0.0082496\ttotal: 512ms\tremaining: 45.1ms\n",
      "919:\tlearn: 0.0082447\ttotal: 513ms\tremaining: 44.6ms\n",
      "920:\tlearn: 0.0082400\ttotal: 514ms\tremaining: 44.1ms\n",
      "921:\tlearn: 0.0082254\ttotal: 514ms\tremaining: 43.5ms\n",
      "922:\tlearn: 0.0081785\ttotal: 515ms\tremaining: 43ms\n",
      "923:\tlearn: 0.0081737\ttotal: 516ms\tremaining: 42.4ms\n",
      "924:\tlearn: 0.0081691\ttotal: 516ms\tremaining: 41.8ms\n",
      "925:\tlearn: 0.0081306\ttotal: 517ms\tremaining: 41.3ms\n",
      "926:\tlearn: 0.0081181\ttotal: 517ms\tremaining: 40.7ms\n",
      "927:\tlearn: 0.0081040\ttotal: 518ms\tremaining: 40.2ms\n",
      "928:\tlearn: 0.0080776\ttotal: 518ms\tremaining: 39.6ms\n",
      "929:\tlearn: 0.0080351\ttotal: 518ms\tremaining: 39ms\n",
      "930:\tlearn: 0.0079936\ttotal: 519ms\tremaining: 38.5ms\n",
      "931:\tlearn: 0.0079496\ttotal: 519ms\tremaining: 37.9ms\n",
      "932:\tlearn: 0.0079097\ttotal: 520ms\tremaining: 37.3ms\n",
      "933:\tlearn: 0.0078958\ttotal: 520ms\tremaining: 36.8ms\n",
      "934:\tlearn: 0.0078621\ttotal: 521ms\tremaining: 36.2ms\n",
      "935:\tlearn: 0.0078485\ttotal: 521ms\tremaining: 35.6ms\n",
      "936:\tlearn: 0.0078348\ttotal: 521ms\tremaining: 35ms\n",
      "937:\tlearn: 0.0078303\ttotal: 522ms\tremaining: 34.5ms\n",
      "938:\tlearn: 0.0077940\ttotal: 522ms\tremaining: 33.9ms\n",
      "939:\tlearn: 0.0077895\ttotal: 523ms\tremaining: 33.4ms\n",
      "940:\tlearn: 0.0077761\ttotal: 524ms\tremaining: 32.8ms\n",
      "941:\tlearn: 0.0077455\ttotal: 524ms\tremaining: 32.3ms\n",
      "942:\tlearn: 0.0077123\ttotal: 525ms\tremaining: 31.7ms\n",
      "943:\tlearn: 0.0076738\ttotal: 525ms\tremaining: 31.1ms\n",
      "944:\tlearn: 0.0076329\ttotal: 526ms\tremaining: 30.6ms\n",
      "945:\tlearn: 0.0075968\ttotal: 526ms\tremaining: 30ms\n",
      "946:\tlearn: 0.0075923\ttotal: 527ms\tremaining: 29.5ms\n",
      "947:\tlearn: 0.0075576\ttotal: 527ms\tremaining: 28.9ms\n",
      "948:\tlearn: 0.0075445\ttotal: 528ms\tremaining: 28.4ms\n",
      "949:\tlearn: 0.0075316\ttotal: 529ms\tremaining: 27.8ms\n",
      "950:\tlearn: 0.0075272\ttotal: 530ms\tremaining: 27.3ms\n",
      "951:\tlearn: 0.0074908\ttotal: 530ms\tremaining: 26.7ms\n",
      "952:\tlearn: 0.0074493\ttotal: 531ms\tremaining: 26.2ms\n",
      "953:\tlearn: 0.0074366\ttotal: 531ms\tremaining: 25.6ms\n",
      "954:\tlearn: 0.0074020\ttotal: 532ms\tremaining: 25.1ms\n",
      "955:\tlearn: 0.0073616\ttotal: 532ms\tremaining: 24.5ms\n",
      "956:\tlearn: 0.0073574\ttotal: 533ms\tremaining: 23.9ms\n",
      "957:\tlearn: 0.0073532\ttotal: 533ms\tremaining: 23.4ms\n",
      "958:\tlearn: 0.0073203\ttotal: 534ms\tremaining: 22.8ms\n",
      "959:\tlearn: 0.0072809\ttotal: 534ms\tremaining: 22.2ms\n",
      "960:\tlearn: 0.0072768\ttotal: 534ms\tremaining: 21.7ms\n",
      "961:\tlearn: 0.0072381\ttotal: 535ms\tremaining: 21.1ms\n",
      "962:\tlearn: 0.0072341\ttotal: 535ms\tremaining: 20.6ms\n",
      "963:\tlearn: 0.0072301\ttotal: 536ms\tremaining: 20ms\n",
      "964:\tlearn: 0.0072180\ttotal: 536ms\tremaining: 19.4ms\n",
      "965:\tlearn: 0.0071853\ttotal: 537ms\tremaining: 18.9ms\n",
      "966:\tlearn: 0.0071478\ttotal: 537ms\tremaining: 18.3ms\n",
      "967:\tlearn: 0.0071438\ttotal: 538ms\tremaining: 17.8ms\n",
      "968:\tlearn: 0.0071400\ttotal: 538ms\tremaining: 17.2ms\n",
      "969:\tlearn: 0.0071282\ttotal: 539ms\tremaining: 16.7ms\n",
      "970:\tlearn: 0.0071196\ttotal: 539ms\tremaining: 16.1ms\n",
      "971:\tlearn: 0.0070878\ttotal: 540ms\tremaining: 15.5ms\n",
      "972:\tlearn: 0.0070522\ttotal: 540ms\tremaining: 15ms\n",
      "973:\tlearn: 0.0070484\ttotal: 540ms\tremaining: 14.4ms\n",
      "974:\tlearn: 0.0070369\ttotal: 541ms\tremaining: 13.9ms\n",
      "975:\tlearn: 0.0070332\ttotal: 541ms\tremaining: 13.3ms\n",
      "976:\tlearn: 0.0070215\ttotal: 542ms\tremaining: 12.8ms\n",
      "977:\tlearn: 0.0070131\ttotal: 542ms\tremaining: 12.2ms\n",
      "978:\tlearn: 0.0070018\ttotal: 543ms\tremaining: 11.7ms\n",
      "979:\tlearn: 0.0069711\ttotal: 544ms\tremaining: 11.1ms\n",
      "980:\tlearn: 0.0069353\ttotal: 545ms\tremaining: 10.5ms\n",
      "981:\tlearn: 0.0069317\ttotal: 545ms\tremaining: 9.99ms\n",
      "982:\tlearn: 0.0069260\ttotal: 545ms\tremaining: 9.43ms\n",
      "983:\tlearn: 0.0069149\ttotal: 546ms\tremaining: 8.88ms\n",
      "984:\tlearn: 0.0069068\ttotal: 546ms\tremaining: 8.32ms\n",
      "985:\tlearn: 0.0069012\ttotal: 547ms\tremaining: 7.76ms\n",
      "986:\tlearn: 0.0068714\ttotal: 547ms\tremaining: 7.21ms\n",
      "987:\tlearn: 0.0068424\ttotal: 548ms\tremaining: 6.65ms\n",
      "988:\tlearn: 0.0068389\ttotal: 548ms\tremaining: 6.1ms\n",
      "989:\tlearn: 0.0068103\ttotal: 549ms\tremaining: 5.54ms\n",
      "990:\tlearn: 0.0068068\ttotal: 549ms\tremaining: 4.99ms\n",
      "991:\tlearn: 0.0068034\ttotal: 549ms\tremaining: 4.43ms\n",
      "992:\tlearn: 0.0067954\ttotal: 550ms\tremaining: 3.88ms\n",
      "993:\tlearn: 0.0067575\ttotal: 550ms\tremaining: 3.32ms\n",
      "994:\tlearn: 0.0067260\ttotal: 551ms\tremaining: 2.77ms\n",
      "995:\tlearn: 0.0067226\ttotal: 551ms\tremaining: 2.21ms\n",
      "996:\tlearn: 0.0066936\ttotal: 552ms\tremaining: 1.66ms\n"
     ]
    },
    {
     "name": "stdout",
     "output_type": "stream",
     "text": [
      "997:\tlearn: 0.0066731\ttotal: 553ms\tremaining: 1.11ms\n",
      "998:\tlearn: 0.0066428\ttotal: 553ms\tremaining: 553us\n",
      "999:\tlearn: 0.0066319\ttotal: 554ms\tremaining: 0us\n"
     ]
    },
    {
     "data": {
      "text/plain": [
       "<catboost.core.CatBoostRegressor at 0x7fb1f14ffcd0>"
      ]
     },
     "execution_count": 9,
     "metadata": {},
     "output_type": "execute_result"
    }
   ],
   "source": [
    "#Train the Model \n",
    "prior_model = ctb.CatBoostRegressor()\n",
    "prior_model.fit(X_train,Y_train)"
   ]
  },
  {
   "cell_type": "code",
   "execution_count": 10,
   "id": "af65dcda",
   "metadata": {
    "execution": {
     "iopub.execute_input": "2022-05-18T08:37:04.982743Z",
     "iopub.status.busy": "2022-05-18T08:37:04.982290Z",
     "iopub.status.idle": "2022-05-18T08:37:04.990352Z",
     "shell.execute_reply": "2022-05-18T08:37:04.990652Z"
    },
    "id": "af65dcda",
    "papermill": {
     "duration": 0.022687,
     "end_time": "2022-05-18T08:37:04.990779",
     "exception": false,
     "start_time": "2022-05-18T08:37:04.968092",
     "status": "completed"
    },
    "tags": []
   },
   "outputs": [
    {
     "data": {
      "application/scrapbook.scrap.json+json": {
       "data": 0.12701240645066172,
       "encoder": "json",
       "name": "Prior Model MSE",
       "version": 1
      }
     },
     "metadata": {
      "scrapbook": {
       "data": true,
       "display": false,
       "name": "Prior Model MSE"
      }
     },
     "output_type": "display_data"
    },
    {
     "data": {
      "application/scrapbook.scrap.json+json": {
       "data": 1.1327621059777742,
       "encoder": "json",
       "name": "ABC Pre-generator MSE",
       "version": 1
      }
     },
     "metadata": {
      "scrapbook": {
       "data": true,
       "display": false,
       "name": "ABC Pre-generator MSE"
      }
     },
     "output_type": "display_data"
    },
    {
     "data": {
      "application/scrapbook.scrap.json+json": {
       "data": 0.3026502024160743,
       "encoder": "json",
       "name": "Prior Model MAE",
       "version": 1
      }
     },
     "metadata": {
      "scrapbook": {
       "data": true,
       "display": false,
       "name": "Prior Model MAE"
      }
     },
     "output_type": "display_data"
    },
    {
     "data": {
      "application/scrapbook.scrap.json+json": {
       "data": 0.8941321624161735,
       "encoder": "json",
       "name": "ABC Pre-generator MAE",
       "version": 1
      }
     },
     "metadata": {
      "scrapbook": {
       "data": true,
       "display": false,
       "name": "ABC Pre-generator MAE"
      }
     },
     "output_type": "display_data"
    }
   ],
   "source": [
    "y_pred = prior_model.predict(X_test)\n",
    "y_abc = y_pred + np.random.normal(0,variance, y_pred.shape)\n",
    "mse = mean_squared_error(y_pred,Y_test)\n",
    "sb.glue(\"Prior Model MSE\",mse)\n",
    "mse = mean_squared_error(y_abc,Y_test)\n",
    "sb.glue(\"ABC Pre-generator MSE\",mse)\n",
    "\n",
    "mae = mean_absolute_error(y_pred,Y_test)\n",
    "sb.glue(\"Prior Model MAE\",mae)\n",
    "mae = mean_absolute_error(y_abc,Y_test)\n",
    "sb.glue(\"ABC Pre-generator MAE\",mae)"
   ]
  },
  {
   "cell_type": "markdown",
   "id": "25609da2",
   "metadata": {
    "papermill": {
     "duration": 0.010092,
     "end_time": "2022-05-18T08:37:05.011677",
     "exception": false,
     "start_time": "2022-05-18T08:37:05.001585",
     "status": "completed"
    },
    "tags": []
   },
   "source": [
    "# ABC GAN Model"
   ]
  },
  {
   "cell_type": "code",
   "execution_count": 11,
   "id": "dfc3464d",
   "metadata": {
    "execution": {
     "iopub.execute_input": "2022-05-18T08:37:05.036222Z",
     "iopub.status.busy": "2022-05-18T08:37:05.035827Z",
     "iopub.status.idle": "2022-05-18T08:37:05.038440Z",
     "shell.execute_reply": "2022-05-18T08:37:05.038692Z"
    },
    "papermill": {
     "duration": 0.016664,
     "end_time": "2022-05-18T08:37:05.038812",
     "exception": false,
     "start_time": "2022-05-18T08:37:05.022148",
     "status": "completed"
    },
    "tags": []
   },
   "outputs": [],
   "source": [
    "gen = network.Generator(n_features+1).to(device)\n",
    "disc = network.Discriminator(n_features+1).to(device)\n",
    "\n",
    "criterion = torch.nn.BCELoss()\n",
    "gen_opt = torch.optim.Adam(gen.parameters(), lr=0.001, betas=(0.5, 0.999))\n",
    "disc_opt = torch.optim.Adam(disc.parameters(), lr=0.001, betas=(0.5, 0.999))"
   ]
  },
  {
   "cell_type": "code",
   "execution_count": 12,
   "id": "b75fdd85",
   "metadata": {
    "execution": {
     "iopub.execute_input": "2022-05-18T08:37:05.061486Z",
     "iopub.status.busy": "2022-05-18T08:37:05.061094Z",
     "iopub.status.idle": "2022-05-18T08:37:19.913565Z",
     "shell.execute_reply": "2022-05-18T08:37:19.913822Z"
    },
    "papermill": {
     "duration": 14.865045,
     "end_time": "2022-05-18T08:37:19.913990",
     "exception": false,
     "start_time": "2022-05-18T08:37:05.048945",
     "status": "completed"
    },
    "tags": []
   },
   "outputs": [
    {
     "data": {
      "image/png": "[encoded data removed]",
      "text/plain": [
       "<Figure size 432x288 with 1 Axes>"
      ]
     },
     "metadata": {
      "needs_background": "light"
     },
     "output_type": "display_data"
    },
    {
     "data": {
      "image/png": "[encoded data removed]",
      "text/plain": [
       "<Figure size 432x288 with 1 Axes>"
      ]
     },
     "metadata": {
      "needs_background": "light"
     },
     "output_type": "display_data"
    }
   ],
   "source": [
    "#Training the ABC_GAN \n",
    "ABC_train_test2.training_GAN(disc,gen,disc_opt,gen_opt,train_data,batch_size,n_epochs,criterion,prior_model,variance,0,device)"
   ]
  },
  {
   "cell_type": "code",
   "execution_count": 13,
   "id": "1fa7c368",
   "metadata": {
    "execution": {
     "iopub.execute_input": "2022-05-18T08:37:19.937895Z",
     "iopub.status.busy": "2022-05-18T08:37:19.937514Z",
     "iopub.status.idle": "2022-05-18T08:37:20.106407Z",
     "shell.execute_reply": "2022-05-18T08:37:20.106691Z"
    },
    "papermill": {
     "duration": 0.181993,
     "end_time": "2022-05-18T08:37:20.106815",
     "exception": false,
     "start_time": "2022-05-18T08:37:19.924822",
     "status": "completed"
    },
    "tags": []
   },
   "outputs": [
    {
     "data": {
      "application/scrapbook.scrap.json+json": {
       "data": 0.14768741355425566,
       "encoder": "json",
       "name": "ABC-GAN Model 1 MSE",
       "version": 1
      }
     },
     "metadata": {
      "scrapbook": {
       "data": true,
       "display": false,
       "name": "ABC-GAN Model 1 MSE"
      }
     },
     "output_type": "display_data"
    },
    {
     "data": {
      "application/scrapbook.scrap.json+json": {
       "data": 0.20541697612497956,
       "encoder": "json",
       "name": "ABC-GAN Model 1 MAE",
       "version": 1
      }
     },
     "metadata": {
      "scrapbook": {
       "data": true,
       "display": false,
       "name": "ABC-GAN Model 1 MAE"
      }
     },
     "output_type": "display_data"
    },
    {
     "data": {
      "application/scrapbook.scrap.json+json": {
       "data": 4.108339522499591,
       "encoder": "json",
       "name": "ABC-GAN Model 1 Manhattan Distance",
       "version": 1
      }
     },
     "metadata": {
      "scrapbook": {
       "data": true,
       "display": false,
       "name": "ABC-GAN Model 1 Manhattan Distance"
      }
     },
     "output_type": "display_data"
    },
    {
     "data": {
      "application/scrapbook.scrap.json+json": {
       "data": 1.7185194486109772,
       "encoder": "json",
       "name": "ABC-GAN Model 1 Euclidean distance",
       "version": 1
      }
     },
     "metadata": {
      "scrapbook": {
       "data": true,
       "display": false,
       "name": "ABC-GAN Model 1 Euclidean distance"
      }
     },
     "output_type": "display_data"
    },
    {
     "data": {
      "application/scrapbook.scrap.json+json": {
       "data": [
        [
         0.14676511555626515,
         0.15567503033942426,
         0.14743435194530316,
         0.14714939483673756,
         0.1505920376313171,
         0.14555005828710932,
         0.1461216930647193,
         0.1471112439693674,
         0.14541312207090934,
         0.14986026154331994,
         0.14942726444183968,
         0.14332875106720094,
         0.1534031970145766,
         0.1456426924236394,
         0.14502431471430996,
         0.14718182940378238,
         0.14526640438586655,
         0.14690332322868443,
         0.14330837795536253,
         0.14939459767149546,
         0.14891620589748583,
         0.1466543011884733,
         0.1467349475194419,
         0.14534713275337136,
         0.14276515550467986,
         0.1462688005145372,
         0.14842072954296187,
         0.14654065597878912,
         0.14637669321752872,
         0.1427073898237313,
         0.14650774159998867,
         0.14710645672719394,
         0.14928072657215874,
         0.1487097025366088,
         0.14043995208384621,
         0.14029672173614852,
         0.14828153907462518,
         0.14836636064124115,
         0.1444405348555547,
         0.1486652687152209,
         0.15898727606982707,
         0.14286463618491685,
         0.1477499623129082,
         0.14572749336289026,
         0.1442439373259865,
         0.14880429106604984,
         0.1500641273201097,
         0.14937337125235375,
         0.14092682592000694,
         0.1446251696121032,
         0.14506908799476542,
         0.15037656703006233,
         0.1512444497085781,
         0.14537762879886904,
         0.15027034095647002,
         0.15451028814475098,
         0.15180579241732603,
         0.1455988690371886,
         0.14043339113345005,
         0.1474361757836758,
         0.1502355213417924,
         0.15167064164499128,
         0.14619331416333395,
         0.1415988685362924,
         0.15199948838179006,
         0.1479844384425614,
         0.14409200499636457,
         0.1469527733613881,
         0.14750899489515154,
         0.15002515561617968,
         0.1525798145663259,
         0.153543127492669,
         0.14352830039899672,
         0.14303958338963,
         0.14986587012322064,
         0.15273626005271085,
         0.15379655194721478,
         0.14643060466191807,
         0.15101169237125983,
         0.14586838439507907,
         0.14622550449735136,
         0.14970011604056782,
         0.14646392124174887,
         0.1474769789069153,
         0.14591589300948554,
         0.14065738497217498,
         0.1474328425464517,
         0.15030596936453094,
         0.1484055857700947,
         0.1524395347898985,
         0.15230693119813246,
         0.14496563483723499,
         0.14663740304019776,
         0.15778378316294123,
         0.15051894089730916,
         0.15090104758547254,
         0.15046166295203264,
         0.14482191861127586,
         0.14699524087647287,
         0.14879391087929866
        ],
        [
         0.1982963758870028,
         0.22767804538598285,
         0.20326678795972838,
         0.20011235320707782,
         0.21678852097829804,
         0.20045494431396946,
         0.20060254515847192,
         0.20848357783397659,
         0.19991190092405303,
         0.21231063014129176,
         0.20989545615157112,
         0.18948986424366013,
         0.21749554841080682,
         0.20812051700195297,
         0.20535693200072275,
         0.21309236356755717,
         0.19967739327112213,
         0.20069279515882954,
         0.20005366510013117,
         0.20662398071726784,
         0.20901949809631332,
         0.1995215450064279,
         0.20313949628034605,
         0.21574708888074384,
         0.1998170103295706,
         0.208898422063794,
         0.19922572368523106,
         0.20277837285539135,
         0.20495164847234265,
         0.19622001493116842,
         0.204676474572625,
         0.21010077068349348,
         0.21132740149041637,
         0.20082417695084587,
         0.20380182446679102,
         0.19564395354827865,
         0.19889310406288133,
         0.2061871405108832,
         0.20386953508714215,
         0.19939244830748065,
         0.2184754847898148,
         0.20211783418199047,
         0.20875499466201292,
         0.19693932937225328,
         0.20806264424463733,
         0.19866187715670094,
         0.20574498915812,
         0.20247213511029258,
         0.2018413998768665,
         0.1986325834528543,
         0.20709346340736373,
         0.20559608681360259,
         0.21316236226120963,
         0.20461417579790578,
         0.21003569880267606,
         0.21272214459022507,
         0.21961947301169857,
         0.19245555581292137,
         0.20121004538377746,
         0.2072861916734837,
         0.20754667924484238,
         0.2159821224049665,
         0.1979776091291569,
         0.19835897864541038,
         0.220555575506296,
         0.20668970042606816,
         0.19908289978047833,
         0.19754293480655177,
         0.20028659297386184,
         0.20666700607398525,
         0.22236406648298726,
         0.21540002742549405,
         0.1968448325409554,
         0.19628285387298092,
         0.21703102173050864,
         0.20450208937982098,
         0.22193972623208538,
         0.20107575798174365,
         0.21311521971365438,
         0.19892202509799972,
         0.20454262228449807,
         0.20352575661381705,
         0.19722991803428158,
         0.21053290298441424,
         0.2022665630443953,
         0.20256713846465574,
         0.1974007579847239,
         0.20840027934173122,
         0.2037685458199121,
         0.2137666959897615,
         0.2054281208082102,
         0.19953220629831775,
         0.19879003459354863,
         0.21736503237625585,
         0.211163634120021,
         0.20768693132558838,
         0.20359055096050724,
         0.19853201179066673,
         0.20209594113985077,
         0.207405931816902
        ],
        [
         3.965927517740056,
         4.553560907719657,
         4.065335759194568,
         4.002247064141557,
         4.335770419565961,
         4.009098886279389,
         4.012050903169438,
         4.169671556679532,
         3.998238018481061,
         4.246212602825835,
         4.1979091230314225,
         3.7897972848732024,
         4.349910968216136,
         4.1624103400390595,
         4.107138640014455,
         4.261847271351144,
         3.9935478654224426,
         4.013855903176591,
         4.001073302002624,
         4.132479614345357,
         4.1803899619262666,
         3.9904309001285583,
         4.062789925606921,
         4.314941777614877,
         3.9963402065914124,
         4.17796844127588,
         3.984514473704621,
         4.055567457107827,
         4.099032969446853,
         3.924400298623368,
         4.0935294914525,
         4.202015413669869,
         4.2265480298083276,
         4.016483539016917,
         4.07603648933582,
         3.912879070965573,
         3.9778620812576264,
         4.123742810217664,
         4.077390701742843,
         3.9878489661496133,
         4.369509695796296,
         4.0423566836398095,
         4.175099893240258,
         3.9387865874450654,
         4.161252884892747,
         3.973237543134019,
         4.1148997831624,
         4.049442702205852,
         4.03682799753733,
         3.972651669057086,
         4.141869268147275,
         4.111921736272052,
         4.263247245224193,
         4.0922835159581155,
         4.200713976053521,
         4.254442891804501,
         4.3923894602339715,
         3.8491111162584275,
         4.024200907675549,
         4.145723833469674,
         4.150933584896848,
         4.31964244809933,
         3.9595521825831383,
         3.9671795729082078,
         4.41111151012592,
         4.133794008521363,
         3.9816579956095666,
         3.9508586961310357,
         4.005731859477237,
         4.133340121479705,
         4.447281329659745,
         4.308000548509881,
         3.936896650819108,
         3.9256570774596184,
         4.340620434610173,
         4.0900417875964195,
         4.4387945246417075,
         4.021515159634873,
         4.262304394273087,
         3.9784405019599944,
         4.090852445689961,
         4.070515132276341,
         3.9445983606856316,
         4.210658059688285,
         4.045331260887906,
         4.0513427692931145,
         3.948015159694478,
         4.168005586834624,
         4.075370916398242,
         4.27533391979523,
         4.1085624161642045,
         3.990644125966355,
         3.9758006918709725,
         4.347300647525117,
         4.22327268240042,
         4.1537386265117675,
         4.071811019210145,
         3.9706402358133346,
         4.041918822797015,
         4.14811863633804
        ],
        [
         1.7132723984017553,
         1.7645114357205185,
         1.7171741434420864,
         1.7155138870713789,
         1.735465572296478,
         1.7061656325639039,
         1.7095127555225746,
         1.7152914852547212,
         1.7053628474369278,
         1.7312438392284313,
         1.7287409548098274,
         1.6930962823608169,
         1.7515889758420873,
         1.7067084837407904,
         1.703081411526237,
         1.7157029428416937,
         1.70450229912351,
         1.714078896834591,
         1.692975947586749,
         1.7285519816973711,
         1.7257821756959122,
         1.7126254767956322,
         1.713096305053758,
         1.7049758517549236,
         1.6897642173077276,
         1.7103730617297337,
         1.7229087587156893,
         1.7119617751503047,
         1.7110037593034606,
         1.689422326262627,
         1.7117695031749378,
         1.7152635758226427,
         1.7278930902816803,
         1.724585182219822,
         1.6759472073060429,
         1.6750923660273094,
         1.7221006885465506,
         1.722593165209018,
         1.6996501690380563,
         1.7243275136424687,
         1.7831840963278418,
         1.6903528400006718,
         1.7190111245300783,
         1.7072052797650918,
         1.6984930810926873,
         1.7251335662263942,
         1.7324210072618589,
         1.7284291784875292,
         1.6788497605206187,
         1.7007361324561974,
         1.703344286952966,
         1.7342235555433003,
         1.7392208008678949,
         1.7051547073439937,
         1.7336109191884435,
         1.7578981093610118,
         1.7424453645226643,
         1.7064516930589544,
         1.6759080591336153,
         1.7171847645706375,
         1.733410057325112,
         1.741669553302183,
         1.709931660408298,
         1.6828479939453378,
         1.743556643082123,
         1.7203746013154309,
         1.6975983329183884,
         1.714367366473056,
         1.7176087732376752,
         1.7321960374979484,
         1.746881876752552,
         1.7523876711085877,
         1.6942744783475712,
         1.6913874978231924,
         1.731276235170001,
         1.7477772172259876,
         1.753833241486857,
         1.711318816947433,
         1.737882000431904,
         1.708030353331457,
         1.7101199051373641,
         1.7303185605001632,
         1.7115134895276103,
         1.717422364515586,
         1.7083084792243206,
         1.6772440786729579,
         1.717165353403403,
         1.7338164226037944,
         1.7228208599276633,
         1.7460786625458689,
         1.7453190607916504,
         1.7027368254503394,
         1.7125268058643506,
         1.776422152321577,
         1.735044327372123,
         1.7372452192219296,
         1.7347141721449828,
         1.701892585395893,
         1.7146150639515148,
         1.7250733948403394
        ]
       ],
       "encoder": "json",
       "name": "ABC_GAN_1 Metrics",
       "version": 1
      }
     },
     "metadata": {
      "scrapbook": {
       "data": true,
       "display": false,
       "name": "ABC_GAN_1 Metrics"
      }
     },
     "output_type": "display_data"
    },
    {
     "name": "stdout",
     "output_type": "stream",
     "text": [
      "MSE\n",
      "0.14768741355425566\n"
     ]
    }
   ],
   "source": [
    "ABC_GAN1_metrics=ABC_train_test2.test_generator(gen,test_data,prior_model,variance,0,\"1\",device)\n",
    "sb.glue(\"ABC_GAN_1 Metrics\",ABC_GAN1_metrics)\n",
    "\n",
    "print(\"MSE\")\n",
    "print(mean(ABC_GAN1_metrics[0]))"
   ]
  },
  {
   "cell_type": "code",
   "execution_count": 14,
   "id": "eb22ce5c",
   "metadata": {
    "execution": {
     "iopub.execute_input": "2022-05-18T08:37:20.133379Z",
     "iopub.status.busy": "2022-05-18T08:37:20.133007Z",
     "iopub.status.idle": "2022-05-18T08:37:20.440619Z",
     "shell.execute_reply": "2022-05-18T08:37:20.440923Z"
    },
    "papermill": {
     "duration": 0.322066,
     "end_time": "2022-05-18T08:37:20.441048",
     "exception": false,
     "start_time": "2022-05-18T08:37:20.118982",
     "status": "completed"
    },
    "tags": []
   },
   "outputs": [
    {
     "data": {
      "image/png": "[encoded data removed]",
      "text/plain": [
       "<Figure size 432x288 with 1 Axes>"
      ]
     },
     "metadata": {
      "needs_background": "light"
     },
     "output_type": "display_data"
    },
    {
     "data": {
      "image/png": "[encoded data removed]",
      "text/plain": [
       "<Figure size 432x288 with 1 Axes>"
      ]
     },
     "metadata": {
      "needs_background": "light"
     },
     "output_type": "display_data"
    },
    {
     "data": {
      "image/png": "[encoded data removed]",
      "text/plain": [
       "<Figure size 432x288 with 1 Axes>"
      ]
     },
     "metadata": {
      "needs_background": "light"
     },
     "output_type": "display_data"
    },
    {
     "data": {
      "image/png": "[encoded data removed]",
      "text/plain": [
       "<Figure size 432x288 with 1 Axes>"
      ]
     },
     "metadata": {
      "needs_background": "light"
     },
     "output_type": "display_data"
    }
   ],
   "source": [
    "sanityChecks.discProbVsError(train_data,disc,device)\n",
    "sanityChecks.discProbVsError(test_data,disc,device)"
   ]
  },
  {
   "cell_type": "markdown",
   "id": "130f3a4d",
   "metadata": {
    "id": "130f3a4d",
    "papermill": {
     "duration": 0.014108,
     "end_time": "2022-05-18T08:37:20.469652",
     "exception": false,
     "start_time": "2022-05-18T08:37:20.455544",
     "status": "completed"
    },
    "tags": []
   },
   "source": [
    "# ABC - GAN Model with skip connection"
   ]
  },
  {
   "cell_type": "code",
   "execution_count": 15,
   "id": "4e43dad1",
   "metadata": {
    "execution": {
     "iopub.execute_input": "2022-05-18T08:37:20.501522Z",
     "iopub.status.busy": "2022-05-18T08:37:20.501135Z",
     "iopub.status.idle": "2022-05-18T08:37:20.503413Z",
     "shell.execute_reply": "2022-05-18T08:37:20.503661Z"
    },
    "id": "4e43dad1",
    "papermill": {
     "duration": 0.020011,
     "end_time": "2022-05-18T08:37:20.503772",
     "exception": false,
     "start_time": "2022-05-18T08:37:20.483761",
     "status": "completed"
    },
    "tags": []
   },
   "outputs": [],
   "source": [
    "#Generator\n",
    "gen3 = network.GeneratorWithSkipConnection(n_features+1).to(device)\n",
    "constraints=network.weightConstraint()\n",
    "#Discriminator \n",
    "disc3 = network.Discriminator(n_features+1).to(device)\n",
    "\n",
    "criterion = torch.nn.BCELoss()\n",
    "gen_opt = torch.optim.Adam(gen3.parameters(), lr=0.001, betas=(0.5, 0.999))\n",
    "disc_opt = torch.optim.Adam(disc3.parameters(), lr=0.001, betas=(0.5, 0.999))\n"
   ]
  },
  {
   "cell_type": "code",
   "execution_count": 16,
   "id": "26acbc37",
   "metadata": {
    "execution": {
     "iopub.execute_input": "2022-05-18T08:37:20.534403Z",
     "iopub.status.busy": "2022-05-18T08:37:20.534046Z",
     "iopub.status.idle": "2022-05-18T08:37:56.687125Z",
     "shell.execute_reply": "2022-05-18T08:37:56.687510Z"
    },
    "id": "26acbc37",
    "papermill": {
     "duration": 36.16964,
     "end_time": "2022-05-18T08:37:56.687632",
     "exception": false,
     "start_time": "2022-05-18T08:37:20.517992",
     "status": "completed"
    },
    "tags": []
   },
   "outputs": [
    {
     "data": {
      "image/png": "[encoded data removed]",
      "text/plain": [
       "<Figure size 432x288 with 1 Axes>"
      ]
     },
     "metadata": {
      "needs_background": "light"
     },
     "output_type": "display_data"
    },
    {
     "data": {
      "image/png": "[encoded data removed]",
      "text/plain": [
       "<Figure size 432x288 with 1 Axes>"
      ]
     },
     "metadata": {
      "needs_background": "light"
     },
     "output_type": "display_data"
    }
   ],
   "source": [
    "ABC_train_test2.training_GAN_skip_connection(disc3,gen3,disc_opt,gen_opt,train_data,batch_size,n_epochs,criterion,prior_model,variance,0,device)"
   ]
  },
  {
   "cell_type": "code",
   "execution_count": 17,
   "id": "c5e0717b",
   "metadata": {
    "execution": {
     "iopub.execute_input": "2022-05-18T08:37:56.721000Z",
     "iopub.status.busy": "2022-05-18T08:37:56.720526Z",
     "iopub.status.idle": "2022-05-18T08:37:56.994366Z",
     "shell.execute_reply": "2022-05-18T08:37:56.994719Z"
    },
    "id": "c5e0717b",
    "papermill": {
     "duration": 0.292014,
     "end_time": "2022-05-18T08:37:56.994842",
     "exception": false,
     "start_time": "2022-05-18T08:37:56.702828",
     "status": "completed"
    },
    "tags": []
   },
   "outputs": [
    {
     "data": {
      "application/scrapbook.scrap.json+json": {
       "data": 0.05855933781549131,
       "encoder": "json",
       "name": "ABC-GAN Model 3 MSE",
       "version": 1
      }
     },
     "metadata": {
      "scrapbook": {
       "data": true,
       "display": false,
       "name": "ABC-GAN Model 3 MSE"
      }
     },
     "output_type": "display_data"
    },
    {
     "data": {
      "application/scrapbook.scrap.json+json": {
       "data": 0.17303332739369945,
       "encoder": "json",
       "name": "ABC-GAN Model 3 MAE",
       "version": 1
      }
     },
     "metadata": {
      "scrapbook": {
       "data": true,
       "display": false,
       "name": "ABC-GAN Model 3 MAE"
      }
     },
     "output_type": "display_data"
    },
    {
     "data": {
      "application/scrapbook.scrap.json+json": {
       "data": 3.4606665478739886,
       "encoder": "json",
       "name": "ABC-GAN Model 3 Manhattan Distance",
       "version": 1
      }
     },
     "metadata": {
      "scrapbook": {
       "data": true,
       "display": false,
       "name": "ABC-GAN Model 3 Manhattan Distance"
      }
     },
     "output_type": "display_data"
    },
    {
     "data": {
      "application/scrapbook.scrap.json+json": {
       "data": 1.0804133955935644,
       "encoder": "json",
       "name": "ABC-GAN Model 3 Euclidean distance",
       "version": 1
      }
     },
     "metadata": {
      "scrapbook": {
       "data": true,
       "display": false,
       "name": "ABC-GAN Model 3 Euclidean distance"
      }
     },
     "output_type": "display_data"
    },
    {
     "data": {
      "application/scrapbook.scrap.json+json": {
       "data": [
        [
         0.052754515448178885,
         0.06381980524347639,
         0.06431660448762279,
         0.0596840343707,
         0.06336950081024742,
         0.06724445352875849,
         0.05974565538413814,
         0.048764930243130465,
         0.06240778216155465,
         0.05056575953925352,
         0.06503201582953519,
         0.0574238786331955,
         0.04450106647825125,
         0.0646157804992957,
         0.06602516750352017,
         0.05533979675537528,
         0.0650047587869194,
         0.07085851003737217,
         0.05791333117166003,
         0.06437636774773044,
         0.05452122524504581,
         0.06331581449729969,
         0.059912593418251135,
         0.07478890729840121,
         0.053709020273534816,
         0.05413516736600663,
         0.047803037776554924,
         0.052605775454940405,
         0.06293785367502167,
         0.046678606474878606,
         0.05691217072367133,
         0.05096159524727112,
         0.05235549706955607,
         0.0641426634009868,
         0.0461799858505074,
         0.06378700224293096,
         0.05963520209925323,
         0.06215484873984024,
         0.05769172611048613,
         0.06738526163814494,
         0.07627793736956864,
         0.05934028229939643,
         0.0657116623393999,
         0.05363150724902808,
         0.05227452400650273,
         0.062278796369868515,
         0.04669225488612885,
         0.061522239585490635,
         0.051119055602160346,
         0.05708912130793507,
         0.06273062475455508,
         0.06764396211835857,
         0.06230456372794254,
         0.06153010082170145,
         0.058431953409337586,
         0.06519870440126568,
         0.051260535517640836,
         0.06777249522835457,
         0.06456168007630596,
         0.05111373460678774,
         0.04801785798188677,
         0.04097907103601652,
         0.06375986959716912,
         0.04916082339362071,
         0.0629672141922007,
         0.06098762329563072,
         0.06540733168925225,
         0.05974757440997845,
         0.0544581966103145,
         0.06843469904183982,
         0.05514605735754581,
         0.0581828124040993,
         0.06009783771131912,
         0.05025007332124544,
         0.05154678392744523,
         0.05916295348364113,
         0.05979250371578715,
         0.05911685676293753,
         0.056827849725150335,
         0.06397957670765811,
         0.058754328721837855,
         0.06459334338795034,
         0.05905386611826614,
         0.0624049668702607,
         0.06274888110151555,
         0.05522070227246412,
         0.05794026890974422,
         0.048151472072540356,
         0.0505600646303598,
         0.062347587111680855,
         0.056473035405449845,
         0.05265469692039474,
         0.05701735336719892,
         0.06177313891013518,
         0.056890223769004086,
         0.04559306029056466,
         0.05859617573907122,
         0.059193876935883474,
         0.06059134543370407,
         0.06348842227613788
        ],
        [
         0.1671435552998446,
         0.1844208298600279,
         0.17836811760207638,
         0.17035561868688093,
         0.1746948774321936,
         0.1981327246292494,
         0.172165268601384,
         0.16456881364574655,
         0.18648264514049515,
         0.16460655661066995,
         0.17565698953112588,
         0.1802641782327555,
         0.155778664664831,
         0.1895472771837376,
         0.18825744123896584,
         0.1689595307572745,
         0.18597977192839607,
         0.19242894084891304,
         0.18135313721140847,
         0.18371348859509454,
         0.16213841469725593,
         0.17408878871938213,
         0.16578343765577302,
         0.1922562669380568,
         0.1638477045460604,
         0.1638889401569031,
         0.16565213607391344,
         0.16385488914093002,
         0.1785046021803282,
         0.15903368623694406,
         0.1738636608584784,
         0.16276758270105346,
         0.15273606361588463,
         0.18226173328002915,
         0.15908036039909348,
         0.17201044069370255,
         0.17304806330939754,
         0.17059019164880737,
         0.16438447976252063,
         0.1963877517147921,
         0.19451582388719543,
         0.17985108898719773,
         0.17186211304506288,
         0.17155900647630914,
         0.17001106174429878,
         0.17358391092857345,
         0.1561101700528525,
         0.17496695475419982,
         0.1710337612195872,
         0.17717263692757115,
         0.1754030886455439,
         0.16824207858880982,
         0.1782044376595877,
         0.18009635986527428,
         0.17966139683267102,
         0.18142112971981988,
         0.16235121892532334,
         0.18432703291764482,
         0.1765179663314484,
         0.16839443178614602,
         0.16479841949185356,
         0.15351631821831688,
         0.180208503769245,
         0.15839689777931198,
         0.17665766136487945,
         0.17746592418989166,
         0.18566888825735078,
         0.1756688149063848,
         0.16303713576635345,
         0.18270016940077766,
         0.16904128374299035,
         0.17165719078620895,
         0.18313028694828973,
         0.1640052448376082,
         0.16363461123546585,
         0.1741252559586428,
         0.15878107057651505,
         0.17268646167358384,
         0.15533393019577488,
         0.18063746312400325,
         0.17883223401149734,
         0.181673822121229,
         0.17916990699013696,
         0.18419574903091415,
         0.1741069740965031,
         0.1635108552291058,
         0.1776766407652758,
         0.16083229290088638,
         0.16608222307404502,
         0.17512139634927734,
         0.1734329100116156,
         0.16348005490144715,
         0.16902198301395402,
         0.17521305786212907,
         0.17317658023675903,
         0.1518237474723719,
         0.1699050466879271,
         0.16997222633799539,
         0.16467238733312115,
         0.18593782739480957
        ],
        [
         3.342871105996892,
         3.6884165972005576,
         3.5673623520415276,
         3.4071123737376183,
         3.493897548643872,
         3.9626544925849885,
         3.4433053720276803,
         3.291376272914931,
         3.729652902809903,
         3.292131132213399,
         3.5131397906225175,
         3.6052835646551102,
         3.1155732932966202,
         3.790945543674752,
         3.765148824779317,
         3.3791906151454896,
         3.7195954385679215,
         3.848578816978261,
         3.6270627442281693,
         3.6742697719018906,
         3.242768293945119,
         3.4817757743876427,
         3.3156687531154603,
         3.845125338761136,
         3.2769540909212083,
         3.2777788031380624,
         3.3130427214782685,
         3.2770977828186005,
         3.5700920436065644,
         3.180673724738881,
         3.477273217169568,
         3.2553516540210694,
         3.0547212723176926,
         3.645234665600583,
         3.1816072079818696,
         3.440208813874051,
         3.460961266187951,
         3.4118038329761475,
         3.287689595250413,
         3.927755034295842,
         3.8903164777439088,
         3.5970217797439545,
         3.4372422609012574,
         3.431180129526183,
         3.4002212348859757,
         3.471678218571469,
         3.1222034010570496,
         3.4993390950839967,
         3.4206752243917435,
         3.543452738551423,
         3.508061772910878,
         3.3648415717761964,
         3.564088753191754,
         3.6019271973054856,
         3.5932279366534203,
         3.6284225943963975,
         3.2470243785064667,
         3.6865406583528966,
         3.530359326628968,
         3.3678886357229203,
         3.2959683898370713,
         3.0703263643663377,
         3.6041700753849,
         3.1679379555862397,
         3.533153227297589,
         3.5493184837978333,
         3.7133777651470155,
         3.513376298127696,
         3.260742715327069,
         3.6540033880155534,
         3.380825674859807,
         3.433143815724179,
         3.6626057389657944,
         3.2801048967521638,
         3.272692224709317,
         3.482505119172856,
         3.175621411530301,
         3.4537292334716767,
         3.1066786039154977,
         3.6127492624800652,
         3.576644680229947,
         3.6334764424245805,
         3.583398139802739,
         3.683914980618283,
         3.482139481930062,
         3.270217104582116,
         3.553532815305516,
         3.2166458580177277,
         3.3216444614809006,
         3.502427926985547,
         3.468658200232312,
         3.269601098028943,
         3.3804396602790803,
         3.5042611572425812,
         3.4635316047351807,
         3.036474949447438,
         3.398100933758542,
         3.3994445267599076,
         3.293447746662423,
         3.7187565478961915
        ],
        [
         1.0271758899835888,
         1.129777015551975,
         1.1341658122833962,
         1.0925569492772447,
         1.1257841783419007,
         1.1596935244171926,
         1.0931208111104476,
         0.9875720757811094,
         1.117208862850225,
         1.0056416811096636,
         1.140456187931261,
         1.0716704589863015,
         0.9434094177847839,
         1.1368006025622586,
         1.1491315634297072,
         1.0520436944858829,
         1.140217161657545,
         1.1904495792545955,
         1.0762279607189178,
         1.134692625760214,
         1.0442339320769634,
         1.125307198033494,
         1.0946469149296603,
         1.2230200922176315,
         1.0364267487240457,
         1.0405303202310505,
         0.9777835934045419,
         1.025726819917861,
         1.121943435962987,
         0.9662153639316506,
         1.0668849115408028,
         1.0095701585057981,
         1.0232839006801198,
         1.1326311261923434,
         0.961040954907827,
         1.1294866288976684,
         1.0921099038032136,
         1.114942588116897,
         1.0741668968133968,
         1.1609070732676663,
         1.2351351130104644,
         1.0894060978294222,
         1.1464001250819882,
         1.0356785915430335,
         1.022492288543075,
         1.1160537296193989,
         0.9663566100164975,
         1.1092541601048034,
         1.0111286327877413,
         1.0685421967141502,
         1.1200948598628162,
         1.1631333725618793,
         1.1162845849329153,
         1.1093250274081212,
         1.0810361086414977,
         1.1419168481221886,
         1.0125268936442215,
         1.164237907202429,
         1.136324602182897,
         1.0110760071012241,
         0.9799781424285622,
         0.9053073625682774,
         1.1292463823025436,
         0.991572724449606,
         1.122205098831766,
         1.1044240426179677,
         1.1437423808642597,
         1.0931383664475276,
         1.043630170226163,
         1.1699119543097236,
         1.050200527114187,
         1.078728996589035,
         1.0963378832396435,
         1.0024976141741728,
         1.01535002760078,
         1.0877771231611846,
         1.0935493012734923,
         1.0873532706801183,
         1.0660942709268288,
         1.1311903173883526,
         1.0840141025082455,
         1.1366032147407497,
         1.0867738138018062,
         1.1171836632377032,
         1.1202578372992136,
         1.050911054965777,
         1.0764782293176598,
         0.9813406347700105,
         1.0055850499123364,
         1.1166699343286794,
         1.0627608894332707,
         1.0262036534761971,
         1.0678703420097304,
         1.1115137327998712,
         1.0666791810943352,
         0.9549142400295919,
         1.0825541625163262,
         1.0880613671653219,
         1.1008300998219849,
         1.1268400265888487
        ]
       ],
       "encoder": "json",
       "name": "ABC_GAN_3 Metrics",
       "version": 1
      }
     },
     "metadata": {
      "scrapbook": {
       "data": true,
       "display": false,
       "name": "ABC_GAN_3 Metrics"
      }
     },
     "output_type": "display_data"
    },
    {
     "name": "stdout",
     "output_type": "stream",
     "text": [
      "MSE\n",
      "0.05855933781549131\n"
     ]
    }
   ],
   "source": [
    "ABC_GAN3_metrics=ABC_train_test2.test_generator(gen3,test_data,prior_model,variance,0,\"3\",device)\n",
    "sb.glue(\"ABC_GAN_3 Metrics\",ABC_GAN3_metrics)\n",
    "\n",
    "print(\"MSE\")\n",
    "print(mean(ABC_GAN3_metrics[0]))"
   ]
  },
  {
   "cell_type": "code",
   "execution_count": 18,
   "id": "c8e46b48",
   "metadata": {
    "execution": {
     "iopub.execute_input": "2022-05-18T08:37:57.057145Z",
     "iopub.status.busy": "2022-05-18T08:37:57.056777Z",
     "iopub.status.idle": "2022-05-18T08:37:57.337910Z",
     "shell.execute_reply": "2022-05-18T08:37:57.338210Z"
    },
    "id": "c8e46b48",
    "papermill": {
     "duration": 0.300901,
     "end_time": "2022-05-18T08:37:57.338332",
     "exception": false,
     "start_time": "2022-05-18T08:37:57.037431",
     "status": "completed"
    },
    "tags": []
   },
   "outputs": [
    {
     "data": {
      "image/png": "[encoded data removed]",
      "text/plain": [
       "<Figure size 432x288 with 1 Axes>"
      ]
     },
     "metadata": {
      "needs_background": "light"
     },
     "output_type": "display_data"
    },
    {
     "data": {
      "image/png": "[encoded data removed]",
      "text/plain": [
       "<Figure size 432x288 with 1 Axes>"
      ]
     },
     "metadata": {
      "needs_background": "light"
     },
     "output_type": "display_data"
    },
    {
     "data": {
      "image/png": "[encoded data removed]",
      "text/plain": [
       "<Figure size 432x288 with 1 Axes>"
      ]
     },
     "metadata": {
      "needs_background": "light"
     },
     "output_type": "display_data"
    },
    {
     "data": {
      "image/png": "[encoded data removed]",
      "text/plain": [
       "<Figure size 432x288 with 1 Axes>"
      ]
     },
     "metadata": {
      "needs_background": "light"
     },
     "output_type": "display_data"
    }
   ],
   "source": [
    "sanityChecks.discProbVsError(train_data,disc3,device)\n",
    "sanityChecks.discProbVsError(test_data,disc3,device)"
   ]
  },
  {
   "cell_type": "markdown",
   "id": "a5bd74c3",
   "metadata": {
    "id": "a5bd74c3",
    "papermill": {
     "duration": 0.019008,
     "end_time": "2022-05-18T08:37:57.376656",
     "exception": false,
     "start_time": "2022-05-18T08:37:57.357648",
     "status": "completed"
    },
    "tags": []
   },
   "source": [
    "## Skip Connection Model Analysis - ABC-GAN "
   ]
  },
  {
   "cell_type": "markdown",
   "id": "5744a8bf",
   "metadata": {
    "id": "5744a8bf",
    "papermill": {
     "duration": 0.018725,
     "end_time": "2022-05-18T08:37:57.414322",
     "exception": false,
     "start_time": "2022-05-18T08:37:57.395597",
     "status": "completed"
    },
    "tags": []
   },
   "source": [
    "### Weight Analysis \n",
    "\n",
    "Study the weights of the skip connection layer\n",
    "\n",
    "Equation of the skip connection is \n",
    "\n",
    "$output = y_{gan} * w + y_{abc} * (1-w)$"
   ]
  },
  {
   "cell_type": "code",
   "execution_count": 19,
   "id": "52c31dea",
   "metadata": {
    "execution": {
     "iopub.execute_input": "2022-05-18T08:37:57.455980Z",
     "iopub.status.busy": "2022-05-18T08:37:57.455535Z",
     "iopub.status.idle": "2022-05-18T08:37:57.459261Z",
     "shell.execute_reply": "2022-05-18T08:37:57.459014Z"
    },
    "id": "52c31dea",
    "papermill": {
     "duration": 0.02532,
     "end_time": "2022-05-18T08:37:57.459360",
     "exception": false,
     "start_time": "2022-05-18T08:37:57.434040",
     "status": "completed"
    },
    "tags": []
   },
   "outputs": [
    {
     "name": "stdout",
     "output_type": "stream",
     "text": [
      "Weight of the node at skip connection\n",
      "Parameter containing:\n",
      "tensor([[0.2891]], requires_grad=True)\n"
     ]
    },
    {
     "data": {
      "application/scrapbook.scrap.json+json": {
       "data": 0.2890678942203522,
       "encoder": "json",
       "name": "Skip Connection Weight",
       "version": 1
      }
     },
     "metadata": {
      "scrapbook": {
       "data": true,
       "display": false,
       "name": "Skip Connection Weight"
      }
     },
     "output_type": "display_data"
    }
   ],
   "source": [
    "print(\"Weight of the node at skip connection\")\n",
    "for name,param in gen3.named_parameters():\n",
    "    if(name == \"skipNode.weight\"):\n",
    "        print(param)\n",
    "        sb.glue(\"Skip Connection Weight\",param.item())"
   ]
  }
 ],
 "metadata": {
  "colab": {
   "collapsed_sections": [],
   "name": "ABC_GAN_Model-Catboost_Pre-gen.ipynb",
   "provenance": []
  },
  "interpreter": {
   "hash": "31f2aee4e71d21fbe5cf8b01ff0e069b9275f58929596ceb00d14d90e3e16cd6"
  },
  "kernelspec": {
   "display_name": "Python 3 (ipykernel)",
   "language": "python",
   "name": "python3"
  },
  "language_info": {
   "codemirror_mode": {
    "name": "ipython",
    "version": 3
   },
   "file_extension": ".py",
   "mimetype": "text/x-python",
   "name": "python",
   "nbconvert_exporter": "python",
   "pygments_lexer": "ipython3",
   "version": "3.8.11"
  },
  "papermill": {
   "default_parameters": {},
   "duration": 56.410194,
   "end_time": "2022-05-18T08:37:57.786125",
   "environment_variables": {},
   "exception": null,
   "input_path": "ABC_GAN-Catboost.ipynb",
   "output_path": "./ABC_GAN_Catboost/ABC-GAN_output_6_0.ipynb",
   "parameters": {
    "variance": 1
   },
   "start_time": "2022-05-18T08:37:01.375931",
   "version": "2.3.3"
  }
 },
 "nbformat": 4,
 "nbformat_minor": 5
}