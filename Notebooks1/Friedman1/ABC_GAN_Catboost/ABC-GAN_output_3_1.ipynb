{
 "cells": [
  {
   "cell_type": "markdown",
   "id": "622780e6",
   "metadata": {
    "id": "622780e6",
    "papermill": {
     "duration": 0.034579,
     "end_time": "2022-05-18T08:29:20.704694",
     "exception": false,
     "start_time": "2022-05-18T08:29:20.670115",
     "status": "completed"
    },
    "tags": []
   },
   "source": [
    "## Import Libraries "
   ]
  },
  {
   "cell_type": "code",
   "execution_count": 1,
   "id": "a62397e3",
   "metadata": {
    "execution": {
     "iopub.execute_input": "2022-05-18T08:29:20.741063Z",
     "iopub.status.busy": "2022-05-18T08:29:20.740470Z",
     "iopub.status.idle": "2022-05-18T08:29:20.742786Z",
     "shell.execute_reply": "2022-05-18T08:29:20.743124Z"
    },
    "id": "a62397e3",
    "papermill": {
     "duration": 0.022214,
     "end_time": "2022-05-18T08:29:20.743336",
     "exception": false,
     "start_time": "2022-05-18T08:29:20.721122",
     "status": "completed"
    },
    "tags": []
   },
   "outputs": [],
   "source": [
    "import warnings\n",
    "import sys\n",
    "sys.path.insert(0, '../../src')\n",
    "warnings.filterwarnings('ignore')"
   ]
  },
  {
   "cell_type": "code",
   "execution_count": 2,
   "id": "d6a4e155",
   "metadata": {
    "execution": {
     "iopub.execute_input": "2022-05-18T08:29:20.763887Z",
     "iopub.status.busy": "2022-05-18T08:29:20.763464Z",
     "iopub.status.idle": "2022-05-18T08:29:22.523009Z",
     "shell.execute_reply": "2022-05-18T08:29:22.523270Z"
    },
    "id": "d6a4e155",
    "papermill": {
     "duration": 1.7705,
     "end_time": "2022-05-18T08:29:22.523397",
     "exception": false,
     "start_time": "2022-05-18T08:29:20.752897",
     "status": "completed"
    },
    "tags": []
   },
   "outputs": [],
   "source": [
    "import ABC_train_test2\n",
    "import friedman1Dataset\n",
    "import network\n",
    "import dataset\n",
    "import sanityChecks\n",
    "import torch \n",
    "import scrapbook as sb\n",
    "from statistics import mean \n",
    "import catboost as ctb \n",
    "from sklearn.model_selection import train_test_split\n",
    "from sklearn.metrics import mean_squared_error,mean_absolute_error\n",
    "import numpy as np"
   ]
  },
  {
   "cell_type": "markdown",
   "id": "2fa5b0f7",
   "metadata": {
    "id": "2fa5b0f7",
    "papermill": {
     "duration": 0.00678,
     "end_time": "2022-05-18T08:29:22.537382",
     "exception": false,
     "start_time": "2022-05-18T08:29:22.530602",
     "status": "completed"
    },
    "tags": []
   },
   "source": [
    "## Parameters "
   ]
  },
  {
   "cell_type": "code",
   "execution_count": 3,
   "id": "783186fb",
   "metadata": {
    "execution": {
     "iopub.execute_input": "2022-05-18T08:29:22.552985Z",
     "iopub.status.busy": "2022-05-18T08:29:22.552609Z",
     "iopub.status.idle": "2022-05-18T08:29:22.553826Z",
     "shell.execute_reply": "2022-05-18T08:29:22.554062Z"
    },
    "id": "783186fb",
    "papermill": {
     "duration": 0.010132,
     "end_time": "2022-05-18T08:29:22.554170",
     "exception": false,
     "start_time": "2022-05-18T08:29:22.544038",
     "status": "completed"
    },
    "tags": [
     "parameters"
    ]
   },
   "outputs": [],
   "source": [
    "variance = 1"
   ]
  },
  {
   "cell_type": "code",
   "execution_count": 4,
   "id": "d0258ae6",
   "metadata": {
    "execution": {
     "iopub.execute_input": "2022-05-18T08:29:22.569644Z",
     "iopub.status.busy": "2022-05-18T08:29:22.569278Z",
     "iopub.status.idle": "2022-05-18T08:29:22.570366Z",
     "shell.execute_reply": "2022-05-18T08:29:22.570592Z"
    },
    "papermill": {
     "duration": 0.009683,
     "end_time": "2022-05-18T08:29:22.570700",
     "exception": false,
     "start_time": "2022-05-18T08:29:22.561017",
     "status": "completed"
    },
    "tags": [
     "injected-parameters"
    ]
   },
   "outputs": [],
   "source": [
    "# Parameters\n",
    "variance = 0.1\n"
   ]
  },
  {
   "cell_type": "markdown",
   "id": "391cdbfd",
   "metadata": {
    "id": "391cdbfd",
    "papermill": {
     "duration": 0.006696,
     "end_time": "2022-05-18T08:29:22.584169",
     "exception": false,
     "start_time": "2022-05-18T08:29:22.577473",
     "status": "completed"
    },
    "tags": []
   },
   "source": [
    "## Dataset \n"
   ]
  },
  {
   "cell_type": "code",
   "execution_count": 5,
   "id": "5b51f161",
   "metadata": {
    "execution": {
     "iopub.execute_input": "2022-05-18T08:29:22.599713Z",
     "iopub.status.busy": "2022-05-18T08:29:22.599333Z",
     "iopub.status.idle": "2022-05-18T08:29:22.600580Z",
     "shell.execute_reply": "2022-05-18T08:29:22.600819Z"
    },
    "id": "5b51f161",
    "papermill": {
     "duration": 0.010026,
     "end_time": "2022-05-18T08:29:22.600925",
     "exception": false,
     "start_time": "2022-05-18T08:29:22.590899",
     "status": "completed"
    },
    "tags": []
   },
   "outputs": [],
   "source": [
    "#Parameters \n",
    "n_features = 5\n",
    "n_samples= 100\n",
    "n_target = 1 "
   ]
  },
  {
   "cell_type": "code",
   "execution_count": 6,
   "id": "5d6eced4",
   "metadata": {
    "execution": {
     "iopub.execute_input": "2022-05-18T08:29:22.617964Z",
     "iopub.status.busy": "2022-05-18T08:29:22.617602Z",
     "iopub.status.idle": "2022-05-18T08:29:22.622466Z",
     "shell.execute_reply": "2022-05-18T08:29:22.622706Z"
    },
    "id": "5d6eced4",
    "papermill": {
     "duration": 0.01508,
     "end_time": "2022-05-18T08:29:22.622820",
     "exception": false,
     "start_time": "2022-05-18T08:29:22.607740",
     "status": "completed"
    },
    "tags": []
   },
   "outputs": [
    {
     "name": "stdout",
     "output_type": "stream",
     "text": [
      "         X0        X1        X2        X3        X4         Y\n",
      "0  1.315984  0.371616  0.383919 -0.075292  0.014175  0.485830\n",
      "1  0.753716 -0.403913 -0.050870 -0.319177 -0.756479 -0.195061\n",
      "2  0.819237 -1.714933  1.521518 -1.204904 -1.627797 -1.413199\n",
      "3 -1.598090 -0.913506 -0.980674  0.596084  1.391427 -0.209635\n",
      "4 -0.217649 -0.564183 -0.911155 -0.945349  0.784094 -0.404289\n"
     ]
    }
   ],
   "source": [
    "X,Y = friedman1Dataset.friedman1_data(n_samples,n_features)"
   ]
  },
  {
   "cell_type": "code",
   "execution_count": 7,
   "id": "fe007438",
   "metadata": {
    "execution": {
     "iopub.execute_input": "2022-05-18T08:29:22.639644Z",
     "iopub.status.busy": "2022-05-18T08:29:22.639274Z",
     "iopub.status.idle": "2022-05-18T08:29:22.640537Z",
     "shell.execute_reply": "2022-05-18T08:29:22.640770Z"
    },
    "id": "fe007438",
    "papermill": {
     "duration": 0.010815,
     "end_time": "2022-05-18T08:29:22.640877",
     "exception": false,
     "start_time": "2022-05-18T08:29:22.630062",
     "status": "completed"
    },
    "tags": []
   },
   "outputs": [],
   "source": [
    "#Train test split for dataset \n",
    "X_train,X_test,Y_train,Y_test = train_test_split(X,Y,test_size = 0.2)\n",
    "train_data = dataset.CustomDataset(X_train,Y_train)\n",
    "test_data = dataset.CustomDataset(X_test,Y_test)\n"
   ]
  },
  {
   "cell_type": "markdown",
   "id": "a9a1af34",
   "metadata": {
    "id": "a9a1af34",
    "papermill": {
     "duration": 0.007086,
     "end_time": "2022-05-18T08:29:22.655252",
     "exception": false,
     "start_time": "2022-05-18T08:29:22.648166",
     "status": "completed"
    },
    "tags": []
   },
   "source": [
    "## Training Parameters "
   ]
  },
  {
   "cell_type": "code",
   "execution_count": 8,
   "id": "952b7fc8",
   "metadata": {
    "execution": {
     "iopub.execute_input": "2022-05-18T08:29:22.671704Z",
     "iopub.status.busy": "2022-05-18T08:29:22.671341Z",
     "iopub.status.idle": "2022-05-18T08:29:22.672597Z",
     "shell.execute_reply": "2022-05-18T08:29:22.672833Z"
    },
    "id": "952b7fc8",
    "papermill": {
     "duration": 0.010689,
     "end_time": "2022-05-18T08:29:22.672939",
     "exception": false,
     "start_time": "2022-05-18T08:29:22.662250",
     "status": "completed"
    },
    "tags": []
   },
   "outputs": [],
   "source": [
    "batch_size = 32\n",
    "n_epochs = 1000\n",
    "#Select the device \n",
    "device = torch.device('cuda' if torch.cuda.is_available() else 'cpu')"
   ]
  },
  {
   "cell_type": "markdown",
   "id": "a95e1600",
   "metadata": {
    "id": "a95e1600",
    "papermill": {
     "duration": 0.007034,
     "end_time": "2022-05-18T08:29:22.687194",
     "exception": false,
     "start_time": "2022-05-18T08:29:22.680160",
     "status": "completed"
    },
    "tags": []
   },
   "source": [
    "# ABC Pre-generator Model \n",
    "\n",
    "1. The catboost model is used as a pre-generator model for the ABC-GAN. \n",
    "2. The model is first trained on the entire dataset \n",
    "3. It generats X,Y pairs and we add some Gaussian noise with mean 0 and variance 1 to it which is then feed as input to the generator.\n"
   ]
  },
  {
   "cell_type": "code",
   "execution_count": 9,
   "id": "ff8ce7bd",
   "metadata": {
    "execution": {
     "iopub.execute_input": "2022-05-18T08:29:22.704826Z",
     "iopub.status.busy": "2022-05-18T08:29:22.704434Z",
     "iopub.status.idle": "2022-05-18T08:29:23.321941Z",
     "shell.execute_reply": "2022-05-18T08:29:23.322317Z"
    },
    "id": "ff8ce7bd",
    "papermill": {
     "duration": 0.628133,
     "end_time": "2022-05-18T08:29:23.322443",
     "exception": false,
     "start_time": "2022-05-18T08:29:22.694310",
     "status": "completed"
    },
    "tags": []
   },
   "outputs": [
    {
     "name": "stdout",
     "output_type": "stream",
     "text": [
      "Learning rate set to 0.024897\n",
      "0:\tlearn: 0.9899950\ttotal: 57.5ms\tremaining: 57.5s\n",
      "1:\tlearn: 0.9818681\ttotal: 58.1ms\tremaining: 29s\n",
      "2:\tlearn: 0.9736264\ttotal: 58.6ms\tremaining: 19.5s\n",
      "3:\tlearn: 0.9652239\ttotal: 59.2ms\tremaining: 14.7s\n",
      "4:\tlearn: 0.9559986\ttotal: 59.6ms\tremaining: 11.9s\n",
      "5:\tlearn: 0.9459574\ttotal: 60.1ms\tremaining: 9.96s\n",
      "6:\tlearn: 0.9342371\ttotal: 60.6ms\tremaining: 8.59s\n",
      "7:\tlearn: 0.9242602\ttotal: 61.1ms\tremaining: 7.58s\n",
      "8:\tlearn: 0.9170978\ttotal: 61.6ms\tremaining: 6.78s\n",
      "9:\tlearn: 0.9077348\ttotal: 62.1ms\tremaining: 6.15s\n",
      "10:\tlearn: 0.8994647\ttotal: 62.6ms\tremaining: 5.63s\n",
      "11:\tlearn: 0.8914176\ttotal: 63.1ms\tremaining: 5.2s\n",
      "12:\tlearn: 0.8829700\ttotal: 63.6ms\tremaining: 4.83s\n",
      "13:\tlearn: 0.8753047\ttotal: 64.1ms\tremaining: 4.51s\n",
      "14:\tlearn: 0.8686740\ttotal: 64.6ms\tremaining: 4.24s\n",
      "15:\tlearn: 0.8612277\ttotal: 65ms\tremaining: 4s\n",
      "16:\tlearn: 0.8545521\ttotal: 65.5ms\tremaining: 3.79s\n",
      "17:\tlearn: 0.8473405\ttotal: 65.9ms\tremaining: 3.6s\n",
      "18:\tlearn: 0.8389130\ttotal: 66.4ms\tremaining: 3.43s\n",
      "19:\tlearn: 0.8315218\ttotal: 67ms\tremaining: 3.28s\n",
      "20:\tlearn: 0.8244215\ttotal: 67.4ms\tremaining: 3.14s\n",
      "21:\tlearn: 0.8169043\ttotal: 67.9ms\tremaining: 3.02s\n",
      "22:\tlearn: 0.8080287\ttotal: 68.3ms\tremaining: 2.9s\n",
      "23:\tlearn: 0.8021634\ttotal: 68.8ms\tremaining: 2.8s\n",
      "24:\tlearn: 0.7935578\ttotal: 69.3ms\tremaining: 2.7s\n",
      "25:\tlearn: 0.7877537\ttotal: 69.7ms\tremaining: 2.61s\n",
      "26:\tlearn: 0.7803408\ttotal: 70.1ms\tremaining: 2.52s\n",
      "27:\tlearn: 0.7720113\ttotal: 70.5ms\tremaining: 2.45s\n",
      "28:\tlearn: 0.7661816\ttotal: 70.9ms\tremaining: 2.37s\n",
      "29:\tlearn: 0.7585614\ttotal: 71.5ms\tremaining: 2.31s\n",
      "30:\tlearn: 0.7514460\ttotal: 72.1ms\tremaining: 2.25s\n",
      "31:\tlearn: 0.7443353\ttotal: 72.5ms\tremaining: 2.19s\n",
      "32:\tlearn: 0.7384840\ttotal: 73.1ms\tremaining: 2.14s\n",
      "33:\tlearn: 0.7311112\ttotal: 73.4ms\tremaining: 2.09s\n",
      "34:\tlearn: 0.7240605\ttotal: 73.9ms\tremaining: 2.04s\n",
      "35:\tlearn: 0.7188436\ttotal: 74.4ms\tremaining: 1.99s\n",
      "36:\tlearn: 0.7119215\ttotal: 75ms\tremaining: 1.95s\n",
      "37:\tlearn: 0.7056517\ttotal: 75.4ms\tremaining: 1.91s\n",
      "38:\tlearn: 0.6990663\ttotal: 76ms\tremaining: 1.87s\n",
      "39:\tlearn: 0.6936040\ttotal: 76.6ms\tremaining: 1.84s\n",
      "40:\tlearn: 0.6888335\ttotal: 77ms\tremaining: 1.8s\n",
      "41:\tlearn: 0.6832973\ttotal: 77.6ms\tremaining: 1.77s\n",
      "42:\tlearn: 0.6776290\ttotal: 78.1ms\tremaining: 1.74s\n",
      "43:\tlearn: 0.6706343\ttotal: 78.7ms\tremaining: 1.71s\n",
      "44:\tlearn: 0.6649163\ttotal: 79.3ms\tremaining: 1.68s\n",
      "45:\tlearn: 0.6605414\ttotal: 79.7ms\tremaining: 1.65s\n",
      "46:\tlearn: 0.6550282\ttotal: 80.1ms\tremaining: 1.62s\n",
      "47:\tlearn: 0.6496858\ttotal: 80.4ms\tremaining: 1.59s\n",
      "48:\tlearn: 0.6442507\ttotal: 80.8ms\tremaining: 1.57s\n",
      "49:\tlearn: 0.6395587\ttotal: 81.5ms\tremaining: 1.55s\n",
      "50:\tlearn: 0.6347220\ttotal: 82ms\tremaining: 1.53s\n",
      "51:\tlearn: 0.6300237\ttotal: 82.4ms\tremaining: 1.5s\n",
      "52:\tlearn: 0.6246059\ttotal: 82.7ms\tremaining: 1.48s\n",
      "53:\tlearn: 0.6199861\ttotal: 83.2ms\tremaining: 1.46s\n",
      "54:\tlearn: 0.6158406\ttotal: 84ms\tremaining: 1.44s\n",
      "55:\tlearn: 0.6102592\ttotal: 84.5ms\tremaining: 1.42s\n",
      "56:\tlearn: 0.6055710\ttotal: 85ms\tremaining: 1.41s\n",
      "57:\tlearn: 0.5999888\ttotal: 85.4ms\tremaining: 1.39s\n",
      "58:\tlearn: 0.5959131\ttotal: 85.9ms\tremaining: 1.37s\n",
      "59:\tlearn: 0.5917957\ttotal: 86.4ms\tremaining: 1.35s\n",
      "60:\tlearn: 0.5870605\ttotal: 87ms\tremaining: 1.34s\n",
      "61:\tlearn: 0.5817617\ttotal: 87.4ms\tremaining: 1.32s\n",
      "62:\tlearn: 0.5764197\ttotal: 87.9ms\tremaining: 1.31s\n",
      "63:\tlearn: 0.5717229\ttotal: 88.3ms\tremaining: 1.29s\n",
      "64:\tlearn: 0.5672443\ttotal: 88.8ms\tremaining: 1.28s\n",
      "65:\tlearn: 0.5620629\ttotal: 89.3ms\tremaining: 1.26s\n",
      "66:\tlearn: 0.5576753\ttotal: 89.8ms\tremaining: 1.25s\n",
      "67:\tlearn: 0.5536364\ttotal: 90.4ms\tremaining: 1.24s\n",
      "68:\tlearn: 0.5491375\ttotal: 90.9ms\tremaining: 1.23s\n",
      "69:\tlearn: 0.5441035\ttotal: 91.4ms\tremaining: 1.21s\n",
      "70:\tlearn: 0.5395671\ttotal: 91.9ms\tremaining: 1.2s\n",
      "71:\tlearn: 0.5343725\ttotal: 92.4ms\tremaining: 1.19s\n",
      "72:\tlearn: 0.5298700\ttotal: 93ms\tremaining: 1.18s\n",
      "73:\tlearn: 0.5258572\ttotal: 93.4ms\tremaining: 1.17s\n",
      "74:\tlearn: 0.5217819\ttotal: 93.9ms\tremaining: 1.16s\n",
      "75:\tlearn: 0.5184457\ttotal: 94.3ms\tremaining: 1.15s\n",
      "76:\tlearn: 0.5145157\ttotal: 94.7ms\tremaining: 1.14s\n",
      "77:\tlearn: 0.5113255\ttotal: 95.3ms\tremaining: 1.13s\n",
      "78:\tlearn: 0.5070713\ttotal: 95.8ms\tremaining: 1.12s\n",
      "79:\tlearn: 0.5037155\ttotal: 96.4ms\tremaining: 1.11s\n",
      "80:\tlearn: 0.4994281\ttotal: 96.9ms\tremaining: 1.1s\n",
      "81:\tlearn: 0.4957133\ttotal: 97.6ms\tremaining: 1.09s\n",
      "82:\tlearn: 0.4921651\ttotal: 98.1ms\tremaining: 1.08s\n",
      "83:\tlearn: 0.4885794\ttotal: 98.6ms\tremaining: 1.07s\n",
      "84:\tlearn: 0.4845654\ttotal: 99ms\tremaining: 1.06s\n",
      "85:\tlearn: 0.4811784\ttotal: 99.6ms\tremaining: 1.06s\n",
      "86:\tlearn: 0.4778316\ttotal: 100ms\tremaining: 1.05s\n",
      "87:\tlearn: 0.4736016\ttotal: 101ms\tremaining: 1.04s\n",
      "88:\tlearn: 0.4706915\ttotal: 101ms\tremaining: 1.03s\n",
      "89:\tlearn: 0.4677256\ttotal: 102ms\tremaining: 1.03s\n",
      "90:\tlearn: 0.4633848\ttotal: 102ms\tremaining: 1.02s\n",
      "91:\tlearn: 0.4600304\ttotal: 102ms\tremaining: 1.01s\n",
      "92:\tlearn: 0.4563571\ttotal: 103ms\tremaining: 1s\n",
      "93:\tlearn: 0.4525346\ttotal: 103ms\tremaining: 997ms\n",
      "94:\tlearn: 0.4494994\ttotal: 104ms\tremaining: 991ms\n",
      "95:\tlearn: 0.4467713\ttotal: 105ms\tremaining: 985ms\n",
      "96:\tlearn: 0.4437211\ttotal: 105ms\tremaining: 978ms\n",
      "97:\tlearn: 0.4399624\ttotal: 105ms\tremaining: 971ms\n",
      "98:\tlearn: 0.4367652\ttotal: 106ms\tremaining: 965ms\n",
      "99:\tlearn: 0.4337617\ttotal: 106ms\tremaining: 958ms\n",
      "100:\tlearn: 0.4308826\ttotal: 107ms\tremaining: 952ms\n",
      "101:\tlearn: 0.4277302\ttotal: 107ms\tremaining: 946ms\n",
      "102:\tlearn: 0.4249452\ttotal: 108ms\tremaining: 939ms\n"
     ]
    },
    {
     "name": "stdout",
     "output_type": "stream",
     "text": [
      "103:\tlearn: 0.4222036\ttotal: 108ms\tremaining: 935ms\n",
      "104:\tlearn: 0.4195169\ttotal: 109ms\tremaining: 929ms\n",
      "105:\tlearn: 0.4159806\ttotal: 110ms\tremaining: 924ms\n",
      "106:\tlearn: 0.4123278\ttotal: 110ms\tremaining: 918ms\n",
      "107:\tlearn: 0.4093656\ttotal: 110ms\tremaining: 912ms\n",
      "108:\tlearn: 0.4066790\ttotal: 111ms\tremaining: 906ms\n",
      "109:\tlearn: 0.4037426\ttotal: 111ms\tremaining: 901ms\n",
      "110:\tlearn: 0.4009104\ttotal: 112ms\tremaining: 896ms\n",
      "111:\tlearn: 0.3983685\ttotal: 112ms\tremaining: 891ms\n",
      "112:\tlearn: 0.3953234\ttotal: 113ms\tremaining: 887ms\n",
      "113:\tlearn: 0.3923856\ttotal: 114ms\tremaining: 884ms\n",
      "114:\tlearn: 0.3897136\ttotal: 114ms\tremaining: 878ms\n",
      "115:\tlearn: 0.3860289\ttotal: 114ms\tremaining: 872ms\n",
      "116:\tlearn: 0.3832719\ttotal: 115ms\tremaining: 867ms\n",
      "117:\tlearn: 0.3807005\ttotal: 115ms\tremaining: 862ms\n",
      "118:\tlearn: 0.3787372\ttotal: 116ms\tremaining: 858ms\n",
      "119:\tlearn: 0.3767929\ttotal: 116ms\tremaining: 853ms\n",
      "120:\tlearn: 0.3741209\ttotal: 117ms\tremaining: 847ms\n",
      "121:\tlearn: 0.3716661\ttotal: 117ms\tremaining: 842ms\n",
      "122:\tlearn: 0.3690004\ttotal: 118ms\tremaining: 838ms\n",
      "123:\tlearn: 0.3664765\ttotal: 118ms\tremaining: 833ms\n",
      "124:\tlearn: 0.3644338\ttotal: 118ms\tremaining: 829ms\n",
      "125:\tlearn: 0.3624304\ttotal: 119ms\tremaining: 825ms\n",
      "126:\tlearn: 0.3597305\ttotal: 119ms\tremaining: 821ms\n",
      "127:\tlearn: 0.3565650\ttotal: 120ms\tremaining: 818ms\n",
      "128:\tlearn: 0.3542330\ttotal: 121ms\tremaining: 814ms\n",
      "129:\tlearn: 0.3520015\ttotal: 121ms\tremaining: 809ms\n",
      "130:\tlearn: 0.3499495\ttotal: 121ms\tremaining: 805ms\n",
      "131:\tlearn: 0.3477231\ttotal: 122ms\tremaining: 800ms\n",
      "132:\tlearn: 0.3453172\ttotal: 122ms\tremaining: 796ms\n",
      "133:\tlearn: 0.3427961\ttotal: 122ms\tremaining: 792ms\n",
      "134:\tlearn: 0.3412441\ttotal: 123ms\tremaining: 788ms\n",
      "135:\tlearn: 0.3388281\ttotal: 123ms\tremaining: 784ms\n",
      "136:\tlearn: 0.3366359\ttotal: 124ms\tremaining: 781ms\n",
      "137:\tlearn: 0.3348438\ttotal: 124ms\tremaining: 777ms\n",
      "138:\tlearn: 0.3327442\ttotal: 125ms\tremaining: 773ms\n",
      "139:\tlearn: 0.3308024\ttotal: 125ms\tremaining: 770ms\n",
      "140:\tlearn: 0.3289202\ttotal: 126ms\tremaining: 767ms\n",
      "141:\tlearn: 0.3263697\ttotal: 127ms\tremaining: 764ms\n",
      "142:\tlearn: 0.3249406\ttotal: 127ms\tremaining: 761ms\n",
      "143:\tlearn: 0.3227513\ttotal: 127ms\tremaining: 757ms\n",
      "144:\tlearn: 0.3201917\ttotal: 128ms\tremaining: 753ms\n",
      "145:\tlearn: 0.3180589\ttotal: 128ms\tremaining: 749ms\n",
      "146:\tlearn: 0.3158030\ttotal: 129ms\tremaining: 746ms\n",
      "147:\tlearn: 0.3139902\ttotal: 129ms\tremaining: 743ms\n",
      "148:\tlearn: 0.3117818\ttotal: 130ms\tremaining: 740ms\n",
      "149:\tlearn: 0.3099360\ttotal: 130ms\tremaining: 736ms\n",
      "150:\tlearn: 0.3078671\ttotal: 130ms\tremaining: 733ms\n",
      "151:\tlearn: 0.3059345\ttotal: 131ms\tremaining: 729ms\n",
      "152:\tlearn: 0.3046185\ttotal: 132ms\tremaining: 730ms\n",
      "153:\tlearn: 0.3027275\ttotal: 132ms\tremaining: 726ms\n",
      "154:\tlearn: 0.3007775\ttotal: 133ms\tremaining: 724ms\n",
      "155:\tlearn: 0.2989902\ttotal: 133ms\tremaining: 720ms\n",
      "156:\tlearn: 0.2968158\ttotal: 134ms\tremaining: 717ms\n",
      "157:\tlearn: 0.2947378\ttotal: 134ms\tremaining: 714ms\n",
      "158:\tlearn: 0.2929418\ttotal: 134ms\tremaining: 711ms\n",
      "159:\tlearn: 0.2912523\ttotal: 135ms\tremaining: 708ms\n",
      "160:\tlearn: 0.2895468\ttotal: 135ms\tremaining: 704ms\n",
      "161:\tlearn: 0.2875063\ttotal: 136ms\tremaining: 701ms\n",
      "162:\tlearn: 0.2852993\ttotal: 136ms\tremaining: 699ms\n",
      "163:\tlearn: 0.2833400\ttotal: 137ms\tremaining: 696ms\n",
      "164:\tlearn: 0.2817486\ttotal: 137ms\tremaining: 693ms\n",
      "165:\tlearn: 0.2802369\ttotal: 137ms\tremaining: 690ms\n",
      "166:\tlearn: 0.2781047\ttotal: 138ms\tremaining: 687ms\n",
      "167:\tlearn: 0.2765175\ttotal: 138ms\tremaining: 685ms\n",
      "168:\tlearn: 0.2747392\ttotal: 139ms\tremaining: 683ms\n",
      "169:\tlearn: 0.2729183\ttotal: 140ms\tremaining: 681ms\n",
      "170:\tlearn: 0.2710619\ttotal: 140ms\tremaining: 678ms\n",
      "171:\tlearn: 0.2692385\ttotal: 140ms\tremaining: 675ms\n",
      "172:\tlearn: 0.2675513\ttotal: 141ms\tremaining: 673ms\n",
      "173:\tlearn: 0.2657733\ttotal: 141ms\tremaining: 671ms\n",
      "174:\tlearn: 0.2641459\ttotal: 142ms\tremaining: 669ms\n",
      "175:\tlearn: 0.2619013\ttotal: 142ms\tremaining: 666ms\n",
      "176:\tlearn: 0.2601682\ttotal: 143ms\tremaining: 664ms\n",
      "177:\tlearn: 0.2580608\ttotal: 143ms\tremaining: 661ms\n",
      "178:\tlearn: 0.2560446\ttotal: 144ms\tremaining: 659ms\n",
      "179:\tlearn: 0.2545350\ttotal: 144ms\tremaining: 657ms\n",
      "180:\tlearn: 0.2531712\ttotal: 145ms\tremaining: 654ms\n",
      "181:\tlearn: 0.2517719\ttotal: 145ms\tremaining: 652ms\n",
      "182:\tlearn: 0.2501933\ttotal: 145ms\tremaining: 649ms\n",
      "183:\tlearn: 0.2487508\ttotal: 146ms\tremaining: 646ms\n",
      "184:\tlearn: 0.2469607\ttotal: 146ms\tremaining: 644ms\n",
      "185:\tlearn: 0.2452793\ttotal: 147ms\tremaining: 641ms\n",
      "186:\tlearn: 0.2432989\ttotal: 147ms\tremaining: 639ms\n",
      "187:\tlearn: 0.2414921\ttotal: 147ms\tremaining: 637ms\n",
      "188:\tlearn: 0.2395813\ttotal: 148ms\tremaining: 635ms\n",
      "189:\tlearn: 0.2378458\ttotal: 148ms\tremaining: 632ms\n",
      "190:\tlearn: 0.2361380\ttotal: 149ms\tremaining: 631ms\n",
      "191:\tlearn: 0.2345093\ttotal: 149ms\tremaining: 629ms\n",
      "192:\tlearn: 0.2328273\ttotal: 150ms\tremaining: 626ms\n",
      "193:\tlearn: 0.2312643\ttotal: 150ms\tremaining: 624ms\n",
      "194:\tlearn: 0.2296521\ttotal: 151ms\tremaining: 622ms\n",
      "195:\tlearn: 0.2280001\ttotal: 151ms\tremaining: 620ms\n",
      "196:\tlearn: 0.2263131\ttotal: 152ms\tremaining: 618ms\n",
      "197:\tlearn: 0.2243279\ttotal: 152ms\tremaining: 616ms\n",
      "198:\tlearn: 0.2228679\ttotal: 152ms\tremaining: 614ms\n",
      "199:\tlearn: 0.2216247\ttotal: 153ms\tremaining: 611ms\n",
      "200:\tlearn: 0.2197772\ttotal: 153ms\tremaining: 609ms\n",
      "201:\tlearn: 0.2183685\ttotal: 154ms\tremaining: 607ms\n",
      "202:\tlearn: 0.2168128\ttotal: 154ms\tremaining: 606ms\n",
      "203:\tlearn: 0.2152249\ttotal: 155ms\tremaining: 604ms\n",
      "204:\tlearn: 0.2139875\ttotal: 155ms\tremaining: 602ms\n",
      "205:\tlearn: 0.2126329\ttotal: 156ms\tremaining: 600ms\n",
      "206:\tlearn: 0.2111822\ttotal: 156ms\tremaining: 597ms\n",
      "207:\tlearn: 0.2095420\ttotal: 156ms\tremaining: 595ms\n",
      "208:\tlearn: 0.2078663\ttotal: 157ms\tremaining: 593ms\n",
      "209:\tlearn: 0.2061108\ttotal: 157ms\tremaining: 591ms\n",
      "210:\tlearn: 0.2047472\ttotal: 157ms\tremaining: 589ms\n",
      "211:\tlearn: 0.2031778\ttotal: 158ms\tremaining: 588ms\n",
      "212:\tlearn: 0.2018357\ttotal: 159ms\tremaining: 586ms\n",
      "213:\tlearn: 0.2001989\ttotal: 159ms\tremaining: 584ms\n",
      "214:\tlearn: 0.1986200\ttotal: 159ms\tremaining: 582ms\n",
      "215:\tlearn: 0.1971864\ttotal: 161ms\tremaining: 583ms\n",
      "216:\tlearn: 0.1957707\ttotal: 161ms\tremaining: 581ms\n",
      "217:\tlearn: 0.1945687\ttotal: 162ms\tremaining: 579ms\n",
      "218:\tlearn: 0.1933979\ttotal: 162ms\tremaining: 578ms\n",
      "219:\tlearn: 0.1919697\ttotal: 162ms\tremaining: 576ms\n",
      "220:\tlearn: 0.1906644\ttotal: 163ms\tremaining: 574ms\n",
      "221:\tlearn: 0.1895685\ttotal: 163ms\tremaining: 572ms\n",
      "222:\tlearn: 0.1879184\ttotal: 164ms\tremaining: 571ms\n",
      "223:\tlearn: 0.1869819\ttotal: 164ms\tremaining: 569ms\n",
      "224:\tlearn: 0.1858568\ttotal: 165ms\tremaining: 567ms\n",
      "225:\tlearn: 0.1847801\ttotal: 165ms\tremaining: 565ms\n",
      "226:\tlearn: 0.1834553\ttotal: 166ms\tremaining: 564ms\n",
      "227:\tlearn: 0.1822068\ttotal: 166ms\tremaining: 562ms\n",
      "228:\tlearn: 0.1808791\ttotal: 167ms\tremaining: 561ms\n",
      "229:\tlearn: 0.1794027\ttotal: 167ms\tremaining: 559ms\n",
      "230:\tlearn: 0.1780091\ttotal: 168ms\tremaining: 558ms\n",
      "231:\tlearn: 0.1769155\ttotal: 168ms\tremaining: 556ms\n",
      "232:\tlearn: 0.1756090\ttotal: 168ms\tremaining: 554ms\n",
      "233:\tlearn: 0.1743896\ttotal: 169ms\tremaining: 553ms\n",
      "234:\tlearn: 0.1732747\ttotal: 169ms\tremaining: 551ms\n",
      "235:\tlearn: 0.1721914\ttotal: 170ms\tremaining: 550ms\n",
      "236:\tlearn: 0.1709298\ttotal: 170ms\tremaining: 548ms\n",
      "237:\tlearn: 0.1696178\ttotal: 171ms\tremaining: 546ms\n",
      "238:\tlearn: 0.1685708\ttotal: 171ms\tremaining: 544ms\n",
      "239:\tlearn: 0.1676632\ttotal: 171ms\tremaining: 542ms\n",
      "240:\tlearn: 0.1665435\ttotal: 172ms\tremaining: 541ms\n",
      "241:\tlearn: 0.1653436\ttotal: 172ms\tremaining: 540ms\n",
      "242:\tlearn: 0.1639840\ttotal: 173ms\tremaining: 538ms\n",
      "243:\tlearn: 0.1627371\ttotal: 173ms\tremaining: 537ms\n",
      "244:\tlearn: 0.1617362\ttotal: 174ms\tremaining: 535ms\n",
      "245:\tlearn: 0.1605966\ttotal: 174ms\tremaining: 534ms\n",
      "246:\tlearn: 0.1596887\ttotal: 175ms\tremaining: 533ms\n",
      "247:\tlearn: 0.1585181\ttotal: 175ms\tremaining: 531ms\n",
      "248:\tlearn: 0.1577013\ttotal: 176ms\tremaining: 530ms\n",
      "249:\tlearn: 0.1566086\ttotal: 176ms\tremaining: 528ms\n",
      "250:\tlearn: 0.1554245\ttotal: 177ms\tremaining: 527ms\n",
      "251:\tlearn: 0.1544157\ttotal: 177ms\tremaining: 525ms\n",
      "252:\tlearn: 0.1534571\ttotal: 177ms\tremaining: 524ms\n",
      "253:\tlearn: 0.1527464\ttotal: 178ms\tremaining: 522ms\n",
      "254:\tlearn: 0.1515956\ttotal: 178ms\tremaining: 521ms\n",
      "255:\tlearn: 0.1506479\ttotal: 179ms\tremaining: 519ms\n",
      "256:\tlearn: 0.1498506\ttotal: 179ms\tremaining: 518ms\n",
      "257:\tlearn: 0.1489179\ttotal: 180ms\tremaining: 517ms\n",
      "258:\tlearn: 0.1481854\ttotal: 180ms\tremaining: 515ms\n",
      "259:\tlearn: 0.1473779\ttotal: 180ms\tremaining: 514ms\n",
      "260:\tlearn: 0.1462609\ttotal: 181ms\tremaining: 512ms\n",
      "261:\tlearn: 0.1452724\ttotal: 181ms\tremaining: 511ms\n",
      "262:\tlearn: 0.1441469\ttotal: 182ms\tremaining: 510ms\n",
      "263:\tlearn: 0.1433247\ttotal: 182ms\tremaining: 508ms\n",
      "264:\tlearn: 0.1422876\ttotal: 183ms\tremaining: 507ms\n",
      "265:\tlearn: 0.1411936\ttotal: 183ms\tremaining: 505ms\n",
      "266:\tlearn: 0.1401865\ttotal: 183ms\tremaining: 504ms\n",
      "267:\tlearn: 0.1391930\ttotal: 184ms\tremaining: 502ms\n",
      "268:\tlearn: 0.1382056\ttotal: 184ms\tremaining: 501ms\n",
      "269:\tlearn: 0.1371946\ttotal: 185ms\tremaining: 499ms\n",
      "270:\tlearn: 0.1361252\ttotal: 185ms\tremaining: 498ms\n",
      "271:\tlearn: 0.1353023\ttotal: 186ms\tremaining: 497ms\n",
      "272:\tlearn: 0.1345751\ttotal: 186ms\tremaining: 495ms\n",
      "273:\tlearn: 0.1337331\ttotal: 187ms\tremaining: 494ms\n"
     ]
    },
    {
     "name": "stdout",
     "output_type": "stream",
     "text": [
      "274:\tlearn: 0.1330633\ttotal: 187ms\tremaining: 493ms\n",
      "275:\tlearn: 0.1322969\ttotal: 188ms\tremaining: 493ms\n",
      "276:\tlearn: 0.1314494\ttotal: 188ms\tremaining: 492ms\n",
      "277:\tlearn: 0.1306073\ttotal: 189ms\tremaining: 490ms\n",
      "278:\tlearn: 0.1296885\ttotal: 189ms\tremaining: 489ms\n",
      "279:\tlearn: 0.1286934\ttotal: 190ms\tremaining: 487ms\n",
      "280:\tlearn: 0.1277818\ttotal: 190ms\tremaining: 486ms\n",
      "281:\tlearn: 0.1269810\ttotal: 190ms\tremaining: 485ms\n",
      "282:\tlearn: 0.1260800\ttotal: 191ms\tremaining: 483ms\n",
      "283:\tlearn: 0.1253851\ttotal: 191ms\tremaining: 482ms\n",
      "284:\tlearn: 0.1244657\ttotal: 192ms\tremaining: 481ms\n",
      "285:\tlearn: 0.1237625\ttotal: 192ms\tremaining: 480ms\n",
      "286:\tlearn: 0.1229894\ttotal: 193ms\tremaining: 479ms\n",
      "287:\tlearn: 0.1221895\ttotal: 193ms\tremaining: 477ms\n",
      "288:\tlearn: 0.1212800\ttotal: 194ms\tremaining: 476ms\n",
      "289:\tlearn: 0.1203609\ttotal: 194ms\tremaining: 475ms\n",
      "290:\tlearn: 0.1197230\ttotal: 194ms\tremaining: 474ms\n",
      "291:\tlearn: 0.1189854\ttotal: 195ms\tremaining: 472ms\n",
      "292:\tlearn: 0.1182129\ttotal: 195ms\tremaining: 472ms\n",
      "293:\tlearn: 0.1177443\ttotal: 196ms\tremaining: 471ms\n",
      "294:\tlearn: 0.1171440\ttotal: 197ms\tremaining: 470ms\n",
      "295:\tlearn: 0.1166015\ttotal: 197ms\tremaining: 469ms\n",
      "296:\tlearn: 0.1160227\ttotal: 198ms\tremaining: 468ms\n",
      "297:\tlearn: 0.1151875\ttotal: 198ms\tremaining: 467ms\n",
      "298:\tlearn: 0.1145459\ttotal: 199ms\tremaining: 466ms\n",
      "299:\tlearn: 0.1137444\ttotal: 199ms\tremaining: 464ms\n",
      "300:\tlearn: 0.1132329\ttotal: 199ms\tremaining: 463ms\n",
      "301:\tlearn: 0.1124451\ttotal: 200ms\tremaining: 462ms\n",
      "302:\tlearn: 0.1118854\ttotal: 201ms\tremaining: 461ms\n",
      "303:\tlearn: 0.1113039\ttotal: 201ms\tremaining: 460ms\n",
      "304:\tlearn: 0.1105019\ttotal: 201ms\tremaining: 459ms\n",
      "305:\tlearn: 0.1096916\ttotal: 202ms\tremaining: 458ms\n",
      "306:\tlearn: 0.1089340\ttotal: 202ms\tremaining: 456ms\n",
      "307:\tlearn: 0.1081555\ttotal: 203ms\tremaining: 455ms\n",
      "308:\tlearn: 0.1074145\ttotal: 203ms\tremaining: 454ms\n",
      "309:\tlearn: 0.1066095\ttotal: 203ms\tremaining: 453ms\n",
      "310:\tlearn: 0.1058799\ttotal: 204ms\tremaining: 452ms\n",
      "311:\tlearn: 0.1053028\ttotal: 204ms\tremaining: 451ms\n",
      "312:\tlearn: 0.1045832\ttotal: 205ms\tremaining: 450ms\n",
      "313:\tlearn: 0.1038478\ttotal: 205ms\tremaining: 449ms\n",
      "314:\tlearn: 0.1030722\ttotal: 206ms\tremaining: 448ms\n",
      "315:\tlearn: 0.1025020\ttotal: 206ms\tremaining: 447ms\n",
      "316:\tlearn: 0.1018147\ttotal: 207ms\tremaining: 446ms\n",
      "317:\tlearn: 0.1012502\ttotal: 208ms\tremaining: 445ms\n",
      "318:\tlearn: 0.1006005\ttotal: 208ms\tremaining: 444ms\n",
      "319:\tlearn: 0.0999149\ttotal: 208ms\tremaining: 443ms\n",
      "320:\tlearn: 0.0994608\ttotal: 209ms\tremaining: 442ms\n",
      "321:\tlearn: 0.0989636\ttotal: 209ms\tremaining: 441ms\n",
      "322:\tlearn: 0.0984247\ttotal: 210ms\tremaining: 440ms\n",
      "323:\tlearn: 0.0977248\ttotal: 210ms\tremaining: 439ms\n",
      "324:\tlearn: 0.0971934\ttotal: 211ms\tremaining: 438ms\n",
      "325:\tlearn: 0.0966629\ttotal: 211ms\tremaining: 437ms\n",
      "326:\tlearn: 0.0961684\ttotal: 212ms\tremaining: 436ms\n",
      "327:\tlearn: 0.0954955\ttotal: 212ms\tremaining: 435ms\n",
      "328:\tlearn: 0.0948344\ttotal: 213ms\tremaining: 434ms\n",
      "329:\tlearn: 0.0943372\ttotal: 213ms\tremaining: 433ms\n",
      "330:\tlearn: 0.0937221\ttotal: 214ms\tremaining: 433ms\n",
      "331:\tlearn: 0.0932438\ttotal: 215ms\tremaining: 432ms\n",
      "332:\tlearn: 0.0927768\ttotal: 215ms\tremaining: 431ms\n",
      "333:\tlearn: 0.0922024\ttotal: 216ms\tremaining: 430ms\n",
      "334:\tlearn: 0.0917520\ttotal: 216ms\tremaining: 429ms\n",
      "335:\tlearn: 0.0911273\ttotal: 217ms\tremaining: 428ms\n",
      "336:\tlearn: 0.0905159\ttotal: 217ms\tremaining: 427ms\n",
      "337:\tlearn: 0.0898826\ttotal: 218ms\tremaining: 426ms\n",
      "338:\tlearn: 0.0894294\ttotal: 218ms\tremaining: 425ms\n",
      "339:\tlearn: 0.0887782\ttotal: 219ms\tremaining: 424ms\n",
      "340:\tlearn: 0.0881194\ttotal: 219ms\tremaining: 423ms\n",
      "341:\tlearn: 0.0874688\ttotal: 219ms\tremaining: 422ms\n",
      "342:\tlearn: 0.0868136\ttotal: 220ms\tremaining: 421ms\n",
      "343:\tlearn: 0.0861989\ttotal: 220ms\tremaining: 420ms\n",
      "344:\tlearn: 0.0855803\ttotal: 221ms\tremaining: 419ms\n",
      "345:\tlearn: 0.0850011\ttotal: 221ms\tremaining: 419ms\n",
      "346:\tlearn: 0.0843966\ttotal: 222ms\tremaining: 418ms\n",
      "347:\tlearn: 0.0838364\ttotal: 222ms\tremaining: 417ms\n",
      "348:\tlearn: 0.0832892\ttotal: 223ms\tremaining: 416ms\n",
      "349:\tlearn: 0.0827196\ttotal: 224ms\tremaining: 415ms\n",
      "350:\tlearn: 0.0821352\ttotal: 224ms\tremaining: 414ms\n",
      "351:\tlearn: 0.0815553\ttotal: 224ms\tremaining: 413ms\n",
      "352:\tlearn: 0.0809987\ttotal: 225ms\tremaining: 412ms\n",
      "353:\tlearn: 0.0804609\ttotal: 226ms\tremaining: 412ms\n",
      "354:\tlearn: 0.0799517\ttotal: 226ms\tremaining: 411ms\n",
      "355:\tlearn: 0.0795412\ttotal: 227ms\tremaining: 410ms\n",
      "356:\tlearn: 0.0789966\ttotal: 227ms\tremaining: 409ms\n",
      "357:\tlearn: 0.0785747\ttotal: 228ms\tremaining: 409ms\n",
      "358:\tlearn: 0.0780671\ttotal: 228ms\tremaining: 408ms\n",
      "359:\tlearn: 0.0775547\ttotal: 229ms\tremaining: 407ms\n",
      "360:\tlearn: 0.0770121\ttotal: 229ms\tremaining: 406ms\n",
      "361:\tlearn: 0.0765392\ttotal: 230ms\tremaining: 405ms\n",
      "362:\tlearn: 0.0761052\ttotal: 230ms\tremaining: 404ms\n",
      "363:\tlearn: 0.0757714\ttotal: 231ms\tremaining: 403ms\n",
      "364:\tlearn: 0.0752965\ttotal: 231ms\tremaining: 402ms\n",
      "365:\tlearn: 0.0748801\ttotal: 231ms\tremaining: 401ms\n",
      "366:\tlearn: 0.0745692\ttotal: 232ms\tremaining: 400ms\n",
      "367:\tlearn: 0.0740579\ttotal: 233ms\tremaining: 399ms\n",
      "368:\tlearn: 0.0736576\ttotal: 233ms\tremaining: 399ms\n",
      "369:\tlearn: 0.0732025\ttotal: 234ms\tremaining: 398ms\n",
      "370:\tlearn: 0.0727075\ttotal: 234ms\tremaining: 397ms\n",
      "371:\tlearn: 0.0723312\ttotal: 235ms\tremaining: 396ms\n",
      "372:\tlearn: 0.0718800\ttotal: 235ms\tremaining: 395ms\n",
      "373:\tlearn: 0.0715861\ttotal: 235ms\tremaining: 394ms\n",
      "374:\tlearn: 0.0711343\ttotal: 236ms\tremaining: 393ms\n",
      "375:\tlearn: 0.0706640\ttotal: 236ms\tremaining: 392ms\n",
      "376:\tlearn: 0.0703712\ttotal: 237ms\tremaining: 391ms\n",
      "377:\tlearn: 0.0699388\ttotal: 237ms\tremaining: 390ms\n",
      "378:\tlearn: 0.0695776\ttotal: 238ms\tremaining: 389ms\n",
      "379:\tlearn: 0.0692270\ttotal: 238ms\tremaining: 388ms\n",
      "380:\tlearn: 0.0688203\ttotal: 238ms\tremaining: 387ms\n",
      "381:\tlearn: 0.0684271\ttotal: 239ms\tremaining: 386ms\n",
      "382:\tlearn: 0.0680194\ttotal: 240ms\tremaining: 386ms\n",
      "383:\tlearn: 0.0677440\ttotal: 240ms\tremaining: 385ms\n",
      "384:\tlearn: 0.0672840\ttotal: 240ms\tremaining: 384ms\n",
      "385:\tlearn: 0.0668459\ttotal: 241ms\tremaining: 383ms\n",
      "386:\tlearn: 0.0665784\ttotal: 241ms\tremaining: 382ms\n",
      "387:\tlearn: 0.0661004\ttotal: 242ms\tremaining: 381ms\n",
      "388:\tlearn: 0.0657060\ttotal: 242ms\tremaining: 380ms\n",
      "389:\tlearn: 0.0654469\ttotal: 242ms\tremaining: 379ms\n",
      "390:\tlearn: 0.0650014\ttotal: 243ms\tremaining: 378ms\n",
      "391:\tlearn: 0.0646802\ttotal: 243ms\tremaining: 377ms\n",
      "392:\tlearn: 0.0643661\ttotal: 244ms\tremaining: 376ms\n",
      "393:\tlearn: 0.0639340\ttotal: 244ms\tremaining: 375ms\n",
      "394:\tlearn: 0.0635582\ttotal: 244ms\tremaining: 374ms\n",
      "395:\tlearn: 0.0631909\ttotal: 245ms\tremaining: 374ms\n",
      "396:\tlearn: 0.0628096\ttotal: 245ms\tremaining: 373ms\n",
      "397:\tlearn: 0.0624444\ttotal: 246ms\tremaining: 372ms\n",
      "398:\tlearn: 0.0620329\ttotal: 246ms\tremaining: 371ms\n",
      "399:\tlearn: 0.0616564\ttotal: 247ms\tremaining: 370ms\n",
      "400:\tlearn: 0.0612985\ttotal: 247ms\tremaining: 369ms\n",
      "401:\tlearn: 0.0610649\ttotal: 248ms\tremaining: 369ms\n",
      "402:\tlearn: 0.0606962\ttotal: 248ms\tremaining: 368ms\n",
      "403:\tlearn: 0.0603715\ttotal: 249ms\tremaining: 367ms\n",
      "404:\tlearn: 0.0600312\ttotal: 249ms\tremaining: 366ms\n",
      "405:\tlearn: 0.0597229\ttotal: 250ms\tremaining: 365ms\n",
      "406:\tlearn: 0.0593939\ttotal: 250ms\tremaining: 364ms\n",
      "407:\tlearn: 0.0590416\ttotal: 251ms\tremaining: 364ms\n",
      "408:\tlearn: 0.0587255\ttotal: 251ms\tremaining: 363ms\n",
      "409:\tlearn: 0.0584517\ttotal: 252ms\tremaining: 362ms\n",
      "410:\tlearn: 0.0581538\ttotal: 252ms\tremaining: 361ms\n",
      "411:\tlearn: 0.0578372\ttotal: 252ms\tremaining: 360ms\n",
      "412:\tlearn: 0.0576229\ttotal: 253ms\tremaining: 359ms\n",
      "413:\tlearn: 0.0572149\ttotal: 253ms\tremaining: 358ms\n",
      "414:\tlearn: 0.0568977\ttotal: 254ms\tremaining: 358ms\n",
      "415:\tlearn: 0.0566403\ttotal: 254ms\tremaining: 357ms\n",
      "416:\tlearn: 0.0563598\ttotal: 255ms\tremaining: 356ms\n",
      "417:\tlearn: 0.0560682\ttotal: 255ms\tremaining: 355ms\n",
      "418:\tlearn: 0.0558187\ttotal: 255ms\tremaining: 354ms\n",
      "419:\tlearn: 0.0556196\ttotal: 256ms\tremaining: 353ms\n",
      "420:\tlearn: 0.0553252\ttotal: 256ms\tremaining: 352ms\n",
      "421:\tlearn: 0.0550217\ttotal: 257ms\tremaining: 352ms\n",
      "422:\tlearn: 0.0547536\ttotal: 257ms\tremaining: 351ms\n",
      "423:\tlearn: 0.0544921\ttotal: 258ms\tremaining: 350ms\n",
      "424:\tlearn: 0.0542247\ttotal: 258ms\tremaining: 349ms\n",
      "425:\tlearn: 0.0540352\ttotal: 259ms\tremaining: 348ms\n",
      "426:\tlearn: 0.0537257\ttotal: 259ms\tremaining: 348ms\n",
      "427:\tlearn: 0.0534720\ttotal: 260ms\tremaining: 347ms\n",
      "428:\tlearn: 0.0531707\ttotal: 260ms\tremaining: 346ms\n",
      "429:\tlearn: 0.0529177\ttotal: 261ms\tremaining: 345ms\n",
      "430:\tlearn: 0.0526660\ttotal: 261ms\tremaining: 345ms\n",
      "431:\tlearn: 0.0524207\ttotal: 261ms\tremaining: 344ms\n",
      "432:\tlearn: 0.0520857\ttotal: 262ms\tremaining: 343ms\n",
      "433:\tlearn: 0.0517088\ttotal: 262ms\tremaining: 342ms\n",
      "434:\tlearn: 0.0513956\ttotal: 263ms\tremaining: 341ms\n",
      "435:\tlearn: 0.0510886\ttotal: 263ms\tremaining: 340ms\n",
      "436:\tlearn: 0.0508729\ttotal: 263ms\tremaining: 339ms\n",
      "437:\tlearn: 0.0506626\ttotal: 264ms\tremaining: 338ms\n",
      "438:\tlearn: 0.0504407\ttotal: 264ms\tremaining: 338ms\n",
      "439:\tlearn: 0.0502509\ttotal: 264ms\tremaining: 337ms\n",
      "440:\tlearn: 0.0500069\ttotal: 265ms\tremaining: 336ms\n",
      "441:\tlearn: 0.0498062\ttotal: 265ms\tremaining: 335ms\n",
      "442:\tlearn: 0.0495938\ttotal: 266ms\tremaining: 334ms\n",
      "443:\tlearn: 0.0493111\ttotal: 266ms\tremaining: 334ms\n",
      "444:\tlearn: 0.0490743\ttotal: 267ms\tremaining: 333ms\n",
      "445:\tlearn: 0.0488971\ttotal: 267ms\tremaining: 332ms\n",
      "446:\tlearn: 0.0486255\ttotal: 268ms\tremaining: 331ms\n",
      "447:\tlearn: 0.0483969\ttotal: 268ms\tremaining: 331ms\n",
      "448:\tlearn: 0.0482325\ttotal: 269ms\tremaining: 330ms\n",
      "449:\tlearn: 0.0480092\ttotal: 269ms\tremaining: 329ms\n",
      "450:\tlearn: 0.0477379\ttotal: 270ms\tremaining: 328ms\n",
      "451:\tlearn: 0.0474141\ttotal: 270ms\tremaining: 328ms\n",
      "452:\tlearn: 0.0472487\ttotal: 271ms\tremaining: 327ms\n",
      "453:\tlearn: 0.0469317\ttotal: 271ms\tremaining: 326ms\n",
      "454:\tlearn: 0.0466780\ttotal: 272ms\tremaining: 325ms\n",
      "455:\tlearn: 0.0464895\ttotal: 272ms\tremaining: 325ms\n",
      "456:\tlearn: 0.0461908\ttotal: 272ms\tremaining: 324ms\n",
      "457:\tlearn: 0.0460063\ttotal: 273ms\tremaining: 323ms\n",
      "458:\tlearn: 0.0457538\ttotal: 273ms\tremaining: 322ms\n",
      "459:\tlearn: 0.0454514\ttotal: 274ms\tremaining: 321ms\n",
      "460:\tlearn: 0.0452132\ttotal: 274ms\tremaining: 321ms\n",
      "461:\tlearn: 0.0449176\ttotal: 275ms\tremaining: 320ms\n",
      "462:\tlearn: 0.0446874\ttotal: 275ms\tremaining: 319ms\n",
      "463:\tlearn: 0.0444481\ttotal: 275ms\tremaining: 318ms\n",
      "464:\tlearn: 0.0442432\ttotal: 276ms\tremaining: 317ms\n",
      "465:\tlearn: 0.0440672\ttotal: 277ms\tremaining: 317ms\n",
      "466:\tlearn: 0.0438636\ttotal: 277ms\tremaining: 316ms\n",
      "467:\tlearn: 0.0436662\ttotal: 278ms\tremaining: 315ms\n",
      "468:\tlearn: 0.0434729\ttotal: 278ms\tremaining: 315ms\n",
      "469:\tlearn: 0.0432446\ttotal: 278ms\tremaining: 314ms\n",
      "470:\tlearn: 0.0430574\ttotal: 279ms\tremaining: 313ms\n",
      "471:\tlearn: 0.0428901\ttotal: 279ms\tremaining: 313ms\n",
      "472:\tlearn: 0.0427695\ttotal: 280ms\tremaining: 312ms\n",
      "473:\tlearn: 0.0426511\ttotal: 280ms\tremaining: 311ms\n",
      "474:\tlearn: 0.0424305\ttotal: 281ms\tremaining: 310ms\n",
      "475:\tlearn: 0.0423139\ttotal: 281ms\tremaining: 310ms\n",
      "476:\tlearn: 0.0421942\ttotal: 282ms\tremaining: 309ms\n",
      "477:\tlearn: 0.0419770\ttotal: 282ms\tremaining: 308ms\n",
      "478:\tlearn: 0.0418601\ttotal: 283ms\tremaining: 308ms\n",
      "479:\tlearn: 0.0417309\ttotal: 283ms\tremaining: 307ms\n",
      "480:\tlearn: 0.0415717\ttotal: 284ms\tremaining: 306ms\n",
      "481:\tlearn: 0.0414625\ttotal: 284ms\tremaining: 305ms\n",
      "482:\tlearn: 0.0412752\ttotal: 285ms\tremaining: 305ms\n",
      "483:\tlearn: 0.0411687\ttotal: 285ms\tremaining: 304ms\n",
      "484:\tlearn: 0.0410641\ttotal: 286ms\tremaining: 303ms\n",
      "485:\tlearn: 0.0408892\ttotal: 286ms\tremaining: 303ms\n",
      "486:\tlearn: 0.0407684\ttotal: 287ms\tremaining: 302ms\n",
      "487:\tlearn: 0.0405972\ttotal: 287ms\tremaining: 301ms\n",
      "488:\tlearn: 0.0404293\ttotal: 288ms\tremaining: 301ms\n",
      "489:\tlearn: 0.0402560\ttotal: 288ms\tremaining: 300ms\n",
      "490:\tlearn: 0.0401555\ttotal: 289ms\tremaining: 299ms\n",
      "491:\tlearn: 0.0399918\ttotal: 289ms\tremaining: 299ms\n",
      "492:\tlearn: 0.0398933\ttotal: 290ms\tremaining: 298ms\n",
      "493:\tlearn: 0.0397330\ttotal: 290ms\tremaining: 297ms\n",
      "494:\tlearn: 0.0396363\ttotal: 290ms\tremaining: 296ms\n",
      "495:\tlearn: 0.0394793\ttotal: 291ms\tremaining: 296ms\n"
     ]
    },
    {
     "name": "stdout",
     "output_type": "stream",
     "text": [
      "496:\tlearn: 0.0393502\ttotal: 292ms\tremaining: 295ms\n",
      "497:\tlearn: 0.0391328\ttotal: 292ms\tremaining: 294ms\n",
      "498:\tlearn: 0.0389807\ttotal: 293ms\tremaining: 294ms\n",
      "499:\tlearn: 0.0387691\ttotal: 293ms\tremaining: 293ms\n",
      "500:\tlearn: 0.0385217\ttotal: 294ms\tremaining: 292ms\n",
      "501:\tlearn: 0.0383160\ttotal: 294ms\tremaining: 292ms\n",
      "502:\tlearn: 0.0381351\ttotal: 294ms\tremaining: 291ms\n",
      "503:\tlearn: 0.0378970\ttotal: 295ms\tremaining: 290ms\n",
      "504:\tlearn: 0.0377307\ttotal: 295ms\tremaining: 289ms\n",
      "505:\tlearn: 0.0375577\ttotal: 296ms\tremaining: 289ms\n",
      "506:\tlearn: 0.0373952\ttotal: 296ms\tremaining: 288ms\n",
      "507:\tlearn: 0.0371667\ttotal: 297ms\tremaining: 287ms\n",
      "508:\tlearn: 0.0369851\ttotal: 297ms\tremaining: 287ms\n",
      "509:\tlearn: 0.0368276\ttotal: 298ms\tremaining: 286ms\n",
      "510:\tlearn: 0.0366644\ttotal: 298ms\tremaining: 285ms\n",
      "511:\tlearn: 0.0365101\ttotal: 299ms\tremaining: 285ms\n",
      "512:\tlearn: 0.0363566\ttotal: 299ms\tremaining: 284ms\n",
      "513:\tlearn: 0.0362061\ttotal: 299ms\tremaining: 283ms\n",
      "514:\tlearn: 0.0359899\ttotal: 300ms\tremaining: 282ms\n",
      "515:\tlearn: 0.0358428\ttotal: 301ms\tremaining: 282ms\n",
      "516:\tlearn: 0.0356631\ttotal: 301ms\tremaining: 281ms\n",
      "517:\tlearn: 0.0355187\ttotal: 302ms\tremaining: 281ms\n",
      "518:\tlearn: 0.0353767\ttotal: 302ms\tremaining: 280ms\n",
      "519:\tlearn: 0.0351689\ttotal: 303ms\tremaining: 279ms\n",
      "520:\tlearn: 0.0350301\ttotal: 303ms\tremaining: 279ms\n",
      "521:\tlearn: 0.0348751\ttotal: 304ms\tremaining: 278ms\n",
      "522:\tlearn: 0.0347390\ttotal: 304ms\tremaining: 278ms\n",
      "523:\tlearn: 0.0346050\ttotal: 305ms\tremaining: 277ms\n",
      "524:\tlearn: 0.0343909\ttotal: 305ms\tremaining: 276ms\n",
      "525:\tlearn: 0.0342599\ttotal: 306ms\tremaining: 275ms\n",
      "526:\tlearn: 0.0340512\ttotal: 306ms\tremaining: 275ms\n",
      "527:\tlearn: 0.0339232\ttotal: 307ms\tremaining: 274ms\n",
      "528:\tlearn: 0.0337972\ttotal: 307ms\tremaining: 273ms\n",
      "529:\tlearn: 0.0336071\ttotal: 308ms\tremaining: 273ms\n",
      "530:\tlearn: 0.0334834\ttotal: 308ms\tremaining: 272ms\n",
      "531:\tlearn: 0.0333909\ttotal: 309ms\tremaining: 271ms\n",
      "532:\tlearn: 0.0333247\ttotal: 309ms\tremaining: 271ms\n",
      "533:\tlearn: 0.0332005\ttotal: 310ms\tremaining: 270ms\n",
      "534:\tlearn: 0.0331108\ttotal: 310ms\tremaining: 270ms\n",
      "535:\tlearn: 0.0329598\ttotal: 311ms\tremaining: 269ms\n",
      "536:\tlearn: 0.0328068\ttotal: 311ms\tremaining: 268ms\n",
      "537:\tlearn: 0.0326568\ttotal: 312ms\tremaining: 268ms\n",
      "538:\tlearn: 0.0325942\ttotal: 312ms\tremaining: 267ms\n",
      "539:\tlearn: 0.0325083\ttotal: 313ms\tremaining: 266ms\n",
      "540:\tlearn: 0.0323649\ttotal: 313ms\tremaining: 266ms\n",
      "541:\tlearn: 0.0322809\ttotal: 313ms\tremaining: 265ms\n",
      "542:\tlearn: 0.0322183\ttotal: 314ms\tremaining: 264ms\n",
      "543:\tlearn: 0.0321569\ttotal: 314ms\tremaining: 263ms\n",
      "544:\tlearn: 0.0319666\ttotal: 315ms\tremaining: 263ms\n",
      "545:\tlearn: 0.0318377\ttotal: 315ms\tremaining: 262ms\n",
      "546:\tlearn: 0.0316587\ttotal: 316ms\tremaining: 261ms\n",
      "547:\tlearn: 0.0314830\ttotal: 316ms\tremaining: 261ms\n",
      "548:\tlearn: 0.0313369\ttotal: 317ms\tremaining: 260ms\n",
      "549:\tlearn: 0.0312205\ttotal: 317ms\tremaining: 260ms\n",
      "550:\tlearn: 0.0311069\ttotal: 318ms\tremaining: 259ms\n",
      "551:\tlearn: 0.0309388\ttotal: 318ms\tremaining: 258ms\n",
      "552:\tlearn: 0.0308284\ttotal: 319ms\tremaining: 258ms\n",
      "553:\tlearn: 0.0306581\ttotal: 319ms\tremaining: 257ms\n",
      "554:\tlearn: 0.0305370\ttotal: 320ms\tremaining: 256ms\n",
      "555:\tlearn: 0.0303745\ttotal: 320ms\tremaining: 256ms\n",
      "556:\tlearn: 0.0301943\ttotal: 320ms\tremaining: 255ms\n",
      "557:\tlearn: 0.0301151\ttotal: 321ms\tremaining: 254ms\n",
      "558:\tlearn: 0.0300630\ttotal: 321ms\tremaining: 253ms\n",
      "559:\tlearn: 0.0300033\ttotal: 322ms\tremaining: 253ms\n",
      "560:\tlearn: 0.0298809\ttotal: 322ms\tremaining: 252ms\n",
      "561:\tlearn: 0.0297781\ttotal: 322ms\tremaining: 251ms\n",
      "562:\tlearn: 0.0297121\ttotal: 323ms\tremaining: 251ms\n",
      "563:\tlearn: 0.0295566\ttotal: 323ms\tremaining: 250ms\n",
      "564:\tlearn: 0.0294380\ttotal: 324ms\tremaining: 249ms\n",
      "565:\tlearn: 0.0293219\ttotal: 324ms\tremaining: 249ms\n",
      "566:\tlearn: 0.0292581\ttotal: 325ms\tremaining: 248ms\n",
      "567:\tlearn: 0.0291594\ttotal: 325ms\tremaining: 247ms\n",
      "568:\tlearn: 0.0290462\ttotal: 326ms\tremaining: 247ms\n",
      "569:\tlearn: 0.0289937\ttotal: 326ms\tremaining: 246ms\n",
      "570:\tlearn: 0.0288586\ttotal: 327ms\tremaining: 246ms\n",
      "571:\tlearn: 0.0287038\ttotal: 327ms\tremaining: 245ms\n",
      "572:\tlearn: 0.0286438\ttotal: 328ms\tremaining: 244ms\n",
      "573:\tlearn: 0.0285123\ttotal: 328ms\tremaining: 243ms\n",
      "574:\tlearn: 0.0283670\ttotal: 329ms\tremaining: 243ms\n",
      "575:\tlearn: 0.0282060\ttotal: 329ms\tremaining: 242ms\n",
      "576:\tlearn: 0.0281142\ttotal: 329ms\tremaining: 241ms\n",
      "577:\tlearn: 0.0279663\ttotal: 330ms\tremaining: 241ms\n",
      "578:\tlearn: 0.0278412\ttotal: 330ms\tremaining: 240ms\n",
      "579:\tlearn: 0.0277198\ttotal: 331ms\tremaining: 239ms\n",
      "580:\tlearn: 0.0276747\ttotal: 331ms\tremaining: 239ms\n",
      "581:\tlearn: 0.0275557\ttotal: 331ms\tremaining: 238ms\n",
      "582:\tlearn: 0.0274603\ttotal: 332ms\tremaining: 237ms\n",
      "583:\tlearn: 0.0273674\ttotal: 332ms\tremaining: 237ms\n",
      "584:\tlearn: 0.0272076\ttotal: 333ms\tremaining: 236ms\n",
      "585:\tlearn: 0.0271678\ttotal: 333ms\tremaining: 235ms\n",
      "586:\tlearn: 0.0271284\ttotal: 333ms\tremaining: 235ms\n",
      "587:\tlearn: 0.0270348\ttotal: 334ms\tremaining: 234ms\n",
      "588:\tlearn: 0.0268651\ttotal: 334ms\tremaining: 233ms\n",
      "589:\tlearn: 0.0267103\ttotal: 335ms\tremaining: 233ms\n",
      "590:\tlearn: 0.0266215\ttotal: 335ms\tremaining: 232ms\n",
      "591:\tlearn: 0.0265314\ttotal: 336ms\tremaining: 231ms\n",
      "592:\tlearn: 0.0263803\ttotal: 336ms\tremaining: 231ms\n",
      "593:\tlearn: 0.0263385\ttotal: 337ms\tremaining: 230ms\n",
      "594:\tlearn: 0.0262573\ttotal: 337ms\tremaining: 229ms\n",
      "595:\tlearn: 0.0260952\ttotal: 338ms\tremaining: 229ms\n",
      "596:\tlearn: 0.0260450\ttotal: 338ms\tremaining: 228ms\n",
      "597:\tlearn: 0.0259477\ttotal: 338ms\tremaining: 227ms\n",
      "598:\tlearn: 0.0258690\ttotal: 339ms\tremaining: 227ms\n",
      "599:\tlearn: 0.0257116\ttotal: 339ms\tremaining: 226ms\n",
      "600:\tlearn: 0.0256636\ttotal: 340ms\tremaining: 226ms\n",
      "601:\tlearn: 0.0254907\ttotal: 340ms\tremaining: 225ms\n",
      "602:\tlearn: 0.0254439\ttotal: 341ms\tremaining: 225ms\n",
      "603:\tlearn: 0.0254056\ttotal: 341ms\tremaining: 224ms\n",
      "604:\tlearn: 0.0252542\ttotal: 342ms\tremaining: 223ms\n",
      "605:\tlearn: 0.0251423\ttotal: 343ms\tremaining: 223ms\n",
      "606:\tlearn: 0.0250020\ttotal: 343ms\tremaining: 222ms\n",
      "607:\tlearn: 0.0248552\ttotal: 344ms\tremaining: 221ms\n",
      "608:\tlearn: 0.0248108\ttotal: 344ms\tremaining: 221ms\n",
      "609:\tlearn: 0.0247056\ttotal: 344ms\tremaining: 220ms\n",
      "610:\tlearn: 0.0245846\ttotal: 345ms\tremaining: 220ms\n",
      "611:\tlearn: 0.0244234\ttotal: 345ms\tremaining: 219ms\n",
      "612:\tlearn: 0.0243947\ttotal: 346ms\tremaining: 218ms\n",
      "613:\tlearn: 0.0242934\ttotal: 346ms\tremaining: 218ms\n",
      "614:\tlearn: 0.0241460\ttotal: 347ms\tremaining: 217ms\n",
      "615:\tlearn: 0.0241109\ttotal: 347ms\tremaining: 217ms\n",
      "616:\tlearn: 0.0240829\ttotal: 348ms\tremaining: 216ms\n",
      "617:\tlearn: 0.0239385\ttotal: 348ms\tremaining: 215ms\n",
      "618:\tlearn: 0.0238592\ttotal: 349ms\tremaining: 215ms\n",
      "619:\tlearn: 0.0237923\ttotal: 349ms\tremaining: 214ms\n",
      "620:\tlearn: 0.0236771\ttotal: 350ms\tremaining: 214ms\n",
      "621:\tlearn: 0.0235640\ttotal: 350ms\tremaining: 213ms\n",
      "622:\tlearn: 0.0234898\ttotal: 351ms\tremaining: 212ms\n",
      "623:\tlearn: 0.0234126\ttotal: 351ms\tremaining: 212ms\n",
      "624:\tlearn: 0.0233663\ttotal: 352ms\tremaining: 211ms\n",
      "625:\tlearn: 0.0233020\ttotal: 352ms\tremaining: 210ms\n",
      "626:\tlearn: 0.0232751\ttotal: 353ms\tremaining: 210ms\n",
      "627:\tlearn: 0.0232486\ttotal: 353ms\tremaining: 209ms\n",
      "628:\tlearn: 0.0230978\ttotal: 354ms\tremaining: 209ms\n",
      "629:\tlearn: 0.0230469\ttotal: 354ms\tremaining: 208ms\n",
      "630:\tlearn: 0.0229815\ttotal: 355ms\tremaining: 207ms\n",
      "631:\tlearn: 0.0228887\ttotal: 355ms\tremaining: 207ms\n",
      "632:\tlearn: 0.0228630\ttotal: 356ms\tremaining: 206ms\n",
      "633:\tlearn: 0.0228377\ttotal: 356ms\tremaining: 206ms\n",
      "634:\tlearn: 0.0227558\ttotal: 357ms\tremaining: 205ms\n",
      "635:\tlearn: 0.0227166\ttotal: 357ms\tremaining: 204ms\n",
      "636:\tlearn: 0.0226520\ttotal: 357ms\tremaining: 204ms\n",
      "637:\tlearn: 0.0226080\ttotal: 358ms\tremaining: 203ms\n",
      "638:\tlearn: 0.0225645\ttotal: 359ms\tremaining: 203ms\n",
      "639:\tlearn: 0.0224754\ttotal: 359ms\tremaining: 202ms\n",
      "640:\tlearn: 0.0224254\ttotal: 360ms\tremaining: 201ms\n",
      "641:\tlearn: 0.0223877\ttotal: 360ms\tremaining: 201ms\n",
      "642:\tlearn: 0.0223092\ttotal: 360ms\tremaining: 200ms\n",
      "643:\tlearn: 0.0222674\ttotal: 361ms\tremaining: 199ms\n",
      "644:\tlearn: 0.0222246\ttotal: 361ms\tremaining: 199ms\n",
      "645:\tlearn: 0.0221824\ttotal: 362ms\tremaining: 198ms\n",
      "646:\tlearn: 0.0221054\ttotal: 362ms\tremaining: 198ms\n",
      "647:\tlearn: 0.0220648\ttotal: 363ms\tremaining: 197ms\n",
      "648:\tlearn: 0.0220250\ttotal: 363ms\tremaining: 196ms\n",
      "649:\tlearn: 0.0219839\ttotal: 364ms\tremaining: 196ms\n",
      "650:\tlearn: 0.0218327\ttotal: 364ms\tremaining: 195ms\n",
      "651:\tlearn: 0.0217011\ttotal: 365ms\tremaining: 195ms\n",
      "652:\tlearn: 0.0216623\ttotal: 365ms\tremaining: 194ms\n",
      "653:\tlearn: 0.0215697\ttotal: 366ms\tremaining: 193ms\n",
      "654:\tlearn: 0.0214709\ttotal: 366ms\tremaining: 193ms\n",
      "655:\tlearn: 0.0214311\ttotal: 367ms\tremaining: 192ms\n",
      "656:\tlearn: 0.0213934\ttotal: 367ms\tremaining: 192ms\n",
      "657:\tlearn: 0.0213543\ttotal: 368ms\tremaining: 191ms\n"
     ]
    },
    {
     "name": "stdout",
     "output_type": "stream",
     "text": [
      "658:\tlearn: 0.0212445\ttotal: 369ms\tremaining: 191ms\n",
      "659:\tlearn: 0.0211237\ttotal: 369ms\tremaining: 190ms\n",
      "660:\tlearn: 0.0210354\ttotal: 370ms\tremaining: 190ms\n",
      "661:\tlearn: 0.0209327\ttotal: 370ms\tremaining: 189ms\n",
      "662:\tlearn: 0.0208963\ttotal: 371ms\tremaining: 188ms\n",
      "663:\tlearn: 0.0208190\ttotal: 371ms\tremaining: 188ms\n",
      "664:\tlearn: 0.0207832\ttotal: 372ms\tremaining: 187ms\n",
      "665:\tlearn: 0.0206796\ttotal: 372ms\tremaining: 187ms\n",
      "666:\tlearn: 0.0206448\ttotal: 372ms\tremaining: 186ms\n",
      "667:\tlearn: 0.0205285\ttotal: 373ms\tremaining: 185ms\n",
      "668:\tlearn: 0.0204944\ttotal: 373ms\tremaining: 185ms\n",
      "669:\tlearn: 0.0204196\ttotal: 374ms\tremaining: 184ms\n",
      "670:\tlearn: 0.0203146\ttotal: 374ms\tremaining: 183ms\n",
      "671:\tlearn: 0.0202600\ttotal: 375ms\tremaining: 183ms\n",
      "672:\tlearn: 0.0202270\ttotal: 375ms\tremaining: 182ms\n",
      "673:\tlearn: 0.0201926\ttotal: 375ms\tremaining: 182ms\n",
      "674:\tlearn: 0.0200897\ttotal: 376ms\tremaining: 181ms\n",
      "675:\tlearn: 0.0200556\ttotal: 376ms\tremaining: 180ms\n",
      "676:\tlearn: 0.0200351\ttotal: 377ms\tremaining: 180ms\n",
      "677:\tlearn: 0.0200050\ttotal: 377ms\tremaining: 179ms\n",
      "678:\tlearn: 0.0199713\ttotal: 378ms\tremaining: 179ms\n",
      "679:\tlearn: 0.0199512\ttotal: 379ms\tremaining: 178ms\n",
      "680:\tlearn: 0.0199179\ttotal: 379ms\tremaining: 178ms\n",
      "681:\tlearn: 0.0198873\ttotal: 380ms\tremaining: 177ms\n",
      "682:\tlearn: 0.0198024\ttotal: 380ms\tremaining: 176ms\n",
      "683:\tlearn: 0.0197696\ttotal: 380ms\tremaining: 176ms\n",
      "684:\tlearn: 0.0197408\ttotal: 381ms\tremaining: 175ms\n",
      "685:\tlearn: 0.0197083\ttotal: 382ms\tremaining: 175ms\n",
      "686:\tlearn: 0.0196789\ttotal: 382ms\tremaining: 174ms\n",
      "687:\tlearn: 0.0195944\ttotal: 382ms\tremaining: 173ms\n",
      "688:\tlearn: 0.0195622\ttotal: 383ms\tremaining: 173ms\n",
      "689:\tlearn: 0.0195429\ttotal: 383ms\tremaining: 172ms\n",
      "690:\tlearn: 0.0195110\ttotal: 384ms\tremaining: 172ms\n",
      "691:\tlearn: 0.0194822\ttotal: 385ms\tremaining: 171ms\n",
      "692:\tlearn: 0.0194006\ttotal: 385ms\tremaining: 171ms\n",
      "693:\tlearn: 0.0193745\ttotal: 386ms\tremaining: 170ms\n",
      "694:\tlearn: 0.0193431\ttotal: 386ms\tremaining: 169ms\n",
      "695:\tlearn: 0.0193149\ttotal: 387ms\tremaining: 169ms\n",
      "696:\tlearn: 0.0192839\ttotal: 387ms\tremaining: 168ms\n",
      "697:\tlearn: 0.0192580\ttotal: 388ms\tremaining: 168ms\n",
      "698:\tlearn: 0.0191880\ttotal: 388ms\tremaining: 167ms\n",
      "699:\tlearn: 0.0190766\ttotal: 389ms\tremaining: 167ms\n",
      "700:\tlearn: 0.0190490\ttotal: 389ms\tremaining: 166ms\n",
      "701:\tlearn: 0.0190306\ttotal: 389ms\tremaining: 165ms\n",
      "702:\tlearn: 0.0189493\ttotal: 390ms\tremaining: 165ms\n",
      "703:\tlearn: 0.0188961\ttotal: 390ms\tremaining: 164ms\n",
      "704:\tlearn: 0.0187874\ttotal: 391ms\tremaining: 164ms\n",
      "705:\tlearn: 0.0187692\ttotal: 391ms\tremaining: 163ms\n",
      "706:\tlearn: 0.0186898\ttotal: 392ms\tremaining: 162ms\n",
      "707:\tlearn: 0.0186328\ttotal: 392ms\tremaining: 162ms\n",
      "708:\tlearn: 0.0186042\ttotal: 393ms\tremaining: 161ms\n",
      "709:\tlearn: 0.0184981\ttotal: 394ms\tremaining: 161ms\n",
      "710:\tlearn: 0.0184802\ttotal: 394ms\tremaining: 160ms\n",
      "711:\tlearn: 0.0184248\ttotal: 395ms\tremaining: 160ms\n",
      "712:\tlearn: 0.0183970\ttotal: 395ms\tremaining: 159ms\n",
      "713:\tlearn: 0.0183795\ttotal: 396ms\tremaining: 158ms\n",
      "714:\tlearn: 0.0183020\ttotal: 396ms\tremaining: 158ms\n",
      "715:\tlearn: 0.0182517\ttotal: 396ms\tremaining: 157ms\n",
      "716:\tlearn: 0.0181988\ttotal: 397ms\tremaining: 157ms\n",
      "717:\tlearn: 0.0181719\ttotal: 397ms\tremaining: 156ms\n",
      "718:\tlearn: 0.0180680\ttotal: 398ms\tremaining: 155ms\n",
      "719:\tlearn: 0.0180440\ttotal: 398ms\tremaining: 155ms\n",
      "720:\tlearn: 0.0179305\ttotal: 399ms\tremaining: 154ms\n",
      "721:\tlearn: 0.0178292\ttotal: 399ms\tremaining: 154ms\n",
      "722:\tlearn: 0.0178066\ttotal: 401ms\tremaining: 153ms\n",
      "723:\tlearn: 0.0177093\ttotal: 401ms\tremaining: 153ms\n",
      "724:\tlearn: 0.0176870\ttotal: 402ms\tremaining: 152ms\n",
      "725:\tlearn: 0.0176390\ttotal: 402ms\tremaining: 152ms\n",
      "726:\tlearn: 0.0175398\ttotal: 403ms\tremaining: 151ms\n",
      "727:\tlearn: 0.0174426\ttotal: 403ms\tremaining: 151ms\n",
      "728:\tlearn: 0.0173957\ttotal: 403ms\tremaining: 150ms\n",
      "729:\tlearn: 0.0173700\ttotal: 404ms\tremaining: 149ms\n",
      "730:\tlearn: 0.0173210\ttotal: 404ms\tremaining: 149ms\n",
      "731:\tlearn: 0.0172211\ttotal: 405ms\tremaining: 148ms\n",
      "732:\tlearn: 0.0171760\ttotal: 405ms\tremaining: 148ms\n",
      "733:\tlearn: 0.0170781\ttotal: 406ms\tremaining: 147ms\n",
      "734:\tlearn: 0.0169834\ttotal: 406ms\tremaining: 146ms\n",
      "735:\tlearn: 0.0169392\ttotal: 407ms\tremaining: 146ms\n",
      "736:\tlearn: 0.0168927\ttotal: 407ms\tremaining: 145ms\n",
      "737:\tlearn: 0.0168004\ttotal: 408ms\tremaining: 145ms\n",
      "738:\tlearn: 0.0166963\ttotal: 408ms\tremaining: 144ms\n",
      "739:\tlearn: 0.0166018\ttotal: 409ms\tremaining: 144ms\n",
      "740:\tlearn: 0.0165909\ttotal: 409ms\tremaining: 143ms\n",
      "741:\tlearn: 0.0164895\ttotal: 410ms\tremaining: 142ms\n",
      "742:\tlearn: 0.0163971\ttotal: 410ms\tremaining: 142ms\n",
      "743:\tlearn: 0.0163545\ttotal: 411ms\tremaining: 141ms\n",
      "744:\tlearn: 0.0162658\ttotal: 411ms\tremaining: 141ms\n",
      "745:\tlearn: 0.0162160\ttotal: 412ms\tremaining: 140ms\n",
      "746:\tlearn: 0.0161745\ttotal: 412ms\tremaining: 140ms\n",
      "747:\tlearn: 0.0161272\ttotal: 413ms\tremaining: 139ms\n",
      "748:\tlearn: 0.0160411\ttotal: 414ms\tremaining: 139ms\n",
      "749:\tlearn: 0.0159926\ttotal: 414ms\tremaining: 138ms\n",
      "750:\tlearn: 0.0159526\ttotal: 414ms\tremaining: 137ms\n",
      "751:\tlearn: 0.0158689\ttotal: 415ms\tremaining: 137ms\n",
      "752:\tlearn: 0.0158218\ttotal: 415ms\tremaining: 136ms\n",
      "753:\tlearn: 0.0157844\ttotal: 416ms\tremaining: 136ms\n",
      "754:\tlearn: 0.0157479\ttotal: 416ms\tremaining: 135ms\n",
      "755:\tlearn: 0.0156666\ttotal: 417ms\tremaining: 135ms\n",
      "756:\tlearn: 0.0156205\ttotal: 417ms\tremaining: 134ms\n",
      "757:\tlearn: 0.0155847\ttotal: 418ms\tremaining: 133ms\n",
      "758:\tlearn: 0.0155057\ttotal: 418ms\tremaining: 133ms\n",
      "759:\tlearn: 0.0154443\ttotal: 419ms\tremaining: 132ms\n",
      "760:\tlearn: 0.0153895\ttotal: 419ms\tremaining: 132ms\n",
      "761:\tlearn: 0.0153448\ttotal: 420ms\tremaining: 131ms\n",
      "762:\tlearn: 0.0153100\ttotal: 420ms\tremaining: 131ms\n",
      "763:\tlearn: 0.0152762\ttotal: 421ms\tremaining: 130ms\n",
      "764:\tlearn: 0.0152000\ttotal: 421ms\tremaining: 129ms\n",
      "765:\tlearn: 0.0151661\ttotal: 422ms\tremaining: 129ms\n",
      "766:\tlearn: 0.0150916\ttotal: 422ms\tremaining: 128ms\n",
      "767:\tlearn: 0.0150320\ttotal: 423ms\tremaining: 128ms\n",
      "768:\tlearn: 0.0149470\ttotal: 423ms\tremaining: 127ms\n",
      "769:\tlearn: 0.0148887\ttotal: 424ms\tremaining: 127ms\n",
      "770:\tlearn: 0.0148271\ttotal: 424ms\tremaining: 126ms\n",
      "771:\tlearn: 0.0147761\ttotal: 425ms\tremaining: 125ms\n",
      "772:\tlearn: 0.0147105\ttotal: 425ms\tremaining: 125ms\n",
      "773:\tlearn: 0.0146463\ttotal: 426ms\tremaining: 124ms\n",
      "774:\tlearn: 0.0145818\ttotal: 426ms\tremaining: 124ms\n",
      "775:\tlearn: 0.0145587\ttotal: 427ms\tremaining: 123ms\n",
      "776:\tlearn: 0.0145032\ttotal: 427ms\tremaining: 123ms\n",
      "777:\tlearn: 0.0144897\ttotal: 428ms\tremaining: 122ms\n",
      "778:\tlearn: 0.0144765\ttotal: 428ms\tremaining: 121ms\n",
      "779:\tlearn: 0.0144221\ttotal: 428ms\tremaining: 121ms\n",
      "780:\tlearn: 0.0144091\ttotal: 429ms\tremaining: 120ms\n",
      "781:\tlearn: 0.0143557\ttotal: 429ms\tremaining: 120ms\n",
      "782:\tlearn: 0.0143430\ttotal: 430ms\tremaining: 119ms\n",
      "783:\tlearn: 0.0142987\ttotal: 430ms\tremaining: 119ms\n",
      "784:\tlearn: 0.0142677\ttotal: 431ms\tremaining: 118ms\n",
      "785:\tlearn: 0.0142475\ttotal: 431ms\tremaining: 117ms\n",
      "786:\tlearn: 0.0142351\ttotal: 432ms\tremaining: 117ms\n",
      "787:\tlearn: 0.0141828\ttotal: 432ms\tremaining: 116ms\n",
      "788:\tlearn: 0.0141629\ttotal: 432ms\tremaining: 116ms\n",
      "789:\tlearn: 0.0141508\ttotal: 433ms\tremaining: 115ms\n",
      "790:\tlearn: 0.0141022\ttotal: 433ms\tremaining: 114ms\n",
      "791:\tlearn: 0.0140827\ttotal: 434ms\tremaining: 114ms\n",
      "792:\tlearn: 0.0140635\ttotal: 434ms\tremaining: 113ms\n",
      "793:\tlearn: 0.0140518\ttotal: 435ms\tremaining: 113ms\n",
      "794:\tlearn: 0.0140051\ttotal: 435ms\tremaining: 112ms\n",
      "795:\tlearn: 0.0139751\ttotal: 436ms\tremaining: 112ms\n",
      "796:\tlearn: 0.0139287\ttotal: 436ms\tremaining: 111ms\n",
      "797:\tlearn: 0.0138993\ttotal: 436ms\tremaining: 110ms\n",
      "798:\tlearn: 0.0138877\ttotal: 437ms\tremaining: 110ms\n",
      "799:\tlearn: 0.0138036\ttotal: 437ms\tremaining: 109ms\n",
      "800:\tlearn: 0.0137408\ttotal: 438ms\tremaining: 109ms\n",
      "801:\tlearn: 0.0136586\ttotal: 438ms\tremaining: 108ms\n",
      "802:\tlearn: 0.0136472\ttotal: 439ms\tremaining: 108ms\n",
      "803:\tlearn: 0.0136095\ttotal: 439ms\tremaining: 107ms\n",
      "804:\tlearn: 0.0135982\ttotal: 440ms\tremaining: 106ms\n",
      "805:\tlearn: 0.0135531\ttotal: 440ms\tremaining: 106ms\n",
      "806:\tlearn: 0.0135420\ttotal: 441ms\tremaining: 105ms\n",
      "807:\tlearn: 0.0134977\ttotal: 441ms\tremaining: 105ms\n",
      "808:\tlearn: 0.0134694\ttotal: 442ms\tremaining: 104ms\n",
      "809:\tlearn: 0.0134092\ttotal: 442ms\tremaining: 104ms\n",
      "810:\tlearn: 0.0133299\ttotal: 442ms\tremaining: 103ms\n",
      "811:\tlearn: 0.0133190\ttotal: 443ms\tremaining: 103ms\n",
      "812:\tlearn: 0.0132713\ttotal: 443ms\tremaining: 102ms\n",
      "813:\tlearn: 0.0132604\ttotal: 444ms\tremaining: 101ms\n",
      "814:\tlearn: 0.0132330\ttotal: 444ms\tremaining: 101ms\n",
      "815:\tlearn: 0.0131862\ttotal: 445ms\tremaining: 100ms\n",
      "816:\tlearn: 0.0131754\ttotal: 445ms\tremaining: 99.7ms\n",
      "817:\tlearn: 0.0130983\ttotal: 445ms\tremaining: 99.1ms\n",
      "818:\tlearn: 0.0130877\ttotal: 446ms\tremaining: 98.5ms\n",
      "819:\tlearn: 0.0130611\ttotal: 446ms\tremaining: 98ms\n",
      "820:\tlearn: 0.0130153\ttotal: 447ms\tremaining: 97.4ms\n",
      "821:\tlearn: 0.0130048\ttotal: 447ms\tremaining: 96.9ms\n",
      "822:\tlearn: 0.0129516\ttotal: 448ms\tremaining: 96.3ms\n",
      "823:\tlearn: 0.0128868\ttotal: 448ms\tremaining: 95.8ms\n",
      "824:\tlearn: 0.0128408\ttotal: 449ms\tremaining: 95.3ms\n",
      "825:\tlearn: 0.0128225\ttotal: 450ms\tremaining: 94.7ms\n",
      "826:\tlearn: 0.0127968\ttotal: 450ms\tremaining: 94.1ms\n",
      "827:\tlearn: 0.0127397\ttotal: 450ms\tremaining: 93.5ms\n",
      "828:\tlearn: 0.0126949\ttotal: 451ms\tremaining: 93ms\n",
      "829:\tlearn: 0.0126257\ttotal: 451ms\tremaining: 92.4ms\n",
      "830:\tlearn: 0.0126111\ttotal: 452ms\tremaining: 91.9ms\n",
      "831:\tlearn: 0.0125943\ttotal: 452ms\tremaining: 91.3ms\n",
      "832:\tlearn: 0.0125504\ttotal: 453ms\tremaining: 90.8ms\n",
      "833:\tlearn: 0.0124827\ttotal: 453ms\tremaining: 90.2ms\n",
      "834:\tlearn: 0.0124303\ttotal: 454ms\tremaining: 89.7ms\n",
      "835:\tlearn: 0.0123859\ttotal: 454ms\tremaining: 89.1ms\n",
      "836:\tlearn: 0.0123319\ttotal: 455ms\tremaining: 88.5ms\n",
      "837:\tlearn: 0.0123177\ttotal: 455ms\tremaining: 88ms\n",
      "838:\tlearn: 0.0122869\ttotal: 456ms\tremaining: 87.4ms\n",
      "839:\tlearn: 0.0122706\ttotal: 456ms\tremaining: 86.9ms\n",
      "840:\tlearn: 0.0122216\ttotal: 457ms\tremaining: 86.3ms\n",
      "841:\tlearn: 0.0122079\ttotal: 457ms\tremaining: 85.8ms\n",
      "842:\tlearn: 0.0121836\ttotal: 458ms\tremaining: 85.2ms\n",
      "843:\tlearn: 0.0121415\ttotal: 458ms\tremaining: 84.7ms\n",
      "844:\tlearn: 0.0120888\ttotal: 458ms\tremaining: 84.1ms\n",
      "845:\tlearn: 0.0120729\ttotal: 459ms\tremaining: 83.5ms\n",
      "846:\tlearn: 0.0120003\ttotal: 459ms\tremaining: 83ms\n",
      "847:\tlearn: 0.0119799\ttotal: 460ms\tremaining: 82.4ms\n",
      "848:\tlearn: 0.0119666\ttotal: 460ms\tremaining: 81.8ms\n",
      "849:\tlearn: 0.0119570\ttotal: 461ms\tremaining: 81.3ms\n",
      "850:\tlearn: 0.0118936\ttotal: 461ms\tremaining: 80.7ms\n",
      "851:\tlearn: 0.0118440\ttotal: 462ms\tremaining: 80.2ms\n",
      "852:\tlearn: 0.0118347\ttotal: 462ms\tremaining: 79.6ms\n",
      "853:\tlearn: 0.0117860\ttotal: 463ms\tremaining: 79.1ms\n",
      "854:\tlearn: 0.0117768\ttotal: 463ms\tremaining: 78.5ms\n",
      "855:\tlearn: 0.0117144\ttotal: 463ms\tremaining: 78ms\n",
      "856:\tlearn: 0.0116686\ttotal: 464ms\tremaining: 77.4ms\n",
      "857:\tlearn: 0.0115993\ttotal: 464ms\tremaining: 76.9ms\n",
      "858:\tlearn: 0.0115901\ttotal: 465ms\tremaining: 76.3ms\n",
      "859:\tlearn: 0.0115458\ttotal: 466ms\tremaining: 75.8ms\n",
      "860:\tlearn: 0.0114787\ttotal: 466ms\tremaining: 75.2ms\n",
      "861:\tlearn: 0.0114130\ttotal: 467ms\tremaining: 74.7ms\n",
      "862:\tlearn: 0.0113931\ttotal: 467ms\tremaining: 74.1ms\n",
      "863:\tlearn: 0.0113860\ttotal: 468ms\tremaining: 73.6ms\n",
      "864:\tlearn: 0.0113407\ttotal: 468ms\tremaining: 73.1ms\n",
      "865:\tlearn: 0.0113181\ttotal: 469ms\tremaining: 72.5ms\n",
      "866:\tlearn: 0.0113034\ttotal: 469ms\tremaining: 72ms\n",
      "867:\tlearn: 0.0112482\ttotal: 470ms\tremaining: 71.5ms\n",
      "868:\tlearn: 0.0112059\ttotal: 470ms\tremaining: 70.9ms\n",
      "869:\tlearn: 0.0111425\ttotal: 471ms\tremaining: 70.4ms\n",
      "870:\tlearn: 0.0111290\ttotal: 472ms\tremaining: 69.8ms\n",
      "871:\tlearn: 0.0111069\ttotal: 472ms\tremaining: 69.3ms\n",
      "872:\tlearn: 0.0110634\ttotal: 473ms\tremaining: 68.8ms\n",
      "873:\tlearn: 0.0110418\ttotal: 473ms\tremaining: 68.2ms\n"
     ]
    },
    {
     "name": "stdout",
     "output_type": "stream",
     "text": [
      "874:\tlearn: 0.0109890\ttotal: 474ms\tremaining: 67.7ms\n",
      "875:\tlearn: 0.0109508\ttotal: 475ms\tremaining: 67.2ms\n",
      "876:\tlearn: 0.0109088\ttotal: 475ms\tremaining: 66.7ms\n",
      "877:\tlearn: 0.0108955\ttotal: 476ms\tremaining: 66.1ms\n",
      "878:\tlearn: 0.0108344\ttotal: 477ms\tremaining: 65.6ms\n",
      "879:\tlearn: 0.0108121\ttotal: 477ms\tremaining: 65ms\n",
      "880:\tlearn: 0.0107615\ttotal: 477ms\tremaining: 64.5ms\n",
      "881:\tlearn: 0.0107244\ttotal: 478ms\tremaining: 63.9ms\n",
      "882:\tlearn: 0.0107114\ttotal: 479ms\tremaining: 63.4ms\n",
      "883:\tlearn: 0.0106541\ttotal: 479ms\tremaining: 62.9ms\n",
      "884:\tlearn: 0.0106146\ttotal: 480ms\tremaining: 62.4ms\n",
      "885:\tlearn: 0.0105574\ttotal: 481ms\tremaining: 61.8ms\n",
      "886:\tlearn: 0.0105000\ttotal: 481ms\tremaining: 61.3ms\n",
      "887:\tlearn: 0.0104930\ttotal: 481ms\tremaining: 60.7ms\n",
      "888:\tlearn: 0.0104748\ttotal: 482ms\tremaining: 60.2ms\n",
      "889:\tlearn: 0.0104355\ttotal: 482ms\tremaining: 59.6ms\n",
      "890:\tlearn: 0.0104286\ttotal: 483ms\tremaining: 59.1ms\n",
      "891:\tlearn: 0.0104107\ttotal: 483ms\tremaining: 58.5ms\n",
      "892:\tlearn: 0.0103629\ttotal: 484ms\tremaining: 58ms\n",
      "893:\tlearn: 0.0103273\ttotal: 484ms\tremaining: 57.4ms\n",
      "894:\tlearn: 0.0103147\ttotal: 485ms\tremaining: 56.9ms\n",
      "895:\tlearn: 0.0103047\ttotal: 485ms\tremaining: 56.3ms\n",
      "896:\tlearn: 0.0102697\ttotal: 486ms\tremaining: 55.8ms\n",
      "897:\tlearn: 0.0102574\ttotal: 486ms\tremaining: 55.2ms\n",
      "898:\tlearn: 0.0102476\ttotal: 487ms\tremaining: 54.7ms\n",
      "899:\tlearn: 0.0102269\ttotal: 487ms\tremaining: 54.1ms\n",
      "900:\tlearn: 0.0102173\ttotal: 488ms\tremaining: 53.6ms\n",
      "901:\tlearn: 0.0101639\ttotal: 488ms\tremaining: 53ms\n",
      "902:\tlearn: 0.0101295\ttotal: 488ms\tremaining: 52.5ms\n",
      "903:\tlearn: 0.0101200\ttotal: 489ms\tremaining: 51.9ms\n",
      "904:\tlearn: 0.0100666\ttotal: 489ms\tremaining: 51.4ms\n",
      "905:\tlearn: 0.0100329\ttotal: 490ms\tremaining: 50.8ms\n",
      "906:\tlearn: 0.0099818\ttotal: 490ms\tremaining: 50.3ms\n",
      "907:\tlearn: 0.0099393\ttotal: 491ms\tremaining: 49.7ms\n",
      "908:\tlearn: 0.0099326\ttotal: 491ms\tremaining: 49.2ms\n",
      "909:\tlearn: 0.0099231\ttotal: 492ms\tremaining: 48.6ms\n",
      "910:\tlearn: 0.0098814\ttotal: 492ms\tremaining: 48.1ms\n",
      "911:\tlearn: 0.0098697\ttotal: 493ms\tremaining: 47.6ms\n",
      "912:\tlearn: 0.0098188\ttotal: 493ms\tremaining: 47ms\n",
      "913:\tlearn: 0.0098122\ttotal: 494ms\tremaining: 46.4ms\n",
      "914:\tlearn: 0.0097637\ttotal: 494ms\tremaining: 45.9ms\n",
      "915:\tlearn: 0.0097282\ttotal: 494ms\tremaining: 45.3ms\n",
      "916:\tlearn: 0.0097197\ttotal: 495ms\tremaining: 44.8ms\n",
      "917:\tlearn: 0.0097133\ttotal: 495ms\tremaining: 44.2ms\n",
      "918:\tlearn: 0.0097041\ttotal: 496ms\tremaining: 43.7ms\n",
      "919:\tlearn: 0.0096485\ttotal: 496ms\tremaining: 43.1ms\n",
      "920:\tlearn: 0.0096318\ttotal: 497ms\tremaining: 42.6ms\n",
      "921:\tlearn: 0.0096205\ttotal: 497ms\tremaining: 42.1ms\n",
      "922:\tlearn: 0.0096012\ttotal: 498ms\tremaining: 41.5ms\n",
      "923:\tlearn: 0.0095923\ttotal: 498ms\tremaining: 41ms\n",
      "924:\tlearn: 0.0095760\ttotal: 499ms\tremaining: 40.4ms\n",
      "925:\tlearn: 0.0095673\ttotal: 499ms\tremaining: 39.9ms\n",
      "926:\tlearn: 0.0095587\ttotal: 500ms\tremaining: 39.3ms\n",
      "927:\tlearn: 0.0095207\ttotal: 500ms\tremaining: 38.8ms\n",
      "928:\tlearn: 0.0095022\ttotal: 500ms\tremaining: 38.2ms\n",
      "929:\tlearn: 0.0094819\ttotal: 501ms\tremaining: 37.7ms\n",
      "930:\tlearn: 0.0094661\ttotal: 501ms\tremaining: 37.1ms\n",
      "931:\tlearn: 0.0094578\ttotal: 502ms\tremaining: 36.6ms\n",
      "932:\tlearn: 0.0094517\ttotal: 502ms\tremaining: 36.1ms\n",
      "933:\tlearn: 0.0094435\ttotal: 503ms\tremaining: 35.5ms\n",
      "934:\tlearn: 0.0094239\ttotal: 503ms\tremaining: 35ms\n",
      "935:\tlearn: 0.0094048\ttotal: 503ms\tremaining: 34.4ms\n",
      "936:\tlearn: 0.0093988\ttotal: 504ms\tremaining: 33.9ms\n",
      "937:\tlearn: 0.0093909\ttotal: 504ms\tremaining: 33.3ms\n",
      "938:\tlearn: 0.0093424\ttotal: 505ms\tremaining: 32.8ms\n",
      "939:\tlearn: 0.0092884\ttotal: 505ms\tremaining: 32.2ms\n",
      "940:\tlearn: 0.0092755\ttotal: 506ms\tremaining: 31.7ms\n",
      "941:\tlearn: 0.0092279\ttotal: 506ms\tremaining: 31.2ms\n",
      "942:\tlearn: 0.0091751\ttotal: 506ms\tremaining: 30.6ms\n",
      "943:\tlearn: 0.0091567\ttotal: 507ms\tremaining: 30.1ms\n",
      "944:\tlearn: 0.0091507\ttotal: 507ms\tremaining: 29.5ms\n",
      "945:\tlearn: 0.0091326\ttotal: 508ms\tremaining: 29ms\n",
      "946:\tlearn: 0.0091201\ttotal: 508ms\tremaining: 28.5ms\n",
      "947:\tlearn: 0.0091143\ttotal: 509ms\tremaining: 27.9ms\n",
      "948:\tlearn: 0.0090624\ttotal: 509ms\tremaining: 27.4ms\n",
      "949:\tlearn: 0.0090168\ttotal: 510ms\tremaining: 26.8ms\n",
      "950:\tlearn: 0.0089993\ttotal: 511ms\tremaining: 26.3ms\n",
      "951:\tlearn: 0.0089486\ttotal: 511ms\tremaining: 25.8ms\n",
      "952:\tlearn: 0.0089314\ttotal: 511ms\tremaining: 25.2ms\n",
      "953:\tlearn: 0.0089255\ttotal: 512ms\tremaining: 24.7ms\n",
      "954:\tlearn: 0.0089135\ttotal: 513ms\tremaining: 24.2ms\n",
      "955:\tlearn: 0.0088695\ttotal: 513ms\tremaining: 23.6ms\n",
      "956:\tlearn: 0.0088199\ttotal: 513ms\tremaining: 23.1ms\n",
      "957:\tlearn: 0.0088032\ttotal: 514ms\tremaining: 22.5ms\n",
      "958:\tlearn: 0.0087975\ttotal: 514ms\tremaining: 22ms\n",
      "959:\tlearn: 0.0087879\ttotal: 515ms\tremaining: 21.5ms\n",
      "960:\tlearn: 0.0087822\ttotal: 515ms\tremaining: 20.9ms\n",
      "961:\tlearn: 0.0087335\ttotal: 516ms\tremaining: 20.4ms\n",
      "962:\tlearn: 0.0087172\ttotal: 516ms\tremaining: 19.8ms\n",
      "963:\tlearn: 0.0086769\ttotal: 517ms\tremaining: 19.3ms\n",
      "964:\tlearn: 0.0086693\ttotal: 517ms\tremaining: 18.8ms\n",
      "965:\tlearn: 0.0086637\ttotal: 518ms\tremaining: 18.2ms\n",
      "966:\tlearn: 0.0086242\ttotal: 518ms\tremaining: 17.7ms\n",
      "967:\tlearn: 0.0086167\ttotal: 519ms\tremaining: 17.1ms\n",
      "968:\tlearn: 0.0086112\ttotal: 519ms\tremaining: 16.6ms\n",
      "969:\tlearn: 0.0085724\ttotal: 519ms\tremaining: 16.1ms\n",
      "970:\tlearn: 0.0085629\ttotal: 520ms\tremaining: 15.5ms\n",
      "971:\tlearn: 0.0085175\ttotal: 520ms\tremaining: 15ms\n",
      "972:\tlearn: 0.0085062\ttotal: 521ms\tremaining: 14.5ms\n",
      "973:\tlearn: 0.0084767\ttotal: 522ms\tremaining: 13.9ms\n",
      "974:\tlearn: 0.0084713\ttotal: 522ms\tremaining: 13.4ms\n",
      "975:\tlearn: 0.0084660\ttotal: 523ms\tremaining: 12.9ms\n",
      "976:\tlearn: 0.0084549\ttotal: 523ms\tremaining: 12.3ms\n",
      "977:\tlearn: 0.0084172\ttotal: 524ms\tremaining: 11.8ms\n",
      "978:\tlearn: 0.0083732\ttotal: 524ms\tremaining: 11.2ms\n",
      "979:\tlearn: 0.0083680\ttotal: 525ms\tremaining: 10.7ms\n",
      "980:\tlearn: 0.0083589\ttotal: 525ms\tremaining: 10.2ms\n",
      "981:\tlearn: 0.0083303\ttotal: 526ms\tremaining: 9.63ms\n",
      "982:\tlearn: 0.0083251\ttotal: 526ms\tremaining: 9.1ms\n",
      "983:\tlearn: 0.0083162\ttotal: 527ms\tremaining: 8.56ms\n",
      "984:\tlearn: 0.0083111\ttotal: 527ms\tremaining: 8.03ms\n",
      "985:\tlearn: 0.0082829\ttotal: 528ms\tremaining: 7.49ms\n",
      "986:\tlearn: 0.0082661\ttotal: 528ms\tremaining: 6.96ms\n",
      "987:\tlearn: 0.0082463\ttotal: 529ms\tremaining: 6.42ms\n",
      "988:\tlearn: 0.0082087\ttotal: 529ms\tremaining: 5.89ms\n",
      "989:\tlearn: 0.0081925\ttotal: 530ms\tremaining: 5.35ms\n",
      "990:\tlearn: 0.0081765\ttotal: 530ms\tremaining: 4.82ms\n",
      "991:\tlearn: 0.0081678\ttotal: 531ms\tremaining: 4.28ms\n",
      "992:\tlearn: 0.0081257\ttotal: 531ms\tremaining: 3.75ms\n",
      "993:\tlearn: 0.0081207\ttotal: 532ms\tremaining: 3.21ms\n",
      "994:\tlearn: 0.0081052\ttotal: 533ms\tremaining: 2.68ms\n",
      "995:\tlearn: 0.0080967\ttotal: 533ms\tremaining: 2.14ms\n",
      "996:\tlearn: 0.0080918\ttotal: 534ms\tremaining: 1.61ms\n",
      "997:\tlearn: 0.0080821\ttotal: 535ms\tremaining: 1.07ms\n",
      "998:\tlearn: 0.0080773\ttotal: 535ms\tremaining: 535us\n"
     ]
    },
    {
     "name": "stdout",
     "output_type": "stream",
     "text": [
      "999:\tlearn: 0.0080726\ttotal: 536ms\tremaining: 0us\n"
     ]
    },
    {
     "data": {
      "text/plain": [
       "<catboost.core.CatBoostRegressor at 0x7f9133620e50>"
      ]
     },
     "execution_count": 9,
     "metadata": {},
     "output_type": "execute_result"
    }
   ],
   "source": [
    "#Train the Model \n",
    "prior_model = ctb.CatBoostRegressor()\n",
    "prior_model.fit(X_train,Y_train)"
   ]
  },
  {
   "cell_type": "code",
   "execution_count": 10,
   "id": "af65dcda",
   "metadata": {
    "execution": {
     "iopub.execute_input": "2022-05-18T08:29:23.344225Z",
     "iopub.status.busy": "2022-05-18T08:29:23.343836Z",
     "iopub.status.idle": "2022-05-18T08:29:23.351262Z",
     "shell.execute_reply": "2022-05-18T08:29:23.351549Z"
    },
    "id": "af65dcda",
    "papermill": {
     "duration": 0.019988,
     "end_time": "2022-05-18T08:29:23.351663",
     "exception": false,
     "start_time": "2022-05-18T08:29:23.331675",
     "status": "completed"
    },
    "tags": []
   },
   "outputs": [
    {
     "data": {
      "application/scrapbook.scrap.json+json": {
       "data": 0.19542107813141912,
       "encoder": "json",
       "name": "Prior Model MSE",
       "version": 1
      }
     },
     "metadata": {
      "scrapbook": {
       "data": true,
       "display": false,
       "name": "Prior Model MSE"
      }
     },
     "output_type": "display_data"
    },
    {
     "data": {
      "application/scrapbook.scrap.json+json": {
       "data": 0.20670500948112341,
       "encoder": "json",
       "name": "ABC Pre-generator MSE",
       "version": 1
      }
     },
     "metadata": {
      "scrapbook": {
       "data": true,
       "display": false,
       "name": "ABC Pre-generator MSE"
      }
     },
     "output_type": "display_data"
    },
    {
     "data": {
      "application/scrapbook.scrap.json+json": {
       "data": 0.364088656710455,
       "encoder": "json",
       "name": "Prior Model MAE",
       "version": 1
      }
     },
     "metadata": {
      "scrapbook": {
       "data": true,
       "display": false,
       "name": "Prior Model MAE"
      }
     },
     "output_type": "display_data"
    },
    {
     "data": {
      "application/scrapbook.scrap.json+json": {
       "data": 0.3720681765125574,
       "encoder": "json",
       "name": "ABC Pre-generator MAE",
       "version": 1
      }
     },
     "metadata": {
      "scrapbook": {
       "data": true,
       "display": false,
       "name": "ABC Pre-generator MAE"
      }
     },
     "output_type": "display_data"
    }
   ],
   "source": [
    "y_pred = prior_model.predict(X_test)\n",
    "y_abc = y_pred + np.random.normal(0,variance, y_pred.shape)\n",
    "mse = mean_squared_error(y_pred,Y_test)\n",
    "sb.glue(\"Prior Model MSE\",mse)\n",
    "mse = mean_squared_error(y_abc,Y_test)\n",
    "sb.glue(\"ABC Pre-generator MSE\",mse)\n",
    "\n",
    "mae = mean_absolute_error(y_pred,Y_test)\n",
    "sb.glue(\"Prior Model MAE\",mae)\n",
    "mae = mean_absolute_error(y_abc,Y_test)\n",
    "sb.glue(\"ABC Pre-generator MAE\",mae)"
   ]
  },
  {
   "cell_type": "markdown",
   "id": "25609da2",
   "metadata": {
    "papermill": {
     "duration": 0.009391,
     "end_time": "2022-05-18T08:29:23.370689",
     "exception": false,
     "start_time": "2022-05-18T08:29:23.361298",
     "status": "completed"
    },
    "tags": []
   },
   "source": [
    "# ABC GAN Model"
   ]
  },
  {
   "cell_type": "code",
   "execution_count": 11,
   "id": "dfc3464d",
   "metadata": {
    "execution": {
     "iopub.execute_input": "2022-05-18T08:29:23.392427Z",
     "iopub.status.busy": "2022-05-18T08:29:23.392038Z",
     "iopub.status.idle": "2022-05-18T08:29:23.394407Z",
     "shell.execute_reply": "2022-05-18T08:29:23.394652Z"
    },
    "papermill": {
     "duration": 0.014663,
     "end_time": "2022-05-18T08:29:23.394758",
     "exception": false,
     "start_time": "2022-05-18T08:29:23.380095",
     "status": "completed"
    },
    "tags": []
   },
   "outputs": [],
   "source": [
    "gen = network.Generator(n_features+1).to(device)\n",
    "disc = network.Discriminator(n_features+1).to(device)\n",
    "\n",
    "criterion = torch.nn.BCELoss()\n",
    "gen_opt = torch.optim.Adam(gen.parameters(), lr=0.001, betas=(0.5, 0.999))\n",
    "disc_opt = torch.optim.Adam(disc.parameters(), lr=0.001, betas=(0.5, 0.999))"
   ]
  },
  {
   "cell_type": "code",
   "execution_count": 12,
   "id": "b75fdd85",
   "metadata": {
    "execution": {
     "iopub.execute_input": "2022-05-18T08:29:23.416153Z",
     "iopub.status.busy": "2022-05-18T08:29:23.415798Z",
     "iopub.status.idle": "2022-05-18T08:29:37.026291Z",
     "shell.execute_reply": "2022-05-18T08:29:37.026565Z"
    },
    "papermill": {
     "duration": 13.622361,
     "end_time": "2022-05-18T08:29:37.026701",
     "exception": false,
     "start_time": "2022-05-18T08:29:23.404340",
     "status": "completed"
    },
    "tags": []
   },
   "outputs": [
    {
     "data": {
      "image/png": "[encoded data removed]",
      "text/plain": [
       "<Figure size 432x288 with 1 Axes>"
      ]
     },
     "metadata": {
      "needs_background": "light"
     },
     "output_type": "display_data"
    },
    {
     "data": {
      "image/png": "[encoded data removed]",
      "text/plain": [
       "<Figure size 432x288 with 1 Axes>"
      ]
     },
     "metadata": {
      "needs_background": "light"
     },
     "output_type": "display_data"
    }
   ],
   "source": [
    "#Training the ABC_GAN \n",
    "ABC_train_test2.training_GAN(disc,gen,disc_opt,gen_opt,train_data,batch_size,n_epochs,criterion,prior_model,variance,0,device)"
   ]
  },
  {
   "cell_type": "code",
   "execution_count": 13,
   "id": "1fa7c368",
   "metadata": {
    "execution": {
     "iopub.execute_input": "2022-05-18T08:29:37.050414Z",
     "iopub.status.busy": "2022-05-18T08:29:37.050033Z",
     "iopub.status.idle": "2022-05-18T08:29:37.217755Z",
     "shell.execute_reply": "2022-05-18T08:29:37.218069Z"
    },
    "papermill": {
     "duration": 0.180848,
     "end_time": "2022-05-18T08:29:37.218196",
     "exception": false,
     "start_time": "2022-05-18T08:29:37.037348",
     "status": "completed"
    },
    "tags": []
   },
   "outputs": [
    {
     "data": {
      "application/scrapbook.scrap.json+json": {
       "data": 0.1513871040008291,
       "encoder": "json",
       "name": "ABC-GAN Model 1 MSE",
       "version": 1
      }
     },
     "metadata": {
      "scrapbook": {
       "data": true,
       "display": false,
       "name": "ABC-GAN Model 1 MSE"
      }
     },
     "output_type": "display_data"
    },
    {
     "data": {
      "application/scrapbook.scrap.json+json": {
       "data": 0.32395800583437084,
       "encoder": "json",
       "name": "ABC-GAN Model 1 MAE",
       "version": 1
      }
     },
     "metadata": {
      "scrapbook": {
       "data": true,
       "display": false,
       "name": "ABC-GAN Model 1 MAE"
      }
     },
     "output_type": "display_data"
    },
    {
     "data": {
      "application/scrapbook.scrap.json+json": {
       "data": 6.479160116687417,
       "encoder": "json",
       "name": "ABC-GAN Model 1 Manhattan Distance",
       "version": 1
      }
     },
     "metadata": {
      "scrapbook": {
       "data": true,
       "display": false,
       "name": "ABC-GAN Model 1 Manhattan Distance"
      }
     },
     "output_type": "display_data"
    },
    {
     "data": {
      "application/scrapbook.scrap.json+json": {
       "data": 1.7395368114552117,
       "encoder": "json",
       "name": "ABC-GAN Model 1 Euclidean distance",
       "version": 1
      }
     },
     "metadata": {
      "scrapbook": {
       "data": true,
       "display": false,
       "name": "ABC-GAN Model 1 Euclidean distance"
      }
     },
     "output_type": "display_data"
    },
    {
     "data": {
      "application/scrapbook.scrap.json+json": {
       "data": [
        [
         0.16946374712416384,
         0.14513080828199493,
         0.16478799731194588,
         0.1639587604126295,
         0.15833843729691252,
         0.15752948092113556,
         0.14939133336637025,
         0.15224804363484612,
         0.16096239744486848,
         0.15488626911129752,
         0.14344475226087777,
         0.14912974458770384,
         0.16151309677081777,
         0.1523196213681452,
         0.13904274189027843,
         0.16604772932082942,
         0.15758804353986341,
         0.1504443125353503,
         0.15796302305218696,
         0.13854405501706757,
         0.15575373225478453,
         0.15420456657591053,
         0.14959605993205716,
         0.14496260766720873,
         0.1550363614364874,
         0.15822958948705085,
         0.14866517394933937,
         0.14572072398634367,
         0.13852219426690593,
         0.1464169999480369,
         0.14850467367864048,
         0.14680982154134425,
         0.13270345012595516,
         0.15975543906497064,
         0.15437289465335507,
         0.14894606621285528,
         0.15246885190047627,
         0.15782216250747635,
         0.1467229112820862,
         0.1513188321476943,
         0.15462044284138945,
         0.14875489144921816,
         0.1513680631142403,
         0.1592893334529343,
         0.15805122489640824,
         0.14426761624298273,
         0.14667106221588136,
         0.15406225325996714,
         0.15647647343846058,
         0.14447916707306022,
         0.15141756807983686,
         0.15234320994731151,
         0.15555305374665845,
         0.13394641678980865,
         0.13975649051348077,
         0.14421939816172183,
         0.15842031765513082,
         0.146635952729456,
         0.15760281152875127,
         0.15233450092870385,
         0.15266348759074674,
         0.15819330751557176,
         0.1611838753595591,
         0.14756781522993237,
         0.1518316510061448,
         0.1556135011432533,
         0.1498012128149972,
         0.14828335879939056,
         0.14386401886066807,
         0.14347862324225108,
         0.16741728208990714,
         0.1524958448238368,
         0.14299434883231293,
         0.14731422888247234,
         0.14298742035360928,
         0.14082862534887935,
         0.15402027304675953,
         0.15300081107731972,
         0.1569732772662964,
         0.14693022187101815,
         0.15246387333650363,
         0.1511524277406444,
         0.1330036939889862,
         0.1511462901297465,
         0.1565396885971578,
         0.15477787427543052,
         0.15702355540176094,
         0.15367099694499012,
         0.1424062628346156,
         0.13951808247645975,
         0.1503668886614037,
         0.15348572884309644,
         0.15205706710725403,
         0.16077639737212351,
         0.1486103467404268,
         0.1598955921018001,
         0.14672948221680265,
         0.15942550453998852,
         0.14825122300264312,
         0.15042848268248427
        ],
        [
         0.3355902709532529,
         0.31308882650919256,
         0.34640878033824263,
         0.3458902825135738,
         0.32717884932644664,
         0.3277160991448909,
         0.3301620413083583,
         0.31783752483315764,
         0.3383207314182073,
         0.3285512019414455,
         0.3080991600174457,
         0.32099061538465323,
         0.34254437130875887,
         0.322329417290166,
         0.3051589366514236,
         0.3369893931318074,
         0.33591898274607956,
         0.31901275836862625,
         0.3352074657101184,
         0.31077534598298373,
         0.3313928418327123,
         0.32500105877406893,
         0.3245808426756412,
         0.3169086253736168,
         0.3362157714087516,
         0.3354379166383296,
         0.3327033255714923,
         0.3084009170997888,
         0.30810025897808374,
         0.3159443865064532,
         0.31498272572644054,
         0.3143359175417572,
         0.2949995991308242,
         0.3348096285481006,
         0.3338945130351931,
         0.33034371812827884,
         0.3243393179494888,
         0.323618570016697,
         0.31182066393084823,
         0.32708957199938593,
         0.3312180180568248,
         0.33489873451180757,
         0.3198869027663022,
         0.3305792641360313,
         0.3315621849615127,
         0.3118640058208257,
         0.32021623929031195,
         0.3232160602230579,
         0.3305924173910171,
         0.3164348990190774,
         0.3350671347696334,
         0.31536755454726517,
         0.3280358227435499,
         0.31214926769025625,
         0.31385648832656443,
         0.3169995353091508,
         0.32776057966984806,
         0.3162768576759845,
         0.3379577300045639,
         0.319008105667308,
         0.3211270068306476,
         0.34009754029102623,
         0.33346827649511396,
         0.32096481514163316,
         0.33041363176889715,
         0.3304087106604129,
         0.3333543520886451,
         0.3166693434584886,
         0.3166942880023271,
         0.3261614576447755,
         0.3502700958866626,
         0.318072595866397,
         0.31199772083200517,
         0.31111269113607704,
         0.3130911797750741,
         0.3039020574185997,
         0.3193513442296535,
         0.3204108436126262,
         0.32817206871695814,
         0.3145246036816388,
         0.3168953324202448,
         0.316271296935156,
         0.3146950785536319,
         0.3208564032334834,
         0.33605211493559184,
         0.3243769605178386,
         0.3233401030767709,
         0.31943822153843937,
         0.3068780381698161,
         0.3040484628174454,
         0.32329848860390487,
         0.33725483012385665,
         0.3336057872045785,
         0.3380461983848363,
         0.32167952531017363,
         0.33650165018625555,
         0.30723223951645195,
         0.34226730694063007,
         0.32355023571290076,
         0.3236086573917419
        ],
        [
         6.711805419065058,
         6.261776530183852,
         6.928175606764853,
         6.917805650271475,
         6.543576986528933,
         6.554321982897818,
         6.603240826167166,
         6.356750496663153,
         6.766414628364146,
         6.571024038828909,
         6.161983200348914,
         6.419812307693064,
         6.850887426175177,
         6.44658834580332,
         6.1031787330284715,
         6.739787862636149,
         6.718379654921591,
         6.380255167372525,
         6.704149314202368,
         6.215506919659674,
         6.627856836654246,
         6.500021175481379,
         6.491616853512824,
         6.338172507472336,
         6.724315428175032,
         6.7087583327665925,
         6.654066511429846,
         6.168018341995776,
         6.162005179561675,
         6.318887730129063,
         6.299654514528811,
         6.2867183508351445,
         5.899991982616484,
         6.696192570962012,
         6.677890260703862,
         6.606874362565577,
         6.486786358989775,
         6.472371400333941,
         6.236413278616965,
         6.541791439987719,
         6.624360361136496,
         6.697974690236151,
         6.397738055326045,
         6.611585282720625,
         6.631243699230254,
         6.237280116416514,
         6.404324785806239,
         6.464321204461157,
         6.611848347820342,
         6.328697980381548,
         6.701342695392668,
         6.307351090945303,
         6.560716454870999,
         6.242985353805125,
         6.277129766531289,
         6.339990706183016,
         6.555211593396962,
         6.32553715351969,
         6.7591546000912786,
         6.3801621133461595,
         6.422540136612952,
         6.801950805820525,
         6.669365529902279,
         6.419296302832663,
         6.6082726353779435,
         6.608174213208258,
         6.667087041772902,
         6.333386869169772,
         6.333885760046542,
         6.52322915289551,
         7.005401917733252,
         6.3614519173279405,
         6.239954416640103,
         6.222253822721541,
         6.2618235955014825,
         6.0780411483719945,
         6.3870268845930696,
         6.408216872252524,
         6.563441374339163,
         6.290492073632777,
         6.337906648404896,
         6.32542593870312,
         6.293901571072638,
         6.417128064669669,
         6.721042298711836,
         6.487539210356772,
         6.466802061535418,
         6.388764430768788,
         6.137560763396323,
         6.080969256348908,
         6.465969772078097,
         6.745096602477133,
         6.67211574409157,
         6.760923967696726,
         6.433590506203473,
         6.7300330037251115,
         6.144644790329039,
         6.845346138812602,
         6.471004714258015,
         6.472173147834837
        ],
        [
         1.8409983548290523,
         1.70370659611328,
         1.8154228009582005,
         1.8108493057823971,
         1.7795417235733053,
         1.7749900333305286,
         1.7285330969719397,
         1.7449816253178492,
         1.7942262814086103,
         1.7600356195901123,
         1.6937812861221353,
         1.7270190768355966,
         1.7972929464659777,
         1.7453917690200398,
         1.6675895291724425,
         1.822348645681333,
         1.7753199347715523,
         1.7346141503824433,
         1.7774308597083992,
         1.6645963776067012,
         1.7649574060287376,
         1.7561581168898803,
         1.7297170863008617,
         1.7027190470961948,
         1.7608881931371305,
         1.7789299563898004,
         1.724326964060699,
         1.7071656275027542,
         1.6644650447931066,
         1.7112393166827187,
         1.7233959131821133,
         1.7135333176880119,
         1.6291313644145162,
         1.7874867219924777,
         1.7571163572931365,
         1.7259551918451144,
         1.7462465570501564,
         1.776638187743787,
         1.7130260434802864,
         1.7396484251002802,
         1.758524625027409,
         1.7248471900386895,
         1.739931395855827,
         1.78487721400064,
         1.7779270226666124,
         1.698632486696182,
         1.7127233414412344,
         1.7553475625070216,
         1.7690476163091857,
         1.6998774489536603,
         1.7402158951109306,
         1.7455269115502716,
         1.7638200233961427,
         1.6367432100962487,
         1.6718641721951026,
         1.698348598855499,
         1.7800017845784921,
         1.7125183370081385,
         1.7754031177665048,
         1.7454770174866459,
         1.747360796119375,
         1.7787259907898785,
         1.7954602494043643,
         1.7179511938930767,
         1.74259376221852,
         1.764162697390767,
         1.7309027287227736,
         1.722111255403614,
         1.696254809046495,
         1.6939812468988615,
         1.829848529741777,
         1.746401127025729,
         1.6911200361435785,
         1.7164744616945067,
         1.6910790658843204,
         1.6782647308984322,
         1.755108390081704,
         1.7492902050678711,
         1.7718537031385881,
         1.7142358173309653,
         1.7462180467312989,
         1.7386916215398545,
         1.6309732921724145,
         1.7386563210119848,
         1.7694049202890658,
         1.759419644515944,
         1.7721374405037604,
         1.7531172062642595,
         1.6876389592244878,
         1.6704375622959378,
         1.7341677465655028,
         1.7520600951057383,
         1.743886849008582,
         1.7931893228107483,
         1.7240089717888756,
         1.7882706288579482,
         1.7130644016895724,
         1.7856399667345515,
         1.7219246383198257,
         1.7345228893415288
        ]
       ],
       "encoder": "json",
       "name": "ABC_GAN_1 Metrics",
       "version": 1
      }
     },
     "metadata": {
      "scrapbook": {
       "data": true,
       "display": false,
       "name": "ABC_GAN_1 Metrics"
      }
     },
     "output_type": "display_data"
    },
    {
     "name": "stdout",
     "output_type": "stream",
     "text": [
      "MSE\n",
      "0.1513871040008291\n"
     ]
    }
   ],
   "source": [
    "ABC_GAN1_metrics=ABC_train_test2.test_generator(gen,test_data,prior_model,variance,0,\"1\",device)\n",
    "sb.glue(\"ABC_GAN_1 Metrics\",ABC_GAN1_metrics)\n",
    "\n",
    "print(\"MSE\")\n",
    "print(mean(ABC_GAN1_metrics[0]))"
   ]
  },
  {
   "cell_type": "code",
   "execution_count": 14,
   "id": "eb22ce5c",
   "metadata": {
    "execution": {
     "iopub.execute_input": "2022-05-18T08:29:37.244560Z",
     "iopub.status.busy": "2022-05-18T08:29:37.244140Z",
     "iopub.status.idle": "2022-05-18T08:29:37.543390Z",
     "shell.execute_reply": "2022-05-18T08:29:37.543636Z"
    },
    "papermill": {
     "duration": 0.313375,
     "end_time": "2022-05-18T08:29:37.543772",
     "exception": false,
     "start_time": "2022-05-18T08:29:37.230397",
     "status": "completed"
    },
    "tags": []
   },
   "outputs": [
    {
     "data": {
      "image/png": "[encoded data removed]",
      "text/plain": [
       "<Figure size 432x288 with 1 Axes>"
      ]
     },
     "metadata": {
      "needs_background": "light"
     },
     "output_type": "display_data"
    },
    {
     "data": {
      "image/png": "[encoded data removed]",
      "text/plain": [
       "<Figure size 432x288 with 1 Axes>"
      ]
     },
     "metadata": {
      "needs_background": "light"
     },
     "output_type": "display_data"
    },
    {
     "data": {
      "image/png": "[encoded data removed]",
      "text/plain": [
       "<Figure size 432x288 with 1 Axes>"
      ]
     },
     "metadata": {
      "needs_background": "light"
     },
     "output_type": "display_data"
    },
    {
     "data": {
      "image/png": "[encoded data removed]",
      "text/plain": [
       "<Figure size 432x288 with 1 Axes>"
      ]
     },
     "metadata": {
      "needs_background": "light"
     },
     "output_type": "display_data"
    }
   ],
   "source": [
    "sanityChecks.discProbVsError(train_data,disc,device)\n",
    "sanityChecks.discProbVsError(test_data,disc,device)"
   ]
  },
  {
   "cell_type": "markdown",
   "id": "130f3a4d",
   "metadata": {
    "id": "130f3a4d",
    "papermill": {
     "duration": 0.01404,
     "end_time": "2022-05-18T08:29:37.572264",
     "exception": false,
     "start_time": "2022-05-18T08:29:37.558224",
     "status": "completed"
    },
    "tags": []
   },
   "source": [
    "# ABC - GAN Model with skip connection"
   ]
  },
  {
   "cell_type": "code",
   "execution_count": 15,
   "id": "4e43dad1",
   "metadata": {
    "execution": {
     "iopub.execute_input": "2022-05-18T08:29:37.603631Z",
     "iopub.status.busy": "2022-05-18T08:29:37.603248Z",
     "iopub.status.idle": "2022-05-18T08:29:37.605664Z",
     "shell.execute_reply": "2022-05-18T08:29:37.605911Z"
    },
    "id": "4e43dad1",
    "papermill": {
     "duration": 0.019689,
     "end_time": "2022-05-18T08:29:37.606023",
     "exception": false,
     "start_time": "2022-05-18T08:29:37.586334",
     "status": "completed"
    },
    "tags": []
   },
   "outputs": [],
   "source": [
    "#Generator\n",
    "gen3 = network.GeneratorWithSkipConnection(n_features+1).to(device)\n",
    "constraints=network.weightConstraint()\n",
    "#Discriminator \n",
    "disc3 = network.Discriminator(n_features+1).to(device)\n",
    "\n",
    "criterion = torch.nn.BCELoss()\n",
    "gen_opt = torch.optim.Adam(gen3.parameters(), lr=0.001, betas=(0.5, 0.999))\n",
    "disc_opt = torch.optim.Adam(disc3.parameters(), lr=0.001, betas=(0.5, 0.999))\n"
   ]
  },
  {
   "cell_type": "code",
   "execution_count": 16,
   "id": "26acbc37",
   "metadata": {
    "execution": {
     "iopub.execute_input": "2022-05-18T08:29:37.637053Z",
     "iopub.status.busy": "2022-05-18T08:29:37.636674Z",
     "iopub.status.idle": "2022-05-18T08:30:15.370565Z",
     "shell.execute_reply": "2022-05-18T08:30:15.370888Z"
    },
    "id": "26acbc37",
    "papermill": {
     "duration": 37.750637,
     "end_time": "2022-05-18T08:30:15.371023",
     "exception": false,
     "start_time": "2022-05-18T08:29:37.620386",
     "status": "completed"
    },
    "tags": []
   },
   "outputs": [
    {
     "data": {
      "image/png": "[encoded data removed]",
      "text/plain": [
       "<Figure size 432x288 with 1 Axes>"
      ]
     },
     "metadata": {
      "needs_background": "light"
     },
     "output_type": "display_data"
    },
    {
     "data": {
      "image/png": "[encoded data removed]",
      "text/plain": [
       "<Figure size 432x288 with 1 Axes>"
      ]
     },
     "metadata": {
      "needs_background": "light"
     },
     "output_type": "display_data"
    }
   ],
   "source": [
    "ABC_train_test2.training_GAN_skip_connection(disc3,gen3,disc_opt,gen_opt,train_data,batch_size,n_epochs,criterion,prior_model,variance,0,device)"
   ]
  },
  {
   "cell_type": "code",
   "execution_count": 17,
   "id": "c5e0717b",
   "metadata": {
    "execution": {
     "iopub.execute_input": "2022-05-18T08:30:15.404674Z",
     "iopub.status.busy": "2022-05-18T08:30:15.404219Z",
     "iopub.status.idle": "2022-05-18T08:30:15.680465Z",
     "shell.execute_reply": "2022-05-18T08:30:15.680714Z"
    },
    "id": "c5e0717b",
    "papermill": {
     "duration": 0.294563,
     "end_time": "2022-05-18T08:30:15.680841",
     "exception": false,
     "start_time": "2022-05-18T08:30:15.386278",
     "status": "completed"
    },
    "tags": []
   },
   "outputs": [
    {
     "data": {
      "application/scrapbook.scrap.json+json": {
       "data": 0.19610885602354025,
       "encoder": "json",
       "name": "ABC-GAN Model 3 MSE",
       "version": 1
      }
     },
     "metadata": {
      "scrapbook": {
       "data": true,
       "display": false,
       "name": "ABC-GAN Model 3 MSE"
      }
     },
     "output_type": "display_data"
    },
    {
     "data": {
      "application/scrapbook.scrap.json+json": {
       "data": 0.3905333499806002,
       "encoder": "json",
       "name": "ABC-GAN Model 3 MAE",
       "version": 1
      }
     },
     "metadata": {
      "scrapbook": {
       "data": true,
       "display": false,
       "name": "ABC-GAN Model 3 MAE"
      }
     },
     "output_type": "display_data"
    },
    {
     "data": {
      "application/scrapbook.scrap.json+json": {
       "data": 7.810666999612003,
       "encoder": "json",
       "name": "ABC-GAN Model 3 Manhattan Distance",
       "version": 1
      }
     },
     "metadata": {
      "scrapbook": {
       "data": true,
       "display": false,
       "name": "ABC-GAN Model 3 Manhattan Distance"
      }
     },
     "output_type": "display_data"
    },
    {
     "data": {
      "application/scrapbook.scrap.json+json": {
       "data": 1.9794121193384189,
       "encoder": "json",
       "name": "ABC-GAN Model 3 Euclidean distance",
       "version": 1
      }
     },
     "metadata": {
      "scrapbook": {
       "data": true,
       "display": false,
       "name": "ABC-GAN Model 3 Euclidean distance"
      }
     },
     "output_type": "display_data"
    },
    {
     "data": {
      "application/scrapbook.scrap.json+json": {
       "data": [
        [
         0.18674556282570637,
         0.19080175746357075,
         0.19116807368517136,
         0.18655502069417854,
         0.2227952196020469,
         0.20288775114496657,
         0.19639621839944174,
         0.19234993336188966,
         0.20902348484635463,
         0.21205017428638215,
         0.19783284001847318,
         0.18922595491156838,
         0.19860647056858877,
         0.21117663096112485,
         0.19353344094393318,
         0.18644593742562163,
         0.1979801076413359,
         0.19293807447311398,
         0.20372409042601558,
         0.18157077826748996,
         0.19294316139232234,
         0.20274150260650609,
         0.18001457177898209,
         0.18828970952052726,
         0.1881153770697343,
         0.2127595721311165,
         0.19997239613445225,
         0.19194819039137478,
         0.18970791211739774,
         0.22023531336723318,
         0.1940993249175192,
         0.18546947310381748,
         0.1940322337648188,
         0.18836803437162727,
         0.2107840535531395,
         0.20912445280800193,
         0.2009336098347286,
         0.17502001354981328,
         0.2035262998503014,
         0.19715040397251316,
         0.20537307518867776,
         0.1900647340214762,
         0.1960489146169798,
         0.2066929187679909,
         0.1904720975833131,
         0.1924365511188851,
         0.19608206184270388,
         0.199290788140518,
         0.21876474504925952,
         0.1993326284544931,
         0.17715832250895067,
         0.18298261818856076,
         0.1836076361636454,
         0.17920210783197849,
         0.2037594181142453,
         0.19370384323937823,
         0.1691365447247932,
         0.20366498408279265,
         0.1895121917760796,
         0.18636717254100257,
         0.203106096958278,
         0.21648759913002621,
         0.21030641515713894,
         0.17165917291954919,
         0.19121898640734009,
         0.1832912180686288,
         0.18533036034697897,
         0.19554163566129082,
         0.19617264250052852,
         0.18630128504877091,
         0.18838408487580335,
         0.18665732447337874,
         0.19430286710299208,
         0.1748825907075508,
         0.18489536551081245,
         0.20271046966743578,
         0.20628320246344262,
         0.19019560229600582,
         0.2126827423299423,
         0.18590010734590665,
         0.21753087802137472,
         0.2058075884525808,
         0.19486735501580701,
         0.1976594557463982,
         0.18842718928107366,
         0.24462250299362504,
         0.17839754983260298,
         0.21905528509166924,
         0.20165774685289758,
         0.20995344778314026,
         0.18890462772481337,
         0.2234581742690152,
         0.19449956663722506,
         0.19363764257456859,
         0.18297126240673295,
         0.20219674794021797,
         0.19975631772906927,
         0.2130854282494877,
         0.18300823832537474,
         0.17238234631592395
        ],
        [
         0.37954006125219164,
         0.3985369343776256,
         0.37674342510290443,
         0.3764335716608912,
         0.413915443373844,
         0.3983011778909713,
         0.39249331247992814,
         0.3893155923578888,
         0.39704736773855986,
         0.41465861243195834,
         0.3982715512160212,
         0.37056644265539945,
         0.3990852017421275,
         0.3958053417969495,
         0.3934970621485263,
         0.3814482102636248,
         0.39569854964502155,
         0.39147007768042386,
         0.39503811490722,
         0.38496024762280284,
         0.38659671586938205,
         0.40503267259337006,
         0.3754707755986601,
         0.37379134600050745,
         0.3909998743329197,
         0.41066706837154926,
         0.3890846233349293,
         0.3866912913043052,
         0.37994219702668486,
         0.4117769051808864,
         0.3932919301558286,
         0.3837809591088444,
         0.3911142796743661,
         0.38056441438384353,
         0.4072996194008738,
         0.402217521565035,
         0.3976293333340436,
         0.3702018075156957,
         0.40919208084233105,
         0.38077014018781485,
         0.39998670262284575,
         0.3827422980684787,
         0.3925925788003951,
         0.3950491957832128,
         0.3851140544284135,
         0.38657378223724664,
         0.3985030055511743,
         0.39216714021749793,
         0.418911872850731,
         0.3904582411516458,
         0.36533403885550797,
         0.380205910326913,
         0.38625630219466983,
         0.369858504505828,
         0.4025070153642446,
         0.39410429005511105,
         0.36426729601807895,
         0.39753014375455675,
         0.39147278969176114,
         0.38365601976402103,
         0.39809888121671977,
         0.40678299744613466,
         0.40988919329829515,
         0.3666898787487298,
         0.37288438794203105,
         0.3823230579961091,
         0.37390068364329637,
         0.3897049826104194,
         0.39630452715791764,
         0.3879234366584569,
         0.3758881872985512,
         0.3818872679490596,
         0.3827804394531995,
         0.37288715080358087,
         0.38194244117476045,
         0.39329621274955573,
         0.39468994704075155,
         0.3807029624003917,
         0.4033426762092859,
         0.37880296302028,
         0.4118793219793588,
         0.4023573268670589,
         0.37961195767857137,
         0.3937014524359256,
         0.38283907403238115,
         0.42348381360061466,
         0.3763766684103757,
         0.41494351369328797,
         0.4016505599487573,
         0.4012362773995847,
         0.3844712343532592,
         0.40707594794221225,
         0.3908018602523953,
         0.39564039749093355,
         0.3834839508403093,
         0.3859413505066186,
         0.38952932567335663,
         0.4130669098813087,
         0.37313896236009897,
         0.3651497815269977
        ],
        [
         7.590801225043833,
         7.970738687552512,
         7.534868502058089,
         7.5286714332178235,
         8.27830886747688,
         7.966023557819426,
         7.849866249598563,
         7.786311847157776,
         7.940947354771197,
         8.293172248639166,
         7.965431024320424,
         7.411328853107989,
         7.981704034842551,
         7.91610683593899,
         7.869941242970526,
         7.628964205272496,
         7.913970992900431,
         7.829401553608477,
         7.9007622981444,
         7.699204952456057,
         7.7319343173876405,
         8.100653451867402,
         7.509415511973202,
         7.4758269200101495,
         7.819997486658394,
         8.213341367430985,
         7.781692466698587,
         7.733825826086104,
         7.598843940533698,
         8.235538103617728,
         7.865838603116572,
         7.675619182176888,
         7.822285593487322,
         7.611288287676871,
         8.145992388017476,
         8.0443504313007,
         7.952586666680872,
         7.404036150313914,
         8.183841616846621,
         7.615402803756297,
         7.999734052456915,
         7.654845961369574,
         7.851851576007903,
         7.900983915664256,
         7.70228108856827,
         7.731475644744933,
         7.970060111023486,
         7.843342804349959,
         8.37823745701462,
         7.809164823032916,
         7.306680777110159,
         7.60411820653826,
         7.725126043893397,
         7.3971700901165605,
         8.050140307284892,
         7.882085801102221,
         7.2853459203615785,
         7.9506028750911355,
         7.829455793835223,
         7.673120395280421,
         7.961977624334395,
         8.135659948922694,
         8.197783865965903,
         7.3337975749745965,
         7.4576877588406205,
         7.646461159922183,
         7.478013672865927,
         7.794099652208388,
         7.926090543158352,
         7.758468733169138,
         7.517763745971024,
         7.637745358981192,
         7.65560878906399,
         7.457743016071618,
         7.638848823495209,
         7.865924254991114,
         7.8937989408150315,
         7.614059248007834,
         8.066853524185717,
         7.5760592604056,
         8.237586439587176,
         8.047146537341177,
         7.592239153571427,
         7.874029048718512,
         7.6567814806476235,
         8.469676272012293,
         7.527533368207514,
         8.29887027386576,
         8.033011198975146,
         8.024725547991693,
         7.689424687065184,
         8.141518958844244,
         7.8160372050479054,
         7.912807949818671,
         7.669679016806185,
         7.718827010132372,
         7.790586513467133,
         8.261338197626173,
         7.462779247201979,
         7.302995630539954
        ],
        [
         1.9325918494379843,
         1.9534674681886603,
         1.9553417792558485,
         1.931605656929895,
         2.110901322194133,
         2.0143870092162857,
         1.981899182095001,
         1.9613767275150873,
         2.04461969493769,
         2.0593696816569005,
         1.9891346863320905,
         1.9453840490328298,
         1.9930201733479205,
         2.0551235046153544,
         1.9674015398181082,
         1.931040845894367,
         1.9898749088389243,
         1.964373052518864,
         2.018534569562858,
         1.9056273416777474,
         1.9643989482400073,
         2.0136608582703595,
         1.8974433945653404,
         1.9405654305924718,
         1.93966686350896,
         2.06281153831908,
         1.9998619759095988,
         1.9593273865864007,
         1.9478599134301098,
         2.0987392089882593,
         1.9702757417047958,
         1.925977534156707,
         1.9699351957098425,
         1.9409690073343637,
         2.053212378460346,
         2.045113458016459,
         2.0046626141808934,
         1.8709356672521549,
         2.0175544594895145,
         1.9857009038247082,
         2.0266873226458872,
         1.9496909192047656,
         1.9801460280341943,
         2.033189212877104,
         1.9517791759485144,
         1.9618182949441831,
         1.9803134188441176,
         1.9964507914823146,
         2.091720559966171,
         1.9966603539635532,
         1.8823300587779535,
         1.9130217886295011,
         1.916286179899262,
         1.8931566645789168,
         2.0187095784894136,
         1.9682674779581064,
         1.8392201865181514,
         2.0182417302334854,
         1.9468548573331275,
         1.9306329145697405,
         2.0154706495420767,
         2.0808056090371645,
         2.0508847610586947,
         1.8528851713991843,
         1.9556021395331933,
         1.9146342630833117,
         1.925255101782509,
         1.9775825427086011,
         1.980770771697364,
         1.9302916103468453,
         1.9410516988261974,
         1.9321352151098468,
         1.9713085354808977,
         1.8702010090230987,
         1.9229943604223723,
         2.013506740328603,
         2.031173072209469,
         1.950362029449947,
         2.0624390528204333,
         1.928212163357065,
         2.085813404987966,
         2.0288301479058357,
         1.9741699775642776,
         1.9882628384919243,
         1.9412737533952993,
         2.2118883470628665,
         1.888902061159355,
         2.09310909936233,
         2.008271629301662,
         2.049162989042796,
         1.9437316055711673,
         2.114039613011143,
         1.9723060950938882,
         1.9679311094373633,
         1.912962427266845,
         2.010953743576505,
         1.9987812172875212,
         2.0643906037835364,
         1.9131557089028313,
         1.8567840279145227
        ]
       ],
       "encoder": "json",
       "name": "ABC_GAN_3 Metrics",
       "version": 1
      }
     },
     "metadata": {
      "scrapbook": {
       "data": true,
       "display": false,
       "name": "ABC_GAN_3 Metrics"
      }
     },
     "output_type": "display_data"
    },
    {
     "name": "stdout",
     "output_type": "stream",
     "text": [
      "MSE\n",
      "0.19610885602354025\n"
     ]
    }
   ],
   "source": [
    "ABC_GAN3_metrics=ABC_train_test2.test_generator(gen3,test_data,prior_model,variance,0,\"3\",device)\n",
    "sb.glue(\"ABC_GAN_3 Metrics\",ABC_GAN3_metrics)\n",
    "\n",
    "print(\"MSE\")\n",
    "print(mean(ABC_GAN3_metrics[0]))"
   ]
  },
  {
   "cell_type": "code",
   "execution_count": 18,
   "id": "c8e46b48",
   "metadata": {
    "execution": {
     "iopub.execute_input": "2022-05-18T08:30:15.742407Z",
     "iopub.status.busy": "2022-05-18T08:30:15.742020Z",
     "iopub.status.idle": "2022-05-18T08:30:16.163924Z",
     "shell.execute_reply": "2022-05-18T08:30:16.164242Z"
    },
    "id": "c8e46b48",
    "papermill": {
     "duration": 0.442561,
     "end_time": "2022-05-18T08:30:16.164370",
     "exception": false,
     "start_time": "2022-05-18T08:30:15.721809",
     "status": "completed"
    },
    "tags": []
   },
   "outputs": [
    {
     "data": {
      "image/png": "[encoded data removed]",
      "text/plain": [
       "<Figure size 432x288 with 1 Axes>"
      ]
     },
     "metadata": {
      "needs_background": "light"
     },
     "output_type": "display_data"
    },
    {
     "data": {
      "image/png": "[encoded data removed]",
      "text/plain": [
       "<Figure size 432x288 with 1 Axes>"
      ]
     },
     "metadata": {
      "needs_background": "light"
     },
     "output_type": "display_data"
    },
    {
     "data": {
      "image/png": "[encoded data removed]",
      "text/plain": [
       "<Figure size 432x288 with 1 Axes>"
      ]
     },
     "metadata": {
      "needs_background": "light"
     },
     "output_type": "display_data"
    },
    {
     "data": {
      "image/png": "[encoded data removed]",
      "text/plain": [
       "<Figure size 432x288 with 1 Axes>"
      ]
     },
     "metadata": {
      "needs_background": "light"
     },
     "output_type": "display_data"
    }
   ],
   "source": [
    "sanityChecks.discProbVsError(train_data,disc3,device)\n",
    "sanityChecks.discProbVsError(test_data,disc3,device)"
   ]
  },
  {
   "cell_type": "markdown",
   "id": "a5bd74c3",
   "metadata": {
    "id": "a5bd74c3",
    "papermill": {
     "duration": 0.018989,
     "end_time": "2022-05-18T08:30:16.202699",
     "exception": false,
     "start_time": "2022-05-18T08:30:16.183710",
     "status": "completed"
    },
    "tags": []
   },
   "source": [
    "## Skip Connection Model Analysis - ABC-GAN "
   ]
  },
  {
   "cell_type": "markdown",
   "id": "5744a8bf",
   "metadata": {
    "id": "5744a8bf",
    "papermill": {
     "duration": 0.018981,
     "end_time": "2022-05-18T08:30:16.240802",
     "exception": false,
     "start_time": "2022-05-18T08:30:16.221821",
     "status": "completed"
    },
    "tags": []
   },
   "source": [
    "### Weight Analysis \n",
    "\n",
    "Study the weights of the skip connection layer\n",
    "\n",
    "Equation of the skip connection is \n",
    "\n",
    "$output = y_{gan} * w + y_{abc} * (1-w)$"
   ]
  },
  {
   "cell_type": "code",
   "execution_count": 19,
   "id": "52c31dea",
   "metadata": {
    "execution": {
     "iopub.execute_input": "2022-05-18T08:30:16.282202Z",
     "iopub.status.busy": "2022-05-18T08:30:16.281818Z",
     "iopub.status.idle": "2022-05-18T08:30:16.285128Z",
     "shell.execute_reply": "2022-05-18T08:30:16.285365Z"
    },
    "id": "52c31dea",
    "papermill": {
     "duration": 0.02558,
     "end_time": "2022-05-18T08:30:16.285486",
     "exception": false,
     "start_time": "2022-05-18T08:30:16.259906",
     "status": "completed"
    },
    "tags": []
   },
   "outputs": [
    {
     "name": "stdout",
     "output_type": "stream",
     "text": [
      "Weight of the node at skip connection\n",
      "Parameter containing:\n",
      "tensor([[0.1930]], requires_grad=True)\n"
     ]
    },
    {
     "data": {
      "application/scrapbook.scrap.json+json": {
       "data": 0.19302743673324585,
       "encoder": "json",
       "name": "Skip Connection Weight",
       "version": 1
      }
     },
     "metadata": {
      "scrapbook": {
       "data": true,
       "display": false,
       "name": "Skip Connection Weight"
      }
     },
     "output_type": "display_data"
    }
   ],
   "source": [
    "print(\"Weight of the node at skip connection\")\n",
    "for name,param in gen3.named_parameters():\n",
    "    if(name == \"skipNode.weight\"):\n",
    "        print(param)\n",
    "        sb.glue(\"Skip Connection Weight\",param.item())"
   ]
  }
 ],
 "metadata": {
  "colab": {
   "collapsed_sections": [],
   "name": "ABC_GAN_Model-Catboost_Pre-gen.ipynb",
   "provenance": []
  },
  "interpreter": {
   "hash": "31f2aee4e71d21fbe5cf8b01ff0e069b9275f58929596ceb00d14d90e3e16cd6"
  },
  "kernelspec": {
   "display_name": "Python 3 (ipykernel)",
   "language": "python",
   "name": "python3"
  },
  "language_info": {
   "codemirror_mode": {
    "name": "ipython",
    "version": 3
   },
   "file_extension": ".py",
   "mimetype": "text/x-python",
   "name": "python",
   "nbconvert_exporter": "python",
   "pygments_lexer": "ipython3",
   "version": "3.8.11"
  },
  "papermill": {
   "default_parameters": {},
   "duration": 56.845994,
   "end_time": "2022-05-18T08:30:16.613525",
   "environment_variables": {},
   "exception": null,
   "input_path": "ABC_GAN-Catboost.ipynb",
   "output_path": "./ABC_GAN_Catboost/ABC-GAN_output_3_1.ipynb",
   "parameters": {
    "variance": 0.1
   },
   "start_time": "2022-05-18T08:29:19.767531",
   "version": "2.3.3"
  }
 },
 "nbformat": 4,
 "nbformat_minor": 5
}