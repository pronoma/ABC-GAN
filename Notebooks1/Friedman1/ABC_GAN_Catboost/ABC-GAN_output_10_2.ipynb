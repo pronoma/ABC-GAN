{
 "cells": [
  {
   "cell_type": "markdown",
   "id": "622780e6",
   "metadata": {
    "id": "622780e6",
    "papermill": {
     "duration": 0.027393,
     "end_time": "2022-05-18T08:50:46.814010",
     "exception": false,
     "start_time": "2022-05-18T08:50:46.786617",
     "status": "completed"
    },
    "tags": []
   },
   "source": [
    "## Import Libraries "
   ]
  },
  {
   "cell_type": "code",
   "execution_count": 1,
   "id": "a62397e3",
   "metadata": {
    "execution": {
     "iopub.execute_input": "2022-05-18T08:50:46.856072Z",
     "iopub.status.busy": "2022-05-18T08:50:46.854945Z",
     "iopub.status.idle": "2022-05-18T08:50:46.858927Z",
     "shell.execute_reply": "2022-05-18T08:50:46.858496Z"
    },
    "id": "a62397e3",
    "papermill": {
     "duration": 0.027673,
     "end_time": "2022-05-18T08:50:46.859090",
     "exception": false,
     "start_time": "2022-05-18T08:50:46.831417",
     "status": "completed"
    },
    "tags": []
   },
   "outputs": [],
   "source": [
    "import warnings\n",
    "import sys\n",
    "sys.path.insert(0, '../../src')\n",
    "warnings.filterwarnings('ignore')"
   ]
  },
  {
   "cell_type": "code",
   "execution_count": 2,
   "id": "d6a4e155",
   "metadata": {
    "execution": {
     "iopub.execute_input": "2022-05-18T08:50:46.879451Z",
     "iopub.status.busy": "2022-05-18T08:50:46.879041Z",
     "iopub.status.idle": "2022-05-18T08:50:48.735288Z",
     "shell.execute_reply": "2022-05-18T08:50:48.735557Z"
    },
    "id": "d6a4e155",
    "papermill": {
     "duration": 1.867135,
     "end_time": "2022-05-18T08:50:48.735684",
     "exception": false,
     "start_time": "2022-05-18T08:50:46.868549",
     "status": "completed"
    },
    "tags": []
   },
   "outputs": [],
   "source": [
    "import ABC_train_test2\n",
    "import friedman1Dataset\n",
    "import network\n",
    "import dataset\n",
    "import sanityChecks\n",
    "import torch \n",
    "import scrapbook as sb\n",
    "from statistics import mean \n",
    "import catboost as ctb \n",
    "from sklearn.model_selection import train_test_split\n",
    "from sklearn.metrics import mean_squared_error,mean_absolute_error\n",
    "import numpy as np"
   ]
  },
  {
   "cell_type": "markdown",
   "id": "2fa5b0f7",
   "metadata": {
    "id": "2fa5b0f7",
    "papermill": {
     "duration": 0.007092,
     "end_time": "2022-05-18T08:50:48.750301",
     "exception": false,
     "start_time": "2022-05-18T08:50:48.743209",
     "status": "completed"
    },
    "tags": []
   },
   "source": [
    "## Parameters "
   ]
  },
  {
   "cell_type": "code",
   "execution_count": 3,
   "id": "783186fb",
   "metadata": {
    "execution": {
     "iopub.execute_input": "2022-05-18T08:50:48.766747Z",
     "iopub.status.busy": "2022-05-18T08:50:48.766361Z",
     "iopub.status.idle": "2022-05-18T08:50:48.767584Z",
     "shell.execute_reply": "2022-05-18T08:50:48.767838Z"
    },
    "id": "783186fb",
    "papermill": {
     "duration": 0.010586,
     "end_time": "2022-05-18T08:50:48.767948",
     "exception": false,
     "start_time": "2022-05-18T08:50:48.757362",
     "status": "completed"
    },
    "tags": [
     "parameters"
    ]
   },
   "outputs": [],
   "source": [
    "variance = 1"
   ]
  },
  {
   "cell_type": "code",
   "execution_count": 4,
   "id": "5b28ae7f",
   "metadata": {
    "execution": {
     "iopub.execute_input": "2022-05-18T08:50:48.784265Z",
     "iopub.status.busy": "2022-05-18T08:50:48.783858Z",
     "iopub.status.idle": "2022-05-18T08:50:48.785230Z",
     "shell.execute_reply": "2022-05-18T08:50:48.785476Z"
    },
    "papermill": {
     "duration": 0.010412,
     "end_time": "2022-05-18T08:50:48.785587",
     "exception": false,
     "start_time": "2022-05-18T08:50:48.775175",
     "status": "completed"
    },
    "tags": [
     "injected-parameters"
    ]
   },
   "outputs": [],
   "source": [
    "# Parameters\n",
    "variance = 0.01\n"
   ]
  },
  {
   "cell_type": "markdown",
   "id": "391cdbfd",
   "metadata": {
    "id": "391cdbfd",
    "papermill": {
     "duration": 0.007194,
     "end_time": "2022-05-18T08:50:48.800015",
     "exception": false,
     "start_time": "2022-05-18T08:50:48.792821",
     "status": "completed"
    },
    "tags": []
   },
   "source": [
    "## Dataset \n"
   ]
  },
  {
   "cell_type": "code",
   "execution_count": 5,
   "id": "5b51f161",
   "metadata": {
    "execution": {
     "iopub.execute_input": "2022-05-18T08:50:48.816963Z",
     "iopub.status.busy": "2022-05-18T08:50:48.816575Z",
     "iopub.status.idle": "2022-05-18T08:50:48.817974Z",
     "shell.execute_reply": "2022-05-18T08:50:48.818247Z"
    },
    "id": "5b51f161",
    "papermill": {
     "duration": 0.010981,
     "end_time": "2022-05-18T08:50:48.818377",
     "exception": false,
     "start_time": "2022-05-18T08:50:48.807396",
     "status": "completed"
    },
    "tags": []
   },
   "outputs": [],
   "source": [
    "#Parameters \n",
    "n_features = 5\n",
    "n_samples= 100\n",
    "n_target = 1 "
   ]
  },
  {
   "cell_type": "code",
   "execution_count": 6,
   "id": "5d6eced4",
   "metadata": {
    "execution": {
     "iopub.execute_input": "2022-05-18T08:50:48.837086Z",
     "iopub.status.busy": "2022-05-18T08:50:48.835554Z",
     "iopub.status.idle": "2022-05-18T08:50:48.842326Z",
     "shell.execute_reply": "2022-05-18T08:50:48.842581Z"
    },
    "id": "5d6eced4",
    "papermill": {
     "duration": 0.016696,
     "end_time": "2022-05-18T08:50:48.842706",
     "exception": false,
     "start_time": "2022-05-18T08:50:48.826010",
     "status": "completed"
    },
    "tags": []
   },
   "outputs": [
    {
     "name": "stdout",
     "output_type": "stream",
     "text": [
      "         X0        X1        X2        X3        X4         Y\n",
      "0 -0.428063 -0.104320 -0.465281 -0.629000  0.125297 -0.595759\n",
      "1 -1.231518  0.285926  1.575078  0.054934  1.653572  0.476330\n",
      "2  1.642889 -0.343534  0.386736  0.255605 -0.730584  0.576833\n",
      "3  0.282025  1.672047  0.127473 -1.080183 -0.185335 -0.050177\n",
      "4 -1.230848  1.693142 -1.769837  1.151793 -0.768205  0.989942\n"
     ]
    }
   ],
   "source": [
    "X,Y = friedman1Dataset.friedman1_data(n_samples,n_features)"
   ]
  },
  {
   "cell_type": "code",
   "execution_count": 7,
   "id": "fe007438",
   "metadata": {
    "execution": {
     "iopub.execute_input": "2022-05-18T08:50:48.860649Z",
     "iopub.status.busy": "2022-05-18T08:50:48.860244Z",
     "iopub.status.idle": "2022-05-18T08:50:48.861768Z",
     "shell.execute_reply": "2022-05-18T08:50:48.862023Z"
    },
    "id": "fe007438",
    "papermill": {
     "duration": 0.011637,
     "end_time": "2022-05-18T08:50:48.862133",
     "exception": false,
     "start_time": "2022-05-18T08:50:48.850496",
     "status": "completed"
    },
    "tags": []
   },
   "outputs": [],
   "source": [
    "#Train test split for dataset \n",
    "X_train,X_test,Y_train,Y_test = train_test_split(X,Y,test_size = 0.2)\n",
    "train_data = dataset.CustomDataset(X_train,Y_train)\n",
    "test_data = dataset.CustomDataset(X_test,Y_test)\n"
   ]
  },
  {
   "cell_type": "markdown",
   "id": "a9a1af34",
   "metadata": {
    "id": "a9a1af34",
    "papermill": {
     "duration": 0.007444,
     "end_time": "2022-05-18T08:50:48.877089",
     "exception": false,
     "start_time": "2022-05-18T08:50:48.869645",
     "status": "completed"
    },
    "tags": []
   },
   "source": [
    "## Training Parameters "
   ]
  },
  {
   "cell_type": "code",
   "execution_count": 8,
   "id": "952b7fc8",
   "metadata": {
    "execution": {
     "iopub.execute_input": "2022-05-18T08:50:48.894462Z",
     "iopub.status.busy": "2022-05-18T08:50:48.893985Z",
     "iopub.status.idle": "2022-05-18T08:50:48.895474Z",
     "shell.execute_reply": "2022-05-18T08:50:48.895720Z"
    },
    "id": "952b7fc8",
    "papermill": {
     "duration": 0.011329,
     "end_time": "2022-05-18T08:50:48.895834",
     "exception": false,
     "start_time": "2022-05-18T08:50:48.884505",
     "status": "completed"
    },
    "tags": []
   },
   "outputs": [],
   "source": [
    "batch_size = 32\n",
    "n_epochs = 1000\n",
    "#Select the device \n",
    "device = torch.device('cuda' if torch.cuda.is_available() else 'cpu')"
   ]
  },
  {
   "cell_type": "markdown",
   "id": "a95e1600",
   "metadata": {
    "id": "a95e1600",
    "papermill": {
     "duration": 0.007468,
     "end_time": "2022-05-18T08:50:48.910954",
     "exception": false,
     "start_time": "2022-05-18T08:50:48.903486",
     "status": "completed"
    },
    "tags": []
   },
   "source": [
    "# ABC Pre-generator Model \n",
    "\n",
    "1. The catboost model is used as a pre-generator model for the ABC-GAN. \n",
    "2. The model is first trained on the entire dataset \n",
    "3. It generats X,Y pairs and we add some Gaussian noise with mean 0 and variance 1 to it which is then feed as input to the generator.\n"
   ]
  },
  {
   "cell_type": "code",
   "execution_count": 9,
   "id": "ff8ce7bd",
   "metadata": {
    "execution": {
     "iopub.execute_input": "2022-05-18T08:50:48.929895Z",
     "iopub.status.busy": "2022-05-18T08:50:48.929489Z",
     "iopub.status.idle": "2022-05-18T08:50:49.573396Z",
     "shell.execute_reply": "2022-05-18T08:50:49.573717Z"
    },
    "id": "ff8ce7bd",
    "papermill": {
     "duration": 0.655391,
     "end_time": "2022-05-18T08:50:49.573839",
     "exception": false,
     "start_time": "2022-05-18T08:50:48.918448",
     "status": "completed"
    },
    "tags": []
   },
   "outputs": [
    {
     "name": "stdout",
     "output_type": "stream",
     "text": [
      "Learning rate set to 0.024897\n",
      "0:\tlearn: 1.0098134\ttotal: 66.4ms\tremaining: 1m 6s\n",
      "1:\tlearn: 1.0011153\ttotal: 67ms\tremaining: 33.5s\n",
      "2:\tlearn: 0.9895371\ttotal: 67.6ms\tremaining: 22.5s\n",
      "3:\tlearn: 0.9784832\ttotal: 68.2ms\tremaining: 17s\n",
      "4:\tlearn: 0.9703092\ttotal: 68.7ms\tremaining: 13.7s\n",
      "5:\tlearn: 0.9620849\ttotal: 69ms\tremaining: 11.4s\n",
      "6:\tlearn: 0.9508839\ttotal: 69.4ms\tremaining: 9.84s\n",
      "7:\tlearn: 0.9412387\ttotal: 70ms\tremaining: 8.68s\n",
      "8:\tlearn: 0.9323271\ttotal: 70.7ms\tremaining: 7.79s\n",
      "9:\tlearn: 0.9242951\ttotal: 71.2ms\tremaining: 7.05s\n",
      "10:\tlearn: 0.9154658\ttotal: 71.7ms\tremaining: 6.45s\n",
      "11:\tlearn: 0.9054351\ttotal: 72.2ms\tremaining: 5.94s\n",
      "12:\tlearn: 0.8956737\ttotal: 72.5ms\tremaining: 5.5s\n",
      "13:\tlearn: 0.8864426\ttotal: 72.9ms\tremaining: 5.14s\n",
      "14:\tlearn: 0.8796807\ttotal: 73.5ms\tremaining: 4.83s\n",
      "15:\tlearn: 0.8724464\ttotal: 74ms\tremaining: 4.55s\n",
      "16:\tlearn: 0.8647354\ttotal: 74.4ms\tremaining: 4.3s\n",
      "17:\tlearn: 0.8574432\ttotal: 74.9ms\tremaining: 4.08s\n",
      "18:\tlearn: 0.8483294\ttotal: 75.4ms\tremaining: 3.89s\n",
      "19:\tlearn: 0.8396394\ttotal: 75.9ms\tremaining: 3.72s\n",
      "20:\tlearn: 0.8316184\ttotal: 76.5ms\tremaining: 3.56s\n",
      "21:\tlearn: 0.8235329\ttotal: 77ms\tremaining: 3.42s\n",
      "22:\tlearn: 0.8141341\ttotal: 77.4ms\tremaining: 3.29s\n",
      "23:\tlearn: 0.8071652\ttotal: 78ms\tremaining: 3.17s\n",
      "24:\tlearn: 0.7992838\ttotal: 78.5ms\tremaining: 3.06s\n",
      "25:\tlearn: 0.7925322\ttotal: 79ms\tremaining: 2.96s\n",
      "26:\tlearn: 0.7852569\ttotal: 79.5ms\tremaining: 2.87s\n",
      "27:\tlearn: 0.7771624\ttotal: 80ms\tremaining: 2.78s\n",
      "28:\tlearn: 0.7695019\ttotal: 80.5ms\tremaining: 2.7s\n",
      "29:\tlearn: 0.7619234\ttotal: 80.9ms\tremaining: 2.62s\n",
      "30:\tlearn: 0.7551007\ttotal: 82.2ms\tremaining: 2.57s\n",
      "31:\tlearn: 0.7473034\ttotal: 82.7ms\tremaining: 2.5s\n",
      "32:\tlearn: 0.7409341\ttotal: 83.3ms\tremaining: 2.44s\n",
      "33:\tlearn: 0.7343289\ttotal: 83.8ms\tremaining: 2.38s\n",
      "34:\tlearn: 0.7279845\ttotal: 84.5ms\tremaining: 2.33s\n",
      "35:\tlearn: 0.7225955\ttotal: 85ms\tremaining: 2.28s\n",
      "36:\tlearn: 0.7150630\ttotal: 91ms\tremaining: 2.37s\n",
      "37:\tlearn: 0.7085561\ttotal: 91.5ms\tremaining: 2.32s\n",
      "38:\tlearn: 0.7029324\ttotal: 92ms\tremaining: 2.27s\n",
      "39:\tlearn: 0.6961505\ttotal: 92.5ms\tremaining: 2.22s\n",
      "40:\tlearn: 0.6895704\ttotal: 92.9ms\tremaining: 2.17s\n",
      "41:\tlearn: 0.6834339\ttotal: 93.4ms\tremaining: 2.13s\n",
      "42:\tlearn: 0.6776780\ttotal: 93.9ms\tremaining: 2.09s\n",
      "43:\tlearn: 0.6708569\ttotal: 94.4ms\tremaining: 2.05s\n",
      "44:\tlearn: 0.6635691\ttotal: 94.8ms\tremaining: 2.01s\n",
      "45:\tlearn: 0.6578165\ttotal: 95.3ms\tremaining: 1.98s\n",
      "46:\tlearn: 0.6523141\ttotal: 95.8ms\tremaining: 1.94s\n",
      "47:\tlearn: 0.6468901\ttotal: 96.5ms\tremaining: 1.91s\n",
      "48:\tlearn: 0.6409737\ttotal: 97ms\tremaining: 1.88s\n",
      "49:\tlearn: 0.6347266\ttotal: 97.5ms\tremaining: 1.85s\n",
      "50:\tlearn: 0.6299709\ttotal: 98.1ms\tremaining: 1.83s\n",
      "51:\tlearn: 0.6239441\ttotal: 98.7ms\tremaining: 1.8s\n",
      "52:\tlearn: 0.6173235\ttotal: 99.3ms\tremaining: 1.77s\n",
      "53:\tlearn: 0.6119213\ttotal: 99.9ms\tremaining: 1.75s\n",
      "54:\tlearn: 0.6059518\ttotal: 100ms\tremaining: 1.72s\n",
      "55:\tlearn: 0.6013967\ttotal: 101ms\tremaining: 1.7s\n",
      "56:\tlearn: 0.5964867\ttotal: 102ms\tremaining: 1.68s\n",
      "57:\tlearn: 0.5916297\ttotal: 102ms\tremaining: 1.66s\n",
      "58:\tlearn: 0.5858827\ttotal: 102ms\tremaining: 1.63s\n",
      "59:\tlearn: 0.5808696\ttotal: 103ms\tremaining: 1.61s\n",
      "60:\tlearn: 0.5760410\ttotal: 103ms\tremaining: 1.59s\n",
      "61:\tlearn: 0.5709449\ttotal: 104ms\tremaining: 1.57s\n",
      "62:\tlearn: 0.5662073\ttotal: 104ms\tremaining: 1.55s\n",
      "63:\tlearn: 0.5614207\ttotal: 105ms\tremaining: 1.53s\n"
     ]
    },
    {
     "name": "stdout",
     "output_type": "stream",
     "text": [
      "64:\tlearn: 0.5566141\ttotal: 105ms\tremaining: 1.51s\n",
      "65:\tlearn: 0.5516147\ttotal: 106ms\tremaining: 1.5s\n",
      "66:\tlearn: 0.5469634\ttotal: 106ms\tremaining: 1.48s\n",
      "67:\tlearn: 0.5430159\ttotal: 107ms\tremaining: 1.47s\n",
      "68:\tlearn: 0.5382910\ttotal: 107ms\tremaining: 1.45s\n",
      "69:\tlearn: 0.5332180\ttotal: 108ms\tremaining: 1.43s\n",
      "70:\tlearn: 0.5293352\ttotal: 108ms\tremaining: 1.42s\n",
      "71:\tlearn: 0.5260366\ttotal: 109ms\tremaining: 1.4s\n",
      "72:\tlearn: 0.5212995\ttotal: 109ms\tremaining: 1.39s\n",
      "73:\tlearn: 0.5166203\ttotal: 110ms\tremaining: 1.37s\n",
      "74:\tlearn: 0.5118202\ttotal: 110ms\tremaining: 1.36s\n",
      "75:\tlearn: 0.5076242\ttotal: 111ms\tremaining: 1.34s\n",
      "76:\tlearn: 0.5044110\ttotal: 111ms\tremaining: 1.33s\n",
      "77:\tlearn: 0.5004487\ttotal: 112ms\tremaining: 1.32s\n",
      "78:\tlearn: 0.4971478\ttotal: 112ms\tremaining: 1.31s\n",
      "79:\tlearn: 0.4927511\ttotal: 112ms\tremaining: 1.29s\n",
      "80:\tlearn: 0.4886414\ttotal: 113ms\tremaining: 1.28s\n",
      "81:\tlearn: 0.4845970\ttotal: 113ms\tremaining: 1.27s\n",
      "82:\tlearn: 0.4805265\ttotal: 114ms\tremaining: 1.26s\n",
      "83:\tlearn: 0.4757940\ttotal: 114ms\tremaining: 1.25s\n",
      "84:\tlearn: 0.4718735\ttotal: 115ms\tremaining: 1.24s\n",
      "85:\tlearn: 0.4683262\ttotal: 115ms\tremaining: 1.23s\n",
      "86:\tlearn: 0.4646559\ttotal: 116ms\tremaining: 1.22s\n",
      "87:\tlearn: 0.4613081\ttotal: 116ms\tremaining: 1.21s\n",
      "88:\tlearn: 0.4576797\ttotal: 117ms\tremaining: 1.19s\n",
      "89:\tlearn: 0.4545336\ttotal: 117ms\tremaining: 1.18s\n",
      "90:\tlearn: 0.4508255\ttotal: 117ms\tremaining: 1.17s\n",
      "91:\tlearn: 0.4475539\ttotal: 118ms\tremaining: 1.16s\n",
      "92:\tlearn: 0.4435815\ttotal: 118ms\tremaining: 1.15s\n",
      "93:\tlearn: 0.4396877\ttotal: 119ms\tremaining: 1.14s\n",
      "94:\tlearn: 0.4359174\ttotal: 119ms\tremaining: 1.13s\n",
      "95:\tlearn: 0.4328533\ttotal: 119ms\tremaining: 1.13s\n",
      "96:\tlearn: 0.4296232\ttotal: 120ms\tremaining: 1.11s\n",
      "97:\tlearn: 0.4265208\ttotal: 120ms\tremaining: 1.11s\n",
      "98:\tlearn: 0.4233910\ttotal: 121ms\tremaining: 1.1s\n",
      "99:\tlearn: 0.4198369\ttotal: 121ms\tremaining: 1.09s\n",
      "100:\tlearn: 0.4163787\ttotal: 122ms\tremaining: 1.08s\n",
      "101:\tlearn: 0.4128357\ttotal: 122ms\tremaining: 1.07s\n",
      "102:\tlearn: 0.4101979\ttotal: 123ms\tremaining: 1.07s\n",
      "103:\tlearn: 0.4070645\ttotal: 123ms\tremaining: 1.06s\n",
      "104:\tlearn: 0.4044050\ttotal: 124ms\tremaining: 1.05s\n",
      "105:\tlearn: 0.4013881\ttotal: 124ms\tremaining: 1.05s\n",
      "106:\tlearn: 0.3982758\ttotal: 125ms\tremaining: 1.04s\n",
      "107:\tlearn: 0.3954885\ttotal: 125ms\tremaining: 1.03s\n",
      "108:\tlearn: 0.3933735\ttotal: 125ms\tremaining: 1.02s\n",
      "109:\tlearn: 0.3901742\ttotal: 126ms\tremaining: 1.02s\n",
      "110:\tlearn: 0.3868565\ttotal: 126ms\tremaining: 1.01s\n",
      "111:\tlearn: 0.3835458\ttotal: 127ms\tremaining: 1.01s\n",
      "112:\tlearn: 0.3805244\ttotal: 128ms\tremaining: 1s\n",
      "113:\tlearn: 0.3774169\ttotal: 128ms\tremaining: 996ms\n",
      "114:\tlearn: 0.3744073\ttotal: 129ms\tremaining: 990ms\n",
      "115:\tlearn: 0.3716224\ttotal: 129ms\tremaining: 985ms\n",
      "116:\tlearn: 0.3690594\ttotal: 130ms\tremaining: 979ms\n",
      "117:\tlearn: 0.3661157\ttotal: 130ms\tremaining: 973ms\n",
      "118:\tlearn: 0.3636408\ttotal: 131ms\tremaining: 969ms\n",
      "119:\tlearn: 0.3612807\ttotal: 131ms\tremaining: 964ms\n",
      "120:\tlearn: 0.3584859\ttotal: 132ms\tremaining: 959ms\n",
      "121:\tlearn: 0.3559321\ttotal: 132ms\tremaining: 953ms\n",
      "122:\tlearn: 0.3538289\ttotal: 133ms\tremaining: 946ms\n",
      "123:\tlearn: 0.3513612\ttotal: 133ms\tremaining: 942ms\n",
      "124:\tlearn: 0.3487162\ttotal: 134ms\tremaining: 937ms\n",
      "125:\tlearn: 0.3460455\ttotal: 134ms\tremaining: 931ms\n",
      "126:\tlearn: 0.3431762\ttotal: 135ms\tremaining: 925ms\n",
      "127:\tlearn: 0.3407336\ttotal: 135ms\tremaining: 920ms\n",
      "128:\tlearn: 0.3379241\ttotal: 136ms\tremaining: 915ms\n",
      "129:\tlearn: 0.3357174\ttotal: 136ms\tremaining: 911ms\n",
      "130:\tlearn: 0.3336050\ttotal: 136ms\tremaining: 905ms\n",
      "131:\tlearn: 0.3313957\ttotal: 137ms\tremaining: 902ms\n",
      "132:\tlearn: 0.3288690\ttotal: 138ms\tremaining: 897ms\n",
      "133:\tlearn: 0.3266019\ttotal: 139ms\tremaining: 898ms\n",
      "134:\tlearn: 0.3240836\ttotal: 139ms\tremaining: 893ms\n",
      "135:\tlearn: 0.3213475\ttotal: 140ms\tremaining: 888ms\n",
      "136:\tlearn: 0.3188181\ttotal: 140ms\tremaining: 883ms\n",
      "137:\tlearn: 0.3167510\ttotal: 141ms\tremaining: 879ms\n",
      "138:\tlearn: 0.3144482\ttotal: 141ms\tremaining: 875ms\n",
      "139:\tlearn: 0.3125194\ttotal: 142ms\tremaining: 870ms\n",
      "140:\tlearn: 0.3104327\ttotal: 142ms\tremaining: 865ms\n",
      "141:\tlearn: 0.3083727\ttotal: 142ms\tremaining: 860ms\n",
      "142:\tlearn: 0.3058383\ttotal: 143ms\tremaining: 856ms\n",
      "143:\tlearn: 0.3040209\ttotal: 144ms\tremaining: 853ms\n",
      "144:\tlearn: 0.3021613\ttotal: 144ms\tremaining: 848ms\n",
      "145:\tlearn: 0.3002086\ttotal: 144ms\tremaining: 844ms\n",
      "146:\tlearn: 0.2981251\ttotal: 145ms\tremaining: 841ms\n",
      "147:\tlearn: 0.2960416\ttotal: 146ms\tremaining: 838ms\n",
      "148:\tlearn: 0.2942293\ttotal: 151ms\tremaining: 862ms\n",
      "149:\tlearn: 0.2923906\ttotal: 151ms\tremaining: 858ms\n",
      "150:\tlearn: 0.2906231\ttotal: 152ms\tremaining: 854ms\n",
      "151:\tlearn: 0.2886174\ttotal: 152ms\tremaining: 850ms\n",
      "152:\tlearn: 0.2864448\ttotal: 153ms\tremaining: 846ms\n",
      "153:\tlearn: 0.2844173\ttotal: 153ms\tremaining: 842ms\n",
      "154:\tlearn: 0.2823005\ttotal: 154ms\tremaining: 838ms\n",
      "155:\tlearn: 0.2808093\ttotal: 154ms\tremaining: 835ms\n",
      "156:\tlearn: 0.2788140\ttotal: 155ms\tremaining: 831ms\n",
      "157:\tlearn: 0.2768691\ttotal: 155ms\tremaining: 828ms\n",
      "158:\tlearn: 0.2747965\ttotal: 156ms\tremaining: 824ms\n",
      "159:\tlearn: 0.2724870\ttotal: 156ms\tremaining: 821ms\n",
      "160:\tlearn: 0.2706897\ttotal: 157ms\tremaining: 817ms\n",
      "161:\tlearn: 0.2684788\ttotal: 157ms\tremaining: 813ms\n",
      "162:\tlearn: 0.2666300\ttotal: 158ms\tremaining: 809ms\n",
      "163:\tlearn: 0.2643070\ttotal: 158ms\tremaining: 806ms\n",
      "164:\tlearn: 0.2626041\ttotal: 159ms\tremaining: 803ms\n",
      "165:\tlearn: 0.2609565\ttotal: 159ms\tremaining: 799ms\n",
      "166:\tlearn: 0.2591752\ttotal: 160ms\tremaining: 797ms\n",
      "167:\tlearn: 0.2573307\ttotal: 160ms\tremaining: 793ms\n",
      "168:\tlearn: 0.2556789\ttotal: 161ms\tremaining: 790ms\n",
      "169:\tlearn: 0.2535990\ttotal: 161ms\tremaining: 786ms\n",
      "170:\tlearn: 0.2519328\ttotal: 162ms\tremaining: 783ms\n",
      "171:\tlearn: 0.2504768\ttotal: 162ms\tremaining: 781ms\n",
      "172:\tlearn: 0.2487594\ttotal: 163ms\tremaining: 778ms\n",
      "173:\tlearn: 0.2472616\ttotal: 163ms\tremaining: 775ms\n",
      "174:\tlearn: 0.2458481\ttotal: 164ms\tremaining: 773ms\n",
      "175:\tlearn: 0.2438758\ttotal: 164ms\tremaining: 769ms\n",
      "176:\tlearn: 0.2424192\ttotal: 165ms\tremaining: 766ms\n",
      "177:\tlearn: 0.2406666\ttotal: 165ms\tremaining: 763ms\n",
      "178:\tlearn: 0.2389789\ttotal: 166ms\tremaining: 760ms\n",
      "179:\tlearn: 0.2374799\ttotal: 166ms\tremaining: 758ms\n",
      "180:\tlearn: 0.2357730\ttotal: 167ms\tremaining: 755ms\n",
      "181:\tlearn: 0.2343493\ttotal: 167ms\tremaining: 752ms\n",
      "182:\tlearn: 0.2328750\ttotal: 168ms\tremaining: 750ms\n",
      "183:\tlearn: 0.2312788\ttotal: 168ms\tremaining: 747ms\n",
      "184:\tlearn: 0.2299642\ttotal: 169ms\tremaining: 744ms\n",
      "185:\tlearn: 0.2284749\ttotal: 169ms\tremaining: 741ms\n",
      "186:\tlearn: 0.2269044\ttotal: 170ms\tremaining: 738ms\n",
      "187:\tlearn: 0.2254139\ttotal: 170ms\tremaining: 736ms\n",
      "188:\tlearn: 0.2235527\ttotal: 171ms\tremaining: 733ms\n",
      "189:\tlearn: 0.2222632\ttotal: 171ms\tremaining: 731ms\n",
      "190:\tlearn: 0.2207158\ttotal: 172ms\tremaining: 729ms\n",
      "191:\tlearn: 0.2191635\ttotal: 172ms\tremaining: 725ms\n",
      "192:\tlearn: 0.2177455\ttotal: 173ms\tremaining: 723ms\n",
      "193:\tlearn: 0.2159814\ttotal: 173ms\tremaining: 721ms\n",
      "194:\tlearn: 0.2144692\ttotal: 174ms\tremaining: 718ms\n",
      "195:\tlearn: 0.2129299\ttotal: 175ms\tremaining: 716ms\n",
      "196:\tlearn: 0.2114087\ttotal: 175ms\tremaining: 714ms\n",
      "197:\tlearn: 0.2102616\ttotal: 176ms\tremaining: 711ms\n",
      "198:\tlearn: 0.2086663\ttotal: 176ms\tremaining: 709ms\n",
      "199:\tlearn: 0.2072642\ttotal: 176ms\tremaining: 706ms\n",
      "200:\tlearn: 0.2056987\ttotal: 177ms\tremaining: 704ms\n",
      "201:\tlearn: 0.2042491\ttotal: 178ms\tremaining: 701ms\n",
      "202:\tlearn: 0.2027613\ttotal: 178ms\tremaining: 699ms\n",
      "203:\tlearn: 0.2012188\ttotal: 178ms\tremaining: 696ms\n",
      "204:\tlearn: 0.1998225\ttotal: 179ms\tremaining: 694ms\n",
      "205:\tlearn: 0.1982783\ttotal: 180ms\tremaining: 692ms\n",
      "206:\tlearn: 0.1967615\ttotal: 180ms\tremaining: 690ms\n",
      "207:\tlearn: 0.1953135\ttotal: 181ms\tremaining: 688ms\n",
      "208:\tlearn: 0.1941001\ttotal: 181ms\tremaining: 686ms\n",
      "209:\tlearn: 0.1926255\ttotal: 182ms\tremaining: 683ms\n",
      "210:\tlearn: 0.1911309\ttotal: 182ms\tremaining: 681ms\n",
      "211:\tlearn: 0.1898680\ttotal: 182ms\tremaining: 678ms\n",
      "212:\tlearn: 0.1883179\ttotal: 183ms\tremaining: 676ms\n",
      "213:\tlearn: 0.1870881\ttotal: 184ms\tremaining: 674ms\n",
      "214:\tlearn: 0.1859901\ttotal: 184ms\tremaining: 672ms\n",
      "215:\tlearn: 0.1846041\ttotal: 185ms\tremaining: 670ms\n",
      "216:\tlearn: 0.1834320\ttotal: 185ms\tremaining: 668ms\n",
      "217:\tlearn: 0.1824585\ttotal: 186ms\tremaining: 666ms\n",
      "218:\tlearn: 0.1812450\ttotal: 186ms\tremaining: 664ms\n",
      "219:\tlearn: 0.1799432\ttotal: 187ms\tremaining: 662ms\n",
      "220:\tlearn: 0.1787938\ttotal: 187ms\tremaining: 660ms\n",
      "221:\tlearn: 0.1776247\ttotal: 188ms\tremaining: 658ms\n",
      "222:\tlearn: 0.1763648\ttotal: 188ms\tremaining: 656ms\n"
     ]
    },
    {
     "name": "stdout",
     "output_type": "stream",
     "text": [
      "223:\tlearn: 0.1753860\ttotal: 189ms\tremaining: 655ms\n",
      "224:\tlearn: 0.1744186\ttotal: 190ms\tremaining: 653ms\n",
      "225:\tlearn: 0.1732255\ttotal: 190ms\tremaining: 651ms\n",
      "226:\tlearn: 0.1720700\ttotal: 191ms\tremaining: 649ms\n",
      "227:\tlearn: 0.1709454\ttotal: 191ms\tremaining: 647ms\n",
      "228:\tlearn: 0.1697301\ttotal: 192ms\tremaining: 646ms\n",
      "229:\tlearn: 0.1684491\ttotal: 193ms\tremaining: 645ms\n",
      "230:\tlearn: 0.1671199\ttotal: 193ms\tremaining: 643ms\n",
      "231:\tlearn: 0.1657676\ttotal: 194ms\tremaining: 641ms\n",
      "232:\tlearn: 0.1645155\ttotal: 194ms\tremaining: 639ms\n",
      "233:\tlearn: 0.1633928\ttotal: 195ms\tremaining: 637ms\n",
      "234:\tlearn: 0.1623488\ttotal: 195ms\tremaining: 635ms\n",
      "235:\tlearn: 0.1612141\ttotal: 196ms\tremaining: 633ms\n",
      "236:\tlearn: 0.1601784\ttotal: 196ms\tremaining: 632ms\n",
      "237:\tlearn: 0.1593074\ttotal: 197ms\tremaining: 630ms\n",
      "238:\tlearn: 0.1581453\ttotal: 197ms\tremaining: 628ms\n",
      "239:\tlearn: 0.1571053\ttotal: 198ms\tremaining: 627ms\n",
      "240:\tlearn: 0.1559633\ttotal: 198ms\tremaining: 625ms\n",
      "241:\tlearn: 0.1546708\ttotal: 199ms\tremaining: 623ms\n",
      "242:\tlearn: 0.1536698\ttotal: 199ms\tremaining: 621ms\n",
      "243:\tlearn: 0.1524161\ttotal: 200ms\tremaining: 620ms\n",
      "244:\tlearn: 0.1514535\ttotal: 200ms\tremaining: 618ms\n",
      "245:\tlearn: 0.1503640\ttotal: 201ms\tremaining: 616ms\n",
      "246:\tlearn: 0.1494540\ttotal: 201ms\tremaining: 613ms\n",
      "247:\tlearn: 0.1484134\ttotal: 202ms\tremaining: 612ms\n",
      "248:\tlearn: 0.1474661\ttotal: 202ms\tremaining: 610ms\n",
      "249:\tlearn: 0.1464448\ttotal: 203ms\tremaining: 608ms\n",
      "250:\tlearn: 0.1456538\ttotal: 203ms\tremaining: 606ms\n",
      "251:\tlearn: 0.1446610\ttotal: 204ms\tremaining: 604ms\n",
      "252:\tlearn: 0.1438571\ttotal: 204ms\tremaining: 603ms\n",
      "253:\tlearn: 0.1428608\ttotal: 205ms\tremaining: 601ms\n",
      "254:\tlearn: 0.1420086\ttotal: 205ms\tremaining: 599ms\n",
      "255:\tlearn: 0.1407913\ttotal: 206ms\tremaining: 597ms\n",
      "256:\tlearn: 0.1397491\ttotal: 206ms\tremaining: 596ms\n",
      "257:\tlearn: 0.1387186\ttotal: 207ms\tremaining: 594ms\n",
      "258:\tlearn: 0.1376627\ttotal: 207ms\tremaining: 593ms\n",
      "259:\tlearn: 0.1365244\ttotal: 208ms\tremaining: 591ms\n",
      "260:\tlearn: 0.1354931\ttotal: 208ms\tremaining: 589ms\n",
      "261:\tlearn: 0.1344346\ttotal: 208ms\tremaining: 587ms\n",
      "262:\tlearn: 0.1336758\ttotal: 209ms\tremaining: 585ms\n",
      "263:\tlearn: 0.1328672\ttotal: 209ms\tremaining: 583ms\n",
      "264:\tlearn: 0.1318100\ttotal: 210ms\tremaining: 581ms\n",
      "265:\tlearn: 0.1310249\ttotal: 210ms\tremaining: 579ms\n",
      "266:\tlearn: 0.1303124\ttotal: 210ms\tremaining: 578ms\n",
      "267:\tlearn: 0.1294932\ttotal: 211ms\tremaining: 576ms\n",
      "268:\tlearn: 0.1285624\ttotal: 211ms\tremaining: 574ms\n",
      "269:\tlearn: 0.1275847\ttotal: 212ms\tremaining: 572ms\n",
      "270:\tlearn: 0.1266621\ttotal: 212ms\tremaining: 570ms\n",
      "271:\tlearn: 0.1257883\ttotal: 212ms\tremaining: 568ms\n",
      "272:\tlearn: 0.1249694\ttotal: 213ms\tremaining: 567ms\n",
      "273:\tlearn: 0.1242069\ttotal: 213ms\tremaining: 565ms\n",
      "274:\tlearn: 0.1234850\ttotal: 214ms\tremaining: 563ms\n",
      "275:\tlearn: 0.1226252\ttotal: 214ms\tremaining: 562ms\n",
      "276:\tlearn: 0.1217513\ttotal: 215ms\tremaining: 560ms\n",
      "277:\tlearn: 0.1209900\ttotal: 215ms\tremaining: 559ms\n",
      "278:\tlearn: 0.1203979\ttotal: 216ms\tremaining: 557ms\n",
      "279:\tlearn: 0.1196691\ttotal: 216ms\tremaining: 556ms\n",
      "280:\tlearn: 0.1188032\ttotal: 216ms\tremaining: 554ms\n",
      "281:\tlearn: 0.1180175\ttotal: 217ms\tremaining: 552ms\n",
      "282:\tlearn: 0.1171362\ttotal: 217ms\tremaining: 551ms\n",
      "283:\tlearn: 0.1164092\ttotal: 218ms\tremaining: 549ms\n",
      "284:\tlearn: 0.1155709\ttotal: 218ms\tremaining: 548ms\n",
      "285:\tlearn: 0.1147646\ttotal: 219ms\tremaining: 546ms\n",
      "286:\tlearn: 0.1140018\ttotal: 219ms\tremaining: 545ms\n",
      "287:\tlearn: 0.1132444\ttotal: 220ms\tremaining: 544ms\n",
      "288:\tlearn: 0.1125083\ttotal: 220ms\tremaining: 542ms\n",
      "289:\tlearn: 0.1119128\ttotal: 221ms\tremaining: 541ms\n",
      "290:\tlearn: 0.1111583\ttotal: 221ms\tremaining: 539ms\n",
      "291:\tlearn: 0.1104162\ttotal: 222ms\tremaining: 537ms\n",
      "292:\tlearn: 0.1098084\ttotal: 222ms\tremaining: 536ms\n",
      "293:\tlearn: 0.1091723\ttotal: 222ms\tremaining: 534ms\n",
      "294:\tlearn: 0.1083981\ttotal: 223ms\tremaining: 532ms\n",
      "295:\tlearn: 0.1076175\ttotal: 223ms\tremaining: 531ms\n",
      "296:\tlearn: 0.1069242\ttotal: 224ms\tremaining: 530ms\n",
      "297:\tlearn: 0.1061887\ttotal: 225ms\tremaining: 529ms\n",
      "298:\tlearn: 0.1054410\ttotal: 225ms\tremaining: 527ms\n",
      "299:\tlearn: 0.1047818\ttotal: 226ms\tremaining: 526ms\n",
      "300:\tlearn: 0.1040386\ttotal: 226ms\tremaining: 525ms\n",
      "301:\tlearn: 0.1033228\ttotal: 226ms\tremaining: 523ms\n",
      "302:\tlearn: 0.1026372\ttotal: 227ms\tremaining: 522ms\n",
      "303:\tlearn: 0.1019254\ttotal: 227ms\tremaining: 521ms\n",
      "304:\tlearn: 0.1013547\ttotal: 228ms\tremaining: 519ms\n",
      "305:\tlearn: 0.1006221\ttotal: 228ms\tremaining: 518ms\n",
      "306:\tlearn: 0.0999845\ttotal: 229ms\tremaining: 516ms\n",
      "307:\tlearn: 0.0993164\ttotal: 229ms\tremaining: 515ms\n",
      "308:\tlearn: 0.0986612\ttotal: 230ms\tremaining: 514ms\n",
      "309:\tlearn: 0.0980549\ttotal: 230ms\tremaining: 513ms\n",
      "310:\tlearn: 0.0974584\ttotal: 231ms\tremaining: 512ms\n",
      "311:\tlearn: 0.0968839\ttotal: 232ms\tremaining: 511ms\n",
      "312:\tlearn: 0.0962083\ttotal: 232ms\tremaining: 509ms\n",
      "313:\tlearn: 0.0956452\ttotal: 233ms\tremaining: 508ms\n",
      "314:\tlearn: 0.0949953\ttotal: 233ms\tremaining: 507ms\n",
      "315:\tlearn: 0.0944361\ttotal: 233ms\tremaining: 505ms\n",
      "316:\tlearn: 0.0939693\ttotal: 234ms\tremaining: 504ms\n",
      "317:\tlearn: 0.0933759\ttotal: 234ms\tremaining: 503ms\n",
      "318:\tlearn: 0.0929316\ttotal: 235ms\tremaining: 502ms\n",
      "319:\tlearn: 0.0922809\ttotal: 235ms\tremaining: 500ms\n",
      "320:\tlearn: 0.0918434\ttotal: 236ms\tremaining: 499ms\n",
      "321:\tlearn: 0.0913126\ttotal: 237ms\tremaining: 498ms\n",
      "322:\tlearn: 0.0908191\ttotal: 237ms\tremaining: 497ms\n",
      "323:\tlearn: 0.0903270\ttotal: 237ms\tremaining: 495ms\n",
      "324:\tlearn: 0.0897613\ttotal: 238ms\tremaining: 494ms\n",
      "325:\tlearn: 0.0891941\ttotal: 239ms\tremaining: 493ms\n",
      "326:\tlearn: 0.0886707\ttotal: 239ms\tremaining: 492ms\n",
      "327:\tlearn: 0.0881860\ttotal: 239ms\tremaining: 490ms\n",
      "328:\tlearn: 0.0876610\ttotal: 240ms\tremaining: 489ms\n",
      "329:\tlearn: 0.0871720\ttotal: 240ms\tremaining: 488ms\n",
      "330:\tlearn: 0.0867055\ttotal: 241ms\tremaining: 486ms\n",
      "331:\tlearn: 0.0861499\ttotal: 241ms\tremaining: 485ms\n",
      "332:\tlearn: 0.0856642\ttotal: 241ms\tremaining: 483ms\n",
      "333:\tlearn: 0.0851471\ttotal: 242ms\tremaining: 482ms\n",
      "334:\tlearn: 0.0846360\ttotal: 242ms\tremaining: 481ms\n",
      "335:\tlearn: 0.0841713\ttotal: 243ms\tremaining: 479ms\n",
      "336:\tlearn: 0.0837059\ttotal: 243ms\tremaining: 478ms\n",
      "337:\tlearn: 0.0832339\ttotal: 243ms\tremaining: 477ms\n",
      "338:\tlearn: 0.0826918\ttotal: 244ms\tremaining: 475ms\n",
      "339:\tlearn: 0.0822359\ttotal: 244ms\tremaining: 474ms\n",
      "340:\tlearn: 0.0818527\ttotal: 245ms\tremaining: 473ms\n",
      "341:\tlearn: 0.0813713\ttotal: 245ms\tremaining: 471ms\n",
      "342:\tlearn: 0.0809390\ttotal: 245ms\tremaining: 470ms\n",
      "343:\tlearn: 0.0805489\ttotal: 246ms\tremaining: 469ms\n",
      "344:\tlearn: 0.0800475\ttotal: 246ms\tremaining: 468ms\n",
      "345:\tlearn: 0.0795415\ttotal: 247ms\tremaining: 467ms\n",
      "346:\tlearn: 0.0791264\ttotal: 248ms\tremaining: 466ms\n",
      "347:\tlearn: 0.0785792\ttotal: 248ms\tremaining: 465ms\n",
      "348:\tlearn: 0.0780335\ttotal: 249ms\tremaining: 464ms\n",
      "349:\tlearn: 0.0775798\ttotal: 249ms\tremaining: 463ms\n",
      "350:\tlearn: 0.0770833\ttotal: 250ms\tremaining: 461ms\n",
      "351:\tlearn: 0.0767004\ttotal: 250ms\tremaining: 460ms\n",
      "352:\tlearn: 0.0763215\ttotal: 250ms\tremaining: 459ms\n",
      "353:\tlearn: 0.0758455\ttotal: 251ms\tremaining: 458ms\n",
      "354:\tlearn: 0.0754101\ttotal: 251ms\tremaining: 457ms\n",
      "355:\tlearn: 0.0750370\ttotal: 252ms\tremaining: 455ms\n",
      "356:\tlearn: 0.0746313\ttotal: 252ms\tremaining: 454ms\n",
      "357:\tlearn: 0.0742354\ttotal: 253ms\tremaining: 453ms\n",
      "358:\tlearn: 0.0739874\ttotal: 253ms\tremaining: 452ms\n",
      "359:\tlearn: 0.0737836\ttotal: 254ms\tremaining: 451ms\n",
      "360:\tlearn: 0.0734898\ttotal: 254ms\tremaining: 450ms\n",
      "361:\tlearn: 0.0732921\ttotal: 255ms\tremaining: 449ms\n",
      "362:\tlearn: 0.0730927\ttotal: 255ms\tremaining: 448ms\n",
      "363:\tlearn: 0.0728971\ttotal: 256ms\tremaining: 447ms\n",
      "364:\tlearn: 0.0726789\ttotal: 256ms\tremaining: 446ms\n",
      "365:\tlearn: 0.0724884\ttotal: 257ms\tremaining: 444ms\n",
      "366:\tlearn: 0.0723017\ttotal: 257ms\tremaining: 444ms\n",
      "367:\tlearn: 0.0721146\ttotal: 258ms\tremaining: 443ms\n",
      "368:\tlearn: 0.0719312\ttotal: 258ms\tremaining: 442ms\n",
      "369:\tlearn: 0.0715348\ttotal: 259ms\tremaining: 440ms\n",
      "370:\tlearn: 0.0713557\ttotal: 259ms\tremaining: 439ms\n",
      "371:\tlearn: 0.0711763\ttotal: 260ms\tremaining: 438ms\n",
      "372:\tlearn: 0.0707653\ttotal: 260ms\tremaining: 437ms\n",
      "373:\tlearn: 0.0705917\ttotal: 260ms\tremaining: 436ms\n",
      "374:\tlearn: 0.0704198\ttotal: 261ms\tremaining: 435ms\n",
      "375:\tlearn: 0.0700382\ttotal: 261ms\tremaining: 434ms\n",
      "376:\tlearn: 0.0696225\ttotal: 262ms\tremaining: 433ms\n",
      "377:\tlearn: 0.0694571\ttotal: 262ms\tremaining: 432ms\n",
      "378:\tlearn: 0.0693294\ttotal: 263ms\tremaining: 431ms\n",
      "379:\tlearn: 0.0689606\ttotal: 264ms\tremaining: 430ms\n",
      "380:\tlearn: 0.0685448\ttotal: 264ms\tremaining: 429ms\n",
      "381:\tlearn: 0.0681431\ttotal: 265ms\tremaining: 428ms\n",
      "382:\tlearn: 0.0679831\ttotal: 265ms\tremaining: 427ms\n",
      "383:\tlearn: 0.0675916\ttotal: 265ms\tremaining: 426ms\n",
      "384:\tlearn: 0.0674362\ttotal: 266ms\tremaining: 425ms\n",
      "385:\tlearn: 0.0672756\ttotal: 267ms\tremaining: 424ms\n",
      "386:\tlearn: 0.0671244\ttotal: 267ms\tremaining: 423ms\n",
      "387:\tlearn: 0.0669761\ttotal: 268ms\tremaining: 422ms\n",
      "388:\tlearn: 0.0668207\ttotal: 268ms\tremaining: 421ms\n",
      "389:\tlearn: 0.0666420\ttotal: 269ms\tremaining: 420ms\n",
      "390:\tlearn: 0.0662751\ttotal: 269ms\tremaining: 419ms\n",
      "391:\tlearn: 0.0659159\ttotal: 270ms\tremaining: 418ms\n",
      "392:\tlearn: 0.0655018\ttotal: 270ms\tremaining: 417ms\n",
      "393:\tlearn: 0.0651518\ttotal: 270ms\tremaining: 416ms\n",
      "394:\tlearn: 0.0648091\ttotal: 271ms\tremaining: 415ms\n",
      "395:\tlearn: 0.0644735\ttotal: 271ms\tremaining: 414ms\n",
      "396:\tlearn: 0.0640739\ttotal: 272ms\tremaining: 412ms\n",
      "397:\tlearn: 0.0637464\ttotal: 272ms\tremaining: 411ms\n",
      "398:\tlearn: 0.0634257\ttotal: 272ms\tremaining: 410ms\n",
      "399:\tlearn: 0.0630709\ttotal: 273ms\tremaining: 409ms\n",
      "400:\tlearn: 0.0629046\ttotal: 273ms\tremaining: 408ms\n",
      "401:\tlearn: 0.0625677\ttotal: 274ms\tremaining: 407ms\n",
      "402:\tlearn: 0.0624069\ttotal: 274ms\tremaining: 406ms\n",
      "403:\tlearn: 0.0620571\ttotal: 274ms\tremaining: 405ms\n",
      "404:\tlearn: 0.0617148\ttotal: 275ms\tremaining: 404ms\n",
      "405:\tlearn: 0.0613913\ttotal: 275ms\tremaining: 402ms\n",
      "406:\tlearn: 0.0610163\ttotal: 275ms\tremaining: 401ms\n",
      "407:\tlearn: 0.0608646\ttotal: 276ms\tremaining: 400ms\n",
      "408:\tlearn: 0.0607162\ttotal: 277ms\tremaining: 400ms\n",
      "409:\tlearn: 0.0603505\ttotal: 278ms\tremaining: 401ms\n",
      "410:\tlearn: 0.0599554\ttotal: 279ms\tremaining: 400ms\n",
      "411:\tlearn: 0.0598121\ttotal: 280ms\tremaining: 399ms\n",
      "412:\tlearn: 0.0597083\ttotal: 280ms\tremaining: 398ms\n",
      "413:\tlearn: 0.0593532\ttotal: 281ms\tremaining: 397ms\n",
      "414:\tlearn: 0.0592437\ttotal: 281ms\tremaining: 396ms\n",
      "415:\tlearn: 0.0591434\ttotal: 282ms\tremaining: 395ms\n",
      "416:\tlearn: 0.0587959\ttotal: 282ms\tremaining: 395ms\n",
      "417:\tlearn: 0.0584158\ttotal: 283ms\tremaining: 394ms\n",
      "418:\tlearn: 0.0583180\ttotal: 283ms\tremaining: 393ms\n",
      "419:\tlearn: 0.0582215\ttotal: 284ms\tremaining: 392ms\n",
      "420:\tlearn: 0.0578507\ttotal: 284ms\tremaining: 391ms\n",
      "421:\tlearn: 0.0577561\ttotal: 285ms\tremaining: 390ms\n",
      "422:\tlearn: 0.0574712\ttotal: 285ms\tremaining: 389ms\n",
      "423:\tlearn: 0.0571919\ttotal: 286ms\tremaining: 388ms\n",
      "424:\tlearn: 0.0568608\ttotal: 286ms\tremaining: 387ms\n",
      "425:\tlearn: 0.0565196\ttotal: 287ms\tremaining: 386ms\n",
      "426:\tlearn: 0.0564351\ttotal: 287ms\tremaining: 386ms\n",
      "427:\tlearn: 0.0563691\ttotal: 288ms\tremaining: 385ms\n",
      "428:\tlearn: 0.0560479\ttotal: 288ms\tremaining: 384ms\n",
      "429:\tlearn: 0.0557012\ttotal: 289ms\tremaining: 383ms\n"
     ]
    },
    {
     "name": "stdout",
     "output_type": "stream",
     "text": [
      "430:\tlearn: 0.0555900\ttotal: 290ms\tremaining: 382ms\n",
      "431:\tlearn: 0.0555096\ttotal: 290ms\tremaining: 382ms\n",
      "432:\tlearn: 0.0551457\ttotal: 291ms\tremaining: 381ms\n",
      "433:\tlearn: 0.0550670\ttotal: 291ms\tremaining: 380ms\n",
      "434:\tlearn: 0.0547505\ttotal: 292ms\tremaining: 379ms\n",
      "435:\tlearn: 0.0543960\ttotal: 292ms\tremaining: 378ms\n",
      "436:\tlearn: 0.0543193\ttotal: 293ms\tremaining: 377ms\n",
      "437:\tlearn: 0.0542436\ttotal: 293ms\tremaining: 376ms\n",
      "438:\tlearn: 0.0538798\ttotal: 293ms\tremaining: 375ms\n",
      "439:\tlearn: 0.0535598\ttotal: 294ms\tremaining: 374ms\n",
      "440:\tlearn: 0.0534863\ttotal: 294ms\tremaining: 373ms\n",
      "441:\tlearn: 0.0530982\ttotal: 295ms\tremaining: 372ms\n",
      "442:\tlearn: 0.0527178\ttotal: 296ms\tremaining: 372ms\n",
      "443:\tlearn: 0.0523883\ttotal: 296ms\tremaining: 371ms\n",
      "444:\tlearn: 0.0523178\ttotal: 297ms\tremaining: 370ms\n",
      "445:\tlearn: 0.0519746\ttotal: 297ms\tremaining: 369ms\n",
      "446:\tlearn: 0.0516529\ttotal: 298ms\tremaining: 368ms\n",
      "447:\tlearn: 0.0515843\ttotal: 298ms\tremaining: 368ms\n",
      "448:\tlearn: 0.0512323\ttotal: 299ms\tremaining: 367ms\n",
      "449:\tlearn: 0.0511652\ttotal: 301ms\tremaining: 367ms\n",
      "450:\tlearn: 0.0509044\ttotal: 301ms\tremaining: 367ms\n",
      "451:\tlearn: 0.0505614\ttotal: 302ms\tremaining: 366ms\n",
      "452:\tlearn: 0.0504959\ttotal: 302ms\tremaining: 365ms\n",
      "453:\tlearn: 0.0501430\ttotal: 303ms\tremaining: 364ms\n",
      "454:\tlearn: 0.0500791\ttotal: 303ms\tremaining: 363ms\n",
      "455:\tlearn: 0.0498275\ttotal: 304ms\tremaining: 362ms\n",
      "456:\tlearn: 0.0494954\ttotal: 304ms\tremaining: 361ms\n",
      "457:\tlearn: 0.0494331\ttotal: 305ms\tremaining: 360ms\n",
      "458:\tlearn: 0.0491332\ttotal: 305ms\tremaining: 360ms\n",
      "459:\tlearn: 0.0490722\ttotal: 306ms\tremaining: 359ms\n",
      "460:\tlearn: 0.0487894\ttotal: 306ms\tremaining: 358ms\n",
      "461:\tlearn: 0.0487051\ttotal: 306ms\tremaining: 357ms\n",
      "462:\tlearn: 0.0483706\ttotal: 307ms\tremaining: 356ms\n",
      "463:\tlearn: 0.0483116\ttotal: 307ms\tremaining: 355ms\n",
      "464:\tlearn: 0.0479823\ttotal: 308ms\tremaining: 354ms\n",
      "465:\tlearn: 0.0479012\ttotal: 308ms\tremaining: 353ms\n",
      "466:\tlearn: 0.0476274\ttotal: 309ms\tremaining: 353ms\n",
      "467:\tlearn: 0.0475478\ttotal: 310ms\tremaining: 352ms\n",
      "468:\tlearn: 0.0474914\ttotal: 310ms\tremaining: 351ms\n",
      "469:\tlearn: 0.0471697\ttotal: 311ms\tremaining: 350ms\n",
      "470:\tlearn: 0.0469031\ttotal: 311ms\tremaining: 349ms\n",
      "471:\tlearn: 0.0468479\ttotal: 311ms\tremaining: 348ms\n",
      "472:\tlearn: 0.0465325\ttotal: 312ms\tremaining: 348ms\n",
      "473:\tlearn: 0.0464566\ttotal: 313ms\tremaining: 347ms\n",
      "474:\tlearn: 0.0462373\ttotal: 313ms\tremaining: 346ms\n",
      "475:\tlearn: 0.0461838\ttotal: 314ms\tremaining: 345ms\n",
      "476:\tlearn: 0.0461309\ttotal: 314ms\tremaining: 344ms\n",
      "477:\tlearn: 0.0458886\ttotal: 315ms\tremaining: 343ms\n",
      "478:\tlearn: 0.0456373\ttotal: 315ms\tremaining: 343ms\n",
      "479:\tlearn: 0.0455684\ttotal: 316ms\tremaining: 342ms\n",
      "480:\tlearn: 0.0452644\ttotal: 316ms\tremaining: 341ms\n",
      "481:\tlearn: 0.0452133\ttotal: 316ms\tremaining: 340ms\n",
      "482:\tlearn: 0.0449140\ttotal: 317ms\tremaining: 339ms\n",
      "483:\tlearn: 0.0446192\ttotal: 317ms\tremaining: 338ms\n",
      "484:\tlearn: 0.0445692\ttotal: 318ms\tremaining: 337ms\n",
      "485:\tlearn: 0.0443623\ttotal: 318ms\tremaining: 337ms\n",
      "486:\tlearn: 0.0442933\ttotal: 319ms\tremaining: 336ms\n",
      "487:\tlearn: 0.0442447\ttotal: 319ms\tremaining: 335ms\n",
      "488:\tlearn: 0.0439398\ttotal: 320ms\tremaining: 334ms\n",
      "489:\tlearn: 0.0437134\ttotal: 320ms\tremaining: 333ms\n",
      "490:\tlearn: 0.0434952\ttotal: 320ms\tremaining: 332ms\n",
      "491:\tlearn: 0.0434481\ttotal: 321ms\tremaining: 331ms\n",
      "492:\tlearn: 0.0432227\ttotal: 321ms\tremaining: 331ms\n",
      "493:\tlearn: 0.0430032\ttotal: 322ms\tremaining: 330ms\n",
      "494:\tlearn: 0.0429571\ttotal: 322ms\tremaining: 329ms\n",
      "495:\tlearn: 0.0427271\ttotal: 323ms\tremaining: 328ms\n",
      "496:\tlearn: 0.0426820\ttotal: 323ms\tremaining: 327ms\n",
      "497:\tlearn: 0.0424640\ttotal: 324ms\tremaining: 326ms\n",
      "498:\tlearn: 0.0422532\ttotal: 324ms\tremaining: 326ms\n",
      "499:\tlearn: 0.0420408\ttotal: 325ms\tremaining: 325ms\n",
      "500:\tlearn: 0.0418000\ttotal: 325ms\tremaining: 324ms\n",
      "501:\tlearn: 0.0417392\ttotal: 326ms\tremaining: 323ms\n",
      "502:\tlearn: 0.0415038\ttotal: 326ms\tremaining: 322ms\n",
      "503:\tlearn: 0.0414440\ttotal: 326ms\tremaining: 321ms\n",
      "504:\tlearn: 0.0412265\ttotal: 327ms\tremaining: 321ms\n",
      "505:\tlearn: 0.0409492\ttotal: 327ms\tremaining: 320ms\n",
      "506:\tlearn: 0.0408909\ttotal: 328ms\tremaining: 319ms\n",
      "507:\tlearn: 0.0406784\ttotal: 329ms\tremaining: 318ms\n",
      "508:\tlearn: 0.0406212\ttotal: 329ms\tremaining: 317ms\n",
      "509:\tlearn: 0.0403512\ttotal: 330ms\tremaining: 317ms\n",
      "510:\tlearn: 0.0401227\ttotal: 330ms\tremaining: 316ms\n",
      "511:\tlearn: 0.0398839\ttotal: 330ms\tremaining: 315ms\n",
      "512:\tlearn: 0.0396222\ttotal: 331ms\tremaining: 314ms\n",
      "513:\tlearn: 0.0394281\ttotal: 331ms\tremaining: 313ms\n",
      "514:\tlearn: 0.0392083\ttotal: 332ms\tremaining: 312ms\n",
      "515:\tlearn: 0.0391526\ttotal: 332ms\tremaining: 311ms\n",
      "516:\tlearn: 0.0389351\ttotal: 332ms\tremaining: 311ms\n",
      "517:\tlearn: 0.0388962\ttotal: 333ms\tremaining: 310ms\n",
      "518:\tlearn: 0.0388269\ttotal: 333ms\tremaining: 309ms\n",
      "519:\tlearn: 0.0386118\ttotal: 334ms\tremaining: 308ms\n",
      "520:\tlearn: 0.0383608\ttotal: 334ms\tremaining: 307ms\n",
      "521:\tlearn: 0.0381155\ttotal: 335ms\tremaining: 306ms\n",
      "522:\tlearn: 0.0378808\ttotal: 335ms\tremaining: 306ms\n",
      "523:\tlearn: 0.0376335\ttotal: 335ms\tremaining: 305ms\n",
      "524:\tlearn: 0.0375614\ttotal: 336ms\tremaining: 304ms\n",
      "525:\tlearn: 0.0373273\ttotal: 336ms\tremaining: 303ms\n",
      "526:\tlearn: 0.0370885\ttotal: 337ms\tremaining: 302ms\n",
      "527:\tlearn: 0.0368626\ttotal: 337ms\tremaining: 302ms\n",
      "528:\tlearn: 0.0367928\ttotal: 338ms\tremaining: 301ms\n",
      "529:\tlearn: 0.0366108\ttotal: 338ms\tremaining: 300ms\n",
      "530:\tlearn: 0.0363909\ttotal: 339ms\tremaining: 299ms\n",
      "531:\tlearn: 0.0363226\ttotal: 339ms\tremaining: 298ms\n",
      "532:\tlearn: 0.0361078\ttotal: 340ms\tremaining: 298ms\n",
      "533:\tlearn: 0.0359304\ttotal: 340ms\tremaining: 297ms\n",
      "534:\tlearn: 0.0357304\ttotal: 341ms\tremaining: 296ms\n",
      "535:\tlearn: 0.0355343\ttotal: 341ms\tremaining: 295ms\n",
      "536:\tlearn: 0.0353669\ttotal: 342ms\tremaining: 295ms\n",
      "537:\tlearn: 0.0351490\ttotal: 342ms\tremaining: 294ms\n",
      "538:\tlearn: 0.0349786\ttotal: 343ms\tremaining: 293ms\n",
      "539:\tlearn: 0.0348232\ttotal: 343ms\tremaining: 292ms\n",
      "540:\tlearn: 0.0346708\ttotal: 344ms\tremaining: 292ms\n",
      "541:\tlearn: 0.0344591\ttotal: 344ms\tremaining: 291ms\n",
      "542:\tlearn: 0.0342937\ttotal: 344ms\tremaining: 290ms\n",
      "543:\tlearn: 0.0341353\ttotal: 345ms\tremaining: 289ms\n",
      "544:\tlearn: 0.0339743\ttotal: 345ms\tremaining: 288ms\n",
      "545:\tlearn: 0.0338055\ttotal: 346ms\tremaining: 288ms\n",
      "546:\tlearn: 0.0336529\ttotal: 346ms\tremaining: 287ms\n",
      "547:\tlearn: 0.0334874\ttotal: 347ms\tremaining: 286ms\n",
      "548:\tlearn: 0.0333294\ttotal: 347ms\tremaining: 285ms\n",
      "549:\tlearn: 0.0332329\ttotal: 348ms\tremaining: 284ms\n",
      "550:\tlearn: 0.0330899\ttotal: 348ms\tremaining: 284ms\n",
      "551:\tlearn: 0.0329487\ttotal: 349ms\tremaining: 283ms\n",
      "552:\tlearn: 0.0328196\ttotal: 349ms\tremaining: 282ms\n",
      "553:\tlearn: 0.0326503\ttotal: 350ms\tremaining: 281ms\n",
      "554:\tlearn: 0.0324933\ttotal: 350ms\tremaining: 281ms\n",
      "555:\tlearn: 0.0323258\ttotal: 350ms\tremaining: 280ms\n",
      "556:\tlearn: 0.0321615\ttotal: 351ms\tremaining: 279ms\n",
      "557:\tlearn: 0.0319728\ttotal: 351ms\tremaining: 278ms\n",
      "558:\tlearn: 0.0318493\ttotal: 352ms\tremaining: 278ms\n",
      "559:\tlearn: 0.0316896\ttotal: 352ms\tremaining: 277ms\n",
      "560:\tlearn: 0.0315069\ttotal: 353ms\tremaining: 276ms\n",
      "561:\tlearn: 0.0313754\ttotal: 353ms\tremaining: 275ms\n",
      "562:\tlearn: 0.0312136\ttotal: 354ms\tremaining: 274ms\n",
      "563:\tlearn: 0.0310437\ttotal: 354ms\tremaining: 274ms\n",
      "564:\tlearn: 0.0309265\ttotal: 355ms\tremaining: 273ms\n",
      "565:\tlearn: 0.0307997\ttotal: 355ms\tremaining: 272ms\n",
      "566:\tlearn: 0.0306344\ttotal: 356ms\tremaining: 272ms\n",
      "567:\tlearn: 0.0305204\ttotal: 356ms\tremaining: 271ms\n",
      "568:\tlearn: 0.0303488\ttotal: 357ms\tremaining: 270ms\n",
      "569:\tlearn: 0.0302378\ttotal: 357ms\tremaining: 269ms\n",
      "570:\tlearn: 0.0301320\ttotal: 358ms\tremaining: 269ms\n",
      "571:\tlearn: 0.0299736\ttotal: 358ms\tremaining: 268ms\n",
      "572:\tlearn: 0.0298529\ttotal: 359ms\tremaining: 267ms\n",
      "573:\tlearn: 0.0297726\ttotal: 359ms\tremaining: 267ms\n",
      "574:\tlearn: 0.0296190\ttotal: 360ms\tremaining: 266ms\n",
      "575:\tlearn: 0.0295011\ttotal: 360ms\tremaining: 265ms\n",
      "576:\tlearn: 0.0293384\ttotal: 366ms\tremaining: 268ms\n",
      "577:\tlearn: 0.0292335\ttotal: 366ms\tremaining: 268ms\n",
      "578:\tlearn: 0.0291570\ttotal: 367ms\tremaining: 267ms\n",
      "579:\tlearn: 0.0290089\ttotal: 367ms\tremaining: 266ms\n",
      "580:\tlearn: 0.0288675\ttotal: 368ms\tremaining: 265ms\n",
      "581:\tlearn: 0.0287173\ttotal: 369ms\tremaining: 265ms\n",
      "582:\tlearn: 0.0285699\ttotal: 369ms\tremaining: 264ms\n",
      "583:\tlearn: 0.0284973\ttotal: 369ms\tremaining: 263ms\n",
      "584:\tlearn: 0.0283606\ttotal: 370ms\tremaining: 263ms\n",
      "585:\tlearn: 0.0282171\ttotal: 371ms\tremaining: 262ms\n",
      "586:\tlearn: 0.0280763\ttotal: 371ms\tremaining: 261ms\n",
      "587:\tlearn: 0.0279380\ttotal: 372ms\tremaining: 260ms\n",
      "588:\tlearn: 0.0278419\ttotal: 372ms\tremaining: 260ms\n",
      "589:\tlearn: 0.0277734\ttotal: 373ms\tremaining: 259ms\n"
     ]
    },
    {
     "name": "stdout",
     "output_type": "stream",
     "text": [
      "590:\tlearn: 0.0276395\ttotal: 373ms\tremaining: 258ms\n",
      "591:\tlearn: 0.0275192\ttotal: 374ms\tremaining: 258ms\n",
      "592:\tlearn: 0.0274007\ttotal: 374ms\tremaining: 257ms\n",
      "593:\tlearn: 0.0272529\ttotal: 375ms\tremaining: 256ms\n",
      "594:\tlearn: 0.0271157\ttotal: 375ms\tremaining: 255ms\n",
      "595:\tlearn: 0.0270858\ttotal: 376ms\tremaining: 255ms\n",
      "596:\tlearn: 0.0269703\ttotal: 376ms\tremaining: 254ms\n",
      "597:\tlearn: 0.0268386\ttotal: 377ms\tremaining: 253ms\n",
      "598:\tlearn: 0.0267131\ttotal: 377ms\tremaining: 252ms\n",
      "599:\tlearn: 0.0265998\ttotal: 377ms\tremaining: 252ms\n",
      "600:\tlearn: 0.0264719\ttotal: 378ms\tremaining: 251ms\n",
      "601:\tlearn: 0.0263417\ttotal: 379ms\tremaining: 251ms\n",
      "602:\tlearn: 0.0262466\ttotal: 379ms\tremaining: 250ms\n",
      "603:\tlearn: 0.0261362\ttotal: 380ms\tremaining: 249ms\n",
      "604:\tlearn: 0.0260292\ttotal: 380ms\tremaining: 248ms\n",
      "605:\tlearn: 0.0258996\ttotal: 381ms\tremaining: 248ms\n",
      "606:\tlearn: 0.0258138\ttotal: 382ms\tremaining: 247ms\n",
      "607:\tlearn: 0.0256884\ttotal: 382ms\tremaining: 246ms\n",
      "608:\tlearn: 0.0255661\ttotal: 382ms\tremaining: 246ms\n",
      "609:\tlearn: 0.0254406\ttotal: 383ms\tremaining: 245ms\n",
      "610:\tlearn: 0.0253386\ttotal: 383ms\tremaining: 244ms\n",
      "611:\tlearn: 0.0252161\ttotal: 384ms\tremaining: 243ms\n",
      "612:\tlearn: 0.0250863\ttotal: 384ms\tremaining: 243ms\n",
      "613:\tlearn: 0.0249685\ttotal: 385ms\tremaining: 242ms\n",
      "614:\tlearn: 0.0249425\ttotal: 385ms\tremaining: 241ms\n",
      "615:\tlearn: 0.0248179\ttotal: 386ms\tremaining: 240ms\n",
      "616:\tlearn: 0.0247925\ttotal: 386ms\tremaining: 240ms\n",
      "617:\tlearn: 0.0246798\ttotal: 387ms\tremaining: 239ms\n",
      "618:\tlearn: 0.0246550\ttotal: 387ms\tremaining: 238ms\n",
      "619:\tlearn: 0.0245446\ttotal: 388ms\tremaining: 238ms\n",
      "620:\tlearn: 0.0245076\ttotal: 388ms\tremaining: 237ms\n",
      "621:\tlearn: 0.0244034\ttotal: 388ms\tremaining: 236ms\n",
      "622:\tlearn: 0.0242948\ttotal: 389ms\tremaining: 235ms\n",
      "623:\tlearn: 0.0241605\ttotal: 389ms\tremaining: 235ms\n",
      "624:\tlearn: 0.0240558\ttotal: 390ms\tremaining: 234ms\n",
      "625:\tlearn: 0.0239469\ttotal: 390ms\tremaining: 233ms\n",
      "626:\tlearn: 0.0239115\ttotal: 391ms\tremaining: 232ms\n",
      "627:\tlearn: 0.0237821\ttotal: 391ms\tremaining: 232ms\n",
      "628:\tlearn: 0.0237475\ttotal: 392ms\tremaining: 231ms\n",
      "629:\tlearn: 0.0236517\ttotal: 392ms\tremaining: 230ms\n",
      "630:\tlearn: 0.0236180\ttotal: 392ms\tremaining: 229ms\n",
      "631:\tlearn: 0.0235269\ttotal: 393ms\tremaining: 229ms\n",
      "632:\tlearn: 0.0234248\ttotal: 393ms\tremaining: 228ms\n",
      "633:\tlearn: 0.0233243\ttotal: 394ms\tremaining: 227ms\n",
      "634:\tlearn: 0.0232316\ttotal: 394ms\tremaining: 226ms\n",
      "635:\tlearn: 0.0231550\ttotal: 394ms\tremaining: 226ms\n",
      "636:\tlearn: 0.0230569\ttotal: 395ms\tremaining: 225ms\n",
      "637:\tlearn: 0.0229597\ttotal: 395ms\tremaining: 224ms\n",
      "638:\tlearn: 0.0228978\ttotal: 396ms\tremaining: 224ms\n",
      "639:\tlearn: 0.0227590\ttotal: 396ms\tremaining: 223ms\n",
      "640:\tlearn: 0.0226169\ttotal: 397ms\tremaining: 222ms\n",
      "641:\tlearn: 0.0225565\ttotal: 397ms\tremaining: 222ms\n",
      "642:\tlearn: 0.0224408\ttotal: 398ms\tremaining: 221ms\n",
      "643:\tlearn: 0.0223450\ttotal: 398ms\tremaining: 220ms\n",
      "644:\tlearn: 0.0222515\ttotal: 399ms\tremaining: 219ms\n",
      "645:\tlearn: 0.0221262\ttotal: 399ms\tremaining: 219ms\n",
      "646:\tlearn: 0.0220333\ttotal: 400ms\tremaining: 218ms\n",
      "647:\tlearn: 0.0220132\ttotal: 400ms\tremaining: 218ms\n",
      "648:\tlearn: 0.0219218\ttotal: 401ms\tremaining: 217ms\n",
      "649:\tlearn: 0.0218643\ttotal: 402ms\tremaining: 216ms\n",
      "650:\tlearn: 0.0217766\ttotal: 402ms\tremaining: 216ms\n",
      "651:\tlearn: 0.0216903\ttotal: 403ms\tremaining: 215ms\n",
      "652:\tlearn: 0.0216233\ttotal: 403ms\tremaining: 214ms\n",
      "653:\tlearn: 0.0215194\ttotal: 403ms\tremaining: 213ms\n",
      "654:\tlearn: 0.0214196\ttotal: 404ms\tremaining: 213ms\n",
      "655:\tlearn: 0.0213329\ttotal: 404ms\tremaining: 212ms\n",
      "656:\tlearn: 0.0212245\ttotal: 405ms\tremaining: 211ms\n",
      "657:\tlearn: 0.0211610\ttotal: 405ms\tremaining: 211ms\n",
      "658:\tlearn: 0.0210774\ttotal: 406ms\tremaining: 210ms\n",
      "659:\tlearn: 0.0209720\ttotal: 406ms\tremaining: 209ms\n",
      "660:\tlearn: 0.0208909\ttotal: 407ms\tremaining: 209ms\n",
      "661:\tlearn: 0.0208180\ttotal: 408ms\tremaining: 208ms\n",
      "662:\tlearn: 0.0207481\ttotal: 409ms\tremaining: 208ms\n",
      "663:\tlearn: 0.0206766\ttotal: 409ms\tremaining: 207ms\n",
      "664:\tlearn: 0.0205990\ttotal: 410ms\tremaining: 206ms\n",
      "665:\tlearn: 0.0205291\ttotal: 410ms\tremaining: 206ms\n",
      "666:\tlearn: 0.0204621\ttotal: 410ms\tremaining: 205ms\n",
      "667:\tlearn: 0.0203935\ttotal: 411ms\tremaining: 204ms\n",
      "668:\tlearn: 0.0203400\ttotal: 412ms\tremaining: 204ms\n",
      "669:\tlearn: 0.0202729\ttotal: 412ms\tremaining: 203ms\n",
      "670:\tlearn: 0.0201818\ttotal: 412ms\tremaining: 202ms\n",
      "671:\tlearn: 0.0201176\ttotal: 413ms\tremaining: 202ms\n",
      "672:\tlearn: 0.0200458\ttotal: 413ms\tremaining: 201ms\n",
      "673:\tlearn: 0.0199805\ttotal: 414ms\tremaining: 200ms\n",
      "674:\tlearn: 0.0199173\ttotal: 414ms\tremaining: 200ms\n",
      "675:\tlearn: 0.0197982\ttotal: 415ms\tremaining: 199ms\n",
      "676:\tlearn: 0.0197485\ttotal: 415ms\tremaining: 198ms\n",
      "677:\tlearn: 0.0196850\ttotal: 416ms\tremaining: 197ms\n",
      "678:\tlearn: 0.0195684\ttotal: 416ms\tremaining: 197ms\n",
      "679:\tlearn: 0.0195075\ttotal: 417ms\tremaining: 196ms\n",
      "680:\tlearn: 0.0194457\ttotal: 417ms\tremaining: 195ms\n",
      "681:\tlearn: 0.0193819\ttotal: 418ms\tremaining: 195ms\n",
      "682:\tlearn: 0.0192678\ttotal: 418ms\tremaining: 194ms\n",
      "683:\tlearn: 0.0192201\ttotal: 419ms\tremaining: 193ms\n",
      "684:\tlearn: 0.0191733\ttotal: 419ms\tremaining: 193ms\n",
      "685:\tlearn: 0.0190711\ttotal: 420ms\tremaining: 192ms\n",
      "686:\tlearn: 0.0190112\ttotal: 420ms\tremaining: 191ms\n",
      "687:\tlearn: 0.0189001\ttotal: 421ms\tremaining: 191ms\n",
      "688:\tlearn: 0.0188414\ttotal: 421ms\tremaining: 190ms\n",
      "689:\tlearn: 0.0187955\ttotal: 421ms\tremaining: 189ms\n",
      "690:\tlearn: 0.0186867\ttotal: 422ms\tremaining: 189ms\n",
      "691:\tlearn: 0.0185793\ttotal: 422ms\tremaining: 188ms\n",
      "692:\tlearn: 0.0185341\ttotal: 423ms\tremaining: 187ms\n",
      "693:\tlearn: 0.0184370\ttotal: 423ms\tremaining: 187ms\n",
      "694:\tlearn: 0.0183801\ttotal: 424ms\tremaining: 186ms\n",
      "695:\tlearn: 0.0183243\ttotal: 424ms\tremaining: 185ms\n",
      "696:\tlearn: 0.0182365\ttotal: 425ms\tremaining: 185ms\n",
      "697:\tlearn: 0.0181841\ttotal: 425ms\tremaining: 184ms\n",
      "698:\tlearn: 0.0181400\ttotal: 426ms\tremaining: 183ms\n",
      "699:\tlearn: 0.0180466\ttotal: 426ms\tremaining: 183ms\n",
      "700:\tlearn: 0.0179856\ttotal: 427ms\tremaining: 182ms\n",
      "701:\tlearn: 0.0179002\ttotal: 427ms\tremaining: 181ms\n",
      "702:\tlearn: 0.0178407\ttotal: 428ms\tremaining: 181ms\n",
      "703:\tlearn: 0.0177978\ttotal: 428ms\tremaining: 180ms\n",
      "704:\tlearn: 0.0176973\ttotal: 429ms\tremaining: 179ms\n",
      "705:\tlearn: 0.0176257\ttotal: 429ms\tremaining: 179ms\n",
      "706:\tlearn: 0.0175836\ttotal: 430ms\tremaining: 178ms\n",
      "707:\tlearn: 0.0175261\ttotal: 430ms\tremaining: 177ms\n",
      "708:\tlearn: 0.0174320\ttotal: 430ms\tremaining: 177ms\n",
      "709:\tlearn: 0.0173383\ttotal: 431ms\tremaining: 176ms\n",
      "710:\tlearn: 0.0172972\ttotal: 431ms\tremaining: 175ms\n",
      "711:\tlearn: 0.0172054\ttotal: 432ms\tremaining: 175ms\n",
      "712:\tlearn: 0.0171552\ttotal: 432ms\tremaining: 174ms\n",
      "713:\tlearn: 0.0171154\ttotal: 433ms\tremaining: 173ms\n",
      "714:\tlearn: 0.0170255\ttotal: 433ms\tremaining: 173ms\n",
      "715:\tlearn: 0.0169864\ttotal: 434ms\tremaining: 172ms\n",
      "716:\tlearn: 0.0168784\ttotal: 434ms\tremaining: 171ms\n",
      "717:\tlearn: 0.0168307\ttotal: 435ms\tremaining: 171ms\n",
      "718:\tlearn: 0.0167644\ttotal: 435ms\tremaining: 170ms\n",
      "719:\tlearn: 0.0167268\ttotal: 436ms\tremaining: 169ms\n",
      "720:\tlearn: 0.0166620\ttotal: 436ms\tremaining: 169ms\n",
      "721:\tlearn: 0.0166002\ttotal: 436ms\tremaining: 168ms\n",
      "722:\tlearn: 0.0165547\ttotal: 437ms\tremaining: 167ms\n",
      "723:\tlearn: 0.0164941\ttotal: 437ms\tremaining: 167ms\n",
      "724:\tlearn: 0.0164579\ttotal: 438ms\tremaining: 166ms\n",
      "725:\tlearn: 0.0163724\ttotal: 438ms\tremaining: 165ms\n",
      "726:\tlearn: 0.0163368\ttotal: 439ms\tremaining: 165ms\n",
      "727:\tlearn: 0.0162777\ttotal: 439ms\tremaining: 164ms\n",
      "728:\tlearn: 0.0162430\ttotal: 440ms\tremaining: 163ms\n",
      "729:\tlearn: 0.0161430\ttotal: 440ms\tremaining: 163ms\n",
      "730:\tlearn: 0.0160659\ttotal: 441ms\tremaining: 162ms\n",
      "731:\tlearn: 0.0160270\ttotal: 441ms\tremaining: 162ms\n",
      "732:\tlearn: 0.0159665\ttotal: 442ms\tremaining: 161ms\n",
      "733:\tlearn: 0.0159102\ttotal: 442ms\tremaining: 160ms\n",
      "734:\tlearn: 0.0158548\ttotal: 443ms\tremaining: 160ms\n",
      "735:\tlearn: 0.0158219\ttotal: 443ms\tremaining: 159ms\n",
      "736:\tlearn: 0.0157654\ttotal: 443ms\tremaining: 158ms\n",
      "737:\tlearn: 0.0156940\ttotal: 444ms\tremaining: 158ms\n",
      "738:\tlearn: 0.0156616\ttotal: 444ms\tremaining: 157ms\n",
      "739:\tlearn: 0.0155711\ttotal: 445ms\tremaining: 156ms\n",
      "740:\tlearn: 0.0155347\ttotal: 445ms\tremaining: 156ms\n",
      "741:\tlearn: 0.0154406\ttotal: 446ms\tremaining: 155ms\n",
      "742:\tlearn: 0.0154050\ttotal: 446ms\tremaining: 154ms\n",
      "743:\tlearn: 0.0153529\ttotal: 447ms\tremaining: 154ms\n",
      "744:\tlearn: 0.0152777\ttotal: 447ms\tremaining: 153ms\n",
      "745:\tlearn: 0.0152473\ttotal: 448ms\tremaining: 152ms\n",
      "746:\tlearn: 0.0151934\ttotal: 448ms\tremaining: 152ms\n",
      "747:\tlearn: 0.0151429\ttotal: 449ms\tremaining: 151ms\n",
      "748:\tlearn: 0.0150673\ttotal: 449ms\tremaining: 151ms\n",
      "749:\tlearn: 0.0150178\ttotal: 450ms\tremaining: 150ms\n",
      "750:\tlearn: 0.0149883\ttotal: 450ms\tremaining: 149ms\n",
      "751:\tlearn: 0.0149001\ttotal: 451ms\tremaining: 149ms\n",
      "752:\tlearn: 0.0148413\ttotal: 451ms\tremaining: 148ms\n",
      "753:\tlearn: 0.0148126\ttotal: 452ms\tremaining: 147ms\n",
      "754:\tlearn: 0.0147399\ttotal: 452ms\tremaining: 147ms\n",
      "755:\tlearn: 0.0146765\ttotal: 453ms\tremaining: 146ms\n",
      "756:\tlearn: 0.0146290\ttotal: 453ms\tremaining: 145ms\n",
      "757:\tlearn: 0.0146011\ttotal: 453ms\tremaining: 145ms\n",
      "758:\tlearn: 0.0145620\ttotal: 454ms\tremaining: 144ms\n",
      "759:\tlearn: 0.0145236\ttotal: 454ms\tremaining: 143ms\n",
      "760:\tlearn: 0.0144630\ttotal: 454ms\tremaining: 143ms\n",
      "761:\tlearn: 0.0144068\ttotal: 455ms\tremaining: 142ms\n",
      "762:\tlearn: 0.0143263\ttotal: 455ms\tremaining: 141ms\n",
      "763:\tlearn: 0.0142952\ttotal: 456ms\tremaining: 141ms\n",
      "764:\tlearn: 0.0142236\ttotal: 456ms\tremaining: 140ms\n",
      "765:\tlearn: 0.0141838\ttotal: 456ms\tremaining: 139ms\n",
      "766:\tlearn: 0.0141539\ttotal: 457ms\tremaining: 139ms\n",
      "767:\tlearn: 0.0141153\ttotal: 457ms\tremaining: 138ms\n",
      "768:\tlearn: 0.0140466\ttotal: 458ms\tremaining: 138ms\n",
      "769:\tlearn: 0.0140088\ttotal: 458ms\tremaining: 137ms\n",
      "770:\tlearn: 0.0139724\ttotal: 459ms\tremaining: 136ms\n",
      "771:\tlearn: 0.0139353\ttotal: 459ms\tremaining: 136ms\n",
      "772:\tlearn: 0.0138680\ttotal: 460ms\tremaining: 135ms\n",
      "773:\tlearn: 0.0138317\ttotal: 460ms\tremaining: 134ms\n",
      "774:\tlearn: 0.0137548\ttotal: 461ms\tremaining: 134ms\n",
      "775:\tlearn: 0.0137171\ttotal: 461ms\tremaining: 133ms\n",
      "776:\tlearn: 0.0136815\ttotal: 461ms\tremaining: 132ms\n",
      "777:\tlearn: 0.0136446\ttotal: 462ms\tremaining: 132ms\n",
      "778:\tlearn: 0.0136096\ttotal: 462ms\tremaining: 131ms\n",
      "779:\tlearn: 0.0135348\ttotal: 463ms\tremaining: 130ms\n",
      "780:\tlearn: 0.0134988\ttotal: 463ms\tremaining: 130ms\n",
      "781:\tlearn: 0.0134635\ttotal: 463ms\tremaining: 129ms\n",
      "782:\tlearn: 0.0134292\ttotal: 464ms\tremaining: 129ms\n",
      "783:\tlearn: 0.0133964\ttotal: 465ms\tremaining: 128ms\n",
      "784:\tlearn: 0.0133516\ttotal: 465ms\tremaining: 127ms\n",
      "785:\tlearn: 0.0133181\ttotal: 466ms\tremaining: 127ms\n",
      "786:\tlearn: 0.0132457\ttotal: 466ms\tremaining: 126ms\n",
      "787:\tlearn: 0.0132187\ttotal: 467ms\tremaining: 126ms\n",
      "788:\tlearn: 0.0131850\ttotal: 467ms\tremaining: 125ms\n",
      "789:\tlearn: 0.0131358\ttotal: 468ms\tremaining: 124ms\n",
      "790:\tlearn: 0.0131031\ttotal: 468ms\tremaining: 124ms\n",
      "791:\tlearn: 0.0130735\ttotal: 469ms\tremaining: 123ms\n",
      "792:\tlearn: 0.0130408\ttotal: 469ms\tremaining: 123ms\n",
      "793:\tlearn: 0.0130087\ttotal: 470ms\tremaining: 122ms\n",
      "794:\tlearn: 0.0129563\ttotal: 470ms\tremaining: 121ms\n",
      "795:\tlearn: 0.0129085\ttotal: 471ms\tremaining: 121ms\n",
      "796:\tlearn: 0.0128576\ttotal: 471ms\tremaining: 120ms\n",
      "797:\tlearn: 0.0128322\ttotal: 472ms\tremaining: 119ms\n",
      "798:\tlearn: 0.0127691\ttotal: 472ms\tremaining: 119ms\n",
      "799:\tlearn: 0.0127266\ttotal: 473ms\tremaining: 118ms\n",
      "800:\tlearn: 0.0126953\ttotal: 473ms\tremaining: 118ms\n",
      "801:\tlearn: 0.0126336\ttotal: 474ms\tremaining: 117ms\n"
     ]
    },
    {
     "name": "stdout",
     "output_type": "stream",
     "text": [
      "802:\tlearn: 0.0125933\ttotal: 474ms\tremaining: 116ms\n",
      "803:\tlearn: 0.0125526\ttotal: 475ms\tremaining: 116ms\n",
      "804:\tlearn: 0.0125221\ttotal: 475ms\tremaining: 115ms\n",
      "805:\tlearn: 0.0124470\ttotal: 477ms\tremaining: 115ms\n",
      "806:\tlearn: 0.0124052\ttotal: 477ms\tremaining: 114ms\n",
      "807:\tlearn: 0.0123576\ttotal: 478ms\tremaining: 114ms\n",
      "808:\tlearn: 0.0123170\ttotal: 478ms\tremaining: 113ms\n",
      "809:\tlearn: 0.0122640\ttotal: 479ms\tremaining: 112ms\n",
      "810:\tlearn: 0.0122054\ttotal: 479ms\tremaining: 112ms\n",
      "811:\tlearn: 0.0121761\ttotal: 479ms\tremaining: 111ms\n",
      "812:\tlearn: 0.0121302\ttotal: 480ms\tremaining: 110ms\n",
      "813:\tlearn: 0.0121030\ttotal: 480ms\tremaining: 110ms\n",
      "814:\tlearn: 0.0120311\ttotal: 481ms\tremaining: 109ms\n",
      "815:\tlearn: 0.0119804\ttotal: 481ms\tremaining: 108ms\n",
      "816:\tlearn: 0.0119240\ttotal: 482ms\tremaining: 108ms\n",
      "817:\tlearn: 0.0118802\ttotal: 482ms\tremaining: 107ms\n",
      "818:\tlearn: 0.0118519\ttotal: 482ms\tremaining: 107ms\n",
      "819:\tlearn: 0.0118092\ttotal: 483ms\tremaining: 106ms\n",
      "820:\tlearn: 0.0117722\ttotal: 483ms\tremaining: 105ms\n",
      "821:\tlearn: 0.0117144\ttotal: 484ms\tremaining: 105ms\n",
      "822:\tlearn: 0.0116588\ttotal: 484ms\tremaining: 104ms\n",
      "823:\tlearn: 0.0116180\ttotal: 485ms\tremaining: 104ms\n",
      "824:\tlearn: 0.0115703\ttotal: 485ms\tremaining: 103ms\n",
      "825:\tlearn: 0.0115233\ttotal: 486ms\tremaining: 102ms\n",
      "826:\tlearn: 0.0114983\ttotal: 486ms\tremaining: 102ms\n",
      "827:\tlearn: 0.0114465\ttotal: 486ms\tremaining: 101ms\n",
      "828:\tlearn: 0.0114071\ttotal: 487ms\tremaining: 100ms\n",
      "829:\tlearn: 0.0113688\ttotal: 487ms\tremaining: 99.8ms\n",
      "830:\tlearn: 0.0113183\ttotal: 488ms\tremaining: 99.2ms\n",
      "831:\tlearn: 0.0112911\ttotal: 488ms\tremaining: 98.5ms\n",
      "832:\tlearn: 0.0112436\ttotal: 488ms\tremaining: 97.9ms\n",
      "833:\tlearn: 0.0112195\ttotal: 489ms\tremaining: 97.3ms\n",
      "834:\tlearn: 0.0111751\ttotal: 489ms\tremaining: 96.7ms\n",
      "835:\tlearn: 0.0111264\ttotal: 490ms\tremaining: 96ms\n",
      "836:\tlearn: 0.0110816\ttotal: 490ms\tremaining: 95.4ms\n",
      "837:\tlearn: 0.0110341\ttotal: 490ms\tremaining: 94.8ms\n",
      "838:\tlearn: 0.0110077\ttotal: 491ms\tremaining: 94.2ms\n",
      "839:\tlearn: 0.0109865\ttotal: 491ms\tremaining: 93.6ms\n",
      "840:\tlearn: 0.0109460\ttotal: 492ms\tremaining: 93ms\n",
      "841:\tlearn: 0.0109012\ttotal: 492ms\tremaining: 92.4ms\n",
      "842:\tlearn: 0.0108804\ttotal: 493ms\tremaining: 91.7ms\n",
      "843:\tlearn: 0.0108386\ttotal: 493ms\tremaining: 91.1ms\n",
      "844:\tlearn: 0.0107929\ttotal: 494ms\tremaining: 90.5ms\n",
      "845:\tlearn: 0.0107575\ttotal: 494ms\tremaining: 89.9ms\n",
      "846:\tlearn: 0.0107193\ttotal: 495ms\tremaining: 89.3ms\n",
      "847:\tlearn: 0.0106749\ttotal: 495ms\tremaining: 88.7ms\n",
      "848:\tlearn: 0.0106356\ttotal: 496ms\tremaining: 88.1ms\n",
      "849:\tlearn: 0.0105957\ttotal: 496ms\tremaining: 87.5ms\n",
      "850:\tlearn: 0.0105588\ttotal: 497ms\tremaining: 86.9ms\n",
      "851:\tlearn: 0.0105389\ttotal: 497ms\tremaining: 86.3ms\n",
      "852:\tlearn: 0.0104999\ttotal: 497ms\tremaining: 85.7ms\n",
      "853:\tlearn: 0.0104803\ttotal: 498ms\tremaining: 85.1ms\n",
      "854:\tlearn: 0.0104567\ttotal: 498ms\tremaining: 84.5ms\n",
      "855:\tlearn: 0.0104374\ttotal: 499ms\tremaining: 83.9ms\n",
      "856:\tlearn: 0.0104142\ttotal: 499ms\tremaining: 83.3ms\n",
      "857:\tlearn: 0.0103763\ttotal: 500ms\tremaining: 82.7ms\n",
      "858:\tlearn: 0.0103317\ttotal: 500ms\tremaining: 82.1ms\n",
      "859:\tlearn: 0.0102947\ttotal: 501ms\tremaining: 81.5ms\n",
      "860:\tlearn: 0.0102528\ttotal: 501ms\tremaining: 80.9ms\n",
      "861:\tlearn: 0.0102154\ttotal: 502ms\tremaining: 80.3ms\n",
      "862:\tlearn: 0.0101795\ttotal: 502ms\tremaining: 79.7ms\n",
      "863:\tlearn: 0.0101363\ttotal: 503ms\tremaining: 79.1ms\n",
      "864:\tlearn: 0.0101011\ttotal: 503ms\tremaining: 78.5ms\n",
      "865:\tlearn: 0.0100617\ttotal: 503ms\tremaining: 77.9ms\n",
      "866:\tlearn: 0.0100248\ttotal: 504ms\tremaining: 77.3ms\n",
      "867:\tlearn: 0.0099916\ttotal: 504ms\tremaining: 76.7ms\n",
      "868:\tlearn: 0.0099569\ttotal: 505ms\tremaining: 76.1ms\n",
      "869:\tlearn: 0.0099127\ttotal: 505ms\tremaining: 75.5ms\n",
      "870:\tlearn: 0.0098909\ttotal: 506ms\tremaining: 74.9ms\n",
      "871:\tlearn: 0.0098690\ttotal: 506ms\tremaining: 74.3ms\n",
      "872:\tlearn: 0.0098476\ttotal: 507ms\tremaining: 73.7ms\n",
      "873:\tlearn: 0.0098124\ttotal: 507ms\tremaining: 73.1ms\n",
      "874:\tlearn: 0.0097720\ttotal: 508ms\tremaining: 72.6ms\n",
      "875:\tlearn: 0.0097479\ttotal: 508ms\tremaining: 72ms\n",
      "876:\tlearn: 0.0097193\ttotal: 509ms\tremaining: 71.4ms\n",
      "877:\tlearn: 0.0096956\ttotal: 509ms\tremaining: 70.8ms\n",
      "878:\tlearn: 0.0096617\ttotal: 510ms\tremaining: 70.2ms\n",
      "879:\tlearn: 0.0096384\ttotal: 510ms\tremaining: 69.6ms\n",
      "880:\tlearn: 0.0096108\ttotal: 511ms\tremaining: 69ms\n",
      "881:\tlearn: 0.0095775\ttotal: 511ms\tremaining: 68.4ms\n",
      "882:\tlearn: 0.0095563\ttotal: 512ms\tremaining: 67.8ms\n",
      "883:\tlearn: 0.0095256\ttotal: 512ms\tremaining: 67.2ms\n",
      "884:\tlearn: 0.0095052\ttotal: 513ms\tremaining: 66.6ms\n",
      "885:\tlearn: 0.0094749\ttotal: 513ms\tremaining: 66ms\n",
      "886:\tlearn: 0.0094541\ttotal: 514ms\tremaining: 65.5ms\n",
      "887:\tlearn: 0.0094315\ttotal: 514ms\tremaining: 64.9ms\n",
      "888:\tlearn: 0.0094110\ttotal: 515ms\tremaining: 64.3ms\n",
      "889:\tlearn: 0.0093714\ttotal: 522ms\tremaining: 64.5ms\n",
      "890:\tlearn: 0.0093210\ttotal: 522ms\tremaining: 63.9ms\n",
      "891:\tlearn: 0.0092846\ttotal: 523ms\tremaining: 63.3ms\n",
      "892:\tlearn: 0.0092648\ttotal: 523ms\tremaining: 62.7ms\n",
      "893:\tlearn: 0.0092267\ttotal: 524ms\tremaining: 62.1ms\n",
      "894:\tlearn: 0.0092049\ttotal: 524ms\tremaining: 61.5ms\n",
      "895:\tlearn: 0.0091788\ttotal: 525ms\tremaining: 60.9ms\n",
      "896:\tlearn: 0.0091433\ttotal: 525ms\tremaining: 60.3ms\n",
      "897:\tlearn: 0.0091236\ttotal: 526ms\tremaining: 59.7ms\n",
      "898:\tlearn: 0.0091043\ttotal: 526ms\tremaining: 59.1ms\n",
      "899:\tlearn: 0.0090756\ttotal: 527ms\tremaining: 58.6ms\n",
      "900:\tlearn: 0.0090544\ttotal: 528ms\tremaining: 58ms\n",
      "901:\tlearn: 0.0090350\ttotal: 528ms\tremaining: 57.4ms\n",
      "902:\tlearn: 0.0090163\ttotal: 528ms\tremaining: 56.8ms\n",
      "903:\tlearn: 0.0089910\ttotal: 529ms\tremaining: 56.2ms\n",
      "904:\tlearn: 0.0089545\ttotal: 529ms\tremaining: 55.6ms\n",
      "905:\tlearn: 0.0089182\ttotal: 530ms\tremaining: 55ms\n",
      "906:\tlearn: 0.0088976\ttotal: 530ms\tremaining: 54.4ms\n",
      "907:\tlearn: 0.0088729\ttotal: 531ms\tremaining: 53.8ms\n",
      "908:\tlearn: 0.0088526\ttotal: 532ms\tremaining: 53.2ms\n",
      "909:\tlearn: 0.0088337\ttotal: 532ms\tremaining: 52.6ms\n",
      "910:\tlearn: 0.0088026\ttotal: 533ms\tremaining: 52ms\n",
      "911:\tlearn: 0.0087674\ttotal: 533ms\tremaining: 51.4ms\n",
      "912:\tlearn: 0.0087431\ttotal: 534ms\tremaining: 50.8ms\n",
      "913:\tlearn: 0.0087253\ttotal: 534ms\tremaining: 50.3ms\n",
      "914:\tlearn: 0.0086906\ttotal: 535ms\tremaining: 49.7ms\n",
      "915:\tlearn: 0.0086722\ttotal: 535ms\tremaining: 49.1ms\n",
      "916:\tlearn: 0.0086547\ttotal: 536ms\tremaining: 48.5ms\n",
      "917:\tlearn: 0.0086278\ttotal: 536ms\tremaining: 47.9ms\n",
      "918:\tlearn: 0.0086082\ttotal: 536ms\tremaining: 47.3ms\n",
      "919:\tlearn: 0.0085901\ttotal: 537ms\tremaining: 46.7ms\n",
      "920:\tlearn: 0.0085666\ttotal: 538ms\tremaining: 46.1ms\n",
      "921:\tlearn: 0.0085368\ttotal: 538ms\tremaining: 45.5ms\n",
      "922:\tlearn: 0.0085189\ttotal: 539ms\tremaining: 44.9ms\n",
      "923:\tlearn: 0.0084951\ttotal: 539ms\tremaining: 44.3ms\n",
      "924:\tlearn: 0.0084719\ttotal: 540ms\tremaining: 43.8ms\n",
      "925:\tlearn: 0.0084527\ttotal: 540ms\tremaining: 43.2ms\n",
      "926:\tlearn: 0.0084137\ttotal: 541ms\tremaining: 42.6ms\n",
      "927:\tlearn: 0.0083852\ttotal: 541ms\tremaining: 42ms\n",
      "928:\tlearn: 0.0083521\ttotal: 542ms\tremaining: 41.4ms\n",
      "929:\tlearn: 0.0083333\ttotal: 542ms\tremaining: 40.8ms\n",
      "930:\tlearn: 0.0083106\ttotal: 543ms\tremaining: 40.2ms\n",
      "931:\tlearn: 0.0082997\ttotal: 543ms\tremaining: 39.7ms\n",
      "932:\tlearn: 0.0082823\ttotal: 544ms\tremaining: 39.1ms\n",
      "933:\tlearn: 0.0082661\ttotal: 545ms\tremaining: 38.5ms\n",
      "934:\tlearn: 0.0082439\ttotal: 546ms\tremaining: 38ms\n",
      "935:\tlearn: 0.0082255\ttotal: 547ms\tremaining: 37.4ms\n",
      "936:\tlearn: 0.0082084\ttotal: 547ms\tremaining: 36.8ms\n",
      "937:\tlearn: 0.0081866\ttotal: 547ms\tremaining: 36.2ms\n",
      "938:\tlearn: 0.0081602\ttotal: 548ms\tremaining: 35.6ms\n",
      "939:\tlearn: 0.0081178\ttotal: 548ms\tremaining: 35ms\n",
      "940:\tlearn: 0.0080950\ttotal: 549ms\tremaining: 34.4ms\n",
      "941:\tlearn: 0.0080583\ttotal: 549ms\tremaining: 33.8ms\n",
      "942:\tlearn: 0.0080327\ttotal: 550ms\tremaining: 33.2ms\n",
      "943:\tlearn: 0.0079967\ttotal: 551ms\tremaining: 32.7ms\n",
      "944:\tlearn: 0.0079789\ttotal: 551ms\tremaining: 32.1ms\n",
      "945:\tlearn: 0.0079470\ttotal: 551ms\tremaining: 31.5ms\n",
      "946:\tlearn: 0.0079367\ttotal: 552ms\tremaining: 30.9ms\n",
      "947:\tlearn: 0.0079107\ttotal: 553ms\tremaining: 30.3ms\n",
      "948:\tlearn: 0.0078862\ttotal: 553ms\tremaining: 29.7ms\n",
      "949:\tlearn: 0.0078730\ttotal: 554ms\tremaining: 29.1ms\n",
      "950:\tlearn: 0.0078426\ttotal: 554ms\tremaining: 28.6ms\n",
      "951:\tlearn: 0.0078296\ttotal: 555ms\tremaining: 28ms\n",
      "952:\tlearn: 0.0077947\ttotal: 555ms\tremaining: 27.4ms\n",
      "953:\tlearn: 0.0077641\ttotal: 556ms\tremaining: 26.8ms\n",
      "954:\tlearn: 0.0077243\ttotal: 556ms\tremaining: 26.2ms\n",
      "955:\tlearn: 0.0077118\ttotal: 557ms\tremaining: 25.6ms\n",
      "956:\tlearn: 0.0076888\ttotal: 557ms\tremaining: 25ms\n",
      "957:\tlearn: 0.0076550\ttotal: 558ms\tremaining: 24.4ms\n"
     ]
    },
    {
     "name": "stdout",
     "output_type": "stream",
     "text": [
      "958:\tlearn: 0.0076250\ttotal: 558ms\tremaining: 23.9ms\n",
      "959:\tlearn: 0.0075984\ttotal: 559ms\tremaining: 23.3ms\n",
      "960:\tlearn: 0.0075762\ttotal: 559ms\tremaining: 22.7ms\n",
      "961:\tlearn: 0.0075432\ttotal: 560ms\tremaining: 22.1ms\n",
      "962:\tlearn: 0.0075313\ttotal: 560ms\tremaining: 21.5ms\n",
      "963:\tlearn: 0.0075196\ttotal: 561ms\tremaining: 20.9ms\n",
      "964:\tlearn: 0.0074824\ttotal: 561ms\tremaining: 20.3ms\n",
      "965:\tlearn: 0.0074669\ttotal: 561ms\tremaining: 19.8ms\n",
      "966:\tlearn: 0.0074555\ttotal: 562ms\tremaining: 19.2ms\n",
      "967:\tlearn: 0.0074403\ttotal: 562ms\tremaining: 18.6ms\n",
      "968:\tlearn: 0.0074083\ttotal: 563ms\tremaining: 18ms\n",
      "969:\tlearn: 0.0073971\ttotal: 563ms\tremaining: 17.4ms\n",
      "970:\tlearn: 0.0073614\ttotal: 564ms\tremaining: 16.8ms\n",
      "971:\tlearn: 0.0073397\ttotal: 564ms\tremaining: 16.3ms\n",
      "972:\tlearn: 0.0073126\ttotal: 565ms\tremaining: 15.7ms\n",
      "973:\tlearn: 0.0073017\ttotal: 566ms\tremaining: 15.1ms\n",
      "974:\tlearn: 0.0072752\ttotal: 566ms\tremaining: 14.5ms\n",
      "975:\tlearn: 0.0072644\ttotal: 566ms\tremaining: 13.9ms\n",
      "976:\tlearn: 0.0072539\ttotal: 567ms\tremaining: 13.3ms\n",
      "977:\tlearn: 0.0072275\ttotal: 567ms\tremaining: 12.8ms\n",
      "978:\tlearn: 0.0072171\ttotal: 568ms\tremaining: 12.2ms\n",
      "979:\tlearn: 0.0071868\ttotal: 568ms\tremaining: 11.6ms\n",
      "980:\tlearn: 0.0071530\ttotal: 569ms\tremaining: 11ms\n",
      "981:\tlearn: 0.0071428\ttotal: 569ms\tremaining: 10.4ms\n",
      "982:\tlearn: 0.0071121\ttotal: 570ms\tremaining: 9.85ms\n",
      "983:\tlearn: 0.0070821\ttotal: 570ms\tremaining: 9.27ms\n",
      "984:\tlearn: 0.0070647\ttotal: 571ms\tremaining: 8.69ms\n",
      "985:\tlearn: 0.0070354\ttotal: 571ms\tremaining: 8.11ms\n",
      "986:\tlearn: 0.0070029\ttotal: 571ms\tremaining: 7.53ms\n",
      "987:\tlearn: 0.0069858\ttotal: 572ms\tremaining: 6.95ms\n",
      "988:\tlearn: 0.0069573\ttotal: 572ms\tremaining: 6.37ms\n",
      "989:\tlearn: 0.0069406\ttotal: 573ms\tremaining: 5.79ms\n",
      "990:\tlearn: 0.0069128\ttotal: 573ms\tremaining: 5.21ms\n",
      "991:\tlearn: 0.0068855\ttotal: 574ms\tremaining: 4.63ms\n",
      "992:\tlearn: 0.0068548\ttotal: 574ms\tremaining: 4.05ms\n",
      "993:\tlearn: 0.0068399\ttotal: 575ms\tremaining: 3.47ms\n",
      "994:\tlearn: 0.0068138\ttotal: 575ms\tremaining: 2.89ms\n",
      "995:\tlearn: 0.0067829\ttotal: 580ms\tremaining: 2.33ms\n",
      "996:\tlearn: 0.0067684\ttotal: 581ms\tremaining: 1.75ms\n",
      "997:\tlearn: 0.0067429\ttotal: 582ms\tremaining: 1.17ms\n",
      "998:\tlearn: 0.0067170\ttotal: 582ms\tremaining: 582us\n",
      "999:\tlearn: 0.0067038\ttotal: 582ms\tremaining: 0us\n"
     ]
    },
    {
     "data": {
      "text/plain": [
       "<catboost.core.CatBoostRegressor at 0x7f81da5b8b50>"
      ]
     },
     "execution_count": 9,
     "metadata": {},
     "output_type": "execute_result"
    }
   ],
   "source": [
    "#Train the Model \n",
    "prior_model = ctb.CatBoostRegressor()\n",
    "prior_model.fit(X_train,Y_train)"
   ]
  },
  {
   "cell_type": "code",
   "execution_count": 10,
   "id": "af65dcda",
   "metadata": {
    "execution": {
     "iopub.execute_input": "2022-05-18T08:50:49.596408Z",
     "iopub.status.busy": "2022-05-18T08:50:49.596011Z",
     "iopub.status.idle": "2022-05-18T08:50:49.603619Z",
     "shell.execute_reply": "2022-05-18T08:50:49.603985Z"
    },
    "id": "af65dcda",
    "papermill": {
     "duration": 0.020865,
     "end_time": "2022-05-18T08:50:49.604112",
     "exception": false,
     "start_time": "2022-05-18T08:50:49.583247",
     "status": "completed"
    },
    "tags": []
   },
   "outputs": [
    {
     "data": {
      "application/scrapbook.scrap.json+json": {
       "data": 0.035773617357950954,
       "encoder": "json",
       "name": "Prior Model MSE",
       "version": 1
      }
     },
     "metadata": {
      "scrapbook": {
       "data": true,
       "display": false,
       "name": "Prior Model MSE"
      }
     },
     "output_type": "display_data"
    },
    {
     "data": {
      "application/scrapbook.scrap.json+json": {
       "data": 0.0359271085868039,
       "encoder": "json",
       "name": "ABC Pre-generator MSE",
       "version": 1
      }
     },
     "metadata": {
      "scrapbook": {
       "data": true,
       "display": false,
       "name": "ABC Pre-generator MSE"
      }
     },
     "output_type": "display_data"
    },
    {
     "data": {
      "application/scrapbook.scrap.json+json": {
       "data": 0.13357520499059033,
       "encoder": "json",
       "name": "Prior Model MAE",
       "version": 1
      }
     },
     "metadata": {
      "scrapbook": {
       "data": true,
       "display": false,
       "name": "Prior Model MAE"
      }
     },
     "output_type": "display_data"
    },
    {
     "data": {
      "application/scrapbook.scrap.json+json": {
       "data": 0.13466724007448239,
       "encoder": "json",
       "name": "ABC Pre-generator MAE",
       "version": 1
      }
     },
     "metadata": {
      "scrapbook": {
       "data": true,
       "display": false,
       "name": "ABC Pre-generator MAE"
      }
     },
     "output_type": "display_data"
    }
   ],
   "source": [
    "y_pred = prior_model.predict(X_test)\n",
    "y_abc = y_pred + np.random.normal(0,variance, y_pred.shape)\n",
    "mse = mean_squared_error(y_pred,Y_test)\n",
    "sb.glue(\"Prior Model MSE\",mse)\n",
    "mse = mean_squared_error(y_abc,Y_test)\n",
    "sb.glue(\"ABC Pre-generator MSE\",mse)\n",
    "\n",
    "mae = mean_absolute_error(y_pred,Y_test)\n",
    "sb.glue(\"Prior Model MAE\",mae)\n",
    "mae = mean_absolute_error(y_abc,Y_test)\n",
    "sb.glue(\"ABC Pre-generator MAE\",mae)"
   ]
  },
  {
   "cell_type": "markdown",
   "id": "25609da2",
   "metadata": {
    "papermill": {
     "duration": 0.009962,
     "end_time": "2022-05-18T08:50:49.624135",
     "exception": false,
     "start_time": "2022-05-18T08:50:49.614173",
     "status": "completed"
    },
    "tags": []
   },
   "source": [
    "# ABC GAN Model"
   ]
  },
  {
   "cell_type": "code",
   "execution_count": 11,
   "id": "dfc3464d",
   "metadata": {
    "execution": {
     "iopub.execute_input": "2022-05-18T08:50:49.647872Z",
     "iopub.status.busy": "2022-05-18T08:50:49.647470Z",
     "iopub.status.idle": "2022-05-18T08:50:49.650358Z",
     "shell.execute_reply": "2022-05-18T08:50:49.650629Z"
    },
    "papermill": {
     "duration": 0.016552,
     "end_time": "2022-05-18T08:50:49.650765",
     "exception": false,
     "start_time": "2022-05-18T08:50:49.634213",
     "status": "completed"
    },
    "tags": []
   },
   "outputs": [],
   "source": [
    "gen = network.Generator(n_features+1).to(device)\n",
    "disc = network.Discriminator(n_features+1).to(device)\n",
    "\n",
    "criterion = torch.nn.BCELoss()\n",
    "gen_opt = torch.optim.Adam(gen.parameters(), lr=0.001, betas=(0.5, 0.999))\n",
    "disc_opt = torch.optim.Adam(disc.parameters(), lr=0.001, betas=(0.5, 0.999))"
   ]
  },
  {
   "cell_type": "code",
   "execution_count": 12,
   "id": "b75fdd85",
   "metadata": {
    "execution": {
     "iopub.execute_input": "2022-05-18T08:50:49.673369Z",
     "iopub.status.busy": "2022-05-18T08:50:49.672935Z",
     "iopub.status.idle": "2022-05-18T08:51:04.854307Z",
     "shell.execute_reply": "2022-05-18T08:51:04.854571Z"
    },
    "papermill": {
     "duration": 15.193756,
     "end_time": "2022-05-18T08:51:04.854697",
     "exception": false,
     "start_time": "2022-05-18T08:50:49.660941",
     "status": "completed"
    },
    "tags": []
   },
   "outputs": [
    {
     "data": {
      "image/png": "[encoded data removed]",
      "text/plain": [
       "<Figure size 432x288 with 1 Axes>"
      ]
     },
     "metadata": {
      "needs_background": "light"
     },
     "output_type": "display_data"
    },
    {
     "data": {
      "image/png": "[encoded data removed]",
      "text/plain": [
       "<Figure size 432x288 with 1 Axes>"
      ]
     },
     "metadata": {
      "needs_background": "light"
     },
     "output_type": "display_data"
    }
   ],
   "source": [
    "#Training the ABC_GAN \n",
    "ABC_train_test2.training_GAN(disc,gen,disc_opt,gen_opt,train_data,batch_size,n_epochs,criterion,prior_model,variance,0,device)"
   ]
  },
  {
   "cell_type": "code",
   "execution_count": 13,
   "id": "1fa7c368",
   "metadata": {
    "execution": {
     "iopub.execute_input": "2022-05-18T08:51:04.878894Z",
     "iopub.status.busy": "2022-05-18T08:51:04.878432Z",
     "iopub.status.idle": "2022-05-18T08:51:05.079995Z",
     "shell.execute_reply": "2022-05-18T08:51:05.080239Z"
    },
    "papermill": {
     "duration": 0.215023,
     "end_time": "2022-05-18T08:51:05.080363",
     "exception": false,
     "start_time": "2022-05-18T08:51:04.865340",
     "status": "completed"
    },
    "tags": []
   },
   "outputs": [
    {
     "data": {
      "application/scrapbook.scrap.json+json": {
       "data": 0.02514904617114086,
       "encoder": "json",
       "name": "ABC-GAN Model 1 MSE",
       "version": 1
      }
     },
     "metadata": {
      "scrapbook": {
       "data": true,
       "display": false,
       "name": "ABC-GAN Model 1 MSE"
      }
     },
     "output_type": "display_data"
    },
    {
     "data": {
      "application/scrapbook.scrap.json+json": {
       "data": 0.12536666389228776,
       "encoder": "json",
       "name": "ABC-GAN Model 1 MAE",
       "version": 1
      }
     },
     "metadata": {
      "scrapbook": {
       "data": true,
       "display": false,
       "name": "ABC-GAN Model 1 MAE"
      }
     },
     "output_type": "display_data"
    },
    {
     "data": {
      "application/scrapbook.scrap.json+json": {
       "data": 2.5073332778457553,
       "encoder": "json",
       "name": "ABC-GAN Model 1 Manhattan Distance",
       "version": 1
      }
     },
     "metadata": {
      "scrapbook": {
       "data": true,
       "display": false,
       "name": "ABC-GAN Model 1 Manhattan Distance"
      }
     },
     "output_type": "display_data"
    },
    {
     "data": {
      "application/scrapbook.scrap.json+json": {
       "data": 0.7091777148590315,
       "encoder": "json",
       "name": "ABC-GAN Model 1 Euclidean distance",
       "version": 1
      }
     },
     "metadata": {
      "scrapbook": {
       "data": true,
       "display": false,
       "name": "ABC-GAN Model 1 Euclidean distance"
      }
     },
     "output_type": "display_data"
    },
    {
     "data": {
      "application/scrapbook.scrap.json+json": {
       "data": [
        [
         0.02503416289039887,
         0.024356442127591527,
         0.025192820514701075,
         0.02537923481617721,
         0.025147045215555032,
         0.024934434621816805,
         0.025833378317850063,
         0.02461131844320056,
         0.025473693580078838,
         0.02528410177431694,
         0.025316520447328156,
         0.024646814233845356,
         0.025259184168114946,
         0.025033429098590777,
         0.025588192964537702,
         0.025118074369601905,
         0.02523162411135934,
         0.02517915417116392,
         0.024969119704362164,
         0.025092374605530664,
         0.02440831034065319,
         0.02590921508016638,
         0.024680568313069896,
         0.024603355098499504,
         0.025832661321199973,
         0.025616518866957445,
         0.025697466564569938,
         0.025199426793562223,
         0.025007903759381483,
         0.02493203165873023,
         0.024704937990894217,
         0.024866151617211688,
         0.026007878378754325,
         0.025559871913019783,
         0.024541213719948864,
         0.024160692188735948,
         0.025335093743972237,
         0.02466377548238353,
         0.025305387817465663,
         0.02394550170051226,
         0.025634631243832938,
         0.02530871187267939,
         0.02506082804309153,
         0.02402206571362032,
         0.025453957475055855,
         0.024779627864072253,
         0.0251481747929464,
         0.02507088700602894,
         0.02511219175496942,
         0.025894566567461513,
         0.024963483445211123,
         0.02508167872031184,
         0.026002556700113387,
         0.02467144299926237,
         0.02515079249911307,
         0.02584340637966861,
         0.025835202831344918,
         0.024780400285176356,
         0.02579114201514552,
         0.0246959656863746,
         0.024534186208141358,
         0.02599045852351648,
         0.024539187902593476,
         0.024858240967138744,
         0.024308211517581765,
         0.025619610226059242,
         0.025307701265656134,
         0.025328486959742946,
         0.024598872514866955,
         0.024613003112788242,
         0.024670138277617385,
         0.025204745087938553,
         0.024620060332791908,
         0.024782530826882462,
         0.025554663217576067,
         0.02463485125501326,
         0.025462730249329813,
         0.02482102513561872,
         0.025053182934441177,
         0.02528598492605285,
         0.025299167395339765,
         0.025128338512712144,
         0.026522689145784116,
         0.02520485698114009,
         0.02535458279564448,
         0.025422276101259234,
         0.02406873170242351,
         0.02563570068630743,
         0.025440292666057164,
         0.02552961241895461,
         0.02490923009309939,
         0.025414820148250594,
         0.02600777448199735,
         0.025205649748957937,
         0.025139547655791506,
         0.02606385426960372,
         0.0253062841518062,
         0.02495793812657475,
         0.02518399089847012,
         0.02536061127127349
        ],
        [
         0.12455526479752735,
         0.12302597054513172,
         0.1261047531035729,
         0.12576456331880764,
         0.12587240749271586,
         0.1257962886360474,
         0.12669421845348552,
         0.12414707952411845,
         0.12590920218499377,
         0.12618652173550798,
         0.12513175645144656,
         0.12252844610484318,
         0.12581644767196848,
         0.12464869656832889,
         0.12594246753724292,
         0.12491484322817996,
         0.12637858429225163,
         0.12442400195868686,
         0.12321718001039698,
         0.12613745295675471,
         0.12281724178465084,
         0.12789078393252568,
         0.1242771100369282,
         0.12396887504728511,
         0.12679947876604275,
         0.12641317286761478,
         0.12574106567772106,
         0.12609279790194705,
         0.12623427697690204,
         0.12462508865864948,
         0.12299708240898326,
         0.12420309224398807,
         0.12888112702639773,
         0.12644559630425647,
         0.12620424145134165,
         0.12299454772146419,
         0.12763278448255733,
         0.12618888878496365,
         0.12420850658090785,
         0.12300551944645122,
         0.12693482824834063,
         0.12733728626044466,
         0.12317542323144152,
         0.12213604861171916,
         0.12642632984789087,
         0.12389048301847652,
         0.12674358078511433,
         0.12402124592335895,
         0.126282667752821,
         0.12619974651606752,
         0.12552187853725627,
         0.12589664050610735,
         0.126829512801487,
         0.12340569236548618,
         0.12558205985696985,
         0.12619917952688411,
         0.12706016042502596,
         0.12526131906779484,
         0.12774489485891535,
         0.12310133540304377,
         0.12335246467264369,
         0.12784356066258623,
         0.12316394039662555,
         0.12343796455534176,
         0.12370083743007854,
         0.12804805749328807,
         0.1259127896395512,
         0.1263443458941765,
         0.12321666443021968,
         0.12328065001638606,
         0.12376482227118686,
         0.12714015954406932,
         0.12446293720277027,
         0.12416930088074878,
         0.12487650552066043,
         0.1239174705115147,
         0.12560396605404095,
         0.12477721535833552,
         0.12548295595915987,
         0.12374601030023769,
         0.1279419977334328,
         0.12420259007485583,
         0.12722780072363093,
         0.125841305044014,
         0.12587507107527926,
         0.12555090674431996,
         0.12389769294532016,
         0.12643275373848156,
         0.1261834535864182,
         0.126938939478714,
         0.12391424739034847,
         0.1268872577813454,
         0.1270238939789124,
         0.1263193275895901,
         0.1253749314812012,
         0.12678487562807278,
         0.1272752914694138,
         0.12399215215118602,
         0.12540464067133145,
         0.12678690293105319
        ],
        [
         2.491105295950547,
         2.4605194109026343,
         2.5220950620714575,
         2.5152912663761526,
         2.5174481498543173,
         2.515925772720948,
         2.5338843690697104,
         2.482941590482369,
         2.5181840436998755,
         2.52373043471016,
         2.5026351290289313,
         2.4505689220968634,
         2.51632895343937,
         2.4929739313665777,
         2.5188493507448584,
         2.4982968645635992,
         2.5275716858450323,
         2.488480039173737,
         2.4643436002079397,
         2.5227490591350943,
         2.4563448356930166,
         2.5578156786505133,
         2.485542200738564,
         2.479377500945702,
         2.535989575320855,
         2.5282634573522955,
         2.514821313554421,
         2.521855958038941,
         2.5246855395380408,
         2.4925017731729895,
         2.459941648179665,
         2.4840618448797613,
         2.5776225405279547,
         2.5289119260851294,
         2.524084829026833,
         2.4598909544292837,
         2.5526556896511465,
         2.5237777756992728,
         2.484170131618157,
         2.4601103889290243,
         2.5386965649668127,
         2.5467457252088934,
         2.4635084646288306,
         2.4427209722343832,
         2.5285265969578177,
         2.4778096603695303,
         2.5348716157022864,
         2.480424918467179,
         2.52565335505642,
         2.5239949303213507,
         2.5104375707451254,
         2.517932810122147,
         2.53659025602974,
         2.4681138473097235,
         2.5116411971393973,
         2.523983590537682,
         2.5412032085005194,
         2.5052263813558966,
         2.554897897178307,
         2.4620267080608755,
         2.467049293452874,
         2.556871213251725,
         2.463278807932511,
         2.468759291106835,
         2.4740167486015707,
         2.5609611498657614,
         2.518255792791024,
         2.5268869178835303,
         2.4643332886043936,
         2.4656130003277212,
         2.475296445423737,
         2.5428031908813864,
         2.4892587440554053,
         2.4833860176149756,
         2.4975301104132086,
         2.478349410230294,
         2.5120793210808188,
         2.4955443071667105,
         2.5096591191831976,
         2.4749202060047537,
         2.558839954668656,
         2.4840518014971167,
         2.5445560144726187,
         2.51682610088028,
         2.5175014215055853,
         2.511018134886399,
         2.477953858906403,
         2.528655074769631,
         2.5236690717283636,
         2.5387787895742804,
         2.4782849478069693,
         2.537745155626908,
         2.5404778795782477,
         2.526386551791802,
         2.507498629624024,
         2.5356975125614554,
         2.5455058293882757,
         2.4798430430237204,
         2.5080928134266287,
         2.535738058621064
        ],
        [
         0.7075897524752442,
         0.6979461602099625,
         0.7098284372255182,
         0.7124497851242179,
         0.7091832656733382,
         0.7061789379727607,
         0.7187959142600918,
         0.7015884611822027,
         0.7137743842430722,
         0.7111132367537106,
         0.7115689769421958,
         0.7020942135332744,
         0.7107627475904311,
         0.7075793820991504,
         0.7153767254326591,
         0.7087746379435695,
         0.7103748885111204,
         0.7096358808736198,
         0.7066699329158156,
         0.7084119508524778,
         0.698688919915769,
         0.7198501938621171,
         0.7025748118609134,
         0.7014749474999019,
         0.7187859392225194,
         0.7157725737545054,
         0.7169025954000995,
         0.7099214997950438,
         0.707218548390545,
         0.706144909472981,
         0.702921588669664,
         0.7052113387802509,
         0.7212195002737284,
         0.7149807257964341,
         0.7005885200308218,
         0.6951358455544635,
         0.711829948006857,
         0.702335752790409,
         0.7114125078667884,
         0.6920332607687619,
         0.7160255755744056,
         0.7114592310551517,
         0.7079664969910869,
         0.6931387409980821,
         0.7134978272574606,
         0.7039833501450479,
         0.7091991933574995,
         0.7081085652077503,
         0.7086916361150232,
         0.7196466711860969,
         0.7065901703988122,
         0.7082609507845514,
         0.7211457092725906,
         0.7024449159793581,
         0.7092361031294595,
         0.7189354126716615,
         0.7188212967260349,
         0.7039943222097229,
         0.718208075910394,
         0.7027939340428971,
         0.700488204156806,
         0.7209779264792575,
         0.7005596034969969,
         0.7050991556815076,
         0.6972547815193778,
         0.7158157615763884,
         0.7114450262059063,
         0.7117371278743712,
         0.7014110423263517,
         0.7016124729904428,
         0.7024263417272645,
         0.7099964096801976,
         0.7017130515074079,
         0.7040245851798425,
         0.7149078712334348,
         0.7019238029161464,
         0.7136207711288932,
         0.7045711480839777,
         0.7078585018835498,
         0.7111397180027684,
         0.7113250648661239,
         0.7089194384796081,
         0.7283225816323989,
         0.7099979856470029,
         0.7121036834007318,
         0.7130536599900351,
         0.6938116704470099,
         0.716040511232534,
         0.7133062829676626,
         0.7145573793468879,
         0.7058219335370557,
         0.7129490886206475,
         0.721218059701743,
         0.710009151334797,
         0.7090775367446286,
         0.7219952114744768,
         0.7114251071167815,
         0.7065116860544453,
         0.7097040354749312,
         0.7121883356426654
        ]
       ],
       "encoder": "json",
       "name": "ABC_GAN_1 Metrics",
       "version": 1
      }
     },
     "metadata": {
      "scrapbook": {
       "data": true,
       "display": false,
       "name": "ABC_GAN_1 Metrics"
      }
     },
     "output_type": "display_data"
    },
    {
     "name": "stdout",
     "output_type": "stream",
     "text": [
      "MSE\n",
      "0.02514904617114086\n"
     ]
    }
   ],
   "source": [
    "ABC_GAN1_metrics=ABC_train_test2.test_generator(gen,test_data,prior_model,variance,0,\"1\",device)\n",
    "sb.glue(\"ABC_GAN_1 Metrics\",ABC_GAN1_metrics)\n",
    "\n",
    "print(\"MSE\")\n",
    "print(mean(ABC_GAN1_metrics[0]))"
   ]
  },
  {
   "cell_type": "code",
   "execution_count": 14,
   "id": "eb22ce5c",
   "metadata": {
    "execution": {
     "iopub.execute_input": "2022-05-18T08:51:05.106788Z",
     "iopub.status.busy": "2022-05-18T08:51:05.106417Z",
     "iopub.status.idle": "2022-05-18T08:51:05.411812Z",
     "shell.execute_reply": "2022-05-18T08:51:05.412058Z"
    },
    "papermill": {
     "duration": 0.319562,
     "end_time": "2022-05-18T08:51:05.412180",
     "exception": false,
     "start_time": "2022-05-18T08:51:05.092618",
     "status": "completed"
    },
    "tags": []
   },
   "outputs": [
    {
     "data": {
      "image/png": "[encoded data removed]",
      "text/plain": [
       "<Figure size 432x288 with 1 Axes>"
      ]
     },
     "metadata": {
      "needs_background": "light"
     },
     "output_type": "display_data"
    },
    {
     "data": {
      "image/png": "[encoded data removed]",
      "text/plain": [
       "<Figure size 432x288 with 1 Axes>"
      ]
     },
     "metadata": {
      "needs_background": "light"
     },
     "output_type": "display_data"
    },
    {
     "data": {
      "image/png": "[encoded data removed]",
      "text/plain": [
       "<Figure size 432x288 with 1 Axes>"
      ]
     },
     "metadata": {
      "needs_background": "light"
     },
     "output_type": "display_data"
    },
    {
     "data": {
      "image/png": "[encoded data removed]",
      "text/plain": [
       "<Figure size 432x288 with 1 Axes>"
      ]
     },
     "metadata": {
      "needs_background": "light"
     },
     "output_type": "display_data"
    }
   ],
   "source": [
    "sanityChecks.discProbVsError(train_data,disc,device)\n",
    "sanityChecks.discProbVsError(test_data,disc,device)"
   ]
  },
  {
   "cell_type": "markdown",
   "id": "130f3a4d",
   "metadata": {
    "id": "130f3a4d",
    "papermill": {
     "duration": 0.014107,
     "end_time": "2022-05-18T08:51:05.440735",
     "exception": false,
     "start_time": "2022-05-18T08:51:05.426628",
     "status": "completed"
    },
    "tags": []
   },
   "source": [
    "# ABC - GAN Model with skip connection"
   ]
  },
  {
   "cell_type": "code",
   "execution_count": 15,
   "id": "4e43dad1",
   "metadata": {
    "execution": {
     "iopub.execute_input": "2022-05-18T08:51:05.473956Z",
     "iopub.status.busy": "2022-05-18T08:51:05.473575Z",
     "iopub.status.idle": "2022-05-18T08:51:05.476064Z",
     "shell.execute_reply": "2022-05-18T08:51:05.476308Z"
    },
    "id": "4e43dad1",
    "papermill": {
     "duration": 0.020633,
     "end_time": "2022-05-18T08:51:05.476421",
     "exception": false,
     "start_time": "2022-05-18T08:51:05.455788",
     "status": "completed"
    },
    "tags": []
   },
   "outputs": [],
   "source": [
    "#Generator\n",
    "gen3 = network.GeneratorWithSkipConnection(n_features+1).to(device)\n",
    "constraints=network.weightConstraint()\n",
    "#Discriminator \n",
    "disc3 = network.Discriminator(n_features+1).to(device)\n",
    "\n",
    "criterion = torch.nn.BCELoss()\n",
    "gen_opt = torch.optim.Adam(gen3.parameters(), lr=0.001, betas=(0.5, 0.999))\n",
    "disc_opt = torch.optim.Adam(disc3.parameters(), lr=0.001, betas=(0.5, 0.999))\n"
   ]
  },
  {
   "cell_type": "code",
   "execution_count": 16,
   "id": "26acbc37",
   "metadata": {
    "execution": {
     "iopub.execute_input": "2022-05-18T08:51:05.507194Z",
     "iopub.status.busy": "2022-05-18T08:51:05.506823Z",
     "iopub.status.idle": "2022-05-18T08:51:45.289433Z",
     "shell.execute_reply": "2022-05-18T08:51:45.289686Z"
    },
    "id": "26acbc37",
    "papermill": {
     "duration": 39.799112,
     "end_time": "2022-05-18T08:51:45.289813",
     "exception": false,
     "start_time": "2022-05-18T08:51:05.490701",
     "status": "completed"
    },
    "tags": []
   },
   "outputs": [
    {
     "data": {
      "image/png": "[encoded data removed]",
      "text/plain": [
       "<Figure size 432x288 with 1 Axes>"
      ]
     },
     "metadata": {
      "needs_background": "light"
     },
     "output_type": "display_data"
    },
    {
     "data": {
      "image/png": "[encoded data removed]",
      "text/plain": [
       "<Figure size 432x288 with 1 Axes>"
      ]
     },
     "metadata": {
      "needs_background": "light"
     },
     "output_type": "display_data"
    }
   ],
   "source": [
    "ABC_train_test2.training_GAN_skip_connection(disc3,gen3,disc_opt,gen_opt,train_data,batch_size,n_epochs,criterion,prior_model,variance,0,device)"
   ]
  },
  {
   "cell_type": "code",
   "execution_count": 17,
   "id": "c5e0717b",
   "metadata": {
    "execution": {
     "iopub.execute_input": "2022-05-18T08:51:45.322614Z",
     "iopub.status.busy": "2022-05-18T08:51:45.322161Z",
     "iopub.status.idle": "2022-05-18T08:51:45.644625Z",
     "shell.execute_reply": "2022-05-18T08:51:45.644930Z"
    },
    "id": "c5e0717b",
    "papermill": {
     "duration": 0.340205,
     "end_time": "2022-05-18T08:51:45.645054",
     "exception": false,
     "start_time": "2022-05-18T08:51:45.304849",
     "status": "completed"
    },
    "tags": []
   },
   "outputs": [
    {
     "data": {
      "application/scrapbook.scrap.json+json": {
       "data": 0.031240583778877624,
       "encoder": "json",
       "name": "ABC-GAN Model 3 MSE",
       "version": 1
      }
     },
     "metadata": {
      "scrapbook": {
       "data": true,
       "display": false,
       "name": "ABC-GAN Model 3 MSE"
      }
     },
     "output_type": "display_data"
    },
    {
     "data": {
      "application/scrapbook.scrap.json+json": {
       "data": 0.13292707077320665,
       "encoder": "json",
       "name": "ABC-GAN Model 3 MAE",
       "version": 1
      }
     },
     "metadata": {
      "scrapbook": {
       "data": true,
       "display": false,
       "name": "ABC-GAN Model 3 MAE"
      }
     },
     "output_type": "display_data"
    },
    {
     "data": {
      "application/scrapbook.scrap.json+json": {
       "data": 2.658541415464133,
       "encoder": "json",
       "name": "ABC-GAN Model 3 Manhattan Distance",
       "version": 1
      }
     },
     "metadata": {
      "scrapbook": {
       "data": true,
       "display": false,
       "name": "ABC-GAN Model 3 Manhattan Distance"
      }
     },
     "output_type": "display_data"
    },
    {
     "data": {
      "application/scrapbook.scrap.json+json": {
       "data": 0.7903906592746341,
       "encoder": "json",
       "name": "ABC-GAN Model 3 Euclidean distance",
       "version": 1
      }
     },
     "metadata": {
      "scrapbook": {
       "data": true,
       "display": false,
       "name": "ABC-GAN Model 3 Euclidean distance"
      }
     },
     "output_type": "display_data"
    },
    {
     "data": {
      "application/scrapbook.scrap.json+json": {
       "data": [
        [
         0.03077818850759643,
         0.031762113362742046,
         0.03026247232609066,
         0.03097355844715549,
         0.030972099919233487,
         0.03293977563132221,
         0.03144284887776504,
         0.02918369835156434,
         0.031099348562756167,
         0.03154500060793307,
         0.031546515207897294,
         0.03062575519097916,
         0.03038933941125565,
         0.030618263374600108,
         0.03096943052898629,
         0.03122914099063816,
         0.03122626186889943,
         0.030289979858156492,
         0.03304652243501773,
         0.03178990939746977,
         0.030523838376718886,
         0.030801690565315037,
         0.030461582616656,
         0.03070716508658815,
         0.030488926329665118,
         0.030510828948533707,
         0.031641140940245324,
         0.03133238915050517,
         0.030869281443892515,
         0.03111307790851242,
         0.0318547349250337,
         0.030841737898538023,
         0.031309877919984894,
         0.030746132410895348,
         0.030633491846691084,
         0.030080503589368462,
         0.03160673387040046,
         0.030527136317389424,
         0.03161325522662858,
         0.031887655632361185,
         0.03165336429601555,
         0.0320523708120113,
         0.03173743593424231,
         0.03226077693428327,
         0.029013732773134553,
         0.03085177089979733,
         0.031263111398940543,
         0.030457712028780226,
         0.030837631064085668,
         0.03158518573141979,
         0.0319138070483803,
         0.031300941583316755,
         0.03242663468186382,
         0.031799714801660786,
         0.03071464933829668,
         0.030294811940165263,
         0.031587606680271926,
         0.032469651086537196,
         0.03150182846467803,
         0.031335020714927914,
         0.03131685373669763,
         0.030241619994349267,
         0.030338380044581392,
         0.031049935620759465,
         0.03126040830315985,
         0.03168143448281222,
         0.03046468253095644,
         0.03095098632590699,
         0.031084039884614417,
         0.03245651342902558,
         0.03082300643326711,
         0.032245977057258714,
         0.03237472756133482,
         0.0326405236050429,
         0.03144269033017303,
         0.03186129816087945,
         0.031189617643256267,
         0.03255099022391742,
         0.03023527236932134,
         0.032275252310925324,
         0.03110006025583113,
         0.03230155150440593,
         0.03234760888721337,
         0.03198875869044841,
         0.030847555800584032,
         0.031683005530661196,
         0.032169766923482015,
         0.03142181761210998,
         0.03181135224118422,
         0.0311915806435439,
         0.030633898087291094,
         0.030338703804341782,
         0.029473729288623553,
         0.03132741801418529,
         0.030712636648775566,
         0.031199094305529057,
         0.03177703755823701,
         0.030790231220603363,
         0.03080253109706138,
         0.032356667650618905
        ],
        [
         0.13347023410024123,
         0.1337249732692726,
         0.1316672202316113,
         0.13132759045111014,
         0.13225485869916156,
         0.13771761088864878,
         0.13289125888841227,
         0.12765953439520672,
         0.13396251985104754,
         0.13463310637744144,
         0.13339178181486205,
         0.1317986001376994,
         0.13139393610181288,
         0.13274281314807013,
         0.13253766113193705,
         0.1325213084113784,
         0.13301807186799125,
         0.13310480640502648,
         0.1344198273611255,
         0.13413009188370778,
         0.13133294387953356,
         0.13315402121515946,
         0.13230401409091427,
         0.13273730027722194,
         0.131489896599669,
         0.13332861327799037,
         0.13422946791397408,
         0.13326285035582258,
         0.13108678386779501,
         0.13311478571267799,
         0.1338608480175026,
         0.13223446254851295,
         0.13259940521093086,
         0.13205397381680087,
         0.13213203243212773,
         0.1308503373642452,
         0.1357694309321232,
         0.1310346336220391,
         0.13492076463298872,
         0.13709351542638615,
         0.13219380808295683,
         0.13499209807487206,
         0.13529451285721733,
         0.1337801681016572,
         0.1297288981382735,
         0.13206190477358176,
         0.13191357237519696,
         0.13385789963649586,
         0.1326608908479102,
         0.1335693517816253,
         0.13569203886436298,
         0.1337711732950993,
         0.13321059086592868,
         0.13317603404866532,
         0.13042003401787952,
         0.12937709112884477,
         0.13382498576538637,
         0.13540877132909374,
         0.13063802319811657,
         0.1333262576838024,
         0.13267986468272283,
         0.1296727888402529,
         0.13215230918722226,
         0.13511319366516544,
         0.13046904067741708,
         0.1337167173740454,
         0.1339226868120022,
         0.13279103628592565,
         0.13409724804805592,
         0.1349972810712643,
         0.13092814517440274,
         0.13372987835900857,
         0.13458370018051938,
         0.13654738945188,
         0.13383918470935896,
         0.135577086370904,
         0.1304712535929866,
         0.13697900782572106,
         0.1326392901246436,
         0.13442017753841357,
         0.13223003196762875,
         0.13480519877048208,
         0.13500856017926707,
         0.1367954871733673,
         0.1307100436766632,
         0.13061536309542135,
         0.13290803983109073,
         0.13180663540260867,
         0.13354794710176066,
         0.1311819996801205,
         0.1299730280530639,
         0.13195180922048166,
         0.1301713791792281,
         0.13123171088518576,
         0.1324228364159353,
         0.13187588556902483,
         0.1337475931388326,
         0.13239754374371843,
         0.12861923120217397,
         0.13552348158555105
        ],
        [
         2.6694046820048243,
         2.674499465385452,
         2.6333444046322256,
         2.626551809022203,
         2.645097173983231,
         2.7543522177729756,
         2.6578251777682453,
         2.5531906879041344,
         2.679250397020951,
         2.6926621275488287,
         2.667835636297241,
         2.635972002753988,
         2.6278787220362574,
         2.6548562629614025,
         2.650753222638741,
         2.6504261682275683,
         2.6603614373598248,
         2.6620961281005293,
         2.68839654722251,
         2.682601837674156,
         2.626658877590671,
         2.663080424303189,
         2.6460802818182856,
         2.654746005544439,
         2.62979793199338,
         2.6665722655598074,
         2.6845893582794815,
         2.665257007116452,
         2.6217356773559004,
         2.6622957142535597,
         2.6772169603500515,
         2.6446892509702593,
         2.651988104218617,
         2.6410794763360173,
         2.642640648642555,
         2.617006747284904,
         2.7153886186424643,
         2.620692672440782,
         2.6984152926597744,
         2.741870308527723,
         2.6438761616591364,
         2.699841961497441,
         2.705890257144347,
         2.6756033620331436,
         2.59457796276547,
         2.6412380954716355,
         2.6382714475039393,
         2.677157992729917,
         2.653217816958204,
         2.671387035632506,
         2.7138407772872597,
         2.6754234659019858,
         2.6642118173185736,
         2.6635206809733063,
         2.6084006803575903,
         2.5875418225768954,
         2.6764997153077275,
         2.7081754265818745,
         2.6127604639623314,
         2.666525153676048,
         2.6535972936544567,
         2.593455776805058,
         2.6430461837444454,
         2.702263873303309,
         2.6093808135483414,
         2.674334347480908,
         2.6784537362400442,
         2.655820725718513,
         2.6819449609611183,
         2.699945621425286,
         2.618562903488055,
         2.6745975671801716,
         2.6916740036103874,
         2.7309477890376,
         2.676783694187179,
         2.71154172741808,
         2.6094250718597323,
         2.739580156514421,
         2.652785802492872,
         2.688403550768271,
         2.644600639352575,
         2.696103975409642,
         2.7001712035853416,
         2.735909743467346,
         2.614200873533264,
         2.612307261908427,
         2.6581607966218144,
         2.6361327080521733,
         2.670958942035213,
         2.62363999360241,
         2.599460561061278,
         2.6390361844096333,
         2.603427583584562,
         2.624634217703715,
         2.648456728318706,
         2.6375177113804966,
         2.674951862776652,
         2.6479508748743683,
         2.5723846240434796,
         2.710469631711021
        ],
        [
         0.7845787214498802,
         0.7970208700246443,
         0.7779777930775488,
         0.7870649077065435,
         0.7870463762604271,
         0.8116621912017611,
         0.7930050299684743,
         0.763985580381781,
         0.788661506132462,
         0.7942921453461953,
         0.7943112136675057,
         0.7826334415418136,
         0.779606816430637,
         0.7825377099488574,
         0.7870124589736339,
         0.7903055230812721,
         0.7902690917516568,
         0.7783312901092502,
         0.8129762903679016,
         0.7973695429030353,
         0.781330127112975,
         0.7848782143149985,
         0.7805329284105316,
         0.7836729558506935,
         0.7808831708990164,
         0.7811636057642946,
         0.7955016145834692,
         0.791610878531936,
         0.7857389063027554,
         0.7888355710604387,
         0.798182121135693,
         0.7853882848443567,
         0.7913264550106346,
         0.7841700378220957,
         0.7827322894411739,
         0.7756352698191137,
         0.7950689765095914,
         0.7813723352843946,
         0.795150994800718,
         0.7985944606915475,
         0.7956552556982899,
         0.8006543675271034,
         0.796711189004426,
         0.8032530975263433,
         0.7617576093894245,
         0.7855160202032462,
         0.7907352451856505,
         0.7804833377949875,
         0.7853359926055302,
         0.794797908042287,
         0.7989218616157691,
         0.7912135183794164,
         0.8053152759244521,
         0.797492505314762,
         0.7837684522650383,
         0.7783933702205493,
         0.7948283673884813,
         0.8058492549669224,
         0.7937484294747049,
         0.7916441209903338,
         0.7914146035637406,
         0.777709714409551,
         0.7789528874660058,
         0.7880347152347981,
         0.7907010598596647,
         0.7960079708496922,
         0.7805726427560274,
         0.7867780668766382,
         0.7884673726238065,
         0.8056862097494977,
         0.7851497491977834,
         0.8030688271531738,
         0.8046704612614386,
         0.8079668756210604,
         0.7930030306395182,
         0.7982643441978284,
         0.789805262621822,
         0.8068579828435413,
         0.7776280906618709,
         0.8034332867254794,
         0.788670530143369,
         0.8037605551954629,
         0.8043333747546894,
         0.7998594712879059,
         0.78546235811252,
         0.7960277071894067,
         0.8021192794526513,
         0.7927397758673395,
         0.7976384173444032,
         0.7898301164623175,
         0.7827374794564407,
         0.7789570438007706,
         0.7677724830784645,
         0.7915480783147072,
         0.7837427721998534,
         0.7899252408364864,
         0.7972080977792061,
         0.784732199168651,
         0.7848889233141385,
         0.8044459913582627
        ]
       ],
       "encoder": "json",
       "name": "ABC_GAN_3 Metrics",
       "version": 1
      }
     },
     "metadata": {
      "scrapbook": {
       "data": true,
       "display": false,
       "name": "ABC_GAN_3 Metrics"
      }
     },
     "output_type": "display_data"
    },
    {
     "name": "stdout",
     "output_type": "stream",
     "text": [
      "MSE\n",
      "0.031240583778877624\n"
     ]
    }
   ],
   "source": [
    "ABC_GAN3_metrics=ABC_train_test2.test_generator(gen3,test_data,prior_model,variance,0,\"3\",device)\n",
    "sb.glue(\"ABC_GAN_3 Metrics\",ABC_GAN3_metrics)\n",
    "\n",
    "print(\"MSE\")\n",
    "print(mean(ABC_GAN3_metrics[0]))"
   ]
  },
  {
   "cell_type": "code",
   "execution_count": 18,
   "id": "c8e46b48",
   "metadata": {
    "execution": {
     "iopub.execute_input": "2022-05-18T08:51:45.703007Z",
     "iopub.status.busy": "2022-05-18T08:51:45.702640Z",
     "iopub.status.idle": "2022-05-18T08:51:46.002588Z",
     "shell.execute_reply": "2022-05-18T08:51:46.002910Z"
    },
    "id": "c8e46b48",
    "papermill": {
     "duration": 0.319439,
     "end_time": "2022-05-18T08:51:46.003039",
     "exception": false,
     "start_time": "2022-05-18T08:51:45.683600",
     "status": "completed"
    },
    "tags": []
   },
   "outputs": [
    {
     "data": {
      "image/png": "[encoded data removed]",
      "text/plain": [
       "<Figure size 432x288 with 1 Axes>"
      ]
     },
     "metadata": {
      "needs_background": "light"
     },
     "output_type": "display_data"
    },
    {
     "data": {
      "image/png": "[encoded data removed]",
      "text/plain": [
       "<Figure size 432x288 with 1 Axes>"
      ]
     },
     "metadata": {
      "needs_background": "light"
     },
     "output_type": "display_data"
    },
    {
     "data": {
      "image/png": "[encoded data removed]",
      "text/plain": [
       "<Figure size 432x288 with 1 Axes>"
      ]
     },
     "metadata": {
      "needs_background": "light"
     },
     "output_type": "display_data"
    },
    {
     "data": {
      "image/png": "[encoded data removed]",
      "text/plain": [
       "<Figure size 432x288 with 1 Axes>"
      ]
     },
     "metadata": {
      "needs_background": "light"
     },
     "output_type": "display_data"
    }
   ],
   "source": [
    "sanityChecks.discProbVsError(train_data,disc3,device)\n",
    "sanityChecks.discProbVsError(test_data,disc3,device)"
   ]
  },
  {
   "cell_type": "markdown",
   "id": "a5bd74c3",
   "metadata": {
    "id": "a5bd74c3",
    "papermill": {
     "duration": 0.019587,
     "end_time": "2022-05-18T08:51:46.041889",
     "exception": false,
     "start_time": "2022-05-18T08:51:46.022302",
     "status": "completed"
    },
    "tags": []
   },
   "source": [
    "## Skip Connection Model Analysis - ABC-GAN "
   ]
  },
  {
   "cell_type": "markdown",
   "id": "5744a8bf",
   "metadata": {
    "id": "5744a8bf",
    "papermill": {
     "duration": 0.018662,
     "end_time": "2022-05-18T08:51:46.079599",
     "exception": false,
     "start_time": "2022-05-18T08:51:46.060937",
     "status": "completed"
    },
    "tags": []
   },
   "source": [
    "### Weight Analysis \n",
    "\n",
    "Study the weights of the skip connection layer\n",
    "\n",
    "Equation of the skip connection is \n",
    "\n",
    "$output = y_{gan} * w + y_{abc} * (1-w)$"
   ]
  },
  {
   "cell_type": "code",
   "execution_count": 19,
   "id": "52c31dea",
   "metadata": {
    "execution": {
     "iopub.execute_input": "2022-05-18T08:51:46.120165Z",
     "iopub.status.busy": "2022-05-18T08:51:46.119778Z",
     "iopub.status.idle": "2022-05-18T08:51:46.123726Z",
     "shell.execute_reply": "2022-05-18T08:51:46.123979Z"
    },
    "id": "52c31dea",
    "papermill": {
     "duration": 0.025745,
     "end_time": "2022-05-18T08:51:46.124099",
     "exception": false,
     "start_time": "2022-05-18T08:51:46.098354",
     "status": "completed"
    },
    "tags": []
   },
   "outputs": [
    {
     "name": "stdout",
     "output_type": "stream",
     "text": [
      "Weight of the node at skip connection\n",
      "Parameter containing:\n",
      "tensor([[0.3166]], requires_grad=True)\n"
     ]
    },
    {
     "data": {
      "application/scrapbook.scrap.json+json": {
       "data": 0.31664955615997314,
       "encoder": "json",
       "name": "Skip Connection Weight",
       "version": 1
      }
     },
     "metadata": {
      "scrapbook": {
       "data": true,
       "display": false,
       "name": "Skip Connection Weight"
      }
     },
     "output_type": "display_data"
    }
   ],
   "source": [
    "print(\"Weight of the node at skip connection\")\n",
    "for name,param in gen3.named_parameters():\n",
    "    if(name == \"skipNode.weight\"):\n",
    "        print(param)\n",
    "        sb.glue(\"Skip Connection Weight\",param.item())"
   ]
  }
 ],
 "metadata": {
  "colab": {
   "collapsed_sections": [],
   "name": "ABC_GAN_Model-Catboost_Pre-gen.ipynb",
   "provenance": []
  },
  "interpreter": {
   "hash": "31f2aee4e71d21fbe5cf8b01ff0e069b9275f58929596ceb00d14d90e3e16cd6"
  },
  "kernelspec": {
   "display_name": "Python 3 (ipykernel)",
   "language": "python",
   "name": "python3"
  },
  "language_info": {
   "codemirror_mode": {
    "name": "ipython",
    "version": 3
   },
   "file_extension": ".py",
   "mimetype": "text/x-python",
   "name": "python",
   "nbconvert_exporter": "python",
   "pygments_lexer": "ipython3",
   "version": "3.8.11"
  },
  "papermill": {
   "default_parameters": {},
   "duration": 60.576669,
   "end_time": "2022-05-18T08:51:46.454278",
   "environment_variables": {},
   "exception": null,
   "input_path": "ABC_GAN-Catboost.ipynb",
   "output_path": "./ABC_GAN_Catboost/ABC-GAN_output_10_2.ipynb",
   "parameters": {
    "variance": 0.01
   },
   "start_time": "2022-05-18T08:50:45.877609",
   "version": "2.3.3"
  }
 },
 "nbformat": 4,
 "nbformat_minor": 5
}