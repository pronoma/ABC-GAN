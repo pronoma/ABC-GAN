{
 "cells": [
  {
   "cell_type": "markdown",
   "id": "622780e6",
   "metadata": {
    "id": "622780e6",
    "papermill": {
     "duration": 0.036705,
     "end_time": "2022-05-18T08:30:18.672658",
     "exception": false,
     "start_time": "2022-05-18T08:30:18.635953",
     "status": "completed"
    },
    "tags": []
   },
   "source": [
    "## Import Libraries "
   ]
  },
  {
   "cell_type": "code",
   "execution_count": 1,
   "id": "a62397e3",
   "metadata": {
    "execution": {
     "iopub.execute_input": "2022-05-18T08:30:18.708707Z",
     "iopub.status.busy": "2022-05-18T08:30:18.708173Z",
     "iopub.status.idle": "2022-05-18T08:30:18.710516Z",
     "shell.execute_reply": "2022-05-18T08:30:18.710857Z"
    },
    "id": "a62397e3",
    "papermill": {
     "duration": 0.022492,
     "end_time": "2022-05-18T08:30:18.711074",
     "exception": false,
     "start_time": "2022-05-18T08:30:18.688582",
     "status": "completed"
    },
    "tags": []
   },
   "outputs": [],
   "source": [
    "import warnings\n",
    "import sys\n",
    "sys.path.insert(0, '../../src')\n",
    "warnings.filterwarnings('ignore')"
   ]
  },
  {
   "cell_type": "code",
   "execution_count": 2,
   "id": "d6a4e155",
   "metadata": {
    "execution": {
     "iopub.execute_input": "2022-05-18T08:30:18.732075Z",
     "iopub.status.busy": "2022-05-18T08:30:18.731666Z",
     "iopub.status.idle": "2022-05-18T08:30:20.483375Z",
     "shell.execute_reply": "2022-05-18T08:30:20.483642Z"
    },
    "id": "d6a4e155",
    "papermill": {
     "duration": 1.763079,
     "end_time": "2022-05-18T08:30:20.483766",
     "exception": false,
     "start_time": "2022-05-18T08:30:18.720687",
     "status": "completed"
    },
    "tags": []
   },
   "outputs": [],
   "source": [
    "import ABC_train_test2\n",
    "import friedman1Dataset\n",
    "import network\n",
    "import dataset\n",
    "import sanityChecks\n",
    "import torch \n",
    "import scrapbook as sb\n",
    "from statistics import mean \n",
    "import catboost as ctb \n",
    "from sklearn.model_selection import train_test_split\n",
    "from sklearn.metrics import mean_squared_error,mean_absolute_error\n",
    "import numpy as np"
   ]
  },
  {
   "cell_type": "markdown",
   "id": "2fa5b0f7",
   "metadata": {
    "id": "2fa5b0f7",
    "papermill": {
     "duration": 0.006818,
     "end_time": "2022-05-18T08:30:20.497638",
     "exception": false,
     "start_time": "2022-05-18T08:30:20.490820",
     "status": "completed"
    },
    "tags": []
   },
   "source": [
    "## Parameters "
   ]
  },
  {
   "cell_type": "code",
   "execution_count": 3,
   "id": "783186fb",
   "metadata": {
    "execution": {
     "iopub.execute_input": "2022-05-18T08:30:20.513804Z",
     "iopub.status.busy": "2022-05-18T08:30:20.513434Z",
     "iopub.status.idle": "2022-05-18T08:30:20.514735Z",
     "shell.execute_reply": "2022-05-18T08:30:20.514989Z"
    },
    "id": "783186fb",
    "papermill": {
     "duration": 0.010537,
     "end_time": "2022-05-18T08:30:20.515104",
     "exception": false,
     "start_time": "2022-05-18T08:30:20.504567",
     "status": "completed"
    },
    "tags": [
     "parameters"
    ]
   },
   "outputs": [],
   "source": [
    "variance = 1"
   ]
  },
  {
   "cell_type": "code",
   "execution_count": 4,
   "id": "99bea80c",
   "metadata": {
    "execution": {
     "iopub.execute_input": "2022-05-18T08:30:20.530650Z",
     "iopub.status.busy": "2022-05-18T08:30:20.530294Z",
     "iopub.status.idle": "2022-05-18T08:30:20.531507Z",
     "shell.execute_reply": "2022-05-18T08:30:20.531741Z"
    },
    "papermill": {
     "duration": 0.009821,
     "end_time": "2022-05-18T08:30:20.531845",
     "exception": false,
     "start_time": "2022-05-18T08:30:20.522024",
     "status": "completed"
    },
    "tags": [
     "injected-parameters"
    ]
   },
   "outputs": [],
   "source": [
    "# Parameters\n",
    "variance = 0.01\n"
   ]
  },
  {
   "cell_type": "markdown",
   "id": "391cdbfd",
   "metadata": {
    "id": "391cdbfd",
    "papermill": {
     "duration": 0.006894,
     "end_time": "2022-05-18T08:30:20.545553",
     "exception": false,
     "start_time": "2022-05-18T08:30:20.538659",
     "status": "completed"
    },
    "tags": []
   },
   "source": [
    "## Dataset \n"
   ]
  },
  {
   "cell_type": "code",
   "execution_count": 5,
   "id": "5b51f161",
   "metadata": {
    "execution": {
     "iopub.execute_input": "2022-05-18T08:30:20.561215Z",
     "iopub.status.busy": "2022-05-18T08:30:20.560835Z",
     "iopub.status.idle": "2022-05-18T08:30:20.562179Z",
     "shell.execute_reply": "2022-05-18T08:30:20.562411Z"
    },
    "id": "5b51f161",
    "papermill": {
     "duration": 0.010211,
     "end_time": "2022-05-18T08:30:20.562522",
     "exception": false,
     "start_time": "2022-05-18T08:30:20.552311",
     "status": "completed"
    },
    "tags": []
   },
   "outputs": [],
   "source": [
    "#Parameters \n",
    "n_features = 5\n",
    "n_samples= 100\n",
    "n_target = 1 "
   ]
  },
  {
   "cell_type": "code",
   "execution_count": 6,
   "id": "5d6eced4",
   "metadata": {
    "execution": {
     "iopub.execute_input": "2022-05-18T08:30:20.583530Z",
     "iopub.status.busy": "2022-05-18T08:30:20.582790Z",
     "iopub.status.idle": "2022-05-18T08:30:20.589175Z",
     "shell.execute_reply": "2022-05-18T08:30:20.589490Z"
    },
    "id": "5d6eced4",
    "papermill": {
     "duration": 0.019947,
     "end_time": "2022-05-18T08:30:20.589640",
     "exception": false,
     "start_time": "2022-05-18T08:30:20.569693",
     "status": "completed"
    },
    "tags": []
   },
   "outputs": [
    {
     "name": "stdout",
     "output_type": "stream",
     "text": [
      "         X0        X1        X2        X3        X4         Y\n",
      "0 -1.203629  0.443776  0.651283  1.309577  1.647837  0.772565\n",
      "1  0.965789 -0.263234  0.858601  0.683237  0.496425  1.544894\n",
      "2 -1.161420  1.417632  1.413547 -1.668346  1.451983 -0.324792\n",
      "3 -0.768723 -0.471296  1.160760  0.601334  0.805904  0.533542\n",
      "4  0.178899 -1.030505  1.030705  0.481139  1.301892  0.677892\n"
     ]
    }
   ],
   "source": [
    "X,Y = friedman1Dataset.friedman1_data(n_samples,n_features)"
   ]
  },
  {
   "cell_type": "code",
   "execution_count": 7,
   "id": "fe007438",
   "metadata": {
    "execution": {
     "iopub.execute_input": "2022-05-18T08:30:20.611152Z",
     "iopub.status.busy": "2022-05-18T08:30:20.610323Z",
     "iopub.status.idle": "2022-05-18T08:30:20.612771Z",
     "shell.execute_reply": "2022-05-18T08:30:20.613231Z"
    },
    "id": "fe007438",
    "papermill": {
     "duration": 0.016206,
     "end_time": "2022-05-18T08:30:20.613744",
     "exception": false,
     "start_time": "2022-05-18T08:30:20.597538",
     "status": "completed"
    },
    "tags": []
   },
   "outputs": [],
   "source": [
    "#Train test split for dataset \n",
    "X_train,X_test,Y_train,Y_test = train_test_split(X,Y,test_size = 0.2)\n",
    "train_data = dataset.CustomDataset(X_train,Y_train)\n",
    "test_data = dataset.CustomDataset(X_test,Y_test)\n"
   ]
  },
  {
   "cell_type": "markdown",
   "id": "a9a1af34",
   "metadata": {
    "id": "a9a1af34",
    "papermill": {
     "duration": 0.008182,
     "end_time": "2022-05-18T08:30:20.630527",
     "exception": false,
     "start_time": "2022-05-18T08:30:20.622345",
     "status": "completed"
    },
    "tags": []
   },
   "source": [
    "## Training Parameters "
   ]
  },
  {
   "cell_type": "code",
   "execution_count": 8,
   "id": "952b7fc8",
   "metadata": {
    "execution": {
     "iopub.execute_input": "2022-05-18T08:30:20.650373Z",
     "iopub.status.busy": "2022-05-18T08:30:20.649951Z",
     "iopub.status.idle": "2022-05-18T08:30:20.651097Z",
     "shell.execute_reply": "2022-05-18T08:30:20.651354Z"
    },
    "id": "952b7fc8",
    "papermill": {
     "duration": 0.012718,
     "end_time": "2022-05-18T08:30:20.651482",
     "exception": false,
     "start_time": "2022-05-18T08:30:20.638764",
     "status": "completed"
    },
    "tags": []
   },
   "outputs": [],
   "source": [
    "batch_size = 32\n",
    "n_epochs = 1000\n",
    "#Select the device \n",
    "device = torch.device('cuda' if torch.cuda.is_available() else 'cpu')"
   ]
  },
  {
   "cell_type": "markdown",
   "id": "a95e1600",
   "metadata": {
    "id": "a95e1600",
    "papermill": {
     "duration": 0.007185,
     "end_time": "2022-05-18T08:30:20.666170",
     "exception": false,
     "start_time": "2022-05-18T08:30:20.658985",
     "status": "completed"
    },
    "tags": []
   },
   "source": [
    "# ABC Pre-generator Model \n",
    "\n",
    "1. The catboost model is used as a pre-generator model for the ABC-GAN. \n",
    "2. The model is first trained on the entire dataset \n",
    "3. It generats X,Y pairs and we add some Gaussian noise with mean 0 and variance 1 to it which is then feed as input to the generator.\n"
   ]
  },
  {
   "cell_type": "code",
   "execution_count": 9,
   "id": "ff8ce7bd",
   "metadata": {
    "execution": {
     "iopub.execute_input": "2022-05-18T08:30:20.684867Z",
     "iopub.status.busy": "2022-05-18T08:30:20.684457Z",
     "iopub.status.idle": "2022-05-18T08:30:21.528516Z",
     "shell.execute_reply": "2022-05-18T08:30:21.528938Z"
    },
    "id": "ff8ce7bd",
    "papermill": {
     "duration": 0.855713,
     "end_time": "2022-05-18T08:30:21.529107",
     "exception": false,
     "start_time": "2022-05-18T08:30:20.673394",
     "status": "completed"
    },
    "tags": []
   },
   "outputs": [
    {
     "name": "stdout",
     "output_type": "stream",
     "text": [
      "Learning rate set to 0.024897\n",
      "0:\tlearn: 1.0000735\ttotal: 57.8ms\tremaining: 57.7s\n",
      "1:\tlearn: 0.9913666\ttotal: 58.5ms\tremaining: 29.2s\n",
      "2:\tlearn: 0.9804813\ttotal: 59ms\tremaining: 19.6s\n",
      "3:\tlearn: 0.9713194\ttotal: 59.5ms\tremaining: 14.8s\n",
      "4:\tlearn: 0.9628745\ttotal: 60.1ms\tremaining: 12s\n",
      "5:\tlearn: 0.9523992\ttotal: 60.6ms\tremaining: 10s\n",
      "6:\tlearn: 0.9408254\ttotal: 61.2ms\tremaining: 8.68s\n",
      "7:\tlearn: 0.9299487\ttotal: 61.6ms\tremaining: 7.64s\n",
      "8:\tlearn: 0.9216815\ttotal: 62.2ms\tremaining: 6.85s\n",
      "9:\tlearn: 0.9146451\ttotal: 62.8ms\tremaining: 6.21s\n",
      "10:\tlearn: 0.9065461\ttotal: 63.4ms\tremaining: 5.7s\n",
      "11:\tlearn: 0.8985383\ttotal: 64ms\tremaining: 5.26s\n",
      "12:\tlearn: 0.8909021\ttotal: 64.3ms\tremaining: 4.88s\n",
      "13:\tlearn: 0.8836132\ttotal: 64.8ms\tremaining: 4.57s\n",
      "14:\tlearn: 0.8762198\ttotal: 65.3ms\tremaining: 4.29s\n",
      "15:\tlearn: 0.8682487\ttotal: 65.7ms\tremaining: 4.04s\n",
      "16:\tlearn: 0.8600548\ttotal: 66.1ms\tremaining: 3.82s\n",
      "17:\tlearn: 0.8530954\ttotal: 66.6ms\tremaining: 3.63s\n",
      "18:\tlearn: 0.8442388\ttotal: 67.1ms\tremaining: 3.46s\n",
      "19:\tlearn: 0.8349062\ttotal: 67.5ms\tremaining: 3.31s\n",
      "20:\tlearn: 0.8266626\ttotal: 67.7ms\tremaining: 3.16s\n",
      "21:\tlearn: 0.8182315\ttotal: 68.2ms\tremaining: 3.03s\n",
      "22:\tlearn: 0.8109292\ttotal: 68.6ms\tremaining: 2.91s\n",
      "23:\tlearn: 0.8046415\ttotal: 69ms\tremaining: 2.81s\n",
      "24:\tlearn: 0.7965309\ttotal: 69.4ms\tremaining: 2.71s\n",
      "25:\tlearn: 0.7892862\ttotal: 69.9ms\tremaining: 2.62s\n",
      "26:\tlearn: 0.7826715\ttotal: 70.2ms\tremaining: 2.53s\n",
      "27:\tlearn: 0.7762828\ttotal: 70.6ms\tremaining: 2.45s\n",
      "28:\tlearn: 0.7686015\ttotal: 71ms\tremaining: 2.38s\n",
      "29:\tlearn: 0.7627837\ttotal: 71.6ms\tremaining: 2.31s\n",
      "30:\tlearn: 0.7566301\ttotal: 72.1ms\tremaining: 2.25s\n",
      "31:\tlearn: 0.7493725\ttotal: 72.5ms\tremaining: 2.19s\n",
      "32:\tlearn: 0.7436204\ttotal: 72.9ms\tremaining: 2.13s\n",
      "33:\tlearn: 0.7376284\ttotal: 73.3ms\tremaining: 2.08s\n",
      "34:\tlearn: 0.7304082\ttotal: 73.7ms\tremaining: 2.03s\n",
      "35:\tlearn: 0.7247747\ttotal: 74.2ms\tremaining: 1.99s\n",
      "36:\tlearn: 0.7173589\ttotal: 74.6ms\tremaining: 1.94s\n",
      "37:\tlearn: 0.7111320\ttotal: 75.2ms\tremaining: 1.9s\n",
      "38:\tlearn: 0.7061044\ttotal: 75.6ms\tremaining: 1.86s\n",
      "39:\tlearn: 0.6999621\ttotal: 76.1ms\tremaining: 1.83s\n",
      "40:\tlearn: 0.6945362\ttotal: 76.6ms\tremaining: 1.79s\n",
      "41:\tlearn: 0.6886633\ttotal: 77.1ms\tremaining: 1.76s\n",
      "42:\tlearn: 0.6824034\ttotal: 77.6ms\tremaining: 1.73s\n",
      "43:\tlearn: 0.6754744\ttotal: 78ms\tremaining: 1.69s\n",
      "44:\tlearn: 0.6694944\ttotal: 78.6ms\tremaining: 1.67s\n",
      "45:\tlearn: 0.6660053\ttotal: 79.1ms\tremaining: 1.64s\n",
      "46:\tlearn: 0.6600708\ttotal: 79.7ms\tremaining: 1.61s\n",
      "47:\tlearn: 0.6546718\ttotal: 80.1ms\tremaining: 1.59s\n"
     ]
    },
    {
     "name": "stdout",
     "output_type": "stream",
     "text": [
      "48:\tlearn: 0.6487902\ttotal: 81ms\tremaining: 1.57s\n",
      "49:\tlearn: 0.6424775\ttotal: 81.7ms\tremaining: 1.55s\n",
      "50:\tlearn: 0.6374329\ttotal: 82.4ms\tremaining: 1.53s\n",
      "51:\tlearn: 0.6318117\ttotal: 82.8ms\tremaining: 1.51s\n",
      "52:\tlearn: 0.6257774\ttotal: 83.4ms\tremaining: 1.49s\n",
      "53:\tlearn: 0.6206343\ttotal: 84.1ms\tremaining: 1.47s\n",
      "54:\tlearn: 0.6147869\ttotal: 84.7ms\tremaining: 1.45s\n",
      "55:\tlearn: 0.6108297\ttotal: 85.1ms\tremaining: 1.43s\n",
      "56:\tlearn: 0.6060019\ttotal: 85.5ms\tremaining: 1.42s\n",
      "57:\tlearn: 0.6013096\ttotal: 86.1ms\tremaining: 1.4s\n",
      "58:\tlearn: 0.5974602\ttotal: 86.6ms\tremaining: 1.38s\n",
      "59:\tlearn: 0.5922505\ttotal: 87.1ms\tremaining: 1.36s\n",
      "60:\tlearn: 0.5878134\ttotal: 87.5ms\tremaining: 1.35s\n",
      "61:\tlearn: 0.5828913\ttotal: 88ms\tremaining: 1.33s\n",
      "62:\tlearn: 0.5775139\ttotal: 88.3ms\tremaining: 1.31s\n",
      "63:\tlearn: 0.5722332\ttotal: 88.8ms\tremaining: 1.3s\n",
      "64:\tlearn: 0.5666834\ttotal: 89.3ms\tremaining: 1.28s\n",
      "65:\tlearn: 0.5618396\ttotal: 89.7ms\tremaining: 1.27s\n",
      "66:\tlearn: 0.5572946\ttotal: 90.3ms\tremaining: 1.26s\n",
      "67:\tlearn: 0.5528612\ttotal: 90.9ms\tremaining: 1.25s\n",
      "68:\tlearn: 0.5484217\ttotal: 91.4ms\tremaining: 1.23s\n",
      "69:\tlearn: 0.5439150\ttotal: 91.8ms\tremaining: 1.22s\n",
      "70:\tlearn: 0.5395084\ttotal: 92.2ms\tremaining: 1.21s\n",
      "71:\tlearn: 0.5359907\ttotal: 92.7ms\tremaining: 1.19s\n",
      "72:\tlearn: 0.5324599\ttotal: 93.1ms\tremaining: 1.18s\n",
      "73:\tlearn: 0.5277756\ttotal: 93.6ms\tremaining: 1.17s\n",
      "74:\tlearn: 0.5233443\ttotal: 94.1ms\tremaining: 1.16s\n",
      "75:\tlearn: 0.5199055\ttotal: 94.5ms\tremaining: 1.15s\n",
      "76:\tlearn: 0.5160849\ttotal: 95.1ms\tremaining: 1.14s\n",
      "77:\tlearn: 0.5126224\ttotal: 95.5ms\tremaining: 1.13s\n",
      "78:\tlearn: 0.5093657\ttotal: 95.9ms\tremaining: 1.12s\n",
      "79:\tlearn: 0.5048665\ttotal: 96.3ms\tremaining: 1.11s\n",
      "80:\tlearn: 0.5005899\ttotal: 96.7ms\tremaining: 1.1s\n",
      "81:\tlearn: 0.4964772\ttotal: 97.4ms\tremaining: 1.09s\n",
      "82:\tlearn: 0.4931240\ttotal: 98ms\tremaining: 1.08s\n",
      "83:\tlearn: 0.4894547\ttotal: 98.5ms\tremaining: 1.07s\n",
      "84:\tlearn: 0.4855564\ttotal: 99.1ms\tremaining: 1.07s\n",
      "85:\tlearn: 0.4819573\ttotal: 99.6ms\tremaining: 1.06s\n",
      "86:\tlearn: 0.4782035\ttotal: 100ms\tremaining: 1.05s\n",
      "87:\tlearn: 0.4751547\ttotal: 101ms\tremaining: 1.04s\n",
      "88:\tlearn: 0.4715732\ttotal: 101ms\tremaining: 1.03s\n",
      "89:\tlearn: 0.4680440\ttotal: 102ms\tremaining: 1.03s\n",
      "90:\tlearn: 0.4638508\ttotal: 102ms\tremaining: 1.02s\n",
      "91:\tlearn: 0.4606537\ttotal: 103ms\tremaining: 1.01s\n",
      "92:\tlearn: 0.4572126\ttotal: 103ms\tremaining: 1s\n",
      "93:\tlearn: 0.4539698\ttotal: 103ms\tremaining: 996ms\n",
      "94:\tlearn: 0.4502671\ttotal: 104ms\tremaining: 988ms\n",
      "95:\tlearn: 0.4472162\ttotal: 104ms\tremaining: 981ms\n",
      "96:\tlearn: 0.4443695\ttotal: 105ms\tremaining: 973ms\n",
      "97:\tlearn: 0.4409826\ttotal: 105ms\tremaining: 966ms\n",
      "98:\tlearn: 0.4378268\ttotal: 106ms\tremaining: 961ms\n",
      "99:\tlearn: 0.4347578\ttotal: 106ms\tremaining: 953ms\n",
      "100:\tlearn: 0.4316160\ttotal: 106ms\tremaining: 947ms\n",
      "101:\tlearn: 0.4279325\ttotal: 107ms\tremaining: 940ms\n",
      "102:\tlearn: 0.4250231\ttotal: 107ms\tremaining: 933ms\n",
      "103:\tlearn: 0.4219971\ttotal: 108ms\tremaining: 926ms\n",
      "104:\tlearn: 0.4190708\ttotal: 108ms\tremaining: 921ms\n",
      "105:\tlearn: 0.4160015\ttotal: 109ms\tremaining: 916ms\n",
      "106:\tlearn: 0.4130500\ttotal: 109ms\tremaining: 911ms\n",
      "107:\tlearn: 0.4099437\ttotal: 110ms\tremaining: 906ms\n",
      "108:\tlearn: 0.4070080\ttotal: 110ms\tremaining: 901ms\n",
      "109:\tlearn: 0.4040409\ttotal: 111ms\tremaining: 896ms\n",
      "110:\tlearn: 0.4014484\ttotal: 111ms\tremaining: 891ms\n",
      "111:\tlearn: 0.3988313\ttotal: 112ms\tremaining: 885ms\n",
      "112:\tlearn: 0.3954700\ttotal: 112ms\tremaining: 879ms\n",
      "113:\tlearn: 0.3928386\ttotal: 112ms\tremaining: 874ms\n",
      "114:\tlearn: 0.3900263\ttotal: 113ms\tremaining: 870ms\n",
      "115:\tlearn: 0.3873347\ttotal: 114ms\tremaining: 866ms\n",
      "116:\tlearn: 0.3846927\ttotal: 114ms\tremaining: 862ms\n",
      "117:\tlearn: 0.3821066\ttotal: 115ms\tremaining: 858ms\n",
      "118:\tlearn: 0.3794206\ttotal: 115ms\tremaining: 853ms\n",
      "119:\tlearn: 0.3765348\ttotal: 116ms\tremaining: 848ms\n",
      "120:\tlearn: 0.3739987\ttotal: 116ms\tremaining: 843ms\n",
      "121:\tlearn: 0.3720136\ttotal: 116ms\tremaining: 838ms\n",
      "122:\tlearn: 0.3696779\ttotal: 117ms\tremaining: 833ms\n",
      "123:\tlearn: 0.3670820\ttotal: 117ms\tremaining: 829ms\n",
      "124:\tlearn: 0.3646566\ttotal: 118ms\tremaining: 825ms\n",
      "125:\tlearn: 0.3622714\ttotal: 118ms\tremaining: 821ms\n",
      "126:\tlearn: 0.3602971\ttotal: 119ms\tremaining: 816ms\n",
      "127:\tlearn: 0.3578363\ttotal: 119ms\tremaining: 812ms\n",
      "128:\tlearn: 0.3551600\ttotal: 120ms\tremaining: 807ms\n",
      "129:\tlearn: 0.3529080\ttotal: 120ms\tremaining: 803ms\n",
      "130:\tlearn: 0.3502862\ttotal: 120ms\tremaining: 798ms\n",
      "131:\tlearn: 0.3486598\ttotal: 121ms\tremaining: 794ms\n",
      "132:\tlearn: 0.3460525\ttotal: 121ms\tremaining: 790ms\n",
      "133:\tlearn: 0.3436546\ttotal: 122ms\tremaining: 788ms\n",
      "134:\tlearn: 0.3413404\ttotal: 122ms\tremaining: 784ms\n",
      "135:\tlearn: 0.3393723\ttotal: 123ms\tremaining: 780ms\n",
      "136:\tlearn: 0.3368019\ttotal: 123ms\tremaining: 776ms\n",
      "137:\tlearn: 0.3346484\ttotal: 123ms\tremaining: 771ms\n",
      "138:\tlearn: 0.3321487\ttotal: 124ms\tremaining: 768ms\n",
      "139:\tlearn: 0.3296881\ttotal: 125ms\tremaining: 770ms\n",
      "140:\tlearn: 0.3277564\ttotal: 126ms\tremaining: 766ms\n",
      "141:\tlearn: 0.3258477\ttotal: 126ms\tremaining: 763ms\n",
      "142:\tlearn: 0.3235418\ttotal: 127ms\tremaining: 760ms\n",
      "143:\tlearn: 0.3216659\ttotal: 127ms\tremaining: 756ms\n",
      "144:\tlearn: 0.3198785\ttotal: 128ms\tremaining: 753ms\n",
      "145:\tlearn: 0.3179136\ttotal: 128ms\tremaining: 749ms\n",
      "146:\tlearn: 0.3157399\ttotal: 129ms\tremaining: 746ms\n",
      "147:\tlearn: 0.3136026\ttotal: 129ms\tremaining: 743ms\n",
      "148:\tlearn: 0.3114477\ttotal: 130ms\tremaining: 741ms\n",
      "149:\tlearn: 0.3094271\ttotal: 130ms\tremaining: 739ms\n",
      "150:\tlearn: 0.3078996\ttotal: 131ms\tremaining: 734ms\n",
      "151:\tlearn: 0.3057458\ttotal: 131ms\tremaining: 731ms\n",
      "152:\tlearn: 0.3042604\ttotal: 131ms\tremaining: 728ms\n",
      "153:\tlearn: 0.3022722\ttotal: 132ms\tremaining: 725ms\n",
      "154:\tlearn: 0.3001570\ttotal: 132ms\tremaining: 722ms\n",
      "155:\tlearn: 0.2981955\ttotal: 133ms\tremaining: 719ms\n",
      "156:\tlearn: 0.2962947\ttotal: 133ms\tremaining: 716ms\n",
      "157:\tlearn: 0.2947424\ttotal: 134ms\tremaining: 713ms\n",
      "158:\tlearn: 0.2928749\ttotal: 134ms\tremaining: 709ms\n",
      "159:\tlearn: 0.2912994\ttotal: 135ms\tremaining: 706ms\n",
      "160:\tlearn: 0.2895423\ttotal: 135ms\tremaining: 704ms\n",
      "161:\tlearn: 0.2873398\ttotal: 135ms\tremaining: 701ms\n",
      "162:\tlearn: 0.2856692\ttotal: 136ms\tremaining: 698ms\n",
      "163:\tlearn: 0.2835490\ttotal: 136ms\tremaining: 695ms\n",
      "164:\tlearn: 0.2817944\ttotal: 137ms\tremaining: 692ms\n",
      "165:\tlearn: 0.2801629\ttotal: 137ms\tremaining: 689ms\n",
      "166:\tlearn: 0.2783870\ttotal: 138ms\tremaining: 686ms\n",
      "167:\tlearn: 0.2767749\ttotal: 138ms\tremaining: 684ms\n",
      "168:\tlearn: 0.2749585\ttotal: 138ms\tremaining: 681ms\n",
      "169:\tlearn: 0.2737206\ttotal: 139ms\tremaining: 678ms\n",
      "170:\tlearn: 0.2721788\ttotal: 139ms\tremaining: 675ms\n",
      "171:\tlearn: 0.2701778\ttotal: 140ms\tremaining: 672ms\n",
      "172:\tlearn: 0.2686480\ttotal: 140ms\tremaining: 670ms\n",
      "173:\tlearn: 0.2672238\ttotal: 141ms\tremaining: 668ms\n",
      "174:\tlearn: 0.2657500\ttotal: 141ms\tremaining: 665ms\n",
      "175:\tlearn: 0.2640027\ttotal: 142ms\tremaining: 663ms\n",
      "176:\tlearn: 0.2625858\ttotal: 142ms\tremaining: 661ms\n",
      "177:\tlearn: 0.2609382\ttotal: 142ms\tremaining: 658ms\n",
      "178:\tlearn: 0.2594944\ttotal: 143ms\tremaining: 656ms\n",
      "179:\tlearn: 0.2577574\ttotal: 144ms\tremaining: 654ms\n",
      "180:\tlearn: 0.2560670\ttotal: 144ms\tremaining: 652ms\n",
      "181:\tlearn: 0.2543431\ttotal: 145ms\tremaining: 650ms\n",
      "182:\tlearn: 0.2529262\ttotal: 145ms\tremaining: 649ms\n",
      "183:\tlearn: 0.2513735\ttotal: 146ms\tremaining: 647ms\n",
      "184:\tlearn: 0.2500653\ttotal: 146ms\tremaining: 645ms\n",
      "185:\tlearn: 0.2488403\ttotal: 147ms\tremaining: 644ms\n",
      "186:\tlearn: 0.2473945\ttotal: 148ms\tremaining: 642ms\n",
      "187:\tlearn: 0.2461109\ttotal: 148ms\tremaining: 640ms\n",
      "188:\tlearn: 0.2443937\ttotal: 149ms\tremaining: 638ms\n",
      "189:\tlearn: 0.2429386\ttotal: 150ms\tremaining: 638ms\n",
      "190:\tlearn: 0.2412450\ttotal: 151ms\tremaining: 638ms\n",
      "191:\tlearn: 0.2396497\ttotal: 152ms\tremaining: 638ms\n",
      "192:\tlearn: 0.2382717\ttotal: 152ms\tremaining: 637ms\n",
      "193:\tlearn: 0.2369421\ttotal: 153ms\tremaining: 636ms\n",
      "194:\tlearn: 0.2357073\ttotal: 154ms\tremaining: 635ms\n"
     ]
    },
    {
     "name": "stdout",
     "output_type": "stream",
     "text": [
      "195:\tlearn: 0.2343752\ttotal: 155ms\tremaining: 635ms\n",
      "196:\tlearn: 0.2327945\ttotal: 156ms\tremaining: 635ms\n",
      "197:\tlearn: 0.2313170\ttotal: 156ms\tremaining: 633ms\n",
      "198:\tlearn: 0.2299801\ttotal: 157ms\tremaining: 632ms\n",
      "199:\tlearn: 0.2286163\ttotal: 158ms\tremaining: 632ms\n",
      "200:\tlearn: 0.2273076\ttotal: 159ms\tremaining: 631ms\n",
      "201:\tlearn: 0.2258378\ttotal: 159ms\tremaining: 629ms\n",
      "202:\tlearn: 0.2245538\ttotal: 160ms\tremaining: 627ms\n",
      "203:\tlearn: 0.2234243\ttotal: 161ms\tremaining: 627ms\n",
      "204:\tlearn: 0.2219900\ttotal: 161ms\tremaining: 626ms\n",
      "205:\tlearn: 0.2207240\ttotal: 162ms\tremaining: 625ms\n",
      "206:\tlearn: 0.2194380\ttotal: 163ms\tremaining: 624ms\n",
      "207:\tlearn: 0.2178317\ttotal: 163ms\tremaining: 622ms\n",
      "208:\tlearn: 0.2165798\ttotal: 164ms\tremaining: 622ms\n",
      "209:\tlearn: 0.2150905\ttotal: 166ms\tremaining: 623ms\n",
      "210:\tlearn: 0.2138679\ttotal: 167ms\tremaining: 623ms\n",
      "211:\tlearn: 0.2127280\ttotal: 167ms\tremaining: 621ms\n",
      "212:\tlearn: 0.2115218\ttotal: 168ms\tremaining: 619ms\n",
      "213:\tlearn: 0.2102778\ttotal: 168ms\tremaining: 618ms\n",
      "214:\tlearn: 0.2090832\ttotal: 169ms\tremaining: 616ms\n",
      "215:\tlearn: 0.2080378\ttotal: 169ms\tremaining: 614ms\n",
      "216:\tlearn: 0.2067325\ttotal: 170ms\tremaining: 612ms\n",
      "217:\tlearn: 0.2053125\ttotal: 170ms\tremaining: 611ms\n",
      "218:\tlearn: 0.2038364\ttotal: 171ms\tremaining: 609ms\n",
      "219:\tlearn: 0.2026466\ttotal: 171ms\tremaining: 607ms\n",
      "220:\tlearn: 0.2017829\ttotal: 172ms\tremaining: 605ms\n",
      "221:\tlearn: 0.2002323\ttotal: 172ms\tremaining: 603ms\n",
      "222:\tlearn: 0.1987994\ttotal: 173ms\tremaining: 601ms\n",
      "223:\tlearn: 0.1979542\ttotal: 173ms\tremaining: 599ms\n",
      "224:\tlearn: 0.1964619\ttotal: 174ms\tremaining: 598ms\n",
      "225:\tlearn: 0.1951432\ttotal: 174ms\tremaining: 596ms\n",
      "226:\tlearn: 0.1941267\ttotal: 174ms\tremaining: 594ms\n",
      "227:\tlearn: 0.1929669\ttotal: 175ms\tremaining: 593ms\n",
      "228:\tlearn: 0.1918736\ttotal: 176ms\tremaining: 591ms\n",
      "229:\tlearn: 0.1908111\ttotal: 176ms\tremaining: 590ms\n",
      "230:\tlearn: 0.1896186\ttotal: 177ms\tremaining: 588ms\n",
      "231:\tlearn: 0.1882437\ttotal: 177ms\tremaining: 586ms\n",
      "232:\tlearn: 0.1871210\ttotal: 178ms\tremaining: 585ms\n",
      "233:\tlearn: 0.1863215\ttotal: 178ms\tremaining: 583ms\n",
      "234:\tlearn: 0.1850920\ttotal: 179ms\tremaining: 581ms\n",
      "235:\tlearn: 0.1838497\ttotal: 179ms\tremaining: 580ms\n",
      "236:\tlearn: 0.1826045\ttotal: 180ms\tremaining: 578ms\n",
      "237:\tlearn: 0.1815035\ttotal: 180ms\tremaining: 577ms\n",
      "238:\tlearn: 0.1803032\ttotal: 181ms\tremaining: 576ms\n",
      "239:\tlearn: 0.1791084\ttotal: 181ms\tremaining: 574ms\n",
      "240:\tlearn: 0.1782948\ttotal: 182ms\tremaining: 572ms\n",
      "241:\tlearn: 0.1772642\ttotal: 182ms\tremaining: 570ms\n",
      "242:\tlearn: 0.1763117\ttotal: 183ms\tremaining: 569ms\n",
      "243:\tlearn: 0.1752778\ttotal: 183ms\tremaining: 567ms\n",
      "244:\tlearn: 0.1742185\ttotal: 183ms\tremaining: 565ms\n",
      "245:\tlearn: 0.1733308\ttotal: 184ms\tremaining: 563ms\n",
      "246:\tlearn: 0.1719711\ttotal: 184ms\tremaining: 562ms\n",
      "247:\tlearn: 0.1707700\ttotal: 185ms\tremaining: 560ms\n",
      "248:\tlearn: 0.1696384\ttotal: 185ms\tremaining: 559ms\n",
      "249:\tlearn: 0.1685513\ttotal: 186ms\tremaining: 558ms\n",
      "250:\tlearn: 0.1673159\ttotal: 186ms\tremaining: 556ms\n",
      "251:\tlearn: 0.1662762\ttotal: 187ms\tremaining: 554ms\n",
      "252:\tlearn: 0.1651872\ttotal: 187ms\tremaining: 553ms\n",
      "253:\tlearn: 0.1638892\ttotal: 188ms\tremaining: 551ms\n",
      "254:\tlearn: 0.1628719\ttotal: 188ms\tremaining: 549ms\n",
      "255:\tlearn: 0.1620281\ttotal: 189ms\tremaining: 548ms\n",
      "256:\tlearn: 0.1610815\ttotal: 189ms\tremaining: 547ms\n",
      "257:\tlearn: 0.1601245\ttotal: 189ms\tremaining: 545ms\n",
      "258:\tlearn: 0.1591988\ttotal: 190ms\tremaining: 543ms\n",
      "259:\tlearn: 0.1580347\ttotal: 190ms\tremaining: 542ms\n",
      "260:\tlearn: 0.1571351\ttotal: 191ms\tremaining: 540ms\n",
      "261:\tlearn: 0.1564923\ttotal: 191ms\tremaining: 539ms\n",
      "262:\tlearn: 0.1557075\ttotal: 192ms\tremaining: 537ms\n",
      "263:\tlearn: 0.1548214\ttotal: 192ms\tremaining: 536ms\n",
      "264:\tlearn: 0.1540880\ttotal: 194ms\tremaining: 539ms\n",
      "265:\tlearn: 0.1532364\ttotal: 195ms\tremaining: 537ms\n",
      "266:\tlearn: 0.1523590\ttotal: 195ms\tremaining: 536ms\n",
      "267:\tlearn: 0.1514943\ttotal: 196ms\tremaining: 534ms\n",
      "268:\tlearn: 0.1506427\ttotal: 196ms\tremaining: 533ms\n",
      "269:\tlearn: 0.1497916\ttotal: 196ms\tremaining: 531ms\n",
      "270:\tlearn: 0.1488855\ttotal: 197ms\tremaining: 529ms\n",
      "271:\tlearn: 0.1481276\ttotal: 197ms\tremaining: 527ms\n",
      "272:\tlearn: 0.1473299\ttotal: 197ms\tremaining: 525ms\n",
      "273:\tlearn: 0.1464488\ttotal: 197ms\tremaining: 523ms\n",
      "274:\tlearn: 0.1454418\ttotal: 198ms\tremaining: 522ms\n",
      "275:\tlearn: 0.1445908\ttotal: 198ms\tremaining: 520ms\n",
      "276:\tlearn: 0.1438866\ttotal: 199ms\tremaining: 519ms\n",
      "277:\tlearn: 0.1432777\ttotal: 199ms\tremaining: 518ms\n",
      "278:\tlearn: 0.1424455\ttotal: 200ms\tremaining: 516ms\n",
      "279:\tlearn: 0.1415500\ttotal: 200ms\tremaining: 515ms\n",
      "280:\tlearn: 0.1405631\ttotal: 201ms\tremaining: 513ms\n",
      "281:\tlearn: 0.1396424\ttotal: 201ms\tremaining: 512ms\n",
      "282:\tlearn: 0.1390828\ttotal: 202ms\tremaining: 511ms\n",
      "283:\tlearn: 0.1386430\ttotal: 202ms\tremaining: 509ms\n",
      "284:\tlearn: 0.1376224\ttotal: 203ms\tremaining: 508ms\n",
      "285:\tlearn: 0.1368688\ttotal: 203ms\tremaining: 507ms\n",
      "286:\tlearn: 0.1361449\ttotal: 204ms\tremaining: 506ms\n",
      "287:\tlearn: 0.1355088\ttotal: 204ms\tremaining: 505ms\n",
      "288:\tlearn: 0.1347732\ttotal: 204ms\tremaining: 503ms\n",
      "289:\tlearn: 0.1338581\ttotal: 205ms\tremaining: 502ms\n",
      "290:\tlearn: 0.1330911\ttotal: 205ms\tremaining: 500ms\n",
      "291:\tlearn: 0.1322061\ttotal: 206ms\tremaining: 499ms\n",
      "292:\tlearn: 0.1311023\ttotal: 206ms\tremaining: 498ms\n",
      "293:\tlearn: 0.1303291\ttotal: 207ms\tremaining: 496ms\n",
      "294:\tlearn: 0.1293955\ttotal: 207ms\tremaining: 495ms\n",
      "295:\tlearn: 0.1286760\ttotal: 208ms\tremaining: 494ms\n",
      "296:\tlearn: 0.1278841\ttotal: 208ms\tremaining: 492ms\n",
      "297:\tlearn: 0.1269769\ttotal: 208ms\tremaining: 491ms\n",
      "298:\tlearn: 0.1262843\ttotal: 209ms\tremaining: 490ms\n",
      "299:\tlearn: 0.1256625\ttotal: 209ms\tremaining: 489ms\n",
      "300:\tlearn: 0.1249204\ttotal: 210ms\tremaining: 488ms\n",
      "301:\tlearn: 0.1242866\ttotal: 210ms\tremaining: 486ms\n",
      "302:\tlearn: 0.1237365\ttotal: 211ms\tremaining: 485ms\n",
      "303:\tlearn: 0.1232020\ttotal: 212ms\tremaining: 485ms\n",
      "304:\tlearn: 0.1223837\ttotal: 212ms\tremaining: 484ms\n",
      "305:\tlearn: 0.1218073\ttotal: 214ms\tremaining: 484ms\n",
      "306:\tlearn: 0.1211772\ttotal: 214ms\tremaining: 483ms\n",
      "307:\tlearn: 0.1206521\ttotal: 214ms\tremaining: 482ms\n",
      "308:\tlearn: 0.1198522\ttotal: 215ms\tremaining: 481ms\n",
      "309:\tlearn: 0.1190961\ttotal: 215ms\tremaining: 479ms\n",
      "310:\tlearn: 0.1182906\ttotal: 216ms\tremaining: 478ms\n",
      "311:\tlearn: 0.1178540\ttotal: 216ms\tremaining: 477ms\n",
      "312:\tlearn: 0.1169496\ttotal: 217ms\tremaining: 476ms\n",
      "313:\tlearn: 0.1164164\ttotal: 217ms\tremaining: 475ms\n",
      "314:\tlearn: 0.1158884\ttotal: 218ms\tremaining: 474ms\n",
      "315:\tlearn: 0.1154538\ttotal: 218ms\tremaining: 472ms\n",
      "316:\tlearn: 0.1146569\ttotal: 219ms\tremaining: 472ms\n",
      "317:\tlearn: 0.1138576\ttotal: 219ms\tremaining: 470ms\n",
      "318:\tlearn: 0.1130726\ttotal: 220ms\tremaining: 469ms\n",
      "319:\tlearn: 0.1122745\ttotal: 220ms\tremaining: 467ms\n",
      "320:\tlearn: 0.1114139\ttotal: 220ms\tremaining: 466ms\n",
      "321:\tlearn: 0.1108404\ttotal: 221ms\tremaining: 465ms\n",
      "322:\tlearn: 0.1100038\ttotal: 221ms\tremaining: 463ms\n",
      "323:\tlearn: 0.1094509\ttotal: 222ms\tremaining: 462ms\n",
      "324:\tlearn: 0.1085684\ttotal: 222ms\tremaining: 461ms\n",
      "325:\tlearn: 0.1079296\ttotal: 222ms\tremaining: 460ms\n",
      "326:\tlearn: 0.1074567\ttotal: 223ms\tremaining: 459ms\n",
      "327:\tlearn: 0.1066689\ttotal: 223ms\tremaining: 458ms\n",
      "328:\tlearn: 0.1059429\ttotal: 224ms\tremaining: 457ms\n",
      "329:\tlearn: 0.1054186\ttotal: 225ms\tremaining: 456ms\n",
      "330:\tlearn: 0.1045799\ttotal: 226ms\tremaining: 456ms\n",
      "331:\tlearn: 0.1038551\ttotal: 226ms\tremaining: 455ms\n",
      "332:\tlearn: 0.1031844\ttotal: 227ms\tremaining: 455ms\n",
      "333:\tlearn: 0.1024538\ttotal: 228ms\tremaining: 454ms\n",
      "334:\tlearn: 0.1020983\ttotal: 229ms\tremaining: 454ms\n",
      "335:\tlearn: 0.1013689\ttotal: 229ms\tremaining: 453ms\n",
      "336:\tlearn: 0.1009793\ttotal: 230ms\tremaining: 452ms\n",
      "337:\tlearn: 0.1002816\ttotal: 231ms\tremaining: 451ms\n",
      "338:\tlearn: 0.0996626\ttotal: 232ms\tremaining: 452ms\n",
      "339:\tlearn: 0.0991581\ttotal: 233ms\tremaining: 451ms\n",
      "340:\tlearn: 0.0987876\ttotal: 233ms\tremaining: 450ms\n",
      "341:\tlearn: 0.0981148\ttotal: 234ms\tremaining: 450ms\n",
      "342:\tlearn: 0.0977071\ttotal: 235ms\tremaining: 450ms\n",
      "343:\tlearn: 0.0972473\ttotal: 235ms\tremaining: 449ms\n",
      "344:\tlearn: 0.0965873\ttotal: 236ms\tremaining: 448ms\n",
      "345:\tlearn: 0.0962724\ttotal: 236ms\tremaining: 447ms\n",
      "346:\tlearn: 0.0958367\ttotal: 237ms\tremaining: 446ms\n",
      "347:\tlearn: 0.0955124\ttotal: 238ms\tremaining: 445ms\n",
      "348:\tlearn: 0.0951843\ttotal: 238ms\tremaining: 445ms\n"
     ]
    },
    {
     "name": "stdout",
     "output_type": "stream",
     "text": [
      "349:\tlearn: 0.0944842\ttotal: 239ms\tremaining: 444ms\n",
      "350:\tlearn: 0.0938658\ttotal: 240ms\tremaining: 444ms\n",
      "351:\tlearn: 0.0931992\ttotal: 240ms\tremaining: 442ms\n",
      "352:\tlearn: 0.0929490\ttotal: 241ms\tremaining: 442ms\n",
      "353:\tlearn: 0.0927403\ttotal: 242ms\tremaining: 441ms\n",
      "354:\tlearn: 0.0920892\ttotal: 242ms\tremaining: 440ms\n",
      "355:\tlearn: 0.0916718\ttotal: 243ms\tremaining: 440ms\n",
      "356:\tlearn: 0.0914032\ttotal: 244ms\tremaining: 439ms\n",
      "357:\tlearn: 0.0907685\ttotal: 244ms\tremaining: 438ms\n",
      "358:\tlearn: 0.0905691\ttotal: 245ms\tremaining: 437ms\n",
      "359:\tlearn: 0.0903096\ttotal: 245ms\tremaining: 436ms\n",
      "360:\tlearn: 0.0899390\ttotal: 246ms\tremaining: 435ms\n",
      "361:\tlearn: 0.0896798\ttotal: 247ms\tremaining: 434ms\n",
      "362:\tlearn: 0.0894905\ttotal: 247ms\tremaining: 434ms\n",
      "363:\tlearn: 0.0889000\ttotal: 248ms\tremaining: 433ms\n",
      "364:\tlearn: 0.0886397\ttotal: 248ms\tremaining: 432ms\n",
      "365:\tlearn: 0.0880469\ttotal: 249ms\tremaining: 431ms\n",
      "366:\tlearn: 0.0878477\ttotal: 249ms\tremaining: 430ms\n",
      "367:\tlearn: 0.0874955\ttotal: 250ms\tremaining: 429ms\n",
      "368:\tlearn: 0.0873165\ttotal: 251ms\tremaining: 429ms\n",
      "369:\tlearn: 0.0869725\ttotal: 251ms\tremaining: 428ms\n",
      "370:\tlearn: 0.0866349\ttotal: 252ms\tremaining: 427ms\n",
      "371:\tlearn: 0.0864050\ttotal: 253ms\tremaining: 426ms\n",
      "372:\tlearn: 0.0862402\ttotal: 253ms\tremaining: 425ms\n",
      "373:\tlearn: 0.0858043\ttotal: 253ms\tremaining: 424ms\n",
      "374:\tlearn: 0.0852505\ttotal: 254ms\tremaining: 423ms\n",
      "375:\tlearn: 0.0846609\ttotal: 255ms\tremaining: 422ms\n",
      "376:\tlearn: 0.0841016\ttotal: 255ms\tremaining: 421ms\n",
      "377:\tlearn: 0.0835360\ttotal: 255ms\tremaining: 420ms\n",
      "378:\tlearn: 0.0830043\ttotal: 256ms\tremaining: 420ms\n",
      "379:\tlearn: 0.0828350\ttotal: 257ms\tremaining: 419ms\n",
      "380:\tlearn: 0.0822747\ttotal: 257ms\tremaining: 418ms\n",
      "381:\tlearn: 0.0817245\ttotal: 258ms\tremaining: 417ms\n",
      "382:\tlearn: 0.0811600\ttotal: 258ms\tremaining: 416ms\n",
      "383:\tlearn: 0.0806383\ttotal: 259ms\tremaining: 415ms\n",
      "384:\tlearn: 0.0801300\ttotal: 259ms\tremaining: 414ms\n",
      "385:\tlearn: 0.0795853\ttotal: 260ms\tremaining: 413ms\n",
      "386:\tlearn: 0.0790826\ttotal: 260ms\tremaining: 412ms\n",
      "387:\tlearn: 0.0787548\ttotal: 261ms\tremaining: 412ms\n",
      "388:\tlearn: 0.0782665\ttotal: 262ms\tremaining: 411ms\n",
      "389:\tlearn: 0.0778863\ttotal: 263ms\tremaining: 411ms\n",
      "390:\tlearn: 0.0773572\ttotal: 263ms\tremaining: 410ms\n",
      "391:\tlearn: 0.0768353\ttotal: 264ms\tremaining: 409ms\n",
      "392:\tlearn: 0.0764778\ttotal: 264ms\tremaining: 408ms\n",
      "393:\tlearn: 0.0759292\ttotal: 265ms\tremaining: 408ms\n",
      "394:\tlearn: 0.0754243\ttotal: 266ms\tremaining: 407ms\n",
      "395:\tlearn: 0.0749172\ttotal: 266ms\tremaining: 406ms\n",
      "396:\tlearn: 0.0744200\ttotal: 267ms\tremaining: 405ms\n",
      "397:\tlearn: 0.0740588\ttotal: 267ms\tremaining: 404ms\n",
      "398:\tlearn: 0.0737069\ttotal: 267ms\tremaining: 403ms\n",
      "399:\tlearn: 0.0732224\ttotal: 268ms\tremaining: 402ms\n",
      "400:\tlearn: 0.0728811\ttotal: 268ms\tremaining: 401ms\n",
      "401:\tlearn: 0.0724417\ttotal: 269ms\tremaining: 400ms\n",
      "402:\tlearn: 0.0719284\ttotal: 269ms\tremaining: 399ms\n",
      "403:\tlearn: 0.0714618\ttotal: 270ms\tremaining: 398ms\n",
      "404:\tlearn: 0.0711228\ttotal: 270ms\tremaining: 397ms\n",
      "405:\tlearn: 0.0707987\ttotal: 271ms\tremaining: 397ms\n",
      "406:\tlearn: 0.0703019\ttotal: 272ms\tremaining: 396ms\n",
      "407:\tlearn: 0.0698839\ttotal: 272ms\tremaining: 395ms\n",
      "408:\tlearn: 0.0693984\ttotal: 273ms\tremaining: 394ms\n",
      "409:\tlearn: 0.0689530\ttotal: 273ms\tremaining: 393ms\n",
      "410:\tlearn: 0.0686597\ttotal: 274ms\tremaining: 392ms\n",
      "411:\tlearn: 0.0682828\ttotal: 274ms\tremaining: 392ms\n",
      "412:\tlearn: 0.0678433\ttotal: 275ms\tremaining: 391ms\n",
      "413:\tlearn: 0.0674767\ttotal: 275ms\tremaining: 390ms\n",
      "414:\tlearn: 0.0671191\ttotal: 276ms\tremaining: 389ms\n",
      "415:\tlearn: 0.0666643\ttotal: 276ms\tremaining: 388ms\n",
      "416:\tlearn: 0.0662386\ttotal: 277ms\tremaining: 387ms\n",
      "417:\tlearn: 0.0658243\ttotal: 277ms\tremaining: 386ms\n",
      "418:\tlearn: 0.0654200\ttotal: 278ms\tremaining: 385ms\n",
      "419:\tlearn: 0.0649823\ttotal: 279ms\tremaining: 385ms\n",
      "420:\tlearn: 0.0646141\ttotal: 279ms\tremaining: 384ms\n",
      "421:\tlearn: 0.0642508\ttotal: 280ms\tremaining: 383ms\n",
      "422:\tlearn: 0.0638763\ttotal: 280ms\tremaining: 382ms\n",
      "423:\tlearn: 0.0635222\ttotal: 281ms\tremaining: 381ms\n",
      "424:\tlearn: 0.0631388\ttotal: 281ms\tremaining: 381ms\n",
      "425:\tlearn: 0.0627932\ttotal: 282ms\tremaining: 380ms\n",
      "426:\tlearn: 0.0624548\ttotal: 282ms\tremaining: 379ms\n",
      "427:\tlearn: 0.0622428\ttotal: 283ms\tremaining: 378ms\n",
      "428:\tlearn: 0.0619129\ttotal: 284ms\tremaining: 377ms\n",
      "429:\tlearn: 0.0615094\ttotal: 284ms\tremaining: 377ms\n",
      "430:\tlearn: 0.0611928\ttotal: 285ms\tremaining: 376ms\n",
      "431:\tlearn: 0.0608288\ttotal: 285ms\tremaining: 375ms\n",
      "432:\tlearn: 0.0605156\ttotal: 286ms\tremaining: 374ms\n",
      "433:\tlearn: 0.0601595\ttotal: 286ms\tremaining: 373ms\n",
      "434:\tlearn: 0.0597734\ttotal: 286ms\tremaining: 372ms\n",
      "435:\tlearn: 0.0594706\ttotal: 287ms\tremaining: 371ms\n",
      "436:\tlearn: 0.0590956\ttotal: 287ms\tremaining: 370ms\n",
      "437:\tlearn: 0.0588350\ttotal: 288ms\tremaining: 369ms\n",
      "438:\tlearn: 0.0585463\ttotal: 288ms\tremaining: 369ms\n",
      "439:\tlearn: 0.0581726\ttotal: 289ms\tremaining: 368ms\n",
      "440:\tlearn: 0.0578295\ttotal: 289ms\tremaining: 367ms\n",
      "441:\tlearn: 0.0575802\ttotal: 290ms\tremaining: 366ms\n",
      "442:\tlearn: 0.0572760\ttotal: 290ms\tremaining: 365ms\n",
      "443:\tlearn: 0.0569197\ttotal: 291ms\tremaining: 364ms\n",
      "444:\tlearn: 0.0565872\ttotal: 291ms\tremaining: 363ms\n",
      "445:\tlearn: 0.0562957\ttotal: 292ms\tremaining: 363ms\n",
      "446:\tlearn: 0.0559541\ttotal: 292ms\tremaining: 362ms\n",
      "447:\tlearn: 0.0556312\ttotal: 293ms\tremaining: 361ms\n",
      "448:\tlearn: 0.0553710\ttotal: 294ms\tremaining: 360ms\n",
      "449:\tlearn: 0.0550813\ttotal: 294ms\tremaining: 360ms\n",
      "450:\tlearn: 0.0547743\ttotal: 295ms\tremaining: 359ms\n",
      "451:\tlearn: 0.0544886\ttotal: 296ms\tremaining: 358ms\n",
      "452:\tlearn: 0.0541680\ttotal: 296ms\tremaining: 358ms\n",
      "453:\tlearn: 0.0538607\ttotal: 297ms\tremaining: 357ms\n",
      "454:\tlearn: 0.0535495\ttotal: 297ms\tremaining: 356ms\n",
      "455:\tlearn: 0.0532495\ttotal: 298ms\tremaining: 356ms\n",
      "456:\tlearn: 0.0529634\ttotal: 299ms\tremaining: 355ms\n",
      "457:\tlearn: 0.0526836\ttotal: 299ms\tremaining: 354ms\n",
      "458:\tlearn: 0.0524297\ttotal: 299ms\tremaining: 353ms\n",
      "459:\tlearn: 0.0521574\ttotal: 300ms\tremaining: 352ms\n",
      "460:\tlearn: 0.0518948\ttotal: 301ms\tremaining: 352ms\n",
      "461:\tlearn: 0.0516710\ttotal: 301ms\tremaining: 351ms\n",
      "462:\tlearn: 0.0514068\ttotal: 302ms\tremaining: 350ms\n",
      "463:\tlearn: 0.0512016\ttotal: 302ms\tremaining: 349ms\n",
      "464:\tlearn: 0.0509547\ttotal: 303ms\tremaining: 348ms\n",
      "465:\tlearn: 0.0507389\ttotal: 303ms\tremaining: 347ms\n",
      "466:\tlearn: 0.0505432\ttotal: 304ms\tremaining: 347ms\n",
      "467:\tlearn: 0.0502995\ttotal: 304ms\tremaining: 346ms\n",
      "468:\tlearn: 0.0500695\ttotal: 305ms\tremaining: 345ms\n"
     ]
    },
    {
     "name": "stdout",
     "output_type": "stream",
     "text": [
      "469:\tlearn: 0.0498742\ttotal: 305ms\tremaining: 344ms\n",
      "470:\tlearn: 0.0496311\ttotal: 306ms\tremaining: 344ms\n",
      "471:\tlearn: 0.0494092\ttotal: 307ms\tremaining: 343ms\n",
      "472:\tlearn: 0.0491897\ttotal: 308ms\tremaining: 343ms\n",
      "473:\tlearn: 0.0490033\ttotal: 308ms\tremaining: 342ms\n",
      "474:\tlearn: 0.0487640\ttotal: 309ms\tremaining: 341ms\n",
      "475:\tlearn: 0.0485539\ttotal: 309ms\tremaining: 341ms\n",
      "476:\tlearn: 0.0483221\ttotal: 310ms\tremaining: 340ms\n",
      "477:\tlearn: 0.0480912\ttotal: 310ms\tremaining: 339ms\n",
      "478:\tlearn: 0.0479247\ttotal: 311ms\tremaining: 338ms\n",
      "479:\tlearn: 0.0476995\ttotal: 311ms\tremaining: 337ms\n",
      "480:\tlearn: 0.0475519\ttotal: 312ms\tremaining: 337ms\n",
      "481:\tlearn: 0.0473299\ttotal: 313ms\tremaining: 336ms\n",
      "482:\tlearn: 0.0472056\ttotal: 313ms\tremaining: 335ms\n",
      "483:\tlearn: 0.0469129\ttotal: 314ms\tremaining: 335ms\n",
      "484:\tlearn: 0.0467207\ttotal: 315ms\tremaining: 334ms\n",
      "485:\tlearn: 0.0465264\ttotal: 315ms\tremaining: 333ms\n",
      "486:\tlearn: 0.0463112\ttotal: 316ms\tremaining: 333ms\n",
      "487:\tlearn: 0.0460970\ttotal: 316ms\tremaining: 332ms\n",
      "488:\tlearn: 0.0458883\ttotal: 317ms\tremaining: 331ms\n",
      "489:\tlearn: 0.0456782\ttotal: 317ms\tremaining: 330ms\n",
      "490:\tlearn: 0.0453989\ttotal: 318ms\tremaining: 330ms\n",
      "491:\tlearn: 0.0452881\ttotal: 318ms\tremaining: 329ms\n",
      "492:\tlearn: 0.0451088\ttotal: 320ms\tremaining: 329ms\n",
      "493:\tlearn: 0.0449052\ttotal: 320ms\tremaining: 328ms\n",
      "494:\tlearn: 0.0447059\ttotal: 321ms\tremaining: 328ms\n",
      "495:\tlearn: 0.0445520\ttotal: 322ms\tremaining: 327ms\n",
      "496:\tlearn: 0.0443667\ttotal: 322ms\tremaining: 326ms\n",
      "497:\tlearn: 0.0441319\ttotal: 323ms\tremaining: 325ms\n",
      "498:\tlearn: 0.0438657\ttotal: 324ms\tremaining: 325ms\n",
      "499:\tlearn: 0.0436874\ttotal: 324ms\tremaining: 324ms\n",
      "500:\tlearn: 0.0434995\ttotal: 325ms\tremaining: 324ms\n",
      "501:\tlearn: 0.0433323\ttotal: 326ms\tremaining: 323ms\n",
      "502:\tlearn: 0.0431046\ttotal: 326ms\tremaining: 322ms\n",
      "503:\tlearn: 0.0429420\ttotal: 327ms\tremaining: 321ms\n",
      "504:\tlearn: 0.0427534\ttotal: 327ms\tremaining: 321ms\n",
      "505:\tlearn: 0.0425320\ttotal: 327ms\tremaining: 320ms\n",
      "506:\tlearn: 0.0422775\ttotal: 328ms\tremaining: 319ms\n",
      "507:\tlearn: 0.0421238\ttotal: 328ms\tremaining: 318ms\n",
      "508:\tlearn: 0.0418749\ttotal: 329ms\tremaining: 317ms\n",
      "509:\tlearn: 0.0417222\ttotal: 329ms\tremaining: 317ms\n",
      "510:\tlearn: 0.0414787\ttotal: 330ms\tremaining: 316ms\n",
      "511:\tlearn: 0.0413078\ttotal: 331ms\tremaining: 315ms\n",
      "512:\tlearn: 0.0410782\ttotal: 331ms\tremaining: 314ms\n",
      "513:\tlearn: 0.0409184\ttotal: 332ms\tremaining: 314ms\n",
      "514:\tlearn: 0.0406950\ttotal: 332ms\tremaining: 313ms\n",
      "515:\tlearn: 0.0405250\ttotal: 333ms\tremaining: 312ms\n",
      "516:\tlearn: 0.0404085\ttotal: 333ms\tremaining: 311ms\n",
      "517:\tlearn: 0.0401866\ttotal: 334ms\tremaining: 311ms\n",
      "518:\tlearn: 0.0400273\ttotal: 334ms\tremaining: 310ms\n",
      "519:\tlearn: 0.0398143\ttotal: 335ms\tremaining: 309ms\n",
      "520:\tlearn: 0.0397236\ttotal: 335ms\tremaining: 308ms\n",
      "521:\tlearn: 0.0395847\ttotal: 336ms\tremaining: 307ms\n",
      "522:\tlearn: 0.0393777\ttotal: 336ms\tremaining: 307ms\n",
      "523:\tlearn: 0.0392896\ttotal: 337ms\tremaining: 306ms\n",
      "524:\tlearn: 0.0390704\ttotal: 337ms\tremaining: 305ms\n",
      "525:\tlearn: 0.0389361\ttotal: 341ms\tremaining: 307ms\n",
      "526:\tlearn: 0.0387438\ttotal: 341ms\tremaining: 306ms\n",
      "527:\tlearn: 0.0386126\ttotal: 342ms\tremaining: 306ms\n",
      "528:\tlearn: 0.0384298\ttotal: 342ms\tremaining: 305ms\n",
      "529:\tlearn: 0.0382905\ttotal: 343ms\tremaining: 304ms\n",
      "530:\tlearn: 0.0381467\ttotal: 343ms\tremaining: 303ms\n"
     ]
    },
    {
     "name": "stdout",
     "output_type": "stream",
     "text": [
      "531:\tlearn: 0.0379884\ttotal: 345ms\tremaining: 304ms\n",
      "532:\tlearn: 0.0378022\ttotal: 346ms\tremaining: 303ms\n",
      "533:\tlearn: 0.0376684\ttotal: 346ms\tremaining: 302ms\n",
      "534:\tlearn: 0.0374863\ttotal: 347ms\tremaining: 301ms\n",
      "535:\tlearn: 0.0373480\ttotal: 348ms\tremaining: 301ms\n",
      "536:\tlearn: 0.0372267\ttotal: 348ms\tremaining: 300ms\n",
      "537:\tlearn: 0.0370896\ttotal: 349ms\tremaining: 299ms\n",
      "538:\tlearn: 0.0369452\ttotal: 349ms\tremaining: 299ms\n",
      "539:\tlearn: 0.0367687\ttotal: 349ms\tremaining: 298ms\n",
      "540:\tlearn: 0.0366244\ttotal: 350ms\tremaining: 297ms\n",
      "541:\tlearn: 0.0364900\ttotal: 350ms\tremaining: 296ms\n",
      "542:\tlearn: 0.0363753\ttotal: 351ms\tremaining: 295ms\n",
      "543:\tlearn: 0.0362738\ttotal: 351ms\tremaining: 294ms\n",
      "544:\tlearn: 0.0361500\ttotal: 351ms\tremaining: 293ms\n",
      "545:\tlearn: 0.0359554\ttotal: 352ms\tremaining: 292ms\n",
      "546:\tlearn: 0.0358813\ttotal: 352ms\tremaining: 292ms\n",
      "547:\tlearn: 0.0357522\ttotal: 353ms\tremaining: 291ms\n",
      "548:\tlearn: 0.0356302\ttotal: 363ms\tremaining: 298ms\n",
      "549:\tlearn: 0.0354513\ttotal: 364ms\tremaining: 297ms\n",
      "550:\tlearn: 0.0353332\ttotal: 364ms\tremaining: 297ms\n",
      "551:\tlearn: 0.0351992\ttotal: 364ms\tremaining: 296ms\n",
      "552:\tlearn: 0.0349382\ttotal: 365ms\tremaining: 295ms\n",
      "553:\tlearn: 0.0347843\ttotal: 365ms\tremaining: 294ms\n",
      "554:\tlearn: 0.0346546\ttotal: 366ms\tremaining: 293ms\n",
      "555:\tlearn: 0.0344007\ttotal: 366ms\tremaining: 292ms\n",
      "556:\tlearn: 0.0343571\ttotal: 366ms\tremaining: 291ms\n",
      "557:\tlearn: 0.0341388\ttotal: 367ms\tremaining: 290ms\n",
      "558:\tlearn: 0.0340743\ttotal: 367ms\tremaining: 290ms\n",
      "559:\tlearn: 0.0339408\ttotal: 367ms\tremaining: 289ms\n",
      "560:\tlearn: 0.0338199\ttotal: 368ms\tremaining: 288ms\n",
      "561:\tlearn: 0.0336075\ttotal: 368ms\tremaining: 287ms\n",
      "562:\tlearn: 0.0334968\ttotal: 369ms\tremaining: 286ms\n",
      "563:\tlearn: 0.0332896\ttotal: 369ms\tremaining: 285ms\n",
      "564:\tlearn: 0.0331821\ttotal: 369ms\tremaining: 284ms\n",
      "565:\tlearn: 0.0329801\ttotal: 370ms\tremaining: 284ms\n",
      "566:\tlearn: 0.0329039\ttotal: 370ms\tremaining: 283ms\n",
      "567:\tlearn: 0.0327692\ttotal: 371ms\tremaining: 282ms\n",
      "568:\tlearn: 0.0326369\ttotal: 371ms\tremaining: 281ms\n",
      "569:\tlearn: 0.0325193\ttotal: 371ms\tremaining: 280ms\n",
      "570:\tlearn: 0.0323942\ttotal: 392ms\tremaining: 294ms\n",
      "571:\tlearn: 0.0322794\ttotal: 392ms\tremaining: 294ms\n",
      "572:\tlearn: 0.0321667\ttotal: 393ms\tremaining: 293ms\n",
      "573:\tlearn: 0.0320560\ttotal: 393ms\tremaining: 292ms\n",
      "574:\tlearn: 0.0318838\ttotal: 393ms\tremaining: 291ms\n",
      "575:\tlearn: 0.0317756\ttotal: 394ms\tremaining: 290ms\n",
      "576:\tlearn: 0.0316694\ttotal: 394ms\tremaining: 289ms\n",
      "577:\tlearn: 0.0315511\ttotal: 394ms\tremaining: 288ms\n",
      "578:\tlearn: 0.0314474\ttotal: 395ms\tremaining: 287ms\n",
      "579:\tlearn: 0.0313456\ttotal: 395ms\tremaining: 286ms\n",
      "580:\tlearn: 0.0311804\ttotal: 396ms\tremaining: 285ms\n",
      "581:\tlearn: 0.0310809\ttotal: 396ms\tremaining: 284ms\n",
      "582:\tlearn: 0.0309833\ttotal: 400ms\tremaining: 286ms\n",
      "583:\tlearn: 0.0308547\ttotal: 401ms\tremaining: 285ms\n",
      "584:\tlearn: 0.0307380\ttotal: 401ms\tremaining: 284ms\n",
      "585:\tlearn: 0.0305787\ttotal: 401ms\tremaining: 284ms\n",
      "586:\tlearn: 0.0304837\ttotal: 402ms\tremaining: 283ms\n",
      "587:\tlearn: 0.0303904\ttotal: 402ms\tremaining: 282ms\n",
      "588:\tlearn: 0.0302189\ttotal: 403ms\tremaining: 281ms\n",
      "589:\tlearn: 0.0300528\ttotal: 403ms\tremaining: 280ms\n",
      "590:\tlearn: 0.0299689\ttotal: 403ms\tremaining: 279ms\n",
      "591:\tlearn: 0.0298068\ttotal: 404ms\tremaining: 278ms\n",
      "592:\tlearn: 0.0296548\ttotal: 404ms\tremaining: 277ms\n",
      "593:\tlearn: 0.0295537\ttotal: 405ms\tremaining: 277ms\n",
      "594:\tlearn: 0.0293956\ttotal: 405ms\tremaining: 276ms\n",
      "595:\tlearn: 0.0292333\ttotal: 405ms\tremaining: 275ms\n",
      "596:\tlearn: 0.0290787\ttotal: 406ms\tremaining: 274ms\n",
      "597:\tlearn: 0.0289223\ttotal: 406ms\tremaining: 273ms\n",
      "598:\tlearn: 0.0288250\ttotal: 407ms\tremaining: 272ms\n",
      "599:\tlearn: 0.0286670\ttotal: 407ms\tremaining: 271ms\n",
      "600:\tlearn: 0.0285654\ttotal: 407ms\tremaining: 270ms\n",
      "601:\tlearn: 0.0284175\ttotal: 408ms\tremaining: 270ms\n",
      "602:\tlearn: 0.0283192\ttotal: 408ms\tremaining: 269ms\n",
      "603:\tlearn: 0.0281677\ttotal: 409ms\tremaining: 268ms\n",
      "604:\tlearn: 0.0280721\ttotal: 411ms\tremaining: 268ms\n",
      "605:\tlearn: 0.0279944\ttotal: 411ms\tremaining: 267ms\n",
      "606:\tlearn: 0.0278470\ttotal: 411ms\tremaining: 266ms\n",
      "607:\tlearn: 0.0277544\ttotal: 412ms\tremaining: 265ms\n",
      "608:\tlearn: 0.0276597\ttotal: 412ms\tremaining: 265ms\n",
      "609:\tlearn: 0.0275711\ttotal: 413ms\tremaining: 264ms\n",
      "610:\tlearn: 0.0274783\ttotal: 413ms\tremaining: 263ms\n",
      "611:\tlearn: 0.0273937\ttotal: 413ms\tremaining: 262ms\n",
      "612:\tlearn: 0.0272865\ttotal: 414ms\tremaining: 261ms\n",
      "613:\tlearn: 0.0272133\ttotal: 414ms\tremaining: 260ms\n",
      "614:\tlearn: 0.0271282\ttotal: 415ms\tremaining: 260ms\n",
      "615:\tlearn: 0.0269870\ttotal: 415ms\tremaining: 259ms\n",
      "616:\tlearn: 0.0269064\ttotal: 416ms\tremaining: 258ms\n",
      "617:\tlearn: 0.0268171\ttotal: 417ms\tremaining: 258ms\n",
      "618:\tlearn: 0.0267297\ttotal: 418ms\tremaining: 257ms\n",
      "619:\tlearn: 0.0266428\ttotal: 418ms\tremaining: 256ms\n",
      "620:\tlearn: 0.0265569\ttotal: 419ms\tremaining: 256ms\n",
      "621:\tlearn: 0.0264786\ttotal: 420ms\tremaining: 255ms\n",
      "622:\tlearn: 0.0263943\ttotal: 420ms\tremaining: 254ms\n",
      "623:\tlearn: 0.0263238\ttotal: 421ms\tremaining: 254ms\n",
      "624:\tlearn: 0.0262411\ttotal: 422ms\tremaining: 253ms\n",
      "625:\tlearn: 0.0261576\ttotal: 422ms\tremaining: 252ms\n",
      "626:\tlearn: 0.0260591\ttotal: 423ms\tremaining: 252ms\n",
      "627:\tlearn: 0.0259844\ttotal: 424ms\tremaining: 251ms\n",
      "628:\tlearn: 0.0258087\ttotal: 424ms\tremaining: 250ms\n",
      "629:\tlearn: 0.0257406\ttotal: 424ms\tremaining: 249ms\n",
      "630:\tlearn: 0.0256604\ttotal: 425ms\tremaining: 249ms\n",
      "631:\tlearn: 0.0255873\ttotal: 425ms\tremaining: 248ms\n",
      "632:\tlearn: 0.0255085\ttotal: 426ms\tremaining: 247ms\n",
      "633:\tlearn: 0.0254301\ttotal: 427ms\tremaining: 246ms\n",
      "634:\tlearn: 0.0253739\ttotal: 427ms\tremaining: 245ms\n",
      "635:\tlearn: 0.0253076\ttotal: 427ms\tremaining: 245ms\n",
      "636:\tlearn: 0.0251876\ttotal: 428ms\tremaining: 244ms\n"
     ]
    },
    {
     "name": "stdout",
     "output_type": "stream",
     "text": [
      "637:\tlearn: 0.0250525\ttotal: 428ms\tremaining: 243ms\n",
      "638:\tlearn: 0.0249619\ttotal: 429ms\tremaining: 242ms\n",
      "639:\tlearn: 0.0248929\ttotal: 430ms\tremaining: 242ms\n",
      "640:\tlearn: 0.0248174\ttotal: 431ms\tremaining: 241ms\n",
      "641:\tlearn: 0.0247141\ttotal: 431ms\tremaining: 240ms\n",
      "642:\tlearn: 0.0246293\ttotal: 432ms\tremaining: 240ms\n",
      "643:\tlearn: 0.0245514\ttotal: 432ms\tremaining: 239ms\n",
      "644:\tlearn: 0.0244773\ttotal: 433ms\tremaining: 238ms\n",
      "645:\tlearn: 0.0244130\ttotal: 433ms\tremaining: 237ms\n",
      "646:\tlearn: 0.0243724\ttotal: 434ms\tremaining: 237ms\n",
      "647:\tlearn: 0.0243203\ttotal: 434ms\tremaining: 236ms\n",
      "648:\tlearn: 0.0242484\ttotal: 435ms\tremaining: 235ms\n",
      "649:\tlearn: 0.0241488\ttotal: 435ms\tremaining: 234ms\n",
      "650:\tlearn: 0.0241091\ttotal: 436ms\tremaining: 234ms\n",
      "651:\tlearn: 0.0239986\ttotal: 436ms\tremaining: 233ms\n",
      "652:\tlearn: 0.0239597\ttotal: 437ms\tremaining: 232ms\n",
      "653:\tlearn: 0.0238325\ttotal: 437ms\tremaining: 231ms\n",
      "654:\tlearn: 0.0237360\ttotal: 438ms\tremaining: 231ms\n",
      "655:\tlearn: 0.0236651\ttotal: 438ms\tremaining: 230ms\n",
      "656:\tlearn: 0.0235953\ttotal: 439ms\tremaining: 229ms\n",
      "657:\tlearn: 0.0235575\ttotal: 439ms\tremaining: 228ms\n",
      "658:\tlearn: 0.0235078\ttotal: 440ms\tremaining: 228ms\n",
      "659:\tlearn: 0.0234707\ttotal: 440ms\tremaining: 227ms\n",
      "660:\tlearn: 0.0234026\ttotal: 441ms\tremaining: 226ms\n",
      "661:\tlearn: 0.0233662\ttotal: 441ms\tremaining: 225ms\n",
      "662:\tlearn: 0.0233304\ttotal: 442ms\tremaining: 225ms\n",
      "663:\tlearn: 0.0232820\ttotal: 442ms\tremaining: 224ms\n",
      "664:\tlearn: 0.0232344\ttotal: 443ms\tremaining: 223ms\n",
      "665:\tlearn: 0.0231993\ttotal: 443ms\tremaining: 222ms\n",
      "666:\tlearn: 0.0231416\ttotal: 444ms\tremaining: 222ms\n",
      "667:\tlearn: 0.0231014\ttotal: 444ms\tremaining: 221ms\n",
      "668:\tlearn: 0.0230670\ttotal: 445ms\tremaining: 220ms\n",
      "669:\tlearn: 0.0229639\ttotal: 446ms\tremaining: 219ms\n",
      "670:\tlearn: 0.0228359\ttotal: 446ms\tremaining: 219ms\n",
      "671:\tlearn: 0.0227103\ttotal: 447ms\tremaining: 218ms\n",
      "672:\tlearn: 0.0225870\ttotal: 449ms\tremaining: 218ms\n",
      "673:\tlearn: 0.0224404\ttotal: 450ms\tremaining: 218ms\n",
      "674:\tlearn: 0.0224029\ttotal: 450ms\tremaining: 217ms\n",
      "675:\tlearn: 0.0223142\ttotal: 451ms\tremaining: 216ms\n",
      "676:\tlearn: 0.0222672\ttotal: 451ms\tremaining: 215ms\n",
      "677:\tlearn: 0.0222306\ttotal: 452ms\tremaining: 215ms\n",
      "678:\tlearn: 0.0221124\ttotal: 453ms\tremaining: 214ms\n",
      "679:\tlearn: 0.0220428\ttotal: 453ms\tremaining: 213ms\n",
      "680:\tlearn: 0.0219268\ttotal: 454ms\tremaining: 212ms\n",
      "681:\tlearn: 0.0218129\ttotal: 454ms\tremaining: 212ms\n",
      "682:\tlearn: 0.0217012\ttotal: 455ms\tremaining: 211ms\n",
      "683:\tlearn: 0.0215753\ttotal: 455ms\tremaining: 210ms\n",
      "684:\tlearn: 0.0215079\ttotal: 456ms\tremaining: 209ms\n",
      "685:\tlearn: 0.0214436\ttotal: 456ms\tremaining: 209ms\n",
      "686:\tlearn: 0.0213123\ttotal: 457ms\tremaining: 208ms\n",
      "687:\tlearn: 0.0212618\ttotal: 457ms\tremaining: 207ms\n",
      "688:\tlearn: 0.0211675\ttotal: 458ms\tremaining: 207ms\n",
      "689:\tlearn: 0.0211236\ttotal: 459ms\tremaining: 206ms\n",
      "690:\tlearn: 0.0211050\ttotal: 459ms\tremaining: 205ms\n",
      "691:\tlearn: 0.0210134\ttotal: 459ms\tremaining: 205ms\n",
      "692:\tlearn: 0.0209845\ttotal: 460ms\tremaining: 204ms\n",
      "693:\tlearn: 0.0208774\ttotal: 460ms\tremaining: 203ms\n",
      "694:\tlearn: 0.0207723\ttotal: 461ms\tremaining: 202ms\n",
      "695:\tlearn: 0.0206738\ttotal: 462ms\tremaining: 202ms\n",
      "696:\tlearn: 0.0206251\ttotal: 462ms\tremaining: 201ms\n",
      "697:\tlearn: 0.0205774\ttotal: 463ms\tremaining: 200ms\n",
      "698:\tlearn: 0.0205407\ttotal: 463ms\tremaining: 199ms\n",
      "699:\tlearn: 0.0204392\ttotal: 464ms\tremaining: 199ms\n",
      "700:\tlearn: 0.0203925\ttotal: 464ms\tremaining: 198ms\n",
      "701:\tlearn: 0.0203569\ttotal: 465ms\tremaining: 197ms\n",
      "702:\tlearn: 0.0202620\ttotal: 465ms\tremaining: 197ms\n",
      "703:\tlearn: 0.0202163\ttotal: 466ms\tremaining: 196ms\n",
      "704:\tlearn: 0.0200999\ttotal: 466ms\tremaining: 195ms\n",
      "705:\tlearn: 0.0200193\ttotal: 467ms\tremaining: 194ms\n",
      "706:\tlearn: 0.0199745\ttotal: 467ms\tremaining: 194ms\n",
      "707:\tlearn: 0.0199316\ttotal: 468ms\tremaining: 193ms\n",
      "708:\tlearn: 0.0198910\ttotal: 468ms\tremaining: 192ms\n",
      "709:\tlearn: 0.0198122\ttotal: 469ms\tremaining: 191ms\n",
      "710:\tlearn: 0.0197691\ttotal: 470ms\tremaining: 191ms\n",
      "711:\tlearn: 0.0197086\ttotal: 471ms\tremaining: 190ms\n",
      "712:\tlearn: 0.0196637\ttotal: 471ms\tremaining: 190ms\n",
      "713:\tlearn: 0.0196044\ttotal: 472ms\tremaining: 189ms\n",
      "714:\tlearn: 0.0195626\ttotal: 472ms\tremaining: 188ms\n",
      "715:\tlearn: 0.0195299\ttotal: 473ms\tremaining: 188ms\n",
      "716:\tlearn: 0.0194269\ttotal: 474ms\tremaining: 187ms\n",
      "717:\tlearn: 0.0193705\ttotal: 474ms\tremaining: 186ms\n",
      "718:\tlearn: 0.0193300\ttotal: 475ms\tremaining: 186ms\n",
      "719:\tlearn: 0.0192926\ttotal: 475ms\tremaining: 185ms\n",
      "720:\tlearn: 0.0192741\ttotal: 476ms\tremaining: 184ms\n",
      "721:\tlearn: 0.0192343\ttotal: 477ms\tremaining: 184ms\n",
      "722:\tlearn: 0.0192161\ttotal: 477ms\tremaining: 183ms\n",
      "723:\tlearn: 0.0191981\ttotal: 478ms\tremaining: 182ms\n",
      "724:\tlearn: 0.0191804\ttotal: 478ms\tremaining: 181ms\n",
      "725:\tlearn: 0.0191273\ttotal: 478ms\tremaining: 181ms\n",
      "726:\tlearn: 0.0190383\ttotal: 479ms\tremaining: 180ms\n",
      "727:\tlearn: 0.0189642\ttotal: 480ms\tremaining: 179ms\n",
      "728:\tlearn: 0.0188717\ttotal: 480ms\tremaining: 178ms\n",
      "729:\tlearn: 0.0187662\ttotal: 481ms\tremaining: 178ms\n",
      "730:\tlearn: 0.0186946\ttotal: 481ms\tremaining: 177ms\n",
      "731:\tlearn: 0.0185845\ttotal: 482ms\tremaining: 176ms\n",
      "732:\tlearn: 0.0184727\ttotal: 482ms\tremaining: 176ms\n",
      "733:\tlearn: 0.0183706\ttotal: 483ms\tremaining: 175ms\n",
      "734:\tlearn: 0.0182403\ttotal: 483ms\tremaining: 174ms\n",
      "735:\tlearn: 0.0181138\ttotal: 484ms\tremaining: 174ms\n",
      "736:\tlearn: 0.0180459\ttotal: 484ms\tremaining: 173ms\n",
      "737:\tlearn: 0.0179797\ttotal: 485ms\tremaining: 172ms\n",
      "738:\tlearn: 0.0179151\ttotal: 486ms\tremaining: 171ms\n",
      "739:\tlearn: 0.0178168\ttotal: 486ms\tremaining: 171ms\n",
      "740:\tlearn: 0.0176946\ttotal: 487ms\tremaining: 170ms\n",
      "741:\tlearn: 0.0176331\ttotal: 487ms\tremaining: 169ms\n",
      "742:\tlearn: 0.0175734\ttotal: 488ms\tremaining: 169ms\n",
      "743:\tlearn: 0.0174877\ttotal: 488ms\tremaining: 168ms\n",
      "744:\tlearn: 0.0174487\ttotal: 489ms\tremaining: 167ms\n",
      "745:\tlearn: 0.0174106\ttotal: 489ms\tremaining: 167ms\n",
      "746:\tlearn: 0.0173526\ttotal: 490ms\tremaining: 166ms\n",
      "747:\tlearn: 0.0172500\ttotal: 491ms\tremaining: 165ms\n",
      "748:\tlearn: 0.0171351\ttotal: 491ms\tremaining: 165ms\n",
      "749:\tlearn: 0.0170983\ttotal: 492ms\tremaining: 164ms\n",
      "750:\tlearn: 0.0169954\ttotal: 492ms\tremaining: 163ms\n",
      "751:\tlearn: 0.0169595\ttotal: 493ms\tremaining: 162ms\n",
      "752:\tlearn: 0.0169038\ttotal: 493ms\tremaining: 162ms\n",
      "753:\tlearn: 0.0168688\ttotal: 494ms\tremaining: 161ms\n",
      "754:\tlearn: 0.0167687\ttotal: 494ms\tremaining: 160ms\n",
      "755:\tlearn: 0.0166887\ttotal: 495ms\tremaining: 160ms\n",
      "756:\tlearn: 0.0166364\ttotal: 495ms\tremaining: 159ms\n",
      "757:\tlearn: 0.0165274\ttotal: 496ms\tremaining: 158ms\n",
      "758:\tlearn: 0.0164767\ttotal: 496ms\tremaining: 158ms\n",
      "759:\tlearn: 0.0163816\ttotal: 497ms\tremaining: 157ms\n",
      "760:\tlearn: 0.0163046\ttotal: 498ms\tremaining: 156ms\n",
      "761:\tlearn: 0.0162520\ttotal: 498ms\tremaining: 156ms\n",
      "762:\tlearn: 0.0162027\ttotal: 499ms\tremaining: 155ms\n",
      "763:\tlearn: 0.0161105\ttotal: 499ms\tremaining: 154ms\n",
      "764:\tlearn: 0.0160591\ttotal: 500ms\tremaining: 153ms\n",
      "765:\tlearn: 0.0160110\ttotal: 500ms\tremaining: 153ms\n",
      "766:\tlearn: 0.0159366\ttotal: 501ms\tremaining: 152ms\n",
      "767:\tlearn: 0.0158371\ttotal: 501ms\tremaining: 151ms\n",
      "768:\tlearn: 0.0157528\ttotal: 501ms\tremaining: 151ms\n",
      "769:\tlearn: 0.0157067\ttotal: 502ms\tremaining: 150ms\n",
      "770:\tlearn: 0.0156274\ttotal: 502ms\tremaining: 149ms\n",
      "771:\tlearn: 0.0155534\ttotal: 503ms\tremaining: 148ms\n",
      "772:\tlearn: 0.0155047\ttotal: 503ms\tremaining: 148ms\n",
      "773:\tlearn: 0.0154649\ttotal: 504ms\tremaining: 147ms\n",
      "774:\tlearn: 0.0154208\ttotal: 504ms\tremaining: 146ms\n",
      "775:\tlearn: 0.0153445\ttotal: 505ms\tremaining: 146ms\n",
      "776:\tlearn: 0.0153241\ttotal: 506ms\tremaining: 145ms\n",
      "777:\tlearn: 0.0153070\ttotal: 506ms\tremaining: 144ms\n",
      "778:\tlearn: 0.0152321\ttotal: 507ms\tremaining: 144ms\n",
      "779:\tlearn: 0.0151619\ttotal: 507ms\tremaining: 143ms\n",
      "780:\tlearn: 0.0151150\ttotal: 508ms\tremaining: 142ms\n",
      "781:\tlearn: 0.0150798\ttotal: 508ms\tremaining: 142ms\n",
      "782:\tlearn: 0.0150130\ttotal: 509ms\tremaining: 141ms\n",
      "783:\tlearn: 0.0149964\ttotal: 509ms\tremaining: 140ms\n",
      "784:\tlearn: 0.0149800\ttotal: 510ms\tremaining: 140ms\n",
      "785:\tlearn: 0.0149583\ttotal: 510ms\tremaining: 139ms\n",
      "786:\tlearn: 0.0148864\ttotal: 510ms\tremaining: 138ms\n",
      "787:\tlearn: 0.0148194\ttotal: 511ms\tremaining: 137ms\n",
      "788:\tlearn: 0.0147413\ttotal: 511ms\tremaining: 137ms\n",
      "789:\tlearn: 0.0147075\ttotal: 512ms\tremaining: 136ms\n",
      "790:\tlearn: 0.0146916\ttotal: 513ms\tremaining: 135ms\n",
      "791:\tlearn: 0.0146075\ttotal: 513ms\tremaining: 135ms\n",
      "792:\tlearn: 0.0145825\ttotal: 513ms\tremaining: 134ms\n",
      "793:\tlearn: 0.0145035\ttotal: 514ms\tremaining: 133ms\n",
      "794:\tlearn: 0.0144882\ttotal: 514ms\tremaining: 133ms\n",
      "795:\tlearn: 0.0144066\ttotal: 515ms\tremaining: 132ms\n",
      "796:\tlearn: 0.0143917\ttotal: 515ms\tremaining: 131ms\n",
      "797:\tlearn: 0.0143769\ttotal: 516ms\tremaining: 131ms\n",
      "798:\tlearn: 0.0142970\ttotal: 516ms\tremaining: 130ms\n",
      "799:\tlearn: 0.0142825\ttotal: 516ms\tremaining: 129ms\n",
      "800:\tlearn: 0.0142258\ttotal: 517ms\tremaining: 128ms\n",
      "801:\tlearn: 0.0142058\ttotal: 517ms\tremaining: 128ms\n",
      "802:\tlearn: 0.0141916\ttotal: 518ms\tremaining: 127ms\n",
      "803:\tlearn: 0.0141172\ttotal: 518ms\tremaining: 126ms\n",
      "804:\tlearn: 0.0140978\ttotal: 519ms\tremaining: 126ms\n",
      "805:\tlearn: 0.0140838\ttotal: 519ms\tremaining: 125ms\n",
      "806:\tlearn: 0.0140296\ttotal: 520ms\tremaining: 124ms\n",
      "807:\tlearn: 0.0140174\ttotal: 520ms\tremaining: 124ms\n",
      "808:\tlearn: 0.0140054\ttotal: 521ms\tremaining: 123ms\n",
      "809:\tlearn: 0.0139936\ttotal: 521ms\tremaining: 122ms\n",
      "810:\tlearn: 0.0139122\ttotal: 522ms\tremaining: 122ms\n",
      "811:\tlearn: 0.0138384\ttotal: 522ms\tremaining: 121ms\n",
      "812:\tlearn: 0.0137936\ttotal: 523ms\tremaining: 120ms\n",
      "813:\tlearn: 0.0137223\ttotal: 523ms\tremaining: 120ms\n",
      "814:\tlearn: 0.0136981\ttotal: 524ms\tremaining: 119ms\n",
      "815:\tlearn: 0.0136263\ttotal: 525ms\tremaining: 118ms\n",
      "816:\tlearn: 0.0135846\ttotal: 525ms\tremaining: 118ms\n",
      "817:\tlearn: 0.0135416\ttotal: 526ms\tremaining: 117ms\n",
      "818:\tlearn: 0.0135008\ttotal: 527ms\tremaining: 116ms\n",
      "819:\tlearn: 0.0134663\ttotal: 527ms\tremaining: 116ms\n"
     ]
    },
    {
     "name": "stdout",
     "output_type": "stream",
     "text": [
      "820:\tlearn: 0.0134532\ttotal: 528ms\tremaining: 115ms\n",
      "821:\tlearn: 0.0134130\ttotal: 529ms\tremaining: 115ms\n",
      "822:\tlearn: 0.0134001\ttotal: 530ms\tremaining: 114ms\n",
      "823:\tlearn: 0.0133307\ttotal: 530ms\tremaining: 113ms\n",
      "824:\tlearn: 0.0132651\ttotal: 531ms\tremaining: 113ms\n",
      "825:\tlearn: 0.0132015\ttotal: 531ms\tremaining: 112ms\n",
      "826:\tlearn: 0.0131449\ttotal: 532ms\tremaining: 111ms\n",
      "827:\tlearn: 0.0130829\ttotal: 532ms\tremaining: 111ms\n",
      "828:\tlearn: 0.0130195\ttotal: 533ms\tremaining: 110ms\n",
      "829:\tlearn: 0.0129588\ttotal: 534ms\tremaining: 109ms\n",
      "830:\tlearn: 0.0128992\ttotal: 534ms\tremaining: 109ms\n",
      "831:\tlearn: 0.0128611\ttotal: 535ms\tremaining: 108ms\n",
      "832:\tlearn: 0.0127978\ttotal: 535ms\tremaining: 107ms\n",
      "833:\tlearn: 0.0127311\ttotal: 536ms\tremaining: 107ms\n",
      "834:\tlearn: 0.0126937\ttotal: 537ms\tremaining: 106ms\n",
      "835:\tlearn: 0.0126569\ttotal: 538ms\tremaining: 105ms\n",
      "836:\tlearn: 0.0125942\ttotal: 539ms\tremaining: 105ms\n",
      "837:\tlearn: 0.0125042\ttotal: 539ms\tremaining: 104ms\n",
      "838:\tlearn: 0.0124447\ttotal: 540ms\tremaining: 104ms\n",
      "839:\tlearn: 0.0124088\ttotal: 541ms\tremaining: 103ms\n",
      "840:\tlearn: 0.0123775\ttotal: 541ms\tremaining: 102ms\n",
      "841:\tlearn: 0.0123655\ttotal: 542ms\tremaining: 102ms\n",
      "842:\tlearn: 0.0123049\ttotal: 543ms\tremaining: 101ms\n",
      "843:\tlearn: 0.0122497\ttotal: 543ms\tremaining: 100ms\n",
      "844:\tlearn: 0.0121636\ttotal: 544ms\tremaining: 99.8ms\n",
      "845:\tlearn: 0.0121520\ttotal: 545ms\tremaining: 99.1ms\n",
      "846:\tlearn: 0.0121406\ttotal: 545ms\tremaining: 98.5ms\n",
      "847:\tlearn: 0.0120829\ttotal: 546ms\tremaining: 97.8ms\n",
      "848:\tlearn: 0.0120480\ttotal: 546ms\tremaining: 97.1ms\n",
      "849:\tlearn: 0.0120368\ttotal: 547ms\tremaining: 96.5ms\n",
      "850:\tlearn: 0.0119886\ttotal: 547ms\tremaining: 95.8ms\n",
      "851:\tlearn: 0.0119544\ttotal: 547ms\tremaining: 95.1ms\n",
      "852:\tlearn: 0.0118715\ttotal: 548ms\tremaining: 94.5ms\n",
      "853:\tlearn: 0.0118605\ttotal: 549ms\tremaining: 93.8ms\n",
      "854:\tlearn: 0.0118497\ttotal: 549ms\tremaining: 93.1ms\n",
      "855:\tlearn: 0.0117933\ttotal: 550ms\tremaining: 92.5ms\n",
      "856:\tlearn: 0.0117127\ttotal: 551ms\tremaining: 91.9ms\n",
      "857:\tlearn: 0.0117022\ttotal: 552ms\tremaining: 91.3ms\n",
      "858:\tlearn: 0.0116483\ttotal: 552ms\tremaining: 90.7ms\n",
      "859:\tlearn: 0.0116150\ttotal: 553ms\tremaining: 90ms\n",
      "860:\tlearn: 0.0116047\ttotal: 554ms\tremaining: 89.4ms\n",
      "861:\tlearn: 0.0115297\ttotal: 555ms\tremaining: 88.8ms\n",
      "862:\tlearn: 0.0114970\ttotal: 555ms\tremaining: 88.1ms\n",
      "863:\tlearn: 0.0114763\ttotal: 556ms\tremaining: 87.5ms\n",
      "864:\tlearn: 0.0114264\ttotal: 556ms\tremaining: 86.8ms\n",
      "865:\tlearn: 0.0113826\ttotal: 557ms\tremaining: 86.2ms\n",
      "866:\tlearn: 0.0113387\ttotal: 558ms\tremaining: 85.5ms\n",
      "867:\tlearn: 0.0113212\ttotal: 558ms\tremaining: 84.9ms\n",
      "868:\tlearn: 0.0112746\ttotal: 559ms\tremaining: 84.2ms\n",
      "869:\tlearn: 0.0112361\ttotal: 559ms\tremaining: 83.6ms\n",
      "870:\tlearn: 0.0112164\ttotal: 560ms\tremaining: 82.9ms\n",
      "871:\tlearn: 0.0111711\ttotal: 560ms\tremaining: 82.2ms\n",
      "872:\tlearn: 0.0111336\ttotal: 561ms\tremaining: 81.6ms\n",
      "873:\tlearn: 0.0111143\ttotal: 562ms\tremaining: 81.1ms\n",
      "874:\tlearn: 0.0110702\ttotal: 563ms\tremaining: 80.4ms\n",
      "875:\tlearn: 0.0110558\ttotal: 564ms\tremaining: 79.8ms\n",
      "876:\tlearn: 0.0110257\ttotal: 565ms\tremaining: 79.2ms\n",
      "877:\tlearn: 0.0110115\ttotal: 566ms\tremaining: 78.6ms\n",
      "878:\tlearn: 0.0109716\ttotal: 567ms\tremaining: 78ms\n",
      "879:\tlearn: 0.0109533\ttotal: 567ms\tremaining: 77.4ms\n",
      "880:\tlearn: 0.0109441\ttotal: 568ms\tremaining: 76.7ms\n",
      "881:\tlearn: 0.0108934\ttotal: 569ms\tremaining: 76.1ms\n",
      "882:\tlearn: 0.0108780\ttotal: 569ms\tremaining: 75.4ms\n",
      "883:\tlearn: 0.0108630\ttotal: 570ms\tremaining: 74.8ms\n",
      "884:\tlearn: 0.0108484\ttotal: 570ms\tremaining: 74.1ms\n",
      "885:\tlearn: 0.0108316\ttotal: 571ms\tremaining: 73.5ms\n",
      "886:\tlearn: 0.0108021\ttotal: 571ms\tremaining: 72.8ms\n",
      "887:\tlearn: 0.0107879\ttotal: 572ms\tremaining: 72.1ms\n",
      "888:\tlearn: 0.0107414\ttotal: 572ms\tremaining: 71.5ms\n",
      "889:\tlearn: 0.0106959\ttotal: 573ms\tremaining: 70.8ms\n",
      "890:\tlearn: 0.0106668\ttotal: 573ms\tremaining: 70.1ms\n",
      "891:\tlearn: 0.0106505\ttotal: 574ms\tremaining: 69.4ms\n",
      "892:\tlearn: 0.0106219\ttotal: 574ms\tremaining: 68.8ms\n",
      "893:\tlearn: 0.0105773\ttotal: 574ms\tremaining: 68.1ms\n",
      "894:\tlearn: 0.0105492\ttotal: 575ms\tremaining: 67.4ms\n",
      "895:\tlearn: 0.0105396\ttotal: 575ms\tremaining: 66.8ms\n",
      "896:\tlearn: 0.0104959\ttotal: 576ms\tremaining: 66.1ms\n",
      "897:\tlearn: 0.0104682\ttotal: 576ms\tremaining: 65.4ms\n",
      "898:\tlearn: 0.0104206\ttotal: 577ms\tremaining: 64.8ms\n",
      "899:\tlearn: 0.0104126\ttotal: 577ms\tremaining: 64.1ms\n",
      "900:\tlearn: 0.0104033\ttotal: 578ms\tremaining: 63.5ms\n",
      "901:\tlearn: 0.0103876\ttotal: 578ms\tremaining: 62.9ms\n",
      "902:\tlearn: 0.0103451\ttotal: 579ms\tremaining: 62.2ms\n",
      "903:\tlearn: 0.0103180\ttotal: 579ms\tremaining: 61.5ms\n",
      "904:\tlearn: 0.0103089\ttotal: 580ms\tremaining: 60.9ms\n",
      "905:\tlearn: 0.0102672\ttotal: 580ms\tremaining: 60.2ms\n",
      "906:\tlearn: 0.0102405\ttotal: 582ms\tremaining: 59.6ms\n",
      "907:\tlearn: 0.0102201\ttotal: 582ms\tremaining: 59ms\n",
      "908:\tlearn: 0.0101792\ttotal: 583ms\tremaining: 58.4ms\n",
      "909:\tlearn: 0.0101336\ttotal: 583ms\tremaining: 57.7ms\n",
      "910:\tlearn: 0.0101261\ttotal: 584ms\tremaining: 57.1ms\n",
      "911:\tlearn: 0.0101000\ttotal: 585ms\tremaining: 56.4ms\n",
      "912:\tlearn: 0.0100803\ttotal: 585ms\tremaining: 55.8ms\n",
      "913:\tlearn: 0.0100717\ttotal: 586ms\tremaining: 55.1ms\n",
      "914:\tlearn: 0.0100319\ttotal: 587ms\tremaining: 54.5ms\n",
      "915:\tlearn: 0.0099937\ttotal: 587ms\tremaining: 53.9ms\n",
      "916:\tlearn: 0.0099872\ttotal: 588ms\tremaining: 53.2ms\n",
      "917:\tlearn: 0.0099683\ttotal: 588ms\tremaining: 52.5ms\n",
      "918:\tlearn: 0.0099294\ttotal: 589ms\tremaining: 51.9ms\n",
      "919:\tlearn: 0.0098776\ttotal: 589ms\tremaining: 51.2ms\n",
      "920:\tlearn: 0.0098396\ttotal: 590ms\tremaining: 50.6ms\n",
      "921:\tlearn: 0.0098023\ttotal: 590ms\tremaining: 49.9ms\n",
      "922:\tlearn: 0.0097654\ttotal: 591ms\tremaining: 49.3ms\n",
      "923:\tlearn: 0.0097362\ttotal: 591ms\tremaining: 48.6ms\n",
      "924:\tlearn: 0.0096799\ttotal: 592ms\tremaining: 48ms\n",
      "925:\tlearn: 0.0096735\ttotal: 592ms\tremaining: 47.3ms\n",
      "926:\tlearn: 0.0096671\ttotal: 593ms\tremaining: 46.7ms\n",
      "927:\tlearn: 0.0096608\ttotal: 593ms\tremaining: 46ms\n",
      "928:\tlearn: 0.0096060\ttotal: 593ms\tremaining: 45.4ms\n",
      "929:\tlearn: 0.0095997\ttotal: 595ms\tremaining: 44.7ms\n",
      "930:\tlearn: 0.0095636\ttotal: 595ms\tremaining: 44.1ms\n",
      "931:\tlearn: 0.0095219\ttotal: 597ms\tremaining: 43.5ms\n",
      "932:\tlearn: 0.0094866\ttotal: 598ms\tremaining: 42.9ms\n",
      "933:\tlearn: 0.0094457\ttotal: 599ms\tremaining: 42.3ms\n",
      "934:\tlearn: 0.0093930\ttotal: 599ms\tremaining: 41.6ms\n",
      "935:\tlearn: 0.0093609\ttotal: 599ms\tremaining: 41ms\n",
      "936:\tlearn: 0.0093296\ttotal: 600ms\tremaining: 40.3ms\n",
      "937:\tlearn: 0.0092887\ttotal: 600ms\tremaining: 39.7ms\n",
      "938:\tlearn: 0.0092569\ttotal: 601ms\tremaining: 39ms\n",
      "939:\tlearn: 0.0092153\ttotal: 601ms\tremaining: 38.4ms\n",
      "940:\tlearn: 0.0091944\ttotal: 602ms\tremaining: 37.7ms\n",
      "941:\tlearn: 0.0091549\ttotal: 602ms\tremaining: 37.1ms\n",
      "942:\tlearn: 0.0091345\ttotal: 603ms\tremaining: 36.4ms\n",
      "943:\tlearn: 0.0090943\ttotal: 603ms\tremaining: 35.8ms\n",
      "944:\tlearn: 0.0090677\ttotal: 604ms\tremaining: 35.1ms\n",
      "945:\tlearn: 0.0090303\ttotal: 604ms\tremaining: 34.5ms\n"
     ]
    },
    {
     "name": "stdout",
     "output_type": "stream",
     "text": [
      "946:\tlearn: 0.0089807\ttotal: 605ms\tremaining: 33.9ms\n",
      "947:\tlearn: 0.0089432\ttotal: 605ms\tremaining: 33.2ms\n",
      "948:\tlearn: 0.0089235\ttotal: 606ms\tremaining: 32.6ms\n",
      "949:\tlearn: 0.0088853\ttotal: 607ms\tremaining: 31.9ms\n",
      "950:\tlearn: 0.0088506\ttotal: 608ms\tremaining: 31.3ms\n",
      "951:\tlearn: 0.0088195\ttotal: 608ms\tremaining: 30.7ms\n",
      "952:\tlearn: 0.0087919\ttotal: 609ms\tremaining: 30ms\n",
      "953:\tlearn: 0.0087648\ttotal: 609ms\tremaining: 29.4ms\n",
      "954:\tlearn: 0.0087459\ttotal: 609ms\tremaining: 28.7ms\n",
      "955:\tlearn: 0.0087105\ttotal: 610ms\tremaining: 28.1ms\n",
      "956:\tlearn: 0.0086839\ttotal: 610ms\tremaining: 27.4ms\n",
      "957:\tlearn: 0.0086577\ttotal: 610ms\tremaining: 26.8ms\n",
      "958:\tlearn: 0.0086349\ttotal: 611ms\tremaining: 26.1ms\n",
      "959:\tlearn: 0.0086092\ttotal: 611ms\tremaining: 25.5ms\n",
      "960:\tlearn: 0.0085868\ttotal: 612ms\tremaining: 24.8ms\n",
      "961:\tlearn: 0.0085410\ttotal: 612ms\tremaining: 24.2ms\n",
      "962:\tlearn: 0.0085006\ttotal: 612ms\tremaining: 23.5ms\n",
      "963:\tlearn: 0.0084610\ttotal: 613ms\tremaining: 22.9ms\n",
      "964:\tlearn: 0.0084266\ttotal: 613ms\tremaining: 22.2ms\n",
      "965:\tlearn: 0.0083877\ttotal: 614ms\tremaining: 21.6ms\n",
      "966:\tlearn: 0.0083634\ttotal: 614ms\tremaining: 21ms\n",
      "967:\tlearn: 0.0083186\ttotal: 615ms\tremaining: 20.3ms\n",
      "968:\tlearn: 0.0083008\ttotal: 615ms\tremaining: 19.7ms\n",
      "969:\tlearn: 0.0082771\ttotal: 615ms\tremaining: 19ms\n",
      "970:\tlearn: 0.0082201\ttotal: 616ms\tremaining: 18.4ms\n",
      "971:\tlearn: 0.0081969\ttotal: 616ms\tremaining: 17.8ms\n",
      "972:\tlearn: 0.0081500\ttotal: 617ms\tremaining: 17.1ms\n",
      "973:\tlearn: 0.0081043\ttotal: 617ms\tremaining: 16.5ms\n",
      "974:\tlearn: 0.0080677\ttotal: 618ms\tremaining: 15.8ms\n",
      "975:\tlearn: 0.0080352\ttotal: 618ms\tremaining: 15.2ms\n",
      "976:\tlearn: 0.0080126\ttotal: 618ms\tremaining: 14.6ms\n",
      "977:\tlearn: 0.0079905\ttotal: 619ms\tremaining: 13.9ms\n",
      "978:\tlearn: 0.0079463\ttotal: 619ms\tremaining: 13.3ms\n",
      "979:\tlearn: 0.0079111\ttotal: 619ms\tremaining: 12.6ms\n",
      "980:\tlearn: 0.0078843\ttotal: 620ms\tremaining: 12ms\n",
      "981:\tlearn: 0.0078500\ttotal: 620ms\tremaining: 11.4ms\n",
      "982:\tlearn: 0.0078076\ttotal: 621ms\tremaining: 10.7ms\n",
      "983:\tlearn: 0.0077817\ttotal: 621ms\tremaining: 10.1ms\n",
      "984:\tlearn: 0.0077329\ttotal: 622ms\tremaining: 9.47ms\n",
      "985:\tlearn: 0.0077114\ttotal: 622ms\tremaining: 8.83ms\n",
      "986:\tlearn: 0.0076902\ttotal: 623ms\tremaining: 8.2ms\n",
      "987:\tlearn: 0.0076376\ttotal: 623ms\tremaining: 7.57ms\n",
      "988:\tlearn: 0.0076169\ttotal: 624ms\tremaining: 6.93ms\n",
      "989:\tlearn: 0.0075966\ttotal: 624ms\tremaining: 6.3ms\n",
      "990:\tlearn: 0.0075454\ttotal: 625ms\tremaining: 5.67ms\n",
      "991:\tlearn: 0.0075256\ttotal: 625ms\tremaining: 5.04ms\n",
      "992:\tlearn: 0.0074765\ttotal: 626ms\tremaining: 4.41ms\n",
      "993:\tlearn: 0.0074570\ttotal: 626ms\tremaining: 3.78ms\n",
      "994:\tlearn: 0.0074391\ttotal: 627ms\tremaining: 3.15ms\n",
      "995:\tlearn: 0.0073911\ttotal: 627ms\tremaining: 2.52ms\n",
      "996:\tlearn: 0.0073572\ttotal: 627ms\tremaining: 1.89ms\n",
      "997:\tlearn: 0.0073239\ttotal: 628ms\tremaining: 1.26ms\n",
      "998:\tlearn: 0.0072947\ttotal: 628ms\tremaining: 628us\n",
      "999:\tlearn: 0.0072659\ttotal: 628ms\tremaining: 0us\n"
     ]
    },
    {
     "data": {
      "text/plain": [
       "<catboost.core.CatBoostRegressor at 0x7fd6d93e1160>"
      ]
     },
     "execution_count": 9,
     "metadata": {},
     "output_type": "execute_result"
    }
   ],
   "source": [
    "#Train the Model \n",
    "prior_model = ctb.CatBoostRegressor()\n",
    "prior_model.fit(X_train,Y_train)"
   ]
  },
  {
   "cell_type": "code",
   "execution_count": 10,
   "id": "af65dcda",
   "metadata": {
    "execution": {
     "iopub.execute_input": "2022-05-18T08:30:21.552180Z",
     "iopub.status.busy": "2022-05-18T08:30:21.551822Z",
     "iopub.status.idle": "2022-05-18T08:30:21.561034Z",
     "shell.execute_reply": "2022-05-18T08:30:21.561394Z"
    },
    "id": "af65dcda",
    "papermill": {
     "duration": 0.023002,
     "end_time": "2022-05-18T08:30:21.561559",
     "exception": false,
     "start_time": "2022-05-18T08:30:21.538557",
     "status": "completed"
    },
    "tags": []
   },
   "outputs": [
    {
     "data": {
      "application/scrapbook.scrap.json+json": {
       "data": 0.1464791880023139,
       "encoder": "json",
       "name": "Prior Model MSE",
       "version": 1
      }
     },
     "metadata": {
      "scrapbook": {
       "data": true,
       "display": false,
       "name": "Prior Model MSE"
      }
     },
     "output_type": "display_data"
    },
    {
     "data": {
      "application/scrapbook.scrap.json+json": {
       "data": 0.1433735277207709,
       "encoder": "json",
       "name": "ABC Pre-generator MSE",
       "version": 1
      }
     },
     "metadata": {
      "scrapbook": {
       "data": true,
       "display": false,
       "name": "ABC Pre-generator MSE"
      }
     },
     "output_type": "display_data"
    },
    {
     "data": {
      "application/scrapbook.scrap.json+json": {
       "data": 0.2964322210203961,
       "encoder": "json",
       "name": "Prior Model MAE",
       "version": 1
      }
     },
     "metadata": {
      "scrapbook": {
       "data": true,
       "display": false,
       "name": "Prior Model MAE"
      }
     },
     "output_type": "display_data"
    },
    {
     "data": {
      "application/scrapbook.scrap.json+json": {
       "data": 0.29366323771187186,
       "encoder": "json",
       "name": "ABC Pre-generator MAE",
       "version": 1
      }
     },
     "metadata": {
      "scrapbook": {
       "data": true,
       "display": false,
       "name": "ABC Pre-generator MAE"
      }
     },
     "output_type": "display_data"
    }
   ],
   "source": [
    "y_pred = prior_model.predict(X_test)\n",
    "y_abc = y_pred + np.random.normal(0,variance, y_pred.shape)\n",
    "mse = mean_squared_error(y_pred,Y_test)\n",
    "sb.glue(\"Prior Model MSE\",mse)\n",
    "mse = mean_squared_error(y_abc,Y_test)\n",
    "sb.glue(\"ABC Pre-generator MSE\",mse)\n",
    "\n",
    "mae = mean_absolute_error(y_pred,Y_test)\n",
    "sb.glue(\"Prior Model MAE\",mae)\n",
    "mae = mean_absolute_error(y_abc,Y_test)\n",
    "sb.glue(\"ABC Pre-generator MAE\",mae)"
   ]
  },
  {
   "cell_type": "markdown",
   "id": "25609da2",
   "metadata": {
    "papermill": {
     "duration": 0.00995,
     "end_time": "2022-05-18T08:30:21.581627",
     "exception": false,
     "start_time": "2022-05-18T08:30:21.571677",
     "status": "completed"
    },
    "tags": []
   },
   "source": [
    "# ABC GAN Model"
   ]
  },
  {
   "cell_type": "code",
   "execution_count": 11,
   "id": "dfc3464d",
   "metadata": {
    "execution": {
     "iopub.execute_input": "2022-05-18T08:30:21.604446Z",
     "iopub.status.busy": "2022-05-18T08:30:21.604065Z",
     "iopub.status.idle": "2022-05-18T08:30:21.606787Z",
     "shell.execute_reply": "2022-05-18T08:30:21.607050Z"
    },
    "papermill": {
     "duration": 0.015807,
     "end_time": "2022-05-18T08:30:21.607162",
     "exception": false,
     "start_time": "2022-05-18T08:30:21.591355",
     "status": "completed"
    },
    "tags": []
   },
   "outputs": [],
   "source": [
    "gen = network.Generator(n_features+1).to(device)\n",
    "disc = network.Discriminator(n_features+1).to(device)\n",
    "\n",
    "criterion = torch.nn.BCELoss()\n",
    "gen_opt = torch.optim.Adam(gen.parameters(), lr=0.001, betas=(0.5, 0.999))\n",
    "disc_opt = torch.optim.Adam(disc.parameters(), lr=0.001, betas=(0.5, 0.999))"
   ]
  },
  {
   "cell_type": "code",
   "execution_count": 12,
   "id": "b75fdd85",
   "metadata": {
    "execution": {
     "iopub.execute_input": "2022-05-18T08:30:21.630561Z",
     "iopub.status.busy": "2022-05-18T08:30:21.630192Z",
     "iopub.status.idle": "2022-05-18T08:30:36.790623Z",
     "shell.execute_reply": "2022-05-18T08:30:36.790926Z"
    },
    "papermill": {
     "duration": 15.173695,
     "end_time": "2022-05-18T08:30:36.791049",
     "exception": false,
     "start_time": "2022-05-18T08:30:21.617354",
     "status": "completed"
    },
    "tags": []
   },
   "outputs": [
    {
     "data": {
      "image/png": "[encoded data removed]",
      "text/plain": [
       "<Figure size 432x288 with 1 Axes>"
      ]
     },
     "metadata": {
      "needs_background": "light"
     },
     "output_type": "display_data"
    },
    {
     "data": {
      "image/png": "[encoded data removed]",
      "text/plain": [
       "<Figure size 432x288 with 1 Axes>"
      ]
     },
     "metadata": {
      "needs_background": "light"
     },
     "output_type": "display_data"
    }
   ],
   "source": [
    "#Training the ABC_GAN \n",
    "ABC_train_test2.training_GAN(disc,gen,disc_opt,gen_opt,train_data,batch_size,n_epochs,criterion,prior_model,variance,0,device)"
   ]
  },
  {
   "cell_type": "code",
   "execution_count": 13,
   "id": "1fa7c368",
   "metadata": {
    "execution": {
     "iopub.execute_input": "2022-05-18T08:30:36.816523Z",
     "iopub.status.busy": "2022-05-18T08:30:36.816129Z",
     "iopub.status.idle": "2022-05-18T08:30:36.998521Z",
     "shell.execute_reply": "2022-05-18T08:30:36.998775Z"
    },
    "papermill": {
     "duration": 0.196535,
     "end_time": "2022-05-18T08:30:36.998898",
     "exception": false,
     "start_time": "2022-05-18T08:30:36.802363",
     "status": "completed"
    },
    "tags": []
   },
   "outputs": [
    {
     "data": {
      "application/scrapbook.scrap.json+json": {
       "data": 0.12476808485757765,
       "encoder": "json",
       "name": "ABC-GAN Model 1 MSE",
       "version": 1
      }
     },
     "metadata": {
      "scrapbook": {
       "data": true,
       "display": false,
       "name": "ABC-GAN Model 1 MSE"
      }
     },
     "output_type": "display_data"
    },
    {
     "data": {
      "application/scrapbook.scrap.json+json": {
       "data": 0.27707401261106135,
       "encoder": "json",
       "name": "ABC-GAN Model 1 MAE",
       "version": 1
      }
     },
     "metadata": {
      "scrapbook": {
       "data": true,
       "display": false,
       "name": "ABC-GAN Model 1 MAE"
      }
     },
     "output_type": "display_data"
    },
    {
     "data": {
      "application/scrapbook.scrap.json+json": {
       "data": 5.541480252221227,
       "encoder": "json",
       "name": "ABC-GAN Model 1 Manhattan Distance",
       "version": 1
      }
     },
     "metadata": {
      "scrapbook": {
       "data": true,
       "display": false,
       "name": "ABC-GAN Model 1 Manhattan Distance"
      }
     },
     "output_type": "display_data"
    },
    {
     "data": {
      "application/scrapbook.scrap.json+json": {
       "data": 1.5796374596118998,
       "encoder": "json",
       "name": "ABC-GAN Model 1 Euclidean distance",
       "version": 1
      }
     },
     "metadata": {
      "scrapbook": {
       "data": true,
       "display": false,
       "name": "ABC-GAN Model 1 Euclidean distance"
      }
     },
     "output_type": "display_data"
    },
    {
     "data": {
      "application/scrapbook.scrap.json+json": {
       "data": [
        [
         0.12200893787312923,
         0.1231485863578762,
         0.12426024243901945,
         0.1276767500705283,
         0.1248904234155173,
         0.1245544633220729,
         0.12470996175120166,
         0.12467861457637,
         0.12831830813134898,
         0.12196833456893645,
         0.12496538988969766,
         0.1294890315678673,
         0.12614658479834628,
         0.12476539601612772,
         0.1222391227796132,
         0.12413019173953148,
         0.12613248809121855,
         0.12356303191892617,
         0.1275320057695865,
         0.12491541078742237,
         0.12440800413993607,
         0.12606947878288155,
         0.12464950309516443,
         0.12343438962076832,
         0.12477704911640959,
         0.12472878018074507,
         0.1257225467841016,
         0.12463920575169966,
         0.12445097067378859,
         0.1235066014242741,
         0.12463880116876551,
         0.12632884564682711,
         0.12407536481149725,
         0.12527806124124102,
         0.12697890393472847,
         0.12224659983451572,
         0.12470089467756455,
         0.12549499791723634,
         0.12505908609523178,
         0.12650147237841008,
         0.12575120834851866,
         0.12266864176330294,
         0.12800118161097757,
         0.12351255509300704,
         0.12302104314615374,
         0.1254757241201622,
         0.12731377300502494,
         0.12588665076930888,
         0.1240726630593583,
         0.12271566590258125,
         0.12464685055835815,
         0.12097053928586417,
         0.1239624659940886,
         0.12622437596556654,
         0.12340836160187571,
         0.12544664719816923,
         0.12376439051181787,
         0.12406221882266646,
         0.12285661611670214,
         0.12661591360097785,
         0.12500792707445102,
         0.1229139519581064,
         0.1269253005609041,
         0.125441723258721,
         0.1256235907449411,
         0.12427309652558918,
         0.1254592917175269,
         0.12389272722464813,
         0.12241714248392215,
         0.1226266845071368,
         0.12389983760219592,
         0.12513407156236822,
         0.1291641005745615,
         0.12410957954669741,
         0.12396016981883622,
         0.12311997593726662,
         0.12773372764091087,
         0.12466217525131092,
         0.12376103547076722,
         0.1269875940332739,
         0.12506116756432967,
         0.12572102433516957,
         0.12299928876911186,
         0.12340689183227312,
         0.1258000199273212,
         0.12273121089005405,
         0.12593487263177705,
         0.12460068566298625,
         0.12375924089033177,
         0.12300230228675701,
         0.12579015085515205,
         0.12644690711932313,
         0.12399337121895945,
         0.12525664293646685,
         0.12634215957641892,
         0.12125315467354045,
         0.12623002433956587,
         0.12394449570098329,
         0.12362664932679876,
         0.12563420211170195
        ],
        [
         0.27380263740196825,
         0.2735712238587439,
         0.2775777825154364,
         0.28246541703119876,
         0.27657708460465075,
         0.27740575606003404,
         0.2765548729337752,
         0.27539036655798554,
         0.27986558387055993,
         0.2742707536555827,
         0.27762674475088717,
         0.2821752206422389,
         0.27797429719939826,
         0.27681106189265847,
         0.27427955055609343,
         0.2751764983870089,
         0.27930776635184884,
         0.27533636400476097,
         0.28153796354308724,
         0.2766276807524264,
         0.275438077095896,
         0.2786131844855845,
         0.2801229909993708,
         0.27643475467339157,
         0.2786832825280726,
         0.2765146576799452,
         0.2763634451664984,
         0.27622795635834335,
         0.27563273468986155,
         0.2778519065119326,
         0.27751723462715744,
         0.27823046380653976,
         0.2775313162244856,
         0.2779796407558024,
         0.28090052464976906,
         0.2733854212798178,
         0.27523667076602576,
         0.27831485206261275,
         0.2781952233053744,
         0.28030768865719435,
         0.27715250859037044,
         0.2766679593361914,
         0.2810931564308703,
         0.2737403535284102,
         0.2746813573874533,
         0.2783934698440135,
         0.2820729591883719,
         0.2783854448236525,
         0.2752147243358195,
         0.2763689369894564,
         0.2771088846959174,
         0.2733290017582476,
         0.27706120843067766,
         0.2776756980456412,
         0.27716483334079384,
         0.2787720234133303,
         0.2752120175398886,
         0.27650647023692726,
         0.2725014970637858,
         0.2822410696186125,
         0.2765221000649035,
         0.27785574877634645,
         0.27546673053875564,
         0.2798059807159007,
         0.275138518307358,
         0.27784835854545237,
         0.2742995054461062,
         0.27551615396514534,
         0.27538484120741485,
         0.2749263764359057,
         0.27648264104500414,
         0.2770166934467852,
         0.28495566407218575,
         0.27428915137425064,
         0.2749090396799147,
         0.275063403788954,
         0.2799750373698771,
         0.2750640415586531,
         0.27609142223373057,
         0.27927485341206193,
         0.27688933396711946,
         0.2796273627318442,
         0.27597590917721393,
         0.27487545246258377,
         0.2770070136524737,
         0.2750620671547949,
         0.2780972429551184,
         0.2754373081959784,
         0.2771591887809336,
         0.27607925990596416,
         0.278366316203028,
         0.27869905019178987,
         0.2764296934939921,
         0.2781274096108973,
         0.27726524928584695,
         0.27240791777148843,
         0.276683044526726,
         0.2776505910791457,
         0.2771146253682673,
         0.2774007351137698
        ],
        [
         5.476052748039365,
         5.471424477174878,
         5.551555650308728,
         5.649308340623975,
         5.531541692093015,
         5.548115121200681,
         5.531097458675504,
         5.507807331159711,
         5.597311677411199,
         5.485415073111653,
         5.552534895017743,
         5.643504412844777,
         5.559485943987966,
         5.536221237853169,
         5.485591011121869,
         5.503529967740178,
         5.586155327036977,
         5.50672728009522,
         5.630759270861745,
         5.532553615048528,
         5.50876154191792,
         5.57226368971169,
         5.602459819987416,
         5.528695093467832,
         5.573665650561452,
         5.530293153598905,
         5.5272689033299685,
         5.524559127166867,
         5.512654693797231,
         5.557038130238652,
         5.550344692543149,
         5.5646092761307955,
         5.550626324489713,
         5.559592815116048,
         5.618010492995381,
         5.467708425596356,
         5.504733415320516,
         5.566297041252255,
         5.563904466107488,
         5.6061537731438875,
         5.543050171807408,
         5.533359186723828,
         5.621863128617406,
         5.474807070568204,
         5.493627147749066,
         5.567869396880269,
         5.641459183767438,
         5.56770889647305,
         5.50429448671639,
         5.527378739789128,
         5.542177693918347,
         5.466580035164952,
         5.541224168613553,
         5.553513960912824,
         5.543296666815877,
         5.575440468266606,
         5.504240350797772,
         5.530129404738545,
         5.450029941275716,
         5.644821392372251,
         5.53044200129807,
         5.557114975526929,
         5.509334610775113,
         5.596119614318013,
         5.5027703661471605,
         5.556967170909047,
         5.485990108922124,
         5.510323079302907,
         5.507696824148297,
         5.498527528718114,
         5.529652820900083,
         5.540333868935704,
         5.699113281443715,
         5.485783027485013,
         5.498180793598294,
         5.50126807577908,
         5.599500747397542,
         5.501280831173062,
         5.521828444674611,
         5.585497068241239,
         5.537786679342389,
         5.592547254636884,
         5.519518183544278,
         5.497509049251676,
         5.540140273049474,
         5.501241343095899,
         5.561944859102368,
         5.508746163919568,
         5.543183775618672,
         5.521585198119283,
         5.567326324060559,
         5.573981003835797,
         5.528593869879842,
         5.562548192217946,
         5.545304985716939,
         5.448158355429769,
         5.53366089053452,
         5.553011821582913,
         5.542292507365346,
         5.548014702275395
        ],
        [
         1.5621071530028228,
         1.5693857802202504,
         1.5764532497922001,
         1.5979784108086585,
         1.5804456549689856,
         1.5783184933470995,
         1.5793034018275378,
         1.579104902002207,
         1.6019881905391749,
         1.5618472048759215,
         1.5809199213729812,
         1.6092795379788267,
         1.5883739156656174,
         1.57965436736096,
         1.5635800125328616,
         1.5756280762891444,
         1.588285163887257,
         1.5720243758856043,
         1.5970723575942734,
         1.5806037503904788,
         1.5773902759934593,
         1.5878884015124082,
         1.57892053691859,
         1.5712058402435265,
         1.5797281355752932,
         1.5794225538515339,
         1.5857020324392703,
         1.5788553179547495,
         1.5776626424796183,
         1.5716653678456753,
         1.5788527554446963,
         1.5895209696435408,
         1.5752800691400703,
         1.5828964668685128,
         1.593605371067307,
         1.5636278318993668,
         1.579245988929936,
         1.5842663785944355,
         1.5815124792124264,
         1.5906066287955052,
         1.5858827721399753,
         1.5663246263996677,
         1.6000073850515664,
         1.571703248663736,
         1.5685728745975034,
         1.5841447163700808,
         1.595705317438185,
         1.5867365929435728,
         1.5752629181146764,
         1.5666248172589456,
         1.57890373714396,
         1.5554455264384166,
         1.5745632155876663,
         1.5888635936767295,
         1.5710401751825172,
         1.5839611560778202,
         1.573304741693852,
         1.5751966151732708,
         1.5675242653094856,
         1.5913259477616637,
         1.5811889645102575,
         1.5678899958741135,
         1.59326897014223,
         1.5839300695341383,
         1.5850778576772884,
         1.5765347856967138,
         1.5840409825350286,
         1.5741202446106086,
         1.5647181374542967,
         1.5660567327343977,
         1.5741654144478967,
         1.5819865458490359,
         1.6072591612715201,
         1.5754972519601387,
         1.5745486325854545,
         1.569203466331034,
         1.5983349313639545,
         1.5790007932316623,
         1.5732834167483443,
         1.5936599011914299,
         1.581525640413899,
         1.585692431306712,
         1.568434179486738,
         1.5710308197630822,
         1.5861905303419335,
         1.5667240400916433,
         1.5870404697535412,
         1.5786113243163198,
         1.5732720101135198,
         1.5684533929113547,
         1.5861283104159767,
         1.5902635449467055,
         1.5747594814380985,
         1.5827611502464094,
         1.5896047280781402,
         1.5572614082005658,
         1.5888991430519805,
         1.5744490827015225,
         1.5724290084248558,
         1.585144801661362
        ]
       ],
       "encoder": "json",
       "name": "ABC_GAN_1 Metrics",
       "version": 1
      }
     },
     "metadata": {
      "scrapbook": {
       "data": true,
       "display": false,
       "name": "ABC_GAN_1 Metrics"
      }
     },
     "output_type": "display_data"
    },
    {
     "name": "stdout",
     "output_type": "stream",
     "text": [
      "MSE\n",
      "0.12476808485757765\n"
     ]
    }
   ],
   "source": [
    "ABC_GAN1_metrics=ABC_train_test2.test_generator(gen,test_data,prior_model,variance,0,\"1\",device)\n",
    "sb.glue(\"ABC_GAN_1 Metrics\",ABC_GAN1_metrics)\n",
    "\n",
    "print(\"MSE\")\n",
    "print(mean(ABC_GAN1_metrics[0]))"
   ]
  },
  {
   "cell_type": "code",
   "execution_count": 14,
   "id": "eb22ce5c",
   "metadata": {
    "execution": {
     "iopub.execute_input": "2022-05-18T08:30:37.026470Z",
     "iopub.status.busy": "2022-05-18T08:30:37.026100Z",
     "iopub.status.idle": "2022-05-18T08:30:37.350657Z",
     "shell.execute_reply": "2022-05-18T08:30:37.350967Z"
    },
    "papermill": {
     "duration": 0.339831,
     "end_time": "2022-05-18T08:30:37.351164",
     "exception": false,
     "start_time": "2022-05-18T08:30:37.011333",
     "status": "completed"
    },
    "tags": []
   },
   "outputs": [
    {
     "data": {
      "image/png": "[encoded data removed]",
      "text/plain": [
       "<Figure size 432x288 with 1 Axes>"
      ]
     },
     "metadata": {
      "needs_background": "light"
     },
     "output_type": "display_data"
    },
    {
     "data": {
      "image/png": "[encoded data removed]",
      "text/plain": [
       "<Figure size 432x288 with 1 Axes>"
      ]
     },
     "metadata": {
      "needs_background": "light"
     },
     "output_type": "display_data"
    },
    {
     "data": {
      "image/png": "[encoded data removed]",
      "text/plain": [
       "<Figure size 432x288 with 1 Axes>"
      ]
     },
     "metadata": {
      "needs_background": "light"
     },
     "output_type": "display_data"
    },
    {
     "data": {
      "image/png": "[encoded data removed]",
      "text/plain": [
       "<Figure size 432x288 with 1 Axes>"
      ]
     },
     "metadata": {
      "needs_background": "light"
     },
     "output_type": "display_data"
    }
   ],
   "source": [
    "sanityChecks.discProbVsError(train_data,disc,device)\n",
    "sanityChecks.discProbVsError(test_data,disc,device)"
   ]
  },
  {
   "cell_type": "markdown",
   "id": "130f3a4d",
   "metadata": {
    "id": "130f3a4d",
    "papermill": {
     "duration": 0.015721,
     "end_time": "2022-05-18T08:30:37.383019",
     "exception": false,
     "start_time": "2022-05-18T08:30:37.367298",
     "status": "completed"
    },
    "tags": []
   },
   "source": [
    "# ABC - GAN Model with skip connection"
   ]
  },
  {
   "cell_type": "code",
   "execution_count": 15,
   "id": "4e43dad1",
   "metadata": {
    "execution": {
     "iopub.execute_input": "2022-05-18T08:30:37.416592Z",
     "iopub.status.busy": "2022-05-18T08:30:37.416141Z",
     "iopub.status.idle": "2022-05-18T08:30:37.418338Z",
     "shell.execute_reply": "2022-05-18T08:30:37.418588Z"
    },
    "id": "4e43dad1",
    "papermill": {
     "duration": 0.020435,
     "end_time": "2022-05-18T08:30:37.418701",
     "exception": false,
     "start_time": "2022-05-18T08:30:37.398266",
     "status": "completed"
    },
    "tags": []
   },
   "outputs": [],
   "source": [
    "#Generator\n",
    "gen3 = network.GeneratorWithSkipConnection(n_features+1).to(device)\n",
    "constraints=network.weightConstraint()\n",
    "#Discriminator \n",
    "disc3 = network.Discriminator(n_features+1).to(device)\n",
    "\n",
    "criterion = torch.nn.BCELoss()\n",
    "gen_opt = torch.optim.Adam(gen3.parameters(), lr=0.001, betas=(0.5, 0.999))\n",
    "disc_opt = torch.optim.Adam(disc3.parameters(), lr=0.001, betas=(0.5, 0.999))\n"
   ]
  },
  {
   "cell_type": "code",
   "execution_count": 16,
   "id": "26acbc37",
   "metadata": {
    "execution": {
     "iopub.execute_input": "2022-05-18T08:30:37.451261Z",
     "iopub.status.busy": "2022-05-18T08:30:37.450887Z",
     "iopub.status.idle": "2022-05-18T08:31:15.693304Z",
     "shell.execute_reply": "2022-05-18T08:31:15.693628Z"
    },
    "id": "26acbc37",
    "papermill": {
     "duration": 38.260309,
     "end_time": "2022-05-18T08:31:15.693750",
     "exception": false,
     "start_time": "2022-05-18T08:30:37.433441",
     "status": "completed"
    },
    "tags": []
   },
   "outputs": [
    {
     "data": {
      "image/png": "[encoded data removed]",
      "text/plain": [
       "<Figure size 432x288 with 1 Axes>"
      ]
     },
     "metadata": {
      "needs_background": "light"
     },
     "output_type": "display_data"
    },
    {
     "data": {
      "image/png": "[encoded data removed]",
      "text/plain": [
       "<Figure size 432x288 with 1 Axes>"
      ]
     },
     "metadata": {
      "needs_background": "light"
     },
     "output_type": "display_data"
    }
   ],
   "source": [
    "ABC_train_test2.training_GAN_skip_connection(disc3,gen3,disc_opt,gen_opt,train_data,batch_size,n_epochs,criterion,prior_model,variance,0,device)"
   ]
  },
  {
   "cell_type": "code",
   "execution_count": 17,
   "id": "c5e0717b",
   "metadata": {
    "execution": {
     "iopub.execute_input": "2022-05-18T08:31:15.727393Z",
     "iopub.status.busy": "2022-05-18T08:31:15.726941Z",
     "iopub.status.idle": "2022-05-18T08:31:16.007316Z",
     "shell.execute_reply": "2022-05-18T08:31:16.007645Z"
    },
    "id": "c5e0717b",
    "papermill": {
     "duration": 0.298451,
     "end_time": "2022-05-18T08:31:16.007769",
     "exception": false,
     "start_time": "2022-05-18T08:31:15.709318",
     "status": "completed"
    },
    "tags": []
   },
   "outputs": [
    {
     "data": {
      "application/scrapbook.scrap.json+json": {
       "data": 0.13373107820916794,
       "encoder": "json",
       "name": "ABC-GAN Model 3 MSE",
       "version": 1
      }
     },
     "metadata": {
      "scrapbook": {
       "data": true,
       "display": false,
       "name": "ABC-GAN Model 3 MSE"
      }
     },
     "output_type": "display_data"
    },
    {
     "data": {
      "application/scrapbook.scrap.json+json": {
       "data": 0.28388177247252316,
       "encoder": "json",
       "name": "ABC-GAN Model 3 MAE",
       "version": 1
      }
     },
     "metadata": {
      "scrapbook": {
       "data": true,
       "display": false,
       "name": "ABC-GAN Model 3 MAE"
      }
     },
     "output_type": "display_data"
    },
    {
     "data": {
      "application/scrapbook.scrap.json+json": {
       "data": 5.677635449450463,
       "encoder": "json",
       "name": "ABC-GAN Model 3 Manhattan Distance",
       "version": 1
      }
     },
     "metadata": {
      "scrapbook": {
       "data": true,
       "display": false,
       "name": "ABC-GAN Model 3 Manhattan Distance"
      }
     },
     "output_type": "display_data"
    },
    {
     "data": {
      "application/scrapbook.scrap.json+json": {
       "data": 1.6353970372582234,
       "encoder": "json",
       "name": "ABC-GAN Model 3 Euclidean distance",
       "version": 1
      }
     },
     "metadata": {
      "scrapbook": {
       "data": true,
       "display": false,
       "name": "ABC-GAN Model 3 Euclidean distance"
      }
     },
     "output_type": "display_data"
    },
    {
     "data": {
      "application/scrapbook.scrap.json+json": {
       "data": [
        [
         0.1340914346569039,
         0.13590927718660278,
         0.13252320313792465,
         0.13532082409538826,
         0.13528875741607255,
         0.1350299780960486,
         0.1317714460601318,
         0.13382846059054831,
         0.13215386662187908,
         0.13487397262572215,
         0.13375754452966343,
         0.1348433263444019,
         0.12972008360528592,
         0.13398962256603053,
         0.13343312166332674,
         0.1336514833013319,
         0.13484059033504311,
         0.13421174335373245,
         0.13462692544151125,
         0.13465835107185503,
         0.133198579285346,
         0.1318291763923521,
         0.13525378331234678,
         0.13243904242546095,
         0.1325744515190928,
         0.13583606705592363,
         0.13399858715104035,
         0.13407601490291401,
         0.13236721268905574,
         0.13097473659079853,
         0.13642645387408375,
         0.13653464309101898,
         0.13391742113389665,
         0.13172655671050681,
         0.13445264321355027,
         0.13154066275692297,
         0.135353404347241,
         0.1341640437931944,
         0.13619378275694824,
         0.13701470305810737,
         0.13216268132117842,
         0.13149311477018552,
         0.13519767357249968,
         0.13156893834817596,
         0.13344011911353054,
         0.13423433866735132,
         0.13493554120764853,
         0.13388157955287688,
         0.13505201807490394,
         0.13259184923853282,
         0.13221718667981933,
         0.1338003642781107,
         0.13320237590758222,
         0.13384114131763233,
         0.1340074588342067,
         0.13223729345890614,
         0.13453297486348062,
         0.13458189103801463,
         0.13243784443153178,
         0.13352308352123554,
         0.13361263145969476,
         0.13376980492749932,
         0.13411401331220074,
         0.1356586642371183,
         0.13463712497454497,
         0.1343173647228617,
         0.13363546486126365,
         0.12996931853206917,
         0.13465572994272085,
         0.13518971672253008,
         0.13293653185869841,
         0.1332138481069048,
         0.13670852569685582,
         0.13355100005493475,
         0.13396834222685866,
         0.12939510978017715,
         0.13592541356910776,
         0.1336984543898409,
         0.13137951920310542,
         0.133285045421882,
         0.13319107908661892,
         0.13418425641403528,
         0.13248952549132956,
         0.13280371415863032,
         0.13231831905673777,
         0.13345611085853873,
         0.1387571489694838,
         0.13279010679148134,
         0.13294345925143713,
         0.13338290401892838,
         0.13702033301051803,
         0.13541608348304407,
         0.13103235674925634,
         0.13053813962302793,
         0.1327472380659665,
         0.13424433089541385,
         0.1343629481786636,
         0.13329868678509146,
         0.13391163859783883,
         0.13326237047327344
        ],
        [
         0.28353160051628945,
         0.2878104023635387,
         0.28188968552276494,
         0.2850830416195095,
         0.28612118056043984,
         0.28550317576155065,
         0.28308422239497305,
         0.2834327290765941,
         0.28210096722468736,
         0.2855419191531837,
         0.28493133345618843,
         0.28402858627960087,
         0.27986387358978393,
         0.28674409268423917,
         0.283615848980844,
         0.28437822507694366,
         0.2859205580316484,
         0.2835993285290897,
         0.285245784278959,
         0.285040438733995,
         0.28297392940148713,
         0.2802439090795815,
         0.2871320587582886,
         0.2838555145077407,
         0.2810997542925179,
         0.28647007355466486,
         0.28450851095840335,
         0.28196471156552433,
         0.2813952094875276,
         0.2816353403963149,
         0.2862740635871887,
         0.2873694241046906,
         0.28418358592316506,
         0.28326919144019486,
         0.2815809999592602,
         0.2820498620159924,
         0.2869498864747584,
         0.2831472405232489,
         0.28570699486881496,
         0.2866437607910484,
         0.28304928317666056,
         0.2789711385034025,
         0.2862028759904206,
         0.2818807347677648,
         0.2834470092318952,
         0.2846898070536554,
         0.2865031509660184,
         0.2856025627814233,
         0.28680724622681736,
         0.28282346883788706,
         0.28258176702074705,
         0.2817545858211815,
         0.28186427894979715,
         0.28526354813948274,
         0.2859722625464201,
         0.27977249762043355,
         0.28334897020831706,
         0.28243598164990547,
         0.28371352339163425,
         0.28462956976145504,
         0.28580607334151864,
         0.28380994172766805,
         0.2851176905445755,
         0.2848427346907556,
         0.28593780575320127,
         0.28315846165642145,
         0.28298555249348284,
         0.2829463270492852,
         0.2832871056161821,
         0.28445278191938994,
         0.28429281814023855,
         0.28366606989875437,
         0.2849596652202308,
         0.28260206142440436,
         0.28301131101325155,
         0.27771809520199897,
         0.2864128977060318,
         0.2822378265671432,
         0.2799587517045438,
         0.28284871531650424,
         0.28281112341210246,
         0.28465797724202274,
         0.284794647898525,
         0.28415504964068533,
         0.2827089070342481,
         0.28364108959212897,
         0.29183740364387634,
         0.2809071253053844,
         0.28406627448275684,
         0.28421080531552434,
         0.28541104001924394,
         0.28759793611243367,
         0.2821024340577424,
         0.2806083003990352,
         0.28382996330037713,
         0.2829213027842343,
         0.2867143196985126,
         0.2831046567298472,
         0.2827361227013171,
         0.28207280272617935
        ],
        [
         5.6706320103257895,
         5.756208047270775,
         5.637793710455298,
         5.701660832390189,
         5.7224236112087965,
         5.710063515231013,
         5.661684447899461,
         5.668654581531882,
         5.642019344493747,
         5.710838383063674,
         5.698626669123769,
         5.680571725592017,
         5.597277471795678,
         5.734881853684783,
         5.67231697961688,
         5.687564501538873,
         5.718411160632968,
         5.671986570581794,
         5.704915685579181,
         5.700808774679899,
         5.659478588029742,
         5.60487818159163,
         5.742641175165772,
         5.677110290154815,
         5.621995085850358,
         5.729401471093297,
         5.690170219168067,
         5.639294231310487,
         5.627904189750552,
         5.632706807926297,
         5.725481271743774,
         5.747388482093811,
         5.683671718463302,
         5.665383828803897,
         5.6316199991852045,
         5.640997240319848,
         5.738997729495168,
         5.662944810464978,
         5.714139897376299,
         5.732875215820968,
         5.660985663533211,
         5.579422770068049,
         5.724057519808412,
         5.637614695355296,
         5.668940184637904,
         5.693796141073108,
         5.730063019320369,
         5.712051255628467,
         5.736144924536347,
         5.656469376757741,
         5.651635340414941,
         5.635091716423631,
         5.637285578995943,
         5.705270962789655,
         5.719445250928402,
         5.595449952408671,
         5.666979404166341,
         5.648719632998109,
         5.6742704678326845,
         5.692591395229101,
         5.716121466830373,
         5.676198834553361,
         5.702353810891509,
         5.696854693815112,
         5.718756115064025,
         5.6631692331284285,
         5.659711049869657,
         5.6589265409857035,
         5.665742112323642,
         5.689055638387799,
         5.6858563628047705,
         5.673321397975087,
         5.699193304404616,
         5.652041228488088,
         5.660226220265031,
         5.554361904039979,
         5.728257954120636,
         5.644756531342864,
         5.599175034090877,
         5.656974306330085,
         5.656222468242049,
         5.693159544840455,
         5.6958929579705,
         5.683100992813706,
         5.654178140684962,
         5.67282179184258,
         5.836748072877526,
         5.618142506107688,
         5.681325489655137,
         5.684216106310487,
         5.708220800384879,
         5.751958722248673,
         5.642048681154847,
         5.612166007980704,
         5.676599266007543,
         5.658426055684686,
         5.734286393970251,
         5.662093134596944,
         5.654722454026341,
         5.641456054523587
        ],
        [
         1.637628985191114,
         1.64869207062206,
         1.628024589113596,
         1.6451189871580005,
         1.644924055487502,
         1.6433501032710502,
         1.6234004192443205,
         1.6360223750948415,
         1.6257543887185364,
         1.6424005152563863,
         1.6355888513294743,
         1.6422139102102498,
         1.6107146463932456,
         1.637007162880056,
         1.6336041237908696,
         1.6349402637486905,
         1.6421972496325958,
         1.6383634722108062,
         1.64089564227291,
         1.6410871462043386,
         1.6321677566068138,
         1.6237559939372177,
         1.6447114233952824,
         1.627507557128144,
         1.6283393474278807,
         1.6482479610539407,
         1.637061924003123,
         1.6375348234643072,
         1.627066149171912,
         1.618485320234932,
         1.6518259828086237,
         1.6524808204092354,
         1.6365660459260216,
         1.6231238813504458,
         1.639833181842289,
         1.621978191942931,
         1.6453170171565175,
         1.638072304833913,
         1.650416812547353,
         1.65538335776404,
         1.6258086069471918,
         1.621685017321092,
         1.6443702355157106,
         1.6221525103896732,
         1.6336469576596442,
         1.6385013803311326,
         1.6427753419603577,
         1.636347026476211,
         1.6434842139485486,
         1.6284461872504896,
         1.626143823158452,
         1.6358506305779308,
         1.6321910176666345,
         1.6360998827555262,
         1.6371161158220067,
         1.626267465449064,
         1.6403229856554509,
         1.6406211691796169,
         1.6275001961998765,
         1.634154726586412,
         1.6347026118514325,
         1.6356638097573677,
         1.6377668534452683,
         1.6471712979354534,
         1.6409577994241349,
         1.6390080214743412,
         1.634842285122719,
         1.6122612600448425,
         1.6410711742195758,
         1.6443218463702907,
         1.630561448450799,
         1.6322613032655329,
         1.6535327374857496,
         1.6343255493012079,
         1.636877162323787,
         1.608695805801564,
         1.6487899415577945,
         1.6352275339526356,
         1.6209843873591467,
         1.6326974332183046,
         1.6321218035834149,
         1.6381956929136108,
         1.6278177139429928,
         1.6297466929472832,
         1.6267656196068183,
         1.6337448445735872,
         1.6658760396228993,
         1.6296631970531907,
         1.6306039326055677,
         1.633296690861329,
         1.6554173673760828,
         1.645697927829066,
         1.6188412939461134,
         1.6157855032338169,
         1.6294001231494153,
         1.6385623631428488,
         1.6392861140061157,
         1.632780982159527,
         1.636530712194787,
         1.6325585470253337
        ]
       ],
       "encoder": "json",
       "name": "ABC_GAN_3 Metrics",
       "version": 1
      }
     },
     "metadata": {
      "scrapbook": {
       "data": true,
       "display": false,
       "name": "ABC_GAN_3 Metrics"
      }
     },
     "output_type": "display_data"
    },
    {
     "name": "stdout",
     "output_type": "stream",
     "text": [
      "MSE\n",
      "0.13373107820916794\n"
     ]
    }
   ],
   "source": [
    "ABC_GAN3_metrics=ABC_train_test2.test_generator(gen3,test_data,prior_model,variance,0,\"3\",device)\n",
    "sb.glue(\"ABC_GAN_3 Metrics\",ABC_GAN3_metrics)\n",
    "\n",
    "print(\"MSE\")\n",
    "print(mean(ABC_GAN3_metrics[0]))"
   ]
  },
  {
   "cell_type": "code",
   "execution_count": 18,
   "id": "c8e46b48",
   "metadata": {
    "execution": {
     "iopub.execute_input": "2022-05-18T08:31:16.069902Z",
     "iopub.status.busy": "2022-05-18T08:31:16.069522Z",
     "iopub.status.idle": "2022-05-18T08:31:16.364739Z",
     "shell.execute_reply": "2022-05-18T08:31:16.365041Z"
    },
    "id": "c8e46b48",
    "papermill": {
     "duration": 0.314869,
     "end_time": "2022-05-18T08:31:16.365164",
     "exception": false,
     "start_time": "2022-05-18T08:31:16.050295",
     "status": "completed"
    },
    "tags": []
   },
   "outputs": [
    {
     "data": {
      "image/png": "[encoded data removed]",
      "text/plain": [
       "<Figure size 432x288 with 1 Axes>"
      ]
     },
     "metadata": {
      "needs_background": "light"
     },
     "output_type": "display_data"
    },
    {
     "data": {
      "image/png": "[encoded data removed]",
      "text/plain": [
       "<Figure size 432x288 with 1 Axes>"
      ]
     },
     "metadata": {
      "needs_background": "light"
     },
     "output_type": "display_data"
    },
    {
     "data": {
      "image/png": "[encoded data removed]",
      "text/plain": [
       "<Figure size 432x288 with 1 Axes>"
      ]
     },
     "metadata": {
      "needs_background": "light"
     },
     "output_type": "display_data"
    },
    {
     "data": {
      "image/png": "[encoded data removed]",
      "text/plain": [
       "<Figure size 432x288 with 1 Axes>"
      ]
     },
     "metadata": {
      "needs_background": "light"
     },
     "output_type": "display_data"
    }
   ],
   "source": [
    "sanityChecks.discProbVsError(train_data,disc3,device)\n",
    "sanityChecks.discProbVsError(test_data,disc3,device)"
   ]
  },
  {
   "cell_type": "markdown",
   "id": "a5bd74c3",
   "metadata": {
    "id": "a5bd74c3",
    "papermill": {
     "duration": 0.01926,
     "end_time": "2022-05-18T08:31:16.404045",
     "exception": false,
     "start_time": "2022-05-18T08:31:16.384785",
     "status": "completed"
    },
    "tags": []
   },
   "source": [
    "## Skip Connection Model Analysis - ABC-GAN "
   ]
  },
  {
   "cell_type": "markdown",
   "id": "5744a8bf",
   "metadata": {
    "id": "5744a8bf",
    "papermill": {
     "duration": 0.019125,
     "end_time": "2022-05-18T08:31:16.442411",
     "exception": false,
     "start_time": "2022-05-18T08:31:16.423286",
     "status": "completed"
    },
    "tags": []
   },
   "source": [
    "### Weight Analysis \n",
    "\n",
    "Study the weights of the skip connection layer\n",
    "\n",
    "Equation of the skip connection is \n",
    "\n",
    "$output = y_{gan} * w + y_{abc} * (1-w)$"
   ]
  },
  {
   "cell_type": "code",
   "execution_count": 19,
   "id": "52c31dea",
   "metadata": {
    "execution": {
     "iopub.execute_input": "2022-05-18T08:31:16.483645Z",
     "iopub.status.busy": "2022-05-18T08:31:16.483277Z",
     "iopub.status.idle": "2022-05-18T08:31:16.486765Z",
     "shell.execute_reply": "2022-05-18T08:31:16.487016Z"
    },
    "id": "52c31dea",
    "papermill": {
     "duration": 0.025655,
     "end_time": "2022-05-18T08:31:16.487129",
     "exception": false,
     "start_time": "2022-05-18T08:31:16.461474",
     "status": "completed"
    },
    "tags": []
   },
   "outputs": [
    {
     "name": "stdout",
     "output_type": "stream",
     "text": [
      "Weight of the node at skip connection\n",
      "Parameter containing:\n",
      "tensor([[0.4322]], requires_grad=True)\n"
     ]
    },
    {
     "data": {
      "application/scrapbook.scrap.json+json": {
       "data": 0.432242214679718,
       "encoder": "json",
       "name": "Skip Connection Weight",
       "version": 1
      }
     },
     "metadata": {
      "scrapbook": {
       "data": true,
       "display": false,
       "name": "Skip Connection Weight"
      }
     },
     "output_type": "display_data"
    }
   ],
   "source": [
    "print(\"Weight of the node at skip connection\")\n",
    "for name,param in gen3.named_parameters():\n",
    "    if(name == \"skipNode.weight\"):\n",
    "        print(param)\n",
    "        sb.glue(\"Skip Connection Weight\",param.item())"
   ]
  }
 ],
 "metadata": {
  "colab": {
   "collapsed_sections": [],
   "name": "ABC_GAN_Model-Catboost_Pre-gen.ipynb",
   "provenance": []
  },
  "interpreter": {
   "hash": "31f2aee4e71d21fbe5cf8b01ff0e069b9275f58929596ceb00d14d90e3e16cd6"
  },
  "kernelspec": {
   "display_name": "Python 3 (ipykernel)",
   "language": "python",
   "name": "python3"
  },
  "language_info": {
   "codemirror_mode": {
    "name": "ipython",
    "version": 3
   },
   "file_extension": ".py",
   "mimetype": "text/x-python",
   "name": "python",
   "nbconvert_exporter": "python",
   "pygments_lexer": "ipython3",
   "version": "3.8.11"
  },
  "papermill": {
   "default_parameters": {},
   "duration": 59.087708,
   "end_time": "2022-05-18T08:31:16.813888",
   "environment_variables": {},
   "exception": null,
   "input_path": "ABC_GAN-Catboost.ipynb",
   "output_path": "./ABC_GAN_Catboost/ABC-GAN_output_3_2.ipynb",
   "parameters": {
    "variance": 0.01
   },
   "start_time": "2022-05-18T08:30:17.726180",
   "version": "2.3.3"
  }
 },
 "nbformat": 4,
 "nbformat_minor": 5
}