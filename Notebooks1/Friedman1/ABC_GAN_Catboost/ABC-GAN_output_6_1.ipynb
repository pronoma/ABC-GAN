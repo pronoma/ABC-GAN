{
 "cells": [
  {
   "cell_type": "markdown",
   "id": "622780e6",
   "metadata": {
    "id": "622780e6",
    "papermill": {
     "duration": 0.034823,
     "end_time": "2022-05-18T08:37:59.852082",
     "exception": false,
     "start_time": "2022-05-18T08:37:59.817259",
     "status": "completed"
    },
    "tags": []
   },
   "source": [
    "## Import Libraries "
   ]
  },
  {
   "cell_type": "code",
   "execution_count": 1,
   "id": "a62397e3",
   "metadata": {
    "execution": {
     "iopub.execute_input": "2022-05-18T08:37:59.888667Z",
     "iopub.status.busy": "2022-05-18T08:37:59.888053Z",
     "iopub.status.idle": "2022-05-18T08:37:59.890268Z",
     "shell.execute_reply": "2022-05-18T08:37:59.890603Z"
    },
    "id": "a62397e3",
    "papermill": {
     "duration": 0.022369,
     "end_time": "2022-05-18T08:37:59.890806",
     "exception": false,
     "start_time": "2022-05-18T08:37:59.868437",
     "status": "completed"
    },
    "tags": []
   },
   "outputs": [],
   "source": [
    "import warnings\n",
    "import sys\n",
    "sys.path.insert(0, '../../src')\n",
    "warnings.filterwarnings('ignore')"
   ]
  },
  {
   "cell_type": "code",
   "execution_count": 2,
   "id": "d6a4e155",
   "metadata": {
    "execution": {
     "iopub.execute_input": "2022-05-18T08:37:59.911141Z",
     "iopub.status.busy": "2022-05-18T08:37:59.910740Z",
     "iopub.status.idle": "2022-05-18T08:38:01.680880Z",
     "shell.execute_reply": "2022-05-18T08:38:01.681134Z"
    },
    "id": "d6a4e155",
    "papermill": {
     "duration": 1.780881,
     "end_time": "2022-05-18T08:38:01.681258",
     "exception": false,
     "start_time": "2022-05-18T08:37:59.900377",
     "status": "completed"
    },
    "tags": []
   },
   "outputs": [],
   "source": [
    "import ABC_train_test2\n",
    "import friedman1Dataset\n",
    "import network\n",
    "import dataset\n",
    "import sanityChecks\n",
    "import torch \n",
    "import scrapbook as sb\n",
    "from statistics import mean \n",
    "import catboost as ctb \n",
    "from sklearn.model_selection import train_test_split\n",
    "from sklearn.metrics import mean_squared_error,mean_absolute_error\n",
    "import numpy as np"
   ]
  },
  {
   "cell_type": "markdown",
   "id": "2fa5b0f7",
   "metadata": {
    "id": "2fa5b0f7",
    "papermill": {
     "duration": 0.006779,
     "end_time": "2022-05-18T08:38:01.695199",
     "exception": false,
     "start_time": "2022-05-18T08:38:01.688420",
     "status": "completed"
    },
    "tags": []
   },
   "source": [
    "## Parameters "
   ]
  },
  {
   "cell_type": "code",
   "execution_count": 3,
   "id": "783186fb",
   "metadata": {
    "execution": {
     "iopub.execute_input": "2022-05-18T08:38:01.710884Z",
     "iopub.status.busy": "2022-05-18T08:38:01.710494Z",
     "iopub.status.idle": "2022-05-18T08:38:01.711618Z",
     "shell.execute_reply": "2022-05-18T08:38:01.711864Z"
    },
    "id": "783186fb",
    "papermill": {
     "duration": 0.010082,
     "end_time": "2022-05-18T08:38:01.711975",
     "exception": false,
     "start_time": "2022-05-18T08:38:01.701893",
     "status": "completed"
    },
    "tags": [
     "parameters"
    ]
   },
   "outputs": [],
   "source": [
    "variance = 1"
   ]
  },
  {
   "cell_type": "code",
   "execution_count": 4,
   "id": "135c80bd",
   "metadata": {
    "execution": {
     "iopub.execute_input": "2022-05-18T08:38:01.727486Z",
     "iopub.status.busy": "2022-05-18T08:38:01.727112Z",
     "iopub.status.idle": "2022-05-18T08:38:01.728288Z",
     "shell.execute_reply": "2022-05-18T08:38:01.728526Z"
    },
    "papermill": {
     "duration": 0.009829,
     "end_time": "2022-05-18T08:38:01.728630",
     "exception": false,
     "start_time": "2022-05-18T08:38:01.718801",
     "status": "completed"
    },
    "tags": [
     "injected-parameters"
    ]
   },
   "outputs": [],
   "source": [
    "# Parameters\n",
    "variance = 0.1\n"
   ]
  },
  {
   "cell_type": "markdown",
   "id": "391cdbfd",
   "metadata": {
    "id": "391cdbfd",
    "papermill": {
     "duration": 0.006705,
     "end_time": "2022-05-18T08:38:01.742119",
     "exception": false,
     "start_time": "2022-05-18T08:38:01.735414",
     "status": "completed"
    },
    "tags": []
   },
   "source": [
    "## Dataset \n"
   ]
  },
  {
   "cell_type": "code",
   "execution_count": 5,
   "id": "5b51f161",
   "metadata": {
    "execution": {
     "iopub.execute_input": "2022-05-18T08:38:01.757611Z",
     "iopub.status.busy": "2022-05-18T08:38:01.757235Z",
     "iopub.status.idle": "2022-05-18T08:38:01.758440Z",
     "shell.execute_reply": "2022-05-18T08:38:01.758675Z"
    },
    "id": "5b51f161",
    "papermill": {
     "duration": 0.00988,
     "end_time": "2022-05-18T08:38:01.758782",
     "exception": false,
     "start_time": "2022-05-18T08:38:01.748902",
     "status": "completed"
    },
    "tags": []
   },
   "outputs": [],
   "source": [
    "#Parameters \n",
    "n_features = 5\n",
    "n_samples= 100\n",
    "n_target = 1 "
   ]
  },
  {
   "cell_type": "code",
   "execution_count": 6,
   "id": "5d6eced4",
   "metadata": {
    "execution": {
     "iopub.execute_input": "2022-05-18T08:38:01.775791Z",
     "iopub.status.busy": "2022-05-18T08:38:01.774478Z",
     "iopub.status.idle": "2022-05-18T08:38:01.780765Z",
     "shell.execute_reply": "2022-05-18T08:38:01.781007Z"
    },
    "id": "5d6eced4",
    "papermill": {
     "duration": 0.015443,
     "end_time": "2022-05-18T08:38:01.781128",
     "exception": false,
     "start_time": "2022-05-18T08:38:01.765685",
     "status": "completed"
    },
    "tags": []
   },
   "outputs": [
    {
     "name": "stdout",
     "output_type": "stream",
     "text": [
      "         X0        X1        X2        X3        X4         Y\n",
      "0 -0.383088 -0.522043  0.855187  0.351268 -1.473049 -0.565733\n",
      "1  1.312311 -0.725767  0.426605 -1.046436 -1.296603 -0.944839\n",
      "2  0.043446 -1.202027  1.068994 -0.010268  0.864814 -0.347413\n",
      "3 -1.698115  1.275659 -0.887144 -1.174379  1.732665 -0.800583\n",
      "4  1.287809 -0.939755 -0.307728  0.335873 -1.096845 -0.425325\n"
     ]
    }
   ],
   "source": [
    "X,Y = friedman1Dataset.friedman1_data(n_samples,n_features)"
   ]
  },
  {
   "cell_type": "code",
   "execution_count": 7,
   "id": "fe007438",
   "metadata": {
    "execution": {
     "iopub.execute_input": "2022-05-18T08:38:01.798223Z",
     "iopub.status.busy": "2022-05-18T08:38:01.797845Z",
     "iopub.status.idle": "2022-05-18T08:38:01.799339Z",
     "shell.execute_reply": "2022-05-18T08:38:01.799579Z"
    },
    "id": "fe007438",
    "papermill": {
     "duration": 0.011221,
     "end_time": "2022-05-18T08:38:01.799688",
     "exception": false,
     "start_time": "2022-05-18T08:38:01.788467",
     "status": "completed"
    },
    "tags": []
   },
   "outputs": [],
   "source": [
    "#Train test split for dataset \n",
    "X_train,X_test,Y_train,Y_test = train_test_split(X,Y,test_size = 0.2)\n",
    "train_data = dataset.CustomDataset(X_train,Y_train)\n",
    "test_data = dataset.CustomDataset(X_test,Y_test)\n"
   ]
  },
  {
   "cell_type": "markdown",
   "id": "a9a1af34",
   "metadata": {
    "id": "a9a1af34",
    "papermill": {
     "duration": 0.00706,
     "end_time": "2022-05-18T08:38:01.813866",
     "exception": false,
     "start_time": "2022-05-18T08:38:01.806806",
     "status": "completed"
    },
    "tags": []
   },
   "source": [
    "## Training Parameters "
   ]
  },
  {
   "cell_type": "code",
   "execution_count": 8,
   "id": "952b7fc8",
   "metadata": {
    "execution": {
     "iopub.execute_input": "2022-05-18T08:38:01.830281Z",
     "iopub.status.busy": "2022-05-18T08:38:01.829927Z",
     "iopub.status.idle": "2022-05-18T08:38:01.831256Z",
     "shell.execute_reply": "2022-05-18T08:38:01.831513Z"
    },
    "id": "952b7fc8",
    "papermill": {
     "duration": 0.010732,
     "end_time": "2022-05-18T08:38:01.831623",
     "exception": false,
     "start_time": "2022-05-18T08:38:01.820891",
     "status": "completed"
    },
    "tags": []
   },
   "outputs": [],
   "source": [
    "batch_size = 32\n",
    "n_epochs = 1000\n",
    "#Select the device \n",
    "device = torch.device('cuda' if torch.cuda.is_available() else 'cpu')"
   ]
  },
  {
   "cell_type": "markdown",
   "id": "a95e1600",
   "metadata": {
    "id": "a95e1600",
    "papermill": {
     "duration": 0.00705,
     "end_time": "2022-05-18T08:38:01.845837",
     "exception": false,
     "start_time": "2022-05-18T08:38:01.838787",
     "status": "completed"
    },
    "tags": []
   },
   "source": [
    "# ABC Pre-generator Model \n",
    "\n",
    "1. The catboost model is used as a pre-generator model for the ABC-GAN. \n",
    "2. The model is first trained on the entire dataset \n",
    "3. It generats X,Y pairs and we add some Gaussian noise with mean 0 and variance 1 to it which is then feed as input to the generator.\n"
   ]
  },
  {
   "cell_type": "code",
   "execution_count": 9,
   "id": "ff8ce7bd",
   "metadata": {
    "execution": {
     "iopub.execute_input": "2022-05-18T08:38:01.863755Z",
     "iopub.status.busy": "2022-05-18T08:38:01.863356Z",
     "iopub.status.idle": "2022-05-18T08:38:02.490112Z",
     "shell.execute_reply": "2022-05-18T08:38:02.490352Z"
    },
    "id": "ff8ce7bd",
    "papermill": {
     "duration": 0.637535,
     "end_time": "2022-05-18T08:38:02.490476",
     "exception": false,
     "start_time": "2022-05-18T08:38:01.852941",
     "status": "completed"
    },
    "tags": []
   },
   "outputs": [
    {
     "name": "stdout",
     "output_type": "stream",
     "text": [
      "Learning rate set to 0.024897\n",
      "0:\tlearn: 0.9812573\ttotal: 57.4ms\tremaining: 57.4s\n",
      "1:\tlearn: 0.9713622\ttotal: 58.1ms\tremaining: 29s\n",
      "2:\tlearn: 0.9610756\ttotal: 58.6ms\tremaining: 19.5s\n",
      "3:\tlearn: 0.9508654\ttotal: 59.1ms\tremaining: 14.7s\n",
      "4:\tlearn: 0.9415008\ttotal: 59.5ms\tremaining: 11.8s\n",
      "5:\tlearn: 0.9321097\ttotal: 60.2ms\tremaining: 9.97s\n",
      "6:\tlearn: 0.9220033\ttotal: 60.6ms\tremaining: 8.6s\n",
      "7:\tlearn: 0.9116779\ttotal: 61ms\tremaining: 7.57s\n",
      "8:\tlearn: 0.9019702\ttotal: 61.6ms\tremaining: 6.78s\n",
      "9:\tlearn: 0.8936539\ttotal: 62ms\tremaining: 6.14s\n",
      "10:\tlearn: 0.8845452\ttotal: 62.5ms\tremaining: 5.62s\n",
      "11:\tlearn: 0.8756039\ttotal: 63.1ms\tremaining: 5.2s\n",
      "12:\tlearn: 0.8663160\ttotal: 63.7ms\tremaining: 4.83s\n",
      "13:\tlearn: 0.8591114\ttotal: 64.1ms\tremaining: 4.52s\n",
      "14:\tlearn: 0.8512725\ttotal: 64.7ms\tremaining: 4.25s\n",
      "15:\tlearn: 0.8434388\ttotal: 65.2ms\tremaining: 4.01s\n",
      "16:\tlearn: 0.8366822\ttotal: 65.8ms\tremaining: 3.81s\n",
      "17:\tlearn: 0.8278755\ttotal: 66.5ms\tremaining: 3.63s\n",
      "18:\tlearn: 0.8191086\ttotal: 66.8ms\tremaining: 3.45s\n",
      "19:\tlearn: 0.8110336\ttotal: 67.3ms\tremaining: 3.29s\n",
      "20:\tlearn: 0.8027852\ttotal: 67.7ms\tremaining: 3.15s\n",
      "21:\tlearn: 0.7956026\ttotal: 68.1ms\tremaining: 3.03s\n",
      "22:\tlearn: 0.7868470\ttotal: 68.5ms\tremaining: 2.91s\n",
      "23:\tlearn: 0.7791031\ttotal: 69ms\tremaining: 2.8s\n",
      "24:\tlearn: 0.7724761\ttotal: 69.4ms\tremaining: 2.71s\n",
      "25:\tlearn: 0.7645845\ttotal: 69.8ms\tremaining: 2.61s\n",
      "26:\tlearn: 0.7584281\ttotal: 70.3ms\tremaining: 2.53s\n",
      "27:\tlearn: 0.7504522\ttotal: 70.7ms\tremaining: 2.45s\n",
      "28:\tlearn: 0.7426752\ttotal: 71.2ms\tremaining: 2.38s\n",
      "29:\tlearn: 0.7366718\ttotal: 71.5ms\tremaining: 2.31s\n",
      "30:\tlearn: 0.7299478\ttotal: 72ms\tremaining: 2.25s\n",
      "31:\tlearn: 0.7225521\ttotal: 72.5ms\tremaining: 2.19s\n",
      "32:\tlearn: 0.7164448\ttotal: 73ms\tremaining: 2.14s\n",
      "33:\tlearn: 0.7088513\ttotal: 73.5ms\tremaining: 2.09s\n",
      "34:\tlearn: 0.7029659\ttotal: 73.9ms\tremaining: 2.04s\n",
      "35:\tlearn: 0.6982706\ttotal: 74.3ms\tremaining: 1.99s\n",
      "36:\tlearn: 0.6925840\ttotal: 74.8ms\tremaining: 1.95s\n",
      "37:\tlearn: 0.6864099\ttotal: 75.3ms\tremaining: 1.91s\n",
      "38:\tlearn: 0.6790575\ttotal: 75.7ms\tremaining: 1.86s\n",
      "39:\tlearn: 0.6731216\ttotal: 76.1ms\tremaining: 1.83s\n",
      "40:\tlearn: 0.6667615\ttotal: 76.7ms\tremaining: 1.79s\n",
      "41:\tlearn: 0.6610342\ttotal: 77.2ms\tremaining: 1.76s\n",
      "42:\tlearn: 0.6560930\ttotal: 77.6ms\tremaining: 1.73s\n",
      "43:\tlearn: 0.6499391\ttotal: 78.1ms\tremaining: 1.7s\n",
      "44:\tlearn: 0.6438355\ttotal: 78.6ms\tremaining: 1.67s\n",
      "45:\tlearn: 0.6375877\ttotal: 79ms\tremaining: 1.64s\n",
      "46:\tlearn: 0.6312738\ttotal: 79.5ms\tremaining: 1.61s\n",
      "47:\tlearn: 0.6258048\ttotal: 80ms\tremaining: 1.59s\n",
      "48:\tlearn: 0.6204247\ttotal: 80.5ms\tremaining: 1.56s\n",
      "49:\tlearn: 0.6141364\ttotal: 81.1ms\tremaining: 1.54s\n",
      "50:\tlearn: 0.6082129\ttotal: 81.6ms\tremaining: 1.52s\n",
      "51:\tlearn: 0.6026132\ttotal: 82.1ms\tremaining: 1.5s\n",
      "52:\tlearn: 0.5971223\ttotal: 82.6ms\tremaining: 1.48s\n",
      "53:\tlearn: 0.5926519\ttotal: 83.1ms\tremaining: 1.46s\n",
      "54:\tlearn: 0.5883779\ttotal: 83.5ms\tremaining: 1.43s\n",
      "55:\tlearn: 0.5836009\ttotal: 84ms\tremaining: 1.42s\n",
      "56:\tlearn: 0.5789582\ttotal: 84.6ms\tremaining: 1.4s\n",
      "57:\tlearn: 0.5741102\ttotal: 85.2ms\tremaining: 1.38s\n",
      "58:\tlearn: 0.5698532\ttotal: 85.8ms\tremaining: 1.37s\n",
      "59:\tlearn: 0.5661916\ttotal: 86.2ms\tremaining: 1.35s\n",
      "60:\tlearn: 0.5620964\ttotal: 86.7ms\tremaining: 1.33s\n",
      "61:\tlearn: 0.5573870\ttotal: 87.3ms\tremaining: 1.32s\n",
      "62:\tlearn: 0.5518917\ttotal: 87.9ms\tremaining: 1.31s\n",
      "63:\tlearn: 0.5470552\ttotal: 88.5ms\tremaining: 1.29s\n",
      "64:\tlearn: 0.5428210\ttotal: 89.1ms\tremaining: 1.28s\n",
      "65:\tlearn: 0.5389573\ttotal: 89.7ms\tremaining: 1.27s\n",
      "66:\tlearn: 0.5343689\ttotal: 90.7ms\tremaining: 1.26s\n",
      "67:\tlearn: 0.5295686\ttotal: 91.3ms\tremaining: 1.25s\n",
      "68:\tlearn: 0.5257393\ttotal: 91.7ms\tremaining: 1.24s\n",
      "69:\tlearn: 0.5215905\ttotal: 92.3ms\tremaining: 1.23s\n",
      "70:\tlearn: 0.5180394\ttotal: 92.9ms\tremaining: 1.22s\n",
      "71:\tlearn: 0.5141487\ttotal: 93.3ms\tremaining: 1.2s\n",
      "72:\tlearn: 0.5092036\ttotal: 93.8ms\tremaining: 1.19s\n",
      "73:\tlearn: 0.5055364\ttotal: 94.2ms\tremaining: 1.18s\n",
      "74:\tlearn: 0.5019829\ttotal: 94.7ms\tremaining: 1.17s\n",
      "75:\tlearn: 0.4973843\ttotal: 95.2ms\tremaining: 1.16s\n",
      "76:\tlearn: 0.4934466\ttotal: 95.6ms\tremaining: 1.15s\n",
      "77:\tlearn: 0.4892254\ttotal: 96ms\tremaining: 1.13s\n",
      "78:\tlearn: 0.4858066\ttotal: 96.4ms\tremaining: 1.12s\n",
      "79:\tlearn: 0.4822451\ttotal: 96.9ms\tremaining: 1.11s\n",
      "80:\tlearn: 0.4779036\ttotal: 97.4ms\tremaining: 1.1s\n",
      "81:\tlearn: 0.4741534\ttotal: 98ms\tremaining: 1.1s\n",
      "82:\tlearn: 0.4699252\ttotal: 98.4ms\tremaining: 1.09s\n",
      "83:\tlearn: 0.4663807\ttotal: 98.7ms\tremaining: 1.08s\n",
      "84:\tlearn: 0.4623192\ttotal: 99.3ms\tremaining: 1.07s\n",
      "85:\tlearn: 0.4590965\ttotal: 99.8ms\tremaining: 1.06s\n",
      "86:\tlearn: 0.4556885\ttotal: 100ms\tremaining: 1.05s\n",
      "87:\tlearn: 0.4517716\ttotal: 101ms\tremaining: 1.04s\n",
      "88:\tlearn: 0.4484849\ttotal: 101ms\tremaining: 1.03s\n",
      "89:\tlearn: 0.4453174\ttotal: 101ms\tremaining: 1.02s\n",
      "90:\tlearn: 0.4417134\ttotal: 102ms\tremaining: 1.02s\n",
      "91:\tlearn: 0.4381138\ttotal: 102ms\tremaining: 1.01s\n",
      "92:\tlearn: 0.4345927\ttotal: 103ms\tremaining: 1s\n",
      "93:\tlearn: 0.4309712\ttotal: 103ms\tremaining: 997ms\n",
      "94:\tlearn: 0.4282445\ttotal: 104ms\tremaining: 989ms\n",
      "95:\tlearn: 0.4246107\ttotal: 104ms\tremaining: 983ms\n",
      "96:\tlearn: 0.4214179\ttotal: 105ms\tremaining: 978ms\n",
      "97:\tlearn: 0.4180907\ttotal: 105ms\tremaining: 971ms\n",
      "98:\tlearn: 0.4145205\ttotal: 106ms\tremaining: 964ms\n",
      "99:\tlearn: 0.4119688\ttotal: 107ms\tremaining: 959ms\n",
      "100:\tlearn: 0.4087233\ttotal: 107ms\tremaining: 954ms\n"
     ]
    },
    {
     "name": "stdout",
     "output_type": "stream",
     "text": [
      "101:\tlearn: 0.4056765\ttotal: 108ms\tremaining: 950ms\n",
      "102:\tlearn: 0.4023192\ttotal: 109ms\tremaining: 946ms\n",
      "103:\tlearn: 0.3995947\ttotal: 109ms\tremaining: 940ms\n",
      "104:\tlearn: 0.3962574\ttotal: 110ms\tremaining: 934ms\n",
      "105:\tlearn: 0.3936038\ttotal: 110ms\tremaining: 928ms\n",
      "106:\tlearn: 0.3901288\ttotal: 111ms\tremaining: 923ms\n",
      "107:\tlearn: 0.3873708\ttotal: 111ms\tremaining: 916ms\n",
      "108:\tlearn: 0.3837891\ttotal: 112ms\tremaining: 912ms\n",
      "109:\tlearn: 0.3808068\ttotal: 112ms\tremaining: 906ms\n",
      "110:\tlearn: 0.3781162\ttotal: 112ms\tremaining: 900ms\n",
      "111:\tlearn: 0.3754216\ttotal: 113ms\tremaining: 895ms\n",
      "112:\tlearn: 0.3724294\ttotal: 113ms\tremaining: 889ms\n",
      "113:\tlearn: 0.3694238\ttotal: 114ms\tremaining: 886ms\n",
      "114:\tlearn: 0.3669128\ttotal: 114ms\tremaining: 881ms\n",
      "115:\tlearn: 0.3640589\ttotal: 115ms\tremaining: 876ms\n",
      "116:\tlearn: 0.3616675\ttotal: 115ms\tremaining: 870ms\n",
      "117:\tlearn: 0.3596696\ttotal: 116ms\tremaining: 866ms\n",
      "118:\tlearn: 0.3576175\ttotal: 116ms\tremaining: 861ms\n",
      "119:\tlearn: 0.3549860\ttotal: 117ms\tremaining: 857ms\n",
      "120:\tlearn: 0.3524764\ttotal: 117ms\tremaining: 852ms\n",
      "121:\tlearn: 0.3500488\ttotal: 118ms\tremaining: 848ms\n",
      "122:\tlearn: 0.3473271\ttotal: 118ms\tremaining: 844ms\n",
      "123:\tlearn: 0.3446285\ttotal: 119ms\tremaining: 841ms\n",
      "124:\tlearn: 0.3419676\ttotal: 120ms\tremaining: 837ms\n",
      "125:\tlearn: 0.3395010\ttotal: 120ms\tremaining: 832ms\n",
      "126:\tlearn: 0.3370348\ttotal: 120ms\tremaining: 828ms\n",
      "127:\tlearn: 0.3347964\ttotal: 121ms\tremaining: 824ms\n",
      "128:\tlearn: 0.3328740\ttotal: 121ms\tremaining: 819ms\n",
      "129:\tlearn: 0.3303222\ttotal: 122ms\tremaining: 815ms\n",
      "130:\tlearn: 0.3284385\ttotal: 122ms\tremaining: 811ms\n",
      "131:\tlearn: 0.3264784\ttotal: 123ms\tremaining: 807ms\n",
      "132:\tlearn: 0.3242071\ttotal: 123ms\tremaining: 803ms\n",
      "133:\tlearn: 0.3220974\ttotal: 124ms\tremaining: 799ms\n",
      "134:\tlearn: 0.3200820\ttotal: 124ms\tremaining: 796ms\n",
      "135:\tlearn: 0.3176177\ttotal: 125ms\tremaining: 792ms\n",
      "136:\tlearn: 0.3154477\ttotal: 125ms\tremaining: 789ms\n",
      "137:\tlearn: 0.3131100\ttotal: 126ms\tremaining: 785ms\n",
      "138:\tlearn: 0.3110069\ttotal: 126ms\tremaining: 781ms\n",
      "139:\tlearn: 0.3089441\ttotal: 127ms\tremaining: 778ms\n",
      "140:\tlearn: 0.3069222\ttotal: 127ms\tremaining: 775ms\n",
      "141:\tlearn: 0.3049319\ttotal: 128ms\tremaining: 772ms\n",
      "142:\tlearn: 0.3027405\ttotal: 128ms\tremaining: 769ms\n",
      "143:\tlearn: 0.3006304\ttotal: 129ms\tremaining: 765ms\n",
      "144:\tlearn: 0.2982628\ttotal: 129ms\tremaining: 761ms\n",
      "145:\tlearn: 0.2961499\ttotal: 130ms\tremaining: 759ms\n",
      "146:\tlearn: 0.2941734\ttotal: 130ms\tremaining: 757ms\n",
      "147:\tlearn: 0.2926074\ttotal: 131ms\tremaining: 754ms\n",
      "148:\tlearn: 0.2905750\ttotal: 132ms\tremaining: 751ms\n",
      "149:\tlearn: 0.2889311\ttotal: 132ms\tremaining: 748ms\n",
      "150:\tlearn: 0.2869931\ttotal: 133ms\tremaining: 745ms\n",
      "151:\tlearn: 0.2848246\ttotal: 133ms\tremaining: 741ms\n",
      "152:\tlearn: 0.2829364\ttotal: 133ms\tremaining: 738ms\n",
      "153:\tlearn: 0.2809043\ttotal: 134ms\tremaining: 735ms\n",
      "154:\tlearn: 0.2791784\ttotal: 134ms\tremaining: 732ms\n",
      "155:\tlearn: 0.2770933\ttotal: 135ms\tremaining: 730ms\n",
      "156:\tlearn: 0.2748286\ttotal: 136ms\tremaining: 728ms\n",
      "157:\tlearn: 0.2738396\ttotal: 136ms\tremaining: 726ms\n",
      "158:\tlearn: 0.2721957\ttotal: 137ms\tremaining: 723ms\n",
      "159:\tlearn: 0.2705270\ttotal: 137ms\tremaining: 720ms\n",
      "160:\tlearn: 0.2685572\ttotal: 138ms\tremaining: 718ms\n",
      "161:\tlearn: 0.2665565\ttotal: 138ms\tremaining: 716ms\n",
      "162:\tlearn: 0.2648297\ttotal: 139ms\tremaining: 713ms\n",
      "163:\tlearn: 0.2630716\ttotal: 139ms\tremaining: 711ms\n",
      "164:\tlearn: 0.2616507\ttotal: 140ms\tremaining: 708ms\n",
      "165:\tlearn: 0.2599873\ttotal: 140ms\tremaining: 706ms\n",
      "166:\tlearn: 0.2583208\ttotal: 141ms\tremaining: 703ms\n",
      "167:\tlearn: 0.2565799\ttotal: 141ms\tremaining: 700ms\n",
      "168:\tlearn: 0.2550678\ttotal: 142ms\tremaining: 698ms\n",
      "169:\tlearn: 0.2537267\ttotal: 142ms\tremaining: 696ms\n",
      "170:\tlearn: 0.2522928\ttotal: 143ms\tremaining: 693ms\n",
      "171:\tlearn: 0.2507353\ttotal: 143ms\tremaining: 690ms\n",
      "172:\tlearn: 0.2489347\ttotal: 144ms\tremaining: 687ms\n",
      "173:\tlearn: 0.2473454\ttotal: 144ms\tremaining: 685ms\n",
      "174:\tlearn: 0.2458071\ttotal: 145ms\tremaining: 683ms\n",
      "175:\tlearn: 0.2440148\ttotal: 145ms\tremaining: 680ms\n",
      "176:\tlearn: 0.2424414\ttotal: 146ms\tremaining: 677ms\n",
      "177:\tlearn: 0.2411819\ttotal: 146ms\tremaining: 675ms\n",
      "178:\tlearn: 0.2396035\ttotal: 146ms\tremaining: 672ms\n",
      "179:\tlearn: 0.2382520\ttotal: 147ms\tremaining: 670ms\n",
      "180:\tlearn: 0.2366874\ttotal: 148ms\tremaining: 668ms\n",
      "181:\tlearn: 0.2356540\ttotal: 148ms\tremaining: 666ms\n",
      "182:\tlearn: 0.2342886\ttotal: 149ms\tremaining: 664ms\n",
      "183:\tlearn: 0.2331373\ttotal: 149ms\tremaining: 662ms\n",
      "184:\tlearn: 0.2316460\ttotal: 150ms\tremaining: 661ms\n",
      "185:\tlearn: 0.2303919\ttotal: 151ms\tremaining: 659ms\n",
      "186:\tlearn: 0.2286835\ttotal: 151ms\tremaining: 656ms\n",
      "187:\tlearn: 0.2275558\ttotal: 151ms\tremaining: 654ms\n",
      "188:\tlearn: 0.2255290\ttotal: 152ms\tremaining: 652ms\n",
      "189:\tlearn: 0.2241702\ttotal: 153ms\tremaining: 651ms\n",
      "190:\tlearn: 0.2226539\ttotal: 153ms\tremaining: 649ms\n",
      "191:\tlearn: 0.2215590\ttotal: 154ms\tremaining: 647ms\n",
      "192:\tlearn: 0.2208947\ttotal: 154ms\tremaining: 645ms\n",
      "193:\tlearn: 0.2195967\ttotal: 155ms\tremaining: 644ms\n",
      "194:\tlearn: 0.2184454\ttotal: 156ms\tremaining: 642ms\n",
      "195:\tlearn: 0.2171110\ttotal: 156ms\tremaining: 640ms\n",
      "196:\tlearn: 0.2156322\ttotal: 157ms\tremaining: 638ms\n",
      "197:\tlearn: 0.2141560\ttotal: 157ms\tremaining: 636ms\n",
      "198:\tlearn: 0.2134190\ttotal: 158ms\tremaining: 634ms\n",
      "199:\tlearn: 0.2128176\ttotal: 158ms\tremaining: 632ms\n",
      "200:\tlearn: 0.2120753\ttotal: 159ms\tremaining: 630ms\n",
      "201:\tlearn: 0.2115759\ttotal: 159ms\tremaining: 628ms\n",
      "202:\tlearn: 0.2102494\ttotal: 159ms\tremaining: 626ms\n",
      "203:\tlearn: 0.2098241\ttotal: 160ms\tremaining: 623ms\n",
      "204:\tlearn: 0.2084078\ttotal: 160ms\tremaining: 622ms\n",
      "205:\tlearn: 0.2080256\ttotal: 161ms\tremaining: 619ms\n",
      "206:\tlearn: 0.2067666\ttotal: 161ms\tremaining: 617ms\n",
      "207:\tlearn: 0.2055768\ttotal: 162ms\tremaining: 616ms\n",
      "208:\tlearn: 0.2041041\ttotal: 162ms\tremaining: 614ms\n",
      "209:\tlearn: 0.2026028\ttotal: 163ms\tremaining: 613ms\n",
      "210:\tlearn: 0.2022844\ttotal: 163ms\tremaining: 611ms\n",
      "211:\tlearn: 0.2011831\ttotal: 164ms\tremaining: 609ms\n",
      "212:\tlearn: 0.1998881\ttotal: 164ms\tremaining: 607ms\n",
      "213:\tlearn: 0.1986796\ttotal: 165ms\tremaining: 606ms\n",
      "214:\tlearn: 0.1972704\ttotal: 165ms\tremaining: 604ms\n",
      "215:\tlearn: 0.1958901\ttotal: 166ms\tremaining: 603ms\n",
      "216:\tlearn: 0.1945575\ttotal: 167ms\tremaining: 602ms\n",
      "217:\tlearn: 0.1936809\ttotal: 168ms\tremaining: 601ms\n",
      "218:\tlearn: 0.1927770\ttotal: 168ms\tremaining: 599ms\n",
      "219:\tlearn: 0.1919746\ttotal: 169ms\tremaining: 598ms\n",
      "220:\tlearn: 0.1908081\ttotal: 169ms\tremaining: 596ms\n",
      "221:\tlearn: 0.1896359\ttotal: 170ms\tremaining: 594ms\n",
      "222:\tlearn: 0.1891477\ttotal: 170ms\tremaining: 593ms\n",
      "223:\tlearn: 0.1879014\ttotal: 171ms\tremaining: 591ms\n",
      "224:\tlearn: 0.1867373\ttotal: 171ms\tremaining: 590ms\n",
      "225:\tlearn: 0.1858225\ttotal: 172ms\tremaining: 588ms\n",
      "226:\tlearn: 0.1854482\ttotal: 172ms\tremaining: 586ms\n",
      "227:\tlearn: 0.1841502\ttotal: 173ms\tremaining: 585ms\n",
      "228:\tlearn: 0.1837239\ttotal: 173ms\tremaining: 583ms\n",
      "229:\tlearn: 0.1824689\ttotal: 173ms\tremaining: 581ms\n",
      "230:\tlearn: 0.1816547\ttotal: 174ms\tremaining: 579ms\n",
      "231:\tlearn: 0.1812758\ttotal: 175ms\tremaining: 578ms\n",
      "232:\tlearn: 0.1800417\ttotal: 175ms\tremaining: 576ms\n",
      "233:\tlearn: 0.1790254\ttotal: 176ms\tremaining: 575ms\n",
      "234:\tlearn: 0.1777542\ttotal: 176ms\tremaining: 573ms\n",
      "235:\tlearn: 0.1772286\ttotal: 177ms\tremaining: 572ms\n",
      "236:\tlearn: 0.1768821\ttotal: 177ms\tremaining: 571ms\n",
      "237:\tlearn: 0.1755653\ttotal: 178ms\tremaining: 569ms\n",
      "238:\tlearn: 0.1745363\ttotal: 178ms\tremaining: 567ms\n",
      "239:\tlearn: 0.1738539\ttotal: 179ms\tremaining: 566ms\n",
      "240:\tlearn: 0.1731627\ttotal: 179ms\tremaining: 565ms\n",
      "241:\tlearn: 0.1728906\ttotal: 180ms\tremaining: 562ms\n",
      "242:\tlearn: 0.1715245\ttotal: 180ms\tremaining: 561ms\n",
      "243:\tlearn: 0.1705652\ttotal: 181ms\tremaining: 560ms\n",
      "244:\tlearn: 0.1695298\ttotal: 181ms\tremaining: 558ms\n",
      "245:\tlearn: 0.1692216\ttotal: 182ms\tremaining: 557ms\n",
      "246:\tlearn: 0.1688953\ttotal: 182ms\tremaining: 556ms\n",
      "247:\tlearn: 0.1685473\ttotal: 183ms\tremaining: 555ms\n",
      "248:\tlearn: 0.1682391\ttotal: 183ms\tremaining: 553ms\n",
      "249:\tlearn: 0.1678869\ttotal: 184ms\tremaining: 551ms\n",
      "250:\tlearn: 0.1669890\ttotal: 184ms\tremaining: 549ms\n",
      "251:\tlearn: 0.1658664\ttotal: 185ms\tremaining: 549ms\n",
      "252:\tlearn: 0.1648366\ttotal: 185ms\tremaining: 547ms\n",
      "253:\tlearn: 0.1638675\ttotal: 186ms\tremaining: 546ms\n"
     ]
    },
    {
     "name": "stdout",
     "output_type": "stream",
     "text": [
      "254:\tlearn: 0.1633236\ttotal: 186ms\tremaining: 545ms\n",
      "255:\tlearn: 0.1629206\ttotal: 187ms\tremaining: 544ms\n",
      "256:\tlearn: 0.1625301\ttotal: 188ms\tremaining: 544ms\n",
      "257:\tlearn: 0.1613145\ttotal: 189ms\tremaining: 542ms\n",
      "258:\tlearn: 0.1603032\ttotal: 189ms\tremaining: 541ms\n",
      "259:\tlearn: 0.1592569\ttotal: 190ms\tremaining: 540ms\n",
      "260:\tlearn: 0.1584130\ttotal: 191ms\tremaining: 540ms\n",
      "261:\tlearn: 0.1581291\ttotal: 191ms\tremaining: 539ms\n",
      "262:\tlearn: 0.1571930\ttotal: 192ms\tremaining: 538ms\n",
      "263:\tlearn: 0.1568809\ttotal: 192ms\tremaining: 536ms\n",
      "264:\tlearn: 0.1558826\ttotal: 193ms\tremaining: 536ms\n",
      "265:\tlearn: 0.1555310\ttotal: 194ms\tremaining: 534ms\n",
      "266:\tlearn: 0.1552486\ttotal: 194ms\tremaining: 532ms\n",
      "267:\tlearn: 0.1542893\ttotal: 194ms\tremaining: 531ms\n",
      "268:\tlearn: 0.1534226\ttotal: 195ms\tremaining: 530ms\n",
      "269:\tlearn: 0.1523311\ttotal: 195ms\tremaining: 528ms\n",
      "270:\tlearn: 0.1511269\ttotal: 196ms\tremaining: 527ms\n",
      "271:\tlearn: 0.1501965\ttotal: 196ms\tremaining: 525ms\n",
      "272:\tlearn: 0.1499007\ttotal: 197ms\tremaining: 524ms\n",
      "273:\tlearn: 0.1487034\ttotal: 198ms\tremaining: 523ms\n",
      "274:\tlearn: 0.1484230\ttotal: 198ms\tremaining: 522ms\n",
      "275:\tlearn: 0.1474569\ttotal: 199ms\tremaining: 521ms\n",
      "276:\tlearn: 0.1465432\ttotal: 199ms\tremaining: 520ms\n",
      "277:\tlearn: 0.1457856\ttotal: 200ms\tremaining: 519ms\n",
      "278:\tlearn: 0.1454917\ttotal: 200ms\tremaining: 518ms\n",
      "279:\tlearn: 0.1445492\ttotal: 201ms\tremaining: 517ms\n",
      "280:\tlearn: 0.1436329\ttotal: 201ms\tremaining: 515ms\n",
      "281:\tlearn: 0.1433487\ttotal: 202ms\tremaining: 514ms\n",
      "282:\tlearn: 0.1425048\ttotal: 202ms\tremaining: 513ms\n",
      "283:\tlearn: 0.1422499\ttotal: 203ms\tremaining: 512ms\n",
      "284:\tlearn: 0.1419799\ttotal: 203ms\tremaining: 510ms\n",
      "285:\tlearn: 0.1408513\ttotal: 204ms\tremaining: 509ms\n",
      "286:\tlearn: 0.1400765\ttotal: 204ms\tremaining: 508ms\n",
      "287:\tlearn: 0.1397861\ttotal: 205ms\tremaining: 507ms\n",
      "288:\tlearn: 0.1390077\ttotal: 206ms\tremaining: 506ms\n",
      "289:\tlearn: 0.1387374\ttotal: 206ms\tremaining: 504ms\n",
      "290:\tlearn: 0.1376506\ttotal: 206ms\tremaining: 503ms\n",
      "291:\tlearn: 0.1368491\ttotal: 207ms\tremaining: 502ms\n",
      "292:\tlearn: 0.1357655\ttotal: 207ms\tremaining: 501ms\n",
      "293:\tlearn: 0.1351422\ttotal: 208ms\tremaining: 500ms\n",
      "294:\tlearn: 0.1345627\ttotal: 209ms\tremaining: 499ms\n",
      "295:\tlearn: 0.1338189\ttotal: 209ms\tremaining: 498ms\n",
      "296:\tlearn: 0.1327632\ttotal: 210ms\tremaining: 497ms\n",
      "297:\tlearn: 0.1317979\ttotal: 210ms\tremaining: 495ms\n",
      "298:\tlearn: 0.1307595\ttotal: 211ms\tremaining: 494ms\n",
      "299:\tlearn: 0.1298278\ttotal: 211ms\tremaining: 493ms\n",
      "300:\tlearn: 0.1289193\ttotal: 212ms\tremaining: 492ms\n",
      "301:\tlearn: 0.1280599\ttotal: 212ms\tremaining: 491ms\n",
      "302:\tlearn: 0.1271259\ttotal: 213ms\tremaining: 490ms\n",
      "303:\tlearn: 0.1269115\ttotal: 213ms\tremaining: 489ms\n",
      "304:\tlearn: 0.1260814\ttotal: 214ms\tremaining: 487ms\n",
      "305:\tlearn: 0.1251043\ttotal: 214ms\tremaining: 486ms\n",
      "306:\tlearn: 0.1241788\ttotal: 215ms\tremaining: 485ms\n",
      "307:\tlearn: 0.1235946\ttotal: 216ms\tremaining: 484ms\n",
      "308:\tlearn: 0.1233970\ttotal: 216ms\tremaining: 483ms\n",
      "309:\tlearn: 0.1227197\ttotal: 217ms\tremaining: 482ms\n",
      "310:\tlearn: 0.1220882\ttotal: 217ms\tremaining: 481ms\n",
      "311:\tlearn: 0.1211853\ttotal: 218ms\tremaining: 480ms\n",
      "312:\tlearn: 0.1209747\ttotal: 218ms\tremaining: 478ms\n",
      "313:\tlearn: 0.1207621\ttotal: 218ms\tremaining: 477ms\n",
      "314:\tlearn: 0.1201589\ttotal: 219ms\tremaining: 476ms\n",
      "315:\tlearn: 0.1196428\ttotal: 219ms\tremaining: 475ms\n",
      "316:\tlearn: 0.1187453\ttotal: 220ms\tremaining: 474ms\n",
      "317:\tlearn: 0.1178802\ttotal: 221ms\tremaining: 473ms\n",
      "318:\tlearn: 0.1170593\ttotal: 221ms\tremaining: 472ms\n",
      "319:\tlearn: 0.1161742\ttotal: 222ms\tremaining: 471ms\n",
      "320:\tlearn: 0.1152872\ttotal: 222ms\tremaining: 470ms\n",
      "321:\tlearn: 0.1145589\ttotal: 223ms\tremaining: 469ms\n",
      "322:\tlearn: 0.1137733\ttotal: 223ms\tremaining: 468ms\n",
      "323:\tlearn: 0.1127598\ttotal: 224ms\tremaining: 466ms\n",
      "324:\tlearn: 0.1121727\ttotal: 224ms\tremaining: 465ms\n",
      "325:\tlearn: 0.1111303\ttotal: 225ms\tremaining: 464ms\n",
      "326:\tlearn: 0.1105563\ttotal: 225ms\tremaining: 463ms\n",
      "327:\tlearn: 0.1103660\ttotal: 225ms\tremaining: 462ms\n",
      "328:\tlearn: 0.1096865\ttotal: 226ms\tremaining: 460ms\n",
      "329:\tlearn: 0.1088951\ttotal: 226ms\tremaining: 460ms\n",
      "330:\tlearn: 0.1081459\ttotal: 227ms\tremaining: 459ms\n",
      "331:\tlearn: 0.1075112\ttotal: 227ms\tremaining: 457ms\n",
      "332:\tlearn: 0.1066330\ttotal: 228ms\tremaining: 457ms\n",
      "333:\tlearn: 0.1060037\ttotal: 228ms\tremaining: 455ms\n",
      "334:\tlearn: 0.1051777\ttotal: 229ms\tremaining: 455ms\n",
      "335:\tlearn: 0.1046147\ttotal: 230ms\tremaining: 454ms\n",
      "336:\tlearn: 0.1044377\ttotal: 230ms\tremaining: 453ms\n",
      "337:\tlearn: 0.1042629\ttotal: 230ms\tremaining: 451ms\n",
      "338:\tlearn: 0.1036614\ttotal: 231ms\tremaining: 450ms\n",
      "339:\tlearn: 0.1029281\ttotal: 231ms\tremaining: 449ms\n",
      "340:\tlearn: 0.1020242\ttotal: 232ms\tremaining: 448ms\n",
      "341:\tlearn: 0.1018551\ttotal: 232ms\tremaining: 447ms\n",
      "342:\tlearn: 0.1011767\ttotal: 233ms\tremaining: 446ms\n",
      "343:\tlearn: 0.1006838\ttotal: 234ms\tremaining: 445ms\n",
      "344:\tlearn: 0.1005374\ttotal: 234ms\tremaining: 444ms\n",
      "345:\tlearn: 0.1003749\ttotal: 234ms\tremaining: 443ms\n",
      "346:\tlearn: 0.0998674\ttotal: 235ms\tremaining: 442ms\n",
      "347:\tlearn: 0.0992776\ttotal: 236ms\tremaining: 441ms\n",
      "348:\tlearn: 0.0991204\ttotal: 236ms\tremaining: 440ms\n",
      "349:\tlearn: 0.0983692\ttotal: 236ms\tremaining: 439ms\n",
      "350:\tlearn: 0.0976287\ttotal: 237ms\tremaining: 438ms\n",
      "351:\tlearn: 0.0970907\ttotal: 237ms\tremaining: 437ms\n",
      "352:\tlearn: 0.0969383\ttotal: 238ms\tremaining: 436ms\n",
      "353:\tlearn: 0.0964573\ttotal: 238ms\tremaining: 435ms\n",
      "354:\tlearn: 0.0958957\ttotal: 239ms\tremaining: 434ms\n",
      "355:\tlearn: 0.0952906\ttotal: 239ms\tremaining: 432ms\n",
      "356:\tlearn: 0.0947454\ttotal: 240ms\tremaining: 432ms\n",
      "357:\tlearn: 0.0942410\ttotal: 240ms\tremaining: 431ms\n",
      "358:\tlearn: 0.0938652\ttotal: 241ms\tremaining: 430ms\n",
      "359:\tlearn: 0.0932664\ttotal: 241ms\tremaining: 429ms\n",
      "360:\tlearn: 0.0927827\ttotal: 242ms\tremaining: 428ms\n",
      "361:\tlearn: 0.0926420\ttotal: 242ms\tremaining: 427ms\n",
      "362:\tlearn: 0.0919505\ttotal: 243ms\tremaining: 426ms\n",
      "363:\tlearn: 0.0914415\ttotal: 243ms\tremaining: 425ms\n",
      "364:\tlearn: 0.0907537\ttotal: 244ms\tremaining: 424ms\n",
      "365:\tlearn: 0.0902970\ttotal: 244ms\tremaining: 423ms\n",
      "366:\tlearn: 0.0896215\ttotal: 245ms\tremaining: 422ms\n",
      "367:\tlearn: 0.0889558\ttotal: 245ms\tremaining: 421ms\n",
      "368:\tlearn: 0.0884137\ttotal: 246ms\tremaining: 420ms\n",
      "369:\tlearn: 0.0876647\ttotal: 246ms\tremaining: 419ms\n",
      "370:\tlearn: 0.0871859\ttotal: 247ms\tremaining: 419ms\n",
      "371:\tlearn: 0.0870580\ttotal: 247ms\tremaining: 418ms\n",
      "372:\tlearn: 0.0865350\ttotal: 248ms\tremaining: 417ms\n",
      "373:\tlearn: 0.0858933\ttotal: 248ms\tremaining: 416ms\n",
      "374:\tlearn: 0.0857685\ttotal: 249ms\tremaining: 415ms\n",
      "375:\tlearn: 0.0853061\ttotal: 249ms\tremaining: 414ms\n",
      "376:\tlearn: 0.0849510\ttotal: 250ms\tremaining: 413ms\n",
      "377:\tlearn: 0.0842570\ttotal: 250ms\tremaining: 412ms\n",
      "378:\tlearn: 0.0838800\ttotal: 251ms\tremaining: 411ms\n",
      "379:\tlearn: 0.0837614\ttotal: 251ms\tremaining: 410ms\n",
      "380:\tlearn: 0.0831336\ttotal: 252ms\tremaining: 409ms\n",
      "381:\tlearn: 0.0826468\ttotal: 252ms\tremaining: 408ms\n",
      "382:\tlearn: 0.0823099\ttotal: 252ms\tremaining: 407ms\n",
      "383:\tlearn: 0.0820047\ttotal: 253ms\tremaining: 406ms\n",
      "384:\tlearn: 0.0816211\ttotal: 253ms\tremaining: 405ms\n",
      "385:\tlearn: 0.0812638\ttotal: 254ms\tremaining: 404ms\n",
      "386:\tlearn: 0.0811532\ttotal: 254ms\tremaining: 403ms\n",
      "387:\tlearn: 0.0808367\ttotal: 255ms\tremaining: 402ms\n",
      "388:\tlearn: 0.0805277\ttotal: 255ms\tremaining: 401ms\n",
      "389:\tlearn: 0.0802406\ttotal: 256ms\tremaining: 400ms\n",
      "390:\tlearn: 0.0796547\ttotal: 256ms\tremaining: 399ms\n",
      "391:\tlearn: 0.0793520\ttotal: 256ms\tremaining: 398ms\n",
      "392:\tlearn: 0.0792473\ttotal: 257ms\tremaining: 397ms\n",
      "393:\tlearn: 0.0791440\ttotal: 257ms\tremaining: 396ms\n",
      "394:\tlearn: 0.0788178\ttotal: 258ms\tremaining: 395ms\n",
      "395:\tlearn: 0.0785191\ttotal: 258ms\tremaining: 394ms\n",
      "396:\tlearn: 0.0784186\ttotal: 259ms\tremaining: 393ms\n",
      "397:\tlearn: 0.0779486\ttotal: 259ms\tremaining: 392ms\n",
      "398:\tlearn: 0.0776337\ttotal: 260ms\tremaining: 391ms\n",
      "399:\tlearn: 0.0775365\ttotal: 260ms\tremaining: 391ms\n",
      "400:\tlearn: 0.0769740\ttotal: 261ms\tremaining: 390ms\n",
      "401:\tlearn: 0.0763582\ttotal: 261ms\tremaining: 389ms\n",
      "402:\tlearn: 0.0758345\ttotal: 262ms\tremaining: 388ms\n",
      "403:\tlearn: 0.0752879\ttotal: 262ms\tremaining: 387ms\n",
      "404:\tlearn: 0.0748952\ttotal: 263ms\tremaining: 387ms\n",
      "405:\tlearn: 0.0744557\ttotal: 264ms\tremaining: 386ms\n",
      "406:\tlearn: 0.0742089\ttotal: 264ms\tremaining: 385ms\n",
      "407:\tlearn: 0.0738510\ttotal: 265ms\tremaining: 384ms\n",
      "408:\tlearn: 0.0734256\ttotal: 265ms\tremaining: 383ms\n",
      "409:\tlearn: 0.0731839\ttotal: 266ms\tremaining: 383ms\n",
      "410:\tlearn: 0.0730982\ttotal: 266ms\tremaining: 382ms\n",
      "411:\tlearn: 0.0728322\ttotal: 267ms\tremaining: 381ms\n",
      "412:\tlearn: 0.0727481\ttotal: 267ms\tremaining: 380ms\n",
      "413:\tlearn: 0.0723372\ttotal: 268ms\tremaining: 379ms\n",
      "414:\tlearn: 0.0718190\ttotal: 268ms\tremaining: 378ms\n",
      "415:\tlearn: 0.0713085\ttotal: 268ms\tremaining: 377ms\n",
      "416:\tlearn: 0.0709515\ttotal: 269ms\tremaining: 376ms\n",
      "417:\tlearn: 0.0704803\ttotal: 270ms\tremaining: 375ms\n",
      "418:\tlearn: 0.0701319\ttotal: 270ms\tremaining: 374ms\n",
      "419:\tlearn: 0.0696447\ttotal: 270ms\tremaining: 374ms\n",
      "420:\tlearn: 0.0693906\ttotal: 271ms\tremaining: 373ms\n",
      "421:\tlearn: 0.0690126\ttotal: 272ms\tremaining: 372ms\n",
      "422:\tlearn: 0.0687980\ttotal: 272ms\tremaining: 371ms\n",
      "423:\tlearn: 0.0684210\ttotal: 273ms\tremaining: 370ms\n",
      "424:\tlearn: 0.0682122\ttotal: 273ms\tremaining: 369ms\n",
      "425:\tlearn: 0.0680069\ttotal: 274ms\tremaining: 369ms\n",
      "426:\tlearn: 0.0676785\ttotal: 274ms\tremaining: 368ms\n",
      "427:\tlearn: 0.0676139\ttotal: 275ms\tremaining: 367ms\n",
      "428:\tlearn: 0.0672510\ttotal: 275ms\tremaining: 366ms\n",
      "429:\tlearn: 0.0670530\ttotal: 276ms\tremaining: 365ms\n",
      "430:\tlearn: 0.0666232\ttotal: 276ms\tremaining: 365ms\n",
      "431:\tlearn: 0.0663921\ttotal: 277ms\tremaining: 364ms\n",
      "432:\tlearn: 0.0663312\ttotal: 277ms\tremaining: 363ms\n",
      "433:\tlearn: 0.0662711\ttotal: 278ms\tremaining: 362ms\n",
      "434:\tlearn: 0.0659282\ttotal: 278ms\tremaining: 361ms\n",
      "435:\tlearn: 0.0656977\ttotal: 278ms\tremaining: 360ms\n",
      "436:\tlearn: 0.0652808\ttotal: 279ms\tremaining: 360ms\n",
      "437:\tlearn: 0.0649752\ttotal: 280ms\tremaining: 359ms\n",
      "438:\tlearn: 0.0647905\ttotal: 280ms\tremaining: 358ms\n",
      "439:\tlearn: 0.0644548\ttotal: 280ms\tremaining: 357ms\n",
      "440:\tlearn: 0.0642425\ttotal: 281ms\tremaining: 356ms\n",
      "441:\tlearn: 0.0641821\ttotal: 281ms\tremaining: 355ms\n",
      "442:\tlearn: 0.0639334\ttotal: 282ms\tremaining: 355ms\n",
      "443:\tlearn: 0.0636673\ttotal: 283ms\tremaining: 354ms\n",
      "444:\tlearn: 0.0634923\ttotal: 283ms\tremaining: 353ms\n",
      "445:\tlearn: 0.0634291\ttotal: 284ms\tremaining: 352ms\n",
      "446:\tlearn: 0.0631104\ttotal: 284ms\tremaining: 351ms\n",
      "447:\tlearn: 0.0628341\ttotal: 285ms\tremaining: 351ms\n",
      "448:\tlearn: 0.0624025\ttotal: 285ms\tremaining: 350ms\n",
      "449:\tlearn: 0.0620944\ttotal: 286ms\tremaining: 349ms\n",
      "450:\tlearn: 0.0618670\ttotal: 286ms\tremaining: 348ms\n",
      "451:\tlearn: 0.0614829\ttotal: 287ms\tremaining: 348ms\n",
      "452:\tlearn: 0.0612181\ttotal: 287ms\tremaining: 347ms\n",
      "453:\tlearn: 0.0608074\ttotal: 288ms\tremaining: 346ms\n",
      "454:\tlearn: 0.0606041\ttotal: 288ms\tremaining: 345ms\n",
      "455:\tlearn: 0.0603894\ttotal: 289ms\tremaining: 344ms\n",
      "456:\tlearn: 0.0600736\ttotal: 289ms\tremaining: 344ms\n",
      "457:\tlearn: 0.0596772\ttotal: 290ms\tremaining: 343ms\n",
      "458:\tlearn: 0.0592907\ttotal: 290ms\tremaining: 342ms\n",
      "459:\tlearn: 0.0589138\ttotal: 291ms\tremaining: 341ms\n"
     ]
    },
    {
     "name": "stdout",
     "output_type": "stream",
     "text": [
      "460:\tlearn: 0.0588290\ttotal: 291ms\tremaining: 341ms\n",
      "461:\tlearn: 0.0584479\ttotal: 292ms\tremaining: 340ms\n",
      "462:\tlearn: 0.0580690\ttotal: 292ms\tremaining: 339ms\n",
      "463:\tlearn: 0.0577302\ttotal: 293ms\tremaining: 338ms\n",
      "464:\tlearn: 0.0574941\ttotal: 294ms\tremaining: 338ms\n",
      "465:\tlearn: 0.0571283\ttotal: 294ms\tremaining: 337ms\n",
      "466:\tlearn: 0.0568001\ttotal: 295ms\tremaining: 336ms\n",
      "467:\tlearn: 0.0564560\ttotal: 295ms\tremaining: 335ms\n",
      "468:\tlearn: 0.0562702\ttotal: 296ms\tremaining: 335ms\n",
      "469:\tlearn: 0.0559210\ttotal: 296ms\tremaining: 334ms\n",
      "470:\tlearn: 0.0557037\ttotal: 296ms\tremaining: 333ms\n",
      "471:\tlearn: 0.0553636\ttotal: 297ms\tremaining: 332ms\n",
      "472:\tlearn: 0.0550570\ttotal: 297ms\tremaining: 331ms\n",
      "473:\tlearn: 0.0547561\ttotal: 298ms\tremaining: 330ms\n",
      "474:\tlearn: 0.0544396\ttotal: 298ms\tremaining: 330ms\n",
      "475:\tlearn: 0.0541160\ttotal: 299ms\tremaining: 329ms\n",
      "476:\tlearn: 0.0537063\ttotal: 299ms\tremaining: 328ms\n",
      "477:\tlearn: 0.0533986\ttotal: 300ms\tremaining: 327ms\n",
      "478:\tlearn: 0.0530649\ttotal: 300ms\tremaining: 327ms\n",
      "479:\tlearn: 0.0527134\ttotal: 301ms\tremaining: 326ms\n",
      "480:\tlearn: 0.0524164\ttotal: 301ms\tremaining: 325ms\n",
      "481:\tlearn: 0.0521190\ttotal: 302ms\tremaining: 324ms\n",
      "482:\tlearn: 0.0517799\ttotal: 302ms\tremaining: 323ms\n",
      "483:\tlearn: 0.0514795\ttotal: 303ms\tremaining: 323ms\n",
      "484:\tlearn: 0.0511962\ttotal: 303ms\tremaining: 322ms\n",
      "485:\tlearn: 0.0508528\ttotal: 303ms\tremaining: 321ms\n",
      "486:\tlearn: 0.0505490\ttotal: 304ms\tremaining: 320ms\n",
      "487:\tlearn: 0.0502163\ttotal: 305ms\tremaining: 320ms\n",
      "488:\tlearn: 0.0499328\ttotal: 305ms\tremaining: 319ms\n",
      "489:\tlearn: 0.0496101\ttotal: 306ms\tremaining: 318ms\n",
      "490:\tlearn: 0.0493175\ttotal: 306ms\tremaining: 317ms\n",
      "491:\tlearn: 0.0490106\ttotal: 307ms\tremaining: 317ms\n",
      "492:\tlearn: 0.0487012\ttotal: 307ms\tremaining: 316ms\n",
      "493:\tlearn: 0.0484320\ttotal: 308ms\tremaining: 315ms\n",
      "494:\tlearn: 0.0481300\ttotal: 308ms\tremaining: 315ms\n",
      "495:\tlearn: 0.0478628\ttotal: 309ms\tremaining: 314ms\n",
      "496:\tlearn: 0.0476339\ttotal: 309ms\tremaining: 313ms\n",
      "497:\tlearn: 0.0473650\ttotal: 310ms\tremaining: 312ms\n",
      "498:\tlearn: 0.0471391\ttotal: 310ms\tremaining: 311ms\n",
      "499:\tlearn: 0.0468340\ttotal: 311ms\tremaining: 311ms\n",
      "500:\tlearn: 0.0465777\ttotal: 311ms\tremaining: 310ms\n",
      "501:\tlearn: 0.0462909\ttotal: 311ms\tremaining: 309ms\n",
      "502:\tlearn: 0.0460098\ttotal: 312ms\tremaining: 308ms\n",
      "503:\tlearn: 0.0457344\ttotal: 313ms\tremaining: 308ms\n",
      "504:\tlearn: 0.0454645\ttotal: 313ms\tremaining: 307ms\n",
      "505:\tlearn: 0.0452170\ttotal: 314ms\tremaining: 306ms\n",
      "506:\tlearn: 0.0449306\ttotal: 314ms\tremaining: 306ms\n",
      "507:\tlearn: 0.0446842\ttotal: 315ms\tremaining: 305ms\n",
      "508:\tlearn: 0.0444233\ttotal: 315ms\tremaining: 304ms\n",
      "509:\tlearn: 0.0441676\ttotal: 316ms\tremaining: 303ms\n",
      "510:\tlearn: 0.0439170\ttotal: 316ms\tremaining: 303ms\n",
      "511:\tlearn: 0.0437390\ttotal: 317ms\tremaining: 302ms\n",
      "512:\tlearn: 0.0435013\ttotal: 317ms\tremaining: 301ms\n",
      "513:\tlearn: 0.0432895\ttotal: 318ms\tremaining: 300ms\n",
      "514:\tlearn: 0.0431173\ttotal: 318ms\tremaining: 300ms\n",
      "515:\tlearn: 0.0429088\ttotal: 319ms\tremaining: 299ms\n",
      "516:\tlearn: 0.0426675\ttotal: 319ms\tremaining: 298ms\n",
      "517:\tlearn: 0.0424688\ttotal: 320ms\tremaining: 298ms\n",
      "518:\tlearn: 0.0422655\ttotal: 320ms\tremaining: 297ms\n",
      "519:\tlearn: 0.0420619\ttotal: 321ms\tremaining: 296ms\n",
      "520:\tlearn: 0.0418693\ttotal: 321ms\tremaining: 295ms\n",
      "521:\tlearn: 0.0417820\ttotal: 322ms\tremaining: 295ms\n",
      "522:\tlearn: 0.0415944\ttotal: 322ms\tremaining: 294ms\n",
      "523:\tlearn: 0.0415089\ttotal: 323ms\tremaining: 293ms\n",
      "524:\tlearn: 0.0414245\ttotal: 323ms\tremaining: 292ms\n",
      "525:\tlearn: 0.0412912\ttotal: 324ms\tremaining: 292ms\n",
      "526:\tlearn: 0.0410978\ttotal: 324ms\tremaining: 291ms\n",
      "527:\tlearn: 0.0409081\ttotal: 325ms\tremaining: 290ms\n",
      "528:\tlearn: 0.0407788\ttotal: 325ms\tremaining: 289ms\n",
      "529:\tlearn: 0.0405868\ttotal: 326ms\tremaining: 289ms\n",
      "530:\tlearn: 0.0404725\ttotal: 326ms\tremaining: 288ms\n",
      "531:\tlearn: 0.0402726\ttotal: 326ms\tremaining: 287ms\n",
      "532:\tlearn: 0.0401203\ttotal: 327ms\tremaining: 287ms\n",
      "533:\tlearn: 0.0399825\ttotal: 327ms\tremaining: 286ms\n",
      "534:\tlearn: 0.0397690\ttotal: 328ms\tremaining: 285ms\n",
      "535:\tlearn: 0.0396379\ttotal: 328ms\tremaining: 284ms\n",
      "536:\tlearn: 0.0394293\ttotal: 329ms\tremaining: 283ms\n",
      "537:\tlearn: 0.0392247\ttotal: 329ms\tremaining: 283ms\n",
      "538:\tlearn: 0.0390138\ttotal: 330ms\tremaining: 282ms\n",
      "539:\tlearn: 0.0388475\ttotal: 330ms\tremaining: 281ms\n",
      "540:\tlearn: 0.0386367\ttotal: 331ms\tremaining: 280ms\n",
      "541:\tlearn: 0.0385288\ttotal: 331ms\tremaining: 280ms\n",
      "542:\tlearn: 0.0383335\ttotal: 332ms\tremaining: 279ms\n",
      "543:\tlearn: 0.0381338\ttotal: 332ms\tremaining: 278ms\n",
      "544:\tlearn: 0.0380138\ttotal: 333ms\tremaining: 278ms\n",
      "545:\tlearn: 0.0378038\ttotal: 333ms\tremaining: 277ms\n",
      "546:\tlearn: 0.0376144\ttotal: 334ms\tremaining: 276ms\n",
      "547:\tlearn: 0.0374087\ttotal: 334ms\tremaining: 276ms\n",
      "548:\tlearn: 0.0372130\ttotal: 335ms\tremaining: 275ms\n",
      "549:\tlearn: 0.0370602\ttotal: 335ms\tremaining: 274ms\n",
      "550:\tlearn: 0.0368307\ttotal: 336ms\tremaining: 273ms\n",
      "551:\tlearn: 0.0366319\ttotal: 336ms\tremaining: 273ms\n",
      "552:\tlearn: 0.0364425\ttotal: 337ms\tremaining: 272ms\n",
      "553:\tlearn: 0.0363228\ttotal: 337ms\tremaining: 271ms\n",
      "554:\tlearn: 0.0361137\ttotal: 337ms\tremaining: 271ms\n",
      "555:\tlearn: 0.0359205\ttotal: 338ms\tremaining: 270ms\n",
      "556:\tlearn: 0.0358006\ttotal: 338ms\tremaining: 269ms\n",
      "557:\tlearn: 0.0356117\ttotal: 339ms\tremaining: 268ms\n",
      "558:\tlearn: 0.0354315\ttotal: 339ms\tremaining: 268ms\n",
      "559:\tlearn: 0.0352165\ttotal: 339ms\tremaining: 267ms\n",
      "560:\tlearn: 0.0350412\ttotal: 340ms\tremaining: 266ms\n",
      "561:\tlearn: 0.0348843\ttotal: 340ms\tremaining: 265ms\n",
      "562:\tlearn: 0.0347915\ttotal: 341ms\tremaining: 265ms\n",
      "563:\tlearn: 0.0346209\ttotal: 341ms\tremaining: 264ms\n",
      "564:\tlearn: 0.0344681\ttotal: 342ms\tremaining: 263ms\n",
      "565:\tlearn: 0.0343045\ttotal: 342ms\tremaining: 262ms\n",
      "566:\tlearn: 0.0341389\ttotal: 343ms\tremaining: 262ms\n",
      "567:\tlearn: 0.0339910\ttotal: 344ms\tremaining: 261ms\n",
      "568:\tlearn: 0.0338557\ttotal: 344ms\tremaining: 261ms\n",
      "569:\tlearn: 0.0336980\ttotal: 345ms\tremaining: 260ms\n",
      "570:\tlearn: 0.0335379\ttotal: 345ms\tremaining: 259ms\n",
      "571:\tlearn: 0.0333948\ttotal: 346ms\tremaining: 259ms\n",
      "572:\tlearn: 0.0332421\ttotal: 347ms\tremaining: 258ms\n",
      "573:\tlearn: 0.0330867\ttotal: 347ms\tremaining: 258ms\n",
      "574:\tlearn: 0.0329482\ttotal: 348ms\tremaining: 257ms\n",
      "575:\tlearn: 0.0328183\ttotal: 348ms\tremaining: 256ms\n",
      "576:\tlearn: 0.0326853\ttotal: 349ms\tremaining: 256ms\n",
      "577:\tlearn: 0.0325002\ttotal: 349ms\tremaining: 255ms\n",
      "578:\tlearn: 0.0323555\ttotal: 350ms\tremaining: 254ms\n",
      "579:\tlearn: 0.0322235\ttotal: 350ms\tremaining: 254ms\n",
      "580:\tlearn: 0.0320769\ttotal: 351ms\tremaining: 253ms\n",
      "581:\tlearn: 0.0319124\ttotal: 351ms\tremaining: 252ms\n",
      "582:\tlearn: 0.0317510\ttotal: 352ms\tremaining: 252ms\n",
      "583:\tlearn: 0.0316137\ttotal: 353ms\tremaining: 251ms\n",
      "584:\tlearn: 0.0314394\ttotal: 353ms\tremaining: 251ms\n",
      "585:\tlearn: 0.0312799\ttotal: 354ms\tremaining: 250ms\n",
      "586:\tlearn: 0.0311243\ttotal: 354ms\tremaining: 249ms\n",
      "587:\tlearn: 0.0310053\ttotal: 355ms\tremaining: 249ms\n",
      "588:\tlearn: 0.0308680\ttotal: 355ms\tremaining: 248ms\n",
      "589:\tlearn: 0.0306980\ttotal: 356ms\tremaining: 247ms\n",
      "590:\tlearn: 0.0305385\ttotal: 356ms\tremaining: 247ms\n",
      "591:\tlearn: 0.0304113\ttotal: 357ms\tremaining: 246ms\n",
      "592:\tlearn: 0.0302615\ttotal: 357ms\tremaining: 245ms\n",
      "593:\tlearn: 0.0301125\ttotal: 358ms\tremaining: 245ms\n",
      "594:\tlearn: 0.0299812\ttotal: 358ms\tremaining: 244ms\n",
      "595:\tlearn: 0.0298485\ttotal: 359ms\tremaining: 243ms\n",
      "596:\tlearn: 0.0297202\ttotal: 359ms\tremaining: 243ms\n",
      "597:\tlearn: 0.0295617\ttotal: 360ms\tremaining: 242ms\n",
      "598:\tlearn: 0.0294085\ttotal: 360ms\tremaining: 241ms\n",
      "599:\tlearn: 0.0292586\ttotal: 361ms\tremaining: 241ms\n",
      "600:\tlearn: 0.0291318\ttotal: 362ms\tremaining: 240ms\n",
      "601:\tlearn: 0.0289857\ttotal: 362ms\tremaining: 239ms\n",
      "602:\tlearn: 0.0288556\ttotal: 363ms\tremaining: 239ms\n",
      "603:\tlearn: 0.0287568\ttotal: 363ms\tremaining: 238ms\n",
      "604:\tlearn: 0.0286076\ttotal: 364ms\tremaining: 237ms\n",
      "605:\tlearn: 0.0284654\ttotal: 364ms\tremaining: 237ms\n",
      "606:\tlearn: 0.0283693\ttotal: 365ms\tremaining: 236ms\n",
      "607:\tlearn: 0.0282632\ttotal: 365ms\tremaining: 235ms\n",
      "608:\tlearn: 0.0281080\ttotal: 366ms\tremaining: 235ms\n",
      "609:\tlearn: 0.0279709\ttotal: 366ms\tremaining: 234ms\n",
      "610:\tlearn: 0.0278193\ttotal: 366ms\tremaining: 233ms\n",
      "611:\tlearn: 0.0276861\ttotal: 367ms\tremaining: 233ms\n",
      "612:\tlearn: 0.0275843\ttotal: 367ms\tremaining: 232ms\n",
      "613:\tlearn: 0.0274367\ttotal: 368ms\tremaining: 231ms\n",
      "614:\tlearn: 0.0273278\ttotal: 368ms\tremaining: 231ms\n",
      "615:\tlearn: 0.0271997\ttotal: 369ms\tremaining: 230ms\n",
      "616:\tlearn: 0.0271015\ttotal: 369ms\tremaining: 229ms\n",
      "617:\tlearn: 0.0269587\ttotal: 370ms\tremaining: 229ms\n"
     ]
    },
    {
     "name": "stdout",
     "output_type": "stream",
     "text": [
      "618:\tlearn: 0.0268183\ttotal: 370ms\tremaining: 228ms\n",
      "619:\tlearn: 0.0266738\ttotal: 371ms\tremaining: 227ms\n",
      "620:\tlearn: 0.0265512\ttotal: 372ms\tremaining: 227ms\n",
      "621:\tlearn: 0.0264083\ttotal: 372ms\tremaining: 226ms\n",
      "622:\tlearn: 0.0262840\ttotal: 372ms\tremaining: 225ms\n",
      "623:\tlearn: 0.0261501\ttotal: 373ms\tremaining: 225ms\n",
      "624:\tlearn: 0.0260131\ttotal: 373ms\tremaining: 224ms\n",
      "625:\tlearn: 0.0259061\ttotal: 374ms\tremaining: 223ms\n",
      "626:\tlearn: 0.0257730\ttotal: 374ms\tremaining: 223ms\n",
      "627:\tlearn: 0.0256688\ttotal: 375ms\tremaining: 222ms\n",
      "628:\tlearn: 0.0255611\ttotal: 375ms\tremaining: 221ms\n",
      "629:\tlearn: 0.0254455\ttotal: 376ms\tremaining: 221ms\n",
      "630:\tlearn: 0.0253497\ttotal: 376ms\tremaining: 220ms\n",
      "631:\tlearn: 0.0252365\ttotal: 377ms\tremaining: 219ms\n",
      "632:\tlearn: 0.0251431\ttotal: 378ms\tremaining: 219ms\n",
      "633:\tlearn: 0.0250435\ttotal: 378ms\tremaining: 218ms\n",
      "634:\tlearn: 0.0249578\ttotal: 378ms\tremaining: 218ms\n",
      "635:\tlearn: 0.0248591\ttotal: 379ms\tremaining: 217ms\n",
      "636:\tlearn: 0.0247417\ttotal: 380ms\tremaining: 216ms\n",
      "637:\tlearn: 0.0246510\ttotal: 380ms\tremaining: 216ms\n",
      "638:\tlearn: 0.0245546\ttotal: 381ms\tremaining: 215ms\n",
      "639:\tlearn: 0.0244656\ttotal: 381ms\tremaining: 214ms\n",
      "640:\tlearn: 0.0243639\ttotal: 382ms\tremaining: 214ms\n",
      "641:\tlearn: 0.0242715\ttotal: 382ms\tremaining: 213ms\n",
      "642:\tlearn: 0.0241609\ttotal: 383ms\tremaining: 213ms\n",
      "643:\tlearn: 0.0240749\ttotal: 383ms\tremaining: 212ms\n",
      "644:\tlearn: 0.0239678\ttotal: 384ms\tremaining: 211ms\n",
      "645:\tlearn: 0.0238680\ttotal: 384ms\tremaining: 210ms\n",
      "646:\tlearn: 0.0237373\ttotal: 385ms\tremaining: 210ms\n",
      "647:\tlearn: 0.0236582\ttotal: 385ms\tremaining: 209ms\n",
      "648:\tlearn: 0.0235522\ttotal: 386ms\tremaining: 209ms\n",
      "649:\tlearn: 0.0234572\ttotal: 386ms\tremaining: 208ms\n",
      "650:\tlearn: 0.0233662\ttotal: 387ms\tremaining: 207ms\n",
      "651:\tlearn: 0.0232799\ttotal: 387ms\tremaining: 207ms\n",
      "652:\tlearn: 0.0231983\ttotal: 388ms\tremaining: 206ms\n",
      "653:\tlearn: 0.0230762\ttotal: 388ms\tremaining: 205ms\n",
      "654:\tlearn: 0.0229559\ttotal: 389ms\tremaining: 205ms\n",
      "655:\tlearn: 0.0228417\ttotal: 389ms\tremaining: 204ms\n",
      "656:\tlearn: 0.0227628\ttotal: 390ms\tremaining: 204ms\n",
      "657:\tlearn: 0.0226509\ttotal: 390ms\tremaining: 203ms\n",
      "658:\tlearn: 0.0225409\ttotal: 391ms\tremaining: 202ms\n",
      "659:\tlearn: 0.0224639\ttotal: 391ms\tremaining: 202ms\n",
      "660:\tlearn: 0.0223561\ttotal: 392ms\tremaining: 201ms\n",
      "661:\tlearn: 0.0222807\ttotal: 393ms\tremaining: 200ms\n",
      "662:\tlearn: 0.0221720\ttotal: 393ms\tremaining: 200ms\n",
      "663:\tlearn: 0.0220979\ttotal: 394ms\tremaining: 199ms\n",
      "664:\tlearn: 0.0219912\ttotal: 394ms\tremaining: 198ms\n",
      "665:\tlearn: 0.0218773\ttotal: 395ms\tremaining: 198ms\n",
      "666:\tlearn: 0.0217741\ttotal: 395ms\tremaining: 197ms\n",
      "667:\tlearn: 0.0217020\ttotal: 396ms\tremaining: 197ms\n",
      "668:\tlearn: 0.0215914\ttotal: 396ms\tremaining: 196ms\n",
      "669:\tlearn: 0.0214805\ttotal: 396ms\tremaining: 195ms\n",
      "670:\tlearn: 0.0213724\ttotal: 397ms\tremaining: 195ms\n",
      "671:\tlearn: 0.0212636\ttotal: 397ms\tremaining: 194ms\n",
      "672:\tlearn: 0.0211935\ttotal: 398ms\tremaining: 193ms\n",
      "673:\tlearn: 0.0211006\ttotal: 399ms\tremaining: 193ms\n",
      "674:\tlearn: 0.0209943\ttotal: 399ms\tremaining: 192ms\n",
      "675:\tlearn: 0.0209035\ttotal: 400ms\tremaining: 192ms\n",
      "676:\tlearn: 0.0208348\ttotal: 400ms\tremaining: 191ms\n",
      "677:\tlearn: 0.0207637\ttotal: 401ms\tremaining: 190ms\n",
      "678:\tlearn: 0.0206754\ttotal: 401ms\tremaining: 190ms\n",
      "679:\tlearn: 0.0206076\ttotal: 402ms\tremaining: 189ms\n",
      "680:\tlearn: 0.0205407\ttotal: 402ms\tremaining: 188ms\n",
      "681:\tlearn: 0.0204746\ttotal: 403ms\tremaining: 188ms\n",
      "682:\tlearn: 0.0204097\ttotal: 403ms\tremaining: 187ms\n",
      "683:\tlearn: 0.0203451\ttotal: 404ms\tremaining: 187ms\n",
      "684:\tlearn: 0.0202435\ttotal: 404ms\tremaining: 186ms\n",
      "685:\tlearn: 0.0201682\ttotal: 405ms\tremaining: 185ms\n",
      "686:\tlearn: 0.0200995\ttotal: 405ms\tremaining: 185ms\n",
      "687:\tlearn: 0.0200000\ttotal: 406ms\tremaining: 184ms\n",
      "688:\tlearn: 0.0199326\ttotal: 406ms\tremaining: 183ms\n",
      "689:\tlearn: 0.0198592\ttotal: 407ms\tremaining: 183ms\n",
      "690:\tlearn: 0.0197752\ttotal: 407ms\tremaining: 182ms\n",
      "691:\tlearn: 0.0197098\ttotal: 408ms\tremaining: 181ms\n",
      "692:\tlearn: 0.0196378\ttotal: 408ms\tremaining: 181ms\n",
      "693:\tlearn: 0.0195572\ttotal: 409ms\tremaining: 180ms\n",
      "694:\tlearn: 0.0194867\ttotal: 409ms\tremaining: 180ms\n",
      "695:\tlearn: 0.0194079\ttotal: 410ms\tremaining: 179ms\n",
      "696:\tlearn: 0.0193210\ttotal: 410ms\tremaining: 178ms\n",
      "697:\tlearn: 0.0192519\ttotal: 411ms\tremaining: 178ms\n",
      "698:\tlearn: 0.0191666\ttotal: 411ms\tremaining: 177ms\n",
      "699:\tlearn: 0.0190993\ttotal: 412ms\tremaining: 176ms\n",
      "700:\tlearn: 0.0190315\ttotal: 412ms\tremaining: 176ms\n",
      "701:\tlearn: 0.0189359\ttotal: 413ms\tremaining: 175ms\n",
      "702:\tlearn: 0.0188532\ttotal: 413ms\tremaining: 175ms\n",
      "703:\tlearn: 0.0187292\ttotal: 414ms\tremaining: 174ms\n",
      "704:\tlearn: 0.0186688\ttotal: 414ms\tremaining: 173ms\n",
      "705:\tlearn: 0.0186041\ttotal: 415ms\tremaining: 173ms\n",
      "706:\tlearn: 0.0185133\ttotal: 416ms\tremaining: 172ms\n",
      "707:\tlearn: 0.0184477\ttotal: 416ms\tremaining: 172ms\n",
      "708:\tlearn: 0.0183580\ttotal: 416ms\tremaining: 171ms\n",
      "709:\tlearn: 0.0182783\ttotal: 417ms\tremaining: 170ms\n",
      "710:\tlearn: 0.0182078\ttotal: 417ms\tremaining: 170ms\n",
      "711:\tlearn: 0.0181172\ttotal: 418ms\tremaining: 169ms\n",
      "712:\tlearn: 0.0180298\ttotal: 418ms\tremaining: 168ms\n",
      "713:\tlearn: 0.0179671\ttotal: 419ms\tremaining: 168ms\n",
      "714:\tlearn: 0.0178815\ttotal: 419ms\tremaining: 167ms\n",
      "715:\tlearn: 0.0178170\ttotal: 420ms\tremaining: 166ms\n",
      "716:\tlearn: 0.0177304\ttotal: 420ms\tremaining: 166ms\n",
      "717:\tlearn: 0.0176385\ttotal: 421ms\tremaining: 165ms\n",
      "718:\tlearn: 0.0175518\ttotal: 421ms\tremaining: 165ms\n",
      "719:\tlearn: 0.0174620\ttotal: 422ms\tremaining: 164ms\n",
      "720:\tlearn: 0.0173867\ttotal: 422ms\tremaining: 163ms\n",
      "721:\tlearn: 0.0173114\ttotal: 423ms\tremaining: 163ms\n",
      "722:\tlearn: 0.0172578\ttotal: 423ms\tremaining: 162ms\n",
      "723:\tlearn: 0.0171839\ttotal: 423ms\tremaining: 161ms\n",
      "724:\tlearn: 0.0170988\ttotal: 424ms\tremaining: 161ms\n",
      "725:\tlearn: 0.0170320\ttotal: 424ms\tremaining: 160ms\n",
      "726:\tlearn: 0.0169598\ttotal: 425ms\tremaining: 160ms\n",
      "727:\tlearn: 0.0168879\ttotal: 425ms\tremaining: 159ms\n",
      "728:\tlearn: 0.0168052\ttotal: 426ms\tremaining: 158ms\n",
      "729:\tlearn: 0.0167529\ttotal: 426ms\tremaining: 158ms\n",
      "730:\tlearn: 0.0166833\ttotal: 427ms\tremaining: 157ms\n",
      "731:\tlearn: 0.0166042\ttotal: 428ms\tremaining: 157ms\n",
      "732:\tlearn: 0.0165358\ttotal: 428ms\tremaining: 156ms\n",
      "733:\tlearn: 0.0164724\ttotal: 428ms\tremaining: 155ms\n",
      "734:\tlearn: 0.0164213\ttotal: 429ms\tremaining: 155ms\n",
      "735:\tlearn: 0.0163431\ttotal: 429ms\tremaining: 154ms\n",
      "736:\tlearn: 0.0162771\ttotal: 430ms\tremaining: 153ms\n",
      "737:\tlearn: 0.0162012\ttotal: 430ms\tremaining: 153ms\n",
      "738:\tlearn: 0.0161225\ttotal: 431ms\tremaining: 152ms\n",
      "739:\tlearn: 0.0160545\ttotal: 431ms\tremaining: 152ms\n",
      "740:\tlearn: 0.0159813\ttotal: 432ms\tremaining: 151ms\n",
      "741:\tlearn: 0.0159158\ttotal: 432ms\tremaining: 150ms\n",
      "742:\tlearn: 0.0158362\ttotal: 433ms\tremaining: 150ms\n",
      "743:\tlearn: 0.0157864\ttotal: 433ms\tremaining: 149ms\n",
      "744:\tlearn: 0.0157053\ttotal: 434ms\tremaining: 149ms\n",
      "745:\tlearn: 0.0156375\ttotal: 434ms\tremaining: 148ms\n",
      "746:\tlearn: 0.0155742\ttotal: 435ms\tremaining: 147ms\n",
      "747:\tlearn: 0.0155257\ttotal: 435ms\tremaining: 147ms\n",
      "748:\tlearn: 0.0154466\ttotal: 436ms\tremaining: 146ms\n",
      "749:\tlearn: 0.0153991\ttotal: 436ms\tremaining: 145ms\n",
      "750:\tlearn: 0.0153215\ttotal: 437ms\tremaining: 145ms\n",
      "751:\tlearn: 0.0152782\ttotal: 437ms\tremaining: 144ms\n",
      "752:\tlearn: 0.0152102\ttotal: 437ms\tremaining: 143ms\n",
      "753:\tlearn: 0.0151343\ttotal: 438ms\tremaining: 143ms\n",
      "754:\tlearn: 0.0150924\ttotal: 438ms\tremaining: 142ms\n",
      "755:\tlearn: 0.0150547\ttotal: 439ms\tremaining: 142ms\n",
      "756:\tlearn: 0.0149903\ttotal: 439ms\tremaining: 141ms\n",
      "757:\tlearn: 0.0149319\ttotal: 440ms\tremaining: 140ms\n",
      "758:\tlearn: 0.0148561\ttotal: 440ms\tremaining: 140ms\n",
      "759:\tlearn: 0.0147820\ttotal: 441ms\tremaining: 139ms\n",
      "760:\tlearn: 0.0147164\ttotal: 441ms\tremaining: 138ms\n",
      "761:\tlearn: 0.0146706\ttotal: 441ms\tremaining: 138ms\n",
      "762:\tlearn: 0.0146253\ttotal: 442ms\tremaining: 137ms\n",
      "763:\tlearn: 0.0145806\ttotal: 443ms\tremaining: 137ms\n",
      "764:\tlearn: 0.0145239\ttotal: 443ms\tremaining: 136ms\n",
      "765:\tlearn: 0.0144795\ttotal: 444ms\tremaining: 135ms\n",
      "766:\tlearn: 0.0144250\ttotal: 444ms\tremaining: 135ms\n",
      "767:\tlearn: 0.0143814\ttotal: 444ms\tremaining: 134ms\n",
      "768:\tlearn: 0.0143295\ttotal: 445ms\tremaining: 134ms\n",
      "769:\tlearn: 0.0142837\ttotal: 445ms\tremaining: 133ms\n",
      "770:\tlearn: 0.0142281\ttotal: 446ms\tremaining: 132ms\n",
      "771:\tlearn: 0.0141970\ttotal: 446ms\tremaining: 132ms\n",
      "772:\tlearn: 0.0141554\ttotal: 447ms\tremaining: 131ms\n",
      "773:\tlearn: 0.0141011\ttotal: 447ms\tremaining: 131ms\n",
      "774:\tlearn: 0.0140603\ttotal: 448ms\tremaining: 130ms\n",
      "775:\tlearn: 0.0139949\ttotal: 448ms\tremaining: 129ms\n",
      "776:\tlearn: 0.0139460\ttotal: 449ms\tremaining: 129ms\n",
      "777:\tlearn: 0.0139064\ttotal: 449ms\tremaining: 128ms\n",
      "778:\tlearn: 0.0138381\ttotal: 450ms\tremaining: 128ms\n",
      "779:\tlearn: 0.0137927\ttotal: 450ms\tremaining: 127ms\n",
      "780:\tlearn: 0.0137494\ttotal: 451ms\tremaining: 126ms\n",
      "781:\tlearn: 0.0136761\ttotal: 451ms\tremaining: 126ms\n",
      "782:\tlearn: 0.0136380\ttotal: 452ms\tremaining: 125ms\n",
      "783:\tlearn: 0.0136015\ttotal: 452ms\tremaining: 125ms\n",
      "784:\tlearn: 0.0135364\ttotal: 453ms\tremaining: 124ms\n",
      "785:\tlearn: 0.0134994\ttotal: 453ms\tremaining: 123ms\n",
      "786:\tlearn: 0.0134576\ttotal: 454ms\tremaining: 123ms\n",
      "787:\tlearn: 0.0133880\ttotal: 455ms\tremaining: 122ms\n",
      "788:\tlearn: 0.0133318\ttotal: 455ms\tremaining: 122ms\n",
      "789:\tlearn: 0.0132960\ttotal: 456ms\tremaining: 121ms\n",
      "790:\tlearn: 0.0132394\ttotal: 456ms\tremaining: 120ms\n",
      "791:\tlearn: 0.0131985\ttotal: 456ms\tremaining: 120ms\n",
      "792:\tlearn: 0.0131464\ttotal: 457ms\tremaining: 119ms\n",
      "793:\tlearn: 0.0130772\ttotal: 457ms\tremaining: 119ms\n",
      "794:\tlearn: 0.0130093\ttotal: 458ms\tremaining: 118ms\n",
      "795:\tlearn: 0.0129427\ttotal: 458ms\tremaining: 117ms\n",
      "796:\tlearn: 0.0128775\ttotal: 459ms\tremaining: 117ms\n",
      "797:\tlearn: 0.0128261\ttotal: 459ms\tremaining: 116ms\n",
      "798:\tlearn: 0.0127739\ttotal: 460ms\tremaining: 116ms\n",
      "799:\tlearn: 0.0127201\ttotal: 460ms\tremaining: 115ms\n",
      "800:\tlearn: 0.0126677\ttotal: 461ms\tremaining: 114ms\n",
      "801:\tlearn: 0.0126001\ttotal: 461ms\tremaining: 114ms\n",
      "802:\tlearn: 0.0125378\ttotal: 462ms\tremaining: 113ms\n",
      "803:\tlearn: 0.0124684\ttotal: 462ms\tremaining: 113ms\n",
      "804:\tlearn: 0.0124082\ttotal: 463ms\tremaining: 112ms\n",
      "805:\tlearn: 0.0123527\ttotal: 464ms\tremaining: 112ms\n",
      "806:\tlearn: 0.0122866\ttotal: 464ms\tremaining: 111ms\n",
      "807:\tlearn: 0.0122415\ttotal: 465ms\tremaining: 110ms\n",
      "808:\tlearn: 0.0121768\ttotal: 465ms\tremaining: 110ms\n",
      "809:\tlearn: 0.0121477\ttotal: 466ms\tremaining: 109ms\n",
      "810:\tlearn: 0.0120895\ttotal: 466ms\tremaining: 109ms\n",
      "811:\tlearn: 0.0120363\ttotal: 466ms\tremaining: 108ms\n",
      "812:\tlearn: 0.0119795\ttotal: 467ms\tremaining: 107ms\n",
      "813:\tlearn: 0.0119277\ttotal: 467ms\tremaining: 107ms\n",
      "814:\tlearn: 0.0118851\ttotal: 468ms\tremaining: 106ms\n",
      "815:\tlearn: 0.0118379\ttotal: 469ms\tremaining: 106ms\n",
      "816:\tlearn: 0.0117812\ttotal: 469ms\tremaining: 105ms\n",
      "817:\tlearn: 0.0117284\ttotal: 469ms\tremaining: 104ms\n",
      "818:\tlearn: 0.0116874\ttotal: 470ms\tremaining: 104ms\n",
      "819:\tlearn: 0.0116311\ttotal: 470ms\tremaining: 103ms\n",
      "820:\tlearn: 0.0115770\ttotal: 471ms\tremaining: 103ms\n",
      "821:\tlearn: 0.0115284\ttotal: 471ms\tremaining: 102ms\n",
      "822:\tlearn: 0.0114880\ttotal: 471ms\tremaining: 101ms\n",
      "823:\tlearn: 0.0114406\ttotal: 472ms\tremaining: 101ms\n",
      "824:\tlearn: 0.0114011\ttotal: 472ms\tremaining: 100ms\n",
      "825:\tlearn: 0.0113489\ttotal: 473ms\tremaining: 99.6ms\n",
      "826:\tlearn: 0.0112978\ttotal: 474ms\tremaining: 99.1ms\n",
      "827:\tlearn: 0.0112520\ttotal: 474ms\tremaining: 98.5ms\n",
      "828:\tlearn: 0.0111977\ttotal: 475ms\tremaining: 97.9ms\n"
     ]
    },
    {
     "name": "stdout",
     "output_type": "stream",
     "text": [
      "829:\tlearn: 0.0111550\ttotal: 475ms\tremaining: 97.3ms\n",
      "830:\tlearn: 0.0111082\ttotal: 476ms\tremaining: 96.7ms\n",
      "831:\tlearn: 0.0110703\ttotal: 476ms\tremaining: 96.2ms\n",
      "832:\tlearn: 0.0110330\ttotal: 477ms\tremaining: 95.5ms\n",
      "833:\tlearn: 0.0109836\ttotal: 477ms\tremaining: 95ms\n",
      "834:\tlearn: 0.0109362\ttotal: 478ms\tremaining: 94.4ms\n",
      "835:\tlearn: 0.0108983\ttotal: 478ms\tremaining: 93.8ms\n",
      "836:\tlearn: 0.0108500\ttotal: 479ms\tremaining: 93.2ms\n",
      "837:\tlearn: 0.0108074\ttotal: 479ms\tremaining: 92.6ms\n",
      "838:\tlearn: 0.0107704\ttotal: 480ms\tremaining: 92ms\n",
      "839:\tlearn: 0.0107232\ttotal: 480ms\tremaining: 91.4ms\n",
      "840:\tlearn: 0.0106836\ttotal: 481ms\tremaining: 90.8ms\n",
      "841:\tlearn: 0.0106355\ttotal: 481ms\tremaining: 90.2ms\n",
      "842:\tlearn: 0.0105895\ttotal: 482ms\tremaining: 89.7ms\n",
      "843:\tlearn: 0.0105450\ttotal: 482ms\tremaining: 89.1ms\n",
      "844:\tlearn: 0.0104985\ttotal: 483ms\tremaining: 88.5ms\n",
      "845:\tlearn: 0.0104535\ttotal: 483ms\tremaining: 88ms\n",
      "846:\tlearn: 0.0104138\ttotal: 484ms\tremaining: 87.4ms\n",
      "847:\tlearn: 0.0103694\ttotal: 484ms\tremaining: 86.8ms\n",
      "848:\tlearn: 0.0103259\ttotal: 485ms\tremaining: 86.2ms\n",
      "849:\tlearn: 0.0102815\ttotal: 485ms\tremaining: 85.6ms\n",
      "850:\tlearn: 0.0102389\ttotal: 486ms\tremaining: 85ms\n",
      "851:\tlearn: 0.0101982\ttotal: 486ms\tremaining: 84.5ms\n",
      "852:\tlearn: 0.0101500\ttotal: 487ms\tremaining: 83.9ms\n",
      "853:\tlearn: 0.0101075\ttotal: 487ms\tremaining: 83.3ms\n",
      "854:\tlearn: 0.0100751\ttotal: 488ms\tremaining: 82.7ms\n",
      "855:\tlearn: 0.0100344\ttotal: 488ms\tremaining: 82.2ms\n",
      "856:\tlearn: 0.0099798\ttotal: 489ms\tremaining: 81.6ms\n",
      "857:\tlearn: 0.0099362\ttotal: 489ms\tremaining: 81ms\n",
      "858:\tlearn: 0.0098980\ttotal: 490ms\tremaining: 80.4ms\n",
      "859:\tlearn: 0.0098660\ttotal: 491ms\tremaining: 79.9ms\n",
      "860:\tlearn: 0.0098288\ttotal: 491ms\tremaining: 79.3ms\n",
      "861:\tlearn: 0.0097882\ttotal: 492ms\tremaining: 78.7ms\n",
      "862:\tlearn: 0.0097494\ttotal: 492ms\tremaining: 78.1ms\n",
      "863:\tlearn: 0.0097097\ttotal: 492ms\tremaining: 77.5ms\n",
      "864:\tlearn: 0.0096733\ttotal: 493ms\tremaining: 76.9ms\n",
      "865:\tlearn: 0.0096345\ttotal: 493ms\tremaining: 76.4ms\n",
      "866:\tlearn: 0.0096081\ttotal: 494ms\tremaining: 75.8ms\n",
      "867:\tlearn: 0.0095821\ttotal: 494ms\tremaining: 75.2ms\n",
      "868:\tlearn: 0.0095421\ttotal: 495ms\tremaining: 74.6ms\n",
      "869:\tlearn: 0.0094900\ttotal: 495ms\tremaining: 74ms\n",
      "870:\tlearn: 0.0094470\ttotal: 496ms\tremaining: 73.4ms\n",
      "871:\tlearn: 0.0094098\ttotal: 496ms\tremaining: 72.8ms\n",
      "872:\tlearn: 0.0093704\ttotal: 497ms\tremaining: 72.3ms\n",
      "873:\tlearn: 0.0093352\ttotal: 497ms\tremaining: 71.7ms\n",
      "874:\tlearn: 0.0092936\ttotal: 498ms\tremaining: 71.1ms\n",
      "875:\tlearn: 0.0092591\ttotal: 498ms\tremaining: 70.6ms\n",
      "876:\tlearn: 0.0092343\ttotal: 499ms\tremaining: 70ms\n",
      "877:\tlearn: 0.0091962\ttotal: 500ms\tremaining: 69.4ms\n",
      "878:\tlearn: 0.0091653\ttotal: 500ms\tremaining: 68.9ms\n",
      "879:\tlearn: 0.0091179\ttotal: 501ms\tremaining: 68.3ms\n",
      "880:\tlearn: 0.0090844\ttotal: 501ms\tremaining: 67.7ms\n",
      "881:\tlearn: 0.0090629\ttotal: 502ms\tremaining: 67.1ms\n",
      "882:\tlearn: 0.0090418\ttotal: 502ms\tremaining: 66.5ms\n",
      "883:\tlearn: 0.0089957\ttotal: 503ms\tremaining: 65.9ms\n",
      "884:\tlearn: 0.0089626\ttotal: 503ms\tremaining: 65.4ms\n",
      "885:\tlearn: 0.0089275\ttotal: 503ms\tremaining: 64.8ms\n",
      "886:\tlearn: 0.0088798\ttotal: 504ms\tremaining: 64.2ms\n",
      "887:\tlearn: 0.0088511\ttotal: 504ms\tremaining: 63.6ms\n",
      "888:\tlearn: 0.0088308\ttotal: 505ms\tremaining: 63.1ms\n",
      "889:\tlearn: 0.0087938\ttotal: 506ms\tremaining: 62.5ms\n",
      "890:\tlearn: 0.0087739\ttotal: 506ms\tremaining: 61.9ms\n",
      "891:\tlearn: 0.0087377\ttotal: 507ms\tremaining: 61.3ms\n",
      "892:\tlearn: 0.0087118\ttotal: 507ms\tremaining: 60.8ms\n",
      "893:\tlearn: 0.0086924\ttotal: 508ms\tremaining: 60.2ms\n",
      "894:\tlearn: 0.0086654\ttotal: 508ms\tremaining: 59.6ms\n",
      "895:\tlearn: 0.0086404\ttotal: 509ms\tremaining: 59ms\n",
      "896:\tlearn: 0.0086139\ttotal: 509ms\tremaining: 58.5ms\n",
      "897:\tlearn: 0.0085950\ttotal: 510ms\tremaining: 57.9ms\n",
      "898:\tlearn: 0.0085606\ttotal: 510ms\tremaining: 57.4ms\n",
      "899:\tlearn: 0.0085365\ttotal: 511ms\tremaining: 56.8ms\n",
      "900:\tlearn: 0.0085109\ttotal: 511ms\tremaining: 56.2ms\n",
      "901:\tlearn: 0.0084954\ttotal: 512ms\tremaining: 55.6ms\n",
      "902:\tlearn: 0.0084463\ttotal: 512ms\tremaining: 55ms\n",
      "903:\tlearn: 0.0084231\ttotal: 513ms\tremaining: 54.5ms\n",
      "904:\tlearn: 0.0083982\ttotal: 513ms\tremaining: 53.9ms\n",
      "905:\tlearn: 0.0083832\ttotal: 514ms\tremaining: 53.3ms\n",
      "906:\tlearn: 0.0083360\ttotal: 514ms\tremaining: 52.7ms\n",
      "907:\tlearn: 0.0082949\ttotal: 514ms\tremaining: 52.1ms\n",
      "908:\tlearn: 0.0082769\ttotal: 515ms\tremaining: 51.5ms\n",
      "909:\tlearn: 0.0082310\ttotal: 515ms\tremaining: 51ms\n",
      "910:\tlearn: 0.0082134\ttotal: 516ms\tremaining: 50.4ms\n",
      "911:\tlearn: 0.0081686\ttotal: 516ms\tremaining: 49.8ms\n",
      "912:\tlearn: 0.0081370\ttotal: 517ms\tremaining: 49.3ms\n",
      "913:\tlearn: 0.0080974\ttotal: 517ms\tremaining: 48.7ms\n",
      "914:\tlearn: 0.0080660\ttotal: 518ms\tremaining: 48.1ms\n",
      "915:\tlearn: 0.0080481\ttotal: 518ms\tremaining: 47.5ms\n",
      "916:\tlearn: 0.0080263\ttotal: 519ms\tremaining: 47ms\n",
      "917:\tlearn: 0.0079957\ttotal: 520ms\tremaining: 46.4ms\n",
      "918:\tlearn: 0.0079783\ttotal: 520ms\tremaining: 45.9ms\n",
      "919:\tlearn: 0.0079620\ttotal: 521ms\tremaining: 45.3ms\n",
      "920:\tlearn: 0.0079191\ttotal: 521ms\tremaining: 44.7ms\n",
      "921:\tlearn: 0.0078892\ttotal: 522ms\tremaining: 44.1ms\n",
      "922:\tlearn: 0.0078641\ttotal: 522ms\tremaining: 43.6ms\n",
      "923:\tlearn: 0.0078482\ttotal: 523ms\tremaining: 43ms\n",
      "924:\tlearn: 0.0078278\ttotal: 523ms\tremaining: 42.4ms\n",
      "925:\tlearn: 0.0077861\ttotal: 524ms\tremaining: 41.9ms\n",
      "926:\tlearn: 0.0077616\ttotal: 524ms\tremaining: 41.3ms\n",
      "927:\tlearn: 0.0077436\ttotal: 525ms\tremaining: 40.7ms\n",
      "928:\tlearn: 0.0077238\ttotal: 525ms\tremaining: 40.2ms\n",
      "929:\tlearn: 0.0076834\ttotal: 526ms\tremaining: 39.6ms\n",
      "930:\tlearn: 0.0076659\ttotal: 526ms\tremaining: 39ms\n",
      "931:\tlearn: 0.0076265\ttotal: 527ms\tremaining: 38.4ms\n",
      "932:\tlearn: 0.0075903\ttotal: 527ms\tremaining: 37.9ms\n",
      "933:\tlearn: 0.0075747\ttotal: 528ms\tremaining: 37.3ms\n",
      "934:\tlearn: 0.0075558\ttotal: 528ms\tremaining: 36.7ms\n",
      "935:\tlearn: 0.0075294\ttotal: 529ms\tremaining: 36.2ms\n",
      "936:\tlearn: 0.0075036\ttotal: 530ms\tremaining: 35.6ms\n",
      "937:\tlearn: 0.0074756\ttotal: 530ms\tremaining: 35ms\n",
      "938:\tlearn: 0.0074407\ttotal: 530ms\tremaining: 34.5ms\n",
      "939:\tlearn: 0.0074102\ttotal: 531ms\tremaining: 33.9ms\n",
      "940:\tlearn: 0.0073952\ttotal: 532ms\tremaining: 33.3ms\n",
      "941:\tlearn: 0.0073773\ttotal: 532ms\tremaining: 32.8ms\n",
      "942:\tlearn: 0.0073524\ttotal: 533ms\tremaining: 32.2ms\n",
      "943:\tlearn: 0.0073379\ttotal: 533ms\tremaining: 31.6ms\n",
      "944:\tlearn: 0.0073135\ttotal: 534ms\tremaining: 31.1ms\n",
      "945:\tlearn: 0.0072868\ttotal: 535ms\tremaining: 30.5ms\n",
      "946:\tlearn: 0.0072668\ttotal: 535ms\tremaining: 30ms\n",
      "947:\tlearn: 0.0072508\ttotal: 536ms\tremaining: 29.4ms\n",
      "948:\tlearn: 0.0072368\ttotal: 536ms\tremaining: 28.8ms\n",
      "949:\tlearn: 0.0071996\ttotal: 537ms\tremaining: 28.3ms\n",
      "950:\tlearn: 0.0071865\ttotal: 537ms\tremaining: 27.7ms\n",
      "951:\tlearn: 0.0071502\ttotal: 538ms\tremaining: 27.1ms\n",
      "952:\tlearn: 0.0071307\ttotal: 538ms\tremaining: 26.6ms\n",
      "953:\tlearn: 0.0071072\ttotal: 539ms\tremaining: 26ms\n",
      "954:\tlearn: 0.0070861\ttotal: 540ms\tremaining: 25.4ms\n",
      "955:\tlearn: 0.0070606\ttotal: 540ms\tremaining: 24.9ms\n",
      "956:\tlearn: 0.0070375\ttotal: 541ms\tremaining: 24.3ms\n",
      "957:\tlearn: 0.0070076\ttotal: 541ms\tremaining: 23.7ms\n",
      "958:\tlearn: 0.0069929\ttotal: 542ms\tremaining: 23.2ms\n",
      "959:\tlearn: 0.0069769\ttotal: 542ms\tremaining: 22.6ms\n",
      "960:\tlearn: 0.0069565\ttotal: 543ms\tremaining: 22ms\n",
      "961:\tlearn: 0.0069194\ttotal: 543ms\tremaining: 21.5ms\n",
      "962:\tlearn: 0.0068831\ttotal: 544ms\tremaining: 20.9ms\n",
      "963:\tlearn: 0.0068473\ttotal: 545ms\tremaining: 20.3ms\n",
      "964:\tlearn: 0.0068280\ttotal: 545ms\tremaining: 19.8ms\n",
      "965:\tlearn: 0.0067930\ttotal: 546ms\tremaining: 19.2ms\n",
      "966:\tlearn: 0.0067702\ttotal: 546ms\tremaining: 18.6ms\n",
      "967:\tlearn: 0.0067360\ttotal: 547ms\tremaining: 18.1ms\n",
      "968:\tlearn: 0.0067023\ttotal: 547ms\tremaining: 17.5ms\n",
      "969:\tlearn: 0.0066693\ttotal: 548ms\tremaining: 16.9ms\n",
      "970:\tlearn: 0.0066518\ttotal: 548ms\tremaining: 16.4ms\n",
      "971:\tlearn: 0.0066194\ttotal: 549ms\tremaining: 15.8ms\n",
      "972:\tlearn: 0.0065876\ttotal: 549ms\tremaining: 15.2ms\n",
      "973:\tlearn: 0.0065628\ttotal: 550ms\tremaining: 14.7ms\n",
      "974:\tlearn: 0.0065264\ttotal: 550ms\tremaining: 14.1ms\n",
      "975:\tlearn: 0.0065056\ttotal: 551ms\tremaining: 13.5ms\n",
      "976:\tlearn: 0.0064813\ttotal: 552ms\tremaining: 13ms\n",
      "977:\tlearn: 0.0064523\ttotal: 552ms\tremaining: 12.4ms\n",
      "978:\tlearn: 0.0064218\ttotal: 552ms\tremaining: 11.8ms\n",
      "979:\tlearn: 0.0063918\ttotal: 553ms\tremaining: 11.3ms\n"
     ]
    },
    {
     "name": "stdout",
     "output_type": "stream",
     "text": [
      "980:\tlearn: 0.0063597\ttotal: 554ms\tremaining: 10.7ms\n",
      "981:\tlearn: 0.0063420\ttotal: 554ms\tremaining: 10.2ms\n",
      "982:\tlearn: 0.0063133\ttotal: 555ms\tremaining: 9.59ms\n",
      "983:\tlearn: 0.0062962\ttotal: 555ms\tremaining: 9.03ms\n",
      "984:\tlearn: 0.0062761\ttotal: 556ms\tremaining: 8.46ms\n",
      "985:\tlearn: 0.0062482\ttotal: 556ms\tremaining: 7.9ms\n",
      "986:\tlearn: 0.0062317\ttotal: 557ms\tremaining: 7.33ms\n",
      "987:\tlearn: 0.0062120\ttotal: 558ms\tremaining: 6.77ms\n",
      "988:\tlearn: 0.0061849\ttotal: 558ms\tremaining: 6.21ms\n",
      "989:\tlearn: 0.0061596\ttotal: 559ms\tremaining: 5.64ms\n",
      "990:\tlearn: 0.0061458\ttotal: 559ms\tremaining: 5.08ms\n",
      "991:\tlearn: 0.0061196\ttotal: 560ms\tremaining: 4.51ms\n",
      "992:\tlearn: 0.0061062\ttotal: 560ms\tremaining: 3.95ms\n",
      "993:\tlearn: 0.0060788\ttotal: 561ms\tremaining: 3.38ms\n",
      "994:\tlearn: 0.0060533\ttotal: 561ms\tremaining: 2.82ms\n",
      "995:\tlearn: 0.0060403\ttotal: 561ms\tremaining: 2.25ms\n",
      "996:\tlearn: 0.0060155\ttotal: 562ms\tremaining: 1.69ms\n",
      "997:\tlearn: 0.0060065\ttotal: 562ms\tremaining: 1.13ms\n",
      "998:\tlearn: 0.0059956\ttotal: 563ms\tremaining: 563us\n",
      "999:\tlearn: 0.0059626\ttotal: 563ms\tremaining: 0us\n"
     ]
    },
    {
     "data": {
      "text/plain": [
       "<catboost.core.CatBoostRegressor at 0x7f7d89731160>"
      ]
     },
     "execution_count": 9,
     "metadata": {},
     "output_type": "execute_result"
    }
   ],
   "source": [
    "#Train the Model \n",
    "prior_model = ctb.CatBoostRegressor()\n",
    "prior_model.fit(X_train,Y_train)"
   ]
  },
  {
   "cell_type": "code",
   "execution_count": 10,
   "id": "af65dcda",
   "metadata": {
    "execution": {
     "iopub.execute_input": "2022-05-18T08:38:02.512256Z",
     "iopub.status.busy": "2022-05-18T08:38:02.511864Z",
     "iopub.status.idle": "2022-05-18T08:38:02.519423Z",
     "shell.execute_reply": "2022-05-18T08:38:02.519711Z"
    },
    "id": "af65dcda",
    "papermill": {
     "duration": 0.020161,
     "end_time": "2022-05-18T08:38:02.519833",
     "exception": false,
     "start_time": "2022-05-18T08:38:02.499672",
     "status": "completed"
    },
    "tags": []
   },
   "outputs": [
    {
     "data": {
      "application/scrapbook.scrap.json+json": {
       "data": 0.09775949554966396,
       "encoder": "json",
       "name": "Prior Model MSE",
       "version": 1
      }
     },
     "metadata": {
      "scrapbook": {
       "data": true,
       "display": false,
       "name": "Prior Model MSE"
      }
     },
     "output_type": "display_data"
    },
    {
     "data": {
      "application/scrapbook.scrap.json+json": {
       "data": 0.11671575676772314,
       "encoder": "json",
       "name": "ABC Pre-generator MSE",
       "version": 1
      }
     },
     "metadata": {
      "scrapbook": {
       "data": true,
       "display": false,
       "name": "ABC Pre-generator MSE"
      }
     },
     "output_type": "display_data"
    },
    {
     "data": {
      "application/scrapbook.scrap.json+json": {
       "data": 0.24587644395689848,
       "encoder": "json",
       "name": "Prior Model MAE",
       "version": 1
      }
     },
     "metadata": {
      "scrapbook": {
       "data": true,
       "display": false,
       "name": "Prior Model MAE"
      }
     },
     "output_type": "display_data"
    },
    {
     "data": {
      "application/scrapbook.scrap.json+json": {
       "data": 0.2671565925516775,
       "encoder": "json",
       "name": "ABC Pre-generator MAE",
       "version": 1
      }
     },
     "metadata": {
      "scrapbook": {
       "data": true,
       "display": false,
       "name": "ABC Pre-generator MAE"
      }
     },
     "output_type": "display_data"
    }
   ],
   "source": [
    "y_pred = prior_model.predict(X_test)\n",
    "y_abc = y_pred + np.random.normal(0,variance, y_pred.shape)\n",
    "mse = mean_squared_error(y_pred,Y_test)\n",
    "sb.glue(\"Prior Model MSE\",mse)\n",
    "mse = mean_squared_error(y_abc,Y_test)\n",
    "sb.glue(\"ABC Pre-generator MSE\",mse)\n",
    "\n",
    "mae = mean_absolute_error(y_pred,Y_test)\n",
    "sb.glue(\"Prior Model MAE\",mae)\n",
    "mae = mean_absolute_error(y_abc,Y_test)\n",
    "sb.glue(\"ABC Pre-generator MAE\",mae)"
   ]
  },
  {
   "cell_type": "markdown",
   "id": "25609da2",
   "metadata": {
    "papermill": {
     "duration": 0.009434,
     "end_time": "2022-05-18T08:38:02.539109",
     "exception": false,
     "start_time": "2022-05-18T08:38:02.529675",
     "status": "completed"
    },
    "tags": []
   },
   "source": [
    "# ABC GAN Model"
   ]
  },
  {
   "cell_type": "code",
   "execution_count": 11,
   "id": "dfc3464d",
   "metadata": {
    "execution": {
     "iopub.execute_input": "2022-05-18T08:38:02.561163Z",
     "iopub.status.busy": "2022-05-18T08:38:02.560791Z",
     "iopub.status.idle": "2022-05-18T08:38:02.563355Z",
     "shell.execute_reply": "2022-05-18T08:38:02.563601Z"
    },
    "papermill": {
     "duration": 0.014982,
     "end_time": "2022-05-18T08:38:02.563714",
     "exception": false,
     "start_time": "2022-05-18T08:38:02.548732",
     "status": "completed"
    },
    "tags": []
   },
   "outputs": [],
   "source": [
    "gen = network.Generator(n_features+1).to(device)\n",
    "disc = network.Discriminator(n_features+1).to(device)\n",
    "\n",
    "criterion = torch.nn.BCELoss()\n",
    "gen_opt = torch.optim.Adam(gen.parameters(), lr=0.001, betas=(0.5, 0.999))\n",
    "disc_opt = torch.optim.Adam(disc.parameters(), lr=0.001, betas=(0.5, 0.999))"
   ]
  },
  {
   "cell_type": "code",
   "execution_count": 12,
   "id": "b75fdd85",
   "metadata": {
    "execution": {
     "iopub.execute_input": "2022-05-18T08:38:02.584962Z",
     "iopub.status.busy": "2022-05-18T08:38:02.584605Z",
     "iopub.status.idle": "2022-05-18T08:38:15.977539Z",
     "shell.execute_reply": "2022-05-18T08:38:15.977784Z"
    },
    "papermill": {
     "duration": 13.404647,
     "end_time": "2022-05-18T08:38:15.977911",
     "exception": false,
     "start_time": "2022-05-18T08:38:02.573264",
     "status": "completed"
    },
    "tags": []
   },
   "outputs": [
    {
     "data": {
      "image/png": "[encoded data removed]",
      "text/plain": [
       "<Figure size 432x288 with 1 Axes>"
      ]
     },
     "metadata": {
      "needs_background": "light"
     },
     "output_type": "display_data"
    },
    {
     "data": {
      "image/png": "[encoded data removed]",
      "text/plain": [
       "<Figure size 432x288 with 1 Axes>"
      ]
     },
     "metadata": {
      "needs_background": "light"
     },
     "output_type": "display_data"
    }
   ],
   "source": [
    "#Training the ABC_GAN \n",
    "ABC_train_test2.training_GAN(disc,gen,disc_opt,gen_opt,train_data,batch_size,n_epochs,criterion,prior_model,variance,0,device)"
   ]
  },
  {
   "cell_type": "code",
   "execution_count": 13,
   "id": "1fa7c368",
   "metadata": {
    "execution": {
     "iopub.execute_input": "2022-05-18T08:38:16.001498Z",
     "iopub.status.busy": "2022-05-18T08:38:16.001092Z",
     "iopub.status.idle": "2022-05-18T08:38:16.170870Z",
     "shell.execute_reply": "2022-05-18T08:38:16.171174Z"
    },
    "papermill": {
     "duration": 0.182825,
     "end_time": "2022-05-18T08:38:16.171298",
     "exception": false,
     "start_time": "2022-05-18T08:38:15.988473",
     "status": "completed"
    },
    "tags": []
   },
   "outputs": [
    {
     "data": {
      "application/scrapbook.scrap.json+json": {
       "data": 0.05645844054773276,
       "encoder": "json",
       "name": "ABC-GAN Model 1 MSE",
       "version": 1
      }
     },
     "metadata": {
      "scrapbook": {
       "data": true,
       "display": false,
       "name": "ABC-GAN Model 1 MSE"
      }
     },
     "output_type": "display_data"
    },
    {
     "data": {
      "application/scrapbook.scrap.json+json": {
       "data": 0.19772303070966155,
       "encoder": "json",
       "name": "ABC-GAN Model 1 MAE",
       "version": 1
      }
     },
     "metadata": {
      "scrapbook": {
       "data": true,
       "display": false,
       "name": "ABC-GAN Model 1 MAE"
      }
     },
     "output_type": "display_data"
    },
    {
     "data": {
      "application/scrapbook.scrap.json+json": {
       "data": 3.954460614193231,
       "encoder": "json",
       "name": "ABC-GAN Model 1 Manhattan Distance",
       "version": 1
      }
     },
     "metadata": {
      "scrapbook": {
       "data": true,
       "display": false,
       "name": "ABC-GAN Model 1 Manhattan Distance"
      }
     },
     "output_type": "display_data"
    },
    {
     "data": {
      "application/scrapbook.scrap.json+json": {
       "data": 1.0617474485842715,
       "encoder": "json",
       "name": "ABC-GAN Model 1 Euclidean distance",
       "version": 1
      }
     },
     "metadata": {
      "scrapbook": {
       "data": true,
       "display": false,
       "name": "ABC-GAN Model 1 Euclidean distance"
      }
     },
     "output_type": "display_data"
    },
    {
     "data": {
      "application/scrapbook.scrap.json+json": {
       "data": [
        [
         0.05649551096116452,
         0.05198256888438896,
         0.05730691835190489,
         0.060786241279394214,
         0.052672436438510675,
         0.0555407299988689,
         0.051109901295604686,
         0.060948706389069476,
         0.05530764897675143,
         0.06023318207568975,
         0.05059362325749819,
         0.054763181069406405,
         0.05594292362642968,
         0.049310811322775185,
         0.0502350940002224,
         0.05547859933127743,
         0.062324211809175634,
         0.052465328272669996,
         0.05729525568270134,
         0.06067566228444504,
         0.062249330326584196,
         0.06057679556516399,
         0.053478809369247496,
         0.0555294890936749,
         0.05242626767694282,
         0.05177186673406309,
         0.06370233988156931,
         0.04359974184405806,
         0.05969440029662994,
         0.05325615652626516,
         0.059766092485883625,
         0.06221237367955781,
         0.05724037999827779,
         0.058231106315164496,
         0.060076146706455134,
         0.06483776303222814,
         0.04566699821690573,
         0.052444986185969225,
         0.06217699079050223,
         0.06091155381265319,
         0.05128941654545112,
         0.045591474914271436,
         0.06450435415782858,
         0.0655935062262887,
         0.051703214571868196,
         0.0546283710170669,
         0.055523382813870606,
         0.052068129194837984,
         0.05676139203885472,
         0.054957535149680894,
         0.06164520826757673,
         0.05852728235428466,
         0.05731588994206756,
         0.06004425991729469,
         0.05567872366226574,
         0.06475218216571227,
         0.05314660627780525,
         0.06239079974066521,
         0.05642646055646826,
         0.05858970972710921,
         0.06136369826898882,
         0.05995200075659688,
         0.049353597551224516,
         0.055922719928240126,
         0.05765201455389986,
         0.05244973410662207,
         0.0517444124962916,
         0.05362367126023406,
         0.05642204421958809,
         0.054822575793231666,
         0.0530139637654206,
         0.05691024539686388,
         0.052824263129884086,
         0.06654832427690222,
         0.06265585851087119,
         0.05256456978761537,
         0.054652587249271946,
         0.061175025069855504,
         0.062372047312059885,
         0.05344910971695693,
         0.057220174502053744,
         0.053741315026380174,
         0.057220710067876636,
         0.05016828395791778,
         0.05747936618918005,
         0.055508154901554675,
         0.054465819958923814,
         0.06287221401912177,
         0.05683277240125072,
         0.05264583537192526,
         0.058069699631160696,
         0.0569498210237282,
         0.05422305974219458,
         0.06404922694586303,
         0.053859649561639564,
         0.05832813385041059,
         0.05471867434985818,
         0.059114445730521145,
         0.05180310786644484,
         0.05464510343763731
        ],
        [
         0.19624759519938378,
         0.19372014256659895,
         0.20454736875835805,
         0.20796872826758772,
         0.19205009492579847,
         0.19957107643131167,
         0.19000836277846248,
         0.20725886079017072,
         0.18845444659236818,
         0.2082719628000632,
         0.1870495360577479,
         0.1965615496272221,
         0.19631894084159285,
         0.18443480806890875,
         0.17964956390205772,
         0.19275148960296065,
         0.21230787748936564,
         0.17914631629828365,
         0.19339069279376417,
         0.20568892362061889,
         0.20409179555717855,
         0.20411183687392623,
         0.18651055137161165,
         0.19567708524409683,
         0.1956390448147431,
         0.19130817393306643,
         0.22018387655261903,
         0.16936228389386088,
         0.20786480421666056,
         0.196849786513485,
         0.2122877218062058,
         0.2073123842710629,
         0.1984499871963635,
         0.1980125695699826,
         0.21117237063590438,
         0.2156239070231095,
         0.17605474593583495,
         0.18930359596852214,
         0.2040371787035838,
         0.19800197223667054,
         0.18253434153739362,
         0.17787232550326734,
         0.2128571871900931,
         0.20869278761092575,
         0.1911462620133534,
         0.19518439474049956,
         0.18828274498227984,
         0.19745644296053796,
         0.19871070163790136,
         0.1987100556725636,
         0.19892424459103494,
         0.18947760353330523,
         0.20119530300144106,
         0.20750202836934478,
         0.19877905549947172,
         0.2152639359468594,
         0.19224761838559062,
         0.2019167613470927,
         0.1930950496578589,
         0.19984238410834224,
         0.20432836825493722,
         0.20174964817706495,
         0.1879837181651965,
         0.20100967588368804,
         0.20585805440787225,
         0.18605038339737803,
         0.19058752174023538,
         0.19308139535132796,
         0.19153569194022566,
         0.19618177192751318,
         0.18258020731154828,
         0.19999191763345153,
         0.18878743799868972,
         0.2198893320048228,
         0.21011464598122984,
         0.1929453298682347,
         0.19268522823695095,
         0.20841533655766398,
         0.20907033982221038,
         0.1843545094365254,
         0.20542529898229986,
         0.195118846767582,
         0.20691565128508954,
         0.17845630610827357,
         0.2012069538468495,
         0.19243029470089823,
         0.200269103073515,
         0.21000088641885667,
         0.19176474215928466,
         0.19365084173623473,
         0.20785432944539933,
         0.19730652461294085,
         0.19659479933325202,
         0.2155160419875756,
         0.19552584106568247,
         0.19959406147245318,
         0.19540117981377988,
         0.20742722305003553,
         0.1958664510631934,
         0.19183194192592054
        ],
        [
         3.924951903987676,
         3.874402851331979,
         4.090947375167161,
         4.159374565351754,
         3.8410018985159695,
         3.9914215286262333,
         3.8001672555692494,
         4.145177215803415,
         3.7690889318473637,
         4.165439256001264,
         3.740990721154958,
         3.9312309925444424,
         3.926378816831857,
         3.688696161378175,
         3.592991278041154,
         3.855029792059213,
         4.246157549787313,
         3.5829263259656727,
         3.8678138558752835,
         4.113778472412378,
         4.081835911143571,
         4.0822367374785244,
         3.730211027432233,
         3.9135417048819363,
         3.912780896294862,
         3.8261634786613286,
         4.403677531052381,
         3.3872456778772175,
         4.157296084333211,
         3.9369957302697003,
         4.245754436124116,
         4.146247685421258,
         3.96899974392727,
         3.9602513913996518,
         4.223447412718087,
         4.31247814046219,
         3.521094918716699,
         3.7860719193704426,
         4.0807435740716755,
         3.960039444733411,
         3.6506868307478726,
         3.557446510065347,
         4.257143743801862,
         4.173855752218515,
         3.822925240267068,
         3.903687894809991,
         3.7656548996455967,
         3.9491288592107594,
         3.9742140327580273,
         3.9742011134512722,
         3.978484891820699,
         3.7895520706661046,
         4.023906060028821,
         4.150040567386895,
         3.9755811099894345,
         4.305278718937188,
         3.8449523677118123,
         4.038335226941854,
         3.861900993157178,
         3.9968476821668446,
         4.086567365098745,
         4.034992963541299,
         3.7596743633039296,
         4.020193517673761,
         4.117161088157445,
         3.7210076679475605,
         3.8117504348047078,
         3.861627907026559,
         3.830713838804513,
         3.9236354385502636,
         3.651604146230966,
         3.9998383526690304,
         3.775748759973794,
         4.397786640096456,
         4.202292919624597,
         3.858906597364694,
         3.8537045647390187,
         4.1683067311532795,
         4.181406796444207,
         3.687090188730508,
         4.108505979645997,
         3.90237693535164,
         4.138313025701791,
         3.5691261221654713,
         4.02413907693699,
         3.8486058940179646,
         4.0053820614703,
         4.200017728377134,
         3.835294843185693,
         3.8730168347246945,
         4.157086588907987,
         3.946130492258817,
         3.9318959866650403,
         4.310320839751512,
         3.9105168213136494,
         3.9918812294490635,
         3.908023596275598,
         4.148544461000711,
         3.9173290212638676,
         3.836638838518411
        ],
        [
         1.0629723511095153,
         1.019632962240717,
         1.0705785197910977,
         1.10259912279481,
         1.026376504393107,
         1.0539518964247743,
         1.011038093205243,
         1.1040716135203321,
         1.0517380755373595,
         1.0975717022198572,
         1.0059187169696981,
         1.0465484324139653,
         1.0577610658974899,
         0.9930841990765454,
         1.002348183020475,
         1.0533622295419314,
         1.1164605842498483,
         1.0243566593005582,
         1.0704695762393375,
         1.1015957723633931,
         1.1157896784482655,
         1.1006979200958271,
         1.034203165429767,
         1.0538452362057238,
         1.0239752699840248,
         1.017564413037947,
         1.128736815042101,
         0.9338066378438103,
         1.0926518228294861,
         1.0320480272377364,
         1.0933077561774052,
         1.115458414102093,
         1.0699568215426059,
         1.079176596439753,
         1.0961400157503158,
         1.1387516237725253,
         0.9556882150252323,
         1.0241580560242565,
         1.1151411640729818,
         1.10373505709163,
         1.0128120906214648,
         0.95489763759548,
         1.135820004735157,
         1.1453689905553468,
         1.016889517812709,
         1.0452594990438204,
         1.0537872917612037,
         1.0204717457611259,
         1.0654707132423182,
         1.0484038835265814,
         1.110362177558086,
         1.0819175786933555,
         1.0706623178394536,
         1.0958490764452438,
         1.0552603817282797,
         1.1379998432839282,
         1.0309859967798327,
         1.1170568449337321,
         1.0623225551259678,
         1.0824944316448857,
         1.1078239776154766,
         1.0950068562031645,
         0.9935149475596682,
         1.0575700442830265,
         1.0737971368363752,
         1.024204414232062,
         1.0172945738210895,
         1.0356029283488346,
         1.0622809818460281,
         1.0471158082392955,
         1.0296986332458697,
         1.0668668651416997,
         1.0278546894370244,
         1.1536752079931527,
         1.1194271616400167,
         1.0253250195680916,
         1.0454911501229645,
         1.106119569213523,
         1.1168889587784445,
         1.033915951293498,
         1.069767960840609,
         1.0367382989586154,
         1.0697729672026364,
         1.0016814259825104,
         1.0721881009336007,
         1.0536427753423327,
         1.0437032141267344,
         1.1213582301755471,
         1.0661404447937497,
         1.0261172971149572,
         1.0776799119512315,
         1.067237752553087,
         1.041374665931475,
         1.1318058751028202,
         1.03787908314639,
         1.0800753108039327,
         1.0461230744980075,
         1.0873310970492949,
         1.0178713854554007,
         1.0454195658934007
        ]
       ],
       "encoder": "json",
       "name": "ABC_GAN_1 Metrics",
       "version": 1
      }
     },
     "metadata": {
      "scrapbook": {
       "data": true,
       "display": false,
       "name": "ABC_GAN_1 Metrics"
      }
     },
     "output_type": "display_data"
    },
    {
     "name": "stdout",
     "output_type": "stream",
     "text": [
      "MSE\n",
      "0.05645844054773276\n"
     ]
    }
   ],
   "source": [
    "ABC_GAN1_metrics=ABC_train_test2.test_generator(gen,test_data,prior_model,variance,0,\"1\",device)\n",
    "sb.glue(\"ABC_GAN_1 Metrics\",ABC_GAN1_metrics)\n",
    "\n",
    "print(\"MSE\")\n",
    "print(mean(ABC_GAN1_metrics[0]))"
   ]
  },
  {
   "cell_type": "code",
   "execution_count": 14,
   "id": "eb22ce5c",
   "metadata": {
    "execution": {
     "iopub.execute_input": "2022-05-18T08:38:16.198326Z",
     "iopub.status.busy": "2022-05-18T08:38:16.197957Z",
     "iopub.status.idle": "2022-05-18T08:38:16.486545Z",
     "shell.execute_reply": "2022-05-18T08:38:16.486844Z"
    },
    "papermill": {
     "duration": 0.303232,
     "end_time": "2022-05-18T08:38:16.486968",
     "exception": false,
     "start_time": "2022-05-18T08:38:16.183736",
     "status": "completed"
    },
    "tags": []
   },
   "outputs": [
    {
     "data": {
      "image/png": "[encoded data removed]",
      "text/plain": [
       "<Figure size 432x288 with 1 Axes>"
      ]
     },
     "metadata": {
      "needs_background": "light"
     },
     "output_type": "display_data"
    },
    {
     "data": {
      "image/png": "[encoded data removed]",
      "text/plain": [
       "<Figure size 432x288 with 1 Axes>"
      ]
     },
     "metadata": {
      "needs_background": "light"
     },
     "output_type": "display_data"
    },
    {
     "data": {
      "image/png": "[encoded data removed]",
      "text/plain": [
       "<Figure size 432x288 with 1 Axes>"
      ]
     },
     "metadata": {
      "needs_background": "light"
     },
     "output_type": "display_data"
    },
    {
     "data": {
      "image/png": "[encoded data removed]",
      "text/plain": [
       "<Figure size 432x288 with 1 Axes>"
      ]
     },
     "metadata": {
      "needs_background": "light"
     },
     "output_type": "display_data"
    }
   ],
   "source": [
    "sanityChecks.discProbVsError(train_data,disc,device)\n",
    "sanityChecks.discProbVsError(test_data,disc,device)"
   ]
  },
  {
   "cell_type": "markdown",
   "id": "130f3a4d",
   "metadata": {
    "id": "130f3a4d",
    "papermill": {
     "duration": 0.014054,
     "end_time": "2022-05-18T08:38:16.515406",
     "exception": false,
     "start_time": "2022-05-18T08:38:16.501352",
     "status": "completed"
    },
    "tags": []
   },
   "source": [
    "# ABC - GAN Model with skip connection"
   ]
  },
  {
   "cell_type": "code",
   "execution_count": 15,
   "id": "4e43dad1",
   "metadata": {
    "execution": {
     "iopub.execute_input": "2022-05-18T08:38:16.547174Z",
     "iopub.status.busy": "2022-05-18T08:38:16.546787Z",
     "iopub.status.idle": "2022-05-18T08:38:16.549115Z",
     "shell.execute_reply": "2022-05-18T08:38:16.549412Z"
    },
    "id": "4e43dad1",
    "papermill": {
     "duration": 0.020135,
     "end_time": "2022-05-18T08:38:16.549530",
     "exception": false,
     "start_time": "2022-05-18T08:38:16.529395",
     "status": "completed"
    },
    "tags": []
   },
   "outputs": [],
   "source": [
    "#Generator\n",
    "gen3 = network.GeneratorWithSkipConnection(n_features+1).to(device)\n",
    "constraints=network.weightConstraint()\n",
    "#Discriminator \n",
    "disc3 = network.Discriminator(n_features+1).to(device)\n",
    "\n",
    "criterion = torch.nn.BCELoss()\n",
    "gen_opt = torch.optim.Adam(gen3.parameters(), lr=0.001, betas=(0.5, 0.999))\n",
    "disc_opt = torch.optim.Adam(disc3.parameters(), lr=0.001, betas=(0.5, 0.999))\n"
   ]
  },
  {
   "cell_type": "code",
   "execution_count": 16,
   "id": "26acbc37",
   "metadata": {
    "execution": {
     "iopub.execute_input": "2022-05-18T08:38:16.580709Z",
     "iopub.status.busy": "2022-05-18T08:38:16.580330Z",
     "iopub.status.idle": "2022-05-18T08:38:52.592325Z",
     "shell.execute_reply": "2022-05-18T08:38:52.592659Z"
    },
    "id": "26acbc37",
    "papermill": {
     "duration": 36.028863,
     "end_time": "2022-05-18T08:38:52.592797",
     "exception": false,
     "start_time": "2022-05-18T08:38:16.563934",
     "status": "completed"
    },
    "tags": []
   },
   "outputs": [
    {
     "data": {
      "image/png": "[encoded data removed]",
      "text/plain": [
       "<Figure size 432x288 with 1 Axes>"
      ]
     },
     "metadata": {
      "needs_background": "light"
     },
     "output_type": "display_data"
    },
    {
     "data": {
      "image/png": "[encoded data removed]",
      "text/plain": [
       "<Figure size 432x288 with 1 Axes>"
      ]
     },
     "metadata": {
      "needs_background": "light"
     },
     "output_type": "display_data"
    }
   ],
   "source": [
    "ABC_train_test2.training_GAN_skip_connection(disc3,gen3,disc_opt,gen_opt,train_data,batch_size,n_epochs,criterion,prior_model,variance,0,device)"
   ]
  },
  {
   "cell_type": "code",
   "execution_count": 17,
   "id": "c5e0717b",
   "metadata": {
    "execution": {
     "iopub.execute_input": "2022-05-18T08:38:52.625714Z",
     "iopub.status.busy": "2022-05-18T08:38:52.625274Z",
     "iopub.status.idle": "2022-05-18T08:38:52.899207Z",
     "shell.execute_reply": "2022-05-18T08:38:52.899455Z"
    },
    "id": "c5e0717b",
    "papermill": {
     "duration": 0.29167,
     "end_time": "2022-05-18T08:38:52.899576",
     "exception": false,
     "start_time": "2022-05-18T08:38:52.607906",
     "status": "completed"
    },
    "tags": []
   },
   "outputs": [
    {
     "data": {
      "application/scrapbook.scrap.json+json": {
       "data": 0.04400679496233348,
       "encoder": "json",
       "name": "ABC-GAN Model 3 MSE",
       "version": 1
      }
     },
     "metadata": {
      "scrapbook": {
       "data": true,
       "display": false,
       "name": "ABC-GAN Model 3 MSE"
      }
     },
     "output_type": "display_data"
    },
    {
     "data": {
      "application/scrapbook.scrap.json+json": {
       "data": 0.17278579387278295,
       "encoder": "json",
       "name": "ABC-GAN Model 3 MAE",
       "version": 1
      }
     },
     "metadata": {
      "scrapbook": {
       "data": true,
       "display": false,
       "name": "ABC-GAN Model 3 MAE"
      }
     },
     "output_type": "display_data"
    },
    {
     "data": {
      "application/scrapbook.scrap.json+json": {
       "data": 3.4557158774556593,
       "encoder": "json",
       "name": "ABC-GAN Model 3 Manhattan Distance",
       "version": 1
      }
     },
     "metadata": {
      "scrapbook": {
       "data": true,
       "display": false,
       "name": "ABC-GAN Model 3 Manhattan Distance"
      }
     },
     "output_type": "display_data"
    },
    {
     "data": {
      "application/scrapbook.scrap.json+json": {
       "data": 0.9367870167366171,
       "encoder": "json",
       "name": "ABC-GAN Model 3 Euclidean distance",
       "version": 1
      }
     },
     "metadata": {
      "scrapbook": {
       "data": true,
       "display": false,
       "name": "ABC-GAN Model 3 Euclidean distance"
      }
     },
     "output_type": "display_data"
    },
    {
     "data": {
      "application/scrapbook.scrap.json+json": {
       "data": [
        [
         0.04069792232915612,
         0.04526441608839237,
         0.04844008514201211,
         0.041704461898846155,
         0.046395903084447944,
         0.044851019673402416,
         0.04899410118336655,
         0.04401594562247235,
         0.03912843153079963,
         0.041052893603460414,
         0.048474327661870785,
         0.04622741281365256,
         0.04127577981803708,
         0.03618096013952875,
         0.04339939373909135,
         0.04215796007823404,
         0.05052942291543304,
         0.041876006625472584,
         0.047282153360034815,
         0.03384572434374639,
         0.04750686419132476,
         0.04436827414603319,
         0.04447520100781123,
         0.0559763789080139,
         0.04345851114860913,
         0.043055005896675436,
         0.046449039859050266,
         0.049510079312506984,
         0.03704003952799131,
         0.050299324691733836,
         0.04539964961462741,
         0.04720943102118711,
         0.04137185722280233,
         0.04496186558957466,
         0.044536235686306665,
         0.04167901904880266,
         0.04533719720290996,
         0.04225347097928149,
         0.04136368510471141,
         0.03604863129788215,
         0.03666068273515517,
         0.03849325608945022,
         0.045505240406081185,
         0.04444571763203501,
         0.04645547059285411,
         0.05176822202776614,
         0.04493981046991452,
         0.03850815830866029,
         0.052499118924849895,
         0.03941143575542598,
         0.04388872989588023,
         0.043446303822278806,
         0.044978393472229705,
         0.04370230904747581,
         0.0439460016743468,
         0.04656023311989075,
         0.05573965957688598,
         0.04945022565430675,
         0.04869745585907699,
         0.04036650473091018,
         0.03355042935464527,
         0.03934546111779863,
         0.05606050186562931,
         0.03826814377644305,
         0.03876339672554939,
         0.04574720678811482,
         0.036233136879137186,
         0.04851092461631885,
         0.04480575659542243,
         0.04214956317519782,
         0.047138198087424386,
         0.05003799301324998,
         0.043143274015894656,
         0.05476099686164189,
         0.03981202287150641,
         0.038375497682934676,
         0.04917284970367165,
         0.04104291746341093,
         0.039915023383118066,
         0.035808503388428545,
         0.04832088561171692,
         0.044006800434406,
         0.038072369103393754,
         0.04096502959195455,
         0.04276243951516178,
         0.04383089985737993,
         0.043470953619593355,
         0.03853633547828559,
         0.050779787315918756,
         0.047742528014981064,
         0.04781013521150568,
         0.04606258692189909,
         0.04324204496465112,
         0.03896040993588955,
         0.03857395011745553,
         0.044277715941992354,
         0.0398505692627447,
         0.048941691146332345,
         0.046464554208006416,
         0.041808999709773684
        ],
        [
         0.16806800963822752,
         0.1730587914818898,
         0.1840314749861136,
         0.1723294178256765,
         0.1728482976788655,
         0.17292884143535048,
         0.18353595139924436,
         0.17457298648077996,
         0.1633613450685516,
         0.1716382033424452,
         0.17991039922926574,
         0.17598974558059127,
         0.17047554638702422,
         0.1570740163559094,
         0.17613413215149193,
         0.17268346140626817,
         0.18336348107550293,
         0.1725732302526012,
         0.1723619474330917,
         0.14770497831050305,
         0.17252998540643602,
         0.17961797120515258,
         0.17265483394730835,
         0.1945053113857284,
         0.16854384376201778,
         0.17303255721926689,
         0.17406932555604726,
         0.18065922383684666,
         0.15785004349891096,
         0.19347654210869222,
         0.1715937994653359,
         0.1817459592828527,
         0.1711851485306397,
         0.17266344132367523,
         0.1657646835083142,
         0.16524853243026882,
         0.17682137473020704,
         0.17387009302619844,
         0.173338560690172,
         0.15555639343801886,
         0.15914394645951688,
         0.16440015921834855,
         0.1757571187103167,
         0.17268967034760863,
         0.1777851396938786,
         0.18417965772096068,
         0.17353393041994422,
         0.16332217494491488,
         0.18520619424525647,
         0.1616330191725865,
         0.1683396509150043,
         0.17722506376449018,
         0.16778757565189154,
         0.1721210982883349,
         0.17349349337164313,
         0.17383173743728547,
         0.19887954213190823,
         0.18560367843601852,
         0.17411053192336112,
         0.17190372666809708,
         0.14478012623731046,
         0.15507185200694948,
         0.19353176096919925,
         0.15532650069799275,
         0.16748637857381254,
         0.18141219338867814,
         0.1608894475037232,
         0.18889427029062061,
         0.18046414835844188,
         0.1762438882375136,
         0.17972067336086184,
         0.1920052566798404,
         0.1753183840075508,
         0.1869949728483334,
         0.16619065117556603,
         0.16594972724560647,
         0.18480521144811063,
         0.16534689146792517,
         0.16226014795247465,
         0.1615286965155974,
         0.18241435003001244,
         0.17330218389397486,
         0.16277466381434352,
         0.16514812677633017,
         0.16841498597059398,
         0.17111262159887702,
         0.16585916059557348,
         0.16624302121344953,
         0.18558001059573143,
         0.17999270150903612,
         0.18191648966167123,
         0.173694920563139,
         0.16431113539729267,
         0.16385017225984483,
         0.16725521127227694,
         0.1704216097248718,
         0.16991685500834136,
         0.1813036762410775,
         0.17547079988289624,
         0.16505652091000228
        ],
        [
         3.3613601927645504,
         3.4611758296377957,
         3.680629499722272,
         3.44658835651353,
         3.45696595357731,
         3.4585768287070096,
         3.6707190279848874,
         3.491459729615599,
         3.267226901371032,
         3.432764066848904,
         3.598207984585315,
         3.5197949116118252,
         3.4095109277404845,
         3.141480327118188,
         3.522682643029839,
         3.4536692281253636,
         3.6672696215100586,
         3.451464605052024,
         3.447238948661834,
         2.9540995662100613,
         3.4505997081287205,
         3.5923594241030514,
         3.4530966789461672,
         3.8901062277145684,
         3.3708768752403557,
         3.460651144385338,
         3.481386511120945,
         3.613184476736933,
         3.1570008699782193,
         3.8695308421738446,
         3.431875989306718,
         3.634919185657054,
         3.423702970612794,
         3.4532688264735043,
         3.315293670166284,
         3.3049706486053765,
         3.5364274946041405,
         3.477401860523969,
         3.4667712138034403,
         3.111127868760377,
         3.1828789291903377,
         3.2880031843669713,
         3.5151423742063344,
         3.4537934069521725,
         3.555702793877572,
         3.6835931544192135,
         3.4706786083988845,
         3.2664434988982975,
         3.7041238849051297,
         3.23266038345173,
         3.3667930183000863,
         3.5445012752898037,
         3.3557515130378306,
         3.442421965766698,
         3.4698698674328625,
         3.4766347487457097,
         3.9775908426381648,
         3.7120735687203705,
         3.4822106384672225,
         3.4380745333619416,
         2.8956025247462094,
         3.1014370401389897,
         3.870635219383985,
         3.106530013959855,
         3.349727571476251,
         3.6282438677735627,
         3.217788950074464,
         3.7778854058124125,
         3.609282967168838,
         3.524877764750272,
         3.5944134672172368,
         3.8401051335968077,
         3.5063676801510155,
         3.7398994569666684,
         3.3238130235113204,
         3.3189945449121296,
         3.696104228962213,
         3.3069378293585032,
         3.245202959049493,
         3.230573930311948,
         3.6482870006002486,
         3.4660436778794974,
         3.2554932762868702,
         3.3029625355266035,
         3.3682997194118798,
         3.4222524319775403,
         3.3171832119114697,
         3.3248604242689908,
         3.7116002119146287,
         3.5998540301807225,
         3.6383297932334244,
         3.4738984112627804,
         3.2862227079458535,
         3.277003445196897,
         3.3451042254455388,
         3.4084321944974363,
         3.3983371001668274,
         3.6260735248215497,
         3.509415997657925,
         3.301130418200046
        ],
        [
         0.902196456756023,
         0.9514664060111884,
         0.9842772489701478,
         0.9132848613531942,
         0.9632850365748235,
         0.9471116056030822,
         0.9898899048214054,
         0.9382531174738761,
         0.8846290921148776,
         0.9061224376811382,
         0.9846250825758074,
         0.9615343240223154,
         0.9085788883529826,
         0.8506580998207064,
         0.9316586686023091,
         0.9182370072942392,
         1.0052802884313712,
         0.9151612603849945,
         0.9724418065882896,
         0.8227481308851013,
         0.974749857053847,
         0.9420007871125501,
         0.9431352077810607,
         1.0580773025447043,
         0.9322929920213829,
         0.9279548038204817,
         0.963836499195276,
         0.9950887328525732,
         0.8606978509092643,
         1.0029887805128614,
         0.9528866628789324,
         0.9716936865204704,
         0.9096357207454238,
         0.9482812408729243,
         0.9437821325529178,
         0.91300623271479,
         0.952231035021543,
         0.9192765740437585,
         0.9095458768496663,
         0.84910106934195,
         0.8562789584610283,
         0.8774195813799716,
         0.9539941342176186,
         0.9428225456790372,
         0.9639032170592036,
         1.0175285944656902,
         0.9480486324014662,
         0.8775894063702033,
         1.0246864781468514,
         0.8878224569746587,
         0.9368962578202586,
         0.932162044091893,
         0.9484555179050803,
         0.934904369948882,
         0.9375073511642115,
         0.9649894623247525,
         1.0558376729108123,
         0.9944870602909497,
         0.9868886042414005,
         0.8985154949238235,
         0.8191511381258684,
         0.8870790395201391,
         1.0588720589913525,
         0.8748502017653428,
         0.8804930065088467,
         0.9565271223349061,
         0.8512712479478816,
         0.9849966966068349,
         0.9466335784813724,
         0.9181455568176303,
         0.9709603296471425,
         1.000379857986455,
         0.9289055281985854,
         1.046527561621211,
         0.8923230678572242,
         0.8760764542314179,
         0.9916940022372995,
         0.9060123339492784,
         0.8934766184195092,
         0.8462683190150574,
         0.98306546691171,
         0.9381556420382068,
         0.872609524396723,
         0.9051522478782732,
         0.9247966210487771,
         0.9362788031070651,
         0.9324264434216069,
         0.877910422290174,
         1.0077677045422597,
         0.9771645512909386,
         0.9778561776816227,
         0.9598185966306246,
         0.9299682248835291,
         0.8827277036084179,
         0.8783387742489287,
         0.9410389571318751,
         0.892754941322026,
         0.9893603099612632,
         0.9639974502871511,
         0.9144287802751364
        ]
       ],
       "encoder": "json",
       "name": "ABC_GAN_3 Metrics",
       "version": 1
      }
     },
     "metadata": {
      "scrapbook": {
       "data": true,
       "display": false,
       "name": "ABC_GAN_3 Metrics"
      }
     },
     "output_type": "display_data"
    },
    {
     "name": "stdout",
     "output_type": "stream",
     "text": [
      "MSE\n",
      "0.04400679496233348\n"
     ]
    }
   ],
   "source": [
    "ABC_GAN3_metrics=ABC_train_test2.test_generator(gen3,test_data,prior_model,variance,0,\"3\",device)\n",
    "sb.glue(\"ABC_GAN_3 Metrics\",ABC_GAN3_metrics)\n",
    "\n",
    "print(\"MSE\")\n",
    "print(mean(ABC_GAN3_metrics[0]))"
   ]
  },
  {
   "cell_type": "code",
   "execution_count": 18,
   "id": "c8e46b48",
   "metadata": {
    "execution": {
     "iopub.execute_input": "2022-05-18T08:38:52.957258Z",
     "iopub.status.busy": "2022-05-18T08:38:52.956884Z",
     "iopub.status.idle": "2022-05-18T08:38:53.238760Z",
     "shell.execute_reply": "2022-05-18T08:38:53.239073Z"
    },
    "id": "c8e46b48",
    "papermill": {
     "duration": 0.301112,
     "end_time": "2022-05-18T08:38:53.239200",
     "exception": false,
     "start_time": "2022-05-18T08:38:52.938088",
     "status": "completed"
    },
    "tags": []
   },
   "outputs": [
    {
     "data": {
      "image/png": "[encoded data removed]",
      "text/plain": [
       "<Figure size 432x288 with 1 Axes>"
      ]
     },
     "metadata": {
      "needs_background": "light"
     },
     "output_type": "display_data"
    },
    {
     "data": {
      "image/png": "[encoded data removed]",
      "text/plain": [
       "<Figure size 432x288 with 1 Axes>"
      ]
     },
     "metadata": {
      "needs_background": "light"
     },
     "output_type": "display_data"
    },
    {
     "data": {
      "image/png": "[encoded data removed]",
      "text/plain": [
       "<Figure size 432x288 with 1 Axes>"
      ]
     },
     "metadata": {
      "needs_background": "light"
     },
     "output_type": "display_data"
    },
    {
     "data": {
      "image/png": "[encoded data removed]",
      "text/plain": [
       "<Figure size 432x288 with 1 Axes>"
      ]
     },
     "metadata": {
      "needs_background": "light"
     },
     "output_type": "display_data"
    }
   ],
   "source": [
    "sanityChecks.discProbVsError(train_data,disc3,device)\n",
    "sanityChecks.discProbVsError(test_data,disc3,device)"
   ]
  },
  {
   "cell_type": "markdown",
   "id": "a5bd74c3",
   "metadata": {
    "id": "a5bd74c3",
    "papermill": {
     "duration": 0.018762,
     "end_time": "2022-05-18T08:38:53.277224",
     "exception": false,
     "start_time": "2022-05-18T08:38:53.258462",
     "status": "completed"
    },
    "tags": []
   },
   "source": [
    "## Skip Connection Model Analysis - ABC-GAN "
   ]
  },
  {
   "cell_type": "markdown",
   "id": "5744a8bf",
   "metadata": {
    "id": "5744a8bf",
    "papermill": {
     "duration": 0.018551,
     "end_time": "2022-05-18T08:38:53.314412",
     "exception": false,
     "start_time": "2022-05-18T08:38:53.295861",
     "status": "completed"
    },
    "tags": []
   },
   "source": [
    "### Weight Analysis \n",
    "\n",
    "Study the weights of the skip connection layer\n",
    "\n",
    "Equation of the skip connection is \n",
    "\n",
    "$output = y_{gan} * w + y_{abc} * (1-w)$"
   ]
  },
  {
   "cell_type": "code",
   "execution_count": 19,
   "id": "52c31dea",
   "metadata": {
    "execution": {
     "iopub.execute_input": "2022-05-18T08:38:53.354784Z",
     "iopub.status.busy": "2022-05-18T08:38:53.354403Z",
     "iopub.status.idle": "2022-05-18T08:38:53.357880Z",
     "shell.execute_reply": "2022-05-18T08:38:53.358121Z"
    },
    "id": "52c31dea",
    "papermill": {
     "duration": 0.025304,
     "end_time": "2022-05-18T08:38:53.358267",
     "exception": false,
     "start_time": "2022-05-18T08:38:53.332963",
     "status": "completed"
    },
    "tags": []
   },
   "outputs": [
    {
     "name": "stdout",
     "output_type": "stream",
     "text": [
      "Weight of the node at skip connection\n",
      "Parameter containing:\n",
      "tensor([[0.4195]], requires_grad=True)\n"
     ]
    },
    {
     "data": {
      "application/scrapbook.scrap.json+json": {
       "data": 0.4195348620414734,
       "encoder": "json",
       "name": "Skip Connection Weight",
       "version": 1
      }
     },
     "metadata": {
      "scrapbook": {
       "data": true,
       "display": false,
       "name": "Skip Connection Weight"
      }
     },
     "output_type": "display_data"
    }
   ],
   "source": [
    "print(\"Weight of the node at skip connection\")\n",
    "for name,param in gen3.named_parameters():\n",
    "    if(name == \"skipNode.weight\"):\n",
    "        print(param)\n",
    "        sb.glue(\"Skip Connection Weight\",param.item())"
   ]
  }
 ],
 "metadata": {
  "colab": {
   "collapsed_sections": [],
   "name": "ABC_GAN_Model-Catboost_Pre-gen.ipynb",
   "provenance": []
  },
  "interpreter": {
   "hash": "31f2aee4e71d21fbe5cf8b01ff0e069b9275f58929596ceb00d14d90e3e16cd6"
  },
  "kernelspec": {
   "display_name": "Python 3 (ipykernel)",
   "language": "python",
   "name": "python3"
  },
  "language_info": {
   "codemirror_mode": {
    "name": "ipython",
    "version": 3
   },
   "file_extension": ".py",
   "mimetype": "text/x-python",
   "name": "python",
   "nbconvert_exporter": "python",
   "pygments_lexer": "ipython3",
   "version": "3.8.11"
  },
  "papermill": {
   "default_parameters": {},
   "duration": 54.774221,
   "end_time": "2022-05-18T08:38:53.685873",
   "environment_variables": {},
   "exception": null,
   "input_path": "ABC_GAN-Catboost.ipynb",
   "output_path": "./ABC_GAN_Catboost/ABC-GAN_output_6_1.ipynb",
   "parameters": {
    "variance": 0.1
   },
   "start_time": "2022-05-18T08:37:58.911652",
   "version": "2.3.3"
  }
 },
 "nbformat": 4,
 "nbformat_minor": 5
}