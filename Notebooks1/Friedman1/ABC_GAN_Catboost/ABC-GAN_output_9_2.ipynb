{
 "cells": [
  {
   "cell_type": "markdown",
   "id": "622780e6",
   "metadata": {
    "id": "622780e6",
    "papermill": {
     "duration": 0.028578,
     "end_time": "2022-05-18T08:47:42.931778",
     "exception": false,
     "start_time": "2022-05-18T08:47:42.903200",
     "status": "completed"
    },
    "tags": []
   },
   "source": [
    "## Import Libraries "
   ]
  },
  {
   "cell_type": "code",
   "execution_count": 1,
   "id": "a62397e3",
   "metadata": {
    "execution": {
     "iopub.execute_input": "2022-05-18T08:47:42.971043Z",
     "iopub.status.busy": "2022-05-18T08:47:42.965674Z",
     "iopub.status.idle": "2022-05-18T08:47:42.973622Z",
     "shell.execute_reply": "2022-05-18T08:47:42.974079Z"
    },
    "id": "a62397e3",
    "papermill": {
     "duration": 0.02458,
     "end_time": "2022-05-18T08:47:42.974313",
     "exception": false,
     "start_time": "2022-05-18T08:47:42.949733",
     "status": "completed"
    },
    "tags": []
   },
   "outputs": [],
   "source": [
    "import warnings\n",
    "import sys\n",
    "sys.path.insert(0, '../../src')\n",
    "warnings.filterwarnings('ignore')"
   ]
  },
  {
   "cell_type": "code",
   "execution_count": 2,
   "id": "d6a4e155",
   "metadata": {
    "execution": {
     "iopub.execute_input": "2022-05-18T08:47:42.996484Z",
     "iopub.status.busy": "2022-05-18T08:47:42.996083Z",
     "iopub.status.idle": "2022-05-18T08:47:44.575441Z",
     "shell.execute_reply": "2022-05-18T08:47:44.575677Z"
    },
    "id": "d6a4e155",
    "papermill": {
     "duration": 1.590888,
     "end_time": "2022-05-18T08:47:44.575813",
     "exception": false,
     "start_time": "2022-05-18T08:47:42.984925",
     "status": "completed"
    },
    "tags": []
   },
   "outputs": [],
   "source": [
    "import ABC_train_test2\n",
    "import friedman1Dataset\n",
    "import network\n",
    "import dataset\n",
    "import sanityChecks\n",
    "import torch \n",
    "import scrapbook as sb\n",
    "from statistics import mean \n",
    "import catboost as ctb \n",
    "from sklearn.model_selection import train_test_split\n",
    "from sklearn.metrics import mean_squared_error,mean_absolute_error\n",
    "import numpy as np"
   ]
  },
  {
   "cell_type": "markdown",
   "id": "2fa5b0f7",
   "metadata": {
    "id": "2fa5b0f7",
    "papermill": {
     "duration": 0.006777,
     "end_time": "2022-05-18T08:47:44.589919",
     "exception": false,
     "start_time": "2022-05-18T08:47:44.583142",
     "status": "completed"
    },
    "tags": []
   },
   "source": [
    "## Parameters "
   ]
  },
  {
   "cell_type": "code",
   "execution_count": 3,
   "id": "783186fb",
   "metadata": {
    "execution": {
     "iopub.execute_input": "2022-05-18T08:47:44.605761Z",
     "iopub.status.busy": "2022-05-18T08:47:44.605381Z",
     "iopub.status.idle": "2022-05-18T08:47:44.606638Z",
     "shell.execute_reply": "2022-05-18T08:47:44.606888Z"
    },
    "id": "783186fb",
    "papermill": {
     "duration": 0.010361,
     "end_time": "2022-05-18T08:47:44.607004",
     "exception": false,
     "start_time": "2022-05-18T08:47:44.596643",
     "status": "completed"
    },
    "tags": [
     "parameters"
    ]
   },
   "outputs": [],
   "source": [
    "variance = 1"
   ]
  },
  {
   "cell_type": "code",
   "execution_count": 4,
   "id": "1591e6f3",
   "metadata": {
    "execution": {
     "iopub.execute_input": "2022-05-18T08:47:44.622463Z",
     "iopub.status.busy": "2022-05-18T08:47:44.622119Z",
     "iopub.status.idle": "2022-05-18T08:47:44.623415Z",
     "shell.execute_reply": "2022-05-18T08:47:44.623657Z"
    },
    "papermill": {
     "duration": 0.009869,
     "end_time": "2022-05-18T08:47:44.623763",
     "exception": false,
     "start_time": "2022-05-18T08:47:44.613894",
     "status": "completed"
    },
    "tags": [
     "injected-parameters"
    ]
   },
   "outputs": [],
   "source": [
    "# Parameters\n",
    "variance = 0.01\n"
   ]
  },
  {
   "cell_type": "markdown",
   "id": "391cdbfd",
   "metadata": {
    "id": "391cdbfd",
    "papermill": {
     "duration": 0.006723,
     "end_time": "2022-05-18T08:47:44.637321",
     "exception": false,
     "start_time": "2022-05-18T08:47:44.630598",
     "status": "completed"
    },
    "tags": []
   },
   "source": [
    "## Dataset \n"
   ]
  },
  {
   "cell_type": "code",
   "execution_count": 5,
   "id": "5b51f161",
   "metadata": {
    "execution": {
     "iopub.execute_input": "2022-05-18T08:47:44.652673Z",
     "iopub.status.busy": "2022-05-18T08:47:44.652325Z",
     "iopub.status.idle": "2022-05-18T08:47:44.653640Z",
     "shell.execute_reply": "2022-05-18T08:47:44.653878Z"
    },
    "id": "5b51f161",
    "papermill": {
     "duration": 0.009921,
     "end_time": "2022-05-18T08:47:44.653982",
     "exception": false,
     "start_time": "2022-05-18T08:47:44.644061",
     "status": "completed"
    },
    "tags": []
   },
   "outputs": [],
   "source": [
    "#Parameters \n",
    "n_features = 5\n",
    "n_samples= 100\n",
    "n_target = 1 "
   ]
  },
  {
   "cell_type": "code",
   "execution_count": 6,
   "id": "5d6eced4",
   "metadata": {
    "execution": {
     "iopub.execute_input": "2022-05-18T08:47:44.670588Z",
     "iopub.status.busy": "2022-05-18T08:47:44.669308Z",
     "iopub.status.idle": "2022-05-18T08:47:44.675175Z",
     "shell.execute_reply": "2022-05-18T08:47:44.675459Z"
    },
    "id": "5d6eced4",
    "papermill": {
     "duration": 0.01474,
     "end_time": "2022-05-18T08:47:44.675577",
     "exception": false,
     "start_time": "2022-05-18T08:47:44.660837",
     "status": "completed"
    },
    "tags": []
   },
   "outputs": [
    {
     "name": "stdout",
     "output_type": "stream",
     "text": [
      "         X0        X1        X2        X3        X4         Y\n",
      "0 -0.326008 -1.737837 -0.702677  1.086464 -0.302185 -0.615832\n",
      "1  1.452199  1.010958 -0.691886  0.071580 -0.495841  0.066486\n",
      "2 -0.741719  0.203640  1.730038  1.244398  0.891075  1.588453\n",
      "3  0.490401  0.179889 -0.047491 -0.179847  0.128417  0.383988\n",
      "4  1.570637 -0.694559 -0.629128 -0.267624  0.299279  0.314739\n"
     ]
    }
   ],
   "source": [
    "X,Y = friedman1Dataset.friedman1_data(n_samples,n_features)"
   ]
  },
  {
   "cell_type": "code",
   "execution_count": 7,
   "id": "fe007438",
   "metadata": {
    "execution": {
     "iopub.execute_input": "2022-05-18T08:47:44.692631Z",
     "iopub.status.busy": "2022-05-18T08:47:44.692255Z",
     "iopub.status.idle": "2022-05-18T08:47:44.693550Z",
     "shell.execute_reply": "2022-05-18T08:47:44.693786Z"
    },
    "id": "fe007438",
    "papermill": {
     "duration": 0.011042,
     "end_time": "2022-05-18T08:47:44.693901",
     "exception": false,
     "start_time": "2022-05-18T08:47:44.682859",
     "status": "completed"
    },
    "tags": []
   },
   "outputs": [],
   "source": [
    "#Train test split for dataset \n",
    "X_train,X_test,Y_train,Y_test = train_test_split(X,Y,test_size = 0.2)\n",
    "train_data = dataset.CustomDataset(X_train,Y_train)\n",
    "test_data = dataset.CustomDataset(X_test,Y_test)\n"
   ]
  },
  {
   "cell_type": "markdown",
   "id": "a9a1af34",
   "metadata": {
    "id": "a9a1af34",
    "papermill": {
     "duration": 0.007194,
     "end_time": "2022-05-18T08:47:44.708451",
     "exception": false,
     "start_time": "2022-05-18T08:47:44.701257",
     "status": "completed"
    },
    "tags": []
   },
   "source": [
    "## Training Parameters "
   ]
  },
  {
   "cell_type": "code",
   "execution_count": 8,
   "id": "952b7fc8",
   "metadata": {
    "execution": {
     "iopub.execute_input": "2022-05-18T08:47:44.725637Z",
     "iopub.status.busy": "2022-05-18T08:47:44.725274Z",
     "iopub.status.idle": "2022-05-18T08:47:44.726497Z",
     "shell.execute_reply": "2022-05-18T08:47:44.726733Z"
    },
    "id": "952b7fc8",
    "papermill": {
     "duration": 0.010978,
     "end_time": "2022-05-18T08:47:44.726846",
     "exception": false,
     "start_time": "2022-05-18T08:47:44.715868",
     "status": "completed"
    },
    "tags": []
   },
   "outputs": [],
   "source": [
    "batch_size = 32\n",
    "n_epochs = 1000\n",
    "#Select the device \n",
    "device = torch.device('cuda' if torch.cuda.is_available() else 'cpu')"
   ]
  },
  {
   "cell_type": "markdown",
   "id": "a95e1600",
   "metadata": {
    "id": "a95e1600",
    "papermill": {
     "duration": 0.007067,
     "end_time": "2022-05-18T08:47:44.741148",
     "exception": false,
     "start_time": "2022-05-18T08:47:44.734081",
     "status": "completed"
    },
    "tags": []
   },
   "source": [
    "# ABC Pre-generator Model \n",
    "\n",
    "1. The catboost model is used as a pre-generator model for the ABC-GAN. \n",
    "2. The model is first trained on the entire dataset \n",
    "3. It generats X,Y pairs and we add some Gaussian noise with mean 0 and variance 1 to it which is then feed as input to the generator.\n"
   ]
  },
  {
   "cell_type": "code",
   "execution_count": 9,
   "id": "ff8ce7bd",
   "metadata": {
    "execution": {
     "iopub.execute_input": "2022-05-18T08:47:44.760146Z",
     "iopub.status.busy": "2022-05-18T08:47:44.759759Z",
     "iopub.status.idle": "2022-05-18T08:47:45.416374Z",
     "shell.execute_reply": "2022-05-18T08:47:45.416627Z"
    },
    "id": "ff8ce7bd",
    "papermill": {
     "duration": 0.66844,
     "end_time": "2022-05-18T08:47:45.416755",
     "exception": false,
     "start_time": "2022-05-18T08:47:44.748315",
     "status": "completed"
    },
    "tags": []
   },
   "outputs": [
    {
     "name": "stdout",
     "output_type": "stream",
     "text": [
      "Learning rate set to 0.024897\n",
      "0:\tlearn: 1.0112131\ttotal: 57.6ms\tremaining: 57.5s\n",
      "1:\tlearn: 1.0026108\ttotal: 58.2ms\tremaining: 29s\n",
      "2:\tlearn: 0.9934898\ttotal: 58.8ms\tremaining: 19.5s\n",
      "3:\tlearn: 0.9832416\ttotal: 59.3ms\tremaining: 14.8s\n",
      "4:\tlearn: 0.9743335\ttotal: 59.9ms\tremaining: 11.9s\n",
      "5:\tlearn: 0.9651122\ttotal: 60.5ms\tremaining: 10s\n",
      "6:\tlearn: 0.9544935\ttotal: 60.9ms\tremaining: 8.64s\n",
      "7:\tlearn: 0.9454705\ttotal: 61.5ms\tremaining: 7.63s\n",
      "8:\tlearn: 0.9378302\ttotal: 62ms\tremaining: 6.83s\n",
      "9:\tlearn: 0.9295203\ttotal: 62.5ms\tremaining: 6.19s\n",
      "10:\tlearn: 0.9205145\ttotal: 63ms\tremaining: 5.66s\n",
      "11:\tlearn: 0.9110389\ttotal: 63.6ms\tremaining: 5.23s\n",
      "12:\tlearn: 0.9021653\ttotal: 64.1ms\tremaining: 4.87s\n",
      "13:\tlearn: 0.8934166\ttotal: 64.6ms\tremaining: 4.55s\n",
      "14:\tlearn: 0.8858774\ttotal: 65.1ms\tremaining: 4.27s\n",
      "15:\tlearn: 0.8795547\ttotal: 65.5ms\tremaining: 4.03s\n",
      "16:\tlearn: 0.8725939\ttotal: 65.9ms\tremaining: 3.81s\n",
      "17:\tlearn: 0.8659054\ttotal: 67ms\tremaining: 3.66s\n",
      "18:\tlearn: 0.8585306\ttotal: 67.5ms\tremaining: 3.48s\n",
      "19:\tlearn: 0.8503691\ttotal: 68ms\tremaining: 3.33s\n",
      "20:\tlearn: 0.8435901\ttotal: 68.5ms\tremaining: 3.19s\n",
      "21:\tlearn: 0.8359871\ttotal: 68.9ms\tremaining: 3.06s\n",
      "22:\tlearn: 0.8271548\ttotal: 69.3ms\tremaining: 2.94s\n",
      "23:\tlearn: 0.8196709\ttotal: 69.8ms\tremaining: 2.84s\n",
      "24:\tlearn: 0.8129090\ttotal: 70.2ms\tremaining: 2.74s\n",
      "25:\tlearn: 0.8069394\ttotal: 70.7ms\tremaining: 2.65s\n",
      "26:\tlearn: 0.8007175\ttotal: 71.2ms\tremaining: 2.56s\n",
      "27:\tlearn: 0.7925983\ttotal: 71.6ms\tremaining: 2.48s\n",
      "28:\tlearn: 0.7852017\ttotal: 72ms\tremaining: 2.41s\n",
      "29:\tlearn: 0.7783685\ttotal: 72.3ms\tremaining: 2.34s\n",
      "30:\tlearn: 0.7707008\ttotal: 72.8ms\tremaining: 2.27s\n",
      "31:\tlearn: 0.7646480\ttotal: 73.2ms\tremaining: 2.21s\n",
      "32:\tlearn: 0.7583957\ttotal: 73.7ms\tremaining: 2.16s\n",
      "33:\tlearn: 0.7521127\ttotal: 74.3ms\tremaining: 2.11s\n",
      "34:\tlearn: 0.7452051\ttotal: 74.7ms\tremaining: 2.06s\n",
      "35:\tlearn: 0.7407907\ttotal: 75.1ms\tremaining: 2.01s\n",
      "36:\tlearn: 0.7347985\ttotal: 75.5ms\tremaining: 1.96s\n",
      "37:\tlearn: 0.7279859\ttotal: 76ms\tremaining: 1.92s\n",
      "38:\tlearn: 0.7219286\ttotal: 76.5ms\tremaining: 1.88s\n",
      "39:\tlearn: 0.7157605\ttotal: 82ms\tremaining: 1.97s\n",
      "40:\tlearn: 0.7098763\ttotal: 82.4ms\tremaining: 1.93s\n",
      "41:\tlearn: 0.7040805\ttotal: 82.8ms\tremaining: 1.89s\n",
      "42:\tlearn: 0.6975840\ttotal: 83.3ms\tremaining: 1.85s\n",
      "43:\tlearn: 0.6891830\ttotal: 83.7ms\tremaining: 1.82s\n",
      "44:\tlearn: 0.6842486\ttotal: 84.1ms\tremaining: 1.78s\n",
      "45:\tlearn: 0.6792454\ttotal: 84.4ms\tremaining: 1.75s\n",
      "46:\tlearn: 0.6738011\ttotal: 84.8ms\tremaining: 1.72s\n",
      "47:\tlearn: 0.6683968\ttotal: 85.3ms\tremaining: 1.69s\n",
      "48:\tlearn: 0.6624720\ttotal: 85.7ms\tremaining: 1.66s\n",
      "49:\tlearn: 0.6568619\ttotal: 86.2ms\tremaining: 1.64s\n",
      "50:\tlearn: 0.6514098\ttotal: 86.7ms\tremaining: 1.61s\n",
      "51:\tlearn: 0.6457277\ttotal: 87.1ms\tremaining: 1.59s\n",
      "52:\tlearn: 0.6394472\ttotal: 87.5ms\tremaining: 1.56s\n",
      "53:\tlearn: 0.6340744\ttotal: 87.9ms\tremaining: 1.54s\n",
      "54:\tlearn: 0.6295914\ttotal: 88.4ms\tremaining: 1.52s\n",
      "55:\tlearn: 0.6251195\ttotal: 89ms\tremaining: 1.5s\n",
      "56:\tlearn: 0.6193277\ttotal: 89.5ms\tremaining: 1.48s\n",
      "57:\tlearn: 0.6150009\ttotal: 89.9ms\tremaining: 1.46s\n",
      "58:\tlearn: 0.6091809\ttotal: 90.4ms\tremaining: 1.44s\n",
      "59:\tlearn: 0.6047956\ttotal: 90.9ms\tremaining: 1.42s\n",
      "60:\tlearn: 0.6001807\ttotal: 91.4ms\tremaining: 1.41s\n",
      "61:\tlearn: 0.5950065\ttotal: 91.9ms\tremaining: 1.39s\n",
      "62:\tlearn: 0.5896643\ttotal: 92.4ms\tremaining: 1.37s\n",
      "63:\tlearn: 0.5842249\ttotal: 92.9ms\tremaining: 1.36s\n",
      "64:\tlearn: 0.5791338\ttotal: 93.3ms\tremaining: 1.34s\n",
      "65:\tlearn: 0.5747331\ttotal: 94ms\tremaining: 1.33s\n",
      "66:\tlearn: 0.5692878\ttotal: 94.5ms\tremaining: 1.32s\n",
      "67:\tlearn: 0.5646725\ttotal: 95ms\tremaining: 1.3s\n",
      "68:\tlearn: 0.5603517\ttotal: 95.7ms\tremaining: 1.29s\n",
      "69:\tlearn: 0.5554132\ttotal: 96.2ms\tremaining: 1.28s\n",
      "70:\tlearn: 0.5508242\ttotal: 96.6ms\tremaining: 1.26s\n",
      "71:\tlearn: 0.5456305\ttotal: 97ms\tremaining: 1.25s\n",
      "72:\tlearn: 0.5408928\ttotal: 97.5ms\tremaining: 1.24s\n",
      "73:\tlearn: 0.5362424\ttotal: 98.1ms\tremaining: 1.23s\n",
      "74:\tlearn: 0.5322137\ttotal: 98.5ms\tremaining: 1.21s\n",
      "75:\tlearn: 0.5287322\ttotal: 98.9ms\tremaining: 1.2s\n",
      "76:\tlearn: 0.5243958\ttotal: 99.4ms\tremaining: 1.19s\n",
      "77:\tlearn: 0.5207246\ttotal: 99.8ms\tremaining: 1.18s\n",
      "78:\tlearn: 0.5171877\ttotal: 100ms\tremaining: 1.17s\n",
      "79:\tlearn: 0.5132780\ttotal: 101ms\tremaining: 1.16s\n",
      "80:\tlearn: 0.5088980\ttotal: 101ms\tremaining: 1.15s\n",
      "81:\tlearn: 0.5050563\ttotal: 102ms\tremaining: 1.14s\n",
      "82:\tlearn: 0.5015855\ttotal: 102ms\tremaining: 1.13s\n",
      "83:\tlearn: 0.4981922\ttotal: 103ms\tremaining: 1.12s\n",
      "84:\tlearn: 0.4944278\ttotal: 103ms\tremaining: 1.11s\n",
      "85:\tlearn: 0.4907691\ttotal: 104ms\tremaining: 1.1s\n",
      "86:\tlearn: 0.4875321\ttotal: 104ms\tremaining: 1.1s\n",
      "87:\tlearn: 0.4833694\ttotal: 105ms\tremaining: 1.09s\n",
      "88:\tlearn: 0.4787660\ttotal: 105ms\tremaining: 1.08s\n",
      "89:\tlearn: 0.4755333\ttotal: 106ms\tremaining: 1.07s\n"
     ]
    },
    {
     "name": "stdout",
     "output_type": "stream",
     "text": [
      "90:\tlearn: 0.4719858\ttotal: 107ms\tremaining: 1.06s\n",
      "91:\tlearn: 0.4681534\ttotal: 107ms\tremaining: 1.06s\n",
      "92:\tlearn: 0.4647936\ttotal: 108ms\tremaining: 1.05s\n",
      "93:\tlearn: 0.4609417\ttotal: 108ms\tremaining: 1.04s\n",
      "94:\tlearn: 0.4569221\ttotal: 108ms\tremaining: 1.03s\n",
      "95:\tlearn: 0.4533135\ttotal: 109ms\tremaining: 1.02s\n",
      "96:\tlearn: 0.4504062\ttotal: 109ms\tremaining: 1.02s\n",
      "97:\tlearn: 0.4473271\ttotal: 110ms\tremaining: 1.01s\n",
      "98:\tlearn: 0.4433272\ttotal: 110ms\tremaining: 1s\n",
      "99:\tlearn: 0.4401223\ttotal: 111ms\tremaining: 997ms\n",
      "100:\tlearn: 0.4364757\ttotal: 111ms\tremaining: 989ms\n",
      "101:\tlearn: 0.4334224\ttotal: 112ms\tremaining: 982ms\n",
      "102:\tlearn: 0.4296278\ttotal: 112ms\tremaining: 975ms\n",
      "103:\tlearn: 0.4262553\ttotal: 112ms\tremaining: 969ms\n",
      "104:\tlearn: 0.4222309\ttotal: 113ms\tremaining: 962ms\n",
      "105:\tlearn: 0.4190074\ttotal: 113ms\tremaining: 956ms\n",
      "106:\tlearn: 0.4158940\ttotal: 114ms\tremaining: 950ms\n",
      "107:\tlearn: 0.4128498\ttotal: 116ms\tremaining: 954ms\n",
      "108:\tlearn: 0.4091582\ttotal: 116ms\tremaining: 947ms\n",
      "109:\tlearn: 0.4064674\ttotal: 116ms\tremaining: 941ms\n",
      "110:\tlearn: 0.4038852\ttotal: 117ms\tremaining: 934ms\n",
      "111:\tlearn: 0.4010500\ttotal: 117ms\tremaining: 929ms\n",
      "112:\tlearn: 0.3986626\ttotal: 118ms\tremaining: 923ms\n",
      "113:\tlearn: 0.3948882\ttotal: 118ms\tremaining: 917ms\n",
      "114:\tlearn: 0.3923394\ttotal: 119ms\tremaining: 912ms\n",
      "115:\tlearn: 0.3894648\ttotal: 119ms\tremaining: 908ms\n",
      "116:\tlearn: 0.3865801\ttotal: 120ms\tremaining: 902ms\n",
      "117:\tlearn: 0.3838126\ttotal: 120ms\tremaining: 897ms\n",
      "118:\tlearn: 0.3808000\ttotal: 120ms\tremaining: 891ms\n",
      "119:\tlearn: 0.3783363\ttotal: 121ms\tremaining: 885ms\n",
      "120:\tlearn: 0.3753599\ttotal: 121ms\tremaining: 880ms\n",
      "121:\tlearn: 0.3729180\ttotal: 122ms\tremaining: 876ms\n",
      "122:\tlearn: 0.3703700\ttotal: 122ms\tremaining: 871ms\n",
      "123:\tlearn: 0.3675924\ttotal: 123ms\tremaining: 866ms\n",
      "124:\tlearn: 0.3648929\ttotal: 123ms\tremaining: 862ms\n",
      "125:\tlearn: 0.3626121\ttotal: 124ms\tremaining: 858ms\n",
      "126:\tlearn: 0.3602057\ttotal: 124ms\tremaining: 853ms\n",
      "127:\tlearn: 0.3571407\ttotal: 125ms\tremaining: 849ms\n",
      "128:\tlearn: 0.3549650\ttotal: 125ms\tremaining: 845ms\n",
      "129:\tlearn: 0.3527737\ttotal: 126ms\tremaining: 840ms\n",
      "130:\tlearn: 0.3509372\ttotal: 126ms\tremaining: 836ms\n",
      "131:\tlearn: 0.3484229\ttotal: 126ms\tremaining: 832ms\n",
      "132:\tlearn: 0.3462392\ttotal: 127ms\tremaining: 828ms\n",
      "133:\tlearn: 0.3438497\ttotal: 128ms\tremaining: 824ms\n",
      "134:\tlearn: 0.3415319\ttotal: 128ms\tremaining: 820ms\n",
      "135:\tlearn: 0.3396262\ttotal: 129ms\tremaining: 816ms\n",
      "136:\tlearn: 0.3367878\ttotal: 129ms\tremaining: 813ms\n",
      "137:\tlearn: 0.3346071\ttotal: 130ms\tremaining: 809ms\n",
      "138:\tlearn: 0.3324517\ttotal: 130ms\tremaining: 805ms\n",
      "139:\tlearn: 0.3300860\ttotal: 131ms\tremaining: 802ms\n",
      "140:\tlearn: 0.3278348\ttotal: 131ms\tremaining: 799ms\n",
      "141:\tlearn: 0.3251256\ttotal: 132ms\tremaining: 796ms\n",
      "142:\tlearn: 0.3219568\ttotal: 132ms\tremaining: 792ms\n",
      "143:\tlearn: 0.3195150\ttotal: 133ms\tremaining: 789ms\n",
      "144:\tlearn: 0.3171455\ttotal: 133ms\tremaining: 785ms\n",
      "145:\tlearn: 0.3143339\ttotal: 134ms\tremaining: 781ms\n",
      "146:\tlearn: 0.3120997\ttotal: 134ms\tremaining: 777ms\n",
      "147:\tlearn: 0.3096976\ttotal: 134ms\tremaining: 774ms\n",
      "148:\tlearn: 0.3071718\ttotal: 135ms\tremaining: 771ms\n",
      "149:\tlearn: 0.3049673\ttotal: 136ms\tremaining: 768ms\n",
      "150:\tlearn: 0.3029489\ttotal: 136ms\tremaining: 765ms\n",
      "151:\tlearn: 0.3011103\ttotal: 136ms\tremaining: 761ms\n",
      "152:\tlearn: 0.2990344\ttotal: 137ms\tremaining: 758ms\n",
      "153:\tlearn: 0.2971818\ttotal: 137ms\tremaining: 755ms\n",
      "154:\tlearn: 0.2954371\ttotal: 138ms\tremaining: 751ms\n",
      "155:\tlearn: 0.2934985\ttotal: 138ms\tremaining: 747ms\n",
      "156:\tlearn: 0.2912430\ttotal: 138ms\tremaining: 743ms\n",
      "157:\tlearn: 0.2893863\ttotal: 139ms\tremaining: 740ms\n",
      "158:\tlearn: 0.2873639\ttotal: 139ms\tremaining: 736ms\n",
      "159:\tlearn: 0.2850029\ttotal: 140ms\tremaining: 732ms\n",
      "160:\tlearn: 0.2830780\ttotal: 140ms\tremaining: 729ms\n",
      "161:\tlearn: 0.2807240\ttotal: 140ms\tremaining: 725ms\n",
      "162:\tlearn: 0.2783403\ttotal: 141ms\tremaining: 722ms\n",
      "163:\tlearn: 0.2760603\ttotal: 141ms\tremaining: 719ms\n",
      "164:\tlearn: 0.2743912\ttotal: 141ms\tremaining: 715ms\n",
      "165:\tlearn: 0.2730749\ttotal: 142ms\tremaining: 712ms\n",
      "166:\tlearn: 0.2710747\ttotal: 142ms\tremaining: 710ms\n",
      "167:\tlearn: 0.2689689\ttotal: 143ms\tremaining: 706ms\n",
      "168:\tlearn: 0.2670685\ttotal: 143ms\tremaining: 703ms\n",
      "169:\tlearn: 0.2654722\ttotal: 143ms\tremaining: 700ms\n",
      "170:\tlearn: 0.2638556\ttotal: 144ms\tremaining: 697ms\n",
      "171:\tlearn: 0.2619687\ttotal: 144ms\tremaining: 695ms\n",
      "172:\tlearn: 0.2601133\ttotal: 145ms\tremaining: 692ms\n",
      "173:\tlearn: 0.2584371\ttotal: 145ms\tremaining: 689ms\n",
      "174:\tlearn: 0.2566352\ttotal: 146ms\tremaining: 686ms\n",
      "175:\tlearn: 0.2551642\ttotal: 146ms\tremaining: 683ms\n",
      "176:\tlearn: 0.2535185\ttotal: 146ms\tremaining: 681ms\n",
      "177:\tlearn: 0.2516503\ttotal: 147ms\tremaining: 679ms\n",
      "178:\tlearn: 0.2498237\ttotal: 147ms\tremaining: 676ms\n",
      "179:\tlearn: 0.2481416\ttotal: 148ms\tremaining: 674ms\n",
      "180:\tlearn: 0.2466607\ttotal: 149ms\tremaining: 672ms\n",
      "181:\tlearn: 0.2452528\ttotal: 149ms\tremaining: 670ms\n",
      "182:\tlearn: 0.2432047\ttotal: 150ms\tremaining: 668ms\n",
      "183:\tlearn: 0.2416561\ttotal: 150ms\tremaining: 666ms\n",
      "184:\tlearn: 0.2400755\ttotal: 151ms\tremaining: 663ms\n",
      "185:\tlearn: 0.2382302\ttotal: 151ms\tremaining: 661ms\n",
      "186:\tlearn: 0.2365142\ttotal: 152ms\tremaining: 660ms\n",
      "187:\tlearn: 0.2351704\ttotal: 152ms\tremaining: 657ms\n",
      "188:\tlearn: 0.2340183\ttotal: 153ms\tremaining: 655ms\n",
      "189:\tlearn: 0.2327328\ttotal: 153ms\tremaining: 653ms\n",
      "190:\tlearn: 0.2310847\ttotal: 154ms\tremaining: 651ms\n",
      "191:\tlearn: 0.2293465\ttotal: 154ms\tremaining: 648ms\n",
      "192:\tlearn: 0.2278048\ttotal: 154ms\tremaining: 646ms\n",
      "193:\tlearn: 0.2264263\ttotal: 155ms\tremaining: 643ms\n",
      "194:\tlearn: 0.2249211\ttotal: 156ms\tremaining: 642ms\n",
      "195:\tlearn: 0.2232951\ttotal: 156ms\tremaining: 640ms\n",
      "196:\tlearn: 0.2218629\ttotal: 156ms\tremaining: 638ms\n",
      "197:\tlearn: 0.2197931\ttotal: 157ms\tremaining: 635ms\n",
      "198:\tlearn: 0.2186223\ttotal: 157ms\tremaining: 633ms\n",
      "199:\tlearn: 0.2170653\ttotal: 158ms\tremaining: 632ms\n",
      "200:\tlearn: 0.2158104\ttotal: 158ms\tremaining: 630ms\n",
      "201:\tlearn: 0.2142287\ttotal: 159ms\tremaining: 628ms\n",
      "202:\tlearn: 0.2125504\ttotal: 159ms\tremaining: 626ms\n",
      "203:\tlearn: 0.2108763\ttotal: 160ms\tremaining: 624ms\n",
      "204:\tlearn: 0.2093381\ttotal: 160ms\tremaining: 622ms\n",
      "205:\tlearn: 0.2078082\ttotal: 161ms\tremaining: 620ms\n",
      "206:\tlearn: 0.2065365\ttotal: 161ms\tremaining: 618ms\n",
      "207:\tlearn: 0.2053943\ttotal: 162ms\tremaining: 616ms\n",
      "208:\tlearn: 0.2038342\ttotal: 162ms\tremaining: 614ms\n",
      "209:\tlearn: 0.2024637\ttotal: 163ms\tremaining: 611ms\n",
      "210:\tlearn: 0.2012836\ttotal: 163ms\tremaining: 609ms\n",
      "211:\tlearn: 0.2000448\ttotal: 163ms\tremaining: 607ms\n",
      "212:\tlearn: 0.1988840\ttotal: 164ms\tremaining: 605ms\n",
      "213:\tlearn: 0.1975132\ttotal: 164ms\tremaining: 603ms\n",
      "214:\tlearn: 0.1962668\ttotal: 165ms\tremaining: 602ms\n",
      "215:\tlearn: 0.1947273\ttotal: 165ms\tremaining: 600ms\n",
      "216:\tlearn: 0.1934470\ttotal: 166ms\tremaining: 598ms\n",
      "217:\tlearn: 0.1919870\ttotal: 166ms\tremaining: 596ms\n",
      "218:\tlearn: 0.1905087\ttotal: 167ms\tremaining: 595ms\n",
      "219:\tlearn: 0.1891916\ttotal: 167ms\tremaining: 592ms\n",
      "220:\tlearn: 0.1878163\ttotal: 168ms\tremaining: 591ms\n",
      "221:\tlearn: 0.1868354\ttotal: 174ms\tremaining: 608ms\n",
      "222:\tlearn: 0.1853954\ttotal: 174ms\tremaining: 606ms\n",
      "223:\tlearn: 0.1840830\ttotal: 177ms\tremaining: 615ms\n",
      "224:\tlearn: 0.1826378\ttotal: 178ms\tremaining: 613ms\n",
      "225:\tlearn: 0.1813250\ttotal: 178ms\tremaining: 611ms\n",
      "226:\tlearn: 0.1802097\ttotal: 179ms\tremaining: 609ms\n",
      "227:\tlearn: 0.1788624\ttotal: 180ms\tremaining: 608ms\n",
      "228:\tlearn: 0.1780216\ttotal: 180ms\tremaining: 606ms\n",
      "229:\tlearn: 0.1768475\ttotal: 180ms\tremaining: 604ms\n",
      "230:\tlearn: 0.1754369\ttotal: 181ms\tremaining: 602ms\n",
      "231:\tlearn: 0.1740635\ttotal: 181ms\tremaining: 601ms\n",
      "232:\tlearn: 0.1730031\ttotal: 182ms\tremaining: 599ms\n",
      "233:\tlearn: 0.1715077\ttotal: 183ms\tremaining: 597ms\n",
      "234:\tlearn: 0.1704010\ttotal: 183ms\tremaining: 596ms\n",
      "235:\tlearn: 0.1689941\ttotal: 183ms\tremaining: 593ms\n",
      "236:\tlearn: 0.1678667\ttotal: 184ms\tremaining: 592ms\n",
      "237:\tlearn: 0.1669117\ttotal: 184ms\tremaining: 590ms\n",
      "238:\tlearn: 0.1657792\ttotal: 185ms\tremaining: 589ms\n",
      "239:\tlearn: 0.1646049\ttotal: 185ms\tremaining: 587ms\n",
      "240:\tlearn: 0.1633994\ttotal: 186ms\tremaining: 585ms\n",
      "241:\tlearn: 0.1622892\ttotal: 186ms\tremaining: 583ms\n",
      "242:\tlearn: 0.1611507\ttotal: 187ms\tremaining: 581ms\n"
     ]
    },
    {
     "name": "stdout",
     "output_type": "stream",
     "text": [
      "243:\tlearn: 0.1600450\ttotal: 187ms\tremaining: 581ms\n",
      "244:\tlearn: 0.1587379\ttotal: 188ms\tremaining: 580ms\n",
      "245:\tlearn: 0.1576898\ttotal: 189ms\tremaining: 578ms\n",
      "246:\tlearn: 0.1565216\ttotal: 189ms\tremaining: 576ms\n",
      "247:\tlearn: 0.1554304\ttotal: 189ms\tremaining: 574ms\n",
      "248:\tlearn: 0.1543865\ttotal: 190ms\tremaining: 573ms\n",
      "249:\tlearn: 0.1532538\ttotal: 190ms\tremaining: 571ms\n",
      "250:\tlearn: 0.1522748\ttotal: 191ms\tremaining: 569ms\n",
      "251:\tlearn: 0.1513403\ttotal: 191ms\tremaining: 567ms\n",
      "252:\tlearn: 0.1503289\ttotal: 191ms\tremaining: 565ms\n",
      "253:\tlearn: 0.1493177\ttotal: 192ms\tremaining: 563ms\n",
      "254:\tlearn: 0.1483706\ttotal: 192ms\tremaining: 562ms\n",
      "255:\tlearn: 0.1473661\ttotal: 193ms\tremaining: 560ms\n",
      "256:\tlearn: 0.1464387\ttotal: 193ms\tremaining: 558ms\n",
      "257:\tlearn: 0.1455116\ttotal: 194ms\tremaining: 557ms\n",
      "258:\tlearn: 0.1449635\ttotal: 194ms\tremaining: 555ms\n",
      "259:\tlearn: 0.1439277\ttotal: 194ms\tremaining: 553ms\n",
      "260:\tlearn: 0.1430116\ttotal: 195ms\tremaining: 552ms\n",
      "261:\tlearn: 0.1420029\ttotal: 195ms\tremaining: 550ms\n",
      "262:\tlearn: 0.1410459\ttotal: 196ms\tremaining: 549ms\n",
      "263:\tlearn: 0.1402663\ttotal: 196ms\tremaining: 547ms\n",
      "264:\tlearn: 0.1393576\ttotal: 197ms\tremaining: 546ms\n",
      "265:\tlearn: 0.1384131\ttotal: 197ms\tremaining: 544ms\n",
      "266:\tlearn: 0.1374392\ttotal: 198ms\tremaining: 543ms\n",
      "267:\tlearn: 0.1366292\ttotal: 198ms\tremaining: 542ms\n",
      "268:\tlearn: 0.1358254\ttotal: 199ms\tremaining: 540ms\n",
      "269:\tlearn: 0.1349629\ttotal: 206ms\tremaining: 557ms\n",
      "270:\tlearn: 0.1340127\ttotal: 207ms\tremaining: 556ms\n",
      "271:\tlearn: 0.1331628\ttotal: 207ms\tremaining: 555ms\n",
      "272:\tlearn: 0.1327292\ttotal: 208ms\tremaining: 553ms\n",
      "273:\tlearn: 0.1322248\ttotal: 208ms\tremaining: 552ms\n",
      "274:\tlearn: 0.1317245\ttotal: 209ms\tremaining: 551ms\n",
      "275:\tlearn: 0.1308844\ttotal: 209ms\tremaining: 549ms\n",
      "276:\tlearn: 0.1300256\ttotal: 210ms\tremaining: 548ms\n",
      "277:\tlearn: 0.1295237\ttotal: 210ms\tremaining: 546ms\n",
      "278:\tlearn: 0.1291602\ttotal: 211ms\tremaining: 545ms\n",
      "279:\tlearn: 0.1283398\ttotal: 211ms\tremaining: 543ms\n",
      "280:\tlearn: 0.1274777\ttotal: 212ms\tremaining: 541ms\n",
      "281:\tlearn: 0.1268693\ttotal: 212ms\tremaining: 540ms\n",
      "282:\tlearn: 0.1257750\ttotal: 212ms\tremaining: 538ms\n",
      "283:\tlearn: 0.1248897\ttotal: 213ms\tremaining: 537ms\n",
      "284:\tlearn: 0.1242077\ttotal: 213ms\tremaining: 535ms\n",
      "285:\tlearn: 0.1234784\ttotal: 214ms\tremaining: 534ms\n",
      "286:\tlearn: 0.1231087\ttotal: 215ms\tremaining: 534ms\n",
      "287:\tlearn: 0.1221749\ttotal: 216ms\tremaining: 533ms\n",
      "288:\tlearn: 0.1217314\ttotal: 216ms\tremaining: 532ms\n",
      "289:\tlearn: 0.1209069\ttotal: 217ms\tremaining: 530ms\n",
      "290:\tlearn: 0.1201421\ttotal: 217ms\tremaining: 529ms\n",
      "291:\tlearn: 0.1193463\ttotal: 218ms\tremaining: 528ms\n",
      "292:\tlearn: 0.1184458\ttotal: 218ms\tremaining: 526ms\n",
      "293:\tlearn: 0.1178526\ttotal: 218ms\tremaining: 525ms\n",
      "294:\tlearn: 0.1174742\ttotal: 219ms\tremaining: 523ms\n",
      "295:\tlearn: 0.1166656\ttotal: 219ms\tremaining: 522ms\n",
      "296:\tlearn: 0.1163851\ttotal: 220ms\tremaining: 520ms\n",
      "297:\tlearn: 0.1156370\ttotal: 220ms\tremaining: 519ms\n",
      "298:\tlearn: 0.1153176\ttotal: 221ms\tremaining: 517ms\n",
      "299:\tlearn: 0.1150444\ttotal: 221ms\tremaining: 516ms\n",
      "300:\tlearn: 0.1144532\ttotal: 221ms\tremaining: 514ms\n",
      "301:\tlearn: 0.1137105\ttotal: 222ms\tremaining: 513ms\n",
      "302:\tlearn: 0.1133800\ttotal: 222ms\tremaining: 512ms\n",
      "303:\tlearn: 0.1123137\ttotal: 223ms\tremaining: 510ms\n",
      "304:\tlearn: 0.1115848\ttotal: 223ms\tremaining: 509ms\n",
      "305:\tlearn: 0.1108700\ttotal: 224ms\tremaining: 508ms\n",
      "306:\tlearn: 0.1101291\ttotal: 224ms\tremaining: 506ms\n",
      "307:\tlearn: 0.1099212\ttotal: 225ms\tremaining: 505ms\n",
      "308:\tlearn: 0.1092975\ttotal: 225ms\tremaining: 503ms\n",
      "309:\tlearn: 0.1089760\ttotal: 226ms\tremaining: 502ms\n",
      "310:\tlearn: 0.1086586\ttotal: 226ms\tremaining: 501ms\n",
      "311:\tlearn: 0.1080289\ttotal: 226ms\tremaining: 499ms\n",
      "312:\tlearn: 0.1073425\ttotal: 227ms\tremaining: 498ms\n",
      "313:\tlearn: 0.1066890\ttotal: 227ms\tremaining: 496ms\n",
      "314:\tlearn: 0.1059220\ttotal: 228ms\tremaining: 495ms\n",
      "315:\tlearn: 0.1052724\ttotal: 228ms\tremaining: 494ms\n",
      "316:\tlearn: 0.1047163\ttotal: 229ms\tremaining: 493ms\n",
      "317:\tlearn: 0.1042692\ttotal: 229ms\tremaining: 491ms\n",
      "318:\tlearn: 0.1035678\ttotal: 229ms\tremaining: 490ms\n",
      "319:\tlearn: 0.1028675\ttotal: 230ms\tremaining: 489ms\n",
      "320:\tlearn: 0.1025615\ttotal: 230ms\tremaining: 487ms\n",
      "321:\tlearn: 0.1019117\ttotal: 231ms\tremaining: 486ms\n",
      "322:\tlearn: 0.1011827\ttotal: 232ms\tremaining: 485ms\n",
      "323:\tlearn: 0.1009519\ttotal: 232ms\tremaining: 484ms\n",
      "324:\tlearn: 0.1006928\ttotal: 232ms\tremaining: 483ms\n",
      "325:\tlearn: 0.0999883\ttotal: 233ms\tremaining: 481ms\n",
      "326:\tlearn: 0.0997648\ttotal: 233ms\tremaining: 480ms\n",
      "327:\tlearn: 0.0990263\ttotal: 234ms\tremaining: 479ms\n",
      "328:\tlearn: 0.0984133\ttotal: 234ms\tremaining: 478ms\n",
      "329:\tlearn: 0.0977230\ttotal: 234ms\tremaining: 476ms\n",
      "330:\tlearn: 0.0974456\ttotal: 235ms\tremaining: 475ms\n",
      "331:\tlearn: 0.0967922\ttotal: 235ms\tremaining: 473ms\n",
      "332:\tlearn: 0.0958612\ttotal: 235ms\tremaining: 472ms\n",
      "333:\tlearn: 0.0952107\ttotal: 236ms\tremaining: 470ms\n",
      "334:\tlearn: 0.0945432\ttotal: 236ms\tremaining: 469ms\n",
      "335:\tlearn: 0.0939113\ttotal: 237ms\tremaining: 468ms\n",
      "336:\tlearn: 0.0932631\ttotal: 237ms\tremaining: 467ms\n",
      "337:\tlearn: 0.0923715\ttotal: 238ms\tremaining: 466ms\n",
      "338:\tlearn: 0.0917693\ttotal: 238ms\tremaining: 464ms\n",
      "339:\tlearn: 0.0911675\ttotal: 239ms\tremaining: 463ms\n",
      "340:\tlearn: 0.0905634\ttotal: 239ms\tremaining: 462ms\n",
      "341:\tlearn: 0.0897230\ttotal: 240ms\tremaining: 461ms\n",
      "342:\tlearn: 0.0888885\ttotal: 240ms\tremaining: 460ms\n",
      "343:\tlearn: 0.0880722\ttotal: 240ms\tremaining: 459ms\n",
      "344:\tlearn: 0.0878264\ttotal: 241ms\tremaining: 457ms\n",
      "345:\tlearn: 0.0875839\ttotal: 241ms\tremaining: 456ms\n",
      "346:\tlearn: 0.0870179\ttotal: 249ms\tremaining: 468ms\n",
      "347:\tlearn: 0.0862289\ttotal: 251ms\tremaining: 469ms\n",
      "348:\tlearn: 0.0859945\ttotal: 251ms\tremaining: 468ms\n",
      "349:\tlearn: 0.0852247\ttotal: 251ms\tremaining: 467ms\n",
      "350:\tlearn: 0.0850125\ttotal: 252ms\tremaining: 465ms\n",
      "351:\tlearn: 0.0848026\ttotal: 252ms\tremaining: 464ms\n",
      "352:\tlearn: 0.0845768\ttotal: 253ms\tremaining: 463ms\n",
      "353:\tlearn: 0.0838288\ttotal: 253ms\tremaining: 462ms\n",
      "354:\tlearn: 0.0836245\ttotal: 254ms\tremaining: 461ms\n",
      "355:\tlearn: 0.0829047\ttotal: 254ms\tremaining: 460ms\n",
      "356:\tlearn: 0.0821906\ttotal: 255ms\tremaining: 459ms\n",
      "357:\tlearn: 0.0819915\ttotal: 255ms\tremaining: 457ms\n",
      "358:\tlearn: 0.0814724\ttotal: 256ms\tremaining: 457ms\n",
      "359:\tlearn: 0.0812594\ttotal: 257ms\tremaining: 457ms\n",
      "360:\tlearn: 0.0807524\ttotal: 258ms\tremaining: 456ms\n",
      "361:\tlearn: 0.0805447\ttotal: 259ms\tremaining: 456ms\n",
      "362:\tlearn: 0.0800271\ttotal: 259ms\tremaining: 455ms\n",
      "363:\tlearn: 0.0795235\ttotal: 260ms\tremaining: 454ms\n",
      "364:\tlearn: 0.0790188\ttotal: 261ms\tremaining: 454ms\n",
      "365:\tlearn: 0.0783538\ttotal: 262ms\tremaining: 454ms\n",
      "366:\tlearn: 0.0778740\ttotal: 262ms\tremaining: 453ms\n",
      "367:\tlearn: 0.0776901\ttotal: 263ms\tremaining: 451ms\n",
      "368:\tlearn: 0.0770230\ttotal: 263ms\tremaining: 450ms\n",
      "369:\tlearn: 0.0768290\ttotal: 264ms\tremaining: 449ms\n",
      "370:\tlearn: 0.0761784\ttotal: 265ms\tremaining: 449ms\n",
      "371:\tlearn: 0.0759890\ttotal: 265ms\tremaining: 448ms\n",
      "372:\tlearn: 0.0758013\ttotal: 266ms\tremaining: 447ms\n",
      "373:\tlearn: 0.0753455\ttotal: 266ms\tremaining: 446ms\n",
      "374:\tlearn: 0.0751625\ttotal: 267ms\tremaining: 445ms\n",
      "375:\tlearn: 0.0745348\ttotal: 268ms\tremaining: 444ms\n",
      "376:\tlearn: 0.0743550\ttotal: 269ms\tremaining: 444ms\n",
      "377:\tlearn: 0.0738983\ttotal: 270ms\tremaining: 445ms\n",
      "378:\tlearn: 0.0733118\ttotal: 271ms\tremaining: 444ms\n",
      "379:\tlearn: 0.0731372\ttotal: 272ms\tremaining: 444ms\n",
      "380:\tlearn: 0.0725654\ttotal: 273ms\tremaining: 443ms\n",
      "381:\tlearn: 0.0721409\ttotal: 274ms\tremaining: 443ms\n",
      "382:\tlearn: 0.0719716\ttotal: 274ms\tremaining: 442ms\n",
      "383:\tlearn: 0.0715074\ttotal: 275ms\tremaining: 441ms\n",
      "384:\tlearn: 0.0710843\ttotal: 275ms\tremaining: 440ms\n",
      "385:\tlearn: 0.0707701\ttotal: 276ms\tremaining: 438ms\n",
      "386:\tlearn: 0.0704619\ttotal: 276ms\tremaining: 437ms\n",
      "387:\tlearn: 0.0702682\ttotal: 277ms\tremaining: 437ms\n",
      "388:\tlearn: 0.0698565\ttotal: 278ms\tremaining: 436ms\n",
      "389:\tlearn: 0.0693001\ttotal: 278ms\tremaining: 435ms\n",
      "390:\tlearn: 0.0688812\ttotal: 279ms\tremaining: 434ms\n",
      "391:\tlearn: 0.0684721\ttotal: 279ms\tremaining: 433ms\n",
      "392:\tlearn: 0.0680338\ttotal: 280ms\tremaining: 432ms\n",
      "393:\tlearn: 0.0678486\ttotal: 280ms\tremaining: 431ms\n",
      "394:\tlearn: 0.0676978\ttotal: 281ms\tremaining: 430ms\n",
      "395:\tlearn: 0.0673000\ttotal: 281ms\tremaining: 429ms\n",
      "396:\tlearn: 0.0671546\ttotal: 282ms\tremaining: 428ms\n",
      "397:\tlearn: 0.0667547\ttotal: 282ms\tremaining: 427ms\n",
      "398:\tlearn: 0.0663687\ttotal: 283ms\tremaining: 426ms\n"
     ]
    },
    {
     "name": "stdout",
     "output_type": "stream",
     "text": [
      "399:\tlearn: 0.0659848\ttotal: 285ms\tremaining: 427ms\n",
      "400:\tlearn: 0.0658438\ttotal: 286ms\tremaining: 427ms\n",
      "401:\tlearn: 0.0654784\ttotal: 286ms\tremaining: 426ms\n",
      "402:\tlearn: 0.0650939\ttotal: 287ms\tremaining: 425ms\n",
      "403:\tlearn: 0.0647372\ttotal: 287ms\tremaining: 424ms\n",
      "404:\tlearn: 0.0642870\ttotal: 288ms\tremaining: 423ms\n",
      "405:\tlearn: 0.0637664\ttotal: 288ms\tremaining: 421ms\n",
      "406:\tlearn: 0.0634218\ttotal: 289ms\tremaining: 420ms\n",
      "407:\tlearn: 0.0632558\ttotal: 289ms\tremaining: 420ms\n",
      "408:\tlearn: 0.0627212\ttotal: 290ms\tremaining: 418ms\n",
      "409:\tlearn: 0.0625582\ttotal: 290ms\tremaining: 417ms\n",
      "410:\tlearn: 0.0622075\ttotal: 290ms\tremaining: 416ms\n",
      "411:\tlearn: 0.0618395\ttotal: 291ms\tremaining: 415ms\n",
      "412:\tlearn: 0.0616804\ttotal: 291ms\tremaining: 414ms\n",
      "413:\tlearn: 0.0611661\ttotal: 292ms\tremaining: 413ms\n",
      "414:\tlearn: 0.0610562\ttotal: 292ms\tremaining: 412ms\n",
      "415:\tlearn: 0.0607366\ttotal: 293ms\tremaining: 411ms\n",
      "416:\tlearn: 0.0604442\ttotal: 293ms\tremaining: 410ms\n",
      "417:\tlearn: 0.0602909\ttotal: 293ms\tremaining: 409ms\n",
      "418:\tlearn: 0.0601393\ttotal: 294ms\tremaining: 408ms\n",
      "419:\tlearn: 0.0596444\ttotal: 294ms\tremaining: 407ms\n",
      "420:\tlearn: 0.0591584\ttotal: 295ms\tremaining: 405ms\n",
      "421:\tlearn: 0.0588779\ttotal: 295ms\tremaining: 405ms\n",
      "422:\tlearn: 0.0587310\ttotal: 296ms\tremaining: 403ms\n",
      "423:\tlearn: 0.0585857\ttotal: 296ms\tremaining: 402ms\n",
      "424:\tlearn: 0.0581967\ttotal: 296ms\tremaining: 401ms\n",
      "425:\tlearn: 0.0578862\ttotal: 297ms\tremaining: 400ms\n",
      "426:\tlearn: 0.0576174\ttotal: 297ms\tremaining: 399ms\n",
      "427:\tlearn: 0.0574958\ttotal: 298ms\tremaining: 398ms\n",
      "428:\tlearn: 0.0571774\ttotal: 298ms\tremaining: 397ms\n",
      "429:\tlearn: 0.0570577\ttotal: 299ms\tremaining: 396ms\n",
      "430:\tlearn: 0.0567214\ttotal: 299ms\tremaining: 395ms\n",
      "431:\tlearn: 0.0563889\ttotal: 300ms\tremaining: 394ms\n",
      "432:\tlearn: 0.0559660\ttotal: 300ms\tremaining: 393ms\n",
      "433:\tlearn: 0.0556515\ttotal: 301ms\tremaining: 392ms\n",
      "434:\tlearn: 0.0552099\ttotal: 301ms\tremaining: 391ms\n",
      "435:\tlearn: 0.0548029\ttotal: 301ms\tremaining: 390ms\n",
      "436:\tlearn: 0.0544987\ttotal: 302ms\tremaining: 389ms\n",
      "437:\tlearn: 0.0541993\ttotal: 302ms\tremaining: 388ms\n",
      "438:\tlearn: 0.0539046\ttotal: 303ms\tremaining: 387ms\n",
      "439:\tlearn: 0.0535778\ttotal: 303ms\tremaining: 386ms\n",
      "440:\tlearn: 0.0532584\ttotal: 304ms\tremaining: 385ms\n",
      "441:\tlearn: 0.0529723\ttotal: 304ms\tremaining: 384ms\n",
      "442:\tlearn: 0.0528457\ttotal: 305ms\tremaining: 383ms\n",
      "443:\tlearn: 0.0525095\ttotal: 305ms\tremaining: 382ms\n",
      "444:\tlearn: 0.0522332\ttotal: 306ms\tremaining: 381ms\n",
      "445:\tlearn: 0.0519246\ttotal: 306ms\tremaining: 380ms\n",
      "446:\tlearn: 0.0516546\ttotal: 307ms\tremaining: 379ms\n",
      "447:\tlearn: 0.0513324\ttotal: 307ms\tremaining: 378ms\n",
      "448:\tlearn: 0.0510308\ttotal: 308ms\tremaining: 378ms\n",
      "449:\tlearn: 0.0507349\ttotal: 308ms\tremaining: 377ms\n",
      "450:\tlearn: 0.0504767\ttotal: 309ms\tremaining: 376ms\n",
      "451:\tlearn: 0.0502238\ttotal: 309ms\tremaining: 375ms\n",
      "452:\tlearn: 0.0501047\ttotal: 309ms\tremaining: 374ms\n",
      "453:\tlearn: 0.0498517\ttotal: 310ms\tremaining: 372ms\n",
      "454:\tlearn: 0.0495647\ttotal: 310ms\tremaining: 371ms\n",
      "455:\tlearn: 0.0492915\ttotal: 311ms\tremaining: 371ms\n",
      "456:\tlearn: 0.0491757\ttotal: 311ms\tremaining: 370ms\n",
      "457:\tlearn: 0.0489310\ttotal: 312ms\tremaining: 369ms\n",
      "458:\tlearn: 0.0488173\ttotal: 312ms\tremaining: 368ms\n",
      "459:\tlearn: 0.0485439\ttotal: 313ms\tremaining: 367ms\n",
      "460:\tlearn: 0.0483077\ttotal: 313ms\tremaining: 366ms\n",
      "461:\tlearn: 0.0481970\ttotal: 314ms\tremaining: 366ms\n",
      "462:\tlearn: 0.0479880\ttotal: 314ms\tremaining: 365ms\n",
      "463:\tlearn: 0.0477666\ttotal: 316ms\tremaining: 365ms\n",
      "464:\tlearn: 0.0476580\ttotal: 316ms\tremaining: 364ms\n",
      "465:\tlearn: 0.0474251\ttotal: 317ms\tremaining: 363ms\n",
      "466:\tlearn: 0.0472235\ttotal: 318ms\tremaining: 362ms\n",
      "467:\tlearn: 0.0470097\ttotal: 318ms\tremaining: 362ms\n",
      "468:\tlearn: 0.0467748\ttotal: 319ms\tremaining: 361ms\n",
      "469:\tlearn: 0.0465453\ttotal: 319ms\tremaining: 360ms\n",
      "470:\tlearn: 0.0463197\ttotal: 319ms\tremaining: 359ms\n",
      "471:\tlearn: 0.0459718\ttotal: 320ms\tremaining: 358ms\n",
      "472:\tlearn: 0.0458685\ttotal: 320ms\tremaining: 357ms\n",
      "473:\tlearn: 0.0457664\ttotal: 321ms\tremaining: 356ms\n",
      "474:\tlearn: 0.0453672\ttotal: 322ms\tremaining: 355ms\n",
      "475:\tlearn: 0.0451447\ttotal: 322ms\tremaining: 355ms\n",
      "476:\tlearn: 0.0448108\ttotal: 322ms\tremaining: 354ms\n",
      "477:\tlearn: 0.0447119\ttotal: 323ms\tremaining: 352ms\n",
      "478:\tlearn: 0.0446141\ttotal: 323ms\tremaining: 351ms\n",
      "479:\tlearn: 0.0442879\ttotal: 324ms\tremaining: 351ms\n",
      "480:\tlearn: 0.0441920\ttotal: 324ms\tremaining: 350ms\n",
      "481:\tlearn: 0.0438143\ttotal: 324ms\tremaining: 349ms\n",
      "482:\tlearn: 0.0436182\ttotal: 325ms\tremaining: 348ms\n",
      "483:\tlearn: 0.0435243\ttotal: 325ms\tremaining: 347ms\n",
      "484:\tlearn: 0.0432114\ttotal: 326ms\tremaining: 346ms\n",
      "485:\tlearn: 0.0431193\ttotal: 326ms\tremaining: 345ms\n",
      "486:\tlearn: 0.0427571\ttotal: 327ms\tremaining: 344ms\n",
      "487:\tlearn: 0.0425509\ttotal: 327ms\tremaining: 343ms\n",
      "488:\tlearn: 0.0422318\ttotal: 328ms\tremaining: 342ms\n",
      "489:\tlearn: 0.0421433\ttotal: 328ms\tremaining: 341ms\n",
      "490:\tlearn: 0.0420559\ttotal: 329ms\tremaining: 341ms\n",
      "491:\tlearn: 0.0417899\ttotal: 329ms\tremaining: 340ms\n",
      "492:\tlearn: 0.0417041\ttotal: 329ms\tremaining: 339ms\n",
      "493:\tlearn: 0.0416194\ttotal: 330ms\tremaining: 338ms\n",
      "494:\tlearn: 0.0414049\ttotal: 330ms\tremaining: 337ms\n",
      "495:\tlearn: 0.0412226\ttotal: 331ms\tremaining: 336ms\n",
      "496:\tlearn: 0.0410591\ttotal: 331ms\tremaining: 335ms\n",
      "497:\tlearn: 0.0409766\ttotal: 332ms\tremaining: 334ms\n",
      "498:\tlearn: 0.0408143\ttotal: 332ms\tremaining: 333ms\n",
      "499:\tlearn: 0.0405032\ttotal: 333ms\tremaining: 333ms\n",
      "500:\tlearn: 0.0402532\ttotal: 333ms\tremaining: 332ms\n",
      "501:\tlearn: 0.0400463\ttotal: 333ms\tremaining: 331ms\n",
      "502:\tlearn: 0.0398440\ttotal: 334ms\tremaining: 330ms\n",
      "503:\tlearn: 0.0396425\ttotal: 334ms\tremaining: 329ms\n",
      "504:\tlearn: 0.0393903\ttotal: 335ms\tremaining: 328ms\n",
      "505:\tlearn: 0.0391654\ttotal: 335ms\tremaining: 327ms\n",
      "506:\tlearn: 0.0389898\ttotal: 336ms\tremaining: 327ms\n",
      "507:\tlearn: 0.0387730\ttotal: 336ms\tremaining: 326ms\n",
      "508:\tlearn: 0.0386043\ttotal: 337ms\tremaining: 325ms\n",
      "509:\tlearn: 0.0383951\ttotal: 337ms\tremaining: 324ms\n",
      "510:\tlearn: 0.0381902\ttotal: 338ms\tremaining: 323ms\n",
      "511:\tlearn: 0.0380452\ttotal: 338ms\tremaining: 322ms\n",
      "512:\tlearn: 0.0379029\ttotal: 339ms\tremaining: 322ms\n",
      "513:\tlearn: 0.0376876\ttotal: 339ms\tremaining: 321ms\n",
      "514:\tlearn: 0.0375489\ttotal: 340ms\tremaining: 320ms\n",
      "515:\tlearn: 0.0373969\ttotal: 340ms\tremaining: 319ms\n",
      "516:\tlearn: 0.0372008\ttotal: 341ms\tremaining: 318ms\n",
      "517:\tlearn: 0.0370588\ttotal: 341ms\tremaining: 317ms\n",
      "518:\tlearn: 0.0368775\ttotal: 342ms\tremaining: 317ms\n",
      "519:\tlearn: 0.0366995\ttotal: 342ms\tremaining: 316ms\n",
      "520:\tlearn: 0.0365253\ttotal: 343ms\tremaining: 315ms\n",
      "521:\tlearn: 0.0362279\ttotal: 343ms\tremaining: 314ms\n",
      "522:\tlearn: 0.0360584\ttotal: 344ms\tremaining: 313ms\n",
      "523:\tlearn: 0.0357688\ttotal: 344ms\tremaining: 313ms\n",
      "524:\tlearn: 0.0356038\ttotal: 345ms\tremaining: 312ms\n",
      "525:\tlearn: 0.0354423\ttotal: 345ms\tremaining: 311ms\n",
      "526:\tlearn: 0.0351612\ttotal: 346ms\tremaining: 310ms\n",
      "527:\tlearn: 0.0350041\ttotal: 346ms\tremaining: 310ms\n",
      "528:\tlearn: 0.0348499\ttotal: 347ms\tremaining: 309ms\n",
      "529:\tlearn: 0.0345776\ttotal: 347ms\tremaining: 308ms\n",
      "530:\tlearn: 0.0344270\ttotal: 348ms\tremaining: 307ms\n",
      "531:\tlearn: 0.0341619\ttotal: 348ms\tremaining: 306ms\n",
      "532:\tlearn: 0.0340159\ttotal: 349ms\tremaining: 306ms\n",
      "533:\tlearn: 0.0338182\ttotal: 349ms\tremaining: 305ms\n",
      "534:\tlearn: 0.0336749\ttotal: 350ms\tremaining: 304ms\n",
      "535:\tlearn: 0.0334192\ttotal: 350ms\tremaining: 303ms\n",
      "536:\tlearn: 0.0332808\ttotal: 351ms\tremaining: 302ms\n",
      "537:\tlearn: 0.0331452\ttotal: 351ms\tremaining: 302ms\n",
      "538:\tlearn: 0.0328981\ttotal: 352ms\tremaining: 301ms\n",
      "539:\tlearn: 0.0327730\ttotal: 352ms\tremaining: 300ms\n",
      "540:\tlearn: 0.0326889\ttotal: 353ms\tremaining: 299ms\n",
      "541:\tlearn: 0.0324492\ttotal: 353ms\tremaining: 298ms\n",
      "542:\tlearn: 0.0323278\ttotal: 353ms\tremaining: 297ms\n",
      "543:\tlearn: 0.0322087\ttotal: 354ms\tremaining: 297ms\n",
      "544:\tlearn: 0.0321277\ttotal: 354ms\tremaining: 296ms\n",
      "545:\tlearn: 0.0320480\ttotal: 355ms\tremaining: 295ms\n",
      "546:\tlearn: 0.0319695\ttotal: 355ms\tremaining: 294ms\n",
      "547:\tlearn: 0.0317936\ttotal: 355ms\tremaining: 293ms\n",
      "548:\tlearn: 0.0317358\ttotal: 356ms\tremaining: 292ms\n",
      "549:\tlearn: 0.0315383\ttotal: 356ms\tremaining: 291ms\n",
      "550:\tlearn: 0.0314242\ttotal: 357ms\tremaining: 291ms\n",
      "551:\tlearn: 0.0313050\ttotal: 357ms\tremaining: 290ms\n",
      "552:\tlearn: 0.0310801\ttotal: 358ms\tremaining: 289ms\n",
      "553:\tlearn: 0.0309815\ttotal: 358ms\tremaining: 288ms\n",
      "554:\tlearn: 0.0308174\ttotal: 359ms\tremaining: 288ms\n",
      "555:\tlearn: 0.0307183\ttotal: 359ms\tremaining: 287ms\n",
      "556:\tlearn: 0.0305021\ttotal: 360ms\tremaining: 286ms\n",
      "557:\tlearn: 0.0303853\ttotal: 360ms\tremaining: 285ms\n",
      "558:\tlearn: 0.0302882\ttotal: 361ms\tremaining: 285ms\n",
      "559:\tlearn: 0.0301749\ttotal: 361ms\tremaining: 284ms\n",
      "560:\tlearn: 0.0300640\ttotal: 362ms\tremaining: 283ms\n",
      "561:\tlearn: 0.0298787\ttotal: 362ms\tremaining: 282ms\n",
      "562:\tlearn: 0.0297588\ttotal: 363ms\tremaining: 282ms\n",
      "563:\tlearn: 0.0295769\ttotal: 363ms\tremaining: 281ms\n"
     ]
    },
    {
     "name": "stdout",
     "output_type": "stream",
     "text": [
      "564:\tlearn: 0.0294644\ttotal: 364ms\tremaining: 280ms\n",
      "565:\tlearn: 0.0292977\ttotal: 365ms\tremaining: 280ms\n",
      "566:\tlearn: 0.0292030\ttotal: 365ms\tremaining: 279ms\n",
      "567:\tlearn: 0.0290021\ttotal: 366ms\tremaining: 278ms\n",
      "568:\tlearn: 0.0288200\ttotal: 366ms\tremaining: 277ms\n",
      "569:\tlearn: 0.0286540\ttotal: 366ms\tremaining: 276ms\n",
      "570:\tlearn: 0.0284766\ttotal: 367ms\tremaining: 276ms\n",
      "571:\tlearn: 0.0283704\ttotal: 367ms\tremaining: 275ms\n",
      "572:\tlearn: 0.0281969\ttotal: 368ms\tremaining: 274ms\n",
      "573:\tlearn: 0.0280387\ttotal: 368ms\tremaining: 273ms\n",
      "574:\tlearn: 0.0278697\ttotal: 369ms\tremaining: 272ms\n",
      "575:\tlearn: 0.0277170\ttotal: 369ms\tremaining: 272ms\n",
      "576:\tlearn: 0.0275455\ttotal: 370ms\tremaining: 271ms\n",
      "577:\tlearn: 0.0274005\ttotal: 370ms\tremaining: 270ms\n",
      "578:\tlearn: 0.0272117\ttotal: 371ms\tremaining: 269ms\n",
      "579:\tlearn: 0.0270656\ttotal: 371ms\tremaining: 269ms\n",
      "580:\tlearn: 0.0269020\ttotal: 371ms\tremaining: 268ms\n",
      "581:\tlearn: 0.0268009\ttotal: 372ms\tremaining: 267ms\n",
      "582:\tlearn: 0.0266299\ttotal: 372ms\tremaining: 266ms\n",
      "583:\tlearn: 0.0265313\ttotal: 373ms\tremaining: 265ms\n",
      "584:\tlearn: 0.0263799\ttotal: 373ms\tremaining: 265ms\n",
      "585:\tlearn: 0.0261994\ttotal: 373ms\tremaining: 264ms\n",
      "586:\tlearn: 0.0260506\ttotal: 374ms\tremaining: 263ms\n",
      "587:\tlearn: 0.0259556\ttotal: 374ms\tremaining: 262ms\n",
      "588:\tlearn: 0.0257803\ttotal: 375ms\tremaining: 261ms\n",
      "589:\tlearn: 0.0256844\ttotal: 379ms\tremaining: 263ms\n",
      "590:\tlearn: 0.0255499\ttotal: 379ms\tremaining: 262ms\n",
      "591:\tlearn: 0.0254579\ttotal: 380ms\tremaining: 262ms\n",
      "592:\tlearn: 0.0253682\ttotal: 380ms\tremaining: 261ms\n",
      "593:\tlearn: 0.0252535\ttotal: 380ms\tremaining: 260ms\n",
      "594:\tlearn: 0.0251415\ttotal: 381ms\tremaining: 259ms\n",
      "595:\tlearn: 0.0250524\ttotal: 382ms\tremaining: 259ms\n",
      "596:\tlearn: 0.0249649\ttotal: 382ms\tremaining: 258ms\n",
      "597:\tlearn: 0.0247880\ttotal: 383ms\tremaining: 257ms\n",
      "598:\tlearn: 0.0247013\ttotal: 383ms\tremaining: 257ms\n",
      "599:\tlearn: 0.0245776\ttotal: 383ms\tremaining: 256ms\n",
      "600:\tlearn: 0.0244928\ttotal: 384ms\tremaining: 255ms\n",
      "601:\tlearn: 0.0244096\ttotal: 384ms\tremaining: 254ms\n",
      "602:\tlearn: 0.0243045\ttotal: 385ms\tremaining: 253ms\n",
      "603:\tlearn: 0.0242210\ttotal: 385ms\tremaining: 253ms\n",
      "604:\tlearn: 0.0241397\ttotal: 386ms\tremaining: 252ms\n",
      "605:\tlearn: 0.0240229\ttotal: 386ms\tremaining: 251ms\n",
      "606:\tlearn: 0.0239374\ttotal: 387ms\tremaining: 250ms\n",
      "607:\tlearn: 0.0238536\ttotal: 387ms\tremaining: 250ms\n",
      "608:\tlearn: 0.0237535\ttotal: 388ms\tremaining: 249ms\n",
      "609:\tlearn: 0.0236769\ttotal: 388ms\tremaining: 248ms\n",
      "610:\tlearn: 0.0235708\ttotal: 389ms\tremaining: 248ms\n",
      "611:\tlearn: 0.0234528\ttotal: 390ms\tremaining: 247ms\n",
      "612:\tlearn: 0.0233557\ttotal: 390ms\tremaining: 246ms\n",
      "613:\tlearn: 0.0232810\ttotal: 390ms\tremaining: 245ms\n",
      "614:\tlearn: 0.0231860\ttotal: 391ms\tremaining: 245ms\n",
      "615:\tlearn: 0.0231445\ttotal: 391ms\tremaining: 244ms\n",
      "616:\tlearn: 0.0229830\ttotal: 392ms\tremaining: 243ms\n",
      "617:\tlearn: 0.0229072\ttotal: 392ms\tremaining: 242ms\n",
      "618:\tlearn: 0.0228665\ttotal: 393ms\tremaining: 242ms\n",
      "619:\tlearn: 0.0227945\ttotal: 393ms\tremaining: 241ms\n",
      "620:\tlearn: 0.0226616\ttotal: 394ms\tremaining: 240ms\n",
      "621:\tlearn: 0.0225501\ttotal: 394ms\tremaining: 240ms\n",
      "622:\tlearn: 0.0224653\ttotal: 395ms\tremaining: 239ms\n",
      "623:\tlearn: 0.0223757\ttotal: 395ms\tremaining: 238ms\n",
      "624:\tlearn: 0.0223099\ttotal: 396ms\tremaining: 237ms\n",
      "625:\tlearn: 0.0222274\ttotal: 396ms\tremaining: 237ms\n",
      "626:\tlearn: 0.0221402\ttotal: 396ms\tremaining: 236ms\n",
      "627:\tlearn: 0.0220329\ttotal: 397ms\tremaining: 235ms\n",
      "628:\tlearn: 0.0218828\ttotal: 397ms\tremaining: 234ms\n",
      "629:\tlearn: 0.0218194\ttotal: 398ms\tremaining: 234ms\n",
      "630:\tlearn: 0.0217404\ttotal: 398ms\tremaining: 233ms\n",
      "631:\tlearn: 0.0217019\ttotal: 399ms\tremaining: 232ms\n",
      "632:\tlearn: 0.0215532\ttotal: 399ms\tremaining: 231ms\n",
      "633:\tlearn: 0.0214760\ttotal: 400ms\tremaining: 231ms\n",
      "634:\tlearn: 0.0214002\ttotal: 400ms\tremaining: 230ms\n",
      "635:\tlearn: 0.0213624\ttotal: 400ms\tremaining: 229ms\n",
      "636:\tlearn: 0.0212832\ttotal: 401ms\tremaining: 228ms\n",
      "637:\tlearn: 0.0212091\ttotal: 401ms\tremaining: 228ms\n",
      "638:\tlearn: 0.0211317\ttotal: 402ms\tremaining: 227ms\n",
      "639:\tlearn: 0.0210266\ttotal: 402ms\tremaining: 226ms\n",
      "640:\tlearn: 0.0209093\ttotal: 403ms\tremaining: 226ms\n",
      "641:\tlearn: 0.0208491\ttotal: 404ms\tremaining: 225ms\n",
      "642:\tlearn: 0.0207901\ttotal: 404ms\tremaining: 224ms\n",
      "643:\tlearn: 0.0207321\ttotal: 405ms\tremaining: 224ms\n",
      "644:\tlearn: 0.0206606\ttotal: 405ms\tremaining: 223ms\n",
      "645:\tlearn: 0.0206041\ttotal: 405ms\tremaining: 222ms\n",
      "646:\tlearn: 0.0205487\ttotal: 406ms\tremaining: 221ms\n",
      "647:\tlearn: 0.0203819\ttotal: 406ms\tremaining: 221ms\n",
      "648:\tlearn: 0.0203128\ttotal: 406ms\tremaining: 220ms\n",
      "649:\tlearn: 0.0202419\ttotal: 407ms\tremaining: 219ms\n",
      "650:\tlearn: 0.0201887\ttotal: 407ms\tremaining: 218ms\n",
      "651:\tlearn: 0.0200273\ttotal: 408ms\tremaining: 218ms\n",
      "652:\tlearn: 0.0199751\ttotal: 408ms\tremaining: 217ms\n",
      "653:\tlearn: 0.0199238\ttotal: 408ms\tremaining: 216ms\n",
      "654:\tlearn: 0.0198734\ttotal: 409ms\tremaining: 215ms\n",
      "655:\tlearn: 0.0197500\ttotal: 409ms\tremaining: 214ms\n",
      "656:\tlearn: 0.0197005\ttotal: 409ms\tremaining: 214ms\n",
      "657:\tlearn: 0.0196588\ttotal: 410ms\tremaining: 213ms\n",
      "658:\tlearn: 0.0195549\ttotal: 410ms\tremaining: 212ms\n",
      "659:\tlearn: 0.0195055\ttotal: 411ms\tremaining: 211ms\n",
      "660:\tlearn: 0.0194610\ttotal: 411ms\tremaining: 211ms\n",
      "661:\tlearn: 0.0193149\ttotal: 412ms\tremaining: 210ms\n",
      "662:\tlearn: 0.0192140\ttotal: 412ms\tremaining: 210ms\n",
      "663:\tlearn: 0.0191667\ttotal: 413ms\tremaining: 209ms\n",
      "664:\tlearn: 0.0190544\ttotal: 413ms\tremaining: 208ms\n",
      "665:\tlearn: 0.0190079\ttotal: 414ms\tremaining: 207ms\n",
      "666:\tlearn: 0.0189660\ttotal: 414ms\tremaining: 207ms\n",
      "667:\tlearn: 0.0188255\ttotal: 415ms\tremaining: 206ms\n",
      "668:\tlearn: 0.0187808\ttotal: 415ms\tremaining: 205ms\n",
      "669:\tlearn: 0.0187428\ttotal: 416ms\tremaining: 205ms\n",
      "670:\tlearn: 0.0186340\ttotal: 416ms\tremaining: 204ms\n",
      "671:\tlearn: 0.0185951\ttotal: 416ms\tremaining: 203ms\n",
      "672:\tlearn: 0.0185554\ttotal: 417ms\tremaining: 203ms\n",
      "673:\tlearn: 0.0184445\ttotal: 417ms\tremaining: 202ms\n",
      "674:\tlearn: 0.0184019\ttotal: 418ms\tremaining: 201ms\n",
      "675:\tlearn: 0.0183006\ttotal: 418ms\tremaining: 200ms\n",
      "676:\tlearn: 0.0182317\ttotal: 418ms\tremaining: 200ms\n",
      "677:\tlearn: 0.0180929\ttotal: 419ms\tremaining: 199ms\n",
      "678:\tlearn: 0.0180001\ttotal: 419ms\tremaining: 198ms\n",
      "679:\tlearn: 0.0179335\ttotal: 419ms\tremaining: 197ms\n",
      "680:\tlearn: 0.0178430\ttotal: 420ms\tremaining: 197ms\n",
      "681:\tlearn: 0.0177928\ttotal: 420ms\tremaining: 196ms\n",
      "682:\tlearn: 0.0176970\ttotal: 421ms\tremaining: 195ms\n",
      "683:\tlearn: 0.0176324\ttotal: 421ms\tremaining: 195ms\n",
      "684:\tlearn: 0.0175272\ttotal: 422ms\tremaining: 194ms\n",
      "685:\tlearn: 0.0174621\ttotal: 422ms\tremaining: 193ms\n",
      "686:\tlearn: 0.0173984\ttotal: 423ms\tremaining: 193ms\n",
      "687:\tlearn: 0.0173442\ttotal: 423ms\tremaining: 192ms\n",
      "688:\tlearn: 0.0173082\ttotal: 424ms\tremaining: 191ms\n",
      "689:\tlearn: 0.0172478\ttotal: 424ms\tremaining: 191ms\n",
      "690:\tlearn: 0.0171460\ttotal: 425ms\tremaining: 190ms\n",
      "691:\tlearn: 0.0170853\ttotal: 425ms\tremaining: 189ms\n",
      "692:\tlearn: 0.0169616\ttotal: 426ms\tremaining: 189ms\n",
      "693:\tlearn: 0.0169034\ttotal: 427ms\tremaining: 188ms\n",
      "694:\tlearn: 0.0168200\ttotal: 427ms\tremaining: 188ms\n",
      "695:\tlearn: 0.0167742\ttotal: 428ms\tremaining: 187ms\n",
      "696:\tlearn: 0.0167396\ttotal: 428ms\tremaining: 186ms\n",
      "697:\tlearn: 0.0167060\ttotal: 429ms\tremaining: 186ms\n",
      "698:\tlearn: 0.0166719\ttotal: 429ms\tremaining: 185ms\n",
      "699:\tlearn: 0.0166166\ttotal: 430ms\tremaining: 184ms\n",
      "700:\tlearn: 0.0165201\ttotal: 430ms\tremaining: 184ms\n",
      "701:\tlearn: 0.0164643\ttotal: 431ms\tremaining: 183ms\n",
      "702:\tlearn: 0.0163419\ttotal: 431ms\tremaining: 182ms\n",
      "703:\tlearn: 0.0162626\ttotal: 432ms\tremaining: 182ms\n",
      "704:\tlearn: 0.0162093\ttotal: 432ms\tremaining: 181ms\n",
      "705:\tlearn: 0.0161580\ttotal: 433ms\tremaining: 180ms\n",
      "706:\tlearn: 0.0160807\ttotal: 434ms\tremaining: 180ms\n",
      "707:\tlearn: 0.0160474\ttotal: 434ms\tremaining: 179ms\n",
      "708:\tlearn: 0.0160149\ttotal: 435ms\tremaining: 178ms\n",
      "709:\tlearn: 0.0159633\ttotal: 435ms\tremaining: 178ms\n",
      "710:\tlearn: 0.0158720\ttotal: 436ms\tremaining: 177ms\n",
      "711:\tlearn: 0.0158316\ttotal: 436ms\tremaining: 176ms\n",
      "712:\tlearn: 0.0157424\ttotal: 436ms\tremaining: 176ms\n",
      "713:\tlearn: 0.0157053\ttotal: 437ms\tremaining: 175ms\n",
      "714:\tlearn: 0.0156739\ttotal: 437ms\tremaining: 174ms\n",
      "715:\tlearn: 0.0156243\ttotal: 437ms\tremaining: 174ms\n",
      "716:\tlearn: 0.0155853\ttotal: 438ms\tremaining: 173ms\n",
      "717:\tlearn: 0.0154984\ttotal: 438ms\tremaining: 172ms\n",
      "718:\tlearn: 0.0154622\ttotal: 439ms\tremaining: 171ms\n",
      "719:\tlearn: 0.0153609\ttotal: 439ms\tremaining: 171ms\n",
      "720:\tlearn: 0.0153253\ttotal: 439ms\tremaining: 170ms\n",
      "721:\tlearn: 0.0152951\ttotal: 440ms\tremaining: 169ms\n",
      "722:\tlearn: 0.0152107\ttotal: 440ms\tremaining: 169ms\n",
      "723:\tlearn: 0.0151636\ttotal: 440ms\tremaining: 168ms\n",
      "724:\tlearn: 0.0151266\ttotal: 441ms\tremaining: 167ms\n",
      "725:\tlearn: 0.0150221\ttotal: 441ms\tremaining: 166ms\n",
      "726:\tlearn: 0.0149195\ttotal: 441ms\tremaining: 166ms\n",
      "727:\tlearn: 0.0148188\ttotal: 442ms\tremaining: 165ms\n",
      "728:\tlearn: 0.0147200\ttotal: 442ms\tremaining: 164ms\n",
      "729:\tlearn: 0.0146230\ttotal: 442ms\tremaining: 164ms\n",
      "730:\tlearn: 0.0145279\ttotal: 443ms\tremaining: 163ms\n",
      "731:\tlearn: 0.0144345\ttotal: 444ms\tremaining: 162ms\n",
      "732:\tlearn: 0.0143428\ttotal: 444ms\tremaining: 162ms\n",
      "733:\tlearn: 0.0142529\ttotal: 444ms\tremaining: 161ms\n",
      "734:\tlearn: 0.0141646\ttotal: 445ms\tremaining: 160ms\n",
      "735:\tlearn: 0.0141174\ttotal: 445ms\tremaining: 160ms\n",
      "736:\tlearn: 0.0140310\ttotal: 446ms\tremaining: 159ms\n",
      "737:\tlearn: 0.0139848\ttotal: 447ms\tremaining: 159ms\n",
      "738:\tlearn: 0.0139347\ttotal: 447ms\tremaining: 158ms\n",
      "739:\tlearn: 0.0138898\ttotal: 447ms\tremaining: 157ms\n",
      "740:\tlearn: 0.0138630\ttotal: 448ms\tremaining: 157ms\n",
      "741:\tlearn: 0.0137788\ttotal: 448ms\tremaining: 156ms\n",
      "742:\tlearn: 0.0137351\ttotal: 449ms\tremaining: 155ms\n",
      "743:\tlearn: 0.0137088\ttotal: 449ms\tremaining: 155ms\n",
      "744:\tlearn: 0.0136264\ttotal: 450ms\tremaining: 154ms\n",
      "745:\tlearn: 0.0135838\ttotal: 450ms\tremaining: 153ms\n",
      "746:\tlearn: 0.0135580\ttotal: 451ms\tremaining: 153ms\n",
      "747:\tlearn: 0.0135109\ttotal: 451ms\tremaining: 152ms\n",
      "748:\tlearn: 0.0134641\ttotal: 452ms\tremaining: 151ms\n",
      "749:\tlearn: 0.0134388\ttotal: 452ms\tremaining: 151ms\n",
      "750:\tlearn: 0.0134139\ttotal: 453ms\tremaining: 150ms\n",
      "751:\tlearn: 0.0133877\ttotal: 453ms\tremaining: 149ms\n",
      "752:\tlearn: 0.0133051\ttotal: 453ms\tremaining: 149ms\n",
      "753:\tlearn: 0.0132794\ttotal: 454ms\tremaining: 148ms\n",
      "754:\tlearn: 0.0132548\ttotal: 454ms\tremaining: 147ms\n",
      "755:\tlearn: 0.0132307\ttotal: 455ms\tremaining: 147ms\n",
      "756:\tlearn: 0.0131860\ttotal: 455ms\tremaining: 146ms\n",
      "757:\tlearn: 0.0131623\ttotal: 456ms\tremaining: 146ms\n",
      "758:\tlearn: 0.0130853\ttotal: 456ms\tremaining: 145ms\n",
      "759:\tlearn: 0.0130175\ttotal: 457ms\tremaining: 144ms\n",
      "760:\tlearn: 0.0129940\ttotal: 457ms\tremaining: 144ms\n",
      "761:\tlearn: 0.0129708\ttotal: 458ms\tremaining: 143ms\n",
      "762:\tlearn: 0.0129479\ttotal: 458ms\tremaining: 142ms\n",
      "763:\tlearn: 0.0128738\ttotal: 459ms\tremaining: 142ms\n",
      "764:\tlearn: 0.0128503\ttotal: 459ms\tremaining: 141ms\n",
      "765:\tlearn: 0.0128277\ttotal: 460ms\tremaining: 140ms\n",
      "766:\tlearn: 0.0127557\ttotal: 460ms\tremaining: 140ms\n",
      "767:\tlearn: 0.0126911\ttotal: 460ms\tremaining: 139ms\n",
      "768:\tlearn: 0.0126682\ttotal: 461ms\tremaining: 138ms\n",
      "769:\tlearn: 0.0126461\ttotal: 461ms\tremaining: 138ms\n",
      "770:\tlearn: 0.0125898\ttotal: 462ms\tremaining: 137ms\n",
      "771:\tlearn: 0.0125679\ttotal: 462ms\tremaining: 136ms\n",
      "772:\tlearn: 0.0125463\ttotal: 462ms\tremaining: 136ms\n",
      "773:\tlearn: 0.0125241\ttotal: 463ms\tremaining: 135ms\n",
      "774:\tlearn: 0.0125028\ttotal: 463ms\tremaining: 135ms\n",
      "775:\tlearn: 0.0124810\ttotal: 464ms\tremaining: 134ms\n",
      "776:\tlearn: 0.0124600\ttotal: 464ms\tremaining: 133ms\n",
      "777:\tlearn: 0.0123916\ttotal: 465ms\tremaining: 133ms\n",
      "778:\tlearn: 0.0123379\ttotal: 465ms\tremaining: 132ms\n",
      "779:\tlearn: 0.0123173\ttotal: 465ms\tremaining: 131ms\n",
      "780:\tlearn: 0.0122961\ttotal: 466ms\tremaining: 131ms\n",
      "781:\tlearn: 0.0122758\ttotal: 466ms\tremaining: 130ms\n",
      "782:\tlearn: 0.0122550\ttotal: 467ms\tremaining: 129ms\n",
      "783:\tlearn: 0.0122350\ttotal: 467ms\tremaining: 129ms\n",
      "784:\tlearn: 0.0121447\ttotal: 468ms\tremaining: 128ms\n"
     ]
    },
    {
     "name": "stdout",
     "output_type": "stream",
     "text": [
      "785:\tlearn: 0.0121231\ttotal: 468ms\tremaining: 127ms\n",
      "786:\tlearn: 0.0120850\ttotal: 469ms\tremaining: 127ms\n",
      "787:\tlearn: 0.0119999\ttotal: 469ms\tremaining: 126ms\n",
      "788:\tlearn: 0.0119628\ttotal: 470ms\tremaining: 126ms\n",
      "789:\tlearn: 0.0119436\ttotal: 470ms\tremaining: 125ms\n",
      "790:\tlearn: 0.0118605\ttotal: 470ms\tremaining: 124ms\n",
      "791:\tlearn: 0.0117963\ttotal: 471ms\tremaining: 124ms\n",
      "792:\tlearn: 0.0117394\ttotal: 471ms\tremaining: 123ms\n",
      "793:\tlearn: 0.0117206\ttotal: 472ms\tremaining: 122ms\n",
      "794:\tlearn: 0.0116933\ttotal: 472ms\tremaining: 122ms\n",
      "795:\tlearn: 0.0116766\ttotal: 472ms\tremaining: 121ms\n",
      "796:\tlearn: 0.0116574\ttotal: 473ms\tremaining: 120ms\n",
      "797:\tlearn: 0.0116408\ttotal: 473ms\tremaining: 120ms\n",
      "798:\tlearn: 0.0116202\ttotal: 474ms\tremaining: 119ms\n",
      "799:\tlearn: 0.0115714\ttotal: 474ms\tremaining: 119ms\n",
      "800:\tlearn: 0.0115552\ttotal: 475ms\tremaining: 118ms\n",
      "801:\tlearn: 0.0115365\ttotal: 475ms\tremaining: 117ms\n",
      "802:\tlearn: 0.0115204\ttotal: 475ms\tremaining: 117ms\n",
      "803:\tlearn: 0.0114456\ttotal: 476ms\tremaining: 116ms\n",
      "804:\tlearn: 0.0114059\ttotal: 476ms\tremaining: 115ms\n",
      "805:\tlearn: 0.0113834\ttotal: 477ms\tremaining: 115ms\n",
      "806:\tlearn: 0.0113491\ttotal: 477ms\tremaining: 114ms\n",
      "807:\tlearn: 0.0113156\ttotal: 478ms\tremaining: 114ms\n",
      "808:\tlearn: 0.0112380\ttotal: 478ms\tremaining: 113ms\n",
      "809:\tlearn: 0.0112211\ttotal: 479ms\tremaining: 112ms\n",
      "810:\tlearn: 0.0111409\ttotal: 479ms\tremaining: 112ms\n",
      "811:\tlearn: 0.0110707\ttotal: 480ms\tremaining: 111ms\n",
      "812:\tlearn: 0.0109906\ttotal: 480ms\tremaining: 110ms\n",
      "813:\tlearn: 0.0109688\ttotal: 481ms\tremaining: 110ms\n",
      "814:\tlearn: 0.0108907\ttotal: 481ms\tremaining: 109ms\n",
      "815:\tlearn: 0.0108733\ttotal: 482ms\tremaining: 109ms\n",
      "816:\tlearn: 0.0108064\ttotal: 482ms\tremaining: 108ms\n",
      "817:\tlearn: 0.0107842\ttotal: 483ms\tremaining: 107ms\n",
      "818:\tlearn: 0.0107168\ttotal: 483ms\tremaining: 107ms\n",
      "819:\tlearn: 0.0106779\ttotal: 484ms\tremaining: 106ms\n",
      "820:\tlearn: 0.0106101\ttotal: 485ms\tremaining: 106ms\n",
      "821:\tlearn: 0.0105446\ttotal: 485ms\tremaining: 105ms\n",
      "822:\tlearn: 0.0104998\ttotal: 486ms\tremaining: 104ms\n",
      "823:\tlearn: 0.0104617\ttotal: 486ms\tremaining: 104ms\n",
      "824:\tlearn: 0.0104190\ttotal: 486ms\tremaining: 103ms\n",
      "825:\tlearn: 0.0103858\ttotal: 487ms\tremaining: 103ms\n",
      "826:\tlearn: 0.0103655\ttotal: 487ms\tremaining: 102ms\n",
      "827:\tlearn: 0.0103284\ttotal: 488ms\tremaining: 101ms\n",
      "828:\tlearn: 0.0102647\ttotal: 488ms\tremaining: 101ms\n",
      "829:\tlearn: 0.0102214\ttotal: 489ms\tremaining: 100ms\n",
      "830:\tlearn: 0.0101850\ttotal: 489ms\tremaining: 99.5ms\n",
      "831:\tlearn: 0.0101492\ttotal: 490ms\tremaining: 98.9ms\n",
      "832:\tlearn: 0.0101087\ttotal: 490ms\tremaining: 98.3ms\n",
      "833:\tlearn: 0.0100816\ttotal: 491ms\tremaining: 97.7ms\n",
      "834:\tlearn: 0.0100157\ttotal: 491ms\tremaining: 97.1ms\n",
      "835:\tlearn: 0.0099817\ttotal: 492ms\tremaining: 96.5ms\n",
      "836:\tlearn: 0.0099470\ttotal: 492ms\tremaining: 95.9ms\n",
      "837:\tlearn: 0.0098864\ttotal: 493ms\tremaining: 95.3ms\n",
      "838:\tlearn: 0.0098269\ttotal: 493ms\tremaining: 94.7ms\n",
      "839:\tlearn: 0.0098008\ttotal: 494ms\tremaining: 94ms\n",
      "840:\tlearn: 0.0097405\ttotal: 494ms\tremaining: 93.4ms\n",
      "841:\tlearn: 0.0096832\ttotal: 495ms\tremaining: 92.8ms\n",
      "842:\tlearn: 0.0096252\ttotal: 495ms\tremaining: 92.2ms\n",
      "843:\tlearn: 0.0095850\ttotal: 496ms\tremaining: 91.6ms\n",
      "844:\tlearn: 0.0095274\ttotal: 496ms\tremaining: 91ms\n",
      "845:\tlearn: 0.0094769\ttotal: 496ms\tremaining: 90.4ms\n",
      "846:\tlearn: 0.0094541\ttotal: 502ms\tremaining: 90.6ms\n",
      "847:\tlearn: 0.0094014\ttotal: 502ms\tremaining: 90ms\n",
      "848:\tlearn: 0.0093625\ttotal: 502ms\tremaining: 89.3ms\n",
      "849:\tlearn: 0.0093136\ttotal: 503ms\tremaining: 88.7ms\n",
      "850:\tlearn: 0.0092624\ttotal: 503ms\tremaining: 88.1ms\n",
      "851:\tlearn: 0.0092252\ttotal: 504ms\tremaining: 87.5ms\n",
      "852:\tlearn: 0.0091776\ttotal: 504ms\tremaining: 86.9ms\n",
      "853:\tlearn: 0.0091558\ttotal: 505ms\tremaining: 86.3ms\n",
      "854:\tlearn: 0.0091062\ttotal: 505ms\tremaining: 85.6ms\n",
      "855:\tlearn: 0.0090695\ttotal: 505ms\tremaining: 85ms\n",
      "856:\tlearn: 0.0090233\ttotal: 506ms\tremaining: 84.4ms\n",
      "857:\tlearn: 0.0089752\ttotal: 506ms\tremaining: 83.8ms\n",
      "858:\tlearn: 0.0089541\ttotal: 507ms\tremaining: 83.2ms\n",
      "859:\tlearn: 0.0089051\ttotal: 507ms\tremaining: 82.6ms\n",
      "860:\tlearn: 0.0088783\ttotal: 508ms\tremaining: 82ms\n",
      "861:\tlearn: 0.0088281\ttotal: 508ms\tremaining: 81.3ms\n",
      "862:\tlearn: 0.0087770\ttotal: 508ms\tremaining: 80.7ms\n",
      "863:\tlearn: 0.0087268\ttotal: 509ms\tremaining: 80.1ms\n",
      "864:\tlearn: 0.0086801\ttotal: 509ms\tremaining: 79.5ms\n",
      "865:\tlearn: 0.0086462\ttotal: 510ms\tremaining: 78.8ms\n",
      "866:\tlearn: 0.0085984\ttotal: 510ms\tremaining: 78.2ms\n",
      "867:\tlearn: 0.0085647\ttotal: 510ms\tremaining: 77.6ms\n",
      "868:\tlearn: 0.0085229\ttotal: 511ms\tremaining: 77ms\n",
      "869:\tlearn: 0.0084787\ttotal: 511ms\tremaining: 76.4ms\n",
      "870:\tlearn: 0.0084371\ttotal: 512ms\tremaining: 75.8ms\n",
      "871:\tlearn: 0.0083897\ttotal: 512ms\tremaining: 75.2ms\n",
      "872:\tlearn: 0.0083463\ttotal: 513ms\tremaining: 74.6ms\n",
      "873:\tlearn: 0.0083148\ttotal: 513ms\tremaining: 74ms\n",
      "874:\tlearn: 0.0082723\ttotal: 514ms\tremaining: 73.4ms\n",
      "875:\tlearn: 0.0082415\ttotal: 514ms\tremaining: 72.8ms\n",
      "876:\tlearn: 0.0081999\ttotal: 515ms\tremaining: 72.2ms\n",
      "877:\tlearn: 0.0081583\ttotal: 515ms\tremaining: 71.6ms\n",
      "878:\tlearn: 0.0081177\ttotal: 516ms\tremaining: 71ms\n",
      "879:\tlearn: 0.0080899\ttotal: 516ms\tremaining: 70.4ms\n",
      "880:\tlearn: 0.0080482\ttotal: 516ms\tremaining: 69.8ms\n",
      "881:\tlearn: 0.0080040\ttotal: 517ms\tremaining: 69.2ms\n",
      "882:\tlearn: 0.0079652\ttotal: 517ms\tremaining: 68.6ms\n",
      "883:\tlearn: 0.0079364\ttotal: 518ms\tremaining: 68ms\n",
      "884:\tlearn: 0.0078965\ttotal: 518ms\tremaining: 67.4ms\n",
      "885:\tlearn: 0.0078451\ttotal: 519ms\tremaining: 66.8ms\n",
      "886:\tlearn: 0.0078187\ttotal: 519ms\tremaining: 66.2ms\n",
      "887:\tlearn: 0.0077915\ttotal: 520ms\tremaining: 65.6ms\n",
      "888:\tlearn: 0.0077493\ttotal: 520ms\tremaining: 65ms\n",
      "889:\tlearn: 0.0077226\ttotal: 521ms\tremaining: 64.4ms\n",
      "890:\tlearn: 0.0076812\ttotal: 521ms\tremaining: 63.8ms\n",
      "891:\tlearn: 0.0076548\ttotal: 522ms\tremaining: 63.2ms\n",
      "892:\tlearn: 0.0076058\ttotal: 522ms\tremaining: 62.5ms\n",
      "893:\tlearn: 0.0075652\ttotal: 523ms\tremaining: 62ms\n",
      "894:\tlearn: 0.0075254\ttotal: 523ms\tremaining: 61.4ms\n",
      "895:\tlearn: 0.0074997\ttotal: 524ms\tremaining: 60.8ms\n",
      "896:\tlearn: 0.0074585\ttotal: 524ms\tremaining: 60.2ms\n",
      "897:\tlearn: 0.0074207\ttotal: 525ms\tremaining: 59.6ms\n",
      "898:\tlearn: 0.0073743\ttotal: 525ms\tremaining: 59ms\n",
      "899:\tlearn: 0.0073556\ttotal: 526ms\tremaining: 58.4ms\n",
      "900:\tlearn: 0.0073372\ttotal: 526ms\tremaining: 57.8ms\n",
      "901:\tlearn: 0.0073123\ttotal: 527ms\tremaining: 57.3ms\n",
      "902:\tlearn: 0.0072943\ttotal: 533ms\tremaining: 57.2ms\n",
      "903:\tlearn: 0.0072622\ttotal: 533ms\tremaining: 56.6ms\n",
      "904:\tlearn: 0.0072380\ttotal: 533ms\tremaining: 56ms\n",
      "905:\tlearn: 0.0072000\ttotal: 534ms\tremaining: 55.4ms\n",
      "906:\tlearn: 0.0071761\ttotal: 534ms\tremaining: 54.8ms\n",
      "907:\tlearn: 0.0071586\ttotal: 535ms\tremaining: 54.2ms\n",
      "908:\tlearn: 0.0071155\ttotal: 535ms\tremaining: 53.6ms\n",
      "909:\tlearn: 0.0070810\ttotal: 536ms\tremaining: 53ms\n",
      "910:\tlearn: 0.0070563\ttotal: 536ms\tremaining: 52.4ms\n",
      "911:\tlearn: 0.0070400\ttotal: 536ms\tremaining: 51.7ms\n",
      "912:\tlearn: 0.0070158\ttotal: 537ms\tremaining: 51.1ms\n",
      "913:\tlearn: 0.0069822\ttotal: 537ms\tremaining: 50.5ms\n",
      "914:\tlearn: 0.0069584\ttotal: 538ms\tremaining: 49.9ms\n",
      "915:\tlearn: 0.0069370\ttotal: 538ms\tremaining: 49.3ms\n",
      "916:\tlearn: 0.0069212\ttotal: 538ms\tremaining: 48.7ms\n",
      "917:\tlearn: 0.0068979\ttotal: 539ms\tremaining: 48.1ms\n",
      "918:\tlearn: 0.0068561\ttotal: 539ms\tremaining: 47.5ms\n",
      "919:\tlearn: 0.0068383\ttotal: 539ms\tremaining: 46.9ms\n",
      "920:\tlearn: 0.0068052\ttotal: 540ms\tremaining: 46.3ms\n",
      "921:\tlearn: 0.0067846\ttotal: 540ms\tremaining: 45.7ms\n",
      "922:\tlearn: 0.0067482\ttotal: 541ms\tremaining: 45.1ms\n",
      "923:\tlearn: 0.0067193\ttotal: 541ms\tremaining: 44.5ms\n",
      "924:\tlearn: 0.0067039\ttotal: 542ms\tremaining: 43.9ms\n",
      "925:\tlearn: 0.0066708\ttotal: 542ms\tremaining: 43.3ms\n",
      "926:\tlearn: 0.0066352\ttotal: 542ms\tremaining: 42.7ms\n",
      "927:\tlearn: 0.0066071\ttotal: 543ms\tremaining: 42.1ms\n",
      "928:\tlearn: 0.0065725\ttotal: 543ms\tremaining: 41.5ms\n",
      "929:\tlearn: 0.0065515\ttotal: 544ms\tremaining: 41ms\n",
      "930:\tlearn: 0.0065173\ttotal: 544ms\tremaining: 40.4ms\n",
      "931:\tlearn: 0.0064966\ttotal: 545ms\tremaining: 39.7ms\n",
      "932:\tlearn: 0.0064740\ttotal: 545ms\tremaining: 39.2ms\n",
      "933:\tlearn: 0.0064575\ttotal: 546ms\tremaining: 38.6ms\n",
      "934:\tlearn: 0.0064242\ttotal: 546ms\tremaining: 38ms\n",
      "935:\tlearn: 0.0063867\ttotal: 547ms\tremaining: 37.4ms\n",
      "936:\tlearn: 0.0063539\ttotal: 547ms\tremaining: 36.8ms\n"
     ]
    },
    {
     "name": "stdout",
     "output_type": "stream",
     "text": [
      "937:\tlearn: 0.0063176\ttotal: 548ms\tremaining: 36.2ms\n",
      "938:\tlearn: 0.0062858\ttotal: 549ms\tremaining: 35.6ms\n",
      "939:\tlearn: 0.0062659\ttotal: 549ms\tremaining: 35.1ms\n",
      "940:\tlearn: 0.0062440\ttotal: 550ms\tremaining: 34.5ms\n",
      "941:\tlearn: 0.0062126\ttotal: 550ms\tremaining: 33.9ms\n",
      "942:\tlearn: 0.0061931\ttotal: 551ms\tremaining: 33.3ms\n",
      "943:\tlearn: 0.0061623\ttotal: 551ms\tremaining: 32.7ms\n",
      "944:\tlearn: 0.0061431\ttotal: 552ms\tremaining: 32.1ms\n",
      "945:\tlearn: 0.0061152\ttotal: 553ms\tremaining: 31.5ms\n",
      "946:\tlearn: 0.0060942\ttotal: 553ms\tremaining: 30.9ms\n",
      "947:\tlearn: 0.0060788\ttotal: 553ms\tremaining: 30.4ms\n",
      "948:\tlearn: 0.0060486\ttotal: 554ms\tremaining: 29.8ms\n",
      "949:\tlearn: 0.0060298\ttotal: 555ms\tremaining: 29.2ms\n",
      "950:\tlearn: 0.0060149\ttotal: 555ms\tremaining: 28.6ms\n",
      "951:\tlearn: 0.0059838\ttotal: 556ms\tremaining: 28ms\n",
      "952:\tlearn: 0.0059533\ttotal: 556ms\tremaining: 27.4ms\n",
      "953:\tlearn: 0.0059386\ttotal: 557ms\tremaining: 26.8ms\n",
      "954:\tlearn: 0.0059087\ttotal: 557ms\tremaining: 26.3ms\n",
      "955:\tlearn: 0.0058906\ttotal: 558ms\tremaining: 25.7ms\n",
      "956:\tlearn: 0.0058762\ttotal: 558ms\tremaining: 25.1ms\n",
      "957:\tlearn: 0.0058469\ttotal: 564ms\tremaining: 24.7ms\n",
      "958:\tlearn: 0.0058335\ttotal: 564ms\tremaining: 24.1ms\n",
      "959:\tlearn: 0.0058048\ttotal: 565ms\tremaining: 23.5ms\n",
      "960:\tlearn: 0.0057873\ttotal: 565ms\tremaining: 22.9ms\n",
      "961:\tlearn: 0.0057707\ttotal: 565ms\tremaining: 22.3ms\n",
      "962:\tlearn: 0.0057565\ttotal: 566ms\tremaining: 21.7ms\n",
      "963:\tlearn: 0.0057285\ttotal: 566ms\tremaining: 21.1ms\n",
      "964:\tlearn: 0.0057156\ttotal: 567ms\tremaining: 20.6ms\n",
      "965:\tlearn: 0.0056785\ttotal: 567ms\tremaining: 20ms\n",
      "966:\tlearn: 0.0056514\ttotal: 568ms\tremaining: 19.4ms\n",
      "967:\tlearn: 0.0056354\ttotal: 568ms\tremaining: 18.8ms\n",
      "968:\tlearn: 0.0056191\ttotal: 568ms\tremaining: 18.2ms\n",
      "969:\tlearn: 0.0056054\ttotal: 569ms\tremaining: 17.6ms\n",
      "970:\tlearn: 0.0055698\ttotal: 569ms\tremaining: 17ms\n",
      "971:\tlearn: 0.0055440\ttotal: 570ms\tremaining: 16.4ms\n",
      "972:\tlearn: 0.0055189\ttotal: 570ms\tremaining: 15.8ms\n",
      "973:\tlearn: 0.0054980\ttotal: 571ms\tremaining: 15.2ms\n",
      "974:\tlearn: 0.0054764\ttotal: 571ms\tremaining: 14.6ms\n",
      "975:\tlearn: 0.0054492\ttotal: 572ms\tremaining: 14.1ms\n",
      "976:\tlearn: 0.0054227\ttotal: 572ms\tremaining: 13.5ms\n",
      "977:\tlearn: 0.0053965\ttotal: 573ms\tremaining: 12.9ms\n",
      "978:\tlearn: 0.0053828\ttotal: 573ms\tremaining: 12.3ms\n",
      "979:\tlearn: 0.0053561\ttotal: 574ms\tremaining: 11.7ms\n",
      "980:\tlearn: 0.0053308\ttotal: 574ms\tremaining: 11.1ms\n",
      "981:\tlearn: 0.0053173\ttotal: 574ms\tremaining: 10.5ms\n",
      "982:\tlearn: 0.0052923\ttotal: 575ms\tremaining: 9.94ms\n",
      "983:\tlearn: 0.0052774\ttotal: 575ms\tremaining: 9.35ms\n",
      "984:\tlearn: 0.0052531\ttotal: 576ms\tremaining: 8.77ms\n",
      "985:\tlearn: 0.0052279\ttotal: 576ms\tremaining: 8.18ms\n",
      "986:\tlearn: 0.0051970\ttotal: 576ms\tremaining: 7.59ms\n",
      "987:\tlearn: 0.0051735\ttotal: 577ms\tremaining: 7.01ms\n",
      "988:\tlearn: 0.0051434\ttotal: 577ms\tremaining: 6.42ms\n",
      "989:\tlearn: 0.0051191\ttotal: 578ms\tremaining: 5.84ms\n",
      "990:\tlearn: 0.0050898\ttotal: 578ms\tremaining: 5.25ms\n",
      "991:\tlearn: 0.0050672\ttotal: 579ms\tremaining: 4.67ms\n",
      "992:\tlearn: 0.0050408\ttotal: 579ms\tremaining: 4.08ms\n",
      "993:\tlearn: 0.0050253\ttotal: 580ms\tremaining: 3.5ms\n",
      "994:\tlearn: 0.0050107\ttotal: 580ms\tremaining: 2.91ms\n",
      "995:\tlearn: 0.0049827\ttotal: 581ms\tremaining: 2.33ms\n",
      "996:\tlearn: 0.0049677\ttotal: 581ms\tremaining: 1.75ms\n",
      "997:\tlearn: 0.0049435\ttotal: 582ms\tremaining: 1.17ms\n",
      "998:\tlearn: 0.0049294\ttotal: 582ms\tremaining: 582us\n",
      "999:\tlearn: 0.0049155\ttotal: 583ms\tremaining: 0us\n"
     ]
    },
    {
     "data": {
      "text/plain": [
       "<catboost.core.CatBoostRegressor at 0x7fa0510d0460>"
      ]
     },
     "execution_count": 9,
     "metadata": {},
     "output_type": "execute_result"
    }
   ],
   "source": [
    "#Train the Model \n",
    "prior_model = ctb.CatBoostRegressor()\n",
    "prior_model.fit(X_train,Y_train)"
   ]
  },
  {
   "cell_type": "code",
   "execution_count": 10,
   "id": "af65dcda",
   "metadata": {
    "execution": {
     "iopub.execute_input": "2022-05-18T08:47:45.438581Z",
     "iopub.status.busy": "2022-05-18T08:47:45.438206Z",
     "iopub.status.idle": "2022-05-18T08:47:45.445622Z",
     "shell.execute_reply": "2022-05-18T08:47:45.445854Z"
    },
    "id": "af65dcda",
    "papermill": {
     "duration": 0.019982,
     "end_time": "2022-05-18T08:47:45.445975",
     "exception": false,
     "start_time": "2022-05-18T08:47:45.425993",
     "status": "completed"
    },
    "tags": []
   },
   "outputs": [
    {
     "data": {
      "application/scrapbook.scrap.json+json": {
       "data": 0.10682479876960953,
       "encoder": "json",
       "name": "Prior Model MSE",
       "version": 1
      }
     },
     "metadata": {
      "scrapbook": {
       "data": true,
       "display": false,
       "name": "Prior Model MSE"
      }
     },
     "output_type": "display_data"
    },
    {
     "data": {
      "application/scrapbook.scrap.json+json": {
       "data": 0.10689466121876853,
       "encoder": "json",
       "name": "ABC Pre-generator MSE",
       "version": 1
      }
     },
     "metadata": {
      "scrapbook": {
       "data": true,
       "display": false,
       "name": "ABC Pre-generator MSE"
      }
     },
     "output_type": "display_data"
    },
    {
     "data": {
      "application/scrapbook.scrap.json+json": {
       "data": 0.21639121494984814,
       "encoder": "json",
       "name": "Prior Model MAE",
       "version": 1
      }
     },
     "metadata": {
      "scrapbook": {
       "data": true,
       "display": false,
       "name": "Prior Model MAE"
      }
     },
     "output_type": "display_data"
    },
    {
     "data": {
      "application/scrapbook.scrap.json+json": {
       "data": 0.2180277614972977,
       "encoder": "json",
       "name": "ABC Pre-generator MAE",
       "version": 1
      }
     },
     "metadata": {
      "scrapbook": {
       "data": true,
       "display": false,
       "name": "ABC Pre-generator MAE"
      }
     },
     "output_type": "display_data"
    }
   ],
   "source": [
    "y_pred = prior_model.predict(X_test)\n",
    "y_abc = y_pred + np.random.normal(0,variance, y_pred.shape)\n",
    "mse = mean_squared_error(y_pred,Y_test)\n",
    "sb.glue(\"Prior Model MSE\",mse)\n",
    "mse = mean_squared_error(y_abc,Y_test)\n",
    "sb.glue(\"ABC Pre-generator MSE\",mse)\n",
    "\n",
    "mae = mean_absolute_error(y_pred,Y_test)\n",
    "sb.glue(\"Prior Model MAE\",mae)\n",
    "mae = mean_absolute_error(y_abc,Y_test)\n",
    "sb.glue(\"ABC Pre-generator MAE\",mae)"
   ]
  },
  {
   "cell_type": "markdown",
   "id": "25609da2",
   "metadata": {
    "papermill": {
     "duration": 0.009437,
     "end_time": "2022-05-18T08:47:45.465220",
     "exception": false,
     "start_time": "2022-05-18T08:47:45.455783",
     "status": "completed"
    },
    "tags": []
   },
   "source": [
    "# ABC GAN Model"
   ]
  },
  {
   "cell_type": "code",
   "execution_count": 11,
   "id": "dfc3464d",
   "metadata": {
    "execution": {
     "iopub.execute_input": "2022-05-18T08:47:45.487548Z",
     "iopub.status.busy": "2022-05-18T08:47:45.487182Z",
     "iopub.status.idle": "2022-05-18T08:47:45.489565Z",
     "shell.execute_reply": "2022-05-18T08:47:45.489799Z"
    },
    "papermill": {
     "duration": 0.015281,
     "end_time": "2022-05-18T08:47:45.489918",
     "exception": false,
     "start_time": "2022-05-18T08:47:45.474637",
     "status": "completed"
    },
    "tags": []
   },
   "outputs": [],
   "source": [
    "gen = network.Generator(n_features+1).to(device)\n",
    "disc = network.Discriminator(n_features+1).to(device)\n",
    "\n",
    "criterion = torch.nn.BCELoss()\n",
    "gen_opt = torch.optim.Adam(gen.parameters(), lr=0.001, betas=(0.5, 0.999))\n",
    "disc_opt = torch.optim.Adam(disc.parameters(), lr=0.001, betas=(0.5, 0.999))"
   ]
  },
  {
   "cell_type": "code",
   "execution_count": 12,
   "id": "b75fdd85",
   "metadata": {
    "execution": {
     "iopub.execute_input": "2022-05-18T08:47:45.511760Z",
     "iopub.status.busy": "2022-05-18T08:47:45.511387Z",
     "iopub.status.idle": "2022-05-18T08:48:00.702013Z",
     "shell.execute_reply": "2022-05-18T08:48:00.702305Z"
    },
    "papermill": {
     "duration": 15.202622,
     "end_time": "2022-05-18T08:48:00.702430",
     "exception": false,
     "start_time": "2022-05-18T08:47:45.499808",
     "status": "completed"
    },
    "tags": []
   },
   "outputs": [
    {
     "data": {
      "image/png": "[encoded data removed]",
      "text/plain": [
       "<Figure size 432x288 with 1 Axes>"
      ]
     },
     "metadata": {
      "needs_background": "light"
     },
     "output_type": "display_data"
    },
    {
     "data": {
      "image/png": "[encoded data removed]",
      "text/plain": [
       "<Figure size 432x288 with 1 Axes>"
      ]
     },
     "metadata": {
      "needs_background": "light"
     },
     "output_type": "display_data"
    }
   ],
   "source": [
    "#Training the ABC_GAN \n",
    "ABC_train_test2.training_GAN(disc,gen,disc_opt,gen_opt,train_data,batch_size,n_epochs,criterion,prior_model,variance,0,device)"
   ]
  },
  {
   "cell_type": "code",
   "execution_count": 13,
   "id": "1fa7c368",
   "metadata": {
    "execution": {
     "iopub.execute_input": "2022-05-18T08:48:00.726178Z",
     "iopub.status.busy": "2022-05-18T08:48:00.725715Z",
     "iopub.status.idle": "2022-05-18T08:48:00.925785Z",
     "shell.execute_reply": "2022-05-18T08:48:00.926032Z"
    },
    "papermill": {
     "duration": 0.213016,
     "end_time": "2022-05-18T08:48:00.926165",
     "exception": false,
     "start_time": "2022-05-18T08:48:00.713149",
     "status": "completed"
    },
    "tags": []
   },
   "outputs": [
    {
     "data": {
      "application/scrapbook.scrap.json+json": {
       "data": 0.0789205841653697,
       "encoder": "json",
       "name": "ABC-GAN Model 1 MSE",
       "version": 1
      }
     },
     "metadata": {
      "scrapbook": {
       "data": true,
       "display": false,
       "name": "ABC-GAN Model 1 MSE"
      }
     },
     "output_type": "display_data"
    },
    {
     "data": {
      "application/scrapbook.scrap.json+json": {
       "data": 0.20396131264325232,
       "encoder": "json",
       "name": "ABC-GAN Model 1 MAE",
       "version": 1
      }
     },
     "metadata": {
      "scrapbook": {
       "data": true,
       "display": false,
       "name": "ABC-GAN Model 1 MAE"
      }
     },
     "output_type": "display_data"
    },
    {
     "data": {
      "application/scrapbook.scrap.json+json": {
       "data": 4.0792262528650465,
       "encoder": "json",
       "name": "ABC-GAN Model 1 Manhattan Distance",
       "version": 1
      }
     },
     "metadata": {
      "scrapbook": {
       "data": true,
       "display": false,
       "name": "ABC-GAN Model 1 Manhattan Distance"
      }
     },
     "output_type": "display_data"
    },
    {
     "data": {
      "application/scrapbook.scrap.json+json": {
       "data": 1.256313754854296,
       "encoder": "json",
       "name": "ABC-GAN Model 1 Euclidean distance",
       "version": 1
      }
     },
     "metadata": {
      "scrapbook": {
       "data": true,
       "display": false,
       "name": "ABC-GAN Model 1 Euclidean distance"
      }
     },
     "output_type": "display_data"
    },
    {
     "data": {
      "application/scrapbook.scrap.json+json": {
       "data": [
        [
         0.07873015349311413,
         0.07539117732291843,
         0.07847264264657908,
         0.0799335613343278,
         0.07771212611985004,
         0.08077288000996785,
         0.07949079573203165,
         0.07697133597730772,
         0.07826040639853384,
         0.07822240315362941,
         0.07914472597826569,
         0.07856050235064668,
         0.07844663949820721,
         0.07965779170502715,
         0.07918724934789462,
         0.07978046487854985,
         0.0781437568864026,
         0.0778824207348783,
         0.07811198425365454,
         0.07965914533032839,
         0.07837104495137019,
         0.07836792315390387,
         0.07841437359981482,
         0.0780392019968632,
         0.07754758626879142,
         0.08088397813916803,
         0.08015159764495518,
         0.07750510372475901,
         0.07907771387128634,
         0.07918772933327753,
         0.0799200781737388,
         0.07900528862047608,
         0.08080760437942655,
         0.07667814685348996,
         0.07924985327245124,
         0.07872932512281856,
         0.07980743038394068,
         0.08128719684984369,
         0.07959985761673041,
         0.07763580807099744,
         0.07938056149136666,
         0.07736353953959997,
         0.07894001892583799,
         0.08014825353561342,
         0.07921875423302922,
         0.07898357381522174,
         0.07895227054434494,
         0.07938115659068652,
         0.07957287015845033,
         0.0784054696576373,
         0.08044681055088163,
         0.07771527450377833,
         0.08105139410219066,
         0.07848394979444193,
         0.07707408285397363,
         0.07952173531241986,
         0.08042623128824414,
         0.07951079611571979,
         0.07848649187743843,
         0.07778800944394428,
         0.07734844643713037,
         0.07876158919886846,
         0.07798503228045976,
         0.07854195858063331,
         0.08000157469758981,
         0.07824883034529083,
         0.07872382453275496,
         0.08108040225533589,
         0.07857713174705656,
         0.07801481447011062,
         0.07665653394996973,
         0.07949251213922279,
         0.0788411545690244,
         0.07910725641809112,
         0.0796334409847921,
         0.07868198412897545,
         0.07911661775351744,
         0.08018130868265935,
         0.07732395446853454,
         0.07874766853041684,
         0.08018258144874396,
         0.07844038724020666,
         0.0776821237897779,
         0.07852976241116084,
         0.07944113848150691,
         0.08100637392236486,
         0.07836351386076149,
         0.08099140402483199,
         0.07928316859751641,
         0.0779232111377209,
         0.07823153611447939,
         0.0824058700294393,
         0.07775209393851638,
         0.07828056312280633,
         0.07710480734406693,
         0.08002557967743967,
         0.07838241035964308,
         0.08075653554770214,
         0.07846065695075741,
         0.0800984128520553
        ],
        [
         0.20146911430638284,
         0.20083688001614064,
         0.2039266626117751,
         0.20548927064519376,
         0.20119563254993408,
         0.20539467472117395,
         0.20561685699503868,
         0.1992138712434098,
         0.20340422864537686,
         0.2019820763496682,
         0.2028191192774102,
         0.20382669332902878,
         0.20378467726986854,
         0.20364462200086564,
         0.2039163990644738,
         0.2054818621603772,
         0.20354140985291452,
         0.20366017657797783,
         0.2019223666517064,
         0.20534494917374105,
         0.2035230888752267,
         0.20396103102248161,
         0.20358472380321474,
         0.2022202430991456,
         0.20100314829032867,
         0.20618089351337404,
         0.2055249473778531,
         0.20131217937450857,
         0.20738772179465742,
         0.2030970736173913,
         0.20563523198943584,
         0.2056717450497672,
         0.20478555399458856,
         0.2018467678455636,
         0.20513423781376333,
         0.2042248873738572,
         0.20453998583834618,
         0.20470785785000772,
         0.20448206688743084,
         0.20249582889955492,
         0.20504863399546594,
         0.20156219217460603,
         0.20466255682986229,
         0.20387231323402374,
         0.2056358041940257,
         0.2059925927547738,
         0.202831211569719,
         0.20467919509392232,
         0.2053948550252244,
         0.2034281811444089,
         0.20489096257369965,
         0.20539980183821172,
         0.20668359759729354,
         0.2044342628447339,
         0.19972809616010637,
         0.2049312113551423,
         0.2048550347564742,
         0.20556105028372257,
         0.20220278787892312,
         0.20329311180394144,
         0.2011306582717225,
         0.20615758288186042,
         0.20219295758288353,
         0.2021819556830451,
         0.20602224830072374,
         0.20461586329620332,
         0.20336952719371765,
         0.20901685531716793,
         0.20389221298974008,
         0.20288285824935884,
         0.20125300500076265,
         0.20653436917345971,
         0.2041429540840909,
         0.20223642203491182,
         0.20533917497377843,
         0.20602341953199357,
         0.20392656128387898,
         0.20638853225391357,
         0.20434421997051685,
         0.20383403587620705,
         0.2054641070542857,
         0.20318057674448936,
         0.2002453750697896,
         0.20373373839538544,
         0.20355018402915448,
         0.20726917597930877,
         0.20209421727340668,
         0.20916174377780408,
         0.20283521625678985,
         0.20205414097290486,
         0.2027525334386155,
         0.2082487216917798,
         0.20150451574008912,
         0.20398820254486055,
         0.20149967211764305,
         0.2045886906562373,
         0.2009720704285428,
         0.20688521999400108,
         0.202995270001702,
         0.20474426734726875
        ],
        [
         4.029382286127657,
         4.016737600322813,
         4.078533252235502,
         4.109785412903875,
         4.023912650998682,
         4.107893494423479,
         4.112337139900774,
         3.9842774248681962,
         4.068084572907537,
         4.039641526993364,
         4.056382385548204,
         4.076533866580576,
         4.075693545397371,
         4.072892440017313,
         4.078327981289476,
         4.109637243207544,
         4.07082819705829,
         4.073203531559557,
         4.038447333034128,
         4.106898983474821,
         4.0704617775045335,
         4.079220620449632,
         4.071694476064295,
         4.044404861982912,
         4.020062965806574,
         4.123617870267481,
         4.110498947557062,
         4.026243587490171,
         4.147754435893148,
         4.061941472347826,
         4.112704639788717,
         4.113434900995344,
         4.095711079891771,
         4.036935356911272,
         4.102684756275266,
         4.084497747477144,
         4.090799716766924,
         4.094157157000154,
         4.089641337748617,
         4.049916577991098,
         4.100972679909319,
         4.0312438434921205,
         4.093251136597246,
         4.077446264680475,
         4.112716083880514,
         4.119851855095476,
         4.05662423139438,
         4.093583901878446,
         4.107897100504488,
         4.068563622888178,
         4.097819251473993,
         4.107996036764234,
         4.133671951945871,
         4.088685256894678,
         3.994561923202127,
         4.098624227102846,
         4.097100695129484,
         4.111221005674452,
         4.044055757578462,
         4.065862236078829,
         4.02261316543445,
         4.123151657637209,
         4.043859151657671,
         4.043639113660902,
         4.120444966014475,
         4.092317265924066,
         4.067390543874353,
         4.180337106343359,
         4.0778442597948015,
         4.057657164987177,
         4.025060100015253,
         4.130687383469194,
         4.082859081681818,
         4.044728440698236,
         4.1067834994755685,
         4.120468390639871,
         4.07853122567758,
         4.127770645078272,
         4.086884399410337,
         4.076680717524141,
         4.109282141085714,
         4.063611534889787,
         4.004907501395792,
         4.074674767907709,
         4.07100368058309,
         4.145383519586176,
         4.041884345468134,
         4.1832348755560815,
         4.056704325135797,
         4.041082819458097,
         4.05505066877231,
         4.164974433835596,
         4.030090314801782,
         4.079764050897211,
         4.029993442352861,
         4.091773813124746,
         4.019441408570856,
         4.137704399880022,
         4.05990540003404,
         4.094885346945375
        ],
        [
         1.2548318890840648,
         1.22793466701546,
         1.2527780541387135,
         1.2643857111999313,
         1.2466926334895065,
         1.2710065303527582,
         1.2608790245858772,
         1.2407363618215412,
         1.251082782221335,
         1.250778982503539,
         1.2581313602185242,
         1.2534791769363118,
         1.2525704730529712,
         1.2622027705961285,
         1.258469303144853,
         1.2631742942171509,
         1.2501500460856896,
         1.2480578571114265,
         1.249895869691988,
         1.2622134948599495,
         1.2519668122707581,
         1.2519418768769088,
         1.252312849090153,
         1.2493134274221438,
         1.2453721232530575,
         1.2718803256530704,
         1.266108981446346,
         1.2450309532277422,
         1.257598615387965,
         1.2584731171803196,
         1.264279068669088,
         1.2570225822989505,
         1.271279704702522,
         1.2383710821356413,
         1.2589666657417997,
         1.2548252876222934,
         1.2633877503279876,
         1.2750466411064632,
         1.2617436951832208,
         1.2460803190083491,
         1.2600044562728074,
         1.2438934000918243,
         1.256503234582689,
         1.2660825686787842,
         1.2587196211470546,
         1.2568498224944915,
         1.2566007364660021,
         1.2600091792577268,
         1.2615297868734636,
         1.2522417470890939,
         1.268438493194539,
         1.2467178871242548,
         1.2731959323072837,
         1.2528683074804146,
         1.2415641977277987,
         1.2611243817516167,
         1.268276241898776,
         1.261037637152197,
         1.252888597421482,
         1.247301162061066,
         1.2437720565853727,
         1.2550823813508694,
         1.248879756265268,
         1.2533312298082524,
         1.2649235130836156,
         1.2509902505238866,
         1.25478145135123,
         1.2734237492314637,
         1.253611835833218,
         1.2491182047357297,
         1.2381965429605246,
         1.260892637294887,
         1.255716166727373,
         1.2578335058193602,
         1.2620098334386471,
         1.2544479592950473,
         1.2579079278986791,
         1.2663436238451184,
         1.243575124136331,
         1.2549714620692922,
         1.2663536745218056,
         1.2525205566393445,
         1.2464519548685211,
         1.2532339160041979,
         1.260485132649385,
         1.2728422834142874,
         1.251906656750107,
         1.272724667984651,
         1.2592312622986805,
         1.2483846453535137,
         1.2508519985552198,
         1.283790247894408,
         1.247013183078001,
         1.2512438860814172,
         1.2418116390505198,
         1.2651132730110746,
         1.2520575894074766,
         1.2708779292103718,
         1.2526823775463387,
         1.2656888468502463
        ]
       ],
       "encoder": "json",
       "name": "ABC_GAN_1 Metrics",
       "version": 1
      }
     },
     "metadata": {
      "scrapbook": {
       "data": true,
       "display": false,
       "name": "ABC_GAN_1 Metrics"
      }
     },
     "output_type": "display_data"
    },
    {
     "name": "stdout",
     "output_type": "stream",
     "text": [
      "MSE\n",
      "0.0789205841653697\n"
     ]
    }
   ],
   "source": [
    "ABC_GAN1_metrics=ABC_train_test2.test_generator(gen,test_data,prior_model,variance,0,\"1\",device)\n",
    "sb.glue(\"ABC_GAN_1 Metrics\",ABC_GAN1_metrics)\n",
    "\n",
    "print(\"MSE\")\n",
    "print(mean(ABC_GAN1_metrics[0]))"
   ]
  },
  {
   "cell_type": "code",
   "execution_count": 14,
   "id": "eb22ce5c",
   "metadata": {
    "execution": {
     "iopub.execute_input": "2022-05-18T08:48:00.952711Z",
     "iopub.status.busy": "2022-05-18T08:48:00.952344Z",
     "iopub.status.idle": "2022-05-18T08:48:01.247571Z",
     "shell.execute_reply": "2022-05-18T08:48:01.247877Z"
    },
    "papermill": {
     "duration": 0.309616,
     "end_time": "2022-05-18T08:48:01.248003",
     "exception": false,
     "start_time": "2022-05-18T08:48:00.938387",
     "status": "completed"
    },
    "tags": []
   },
   "outputs": [
    {
     "data": {
      "image/png": "[encoded data removed]",
      "text/plain": [
       "<Figure size 432x288 with 1 Axes>"
      ]
     },
     "metadata": {
      "needs_background": "light"
     },
     "output_type": "display_data"
    },
    {
     "data": {
      "image/png": "[encoded data removed]",
      "text/plain": [
       "<Figure size 432x288 with 1 Axes>"
      ]
     },
     "metadata": {
      "needs_background": "light"
     },
     "output_type": "display_data"
    },
    {
     "data": {
      "image/png": "[encoded data removed]",
      "text/plain": [
       "<Figure size 432x288 with 1 Axes>"
      ]
     },
     "metadata": {
      "needs_background": "light"
     },
     "output_type": "display_data"
    },
    {
     "data": {
      "image/png": "[encoded data removed]",
      "text/plain": [
       "<Figure size 432x288 with 1 Axes>"
      ]
     },
     "metadata": {
      "needs_background": "light"
     },
     "output_type": "display_data"
    }
   ],
   "source": [
    "sanityChecks.discProbVsError(train_data,disc,device)\n",
    "sanityChecks.discProbVsError(test_data,disc,device)"
   ]
  },
  {
   "cell_type": "markdown",
   "id": "130f3a4d",
   "metadata": {
    "id": "130f3a4d",
    "papermill": {
     "duration": 0.014142,
     "end_time": "2022-05-18T08:48:01.276643",
     "exception": false,
     "start_time": "2022-05-18T08:48:01.262501",
     "status": "completed"
    },
    "tags": []
   },
   "source": [
    "# ABC - GAN Model with skip connection"
   ]
  },
  {
   "cell_type": "code",
   "execution_count": 15,
   "id": "4e43dad1",
   "metadata": {
    "execution": {
     "iopub.execute_input": "2022-05-18T08:48:01.308483Z",
     "iopub.status.busy": "2022-05-18T08:48:01.308106Z",
     "iopub.status.idle": "2022-05-18T08:48:01.310385Z",
     "shell.execute_reply": "2022-05-18T08:48:01.310618Z"
    },
    "id": "4e43dad1",
    "papermill": {
     "duration": 0.01989,
     "end_time": "2022-05-18T08:48:01.310733",
     "exception": false,
     "start_time": "2022-05-18T08:48:01.290843",
     "status": "completed"
    },
    "tags": []
   },
   "outputs": [],
   "source": [
    "#Generator\n",
    "gen3 = network.GeneratorWithSkipConnection(n_features+1).to(device)\n",
    "constraints=network.weightConstraint()\n",
    "#Discriminator \n",
    "disc3 = network.Discriminator(n_features+1).to(device)\n",
    "\n",
    "criterion = torch.nn.BCELoss()\n",
    "gen_opt = torch.optim.Adam(gen3.parameters(), lr=0.001, betas=(0.5, 0.999))\n",
    "disc_opt = torch.optim.Adam(disc3.parameters(), lr=0.001, betas=(0.5, 0.999))\n"
   ]
  },
  {
   "cell_type": "code",
   "execution_count": 16,
   "id": "26acbc37",
   "metadata": {
    "execution": {
     "iopub.execute_input": "2022-05-18T08:48:01.342699Z",
     "iopub.status.busy": "2022-05-18T08:48:01.342328Z",
     "iopub.status.idle": "2022-05-18T08:48:40.310148Z",
     "shell.execute_reply": "2022-05-18T08:48:40.310613Z"
    },
    "id": "26acbc37",
    "papermill": {
     "duration": 38.985579,
     "end_time": "2022-05-18T08:48:40.310745",
     "exception": false,
     "start_time": "2022-05-18T08:48:01.325166",
     "status": "completed"
    },
    "tags": []
   },
   "outputs": [
    {
     "data": {
      "image/png": "[encoded data removed]",
      "text/plain": [
       "<Figure size 432x288 with 1 Axes>"
      ]
     },
     "metadata": {
      "needs_background": "light"
     },
     "output_type": "display_data"
    },
    {
     "data": {
      "image/png": "[encoded data removed]",
      "text/plain": [
       "<Figure size 432x288 with 1 Axes>"
      ]
     },
     "metadata": {
      "needs_background": "light"
     },
     "output_type": "display_data"
    }
   ],
   "source": [
    "ABC_train_test2.training_GAN_skip_connection(disc3,gen3,disc_opt,gen_opt,train_data,batch_size,n_epochs,criterion,prior_model,variance,0,device)"
   ]
  },
  {
   "cell_type": "code",
   "execution_count": 17,
   "id": "c5e0717b",
   "metadata": {
    "execution": {
     "iopub.execute_input": "2022-05-18T08:48:40.344321Z",
     "iopub.status.busy": "2022-05-18T08:48:40.343836Z",
     "iopub.status.idle": "2022-05-18T08:48:40.649359Z",
     "shell.execute_reply": "2022-05-18T08:48:40.649659Z"
    },
    "id": "c5e0717b",
    "papermill": {
     "duration": 0.323581,
     "end_time": "2022-05-18T08:48:40.649793",
     "exception": false,
     "start_time": "2022-05-18T08:48:40.326212",
     "status": "completed"
    },
    "tags": []
   },
   "outputs": [
    {
     "data": {
      "application/scrapbook.scrap.json+json": {
       "data": 0.10701603106766489,
       "encoder": "json",
       "name": "ABC-GAN Model 3 MSE",
       "version": 1
      }
     },
     "metadata": {
      "scrapbook": {
       "data": true,
       "display": false,
       "name": "ABC-GAN Model 3 MSE"
      }
     },
     "output_type": "display_data"
    },
    {
     "data": {
      "application/scrapbook.scrap.json+json": {
       "data": 0.21670258320262656,
       "encoder": "json",
       "name": "ABC-GAN Model 3 MAE",
       "version": 1
      }
     },
     "metadata": {
      "scrapbook": {
       "data": true,
       "display": false,
       "name": "ABC-GAN Model 3 MAE"
      }
     },
     "output_type": "display_data"
    },
    {
     "data": {
      "application/scrapbook.scrap.json+json": {
       "data": 4.334051664052531,
       "encoder": "json",
       "name": "ABC-GAN Model 3 Manhattan Distance",
       "version": 1
      }
     },
     "metadata": {
      "scrapbook": {
       "data": true,
       "display": false,
       "name": "ABC-GAN Model 3 Manhattan Distance"
      }
     },
     "output_type": "display_data"
    },
    {
     "data": {
      "application/scrapbook.scrap.json+json": {
       "data": 1.4629517974975956,
       "encoder": "json",
       "name": "ABC-GAN Model 3 Euclidean distance",
       "version": 1
      }
     },
     "metadata": {
      "scrapbook": {
       "data": true,
       "display": false,
       "name": "ABC-GAN Model 3 Euclidean distance"
      }
     },
     "output_type": "display_data"
    },
    {
     "data": {
      "application/scrapbook.scrap.json+json": {
       "data": [
        [
         0.1081103796089995,
         0.10818031948024243,
         0.10672008023009796,
         0.10834138553566972,
         0.10637559928476197,
         0.10451225774396251,
         0.10386350729094822,
         0.10882150170549329,
         0.10604520351111377,
         0.10622723780134628,
         0.10749071582492205,
         0.107447254660284,
         0.10547172566251257,
         0.10812922096248415,
         0.10691692618937587,
         0.105089314574595,
         0.10844445153124296,
         0.10587398943280132,
         0.10616758027540989,
         0.1056625816658435,
         0.10953278832392747,
         0.10739983501944032,
         0.10845344640827229,
         0.10678731847806208,
         0.10735895325173317,
         0.10582074921556142,
         0.10600846664686765,
         0.10847733560776299,
         0.10551697006371841,
         0.10533078462258479,
         0.10576371628590833,
         0.10546276167224007,
         0.10482861054580553,
         0.10880560587233176,
         0.10814335446747177,
         0.10657074639540356,
         0.10766092553525781,
         0.10716448272025052,
         0.10893309293831095,
         0.10684499280695,
         0.10645850723241075,
         0.10909148850503755,
         0.10700327138046298,
         0.10628876344271665,
         0.1068917101522238,
         0.10459281503365965,
         0.10800458175395629,
         0.10795587889721636,
         0.10764325090581406,
         0.10515399675159247,
         0.10996228840260192,
         0.10743986597180102,
         0.10796412380084805,
         0.10643863554633115,
         0.10540211187236481,
         0.10830863176537713,
         0.1043308039811111,
         0.10676553321209714,
         0.10613521168365248,
         0.10688362545402948,
         0.11004661042076411,
         0.10661593129390849,
         0.10775410218279573,
         0.1069969639877723,
         0.10644053168628109,
         0.1068776712220405,
         0.10736314947006495,
         0.10718404476000573,
         0.10697637020869397,
         0.10500813848415311,
         0.1069501072062498,
         0.10795087310807952,
         0.10723600381269602,
         0.10629527122757683,
         0.10475010483360139,
         0.10721195434949767,
         0.10660909842208614,
         0.11004496616310662,
         0.1057281891591845,
         0.10906969273871128,
         0.1080818996367557,
         0.10970735286474058,
         0.10720003939550557,
         0.10764243174501775,
         0.10482853821740175,
         0.10951256150658195,
         0.10657627536598513,
         0.10517398403801319,
         0.10698496446598231,
         0.10599147474660783,
         0.10735054930603924,
         0.108083873953059,
         0.1079971033284421,
         0.1055819411314635,
         0.10626636500712686,
         0.10619838026660773,
         0.10952095218325689,
         0.10917410133818448,
         0.10834362767574421,
         0.1048056502614304
        ],
        [
         0.21831245596986265,
         0.21808275177609177,
         0.21731839252170176,
         0.21616397153120487,
         0.21903304706793278,
         0.21433143715839834,
         0.21278184435795994,
         0.21853794192429632,
         0.21375703390222042,
         0.21897600020747632,
         0.21625323321204631,
         0.2192610840080306,
         0.21545429776888342,
         0.21777565369848162,
         0.21508470175322145,
         0.21435136336367577,
         0.2192970446078107,
         0.2134624253725633,
         0.2171463824575767,
         0.2155214163241908,
         0.21798503070604056,
         0.2195221400586888,
         0.2181470452575013,
         0.21693183693569154,
         0.2119371336651966,
         0.2131898380583152,
         0.21713539462070913,
         0.2186955091310665,
         0.2127085514133796,
         0.21488291311543434,
         0.2139677648199722,
         0.21455379005055875,
         0.21552306867670268,
         0.219875818467699,
         0.21688576943706722,
         0.21562559984158725,
         0.21917826018761843,
         0.21808145015966146,
         0.21832783918362111,
         0.21572884570341558,
         0.21637687783222645,
         0.21833083822857588,
         0.2202379072783515,
         0.21878139290492982,
         0.2171436845092103,
         0.2170074975816533,
         0.218117222818546,
         0.21604988228064032,
         0.21994414150249214,
         0.2114609027048573,
         0.22138305061962454,
         0.21800245165359228,
         0.2177885780809447,
         0.21664676524233073,
         0.21222757555078714,
         0.22058009987231345,
         0.2138528984738514,
         0.21812116231303663,
         0.2144259504741058,
         0.21668291955720634,
         0.21798971479292958,
         0.21582717017736286,
         0.2182745053200051,
         0.21683095141779632,
         0.21483309722971172,
         0.21845350980293005,
         0.2176894028438255,
         0.21632463538553565,
         0.21652305244933814,
         0.2129546331940219,
         0.21960965439211577,
         0.21668352659326046,
         0.21648848529439418,
         0.21664667211007327,
         0.21596975631546228,
         0.21590068850200622,
         0.21498079446610063,
         0.21427313697058709,
         0.21714874811004847,
         0.21739170921500772,
         0.2210040922043845,
         0.2179226362379268,
         0.2152985132066533,
         0.2164550334913656,
         0.21414190109353512,
         0.22114989820402114,
         0.21741211756598205,
         0.2137516109040007,
         0.21640971291344613,
         0.21388181585352867,
         0.2169253245694563,
         0.21684014822822065,
         0.2167435619747266,
         0.2151256408309564,
         0.21456792911048977,
         0.2133323251036927,
         0.21818853586446493,
         0.21998293350916356,
         0.21750202940311283,
         0.21988083745818585
        ],
        [
         4.366249119397253,
         4.361655035521835,
         4.346367850434035,
         4.323279430624098,
         4.380660941358656,
         4.286628743167967,
         4.2556368871591985,
         4.370758838485926,
         4.275140678044409,
         4.379520004149526,
         4.3250646642409265,
         4.385221680160612,
         4.309085955377668,
         4.355513073969632,
         4.301694035064429,
         4.2870272672735155,
         4.3859408921562135,
         4.269248507451266,
         4.342927649151534,
         4.310428326483816,
         4.359700614120811,
         4.390442801173776,
         4.362940905150026,
         4.338636738713831,
         4.238742673303932,
         4.263796761166304,
         4.342707892414182,
         4.37391018262133,
         4.254171028267592,
         4.297658262308687,
         4.279355296399444,
         4.291075801011175,
         4.310461373534054,
         4.39751636935398,
         4.337715388741344,
         4.312511996831745,
         4.383565203752369,
         4.361629003193229,
         4.366556783672422,
         4.3145769140683115,
         4.327537556644529,
         4.366616764571518,
         4.40475814556703,
         4.375627858098596,
         4.342873690184206,
         4.340149951633066,
         4.36234445637092,
         4.320997645612806,
         4.398882830049843,
         4.229218054097146,
         4.427661012392491,
         4.360049033071846,
         4.355771561618894,
         4.332935304846615,
         4.244551511015743,
         4.411601997446269,
         4.277057969477028,
         4.362423246260732,
         4.2885190094821155,
         4.333658391144127,
         4.359794295858592,
         4.316543403547257,
         4.365490106400102,
         4.336619028355926,
         4.296661944594234,
         4.369070196058601,
         4.35378805687651,
         4.326492707710713,
         4.330461048986763,
         4.259092663880438,
         4.392193087842315,
         4.333670531865209,
         4.329769705887884,
         4.332933442201465,
         4.319395126309246,
         4.318013770040125,
         4.299615889322013,
         4.2854627394117415,
         4.3429749622009695,
         4.3478341843001544,
         4.42008184408769,
         4.358452724758536,
         4.305970264133066,
         4.329100669827312,
         4.2828380218707025,
         4.422997964080423,
         4.348242351319641,
         4.275032218080014,
         4.328194258268923,
         4.277636317070574,
         4.338506491389126,
         4.336802964564413,
         4.334871239494532,
         4.302512816619128,
         4.291358582209796,
         4.266646502073854,
         4.363770717289299,
         4.399658670183271,
         4.350040588062257,
         4.397616749163717
        ],
        [
         1.4704446919826635,
         1.4709202526326328,
         1.4609591385805283,
         1.4720148473141819,
         1.458599323219108,
         1.4457680155817705,
         1.4412737928023822,
         1.4752728676790154,
         1.456332403753441,
         1.4575818179529154,
         1.466224510945865,
         1.4659280654949205,
         1.4523892430234573,
         1.4705728201111574,
         1.4623058926871346,
         1.4497538727287125,
         1.4727148504122782,
         1.455156276368977,
         1.457172469376291,
         1.4537027321006417,
         1.4800864050718625,
         1.4656045511626956,
         1.472775925986518,
         1.4614192997087598,
         1.465325583286753,
         1.454790357512459,
         1.4560801258644227,
         1.4729381223103908,
         1.4527007266723482,
         1.4514185104413184,
         1.4543982692915192,
         1.452327522787061,
         1.4479544920045349,
         1.4751651153164635,
         1.4706689258121406,
         1.4599366177708097,
         1.4673849224743847,
         1.4639978327869922,
         1.4760290846613486,
         1.4618138924428787,
         1.4591676204768986,
         1.4771018143989774,
         1.462896246358319,
         1.4580038644853905,
         1.4621334422837324,
         1.446325101999268,
         1.4697250202262755,
         1.4693936089231934,
         1.4672644676800026,
         1.4501999638090775,
         1.4829854240861702,
         1.4658776618244853,
         1.4694497187780742,
         1.4590314290400406,
         1.4519098585818944,
         1.4717923207122472,
         1.4445124020312952,
         1.4612702228684271,
         1.456950319562424,
         1.4620781473917834,
         1.4835539115297705,
         1.460246084013982,
         1.4680197695044555,
         1.4628531299332295,
         1.4590444248636234,
         1.4620374223804293,
         1.4653542197712126,
         1.4641314473776303,
         1.4627123449858073,
         1.4491938344069306,
         1.4625327839487894,
         1.46935954148792,
         1.464486284078455,
         1.4580484986966438,
         1.4474122068961652,
         1.4643220571274453,
         1.4601992906592316,
         1.4835428282534118,
         1.4541539750603063,
         1.476954249384261,
         1.4702509965087982,
         1.4812653568131577,
         1.4642406864686255,
         1.4672588847576815,
         1.4479539924831986,
         1.4799497390559042,
         1.4599744885852295,
         1.4503377816082237,
         1.4627710994272638,
         1.455963424998086,
         1.4652682300933113,
         1.4702644248777768,
         1.469674136184223,
         1.4531479011543422,
         1.4578502324115934,
         1.4573838222418123,
         1.480006433656671,
         1.47766099859328,
         1.4720300790115957,
         1.447795912837375
        ]
       ],
       "encoder": "json",
       "name": "ABC_GAN_3 Metrics",
       "version": 1
      }
     },
     "metadata": {
      "scrapbook": {
       "data": true,
       "display": false,
       "name": "ABC_GAN_3 Metrics"
      }
     },
     "output_type": "display_data"
    },
    {
     "name": "stdout",
     "output_type": "stream",
     "text": [
      "MSE\n",
      "0.10701603106766489\n"
     ]
    }
   ],
   "source": [
    "ABC_GAN3_metrics=ABC_train_test2.test_generator(gen3,test_data,prior_model,variance,0,\"3\",device)\n",
    "sb.glue(\"ABC_GAN_3 Metrics\",ABC_GAN3_metrics)\n",
    "\n",
    "print(\"MSE\")\n",
    "print(mean(ABC_GAN3_metrics[0]))"
   ]
  },
  {
   "cell_type": "code",
   "execution_count": 18,
   "id": "c8e46b48",
   "metadata": {
    "execution": {
     "iopub.execute_input": "2022-05-18T08:48:40.709601Z",
     "iopub.status.busy": "2022-05-18T08:48:40.709224Z",
     "iopub.status.idle": "2022-05-18T08:48:40.999306Z",
     "shell.execute_reply": "2022-05-18T08:48:40.999681Z"
    },
    "id": "c8e46b48",
    "papermill": {
     "duration": 0.310155,
     "end_time": "2022-05-18T08:48:40.999802",
     "exception": false,
     "start_time": "2022-05-18T08:48:40.689647",
     "status": "completed"
    },
    "tags": []
   },
   "outputs": [
    {
     "data": {
      "image/png": "[encoded data removed]",
      "text/plain": [
       "<Figure size 432x288 with 1 Axes>"
      ]
     },
     "metadata": {
      "needs_background": "light"
     },
     "output_type": "display_data"
    },
    {
     "data": {
      "image/png": "[encoded data removed]",
      "text/plain": [
       "<Figure size 432x288 with 1 Axes>"
      ]
     },
     "metadata": {
      "needs_background": "light"
     },
     "output_type": "display_data"
    },
    {
     "data": {
      "image/png": "[encoded data removed]",
      "text/plain": [
       "<Figure size 432x288 with 1 Axes>"
      ]
     },
     "metadata": {
      "needs_background": "light"
     },
     "output_type": "display_data"
    },
    {
     "data": {
      "image/png": "[encoded data removed]",
      "text/plain": [
       "<Figure size 432x288 with 1 Axes>"
      ]
     },
     "metadata": {
      "needs_background": "light"
     },
     "output_type": "display_data"
    }
   ],
   "source": [
    "sanityChecks.discProbVsError(train_data,disc3,device)\n",
    "sanityChecks.discProbVsError(test_data,disc3,device)"
   ]
  },
  {
   "cell_type": "markdown",
   "id": "a5bd74c3",
   "metadata": {
    "id": "a5bd74c3",
    "papermill": {
     "duration": 0.019467,
     "end_time": "2022-05-18T08:48:41.040626",
     "exception": false,
     "start_time": "2022-05-18T08:48:41.021159",
     "status": "completed"
    },
    "tags": []
   },
   "source": [
    "## Skip Connection Model Analysis - ABC-GAN "
   ]
  },
  {
   "cell_type": "markdown",
   "id": "5744a8bf",
   "metadata": {
    "id": "5744a8bf",
    "papermill": {
     "duration": 0.018822,
     "end_time": "2022-05-18T08:48:41.078563",
     "exception": false,
     "start_time": "2022-05-18T08:48:41.059741",
     "status": "completed"
    },
    "tags": []
   },
   "source": [
    "### Weight Analysis \n",
    "\n",
    "Study the weights of the skip connection layer\n",
    "\n",
    "Equation of the skip connection is \n",
    "\n",
    "$output = y_{gan} * w + y_{abc} * (1-w)$"
   ]
  },
  {
   "cell_type": "code",
   "execution_count": 19,
   "id": "52c31dea",
   "metadata": {
    "execution": {
     "iopub.execute_input": "2022-05-18T08:48:41.119303Z",
     "iopub.status.busy": "2022-05-18T08:48:41.118922Z",
     "iopub.status.idle": "2022-05-18T08:48:41.121828Z",
     "shell.execute_reply": "2022-05-18T08:48:41.122084Z"
    },
    "id": "52c31dea",
    "papermill": {
     "duration": 0.024771,
     "end_time": "2022-05-18T08:48:41.122201",
     "exception": false,
     "start_time": "2022-05-18T08:48:41.097430",
     "status": "completed"
    },
    "tags": []
   },
   "outputs": [
    {
     "name": "stdout",
     "output_type": "stream",
     "text": [
      "Weight of the node at skip connection\n",
      "Parameter containing:\n",
      "tensor([[0.]], requires_grad=True)\n"
     ]
    },
    {
     "data": {
      "application/scrapbook.scrap.json+json": {
       "data": 0.0,
       "encoder": "json",
       "name": "Skip Connection Weight",
       "version": 1
      }
     },
     "metadata": {
      "scrapbook": {
       "data": true,
       "display": false,
       "name": "Skip Connection Weight"
      }
     },
     "output_type": "display_data"
    }
   ],
   "source": [
    "print(\"Weight of the node at skip connection\")\n",
    "for name,param in gen3.named_parameters():\n",
    "    if(name == \"skipNode.weight\"):\n",
    "        print(param)\n",
    "        sb.glue(\"Skip Connection Weight\",param.item())"
   ]
  }
 ],
 "metadata": {
  "colab": {
   "collapsed_sections": [],
   "name": "ABC_GAN_Model-Catboost_Pre-gen.ipynb",
   "provenance": []
  },
  "interpreter": {
   "hash": "31f2aee4e71d21fbe5cf8b01ff0e069b9275f58929596ceb00d14d90e3e16cd6"
  },
  "kernelspec": {
   "display_name": "Python 3 (ipykernel)",
   "language": "python",
   "name": "python3"
  },
  "language_info": {
   "codemirror_mode": {
    "name": "ipython",
    "version": 3
   },
   "file_extension": ".py",
   "mimetype": "text/x-python",
   "name": "python",
   "nbconvert_exporter": "python",
   "pygments_lexer": "ipython3",
   "version": "3.8.11"
  },
  "papermill": {
   "default_parameters": {},
   "duration": 59.402658,
   "end_time": "2022-05-18T08:48:41.450386",
   "environment_variables": {},
   "exception": null,
   "input_path": "ABC_GAN-Catboost.ipynb",
   "output_path": "./ABC_GAN_Catboost/ABC-GAN_output_9_2.ipynb",
   "parameters": {
    "variance": 0.01
   },
   "start_time": "2022-05-18T08:47:42.047728",
   "version": "2.3.3"
  }
 },
 "nbformat": 4,
 "nbformat_minor": 5
}