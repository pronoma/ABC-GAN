{
 "cells": [
  {
   "cell_type": "markdown",
   "id": "622780e6",
   "metadata": {
    "id": "622780e6",
    "papermill": {
     "duration": 0.032134,
     "end_time": "2022-05-18T08:48:43.417917",
     "exception": false,
     "start_time": "2022-05-18T08:48:43.385783",
     "status": "completed"
    },
    "tags": []
   },
   "source": [
    "## Import Libraries "
   ]
  },
  {
   "cell_type": "code",
   "execution_count": 1,
   "id": "a62397e3",
   "metadata": {
    "execution": {
     "iopub.execute_input": "2022-05-18T08:48:43.454619Z",
     "iopub.status.busy": "2022-05-18T08:48:43.454063Z",
     "iopub.status.idle": "2022-05-18T08:48:43.456440Z",
     "shell.execute_reply": "2022-05-18T08:48:43.456784Z"
    },
    "id": "a62397e3",
    "papermill": {
     "duration": 0.022285,
     "end_time": "2022-05-18T08:48:43.457001",
     "exception": false,
     "start_time": "2022-05-18T08:48:43.434716",
     "status": "completed"
    },
    "tags": []
   },
   "outputs": [],
   "source": [
    "import warnings\n",
    "import sys\n",
    "sys.path.insert(0, '../../src')\n",
    "warnings.filterwarnings('ignore')"
   ]
  },
  {
   "cell_type": "code",
   "execution_count": 2,
   "id": "d6a4e155",
   "metadata": {
    "execution": {
     "iopub.execute_input": "2022-05-18T08:48:43.477717Z",
     "iopub.status.busy": "2022-05-18T08:48:43.477310Z",
     "iopub.status.idle": "2022-05-18T08:48:45.096232Z",
     "shell.execute_reply": "2022-05-18T08:48:45.096496Z"
    },
    "id": "d6a4e155",
    "papermill": {
     "duration": 1.629931,
     "end_time": "2022-05-18T08:48:45.096627",
     "exception": false,
     "start_time": "2022-05-18T08:48:43.466696",
     "status": "completed"
    },
    "tags": []
   },
   "outputs": [],
   "source": [
    "import ABC_train_test2\n",
    "import friedman1Dataset\n",
    "import network\n",
    "import dataset\n",
    "import sanityChecks\n",
    "import torch \n",
    "import scrapbook as sb\n",
    "from statistics import mean \n",
    "import catboost as ctb \n",
    "from sklearn.model_selection import train_test_split\n",
    "from sklearn.metrics import mean_squared_error,mean_absolute_error\n",
    "import numpy as np"
   ]
  },
  {
   "cell_type": "markdown",
   "id": "2fa5b0f7",
   "metadata": {
    "id": "2fa5b0f7",
    "papermill": {
     "duration": 0.00715,
     "end_time": "2022-05-18T08:48:45.111156",
     "exception": false,
     "start_time": "2022-05-18T08:48:45.104006",
     "status": "completed"
    },
    "tags": []
   },
   "source": [
    "## Parameters "
   ]
  },
  {
   "cell_type": "code",
   "execution_count": 3,
   "id": "783186fb",
   "metadata": {
    "execution": {
     "iopub.execute_input": "2022-05-18T08:48:45.127583Z",
     "iopub.status.busy": "2022-05-18T08:48:45.127214Z",
     "iopub.status.idle": "2022-05-18T08:48:45.128533Z",
     "shell.execute_reply": "2022-05-18T08:48:45.128787Z"
    },
    "id": "783186fb",
    "papermill": {
     "duration": 0.010686,
     "end_time": "2022-05-18T08:48:45.128899",
     "exception": false,
     "start_time": "2022-05-18T08:48:45.118213",
     "status": "completed"
    },
    "tags": [
     "parameters"
    ]
   },
   "outputs": [],
   "source": [
    "variance = 1"
   ]
  },
  {
   "cell_type": "code",
   "execution_count": 4,
   "id": "8de99e0c",
   "metadata": {
    "execution": {
     "iopub.execute_input": "2022-05-18T08:48:45.145123Z",
     "iopub.status.busy": "2022-05-18T08:48:45.144735Z",
     "iopub.status.idle": "2022-05-18T08:48:45.146059Z",
     "shell.execute_reply": "2022-05-18T08:48:45.146305Z"
    },
    "papermill": {
     "duration": 0.010797,
     "end_time": "2022-05-18T08:48:45.146925",
     "exception": false,
     "start_time": "2022-05-18T08:48:45.136128",
     "status": "completed"
    },
    "tags": [
     "injected-parameters"
    ]
   },
   "outputs": [],
   "source": [
    "# Parameters\n",
    "variance = 1\n"
   ]
  },
  {
   "cell_type": "markdown",
   "id": "391cdbfd",
   "metadata": {
    "id": "391cdbfd",
    "papermill": {
     "duration": 0.007223,
     "end_time": "2022-05-18T08:48:45.161744",
     "exception": false,
     "start_time": "2022-05-18T08:48:45.154521",
     "status": "completed"
    },
    "tags": []
   },
   "source": [
    "## Dataset \n"
   ]
  },
  {
   "cell_type": "code",
   "execution_count": 5,
   "id": "5b51f161",
   "metadata": {
    "execution": {
     "iopub.execute_input": "2022-05-18T08:48:45.178419Z",
     "iopub.status.busy": "2022-05-18T08:48:45.178033Z",
     "iopub.status.idle": "2022-05-18T08:48:45.179251Z",
     "shell.execute_reply": "2022-05-18T08:48:45.179511Z"
    },
    "id": "5b51f161",
    "papermill": {
     "duration": 0.01071,
     "end_time": "2022-05-18T08:48:45.179626",
     "exception": false,
     "start_time": "2022-05-18T08:48:45.168916",
     "status": "completed"
    },
    "tags": []
   },
   "outputs": [],
   "source": [
    "#Parameters \n",
    "n_features = 5\n",
    "n_samples= 100\n",
    "n_target = 1 "
   ]
  },
  {
   "cell_type": "code",
   "execution_count": 6,
   "id": "5d6eced4",
   "metadata": {
    "execution": {
     "iopub.execute_input": "2022-05-18T08:48:45.196792Z",
     "iopub.status.busy": "2022-05-18T08:48:45.196411Z",
     "iopub.status.idle": "2022-05-18T08:48:45.202502Z",
     "shell.execute_reply": "2022-05-18T08:48:45.202755Z"
    },
    "id": "5d6eced4",
    "papermill": {
     "duration": 0.015776,
     "end_time": "2022-05-18T08:48:45.202872",
     "exception": false,
     "start_time": "2022-05-18T08:48:45.187096",
     "status": "completed"
    },
    "tags": []
   },
   "outputs": [
    {
     "name": "stdout",
     "output_type": "stream",
     "text": [
      "         X0        X1        X2        X3        X4         Y\n",
      "0  1.541879  1.221388 -0.939365 -1.617158  1.104232 -0.503029\n",
      "1 -0.688529  0.655700 -1.206524  0.486079 -0.688520  0.396021\n",
      "2  1.501021 -0.989112 -1.290825  0.553957  0.931154  1.092422\n",
      "3  1.075410  0.046210 -1.699721 -0.052788 -1.171396  1.269347\n",
      "4  0.886566  1.208695 -0.616669 -0.379445 -1.283201  0.048008\n"
     ]
    }
   ],
   "source": [
    "X,Y = friedman1Dataset.friedman1_data(n_samples,n_features)"
   ]
  },
  {
   "cell_type": "code",
   "execution_count": 7,
   "id": "fe007438",
   "metadata": {
    "execution": {
     "iopub.execute_input": "2022-05-18T08:48:45.220716Z",
     "iopub.status.busy": "2022-05-18T08:48:45.220317Z",
     "iopub.status.idle": "2022-05-18T08:48:45.222141Z",
     "shell.execute_reply": "2022-05-18T08:48:45.221798Z"
    },
    "id": "fe007438",
    "papermill": {
     "duration": 0.011614,
     "end_time": "2022-05-18T08:48:45.222251",
     "exception": false,
     "start_time": "2022-05-18T08:48:45.210637",
     "status": "completed"
    },
    "tags": []
   },
   "outputs": [],
   "source": [
    "#Train test split for dataset \n",
    "X_train,X_test,Y_train,Y_test = train_test_split(X,Y,test_size = 0.2)\n",
    "train_data = dataset.CustomDataset(X_train,Y_train)\n",
    "test_data = dataset.CustomDataset(X_test,Y_test)\n"
   ]
  },
  {
   "cell_type": "markdown",
   "id": "a9a1af34",
   "metadata": {
    "id": "a9a1af34",
    "papermill": {
     "duration": 0.007459,
     "end_time": "2022-05-18T08:48:45.237318",
     "exception": false,
     "start_time": "2022-05-18T08:48:45.229859",
     "status": "completed"
    },
    "tags": []
   },
   "source": [
    "## Training Parameters "
   ]
  },
  {
   "cell_type": "code",
   "execution_count": 8,
   "id": "952b7fc8",
   "metadata": {
    "execution": {
     "iopub.execute_input": "2022-05-18T08:48:45.254669Z",
     "iopub.status.busy": "2022-05-18T08:48:45.254239Z",
     "iopub.status.idle": "2022-05-18T08:48:45.255569Z",
     "shell.execute_reply": "2022-05-18T08:48:45.255816Z"
    },
    "id": "952b7fc8",
    "papermill": {
     "duration": 0.011127,
     "end_time": "2022-05-18T08:48:45.255923",
     "exception": false,
     "start_time": "2022-05-18T08:48:45.244796",
     "status": "completed"
    },
    "tags": []
   },
   "outputs": [],
   "source": [
    "batch_size = 32\n",
    "n_epochs = 1000\n",
    "#Select the device \n",
    "device = torch.device('cuda' if torch.cuda.is_available() else 'cpu')"
   ]
  },
  {
   "cell_type": "markdown",
   "id": "a95e1600",
   "metadata": {
    "id": "a95e1600",
    "papermill": {
     "duration": 0.007456,
     "end_time": "2022-05-18T08:48:45.270927",
     "exception": false,
     "start_time": "2022-05-18T08:48:45.263471",
     "status": "completed"
    },
    "tags": []
   },
   "source": [
    "# ABC Pre-generator Model \n",
    "\n",
    "1. The catboost model is used as a pre-generator model for the ABC-GAN. \n",
    "2. The model is first trained on the entire dataset \n",
    "3. It generats X,Y pairs and we add some Gaussian noise with mean 0 and variance 1 to it which is then feed as input to the generator.\n"
   ]
  },
  {
   "cell_type": "code",
   "execution_count": 9,
   "id": "ff8ce7bd",
   "metadata": {
    "execution": {
     "iopub.execute_input": "2022-05-18T08:48:45.289976Z",
     "iopub.status.busy": "2022-05-18T08:48:45.289565Z",
     "iopub.status.idle": "2022-05-18T08:48:45.908359Z",
     "shell.execute_reply": "2022-05-18T08:48:45.908665Z"
    },
    "id": "ff8ce7bd",
    "papermill": {
     "duration": 0.630388,
     "end_time": "2022-05-18T08:48:45.908796",
     "exception": false,
     "start_time": "2022-05-18T08:48:45.278408",
     "status": "completed"
    },
    "tags": []
   },
   "outputs": [
    {
     "name": "stdout",
     "output_type": "stream",
     "text": [
      "Learning rate set to 0.024897\n",
      "0:\tlearn: 0.9701969\ttotal: 50.7ms\tremaining: 50.7s\n",
      "1:\tlearn: 0.9593790\ttotal: 51.2ms\tremaining: 25.5s\n",
      "2:\tlearn: 0.9492063\ttotal: 51.8ms\tremaining: 17.2s\n",
      "3:\tlearn: 0.9381171\ttotal: 52.4ms\tremaining: 13s\n",
      "4:\tlearn: 0.9300913\ttotal: 53.1ms\tremaining: 10.6s\n",
      "5:\tlearn: 0.9214772\ttotal: 53.6ms\tremaining: 8.88s\n",
      "6:\tlearn: 0.9107346\ttotal: 54.1ms\tremaining: 7.67s\n",
      "7:\tlearn: 0.9013340\ttotal: 54.6ms\tremaining: 6.78s\n",
      "8:\tlearn: 0.8921496\ttotal: 55.1ms\tremaining: 6.06s\n",
      "9:\tlearn: 0.8831491\ttotal: 55.5ms\tremaining: 5.49s\n",
      "10:\tlearn: 0.8747485\ttotal: 55.9ms\tremaining: 5.03s\n",
      "11:\tlearn: 0.8657708\ttotal: 56.6ms\tremaining: 4.66s\n",
      "12:\tlearn: 0.8570099\ttotal: 57.2ms\tremaining: 4.34s\n",
      "13:\tlearn: 0.8472498\ttotal: 57.7ms\tremaining: 4.06s\n",
      "14:\tlearn: 0.8412585\ttotal: 58.2ms\tremaining: 3.82s\n",
      "15:\tlearn: 0.8338071\ttotal: 58.7ms\tremaining: 3.61s\n",
      "16:\tlearn: 0.8256463\ttotal: 59.3ms\tremaining: 3.43s\n",
      "17:\tlearn: 0.8180128\ttotal: 59.9ms\tremaining: 3.27s\n",
      "18:\tlearn: 0.8110984\ttotal: 60.4ms\tremaining: 3.12s\n",
      "19:\tlearn: 0.8025286\ttotal: 60.8ms\tremaining: 2.98s\n",
      "20:\tlearn: 0.7951982\ttotal: 61.3ms\tremaining: 2.86s\n",
      "21:\tlearn: 0.7872728\ttotal: 61.9ms\tremaining: 2.75s\n",
      "22:\tlearn: 0.7797277\ttotal: 62.3ms\tremaining: 2.65s\n",
      "23:\tlearn: 0.7709116\ttotal: 62.7ms\tremaining: 2.55s\n",
      "24:\tlearn: 0.7628952\ttotal: 63.2ms\tremaining: 2.46s\n",
      "25:\tlearn: 0.7555372\ttotal: 63.8ms\tremaining: 2.39s\n",
      "26:\tlearn: 0.7489597\ttotal: 64.3ms\tremaining: 2.32s\n",
      "27:\tlearn: 0.7425496\ttotal: 64.6ms\tremaining: 2.24s\n",
      "28:\tlearn: 0.7359179\ttotal: 65.2ms\tremaining: 2.18s\n",
      "29:\tlearn: 0.7298380\ttotal: 65.7ms\tremaining: 2.12s\n",
      "30:\tlearn: 0.7223898\ttotal: 66.1ms\tremaining: 2.06s\n",
      "31:\tlearn: 0.7164962\ttotal: 66.7ms\tremaining: 2.02s\n",
      "32:\tlearn: 0.7099642\ttotal: 67.2ms\tremaining: 1.97s\n",
      "33:\tlearn: 0.7029882\ttotal: 67.7ms\tremaining: 1.92s\n",
      "34:\tlearn: 0.6970440\ttotal: 68.2ms\tremaining: 1.88s\n",
      "35:\tlearn: 0.6921206\ttotal: 68.6ms\tremaining: 1.84s\n",
      "36:\tlearn: 0.6860673\ttotal: 69ms\tremaining: 1.79s\n",
      "37:\tlearn: 0.6798012\ttotal: 69.7ms\tremaining: 1.76s\n",
      "38:\tlearn: 0.6736195\ttotal: 70.1ms\tremaining: 1.73s\n",
      "39:\tlearn: 0.6685794\ttotal: 70.6ms\tremaining: 1.69s\n",
      "40:\tlearn: 0.6629622\ttotal: 71ms\tremaining: 1.66s\n",
      "41:\tlearn: 0.6561856\ttotal: 71.4ms\tremaining: 1.63s\n",
      "42:\tlearn: 0.6506447\ttotal: 71.8ms\tremaining: 1.6s\n",
      "43:\tlearn: 0.6441744\ttotal: 72.2ms\tremaining: 1.57s\n",
      "44:\tlearn: 0.6387638\ttotal: 72.7ms\tremaining: 1.54s\n",
      "45:\tlearn: 0.6336223\ttotal: 73.2ms\tremaining: 1.52s\n",
      "46:\tlearn: 0.6285195\ttotal: 73.7ms\tremaining: 1.49s\n",
      "47:\tlearn: 0.6228477\ttotal: 74.2ms\tremaining: 1.47s\n",
      "48:\tlearn: 0.6171682\ttotal: 74.8ms\tremaining: 1.45s\n",
      "49:\tlearn: 0.6118903\ttotal: 75.3ms\tremaining: 1.43s\n",
      "50:\tlearn: 0.6063148\ttotal: 75.8ms\tremaining: 1.41s\n",
      "51:\tlearn: 0.6009632\ttotal: 76.2ms\tremaining: 1.39s\n",
      "52:\tlearn: 0.5954840\ttotal: 76.6ms\tremaining: 1.37s\n",
      "53:\tlearn: 0.5904894\ttotal: 76.9ms\tremaining: 1.35s\n",
      "54:\tlearn: 0.5861343\ttotal: 77.2ms\tremaining: 1.33s\n",
      "55:\tlearn: 0.5816309\ttotal: 77.7ms\tremaining: 1.31s\n",
      "56:\tlearn: 0.5770948\ttotal: 78ms\tremaining: 1.29s\n",
      "57:\tlearn: 0.5729527\ttotal: 78.3ms\tremaining: 1.27s\n",
      "58:\tlearn: 0.5694145\ttotal: 78.7ms\tremaining: 1.25s\n",
      "59:\tlearn: 0.5646104\ttotal: 79.1ms\tremaining: 1.24s\n",
      "60:\tlearn: 0.5592737\ttotal: 79.5ms\tremaining: 1.22s\n",
      "61:\tlearn: 0.5545155\ttotal: 79.8ms\tremaining: 1.21s\n",
      "62:\tlearn: 0.5508089\ttotal: 80.2ms\tremaining: 1.19s\n",
      "63:\tlearn: 0.5465432\ttotal: 80.6ms\tremaining: 1.18s\n",
      "64:\tlearn: 0.5423488\ttotal: 80.9ms\tremaining: 1.16s\n",
      "65:\tlearn: 0.5384248\ttotal: 81.3ms\tremaining: 1.15s\n",
      "66:\tlearn: 0.5338691\ttotal: 81.7ms\tremaining: 1.14s\n",
      "67:\tlearn: 0.5302132\ttotal: 82ms\tremaining: 1.12s\n",
      "68:\tlearn: 0.5254033\ttotal: 82.4ms\tremaining: 1.11s\n",
      "69:\tlearn: 0.5210894\ttotal: 82.8ms\tremaining: 1.1s\n",
      "70:\tlearn: 0.5175858\ttotal: 83ms\tremaining: 1.08s\n",
      "71:\tlearn: 0.5138564\ttotal: 83.4ms\tremaining: 1.07s\n",
      "72:\tlearn: 0.5096948\ttotal: 84.4ms\tremaining: 1.07s\n",
      "73:\tlearn: 0.5051301\ttotal: 85ms\tremaining: 1.06s\n",
      "74:\tlearn: 0.5004022\ttotal: 85.5ms\tremaining: 1.05s\n",
      "75:\tlearn: 0.4963725\ttotal: 86ms\tremaining: 1.04s\n",
      "76:\tlearn: 0.4926802\ttotal: 86.4ms\tremaining: 1.03s\n",
      "77:\tlearn: 0.4889052\ttotal: 86.9ms\tremaining: 1.03s\n",
      "78:\tlearn: 0.4860871\ttotal: 87.4ms\tremaining: 1.02s\n",
      "79:\tlearn: 0.4828433\ttotal: 87.8ms\tremaining: 1.01s\n",
      "80:\tlearn: 0.4784037\ttotal: 88.2ms\tremaining: 1s\n",
      "81:\tlearn: 0.4742522\ttotal: 88.6ms\tremaining: 991ms\n",
      "82:\tlearn: 0.4697817\ttotal: 89.1ms\tremaining: 985ms\n",
      "83:\tlearn: 0.4657237\ttotal: 89.5ms\tremaining: 976ms\n",
      "84:\tlearn: 0.4609373\ttotal: 90ms\tremaining: 968ms\n",
      "85:\tlearn: 0.4578546\ttotal: 90.5ms\tremaining: 962ms\n",
      "86:\tlearn: 0.4544562\ttotal: 90.9ms\tremaining: 954ms\n",
      "87:\tlearn: 0.4508204\ttotal: 91.3ms\tremaining: 946ms\n",
      "88:\tlearn: 0.4474820\ttotal: 91.7ms\tremaining: 938ms\n",
      "89:\tlearn: 0.4429390\ttotal: 92.1ms\tremaining: 931ms\n",
      "90:\tlearn: 0.4403025\ttotal: 92.4ms\tremaining: 923ms\n",
      "91:\tlearn: 0.4367766\ttotal: 92.9ms\tremaining: 917ms\n",
      "92:\tlearn: 0.4330707\ttotal: 93.3ms\tremaining: 910ms\n",
      "93:\tlearn: 0.4291851\ttotal: 93.8ms\tremaining: 904ms\n",
      "94:\tlearn: 0.4260260\ttotal: 94.2ms\tremaining: 897ms\n",
      "95:\tlearn: 0.4232008\ttotal: 94.5ms\tremaining: 890ms\n",
      "96:\tlearn: 0.4198297\ttotal: 95ms\tremaining: 884ms\n",
      "97:\tlearn: 0.4166588\ttotal: 95.3ms\tremaining: 877ms\n",
      "98:\tlearn: 0.4131752\ttotal: 95.8ms\tremaining: 872ms\n",
      "99:\tlearn: 0.4098723\ttotal: 96.5ms\tremaining: 868ms\n",
      "100:\tlearn: 0.4074910\ttotal: 96.9ms\tremaining: 863ms\n",
      "101:\tlearn: 0.4042237\ttotal: 97.5ms\tremaining: 858ms\n",
      "102:\tlearn: 0.4007152\ttotal: 98ms\tremaining: 854ms\n",
      "103:\tlearn: 0.3974347\ttotal: 98.3ms\tremaining: 847ms\n",
      "104:\tlearn: 0.3940962\ttotal: 98.8ms\tremaining: 842ms\n",
      "105:\tlearn: 0.3911946\ttotal: 99.3ms\tremaining: 838ms\n",
      "106:\tlearn: 0.3881824\ttotal: 99.8ms\tremaining: 833ms\n",
      "107:\tlearn: 0.3848131\ttotal: 100ms\tremaining: 829ms\n",
      "108:\tlearn: 0.3815368\ttotal: 101ms\tremaining: 824ms\n",
      "109:\tlearn: 0.3789303\ttotal: 101ms\tremaining: 819ms\n",
      "110:\tlearn: 0.3759918\ttotal: 102ms\tremaining: 815ms\n",
      "111:\tlearn: 0.3731842\ttotal: 102ms\tremaining: 811ms\n",
      "112:\tlearn: 0.3703302\ttotal: 103ms\tremaining: 806ms\n",
      "113:\tlearn: 0.3677609\ttotal: 103ms\tremaining: 803ms\n"
     ]
    },
    {
     "name": "stdout",
     "output_type": "stream",
     "text": [
      "114:\tlearn: 0.3653339\ttotal: 104ms\tremaining: 801ms\n",
      "115:\tlearn: 0.3625610\ttotal: 105ms\tremaining: 798ms\n",
      "116:\tlearn: 0.3599166\ttotal: 105ms\tremaining: 794ms\n",
      "117:\tlearn: 0.3571328\ttotal: 106ms\tremaining: 791ms\n",
      "118:\tlearn: 0.3550125\ttotal: 106ms\tremaining: 788ms\n",
      "119:\tlearn: 0.3528149\ttotal: 107ms\tremaining: 784ms\n",
      "120:\tlearn: 0.3494948\ttotal: 107ms\tremaining: 780ms\n",
      "121:\tlearn: 0.3471477\ttotal: 108ms\tremaining: 775ms\n",
      "122:\tlearn: 0.3443825\ttotal: 108ms\tremaining: 772ms\n",
      "123:\tlearn: 0.3419665\ttotal: 109ms\tremaining: 768ms\n",
      "124:\tlearn: 0.3394201\ttotal: 109ms\tremaining: 764ms\n",
      "125:\tlearn: 0.3367747\ttotal: 109ms\tremaining: 759ms\n",
      "126:\tlearn: 0.3342947\ttotal: 110ms\tremaining: 755ms\n",
      "127:\tlearn: 0.3325232\ttotal: 110ms\tremaining: 751ms\n",
      "128:\tlearn: 0.3300647\ttotal: 111ms\tremaining: 747ms\n",
      "129:\tlearn: 0.3275890\ttotal: 111ms\tremaining: 743ms\n",
      "130:\tlearn: 0.3255724\ttotal: 111ms\tremaining: 739ms\n",
      "131:\tlearn: 0.3234430\ttotal: 112ms\tremaining: 735ms\n",
      "132:\tlearn: 0.3210805\ttotal: 112ms\tremaining: 731ms\n",
      "133:\tlearn: 0.3187259\ttotal: 112ms\tremaining: 727ms\n",
      "134:\tlearn: 0.3165192\ttotal: 113ms\tremaining: 723ms\n",
      "135:\tlearn: 0.3146711\ttotal: 113ms\tremaining: 719ms\n",
      "136:\tlearn: 0.3125947\ttotal: 114ms\tremaining: 715ms\n",
      "137:\tlearn: 0.3103566\ttotal: 114ms\tremaining: 712ms\n",
      "138:\tlearn: 0.3084687\ttotal: 114ms\tremaining: 708ms\n",
      "139:\tlearn: 0.3063661\ttotal: 115ms\tremaining: 704ms\n",
      "140:\tlearn: 0.3045898\ttotal: 115ms\tremaining: 701ms\n",
      "141:\tlearn: 0.3024836\ttotal: 115ms\tremaining: 697ms\n",
      "142:\tlearn: 0.3002908\ttotal: 116ms\tremaining: 694ms\n",
      "143:\tlearn: 0.2981531\ttotal: 116ms\tremaining: 690ms\n",
      "144:\tlearn: 0.2961584\ttotal: 117ms\tremaining: 689ms\n",
      "145:\tlearn: 0.2941579\ttotal: 117ms\tremaining: 687ms\n",
      "146:\tlearn: 0.2920485\ttotal: 118ms\tremaining: 684ms\n",
      "147:\tlearn: 0.2903083\ttotal: 118ms\tremaining: 681ms\n",
      "148:\tlearn: 0.2885283\ttotal: 119ms\tremaining: 677ms\n",
      "149:\tlearn: 0.2863446\ttotal: 119ms\tremaining: 674ms\n",
      "150:\tlearn: 0.2840938\ttotal: 119ms\tremaining: 671ms\n",
      "151:\tlearn: 0.2822504\ttotal: 120ms\tremaining: 669ms\n",
      "152:\tlearn: 0.2805455\ttotal: 121ms\tremaining: 667ms\n",
      "153:\tlearn: 0.2784702\ttotal: 121ms\tremaining: 665ms\n",
      "154:\tlearn: 0.2766763\ttotal: 122ms\tremaining: 662ms\n",
      "155:\tlearn: 0.2751158\ttotal: 122ms\tremaining: 660ms\n",
      "156:\tlearn: 0.2735289\ttotal: 122ms\tremaining: 657ms\n",
      "157:\tlearn: 0.2717606\ttotal: 123ms\tremaining: 656ms\n",
      "158:\tlearn: 0.2702224\ttotal: 124ms\tremaining: 657ms\n",
      "159:\tlearn: 0.2684675\ttotal: 125ms\tremaining: 655ms\n",
      "160:\tlearn: 0.2666587\ttotal: 125ms\tremaining: 652ms\n",
      "161:\tlearn: 0.2646745\ttotal: 126ms\tremaining: 650ms\n",
      "162:\tlearn: 0.2627234\ttotal: 126ms\tremaining: 647ms\n",
      "163:\tlearn: 0.2609783\ttotal: 126ms\tremaining: 645ms\n",
      "164:\tlearn: 0.2593623\ttotal: 127ms\tremaining: 642ms\n",
      "165:\tlearn: 0.2579103\ttotal: 127ms\tremaining: 641ms\n",
      "166:\tlearn: 0.2562078\ttotal: 128ms\tremaining: 639ms\n",
      "167:\tlearn: 0.2546806\ttotal: 129ms\tremaining: 637ms\n",
      "168:\tlearn: 0.2529001\ttotal: 129ms\tremaining: 635ms\n",
      "169:\tlearn: 0.2513767\ttotal: 130ms\tremaining: 632ms\n",
      "170:\tlearn: 0.2498364\ttotal: 130ms\tremaining: 630ms\n",
      "171:\tlearn: 0.2482627\ttotal: 131ms\tremaining: 629ms\n",
      "172:\tlearn: 0.2465223\ttotal: 131ms\tremaining: 626ms\n",
      "173:\tlearn: 0.2445673\ttotal: 131ms\tremaining: 624ms\n",
      "174:\tlearn: 0.2429147\ttotal: 132ms\tremaining: 621ms\n",
      "175:\tlearn: 0.2413057\ttotal: 132ms\tremaining: 619ms\n",
      "176:\tlearn: 0.2396043\ttotal: 133ms\tremaining: 618ms\n",
      "177:\tlearn: 0.2377825\ttotal: 133ms\tremaining: 616ms\n",
      "178:\tlearn: 0.2360049\ttotal: 134ms\tremaining: 613ms\n",
      "179:\tlearn: 0.2341955\ttotal: 134ms\tremaining: 611ms\n",
      "180:\tlearn: 0.2326868\ttotal: 135ms\tremaining: 610ms\n",
      "181:\tlearn: 0.2306616\ttotal: 135ms\tremaining: 608ms\n",
      "182:\tlearn: 0.2293792\ttotal: 136ms\tremaining: 606ms\n",
      "183:\tlearn: 0.2275226\ttotal: 136ms\tremaining: 604ms\n",
      "184:\tlearn: 0.2261316\ttotal: 137ms\tremaining: 602ms\n",
      "185:\tlearn: 0.2245374\ttotal: 137ms\tremaining: 600ms\n",
      "186:\tlearn: 0.2230929\ttotal: 138ms\tremaining: 598ms\n",
      "187:\tlearn: 0.2218111\ttotal: 138ms\tremaining: 597ms\n",
      "188:\tlearn: 0.2204125\ttotal: 144ms\tremaining: 619ms\n",
      "189:\tlearn: 0.2188016\ttotal: 146ms\tremaining: 625ms\n",
      "190:\tlearn: 0.2173120\ttotal: 147ms\tremaining: 624ms\n",
      "191:\tlearn: 0.2160202\ttotal: 148ms\tremaining: 623ms\n",
      "192:\tlearn: 0.2142950\ttotal: 148ms\tremaining: 621ms\n",
      "193:\tlearn: 0.2127921\ttotal: 149ms\tremaining: 619ms\n",
      "194:\tlearn: 0.2115199\ttotal: 149ms\tremaining: 617ms\n",
      "195:\tlearn: 0.2100383\ttotal: 150ms\tremaining: 615ms\n",
      "196:\tlearn: 0.2087397\ttotal: 150ms\tremaining: 613ms\n",
      "197:\tlearn: 0.2073435\ttotal: 151ms\tremaining: 612ms\n",
      "198:\tlearn: 0.2061367\ttotal: 152ms\tremaining: 610ms\n",
      "199:\tlearn: 0.2046987\ttotal: 152ms\tremaining: 608ms\n",
      "200:\tlearn: 0.2035436\ttotal: 153ms\tremaining: 607ms\n",
      "201:\tlearn: 0.2025012\ttotal: 153ms\tremaining: 604ms\n",
      "202:\tlearn: 0.2007965\ttotal: 153ms\tremaining: 602ms\n",
      "203:\tlearn: 0.1993725\ttotal: 154ms\tremaining: 600ms\n",
      "204:\tlearn: 0.1977936\ttotal: 154ms\tremaining: 599ms\n",
      "205:\tlearn: 0.1963886\ttotal: 155ms\tremaining: 596ms\n",
      "206:\tlearn: 0.1950375\ttotal: 155ms\tremaining: 594ms\n",
      "207:\tlearn: 0.1934742\ttotal: 155ms\tremaining: 592ms\n",
      "208:\tlearn: 0.1921609\ttotal: 156ms\tremaining: 590ms\n",
      "209:\tlearn: 0.1906555\ttotal: 156ms\tremaining: 588ms\n",
      "210:\tlearn: 0.1890460\ttotal: 157ms\tremaining: 586ms\n",
      "211:\tlearn: 0.1879545\ttotal: 157ms\tremaining: 585ms\n",
      "212:\tlearn: 0.1868274\ttotal: 158ms\tremaining: 583ms\n",
      "213:\tlearn: 0.1852791\ttotal: 158ms\tremaining: 582ms\n",
      "214:\tlearn: 0.1840522\ttotal: 159ms\tremaining: 580ms\n",
      "215:\tlearn: 0.1827494\ttotal: 159ms\tremaining: 578ms\n",
      "216:\tlearn: 0.1814431\ttotal: 160ms\tremaining: 576ms\n",
      "217:\tlearn: 0.1801247\ttotal: 160ms\tremaining: 575ms\n",
      "218:\tlearn: 0.1790111\ttotal: 161ms\tremaining: 573ms\n",
      "219:\tlearn: 0.1777875\ttotal: 161ms\tremaining: 571ms\n",
      "220:\tlearn: 0.1767887\ttotal: 162ms\tremaining: 570ms\n",
      "221:\tlearn: 0.1755599\ttotal: 162ms\tremaining: 568ms\n",
      "222:\tlearn: 0.1745063\ttotal: 163ms\tremaining: 566ms\n",
      "223:\tlearn: 0.1732599\ttotal: 163ms\tremaining: 565ms\n",
      "224:\tlearn: 0.1719704\ttotal: 163ms\tremaining: 563ms\n",
      "225:\tlearn: 0.1708308\ttotal: 164ms\tremaining: 561ms\n",
      "226:\tlearn: 0.1694748\ttotal: 164ms\tremaining: 560ms\n",
      "227:\tlearn: 0.1683372\ttotal: 165ms\tremaining: 558ms\n",
      "228:\tlearn: 0.1671089\ttotal: 165ms\tremaining: 557ms\n",
      "229:\tlearn: 0.1658600\ttotal: 166ms\tremaining: 556ms\n",
      "230:\tlearn: 0.1649495\ttotal: 166ms\tremaining: 554ms\n",
      "231:\tlearn: 0.1638801\ttotal: 167ms\tremaining: 552ms\n",
      "232:\tlearn: 0.1628185\ttotal: 167ms\tremaining: 550ms\n",
      "233:\tlearn: 0.1618165\ttotal: 168ms\tremaining: 549ms\n",
      "234:\tlearn: 0.1608480\ttotal: 168ms\tremaining: 547ms\n",
      "235:\tlearn: 0.1599205\ttotal: 169ms\tremaining: 546ms\n",
      "236:\tlearn: 0.1588864\ttotal: 169ms\tremaining: 544ms\n",
      "237:\tlearn: 0.1579233\ttotal: 169ms\tremaining: 542ms\n",
      "238:\tlearn: 0.1569922\ttotal: 170ms\tremaining: 541ms\n",
      "239:\tlearn: 0.1558431\ttotal: 170ms\tremaining: 539ms\n",
      "240:\tlearn: 0.1548315\ttotal: 171ms\tremaining: 537ms\n",
      "241:\tlearn: 0.1538083\ttotal: 171ms\tremaining: 536ms\n",
      "242:\tlearn: 0.1528440\ttotal: 172ms\tremaining: 534ms\n",
      "243:\tlearn: 0.1515429\ttotal: 172ms\tremaining: 532ms\n",
      "244:\tlearn: 0.1506068\ttotal: 172ms\tremaining: 531ms\n",
      "245:\tlearn: 0.1495892\ttotal: 173ms\tremaining: 530ms\n",
      "246:\tlearn: 0.1483294\ttotal: 173ms\tremaining: 528ms\n",
      "247:\tlearn: 0.1473699\ttotal: 174ms\tremaining: 527ms\n",
      "248:\tlearn: 0.1463716\ttotal: 174ms\tremaining: 526ms\n",
      "249:\tlearn: 0.1454230\ttotal: 175ms\tremaining: 524ms\n",
      "250:\tlearn: 0.1446418\ttotal: 175ms\tremaining: 523ms\n",
      "251:\tlearn: 0.1437713\ttotal: 176ms\tremaining: 521ms\n",
      "252:\tlearn: 0.1426900\ttotal: 176ms\tremaining: 520ms\n",
      "253:\tlearn: 0.1415854\ttotal: 177ms\tremaining: 518ms\n",
      "254:\tlearn: 0.1405321\ttotal: 177ms\tremaining: 517ms\n",
      "255:\tlearn: 0.1394792\ttotal: 177ms\tremaining: 516ms\n",
      "256:\tlearn: 0.1384974\ttotal: 178ms\tremaining: 514ms\n",
      "257:\tlearn: 0.1375924\ttotal: 178ms\tremaining: 513ms\n",
      "258:\tlearn: 0.1366963\ttotal: 179ms\tremaining: 512ms\n",
      "259:\tlearn: 0.1358383\ttotal: 179ms\tremaining: 510ms\n",
      "260:\tlearn: 0.1348532\ttotal: 180ms\tremaining: 509ms\n",
      "261:\tlearn: 0.1338414\ttotal: 180ms\tremaining: 507ms\n",
      "262:\tlearn: 0.1329934\ttotal: 181ms\tremaining: 506ms\n",
      "263:\tlearn: 0.1322160\ttotal: 181ms\tremaining: 505ms\n",
      "264:\tlearn: 0.1312663\ttotal: 182ms\tremaining: 503ms\n",
      "265:\tlearn: 0.1302751\ttotal: 182ms\tremaining: 502ms\n",
      "266:\tlearn: 0.1292900\ttotal: 182ms\tremaining: 500ms\n",
      "267:\tlearn: 0.1285097\ttotal: 183ms\tremaining: 499ms\n",
      "268:\tlearn: 0.1276679\ttotal: 183ms\tremaining: 498ms\n",
      "269:\tlearn: 0.1269338\ttotal: 184ms\tremaining: 497ms\n",
      "270:\tlearn: 0.1261709\ttotal: 184ms\tremaining: 496ms\n"
     ]
    },
    {
     "name": "stdout",
     "output_type": "stream",
     "text": [
      "271:\tlearn: 0.1252359\ttotal: 185ms\tremaining: 494ms\n",
      "272:\tlearn: 0.1243728\ttotal: 185ms\tremaining: 493ms\n",
      "273:\tlearn: 0.1237315\ttotal: 186ms\tremaining: 492ms\n",
      "274:\tlearn: 0.1228956\ttotal: 186ms\tremaining: 491ms\n",
      "275:\tlearn: 0.1221867\ttotal: 187ms\tremaining: 490ms\n",
      "276:\tlearn: 0.1211539\ttotal: 187ms\tremaining: 489ms\n",
      "277:\tlearn: 0.1204429\ttotal: 188ms\tremaining: 488ms\n",
      "278:\tlearn: 0.1197749\ttotal: 188ms\tremaining: 486ms\n",
      "279:\tlearn: 0.1190832\ttotal: 189ms\tremaining: 485ms\n",
      "280:\tlearn: 0.1183095\ttotal: 189ms\tremaining: 484ms\n",
      "281:\tlearn: 0.1174506\ttotal: 189ms\tremaining: 482ms\n",
      "282:\tlearn: 0.1165976\ttotal: 190ms\tremaining: 481ms\n",
      "283:\tlearn: 0.1158581\ttotal: 190ms\tremaining: 479ms\n",
      "284:\tlearn: 0.1151238\ttotal: 191ms\tremaining: 478ms\n",
      "285:\tlearn: 0.1142864\ttotal: 191ms\tremaining: 477ms\n",
      "286:\tlearn: 0.1134723\ttotal: 192ms\tremaining: 476ms\n",
      "287:\tlearn: 0.1128487\ttotal: 192ms\tremaining: 474ms\n",
      "288:\tlearn: 0.1120093\ttotal: 192ms\tremaining: 473ms\n",
      "289:\tlearn: 0.1113620\ttotal: 193ms\tremaining: 472ms\n",
      "290:\tlearn: 0.1107521\ttotal: 193ms\tremaining: 471ms\n",
      "291:\tlearn: 0.1100251\ttotal: 194ms\tremaining: 470ms\n",
      "292:\tlearn: 0.1092499\ttotal: 194ms\tremaining: 468ms\n",
      "293:\tlearn: 0.1085558\ttotal: 195ms\tremaining: 467ms\n",
      "294:\tlearn: 0.1079252\ttotal: 195ms\tremaining: 467ms\n",
      "295:\tlearn: 0.1071444\ttotal: 196ms\tremaining: 465ms\n",
      "296:\tlearn: 0.1065402\ttotal: 196ms\tremaining: 464ms\n",
      "297:\tlearn: 0.1059407\ttotal: 197ms\tremaining: 463ms\n",
      "298:\tlearn: 0.1053666\ttotal: 197ms\tremaining: 462ms\n",
      "299:\tlearn: 0.1046484\ttotal: 197ms\tremaining: 461ms\n",
      "300:\tlearn: 0.1041519\ttotal: 198ms\tremaining: 459ms\n",
      "301:\tlearn: 0.1036145\ttotal: 198ms\tremaining: 458ms\n",
      "302:\tlearn: 0.1030816\ttotal: 199ms\tremaining: 457ms\n",
      "303:\tlearn: 0.1025565\ttotal: 199ms\tremaining: 455ms\n",
      "304:\tlearn: 0.1019999\ttotal: 199ms\tremaining: 454ms\n",
      "305:\tlearn: 0.1013764\ttotal: 200ms\tremaining: 453ms\n",
      "306:\tlearn: 0.1006902\ttotal: 200ms\tremaining: 451ms\n",
      "307:\tlearn: 0.1000827\ttotal: 200ms\tremaining: 450ms\n",
      "308:\tlearn: 0.0994476\ttotal: 201ms\tremaining: 449ms\n",
      "309:\tlearn: 0.0987734\ttotal: 201ms\tremaining: 448ms\n",
      "310:\tlearn: 0.0981282\ttotal: 202ms\tremaining: 447ms\n",
      "311:\tlearn: 0.0976106\ttotal: 202ms\tremaining: 446ms\n",
      "312:\tlearn: 0.0968935\ttotal: 203ms\tremaining: 445ms\n",
      "313:\tlearn: 0.0964195\ttotal: 203ms\tremaining: 444ms\n",
      "314:\tlearn: 0.0959378\ttotal: 204ms\tremaining: 443ms\n",
      "315:\tlearn: 0.0954585\ttotal: 204ms\tremaining: 442ms\n",
      "316:\tlearn: 0.0949677\ttotal: 205ms\tremaining: 441ms\n",
      "317:\tlearn: 0.0943122\ttotal: 205ms\tremaining: 440ms\n",
      "318:\tlearn: 0.0936590\ttotal: 206ms\tremaining: 439ms\n",
      "319:\tlearn: 0.0931686\ttotal: 206ms\tremaining: 438ms\n",
      "320:\tlearn: 0.0927272\ttotal: 207ms\tremaining: 437ms\n",
      "321:\tlearn: 0.0921464\ttotal: 207ms\tremaining: 436ms\n",
      "322:\tlearn: 0.0916765\ttotal: 207ms\tremaining: 435ms\n",
      "323:\tlearn: 0.0911988\ttotal: 208ms\tremaining: 433ms\n",
      "324:\tlearn: 0.0907023\ttotal: 208ms\tremaining: 432ms\n",
      "325:\tlearn: 0.0902263\ttotal: 209ms\tremaining: 431ms\n",
      "326:\tlearn: 0.0896320\ttotal: 209ms\tremaining: 430ms\n",
      "327:\tlearn: 0.0890533\ttotal: 209ms\tremaining: 429ms\n",
      "328:\tlearn: 0.0886477\ttotal: 210ms\tremaining: 428ms\n",
      "329:\tlearn: 0.0880819\ttotal: 210ms\tremaining: 427ms\n",
      "330:\tlearn: 0.0875487\ttotal: 211ms\tremaining: 426ms\n",
      "331:\tlearn: 0.0870994\ttotal: 211ms\tremaining: 425ms\n",
      "332:\tlearn: 0.0865416\ttotal: 212ms\tremaining: 425ms\n",
      "333:\tlearn: 0.0860415\ttotal: 213ms\tremaining: 424ms\n",
      "334:\tlearn: 0.0856846\ttotal: 213ms\tremaining: 424ms\n",
      "335:\tlearn: 0.0851649\ttotal: 214ms\tremaining: 423ms\n",
      "336:\tlearn: 0.0844274\ttotal: 215ms\tremaining: 422ms\n",
      "337:\tlearn: 0.0839413\ttotal: 215ms\tremaining: 421ms\n",
      "338:\tlearn: 0.0833875\ttotal: 215ms\tremaining: 420ms\n",
      "339:\tlearn: 0.0829152\ttotal: 216ms\tremaining: 419ms\n",
      "340:\tlearn: 0.0824433\ttotal: 216ms\tremaining: 418ms\n",
      "341:\tlearn: 0.0820158\ttotal: 217ms\tremaining: 417ms\n",
      "342:\tlearn: 0.0815594\ttotal: 217ms\tremaining: 416ms\n",
      "343:\tlearn: 0.0811134\ttotal: 218ms\tremaining: 415ms\n",
      "344:\tlearn: 0.0805837\ttotal: 218ms\tremaining: 414ms\n",
      "345:\tlearn: 0.0800654\ttotal: 219ms\tremaining: 413ms\n",
      "346:\tlearn: 0.0797055\ttotal: 219ms\tremaining: 412ms\n",
      "347:\tlearn: 0.0793472\ttotal: 219ms\tremaining: 411ms\n",
      "348:\tlearn: 0.0789308\ttotal: 220ms\tremaining: 410ms\n",
      "349:\tlearn: 0.0784845\ttotal: 220ms\tremaining: 409ms\n",
      "350:\tlearn: 0.0779885\ttotal: 221ms\tremaining: 408ms\n",
      "351:\tlearn: 0.0775516\ttotal: 221ms\tremaining: 408ms\n",
      "352:\tlearn: 0.0770680\ttotal: 222ms\tremaining: 407ms\n",
      "353:\tlearn: 0.0766977\ttotal: 223ms\tremaining: 406ms\n",
      "354:\tlearn: 0.0762290\ttotal: 223ms\tremaining: 405ms\n",
      "355:\tlearn: 0.0758127\ttotal: 224ms\tremaining: 404ms\n",
      "356:\tlearn: 0.0753406\ttotal: 224ms\tremaining: 404ms\n",
      "357:\tlearn: 0.0748772\ttotal: 225ms\tremaining: 403ms\n",
      "358:\tlearn: 0.0745243\ttotal: 225ms\tremaining: 402ms\n",
      "359:\tlearn: 0.0741716\ttotal: 226ms\tremaining: 401ms\n",
      "360:\tlearn: 0.0738091\ttotal: 226ms\tremaining: 400ms\n",
      "361:\tlearn: 0.0734700\ttotal: 227ms\tremaining: 399ms\n",
      "362:\tlearn: 0.0730992\ttotal: 227ms\tremaining: 398ms\n",
      "363:\tlearn: 0.0727126\ttotal: 228ms\tremaining: 398ms\n",
      "364:\tlearn: 0.0723248\ttotal: 228ms\tremaining: 397ms\n",
      "365:\tlearn: 0.0719001\ttotal: 229ms\tremaining: 396ms\n",
      "366:\tlearn: 0.0714578\ttotal: 229ms\tremaining: 395ms\n",
      "367:\tlearn: 0.0710798\ttotal: 229ms\tremaining: 394ms\n",
      "368:\tlearn: 0.0707561\ttotal: 230ms\tremaining: 393ms\n",
      "369:\tlearn: 0.0703503\ttotal: 230ms\tremaining: 392ms\n",
      "370:\tlearn: 0.0699786\ttotal: 231ms\tremaining: 391ms\n",
      "371:\tlearn: 0.0696427\ttotal: 231ms\tremaining: 390ms\n",
      "372:\tlearn: 0.0692508\ttotal: 231ms\tremaining: 389ms\n",
      "373:\tlearn: 0.0689488\ttotal: 232ms\tremaining: 388ms\n",
      "374:\tlearn: 0.0685312\ttotal: 232ms\tremaining: 387ms\n",
      "375:\tlearn: 0.0682109\ttotal: 232ms\tremaining: 386ms\n",
      "376:\tlearn: 0.0678353\ttotal: 233ms\tremaining: 385ms\n",
      "377:\tlearn: 0.0673433\ttotal: 233ms\tremaining: 384ms\n",
      "378:\tlearn: 0.0670095\ttotal: 233ms\tremaining: 383ms\n",
      "379:\tlearn: 0.0666090\ttotal: 234ms\tremaining: 382ms\n",
      "380:\tlearn: 0.0663370\ttotal: 234ms\tremaining: 381ms\n",
      "381:\tlearn: 0.0659881\ttotal: 235ms\tremaining: 380ms\n",
      "382:\tlearn: 0.0657249\ttotal: 235ms\tremaining: 379ms\n",
      "383:\tlearn: 0.0653280\ttotal: 236ms\tremaining: 378ms\n",
      "384:\tlearn: 0.0650677\ttotal: 236ms\tremaining: 377ms\n",
      "385:\tlearn: 0.0647267\ttotal: 237ms\tremaining: 376ms\n",
      "386:\tlearn: 0.0644164\ttotal: 237ms\tremaining: 375ms\n",
      "387:\tlearn: 0.0640845\ttotal: 237ms\tremaining: 374ms\n",
      "388:\tlearn: 0.0637455\ttotal: 238ms\tremaining: 374ms\n",
      "389:\tlearn: 0.0634047\ttotal: 238ms\tremaining: 373ms\n",
      "390:\tlearn: 0.0630333\ttotal: 239ms\tremaining: 372ms\n",
      "391:\tlearn: 0.0627190\ttotal: 239ms\tremaining: 371ms\n",
      "392:\tlearn: 0.0624737\ttotal: 240ms\tremaining: 370ms\n",
      "393:\tlearn: 0.0622358\ttotal: 240ms\tremaining: 369ms\n",
      "394:\tlearn: 0.0618477\ttotal: 241ms\tremaining: 369ms\n",
      "395:\tlearn: 0.0614746\ttotal: 241ms\tremaining: 368ms\n",
      "396:\tlearn: 0.0611575\ttotal: 242ms\tremaining: 367ms\n",
      "397:\tlearn: 0.0608768\ttotal: 242ms\tremaining: 366ms\n",
      "398:\tlearn: 0.0605085\ttotal: 243ms\tremaining: 366ms\n",
      "399:\tlearn: 0.0602221\ttotal: 243ms\tremaining: 365ms\n",
      "400:\tlearn: 0.0599972\ttotal: 244ms\tremaining: 364ms\n",
      "401:\tlearn: 0.0597770\ttotal: 244ms\tremaining: 363ms\n",
      "402:\tlearn: 0.0595118\ttotal: 245ms\tremaining: 362ms\n",
      "403:\tlearn: 0.0591546\ttotal: 245ms\tremaining: 361ms\n",
      "404:\tlearn: 0.0588038\ttotal: 245ms\tremaining: 360ms\n",
      "405:\tlearn: 0.0585909\ttotal: 246ms\tremaining: 360ms\n",
      "406:\tlearn: 0.0582467\ttotal: 246ms\tremaining: 359ms\n",
      "407:\tlearn: 0.0580392\ttotal: 247ms\tremaining: 358ms\n",
      "408:\tlearn: 0.0578360\ttotal: 247ms\tremaining: 357ms\n",
      "409:\tlearn: 0.0576030\ttotal: 248ms\tremaining: 356ms\n",
      "410:\tlearn: 0.0572678\ttotal: 248ms\tremaining: 356ms\n",
      "411:\tlearn: 0.0569385\ttotal: 249ms\tremaining: 355ms\n",
      "412:\tlearn: 0.0567419\ttotal: 249ms\tremaining: 354ms\n",
      "413:\tlearn: 0.0565312\ttotal: 250ms\tremaining: 354ms\n",
      "414:\tlearn: 0.0561928\ttotal: 250ms\tremaining: 353ms\n",
      "415:\tlearn: 0.0558583\ttotal: 251ms\tremaining: 352ms\n",
      "416:\tlearn: 0.0555732\ttotal: 251ms\tremaining: 351ms\n",
      "417:\tlearn: 0.0552581\ttotal: 252ms\tremaining: 351ms\n",
      "418:\tlearn: 0.0549790\ttotal: 252ms\tremaining: 350ms\n",
      "419:\tlearn: 0.0547923\ttotal: 253ms\tremaining: 349ms\n",
      "420:\tlearn: 0.0545256\ttotal: 253ms\tremaining: 348ms\n",
      "421:\tlearn: 0.0543631\ttotal: 254ms\tremaining: 348ms\n",
      "422:\tlearn: 0.0541023\ttotal: 255ms\tremaining: 347ms\n",
      "423:\tlearn: 0.0538005\ttotal: 255ms\tremaining: 347ms\n",
      "424:\tlearn: 0.0535317\ttotal: 256ms\tremaining: 346ms\n",
      "425:\tlearn: 0.0532790\ttotal: 256ms\tremaining: 345ms\n",
      "426:\tlearn: 0.0530962\ttotal: 256ms\tremaining: 344ms\n",
      "427:\tlearn: 0.0528338\ttotal: 257ms\tremaining: 343ms\n",
      "428:\tlearn: 0.0525962\ttotal: 258ms\tremaining: 343ms\n",
      "429:\tlearn: 0.0523672\ttotal: 258ms\tremaining: 342ms\n",
      "430:\tlearn: 0.0521235\ttotal: 259ms\tremaining: 341ms\n",
      "431:\tlearn: 0.0518840\ttotal: 264ms\tremaining: 347ms\n",
      "432:\tlearn: 0.0517131\ttotal: 264ms\tremaining: 346ms\n",
      "433:\tlearn: 0.0514865\ttotal: 265ms\tremaining: 345ms\n",
      "434:\tlearn: 0.0512489\ttotal: 265ms\tremaining: 344ms\n",
      "435:\tlearn: 0.0510165\ttotal: 266ms\tremaining: 344ms\n",
      "436:\tlearn: 0.0507857\ttotal: 266ms\tremaining: 343ms\n",
      "437:\tlearn: 0.0505589\ttotal: 267ms\tremaining: 342ms\n",
      "438:\tlearn: 0.0503140\ttotal: 267ms\tremaining: 342ms\n",
      "439:\tlearn: 0.0501113\ttotal: 268ms\tremaining: 341ms\n",
      "440:\tlearn: 0.0498982\ttotal: 268ms\tremaining: 340ms\n",
      "441:\tlearn: 0.0496777\ttotal: 269ms\tremaining: 339ms\n",
      "442:\tlearn: 0.0494610\ttotal: 269ms\tremaining: 338ms\n",
      "443:\tlearn: 0.0492022\ttotal: 269ms\tremaining: 337ms\n",
      "444:\tlearn: 0.0489933\ttotal: 270ms\tremaining: 337ms\n",
      "445:\tlearn: 0.0487821\ttotal: 271ms\tremaining: 336ms\n",
      "446:\tlearn: 0.0485599\ttotal: 271ms\tremaining: 336ms\n",
      "447:\tlearn: 0.0483527\ttotal: 272ms\tremaining: 335ms\n",
      "448:\tlearn: 0.0481840\ttotal: 272ms\tremaining: 334ms\n",
      "449:\tlearn: 0.0479666\ttotal: 273ms\tremaining: 333ms\n",
      "450:\tlearn: 0.0476887\ttotal: 273ms\tremaining: 333ms\n",
      "451:\tlearn: 0.0475026\ttotal: 274ms\tremaining: 332ms\n",
      "452:\tlearn: 0.0473653\ttotal: 274ms\tremaining: 331ms\n",
      "453:\tlearn: 0.0471691\ttotal: 275ms\tremaining: 331ms\n",
      "454:\tlearn: 0.0470351\ttotal: 275ms\tremaining: 330ms\n",
      "455:\tlearn: 0.0469040\ttotal: 276ms\tremaining: 329ms\n",
      "456:\tlearn: 0.0466338\ttotal: 276ms\tremaining: 328ms\n",
      "457:\tlearn: 0.0464255\ttotal: 277ms\tremaining: 328ms\n",
      "458:\tlearn: 0.0462976\ttotal: 277ms\tremaining: 327ms\n",
      "459:\tlearn: 0.0460344\ttotal: 278ms\tremaining: 326ms\n",
      "460:\tlearn: 0.0458465\ttotal: 278ms\tremaining: 325ms\n",
      "461:\tlearn: 0.0455893\ttotal: 279ms\tremaining: 325ms\n",
      "462:\tlearn: 0.0454948\ttotal: 279ms\tremaining: 324ms\n",
      "463:\tlearn: 0.0453115\ttotal: 280ms\tremaining: 323ms\n",
      "464:\tlearn: 0.0450796\ttotal: 280ms\tremaining: 322ms\n",
      "465:\tlearn: 0.0449570\ttotal: 281ms\tremaining: 322ms\n",
      "466:\tlearn: 0.0446428\ttotal: 281ms\tremaining: 321ms\n",
      "467:\tlearn: 0.0445512\ttotal: 282ms\tremaining: 320ms\n",
      "468:\tlearn: 0.0443710\ttotal: 282ms\tremaining: 320ms\n",
      "469:\tlearn: 0.0441494\ttotal: 283ms\tremaining: 319ms\n",
      "470:\tlearn: 0.0439568\ttotal: 283ms\tremaining: 318ms\n",
      "471:\tlearn: 0.0437349\ttotal: 284ms\tremaining: 317ms\n",
      "472:\tlearn: 0.0434805\ttotal: 284ms\tremaining: 317ms\n",
      "473:\tlearn: 0.0432304\ttotal: 285ms\tremaining: 316ms\n",
      "474:\tlearn: 0.0429844\ttotal: 285ms\tremaining: 315ms\n"
     ]
    },
    {
     "name": "stdout",
     "output_type": "stream",
     "text": [
      "475:\tlearn: 0.0427425\ttotal: 286ms\tremaining: 315ms\n",
      "476:\tlearn: 0.0425466\ttotal: 286ms\tremaining: 314ms\n",
      "477:\tlearn: 0.0422990\ttotal: 287ms\tremaining: 313ms\n",
      "478:\tlearn: 0.0420556\ttotal: 287ms\tremaining: 313ms\n",
      "479:\tlearn: 0.0418599\ttotal: 288ms\tremaining: 312ms\n",
      "480:\tlearn: 0.0416714\ttotal: 288ms\tremaining: 311ms\n",
      "481:\tlearn: 0.0414830\ttotal: 289ms\tremaining: 311ms\n",
      "482:\tlearn: 0.0413296\ttotal: 289ms\tremaining: 310ms\n",
      "483:\tlearn: 0.0411023\ttotal: 290ms\tremaining: 309ms\n",
      "484:\tlearn: 0.0408735\ttotal: 291ms\tremaining: 309ms\n",
      "485:\tlearn: 0.0406925\ttotal: 291ms\tremaining: 308ms\n",
      "486:\tlearn: 0.0405441\ttotal: 291ms\tremaining: 307ms\n",
      "487:\tlearn: 0.0403156\ttotal: 292ms\tremaining: 306ms\n",
      "488:\tlearn: 0.0401357\ttotal: 293ms\tremaining: 306ms\n",
      "489:\tlearn: 0.0399626\ttotal: 293ms\tremaining: 305ms\n",
      "490:\tlearn: 0.0398196\ttotal: 294ms\tremaining: 305ms\n",
      "491:\tlearn: 0.0396490\ttotal: 295ms\tremaining: 304ms\n",
      "492:\tlearn: 0.0394823\ttotal: 295ms\tremaining: 304ms\n",
      "493:\tlearn: 0.0393247\ttotal: 296ms\tremaining: 303ms\n",
      "494:\tlearn: 0.0391826\ttotal: 297ms\tremaining: 303ms\n",
      "495:\tlearn: 0.0390339\ttotal: 297ms\tremaining: 302ms\n",
      "496:\tlearn: 0.0388770\ttotal: 297ms\tremaining: 301ms\n",
      "497:\tlearn: 0.0387406\ttotal: 298ms\tremaining: 300ms\n",
      "498:\tlearn: 0.0385195\ttotal: 298ms\tremaining: 300ms\n",
      "499:\tlearn: 0.0383748\ttotal: 299ms\tremaining: 299ms\n",
      "500:\tlearn: 0.0381592\ttotal: 300ms\tremaining: 298ms\n",
      "501:\tlearn: 0.0380105\ttotal: 300ms\tremaining: 298ms\n",
      "502:\tlearn: 0.0378197\ttotal: 301ms\tremaining: 297ms\n",
      "503:\tlearn: 0.0377052\ttotal: 301ms\tremaining: 296ms\n",
      "504:\tlearn: 0.0374981\ttotal: 302ms\tremaining: 296ms\n",
      "505:\tlearn: 0.0373980\ttotal: 302ms\tremaining: 295ms\n",
      "506:\tlearn: 0.0372130\ttotal: 303ms\tremaining: 294ms\n",
      "507:\tlearn: 0.0371158\ttotal: 303ms\tremaining: 294ms\n",
      "508:\tlearn: 0.0369878\ttotal: 304ms\tremaining: 293ms\n",
      "509:\tlearn: 0.0368074\ttotal: 304ms\tremaining: 292ms\n",
      "510:\tlearn: 0.0366961\ttotal: 305ms\tremaining: 292ms\n",
      "511:\tlearn: 0.0365839\ttotal: 305ms\tremaining: 291ms\n",
      "512:\tlearn: 0.0363995\ttotal: 306ms\tremaining: 290ms\n",
      "513:\tlearn: 0.0362410\ttotal: 306ms\tremaining: 290ms\n",
      "514:\tlearn: 0.0360382\ttotal: 307ms\tremaining: 289ms\n",
      "515:\tlearn: 0.0359339\ttotal: 307ms\tremaining: 288ms\n",
      "516:\tlearn: 0.0357364\ttotal: 308ms\tremaining: 287ms\n",
      "517:\tlearn: 0.0355871\ttotal: 308ms\tremaining: 287ms\n",
      "518:\tlearn: 0.0353942\ttotal: 309ms\tremaining: 286ms\n",
      "519:\tlearn: 0.0352815\ttotal: 309ms\tremaining: 285ms\n",
      "520:\tlearn: 0.0350944\ttotal: 310ms\tremaining: 285ms\n",
      "521:\tlearn: 0.0349920\ttotal: 310ms\tremaining: 284ms\n",
      "522:\tlearn: 0.0348845\ttotal: 311ms\tremaining: 283ms\n",
      "523:\tlearn: 0.0347845\ttotal: 311ms\tremaining: 283ms\n",
      "524:\tlearn: 0.0346030\ttotal: 312ms\tremaining: 282ms\n",
      "525:\tlearn: 0.0344125\ttotal: 312ms\tremaining: 281ms\n",
      "526:\tlearn: 0.0343102\ttotal: 313ms\tremaining: 281ms\n",
      "527:\tlearn: 0.0342272\ttotal: 313ms\tremaining: 280ms\n",
      "528:\tlearn: 0.0341150\ttotal: 314ms\tremaining: 279ms\n",
      "529:\tlearn: 0.0339856\ttotal: 314ms\tremaining: 279ms\n",
      "530:\tlearn: 0.0339416\ttotal: 315ms\tremaining: 278ms\n",
      "531:\tlearn: 0.0337568\ttotal: 315ms\tremaining: 277ms\n",
      "532:\tlearn: 0.0336597\ttotal: 315ms\tremaining: 276ms\n",
      "533:\tlearn: 0.0336169\ttotal: 316ms\tremaining: 276ms\n",
      "534:\tlearn: 0.0334251\ttotal: 316ms\tremaining: 275ms\n",
      "535:\tlearn: 0.0333176\ttotal: 317ms\tremaining: 274ms\n",
      "536:\tlearn: 0.0332242\ttotal: 317ms\tremaining: 274ms\n",
      "537:\tlearn: 0.0330565\ttotal: 318ms\tremaining: 273ms\n",
      "538:\tlearn: 0.0329515\ttotal: 318ms\tremaining: 272ms\n",
      "539:\tlearn: 0.0328483\ttotal: 319ms\tremaining: 272ms\n",
      "540:\tlearn: 0.0327469\ttotal: 319ms\tremaining: 271ms\n",
      "541:\tlearn: 0.0325725\ttotal: 325ms\tremaining: 275ms\n",
      "542:\tlearn: 0.0325312\ttotal: 326ms\tremaining: 274ms\n",
      "543:\tlearn: 0.0324320\ttotal: 326ms\tremaining: 273ms\n",
      "544:\tlearn: 0.0322607\ttotal: 327ms\tremaining: 273ms\n",
      "545:\tlearn: 0.0321635\ttotal: 327ms\tremaining: 272ms\n",
      "546:\tlearn: 0.0320680\ttotal: 328ms\tremaining: 272ms\n",
      "547:\tlearn: 0.0319000\ttotal: 328ms\tremaining: 271ms\n",
      "548:\tlearn: 0.0318597\ttotal: 329ms\tremaining: 270ms\n",
      "549:\tlearn: 0.0317662\ttotal: 329ms\tremaining: 269ms\n",
      "550:\tlearn: 0.0316012\ttotal: 330ms\tremaining: 269ms\n",
      "551:\tlearn: 0.0314083\ttotal: 330ms\tremaining: 268ms\n",
      "552:\tlearn: 0.0313173\ttotal: 331ms\tremaining: 267ms\n",
      "553:\tlearn: 0.0311269\ttotal: 331ms\tremaining: 267ms\n",
      "554:\tlearn: 0.0310869\ttotal: 332ms\tremaining: 266ms\n",
      "555:\tlearn: 0.0309980\ttotal: 332ms\tremaining: 265ms\n",
      "556:\tlearn: 0.0308578\ttotal: 333ms\tremaining: 265ms\n",
      "557:\tlearn: 0.0306972\ttotal: 333ms\tremaining: 264ms\n",
      "558:\tlearn: 0.0305991\ttotal: 334ms\tremaining: 263ms\n",
      "559:\tlearn: 0.0304731\ttotal: 334ms\tremaining: 263ms\n",
      "560:\tlearn: 0.0304346\ttotal: 335ms\tremaining: 262ms\n",
      "561:\tlearn: 0.0302510\ttotal: 335ms\tremaining: 261ms\n",
      "562:\tlearn: 0.0301612\ttotal: 336ms\tremaining: 261ms\n",
      "563:\tlearn: 0.0300536\ttotal: 336ms\tremaining: 260ms\n",
      "564:\tlearn: 0.0299011\ttotal: 337ms\tremaining: 259ms\n",
      "565:\tlearn: 0.0297135\ttotal: 337ms\tremaining: 259ms\n",
      "566:\tlearn: 0.0296319\ttotal: 338ms\tremaining: 258ms\n",
      "567:\tlearn: 0.0295753\ttotal: 338ms\tremaining: 257ms\n",
      "568:\tlearn: 0.0294977\ttotal: 339ms\tremaining: 257ms\n",
      "569:\tlearn: 0.0294614\ttotal: 339ms\tremaining: 256ms\n",
      "570:\tlearn: 0.0294267\ttotal: 340ms\tremaining: 255ms\n",
      "571:\tlearn: 0.0292791\ttotal: 340ms\tremaining: 255ms\n",
      "572:\tlearn: 0.0291064\ttotal: 341ms\tremaining: 254ms\n",
      "573:\tlearn: 0.0290536\ttotal: 341ms\tremaining: 253ms\n",
      "574:\tlearn: 0.0289765\ttotal: 342ms\tremaining: 253ms\n",
      "575:\tlearn: 0.0289035\ttotal: 342ms\tremaining: 252ms\n",
      "576:\tlearn: 0.0288705\ttotal: 343ms\tremaining: 251ms\n",
      "577:\tlearn: 0.0287976\ttotal: 343ms\tremaining: 251ms\n",
      "578:\tlearn: 0.0286374\ttotal: 344ms\tremaining: 250ms\n",
      "579:\tlearn: 0.0284677\ttotal: 344ms\tremaining: 249ms\n",
      "580:\tlearn: 0.0284180\ttotal: 345ms\tremaining: 249ms\n",
      "581:\tlearn: 0.0282750\ttotal: 345ms\tremaining: 248ms\n",
      "582:\tlearn: 0.0281338\ttotal: 346ms\tremaining: 247ms\n",
      "583:\tlearn: 0.0280846\ttotal: 346ms\tremaining: 247ms\n",
      "584:\tlearn: 0.0279451\ttotal: 347ms\tremaining: 246ms\n",
      "585:\tlearn: 0.0279136\ttotal: 347ms\tremaining: 245ms\n",
      "586:\tlearn: 0.0278491\ttotal: 348ms\tremaining: 245ms\n",
      "587:\tlearn: 0.0277113\ttotal: 348ms\tremaining: 244ms\n",
      "588:\tlearn: 0.0276437\ttotal: 349ms\tremaining: 243ms\n",
      "589:\tlearn: 0.0275079\ttotal: 349ms\tremaining: 243ms\n",
      "590:\tlearn: 0.0274774\ttotal: 350ms\tremaining: 242ms\n",
      "591:\tlearn: 0.0273180\ttotal: 350ms\tremaining: 241ms\n",
      "592:\tlearn: 0.0271844\ttotal: 351ms\tremaining: 241ms\n",
      "593:\tlearn: 0.0271226\ttotal: 351ms\tremaining: 240ms\n",
      "594:\tlearn: 0.0269621\ttotal: 351ms\tremaining: 239ms\n",
      "595:\tlearn: 0.0269323\ttotal: 352ms\tremaining: 238ms\n",
      "596:\tlearn: 0.0268688\ttotal: 352ms\tremaining: 238ms\n",
      "597:\tlearn: 0.0267104\ttotal: 353ms\tremaining: 237ms\n",
      "598:\tlearn: 0.0266189\ttotal: 353ms\tremaining: 236ms\n",
      "599:\tlearn: 0.0265829\ttotal: 353ms\tremaining: 236ms\n",
      "600:\tlearn: 0.0264852\ttotal: 354ms\tremaining: 235ms\n",
      "601:\tlearn: 0.0264267\ttotal: 354ms\tremaining: 234ms\n",
      "602:\tlearn: 0.0262949\ttotal: 354ms\tremaining: 233ms\n",
      "603:\tlearn: 0.0262664\ttotal: 355ms\tremaining: 233ms\n",
      "604:\tlearn: 0.0261108\ttotal: 355ms\tremaining: 232ms\n",
      "605:\tlearn: 0.0260543\ttotal: 355ms\tremaining: 231ms\n",
      "606:\tlearn: 0.0259600\ttotal: 356ms\tremaining: 230ms\n",
      "607:\tlearn: 0.0258259\ttotal: 356ms\tremaining: 230ms\n",
      "608:\tlearn: 0.0257697\ttotal: 357ms\tremaining: 229ms\n",
      "609:\tlearn: 0.0257420\ttotal: 357ms\tremaining: 228ms\n",
      "610:\tlearn: 0.0256174\ttotal: 357ms\tremaining: 228ms\n",
      "611:\tlearn: 0.0254867\ttotal: 358ms\tremaining: 227ms\n",
      "612:\tlearn: 0.0253648\ttotal: 358ms\tremaining: 226ms\n",
      "613:\tlearn: 0.0252862\ttotal: 359ms\tremaining: 225ms\n",
      "614:\tlearn: 0.0252367\ttotal: 359ms\tremaining: 225ms\n",
      "615:\tlearn: 0.0252100\ttotal: 360ms\tremaining: 224ms\n",
      "616:\tlearn: 0.0250830\ttotal: 360ms\tremaining: 223ms\n",
      "617:\tlearn: 0.0249347\ttotal: 361ms\tremaining: 223ms\n",
      "618:\tlearn: 0.0247720\ttotal: 361ms\tremaining: 222ms\n",
      "619:\tlearn: 0.0246885\ttotal: 362ms\tremaining: 222ms\n",
      "620:\tlearn: 0.0246140\ttotal: 362ms\tremaining: 221ms\n",
      "621:\tlearn: 0.0245655\ttotal: 363ms\tremaining: 220ms\n",
      "622:\tlearn: 0.0245443\ttotal: 363ms\tremaining: 220ms\n",
      "623:\tlearn: 0.0244075\ttotal: 364ms\tremaining: 219ms\n",
      "624:\tlearn: 0.0243603\ttotal: 364ms\tremaining: 218ms\n",
      "625:\tlearn: 0.0243396\ttotal: 365ms\tremaining: 218ms\n",
      "626:\tlearn: 0.0242189\ttotal: 365ms\tremaining: 217ms\n",
      "627:\tlearn: 0.0240995\ttotal: 365ms\tremaining: 216ms\n",
      "628:\tlearn: 0.0239982\ttotal: 366ms\tremaining: 216ms\n",
      "629:\tlearn: 0.0238818\ttotal: 367ms\tremaining: 215ms\n",
      "630:\tlearn: 0.0238320\ttotal: 367ms\tremaining: 215ms\n",
      "631:\tlearn: 0.0238073\ttotal: 368ms\tremaining: 214ms\n",
      "632:\tlearn: 0.0237234\ttotal: 368ms\tremaining: 214ms\n"
     ]
    },
    {
     "name": "stdout",
     "output_type": "stream",
     "text": [
      "633:\tlearn: 0.0236176\ttotal: 369ms\tremaining: 213ms\n",
      "634:\tlearn: 0.0235933\ttotal: 370ms\tremaining: 212ms\n",
      "635:\tlearn: 0.0235110\ttotal: 370ms\tremaining: 212ms\n",
      "636:\tlearn: 0.0234084\ttotal: 371ms\tremaining: 211ms\n",
      "637:\tlearn: 0.0232964\ttotal: 371ms\tremaining: 211ms\n",
      "638:\tlearn: 0.0232073\ttotal: 371ms\tremaining: 210ms\n",
      "639:\tlearn: 0.0230708\ttotal: 372ms\tremaining: 209ms\n",
      "640:\tlearn: 0.0230025\ttotal: 372ms\tremaining: 209ms\n",
      "641:\tlearn: 0.0229794\ttotal: 373ms\tremaining: 208ms\n",
      "642:\tlearn: 0.0229567\ttotal: 373ms\tremaining: 207ms\n",
      "643:\tlearn: 0.0229045\ttotal: 374ms\tremaining: 207ms\n",
      "644:\tlearn: 0.0228507\ttotal: 375ms\tremaining: 206ms\n",
      "645:\tlearn: 0.0228043\ttotal: 375ms\tremaining: 206ms\n",
      "646:\tlearn: 0.0227257\ttotal: 376ms\tremaining: 205ms\n",
      "647:\tlearn: 0.0226734\ttotal: 376ms\tremaining: 204ms\n",
      "648:\tlearn: 0.0225882\ttotal: 377ms\tremaining: 204ms\n",
      "649:\tlearn: 0.0224811\ttotal: 377ms\tremaining: 203ms\n",
      "650:\tlearn: 0.0223819\ttotal: 378ms\tremaining: 203ms\n",
      "651:\tlearn: 0.0223551\ttotal: 378ms\tremaining: 202ms\n",
      "652:\tlearn: 0.0222578\ttotal: 379ms\tremaining: 201ms\n",
      "653:\tlearn: 0.0222314\ttotal: 379ms\tremaining: 201ms\n",
      "654:\tlearn: 0.0221560\ttotal: 380ms\tremaining: 200ms\n",
      "655:\tlearn: 0.0221301\ttotal: 380ms\tremaining: 199ms\n",
      "656:\tlearn: 0.0220267\ttotal: 381ms\tremaining: 199ms\n",
      "657:\tlearn: 0.0219313\ttotal: 381ms\tremaining: 198ms\n",
      "658:\tlearn: 0.0219059\ttotal: 381ms\tremaining: 197ms\n",
      "659:\tlearn: 0.0217588\ttotal: 382ms\tremaining: 197ms\n",
      "660:\tlearn: 0.0216863\ttotal: 382ms\tremaining: 196ms\n",
      "661:\tlearn: 0.0216674\ttotal: 383ms\tremaining: 195ms\n",
      "662:\tlearn: 0.0215959\ttotal: 383ms\tremaining: 195ms\n",
      "663:\tlearn: 0.0214883\ttotal: 383ms\tremaining: 194ms\n",
      "664:\tlearn: 0.0213466\ttotal: 384ms\tremaining: 193ms\n",
      "665:\tlearn: 0.0212769\ttotal: 384ms\tremaining: 193ms\n",
      "666:\tlearn: 0.0211479\ttotal: 384ms\tremaining: 192ms\n",
      "667:\tlearn: 0.0211308\ttotal: 385ms\tremaining: 191ms\n",
      "668:\tlearn: 0.0210526\ttotal: 385ms\tremaining: 191ms\n",
      "669:\tlearn: 0.0209559\ttotal: 386ms\tremaining: 190ms\n",
      "670:\tlearn: 0.0208198\ttotal: 387ms\tremaining: 190ms\n",
      "671:\tlearn: 0.0207524\ttotal: 387ms\tremaining: 189ms\n",
      "672:\tlearn: 0.0207382\ttotal: 388ms\tremaining: 188ms\n",
      "673:\tlearn: 0.0206873\ttotal: 388ms\tremaining: 188ms\n",
      "674:\tlearn: 0.0205926\ttotal: 389ms\tremaining: 187ms\n",
      "675:\tlearn: 0.0204610\ttotal: 389ms\tremaining: 186ms\n",
      "676:\tlearn: 0.0204473\ttotal: 390ms\tremaining: 186ms\n",
      "677:\tlearn: 0.0204313\ttotal: 390ms\tremaining: 185ms\n",
      "678:\tlearn: 0.0203382\ttotal: 390ms\tremaining: 185ms\n",
      "679:\tlearn: 0.0202099\ttotal: 391ms\tremaining: 184ms\n",
      "680:\tlearn: 0.0201632\ttotal: 391ms\tremaining: 183ms\n",
      "681:\tlearn: 0.0200422\ttotal: 392ms\tremaining: 183ms\n",
      "682:\tlearn: 0.0200291\ttotal: 393ms\tremaining: 182ms\n",
      "683:\tlearn: 0.0199380\ttotal: 393ms\tremaining: 182ms\n",
      "684:\tlearn: 0.0198141\ttotal: 393ms\tremaining: 181ms\n",
      "685:\tlearn: 0.0197957\ttotal: 394ms\tremaining: 180ms\n",
      "686:\tlearn: 0.0197509\ttotal: 394ms\tremaining: 180ms\n",
      "687:\tlearn: 0.0196336\ttotal: 396ms\tremaining: 179ms\n",
      "688:\tlearn: 0.0195156\ttotal: 396ms\tremaining: 179ms\n",
      "689:\tlearn: 0.0194624\ttotal: 397ms\tremaining: 178ms\n",
      "690:\tlearn: 0.0193473\ttotal: 397ms\tremaining: 178ms\n",
      "691:\tlearn: 0.0192314\ttotal: 398ms\tremaining: 177ms\n",
      "692:\tlearn: 0.0192139\ttotal: 398ms\tremaining: 176ms\n",
      "693:\tlearn: 0.0191537\ttotal: 399ms\tremaining: 176ms\n",
      "694:\tlearn: 0.0191365\ttotal: 399ms\tremaining: 175ms\n",
      "695:\tlearn: 0.0190772\ttotal: 400ms\tremaining: 175ms\n",
      "696:\tlearn: 0.0189295\ttotal: 400ms\tremaining: 174ms\n",
      "697:\tlearn: 0.0187950\ttotal: 401ms\tremaining: 173ms\n",
      "698:\tlearn: 0.0186871\ttotal: 401ms\tremaining: 173ms\n",
      "699:\tlearn: 0.0186024\ttotal: 402ms\tremaining: 172ms\n",
      "700:\tlearn: 0.0185733\ttotal: 402ms\tremaining: 172ms\n",
      "701:\tlearn: 0.0184890\ttotal: 403ms\tremaining: 171ms\n",
      "702:\tlearn: 0.0184580\ttotal: 403ms\tremaining: 170ms\n",
      "703:\tlearn: 0.0184297\ttotal: 404ms\tremaining: 170ms\n",
      "704:\tlearn: 0.0182854\ttotal: 404ms\tremaining: 169ms\n",
      "705:\tlearn: 0.0182030\ttotal: 405ms\tremaining: 169ms\n",
      "706:\tlearn: 0.0180729\ttotal: 405ms\tremaining: 168ms\n",
      "707:\tlearn: 0.0180093\ttotal: 406ms\tremaining: 167ms\n",
      "708:\tlearn: 0.0179791\ttotal: 406ms\tremaining: 167ms\n",
      "709:\tlearn: 0.0179517\ttotal: 407ms\tremaining: 166ms\n",
      "710:\tlearn: 0.0178892\ttotal: 407ms\tremaining: 165ms\n",
      "711:\tlearn: 0.0178603\ttotal: 408ms\tremaining: 165ms\n",
      "712:\tlearn: 0.0177807\ttotal: 408ms\tremaining: 164ms\n",
      "713:\tlearn: 0.0177517\ttotal: 409ms\tremaining: 164ms\n",
      "714:\tlearn: 0.0176259\ttotal: 409ms\tremaining: 163ms\n",
      "715:\tlearn: 0.0175404\ttotal: 409ms\tremaining: 162ms\n",
      "716:\tlearn: 0.0174618\ttotal: 410ms\tremaining: 162ms\n",
      "717:\tlearn: 0.0174336\ttotal: 411ms\tremaining: 161ms\n",
      "718:\tlearn: 0.0173009\ttotal: 411ms\tremaining: 161ms\n",
      "719:\tlearn: 0.0172248\ttotal: 412ms\tremaining: 160ms\n",
      "720:\tlearn: 0.0171053\ttotal: 412ms\tremaining: 159ms\n",
      "721:\tlearn: 0.0169881\ttotal: 413ms\tremaining: 159ms\n",
      "722:\tlearn: 0.0168732\ttotal: 413ms\tremaining: 158ms\n",
      "723:\tlearn: 0.0168165\ttotal: 414ms\tremaining: 158ms\n",
      "724:\tlearn: 0.0167172\ttotal: 414ms\tremaining: 157ms\n",
      "725:\tlearn: 0.0166369\ttotal: 415ms\tremaining: 156ms\n",
      "726:\tlearn: 0.0165571\ttotal: 415ms\tremaining: 156ms\n",
      "727:\tlearn: 0.0164852\ttotal: 415ms\tremaining: 155ms\n",
      "728:\tlearn: 0.0164582\ttotal: 416ms\tremaining: 155ms\n",
      "729:\tlearn: 0.0164412\ttotal: 417ms\tremaining: 154ms\n",
      "730:\tlearn: 0.0163705\ttotal: 417ms\tremaining: 153ms\n",
      "731:\tlearn: 0.0162506\ttotal: 418ms\tremaining: 153ms\n",
      "732:\tlearn: 0.0161430\ttotal: 418ms\tremaining: 152ms\n",
      "733:\tlearn: 0.0160660\ttotal: 418ms\tremaining: 152ms\n",
      "734:\tlearn: 0.0159977\ttotal: 419ms\tremaining: 151ms\n",
      "735:\tlearn: 0.0158932\ttotal: 420ms\tremaining: 150ms\n",
      "736:\tlearn: 0.0158384\ttotal: 420ms\tremaining: 150ms\n",
      "737:\tlearn: 0.0157636\ttotal: 420ms\tremaining: 149ms\n",
      "738:\tlearn: 0.0156899\ttotal: 421ms\tremaining: 149ms\n",
      "739:\tlearn: 0.0156177\ttotal: 421ms\tremaining: 148ms\n",
      "740:\tlearn: 0.0155101\ttotal: 422ms\tremaining: 147ms\n",
      "741:\tlearn: 0.0154256\ttotal: 422ms\tremaining: 147ms\n",
      "742:\tlearn: 0.0153778\ttotal: 423ms\tremaining: 146ms\n",
      "743:\tlearn: 0.0153064\ttotal: 423ms\tremaining: 146ms\n",
      "744:\tlearn: 0.0152361\ttotal: 423ms\tremaining: 145ms\n",
      "745:\tlearn: 0.0151894\ttotal: 424ms\tremaining: 144ms\n",
      "746:\tlearn: 0.0150891\ttotal: 425ms\tremaining: 144ms\n",
      "747:\tlearn: 0.0150645\ttotal: 425ms\tremaining: 143ms\n",
      "748:\tlearn: 0.0150403\ttotal: 426ms\tremaining: 143ms\n",
      "749:\tlearn: 0.0149720\ttotal: 426ms\tremaining: 142ms\n",
      "750:\tlearn: 0.0149264\ttotal: 427ms\tremaining: 141ms\n",
      "751:\tlearn: 0.0148591\ttotal: 427ms\tremaining: 141ms\n",
      "752:\tlearn: 0.0148095\ttotal: 427ms\tremaining: 140ms\n",
      "753:\tlearn: 0.0147195\ttotal: 428ms\tremaining: 140ms\n",
      "754:\tlearn: 0.0146882\ttotal: 428ms\tremaining: 139ms\n",
      "755:\tlearn: 0.0146181\ttotal: 429ms\tremaining: 138ms\n",
      "756:\tlearn: 0.0145911\ttotal: 429ms\tremaining: 138ms\n",
      "757:\tlearn: 0.0145226\ttotal: 430ms\tremaining: 137ms\n",
      "758:\tlearn: 0.0144926\ttotal: 430ms\tremaining: 137ms\n",
      "759:\tlearn: 0.0143926\ttotal: 431ms\tremaining: 136ms\n",
      "760:\tlearn: 0.0143198\ttotal: 431ms\tremaining: 135ms\n",
      "761:\tlearn: 0.0142558\ttotal: 432ms\tremaining: 135ms\n",
      "762:\tlearn: 0.0141548\ttotal: 432ms\tremaining: 134ms\n",
      "763:\tlearn: 0.0140841\ttotal: 433ms\tremaining: 134ms\n",
      "764:\tlearn: 0.0139994\ttotal: 433ms\tremaining: 133ms\n",
      "765:\tlearn: 0.0139115\ttotal: 434ms\tremaining: 133ms\n",
      "766:\tlearn: 0.0138334\ttotal: 434ms\tremaining: 132ms\n",
      "767:\tlearn: 0.0137402\ttotal: 435ms\tremaining: 131ms\n",
      "768:\tlearn: 0.0136639\ttotal: 435ms\tremaining: 131ms\n",
      "769:\tlearn: 0.0135720\ttotal: 436ms\tremaining: 130ms\n",
      "770:\tlearn: 0.0134816\ttotal: 436ms\tremaining: 130ms\n",
      "771:\tlearn: 0.0134236\ttotal: 437ms\tremaining: 129ms\n",
      "772:\tlearn: 0.0133501\ttotal: 437ms\tremaining: 128ms\n",
      "773:\tlearn: 0.0132845\ttotal: 438ms\tremaining: 128ms\n",
      "774:\tlearn: 0.0132200\ttotal: 438ms\tremaining: 127ms\n",
      "775:\tlearn: 0.0131689\ttotal: 439ms\tremaining: 127ms\n",
      "776:\tlearn: 0.0131443\ttotal: 439ms\tremaining: 126ms\n",
      "777:\tlearn: 0.0131202\ttotal: 440ms\tremaining: 126ms\n",
      "778:\tlearn: 0.0130926\ttotal: 440ms\tremaining: 125ms\n",
      "779:\tlearn: 0.0130690\ttotal: 441ms\tremaining: 124ms\n",
      "780:\tlearn: 0.0129918\ttotal: 441ms\tremaining: 124ms\n",
      "781:\tlearn: 0.0129656\ttotal: 442ms\tremaining: 123ms\n",
      "782:\tlearn: 0.0128793\ttotal: 442ms\tremaining: 123ms\n",
      "783:\tlearn: 0.0128095\ttotal: 447ms\tremaining: 123ms\n",
      "784:\tlearn: 0.0127306\ttotal: 448ms\tremaining: 123ms\n",
      "785:\tlearn: 0.0127100\ttotal: 448ms\tremaining: 122ms\n",
      "786:\tlearn: 0.0126900\ttotal: 449ms\tremaining: 121ms\n",
      "787:\tlearn: 0.0126278\ttotal: 449ms\tremaining: 121ms\n",
      "788:\tlearn: 0.0125601\ttotal: 450ms\tremaining: 120ms\n",
      "789:\tlearn: 0.0124798\ttotal: 450ms\tremaining: 120ms\n",
      "790:\tlearn: 0.0124038\ttotal: 451ms\tremaining: 119ms\n",
      "791:\tlearn: 0.0123613\ttotal: 451ms\tremaining: 119ms\n",
      "792:\tlearn: 0.0122960\ttotal: 452ms\tremaining: 118ms\n",
      "793:\tlearn: 0.0122546\ttotal: 452ms\tremaining: 117ms\n",
      "794:\tlearn: 0.0121770\ttotal: 453ms\tremaining: 117ms\n",
      "795:\tlearn: 0.0121367\ttotal: 453ms\tremaining: 116ms\n",
      "796:\tlearn: 0.0120735\ttotal: 454ms\tremaining: 116ms\n",
      "797:\tlearn: 0.0120177\ttotal: 454ms\tremaining: 115ms\n",
      "798:\tlearn: 0.0119396\ttotal: 455ms\tremaining: 114ms\n",
      "799:\tlearn: 0.0119157\ttotal: 455ms\tremaining: 114ms\n",
      "800:\tlearn: 0.0118409\ttotal: 456ms\tremaining: 113ms\n",
      "801:\tlearn: 0.0117673\ttotal: 456ms\tremaining: 113ms\n",
      "802:\tlearn: 0.0117213\ttotal: 456ms\tremaining: 112ms\n",
      "803:\tlearn: 0.0116674\ttotal: 457ms\tremaining: 111ms\n",
      "804:\tlearn: 0.0115976\ttotal: 457ms\tremaining: 111ms\n",
      "805:\tlearn: 0.0115265\ttotal: 458ms\tremaining: 110ms\n",
      "806:\tlearn: 0.0114635\ttotal: 458ms\tremaining: 110ms\n",
      "807:\tlearn: 0.0114413\ttotal: 458ms\tremaining: 109ms\n",
      "808:\tlearn: 0.0114228\ttotal: 459ms\tremaining: 108ms\n",
      "809:\tlearn: 0.0113615\ttotal: 459ms\tremaining: 108ms\n",
      "810:\tlearn: 0.0113012\ttotal: 460ms\tremaining: 107ms\n",
      "811:\tlearn: 0.0112291\ttotal: 460ms\tremaining: 107ms\n",
      "812:\tlearn: 0.0111700\ttotal: 461ms\tremaining: 106ms\n",
      "813:\tlearn: 0.0111118\ttotal: 461ms\tremaining: 105ms\n",
      "814:\tlearn: 0.0110443\ttotal: 462ms\tremaining: 105ms\n",
      "815:\tlearn: 0.0109874\ttotal: 462ms\tremaining: 104ms\n",
      "816:\tlearn: 0.0109179\ttotal: 463ms\tremaining: 104ms\n",
      "817:\tlearn: 0.0108621\ttotal: 463ms\tremaining: 103ms\n",
      "818:\tlearn: 0.0108019\ttotal: 464ms\tremaining: 102ms\n",
      "819:\tlearn: 0.0107477\ttotal: 464ms\tremaining: 102ms\n",
      "820:\tlearn: 0.0106801\ttotal: 465ms\tremaining: 101ms\n",
      "821:\tlearn: 0.0106188\ttotal: 465ms\tremaining: 101ms\n",
      "822:\tlearn: 0.0105663\ttotal: 465ms\tremaining: 100ms\n",
      "823:\tlearn: 0.0105099\ttotal: 466ms\tremaining: 99.5ms\n",
      "824:\tlearn: 0.0104484\ttotal: 467ms\tremaining: 99ms\n",
      "825:\tlearn: 0.0104377\ttotal: 467ms\tremaining: 98.4ms\n",
      "826:\tlearn: 0.0103870\ttotal: 467ms\tremaining: 97.8ms\n",
      "827:\tlearn: 0.0103246\ttotal: 468ms\tremaining: 97.2ms\n",
      "828:\tlearn: 0.0102673\ttotal: 468ms\tremaining: 96.6ms\n"
     ]
    },
    {
     "name": "stdout",
     "output_type": "stream",
     "text": [
      "829:\tlearn: 0.0102142\ttotal: 469ms\tremaining: 96.1ms\n",
      "830:\tlearn: 0.0101863\ttotal: 470ms\tremaining: 95.5ms\n",
      "831:\tlearn: 0.0101753\ttotal: 470ms\tremaining: 95ms\n",
      "832:\tlearn: 0.0101270\ttotal: 471ms\tremaining: 94.4ms\n",
      "833:\tlearn: 0.0100634\ttotal: 471ms\tremaining: 93.8ms\n",
      "834:\tlearn: 0.0100136\ttotal: 471ms\tremaining: 93.2ms\n",
      "835:\tlearn: 0.0100034\ttotal: 472ms\tremaining: 92.6ms\n",
      "836:\tlearn: 0.0099927\ttotal: 479ms\tremaining: 93.3ms\n",
      "837:\tlearn: 0.0099456\ttotal: 479ms\tremaining: 92.7ms\n",
      "838:\tlearn: 0.0099188\ttotal: 480ms\tremaining: 92.1ms\n",
      "839:\tlearn: 0.0098726\ttotal: 480ms\tremaining: 91.5ms\n",
      "840:\tlearn: 0.0098135\ttotal: 481ms\tremaining: 90.9ms\n",
      "841:\tlearn: 0.0097613\ttotal: 481ms\tremaining: 90.3ms\n",
      "842:\tlearn: 0.0097005\ttotal: 481ms\tremaining: 89.7ms\n",
      "843:\tlearn: 0.0096495\ttotal: 482ms\tremaining: 89.1ms\n",
      "844:\tlearn: 0.0095926\ttotal: 482ms\tremaining: 88.5ms\n",
      "845:\tlearn: 0.0095827\ttotal: 483ms\tremaining: 87.9ms\n",
      "846:\tlearn: 0.0095391\ttotal: 483ms\tremaining: 87.3ms\n",
      "847:\tlearn: 0.0095137\ttotal: 484ms\tremaining: 86.7ms\n",
      "848:\tlearn: 0.0095040\ttotal: 484ms\tremaining: 86.2ms\n",
      "849:\tlearn: 0.0094582\ttotal: 485ms\tremaining: 85.6ms\n",
      "850:\tlearn: 0.0094487\ttotal: 485ms\tremaining: 85ms\n",
      "851:\tlearn: 0.0094393\ttotal: 486ms\tremaining: 84.4ms\n",
      "852:\tlearn: 0.0093966\ttotal: 486ms\tremaining: 83.8ms\n",
      "853:\tlearn: 0.0093404\ttotal: 487ms\tremaining: 83.2ms\n",
      "854:\tlearn: 0.0092987\ttotal: 487ms\tremaining: 82.6ms\n",
      "855:\tlearn: 0.0092412\ttotal: 487ms\tremaining: 82ms\n",
      "856:\tlearn: 0.0091940\ttotal: 488ms\tremaining: 81.4ms\n",
      "857:\tlearn: 0.0091647\ttotal: 488ms\tremaining: 80.8ms\n",
      "858:\tlearn: 0.0091406\ttotal: 489ms\tremaining: 80.2ms\n",
      "859:\tlearn: 0.0091315\ttotal: 489ms\tremaining: 79.7ms\n",
      "860:\tlearn: 0.0090955\ttotal: 490ms\tremaining: 79.1ms\n",
      "861:\tlearn: 0.0090416\ttotal: 490ms\tremaining: 78.5ms\n",
      "862:\tlearn: 0.0090021\ttotal: 491ms\tremaining: 77.9ms\n",
      "863:\tlearn: 0.0089469\ttotal: 491ms\tremaining: 77.3ms\n",
      "864:\tlearn: 0.0088949\ttotal: 492ms\tremaining: 76.8ms\n",
      "865:\tlearn: 0.0088859\ttotal: 492ms\tremaining: 76.2ms\n",
      "866:\tlearn: 0.0088449\ttotal: 493ms\tremaining: 75.6ms\n",
      "867:\tlearn: 0.0088360\ttotal: 493ms\tremaining: 75ms\n",
      "868:\tlearn: 0.0088272\ttotal: 494ms\tremaining: 74.4ms\n",
      "869:\tlearn: 0.0088186\ttotal: 494ms\tremaining: 73.8ms\n",
      "870:\tlearn: 0.0087782\ttotal: 495ms\tremaining: 73.2ms\n",
      "871:\tlearn: 0.0087697\ttotal: 495ms\tremaining: 72.6ms\n",
      "872:\tlearn: 0.0087613\ttotal: 495ms\tremaining: 72ms\n",
      "873:\tlearn: 0.0087530\ttotal: 496ms\tremaining: 71.5ms\n",
      "874:\tlearn: 0.0087149\ttotal: 496ms\tremaining: 70.9ms\n",
      "875:\tlearn: 0.0086924\ttotal: 497ms\tremaining: 70.3ms\n",
      "876:\tlearn: 0.0086530\ttotal: 497ms\tremaining: 69.7ms\n",
      "877:\tlearn: 0.0086449\ttotal: 497ms\tremaining: 69.1ms\n",
      "878:\tlearn: 0.0086368\ttotal: 498ms\tremaining: 68.5ms\n",
      "879:\tlearn: 0.0085858\ttotal: 498ms\tremaining: 68ms\n",
      "880:\tlearn: 0.0085486\ttotal: 499ms\tremaining: 67.4ms\n",
      "881:\tlearn: 0.0085077\ttotal: 499ms\tremaining: 66.8ms\n",
      "882:\tlearn: 0.0084860\ttotal: 500ms\tremaining: 66.2ms\n",
      "883:\tlearn: 0.0084781\ttotal: 500ms\tremaining: 65.6ms\n",
      "884:\tlearn: 0.0084401\ttotal: 501ms\tremaining: 65.1ms\n",
      "885:\tlearn: 0.0084323\ttotal: 501ms\tremaining: 64.5ms\n",
      "886:\tlearn: 0.0084234\ttotal: 502ms\tremaining: 63.9ms\n",
      "887:\tlearn: 0.0083815\ttotal: 502ms\tremaining: 63.3ms\n",
      "888:\tlearn: 0.0083339\ttotal: 503ms\tremaining: 62.7ms\n",
      "889:\tlearn: 0.0082779\ttotal: 503ms\tremaining: 62.2ms\n",
      "890:\tlearn: 0.0082508\ttotal: 503ms\tremaining: 61.6ms\n",
      "891:\tlearn: 0.0082426\ttotal: 504ms\tremaining: 61ms\n",
      "892:\tlearn: 0.0082071\ttotal: 504ms\tremaining: 60.4ms\n",
      "893:\tlearn: 0.0081682\ttotal: 504ms\tremaining: 59.8ms\n",
      "894:\tlearn: 0.0081253\ttotal: 505ms\tremaining: 59.2ms\n",
      "895:\tlearn: 0.0080992\ttotal: 505ms\tremaining: 58.6ms\n",
      "896:\tlearn: 0.0080912\ttotal: 505ms\tremaining: 58ms\n",
      "897:\tlearn: 0.0080833\ttotal: 506ms\tremaining: 57.5ms\n",
      "898:\tlearn: 0.0080487\ttotal: 506ms\tremaining: 56.9ms\n",
      "899:\tlearn: 0.0080144\ttotal: 507ms\tremaining: 56.3ms\n",
      "900:\tlearn: 0.0079787\ttotal: 507ms\tremaining: 55.7ms\n",
      "901:\tlearn: 0.0079413\ttotal: 507ms\tremaining: 55.1ms\n",
      "902:\tlearn: 0.0079162\ttotal: 508ms\tremaining: 54.5ms\n",
      "903:\tlearn: 0.0079084\ttotal: 508ms\tremaining: 54ms\n",
      "904:\tlearn: 0.0078716\ttotal: 509ms\tremaining: 53.4ms\n",
      "905:\tlearn: 0.0078472\ttotal: 509ms\tremaining: 52.8ms\n",
      "906:\tlearn: 0.0078396\ttotal: 510ms\tremaining: 52.2ms\n",
      "907:\tlearn: 0.0078314\ttotal: 510ms\tremaining: 51.7ms\n",
      "908:\tlearn: 0.0077881\ttotal: 510ms\tremaining: 51.1ms\n",
      "909:\tlearn: 0.0077545\ttotal: 511ms\tremaining: 50.5ms\n",
      "910:\tlearn: 0.0077336\ttotal: 512ms\tremaining: 50ms\n",
      "911:\tlearn: 0.0076979\ttotal: 512ms\tremaining: 49.4ms\n",
      "912:\tlearn: 0.0076587\ttotal: 512ms\tremaining: 48.8ms\n",
      "913:\tlearn: 0.0076259\ttotal: 513ms\tremaining: 48.3ms\n",
      "914:\tlearn: 0.0076028\ttotal: 513ms\tremaining: 47.7ms\n",
      "915:\tlearn: 0.0075714\ttotal: 514ms\tremaining: 47.1ms\n",
      "916:\tlearn: 0.0075291\ttotal: 514ms\tremaining: 46.5ms\n",
      "917:\tlearn: 0.0074959\ttotal: 515ms\tremaining: 46ms\n",
      "918:\tlearn: 0.0074737\ttotal: 515ms\tremaining: 45.4ms\n",
      "919:\tlearn: 0.0074242\ttotal: 516ms\tremaining: 44.8ms\n",
      "920:\tlearn: 0.0074056\ttotal: 516ms\tremaining: 44.3ms\n",
      "921:\tlearn: 0.0073721\ttotal: 517ms\tremaining: 43.7ms\n",
      "922:\tlearn: 0.0073382\ttotal: 517ms\tremaining: 43.1ms\n",
      "923:\tlearn: 0.0073148\ttotal: 517ms\tremaining: 42.5ms\n",
      "924:\tlearn: 0.0073076\ttotal: 518ms\tremaining: 42ms\n",
      "925:\tlearn: 0.0072710\ttotal: 518ms\tremaining: 41.4ms\n",
      "926:\tlearn: 0.0072640\ttotal: 519ms\tremaining: 40.8ms\n",
      "927:\tlearn: 0.0072342\ttotal: 519ms\tremaining: 40.3ms\n",
      "928:\tlearn: 0.0071932\ttotal: 520ms\tremaining: 39.7ms\n",
      "929:\tlearn: 0.0071669\ttotal: 520ms\tremaining: 39.1ms\n",
      "930:\tlearn: 0.0071266\ttotal: 521ms\tremaining: 38.6ms\n",
      "931:\tlearn: 0.0070839\ttotal: 521ms\tremaining: 38ms\n",
      "932:\tlearn: 0.0070775\ttotal: 521ms\tremaining: 37.4ms\n",
      "933:\tlearn: 0.0070711\ttotal: 522ms\tremaining: 36.9ms\n",
      "934:\tlearn: 0.0070321\ttotal: 522ms\tremaining: 36.3ms\n",
      "935:\tlearn: 0.0070256\ttotal: 523ms\tremaining: 35.7ms\n",
      "936:\tlearn: 0.0069876\ttotal: 523ms\tremaining: 35.2ms\n",
      "937:\tlearn: 0.0069814\ttotal: 523ms\tremaining: 34.6ms\n",
      "938:\tlearn: 0.0069387\ttotal: 524ms\tremaining: 34ms\n",
      "939:\tlearn: 0.0069005\ttotal: 525ms\tremaining: 33.5ms\n",
      "940:\tlearn: 0.0068788\ttotal: 525ms\tremaining: 32.9ms\n",
      "941:\tlearn: 0.0068336\ttotal: 526ms\tremaining: 32.4ms\n",
      "942:\tlearn: 0.0068086\ttotal: 526ms\tremaining: 31.8ms\n",
      "943:\tlearn: 0.0067757\ttotal: 526ms\tremaining: 31.2ms\n",
      "944:\tlearn: 0.0067578\ttotal: 527ms\tremaining: 30.7ms\n",
      "945:\tlearn: 0.0067183\ttotal: 527ms\tremaining: 30.1ms\n",
      "946:\tlearn: 0.0066883\ttotal: 528ms\tremaining: 29.5ms\n",
      "947:\tlearn: 0.0066823\ttotal: 528ms\tremaining: 29ms\n",
      "948:\tlearn: 0.0066650\ttotal: 529ms\tremaining: 28.4ms\n",
      "949:\tlearn: 0.0066591\ttotal: 529ms\tremaining: 27.8ms\n",
      "950:\tlearn: 0.0066160\ttotal: 529ms\tremaining: 27.3ms\n",
      "951:\tlearn: 0.0066012\ttotal: 530ms\tremaining: 26.7ms\n",
      "952:\tlearn: 0.0065700\ttotal: 530ms\tremaining: 26.2ms\n",
      "953:\tlearn: 0.0065357\ttotal: 531ms\tremaining: 25.6ms\n",
      "954:\tlearn: 0.0065124\ttotal: 531ms\tremaining: 25ms\n",
      "955:\tlearn: 0.0064710\ttotal: 532ms\tremaining: 24.5ms\n",
      "956:\tlearn: 0.0064427\ttotal: 532ms\tremaining: 23.9ms\n",
      "957:\tlearn: 0.0064143\ttotal: 533ms\tremaining: 23.4ms\n",
      "958:\tlearn: 0.0063919\ttotal: 533ms\tremaining: 22.8ms\n",
      "959:\tlearn: 0.0063639\ttotal: 534ms\tremaining: 22.2ms\n",
      "960:\tlearn: 0.0063473\ttotal: 534ms\tremaining: 21.7ms\n",
      "961:\tlearn: 0.0063201\ttotal: 535ms\tremaining: 21.1ms\n",
      "962:\tlearn: 0.0062800\ttotal: 535ms\tremaining: 20.6ms\n",
      "963:\tlearn: 0.0062536\ttotal: 535ms\tremaining: 20ms\n",
      "964:\tlearn: 0.0062148\ttotal: 536ms\tremaining: 19.4ms\n",
      "965:\tlearn: 0.0061916\ttotal: 536ms\tremaining: 18.9ms\n",
      "966:\tlearn: 0.0061688\ttotal: 537ms\tremaining: 18.3ms\n",
      "967:\tlearn: 0.0061466\ttotal: 537ms\tremaining: 17.8ms\n",
      "968:\tlearn: 0.0061316\ttotal: 538ms\tremaining: 17.2ms\n",
      "969:\tlearn: 0.0061240\ttotal: 538ms\tremaining: 16.6ms\n",
      "970:\tlearn: 0.0061171\ttotal: 539ms\tremaining: 16.1ms\n",
      "971:\tlearn: 0.0061100\ttotal: 539ms\tremaining: 15.5ms\n",
      "972:\tlearn: 0.0061046\ttotal: 540ms\tremaining: 15ms\n",
      "973:\tlearn: 0.0060899\ttotal: 540ms\tremaining: 14.4ms\n",
      "974:\tlearn: 0.0060830\ttotal: 541ms\tremaining: 13.9ms\n",
      "975:\tlearn: 0.0060763\ttotal: 541ms\tremaining: 13.3ms\n",
      "976:\tlearn: 0.0060710\ttotal: 542ms\tremaining: 12.8ms\n",
      "977:\tlearn: 0.0060455\ttotal: 542ms\tremaining: 12.2ms\n",
      "978:\tlearn: 0.0060205\ttotal: 543ms\tremaining: 11.6ms\n",
      "979:\tlearn: 0.0059890\ttotal: 543ms\tremaining: 11.1ms\n",
      "980:\tlearn: 0.0059646\ttotal: 544ms\tremaining: 10.5ms\n",
      "981:\tlearn: 0.0059381\ttotal: 544ms\tremaining: 9.98ms\n",
      "982:\tlearn: 0.0059209\ttotal: 545ms\tremaining: 9.42ms\n",
      "983:\tlearn: 0.0058887\ttotal: 546ms\tremaining: 8.87ms\n",
      "984:\tlearn: 0.0058519\ttotal: 546ms\tremaining: 8.31ms\n",
      "985:\tlearn: 0.0058140\ttotal: 546ms\tremaining: 7.76ms\n",
      "986:\tlearn: 0.0057782\ttotal: 547ms\tremaining: 7.2ms\n",
      "987:\tlearn: 0.0057645\ttotal: 547ms\tremaining: 6.65ms\n",
      "988:\tlearn: 0.0057314\ttotal: 548ms\tremaining: 6.09ms\n",
      "989:\tlearn: 0.0057062\ttotal: 548ms\tremaining: 5.54ms\n",
      "990:\tlearn: 0.0056804\ttotal: 549ms\tremaining: 4.98ms\n",
      "991:\tlearn: 0.0056573\ttotal: 549ms\tremaining: 4.43ms\n",
      "992:\tlearn: 0.0056229\ttotal: 550ms\tremaining: 3.87ms\n",
      "993:\tlearn: 0.0055943\ttotal: 550ms\tremaining: 3.32ms\n",
      "994:\tlearn: 0.0055709\ttotal: 550ms\tremaining: 2.77ms\n",
      "995:\tlearn: 0.0055481\ttotal: 551ms\tremaining: 2.21ms\n",
      "996:\tlearn: 0.0055315\ttotal: 551ms\tremaining: 1.66ms\n"
     ]
    },
    {
     "name": "stdout",
     "output_type": "stream",
     "text": [
      "997:\tlearn: 0.0055071\ttotal: 552ms\tremaining: 1.11ms\n",
      "998:\tlearn: 0.0054835\ttotal: 553ms\tremaining: 553us\n",
      "999:\tlearn: 0.0054506\ttotal: 553ms\tremaining: 0us\n"
     ]
    },
    {
     "data": {
      "text/plain": [
       "<catboost.core.CatBoostRegressor at 0x7f78812421c0>"
      ]
     },
     "execution_count": 9,
     "metadata": {},
     "output_type": "execute_result"
    }
   ],
   "source": [
    "#Train the Model \n",
    "prior_model = ctb.CatBoostRegressor()\n",
    "prior_model.fit(X_train,Y_train)"
   ]
  },
  {
   "cell_type": "code",
   "execution_count": 10,
   "id": "af65dcda",
   "metadata": {
    "execution": {
     "iopub.execute_input": "2022-05-18T08:48:45.931482Z",
     "iopub.status.busy": "2022-05-18T08:48:45.931094Z",
     "iopub.status.idle": "2022-05-18T08:48:45.938723Z",
     "shell.execute_reply": "2022-05-18T08:48:45.939047Z"
    },
    "id": "af65dcda",
    "papermill": {
     "duration": 0.020875,
     "end_time": "2022-05-18T08:48:45.939170",
     "exception": false,
     "start_time": "2022-05-18T08:48:45.918295",
     "status": "completed"
    },
    "tags": []
   },
   "outputs": [
    {
     "data": {
      "application/scrapbook.scrap.json+json": {
       "data": 0.2242674582153962,
       "encoder": "json",
       "name": "Prior Model MSE",
       "version": 1
      }
     },
     "metadata": {
      "scrapbook": {
       "data": true,
       "display": false,
       "name": "Prior Model MSE"
      }
     },
     "output_type": "display_data"
    },
    {
     "data": {
      "application/scrapbook.scrap.json+json": {
       "data": 0.7743737085863351,
       "encoder": "json",
       "name": "ABC Pre-generator MSE",
       "version": 1
      }
     },
     "metadata": {
      "scrapbook": {
       "data": true,
       "display": false,
       "name": "ABC Pre-generator MSE"
      }
     },
     "output_type": "display_data"
    },
    {
     "data": {
      "application/scrapbook.scrap.json+json": {
       "data": 0.37339447916154245,
       "encoder": "json",
       "name": "Prior Model MAE",
       "version": 1
      }
     },
     "metadata": {
      "scrapbook": {
       "data": true,
       "display": false,
       "name": "Prior Model MAE"
      }
     },
     "output_type": "display_data"
    },
    {
     "data": {
      "application/scrapbook.scrap.json+json": {
       "data": 0.6634144126492868,
       "encoder": "json",
       "name": "ABC Pre-generator MAE",
       "version": 1
      }
     },
     "metadata": {
      "scrapbook": {
       "data": true,
       "display": false,
       "name": "ABC Pre-generator MAE"
      }
     },
     "output_type": "display_data"
    }
   ],
   "source": [
    "y_pred = prior_model.predict(X_test)\n",
    "y_abc = y_pred + np.random.normal(0,variance, y_pred.shape)\n",
    "mse = mean_squared_error(y_pred,Y_test)\n",
    "sb.glue(\"Prior Model MSE\",mse)\n",
    "mse = mean_squared_error(y_abc,Y_test)\n",
    "sb.glue(\"ABC Pre-generator MSE\",mse)\n",
    "\n",
    "mae = mean_absolute_error(y_pred,Y_test)\n",
    "sb.glue(\"Prior Model MAE\",mae)\n",
    "mae = mean_absolute_error(y_abc,Y_test)\n",
    "sb.glue(\"ABC Pre-generator MAE\",mae)"
   ]
  },
  {
   "cell_type": "markdown",
   "id": "25609da2",
   "metadata": {
    "papermill": {
     "duration": 0.010074,
     "end_time": "2022-05-18T08:48:45.959595",
     "exception": false,
     "start_time": "2022-05-18T08:48:45.949521",
     "status": "completed"
    },
    "tags": []
   },
   "source": [
    "# ABC GAN Model"
   ]
  },
  {
   "cell_type": "code",
   "execution_count": 11,
   "id": "dfc3464d",
   "metadata": {
    "execution": {
     "iopub.execute_input": "2022-05-18T08:48:45.986074Z",
     "iopub.status.busy": "2022-05-18T08:48:45.985615Z",
     "iopub.status.idle": "2022-05-18T08:48:45.988154Z",
     "shell.execute_reply": "2022-05-18T08:48:45.988405Z"
    },
    "papermill": {
     "duration": 0.018937,
     "end_time": "2022-05-18T08:48:45.988531",
     "exception": false,
     "start_time": "2022-05-18T08:48:45.969594",
     "status": "completed"
    },
    "tags": []
   },
   "outputs": [],
   "source": [
    "gen = network.Generator(n_features+1).to(device)\n",
    "disc = network.Discriminator(n_features+1).to(device)\n",
    "\n",
    "criterion = torch.nn.BCELoss()\n",
    "gen_opt = torch.optim.Adam(gen.parameters(), lr=0.001, betas=(0.5, 0.999))\n",
    "disc_opt = torch.optim.Adam(disc.parameters(), lr=0.001, betas=(0.5, 0.999))"
   ]
  },
  {
   "cell_type": "code",
   "execution_count": 12,
   "id": "b75fdd85",
   "metadata": {
    "execution": {
     "iopub.execute_input": "2022-05-18T08:48:46.011532Z",
     "iopub.status.busy": "2022-05-18T08:48:46.011149Z",
     "iopub.status.idle": "2022-05-18T08:49:01.464250Z",
     "shell.execute_reply": "2022-05-18T08:49:01.464548Z"
    },
    "papermill": {
     "duration": 15.465928,
     "end_time": "2022-05-18T08:49:01.464669",
     "exception": false,
     "start_time": "2022-05-18T08:48:45.998741",
     "status": "completed"
    },
    "tags": []
   },
   "outputs": [
    {
     "data": {
      "image/png": "[encoded data removed]",
      "text/plain": [
       "<Figure size 432x288 with 1 Axes>"
      ]
     },
     "metadata": {
      "needs_background": "light"
     },
     "output_type": "display_data"
    },
    {
     "data": {
      "image/png": "[encoded data removed]",
      "text/plain": [
       "<Figure size 432x288 with 1 Axes>"
      ]
     },
     "metadata": {
      "needs_background": "light"
     },
     "output_type": "display_data"
    }
   ],
   "source": [
    "#Training the ABC_GAN \n",
    "ABC_train_test2.training_GAN(disc,gen,disc_opt,gen_opt,train_data,batch_size,n_epochs,criterion,prior_model,variance,0,device)"
   ]
  },
  {
   "cell_type": "code",
   "execution_count": 13,
   "id": "1fa7c368",
   "metadata": {
    "execution": {
     "iopub.execute_input": "2022-05-18T08:49:01.488624Z",
     "iopub.status.busy": "2022-05-18T08:49:01.488143Z",
     "iopub.status.idle": "2022-05-18T08:49:01.693730Z",
     "shell.execute_reply": "2022-05-18T08:49:01.694069Z"
    },
    "papermill": {
     "duration": 0.21875,
     "end_time": "2022-05-18T08:49:01.694191",
     "exception": false,
     "start_time": "2022-05-18T08:49:01.475441",
     "status": "completed"
    },
    "tags": []
   },
   "outputs": [
    {
     "data": {
      "application/scrapbook.scrap.json+json": {
       "data": 0.06285959559684023,
       "encoder": "json",
       "name": "ABC-GAN Model 1 MSE",
       "version": 1
      }
     },
     "metadata": {
      "scrapbook": {
       "data": true,
       "display": false,
       "name": "ABC-GAN Model 1 MSE"
      }
     },
     "output_type": "display_data"
    },
    {
     "data": {
      "application/scrapbook.scrap.json+json": {
       "data": 0.15813685427606106,
       "encoder": "json",
       "name": "ABC-GAN Model 1 MAE",
       "version": 1
      }
     },
     "metadata": {
      "scrapbook": {
       "data": true,
       "display": false,
       "name": "ABC-GAN Model 1 MAE"
      }
     },
     "output_type": "display_data"
    },
    {
     "data": {
      "application/scrapbook.scrap.json+json": {
       "data": 3.162737085521221,
       "encoder": "json",
       "name": "ABC-GAN Model 1 Manhattan Distance",
       "version": 1
      }
     },
     "metadata": {
      "scrapbook": {
       "data": true,
       "display": false,
       "name": "ABC-GAN Model 1 Manhattan Distance"
      }
     },
     "output_type": "display_data"
    },
    {
     "data": {
      "application/scrapbook.scrap.json+json": {
       "data": 1.1206328371086678,
       "encoder": "json",
       "name": "ABC-GAN Model 1 Euclidean distance",
       "version": 1
      }
     },
     "metadata": {
      "scrapbook": {
       "data": true,
       "display": false,
       "name": "ABC-GAN Model 1 Euclidean distance"
      }
     },
     "output_type": "display_data"
    },
    {
     "data": {
      "application/scrapbook.scrap.json+json": {
       "data": [
        [
         0.06703108356323607,
         0.063370776704657,
         0.0667108524870842,
         0.06569393831660537,
         0.06712331443322558,
         0.06433268383312338,
         0.060407902248118574,
         0.06580201874313057,
         0.06346476980181763,
         0.06515157161561239,
         0.0643300526837675,
         0.05982824889758174,
         0.05353961357725438,
         0.06296493505322744,
         0.0649670789650604,
         0.06663615805213328,
         0.06494670312631666,
         0.05330733682821387,
         0.06648736185628601,
         0.06755721876095729,
         0.06463643924774969,
         0.0593970182573688,
         0.06553220886735318,
         0.06116312467181182,
         0.05643747612081442,
         0.06446986408055524,
         0.05999619736665105,
         0.06451867217846645,
         0.055626468131902015,
         0.0666545692624245,
         0.06323661768933533,
         0.05376324535642293,
         0.06051223371043578,
         0.06354733697004258,
         0.06413167102781839,
         0.06022608351492194,
         0.06007654030751265,
         0.062346312699886594,
         0.06425441381090471,
         0.06574069664423773,
         0.06208682690031027,
         0.0633499145039024,
         0.06329715408786009,
         0.06644975936045253,
         0.06418472751644545,
         0.06999643640228399,
         0.06554904409157378,
         0.06391185644630022,
         0.06209125135062214,
         0.0662135632590288,
         0.06437607596714345,
         0.06552608138549777,
         0.052610331573129845,
         0.05784220394060776,
         0.06348241118292293,
         0.06317745302977548,
         0.05262938236108357,
         0.06413814126552153,
         0.06440872734869911,
         0.060293833318938714,
         0.06447387909815756,
         0.06317467120630725,
         0.0593105261784032,
         0.06612695221850409,
         0.06370327573888881,
         0.06493646156026985,
         0.06443201301942128,
         0.06360927274356203,
         0.06706036624959616,
         0.06500452030171346,
         0.0630201319325049,
         0.06363012578383584,
         0.04808333726956286,
         0.06394666288208098,
         0.06611686631533667,
         0.055022284115402484,
         0.05777217790835415,
         0.06515882929194175,
         0.06622499895153747,
         0.06470318363884704,
         0.0660245062846452,
         0.06800730934058093,
         0.0659230715023911,
         0.05851236030161122,
         0.06308194189158212,
         0.06545165495189205,
         0.06524785507245452,
         0.06461361527490732,
         0.060009991638856584,
         0.06469941515067135,
         0.06801077072138831,
         0.0632612309843555,
         0.051741655910064986,
         0.055571594415130265,
         0.0623178383744362,
         0.06357889331780094,
         0.06545774327787617,
         0.0635299660978981,
         0.06433853285902182,
         0.06553309115610544
        ],
        [
         0.16625431943684815,
         0.16378484312444924,
         0.1621789215132594,
         0.16210505571216344,
         0.16692565511912108,
         0.15569638554006815,
         0.15599769111722708,
         0.16267039831727742,
         0.1565281642600894,
         0.16451985854655504,
         0.16515489872545003,
         0.1559104548767209,
         0.14870853032916784,
         0.15258468855172397,
         0.160699718631804,
         0.16611014362424611,
         0.1582890624180436,
         0.15492068324238062,
         0.1680445710197091,
         0.17052708324044943,
         0.15706836599856616,
         0.1519436428323388,
         0.1634316673502326,
         0.14790183436125517,
         0.1517318358644843,
         0.1583698322996497,
         0.14918364081531763,
         0.15352264512330294,
         0.15138309989124538,
         0.168168275244534,
         0.15624999012798071,
         0.14903162848204374,
         0.14681406784802675,
         0.15756765957921742,
         0.15875996965914965,
         0.15497036557644606,
         0.1546156531199813,
         0.15495791044086218,
         0.15560392308980225,
         0.16537194345146417,
         0.14925138633698226,
         0.15808869656175376,
         0.15309133436530828,
         0.16349651720374822,
         0.15790731515735387,
         0.17170355822890998,
         0.16510276813060046,
         0.1536051319912076,
         0.1546349013224244,
         0.1676163909956813,
         0.16287044640630483,
         0.1631403213366866,
         0.14994446504861117,
         0.15536673720926047,
         0.1538463382050395,
         0.151516686193645,
         0.13862882535904647,
         0.16134998183697463,
         0.15381152387708424,
         0.15978576969355346,
         0.16157859545201064,
         0.15387676004320383,
         0.16027916874736547,
         0.15883632320910693,
         0.1560020035132766,
         0.15652488600462675,
         0.1624914975836873,
         0.15939124207943678,
         0.1582893727347255,
         0.1638261305168271,
         0.1547344448044896,
         0.1657704098150134,
         0.13598635252565144,
         0.16141599472612142,
         0.15900436621159314,
         0.15690727550536393,
         0.1479237789288163,
         0.16553141865879298,
         0.16854160074144603,
         0.16409337650984526,
         0.15782188307493925,
         0.17290356140583754,
         0.16411533188074828,
         0.15806416738778353,
         0.15781808402389289,
         0.16297602895647287,
         0.1652048347517848,
         0.15253298189491032,
         0.15212127100676298,
         0.15942111816257237,
         0.17438203152269124,
         0.15188225898891689,
         0.14705836195498706,
         0.14787509348243474,
         0.15304903220385313,
         0.15927325505763293,
         0.17041144613176584,
         0.1570730062201619,
         0.15151729192584754,
         0.1581612152978778
        ],
        [
         3.3250863887369633,
         3.275696862488985,
         3.243578430265188,
         3.242101114243269,
         3.3385131023824215,
         3.113927710801363,
         3.1199538223445415,
         3.2534079663455486,
         3.130563285201788,
         3.290397170931101,
         3.303097974509001,
         3.118209097534418,
         2.974170606583357,
         3.051693771034479,
         3.21399437263608,
         3.3222028724849224,
         3.1657812483608723,
         3.0984136648476124,
         3.360891420394182,
         3.4105416648089886,
         3.141367319971323,
         3.038872856646776,
         3.268633347004652,
         2.9580366872251034,
         3.034636717289686,
         3.1673966459929943,
         2.9836728163063526,
         3.0704529024660587,
         3.0276619978249073,
         3.3633655048906803,
         3.124999802559614,
         2.980632569640875,
         2.936281356960535,
         3.1513531915843487,
         3.175199393182993,
         3.099407311528921,
         3.092313062399626,
         3.0991582088172436,
         3.1120784617960453,
         3.3074388690292835,
         2.985027726739645,
         3.161773931235075,
         3.0618266873061657,
         3.2699303440749645,
         3.1581463031470776,
         3.4340711645781994,
         3.302055362612009,
         3.072102639824152,
         3.0926980264484882,
         3.3523278199136257,
         3.2574089281260967,
         3.2628064267337322,
         2.9988893009722233,
         3.1073347441852093,
         3.07692676410079,
         3.0303337238729,
         2.772576507180929,
         3.2269996367394924,
         3.076230477541685,
         3.195715393871069,
         3.2315719090402126,
         3.0775352008640766,
         3.2055833749473095,
         3.1767264641821384,
         3.1200400702655315,
         3.130497720092535,
         3.249829951673746,
         3.1878248415887356,
         3.1657874546945095,
         3.276522610336542,
         3.0946888960897923,
         3.315408196300268,
         2.719727050513029,
         3.2283198945224285,
         3.180087324231863,
         3.138145510107279,
         2.9584755785763264,
         3.3106283731758595,
         3.3708320148289204,
         3.281867530196905,
         3.156437661498785,
         3.4580712281167507,
         3.2823066376149654,
         3.1612833477556705,
         3.1563616804778576,
         3.2595205791294575,
         3.304096695035696,
         3.0506596378982067,
         3.0424254201352596,
         3.1884223632514477,
         3.487640630453825,
         3.0376451797783375,
         2.941167239099741,
         2.957501869648695,
         3.0609806440770626,
         3.1854651011526585,
         3.408228922635317,
         3.1414601244032383,
         3.0303458385169506,
         3.1632243059575558
        ],
        [
         1.1578521802305861,
         1.125795511668589,
         1.1550831354243225,
         1.1462455087511172,
         1.1586484750192838,
         1.1343075758640015,
         1.0991624288349613,
         1.1471880294278751,
         1.1266301061290491,
         1.1415040220306925,
         1.1342843795430448,
         1.0938761255058247,
         1.0347909313214374,
         1.1221847891789252,
         1.139886651953258,
         1.1544362957923082,
         1.1397078847346513,
         1.0325438182296562,
         1.153146667655819,
         1.162387360228571,
         1.1369823151461036,
         1.0899267705434967,
         1.144833689820082,
         1.1060119770763046,
         1.0624262432829341,
         1.135516306184594,
         1.0954104013259236,
         1.1359460566282753,
         1.0547650746199555,
         1.1545957670321203,
         1.1246031983711886,
         1.0369498093584175,
         1.100111209927758,
         1.1273627363900456,
         1.1325340703733233,
         1.0975070251704262,
         1.0961436065362298,
         1.1166585216608218,
         1.1336173411773895,
         1.1466533621303148,
         1.1143323283501225,
         1.125610185667333,
         1.1251413607885907,
         1.152820535560089,
         1.1330024493922812,
         1.1831858383388807,
         1.1449807342621428,
         1.1305914951590625,
         1.114372032587162,
         1.1507698576086254,
         1.134690054306844,
         1.1447801656693548,
         1.0257712373929173,
         1.0755668639429885,
         1.126786680635895,
         1.1240769816144753,
         1.0259569421869863,
         1.13259119955544,
         1.1349777737797258,
         1.0981241579979808,
         1.1355516641541024,
         1.1240522337178753,
         1.089132922818911,
         1.150016975687786,
         1.1287451062032456,
         1.1396180198669188,
         1.1351829193519543,
         1.1279119889739804,
         1.1581050578388488,
         1.140215070078566,
         1.1226765512159314,
         1.1280968556275286,
         0.9806460856961889,
         1.1308993136621932,
         1.1499292701321824,
         1.0490212973567552,
         1.0749156051370186,
         1.1415676002054522,
         1.1508692275974493,
         1.1375691947204534,
         1.1491258093406935,
         1.1662530543632537,
         1.1482427574549827,
         1.0817796476326518,
         1.123226975206544,
         1.1441298436094747,
         1.1423471895396295,
         1.136781555752092,
         1.0955363219798473,
         1.1375360666868664,
         1.1662827334860815,
         1.124822039118682,
         1.0172674762329226,
         1.0542447003910456,
         1.1164034967200362,
         1.1276426146417218,
         1.1441830559650512,
         1.1272086417154377,
         1.1343591394176873,
         1.1448413964921555
        ]
       ],
       "encoder": "json",
       "name": "ABC_GAN_1 Metrics",
       "version": 1
      }
     },
     "metadata": {
      "scrapbook": {
       "data": true,
       "display": false,
       "name": "ABC_GAN_1 Metrics"
      }
     },
     "output_type": "display_data"
    },
    {
     "name": "stdout",
     "output_type": "stream",
     "text": [
      "MSE\n",
      "0.06285959559684023\n"
     ]
    }
   ],
   "source": [
    "ABC_GAN1_metrics=ABC_train_test2.test_generator(gen,test_data,prior_model,variance,0,\"1\",device)\n",
    "sb.glue(\"ABC_GAN_1 Metrics\",ABC_GAN1_metrics)\n",
    "\n",
    "print(\"MSE\")\n",
    "print(mean(ABC_GAN1_metrics[0]))"
   ]
  },
  {
   "cell_type": "code",
   "execution_count": 14,
   "id": "eb22ce5c",
   "metadata": {
    "execution": {
     "iopub.execute_input": "2022-05-18T08:49:01.721129Z",
     "iopub.status.busy": "2022-05-18T08:49:01.720761Z",
     "iopub.status.idle": "2022-05-18T08:49:02.013756Z",
     "shell.execute_reply": "2022-05-18T08:49:02.013997Z"
    },
    "papermill": {
     "duration": 0.307646,
     "end_time": "2022-05-18T08:49:02.014120",
     "exception": false,
     "start_time": "2022-05-18T08:49:01.706474",
     "status": "completed"
    },
    "tags": []
   },
   "outputs": [
    {
     "data": {
      "image/png": "[encoded data removed]",
      "text/plain": [
       "<Figure size 432x288 with 1 Axes>"
      ]
     },
     "metadata": {
      "needs_background": "light"
     },
     "output_type": "display_data"
    },
    {
     "data": {
      "image/png": "[encoded data removed]",
      "text/plain": [
       "<Figure size 432x288 with 1 Axes>"
      ]
     },
     "metadata": {
      "needs_background": "light"
     },
     "output_type": "display_data"
    },
    {
     "data": {
      "image/png": "[encoded data removed]",
      "text/plain": [
       "<Figure size 432x288 with 1 Axes>"
      ]
     },
     "metadata": {
      "needs_background": "light"
     },
     "output_type": "display_data"
    },
    {
     "data": {
      "image/png": "[encoded data removed]",
      "text/plain": [
       "<Figure size 432x288 with 1 Axes>"
      ]
     },
     "metadata": {
      "needs_background": "light"
     },
     "output_type": "display_data"
    }
   ],
   "source": [
    "sanityChecks.discProbVsError(train_data,disc,device)\n",
    "sanityChecks.discProbVsError(test_data,disc,device)"
   ]
  },
  {
   "cell_type": "markdown",
   "id": "130f3a4d",
   "metadata": {
    "id": "130f3a4d",
    "papermill": {
     "duration": 0.014294,
     "end_time": "2022-05-18T08:49:02.042991",
     "exception": false,
     "start_time": "2022-05-18T08:49:02.028697",
     "status": "completed"
    },
    "tags": []
   },
   "source": [
    "# ABC - GAN Model with skip connection"
   ]
  },
  {
   "cell_type": "code",
   "execution_count": 15,
   "id": "4e43dad1",
   "metadata": {
    "execution": {
     "iopub.execute_input": "2022-05-18T08:49:02.075862Z",
     "iopub.status.busy": "2022-05-18T08:49:02.075469Z",
     "iopub.status.idle": "2022-05-18T08:49:02.077680Z",
     "shell.execute_reply": "2022-05-18T08:49:02.077941Z"
    },
    "id": "4e43dad1",
    "papermill": {
     "duration": 0.020859,
     "end_time": "2022-05-18T08:49:02.078055",
     "exception": false,
     "start_time": "2022-05-18T08:49:02.057196",
     "status": "completed"
    },
    "tags": []
   },
   "outputs": [],
   "source": [
    "#Generator\n",
    "gen3 = network.GeneratorWithSkipConnection(n_features+1).to(device)\n",
    "constraints=network.weightConstraint()\n",
    "#Discriminator \n",
    "disc3 = network.Discriminator(n_features+1).to(device)\n",
    "\n",
    "criterion = torch.nn.BCELoss()\n",
    "gen_opt = torch.optim.Adam(gen3.parameters(), lr=0.001, betas=(0.5, 0.999))\n",
    "disc_opt = torch.optim.Adam(disc3.parameters(), lr=0.001, betas=(0.5, 0.999))\n"
   ]
  },
  {
   "cell_type": "code",
   "execution_count": 16,
   "id": "26acbc37",
   "metadata": {
    "execution": {
     "iopub.execute_input": "2022-05-18T08:49:02.109199Z",
     "iopub.status.busy": "2022-05-18T08:49:02.108812Z",
     "iopub.status.idle": "2022-05-18T08:49:41.917273Z",
     "shell.execute_reply": "2022-05-18T08:49:41.917583Z"
    },
    "id": "26acbc37",
    "papermill": {
     "duration": 39.825224,
     "end_time": "2022-05-18T08:49:41.917708",
     "exception": false,
     "start_time": "2022-05-18T08:49:02.092484",
     "status": "completed"
    },
    "tags": []
   },
   "outputs": [
    {
     "data": {
      "image/png": "[encoded data removed]",
      "text/plain": [
       "<Figure size 432x288 with 1 Axes>"
      ]
     },
     "metadata": {
      "needs_background": "light"
     },
     "output_type": "display_data"
    },
    {
     "data": {
      "image/png": "[encoded data removed]",
      "text/plain": [
       "<Figure size 432x288 with 1 Axes>"
      ]
     },
     "metadata": {
      "needs_background": "light"
     },
     "output_type": "display_data"
    }
   ],
   "source": [
    "ABC_train_test2.training_GAN_skip_connection(disc3,gen3,disc_opt,gen_opt,train_data,batch_size,n_epochs,criterion,prior_model,variance,0,device)"
   ]
  },
  {
   "cell_type": "code",
   "execution_count": 17,
   "id": "c5e0717b",
   "metadata": {
    "execution": {
     "iopub.execute_input": "2022-05-18T08:49:41.951686Z",
     "iopub.status.busy": "2022-05-18T08:49:41.951241Z",
     "iopub.status.idle": "2022-05-18T08:49:42.276496Z",
     "shell.execute_reply": "2022-05-18T08:49:42.276888Z"
    },
    "id": "c5e0717b",
    "papermill": {
     "duration": 0.343737,
     "end_time": "2022-05-18T08:49:42.277013",
     "exception": false,
     "start_time": "2022-05-18T08:49:41.933276",
     "status": "completed"
    },
    "tags": []
   },
   "outputs": [
    {
     "data": {
      "application/scrapbook.scrap.json+json": {
       "data": 0.035497802832750565,
       "encoder": "json",
       "name": "ABC-GAN Model 3 MSE",
       "version": 1
      }
     },
     "metadata": {
      "scrapbook": {
       "data": true,
       "display": false,
       "name": "ABC-GAN Model 3 MSE"
      }
     },
     "output_type": "display_data"
    },
    {
     "data": {
      "application/scrapbook.scrap.json+json": {
       "data": 0.14213383646216243,
       "encoder": "json",
       "name": "ABC-GAN Model 3 MAE",
       "version": 1
      }
     },
     "metadata": {
      "scrapbook": {
       "data": true,
       "display": false,
       "name": "ABC-GAN Model 3 MAE"
      }
     },
     "output_type": "display_data"
    },
    {
     "data": {
      "application/scrapbook.scrap.json+json": {
       "data": 2.842676729243249,
       "encoder": "json",
       "name": "ABC-GAN Model 3 Manhattan Distance",
       "version": 1
      }
     },
     "metadata": {
      "scrapbook": {
       "data": true,
       "display": false,
       "name": "ABC-GAN Model 3 Manhattan Distance"
      }
     },
     "output_type": "display_data"
    },
    {
     "data": {
      "application/scrapbook.scrap.json+json": {
       "data": 0.8400160382126136,
       "encoder": "json",
       "name": "ABC-GAN Model 3 Euclidean distance",
       "version": 1
      }
     },
     "metadata": {
      "scrapbook": {
       "data": true,
       "display": false,
       "name": "ABC-GAN Model 3 Euclidean distance"
      }
     },
     "output_type": "display_data"
    },
    {
     "data": {
      "application/scrapbook.scrap.json+json": {
       "data": [
        [
         0.04559275594257235,
         0.03330227512080845,
         0.03141151088633921,
         0.028420472269537485,
         0.03480690462136379,
         0.029825030197234086,
         0.035920355006079055,
         0.03189175028897665,
         0.030048787583525055,
         0.03679726770079541,
         0.03965857958807901,
         0.03699503807297119,
         0.035248634068370546,
         0.02816356803131139,
         0.03604085028926579,
         0.03370011771499443,
         0.04870071363233296,
         0.039217818479714735,
         0.03550826598662714,
         0.03411838861969838,
         0.02967473020110557,
         0.031613300210959455,
         0.037030406827417255,
         0.03133940664651373,
         0.04036344558290532,
         0.04023323414628037,
         0.029873489138338732,
         0.040307306469031565,
         0.038197628533578123,
         0.030659121387852085,
         0.02753521236472977,
         0.035643702223828094,
         0.027160055543725303,
         0.03983463063207747,
         0.03615279894121429,
         0.027335128824162468,
         0.030327492660733663,
         0.03522523321652352,
         0.039562218336306826,
         0.037742438678150275,
         0.0422587539031627,
         0.06299217224927774,
         0.036198819729228476,
         0.03558078546105838,
         0.03469813412522699,
         0.03186675130184421,
         0.03253082344681594,
         0.0330806647345439,
         0.04071227167694157,
         0.03208796499286905,
         0.030119650362856947,
         0.03600094345175239,
         0.02864199565290319,
         0.024678217944670344,
         0.034657449647148855,
         0.03100568108186618,
         0.034952444419359754,
         0.044859260941475736,
         0.03672217180064584,
         0.03783679316756759,
         0.037320515427981635,
         0.03687042357335417,
         0.04600677446028091,
         0.03148743275513945,
         0.037779409914218146,
         0.03952021327268005,
         0.04660071150062593,
         0.03165443309400512,
         0.036230229052891826,
         0.03331786082543348,
         0.03482661506352197,
         0.04047870425809998,
         0.05714429390697697,
         0.035219207492916654,
         0.03474341761891981,
         0.0342194302534886,
         0.02991085549223681,
         0.048264812116215486,
         0.03690218571326977,
         0.029194193310299193,
         0.029483958508616053,
         0.034727780167761554,
         0.036142812730423496,
         0.03408029280885986,
         0.03192912162244802,
         0.030943385824914814,
         0.03252173828022195,
         0.0354419074781797,
         0.031949446891368125,
         0.03907959772300386,
         0.034407295482621586,
         0.029950421170397264,
         0.039058385179114155,
         0.032499881840902904,
         0.030723400962831375,
         0.033624724497807804,
         0.03794486404866969,
         0.033309394929379725,
         0.0368970529014233,
         0.03471128636630883
        ],
        [
         0.1600618062540889,
         0.14123080018907785,
         0.13135068882256745,
         0.12592207361012697,
         0.1417678678408265,
         0.12791444081813097,
         0.1466261761263013,
         0.12897090353071688,
         0.1290368067100644,
         0.14738014079630374,
         0.14878737051039934,
         0.14062049929052592,
         0.1385970750823617,
         0.1166465761139989,
         0.1474475422874093,
         0.14035887066274882,
         0.16409001145511865,
         0.1431391628459096,
         0.14410748817026614,
         0.13914664667099713,
         0.13521585408598186,
         0.13047800678759813,
         0.14726458657532931,
         0.14028279539197683,
         0.1598013060167432,
         0.14896812867373227,
         0.13445951621979474,
         0.14844862055033445,
         0.14775111321359874,
         0.13110574390739202,
         0.12111841905862093,
         0.14835692662745714,
         0.12369052544236184,
         0.1533111622557044,
         0.14668631199747323,
         0.12668265979737042,
         0.12572544310241937,
         0.1445890137925744,
         0.15785191897302867,
         0.14440717790275812,
         0.1504491614177823,
         0.16636951509863138,
         0.13991411123424768,
         0.14555967384949325,
         0.13249614294618367,
         0.13234345149248838,
         0.13060485552996398,
         0.14280924070626497,
         0.15998181458562613,
         0.13591289091855288,
         0.1344007695093751,
         0.15520339775830508,
         0.13578817192465067,
         0.11601720657199621,
         0.14305020291358234,
         0.12938937935978173,
         0.13172861244529485,
         0.16114228907972575,
         0.14486590009182693,
         0.14510220158845186,
         0.14873610194772482,
         0.14436961207538843,
         0.16841083932667972,
         0.13434767741709946,
         0.15521856416016816,
         0.15400978755205869,
         0.1620469244197011,
         0.14087813887745143,
         0.14951185192912816,
         0.14745358247309923,
         0.1368574330583215,
         0.15749098770320416,
         0.16898011919111014,
         0.1418828831985593,
         0.1477548422291875,
         0.14139091689139605,
         0.12887409273535014,
         0.1603090787306428,
         0.14486294593662025,
         0.12310852129012347,
         0.12733281422406434,
         0.138918343372643,
         0.15002298448234797,
         0.1408315198495984,
         0.13753110375255345,
         0.13625786118209363,
         0.1359543988481164,
         0.14874879065901042,
         0.13271288741379977,
         0.1522774077951908,
         0.14846002031117678,
         0.12288304287940263,
         0.1516384633257985,
         0.13666919711977243,
         0.1323380319401622,
         0.1416539939120412,
         0.1525127025321126,
         0.13376054782420396,
         0.14060046542435883,
         0.14325700104236602
        ],
        [
         3.2012361250817776,
         2.824616003781557,
         2.6270137764513493,
         2.5184414722025394,
         2.8353573568165302,
         2.5582888163626194,
         2.9325235225260258,
         2.579418070614338,
         2.5807361342012882,
         2.947602815926075,
         2.975747410207987,
         2.8124099858105183,
         2.771941501647234,
         2.332931522279978,
         2.948950845748186,
         2.8071774132549763,
         3.281800229102373,
         2.862783256918192,
         2.882149763405323,
         2.782932933419943,
         2.704317081719637,
         2.6095601357519627,
         2.945291731506586,
         2.8056559078395367,
         3.1960261203348637,
         2.9793625734746456,
         2.689190324395895,
         2.968972411006689,
         2.9550222642719746,
         2.6221148781478405,
         2.4223683811724186,
         2.967138532549143,
         2.4738105088472366,
         3.066223245114088,
         2.933726239949465,
         2.5336531959474087,
         2.5145088620483875,
         2.891780275851488,
         3.157038379460573,
         2.8881435580551624,
         3.008983228355646,
         3.3273903019726276,
         2.7982822246849537,
         2.9111934769898653,
         2.6499228589236736,
         2.6468690298497677,
         2.6120971105992794,
         2.8561848141252995,
         3.1996362917125225,
         2.7182578183710575,
         2.688015390187502,
         3.1040679551661015,
         2.7157634384930134,
         2.3203441314399242,
         2.8610040582716465,
         2.587787587195635,
         2.634572248905897,
         3.222845781594515,
         2.8973180018365383,
         2.9020440317690372,
         2.9747220389544964,
         2.8873922415077686,
         3.368216786533594,
         2.6869535483419895,
         3.1043712832033634,
         3.080195751041174,
         3.240938488394022,
         2.8175627775490284,
         2.9902370385825634,
         2.9490716494619846,
         2.7371486611664295,
         3.149819754064083,
         3.3796023838222027,
         2.8376576639711857,
         2.9550968445837498,
         2.827818337827921,
         2.5774818547070026,
         3.206181574612856,
         2.8972589187324047,
         2.4621704258024693,
         2.546656284481287,
         2.77836686745286,
         3.0004596896469593,
         2.816630396991968,
         2.7506220750510693,
         2.7251572236418724,
         2.719087976962328,
         2.974975813180208,
         2.6542577482759953,
         3.0455481559038162,
         2.9692004062235355,
         2.4576608575880527,
         3.0327692665159702,
         2.7333839423954487,
         2.6467606388032436,
         2.8330798782408237,
         3.050254050642252,
         2.6752109564840794,
         2.812009308487177,
         2.8651400208473206
        ],
        [
         0.9549110528480896,
         0.8161161084160569,
         0.792609751218583,
         0.7539293371336266,
         0.8343489032936257,
         0.7723345155725476,
         0.8475889924495134,
         0.7986457323366432,
         0.7752262583726773,
         0.8578725744630774,
         0.8906018143713722,
         0.8601748435402095,
         0.8396265130207663,
         0.7505140642427881,
         0.8490094262052194,
         0.8209764639134843,
         0.9869216142362367,
         0.8856389611993675,
         0.8427130708209899,
         0.8260555504286425,
         0.7703860097523263,
         0.7951515605337067,
         0.860585926301578,
         0.7916995218706872,
         0.8984814475870418,
         0.8970310378830865,
         0.7729616955365736,
         0.8978564079966413,
         0.8740438036343273,
         0.7830596578531177,
         0.7420945002454845,
         0.8443186865612782,
         0.7370217845318455,
         0.8925763903675413,
         0.8503269834741726,
         0.7393933841219094,
         0.7788131054461482,
         0.8393477612589852,
         0.8895191772672113,
         0.868820334455292,
         0.9193340405224066,
         1.122427478719919,
         0.8508680241873998,
         0.8435731795292971,
         0.8330442260195672,
         0.7983326537458456,
         0.8066080020284443,
         0.8133961486821032,
         0.9023554917762907,
         0.8010988077992508,
         0.7761398116687089,
         0.8485392560365418,
         0.7568618850609824,
         0.7025413574256016,
         0.8325556996039227,
         0.787472933907778,
         0.8360914354227025,
         0.9471986163574748,
         0.8569967537936867,
         0.8699056634781451,
         0.8639504086228751,
         0.8587249102402256,
         0.9592369306931516,
         0.7935670451214497,
         0.8692457640301521,
         0.8890468297303584,
         0.9654088408609683,
         0.7956686885130659,
         0.851237088629153,
         0.8163070601854854,
         0.834585107266143,
         0.8997633495325311,
         1.069058407262924,
         0.8392759676401637,
         0.8335876392907924,
         0.8272778282232469,
         0.7734449623888802,
         0.9824949070220719,
         0.8590947062259173,
         0.7641229391962945,
         0.7679057039587094,
         0.8334000260110573,
         0.8502095357077982,
         0.8255942442732974,
         0.7991135291364804,
         0.7866814580872593,
         0.8064953599398071,
         0.8419252636449354,
         0.7993678363728193,
         0.8840768939747702,
         0.8295456043234946,
         0.7739563446396348,
         0.8838369213731021,
         0.8062243092452981,
         0.7838801051542433,
         0.8200576138029304,
         0.8711471063909894,
         0.8162033438963568,
         0.8590349573960688,
         0.8332020927279147
        ]
       ],
       "encoder": "json",
       "name": "ABC_GAN_3 Metrics",
       "version": 1
      }
     },
     "metadata": {
      "scrapbook": {
       "data": true,
       "display": false,
       "name": "ABC_GAN_3 Metrics"
      }
     },
     "output_type": "display_data"
    },
    {
     "name": "stdout",
     "output_type": "stream",
     "text": [
      "MSE\n",
      "0.035497802832750565\n"
     ]
    }
   ],
   "source": [
    "ABC_GAN3_metrics=ABC_train_test2.test_generator(gen3,test_data,prior_model,variance,0,\"3\",device)\n",
    "sb.glue(\"ABC_GAN_3 Metrics\",ABC_GAN3_metrics)\n",
    "\n",
    "print(\"MSE\")\n",
    "print(mean(ABC_GAN3_metrics[0]))"
   ]
  },
  {
   "cell_type": "code",
   "execution_count": 18,
   "id": "c8e46b48",
   "metadata": {
    "execution": {
     "iopub.execute_input": "2022-05-18T08:49:42.337825Z",
     "iopub.status.busy": "2022-05-18T08:49:42.337441Z",
     "iopub.status.idle": "2022-05-18T08:49:42.635024Z",
     "shell.execute_reply": "2022-05-18T08:49:42.635270Z"
    },
    "id": "c8e46b48",
    "papermill": {
     "duration": 0.31782,
     "end_time": "2022-05-18T08:49:42.635391",
     "exception": false,
     "start_time": "2022-05-18T08:49:42.317571",
     "status": "completed"
    },
    "tags": []
   },
   "outputs": [
    {
     "data": {
      "image/png": "[encoded data removed]",
      "text/plain": [
       "<Figure size 432x288 with 1 Axes>"
      ]
     },
     "metadata": {
      "needs_background": "light"
     },
     "output_type": "display_data"
    },
    {
     "data": {
      "image/png": "[encoded data removed]",
      "text/plain": [
       "<Figure size 432x288 with 1 Axes>"
      ]
     },
     "metadata": {
      "needs_background": "light"
     },
     "output_type": "display_data"
    },
    {
     "data": {
      "image/png": "[encoded data removed]",
      "text/plain": [
       "<Figure size 432x288 with 1 Axes>"
      ]
     },
     "metadata": {
      "needs_background": "light"
     },
     "output_type": "display_data"
    },
    {
     "data": {
      "image/png": "[encoded data removed]",
      "text/plain": [
       "<Figure size 432x288 with 1 Axes>"
      ]
     },
     "metadata": {
      "needs_background": "light"
     },
     "output_type": "display_data"
    }
   ],
   "source": [
    "sanityChecks.discProbVsError(train_data,disc3,device)\n",
    "sanityChecks.discProbVsError(test_data,disc3,device)"
   ]
  },
  {
   "cell_type": "markdown",
   "id": "a5bd74c3",
   "metadata": {
    "id": "a5bd74c3",
    "papermill": {
     "duration": 0.019176,
     "end_time": "2022-05-18T08:49:42.673972",
     "exception": false,
     "start_time": "2022-05-18T08:49:42.654796",
     "status": "completed"
    },
    "tags": []
   },
   "source": [
    "## Skip Connection Model Analysis - ABC-GAN "
   ]
  },
  {
   "cell_type": "markdown",
   "id": "5744a8bf",
   "metadata": {
    "id": "5744a8bf",
    "papermill": {
     "duration": 0.01921,
     "end_time": "2022-05-18T08:49:42.712129",
     "exception": false,
     "start_time": "2022-05-18T08:49:42.692919",
     "status": "completed"
    },
    "tags": []
   },
   "source": [
    "### Weight Analysis \n",
    "\n",
    "Study the weights of the skip connection layer\n",
    "\n",
    "Equation of the skip connection is \n",
    "\n",
    "$output = y_{gan} * w + y_{abc} * (1-w)$"
   ]
  },
  {
   "cell_type": "code",
   "execution_count": 19,
   "id": "52c31dea",
   "metadata": {
    "execution": {
     "iopub.execute_input": "2022-05-18T08:49:42.753958Z",
     "iopub.status.busy": "2022-05-18T08:49:42.753517Z",
     "iopub.status.idle": "2022-05-18T08:49:42.756898Z",
     "shell.execute_reply": "2022-05-18T08:49:42.757144Z"
    },
    "id": "52c31dea",
    "papermill": {
     "duration": 0.025405,
     "end_time": "2022-05-18T08:49:42.757261",
     "exception": false,
     "start_time": "2022-05-18T08:49:42.731856",
     "status": "completed"
    },
    "tags": []
   },
   "outputs": [
    {
     "name": "stdout",
     "output_type": "stream",
     "text": [
      "Weight of the node at skip connection\n",
      "Parameter containing:\n",
      "tensor([[0.4560]], requires_grad=True)\n"
     ]
    },
    {
     "data": {
      "application/scrapbook.scrap.json+json": {
       "data": 0.4559677839279175,
       "encoder": "json",
       "name": "Skip Connection Weight",
       "version": 1
      }
     },
     "metadata": {
      "scrapbook": {
       "data": true,
       "display": false,
       "name": "Skip Connection Weight"
      }
     },
     "output_type": "display_data"
    }
   ],
   "source": [
    "print(\"Weight of the node at skip connection\")\n",
    "for name,param in gen3.named_parameters():\n",
    "    if(name == \"skipNode.weight\"):\n",
    "        print(param)\n",
    "        sb.glue(\"Skip Connection Weight\",param.item())"
   ]
  }
 ],
 "metadata": {
  "colab": {
   "collapsed_sections": [],
   "name": "ABC_GAN_Model-Catboost_Pre-gen.ipynb",
   "provenance": []
  },
  "interpreter": {
   "hash": "31f2aee4e71d21fbe5cf8b01ff0e069b9275f58929596ceb00d14d90e3e16cd6"
  },
  "kernelspec": {
   "display_name": "Python 3 (ipykernel)",
   "language": "python",
   "name": "python3"
  },
  "language_info": {
   "codemirror_mode": {
    "name": "ipython",
    "version": 3
   },
   "file_extension": ".py",
   "mimetype": "text/x-python",
   "name": "python",
   "nbconvert_exporter": "python",
   "pygments_lexer": "ipython3",
   "version": "3.8.11"
  },
  "papermill": {
   "default_parameters": {},
   "duration": 60.622265,
   "end_time": "2022-05-18T08:49:43.083726",
   "environment_variables": {},
   "exception": null,
   "input_path": "ABC_GAN-Catboost.ipynb",
   "output_path": "./ABC_GAN_Catboost/ABC-GAN_output_10_0.ipynb",
   "parameters": {
    "variance": 1
   },
   "start_time": "2022-05-18T08:48:42.461461",
   "version": "2.3.3"
  }
 },
 "nbformat": 4,
 "nbformat_minor": 5
}