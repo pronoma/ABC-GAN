{
 "cells": [
  {
   "cell_type": "markdown",
   "id": "622780e6",
   "metadata": {
    "id": "622780e6",
    "papermill": {
     "duration": 0.034584,
     "end_time": "2022-03-11T09:46:36.842104",
     "exception": false,
     "start_time": "2022-03-11T09:46:36.807520",
     "status": "completed"
    },
    "tags": []
   },
   "source": [
    "## Import Libraries "
   ]
  },
  {
   "cell_type": "code",
   "execution_count": 1,
   "id": "a62397e3",
   "metadata": {
    "execution": {
     "iopub.execute_input": "2022-03-11T09:46:36.878207Z",
     "iopub.status.busy": "2022-03-11T09:46:36.877700Z",
     "iopub.status.idle": "2022-03-11T09:46:36.879857Z",
     "shell.execute_reply": "2022-03-11T09:46:36.880203Z"
    },
    "id": "a62397e3",
    "papermill": {
     "duration": 0.021929,
     "end_time": "2022-03-11T09:46:36.880401",
     "exception": false,
     "start_time": "2022-03-11T09:46:36.858472",
     "status": "completed"
    },
    "tags": []
   },
   "outputs": [],
   "source": [
    "import warnings\n",
    "import sys\n",
    "sys.path.insert(0, '../../src')\n",
    "warnings.filterwarnings('ignore')"
   ]
  },
  {
   "cell_type": "code",
   "execution_count": 2,
   "id": "d6a4e155",
   "metadata": {
    "execution": {
     "iopub.execute_input": "2022-03-11T09:46:36.900941Z",
     "iopub.status.busy": "2022-03-11T09:46:36.900499Z",
     "iopub.status.idle": "2022-03-11T09:46:38.746931Z",
     "shell.execute_reply": "2022-03-11T09:46:38.747189Z"
    },
    "id": "d6a4e155",
    "papermill": {
     "duration": 1.857176,
     "end_time": "2022-03-11T09:46:38.747313",
     "exception": false,
     "start_time": "2022-03-11T09:46:36.890137",
     "status": "completed"
    },
    "tags": []
   },
   "outputs": [],
   "source": [
    "import ABC_train_test2\n",
    "import bostonDataset\n",
    "import network\n",
    "import dataset\n",
    "import sanityChecks\n",
    "import torch \n",
    "import scrapbook as sb\n",
    "from statistics import mean \n",
    "import catboost as ctb \n",
    "from sklearn.model_selection import train_test_split\n",
    "from sklearn.metrics import mean_squared_error,mean_absolute_error\n",
    "import numpy as np"
   ]
  },
  {
   "cell_type": "markdown",
   "id": "2fa5b0f7",
   "metadata": {
    "id": "2fa5b0f7",
    "papermill": {
     "duration": 0.006748,
     "end_time": "2022-03-11T09:46:38.761129",
     "exception": false,
     "start_time": "2022-03-11T09:46:38.754381",
     "status": "completed"
    },
    "tags": []
   },
   "source": [
    "## Parameters "
   ]
  },
  {
   "cell_type": "code",
   "execution_count": 3,
   "id": "783186fb",
   "metadata": {
    "execution": {
     "iopub.execute_input": "2022-03-11T09:46:38.776755Z",
     "iopub.status.busy": "2022-03-11T09:46:38.776389Z",
     "iopub.status.idle": "2022-03-11T09:46:38.777682Z",
     "shell.execute_reply": "2022-03-11T09:46:38.777914Z"
    },
    "id": "783186fb",
    "papermill": {
     "duration": 0.010218,
     "end_time": "2022-03-11T09:46:38.778021",
     "exception": false,
     "start_time": "2022-03-11T09:46:38.767803",
     "status": "completed"
    },
    "tags": [
     "parameters"
    ]
   },
   "outputs": [],
   "source": [
    "variance = 1"
   ]
  },
  {
   "cell_type": "code",
   "execution_count": 4,
   "id": "1df5a1e5",
   "metadata": {
    "execution": {
     "iopub.execute_input": "2022-03-11T09:46:38.793360Z",
     "iopub.status.busy": "2022-03-11T09:46:38.793005Z",
     "iopub.status.idle": "2022-03-11T09:46:38.794243Z",
     "shell.execute_reply": "2022-03-11T09:46:38.794557Z"
    },
    "papermill": {
     "duration": 0.009822,
     "end_time": "2022-03-11T09:46:38.794665",
     "exception": false,
     "start_time": "2022-03-11T09:46:38.784843",
     "status": "completed"
    },
    "tags": [
     "injected-parameters"
    ]
   },
   "outputs": [],
   "source": [
    "# Parameters\n",
    "variance = 0.01\n"
   ]
  },
  {
   "cell_type": "markdown",
   "id": "391cdbfd",
   "metadata": {
    "id": "391cdbfd",
    "papermill": {
     "duration": 0.006768,
     "end_time": "2022-03-11T09:46:38.808356",
     "exception": false,
     "start_time": "2022-03-11T09:46:38.801588",
     "status": "completed"
    },
    "tags": []
   },
   "source": [
    "## Dataset \n"
   ]
  },
  {
   "cell_type": "code",
   "execution_count": 5,
   "id": "5b51f161",
   "metadata": {
    "execution": {
     "iopub.execute_input": "2022-03-11T09:46:38.823915Z",
     "iopub.status.busy": "2022-03-11T09:46:38.823534Z",
     "iopub.status.idle": "2022-03-11T09:46:38.824811Z",
     "shell.execute_reply": "2022-03-11T09:46:38.825053Z"
    },
    "id": "5b51f161",
    "papermill": {
     "duration": 0.01001,
     "end_time": "2022-03-11T09:46:38.825160",
     "exception": false,
     "start_time": "2022-03-11T09:46:38.815150",
     "status": "completed"
    },
    "tags": []
   },
   "outputs": [],
   "source": [
    "#Parameters \n",
    "n_features = 13\n",
    "n_samples= 506\n",
    "n_target = 1 "
   ]
  },
  {
   "cell_type": "code",
   "execution_count": 6,
   "id": "5d6eced4",
   "metadata": {
    "execution": {
     "iopub.execute_input": "2022-03-11T09:46:38.840696Z",
     "iopub.status.busy": "2022-03-11T09:46:38.840324Z",
     "iopub.status.idle": "2022-03-11T09:46:38.851226Z",
     "shell.execute_reply": "2022-03-11T09:46:38.851465Z"
    },
    "id": "5d6eced4",
    "papermill": {
     "duration": 0.019564,
     "end_time": "2022-03-11T09:46:38.851580",
     "exception": false,
     "start_time": "2022-03-11T09:46:38.832016",
     "status": "completed"
    },
    "tags": []
   },
   "outputs": [
    {
     "name": "stdout",
     "output_type": "stream",
     "text": [
      "         X1        X2        X3        X4        X5        X6        X7  \\\n",
      "0 -0.419782  0.284830 -1.287909 -0.272599 -0.144217  0.413672 -0.120013   \n",
      "1 -0.417339 -0.487722 -0.593381 -0.272599 -0.740262  0.194274  0.367166   \n",
      "2 -0.417342 -0.487722 -0.593381 -0.272599 -0.740262  1.282714 -0.265812   \n",
      "3 -0.416750 -0.487722 -1.306878 -0.272599 -0.835284  1.016303 -0.809889   \n",
      "4 -0.412482 -0.487722 -1.306878 -0.272599 -0.835284  1.228577 -0.511180   \n",
      "\n",
      "         X8        X9       X10       X11       X12       X13         Y  \n",
      "0  0.140214 -0.982843 -0.666608 -1.459000  0.441052 -1.075562  0.159686  \n",
      "1  0.557160 -0.867883 -0.987329 -0.303094  0.441052 -0.492439 -0.101524  \n",
      "2  0.557160 -0.867883 -0.987329 -0.303094  0.396427 -1.208727  1.324247  \n",
      "3  1.077737 -0.752922 -1.106115  0.113032  0.416163 -1.361517  1.182758  \n",
      "4  1.077737 -0.752922 -1.106115  0.113032  0.441052 -1.026501  1.487503  \n"
     ]
    }
   ],
   "source": [
    "X,Y = bostonDataset.boston_data()"
   ]
  },
  {
   "cell_type": "code",
   "execution_count": 7,
   "id": "fe007438",
   "metadata": {
    "execution": {
     "iopub.execute_input": "2022-03-11T09:46:38.868721Z",
     "iopub.status.busy": "2022-03-11T09:46:38.868364Z",
     "iopub.status.idle": "2022-03-11T09:46:38.869675Z",
     "shell.execute_reply": "2022-03-11T09:46:38.869908Z"
    },
    "id": "fe007438",
    "papermill": {
     "duration": 0.011073,
     "end_time": "2022-03-11T09:46:38.870014",
     "exception": false,
     "start_time": "2022-03-11T09:46:38.858941",
     "status": "completed"
    },
    "tags": []
   },
   "outputs": [],
   "source": [
    "#Train test split for dataset \n",
    "X_train,X_test,Y_train,Y_test = train_test_split(X,Y,test_size = 0.2)\n",
    "train_data = dataset.CustomDataset(X_train,Y_train)\n",
    "test_data = dataset.CustomDataset(X_test,Y_test)\n"
   ]
  },
  {
   "cell_type": "markdown",
   "id": "a9a1af34",
   "metadata": {
    "id": "a9a1af34",
    "papermill": {
     "duration": 0.007055,
     "end_time": "2022-03-11T09:46:38.884232",
     "exception": false,
     "start_time": "2022-03-11T09:46:38.877177",
     "status": "completed"
    },
    "tags": []
   },
   "source": [
    "## Training Parameters "
   ]
  },
  {
   "cell_type": "code",
   "execution_count": 8,
   "id": "952b7fc8",
   "metadata": {
    "execution": {
     "iopub.execute_input": "2022-03-11T09:46:38.902183Z",
     "iopub.status.busy": "2022-03-11T09:46:38.901735Z",
     "iopub.status.idle": "2022-03-11T09:46:38.903057Z",
     "shell.execute_reply": "2022-03-11T09:46:38.903357Z"
    },
    "id": "952b7fc8",
    "papermill": {
     "duration": 0.011828,
     "end_time": "2022-03-11T09:46:38.903468",
     "exception": false,
     "start_time": "2022-03-11T09:46:38.891640",
     "status": "completed"
    },
    "tags": []
   },
   "outputs": [],
   "source": [
    "batch_size = 64\n",
    "n_epochs = 1000\n",
    "#Select the device \n",
    "device = torch.device('cuda' if torch.cuda.is_available() else 'cpu')"
   ]
  },
  {
   "cell_type": "markdown",
   "id": "a95e1600",
   "metadata": {
    "id": "a95e1600",
    "papermill": {
     "duration": 0.007098,
     "end_time": "2022-03-11T09:46:38.917695",
     "exception": false,
     "start_time": "2022-03-11T09:46:38.910597",
     "status": "completed"
    },
    "tags": []
   },
   "source": [
    "# ABC Pre-generator Model \n",
    "\n",
    "1. The catboost model is used as a pre-generator model for the ABC-GAN. \n",
    "2. The model is first trained on the entire dataset \n",
    "3. It generats X,Y pairs and we add some Gaussian noise with mean 0 and variance 1 to it which is then feed as input to the generator.\n"
   ]
  },
  {
   "cell_type": "code",
   "execution_count": 9,
   "id": "ff8ce7bd",
   "metadata": {
    "execution": {
     "iopub.execute_input": "2022-03-11T09:46:38.936962Z",
     "iopub.status.busy": "2022-03-11T09:46:38.936576Z",
     "iopub.status.idle": "2022-03-11T09:46:39.904973Z",
     "shell.execute_reply": "2022-03-11T09:46:39.905275Z"
    },
    "id": "ff8ce7bd",
    "papermill": {
     "duration": 0.980522,
     "end_time": "2022-03-11T09:46:39.905399",
     "exception": false,
     "start_time": "2022-03-11T09:46:38.924877",
     "status": "completed"
    },
    "tags": []
   },
   "outputs": [
    {
     "name": "stdout",
     "output_type": "stream",
     "text": [
      "Learning rate set to 0.033215\n",
      "0:\tlearn: 0.9983105\ttotal: 58.5ms\tremaining: 58.5s\n",
      "1:\tlearn: 0.9792805\ttotal: 59.5ms\tremaining: 29.7s\n",
      "2:\tlearn: 0.9586599\ttotal: 60.6ms\tremaining: 20.1s\n",
      "3:\tlearn: 0.9422352\ttotal: 61.5ms\tremaining: 15.3s\n",
      "4:\tlearn: 0.9247679\ttotal: 62.4ms\tremaining: 12.4s\n",
      "5:\tlearn: 0.9101553\ttotal: 63.5ms\tremaining: 10.5s\n",
      "6:\tlearn: 0.8959366\ttotal: 64.5ms\tremaining: 9.14s\n",
      "7:\tlearn: 0.8791023\ttotal: 65.4ms\tremaining: 8.11s\n",
      "8:\tlearn: 0.8634316\ttotal: 66.2ms\tremaining: 7.29s\n",
      "9:\tlearn: 0.8462972\ttotal: 67.1ms\tremaining: 6.64s\n",
      "10:\tlearn: 0.8319620\ttotal: 68ms\tremaining: 6.11s\n",
      "11:\tlearn: 0.8175288\ttotal: 68.8ms\tremaining: 5.67s\n",
      "12:\tlearn: 0.8040434\ttotal: 69.5ms\tremaining: 5.28s\n",
      "13:\tlearn: 0.7888552\ttotal: 70.3ms\tremaining: 4.95s\n",
      "14:\tlearn: 0.7758525\ttotal: 71.1ms\tremaining: 4.67s\n",
      "15:\tlearn: 0.7617915\ttotal: 71.9ms\tremaining: 4.42s\n",
      "16:\tlearn: 0.7498984\ttotal: 72.8ms\tremaining: 4.21s\n",
      "17:\tlearn: 0.7372786\ttotal: 73.8ms\tremaining: 4.03s\n",
      "18:\tlearn: 0.7253597\ttotal: 74.7ms\tremaining: 3.86s\n",
      "19:\tlearn: 0.7121851\ttotal: 75.6ms\tremaining: 3.71s\n",
      "20:\tlearn: 0.6988027\ttotal: 76.7ms\tremaining: 3.58s\n",
      "21:\tlearn: 0.6877082\ttotal: 77.6ms\tremaining: 3.45s\n",
      "22:\tlearn: 0.6774204\ttotal: 78.7ms\tremaining: 3.34s\n",
      "23:\tlearn: 0.6685237\ttotal: 79.6ms\tremaining: 3.23s\n",
      "24:\tlearn: 0.6586296\ttotal: 80.4ms\tremaining: 3.13s\n",
      "25:\tlearn: 0.6500378\ttotal: 81.2ms\tremaining: 3.04s\n",
      "26:\tlearn: 0.6410321\ttotal: 82.1ms\tremaining: 2.96s\n",
      "27:\tlearn: 0.6318380\ttotal: 82.9ms\tremaining: 2.88s\n",
      "28:\tlearn: 0.6226549\ttotal: 83.8ms\tremaining: 2.8s\n",
      "29:\tlearn: 0.6121050\ttotal: 84.5ms\tremaining: 2.73s\n",
      "30:\tlearn: 0.6015005\ttotal: 85.3ms\tremaining: 2.67s\n",
      "31:\tlearn: 0.5929928\ttotal: 86.3ms\tremaining: 2.61s\n",
      "32:\tlearn: 0.5857338\ttotal: 87.4ms\tremaining: 2.56s\n",
      "33:\tlearn: 0.5786373\ttotal: 88.4ms\tremaining: 2.51s\n",
      "34:\tlearn: 0.5714772\ttotal: 89.4ms\tremaining: 2.46s\n",
      "35:\tlearn: 0.5645839\ttotal: 90.5ms\tremaining: 2.42s\n",
      "36:\tlearn: 0.5576999\ttotal: 91.5ms\tremaining: 2.38s\n",
      "37:\tlearn: 0.5504044\ttotal: 93ms\tremaining: 2.35s\n",
      "38:\tlearn: 0.5430530\ttotal: 94ms\tremaining: 2.32s\n",
      "39:\tlearn: 0.5347967\ttotal: 94.9ms\tremaining: 2.28s\n",
      "40:\tlearn: 0.5290510\ttotal: 95.7ms\tremaining: 2.24s\n",
      "41:\tlearn: 0.5230746\ttotal: 96.6ms\tremaining: 2.2s\n",
      "42:\tlearn: 0.5167268\ttotal: 97.6ms\tremaining: 2.17s\n",
      "43:\tlearn: 0.5113007\ttotal: 98.4ms\tremaining: 2.14s\n",
      "44:\tlearn: 0.5062780\ttotal: 99.4ms\tremaining: 2.11s\n",
      "45:\tlearn: 0.4985301\ttotal: 100ms\tremaining: 2.08s\n",
      "46:\tlearn: 0.4932621\ttotal: 101ms\tremaining: 2.05s\n",
      "47:\tlearn: 0.4876386\ttotal: 102ms\tremaining: 2.03s\n",
      "48:\tlearn: 0.4820425\ttotal: 103ms\tremaining: 2s\n",
      "49:\tlearn: 0.4774437\ttotal: 104ms\tremaining: 1.98s\n",
      "50:\tlearn: 0.4720729\ttotal: 105ms\tremaining: 1.96s\n",
      "51:\tlearn: 0.4672100\ttotal: 106ms\tremaining: 1.93s\n"
     ]
    },
    {
     "name": "stdout",
     "output_type": "stream",
     "text": [
      "52:\tlearn: 0.4619216\ttotal: 107ms\tremaining: 1.92s\n",
      "53:\tlearn: 0.4573951\ttotal: 108ms\tremaining: 1.9s\n",
      "54:\tlearn: 0.4529361\ttotal: 109ms\tremaining: 1.88s\n",
      "55:\tlearn: 0.4482843\ttotal: 110ms\tremaining: 1.86s\n",
      "56:\tlearn: 0.4446660\ttotal: 111ms\tremaining: 1.84s\n",
      "57:\tlearn: 0.4402623\ttotal: 112ms\tremaining: 1.82s\n",
      "58:\tlearn: 0.4358464\ttotal: 113ms\tremaining: 1.8s\n",
      "59:\tlearn: 0.4319039\ttotal: 114ms\tremaining: 1.79s\n",
      "60:\tlearn: 0.4278934\ttotal: 115ms\tremaining: 1.77s\n",
      "61:\tlearn: 0.4233415\ttotal: 116ms\tremaining: 1.76s\n",
      "62:\tlearn: 0.4196437\ttotal: 117ms\tremaining: 1.74s\n",
      "63:\tlearn: 0.4160883\ttotal: 118ms\tremaining: 1.73s\n",
      "64:\tlearn: 0.4125496\ttotal: 119ms\tremaining: 1.71s\n",
      "65:\tlearn: 0.4088222\ttotal: 120ms\tremaining: 1.7s\n",
      "66:\tlearn: 0.4054873\ttotal: 121ms\tremaining: 1.69s\n",
      "67:\tlearn: 0.4023351\ttotal: 122ms\tremaining: 1.67s\n",
      "68:\tlearn: 0.3994709\ttotal: 123ms\tremaining: 1.66s\n",
      "69:\tlearn: 0.3964153\ttotal: 124ms\tremaining: 1.64s\n",
      "70:\tlearn: 0.3928765\ttotal: 125ms\tremaining: 1.63s\n",
      "71:\tlearn: 0.3892967\ttotal: 125ms\tremaining: 1.61s\n",
      "72:\tlearn: 0.3863252\ttotal: 126ms\tremaining: 1.6s\n",
      "73:\tlearn: 0.3837014\ttotal: 127ms\tremaining: 1.59s\n",
      "74:\tlearn: 0.3811128\ttotal: 128ms\tremaining: 1.58s\n",
      "75:\tlearn: 0.3787310\ttotal: 129ms\tremaining: 1.57s\n",
      "76:\tlearn: 0.3759451\ttotal: 130ms\tremaining: 1.56s\n",
      "77:\tlearn: 0.3735372\ttotal: 131ms\tremaining: 1.55s\n",
      "78:\tlearn: 0.3700990\ttotal: 132ms\tremaining: 1.54s\n",
      "79:\tlearn: 0.3675725\ttotal: 133ms\tremaining: 1.53s\n",
      "80:\tlearn: 0.3654312\ttotal: 134ms\tremaining: 1.52s\n",
      "81:\tlearn: 0.3632376\ttotal: 134ms\tremaining: 1.5s\n",
      "82:\tlearn: 0.3606035\ttotal: 136ms\tremaining: 1.5s\n",
      "83:\tlearn: 0.3585436\ttotal: 137ms\tremaining: 1.49s\n",
      "84:\tlearn: 0.3559588\ttotal: 138ms\tremaining: 1.48s\n",
      "85:\tlearn: 0.3531248\ttotal: 138ms\tremaining: 1.47s\n",
      "86:\tlearn: 0.3502804\ttotal: 139ms\tremaining: 1.46s\n",
      "87:\tlearn: 0.3473797\ttotal: 140ms\tremaining: 1.45s\n",
      "88:\tlearn: 0.3453465\ttotal: 141ms\tremaining: 1.44s\n",
      "89:\tlearn: 0.3429189\ttotal: 142ms\tremaining: 1.43s\n",
      "90:\tlearn: 0.3408271\ttotal: 143ms\tremaining: 1.42s\n",
      "91:\tlearn: 0.3388192\ttotal: 143ms\tremaining: 1.41s\n",
      "92:\tlearn: 0.3369241\ttotal: 144ms\tremaining: 1.41s\n",
      "93:\tlearn: 0.3349514\ttotal: 145ms\tremaining: 1.4s\n",
      "94:\tlearn: 0.3330416\ttotal: 146ms\tremaining: 1.39s\n",
      "95:\tlearn: 0.3309995\ttotal: 146ms\tremaining: 1.38s\n",
      "96:\tlearn: 0.3290556\ttotal: 147ms\tremaining: 1.37s\n",
      "97:\tlearn: 0.3272286\ttotal: 148ms\tremaining: 1.36s\n",
      "98:\tlearn: 0.3256415\ttotal: 149ms\tremaining: 1.36s\n",
      "99:\tlearn: 0.3243502\ttotal: 150ms\tremaining: 1.35s\n",
      "100:\tlearn: 0.3219995\ttotal: 151ms\tremaining: 1.34s\n",
      "101:\tlearn: 0.3203029\ttotal: 151ms\tremaining: 1.33s\n",
      "102:\tlearn: 0.3186061\ttotal: 152ms\tremaining: 1.32s\n",
      "103:\tlearn: 0.3166987\ttotal: 153ms\tremaining: 1.32s\n",
      "104:\tlearn: 0.3148358\ttotal: 154ms\tremaining: 1.31s\n",
      "105:\tlearn: 0.3135237\ttotal: 155ms\tremaining: 1.3s\n",
      "106:\tlearn: 0.3117866\ttotal: 155ms\tremaining: 1.3s\n",
      "107:\tlearn: 0.3106479\ttotal: 156ms\tremaining: 1.29s\n",
      "108:\tlearn: 0.3093378\ttotal: 157ms\tremaining: 1.28s\n",
      "109:\tlearn: 0.3078753\ttotal: 158ms\tremaining: 1.27s\n",
      "110:\tlearn: 0.3064832\ttotal: 158ms\tremaining: 1.27s\n",
      "111:\tlearn: 0.3047517\ttotal: 159ms\tremaining: 1.26s\n",
      "112:\tlearn: 0.3035907\ttotal: 160ms\tremaining: 1.26s\n",
      "113:\tlearn: 0.3021129\ttotal: 161ms\tremaining: 1.25s\n",
      "114:\tlearn: 0.3009942\ttotal: 162ms\tremaining: 1.24s\n",
      "115:\tlearn: 0.3001400\ttotal: 163ms\tremaining: 1.24s\n",
      "116:\tlearn: 0.2988575\ttotal: 163ms\tremaining: 1.23s\n",
      "117:\tlearn: 0.2975303\ttotal: 164ms\tremaining: 1.23s\n",
      "118:\tlearn: 0.2960995\ttotal: 165ms\tremaining: 1.22s\n",
      "119:\tlearn: 0.2952459\ttotal: 166ms\tremaining: 1.22s\n",
      "120:\tlearn: 0.2939775\ttotal: 167ms\tremaining: 1.21s\n",
      "121:\tlearn: 0.2928090\ttotal: 167ms\tremaining: 1.2s\n",
      "122:\tlearn: 0.2915975\ttotal: 168ms\tremaining: 1.2s\n",
      "123:\tlearn: 0.2908308\ttotal: 169ms\tremaining: 1.19s\n",
      "124:\tlearn: 0.2898218\ttotal: 170ms\tremaining: 1.19s\n",
      "125:\tlearn: 0.2886208\ttotal: 171ms\tremaining: 1.18s\n",
      "126:\tlearn: 0.2869993\ttotal: 172ms\tremaining: 1.18s\n",
      "127:\tlearn: 0.2860321\ttotal: 173ms\tremaining: 1.18s\n",
      "128:\tlearn: 0.2848100\ttotal: 174ms\tremaining: 1.17s\n",
      "129:\tlearn: 0.2834484\ttotal: 175ms\tremaining: 1.17s\n",
      "130:\tlearn: 0.2824932\ttotal: 175ms\tremaining: 1.16s\n",
      "131:\tlearn: 0.2818795\ttotal: 176ms\tremaining: 1.16s\n",
      "132:\tlearn: 0.2806289\ttotal: 177ms\tremaining: 1.15s\n",
      "133:\tlearn: 0.2797776\ttotal: 178ms\tremaining: 1.15s\n",
      "134:\tlearn: 0.2783018\ttotal: 178ms\tremaining: 1.14s\n",
      "135:\tlearn: 0.2774263\ttotal: 179ms\tremaining: 1.14s\n",
      "136:\tlearn: 0.2764505\ttotal: 180ms\tremaining: 1.13s\n",
      "137:\tlearn: 0.2754330\ttotal: 181ms\tremaining: 1.13s\n",
      "138:\tlearn: 0.2743653\ttotal: 182ms\tremaining: 1.13s\n",
      "139:\tlearn: 0.2734586\ttotal: 183ms\tremaining: 1.12s\n",
      "140:\tlearn: 0.2726243\ttotal: 184ms\tremaining: 1.12s\n",
      "141:\tlearn: 0.2719398\ttotal: 184ms\tremaining: 1.11s\n",
      "142:\tlearn: 0.2708068\ttotal: 185ms\tremaining: 1.11s\n",
      "143:\tlearn: 0.2698734\ttotal: 186ms\tremaining: 1.11s\n",
      "144:\tlearn: 0.2688418\ttotal: 187ms\tremaining: 1.1s\n",
      "145:\tlearn: 0.2682674\ttotal: 188ms\tremaining: 1.1s\n",
      "146:\tlearn: 0.2675374\ttotal: 189ms\tremaining: 1.09s\n",
      "147:\tlearn: 0.2665667\ttotal: 190ms\tremaining: 1.09s\n",
      "148:\tlearn: 0.2654939\ttotal: 190ms\tremaining: 1.09s\n"
     ]
    },
    {
     "name": "stdout",
     "output_type": "stream",
     "text": [
      "149:\tlearn: 0.2648350\ttotal: 191ms\tremaining: 1.08s\n",
      "150:\tlearn: 0.2638032\ttotal: 192ms\tremaining: 1.08s\n",
      "151:\tlearn: 0.2629255\ttotal: 193ms\tremaining: 1.08s\n",
      "152:\tlearn: 0.2622033\ttotal: 194ms\tremaining: 1.07s\n",
      "153:\tlearn: 0.2615521\ttotal: 195ms\tremaining: 1.07s\n",
      "154:\tlearn: 0.2609785\ttotal: 196ms\tremaining: 1.07s\n",
      "155:\tlearn: 0.2597743\ttotal: 196ms\tremaining: 1.06s\n",
      "156:\tlearn: 0.2589155\ttotal: 197ms\tremaining: 1.06s\n",
      "157:\tlearn: 0.2581032\ttotal: 198ms\tremaining: 1.05s\n",
      "158:\tlearn: 0.2568203\ttotal: 199ms\tremaining: 1.05s\n",
      "159:\tlearn: 0.2560480\ttotal: 200ms\tremaining: 1.05s\n",
      "160:\tlearn: 0.2553963\ttotal: 200ms\tremaining: 1.04s\n",
      "161:\tlearn: 0.2545976\ttotal: 201ms\tremaining: 1.04s\n",
      "162:\tlearn: 0.2541599\ttotal: 202ms\tremaining: 1.04s\n",
      "163:\tlearn: 0.2536002\ttotal: 203ms\tremaining: 1.03s\n",
      "164:\tlearn: 0.2530769\ttotal: 204ms\tremaining: 1.03s\n",
      "165:\tlearn: 0.2524382\ttotal: 205ms\tremaining: 1.03s\n",
      "166:\tlearn: 0.2518671\ttotal: 205ms\tremaining: 1.02s\n",
      "167:\tlearn: 0.2509353\ttotal: 206ms\tremaining: 1.02s\n",
      "168:\tlearn: 0.2503805\ttotal: 207ms\tremaining: 1.02s\n",
      "169:\tlearn: 0.2494919\ttotal: 208ms\tremaining: 1.01s\n",
      "170:\tlearn: 0.2489757\ttotal: 209ms\tremaining: 1.01s\n",
      "171:\tlearn: 0.2479998\ttotal: 210ms\tremaining: 1.01s\n",
      "172:\tlearn: 0.2472926\ttotal: 211ms\tremaining: 1.01s\n",
      "173:\tlearn: 0.2464774\ttotal: 211ms\tremaining: 1s\n",
      "174:\tlearn: 0.2458683\ttotal: 212ms\tremaining: 1s\n",
      "175:\tlearn: 0.2450646\ttotal: 213ms\tremaining: 997ms\n",
      "176:\tlearn: 0.2441750\ttotal: 214ms\tremaining: 993ms\n",
      "177:\tlearn: 0.2438575\ttotal: 214ms\tremaining: 990ms\n",
      "178:\tlearn: 0.2432683\ttotal: 215ms\tremaining: 987ms\n",
      "179:\tlearn: 0.2428134\ttotal: 216ms\tremaining: 985ms\n",
      "180:\tlearn: 0.2417987\ttotal: 217ms\tremaining: 982ms\n",
      "181:\tlearn: 0.2413164\ttotal: 218ms\tremaining: 979ms\n",
      "182:\tlearn: 0.2406469\ttotal: 219ms\tremaining: 976ms\n",
      "183:\tlearn: 0.2400270\ttotal: 219ms\tremaining: 973ms\n",
      "184:\tlearn: 0.2390220\ttotal: 220ms\tremaining: 971ms\n",
      "185:\tlearn: 0.2382521\ttotal: 221ms\tremaining: 968ms\n",
      "186:\tlearn: 0.2373350\ttotal: 222ms\tremaining: 965ms\n",
      "187:\tlearn: 0.2366279\ttotal: 223ms\tremaining: 962ms\n",
      "188:\tlearn: 0.2359626\ttotal: 224ms\tremaining: 960ms\n",
      "189:\tlearn: 0.2353501\ttotal: 225ms\tremaining: 957ms\n",
      "190:\tlearn: 0.2344602\ttotal: 225ms\tremaining: 955ms\n",
      "191:\tlearn: 0.2337226\ttotal: 226ms\tremaining: 952ms\n",
      "192:\tlearn: 0.2330537\ttotal: 227ms\tremaining: 950ms\n",
      "193:\tlearn: 0.2323676\ttotal: 228ms\tremaining: 947ms\n",
      "194:\tlearn: 0.2318059\ttotal: 229ms\tremaining: 944ms\n",
      "195:\tlearn: 0.2310621\ttotal: 229ms\tremaining: 941ms\n",
      "196:\tlearn: 0.2307258\ttotal: 230ms\tremaining: 939ms\n",
      "197:\tlearn: 0.2300843\ttotal: 231ms\tremaining: 936ms\n",
      "198:\tlearn: 0.2296270\ttotal: 232ms\tremaining: 933ms\n",
      "199:\tlearn: 0.2288180\ttotal: 232ms\tremaining: 930ms\n",
      "200:\tlearn: 0.2281152\ttotal: 233ms\tremaining: 927ms\n",
      "201:\tlearn: 0.2277559\ttotal: 234ms\tremaining: 925ms\n",
      "202:\tlearn: 0.2272702\ttotal: 235ms\tremaining: 922ms\n",
      "203:\tlearn: 0.2266021\ttotal: 236ms\tremaining: 920ms\n",
      "204:\tlearn: 0.2259596\ttotal: 237ms\tremaining: 917ms\n",
      "205:\tlearn: 0.2250257\ttotal: 237ms\tremaining: 915ms\n",
      "206:\tlearn: 0.2244310\ttotal: 238ms\tremaining: 912ms\n",
      "207:\tlearn: 0.2238770\ttotal: 239ms\tremaining: 910ms\n",
      "208:\tlearn: 0.2232695\ttotal: 240ms\tremaining: 908ms\n",
      "209:\tlearn: 0.2225075\ttotal: 241ms\tremaining: 905ms\n",
      "210:\tlearn: 0.2219837\ttotal: 241ms\tremaining: 903ms\n",
      "211:\tlearn: 0.2212850\ttotal: 242ms\tremaining: 900ms\n",
      "212:\tlearn: 0.2207752\ttotal: 243ms\tremaining: 898ms\n",
      "213:\tlearn: 0.2203305\ttotal: 244ms\tremaining: 896ms\n",
      "214:\tlearn: 0.2198555\ttotal: 245ms\tremaining: 893ms\n",
      "215:\tlearn: 0.2191491\ttotal: 246ms\tremaining: 893ms\n",
      "216:\tlearn: 0.2185680\ttotal: 247ms\tremaining: 891ms\n",
      "217:\tlearn: 0.2178526\ttotal: 248ms\tremaining: 889ms\n",
      "218:\tlearn: 0.2171238\ttotal: 249ms\tremaining: 887ms\n",
      "219:\tlearn: 0.2168637\ttotal: 249ms\tremaining: 885ms\n",
      "220:\tlearn: 0.2163010\ttotal: 250ms\tremaining: 882ms\n",
      "221:\tlearn: 0.2155251\ttotal: 251ms\tremaining: 880ms\n",
      "222:\tlearn: 0.2146694\ttotal: 252ms\tremaining: 878ms\n",
      "223:\tlearn: 0.2141341\ttotal: 253ms\tremaining: 876ms\n",
      "224:\tlearn: 0.2135628\ttotal: 254ms\tremaining: 874ms\n",
      "225:\tlearn: 0.2133399\ttotal: 254ms\tremaining: 871ms\n",
      "226:\tlearn: 0.2124594\ttotal: 255ms\tremaining: 869ms\n",
      "227:\tlearn: 0.2118687\ttotal: 256ms\tremaining: 867ms\n",
      "228:\tlearn: 0.2115778\ttotal: 257ms\tremaining: 865ms\n",
      "229:\tlearn: 0.2110105\ttotal: 258ms\tremaining: 862ms\n",
      "230:\tlearn: 0.2107379\ttotal: 258ms\tremaining: 860ms\n",
      "231:\tlearn: 0.2099961\ttotal: 259ms\tremaining: 857ms\n",
      "232:\tlearn: 0.2094184\ttotal: 260ms\tremaining: 855ms\n",
      "233:\tlearn: 0.2089974\ttotal: 261ms\tremaining: 854ms\n",
      "234:\tlearn: 0.2085294\ttotal: 262ms\tremaining: 852ms\n",
      "235:\tlearn: 0.2080121\ttotal: 262ms\tremaining: 849ms\n",
      "236:\tlearn: 0.2072793\ttotal: 263ms\tremaining: 847ms\n",
      "237:\tlearn: 0.2066861\ttotal: 264ms\tremaining: 845ms\n",
      "238:\tlearn: 0.2060327\ttotal: 265ms\tremaining: 843ms\n",
      "239:\tlearn: 0.2056306\ttotal: 266ms\tremaining: 841ms\n",
      "240:\tlearn: 0.2052744\ttotal: 266ms\tremaining: 839ms\n",
      "241:\tlearn: 0.2048560\ttotal: 267ms\tremaining: 837ms\n",
      "242:\tlearn: 0.2044862\ttotal: 268ms\tremaining: 835ms\n",
      "243:\tlearn: 0.2038109\ttotal: 269ms\tremaining: 833ms\n",
      "244:\tlearn: 0.2033996\ttotal: 270ms\tremaining: 831ms\n",
      "245:\tlearn: 0.2030928\ttotal: 270ms\tremaining: 829ms\n",
      "246:\tlearn: 0.2027673\ttotal: 271ms\tremaining: 827ms\n",
      "247:\tlearn: 0.2022361\ttotal: 272ms\tremaining: 824ms\n",
      "248:\tlearn: 0.2018596\ttotal: 273ms\tremaining: 823ms\n",
      "249:\tlearn: 0.2011452\ttotal: 274ms\tremaining: 821ms\n",
      "250:\tlearn: 0.2009659\ttotal: 275ms\tremaining: 819ms\n",
      "251:\tlearn: 0.2001397\ttotal: 276ms\tremaining: 818ms\n",
      "252:\tlearn: 0.1999810\ttotal: 276ms\tremaining: 816ms\n",
      "253:\tlearn: 0.1993568\ttotal: 277ms\tremaining: 814ms\n",
      "254:\tlearn: 0.1991134\ttotal: 278ms\tremaining: 812ms\n",
      "255:\tlearn: 0.1986343\ttotal: 279ms\tremaining: 810ms\n",
      "256:\tlearn: 0.1982760\ttotal: 280ms\tremaining: 808ms\n",
      "257:\tlearn: 0.1979878\ttotal: 280ms\tremaining: 806ms\n",
      "258:\tlearn: 0.1973948\ttotal: 281ms\tremaining: 804ms\n",
      "259:\tlearn: 0.1966278\ttotal: 282ms\tremaining: 803ms\n",
      "260:\tlearn: 0.1961171\ttotal: 283ms\tremaining: 801ms\n",
      "261:\tlearn: 0.1956339\ttotal: 284ms\tremaining: 800ms\n",
      "262:\tlearn: 0.1953618\ttotal: 285ms\tremaining: 798ms\n",
      "263:\tlearn: 0.1947001\ttotal: 286ms\tremaining: 797ms\n",
      "264:\tlearn: 0.1944722\ttotal: 287ms\tremaining: 795ms\n",
      "265:\tlearn: 0.1942006\ttotal: 288ms\tremaining: 794ms\n",
      "266:\tlearn: 0.1936076\ttotal: 289ms\tremaining: 793ms\n",
      "267:\tlearn: 0.1933484\ttotal: 290ms\tremaining: 792ms\n",
      "268:\tlearn: 0.1928563\ttotal: 291ms\tremaining: 791ms\n",
      "269:\tlearn: 0.1921833\ttotal: 292ms\tremaining: 789ms\n",
      "270:\tlearn: 0.1920297\ttotal: 293ms\tremaining: 788ms\n",
      "271:\tlearn: 0.1916201\ttotal: 294ms\tremaining: 787ms\n",
      "272:\tlearn: 0.1914937\ttotal: 295ms\tremaining: 786ms\n",
      "273:\tlearn: 0.1912791\ttotal: 296ms\tremaining: 784ms\n",
      "274:\tlearn: 0.1907122\ttotal: 297ms\tremaining: 783ms\n"
     ]
    },
    {
     "name": "stdout",
     "output_type": "stream",
     "text": [
      "275:\tlearn: 0.1903215\ttotal: 298ms\tremaining: 782ms\n",
      "276:\tlearn: 0.1897266\ttotal: 299ms\tremaining: 781ms\n",
      "277:\tlearn: 0.1890335\ttotal: 300ms\tremaining: 779ms\n",
      "278:\tlearn: 0.1885031\ttotal: 301ms\tremaining: 778ms\n",
      "279:\tlearn: 0.1880589\ttotal: 302ms\tremaining: 777ms\n",
      "280:\tlearn: 0.1874535\ttotal: 303ms\tremaining: 775ms\n",
      "281:\tlearn: 0.1872524\ttotal: 304ms\tremaining: 773ms\n",
      "282:\tlearn: 0.1870193\ttotal: 305ms\tremaining: 772ms\n",
      "283:\tlearn: 0.1864987\ttotal: 305ms\tremaining: 770ms\n",
      "284:\tlearn: 0.1860076\ttotal: 307ms\tremaining: 770ms\n",
      "285:\tlearn: 0.1857048\ttotal: 308ms\tremaining: 768ms\n",
      "286:\tlearn: 0.1850662\ttotal: 308ms\tremaining: 766ms\n",
      "287:\tlearn: 0.1844563\ttotal: 309ms\tremaining: 765ms\n",
      "288:\tlearn: 0.1840375\ttotal: 310ms\tremaining: 763ms\n",
      "289:\tlearn: 0.1837954\ttotal: 311ms\tremaining: 761ms\n",
      "290:\tlearn: 0.1833782\ttotal: 312ms\tremaining: 760ms\n",
      "291:\tlearn: 0.1831404\ttotal: 313ms\tremaining: 758ms\n",
      "292:\tlearn: 0.1827283\ttotal: 313ms\tremaining: 756ms\n",
      "293:\tlearn: 0.1823671\ttotal: 314ms\tremaining: 755ms\n",
      "294:\tlearn: 0.1821822\ttotal: 315ms\tremaining: 753ms\n",
      "295:\tlearn: 0.1819698\ttotal: 317ms\tremaining: 753ms\n",
      "296:\tlearn: 0.1816540\ttotal: 317ms\tremaining: 751ms\n",
      "297:\tlearn: 0.1811867\ttotal: 318ms\tremaining: 750ms\n",
      "298:\tlearn: 0.1807605\ttotal: 319ms\tremaining: 748ms\n",
      "299:\tlearn: 0.1802856\ttotal: 320ms\tremaining: 746ms\n",
      "300:\tlearn: 0.1797505\ttotal: 321ms\tremaining: 745ms\n",
      "301:\tlearn: 0.1795483\ttotal: 322ms\tremaining: 743ms\n",
      "302:\tlearn: 0.1790651\ttotal: 322ms\tremaining: 742ms\n",
      "303:\tlearn: 0.1785647\ttotal: 323ms\tremaining: 740ms\n",
      "304:\tlearn: 0.1780131\ttotal: 324ms\tremaining: 739ms\n",
      "305:\tlearn: 0.1776096\ttotal: 325ms\tremaining: 737ms\n",
      "306:\tlearn: 0.1770380\ttotal: 326ms\tremaining: 735ms\n",
      "307:\tlearn: 0.1767091\ttotal: 327ms\tremaining: 734ms\n",
      "308:\tlearn: 0.1764133\ttotal: 327ms\tremaining: 732ms\n",
      "309:\tlearn: 0.1759901\ttotal: 328ms\tremaining: 730ms\n",
      "310:\tlearn: 0.1755670\ttotal: 329ms\tremaining: 729ms\n",
      "311:\tlearn: 0.1752866\ttotal: 330ms\tremaining: 727ms\n",
      "312:\tlearn: 0.1749134\ttotal: 330ms\tremaining: 725ms\n",
      "313:\tlearn: 0.1746556\ttotal: 331ms\tremaining: 723ms\n",
      "314:\tlearn: 0.1743947\ttotal: 332ms\tremaining: 722ms\n",
      "315:\tlearn: 0.1739262\ttotal: 333ms\tremaining: 720ms\n",
      "316:\tlearn: 0.1737599\ttotal: 334ms\tremaining: 719ms\n",
      "317:\tlearn: 0.1733605\ttotal: 334ms\tremaining: 717ms\n",
      "318:\tlearn: 0.1730357\ttotal: 335ms\tremaining: 715ms\n",
      "319:\tlearn: 0.1728160\ttotal: 336ms\tremaining: 714ms\n",
      "320:\tlearn: 0.1726638\ttotal: 337ms\tremaining: 713ms\n",
      "321:\tlearn: 0.1721364\ttotal: 338ms\tremaining: 711ms\n",
      "322:\tlearn: 0.1717956\ttotal: 338ms\tremaining: 709ms\n",
      "323:\tlearn: 0.1715867\ttotal: 339ms\tremaining: 708ms\n",
      "324:\tlearn: 0.1711139\ttotal: 340ms\tremaining: 707ms\n",
      "325:\tlearn: 0.1707624\ttotal: 342ms\tremaining: 707ms\n",
      "326:\tlearn: 0.1705907\ttotal: 343ms\tremaining: 705ms\n",
      "327:\tlearn: 0.1703562\ttotal: 344ms\tremaining: 704ms\n",
      "328:\tlearn: 0.1699517\ttotal: 344ms\tremaining: 702ms\n",
      "329:\tlearn: 0.1693257\ttotal: 345ms\tremaining: 701ms\n",
      "330:\tlearn: 0.1691349\ttotal: 346ms\tremaining: 699ms\n",
      "331:\tlearn: 0.1686940\ttotal: 347ms\tremaining: 698ms\n",
      "332:\tlearn: 0.1682745\ttotal: 348ms\tremaining: 696ms\n",
      "333:\tlearn: 0.1681097\ttotal: 349ms\tremaining: 695ms\n",
      "334:\tlearn: 0.1676454\ttotal: 350ms\tremaining: 694ms\n",
      "335:\tlearn: 0.1673102\ttotal: 350ms\tremaining: 692ms\n",
      "336:\tlearn: 0.1669386\ttotal: 351ms\tremaining: 691ms\n",
      "337:\tlearn: 0.1666344\ttotal: 352ms\tremaining: 689ms\n",
      "338:\tlearn: 0.1663085\ttotal: 353ms\tremaining: 688ms\n",
      "339:\tlearn: 0.1660854\ttotal: 354ms\tremaining: 687ms\n",
      "340:\tlearn: 0.1656232\ttotal: 355ms\tremaining: 685ms\n",
      "341:\tlearn: 0.1654767\ttotal: 355ms\tremaining: 684ms\n",
      "342:\tlearn: 0.1652403\ttotal: 356ms\tremaining: 682ms\n",
      "343:\tlearn: 0.1650472\ttotal: 357ms\tremaining: 681ms\n",
      "344:\tlearn: 0.1644845\ttotal: 358ms\tremaining: 679ms\n",
      "345:\tlearn: 0.1643027\ttotal: 359ms\tremaining: 678ms\n",
      "346:\tlearn: 0.1638024\ttotal: 359ms\tremaining: 676ms\n",
      "347:\tlearn: 0.1633255\ttotal: 360ms\tremaining: 675ms\n",
      "348:\tlearn: 0.1627382\ttotal: 361ms\tremaining: 673ms\n",
      "349:\tlearn: 0.1622467\ttotal: 362ms\tremaining: 672ms\n",
      "350:\tlearn: 0.1618368\ttotal: 363ms\tremaining: 671ms\n",
      "351:\tlearn: 0.1614174\ttotal: 363ms\tremaining: 669ms\n",
      "352:\tlearn: 0.1611090\ttotal: 364ms\tremaining: 668ms\n",
      "353:\tlearn: 0.1607740\ttotal: 365ms\tremaining: 666ms\n",
      "354:\tlearn: 0.1605645\ttotal: 366ms\tremaining: 665ms\n",
      "355:\tlearn: 0.1603522\ttotal: 367ms\tremaining: 663ms\n",
      "356:\tlearn: 0.1601786\ttotal: 368ms\tremaining: 662ms\n",
      "357:\tlearn: 0.1598454\ttotal: 368ms\tremaining: 661ms\n",
      "358:\tlearn: 0.1596767\ttotal: 369ms\tremaining: 659ms\n",
      "359:\tlearn: 0.1593907\ttotal: 370ms\tremaining: 658ms\n",
      "360:\tlearn: 0.1589486\ttotal: 371ms\tremaining: 656ms\n",
      "361:\tlearn: 0.1585981\ttotal: 372ms\tremaining: 655ms\n",
      "362:\tlearn: 0.1582973\ttotal: 373ms\tremaining: 654ms\n",
      "363:\tlearn: 0.1580078\ttotal: 373ms\tremaining: 652ms\n",
      "364:\tlearn: 0.1577863\ttotal: 374ms\tremaining: 651ms\n",
      "365:\tlearn: 0.1573204\ttotal: 375ms\tremaining: 650ms\n",
      "366:\tlearn: 0.1571595\ttotal: 376ms\tremaining: 648ms\n",
      "367:\tlearn: 0.1567739\ttotal: 377ms\tremaining: 647ms\n",
      "368:\tlearn: 0.1564708\ttotal: 378ms\tremaining: 646ms\n",
      "369:\tlearn: 0.1562559\ttotal: 379ms\tremaining: 645ms\n",
      "370:\tlearn: 0.1560856\ttotal: 379ms\tremaining: 643ms\n",
      "371:\tlearn: 0.1558092\ttotal: 380ms\tremaining: 642ms\n"
     ]
    },
    {
     "name": "stdout",
     "output_type": "stream",
     "text": [
      "372:\tlearn: 0.1552819\ttotal: 382ms\tremaining: 642ms\n",
      "373:\tlearn: 0.1550005\ttotal: 383ms\tremaining: 640ms\n",
      "374:\tlearn: 0.1548253\ttotal: 384ms\tremaining: 639ms\n",
      "375:\tlearn: 0.1546181\ttotal: 384ms\tremaining: 638ms\n",
      "376:\tlearn: 0.1541863\ttotal: 385ms\tremaining: 636ms\n",
      "377:\tlearn: 0.1537742\ttotal: 386ms\tremaining: 635ms\n",
      "378:\tlearn: 0.1534496\ttotal: 387ms\tremaining: 634ms\n",
      "379:\tlearn: 0.1532362\ttotal: 388ms\tremaining: 633ms\n",
      "380:\tlearn: 0.1529003\ttotal: 389ms\tremaining: 631ms\n",
      "381:\tlearn: 0.1526462\ttotal: 389ms\tremaining: 630ms\n",
      "382:\tlearn: 0.1523713\ttotal: 390ms\tremaining: 629ms\n",
      "383:\tlearn: 0.1521724\ttotal: 391ms\tremaining: 627ms\n",
      "384:\tlearn: 0.1516866\ttotal: 392ms\tremaining: 626ms\n",
      "385:\tlearn: 0.1512602\ttotal: 393ms\tremaining: 625ms\n",
      "386:\tlearn: 0.1508356\ttotal: 394ms\tremaining: 623ms\n",
      "387:\tlearn: 0.1505620\ttotal: 394ms\tremaining: 622ms\n",
      "388:\tlearn: 0.1502287\ttotal: 395ms\tremaining: 621ms\n",
      "389:\tlearn: 0.1497800\ttotal: 396ms\tremaining: 619ms\n",
      "390:\tlearn: 0.1494825\ttotal: 397ms\tremaining: 618ms\n",
      "391:\tlearn: 0.1491112\ttotal: 398ms\tremaining: 617ms\n",
      "392:\tlearn: 0.1487783\ttotal: 398ms\tremaining: 615ms\n",
      "393:\tlearn: 0.1483054\ttotal: 399ms\tremaining: 614ms\n",
      "394:\tlearn: 0.1481463\ttotal: 400ms\tremaining: 613ms\n",
      "395:\tlearn: 0.1480022\ttotal: 401ms\tremaining: 611ms\n",
      "396:\tlearn: 0.1477546\ttotal: 402ms\tremaining: 610ms\n",
      "397:\tlearn: 0.1475164\ttotal: 403ms\tremaining: 609ms\n",
      "398:\tlearn: 0.1472709\ttotal: 403ms\tremaining: 607ms\n",
      "399:\tlearn: 0.1467146\ttotal: 404ms\tremaining: 606ms\n",
      "400:\tlearn: 0.1464217\ttotal: 405ms\tremaining: 605ms\n",
      "401:\tlearn: 0.1460823\ttotal: 406ms\tremaining: 603ms\n",
      "402:\tlearn: 0.1456663\ttotal: 406ms\tremaining: 602ms\n",
      "403:\tlearn: 0.1455111\ttotal: 407ms\tremaining: 601ms\n",
      "404:\tlearn: 0.1450437\ttotal: 408ms\tremaining: 599ms\n",
      "405:\tlearn: 0.1447986\ttotal: 409ms\tremaining: 598ms\n",
      "406:\tlearn: 0.1444523\ttotal: 410ms\tremaining: 597ms\n",
      "407:\tlearn: 0.1440230\ttotal: 410ms\tremaining: 595ms\n",
      "408:\tlearn: 0.1437611\ttotal: 411ms\tremaining: 595ms\n",
      "409:\tlearn: 0.1432135\ttotal: 412ms\tremaining: 593ms\n",
      "410:\tlearn: 0.1430529\ttotal: 413ms\tremaining: 592ms\n",
      "411:\tlearn: 0.1427419\ttotal: 414ms\tremaining: 591ms\n",
      "412:\tlearn: 0.1426039\ttotal: 415ms\tremaining: 589ms\n",
      "413:\tlearn: 0.1422874\ttotal: 416ms\tremaining: 588ms\n",
      "414:\tlearn: 0.1419218\ttotal: 416ms\tremaining: 587ms\n",
      "415:\tlearn: 0.1415401\ttotal: 417ms\tremaining: 586ms\n",
      "416:\tlearn: 0.1412850\ttotal: 418ms\tremaining: 585ms\n",
      "417:\tlearn: 0.1410908\ttotal: 419ms\tremaining: 583ms\n",
      "418:\tlearn: 0.1408952\ttotal: 420ms\tremaining: 582ms\n",
      "419:\tlearn: 0.1406765\ttotal: 420ms\tremaining: 581ms\n",
      "420:\tlearn: 0.1405474\ttotal: 421ms\tremaining: 579ms\n",
      "421:\tlearn: 0.1404258\ttotal: 422ms\tremaining: 578ms\n",
      "422:\tlearn: 0.1400685\ttotal: 423ms\tremaining: 577ms\n",
      "423:\tlearn: 0.1399027\ttotal: 424ms\tremaining: 576ms\n",
      "424:\tlearn: 0.1396643\ttotal: 425ms\tremaining: 575ms\n",
      "425:\tlearn: 0.1394331\ttotal: 426ms\tremaining: 574ms\n",
      "426:\tlearn: 0.1391627\ttotal: 427ms\tremaining: 572ms\n",
      "427:\tlearn: 0.1388255\ttotal: 427ms\tremaining: 571ms\n",
      "428:\tlearn: 0.1385902\ttotal: 428ms\tremaining: 570ms\n",
      "429:\tlearn: 0.1384288\ttotal: 429ms\tremaining: 569ms\n",
      "430:\tlearn: 0.1380944\ttotal: 430ms\tremaining: 568ms\n",
      "431:\tlearn: 0.1379670\ttotal: 431ms\tremaining: 566ms\n",
      "432:\tlearn: 0.1376493\ttotal: 432ms\tremaining: 565ms\n",
      "433:\tlearn: 0.1374325\ttotal: 433ms\tremaining: 564ms\n",
      "434:\tlearn: 0.1371580\ttotal: 433ms\tremaining: 563ms\n",
      "435:\tlearn: 0.1369746\ttotal: 434ms\tremaining: 562ms\n",
      "436:\tlearn: 0.1368540\ttotal: 435ms\tremaining: 560ms\n",
      "437:\tlearn: 0.1365060\ttotal: 436ms\tremaining: 559ms\n",
      "438:\tlearn: 0.1364218\ttotal: 437ms\tremaining: 558ms\n",
      "439:\tlearn: 0.1361101\ttotal: 437ms\tremaining: 557ms\n",
      "440:\tlearn: 0.1358184\ttotal: 438ms\tremaining: 555ms\n",
      "441:\tlearn: 0.1355947\ttotal: 439ms\tremaining: 554ms\n",
      "442:\tlearn: 0.1353441\ttotal: 440ms\tremaining: 553ms\n",
      "443:\tlearn: 0.1352315\ttotal: 441ms\tremaining: 552ms\n",
      "444:\tlearn: 0.1351332\ttotal: 442ms\tremaining: 551ms\n",
      "445:\tlearn: 0.1349385\ttotal: 443ms\tremaining: 550ms\n",
      "446:\tlearn: 0.1345166\ttotal: 444ms\tremaining: 549ms\n",
      "447:\tlearn: 0.1343160\ttotal: 445ms\tremaining: 548ms\n",
      "448:\tlearn: 0.1341582\ttotal: 446ms\tremaining: 547ms\n",
      "449:\tlearn: 0.1340319\ttotal: 447ms\tremaining: 546ms\n",
      "450:\tlearn: 0.1338616\ttotal: 448ms\tremaining: 545ms\n",
      "451:\tlearn: 0.1336702\ttotal: 448ms\tremaining: 544ms\n",
      "452:\tlearn: 0.1333013\ttotal: 449ms\tremaining: 542ms\n",
      "453:\tlearn: 0.1328574\ttotal: 450ms\tremaining: 541ms\n",
      "454:\tlearn: 0.1326323\ttotal: 451ms\tremaining: 540ms\n",
      "455:\tlearn: 0.1324481\ttotal: 452ms\tremaining: 539ms\n",
      "456:\tlearn: 0.1320022\ttotal: 452ms\tremaining: 537ms\n",
      "457:\tlearn: 0.1317423\ttotal: 453ms\tremaining: 536ms\n",
      "458:\tlearn: 0.1314051\ttotal: 454ms\tremaining: 535ms\n",
      "459:\tlearn: 0.1310355\ttotal: 455ms\tremaining: 534ms\n",
      "460:\tlearn: 0.1307320\ttotal: 456ms\tremaining: 533ms\n",
      "461:\tlearn: 0.1305014\ttotal: 457ms\tremaining: 532ms\n",
      "462:\tlearn: 0.1303295\ttotal: 457ms\tremaining: 530ms\n",
      "463:\tlearn: 0.1300093\ttotal: 458ms\tremaining: 529ms\n",
      "464:\tlearn: 0.1297890\ttotal: 459ms\tremaining: 528ms\n",
      "465:\tlearn: 0.1293874\ttotal: 460ms\tremaining: 527ms\n",
      "466:\tlearn: 0.1291713\ttotal: 461ms\tremaining: 526ms\n",
      "467:\tlearn: 0.1288348\ttotal: 462ms\tremaining: 525ms\n",
      "468:\tlearn: 0.1284792\ttotal: 463ms\tremaining: 524ms\n",
      "469:\tlearn: 0.1283308\ttotal: 463ms\tremaining: 523ms\n",
      "470:\tlearn: 0.1281120\ttotal: 464ms\tremaining: 521ms\n",
      "471:\tlearn: 0.1279845\ttotal: 465ms\tremaining: 521ms\n",
      "472:\tlearn: 0.1277290\ttotal: 466ms\tremaining: 520ms\n",
      "473:\tlearn: 0.1273633\ttotal: 467ms\tremaining: 518ms\n",
      "474:\tlearn: 0.1271450\ttotal: 468ms\tremaining: 517ms\n",
      "475:\tlearn: 0.1269851\ttotal: 469ms\tremaining: 516ms\n",
      "476:\tlearn: 0.1266579\ttotal: 469ms\tremaining: 515ms\n",
      "477:\tlearn: 0.1264661\ttotal: 470ms\tremaining: 514ms\n",
      "478:\tlearn: 0.1260199\ttotal: 471ms\tremaining: 512ms\n",
      "479:\tlearn: 0.1257151\ttotal: 472ms\tremaining: 511ms\n",
      "480:\tlearn: 0.1254741\ttotal: 473ms\tremaining: 510ms\n",
      "481:\tlearn: 0.1250754\ttotal: 474ms\tremaining: 509ms\n",
      "482:\tlearn: 0.1249309\ttotal: 475ms\tremaining: 508ms\n",
      "483:\tlearn: 0.1247485\ttotal: 476ms\tremaining: 507ms\n",
      "484:\tlearn: 0.1244387\ttotal: 476ms\tremaining: 506ms\n",
      "485:\tlearn: 0.1243124\ttotal: 477ms\tremaining: 505ms\n",
      "486:\tlearn: 0.1241479\ttotal: 478ms\tremaining: 504ms\n",
      "487:\tlearn: 0.1239539\ttotal: 479ms\tremaining: 502ms\n",
      "488:\tlearn: 0.1236729\ttotal: 480ms\tremaining: 501ms\n",
      "489:\tlearn: 0.1234359\ttotal: 480ms\tremaining: 500ms\n",
      "490:\tlearn: 0.1233262\ttotal: 481ms\tremaining: 499ms\n",
      "491:\tlearn: 0.1229811\ttotal: 482ms\tremaining: 498ms\n",
      "492:\tlearn: 0.1227531\ttotal: 483ms\tremaining: 497ms\n",
      "493:\tlearn: 0.1226173\ttotal: 484ms\tremaining: 496ms\n",
      "494:\tlearn: 0.1223026\ttotal: 485ms\tremaining: 495ms\n",
      "495:\tlearn: 0.1221384\ttotal: 486ms\tremaining: 493ms\n",
      "496:\tlearn: 0.1220369\ttotal: 486ms\tremaining: 492ms\n",
      "497:\tlearn: 0.1217742\ttotal: 487ms\tremaining: 491ms\n",
      "498:\tlearn: 0.1215816\ttotal: 488ms\tremaining: 490ms\n"
     ]
    },
    {
     "name": "stdout",
     "output_type": "stream",
     "text": [
      "499:\tlearn: 0.1212293\ttotal: 489ms\tremaining: 489ms\n",
      "500:\tlearn: 0.1210618\ttotal: 490ms\tremaining: 488ms\n",
      "501:\tlearn: 0.1208388\ttotal: 491ms\tremaining: 487ms\n",
      "502:\tlearn: 0.1206303\ttotal: 492ms\tremaining: 486ms\n",
      "503:\tlearn: 0.1204527\ttotal: 492ms\tremaining: 485ms\n",
      "504:\tlearn: 0.1201579\ttotal: 493ms\tremaining: 484ms\n",
      "505:\tlearn: 0.1198068\ttotal: 494ms\tremaining: 482ms\n",
      "506:\tlearn: 0.1195044\ttotal: 495ms\tremaining: 481ms\n",
      "507:\tlearn: 0.1193511\ttotal: 496ms\tremaining: 480ms\n",
      "508:\tlearn: 0.1190487\ttotal: 497ms\tremaining: 479ms\n",
      "509:\tlearn: 0.1187575\ttotal: 497ms\tremaining: 478ms\n",
      "510:\tlearn: 0.1185066\ttotal: 498ms\tremaining: 477ms\n",
      "511:\tlearn: 0.1181625\ttotal: 499ms\tremaining: 476ms\n",
      "512:\tlearn: 0.1179152\ttotal: 500ms\tremaining: 475ms\n",
      "513:\tlearn: 0.1176420\ttotal: 501ms\tremaining: 473ms\n",
      "514:\tlearn: 0.1173855\ttotal: 502ms\tremaining: 472ms\n",
      "515:\tlearn: 0.1171393\ttotal: 503ms\tremaining: 471ms\n",
      "516:\tlearn: 0.1168673\ttotal: 503ms\tremaining: 470ms\n",
      "517:\tlearn: 0.1167485\ttotal: 504ms\tremaining: 469ms\n",
      "518:\tlearn: 0.1164312\ttotal: 505ms\tremaining: 468ms\n",
      "519:\tlearn: 0.1162602\ttotal: 506ms\tremaining: 467ms\n",
      "520:\tlearn: 0.1159595\ttotal: 507ms\tremaining: 466ms\n",
      "521:\tlearn: 0.1157184\ttotal: 507ms\tremaining: 465ms\n",
      "522:\tlearn: 0.1154522\ttotal: 508ms\tremaining: 463ms\n",
      "523:\tlearn: 0.1152869\ttotal: 509ms\tremaining: 462ms\n",
      "524:\tlearn: 0.1150395\ttotal: 510ms\tremaining: 461ms\n",
      "525:\tlearn: 0.1147656\ttotal: 511ms\tremaining: 460ms\n",
      "526:\tlearn: 0.1145843\ttotal: 511ms\tremaining: 459ms\n",
      "527:\tlearn: 0.1145221\ttotal: 512ms\tremaining: 458ms\n",
      "528:\tlearn: 0.1143378\ttotal: 513ms\tremaining: 457ms\n",
      "529:\tlearn: 0.1141497\ttotal: 514ms\tremaining: 456ms\n",
      "530:\tlearn: 0.1140210\ttotal: 515ms\tremaining: 455ms\n",
      "531:\tlearn: 0.1138096\ttotal: 516ms\tremaining: 454ms\n",
      "532:\tlearn: 0.1135745\ttotal: 517ms\tremaining: 453ms\n",
      "533:\tlearn: 0.1134815\ttotal: 517ms\tremaining: 452ms\n",
      "534:\tlearn: 0.1131795\ttotal: 518ms\tremaining: 450ms\n",
      "535:\tlearn: 0.1130932\ttotal: 519ms\tremaining: 449ms\n",
      "536:\tlearn: 0.1128809\ttotal: 520ms\tremaining: 448ms\n",
      "537:\tlearn: 0.1126155\ttotal: 521ms\tremaining: 447ms\n",
      "538:\tlearn: 0.1124361\ttotal: 522ms\tremaining: 446ms\n",
      "539:\tlearn: 0.1122045\ttotal: 522ms\tremaining: 445ms\n",
      "540:\tlearn: 0.1120424\ttotal: 523ms\tremaining: 444ms\n",
      "541:\tlearn: 0.1118268\ttotal: 524ms\tremaining: 443ms\n",
      "542:\tlearn: 0.1116503\ttotal: 525ms\tremaining: 442ms\n",
      "543:\tlearn: 0.1115847\ttotal: 526ms\tremaining: 441ms\n",
      "544:\tlearn: 0.1112778\ttotal: 526ms\tremaining: 439ms\n",
      "545:\tlearn: 0.1109984\ttotal: 527ms\tremaining: 438ms\n",
      "546:\tlearn: 0.1107912\ttotal: 528ms\tremaining: 437ms\n",
      "547:\tlearn: 0.1104989\ttotal: 529ms\tremaining: 436ms\n",
      "548:\tlearn: 0.1101869\ttotal: 530ms\tremaining: 435ms\n",
      "549:\tlearn: 0.1099483\ttotal: 530ms\tremaining: 434ms\n",
      "550:\tlearn: 0.1097796\ttotal: 532ms\tremaining: 433ms\n",
      "551:\tlearn: 0.1095553\ttotal: 532ms\tremaining: 432ms\n",
      "552:\tlearn: 0.1093361\ttotal: 533ms\tremaining: 431ms\n",
      "553:\tlearn: 0.1091709\ttotal: 534ms\tremaining: 430ms\n",
      "554:\tlearn: 0.1089134\ttotal: 535ms\tremaining: 429ms\n",
      "555:\tlearn: 0.1087976\ttotal: 536ms\tremaining: 428ms\n",
      "556:\tlearn: 0.1085790\ttotal: 537ms\tremaining: 427ms\n",
      "557:\tlearn: 0.1083788\ttotal: 538ms\tremaining: 426ms\n",
      "558:\tlearn: 0.1081384\ttotal: 539ms\tremaining: 425ms\n",
      "559:\tlearn: 0.1079030\ttotal: 539ms\tremaining: 424ms\n",
      "560:\tlearn: 0.1076464\ttotal: 540ms\tremaining: 423ms\n",
      "561:\tlearn: 0.1073666\ttotal: 541ms\tremaining: 422ms\n",
      "562:\tlearn: 0.1072246\ttotal: 542ms\tremaining: 421ms\n",
      "563:\tlearn: 0.1071250\ttotal: 543ms\tremaining: 420ms\n",
      "564:\tlearn: 0.1067971\ttotal: 544ms\tremaining: 419ms\n",
      "565:\tlearn: 0.1065928\ttotal: 545ms\tremaining: 418ms\n",
      "566:\tlearn: 0.1063045\ttotal: 545ms\tremaining: 417ms\n",
      "567:\tlearn: 0.1061498\ttotal: 546ms\tremaining: 415ms\n",
      "568:\tlearn: 0.1058833\ttotal: 547ms\tremaining: 415ms\n",
      "569:\tlearn: 0.1056967\ttotal: 548ms\tremaining: 413ms\n",
      "570:\tlearn: 0.1054679\ttotal: 549ms\tremaining: 412ms\n",
      "571:\tlearn: 0.1052469\ttotal: 550ms\tremaining: 411ms\n",
      "572:\tlearn: 0.1050168\ttotal: 551ms\tremaining: 410ms\n",
      "573:\tlearn: 0.1048416\ttotal: 552ms\tremaining: 409ms\n",
      "574:\tlearn: 0.1046147\ttotal: 552ms\tremaining: 408ms\n",
      "575:\tlearn: 0.1043509\ttotal: 553ms\tremaining: 407ms\n",
      "576:\tlearn: 0.1042230\ttotal: 554ms\tremaining: 406ms\n",
      "577:\tlearn: 0.1039936\ttotal: 555ms\tremaining: 405ms\n",
      "578:\tlearn: 0.1037790\ttotal: 556ms\tremaining: 404ms\n",
      "579:\tlearn: 0.1036377\ttotal: 556ms\tremaining: 403ms\n",
      "580:\tlearn: 0.1034703\ttotal: 557ms\tremaining: 402ms\n",
      "581:\tlearn: 0.1032721\ttotal: 558ms\tremaining: 401ms\n",
      "582:\tlearn: 0.1030501\ttotal: 559ms\tremaining: 400ms\n",
      "583:\tlearn: 0.1027600\ttotal: 560ms\tremaining: 399ms\n",
      "584:\tlearn: 0.1025506\ttotal: 560ms\tremaining: 398ms\n",
      "585:\tlearn: 0.1023374\ttotal: 561ms\tremaining: 397ms\n",
      "586:\tlearn: 0.1020242\ttotal: 562ms\tremaining: 395ms\n",
      "587:\tlearn: 0.1018529\ttotal: 563ms\tremaining: 394ms\n",
      "588:\tlearn: 0.1016101\ttotal: 564ms\tremaining: 393ms\n",
      "589:\tlearn: 0.1015053\ttotal: 564ms\tremaining: 392ms\n",
      "590:\tlearn: 0.1013195\ttotal: 565ms\tremaining: 391ms\n",
      "591:\tlearn: 0.1010245\ttotal: 566ms\tremaining: 390ms\n",
      "592:\tlearn: 0.1008200\ttotal: 567ms\tremaining: 389ms\n",
      "593:\tlearn: 0.1005744\ttotal: 567ms\tremaining: 388ms\n",
      "594:\tlearn: 0.1003359\ttotal: 568ms\tremaining: 387ms\n",
      "595:\tlearn: 0.1001461\ttotal: 569ms\tremaining: 386ms\n",
      "596:\tlearn: 0.0999324\ttotal: 570ms\tremaining: 385ms\n",
      "597:\tlearn: 0.0996976\ttotal: 571ms\tremaining: 384ms\n",
      "598:\tlearn: 0.0995466\ttotal: 571ms\tremaining: 383ms\n"
     ]
    },
    {
     "name": "stdout",
     "output_type": "stream",
     "text": [
      "599:\tlearn: 0.0993752\ttotal: 572ms\tremaining: 382ms\n",
      "600:\tlearn: 0.0991964\ttotal: 573ms\tremaining: 381ms\n",
      "601:\tlearn: 0.0990701\ttotal: 574ms\tremaining: 380ms\n",
      "602:\tlearn: 0.0988254\ttotal: 575ms\tremaining: 379ms\n",
      "603:\tlearn: 0.0986383\ttotal: 576ms\tremaining: 377ms\n",
      "604:\tlearn: 0.0984875\ttotal: 576ms\tremaining: 376ms\n",
      "605:\tlearn: 0.0982757\ttotal: 577ms\tremaining: 375ms\n",
      "606:\tlearn: 0.0980691\ttotal: 578ms\tremaining: 374ms\n",
      "607:\tlearn: 0.0979011\ttotal: 579ms\tremaining: 373ms\n",
      "608:\tlearn: 0.0977093\ttotal: 580ms\tremaining: 372ms\n",
      "609:\tlearn: 0.0975340\ttotal: 580ms\tremaining: 371ms\n",
      "610:\tlearn: 0.0973645\ttotal: 581ms\tremaining: 370ms\n",
      "611:\tlearn: 0.0971336\ttotal: 582ms\tremaining: 369ms\n",
      "612:\tlearn: 0.0970217\ttotal: 583ms\tremaining: 368ms\n",
      "613:\tlearn: 0.0968418\ttotal: 584ms\tremaining: 367ms\n",
      "614:\tlearn: 0.0966633\ttotal: 585ms\tremaining: 366ms\n",
      "615:\tlearn: 0.0965049\ttotal: 586ms\tremaining: 365ms\n",
      "616:\tlearn: 0.0963924\ttotal: 586ms\tremaining: 364ms\n",
      "617:\tlearn: 0.0962237\ttotal: 587ms\tremaining: 363ms\n",
      "618:\tlearn: 0.0959744\ttotal: 588ms\tremaining: 362ms\n",
      "619:\tlearn: 0.0958131\ttotal: 589ms\tremaining: 361ms\n",
      "620:\tlearn: 0.0956048\ttotal: 589ms\tremaining: 360ms\n",
      "621:\tlearn: 0.0954978\ttotal: 590ms\tremaining: 359ms\n",
      "622:\tlearn: 0.0953102\ttotal: 591ms\tremaining: 358ms\n",
      "623:\tlearn: 0.0950989\ttotal: 592ms\tremaining: 357ms\n",
      "624:\tlearn: 0.0949086\ttotal: 593ms\tremaining: 356ms\n",
      "625:\tlearn: 0.0947630\ttotal: 594ms\tremaining: 355ms\n",
      "626:\tlearn: 0.0944943\ttotal: 594ms\tremaining: 353ms\n",
      "627:\tlearn: 0.0943919\ttotal: 595ms\tremaining: 352ms\n",
      "628:\tlearn: 0.0941443\ttotal: 596ms\tremaining: 351ms\n",
      "629:\tlearn: 0.0939508\ttotal: 597ms\tremaining: 350ms\n",
      "630:\tlearn: 0.0937397\ttotal: 597ms\tremaining: 349ms\n",
      "631:\tlearn: 0.0936447\ttotal: 598ms\tremaining: 348ms\n",
      "632:\tlearn: 0.0934339\ttotal: 599ms\tremaining: 347ms\n",
      "633:\tlearn: 0.0932957\ttotal: 600ms\tremaining: 346ms\n",
      "634:\tlearn: 0.0931857\ttotal: 601ms\tremaining: 345ms\n",
      "635:\tlearn: 0.0930261\ttotal: 601ms\tremaining: 344ms\n",
      "636:\tlearn: 0.0929500\ttotal: 602ms\tremaining: 343ms\n",
      "637:\tlearn: 0.0928125\ttotal: 603ms\tremaining: 342ms\n",
      "638:\tlearn: 0.0926370\ttotal: 604ms\tremaining: 341ms\n",
      "639:\tlearn: 0.0925390\ttotal: 605ms\tremaining: 340ms\n",
      "640:\tlearn: 0.0924071\ttotal: 606ms\tremaining: 339ms\n",
      "641:\tlearn: 0.0921569\ttotal: 606ms\tremaining: 338ms\n",
      "642:\tlearn: 0.0920142\ttotal: 607ms\tremaining: 337ms\n",
      "643:\tlearn: 0.0917963\ttotal: 608ms\tremaining: 336ms\n",
      "644:\tlearn: 0.0916416\ttotal: 609ms\tremaining: 335ms\n",
      "645:\tlearn: 0.0914733\ttotal: 609ms\tremaining: 334ms\n",
      "646:\tlearn: 0.0913155\ttotal: 610ms\tremaining: 333ms\n",
      "647:\tlearn: 0.0911133\ttotal: 611ms\tremaining: 332ms\n",
      "648:\tlearn: 0.0909269\ttotal: 612ms\tremaining: 331ms\n",
      "649:\tlearn: 0.0907782\ttotal: 612ms\tremaining: 330ms\n",
      "650:\tlearn: 0.0905773\ttotal: 613ms\tremaining: 329ms\n",
      "651:\tlearn: 0.0903794\ttotal: 614ms\tremaining: 328ms\n",
      "652:\tlearn: 0.0901620\ttotal: 615ms\tremaining: 327ms\n",
      "653:\tlearn: 0.0900100\ttotal: 616ms\tremaining: 326ms\n",
      "654:\tlearn: 0.0898142\ttotal: 616ms\tremaining: 325ms\n",
      "655:\tlearn: 0.0897319\ttotal: 617ms\tremaining: 324ms\n",
      "656:\tlearn: 0.0895198\ttotal: 618ms\tremaining: 323ms\n",
      "657:\tlearn: 0.0893718\ttotal: 619ms\tremaining: 322ms\n",
      "658:\tlearn: 0.0892677\ttotal: 620ms\tremaining: 321ms\n",
      "659:\tlearn: 0.0891646\ttotal: 621ms\tremaining: 320ms\n",
      "660:\tlearn: 0.0890184\ttotal: 621ms\tremaining: 319ms\n",
      "661:\tlearn: 0.0888319\ttotal: 622ms\tremaining: 318ms\n",
      "662:\tlearn: 0.0886204\ttotal: 623ms\tremaining: 317ms\n",
      "663:\tlearn: 0.0884875\ttotal: 624ms\tremaining: 316ms\n",
      "664:\tlearn: 0.0883247\ttotal: 624ms\tremaining: 315ms\n",
      "665:\tlearn: 0.0881908\ttotal: 626ms\tremaining: 314ms\n",
      "666:\tlearn: 0.0881127\ttotal: 627ms\tremaining: 313ms\n",
      "667:\tlearn: 0.0880442\ttotal: 627ms\tremaining: 312ms\n",
      "668:\tlearn: 0.0878789\ttotal: 628ms\tremaining: 311ms\n",
      "669:\tlearn: 0.0876455\ttotal: 629ms\tremaining: 310ms\n",
      "670:\tlearn: 0.0874919\ttotal: 630ms\tremaining: 309ms\n",
      "671:\tlearn: 0.0873240\ttotal: 631ms\tremaining: 308ms\n",
      "672:\tlearn: 0.0872630\ttotal: 632ms\tremaining: 307ms\n",
      "673:\tlearn: 0.0871977\ttotal: 632ms\tremaining: 306ms\n",
      "674:\tlearn: 0.0870495\ttotal: 633ms\tremaining: 305ms\n",
      "675:\tlearn: 0.0868410\ttotal: 634ms\tremaining: 304ms\n",
      "676:\tlearn: 0.0866634\ttotal: 635ms\tremaining: 303ms\n",
      "677:\tlearn: 0.0865805\ttotal: 636ms\tremaining: 302ms\n",
      "678:\tlearn: 0.0865233\ttotal: 636ms\tremaining: 301ms\n",
      "679:\tlearn: 0.0863505\ttotal: 637ms\tremaining: 300ms\n",
      "680:\tlearn: 0.0862094\ttotal: 638ms\tremaining: 299ms\n",
      "681:\tlearn: 0.0861443\ttotal: 639ms\tremaining: 298ms\n",
      "682:\tlearn: 0.0859313\ttotal: 640ms\tremaining: 297ms\n",
      "683:\tlearn: 0.0857612\ttotal: 640ms\tremaining: 296ms\n",
      "684:\tlearn: 0.0856098\ttotal: 641ms\tremaining: 295ms\n",
      "685:\tlearn: 0.0854873\ttotal: 642ms\tremaining: 294ms\n",
      "686:\tlearn: 0.0854312\ttotal: 643ms\tremaining: 293ms\n",
      "687:\tlearn: 0.0852394\ttotal: 643ms\tremaining: 292ms\n",
      "688:\tlearn: 0.0850640\ttotal: 644ms\tremaining: 291ms\n",
      "689:\tlearn: 0.0849712\ttotal: 645ms\tremaining: 290ms\n",
      "690:\tlearn: 0.0847768\ttotal: 646ms\tremaining: 289ms\n",
      "691:\tlearn: 0.0847096\ttotal: 647ms\tremaining: 288ms\n",
      "692:\tlearn: 0.0845656\ttotal: 648ms\tremaining: 287ms\n",
      "693:\tlearn: 0.0845041\ttotal: 648ms\tremaining: 286ms\n",
      "694:\tlearn: 0.0844054\ttotal: 649ms\tremaining: 285ms\n",
      "695:\tlearn: 0.0843147\ttotal: 650ms\tremaining: 284ms\n",
      "696:\tlearn: 0.0841160\ttotal: 651ms\tremaining: 283ms\n",
      "697:\tlearn: 0.0839797\ttotal: 652ms\tremaining: 282ms\n",
      "698:\tlearn: 0.0837944\ttotal: 653ms\tremaining: 281ms\n",
      "699:\tlearn: 0.0837125\ttotal: 654ms\tremaining: 280ms\n",
      "700:\tlearn: 0.0836033\ttotal: 654ms\tremaining: 279ms\n",
      "701:\tlearn: 0.0834877\ttotal: 655ms\tremaining: 278ms\n",
      "702:\tlearn: 0.0834254\ttotal: 656ms\tremaining: 277ms\n",
      "703:\tlearn: 0.0832757\ttotal: 657ms\tremaining: 276ms\n",
      "704:\tlearn: 0.0832159\ttotal: 657ms\tremaining: 275ms\n",
      "705:\tlearn: 0.0830685\ttotal: 658ms\tremaining: 274ms\n",
      "706:\tlearn: 0.0829179\ttotal: 659ms\tremaining: 273ms\n",
      "707:\tlearn: 0.0827974\ttotal: 660ms\tremaining: 272ms\n",
      "708:\tlearn: 0.0826648\ttotal: 661ms\tremaining: 271ms\n",
      "709:\tlearn: 0.0825995\ttotal: 662ms\tremaining: 270ms\n",
      "710:\tlearn: 0.0824860\ttotal: 662ms\tremaining: 269ms\n",
      "711:\tlearn: 0.0822687\ttotal: 663ms\tremaining: 268ms\n",
      "712:\tlearn: 0.0821203\ttotal: 664ms\tremaining: 267ms\n",
      "713:\tlearn: 0.0819879\ttotal: 664ms\tremaining: 266ms\n",
      "714:\tlearn: 0.0818337\ttotal: 665ms\tremaining: 265ms\n",
      "715:\tlearn: 0.0817427\ttotal: 666ms\tremaining: 264ms\n",
      "716:\tlearn: 0.0816183\ttotal: 667ms\tremaining: 263ms\n",
      "717:\tlearn: 0.0814781\ttotal: 668ms\tremaining: 262ms\n",
      "718:\tlearn: 0.0813091\ttotal: 669ms\tremaining: 262ms\n",
      "719:\tlearn: 0.0812123\ttotal: 670ms\tremaining: 261ms\n",
      "720:\tlearn: 0.0811215\ttotal: 671ms\tremaining: 260ms\n",
      "721:\tlearn: 0.0809562\ttotal: 672ms\tremaining: 259ms\n",
      "722:\tlearn: 0.0808192\ttotal: 673ms\tremaining: 258ms\n",
      "723:\tlearn: 0.0807539\ttotal: 674ms\tremaining: 257ms\n",
      "724:\tlearn: 0.0806438\ttotal: 674ms\tremaining: 256ms\n",
      "725:\tlearn: 0.0805289\ttotal: 675ms\tremaining: 255ms\n",
      "726:\tlearn: 0.0804136\ttotal: 676ms\tremaining: 254ms\n",
      "727:\tlearn: 0.0802780\ttotal: 677ms\tremaining: 253ms\n",
      "728:\tlearn: 0.0801119\ttotal: 678ms\tremaining: 252ms\n"
     ]
    },
    {
     "name": "stdout",
     "output_type": "stream",
     "text": [
      "729:\tlearn: 0.0800242\ttotal: 679ms\tremaining: 251ms\n",
      "730:\tlearn: 0.0799197\ttotal: 680ms\tremaining: 250ms\n",
      "731:\tlearn: 0.0797905\ttotal: 681ms\tremaining: 249ms\n",
      "732:\tlearn: 0.0796714\ttotal: 682ms\tremaining: 248ms\n",
      "733:\tlearn: 0.0795121\ttotal: 682ms\tremaining: 247ms\n",
      "734:\tlearn: 0.0794179\ttotal: 683ms\tremaining: 246ms\n",
      "735:\tlearn: 0.0793041\ttotal: 684ms\tremaining: 245ms\n",
      "736:\tlearn: 0.0791632\ttotal: 685ms\tremaining: 244ms\n",
      "737:\tlearn: 0.0790130\ttotal: 686ms\tremaining: 244ms\n",
      "738:\tlearn: 0.0788526\ttotal: 687ms\tremaining: 243ms\n",
      "739:\tlearn: 0.0787271\ttotal: 688ms\tremaining: 242ms\n",
      "740:\tlearn: 0.0786133\ttotal: 689ms\tremaining: 241ms\n",
      "741:\tlearn: 0.0784737\ttotal: 689ms\tremaining: 240ms\n",
      "742:\tlearn: 0.0783721\ttotal: 690ms\tremaining: 239ms\n",
      "743:\tlearn: 0.0782175\ttotal: 691ms\tremaining: 238ms\n",
      "744:\tlearn: 0.0781228\ttotal: 692ms\tremaining: 237ms\n",
      "745:\tlearn: 0.0779595\ttotal: 693ms\tremaining: 236ms\n",
      "746:\tlearn: 0.0778386\ttotal: 694ms\tremaining: 235ms\n",
      "747:\tlearn: 0.0777037\ttotal: 694ms\tremaining: 234ms\n",
      "748:\tlearn: 0.0774863\ttotal: 695ms\tremaining: 233ms\n",
      "749:\tlearn: 0.0773395\ttotal: 696ms\tremaining: 232ms\n",
      "750:\tlearn: 0.0771600\ttotal: 697ms\tremaining: 231ms\n",
      "751:\tlearn: 0.0769978\ttotal: 698ms\tremaining: 230ms\n",
      "752:\tlearn: 0.0769214\ttotal: 698ms\tremaining: 229ms\n",
      "753:\tlearn: 0.0767818\ttotal: 700ms\tremaining: 228ms\n",
      "754:\tlearn: 0.0766567\ttotal: 701ms\tremaining: 227ms\n",
      "755:\tlearn: 0.0766001\ttotal: 701ms\tremaining: 226ms\n",
      "756:\tlearn: 0.0764060\ttotal: 702ms\tremaining: 225ms\n",
      "757:\tlearn: 0.0762226\ttotal: 703ms\tremaining: 224ms\n",
      "758:\tlearn: 0.0761322\ttotal: 704ms\tremaining: 224ms\n",
      "759:\tlearn: 0.0759846\ttotal: 705ms\tremaining: 223ms\n",
      "760:\tlearn: 0.0758664\ttotal: 706ms\tremaining: 222ms\n",
      "761:\tlearn: 0.0757434\ttotal: 706ms\tremaining: 221ms\n",
      "762:\tlearn: 0.0756118\ttotal: 708ms\tremaining: 220ms\n",
      "763:\tlearn: 0.0755640\ttotal: 709ms\tremaining: 219ms\n",
      "764:\tlearn: 0.0754543\ttotal: 709ms\tremaining: 218ms\n",
      "765:\tlearn: 0.0752707\ttotal: 710ms\tremaining: 217ms\n",
      "766:\tlearn: 0.0751509\ttotal: 711ms\tremaining: 216ms\n",
      "767:\tlearn: 0.0750535\ttotal: 712ms\tremaining: 215ms\n",
      "768:\tlearn: 0.0749536\ttotal: 713ms\tremaining: 214ms\n",
      "769:\tlearn: 0.0748364\ttotal: 714ms\tremaining: 213ms\n",
      "770:\tlearn: 0.0746866\ttotal: 715ms\tremaining: 212ms\n",
      "771:\tlearn: 0.0745681\ttotal: 715ms\tremaining: 211ms\n",
      "772:\tlearn: 0.0745037\ttotal: 716ms\tremaining: 210ms\n",
      "773:\tlearn: 0.0744029\ttotal: 717ms\tremaining: 209ms\n",
      "774:\tlearn: 0.0742478\ttotal: 718ms\tremaining: 208ms\n",
      "775:\tlearn: 0.0742070\ttotal: 719ms\tremaining: 207ms\n",
      "776:\tlearn: 0.0740939\ttotal: 720ms\tremaining: 207ms\n",
      "777:\tlearn: 0.0739624\ttotal: 720ms\tremaining: 206ms\n",
      "778:\tlearn: 0.0738070\ttotal: 721ms\tremaining: 205ms\n",
      "779:\tlearn: 0.0736708\ttotal: 722ms\tremaining: 204ms\n",
      "780:\tlearn: 0.0734303\ttotal: 723ms\tremaining: 203ms\n",
      "781:\tlearn: 0.0733316\ttotal: 724ms\tremaining: 202ms\n",
      "782:\tlearn: 0.0732221\ttotal: 725ms\tremaining: 201ms\n",
      "783:\tlearn: 0.0730733\ttotal: 725ms\tremaining: 200ms\n",
      "784:\tlearn: 0.0730334\ttotal: 726ms\tremaining: 199ms\n",
      "785:\tlearn: 0.0728808\ttotal: 727ms\tremaining: 198ms\n",
      "786:\tlearn: 0.0727798\ttotal: 728ms\tremaining: 197ms\n",
      "787:\tlearn: 0.0727429\ttotal: 729ms\tremaining: 196ms\n",
      "788:\tlearn: 0.0725957\ttotal: 729ms\tremaining: 195ms\n",
      "789:\tlearn: 0.0724448\ttotal: 730ms\tremaining: 194ms\n",
      "790:\tlearn: 0.0723703\ttotal: 731ms\tremaining: 193ms\n",
      "791:\tlearn: 0.0721980\ttotal: 732ms\tremaining: 192ms\n",
      "792:\tlearn: 0.0721726\ttotal: 733ms\tremaining: 191ms\n",
      "793:\tlearn: 0.0720338\ttotal: 734ms\tremaining: 190ms\n",
      "794:\tlearn: 0.0719120\ttotal: 734ms\tremaining: 189ms\n",
      "795:\tlearn: 0.0718340\ttotal: 735ms\tremaining: 188ms\n",
      "796:\tlearn: 0.0716937\ttotal: 736ms\tremaining: 188ms\n",
      "797:\tlearn: 0.0716292\ttotal: 737ms\tremaining: 187ms\n",
      "798:\tlearn: 0.0715438\ttotal: 738ms\tremaining: 186ms\n",
      "799:\tlearn: 0.0714398\ttotal: 739ms\tremaining: 185ms\n",
      "800:\tlearn: 0.0713109\ttotal: 740ms\tremaining: 184ms\n",
      "801:\tlearn: 0.0711638\ttotal: 740ms\tremaining: 183ms\n",
      "802:\tlearn: 0.0710570\ttotal: 741ms\tremaining: 182ms\n",
      "803:\tlearn: 0.0709149\ttotal: 742ms\tremaining: 181ms\n",
      "804:\tlearn: 0.0708263\ttotal: 743ms\tremaining: 180ms\n",
      "805:\tlearn: 0.0706672\ttotal: 744ms\tremaining: 179ms\n",
      "806:\tlearn: 0.0705728\ttotal: 744ms\tremaining: 178ms\n",
      "807:\tlearn: 0.0704386\ttotal: 745ms\tremaining: 177ms\n",
      "808:\tlearn: 0.0702924\ttotal: 746ms\tremaining: 176ms\n",
      "809:\tlearn: 0.0701493\ttotal: 747ms\tremaining: 175ms\n",
      "810:\tlearn: 0.0700003\ttotal: 748ms\tremaining: 174ms\n",
      "811:\tlearn: 0.0698794\ttotal: 749ms\tremaining: 173ms\n",
      "812:\tlearn: 0.0697612\ttotal: 750ms\tremaining: 172ms\n",
      "813:\tlearn: 0.0696516\ttotal: 750ms\tremaining: 171ms\n",
      "814:\tlearn: 0.0695516\ttotal: 751ms\tremaining: 170ms\n",
      "815:\tlearn: 0.0694228\ttotal: 752ms\tremaining: 170ms\n",
      "816:\tlearn: 0.0693242\ttotal: 753ms\tremaining: 169ms\n",
      "817:\tlearn: 0.0691800\ttotal: 754ms\tremaining: 168ms\n",
      "818:\tlearn: 0.0690241\ttotal: 754ms\tremaining: 167ms\n",
      "819:\tlearn: 0.0689469\ttotal: 755ms\tremaining: 166ms\n",
      "820:\tlearn: 0.0688508\ttotal: 756ms\tremaining: 165ms\n",
      "821:\tlearn: 0.0687330\ttotal: 757ms\tremaining: 164ms\n",
      "822:\tlearn: 0.0685646\ttotal: 757ms\tremaining: 163ms\n",
      "823:\tlearn: 0.0684037\ttotal: 758ms\tremaining: 162ms\n",
      "824:\tlearn: 0.0683512\ttotal: 759ms\tremaining: 161ms\n",
      "825:\tlearn: 0.0682424\ttotal: 760ms\tremaining: 160ms\n",
      "826:\tlearn: 0.0681491\ttotal: 761ms\tremaining: 159ms\n"
     ]
    },
    {
     "name": "stdout",
     "output_type": "stream",
     "text": [
      "827:\tlearn: 0.0680267\ttotal: 762ms\tremaining: 158ms\n",
      "828:\tlearn: 0.0679389\ttotal: 763ms\tremaining: 157ms\n",
      "829:\tlearn: 0.0678643\ttotal: 764ms\tremaining: 156ms\n",
      "830:\tlearn: 0.0677307\ttotal: 765ms\tremaining: 156ms\n",
      "831:\tlearn: 0.0676866\ttotal: 765ms\tremaining: 155ms\n",
      "832:\tlearn: 0.0676257\ttotal: 766ms\tremaining: 154ms\n",
      "833:\tlearn: 0.0675208\ttotal: 767ms\tremaining: 153ms\n",
      "834:\tlearn: 0.0674639\ttotal: 768ms\tremaining: 152ms\n",
      "835:\tlearn: 0.0673436\ttotal: 768ms\tremaining: 151ms\n",
      "836:\tlearn: 0.0672225\ttotal: 769ms\tremaining: 150ms\n",
      "837:\tlearn: 0.0671319\ttotal: 770ms\tremaining: 149ms\n",
      "838:\tlearn: 0.0670544\ttotal: 771ms\tremaining: 148ms\n",
      "839:\tlearn: 0.0669192\ttotal: 772ms\tremaining: 147ms\n",
      "840:\tlearn: 0.0668151\ttotal: 773ms\tremaining: 146ms\n",
      "841:\tlearn: 0.0667119\ttotal: 773ms\tremaining: 145ms\n",
      "842:\tlearn: 0.0666599\ttotal: 774ms\tremaining: 144ms\n",
      "843:\tlearn: 0.0665768\ttotal: 775ms\tremaining: 143ms\n",
      "844:\tlearn: 0.0664969\ttotal: 776ms\tremaining: 142ms\n",
      "845:\tlearn: 0.0664615\ttotal: 777ms\tremaining: 141ms\n",
      "846:\tlearn: 0.0663462\ttotal: 777ms\tremaining: 140ms\n",
      "847:\tlearn: 0.0662587\ttotal: 778ms\tremaining: 139ms\n",
      "848:\tlearn: 0.0661585\ttotal: 779ms\tremaining: 139ms\n",
      "849:\tlearn: 0.0660717\ttotal: 780ms\tremaining: 138ms\n",
      "850:\tlearn: 0.0660631\ttotal: 781ms\tremaining: 137ms\n",
      "851:\tlearn: 0.0660533\ttotal: 781ms\tremaining: 136ms\n",
      "852:\tlearn: 0.0659362\ttotal: 782ms\tremaining: 135ms\n",
      "853:\tlearn: 0.0658588\ttotal: 783ms\tremaining: 134ms\n",
      "854:\tlearn: 0.0657146\ttotal: 784ms\tremaining: 133ms\n",
      "855:\tlearn: 0.0655712\ttotal: 785ms\tremaining: 132ms\n",
      "856:\tlearn: 0.0654329\ttotal: 785ms\tremaining: 131ms\n",
      "857:\tlearn: 0.0653583\ttotal: 786ms\tremaining: 130ms\n",
      "858:\tlearn: 0.0652432\ttotal: 787ms\tremaining: 129ms\n",
      "859:\tlearn: 0.0651830\ttotal: 788ms\tremaining: 128ms\n",
      "860:\tlearn: 0.0650971\ttotal: 789ms\tremaining: 127ms\n",
      "861:\tlearn: 0.0650331\ttotal: 790ms\tremaining: 126ms\n",
      "862:\tlearn: 0.0649376\ttotal: 790ms\tremaining: 125ms\n",
      "863:\tlearn: 0.0648116\ttotal: 791ms\tremaining: 125ms\n",
      "864:\tlearn: 0.0646718\ttotal: 792ms\tremaining: 124ms\n",
      "865:\tlearn: 0.0645474\ttotal: 794ms\tremaining: 123ms\n",
      "866:\tlearn: 0.0643907\ttotal: 794ms\tremaining: 122ms\n",
      "867:\tlearn: 0.0643831\ttotal: 795ms\tremaining: 121ms\n",
      "868:\tlearn: 0.0642958\ttotal: 796ms\tremaining: 120ms\n",
      "869:\tlearn: 0.0642680\ttotal: 797ms\tremaining: 119ms\n",
      "870:\tlearn: 0.0642577\ttotal: 798ms\tremaining: 118ms\n",
      "871:\tlearn: 0.0641809\ttotal: 798ms\tremaining: 117ms\n",
      "872:\tlearn: 0.0640767\ttotal: 799ms\tremaining: 116ms\n",
      "873:\tlearn: 0.0639195\ttotal: 800ms\tremaining: 115ms\n",
      "874:\tlearn: 0.0638949\ttotal: 801ms\tremaining: 114ms\n",
      "875:\tlearn: 0.0638115\ttotal: 802ms\tremaining: 113ms\n",
      "876:\tlearn: 0.0637251\ttotal: 802ms\tremaining: 113ms\n",
      "877:\tlearn: 0.0635943\ttotal: 803ms\tremaining: 112ms\n",
      "878:\tlearn: 0.0635082\ttotal: 804ms\tremaining: 111ms\n",
      "879:\tlearn: 0.0634304\ttotal: 805ms\tremaining: 110ms\n",
      "880:\tlearn: 0.0634216\ttotal: 806ms\tremaining: 109ms\n",
      "881:\tlearn: 0.0633179\ttotal: 806ms\tremaining: 108ms\n",
      "882:\tlearn: 0.0631970\ttotal: 807ms\tremaining: 107ms\n",
      "883:\tlearn: 0.0631341\ttotal: 808ms\tremaining: 106ms\n",
      "884:\tlearn: 0.0630234\ttotal: 809ms\tremaining: 105ms\n",
      "885:\tlearn: 0.0629945\ttotal: 810ms\tremaining: 104ms\n",
      "886:\tlearn: 0.0629216\ttotal: 810ms\tremaining: 103ms\n",
      "887:\tlearn: 0.0627550\ttotal: 811ms\tremaining: 102ms\n",
      "888:\tlearn: 0.0626418\ttotal: 812ms\tremaining: 101ms\n",
      "889:\tlearn: 0.0625810\ttotal: 813ms\tremaining: 100ms\n",
      "890:\tlearn: 0.0625011\ttotal: 814ms\tremaining: 99.5ms\n",
      "891:\tlearn: 0.0623837\ttotal: 814ms\tremaining: 98.6ms\n",
      "892:\tlearn: 0.0622176\ttotal: 815ms\tremaining: 97.7ms\n",
      "893:\tlearn: 0.0620979\ttotal: 816ms\tremaining: 96.7ms\n",
      "894:\tlearn: 0.0620615\ttotal: 817ms\tremaining: 95.8ms\n",
      "895:\tlearn: 0.0619875\ttotal: 818ms\tremaining: 94.9ms\n",
      "896:\tlearn: 0.0618829\ttotal: 818ms\tremaining: 94ms\n",
      "897:\tlearn: 0.0617758\ttotal: 819ms\tremaining: 93.1ms\n",
      "898:\tlearn: 0.0616958\ttotal: 820ms\tremaining: 92.1ms\n",
      "899:\tlearn: 0.0615834\ttotal: 821ms\tremaining: 91.2ms\n",
      "900:\tlearn: 0.0614808\ttotal: 822ms\tremaining: 90.3ms\n",
      "901:\tlearn: 0.0613702\ttotal: 823ms\tremaining: 89.4ms\n",
      "902:\tlearn: 0.0612858\ttotal: 823ms\tremaining: 88.5ms\n",
      "903:\tlearn: 0.0611611\ttotal: 824ms\tremaining: 87.5ms\n",
      "904:\tlearn: 0.0611521\ttotal: 825ms\tremaining: 86.6ms\n",
      "905:\tlearn: 0.0611226\ttotal: 826ms\tremaining: 85.7ms\n",
      "906:\tlearn: 0.0610358\ttotal: 827ms\tremaining: 84.8ms\n",
      "907:\tlearn: 0.0610279\ttotal: 827ms\tremaining: 83.8ms\n",
      "908:\tlearn: 0.0609324\ttotal: 828ms\tremaining: 82.9ms\n",
      "909:\tlearn: 0.0608296\ttotal: 829ms\tremaining: 82ms\n",
      "910:\tlearn: 0.0606757\ttotal: 830ms\tremaining: 81.1ms\n",
      "911:\tlearn: 0.0605626\ttotal: 831ms\tremaining: 80.2ms\n",
      "912:\tlearn: 0.0604627\ttotal: 832ms\tremaining: 79.3ms\n",
      "913:\tlearn: 0.0604323\ttotal: 833ms\tremaining: 78.3ms\n",
      "914:\tlearn: 0.0603534\ttotal: 833ms\tremaining: 77.4ms\n",
      "915:\tlearn: 0.0602899\ttotal: 834ms\tremaining: 76.5ms\n",
      "916:\tlearn: 0.0602016\ttotal: 835ms\tremaining: 75.6ms\n",
      "917:\tlearn: 0.0600822\ttotal: 836ms\tremaining: 74.6ms\n",
      "918:\tlearn: 0.0599812\ttotal: 836ms\tremaining: 73.7ms\n",
      "919:\tlearn: 0.0599139\ttotal: 837ms\tremaining: 72.8ms\n",
      "920:\tlearn: 0.0598739\ttotal: 838ms\tremaining: 71.9ms\n",
      "921:\tlearn: 0.0597987\ttotal: 839ms\tremaining: 71ms\n",
      "922:\tlearn: 0.0597925\ttotal: 840ms\tremaining: 70ms\n",
      "923:\tlearn: 0.0596819\ttotal: 840ms\tremaining: 69.1ms\n",
      "924:\tlearn: 0.0596051\ttotal: 841ms\tremaining: 68.2ms\n",
      "925:\tlearn: 0.0595231\ttotal: 842ms\tremaining: 67.3ms\n",
      "926:\tlearn: 0.0595154\ttotal: 843ms\tremaining: 66.4ms\n",
      "927:\tlearn: 0.0593668\ttotal: 844ms\tremaining: 65.5ms\n",
      "928:\tlearn: 0.0592763\ttotal: 845ms\tremaining: 64.5ms\n",
      "929:\tlearn: 0.0591846\ttotal: 845ms\tremaining: 63.6ms\n",
      "930:\tlearn: 0.0590679\ttotal: 846ms\tremaining: 62.7ms\n",
      "931:\tlearn: 0.0589806\ttotal: 847ms\tremaining: 61.8ms\n",
      "932:\tlearn: 0.0588974\ttotal: 848ms\tremaining: 60.9ms\n",
      "933:\tlearn: 0.0588061\ttotal: 849ms\tremaining: 60ms\n",
      "934:\tlearn: 0.0586813\ttotal: 849ms\tremaining: 59ms\n",
      "935:\tlearn: 0.0586347\ttotal: 850ms\tremaining: 58.1ms\n",
      "936:\tlearn: 0.0585517\ttotal: 851ms\tremaining: 57.2ms\n",
      "937:\tlearn: 0.0585426\ttotal: 852ms\tremaining: 56.3ms\n",
      "938:\tlearn: 0.0584307\ttotal: 853ms\tremaining: 55.4ms\n",
      "939:\tlearn: 0.0584221\ttotal: 854ms\tremaining: 54.5ms\n",
      "940:\tlearn: 0.0583601\ttotal: 854ms\tremaining: 53.6ms\n",
      "941:\tlearn: 0.0582961\ttotal: 855ms\tremaining: 52.6ms\n",
      "942:\tlearn: 0.0582311\ttotal: 856ms\tremaining: 51.7ms\n",
      "943:\tlearn: 0.0581315\ttotal: 857ms\tremaining: 50.8ms\n",
      "944:\tlearn: 0.0580188\ttotal: 857ms\tremaining: 49.9ms\n",
      "945:\tlearn: 0.0579386\ttotal: 858ms\tremaining: 49ms\n",
      "946:\tlearn: 0.0578457\ttotal: 859ms\tremaining: 48.1ms\n",
      "947:\tlearn: 0.0578002\ttotal: 860ms\tremaining: 47.2ms\n",
      "948:\tlearn: 0.0576942\ttotal: 861ms\tremaining: 46.3ms\n",
      "949:\tlearn: 0.0576471\ttotal: 862ms\tremaining: 45.3ms\n",
      "950:\tlearn: 0.0575849\ttotal: 863ms\tremaining: 44.4ms\n",
      "951:\tlearn: 0.0574968\ttotal: 863ms\tremaining: 43.5ms\n",
      "952:\tlearn: 0.0574181\ttotal: 864ms\tremaining: 42.6ms\n",
      "953:\tlearn: 0.0573755\ttotal: 865ms\tremaining: 41.7ms\n",
      "954:\tlearn: 0.0573204\ttotal: 866ms\tremaining: 40.8ms\n",
      "955:\tlearn: 0.0572524\ttotal: 867ms\tremaining: 39.9ms\n",
      "956:\tlearn: 0.0572074\ttotal: 867ms\tremaining: 39ms\n",
      "957:\tlearn: 0.0571332\ttotal: 868ms\tremaining: 38.1ms\n"
     ]
    },
    {
     "name": "stdout",
     "output_type": "stream",
     "text": [
      "958:\tlearn: 0.0570341\ttotal: 869ms\tremaining: 37.2ms\n",
      "959:\tlearn: 0.0570272\ttotal: 870ms\tremaining: 36.3ms\n",
      "960:\tlearn: 0.0569371\ttotal: 871ms\tremaining: 35.3ms\n",
      "961:\tlearn: 0.0569220\ttotal: 872ms\tremaining: 34.4ms\n",
      "962:\tlearn: 0.0567988\ttotal: 873ms\tremaining: 33.5ms\n",
      "963:\tlearn: 0.0567266\ttotal: 873ms\tremaining: 32.6ms\n",
      "964:\tlearn: 0.0567042\ttotal: 874ms\tremaining: 31.7ms\n",
      "965:\tlearn: 0.0566053\ttotal: 875ms\tremaining: 30.8ms\n",
      "966:\tlearn: 0.0565156\ttotal: 876ms\tremaining: 29.9ms\n",
      "967:\tlearn: 0.0565073\ttotal: 877ms\tremaining: 29ms\n",
      "968:\tlearn: 0.0564095\ttotal: 877ms\tremaining: 28.1ms\n",
      "969:\tlearn: 0.0563432\ttotal: 878ms\tremaining: 27.2ms\n",
      "970:\tlearn: 0.0562731\ttotal: 879ms\tremaining: 26.3ms\n",
      "971:\tlearn: 0.0561693\ttotal: 880ms\tremaining: 25.3ms\n",
      "972:\tlearn: 0.0560471\ttotal: 881ms\tremaining: 24.4ms\n",
      "973:\tlearn: 0.0559671\ttotal: 882ms\tremaining: 23.5ms\n",
      "974:\tlearn: 0.0558963\ttotal: 883ms\tremaining: 22.6ms\n",
      "975:\tlearn: 0.0557944\ttotal: 883ms\tremaining: 21.7ms\n",
      "976:\tlearn: 0.0557089\ttotal: 884ms\tremaining: 20.8ms\n",
      "977:\tlearn: 0.0556197\ttotal: 885ms\tremaining: 19.9ms\n",
      "978:\tlearn: 0.0555859\ttotal: 886ms\tremaining: 19ms\n",
      "979:\tlearn: 0.0555043\ttotal: 887ms\tremaining: 18.1ms\n",
      "980:\tlearn: 0.0554029\ttotal: 887ms\tremaining: 17.2ms\n",
      "981:\tlearn: 0.0552915\ttotal: 888ms\tremaining: 16.3ms\n",
      "982:\tlearn: 0.0551950\ttotal: 889ms\tremaining: 15.4ms\n",
      "983:\tlearn: 0.0551421\ttotal: 890ms\tremaining: 14.5ms\n",
      "984:\tlearn: 0.0551357\ttotal: 890ms\tremaining: 13.6ms\n",
      "985:\tlearn: 0.0550489\ttotal: 891ms\tremaining: 12.7ms\n",
      "986:\tlearn: 0.0549918\ttotal: 892ms\tremaining: 11.8ms\n",
      "987:\tlearn: 0.0549755\ttotal: 893ms\tremaining: 10.8ms\n",
      "988:\tlearn: 0.0548815\ttotal: 894ms\tremaining: 9.94ms\n",
      "989:\tlearn: 0.0548023\ttotal: 895ms\tremaining: 9.04ms\n",
      "990:\tlearn: 0.0547056\ttotal: 896ms\tremaining: 8.13ms\n",
      "991:\tlearn: 0.0546830\ttotal: 896ms\tremaining: 7.23ms\n",
      "992:\tlearn: 0.0546648\ttotal: 897ms\tremaining: 6.33ms\n",
      "993:\tlearn: 0.0546013\ttotal: 898ms\tremaining: 5.42ms\n",
      "994:\tlearn: 0.0545358\ttotal: 899ms\tremaining: 4.52ms\n",
      "995:\tlearn: 0.0544744\ttotal: 900ms\tremaining: 3.61ms\n",
      "996:\tlearn: 0.0543845\ttotal: 901ms\tremaining: 2.71ms\n",
      "997:\tlearn: 0.0543181\ttotal: 902ms\tremaining: 1.81ms\n",
      "998:\tlearn: 0.0542967\ttotal: 902ms\tremaining: 903us\n",
      "999:\tlearn: 0.0541894\ttotal: 903ms\tremaining: 0us\n"
     ]
    },
    {
     "data": {
      "text/plain": [
       "<catboost.core.CatBoostRegressor at 0x7fb83b098d00>"
      ]
     },
     "execution_count": 9,
     "metadata": {},
     "output_type": "execute_result"
    }
   ],
   "source": [
    "#Train the Model \n",
    "prior_model = ctb.CatBoostRegressor()\n",
    "prior_model.fit(X_train,Y_train)"
   ]
  },
  {
   "cell_type": "code",
   "execution_count": 10,
   "id": "af65dcda",
   "metadata": {
    "execution": {
     "iopub.execute_input": "2022-03-11T09:46:39.928390Z",
     "iopub.status.busy": "2022-03-11T09:46:39.927998Z",
     "iopub.status.idle": "2022-03-11T09:46:39.935906Z",
     "shell.execute_reply": "2022-03-11T09:46:39.936150Z"
    },
    "id": "af65dcda",
    "papermill": {
     "duration": 0.021322,
     "end_time": "2022-03-11T09:46:39.936269",
     "exception": false,
     "start_time": "2022-03-11T09:46:39.914947",
     "status": "completed"
    },
    "tags": []
   },
   "outputs": [
    {
     "data": {
      "application/scrapbook.scrap.json+json": {
       "data": 0.0708512180305867,
       "encoder": "json",
       "name": "Prior Model MSE",
       "version": 1
      }
     },
     "metadata": {
      "scrapbook": {
       "data": true,
       "display": false,
       "name": "Prior Model MSE"
      }
     },
     "output_type": "display_data"
    },
    {
     "data": {
      "application/scrapbook.scrap.json+json": {
       "data": 0.07124489296666509,
       "encoder": "json",
       "name": "ABC Pre-generator MSE",
       "version": 1
      }
     },
     "metadata": {
      "scrapbook": {
       "data": true,
       "display": false,
       "name": "ABC Pre-generator MSE"
      }
     },
     "output_type": "display_data"
    },
    {
     "data": {
      "application/scrapbook.scrap.json+json": {
       "data": 0.19719308533100813,
       "encoder": "json",
       "name": "Prior Model MAE",
       "version": 1
      }
     },
     "metadata": {
      "scrapbook": {
       "data": true,
       "display": false,
       "name": "Prior Model MAE"
      }
     },
     "output_type": "display_data"
    },
    {
     "data": {
      "application/scrapbook.scrap.json+json": {
       "data": 0.1981431510489731,
       "encoder": "json",
       "name": "ABC Pre-generator MAE",
       "version": 1
      }
     },
     "metadata": {
      "scrapbook": {
       "data": true,
       "display": false,
       "name": "ABC Pre-generator MAE"
      }
     },
     "output_type": "display_data"
    }
   ],
   "source": [
    "y_pred = prior_model.predict(X_test)\n",
    "y_abc = y_pred + np.random.normal(0,variance, y_pred.shape)\n",
    "mse = mean_squared_error(y_pred,Y_test)\n",
    "sb.glue(\"Prior Model MSE\",mse)\n",
    "mse = mean_squared_error(y_abc,Y_test)\n",
    "sb.glue(\"ABC Pre-generator MSE\",mse)\n",
    "\n",
    "mae = mean_absolute_error(y_pred,Y_test)\n",
    "sb.glue(\"Prior Model MAE\",mae)\n",
    "mae = mean_absolute_error(y_abc,Y_test)\n",
    "sb.glue(\"ABC Pre-generator MAE\",mae)"
   ]
  },
  {
   "cell_type": "markdown",
   "id": "25609da2",
   "metadata": {
    "papermill": {
     "duration": 0.009801,
     "end_time": "2022-03-11T09:46:39.956285",
     "exception": false,
     "start_time": "2022-03-11T09:46:39.946484",
     "status": "completed"
    },
    "tags": []
   },
   "source": [
    "# ABC GAN Model"
   ]
  },
  {
   "cell_type": "code",
   "execution_count": 11,
   "id": "dfc3464d",
   "metadata": {
    "execution": {
     "iopub.execute_input": "2022-03-11T09:46:39.978990Z",
     "iopub.status.busy": "2022-03-11T09:46:39.978602Z",
     "iopub.status.idle": "2022-03-11T09:46:39.981305Z",
     "shell.execute_reply": "2022-03-11T09:46:39.981557Z"
    },
    "papermill": {
     "duration": 0.01559,
     "end_time": "2022-03-11T09:46:39.981670",
     "exception": false,
     "start_time": "2022-03-11T09:46:39.966080",
     "status": "completed"
    },
    "tags": []
   },
   "outputs": [],
   "source": [
    "gen = network.Generator(n_features+1).to(device)\n",
    "disc = network.Discriminator(n_features+1).to(device)\n",
    "\n",
    "criterion = torch.nn.BCELoss()\n",
    "gen_opt = torch.optim.Adam(gen.parameters(), lr=0.001, betas=(0.5, 0.999))\n",
    "disc_opt = torch.optim.Adam(disc.parameters(), lr=0.001, betas=(0.5, 0.999))"
   ]
  },
  {
   "cell_type": "code",
   "execution_count": 12,
   "id": "b75fdd85",
   "metadata": {
    "execution": {
     "iopub.execute_input": "2022-03-11T09:46:40.004136Z",
     "iopub.status.busy": "2022-03-11T09:46:40.003756Z",
     "iopub.status.idle": "2022-03-11T09:47:16.399826Z",
     "shell.execute_reply": "2022-03-11T09:47:16.400145Z"
    },
    "papermill": {
     "duration": 36.408473,
     "end_time": "2022-03-11T09:47:16.400278",
     "exception": false,
     "start_time": "2022-03-11T09:46:39.991805",
     "status": "completed"
    },
    "tags": []
   },
   "outputs": [
    {
     "data": {
      "image/png": "[encoded data removed]",
      "text/plain": [
       "<Figure size 432x288 with 1 Axes>"
      ]
     },
     "metadata": {
      "needs_background": "light"
     },
     "output_type": "display_data"
    },
    {
     "data": {
      "image/png": "[encoded data removed]",
      "text/plain": [
       "<Figure size 432x288 with 1 Axes>"
      ]
     },
     "metadata": {
      "needs_background": "light"
     },
     "output_type": "display_data"
    }
   ],
   "source": [
    "#Training the ABC_GAN \n",
    "ABC_train_test2.training_GAN(disc,gen,disc_opt,gen_opt,train_data,batch_size,n_epochs,criterion,prior_model,variance,0,device)"
   ]
  },
  {
   "cell_type": "code",
   "execution_count": 13,
   "id": "1fa7c368",
   "metadata": {
    "execution": {
     "iopub.execute_input": "2022-03-11T09:47:16.424460Z",
     "iopub.status.busy": "2022-03-11T09:47:16.424069Z",
     "iopub.status.idle": "2022-03-11T09:47:16.727947Z",
     "shell.execute_reply": "2022-03-11T09:47:16.728368Z"
    },
    "papermill": {
     "duration": 0.317281,
     "end_time": "2022-03-11T09:47:16.728498",
     "exception": false,
     "start_time": "2022-03-11T09:47:16.411217",
     "status": "completed"
    },
    "tags": []
   },
   "outputs": [
    {
     "data": {
      "application/scrapbook.scrap.json+json": {
       "data": 0.07478659995707504,
       "encoder": "json",
       "name": "ABC-GAN Model 1 MSE",
       "version": 1
      }
     },
     "metadata": {
      "scrapbook": {
       "data": true,
       "display": false,
       "name": "ABC-GAN Model 1 MSE"
      }
     },
     "output_type": "display_data"
    },
    {
     "data": {
      "application/scrapbook.scrap.json+json": {
       "data": 0.20751436792040134,
       "encoder": "json",
       "name": "ABC-GAN Model 1 MAE",
       "version": 1
      }
     },
     "metadata": {
      "scrapbook": {
       "data": true,
       "display": false,
       "name": "ABC-GAN Model 1 MAE"
      }
     },
     "output_type": "display_data"
    },
    {
     "data": {
      "application/scrapbook.scrap.json+json": {
       "data": 21.166465527880938,
       "encoder": "json",
       "name": "ABC-GAN Model 1 Manhattan Distance",
       "version": 1
      }
     },
     "metadata": {
      "scrapbook": {
       "data": true,
       "display": false,
       "name": "ABC-GAN Model 1 Manhattan Distance"
      }
     },
     "output_type": "display_data"
    },
    {
     "data": {
      "application/scrapbook.scrap.json+json": {
       "data": 2.7619044266121437,
       "encoder": "json",
       "name": "ABC-GAN Model 1 Euclidean distance",
       "version": 1
      }
     },
     "metadata": {
      "scrapbook": {
       "data": true,
       "display": false,
       "name": "ABC-GAN Model 1 Euclidean distance"
      }
     },
     "output_type": "display_data"
    },
    {
     "data": {
      "application/scrapbook.scrap.json+json": {
       "data": [
        [
         0.0749838006722469,
         0.07559371928323523,
         0.07384532982452238,
         0.0750121794093595,
         0.07414578891717409,
         0.07500506544519171,
         0.07579522850377289,
         0.0742774967304403,
         0.0744067059050596,
         0.07432161551450965,
         0.07462991423535129,
         0.0747810866224703,
         0.07364618343955973,
         0.07462236063004049,
         0.0749589562992072,
         0.07459836011621926,
         0.07562316048021182,
         0.07409141095041784,
         0.07474209314958967,
         0.07425270782933727,
         0.07456201581473483,
         0.07375683744373004,
         0.07453006941818466,
         0.0747075689451972,
         0.07438008368861361,
         0.07398594401376922,
         0.07413769474437032,
         0.07501101820017739,
         0.07504577381580586,
         0.07498529868068955,
         0.07429335153183546,
         0.07473929199114256,
         0.07464925219370601,
         0.07457734865142358,
         0.075786848807201,
         0.07452869509721599,
         0.07441266456225575,
         0.07490558841302063,
         0.07494775424394189,
         0.07567517672240237,
         0.07473710532844509,
         0.07508284638508982,
         0.07472522757727373,
         0.07480777072110602,
         0.073491832987334,
         0.07473027852285717,
         0.07477990910843815,
         0.07469032697199524,
         0.0748435275051342,
         0.0762129957193907,
         0.07463551055937673,
         0.07605170298805342,
         0.07509157309720603,
         0.07423154814020017,
         0.07487458137535145,
         0.07484499273245215,
         0.07469576856941867,
         0.07477486841482456,
         0.07487004848050956,
         0.07476910976660686,
         0.0754213284759322,
         0.07488633050212029,
         0.07438232075037365,
         0.07432372039226062,
         0.07415684027105862,
         0.07479830408633166,
         0.07475221729515613,
         0.07509335171169877,
         0.07438110343265696,
         0.07686655792620598,
         0.07461732354510374,
         0.07448042573800762,
         0.07460083115376982,
         0.07440540207052763,
         0.07503546722276659,
         0.07450231129023513,
         0.07610072955134226,
         0.07415181332905907,
         0.07554333237427965,
         0.0749117842235705,
         0.07472699039458397,
         0.07534770474908506,
         0.07450813479652343,
         0.07447604194796949,
         0.07451923060186824,
         0.07529210140509804,
         0.07605405225056604,
         0.07456144327870214,
         0.074738397493093,
         0.07541842435805951,
         0.07516558418283666,
         0.07530017376653549,
         0.07466556131947788,
         0.07618578425584782,
         0.07388965995354739,
         0.07414062333190226,
         0.07469001981191221,
         0.07464821662321115,
         0.07365773651633277,
         0.07536965343949628
        ],
        [
         0.20680089798007234,
         0.20882110720427305,
         0.2071852836958772,
         0.20810113871908364,
         0.20753343926523538,
         0.20704402430348245,
         0.20943392344805248,
         0.20700029790511026,
         0.20714232036113447,
         0.20647626058837654,
         0.20786055921595178,
         0.20735300871927073,
         0.2070168025481204,
         0.20754486894892418,
         0.20795068633286098,
         0.20820722830317476,
         0.2084079959941115,
         0.2067920508173605,
         0.20605349211095303,
         0.20712625517455094,
         0.2081370257918595,
         0.20630366339658698,
         0.20826654295966612,
         0.20849391495735914,
         0.20637968829924278,
         0.20658186254292435,
         0.20683051400142266,
         0.2085659145194964,
         0.20687270220186488,
         0.2067496924588055,
         0.20719943645720681,
         0.20786244492503067,
         0.20778819979807617,
         0.2069053905468215,
         0.20827066462815685,
         0.20728607460235557,
         0.20724607842481313,
         0.20700460739032017,
         0.20824599765496804,
         0.20882199075547794,
         0.20740809232252194,
         0.2080494552102013,
         0.2067187167430187,
         0.20852494684468006,
         0.20626124988912659,
         0.2074897551598648,
         0.20809240521424832,
         0.20713982160440556,
         0.2072450149822615,
         0.20813007633585265,
         0.20731612949577324,
         0.2106692445756612,
         0.20817195305454672,
         0.2066664358180966,
         0.20774251451788872,
         0.2063963223960908,
         0.2062825779978405,
         0.20746587935433375,
         0.20589037340901353,
         0.20784510685788357,
         0.20786839485278025,
         0.20556117686461292,
         0.2080609636180395,
         0.20689153758005477,
         0.20699685091591058,
         0.2074474965623927,
         0.2064412366872763,
         0.2081991128678269,
         0.20745862891678424,
         0.21035839809908294,
         0.2063140472050245,
         0.2062879682372452,
         0.20667886064734822,
         0.20708275205620072,
         0.20821437594827777,
         0.20788710315109177,
         0.2076255624072955,
         0.2057697612189633,
         0.2082106584555232,
         0.20830411733329005,
         0.20758394034141125,
         0.20894444597811968,
         0.20712042814485876,
         0.2082146756515345,
         0.20612499829126046,
         0.20773946529473453,
         0.20895130334275902,
         0.20755344716028548,
         0.20826699850423372,
         0.20803856330138504,
         0.20796238712272516,
         0.20856480978831066,
         0.20801614461393625,
         0.2100051258252386,
         0.20651604334695958,
         0.2073126275220192,
         0.20659527786112591,
         0.20666148094460368,
         0.20619791555309705,
         0.20823759009477263
        ],
        [
         21.093691593967378,
         21.29975293483585,
         21.132898936979473,
         21.22631614934653,
         21.16841080505401,
         21.11849047895521,
         21.362260191701353,
         21.114030386321247,
         21.128516676835716,
         21.060578580014408,
         21.201777040027082,
         21.150006889365613,
         21.115713859908283,
         21.169576632790267,
         21.210970005951822,
         21.237137286923826,
         21.25761559139937,
         21.09278918337077,
         21.01745619531721,
         21.126878027804196,
         21.22997663076967,
         21.04297366645187,
         21.243187381885946,
         21.266379325650632,
         21.050728206522763,
         21.071349979378283,
         21.09671242814511,
         21.273723280988634,
         21.101015624590218,
         21.08846863079816,
         21.134342518635094,
         21.201969382353127,
         21.19439637940377,
         21.104349835775793,
         21.243607792071998,
         21.143179609440267,
         21.139099999330938,
         21.11446995381266,
         21.24109176080674,
         21.29984305705875,
         21.155625416897237,
         21.221044431440532,
         21.085309107787907,
         21.269544578157365,
         21.038647488690913,
         21.163955026306212,
         21.22542533185333,
         21.128261803649366,
         21.138991528190672,
         21.22926778625697,
         21.14624520856887,
         21.48826294671744,
         21.233539211563766,
         21.079976453445852,
         21.18973648082465,
         21.052424884401262,
         21.04082295577973,
         21.161519694142044,
         21.00081808771938,
         21.200200899504125,
         21.202576274983585,
         20.967240040190518,
         21.22221828904003,
         21.102936833165586,
         21.113678793422878,
         21.159644649364054,
         21.057006142102182,
         21.236309512518346,
         21.160780149511993,
         21.45655660610646,
         21.044032814912498,
         21.04137276019901,
         21.081243786029518,
         21.122440709732473,
         21.23786634672433,
         21.20448452141136,
         21.17780736554414,
         20.988515644334257,
         21.237487162463367,
         21.247019967995584,
         21.17356191482395,
         21.312333489768207,
         21.126283670775592,
         21.23789691645652,
         21.024749825708568,
         21.18942546006292,
         21.31303294096142,
         21.17045161034912,
         21.24323384743184,
         21.219933456741273,
         21.212163486517966,
         21.273610598407686,
         21.217646750621498,
         21.420522834174335,
         21.064636421389878,
         21.145888007245958,
         21.072718341834843,
         21.079471056349576,
         21.0321873864159,
         21.240234189666808
        ],
        [
         2.7655646202121518,
         2.7767893990884494,
         2.7444896870094597,
         2.766087905283321,
         2.7500673572754097,
         2.7659567378051224,
         2.7804879621003273,
         2.752508794991382,
         2.7549018135527223,
         2.7533261307879933,
         2.759030853761123,
         2.7618238241227426,
         2.7407865131810416,
         2.758891223710012,
         2.765106425170491,
         2.758447522041042,
         2.7773300792274593,
         2.749058732901612,
         2.7611036744856476,
         2.752049454241766,
         2.757775482722071,
         2.742844767620009,
         2.757184629410014,
         2.760465908575962,
         2.754408926836861,
         2.747101434130975,
         2.7499172467413944,
         2.766066495299434,
         2.7667072359055624,
         2.765592244968577,
         2.752802545815303,
         2.76105193415418,
         2.7593882879649274,
         2.7580590208415057,
         2.7803342565839997,
         2.757159208300462,
         2.7550121207265286,
         2.7641219253368874,
         2.7648998052157463,
         2.778285087186886,
         2.7610115435291824,
         2.767390527424556,
         2.760792135036957,
         2.762316530297137,
         2.7379128847916374,
         2.760885439371114,
         2.7618020799942724,
         2.760147342288725,
         2.7629766205170263,
         2.7881401620754027,
         2.759134298481396,
         2.7851882709758504,
         2.767551346572456,
         2.7516573024816178,
         2.7635497643946723,
         2.7630036660688884,
         2.760247886346569,
         2.7617089959501713,
         2.763466110704449,
         2.761602649946929,
         2.7736213700765076,
         2.7637665804507208,
         2.7544503474446786,
         2.753365119269615,
         2.7502722970004223,
         2.7621417445174368,
         2.761290669977705,
         2.767584122405907,
         2.754427808117506,
         2.800069447080377,
         2.7587981081624258,
         2.7562662108868903,
         2.758493207837301,
         2.754877676266919,
         2.76651724316372,
         2.756671135918099,
         2.786085859092808,
         2.7501790777263984,
         2.7758638118928896,
         2.7642362400497156,
         2.760824699296854,
         2.772267282281179,
         2.756778872025355,
         2.7561850951438087,
         2.7569841351358115,
         2.7712441868806867,
         2.78523128834173,
         2.7577648946978086,
         2.761035411633738,
         2.773567970056272,
         2.7689148752985053,
         2.7713927408771606,
         2.7596897025909892,
         2.787642371986851,
         2.7453133364448274,
         2.749971559826397,
         2.760141666801732,
         2.759369148114753,
         2.7410014820619746,
         2.7726710318443155
        ]
       ],
       "encoder": "json",
       "name": "ABC_GAN_1 Metrics",
       "version": 1
      }
     },
     "metadata": {
      "scrapbook": {
       "data": true,
       "display": false,
       "name": "ABC_GAN_1 Metrics"
      }
     },
     "output_type": "display_data"
    },
    {
     "name": "stdout",
     "output_type": "stream",
     "text": [
      "MSE\n",
      "0.07478659995707504\n"
     ]
    }
   ],
   "source": [
    "ABC_GAN1_metrics=ABC_train_test2.test_generator(gen,test_data,prior_model,variance,0,\"1\",device)\n",
    "sb.glue(\"ABC_GAN_1 Metrics\",ABC_GAN1_metrics)\n",
    "\n",
    "print(\"MSE\")\n",
    "print(mean(ABC_GAN1_metrics[0]))"
   ]
  },
  {
   "cell_type": "code",
   "execution_count": 14,
   "id": "eb22ce5c",
   "metadata": {
    "execution": {
     "iopub.execute_input": "2022-03-11T09:47:16.755779Z",
     "iopub.status.busy": "2022-03-11T09:47:16.755409Z",
     "iopub.status.idle": "2022-03-11T09:47:17.086106Z",
     "shell.execute_reply": "2022-03-11T09:47:17.086412Z"
    },
    "papermill": {
     "duration": 0.345352,
     "end_time": "2022-03-11T09:47:17.086538",
     "exception": false,
     "start_time": "2022-03-11T09:47:16.741186",
     "status": "completed"
    },
    "tags": []
   },
   "outputs": [
    {
     "data": {
      "image/png": "[encoded data removed]",
      "text/plain": [
       "<Figure size 432x288 with 1 Axes>"
      ]
     },
     "metadata": {
      "needs_background": "light"
     },
     "output_type": "display_data"
    },
    {
     "data": {
      "image/png": "[encoded data removed]",
      "text/plain": [
       "<Figure size 432x288 with 1 Axes>"
      ]
     },
     "metadata": {
      "needs_background": "light"
     },
     "output_type": "display_data"
    },
    {
     "data": {
      "image/png": "[encoded data removed]",
      "text/plain": [
       "<Figure size 432x288 with 1 Axes>"
      ]
     },
     "metadata": {
      "needs_background": "light"
     },
     "output_type": "display_data"
    },
    {
     "data": {
      "image/png": "[encoded data removed]",
      "text/plain": [
       "<Figure size 432x288 with 1 Axes>"
      ]
     },
     "metadata": {
      "needs_background": "light"
     },
     "output_type": "display_data"
    }
   ],
   "source": [
    "sanityChecks.discProbVsError(train_data,disc,device)\n",
    "sanityChecks.discProbVsError(test_data,disc,device)"
   ]
  },
  {
   "cell_type": "markdown",
   "id": "130f3a4d",
   "metadata": {
    "id": "130f3a4d",
    "papermill": {
     "duration": 0.014427,
     "end_time": "2022-03-11T09:47:17.116252",
     "exception": false,
     "start_time": "2022-03-11T09:47:17.101825",
     "status": "completed"
    },
    "tags": []
   },
   "source": [
    "# ABC - GAN Model with skip connection"
   ]
  },
  {
   "cell_type": "code",
   "execution_count": 15,
   "id": "4e43dad1",
   "metadata": {
    "execution": {
     "iopub.execute_input": "2022-03-11T09:47:17.148521Z",
     "iopub.status.busy": "2022-03-11T09:47:17.148139Z",
     "iopub.status.idle": "2022-03-11T09:47:17.150729Z",
     "shell.execute_reply": "2022-03-11T09:47:17.150465Z"
    },
    "id": "4e43dad1",
    "papermill": {
     "duration": 0.020096,
     "end_time": "2022-03-11T09:47:17.150834",
     "exception": false,
     "start_time": "2022-03-11T09:47:17.130738",
     "status": "completed"
    },
    "tags": []
   },
   "outputs": [],
   "source": [
    "#Generator\n",
    "gen3 = network.GeneratorWithSkipConnection(n_features+1).to(device)\n",
    "constraints=network.weightConstraint()\n",
    "#Discriminator \n",
    "disc3 = network.Discriminator(n_features+1).to(device)\n",
    "\n",
    "criterion = torch.nn.BCELoss()\n",
    "gen_opt = torch.optim.Adam(gen3.parameters(), lr=0.001, betas=(0.5, 0.999))\n",
    "disc_opt = torch.optim.Adam(disc3.parameters(), lr=0.001, betas=(0.5, 0.999))\n"
   ]
  },
  {
   "cell_type": "code",
   "execution_count": 16,
   "id": "26acbc37",
   "metadata": {
    "execution": {
     "iopub.execute_input": "2022-03-11T09:47:17.182625Z",
     "iopub.status.busy": "2022-03-11T09:47:17.182245Z",
     "iopub.status.idle": "2022-03-11T09:49:49.647373Z",
     "shell.execute_reply": "2022-03-11T09:49:49.647697Z"
    },
    "id": "26acbc37",
    "papermill": {
     "duration": 152.482292,
     "end_time": "2022-03-11T09:49:49.647824",
     "exception": false,
     "start_time": "2022-03-11T09:47:17.165532",
     "status": "completed"
    },
    "tags": []
   },
   "outputs": [
    {
     "data": {
      "image/png": "[encoded data removed]",
      "text/plain": [
       "<Figure size 432x288 with 1 Axes>"
      ]
     },
     "metadata": {
      "needs_background": "light"
     },
     "output_type": "display_data"
    },
    {
     "data": {
      "image/png": "[encoded data removed]",
      "text/plain": [
       "<Figure size 432x288 with 1 Axes>"
      ]
     },
     "metadata": {
      "needs_background": "light"
     },
     "output_type": "display_data"
    }
   ],
   "source": [
    "ABC_train_test2.training_GAN_skip_connection(disc3,gen3,disc_opt,gen_opt,train_data,batch_size,n_epochs,criterion,prior_model,variance,0,device)"
   ]
  },
  {
   "cell_type": "code",
   "execution_count": 17,
   "id": "c5e0717b",
   "metadata": {
    "execution": {
     "iopub.execute_input": "2022-03-11T09:49:49.682396Z",
     "iopub.status.busy": "2022-03-11T09:49:49.682017Z",
     "iopub.status.idle": "2022-03-11T09:49:50.518965Z",
     "shell.execute_reply": "2022-03-11T09:49:50.519272Z"
    },
    "id": "c5e0717b",
    "papermill": {
     "duration": 0.855565,
     "end_time": "2022-03-11T09:49:50.519400",
     "exception": false,
     "start_time": "2022-03-11T09:49:49.663835",
     "status": "completed"
    },
    "tags": []
   },
   "outputs": [
    {
     "data": {
      "application/scrapbook.scrap.json+json": {
       "data": 0.07099660040739558,
       "encoder": "json",
       "name": "ABC-GAN Model 3 MSE",
       "version": 1
      }
     },
     "metadata": {
      "scrapbook": {
       "data": true,
       "display": false,
       "name": "ABC-GAN Model 3 MSE"
      }
     },
     "output_type": "display_data"
    },
    {
     "data": {
      "application/scrapbook.scrap.json+json": {
       "data": 0.1975315496980115,
       "encoder": "json",
       "name": "ABC-GAN Model 3 MAE",
       "version": 1
      }
     },
     "metadata": {
      "scrapbook": {
       "data": true,
       "display": false,
       "name": "ABC-GAN Model 3 MAE"
      }
     },
     "output_type": "display_data"
    },
    {
     "data": {
      "application/scrapbook.scrap.json+json": {
       "data": 20.148218069197174,
       "encoder": "json",
       "name": "ABC-GAN Model 3 Manhattan Distance",
       "version": 1
      }
     },
     "metadata": {
      "scrapbook": {
       "data": true,
       "display": false,
       "name": "ABC-GAN Model 3 Manhattan Distance"
      }
     },
     "output_type": "display_data"
    },
    {
     "data": {
      "application/scrapbook.scrap.json+json": {
       "data": 2.6910177537825053,
       "encoder": "json",
       "name": "ABC-GAN Model 3 Euclidean distance",
       "version": 1
      }
     },
     "metadata": {
      "scrapbook": {
       "data": true,
       "display": false,
       "name": "ABC-GAN Model 3 Euclidean distance"
      }
     },
     "output_type": "display_data"
    },
    {
     "data": {
      "application/scrapbook.scrap.json+json": {
       "data": [
        [
         0.07109912882259053,
         0.07030339601327805,
         0.07094168431961494,
         0.0713534555937268,
         0.07024423749383131,
         0.07007481246085324,
         0.07196297924992821,
         0.07079238529602043,
         0.0705354931105487,
         0.0710459093258766,
         0.07094114931802674,
         0.07112828275492498,
         0.07116405884929083,
         0.07088182432028302,
         0.07061581166957301,
         0.07095229645805745,
         0.07081048173531437,
         0.07097526208131057,
         0.07015715062048919,
         0.07125653546859258,
         0.07161906560584816,
         0.07027362324171386,
         0.07170755411023164,
         0.07108731651563241,
         0.07147989376163795,
         0.07169833980105622,
         0.07087025364845935,
         0.07120812671631213,
         0.07052587417726887,
         0.07066396136172699,
         0.07130761094697152,
         0.07122159363231176,
         0.07107694315432414,
         0.07102208033128385,
         0.07178634494524823,
         0.07129114763411636,
         0.07127518422123977,
         0.07059951741502889,
         0.07100240654638827,
         0.07043481726752947,
         0.07072190430918757,
         0.07074946871162403,
         0.071092188253204,
         0.06984713006040147,
         0.07090281456336296,
         0.07118645620793534,
         0.07128393550988718,
         0.07177678202455183,
         0.07118801031554106,
         0.07098398956475781,
         0.07090092766562363,
         0.07002325855929323,
         0.0708700430878126,
         0.07145788788119946,
         0.07137357949939005,
         0.0700852252977726,
         0.07081216249757069,
         0.07114334109824368,
         0.07079206310666329,
         0.070613471180234,
         0.07083652989410989,
         0.07097962579371764,
         0.07031248706801964,
         0.07139218283377509,
         0.07090574353213984,
         0.07154857599939109,
         0.07050344585544234,
         0.07065236492216052,
         0.07123628948782981,
         0.07183506491025463,
         0.07082238178087563,
         0.07115618602897762,
         0.07093353482160558,
         0.0714832392571209,
         0.07067028158980407,
         0.07106230549034916,
         0.07202477913254621,
         0.07103906439161067,
         0.07128627277424615,
         0.07116822394750304,
         0.07060020283611221,
         0.07129429337771809,
         0.07124554060386605,
         0.07066471536900316,
         0.07077021225109882,
         0.0708998472244932,
         0.07037506723357184,
         0.07174330451811257,
         0.07158114150532506,
         0.07122894189237047,
         0.07053553688217164,
         0.07184626009448339,
         0.07203906517288672,
         0.07131575512040839,
         0.07085125758904891,
         0.07087704123748267,
         0.07049019730117025,
         0.07047835054130658,
         0.07049209137415215,
         0.07129000971257876
        ],
        [
         0.19846392449393285,
         0.1960625840880561,
         0.19840428224814982,
         0.1974843261813672,
         0.1969848983628931,
         0.19739164845725776,
         0.19918748405168527,
         0.19769861658706384,
         0.19687210937377578,
         0.19723191963937864,
         0.1971892796105285,
         0.19767043081411234,
         0.19758930627950558,
         0.19718184319379575,
         0.19630252665785305,
         0.1991130322738386,
         0.19668901729507043,
         0.19717946307911702,
         0.19517358039122293,
         0.19791855686344206,
         0.19796272868053147,
         0.19475368196692536,
         0.1997740912141607,
         0.19725443426446587,
         0.19901287630422945,
         0.19878934596108236,
         0.19693965435155905,
         0.19721528837073812,
         0.19693629453803285,
         0.1960227424004937,
         0.198430712622426,
         0.19827955072818726,
         0.19832284586942373,
         0.19843988540449964,
         0.19920456181360208,
         0.1963660507508572,
         0.19834388209296866,
         0.19691998497286228,
         0.19744641121531673,
         0.19719755864136068,
         0.1964977569604183,
         0.19794708429538993,
         0.19781204504782662,
         0.19568682552370079,
         0.19793096131772972,
         0.19766699766521068,
         0.19858352485678943,
         0.19931211554463588,
         0.19795807754374384,
         0.19754254573718735,
         0.19620667212396203,
         0.1970972755293855,
         0.19671061844108442,
         0.19726899211687565,
         0.19762730947210608,
         0.1951294081729572,
         0.1978710644568006,
         0.19786619388169663,
         0.1975036592578844,
         0.1968772973335695,
         0.19871269695132093,
         0.19717439961637936,
         0.19663826210479088,
         0.19904960482837816,
         0.19731191584986507,
         0.19893771633688434,
         0.19615730896190392,
         0.19721261096442594,
         0.19911881827511915,
         0.19823877345519506,
         0.1973329529841887,
         0.19710548027468772,
         0.1986835831080052,
         0.19782060166528703,
         0.19689858564193927,
         0.19668660574939614,
         0.19971054641977318,
         0.1976583338817399,
         0.197928333324015,
         0.1972048851825735,
         0.1978435243443385,
         0.1980738413997232,
         0.19764863530301727,
         0.19674709934385165,
         0.19745603030291842,
         0.197124031427152,
         0.1949569603003671,
         0.19766443932666353,
         0.1977730026564506,
         0.19942148242547525,
         0.1969600862196553,
         0.19951447608935483,
         0.20000969165223925,
         0.19796719423988285,
         0.19698853168508731,
         0.19674009836036896,
         0.1967138313909755,
         0.1964459344273885,
         0.19533809850234354,
         0.19768812744330397
        ],
        [
         20.24332029838115,
         19.998383576981723,
         20.237236789311282,
         20.143401270499453,
         20.092459633015096,
         20.133948142640293,
         20.317123373271897,
         20.165258891880512,
         20.08095515612513,
         20.11765580321662,
         20.11330652027391,
         20.16238394303946,
         20.15410924050957,
         20.112548005767167,
         20.02285771910101,
         20.30952929193154,
         20.062279764097184,
         20.112305234069936,
         19.90770519990474,
         20.18769280007109,
         20.19219832541421,
         19.864875560626388,
         20.376957303844392,
         20.11995229497552,
         20.299313383031404,
         20.2765132880304,
         20.087844743859023,
         20.11595941381529,
         20.08750204287935,
         19.994319724850357,
         20.239932687487453,
         20.2245141742751,
         20.22893027868122,
         20.240868311258964,
         20.318865304987412,
         20.029337176587433,
         20.231075973482803,
         20.08583846723195,
         20.139533943962306,
         20.11415098141879,
         20.042771209962666,
         20.19060259812977,
         20.176828594878316,
         19.96005620341748,
         20.18895805440843,
         20.16203376185149,
         20.255519535392523,
         20.32983578555286,
         20.19172390946187,
         20.14933966519311,
         20.013080556644127,
         20.10392210399732,
         20.064483080990613,
         20.121437195921317,
         20.15798556615482,
         19.903199633641634,
         20.182848574593663,
         20.182351775933057,
         20.14537324430421,
         20.08148432802409,
         20.268695089034736,
         20.111788760870695,
         20.05710273468867,
         20.30305969249457,
         20.125815416686237,
         20.291647066362202,
         20.0080455141142,
         20.115686318371445,
         20.310119464062154,
         20.220354892429896,
         20.127961204387248,
         20.104758988018148,
         20.26572547701653,
         20.177701369859278,
         20.083655735477805,
         20.062033786438406,
         20.370475734816864,
         20.16115005593747,
         20.18868999904953,
         20.1148982886225,
         20.180039483122528,
         20.203531822771765,
         20.16016080090776,
         20.068204133072868,
         20.14051509089768,
         20.106651205569506,
         19.885609950637445,
         20.16177281131968,
         20.17284627095796,
         20.340991207398474,
         20.08992879440484,
         20.350476561114192,
         20.400988548528403,
         20.192653812468052,
         20.092830231878906,
         20.067490032757632,
         20.064810801879503,
         20.037485311593628,
         19.924486047239043,
         20.164188999217004
        ],
        [
         2.692974403870975,
         2.6778622805055456,
         2.689991040988933,
         2.6977865872896865,
         2.6767353668920637,
         2.673505352717108,
         2.7092847549662764,
         2.6871589644444334,
         2.6822789372613665,
         2.6919663354580443,
         2.68998089778324,
         2.6935264693339,
         2.6942037789721223,
         2.6888559055235493,
         2.6838056543454196,
         2.690192230812114,
         2.68750239758071,
         2.690627572202009,
         2.6750755808555944,
         2.695953749194604,
         2.702803117468328,
         2.6772951967713263,
         2.7044723180767862,
         2.692750691132491,
         2.7001757653321516,
         2.7042985522511622,
         2.6886364336114417,
         2.6950378336980423,
         2.6820960396826625,
         2.684720480589395,
         2.6969197831213103,
         2.695292665091455,
         2.6925542151906727,
         2.6915148511184093,
         2.7059577203672855,
         2.6966084362917555,
         2.696306509016817,
         2.6834959989411105,
         2.691142037821787,
         2.6803640352176057,
         2.6858209619289837,
         2.6863443205564046,
         2.692842958998316,
         2.6691585314778417,
         2.689254001663476,
         2.6946277169971746,
         2.6964720324914353,
         2.705777479118393,
         2.6946571307283578,
         2.690792993822694,
         2.6892182176040698,
         2.672521725458543,
         2.688632439541873,
         2.6997600937643225,
         2.6981669905581795,
         2.673703981440878,
         2.6875342927583654,
         2.69381157322127,
         2.6871528495565062,
         2.6837611779709216,
         2.6879966609352786,
         2.6907102837279226,
         2.6780354144293916,
         2.698518602686492,
         2.689309547128828,
         2.7014727005723915,
         2.6816695317013086,
         2.684500181050538,
         2.695570723939299,
         2.706875804473854,
         2.687728212012761,
         2.6940547460947624,
         2.6898365288254538,
         2.7002389531717985,
         2.6848405394287407,
         2.6922769471240535,
         2.7104478359709696,
         2.6918366532804856,
         2.696516238217954,
         2.694282621152671,
         2.6835090253776763,
         2.696667929969733,
         2.69574574869262,
         2.684734803968228,
         2.6867381058845465,
         2.6891977273711776,
         2.6792269142094565,
         2.70514640284911,
         2.702087421521213,
         2.6954317043883322,
         2.682279769520977,
         2.707086723700832,
         2.710716629903326,
         2.697073788809208,
         2.688276078471664,
         2.6887651824254255,
         2.681417558814622,
         2.681192226456967,
         2.681453583443786,
         2.6965869150989796
        ]
       ],
       "encoder": "json",
       "name": "ABC_GAN_3 Metrics",
       "version": 1
      }
     },
     "metadata": {
      "scrapbook": {
       "data": true,
       "display": false,
       "name": "ABC_GAN_3 Metrics"
      }
     },
     "output_type": "display_data"
    },
    {
     "name": "stdout",
     "output_type": "stream",
     "text": [
      "MSE\n",
      "0.07099660040739558\n"
     ]
    }
   ],
   "source": [
    "ABC_GAN3_metrics=ABC_train_test2.test_generator(gen3,test_data,prior_model,variance,0,\"3\",device)\n",
    "sb.glue(\"ABC_GAN_3 Metrics\",ABC_GAN3_metrics)\n",
    "\n",
    "print(\"MSE\")\n",
    "print(mean(ABC_GAN3_metrics[0]))"
   ]
  },
  {
   "cell_type": "code",
   "execution_count": 18,
   "id": "c8e46b48",
   "metadata": {
    "execution": {
     "iopub.execute_input": "2022-03-11T09:49:50.556041Z",
     "iopub.status.busy": "2022-03-11T09:49:50.555678Z",
     "iopub.status.idle": "2022-03-11T09:49:50.876085Z",
     "shell.execute_reply": "2022-03-11T09:49:50.876409Z"
    },
    "id": "c8e46b48",
    "papermill": {
     "duration": 0.33979,
     "end_time": "2022-03-11T09:49:50.876541",
     "exception": false,
     "start_time": "2022-03-11T09:49:50.536751",
     "status": "completed"
    },
    "tags": []
   },
   "outputs": [
    {
     "data": {
      "image/png": "[encoded data removed]",
      "text/plain": [
       "<Figure size 432x288 with 1 Axes>"
      ]
     },
     "metadata": {
      "needs_background": "light"
     },
     "output_type": "display_data"
    },
    {
     "data": {
      "image/png": "[encoded data removed]",
      "text/plain": [
       "<Figure size 432x288 with 1 Axes>"
      ]
     },
     "metadata": {
      "needs_background": "light"
     },
     "output_type": "display_data"
    },
    {
     "data": {
      "image/png": "[encoded data removed]",
      "text/plain": [
       "<Figure size 432x288 with 1 Axes>"
      ]
     },
     "metadata": {
      "needs_background": "light"
     },
     "output_type": "display_data"
    },
    {
     "data": {
      "image/png": "[encoded data removed]",
      "text/plain": [
       "<Figure size 432x288 with 1 Axes>"
      ]
     },
     "metadata": {
      "needs_background": "light"
     },
     "output_type": "display_data"
    }
   ],
   "source": [
    "sanityChecks.discProbVsError(train_data,disc3,device)\n",
    "sanityChecks.discProbVsError(test_data,disc3,device)"
   ]
  },
  {
   "cell_type": "markdown",
   "id": "a5bd74c3",
   "metadata": {
    "id": "a5bd74c3",
    "papermill": {
     "duration": 0.019335,
     "end_time": "2022-03-11T09:49:50.915894",
     "exception": false,
     "start_time": "2022-03-11T09:49:50.896559",
     "status": "completed"
    },
    "tags": []
   },
   "source": [
    "## Skip Connection Model Analysis - ABC-GAN "
   ]
  },
  {
   "cell_type": "markdown",
   "id": "5744a8bf",
   "metadata": {
    "id": "5744a8bf",
    "papermill": {
     "duration": 0.019491,
     "end_time": "2022-03-11T09:49:50.954636",
     "exception": false,
     "start_time": "2022-03-11T09:49:50.935145",
     "status": "completed"
    },
    "tags": []
   },
   "source": [
    "### Weight Analysis \n",
    "\n",
    "Study the weights of the skip connection layer\n",
    "\n",
    "Equation of the skip connection is \n",
    "\n",
    "$output = y_{gan} * w + y_{abc} * (1-w)$"
   ]
  },
  {
   "cell_type": "code",
   "execution_count": 19,
   "id": "52c31dea",
   "metadata": {
    "execution": {
     "iopub.execute_input": "2022-03-11T09:49:50.997757Z",
     "iopub.status.busy": "2022-03-11T09:49:50.997364Z",
     "iopub.status.idle": "2022-03-11T09:49:51.000514Z",
     "shell.execute_reply": "2022-03-11T09:49:51.000796Z"
    },
    "id": "52c31dea",
    "papermill": {
     "duration": 0.026428,
     "end_time": "2022-03-11T09:49:51.000925",
     "exception": false,
     "start_time": "2022-03-11T09:49:50.974497",
     "status": "completed"
    },
    "tags": []
   },
   "outputs": [
    {
     "name": "stdout",
     "output_type": "stream",
     "text": [
      "Weight of the node at skip connection\n",
      "Parameter containing:\n",
      "tensor([[0.]], requires_grad=True)\n"
     ]
    },
    {
     "data": {
      "application/scrapbook.scrap.json+json": {
       "data": 0.0,
       "encoder": "json",
       "name": "Skip Connection Weight",
       "version": 1
      }
     },
     "metadata": {
      "scrapbook": {
       "data": true,
       "display": false,
       "name": "Skip Connection Weight"
      }
     },
     "output_type": "display_data"
    }
   ],
   "source": [
    "print(\"Weight of the node at skip connection\")\n",
    "for name,param in gen3.named_parameters():\n",
    "    if(name == \"skipNode.weight\"):\n",
    "        print(param)\n",
    "        sb.glue(\"Skip Connection Weight\",param.item())"
   ]
  }
 ],
 "metadata": {
  "colab": {
   "collapsed_sections": [],
   "name": "ABC_GAN_Model-Catboost_Pre-gen.ipynb",
   "provenance": []
  },
  "interpreter": {
   "hash": "31f2aee4e71d21fbe5cf8b01ff0e069b9275f58929596ceb00d14d90e3e16cd6"
  },
  "kernelspec": {
   "display_name": "Python 3 (ipykernel)",
   "language": "python",
   "name": "python3"
  },
  "language_info": {
   "codemirror_mode": {
    "name": "ipython",
    "version": 3
   },
   "file_extension": ".py",
   "mimetype": "text/x-python",
   "name": "python",
   "nbconvert_exporter": "python",
   "pygments_lexer": "ipython3",
   "version": "3.8.11"
  },
  "papermill": {
   "default_parameters": {},
   "duration": 195.339816,
   "end_time": "2022-03-11T09:49:51.328552",
   "environment_variables": {},
   "exception": null,
   "input_path": "ABC_GAN-Catboost.ipynb",
   "output_path": "./ABC_GAN_Catboost/ABC-GAN_output_2_2.ipynb",
   "parameters": {
    "variance": 0.01
   },
   "start_time": "2022-03-11T09:46:35.988736",
   "version": "2.3.3"
  }
 },
 "nbformat": 4,
 "nbformat_minor": 5
}