{
 "cells": [
  {
   "cell_type": "markdown",
   "id": "622780e6",
   "metadata": {
    "id": "622780e6",
    "papermill": {
     "duration": 0.03319,
     "end_time": "2022-03-11T10:35:01.531877",
     "exception": false,
     "start_time": "2022-03-11T10:35:01.498687",
     "status": "completed"
    },
    "tags": []
   },
   "source": [
    "## Import Libraries "
   ]
  },
  {
   "cell_type": "code",
   "execution_count": 1,
   "id": "a62397e3",
   "metadata": {
    "execution": {
     "iopub.execute_input": "2022-03-11T10:35:01.567309Z",
     "iopub.status.busy": "2022-03-11T10:35:01.566753Z",
     "iopub.status.idle": "2022-03-11T10:35:01.569162Z",
     "shell.execute_reply": "2022-03-11T10:35:01.569492Z"
    },
    "id": "a62397e3",
    "papermill": {
     "duration": 0.022168,
     "end_time": "2022-03-11T10:35:01.569703",
     "exception": false,
     "start_time": "2022-03-11T10:35:01.547535",
     "status": "completed"
    },
    "tags": []
   },
   "outputs": [],
   "source": [
    "import warnings\n",
    "import sys\n",
    "sys.path.insert(0, '../../src')\n",
    "warnings.filterwarnings('ignore')"
   ]
  },
  {
   "cell_type": "code",
   "execution_count": 2,
   "id": "d6a4e155",
   "metadata": {
    "execution": {
     "iopub.execute_input": "2022-03-11T10:35:01.589941Z",
     "iopub.status.busy": "2022-03-11T10:35:01.589546Z",
     "iopub.status.idle": "2022-03-11T10:35:03.449610Z",
     "shell.execute_reply": "2022-03-11T10:35:03.449872Z"
    },
    "id": "d6a4e155",
    "papermill": {
     "duration": 1.870917,
     "end_time": "2022-03-11T10:35:03.450001",
     "exception": false,
     "start_time": "2022-03-11T10:35:01.579084",
     "status": "completed"
    },
    "tags": []
   },
   "outputs": [],
   "source": [
    "import ABC_train_test2\n",
    "import bostonDataset\n",
    "import network\n",
    "import dataset\n",
    "import sanityChecks\n",
    "import torch \n",
    "import scrapbook as sb\n",
    "from statistics import mean \n",
    "import catboost as ctb \n",
    "from sklearn.model_selection import train_test_split\n",
    "from sklearn.metrics import mean_squared_error,mean_absolute_error\n",
    "import numpy as np"
   ]
  },
  {
   "cell_type": "markdown",
   "id": "2fa5b0f7",
   "metadata": {
    "id": "2fa5b0f7",
    "papermill": {
     "duration": 0.006761,
     "end_time": "2022-03-11T10:35:03.463822",
     "exception": false,
     "start_time": "2022-03-11T10:35:03.457061",
     "status": "completed"
    },
    "tags": []
   },
   "source": [
    "## Parameters "
   ]
  },
  {
   "cell_type": "code",
   "execution_count": 3,
   "id": "783186fb",
   "metadata": {
    "execution": {
     "iopub.execute_input": "2022-03-11T10:35:03.479317Z",
     "iopub.status.busy": "2022-03-11T10:35:03.478927Z",
     "iopub.status.idle": "2022-03-11T10:35:03.480223Z",
     "shell.execute_reply": "2022-03-11T10:35:03.480475Z"
    },
    "id": "783186fb",
    "papermill": {
     "duration": 0.010131,
     "end_time": "2022-03-11T10:35:03.480585",
     "exception": false,
     "start_time": "2022-03-11T10:35:03.470454",
     "status": "completed"
    },
    "tags": [
     "parameters"
    ]
   },
   "outputs": [],
   "source": [
    "variance = 1"
   ]
  },
  {
   "cell_type": "code",
   "execution_count": 4,
   "id": "93f75705",
   "metadata": {
    "execution": {
     "iopub.execute_input": "2022-03-11T10:35:03.496061Z",
     "iopub.status.busy": "2022-03-11T10:35:03.495692Z",
     "iopub.status.idle": "2022-03-11T10:35:03.496995Z",
     "shell.execute_reply": "2022-03-11T10:35:03.497235Z"
    },
    "papermill": {
     "duration": 0.009894,
     "end_time": "2022-03-11T10:35:03.497338",
     "exception": false,
     "start_time": "2022-03-11T10:35:03.487444",
     "status": "completed"
    },
    "tags": [
     "injected-parameters"
    ]
   },
   "outputs": [],
   "source": [
    "# Parameters\n",
    "variance = 0.01\n"
   ]
  },
  {
   "cell_type": "markdown",
   "id": "391cdbfd",
   "metadata": {
    "id": "391cdbfd",
    "papermill": {
     "duration": 0.006654,
     "end_time": "2022-03-11T10:35:03.510788",
     "exception": false,
     "start_time": "2022-03-11T10:35:03.504134",
     "status": "completed"
    },
    "tags": []
   },
   "source": [
    "## Dataset \n"
   ]
  },
  {
   "cell_type": "code",
   "execution_count": 5,
   "id": "5b51f161",
   "metadata": {
    "execution": {
     "iopub.execute_input": "2022-03-11T10:35:03.526237Z",
     "iopub.status.busy": "2022-03-11T10:35:03.525868Z",
     "iopub.status.idle": "2022-03-11T10:35:03.527061Z",
     "shell.execute_reply": "2022-03-11T10:35:03.527292Z"
    },
    "id": "5b51f161",
    "papermill": {
     "duration": 0.009875,
     "end_time": "2022-03-11T10:35:03.527402",
     "exception": false,
     "start_time": "2022-03-11T10:35:03.517527",
     "status": "completed"
    },
    "tags": []
   },
   "outputs": [],
   "source": [
    "#Parameters \n",
    "n_features = 13\n",
    "n_samples= 506\n",
    "n_target = 1 "
   ]
  },
  {
   "cell_type": "code",
   "execution_count": 6,
   "id": "5d6eced4",
   "metadata": {
    "execution": {
     "iopub.execute_input": "2022-03-11T10:35:03.542883Z",
     "iopub.status.busy": "2022-03-11T10:35:03.542524Z",
     "iopub.status.idle": "2022-03-11T10:35:03.553160Z",
     "shell.execute_reply": "2022-03-11T10:35:03.553395Z"
    },
    "id": "5d6eced4",
    "papermill": {
     "duration": 0.019298,
     "end_time": "2022-03-11T10:35:03.553504",
     "exception": false,
     "start_time": "2022-03-11T10:35:03.534206",
     "status": "completed"
    },
    "tags": []
   },
   "outputs": [
    {
     "name": "stdout",
     "output_type": "stream",
     "text": [
      "         X1        X2        X3        X4        X5        X6        X7  \\\n",
      "0 -0.419782  0.284830 -1.287909 -0.272599 -0.144217  0.413672 -0.120013   \n",
      "1 -0.417339 -0.487722 -0.593381 -0.272599 -0.740262  0.194274  0.367166   \n",
      "2 -0.417342 -0.487722 -0.593381 -0.272599 -0.740262  1.282714 -0.265812   \n",
      "3 -0.416750 -0.487722 -1.306878 -0.272599 -0.835284  1.016303 -0.809889   \n",
      "4 -0.412482 -0.487722 -1.306878 -0.272599 -0.835284  1.228577 -0.511180   \n",
      "\n",
      "         X8        X9       X10       X11       X12       X13         Y  \n",
      "0  0.140214 -0.982843 -0.666608 -1.459000  0.441052 -1.075562  0.159686  \n",
      "1  0.557160 -0.867883 -0.987329 -0.303094  0.441052 -0.492439 -0.101524  \n",
      "2  0.557160 -0.867883 -0.987329 -0.303094  0.396427 -1.208727  1.324247  \n",
      "3  1.077737 -0.752922 -1.106115  0.113032  0.416163 -1.361517  1.182758  \n",
      "4  1.077737 -0.752922 -1.106115  0.113032  0.441052 -1.026501  1.487503  \n"
     ]
    }
   ],
   "source": [
    "X,Y = bostonDataset.boston_data()"
   ]
  },
  {
   "cell_type": "code",
   "execution_count": 7,
   "id": "fe007438",
   "metadata": {
    "execution": {
     "iopub.execute_input": "2022-03-11T10:35:03.570250Z",
     "iopub.status.busy": "2022-03-11T10:35:03.569880Z",
     "iopub.status.idle": "2022-03-11T10:35:03.571666Z",
     "shell.execute_reply": "2022-03-11T10:35:03.571426Z"
    },
    "id": "fe007438",
    "papermill": {
     "duration": 0.011069,
     "end_time": "2022-03-11T10:35:03.571761",
     "exception": false,
     "start_time": "2022-03-11T10:35:03.560692",
     "status": "completed"
    },
    "tags": []
   },
   "outputs": [],
   "source": [
    "#Train test split for dataset \n",
    "X_train,X_test,Y_train,Y_test = train_test_split(X,Y,test_size = 0.2)\n",
    "train_data = dataset.CustomDataset(X_train,Y_train)\n",
    "test_data = dataset.CustomDataset(X_test,Y_test)\n"
   ]
  },
  {
   "cell_type": "markdown",
   "id": "a9a1af34",
   "metadata": {
    "id": "a9a1af34",
    "papermill": {
     "duration": 0.006989,
     "end_time": "2022-03-11T10:35:03.585792",
     "exception": false,
     "start_time": "2022-03-11T10:35:03.578803",
     "status": "completed"
    },
    "tags": []
   },
   "source": [
    "## Training Parameters "
   ]
  },
  {
   "cell_type": "code",
   "execution_count": 8,
   "id": "952b7fc8",
   "metadata": {
    "execution": {
     "iopub.execute_input": "2022-03-11T10:35:03.601972Z",
     "iopub.status.busy": "2022-03-11T10:35:03.601609Z",
     "iopub.status.idle": "2022-03-11T10:35:03.602889Z",
     "shell.execute_reply": "2022-03-11T10:35:03.603194Z"
    },
    "id": "952b7fc8",
    "papermill": {
     "duration": 0.010523,
     "end_time": "2022-03-11T10:35:03.603302",
     "exception": false,
     "start_time": "2022-03-11T10:35:03.592779",
     "status": "completed"
    },
    "tags": []
   },
   "outputs": [],
   "source": [
    "batch_size = 64\n",
    "n_epochs = 1000\n",
    "#Select the device \n",
    "device = torch.device('cuda' if torch.cuda.is_available() else 'cpu')"
   ]
  },
  {
   "cell_type": "markdown",
   "id": "a95e1600",
   "metadata": {
    "id": "a95e1600",
    "papermill": {
     "duration": 0.007019,
     "end_time": "2022-03-11T10:35:03.617478",
     "exception": false,
     "start_time": "2022-03-11T10:35:03.610459",
     "status": "completed"
    },
    "tags": []
   },
   "source": [
    "# ABC Pre-generator Model \n",
    "\n",
    "1. The catboost model is used as a pre-generator model for the ABC-GAN. \n",
    "2. The model is first trained on the entire dataset \n",
    "3. It generats X,Y pairs and we add some Gaussian noise with mean 0 and variance 1 to it which is then feed as input to the generator.\n"
   ]
  },
  {
   "cell_type": "code",
   "execution_count": 9,
   "id": "ff8ce7bd",
   "metadata": {
    "execution": {
     "iopub.execute_input": "2022-03-11T10:35:03.636367Z",
     "iopub.status.busy": "2022-03-11T10:35:03.635980Z",
     "iopub.status.idle": "2022-03-11T10:35:04.587731Z",
     "shell.execute_reply": "2022-03-11T10:35:04.587985Z"
    },
    "id": "ff8ce7bd",
    "papermill": {
     "duration": 0.963543,
     "end_time": "2022-03-11T10:35:04.588119",
     "exception": false,
     "start_time": "2022-03-11T10:35:03.624576",
     "status": "completed"
    },
    "tags": []
   },
   "outputs": [
    {
     "name": "stdout",
     "output_type": "stream",
     "text": [
      "Learning rate set to 0.033215\n",
      "0:\tlearn: 0.9726947\ttotal: 58.6ms\tremaining: 58.5s\n",
      "1:\tlearn: 0.9560934\ttotal: 59.5ms\tremaining: 29.7s\n",
      "2:\tlearn: 0.9356433\ttotal: 60.4ms\tremaining: 20.1s\n",
      "3:\tlearn: 0.9201346\ttotal: 61.4ms\tremaining: 15.3s\n",
      "4:\tlearn: 0.9025054\ttotal: 62.5ms\tremaining: 12.4s\n",
      "5:\tlearn: 0.8859587\ttotal: 63.5ms\tremaining: 10.5s\n",
      "6:\tlearn: 0.8705069\ttotal: 64.5ms\tremaining: 9.14s\n",
      "7:\tlearn: 0.8553411\ttotal: 65.4ms\tremaining: 8.11s\n",
      "8:\tlearn: 0.8398888\ttotal: 66.3ms\tremaining: 7.29s\n",
      "9:\tlearn: 0.8239691\ttotal: 67.1ms\tremaining: 6.64s\n",
      "10:\tlearn: 0.8114268\ttotal: 67.9ms\tremaining: 6.1s\n",
      "11:\tlearn: 0.7966996\ttotal: 68.7ms\tremaining: 5.66s\n",
      "12:\tlearn: 0.7823238\ttotal: 69.5ms\tremaining: 5.28s\n",
      "13:\tlearn: 0.7682000\ttotal: 70.2ms\tremaining: 4.95s\n",
      "14:\tlearn: 0.7564134\ttotal: 71ms\tremaining: 4.66s\n",
      "15:\tlearn: 0.7438808\ttotal: 71.7ms\tremaining: 4.41s\n",
      "16:\tlearn: 0.7323151\ttotal: 72.5ms\tremaining: 4.19s\n",
      "17:\tlearn: 0.7214065\ttotal: 73.3ms\tremaining: 4s\n",
      "18:\tlearn: 0.7090886\ttotal: 74.1ms\tremaining: 3.83s\n",
      "19:\tlearn: 0.6964796\ttotal: 74.9ms\tremaining: 3.67s\n",
      "20:\tlearn: 0.6837485\ttotal: 75.7ms\tremaining: 3.53s\n",
      "21:\tlearn: 0.6733840\ttotal: 76.4ms\tremaining: 3.4s\n",
      "22:\tlearn: 0.6635453\ttotal: 77.2ms\tremaining: 3.28s\n",
      "23:\tlearn: 0.6541537\ttotal: 78ms\tremaining: 3.17s\n",
      "24:\tlearn: 0.6440736\ttotal: 78.7ms\tremaining: 3.07s\n",
      "25:\tlearn: 0.6336358\ttotal: 79.4ms\tremaining: 2.97s\n",
      "26:\tlearn: 0.6254146\ttotal: 80.1ms\tremaining: 2.89s\n",
      "27:\tlearn: 0.6162974\ttotal: 81ms\tremaining: 2.81s\n",
      "28:\tlearn: 0.6079286\ttotal: 81.8ms\tremaining: 2.74s\n",
      "29:\tlearn: 0.5986479\ttotal: 82.7ms\tremaining: 2.67s\n",
      "30:\tlearn: 0.5887073\ttotal: 83.5ms\tremaining: 2.61s\n",
      "31:\tlearn: 0.5811044\ttotal: 84.3ms\tremaining: 2.55s\n",
      "32:\tlearn: 0.5738864\ttotal: 85.2ms\tremaining: 2.5s\n",
      "33:\tlearn: 0.5667091\ttotal: 86ms\tremaining: 2.44s\n",
      "34:\tlearn: 0.5597386\ttotal: 86.7ms\tremaining: 2.39s\n",
      "35:\tlearn: 0.5527926\ttotal: 87.6ms\tremaining: 2.35s\n",
      "36:\tlearn: 0.5469394\ttotal: 88.4ms\tremaining: 2.3s\n",
      "37:\tlearn: 0.5403753\ttotal: 89.3ms\tremaining: 2.26s\n",
      "38:\tlearn: 0.5329439\ttotal: 90.2ms\tremaining: 2.22s\n",
      "39:\tlearn: 0.5257584\ttotal: 90.9ms\tremaining: 2.18s\n",
      "40:\tlearn: 0.5205975\ttotal: 91.8ms\tremaining: 2.15s\n",
      "41:\tlearn: 0.5130065\ttotal: 92.7ms\tremaining: 2.11s\n",
      "42:\tlearn: 0.5062362\ttotal: 93.4ms\tremaining: 2.08s\n",
      "43:\tlearn: 0.5010011\ttotal: 94.3ms\tremaining: 2.05s\n",
      "44:\tlearn: 0.4958568\ttotal: 95.2ms\tremaining: 2.02s\n",
      "45:\tlearn: 0.4901349\ttotal: 95.9ms\tremaining: 1.99s\n",
      "46:\tlearn: 0.4849334\ttotal: 96.9ms\tremaining: 1.96s\n",
      "47:\tlearn: 0.4793244\ttotal: 97.7ms\tremaining: 1.94s\n",
      "48:\tlearn: 0.4750216\ttotal: 98.5ms\tremaining: 1.91s\n",
      "49:\tlearn: 0.4706279\ttotal: 100ms\tremaining: 1.9s\n",
      "50:\tlearn: 0.4654012\ttotal: 101ms\tremaining: 1.88s\n",
      "51:\tlearn: 0.4607680\ttotal: 102ms\tremaining: 1.85s\n",
      "52:\tlearn: 0.4558425\ttotal: 102ms\tremaining: 1.83s\n",
      "53:\tlearn: 0.4525659\ttotal: 103ms\tremaining: 1.8s\n",
      "54:\tlearn: 0.4477019\ttotal: 104ms\tremaining: 1.78s\n",
      "55:\tlearn: 0.4440985\ttotal: 105ms\tremaining: 1.76s\n",
      "56:\tlearn: 0.4400962\ttotal: 106ms\tremaining: 1.75s\n",
      "57:\tlearn: 0.4356875\ttotal: 106ms\tremaining: 1.73s\n",
      "58:\tlearn: 0.4316192\ttotal: 107ms\tremaining: 1.71s\n",
      "59:\tlearn: 0.4275484\ttotal: 108ms\tremaining: 1.69s\n",
      "60:\tlearn: 0.4236256\ttotal: 109ms\tremaining: 1.68s\n"
     ]
    },
    {
     "name": "stdout",
     "output_type": "stream",
     "text": [
      "61:\tlearn: 0.4195704\ttotal: 110ms\tremaining: 1.66s\n",
      "62:\tlearn: 0.4163450\ttotal: 111ms\tremaining: 1.65s\n",
      "63:\tlearn: 0.4129080\ttotal: 112ms\tremaining: 1.63s\n",
      "64:\tlearn: 0.4089255\ttotal: 112ms\tremaining: 1.61s\n",
      "65:\tlearn: 0.4054669\ttotal: 113ms\tremaining: 1.6s\n",
      "66:\tlearn: 0.4016660\ttotal: 114ms\tremaining: 1.59s\n",
      "67:\tlearn: 0.3984330\ttotal: 115ms\tremaining: 1.57s\n",
      "68:\tlearn: 0.3954315\ttotal: 116ms\tremaining: 1.56s\n",
      "69:\tlearn: 0.3926379\ttotal: 117ms\tremaining: 1.55s\n",
      "70:\tlearn: 0.3894480\ttotal: 118ms\tremaining: 1.54s\n",
      "71:\tlearn: 0.3869742\ttotal: 118ms\tremaining: 1.53s\n",
      "72:\tlearn: 0.3846383\ttotal: 119ms\tremaining: 1.52s\n",
      "73:\tlearn: 0.3816112\ttotal: 120ms\tremaining: 1.51s\n",
      "74:\tlearn: 0.3786482\ttotal: 121ms\tremaining: 1.5s\n",
      "75:\tlearn: 0.3757711\ttotal: 122ms\tremaining: 1.48s\n",
      "76:\tlearn: 0.3731232\ttotal: 123ms\tremaining: 1.47s\n",
      "77:\tlearn: 0.3707759\ttotal: 123ms\tremaining: 1.46s\n",
      "78:\tlearn: 0.3686095\ttotal: 124ms\tremaining: 1.45s\n",
      "79:\tlearn: 0.3660479\ttotal: 125ms\tremaining: 1.44s\n",
      "80:\tlearn: 0.3635869\ttotal: 125ms\tremaining: 1.42s\n",
      "81:\tlearn: 0.3605167\ttotal: 126ms\tremaining: 1.41s\n",
      "82:\tlearn: 0.3588042\ttotal: 127ms\tremaining: 1.4s\n",
      "83:\tlearn: 0.3562480\ttotal: 127ms\tremaining: 1.39s\n",
      "84:\tlearn: 0.3544090\ttotal: 128ms\tremaining: 1.38s\n",
      "85:\tlearn: 0.3520317\ttotal: 129ms\tremaining: 1.37s\n",
      "86:\tlearn: 0.3498736\ttotal: 130ms\tremaining: 1.36s\n",
      "87:\tlearn: 0.3473043\ttotal: 131ms\tremaining: 1.35s\n",
      "88:\tlearn: 0.3449997\ttotal: 132ms\tremaining: 1.35s\n",
      "89:\tlearn: 0.3427798\ttotal: 133ms\tremaining: 1.34s\n",
      "90:\tlearn: 0.3405622\ttotal: 134ms\tremaining: 1.33s\n",
      "91:\tlearn: 0.3384611\ttotal: 135ms\tremaining: 1.33s\n",
      "92:\tlearn: 0.3369352\ttotal: 136ms\tremaining: 1.32s\n",
      "93:\tlearn: 0.3348003\ttotal: 136ms\tremaining: 1.31s\n",
      "94:\tlearn: 0.3324550\ttotal: 137ms\tremaining: 1.31s\n",
      "95:\tlearn: 0.3315739\ttotal: 138ms\tremaining: 1.3s\n",
      "96:\tlearn: 0.3300068\ttotal: 139ms\tremaining: 1.3s\n",
      "97:\tlearn: 0.3282179\ttotal: 140ms\tremaining: 1.29s\n",
      "98:\tlearn: 0.3266299\ttotal: 141ms\tremaining: 1.28s\n",
      "99:\tlearn: 0.3246830\ttotal: 142ms\tremaining: 1.28s\n",
      "100:\tlearn: 0.3226269\ttotal: 143ms\tremaining: 1.27s\n",
      "101:\tlearn: 0.3207922\ttotal: 144ms\tremaining: 1.27s\n",
      "102:\tlearn: 0.3189949\ttotal: 145ms\tremaining: 1.26s\n",
      "103:\tlearn: 0.3176469\ttotal: 146ms\tremaining: 1.25s\n",
      "104:\tlearn: 0.3161324\ttotal: 147ms\tremaining: 1.25s\n",
      "105:\tlearn: 0.3142973\ttotal: 147ms\tremaining: 1.24s\n",
      "106:\tlearn: 0.3125085\ttotal: 148ms\tremaining: 1.24s\n",
      "107:\tlearn: 0.3101643\ttotal: 149ms\tremaining: 1.23s\n",
      "108:\tlearn: 0.3085400\ttotal: 150ms\tremaining: 1.23s\n",
      "109:\tlearn: 0.3070260\ttotal: 151ms\tremaining: 1.22s\n",
      "110:\tlearn: 0.3054871\ttotal: 152ms\tremaining: 1.22s\n",
      "111:\tlearn: 0.3039940\ttotal: 153ms\tremaining: 1.21s\n",
      "112:\tlearn: 0.3025526\ttotal: 153ms\tremaining: 1.2s\n",
      "113:\tlearn: 0.3011774\ttotal: 155ms\tremaining: 1.2s\n",
      "114:\tlearn: 0.2999182\ttotal: 155ms\tremaining: 1.19s\n",
      "115:\tlearn: 0.2987676\ttotal: 156ms\tremaining: 1.19s\n",
      "116:\tlearn: 0.2974579\ttotal: 157ms\tremaining: 1.18s\n",
      "117:\tlearn: 0.2962657\ttotal: 158ms\tremaining: 1.18s\n",
      "118:\tlearn: 0.2950280\ttotal: 159ms\tremaining: 1.17s\n",
      "119:\tlearn: 0.2940353\ttotal: 159ms\tremaining: 1.17s\n",
      "120:\tlearn: 0.2927430\ttotal: 160ms\tremaining: 1.16s\n",
      "121:\tlearn: 0.2912135\ttotal: 161ms\tremaining: 1.16s\n",
      "122:\tlearn: 0.2901053\ttotal: 162ms\tremaining: 1.15s\n",
      "123:\tlearn: 0.2891850\ttotal: 163ms\tremaining: 1.15s\n",
      "124:\tlearn: 0.2879000\ttotal: 164ms\tremaining: 1.15s\n",
      "125:\tlearn: 0.2870652\ttotal: 165ms\tremaining: 1.14s\n",
      "126:\tlearn: 0.2856475\ttotal: 166ms\tremaining: 1.14s\n",
      "127:\tlearn: 0.2848693\ttotal: 166ms\tremaining: 1.13s\n",
      "128:\tlearn: 0.2835726\ttotal: 167ms\tremaining: 1.13s\n",
      "129:\tlearn: 0.2825804\ttotal: 168ms\tremaining: 1.12s\n",
      "130:\tlearn: 0.2811673\ttotal: 169ms\tremaining: 1.12s\n",
      "131:\tlearn: 0.2797618\ttotal: 170ms\tremaining: 1.11s\n",
      "132:\tlearn: 0.2787760\ttotal: 170ms\tremaining: 1.11s\n",
      "133:\tlearn: 0.2773286\ttotal: 171ms\tremaining: 1.11s\n",
      "134:\tlearn: 0.2765853\ttotal: 172ms\tremaining: 1.1s\n",
      "135:\tlearn: 0.2753955\ttotal: 173ms\tremaining: 1.1s\n",
      "136:\tlearn: 0.2746349\ttotal: 174ms\tremaining: 1.09s\n",
      "137:\tlearn: 0.2736271\ttotal: 175ms\tremaining: 1.09s\n",
      "138:\tlearn: 0.2724133\ttotal: 176ms\tremaining: 1.09s\n",
      "139:\tlearn: 0.2713390\ttotal: 177ms\tremaining: 1.08s\n",
      "140:\tlearn: 0.2704332\ttotal: 178ms\tremaining: 1.08s\n",
      "141:\tlearn: 0.2696860\ttotal: 178ms\tremaining: 1.08s\n",
      "142:\tlearn: 0.2686622\ttotal: 179ms\tremaining: 1.07s\n",
      "143:\tlearn: 0.2673957\ttotal: 180ms\tremaining: 1.07s\n",
      "144:\tlearn: 0.2665799\ttotal: 181ms\tremaining: 1.06s\n",
      "145:\tlearn: 0.2654917\ttotal: 181ms\tremaining: 1.06s\n",
      "146:\tlearn: 0.2648646\ttotal: 182ms\tremaining: 1.06s\n",
      "147:\tlearn: 0.2640842\ttotal: 183ms\tremaining: 1.05s\n",
      "148:\tlearn: 0.2633828\ttotal: 184ms\tremaining: 1.05s\n",
      "149:\tlearn: 0.2626263\ttotal: 185ms\tremaining: 1.05s\n",
      "150:\tlearn: 0.2616342\ttotal: 186ms\tremaining: 1.04s\n",
      "151:\tlearn: 0.2609065\ttotal: 187ms\tremaining: 1.04s\n",
      "152:\tlearn: 0.2601683\ttotal: 188ms\tremaining: 1.04s\n",
      "153:\tlearn: 0.2593190\ttotal: 189ms\tremaining: 1.04s\n",
      "154:\tlearn: 0.2580525\ttotal: 190ms\tremaining: 1.03s\n",
      "155:\tlearn: 0.2571824\ttotal: 190ms\tremaining: 1.03s\n"
     ]
    },
    {
     "name": "stdout",
     "output_type": "stream",
     "text": [
      "156:\tlearn: 0.2564935\ttotal: 192ms\tremaining: 1.03s\n",
      "157:\tlearn: 0.2556866\ttotal: 193ms\tremaining: 1.03s\n",
      "158:\tlearn: 0.2548258\ttotal: 193ms\tremaining: 1.02s\n",
      "159:\tlearn: 0.2538064\ttotal: 194ms\tremaining: 1.02s\n",
      "160:\tlearn: 0.2531540\ttotal: 195ms\tremaining: 1.02s\n",
      "161:\tlearn: 0.2523340\ttotal: 196ms\tremaining: 1.01s\n",
      "162:\tlearn: 0.2517137\ttotal: 197ms\tremaining: 1.01s\n",
      "163:\tlearn: 0.2508704\ttotal: 198ms\tremaining: 1.01s\n",
      "164:\tlearn: 0.2502652\ttotal: 199ms\tremaining: 1s\n",
      "165:\tlearn: 0.2497887\ttotal: 199ms\tremaining: 1s\n",
      "166:\tlearn: 0.2492576\ttotal: 200ms\tremaining: 998ms\n",
      "167:\tlearn: 0.2487231\ttotal: 201ms\tremaining: 995ms\n",
      "168:\tlearn: 0.2481712\ttotal: 202ms\tremaining: 992ms\n",
      "169:\tlearn: 0.2474930\ttotal: 203ms\tremaining: 989ms\n",
      "170:\tlearn: 0.2469788\ttotal: 203ms\tremaining: 985ms\n",
      "171:\tlearn: 0.2460189\ttotal: 204ms\tremaining: 982ms\n",
      "172:\tlearn: 0.2453531\ttotal: 205ms\tremaining: 979ms\n",
      "173:\tlearn: 0.2445335\ttotal: 206ms\tremaining: 977ms\n",
      "174:\tlearn: 0.2437995\ttotal: 207ms\tremaining: 974ms\n",
      "175:\tlearn: 0.2430141\ttotal: 207ms\tremaining: 971ms\n",
      "176:\tlearn: 0.2422630\ttotal: 208ms\tremaining: 969ms\n",
      "177:\tlearn: 0.2413961\ttotal: 209ms\tremaining: 966ms\n",
      "178:\tlearn: 0.2407688\ttotal: 210ms\tremaining: 963ms\n",
      "179:\tlearn: 0.2400761\ttotal: 211ms\tremaining: 960ms\n",
      "180:\tlearn: 0.2394618\ttotal: 212ms\tremaining: 958ms\n",
      "181:\tlearn: 0.2390640\ttotal: 212ms\tremaining: 955ms\n",
      "182:\tlearn: 0.2382734\ttotal: 213ms\tremaining: 952ms\n",
      "183:\tlearn: 0.2376755\ttotal: 214ms\tremaining: 949ms\n",
      "184:\tlearn: 0.2368474\ttotal: 215ms\tremaining: 947ms\n",
      "185:\tlearn: 0.2363918\ttotal: 216ms\tremaining: 944ms\n",
      "186:\tlearn: 0.2356190\ttotal: 217ms\tremaining: 941ms\n",
      "187:\tlearn: 0.2353655\ttotal: 217ms\tremaining: 939ms\n",
      "188:\tlearn: 0.2346095\ttotal: 218ms\tremaining: 936ms\n",
      "189:\tlearn: 0.2339602\ttotal: 219ms\tremaining: 933ms\n",
      "190:\tlearn: 0.2333163\ttotal: 220ms\tremaining: 930ms\n",
      "191:\tlearn: 0.2326847\ttotal: 220ms\tremaining: 928ms\n",
      "192:\tlearn: 0.2319794\ttotal: 221ms\tremaining: 925ms\n",
      "193:\tlearn: 0.2312823\ttotal: 222ms\tremaining: 923ms\n",
      "194:\tlearn: 0.2307050\ttotal: 223ms\tremaining: 921ms\n",
      "195:\tlearn: 0.2299216\ttotal: 224ms\tremaining: 918ms\n",
      "196:\tlearn: 0.2294016\ttotal: 225ms\tremaining: 916ms\n",
      "197:\tlearn: 0.2285103\ttotal: 225ms\tremaining: 913ms\n",
      "198:\tlearn: 0.2279998\ttotal: 226ms\tremaining: 911ms\n",
      "199:\tlearn: 0.2271128\ttotal: 227ms\tremaining: 908ms\n",
      "200:\tlearn: 0.2265842\ttotal: 228ms\tremaining: 905ms\n",
      "201:\tlearn: 0.2260593\ttotal: 228ms\tremaining: 903ms\n",
      "202:\tlearn: 0.2255314\ttotal: 229ms\tremaining: 900ms\n",
      "203:\tlearn: 0.2247748\ttotal: 230ms\tremaining: 898ms\n",
      "204:\tlearn: 0.2241972\ttotal: 231ms\tremaining: 896ms\n",
      "205:\tlearn: 0.2237065\ttotal: 232ms\tremaining: 894ms\n",
      "206:\tlearn: 0.2233254\ttotal: 233ms\tremaining: 891ms\n",
      "207:\tlearn: 0.2227868\ttotal: 234ms\tremaining: 890ms\n",
      "208:\tlearn: 0.2223616\ttotal: 234ms\tremaining: 887ms\n",
      "209:\tlearn: 0.2216185\ttotal: 235ms\tremaining: 885ms\n",
      "210:\tlearn: 0.2209747\ttotal: 236ms\tremaining: 883ms\n",
      "211:\tlearn: 0.2206601\ttotal: 237ms\tremaining: 881ms\n",
      "212:\tlearn: 0.2202081\ttotal: 238ms\tremaining: 879ms\n",
      "213:\tlearn: 0.2195269\ttotal: 239ms\tremaining: 877ms\n",
      "214:\tlearn: 0.2187215\ttotal: 240ms\tremaining: 875ms\n",
      "215:\tlearn: 0.2179779\ttotal: 241ms\tremaining: 875ms\n",
      "216:\tlearn: 0.2174814\ttotal: 242ms\tremaining: 872ms\n",
      "217:\tlearn: 0.2168430\ttotal: 243ms\tremaining: 870ms\n",
      "218:\tlearn: 0.2164066\ttotal: 243ms\tremaining: 868ms\n",
      "219:\tlearn: 0.2158134\ttotal: 244ms\tremaining: 865ms\n",
      "220:\tlearn: 0.2153241\ttotal: 245ms\tremaining: 863ms\n",
      "221:\tlearn: 0.2147747\ttotal: 246ms\tremaining: 862ms\n",
      "222:\tlearn: 0.2142649\ttotal: 247ms\tremaining: 860ms\n",
      "223:\tlearn: 0.2138341\ttotal: 248ms\tremaining: 858ms\n",
      "224:\tlearn: 0.2132640\ttotal: 248ms\tremaining: 856ms\n",
      "225:\tlearn: 0.2127363\ttotal: 249ms\tremaining: 854ms\n",
      "226:\tlearn: 0.2122075\ttotal: 250ms\tremaining: 852ms\n",
      "227:\tlearn: 0.2117778\ttotal: 251ms\tremaining: 850ms\n",
      "228:\tlearn: 0.2113851\ttotal: 252ms\tremaining: 848ms\n",
      "229:\tlearn: 0.2110725\ttotal: 252ms\tremaining: 845ms\n",
      "230:\tlearn: 0.2106426\ttotal: 253ms\tremaining: 843ms\n",
      "231:\tlearn: 0.2102228\ttotal: 254ms\tremaining: 841ms\n",
      "232:\tlearn: 0.2098046\ttotal: 255ms\tremaining: 839ms\n",
      "233:\tlearn: 0.2090299\ttotal: 256ms\tremaining: 836ms\n",
      "234:\tlearn: 0.2085271\ttotal: 256ms\tremaining: 834ms\n",
      "235:\tlearn: 0.2079601\ttotal: 258ms\tremaining: 834ms\n",
      "236:\tlearn: 0.2075068\ttotal: 258ms\tremaining: 832ms\n",
      "237:\tlearn: 0.2067443\ttotal: 259ms\tremaining: 830ms\n",
      "238:\tlearn: 0.2064327\ttotal: 260ms\tremaining: 828ms\n",
      "239:\tlearn: 0.2059884\ttotal: 261ms\tremaining: 826ms\n",
      "240:\tlearn: 0.2055445\ttotal: 262ms\tremaining: 824ms\n",
      "241:\tlearn: 0.2049722\ttotal: 262ms\tremaining: 822ms\n",
      "242:\tlearn: 0.2045171\ttotal: 263ms\tremaining: 820ms\n",
      "243:\tlearn: 0.2038273\ttotal: 264ms\tremaining: 818ms\n",
      "244:\tlearn: 0.2031064\ttotal: 265ms\tremaining: 816ms\n",
      "245:\tlearn: 0.2027530\ttotal: 266ms\tremaining: 814ms\n",
      "246:\tlearn: 0.2022582\ttotal: 266ms\tremaining: 812ms\n",
      "247:\tlearn: 0.2016910\ttotal: 267ms\tremaining: 810ms\n",
      "248:\tlearn: 0.2013054\ttotal: 268ms\tremaining: 808ms\n",
      "249:\tlearn: 0.2004537\ttotal: 269ms\tremaining: 807ms\n",
      "250:\tlearn: 0.2001389\ttotal: 270ms\tremaining: 805ms\n",
      "251:\tlearn: 0.1996975\ttotal: 271ms\tremaining: 803ms\n",
      "252:\tlearn: 0.1994009\ttotal: 272ms\tremaining: 802ms\n",
      "253:\tlearn: 0.1991523\ttotal: 272ms\tremaining: 800ms\n",
      "254:\tlearn: 0.1986447\ttotal: 273ms\tremaining: 798ms\n",
      "255:\tlearn: 0.1981883\ttotal: 274ms\tremaining: 796ms\n",
      "256:\tlearn: 0.1976738\ttotal: 275ms\tremaining: 795ms\n",
      "257:\tlearn: 0.1973149\ttotal: 276ms\tremaining: 793ms\n",
      "258:\tlearn: 0.1970021\ttotal: 276ms\tremaining: 791ms\n",
      "259:\tlearn: 0.1965012\ttotal: 277ms\tremaining: 789ms\n",
      "260:\tlearn: 0.1962033\ttotal: 278ms\tremaining: 788ms\n",
      "261:\tlearn: 0.1955192\ttotal: 279ms\tremaining: 786ms\n",
      "262:\tlearn: 0.1949052\ttotal: 280ms\tremaining: 784ms\n",
      "263:\tlearn: 0.1943833\ttotal: 281ms\tremaining: 783ms\n",
      "264:\tlearn: 0.1940955\ttotal: 281ms\tremaining: 781ms\n",
      "265:\tlearn: 0.1937733\ttotal: 282ms\tremaining: 779ms\n",
      "266:\tlearn: 0.1929584\ttotal: 283ms\tremaining: 777ms\n",
      "267:\tlearn: 0.1926575\ttotal: 284ms\tremaining: 775ms\n",
      "268:\tlearn: 0.1920403\ttotal: 285ms\tremaining: 774ms\n",
      "269:\tlearn: 0.1915939\ttotal: 286ms\tremaining: 773ms\n",
      "270:\tlearn: 0.1913917\ttotal: 287ms\tremaining: 772ms\n",
      "271:\tlearn: 0.1910045\ttotal: 288ms\tremaining: 770ms\n",
      "272:\tlearn: 0.1906716\ttotal: 288ms\tremaining: 768ms\n",
      "273:\tlearn: 0.1904718\ttotal: 289ms\tremaining: 766ms\n",
      "274:\tlearn: 0.1899945\ttotal: 290ms\tremaining: 765ms\n",
      "275:\tlearn: 0.1895940\ttotal: 291ms\tremaining: 763ms\n",
      "276:\tlearn: 0.1892618\ttotal: 292ms\tremaining: 762ms\n",
      "277:\tlearn: 0.1885754\ttotal: 293ms\tremaining: 760ms\n",
      "278:\tlearn: 0.1883069\ttotal: 293ms\tremaining: 758ms\n",
      "279:\tlearn: 0.1880413\ttotal: 294ms\tremaining: 757ms\n",
      "280:\tlearn: 0.1877200\ttotal: 295ms\tremaining: 755ms\n",
      "281:\tlearn: 0.1875086\ttotal: 296ms\tremaining: 754ms\n",
      "282:\tlearn: 0.1868331\ttotal: 297ms\tremaining: 752ms\n",
      "283:\tlearn: 0.1863791\ttotal: 298ms\tremaining: 751ms\n",
      "284:\tlearn: 0.1858528\ttotal: 299ms\tremaining: 749ms\n"
     ]
    },
    {
     "name": "stdout",
     "output_type": "stream",
     "text": [
      "285:\tlearn: 0.1856379\ttotal: 299ms\tremaining: 747ms\n",
      "286:\tlearn: 0.1852181\ttotal: 300ms\tremaining: 746ms\n",
      "287:\tlearn: 0.1846881\ttotal: 301ms\tremaining: 745ms\n",
      "288:\tlearn: 0.1844250\ttotal: 302ms\tremaining: 743ms\n",
      "289:\tlearn: 0.1839673\ttotal: 303ms\tremaining: 742ms\n",
      "290:\tlearn: 0.1837853\ttotal: 304ms\tremaining: 740ms\n",
      "291:\tlearn: 0.1833929\ttotal: 305ms\tremaining: 738ms\n",
      "292:\tlearn: 0.1831298\ttotal: 305ms\tremaining: 737ms\n",
      "293:\tlearn: 0.1827951\ttotal: 306ms\tremaining: 735ms\n",
      "294:\tlearn: 0.1822241\ttotal: 307ms\tremaining: 734ms\n",
      "295:\tlearn: 0.1815517\ttotal: 308ms\tremaining: 732ms\n",
      "296:\tlearn: 0.1813976\ttotal: 309ms\tremaining: 731ms\n",
      "297:\tlearn: 0.1811841\ttotal: 310ms\tremaining: 729ms\n",
      "298:\tlearn: 0.1806057\ttotal: 310ms\tremaining: 728ms\n",
      "299:\tlearn: 0.1803295\ttotal: 311ms\tremaining: 726ms\n",
      "300:\tlearn: 0.1800830\ttotal: 312ms\tremaining: 725ms\n",
      "301:\tlearn: 0.1798373\ttotal: 313ms\tremaining: 724ms\n",
      "302:\tlearn: 0.1795802\ttotal: 314ms\tremaining: 722ms\n",
      "303:\tlearn: 0.1793179\ttotal: 315ms\tremaining: 721ms\n",
      "304:\tlearn: 0.1790643\ttotal: 316ms\tremaining: 719ms\n",
      "305:\tlearn: 0.1788376\ttotal: 317ms\tremaining: 718ms\n",
      "306:\tlearn: 0.1782519\ttotal: 317ms\tremaining: 716ms\n",
      "307:\tlearn: 0.1780347\ttotal: 318ms\tremaining: 715ms\n",
      "308:\tlearn: 0.1778022\ttotal: 319ms\tremaining: 713ms\n",
      "309:\tlearn: 0.1775184\ttotal: 320ms\tremaining: 712ms\n",
      "310:\tlearn: 0.1772315\ttotal: 321ms\tremaining: 710ms\n",
      "311:\tlearn: 0.1770130\ttotal: 321ms\tremaining: 709ms\n",
      "312:\tlearn: 0.1767536\ttotal: 322ms\tremaining: 707ms\n",
      "313:\tlearn: 0.1764587\ttotal: 323ms\tremaining: 706ms\n",
      "314:\tlearn: 0.1761046\ttotal: 324ms\tremaining: 704ms\n",
      "315:\tlearn: 0.1756477\ttotal: 325ms\tremaining: 703ms\n",
      "316:\tlearn: 0.1752396\ttotal: 325ms\tremaining: 701ms\n",
      "317:\tlearn: 0.1750684\ttotal: 326ms\tremaining: 700ms\n",
      "318:\tlearn: 0.1744964\ttotal: 327ms\tremaining: 698ms\n",
      "319:\tlearn: 0.1739306\ttotal: 328ms\tremaining: 697ms\n",
      "320:\tlearn: 0.1735205\ttotal: 329ms\tremaining: 695ms\n",
      "321:\tlearn: 0.1732535\ttotal: 330ms\tremaining: 694ms\n",
      "322:\tlearn: 0.1729308\ttotal: 330ms\tremaining: 692ms\n",
      "323:\tlearn: 0.1725490\ttotal: 331ms\tremaining: 691ms\n",
      "324:\tlearn: 0.1723843\ttotal: 332ms\tremaining: 690ms\n",
      "325:\tlearn: 0.1719584\ttotal: 333ms\tremaining: 688ms\n",
      "326:\tlearn: 0.1717417\ttotal: 334ms\tremaining: 686ms\n",
      "327:\tlearn: 0.1714004\ttotal: 334ms\tremaining: 685ms\n",
      "328:\tlearn: 0.1712420\ttotal: 335ms\tremaining: 684ms\n",
      "329:\tlearn: 0.1707048\ttotal: 336ms\tremaining: 682ms\n",
      "330:\tlearn: 0.1700855\ttotal: 337ms\tremaining: 681ms\n",
      "331:\tlearn: 0.1696463\ttotal: 338ms\tremaining: 680ms\n",
      "332:\tlearn: 0.1692515\ttotal: 338ms\tremaining: 678ms\n",
      "333:\tlearn: 0.1686881\ttotal: 339ms\tremaining: 677ms\n",
      "334:\tlearn: 0.1682461\ttotal: 340ms\tremaining: 675ms\n",
      "335:\tlearn: 0.1678821\ttotal: 341ms\tremaining: 674ms\n",
      "336:\tlearn: 0.1673629\ttotal: 342ms\tremaining: 673ms\n",
      "337:\tlearn: 0.1671953\ttotal: 343ms\tremaining: 671ms\n",
      "338:\tlearn: 0.1670352\ttotal: 344ms\tremaining: 670ms\n",
      "339:\tlearn: 0.1668132\ttotal: 345ms\tremaining: 669ms\n",
      "340:\tlearn: 0.1663841\ttotal: 345ms\tremaining: 667ms\n",
      "341:\tlearn: 0.1659539\ttotal: 346ms\tremaining: 666ms\n",
      "342:\tlearn: 0.1658735\ttotal: 347ms\tremaining: 664ms\n",
      "343:\tlearn: 0.1654261\ttotal: 348ms\tremaining: 663ms\n",
      "344:\tlearn: 0.1650367\ttotal: 348ms\tremaining: 661ms\n",
      "345:\tlearn: 0.1648377\ttotal: 350ms\tremaining: 661ms\n",
      "346:\tlearn: 0.1645860\ttotal: 351ms\tremaining: 660ms\n",
      "347:\tlearn: 0.1640575\ttotal: 351ms\tremaining: 658ms\n",
      "348:\tlearn: 0.1637031\ttotal: 352ms\tremaining: 657ms\n",
      "349:\tlearn: 0.1632840\ttotal: 353ms\tremaining: 655ms\n",
      "350:\tlearn: 0.1628486\ttotal: 354ms\tremaining: 654ms\n",
      "351:\tlearn: 0.1625362\ttotal: 355ms\tremaining: 653ms\n",
      "352:\tlearn: 0.1620610\ttotal: 355ms\tremaining: 651ms\n",
      "353:\tlearn: 0.1616273\ttotal: 356ms\tremaining: 650ms\n",
      "354:\tlearn: 0.1613069\ttotal: 357ms\tremaining: 649ms\n",
      "355:\tlearn: 0.1609731\ttotal: 358ms\tremaining: 648ms\n",
      "356:\tlearn: 0.1608756\ttotal: 359ms\tremaining: 646ms\n",
      "357:\tlearn: 0.1605808\ttotal: 360ms\tremaining: 645ms\n",
      "358:\tlearn: 0.1603815\ttotal: 360ms\tremaining: 643ms\n",
      "359:\tlearn: 0.1600697\ttotal: 361ms\tremaining: 642ms\n",
      "360:\tlearn: 0.1598014\ttotal: 362ms\tremaining: 641ms\n",
      "361:\tlearn: 0.1594247\ttotal: 363ms\tremaining: 639ms\n",
      "362:\tlearn: 0.1591017\ttotal: 364ms\tremaining: 638ms\n",
      "363:\tlearn: 0.1585426\ttotal: 364ms\tremaining: 637ms\n",
      "364:\tlearn: 0.1581937\ttotal: 365ms\tremaining: 635ms\n",
      "365:\tlearn: 0.1580932\ttotal: 366ms\tremaining: 634ms\n",
      "366:\tlearn: 0.1577842\ttotal: 367ms\tremaining: 633ms\n",
      "367:\tlearn: 0.1575090\ttotal: 368ms\tremaining: 631ms\n",
      "368:\tlearn: 0.1572933\ttotal: 368ms\tremaining: 630ms\n",
      "369:\tlearn: 0.1569553\ttotal: 369ms\tremaining: 629ms\n",
      "370:\tlearn: 0.1567525\ttotal: 370ms\tremaining: 627ms\n",
      "371:\tlearn: 0.1564764\ttotal: 371ms\tremaining: 626ms\n",
      "372:\tlearn: 0.1564060\ttotal: 372ms\tremaining: 625ms\n",
      "373:\tlearn: 0.1561716\ttotal: 373ms\tremaining: 624ms\n",
      "374:\tlearn: 0.1558498\ttotal: 373ms\tremaining: 622ms\n",
      "375:\tlearn: 0.1557465\ttotal: 374ms\tremaining: 621ms\n",
      "376:\tlearn: 0.1554729\ttotal: 375ms\tremaining: 620ms\n",
      "377:\tlearn: 0.1550561\ttotal: 376ms\tremaining: 618ms\n",
      "378:\tlearn: 0.1550074\ttotal: 376ms\tremaining: 617ms\n",
      "379:\tlearn: 0.1545930\ttotal: 377ms\tremaining: 615ms\n",
      "380:\tlearn: 0.1542765\ttotal: 378ms\tremaining: 614ms\n",
      "381:\tlearn: 0.1538518\ttotal: 379ms\tremaining: 613ms\n",
      "382:\tlearn: 0.1536251\ttotal: 380ms\tremaining: 613ms\n",
      "383:\tlearn: 0.1535101\ttotal: 381ms\tremaining: 611ms\n"
     ]
    },
    {
     "name": "stdout",
     "output_type": "stream",
     "text": [
      "384:\tlearn: 0.1533187\ttotal: 382ms\tremaining: 610ms\n",
      "385:\tlearn: 0.1529701\ttotal: 383ms\tremaining: 609ms\n",
      "386:\tlearn: 0.1527658\ttotal: 384ms\tremaining: 608ms\n",
      "387:\tlearn: 0.1525689\ttotal: 385ms\tremaining: 607ms\n",
      "388:\tlearn: 0.1522770\ttotal: 385ms\tremaining: 605ms\n",
      "389:\tlearn: 0.1519528\ttotal: 386ms\tremaining: 604ms\n",
      "390:\tlearn: 0.1516642\ttotal: 387ms\tremaining: 603ms\n",
      "391:\tlearn: 0.1513290\ttotal: 388ms\tremaining: 602ms\n",
      "392:\tlearn: 0.1512716\ttotal: 389ms\tremaining: 600ms\n",
      "393:\tlearn: 0.1508792\ttotal: 389ms\tremaining: 599ms\n",
      "394:\tlearn: 0.1507065\ttotal: 390ms\tremaining: 598ms\n",
      "395:\tlearn: 0.1504000\ttotal: 391ms\tremaining: 597ms\n",
      "396:\tlearn: 0.1503638\ttotal: 392ms\tremaining: 595ms\n",
      "397:\tlearn: 0.1500884\ttotal: 393ms\tremaining: 594ms\n",
      "398:\tlearn: 0.1499303\ttotal: 394ms\tremaining: 593ms\n",
      "399:\tlearn: 0.1495977\ttotal: 395ms\tremaining: 592ms\n",
      "400:\tlearn: 0.1493428\ttotal: 395ms\tremaining: 591ms\n",
      "401:\tlearn: 0.1491868\ttotal: 396ms\tremaining: 589ms\n",
      "402:\tlearn: 0.1487410\ttotal: 397ms\tremaining: 588ms\n",
      "403:\tlearn: 0.1485428\ttotal: 398ms\tremaining: 587ms\n",
      "404:\tlearn: 0.1482391\ttotal: 399ms\tremaining: 586ms\n",
      "405:\tlearn: 0.1482104\ttotal: 400ms\tremaining: 585ms\n",
      "406:\tlearn: 0.1478768\ttotal: 400ms\tremaining: 583ms\n",
      "407:\tlearn: 0.1478195\ttotal: 401ms\tremaining: 582ms\n",
      "408:\tlearn: 0.1476806\ttotal: 402ms\tremaining: 581ms\n",
      "409:\tlearn: 0.1473476\ttotal: 403ms\tremaining: 580ms\n",
      "410:\tlearn: 0.1471613\ttotal: 404ms\tremaining: 578ms\n",
      "411:\tlearn: 0.1469608\ttotal: 405ms\tremaining: 577ms\n",
      "412:\tlearn: 0.1466034\ttotal: 405ms\tremaining: 576ms\n",
      "413:\tlearn: 0.1462608\ttotal: 406ms\tremaining: 575ms\n",
      "414:\tlearn: 0.1459854\ttotal: 407ms\tremaining: 574ms\n",
      "415:\tlearn: 0.1459576\ttotal: 408ms\tremaining: 573ms\n",
      "416:\tlearn: 0.1456621\ttotal: 409ms\tremaining: 571ms\n",
      "417:\tlearn: 0.1453925\ttotal: 409ms\tremaining: 570ms\n",
      "418:\tlearn: 0.1450556\ttotal: 410ms\tremaining: 569ms\n",
      "419:\tlearn: 0.1450227\ttotal: 411ms\tremaining: 568ms\n",
      "420:\tlearn: 0.1448176\ttotal: 412ms\tremaining: 566ms\n",
      "421:\tlearn: 0.1443347\ttotal: 413ms\tremaining: 565ms\n",
      "422:\tlearn: 0.1439907\ttotal: 413ms\tremaining: 564ms\n",
      "423:\tlearn: 0.1435554\ttotal: 414ms\tremaining: 563ms\n",
      "424:\tlearn: 0.1433931\ttotal: 415ms\tremaining: 561ms\n",
      "425:\tlearn: 0.1430120\ttotal: 416ms\tremaining: 560ms\n",
      "426:\tlearn: 0.1425955\ttotal: 417ms\tremaining: 559ms\n",
      "427:\tlearn: 0.1425614\ttotal: 417ms\tremaining: 558ms\n",
      "428:\tlearn: 0.1423681\ttotal: 418ms\tremaining: 557ms\n",
      "429:\tlearn: 0.1421862\ttotal: 419ms\tremaining: 555ms\n",
      "430:\tlearn: 0.1419662\ttotal: 420ms\tremaining: 554ms\n",
      "431:\tlearn: 0.1415846\ttotal: 421ms\tremaining: 554ms\n",
      "432:\tlearn: 0.1413114\ttotal: 422ms\tremaining: 553ms\n",
      "433:\tlearn: 0.1412800\ttotal: 423ms\tremaining: 552ms\n",
      "434:\tlearn: 0.1409602\ttotal: 424ms\tremaining: 551ms\n",
      "435:\tlearn: 0.1408482\ttotal: 425ms\tremaining: 550ms\n",
      "436:\tlearn: 0.1407406\ttotal: 426ms\tremaining: 548ms\n",
      "437:\tlearn: 0.1403713\ttotal: 426ms\tremaining: 547ms\n",
      "438:\tlearn: 0.1403343\ttotal: 427ms\tremaining: 546ms\n",
      "439:\tlearn: 0.1400087\ttotal: 428ms\tremaining: 545ms\n",
      "440:\tlearn: 0.1396387\ttotal: 429ms\tremaining: 544ms\n",
      "441:\tlearn: 0.1396153\ttotal: 430ms\tremaining: 542ms\n",
      "442:\tlearn: 0.1391995\ttotal: 430ms\tremaining: 541ms\n",
      "443:\tlearn: 0.1391755\ttotal: 431ms\tremaining: 540ms\n",
      "444:\tlearn: 0.1387958\ttotal: 432ms\tremaining: 539ms\n",
      "445:\tlearn: 0.1387736\ttotal: 433ms\tremaining: 538ms\n",
      "446:\tlearn: 0.1385410\ttotal: 434ms\tremaining: 537ms\n",
      "447:\tlearn: 0.1383579\ttotal: 435ms\tremaining: 535ms\n",
      "448:\tlearn: 0.1380688\ttotal: 435ms\tremaining: 534ms\n",
      "449:\tlearn: 0.1377602\ttotal: 436ms\tremaining: 533ms\n",
      "450:\tlearn: 0.1375222\ttotal: 437ms\tremaining: 532ms\n",
      "451:\tlearn: 0.1372262\ttotal: 438ms\tremaining: 531ms\n",
      "452:\tlearn: 0.1369184\ttotal: 439ms\tremaining: 530ms\n",
      "453:\tlearn: 0.1364825\ttotal: 440ms\tremaining: 529ms\n",
      "454:\tlearn: 0.1362287\ttotal: 440ms\tremaining: 528ms\n",
      "455:\tlearn: 0.1359821\ttotal: 441ms\tremaining: 526ms\n",
      "456:\tlearn: 0.1357048\ttotal: 442ms\tremaining: 525ms\n",
      "457:\tlearn: 0.1354760\ttotal: 443ms\tremaining: 524ms\n",
      "458:\tlearn: 0.1353521\ttotal: 443ms\tremaining: 523ms\n",
      "459:\tlearn: 0.1350673\ttotal: 444ms\tremaining: 521ms\n",
      "460:\tlearn: 0.1347589\ttotal: 445ms\tremaining: 520ms\n",
      "461:\tlearn: 0.1347351\ttotal: 446ms\tremaining: 519ms\n",
      "462:\tlearn: 0.1345547\ttotal: 447ms\tremaining: 518ms\n",
      "463:\tlearn: 0.1342618\ttotal: 448ms\tremaining: 517ms\n",
      "464:\tlearn: 0.1340967\ttotal: 448ms\tremaining: 516ms\n",
      "465:\tlearn: 0.1336815\ttotal: 449ms\tremaining: 515ms\n",
      "466:\tlearn: 0.1333844\ttotal: 450ms\tremaining: 514ms\n",
      "467:\tlearn: 0.1333643\ttotal: 451ms\tremaining: 512ms\n",
      "468:\tlearn: 0.1331330\ttotal: 452ms\tremaining: 511ms\n",
      "469:\tlearn: 0.1328655\ttotal: 452ms\tremaining: 510ms\n",
      "470:\tlearn: 0.1325068\ttotal: 453ms\tremaining: 509ms\n",
      "471:\tlearn: 0.1322475\ttotal: 454ms\tremaining: 508ms\n",
      "472:\tlearn: 0.1319246\ttotal: 455ms\tremaining: 507ms\n",
      "473:\tlearn: 0.1316011\ttotal: 455ms\tremaining: 505ms\n",
      "474:\tlearn: 0.1313737\ttotal: 456ms\tremaining: 504ms\n",
      "475:\tlearn: 0.1311472\ttotal: 457ms\tremaining: 503ms\n",
      "476:\tlearn: 0.1308256\ttotal: 458ms\tremaining: 502ms\n",
      "477:\tlearn: 0.1307706\ttotal: 459ms\tremaining: 501ms\n",
      "478:\tlearn: 0.1304658\ttotal: 460ms\tremaining: 500ms\n",
      "479:\tlearn: 0.1302286\ttotal: 460ms\tremaining: 499ms\n",
      "480:\tlearn: 0.1300308\ttotal: 461ms\tremaining: 498ms\n",
      "481:\tlearn: 0.1298143\ttotal: 462ms\tremaining: 497ms\n",
      "482:\tlearn: 0.1295915\ttotal: 463ms\tremaining: 496ms\n",
      "483:\tlearn: 0.1292579\ttotal: 464ms\tremaining: 495ms\n",
      "484:\tlearn: 0.1289077\ttotal: 465ms\tremaining: 494ms\n",
      "485:\tlearn: 0.1285412\ttotal: 466ms\tremaining: 493ms\n",
      "486:\tlearn: 0.1282445\ttotal: 466ms\tremaining: 491ms\n",
      "487:\tlearn: 0.1279453\ttotal: 467ms\tremaining: 490ms\n",
      "488:\tlearn: 0.1277073\ttotal: 468ms\tremaining: 489ms\n",
      "489:\tlearn: 0.1274456\ttotal: 469ms\tremaining: 488ms\n",
      "490:\tlearn: 0.1271281\ttotal: 470ms\tremaining: 487ms\n",
      "491:\tlearn: 0.1269795\ttotal: 470ms\tremaining: 486ms\n",
      "492:\tlearn: 0.1268801\ttotal: 471ms\tremaining: 485ms\n",
      "493:\tlearn: 0.1266784\ttotal: 472ms\tremaining: 484ms\n",
      "494:\tlearn: 0.1264145\ttotal: 473ms\tremaining: 482ms\n",
      "495:\tlearn: 0.1261301\ttotal: 474ms\tremaining: 481ms\n",
      "496:\tlearn: 0.1258254\ttotal: 475ms\tremaining: 480ms\n",
      "497:\tlearn: 0.1257799\ttotal: 475ms\tremaining: 479ms\n",
      "498:\tlearn: 0.1257343\ttotal: 476ms\tremaining: 478ms\n",
      "499:\tlearn: 0.1254277\ttotal: 477ms\tremaining: 477ms\n",
      "500:\tlearn: 0.1252977\ttotal: 478ms\tremaining: 476ms\n",
      "501:\tlearn: 0.1252738\ttotal: 479ms\tremaining: 475ms\n",
      "502:\tlearn: 0.1250088\ttotal: 480ms\tremaining: 474ms\n",
      "503:\tlearn: 0.1249894\ttotal: 480ms\tremaining: 473ms\n",
      "504:\tlearn: 0.1245909\ttotal: 481ms\tremaining: 472ms\n",
      "505:\tlearn: 0.1245104\ttotal: 482ms\tremaining: 470ms\n",
      "506:\tlearn: 0.1242845\ttotal: 483ms\tremaining: 469ms\n",
      "507:\tlearn: 0.1241329\ttotal: 483ms\tremaining: 468ms\n",
      "508:\tlearn: 0.1238579\ttotal: 484ms\tremaining: 467ms\n",
      "509:\tlearn: 0.1236041\ttotal: 485ms\tremaining: 466ms\n",
      "510:\tlearn: 0.1234253\ttotal: 486ms\tremaining: 465ms\n",
      "511:\tlearn: 0.1231030\ttotal: 486ms\tremaining: 464ms\n",
      "512:\tlearn: 0.1230596\ttotal: 487ms\tremaining: 463ms\n",
      "513:\tlearn: 0.1228102\ttotal: 488ms\tremaining: 462ms\n"
     ]
    },
    {
     "name": "stdout",
     "output_type": "stream",
     "text": [
      "514:\tlearn: 0.1226469\ttotal: 489ms\tremaining: 461ms\n",
      "515:\tlearn: 0.1226183\ttotal: 490ms\tremaining: 460ms\n",
      "516:\tlearn: 0.1224483\ttotal: 491ms\tremaining: 459ms\n",
      "517:\tlearn: 0.1221612\ttotal: 492ms\tremaining: 458ms\n",
      "518:\tlearn: 0.1219562\ttotal: 493ms\tremaining: 456ms\n",
      "519:\tlearn: 0.1217270\ttotal: 493ms\tremaining: 455ms\n",
      "520:\tlearn: 0.1215624\ttotal: 494ms\tremaining: 454ms\n",
      "521:\tlearn: 0.1214754\ttotal: 495ms\tremaining: 453ms\n",
      "522:\tlearn: 0.1211176\ttotal: 496ms\tremaining: 452ms\n",
      "523:\tlearn: 0.1208782\ttotal: 497ms\tremaining: 451ms\n",
      "524:\tlearn: 0.1206791\ttotal: 498ms\tremaining: 450ms\n",
      "525:\tlearn: 0.1204059\ttotal: 498ms\tremaining: 449ms\n",
      "526:\tlearn: 0.1202407\ttotal: 499ms\tremaining: 448ms\n",
      "527:\tlearn: 0.1201686\ttotal: 500ms\tremaining: 447ms\n",
      "528:\tlearn: 0.1200220\ttotal: 501ms\tremaining: 446ms\n",
      "529:\tlearn: 0.1198225\ttotal: 502ms\tremaining: 445ms\n",
      "530:\tlearn: 0.1197000\ttotal: 502ms\tremaining: 444ms\n",
      "531:\tlearn: 0.1193878\ttotal: 503ms\tremaining: 443ms\n",
      "532:\tlearn: 0.1193610\ttotal: 504ms\tremaining: 442ms\n",
      "533:\tlearn: 0.1189976\ttotal: 505ms\tremaining: 441ms\n",
      "534:\tlearn: 0.1187232\ttotal: 506ms\tremaining: 440ms\n",
      "535:\tlearn: 0.1185600\ttotal: 507ms\tremaining: 439ms\n",
      "536:\tlearn: 0.1183993\ttotal: 508ms\tremaining: 438ms\n",
      "537:\tlearn: 0.1183758\ttotal: 509ms\tremaining: 437ms\n",
      "538:\tlearn: 0.1181159\ttotal: 509ms\tremaining: 436ms\n",
      "539:\tlearn: 0.1178949\ttotal: 510ms\tremaining: 435ms\n",
      "540:\tlearn: 0.1176803\ttotal: 511ms\tremaining: 434ms\n",
      "541:\tlearn: 0.1175339\ttotal: 512ms\tremaining: 433ms\n",
      "542:\tlearn: 0.1172843\ttotal: 513ms\tremaining: 432ms\n",
      "543:\tlearn: 0.1170953\ttotal: 514ms\tremaining: 431ms\n",
      "544:\tlearn: 0.1168818\ttotal: 515ms\tremaining: 430ms\n",
      "545:\tlearn: 0.1166800\ttotal: 516ms\tremaining: 429ms\n",
      "546:\tlearn: 0.1164689\ttotal: 517ms\tremaining: 428ms\n",
      "547:\tlearn: 0.1162921\ttotal: 518ms\tremaining: 427ms\n",
      "548:\tlearn: 0.1161472\ttotal: 518ms\tremaining: 426ms\n",
      "549:\tlearn: 0.1158853\ttotal: 519ms\tremaining: 425ms\n",
      "550:\tlearn: 0.1157215\ttotal: 520ms\tremaining: 424ms\n",
      "551:\tlearn: 0.1157020\ttotal: 521ms\tremaining: 423ms\n",
      "552:\tlearn: 0.1155592\ttotal: 521ms\tremaining: 422ms\n",
      "553:\tlearn: 0.1155392\ttotal: 522ms\tremaining: 420ms\n",
      "554:\tlearn: 0.1154213\ttotal: 523ms\tremaining: 419ms\n",
      "555:\tlearn: 0.1153491\ttotal: 524ms\tremaining: 418ms\n",
      "556:\tlearn: 0.1151834\ttotal: 525ms\tremaining: 417ms\n",
      "557:\tlearn: 0.1149284\ttotal: 526ms\tremaining: 416ms\n",
      "558:\tlearn: 0.1147278\ttotal: 526ms\tremaining: 415ms\n",
      "559:\tlearn: 0.1144928\ttotal: 527ms\tremaining: 414ms\n",
      "560:\tlearn: 0.1143564\ttotal: 528ms\tremaining: 413ms\n",
      "561:\tlearn: 0.1141006\ttotal: 529ms\tremaining: 412ms\n",
      "562:\tlearn: 0.1139087\ttotal: 529ms\tremaining: 411ms\n",
      "563:\tlearn: 0.1137543\ttotal: 530ms\tremaining: 410ms\n",
      "564:\tlearn: 0.1137252\ttotal: 531ms\tremaining: 409ms\n",
      "565:\tlearn: 0.1135043\ttotal: 532ms\tremaining: 408ms\n",
      "566:\tlearn: 0.1131922\ttotal: 533ms\tremaining: 407ms\n",
      "567:\tlearn: 0.1129494\ttotal: 533ms\tremaining: 406ms\n",
      "568:\tlearn: 0.1127360\ttotal: 534ms\tremaining: 405ms\n",
      "569:\tlearn: 0.1124864\ttotal: 535ms\tremaining: 404ms\n",
      "570:\tlearn: 0.1123719\ttotal: 536ms\tremaining: 403ms\n",
      "571:\tlearn: 0.1122037\ttotal: 537ms\tremaining: 402ms\n",
      "572:\tlearn: 0.1120920\ttotal: 537ms\tremaining: 401ms\n",
      "573:\tlearn: 0.1119130\ttotal: 538ms\tremaining: 399ms\n",
      "574:\tlearn: 0.1117987\ttotal: 539ms\tremaining: 398ms\n",
      "575:\tlearn: 0.1115318\ttotal: 540ms\tremaining: 397ms\n",
      "576:\tlearn: 0.1113674\ttotal: 541ms\tremaining: 396ms\n",
      "577:\tlearn: 0.1112094\ttotal: 542ms\tremaining: 396ms\n",
      "578:\tlearn: 0.1110601\ttotal: 543ms\tremaining: 395ms\n",
      "579:\tlearn: 0.1108557\ttotal: 543ms\tremaining: 394ms\n",
      "580:\tlearn: 0.1106902\ttotal: 544ms\tremaining: 392ms\n",
      "581:\tlearn: 0.1105809\ttotal: 545ms\tremaining: 391ms\n",
      "582:\tlearn: 0.1103493\ttotal: 546ms\tremaining: 390ms\n",
      "583:\tlearn: 0.1101171\ttotal: 546ms\tremaining: 389ms\n",
      "584:\tlearn: 0.1099633\ttotal: 547ms\tremaining: 388ms\n",
      "585:\tlearn: 0.1099361\ttotal: 548ms\tremaining: 387ms\n",
      "586:\tlearn: 0.1096792\ttotal: 549ms\tremaining: 386ms\n",
      "587:\tlearn: 0.1095493\ttotal: 550ms\tremaining: 385ms\n",
      "588:\tlearn: 0.1094010\ttotal: 550ms\tremaining: 384ms\n",
      "589:\tlearn: 0.1092415\ttotal: 551ms\tremaining: 383ms\n",
      "590:\tlearn: 0.1090934\ttotal: 552ms\tremaining: 382ms\n",
      "591:\tlearn: 0.1089673\ttotal: 553ms\tremaining: 381ms\n",
      "592:\tlearn: 0.1087270\ttotal: 554ms\tremaining: 380ms\n",
      "593:\tlearn: 0.1085314\ttotal: 554ms\tremaining: 379ms\n",
      "594:\tlearn: 0.1083475\ttotal: 555ms\tremaining: 378ms\n",
      "595:\tlearn: 0.1082465\ttotal: 556ms\tremaining: 377ms\n",
      "596:\tlearn: 0.1081270\ttotal: 557ms\tremaining: 376ms\n",
      "597:\tlearn: 0.1079801\ttotal: 557ms\tremaining: 375ms\n",
      "598:\tlearn: 0.1078446\ttotal: 558ms\tremaining: 374ms\n",
      "599:\tlearn: 0.1077275\ttotal: 559ms\tremaining: 373ms\n",
      "600:\tlearn: 0.1076043\ttotal: 560ms\tremaining: 372ms\n",
      "601:\tlearn: 0.1073848\ttotal: 560ms\tremaining: 371ms\n",
      "602:\tlearn: 0.1072461\ttotal: 561ms\tremaining: 370ms\n",
      "603:\tlearn: 0.1070488\ttotal: 562ms\tremaining: 369ms\n",
      "604:\tlearn: 0.1069210\ttotal: 563ms\tremaining: 368ms\n",
      "605:\tlearn: 0.1067912\ttotal: 564ms\tremaining: 367ms\n",
      "606:\tlearn: 0.1065942\ttotal: 565ms\tremaining: 366ms\n",
      "607:\tlearn: 0.1063708\ttotal: 565ms\tremaining: 365ms\n",
      "608:\tlearn: 0.1061912\ttotal: 566ms\tremaining: 364ms\n",
      "609:\tlearn: 0.1060057\ttotal: 567ms\tremaining: 363ms\n",
      "610:\tlearn: 0.1057719\ttotal: 568ms\tremaining: 362ms\n",
      "611:\tlearn: 0.1055980\ttotal: 569ms\tremaining: 361ms\n",
      "612:\tlearn: 0.1053432\ttotal: 570ms\tremaining: 360ms\n",
      "613:\tlearn: 0.1053167\ttotal: 570ms\tremaining: 359ms\n"
     ]
    },
    {
     "name": "stdout",
     "output_type": "stream",
     "text": [
      "614:\tlearn: 0.1051724\ttotal: 571ms\tremaining: 358ms\n",
      "615:\tlearn: 0.1050805\ttotal: 572ms\tremaining: 357ms\n",
      "616:\tlearn: 0.1048351\ttotal: 573ms\tremaining: 356ms\n",
      "617:\tlearn: 0.1047005\ttotal: 574ms\tremaining: 355ms\n",
      "618:\tlearn: 0.1046724\ttotal: 575ms\tremaining: 354ms\n",
      "619:\tlearn: 0.1045170\ttotal: 576ms\tremaining: 353ms\n",
      "620:\tlearn: 0.1044668\ttotal: 576ms\tremaining: 352ms\n",
      "621:\tlearn: 0.1043972\ttotal: 577ms\tremaining: 351ms\n",
      "622:\tlearn: 0.1042958\ttotal: 578ms\tremaining: 350ms\n",
      "623:\tlearn: 0.1042704\ttotal: 579ms\tremaining: 349ms\n",
      "624:\tlearn: 0.1041224\ttotal: 579ms\tremaining: 348ms\n",
      "625:\tlearn: 0.1040217\ttotal: 580ms\tremaining: 347ms\n",
      "626:\tlearn: 0.1037902\ttotal: 581ms\tremaining: 346ms\n",
      "627:\tlearn: 0.1036627\ttotal: 582ms\tremaining: 345ms\n",
      "628:\tlearn: 0.1034084\ttotal: 583ms\tremaining: 344ms\n",
      "629:\tlearn: 0.1032950\ttotal: 584ms\tremaining: 343ms\n",
      "630:\tlearn: 0.1031077\ttotal: 584ms\tremaining: 342ms\n",
      "631:\tlearn: 0.1029224\ttotal: 585ms\tremaining: 341ms\n",
      "632:\tlearn: 0.1027540\ttotal: 586ms\tremaining: 340ms\n",
      "633:\tlearn: 0.1025985\ttotal: 587ms\tremaining: 339ms\n",
      "634:\tlearn: 0.1023890\ttotal: 588ms\tremaining: 338ms\n",
      "635:\tlearn: 0.1021408\ttotal: 588ms\tremaining: 337ms\n",
      "636:\tlearn: 0.1019533\ttotal: 589ms\tremaining: 336ms\n",
      "637:\tlearn: 0.1016952\ttotal: 590ms\tremaining: 335ms\n",
      "638:\tlearn: 0.1014794\ttotal: 591ms\tremaining: 334ms\n",
      "639:\tlearn: 0.1012691\ttotal: 591ms\tremaining: 333ms\n",
      "640:\tlearn: 0.1011495\ttotal: 592ms\tremaining: 332ms\n",
      "641:\tlearn: 0.1010018\ttotal: 593ms\tremaining: 331ms\n",
      "642:\tlearn: 0.1007404\ttotal: 594ms\tremaining: 330ms\n",
      "643:\tlearn: 0.1004652\ttotal: 594ms\tremaining: 329ms\n",
      "644:\tlearn: 0.1002741\ttotal: 595ms\tremaining: 328ms\n",
      "645:\tlearn: 0.1000710\ttotal: 596ms\tremaining: 327ms\n",
      "646:\tlearn: 0.0998812\ttotal: 597ms\tremaining: 326ms\n",
      "647:\tlearn: 0.0997240\ttotal: 598ms\tremaining: 325ms\n",
      "648:\tlearn: 0.0996595\ttotal: 599ms\tremaining: 324ms\n",
      "649:\tlearn: 0.0995718\ttotal: 599ms\tremaining: 323ms\n",
      "650:\tlearn: 0.0993741\ttotal: 600ms\tremaining: 322ms\n",
      "651:\tlearn: 0.0993137\ttotal: 601ms\tremaining: 321ms\n",
      "652:\tlearn: 0.0992114\ttotal: 602ms\tremaining: 320ms\n",
      "653:\tlearn: 0.0991014\ttotal: 603ms\tremaining: 319ms\n",
      "654:\tlearn: 0.0989651\ttotal: 604ms\tremaining: 318ms\n",
      "655:\tlearn: 0.0988419\ttotal: 604ms\tremaining: 317ms\n",
      "656:\tlearn: 0.0986446\ttotal: 605ms\tremaining: 316ms\n",
      "657:\tlearn: 0.0985648\ttotal: 606ms\tremaining: 315ms\n",
      "658:\tlearn: 0.0984242\ttotal: 607ms\tremaining: 314ms\n",
      "659:\tlearn: 0.0983640\ttotal: 608ms\tremaining: 313ms\n",
      "660:\tlearn: 0.0983424\ttotal: 609ms\tremaining: 312ms\n",
      "661:\tlearn: 0.0980700\ttotal: 609ms\tremaining: 311ms\n",
      "662:\tlearn: 0.0980353\ttotal: 610ms\tremaining: 310ms\n",
      "663:\tlearn: 0.0978868\ttotal: 612ms\tremaining: 310ms\n",
      "664:\tlearn: 0.0977691\ttotal: 613ms\tremaining: 309ms\n",
      "665:\tlearn: 0.0975177\ttotal: 613ms\tremaining: 308ms\n",
      "666:\tlearn: 0.0974293\ttotal: 614ms\tremaining: 307ms\n",
      "667:\tlearn: 0.0972721\ttotal: 615ms\tremaining: 306ms\n",
      "668:\tlearn: 0.0970497\ttotal: 616ms\tremaining: 305ms\n",
      "669:\tlearn: 0.0968610\ttotal: 617ms\tremaining: 304ms\n",
      "670:\tlearn: 0.0966442\ttotal: 617ms\tremaining: 303ms\n",
      "671:\tlearn: 0.0964153\ttotal: 618ms\tremaining: 302ms\n",
      "672:\tlearn: 0.0962821\ttotal: 619ms\tremaining: 301ms\n",
      "673:\tlearn: 0.0961055\ttotal: 620ms\tremaining: 300ms\n",
      "674:\tlearn: 0.0959926\ttotal: 621ms\tremaining: 299ms\n",
      "675:\tlearn: 0.0958218\ttotal: 621ms\tremaining: 298ms\n",
      "676:\tlearn: 0.0957112\ttotal: 622ms\tremaining: 297ms\n",
      "677:\tlearn: 0.0955501\ttotal: 623ms\tremaining: 296ms\n",
      "678:\tlearn: 0.0954449\ttotal: 624ms\tremaining: 295ms\n",
      "679:\tlearn: 0.0953304\ttotal: 625ms\tremaining: 294ms\n",
      "680:\tlearn: 0.0951434\ttotal: 625ms\tremaining: 293ms\n",
      "681:\tlearn: 0.0950057\ttotal: 626ms\tremaining: 292ms\n",
      "682:\tlearn: 0.0948207\ttotal: 627ms\tremaining: 291ms\n",
      "683:\tlearn: 0.0946328\ttotal: 628ms\tremaining: 290ms\n",
      "684:\tlearn: 0.0944753\ttotal: 629ms\tremaining: 289ms\n",
      "685:\tlearn: 0.0943257\ttotal: 630ms\tremaining: 288ms\n",
      "686:\tlearn: 0.0941718\ttotal: 630ms\tremaining: 287ms\n",
      "687:\tlearn: 0.0940190\ttotal: 631ms\tremaining: 286ms\n",
      "688:\tlearn: 0.0937634\ttotal: 632ms\tremaining: 285ms\n",
      "689:\tlearn: 0.0936676\ttotal: 633ms\tremaining: 284ms\n",
      "690:\tlearn: 0.0935684\ttotal: 634ms\tremaining: 283ms\n",
      "691:\tlearn: 0.0933765\ttotal: 635ms\tremaining: 282ms\n",
      "692:\tlearn: 0.0932645\ttotal: 635ms\tremaining: 281ms\n",
      "693:\tlearn: 0.0930376\ttotal: 636ms\tremaining: 281ms\n",
      "694:\tlearn: 0.0929269\ttotal: 637ms\tremaining: 280ms\n",
      "695:\tlearn: 0.0926644\ttotal: 638ms\tremaining: 279ms\n",
      "696:\tlearn: 0.0925100\ttotal: 638ms\tremaining: 278ms\n",
      "697:\tlearn: 0.0923631\ttotal: 639ms\tremaining: 277ms\n",
      "698:\tlearn: 0.0921830\ttotal: 640ms\tremaining: 276ms\n",
      "699:\tlearn: 0.0920549\ttotal: 641ms\tremaining: 275ms\n",
      "700:\tlearn: 0.0919399\ttotal: 642ms\tremaining: 274ms\n",
      "701:\tlearn: 0.0918401\ttotal: 643ms\tremaining: 273ms\n",
      "702:\tlearn: 0.0917386\ttotal: 643ms\tremaining: 272ms\n",
      "703:\tlearn: 0.0915687\ttotal: 644ms\tremaining: 271ms\n",
      "704:\tlearn: 0.0914654\ttotal: 645ms\tremaining: 270ms\n",
      "705:\tlearn: 0.0912684\ttotal: 646ms\tremaining: 269ms\n",
      "706:\tlearn: 0.0910413\ttotal: 647ms\tremaining: 268ms\n",
      "707:\tlearn: 0.0909514\ttotal: 648ms\tremaining: 267ms\n",
      "708:\tlearn: 0.0907875\ttotal: 649ms\tremaining: 266ms\n",
      "709:\tlearn: 0.0907310\ttotal: 649ms\tremaining: 265ms\n",
      "710:\tlearn: 0.0906453\ttotal: 650ms\tremaining: 264ms\n",
      "711:\tlearn: 0.0905220\ttotal: 651ms\tremaining: 263ms\n",
      "712:\tlearn: 0.0904268\ttotal: 652ms\tremaining: 262ms\n",
      "713:\tlearn: 0.0903648\ttotal: 653ms\tremaining: 261ms\n",
      "714:\tlearn: 0.0902151\ttotal: 653ms\tremaining: 260ms\n",
      "715:\tlearn: 0.0900599\ttotal: 654ms\tremaining: 259ms\n",
      "716:\tlearn: 0.0898703\ttotal: 655ms\tremaining: 259ms\n",
      "717:\tlearn: 0.0897085\ttotal: 656ms\tremaining: 258ms\n",
      "718:\tlearn: 0.0896213\ttotal: 656ms\tremaining: 257ms\n",
      "719:\tlearn: 0.0895347\ttotal: 657ms\tremaining: 256ms\n",
      "720:\tlearn: 0.0894100\ttotal: 658ms\tremaining: 255ms\n",
      "721:\tlearn: 0.0893282\ttotal: 659ms\tremaining: 254ms\n",
      "722:\tlearn: 0.0892135\ttotal: 660ms\tremaining: 253ms\n",
      "723:\tlearn: 0.0892000\ttotal: 661ms\tremaining: 252ms\n",
      "724:\tlearn: 0.0889592\ttotal: 662ms\tremaining: 251ms\n",
      "725:\tlearn: 0.0889237\ttotal: 663ms\tremaining: 250ms\n",
      "726:\tlearn: 0.0888219\ttotal: 664ms\tremaining: 249ms\n",
      "727:\tlearn: 0.0885895\ttotal: 664ms\tremaining: 248ms\n",
      "728:\tlearn: 0.0885770\ttotal: 665ms\tremaining: 247ms\n",
      "729:\tlearn: 0.0884862\ttotal: 666ms\tremaining: 246ms\n",
      "730:\tlearn: 0.0883405\ttotal: 667ms\tremaining: 245ms\n",
      "731:\tlearn: 0.0882434\ttotal: 668ms\tremaining: 244ms\n",
      "732:\tlearn: 0.0881435\ttotal: 669ms\tremaining: 244ms\n",
      "733:\tlearn: 0.0880274\ttotal: 669ms\tremaining: 243ms\n",
      "734:\tlearn: 0.0879446\ttotal: 670ms\tremaining: 242ms\n",
      "735:\tlearn: 0.0877989\ttotal: 671ms\tremaining: 241ms\n",
      "736:\tlearn: 0.0877530\ttotal: 672ms\tremaining: 240ms\n",
      "737:\tlearn: 0.0876635\ttotal: 673ms\tremaining: 239ms\n",
      "738:\tlearn: 0.0875690\ttotal: 674ms\tremaining: 238ms\n",
      "739:\tlearn: 0.0874115\ttotal: 674ms\tremaining: 237ms\n",
      "740:\tlearn: 0.0872735\ttotal: 675ms\tremaining: 236ms\n",
      "741:\tlearn: 0.0870468\ttotal: 676ms\tremaining: 235ms\n",
      "742:\tlearn: 0.0868715\ttotal: 677ms\tremaining: 234ms\n",
      "743:\tlearn: 0.0867448\ttotal: 677ms\tremaining: 233ms\n",
      "744:\tlearn: 0.0867099\ttotal: 678ms\tremaining: 232ms\n",
      "745:\tlearn: 0.0866149\ttotal: 679ms\tremaining: 231ms\n"
     ]
    },
    {
     "name": "stdout",
     "output_type": "stream",
     "text": [
      "746:\tlearn: 0.0864428\ttotal: 680ms\tremaining: 230ms\n",
      "747:\tlearn: 0.0863997\ttotal: 681ms\tremaining: 230ms\n",
      "748:\tlearn: 0.0862421\ttotal: 682ms\tremaining: 229ms\n",
      "749:\tlearn: 0.0860850\ttotal: 683ms\tremaining: 228ms\n",
      "750:\tlearn: 0.0859340\ttotal: 684ms\tremaining: 227ms\n",
      "751:\tlearn: 0.0857391\ttotal: 685ms\tremaining: 226ms\n",
      "752:\tlearn: 0.0855798\ttotal: 686ms\tremaining: 225ms\n",
      "753:\tlearn: 0.0854037\ttotal: 686ms\tremaining: 224ms\n",
      "754:\tlearn: 0.0852872\ttotal: 687ms\tremaining: 223ms\n",
      "755:\tlearn: 0.0851850\ttotal: 688ms\tremaining: 222ms\n",
      "756:\tlearn: 0.0850990\ttotal: 689ms\tremaining: 221ms\n",
      "757:\tlearn: 0.0849786\ttotal: 690ms\tremaining: 220ms\n",
      "758:\tlearn: 0.0848713\ttotal: 690ms\tremaining: 219ms\n",
      "759:\tlearn: 0.0848603\ttotal: 691ms\tremaining: 218ms\n",
      "760:\tlearn: 0.0847420\ttotal: 692ms\tremaining: 217ms\n",
      "761:\tlearn: 0.0846639\ttotal: 693ms\tremaining: 216ms\n",
      "762:\tlearn: 0.0846056\ttotal: 694ms\tremaining: 215ms\n",
      "763:\tlearn: 0.0844797\ttotal: 695ms\tremaining: 215ms\n",
      "764:\tlearn: 0.0843725\ttotal: 695ms\tremaining: 214ms\n",
      "765:\tlearn: 0.0841778\ttotal: 696ms\tremaining: 213ms\n",
      "766:\tlearn: 0.0840237\ttotal: 697ms\tremaining: 212ms\n",
      "767:\tlearn: 0.0839272\ttotal: 698ms\tremaining: 211ms\n",
      "768:\tlearn: 0.0837957\ttotal: 699ms\tremaining: 210ms\n",
      "769:\tlearn: 0.0837116\ttotal: 700ms\tremaining: 209ms\n",
      "770:\tlearn: 0.0835891\ttotal: 701ms\tremaining: 208ms\n",
      "771:\tlearn: 0.0835106\ttotal: 701ms\tremaining: 207ms\n",
      "772:\tlearn: 0.0834370\ttotal: 702ms\tremaining: 206ms\n",
      "773:\tlearn: 0.0832619\ttotal: 703ms\tremaining: 205ms\n",
      "774:\tlearn: 0.0831785\ttotal: 704ms\tremaining: 204ms\n",
      "775:\tlearn: 0.0830345\ttotal: 704ms\tremaining: 203ms\n",
      "776:\tlearn: 0.0828804\ttotal: 705ms\tremaining: 202ms\n",
      "777:\tlearn: 0.0827611\ttotal: 706ms\tremaining: 201ms\n",
      "778:\tlearn: 0.0826911\ttotal: 707ms\tremaining: 201ms\n",
      "779:\tlearn: 0.0826624\ttotal: 708ms\tremaining: 200ms\n",
      "780:\tlearn: 0.0825346\ttotal: 708ms\tremaining: 199ms\n",
      "781:\tlearn: 0.0824621\ttotal: 709ms\tremaining: 198ms\n",
      "782:\tlearn: 0.0823799\ttotal: 710ms\tremaining: 197ms\n",
      "783:\tlearn: 0.0822573\ttotal: 711ms\tremaining: 196ms\n",
      "784:\tlearn: 0.0820529\ttotal: 712ms\tremaining: 195ms\n",
      "785:\tlearn: 0.0818778\ttotal: 713ms\tremaining: 194ms\n",
      "786:\tlearn: 0.0818170\ttotal: 713ms\tremaining: 193ms\n",
      "787:\tlearn: 0.0818010\ttotal: 714ms\tremaining: 192ms\n",
      "788:\tlearn: 0.0817681\ttotal: 715ms\tremaining: 191ms\n",
      "789:\tlearn: 0.0816949\ttotal: 716ms\tremaining: 190ms\n",
      "790:\tlearn: 0.0815231\ttotal: 717ms\tremaining: 189ms\n",
      "791:\tlearn: 0.0813730\ttotal: 717ms\tremaining: 188ms\n",
      "792:\tlearn: 0.0812398\ttotal: 718ms\tremaining: 187ms\n",
      "793:\tlearn: 0.0811380\ttotal: 719ms\tremaining: 187ms\n",
      "794:\tlearn: 0.0808813\ttotal: 720ms\tremaining: 186ms\n",
      "795:\tlearn: 0.0808001\ttotal: 720ms\tremaining: 185ms\n",
      "796:\tlearn: 0.0807375\ttotal: 721ms\tremaining: 184ms\n",
      "797:\tlearn: 0.0806015\ttotal: 722ms\tremaining: 183ms\n",
      "798:\tlearn: 0.0805040\ttotal: 723ms\tremaining: 182ms\n",
      "799:\tlearn: 0.0804221\ttotal: 724ms\tremaining: 181ms\n",
      "800:\tlearn: 0.0802568\ttotal: 724ms\tremaining: 180ms\n",
      "801:\tlearn: 0.0800856\ttotal: 725ms\tremaining: 179ms\n",
      "802:\tlearn: 0.0798994\ttotal: 726ms\tremaining: 178ms\n",
      "803:\tlearn: 0.0798264\ttotal: 727ms\tremaining: 177ms\n",
      "804:\tlearn: 0.0797615\ttotal: 728ms\tremaining: 176ms\n",
      "805:\tlearn: 0.0796627\ttotal: 728ms\tremaining: 175ms\n",
      "806:\tlearn: 0.0795711\ttotal: 729ms\tremaining: 174ms\n",
      "807:\tlearn: 0.0794872\ttotal: 730ms\tremaining: 173ms\n",
      "808:\tlearn: 0.0794196\ttotal: 731ms\tremaining: 173ms\n",
      "809:\tlearn: 0.0792484\ttotal: 732ms\tremaining: 172ms\n",
      "810:\tlearn: 0.0791532\ttotal: 733ms\tremaining: 171ms\n",
      "811:\tlearn: 0.0790583\ttotal: 733ms\tremaining: 170ms\n",
      "812:\tlearn: 0.0789511\ttotal: 734ms\tremaining: 169ms\n",
      "813:\tlearn: 0.0788659\ttotal: 735ms\tremaining: 168ms\n",
      "814:\tlearn: 0.0787421\ttotal: 736ms\tremaining: 167ms\n",
      "815:\tlearn: 0.0786573\ttotal: 737ms\tremaining: 166ms\n",
      "816:\tlearn: 0.0785077\ttotal: 737ms\tremaining: 165ms\n",
      "817:\tlearn: 0.0784341\ttotal: 738ms\tremaining: 164ms\n",
      "818:\tlearn: 0.0782902\ttotal: 739ms\tremaining: 163ms\n",
      "819:\tlearn: 0.0781771\ttotal: 740ms\tremaining: 162ms\n",
      "820:\tlearn: 0.0780956\ttotal: 741ms\tremaining: 162ms\n",
      "821:\tlearn: 0.0779759\ttotal: 742ms\tremaining: 161ms\n",
      "822:\tlearn: 0.0778525\ttotal: 742ms\tremaining: 160ms\n",
      "823:\tlearn: 0.0777030\ttotal: 743ms\tremaining: 159ms\n",
      "824:\tlearn: 0.0775512\ttotal: 744ms\tremaining: 158ms\n",
      "825:\tlearn: 0.0774580\ttotal: 745ms\tremaining: 157ms\n",
      "826:\tlearn: 0.0774331\ttotal: 745ms\tremaining: 156ms\n",
      "827:\tlearn: 0.0772516\ttotal: 746ms\tremaining: 155ms\n",
      "828:\tlearn: 0.0771533\ttotal: 747ms\tremaining: 154ms\n",
      "829:\tlearn: 0.0770625\ttotal: 748ms\tremaining: 153ms\n",
      "830:\tlearn: 0.0769410\ttotal: 749ms\tremaining: 152ms\n",
      "831:\tlearn: 0.0769221\ttotal: 749ms\tremaining: 151ms\n",
      "832:\tlearn: 0.0767480\ttotal: 750ms\tremaining: 150ms\n",
      "833:\tlearn: 0.0765955\ttotal: 751ms\tremaining: 149ms\n",
      "834:\tlearn: 0.0765871\ttotal: 752ms\tremaining: 149ms\n",
      "835:\tlearn: 0.0764937\ttotal: 753ms\tremaining: 148ms\n",
      "836:\tlearn: 0.0764753\ttotal: 753ms\tremaining: 147ms\n",
      "837:\tlearn: 0.0764015\ttotal: 754ms\tremaining: 146ms\n",
      "838:\tlearn: 0.0762714\ttotal: 755ms\tremaining: 145ms\n",
      "839:\tlearn: 0.0761495\ttotal: 756ms\tremaining: 144ms\n",
      "840:\tlearn: 0.0760076\ttotal: 757ms\tremaining: 143ms\n",
      "841:\tlearn: 0.0758353\ttotal: 757ms\tremaining: 142ms\n",
      "842:\tlearn: 0.0757470\ttotal: 758ms\tremaining: 141ms\n",
      "843:\tlearn: 0.0756128\ttotal: 759ms\tremaining: 140ms\n",
      "844:\tlearn: 0.0754784\ttotal: 760ms\tremaining: 139ms\n",
      "845:\tlearn: 0.0754132\ttotal: 761ms\tremaining: 139ms\n"
     ]
    },
    {
     "name": "stdout",
     "output_type": "stream",
     "text": [
      "846:\tlearn: 0.0753394\ttotal: 762ms\tremaining: 138ms\n",
      "847:\tlearn: 0.0752306\ttotal: 763ms\tremaining: 137ms\n",
      "848:\tlearn: 0.0751213\ttotal: 764ms\tremaining: 136ms\n",
      "849:\tlearn: 0.0749973\ttotal: 764ms\tremaining: 135ms\n",
      "850:\tlearn: 0.0749068\ttotal: 765ms\tremaining: 134ms\n",
      "851:\tlearn: 0.0747767\ttotal: 766ms\tremaining: 133ms\n",
      "852:\tlearn: 0.0747215\ttotal: 767ms\tremaining: 132ms\n",
      "853:\tlearn: 0.0745683\ttotal: 768ms\tremaining: 131ms\n",
      "854:\tlearn: 0.0744014\ttotal: 769ms\tremaining: 130ms\n",
      "855:\tlearn: 0.0743946\ttotal: 769ms\tremaining: 129ms\n",
      "856:\tlearn: 0.0742184\ttotal: 770ms\tremaining: 129ms\n",
      "857:\tlearn: 0.0741835\ttotal: 771ms\tremaining: 128ms\n",
      "858:\tlearn: 0.0740536\ttotal: 772ms\tremaining: 127ms\n",
      "859:\tlearn: 0.0740018\ttotal: 773ms\tremaining: 126ms\n",
      "860:\tlearn: 0.0739485\ttotal: 773ms\tremaining: 125ms\n",
      "861:\tlearn: 0.0739217\ttotal: 774ms\tremaining: 124ms\n",
      "862:\tlearn: 0.0737465\ttotal: 775ms\tremaining: 123ms\n",
      "863:\tlearn: 0.0737039\ttotal: 776ms\tremaining: 122ms\n",
      "864:\tlearn: 0.0736591\ttotal: 776ms\tremaining: 121ms\n",
      "865:\tlearn: 0.0735427\ttotal: 777ms\tremaining: 120ms\n",
      "866:\tlearn: 0.0733989\ttotal: 778ms\tremaining: 119ms\n",
      "867:\tlearn: 0.0732720\ttotal: 779ms\tremaining: 118ms\n",
      "868:\tlearn: 0.0731973\ttotal: 780ms\tremaining: 118ms\n",
      "869:\tlearn: 0.0731306\ttotal: 780ms\tremaining: 117ms\n",
      "870:\tlearn: 0.0730092\ttotal: 781ms\tremaining: 116ms\n",
      "871:\tlearn: 0.0729496\ttotal: 782ms\tremaining: 115ms\n",
      "872:\tlearn: 0.0728664\ttotal: 783ms\tremaining: 114ms\n",
      "873:\tlearn: 0.0727259\ttotal: 784ms\tremaining: 113ms\n",
      "874:\tlearn: 0.0726812\ttotal: 785ms\tremaining: 112ms\n",
      "875:\tlearn: 0.0725228\ttotal: 785ms\tremaining: 111ms\n",
      "876:\tlearn: 0.0724151\ttotal: 786ms\tremaining: 110ms\n",
      "877:\tlearn: 0.0723211\ttotal: 787ms\tremaining: 109ms\n",
      "878:\tlearn: 0.0721093\ttotal: 788ms\tremaining: 108ms\n",
      "879:\tlearn: 0.0720719\ttotal: 789ms\tremaining: 108ms\n",
      "880:\tlearn: 0.0718999\ttotal: 790ms\tremaining: 107ms\n",
      "881:\tlearn: 0.0718036\ttotal: 791ms\tremaining: 106ms\n",
      "882:\tlearn: 0.0717361\ttotal: 791ms\tremaining: 105ms\n",
      "883:\tlearn: 0.0716068\ttotal: 792ms\tremaining: 104ms\n",
      "884:\tlearn: 0.0715487\ttotal: 793ms\tremaining: 103ms\n",
      "885:\tlearn: 0.0714323\ttotal: 794ms\tremaining: 102ms\n",
      "886:\tlearn: 0.0712749\ttotal: 795ms\tremaining: 101ms\n",
      "887:\tlearn: 0.0712124\ttotal: 795ms\tremaining: 100ms\n",
      "888:\tlearn: 0.0711703\ttotal: 796ms\tremaining: 99.4ms\n",
      "889:\tlearn: 0.0711610\ttotal: 797ms\tremaining: 98.5ms\n",
      "890:\tlearn: 0.0710479\ttotal: 798ms\tremaining: 97.6ms\n",
      "891:\tlearn: 0.0710317\ttotal: 798ms\tremaining: 96.7ms\n",
      "892:\tlearn: 0.0709118\ttotal: 799ms\tremaining: 95.8ms\n",
      "893:\tlearn: 0.0708406\ttotal: 800ms\tremaining: 94.9ms\n",
      "894:\tlearn: 0.0707721\ttotal: 801ms\tremaining: 93.9ms\n",
      "895:\tlearn: 0.0706135\ttotal: 802ms\tremaining: 93ms\n",
      "896:\tlearn: 0.0704948\ttotal: 802ms\tremaining: 92.1ms\n",
      "897:\tlearn: 0.0703775\ttotal: 803ms\tremaining: 91.2ms\n",
      "898:\tlearn: 0.0702497\ttotal: 804ms\tremaining: 90.3ms\n",
      "899:\tlearn: 0.0701403\ttotal: 805ms\tremaining: 89.4ms\n",
      "900:\tlearn: 0.0700610\ttotal: 806ms\tremaining: 88.5ms\n",
      "901:\tlearn: 0.0699651\ttotal: 806ms\tremaining: 87.6ms\n",
      "902:\tlearn: 0.0698629\ttotal: 807ms\tremaining: 86.7ms\n",
      "903:\tlearn: 0.0697842\ttotal: 808ms\tremaining: 85.8ms\n",
      "904:\tlearn: 0.0696985\ttotal: 809ms\tremaining: 84.9ms\n",
      "905:\tlearn: 0.0696156\ttotal: 810ms\tremaining: 84ms\n",
      "906:\tlearn: 0.0695755\ttotal: 810ms\tremaining: 83.1ms\n",
      "907:\tlearn: 0.0694780\ttotal: 811ms\tremaining: 82.2ms\n",
      "908:\tlearn: 0.0694724\ttotal: 812ms\tremaining: 81.3ms\n",
      "909:\tlearn: 0.0693050\ttotal: 813ms\tremaining: 80.4ms\n",
      "910:\tlearn: 0.0691678\ttotal: 814ms\tremaining: 79.5ms\n",
      "911:\tlearn: 0.0690302\ttotal: 814ms\tremaining: 78.6ms\n",
      "912:\tlearn: 0.0689539\ttotal: 815ms\tremaining: 77.7ms\n",
      "913:\tlearn: 0.0688663\ttotal: 816ms\tremaining: 76.8ms\n",
      "914:\tlearn: 0.0686966\ttotal: 817ms\tremaining: 75.9ms\n",
      "915:\tlearn: 0.0685832\ttotal: 818ms\tremaining: 75ms\n",
      "916:\tlearn: 0.0685186\ttotal: 818ms\tremaining: 74.1ms\n",
      "917:\tlearn: 0.0684013\ttotal: 819ms\tremaining: 73.2ms\n",
      "918:\tlearn: 0.0682865\ttotal: 820ms\tremaining: 72.3ms\n",
      "919:\tlearn: 0.0682233\ttotal: 821ms\tremaining: 71.4ms\n",
      "920:\tlearn: 0.0681010\ttotal: 822ms\tremaining: 70.5ms\n",
      "921:\tlearn: 0.0679495\ttotal: 822ms\tremaining: 69.6ms\n",
      "922:\tlearn: 0.0679093\ttotal: 823ms\tremaining: 68.7ms\n",
      "923:\tlearn: 0.0678165\ttotal: 824ms\tremaining: 67.8ms\n",
      "924:\tlearn: 0.0677583\ttotal: 825ms\tremaining: 66.9ms\n",
      "925:\tlearn: 0.0676824\ttotal: 826ms\tremaining: 66ms\n",
      "926:\tlearn: 0.0675627\ttotal: 826ms\tremaining: 65.1ms\n",
      "927:\tlearn: 0.0674271\ttotal: 827ms\tremaining: 64.2ms\n",
      "928:\tlearn: 0.0672692\ttotal: 828ms\tremaining: 63.3ms\n",
      "929:\tlearn: 0.0671021\ttotal: 829ms\tremaining: 62.4ms\n",
      "930:\tlearn: 0.0669835\ttotal: 830ms\tremaining: 61.5ms\n",
      "931:\tlearn: 0.0668303\ttotal: 830ms\tremaining: 60.6ms\n",
      "932:\tlearn: 0.0668113\ttotal: 831ms\tremaining: 59.7ms\n",
      "933:\tlearn: 0.0667087\ttotal: 832ms\tremaining: 58.8ms\n",
      "934:\tlearn: 0.0666027\ttotal: 833ms\tremaining: 57.9ms\n",
      "935:\tlearn: 0.0665365\ttotal: 834ms\tremaining: 57ms\n",
      "936:\tlearn: 0.0664219\ttotal: 835ms\tremaining: 56.1ms\n",
      "937:\tlearn: 0.0663270\ttotal: 836ms\tremaining: 55.2ms\n",
      "938:\tlearn: 0.0662556\ttotal: 837ms\tremaining: 54.3ms\n",
      "939:\tlearn: 0.0661471\ttotal: 837ms\tremaining: 53.5ms\n",
      "940:\tlearn: 0.0660409\ttotal: 838ms\tremaining: 52.6ms\n",
      "941:\tlearn: 0.0659542\ttotal: 839ms\tremaining: 51.7ms\n",
      "942:\tlearn: 0.0658391\ttotal: 840ms\tremaining: 50.8ms\n",
      "943:\tlearn: 0.0657287\ttotal: 841ms\tremaining: 49.9ms\n",
      "944:\tlearn: 0.0656421\ttotal: 841ms\tremaining: 49ms\n",
      "945:\tlearn: 0.0655332\ttotal: 842ms\tremaining: 48.1ms\n",
      "946:\tlearn: 0.0654659\ttotal: 843ms\tremaining: 47.2ms\n",
      "947:\tlearn: 0.0652898\ttotal: 844ms\tremaining: 46.3ms\n",
      "948:\tlearn: 0.0652597\ttotal: 844ms\tremaining: 45.4ms\n",
      "949:\tlearn: 0.0651762\ttotal: 845ms\tremaining: 44.5ms\n",
      "950:\tlearn: 0.0650813\ttotal: 846ms\tremaining: 43.6ms\n",
      "951:\tlearn: 0.0650355\ttotal: 847ms\tremaining: 42.7ms\n",
      "952:\tlearn: 0.0649731\ttotal: 848ms\tremaining: 41.8ms\n",
      "953:\tlearn: 0.0648727\ttotal: 849ms\tremaining: 40.9ms\n",
      "954:\tlearn: 0.0647365\ttotal: 850ms\tremaining: 40ms\n",
      "955:\tlearn: 0.0646137\ttotal: 850ms\tremaining: 39.1ms\n",
      "956:\tlearn: 0.0645809\ttotal: 851ms\tremaining: 38.2ms\n",
      "957:\tlearn: 0.0644847\ttotal: 852ms\tremaining: 37.4ms\n",
      "958:\tlearn: 0.0643563\ttotal: 853ms\tremaining: 36.5ms\n",
      "959:\tlearn: 0.0642644\ttotal: 854ms\tremaining: 35.6ms\n",
      "960:\tlearn: 0.0641857\ttotal: 854ms\tremaining: 34.7ms\n",
      "961:\tlearn: 0.0641499\ttotal: 855ms\tremaining: 33.8ms\n",
      "962:\tlearn: 0.0640675\ttotal: 856ms\tremaining: 32.9ms\n",
      "963:\tlearn: 0.0640101\ttotal: 857ms\tremaining: 32ms\n",
      "964:\tlearn: 0.0639668\ttotal: 857ms\tremaining: 31.1ms\n",
      "965:\tlearn: 0.0638741\ttotal: 858ms\tremaining: 30.2ms\n",
      "966:\tlearn: 0.0637877\ttotal: 859ms\tremaining: 29.3ms\n",
      "967:\tlearn: 0.0637572\ttotal: 860ms\tremaining: 28.4ms\n",
      "968:\tlearn: 0.0636715\ttotal: 861ms\tremaining: 27.5ms\n",
      "969:\tlearn: 0.0636184\ttotal: 862ms\tremaining: 26.6ms\n",
      "970:\tlearn: 0.0634639\ttotal: 862ms\tremaining: 25.8ms\n",
      "971:\tlearn: 0.0633899\ttotal: 863ms\tremaining: 24.9ms\n",
      "972:\tlearn: 0.0633061\ttotal: 864ms\tremaining: 24ms\n",
      "973:\tlearn: 0.0631824\ttotal: 865ms\tremaining: 23.1ms\n",
      "974:\tlearn: 0.0630954\ttotal: 865ms\tremaining: 22.2ms\n",
      "975:\tlearn: 0.0630217\ttotal: 866ms\tremaining: 21.3ms\n",
      "976:\tlearn: 0.0629290\ttotal: 867ms\tremaining: 20.4ms\n",
      "977:\tlearn: 0.0628190\ttotal: 868ms\tremaining: 19.5ms\n",
      "978:\tlearn: 0.0628115\ttotal: 869ms\tremaining: 18.6ms\n",
      "979:\tlearn: 0.0626882\ttotal: 869ms\tremaining: 17.7ms\n"
     ]
    },
    {
     "name": "stdout",
     "output_type": "stream",
     "text": [
      "980:\tlearn: 0.0625355\ttotal: 870ms\tremaining: 16.9ms\n",
      "981:\tlearn: 0.0623991\ttotal: 871ms\tremaining: 16ms\n",
      "982:\tlearn: 0.0622892\ttotal: 872ms\tremaining: 15.1ms\n",
      "983:\tlearn: 0.0621871\ttotal: 873ms\tremaining: 14.2ms\n",
      "984:\tlearn: 0.0621827\ttotal: 874ms\tremaining: 13.3ms\n",
      "985:\tlearn: 0.0621127\ttotal: 875ms\tremaining: 12.4ms\n",
      "986:\tlearn: 0.0620373\ttotal: 875ms\tremaining: 11.5ms\n",
      "987:\tlearn: 0.0619800\ttotal: 876ms\tremaining: 10.6ms\n",
      "988:\tlearn: 0.0619439\ttotal: 877ms\tremaining: 9.76ms\n",
      "989:\tlearn: 0.0618638\ttotal: 878ms\tremaining: 8.87ms\n",
      "990:\tlearn: 0.0618192\ttotal: 879ms\tremaining: 7.98ms\n",
      "991:\tlearn: 0.0616652\ttotal: 879ms\tremaining: 7.09ms\n",
      "992:\tlearn: 0.0615379\ttotal: 880ms\tremaining: 6.21ms\n",
      "993:\tlearn: 0.0614464\ttotal: 881ms\tremaining: 5.32ms\n",
      "994:\tlearn: 0.0613308\ttotal: 882ms\tremaining: 4.43ms\n",
      "995:\tlearn: 0.0612675\ttotal: 883ms\tremaining: 3.54ms\n",
      "996:\tlearn: 0.0612609\ttotal: 883ms\tremaining: 2.66ms\n",
      "997:\tlearn: 0.0612111\ttotal: 884ms\tremaining: 1.77ms\n",
      "998:\tlearn: 0.0611568\ttotal: 885ms\tremaining: 885us\n",
      "999:\tlearn: 0.0611116\ttotal: 886ms\tremaining: 0us\n"
     ]
    },
    {
     "data": {
      "text/plain": [
       "<catboost.core.CatBoostRegressor at 0x7f8f6b6f7d60>"
      ]
     },
     "execution_count": 9,
     "metadata": {},
     "output_type": "execute_result"
    }
   ],
   "source": [
    "#Train the Model \n",
    "prior_model = ctb.CatBoostRegressor()\n",
    "prior_model.fit(X_train,Y_train)"
   ]
  },
  {
   "cell_type": "code",
   "execution_count": 10,
   "id": "af65dcda",
   "metadata": {
    "execution": {
     "iopub.execute_input": "2022-03-11T10:35:04.610999Z",
     "iopub.status.busy": "2022-03-11T10:35:04.610603Z",
     "iopub.status.idle": "2022-03-11T10:35:04.618291Z",
     "shell.execute_reply": "2022-03-11T10:35:04.618578Z"
    },
    "id": "af65dcda",
    "papermill": {
     "duration": 0.020935,
     "end_time": "2022-03-11T10:35:04.618691",
     "exception": false,
     "start_time": "2022-03-11T10:35:04.597756",
     "status": "completed"
    },
    "tags": []
   },
   "outputs": [
    {
     "data": {
      "application/scrapbook.scrap.json+json": {
       "data": 0.08595093776253492,
       "encoder": "json",
       "name": "Prior Model MSE",
       "version": 1
      }
     },
     "metadata": {
      "scrapbook": {
       "data": true,
       "display": false,
       "name": "Prior Model MSE"
      }
     },
     "output_type": "display_data"
    },
    {
     "data": {
      "application/scrapbook.scrap.json+json": {
       "data": 0.08423060146433532,
       "encoder": "json",
       "name": "ABC Pre-generator MSE",
       "version": 1
      }
     },
     "metadata": {
      "scrapbook": {
       "data": true,
       "display": false,
       "name": "ABC Pre-generator MSE"
      }
     },
     "output_type": "display_data"
    },
    {
     "data": {
      "application/scrapbook.scrap.json+json": {
       "data": 0.21053508925820957,
       "encoder": "json",
       "name": "Prior Model MAE",
       "version": 1
      }
     },
     "metadata": {
      "scrapbook": {
       "data": true,
       "display": false,
       "name": "Prior Model MAE"
      }
     },
     "output_type": "display_data"
    },
    {
     "data": {
      "application/scrapbook.scrap.json+json": {
       "data": 0.20921075360799515,
       "encoder": "json",
       "name": "ABC Pre-generator MAE",
       "version": 1
      }
     },
     "metadata": {
      "scrapbook": {
       "data": true,
       "display": false,
       "name": "ABC Pre-generator MAE"
      }
     },
     "output_type": "display_data"
    }
   ],
   "source": [
    "y_pred = prior_model.predict(X_test)\n",
    "y_abc = y_pred + np.random.normal(0,variance, y_pred.shape)\n",
    "mse = mean_squared_error(y_pred,Y_test)\n",
    "sb.glue(\"Prior Model MSE\",mse)\n",
    "mse = mean_squared_error(y_abc,Y_test)\n",
    "sb.glue(\"ABC Pre-generator MSE\",mse)\n",
    "\n",
    "mae = mean_absolute_error(y_pred,Y_test)\n",
    "sb.glue(\"Prior Model MAE\",mae)\n",
    "mae = mean_absolute_error(y_abc,Y_test)\n",
    "sb.glue(\"ABC Pre-generator MAE\",mae)"
   ]
  },
  {
   "cell_type": "markdown",
   "id": "25609da2",
   "metadata": {
    "papermill": {
     "duration": 0.009698,
     "end_time": "2022-03-11T10:35:04.638472",
     "exception": false,
     "start_time": "2022-03-11T10:35:04.628774",
     "status": "completed"
    },
    "tags": []
   },
   "source": [
    "# ABC GAN Model"
   ]
  },
  {
   "cell_type": "code",
   "execution_count": 11,
   "id": "dfc3464d",
   "metadata": {
    "execution": {
     "iopub.execute_input": "2022-03-11T10:35:04.661014Z",
     "iopub.status.busy": "2022-03-11T10:35:04.660655Z",
     "iopub.status.idle": "2022-03-11T10:35:04.663029Z",
     "shell.execute_reply": "2022-03-11T10:35:04.663278Z"
    },
    "papermill": {
     "duration": 0.015213,
     "end_time": "2022-03-11T10:35:04.663391",
     "exception": false,
     "start_time": "2022-03-11T10:35:04.648178",
     "status": "completed"
    },
    "tags": []
   },
   "outputs": [],
   "source": [
    "gen = network.Generator(n_features+1).to(device)\n",
    "disc = network.Discriminator(n_features+1).to(device)\n",
    "\n",
    "criterion = torch.nn.BCELoss()\n",
    "gen_opt = torch.optim.Adam(gen.parameters(), lr=0.001, betas=(0.5, 0.999))\n",
    "disc_opt = torch.optim.Adam(disc.parameters(), lr=0.001, betas=(0.5, 0.999))"
   ]
  },
  {
   "cell_type": "code",
   "execution_count": 12,
   "id": "b75fdd85",
   "metadata": {
    "execution": {
     "iopub.execute_input": "2022-03-11T10:35:04.685443Z",
     "iopub.status.busy": "2022-03-11T10:35:04.685082Z",
     "iopub.status.idle": "2022-03-11T10:35:40.884008Z",
     "shell.execute_reply": "2022-03-11T10:35:40.884295Z"
    },
    "papermill": {
     "duration": 36.21106,
     "end_time": "2022-03-11T10:35:40.884428",
     "exception": false,
     "start_time": "2022-03-11T10:35:04.673368",
     "status": "completed"
    },
    "tags": []
   },
   "outputs": [
    {
     "data": {
      "image/png": "[encoded data removed]",
      "text/plain": [
       "<Figure size 432x288 with 1 Axes>"
      ]
     },
     "metadata": {
      "needs_background": "light"
     },
     "output_type": "display_data"
    },
    {
     "data": {
      "image/png": "[encoded data removed]",
      "text/plain": [
       "<Figure size 432x288 with 1 Axes>"
      ]
     },
     "metadata": {
      "needs_background": "light"
     },
     "output_type": "display_data"
    }
   ],
   "source": [
    "#Training the ABC_GAN \n",
    "ABC_train_test2.training_GAN(disc,gen,disc_opt,gen_opt,train_data,batch_size,n_epochs,criterion,prior_model,variance,0,device)"
   ]
  },
  {
   "cell_type": "code",
   "execution_count": 13,
   "id": "1fa7c368",
   "metadata": {
    "execution": {
     "iopub.execute_input": "2022-03-11T10:35:40.908951Z",
     "iopub.status.busy": "2022-03-11T10:35:40.908550Z",
     "iopub.status.idle": "2022-03-11T10:35:41.209083Z",
     "shell.execute_reply": "2022-03-11T10:35:41.209460Z"
    },
    "papermill": {
     "duration": 0.314285,
     "end_time": "2022-03-11T10:35:41.209593",
     "exception": false,
     "start_time": "2022-03-11T10:35:40.895308",
     "status": "completed"
    },
    "tags": []
   },
   "outputs": [
    {
     "data": {
      "application/scrapbook.scrap.json+json": {
       "data": 0.09686725191637753,
       "encoder": "json",
       "name": "ABC-GAN Model 1 MSE",
       "version": 1
      }
     },
     "metadata": {
      "scrapbook": {
       "data": true,
       "display": false,
       "name": "ABC-GAN Model 1 MSE"
      }
     },
     "output_type": "display_data"
    },
    {
     "data": {
      "application/scrapbook.scrap.json+json": {
       "data": 0.21889796079246,
       "encoder": "json",
       "name": "ABC-GAN Model 1 MAE",
       "version": 1
      }
     },
     "metadata": {
      "scrapbook": {
       "data": true,
       "display": false,
       "name": "ABC-GAN Model 1 MAE"
      }
     },
     "output_type": "display_data"
    },
    {
     "data": {
      "application/scrapbook.scrap.json+json": {
       "data": 22.32759200083092,
       "encoder": "json",
       "name": "ABC-GAN Model 1 Manhattan Distance",
       "version": 1
      }
     },
     "metadata": {
      "scrapbook": {
       "data": true,
       "display": false,
       "name": "ABC-GAN Model 1 Manhattan Distance"
      }
     },
     "output_type": "display_data"
    },
    {
     "data": {
      "application/scrapbook.scrap.json+json": {
       "data": 3.1433005350276724,
       "encoder": "json",
       "name": "ABC-GAN Model 1 Euclidean distance",
       "version": 1
      }
     },
     "metadata": {
      "scrapbook": {
       "data": true,
       "display": false,
       "name": "ABC-GAN Model 1 Euclidean distance"
      }
     },
     "output_type": "display_data"
    },
    {
     "data": {
      "application/scrapbook.scrap.json+json": {
       "data": [
        [
         0.09593344778600321,
         0.09655172343514548,
         0.09695105691218718,
         0.09672176208405071,
         0.09637805738882486,
         0.09710061361006736,
         0.09827274858818164,
         0.09834146256386686,
         0.09779251096947877,
         0.09716684099689768,
         0.0970408222155828,
         0.09710995582096632,
         0.09746326961410154,
         0.0964643420756143,
         0.09472653778709199,
         0.09729079108058461,
         0.09713760154784479,
         0.09597022246656023,
         0.09708370812806749,
         0.09710077347112721,
         0.0974596660626161,
         0.09667989014337977,
         0.09580535158006219,
         0.09658539140920801,
         0.09808966303119114,
         0.09688658451262804,
         0.0978775282526055,
         0.09668500759562387,
         0.09707460043830067,
         0.09796513536137419,
         0.0965613953724114,
         0.0969588038403596,
         0.09656673673685251,
         0.09634025189273436,
         0.09609525057645847,
         0.09635684212068052,
         0.09670030576635118,
         0.09793077610772503,
         0.09769311184336235,
         0.09660581886967294,
         0.09646115892030259,
         0.09642215392430438,
         0.09719606807451274,
         0.09633326251746101,
         0.09659263178130115,
         0.09539095843308261,
         0.09782243996888192,
         0.09604552188335483,
         0.09651136584713015,
         0.0971656837464112,
         0.09714574483336173,
         0.09632111775330747,
         0.09668939329579931,
         0.09674876385349418,
         0.09576062724672861,
         0.09720258908709892,
         0.0966519093402655,
         0.09774787809971525,
         0.0961613945217341,
         0.09644268289919872,
         0.09720798340270524,
         0.0966692498499405,
         0.09667350039155959,
         0.09808945262397482,
         0.09683853512103821,
         0.09633212822791312,
         0.0959150308439509,
         0.0976007752456914,
         0.09679463804930531,
         0.0968692507853171,
         0.09652840090026112,
         0.09605217429892547,
         0.0971074784890914,
         0.09779091158789315,
         0.09715772159103697,
         0.09725821360510105,
         0.09599754621524827,
         0.09750278258016053,
         0.09713632155309886,
         0.0967777106120484,
         0.09636171195803615,
         0.09750677263109879,
         0.09613035758128133,
         0.09661041076194687,
         0.09707882354087771,
         0.09593843729004124,
         0.09520736811585924,
         0.09638845314129012,
         0.09736911899811823,
         0.0977255017265523,
         0.09720545961255149,
         0.09757880133417246,
         0.09805883578256662,
         0.09695181562285296,
         0.0962059304109408,
         0.09669232474745243,
         0.09720095801202036,
         0.0970174026614309,
         0.09799527527871618,
         0.09687192037239693
        ],
        [
         0.21852287636412418,
         0.2191070996352709,
         0.21774502802530632,
         0.21819901337627978,
         0.2180310067282442,
         0.21914967046320147,
         0.22095861741542525,
         0.22088986217939094,
         0.22121831589360155,
         0.2182105812791954,
         0.21870052837310175,
         0.21948122378329143,
         0.21867413544004746,
         0.21880863175051762,
         0.21746987722558425,
         0.21866113929004938,
         0.22008263355340152,
         0.21945145818423115,
         0.21860321077025113,
         0.21889554330275632,
         0.21983080323529886,
         0.21900853060879835,
         0.21779539572148054,
         0.21927330985336618,
         0.22089558490095476,
         0.21882194343625622,
         0.2193799627050027,
         0.21910418538084508,
         0.21963855482674405,
         0.2196442632680284,
         0.218327084437524,
         0.21997875067423664,
         0.21882748011243985,
         0.21845959589871414,
         0.21820482800659888,
         0.2164767437577978,
         0.2194723008912714,
         0.21876313289919613,
         0.2197586695992333,
         0.21771911388336151,
         0.21955592659137704,
         0.21887648944724716,
         0.218241111859314,
         0.21844037361990878,
         0.2184788586443984,
         0.21813986626654572,
         0.21956744000279144,
         0.21746825137376494,
         0.21906979908874513,
         0.21871449954479055,
         0.21800689166411757,
         0.21792422573757814,
         0.21869611993030297,
         0.2195820749883412,
         0.21669926038742357,
         0.21910730741151116,
         0.21897913255345294,
         0.2200701697729528,
         0.21892148721050106,
         0.2178967345925961,
         0.2196449362307641,
         0.21933321873018263,
         0.2189944684048932,
         0.22038928064170712,
         0.21884163442597376,
         0.2170942573917701,
         0.2175373582845079,
         0.21953766947319986,
         0.2196501635435019,
         0.2202536419819237,
         0.21754354274119525,
         0.21716676140204072,
         0.21928719483206377,
         0.21938182664669903,
         0.21860176115753313,
         0.22041549185729203,
         0.21739645944177813,
         0.2177378050891646,
         0.21940751467813172,
         0.2193130589199855,
         0.2179507484531724,
         0.22118570192662232,
         0.21908264200878785,
         0.21953727256543204,
         0.21891657086819702,
         0.21737917047907032,
         0.21570131795334757,
         0.21736217183334863,
         0.21906470533862127,
         0.21909246269576982,
         0.21968843489337495,
         0.21979587378126442,
         0.21989682164298846,
         0.2188631727761936,
         0.21824723399043375,
         0.2200347141947086,
         0.21879427537650747,
         0.2199551833008288,
         0.22091123521072314,
         0.21813161626421645
        ],
        [
         22.289333389140666,
         22.34892416279763,
         22.209992858581245,
         22.25629936438054,
         22.239162686280906,
         22.35326638724655,
         22.537778976373374,
         22.530765942297876,
         22.56426822114736,
         22.25747929047793,
         22.30745389405638,
         22.387084825895727,
         22.30476181488484,
         22.318480438552797,
         22.181927477009594,
         22.303436207585037,
         22.448428622446954,
         22.384048734791577,
         22.297527498565614,
         22.327345416881144,
         22.422741930000484,
         22.338870122097433,
         22.215130363591015,
         22.36587760504335,
         22.531349659897387,
         22.319838230498135,
         22.376756195910275,
         22.3486269088462,
         22.403132592327893,
         22.403714853338897,
         22.269362612627447,
         22.437832568772137,
         22.320402971468866,
         22.282878781668842,
         22.256892456673086,
         22.080627863295376,
         22.386174690909684,
         22.313839555718005,
         22.415384299121797,
         22.207349616102874,
         22.39470451232046,
         22.32540192361921,
         22.260593409650028,
         22.280918109230697,
         22.284843581728637,
         22.250266359187663,
         22.395878880284727,
         22.181761640124023,
         22.345119507052004,
         22.308878953568637,
         22.236702949739993,
         22.22827102523297,
         22.307004232890904,
         22.397371648810804,
         22.103324559517205,
         22.348945355974138,
         22.3358715204522,
         22.447157316841185,
         22.329991695471108,
         22.225466928444803,
         22.403783495537937,
         22.371988310478628,
         22.337435777299106,
         22.479706625454128,
         22.321846711449325,
         22.14361425396055,
         22.188810545019805,
         22.392842286266387,
         22.404316681437194,
         22.465871482156217,
         22.189441359601915,
         22.151009663008153,
         22.367293872870505,
         22.376946317963302,
         22.297379638068378,
         22.482380169443786,
         22.17443886306137,
         22.20925611909479,
         22.379566497169435,
         22.36993200983852,
         22.230976342223585,
         22.560941596515477,
         22.346429484896362,
         22.392801801674068,
         22.329490228556097,
         22.172675388865173,
         22.001534431241453,
         22.17094152700156,
         22.344599944539368,
         22.34743119496852,
         22.408220359124243,
         22.41917912568897,
         22.429475807584822,
         22.324043623171747,
         22.261217867024243,
         22.443540847860277,
         22.31701608840376,
         22.43542869668454,
         22.53294599149376,
         22.24942485895008
        ],
        [
         3.128132298060989,
         3.138196263840877,
         3.1446792849260627,
         3.1409584098763825,
         3.135372681781248,
         3.147103841347925,
         3.166041748934231,
         3.167148430609847,
         3.158296395034328,
         3.1481768980925393,
         3.1461347501322066,
         3.147255231743775,
         3.1529753409499346,
         3.1367758752758634,
         3.108392969732653,
         3.1501842311553188,
         3.1477031877037214,
         3.128731802438353,
         3.1468298697360306,
         3.1471064319553883,
         3.152917052252856,
         3.140278458134682,
         3.1260431636761417,
         3.138743366976538,
         3.1630911509441986,
         3.1436335060385234,
         3.1596689512931193,
         3.1403615675195167,
         3.146682259890037,
         3.161082695352997,
         3.138353442170904,
         3.144804921090763,
         3.1384402411323613,
         3.13475767692798,
         3.1307691640871194,
         3.135027575047692,
         3.1406100025580725,
         3.1605283044117725,
         3.156690895229205,
         3.1390752658556376,
         3.136724120778055,
         3.1360898743943935,
         3.1486503368269236,
         3.1346439633203995,
         3.1388610102539927,
         3.1192751978904374,
         3.158779649932226,
         3.1299589824951686,
         3.13754032904874,
         3.1481581507500445,
         3.1478351248124317,
         3.134446364326141,
         3.140432791220269,
         3.141396809232543,
         3.1253134209493796,
         3.148755958610335,
         3.139824000275665,
         3.1575755836038115,
         3.1318464587551027,
         3.136423704750088,
         3.148843328442356,
         3.140105648651639,
         3.140174683029445,
         3.163087758448291,
         3.142853891345555,
         3.134625508612973,
         3.1278320201192065,
         3.1551987378072592,
         3.1421414801102032,
         3.1433522838050374,
         3.137817217721044,
         3.1300673760304893,
         3.147215087325192,
         3.1582705682010683,
         3.148029161600281,
         3.1496567730024654,
         3.1291771624430793,
         3.1536144062292033,
         3.147682448789281,
         3.141866719392937,
         3.135106795584432,
         3.1536789323537797,
         3.131341002396688,
         3.1391498686298145,
         3.1467507052783077,
         3.1282136441720545,
         3.116272059339114,
         3.135541774623899,
         3.1514520681438354,
         3.157214147964679,
         3.1488024518029474,
         3.154843535911977,
         3.1625940697190007,
         3.1446915895729743,
         3.132571611618154,
         3.1404803970475834,
         3.148729540183799,
         3.145755087648425,
         3.1615689267243647,
         3.1433955968004548
        ]
       ],
       "encoder": "json",
       "name": "ABC_GAN_1 Metrics",
       "version": 1
      }
     },
     "metadata": {
      "scrapbook": {
       "data": true,
       "display": false,
       "name": "ABC_GAN_1 Metrics"
      }
     },
     "output_type": "display_data"
    },
    {
     "name": "stdout",
     "output_type": "stream",
     "text": [
      "MSE\n",
      "0.09686725191637753\n"
     ]
    }
   ],
   "source": [
    "ABC_GAN1_metrics=ABC_train_test2.test_generator(gen,test_data,prior_model,variance,0,\"1\",device)\n",
    "sb.glue(\"ABC_GAN_1 Metrics\",ABC_GAN1_metrics)\n",
    "\n",
    "print(\"MSE\")\n",
    "print(mean(ABC_GAN1_metrics[0]))"
   ]
  },
  {
   "cell_type": "code",
   "execution_count": 14,
   "id": "eb22ce5c",
   "metadata": {
    "execution": {
     "iopub.execute_input": "2022-03-11T10:35:41.236850Z",
     "iopub.status.busy": "2022-03-11T10:35:41.236480Z",
     "iopub.status.idle": "2022-03-11T10:35:41.568519Z",
     "shell.execute_reply": "2022-03-11T10:35:41.568760Z"
    },
    "papermill": {
     "duration": 0.346625,
     "end_time": "2022-03-11T10:35:41.568880",
     "exception": false,
     "start_time": "2022-03-11T10:35:41.222255",
     "status": "completed"
    },
    "tags": []
   },
   "outputs": [
    {
     "data": {
      "image/png": "[encoded data removed]",
      "text/plain": [
       "<Figure size 432x288 with 1 Axes>"
      ]
     },
     "metadata": {
      "needs_background": "light"
     },
     "output_type": "display_data"
    },
    {
     "data": {
      "image/png": "[encoded data removed]",
      "text/plain": [
       "<Figure size 432x288 with 1 Axes>"
      ]
     },
     "metadata": {
      "needs_background": "light"
     },
     "output_type": "display_data"
    },
    {
     "data": {
      "image/png": "[encoded data removed]",
      "text/plain": [
       "<Figure size 432x288 with 1 Axes>"
      ]
     },
     "metadata": {
      "needs_background": "light"
     },
     "output_type": "display_data"
    },
    {
     "data": {
      "image/png": "[encoded data removed]",
      "text/plain": [
       "<Figure size 432x288 with 1 Axes>"
      ]
     },
     "metadata": {
      "needs_background": "light"
     },
     "output_type": "display_data"
    }
   ],
   "source": [
    "sanityChecks.discProbVsError(train_data,disc,device)\n",
    "sanityChecks.discProbVsError(test_data,disc,device)"
   ]
  },
  {
   "cell_type": "markdown",
   "id": "130f3a4d",
   "metadata": {
    "id": "130f3a4d",
    "papermill": {
     "duration": 0.014403,
     "end_time": "2022-03-11T10:35:41.598503",
     "exception": false,
     "start_time": "2022-03-11T10:35:41.584100",
     "status": "completed"
    },
    "tags": []
   },
   "source": [
    "# ABC - GAN Model with skip connection"
   ]
  },
  {
   "cell_type": "code",
   "execution_count": 15,
   "id": "4e43dad1",
   "metadata": {
    "execution": {
     "iopub.execute_input": "2022-03-11T10:35:41.630615Z",
     "iopub.status.busy": "2022-03-11T10:35:41.630241Z",
     "iopub.status.idle": "2022-03-11T10:35:41.632612Z",
     "shell.execute_reply": "2022-03-11T10:35:41.632876Z"
    },
    "id": "4e43dad1",
    "papermill": {
     "duration": 0.020001,
     "end_time": "2022-03-11T10:35:41.632986",
     "exception": false,
     "start_time": "2022-03-11T10:35:41.612985",
     "status": "completed"
    },
    "tags": []
   },
   "outputs": [],
   "source": [
    "#Generator\n",
    "gen3 = network.GeneratorWithSkipConnection(n_features+1).to(device)\n",
    "constraints=network.weightConstraint()\n",
    "#Discriminator \n",
    "disc3 = network.Discriminator(n_features+1).to(device)\n",
    "\n",
    "criterion = torch.nn.BCELoss()\n",
    "gen_opt = torch.optim.Adam(gen3.parameters(), lr=0.001, betas=(0.5, 0.999))\n",
    "disc_opt = torch.optim.Adam(disc3.parameters(), lr=0.001, betas=(0.5, 0.999))\n"
   ]
  },
  {
   "cell_type": "code",
   "execution_count": 16,
   "id": "26acbc37",
   "metadata": {
    "execution": {
     "iopub.execute_input": "2022-03-11T10:35:41.664867Z",
     "iopub.status.busy": "2022-03-11T10:35:41.664506Z",
     "iopub.status.idle": "2022-03-11T10:38:12.600156Z",
     "shell.execute_reply": "2022-03-11T10:38:12.600410Z"
    },
    "id": "26acbc37",
    "papermill": {
     "duration": 150.952805,
     "end_time": "2022-03-11T10:38:12.600532",
     "exception": false,
     "start_time": "2022-03-11T10:35:41.647727",
     "status": "completed"
    },
    "tags": []
   },
   "outputs": [
    {
     "data": {
      "image/png": "[encoded data removed]",
      "text/plain": [
       "<Figure size 432x288 with 1 Axes>"
      ]
     },
     "metadata": {
      "needs_background": "light"
     },
     "output_type": "display_data"
    },
    {
     "data": {
      "image/png": "[encoded data removed]",
      "text/plain": [
       "<Figure size 432x288 with 1 Axes>"
      ]
     },
     "metadata": {
      "needs_background": "light"
     },
     "output_type": "display_data"
    }
   ],
   "source": [
    "ABC_train_test2.training_GAN_skip_connection(disc3,gen3,disc_opt,gen_opt,train_data,batch_size,n_epochs,criterion,prior_model,variance,0,device)"
   ]
  },
  {
   "cell_type": "code",
   "execution_count": 17,
   "id": "c5e0717b",
   "metadata": {
    "execution": {
     "iopub.execute_input": "2022-03-11T10:38:12.634148Z",
     "iopub.status.busy": "2022-03-11T10:38:12.633777Z",
     "iopub.status.idle": "2022-03-11T10:38:13.461594Z",
     "shell.execute_reply": "2022-03-11T10:38:13.461906Z"
    },
    "id": "c5e0717b",
    "papermill": {
     "duration": 0.84592,
     "end_time": "2022-03-11T10:38:13.462029",
     "exception": false,
     "start_time": "2022-03-11T10:38:12.616109",
     "status": "completed"
    },
    "tags": []
   },
   "outputs": [
    {
     "data": {
      "application/scrapbook.scrap.json+json": {
       "data": 0.08607296286023738,
       "encoder": "json",
       "name": "ABC-GAN Model 3 MSE",
       "version": 1
      }
     },
     "metadata": {
      "scrapbook": {
       "data": true,
       "display": false,
       "name": "ABC-GAN Model 3 MSE"
      }
     },
     "output_type": "display_data"
    },
    {
     "data": {
      "application/scrapbook.scrap.json+json": {
       "data": 0.2107183748278968,
       "encoder": "json",
       "name": "ABC-GAN Model 3 MAE",
       "version": 1
      }
     },
     "metadata": {
      "scrapbook": {
       "data": true,
       "display": false,
       "name": "ABC-GAN Model 3 MAE"
      }
     },
     "output_type": "display_data"
    },
    {
     "data": {
      "application/scrapbook.scrap.json+json": {
       "data": 21.493274232445472,
       "encoder": "json",
       "name": "ABC-GAN Model 3 Manhattan Distance",
       "version": 1
      }
     },
     "metadata": {
      "scrapbook": {
       "data": true,
       "display": false,
       "name": "ABC-GAN Model 3 Manhattan Distance"
      }
     },
     "output_type": "display_data"
    },
    {
     "data": {
      "application/scrapbook.scrap.json+json": {
       "data": 2.9629938958448316,
       "encoder": "json",
       "name": "ABC-GAN Model 3 Euclidean distance",
       "version": 1
      }
     },
     "metadata": {
      "scrapbook": {
       "data": true,
       "display": false,
       "name": "ABC-GAN Model 3 Euclidean distance"
      }
     },
     "output_type": "display_data"
    },
    {
     "data": {
      "application/scrapbook.scrap.json+json": {
       "data": [
        [
         0.08610521804785956,
         0.08555177088520186,
         0.08600029369140809,
         0.08693569919917568,
         0.08676199731581886,
         0.08567857236487007,
         0.08578013241011309,
         0.08552678610418392,
         0.08579110701432668,
         0.0855127261145567,
         0.08677826207033949,
         0.08639153198485228,
         0.08548430844962379,
         0.08682690405466546,
         0.08559886411230117,
         0.08521809889014569,
         0.08606220213084635,
         0.08584090225429737,
         0.08638726461516956,
         0.08603285082077487,
         0.0863649196683997,
         0.08733988572764041,
         0.08592889782508412,
         0.08571750739845793,
         0.08553507582048112,
         0.08634501763837438,
         0.0847121971422013,
         0.08577811332976489,
         0.0856564920979808,
         0.08639771172490567,
         0.0860038086658632,
         0.0872889520493845,
         0.08554734289683173,
         0.08537559448489422,
         0.08612216537245944,
         0.0857826648493428,
         0.08601416020345094,
         0.08622951201065505,
         0.08552753058812987,
         0.08572930701273024,
         0.08594722011135963,
         0.08530787725231673,
         0.08565318035867177,
         0.08678587855079078,
         0.08571688058182128,
         0.08646837929280664,
         0.08569978874076661,
         0.08557388576307225,
         0.08644767233229696,
         0.08636417545206958,
         0.08635338599203644,
         0.0861610669175398,
         0.08543994195496517,
         0.08654820190362952,
         0.08599937588979967,
         0.08745574925824973,
         0.08587092756075841,
         0.0863425844285479,
         0.08606124343464396,
         0.08551834144951265,
         0.08656105819569423,
         0.08585141936304859,
         0.08593998899496486,
         0.08629633544627566,
         0.08680426899586995,
         0.08575819036182315,
         0.08555495544813137,
         0.08677173288047764,
         0.08605839924533157,
         0.08730249296509392,
         0.08644072001768091,
         0.08611890064055523,
         0.08600954375187968,
         0.08474690856759812,
         0.08515871441743786,
         0.08715746403922375,
         0.08612592816460685,
         0.08561820379953414,
         0.08735998308270199,
         0.0853268037972832,
         0.08664071297657643,
         0.08537183286187794,
         0.08629965958332446,
         0.08725034702898879,
         0.08617749670085287,
         0.08732851011386407,
         0.08528860041064949,
         0.08635655702665293,
         0.08497138230522994,
         0.0858867469861371,
         0.08543922083607944,
         0.087194434461077,
         0.08611000003397463,
         0.08662322776877528,
         0.08561952552761146,
         0.08589321998863415,
         0.08657126909078099,
         0.08558487895496963,
         0.08701220427972585,
         0.08533634064952518
        ],
        [
         0.21000203368820103,
         0.2117334283881492,
         0.21120451763272285,
         0.21239260616986191,
         0.21156153335765587,
         0.21103842324102481,
         0.20963489418328904,
         0.20944691227529855,
         0.2102590313537375,
         0.2110784599037074,
         0.21126899099851704,
         0.20987626394329995,
         0.21087169578737197,
         0.21174756424757196,
         0.20989676173228553,
         0.2094524644438506,
         0.21054357886497005,
         0.2108179978734138,
         0.2099526821014782,
         0.21023625056441947,
         0.21069839804013277,
         0.21195607138432415,
         0.21040892512902765,
         0.21079386441110104,
         0.20972855088721012,
         0.21198687812441266,
         0.2094357973329869,
         0.21091883118246116,
         0.21065509424307474,
         0.21156982413730493,
         0.21018946360267116,
         0.21207295699665943,
         0.2095528150013849,
         0.20982317094161523,
         0.20999338154626243,
         0.21181582060628845,
         0.21089778585797725,
         0.21069806521329298,
         0.21030963304014327,
         0.20998889255319156,
         0.21047302997013664,
         0.20948389915785953,
         0.21076714498557003,
         0.21178056381861954,
         0.2103075465808312,
         0.21119863754503576,
         0.21100388079260787,
         0.20991522856695832,
         0.21100323894472026,
         0.21061331809808811,
         0.21131834257211463,
         0.21068730189775428,
         0.2112609211848501,
         0.21085178747992306,
         0.21208874628806085,
         0.2123275141724769,
         0.2100984472233583,
         0.21111150988030666,
         0.21160348023598394,
         0.20921111869278783,
         0.21030048651429004,
         0.21064362593689093,
         0.21026941333376967,
         0.21082656719212822,
         0.2116256949272664,
         0.2103609666593519,
         0.20936234642331505,
         0.2115149345048064,
         0.21005392340285814,
         0.21251966952360246,
         0.21129622948629892,
         0.21016523145212263,
         0.20978132864533394,
         0.20953071476234233,
         0.20924674163517706,
         0.21122229848897048,
         0.21059311707686706,
         0.21168726347112918,
         0.21264620195599457,
         0.20897996632893587,
         0.21114678467240403,
         0.2089651045161208,
         0.21127370751563312,
         0.21312823191778185,
         0.210881772693064,
         0.2128838514817842,
         0.20915000174450232,
         0.21156526643979162,
         0.20913549226094677,
         0.2110140328295529,
         0.20932042760336222,
         0.2116280496850902,
         0.21144991590842313,
         0.20999310106294705,
         0.20933607380891986,
         0.21079987864576133,
         0.21166995437370667,
         0.21027105028613233,
         0.21253261821773634,
         0.20944947633417507
        ],
        [
         21.420207436196506,
         21.59680969559122,
         21.54286079853773,
         21.664045829325914,
         21.5792764024809,
         21.52591917058453,
         21.382759206695482,
         21.363585052080452,
         21.446421198081225,
         21.530002910178155,
         21.549437081848737,
         21.407378922216594,
         21.50891297031194,
         21.59825155325234,
         21.409469696693122,
         21.36415137327276,
         21.475445044226944,
         21.503435783088207,
         21.415173574350774,
         21.444097557570785,
         21.491236600093544,
         21.619519281201065,
         21.46171036316082,
         21.500974169932306,
         21.39231219049543,
         21.62266156869009,
         21.362451327964664,
         21.513720780611038,
         21.486819612793624,
         21.580122062005103,
         21.439325287472457,
         21.631441613659263,
         21.37438713014126,
         21.401963436044753,
         21.419324917718768,
         21.60521370184142,
         21.511574157513678,
         21.491202651755884,
         21.451582570094615,
         21.41886704042554,
         21.468249056953937,
         21.367357714101672,
         21.498248788528144,
         21.601617509499192,
         21.451369751244783,
         21.542261029593647,
         21.522395840846002,
         21.41135331382975,
         21.522330372361466,
         21.482558446004987,
         21.554470942355692,
         21.490104793570936,
         21.54861396085471,
         21.50688232295215,
         21.633052121382207,
         21.657406445592642,
         21.430041616782546,
         21.53337400779128,
         21.58355498407036,
         21.33953410666436,
         21.450649624457583,
         21.485649845562875,
         21.447480160044506,
         21.50430985359708,
         21.585820882581174,
         21.456818599253893,
         21.354959335178137,
         21.574523319490254,
         21.42550018709153,
         21.67700629140745,
         21.55221540760249,
         21.436853608116508,
         21.397695521824062,
         21.372132905758917,
         21.34316764678806,
         21.54467444587499,
         21.48049794184044,
         21.592100874055177,
         21.689912599511445,
         21.31595656555146,
         21.53697203658521,
         21.314440660644323,
         21.54991816659458,
         21.73907965561375,
         21.509940814692527,
         21.71415285114199,
         21.333300177939236,
         21.579657176858746,
         21.33182021061657,
         21.523431348614395,
         21.35068361554295,
         21.5860610678792,
         21.56789142265916,
         21.4192963084206,
         21.352279528509825,
         21.501587621867657,
         21.59033534611808,
         21.447647129185498,
         21.678327058209106,
         21.363846586085856
        ],
        [
         2.9635674854610063,
         2.954027865523714,
         2.9617612929680246,
         2.977824930770095,
         2.974848521557614,
         2.9562162270741883,
         2.9579677999991034,
         2.9535964827015144,
         2.9581570133211863,
         2.9533536976943315,
         2.975127347051656,
         2.9684905697096178,
         2.952862926358354,
         2.9759610571336235,
         2.9548407976496325,
         2.9482615363625486,
         2.9628271325452533,
         2.9590153818353713,
         2.9684172534782394,
         2.9623218568749476,
         2.9680333229559213,
         2.9847392422486965,
         2.960531637756735,
         2.956887849520625,
         2.9537396184648834,
         2.9676913247698424,
         2.9394972543794844,
         2.9579329876851537,
         2.9558352785623967,
         2.968596738518113,
         2.961821818394558,
         2.9838688156548065,
         2.9539514172506016,
         2.9509846894654013,
         2.9638591174330235,
         2.9580114628974927,
         2.962000057520593,
         2.9657056875365795,
         2.9536093377407324,
         2.9570913606614324,
         2.960847252284163,
         2.9498141432531484,
         2.955778137239756,
         2.9752579068344076,
         2.9568770382526512,
         2.969810547470373,
         2.9565822247247233,
         2.954409644553945,
         2.969454929426323,
         2.9680205349881086,
         2.9678351320765306,
         2.96452843224501,
         2.95209655658592,
         2.9711810099975753,
         2.9617454888561183,
         2.9867183369614003,
         2.959532836647933,
         2.967649509580248,
         2.9628106301844,
         2.953450664536364,
         2.971401678662919,
         2.9591966435218446,
         2.960722695134823,
         2.966854599659396,
         2.975573127580422,
         2.957589460507655,
         2.9540828450992023,
         2.9750154207682216,
         2.9627616716543064,
         2.984100246714171,
         2.969335521931371,
         2.963802939693635,
         2.9619205699497964,
         2.9400994326544483,
         2.94723410515328,
         2.9816205882038083,
         2.963923864202638,
         2.955174578185269,
         2.9850826243900856,
         2.9501413503971103,
         2.972768528427801,
         2.9509196790003536,
         2.966911740766667,
         2.983208909372063,
         2.9648110670811705,
         2.984544861719142,
         2.949480842773224,
         2.967889623405594,
         2.94399065812605,
         2.959805431542077,
         2.952084098612386,
         2.98225289253441,
         2.9636497774645054,
         2.9724685418713985,
         2.9551973883002076,
         2.9599169648557178,
         2.9715769293860896,
         2.9545994065874486,
         2.979134914120546,
         2.950306212285695
        ]
       ],
       "encoder": "json",
       "name": "ABC_GAN_3 Metrics",
       "version": 1
      }
     },
     "metadata": {
      "scrapbook": {
       "data": true,
       "display": false,
       "name": "ABC_GAN_3 Metrics"
      }
     },
     "output_type": "display_data"
    },
    {
     "name": "stdout",
     "output_type": "stream",
     "text": [
      "MSE\n",
      "0.08607296286023738\n"
     ]
    }
   ],
   "source": [
    "ABC_GAN3_metrics=ABC_train_test2.test_generator(gen3,test_data,prior_model,variance,0,\"3\",device)\n",
    "sb.glue(\"ABC_GAN_3 Metrics\",ABC_GAN3_metrics)\n",
    "\n",
    "print(\"MSE\")\n",
    "print(mean(ABC_GAN3_metrics[0]))"
   ]
  },
  {
   "cell_type": "code",
   "execution_count": 18,
   "id": "c8e46b48",
   "metadata": {
    "execution": {
     "iopub.execute_input": "2022-03-11T10:38:13.498940Z",
     "iopub.status.busy": "2022-03-11T10:38:13.498553Z",
     "iopub.status.idle": "2022-03-11T10:38:13.808813Z",
     "shell.execute_reply": "2022-03-11T10:38:13.809184Z"
    },
    "id": "c8e46b48",
    "papermill": {
     "duration": 0.329964,
     "end_time": "2022-03-11T10:38:13.809303",
     "exception": false,
     "start_time": "2022-03-11T10:38:13.479339",
     "status": "completed"
    },
    "tags": []
   },
   "outputs": [
    {
     "data": {
      "image/png": "[encoded data removed]",
      "text/plain": [
       "<Figure size 432x288 with 1 Axes>"
      ]
     },
     "metadata": {
      "needs_background": "light"
     },
     "output_type": "display_data"
    },
    {
     "data": {
      "image/png": "[encoded data removed]",
      "text/plain": [
       "<Figure size 432x288 with 1 Axes>"
      ]
     },
     "metadata": {
      "needs_background": "light"
     },
     "output_type": "display_data"
    },
    {
     "data": {
      "image/png": "[encoded data removed]",
      "text/plain": [
       "<Figure size 432x288 with 1 Axes>"
      ]
     },
     "metadata": {
      "needs_background": "light"
     },
     "output_type": "display_data"
    },
    {
     "data": {
      "image/png": "[encoded data removed]",
      "text/plain": [
       "<Figure size 432x288 with 1 Axes>"
      ]
     },
     "metadata": {
      "needs_background": "light"
     },
     "output_type": "display_data"
    }
   ],
   "source": [
    "sanityChecks.discProbVsError(train_data,disc3,device)\n",
    "sanityChecks.discProbVsError(test_data,disc3,device)"
   ]
  },
  {
   "cell_type": "markdown",
   "id": "a5bd74c3",
   "metadata": {
    "id": "a5bd74c3",
    "papermill": {
     "duration": 0.019273,
     "end_time": "2022-03-11T10:38:13.848240",
     "exception": false,
     "start_time": "2022-03-11T10:38:13.828967",
     "status": "completed"
    },
    "tags": []
   },
   "source": [
    "## Skip Connection Model Analysis - ABC-GAN "
   ]
  },
  {
   "cell_type": "markdown",
   "id": "5744a8bf",
   "metadata": {
    "id": "5744a8bf",
    "papermill": {
     "duration": 0.019056,
     "end_time": "2022-03-11T10:38:13.886416",
     "exception": false,
     "start_time": "2022-03-11T10:38:13.867360",
     "status": "completed"
    },
    "tags": []
   },
   "source": [
    "### Weight Analysis \n",
    "\n",
    "Study the weights of the skip connection layer\n",
    "\n",
    "Equation of the skip connection is \n",
    "\n",
    "$output = y_{gan} * w + y_{abc} * (1-w)$"
   ]
  },
  {
   "cell_type": "code",
   "execution_count": 19,
   "id": "52c31dea",
   "metadata": {
    "execution": {
     "iopub.execute_input": "2022-03-11T10:38:13.927609Z",
     "iopub.status.busy": "2022-03-11T10:38:13.927190Z",
     "iopub.status.idle": "2022-03-11T10:38:13.930298Z",
     "shell.execute_reply": "2022-03-11T10:38:13.930545Z"
    },
    "id": "52c31dea",
    "papermill": {
     "duration": 0.025129,
     "end_time": "2022-03-11T10:38:13.930653",
     "exception": false,
     "start_time": "2022-03-11T10:38:13.905524",
     "status": "completed"
    },
    "tags": []
   },
   "outputs": [
    {
     "name": "stdout",
     "output_type": "stream",
     "text": [
      "Weight of the node at skip connection\n",
      "Parameter containing:\n",
      "tensor([[0.]], requires_grad=True)\n"
     ]
    },
    {
     "data": {
      "application/scrapbook.scrap.json+json": {
       "data": 0.0,
       "encoder": "json",
       "name": "Skip Connection Weight",
       "version": 1
      }
     },
     "metadata": {
      "scrapbook": {
       "data": true,
       "display": false,
       "name": "Skip Connection Weight"
      }
     },
     "output_type": "display_data"
    }
   ],
   "source": [
    "print(\"Weight of the node at skip connection\")\n",
    "for name,param in gen3.named_parameters():\n",
    "    if(name == \"skipNode.weight\"):\n",
    "        print(param)\n",
    "        sb.glue(\"Skip Connection Weight\",param.item())"
   ]
  }
 ],
 "metadata": {
  "colab": {
   "collapsed_sections": [],
   "name": "ABC_GAN_Model-Catboost_Pre-gen.ipynb",
   "provenance": []
  },
  "interpreter": {
   "hash": "31f2aee4e71d21fbe5cf8b01ff0e069b9275f58929596ceb00d14d90e3e16cd6"
  },
  "kernelspec": {
   "display_name": "Python 3 (ipykernel)",
   "language": "python",
   "name": "python3"
  },
  "language_info": {
   "codemirror_mode": {
    "name": "ipython",
    "version": 3
   },
   "file_extension": ".py",
   "mimetype": "text/x-python",
   "name": "python",
   "nbconvert_exporter": "python",
   "pygments_lexer": "ipython3",
   "version": "3.8.11"
  },
  "papermill": {
   "default_parameters": {},
   "duration": 193.754283,
   "end_time": "2022-03-11T10:38:14.257549",
   "environment_variables": {},
   "exception": null,
   "input_path": "ABC_GAN-Catboost.ipynb",
   "output_path": "./ABC_GAN_Catboost/ABC-GAN_output_7_2.ipynb",
   "parameters": {
    "variance": 0.01
   },
   "start_time": "2022-03-11T10:35:00.503266",
   "version": "2.3.3"
  }
 },
 "nbformat": 4,
 "nbformat_minor": 5
}