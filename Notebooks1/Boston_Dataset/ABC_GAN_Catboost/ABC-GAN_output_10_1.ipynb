{
 "cells": [
  {
   "cell_type": "markdown",
   "id": "622780e6",
   "metadata": {
    "id": "622780e6",
    "papermill": {
     "duration": 0.036325,
     "end_time": "2022-03-11T11:00:28.456528",
     "exception": false,
     "start_time": "2022-03-11T11:00:28.420203",
     "status": "completed"
    },
    "tags": []
   },
   "source": [
    "## Import Libraries "
   ]
  },
  {
   "cell_type": "code",
   "execution_count": 1,
   "id": "a62397e3",
   "metadata": {
    "execution": {
     "iopub.execute_input": "2022-03-11T11:00:28.493833Z",
     "iopub.status.busy": "2022-03-11T11:00:28.493267Z",
     "iopub.status.idle": "2022-03-11T11:00:28.495617Z",
     "shell.execute_reply": "2022-03-11T11:00:28.495951Z"
    },
    "id": "a62397e3",
    "papermill": {
     "duration": 0.022736,
     "end_time": "2022-03-11T11:00:28.496158",
     "exception": false,
     "start_time": "2022-03-11T11:00:28.473422",
     "status": "completed"
    },
    "tags": []
   },
   "outputs": [],
   "source": [
    "import warnings\n",
    "import sys\n",
    "sys.path.insert(0, '../../src')\n",
    "warnings.filterwarnings('ignore')"
   ]
  },
  {
   "cell_type": "code",
   "execution_count": 2,
   "id": "d6a4e155",
   "metadata": {
    "execution": {
     "iopub.execute_input": "2022-03-11T11:00:28.517076Z",
     "iopub.status.busy": "2022-03-11T11:00:28.516676Z",
     "iopub.status.idle": "2022-03-11T11:00:30.296163Z",
     "shell.execute_reply": "2022-03-11T11:00:30.296417Z"
    },
    "id": "d6a4e155",
    "papermill": {
     "duration": 1.790382,
     "end_time": "2022-03-11T11:00:30.296541",
     "exception": false,
     "start_time": "2022-03-11T11:00:28.506159",
     "status": "completed"
    },
    "tags": []
   },
   "outputs": [],
   "source": [
    "import ABC_train_test2\n",
    "import bostonDataset\n",
    "import network\n",
    "import dataset\n",
    "import sanityChecks\n",
    "import torch \n",
    "import scrapbook as sb\n",
    "from statistics import mean \n",
    "import catboost as ctb \n",
    "from sklearn.model_selection import train_test_split\n",
    "from sklearn.metrics import mean_squared_error,mean_absolute_error\n",
    "import numpy as np"
   ]
  },
  {
   "cell_type": "markdown",
   "id": "2fa5b0f7",
   "metadata": {
    "id": "2fa5b0f7",
    "papermill": {
     "duration": 0.006788,
     "end_time": "2022-03-11T11:00:30.310469",
     "exception": false,
     "start_time": "2022-03-11T11:00:30.303681",
     "status": "completed"
    },
    "tags": []
   },
   "source": [
    "## Parameters "
   ]
  },
  {
   "cell_type": "code",
   "execution_count": 3,
   "id": "783186fb",
   "metadata": {
    "execution": {
     "iopub.execute_input": "2022-03-11T11:00:30.326147Z",
     "iopub.status.busy": "2022-03-11T11:00:30.325785Z",
     "iopub.status.idle": "2022-03-11T11:00:30.327207Z",
     "shell.execute_reply": "2022-03-11T11:00:30.327455Z"
    },
    "id": "783186fb",
    "papermill": {
     "duration": 0.010347,
     "end_time": "2022-03-11T11:00:30.327564",
     "exception": false,
     "start_time": "2022-03-11T11:00:30.317217",
     "status": "completed"
    },
    "tags": [
     "parameters"
    ]
   },
   "outputs": [],
   "source": [
    "variance = 1"
   ]
  },
  {
   "cell_type": "code",
   "execution_count": 4,
   "id": "584dc92c",
   "metadata": {
    "execution": {
     "iopub.execute_input": "2022-03-11T11:00:30.343089Z",
     "iopub.status.busy": "2022-03-11T11:00:30.342733Z",
     "iopub.status.idle": "2022-03-11T11:00:30.344147Z",
     "shell.execute_reply": "2022-03-11T11:00:30.344388Z"
    },
    "papermill": {
     "duration": 0.01004,
     "end_time": "2022-03-11T11:00:30.344503",
     "exception": false,
     "start_time": "2022-03-11T11:00:30.334463",
     "status": "completed"
    },
    "tags": [
     "injected-parameters"
    ]
   },
   "outputs": [],
   "source": [
    "# Parameters\n",
    "variance = 0.1\n"
   ]
  },
  {
   "cell_type": "markdown",
   "id": "391cdbfd",
   "metadata": {
    "id": "391cdbfd",
    "papermill": {
     "duration": 0.006783,
     "end_time": "2022-03-11T11:00:30.358118",
     "exception": false,
     "start_time": "2022-03-11T11:00:30.351335",
     "status": "completed"
    },
    "tags": []
   },
   "source": [
    "## Dataset \n"
   ]
  },
  {
   "cell_type": "code",
   "execution_count": 5,
   "id": "5b51f161",
   "metadata": {
    "execution": {
     "iopub.execute_input": "2022-03-11T11:00:30.373628Z",
     "iopub.status.busy": "2022-03-11T11:00:30.373287Z",
     "iopub.status.idle": "2022-03-11T11:00:30.374617Z",
     "shell.execute_reply": "2022-03-11T11:00:30.374875Z"
    },
    "id": "5b51f161",
    "papermill": {
     "duration": 0.01003,
     "end_time": "2022-03-11T11:00:30.374985",
     "exception": false,
     "start_time": "2022-03-11T11:00:30.364955",
     "status": "completed"
    },
    "tags": []
   },
   "outputs": [],
   "source": [
    "#Parameters \n",
    "n_features = 13\n",
    "n_samples= 506\n",
    "n_target = 1 "
   ]
  },
  {
   "cell_type": "code",
   "execution_count": 6,
   "id": "5d6eced4",
   "metadata": {
    "execution": {
     "iopub.execute_input": "2022-03-11T11:00:30.390869Z",
     "iopub.status.busy": "2022-03-11T11:00:30.390494Z",
     "iopub.status.idle": "2022-03-11T11:00:30.401143Z",
     "shell.execute_reply": "2022-03-11T11:00:30.401377Z"
    },
    "id": "5d6eced4",
    "papermill": {
     "duration": 0.019505,
     "end_time": "2022-03-11T11:00:30.401485",
     "exception": false,
     "start_time": "2022-03-11T11:00:30.381980",
     "status": "completed"
    },
    "tags": []
   },
   "outputs": [
    {
     "name": "stdout",
     "output_type": "stream",
     "text": [
      "         X1        X2        X3        X4        X5        X6        X7  \\\n",
      "0 -0.419782  0.284830 -1.287909 -0.272599 -0.144217  0.413672 -0.120013   \n",
      "1 -0.417339 -0.487722 -0.593381 -0.272599 -0.740262  0.194274  0.367166   \n",
      "2 -0.417342 -0.487722 -0.593381 -0.272599 -0.740262  1.282714 -0.265812   \n",
      "3 -0.416750 -0.487722 -1.306878 -0.272599 -0.835284  1.016303 -0.809889   \n",
      "4 -0.412482 -0.487722 -1.306878 -0.272599 -0.835284  1.228577 -0.511180   \n",
      "\n",
      "         X8        X9       X10       X11       X12       X13         Y  \n",
      "0  0.140214 -0.982843 -0.666608 -1.459000  0.441052 -1.075562  0.159686  \n",
      "1  0.557160 -0.867883 -0.987329 -0.303094  0.441052 -0.492439 -0.101524  \n",
      "2  0.557160 -0.867883 -0.987329 -0.303094  0.396427 -1.208727  1.324247  \n",
      "3  1.077737 -0.752922 -1.106115  0.113032  0.416163 -1.361517  1.182758  \n",
      "4  1.077737 -0.752922 -1.106115  0.113032  0.441052 -1.026501  1.487503  \n"
     ]
    }
   ],
   "source": [
    "X,Y = bostonDataset.boston_data()"
   ]
  },
  {
   "cell_type": "code",
   "execution_count": 7,
   "id": "fe007438",
   "metadata": {
    "execution": {
     "iopub.execute_input": "2022-03-11T11:00:30.418667Z",
     "iopub.status.busy": "2022-03-11T11:00:30.418313Z",
     "iopub.status.idle": "2022-03-11T11:00:30.419623Z",
     "shell.execute_reply": "2022-03-11T11:00:30.419857Z"
    },
    "id": "fe007438",
    "papermill": {
     "duration": 0.011087,
     "end_time": "2022-03-11T11:00:30.419964",
     "exception": false,
     "start_time": "2022-03-11T11:00:30.408877",
     "status": "completed"
    },
    "tags": []
   },
   "outputs": [],
   "source": [
    "#Train test split for dataset \n",
    "X_train,X_test,Y_train,Y_test = train_test_split(X,Y,test_size = 0.2)\n",
    "train_data = dataset.CustomDataset(X_train,Y_train)\n",
    "test_data = dataset.CustomDataset(X_test,Y_test)\n"
   ]
  },
  {
   "cell_type": "markdown",
   "id": "a9a1af34",
   "metadata": {
    "id": "a9a1af34",
    "papermill": {
     "duration": 0.007127,
     "end_time": "2022-03-11T11:00:30.434321",
     "exception": false,
     "start_time": "2022-03-11T11:00:30.427194",
     "status": "completed"
    },
    "tags": []
   },
   "source": [
    "## Training Parameters "
   ]
  },
  {
   "cell_type": "code",
   "execution_count": 8,
   "id": "952b7fc8",
   "metadata": {
    "execution": {
     "iopub.execute_input": "2022-03-11T11:00:30.450787Z",
     "iopub.status.busy": "2022-03-11T11:00:30.450428Z",
     "iopub.status.idle": "2022-03-11T11:00:30.451734Z",
     "shell.execute_reply": "2022-03-11T11:00:30.452040Z"
    },
    "id": "952b7fc8",
    "papermill": {
     "duration": 0.010746,
     "end_time": "2022-03-11T11:00:30.452146",
     "exception": false,
     "start_time": "2022-03-11T11:00:30.441400",
     "status": "completed"
    },
    "tags": []
   },
   "outputs": [],
   "source": [
    "batch_size = 64\n",
    "n_epochs = 1000\n",
    "#Select the device \n",
    "device = torch.device('cuda' if torch.cuda.is_available() else 'cpu')"
   ]
  },
  {
   "cell_type": "markdown",
   "id": "a95e1600",
   "metadata": {
    "id": "a95e1600",
    "papermill": {
     "duration": 0.007106,
     "end_time": "2022-03-11T11:00:30.466494",
     "exception": false,
     "start_time": "2022-03-11T11:00:30.459388",
     "status": "completed"
    },
    "tags": []
   },
   "source": [
    "# ABC Pre-generator Model \n",
    "\n",
    "1. The catboost model is used as a pre-generator model for the ABC-GAN. \n",
    "2. The model is first trained on the entire dataset \n",
    "3. It generats X,Y pairs and we add some Gaussian noise with mean 0 and variance 1 to it which is then feed as input to the generator.\n"
   ]
  },
  {
   "cell_type": "code",
   "execution_count": 9,
   "id": "ff8ce7bd",
   "metadata": {
    "execution": {
     "iopub.execute_input": "2022-03-11T11:00:30.485735Z",
     "iopub.status.busy": "2022-03-11T11:00:30.485343Z",
     "iopub.status.idle": "2022-03-11T11:00:31.455182Z",
     "shell.execute_reply": "2022-03-11T11:00:31.455420Z"
    },
    "id": "ff8ce7bd",
    "papermill": {
     "duration": 0.981872,
     "end_time": "2022-03-11T11:00:31.455547",
     "exception": false,
     "start_time": "2022-03-11T11:00:30.473675",
     "status": "completed"
    },
    "tags": []
   },
   "outputs": [
    {
     "name": "stdout",
     "output_type": "stream",
     "text": [
      "Learning rate set to 0.033215\n",
      "0:\tlearn: 0.9770866\ttotal: 70.4ms\tremaining: 1m 10s\n",
      "1:\tlearn: 0.9592204\ttotal: 71.5ms\tremaining: 35.7s\n",
      "2:\tlearn: 0.9387678\ttotal: 72.5ms\tremaining: 24.1s\n",
      "3:\tlearn: 0.9227496\ttotal: 73.6ms\tremaining: 18.3s\n",
      "4:\tlearn: 0.9052760\ttotal: 74.8ms\tremaining: 14.9s\n",
      "5:\tlearn: 0.8874500\ttotal: 75.8ms\tremaining: 12.5s\n",
      "6:\tlearn: 0.8712033\ttotal: 76.7ms\tremaining: 10.9s\n",
      "7:\tlearn: 0.8550482\ttotal: 77.7ms\tremaining: 9.63s\n",
      "8:\tlearn: 0.8391850\ttotal: 78.6ms\tremaining: 8.65s\n",
      "9:\tlearn: 0.8222521\ttotal: 79.5ms\tremaining: 7.87s\n",
      "10:\tlearn: 0.8071232\ttotal: 80.4ms\tremaining: 7.23s\n",
      "11:\tlearn: 0.7927777\ttotal: 81.2ms\tremaining: 6.69s\n",
      "12:\tlearn: 0.7773687\ttotal: 82.1ms\tremaining: 6.23s\n",
      "13:\tlearn: 0.7630184\ttotal: 82.9ms\tremaining: 5.84s\n",
      "14:\tlearn: 0.7501626\ttotal: 83.8ms\tremaining: 5.5s\n",
      "15:\tlearn: 0.7360590\ttotal: 84.7ms\tremaining: 5.21s\n",
      "16:\tlearn: 0.7245823\ttotal: 86.3ms\tremaining: 4.99s\n",
      "17:\tlearn: 0.7119084\ttotal: 87.1ms\tremaining: 4.75s\n",
      "18:\tlearn: 0.6994126\ttotal: 87.9ms\tremaining: 4.54s\n",
      "19:\tlearn: 0.6867195\ttotal: 88.6ms\tremaining: 4.34s\n",
      "20:\tlearn: 0.6769731\ttotal: 89.4ms\tremaining: 4.17s\n",
      "21:\tlearn: 0.6641093\ttotal: 90.2ms\tremaining: 4.01s\n",
      "22:\tlearn: 0.6527411\ttotal: 91.1ms\tremaining: 3.87s\n",
      "23:\tlearn: 0.6427641\ttotal: 91.9ms\tremaining: 3.74s\n",
      "24:\tlearn: 0.6330275\ttotal: 92.8ms\tremaining: 3.62s\n",
      "25:\tlearn: 0.6240827\ttotal: 93.5ms\tremaining: 3.5s\n",
      "26:\tlearn: 0.6154556\ttotal: 94.3ms\tremaining: 3.4s\n",
      "27:\tlearn: 0.6078367\ttotal: 95ms\tremaining: 3.3s\n",
      "28:\tlearn: 0.5984450\ttotal: 95.8ms\tremaining: 3.21s\n",
      "29:\tlearn: 0.5887281\ttotal: 96.6ms\tremaining: 3.12s\n",
      "30:\tlearn: 0.5798254\ttotal: 97.3ms\tremaining: 3.04s\n",
      "31:\tlearn: 0.5719291\ttotal: 98.1ms\tremaining: 2.97s\n",
      "32:\tlearn: 0.5638481\ttotal: 98.9ms\tremaining: 2.9s\n",
      "33:\tlearn: 0.5561691\ttotal: 99.8ms\tremaining: 2.83s\n",
      "34:\tlearn: 0.5486399\ttotal: 101ms\tremaining: 2.77s\n",
      "35:\tlearn: 0.5419220\ttotal: 101ms\tremaining: 2.72s\n",
      "36:\tlearn: 0.5353124\ttotal: 102ms\tremaining: 2.66s\n",
      "37:\tlearn: 0.5280083\ttotal: 103ms\tremaining: 2.61s\n",
      "38:\tlearn: 0.5206685\ttotal: 104ms\tremaining: 2.56s\n",
      "39:\tlearn: 0.5137897\ttotal: 105ms\tremaining: 2.51s\n",
      "40:\tlearn: 0.5084244\ttotal: 105ms\tremaining: 2.46s\n",
      "41:\tlearn: 0.5015947\ttotal: 106ms\tremaining: 2.42s\n",
      "42:\tlearn: 0.4963478\ttotal: 107ms\tremaining: 2.37s\n",
      "43:\tlearn: 0.4893683\ttotal: 107ms\tremaining: 2.33s\n",
      "44:\tlearn: 0.4830008\ttotal: 108ms\tremaining: 2.3s\n"
     ]
    },
    {
     "name": "stdout",
     "output_type": "stream",
     "text": [
      "45:\tlearn: 0.4768147\ttotal: 109ms\tremaining: 2.26s\n",
      "46:\tlearn: 0.4716723\ttotal: 110ms\tremaining: 2.23s\n",
      "47:\tlearn: 0.4659637\ttotal: 111ms\tremaining: 2.2s\n",
      "48:\tlearn: 0.4603943\ttotal: 112ms\tremaining: 2.16s\n",
      "49:\tlearn: 0.4552215\ttotal: 112ms\tremaining: 2.13s\n",
      "50:\tlearn: 0.4496938\ttotal: 113ms\tremaining: 2.11s\n",
      "51:\tlearn: 0.4439704\ttotal: 114ms\tremaining: 2.08s\n",
      "52:\tlearn: 0.4383186\ttotal: 115ms\tremaining: 2.06s\n",
      "53:\tlearn: 0.4349319\ttotal: 116ms\tremaining: 2.03s\n",
      "54:\tlearn: 0.4304133\ttotal: 117ms\tremaining: 2.01s\n",
      "55:\tlearn: 0.4267729\ttotal: 118ms\tremaining: 1.99s\n",
      "56:\tlearn: 0.4225172\ttotal: 119ms\tremaining: 1.96s\n",
      "57:\tlearn: 0.4179813\ttotal: 120ms\tremaining: 1.94s\n",
      "58:\tlearn: 0.4149531\ttotal: 121ms\tremaining: 1.92s\n",
      "59:\tlearn: 0.4110787\ttotal: 121ms\tremaining: 1.9s\n",
      "60:\tlearn: 0.4064414\ttotal: 122ms\tremaining: 1.88s\n",
      "61:\tlearn: 0.4021482\ttotal: 124ms\tremaining: 1.87s\n",
      "62:\tlearn: 0.3993049\ttotal: 125ms\tremaining: 1.86s\n",
      "63:\tlearn: 0.3949259\ttotal: 126ms\tremaining: 1.84s\n",
      "64:\tlearn: 0.3914908\ttotal: 127ms\tremaining: 1.82s\n",
      "65:\tlearn: 0.3886123\ttotal: 128ms\tremaining: 1.8s\n",
      "66:\tlearn: 0.3851912\ttotal: 128ms\tremaining: 1.79s\n",
      "67:\tlearn: 0.3817302\ttotal: 129ms\tremaining: 1.77s\n",
      "68:\tlearn: 0.3790970\ttotal: 130ms\tremaining: 1.75s\n",
      "69:\tlearn: 0.3764016\ttotal: 131ms\tremaining: 1.74s\n",
      "70:\tlearn: 0.3730674\ttotal: 132ms\tremaining: 1.72s\n",
      "71:\tlearn: 0.3708089\ttotal: 133ms\tremaining: 1.71s\n",
      "72:\tlearn: 0.3678986\ttotal: 134ms\tremaining: 1.7s\n",
      "73:\tlearn: 0.3643531\ttotal: 134ms\tremaining: 1.68s\n",
      "74:\tlearn: 0.3615038\ttotal: 135ms\tremaining: 1.67s\n",
      "75:\tlearn: 0.3590152\ttotal: 136ms\tremaining: 1.65s\n",
      "76:\tlearn: 0.3560115\ttotal: 137ms\tremaining: 1.64s\n",
      "77:\tlearn: 0.3529737\ttotal: 138ms\tremaining: 1.63s\n",
      "78:\tlearn: 0.3504673\ttotal: 138ms\tremaining: 1.61s\n",
      "79:\tlearn: 0.3482802\ttotal: 139ms\tremaining: 1.6s\n",
      "80:\tlearn: 0.3457316\ttotal: 140ms\tremaining: 1.59s\n",
      "81:\tlearn: 0.3434219\ttotal: 141ms\tremaining: 1.58s\n",
      "82:\tlearn: 0.3405161\ttotal: 142ms\tremaining: 1.57s\n",
      "83:\tlearn: 0.3382091\ttotal: 143ms\tremaining: 1.55s\n",
      "84:\tlearn: 0.3364825\ttotal: 143ms\tremaining: 1.54s\n",
      "85:\tlearn: 0.3341126\ttotal: 144ms\tremaining: 1.53s\n",
      "86:\tlearn: 0.3318490\ttotal: 145ms\tremaining: 1.52s\n",
      "87:\tlearn: 0.3295669\ttotal: 146ms\tremaining: 1.51s\n",
      "88:\tlearn: 0.3273872\ttotal: 147ms\tremaining: 1.5s\n",
      "89:\tlearn: 0.3251060\ttotal: 148ms\tremaining: 1.49s\n",
      "90:\tlearn: 0.3231759\ttotal: 148ms\tremaining: 1.48s\n",
      "91:\tlearn: 0.3218653\ttotal: 149ms\tremaining: 1.47s\n",
      "92:\tlearn: 0.3198041\ttotal: 150ms\tremaining: 1.46s\n",
      "93:\tlearn: 0.3181912\ttotal: 151ms\tremaining: 1.45s\n",
      "94:\tlearn: 0.3161377\ttotal: 151ms\tremaining: 1.44s\n",
      "95:\tlearn: 0.3153094\ttotal: 152ms\tremaining: 1.43s\n",
      "96:\tlearn: 0.3138019\ttotal: 153ms\tremaining: 1.43s\n",
      "97:\tlearn: 0.3115149\ttotal: 154ms\tremaining: 1.42s\n",
      "98:\tlearn: 0.3102816\ttotal: 155ms\tremaining: 1.41s\n",
      "99:\tlearn: 0.3090476\ttotal: 156ms\tremaining: 1.4s\n",
      "100:\tlearn: 0.3074926\ttotal: 156ms\tremaining: 1.39s\n",
      "101:\tlearn: 0.3058087\ttotal: 157ms\tremaining: 1.39s\n",
      "102:\tlearn: 0.3041954\ttotal: 158ms\tremaining: 1.38s\n",
      "103:\tlearn: 0.3030028\ttotal: 159ms\tremaining: 1.37s\n",
      "104:\tlearn: 0.3018497\ttotal: 160ms\tremaining: 1.36s\n",
      "105:\tlearn: 0.2999575\ttotal: 161ms\tremaining: 1.36s\n",
      "106:\tlearn: 0.2983341\ttotal: 162ms\tremaining: 1.35s\n",
      "107:\tlearn: 0.2960960\ttotal: 162ms\tremaining: 1.34s\n",
      "108:\tlearn: 0.2945704\ttotal: 163ms\tremaining: 1.33s\n",
      "109:\tlearn: 0.2936897\ttotal: 164ms\tremaining: 1.33s\n",
      "110:\tlearn: 0.2926010\ttotal: 165ms\tremaining: 1.32s\n",
      "111:\tlearn: 0.2914590\ttotal: 166ms\tremaining: 1.31s\n",
      "112:\tlearn: 0.2901765\ttotal: 166ms\tremaining: 1.3s\n",
      "113:\tlearn: 0.2889104\ttotal: 167ms\tremaining: 1.3s\n",
      "114:\tlearn: 0.2876627\ttotal: 168ms\tremaining: 1.29s\n",
      "115:\tlearn: 0.2863188\ttotal: 169ms\tremaining: 1.28s\n",
      "116:\tlearn: 0.2848917\ttotal: 169ms\tremaining: 1.28s\n",
      "117:\tlearn: 0.2837482\ttotal: 170ms\tremaining: 1.27s\n",
      "118:\tlearn: 0.2827919\ttotal: 171ms\tremaining: 1.26s\n",
      "119:\tlearn: 0.2821495\ttotal: 172ms\tremaining: 1.26s\n",
      "120:\tlearn: 0.2811695\ttotal: 172ms\tremaining: 1.25s\n",
      "121:\tlearn: 0.2803271\ttotal: 173ms\tremaining: 1.25s\n",
      "122:\tlearn: 0.2797291\ttotal: 174ms\tremaining: 1.24s\n",
      "123:\tlearn: 0.2788197\ttotal: 175ms\tremaining: 1.23s\n",
      "124:\tlearn: 0.2778165\ttotal: 176ms\tremaining: 1.23s\n",
      "125:\tlearn: 0.2765575\ttotal: 176ms\tremaining: 1.22s\n",
      "126:\tlearn: 0.2753113\ttotal: 177ms\tremaining: 1.22s\n",
      "127:\tlearn: 0.2743032\ttotal: 178ms\tremaining: 1.21s\n",
      "128:\tlearn: 0.2731570\ttotal: 179ms\tremaining: 1.21s\n",
      "129:\tlearn: 0.2723062\ttotal: 180ms\tremaining: 1.2s\n",
      "130:\tlearn: 0.2712182\ttotal: 181ms\tremaining: 1.2s\n",
      "131:\tlearn: 0.2703321\ttotal: 182ms\tremaining: 1.19s\n",
      "132:\tlearn: 0.2694697\ttotal: 182ms\tremaining: 1.19s\n",
      "133:\tlearn: 0.2688598\ttotal: 183ms\tremaining: 1.18s\n",
      "134:\tlearn: 0.2680559\ttotal: 184ms\tremaining: 1.18s\n",
      "135:\tlearn: 0.2677711\ttotal: 185ms\tremaining: 1.17s\n",
      "136:\tlearn: 0.2668386\ttotal: 186ms\tremaining: 1.17s\n",
      "137:\tlearn: 0.2652493\ttotal: 186ms\tremaining: 1.16s\n",
      "138:\tlearn: 0.2642566\ttotal: 187ms\tremaining: 1.16s\n",
      "139:\tlearn: 0.2636521\ttotal: 188ms\tremaining: 1.15s\n",
      "140:\tlearn: 0.2628120\ttotal: 189ms\tremaining: 1.15s\n",
      "141:\tlearn: 0.2621226\ttotal: 190ms\tremaining: 1.15s\n",
      "142:\tlearn: 0.2612243\ttotal: 191ms\tremaining: 1.14s\n",
      "143:\tlearn: 0.2602836\ttotal: 191ms\tremaining: 1.14s\n"
     ]
    },
    {
     "name": "stdout",
     "output_type": "stream",
     "text": [
      "144:\tlearn: 0.2597957\ttotal: 192ms\tremaining: 1.13s\n",
      "145:\tlearn: 0.2591508\ttotal: 193ms\tremaining: 1.13s\n",
      "146:\tlearn: 0.2585223\ttotal: 194ms\tremaining: 1.13s\n",
      "147:\tlearn: 0.2578955\ttotal: 195ms\tremaining: 1.12s\n",
      "148:\tlearn: 0.2572236\ttotal: 196ms\tremaining: 1.12s\n",
      "149:\tlearn: 0.2564842\ttotal: 197ms\tremaining: 1.11s\n",
      "150:\tlearn: 0.2559560\ttotal: 198ms\tremaining: 1.11s\n",
      "151:\tlearn: 0.2552672\ttotal: 198ms\tremaining: 1.11s\n",
      "152:\tlearn: 0.2547389\ttotal: 199ms\tremaining: 1.1s\n",
      "153:\tlearn: 0.2540269\ttotal: 200ms\tremaining: 1.1s\n",
      "154:\tlearn: 0.2535764\ttotal: 201ms\tremaining: 1.09s\n",
      "155:\tlearn: 0.2524888\ttotal: 202ms\tremaining: 1.09s\n",
      "156:\tlearn: 0.2515483\ttotal: 203ms\tremaining: 1.09s\n",
      "157:\tlearn: 0.2510360\ttotal: 203ms\tremaining: 1.08s\n",
      "158:\tlearn: 0.2503229\ttotal: 204ms\tremaining: 1.08s\n",
      "159:\tlearn: 0.2499461\ttotal: 205ms\tremaining: 1.07s\n",
      "160:\tlearn: 0.2493157\ttotal: 206ms\tremaining: 1.07s\n",
      "161:\tlearn: 0.2491329\ttotal: 206ms\tremaining: 1.07s\n",
      "162:\tlearn: 0.2485229\ttotal: 207ms\tremaining: 1.06s\n",
      "163:\tlearn: 0.2479751\ttotal: 208ms\tremaining: 1.06s\n",
      "164:\tlearn: 0.2474269\ttotal: 209ms\tremaining: 1.06s\n",
      "165:\tlearn: 0.2468945\ttotal: 210ms\tremaining: 1.05s\n",
      "166:\tlearn: 0.2465260\ttotal: 211ms\tremaining: 1.05s\n",
      "167:\tlearn: 0.2459739\ttotal: 212ms\tremaining: 1.05s\n",
      "168:\tlearn: 0.2454571\ttotal: 213ms\tremaining: 1.05s\n",
      "169:\tlearn: 0.2452165\ttotal: 214ms\tremaining: 1.04s\n",
      "170:\tlearn: 0.2444076\ttotal: 215ms\tremaining: 1.04s\n",
      "171:\tlearn: 0.2435827\ttotal: 215ms\tremaining: 1.04s\n",
      "172:\tlearn: 0.2429958\ttotal: 216ms\tremaining: 1.03s\n",
      "173:\tlearn: 0.2427004\ttotal: 217ms\tremaining: 1.03s\n",
      "174:\tlearn: 0.2418950\ttotal: 218ms\tremaining: 1.03s\n",
      "175:\tlearn: 0.2416189\ttotal: 218ms\tremaining: 1.02s\n",
      "176:\tlearn: 0.2409228\ttotal: 219ms\tremaining: 1.02s\n",
      "177:\tlearn: 0.2406469\ttotal: 220ms\tremaining: 1.01s\n",
      "178:\tlearn: 0.2402535\ttotal: 221ms\tremaining: 1.01s\n",
      "179:\tlearn: 0.2396215\ttotal: 221ms\tremaining: 1.01s\n",
      "180:\tlearn: 0.2387542\ttotal: 223ms\tremaining: 1.01s\n",
      "181:\tlearn: 0.2380909\ttotal: 224ms\tremaining: 1.01s\n",
      "182:\tlearn: 0.2371534\ttotal: 225ms\tremaining: 1s\n",
      "183:\tlearn: 0.2365602\ttotal: 226ms\tremaining: 1s\n",
      "184:\tlearn: 0.2356484\ttotal: 226ms\tremaining: 998ms\n",
      "185:\tlearn: 0.2353653\ttotal: 227ms\tremaining: 995ms\n",
      "186:\tlearn: 0.2347837\ttotal: 228ms\tremaining: 992ms\n",
      "187:\tlearn: 0.2342710\ttotal: 229ms\tremaining: 989ms\n",
      "188:\tlearn: 0.2339280\ttotal: 230ms\tremaining: 986ms\n",
      "189:\tlearn: 0.2333042\ttotal: 231ms\tremaining: 983ms\n",
      "190:\tlearn: 0.2324549\ttotal: 231ms\tremaining: 980ms\n",
      "191:\tlearn: 0.2317961\ttotal: 232ms\tremaining: 978ms\n",
      "192:\tlearn: 0.2315983\ttotal: 233ms\tremaining: 975ms\n",
      "193:\tlearn: 0.2311460\ttotal: 234ms\tremaining: 972ms\n",
      "194:\tlearn: 0.2306350\ttotal: 235ms\tremaining: 970ms\n",
      "195:\tlearn: 0.2300327\ttotal: 236ms\tremaining: 968ms\n",
      "196:\tlearn: 0.2297150\ttotal: 237ms\tremaining: 965ms\n",
      "197:\tlearn: 0.2288786\ttotal: 238ms\tremaining: 962ms\n",
      "198:\tlearn: 0.2281974\ttotal: 238ms\tremaining: 960ms\n",
      "199:\tlearn: 0.2274313\ttotal: 239ms\tremaining: 957ms\n",
      "200:\tlearn: 0.2272530\ttotal: 240ms\tremaining: 954ms\n",
      "201:\tlearn: 0.2268818\ttotal: 241ms\tremaining: 951ms\n",
      "202:\tlearn: 0.2264308\ttotal: 242ms\tremaining: 948ms\n",
      "203:\tlearn: 0.2260255\ttotal: 242ms\tremaining: 946ms\n",
      "204:\tlearn: 0.2257183\ttotal: 243ms\tremaining: 943ms\n",
      "205:\tlearn: 0.2253992\ttotal: 244ms\tremaining: 941ms\n",
      "206:\tlearn: 0.2249774\ttotal: 246ms\tremaining: 941ms\n",
      "207:\tlearn: 0.2244462\ttotal: 246ms\tremaining: 938ms\n",
      "208:\tlearn: 0.2240981\ttotal: 247ms\tremaining: 935ms\n",
      "209:\tlearn: 0.2235405\ttotal: 248ms\tremaining: 933ms\n",
      "210:\tlearn: 0.2230357\ttotal: 249ms\tremaining: 930ms\n",
      "211:\tlearn: 0.2227052\ttotal: 249ms\tremaining: 927ms\n",
      "212:\tlearn: 0.2223061\ttotal: 250ms\tremaining: 925ms\n",
      "213:\tlearn: 0.2218323\ttotal: 251ms\tremaining: 922ms\n",
      "214:\tlearn: 0.2214768\ttotal: 252ms\tremaining: 920ms\n",
      "215:\tlearn: 0.2212420\ttotal: 253ms\tremaining: 917ms\n",
      "216:\tlearn: 0.2211032\ttotal: 254ms\tremaining: 915ms\n",
      "217:\tlearn: 0.2204894\ttotal: 254ms\tremaining: 913ms\n",
      "218:\tlearn: 0.2203203\ttotal: 255ms\tremaining: 910ms\n",
      "219:\tlearn: 0.2200156\ttotal: 256ms\tremaining: 908ms\n",
      "220:\tlearn: 0.2193351\ttotal: 257ms\tremaining: 906ms\n",
      "221:\tlearn: 0.2191561\ttotal: 258ms\tremaining: 903ms\n",
      "222:\tlearn: 0.2187612\ttotal: 258ms\tremaining: 901ms\n",
      "223:\tlearn: 0.2180481\ttotal: 259ms\tremaining: 898ms\n",
      "224:\tlearn: 0.2178293\ttotal: 260ms\tremaining: 896ms\n",
      "225:\tlearn: 0.2169616\ttotal: 261ms\tremaining: 894ms\n",
      "226:\tlearn: 0.2164954\ttotal: 262ms\tremaining: 892ms\n",
      "227:\tlearn: 0.2160465\ttotal: 263ms\tremaining: 890ms\n",
      "228:\tlearn: 0.2156300\ttotal: 264ms\tremaining: 888ms\n",
      "229:\tlearn: 0.2154100\ttotal: 264ms\tremaining: 885ms\n",
      "230:\tlearn: 0.2149182\ttotal: 265ms\tremaining: 883ms\n",
      "231:\tlearn: 0.2142476\ttotal: 266ms\tremaining: 881ms\n",
      "232:\tlearn: 0.2137438\ttotal: 267ms\tremaining: 879ms\n",
      "233:\tlearn: 0.2134958\ttotal: 268ms\tremaining: 877ms\n",
      "234:\tlearn: 0.2131015\ttotal: 269ms\tremaining: 874ms\n",
      "235:\tlearn: 0.2127855\ttotal: 269ms\tremaining: 872ms\n",
      "236:\tlearn: 0.2125491\ttotal: 270ms\tremaining: 870ms\n",
      "237:\tlearn: 0.2121817\ttotal: 271ms\tremaining: 867ms\n",
      "238:\tlearn: 0.2117635\ttotal: 272ms\tremaining: 865ms\n",
      "239:\tlearn: 0.2109996\ttotal: 272ms\tremaining: 862ms\n",
      "240:\tlearn: 0.2108161\ttotal: 273ms\tremaining: 861ms\n",
      "241:\tlearn: 0.2105580\ttotal: 274ms\tremaining: 858ms\n",
      "242:\tlearn: 0.2102786\ttotal: 275ms\tremaining: 856ms\n",
      "243:\tlearn: 0.2101094\ttotal: 276ms\tremaining: 854ms\n",
      "244:\tlearn: 0.2097888\ttotal: 276ms\tremaining: 852ms\n",
      "245:\tlearn: 0.2094219\ttotal: 277ms\tremaining: 849ms\n",
      "246:\tlearn: 0.2092651\ttotal: 278ms\tremaining: 847ms\n",
      "247:\tlearn: 0.2091944\ttotal: 279ms\tremaining: 845ms\n",
      "248:\tlearn: 0.2087196\ttotal: 280ms\tremaining: 843ms\n",
      "249:\tlearn: 0.2084037\ttotal: 280ms\tremaining: 841ms\n",
      "250:\tlearn: 0.2079793\ttotal: 281ms\tremaining: 839ms\n",
      "251:\tlearn: 0.2076765\ttotal: 282ms\tremaining: 837ms\n",
      "252:\tlearn: 0.2070722\ttotal: 283ms\tremaining: 835ms\n",
      "253:\tlearn: 0.2066753\ttotal: 284ms\tremaining: 834ms\n",
      "254:\tlearn: 0.2061493\ttotal: 285ms\tremaining: 832ms\n",
      "255:\tlearn: 0.2057490\ttotal: 286ms\tremaining: 833ms\n",
      "256:\tlearn: 0.2054882\ttotal: 287ms\tremaining: 831ms\n",
      "257:\tlearn: 0.2050233\ttotal: 288ms\tremaining: 829ms\n",
      "258:\tlearn: 0.2048831\ttotal: 289ms\tremaining: 827ms\n",
      "259:\tlearn: 0.2046542\ttotal: 291ms\tremaining: 829ms\n",
      "260:\tlearn: 0.2045542\ttotal: 292ms\tremaining: 827ms\n",
      "261:\tlearn: 0.2042770\ttotal: 293ms\tremaining: 825ms\n",
      "262:\tlearn: 0.2040920\ttotal: 294ms\tremaining: 823ms\n",
      "263:\tlearn: 0.2039795\ttotal: 295ms\tremaining: 821ms\n",
      "264:\tlearn: 0.2037713\ttotal: 295ms\tremaining: 819ms\n",
      "265:\tlearn: 0.2031625\ttotal: 296ms\tremaining: 818ms\n",
      "266:\tlearn: 0.2027448\ttotal: 297ms\tremaining: 816ms\n",
      "267:\tlearn: 0.2022984\ttotal: 298ms\tremaining: 814ms\n",
      "268:\tlearn: 0.2019360\ttotal: 299ms\tremaining: 812ms\n"
     ]
    },
    {
     "name": "stdout",
     "output_type": "stream",
     "text": [
      "269:\tlearn: 0.2014695\ttotal: 300ms\tremaining: 811ms\n",
      "270:\tlearn: 0.2014179\ttotal: 301ms\tremaining: 809ms\n",
      "271:\tlearn: 0.2009174\ttotal: 302ms\tremaining: 807ms\n",
      "272:\tlearn: 0.2003711\ttotal: 302ms\tremaining: 806ms\n",
      "273:\tlearn: 0.2002002\ttotal: 303ms\tremaining: 803ms\n",
      "274:\tlearn: 0.1998829\ttotal: 304ms\tremaining: 802ms\n",
      "275:\tlearn: 0.1996756\ttotal: 305ms\tremaining: 800ms\n",
      "276:\tlearn: 0.1995479\ttotal: 306ms\tremaining: 798ms\n",
      "277:\tlearn: 0.1994462\ttotal: 306ms\tremaining: 796ms\n",
      "278:\tlearn: 0.1988465\ttotal: 307ms\tremaining: 794ms\n",
      "279:\tlearn: 0.1985746\ttotal: 308ms\tremaining: 792ms\n",
      "280:\tlearn: 0.1981004\ttotal: 309ms\tremaining: 790ms\n",
      "281:\tlearn: 0.1976829\ttotal: 310ms\tremaining: 789ms\n",
      "282:\tlearn: 0.1975720\ttotal: 311ms\tremaining: 787ms\n",
      "283:\tlearn: 0.1973068\ttotal: 311ms\tremaining: 785ms\n",
      "284:\tlearn: 0.1969503\ttotal: 313ms\tremaining: 785ms\n",
      "285:\tlearn: 0.1968896\ttotal: 314ms\tremaining: 783ms\n",
      "286:\tlearn: 0.1966906\ttotal: 315ms\tremaining: 781ms\n",
      "287:\tlearn: 0.1960680\ttotal: 315ms\tremaining: 780ms\n",
      "288:\tlearn: 0.1956314\ttotal: 317ms\tremaining: 780ms\n",
      "289:\tlearn: 0.1950532\ttotal: 318ms\tremaining: 778ms\n",
      "290:\tlearn: 0.1946168\ttotal: 318ms\tremaining: 776ms\n",
      "291:\tlearn: 0.1943192\ttotal: 319ms\tremaining: 774ms\n",
      "292:\tlearn: 0.1942444\ttotal: 320ms\tremaining: 772ms\n",
      "293:\tlearn: 0.1941383\ttotal: 321ms\tremaining: 770ms\n",
      "294:\tlearn: 0.1934954\ttotal: 322ms\tremaining: 768ms\n",
      "295:\tlearn: 0.1934264\ttotal: 322ms\tremaining: 767ms\n",
      "296:\tlearn: 0.1933321\ttotal: 323ms\tremaining: 765ms\n",
      "297:\tlearn: 0.1930474\ttotal: 324ms\tremaining: 763ms\n",
      "298:\tlearn: 0.1925753\ttotal: 325ms\tremaining: 762ms\n",
      "299:\tlearn: 0.1921318\ttotal: 326ms\tremaining: 760ms\n",
      "300:\tlearn: 0.1915143\ttotal: 327ms\tremaining: 758ms\n",
      "301:\tlearn: 0.1912940\ttotal: 327ms\tremaining: 757ms\n",
      "302:\tlearn: 0.1912355\ttotal: 328ms\tremaining: 755ms\n",
      "303:\tlearn: 0.1905993\ttotal: 329ms\tremaining: 753ms\n",
      "304:\tlearn: 0.1904780\ttotal: 330ms\tremaining: 751ms\n",
      "305:\tlearn: 0.1900119\ttotal: 330ms\tremaining: 749ms\n",
      "306:\tlearn: 0.1897120\ttotal: 331ms\tremaining: 748ms\n",
      "307:\tlearn: 0.1894177\ttotal: 332ms\tremaining: 746ms\n",
      "308:\tlearn: 0.1891345\ttotal: 333ms\tremaining: 745ms\n",
      "309:\tlearn: 0.1886612\ttotal: 334ms\tremaining: 743ms\n",
      "310:\tlearn: 0.1880433\ttotal: 335ms\tremaining: 742ms\n",
      "311:\tlearn: 0.1878595\ttotal: 337ms\tremaining: 742ms\n",
      "312:\tlearn: 0.1874060\ttotal: 337ms\tremaining: 741ms\n",
      "313:\tlearn: 0.1872600\ttotal: 338ms\tremaining: 739ms\n",
      "314:\tlearn: 0.1872330\ttotal: 339ms\tremaining: 738ms\n",
      "315:\tlearn: 0.1867987\ttotal: 340ms\tremaining: 736ms\n",
      "316:\tlearn: 0.1863493\ttotal: 341ms\tremaining: 735ms\n",
      "317:\tlearn: 0.1859071\ttotal: 342ms\tremaining: 734ms\n",
      "318:\tlearn: 0.1855994\ttotal: 343ms\tremaining: 733ms\n",
      "319:\tlearn: 0.1851718\ttotal: 344ms\tremaining: 732ms\n",
      "320:\tlearn: 0.1851353\ttotal: 345ms\tremaining: 730ms\n",
      "321:\tlearn: 0.1844483\ttotal: 346ms\tremaining: 729ms\n",
      "322:\tlearn: 0.1840191\ttotal: 347ms\tremaining: 728ms\n",
      "323:\tlearn: 0.1836293\ttotal: 348ms\tremaining: 726ms\n",
      "324:\tlearn: 0.1833006\ttotal: 349ms\tremaining: 725ms\n",
      "325:\tlearn: 0.1829415\ttotal: 350ms\tremaining: 724ms\n",
      "326:\tlearn: 0.1826185\ttotal: 351ms\tremaining: 723ms\n",
      "327:\tlearn: 0.1822554\ttotal: 352ms\tremaining: 721ms\n",
      "328:\tlearn: 0.1817285\ttotal: 353ms\tremaining: 720ms\n",
      "329:\tlearn: 0.1815550\ttotal: 354ms\tremaining: 719ms\n",
      "330:\tlearn: 0.1810228\ttotal: 355ms\tremaining: 717ms\n",
      "331:\tlearn: 0.1809890\ttotal: 356ms\tremaining: 716ms\n",
      "332:\tlearn: 0.1804274\ttotal: 357ms\tremaining: 714ms\n",
      "333:\tlearn: 0.1799646\ttotal: 358ms\tremaining: 713ms\n",
      "334:\tlearn: 0.1795715\ttotal: 358ms\tremaining: 712ms\n",
      "335:\tlearn: 0.1791896\ttotal: 359ms\tremaining: 710ms\n",
      "336:\tlearn: 0.1787103\ttotal: 360ms\tremaining: 709ms\n",
      "337:\tlearn: 0.1783770\ttotal: 361ms\tremaining: 707ms\n",
      "338:\tlearn: 0.1783202\ttotal: 362ms\tremaining: 705ms\n",
      "339:\tlearn: 0.1778100\ttotal: 363ms\tremaining: 704ms\n",
      "340:\tlearn: 0.1774197\ttotal: 363ms\tremaining: 702ms\n",
      "341:\tlearn: 0.1770773\ttotal: 364ms\tremaining: 701ms\n",
      "342:\tlearn: 0.1765902\ttotal: 365ms\tremaining: 699ms\n",
      "343:\tlearn: 0.1761541\ttotal: 366ms\tremaining: 698ms\n",
      "344:\tlearn: 0.1759948\ttotal: 367ms\tremaining: 696ms\n",
      "345:\tlearn: 0.1756654\ttotal: 368ms\tremaining: 695ms\n",
      "346:\tlearn: 0.1753330\ttotal: 368ms\tremaining: 693ms\n",
      "347:\tlearn: 0.1749594\ttotal: 369ms\tremaining: 692ms\n",
      "348:\tlearn: 0.1744887\ttotal: 370ms\tremaining: 690ms\n",
      "349:\tlearn: 0.1741318\ttotal: 371ms\tremaining: 689ms\n",
      "350:\tlearn: 0.1734446\ttotal: 372ms\tremaining: 687ms\n",
      "351:\tlearn: 0.1729710\ttotal: 372ms\tremaining: 686ms\n",
      "352:\tlearn: 0.1724377\ttotal: 373ms\tremaining: 684ms\n",
      "353:\tlearn: 0.1721836\ttotal: 374ms\tremaining: 682ms\n",
      "354:\tlearn: 0.1718707\ttotal: 375ms\tremaining: 681ms\n",
      "355:\tlearn: 0.1715554\ttotal: 376ms\tremaining: 680ms\n",
      "356:\tlearn: 0.1711995\ttotal: 377ms\tremaining: 678ms\n",
      "357:\tlearn: 0.1707509\ttotal: 377ms\tremaining: 677ms\n",
      "358:\tlearn: 0.1702739\ttotal: 378ms\tremaining: 675ms\n",
      "359:\tlearn: 0.1699018\ttotal: 379ms\tremaining: 674ms\n",
      "360:\tlearn: 0.1698533\ttotal: 380ms\tremaining: 672ms\n",
      "361:\tlearn: 0.1696053\ttotal: 381ms\tremaining: 671ms\n",
      "362:\tlearn: 0.1692509\ttotal: 381ms\tremaining: 669ms\n",
      "363:\tlearn: 0.1687733\ttotal: 382ms\tremaining: 668ms\n"
     ]
    },
    {
     "name": "stdout",
     "output_type": "stream",
     "text": [
      "364:\tlearn: 0.1683090\ttotal: 383ms\tremaining: 667ms\n",
      "365:\tlearn: 0.1678133\ttotal: 384ms\tremaining: 666ms\n",
      "366:\tlearn: 0.1675158\ttotal: 385ms\tremaining: 664ms\n",
      "367:\tlearn: 0.1672776\ttotal: 386ms\tremaining: 663ms\n",
      "368:\tlearn: 0.1669045\ttotal: 387ms\tremaining: 661ms\n",
      "369:\tlearn: 0.1665081\ttotal: 388ms\tremaining: 660ms\n",
      "370:\tlearn: 0.1659658\ttotal: 388ms\tremaining: 658ms\n",
      "371:\tlearn: 0.1654952\ttotal: 389ms\tremaining: 657ms\n",
      "372:\tlearn: 0.1650332\ttotal: 390ms\tremaining: 656ms\n",
      "373:\tlearn: 0.1648474\ttotal: 391ms\tremaining: 654ms\n",
      "374:\tlearn: 0.1645078\ttotal: 392ms\tremaining: 653ms\n",
      "375:\tlearn: 0.1640561\ttotal: 392ms\tremaining: 651ms\n",
      "376:\tlearn: 0.1635632\ttotal: 393ms\tremaining: 650ms\n",
      "377:\tlearn: 0.1634826\ttotal: 394ms\tremaining: 648ms\n",
      "378:\tlearn: 0.1630309\ttotal: 395ms\tremaining: 647ms\n",
      "379:\tlearn: 0.1625871\ttotal: 395ms\tremaining: 645ms\n",
      "380:\tlearn: 0.1621918\ttotal: 396ms\tremaining: 644ms\n",
      "381:\tlearn: 0.1615206\ttotal: 397ms\tremaining: 642ms\n",
      "382:\tlearn: 0.1612120\ttotal: 398ms\tremaining: 641ms\n",
      "383:\tlearn: 0.1609566\ttotal: 399ms\tremaining: 640ms\n",
      "384:\tlearn: 0.1606180\ttotal: 400ms\tremaining: 638ms\n",
      "385:\tlearn: 0.1604491\ttotal: 401ms\tremaining: 637ms\n",
      "386:\tlearn: 0.1602122\ttotal: 401ms\tremaining: 636ms\n",
      "387:\tlearn: 0.1599413\ttotal: 402ms\tremaining: 634ms\n",
      "388:\tlearn: 0.1594905\ttotal: 403ms\tremaining: 633ms\n",
      "389:\tlearn: 0.1592665\ttotal: 404ms\tremaining: 631ms\n",
      "390:\tlearn: 0.1591150\ttotal: 405ms\tremaining: 630ms\n",
      "391:\tlearn: 0.1587088\ttotal: 405ms\tremaining: 629ms\n",
      "392:\tlearn: 0.1583440\ttotal: 406ms\tremaining: 628ms\n",
      "393:\tlearn: 0.1580264\ttotal: 407ms\tremaining: 626ms\n",
      "394:\tlearn: 0.1580012\ttotal: 408ms\tremaining: 625ms\n",
      "395:\tlearn: 0.1574633\ttotal: 409ms\tremaining: 624ms\n",
      "396:\tlearn: 0.1574099\ttotal: 410ms\tremaining: 622ms\n",
      "397:\tlearn: 0.1572023\ttotal: 411ms\tremaining: 621ms\n",
      "398:\tlearn: 0.1570797\ttotal: 412ms\tremaining: 621ms\n",
      "399:\tlearn: 0.1568451\ttotal: 413ms\tremaining: 619ms\n",
      "400:\tlearn: 0.1565677\ttotal: 414ms\tremaining: 618ms\n",
      "401:\tlearn: 0.1563326\ttotal: 415ms\tremaining: 617ms\n",
      "402:\tlearn: 0.1561457\ttotal: 415ms\tremaining: 615ms\n",
      "403:\tlearn: 0.1557248\ttotal: 416ms\tremaining: 614ms\n",
      "404:\tlearn: 0.1554925\ttotal: 417ms\tremaining: 612ms\n",
      "405:\tlearn: 0.1553118\ttotal: 418ms\tremaining: 611ms\n",
      "406:\tlearn: 0.1550554\ttotal: 418ms\tremaining: 610ms\n",
      "407:\tlearn: 0.1548352\ttotal: 419ms\tremaining: 608ms\n",
      "408:\tlearn: 0.1545214\ttotal: 420ms\tremaining: 607ms\n",
      "409:\tlearn: 0.1542966\ttotal: 421ms\tremaining: 606ms\n",
      "410:\tlearn: 0.1538630\ttotal: 422ms\tremaining: 604ms\n",
      "411:\tlearn: 0.1534993\ttotal: 422ms\tremaining: 603ms\n",
      "412:\tlearn: 0.1530713\ttotal: 423ms\tremaining: 601ms\n",
      "413:\tlearn: 0.1528820\ttotal: 424ms\tremaining: 600ms\n",
      "414:\tlearn: 0.1527738\ttotal: 425ms\tremaining: 599ms\n",
      "415:\tlearn: 0.1523797\ttotal: 425ms\tremaining: 597ms\n",
      "416:\tlearn: 0.1522255\ttotal: 426ms\tremaining: 596ms\n",
      "417:\tlearn: 0.1520472\ttotal: 427ms\tremaining: 595ms\n",
      "418:\tlearn: 0.1519602\ttotal: 428ms\tremaining: 593ms\n",
      "419:\tlearn: 0.1516926\ttotal: 429ms\tremaining: 592ms\n",
      "420:\tlearn: 0.1514620\ttotal: 430ms\tremaining: 591ms\n",
      "421:\tlearn: 0.1511057\ttotal: 430ms\tremaining: 589ms\n",
      "422:\tlearn: 0.1508097\ttotal: 431ms\tremaining: 588ms\n",
      "423:\tlearn: 0.1503725\ttotal: 432ms\tremaining: 587ms\n",
      "424:\tlearn: 0.1501777\ttotal: 433ms\tremaining: 586ms\n",
      "425:\tlearn: 0.1499539\ttotal: 434ms\tremaining: 584ms\n",
      "426:\tlearn: 0.1497169\ttotal: 435ms\tremaining: 584ms\n",
      "427:\tlearn: 0.1496489\ttotal: 436ms\tremaining: 583ms\n",
      "428:\tlearn: 0.1496115\ttotal: 437ms\tremaining: 581ms\n",
      "429:\tlearn: 0.1493788\ttotal: 437ms\tremaining: 580ms\n",
      "430:\tlearn: 0.1490431\ttotal: 438ms\tremaining: 579ms\n",
      "431:\tlearn: 0.1486551\ttotal: 439ms\tremaining: 578ms\n",
      "432:\tlearn: 0.1486142\ttotal: 440ms\tremaining: 576ms\n",
      "433:\tlearn: 0.1485158\ttotal: 441ms\tremaining: 575ms\n",
      "434:\tlearn: 0.1483119\ttotal: 442ms\tremaining: 574ms\n",
      "435:\tlearn: 0.1479140\ttotal: 442ms\tremaining: 572ms\n",
      "436:\tlearn: 0.1476952\ttotal: 443ms\tremaining: 571ms\n",
      "437:\tlearn: 0.1474169\ttotal: 444ms\tremaining: 570ms\n",
      "438:\tlearn: 0.1473047\ttotal: 445ms\tremaining: 568ms\n",
      "439:\tlearn: 0.1470204\ttotal: 446ms\tremaining: 567ms\n",
      "440:\tlearn: 0.1466636\ttotal: 447ms\tremaining: 566ms\n",
      "441:\tlearn: 0.1465719\ttotal: 448ms\tremaining: 565ms\n",
      "442:\tlearn: 0.1463758\ttotal: 448ms\tremaining: 564ms\n",
      "443:\tlearn: 0.1463108\ttotal: 449ms\tremaining: 562ms\n",
      "444:\tlearn: 0.1461439\ttotal: 450ms\tremaining: 561ms\n",
      "445:\tlearn: 0.1457955\ttotal: 451ms\tremaining: 560ms\n",
      "446:\tlearn: 0.1454563\ttotal: 452ms\tremaining: 559ms\n",
      "447:\tlearn: 0.1453477\ttotal: 453ms\tremaining: 558ms\n",
      "448:\tlearn: 0.1450973\ttotal: 453ms\tremaining: 556ms\n",
      "449:\tlearn: 0.1450418\ttotal: 454ms\tremaining: 555ms\n",
      "450:\tlearn: 0.1444710\ttotal: 455ms\tremaining: 554ms\n",
      "451:\tlearn: 0.1443074\ttotal: 456ms\tremaining: 553ms\n",
      "452:\tlearn: 0.1438740\ttotal: 457ms\tremaining: 552ms\n",
      "453:\tlearn: 0.1437256\ttotal: 458ms\tremaining: 551ms\n",
      "454:\tlearn: 0.1434942\ttotal: 459ms\tremaining: 550ms\n",
      "455:\tlearn: 0.1433086\ttotal: 460ms\tremaining: 548ms\n",
      "456:\tlearn: 0.1432669\ttotal: 461ms\tremaining: 547ms\n",
      "457:\tlearn: 0.1426644\ttotal: 461ms\tremaining: 546ms\n",
      "458:\tlearn: 0.1425879\ttotal: 462ms\tremaining: 545ms\n",
      "459:\tlearn: 0.1423905\ttotal: 463ms\tremaining: 543ms\n",
      "460:\tlearn: 0.1419641\ttotal: 464ms\tremaining: 542ms\n",
      "461:\tlearn: 0.1415126\ttotal: 464ms\tremaining: 541ms\n",
      "462:\tlearn: 0.1412718\ttotal: 465ms\tremaining: 540ms\n",
      "463:\tlearn: 0.1409362\ttotal: 466ms\tremaining: 538ms\n",
      "464:\tlearn: 0.1405778\ttotal: 467ms\tremaining: 537ms\n",
      "465:\tlearn: 0.1404980\ttotal: 468ms\tremaining: 536ms\n",
      "466:\tlearn: 0.1401817\ttotal: 468ms\tremaining: 535ms\n",
      "467:\tlearn: 0.1401253\ttotal: 469ms\tremaining: 533ms\n",
      "468:\tlearn: 0.1400670\ttotal: 471ms\tremaining: 533ms\n",
      "469:\tlearn: 0.1398885\ttotal: 471ms\tremaining: 532ms\n",
      "470:\tlearn: 0.1397276\ttotal: 472ms\tremaining: 530ms\n",
      "471:\tlearn: 0.1396498\ttotal: 473ms\tremaining: 529ms\n",
      "472:\tlearn: 0.1392738\ttotal: 474ms\tremaining: 528ms\n",
      "473:\tlearn: 0.1389330\ttotal: 475ms\tremaining: 527ms\n",
      "474:\tlearn: 0.1386466\ttotal: 475ms\tremaining: 525ms\n",
      "475:\tlearn: 0.1383895\ttotal: 476ms\tremaining: 524ms\n",
      "476:\tlearn: 0.1382298\ttotal: 477ms\tremaining: 523ms\n",
      "477:\tlearn: 0.1379187\ttotal: 478ms\tremaining: 522ms\n",
      "478:\tlearn: 0.1376252\ttotal: 479ms\tremaining: 521ms\n",
      "479:\tlearn: 0.1375538\ttotal: 479ms\tremaining: 519ms\n",
      "480:\tlearn: 0.1373376\ttotal: 480ms\tremaining: 518ms\n",
      "481:\tlearn: 0.1370948\ttotal: 481ms\tremaining: 517ms\n",
      "482:\tlearn: 0.1368600\ttotal: 482ms\tremaining: 516ms\n",
      "483:\tlearn: 0.1366989\ttotal: 483ms\tremaining: 515ms\n",
      "484:\tlearn: 0.1364630\ttotal: 484ms\tremaining: 514ms\n",
      "485:\tlearn: 0.1361933\ttotal: 484ms\tremaining: 512ms\n",
      "486:\tlearn: 0.1358304\ttotal: 485ms\tremaining: 511ms\n",
      "487:\tlearn: 0.1355129\ttotal: 486ms\tremaining: 510ms\n",
      "488:\tlearn: 0.1352429\ttotal: 487ms\tremaining: 509ms\n",
      "489:\tlearn: 0.1350109\ttotal: 488ms\tremaining: 508ms\n",
      "490:\tlearn: 0.1347623\ttotal: 488ms\tremaining: 506ms\n",
      "491:\tlearn: 0.1344106\ttotal: 490ms\tremaining: 506ms\n"
     ]
    },
    {
     "name": "stdout",
     "output_type": "stream",
     "text": [
      "492:\tlearn: 0.1341577\ttotal: 491ms\tremaining: 505ms\n",
      "493:\tlearn: 0.1340796\ttotal: 492ms\tremaining: 504ms\n",
      "494:\tlearn: 0.1336683\ttotal: 493ms\tremaining: 503ms\n",
      "495:\tlearn: 0.1334030\ttotal: 493ms\tremaining: 501ms\n",
      "496:\tlearn: 0.1328948\ttotal: 494ms\tremaining: 500ms\n",
      "497:\tlearn: 0.1326331\ttotal: 495ms\tremaining: 499ms\n",
      "498:\tlearn: 0.1324147\ttotal: 496ms\tremaining: 498ms\n",
      "499:\tlearn: 0.1320322\ttotal: 497ms\tremaining: 497ms\n",
      "500:\tlearn: 0.1318978\ttotal: 497ms\tremaining: 495ms\n",
      "501:\tlearn: 0.1317699\ttotal: 498ms\tremaining: 494ms\n",
      "502:\tlearn: 0.1314895\ttotal: 499ms\tremaining: 493ms\n",
      "503:\tlearn: 0.1313700\ttotal: 500ms\tremaining: 492ms\n",
      "504:\tlearn: 0.1313096\ttotal: 500ms\tremaining: 491ms\n",
      "505:\tlearn: 0.1310577\ttotal: 501ms\tremaining: 489ms\n",
      "506:\tlearn: 0.1307993\ttotal: 502ms\tremaining: 488ms\n",
      "507:\tlearn: 0.1303710\ttotal: 503ms\tremaining: 487ms\n",
      "508:\tlearn: 0.1302046\ttotal: 504ms\tremaining: 486ms\n",
      "509:\tlearn: 0.1299550\ttotal: 505ms\tremaining: 485ms\n",
      "510:\tlearn: 0.1297400\ttotal: 505ms\tremaining: 484ms\n",
      "511:\tlearn: 0.1294329\ttotal: 506ms\tremaining: 482ms\n",
      "512:\tlearn: 0.1290772\ttotal: 507ms\tremaining: 481ms\n",
      "513:\tlearn: 0.1287174\ttotal: 508ms\tremaining: 480ms\n",
      "514:\tlearn: 0.1285281\ttotal: 509ms\tremaining: 479ms\n",
      "515:\tlearn: 0.1282028\ttotal: 509ms\tremaining: 478ms\n",
      "516:\tlearn: 0.1279197\ttotal: 510ms\tremaining: 477ms\n",
      "517:\tlearn: 0.1276953\ttotal: 511ms\tremaining: 476ms\n",
      "518:\tlearn: 0.1275556\ttotal: 512ms\tremaining: 474ms\n",
      "519:\tlearn: 0.1272284\ttotal: 513ms\tremaining: 473ms\n",
      "520:\tlearn: 0.1269108\ttotal: 513ms\tremaining: 472ms\n",
      "521:\tlearn: 0.1267275\ttotal: 514ms\tremaining: 471ms\n",
      "522:\tlearn: 0.1263526\ttotal: 515ms\tremaining: 470ms\n",
      "523:\tlearn: 0.1260780\ttotal: 516ms\tremaining: 469ms\n",
      "524:\tlearn: 0.1258436\ttotal: 517ms\tremaining: 468ms\n",
      "525:\tlearn: 0.1256561\ttotal: 518ms\tremaining: 466ms\n",
      "526:\tlearn: 0.1254171\ttotal: 518ms\tremaining: 465ms\n",
      "527:\tlearn: 0.1251994\ttotal: 519ms\tremaining: 464ms\n",
      "528:\tlearn: 0.1247982\ttotal: 520ms\tremaining: 463ms\n",
      "529:\tlearn: 0.1245042\ttotal: 521ms\tremaining: 462ms\n",
      "530:\tlearn: 0.1244199\ttotal: 522ms\tremaining: 461ms\n",
      "531:\tlearn: 0.1241758\ttotal: 522ms\tremaining: 459ms\n",
      "532:\tlearn: 0.1239109\ttotal: 524ms\tremaining: 459ms\n",
      "533:\tlearn: 0.1236847\ttotal: 525ms\tremaining: 458ms\n",
      "534:\tlearn: 0.1233794\ttotal: 525ms\tremaining: 457ms\n",
      "535:\tlearn: 0.1230331\ttotal: 526ms\tremaining: 456ms\n",
      "536:\tlearn: 0.1227754\ttotal: 527ms\tremaining: 455ms\n",
      "537:\tlearn: 0.1226147\ttotal: 528ms\tremaining: 453ms\n",
      "538:\tlearn: 0.1224864\ttotal: 529ms\tremaining: 452ms\n",
      "539:\tlearn: 0.1224190\ttotal: 529ms\tremaining: 451ms\n",
      "540:\tlearn: 0.1220124\ttotal: 530ms\tremaining: 450ms\n",
      "541:\tlearn: 0.1217090\ttotal: 531ms\tremaining: 449ms\n",
      "542:\tlearn: 0.1214185\ttotal: 532ms\tremaining: 448ms\n",
      "543:\tlearn: 0.1212987\ttotal: 533ms\tremaining: 446ms\n",
      "544:\tlearn: 0.1209091\ttotal: 533ms\tremaining: 445ms\n",
      "545:\tlearn: 0.1206620\ttotal: 534ms\tremaining: 444ms\n",
      "546:\tlearn: 0.1204649\ttotal: 535ms\tremaining: 443ms\n",
      "547:\tlearn: 0.1202256\ttotal: 536ms\tremaining: 442ms\n",
      "548:\tlearn: 0.1198996\ttotal: 537ms\tremaining: 441ms\n",
      "549:\tlearn: 0.1195471\ttotal: 537ms\tremaining: 440ms\n",
      "550:\tlearn: 0.1192514\ttotal: 538ms\tremaining: 439ms\n",
      "551:\tlearn: 0.1190711\ttotal: 539ms\tremaining: 437ms\n",
      "552:\tlearn: 0.1189532\ttotal: 540ms\tremaining: 436ms\n",
      "553:\tlearn: 0.1186819\ttotal: 540ms\tremaining: 435ms\n",
      "554:\tlearn: 0.1184711\ttotal: 541ms\tremaining: 434ms\n",
      "555:\tlearn: 0.1183705\ttotal: 542ms\tremaining: 433ms\n",
      "556:\tlearn: 0.1183453\ttotal: 543ms\tremaining: 432ms\n",
      "557:\tlearn: 0.1181874\ttotal: 544ms\tremaining: 431ms\n",
      "558:\tlearn: 0.1179650\ttotal: 544ms\tremaining: 430ms\n",
      "559:\tlearn: 0.1177838\ttotal: 545ms\tremaining: 428ms\n",
      "560:\tlearn: 0.1176171\ttotal: 546ms\tremaining: 427ms\n",
      "561:\tlearn: 0.1174081\ttotal: 547ms\tremaining: 426ms\n",
      "562:\tlearn: 0.1172065\ttotal: 548ms\tremaining: 425ms\n",
      "563:\tlearn: 0.1170548\ttotal: 549ms\tremaining: 424ms\n",
      "564:\tlearn: 0.1167502\ttotal: 549ms\tremaining: 423ms\n",
      "565:\tlearn: 0.1165834\ttotal: 550ms\tremaining: 422ms\n",
      "566:\tlearn: 0.1164121\ttotal: 551ms\tremaining: 421ms\n",
      "567:\tlearn: 0.1162157\ttotal: 552ms\tremaining: 420ms\n",
      "568:\tlearn: 0.1160628\ttotal: 552ms\tremaining: 418ms\n",
      "569:\tlearn: 0.1158938\ttotal: 553ms\tremaining: 417ms\n",
      "570:\tlearn: 0.1157278\ttotal: 554ms\tremaining: 416ms\n",
      "571:\tlearn: 0.1154823\ttotal: 555ms\tremaining: 415ms\n",
      "572:\tlearn: 0.1153117\ttotal: 556ms\tremaining: 414ms\n",
      "573:\tlearn: 0.1151393\ttotal: 556ms\tremaining: 413ms\n",
      "574:\tlearn: 0.1148673\ttotal: 557ms\tremaining: 412ms\n",
      "575:\tlearn: 0.1147287\ttotal: 558ms\tremaining: 411ms\n",
      "576:\tlearn: 0.1146078\ttotal: 559ms\tremaining: 410ms\n",
      "577:\tlearn: 0.1142933\ttotal: 560ms\tremaining: 409ms\n",
      "578:\tlearn: 0.1140255\ttotal: 561ms\tremaining: 408ms\n",
      "579:\tlearn: 0.1138006\ttotal: 561ms\tremaining: 407ms\n",
      "580:\tlearn: 0.1135427\ttotal: 562ms\tremaining: 406ms\n",
      "581:\tlearn: 0.1133497\ttotal: 563ms\tremaining: 404ms\n",
      "582:\tlearn: 0.1130670\ttotal: 564ms\tremaining: 403ms\n",
      "583:\tlearn: 0.1130462\ttotal: 565ms\tremaining: 402ms\n",
      "584:\tlearn: 0.1128139\ttotal: 566ms\tremaining: 401ms\n",
      "585:\tlearn: 0.1125861\ttotal: 566ms\tremaining: 400ms\n",
      "586:\tlearn: 0.1123506\ttotal: 567ms\tremaining: 399ms\n",
      "587:\tlearn: 0.1122613\ttotal: 568ms\tremaining: 398ms\n",
      "588:\tlearn: 0.1120581\ttotal: 569ms\tremaining: 397ms\n",
      "589:\tlearn: 0.1119393\ttotal: 570ms\tremaining: 396ms\n",
      "590:\tlearn: 0.1117187\ttotal: 570ms\tremaining: 395ms\n",
      "591:\tlearn: 0.1116501\ttotal: 571ms\tremaining: 394ms\n",
      "592:\tlearn: 0.1115035\ttotal: 572ms\tremaining: 393ms\n",
      "593:\tlearn: 0.1113263\ttotal: 573ms\tremaining: 392ms\n"
     ]
    },
    {
     "name": "stdout",
     "output_type": "stream",
     "text": [
      "594:\tlearn: 0.1112275\ttotal: 574ms\tremaining: 391ms\n",
      "595:\tlearn: 0.1110113\ttotal: 575ms\tremaining: 390ms\n",
      "596:\tlearn: 0.1107949\ttotal: 576ms\tremaining: 389ms\n",
      "597:\tlearn: 0.1106400\ttotal: 577ms\tremaining: 388ms\n",
      "598:\tlearn: 0.1103574\ttotal: 577ms\tremaining: 386ms\n",
      "599:\tlearn: 0.1102266\ttotal: 578ms\tremaining: 385ms\n",
      "600:\tlearn: 0.1100021\ttotal: 579ms\tremaining: 384ms\n",
      "601:\tlearn: 0.1098587\ttotal: 580ms\tremaining: 383ms\n",
      "602:\tlearn: 0.1096979\ttotal: 581ms\tremaining: 382ms\n",
      "603:\tlearn: 0.1094125\ttotal: 581ms\tremaining: 381ms\n",
      "604:\tlearn: 0.1091603\ttotal: 582ms\tremaining: 380ms\n",
      "605:\tlearn: 0.1090305\ttotal: 583ms\tremaining: 379ms\n",
      "606:\tlearn: 0.1088443\ttotal: 584ms\tremaining: 378ms\n",
      "607:\tlearn: 0.1087364\ttotal: 585ms\tremaining: 377ms\n",
      "608:\tlearn: 0.1086031\ttotal: 585ms\tremaining: 376ms\n",
      "609:\tlearn: 0.1084723\ttotal: 586ms\tremaining: 375ms\n",
      "610:\tlearn: 0.1081415\ttotal: 587ms\tremaining: 374ms\n",
      "611:\tlearn: 0.1079779\ttotal: 588ms\tremaining: 373ms\n",
      "612:\tlearn: 0.1077315\ttotal: 589ms\tremaining: 372ms\n",
      "613:\tlearn: 0.1075012\ttotal: 589ms\tremaining: 371ms\n",
      "614:\tlearn: 0.1073620\ttotal: 590ms\tremaining: 369ms\n",
      "615:\tlearn: 0.1071252\ttotal: 591ms\tremaining: 368ms\n",
      "616:\tlearn: 0.1068889\ttotal: 592ms\tremaining: 367ms\n",
      "617:\tlearn: 0.1067723\ttotal: 593ms\tremaining: 366ms\n",
      "618:\tlearn: 0.1065151\ttotal: 593ms\tremaining: 365ms\n",
      "619:\tlearn: 0.1063592\ttotal: 594ms\tremaining: 364ms\n",
      "620:\tlearn: 0.1061545\ttotal: 595ms\tremaining: 363ms\n",
      "621:\tlearn: 0.1059995\ttotal: 596ms\tremaining: 362ms\n",
      "622:\tlearn: 0.1059088\ttotal: 597ms\tremaining: 361ms\n",
      "623:\tlearn: 0.1056961\ttotal: 597ms\tremaining: 360ms\n",
      "624:\tlearn: 0.1055071\ttotal: 598ms\tremaining: 359ms\n",
      "625:\tlearn: 0.1052751\ttotal: 599ms\tremaining: 358ms\n",
      "626:\tlearn: 0.1051287\ttotal: 600ms\tremaining: 357ms\n",
      "627:\tlearn: 0.1048837\ttotal: 601ms\tremaining: 356ms\n",
      "628:\tlearn: 0.1045988\ttotal: 601ms\tremaining: 355ms\n",
      "629:\tlearn: 0.1045418\ttotal: 602ms\tremaining: 354ms\n",
      "630:\tlearn: 0.1043076\ttotal: 603ms\tremaining: 353ms\n",
      "631:\tlearn: 0.1041229\ttotal: 604ms\tremaining: 352ms\n",
      "632:\tlearn: 0.1039567\ttotal: 605ms\tremaining: 351ms\n",
      "633:\tlearn: 0.1038187\ttotal: 606ms\tremaining: 350ms\n",
      "634:\tlearn: 0.1037221\ttotal: 606ms\tremaining: 349ms\n",
      "635:\tlearn: 0.1035795\ttotal: 607ms\tremaining: 348ms\n",
      "636:\tlearn: 0.1034744\ttotal: 608ms\tremaining: 347ms\n",
      "637:\tlearn: 0.1034635\ttotal: 609ms\tremaining: 346ms\n",
      "638:\tlearn: 0.1031523\ttotal: 610ms\tremaining: 345ms\n",
      "639:\tlearn: 0.1030018\ttotal: 611ms\tremaining: 343ms\n",
      "640:\tlearn: 0.1027460\ttotal: 611ms\tremaining: 342ms\n",
      "641:\tlearn: 0.1027158\ttotal: 612ms\tremaining: 341ms\n",
      "642:\tlearn: 0.1026119\ttotal: 613ms\tremaining: 340ms\n",
      "643:\tlearn: 0.1024273\ttotal: 614ms\tremaining: 339ms\n",
      "644:\tlearn: 0.1023094\ttotal: 615ms\tremaining: 338ms\n",
      "645:\tlearn: 0.1019900\ttotal: 615ms\tremaining: 337ms\n",
      "646:\tlearn: 0.1017983\ttotal: 616ms\tremaining: 336ms\n",
      "647:\tlearn: 0.1017112\ttotal: 617ms\tremaining: 335ms\n",
      "648:\tlearn: 0.1014775\ttotal: 618ms\tremaining: 334ms\n",
      "649:\tlearn: 0.1012787\ttotal: 618ms\tremaining: 333ms\n",
      "650:\tlearn: 0.1011630\ttotal: 619ms\tremaining: 332ms\n",
      "651:\tlearn: 0.1010304\ttotal: 620ms\tremaining: 331ms\n",
      "652:\tlearn: 0.1008785\ttotal: 621ms\tremaining: 330ms\n",
      "653:\tlearn: 0.1007457\ttotal: 622ms\tremaining: 329ms\n",
      "654:\tlearn: 0.1005265\ttotal: 623ms\tremaining: 328ms\n",
      "655:\tlearn: 0.1005117\ttotal: 623ms\tremaining: 327ms\n",
      "656:\tlearn: 0.1003410\ttotal: 624ms\tremaining: 326ms\n",
      "657:\tlearn: 0.1000247\ttotal: 625ms\tremaining: 325ms\n",
      "658:\tlearn: 0.0998760\ttotal: 626ms\tremaining: 324ms\n",
      "659:\tlearn: 0.0996790\ttotal: 626ms\tremaining: 323ms\n",
      "660:\tlearn: 0.0994810\ttotal: 627ms\tremaining: 322ms\n",
      "661:\tlearn: 0.0993998\ttotal: 628ms\tremaining: 321ms\n",
      "662:\tlearn: 0.0991701\ttotal: 629ms\tremaining: 320ms\n",
      "663:\tlearn: 0.0989416\ttotal: 630ms\tremaining: 319ms\n",
      "664:\tlearn: 0.0988416\ttotal: 630ms\tremaining: 318ms\n",
      "665:\tlearn: 0.0987968\ttotal: 631ms\tremaining: 317ms\n",
      "666:\tlearn: 0.0987518\ttotal: 632ms\tremaining: 316ms\n",
      "667:\tlearn: 0.0985394\ttotal: 633ms\tremaining: 315ms\n",
      "668:\tlearn: 0.0984799\ttotal: 634ms\tremaining: 313ms\n",
      "669:\tlearn: 0.0983963\ttotal: 634ms\tremaining: 312ms\n",
      "670:\tlearn: 0.0982222\ttotal: 635ms\tremaining: 311ms\n",
      "671:\tlearn: 0.0980432\ttotal: 636ms\tremaining: 311ms\n",
      "672:\tlearn: 0.0978466\ttotal: 637ms\tremaining: 309ms\n",
      "673:\tlearn: 0.0976463\ttotal: 638ms\tremaining: 308ms\n",
      "674:\tlearn: 0.0975124\ttotal: 638ms\tremaining: 307ms\n",
      "675:\tlearn: 0.0973790\ttotal: 639ms\tremaining: 306ms\n",
      "676:\tlearn: 0.0972904\ttotal: 640ms\tremaining: 305ms\n",
      "677:\tlearn: 0.0971371\ttotal: 641ms\tremaining: 304ms\n",
      "678:\tlearn: 0.0969999\ttotal: 642ms\tremaining: 304ms\n",
      "679:\tlearn: 0.0967398\ttotal: 643ms\tremaining: 303ms\n",
      "680:\tlearn: 0.0964447\ttotal: 644ms\tremaining: 302ms\n",
      "681:\tlearn: 0.0963002\ttotal: 645ms\tremaining: 301ms\n",
      "682:\tlearn: 0.0961049\ttotal: 646ms\tremaining: 300ms\n",
      "683:\tlearn: 0.0960210\ttotal: 646ms\tremaining: 299ms\n",
      "684:\tlearn: 0.0958588\ttotal: 647ms\tremaining: 298ms\n",
      "685:\tlearn: 0.0957296\ttotal: 648ms\tremaining: 297ms\n",
      "686:\tlearn: 0.0956409\ttotal: 649ms\tremaining: 296ms\n",
      "687:\tlearn: 0.0954568\ttotal: 650ms\tremaining: 295ms\n",
      "688:\tlearn: 0.0953772\ttotal: 650ms\tremaining: 294ms\n",
      "689:\tlearn: 0.0952626\ttotal: 651ms\tremaining: 293ms\n",
      "690:\tlearn: 0.0951484\ttotal: 652ms\tremaining: 292ms\n",
      "691:\tlearn: 0.0949646\ttotal: 653ms\tremaining: 291ms\n",
      "692:\tlearn: 0.0948731\ttotal: 654ms\tremaining: 290ms\n",
      "693:\tlearn: 0.0948150\ttotal: 654ms\tremaining: 289ms\n",
      "694:\tlearn: 0.0947583\ttotal: 655ms\tremaining: 288ms\n",
      "695:\tlearn: 0.0945963\ttotal: 656ms\tremaining: 287ms\n",
      "696:\tlearn: 0.0944678\ttotal: 657ms\tremaining: 286ms\n",
      "697:\tlearn: 0.0943366\ttotal: 658ms\tremaining: 285ms\n",
      "698:\tlearn: 0.0940717\ttotal: 659ms\tremaining: 284ms\n",
      "699:\tlearn: 0.0939651\ttotal: 659ms\tremaining: 283ms\n",
      "700:\tlearn: 0.0939287\ttotal: 660ms\tremaining: 282ms\n",
      "701:\tlearn: 0.0937769\ttotal: 661ms\tremaining: 281ms\n",
      "702:\tlearn: 0.0936264\ttotal: 662ms\tremaining: 280ms\n",
      "703:\tlearn: 0.0934780\ttotal: 663ms\tremaining: 279ms\n",
      "704:\tlearn: 0.0933339\ttotal: 663ms\tremaining: 278ms\n",
      "705:\tlearn: 0.0931911\ttotal: 664ms\tremaining: 277ms\n",
      "706:\tlearn: 0.0930070\ttotal: 665ms\tremaining: 276ms\n",
      "707:\tlearn: 0.0929154\ttotal: 666ms\tremaining: 274ms\n",
      "708:\tlearn: 0.0926871\ttotal: 666ms\tremaining: 273ms\n",
      "709:\tlearn: 0.0925724\ttotal: 667ms\tremaining: 273ms\n",
      "710:\tlearn: 0.0924368\ttotal: 668ms\tremaining: 272ms\n",
      "711:\tlearn: 0.0923326\ttotal: 669ms\tremaining: 270ms\n",
      "712:\tlearn: 0.0921689\ttotal: 669ms\tremaining: 269ms\n",
      "713:\tlearn: 0.0920931\ttotal: 670ms\tremaining: 269ms\n",
      "714:\tlearn: 0.0919208\ttotal: 671ms\tremaining: 268ms\n",
      "715:\tlearn: 0.0918772\ttotal: 672ms\tremaining: 267ms\n",
      "716:\tlearn: 0.0917436\ttotal: 673ms\tremaining: 266ms\n",
      "717:\tlearn: 0.0916534\ttotal: 674ms\tremaining: 265ms\n",
      "718:\tlearn: 0.0914927\ttotal: 674ms\tremaining: 264ms\n",
      "719:\tlearn: 0.0914708\ttotal: 675ms\tremaining: 263ms\n",
      "720:\tlearn: 0.0913174\ttotal: 676ms\tremaining: 262ms\n",
      "721:\tlearn: 0.0911473\ttotal: 677ms\tremaining: 261ms\n",
      "722:\tlearn: 0.0909399\ttotal: 678ms\tremaining: 260ms\n",
      "723:\tlearn: 0.0908461\ttotal: 679ms\tremaining: 259ms\n",
      "724:\tlearn: 0.0906555\ttotal: 679ms\tremaining: 258ms\n",
      "725:\tlearn: 0.0903705\ttotal: 680ms\tremaining: 257ms\n",
      "726:\tlearn: 0.0902587\ttotal: 681ms\tremaining: 256ms\n"
     ]
    },
    {
     "name": "stdout",
     "output_type": "stream",
     "text": [
      "727:\tlearn: 0.0900378\ttotal: 682ms\tremaining: 255ms\n",
      "728:\tlearn: 0.0899612\ttotal: 683ms\tremaining: 254ms\n",
      "729:\tlearn: 0.0898773\ttotal: 683ms\tremaining: 253ms\n",
      "730:\tlearn: 0.0897598\ttotal: 684ms\tremaining: 252ms\n",
      "731:\tlearn: 0.0897046\ttotal: 685ms\tremaining: 251ms\n",
      "732:\tlearn: 0.0895933\ttotal: 686ms\tremaining: 250ms\n",
      "733:\tlearn: 0.0895222\ttotal: 687ms\tremaining: 249ms\n",
      "734:\tlearn: 0.0894866\ttotal: 688ms\tremaining: 248ms\n",
      "735:\tlearn: 0.0893968\ttotal: 688ms\tremaining: 247ms\n",
      "736:\tlearn: 0.0893221\ttotal: 689ms\tremaining: 246ms\n",
      "737:\tlearn: 0.0892285\ttotal: 690ms\tremaining: 245ms\n",
      "738:\tlearn: 0.0890387\ttotal: 691ms\tremaining: 244ms\n",
      "739:\tlearn: 0.0889339\ttotal: 691ms\tremaining: 243ms\n",
      "740:\tlearn: 0.0888316\ttotal: 692ms\tremaining: 242ms\n",
      "741:\tlearn: 0.0886804\ttotal: 693ms\tremaining: 241ms\n",
      "742:\tlearn: 0.0885967\ttotal: 694ms\tremaining: 240ms\n",
      "743:\tlearn: 0.0884310\ttotal: 695ms\tremaining: 239ms\n",
      "744:\tlearn: 0.0882692\ttotal: 695ms\tremaining: 238ms\n",
      "745:\tlearn: 0.0880671\ttotal: 696ms\tremaining: 237ms\n",
      "746:\tlearn: 0.0880079\ttotal: 697ms\tremaining: 236ms\n",
      "747:\tlearn: 0.0878401\ttotal: 698ms\tremaining: 235ms\n",
      "748:\tlearn: 0.0877338\ttotal: 699ms\tremaining: 234ms\n",
      "749:\tlearn: 0.0876356\ttotal: 699ms\tremaining: 233ms\n",
      "750:\tlearn: 0.0876236\ttotal: 700ms\tremaining: 232ms\n",
      "751:\tlearn: 0.0876037\ttotal: 701ms\tremaining: 231ms\n",
      "752:\tlearn: 0.0875436\ttotal: 702ms\tremaining: 230ms\n",
      "753:\tlearn: 0.0874085\ttotal: 702ms\tremaining: 229ms\n",
      "754:\tlearn: 0.0873145\ttotal: 703ms\tremaining: 228ms\n",
      "755:\tlearn: 0.0872024\ttotal: 704ms\tremaining: 227ms\n",
      "756:\tlearn: 0.0870610\ttotal: 705ms\tremaining: 226ms\n",
      "757:\tlearn: 0.0870164\ttotal: 706ms\tremaining: 225ms\n",
      "758:\tlearn: 0.0870051\ttotal: 706ms\tremaining: 224ms\n",
      "759:\tlearn: 0.0868938\ttotal: 707ms\tremaining: 223ms\n",
      "760:\tlearn: 0.0867784\ttotal: 708ms\tremaining: 222ms\n",
      "761:\tlearn: 0.0866414\ttotal: 709ms\tremaining: 221ms\n",
      "762:\tlearn: 0.0865313\ttotal: 710ms\tremaining: 220ms\n",
      "763:\tlearn: 0.0864802\ttotal: 710ms\tremaining: 219ms\n",
      "764:\tlearn: 0.0862912\ttotal: 711ms\tremaining: 218ms\n",
      "765:\tlearn: 0.0861891\ttotal: 712ms\tremaining: 217ms\n",
      "766:\tlearn: 0.0860712\ttotal: 713ms\tremaining: 216ms\n",
      "767:\tlearn: 0.0859866\ttotal: 713ms\tremaining: 216ms\n",
      "768:\tlearn: 0.0859442\ttotal: 715ms\tremaining: 215ms\n",
      "769:\tlearn: 0.0857558\ttotal: 716ms\tremaining: 214ms\n",
      "770:\tlearn: 0.0856427\ttotal: 717ms\tremaining: 213ms\n",
      "771:\tlearn: 0.0855380\ttotal: 718ms\tremaining: 212ms\n",
      "772:\tlearn: 0.0854206\ttotal: 719ms\tremaining: 211ms\n",
      "773:\tlearn: 0.0852197\ttotal: 720ms\tremaining: 210ms\n",
      "774:\tlearn: 0.0851286\ttotal: 720ms\tremaining: 209ms\n",
      "775:\tlearn: 0.0850279\ttotal: 721ms\tremaining: 208ms\n",
      "776:\tlearn: 0.0848576\ttotal: 722ms\tremaining: 207ms\n",
      "777:\tlearn: 0.0847744\ttotal: 723ms\tremaining: 206ms\n",
      "778:\tlearn: 0.0846984\ttotal: 724ms\tremaining: 205ms\n",
      "779:\tlearn: 0.0845901\ttotal: 724ms\tremaining: 204ms\n",
      "780:\tlearn: 0.0845481\ttotal: 725ms\tremaining: 203ms\n",
      "781:\tlearn: 0.0845087\ttotal: 726ms\tremaining: 202ms\n",
      "782:\tlearn: 0.0844178\ttotal: 727ms\tremaining: 201ms\n",
      "783:\tlearn: 0.0842540\ttotal: 728ms\tremaining: 200ms\n",
      "784:\tlearn: 0.0841699\ttotal: 729ms\tremaining: 200ms\n",
      "785:\tlearn: 0.0840271\ttotal: 729ms\tremaining: 199ms\n",
      "786:\tlearn: 0.0839421\ttotal: 730ms\tremaining: 198ms\n",
      "787:\tlearn: 0.0838029\ttotal: 731ms\tremaining: 197ms\n",
      "788:\tlearn: 0.0836676\ttotal: 732ms\tremaining: 196ms\n",
      "789:\tlearn: 0.0835092\ttotal: 733ms\tremaining: 195ms\n",
      "790:\tlearn: 0.0833819\ttotal: 734ms\tremaining: 194ms\n",
      "791:\tlearn: 0.0831657\ttotal: 734ms\tremaining: 193ms\n",
      "792:\tlearn: 0.0830834\ttotal: 735ms\tremaining: 192ms\n",
      "793:\tlearn: 0.0830217\ttotal: 736ms\tremaining: 191ms\n",
      "794:\tlearn: 0.0829167\ttotal: 737ms\tremaining: 190ms\n",
      "795:\tlearn: 0.0829032\ttotal: 738ms\tremaining: 189ms\n",
      "796:\tlearn: 0.0826791\ttotal: 739ms\tremaining: 188ms\n",
      "797:\tlearn: 0.0825189\ttotal: 740ms\tremaining: 187ms\n",
      "798:\tlearn: 0.0823963\ttotal: 740ms\tremaining: 186ms\n",
      "799:\tlearn: 0.0822374\ttotal: 741ms\tremaining: 185ms\n",
      "800:\tlearn: 0.0821265\ttotal: 742ms\tremaining: 184ms\n",
      "801:\tlearn: 0.0819921\ttotal: 743ms\tremaining: 183ms\n",
      "802:\tlearn: 0.0818022\ttotal: 744ms\tremaining: 182ms\n",
      "803:\tlearn: 0.0817091\ttotal: 745ms\tremaining: 182ms\n",
      "804:\tlearn: 0.0816619\ttotal: 745ms\tremaining: 181ms\n",
      "805:\tlearn: 0.0814897\ttotal: 746ms\tremaining: 180ms\n",
      "806:\tlearn: 0.0813792\ttotal: 747ms\tremaining: 179ms\n",
      "807:\tlearn: 0.0812111\ttotal: 748ms\tremaining: 178ms\n",
      "808:\tlearn: 0.0811106\ttotal: 749ms\tremaining: 177ms\n",
      "809:\tlearn: 0.0810967\ttotal: 750ms\tremaining: 176ms\n",
      "810:\tlearn: 0.0809726\ttotal: 751ms\tremaining: 175ms\n",
      "811:\tlearn: 0.0807859\ttotal: 751ms\tremaining: 174ms\n",
      "812:\tlearn: 0.0805727\ttotal: 752ms\tremaining: 173ms\n",
      "813:\tlearn: 0.0804217\ttotal: 753ms\tremaining: 172ms\n",
      "814:\tlearn: 0.0803385\ttotal: 754ms\tremaining: 171ms\n",
      "815:\tlearn: 0.0802038\ttotal: 755ms\tremaining: 170ms\n",
      "816:\tlearn: 0.0801041\ttotal: 756ms\tremaining: 169ms\n",
      "817:\tlearn: 0.0799218\ttotal: 756ms\tremaining: 168ms\n",
      "818:\tlearn: 0.0797414\ttotal: 757ms\tremaining: 167ms\n",
      "819:\tlearn: 0.0796689\ttotal: 758ms\tremaining: 166ms\n",
      "820:\tlearn: 0.0795089\ttotal: 759ms\tremaining: 165ms\n",
      "821:\tlearn: 0.0793985\ttotal: 759ms\tremaining: 164ms\n",
      "822:\tlearn: 0.0792706\ttotal: 760ms\tremaining: 164ms\n",
      "823:\tlearn: 0.0792170\ttotal: 761ms\tremaining: 163ms\n",
      "824:\tlearn: 0.0790799\ttotal: 762ms\tremaining: 162ms\n",
      "825:\tlearn: 0.0789846\ttotal: 763ms\tremaining: 161ms\n",
      "826:\tlearn: 0.0788713\ttotal: 764ms\tremaining: 160ms\n"
     ]
    },
    {
     "name": "stdout",
     "output_type": "stream",
     "text": [
      "827:\tlearn: 0.0787433\ttotal: 765ms\tremaining: 159ms\n",
      "828:\tlearn: 0.0786387\ttotal: 766ms\tremaining: 158ms\n",
      "829:\tlearn: 0.0785862\ttotal: 767ms\tremaining: 157ms\n",
      "830:\tlearn: 0.0784270\ttotal: 767ms\tremaining: 156ms\n",
      "831:\tlearn: 0.0783239\ttotal: 768ms\tremaining: 155ms\n",
      "832:\tlearn: 0.0783125\ttotal: 769ms\tremaining: 154ms\n",
      "833:\tlearn: 0.0781981\ttotal: 770ms\tremaining: 153ms\n",
      "834:\tlearn: 0.0780054\ttotal: 771ms\tremaining: 152ms\n",
      "835:\tlearn: 0.0779950\ttotal: 772ms\tremaining: 151ms\n",
      "836:\tlearn: 0.0779203\ttotal: 772ms\tremaining: 150ms\n",
      "837:\tlearn: 0.0777778\ttotal: 773ms\tremaining: 149ms\n",
      "838:\tlearn: 0.0777102\ttotal: 774ms\tremaining: 149ms\n",
      "839:\tlearn: 0.0775940\ttotal: 775ms\tremaining: 148ms\n",
      "840:\tlearn: 0.0774584\ttotal: 776ms\tremaining: 147ms\n",
      "841:\tlearn: 0.0773962\ttotal: 776ms\tremaining: 146ms\n",
      "842:\tlearn: 0.0772243\ttotal: 777ms\tremaining: 145ms\n",
      "843:\tlearn: 0.0771115\ttotal: 778ms\tremaining: 144ms\n",
      "844:\tlearn: 0.0770070\ttotal: 779ms\tremaining: 143ms\n",
      "845:\tlearn: 0.0769165\ttotal: 780ms\tremaining: 142ms\n",
      "846:\tlearn: 0.0769070\ttotal: 780ms\tremaining: 141ms\n",
      "847:\tlearn: 0.0768288\ttotal: 781ms\tremaining: 140ms\n",
      "848:\tlearn: 0.0767975\ttotal: 782ms\tremaining: 139ms\n",
      "849:\tlearn: 0.0767070\ttotal: 783ms\tremaining: 138ms\n",
      "850:\tlearn: 0.0766463\ttotal: 784ms\tremaining: 137ms\n",
      "851:\tlearn: 0.0765096\ttotal: 784ms\tremaining: 136ms\n",
      "852:\tlearn: 0.0764314\ttotal: 785ms\tremaining: 135ms\n",
      "853:\tlearn: 0.0763211\ttotal: 786ms\tremaining: 134ms\n",
      "854:\tlearn: 0.0762236\ttotal: 787ms\tremaining: 133ms\n",
      "855:\tlearn: 0.0761888\ttotal: 787ms\tremaining: 132ms\n",
      "856:\tlearn: 0.0761646\ttotal: 788ms\tremaining: 132ms\n",
      "857:\tlearn: 0.0760738\ttotal: 789ms\tremaining: 131ms\n",
      "858:\tlearn: 0.0759666\ttotal: 790ms\tremaining: 130ms\n",
      "859:\tlearn: 0.0758756\ttotal: 791ms\tremaining: 129ms\n",
      "860:\tlearn: 0.0758367\ttotal: 792ms\tremaining: 128ms\n",
      "861:\tlearn: 0.0757648\ttotal: 792ms\tremaining: 127ms\n",
      "862:\tlearn: 0.0756633\ttotal: 793ms\tremaining: 126ms\n",
      "863:\tlearn: 0.0755352\ttotal: 794ms\tremaining: 125ms\n",
      "864:\tlearn: 0.0754033\ttotal: 795ms\tremaining: 124ms\n",
      "865:\tlearn: 0.0752975\ttotal: 796ms\tremaining: 123ms\n",
      "866:\tlearn: 0.0751247\ttotal: 796ms\tremaining: 122ms\n",
      "867:\tlearn: 0.0749474\ttotal: 797ms\tremaining: 121ms\n",
      "868:\tlearn: 0.0748023\ttotal: 798ms\tremaining: 120ms\n",
      "869:\tlearn: 0.0746853\ttotal: 799ms\tremaining: 119ms\n",
      "870:\tlearn: 0.0745703\ttotal: 800ms\tremaining: 118ms\n",
      "871:\tlearn: 0.0744890\ttotal: 801ms\tremaining: 118ms\n",
      "872:\tlearn: 0.0743656\ttotal: 802ms\tremaining: 117ms\n",
      "873:\tlearn: 0.0742917\ttotal: 803ms\tremaining: 116ms\n",
      "874:\tlearn: 0.0742241\ttotal: 804ms\tremaining: 115ms\n",
      "875:\tlearn: 0.0741908\ttotal: 805ms\tremaining: 114ms\n",
      "876:\tlearn: 0.0740815\ttotal: 806ms\tremaining: 113ms\n",
      "877:\tlearn: 0.0739811\ttotal: 806ms\tremaining: 112ms\n",
      "878:\tlearn: 0.0738638\ttotal: 807ms\tremaining: 111ms\n",
      "879:\tlearn: 0.0738162\ttotal: 808ms\tremaining: 110ms\n",
      "880:\tlearn: 0.0737299\ttotal: 809ms\tremaining: 109ms\n",
      "881:\tlearn: 0.0735504\ttotal: 810ms\tremaining: 108ms\n",
      "882:\tlearn: 0.0734762\ttotal: 810ms\tremaining: 107ms\n",
      "883:\tlearn: 0.0733243\ttotal: 811ms\tremaining: 106ms\n",
      "884:\tlearn: 0.0732617\ttotal: 812ms\tremaining: 106ms\n",
      "885:\tlearn: 0.0731353\ttotal: 813ms\tremaining: 105ms\n",
      "886:\tlearn: 0.0729896\ttotal: 814ms\tremaining: 104ms\n",
      "887:\tlearn: 0.0729197\ttotal: 814ms\tremaining: 103ms\n",
      "888:\tlearn: 0.0727866\ttotal: 815ms\tremaining: 102ms\n",
      "889:\tlearn: 0.0725975\ttotal: 816ms\tremaining: 101ms\n",
      "890:\tlearn: 0.0725253\ttotal: 817ms\tremaining: 99.9ms\n",
      "891:\tlearn: 0.0724307\ttotal: 818ms\tremaining: 99ms\n",
      "892:\tlearn: 0.0723225\ttotal: 819ms\tremaining: 98.2ms\n",
      "893:\tlearn: 0.0721802\ttotal: 820ms\tremaining: 97.2ms\n",
      "894:\tlearn: 0.0720636\ttotal: 821ms\tremaining: 96.3ms\n",
      "895:\tlearn: 0.0720256\ttotal: 822ms\tremaining: 95.4ms\n",
      "896:\tlearn: 0.0718697\ttotal: 823ms\tremaining: 94.5ms\n",
      "897:\tlearn: 0.0718540\ttotal: 823ms\tremaining: 93.5ms\n",
      "898:\tlearn: 0.0717670\ttotal: 824ms\tremaining: 92.6ms\n",
      "899:\tlearn: 0.0717098\ttotal: 825ms\tremaining: 91.7ms\n",
      "900:\tlearn: 0.0715840\ttotal: 826ms\tremaining: 90.8ms\n",
      "901:\tlearn: 0.0714571\ttotal: 827ms\tremaining: 89.8ms\n",
      "902:\tlearn: 0.0713795\ttotal: 828ms\tremaining: 88.9ms\n",
      "903:\tlearn: 0.0712861\ttotal: 829ms\tremaining: 88ms\n",
      "904:\tlearn: 0.0712776\ttotal: 829ms\tremaining: 87.1ms\n",
      "905:\tlearn: 0.0711626\ttotal: 830ms\tremaining: 86.1ms\n",
      "906:\tlearn: 0.0710705\ttotal: 831ms\tremaining: 85.2ms\n",
      "907:\tlearn: 0.0710626\ttotal: 832ms\tremaining: 84.3ms\n",
      "908:\tlearn: 0.0709754\ttotal: 833ms\tremaining: 83.3ms\n",
      "909:\tlearn: 0.0709682\ttotal: 833ms\tremaining: 82.4ms\n",
      "910:\tlearn: 0.0708672\ttotal: 834ms\tremaining: 81.5ms\n",
      "911:\tlearn: 0.0707280\ttotal: 835ms\tremaining: 80.6ms\n",
      "912:\tlearn: 0.0706028\ttotal: 836ms\tremaining: 79.7ms\n",
      "913:\tlearn: 0.0704934\ttotal: 837ms\tremaining: 78.8ms\n",
      "914:\tlearn: 0.0703715\ttotal: 838ms\tremaining: 77.8ms\n",
      "915:\tlearn: 0.0702849\ttotal: 839ms\tremaining: 76.9ms\n",
      "916:\tlearn: 0.0701313\ttotal: 839ms\tremaining: 76ms\n",
      "917:\tlearn: 0.0699551\ttotal: 840ms\tremaining: 75.1ms\n",
      "918:\tlearn: 0.0698848\ttotal: 841ms\tremaining: 74.1ms\n",
      "919:\tlearn: 0.0697178\ttotal: 842ms\tremaining: 73.2ms\n",
      "920:\tlearn: 0.0695673\ttotal: 843ms\tremaining: 72.3ms\n",
      "921:\tlearn: 0.0694569\ttotal: 844ms\tremaining: 71.4ms\n",
      "922:\tlearn: 0.0693782\ttotal: 844ms\tremaining: 70.4ms\n",
      "923:\tlearn: 0.0692776\ttotal: 845ms\tremaining: 69.5ms\n",
      "924:\tlearn: 0.0691609\ttotal: 846ms\tremaining: 68.6ms\n",
      "925:\tlearn: 0.0690688\ttotal: 847ms\tremaining: 67.7ms\n",
      "926:\tlearn: 0.0689356\ttotal: 848ms\tremaining: 66.8ms\n",
      "927:\tlearn: 0.0688689\ttotal: 849ms\tremaining: 65.8ms\n",
      "928:\tlearn: 0.0687949\ttotal: 849ms\tremaining: 64.9ms\n",
      "929:\tlearn: 0.0686772\ttotal: 850ms\tremaining: 64ms\n",
      "930:\tlearn: 0.0685840\ttotal: 851ms\tremaining: 63.1ms\n",
      "931:\tlearn: 0.0684865\ttotal: 852ms\tremaining: 62.1ms\n",
      "932:\tlearn: 0.0683843\ttotal: 853ms\tremaining: 61.2ms\n",
      "933:\tlearn: 0.0682651\ttotal: 854ms\tremaining: 60.3ms\n",
      "934:\tlearn: 0.0682142\ttotal: 854ms\tremaining: 59.4ms\n",
      "935:\tlearn: 0.0680972\ttotal: 855ms\tremaining: 58.5ms\n",
      "936:\tlearn: 0.0680199\ttotal: 856ms\tremaining: 57.5ms\n",
      "937:\tlearn: 0.0679144\ttotal: 857ms\tremaining: 56.6ms\n",
      "938:\tlearn: 0.0677860\ttotal: 858ms\tremaining: 55.7ms\n",
      "939:\tlearn: 0.0677185\ttotal: 858ms\tremaining: 54.8ms\n",
      "940:\tlearn: 0.0676176\ttotal: 859ms\tremaining: 53.9ms\n",
      "941:\tlearn: 0.0675631\ttotal: 860ms\tremaining: 53ms\n",
      "942:\tlearn: 0.0674992\ttotal: 861ms\tremaining: 52ms\n",
      "943:\tlearn: 0.0674663\ttotal: 862ms\tremaining: 51.1ms\n",
      "944:\tlearn: 0.0674538\ttotal: 862ms\tremaining: 50.2ms\n",
      "945:\tlearn: 0.0673204\ttotal: 863ms\tremaining: 49.3ms\n",
      "946:\tlearn: 0.0671814\ttotal: 864ms\tremaining: 48.4ms\n",
      "947:\tlearn: 0.0670888\ttotal: 865ms\tremaining: 47.4ms\n",
      "948:\tlearn: 0.0669055\ttotal: 866ms\tremaining: 46.5ms\n",
      "949:\tlearn: 0.0668720\ttotal: 866ms\tremaining: 45.6ms\n",
      "950:\tlearn: 0.0668242\ttotal: 867ms\tremaining: 44.7ms\n",
      "951:\tlearn: 0.0667976\ttotal: 868ms\tremaining: 43.8ms\n",
      "952:\tlearn: 0.0667328\ttotal: 869ms\tremaining: 42.9ms\n",
      "953:\tlearn: 0.0666364\ttotal: 870ms\tremaining: 41.9ms\n",
      "954:\tlearn: 0.0665706\ttotal: 871ms\tremaining: 41ms\n",
      "955:\tlearn: 0.0665629\ttotal: 871ms\tremaining: 40.1ms\n"
     ]
    },
    {
     "name": "stdout",
     "output_type": "stream",
     "text": [
      "956:\tlearn: 0.0664951\ttotal: 872ms\tremaining: 39.2ms\n",
      "957:\tlearn: 0.0663786\ttotal: 873ms\tremaining: 38.3ms\n",
      "958:\tlearn: 0.0662965\ttotal: 874ms\tremaining: 37.4ms\n",
      "959:\tlearn: 0.0662217\ttotal: 875ms\tremaining: 36.5ms\n",
      "960:\tlearn: 0.0661266\ttotal: 876ms\tremaining: 35.5ms\n",
      "961:\tlearn: 0.0660757\ttotal: 876ms\tremaining: 34.6ms\n",
      "962:\tlearn: 0.0659684\ttotal: 877ms\tremaining: 33.7ms\n",
      "963:\tlearn: 0.0659061\ttotal: 878ms\tremaining: 32.8ms\n",
      "964:\tlearn: 0.0658187\ttotal: 879ms\tremaining: 31.9ms\n",
      "965:\tlearn: 0.0657683\ttotal: 880ms\tremaining: 31ms\n",
      "966:\tlearn: 0.0656252\ttotal: 881ms\tremaining: 30.1ms\n",
      "967:\tlearn: 0.0655350\ttotal: 882ms\tremaining: 29.1ms\n",
      "968:\tlearn: 0.0654766\ttotal: 882ms\tremaining: 28.2ms\n",
      "969:\tlearn: 0.0654540\ttotal: 883ms\tremaining: 27.3ms\n",
      "970:\tlearn: 0.0653471\ttotal: 884ms\tremaining: 26.4ms\n",
      "971:\tlearn: 0.0652740\ttotal: 885ms\tremaining: 25.5ms\n",
      "972:\tlearn: 0.0652070\ttotal: 886ms\tremaining: 24.6ms\n",
      "973:\tlearn: 0.0651160\ttotal: 886ms\tremaining: 23.7ms\n",
      "974:\tlearn: 0.0650270\ttotal: 887ms\tremaining: 22.7ms\n",
      "975:\tlearn: 0.0649163\ttotal: 888ms\tremaining: 21.8ms\n",
      "976:\tlearn: 0.0648310\ttotal: 889ms\tremaining: 20.9ms\n",
      "977:\tlearn: 0.0647436\ttotal: 889ms\tremaining: 20ms\n",
      "978:\tlearn: 0.0646875\ttotal: 890ms\tremaining: 19.1ms\n",
      "979:\tlearn: 0.0645698\ttotal: 891ms\tremaining: 18.2ms\n",
      "980:\tlearn: 0.0644328\ttotal: 892ms\tremaining: 17.3ms\n",
      "981:\tlearn: 0.0643721\ttotal: 893ms\tremaining: 16.4ms\n",
      "982:\tlearn: 0.0642180\ttotal: 894ms\tremaining: 15.5ms\n",
      "983:\tlearn: 0.0641031\ttotal: 895ms\tremaining: 14.5ms\n",
      "984:\tlearn: 0.0639665\ttotal: 896ms\tremaining: 13.6ms\n",
      "985:\tlearn: 0.0638922\ttotal: 896ms\tremaining: 12.7ms\n",
      "986:\tlearn: 0.0638316\ttotal: 897ms\tremaining: 11.8ms\n",
      "987:\tlearn: 0.0636874\ttotal: 898ms\tremaining: 10.9ms\n",
      "988:\tlearn: 0.0636076\ttotal: 899ms\tremaining: 10ms\n",
      "989:\tlearn: 0.0635461\ttotal: 900ms\tremaining: 9.09ms\n",
      "990:\tlearn: 0.0634355\ttotal: 900ms\tremaining: 8.18ms\n",
      "991:\tlearn: 0.0633623\ttotal: 901ms\tremaining: 7.27ms\n",
      "992:\tlearn: 0.0631862\ttotal: 902ms\tremaining: 6.36ms\n",
      "993:\tlearn: 0.0631621\ttotal: 903ms\tremaining: 5.45ms\n",
      "994:\tlearn: 0.0630840\ttotal: 904ms\tremaining: 4.54ms\n",
      "995:\tlearn: 0.0630262\ttotal: 904ms\tremaining: 3.63ms\n",
      "996:\tlearn: 0.0629237\ttotal: 905ms\tremaining: 2.72ms\n",
      "997:\tlearn: 0.0629061\ttotal: 906ms\tremaining: 1.81ms\n",
      "998:\tlearn: 0.0628412\ttotal: 907ms\tremaining: 907us\n",
      "999:\tlearn: 0.0628049\ttotal: 908ms\tremaining: 0us\n"
     ]
    },
    {
     "data": {
      "text/plain": [
       "<catboost.core.CatBoostRegressor at 0x7fbe93958d00>"
      ]
     },
     "execution_count": 9,
     "metadata": {},
     "output_type": "execute_result"
    }
   ],
   "source": [
    "#Train the Model \n",
    "prior_model = ctb.CatBoostRegressor()\n",
    "prior_model.fit(X_train,Y_train)"
   ]
  },
  {
   "cell_type": "code",
   "execution_count": 10,
   "id": "af65dcda",
   "metadata": {
    "execution": {
     "iopub.execute_input": "2022-03-11T11:00:31.478288Z",
     "iopub.status.busy": "2022-03-11T11:00:31.477895Z",
     "iopub.status.idle": "2022-03-11T11:00:31.485279Z",
     "shell.execute_reply": "2022-03-11T11:00:31.485531Z"
    },
    "id": "af65dcda",
    "papermill": {
     "duration": 0.020526,
     "end_time": "2022-03-11T11:00:31.485644",
     "exception": false,
     "start_time": "2022-03-11T11:00:31.465118",
     "status": "completed"
    },
    "tags": []
   },
   "outputs": [
    {
     "data": {
      "application/scrapbook.scrap.json+json": {
       "data": 0.11433052797764037,
       "encoder": "json",
       "name": "Prior Model MSE",
       "version": 1
      }
     },
     "metadata": {
      "scrapbook": {
       "data": true,
       "display": false,
       "name": "Prior Model MSE"
      }
     },
     "output_type": "display_data"
    },
    {
     "data": {
      "application/scrapbook.scrap.json+json": {
       "data": 0.12711092398691765,
       "encoder": "json",
       "name": "ABC Pre-generator MSE",
       "version": 1
      }
     },
     "metadata": {
      "scrapbook": {
       "data": true,
       "display": false,
       "name": "ABC Pre-generator MSE"
      }
     },
     "output_type": "display_data"
    },
    {
     "data": {
      "application/scrapbook.scrap.json+json": {
       "data": 0.24356440360898773,
       "encoder": "json",
       "name": "Prior Model MAE",
       "version": 1
      }
     },
     "metadata": {
      "scrapbook": {
       "data": true,
       "display": false,
       "name": "Prior Model MAE"
      }
     },
     "output_type": "display_data"
    },
    {
     "data": {
      "application/scrapbook.scrap.json+json": {
       "data": 0.25895093210976766,
       "encoder": "json",
       "name": "ABC Pre-generator MAE",
       "version": 1
      }
     },
     "metadata": {
      "scrapbook": {
       "data": true,
       "display": false,
       "name": "ABC Pre-generator MAE"
      }
     },
     "output_type": "display_data"
    }
   ],
   "source": [
    "y_pred = prior_model.predict(X_test)\n",
    "y_abc = y_pred + np.random.normal(0,variance, y_pred.shape)\n",
    "mse = mean_squared_error(y_pred,Y_test)\n",
    "sb.glue(\"Prior Model MSE\",mse)\n",
    "mse = mean_squared_error(y_abc,Y_test)\n",
    "sb.glue(\"ABC Pre-generator MSE\",mse)\n",
    "\n",
    "mae = mean_absolute_error(y_pred,Y_test)\n",
    "sb.glue(\"Prior Model MAE\",mae)\n",
    "mae = mean_absolute_error(y_abc,Y_test)\n",
    "sb.glue(\"ABC Pre-generator MAE\",mae)"
   ]
  },
  {
   "cell_type": "markdown",
   "id": "25609da2",
   "metadata": {
    "papermill": {
     "duration": 0.009844,
     "end_time": "2022-03-11T11:00:31.505755",
     "exception": false,
     "start_time": "2022-03-11T11:00:31.495911",
     "status": "completed"
    },
    "tags": []
   },
   "source": [
    "# ABC GAN Model"
   ]
  },
  {
   "cell_type": "code",
   "execution_count": 11,
   "id": "dfc3464d",
   "metadata": {
    "execution": {
     "iopub.execute_input": "2022-03-11T11:00:31.528409Z",
     "iopub.status.busy": "2022-03-11T11:00:31.528047Z",
     "iopub.status.idle": "2022-03-11T11:00:31.530747Z",
     "shell.execute_reply": "2022-03-11T11:00:31.530980Z"
    },
    "papermill": {
     "duration": 0.015371,
     "end_time": "2022-03-11T11:00:31.531090",
     "exception": false,
     "start_time": "2022-03-11T11:00:31.515719",
     "status": "completed"
    },
    "tags": []
   },
   "outputs": [],
   "source": [
    "gen = network.Generator(n_features+1).to(device)\n",
    "disc = network.Discriminator(n_features+1).to(device)\n",
    "\n",
    "criterion = torch.nn.BCELoss()\n",
    "gen_opt = torch.optim.Adam(gen.parameters(), lr=0.001, betas=(0.5, 0.999))\n",
    "disc_opt = torch.optim.Adam(disc.parameters(), lr=0.001, betas=(0.5, 0.999))"
   ]
  },
  {
   "cell_type": "code",
   "execution_count": 12,
   "id": "b75fdd85",
   "metadata": {
    "execution": {
     "iopub.execute_input": "2022-03-11T11:00:31.553214Z",
     "iopub.status.busy": "2022-03-11T11:00:31.552854Z",
     "iopub.status.idle": "2022-03-11T11:01:07.867445Z",
     "shell.execute_reply": "2022-03-11T11:01:07.867764Z"
    },
    "papermill": {
     "duration": 36.326847,
     "end_time": "2022-03-11T11:01:07.867888",
     "exception": false,
     "start_time": "2022-03-11T11:00:31.541041",
     "status": "completed"
    },
    "tags": []
   },
   "outputs": [
    {
     "data": {
      "image/png": "[encoded data removed]",
      "text/plain": [
       "<Figure size 432x288 with 1 Axes>"
      ]
     },
     "metadata": {
      "needs_background": "light"
     },
     "output_type": "display_data"
    },
    {
     "data": {
      "image/png": "[encoded data removed]",
      "text/plain": [
       "<Figure size 432x288 with 1 Axes>"
      ]
     },
     "metadata": {
      "needs_background": "light"
     },
     "output_type": "display_data"
    }
   ],
   "source": [
    "#Training the ABC_GAN \n",
    "ABC_train_test2.training_GAN(disc,gen,disc_opt,gen_opt,train_data,batch_size,n_epochs,criterion,prior_model,variance,0,device)"
   ]
  },
  {
   "cell_type": "code",
   "execution_count": 13,
   "id": "1fa7c368",
   "metadata": {
    "execution": {
     "iopub.execute_input": "2022-03-11T11:01:07.892094Z",
     "iopub.status.busy": "2022-03-11T11:01:07.891711Z",
     "iopub.status.idle": "2022-03-11T11:01:08.194833Z",
     "shell.execute_reply": "2022-03-11T11:01:08.195143Z"
    },
    "papermill": {
     "duration": 0.316453,
     "end_time": "2022-03-11T11:01:08.195266",
     "exception": false,
     "start_time": "2022-03-11T11:01:07.878813",
     "status": "completed"
    },
    "tags": []
   },
   "outputs": [
    {
     "data": {
      "application/scrapbook.scrap.json+json": {
       "data": 0.1162795661229223,
       "encoder": "json",
       "name": "ABC-GAN Model 1 MSE",
       "version": 1
      }
     },
     "metadata": {
      "scrapbook": {
       "data": true,
       "display": false,
       "name": "ABC-GAN Model 1 MSE"
      }
     },
     "output_type": "display_data"
    },
    {
     "data": {
      "application/scrapbook.scrap.json+json": {
       "data": 0.244893937657642,
       "encoder": "json",
       "name": "ABC-GAN Model 1 MAE",
       "version": 1
      }
     },
     "metadata": {
      "scrapbook": {
       "data": true,
       "display": false,
       "name": "ABC-GAN Model 1 MAE"
      }
     },
     "output_type": "display_data"
    },
    {
     "data": {
      "application/scrapbook.scrap.json+json": {
       "data": 24.979181641079485,
       "encoder": "json",
       "name": "ABC-GAN Model 1 Manhattan Distance",
       "version": 1
      }
     },
     "metadata": {
      "scrapbook": {
       "data": true,
       "display": false,
       "name": "ABC-GAN Model 1 Manhattan Distance"
      }
     },
     "output_type": "display_data"
    },
    {
     "data": {
      "application/scrapbook.scrap.json+json": {
       "data": 3.4430058654630797,
       "encoder": "json",
       "name": "ABC-GAN Model 1 Euclidean distance",
       "version": 1
      }
     },
     "metadata": {
      "scrapbook": {
       "data": true,
       "display": false,
       "name": "ABC-GAN Model 1 Euclidean distance"
      }
     },
     "output_type": "display_data"
    },
    {
     "data": {
      "application/scrapbook.scrap.json+json": {
       "data": [
        [
         0.11730104782101908,
         0.1172423902453857,
         0.11530605345125094,
         0.12199964210881134,
         0.11591794273193862,
         0.12109538320845256,
         0.1261308070449119,
         0.12081726493087562,
         0.11563381679934251,
         0.11472731435915323,
         0.11790456437955556,
         0.11515337501539459,
         0.12218151612580438,
         0.11198298413761247,
         0.11036559848186336,
         0.11197360926918123,
         0.11596303359354122,
         0.11100457424788948,
         0.11808912458030622,
         0.11574969662591576,
         0.1133437293228761,
         0.12683938556826566,
         0.12288120775956156,
         0.10947473340575611,
         0.12108171118579794,
         0.11856823767825417,
         0.11760900662419364,
         0.11716092805323852,
         0.11229937593132627,
         0.11052698389274367,
         0.1171045807109455,
         0.11311069309442737,
         0.11807297592573895,
         0.11454485743862508,
         0.11072267160424276,
         0.11308921447525333,
         0.11314285757422972,
         0.10944534559216215,
         0.11480533562480046,
         0.11168127495210858,
         0.1106243700768093,
         0.11783096884217685,
         0.1314082783673448,
         0.10880896293115284,
         0.11344512134549098,
         0.11070777616986724,
         0.11690348285778478,
         0.11636758061767652,
         0.1109296110103541,
         0.1171913594313509,
         0.11147668550098147,
         0.11660017286006988,
         0.12138858067310264,
         0.11656267058530241,
         0.11413312141011248,
         0.12479924156658792,
         0.13248864500294136,
         0.10840563309415174,
         0.12321136074947202,
         0.11324169136540671,
         0.11075371198264423,
         0.12294695303315906,
         0.11757874482320689,
         0.11185964264412504,
         0.11667345931485883,
         0.11120070032136813,
         0.12900754682506818,
         0.10313447794203523,
         0.120185308849274,
         0.12081828931460052,
         0.11559277690731534,
         0.1094687657697247,
         0.11741676358917391,
         0.1170404087106381,
         0.11991675114490838,
         0.11102275740189808,
         0.11566160911466436,
         0.11364407027688254,
         0.12446949599635662,
         0.11885115748632863,
         0.11666863172936255,
         0.10966701213288961,
         0.11191206566473667,
         0.11482667108799416,
         0.11293595173416998,
         0.11648718080839425,
         0.10758541713514429,
         0.12317712060658614,
         0.11966285781040824,
         0.11798218167350068,
         0.1292780615341731,
         0.11548419622900041,
         0.11513569608620529,
         0.10914286960566706,
         0.11705031299598556,
         0.11676389341278881,
         0.10870497781811975,
         0.11727294844916267,
         0.11782318533470727,
         0.12458182896411188
        ],
        [
         0.24385213585314797,
         0.25018314874785785,
         0.24456005035808273,
         0.24789163309569454,
         0.2427617627031663,
         0.24901603140375195,
         0.2563450170644358,
         0.2468114790926669,
         0.24736839430589302,
         0.2417770492314708,
         0.24134910446317756,
         0.2501051816176258,
         0.2512012896694097,
         0.23510301514875656,
         0.24352692746940782,
         0.24666608555936345,
         0.2512746753865013,
         0.24356594407821403,
         0.2488316237269079,
         0.2436615264444959,
         0.2484028112946772,
         0.24932614925737476,
         0.24742152585702784,
         0.2288443344626941,
         0.24836485339876482,
         0.24731388574867857,
         0.25116965875906105,
         0.24283376182703412,
         0.2385161976311721,
         0.23824031402667364,
         0.2436747163095895,
         0.2410565713310943,
         0.2523420707085261,
         0.24880144074924437,
         0.24384891453619098,
         0.24731874122631317,
         0.2446975421671774,
         0.2343186655757474,
         0.24570145494505471,
         0.23082473026771172,
         0.23821844224471087,
         0.2510101360214107,
         0.256503788754344,
         0.23955998690251043,
         0.24920557830117496,
         0.2283955015899504,
         0.2448548982832946,
         0.2538052351013118,
         0.23481075096802384,
         0.23886649281370873,
         0.2354966041029376,
         0.24493649855767394,
         0.25044333262770785,
         0.2499243313190984,
         0.24551851583608225,
         0.25528561809629785,
         0.2575596487880045,
         0.2300285725105627,
         0.25209325604944255,
         0.2398357775573637,
         0.24168717786304506,
         0.25126038590336547,
         0.24429544565432212,
         0.24804613713686371,
         0.24407862115870504,
         0.2353744414434129,
         0.26721096435086983,
         0.23538082618923747,
         0.24657870171701207,
         0.252634959934535,
         0.23918228735234223,
         0.23540359125563912,
         0.24623014483893035,
         0.24606191951270198,
         0.24530727036443412,
         0.24291982162086403,
         0.24597100997526272,
         0.2432412410739298,
         0.252266292478524,
         0.23869903213983656,
         0.24586072288380534,
         0.23854805284417144,
         0.24680692594790576,
         0.24884926889310865,
         0.2375671350415431,
         0.2452506189983265,
         0.23186591477589866,
         0.2426913119852543,
         0.2549752363314231,
         0.25207522317913234,
         0.2532554659627232,
         0.23527815291548476,
         0.24729134818064233,
         0.2416110447078359,
         0.2433507518258457,
         0.24323007351189269,
         0.24024687585073942,
         0.24747371856196254,
         0.2431735552336071,
         0.2529387142436177
        ],
        [
         24.872917857021093,
         25.518681172281504,
         24.94512513652444,
         25.28494657576084,
         24.76169979572296,
         25.399635203182697,
         26.147191740572453,
         25.174770867452025,
         25.231576219201088,
         24.66125902161002,
         24.617608655244112,
         25.51072852499783,
         25.622531546279788,
         23.980507545173168,
         24.839746601879597,
         25.159940727055073,
         25.630016889423132,
         24.84372629597783,
         25.380825620144606,
         24.85347569733858,
         25.337086752057076,
         25.431267224252224,
         25.23699563741684,
         23.342122115194798,
         25.333215046674013,
         25.226016346365213,
         25.619305193424225,
         24.76904370635748,
         24.328652158379555,
         24.30051203072071,
         24.85482106357813,
         24.587770275771618,
         25.738891212269664,
         25.377746956422925,
         24.87258928269148,
         25.226511605083942,
         24.959149301052094,
         23.900503888726234,
         25.06154840439558,
         23.544122487306595,
         24.29828110896051,
         25.603033874183893,
         26.163386452943087,
         24.435118664056063,
         25.418968986719847,
         23.29634116217494,
         24.97519962489605,
         25.888133980333805,
         23.950696598738432,
         24.36438226699829,
         24.020653618499637,
         24.983522852882743,
         25.5452199280262,
         25.492281794548035,
         25.04288861528039,
         26.039133045822382,
         26.271084176376462,
         23.462914396077394,
         25.713512117043138,
         24.463249310851097,
         24.652092142030597,
         25.628559362143278,
         24.918135456740856,
         25.3007059879601,
         24.896019358187914,
         24.008193027228117,
         27.255518363788724,
         24.008844271302223,
         25.15102757513523,
         25.768765913322568,
         24.396593309938908,
         24.01116630807519,
         25.115474773570895,
         25.0983157902956,
         25.02134157717228,
         24.77782180532813,
         25.089043017476797,
         24.81060658954084,
         25.73116183280945,
         24.34730127826333,
         25.077793734148145,
         24.331901390105486,
         25.174306446686387,
         25.382625427097082,
         24.231847774237394,
         25.015563137829304,
         23.65032330714166,
         24.754513822495937,
         26.00747410580516,
         25.711672764271498,
         25.832057528197765,
         23.998371597379446,
         25.223717514425516,
         24.64432656019926,
         24.821776686236262,
         24.809467498213053,
         24.505181336775422,
         25.24231929332018,
         24.803702633827925,
         25.799748852849007
        ],
        [
         3.4590037406374607,
         3.4581387775838817,
         3.4294631434129155,
         3.527600245931894,
         3.4385505898063706,
         3.5145026799338424,
         3.58682900604155,
         3.51046450244826,
         3.4343338966287096,
         3.420845811291943,
         3.4678906509165865,
         3.4271918901004432,
         3.5302286958258167,
         3.3796840654174276,
         3.355188675044976,
         3.379542594117802,
         3.4392193048046824,
         3.36488730469309,
         3.4706037957668454,
         3.436054285927888,
         3.4001559362672413,
         3.59688995216188,
         3.5403224699842357,
         3.341619787975155,
         3.5143042755218836,
         3.4776371638199874,
         3.4635413489184375,
         3.4569371792716064,
         3.3844551031141306,
         3.3576408916171863,
         3.456105790122236,
         3.3966587546634104,
         3.470366485607157,
         3.418124552841771,
         3.360611923985386,
         3.3963362431414,
         3.3971416621288295,
         3.34117123931123,
         3.4220088009427503,
         3.375128152398821,
         3.3591197876578547,
         3.4668081605277843,
         3.661098795917582,
         3.3314432636587994,
         3.4016764068970575,
         3.3603858661359802,
         3.4531370160325308,
         3.4452130881852585,
         3.3637509305916384,
         3.4573861025343686,
         3.372035278744888,
         3.448654466850387,
         3.5187547838200475,
         3.448099824497667,
         3.411975730252411,
         3.56784565806762,
         3.676117760668178,
         3.3252630836677386,
         3.5450752878389116,
         3.398625092485413,
         3.361082953785835,
         3.5412694347341356,
         3.4630957208785174,
         3.377822308781318,
         3.4497380842776453,
         3.3678585826574645,
         3.6275018643905548,
         3.243411282906871,
         3.5012714123052415,
         3.5104793846552145,
         3.4337243984551478,
         3.3415287083177834,
         3.4607094483784304,
         3.455158706700038,
         3.4973573761885777,
         3.3651628868442023,
         3.434746588861508,
         3.404657863610089,
         3.5631290450429063,
         3.4817837473923503,
         3.4496667138138113,
         3.344553069926495,
         3.378613724266677,
         3.42232675981932,
         3.3940340417982453,
         3.44698309285906,
         3.3126594373380307,
         3.5445826696342952,
         3.4936530303768922,
         3.4690319299045194,
         3.6313031099710824,
         3.4321113057938613,
         3.426928800076381,
         3.3365510186085925,
         3.4553048961836237,
         3.4510747786891636,
         3.3298510082957486,
         3.458589415038245,
         3.466693655940793,
         3.5647365336500556
        ]
       ],
       "encoder": "json",
       "name": "ABC_GAN_1 Metrics",
       "version": 1
      }
     },
     "metadata": {
      "scrapbook": {
       "data": true,
       "display": false,
       "name": "ABC_GAN_1 Metrics"
      }
     },
     "output_type": "display_data"
    },
    {
     "name": "stdout",
     "output_type": "stream",
     "text": [
      "MSE\n",
      "0.1162795661229223\n"
     ]
    }
   ],
   "source": [
    "ABC_GAN1_metrics=ABC_train_test2.test_generator(gen,test_data,prior_model,variance,0,\"1\",device)\n",
    "sb.glue(\"ABC_GAN_1 Metrics\",ABC_GAN1_metrics)\n",
    "\n",
    "print(\"MSE\")\n",
    "print(mean(ABC_GAN1_metrics[0]))"
   ]
  },
  {
   "cell_type": "code",
   "execution_count": 14,
   "id": "eb22ce5c",
   "metadata": {
    "execution": {
     "iopub.execute_input": "2022-03-11T11:01:08.222589Z",
     "iopub.status.busy": "2022-03-11T11:01:08.222225Z",
     "iopub.status.idle": "2022-03-11T11:01:08.543921Z",
     "shell.execute_reply": "2022-03-11T11:01:08.544234Z"
    },
    "papermill": {
     "duration": 0.336478,
     "end_time": "2022-03-11T11:01:08.544359",
     "exception": false,
     "start_time": "2022-03-11T11:01:08.207881",
     "status": "completed"
    },
    "tags": []
   },
   "outputs": [
    {
     "data": {
      "image/png": "[encoded data removed]",
      "text/plain": [
       "<Figure size 432x288 with 1 Axes>"
      ]
     },
     "metadata": {
      "needs_background": "light"
     },
     "output_type": "display_data"
    },
    {
     "data": {
      "image/png": "[encoded data removed]",
      "text/plain": [
       "<Figure size 432x288 with 1 Axes>"
      ]
     },
     "metadata": {
      "needs_background": "light"
     },
     "output_type": "display_data"
    },
    {
     "data": {
      "image/png": "[encoded data removed]",
      "text/plain": [
       "<Figure size 432x288 with 1 Axes>"
      ]
     },
     "metadata": {
      "needs_background": "light"
     },
     "output_type": "display_data"
    },
    {
     "data": {
      "image/png": "[encoded data removed]",
      "text/plain": [
       "<Figure size 432x288 with 1 Axes>"
      ]
     },
     "metadata": {
      "needs_background": "light"
     },
     "output_type": "display_data"
    }
   ],
   "source": [
    "sanityChecks.discProbVsError(train_data,disc,device)\n",
    "sanityChecks.discProbVsError(test_data,disc,device)"
   ]
  },
  {
   "cell_type": "markdown",
   "id": "130f3a4d",
   "metadata": {
    "id": "130f3a4d",
    "papermill": {
     "duration": 0.014501,
     "end_time": "2022-03-11T11:01:08.574144",
     "exception": false,
     "start_time": "2022-03-11T11:01:08.559643",
     "status": "completed"
    },
    "tags": []
   },
   "source": [
    "# ABC - GAN Model with skip connection"
   ]
  },
  {
   "cell_type": "code",
   "execution_count": 15,
   "id": "4e43dad1",
   "metadata": {
    "execution": {
     "iopub.execute_input": "2022-03-11T11:01:08.606613Z",
     "iopub.status.busy": "2022-03-11T11:01:08.606236Z",
     "iopub.status.idle": "2022-03-11T11:01:08.608635Z",
     "shell.execute_reply": "2022-03-11T11:01:08.608887Z"
    },
    "id": "4e43dad1",
    "papermill": {
     "duration": 0.020217,
     "end_time": "2022-03-11T11:01:08.608999",
     "exception": false,
     "start_time": "2022-03-11T11:01:08.588782",
     "status": "completed"
    },
    "tags": []
   },
   "outputs": [],
   "source": [
    "#Generator\n",
    "gen3 = network.GeneratorWithSkipConnection(n_features+1).to(device)\n",
    "constraints=network.weightConstraint()\n",
    "#Discriminator \n",
    "disc3 = network.Discriminator(n_features+1).to(device)\n",
    "\n",
    "criterion = torch.nn.BCELoss()\n",
    "gen_opt = torch.optim.Adam(gen3.parameters(), lr=0.001, betas=(0.5, 0.999))\n",
    "disc_opt = torch.optim.Adam(disc3.parameters(), lr=0.001, betas=(0.5, 0.999))\n"
   ]
  },
  {
   "cell_type": "code",
   "execution_count": 16,
   "id": "26acbc37",
   "metadata": {
    "execution": {
     "iopub.execute_input": "2022-03-11T11:01:08.640664Z",
     "iopub.status.busy": "2022-03-11T11:01:08.640314Z",
     "iopub.status.idle": "2022-03-11T11:03:39.809329Z",
     "shell.execute_reply": "2022-03-11T11:03:39.809648Z"
    },
    "id": "26acbc37",
    "papermill": {
     "duration": 151.185998,
     "end_time": "2022-03-11T11:03:39.809772",
     "exception": false,
     "start_time": "2022-03-11T11:01:08.623774",
     "status": "completed"
    },
    "tags": []
   },
   "outputs": [
    {
     "data": {
      "image/png": "[encoded data removed]",
      "text/plain": [
       "<Figure size 432x288 with 1 Axes>"
      ]
     },
     "metadata": {
      "needs_background": "light"
     },
     "output_type": "display_data"
    },
    {
     "data": {
      "image/png": "[encoded data removed]",
      "text/plain": [
       "<Figure size 432x288 with 1 Axes>"
      ]
     },
     "metadata": {
      "needs_background": "light"
     },
     "output_type": "display_data"
    }
   ],
   "source": [
    "ABC_train_test2.training_GAN_skip_connection(disc3,gen3,disc_opt,gen_opt,train_data,batch_size,n_epochs,criterion,prior_model,variance,0,device)"
   ]
  },
  {
   "cell_type": "code",
   "execution_count": 17,
   "id": "c5e0717b",
   "metadata": {
    "execution": {
     "iopub.execute_input": "2022-03-11T11:03:39.844091Z",
     "iopub.status.busy": "2022-03-11T11:03:39.843714Z",
     "iopub.status.idle": "2022-03-11T11:03:40.679052Z",
     "shell.execute_reply": "2022-03-11T11:03:40.679268Z"
    },
    "id": "c5e0717b",
    "papermill": {
     "duration": 0.853726,
     "end_time": "2022-03-11T11:03:40.679392",
     "exception": false,
     "start_time": "2022-03-11T11:03:39.825666",
     "status": "completed"
    },
    "tags": []
   },
   "outputs": [
    {
     "data": {
      "application/scrapbook.scrap.json+json": {
       "data": 0.12989234368838767,
       "encoder": "json",
       "name": "ABC-GAN Model 3 MSE",
       "version": 1
      }
     },
     "metadata": {
      "scrapbook": {
       "data": true,
       "display": false,
       "name": "ABC-GAN Model 3 MSE"
      }
     },
     "output_type": "display_data"
    },
    {
     "data": {
      "application/scrapbook.scrap.json+json": {
       "data": 0.2639825043520507,
       "encoder": "json",
       "name": "ABC-GAN Model 3 MAE",
       "version": 1
      }
     },
     "metadata": {
      "scrapbook": {
       "data": true,
       "display": false,
       "name": "ABC-GAN Model 3 MAE"
      }
     },
     "output_type": "display_data"
    },
    {
     "data": {
      "application/scrapbook.scrap.json+json": {
       "data": 26.926215443909168,
       "encoder": "json",
       "name": "ABC-GAN Model 3 Manhattan Distance",
       "version": 1
      }
     },
     "metadata": {
      "scrapbook": {
       "data": true,
       "display": false,
       "name": "ABC-GAN Model 3 Manhattan Distance"
      }
     },
     "output_type": "display_data"
    },
    {
     "data": {
      "application/scrapbook.scrap.json+json": {
       "data": 3.638453752876929,
       "encoder": "json",
       "name": "ABC-GAN Model 3 Euclidean distance",
       "version": 1
      }
     },
     "metadata": {
      "scrapbook": {
       "data": true,
       "display": false,
       "name": "ABC-GAN Model 3 Euclidean distance"
      }
     },
     "output_type": "display_data"
    },
    {
     "data": {
      "application/scrapbook.scrap.json+json": {
       "data": [
        [
         0.1327745770765152,
         0.1355273790614436,
         0.13629240526913952,
         0.1338692702941307,
         0.13271504198308431,
         0.1377813663875275,
         0.12848892148090255,
         0.13626403615362936,
         0.14282850388249124,
         0.1309770970539042,
         0.13190153075489247,
         0.1285888202628797,
         0.1333158129738981,
         0.14015613394593776,
         0.1447376556176784,
         0.11735822395820264,
         0.14162220977112636,
         0.12995164280866803,
         0.12114886361066128,
         0.13132916221607585,
         0.13920972986927693,
         0.11463624733011026,
         0.13121834874635532,
         0.13366259670158762,
         0.13021762642549542,
         0.13637640028260983,
         0.118286082140279,
         0.12326612031594956,
         0.12277376426826705,
         0.13227357784975602,
         0.12700261350730052,
         0.12550618665967073,
         0.13471306858203527,
         0.13660426218742083,
         0.12758285159275964,
         0.13253071267187597,
         0.12806881380541005,
         0.13286521813071336,
         0.1346862444856084,
         0.13745492507991475,
         0.12424275216815563,
         0.11864174217333844,
         0.14087806754372645,
         0.12755656685542327,
         0.11969457775542858,
         0.1263291088463156,
         0.12682635697323025,
         0.13672282262386978,
         0.1318559568880613,
         0.13031685610151184,
         0.13358731594827358,
         0.1346236525533335,
         0.14172707963178685,
         0.13534737496506047,
         0.12969026247295906,
         0.12220019320983187,
         0.12036884201459454,
         0.1235473308890374,
         0.13294367317303565,
         0.1261664130261459,
         0.11493689945951968,
         0.1280753991495419,
         0.12814034369694732,
         0.13047514209480202,
         0.1227828625519842,
         0.13720622480587671,
         0.12654023700315964,
         0.144930323296467,
         0.1290701180559193,
         0.14519662359139182,
         0.13288619595474685,
         0.12614243500675115,
         0.12248041142277948,
         0.12448758932876071,
         0.12111468147735767,
         0.12653974573122562,
         0.12743111814106253,
         0.13580478194159662,
         0.1176011784472128,
         0.1323093528389887,
         0.13014714973499808,
         0.12536503340727423,
         0.12698339848531326,
         0.1260055345380065,
         0.12346212473131571,
         0.12496484835092778,
         0.12902939933397298,
         0.1196881575844594,
         0.1275078010527023,
         0.11711571229911646,
         0.11123997420366238,
         0.12371986083291009,
         0.13760650376872932,
         0.14215875436284833,
         0.12066985479934454,
         0.13127346490828695,
         0.13332864713170875,
         0.1477617379100246,
         0.13577056320909767,
         0.13145319318967122
        ],
        [
         0.25907729642794414,
         0.27295325797818165,
         0.26869633666002285,
         0.2611038898501326,
         0.2658536320223528,
         0.27424577506733877,
         0.2571321375595004,
         0.26994774726164694,
         0.2728069324192463,
         0.26886851654625404,
         0.26824077587647766,
         0.26345303157965344,
         0.2654848372673287,
         0.27414083827798275,
         0.2835909088744837,
         0.24500882116091602,
         0.2778779798570801,
         0.2659179337651414,
         0.2554466837615359,
         0.26485317740954606,
         0.27295715533489107,
         0.24868476204574108,
         0.2676264020961289,
         0.26960974080743744,
         0.26490510854066585,
         0.26961347606836583,
         0.2509225693841775,
         0.2539106631176729,
         0.26077955939313946,
         0.2660720077726771,
         0.2595687764240246,
         0.2589327178018935,
         0.2716138380780524,
         0.27856000059959934,
         0.2654285117910773,
         0.271343494966334,
         0.2590735154682953,
         0.259420911069302,
         0.27098535753640474,
         0.27117506133428976,
         0.2628184015698293,
         0.24619824194586745,
         0.2759133858934921,
         0.2660710223238258,
         0.2588423041115497,
         0.25705223373484376,
         0.2650905446898119,
         0.2719611433864224,
         0.26381781332048715,
         0.267636144661582,
         0.2642258117158039,
         0.2623554524399486,
         0.2766481382297535,
         0.2682900011685549,
         0.2696639494422604,
         0.2505863007961535,
         0.2573732076504943,
         0.2617179764909487,
         0.260679439294572,
         0.25980187689556794,
         0.24694976331118276,
         0.2653941594648595,
         0.2642136197537184,
         0.2661116516911516,
         0.2610834509901264,
         0.2688940578669894,
         0.25673353807160665,
         0.27520126948023543,
         0.25171577510442217,
         0.2810846463795386,
         0.2693920936983298,
         0.2575660929010779,
         0.2500694608863662,
         0.25130900872104306,
         0.25530222038208855,
         0.2582040569726743,
         0.26493513914665173,
         0.27409129841801,
         0.2563017161161292,
         0.2741225328223378,
         0.2623397320070687,
         0.25445168885384123,
         0.2519316463092086,
         0.2614722511384125,
         0.2516822843246308,
         0.25692429769711167,
         0.267993635881473,
         0.25523877837786485,
         0.2639002434763254,
         0.26226975151575077,
         0.24407671720666044,
         0.2682942323313624,
         0.27082930739019434,
         0.27173058374547493,
         0.2559120778140484,
         0.2708876956911648,
         0.26602729223668575,
         0.28274849228853105,
         0.2652096672750571,
         0.27302697845095514
        ],
        [
         26.4258842356503,
         27.841232313774526,
         27.40702633932233,
         26.632596764713526,
         27.117070466279984,
         27.973069056868553,
         26.22747803106904,
         27.534670220687985,
         27.826307106763124,
         27.424588687717915,
         27.36055913940072,
         26.87220922112465,
         27.07945340126753,
         27.96236550435424,
         28.926272705197334,
         24.990899758413434,
         28.343553945422173,
         27.123629244044423,
         26.055561743676662,
         27.015024095773697,
         27.841629844158888,
         25.36584572866559,
         27.29789301380515,
         27.500193562358618,
         27.02032107114792,
         27.500574558973312,
         25.594102077186108,
         25.898887638002634,
         26.599515058100224,
         27.139344792813063,
         26.47601519525051,
         26.411137215793133,
         27.704611483961344,
         28.413120061159134,
         27.073708202689886,
         27.677036486566067,
         26.42549857776612,
         26.460932929068804,
         27.640506468713284,
         27.659856256097555,
         26.807476960122585,
         25.11222067847848,
         28.143165361136198,
         27.13924427703023,
         26.401915019378066,
         26.219327840954065,
         27.039235558360815,
         27.740036625415087,
         26.90941695868969,
         27.298886755481362,
         26.951032795011997,
         26.76025614887476,
         28.218110099434853,
         27.3655801191926,
         27.50572284311056,
         25.559802681207657,
         26.252067180350423,
         26.69523360207677,
         26.58930280804634,
         26.49979144334793,
         25.18887585774064,
         27.07020426541567,
         26.949789214879274,
         27.143388472497463,
         26.630512000992894,
         27.42719390243292,
         26.18682088330388,
         28.070529486984015,
         25.675009060651064,
         28.67063393071294,
         27.477993557229638,
         26.27174147590995,
         25.507085010409355,
         25.633518889546394,
         26.04082647897303,
         26.336813811212778,
         27.023384192958474,
         27.957312438637018,
         26.142775043845177,
         27.960498347878456,
         26.758652664721012,
         25.954072263091803,
         25.69702792353928,
         26.670169616118073,
         25.671593001112342,
         26.20627836510539,
         27.33535085991025,
         26.034355394542217,
         26.91782483458519,
         26.75151465460658,
         24.895825155079365,
         27.366011697798967,
         27.62458935379982,
         27.71651954203844,
         26.103031937032938,
         27.63054496049881,
         27.134783808141947,
         28.840346213430166,
         27.051386062055826,
         27.848751801997423
        ],
        [
         3.68008245312582,
         3.7180361300379055,
         3.7285151652436967,
         3.6952219919784697,
         3.679257300363023,
         3.7488263992252033,
         3.620203031744498,
         3.728127101866325,
         3.8168714146554774,
         3.655087399707185,
         3.6679634863230355,
         3.621610093151074,
         3.68757548035801,
         3.780995326958981,
         3.842296302083325,
         3.459846650320888,
         3.8007190631056766,
         3.6407509618874148,
         3.5152786643860043,
         3.6599965226813715,
         3.768208121463868,
         3.419487860436302,
         3.658452073231006,
         3.6923684625944273,
         3.6444749821339886,
         3.72966390293096,
         3.473496851633589,
         3.5458629799002184,
         3.5387743577915844,
         3.6731328509427907,
         3.599203603263457,
         3.577936701408567,
         3.706849470287079,
         3.7327784213795656,
         3.6074160922274388,
         3.6767013330608385,
         3.6142798740761375,
         3.6813383774563238,
         3.7064803975647918,
         3.744382773989768,
         3.5598821218057024,
         3.47871494975954,
         3.79072062930785,
         3.607044471482598,
         3.4941160443027233,
         3.589647489980624,
         3.5967052160650423,
         3.73439793107734,
         3.667329764635606,
         3.6458633164662393,
         3.69132851785423,
         3.705619052255644,
         3.802126000337477,
         3.7155662080544554,
         3.637087677282721,
         3.530498506925453,
         3.5039437617474176,
         3.549905315734747,
         3.682425106319154,
         3.5873352406301366,
         3.4239690046597984,
         3.614372796662413,
         3.615289069644173,
         3.6480768212401737,
         3.5389054777292923,
         3.740993842577053,
         3.59264584593615,
         3.844852789930928,
         3.6283814630911913,
         3.848383505619205,
         3.68162898556932,
         3.5869943365844077,
         3.5345440957955963,
         3.5633880102416007,
         3.5147827117320465,
         3.5926388719971585,
         3.605270315855439,
         3.72183929771865,
         3.4634260785551207,
         3.6736295389678104,
         3.643488612987531,
         3.5759241333593703,
         3.5989313199201165,
         3.58504735294761,
         3.5486809834915,
         3.5702121129975777,
         3.6278090815346444,
         3.4940223344470556,
         3.6063549059092392,
         3.456270049418864,
         3.368453260589133,
         3.552383116297682,
         3.7464467678602333,
         3.807911887768745,
         3.5083222756088333,
         3.6592203296119328,
         3.6877529753813887,
         3.882228389317469,
         3.7213703722322453,
         3.661724416903389
        ]
       ],
       "encoder": "json",
       "name": "ABC_GAN_3 Metrics",
       "version": 1
      }
     },
     "metadata": {
      "scrapbook": {
       "data": true,
       "display": false,
       "name": "ABC_GAN_3 Metrics"
      }
     },
     "output_type": "display_data"
    },
    {
     "name": "stdout",
     "output_type": "stream",
     "text": [
      "MSE\n",
      "0.12989234368838767\n"
     ]
    }
   ],
   "source": [
    "ABC_GAN3_metrics=ABC_train_test2.test_generator(gen3,test_data,prior_model,variance,0,\"3\",device)\n",
    "sb.glue(\"ABC_GAN_3 Metrics\",ABC_GAN3_metrics)\n",
    "\n",
    "print(\"MSE\")\n",
    "print(mean(ABC_GAN3_metrics[0]))"
   ]
  },
  {
   "cell_type": "code",
   "execution_count": 18,
   "id": "c8e46b48",
   "metadata": {
    "execution": {
     "iopub.execute_input": "2022-03-11T11:03:40.716183Z",
     "iopub.status.busy": "2022-03-11T11:03:40.715791Z",
     "iopub.status.idle": "2022-03-11T11:03:41.034304Z",
     "shell.execute_reply": "2022-03-11T11:03:41.034648Z"
    },
    "id": "c8e46b48",
    "papermill": {
     "duration": 0.338011,
     "end_time": "2022-03-11T11:03:41.034775",
     "exception": false,
     "start_time": "2022-03-11T11:03:40.696764",
     "status": "completed"
    },
    "tags": []
   },
   "outputs": [
    {
     "data": {
      "image/png": "[encoded data removed]",
      "text/plain": [
       "<Figure size 432x288 with 1 Axes>"
      ]
     },
     "metadata": {
      "needs_background": "light"
     },
     "output_type": "display_data"
    },
    {
     "data": {
      "image/png": "[encoded data removed]",
      "text/plain": [
       "<Figure size 432x288 with 1 Axes>"
      ]
     },
     "metadata": {
      "needs_background": "light"
     },
     "output_type": "display_data"
    },
    {
     "data": {
      "image/png": "[encoded data removed]",
      "text/plain": [
       "<Figure size 432x288 with 1 Axes>"
      ]
     },
     "metadata": {
      "needs_background": "light"
     },
     "output_type": "display_data"
    },
    {
     "data": {
      "image/png": "[encoded data removed]",
      "text/plain": [
       "<Figure size 432x288 with 1 Axes>"
      ]
     },
     "metadata": {
      "needs_background": "light"
     },
     "output_type": "display_data"
    }
   ],
   "source": [
    "sanityChecks.discProbVsError(train_data,disc3,device)\n",
    "sanityChecks.discProbVsError(test_data,disc3,device)"
   ]
  },
  {
   "cell_type": "markdown",
   "id": "a5bd74c3",
   "metadata": {
    "id": "a5bd74c3",
    "papermill": {
     "duration": 0.019358,
     "end_time": "2022-03-11T11:03:41.074151",
     "exception": false,
     "start_time": "2022-03-11T11:03:41.054793",
     "status": "completed"
    },
    "tags": []
   },
   "source": [
    "## Skip Connection Model Analysis - ABC-GAN "
   ]
  },
  {
   "cell_type": "markdown",
   "id": "5744a8bf",
   "metadata": {
    "id": "5744a8bf",
    "papermill": {
     "duration": 0.019191,
     "end_time": "2022-03-11T11:03:41.112590",
     "exception": false,
     "start_time": "2022-03-11T11:03:41.093399",
     "status": "completed"
    },
    "tags": []
   },
   "source": [
    "### Weight Analysis \n",
    "\n",
    "Study the weights of the skip connection layer\n",
    "\n",
    "Equation of the skip connection is \n",
    "\n",
    "$output = y_{gan} * w + y_{abc} * (1-w)$"
   ]
  },
  {
   "cell_type": "code",
   "execution_count": 19,
   "id": "52c31dea",
   "metadata": {
    "execution": {
     "iopub.execute_input": "2022-03-11T11:03:41.154068Z",
     "iopub.status.busy": "2022-03-11T11:03:41.153707Z",
     "iopub.status.idle": "2022-03-11T11:03:41.157303Z",
     "shell.execute_reply": "2022-03-11T11:03:41.157551Z"
    },
    "id": "52c31dea",
    "papermill": {
     "duration": 0.025679,
     "end_time": "2022-03-11T11:03:41.157661",
     "exception": false,
     "start_time": "2022-03-11T11:03:41.131982",
     "status": "completed"
    },
    "tags": []
   },
   "outputs": [
    {
     "name": "stdout",
     "output_type": "stream",
     "text": [
      "Weight of the node at skip connection\n",
      "Parameter containing:\n",
      "tensor([[0.0770]], requires_grad=True)\n"
     ]
    },
    {
     "data": {
      "application/scrapbook.scrap.json+json": {
       "data": 0.07703764736652374,
       "encoder": "json",
       "name": "Skip Connection Weight",
       "version": 1
      }
     },
     "metadata": {
      "scrapbook": {
       "data": true,
       "display": false,
       "name": "Skip Connection Weight"
      }
     },
     "output_type": "display_data"
    }
   ],
   "source": [
    "print(\"Weight of the node at skip connection\")\n",
    "for name,param in gen3.named_parameters():\n",
    "    if(name == \"skipNode.weight\"):\n",
    "        print(param)\n",
    "        sb.glue(\"Skip Connection Weight\",param.item())"
   ]
  }
 ],
 "metadata": {
  "colab": {
   "collapsed_sections": [],
   "name": "ABC_GAN_Model-Catboost_Pre-gen.ipynb",
   "provenance": []
  },
  "interpreter": {
   "hash": "31f2aee4e71d21fbe5cf8b01ff0e069b9275f58929596ceb00d14d90e3e16cd6"
  },
  "kernelspec": {
   "display_name": "Python 3 (ipykernel)",
   "language": "python",
   "name": "python3"
  },
  "language_info": {
   "codemirror_mode": {
    "name": "ipython",
    "version": 3
   },
   "file_extension": ".py",
   "mimetype": "text/x-python",
   "name": "python",
   "nbconvert_exporter": "python",
   "pygments_lexer": "ipython3",
   "version": "3.8.11"
  },
  "papermill": {
   "default_parameters": {},
   "duration": 193.893109,
   "end_time": "2022-03-11T11:03:41.486185",
   "environment_variables": {},
   "exception": null,
   "input_path": "ABC_GAN-Catboost.ipynb",
   "output_path": "./ABC_GAN_Catboost/ABC-GAN_output_10_1.ipynb",
   "parameters": {
    "variance": 0.1
   },
   "start_time": "2022-03-11T11:00:27.593076",
   "version": "2.3.3"
  }
 },
 "nbformat": 4,
 "nbformat_minor": 5
}