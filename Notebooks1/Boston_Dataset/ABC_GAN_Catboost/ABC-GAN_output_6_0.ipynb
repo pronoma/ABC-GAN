{
 "cells": [
  {
   "cell_type": "markdown",
   "id": "622780e6",
   "metadata": {
    "id": "622780e6",
    "papermill": {
     "duration": 0.034132,
     "end_time": "2022-03-11T10:18:53.937889",
     "exception": false,
     "start_time": "2022-03-11T10:18:53.903757",
     "status": "completed"
    },
    "tags": []
   },
   "source": [
    "## Import Libraries "
   ]
  },
  {
   "cell_type": "code",
   "execution_count": 1,
   "id": "a62397e3",
   "metadata": {
    "execution": {
     "iopub.execute_input": "2022-03-11T10:18:53.975583Z",
     "iopub.status.busy": "2022-03-11T10:18:53.975054Z",
     "iopub.status.idle": "2022-03-11T10:18:53.977467Z",
     "shell.execute_reply": "2022-03-11T10:18:53.977811Z"
    },
    "id": "a62397e3",
    "papermill": {
     "duration": 0.02318,
     "end_time": "2022-03-11T10:18:53.978016",
     "exception": false,
     "start_time": "2022-03-11T10:18:53.954836",
     "status": "completed"
    },
    "tags": []
   },
   "outputs": [],
   "source": [
    "import warnings\n",
    "import sys\n",
    "sys.path.insert(0, '../../src')\n",
    "warnings.filterwarnings('ignore')"
   ]
  },
  {
   "cell_type": "code",
   "execution_count": 2,
   "id": "d6a4e155",
   "metadata": {
    "execution": {
     "iopub.execute_input": "2022-03-11T10:18:53.998408Z",
     "iopub.status.busy": "2022-03-11T10:18:53.998008Z",
     "iopub.status.idle": "2022-03-11T10:18:55.862152Z",
     "shell.execute_reply": "2022-03-11T10:18:55.862409Z"
    },
    "id": "d6a4e155",
    "papermill": {
     "duration": 1.875024,
     "end_time": "2022-03-11T10:18:55.862536",
     "exception": false,
     "start_time": "2022-03-11T10:18:53.987512",
     "status": "completed"
    },
    "tags": []
   },
   "outputs": [],
   "source": [
    "import ABC_train_test2\n",
    "import bostonDataset\n",
    "import network\n",
    "import dataset\n",
    "import sanityChecks\n",
    "import torch \n",
    "import scrapbook as sb\n",
    "from statistics import mean \n",
    "import catboost as ctb \n",
    "from sklearn.model_selection import train_test_split\n",
    "from sklearn.metrics import mean_squared_error,mean_absolute_error\n",
    "import numpy as np"
   ]
  },
  {
   "cell_type": "markdown",
   "id": "2fa5b0f7",
   "metadata": {
    "id": "2fa5b0f7",
    "papermill": {
     "duration": 0.006699,
     "end_time": "2022-03-11T10:18:55.876242",
     "exception": false,
     "start_time": "2022-03-11T10:18:55.869543",
     "status": "completed"
    },
    "tags": []
   },
   "source": [
    "## Parameters "
   ]
  },
  {
   "cell_type": "code",
   "execution_count": 3,
   "id": "783186fb",
   "metadata": {
    "execution": {
     "iopub.execute_input": "2022-03-11T10:18:55.891879Z",
     "iopub.status.busy": "2022-03-11T10:18:55.891513Z",
     "iopub.status.idle": "2022-03-11T10:18:55.892711Z",
     "shell.execute_reply": "2022-03-11T10:18:55.892936Z"
    },
    "id": "783186fb",
    "papermill": {
     "duration": 0.01014,
     "end_time": "2022-03-11T10:18:55.893041",
     "exception": false,
     "start_time": "2022-03-11T10:18:55.882901",
     "status": "completed"
    },
    "tags": [
     "parameters"
    ]
   },
   "outputs": [],
   "source": [
    "variance = 1"
   ]
  },
  {
   "cell_type": "code",
   "execution_count": 4,
   "id": "66661d15",
   "metadata": {
    "execution": {
     "iopub.execute_input": "2022-03-11T10:18:55.908271Z",
     "iopub.status.busy": "2022-03-11T10:18:55.907888Z",
     "iopub.status.idle": "2022-03-11T10:18:55.909093Z",
     "shell.execute_reply": "2022-03-11T10:18:55.909331Z"
    },
    "papermill": {
     "duration": 0.009656,
     "end_time": "2022-03-11T10:18:55.909433",
     "exception": false,
     "start_time": "2022-03-11T10:18:55.899777",
     "status": "completed"
    },
    "tags": [
     "injected-parameters"
    ]
   },
   "outputs": [],
   "source": [
    "# Parameters\n",
    "variance = 1\n"
   ]
  },
  {
   "cell_type": "markdown",
   "id": "391cdbfd",
   "metadata": {
    "id": "391cdbfd",
    "papermill": {
     "duration": 0.006667,
     "end_time": "2022-03-11T10:18:55.922836",
     "exception": false,
     "start_time": "2022-03-11T10:18:55.916169",
     "status": "completed"
    },
    "tags": []
   },
   "source": [
    "## Dataset \n"
   ]
  },
  {
   "cell_type": "code",
   "execution_count": 5,
   "id": "5b51f161",
   "metadata": {
    "execution": {
     "iopub.execute_input": "2022-03-11T10:18:55.938157Z",
     "iopub.status.busy": "2022-03-11T10:18:55.937779Z",
     "iopub.status.idle": "2022-03-11T10:18:55.939009Z",
     "shell.execute_reply": "2022-03-11T10:18:55.939246Z"
    },
    "id": "5b51f161",
    "papermill": {
     "duration": 0.009792,
     "end_time": "2022-03-11T10:18:55.939347",
     "exception": false,
     "start_time": "2022-03-11T10:18:55.929555",
     "status": "completed"
    },
    "tags": []
   },
   "outputs": [],
   "source": [
    "#Parameters \n",
    "n_features = 13\n",
    "n_samples= 506\n",
    "n_target = 1 "
   ]
  },
  {
   "cell_type": "code",
   "execution_count": 6,
   "id": "5d6eced4",
   "metadata": {
    "execution": {
     "iopub.execute_input": "2022-03-11T10:18:55.954718Z",
     "iopub.status.busy": "2022-03-11T10:18:55.954370Z",
     "iopub.status.idle": "2022-03-11T10:18:55.965058Z",
     "shell.execute_reply": "2022-03-11T10:18:55.965296Z"
    },
    "id": "5d6eced4",
    "papermill": {
     "duration": 0.019267,
     "end_time": "2022-03-11T10:18:55.965404",
     "exception": false,
     "start_time": "2022-03-11T10:18:55.946137",
     "status": "completed"
    },
    "tags": []
   },
   "outputs": [
    {
     "name": "stdout",
     "output_type": "stream",
     "text": [
      "         X1        X2        X3        X4        X5        X6        X7  \\\n",
      "0 -0.419782  0.284830 -1.287909 -0.272599 -0.144217  0.413672 -0.120013   \n",
      "1 -0.417339 -0.487722 -0.593381 -0.272599 -0.740262  0.194274  0.367166   \n",
      "2 -0.417342 -0.487722 -0.593381 -0.272599 -0.740262  1.282714 -0.265812   \n",
      "3 -0.416750 -0.487722 -1.306878 -0.272599 -0.835284  1.016303 -0.809889   \n",
      "4 -0.412482 -0.487722 -1.306878 -0.272599 -0.835284  1.228577 -0.511180   \n",
      "\n",
      "         X8        X9       X10       X11       X12       X13         Y  \n",
      "0  0.140214 -0.982843 -0.666608 -1.459000  0.441052 -1.075562  0.159686  \n",
      "1  0.557160 -0.867883 -0.987329 -0.303094  0.441052 -0.492439 -0.101524  \n",
      "2  0.557160 -0.867883 -0.987329 -0.303094  0.396427 -1.208727  1.324247  \n",
      "3  1.077737 -0.752922 -1.106115  0.113032  0.416163 -1.361517  1.182758  \n",
      "4  1.077737 -0.752922 -1.106115  0.113032  0.441052 -1.026501  1.487503  \n"
     ]
    }
   ],
   "source": [
    "X,Y = bostonDataset.boston_data()"
   ]
  },
  {
   "cell_type": "code",
   "execution_count": 7,
   "id": "fe007438",
   "metadata": {
    "execution": {
     "iopub.execute_input": "2022-03-11T10:18:55.982221Z",
     "iopub.status.busy": "2022-03-11T10:18:55.981839Z",
     "iopub.status.idle": "2022-03-11T10:18:55.983284Z",
     "shell.execute_reply": "2022-03-11T10:18:55.983555Z"
    },
    "id": "fe007438",
    "papermill": {
     "duration": 0.01097,
     "end_time": "2022-03-11T10:18:55.983667",
     "exception": false,
     "start_time": "2022-03-11T10:18:55.972697",
     "status": "completed"
    },
    "tags": []
   },
   "outputs": [],
   "source": [
    "#Train test split for dataset \n",
    "X_train,X_test,Y_train,Y_test = train_test_split(X,Y,test_size = 0.2)\n",
    "train_data = dataset.CustomDataset(X_train,Y_train)\n",
    "test_data = dataset.CustomDataset(X_test,Y_test)\n"
   ]
  },
  {
   "cell_type": "markdown",
   "id": "a9a1af34",
   "metadata": {
    "id": "a9a1af34",
    "papermill": {
     "duration": 0.007011,
     "end_time": "2022-03-11T10:18:55.997784",
     "exception": false,
     "start_time": "2022-03-11T10:18:55.990773",
     "status": "completed"
    },
    "tags": []
   },
   "source": [
    "## Training Parameters "
   ]
  },
  {
   "cell_type": "code",
   "execution_count": 8,
   "id": "952b7fc8",
   "metadata": {
    "execution": {
     "iopub.execute_input": "2022-03-11T10:18:56.014042Z",
     "iopub.status.busy": "2022-03-11T10:18:56.013662Z",
     "iopub.status.idle": "2022-03-11T10:18:56.014919Z",
     "shell.execute_reply": "2022-03-11T10:18:56.015212Z"
    },
    "id": "952b7fc8",
    "papermill": {
     "duration": 0.010556,
     "end_time": "2022-03-11T10:18:56.015323",
     "exception": false,
     "start_time": "2022-03-11T10:18:56.004767",
     "status": "completed"
    },
    "tags": []
   },
   "outputs": [],
   "source": [
    "batch_size = 64\n",
    "n_epochs = 1000\n",
    "#Select the device \n",
    "device = torch.device('cuda' if torch.cuda.is_available() else 'cpu')"
   ]
  },
  {
   "cell_type": "markdown",
   "id": "a95e1600",
   "metadata": {
    "id": "a95e1600",
    "papermill": {
     "duration": 0.006986,
     "end_time": "2022-03-11T10:18:56.029418",
     "exception": false,
     "start_time": "2022-03-11T10:18:56.022432",
     "status": "completed"
    },
    "tags": []
   },
   "source": [
    "# ABC Pre-generator Model \n",
    "\n",
    "1. The catboost model is used as a pre-generator model for the ABC-GAN. \n",
    "2. The model is first trained on the entire dataset \n",
    "3. It generats X,Y pairs and we add some Gaussian noise with mean 0 and variance 1 to it which is then feed as input to the generator.\n"
   ]
  },
  {
   "cell_type": "code",
   "execution_count": 9,
   "id": "ff8ce7bd",
   "metadata": {
    "execution": {
     "iopub.execute_input": "2022-03-11T10:18:56.048390Z",
     "iopub.status.busy": "2022-03-11T10:18:56.048009Z",
     "iopub.status.idle": "2022-03-11T10:18:57.009438Z",
     "shell.execute_reply": "2022-03-11T10:18:57.009731Z"
    },
    "id": "ff8ce7bd",
    "papermill": {
     "duration": 0.973399,
     "end_time": "2022-03-11T10:18:57.009854",
     "exception": false,
     "start_time": "2022-03-11T10:18:56.036455",
     "status": "completed"
    },
    "tags": []
   },
   "outputs": [
    {
     "name": "stdout",
     "output_type": "stream",
     "text": [
      "Learning rate set to 0.033215\n",
      "0:\tlearn: 0.9602003\ttotal: 58.1ms\tremaining: 58s\n",
      "1:\tlearn: 0.9443835\ttotal: 59ms\tremaining: 29.4s\n",
      "2:\tlearn: 0.9246671\ttotal: 59.9ms\tremaining: 19.9s\n",
      "3:\tlearn: 0.9095674\ttotal: 61ms\tremaining: 15.2s\n",
      "4:\tlearn: 0.8918109\ttotal: 61.9ms\tremaining: 12.3s\n",
      "5:\tlearn: 0.8775758\ttotal: 62.7ms\tremaining: 10.4s\n",
      "6:\tlearn: 0.8643594\ttotal: 63.7ms\tremaining: 9.03s\n",
      "7:\tlearn: 0.8480820\ttotal: 64.5ms\tremaining: 8s\n",
      "8:\tlearn: 0.8341433\ttotal: 65.2ms\tremaining: 7.18s\n",
      "9:\tlearn: 0.8185264\ttotal: 66ms\tremaining: 6.54s\n",
      "10:\tlearn: 0.8043539\ttotal: 66.8ms\tremaining: 6.01s\n",
      "11:\tlearn: 0.7923312\ttotal: 68.3ms\tremaining: 5.62s\n",
      "12:\tlearn: 0.7800867\ttotal: 69.2ms\tremaining: 5.25s\n",
      "13:\tlearn: 0.7663415\ttotal: 70ms\tremaining: 4.93s\n",
      "14:\tlearn: 0.7550754\ttotal: 70.7ms\tremaining: 4.64s\n",
      "15:\tlearn: 0.7406621\ttotal: 71.6ms\tremaining: 4.41s\n",
      "16:\tlearn: 0.7299235\ttotal: 72.5ms\tremaining: 4.19s\n",
      "17:\tlearn: 0.7175793\ttotal: 73.3ms\tremaining: 4s\n",
      "18:\tlearn: 0.7060775\ttotal: 74.1ms\tremaining: 3.82s\n",
      "19:\tlearn: 0.6921352\ttotal: 74.9ms\tremaining: 3.67s\n",
      "20:\tlearn: 0.6797610\ttotal: 75.7ms\tremaining: 3.53s\n",
      "21:\tlearn: 0.6696845\ttotal: 76.6ms\tremaining: 3.41s\n",
      "22:\tlearn: 0.6595332\ttotal: 77.4ms\tremaining: 3.29s\n",
      "23:\tlearn: 0.6503904\ttotal: 78.2ms\tremaining: 3.18s\n",
      "24:\tlearn: 0.6417013\ttotal: 79ms\tremaining: 3.08s\n",
      "25:\tlearn: 0.6328011\ttotal: 79.8ms\tremaining: 2.99s\n",
      "26:\tlearn: 0.6255228\ttotal: 80.6ms\tremaining: 2.9s\n",
      "27:\tlearn: 0.6165740\ttotal: 81.5ms\tremaining: 2.83s\n",
      "28:\tlearn: 0.6082931\ttotal: 82.2ms\tremaining: 2.75s\n",
      "29:\tlearn: 0.5982995\ttotal: 83ms\tremaining: 2.68s\n",
      "30:\tlearn: 0.5883952\ttotal: 83.6ms\tremaining: 2.61s\n",
      "31:\tlearn: 0.5802382\ttotal: 84.4ms\tremaining: 2.55s\n",
      "32:\tlearn: 0.5738336\ttotal: 85.1ms\tremaining: 2.49s\n",
      "33:\tlearn: 0.5667709\ttotal: 85.9ms\tremaining: 2.44s\n",
      "34:\tlearn: 0.5601380\ttotal: 86.6ms\tremaining: 2.39s\n",
      "35:\tlearn: 0.5534742\ttotal: 87.4ms\tremaining: 2.34s\n",
      "36:\tlearn: 0.5475757\ttotal: 88.1ms\tremaining: 2.29s\n",
      "37:\tlearn: 0.5410810\ttotal: 88.9ms\tremaining: 2.25s\n",
      "38:\tlearn: 0.5340465\ttotal: 89.7ms\tremaining: 2.21s\n",
      "39:\tlearn: 0.5259560\ttotal: 90.7ms\tremaining: 2.17s\n",
      "40:\tlearn: 0.5190737\ttotal: 91.4ms\tremaining: 2.14s\n",
      "41:\tlearn: 0.5123557\ttotal: 92.3ms\tremaining: 2.1s\n",
      "42:\tlearn: 0.5062600\ttotal: 93ms\tremaining: 2.07s\n",
      "43:\tlearn: 0.4994866\ttotal: 93.7ms\tremaining: 2.04s\n",
      "44:\tlearn: 0.4943710\ttotal: 94.5ms\tremaining: 2s\n",
      "45:\tlearn: 0.4881484\ttotal: 95.4ms\tremaining: 1.98s\n",
      "46:\tlearn: 0.4827166\ttotal: 96.3ms\tremaining: 1.95s\n",
      "47:\tlearn: 0.4764254\ttotal: 97.3ms\tremaining: 1.93s\n",
      "48:\tlearn: 0.4706293\ttotal: 98.8ms\tremaining: 1.92s\n",
      "49:\tlearn: 0.4663925\ttotal: 99.6ms\tremaining: 1.89s\n",
      "50:\tlearn: 0.4613108\ttotal: 100ms\tremaining: 1.87s\n",
      "51:\tlearn: 0.4567044\ttotal: 101ms\tremaining: 1.84s\n",
      "52:\tlearn: 0.4521424\ttotal: 102ms\tremaining: 1.82s\n",
      "53:\tlearn: 0.4488948\ttotal: 103ms\tremaining: 1.8s\n",
      "54:\tlearn: 0.4436157\ttotal: 103ms\tremaining: 1.78s\n",
      "55:\tlearn: 0.4402531\ttotal: 104ms\tremaining: 1.76s\n",
      "56:\tlearn: 0.4368313\ttotal: 105ms\tremaining: 1.74s\n",
      "57:\tlearn: 0.4326174\ttotal: 106ms\tremaining: 1.72s\n",
      "58:\tlearn: 0.4282817\ttotal: 107ms\tremaining: 1.7s\n",
      "59:\tlearn: 0.4253159\ttotal: 107ms\tremaining: 1.68s\n",
      "60:\tlearn: 0.4203621\ttotal: 108ms\tremaining: 1.67s\n"
     ]
    },
    {
     "name": "stdout",
     "output_type": "stream",
     "text": [
      "61:\tlearn: 0.4156468\ttotal: 110ms\tremaining: 1.66s\n",
      "62:\tlearn: 0.4117026\ttotal: 110ms\tremaining: 1.64s\n",
      "63:\tlearn: 0.4079608\ttotal: 111ms\tremaining: 1.63s\n",
      "64:\tlearn: 0.4051219\ttotal: 112ms\tremaining: 1.61s\n",
      "65:\tlearn: 0.4004428\ttotal: 113ms\tremaining: 1.6s\n",
      "66:\tlearn: 0.3974509\ttotal: 114ms\tremaining: 1.59s\n",
      "67:\tlearn: 0.3945880\ttotal: 115ms\tremaining: 1.57s\n",
      "68:\tlearn: 0.3918640\ttotal: 116ms\tremaining: 1.56s\n",
      "69:\tlearn: 0.3888933\ttotal: 116ms\tremaining: 1.55s\n",
      "70:\tlearn: 0.3860695\ttotal: 118ms\tremaining: 1.54s\n",
      "71:\tlearn: 0.3820181\ttotal: 119ms\tremaining: 1.53s\n",
      "72:\tlearn: 0.3801180\ttotal: 119ms\tremaining: 1.51s\n",
      "73:\tlearn: 0.3769936\ttotal: 120ms\tremaining: 1.5s\n",
      "74:\tlearn: 0.3745083\ttotal: 121ms\tremaining: 1.49s\n",
      "75:\tlearn: 0.3725717\ttotal: 122ms\tremaining: 1.48s\n",
      "76:\tlearn: 0.3689930\ttotal: 123ms\tremaining: 1.47s\n",
      "77:\tlearn: 0.3667419\ttotal: 124ms\tremaining: 1.46s\n",
      "78:\tlearn: 0.3646824\ttotal: 125ms\tremaining: 1.45s\n",
      "79:\tlearn: 0.3622929\ttotal: 125ms\tremaining: 1.44s\n",
      "80:\tlearn: 0.3597361\ttotal: 126ms\tremaining: 1.43s\n",
      "81:\tlearn: 0.3568401\ttotal: 127ms\tremaining: 1.42s\n",
      "82:\tlearn: 0.3545553\ttotal: 128ms\tremaining: 1.41s\n",
      "83:\tlearn: 0.3519137\ttotal: 129ms\tremaining: 1.4s\n",
      "84:\tlearn: 0.3490845\ttotal: 129ms\tremaining: 1.39s\n",
      "85:\tlearn: 0.3467601\ttotal: 130ms\tremaining: 1.39s\n",
      "86:\tlearn: 0.3441852\ttotal: 131ms\tremaining: 1.38s\n",
      "87:\tlearn: 0.3419712\ttotal: 132ms\tremaining: 1.37s\n",
      "88:\tlearn: 0.3394963\ttotal: 133ms\tremaining: 1.36s\n",
      "89:\tlearn: 0.3373802\ttotal: 133ms\tremaining: 1.35s\n",
      "90:\tlearn: 0.3346780\ttotal: 134ms\tremaining: 1.34s\n",
      "91:\tlearn: 0.3329336\ttotal: 135ms\tremaining: 1.33s\n",
      "92:\tlearn: 0.3316599\ttotal: 136ms\tremaining: 1.32s\n",
      "93:\tlearn: 0.3298752\ttotal: 137ms\tremaining: 1.32s\n",
      "94:\tlearn: 0.3275870\ttotal: 137ms\tremaining: 1.31s\n",
      "95:\tlearn: 0.3266077\ttotal: 138ms\tremaining: 1.3s\n",
      "96:\tlearn: 0.3245090\ttotal: 139ms\tremaining: 1.29s\n",
      "97:\tlearn: 0.3227834\ttotal: 140ms\tremaining: 1.29s\n",
      "98:\tlearn: 0.3209125\ttotal: 141ms\tremaining: 1.28s\n",
      "99:\tlearn: 0.3195666\ttotal: 141ms\tremaining: 1.27s\n",
      "100:\tlearn: 0.3176761\ttotal: 142ms\tremaining: 1.27s\n",
      "101:\tlearn: 0.3161746\ttotal: 143ms\tremaining: 1.26s\n",
      "102:\tlearn: 0.3147231\ttotal: 144ms\tremaining: 1.25s\n",
      "103:\tlearn: 0.3136820\ttotal: 145ms\tremaining: 1.25s\n",
      "104:\tlearn: 0.3118837\ttotal: 146ms\tremaining: 1.24s\n",
      "105:\tlearn: 0.3105818\ttotal: 146ms\tremaining: 1.23s\n",
      "106:\tlearn: 0.3086723\ttotal: 147ms\tremaining: 1.23s\n",
      "107:\tlearn: 0.3064691\ttotal: 148ms\tremaining: 1.22s\n",
      "108:\tlearn: 0.3049949\ttotal: 149ms\tremaining: 1.22s\n",
      "109:\tlearn: 0.3039248\ttotal: 150ms\tremaining: 1.21s\n",
      "110:\tlearn: 0.3022414\ttotal: 150ms\tremaining: 1.2s\n",
      "111:\tlearn: 0.3011017\ttotal: 151ms\tremaining: 1.2s\n",
      "112:\tlearn: 0.2998294\ttotal: 152ms\tremaining: 1.19s\n",
      "113:\tlearn: 0.2983682\ttotal: 153ms\tremaining: 1.19s\n",
      "114:\tlearn: 0.2969577\ttotal: 153ms\tremaining: 1.18s\n",
      "115:\tlearn: 0.2956919\ttotal: 154ms\tremaining: 1.18s\n",
      "116:\tlearn: 0.2941901\ttotal: 155ms\tremaining: 1.17s\n",
      "117:\tlearn: 0.2930917\ttotal: 156ms\tremaining: 1.17s\n",
      "118:\tlearn: 0.2922070\ttotal: 157ms\tremaining: 1.16s\n",
      "119:\tlearn: 0.2914856\ttotal: 157ms\tremaining: 1.15s\n",
      "120:\tlearn: 0.2901342\ttotal: 158ms\tremaining: 1.15s\n",
      "121:\tlearn: 0.2891329\ttotal: 159ms\tremaining: 1.14s\n",
      "122:\tlearn: 0.2880715\ttotal: 160ms\tremaining: 1.14s\n",
      "123:\tlearn: 0.2865116\ttotal: 161ms\tremaining: 1.13s\n",
      "124:\tlearn: 0.2855418\ttotal: 161ms\tremaining: 1.13s\n",
      "125:\tlearn: 0.2842269\ttotal: 162ms\tremaining: 1.12s\n",
      "126:\tlearn: 0.2833010\ttotal: 163ms\tremaining: 1.12s\n",
      "127:\tlearn: 0.2822647\ttotal: 164ms\tremaining: 1.12s\n",
      "128:\tlearn: 0.2809579\ttotal: 165ms\tremaining: 1.11s\n",
      "129:\tlearn: 0.2798027\ttotal: 166ms\tremaining: 1.11s\n",
      "130:\tlearn: 0.2789031\ttotal: 167ms\tremaining: 1.11s\n",
      "131:\tlearn: 0.2777533\ttotal: 168ms\tremaining: 1.1s\n",
      "132:\tlearn: 0.2766261\ttotal: 168ms\tremaining: 1.1s\n",
      "133:\tlearn: 0.2758188\ttotal: 169ms\tremaining: 1.09s\n",
      "134:\tlearn: 0.2746404\ttotal: 170ms\tremaining: 1.09s\n",
      "135:\tlearn: 0.2735800\ttotal: 171ms\tremaining: 1.08s\n",
      "136:\tlearn: 0.2728893\ttotal: 172ms\tremaining: 1.08s\n",
      "137:\tlearn: 0.2717036\ttotal: 173ms\tremaining: 1.08s\n",
      "138:\tlearn: 0.2705509\ttotal: 174ms\tremaining: 1.07s\n",
      "139:\tlearn: 0.2695813\ttotal: 174ms\tremaining: 1.07s\n",
      "140:\tlearn: 0.2689892\ttotal: 175ms\tremaining: 1.07s\n",
      "141:\tlearn: 0.2679302\ttotal: 176ms\tremaining: 1.06s\n",
      "142:\tlearn: 0.2666515\ttotal: 177ms\tremaining: 1.06s\n",
      "143:\tlearn: 0.2653564\ttotal: 178ms\tremaining: 1.05s\n",
      "144:\tlearn: 0.2642872\ttotal: 178ms\tremaining: 1.05s\n",
      "145:\tlearn: 0.2633966\ttotal: 179ms\tremaining: 1.05s\n",
      "146:\tlearn: 0.2624173\ttotal: 180ms\tremaining: 1.04s\n",
      "147:\tlearn: 0.2615760\ttotal: 181ms\tremaining: 1.04s\n",
      "148:\tlearn: 0.2610869\ttotal: 182ms\tremaining: 1.04s\n",
      "149:\tlearn: 0.2603776\ttotal: 182ms\tremaining: 1.03s\n",
      "150:\tlearn: 0.2590773\ttotal: 183ms\tremaining: 1.03s\n",
      "151:\tlearn: 0.2583471\ttotal: 184ms\tremaining: 1.03s\n",
      "152:\tlearn: 0.2576797\ttotal: 185ms\tremaining: 1.02s\n",
      "153:\tlearn: 0.2567014\ttotal: 186ms\tremaining: 1.02s\n",
      "154:\tlearn: 0.2556879\ttotal: 188ms\tremaining: 1.02s\n",
      "155:\tlearn: 0.2548003\ttotal: 189ms\tremaining: 1.02s\n",
      "156:\tlearn: 0.2539040\ttotal: 190ms\tremaining: 1.02s\n",
      "157:\tlearn: 0.2527638\ttotal: 191ms\tremaining: 1.02s\n"
     ]
    },
    {
     "name": "stdout",
     "output_type": "stream",
     "text": [
      "158:\tlearn: 0.2520539\ttotal: 192ms\tremaining: 1.01s\n",
      "159:\tlearn: 0.2513216\ttotal: 193ms\tremaining: 1.01s\n",
      "160:\tlearn: 0.2505710\ttotal: 193ms\tremaining: 1.01s\n",
      "161:\tlearn: 0.2494334\ttotal: 194ms\tremaining: 1s\n",
      "162:\tlearn: 0.2482608\ttotal: 195ms\tremaining: 1s\n",
      "163:\tlearn: 0.2474587\ttotal: 196ms\tremaining: 999ms\n",
      "164:\tlearn: 0.2469927\ttotal: 197ms\tremaining: 996ms\n",
      "165:\tlearn: 0.2462446\ttotal: 198ms\tremaining: 993ms\n",
      "166:\tlearn: 0.2456190\ttotal: 198ms\tremaining: 990ms\n",
      "167:\tlearn: 0.2444956\ttotal: 199ms\tremaining: 987ms\n",
      "168:\tlearn: 0.2438962\ttotal: 200ms\tremaining: 983ms\n",
      "169:\tlearn: 0.2432602\ttotal: 201ms\tremaining: 980ms\n",
      "170:\tlearn: 0.2425983\ttotal: 201ms\tremaining: 977ms\n",
      "171:\tlearn: 0.2421072\ttotal: 202ms\tremaining: 974ms\n",
      "172:\tlearn: 0.2414332\ttotal: 203ms\tremaining: 971ms\n",
      "173:\tlearn: 0.2407278\ttotal: 204ms\tremaining: 968ms\n",
      "174:\tlearn: 0.2400324\ttotal: 205ms\tremaining: 965ms\n",
      "175:\tlearn: 0.2393957\ttotal: 205ms\tremaining: 962ms\n",
      "176:\tlearn: 0.2387817\ttotal: 206ms\tremaining: 959ms\n",
      "177:\tlearn: 0.2382582\ttotal: 207ms\tremaining: 957ms\n",
      "178:\tlearn: 0.2376604\ttotal: 208ms\tremaining: 954ms\n",
      "179:\tlearn: 0.2370986\ttotal: 209ms\tremaining: 951ms\n",
      "180:\tlearn: 0.2362120\ttotal: 210ms\tremaining: 949ms\n",
      "181:\tlearn: 0.2357939\ttotal: 211ms\tremaining: 947ms\n",
      "182:\tlearn: 0.2350538\ttotal: 212ms\tremaining: 944ms\n",
      "183:\tlearn: 0.2344457\ttotal: 212ms\tremaining: 942ms\n",
      "184:\tlearn: 0.2334741\ttotal: 213ms\tremaining: 939ms\n",
      "185:\tlearn: 0.2327060\ttotal: 214ms\tremaining: 936ms\n",
      "186:\tlearn: 0.2321484\ttotal: 215ms\tremaining: 934ms\n",
      "187:\tlearn: 0.2315272\ttotal: 216ms\tremaining: 931ms\n",
      "188:\tlearn: 0.2309509\ttotal: 216ms\tremaining: 928ms\n",
      "189:\tlearn: 0.2303028\ttotal: 217ms\tremaining: 925ms\n",
      "190:\tlearn: 0.2297092\ttotal: 218ms\tremaining: 923ms\n",
      "191:\tlearn: 0.2290646\ttotal: 219ms\tremaining: 920ms\n",
      "192:\tlearn: 0.2283423\ttotal: 219ms\tremaining: 917ms\n",
      "193:\tlearn: 0.2279034\ttotal: 220ms\tremaining: 915ms\n",
      "194:\tlearn: 0.2272735\ttotal: 221ms\tremaining: 912ms\n",
      "195:\tlearn: 0.2266635\ttotal: 222ms\tremaining: 910ms\n",
      "196:\tlearn: 0.2263104\ttotal: 223ms\tremaining: 908ms\n",
      "197:\tlearn: 0.2257847\ttotal: 224ms\tremaining: 906ms\n",
      "198:\tlearn: 0.2253029\ttotal: 225ms\tremaining: 904ms\n",
      "199:\tlearn: 0.2247412\ttotal: 225ms\tremaining: 901ms\n",
      "200:\tlearn: 0.2241908\ttotal: 226ms\tremaining: 899ms\n",
      "201:\tlearn: 0.2236390\ttotal: 227ms\tremaining: 896ms\n",
      "202:\tlearn: 0.2231146\ttotal: 228ms\tremaining: 894ms\n",
      "203:\tlearn: 0.2225382\ttotal: 229ms\tremaining: 892ms\n",
      "204:\tlearn: 0.2218694\ttotal: 229ms\tremaining: 889ms\n",
      "205:\tlearn: 0.2214051\ttotal: 230ms\tremaining: 887ms\n",
      "206:\tlearn: 0.2207585\ttotal: 231ms\tremaining: 885ms\n",
      "207:\tlearn: 0.2201354\ttotal: 232ms\tremaining: 883ms\n",
      "208:\tlearn: 0.2194172\ttotal: 233ms\tremaining: 881ms\n",
      "209:\tlearn: 0.2189650\ttotal: 234ms\tremaining: 879ms\n",
      "210:\tlearn: 0.2182002\ttotal: 235ms\tremaining: 877ms\n",
      "211:\tlearn: 0.2176308\ttotal: 236ms\tremaining: 876ms\n",
      "212:\tlearn: 0.2169775\ttotal: 236ms\tremaining: 874ms\n",
      "213:\tlearn: 0.2165815\ttotal: 237ms\tremaining: 872ms\n",
      "214:\tlearn: 0.2159517\ttotal: 238ms\tremaining: 869ms\n",
      "215:\tlearn: 0.2152599\ttotal: 239ms\tremaining: 867ms\n",
      "216:\tlearn: 0.2148637\ttotal: 240ms\tremaining: 865ms\n",
      "217:\tlearn: 0.2141329\ttotal: 241ms\tremaining: 863ms\n",
      "218:\tlearn: 0.2135058\ttotal: 241ms\tremaining: 860ms\n",
      "219:\tlearn: 0.2127551\ttotal: 242ms\tremaining: 858ms\n",
      "220:\tlearn: 0.2121509\ttotal: 243ms\tremaining: 856ms\n",
      "221:\tlearn: 0.2117871\ttotal: 244ms\tremaining: 854ms\n",
      "222:\tlearn: 0.2111212\ttotal: 245ms\tremaining: 852ms\n",
      "223:\tlearn: 0.2107076\ttotal: 245ms\tremaining: 850ms\n",
      "224:\tlearn: 0.2100610\ttotal: 246ms\tremaining: 848ms\n",
      "225:\tlearn: 0.2096030\ttotal: 247ms\tremaining: 846ms\n",
      "226:\tlearn: 0.2092164\ttotal: 248ms\tremaining: 843ms\n",
      "227:\tlearn: 0.2089543\ttotal: 249ms\tremaining: 842ms\n",
      "228:\tlearn: 0.2084626\ttotal: 249ms\tremaining: 839ms\n",
      "229:\tlearn: 0.2079742\ttotal: 250ms\tremaining: 838ms\n",
      "230:\tlearn: 0.2074903\ttotal: 251ms\tremaining: 835ms\n",
      "231:\tlearn: 0.2070402\ttotal: 252ms\tremaining: 833ms\n",
      "232:\tlearn: 0.2066309\ttotal: 252ms\tremaining: 831ms\n",
      "233:\tlearn: 0.2059102\ttotal: 253ms\tremaining: 829ms\n",
      "234:\tlearn: 0.2054142\ttotal: 254ms\tremaining: 827ms\n",
      "235:\tlearn: 0.2047219\ttotal: 255ms\tremaining: 825ms\n",
      "236:\tlearn: 0.2043318\ttotal: 256ms\tremaining: 823ms\n",
      "237:\tlearn: 0.2038168\ttotal: 256ms\tremaining: 821ms\n",
      "238:\tlearn: 0.2034549\ttotal: 257ms\tremaining: 819ms\n",
      "239:\tlearn: 0.2031360\ttotal: 258ms\tremaining: 817ms\n",
      "240:\tlearn: 0.2027612\ttotal: 259ms\tremaining: 815ms\n",
      "241:\tlearn: 0.2023232\ttotal: 260ms\tremaining: 813ms\n",
      "242:\tlearn: 0.2017680\ttotal: 260ms\tremaining: 811ms\n",
      "243:\tlearn: 0.2013181\ttotal: 261ms\tremaining: 809ms\n",
      "244:\tlearn: 0.2009839\ttotal: 262ms\tremaining: 807ms\n",
      "245:\tlearn: 0.2005248\ttotal: 263ms\tremaining: 805ms\n",
      "246:\tlearn: 0.1999235\ttotal: 263ms\tremaining: 803ms\n",
      "247:\tlearn: 0.1994728\ttotal: 264ms\tremaining: 801ms\n",
      "248:\tlearn: 0.1990962\ttotal: 265ms\tremaining: 800ms\n",
      "249:\tlearn: 0.1985959\ttotal: 266ms\tremaining: 798ms\n",
      "250:\tlearn: 0.1981868\ttotal: 267ms\tremaining: 796ms\n",
      "251:\tlearn: 0.1976985\ttotal: 268ms\tremaining: 795ms\n",
      "252:\tlearn: 0.1973704\ttotal: 269ms\tremaining: 793ms\n",
      "253:\tlearn: 0.1971850\ttotal: 269ms\tremaining: 791ms\n",
      "254:\tlearn: 0.1967646\ttotal: 270ms\tremaining: 789ms\n",
      "255:\tlearn: 0.1960549\ttotal: 271ms\tremaining: 787ms\n",
      "256:\tlearn: 0.1955500\ttotal: 272ms\tremaining: 786ms\n",
      "257:\tlearn: 0.1952963\ttotal: 272ms\tremaining: 784ms\n",
      "258:\tlearn: 0.1949356\ttotal: 273ms\tremaining: 782ms\n",
      "259:\tlearn: 0.1943626\ttotal: 274ms\tremaining: 780ms\n",
      "260:\tlearn: 0.1940284\ttotal: 275ms\tremaining: 778ms\n",
      "261:\tlearn: 0.1936441\ttotal: 276ms\tremaining: 776ms\n",
      "262:\tlearn: 0.1932939\ttotal: 276ms\tremaining: 774ms\n",
      "263:\tlearn: 0.1929666\ttotal: 277ms\tremaining: 773ms\n",
      "264:\tlearn: 0.1926025\ttotal: 278ms\tremaining: 771ms\n",
      "265:\tlearn: 0.1921591\ttotal: 279ms\tremaining: 770ms\n",
      "266:\tlearn: 0.1917588\ttotal: 280ms\tremaining: 769ms\n",
      "267:\tlearn: 0.1912903\ttotal: 281ms\tremaining: 767ms\n",
      "268:\tlearn: 0.1909999\ttotal: 282ms\tremaining: 766ms\n",
      "269:\tlearn: 0.1906226\ttotal: 283ms\tremaining: 764ms\n",
      "270:\tlearn: 0.1901316\ttotal: 284ms\tremaining: 763ms\n",
      "271:\tlearn: 0.1896137\ttotal: 284ms\tremaining: 761ms\n",
      "272:\tlearn: 0.1890799\ttotal: 285ms\tremaining: 759ms\n",
      "273:\tlearn: 0.1885460\ttotal: 286ms\tremaining: 758ms\n",
      "274:\tlearn: 0.1881230\ttotal: 287ms\tremaining: 756ms\n",
      "275:\tlearn: 0.1875615\ttotal: 288ms\tremaining: 754ms\n",
      "276:\tlearn: 0.1872875\ttotal: 288ms\tremaining: 753ms\n",
      "277:\tlearn: 0.1868111\ttotal: 289ms\tremaining: 751ms\n",
      "278:\tlearn: 0.1863765\ttotal: 290ms\tremaining: 749ms\n",
      "279:\tlearn: 0.1859807\ttotal: 290ms\tremaining: 747ms\n",
      "280:\tlearn: 0.1857298\ttotal: 291ms\tremaining: 745ms\n",
      "281:\tlearn: 0.1853038\ttotal: 292ms\tremaining: 743ms\n",
      "282:\tlearn: 0.1847273\ttotal: 292ms\tremaining: 741ms\n",
      "283:\tlearn: 0.1843857\ttotal: 293ms\tremaining: 740ms\n",
      "284:\tlearn: 0.1840003\ttotal: 294ms\tremaining: 738ms\n",
      "285:\tlearn: 0.1834853\ttotal: 295ms\tremaining: 737ms\n",
      "286:\tlearn: 0.1830646\ttotal: 296ms\tremaining: 736ms\n",
      "287:\tlearn: 0.1825858\ttotal: 297ms\tremaining: 735ms\n",
      "288:\tlearn: 0.1822594\ttotal: 298ms\tremaining: 734ms\n"
     ]
    },
    {
     "name": "stdout",
     "output_type": "stream",
     "text": [
      "289:\tlearn: 0.1819641\ttotal: 299ms\tremaining: 733ms\n",
      "290:\tlearn: 0.1815854\ttotal: 300ms\tremaining: 732ms\n",
      "291:\tlearn: 0.1812444\ttotal: 302ms\tremaining: 731ms\n",
      "292:\tlearn: 0.1808374\ttotal: 303ms\tremaining: 730ms\n",
      "293:\tlearn: 0.1805431\ttotal: 304ms\tremaining: 729ms\n",
      "294:\tlearn: 0.1802226\ttotal: 305ms\tremaining: 729ms\n",
      "295:\tlearn: 0.1799748\ttotal: 306ms\tremaining: 727ms\n",
      "296:\tlearn: 0.1797313\ttotal: 307ms\tremaining: 726ms\n",
      "297:\tlearn: 0.1795322\ttotal: 308ms\tremaining: 725ms\n",
      "298:\tlearn: 0.1793083\ttotal: 309ms\tremaining: 723ms\n",
      "299:\tlearn: 0.1789790\ttotal: 309ms\tremaining: 722ms\n",
      "300:\tlearn: 0.1787873\ttotal: 310ms\tremaining: 721ms\n",
      "301:\tlearn: 0.1783528\ttotal: 311ms\tremaining: 719ms\n",
      "302:\tlearn: 0.1778629\ttotal: 312ms\tremaining: 717ms\n",
      "303:\tlearn: 0.1776879\ttotal: 313ms\tremaining: 716ms\n",
      "304:\tlearn: 0.1772030\ttotal: 313ms\tremaining: 714ms\n",
      "305:\tlearn: 0.1766571\ttotal: 314ms\tremaining: 713ms\n",
      "306:\tlearn: 0.1763500\ttotal: 315ms\tremaining: 711ms\n",
      "307:\tlearn: 0.1761496\ttotal: 316ms\tremaining: 710ms\n",
      "308:\tlearn: 0.1760233\ttotal: 317ms\tremaining: 709ms\n",
      "309:\tlearn: 0.1759010\ttotal: 318ms\tremaining: 707ms\n",
      "310:\tlearn: 0.1755291\ttotal: 319ms\tremaining: 706ms\n",
      "311:\tlearn: 0.1751034\ttotal: 320ms\tremaining: 705ms\n",
      "312:\tlearn: 0.1746191\ttotal: 320ms\tremaining: 703ms\n",
      "313:\tlearn: 0.1744241\ttotal: 321ms\tremaining: 702ms\n",
      "314:\tlearn: 0.1743228\ttotal: 322ms\tremaining: 700ms\n",
      "315:\tlearn: 0.1739803\ttotal: 323ms\tremaining: 699ms\n",
      "316:\tlearn: 0.1737114\ttotal: 324ms\tremaining: 698ms\n",
      "317:\tlearn: 0.1735386\ttotal: 325ms\tremaining: 696ms\n",
      "318:\tlearn: 0.1731934\ttotal: 326ms\tremaining: 695ms\n",
      "319:\tlearn: 0.1727306\ttotal: 326ms\tremaining: 694ms\n",
      "320:\tlearn: 0.1721717\ttotal: 327ms\tremaining: 692ms\n",
      "321:\tlearn: 0.1718785\ttotal: 328ms\tremaining: 691ms\n",
      "322:\tlearn: 0.1715338\ttotal: 329ms\tremaining: 689ms\n",
      "323:\tlearn: 0.1712474\ttotal: 330ms\tremaining: 688ms\n",
      "324:\tlearn: 0.1706163\ttotal: 330ms\tremaining: 686ms\n",
      "325:\tlearn: 0.1701694\ttotal: 331ms\tremaining: 685ms\n",
      "326:\tlearn: 0.1698089\ttotal: 332ms\tremaining: 684ms\n",
      "327:\tlearn: 0.1696092\ttotal: 333ms\tremaining: 682ms\n",
      "328:\tlearn: 0.1692821\ttotal: 334ms\tremaining: 681ms\n",
      "329:\tlearn: 0.1691226\ttotal: 335ms\tremaining: 680ms\n",
      "330:\tlearn: 0.1688621\ttotal: 336ms\tremaining: 678ms\n",
      "331:\tlearn: 0.1687424\ttotal: 336ms\tremaining: 677ms\n",
      "332:\tlearn: 0.1686303\ttotal: 337ms\tremaining: 675ms\n",
      "333:\tlearn: 0.1685676\ttotal: 338ms\tremaining: 674ms\n",
      "334:\tlearn: 0.1685219\ttotal: 339ms\tremaining: 672ms\n",
      "335:\tlearn: 0.1682534\ttotal: 340ms\tremaining: 671ms\n",
      "336:\tlearn: 0.1681349\ttotal: 340ms\tremaining: 670ms\n",
      "337:\tlearn: 0.1681005\ttotal: 341ms\tremaining: 668ms\n",
      "338:\tlearn: 0.1679699\ttotal: 342ms\tremaining: 667ms\n",
      "339:\tlearn: 0.1679215\ttotal: 343ms\tremaining: 666ms\n",
      "340:\tlearn: 0.1677587\ttotal: 344ms\tremaining: 664ms\n",
      "341:\tlearn: 0.1676472\ttotal: 345ms\tremaining: 664ms\n",
      "342:\tlearn: 0.1674179\ttotal: 346ms\tremaining: 662ms\n",
      "343:\tlearn: 0.1672769\ttotal: 346ms\tremaining: 661ms\n",
      "344:\tlearn: 0.1672381\ttotal: 347ms\tremaining: 659ms\n",
      "345:\tlearn: 0.1670540\ttotal: 348ms\tremaining: 658ms\n",
      "346:\tlearn: 0.1666906\ttotal: 349ms\tremaining: 656ms\n",
      "347:\tlearn: 0.1666391\ttotal: 350ms\tremaining: 655ms\n",
      "348:\tlearn: 0.1664413\ttotal: 350ms\tremaining: 654ms\n",
      "349:\tlearn: 0.1663638\ttotal: 351ms\tremaining: 652ms\n",
      "350:\tlearn: 0.1663274\ttotal: 352ms\tremaining: 651ms\n",
      "351:\tlearn: 0.1660897\ttotal: 353ms\tremaining: 650ms\n",
      "352:\tlearn: 0.1659855\ttotal: 354ms\tremaining: 649ms\n",
      "353:\tlearn: 0.1658688\ttotal: 355ms\tremaining: 647ms\n",
      "354:\tlearn: 0.1654747\ttotal: 356ms\tremaining: 646ms\n",
      "355:\tlearn: 0.1653429\ttotal: 356ms\tremaining: 645ms\n",
      "356:\tlearn: 0.1652707\ttotal: 357ms\tremaining: 643ms\n",
      "357:\tlearn: 0.1648726\ttotal: 358ms\tremaining: 642ms\n",
      "358:\tlearn: 0.1646928\ttotal: 360ms\tremaining: 642ms\n",
      "359:\tlearn: 0.1642564\ttotal: 360ms\tremaining: 641ms\n",
      "360:\tlearn: 0.1639266\ttotal: 361ms\tremaining: 639ms\n",
      "361:\tlearn: 0.1635058\ttotal: 362ms\tremaining: 638ms\n",
      "362:\tlearn: 0.1633764\ttotal: 363ms\tremaining: 637ms\n",
      "363:\tlearn: 0.1627985\ttotal: 364ms\tremaining: 635ms\n",
      "364:\tlearn: 0.1625747\ttotal: 365ms\tremaining: 634ms\n",
      "365:\tlearn: 0.1625035\ttotal: 365ms\tremaining: 633ms\n",
      "366:\tlearn: 0.1622620\ttotal: 366ms\tremaining: 631ms\n",
      "367:\tlearn: 0.1621243\ttotal: 367ms\tremaining: 630ms\n",
      "368:\tlearn: 0.1620303\ttotal: 368ms\tremaining: 629ms\n",
      "369:\tlearn: 0.1617076\ttotal: 368ms\tremaining: 627ms\n",
      "370:\tlearn: 0.1615344\ttotal: 369ms\tremaining: 626ms\n",
      "371:\tlearn: 0.1614000\ttotal: 370ms\tremaining: 625ms\n",
      "372:\tlearn: 0.1611830\ttotal: 371ms\tremaining: 624ms\n",
      "373:\tlearn: 0.1608522\ttotal: 372ms\tremaining: 622ms\n",
      "374:\tlearn: 0.1605128\ttotal: 373ms\tremaining: 621ms\n",
      "375:\tlearn: 0.1600294\ttotal: 374ms\tremaining: 620ms\n",
      "376:\tlearn: 0.1597599\ttotal: 374ms\tremaining: 619ms\n",
      "377:\tlearn: 0.1593453\ttotal: 375ms\tremaining: 617ms\n",
      "378:\tlearn: 0.1591201\ttotal: 376ms\tremaining: 616ms\n",
      "379:\tlearn: 0.1589894\ttotal: 377ms\tremaining: 614ms\n",
      "380:\tlearn: 0.1588598\ttotal: 377ms\tremaining: 613ms\n",
      "381:\tlearn: 0.1587929\ttotal: 378ms\tremaining: 612ms\n",
      "382:\tlearn: 0.1583724\ttotal: 379ms\tremaining: 610ms\n",
      "383:\tlearn: 0.1581647\ttotal: 380ms\tremaining: 609ms\n",
      "384:\tlearn: 0.1578758\ttotal: 380ms\tremaining: 608ms\n"
     ]
    },
    {
     "name": "stdout",
     "output_type": "stream",
     "text": [
      "385:\tlearn: 0.1578229\ttotal: 382ms\tremaining: 607ms\n",
      "386:\tlearn: 0.1576034\ttotal: 383ms\tremaining: 606ms\n",
      "387:\tlearn: 0.1571105\ttotal: 384ms\tremaining: 605ms\n",
      "388:\tlearn: 0.1569976\ttotal: 385ms\tremaining: 604ms\n",
      "389:\tlearn: 0.1569536\ttotal: 385ms\tremaining: 603ms\n",
      "390:\tlearn: 0.1568051\ttotal: 386ms\tremaining: 602ms\n",
      "391:\tlearn: 0.1564207\ttotal: 387ms\tremaining: 600ms\n",
      "392:\tlearn: 0.1563860\ttotal: 388ms\tremaining: 599ms\n",
      "393:\tlearn: 0.1562592\ttotal: 389ms\tremaining: 598ms\n",
      "394:\tlearn: 0.1562282\ttotal: 389ms\tremaining: 597ms\n",
      "395:\tlearn: 0.1559835\ttotal: 390ms\tremaining: 595ms\n",
      "396:\tlearn: 0.1557380\ttotal: 391ms\tremaining: 594ms\n",
      "397:\tlearn: 0.1557142\ttotal: 392ms\tremaining: 593ms\n",
      "398:\tlearn: 0.1552255\ttotal: 393ms\tremaining: 591ms\n",
      "399:\tlearn: 0.1550052\ttotal: 393ms\tremaining: 590ms\n",
      "400:\tlearn: 0.1548476\ttotal: 394ms\tremaining: 589ms\n",
      "401:\tlearn: 0.1545014\ttotal: 395ms\tremaining: 588ms\n",
      "402:\tlearn: 0.1541583\ttotal: 396ms\tremaining: 587ms\n",
      "403:\tlearn: 0.1538960\ttotal: 397ms\tremaining: 586ms\n",
      "404:\tlearn: 0.1534782\ttotal: 398ms\tremaining: 585ms\n",
      "405:\tlearn: 0.1531346\ttotal: 399ms\tremaining: 584ms\n",
      "406:\tlearn: 0.1530783\ttotal: 400ms\tremaining: 582ms\n",
      "407:\tlearn: 0.1530552\ttotal: 401ms\tremaining: 581ms\n",
      "408:\tlearn: 0.1528260\ttotal: 401ms\tremaining: 580ms\n",
      "409:\tlearn: 0.1526046\ttotal: 402ms\tremaining: 579ms\n",
      "410:\tlearn: 0.1522954\ttotal: 403ms\tremaining: 578ms\n",
      "411:\tlearn: 0.1518675\ttotal: 404ms\tremaining: 576ms\n",
      "412:\tlearn: 0.1516789\ttotal: 405ms\tremaining: 575ms\n",
      "413:\tlearn: 0.1514496\ttotal: 405ms\tremaining: 574ms\n",
      "414:\tlearn: 0.1512028\ttotal: 406ms\tremaining: 573ms\n",
      "415:\tlearn: 0.1510919\ttotal: 407ms\tremaining: 572ms\n",
      "416:\tlearn: 0.1508852\ttotal: 408ms\tremaining: 570ms\n",
      "417:\tlearn: 0.1505473\ttotal: 409ms\tremaining: 569ms\n",
      "418:\tlearn: 0.1504930\ttotal: 410ms\tremaining: 568ms\n",
      "419:\tlearn: 0.1502586\ttotal: 410ms\tremaining: 567ms\n",
      "420:\tlearn: 0.1500638\ttotal: 411ms\tremaining: 566ms\n",
      "421:\tlearn: 0.1498869\ttotal: 412ms\tremaining: 564ms\n",
      "422:\tlearn: 0.1498009\ttotal: 413ms\tremaining: 563ms\n",
      "423:\tlearn: 0.1494734\ttotal: 414ms\tremaining: 562ms\n",
      "424:\tlearn: 0.1491031\ttotal: 414ms\tremaining: 561ms\n",
      "425:\tlearn: 0.1488282\ttotal: 415ms\tremaining: 560ms\n",
      "426:\tlearn: 0.1486619\ttotal: 416ms\tremaining: 558ms\n",
      "427:\tlearn: 0.1486310\ttotal: 417ms\tremaining: 557ms\n",
      "428:\tlearn: 0.1484468\ttotal: 418ms\tremaining: 556ms\n",
      "429:\tlearn: 0.1482476\ttotal: 419ms\tremaining: 555ms\n",
      "430:\tlearn: 0.1480734\ttotal: 419ms\tremaining: 554ms\n",
      "431:\tlearn: 0.1480236\ttotal: 420ms\tremaining: 552ms\n",
      "432:\tlearn: 0.1477528\ttotal: 421ms\tremaining: 551ms\n",
      "433:\tlearn: 0.1473186\ttotal: 422ms\tremaining: 550ms\n",
      "434:\tlearn: 0.1469278\ttotal: 423ms\tremaining: 549ms\n",
      "435:\tlearn: 0.1468915\ttotal: 424ms\tremaining: 549ms\n",
      "436:\tlearn: 0.1467321\ttotal: 425ms\tremaining: 548ms\n",
      "437:\tlearn: 0.1462982\ttotal: 426ms\tremaining: 546ms\n",
      "438:\tlearn: 0.1459183\ttotal: 427ms\tremaining: 545ms\n",
      "439:\tlearn: 0.1456273\ttotal: 427ms\tremaining: 544ms\n",
      "440:\tlearn: 0.1453288\ttotal: 428ms\tremaining: 543ms\n",
      "441:\tlearn: 0.1452048\ttotal: 429ms\tremaining: 542ms\n",
      "442:\tlearn: 0.1449186\ttotal: 430ms\tremaining: 541ms\n",
      "443:\tlearn: 0.1445157\ttotal: 431ms\tremaining: 539ms\n",
      "444:\tlearn: 0.1442366\ttotal: 431ms\tremaining: 538ms\n",
      "445:\tlearn: 0.1438645\ttotal: 432ms\tremaining: 537ms\n",
      "446:\tlearn: 0.1435155\ttotal: 433ms\tremaining: 536ms\n",
      "447:\tlearn: 0.1430409\ttotal: 434ms\tremaining: 535ms\n",
      "448:\tlearn: 0.1427392\ttotal: 435ms\tremaining: 534ms\n",
      "449:\tlearn: 0.1424146\ttotal: 436ms\tremaining: 532ms\n",
      "450:\tlearn: 0.1423670\ttotal: 436ms\tremaining: 531ms\n",
      "451:\tlearn: 0.1421726\ttotal: 437ms\tremaining: 530ms\n",
      "452:\tlearn: 0.1418240\ttotal: 438ms\tremaining: 529ms\n",
      "453:\tlearn: 0.1414642\ttotal: 439ms\tremaining: 528ms\n",
      "454:\tlearn: 0.1411396\ttotal: 440ms\tremaining: 526ms\n",
      "455:\tlearn: 0.1407116\ttotal: 440ms\tremaining: 525ms\n",
      "456:\tlearn: 0.1405616\ttotal: 441ms\tremaining: 524ms\n",
      "457:\tlearn: 0.1404255\ttotal: 442ms\tremaining: 523ms\n",
      "458:\tlearn: 0.1402104\ttotal: 443ms\tremaining: 522ms\n",
      "459:\tlearn: 0.1400359\ttotal: 444ms\tremaining: 521ms\n",
      "460:\tlearn: 0.1398203\ttotal: 444ms\tremaining: 520ms\n",
      "461:\tlearn: 0.1393462\ttotal: 445ms\tremaining: 519ms\n",
      "462:\tlearn: 0.1392462\ttotal: 446ms\tremaining: 517ms\n",
      "463:\tlearn: 0.1392150\ttotal: 447ms\tremaining: 516ms\n",
      "464:\tlearn: 0.1388356\ttotal: 448ms\tremaining: 515ms\n",
      "465:\tlearn: 0.1385514\ttotal: 449ms\tremaining: 514ms\n",
      "466:\tlearn: 0.1382171\ttotal: 449ms\tremaining: 513ms\n",
      "467:\tlearn: 0.1381441\ttotal: 450ms\tremaining: 512ms\n",
      "468:\tlearn: 0.1381000\ttotal: 451ms\tremaining: 511ms\n",
      "469:\tlearn: 0.1377622\ttotal: 452ms\tremaining: 510ms\n",
      "470:\tlearn: 0.1375931\ttotal: 453ms\tremaining: 509ms\n",
      "471:\tlearn: 0.1372841\ttotal: 454ms\tremaining: 507ms\n",
      "472:\tlearn: 0.1370801\ttotal: 455ms\tremaining: 506ms\n",
      "473:\tlearn: 0.1370530\ttotal: 455ms\tremaining: 505ms\n",
      "474:\tlearn: 0.1366393\ttotal: 456ms\tremaining: 504ms\n",
      "475:\tlearn: 0.1363609\ttotal: 457ms\tremaining: 503ms\n",
      "476:\tlearn: 0.1363326\ttotal: 458ms\tremaining: 502ms\n",
      "477:\tlearn: 0.1362967\ttotal: 459ms\tremaining: 501ms\n",
      "478:\tlearn: 0.1359610\ttotal: 459ms\tremaining: 500ms\n",
      "479:\tlearn: 0.1357491\ttotal: 460ms\tremaining: 498ms\n",
      "480:\tlearn: 0.1355218\ttotal: 461ms\tremaining: 497ms\n",
      "481:\tlearn: 0.1354977\ttotal: 462ms\tremaining: 496ms\n",
      "482:\tlearn: 0.1351626\ttotal: 463ms\tremaining: 495ms\n",
      "483:\tlearn: 0.1350112\ttotal: 463ms\tremaining: 494ms\n",
      "484:\tlearn: 0.1346451\ttotal: 464ms\tremaining: 493ms\n",
      "485:\tlearn: 0.1343953\ttotal: 465ms\tremaining: 492ms\n",
      "486:\tlearn: 0.1340039\ttotal: 466ms\tremaining: 491ms\n",
      "487:\tlearn: 0.1338329\ttotal: 467ms\tremaining: 490ms\n",
      "488:\tlearn: 0.1336708\ttotal: 467ms\tremaining: 489ms\n",
      "489:\tlearn: 0.1335715\ttotal: 468ms\tremaining: 487ms\n",
      "490:\tlearn: 0.1332159\ttotal: 469ms\tremaining: 486ms\n",
      "491:\tlearn: 0.1330534\ttotal: 470ms\tremaining: 485ms\n",
      "492:\tlearn: 0.1328597\ttotal: 471ms\tremaining: 484ms\n",
      "493:\tlearn: 0.1327334\ttotal: 471ms\tremaining: 483ms\n",
      "494:\tlearn: 0.1324191\ttotal: 472ms\tremaining: 482ms\n",
      "495:\tlearn: 0.1321954\ttotal: 473ms\tremaining: 481ms\n",
      "496:\tlearn: 0.1320382\ttotal: 474ms\tremaining: 479ms\n",
      "497:\tlearn: 0.1317343\ttotal: 474ms\tremaining: 478ms\n",
      "498:\tlearn: 0.1314808\ttotal: 476ms\tremaining: 478ms\n",
      "499:\tlearn: 0.1313337\ttotal: 477ms\tremaining: 477ms\n",
      "500:\tlearn: 0.1310129\ttotal: 477ms\tremaining: 476ms\n",
      "501:\tlearn: 0.1306870\ttotal: 478ms\tremaining: 474ms\n",
      "502:\tlearn: 0.1302772\ttotal: 479ms\tremaining: 473ms\n",
      "503:\tlearn: 0.1301580\ttotal: 480ms\tremaining: 472ms\n",
      "504:\tlearn: 0.1301365\ttotal: 481ms\tremaining: 471ms\n",
      "505:\tlearn: 0.1299758\ttotal: 482ms\tremaining: 470ms\n",
      "506:\tlearn: 0.1298197\ttotal: 483ms\tremaining: 469ms\n",
      "507:\tlearn: 0.1295590\ttotal: 484ms\tremaining: 468ms\n",
      "508:\tlearn: 0.1293825\ttotal: 484ms\tremaining: 467ms\n",
      "509:\tlearn: 0.1291103\ttotal: 485ms\tremaining: 466ms\n",
      "510:\tlearn: 0.1288827\ttotal: 486ms\tremaining: 465ms\n",
      "511:\tlearn: 0.1286587\ttotal: 487ms\tremaining: 465ms\n",
      "512:\tlearn: 0.1284434\ttotal: 488ms\tremaining: 463ms\n",
      "513:\tlearn: 0.1281204\ttotal: 489ms\tremaining: 462ms\n"
     ]
    },
    {
     "name": "stdout",
     "output_type": "stream",
     "text": [
      "514:\tlearn: 0.1277895\ttotal: 490ms\tremaining: 462ms\n",
      "515:\tlearn: 0.1275458\ttotal: 491ms\tremaining: 461ms\n",
      "516:\tlearn: 0.1271790\ttotal: 492ms\tremaining: 460ms\n",
      "517:\tlearn: 0.1270786\ttotal: 493ms\tremaining: 459ms\n",
      "518:\tlearn: 0.1267004\ttotal: 494ms\tremaining: 458ms\n",
      "519:\tlearn: 0.1266658\ttotal: 495ms\tremaining: 457ms\n",
      "520:\tlearn: 0.1265796\ttotal: 496ms\tremaining: 456ms\n",
      "521:\tlearn: 0.1263465\ttotal: 496ms\tremaining: 454ms\n",
      "522:\tlearn: 0.1260566\ttotal: 497ms\tremaining: 453ms\n",
      "523:\tlearn: 0.1257101\ttotal: 498ms\tremaining: 452ms\n",
      "524:\tlearn: 0.1255861\ttotal: 499ms\tremaining: 451ms\n",
      "525:\tlearn: 0.1254182\ttotal: 500ms\tremaining: 450ms\n",
      "526:\tlearn: 0.1251508\ttotal: 500ms\tremaining: 449ms\n",
      "527:\tlearn: 0.1250486\ttotal: 501ms\tremaining: 448ms\n",
      "528:\tlearn: 0.1247146\ttotal: 502ms\tremaining: 447ms\n",
      "529:\tlearn: 0.1244906\ttotal: 503ms\tremaining: 446ms\n",
      "530:\tlearn: 0.1242186\ttotal: 504ms\tremaining: 445ms\n",
      "531:\tlearn: 0.1238118\ttotal: 505ms\tremaining: 444ms\n",
      "532:\tlearn: 0.1237544\ttotal: 506ms\tremaining: 443ms\n",
      "533:\tlearn: 0.1236290\ttotal: 506ms\tremaining: 442ms\n",
      "534:\tlearn: 0.1232970\ttotal: 507ms\tremaining: 441ms\n",
      "535:\tlearn: 0.1230952\ttotal: 508ms\tremaining: 440ms\n",
      "536:\tlearn: 0.1228804\ttotal: 509ms\tremaining: 439ms\n",
      "537:\tlearn: 0.1228239\ttotal: 510ms\tremaining: 438ms\n",
      "538:\tlearn: 0.1226420\ttotal: 510ms\tremaining: 437ms\n",
      "539:\tlearn: 0.1224130\ttotal: 511ms\tremaining: 436ms\n",
      "540:\tlearn: 0.1222623\ttotal: 512ms\tremaining: 435ms\n",
      "541:\tlearn: 0.1222001\ttotal: 513ms\tremaining: 434ms\n",
      "542:\tlearn: 0.1221051\ttotal: 514ms\tremaining: 433ms\n",
      "543:\tlearn: 0.1219463\ttotal: 515ms\tremaining: 432ms\n",
      "544:\tlearn: 0.1217495\ttotal: 516ms\tremaining: 431ms\n",
      "545:\tlearn: 0.1214692\ttotal: 517ms\tremaining: 430ms\n",
      "546:\tlearn: 0.1212474\ttotal: 517ms\tremaining: 429ms\n",
      "547:\tlearn: 0.1211873\ttotal: 518ms\tremaining: 427ms\n",
      "548:\tlearn: 0.1211506\ttotal: 519ms\tremaining: 426ms\n",
      "549:\tlearn: 0.1208421\ttotal: 520ms\tremaining: 425ms\n",
      "550:\tlearn: 0.1205098\ttotal: 521ms\tremaining: 424ms\n",
      "551:\tlearn: 0.1202929\ttotal: 522ms\tremaining: 423ms\n",
      "552:\tlearn: 0.1200035\ttotal: 522ms\tremaining: 422ms\n",
      "553:\tlearn: 0.1199562\ttotal: 523ms\tremaining: 421ms\n",
      "554:\tlearn: 0.1198675\ttotal: 524ms\tremaining: 420ms\n",
      "555:\tlearn: 0.1196405\ttotal: 525ms\tremaining: 419ms\n",
      "556:\tlearn: 0.1195031\ttotal: 526ms\tremaining: 418ms\n",
      "557:\tlearn: 0.1194836\ttotal: 527ms\tremaining: 417ms\n",
      "558:\tlearn: 0.1192308\ttotal: 527ms\tremaining: 416ms\n",
      "559:\tlearn: 0.1192141\ttotal: 528ms\tremaining: 415ms\n",
      "560:\tlearn: 0.1189873\ttotal: 529ms\tremaining: 414ms\n",
      "561:\tlearn: 0.1188104\ttotal: 530ms\tremaining: 413ms\n",
      "562:\tlearn: 0.1186666\ttotal: 531ms\tremaining: 412ms\n",
      "563:\tlearn: 0.1183681\ttotal: 532ms\tremaining: 411ms\n",
      "564:\tlearn: 0.1181271\ttotal: 532ms\tremaining: 410ms\n",
      "565:\tlearn: 0.1179905\ttotal: 533ms\tremaining: 409ms\n",
      "566:\tlearn: 0.1177693\ttotal: 534ms\tremaining: 408ms\n",
      "567:\tlearn: 0.1176070\ttotal: 535ms\tremaining: 407ms\n",
      "568:\tlearn: 0.1174159\ttotal: 536ms\tremaining: 406ms\n",
      "569:\tlearn: 0.1171330\ttotal: 537ms\tremaining: 405ms\n",
      "570:\tlearn: 0.1168291\ttotal: 537ms\tremaining: 404ms\n",
      "571:\tlearn: 0.1168109\ttotal: 538ms\tremaining: 403ms\n",
      "572:\tlearn: 0.1165897\ttotal: 539ms\tremaining: 402ms\n",
      "573:\tlearn: 0.1163808\ttotal: 540ms\tremaining: 401ms\n",
      "574:\tlearn: 0.1161598\ttotal: 540ms\tremaining: 399ms\n",
      "575:\tlearn: 0.1159583\ttotal: 541ms\tremaining: 398ms\n",
      "576:\tlearn: 0.1157854\ttotal: 542ms\tremaining: 397ms\n",
      "577:\tlearn: 0.1157366\ttotal: 543ms\tremaining: 396ms\n",
      "578:\tlearn: 0.1155053\ttotal: 544ms\tremaining: 395ms\n",
      "579:\tlearn: 0.1154924\ttotal: 545ms\tremaining: 394ms\n",
      "580:\tlearn: 0.1154694\ttotal: 546ms\tremaining: 393ms\n",
      "581:\tlearn: 0.1152499\ttotal: 546ms\tremaining: 392ms\n",
      "582:\tlearn: 0.1150928\ttotal: 547ms\tremaining: 391ms\n",
      "583:\tlearn: 0.1148894\ttotal: 548ms\tremaining: 390ms\n",
      "584:\tlearn: 0.1146037\ttotal: 549ms\tremaining: 389ms\n",
      "585:\tlearn: 0.1143696\ttotal: 549ms\tremaining: 388ms\n",
      "586:\tlearn: 0.1142851\ttotal: 550ms\tremaining: 387ms\n",
      "587:\tlearn: 0.1141658\ttotal: 551ms\tremaining: 386ms\n",
      "588:\tlearn: 0.1138819\ttotal: 552ms\tremaining: 385ms\n",
      "589:\tlearn: 0.1136147\ttotal: 553ms\tremaining: 384ms\n",
      "590:\tlearn: 0.1134611\ttotal: 554ms\tremaining: 383ms\n",
      "591:\tlearn: 0.1133163\ttotal: 554ms\tremaining: 382ms\n",
      "592:\tlearn: 0.1130982\ttotal: 555ms\tremaining: 381ms\n",
      "593:\tlearn: 0.1130821\ttotal: 556ms\tremaining: 380ms\n",
      "594:\tlearn: 0.1130066\ttotal: 557ms\tremaining: 379ms\n",
      "595:\tlearn: 0.1128153\ttotal: 558ms\tremaining: 378ms\n",
      "596:\tlearn: 0.1124351\ttotal: 559ms\tremaining: 377ms\n",
      "597:\tlearn: 0.1122045\ttotal: 560ms\tremaining: 376ms\n",
      "598:\tlearn: 0.1121791\ttotal: 560ms\tremaining: 375ms\n",
      "599:\tlearn: 0.1119250\ttotal: 561ms\tremaining: 374ms\n",
      "600:\tlearn: 0.1119140\ttotal: 562ms\tremaining: 373ms\n",
      "601:\tlearn: 0.1116014\ttotal: 563ms\tremaining: 372ms\n",
      "602:\tlearn: 0.1113679\ttotal: 564ms\tremaining: 371ms\n",
      "603:\tlearn: 0.1111214\ttotal: 565ms\tremaining: 370ms\n",
      "604:\tlearn: 0.1108454\ttotal: 566ms\tremaining: 369ms\n",
      "605:\tlearn: 0.1108227\ttotal: 566ms\tremaining: 368ms\n",
      "606:\tlearn: 0.1106832\ttotal: 567ms\tremaining: 367ms\n",
      "607:\tlearn: 0.1106439\ttotal: 569ms\tremaining: 367ms\n",
      "608:\tlearn: 0.1106266\ttotal: 570ms\tremaining: 366ms\n",
      "609:\tlearn: 0.1104080\ttotal: 570ms\tremaining: 365ms\n",
      "610:\tlearn: 0.1101552\ttotal: 571ms\tremaining: 364ms\n"
     ]
    },
    {
     "name": "stdout",
     "output_type": "stream",
     "text": [
      "611:\tlearn: 0.1101058\ttotal: 572ms\tremaining: 363ms\n",
      "612:\tlearn: 0.1098878\ttotal: 573ms\tremaining: 362ms\n",
      "613:\tlearn: 0.1095988\ttotal: 574ms\tremaining: 361ms\n",
      "614:\tlearn: 0.1094959\ttotal: 575ms\tremaining: 360ms\n",
      "615:\tlearn: 0.1091890\ttotal: 576ms\tremaining: 359ms\n",
      "616:\tlearn: 0.1090778\ttotal: 577ms\tremaining: 358ms\n",
      "617:\tlearn: 0.1089070\ttotal: 577ms\tremaining: 357ms\n",
      "618:\tlearn: 0.1086992\ttotal: 578ms\tremaining: 356ms\n",
      "619:\tlearn: 0.1086837\ttotal: 579ms\tremaining: 355ms\n",
      "620:\tlearn: 0.1086199\ttotal: 580ms\tremaining: 354ms\n",
      "621:\tlearn: 0.1084857\ttotal: 581ms\tremaining: 353ms\n",
      "622:\tlearn: 0.1083421\ttotal: 582ms\tremaining: 352ms\n",
      "623:\tlearn: 0.1083261\ttotal: 582ms\tremaining: 351ms\n",
      "624:\tlearn: 0.1081670\ttotal: 583ms\tremaining: 350ms\n",
      "625:\tlearn: 0.1078900\ttotal: 584ms\tremaining: 349ms\n",
      "626:\tlearn: 0.1077472\ttotal: 585ms\tremaining: 348ms\n",
      "627:\tlearn: 0.1075382\ttotal: 586ms\tremaining: 347ms\n",
      "628:\tlearn: 0.1073658\ttotal: 587ms\tremaining: 346ms\n",
      "629:\tlearn: 0.1072379\ttotal: 587ms\tremaining: 345ms\n",
      "630:\tlearn: 0.1072095\ttotal: 588ms\tremaining: 344ms\n",
      "631:\tlearn: 0.1070835\ttotal: 589ms\tremaining: 343ms\n",
      "632:\tlearn: 0.1068648\ttotal: 590ms\tremaining: 342ms\n",
      "633:\tlearn: 0.1066965\ttotal: 591ms\tremaining: 341ms\n",
      "634:\tlearn: 0.1064208\ttotal: 592ms\tremaining: 340ms\n",
      "635:\tlearn: 0.1062042\ttotal: 592ms\tremaining: 339ms\n",
      "636:\tlearn: 0.1060785\ttotal: 593ms\tremaining: 338ms\n",
      "637:\tlearn: 0.1058204\ttotal: 594ms\tremaining: 337ms\n",
      "638:\tlearn: 0.1055955\ttotal: 595ms\tremaining: 336ms\n",
      "639:\tlearn: 0.1055201\ttotal: 595ms\tremaining: 335ms\n",
      "640:\tlearn: 0.1054936\ttotal: 596ms\tremaining: 334ms\n",
      "641:\tlearn: 0.1053885\ttotal: 597ms\tremaining: 333ms\n",
      "642:\tlearn: 0.1051191\ttotal: 598ms\tremaining: 332ms\n",
      "643:\tlearn: 0.1050787\ttotal: 598ms\tremaining: 331ms\n",
      "644:\tlearn: 0.1048293\ttotal: 599ms\tremaining: 330ms\n",
      "645:\tlearn: 0.1047416\ttotal: 600ms\tremaining: 329ms\n",
      "646:\tlearn: 0.1045064\ttotal: 601ms\tremaining: 328ms\n",
      "647:\tlearn: 0.1044421\ttotal: 602ms\tremaining: 327ms\n",
      "648:\tlearn: 0.1042848\ttotal: 603ms\tremaining: 326ms\n",
      "649:\tlearn: 0.1041477\ttotal: 603ms\tremaining: 325ms\n",
      "650:\tlearn: 0.1040140\ttotal: 604ms\tremaining: 324ms\n",
      "651:\tlearn: 0.1039120\ttotal: 605ms\tremaining: 323ms\n",
      "652:\tlearn: 0.1036642\ttotal: 606ms\tremaining: 322ms\n",
      "653:\tlearn: 0.1034822\ttotal: 607ms\tremaining: 321ms\n",
      "654:\tlearn: 0.1032699\ttotal: 607ms\tremaining: 320ms\n",
      "655:\tlearn: 0.1031386\ttotal: 608ms\tremaining: 319ms\n",
      "656:\tlearn: 0.1029891\ttotal: 609ms\tremaining: 318ms\n",
      "657:\tlearn: 0.1027441\ttotal: 610ms\tremaining: 317ms\n",
      "658:\tlearn: 0.1025056\ttotal: 611ms\tremaining: 316ms\n",
      "659:\tlearn: 0.1022818\ttotal: 611ms\tremaining: 315ms\n",
      "660:\tlearn: 0.1021236\ttotal: 612ms\tremaining: 314ms\n",
      "661:\tlearn: 0.1018689\ttotal: 613ms\tremaining: 313ms\n",
      "662:\tlearn: 0.1016106\ttotal: 614ms\tremaining: 312ms\n",
      "663:\tlearn: 0.1014849\ttotal: 615ms\tremaining: 311ms\n",
      "664:\tlearn: 0.1013118\ttotal: 616ms\tremaining: 310ms\n",
      "665:\tlearn: 0.1011727\ttotal: 617ms\tremaining: 309ms\n",
      "666:\tlearn: 0.1009308\ttotal: 618ms\tremaining: 308ms\n",
      "667:\tlearn: 0.1007731\ttotal: 618ms\tremaining: 307ms\n",
      "668:\tlearn: 0.1005847\ttotal: 619ms\tremaining: 306ms\n",
      "669:\tlearn: 0.1004543\ttotal: 620ms\tremaining: 305ms\n",
      "670:\tlearn: 0.1003295\ttotal: 621ms\tremaining: 304ms\n",
      "671:\tlearn: 0.1002080\ttotal: 622ms\tremaining: 303ms\n",
      "672:\tlearn: 0.1000483\ttotal: 622ms\tremaining: 302ms\n",
      "673:\tlearn: 0.0998290\ttotal: 623ms\tremaining: 301ms\n",
      "674:\tlearn: 0.0995343\ttotal: 624ms\tremaining: 300ms\n",
      "675:\tlearn: 0.0993829\ttotal: 625ms\tremaining: 299ms\n",
      "676:\tlearn: 0.0993335\ttotal: 626ms\tremaining: 299ms\n",
      "677:\tlearn: 0.0991962\ttotal: 627ms\tremaining: 298ms\n",
      "678:\tlearn: 0.0990320\ttotal: 627ms\tremaining: 297ms\n",
      "679:\tlearn: 0.0988171\ttotal: 628ms\tremaining: 296ms\n",
      "680:\tlearn: 0.0986327\ttotal: 629ms\tremaining: 295ms\n",
      "681:\tlearn: 0.0985135\ttotal: 630ms\tremaining: 294ms\n",
      "682:\tlearn: 0.0985026\ttotal: 631ms\tremaining: 293ms\n",
      "683:\tlearn: 0.0982499\ttotal: 632ms\tremaining: 292ms\n",
      "684:\tlearn: 0.0981257\ttotal: 632ms\tremaining: 291ms\n",
      "685:\tlearn: 0.0980564\ttotal: 633ms\tremaining: 290ms\n",
      "686:\tlearn: 0.0979338\ttotal: 634ms\tremaining: 289ms\n",
      "687:\tlearn: 0.0977701\ttotal: 635ms\tremaining: 288ms\n",
      "688:\tlearn: 0.0975761\ttotal: 636ms\tremaining: 287ms\n",
      "689:\tlearn: 0.0974190\ttotal: 637ms\tremaining: 286ms\n",
      "690:\tlearn: 0.0971596\ttotal: 638ms\tremaining: 285ms\n",
      "691:\tlearn: 0.0970053\ttotal: 638ms\tremaining: 284ms\n",
      "692:\tlearn: 0.0968410\ttotal: 639ms\tremaining: 283ms\n",
      "693:\tlearn: 0.0967495\ttotal: 640ms\tremaining: 282ms\n",
      "694:\tlearn: 0.0966429\ttotal: 641ms\tremaining: 281ms\n",
      "695:\tlearn: 0.0965157\ttotal: 642ms\tremaining: 280ms\n",
      "696:\tlearn: 0.0963980\ttotal: 643ms\tremaining: 279ms\n",
      "697:\tlearn: 0.0962305\ttotal: 643ms\tremaining: 278ms\n",
      "698:\tlearn: 0.0961465\ttotal: 644ms\tremaining: 277ms\n",
      "699:\tlearn: 0.0958620\ttotal: 645ms\tremaining: 276ms\n",
      "700:\tlearn: 0.0957814\ttotal: 646ms\tremaining: 276ms\n",
      "701:\tlearn: 0.0956058\ttotal: 647ms\tremaining: 275ms\n",
      "702:\tlearn: 0.0954906\ttotal: 648ms\tremaining: 274ms\n",
      "703:\tlearn: 0.0954111\ttotal: 649ms\tremaining: 273ms\n",
      "704:\tlearn: 0.0952333\ttotal: 649ms\tremaining: 272ms\n",
      "705:\tlearn: 0.0950844\ttotal: 650ms\tremaining: 271ms\n",
      "706:\tlearn: 0.0949176\ttotal: 651ms\tremaining: 270ms\n",
      "707:\tlearn: 0.0947534\ttotal: 652ms\tremaining: 269ms\n",
      "708:\tlearn: 0.0946632\ttotal: 652ms\tremaining: 268ms\n",
      "709:\tlearn: 0.0946352\ttotal: 653ms\tremaining: 267ms\n",
      "710:\tlearn: 0.0945198\ttotal: 654ms\tremaining: 266ms\n",
      "711:\tlearn: 0.0943321\ttotal: 655ms\tremaining: 265ms\n",
      "712:\tlearn: 0.0942326\ttotal: 656ms\tremaining: 264ms\n",
      "713:\tlearn: 0.0940619\ttotal: 656ms\tremaining: 263ms\n",
      "714:\tlearn: 0.0940003\ttotal: 657ms\tremaining: 262ms\n",
      "715:\tlearn: 0.0938638\ttotal: 658ms\tremaining: 261ms\n",
      "716:\tlearn: 0.0936898\ttotal: 659ms\tremaining: 260ms\n",
      "717:\tlearn: 0.0934930\ttotal: 660ms\tremaining: 259ms\n",
      "718:\tlearn: 0.0933660\ttotal: 660ms\tremaining: 258ms\n",
      "719:\tlearn: 0.0933425\ttotal: 661ms\tremaining: 257ms\n",
      "720:\tlearn: 0.0932085\ttotal: 662ms\tremaining: 256ms\n",
      "721:\tlearn: 0.0931080\ttotal: 663ms\tremaining: 255ms\n",
      "722:\tlearn: 0.0929990\ttotal: 664ms\tremaining: 254ms\n",
      "723:\tlearn: 0.0928892\ttotal: 664ms\tremaining: 253ms\n",
      "724:\tlearn: 0.0926653\ttotal: 665ms\tremaining: 252ms\n",
      "725:\tlearn: 0.0925547\ttotal: 666ms\tremaining: 251ms\n",
      "726:\tlearn: 0.0924620\ttotal: 667ms\tremaining: 250ms\n",
      "727:\tlearn: 0.0922766\ttotal: 668ms\tremaining: 249ms\n",
      "728:\tlearn: 0.0920681\ttotal: 669ms\tremaining: 249ms\n",
      "729:\tlearn: 0.0919095\ttotal: 669ms\tremaining: 248ms\n",
      "730:\tlearn: 0.0917203\ttotal: 670ms\tremaining: 247ms\n",
      "731:\tlearn: 0.0916317\ttotal: 671ms\tremaining: 246ms\n",
      "732:\tlearn: 0.0914836\ttotal: 672ms\tremaining: 245ms\n",
      "733:\tlearn: 0.0913095\ttotal: 673ms\tremaining: 244ms\n",
      "734:\tlearn: 0.0912767\ttotal: 674ms\tremaining: 243ms\n",
      "735:\tlearn: 0.0912015\ttotal: 675ms\tremaining: 242ms\n",
      "736:\tlearn: 0.0910697\ttotal: 675ms\tremaining: 241ms\n",
      "737:\tlearn: 0.0909583\ttotal: 676ms\tremaining: 240ms\n",
      "738:\tlearn: 0.0908453\ttotal: 677ms\tremaining: 239ms\n",
      "739:\tlearn: 0.0907907\ttotal: 678ms\tremaining: 238ms\n",
      "740:\tlearn: 0.0906580\ttotal: 679ms\tremaining: 237ms\n",
      "741:\tlearn: 0.0905464\ttotal: 680ms\tremaining: 236ms\n"
     ]
    },
    {
     "name": "stdout",
     "output_type": "stream",
     "text": [
      "742:\tlearn: 0.0903753\ttotal: 680ms\tremaining: 235ms\n",
      "743:\tlearn: 0.0902503\ttotal: 681ms\tremaining: 234ms\n",
      "744:\tlearn: 0.0901339\ttotal: 682ms\tremaining: 233ms\n",
      "745:\tlearn: 0.0901015\ttotal: 683ms\tremaining: 233ms\n",
      "746:\tlearn: 0.0899583\ttotal: 684ms\tremaining: 232ms\n",
      "747:\tlearn: 0.0898229\ttotal: 685ms\tremaining: 231ms\n",
      "748:\tlearn: 0.0896572\ttotal: 685ms\tremaining: 230ms\n",
      "749:\tlearn: 0.0894530\ttotal: 686ms\tremaining: 229ms\n",
      "750:\tlearn: 0.0893488\ttotal: 687ms\tremaining: 228ms\n",
      "751:\tlearn: 0.0891603\ttotal: 688ms\tremaining: 227ms\n",
      "752:\tlearn: 0.0890204\ttotal: 689ms\tremaining: 226ms\n",
      "753:\tlearn: 0.0888231\ttotal: 690ms\tremaining: 225ms\n",
      "754:\tlearn: 0.0886895\ttotal: 690ms\tremaining: 224ms\n",
      "755:\tlearn: 0.0885621\ttotal: 691ms\tremaining: 223ms\n",
      "756:\tlearn: 0.0884050\ttotal: 692ms\tremaining: 222ms\n",
      "757:\tlearn: 0.0882078\ttotal: 693ms\tremaining: 221ms\n",
      "758:\tlearn: 0.0881375\ttotal: 693ms\tremaining: 220ms\n",
      "759:\tlearn: 0.0880339\ttotal: 694ms\tremaining: 219ms\n",
      "760:\tlearn: 0.0878957\ttotal: 695ms\tremaining: 218ms\n",
      "761:\tlearn: 0.0876857\ttotal: 696ms\tremaining: 217ms\n",
      "762:\tlearn: 0.0875241\ttotal: 697ms\tremaining: 216ms\n",
      "763:\tlearn: 0.0873771\ttotal: 698ms\tremaining: 216ms\n",
      "764:\tlearn: 0.0872198\ttotal: 699ms\tremaining: 215ms\n",
      "765:\tlearn: 0.0871005\ttotal: 700ms\tremaining: 214ms\n",
      "766:\tlearn: 0.0869394\ttotal: 700ms\tremaining: 213ms\n",
      "767:\tlearn: 0.0867953\ttotal: 701ms\tremaining: 212ms\n",
      "768:\tlearn: 0.0867228\ttotal: 702ms\tremaining: 211ms\n",
      "769:\tlearn: 0.0865627\ttotal: 703ms\tremaining: 210ms\n",
      "770:\tlearn: 0.0864441\ttotal: 704ms\tremaining: 209ms\n",
      "771:\tlearn: 0.0862650\ttotal: 705ms\tremaining: 208ms\n",
      "772:\tlearn: 0.0861247\ttotal: 706ms\tremaining: 207ms\n",
      "773:\tlearn: 0.0860588\ttotal: 706ms\tremaining: 206ms\n",
      "774:\tlearn: 0.0859746\ttotal: 707ms\tremaining: 205ms\n",
      "775:\tlearn: 0.0859432\ttotal: 708ms\tremaining: 204ms\n",
      "776:\tlearn: 0.0858223\ttotal: 709ms\tremaining: 204ms\n",
      "777:\tlearn: 0.0857134\ttotal: 710ms\tremaining: 203ms\n",
      "778:\tlearn: 0.0855731\ttotal: 711ms\tremaining: 202ms\n",
      "779:\tlearn: 0.0854334\ttotal: 712ms\tremaining: 201ms\n",
      "780:\tlearn: 0.0853049\ttotal: 712ms\tremaining: 200ms\n",
      "781:\tlearn: 0.0851503\ttotal: 713ms\tremaining: 199ms\n",
      "782:\tlearn: 0.0850735\ttotal: 714ms\tremaining: 198ms\n",
      "783:\tlearn: 0.0849984\ttotal: 715ms\tremaining: 197ms\n",
      "784:\tlearn: 0.0848413\ttotal: 715ms\tremaining: 196ms\n",
      "785:\tlearn: 0.0846577\ttotal: 716ms\tremaining: 195ms\n",
      "786:\tlearn: 0.0845307\ttotal: 717ms\tremaining: 194ms\n",
      "787:\tlearn: 0.0843707\ttotal: 718ms\tremaining: 193ms\n",
      "788:\tlearn: 0.0841884\ttotal: 719ms\tremaining: 192ms\n",
      "789:\tlearn: 0.0840405\ttotal: 719ms\tremaining: 191ms\n",
      "790:\tlearn: 0.0838737\ttotal: 720ms\tremaining: 190ms\n",
      "791:\tlearn: 0.0837751\ttotal: 721ms\tremaining: 189ms\n",
      "792:\tlearn: 0.0837093\ttotal: 722ms\tremaining: 188ms\n",
      "793:\tlearn: 0.0836337\ttotal: 723ms\tremaining: 188ms\n",
      "794:\tlearn: 0.0834367\ttotal: 724ms\tremaining: 187ms\n",
      "795:\tlearn: 0.0833692\ttotal: 725ms\tremaining: 186ms\n",
      "796:\tlearn: 0.0831943\ttotal: 726ms\tremaining: 185ms\n",
      "797:\tlearn: 0.0830294\ttotal: 727ms\tremaining: 184ms\n",
      "798:\tlearn: 0.0829556\ttotal: 728ms\tremaining: 183ms\n",
      "799:\tlearn: 0.0829425\ttotal: 729ms\tremaining: 182ms\n",
      "800:\tlearn: 0.0827901\ttotal: 729ms\tremaining: 181ms\n",
      "801:\tlearn: 0.0826763\ttotal: 730ms\tremaining: 180ms\n",
      "802:\tlearn: 0.0825739\ttotal: 731ms\tremaining: 179ms\n",
      "803:\tlearn: 0.0824298\ttotal: 732ms\tremaining: 178ms\n",
      "804:\tlearn: 0.0822558\ttotal: 733ms\tremaining: 177ms\n",
      "805:\tlearn: 0.0822283\ttotal: 734ms\tremaining: 177ms\n",
      "806:\tlearn: 0.0821085\ttotal: 734ms\tremaining: 176ms\n",
      "807:\tlearn: 0.0819467\ttotal: 735ms\tremaining: 175ms\n",
      "808:\tlearn: 0.0818403\ttotal: 736ms\tremaining: 174ms\n",
      "809:\tlearn: 0.0816680\ttotal: 737ms\tremaining: 173ms\n",
      "810:\tlearn: 0.0815280\ttotal: 738ms\tremaining: 172ms\n",
      "811:\tlearn: 0.0813768\ttotal: 738ms\tremaining: 171ms\n",
      "812:\tlearn: 0.0812834\ttotal: 739ms\tremaining: 170ms\n",
      "813:\tlearn: 0.0811274\ttotal: 740ms\tremaining: 169ms\n",
      "814:\tlearn: 0.0810491\ttotal: 741ms\tremaining: 168ms\n",
      "815:\tlearn: 0.0809421\ttotal: 742ms\tremaining: 167ms\n",
      "816:\tlearn: 0.0808602\ttotal: 742ms\tremaining: 166ms\n",
      "817:\tlearn: 0.0806739\ttotal: 743ms\tremaining: 165ms\n",
      "818:\tlearn: 0.0805325\ttotal: 744ms\tremaining: 164ms\n",
      "819:\tlearn: 0.0804453\ttotal: 745ms\tremaining: 164ms\n",
      "820:\tlearn: 0.0803818\ttotal: 746ms\tremaining: 163ms\n",
      "821:\tlearn: 0.0803105\ttotal: 746ms\tremaining: 162ms\n",
      "822:\tlearn: 0.0801994\ttotal: 747ms\tremaining: 161ms\n",
      "823:\tlearn: 0.0801332\ttotal: 748ms\tremaining: 160ms\n",
      "824:\tlearn: 0.0800268\ttotal: 749ms\tremaining: 159ms\n",
      "825:\tlearn: 0.0800019\ttotal: 750ms\tremaining: 158ms\n",
      "826:\tlearn: 0.0799876\ttotal: 750ms\tremaining: 157ms\n",
      "827:\tlearn: 0.0798973\ttotal: 751ms\tremaining: 156ms\n",
      "828:\tlearn: 0.0797802\ttotal: 752ms\tremaining: 155ms\n",
      "829:\tlearn: 0.0797255\ttotal: 753ms\tremaining: 154ms\n",
      "830:\tlearn: 0.0797037\ttotal: 754ms\tremaining: 153ms\n",
      "831:\tlearn: 0.0796132\ttotal: 754ms\tremaining: 152ms\n",
      "832:\tlearn: 0.0794752\ttotal: 755ms\tremaining: 151ms\n",
      "833:\tlearn: 0.0793622\ttotal: 756ms\tremaining: 150ms\n",
      "834:\tlearn: 0.0792232\ttotal: 757ms\tremaining: 150ms\n",
      "835:\tlearn: 0.0790616\ttotal: 758ms\tremaining: 149ms\n",
      "836:\tlearn: 0.0789877\ttotal: 759ms\tremaining: 148ms\n",
      "837:\tlearn: 0.0789070\ttotal: 759ms\tremaining: 147ms\n",
      "838:\tlearn: 0.0787916\ttotal: 760ms\tremaining: 146ms\n",
      "839:\tlearn: 0.0787057\ttotal: 761ms\tremaining: 145ms\n"
     ]
    },
    {
     "name": "stdout",
     "output_type": "stream",
     "text": [
      "840:\tlearn: 0.0785345\ttotal: 762ms\tremaining: 144ms\n",
      "841:\tlearn: 0.0783769\ttotal: 763ms\tremaining: 143ms\n",
      "842:\tlearn: 0.0781739\ttotal: 764ms\tremaining: 142ms\n",
      "843:\tlearn: 0.0780613\ttotal: 765ms\tremaining: 141ms\n",
      "844:\tlearn: 0.0779161\ttotal: 766ms\tremaining: 141ms\n",
      "845:\tlearn: 0.0778987\ttotal: 767ms\tremaining: 140ms\n",
      "846:\tlearn: 0.0777883\ttotal: 768ms\tremaining: 139ms\n",
      "847:\tlearn: 0.0776829\ttotal: 769ms\tremaining: 138ms\n",
      "848:\tlearn: 0.0775378\ttotal: 770ms\tremaining: 137ms\n",
      "849:\tlearn: 0.0773876\ttotal: 771ms\tremaining: 136ms\n",
      "850:\tlearn: 0.0773095\ttotal: 771ms\tremaining: 135ms\n",
      "851:\tlearn: 0.0771500\ttotal: 772ms\tremaining: 134ms\n",
      "852:\tlearn: 0.0770265\ttotal: 773ms\tremaining: 133ms\n",
      "853:\tlearn: 0.0769759\ttotal: 774ms\tremaining: 132ms\n",
      "854:\tlearn: 0.0768105\ttotal: 775ms\tremaining: 131ms\n",
      "855:\tlearn: 0.0767545\ttotal: 776ms\tremaining: 131ms\n",
      "856:\tlearn: 0.0767120\ttotal: 777ms\tremaining: 130ms\n",
      "857:\tlearn: 0.0765621\ttotal: 777ms\tremaining: 129ms\n",
      "858:\tlearn: 0.0764543\ttotal: 778ms\tremaining: 128ms\n",
      "859:\tlearn: 0.0763776\ttotal: 779ms\tremaining: 127ms\n",
      "860:\tlearn: 0.0762627\ttotal: 780ms\tremaining: 126ms\n",
      "861:\tlearn: 0.0761540\ttotal: 781ms\tremaining: 125ms\n",
      "862:\tlearn: 0.0760087\ttotal: 782ms\tremaining: 124ms\n",
      "863:\tlearn: 0.0759159\ttotal: 783ms\tremaining: 123ms\n",
      "864:\tlearn: 0.0757568\ttotal: 783ms\tremaining: 122ms\n",
      "865:\tlearn: 0.0755608\ttotal: 784ms\tremaining: 121ms\n",
      "866:\tlearn: 0.0754231\ttotal: 785ms\tremaining: 120ms\n",
      "867:\tlearn: 0.0753182\ttotal: 786ms\tremaining: 120ms\n",
      "868:\tlearn: 0.0751748\ttotal: 787ms\tremaining: 119ms\n",
      "869:\tlearn: 0.0751062\ttotal: 788ms\tremaining: 118ms\n",
      "870:\tlearn: 0.0750537\ttotal: 789ms\tremaining: 117ms\n",
      "871:\tlearn: 0.0749533\ttotal: 789ms\tremaining: 116ms\n",
      "872:\tlearn: 0.0748231\ttotal: 790ms\tremaining: 115ms\n",
      "873:\tlearn: 0.0747717\ttotal: 792ms\tremaining: 114ms\n",
      "874:\tlearn: 0.0746963\ttotal: 793ms\tremaining: 113ms\n",
      "875:\tlearn: 0.0745885\ttotal: 793ms\tremaining: 112ms\n",
      "876:\tlearn: 0.0744629\ttotal: 794ms\tremaining: 111ms\n",
      "877:\tlearn: 0.0743172\ttotal: 795ms\tremaining: 110ms\n",
      "878:\tlearn: 0.0741770\ttotal: 796ms\tremaining: 110ms\n",
      "879:\tlearn: 0.0740349\ttotal: 797ms\tremaining: 109ms\n",
      "880:\tlearn: 0.0739088\ttotal: 798ms\tremaining: 108ms\n",
      "881:\tlearn: 0.0738352\ttotal: 799ms\tremaining: 107ms\n",
      "882:\tlearn: 0.0736612\ttotal: 799ms\tremaining: 106ms\n",
      "883:\tlearn: 0.0735637\ttotal: 800ms\tremaining: 105ms\n",
      "884:\tlearn: 0.0734203\ttotal: 801ms\tremaining: 104ms\n",
      "885:\tlearn: 0.0734078\ttotal: 802ms\tremaining: 103ms\n",
      "886:\tlearn: 0.0734011\ttotal: 803ms\tremaining: 102ms\n",
      "887:\tlearn: 0.0732716\ttotal: 804ms\tremaining: 101ms\n",
      "888:\tlearn: 0.0731337\ttotal: 804ms\tremaining: 100ms\n",
      "889:\tlearn: 0.0730077\ttotal: 805ms\tremaining: 99.5ms\n",
      "890:\tlearn: 0.0729394\ttotal: 806ms\tremaining: 98.6ms\n",
      "891:\tlearn: 0.0728689\ttotal: 807ms\tremaining: 97.7ms\n",
      "892:\tlearn: 0.0727388\ttotal: 808ms\tremaining: 96.8ms\n",
      "893:\tlearn: 0.0726333\ttotal: 809ms\tremaining: 95.9ms\n",
      "894:\tlearn: 0.0724769\ttotal: 809ms\tremaining: 94.9ms\n",
      "895:\tlearn: 0.0724630\ttotal: 810ms\tremaining: 94ms\n",
      "896:\tlearn: 0.0723944\ttotal: 811ms\tremaining: 93.1ms\n",
      "897:\tlearn: 0.0722256\ttotal: 812ms\tremaining: 92.2ms\n",
      "898:\tlearn: 0.0720930\ttotal: 813ms\tremaining: 91.3ms\n",
      "899:\tlearn: 0.0720418\ttotal: 813ms\tremaining: 90.4ms\n",
      "900:\tlearn: 0.0719248\ttotal: 814ms\tremaining: 89.4ms\n",
      "901:\tlearn: 0.0717967\ttotal: 815ms\tremaining: 88.5ms\n",
      "902:\tlearn: 0.0717872\ttotal: 816ms\tremaining: 87.6ms\n",
      "903:\tlearn: 0.0716540\ttotal: 816ms\tremaining: 86.7ms\n",
      "904:\tlearn: 0.0714599\ttotal: 817ms\tremaining: 85.8ms\n",
      "905:\tlearn: 0.0713664\ttotal: 818ms\tremaining: 84.9ms\n",
      "906:\tlearn: 0.0712253\ttotal: 819ms\tremaining: 84ms\n",
      "907:\tlearn: 0.0711593\ttotal: 819ms\tremaining: 83ms\n",
      "908:\tlearn: 0.0710808\ttotal: 820ms\tremaining: 82.1ms\n",
      "909:\tlearn: 0.0709311\ttotal: 821ms\tremaining: 81.2ms\n",
      "910:\tlearn: 0.0709227\ttotal: 822ms\tremaining: 80.3ms\n",
      "911:\tlearn: 0.0708333\ttotal: 823ms\tremaining: 79.4ms\n",
      "912:\tlearn: 0.0706904\ttotal: 823ms\tremaining: 78.5ms\n",
      "913:\tlearn: 0.0704446\ttotal: 824ms\tremaining: 77.5ms\n",
      "914:\tlearn: 0.0703517\ttotal: 826ms\tremaining: 76.7ms\n",
      "915:\tlearn: 0.0702536\ttotal: 827ms\tremaining: 75.8ms\n",
      "916:\tlearn: 0.0701567\ttotal: 827ms\tremaining: 74.9ms\n",
      "917:\tlearn: 0.0701031\ttotal: 828ms\tremaining: 74ms\n",
      "918:\tlearn: 0.0700348\ttotal: 829ms\tremaining: 73.1ms\n",
      "919:\tlearn: 0.0699518\ttotal: 830ms\tremaining: 72.2ms\n",
      "920:\tlearn: 0.0699433\ttotal: 831ms\tremaining: 71.3ms\n",
      "921:\tlearn: 0.0698233\ttotal: 832ms\tremaining: 70.4ms\n",
      "922:\tlearn: 0.0697315\ttotal: 833ms\tremaining: 69.5ms\n",
      "923:\tlearn: 0.0695971\ttotal: 834ms\tremaining: 68.6ms\n",
      "924:\tlearn: 0.0695543\ttotal: 834ms\tremaining: 67.7ms\n",
      "925:\tlearn: 0.0694387\ttotal: 835ms\tremaining: 66.7ms\n",
      "926:\tlearn: 0.0693283\ttotal: 836ms\tremaining: 65.8ms\n",
      "927:\tlearn: 0.0691984\ttotal: 837ms\tremaining: 64.9ms\n",
      "928:\tlearn: 0.0691017\ttotal: 837ms\tremaining: 64ms\n",
      "929:\tlearn: 0.0690019\ttotal: 838ms\tremaining: 63.1ms\n",
      "930:\tlearn: 0.0689013\ttotal: 839ms\tremaining: 62.2ms\n",
      "931:\tlearn: 0.0687612\ttotal: 840ms\tremaining: 61.3ms\n",
      "932:\tlearn: 0.0687051\ttotal: 841ms\tremaining: 60.4ms\n",
      "933:\tlearn: 0.0686477\ttotal: 842ms\tremaining: 59.5ms\n",
      "934:\tlearn: 0.0685867\ttotal: 842ms\tremaining: 58.6ms\n",
      "935:\tlearn: 0.0684352\ttotal: 843ms\tremaining: 57.7ms\n",
      "936:\tlearn: 0.0682768\ttotal: 844ms\tremaining: 56.7ms\n",
      "937:\tlearn: 0.0682624\ttotal: 845ms\tremaining: 55.8ms\n",
      "938:\tlearn: 0.0681752\ttotal: 845ms\tremaining: 54.9ms\n",
      "939:\tlearn: 0.0680585\ttotal: 846ms\tremaining: 54ms\n",
      "940:\tlearn: 0.0679802\ttotal: 847ms\tremaining: 53.1ms\n",
      "941:\tlearn: 0.0678183\ttotal: 848ms\tremaining: 52.2ms\n",
      "942:\tlearn: 0.0677476\ttotal: 849ms\tremaining: 51.3ms\n",
      "943:\tlearn: 0.0676887\ttotal: 850ms\tremaining: 50.4ms\n",
      "944:\tlearn: 0.0676061\ttotal: 851ms\tremaining: 49.5ms\n",
      "945:\tlearn: 0.0675377\ttotal: 852ms\tremaining: 48.6ms\n",
      "946:\tlearn: 0.0674182\ttotal: 852ms\tremaining: 47.7ms\n",
      "947:\tlearn: 0.0673639\ttotal: 853ms\tremaining: 46.8ms\n",
      "948:\tlearn: 0.0672713\ttotal: 854ms\tremaining: 45.9ms\n",
      "949:\tlearn: 0.0671705\ttotal: 855ms\tremaining: 45ms\n",
      "950:\tlearn: 0.0670619\ttotal: 855ms\tremaining: 44.1ms\n",
      "951:\tlearn: 0.0670076\ttotal: 856ms\tremaining: 43.2ms\n",
      "952:\tlearn: 0.0668961\ttotal: 857ms\tremaining: 42.3ms\n",
      "953:\tlearn: 0.0668232\ttotal: 859ms\tremaining: 41.4ms\n",
      "954:\tlearn: 0.0667496\ttotal: 860ms\tremaining: 40.5ms\n",
      "955:\tlearn: 0.0666166\ttotal: 860ms\tremaining: 39.6ms\n",
      "956:\tlearn: 0.0664998\ttotal: 861ms\tremaining: 38.7ms\n",
      "957:\tlearn: 0.0664611\ttotal: 862ms\tremaining: 37.8ms\n",
      "958:\tlearn: 0.0663457\ttotal: 863ms\tremaining: 36.9ms\n",
      "959:\tlearn: 0.0661927\ttotal: 863ms\tremaining: 36ms\n",
      "960:\tlearn: 0.0661252\ttotal: 864ms\tremaining: 35.1ms\n",
      "961:\tlearn: 0.0659991\ttotal: 865ms\tremaining: 34.2ms\n",
      "962:\tlearn: 0.0659579\ttotal: 866ms\tremaining: 33.3ms\n",
      "963:\tlearn: 0.0658972\ttotal: 867ms\tremaining: 32.4ms\n",
      "964:\tlearn: 0.0657577\ttotal: 867ms\tremaining: 31.5ms\n",
      "965:\tlearn: 0.0656616\ttotal: 868ms\tremaining: 30.6ms\n",
      "966:\tlearn: 0.0655359\ttotal: 869ms\tremaining: 29.7ms\n",
      "967:\tlearn: 0.0654075\ttotal: 870ms\tremaining: 28.8ms\n"
     ]
    },
    {
     "name": "stdout",
     "output_type": "stream",
     "text": [
      "968:\tlearn: 0.0653133\ttotal: 871ms\tremaining: 27.9ms\n",
      "969:\tlearn: 0.0652089\ttotal: 872ms\tremaining: 27ms\n",
      "970:\tlearn: 0.0651164\ttotal: 872ms\tremaining: 26.1ms\n",
      "971:\tlearn: 0.0650446\ttotal: 873ms\tremaining: 25.2ms\n",
      "972:\tlearn: 0.0649728\ttotal: 874ms\tremaining: 24.3ms\n",
      "973:\tlearn: 0.0648808\ttotal: 875ms\tremaining: 23.4ms\n",
      "974:\tlearn: 0.0647847\ttotal: 876ms\tremaining: 22.5ms\n",
      "975:\tlearn: 0.0647465\ttotal: 877ms\tremaining: 21.6ms\n",
      "976:\tlearn: 0.0646534\ttotal: 878ms\tremaining: 20.7ms\n",
      "977:\tlearn: 0.0645614\ttotal: 878ms\tremaining: 19.8ms\n",
      "978:\tlearn: 0.0644660\ttotal: 879ms\tremaining: 18.9ms\n",
      "979:\tlearn: 0.0643211\ttotal: 880ms\tremaining: 18ms\n",
      "980:\tlearn: 0.0642423\ttotal: 881ms\tremaining: 17.1ms\n",
      "981:\tlearn: 0.0641829\ttotal: 882ms\tremaining: 16.2ms\n",
      "982:\tlearn: 0.0640362\ttotal: 883ms\tremaining: 15.3ms\n",
      "983:\tlearn: 0.0639393\ttotal: 884ms\tremaining: 14.4ms\n",
      "984:\tlearn: 0.0638517\ttotal: 884ms\tremaining: 13.5ms\n",
      "985:\tlearn: 0.0637662\ttotal: 885ms\tremaining: 12.6ms\n",
      "986:\tlearn: 0.0636365\ttotal: 886ms\tremaining: 11.7ms\n",
      "987:\tlearn: 0.0635857\ttotal: 887ms\tremaining: 10.8ms\n",
      "988:\tlearn: 0.0635147\ttotal: 888ms\tremaining: 9.87ms\n",
      "989:\tlearn: 0.0634778\ttotal: 889ms\tremaining: 8.98ms\n",
      "990:\tlearn: 0.0634061\ttotal: 890ms\tremaining: 8.08ms\n",
      "991:\tlearn: 0.0633355\ttotal: 890ms\tremaining: 7.18ms\n",
      "992:\tlearn: 0.0632578\ttotal: 891ms\tremaining: 6.28ms\n",
      "993:\tlearn: 0.0632022\ttotal: 892ms\tremaining: 5.38ms\n",
      "994:\tlearn: 0.0631134\ttotal: 893ms\tremaining: 4.49ms\n",
      "995:\tlearn: 0.0630375\ttotal: 894ms\tremaining: 3.59ms\n",
      "996:\tlearn: 0.0628949\ttotal: 894ms\tremaining: 2.69ms\n",
      "997:\tlearn: 0.0628228\ttotal: 895ms\tremaining: 1.79ms\n",
      "998:\tlearn: 0.0627589\ttotal: 896ms\tremaining: 897us\n",
      "999:\tlearn: 0.0626794\ttotal: 897ms\tremaining: 0us\n"
     ]
    },
    {
     "data": {
      "text/plain": [
       "<catboost.core.CatBoostRegressor at 0x7fe6e81f78e0>"
      ]
     },
     "execution_count": 9,
     "metadata": {},
     "output_type": "execute_result"
    }
   ],
   "source": [
    "#Train the Model \n",
    "prior_model = ctb.CatBoostRegressor()\n",
    "prior_model.fit(X_train,Y_train)"
   ]
  },
  {
   "cell_type": "code",
   "execution_count": 10,
   "id": "af65dcda",
   "metadata": {
    "execution": {
     "iopub.execute_input": "2022-03-11T10:18:57.032442Z",
     "iopub.status.busy": "2022-03-11T10:18:57.032047Z",
     "iopub.status.idle": "2022-03-11T10:18:57.039481Z",
     "shell.execute_reply": "2022-03-11T10:18:57.039772Z"
    },
    "id": "af65dcda",
    "papermill": {
     "duration": 0.020587,
     "end_time": "2022-03-11T10:18:57.039887",
     "exception": false,
     "start_time": "2022-03-11T10:18:57.019300",
     "status": "completed"
    },
    "tags": []
   },
   "outputs": [
    {
     "data": {
      "application/scrapbook.scrap.json+json": {
       "data": 0.10208265904674095,
       "encoder": "json",
       "name": "Prior Model MSE",
       "version": 1
      }
     },
     "metadata": {
      "scrapbook": {
       "data": true,
       "display": false,
       "name": "Prior Model MSE"
      }
     },
     "output_type": "display_data"
    },
    {
     "data": {
      "application/scrapbook.scrap.json+json": {
       "data": 1.0159594276806767,
       "encoder": "json",
       "name": "ABC Pre-generator MSE",
       "version": 1
      }
     },
     "metadata": {
      "scrapbook": {
       "data": true,
       "display": false,
       "name": "ABC Pre-generator MSE"
      }
     },
     "output_type": "display_data"
    },
    {
     "data": {
      "application/scrapbook.scrap.json+json": {
       "data": 0.22336862486116396,
       "encoder": "json",
       "name": "Prior Model MAE",
       "version": 1
      }
     },
     "metadata": {
      "scrapbook": {
       "data": true,
       "display": false,
       "name": "Prior Model MAE"
      }
     },
     "output_type": "display_data"
    },
    {
     "data": {
      "application/scrapbook.scrap.json+json": {
       "data": 0.8013574135371166,
       "encoder": "json",
       "name": "ABC Pre-generator MAE",
       "version": 1
      }
     },
     "metadata": {
      "scrapbook": {
       "data": true,
       "display": false,
       "name": "ABC Pre-generator MAE"
      }
     },
     "output_type": "display_data"
    }
   ],
   "source": [
    "y_pred = prior_model.predict(X_test)\n",
    "y_abc = y_pred + np.random.normal(0,variance, y_pred.shape)\n",
    "mse = mean_squared_error(y_pred,Y_test)\n",
    "sb.glue(\"Prior Model MSE\",mse)\n",
    "mse = mean_squared_error(y_abc,Y_test)\n",
    "sb.glue(\"ABC Pre-generator MSE\",mse)\n",
    "\n",
    "mae = mean_absolute_error(y_pred,Y_test)\n",
    "sb.glue(\"Prior Model MAE\",mae)\n",
    "mae = mean_absolute_error(y_abc,Y_test)\n",
    "sb.glue(\"ABC Pre-generator MAE\",mae)"
   ]
  },
  {
   "cell_type": "markdown",
   "id": "25609da2",
   "metadata": {
    "papermill": {
     "duration": 0.009694,
     "end_time": "2022-03-11T10:18:57.059689",
     "exception": false,
     "start_time": "2022-03-11T10:18:57.049995",
     "status": "completed"
    },
    "tags": []
   },
   "source": [
    "# ABC GAN Model"
   ]
  },
  {
   "cell_type": "code",
   "execution_count": 11,
   "id": "dfc3464d",
   "metadata": {
    "execution": {
     "iopub.execute_input": "2022-03-11T10:18:57.082238Z",
     "iopub.status.busy": "2022-03-11T10:18:57.081855Z",
     "iopub.status.idle": "2022-03-11T10:18:57.084274Z",
     "shell.execute_reply": "2022-03-11T10:18:57.084521Z"
    },
    "papermill": {
     "duration": 0.015303,
     "end_time": "2022-03-11T10:18:57.084636",
     "exception": false,
     "start_time": "2022-03-11T10:18:57.069333",
     "status": "completed"
    },
    "tags": []
   },
   "outputs": [],
   "source": [
    "gen = network.Generator(n_features+1).to(device)\n",
    "disc = network.Discriminator(n_features+1).to(device)\n",
    "\n",
    "criterion = torch.nn.BCELoss()\n",
    "gen_opt = torch.optim.Adam(gen.parameters(), lr=0.001, betas=(0.5, 0.999))\n",
    "disc_opt = torch.optim.Adam(disc.parameters(), lr=0.001, betas=(0.5, 0.999))"
   ]
  },
  {
   "cell_type": "code",
   "execution_count": 12,
   "id": "b75fdd85",
   "metadata": {
    "execution": {
     "iopub.execute_input": "2022-03-11T10:18:57.106385Z",
     "iopub.status.busy": "2022-03-11T10:18:57.106025Z",
     "iopub.status.idle": "2022-03-11T10:19:33.714277Z",
     "shell.execute_reply": "2022-03-11T10:19:33.714592Z"
    },
    "papermill": {
     "duration": 36.620284,
     "end_time": "2022-03-11T10:19:33.714737",
     "exception": false,
     "start_time": "2022-03-11T10:18:57.094453",
     "status": "completed"
    },
    "tags": []
   },
   "outputs": [
    {
     "data": {
      "image/png": "[encoded data removed]",
      "text/plain": [
       "<Figure size 432x288 with 1 Axes>"
      ]
     },
     "metadata": {
      "needs_background": "light"
     },
     "output_type": "display_data"
    },
    {
     "data": {
      "image/png": "[encoded data removed]",
      "text/plain": [
       "<Figure size 432x288 with 1 Axes>"
      ]
     },
     "metadata": {
      "needs_background": "light"
     },
     "output_type": "display_data"
    }
   ],
   "source": [
    "#Training the ABC_GAN \n",
    "ABC_train_test2.training_GAN(disc,gen,disc_opt,gen_opt,train_data,batch_size,n_epochs,criterion,prior_model,variance,0,device)"
   ]
  },
  {
   "cell_type": "code",
   "execution_count": 13,
   "id": "1fa7c368",
   "metadata": {
    "execution": {
     "iopub.execute_input": "2022-03-11T10:19:33.738889Z",
     "iopub.status.busy": "2022-03-11T10:19:33.738519Z",
     "iopub.status.idle": "2022-03-11T10:19:34.043722Z",
     "shell.execute_reply": "2022-03-11T10:19:34.044032Z"
    },
    "papermill": {
     "duration": 0.318466,
     "end_time": "2022-03-11T10:19:34.044152",
     "exception": false,
     "start_time": "2022-03-11T10:19:33.725686",
     "status": "completed"
    },
    "tags": []
   },
   "outputs": [
    {
     "data": {
      "application/scrapbook.scrap.json+json": {
       "data": 0.16242359353697194,
       "encoder": "json",
       "name": "ABC-GAN Model 1 MSE",
       "version": 1
      }
     },
     "metadata": {
      "scrapbook": {
       "data": true,
       "display": false,
       "name": "ABC-GAN Model 1 MSE"
      }
     },
     "output_type": "display_data"
    },
    {
     "data": {
      "application/scrapbook.scrap.json+json": {
       "data": 0.26043664090956253,
       "encoder": "json",
       "name": "ABC-GAN Model 1 MAE",
       "version": 1
      }
     },
     "metadata": {
      "scrapbook": {
       "data": true,
       "display": false,
       "name": "ABC-GAN Model 1 MAE"
      }
     },
     "output_type": "display_data"
    },
    {
     "data": {
      "application/scrapbook.scrap.json+json": {
       "data": 26.564537372775376,
       "encoder": "json",
       "name": "ABC-GAN Model 1 Manhattan Distance",
       "version": 1
      }
     },
     "metadata": {
      "scrapbook": {
       "data": true,
       "display": false,
       "name": "ABC-GAN Model 1 Manhattan Distance"
      }
     },
     "output_type": "display_data"
    },
    {
     "data": {
      "application/scrapbook.scrap.json+json": {
       "data": 4.069986459104622,
       "encoder": "json",
       "name": "ABC-GAN Model 1 Euclidean distance",
       "version": 1
      }
     },
     "metadata": {
      "scrapbook": {
       "data": true,
       "display": false,
       "name": "ABC-GAN Model 1 Euclidean distance"
      }
     },
     "output_type": "display_data"
    },
    {
     "data": {
      "application/scrapbook.scrap.json+json": {
       "data": [
        [
         0.16620221171608787,
         0.16765563575362677,
         0.15150347599648534,
         0.16302716026297065,
         0.16258394036144216,
         0.1618215823953722,
         0.16013171457345102,
         0.15971660755203088,
         0.16050768009859329,
         0.16132730597392317,
         0.16481046968505053,
         0.16272654376931747,
         0.15995124800731583,
         0.15750705045661045,
         0.1699092236911899,
         0.16865675664133742,
         0.16249185125190582,
         0.16080088992592975,
         0.15854040657372506,
         0.1721449024049535,
         0.16090612987573635,
         0.16057336426043753,
         0.16062673384035922,
         0.15575754138345707,
         0.15970930241207756,
         0.16261702569946243,
         0.15877931665327574,
         0.16392424764807714,
         0.16564037190618983,
         0.1711543275433166,
         0.1592477896975688,
         0.15894233210207043,
         0.1646985124342536,
         0.16178999202643865,
         0.15869407180754494,
         0.1583397004656852,
         0.16591195272949108,
         0.15911256049810282,
         0.1689985802792431,
         0.15656140394077775,
         0.16209840988309274,
         0.16597087358981563,
         0.16327243816103837,
         0.16708769643994878,
         0.1614950292493527,
         0.15850840774201747,
         0.16210551912420448,
         0.16668262230115333,
         0.17534158961753002,
         0.1641943670044257,
         0.15592281117539705,
         0.1602361677555809,
         0.16259730711924775,
         0.1618127743431748,
         0.16006592235607134,
         0.16306183251655867,
         0.16335528975450234,
         0.16410373500614803,
         0.1627230270948857,
         0.16066462982187604,
         0.17088843131253853,
         0.16304966605492133,
         0.1646256951567705,
         0.1659206112358891,
         0.1637993245999503,
         0.16092471480345802,
         0.15459123773798078,
         0.1680176836150755,
         0.16518814762775658,
         0.17087940813999233,
         0.1590666396047147,
         0.16220071518332949,
         0.16010711439634226,
         0.15445016910568016,
         0.16131625919990736,
         0.16016543098938305,
         0.1599713962429118,
         0.16651216049380332,
         0.16201254009130153,
         0.16545887469806528,
         0.16094354516620524,
         0.15914049578623768,
         0.16519740191435228,
         0.1584403560966525,
         0.1634193596767898,
         0.16400026997136335,
         0.16578905148805986,
         0.1654575069863668,
         0.16070105492722672,
         0.1616036312373972,
         0.15782308968655567,
         0.1626419574123249,
         0.1628136907925801,
         0.1588990937288158,
         0.1593047844690639,
         0.164541201863176,
         0.16337653942762823,
         0.1605664833980039,
         0.16083446401437343,
         0.16241679101334347
        ],
        [
         0.26490523034304964,
         0.2580988817282167,
         0.2545810920350692,
         0.25934383777134556,
         0.2595595981852681,
         0.2604576677230059,
         0.26027834221866786,
         0.2567549860287531,
         0.2594604082405567,
         0.2583207452633217,
         0.2661063395002309,
         0.2599775376638361,
         0.25797596679744766,
         0.25455554549162296,
         0.26510466047215697,
         0.2670339531831297,
         0.2603000840354784,
         0.2640763345886679,
         0.2600330565051705,
         0.26656345150196087,
         0.26216958828416526,
         0.25853685954330013,
         0.25783552642108176,
         0.2522705348902473,
         0.2564613616422695,
         0.2579536401831052,
         0.25683224314422,
         0.25349494526345356,
         0.2687042345676352,
         0.26598730314449937,
         0.2584886251784423,
         0.2583263500721431,
         0.26447093768008784,
         0.261951042923565,
         0.2572762847092806,
         0.2564790716723484,
         0.2640214122320507,
         0.2581717408097842,
         0.2599939613000435,
         0.2593172520910408,
         0.257854019054303,
         0.2655170040533823,
         0.26234870758272855,
         0.2579223031506819,
         0.2600333165085199,
         0.25929824485644404,
         0.2578486728244552,
         0.26347496985074353,
         0.2663139401040241,
         0.2654753470537709,
         0.25513351507777093,
         0.25904587513821964,
         0.26557199945490734,
         0.2592575604497802,
         0.25462121395942044,
         0.2558716622126453,
         0.2573338281363249,
         0.2668768528702797,
         0.2618996580587883,
         0.2607701653432028,
         0.26665726059353817,
         0.26322751437478203,
         0.262409335075348,
         0.2594364886628647,
         0.2664712079453702,
         0.2586092700195663,
         0.2580036334693432,
         0.26549882350452975,
         0.2597201816810697,
         0.2645915807681341,
         0.25534711752598194,
         0.26084146082547366,
         0.25914667334918884,
         0.25546117189029854,
         0.26205733487857324,
         0.2552573923752004,
         0.2607140243418661,
         0.26919446995153146,
         0.2603848388455078,
         0.262563657417309,
         0.25741093309924884,
         0.26138521939077797,
         0.2594590453321443,
         0.25737471659393873,
         0.26117943062940063,
         0.2581914100503805,
         0.26242253735807597,
         0.26523097593556433,
         0.2611646800868067,
         0.26202292451817616,
         0.2550817016950425,
         0.26261311831573647,
         0.26071372920391606,
         0.2575592493967098,
         0.2611134731594254,
         0.2613713896888144,
         0.2603240989002527,
         0.2572124709612599,
         0.2581721908759837,
         0.26336786749900554
        ],
        [
         27.020333494991064,
         26.326085936278105,
         25.967271387577057,
         26.45307145267725,
         26.475079014897346,
         26.5666821077466,
         26.54839090630412,
         26.189008574932814,
         26.464961640536785,
         26.348716016858816,
         27.142846629023552,
         26.517708841711283,
         26.313548613339663,
         25.96466564014554,
         27.04067536816001,
         27.23746322467923,
         26.550608571618795,
         26.93578612804413,
         26.523371763527393,
         27.189472053200006,
         26.741298004984856,
         26.370759673416615,
         26.299223694950342,
         25.731594558805227,
         26.15905888751149,
         26.31127129867673,
         26.19688880071044,
         25.856484416872263,
         27.40783192589879,
         27.130704920738935,
         26.365839768201113,
         26.3492877073586,
         26.97603564336896,
         26.71900637820363,
         26.242181040346622,
         26.16086531057954,
         26.930184047669172,
         26.33351756259799,
         26.519384052604437,
         26.45035971328616,
         26.301109943538904,
         27.082734413444996,
         26.75956817343831,
         26.308074921369553,
         26.523398283869028,
         26.448420975357294,
         26.300564628094435,
         26.87444692477584,
         27.164021890610456,
         27.078485399484634,
         26.023618537932634,
         26.422679264098406,
         27.08834394440055,
         26.44427116587758,
         25.971363823860884,
         26.09890954568982,
         26.248050469905138,
         27.221438992768526,
         26.713765121996403,
         26.598556865006685,
         27.199040580540895,
         26.84920646622777,
         26.7657521776855,
         26.462521843612194,
         27.18006321042776,
         26.378145541995764,
         26.316370613873005,
         27.080879997462034,
         26.491458531469107,
         26.988341238349676,
         26.045405987650156,
         26.605829004198313,
         26.43296068161726,
         26.05703953281045,
         26.72984815761447,
         26.03625402227044,
         26.59283048287034,
         27.45783593505621,
         26.559253562241793,
         26.781493056565523,
         26.25591517612338,
         26.661292377859354,
         26.464822623878717,
         26.25222109258175,
         26.640301924198866,
         26.335523825138807,
         26.76709881052375,
         27.05355954542756,
         26.638797368854284,
         26.726338300853968,
         26.018333572894335,
         26.786538068205118,
         26.59280037879944,
         26.271043438464403,
         26.63357426226139,
         26.659881748259068,
         26.553058087825775,
         26.235672038048506,
         26.333563469350338,
         26.863522484898567
        ],
        [
         4.117356627138455,
         4.135320404378592,
         3.9310754955408194,
         4.0778389309563225,
         4.072291973430576,
         4.06273324306777,
         4.041464448252886,
         4.036222735467796,
         4.046206046416385,
         4.056523783899234,
         4.100081451370833,
         4.074077498584234,
         4.039186464716157,
         4.008206475042704,
         4.16302063608882,
         4.14764863234778,
         4.0711385173799215,
         4.049900094131314,
         4.021333295129858,
         4.190319802271094,
         4.051225153867049,
         4.0470338711906795,
         4.047706369256129,
         3.985883744053835,
         4.036130429759662,
         4.072706301876574,
         4.024362098349766,
         4.089043073887075,
         4.110391457565977,
         4.178246212158671,
         4.030294598308171,
         4.0264274331485455,
         4.098688603479638,
         4.062336665848454,
         4.023281661078377,
         4.018787061726448,
         4.113759737564663,
         4.028583022702459,
         4.151849610532972,
         3.9961560532540927,
         4.066206808325845,
         4.114490139271352,
         4.080905376558724,
         4.12831019145543,
         4.058631910315835,
         4.020927453919777,
         4.066295974307435,
         4.1233029811933095,
         4.229047427138652,
         4.092410711848386,
         3.9879978359937076,
         4.042782347724058,
         4.07245937071977,
         4.062622672979097,
         4.040634118590703,
         4.0782725407565605,
         4.081940660391725,
         4.0912810916175255,
         4.074033476013462,
         4.048183820163229,
         4.174999400464499,
         4.078120392730206,
         4.097782437610688,
         4.11386707928935,
         4.087484692227596,
         4.051459108759794,
         3.970932667431423,
         4.1397830533420095,
         4.104776614875791,
         4.174889175808049,
         4.028001643455584,
         4.067489760122279,
         4.041154002067591,
         3.969120462870757,
         4.056384897712562,
         4.0418898996530155,
         4.03944085447194,
         4.121194046677242,
         4.065129652214398,
         4.1081388996968755,
         4.051696139514034,
         4.028936655024032,
         4.104891593606818,
         4.020064218623697,
         4.082741075188648,
         4.0899911414426136,
         4.112235797201093,
         4.108121920368164,
         4.048642686453958,
         4.059996352980445,
         4.012225710005442,
         4.0730184944408405,
         4.0751682739297,
         4.025879725021502,
         4.031015754849453,
         4.0967307197378675,
         4.082206146389238,
         4.046947158858933,
         4.050322867311454,
         4.07019811352728
        ]
       ],
       "encoder": "json",
       "name": "ABC_GAN_1 Metrics",
       "version": 1
      }
     },
     "metadata": {
      "scrapbook": {
       "data": true,
       "display": false,
       "name": "ABC_GAN_1 Metrics"
      }
     },
     "output_type": "display_data"
    },
    {
     "name": "stdout",
     "output_type": "stream",
     "text": [
      "MSE\n",
      "0.16242359353697194\n"
     ]
    }
   ],
   "source": [
    "ABC_GAN1_metrics=ABC_train_test2.test_generator(gen,test_data,prior_model,variance,0,\"1\",device)\n",
    "sb.glue(\"ABC_GAN_1 Metrics\",ABC_GAN1_metrics)\n",
    "\n",
    "print(\"MSE\")\n",
    "print(mean(ABC_GAN1_metrics[0]))"
   ]
  },
  {
   "cell_type": "code",
   "execution_count": 14,
   "id": "eb22ce5c",
   "metadata": {
    "execution": {
     "iopub.execute_input": "2022-03-11T10:19:34.071967Z",
     "iopub.status.busy": "2022-03-11T10:19:34.071608Z",
     "iopub.status.idle": "2022-03-11T10:19:34.398172Z",
     "shell.execute_reply": "2022-03-11T10:19:34.398479Z"
    },
    "papermill": {
     "duration": 0.341911,
     "end_time": "2022-03-11T10:19:34.398602",
     "exception": false,
     "start_time": "2022-03-11T10:19:34.056691",
     "status": "completed"
    },
    "tags": []
   },
   "outputs": [
    {
     "data": {
      "image/png": "[encoded data removed]",
      "text/plain": [
       "<Figure size 432x288 with 1 Axes>"
      ]
     },
     "metadata": {
      "needs_background": "light"
     },
     "output_type": "display_data"
    },
    {
     "data": {
      "image/png": "[encoded data removed]",
      "text/plain": [
       "<Figure size 432x288 with 1 Axes>"
      ]
     },
     "metadata": {
      "needs_background": "light"
     },
     "output_type": "display_data"
    },
    {
     "data": {
      "image/png": "[encoded data removed]",
      "text/plain": [
       "<Figure size 432x288 with 1 Axes>"
      ]
     },
     "metadata": {
      "needs_background": "light"
     },
     "output_type": "display_data"
    },
    {
     "data": {
      "image/png": "[encoded data removed]",
      "text/plain": [
       "<Figure size 432x288 with 1 Axes>"
      ]
     },
     "metadata": {
      "needs_background": "light"
     },
     "output_type": "display_data"
    }
   ],
   "source": [
    "sanityChecks.discProbVsError(train_data,disc,device)\n",
    "sanityChecks.discProbVsError(test_data,disc,device)"
   ]
  },
  {
   "cell_type": "markdown",
   "id": "130f3a4d",
   "metadata": {
    "id": "130f3a4d",
    "papermill": {
     "duration": 0.014449,
     "end_time": "2022-03-11T10:19:34.428509",
     "exception": false,
     "start_time": "2022-03-11T10:19:34.414060",
     "status": "completed"
    },
    "tags": []
   },
   "source": [
    "# ABC - GAN Model with skip connection"
   ]
  },
  {
   "cell_type": "code",
   "execution_count": 15,
   "id": "4e43dad1",
   "metadata": {
    "execution": {
     "iopub.execute_input": "2022-03-11T10:19:34.460799Z",
     "iopub.status.busy": "2022-03-11T10:19:34.460434Z",
     "iopub.status.idle": "2022-03-11T10:19:34.462666Z",
     "shell.execute_reply": "2022-03-11T10:19:34.462958Z"
    },
    "id": "4e43dad1",
    "papermill": {
     "duration": 0.020035,
     "end_time": "2022-03-11T10:19:34.463067",
     "exception": false,
     "start_time": "2022-03-11T10:19:34.443032",
     "status": "completed"
    },
    "tags": []
   },
   "outputs": [],
   "source": [
    "#Generator\n",
    "gen3 = network.GeneratorWithSkipConnection(n_features+1).to(device)\n",
    "constraints=network.weightConstraint()\n",
    "#Discriminator \n",
    "disc3 = network.Discriminator(n_features+1).to(device)\n",
    "\n",
    "criterion = torch.nn.BCELoss()\n",
    "gen_opt = torch.optim.Adam(gen3.parameters(), lr=0.001, betas=(0.5, 0.999))\n",
    "disc_opt = torch.optim.Adam(disc3.parameters(), lr=0.001, betas=(0.5, 0.999))\n"
   ]
  },
  {
   "cell_type": "code",
   "execution_count": 16,
   "id": "26acbc37",
   "metadata": {
    "execution": {
     "iopub.execute_input": "2022-03-11T10:19:34.495178Z",
     "iopub.status.busy": "2022-03-11T10:19:34.494811Z",
     "iopub.status.idle": "2022-03-11T10:22:07.643591Z",
     "shell.execute_reply": "2022-03-11T10:22:07.643908Z"
    },
    "id": "26acbc37",
    "papermill": {
     "duration": 153.166067,
     "end_time": "2022-03-11T10:22:07.644030",
     "exception": false,
     "start_time": "2022-03-11T10:19:34.477963",
     "status": "completed"
    },
    "tags": []
   },
   "outputs": [
    {
     "data": {
      "image/png": "[encoded data removed]",
      "text/plain": [
       "<Figure size 432x288 with 1 Axes>"
      ]
     },
     "metadata": {
      "needs_background": "light"
     },
     "output_type": "display_data"
    },
    {
     "data": {
      "image/png": "[encoded data removed]",
      "text/plain": [
       "<Figure size 432x288 with 1 Axes>"
      ]
     },
     "metadata": {
      "needs_background": "light"
     },
     "output_type": "display_data"
    }
   ],
   "source": [
    "ABC_train_test2.training_GAN_skip_connection(disc3,gen3,disc_opt,gen_opt,train_data,batch_size,n_epochs,criterion,prior_model,variance,0,device)"
   ]
  },
  {
   "cell_type": "code",
   "execution_count": 17,
   "id": "c5e0717b",
   "metadata": {
    "execution": {
     "iopub.execute_input": "2022-03-11T10:22:07.677848Z",
     "iopub.status.busy": "2022-03-11T10:22:07.677475Z",
     "iopub.status.idle": "2022-03-11T10:22:08.513981Z",
     "shell.execute_reply": "2022-03-11T10:22:08.514290Z"
    },
    "id": "c5e0717b",
    "papermill": {
     "duration": 0.854635,
     "end_time": "2022-03-11T10:22:08.514411",
     "exception": false,
     "start_time": "2022-03-11T10:22:07.659776",
     "status": "completed"
    },
    "tags": []
   },
   "outputs": [
    {
     "data": {
      "application/scrapbook.scrap.json+json": {
       "data": 0.1378119687981455,
       "encoder": "json",
       "name": "ABC-GAN Model 3 MSE",
       "version": 1
      }
     },
     "metadata": {
      "scrapbook": {
       "data": true,
       "display": false,
       "name": "ABC-GAN Model 3 MSE"
      }
     },
     "output_type": "display_data"
    },
    {
     "data": {
      "application/scrapbook.scrap.json+json": {
       "data": 0.24643556074440187,
       "encoder": "json",
       "name": "ABC-GAN Model 3 MAE",
       "version": 1
      }
     },
     "metadata": {
      "scrapbook": {
       "data": true,
       "display": false,
       "name": "ABC-GAN Model 3 MAE"
      }
     },
     "output_type": "display_data"
    },
    {
     "data": {
      "application/scrapbook.scrap.json+json": {
       "data": 25.13642719592899,
       "encoder": "json",
       "name": "ABC-GAN Model 3 Manhattan Distance",
       "version": 1
      }
     },
     "metadata": {
      "scrapbook": {
       "data": true,
       "display": false,
       "name": "ABC-GAN Model 3 Manhattan Distance"
      }
     },
     "output_type": "display_data"
    },
    {
     "data": {
      "application/scrapbook.scrap.json+json": {
       "data": 3.7492075680118724,
       "encoder": "json",
       "name": "ABC-GAN Model 3 Euclidean distance",
       "version": 1
      }
     },
     "metadata": {
      "scrapbook": {
       "data": true,
       "display": false,
       "name": "ABC-GAN Model 3 Euclidean distance"
      }
     },
     "output_type": "display_data"
    },
    {
     "data": {
      "application/scrapbook.scrap.json+json": {
       "data": [
        [
         0.13539385910909985,
         0.13926464195227944,
         0.1368607403720279,
         0.1367992227744574,
         0.13633305809097515,
         0.13674453295095904,
         0.13847181771447636,
         0.1358538352181598,
         0.1375298049502071,
         0.14093071308790445,
         0.1362361923754896,
         0.13831780753911727,
         0.1373351835475422,
         0.13782469644521875,
         0.13642692869820658,
         0.137672297117822,
         0.1388292098296526,
         0.13797513017932364,
         0.13977942076178038,
         0.13761685759661052,
         0.13749062422427696,
         0.13709917784291106,
         0.13587459921034886,
         0.13949280584270535,
         0.1401022928318002,
         0.1379123305133635,
         0.13810833128794905,
         0.13849515009977048,
         0.13964768840016678,
         0.13815757786994418,
         0.13607662800641246,
         0.1368491899737422,
         0.1389163026767575,
         0.1372066264231213,
         0.13863212946194148,
         0.13895715573389886,
         0.1387386583470179,
         0.13812857551343385,
         0.13853964299632548,
         0.13891200698819844,
         0.13863577289317916,
         0.1376157883669251,
         0.13843706542614106,
         0.13677363826248437,
         0.136670206216683,
         0.13779238218748288,
         0.13703687433501252,
         0.13727632321320887,
         0.13635622103102332,
         0.13669573140520833,
         0.13756343315909758,
         0.1396207075274487,
         0.13759462111621013,
         0.13614324763960775,
         0.13755485834644365,
         0.1398497425928954,
         0.13798148595404774,
         0.13728087382239404,
         0.13836954319492728,
         0.1362908407807101,
         0.13687069491491022,
         0.13841371345325743,
         0.13848937198079378,
         0.1385907596329551,
         0.13885840668097565,
         0.13954157690574745,
         0.1366981854337352,
         0.13692435113985651,
         0.13778071381926135,
         0.1392410199184021,
         0.1360793500792428,
         0.13761044658820662,
         0.13591862222185908,
         0.13790745280452424,
         0.13945327664453525,
         0.13739534594117428,
         0.13794929990506613,
         0.13789817372005778,
         0.13804591837956182,
         0.13879146564401207,
         0.13941343667983735,
         0.13635589787142813,
         0.1355377765471058,
         0.13821408343461528,
         0.1382275217144212,
         0.1388187315421451,
         0.14027339612652973,
         0.1378514949618417,
         0.1363942010940431,
         0.13880544721468488,
         0.1385021902402702,
         0.13583328649187099,
         0.13839107235710935,
         0.13792793216748944,
         0.13822246318167478,
         0.13659538614255431,
         0.1359605384919822,
         0.13977492469813332,
         0.13827914531916147,
         0.13628700570298868
        ],
        [
         0.24541156399337685,
         0.24869425678808316,
         0.24532786439921633,
         0.24660757619558887,
         0.244190498236932,
         0.24515091576704792,
         0.24922950263591667,
         0.24434216923135169,
         0.24564685670695469,
         0.2500428491655518,
         0.24200375449350653,
         0.24721520649744014,
         0.24716646416003213,
         0.24747211150094575,
         0.2458016928833197,
         0.24573473160282946,
         0.24630894502807482,
         0.24756777783234915,
         0.24881124607853444,
         0.2479403919412517,
         0.2459563442012843,
         0.24588326607629948,
         0.24495637142921195,
         0.24859108425238552,
         0.24754468072205782,
         0.24625578787469982,
         0.24716961644955127,
         0.2464079397237476,
         0.2484573425140743,
         0.24622145801892176,
         0.24325937936630318,
         0.24705733797129462,
         0.24695559982758233,
         0.24746342070912028,
         0.2468190423815566,
         0.24669282465223588,
         0.24877331069871492,
         0.2460083976826247,
         0.24598881452545232,
         0.24813431254861987,
         0.24720316385740743,
         0.2449836331036161,
         0.24486859338175432,
         0.2463901848258341,
         0.24344856801497586,
         0.24828035563376605,
         0.24591191865357698,
         0.24728403540839458,
         0.24529176588882418,
         0.24359062482036797,
         0.2477486716656416,
         0.24856675449101365,
         0.2460979814184647,
         0.24342979300840228,
         0.24504658914006808,
         0.24779509402373256,
         0.24783252628848834,
         0.24556451095450743,
         0.2468320787975601,
         0.24675455415511832,
         0.24393971243361925,
         0.2476499506144547,
         0.24800299434904374,
         0.24715878440103695,
         0.2469058031873668,
         0.24734241271610646,
         0.24541210573093564,
         0.2465564331185876,
         0.24584733674704445,
         0.24735139153313404,
         0.2471291399652175,
         0.2457141630972425,
         0.24440955991546312,
         0.24478337318435603,
         0.24829538061520925,
         0.244821749088884,
         0.24577967238192464,
         0.2459015396113197,
         0.24608433984366118,
         0.24780627895219653,
         0.24781136010207383,
         0.2435078332657177,
         0.24519219758062094,
         0.24802296383160294,
         0.24520418531827481,
         0.24775041201535394,
         0.2496502714450745,
         0.24628406733858818,
         0.2434776576747205,
         0.24723586925835,
         0.2479247105691363,
         0.2460286118747557,
         0.24738097844608858,
         0.24653838005136042,
         0.24638717798698767,
         0.24399359011109553,
         0.24640459273302673,
         0.24777090368682847,
         0.2466185159031667,
         0.24529556946500258
        ],
        [
         25.031979527324438,
         25.36681419238448,
         25.023442168720067,
         25.153972771950066,
         24.907430820167065,
         25.005393408238888,
         25.4214092688635,
         24.922901261597872,
         25.055979384109378,
         25.504370614886284,
         24.684382958337665,
         25.215951062738895,
         25.210979344323277,
         25.242155373096466,
         25.07177267409861,
         25.064942623488605,
         25.12351239286363,
         25.251913338899612,
         25.378747100010514,
         25.289919978007674,
         25.087547108531,
         25.080093139782548,
         24.98554988577962,
         25.356290593743324,
         25.249557433649898,
         25.11809036321938,
         25.211300877854228,
         25.133609851822257,
         25.34264893643558,
         25.11458871793002,
         24.812456695362926,
         25.199848473072052,
         25.1894711824134,
         25.24126891233027,
         25.175542322918773,
         25.16266811452806,
         25.37487769126892,
         25.09285656362772,
         25.090859081596136,
         25.309699879959226,
         25.214722713455558,
         24.988330576568842,
         24.97659652493894,
         25.13179885223508,
         24.831753937527537,
         25.324596274644136,
         25.083015702664852,
         25.22297161165625,
         25.019760120660067,
         24.846243731677532,
         25.270364509895444,
         25.35380895808339,
         25.1019941046834,
         24.829838886857033,
         24.994752092286944,
         25.275099590420723,
         25.27891768142581,
         25.047580117359757,
         25.17687203735113,
         25.16896452382207,
         24.881850668229163,
         25.26029496267438,
         25.296305423602462,
         25.21019600890577,
         25.184391925111413,
         25.22892609704286,
         25.032034784555435,
         25.148756178095937,
         25.076428348198533,
         25.22984193637967,
         25.207172276452184,
         25.062844635918736,
         24.92977511137724,
         24.967904064804316,
         25.326128822751343,
         24.971818407066166,
         25.069526582956314,
         25.08195704035461,
         25.10060266405344,
         25.276240453124046,
         25.27675873041153,
         24.837798993103206,
         25.009604153223336,
         25.2983423108235,
         25.010826902464032,
         25.2705420255661,
         25.4643276873976,
         25.120974868535995,
         24.83472108282149,
         25.2180586643517,
         25.2883204780519,
         25.09491841122508,
         25.232859801501036,
         25.146914765238762,
         25.131492154672742,
         24.887346191331744,
         25.133268458768725,
         25.272632176056504,
         25.155088622123003,
         25.020148085430264
        ],
        [
         3.7162041963713697,
         3.76895124393146,
         3.736280974170284,
         3.735441168455829,
         3.7290711880144443,
         3.734694413335289,
         3.758207738653704,
         3.722511409284369,
         3.7454025290909816,
         3.7914288513654384,
         3.727746185337721,
         3.7561171931916553,
         3.742751490795148,
         3.749415826153763,
         3.730354772299421,
         3.7473422990191114,
         3.76305453091296,
         3.751461485646762,
         3.7759106077476985,
         3.7465877108182415,
         3.7448689791334817,
         3.7395342143075685,
         3.722795873997872,
         3.7720374064894875,
         3.7802690206972867,
         3.750607645750629,
         3.7532718781578827,
         3.7585243527449155,
         3.7741309220557,
         3.753940988179529,
         3.72556251546717,
         3.73612330863446,
         3.764234699514532,
         3.740999317716908,
         3.7603825875990364,
         3.764788159360056,
         3.761827102804676,
         3.753546949535899,
         3.759128035279617,
         3.7641764986243986,
         3.760432001127566,
         3.7465731560222277,
         3.7577361101421674,
         3.7350918466315393,
         3.7336792891331285,
         3.7489762580100785,
         3.7386844186386305,
         3.7419493539794604,
         3.7293879585213943,
         3.734027932853642,
         3.7458604061320746,
         3.773766310703375,
         3.7462850070240825,
         3.726474373887467,
         3.74574365798532,
         3.7768603024834437,
         3.7515478895134557,
         3.742011374900428,
         3.756819586549583,
         3.7284937655348744,
         3.7364168505830344,
         3.757419163765503,
         3.7584459477343777,
         3.7598214695064205,
         3.7634502097755345,
         3.7726967601950516,
         3.7340614502497123,
         3.7371491562774644,
         3.748817521507903,
         3.768631586090236,
         3.7255997783018455,
         3.7465004406775497,
         3.7233989131745777,
         3.7505413190713512,
         3.771502912333834,
         3.7435711941940903,
         3.7511103143358424,
         3.7504151396139984,
         3.7524237067148083,
         3.76254295599256,
         3.770964139493163,
         3.7293835392576162,
         3.718178748769993,
         3.7547085786157566,
         3.75489110559427,
         3.762912517890736,
         3.782576688569054,
         3.7497803250467685,
         3.729907306032201,
         3.7627324666919724,
         3.7586198802895137,
         3.7222298722903773,
         3.7571118402870507,
         3.7508197878709026,
         3.754822398533761,
         3.7326571482712603,
         3.7239730028804154,
         3.7758498803858176,
         3.7555922066372527,
         3.728441307262975
        ]
       ],
       "encoder": "json",
       "name": "ABC_GAN_3 Metrics",
       "version": 1
      }
     },
     "metadata": {
      "scrapbook": {
       "data": true,
       "display": false,
       "name": "ABC_GAN_3 Metrics"
      }
     },
     "output_type": "display_data"
    },
    {
     "name": "stdout",
     "output_type": "stream",
     "text": [
      "MSE\n",
      "0.1378119687981455\n"
     ]
    }
   ],
   "source": [
    "ABC_GAN3_metrics=ABC_train_test2.test_generator(gen3,test_data,prior_model,variance,0,\"3\",device)\n",
    "sb.glue(\"ABC_GAN_3 Metrics\",ABC_GAN3_metrics)\n",
    "\n",
    "print(\"MSE\")\n",
    "print(mean(ABC_GAN3_metrics[0]))"
   ]
  },
  {
   "cell_type": "code",
   "execution_count": 18,
   "id": "c8e46b48",
   "metadata": {
    "execution": {
     "iopub.execute_input": "2022-03-11T10:22:08.551916Z",
     "iopub.status.busy": "2022-03-11T10:22:08.551532Z",
     "iopub.status.idle": "2022-03-11T10:22:08.882450Z",
     "shell.execute_reply": "2022-03-11T10:22:08.882759Z"
    },
    "id": "c8e46b48",
    "papermill": {
     "duration": 0.350765,
     "end_time": "2022-03-11T10:22:08.882882",
     "exception": false,
     "start_time": "2022-03-11T10:22:08.532117",
     "status": "completed"
    },
    "tags": []
   },
   "outputs": [
    {
     "data": {
      "image/png": "[encoded data removed]",
      "text/plain": [
       "<Figure size 432x288 with 1 Axes>"
      ]
     },
     "metadata": {
      "needs_background": "light"
     },
     "output_type": "display_data"
    },
    {
     "data": {
      "image/png": "[encoded data removed]",
      "text/plain": [
       "<Figure size 432x288 with 1 Axes>"
      ]
     },
     "metadata": {
      "needs_background": "light"
     },
     "output_type": "display_data"
    },
    {
     "data": {
      "image/png": "[encoded data removed]",
      "text/plain": [
       "<Figure size 432x288 with 1 Axes>"
      ]
     },
     "metadata": {
      "needs_background": "light"
     },
     "output_type": "display_data"
    },
    {
     "data": {
      "image/png": "[encoded data removed]",
      "text/plain": [
       "<Figure size 432x288 with 1 Axes>"
      ]
     },
     "metadata": {
      "needs_background": "light"
     },
     "output_type": "display_data"
    }
   ],
   "source": [
    "sanityChecks.discProbVsError(train_data,disc3,device)\n",
    "sanityChecks.discProbVsError(test_data,disc3,device)"
   ]
  },
  {
   "cell_type": "markdown",
   "id": "a5bd74c3",
   "metadata": {
    "id": "a5bd74c3",
    "papermill": {
     "duration": 0.019456,
     "end_time": "2022-03-11T10:22:08.922044",
     "exception": false,
     "start_time": "2022-03-11T10:22:08.902588",
     "status": "completed"
    },
    "tags": []
   },
   "source": [
    "## Skip Connection Model Analysis - ABC-GAN "
   ]
  },
  {
   "cell_type": "markdown",
   "id": "5744a8bf",
   "metadata": {
    "id": "5744a8bf",
    "papermill": {
     "duration": 0.019122,
     "end_time": "2022-03-11T10:22:08.960420",
     "exception": false,
     "start_time": "2022-03-11T10:22:08.941298",
     "status": "completed"
    },
    "tags": []
   },
   "source": [
    "### Weight Analysis \n",
    "\n",
    "Study the weights of the skip connection layer\n",
    "\n",
    "Equation of the skip connection is \n",
    "\n",
    "$output = y_{gan} * w + y_{abc} * (1-w)$"
   ]
  },
  {
   "cell_type": "code",
   "execution_count": 19,
   "id": "52c31dea",
   "metadata": {
    "execution": {
     "iopub.execute_input": "2022-03-11T10:22:09.001447Z",
     "iopub.status.busy": "2022-03-11T10:22:09.001058Z",
     "iopub.status.idle": "2022-03-11T10:22:09.004418Z",
     "shell.execute_reply": "2022-03-11T10:22:09.004662Z"
    },
    "id": "52c31dea",
    "papermill": {
     "duration": 0.025334,
     "end_time": "2022-03-11T10:22:09.004778",
     "exception": false,
     "start_time": "2022-03-11T10:22:08.979444",
     "status": "completed"
    },
    "tags": []
   },
   "outputs": [
    {
     "name": "stdout",
     "output_type": "stream",
     "text": [
      "Weight of the node at skip connection\n",
      "Parameter containing:\n",
      "tensor([[0.9868]], requires_grad=True)\n"
     ]
    },
    {
     "data": {
      "application/scrapbook.scrap.json+json": {
       "data": 0.9868289232254028,
       "encoder": "json",
       "name": "Skip Connection Weight",
       "version": 1
      }
     },
     "metadata": {
      "scrapbook": {
       "data": true,
       "display": false,
       "name": "Skip Connection Weight"
      }
     },
     "output_type": "display_data"
    }
   ],
   "source": [
    "print(\"Weight of the node at skip connection\")\n",
    "for name,param in gen3.named_parameters():\n",
    "    if(name == \"skipNode.weight\"):\n",
    "        print(param)\n",
    "        sb.glue(\"Skip Connection Weight\",param.item())"
   ]
  }
 ],
 "metadata": {
  "colab": {
   "collapsed_sections": [],
   "name": "ABC_GAN_Model-Catboost_Pre-gen.ipynb",
   "provenance": []
  },
  "interpreter": {
   "hash": "31f2aee4e71d21fbe5cf8b01ff0e069b9275f58929596ceb00d14d90e3e16cd6"
  },
  "kernelspec": {
   "display_name": "Python 3 (ipykernel)",
   "language": "python",
   "name": "python3"
  },
  "language_info": {
   "codemirror_mode": {
    "name": "ipython",
    "version": 3
   },
   "file_extension": ".py",
   "mimetype": "text/x-python",
   "name": "python",
   "nbconvert_exporter": "python",
   "pygments_lexer": "ipython3",
   "version": "3.8.11"
  },
  "papermill": {
   "default_parameters": {},
   "duration": 196.250198,
   "end_time": "2022-03-11T10:22:09.331843",
   "environment_variables": {},
   "exception": null,
   "input_path": "ABC_GAN-Catboost.ipynb",
   "output_path": "./ABC_GAN_Catboost/ABC-GAN_output_6_0.ipynb",
   "parameters": {
    "variance": 1
   },
   "start_time": "2022-03-11T10:18:53.081645",
   "version": "2.3.3"
  }
 },
 "nbformat": 4,
 "nbformat_minor": 5
}