{
 "cells": [
  {
   "cell_type": "markdown",
   "id": "622780e6",
   "metadata": {
    "id": "622780e6",
    "papermill": {
     "duration": 0.038541,
     "end_time": "2022-03-11T10:50:55.841363",
     "exception": false,
     "start_time": "2022-03-11T10:50:55.802822",
     "status": "completed"
    },
    "tags": []
   },
   "source": [
    "## Import Libraries "
   ]
  },
  {
   "cell_type": "code",
   "execution_count": 1,
   "id": "a62397e3",
   "metadata": {
    "execution": {
     "iopub.execute_input": "2022-03-11T10:50:55.876971Z",
     "iopub.status.busy": "2022-03-11T10:50:55.876470Z",
     "iopub.status.idle": "2022-03-11T10:50:55.879101Z",
     "shell.execute_reply": "2022-03-11T10:50:55.879484Z"
    },
    "id": "a62397e3",
    "papermill": {
     "duration": 0.022312,
     "end_time": "2022-03-11T10:50:55.879721",
     "exception": false,
     "start_time": "2022-03-11T10:50:55.857409",
     "status": "completed"
    },
    "tags": []
   },
   "outputs": [],
   "source": [
    "import warnings\n",
    "import sys\n",
    "sys.path.insert(0, '../../src')\n",
    "warnings.filterwarnings('ignore')"
   ]
  },
  {
   "cell_type": "code",
   "execution_count": 2,
   "id": "d6a4e155",
   "metadata": {
    "execution": {
     "iopub.execute_input": "2022-03-11T10:50:55.900424Z",
     "iopub.status.busy": "2022-03-11T10:50:55.900014Z",
     "iopub.status.idle": "2022-03-11T10:50:57.651085Z",
     "shell.execute_reply": "2022-03-11T10:50:57.651342Z"
    },
    "id": "d6a4e155",
    "papermill": {
     "duration": 1.76189,
     "end_time": "2022-03-11T10:50:57.651465",
     "exception": false,
     "start_time": "2022-03-11T10:50:55.889575",
     "status": "completed"
    },
    "tags": []
   },
   "outputs": [],
   "source": [
    "import ABC_train_test2\n",
    "import bostonDataset\n",
    "import network\n",
    "import dataset\n",
    "import sanityChecks\n",
    "import torch \n",
    "import scrapbook as sb\n",
    "from statistics import mean \n",
    "import catboost as ctb \n",
    "from sklearn.model_selection import train_test_split\n",
    "from sklearn.metrics import mean_squared_error,mean_absolute_error\n",
    "import numpy as np"
   ]
  },
  {
   "cell_type": "markdown",
   "id": "2fa5b0f7",
   "metadata": {
    "id": "2fa5b0f7",
    "papermill": {
     "duration": 0.006763,
     "end_time": "2022-03-11T10:50:57.665362",
     "exception": false,
     "start_time": "2022-03-11T10:50:57.658599",
     "status": "completed"
    },
    "tags": []
   },
   "source": [
    "## Parameters "
   ]
  },
  {
   "cell_type": "code",
   "execution_count": 3,
   "id": "783186fb",
   "metadata": {
    "execution": {
     "iopub.execute_input": "2022-03-11T10:50:57.681102Z",
     "iopub.status.busy": "2022-03-11T10:50:57.680736Z",
     "iopub.status.idle": "2022-03-11T10:50:57.682113Z",
     "shell.execute_reply": "2022-03-11T10:50:57.682417Z"
    },
    "id": "783186fb",
    "papermill": {
     "duration": 0.010453,
     "end_time": "2022-03-11T10:50:57.682528",
     "exception": false,
     "start_time": "2022-03-11T10:50:57.672075",
     "status": "completed"
    },
    "tags": [
     "parameters"
    ]
   },
   "outputs": [],
   "source": [
    "variance = 1"
   ]
  },
  {
   "cell_type": "code",
   "execution_count": 4,
   "id": "d42631cf",
   "metadata": {
    "execution": {
     "iopub.execute_input": "2022-03-11T10:50:57.698022Z",
     "iopub.status.busy": "2022-03-11T10:50:57.697665Z",
     "iopub.status.idle": "2022-03-11T10:50:57.699026Z",
     "shell.execute_reply": "2022-03-11T10:50:57.699255Z"
    },
    "papermill": {
     "duration": 0.009948,
     "end_time": "2022-03-11T10:50:57.699357",
     "exception": false,
     "start_time": "2022-03-11T10:50:57.689409",
     "status": "completed"
    },
    "tags": [
     "injected-parameters"
    ]
   },
   "outputs": [],
   "source": [
    "# Parameters\n",
    "variance = 0.1\n"
   ]
  },
  {
   "cell_type": "markdown",
   "id": "391cdbfd",
   "metadata": {
    "id": "391cdbfd",
    "papermill": {
     "duration": 0.006783,
     "end_time": "2022-03-11T10:50:57.712955",
     "exception": false,
     "start_time": "2022-03-11T10:50:57.706172",
     "status": "completed"
    },
    "tags": []
   },
   "source": [
    "## Dataset \n"
   ]
  },
  {
   "cell_type": "code",
   "execution_count": 5,
   "id": "5b51f161",
   "metadata": {
    "execution": {
     "iopub.execute_input": "2022-03-11T10:50:57.728391Z",
     "iopub.status.busy": "2022-03-11T10:50:57.728016Z",
     "iopub.status.idle": "2022-03-11T10:50:57.729335Z",
     "shell.execute_reply": "2022-03-11T10:50:57.729624Z"
    },
    "id": "5b51f161",
    "papermill": {
     "duration": 0.010019,
     "end_time": "2022-03-11T10:50:57.729745",
     "exception": false,
     "start_time": "2022-03-11T10:50:57.719726",
     "status": "completed"
    },
    "tags": []
   },
   "outputs": [],
   "source": [
    "#Parameters \n",
    "n_features = 13\n",
    "n_samples= 506\n",
    "n_target = 1 "
   ]
  },
  {
   "cell_type": "code",
   "execution_count": 6,
   "id": "5d6eced4",
   "metadata": {
    "execution": {
     "iopub.execute_input": "2022-03-11T10:50:57.745226Z",
     "iopub.status.busy": "2022-03-11T10:50:57.744869Z",
     "iopub.status.idle": "2022-03-11T10:50:57.755647Z",
     "shell.execute_reply": "2022-03-11T10:50:57.755900Z"
    },
    "id": "5d6eced4",
    "papermill": {
     "duration": 0.019419,
     "end_time": "2022-03-11T10:50:57.756013",
     "exception": false,
     "start_time": "2022-03-11T10:50:57.736594",
     "status": "completed"
    },
    "tags": []
   },
   "outputs": [
    {
     "name": "stdout",
     "output_type": "stream",
     "text": [
      "         X1        X2        X3        X4        X5        X6        X7  \\\n",
      "0 -0.419782  0.284830 -1.287909 -0.272599 -0.144217  0.413672 -0.120013   \n",
      "1 -0.417339 -0.487722 -0.593381 -0.272599 -0.740262  0.194274  0.367166   \n",
      "2 -0.417342 -0.487722 -0.593381 -0.272599 -0.740262  1.282714 -0.265812   \n",
      "3 -0.416750 -0.487722 -1.306878 -0.272599 -0.835284  1.016303 -0.809889   \n",
      "4 -0.412482 -0.487722 -1.306878 -0.272599 -0.835284  1.228577 -0.511180   \n",
      "\n",
      "         X8        X9       X10       X11       X12       X13         Y  \n",
      "0  0.140214 -0.982843 -0.666608 -1.459000  0.441052 -1.075562  0.159686  \n",
      "1  0.557160 -0.867883 -0.987329 -0.303094  0.441052 -0.492439 -0.101524  \n",
      "2  0.557160 -0.867883 -0.987329 -0.303094  0.396427 -1.208727  1.324247  \n",
      "3  1.077737 -0.752922 -1.106115  0.113032  0.416163 -1.361517  1.182758  \n",
      "4  1.077737 -0.752922 -1.106115  0.113032  0.441052 -1.026501  1.487503  \n"
     ]
    }
   ],
   "source": [
    "X,Y = bostonDataset.boston_data()"
   ]
  },
  {
   "cell_type": "code",
   "execution_count": 7,
   "id": "fe007438",
   "metadata": {
    "execution": {
     "iopub.execute_input": "2022-03-11T10:50:57.773191Z",
     "iopub.status.busy": "2022-03-11T10:50:57.772836Z",
     "iopub.status.idle": "2022-03-11T10:50:57.774257Z",
     "shell.execute_reply": "2022-03-11T10:50:57.774499Z"
    },
    "id": "fe007438",
    "papermill": {
     "duration": 0.011248,
     "end_time": "2022-03-11T10:50:57.774607",
     "exception": false,
     "start_time": "2022-03-11T10:50:57.763359",
     "status": "completed"
    },
    "tags": []
   },
   "outputs": [],
   "source": [
    "#Train test split for dataset \n",
    "X_train,X_test,Y_train,Y_test = train_test_split(X,Y,test_size = 0.2)\n",
    "train_data = dataset.CustomDataset(X_train,Y_train)\n",
    "test_data = dataset.CustomDataset(X_test,Y_test)\n"
   ]
  },
  {
   "cell_type": "markdown",
   "id": "a9a1af34",
   "metadata": {
    "id": "a9a1af34",
    "papermill": {
     "duration": 0.007062,
     "end_time": "2022-03-11T10:50:57.788789",
     "exception": false,
     "start_time": "2022-03-11T10:50:57.781727",
     "status": "completed"
    },
    "tags": []
   },
   "source": [
    "## Training Parameters "
   ]
  },
  {
   "cell_type": "code",
   "execution_count": 8,
   "id": "952b7fc8",
   "metadata": {
    "execution": {
     "iopub.execute_input": "2022-03-11T10:50:57.805105Z",
     "iopub.status.busy": "2022-03-11T10:50:57.804720Z",
     "iopub.status.idle": "2022-03-11T10:50:57.806092Z",
     "shell.execute_reply": "2022-03-11T10:50:57.806340Z"
    },
    "id": "952b7fc8",
    "papermill": {
     "duration": 0.010651,
     "end_time": "2022-03-11T10:50:57.806446",
     "exception": false,
     "start_time": "2022-03-11T10:50:57.795795",
     "status": "completed"
    },
    "tags": []
   },
   "outputs": [],
   "source": [
    "batch_size = 64\n",
    "n_epochs = 1000\n",
    "#Select the device \n",
    "device = torch.device('cuda' if torch.cuda.is_available() else 'cpu')"
   ]
  },
  {
   "cell_type": "markdown",
   "id": "a95e1600",
   "metadata": {
    "id": "a95e1600",
    "papermill": {
     "duration": 0.007044,
     "end_time": "2022-03-11T10:50:57.820659",
     "exception": false,
     "start_time": "2022-03-11T10:50:57.813615",
     "status": "completed"
    },
    "tags": []
   },
   "source": [
    "# ABC Pre-generator Model \n",
    "\n",
    "1. The catboost model is used as a pre-generator model for the ABC-GAN. \n",
    "2. The model is first trained on the entire dataset \n",
    "3. It generats X,Y pairs and we add some Gaussian noise with mean 0 and variance 1 to it which is then feed as input to the generator.\n"
   ]
  },
  {
   "cell_type": "code",
   "execution_count": 9,
   "id": "ff8ce7bd",
   "metadata": {
    "execution": {
     "iopub.execute_input": "2022-03-11T10:50:57.839531Z",
     "iopub.status.busy": "2022-03-11T10:50:57.839156Z",
     "iopub.status.idle": "2022-03-11T10:50:58.812057Z",
     "shell.execute_reply": "2022-03-11T10:50:58.812347Z"
    },
    "id": "ff8ce7bd",
    "papermill": {
     "duration": 0.98465,
     "end_time": "2022-03-11T10:50:58.812471",
     "exception": false,
     "start_time": "2022-03-11T10:50:57.827821",
     "status": "completed"
    },
    "tags": []
   },
   "outputs": [
    {
     "name": "stdout",
     "output_type": "stream",
     "text": [
      "Learning rate set to 0.033215\n",
      "0:\tlearn: 0.9844341\ttotal: 70.1ms\tremaining: 1m 10s\n",
      "1:\tlearn: 0.9654323\ttotal: 71.1ms\tremaining: 35.5s\n",
      "2:\tlearn: 0.9455323\ttotal: 72.3ms\tremaining: 24s\n",
      "3:\tlearn: 0.9293305\ttotal: 73.3ms\tremaining: 18.3s\n",
      "4:\tlearn: 0.9132393\ttotal: 74.4ms\tremaining: 14.8s\n",
      "5:\tlearn: 0.8956258\ttotal: 75.6ms\tremaining: 12.5s\n",
      "6:\tlearn: 0.8801503\ttotal: 76.6ms\tremaining: 10.9s\n",
      "7:\tlearn: 0.8638599\ttotal: 77.5ms\tremaining: 9.61s\n",
      "8:\tlearn: 0.8479834\ttotal: 78.4ms\tremaining: 8.63s\n",
      "9:\tlearn: 0.8317696\ttotal: 79.4ms\tremaining: 7.86s\n",
      "10:\tlearn: 0.8155133\ttotal: 80.3ms\tremaining: 7.21s\n",
      "11:\tlearn: 0.8003002\ttotal: 81ms\tremaining: 6.67s\n",
      "12:\tlearn: 0.7856850\ttotal: 81.9ms\tremaining: 6.21s\n",
      "13:\tlearn: 0.7709124\ttotal: 82.8ms\tremaining: 5.83s\n",
      "14:\tlearn: 0.7589387\ttotal: 83.7ms\tremaining: 5.5s\n",
      "15:\tlearn: 0.7449750\ttotal: 84.5ms\tremaining: 5.2s\n",
      "16:\tlearn: 0.7324986\ttotal: 85.3ms\tremaining: 4.93s\n",
      "17:\tlearn: 0.7200862\ttotal: 86.1ms\tremaining: 4.69s\n",
      "18:\tlearn: 0.7080020\ttotal: 86.8ms\tremaining: 4.48s\n",
      "19:\tlearn: 0.6964141\ttotal: 87.8ms\tremaining: 4.3s\n",
      "20:\tlearn: 0.6844116\ttotal: 88.6ms\tremaining: 4.13s\n",
      "21:\tlearn: 0.6739357\ttotal: 89.5ms\tremaining: 3.98s\n",
      "22:\tlearn: 0.6630431\ttotal: 90.3ms\tremaining: 3.83s\n",
      "23:\tlearn: 0.6531705\ttotal: 92ms\tremaining: 3.74s\n",
      "24:\tlearn: 0.6424109\ttotal: 92.8ms\tremaining: 3.62s\n",
      "25:\tlearn: 0.6330682\ttotal: 93.5ms\tremaining: 3.5s\n",
      "26:\tlearn: 0.6241992\ttotal: 94.2ms\tremaining: 3.39s\n",
      "27:\tlearn: 0.6142966\ttotal: 95ms\tremaining: 3.3s\n",
      "28:\tlearn: 0.6054179\ttotal: 95.7ms\tremaining: 3.2s\n",
      "29:\tlearn: 0.5952662\ttotal: 96.5ms\tremaining: 3.12s\n",
      "30:\tlearn: 0.5863388\ttotal: 97.3ms\tremaining: 3.04s\n",
      "31:\tlearn: 0.5779521\ttotal: 98ms\tremaining: 2.96s\n",
      "32:\tlearn: 0.5708088\ttotal: 98.8ms\tremaining: 2.89s\n",
      "33:\tlearn: 0.5629547\ttotal: 99.7ms\tremaining: 2.83s\n",
      "34:\tlearn: 0.5559516\ttotal: 101ms\tremaining: 2.77s\n",
      "35:\tlearn: 0.5491331\ttotal: 101ms\tremaining: 2.71s\n",
      "36:\tlearn: 0.5422995\ttotal: 102ms\tremaining: 2.66s\n",
      "37:\tlearn: 0.5351220\ttotal: 103ms\tremaining: 2.61s\n",
      "38:\tlearn: 0.5278780\ttotal: 104ms\tremaining: 2.55s\n",
      "39:\tlearn: 0.5204365\ttotal: 104ms\tremaining: 2.51s\n",
      "40:\tlearn: 0.5145794\ttotal: 105ms\tremaining: 2.46s\n",
      "41:\tlearn: 0.5078885\ttotal: 106ms\tremaining: 2.42s\n",
      "42:\tlearn: 0.5022968\ttotal: 107ms\tremaining: 2.38s\n",
      "43:\tlearn: 0.4956670\ttotal: 108ms\tremaining: 2.34s\n",
      "44:\tlearn: 0.4897588\ttotal: 109ms\tremaining: 2.31s\n"
     ]
    },
    {
     "name": "stdout",
     "output_type": "stream",
     "text": [
      "45:\tlearn: 0.4841485\ttotal: 110ms\tremaining: 2.27s\n",
      "46:\tlearn: 0.4781267\ttotal: 111ms\tremaining: 2.25s\n",
      "47:\tlearn: 0.4725438\ttotal: 112ms\tremaining: 2.21s\n",
      "48:\tlearn: 0.4666670\ttotal: 113ms\tremaining: 2.18s\n",
      "49:\tlearn: 0.4615075\ttotal: 113ms\tremaining: 2.16s\n",
      "50:\tlearn: 0.4561187\ttotal: 114ms\tremaining: 2.13s\n",
      "51:\tlearn: 0.4502675\ttotal: 115ms\tremaining: 2.1s\n",
      "52:\tlearn: 0.4457558\ttotal: 116ms\tremaining: 2.08s\n",
      "53:\tlearn: 0.4426405\ttotal: 117ms\tremaining: 2.05s\n",
      "54:\tlearn: 0.4380139\ttotal: 118ms\tremaining: 2.02s\n",
      "55:\tlearn: 0.4334135\ttotal: 118ms\tremaining: 2s\n",
      "56:\tlearn: 0.4301623\ttotal: 119ms\tremaining: 1.97s\n",
      "57:\tlearn: 0.4250335\ttotal: 120ms\tremaining: 1.95s\n",
      "58:\tlearn: 0.4212973\ttotal: 121ms\tremaining: 1.93s\n",
      "59:\tlearn: 0.4172232\ttotal: 122ms\tremaining: 1.91s\n",
      "60:\tlearn: 0.4128339\ttotal: 123ms\tremaining: 1.89s\n",
      "61:\tlearn: 0.4094865\ttotal: 124ms\tremaining: 1.87s\n",
      "62:\tlearn: 0.4052607\ttotal: 125ms\tremaining: 1.85s\n",
      "63:\tlearn: 0.4018713\ttotal: 125ms\tremaining: 1.83s\n",
      "64:\tlearn: 0.3981084\ttotal: 126ms\tremaining: 1.82s\n",
      "65:\tlearn: 0.3943142\ttotal: 127ms\tremaining: 1.8s\n",
      "66:\tlearn: 0.3909455\ttotal: 128ms\tremaining: 1.78s\n",
      "67:\tlearn: 0.3880094\ttotal: 129ms\tremaining: 1.77s\n",
      "68:\tlearn: 0.3849247\ttotal: 130ms\tremaining: 1.75s\n",
      "69:\tlearn: 0.3817168\ttotal: 130ms\tremaining: 1.73s\n",
      "70:\tlearn: 0.3773305\ttotal: 131ms\tremaining: 1.72s\n",
      "71:\tlearn: 0.3746324\ttotal: 132ms\tremaining: 1.7s\n",
      "72:\tlearn: 0.3715317\ttotal: 133ms\tremaining: 1.69s\n",
      "73:\tlearn: 0.3678666\ttotal: 134ms\tremaining: 1.67s\n",
      "74:\tlearn: 0.3649898\ttotal: 135ms\tremaining: 1.66s\n",
      "75:\tlearn: 0.3623281\ttotal: 135ms\tremaining: 1.65s\n",
      "76:\tlearn: 0.3597610\ttotal: 136ms\tremaining: 1.63s\n",
      "77:\tlearn: 0.3574935\ttotal: 137ms\tremaining: 1.62s\n",
      "78:\tlearn: 0.3546092\ttotal: 138ms\tremaining: 1.61s\n",
      "79:\tlearn: 0.3520788\ttotal: 139ms\tremaining: 1.59s\n",
      "80:\tlearn: 0.3499005\ttotal: 139ms\tremaining: 1.58s\n",
      "81:\tlearn: 0.3467957\ttotal: 140ms\tremaining: 1.57s\n",
      "82:\tlearn: 0.3450562\ttotal: 141ms\tremaining: 1.56s\n",
      "83:\tlearn: 0.3421340\ttotal: 142ms\tremaining: 1.55s\n",
      "84:\tlearn: 0.3401610\ttotal: 143ms\tremaining: 1.54s\n",
      "85:\tlearn: 0.3370070\ttotal: 144ms\tremaining: 1.53s\n",
      "86:\tlearn: 0.3350506\ttotal: 144ms\tremaining: 1.51s\n",
      "87:\tlearn: 0.3328395\ttotal: 145ms\tremaining: 1.5s\n",
      "88:\tlearn: 0.3307160\ttotal: 146ms\tremaining: 1.49s\n",
      "89:\tlearn: 0.3279682\ttotal: 147ms\tremaining: 1.49s\n",
      "90:\tlearn: 0.3261716\ttotal: 148ms\tremaining: 1.48s\n",
      "91:\tlearn: 0.3242636\ttotal: 148ms\tremaining: 1.47s\n",
      "92:\tlearn: 0.3229268\ttotal: 149ms\tremaining: 1.46s\n",
      "93:\tlearn: 0.3214863\ttotal: 150ms\tremaining: 1.45s\n",
      "94:\tlearn: 0.3195106\ttotal: 151ms\tremaining: 1.44s\n",
      "95:\tlearn: 0.3191893\ttotal: 152ms\tremaining: 1.43s\n",
      "96:\tlearn: 0.3172183\ttotal: 153ms\tremaining: 1.42s\n",
      "97:\tlearn: 0.3159136\ttotal: 153ms\tremaining: 1.41s\n",
      "98:\tlearn: 0.3143170\ttotal: 154ms\tremaining: 1.4s\n",
      "99:\tlearn: 0.3130824\ttotal: 155ms\tremaining: 1.39s\n",
      "100:\tlearn: 0.3107873\ttotal: 156ms\tremaining: 1.39s\n",
      "101:\tlearn: 0.3090775\ttotal: 156ms\tremaining: 1.38s\n",
      "102:\tlearn: 0.3075350\ttotal: 157ms\tremaining: 1.37s\n",
      "103:\tlearn: 0.3058817\ttotal: 158ms\tremaining: 1.36s\n",
      "104:\tlearn: 0.3042347\ttotal: 159ms\tremaining: 1.36s\n",
      "105:\tlearn: 0.3025111\ttotal: 160ms\tremaining: 1.35s\n",
      "106:\tlearn: 0.3008366\ttotal: 161ms\tremaining: 1.34s\n",
      "107:\tlearn: 0.2995874\ttotal: 163ms\tremaining: 1.34s\n",
      "108:\tlearn: 0.2980019\ttotal: 164ms\tremaining: 1.34s\n",
      "109:\tlearn: 0.2967658\ttotal: 165ms\tremaining: 1.33s\n",
      "110:\tlearn: 0.2951666\ttotal: 165ms\tremaining: 1.32s\n",
      "111:\tlearn: 0.2936790\ttotal: 166ms\tremaining: 1.32s\n",
      "112:\tlearn: 0.2926661\ttotal: 167ms\tremaining: 1.31s\n",
      "113:\tlearn: 0.2912665\ttotal: 168ms\tremaining: 1.3s\n",
      "114:\tlearn: 0.2897005\ttotal: 169ms\tremaining: 1.3s\n",
      "115:\tlearn: 0.2886727\ttotal: 169ms\tremaining: 1.29s\n",
      "116:\tlearn: 0.2884272\ttotal: 170ms\tremaining: 1.28s\n",
      "117:\tlearn: 0.2870124\ttotal: 171ms\tremaining: 1.28s\n",
      "118:\tlearn: 0.2863800\ttotal: 172ms\tremaining: 1.27s\n",
      "119:\tlearn: 0.2851580\ttotal: 173ms\tremaining: 1.27s\n",
      "120:\tlearn: 0.2841992\ttotal: 173ms\tremaining: 1.26s\n",
      "121:\tlearn: 0.2831984\ttotal: 174ms\tremaining: 1.25s\n",
      "122:\tlearn: 0.2818469\ttotal: 175ms\tremaining: 1.25s\n",
      "123:\tlearn: 0.2803872\ttotal: 176ms\tremaining: 1.24s\n",
      "124:\tlearn: 0.2794957\ttotal: 177ms\tremaining: 1.24s\n",
      "125:\tlearn: 0.2777919\ttotal: 178ms\tremaining: 1.23s\n",
      "126:\tlearn: 0.2762803\ttotal: 179ms\tremaining: 1.23s\n",
      "127:\tlearn: 0.2751192\ttotal: 180ms\tremaining: 1.22s\n",
      "128:\tlearn: 0.2740509\ttotal: 180ms\tremaining: 1.22s\n",
      "129:\tlearn: 0.2730241\ttotal: 181ms\tremaining: 1.21s\n",
      "130:\tlearn: 0.2718200\ttotal: 182ms\tremaining: 1.21s\n",
      "131:\tlearn: 0.2709337\ttotal: 183ms\tremaining: 1.2s\n",
      "132:\tlearn: 0.2697420\ttotal: 184ms\tremaining: 1.2s\n",
      "133:\tlearn: 0.2687040\ttotal: 185ms\tremaining: 1.19s\n",
      "134:\tlearn: 0.2676472\ttotal: 186ms\tremaining: 1.19s\n",
      "135:\tlearn: 0.2665791\ttotal: 187ms\tremaining: 1.19s\n",
      "136:\tlearn: 0.2654085\ttotal: 187ms\tremaining: 1.18s\n",
      "137:\tlearn: 0.2643849\ttotal: 188ms\tremaining: 1.18s\n",
      "138:\tlearn: 0.2637195\ttotal: 189ms\tremaining: 1.17s\n",
      "139:\tlearn: 0.2624178\ttotal: 190ms\tremaining: 1.17s\n",
      "140:\tlearn: 0.2617119\ttotal: 191ms\tremaining: 1.16s\n",
      "141:\tlearn: 0.2610481\ttotal: 192ms\tremaining: 1.16s\n"
     ]
    },
    {
     "name": "stdout",
     "output_type": "stream",
     "text": [
      "142:\tlearn: 0.2598929\ttotal: 192ms\tremaining: 1.15s\n",
      "143:\tlearn: 0.2588433\ttotal: 193ms\tremaining: 1.15s\n",
      "144:\tlearn: 0.2580828\ttotal: 194ms\tremaining: 1.14s\n",
      "145:\tlearn: 0.2571249\ttotal: 195ms\tremaining: 1.14s\n",
      "146:\tlearn: 0.2564059\ttotal: 196ms\tremaining: 1.14s\n",
      "147:\tlearn: 0.2554916\ttotal: 196ms\tremaining: 1.13s\n",
      "148:\tlearn: 0.2544701\ttotal: 197ms\tremaining: 1.13s\n",
      "149:\tlearn: 0.2532896\ttotal: 198ms\tremaining: 1.12s\n",
      "150:\tlearn: 0.2520279\ttotal: 199ms\tremaining: 1.12s\n",
      "151:\tlearn: 0.2509729\ttotal: 200ms\tremaining: 1.11s\n",
      "152:\tlearn: 0.2506807\ttotal: 200ms\tremaining: 1.11s\n",
      "153:\tlearn: 0.2498132\ttotal: 201ms\tremaining: 1.1s\n",
      "154:\tlearn: 0.2491904\ttotal: 202ms\tremaining: 1.1s\n",
      "155:\tlearn: 0.2485199\ttotal: 203ms\tremaining: 1.1s\n",
      "156:\tlearn: 0.2478335\ttotal: 204ms\tremaining: 1.09s\n",
      "157:\tlearn: 0.2471939\ttotal: 205ms\tremaining: 1.09s\n",
      "158:\tlearn: 0.2464326\ttotal: 205ms\tremaining: 1.09s\n",
      "159:\tlearn: 0.2459005\ttotal: 206ms\tremaining: 1.08s\n",
      "160:\tlearn: 0.2451895\ttotal: 207ms\tremaining: 1.08s\n",
      "161:\tlearn: 0.2446969\ttotal: 208ms\tremaining: 1.07s\n",
      "162:\tlearn: 0.2443731\ttotal: 209ms\tremaining: 1.07s\n",
      "163:\tlearn: 0.2439875\ttotal: 209ms\tremaining: 1.07s\n",
      "164:\tlearn: 0.2434357\ttotal: 210ms\tremaining: 1.06s\n",
      "165:\tlearn: 0.2430028\ttotal: 211ms\tremaining: 1.06s\n",
      "166:\tlearn: 0.2419462\ttotal: 212ms\tremaining: 1.06s\n",
      "167:\tlearn: 0.2417845\ttotal: 213ms\tremaining: 1.05s\n",
      "168:\tlearn: 0.2407369\ttotal: 214ms\tremaining: 1.05s\n",
      "169:\tlearn: 0.2397195\ttotal: 214ms\tremaining: 1.04s\n",
      "170:\tlearn: 0.2391393\ttotal: 215ms\tremaining: 1.04s\n",
      "171:\tlearn: 0.2385202\ttotal: 216ms\tremaining: 1.04s\n",
      "172:\tlearn: 0.2378277\ttotal: 217ms\tremaining: 1.04s\n",
      "173:\tlearn: 0.2373271\ttotal: 218ms\tremaining: 1.03s\n",
      "174:\tlearn: 0.2368507\ttotal: 219ms\tremaining: 1.03s\n",
      "175:\tlearn: 0.2364189\ttotal: 220ms\tremaining: 1.03s\n",
      "176:\tlearn: 0.2357847\ttotal: 221ms\tremaining: 1.03s\n",
      "177:\tlearn: 0.2349475\ttotal: 222ms\tremaining: 1.02s\n",
      "178:\tlearn: 0.2347339\ttotal: 223ms\tremaining: 1.02s\n",
      "179:\tlearn: 0.2339971\ttotal: 223ms\tremaining: 1.02s\n",
      "180:\tlearn: 0.2331231\ttotal: 224ms\tremaining: 1.01s\n",
      "181:\tlearn: 0.2325171\ttotal: 225ms\tremaining: 1.01s\n",
      "182:\tlearn: 0.2318422\ttotal: 226ms\tremaining: 1.01s\n",
      "183:\tlearn: 0.2309481\ttotal: 227ms\tremaining: 1s\n",
      "184:\tlearn: 0.2303371\ttotal: 227ms\tremaining: 1s\n",
      "185:\tlearn: 0.2299419\ttotal: 228ms\tremaining: 998ms\n",
      "186:\tlearn: 0.2295916\ttotal: 229ms\tremaining: 995ms\n",
      "187:\tlearn: 0.2290074\ttotal: 230ms\tremaining: 992ms\n",
      "188:\tlearn: 0.2284896\ttotal: 230ms\tremaining: 989ms\n",
      "189:\tlearn: 0.2277796\ttotal: 231ms\tremaining: 986ms\n",
      "190:\tlearn: 0.2269617\ttotal: 232ms\tremaining: 983ms\n",
      "191:\tlearn: 0.2262785\ttotal: 233ms\tremaining: 980ms\n",
      "192:\tlearn: 0.2255078\ttotal: 234ms\tremaining: 977ms\n",
      "193:\tlearn: 0.2250045\ttotal: 234ms\tremaining: 974ms\n",
      "194:\tlearn: 0.2242133\ttotal: 235ms\tremaining: 971ms\n",
      "195:\tlearn: 0.2234650\ttotal: 236ms\tremaining: 969ms\n",
      "196:\tlearn: 0.2230480\ttotal: 237ms\tremaining: 966ms\n",
      "197:\tlearn: 0.2224155\ttotal: 238ms\tremaining: 964ms\n",
      "198:\tlearn: 0.2218264\ttotal: 239ms\tremaining: 961ms\n",
      "199:\tlearn: 0.2214851\ttotal: 240ms\tremaining: 959ms\n",
      "200:\tlearn: 0.2206224\ttotal: 241ms\tremaining: 956ms\n",
      "201:\tlearn: 0.2202652\ttotal: 241ms\tremaining: 954ms\n",
      "202:\tlearn: 0.2195270\ttotal: 242ms\tremaining: 951ms\n",
      "203:\tlearn: 0.2187678\ttotal: 243ms\tremaining: 949ms\n",
      "204:\tlearn: 0.2181684\ttotal: 244ms\tremaining: 946ms\n",
      "205:\tlearn: 0.2173223\ttotal: 245ms\tremaining: 943ms\n",
      "206:\tlearn: 0.2167226\ttotal: 245ms\tremaining: 940ms\n",
      "207:\tlearn: 0.2162373\ttotal: 246ms\tremaining: 937ms\n",
      "208:\tlearn: 0.2158658\ttotal: 247ms\tremaining: 934ms\n",
      "209:\tlearn: 0.2153484\ttotal: 248ms\tremaining: 932ms\n",
      "210:\tlearn: 0.2149968\ttotal: 249ms\tremaining: 929ms\n",
      "211:\tlearn: 0.2147963\ttotal: 249ms\tremaining: 927ms\n",
      "212:\tlearn: 0.2138849\ttotal: 250ms\tremaining: 924ms\n",
      "213:\tlearn: 0.2136706\ttotal: 251ms\tremaining: 921ms\n",
      "214:\tlearn: 0.2130080\ttotal: 252ms\tremaining: 919ms\n",
      "215:\tlearn: 0.2126355\ttotal: 253ms\tremaining: 917ms\n",
      "216:\tlearn: 0.2121736\ttotal: 253ms\tremaining: 914ms\n",
      "217:\tlearn: 0.2116786\ttotal: 254ms\tremaining: 911ms\n",
      "218:\tlearn: 0.2110617\ttotal: 255ms\tremaining: 909ms\n",
      "219:\tlearn: 0.2108001\ttotal: 256ms\tremaining: 906ms\n",
      "220:\tlearn: 0.2102670\ttotal: 256ms\tremaining: 904ms\n",
      "221:\tlearn: 0.2100473\ttotal: 257ms\tremaining: 902ms\n",
      "222:\tlearn: 0.2096406\ttotal: 258ms\tremaining: 899ms\n",
      "223:\tlearn: 0.2091810\ttotal: 259ms\tremaining: 897ms\n",
      "224:\tlearn: 0.2084913\ttotal: 260ms\tremaining: 894ms\n",
      "225:\tlearn: 0.2077733\ttotal: 260ms\tremaining: 892ms\n",
      "226:\tlearn: 0.2069661\ttotal: 262ms\tremaining: 893ms\n",
      "227:\tlearn: 0.2063990\ttotal: 263ms\tremaining: 890ms\n",
      "228:\tlearn: 0.2062687\ttotal: 264ms\tremaining: 888ms\n",
      "229:\tlearn: 0.2058293\ttotal: 264ms\tremaining: 885ms\n",
      "230:\tlearn: 0.2055021\ttotal: 265ms\tremaining: 883ms\n",
      "231:\tlearn: 0.2053008\ttotal: 266ms\tremaining: 881ms\n",
      "232:\tlearn: 0.2049634\ttotal: 267ms\tremaining: 878ms\n",
      "233:\tlearn: 0.2042086\ttotal: 267ms\tremaining: 875ms\n",
      "234:\tlearn: 0.2038926\ttotal: 268ms\tremaining: 873ms\n",
      "235:\tlearn: 0.2033823\ttotal: 269ms\tremaining: 871ms\n",
      "236:\tlearn: 0.2028254\ttotal: 270ms\tremaining: 869ms\n",
      "237:\tlearn: 0.2026322\ttotal: 271ms\tremaining: 867ms\n",
      "238:\tlearn: 0.2023874\ttotal: 271ms\tremaining: 864ms\n",
      "239:\tlearn: 0.2019290\ttotal: 272ms\tremaining: 862ms\n",
      "240:\tlearn: 0.2011145\ttotal: 273ms\tremaining: 860ms\n",
      "241:\tlearn: 0.2004675\ttotal: 274ms\tremaining: 858ms\n",
      "242:\tlearn: 0.2001580\ttotal: 275ms\tremaining: 856ms\n",
      "243:\tlearn: 0.1995114\ttotal: 275ms\tremaining: 853ms\n",
      "244:\tlearn: 0.1992337\ttotal: 276ms\tremaining: 851ms\n",
      "245:\tlearn: 0.1989497\ttotal: 277ms\tremaining: 850ms\n",
      "246:\tlearn: 0.1986698\ttotal: 278ms\tremaining: 848ms\n",
      "247:\tlearn: 0.1985207\ttotal: 279ms\tremaining: 846ms\n",
      "248:\tlearn: 0.1981505\ttotal: 280ms\tremaining: 844ms\n",
      "249:\tlearn: 0.1976429\ttotal: 281ms\tremaining: 842ms\n",
      "250:\tlearn: 0.1968736\ttotal: 281ms\tremaining: 840ms\n",
      "251:\tlearn: 0.1960708\ttotal: 282ms\tremaining: 838ms\n",
      "252:\tlearn: 0.1952812\ttotal: 283ms\tremaining: 836ms\n",
      "253:\tlearn: 0.1951147\ttotal: 284ms\tremaining: 834ms\n",
      "254:\tlearn: 0.1946634\ttotal: 285ms\tremaining: 832ms\n",
      "255:\tlearn: 0.1942392\ttotal: 286ms\tremaining: 830ms\n",
      "256:\tlearn: 0.1940793\ttotal: 286ms\tremaining: 828ms\n",
      "257:\tlearn: 0.1937182\ttotal: 287ms\tremaining: 826ms\n",
      "258:\tlearn: 0.1932141\ttotal: 288ms\tremaining: 824ms\n",
      "259:\tlearn: 0.1928182\ttotal: 289ms\tremaining: 822ms\n",
      "260:\tlearn: 0.1922166\ttotal: 290ms\tremaining: 821ms\n",
      "261:\tlearn: 0.1917587\ttotal: 291ms\tremaining: 819ms\n",
      "262:\tlearn: 0.1913486\ttotal: 292ms\tremaining: 817ms\n",
      "263:\tlearn: 0.1911028\ttotal: 292ms\tremaining: 815ms\n",
      "264:\tlearn: 0.1907786\ttotal: 293ms\tremaining: 813ms\n",
      "265:\tlearn: 0.1904128\ttotal: 294ms\tremaining: 811ms\n",
      "266:\tlearn: 0.1899801\ttotal: 295ms\tremaining: 809ms\n",
      "267:\tlearn: 0.1898532\ttotal: 295ms\tremaining: 807ms\n",
      "268:\tlearn: 0.1894237\ttotal: 296ms\tremaining: 805ms\n",
      "269:\tlearn: 0.1889572\ttotal: 297ms\tremaining: 804ms\n",
      "270:\tlearn: 0.1886064\ttotal: 298ms\tremaining: 802ms\n",
      "271:\tlearn: 0.1880546\ttotal: 299ms\tremaining: 801ms\n"
     ]
    },
    {
     "name": "stdout",
     "output_type": "stream",
     "text": [
      "272:\tlearn: 0.1879571\ttotal: 300ms\tremaining: 800ms\n",
      "273:\tlearn: 0.1871997\ttotal: 302ms\tremaining: 799ms\n",
      "274:\tlearn: 0.1871308\ttotal: 303ms\tremaining: 798ms\n",
      "275:\tlearn: 0.1867205\ttotal: 304ms\tremaining: 796ms\n",
      "276:\tlearn: 0.1863011\ttotal: 305ms\tremaining: 795ms\n",
      "277:\tlearn: 0.1861414\ttotal: 305ms\tremaining: 793ms\n",
      "278:\tlearn: 0.1855188\ttotal: 306ms\tremaining: 791ms\n",
      "279:\tlearn: 0.1854086\ttotal: 307ms\tremaining: 790ms\n",
      "280:\tlearn: 0.1851949\ttotal: 308ms\tremaining: 789ms\n",
      "281:\tlearn: 0.1847871\ttotal: 309ms\tremaining: 788ms\n",
      "282:\tlearn: 0.1846395\ttotal: 310ms\tremaining: 786ms\n",
      "283:\tlearn: 0.1841907\ttotal: 311ms\tremaining: 785ms\n",
      "284:\tlearn: 0.1838794\ttotal: 312ms\tremaining: 783ms\n",
      "285:\tlearn: 0.1831517\ttotal: 313ms\tremaining: 782ms\n",
      "286:\tlearn: 0.1826112\ttotal: 314ms\tremaining: 781ms\n",
      "287:\tlearn: 0.1823742\ttotal: 315ms\tremaining: 780ms\n",
      "288:\tlearn: 0.1822356\ttotal: 316ms\tremaining: 778ms\n",
      "289:\tlearn: 0.1816267\ttotal: 317ms\tremaining: 777ms\n",
      "290:\tlearn: 0.1813693\ttotal: 318ms\tremaining: 776ms\n",
      "291:\tlearn: 0.1808124\ttotal: 319ms\tremaining: 774ms\n",
      "292:\tlearn: 0.1803622\ttotal: 320ms\tremaining: 773ms\n",
      "293:\tlearn: 0.1802409\ttotal: 321ms\tremaining: 772ms\n",
      "294:\tlearn: 0.1797062\ttotal: 322ms\tremaining: 770ms\n",
      "295:\tlearn: 0.1792143\ttotal: 323ms\tremaining: 769ms\n",
      "296:\tlearn: 0.1789583\ttotal: 324ms\tremaining: 767ms\n",
      "297:\tlearn: 0.1785212\ttotal: 325ms\tremaining: 766ms\n",
      "298:\tlearn: 0.1783510\ttotal: 326ms\tremaining: 764ms\n",
      "299:\tlearn: 0.1781156\ttotal: 327ms\tremaining: 762ms\n",
      "300:\tlearn: 0.1775916\ttotal: 327ms\tremaining: 760ms\n",
      "301:\tlearn: 0.1770356\ttotal: 328ms\tremaining: 758ms\n",
      "302:\tlearn: 0.1763493\ttotal: 329ms\tremaining: 757ms\n",
      "303:\tlearn: 0.1762540\ttotal: 330ms\tremaining: 755ms\n",
      "304:\tlearn: 0.1760518\ttotal: 331ms\tremaining: 753ms\n",
      "305:\tlearn: 0.1758306\ttotal: 331ms\tremaining: 752ms\n",
      "306:\tlearn: 0.1752126\ttotal: 332ms\tremaining: 750ms\n",
      "307:\tlearn: 0.1746637\ttotal: 333ms\tremaining: 748ms\n",
      "308:\tlearn: 0.1741367\ttotal: 334ms\tremaining: 746ms\n",
      "309:\tlearn: 0.1736510\ttotal: 335ms\tremaining: 745ms\n",
      "310:\tlearn: 0.1734638\ttotal: 336ms\tremaining: 743ms\n",
      "311:\tlearn: 0.1729174\ttotal: 336ms\tremaining: 742ms\n",
      "312:\tlearn: 0.1723995\ttotal: 337ms\tremaining: 741ms\n",
      "313:\tlearn: 0.1720872\ttotal: 338ms\tremaining: 739ms\n",
      "314:\tlearn: 0.1714462\ttotal: 339ms\tremaining: 738ms\n",
      "315:\tlearn: 0.1708517\ttotal: 340ms\tremaining: 736ms\n",
      "316:\tlearn: 0.1704562\ttotal: 341ms\tremaining: 734ms\n",
      "317:\tlearn: 0.1702127\ttotal: 342ms\tremaining: 733ms\n",
      "318:\tlearn: 0.1698269\ttotal: 342ms\tremaining: 731ms\n",
      "319:\tlearn: 0.1696907\ttotal: 343ms\tremaining: 729ms\n",
      "320:\tlearn: 0.1692556\ttotal: 344ms\tremaining: 728ms\n",
      "321:\tlearn: 0.1688955\ttotal: 345ms\tremaining: 726ms\n",
      "322:\tlearn: 0.1687059\ttotal: 346ms\tremaining: 725ms\n",
      "323:\tlearn: 0.1682477\ttotal: 347ms\tremaining: 723ms\n",
      "324:\tlearn: 0.1677154\ttotal: 347ms\tremaining: 722ms\n",
      "325:\tlearn: 0.1673306\ttotal: 348ms\tremaining: 720ms\n",
      "326:\tlearn: 0.1668505\ttotal: 349ms\tremaining: 719ms\n",
      "327:\tlearn: 0.1664842\ttotal: 350ms\tremaining: 717ms\n",
      "328:\tlearn: 0.1662096\ttotal: 351ms\tremaining: 716ms\n",
      "329:\tlearn: 0.1658594\ttotal: 352ms\tremaining: 714ms\n",
      "330:\tlearn: 0.1655727\ttotal: 353ms\tremaining: 713ms\n",
      "331:\tlearn: 0.1655148\ttotal: 354ms\tremaining: 712ms\n",
      "332:\tlearn: 0.1651441\ttotal: 354ms\tremaining: 710ms\n",
      "333:\tlearn: 0.1647468\ttotal: 355ms\tremaining: 708ms\n",
      "334:\tlearn: 0.1644178\ttotal: 356ms\tremaining: 707ms\n",
      "335:\tlearn: 0.1641138\ttotal: 357ms\tremaining: 706ms\n",
      "336:\tlearn: 0.1639440\ttotal: 358ms\tremaining: 704ms\n",
      "337:\tlearn: 0.1638143\ttotal: 359ms\tremaining: 702ms\n",
      "338:\tlearn: 0.1633230\ttotal: 360ms\tremaining: 701ms\n",
      "339:\tlearn: 0.1632742\ttotal: 360ms\tremaining: 700ms\n",
      "340:\tlearn: 0.1630074\ttotal: 361ms\tremaining: 698ms\n",
      "341:\tlearn: 0.1626700\ttotal: 362ms\tremaining: 697ms\n",
      "342:\tlearn: 0.1621646\ttotal: 363ms\tremaining: 695ms\n",
      "343:\tlearn: 0.1620842\ttotal: 364ms\tremaining: 694ms\n",
      "344:\tlearn: 0.1616769\ttotal: 365ms\tremaining: 693ms\n",
      "345:\tlearn: 0.1612335\ttotal: 366ms\tremaining: 691ms\n",
      "346:\tlearn: 0.1608571\ttotal: 367ms\tremaining: 690ms\n",
      "347:\tlearn: 0.1604411\ttotal: 367ms\tremaining: 688ms\n",
      "348:\tlearn: 0.1603408\ttotal: 368ms\tremaining: 687ms\n",
      "349:\tlearn: 0.1599587\ttotal: 369ms\tremaining: 685ms\n",
      "350:\tlearn: 0.1597540\ttotal: 370ms\tremaining: 684ms\n",
      "351:\tlearn: 0.1592909\ttotal: 371ms\tremaining: 682ms\n",
      "352:\tlearn: 0.1589084\ttotal: 371ms\tremaining: 681ms\n",
      "353:\tlearn: 0.1586166\ttotal: 372ms\tremaining: 679ms\n",
      "354:\tlearn: 0.1581984\ttotal: 373ms\tremaining: 678ms\n",
      "355:\tlearn: 0.1578095\ttotal: 374ms\tremaining: 676ms\n",
      "356:\tlearn: 0.1575039\ttotal: 375ms\tremaining: 675ms\n",
      "357:\tlearn: 0.1572746\ttotal: 375ms\tremaining: 673ms\n",
      "358:\tlearn: 0.1569112\ttotal: 376ms\tremaining: 672ms\n",
      "359:\tlearn: 0.1567431\ttotal: 377ms\tremaining: 670ms\n",
      "360:\tlearn: 0.1564062\ttotal: 378ms\tremaining: 669ms\n",
      "361:\tlearn: 0.1560153\ttotal: 379ms\tremaining: 667ms\n",
      "362:\tlearn: 0.1557089\ttotal: 379ms\tremaining: 666ms\n",
      "363:\tlearn: 0.1553102\ttotal: 380ms\tremaining: 665ms\n",
      "364:\tlearn: 0.1549195\ttotal: 381ms\tremaining: 663ms\n",
      "365:\tlearn: 0.1548857\ttotal: 382ms\tremaining: 662ms\n"
     ]
    },
    {
     "name": "stdout",
     "output_type": "stream",
     "text": [
      "366:\tlearn: 0.1545637\ttotal: 383ms\tremaining: 661ms\n",
      "367:\tlearn: 0.1543317\ttotal: 384ms\tremaining: 660ms\n",
      "368:\tlearn: 0.1539995\ttotal: 385ms\tremaining: 658ms\n",
      "369:\tlearn: 0.1538052\ttotal: 386ms\tremaining: 657ms\n",
      "370:\tlearn: 0.1534472\ttotal: 387ms\tremaining: 656ms\n",
      "371:\tlearn: 0.1531205\ttotal: 387ms\tremaining: 654ms\n",
      "372:\tlearn: 0.1527211\ttotal: 388ms\tremaining: 653ms\n",
      "373:\tlearn: 0.1524665\ttotal: 389ms\tremaining: 651ms\n",
      "374:\tlearn: 0.1523768\ttotal: 390ms\tremaining: 650ms\n",
      "375:\tlearn: 0.1519465\ttotal: 391ms\tremaining: 649ms\n",
      "376:\tlearn: 0.1516193\ttotal: 392ms\tremaining: 647ms\n",
      "377:\tlearn: 0.1515491\ttotal: 392ms\tremaining: 645ms\n",
      "378:\tlearn: 0.1511219\ttotal: 393ms\tremaining: 644ms\n",
      "379:\tlearn: 0.1510610\ttotal: 394ms\tremaining: 642ms\n",
      "380:\tlearn: 0.1509310\ttotal: 394ms\tremaining: 641ms\n",
      "381:\tlearn: 0.1506524\ttotal: 395ms\tremaining: 639ms\n",
      "382:\tlearn: 0.1503754\ttotal: 396ms\tremaining: 638ms\n",
      "383:\tlearn: 0.1503429\ttotal: 397ms\tremaining: 636ms\n",
      "384:\tlearn: 0.1500834\ttotal: 397ms\tremaining: 635ms\n",
      "385:\tlearn: 0.1496830\ttotal: 398ms\tremaining: 633ms\n",
      "386:\tlearn: 0.1493825\ttotal: 399ms\tremaining: 632ms\n",
      "387:\tlearn: 0.1490804\ttotal: 400ms\tremaining: 631ms\n",
      "388:\tlearn: 0.1489801\ttotal: 401ms\tremaining: 630ms\n",
      "389:\tlearn: 0.1488418\ttotal: 402ms\tremaining: 628ms\n",
      "390:\tlearn: 0.1485611\ttotal: 402ms\tremaining: 627ms\n",
      "391:\tlearn: 0.1480884\ttotal: 403ms\tremaining: 625ms\n",
      "392:\tlearn: 0.1477242\ttotal: 404ms\tremaining: 624ms\n",
      "393:\tlearn: 0.1473411\ttotal: 405ms\tremaining: 623ms\n",
      "394:\tlearn: 0.1469775\ttotal: 406ms\tremaining: 622ms\n",
      "395:\tlearn: 0.1469438\ttotal: 407ms\tremaining: 620ms\n",
      "396:\tlearn: 0.1466002\ttotal: 408ms\tremaining: 619ms\n",
      "397:\tlearn: 0.1463663\ttotal: 408ms\tremaining: 618ms\n",
      "398:\tlearn: 0.1458240\ttotal: 409ms\tremaining: 616ms\n",
      "399:\tlearn: 0.1457583\ttotal: 410ms\tremaining: 615ms\n",
      "400:\tlearn: 0.1454385\ttotal: 411ms\tremaining: 613ms\n",
      "401:\tlearn: 0.1450824\ttotal: 411ms\tremaining: 612ms\n",
      "402:\tlearn: 0.1448433\ttotal: 412ms\tremaining: 611ms\n",
      "403:\tlearn: 0.1446407\ttotal: 413ms\tremaining: 610ms\n",
      "404:\tlearn: 0.1443089\ttotal: 414ms\tremaining: 608ms\n",
      "405:\tlearn: 0.1438388\ttotal: 415ms\tremaining: 607ms\n",
      "406:\tlearn: 0.1435949\ttotal: 416ms\tremaining: 606ms\n",
      "407:\tlearn: 0.1433561\ttotal: 416ms\tremaining: 604ms\n",
      "408:\tlearn: 0.1429832\ttotal: 417ms\tremaining: 603ms\n",
      "409:\tlearn: 0.1425434\ttotal: 418ms\tremaining: 602ms\n",
      "410:\tlearn: 0.1422737\ttotal: 419ms\tremaining: 600ms\n",
      "411:\tlearn: 0.1419118\ttotal: 420ms\tremaining: 599ms\n",
      "412:\tlearn: 0.1415670\ttotal: 421ms\tremaining: 598ms\n",
      "413:\tlearn: 0.1412727\ttotal: 422ms\tremaining: 597ms\n",
      "414:\tlearn: 0.1409860\ttotal: 422ms\tremaining: 595ms\n",
      "415:\tlearn: 0.1405757\ttotal: 423ms\tremaining: 594ms\n",
      "416:\tlearn: 0.1405437\ttotal: 424ms\tremaining: 593ms\n",
      "417:\tlearn: 0.1404299\ttotal: 425ms\tremaining: 592ms\n",
      "418:\tlearn: 0.1402522\ttotal: 426ms\tremaining: 590ms\n",
      "419:\tlearn: 0.1398489\ttotal: 427ms\tremaining: 589ms\n",
      "420:\tlearn: 0.1397353\ttotal: 427ms\tremaining: 588ms\n",
      "421:\tlearn: 0.1395676\ttotal: 428ms\tremaining: 587ms\n",
      "422:\tlearn: 0.1392616\ttotal: 429ms\tremaining: 585ms\n",
      "423:\tlearn: 0.1389284\ttotal: 430ms\tremaining: 584ms\n",
      "424:\tlearn: 0.1386084\ttotal: 431ms\tremaining: 583ms\n",
      "425:\tlearn: 0.1383902\ttotal: 431ms\tremaining: 581ms\n",
      "426:\tlearn: 0.1381078\ttotal: 432ms\tremaining: 580ms\n",
      "427:\tlearn: 0.1377289\ttotal: 433ms\tremaining: 579ms\n",
      "428:\tlearn: 0.1374204\ttotal: 434ms\tremaining: 577ms\n",
      "429:\tlearn: 0.1370968\ttotal: 435ms\tremaining: 576ms\n",
      "430:\tlearn: 0.1367012\ttotal: 435ms\tremaining: 575ms\n",
      "431:\tlearn: 0.1364880\ttotal: 436ms\tremaining: 574ms\n",
      "432:\tlearn: 0.1361493\ttotal: 437ms\tremaining: 572ms\n",
      "433:\tlearn: 0.1358321\ttotal: 438ms\tremaining: 571ms\n",
      "434:\tlearn: 0.1357105\ttotal: 439ms\tremaining: 570ms\n",
      "435:\tlearn: 0.1354483\ttotal: 439ms\tremaining: 568ms\n",
      "436:\tlearn: 0.1352478\ttotal: 440ms\tremaining: 567ms\n",
      "437:\tlearn: 0.1351936\ttotal: 441ms\tremaining: 566ms\n",
      "438:\tlearn: 0.1351497\ttotal: 441ms\tremaining: 564ms\n",
      "439:\tlearn: 0.1348676\ttotal: 442ms\tremaining: 563ms\n",
      "440:\tlearn: 0.1346164\ttotal: 443ms\tremaining: 562ms\n",
      "441:\tlearn: 0.1345461\ttotal: 444ms\tremaining: 561ms\n",
      "442:\tlearn: 0.1344250\ttotal: 445ms\tremaining: 559ms\n",
      "443:\tlearn: 0.1340871\ttotal: 446ms\tremaining: 558ms\n",
      "444:\tlearn: 0.1338258\ttotal: 447ms\tremaining: 557ms\n",
      "445:\tlearn: 0.1337905\ttotal: 447ms\tremaining: 556ms\n",
      "446:\tlearn: 0.1335373\ttotal: 448ms\tremaining: 554ms\n",
      "447:\tlearn: 0.1332882\ttotal: 449ms\tremaining: 553ms\n",
      "448:\tlearn: 0.1330163\ttotal: 450ms\tremaining: 553ms\n",
      "449:\tlearn: 0.1328867\ttotal: 451ms\tremaining: 551ms\n",
      "450:\tlearn: 0.1325620\ttotal: 452ms\tremaining: 550ms\n",
      "451:\tlearn: 0.1323581\ttotal: 453ms\tremaining: 549ms\n",
      "452:\tlearn: 0.1321275\ttotal: 454ms\tremaining: 548ms\n",
      "453:\tlearn: 0.1321079\ttotal: 455ms\tremaining: 547ms\n",
      "454:\tlearn: 0.1318290\ttotal: 455ms\tremaining: 545ms\n",
      "455:\tlearn: 0.1313760\ttotal: 456ms\tremaining: 544ms\n",
      "456:\tlearn: 0.1311480\ttotal: 457ms\tremaining: 543ms\n",
      "457:\tlearn: 0.1308992\ttotal: 458ms\tremaining: 542ms\n",
      "458:\tlearn: 0.1305156\ttotal: 459ms\tremaining: 541ms\n",
      "459:\tlearn: 0.1302656\ttotal: 460ms\tremaining: 539ms\n",
      "460:\tlearn: 0.1300101\ttotal: 460ms\tremaining: 538ms\n",
      "461:\tlearn: 0.1298283\ttotal: 461ms\tremaining: 537ms\n",
      "462:\tlearn: 0.1295659\ttotal: 462ms\tremaining: 536ms\n",
      "463:\tlearn: 0.1293768\ttotal: 463ms\tremaining: 535ms\n",
      "464:\tlearn: 0.1291315\ttotal: 463ms\tremaining: 533ms\n",
      "465:\tlearn: 0.1287551\ttotal: 464ms\tremaining: 532ms\n",
      "466:\tlearn: 0.1283815\ttotal: 465ms\tremaining: 531ms\n",
      "467:\tlearn: 0.1282243\ttotal: 466ms\tremaining: 530ms\n",
      "468:\tlearn: 0.1280106\ttotal: 467ms\tremaining: 529ms\n",
      "469:\tlearn: 0.1277100\ttotal: 468ms\tremaining: 527ms\n",
      "470:\tlearn: 0.1276720\ttotal: 468ms\tremaining: 526ms\n",
      "471:\tlearn: 0.1274242\ttotal: 469ms\tremaining: 525ms\n",
      "472:\tlearn: 0.1272789\ttotal: 470ms\tremaining: 524ms\n",
      "473:\tlearn: 0.1270067\ttotal: 471ms\tremaining: 522ms\n",
      "474:\tlearn: 0.1269503\ttotal: 472ms\tremaining: 521ms\n",
      "475:\tlearn: 0.1266944\ttotal: 472ms\tremaining: 520ms\n",
      "476:\tlearn: 0.1264684\ttotal: 473ms\tremaining: 519ms\n",
      "477:\tlearn: 0.1262572\ttotal: 474ms\tremaining: 518ms\n",
      "478:\tlearn: 0.1260197\ttotal: 475ms\tremaining: 516ms\n",
      "479:\tlearn: 0.1258287\ttotal: 475ms\tremaining: 515ms\n",
      "480:\tlearn: 0.1255620\ttotal: 476ms\tremaining: 514ms\n",
      "481:\tlearn: 0.1253359\ttotal: 477ms\tremaining: 513ms\n",
      "482:\tlearn: 0.1250773\ttotal: 478ms\tremaining: 512ms\n",
      "483:\tlearn: 0.1246980\ttotal: 479ms\tremaining: 510ms\n",
      "484:\tlearn: 0.1244593\ttotal: 480ms\tremaining: 509ms\n",
      "485:\tlearn: 0.1242203\ttotal: 480ms\tremaining: 508ms\n",
      "486:\tlearn: 0.1239720\ttotal: 481ms\tremaining: 507ms\n",
      "487:\tlearn: 0.1239384\ttotal: 482ms\tremaining: 506ms\n",
      "488:\tlearn: 0.1235601\ttotal: 483ms\tremaining: 505ms\n",
      "489:\tlearn: 0.1233501\ttotal: 484ms\tremaining: 503ms\n",
      "490:\tlearn: 0.1232051\ttotal: 484ms\tremaining: 502ms\n",
      "491:\tlearn: 0.1229752\ttotal: 485ms\tremaining: 501ms\n",
      "492:\tlearn: 0.1226656\ttotal: 486ms\tremaining: 500ms\n",
      "493:\tlearn: 0.1224987\ttotal: 487ms\tremaining: 499ms\n",
      "494:\tlearn: 0.1223458\ttotal: 488ms\tremaining: 497ms\n",
      "495:\tlearn: 0.1220420\ttotal: 488ms\tremaining: 496ms\n",
      "496:\tlearn: 0.1217877\ttotal: 489ms\tremaining: 495ms\n"
     ]
    },
    {
     "name": "stdout",
     "output_type": "stream",
     "text": [
      "497:\tlearn: 0.1214940\ttotal: 490ms\tremaining: 494ms\n",
      "498:\tlearn: 0.1211661\ttotal: 491ms\tremaining: 493ms\n",
      "499:\tlearn: 0.1209274\ttotal: 492ms\tremaining: 492ms\n",
      "500:\tlearn: 0.1206325\ttotal: 493ms\tremaining: 491ms\n",
      "501:\tlearn: 0.1204677\ttotal: 494ms\tremaining: 490ms\n",
      "502:\tlearn: 0.1202172\ttotal: 495ms\tremaining: 489ms\n",
      "503:\tlearn: 0.1199284\ttotal: 496ms\tremaining: 488ms\n",
      "504:\tlearn: 0.1196689\ttotal: 496ms\tremaining: 487ms\n",
      "505:\tlearn: 0.1195103\ttotal: 497ms\tremaining: 485ms\n",
      "506:\tlearn: 0.1192137\ttotal: 498ms\tremaining: 484ms\n",
      "507:\tlearn: 0.1188701\ttotal: 499ms\tremaining: 483ms\n",
      "508:\tlearn: 0.1186312\ttotal: 500ms\tremaining: 482ms\n",
      "509:\tlearn: 0.1183764\ttotal: 501ms\tremaining: 481ms\n",
      "510:\tlearn: 0.1181663\ttotal: 502ms\tremaining: 480ms\n",
      "511:\tlearn: 0.1178614\ttotal: 502ms\tremaining: 479ms\n",
      "512:\tlearn: 0.1176952\ttotal: 503ms\tremaining: 478ms\n",
      "513:\tlearn: 0.1176238\ttotal: 504ms\tremaining: 477ms\n",
      "514:\tlearn: 0.1173632\ttotal: 505ms\tremaining: 475ms\n",
      "515:\tlearn: 0.1171106\ttotal: 506ms\tremaining: 474ms\n",
      "516:\tlearn: 0.1167732\ttotal: 507ms\tremaining: 473ms\n",
      "517:\tlearn: 0.1167404\ttotal: 507ms\tremaining: 472ms\n",
      "518:\tlearn: 0.1165363\ttotal: 508ms\tremaining: 471ms\n",
      "519:\tlearn: 0.1163186\ttotal: 509ms\tremaining: 470ms\n",
      "520:\tlearn: 0.1161114\ttotal: 509ms\tremaining: 468ms\n",
      "521:\tlearn: 0.1160786\ttotal: 510ms\tremaining: 467ms\n",
      "522:\tlearn: 0.1157615\ttotal: 511ms\tremaining: 466ms\n",
      "523:\tlearn: 0.1156807\ttotal: 512ms\tremaining: 465ms\n",
      "524:\tlearn: 0.1155246\ttotal: 513ms\tremaining: 464ms\n",
      "525:\tlearn: 0.1153390\ttotal: 514ms\tremaining: 463ms\n",
      "526:\tlearn: 0.1151233\ttotal: 514ms\tremaining: 462ms\n",
      "527:\tlearn: 0.1149560\ttotal: 515ms\tremaining: 461ms\n",
      "528:\tlearn: 0.1148989\ttotal: 516ms\tremaining: 459ms\n",
      "529:\tlearn: 0.1147213\ttotal: 517ms\tremaining: 458ms\n",
      "530:\tlearn: 0.1144036\ttotal: 518ms\tremaining: 457ms\n",
      "531:\tlearn: 0.1143385\ttotal: 518ms\tremaining: 456ms\n",
      "532:\tlearn: 0.1141112\ttotal: 519ms\tremaining: 455ms\n",
      "533:\tlearn: 0.1138713\ttotal: 520ms\tremaining: 454ms\n",
      "534:\tlearn: 0.1137114\ttotal: 521ms\tremaining: 453ms\n",
      "535:\tlearn: 0.1135467\ttotal: 522ms\tremaining: 452ms\n",
      "536:\tlearn: 0.1133075\ttotal: 523ms\tremaining: 451ms\n",
      "537:\tlearn: 0.1131621\ttotal: 524ms\tremaining: 450ms\n",
      "538:\tlearn: 0.1129646\ttotal: 524ms\tremaining: 448ms\n",
      "539:\tlearn: 0.1127420\ttotal: 525ms\tremaining: 447ms\n",
      "540:\tlearn: 0.1124075\ttotal: 526ms\tremaining: 446ms\n",
      "541:\tlearn: 0.1122741\ttotal: 527ms\tremaining: 445ms\n",
      "542:\tlearn: 0.1121508\ttotal: 528ms\tremaining: 444ms\n",
      "543:\tlearn: 0.1119686\ttotal: 528ms\tremaining: 443ms\n",
      "544:\tlearn: 0.1117481\ttotal: 529ms\tremaining: 442ms\n",
      "545:\tlearn: 0.1115734\ttotal: 530ms\tremaining: 441ms\n",
      "546:\tlearn: 0.1112709\ttotal: 531ms\tremaining: 440ms\n",
      "547:\tlearn: 0.1110744\ttotal: 532ms\tremaining: 439ms\n",
      "548:\tlearn: 0.1108354\ttotal: 533ms\tremaining: 437ms\n",
      "549:\tlearn: 0.1106347\ttotal: 533ms\tremaining: 436ms\n",
      "550:\tlearn: 0.1104399\ttotal: 534ms\tremaining: 435ms\n",
      "551:\tlearn: 0.1103434\ttotal: 535ms\tremaining: 434ms\n",
      "552:\tlearn: 0.1101598\ttotal: 536ms\tremaining: 433ms\n",
      "553:\tlearn: 0.1099348\ttotal: 537ms\tremaining: 432ms\n",
      "554:\tlearn: 0.1095947\ttotal: 538ms\tremaining: 431ms\n",
      "555:\tlearn: 0.1093593\ttotal: 539ms\tremaining: 430ms\n",
      "556:\tlearn: 0.1091375\ttotal: 539ms\tremaining: 429ms\n",
      "557:\tlearn: 0.1089925\ttotal: 540ms\tremaining: 428ms\n",
      "558:\tlearn: 0.1087587\ttotal: 541ms\tremaining: 427ms\n",
      "559:\tlearn: 0.1084911\ttotal: 542ms\tremaining: 426ms\n",
      "560:\tlearn: 0.1083262\ttotal: 543ms\tremaining: 425ms\n",
      "561:\tlearn: 0.1082128\ttotal: 544ms\tremaining: 424ms\n",
      "562:\tlearn: 0.1079912\ttotal: 544ms\tremaining: 423ms\n",
      "563:\tlearn: 0.1077714\ttotal: 545ms\tremaining: 422ms\n",
      "564:\tlearn: 0.1075662\ttotal: 546ms\tremaining: 420ms\n",
      "565:\tlearn: 0.1073840\ttotal: 547ms\tremaining: 419ms\n",
      "566:\tlearn: 0.1072850\ttotal: 548ms\tremaining: 418ms\n",
      "567:\tlearn: 0.1070626\ttotal: 549ms\tremaining: 417ms\n",
      "568:\tlearn: 0.1069330\ttotal: 550ms\tremaining: 416ms\n",
      "569:\tlearn: 0.1067605\ttotal: 550ms\tremaining: 415ms\n",
      "570:\tlearn: 0.1066924\ttotal: 551ms\tremaining: 414ms\n",
      "571:\tlearn: 0.1064476\ttotal: 552ms\tremaining: 413ms\n",
      "572:\tlearn: 0.1062011\ttotal: 553ms\tremaining: 412ms\n",
      "573:\tlearn: 0.1061288\ttotal: 554ms\tremaining: 411ms\n",
      "574:\tlearn: 0.1059573\ttotal: 554ms\tremaining: 410ms\n",
      "575:\tlearn: 0.1058392\ttotal: 555ms\tremaining: 409ms\n",
      "576:\tlearn: 0.1055930\ttotal: 556ms\tremaining: 408ms\n",
      "577:\tlearn: 0.1054420\ttotal: 557ms\tremaining: 406ms\n",
      "578:\tlearn: 0.1052787\ttotal: 558ms\tremaining: 405ms\n",
      "579:\tlearn: 0.1051648\ttotal: 558ms\tremaining: 404ms\n",
      "580:\tlearn: 0.1050016\ttotal: 559ms\tremaining: 403ms\n",
      "581:\tlearn: 0.1048134\ttotal: 560ms\tremaining: 402ms\n",
      "582:\tlearn: 0.1045600\ttotal: 561ms\tremaining: 401ms\n",
      "583:\tlearn: 0.1043643\ttotal: 562ms\tremaining: 400ms\n",
      "584:\tlearn: 0.1041605\ttotal: 563ms\tremaining: 399ms\n",
      "585:\tlearn: 0.1039795\ttotal: 564ms\tremaining: 398ms\n",
      "586:\tlearn: 0.1039143\ttotal: 564ms\tremaining: 397ms\n",
      "587:\tlearn: 0.1038440\ttotal: 565ms\tremaining: 396ms\n",
      "588:\tlearn: 0.1037311\ttotal: 566ms\tremaining: 395ms\n",
      "589:\tlearn: 0.1034164\ttotal: 567ms\tremaining: 394ms\n",
      "590:\tlearn: 0.1033613\ttotal: 568ms\tremaining: 393ms\n",
      "591:\tlearn: 0.1032795\ttotal: 569ms\tremaining: 392ms\n",
      "592:\tlearn: 0.1031131\ttotal: 569ms\tremaining: 391ms\n",
      "593:\tlearn: 0.1028933\ttotal: 570ms\tremaining: 390ms\n",
      "594:\tlearn: 0.1027054\ttotal: 571ms\tremaining: 389ms\n",
      "595:\tlearn: 0.1024824\ttotal: 572ms\tremaining: 388ms\n"
     ]
    },
    {
     "name": "stdout",
     "output_type": "stream",
     "text": [
      "596:\tlearn: 0.1022736\ttotal: 573ms\tremaining: 387ms\n",
      "597:\tlearn: 0.1020851\ttotal: 574ms\tremaining: 386ms\n",
      "598:\tlearn: 0.1020211\ttotal: 575ms\tremaining: 385ms\n",
      "599:\tlearn: 0.1018769\ttotal: 576ms\tremaining: 384ms\n",
      "600:\tlearn: 0.1016332\ttotal: 576ms\tremaining: 383ms\n",
      "601:\tlearn: 0.1013981\ttotal: 577ms\tremaining: 382ms\n",
      "602:\tlearn: 0.1012379\ttotal: 578ms\tremaining: 381ms\n",
      "603:\tlearn: 0.1010207\ttotal: 579ms\tremaining: 380ms\n",
      "604:\tlearn: 0.1009883\ttotal: 580ms\tremaining: 379ms\n",
      "605:\tlearn: 0.1008566\ttotal: 581ms\tremaining: 377ms\n",
      "606:\tlearn: 0.1006575\ttotal: 581ms\tremaining: 376ms\n",
      "607:\tlearn: 0.1005519\ttotal: 582ms\tremaining: 375ms\n",
      "608:\tlearn: 0.1002954\ttotal: 583ms\tremaining: 374ms\n",
      "609:\tlearn: 0.1001436\ttotal: 584ms\tremaining: 373ms\n",
      "610:\tlearn: 0.1000629\ttotal: 585ms\tremaining: 372ms\n",
      "611:\tlearn: 0.0999352\ttotal: 586ms\tremaining: 371ms\n",
      "612:\tlearn: 0.0997619\ttotal: 586ms\tremaining: 370ms\n",
      "613:\tlearn: 0.0995889\ttotal: 587ms\tremaining: 369ms\n",
      "614:\tlearn: 0.0994637\ttotal: 588ms\tremaining: 368ms\n",
      "615:\tlearn: 0.0992838\ttotal: 589ms\tremaining: 367ms\n",
      "616:\tlearn: 0.0991112\ttotal: 590ms\tremaining: 366ms\n",
      "617:\tlearn: 0.0988357\ttotal: 590ms\tremaining: 365ms\n",
      "618:\tlearn: 0.0986227\ttotal: 591ms\tremaining: 364ms\n",
      "619:\tlearn: 0.0984945\ttotal: 592ms\tremaining: 363ms\n",
      "620:\tlearn: 0.0984140\ttotal: 593ms\tremaining: 362ms\n",
      "621:\tlearn: 0.0982505\ttotal: 594ms\tremaining: 361ms\n",
      "622:\tlearn: 0.0980070\ttotal: 594ms\tremaining: 360ms\n",
      "623:\tlearn: 0.0978173\ttotal: 595ms\tremaining: 359ms\n",
      "624:\tlearn: 0.0977637\ttotal: 596ms\tremaining: 358ms\n",
      "625:\tlearn: 0.0975454\ttotal: 597ms\tremaining: 357ms\n",
      "626:\tlearn: 0.0973748\ttotal: 598ms\tremaining: 355ms\n",
      "627:\tlearn: 0.0972410\ttotal: 598ms\tremaining: 354ms\n",
      "628:\tlearn: 0.0971839\ttotal: 599ms\tremaining: 353ms\n",
      "629:\tlearn: 0.0970028\ttotal: 600ms\tremaining: 352ms\n",
      "630:\tlearn: 0.0968100\ttotal: 601ms\tremaining: 351ms\n",
      "631:\tlearn: 0.0966572\ttotal: 602ms\tremaining: 350ms\n",
      "632:\tlearn: 0.0965077\ttotal: 602ms\tremaining: 349ms\n",
      "633:\tlearn: 0.0963257\ttotal: 603ms\tremaining: 348ms\n",
      "634:\tlearn: 0.0962646\ttotal: 604ms\tremaining: 347ms\n",
      "635:\tlearn: 0.0961246\ttotal: 605ms\tremaining: 346ms\n",
      "636:\tlearn: 0.0959601\ttotal: 606ms\tremaining: 345ms\n",
      "637:\tlearn: 0.0957367\ttotal: 607ms\tremaining: 344ms\n",
      "638:\tlearn: 0.0955423\ttotal: 607ms\tremaining: 343ms\n",
      "639:\tlearn: 0.0954003\ttotal: 608ms\tremaining: 342ms\n",
      "640:\tlearn: 0.0951523\ttotal: 609ms\tremaining: 341ms\n",
      "641:\tlearn: 0.0949418\ttotal: 610ms\tremaining: 340ms\n",
      "642:\tlearn: 0.0947863\ttotal: 611ms\tremaining: 339ms\n",
      "643:\tlearn: 0.0946493\ttotal: 611ms\tremaining: 338ms\n",
      "644:\tlearn: 0.0945419\ttotal: 612ms\tremaining: 337ms\n",
      "645:\tlearn: 0.0944424\ttotal: 613ms\tremaining: 336ms\n",
      "646:\tlearn: 0.0942787\ttotal: 614ms\tremaining: 335ms\n",
      "647:\tlearn: 0.0941523\ttotal: 615ms\tremaining: 334ms\n",
      "648:\tlearn: 0.0940216\ttotal: 615ms\tremaining: 333ms\n",
      "649:\tlearn: 0.0939377\ttotal: 616ms\tremaining: 332ms\n",
      "650:\tlearn: 0.0937698\ttotal: 617ms\tremaining: 331ms\n",
      "651:\tlearn: 0.0936899\ttotal: 618ms\tremaining: 330ms\n",
      "652:\tlearn: 0.0936610\ttotal: 619ms\tremaining: 329ms\n",
      "653:\tlearn: 0.0934705\ttotal: 619ms\tremaining: 328ms\n",
      "654:\tlearn: 0.0933341\ttotal: 620ms\tremaining: 327ms\n",
      "655:\tlearn: 0.0932552\ttotal: 621ms\tremaining: 326ms\n",
      "656:\tlearn: 0.0931181\ttotal: 622ms\tremaining: 325ms\n",
      "657:\tlearn: 0.0929565\ttotal: 623ms\tremaining: 324ms\n",
      "658:\tlearn: 0.0928348\ttotal: 623ms\tremaining: 323ms\n",
      "659:\tlearn: 0.0926446\ttotal: 624ms\tremaining: 322ms\n",
      "660:\tlearn: 0.0924711\ttotal: 625ms\tremaining: 321ms\n",
      "661:\tlearn: 0.0923495\ttotal: 626ms\tremaining: 320ms\n",
      "662:\tlearn: 0.0921998\ttotal: 627ms\tremaining: 319ms\n",
      "663:\tlearn: 0.0920390\ttotal: 628ms\tremaining: 318ms\n",
      "664:\tlearn: 0.0918849\ttotal: 628ms\tremaining: 317ms\n",
      "665:\tlearn: 0.0916995\ttotal: 629ms\tremaining: 315ms\n",
      "666:\tlearn: 0.0914775\ttotal: 630ms\tremaining: 315ms\n",
      "667:\tlearn: 0.0913308\ttotal: 631ms\tremaining: 313ms\n",
      "668:\tlearn: 0.0911800\ttotal: 632ms\tremaining: 312ms\n",
      "669:\tlearn: 0.0910829\ttotal: 632ms\tremaining: 311ms\n",
      "670:\tlearn: 0.0910537\ttotal: 633ms\tremaining: 310ms\n",
      "671:\tlearn: 0.0908779\ttotal: 634ms\tremaining: 309ms\n",
      "672:\tlearn: 0.0907968\ttotal: 635ms\tremaining: 308ms\n",
      "673:\tlearn: 0.0906850\ttotal: 635ms\tremaining: 307ms\n",
      "674:\tlearn: 0.0905631\ttotal: 636ms\tremaining: 306ms\n",
      "675:\tlearn: 0.0904410\ttotal: 637ms\tremaining: 305ms\n",
      "676:\tlearn: 0.0902913\ttotal: 638ms\tremaining: 304ms\n",
      "677:\tlearn: 0.0901248\ttotal: 639ms\tremaining: 303ms\n",
      "678:\tlearn: 0.0900250\ttotal: 639ms\tremaining: 302ms\n",
      "679:\tlearn: 0.0899007\ttotal: 640ms\tremaining: 301ms\n",
      "680:\tlearn: 0.0897379\ttotal: 641ms\tremaining: 300ms\n",
      "681:\tlearn: 0.0896191\ttotal: 642ms\tremaining: 299ms\n",
      "682:\tlearn: 0.0894273\ttotal: 643ms\tremaining: 298ms\n",
      "683:\tlearn: 0.0892888\ttotal: 645ms\tremaining: 298ms\n",
      "684:\tlearn: 0.0891115\ttotal: 646ms\tremaining: 297ms\n",
      "685:\tlearn: 0.0889689\ttotal: 646ms\tremaining: 296ms\n",
      "686:\tlearn: 0.0889156\ttotal: 647ms\tremaining: 295ms\n",
      "687:\tlearn: 0.0888374\ttotal: 648ms\tremaining: 294ms\n",
      "688:\tlearn: 0.0886746\ttotal: 649ms\tremaining: 293ms\n",
      "689:\tlearn: 0.0885111\ttotal: 650ms\tremaining: 292ms\n",
      "690:\tlearn: 0.0884842\ttotal: 650ms\tremaining: 291ms\n",
      "691:\tlearn: 0.0883219\ttotal: 651ms\tremaining: 290ms\n",
      "692:\tlearn: 0.0881409\ttotal: 652ms\tremaining: 289ms\n",
      "693:\tlearn: 0.0879964\ttotal: 653ms\tremaining: 288ms\n",
      "694:\tlearn: 0.0878570\ttotal: 654ms\tremaining: 287ms\n",
      "695:\tlearn: 0.0876521\ttotal: 655ms\tremaining: 286ms\n",
      "696:\tlearn: 0.0874614\ttotal: 655ms\tremaining: 285ms\n",
      "697:\tlearn: 0.0873437\ttotal: 656ms\tremaining: 284ms\n",
      "698:\tlearn: 0.0872031\ttotal: 657ms\tremaining: 283ms\n",
      "699:\tlearn: 0.0870477\ttotal: 658ms\tremaining: 282ms\n",
      "700:\tlearn: 0.0868992\ttotal: 659ms\tremaining: 281ms\n",
      "701:\tlearn: 0.0867788\ttotal: 660ms\tremaining: 280ms\n",
      "702:\tlearn: 0.0865847\ttotal: 661ms\tremaining: 279ms\n",
      "703:\tlearn: 0.0864906\ttotal: 661ms\tremaining: 278ms\n",
      "704:\tlearn: 0.0862879\ttotal: 662ms\tremaining: 277ms\n",
      "705:\tlearn: 0.0862068\ttotal: 663ms\tremaining: 276ms\n",
      "706:\tlearn: 0.0861883\ttotal: 664ms\tremaining: 275ms\n",
      "707:\tlearn: 0.0860437\ttotal: 665ms\tremaining: 274ms\n",
      "708:\tlearn: 0.0859143\ttotal: 666ms\tremaining: 273ms\n",
      "709:\tlearn: 0.0857719\ttotal: 666ms\tremaining: 272ms\n",
      "710:\tlearn: 0.0856102\ttotal: 667ms\tremaining: 271ms\n",
      "711:\tlearn: 0.0854573\ttotal: 668ms\tremaining: 270ms\n",
      "712:\tlearn: 0.0853369\ttotal: 669ms\tremaining: 269ms\n",
      "713:\tlearn: 0.0852349\ttotal: 670ms\tremaining: 268ms\n",
      "714:\tlearn: 0.0850607\ttotal: 671ms\tremaining: 268ms\n",
      "715:\tlearn: 0.0849100\ttotal: 672ms\tremaining: 267ms\n",
      "716:\tlearn: 0.0848849\ttotal: 673ms\tremaining: 266ms\n",
      "717:\tlearn: 0.0847082\ttotal: 674ms\tremaining: 265ms\n",
      "718:\tlearn: 0.0845441\ttotal: 675ms\tremaining: 264ms\n",
      "719:\tlearn: 0.0844034\ttotal: 676ms\tremaining: 263ms\n",
      "720:\tlearn: 0.0843794\ttotal: 677ms\tremaining: 262ms\n",
      "721:\tlearn: 0.0842562\ttotal: 678ms\tremaining: 261ms\n",
      "722:\tlearn: 0.0840883\ttotal: 678ms\tremaining: 260ms\n",
      "723:\tlearn: 0.0839633\ttotal: 679ms\tremaining: 259ms\n"
     ]
    },
    {
     "name": "stdout",
     "output_type": "stream",
     "text": [
      "724:\tlearn: 0.0838765\ttotal: 680ms\tremaining: 258ms\n",
      "725:\tlearn: 0.0837705\ttotal: 681ms\tremaining: 257ms\n",
      "726:\tlearn: 0.0835797\ttotal: 682ms\tremaining: 256ms\n",
      "727:\tlearn: 0.0833970\ttotal: 683ms\tremaining: 255ms\n",
      "728:\tlearn: 0.0832544\ttotal: 684ms\tremaining: 254ms\n",
      "729:\tlearn: 0.0832356\ttotal: 684ms\tremaining: 253ms\n",
      "730:\tlearn: 0.0830296\ttotal: 685ms\tremaining: 252ms\n",
      "731:\tlearn: 0.0828455\ttotal: 686ms\tremaining: 251ms\n",
      "732:\tlearn: 0.0826439\ttotal: 687ms\tremaining: 250ms\n",
      "733:\tlearn: 0.0825063\ttotal: 688ms\tremaining: 249ms\n",
      "734:\tlearn: 0.0824199\ttotal: 689ms\tremaining: 248ms\n",
      "735:\tlearn: 0.0822678\ttotal: 689ms\tremaining: 247ms\n",
      "736:\tlearn: 0.0821755\ttotal: 690ms\tremaining: 246ms\n",
      "737:\tlearn: 0.0820746\ttotal: 691ms\tremaining: 245ms\n",
      "738:\tlearn: 0.0819523\ttotal: 692ms\tremaining: 244ms\n",
      "739:\tlearn: 0.0817934\ttotal: 693ms\tremaining: 243ms\n",
      "740:\tlearn: 0.0817090\ttotal: 694ms\tremaining: 242ms\n",
      "741:\tlearn: 0.0815159\ttotal: 694ms\tremaining: 241ms\n",
      "742:\tlearn: 0.0814157\ttotal: 695ms\tremaining: 241ms\n",
      "743:\tlearn: 0.0813947\ttotal: 696ms\tremaining: 239ms\n",
      "744:\tlearn: 0.0812552\ttotal: 697ms\tremaining: 238ms\n",
      "745:\tlearn: 0.0811195\ttotal: 697ms\tremaining: 237ms\n",
      "746:\tlearn: 0.0810439\ttotal: 698ms\tremaining: 236ms\n",
      "747:\tlearn: 0.0808706\ttotal: 699ms\tremaining: 236ms\n",
      "748:\tlearn: 0.0807622\ttotal: 700ms\tremaining: 235ms\n",
      "749:\tlearn: 0.0807454\ttotal: 700ms\tremaining: 233ms\n",
      "750:\tlearn: 0.0805757\ttotal: 701ms\tremaining: 232ms\n",
      "751:\tlearn: 0.0804540\ttotal: 702ms\tremaining: 232ms\n",
      "752:\tlearn: 0.0802994\ttotal: 703ms\tremaining: 231ms\n",
      "753:\tlearn: 0.0802831\ttotal: 703ms\tremaining: 229ms\n",
      "754:\tlearn: 0.0802514\ttotal: 704ms\tremaining: 229ms\n",
      "755:\tlearn: 0.0801141\ttotal: 705ms\tremaining: 228ms\n",
      "756:\tlearn: 0.0800209\ttotal: 706ms\tremaining: 227ms\n",
      "757:\tlearn: 0.0798371\ttotal: 707ms\tremaining: 226ms\n",
      "758:\tlearn: 0.0797867\ttotal: 707ms\tremaining: 225ms\n",
      "759:\tlearn: 0.0797194\ttotal: 708ms\tremaining: 224ms\n",
      "760:\tlearn: 0.0796579\ttotal: 709ms\tremaining: 223ms\n",
      "761:\tlearn: 0.0795358\ttotal: 710ms\tremaining: 222ms\n",
      "762:\tlearn: 0.0794621\ttotal: 711ms\tremaining: 221ms\n",
      "763:\tlearn: 0.0793473\ttotal: 712ms\tremaining: 220ms\n",
      "764:\tlearn: 0.0792484\ttotal: 713ms\tremaining: 219ms\n",
      "765:\tlearn: 0.0791393\ttotal: 714ms\tremaining: 218ms\n",
      "766:\tlearn: 0.0790258\ttotal: 715ms\tremaining: 217ms\n",
      "767:\tlearn: 0.0788965\ttotal: 715ms\tremaining: 216ms\n",
      "768:\tlearn: 0.0788076\ttotal: 716ms\tremaining: 215ms\n",
      "769:\tlearn: 0.0787107\ttotal: 717ms\tremaining: 214ms\n",
      "770:\tlearn: 0.0785948\ttotal: 718ms\tremaining: 213ms\n",
      "771:\tlearn: 0.0785266\ttotal: 719ms\tremaining: 212ms\n",
      "772:\tlearn: 0.0784364\ttotal: 720ms\tremaining: 211ms\n",
      "773:\tlearn: 0.0783970\ttotal: 720ms\tremaining: 210ms\n",
      "774:\tlearn: 0.0783057\ttotal: 721ms\tremaining: 209ms\n",
      "775:\tlearn: 0.0781208\ttotal: 722ms\tremaining: 209ms\n",
      "776:\tlearn: 0.0779529\ttotal: 723ms\tremaining: 208ms\n",
      "777:\tlearn: 0.0778340\ttotal: 724ms\tremaining: 207ms\n",
      "778:\tlearn: 0.0777498\ttotal: 725ms\tremaining: 206ms\n",
      "779:\tlearn: 0.0776632\ttotal: 726ms\tremaining: 205ms\n",
      "780:\tlearn: 0.0775072\ttotal: 726ms\tremaining: 204ms\n",
      "781:\tlearn: 0.0773224\ttotal: 727ms\tremaining: 203ms\n",
      "782:\tlearn: 0.0772109\ttotal: 728ms\tremaining: 202ms\n",
      "783:\tlearn: 0.0771203\ttotal: 729ms\tremaining: 201ms\n",
      "784:\tlearn: 0.0769581\ttotal: 730ms\tremaining: 200ms\n",
      "785:\tlearn: 0.0768658\ttotal: 731ms\tremaining: 199ms\n",
      "786:\tlearn: 0.0767091\ttotal: 732ms\tremaining: 198ms\n",
      "787:\tlearn: 0.0765993\ttotal: 732ms\tremaining: 197ms\n",
      "788:\tlearn: 0.0764333\ttotal: 733ms\tremaining: 196ms\n",
      "789:\tlearn: 0.0763168\ttotal: 734ms\tremaining: 195ms\n",
      "790:\tlearn: 0.0761932\ttotal: 735ms\tremaining: 194ms\n",
      "791:\tlearn: 0.0761176\ttotal: 736ms\tremaining: 193ms\n",
      "792:\tlearn: 0.0759391\ttotal: 737ms\tremaining: 192ms\n",
      "793:\tlearn: 0.0759193\ttotal: 737ms\tremaining: 191ms\n",
      "794:\tlearn: 0.0757987\ttotal: 738ms\tremaining: 190ms\n",
      "795:\tlearn: 0.0757780\ttotal: 739ms\tremaining: 189ms\n",
      "796:\tlearn: 0.0756568\ttotal: 740ms\tremaining: 188ms\n",
      "797:\tlearn: 0.0754715\ttotal: 741ms\tremaining: 188ms\n",
      "798:\tlearn: 0.0754317\ttotal: 742ms\tremaining: 187ms\n",
      "799:\tlearn: 0.0753015\ttotal: 742ms\tremaining: 186ms\n",
      "800:\tlearn: 0.0751396\ttotal: 743ms\tremaining: 185ms\n",
      "801:\tlearn: 0.0750011\ttotal: 744ms\tremaining: 184ms\n",
      "802:\tlearn: 0.0748773\ttotal: 745ms\tremaining: 183ms\n",
      "803:\tlearn: 0.0747805\ttotal: 746ms\tremaining: 182ms\n",
      "804:\tlearn: 0.0746609\ttotal: 747ms\tremaining: 181ms\n",
      "805:\tlearn: 0.0745880\ttotal: 747ms\tremaining: 180ms\n",
      "806:\tlearn: 0.0744426\ttotal: 748ms\tremaining: 179ms\n",
      "807:\tlearn: 0.0742917\ttotal: 749ms\tremaining: 178ms\n",
      "808:\tlearn: 0.0741835\ttotal: 750ms\tremaining: 177ms\n",
      "809:\tlearn: 0.0741695\ttotal: 750ms\tremaining: 176ms\n",
      "810:\tlearn: 0.0740309\ttotal: 751ms\tremaining: 175ms\n",
      "811:\tlearn: 0.0739888\ttotal: 752ms\tremaining: 174ms\n",
      "812:\tlearn: 0.0738814\ttotal: 753ms\tremaining: 173ms\n",
      "813:\tlearn: 0.0737275\ttotal: 754ms\tremaining: 172ms\n",
      "814:\tlearn: 0.0736199\ttotal: 755ms\tremaining: 171ms\n",
      "815:\tlearn: 0.0735166\ttotal: 755ms\tremaining: 170ms\n",
      "816:\tlearn: 0.0734451\ttotal: 756ms\tremaining: 169ms\n",
      "817:\tlearn: 0.0733599\ttotal: 757ms\tremaining: 168ms\n",
      "818:\tlearn: 0.0733464\ttotal: 758ms\tremaining: 167ms\n",
      "819:\tlearn: 0.0732970\ttotal: 758ms\tremaining: 166ms\n",
      "820:\tlearn: 0.0732784\ttotal: 759ms\tremaining: 165ms\n",
      "821:\tlearn: 0.0732336\ttotal: 760ms\tremaining: 165ms\n",
      "822:\tlearn: 0.0730846\ttotal: 761ms\tremaining: 164ms\n",
      "823:\tlearn: 0.0729815\ttotal: 761ms\tremaining: 163ms\n",
      "824:\tlearn: 0.0729302\ttotal: 762ms\tremaining: 162ms\n"
     ]
    },
    {
     "name": "stdout",
     "output_type": "stream",
     "text": [
      "825:\tlearn: 0.0728024\ttotal: 763ms\tremaining: 161ms\n",
      "826:\tlearn: 0.0727602\ttotal: 764ms\tremaining: 160ms\n",
      "827:\tlearn: 0.0727201\ttotal: 765ms\tremaining: 159ms\n",
      "828:\tlearn: 0.0725979\ttotal: 766ms\tremaining: 158ms\n",
      "829:\tlearn: 0.0725039\ttotal: 767ms\tremaining: 157ms\n",
      "830:\tlearn: 0.0723954\ttotal: 768ms\tremaining: 156ms\n",
      "831:\tlearn: 0.0723276\ttotal: 769ms\tremaining: 155ms\n",
      "832:\tlearn: 0.0721909\ttotal: 770ms\tremaining: 154ms\n",
      "833:\tlearn: 0.0720864\ttotal: 771ms\tremaining: 153ms\n",
      "834:\tlearn: 0.0719796\ttotal: 772ms\tremaining: 153ms\n",
      "835:\tlearn: 0.0718855\ttotal: 773ms\tremaining: 152ms\n",
      "836:\tlearn: 0.0717866\ttotal: 774ms\tremaining: 151ms\n",
      "837:\tlearn: 0.0717188\ttotal: 774ms\tremaining: 150ms\n",
      "838:\tlearn: 0.0716182\ttotal: 775ms\tremaining: 149ms\n",
      "839:\tlearn: 0.0714569\ttotal: 776ms\tremaining: 148ms\n",
      "840:\tlearn: 0.0714132\ttotal: 777ms\tremaining: 147ms\n",
      "841:\tlearn: 0.0713285\ttotal: 778ms\tremaining: 146ms\n",
      "842:\tlearn: 0.0711665\ttotal: 779ms\tremaining: 145ms\n",
      "843:\tlearn: 0.0711282\ttotal: 779ms\tremaining: 144ms\n",
      "844:\tlearn: 0.0710472\ttotal: 780ms\tremaining: 143ms\n",
      "845:\tlearn: 0.0708676\ttotal: 781ms\tremaining: 142ms\n",
      "846:\tlearn: 0.0707893\ttotal: 782ms\tremaining: 141ms\n",
      "847:\tlearn: 0.0706812\ttotal: 783ms\tremaining: 140ms\n",
      "848:\tlearn: 0.0706243\ttotal: 784ms\tremaining: 139ms\n",
      "849:\tlearn: 0.0704848\ttotal: 785ms\tremaining: 138ms\n",
      "850:\tlearn: 0.0704271\ttotal: 785ms\tremaining: 138ms\n",
      "851:\tlearn: 0.0704134\ttotal: 786ms\tremaining: 137ms\n",
      "852:\tlearn: 0.0702862\ttotal: 787ms\tremaining: 136ms\n",
      "853:\tlearn: 0.0702239\ttotal: 788ms\tremaining: 135ms\n",
      "854:\tlearn: 0.0701003\ttotal: 789ms\tremaining: 134ms\n",
      "855:\tlearn: 0.0700197\ttotal: 789ms\tremaining: 133ms\n",
      "856:\tlearn: 0.0699664\ttotal: 790ms\tremaining: 132ms\n",
      "857:\tlearn: 0.0698213\ttotal: 791ms\tremaining: 131ms\n",
      "858:\tlearn: 0.0697663\ttotal: 792ms\tremaining: 130ms\n",
      "859:\tlearn: 0.0696178\ttotal: 793ms\tremaining: 129ms\n",
      "860:\tlearn: 0.0696004\ttotal: 794ms\tremaining: 128ms\n",
      "861:\tlearn: 0.0695055\ttotal: 794ms\tremaining: 127ms\n",
      "862:\tlearn: 0.0694272\ttotal: 795ms\tremaining: 126ms\n",
      "863:\tlearn: 0.0692798\ttotal: 796ms\tremaining: 125ms\n",
      "864:\tlearn: 0.0692287\ttotal: 797ms\tremaining: 124ms\n",
      "865:\tlearn: 0.0691553\ttotal: 797ms\tremaining: 123ms\n",
      "866:\tlearn: 0.0691000\ttotal: 798ms\tremaining: 122ms\n",
      "867:\tlearn: 0.0690142\ttotal: 799ms\tremaining: 122ms\n",
      "868:\tlearn: 0.0688946\ttotal: 800ms\tremaining: 121ms\n",
      "869:\tlearn: 0.0687765\ttotal: 801ms\tremaining: 120ms\n",
      "870:\tlearn: 0.0687024\ttotal: 801ms\tremaining: 119ms\n",
      "871:\tlearn: 0.0686693\ttotal: 802ms\tremaining: 118ms\n",
      "872:\tlearn: 0.0685457\ttotal: 803ms\tremaining: 117ms\n",
      "873:\tlearn: 0.0684648\ttotal: 804ms\tremaining: 116ms\n",
      "874:\tlearn: 0.0684343\ttotal: 805ms\tremaining: 115ms\n",
      "875:\tlearn: 0.0683286\ttotal: 805ms\tremaining: 114ms\n",
      "876:\tlearn: 0.0682749\ttotal: 806ms\tremaining: 113ms\n",
      "877:\tlearn: 0.0682087\ttotal: 807ms\tremaining: 112ms\n",
      "878:\tlearn: 0.0680351\ttotal: 808ms\tremaining: 111ms\n",
      "879:\tlearn: 0.0679527\ttotal: 809ms\tremaining: 110ms\n",
      "880:\tlearn: 0.0678839\ttotal: 810ms\tremaining: 109ms\n",
      "881:\tlearn: 0.0678086\ttotal: 810ms\tremaining: 108ms\n",
      "882:\tlearn: 0.0677559\ttotal: 811ms\tremaining: 107ms\n",
      "883:\tlearn: 0.0676604\ttotal: 812ms\tremaining: 107ms\n",
      "884:\tlearn: 0.0675904\ttotal: 813ms\tremaining: 106ms\n",
      "885:\tlearn: 0.0675540\ttotal: 814ms\tremaining: 105ms\n",
      "886:\tlearn: 0.0674787\ttotal: 815ms\tremaining: 104ms\n",
      "887:\tlearn: 0.0673238\ttotal: 816ms\tremaining: 103ms\n",
      "888:\tlearn: 0.0672304\ttotal: 816ms\tremaining: 102ms\n",
      "889:\tlearn: 0.0671490\ttotal: 817ms\tremaining: 101ms\n",
      "890:\tlearn: 0.0670777\ttotal: 818ms\tremaining: 100ms\n",
      "891:\tlearn: 0.0669740\ttotal: 819ms\tremaining: 99.2ms\n",
      "892:\tlearn: 0.0669251\ttotal: 820ms\tremaining: 98.2ms\n",
      "893:\tlearn: 0.0668159\ttotal: 821ms\tremaining: 97.3ms\n",
      "894:\tlearn: 0.0667852\ttotal: 821ms\tremaining: 96.4ms\n",
      "895:\tlearn: 0.0667435\ttotal: 822ms\tremaining: 95.4ms\n",
      "896:\tlearn: 0.0666402\ttotal: 823ms\tremaining: 94.5ms\n",
      "897:\tlearn: 0.0665926\ttotal: 824ms\tremaining: 93.6ms\n",
      "898:\tlearn: 0.0664055\ttotal: 825ms\tremaining: 92.6ms\n",
      "899:\tlearn: 0.0663288\ttotal: 825ms\tremaining: 91.7ms\n",
      "900:\tlearn: 0.0662551\ttotal: 826ms\tremaining: 90.8ms\n",
      "901:\tlearn: 0.0661399\ttotal: 827ms\tremaining: 89.8ms\n",
      "902:\tlearn: 0.0660727\ttotal: 828ms\tremaining: 88.9ms\n",
      "903:\tlearn: 0.0659982\ttotal: 829ms\tremaining: 88ms\n",
      "904:\tlearn: 0.0658804\ttotal: 829ms\tremaining: 87.1ms\n",
      "905:\tlearn: 0.0657659\ttotal: 830ms\tremaining: 86.1ms\n",
      "906:\tlearn: 0.0656751\ttotal: 831ms\tremaining: 85.2ms\n",
      "907:\tlearn: 0.0655755\ttotal: 832ms\tremaining: 84.3ms\n",
      "908:\tlearn: 0.0655194\ttotal: 833ms\tremaining: 83.3ms\n",
      "909:\tlearn: 0.0654768\ttotal: 833ms\tremaining: 82.4ms\n",
      "910:\tlearn: 0.0653653\ttotal: 834ms\tremaining: 81.5ms\n",
      "911:\tlearn: 0.0652864\ttotal: 835ms\tremaining: 80.6ms\n",
      "912:\tlearn: 0.0652338\ttotal: 836ms\tremaining: 79.6ms\n",
      "913:\tlearn: 0.0651291\ttotal: 837ms\tremaining: 78.7ms\n",
      "914:\tlearn: 0.0650364\ttotal: 837ms\tremaining: 77.8ms\n",
      "915:\tlearn: 0.0649238\ttotal: 838ms\tremaining: 76.9ms\n",
      "916:\tlearn: 0.0648516\ttotal: 839ms\tremaining: 76ms\n",
      "917:\tlearn: 0.0648231\ttotal: 840ms\tremaining: 75ms\n",
      "918:\tlearn: 0.0647303\ttotal: 841ms\tremaining: 74.1ms\n",
      "919:\tlearn: 0.0646688\ttotal: 842ms\tremaining: 73.2ms\n",
      "920:\tlearn: 0.0645787\ttotal: 843ms\tremaining: 72.3ms\n",
      "921:\tlearn: 0.0645089\ttotal: 843ms\tremaining: 71.3ms\n",
      "922:\tlearn: 0.0644155\ttotal: 844ms\tremaining: 70.4ms\n",
      "923:\tlearn: 0.0643339\ttotal: 845ms\tremaining: 69.5ms\n",
      "924:\tlearn: 0.0642941\ttotal: 846ms\tremaining: 68.6ms\n",
      "925:\tlearn: 0.0641988\ttotal: 847ms\tremaining: 67.7ms\n",
      "926:\tlearn: 0.0640651\ttotal: 848ms\tremaining: 66.7ms\n",
      "927:\tlearn: 0.0639395\ttotal: 848ms\tremaining: 65.8ms\n",
      "928:\tlearn: 0.0638015\ttotal: 849ms\tremaining: 64.9ms\n",
      "929:\tlearn: 0.0636530\ttotal: 850ms\tremaining: 64ms\n",
      "930:\tlearn: 0.0635373\ttotal: 851ms\tremaining: 63.1ms\n",
      "931:\tlearn: 0.0634475\ttotal: 852ms\tremaining: 62.1ms\n",
      "932:\tlearn: 0.0633723\ttotal: 852ms\tremaining: 61.2ms\n",
      "933:\tlearn: 0.0632268\ttotal: 853ms\tremaining: 60.3ms\n",
      "934:\tlearn: 0.0631674\ttotal: 854ms\tremaining: 59.4ms\n",
      "935:\tlearn: 0.0631229\ttotal: 855ms\tremaining: 58.4ms\n",
      "936:\tlearn: 0.0630484\ttotal: 856ms\tremaining: 57.5ms\n",
      "937:\tlearn: 0.0629568\ttotal: 856ms\tremaining: 56.6ms\n",
      "938:\tlearn: 0.0629074\ttotal: 857ms\tremaining: 55.7ms\n",
      "939:\tlearn: 0.0628850\ttotal: 858ms\tremaining: 54.8ms\n",
      "940:\tlearn: 0.0628322\ttotal: 859ms\tremaining: 53.9ms\n",
      "941:\tlearn: 0.0627920\ttotal: 860ms\tremaining: 52.9ms\n",
      "942:\tlearn: 0.0627405\ttotal: 861ms\tremaining: 52ms\n",
      "943:\tlearn: 0.0627100\ttotal: 861ms\tremaining: 51.1ms\n",
      "944:\tlearn: 0.0626458\ttotal: 862ms\tremaining: 50.2ms\n",
      "945:\tlearn: 0.0625481\ttotal: 863ms\tremaining: 49.3ms\n",
      "946:\tlearn: 0.0624288\ttotal: 864ms\tremaining: 48.3ms\n",
      "947:\tlearn: 0.0623364\ttotal: 865ms\tremaining: 47.4ms\n",
      "948:\tlearn: 0.0622717\ttotal: 865ms\tremaining: 46.5ms\n",
      "949:\tlearn: 0.0622173\ttotal: 866ms\tremaining: 45.6ms\n",
      "950:\tlearn: 0.0620884\ttotal: 867ms\tremaining: 44.7ms\n",
      "951:\tlearn: 0.0619768\ttotal: 868ms\tremaining: 43.7ms\n",
      "952:\tlearn: 0.0618713\ttotal: 868ms\tremaining: 42.8ms\n",
      "953:\tlearn: 0.0617759\ttotal: 869ms\tremaining: 41.9ms\n",
      "954:\tlearn: 0.0616463\ttotal: 870ms\tremaining: 41ms\n"
     ]
    },
    {
     "name": "stdout",
     "output_type": "stream",
     "text": [
      "955:\tlearn: 0.0615615\ttotal: 871ms\tremaining: 40.1ms\n",
      "956:\tlearn: 0.0614971\ttotal: 872ms\tremaining: 39.2ms\n",
      "957:\tlearn: 0.0614434\ttotal: 873ms\tremaining: 38.3ms\n",
      "958:\tlearn: 0.0613286\ttotal: 873ms\tremaining: 37.3ms\n",
      "959:\tlearn: 0.0613224\ttotal: 874ms\tremaining: 36.4ms\n",
      "960:\tlearn: 0.0612407\ttotal: 875ms\tremaining: 35.5ms\n",
      "961:\tlearn: 0.0611492\ttotal: 876ms\tremaining: 34.6ms\n",
      "962:\tlearn: 0.0611234\ttotal: 877ms\tremaining: 33.7ms\n",
      "963:\tlearn: 0.0610363\ttotal: 877ms\tremaining: 32.8ms\n",
      "964:\tlearn: 0.0609629\ttotal: 878ms\tremaining: 31.9ms\n",
      "965:\tlearn: 0.0609566\ttotal: 879ms\tremaining: 30.9ms\n",
      "966:\tlearn: 0.0609067\ttotal: 880ms\tremaining: 30ms\n",
      "967:\tlearn: 0.0608048\ttotal: 881ms\tremaining: 29.1ms\n",
      "968:\tlearn: 0.0607298\ttotal: 881ms\tremaining: 28.2ms\n",
      "969:\tlearn: 0.0606261\ttotal: 882ms\tremaining: 27.3ms\n",
      "970:\tlearn: 0.0605700\ttotal: 883ms\tremaining: 26.4ms\n",
      "971:\tlearn: 0.0605342\ttotal: 884ms\tremaining: 25.5ms\n",
      "972:\tlearn: 0.0604238\ttotal: 885ms\tremaining: 24.6ms\n",
      "973:\tlearn: 0.0603158\ttotal: 886ms\tremaining: 23.6ms\n",
      "974:\tlearn: 0.0602020\ttotal: 886ms\tremaining: 22.7ms\n",
      "975:\tlearn: 0.0601005\ttotal: 887ms\tremaining: 21.8ms\n",
      "976:\tlearn: 0.0599872\ttotal: 888ms\tremaining: 20.9ms\n",
      "977:\tlearn: 0.0599380\ttotal: 889ms\tremaining: 20ms\n",
      "978:\tlearn: 0.0598782\ttotal: 890ms\tremaining: 19.1ms\n",
      "979:\tlearn: 0.0597800\ttotal: 890ms\tremaining: 18.2ms\n",
      "980:\tlearn: 0.0597403\ttotal: 891ms\tremaining: 17.3ms\n",
      "981:\tlearn: 0.0596431\ttotal: 892ms\tremaining: 16.3ms\n",
      "982:\tlearn: 0.0595813\ttotal: 893ms\tremaining: 15.4ms\n",
      "983:\tlearn: 0.0594913\ttotal: 894ms\tremaining: 14.5ms\n",
      "984:\tlearn: 0.0594855\ttotal: 894ms\tremaining: 13.6ms\n",
      "985:\tlearn: 0.0594155\ttotal: 895ms\tremaining: 12.7ms\n",
      "986:\tlearn: 0.0594049\ttotal: 896ms\tremaining: 11.8ms\n",
      "987:\tlearn: 0.0593392\ttotal: 897ms\tremaining: 10.9ms\n",
      "988:\tlearn: 0.0592859\ttotal: 898ms\tremaining: 9.98ms\n",
      "989:\tlearn: 0.0592203\ttotal: 898ms\tremaining: 9.07ms\n",
      "990:\tlearn: 0.0591118\ttotal: 899ms\tremaining: 8.16ms\n",
      "991:\tlearn: 0.0590384\ttotal: 900ms\tremaining: 7.26ms\n",
      "992:\tlearn: 0.0590270\ttotal: 901ms\tremaining: 6.35ms\n",
      "993:\tlearn: 0.0590095\ttotal: 902ms\tremaining: 5.44ms\n",
      "994:\tlearn: 0.0589278\ttotal: 902ms\tremaining: 4.54ms\n",
      "995:\tlearn: 0.0588706\ttotal: 903ms\tremaining: 3.63ms\n",
      "996:\tlearn: 0.0587982\ttotal: 904ms\tremaining: 2.72ms\n",
      "997:\tlearn: 0.0587377\ttotal: 905ms\tremaining: 1.81ms\n",
      "998:\tlearn: 0.0586786\ttotal: 906ms\tremaining: 906us\n",
      "999:\tlearn: 0.0585448\ttotal: 907ms\tremaining: 0us\n"
     ]
    },
    {
     "data": {
      "text/plain": [
       "<catboost.core.CatBoostRegressor at 0x7fed481b7100>"
      ]
     },
     "execution_count": 9,
     "metadata": {},
     "output_type": "execute_result"
    }
   ],
   "source": [
    "#Train the Model \n",
    "prior_model = ctb.CatBoostRegressor()\n",
    "prior_model.fit(X_train,Y_train)"
   ]
  },
  {
   "cell_type": "code",
   "execution_count": 10,
   "id": "af65dcda",
   "metadata": {
    "execution": {
     "iopub.execute_input": "2022-03-11T10:50:58.835447Z",
     "iopub.status.busy": "2022-03-11T10:50:58.835049Z",
     "iopub.status.idle": "2022-03-11T10:50:58.842409Z",
     "shell.execute_reply": "2022-03-11T10:50:58.842653Z"
    },
    "id": "af65dcda",
    "papermill": {
     "duration": 0.020802,
     "end_time": "2022-03-11T10:50:58.842765",
     "exception": false,
     "start_time": "2022-03-11T10:50:58.821963",
     "status": "completed"
    },
    "tags": []
   },
   "outputs": [
    {
     "data": {
      "application/scrapbook.scrap.json+json": {
       "data": 0.09655186359423883,
       "encoder": "json",
       "name": "Prior Model MSE",
       "version": 1
      }
     },
     "metadata": {
      "scrapbook": {
       "data": true,
       "display": false,
       "name": "Prior Model MSE"
      }
     },
     "output_type": "display_data"
    },
    {
     "data": {
      "application/scrapbook.scrap.json+json": {
       "data": 0.10810133157080627,
       "encoder": "json",
       "name": "ABC Pre-generator MSE",
       "version": 1
      }
     },
     "metadata": {
      "scrapbook": {
       "data": true,
       "display": false,
       "name": "ABC Pre-generator MSE"
      }
     },
     "output_type": "display_data"
    },
    {
     "data": {
      "application/scrapbook.scrap.json+json": {
       "data": 0.2121054205607228,
       "encoder": "json",
       "name": "Prior Model MAE",
       "version": 1
      }
     },
     "metadata": {
      "scrapbook": {
       "data": true,
       "display": false,
       "name": "Prior Model MAE"
      }
     },
     "output_type": "display_data"
    },
    {
     "data": {
      "application/scrapbook.scrap.json+json": {
       "data": 0.22382289522709853,
       "encoder": "json",
       "name": "ABC Pre-generator MAE",
       "version": 1
      }
     },
     "metadata": {
      "scrapbook": {
       "data": true,
       "display": false,
       "name": "ABC Pre-generator MAE"
      }
     },
     "output_type": "display_data"
    }
   ],
   "source": [
    "y_pred = prior_model.predict(X_test)\n",
    "y_abc = y_pred + np.random.normal(0,variance, y_pred.shape)\n",
    "mse = mean_squared_error(y_pred,Y_test)\n",
    "sb.glue(\"Prior Model MSE\",mse)\n",
    "mse = mean_squared_error(y_abc,Y_test)\n",
    "sb.glue(\"ABC Pre-generator MSE\",mse)\n",
    "\n",
    "mae = mean_absolute_error(y_pred,Y_test)\n",
    "sb.glue(\"Prior Model MAE\",mae)\n",
    "mae = mean_absolute_error(y_abc,Y_test)\n",
    "sb.glue(\"ABC Pre-generator MAE\",mae)"
   ]
  },
  {
   "cell_type": "markdown",
   "id": "25609da2",
   "metadata": {
    "papermill": {
     "duration": 0.009764,
     "end_time": "2022-03-11T10:50:58.862620",
     "exception": false,
     "start_time": "2022-03-11T10:50:58.852856",
     "status": "completed"
    },
    "tags": []
   },
   "source": [
    "# ABC GAN Model"
   ]
  },
  {
   "cell_type": "code",
   "execution_count": 11,
   "id": "dfc3464d",
   "metadata": {
    "execution": {
     "iopub.execute_input": "2022-03-11T10:50:58.884951Z",
     "iopub.status.busy": "2022-03-11T10:50:58.884583Z",
     "iopub.status.idle": "2022-03-11T10:50:58.887205Z",
     "shell.execute_reply": "2022-03-11T10:50:58.887436Z"
    },
    "papermill": {
     "duration": 0.015216,
     "end_time": "2022-03-11T10:50:58.887540",
     "exception": false,
     "start_time": "2022-03-11T10:50:58.872324",
     "status": "completed"
    },
    "tags": []
   },
   "outputs": [],
   "source": [
    "gen = network.Generator(n_features+1).to(device)\n",
    "disc = network.Discriminator(n_features+1).to(device)\n",
    "\n",
    "criterion = torch.nn.BCELoss()\n",
    "gen_opt = torch.optim.Adam(gen.parameters(), lr=0.001, betas=(0.5, 0.999))\n",
    "disc_opt = torch.optim.Adam(disc.parameters(), lr=0.001, betas=(0.5, 0.999))"
   ]
  },
  {
   "cell_type": "code",
   "execution_count": 12,
   "id": "b75fdd85",
   "metadata": {
    "execution": {
     "iopub.execute_input": "2022-03-11T10:50:58.909518Z",
     "iopub.status.busy": "2022-03-11T10:50:58.909105Z",
     "iopub.status.idle": "2022-03-11T10:51:34.673560Z",
     "shell.execute_reply": "2022-03-11T10:51:34.673916Z"
    },
    "papermill": {
     "duration": 35.776651,
     "end_time": "2022-03-11T10:51:34.674045",
     "exception": false,
     "start_time": "2022-03-11T10:50:58.897394",
     "status": "completed"
    },
    "tags": []
   },
   "outputs": [
    {
     "data": {
      "image/png": "[encoded data removed]",
      "text/plain": [
       "<Figure size 432x288 with 1 Axes>"
      ]
     },
     "metadata": {
      "needs_background": "light"
     },
     "output_type": "display_data"
    },
    {
     "data": {
      "image/png": "[encoded data removed]",
      "text/plain": [
       "<Figure size 432x288 with 1 Axes>"
      ]
     },
     "metadata": {
      "needs_background": "light"
     },
     "output_type": "display_data"
    }
   ],
   "source": [
    "#Training the ABC_GAN \n",
    "ABC_train_test2.training_GAN(disc,gen,disc_opt,gen_opt,train_data,batch_size,n_epochs,criterion,prior_model,variance,0,device)"
   ]
  },
  {
   "cell_type": "code",
   "execution_count": 13,
   "id": "1fa7c368",
   "metadata": {
    "execution": {
     "iopub.execute_input": "2022-03-11T10:51:34.698383Z",
     "iopub.status.busy": "2022-03-11T10:51:34.697978Z",
     "iopub.status.idle": "2022-03-11T10:51:34.999142Z",
     "shell.execute_reply": "2022-03-11T10:51:34.999386Z"
    },
    "papermill": {
     "duration": 0.314554,
     "end_time": "2022-03-11T10:51:34.999505",
     "exception": false,
     "start_time": "2022-03-11T10:51:34.684951",
     "status": "completed"
    },
    "tags": []
   },
   "outputs": [
    {
     "data": {
      "application/scrapbook.scrap.json+json": {
       "data": 0.08899529899056344,
       "encoder": "json",
       "name": "ABC-GAN Model 1 MSE",
       "version": 1
      }
     },
     "metadata": {
      "scrapbook": {
       "data": true,
       "display": false,
       "name": "ABC-GAN Model 1 MSE"
      }
     },
     "output_type": "display_data"
    },
    {
     "data": {
      "application/scrapbook.scrap.json+json": {
       "data": 0.20116905173834632,
       "encoder": "json",
       "name": "ABC-GAN Model 1 MAE",
       "version": 1
      }
     },
     "metadata": {
      "scrapbook": {
       "data": true,
       "display": false,
       "name": "ABC-GAN Model 1 MAE"
      }
     },
     "output_type": "display_data"
    },
    {
     "data": {
      "application/scrapbook.scrap.json+json": {
       "data": 20.519243277311325,
       "encoder": "json",
       "name": "ABC-GAN Model 1 Manhattan Distance",
       "version": 1
      }
     },
     "metadata": {
      "scrapbook": {
       "data": true,
       "display": false,
       "name": "ABC-GAN Model 1 Manhattan Distance"
      }
     },
     "output_type": "display_data"
    },
    {
     "data": {
      "application/scrapbook.scrap.json+json": {
       "data": 3.0113825515092256,
       "encoder": "json",
       "name": "ABC-GAN Model 1 Euclidean distance",
       "version": 1
      }
     },
     "metadata": {
      "scrapbook": {
       "data": true,
       "display": false,
       "name": "ABC-GAN Model 1 Euclidean distance"
      }
     },
     "output_type": "display_data"
    },
    {
     "data": {
      "application/scrapbook.scrap.json+json": {
       "data": [
        [
         0.0942797466475792,
         0.08459378615246832,
         0.0890212703468313,
         0.08912415127667105,
         0.08646706422355938,
         0.08817855134698088,
         0.08694801876503862,
         0.09703844823559085,
         0.08602480106878663,
         0.08185712587157744,
         0.08484235008281064,
         0.08444601812941871,
         0.08748897701704193,
         0.09050637344027722,
         0.09982233994749216,
         0.090261271794859,
         0.0953894938377224,
         0.09442035129247021,
         0.09551721463673205,
         0.07899936325139062,
         0.07870485633006123,
         0.09765665124651797,
         0.08388066600340899,
         0.088298829738696,
         0.08874065952590718,
         0.09591226858170798,
         0.08379828194913713,
         0.08946806843792204,
         0.08979292905653954,
         0.08693309307763607,
         0.0791553749881778,
         0.08306263291811561,
         0.08105550621183501,
         0.09226431700653306,
         0.08383330957200226,
         0.08924593071869687,
         0.08259772711338018,
         0.0838844882775955,
         0.08506836521581095,
         0.08423148446938895,
         0.08260422900780416,
         0.08499102328849095,
         0.09560476454810266,
         0.09655470106967497,
         0.08841042756035203,
         0.08968800760722456,
         0.09101481725387678,
         0.09227549188933147,
         0.09121109464661796,
         0.08115394794360459,
         0.09164045878139818,
         0.08843055231136818,
         0.08860624809042911,
         0.08794670508725501,
         0.0762681947552866,
         0.08269795655461078,
         0.09227541279022083,
         0.08377792227171119,
         0.08508983267776454,
         0.08967275943669574,
         0.09343013783112286,
         0.08241217203321324,
         0.07742857640824426,
         0.09586640275208844,
         0.09512050644363364,
         0.10197296530611748,
         0.09205365246053643,
         0.08875740732621484,
         0.09867934796533163,
         0.09714230616633575,
         0.0890569122693116,
         0.08655267277152683,
         0.08778191660300812,
         0.09010965028465552,
         0.09234517960288684,
         0.09577131577767198,
         0.09536953730779145,
         0.09207318933225657,
         0.08711413324344627,
         0.08767639666071539,
         0.08279696427204236,
         0.08213432740169763,
         0.08940774491398579,
         0.09432204330997958,
         0.0983950709830759,
         0.10038554480628564,
         0.08804967157706421,
         0.08648293621799437,
         0.10415548715984338,
         0.09050897822764363,
         0.09332851407483644,
         0.08595259619855741,
         0.09527103298112276,
         0.08751233714855178,
         0.08099900219824004,
         0.08696680396924684,
         0.0823870193365652,
         0.09002562046846574,
         0.09017213063175816,
         0.09083498925708787
        ],
        [
         0.2033262606344971,
         0.19838276804954397,
         0.19304864276565759,
         0.2004912786331831,
         0.19520115669743687,
         0.2009002618929919,
         0.19779408503981197,
         0.20830615164310323,
         0.1922682831246479,
         0.19643897314866385,
         0.19781780009176217,
         0.19918868318200111,
         0.19902901541368634,
         0.20500830246829518,
         0.2078546242532777,
         0.20773157309375556,
         0.2047464323102259,
         0.20324735862075113,
         0.21093226523668157,
         0.1949059745552493,
         0.1965203518230541,
         0.21239803117864273,
         0.19085233965340784,
         0.19831760023154466,
         0.1999393022235702,
         0.20433887313393986,
         0.1917013761167433,
         0.19309242325378398,
         0.19464516880757668,
         0.19837847023325808,
         0.19979695588642477,
         0.19952240462104479,
         0.20017586882207908,
         0.21018706956038288,
         0.20473300088562219,
         0.19705737338346593,
         0.1980797961062076,
         0.1915503872521952,
         0.19383532393212413,
         0.1913572043618735,
         0.2004685404107851,
         0.1988297673124893,
         0.20857837080371147,
         0.20485699410532035,
         0.19954386886720563,
         0.19228963342075253,
         0.20034307190308384,
         0.20453212490560962,
         0.20769479206087543,
         0.20408496837697776,
         0.20495041481712284,
         0.19195510702682475,
         0.2043448739192065,
         0.20215204299664966,
         0.19196046392122904,
         0.18530992959059922,
         0.20259936161193193,
         0.19541323623236487,
         0.2002207476864843,
         0.20486059711844312,
         0.2086928780464565,
         0.19860958074237786,
         0.185994110636267,
         0.2118966133132869,
         0.20450867588321367,
         0.20916450907494508,
         0.20440187889571285,
         0.20474590229637482,
         0.21084083653256006,
         0.21207970629135767,
         0.20030346308268754,
         0.2036077352423294,
         0.19636904857322282,
         0.20580768000845814,
         0.20202462404381996,
         0.19900929694082223,
         0.20232244953513145,
         0.20913328822044766,
         0.2001925601678736,
         0.20105365634548897,
         0.19528653195091322,
         0.19656089605653987,
         0.205176017374969,
         0.20803726910083903,
         0.2097124503377606,
         0.21750367257524938,
         0.20505605455414921,
         0.1995448855792775,
         0.21410304337155586,
         0.19318298725228683,
         0.20374965171019235,
         0.20186574632922807,
         0.21066333660308054,
         0.2008048237538805,
         0.19181404832531423,
         0.19850394904029137,
         0.19634142211254904,
         0.20550215010549508,
         0.2012832348837572,
         0.20336638953463704
        ],
        [
         20.739278584718704,
         20.235042341053486,
         19.690961562097073,
         20.45011042058468,
         19.91051798313856,
         20.491826713085175,
         20.17499667406082,
         21.24722746759653,
         19.611364878714085,
         20.03677526116371,
         20.17741560935974,
         20.317245684564114,
         20.300959572196007,
         20.91084685176611,
         21.201171673834324,
         21.18862045556307,
         20.884136095643044,
         20.731230579316616,
         21.51509105414152,
         19.88040940463543,
         20.04507588595152,
         21.664599180221558,
         19.4669386446476,
         20.228395223617554,
         20.39380882680416,
         20.842565059661865,
         19.553540363907814,
         19.695427171885967,
         19.853807218372822,
         20.234603963792324,
         20.379289500415325,
         20.35128527134657,
         20.417938619852066,
         21.439081095159054,
         20.88276609033346,
         20.099852085113525,
         20.204139202833176,
         19.53813949972391,
         19.77120304107666,
         19.5184348449111,
         20.44779112190008,
         20.28063626587391,
         21.27499382197857,
         20.895413398742676,
         20.353474624454975,
         19.61354260891676,
         20.43499333411455,
         20.86227674037218,
         21.184868790209293,
         20.816666774451733,
         20.90494231134653,
         19.579420916736126,
         20.843177139759064,
         20.619508385658264,
         19.579967319965363,
         18.90161281824112,
         20.665134884417057,
         19.932150095701218,
         20.422516264021397,
         20.8957809060812,
         21.286673560738564,
         20.258177235722542,
         18.971399284899235,
         21.613454557955265,
         20.859884940087795,
         21.334779925644398,
         20.84899164736271,
         20.884082034230232,
         21.505765326321125,
         21.632130041718483,
         20.430953234434128,
         20.767988994717598,
         20.029642954468727,
         20.992383360862732,
         20.606511652469635,
         20.298948287963867,
         20.63688985258341,
         21.33159539848566,
         20.419641137123108,
         20.507472947239876,
         19.91922625899315,
         20.049211397767067,
         20.927953772246838,
         21.21980144828558,
         21.39066993445158,
         22.185374602675438,
         20.91571756452322,
         20.353578329086304,
         21.838510423898697,
         19.704664699733257,
         20.78246447443962,
         20.590306125581264,
         21.487660333514214,
         20.482092022895813,
         19.565032929182053,
         20.24740280210972,
         20.026825055480003,
         20.961219310760498,
         20.530889958143234,
         20.743371732532978
        ],
        [
         3.101053717376253,
         2.9374421164597897,
         3.013331972315163,
         3.0150727072859196,
         2.969787963946762,
         2.999035217764548,
         2.978035915504368,
         3.146096266809117,
         2.9621832672905697,
         2.8895374783693146,
         2.9417545289243097,
         2.9348754401508605,
         2.9872856669120678,
         3.038363061075532,
         3.190905619827105,
         3.034246154001949,
         3.1192512517345703,
         3.1033652430598564,
         3.12133879816765,
         2.838650216501118,
         2.833354080531808,
         3.1561017770573927,
         2.9250346890845096,
         3.0010799111898026,
         3.0085789455559464,
         3.1277869804918317,
         2.9235979133273413,
         3.0208844699306274,
         3.0263639509759943,
         2.9777802964488296,
         2.8414517854072647,
         2.9107367723048734,
         2.8753541753333924,
         3.067728856119193,
         2.924208880422914,
         3.017131905188615,
         2.902579570927346,
         2.9251013323156414,
         2.945670255139349,
         2.9311450690604985,
         2.9026938107206592,
         2.94433088755766,
         3.122768961019446,
         3.1382446541190583,
         3.002975792635682,
         3.0245953077952272,
         3.0468855180159675,
         3.0679146293063324,
         3.050169118910463,
         2.877099701130927,
         3.0573398233926516,
         3.0033175549314715,
         3.0062996033701914,
         2.995089968414974,
         2.789149667020261,
         2.904340126185344,
         3.0679133143885484,
         2.9232427322606207,
         2.9460419096020996,
         3.0243381858752114,
         3.0870494098369288,
         2.8993174278418965,
         2.8102873151407337,
         3.1270390276926543,
         3.114850182151725,
         3.2250957290015414,
         3.06422462475823,
         3.008862832911117,
         3.1725846706532237,
         3.1477794123741014,
         3.013935143872506,
         2.9712577509694,
         2.9922826560181153,
         3.031696609002105,
         3.069072876211065,
         3.1254878354142637,
         3.118924943854008,
         3.064549773113527,
         2.9808793318132687,
         2.9904836497451326,
         2.9060781744041786,
         2.894425918031615,
         3.019865887953727,
         3.101749251248063,
         3.1680115593655493,
         3.1998946186149846,
         2.996842755444561,
         2.9700605202984374,
         3.259426282385295,
         3.038406783039369,
         3.0853700646167748,
         2.9609398528597057,
         3.1173138058390144,
         2.9876844527413335,
         2.8743517920081536,
         2.978357601911359,
         2.8988749494122117,
         3.030282707567646,
         3.032747487747592,
         3.0438739961146486
        ]
       ],
       "encoder": "json",
       "name": "ABC_GAN_1 Metrics",
       "version": 1
      }
     },
     "metadata": {
      "scrapbook": {
       "data": true,
       "display": false,
       "name": "ABC_GAN_1 Metrics"
      }
     },
     "output_type": "display_data"
    },
    {
     "name": "stdout",
     "output_type": "stream",
     "text": [
      "MSE\n",
      "0.08899529899056344\n"
     ]
    }
   ],
   "source": [
    "ABC_GAN1_metrics=ABC_train_test2.test_generator(gen,test_data,prior_model,variance,0,\"1\",device)\n",
    "sb.glue(\"ABC_GAN_1 Metrics\",ABC_GAN1_metrics)\n",
    "\n",
    "print(\"MSE\")\n",
    "print(mean(ABC_GAN1_metrics[0]))"
   ]
  },
  {
   "cell_type": "code",
   "execution_count": 14,
   "id": "eb22ce5c",
   "metadata": {
    "execution": {
     "iopub.execute_input": "2022-03-11T10:51:35.026808Z",
     "iopub.status.busy": "2022-03-11T10:51:35.026450Z",
     "iopub.status.idle": "2022-03-11T10:51:35.346469Z",
     "shell.execute_reply": "2022-03-11T10:51:35.346760Z"
    },
    "papermill": {
     "duration": 0.334733,
     "end_time": "2022-03-11T10:51:35.346882",
     "exception": false,
     "start_time": "2022-03-11T10:51:35.012149",
     "status": "completed"
    },
    "tags": []
   },
   "outputs": [
    {
     "data": {
      "image/png": "[encoded data removed]",
      "text/plain": [
       "<Figure size 432x288 with 1 Axes>"
      ]
     },
     "metadata": {
      "needs_background": "light"
     },
     "output_type": "display_data"
    },
    {
     "data": {
      "image/png": "[encoded data removed]",
      "text/plain": [
       "<Figure size 432x288 with 1 Axes>"
      ]
     },
     "metadata": {
      "needs_background": "light"
     },
     "output_type": "display_data"
    },
    {
     "data": {
      "image/png": "[encoded data removed]",
      "text/plain": [
       "<Figure size 432x288 with 1 Axes>"
      ]
     },
     "metadata": {
      "needs_background": "light"
     },
     "output_type": "display_data"
    },
    {
     "data": {
      "image/png": "[encoded data removed]",
      "text/plain": [
       "<Figure size 432x288 with 1 Axes>"
      ]
     },
     "metadata": {
      "needs_background": "light"
     },
     "output_type": "display_data"
    }
   ],
   "source": [
    "sanityChecks.discProbVsError(train_data,disc,device)\n",
    "sanityChecks.discProbVsError(test_data,disc,device)"
   ]
  },
  {
   "cell_type": "markdown",
   "id": "130f3a4d",
   "metadata": {
    "id": "130f3a4d",
    "papermill": {
     "duration": 0.014474,
     "end_time": "2022-03-11T10:51:35.376512",
     "exception": false,
     "start_time": "2022-03-11T10:51:35.362038",
     "status": "completed"
    },
    "tags": []
   },
   "source": [
    "# ABC - GAN Model with skip connection"
   ]
  },
  {
   "cell_type": "code",
   "execution_count": 15,
   "id": "4e43dad1",
   "metadata": {
    "execution": {
     "iopub.execute_input": "2022-03-11T10:51:35.408581Z",
     "iopub.status.busy": "2022-03-11T10:51:35.408206Z",
     "iopub.status.idle": "2022-03-11T10:51:35.410613Z",
     "shell.execute_reply": "2022-03-11T10:51:35.410849Z"
    },
    "id": "4e43dad1",
    "papermill": {
     "duration": 0.01999,
     "end_time": "2022-03-11T10:51:35.410961",
     "exception": false,
     "start_time": "2022-03-11T10:51:35.390971",
     "status": "completed"
    },
    "tags": []
   },
   "outputs": [],
   "source": [
    "#Generator\n",
    "gen3 = network.GeneratorWithSkipConnection(n_features+1).to(device)\n",
    "constraints=network.weightConstraint()\n",
    "#Discriminator \n",
    "disc3 = network.Discriminator(n_features+1).to(device)\n",
    "\n",
    "criterion = torch.nn.BCELoss()\n",
    "gen_opt = torch.optim.Adam(gen3.parameters(), lr=0.001, betas=(0.5, 0.999))\n",
    "disc_opt = torch.optim.Adam(disc3.parameters(), lr=0.001, betas=(0.5, 0.999))\n"
   ]
  },
  {
   "cell_type": "code",
   "execution_count": 16,
   "id": "26acbc37",
   "metadata": {
    "execution": {
     "iopub.execute_input": "2022-03-11T10:51:35.442473Z",
     "iopub.status.busy": "2022-03-11T10:51:35.442105Z",
     "iopub.status.idle": "2022-03-11T10:54:00.605907Z",
     "shell.execute_reply": "2022-03-11T10:54:00.606314Z"
    },
    "id": "26acbc37",
    "papermill": {
     "duration": 145.180782,
     "end_time": "2022-03-11T10:54:00.606439",
     "exception": false,
     "start_time": "2022-03-11T10:51:35.425657",
     "status": "completed"
    },
    "tags": []
   },
   "outputs": [
    {
     "data": {
      "image/png": "[encoded data removed]",
      "text/plain": [
       "<Figure size 432x288 with 1 Axes>"
      ]
     },
     "metadata": {
      "needs_background": "light"
     },
     "output_type": "display_data"
    },
    {
     "data": {
      "image/png": "[encoded data removed]",
      "text/plain": [
       "<Figure size 432x288 with 1 Axes>"
      ]
     },
     "metadata": {
      "needs_background": "light"
     },
     "output_type": "display_data"
    }
   ],
   "source": [
    "ABC_train_test2.training_GAN_skip_connection(disc3,gen3,disc_opt,gen_opt,train_data,batch_size,n_epochs,criterion,prior_model,variance,0,device)"
   ]
  },
  {
   "cell_type": "code",
   "execution_count": 17,
   "id": "c5e0717b",
   "metadata": {
    "execution": {
     "iopub.execute_input": "2022-03-11T10:54:00.640493Z",
     "iopub.status.busy": "2022-03-11T10:54:00.640115Z",
     "iopub.status.idle": "2022-03-11T10:54:01.448210Z",
     "shell.execute_reply": "2022-03-11T10:54:01.448506Z"
    },
    "id": "c5e0717b",
    "papermill": {
     "duration": 0.826333,
     "end_time": "2022-03-11T10:54:01.448629",
     "exception": false,
     "start_time": "2022-03-11T10:54:00.622296",
     "status": "completed"
    },
    "tags": []
   },
   "outputs": [
    {
     "data": {
      "application/scrapbook.scrap.json+json": {
       "data": 0.11125306879349896,
       "encoder": "json",
       "name": "ABC-GAN Model 3 MSE",
       "version": 1
      }
     },
     "metadata": {
      "scrapbook": {
       "data": true,
       "display": false,
       "name": "ABC-GAN Model 3 MSE"
      }
     },
     "output_type": "display_data"
    },
    {
     "data": {
      "application/scrapbook.scrap.json+json": {
       "data": 0.2246448662980487,
       "encoder": "json",
       "name": "ABC-GAN Model 3 MAE",
       "version": 1
      }
     },
     "metadata": {
      "scrapbook": {
       "data": true,
       "display": false,
       "name": "ABC-GAN Model 3 MAE"
      }
     },
     "output_type": "display_data"
    },
    {
     "data": {
      "application/scrapbook.scrap.json+json": {
       "data": 22.913776362400966,
       "encoder": "json",
       "name": "ABC-GAN Model 3 Manhattan Distance",
       "version": 1
      }
     },
     "metadata": {
      "scrapbook": {
       "data": true,
       "display": false,
       "name": "ABC-GAN Model 3 Manhattan Distance"
      }
     },
     "output_type": "display_data"
    },
    {
     "data": {
      "application/scrapbook.scrap.json+json": {
       "data": 3.3676638459060966,
       "encoder": "json",
       "name": "ABC-GAN Model 3 Euclidean distance",
       "version": 1
      }
     },
     "metadata": {
      "scrapbook": {
       "data": true,
       "display": false,
       "name": "ABC-GAN Model 3 Euclidean distance"
      }
     },
     "output_type": "display_data"
    },
    {
     "data": {
      "application/scrapbook.scrap.json+json": {
       "data": [
        [
         0.11255607255365971,
         0.12176139706521355,
         0.10831897046619385,
         0.09864561178075551,
         0.11496144510351627,
         0.11330190134411328,
         0.12035748971612417,
         0.10524863345072533,
         0.1120262534271468,
         0.1124794838032928,
         0.10773748323288439,
         0.10974657543193189,
         0.11359085516678799,
         0.1164301745703048,
         0.11435357029338032,
         0.11078625568046824,
         0.10436469591397533,
         0.11103405317169425,
         0.10256337689305743,
         0.11264703997928105,
         0.12130534588128529,
         0.11625621550820789,
         0.11804144445589866,
         0.11346706308219705,
         0.10733330006766972,
         0.12267957728935133,
         0.1091901365790486,
         0.11100106747720426,
         0.1091698111102341,
         0.11043705859854824,
         0.11785859918040069,
         0.11871085259201548,
         0.1125280631960021,
         0.11313302327333181,
         0.10576446329087058,
         0.10105982786175698,
         0.1086511935116404,
         0.10749739541582226,
         0.10043927886379156,
         0.10201666084167459,
         0.11305241549628119,
         0.1150383874813527,
         0.11754437374854662,
         0.11443841838248893,
         0.12131148520543901,
         0.11124815737463331,
         0.12401773960037937,
         0.10702841824988382,
         0.11208181569136015,
         0.10908378740203255,
         0.11448090218355278,
         0.10784193047883787,
         0.11746872567784748,
         0.11799811970856391,
         0.10593033874363067,
         0.10432955755920426,
         0.10559955392551003,
         0.10703267427282516,
         0.11586885327199273,
         0.11577091580698017,
         0.1112370647809842,
         0.11511047586035121,
         0.10900109059820934,
         0.11034122771946647,
         0.10995502179669465,
         0.1115845391434407,
         0.11538750865065805,
         0.11287762200074028,
         0.11993263847156317,
         0.11163107873454095,
         0.10867423374757759,
         0.10999979680673166,
         0.11035133143989952,
         0.12205610104237201,
         0.10913445354162223,
         0.11017235907354628,
         0.10596851783980894,
         0.11441134698835656,
         0.10216365515979652,
         0.11213641785505073,
         0.10686767014033503,
         0.11504704932702468,
         0.1057123919690739,
         0.11820363380407707,
         0.10937040700085275,
         0.11570105899413635,
         0.10385025040172428,
         0.1027800870894748,
         0.10971935333612098,
         0.10339728796833658,
         0.10911323287805821,
         0.10952657553822757,
         0.10381174921714786,
         0.11528839230375129,
         0.10859484384969843,
         0.10726777475897856,
         0.11464812767750918,
         0.1056978880664267,
         0.11549290456782277,
         0.1064714318269062
        ],
        [
         0.22180358158406235,
         0.24127920454039292,
         0.21901865831265846,
         0.20848630065573195,
         0.21662747412554773,
         0.2272675965419587,
         0.23576647174708984,
         0.2181680943889945,
         0.23026451970651454,
         0.2282423019117,
         0.21899386382132185,
         0.22391847101058446,
         0.2260576701704778,
         0.22944910130372234,
         0.23100221840043864,
         0.2228342880695766,
         0.21953621115900723,
         0.21866300154258222,
         0.21886385193861582,
         0.22548124942855508,
         0.23085487031323068,
         0.2294885245900528,
         0.23038081861301965,
         0.22437470303117937,
         0.21190683218632259,
         0.23239264889236758,
         0.22553212949823515,
         0.22455939310876763,
         0.22124067234678887,
         0.2180270094643621,
         0.2238384266383946,
         0.22908850822040774,
         0.2268354654969538,
         0.23534402943344093,
         0.21849168638023092,
         0.21701445715392337,
         0.22227315703297362,
         0.2182166829851328,
         0.2080872506633693,
         0.21465877821559415,
         0.22581359387978034,
         0.22647766119745724,
         0.23075771302569145,
         0.22641183722618163,
         0.2342798922064842,
         0.22182076519318655,
         0.2328307334078001,
         0.2248773001243963,
         0.23077201854218454,
         0.23031544824149094,
         0.22481971038688048,
         0.22369810591871833,
         0.22650148874769607,
         0.22937168361728683,
         0.22964069393335604,
         0.21813236144097412,
         0.22266085814757675,
         0.2155702303291536,
         0.22133028417752654,
         0.23762560069707095,
         0.22390812772380955,
         0.23558019249535658,
         0.22472687820703083,
         0.21927043328098222,
         0.22763585394211844,
         0.23113803308018865,
         0.23252400339526288,
         0.23059153030900395,
         0.22663723147821194,
         0.22484880360756435,
         0.22566116013217205,
         0.22053554610294454,
         0.2215048008251424,
         0.23602460580421428,
         0.22708264068134276,
         0.2294815281661702,
         0.22486598426293508,
         0.22857337317192086,
         0.2213548120914721,
         0.2279002604385217,
         0.22209590604967056,
         0.23234064747378522,
         0.21734114937192084,
         0.236676800904759,
         0.2251331774773551,
         0.22155214718305596,
         0.2120023541444657,
         0.22784539518476116,
         0.21680009891005123,
         0.21886465824483073,
         0.21735334370796586,
         0.22120386897129754,
         0.22157585336004987,
         0.22838485721206547,
         0.2243555878453395,
         0.21231770679792938,
         0.2286570691960115,
         0.21931079053776523,
         0.2261036594270491,
         0.21668760354320207
        ],
        [
         22.62396532157436,
         24.61047886312008,
         22.339903147891164,
         21.26560266688466,
         22.09600236080587,
         23.181294847279787,
         24.048180118203163,
         22.25314562767744,
         23.486981010064483,
         23.2807147949934,
         22.337374109774828,
         22.839684043079615,
         23.057882357388735,
         23.40380833297968,
         23.56222627684474,
         22.729097383096814,
         22.392693538218737,
         22.303626157343388,
         22.324112897738814,
         22.999087441712618,
         23.54719677194953,
         23.407829508185387,
         23.498843498528004,
         22.886219709180295,
         21.614496883004904,
         23.704050187021494,
         23.004277208819985,
         22.905058097094297,
         22.566548579372466,
         22.238754965364933,
         22.83151951711625,
         23.36702783848159,
         23.137217480689287,
         24.005091002210975,
         22.286152010783553,
         22.135474629700184,
         22.67186201736331,
         22.258101664483547,
         21.22489956766367,
         21.895195377990603,
         23.032986575737596,
         23.10072144214064,
         23.53728672862053,
         23.094007397070527,
         23.896549005061388,
         22.62571804970503,
         23.74873480759561,
         22.937484612688422,
         23.538745891302824,
         23.492175720632076,
         22.931610459461808,
         22.81720680370927,
         23.103151852265,
         23.395911728963256,
         23.423350781202316,
         22.24950086697936,
         22.711407531052828,
         21.988163493573666,
         22.575688986107707,
         24.237811271101236,
         22.838629027828574,
         24.029179634526372,
         22.922141577117145,
         22.365584194660187,
         23.21885710209608,
         23.576079374179244,
         23.717448346316814,
         23.520336091518402,
         23.116997610777617,
         22.934577967971563,
         23.01743833348155,
         22.494625702500343,
         22.593489684164524,
         24.074509792029858,
         23.16242934949696,
         23.407115872949362,
         22.93633039481938,
         23.31448406353593,
         22.578190833330154,
         23.245826564729214,
         22.653782417066395,
         23.698746042326093,
         22.168797235935926,
         24.14103369228542,
         22.96358410269022,
         22.59831901267171,
         21.6242401227355,
         23.24023030884564,
         22.113610088825226,
         22.324195140972733,
         22.17004105821252,
         22.56279463507235,
         22.600737042725086,
         23.29525543563068,
         22.88426996022463,
         21.656406093388796,
         23.323021057993174,
         22.36970063485205,
         23.06257326155901,
         22.102135561406612
        ],
        [
         3.3883210297244997,
         3.5241541539285395,
         3.323933661725482,
         3.1720423076682094,
         3.4243345923782997,
         3.3995284874669833,
         3.503778524827827,
         3.276486015836781,
         3.3803369432009243,
         3.387168042470859,
         3.314999742044365,
         3.345766084778948,
         3.403860635662449,
         3.4461395511747765,
         3.4152692675578002,
         3.3615767252002096,
         3.262698114019359,
         3.365334073091825,
         3.2344187179602852,
         3.389689967812199,
         3.5175481915520503,
         3.443564139352889,
         3.4699030727819564,
         3.4020053548435367,
         3.3087756960698185,
         3.5374166963355953,
         3.3372734276745972,
         3.3648341538142463,
         3.3369628006982452,
         3.3562747171606677,
         3.46721460489553,
         3.479728001494596,
         3.3878994149756303,
         3.396994020289091,
         3.2845053289146597,
         3.2106233727890303,
         3.3290271459072427,
         3.311304022951362,
         3.2007509187855807,
         3.2257866336524503,
         3.395783618050579,
         3.425480334653517,
         3.462589511095959,
         3.4165360637660287,
         3.5176372028614287,
         3.3685771554489587,
         3.556657059548854,
         3.3040730411854025,
         3.3811751212439045,
         3.3356478103971527,
         3.417170177606375,
         3.316606233613129,
         3.461475121843351,
         3.4692662351387096,
         3.2870799430269915,
         3.2621488119089284,
         3.2819437076833027,
         3.3041387343494164,
         3.437822426150492,
         3.4363692194396074,
         3.368409210244561,
         3.4265534488397855,
         3.334383187490207,
         3.354818210780665,
         3.3489419557918367,
         3.373666105682504,
         3.4306742606034626,
         3.393157444634055,
         3.4975890444847058,
         3.3743695753315435,
         3.3293800987951068,
         3.349623751152752,
         3.354971804184016,
         3.52841640205942,
         3.336422374527162,
         3.3522500839737064,
         3.2876722494282347,
         3.4161319343392416,
         3.2281097915497305,
         3.3819986134259685,
         3.301590882334481,
         3.4256092934478852,
         3.28369669440488,
         3.4722860838381187,
         3.34002717265698,
         3.4353323008701655,
         3.2546467613207852,
         3.237833980167363,
         3.3453511086707084,
         3.2475411271868952,
         3.3360979832076185,
         3.3424109120362826,
         3.254043395554073,
         3.429200492094714,
         3.3281637689076,
         3.307765563853613,
         3.419665045454881,
         3.283471422561117,
         3.43224070629056,
         3.2954644659508063
        ]
       ],
       "encoder": "json",
       "name": "ABC_GAN_3 Metrics",
       "version": 1
      }
     },
     "metadata": {
      "scrapbook": {
       "data": true,
       "display": false,
       "name": "ABC_GAN_3 Metrics"
      }
     },
     "output_type": "display_data"
    },
    {
     "name": "stdout",
     "output_type": "stream",
     "text": [
      "MSE\n",
      "0.11125306879349896\n"
     ]
    }
   ],
   "source": [
    "ABC_GAN3_metrics=ABC_train_test2.test_generator(gen3,test_data,prior_model,variance,0,\"3\",device)\n",
    "sb.glue(\"ABC_GAN_3 Metrics\",ABC_GAN3_metrics)\n",
    "\n",
    "print(\"MSE\")\n",
    "print(mean(ABC_GAN3_metrics[0]))"
   ]
  },
  {
   "cell_type": "code",
   "execution_count": 18,
   "id": "c8e46b48",
   "metadata": {
    "execution": {
     "iopub.execute_input": "2022-03-11T10:54:01.485710Z",
     "iopub.status.busy": "2022-03-11T10:54:01.485290Z",
     "iopub.status.idle": "2022-03-11T10:54:01.802769Z",
     "shell.execute_reply": "2022-03-11T10:54:01.803069Z"
    },
    "id": "c8e46b48",
    "papermill": {
     "duration": 0.337324,
     "end_time": "2022-03-11T10:54:01.803195",
     "exception": false,
     "start_time": "2022-03-11T10:54:01.465871",
     "status": "completed"
    },
    "tags": []
   },
   "outputs": [
    {
     "data": {
      "image/png": "[encoded data removed]",
      "text/plain": [
       "<Figure size 432x288 with 1 Axes>"
      ]
     },
     "metadata": {
      "needs_background": "light"
     },
     "output_type": "display_data"
    },
    {
     "data": {
      "image/png": "[encoded data removed]",
      "text/plain": [
       "<Figure size 432x288 with 1 Axes>"
      ]
     },
     "metadata": {
      "needs_background": "light"
     },
     "output_type": "display_data"
    },
    {
     "data": {
      "image/png": "[encoded data removed]",
      "text/plain": [
       "<Figure size 432x288 with 1 Axes>"
      ]
     },
     "metadata": {
      "needs_background": "light"
     },
     "output_type": "display_data"
    },
    {
     "data": {
      "image/png": "[encoded data removed]",
      "text/plain": [
       "<Figure size 432x288 with 1 Axes>"
      ]
     },
     "metadata": {
      "needs_background": "light"
     },
     "output_type": "display_data"
    }
   ],
   "source": [
    "sanityChecks.discProbVsError(train_data,disc3,device)\n",
    "sanityChecks.discProbVsError(test_data,disc3,device)"
   ]
  },
  {
   "cell_type": "markdown",
   "id": "a5bd74c3",
   "metadata": {
    "id": "a5bd74c3",
    "papermill": {
     "duration": 0.019566,
     "end_time": "2022-03-11T10:54:01.842526",
     "exception": false,
     "start_time": "2022-03-11T10:54:01.822960",
     "status": "completed"
    },
    "tags": []
   },
   "source": [
    "## Skip Connection Model Analysis - ABC-GAN "
   ]
  },
  {
   "cell_type": "markdown",
   "id": "5744a8bf",
   "metadata": {
    "id": "5744a8bf",
    "papermill": {
     "duration": 0.019267,
     "end_time": "2022-03-11T10:54:01.881300",
     "exception": false,
     "start_time": "2022-03-11T10:54:01.862033",
     "status": "completed"
    },
    "tags": []
   },
   "source": [
    "### Weight Analysis \n",
    "\n",
    "Study the weights of the skip connection layer\n",
    "\n",
    "Equation of the skip connection is \n",
    "\n",
    "$output = y_{gan} * w + y_{abc} * (1-w)$"
   ]
  },
  {
   "cell_type": "code",
   "execution_count": 19,
   "id": "52c31dea",
   "metadata": {
    "execution": {
     "iopub.execute_input": "2022-03-11T10:54:01.922517Z",
     "iopub.status.busy": "2022-03-11T10:54:01.922134Z",
     "iopub.status.idle": "2022-03-11T10:54:01.925638Z",
     "shell.execute_reply": "2022-03-11T10:54:01.925884Z"
    },
    "id": "52c31dea",
    "papermill": {
     "duration": 0.025544,
     "end_time": "2022-03-11T10:54:01.925995",
     "exception": false,
     "start_time": "2022-03-11T10:54:01.900451",
     "status": "completed"
    },
    "tags": []
   },
   "outputs": [
    {
     "name": "stdout",
     "output_type": "stream",
     "text": [
      "Weight of the node at skip connection\n",
      "Parameter containing:\n",
      "tensor([[0.4697]], requires_grad=True)\n"
     ]
    },
    {
     "data": {
      "application/scrapbook.scrap.json+json": {
       "data": 0.46972358226776123,
       "encoder": "json",
       "name": "Skip Connection Weight",
       "version": 1
      }
     },
     "metadata": {
      "scrapbook": {
       "data": true,
       "display": false,
       "name": "Skip Connection Weight"
      }
     },
     "output_type": "display_data"
    }
   ],
   "source": [
    "print(\"Weight of the node at skip connection\")\n",
    "for name,param in gen3.named_parameters():\n",
    "    if(name == \"skipNode.weight\"):\n",
    "        print(param)\n",
    "        sb.glue(\"Skip Connection Weight\",param.item())"
   ]
  }
 ],
 "metadata": {
  "colab": {
   "collapsed_sections": [],
   "name": "ABC_GAN_Model-Catboost_Pre-gen.ipynb",
   "provenance": []
  },
  "interpreter": {
   "hash": "31f2aee4e71d21fbe5cf8b01ff0e069b9275f58929596ceb00d14d90e3e16cd6"
  },
  "kernelspec": {
   "display_name": "Python 3 (ipykernel)",
   "language": "python",
   "name": "python3"
  },
  "language_info": {
   "codemirror_mode": {
    "name": "ipython",
    "version": 3
   },
   "file_extension": ".py",
   "mimetype": "text/x-python",
   "name": "python",
   "nbconvert_exporter": "python",
   "pygments_lexer": "ipython3",
   "version": "3.8.11"
  },
  "papermill": {
   "default_parameters": {},
   "duration": 187.371934,
   "end_time": "2022-03-11T10:54:02.255993",
   "environment_variables": {},
   "exception": null,
   "input_path": "ABC_GAN-Catboost.ipynb",
   "output_path": "./ABC_GAN_Catboost/ABC-GAN_output_9_1.ipynb",
   "parameters": {
    "variance": 0.1
   },
   "start_time": "2022-03-11T10:50:54.884059",
   "version": "2.3.3"
  }
 },
 "nbformat": 4,
 "nbformat_minor": 5
}