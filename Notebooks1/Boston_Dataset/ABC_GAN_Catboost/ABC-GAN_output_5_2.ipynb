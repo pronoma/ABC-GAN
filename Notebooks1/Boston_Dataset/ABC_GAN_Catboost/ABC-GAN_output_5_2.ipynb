{
 "cells": [
  {
   "cell_type": "markdown",
   "id": "622780e6",
   "metadata": {
    "id": "622780e6",
    "papermill": {
     "duration": 0.036922,
     "end_time": "2022-03-11T10:15:37.238717",
     "exception": false,
     "start_time": "2022-03-11T10:15:37.201795",
     "status": "completed"
    },
    "tags": []
   },
   "source": [
    "## Import Libraries "
   ]
  },
  {
   "cell_type": "code",
   "execution_count": 1,
   "id": "a62397e3",
   "metadata": {
    "execution": {
     "iopub.execute_input": "2022-03-11T10:15:37.276315Z",
     "iopub.status.busy": "2022-03-11T10:15:37.275736Z",
     "iopub.status.idle": "2022-03-11T10:15:37.277899Z",
     "shell.execute_reply": "2022-03-11T10:15:37.278232Z"
    },
    "id": "a62397e3",
    "papermill": {
     "duration": 0.022632,
     "end_time": "2022-03-11T10:15:37.278439",
     "exception": false,
     "start_time": "2022-03-11T10:15:37.255807",
     "status": "completed"
    },
    "tags": []
   },
   "outputs": [],
   "source": [
    "import warnings\n",
    "import sys\n",
    "sys.path.insert(0, '../../src')\n",
    "warnings.filterwarnings('ignore')"
   ]
  },
  {
   "cell_type": "code",
   "execution_count": 2,
   "id": "d6a4e155",
   "metadata": {
    "execution": {
     "iopub.execute_input": "2022-03-11T10:15:37.298807Z",
     "iopub.status.busy": "2022-03-11T10:15:37.298409Z",
     "iopub.status.idle": "2022-03-11T10:15:39.056446Z",
     "shell.execute_reply": "2022-03-11T10:15:39.056706Z"
    },
    "id": "d6a4e155",
    "papermill": {
     "duration": 1.768614,
     "end_time": "2022-03-11T10:15:39.056826",
     "exception": false,
     "start_time": "2022-03-11T10:15:37.288212",
     "status": "completed"
    },
    "tags": []
   },
   "outputs": [],
   "source": [
    "import ABC_train_test2\n",
    "import bostonDataset\n",
    "import network\n",
    "import dataset\n",
    "import sanityChecks\n",
    "import torch \n",
    "import scrapbook as sb\n",
    "from statistics import mean \n",
    "import catboost as ctb \n",
    "from sklearn.model_selection import train_test_split\n",
    "from sklearn.metrics import mean_squared_error,mean_absolute_error\n",
    "import numpy as np"
   ]
  },
  {
   "cell_type": "markdown",
   "id": "2fa5b0f7",
   "metadata": {
    "id": "2fa5b0f7",
    "papermill": {
     "duration": 0.006823,
     "end_time": "2022-03-11T10:15:39.070913",
     "exception": false,
     "start_time": "2022-03-11T10:15:39.064090",
     "status": "completed"
    },
    "tags": []
   },
   "source": [
    "## Parameters "
   ]
  },
  {
   "cell_type": "code",
   "execution_count": 3,
   "id": "783186fb",
   "metadata": {
    "execution": {
     "iopub.execute_input": "2022-03-11T10:15:39.086556Z",
     "iopub.status.busy": "2022-03-11T10:15:39.086184Z",
     "iopub.status.idle": "2022-03-11T10:15:39.087488Z",
     "shell.execute_reply": "2022-03-11T10:15:39.087742Z"
    },
    "id": "783186fb",
    "papermill": {
     "duration": 0.010231,
     "end_time": "2022-03-11T10:15:39.087852",
     "exception": false,
     "start_time": "2022-03-11T10:15:39.077621",
     "status": "completed"
    },
    "tags": [
     "parameters"
    ]
   },
   "outputs": [],
   "source": [
    "variance = 1"
   ]
  },
  {
   "cell_type": "code",
   "execution_count": 4,
   "id": "9f22fac6",
   "metadata": {
    "execution": {
     "iopub.execute_input": "2022-03-11T10:15:39.103326Z",
     "iopub.status.busy": "2022-03-11T10:15:39.102977Z",
     "iopub.status.idle": "2022-03-11T10:15:39.104299Z",
     "shell.execute_reply": "2022-03-11T10:15:39.104540Z"
    },
    "papermill": {
     "duration": 0.009896,
     "end_time": "2022-03-11T10:15:39.104644",
     "exception": false,
     "start_time": "2022-03-11T10:15:39.094748",
     "status": "completed"
    },
    "tags": [
     "injected-parameters"
    ]
   },
   "outputs": [],
   "source": [
    "# Parameters\n",
    "variance = 0.01\n"
   ]
  },
  {
   "cell_type": "markdown",
   "id": "391cdbfd",
   "metadata": {
    "id": "391cdbfd",
    "papermill": {
     "duration": 0.006753,
     "end_time": "2022-03-11T10:15:39.118244",
     "exception": false,
     "start_time": "2022-03-11T10:15:39.111491",
     "status": "completed"
    },
    "tags": []
   },
   "source": [
    "## Dataset \n"
   ]
  },
  {
   "cell_type": "code",
   "execution_count": 5,
   "id": "5b51f161",
   "metadata": {
    "execution": {
     "iopub.execute_input": "2022-03-11T10:15:39.133703Z",
     "iopub.status.busy": "2022-03-11T10:15:39.133324Z",
     "iopub.status.idle": "2022-03-11T10:15:39.134566Z",
     "shell.execute_reply": "2022-03-11T10:15:39.134856Z"
    },
    "id": "5b51f161",
    "papermill": {
     "duration": 0.009939,
     "end_time": "2022-03-11T10:15:39.134958",
     "exception": false,
     "start_time": "2022-03-11T10:15:39.125019",
     "status": "completed"
    },
    "tags": []
   },
   "outputs": [],
   "source": [
    "#Parameters \n",
    "n_features = 13\n",
    "n_samples= 506\n",
    "n_target = 1 "
   ]
  },
  {
   "cell_type": "code",
   "execution_count": 6,
   "id": "5d6eced4",
   "metadata": {
    "execution": {
     "iopub.execute_input": "2022-03-11T10:15:39.150803Z",
     "iopub.status.busy": "2022-03-11T10:15:39.150435Z",
     "iopub.status.idle": "2022-03-11T10:15:39.161291Z",
     "shell.execute_reply": "2022-03-11T10:15:39.161544Z"
    },
    "id": "5d6eced4",
    "papermill": {
     "duration": 0.019791,
     "end_time": "2022-03-11T10:15:39.161657",
     "exception": false,
     "start_time": "2022-03-11T10:15:39.141866",
     "status": "completed"
    },
    "tags": []
   },
   "outputs": [
    {
     "name": "stdout",
     "output_type": "stream",
     "text": [
      "         X1        X2        X3        X4        X5        X6        X7  \\\n",
      "0 -0.419782  0.284830 -1.287909 -0.272599 -0.144217  0.413672 -0.120013   \n",
      "1 -0.417339 -0.487722 -0.593381 -0.272599 -0.740262  0.194274  0.367166   \n",
      "2 -0.417342 -0.487722 -0.593381 -0.272599 -0.740262  1.282714 -0.265812   \n",
      "3 -0.416750 -0.487722 -1.306878 -0.272599 -0.835284  1.016303 -0.809889   \n",
      "4 -0.412482 -0.487722 -1.306878 -0.272599 -0.835284  1.228577 -0.511180   \n",
      "\n",
      "         X8        X9       X10       X11       X12       X13         Y  \n",
      "0  0.140214 -0.982843 -0.666608 -1.459000  0.441052 -1.075562  0.159686  \n",
      "1  0.557160 -0.867883 -0.987329 -0.303094  0.441052 -0.492439 -0.101524  \n",
      "2  0.557160 -0.867883 -0.987329 -0.303094  0.396427 -1.208727  1.324247  \n",
      "3  1.077737 -0.752922 -1.106115  0.113032  0.416163 -1.361517  1.182758  \n",
      "4  1.077737 -0.752922 -1.106115  0.113032  0.441052 -1.026501  1.487503  \n"
     ]
    }
   ],
   "source": [
    "X,Y = bostonDataset.boston_data()"
   ]
  },
  {
   "cell_type": "code",
   "execution_count": 7,
   "id": "fe007438",
   "metadata": {
    "execution": {
     "iopub.execute_input": "2022-03-11T10:15:39.178638Z",
     "iopub.status.busy": "2022-03-11T10:15:39.178260Z",
     "iopub.status.idle": "2022-03-11T10:15:39.179760Z",
     "shell.execute_reply": "2022-03-11T10:15:39.180010Z"
    },
    "id": "fe007438",
    "papermill": {
     "duration": 0.011095,
     "end_time": "2022-03-11T10:15:39.180117",
     "exception": false,
     "start_time": "2022-03-11T10:15:39.169022",
     "status": "completed"
    },
    "tags": []
   },
   "outputs": [],
   "source": [
    "#Train test split for dataset \n",
    "X_train,X_test,Y_train,Y_test = train_test_split(X,Y,test_size = 0.2)\n",
    "train_data = dataset.CustomDataset(X_train,Y_train)\n",
    "test_data = dataset.CustomDataset(X_test,Y_test)\n"
   ]
  },
  {
   "cell_type": "markdown",
   "id": "a9a1af34",
   "metadata": {
    "id": "a9a1af34",
    "papermill": {
     "duration": 0.007059,
     "end_time": "2022-03-11T10:15:39.194348",
     "exception": false,
     "start_time": "2022-03-11T10:15:39.187289",
     "status": "completed"
    },
    "tags": []
   },
   "source": [
    "## Training Parameters "
   ]
  },
  {
   "cell_type": "code",
   "execution_count": 8,
   "id": "952b7fc8",
   "metadata": {
    "execution": {
     "iopub.execute_input": "2022-03-11T10:15:39.210789Z",
     "iopub.status.busy": "2022-03-11T10:15:39.210424Z",
     "iopub.status.idle": "2022-03-11T10:15:39.211721Z",
     "shell.execute_reply": "2022-03-11T10:15:39.211970Z"
    },
    "id": "952b7fc8",
    "papermill": {
     "duration": 0.010658,
     "end_time": "2022-03-11T10:15:39.212075",
     "exception": false,
     "start_time": "2022-03-11T10:15:39.201417",
     "status": "completed"
    },
    "tags": []
   },
   "outputs": [],
   "source": [
    "batch_size = 64\n",
    "n_epochs = 1000\n",
    "#Select the device \n",
    "device = torch.device('cuda' if torch.cuda.is_available() else 'cpu')"
   ]
  },
  {
   "cell_type": "markdown",
   "id": "a95e1600",
   "metadata": {
    "id": "a95e1600",
    "papermill": {
     "duration": 0.007035,
     "end_time": "2022-03-11T10:15:39.226252",
     "exception": false,
     "start_time": "2022-03-11T10:15:39.219217",
     "status": "completed"
    },
    "tags": []
   },
   "source": [
    "# ABC Pre-generator Model \n",
    "\n",
    "1. The catboost model is used as a pre-generator model for the ABC-GAN. \n",
    "2. The model is first trained on the entire dataset \n",
    "3. It generats X,Y pairs and we add some Gaussian noise with mean 0 and variance 1 to it which is then feed as input to the generator.\n"
   ]
  },
  {
   "cell_type": "code",
   "execution_count": 9,
   "id": "ff8ce7bd",
   "metadata": {
    "execution": {
     "iopub.execute_input": "2022-03-11T10:15:39.245120Z",
     "iopub.status.busy": "2022-03-11T10:15:39.244761Z",
     "iopub.status.idle": "2022-03-11T10:15:40.225540Z",
     "shell.execute_reply": "2022-03-11T10:15:40.225830Z"
    },
    "id": "ff8ce7bd",
    "papermill": {
     "duration": 0.992572,
     "end_time": "2022-03-11T10:15:40.225947",
     "exception": false,
     "start_time": "2022-03-11T10:15:39.233375",
     "status": "completed"
    },
    "tags": []
   },
   "outputs": [
    {
     "name": "stdout",
     "output_type": "stream",
     "text": [
      "Learning rate set to 0.033215\n",
      "0:\tlearn: 0.9723568\ttotal: 58.6ms\tremaining: 58.5s\n",
      "1:\tlearn: 0.9523518\ttotal: 59.5ms\tremaining: 29.7s\n",
      "2:\tlearn: 0.9325691\ttotal: 60.5ms\tremaining: 20.1s\n",
      "3:\tlearn: 0.9163716\ttotal: 61.5ms\tremaining: 15.3s\n",
      "4:\tlearn: 0.9012467\ttotal: 62.6ms\tremaining: 12.5s\n",
      "5:\tlearn: 0.8838002\ttotal: 63.7ms\tremaining: 10.5s\n",
      "6:\tlearn: 0.8673294\ttotal: 64.6ms\tremaining: 9.17s\n",
      "7:\tlearn: 0.8519014\ttotal: 65.5ms\tremaining: 8.13s\n",
      "8:\tlearn: 0.8358716\ttotal: 66.4ms\tremaining: 7.31s\n",
      "9:\tlearn: 0.8206211\ttotal: 67.3ms\tremaining: 6.66s\n",
      "10:\tlearn: 0.8053014\ttotal: 68.1ms\tremaining: 6.13s\n",
      "11:\tlearn: 0.7900892\ttotal: 68.9ms\tremaining: 5.68s\n",
      "12:\tlearn: 0.7753838\ttotal: 69.8ms\tremaining: 5.3s\n",
      "13:\tlearn: 0.7604127\ttotal: 70.6ms\tremaining: 4.97s\n",
      "14:\tlearn: 0.7471910\ttotal: 71.4ms\tremaining: 4.69s\n",
      "15:\tlearn: 0.7331828\ttotal: 72.1ms\tremaining: 4.44s\n",
      "16:\tlearn: 0.7214699\ttotal: 73ms\tremaining: 4.22s\n",
      "17:\tlearn: 0.7095771\ttotal: 73.7ms\tremaining: 4.02s\n",
      "18:\tlearn: 0.6974374\ttotal: 74.4ms\tremaining: 3.84s\n",
      "19:\tlearn: 0.6859912\ttotal: 75.2ms\tremaining: 3.68s\n",
      "20:\tlearn: 0.6728910\ttotal: 76ms\tremaining: 3.54s\n",
      "21:\tlearn: 0.6629266\ttotal: 76.8ms\tremaining: 3.41s\n",
      "22:\tlearn: 0.6526540\ttotal: 78.3ms\tremaining: 3.33s\n",
      "23:\tlearn: 0.6429493\ttotal: 79.2ms\tremaining: 3.22s\n",
      "24:\tlearn: 0.6327893\ttotal: 79.9ms\tremaining: 3.12s\n",
      "25:\tlearn: 0.6244812\ttotal: 80.7ms\tremaining: 3.02s\n",
      "26:\tlearn: 0.6154010\ttotal: 81.6ms\tremaining: 2.94s\n",
      "27:\tlearn: 0.6069331\ttotal: 82.4ms\tremaining: 2.86s\n",
      "28:\tlearn: 0.5975244\ttotal: 83.2ms\tremaining: 2.78s\n",
      "29:\tlearn: 0.5881227\ttotal: 83.9ms\tremaining: 2.71s\n",
      "30:\tlearn: 0.5795328\ttotal: 84.6ms\tremaining: 2.64s\n",
      "31:\tlearn: 0.5713877\ttotal: 85.4ms\tremaining: 2.58s\n",
      "32:\tlearn: 0.5647294\ttotal: 86.1ms\tremaining: 2.52s\n",
      "33:\tlearn: 0.5575393\ttotal: 86.8ms\tremaining: 2.47s\n",
      "34:\tlearn: 0.5501138\ttotal: 87.6ms\tremaining: 2.42s\n",
      "35:\tlearn: 0.5428750\ttotal: 88.4ms\tremaining: 2.37s\n",
      "36:\tlearn: 0.5363360\ttotal: 89.2ms\tremaining: 2.32s\n",
      "37:\tlearn: 0.5294652\ttotal: 90ms\tremaining: 2.28s\n",
      "38:\tlearn: 0.5227905\ttotal: 90.9ms\tremaining: 2.24s\n",
      "39:\tlearn: 0.5157474\ttotal: 91.8ms\tremaining: 2.2s\n",
      "40:\tlearn: 0.5094737\ttotal: 92.6ms\tremaining: 2.16s\n",
      "41:\tlearn: 0.5025050\ttotal: 93.3ms\tremaining: 2.13s\n",
      "42:\tlearn: 0.4959545\ttotal: 94.2ms\tremaining: 2.1s\n",
      "43:\tlearn: 0.4908303\ttotal: 95ms\tremaining: 2.06s\n",
      "44:\tlearn: 0.4853009\ttotal: 95.8ms\tremaining: 2.03s\n",
      "45:\tlearn: 0.4800997\ttotal: 96.5ms\tremaining: 2s\n",
      "46:\tlearn: 0.4755453\ttotal: 97.4ms\tremaining: 1.97s\n",
      "47:\tlearn: 0.4701572\ttotal: 98.4ms\tremaining: 1.95s\n",
      "48:\tlearn: 0.4647391\ttotal: 99.2ms\tremaining: 1.93s\n",
      "49:\tlearn: 0.4599239\ttotal: 100ms\tremaining: 1.9s\n",
      "50:\tlearn: 0.4536813\ttotal: 101ms\tremaining: 1.88s\n",
      "51:\tlearn: 0.4493006\ttotal: 102ms\tremaining: 1.85s\n",
      "52:\tlearn: 0.4447572\ttotal: 103ms\tremaining: 1.83s\n",
      "53:\tlearn: 0.4416569\ttotal: 103ms\tremaining: 1.81s\n",
      "54:\tlearn: 0.4375716\ttotal: 104ms\tremaining: 1.79s\n",
      "55:\tlearn: 0.4341160\ttotal: 105ms\tremaining: 1.76s\n",
      "56:\tlearn: 0.4301209\ttotal: 105ms\tremaining: 1.74s\n",
      "57:\tlearn: 0.4261270\ttotal: 106ms\tremaining: 1.72s\n",
      "58:\tlearn: 0.4230039\ttotal: 107ms\tremaining: 1.71s\n",
      "59:\tlearn: 0.4193307\ttotal: 108ms\tremaining: 1.69s\n",
      "60:\tlearn: 0.4156227\ttotal: 109ms\tremaining: 1.67s\n"
     ]
    },
    {
     "name": "stdout",
     "output_type": "stream",
     "text": [
      "61:\tlearn: 0.4115387\ttotal: 110ms\tremaining: 1.66s\n",
      "62:\tlearn: 0.4085561\ttotal: 111ms\tremaining: 1.65s\n",
      "63:\tlearn: 0.4051438\ttotal: 111ms\tremaining: 1.63s\n",
      "64:\tlearn: 0.4017282\ttotal: 112ms\tremaining: 1.61s\n",
      "65:\tlearn: 0.3988312\ttotal: 113ms\tremaining: 1.6s\n",
      "66:\tlearn: 0.3953775\ttotal: 114ms\tremaining: 1.59s\n",
      "67:\tlearn: 0.3912746\ttotal: 115ms\tremaining: 1.57s\n",
      "68:\tlearn: 0.3877880\ttotal: 116ms\tremaining: 1.56s\n",
      "69:\tlearn: 0.3849188\ttotal: 116ms\tremaining: 1.55s\n",
      "70:\tlearn: 0.3813490\ttotal: 117ms\tremaining: 1.53s\n",
      "71:\tlearn: 0.3777100\ttotal: 118ms\tremaining: 1.52s\n",
      "72:\tlearn: 0.3752152\ttotal: 119ms\tremaining: 1.5s\n",
      "73:\tlearn: 0.3720445\ttotal: 119ms\tremaining: 1.49s\n",
      "74:\tlearn: 0.3692735\ttotal: 120ms\tremaining: 1.48s\n",
      "75:\tlearn: 0.3668144\ttotal: 121ms\tremaining: 1.47s\n",
      "76:\tlearn: 0.3634007\ttotal: 122ms\tremaining: 1.46s\n",
      "77:\tlearn: 0.3609115\ttotal: 123ms\tremaining: 1.45s\n",
      "78:\tlearn: 0.3580863\ttotal: 123ms\tremaining: 1.44s\n",
      "79:\tlearn: 0.3556418\ttotal: 124ms\tremaining: 1.43s\n",
      "80:\tlearn: 0.3528741\ttotal: 125ms\tremaining: 1.42s\n",
      "81:\tlearn: 0.3502184\ttotal: 126ms\tremaining: 1.41s\n",
      "82:\tlearn: 0.3478772\ttotal: 127ms\tremaining: 1.4s\n",
      "83:\tlearn: 0.3455695\ttotal: 128ms\tremaining: 1.39s\n",
      "84:\tlearn: 0.3429175\ttotal: 128ms\tremaining: 1.38s\n",
      "85:\tlearn: 0.3402395\ttotal: 129ms\tremaining: 1.37s\n",
      "86:\tlearn: 0.3380962\ttotal: 130ms\tremaining: 1.36s\n",
      "87:\tlearn: 0.3360801\ttotal: 131ms\tremaining: 1.36s\n",
      "88:\tlearn: 0.3342262\ttotal: 132ms\tremaining: 1.35s\n",
      "89:\tlearn: 0.3317324\ttotal: 132ms\tremaining: 1.34s\n",
      "90:\tlearn: 0.3295398\ttotal: 133ms\tremaining: 1.33s\n",
      "91:\tlearn: 0.3282169\ttotal: 134ms\tremaining: 1.32s\n",
      "92:\tlearn: 0.3266222\ttotal: 135ms\tremaining: 1.31s\n",
      "93:\tlearn: 0.3243638\ttotal: 136ms\tremaining: 1.31s\n",
      "94:\tlearn: 0.3217787\ttotal: 136ms\tremaining: 1.3s\n",
      "95:\tlearn: 0.3212281\ttotal: 137ms\tremaining: 1.29s\n",
      "96:\tlearn: 0.3190539\ttotal: 138ms\tremaining: 1.29s\n",
      "97:\tlearn: 0.3164378\ttotal: 139ms\tremaining: 1.28s\n",
      "98:\tlearn: 0.3143063\ttotal: 140ms\tremaining: 1.27s\n",
      "99:\tlearn: 0.3129476\ttotal: 141ms\tremaining: 1.27s\n",
      "100:\tlearn: 0.3110263\ttotal: 142ms\tremaining: 1.26s\n",
      "101:\tlearn: 0.3094156\ttotal: 143ms\tremaining: 1.25s\n",
      "102:\tlearn: 0.3080839\ttotal: 143ms\tremaining: 1.25s\n",
      "103:\tlearn: 0.3062831\ttotal: 144ms\tremaining: 1.24s\n",
      "104:\tlearn: 0.3046508\ttotal: 145ms\tremaining: 1.24s\n",
      "105:\tlearn: 0.3027620\ttotal: 146ms\tremaining: 1.23s\n",
      "106:\tlearn: 0.3011507\ttotal: 147ms\tremaining: 1.23s\n",
      "107:\tlearn: 0.2995268\ttotal: 148ms\tremaining: 1.22s\n",
      "108:\tlearn: 0.2978071\ttotal: 149ms\tremaining: 1.22s\n",
      "109:\tlearn: 0.2960961\ttotal: 150ms\tremaining: 1.21s\n",
      "110:\tlearn: 0.2950698\ttotal: 151ms\tremaining: 1.21s\n",
      "111:\tlearn: 0.2930989\ttotal: 152ms\tremaining: 1.2s\n",
      "112:\tlearn: 0.2912623\ttotal: 152ms\tremaining: 1.2s\n",
      "113:\tlearn: 0.2900277\ttotal: 153ms\tremaining: 1.19s\n",
      "114:\tlearn: 0.2890144\ttotal: 154ms\tremaining: 1.19s\n",
      "115:\tlearn: 0.2871835\ttotal: 155ms\tremaining: 1.18s\n",
      "116:\tlearn: 0.2858801\ttotal: 156ms\tremaining: 1.17s\n",
      "117:\tlearn: 0.2845697\ttotal: 156ms\tremaining: 1.17s\n",
      "118:\tlearn: 0.2834217\ttotal: 157ms\tremaining: 1.17s\n",
      "119:\tlearn: 0.2826634\ttotal: 158ms\tremaining: 1.16s\n",
      "120:\tlearn: 0.2807953\ttotal: 159ms\tremaining: 1.16s\n",
      "121:\tlearn: 0.2798431\ttotal: 160ms\tremaining: 1.15s\n",
      "122:\tlearn: 0.2788745\ttotal: 161ms\tremaining: 1.15s\n",
      "123:\tlearn: 0.2775590\ttotal: 162ms\tremaining: 1.14s\n",
      "124:\tlearn: 0.2765565\ttotal: 163ms\tremaining: 1.14s\n",
      "125:\tlearn: 0.2759226\ttotal: 163ms\tremaining: 1.13s\n",
      "126:\tlearn: 0.2746344\ttotal: 164ms\tremaining: 1.13s\n",
      "127:\tlearn: 0.2736651\ttotal: 165ms\tremaining: 1.12s\n",
      "128:\tlearn: 0.2724615\ttotal: 166ms\tremaining: 1.12s\n",
      "129:\tlearn: 0.2716740\ttotal: 167ms\tremaining: 1.12s\n",
      "130:\tlearn: 0.2708726\ttotal: 168ms\tremaining: 1.11s\n",
      "131:\tlearn: 0.2692107\ttotal: 168ms\tremaining: 1.11s\n",
      "132:\tlearn: 0.2682958\ttotal: 169ms\tremaining: 1.1s\n",
      "133:\tlearn: 0.2674734\ttotal: 170ms\tremaining: 1.1s\n",
      "134:\tlearn: 0.2665211\ttotal: 171ms\tremaining: 1.09s\n",
      "135:\tlearn: 0.2656725\ttotal: 171ms\tremaining: 1.09s\n",
      "136:\tlearn: 0.2647453\ttotal: 172ms\tremaining: 1.08s\n",
      "137:\tlearn: 0.2635558\ttotal: 173ms\tremaining: 1.08s\n",
      "138:\tlearn: 0.2624430\ttotal: 174ms\tremaining: 1.08s\n",
      "139:\tlearn: 0.2616932\ttotal: 175ms\tremaining: 1.07s\n",
      "140:\tlearn: 0.2611046\ttotal: 176ms\tremaining: 1.07s\n",
      "141:\tlearn: 0.2601430\ttotal: 177ms\tremaining: 1.07s\n",
      "142:\tlearn: 0.2591376\ttotal: 178ms\tremaining: 1.06s\n",
      "143:\tlearn: 0.2579325\ttotal: 178ms\tremaining: 1.06s\n",
      "144:\tlearn: 0.2569682\ttotal: 179ms\tremaining: 1.05s\n",
      "145:\tlearn: 0.2562507\ttotal: 180ms\tremaining: 1.05s\n",
      "146:\tlearn: 0.2551612\ttotal: 181ms\tremaining: 1.05s\n",
      "147:\tlearn: 0.2544815\ttotal: 182ms\tremaining: 1.04s\n",
      "148:\tlearn: 0.2535411\ttotal: 183ms\tremaining: 1.04s\n",
      "149:\tlearn: 0.2531127\ttotal: 183ms\tremaining: 1.04s\n",
      "150:\tlearn: 0.2519582\ttotal: 184ms\tremaining: 1.04s\n",
      "151:\tlearn: 0.2512148\ttotal: 185ms\tremaining: 1.03s\n",
      "152:\tlearn: 0.2503028\ttotal: 186ms\tremaining: 1.03s\n",
      "153:\tlearn: 0.2494873\ttotal: 187ms\tremaining: 1.02s\n",
      "154:\tlearn: 0.2487665\ttotal: 188ms\tremaining: 1.02s\n",
      "155:\tlearn: 0.2478514\ttotal: 188ms\tremaining: 1.02s\n",
      "156:\tlearn: 0.2465852\ttotal: 189ms\tremaining: 1.02s\n",
      "157:\tlearn: 0.2458252\ttotal: 190ms\tremaining: 1.01s\n",
      "158:\tlearn: 0.2452018\ttotal: 191ms\tremaining: 1.01s\n"
     ]
    },
    {
     "name": "stdout",
     "output_type": "stream",
     "text": [
      "159:\tlearn: 0.2444154\ttotal: 192ms\tremaining: 1.01s\n",
      "160:\tlearn: 0.2432342\ttotal: 193ms\tremaining: 1s\n",
      "161:\tlearn: 0.2427312\ttotal: 194ms\tremaining: 1s\n",
      "162:\tlearn: 0.2420088\ttotal: 194ms\tremaining: 998ms\n",
      "163:\tlearn: 0.2417152\ttotal: 195ms\tremaining: 995ms\n",
      "164:\tlearn: 0.2411516\ttotal: 196ms\tremaining: 992ms\n",
      "165:\tlearn: 0.2401490\ttotal: 197ms\tremaining: 989ms\n",
      "166:\tlearn: 0.2395667\ttotal: 197ms\tremaining: 985ms\n",
      "167:\tlearn: 0.2385686\ttotal: 198ms\tremaining: 982ms\n",
      "168:\tlearn: 0.2378917\ttotal: 199ms\tremaining: 979ms\n",
      "169:\tlearn: 0.2371957\ttotal: 200ms\tremaining: 976ms\n",
      "170:\tlearn: 0.2363475\ttotal: 201ms\tremaining: 973ms\n",
      "171:\tlearn: 0.2358781\ttotal: 202ms\tremaining: 970ms\n",
      "172:\tlearn: 0.2350954\ttotal: 202ms\tremaining: 967ms\n",
      "173:\tlearn: 0.2344586\ttotal: 203ms\tremaining: 964ms\n",
      "174:\tlearn: 0.2336809\ttotal: 204ms\tremaining: 962ms\n",
      "175:\tlearn: 0.2330249\ttotal: 205ms\tremaining: 959ms\n",
      "176:\tlearn: 0.2321736\ttotal: 206ms\tremaining: 957ms\n",
      "177:\tlearn: 0.2314433\ttotal: 207ms\tremaining: 954ms\n",
      "178:\tlearn: 0.2312013\ttotal: 208ms\tremaining: 955ms\n",
      "179:\tlearn: 0.2304838\ttotal: 209ms\tremaining: 952ms\n",
      "180:\tlearn: 0.2303397\ttotal: 210ms\tremaining: 949ms\n",
      "181:\tlearn: 0.2300657\ttotal: 210ms\tremaining: 946ms\n",
      "182:\tlearn: 0.2293249\ttotal: 211ms\tremaining: 943ms\n",
      "183:\tlearn: 0.2291602\ttotal: 212ms\tremaining: 941ms\n",
      "184:\tlearn: 0.2283873\ttotal: 213ms\tremaining: 938ms\n",
      "185:\tlearn: 0.2277606\ttotal: 214ms\tremaining: 935ms\n",
      "186:\tlearn: 0.2266987\ttotal: 215ms\tremaining: 933ms\n",
      "187:\tlearn: 0.2260386\ttotal: 215ms\tremaining: 930ms\n",
      "188:\tlearn: 0.2254726\ttotal: 216ms\tremaining: 927ms\n",
      "189:\tlearn: 0.2247836\ttotal: 217ms\tremaining: 924ms\n",
      "190:\tlearn: 0.2239745\ttotal: 217ms\tremaining: 921ms\n",
      "191:\tlearn: 0.2232395\ttotal: 218ms\tremaining: 918ms\n",
      "192:\tlearn: 0.2229545\ttotal: 219ms\tremaining: 916ms\n",
      "193:\tlearn: 0.2224372\ttotal: 220ms\tremaining: 913ms\n",
      "194:\tlearn: 0.2217392\ttotal: 221ms\tremaining: 910ms\n",
      "195:\tlearn: 0.2212109\ttotal: 221ms\tremaining: 908ms\n",
      "196:\tlearn: 0.2207283\ttotal: 222ms\tremaining: 905ms\n",
      "197:\tlearn: 0.2201276\ttotal: 223ms\tremaining: 903ms\n",
      "198:\tlearn: 0.2196394\ttotal: 224ms\tremaining: 901ms\n",
      "199:\tlearn: 0.2189125\ttotal: 225ms\tremaining: 899ms\n",
      "200:\tlearn: 0.2184652\ttotal: 225ms\tremaining: 896ms\n",
      "201:\tlearn: 0.2177826\ttotal: 226ms\tremaining: 894ms\n",
      "202:\tlearn: 0.2173275\ttotal: 227ms\tremaining: 891ms\n",
      "203:\tlearn: 0.2169946\ttotal: 228ms\tremaining: 889ms\n",
      "204:\tlearn: 0.2162398\ttotal: 229ms\tremaining: 886ms\n",
      "205:\tlearn: 0.2160459\ttotal: 229ms\tremaining: 885ms\n",
      "206:\tlearn: 0.2154366\ttotal: 230ms\tremaining: 883ms\n",
      "207:\tlearn: 0.2150098\ttotal: 231ms\tremaining: 881ms\n",
      "208:\tlearn: 0.2144285\ttotal: 232ms\tremaining: 879ms\n",
      "209:\tlearn: 0.2138902\ttotal: 233ms\tremaining: 876ms\n",
      "210:\tlearn: 0.2133941\ttotal: 234ms\tremaining: 874ms\n",
      "211:\tlearn: 0.2127574\ttotal: 235ms\tremaining: 872ms\n",
      "212:\tlearn: 0.2122677\ttotal: 235ms\tremaining: 869ms\n",
      "213:\tlearn: 0.2120217\ttotal: 236ms\tremaining: 867ms\n",
      "214:\tlearn: 0.2110281\ttotal: 237ms\tremaining: 865ms\n",
      "215:\tlearn: 0.2104990\ttotal: 238ms\tremaining: 862ms\n",
      "216:\tlearn: 0.2099086\ttotal: 238ms\tremaining: 860ms\n",
      "217:\tlearn: 0.2092825\ttotal: 239ms\tremaining: 858ms\n",
      "218:\tlearn: 0.2088054\ttotal: 240ms\tremaining: 856ms\n",
      "219:\tlearn: 0.2083346\ttotal: 241ms\tremaining: 854ms\n",
      "220:\tlearn: 0.2077981\ttotal: 242ms\tremaining: 852ms\n",
      "221:\tlearn: 0.2072174\ttotal: 243ms\tremaining: 850ms\n",
      "222:\tlearn: 0.2066620\ttotal: 243ms\tremaining: 848ms\n",
      "223:\tlearn: 0.2061356\ttotal: 244ms\tremaining: 846ms\n",
      "224:\tlearn: 0.2055819\ttotal: 245ms\tremaining: 843ms\n",
      "225:\tlearn: 0.2048304\ttotal: 246ms\tremaining: 841ms\n",
      "226:\tlearn: 0.2038532\ttotal: 246ms\tremaining: 839ms\n",
      "227:\tlearn: 0.2032061\ttotal: 247ms\tremaining: 837ms\n",
      "228:\tlearn: 0.2025801\ttotal: 248ms\tremaining: 835ms\n",
      "229:\tlearn: 0.2024481\ttotal: 249ms\tremaining: 833ms\n",
      "230:\tlearn: 0.2020612\ttotal: 250ms\tremaining: 831ms\n",
      "231:\tlearn: 0.2016159\ttotal: 250ms\tremaining: 829ms\n",
      "232:\tlearn: 0.2011672\ttotal: 251ms\tremaining: 826ms\n",
      "233:\tlearn: 0.2005485\ttotal: 252ms\tremaining: 825ms\n",
      "234:\tlearn: 0.2004657\ttotal: 253ms\tremaining: 823ms\n",
      "235:\tlearn: 0.1999822\ttotal: 254ms\tremaining: 821ms\n",
      "236:\tlearn: 0.1993935\ttotal: 254ms\tremaining: 819ms\n",
      "237:\tlearn: 0.1990738\ttotal: 255ms\tremaining: 817ms\n",
      "238:\tlearn: 0.1983879\ttotal: 256ms\tremaining: 816ms\n",
      "239:\tlearn: 0.1980021\ttotal: 257ms\tremaining: 813ms\n",
      "240:\tlearn: 0.1974727\ttotal: 258ms\tremaining: 812ms\n",
      "241:\tlearn: 0.1971202\ttotal: 259ms\tremaining: 810ms\n",
      "242:\tlearn: 0.1965367\ttotal: 259ms\tremaining: 808ms\n",
      "243:\tlearn: 0.1959159\ttotal: 260ms\tremaining: 806ms\n",
      "244:\tlearn: 0.1954193\ttotal: 261ms\tremaining: 804ms\n",
      "245:\tlearn: 0.1952294\ttotal: 262ms\tremaining: 802ms\n",
      "246:\tlearn: 0.1948537\ttotal: 262ms\tremaining: 800ms\n",
      "247:\tlearn: 0.1942669\ttotal: 263ms\tremaining: 798ms\n",
      "248:\tlearn: 0.1936930\ttotal: 264ms\tremaining: 796ms\n",
      "249:\tlearn: 0.1932813\ttotal: 265ms\tremaining: 794ms\n",
      "250:\tlearn: 0.1927538\ttotal: 266ms\tremaining: 793ms\n",
      "251:\tlearn: 0.1922338\ttotal: 266ms\tremaining: 791ms\n",
      "252:\tlearn: 0.1917311\ttotal: 267ms\tremaining: 789ms\n",
      "253:\tlearn: 0.1909978\ttotal: 268ms\tremaining: 787ms\n",
      "254:\tlearn: 0.1904878\ttotal: 269ms\tremaining: 785ms\n",
      "255:\tlearn: 0.1899233\ttotal: 269ms\tremaining: 783ms\n",
      "256:\tlearn: 0.1894955\ttotal: 270ms\tremaining: 781ms\n",
      "257:\tlearn: 0.1893429\ttotal: 271ms\tremaining: 779ms\n",
      "258:\tlearn: 0.1892293\ttotal: 272ms\tremaining: 778ms\n",
      "259:\tlearn: 0.1887167\ttotal: 273ms\tremaining: 776ms\n",
      "260:\tlearn: 0.1881136\ttotal: 273ms\tremaining: 774ms\n",
      "261:\tlearn: 0.1879041\ttotal: 274ms\tremaining: 772ms\n",
      "262:\tlearn: 0.1877734\ttotal: 275ms\tremaining: 771ms\n",
      "263:\tlearn: 0.1876729\ttotal: 276ms\tremaining: 769ms\n",
      "264:\tlearn: 0.1875393\ttotal: 277ms\tremaining: 767ms\n",
      "265:\tlearn: 0.1869797\ttotal: 277ms\tremaining: 766ms\n",
      "266:\tlearn: 0.1866735\ttotal: 278ms\tremaining: 764ms\n",
      "267:\tlearn: 0.1862183\ttotal: 280ms\tremaining: 764ms\n",
      "268:\tlearn: 0.1856701\ttotal: 281ms\tremaining: 763ms\n",
      "269:\tlearn: 0.1852674\ttotal: 282ms\tremaining: 761ms\n",
      "270:\tlearn: 0.1850680\ttotal: 282ms\tremaining: 759ms\n",
      "271:\tlearn: 0.1846494\ttotal: 283ms\tremaining: 758ms\n",
      "272:\tlearn: 0.1843871\ttotal: 285ms\tremaining: 758ms\n",
      "273:\tlearn: 0.1838859\ttotal: 286ms\tremaining: 757ms\n",
      "274:\tlearn: 0.1833748\ttotal: 286ms\tremaining: 755ms\n",
      "275:\tlearn: 0.1829553\ttotal: 287ms\tremaining: 753ms\n",
      "276:\tlearn: 0.1826694\ttotal: 288ms\tremaining: 751ms\n",
      "277:\tlearn: 0.1820586\ttotal: 289ms\tremaining: 749ms\n",
      "278:\tlearn: 0.1816362\ttotal: 289ms\tremaining: 748ms\n",
      "279:\tlearn: 0.1813287\ttotal: 290ms\tremaining: 746ms\n",
      "280:\tlearn: 0.1806620\ttotal: 291ms\tremaining: 744ms\n",
      "281:\tlearn: 0.1804222\ttotal: 292ms\tremaining: 743ms\n",
      "282:\tlearn: 0.1800273\ttotal: 293ms\tremaining: 741ms\n",
      "283:\tlearn: 0.1795781\ttotal: 293ms\tremaining: 740ms\n",
      "284:\tlearn: 0.1791320\ttotal: 294ms\tremaining: 738ms\n",
      "285:\tlearn: 0.1790020\ttotal: 295ms\tremaining: 736ms\n",
      "286:\tlearn: 0.1789048\ttotal: 296ms\tremaining: 735ms\n",
      "287:\tlearn: 0.1783321\ttotal: 297ms\tremaining: 733ms\n",
      "288:\tlearn: 0.1779761\ttotal: 297ms\tremaining: 731ms\n",
      "289:\tlearn: 0.1775671\ttotal: 298ms\tremaining: 730ms\n",
      "290:\tlearn: 0.1770647\ttotal: 299ms\tremaining: 728ms\n"
     ]
    },
    {
     "name": "stdout",
     "output_type": "stream",
     "text": [
      "291:\tlearn: 0.1769429\ttotal: 300ms\tremaining: 727ms\n",
      "292:\tlearn: 0.1765326\ttotal: 301ms\tremaining: 726ms\n",
      "293:\tlearn: 0.1764082\ttotal: 302ms\tremaining: 724ms\n",
      "294:\tlearn: 0.1758988\ttotal: 303ms\tremaining: 723ms\n",
      "295:\tlearn: 0.1754152\ttotal: 304ms\tremaining: 722ms\n",
      "296:\tlearn: 0.1751289\ttotal: 304ms\tremaining: 720ms\n",
      "297:\tlearn: 0.1748159\ttotal: 305ms\tremaining: 719ms\n",
      "298:\tlearn: 0.1745095\ttotal: 306ms\tremaining: 717ms\n",
      "299:\tlearn: 0.1742534\ttotal: 307ms\tremaining: 716ms\n",
      "300:\tlearn: 0.1741802\ttotal: 308ms\tremaining: 716ms\n",
      "301:\tlearn: 0.1738106\ttotal: 309ms\tremaining: 715ms\n",
      "302:\tlearn: 0.1736945\ttotal: 310ms\tremaining: 713ms\n",
      "303:\tlearn: 0.1732762\ttotal: 311ms\tremaining: 712ms\n",
      "304:\tlearn: 0.1730378\ttotal: 312ms\tremaining: 711ms\n",
      "305:\tlearn: 0.1723972\ttotal: 313ms\tremaining: 709ms\n",
      "306:\tlearn: 0.1721811\ttotal: 314ms\tremaining: 708ms\n",
      "307:\tlearn: 0.1718886\ttotal: 314ms\tremaining: 706ms\n",
      "308:\tlearn: 0.1712981\ttotal: 315ms\tremaining: 705ms\n",
      "309:\tlearn: 0.1711856\ttotal: 316ms\tremaining: 704ms\n",
      "310:\tlearn: 0.1711287\ttotal: 317ms\tremaining: 702ms\n",
      "311:\tlearn: 0.1707715\ttotal: 318ms\tremaining: 701ms\n",
      "312:\tlearn: 0.1701668\ttotal: 318ms\tremaining: 699ms\n",
      "313:\tlearn: 0.1699837\ttotal: 319ms\tremaining: 697ms\n",
      "314:\tlearn: 0.1699179\ttotal: 320ms\tremaining: 696ms\n",
      "315:\tlearn: 0.1695059\ttotal: 321ms\tremaining: 694ms\n",
      "316:\tlearn: 0.1693256\ttotal: 322ms\tremaining: 693ms\n",
      "317:\tlearn: 0.1688970\ttotal: 322ms\tremaining: 691ms\n",
      "318:\tlearn: 0.1688075\ttotal: 323ms\tremaining: 690ms\n",
      "319:\tlearn: 0.1684508\ttotal: 324ms\tremaining: 689ms\n",
      "320:\tlearn: 0.1683827\ttotal: 325ms\tremaining: 687ms\n",
      "321:\tlearn: 0.1681184\ttotal: 326ms\tremaining: 686ms\n",
      "322:\tlearn: 0.1677557\ttotal: 326ms\tremaining: 684ms\n",
      "323:\tlearn: 0.1673569\ttotal: 327ms\tremaining: 683ms\n",
      "324:\tlearn: 0.1671065\ttotal: 328ms\tremaining: 681ms\n",
      "325:\tlearn: 0.1667539\ttotal: 329ms\tremaining: 680ms\n",
      "326:\tlearn: 0.1665663\ttotal: 330ms\tremaining: 679ms\n",
      "327:\tlearn: 0.1662256\ttotal: 331ms\tremaining: 678ms\n",
      "328:\tlearn: 0.1659791\ttotal: 332ms\tremaining: 677ms\n",
      "329:\tlearn: 0.1658943\ttotal: 333ms\tremaining: 675ms\n",
      "330:\tlearn: 0.1654009\ttotal: 333ms\tremaining: 674ms\n",
      "331:\tlearn: 0.1649913\ttotal: 334ms\tremaining: 672ms\n",
      "332:\tlearn: 0.1646124\ttotal: 335ms\tremaining: 671ms\n",
      "333:\tlearn: 0.1643427\ttotal: 336ms\tremaining: 670ms\n",
      "334:\tlearn: 0.1640265\ttotal: 337ms\tremaining: 668ms\n",
      "335:\tlearn: 0.1636798\ttotal: 337ms\tremaining: 667ms\n",
      "336:\tlearn: 0.1635227\ttotal: 338ms\tremaining: 665ms\n",
      "337:\tlearn: 0.1631321\ttotal: 339ms\tremaining: 664ms\n",
      "338:\tlearn: 0.1630645\ttotal: 340ms\tremaining: 663ms\n",
      "339:\tlearn: 0.1629162\ttotal: 341ms\tremaining: 661ms\n",
      "340:\tlearn: 0.1624873\ttotal: 342ms\tremaining: 660ms\n",
      "341:\tlearn: 0.1623590\ttotal: 342ms\tremaining: 659ms\n",
      "342:\tlearn: 0.1617234\ttotal: 343ms\tremaining: 657ms\n",
      "343:\tlearn: 0.1615849\ttotal: 344ms\tremaining: 656ms\n",
      "344:\tlearn: 0.1612762\ttotal: 345ms\tremaining: 654ms\n",
      "345:\tlearn: 0.1611056\ttotal: 345ms\tremaining: 653ms\n",
      "346:\tlearn: 0.1607433\ttotal: 346ms\tremaining: 652ms\n",
      "347:\tlearn: 0.1605134\ttotal: 347ms\tremaining: 650ms\n",
      "348:\tlearn: 0.1601456\ttotal: 348ms\tremaining: 649ms\n",
      "349:\tlearn: 0.1598377\ttotal: 349ms\tremaining: 647ms\n",
      "350:\tlearn: 0.1595516\ttotal: 350ms\tremaining: 646ms\n",
      "351:\tlearn: 0.1590541\ttotal: 350ms\tremaining: 645ms\n",
      "352:\tlearn: 0.1586727\ttotal: 351ms\tremaining: 644ms\n",
      "353:\tlearn: 0.1582982\ttotal: 352ms\tremaining: 642ms\n",
      "354:\tlearn: 0.1582329\ttotal: 353ms\tremaining: 641ms\n",
      "355:\tlearn: 0.1578809\ttotal: 353ms\tremaining: 639ms\n",
      "356:\tlearn: 0.1577220\ttotal: 354ms\tremaining: 638ms\n",
      "357:\tlearn: 0.1574169\ttotal: 355ms\tremaining: 637ms\n",
      "358:\tlearn: 0.1573077\ttotal: 356ms\tremaining: 635ms\n",
      "359:\tlearn: 0.1569653\ttotal: 357ms\tremaining: 634ms\n",
      "360:\tlearn: 0.1566827\ttotal: 357ms\tremaining: 632ms\n",
      "361:\tlearn: 0.1562724\ttotal: 358ms\tremaining: 631ms\n",
      "362:\tlearn: 0.1558877\ttotal: 359ms\tremaining: 630ms\n",
      "363:\tlearn: 0.1554063\ttotal: 360ms\tremaining: 628ms\n",
      "364:\tlearn: 0.1550072\ttotal: 361ms\tremaining: 627ms\n",
      "365:\tlearn: 0.1549323\ttotal: 361ms\tremaining: 626ms\n",
      "366:\tlearn: 0.1545571\ttotal: 362ms\tremaining: 624ms\n",
      "367:\tlearn: 0.1543089\ttotal: 363ms\tremaining: 623ms\n",
      "368:\tlearn: 0.1540512\ttotal: 364ms\tremaining: 622ms\n",
      "369:\tlearn: 0.1537268\ttotal: 364ms\tremaining: 620ms\n",
      "370:\tlearn: 0.1535098\ttotal: 365ms\tremaining: 619ms\n",
      "371:\tlearn: 0.1534435\ttotal: 366ms\tremaining: 618ms\n",
      "372:\tlearn: 0.1529516\ttotal: 367ms\tremaining: 616ms\n",
      "373:\tlearn: 0.1528528\ttotal: 367ms\tremaining: 615ms\n",
      "374:\tlearn: 0.1525212\ttotal: 368ms\tremaining: 614ms\n",
      "375:\tlearn: 0.1522740\ttotal: 369ms\tremaining: 613ms\n",
      "376:\tlearn: 0.1522327\ttotal: 370ms\tremaining: 611ms\n",
      "377:\tlearn: 0.1519878\ttotal: 371ms\tremaining: 610ms\n",
      "378:\tlearn: 0.1516121\ttotal: 371ms\tremaining: 609ms\n",
      "379:\tlearn: 0.1513943\ttotal: 372ms\tremaining: 607ms\n",
      "380:\tlearn: 0.1508988\ttotal: 373ms\tremaining: 606ms\n",
      "381:\tlearn: 0.1507384\ttotal: 374ms\tremaining: 605ms\n",
      "382:\tlearn: 0.1504762\ttotal: 375ms\tremaining: 604ms\n",
      "383:\tlearn: 0.1500891\ttotal: 375ms\tremaining: 602ms\n",
      "384:\tlearn: 0.1500004\ttotal: 376ms\tremaining: 601ms\n",
      "385:\tlearn: 0.1495447\ttotal: 377ms\tremaining: 600ms\n",
      "386:\tlearn: 0.1493102\ttotal: 378ms\tremaining: 599ms\n",
      "387:\tlearn: 0.1490916\ttotal: 379ms\tremaining: 597ms\n",
      "388:\tlearn: 0.1489437\ttotal: 380ms\tremaining: 596ms\n",
      "389:\tlearn: 0.1485831\ttotal: 380ms\tremaining: 595ms\n"
     ]
    },
    {
     "name": "stdout",
     "output_type": "stream",
     "text": [
      "390:\tlearn: 0.1483691\ttotal: 382ms\tremaining: 594ms\n",
      "391:\tlearn: 0.1479236\ttotal: 383ms\tremaining: 593ms\n",
      "392:\tlearn: 0.1477081\ttotal: 383ms\tremaining: 592ms\n",
      "393:\tlearn: 0.1474585\ttotal: 384ms\tremaining: 591ms\n",
      "394:\tlearn: 0.1471570\ttotal: 385ms\tremaining: 590ms\n",
      "395:\tlearn: 0.1469778\ttotal: 386ms\tremaining: 589ms\n",
      "396:\tlearn: 0.1465722\ttotal: 387ms\tremaining: 587ms\n",
      "397:\tlearn: 0.1462199\ttotal: 387ms\tremaining: 586ms\n",
      "398:\tlearn: 0.1460530\ttotal: 388ms\tremaining: 585ms\n",
      "399:\tlearn: 0.1456878\ttotal: 389ms\tremaining: 584ms\n",
      "400:\tlearn: 0.1452309\ttotal: 390ms\tremaining: 583ms\n",
      "401:\tlearn: 0.1450909\ttotal: 391ms\tremaining: 581ms\n",
      "402:\tlearn: 0.1449710\ttotal: 392ms\tremaining: 580ms\n",
      "403:\tlearn: 0.1448197\ttotal: 393ms\tremaining: 579ms\n",
      "404:\tlearn: 0.1446797\ttotal: 393ms\tremaining: 578ms\n",
      "405:\tlearn: 0.1442764\ttotal: 394ms\tremaining: 577ms\n",
      "406:\tlearn: 0.1439541\ttotal: 395ms\tremaining: 575ms\n",
      "407:\tlearn: 0.1438221\ttotal: 396ms\tremaining: 574ms\n",
      "408:\tlearn: 0.1434968\ttotal: 397ms\tremaining: 573ms\n",
      "409:\tlearn: 0.1431749\ttotal: 398ms\tremaining: 572ms\n",
      "410:\tlearn: 0.1429297\ttotal: 398ms\tremaining: 571ms\n",
      "411:\tlearn: 0.1425830\ttotal: 399ms\tremaining: 570ms\n",
      "412:\tlearn: 0.1424028\ttotal: 400ms\tremaining: 569ms\n",
      "413:\tlearn: 0.1422091\ttotal: 401ms\tremaining: 567ms\n",
      "414:\tlearn: 0.1419117\ttotal: 402ms\tremaining: 566ms\n",
      "415:\tlearn: 0.1416402\ttotal: 402ms\tremaining: 565ms\n",
      "416:\tlearn: 0.1415843\ttotal: 403ms\tremaining: 564ms\n",
      "417:\tlearn: 0.1415156\ttotal: 404ms\tremaining: 563ms\n",
      "418:\tlearn: 0.1414303\ttotal: 405ms\tremaining: 562ms\n",
      "419:\tlearn: 0.1412518\ttotal: 406ms\tremaining: 561ms\n",
      "420:\tlearn: 0.1412255\ttotal: 407ms\tremaining: 560ms\n",
      "421:\tlearn: 0.1410251\ttotal: 408ms\tremaining: 559ms\n",
      "422:\tlearn: 0.1409037\ttotal: 409ms\tremaining: 558ms\n",
      "423:\tlearn: 0.1408312\ttotal: 410ms\tremaining: 557ms\n",
      "424:\tlearn: 0.1404175\ttotal: 411ms\tremaining: 556ms\n",
      "425:\tlearn: 0.1399914\ttotal: 412ms\tremaining: 555ms\n",
      "426:\tlearn: 0.1396984\ttotal: 413ms\tremaining: 554ms\n",
      "427:\tlearn: 0.1393234\ttotal: 414ms\tremaining: 553ms\n",
      "428:\tlearn: 0.1390702\ttotal: 414ms\tremaining: 552ms\n",
      "429:\tlearn: 0.1388644\ttotal: 415ms\tremaining: 551ms\n",
      "430:\tlearn: 0.1386391\ttotal: 416ms\tremaining: 550ms\n",
      "431:\tlearn: 0.1382426\ttotal: 417ms\tremaining: 549ms\n",
      "432:\tlearn: 0.1378955\ttotal: 418ms\tremaining: 548ms\n",
      "433:\tlearn: 0.1378673\ttotal: 419ms\tremaining: 547ms\n",
      "434:\tlearn: 0.1376990\ttotal: 420ms\tremaining: 546ms\n",
      "435:\tlearn: 0.1376312\ttotal: 421ms\tremaining: 545ms\n",
      "436:\tlearn: 0.1373044\ttotal: 422ms\tremaining: 544ms\n",
      "437:\tlearn: 0.1370895\ttotal: 423ms\tremaining: 543ms\n",
      "438:\tlearn: 0.1367678\ttotal: 424ms\tremaining: 542ms\n",
      "439:\tlearn: 0.1364591\ttotal: 425ms\tremaining: 541ms\n",
      "440:\tlearn: 0.1361061\ttotal: 426ms\tremaining: 540ms\n",
      "441:\tlearn: 0.1357692\ttotal: 427ms\tremaining: 539ms\n",
      "442:\tlearn: 0.1355284\ttotal: 427ms\tremaining: 538ms\n",
      "443:\tlearn: 0.1354270\ttotal: 428ms\tremaining: 537ms\n",
      "444:\tlearn: 0.1352177\ttotal: 429ms\tremaining: 536ms\n",
      "445:\tlearn: 0.1348256\ttotal: 430ms\tremaining: 535ms\n",
      "446:\tlearn: 0.1347092\ttotal: 431ms\tremaining: 533ms\n",
      "447:\tlearn: 0.1343634\ttotal: 432ms\tremaining: 532ms\n",
      "448:\tlearn: 0.1341665\ttotal: 434ms\tremaining: 532ms\n",
      "449:\tlearn: 0.1337042\ttotal: 434ms\tremaining: 531ms\n",
      "450:\tlearn: 0.1333095\ttotal: 435ms\tremaining: 530ms\n",
      "451:\tlearn: 0.1329040\ttotal: 436ms\tremaining: 529ms\n",
      "452:\tlearn: 0.1327501\ttotal: 437ms\tremaining: 527ms\n",
      "453:\tlearn: 0.1324871\ttotal: 438ms\tremaining: 526ms\n",
      "454:\tlearn: 0.1320017\ttotal: 439ms\tremaining: 525ms\n",
      "455:\tlearn: 0.1317497\ttotal: 439ms\tremaining: 524ms\n",
      "456:\tlearn: 0.1314811\ttotal: 440ms\tremaining: 523ms\n",
      "457:\tlearn: 0.1313610\ttotal: 441ms\tremaining: 522ms\n",
      "458:\tlearn: 0.1310607\ttotal: 442ms\tremaining: 521ms\n",
      "459:\tlearn: 0.1308364\ttotal: 442ms\tremaining: 519ms\n",
      "460:\tlearn: 0.1306188\ttotal: 443ms\tremaining: 518ms\n",
      "461:\tlearn: 0.1303564\ttotal: 444ms\tremaining: 517ms\n",
      "462:\tlearn: 0.1301568\ttotal: 445ms\tremaining: 516ms\n",
      "463:\tlearn: 0.1298130\ttotal: 446ms\tremaining: 515ms\n",
      "464:\tlearn: 0.1294796\ttotal: 447ms\tremaining: 514ms\n",
      "465:\tlearn: 0.1293062\ttotal: 447ms\tremaining: 513ms\n",
      "466:\tlearn: 0.1289485\ttotal: 448ms\tremaining: 511ms\n",
      "467:\tlearn: 0.1286364\ttotal: 449ms\tremaining: 510ms\n",
      "468:\tlearn: 0.1285121\ttotal: 450ms\tremaining: 509ms\n",
      "469:\tlearn: 0.1282779\ttotal: 451ms\tremaining: 508ms\n",
      "470:\tlearn: 0.1279047\ttotal: 451ms\tremaining: 507ms\n",
      "471:\tlearn: 0.1274591\ttotal: 452ms\tremaining: 506ms\n",
      "472:\tlearn: 0.1272612\ttotal: 453ms\tremaining: 505ms\n",
      "473:\tlearn: 0.1270099\ttotal: 454ms\tremaining: 504ms\n",
      "474:\tlearn: 0.1268037\ttotal: 455ms\tremaining: 503ms\n",
      "475:\tlearn: 0.1265510\ttotal: 456ms\tremaining: 502ms\n",
      "476:\tlearn: 0.1264438\ttotal: 456ms\tremaining: 500ms\n",
      "477:\tlearn: 0.1262629\ttotal: 457ms\tremaining: 499ms\n",
      "478:\tlearn: 0.1260661\ttotal: 458ms\tremaining: 498ms\n",
      "479:\tlearn: 0.1257568\ttotal: 459ms\tremaining: 497ms\n",
      "480:\tlearn: 0.1255870\ttotal: 460ms\tremaining: 496ms\n",
      "481:\tlearn: 0.1254838\ttotal: 460ms\tremaining: 495ms\n",
      "482:\tlearn: 0.1252466\ttotal: 462ms\tremaining: 494ms\n",
      "483:\tlearn: 0.1249614\ttotal: 463ms\tremaining: 493ms\n",
      "484:\tlearn: 0.1247264\ttotal: 463ms\tremaining: 492ms\n",
      "485:\tlearn: 0.1245363\ttotal: 464ms\tremaining: 491ms\n",
      "486:\tlearn: 0.1242262\ttotal: 465ms\tremaining: 490ms\n",
      "487:\tlearn: 0.1238845\ttotal: 466ms\tremaining: 489ms\n",
      "488:\tlearn: 0.1236672\ttotal: 467ms\tremaining: 488ms\n",
      "489:\tlearn: 0.1233432\ttotal: 468ms\tremaining: 487ms\n",
      "490:\tlearn: 0.1230651\ttotal: 468ms\tremaining: 486ms\n",
      "491:\tlearn: 0.1227643\ttotal: 469ms\tremaining: 484ms\n",
      "492:\tlearn: 0.1226246\ttotal: 470ms\tremaining: 483ms\n",
      "493:\tlearn: 0.1224284\ttotal: 471ms\tremaining: 482ms\n",
      "494:\tlearn: 0.1220628\ttotal: 472ms\tremaining: 481ms\n",
      "495:\tlearn: 0.1216946\ttotal: 472ms\tremaining: 480ms\n",
      "496:\tlearn: 0.1213918\ttotal: 473ms\tremaining: 479ms\n",
      "497:\tlearn: 0.1212040\ttotal: 474ms\tremaining: 478ms\n",
      "498:\tlearn: 0.1210531\ttotal: 475ms\tremaining: 477ms\n",
      "499:\tlearn: 0.1209038\ttotal: 476ms\tremaining: 476ms\n",
      "500:\tlearn: 0.1206240\ttotal: 476ms\tremaining: 474ms\n",
      "501:\tlearn: 0.1204707\ttotal: 477ms\tremaining: 473ms\n",
      "502:\tlearn: 0.1202465\ttotal: 478ms\tremaining: 472ms\n",
      "503:\tlearn: 0.1199940\ttotal: 479ms\tremaining: 471ms\n",
      "504:\tlearn: 0.1199080\ttotal: 480ms\tremaining: 470ms\n",
      "505:\tlearn: 0.1197256\ttotal: 480ms\tremaining: 469ms\n",
      "506:\tlearn: 0.1195047\ttotal: 481ms\tremaining: 468ms\n",
      "507:\tlearn: 0.1194030\ttotal: 482ms\tremaining: 467ms\n",
      "508:\tlearn: 0.1192318\ttotal: 483ms\tremaining: 466ms\n",
      "509:\tlearn: 0.1190820\ttotal: 484ms\tremaining: 465ms\n",
      "510:\tlearn: 0.1187231\ttotal: 485ms\tremaining: 464ms\n",
      "511:\tlearn: 0.1184914\ttotal: 485ms\tremaining: 463ms\n",
      "512:\tlearn: 0.1182659\ttotal: 486ms\tremaining: 462ms\n",
      "513:\tlearn: 0.1181353\ttotal: 487ms\tremaining: 461ms\n",
      "514:\tlearn: 0.1179500\ttotal: 488ms\tremaining: 460ms\n",
      "515:\tlearn: 0.1178812\ttotal: 489ms\tremaining: 458ms\n",
      "516:\tlearn: 0.1175460\ttotal: 490ms\tremaining: 457ms\n"
     ]
    },
    {
     "name": "stdout",
     "output_type": "stream",
     "text": [
      "517:\tlearn: 0.1173240\ttotal: 491ms\tremaining: 457ms\n",
      "518:\tlearn: 0.1170725\ttotal: 492ms\tremaining: 456ms\n",
      "519:\tlearn: 0.1169223\ttotal: 493ms\tremaining: 455ms\n",
      "520:\tlearn: 0.1166454\ttotal: 494ms\tremaining: 454ms\n",
      "521:\tlearn: 0.1164515\ttotal: 494ms\tremaining: 453ms\n",
      "522:\tlearn: 0.1161583\ttotal: 495ms\tremaining: 452ms\n",
      "523:\tlearn: 0.1158241\ttotal: 496ms\tremaining: 451ms\n",
      "524:\tlearn: 0.1157261\ttotal: 497ms\tremaining: 450ms\n",
      "525:\tlearn: 0.1156594\ttotal: 498ms\tremaining: 448ms\n",
      "526:\tlearn: 0.1155833\ttotal: 498ms\tremaining: 447ms\n",
      "527:\tlearn: 0.1152429\ttotal: 499ms\tremaining: 446ms\n",
      "528:\tlearn: 0.1149639\ttotal: 500ms\tremaining: 445ms\n",
      "529:\tlearn: 0.1148878\ttotal: 501ms\tremaining: 444ms\n",
      "530:\tlearn: 0.1146913\ttotal: 502ms\tremaining: 444ms\n",
      "531:\tlearn: 0.1145887\ttotal: 503ms\tremaining: 443ms\n",
      "532:\tlearn: 0.1144826\ttotal: 504ms\tremaining: 442ms\n",
      "533:\tlearn: 0.1142465\ttotal: 505ms\tremaining: 440ms\n",
      "534:\tlearn: 0.1139905\ttotal: 505ms\tremaining: 439ms\n",
      "535:\tlearn: 0.1139110\ttotal: 506ms\tremaining: 438ms\n",
      "536:\tlearn: 0.1136646\ttotal: 507ms\tremaining: 437ms\n",
      "537:\tlearn: 0.1135307\ttotal: 508ms\tremaining: 436ms\n",
      "538:\tlearn: 0.1132435\ttotal: 509ms\tremaining: 435ms\n",
      "539:\tlearn: 0.1131808\ttotal: 510ms\tremaining: 434ms\n",
      "540:\tlearn: 0.1129504\ttotal: 510ms\tremaining: 433ms\n",
      "541:\tlearn: 0.1126280\ttotal: 511ms\tremaining: 432ms\n",
      "542:\tlearn: 0.1124954\ttotal: 512ms\tremaining: 431ms\n",
      "543:\tlearn: 0.1123145\ttotal: 513ms\tremaining: 430ms\n",
      "544:\tlearn: 0.1121164\ttotal: 514ms\tremaining: 429ms\n",
      "545:\tlearn: 0.1119061\ttotal: 514ms\tremaining: 428ms\n",
      "546:\tlearn: 0.1117190\ttotal: 515ms\tremaining: 427ms\n",
      "547:\tlearn: 0.1115379\ttotal: 516ms\tremaining: 426ms\n",
      "548:\tlearn: 0.1114295\ttotal: 517ms\tremaining: 425ms\n",
      "549:\tlearn: 0.1111475\ttotal: 518ms\tremaining: 424ms\n",
      "550:\tlearn: 0.1109346\ttotal: 519ms\tremaining: 423ms\n",
      "551:\tlearn: 0.1106627\ttotal: 519ms\tremaining: 421ms\n",
      "552:\tlearn: 0.1106198\ttotal: 520ms\tremaining: 420ms\n",
      "553:\tlearn: 0.1104873\ttotal: 521ms\tremaining: 419ms\n",
      "554:\tlearn: 0.1103282\ttotal: 522ms\tremaining: 418ms\n",
      "555:\tlearn: 0.1102216\ttotal: 522ms\tremaining: 417ms\n",
      "556:\tlearn: 0.1099590\ttotal: 523ms\tremaining: 416ms\n",
      "557:\tlearn: 0.1097314\ttotal: 524ms\tremaining: 415ms\n",
      "558:\tlearn: 0.1096323\ttotal: 525ms\tremaining: 414ms\n",
      "559:\tlearn: 0.1093607\ttotal: 526ms\tremaining: 413ms\n",
      "560:\tlearn: 0.1091843\ttotal: 526ms\tremaining: 412ms\n",
      "561:\tlearn: 0.1090325\ttotal: 527ms\tremaining: 411ms\n",
      "562:\tlearn: 0.1088970\ttotal: 528ms\tremaining: 410ms\n",
      "563:\tlearn: 0.1087995\ttotal: 529ms\tremaining: 409ms\n",
      "564:\tlearn: 0.1085804\ttotal: 529ms\tremaining: 408ms\n",
      "565:\tlearn: 0.1084842\ttotal: 530ms\tremaining: 407ms\n",
      "566:\tlearn: 0.1082770\ttotal: 531ms\tremaining: 406ms\n",
      "567:\tlearn: 0.1082573\ttotal: 532ms\tremaining: 405ms\n",
      "568:\tlearn: 0.1080425\ttotal: 533ms\tremaining: 403ms\n",
      "569:\tlearn: 0.1079164\ttotal: 533ms\tremaining: 402ms\n",
      "570:\tlearn: 0.1077936\ttotal: 534ms\tremaining: 401ms\n",
      "571:\tlearn: 0.1075152\ttotal: 535ms\tremaining: 400ms\n",
      "572:\tlearn: 0.1072554\ttotal: 536ms\tremaining: 399ms\n",
      "573:\tlearn: 0.1071724\ttotal: 537ms\tremaining: 398ms\n",
      "574:\tlearn: 0.1068768\ttotal: 537ms\tremaining: 397ms\n",
      "575:\tlearn: 0.1067143\ttotal: 538ms\tremaining: 396ms\n",
      "576:\tlearn: 0.1065123\ttotal: 539ms\tremaining: 395ms\n",
      "577:\tlearn: 0.1063136\ttotal: 540ms\tremaining: 394ms\n",
      "578:\tlearn: 0.1061396\ttotal: 541ms\tremaining: 393ms\n",
      "579:\tlearn: 0.1059543\ttotal: 541ms\tremaining: 392ms\n",
      "580:\tlearn: 0.1057512\ttotal: 542ms\tremaining: 391ms\n",
      "581:\tlearn: 0.1055594\ttotal: 543ms\tremaining: 390ms\n",
      "582:\tlearn: 0.1055035\ttotal: 544ms\tremaining: 389ms\n",
      "583:\tlearn: 0.1053735\ttotal: 545ms\tremaining: 388ms\n",
      "584:\tlearn: 0.1051447\ttotal: 545ms\tremaining: 387ms\n",
      "585:\tlearn: 0.1049376\ttotal: 546ms\tremaining: 386ms\n",
      "586:\tlearn: 0.1047452\ttotal: 547ms\tremaining: 385ms\n",
      "587:\tlearn: 0.1043363\ttotal: 548ms\tremaining: 384ms\n",
      "588:\tlearn: 0.1041877\ttotal: 548ms\tremaining: 383ms\n",
      "589:\tlearn: 0.1041595\ttotal: 549ms\tremaining: 382ms\n",
      "590:\tlearn: 0.1038804\ttotal: 550ms\tremaining: 381ms\n",
      "591:\tlearn: 0.1036147\ttotal: 551ms\tremaining: 380ms\n",
      "592:\tlearn: 0.1034341\ttotal: 552ms\tremaining: 379ms\n",
      "593:\tlearn: 0.1033155\ttotal: 553ms\tremaining: 378ms\n",
      "594:\tlearn: 0.1031376\ttotal: 553ms\tremaining: 377ms\n",
      "595:\tlearn: 0.1030760\ttotal: 554ms\tremaining: 376ms\n"
     ]
    },
    {
     "name": "stdout",
     "output_type": "stream",
     "text": [
      "596:\tlearn: 0.1029110\ttotal: 555ms\tremaining: 375ms\n",
      "597:\tlearn: 0.1027613\ttotal: 556ms\tremaining: 374ms\n",
      "598:\tlearn: 0.1025587\ttotal: 557ms\tremaining: 373ms\n",
      "599:\tlearn: 0.1023285\ttotal: 559ms\tremaining: 372ms\n",
      "600:\tlearn: 0.1020607\ttotal: 559ms\tremaining: 371ms\n",
      "601:\tlearn: 0.1018224\ttotal: 560ms\tremaining: 371ms\n",
      "602:\tlearn: 0.1016915\ttotal: 561ms\tremaining: 369ms\n",
      "603:\tlearn: 0.1015392\ttotal: 562ms\tremaining: 368ms\n",
      "604:\tlearn: 0.1013569\ttotal: 563ms\tremaining: 367ms\n",
      "605:\tlearn: 0.1011760\ttotal: 564ms\tremaining: 366ms\n",
      "606:\tlearn: 0.1009884\ttotal: 564ms\tremaining: 365ms\n",
      "607:\tlearn: 0.1007937\ttotal: 565ms\tremaining: 365ms\n",
      "608:\tlearn: 0.1006845\ttotal: 566ms\tremaining: 364ms\n",
      "609:\tlearn: 0.1005461\ttotal: 567ms\tremaining: 362ms\n",
      "610:\tlearn: 0.1003986\ttotal: 568ms\tremaining: 361ms\n",
      "611:\tlearn: 0.1003205\ttotal: 569ms\tremaining: 360ms\n",
      "612:\tlearn: 0.1001331\ttotal: 569ms\tremaining: 359ms\n",
      "613:\tlearn: 0.0998940\ttotal: 570ms\tremaining: 358ms\n",
      "614:\tlearn: 0.0998311\ttotal: 571ms\tremaining: 357ms\n",
      "615:\tlearn: 0.0996581\ttotal: 572ms\tremaining: 357ms\n",
      "616:\tlearn: 0.0994718\ttotal: 573ms\tremaining: 356ms\n",
      "617:\tlearn: 0.0991312\ttotal: 574ms\tremaining: 355ms\n",
      "618:\tlearn: 0.0989218\ttotal: 575ms\tremaining: 354ms\n",
      "619:\tlearn: 0.0987340\ttotal: 576ms\tremaining: 353ms\n",
      "620:\tlearn: 0.0985936\ttotal: 577ms\tremaining: 352ms\n",
      "621:\tlearn: 0.0984703\ttotal: 578ms\tremaining: 351ms\n",
      "622:\tlearn: 0.0984098\ttotal: 578ms\tremaining: 350ms\n",
      "623:\tlearn: 0.0981990\ttotal: 579ms\tremaining: 349ms\n",
      "624:\tlearn: 0.0979124\ttotal: 580ms\tremaining: 348ms\n",
      "625:\tlearn: 0.0977501\ttotal: 581ms\tremaining: 347ms\n",
      "626:\tlearn: 0.0976830\ttotal: 582ms\tremaining: 346ms\n",
      "627:\tlearn: 0.0975088\ttotal: 583ms\tremaining: 345ms\n",
      "628:\tlearn: 0.0973235\ttotal: 584ms\tremaining: 344ms\n",
      "629:\tlearn: 0.0971288\ttotal: 585ms\tremaining: 343ms\n",
      "630:\tlearn: 0.0969738\ttotal: 585ms\tremaining: 342ms\n",
      "631:\tlearn: 0.0968169\ttotal: 586ms\tremaining: 341ms\n",
      "632:\tlearn: 0.0966289\ttotal: 587ms\tremaining: 340ms\n",
      "633:\tlearn: 0.0964044\ttotal: 587ms\tremaining: 339ms\n",
      "634:\tlearn: 0.0962598\ttotal: 588ms\tremaining: 338ms\n",
      "635:\tlearn: 0.0961408\ttotal: 589ms\tremaining: 337ms\n",
      "636:\tlearn: 0.0958883\ttotal: 590ms\tremaining: 336ms\n",
      "637:\tlearn: 0.0957868\ttotal: 591ms\tremaining: 335ms\n",
      "638:\tlearn: 0.0956623\ttotal: 592ms\tremaining: 334ms\n",
      "639:\tlearn: 0.0956247\ttotal: 593ms\tremaining: 334ms\n",
      "640:\tlearn: 0.0954519\ttotal: 594ms\tremaining: 333ms\n",
      "641:\tlearn: 0.0953837\ttotal: 595ms\tremaining: 332ms\n",
      "642:\tlearn: 0.0953239\ttotal: 596ms\tremaining: 331ms\n",
      "643:\tlearn: 0.0953064\ttotal: 597ms\tremaining: 330ms\n",
      "644:\tlearn: 0.0952013\ttotal: 598ms\tremaining: 329ms\n",
      "645:\tlearn: 0.0950848\ttotal: 599ms\tremaining: 328ms\n",
      "646:\tlearn: 0.0950692\ttotal: 600ms\tremaining: 327ms\n",
      "647:\tlearn: 0.0948439\ttotal: 601ms\tremaining: 327ms\n",
      "648:\tlearn: 0.0946578\ttotal: 602ms\tremaining: 326ms\n",
      "649:\tlearn: 0.0944436\ttotal: 603ms\tremaining: 325ms\n",
      "650:\tlearn: 0.0942414\ttotal: 604ms\tremaining: 324ms\n",
      "651:\tlearn: 0.0940101\ttotal: 604ms\tremaining: 323ms\n",
      "652:\tlearn: 0.0938229\ttotal: 605ms\tremaining: 322ms\n",
      "653:\tlearn: 0.0936967\ttotal: 606ms\tremaining: 321ms\n",
      "654:\tlearn: 0.0935591\ttotal: 607ms\tremaining: 320ms\n",
      "655:\tlearn: 0.0934048\ttotal: 608ms\tremaining: 319ms\n",
      "656:\tlearn: 0.0932714\ttotal: 609ms\tremaining: 318ms\n",
      "657:\tlearn: 0.0930875\ttotal: 610ms\tremaining: 317ms\n",
      "658:\tlearn: 0.0929252\ttotal: 611ms\tremaining: 316ms\n",
      "659:\tlearn: 0.0927862\ttotal: 612ms\tremaining: 315ms\n",
      "660:\tlearn: 0.0925463\ttotal: 613ms\tremaining: 314ms\n",
      "661:\tlearn: 0.0925281\ttotal: 614ms\tremaining: 314ms\n",
      "662:\tlearn: 0.0923171\ttotal: 615ms\tremaining: 313ms\n",
      "663:\tlearn: 0.0922582\ttotal: 616ms\tremaining: 312ms\n",
      "664:\tlearn: 0.0921055\ttotal: 617ms\tremaining: 311ms\n",
      "665:\tlearn: 0.0919722\ttotal: 617ms\tremaining: 310ms\n",
      "666:\tlearn: 0.0917672\ttotal: 618ms\tremaining: 309ms\n",
      "667:\tlearn: 0.0916777\ttotal: 619ms\tremaining: 308ms\n",
      "668:\tlearn: 0.0916356\ttotal: 620ms\tremaining: 307ms\n",
      "669:\tlearn: 0.0914785\ttotal: 621ms\tremaining: 306ms\n",
      "670:\tlearn: 0.0914021\ttotal: 622ms\tremaining: 305ms\n",
      "671:\tlearn: 0.0913580\ttotal: 622ms\tremaining: 304ms\n",
      "672:\tlearn: 0.0912913\ttotal: 623ms\tremaining: 303ms\n",
      "673:\tlearn: 0.0911042\ttotal: 624ms\tremaining: 302ms\n",
      "674:\tlearn: 0.0909593\ttotal: 625ms\tremaining: 301ms\n",
      "675:\tlearn: 0.0909242\ttotal: 626ms\tremaining: 300ms\n",
      "676:\tlearn: 0.0908304\ttotal: 626ms\tremaining: 299ms\n",
      "677:\tlearn: 0.0906971\ttotal: 627ms\tremaining: 298ms\n",
      "678:\tlearn: 0.0905390\ttotal: 628ms\tremaining: 297ms\n",
      "679:\tlearn: 0.0903777\ttotal: 629ms\tremaining: 296ms\n",
      "680:\tlearn: 0.0903211\ttotal: 629ms\tremaining: 295ms\n",
      "681:\tlearn: 0.0902940\ttotal: 630ms\tremaining: 294ms\n",
      "682:\tlearn: 0.0901715\ttotal: 631ms\tremaining: 293ms\n",
      "683:\tlearn: 0.0900496\ttotal: 632ms\tremaining: 292ms\n",
      "684:\tlearn: 0.0899617\ttotal: 633ms\tremaining: 291ms\n",
      "685:\tlearn: 0.0897365\ttotal: 634ms\tremaining: 290ms\n",
      "686:\tlearn: 0.0895864\ttotal: 635ms\tremaining: 289ms\n",
      "687:\tlearn: 0.0894768\ttotal: 636ms\tremaining: 288ms\n",
      "688:\tlearn: 0.0893917\ttotal: 637ms\tremaining: 287ms\n",
      "689:\tlearn: 0.0893345\ttotal: 638ms\tremaining: 286ms\n",
      "690:\tlearn: 0.0891398\ttotal: 638ms\tremaining: 286ms\n",
      "691:\tlearn: 0.0890492\ttotal: 639ms\tremaining: 285ms\n",
      "692:\tlearn: 0.0890362\ttotal: 640ms\tremaining: 284ms\n",
      "693:\tlearn: 0.0887932\ttotal: 641ms\tremaining: 283ms\n",
      "694:\tlearn: 0.0886092\ttotal: 643ms\tremaining: 282ms\n",
      "695:\tlearn: 0.0885090\ttotal: 643ms\tremaining: 281ms\n",
      "696:\tlearn: 0.0884556\ttotal: 644ms\tremaining: 280ms\n",
      "697:\tlearn: 0.0882898\ttotal: 645ms\tremaining: 279ms\n",
      "698:\tlearn: 0.0881683\ttotal: 646ms\tremaining: 278ms\n",
      "699:\tlearn: 0.0881398\ttotal: 647ms\tremaining: 277ms\n",
      "700:\tlearn: 0.0880391\ttotal: 648ms\tremaining: 276ms\n",
      "701:\tlearn: 0.0878840\ttotal: 649ms\tremaining: 275ms\n",
      "702:\tlearn: 0.0877672\ttotal: 649ms\tremaining: 274ms\n",
      "703:\tlearn: 0.0875570\ttotal: 650ms\tremaining: 273ms\n",
      "704:\tlearn: 0.0874546\ttotal: 651ms\tremaining: 272ms\n",
      "705:\tlearn: 0.0874083\ttotal: 652ms\tremaining: 272ms\n",
      "706:\tlearn: 0.0872016\ttotal: 653ms\tremaining: 271ms\n",
      "707:\tlearn: 0.0871010\ttotal: 654ms\tremaining: 270ms\n",
      "708:\tlearn: 0.0869261\ttotal: 655ms\tremaining: 269ms\n",
      "709:\tlearn: 0.0868183\ttotal: 655ms\tremaining: 268ms\n",
      "710:\tlearn: 0.0866648\ttotal: 656ms\tremaining: 267ms\n",
      "711:\tlearn: 0.0865459\ttotal: 657ms\tremaining: 266ms\n",
      "712:\tlearn: 0.0864724\ttotal: 658ms\tremaining: 265ms\n",
      "713:\tlearn: 0.0863157\ttotal: 659ms\tremaining: 264ms\n",
      "714:\tlearn: 0.0862488\ttotal: 660ms\tremaining: 263ms\n",
      "715:\tlearn: 0.0861335\ttotal: 660ms\tremaining: 262ms\n",
      "716:\tlearn: 0.0859519\ttotal: 661ms\tremaining: 261ms\n",
      "717:\tlearn: 0.0857995\ttotal: 662ms\tremaining: 260ms\n",
      "718:\tlearn: 0.0857697\ttotal: 663ms\tremaining: 259ms\n"
     ]
    },
    {
     "name": "stdout",
     "output_type": "stream",
     "text": [
      "719:\tlearn: 0.0856372\ttotal: 664ms\tremaining: 258ms\n",
      "720:\tlearn: 0.0854723\ttotal: 665ms\tremaining: 257ms\n",
      "721:\tlearn: 0.0854114\ttotal: 666ms\tremaining: 256ms\n",
      "722:\tlearn: 0.0852241\ttotal: 667ms\tremaining: 256ms\n",
      "723:\tlearn: 0.0850595\ttotal: 668ms\tremaining: 255ms\n",
      "724:\tlearn: 0.0849290\ttotal: 669ms\tremaining: 254ms\n",
      "725:\tlearn: 0.0848418\ttotal: 669ms\tremaining: 253ms\n",
      "726:\tlearn: 0.0847275\ttotal: 670ms\tremaining: 252ms\n",
      "727:\tlearn: 0.0846013\ttotal: 671ms\tremaining: 251ms\n",
      "728:\tlearn: 0.0845448\ttotal: 672ms\tremaining: 250ms\n",
      "729:\tlearn: 0.0843103\ttotal: 673ms\tremaining: 249ms\n",
      "730:\tlearn: 0.0841172\ttotal: 674ms\tremaining: 248ms\n",
      "731:\tlearn: 0.0840699\ttotal: 674ms\tremaining: 247ms\n",
      "732:\tlearn: 0.0838985\ttotal: 675ms\tremaining: 246ms\n",
      "733:\tlearn: 0.0837383\ttotal: 676ms\tremaining: 245ms\n",
      "734:\tlearn: 0.0835143\ttotal: 677ms\tremaining: 244ms\n",
      "735:\tlearn: 0.0833864\ttotal: 678ms\tremaining: 243ms\n",
      "736:\tlearn: 0.0833482\ttotal: 678ms\tremaining: 242ms\n",
      "737:\tlearn: 0.0832471\ttotal: 679ms\tremaining: 241ms\n",
      "738:\tlearn: 0.0830899\ttotal: 680ms\tremaining: 240ms\n",
      "739:\tlearn: 0.0829875\ttotal: 681ms\tremaining: 239ms\n",
      "740:\tlearn: 0.0829455\ttotal: 682ms\tremaining: 238ms\n",
      "741:\tlearn: 0.0829087\ttotal: 683ms\tremaining: 237ms\n",
      "742:\tlearn: 0.0827905\ttotal: 684ms\tremaining: 236ms\n",
      "743:\tlearn: 0.0826411\ttotal: 684ms\tremaining: 235ms\n",
      "744:\tlearn: 0.0825913\ttotal: 685ms\tremaining: 235ms\n",
      "745:\tlearn: 0.0824691\ttotal: 686ms\tremaining: 234ms\n",
      "746:\tlearn: 0.0823468\ttotal: 687ms\tremaining: 233ms\n",
      "747:\tlearn: 0.0822171\ttotal: 688ms\tremaining: 232ms\n",
      "748:\tlearn: 0.0821117\ttotal: 689ms\tremaining: 231ms\n",
      "749:\tlearn: 0.0820317\ttotal: 689ms\tremaining: 230ms\n",
      "750:\tlearn: 0.0818932\ttotal: 690ms\tremaining: 229ms\n",
      "751:\tlearn: 0.0817861\ttotal: 691ms\tremaining: 228ms\n",
      "752:\tlearn: 0.0816512\ttotal: 692ms\tremaining: 227ms\n",
      "753:\tlearn: 0.0815473\ttotal: 693ms\tremaining: 226ms\n",
      "754:\tlearn: 0.0814489\ttotal: 694ms\tremaining: 225ms\n",
      "755:\tlearn: 0.0812984\ttotal: 694ms\tremaining: 224ms\n",
      "756:\tlearn: 0.0811252\ttotal: 695ms\tremaining: 223ms\n",
      "757:\tlearn: 0.0809212\ttotal: 696ms\tremaining: 222ms\n",
      "758:\tlearn: 0.0808163\ttotal: 697ms\tremaining: 221ms\n",
      "759:\tlearn: 0.0806708\ttotal: 697ms\tremaining: 220ms\n",
      "760:\tlearn: 0.0805261\ttotal: 699ms\tremaining: 219ms\n",
      "761:\tlearn: 0.0804276\ttotal: 700ms\tremaining: 219ms\n",
      "762:\tlearn: 0.0802168\ttotal: 701ms\tremaining: 218ms\n",
      "763:\tlearn: 0.0800517\ttotal: 701ms\tremaining: 217ms\n",
      "764:\tlearn: 0.0798406\ttotal: 702ms\tremaining: 216ms\n",
      "765:\tlearn: 0.0797249\ttotal: 703ms\tremaining: 215ms\n",
      "766:\tlearn: 0.0795635\ttotal: 704ms\tremaining: 214ms\n",
      "767:\tlearn: 0.0794438\ttotal: 705ms\tremaining: 213ms\n",
      "768:\tlearn: 0.0794089\ttotal: 706ms\tremaining: 212ms\n",
      "769:\tlearn: 0.0792459\ttotal: 706ms\tremaining: 211ms\n",
      "770:\tlearn: 0.0790972\ttotal: 707ms\tremaining: 210ms\n",
      "771:\tlearn: 0.0789510\ttotal: 708ms\tremaining: 209ms\n",
      "772:\tlearn: 0.0788656\ttotal: 709ms\tremaining: 208ms\n",
      "773:\tlearn: 0.0787370\ttotal: 710ms\tremaining: 207ms\n",
      "774:\tlearn: 0.0786126\ttotal: 710ms\tremaining: 206ms\n",
      "775:\tlearn: 0.0785637\ttotal: 711ms\tremaining: 205ms\n",
      "776:\tlearn: 0.0784585\ttotal: 712ms\tremaining: 204ms\n",
      "777:\tlearn: 0.0783720\ttotal: 713ms\tremaining: 203ms\n",
      "778:\tlearn: 0.0783312\ttotal: 714ms\tremaining: 202ms\n",
      "779:\tlearn: 0.0782606\ttotal: 714ms\tremaining: 201ms\n",
      "780:\tlearn: 0.0781106\ttotal: 715ms\tremaining: 201ms\n",
      "781:\tlearn: 0.0779814\ttotal: 716ms\tremaining: 200ms\n",
      "782:\tlearn: 0.0778776\ttotal: 717ms\tremaining: 199ms\n",
      "783:\tlearn: 0.0776839\ttotal: 717ms\tremaining: 198ms\n",
      "784:\tlearn: 0.0776303\ttotal: 718ms\tremaining: 197ms\n",
      "785:\tlearn: 0.0774531\ttotal: 719ms\tremaining: 196ms\n",
      "786:\tlearn: 0.0772882\ttotal: 720ms\tremaining: 195ms\n",
      "787:\tlearn: 0.0772642\ttotal: 721ms\tremaining: 194ms\n",
      "788:\tlearn: 0.0772394\ttotal: 722ms\tremaining: 193ms\n",
      "789:\tlearn: 0.0772042\ttotal: 722ms\tremaining: 192ms\n",
      "790:\tlearn: 0.0771643\ttotal: 723ms\tremaining: 191ms\n",
      "791:\tlearn: 0.0770328\ttotal: 724ms\tremaining: 190ms\n",
      "792:\tlearn: 0.0768419\ttotal: 725ms\tremaining: 189ms\n",
      "793:\tlearn: 0.0767650\ttotal: 725ms\tremaining: 188ms\n",
      "794:\tlearn: 0.0765972\ttotal: 726ms\tremaining: 187ms\n",
      "795:\tlearn: 0.0765077\ttotal: 727ms\tremaining: 186ms\n",
      "796:\tlearn: 0.0763350\ttotal: 729ms\tremaining: 186ms\n",
      "797:\tlearn: 0.0761953\ttotal: 729ms\tremaining: 185ms\n",
      "798:\tlearn: 0.0760384\ttotal: 730ms\tremaining: 184ms\n",
      "799:\tlearn: 0.0758890\ttotal: 731ms\tremaining: 183ms\n",
      "800:\tlearn: 0.0757815\ttotal: 732ms\tremaining: 182ms\n",
      "801:\tlearn: 0.0756731\ttotal: 733ms\tremaining: 181ms\n",
      "802:\tlearn: 0.0755918\ttotal: 734ms\tremaining: 180ms\n",
      "803:\tlearn: 0.0754739\ttotal: 734ms\tremaining: 179ms\n",
      "804:\tlearn: 0.0753185\ttotal: 735ms\tremaining: 178ms\n",
      "805:\tlearn: 0.0752243\ttotal: 736ms\tremaining: 177ms\n",
      "806:\tlearn: 0.0750795\ttotal: 737ms\tremaining: 176ms\n",
      "807:\tlearn: 0.0750496\ttotal: 738ms\tremaining: 175ms\n",
      "808:\tlearn: 0.0749522\ttotal: 739ms\tremaining: 174ms\n",
      "809:\tlearn: 0.0747889\ttotal: 740ms\tremaining: 173ms\n",
      "810:\tlearn: 0.0746889\ttotal: 740ms\tremaining: 173ms\n",
      "811:\tlearn: 0.0746477\ttotal: 741ms\tremaining: 172ms\n",
      "812:\tlearn: 0.0745362\ttotal: 742ms\tremaining: 171ms\n",
      "813:\tlearn: 0.0745082\ttotal: 743ms\tremaining: 170ms\n",
      "814:\tlearn: 0.0744569\ttotal: 744ms\tremaining: 169ms\n",
      "815:\tlearn: 0.0744113\ttotal: 745ms\tremaining: 168ms\n"
     ]
    },
    {
     "name": "stdout",
     "output_type": "stream",
     "text": [
      "816:\tlearn: 0.0743064\ttotal: 746ms\tremaining: 167ms\n",
      "817:\tlearn: 0.0741995\ttotal: 747ms\tremaining: 166ms\n",
      "818:\tlearn: 0.0740307\ttotal: 747ms\tremaining: 165ms\n",
      "819:\tlearn: 0.0739324\ttotal: 748ms\tremaining: 164ms\n",
      "820:\tlearn: 0.0737869\ttotal: 749ms\tremaining: 163ms\n",
      "821:\tlearn: 0.0737654\ttotal: 750ms\tremaining: 162ms\n",
      "822:\tlearn: 0.0736839\ttotal: 751ms\tremaining: 161ms\n",
      "823:\tlearn: 0.0735369\ttotal: 752ms\tremaining: 161ms\n",
      "824:\tlearn: 0.0734115\ttotal: 753ms\tremaining: 160ms\n",
      "825:\tlearn: 0.0732652\ttotal: 753ms\tremaining: 159ms\n",
      "826:\tlearn: 0.0731031\ttotal: 754ms\tremaining: 158ms\n",
      "827:\tlearn: 0.0730715\ttotal: 755ms\tremaining: 157ms\n",
      "828:\tlearn: 0.0729482\ttotal: 756ms\tremaining: 156ms\n",
      "829:\tlearn: 0.0728268\ttotal: 757ms\tremaining: 155ms\n",
      "830:\tlearn: 0.0727357\ttotal: 758ms\tremaining: 154ms\n",
      "831:\tlearn: 0.0726659\ttotal: 758ms\tremaining: 153ms\n",
      "832:\tlearn: 0.0725302\ttotal: 760ms\tremaining: 152ms\n",
      "833:\tlearn: 0.0724311\ttotal: 760ms\tremaining: 151ms\n",
      "834:\tlearn: 0.0723280\ttotal: 761ms\tremaining: 150ms\n",
      "835:\tlearn: 0.0723183\ttotal: 762ms\tremaining: 150ms\n",
      "836:\tlearn: 0.0722528\ttotal: 763ms\tremaining: 149ms\n",
      "837:\tlearn: 0.0722296\ttotal: 764ms\tremaining: 148ms\n",
      "838:\tlearn: 0.0721750\ttotal: 765ms\tremaining: 147ms\n",
      "839:\tlearn: 0.0720413\ttotal: 765ms\tremaining: 146ms\n",
      "840:\tlearn: 0.0719067\ttotal: 766ms\tremaining: 145ms\n",
      "841:\tlearn: 0.0718212\ttotal: 767ms\tremaining: 144ms\n",
      "842:\tlearn: 0.0717320\ttotal: 768ms\tremaining: 143ms\n",
      "843:\tlearn: 0.0715556\ttotal: 769ms\tremaining: 142ms\n",
      "844:\tlearn: 0.0715132\ttotal: 770ms\tremaining: 141ms\n",
      "845:\tlearn: 0.0714608\ttotal: 770ms\tremaining: 140ms\n",
      "846:\tlearn: 0.0714242\ttotal: 771ms\tremaining: 139ms\n",
      "847:\tlearn: 0.0712629\ttotal: 772ms\tremaining: 138ms\n",
      "848:\tlearn: 0.0712277\ttotal: 773ms\tremaining: 137ms\n",
      "849:\tlearn: 0.0711111\ttotal: 774ms\tremaining: 137ms\n",
      "850:\tlearn: 0.0710390\ttotal: 775ms\tremaining: 136ms\n",
      "851:\tlearn: 0.0709150\ttotal: 776ms\tremaining: 135ms\n",
      "852:\tlearn: 0.0707674\ttotal: 777ms\tremaining: 134ms\n",
      "853:\tlearn: 0.0706417\ttotal: 778ms\tremaining: 133ms\n",
      "854:\tlearn: 0.0705471\ttotal: 779ms\tremaining: 132ms\n",
      "855:\tlearn: 0.0703689\ttotal: 779ms\tremaining: 131ms\n",
      "856:\tlearn: 0.0702535\ttotal: 780ms\tremaining: 130ms\n",
      "857:\tlearn: 0.0702040\ttotal: 781ms\tremaining: 129ms\n",
      "858:\tlearn: 0.0701011\ttotal: 782ms\tremaining: 128ms\n",
      "859:\tlearn: 0.0699400\ttotal: 783ms\tremaining: 127ms\n",
      "860:\tlearn: 0.0699302\ttotal: 784ms\tremaining: 126ms\n",
      "861:\tlearn: 0.0697958\ttotal: 784ms\tremaining: 126ms\n",
      "862:\tlearn: 0.0695986\ttotal: 785ms\tremaining: 125ms\n",
      "863:\tlearn: 0.0695287\ttotal: 786ms\tremaining: 124ms\n",
      "864:\tlearn: 0.0694141\ttotal: 787ms\tremaining: 123ms\n",
      "865:\tlearn: 0.0693265\ttotal: 787ms\tremaining: 122ms\n",
      "866:\tlearn: 0.0692206\ttotal: 788ms\tremaining: 121ms\n",
      "867:\tlearn: 0.0691105\ttotal: 789ms\tremaining: 120ms\n",
      "868:\tlearn: 0.0690848\ttotal: 790ms\tremaining: 119ms\n",
      "869:\tlearn: 0.0689728\ttotal: 791ms\tremaining: 118ms\n",
      "870:\tlearn: 0.0689502\ttotal: 792ms\tremaining: 117ms\n",
      "871:\tlearn: 0.0688876\ttotal: 792ms\tremaining: 116ms\n",
      "872:\tlearn: 0.0687170\ttotal: 793ms\tremaining: 115ms\n",
      "873:\tlearn: 0.0686924\ttotal: 794ms\tremaining: 114ms\n",
      "874:\tlearn: 0.0686163\ttotal: 795ms\tremaining: 114ms\n",
      "875:\tlearn: 0.0685821\ttotal: 796ms\tremaining: 113ms\n",
      "876:\tlearn: 0.0684429\ttotal: 797ms\tremaining: 112ms\n",
      "877:\tlearn: 0.0683520\ttotal: 798ms\tremaining: 111ms\n",
      "878:\tlearn: 0.0682724\ttotal: 798ms\tremaining: 110ms\n",
      "879:\tlearn: 0.0682475\ttotal: 799ms\tremaining: 109ms\n",
      "880:\tlearn: 0.0681747\ttotal: 801ms\tremaining: 108ms\n",
      "881:\tlearn: 0.0680269\ttotal: 802ms\tremaining: 107ms\n",
      "882:\tlearn: 0.0679952\ttotal: 803ms\tremaining: 106ms\n",
      "883:\tlearn: 0.0679024\ttotal: 804ms\tremaining: 105ms\n",
      "884:\tlearn: 0.0677860\ttotal: 804ms\tremaining: 105ms\n",
      "885:\tlearn: 0.0677769\ttotal: 805ms\tremaining: 104ms\n",
      "886:\tlearn: 0.0676763\ttotal: 806ms\tremaining: 103ms\n",
      "887:\tlearn: 0.0675967\ttotal: 807ms\tremaining: 102ms\n",
      "888:\tlearn: 0.0675583\ttotal: 808ms\tremaining: 101ms\n",
      "889:\tlearn: 0.0673977\ttotal: 808ms\tremaining: 99.9ms\n",
      "890:\tlearn: 0.0673448\ttotal: 810ms\tremaining: 99.1ms\n",
      "891:\tlearn: 0.0672200\ttotal: 811ms\tremaining: 98.2ms\n",
      "892:\tlearn: 0.0670443\ttotal: 812ms\tremaining: 97.2ms\n",
      "893:\tlearn: 0.0670212\ttotal: 812ms\tremaining: 96.3ms\n",
      "894:\tlearn: 0.0668798\ttotal: 813ms\tremaining: 95.4ms\n",
      "895:\tlearn: 0.0667676\ttotal: 814ms\tremaining: 94.5ms\n",
      "896:\tlearn: 0.0667238\ttotal: 815ms\tremaining: 93.6ms\n",
      "897:\tlearn: 0.0665877\ttotal: 816ms\tremaining: 92.7ms\n",
      "898:\tlearn: 0.0664934\ttotal: 817ms\tremaining: 91.7ms\n",
      "899:\tlearn: 0.0664061\ttotal: 817ms\tremaining: 90.8ms\n",
      "900:\tlearn: 0.0663489\ttotal: 818ms\tremaining: 89.9ms\n",
      "901:\tlearn: 0.0662658\ttotal: 819ms\tremaining: 89ms\n",
      "902:\tlearn: 0.0662401\ttotal: 820ms\tremaining: 88ms\n",
      "903:\tlearn: 0.0662131\ttotal: 820ms\tremaining: 87.1ms\n",
      "904:\tlearn: 0.0661151\ttotal: 821ms\tremaining: 86.2ms\n",
      "905:\tlearn: 0.0660349\ttotal: 822ms\tremaining: 85.3ms\n",
      "906:\tlearn: 0.0660136\ttotal: 823ms\tremaining: 84.4ms\n",
      "907:\tlearn: 0.0659637\ttotal: 824ms\tremaining: 83.5ms\n",
      "908:\tlearn: 0.0658197\ttotal: 824ms\tremaining: 82.5ms\n",
      "909:\tlearn: 0.0657054\ttotal: 825ms\tremaining: 81.6ms\n",
      "910:\tlearn: 0.0656779\ttotal: 826ms\tremaining: 80.7ms\n",
      "911:\tlearn: 0.0656244\ttotal: 827ms\tremaining: 79.8ms\n",
      "912:\tlearn: 0.0655271\ttotal: 828ms\tremaining: 78.9ms\n",
      "913:\tlearn: 0.0654087\ttotal: 828ms\tremaining: 77.9ms\n",
      "914:\tlearn: 0.0653214\ttotal: 829ms\tremaining: 77ms\n",
      "915:\tlearn: 0.0652105\ttotal: 830ms\tremaining: 76.1ms\n",
      "916:\tlearn: 0.0650933\ttotal: 831ms\tremaining: 75.2ms\n",
      "917:\tlearn: 0.0649662\ttotal: 832ms\tremaining: 74.3ms\n",
      "918:\tlearn: 0.0649319\ttotal: 832ms\tremaining: 73.4ms\n",
      "919:\tlearn: 0.0648885\ttotal: 833ms\tremaining: 72.5ms\n",
      "920:\tlearn: 0.0647718\ttotal: 834ms\tremaining: 71.5ms\n",
      "921:\tlearn: 0.0646793\ttotal: 835ms\tremaining: 70.6ms\n",
      "922:\tlearn: 0.0645712\ttotal: 836ms\tremaining: 69.7ms\n",
      "923:\tlearn: 0.0644697\ttotal: 837ms\tremaining: 68.8ms\n",
      "924:\tlearn: 0.0643791\ttotal: 837ms\tremaining: 67.9ms\n",
      "925:\tlearn: 0.0643252\ttotal: 838ms\tremaining: 67ms\n",
      "926:\tlearn: 0.0642458\ttotal: 839ms\tremaining: 66.1ms\n",
      "927:\tlearn: 0.0641573\ttotal: 839ms\tremaining: 65.1ms\n",
      "928:\tlearn: 0.0640186\ttotal: 840ms\tremaining: 64.2ms\n",
      "929:\tlearn: 0.0639439\ttotal: 841ms\tremaining: 63.3ms\n",
      "930:\tlearn: 0.0638706\ttotal: 842ms\tremaining: 62.4ms\n",
      "931:\tlearn: 0.0637474\ttotal: 843ms\tremaining: 61.5ms\n",
      "932:\tlearn: 0.0636012\ttotal: 844ms\tremaining: 60.6ms\n",
      "933:\tlearn: 0.0635004\ttotal: 844ms\tremaining: 59.7ms\n",
      "934:\tlearn: 0.0634024\ttotal: 845ms\tremaining: 58.8ms\n",
      "935:\tlearn: 0.0633480\ttotal: 846ms\tremaining: 57.9ms\n",
      "936:\tlearn: 0.0633393\ttotal: 847ms\tremaining: 56.9ms\n",
      "937:\tlearn: 0.0632514\ttotal: 848ms\tremaining: 56ms\n",
      "938:\tlearn: 0.0631774\ttotal: 849ms\tremaining: 55.1ms\n",
      "939:\tlearn: 0.0630136\ttotal: 849ms\tremaining: 54.2ms\n",
      "940:\tlearn: 0.0629193\ttotal: 850ms\tremaining: 53.3ms\n",
      "941:\tlearn: 0.0628631\ttotal: 851ms\tremaining: 52.4ms\n",
      "942:\tlearn: 0.0627615\ttotal: 852ms\tremaining: 51.5ms\n",
      "943:\tlearn: 0.0627255\ttotal: 853ms\tremaining: 50.6ms\n",
      "944:\tlearn: 0.0626611\ttotal: 853ms\tremaining: 49.7ms\n"
     ]
    },
    {
     "name": "stdout",
     "output_type": "stream",
     "text": [
      "945:\tlearn: 0.0625490\ttotal: 854ms\tremaining: 48.8ms\n",
      "946:\tlearn: 0.0625082\ttotal: 855ms\tremaining: 47.9ms\n",
      "947:\tlearn: 0.0624991\ttotal: 856ms\tremaining: 47ms\n",
      "948:\tlearn: 0.0624091\ttotal: 857ms\tremaining: 46ms\n",
      "949:\tlearn: 0.0623471\ttotal: 858ms\tremaining: 45.1ms\n",
      "950:\tlearn: 0.0622327\ttotal: 858ms\tremaining: 44.2ms\n",
      "951:\tlearn: 0.0621557\ttotal: 859ms\tremaining: 43.3ms\n",
      "952:\tlearn: 0.0620221\ttotal: 860ms\tremaining: 42.4ms\n",
      "953:\tlearn: 0.0618829\ttotal: 861ms\tremaining: 41.5ms\n",
      "954:\tlearn: 0.0617972\ttotal: 862ms\tremaining: 40.6ms\n",
      "955:\tlearn: 0.0616605\ttotal: 862ms\tremaining: 39.7ms\n",
      "956:\tlearn: 0.0616308\ttotal: 863ms\tremaining: 38.8ms\n",
      "957:\tlearn: 0.0615201\ttotal: 864ms\tremaining: 37.9ms\n",
      "958:\tlearn: 0.0614324\ttotal: 865ms\tremaining: 37ms\n",
      "959:\tlearn: 0.0613027\ttotal: 866ms\tremaining: 36.1ms\n",
      "960:\tlearn: 0.0612304\ttotal: 867ms\tremaining: 35.2ms\n",
      "961:\tlearn: 0.0611502\ttotal: 868ms\tremaining: 34.3ms\n",
      "962:\tlearn: 0.0610391\ttotal: 869ms\tremaining: 33.4ms\n",
      "963:\tlearn: 0.0609941\ttotal: 869ms\tremaining: 32.5ms\n",
      "964:\tlearn: 0.0609685\ttotal: 870ms\tremaining: 31.6ms\n",
      "965:\tlearn: 0.0608265\ttotal: 871ms\tremaining: 30.7ms\n",
      "966:\tlearn: 0.0608054\ttotal: 872ms\tremaining: 29.8ms\n",
      "967:\tlearn: 0.0607676\ttotal: 873ms\tremaining: 28.9ms\n",
      "968:\tlearn: 0.0606937\ttotal: 874ms\tremaining: 27.9ms\n",
      "969:\tlearn: 0.0606306\ttotal: 874ms\tremaining: 27ms\n",
      "970:\tlearn: 0.0606027\ttotal: 875ms\tremaining: 26.1ms\n",
      "971:\tlearn: 0.0605084\ttotal: 876ms\tremaining: 25.2ms\n",
      "972:\tlearn: 0.0604424\ttotal: 877ms\tremaining: 24.3ms\n",
      "973:\tlearn: 0.0603440\ttotal: 878ms\tremaining: 23.4ms\n",
      "974:\tlearn: 0.0602670\ttotal: 878ms\tremaining: 22.5ms\n",
      "975:\tlearn: 0.0601800\ttotal: 879ms\tremaining: 21.6ms\n",
      "976:\tlearn: 0.0601249\ttotal: 880ms\tremaining: 20.7ms\n",
      "977:\tlearn: 0.0599923\ttotal: 881ms\tremaining: 19.8ms\n",
      "978:\tlearn: 0.0599021\ttotal: 882ms\tremaining: 18.9ms\n",
      "979:\tlearn: 0.0598451\ttotal: 882ms\tremaining: 18ms\n",
      "980:\tlearn: 0.0597999\ttotal: 883ms\tremaining: 17.1ms\n",
      "981:\tlearn: 0.0597130\ttotal: 884ms\tremaining: 16.2ms\n",
      "982:\tlearn: 0.0596782\ttotal: 885ms\tremaining: 15.3ms\n",
      "983:\tlearn: 0.0595724\ttotal: 886ms\tremaining: 14.4ms\n",
      "984:\tlearn: 0.0594696\ttotal: 887ms\tremaining: 13.5ms\n",
      "985:\tlearn: 0.0593384\ttotal: 888ms\tremaining: 12.6ms\n",
      "986:\tlearn: 0.0593118\ttotal: 888ms\tremaining: 11.7ms\n",
      "987:\tlearn: 0.0592821\ttotal: 889ms\tremaining: 10.8ms\n",
      "988:\tlearn: 0.0592756\ttotal: 890ms\tremaining: 9.9ms\n",
      "989:\tlearn: 0.0592247\ttotal: 891ms\tremaining: 9ms\n",
      "990:\tlearn: 0.0591975\ttotal: 892ms\tremaining: 8.1ms\n",
      "991:\tlearn: 0.0591037\ttotal: 892ms\tremaining: 7.2ms\n",
      "992:\tlearn: 0.0589777\ttotal: 893ms\tremaining: 6.3ms\n",
      "993:\tlearn: 0.0589735\ttotal: 894ms\tremaining: 5.39ms\n",
      "994:\tlearn: 0.0589532\ttotal: 895ms\tremaining: 4.5ms\n",
      "995:\tlearn: 0.0589215\ttotal: 895ms\tremaining: 3.6ms\n",
      "996:\tlearn: 0.0588554\ttotal: 896ms\tremaining: 2.7ms\n",
      "997:\tlearn: 0.0587460\ttotal: 897ms\tremaining: 1.8ms\n",
      "998:\tlearn: 0.0587083\ttotal: 898ms\tremaining: 898us\n",
      "999:\tlearn: 0.0586114\ttotal: 899ms\tremaining: 0us\n"
     ]
    },
    {
     "data": {
      "text/plain": [
       "<catboost.core.CatBoostRegressor at 0x7fa29b587f70>"
      ]
     },
     "execution_count": 9,
     "metadata": {},
     "output_type": "execute_result"
    }
   ],
   "source": [
    "#Train the Model \n",
    "prior_model = ctb.CatBoostRegressor()\n",
    "prior_model.fit(X_train,Y_train)"
   ]
  },
  {
   "cell_type": "code",
   "execution_count": 10,
   "id": "af65dcda",
   "metadata": {
    "execution": {
     "iopub.execute_input": "2022-03-11T10:15:40.248642Z",
     "iopub.status.busy": "2022-03-11T10:15:40.248267Z",
     "iopub.status.idle": "2022-03-11T10:15:40.255588Z",
     "shell.execute_reply": "2022-03-11T10:15:40.255875Z"
    },
    "id": "af65dcda",
    "papermill": {
     "duration": 0.020545,
     "end_time": "2022-03-11T10:15:40.255986",
     "exception": false,
     "start_time": "2022-03-11T10:15:40.235441",
     "status": "completed"
    },
    "tags": []
   },
   "outputs": [
    {
     "data": {
      "application/scrapbook.scrap.json+json": {
       "data": 0.11786394413562809,
       "encoder": "json",
       "name": "Prior Model MSE",
       "version": 1
      }
     },
     "metadata": {
      "scrapbook": {
       "data": true,
       "display": false,
       "name": "Prior Model MSE"
      }
     },
     "output_type": "display_data"
    },
    {
     "data": {
      "application/scrapbook.scrap.json+json": {
       "data": 0.1173640775801152,
       "encoder": "json",
       "name": "ABC Pre-generator MSE",
       "version": 1
      }
     },
     "metadata": {
      "scrapbook": {
       "data": true,
       "display": false,
       "name": "ABC Pre-generator MSE"
      }
     },
     "output_type": "display_data"
    },
    {
     "data": {
      "application/scrapbook.scrap.json+json": {
       "data": 0.22757681637059654,
       "encoder": "json",
       "name": "Prior Model MAE",
       "version": 1
      }
     },
     "metadata": {
      "scrapbook": {
       "data": true,
       "display": false,
       "name": "Prior Model MAE"
      }
     },
     "output_type": "display_data"
    },
    {
     "data": {
      "application/scrapbook.scrap.json+json": {
       "data": 0.2273513028941247,
       "encoder": "json",
       "name": "ABC Pre-generator MAE",
       "version": 1
      }
     },
     "metadata": {
      "scrapbook": {
       "data": true,
       "display": false,
       "name": "ABC Pre-generator MAE"
      }
     },
     "output_type": "display_data"
    }
   ],
   "source": [
    "y_pred = prior_model.predict(X_test)\n",
    "y_abc = y_pred + np.random.normal(0,variance, y_pred.shape)\n",
    "mse = mean_squared_error(y_pred,Y_test)\n",
    "sb.glue(\"Prior Model MSE\",mse)\n",
    "mse = mean_squared_error(y_abc,Y_test)\n",
    "sb.glue(\"ABC Pre-generator MSE\",mse)\n",
    "\n",
    "mae = mean_absolute_error(y_pred,Y_test)\n",
    "sb.glue(\"Prior Model MAE\",mae)\n",
    "mae = mean_absolute_error(y_abc,Y_test)\n",
    "sb.glue(\"ABC Pre-generator MAE\",mae)"
   ]
  },
  {
   "cell_type": "markdown",
   "id": "25609da2",
   "metadata": {
    "papermill": {
     "duration": 0.009812,
     "end_time": "2022-03-11T10:15:40.275882",
     "exception": false,
     "start_time": "2022-03-11T10:15:40.266070",
     "status": "completed"
    },
    "tags": []
   },
   "source": [
    "# ABC GAN Model"
   ]
  },
  {
   "cell_type": "code",
   "execution_count": 11,
   "id": "dfc3464d",
   "metadata": {
    "execution": {
     "iopub.execute_input": "2022-03-11T10:15:40.298256Z",
     "iopub.status.busy": "2022-03-11T10:15:40.297879Z",
     "iopub.status.idle": "2022-03-11T10:15:40.300430Z",
     "shell.execute_reply": "2022-03-11T10:15:40.300679Z"
    },
    "papermill": {
     "duration": 0.015125,
     "end_time": "2022-03-11T10:15:40.300788",
     "exception": false,
     "start_time": "2022-03-11T10:15:40.285663",
     "status": "completed"
    },
    "tags": []
   },
   "outputs": [],
   "source": [
    "gen = network.Generator(n_features+1).to(device)\n",
    "disc = network.Discriminator(n_features+1).to(device)\n",
    "\n",
    "criterion = torch.nn.BCELoss()\n",
    "gen_opt = torch.optim.Adam(gen.parameters(), lr=0.001, betas=(0.5, 0.999))\n",
    "disc_opt = torch.optim.Adam(disc.parameters(), lr=0.001, betas=(0.5, 0.999))"
   ]
  },
  {
   "cell_type": "code",
   "execution_count": 12,
   "id": "b75fdd85",
   "metadata": {
    "execution": {
     "iopub.execute_input": "2022-03-11T10:15:40.322918Z",
     "iopub.status.busy": "2022-03-11T10:15:40.322559Z",
     "iopub.status.idle": "2022-03-11T10:16:16.758443Z",
     "shell.execute_reply": "2022-03-11T10:16:16.758848Z"
    },
    "papermill": {
     "duration": 36.448144,
     "end_time": "2022-03-11T10:16:16.758989",
     "exception": false,
     "start_time": "2022-03-11T10:15:40.310845",
     "status": "completed"
    },
    "tags": []
   },
   "outputs": [
    {
     "data": {
      "image/png": "[encoded data removed]",
      "text/plain": [
       "<Figure size 432x288 with 1 Axes>"
      ]
     },
     "metadata": {
      "needs_background": "light"
     },
     "output_type": "display_data"
    },
    {
     "data": {
      "image/png": "[encoded data removed]",
      "text/plain": [
       "<Figure size 432x288 with 1 Axes>"
      ]
     },
     "metadata": {
      "needs_background": "light"
     },
     "output_type": "display_data"
    }
   ],
   "source": [
    "#Training the ABC_GAN \n",
    "ABC_train_test2.training_GAN(disc,gen,disc_opt,gen_opt,train_data,batch_size,n_epochs,criterion,prior_model,variance,0,device)"
   ]
  },
  {
   "cell_type": "code",
   "execution_count": 13,
   "id": "1fa7c368",
   "metadata": {
    "execution": {
     "iopub.execute_input": "2022-03-11T10:16:16.783348Z",
     "iopub.status.busy": "2022-03-11T10:16:16.782991Z",
     "iopub.status.idle": "2022-03-11T10:16:17.088824Z",
     "shell.execute_reply": "2022-03-11T10:16:17.089151Z"
    },
    "papermill": {
     "duration": 0.319296,
     "end_time": "2022-03-11T10:16:17.089268",
     "exception": false,
     "start_time": "2022-03-11T10:16:16.769972",
     "status": "completed"
    },
    "tags": []
   },
   "outputs": [
    {
     "data": {
      "application/scrapbook.scrap.json+json": {
       "data": 0.12639063750873836,
       "encoder": "json",
       "name": "ABC-GAN Model 1 MSE",
       "version": 1
      }
     },
     "metadata": {
      "scrapbook": {
       "data": true,
       "display": false,
       "name": "ABC-GAN Model 1 MSE"
      }
     },
     "output_type": "display_data"
    },
    {
     "data": {
      "application/scrapbook.scrap.json+json": {
       "data": 0.2302443508128179,
       "encoder": "json",
       "name": "ABC-GAN Model 1 MAE",
       "version": 1
      }
     },
     "metadata": {
      "scrapbook": {
       "data": true,
       "display": false,
       "name": "ABC-GAN Model 1 MAE"
      }
     },
     "output_type": "display_data"
    },
    {
     "data": {
      "application/scrapbook.scrap.json+json": {
       "data": 23.484923782907426,
       "encoder": "json",
       "name": "ABC-GAN Model 1 Manhattan Distance",
       "version": 1
      }
     },
     "metadata": {
      "scrapbook": {
       "data": true,
       "display": false,
       "name": "ABC-GAN Model 1 Manhattan Distance"
      }
     },
     "output_type": "display_data"
    },
    {
     "data": {
      "application/scrapbook.scrap.json+json": {
       "data": 3.5905080049159284,
       "encoder": "json",
       "name": "ABC-GAN Model 1 Euclidean distance",
       "version": 1
      }
     },
     "metadata": {
      "scrapbook": {
       "data": true,
       "display": false,
       "name": "ABC-GAN Model 1 Euclidean distance"
      }
     },
     "output_type": "display_data"
    },
    {
     "data": {
      "application/scrapbook.scrap.json+json": {
       "data": [
        [
         0.12749510625753935,
         0.12636912385008223,
         0.12789038702091446,
         0.12561350833591028,
         0.12627765163951282,
         0.12720911816508346,
         0.12622154590600052,
         0.12666626547575732,
         0.12494056090449716,
         0.12783273133639503,
         0.12484011332257283,
         0.12695823860094738,
         0.12693036097508462,
         0.12602994796854824,
         0.12728456229880677,
         0.1259941378646598,
         0.1266048482197974,
         0.12691780444474,
         0.126516699449943,
         0.1265245102235525,
         0.12568558427787285,
         0.12631870337648166,
         0.12702539885027275,
         0.12732593764957417,
         0.12630480218305093,
         0.12746521202977143,
         0.1263568758512816,
         0.12730197821212777,
         0.12710077301504025,
         0.12529352751735987,
         0.12703800137497534,
         0.1273195606133554,
         0.12735313047346486,
         0.12618828919272743,
         0.12641021312219408,
         0.1270846509588311,
         0.1274284502724585,
         0.1269620224539708,
         0.126084519528578,
         0.1268258867696491,
         0.1254415759505074,
         0.12619378418011487,
         0.1263865107465668,
         0.12550373291801667,
         0.12569216059849211,
         0.12559628827035604,
         0.12600601277245999,
         0.125160529355502,
         0.12628349721620657,
         0.12591053495708754,
         0.12622977430225102,
         0.12700994480531758,
         0.12575206730179692,
         0.1259352159130367,
         0.12562124099191954,
         0.12497273234616721,
         0.1266789729003861,
         0.12566282594615777,
         0.1258883482349166,
         0.12581570133322917,
         0.12769140755374678,
         0.12598024936717012,
         0.12647047101171063,
         0.1257863079331942,
         0.1261887497170904,
         0.1262946575105153,
         0.12681186738320502,
         0.12648986513067054,
         0.12517102359793544,
         0.12692052216325897,
         0.12622685746404647,
         0.12617697051411478,
         0.12552547872071604,
         0.12613769145293324,
         0.1258677980566457,
         0.1256870058549878,
         0.1269631727630156,
         0.12689763497387813,
         0.1271683415119508,
         0.1273359926994474,
         0.12650272159736137,
         0.1270299589766509,
         0.12553359884766874,
         0.12645267661336745,
         0.1261597959961207,
         0.12609816400986706,
         0.12633300175540038,
         0.1263009456822306,
         0.12583393558748518,
         0.12709802460884229,
         0.1271444123199174,
         0.1268476139134902,
         0.12621133366239726,
         0.12555913655359724,
         0.1255287121374514,
         0.1267811767647972,
         0.12526007218435484,
         0.12738983116810818,
         0.1270799397300576,
         0.12639444236056552
        ],
        [
         0.23212302259772138,
         0.22893161961224442,
         0.23168926655917482,
         0.22992514891038632,
         0.23034916273044312,
         0.23132768035044565,
         0.2298922760722538,
         0.23066048293977098,
         0.2284796700228517,
         0.23290701472547418,
         0.22989775557253583,
         0.22993934664911791,
         0.23123660018010175,
         0.22902392799619073,
         0.23177191511928744,
         0.22906309927758925,
         0.23006334436107792,
         0.231577740790432,
         0.22934715821425997,
         0.23031307051104366,
         0.2290143970235744,
         0.2302757947450029,
         0.23234343250263848,
         0.23149255870421434,
         0.22968352617988108,
         0.2303239999284201,
         0.22988630340927663,
         0.2314823573254341,
         0.22989563233967797,
         0.2282001648153014,
         0.22989909996406413,
         0.23127908737161287,
         0.2304817835033378,
         0.23093473881154375,
         0.2296327753083817,
         0.23094349046803864,
         0.2306323484517634,
         0.2317575010945838,
         0.22878679036911503,
         0.23092677640527778,
         0.22828999518727264,
         0.2290311321232687,
         0.23104384332420488,
         0.2292585381964112,
         0.2305738325778614,
         0.2302621245365955,
         0.22885481599608765,
         0.22906742119869472,
         0.23057594299133793,
         0.22942427815139002,
         0.22959907662452145,
         0.22917967683215643,
         0.22971543551915707,
         0.230672434839767,
         0.23002015666890085,
         0.22855546163833318,
         0.22963012008946024,
         0.2315170800989019,
         0.23074323412797906,
         0.23058335982518746,
         0.2325239281498772,
         0.23083102000950306,
         0.2298435987995974,
         0.2295857542924875,
         0.22970783844699755,
         0.2299970430687216,
         0.23002147786867091,
         0.22939244861367578,
         0.22870155002958342,
         0.23057757141799026,
         0.23104467753357455,
         0.2301338935800481,
         0.22952611009389454,
         0.2310514230481988,
         0.22965689597870498,
         0.22939144636449568,
         0.2314491603870456,
         0.22984886950101047,
         0.23202053394497318,
         0.23004330628021968,
         0.2311350181607493,
         0.23132094257858163,
         0.228782651133324,
         0.22920836280921802,
         0.23013224521213593,
         0.23109062413191972,
         0.22948261532092504,
         0.23077018269538588,
         0.2301147488384124,
         0.23000857320741988,
         0.2317136826231053,
         0.2303555045258619,
         0.2290038681844724,
         0.2300227077257838,
         0.22859921553811313,
         0.23140615012094962,
         0.22897653949136534,
         0.2319025250754374,
         0.23165125559613692,
         0.2304192984421902
        ],
        [
         23.676548304967582,
         23.35102520044893,
         23.632305189035833,
         23.452365188859403,
         23.4956145985052,
         23.595423395745456,
         23.449012159369886,
         23.52736925985664,
         23.304926342330873,
         23.756515501998365,
         23.449571068398654,
         23.453813358210027,
         23.586133218370378,
         23.360440655611455,
         23.640735342167318,
         23.364436126314104,
         23.466461124829948,
         23.620929560624063,
         23.393410137854517,
         23.491933192126453,
         23.359468496404588,
         23.488131063990295,
         23.699030115269125,
         23.612240987829864,
         23.42771967034787,
         23.49304799269885,
         23.448402947746217,
         23.61120044719428,
         23.449354498647153,
         23.276416811160743,
         23.44970819633454,
         23.590466911904514,
         23.509141917340457,
         23.555343358777463,
         23.422543081454933,
         23.556236027739942,
         23.524499542079866,
         23.639265111647546,
         23.336252617649734,
         23.554531193338335,
         23.285579509101808,
         23.361175476573408,
         23.566472019068897,
         23.384370896033943,
         23.518530922941864,
         23.486736702732742,
         23.34319123160094,
         23.364876962266862,
         23.51874618511647,
         23.40127637144178,
         23.419105815701187,
         23.376327036879957,
         23.430974422954023,
         23.528588353656232,
         23.462055980227888,
         23.312657087109983,
         23.422272249124944,
         23.614742170087993,
         23.535809881053865,
         23.51950270216912,
         23.717440671287477,
         23.544764040969312,
         23.444047077558935,
         23.417746937833726,
         23.43019952159375,
         23.459698393009603,
         23.462190742604434,
         23.39802975859493,
         23.32755810301751,
         23.518912284635007,
         23.566557108424604,
         23.473657145164907,
         23.411663229577243,
         23.56724515091628,
         23.425003389827907,
         23.39792752917856,
         23.607814359478652,
         23.444584689103067,
         23.666094462387264,
         23.464417240582407,
         23.57577185239643,
         23.594736143015325,
         23.335830415599048,
         23.37925300654024,
         23.473489011637866,
         23.57124366145581,
         23.407226762734354,
         23.53855863492936,
         23.471704381518066,
         23.460874467156827,
         23.63479562755674,
         23.496261461637914,
         23.358394554816186,
         23.462316188029945,
         23.31711998488754,
         23.603427312336862,
         23.355607028119266,
         23.654057557694614,
         23.628428070805967,
         23.5027684411034
        ],
        [
         3.6061753754177026,
         3.5902159590626836,
         3.611761270645289,
         3.5794661403989907,
         3.5889163360588814,
         3.6021285447410825,
         3.588118961574721,
         3.594434458788649,
         3.569865153231801,
         3.6109470497796408,
         3.5684298450302236,
         3.598574764722366,
         3.598179653582993,
         3.58539463557248,
         3.6031965467454437,
         3.5848852230155575,
         3.5935629281284793,
         3.598001675008432,
         3.5923116991561552,
         3.5924225868906836,
         3.580492926447842,
         3.589499650982171,
         3.599526452566756,
         3.603782129965207,
         3.5893021358853585,
         3.6057525742952303,
         3.590041968672612,
         3.603443044872088,
         3.600594235335898,
         3.5749041674946618,
         3.5997050073926173,
         3.603691882301017,
         3.604166936795993,
         3.587646233627027,
         3.590799595976333,
         3.600365869991656,
         3.6052325761025132,
         3.598628390137695,
         3.586170797928475,
         3.5966985487394143,
         3.5770156201716192,
         3.5877243464864628,
         3.5904629361894007,
         3.5779017255421786,
         3.5805865973393516,
         3.579220781619418,
         3.5850541561866147,
         3.573006296420593,
         3.5889994031837156,
         3.583695657505381,
         3.5882359146005993,
         3.599307484800706,
         3.5814397753952645,
         3.5840468779202292,
         3.5795763130817306,
         3.570324733033265,
         3.594614754857519,
         3.5801687455353397,
         3.583379901707533,
         3.582345814684754,
         3.608950480469658,
         3.5846876342927487,
         3.5916553346882383,
         3.581927331645047,
         3.5876527801813847,
         3.5891579884525227,
         3.596499752966335,
         3.5919307124899267,
         3.573156084890418,
         3.598040197197971,
         3.5881944570121522,
         3.5874853299267593,
         3.5782116803667496,
         3.586926891950711,
         3.583087411964416,
         3.580513175120118,
         3.598644692356775,
         3.597715770782285,
         3.6015511705678955,
         3.6039244241997688,
         3.592113250293044,
         3.5995910622761578,
         3.578327414094776,
         3.5914026528034255,
         3.5872411671930156,
         3.5863648348998796,
         3.589702798150682,
         3.589247338870299,
         3.5826053969036957,
         3.6005553057968585,
         3.6012123037432238,
         3.597006619284429,
         3.5879738061424744,
         3.5786913709437025,
         3.5782577657318155,
         3.5960645197228196,
         3.5744268579457867,
         3.604686224783932,
         3.6002991337478996,
         3.5905755974185647
        ]
       ],
       "encoder": "json",
       "name": "ABC_GAN_1 Metrics",
       "version": 1
      }
     },
     "metadata": {
      "scrapbook": {
       "data": true,
       "display": false,
       "name": "ABC_GAN_1 Metrics"
      }
     },
     "output_type": "display_data"
    },
    {
     "name": "stdout",
     "output_type": "stream",
     "text": [
      "MSE\n",
      "0.12639063750873836\n"
     ]
    }
   ],
   "source": [
    "ABC_GAN1_metrics=ABC_train_test2.test_generator(gen,test_data,prior_model,variance,0,\"1\",device)\n",
    "sb.glue(\"ABC_GAN_1 Metrics\",ABC_GAN1_metrics)\n",
    "\n",
    "print(\"MSE\")\n",
    "print(mean(ABC_GAN1_metrics[0]))"
   ]
  },
  {
   "cell_type": "code",
   "execution_count": 14,
   "id": "eb22ce5c",
   "metadata": {
    "execution": {
     "iopub.execute_input": "2022-03-11T10:16:17.116655Z",
     "iopub.status.busy": "2022-03-11T10:16:17.116292Z",
     "iopub.status.idle": "2022-03-11T10:16:17.432825Z",
     "shell.execute_reply": "2022-03-11T10:16:17.433071Z"
    },
    "papermill": {
     "duration": 0.331316,
     "end_time": "2022-03-11T10:16:17.433193",
     "exception": false,
     "start_time": "2022-03-11T10:16:17.101877",
     "status": "completed"
    },
    "tags": []
   },
   "outputs": [
    {
     "data": {
      "image/png": "[encoded data removed]",
      "text/plain": [
       "<Figure size 432x288 with 1 Axes>"
      ]
     },
     "metadata": {
      "needs_background": "light"
     },
     "output_type": "display_data"
    },
    {
     "data": {
      "image/png": "[encoded data removed]",
      "text/plain": [
       "<Figure size 432x288 with 1 Axes>"
      ]
     },
     "metadata": {
      "needs_background": "light"
     },
     "output_type": "display_data"
    },
    {
     "data": {
      "image/png": "[encoded data removed]",
      "text/plain": [
       "<Figure size 432x288 with 1 Axes>"
      ]
     },
     "metadata": {
      "needs_background": "light"
     },
     "output_type": "display_data"
    },
    {
     "data": {
      "image/png": "[encoded data removed]",
      "text/plain": [
       "<Figure size 432x288 with 1 Axes>"
      ]
     },
     "metadata": {
      "needs_background": "light"
     },
     "output_type": "display_data"
    }
   ],
   "source": [
    "sanityChecks.discProbVsError(train_data,disc,device)\n",
    "sanityChecks.discProbVsError(test_data,disc,device)"
   ]
  },
  {
   "cell_type": "markdown",
   "id": "130f3a4d",
   "metadata": {
    "id": "130f3a4d",
    "papermill": {
     "duration": 0.014472,
     "end_time": "2022-03-11T10:16:17.463021",
     "exception": false,
     "start_time": "2022-03-11T10:16:17.448549",
     "status": "completed"
    },
    "tags": []
   },
   "source": [
    "# ABC - GAN Model with skip connection"
   ]
  },
  {
   "cell_type": "code",
   "execution_count": 15,
   "id": "4e43dad1",
   "metadata": {
    "execution": {
     "iopub.execute_input": "2022-03-11T10:16:17.495368Z",
     "iopub.status.busy": "2022-03-11T10:16:17.494994Z",
     "iopub.status.idle": "2022-03-11T10:16:17.497177Z",
     "shell.execute_reply": "2022-03-11T10:16:17.497556Z"
    },
    "id": "4e43dad1",
    "papermill": {
     "duration": 0.02008,
     "end_time": "2022-03-11T10:16:17.497668",
     "exception": false,
     "start_time": "2022-03-11T10:16:17.477588",
     "status": "completed"
    },
    "tags": []
   },
   "outputs": [],
   "source": [
    "#Generator\n",
    "gen3 = network.GeneratorWithSkipConnection(n_features+1).to(device)\n",
    "constraints=network.weightConstraint()\n",
    "#Discriminator \n",
    "disc3 = network.Discriminator(n_features+1).to(device)\n",
    "\n",
    "criterion = torch.nn.BCELoss()\n",
    "gen_opt = torch.optim.Adam(gen3.parameters(), lr=0.001, betas=(0.5, 0.999))\n",
    "disc_opt = torch.optim.Adam(disc3.parameters(), lr=0.001, betas=(0.5, 0.999))\n"
   ]
  },
  {
   "cell_type": "code",
   "execution_count": 16,
   "id": "26acbc37",
   "metadata": {
    "execution": {
     "iopub.execute_input": "2022-03-11T10:16:17.529257Z",
     "iopub.status.busy": "2022-03-11T10:16:17.528904Z",
     "iopub.status.idle": "2022-03-11T10:18:50.321578Z",
     "shell.execute_reply": "2022-03-11T10:18:50.322010Z"
    },
    "id": "26acbc37",
    "papermill": {
     "duration": 152.80971,
     "end_time": "2022-03-11T10:18:50.322144",
     "exception": false,
     "start_time": "2022-03-11T10:16:17.512434",
     "status": "completed"
    },
    "tags": []
   },
   "outputs": [
    {
     "data": {
      "image/png": "[encoded data removed]",
      "text/plain": [
       "<Figure size 432x288 with 1 Axes>"
      ]
     },
     "metadata": {
      "needs_background": "light"
     },
     "output_type": "display_data"
    },
    {
     "data": {
      "image/png": "[encoded data removed]",
      "text/plain": [
       "<Figure size 432x288 with 1 Axes>"
      ]
     },
     "metadata": {
      "needs_background": "light"
     },
     "output_type": "display_data"
    }
   ],
   "source": [
    "ABC_train_test2.training_GAN_skip_connection(disc3,gen3,disc_opt,gen_opt,train_data,batch_size,n_epochs,criterion,prior_model,variance,0,device)"
   ]
  },
  {
   "cell_type": "code",
   "execution_count": 17,
   "id": "c5e0717b",
   "metadata": {
    "execution": {
     "iopub.execute_input": "2022-03-11T10:18:50.356636Z",
     "iopub.status.busy": "2022-03-11T10:18:50.356246Z",
     "iopub.status.idle": "2022-03-11T10:18:51.183906Z",
     "shell.execute_reply": "2022-03-11T10:18:51.184204Z"
    },
    "id": "c5e0717b",
    "papermill": {
     "duration": 0.846208,
     "end_time": "2022-03-11T10:18:51.184324",
     "exception": false,
     "start_time": "2022-03-11T10:18:50.338116",
     "status": "completed"
    },
    "tags": []
   },
   "outputs": [
    {
     "data": {
      "application/scrapbook.scrap.json+json": {
       "data": 199.2476317136998,
       "encoder": "json",
       "name": "ABC-GAN Model 3 MSE",
       "version": 1
      }
     },
     "metadata": {
      "scrapbook": {
       "data": true,
       "display": false,
       "name": "ABC-GAN Model 3 MSE"
      }
     },
     "output_type": "display_data"
    },
    {
     "data": {
      "application/scrapbook.scrap.json+json": {
       "data": 13.10766566945459,
       "encoder": "json",
       "name": "ABC-GAN Model 3 MAE",
       "version": 1
      }
     },
     "metadata": {
      "scrapbook": {
       "data": true,
       "display": false,
       "name": "ABC-GAN Model 3 MAE"
      }
     },
     "output_type": "display_data"
    },
    {
     "data": {
      "application/scrapbook.scrap.json+json": {
       "data": 1336.9818982843683,
       "encoder": "json",
       "name": "ABC-GAN Model 3 Manhattan Distance",
       "version": 1
      }
     },
     "metadata": {
      "scrapbook": {
       "data": true,
       "display": false,
       "name": "ABC-GAN Model 3 Manhattan Distance"
      }
     },
     "output_type": "display_data"
    },
    {
     "data": {
      "application/scrapbook.scrap.json+json": {
       "data": 142.5596645502975,
       "encoder": "json",
       "name": "ABC-GAN Model 3 Euclidean distance",
       "version": 1
      }
     },
     "metadata": {
      "scrapbook": {
       "data": true,
       "display": false,
       "name": "ABC-GAN Model 3 Euclidean distance"
      }
     },
     "output_type": "display_data"
    },
    {
     "data": {
      "application/scrapbook.scrap.json+json": {
       "data": [
        [
         199.33988194271552,
         199.2788650604244,
         199.33412081561102,
         199.1969644224492,
         199.27981474543608,
         199.28208044163975,
         199.2353605381536,
         199.35906021891316,
         199.30349073589952,
         199.29620401088198,
         199.33085151987467,
         199.3116435951817,
         199.1703122801139,
         199.27975453443753,
         199.37462826744763,
         199.11825407600753,
         199.19174872793226,
         199.17505102472637,
         199.24903622854046,
         199.26134009485344,
         199.2965689053483,
         199.2043105178683,
         199.19445691631535,
         199.32506237176904,
         199.22939818393445,
         199.32784719892584,
         199.22007984756564,
         199.26060580412667,
         199.2068589704524,
         199.30834074887682,
         199.19502507432975,
         199.2228332079492,
         199.232314605104,
         199.34604615975047,
         199.1833954652543,
         199.31961705170016,
         199.21932839588982,
         199.21004689406482,
         199.24599459106898,
         199.24199499119666,
         199.24028186928737,
         199.1986155683734,
         199.26954056540075,
         199.1681003923792,
         199.2861483205283,
         199.28053870630416,
         199.18524857891845,
         199.15184533399656,
         199.34922323769845,
         199.3189527577146,
         199.26585295724212,
         199.21619617599262,
         199.27011825791357,
         199.2614658462965,
         199.2483862656778,
         199.24359268869432,
         199.23728192212343,
         199.13534214379587,
         199.21504326651942,
         199.21982755260913,
         199.22888974704057,
         199.16838420020088,
         199.2214726891279,
         199.30271764889432,
         199.18955171486778,
         199.2704619500248,
         199.27928834222826,
         199.2500882140771,
         199.31547250023493,
         199.3161498537041,
         199.2782946476063,
         199.19497102346548,
         199.2657457831525,
         199.25058890693322,
         199.2960006651783,
         199.30120052865632,
         199.27842753842387,
         199.21912899586275,
         199.1497468881666,
         199.31514815176928,
         199.2574760416859,
         199.22945605333095,
         199.18201859887031,
         199.23311169574598,
         199.12058947475757,
         199.25648925306385,
         199.22552614266954,
         199.1945739878717,
         199.34691100200135,
         199.2661232384584,
         199.42417628932634,
         199.2178525168405,
         199.28214470399132,
         199.22469141790387,
         199.16456136582002,
         199.1209130604932,
         199.24011389544143,
         199.18612276777824,
         199.2747442956708,
         199.10365398844814
        ],
        [
         13.110003857663376,
         13.10849245216734,
         13.110528677729341,
         13.107664770382803,
         13.108253958790252,
         13.1095290914744,
         13.107675167302801,
         13.111137911996932,
         13.109382066683953,
         13.109093935493672,
         13.109672395065061,
         13.108675015350695,
         13.104988806999708,
         13.108516850335269,
         13.112238283862597,
         13.102991013577682,
         13.106864431936879,
         13.10574410303368,
         13.106261415251842,
         13.108904402073035,
         13.108654146712711,
         13.107657234485755,
         13.105472011336436,
         13.108431412336216,
         13.106030518545166,
         13.108913228235336,
         13.106573224679439,
         13.107961204149486,
         13.107587948176718,
         13.10872856603351,
         13.10566750522155,
         13.106581775024168,
         13.10715860773937,
         13.110137909678194,
         13.105245092947621,
         13.110119378477261,
         13.105841709730015,
         13.106865600655404,
         13.106936499796005,
         13.10793711452325,
         13.106756157177847,
         13.106140728702075,
         13.10742422941086,
         13.105454592755539,
         13.109628876662065,
         13.109080406408026,
         13.106236802039705,
         13.106108822686343,
         13.110838734079152,
         13.110136474491846,
         13.109051922400136,
         13.107383371011226,
         13.108416878152639,
         13.108903981334365,
         13.108065617462511,
         13.107863274886839,
         13.106231832648536,
         13.10425352410176,
         13.10528639078542,
         13.104572948899266,
         13.108044650652172,
         13.105850905207369,
         13.107423084066706,
         13.109785498969037,
         13.105839236721616,
         13.107600102849378,
         13.109682544216733,
         13.10762595490315,
         13.109259178268486,
         13.109753321810608,
         13.109423219600655,
         13.106284401607791,
         13.108986226394407,
         13.107408507809263,
         13.109648520483033,
         13.11000264219611,
         13.109002200439207,
         13.106114469934255,
         13.10385824947198,
         13.109307479067688,
         13.108435946964093,
         13.106643170145723,
         13.104590460977645,
         13.107378920531083,
         13.10291996484111,
         13.107675003682209,
         13.106631950447884,
         13.105279523395367,
         13.110426653276983,
         13.108093895775943,
         13.113235560729734,
         13.107339904031845,
         13.108072770019884,
         13.108184864151054,
         13.104813625442558,
         13.1052168847573,
         13.108121337286908,
         13.106353753365065,
         13.108181914305497,
         13.105115584910427
        ],
        [
         1337.2203934816644,
         1337.0662301210687,
         1337.2739251283929,
         1336.981806579046,
         1337.0419037966058,
         1337.1719673303887,
         1336.9828670648858,
         1337.336067023687,
         1337.1569708017632,
         1337.1275814203545,
         1337.1865842966363,
         1337.0848515657708,
         1336.7088583139703,
         1337.0687187341973,
         1337.448304953985,
         1336.5050833849236,
         1336.9001720575616,
         1336.7858985094354,
         1336.8386643556878,
         1337.1082490114495,
         1337.0827229646966,
         1336.981037917547,
         1336.7581451563165,
         1337.060004058294,
         1336.815112891607,
         1337.1091492800042,
         1336.8704689173028,
         1337.0120428232476,
         1336.9739707140252,
         1337.090313735418,
         1336.7780855325982,
         1336.8713410524651,
         1336.9301779894158,
         1337.2340667871758,
         1336.7349994806573,
         1337.2321766046807,
         1336.7958543924615,
         1336.9002912668511,
         1336.9075229791924,
         1337.0095856813714,
         1336.8891280321404,
         1336.8263543276116,
         1336.9572713999078,
         1336.756368461065,
         1337.1821454195306,
         1337.1262014536187,
         1336.8361538080499,
         1336.823099914007,
         1337.3055508760735,
         1337.2339203981683,
         1337.1232960848138,
         1336.953103843145,
         1337.0585215715691,
         1337.1082060961053,
         1337.022692981176,
         1337.0020540384576,
         1336.8356469301507,
         1336.6338594583794,
         1336.7392118601128,
         1336.6664407877252,
         1337.0205543665215,
         1336.7967923311517,
         1336.957154574804,
         1337.1981208948418,
         1336.7956021456048,
         1336.9752104906365,
         1337.1876195101067,
         1336.9778474001214,
         1337.1444361833856,
         1337.194838824682,
         1337.161168399267,
         1336.8410089639947,
         1337.1165950922295,
         1336.9556677965447,
         1337.1841490892693,
         1337.2202695040032,
         1337.1182244447991,
         1336.823675933294,
         1336.593541446142,
         1337.149362864904,
         1337.0604665903375,
         1336.8776033548638,
         1336.6682270197198,
         1336.9526498941705,
         1336.4978364137933,
         1336.9828503755853,
         1336.8764589456841,
         1336.7385113863274,
         1337.2635186342523,
         1337.025577369146,
         1337.550027194433,
         1336.948670211248,
         1337.0234225420281,
         1337.0348561434075,
         1336.690989795141,
         1336.7321222452447,
         1337.0283764032647,
         1336.8480828432366,
         1337.0345552591607,
         1336.7217896608636
        ],
        [
         142.59266446124423,
         142.57083936122174,
         142.5906039092069,
         142.5415391073417,
         142.57117907920406,
         142.57198955281245,
         142.55527620853488,
         142.59952363990965,
         142.57964810961542,
         142.57704166207813,
         142.5894345841487,
         142.58256431523643,
         142.5320029066161,
         142.57115754076148,
         142.6050913652092,
         142.51337451535125,
         142.53967296948977,
         142.53369848748784,
         142.56016868435282,
         142.5645702468711,
         142.57717218526088,
         142.5441674458221,
         142.54064194279525,
         142.58736396301197,
         142.55314312480562,
         142.58836002384783,
         142.54980934554663,
         142.56430756686936,
         142.5450792380647,
         142.58138292352697,
         142.5408452254358,
         142.55079441101273,
         142.55418650366119,
         142.59486915136372,
         142.53668418149746,
         142.58541629238738,
         142.54954049866583,
         142.54621981376647,
         142.55908055360428,
         142.5576497039077,
         142.55703683321744,
         142.54212987034424,
         142.56750379266273,
         142.5312114591842,
         142.57344468271046,
         142.57143805139597,
         142.53734722889186,
         142.52539501459958,
         142.59600544982052,
         142.5851786872917,
         142.56618463590414,
         142.54841987883015,
         142.56771044772796,
         142.56461523225968,
         142.55993616405394,
         142.55822127905085,
         142.55596359344847,
         142.51948953973695,
         142.54800739815684,
         142.54971908203166,
         142.55296122563757,
         142.53131301023117,
         142.55030766115888,
         142.57937158013854,
         142.53888688675983,
         142.5678333948529,
         142.57099077619992,
         142.56054502503795,
         142.5839338601091,
         142.58417613844045,
         142.57063531476544,
         142.54082588645784,
         142.56614629666313,
         142.56072414415965,
         142.57696892502727,
         142.5788289120196,
         142.5706828521181,
         142.54946915922906,
         142.52464412371984,
         142.58381784578665,
         142.5631879422313,
         142.5531638282355,
         142.53619153423725,
         142.5544716694853,
         142.51421026138158,
         142.56283493187317,
         142.55175785149862,
         142.54068383013646,
         142.595178467591,
         142.5662813231893,
         142.6228101725362,
         142.54901247191344,
         142.5720125403549,
         142.55145921605364,
         142.52994513193937,
         142.5143260594187,
         142.55697674030208,
         142.53766001416392,
         142.56936528637007,
         142.5081496154578
        ]
       ],
       "encoder": "json",
       "name": "ABC_GAN_3 Metrics",
       "version": 1
      }
     },
     "metadata": {
      "scrapbook": {
       "data": true,
       "display": false,
       "name": "ABC_GAN_3 Metrics"
      }
     },
     "output_type": "display_data"
    },
    {
     "name": "stdout",
     "output_type": "stream",
     "text": [
      "MSE\n",
      "199.2476317136998\n"
     ]
    }
   ],
   "source": [
    "ABC_GAN3_metrics=ABC_train_test2.test_generator(gen3,test_data,prior_model,variance,0,\"3\",device)\n",
    "sb.glue(\"ABC_GAN_3 Metrics\",ABC_GAN3_metrics)\n",
    "\n",
    "print(\"MSE\")\n",
    "print(mean(ABC_GAN3_metrics[0]))"
   ]
  },
  {
   "cell_type": "code",
   "execution_count": 18,
   "id": "c8e46b48",
   "metadata": {
    "execution": {
     "iopub.execute_input": "2022-03-11T10:18:51.220934Z",
     "iopub.status.busy": "2022-03-11T10:18:51.220568Z",
     "iopub.status.idle": "2022-03-11T10:18:51.544728Z",
     "shell.execute_reply": "2022-03-11T10:18:51.545032Z"
    },
    "id": "c8e46b48",
    "papermill": {
     "duration": 0.343705,
     "end_time": "2022-03-11T10:18:51.545152",
     "exception": false,
     "start_time": "2022-03-11T10:18:51.201447",
     "status": "completed"
    },
    "tags": []
   },
   "outputs": [
    {
     "data": {
      "image/png": "[encoded data removed]",
      "text/plain": [
       "<Figure size 432x288 with 1 Axes>"
      ]
     },
     "metadata": {
      "needs_background": "light"
     },
     "output_type": "display_data"
    },
    {
     "data": {
      "image/png": "[encoded data removed]",
      "text/plain": [
       "<Figure size 432x288 with 1 Axes>"
      ]
     },
     "metadata": {
      "needs_background": "light"
     },
     "output_type": "display_data"
    },
    {
     "data": {
      "image/png": "[encoded data removed]",
      "text/plain": [
       "<Figure size 432x288 with 1 Axes>"
      ]
     },
     "metadata": {
      "needs_background": "light"
     },
     "output_type": "display_data"
    },
    {
     "data": {
      "image/png": "[encoded data removed]",
      "text/plain": [
       "<Figure size 432x288 with 1 Axes>"
      ]
     },
     "metadata": {
      "needs_background": "light"
     },
     "output_type": "display_data"
    }
   ],
   "source": [
    "sanityChecks.discProbVsError(train_data,disc3,device)\n",
    "sanityChecks.discProbVsError(test_data,disc3,device)"
   ]
  },
  {
   "cell_type": "markdown",
   "id": "a5bd74c3",
   "metadata": {
    "id": "a5bd74c3",
    "papermill": {
     "duration": 0.019186,
     "end_time": "2022-03-11T10:18:51.583907",
     "exception": false,
     "start_time": "2022-03-11T10:18:51.564721",
     "status": "completed"
    },
    "tags": []
   },
   "source": [
    "## Skip Connection Model Analysis - ABC-GAN "
   ]
  },
  {
   "cell_type": "markdown",
   "id": "5744a8bf",
   "metadata": {
    "id": "5744a8bf",
    "papermill": {
     "duration": 0.019044,
     "end_time": "2022-03-11T10:18:51.621932",
     "exception": false,
     "start_time": "2022-03-11T10:18:51.602888",
     "status": "completed"
    },
    "tags": []
   },
   "source": [
    "### Weight Analysis \n",
    "\n",
    "Study the weights of the skip connection layer\n",
    "\n",
    "Equation of the skip connection is \n",
    "\n",
    "$output = y_{gan} * w + y_{abc} * (1-w)$"
   ]
  },
  {
   "cell_type": "code",
   "execution_count": 19,
   "id": "52c31dea",
   "metadata": {
    "execution": {
     "iopub.execute_input": "2022-03-11T10:18:51.662806Z",
     "iopub.status.busy": "2022-03-11T10:18:51.662418Z",
     "iopub.status.idle": "2022-03-11T10:18:51.665779Z",
     "shell.execute_reply": "2022-03-11T10:18:51.666019Z"
    },
    "id": "52c31dea",
    "papermill": {
     "duration": 0.025292,
     "end_time": "2022-03-11T10:18:51.666131",
     "exception": false,
     "start_time": "2022-03-11T10:18:51.640839",
     "status": "completed"
    },
    "tags": []
   },
   "outputs": [
    {
     "name": "stdout",
     "output_type": "stream",
     "text": [
      "Weight of the node at skip connection\n",
      "Parameter containing:\n",
      "tensor([[0.0397]], requires_grad=True)\n"
     ]
    },
    {
     "data": {
      "application/scrapbook.scrap.json+json": {
       "data": 0.039727840572595596,
       "encoder": "json",
       "name": "Skip Connection Weight",
       "version": 1
      }
     },
     "metadata": {
      "scrapbook": {
       "data": true,
       "display": false,
       "name": "Skip Connection Weight"
      }
     },
     "output_type": "display_data"
    }
   ],
   "source": [
    "print(\"Weight of the node at skip connection\")\n",
    "for name,param in gen3.named_parameters():\n",
    "    if(name == \"skipNode.weight\"):\n",
    "        print(param)\n",
    "        sb.glue(\"Skip Connection Weight\",param.item())"
   ]
  }
 ],
 "metadata": {
  "colab": {
   "collapsed_sections": [],
   "name": "ABC_GAN_Model-Catboost_Pre-gen.ipynb",
   "provenance": []
  },
  "interpreter": {
   "hash": "31f2aee4e71d21fbe5cf8b01ff0e069b9275f58929596ceb00d14d90e3e16cd6"
  },
  "kernelspec": {
   "display_name": "Python 3 (ipykernel)",
   "language": "python",
   "name": "python3"
  },
  "language_info": {
   "codemirror_mode": {
    "name": "ipython",
    "version": 3
   },
   "file_extension": ".py",
   "mimetype": "text/x-python",
   "name": "python",
   "nbconvert_exporter": "python",
   "pygments_lexer": "ipython3",
   "version": "3.8.11"
  },
  "papermill": {
   "default_parameters": {},
   "duration": 195.532008,
   "end_time": "2022-03-11T10:18:51.993320",
   "environment_variables": {},
   "exception": null,
   "input_path": "ABC_GAN-Catboost.ipynb",
   "output_path": "./ABC_GAN_Catboost/ABC-GAN_output_5_2.ipynb",
   "parameters": {
    "variance": 0.01
   },
   "start_time": "2022-03-11T10:15:36.461312",
   "version": "2.3.3"
  }
 },
 "nbformat": 4,
 "nbformat_minor": 5
}