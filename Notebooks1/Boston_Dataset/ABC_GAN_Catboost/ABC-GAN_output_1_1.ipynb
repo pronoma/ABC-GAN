{
 "cells": [
  {
   "cell_type": "markdown",
   "id": "622780e6",
   "metadata": {
    "id": "622780e6",
    "papermill": {
     "duration": 0.03682,
     "end_time": "2022-03-11T09:33:53.093517",
     "exception": false,
     "start_time": "2022-03-11T09:33:53.056697",
     "status": "completed"
    },
    "tags": []
   },
   "source": [
    "## Import Libraries "
   ]
  },
  {
   "cell_type": "code",
   "execution_count": 1,
   "id": "a62397e3",
   "metadata": {
    "execution": {
     "iopub.execute_input": "2022-03-11T09:33:53.130459Z",
     "iopub.status.busy": "2022-03-11T09:33:53.129953Z",
     "iopub.status.idle": "2022-03-11T09:33:53.132405Z",
     "shell.execute_reply": "2022-03-11T09:33:53.132761Z"
    },
    "id": "a62397e3",
    "papermill": {
     "duration": 0.022361,
     "end_time": "2022-03-11T09:33:53.132971",
     "exception": false,
     "start_time": "2022-03-11T09:33:53.110610",
     "status": "completed"
    },
    "tags": []
   },
   "outputs": [],
   "source": [
    "import warnings\n",
    "import sys\n",
    "sys.path.insert(0, '../../src')\n",
    "warnings.filterwarnings('ignore')"
   ]
  },
  {
   "cell_type": "code",
   "execution_count": 2,
   "id": "d6a4e155",
   "metadata": {
    "execution": {
     "iopub.execute_input": "2022-03-11T09:33:53.153576Z",
     "iopub.status.busy": "2022-03-11T09:33:53.153163Z",
     "iopub.status.idle": "2022-03-11T09:33:55.375341Z",
     "shell.execute_reply": "2022-03-11T09:33:55.375712Z"
    },
    "id": "d6a4e155",
    "papermill": {
     "duration": 2.233229,
     "end_time": "2022-03-11T09:33:55.375958",
     "exception": false,
     "start_time": "2022-03-11T09:33:53.142729",
     "status": "completed"
    },
    "tags": []
   },
   "outputs": [],
   "source": [
    "import ABC_train_test2\n",
    "import bostonDataset\n",
    "import network\n",
    "import dataset\n",
    "import sanityChecks\n",
    "import torch \n",
    "import scrapbook as sb\n",
    "from statistics import mean \n",
    "import catboost as ctb \n",
    "from sklearn.model_selection import train_test_split\n",
    "from sklearn.metrics import mean_squared_error,mean_absolute_error\n",
    "import numpy as np"
   ]
  },
  {
   "cell_type": "markdown",
   "id": "2fa5b0f7",
   "metadata": {
    "id": "2fa5b0f7",
    "papermill": {
     "duration": 0.00709,
     "end_time": "2022-03-11T09:33:55.391982",
     "exception": false,
     "start_time": "2022-03-11T09:33:55.384892",
     "status": "completed"
    },
    "tags": []
   },
   "source": [
    "## Parameters "
   ]
  },
  {
   "cell_type": "code",
   "execution_count": 3,
   "id": "783186fb",
   "metadata": {
    "execution": {
     "iopub.execute_input": "2022-03-11T09:33:55.408442Z",
     "iopub.status.busy": "2022-03-11T09:33:55.408020Z",
     "iopub.status.idle": "2022-03-11T09:33:55.409251Z",
     "shell.execute_reply": "2022-03-11T09:33:55.409496Z"
    },
    "id": "783186fb",
    "papermill": {
     "duration": 0.010736,
     "end_time": "2022-03-11T09:33:55.409607",
     "exception": false,
     "start_time": "2022-03-11T09:33:55.398871",
     "status": "completed"
    },
    "tags": [
     "parameters"
    ]
   },
   "outputs": [],
   "source": [
    "variance = 1"
   ]
  },
  {
   "cell_type": "code",
   "execution_count": 4,
   "id": "7d327b01",
   "metadata": {
    "execution": {
     "iopub.execute_input": "2022-03-11T09:33:55.425468Z",
     "iopub.status.busy": "2022-03-11T09:33:55.425094Z",
     "iopub.status.idle": "2022-03-11T09:33:55.426347Z",
     "shell.execute_reply": "2022-03-11T09:33:55.426586Z"
    },
    "papermill": {
     "duration": 0.010045,
     "end_time": "2022-03-11T09:33:55.426692",
     "exception": false,
     "start_time": "2022-03-11T09:33:55.416647",
     "status": "completed"
    },
    "tags": [
     "injected-parameters"
    ]
   },
   "outputs": [],
   "source": [
    "# Parameters\n",
    "variance = 0.1\n"
   ]
  },
  {
   "cell_type": "markdown",
   "id": "391cdbfd",
   "metadata": {
    "id": "391cdbfd",
    "papermill": {
     "duration": 0.007094,
     "end_time": "2022-03-11T09:33:55.441444",
     "exception": false,
     "start_time": "2022-03-11T09:33:55.434350",
     "status": "completed"
    },
    "tags": []
   },
   "source": [
    "## Dataset \n"
   ]
  },
  {
   "cell_type": "code",
   "execution_count": 5,
   "id": "5b51f161",
   "metadata": {
    "execution": {
     "iopub.execute_input": "2022-03-11T09:33:55.457376Z",
     "iopub.status.busy": "2022-03-11T09:33:55.457017Z",
     "iopub.status.idle": "2022-03-11T09:33:55.458302Z",
     "shell.execute_reply": "2022-03-11T09:33:55.458544Z"
    },
    "id": "5b51f161",
    "papermill": {
     "duration": 0.010363,
     "end_time": "2022-03-11T09:33:55.458656",
     "exception": false,
     "start_time": "2022-03-11T09:33:55.448293",
     "status": "completed"
    },
    "tags": []
   },
   "outputs": [],
   "source": [
    "#Parameters \n",
    "n_features = 13\n",
    "n_samples= 506\n",
    "n_target = 1 "
   ]
  },
  {
   "cell_type": "code",
   "execution_count": 6,
   "id": "5d6eced4",
   "metadata": {
    "execution": {
     "iopub.execute_input": "2022-03-11T09:33:55.474510Z",
     "iopub.status.busy": "2022-03-11T09:33:55.474127Z",
     "iopub.status.idle": "2022-03-11T09:33:55.485114Z",
     "shell.execute_reply": "2022-03-11T09:33:55.485344Z"
    },
    "id": "5d6eced4",
    "papermill": {
     "duration": 0.019847,
     "end_time": "2022-03-11T09:33:55.485458",
     "exception": false,
     "start_time": "2022-03-11T09:33:55.465611",
     "status": "completed"
    },
    "tags": []
   },
   "outputs": [
    {
     "name": "stdout",
     "output_type": "stream",
     "text": [
      "         X1        X2        X3        X4        X5        X6        X7  \\\n",
      "0 -0.419782  0.284830 -1.287909 -0.272599 -0.144217  0.413672 -0.120013   \n",
      "1 -0.417339 -0.487722 -0.593381 -0.272599 -0.740262  0.194274  0.367166   \n",
      "2 -0.417342 -0.487722 -0.593381 -0.272599 -0.740262  1.282714 -0.265812   \n",
      "3 -0.416750 -0.487722 -1.306878 -0.272599 -0.835284  1.016303 -0.809889   \n",
      "4 -0.412482 -0.487722 -1.306878 -0.272599 -0.835284  1.228577 -0.511180   \n",
      "\n",
      "         X8        X9       X10       X11       X12       X13         Y  \n",
      "0  0.140214 -0.982843 -0.666608 -1.459000  0.441052 -1.075562  0.159686  \n",
      "1  0.557160 -0.867883 -0.987329 -0.303094  0.441052 -0.492439 -0.101524  \n",
      "2  0.557160 -0.867883 -0.987329 -0.303094  0.396427 -1.208727  1.324247  \n",
      "3  1.077737 -0.752922 -1.106115  0.113032  0.416163 -1.361517  1.182758  \n",
      "4  1.077737 -0.752922 -1.106115  0.113032  0.441052 -1.026501  1.487503  \n"
     ]
    }
   ],
   "source": [
    "X,Y = bostonDataset.boston_data()"
   ]
  },
  {
   "cell_type": "code",
   "execution_count": 7,
   "id": "fe007438",
   "metadata": {
    "execution": {
     "iopub.execute_input": "2022-03-11T09:33:55.503068Z",
     "iopub.status.busy": "2022-03-11T09:33:55.502644Z",
     "iopub.status.idle": "2022-03-11T09:33:55.508642Z",
     "shell.execute_reply": "2022-03-11T09:33:55.508104Z"
    },
    "id": "fe007438",
    "papermill": {
     "duration": 0.01594,
     "end_time": "2022-03-11T09:33:55.508961",
     "exception": false,
     "start_time": "2022-03-11T09:33:55.493021",
     "status": "completed"
    },
    "tags": []
   },
   "outputs": [],
   "source": [
    "#Train test split for dataset \n",
    "X_train,X_test,Y_train,Y_test = train_test_split(X,Y,test_size = 0.2)\n",
    "train_data = dataset.CustomDataset(X_train,Y_train)\n",
    "test_data = dataset.CustomDataset(X_test,Y_test)\n"
   ]
  },
  {
   "cell_type": "markdown",
   "id": "a9a1af34",
   "metadata": {
    "id": "a9a1af34",
    "papermill": {
     "duration": 0.008192,
     "end_time": "2022-03-11T09:33:55.525537",
     "exception": false,
     "start_time": "2022-03-11T09:33:55.517345",
     "status": "completed"
    },
    "tags": []
   },
   "source": [
    "## Training Parameters "
   ]
  },
  {
   "cell_type": "code",
   "execution_count": 8,
   "id": "952b7fc8",
   "metadata": {
    "execution": {
     "iopub.execute_input": "2022-03-11T09:33:55.550127Z",
     "iopub.status.busy": "2022-03-11T09:33:55.549712Z",
     "iopub.status.idle": "2022-03-11T09:33:55.551036Z",
     "shell.execute_reply": "2022-03-11T09:33:55.551475Z"
    },
    "id": "952b7fc8",
    "papermill": {
     "duration": 0.017877,
     "end_time": "2022-03-11T09:33:55.551839",
     "exception": false,
     "start_time": "2022-03-11T09:33:55.533962",
     "status": "completed"
    },
    "tags": []
   },
   "outputs": [],
   "source": [
    "batch_size = 64\n",
    "n_epochs = 1000\n",
    "#Select the device \n",
    "device = torch.device('cuda' if torch.cuda.is_available() else 'cpu')"
   ]
  },
  {
   "cell_type": "markdown",
   "id": "a95e1600",
   "metadata": {
    "id": "a95e1600",
    "papermill": {
     "duration": 0.008297,
     "end_time": "2022-03-11T09:33:55.568203",
     "exception": false,
     "start_time": "2022-03-11T09:33:55.559906",
     "status": "completed"
    },
    "tags": []
   },
   "source": [
    "# ABC Pre-generator Model \n",
    "\n",
    "1. The catboost model is used as a pre-generator model for the ABC-GAN. \n",
    "2. The model is first trained on the entire dataset \n",
    "3. It generats X,Y pairs and we add some Gaussian noise with mean 0 and variance 1 to it which is then feed as input to the generator.\n"
   ]
  },
  {
   "cell_type": "code",
   "execution_count": 9,
   "id": "ff8ce7bd",
   "metadata": {
    "execution": {
     "iopub.execute_input": "2022-03-11T09:33:55.595427Z",
     "iopub.status.busy": "2022-03-11T09:33:55.594140Z",
     "iopub.status.idle": "2022-03-11T09:33:56.564072Z",
     "shell.execute_reply": "2022-03-11T09:33:56.564459Z"
    },
    "id": "ff8ce7bd",
    "papermill": {
     "duration": 0.988403,
     "end_time": "2022-03-11T09:33:56.564582",
     "exception": false,
     "start_time": "2022-03-11T09:33:55.576179",
     "status": "completed"
    },
    "tags": []
   },
   "outputs": [
    {
     "name": "stdout",
     "output_type": "stream",
     "text": [
      "Learning rate set to 0.033215\n",
      "0:\tlearn: 1.0041953\ttotal: 58.7ms\tremaining: 58.6s\n",
      "1:\tlearn: 0.9844748\ttotal: 59.5ms\tremaining: 29.7s\n",
      "2:\tlearn: 0.9634659\ttotal: 60.5ms\tremaining: 20.1s\n",
      "3:\tlearn: 0.9452296\ttotal: 61.5ms\tremaining: 15.3s\n",
      "4:\tlearn: 0.9272588\ttotal: 62.3ms\tremaining: 12.4s\n",
      "5:\tlearn: 0.9099718\ttotal: 63.2ms\tremaining: 10.5s\n",
      "6:\tlearn: 0.8913771\ttotal: 64ms\tremaining: 9.08s\n",
      "7:\tlearn: 0.8743629\ttotal: 64.9ms\tremaining: 8.04s\n",
      "8:\tlearn: 0.8580668\ttotal: 65.6ms\tremaining: 7.23s\n",
      "9:\tlearn: 0.8408883\ttotal: 66.5ms\tremaining: 6.58s\n",
      "10:\tlearn: 0.8240450\ttotal: 67.2ms\tremaining: 6.05s\n",
      "11:\tlearn: 0.8086421\ttotal: 68ms\tremaining: 5.6s\n",
      "12:\tlearn: 0.7928941\ttotal: 68.8ms\tremaining: 5.22s\n",
      "13:\tlearn: 0.7766165\ttotal: 69.5ms\tremaining: 4.9s\n",
      "14:\tlearn: 0.7628879\ttotal: 70.3ms\tremaining: 4.61s\n",
      "15:\tlearn: 0.7490888\ttotal: 71.1ms\tremaining: 4.37s\n",
      "16:\tlearn: 0.7364293\ttotal: 71.9ms\tremaining: 4.16s\n",
      "17:\tlearn: 0.7231287\ttotal: 72.6ms\tremaining: 3.96s\n",
      "18:\tlearn: 0.7097821\ttotal: 73.4ms\tremaining: 3.79s\n",
      "19:\tlearn: 0.6974567\ttotal: 74.5ms\tremaining: 3.65s\n",
      "20:\tlearn: 0.6852248\ttotal: 75.7ms\tremaining: 3.53s\n",
      "21:\tlearn: 0.6744613\ttotal: 76.5ms\tremaining: 3.4s\n",
      "22:\tlearn: 0.6636872\ttotal: 77.3ms\tremaining: 3.28s\n",
      "23:\tlearn: 0.6534743\ttotal: 78.1ms\tremaining: 3.18s\n",
      "24:\tlearn: 0.6436545\ttotal: 78.8ms\tremaining: 3.07s\n",
      "25:\tlearn: 0.6351105\ttotal: 79.6ms\tremaining: 2.98s\n",
      "26:\tlearn: 0.6251247\ttotal: 80.4ms\tremaining: 2.9s\n",
      "27:\tlearn: 0.6149251\ttotal: 81ms\tremaining: 2.81s\n",
      "28:\tlearn: 0.6055072\ttotal: 81.9ms\tremaining: 2.74s\n",
      "29:\tlearn: 0.5950482\ttotal: 82.6ms\tremaining: 2.67s\n",
      "30:\tlearn: 0.5861401\ttotal: 83.4ms\tremaining: 2.61s\n"
     ]
    },
    {
     "name": "stdout",
     "output_type": "stream",
     "text": [
      "31:\tlearn: 0.5764776\ttotal: 84.9ms\tremaining: 2.57s\n",
      "32:\tlearn: 0.5681416\ttotal: 85.9ms\tremaining: 2.52s\n",
      "33:\tlearn: 0.5613233\ttotal: 86.7ms\tremaining: 2.46s\n",
      "34:\tlearn: 0.5541296\ttotal: 87.5ms\tremaining: 2.41s\n",
      "35:\tlearn: 0.5463408\ttotal: 88.3ms\tremaining: 2.37s\n",
      "36:\tlearn: 0.5387713\ttotal: 89.3ms\tremaining: 2.32s\n",
      "37:\tlearn: 0.5304885\ttotal: 90.2ms\tremaining: 2.28s\n",
      "38:\tlearn: 0.5222823\ttotal: 91.1ms\tremaining: 2.24s\n",
      "39:\tlearn: 0.5139962\ttotal: 91.8ms\tremaining: 2.2s\n",
      "40:\tlearn: 0.5070982\ttotal: 92.6ms\tremaining: 2.17s\n",
      "41:\tlearn: 0.5010805\ttotal: 93.4ms\tremaining: 2.13s\n",
      "42:\tlearn: 0.4943898\ttotal: 94.3ms\tremaining: 2.1s\n",
      "43:\tlearn: 0.4873087\ttotal: 95.1ms\tremaining: 2.07s\n",
      "44:\tlearn: 0.4805411\ttotal: 96.1ms\tremaining: 2.04s\n",
      "45:\tlearn: 0.4741976\ttotal: 97.2ms\tremaining: 2.02s\n",
      "46:\tlearn: 0.4692129\ttotal: 98ms\tremaining: 1.99s\n",
      "47:\tlearn: 0.4647119\ttotal: 98.8ms\tremaining: 1.96s\n",
      "48:\tlearn: 0.4600114\ttotal: 99.6ms\tremaining: 1.93s\n",
      "49:\tlearn: 0.4543769\ttotal: 100ms\tremaining: 1.91s\n",
      "50:\tlearn: 0.4504046\ttotal: 101ms\tremaining: 1.88s\n",
      "51:\tlearn: 0.4447460\ttotal: 102ms\tremaining: 1.86s\n",
      "52:\tlearn: 0.4395002\ttotal: 103ms\tremaining: 1.84s\n",
      "53:\tlearn: 0.4353370\ttotal: 104ms\tremaining: 1.82s\n",
      "54:\tlearn: 0.4304585\ttotal: 105ms\tremaining: 1.8s\n",
      "55:\tlearn: 0.4262780\ttotal: 106ms\tremaining: 1.78s\n",
      "56:\tlearn: 0.4221133\ttotal: 106ms\tremaining: 1.76s\n",
      "57:\tlearn: 0.4175242\ttotal: 107ms\tremaining: 1.74s\n",
      "58:\tlearn: 0.4134357\ttotal: 109ms\tremaining: 1.73s\n",
      "59:\tlearn: 0.4092393\ttotal: 109ms\tremaining: 1.72s\n",
      "60:\tlearn: 0.4054772\ttotal: 110ms\tremaining: 1.7s\n",
      "61:\tlearn: 0.4010304\ttotal: 111ms\tremaining: 1.68s\n",
      "62:\tlearn: 0.3979251\ttotal: 112ms\tremaining: 1.67s\n",
      "63:\tlearn: 0.3946031\ttotal: 113ms\tremaining: 1.65s\n",
      "64:\tlearn: 0.3907273\ttotal: 114ms\tremaining: 1.64s\n",
      "65:\tlearn: 0.3871487\ttotal: 115ms\tremaining: 1.62s\n",
      "66:\tlearn: 0.3832419\ttotal: 115ms\tremaining: 1.61s\n",
      "67:\tlearn: 0.3797552\ttotal: 116ms\tremaining: 1.59s\n",
      "68:\tlearn: 0.3766524\ttotal: 117ms\tremaining: 1.58s\n",
      "69:\tlearn: 0.3739079\ttotal: 118ms\tremaining: 1.57s\n",
      "70:\tlearn: 0.3704568\ttotal: 119ms\tremaining: 1.55s\n",
      "71:\tlearn: 0.3674240\ttotal: 120ms\tremaining: 1.54s\n",
      "72:\tlearn: 0.3642247\ttotal: 121ms\tremaining: 1.53s\n",
      "73:\tlearn: 0.3612683\ttotal: 121ms\tremaining: 1.52s\n",
      "74:\tlearn: 0.3586429\ttotal: 122ms\tremaining: 1.51s\n",
      "75:\tlearn: 0.3556842\ttotal: 123ms\tremaining: 1.5s\n",
      "76:\tlearn: 0.3528279\ttotal: 124ms\tremaining: 1.49s\n",
      "77:\tlearn: 0.3503093\ttotal: 125ms\tremaining: 1.48s\n",
      "78:\tlearn: 0.3487062\ttotal: 126ms\tremaining: 1.46s\n",
      "79:\tlearn: 0.3462976\ttotal: 127ms\tremaining: 1.45s\n",
      "80:\tlearn: 0.3434412\ttotal: 127ms\tremaining: 1.45s\n",
      "81:\tlearn: 0.3410776\ttotal: 128ms\tremaining: 1.44s\n",
      "82:\tlearn: 0.3391779\ttotal: 129ms\tremaining: 1.43s\n",
      "83:\tlearn: 0.3367413\ttotal: 130ms\tremaining: 1.42s\n",
      "84:\tlearn: 0.3340595\ttotal: 131ms\tremaining: 1.41s\n",
      "85:\tlearn: 0.3311018\ttotal: 132ms\tremaining: 1.4s\n",
      "86:\tlearn: 0.3291587\ttotal: 132ms\tremaining: 1.39s\n",
      "87:\tlearn: 0.3269914\ttotal: 133ms\tremaining: 1.38s\n",
      "88:\tlearn: 0.3248574\ttotal: 134ms\tremaining: 1.37s\n",
      "89:\tlearn: 0.3229598\ttotal: 135ms\tremaining: 1.37s\n",
      "90:\tlearn: 0.3208068\ttotal: 136ms\tremaining: 1.36s\n",
      "91:\tlearn: 0.3191599\ttotal: 137ms\tremaining: 1.35s\n",
      "92:\tlearn: 0.3176555\ttotal: 138ms\tremaining: 1.34s\n",
      "93:\tlearn: 0.3160133\ttotal: 139ms\tremaining: 1.34s\n",
      "94:\tlearn: 0.3143071\ttotal: 140ms\tremaining: 1.33s\n",
      "95:\tlearn: 0.3134732\ttotal: 140ms\tremaining: 1.32s\n",
      "96:\tlearn: 0.3120587\ttotal: 141ms\tremaining: 1.31s\n",
      "97:\tlearn: 0.3108954\ttotal: 142ms\tremaining: 1.31s\n",
      "98:\tlearn: 0.3093169\ttotal: 143ms\tremaining: 1.3s\n",
      "99:\tlearn: 0.3077048\ttotal: 144ms\tremaining: 1.29s\n",
      "100:\tlearn: 0.3063190\ttotal: 144ms\tremaining: 1.28s\n",
      "101:\tlearn: 0.3047923\ttotal: 145ms\tremaining: 1.28s\n",
      "102:\tlearn: 0.3033561\ttotal: 146ms\tremaining: 1.27s\n",
      "103:\tlearn: 0.3023106\ttotal: 147ms\tremaining: 1.26s\n",
      "104:\tlearn: 0.3005221\ttotal: 147ms\tremaining: 1.26s\n",
      "105:\tlearn: 0.2993019\ttotal: 148ms\tremaining: 1.25s\n",
      "106:\tlearn: 0.2977925\ttotal: 149ms\tremaining: 1.25s\n",
      "107:\tlearn: 0.2962583\ttotal: 150ms\tremaining: 1.24s\n",
      "108:\tlearn: 0.2949826\ttotal: 151ms\tremaining: 1.23s\n",
      "109:\tlearn: 0.2935127\ttotal: 152ms\tremaining: 1.23s\n",
      "110:\tlearn: 0.2924554\ttotal: 153ms\tremaining: 1.22s\n",
      "111:\tlearn: 0.2914241\ttotal: 154ms\tremaining: 1.22s\n",
      "112:\tlearn: 0.2905057\ttotal: 154ms\tremaining: 1.21s\n",
      "113:\tlearn: 0.2895332\ttotal: 155ms\tremaining: 1.21s\n",
      "114:\tlearn: 0.2881304\ttotal: 156ms\tremaining: 1.2s\n",
      "115:\tlearn: 0.2867682\ttotal: 157ms\tremaining: 1.2s\n",
      "116:\tlearn: 0.2856655\ttotal: 158ms\tremaining: 1.19s\n",
      "117:\tlearn: 0.2840637\ttotal: 159ms\tremaining: 1.19s\n",
      "118:\tlearn: 0.2829674\ttotal: 160ms\tremaining: 1.18s\n",
      "119:\tlearn: 0.2816913\ttotal: 161ms\tremaining: 1.18s\n",
      "120:\tlearn: 0.2810725\ttotal: 161ms\tremaining: 1.17s\n",
      "121:\tlearn: 0.2799431\ttotal: 162ms\tremaining: 1.17s\n",
      "122:\tlearn: 0.2792820\ttotal: 163ms\tremaining: 1.16s\n",
      "123:\tlearn: 0.2781722\ttotal: 164ms\tremaining: 1.16s\n",
      "124:\tlearn: 0.2767932\ttotal: 165ms\tremaining: 1.16s\n",
      "125:\tlearn: 0.2757473\ttotal: 166ms\tremaining: 1.15s\n",
      "126:\tlearn: 0.2749323\ttotal: 167ms\tremaining: 1.15s\n",
      "127:\tlearn: 0.2740389\ttotal: 167ms\tremaining: 1.14s\n",
      "128:\tlearn: 0.2728653\ttotal: 168ms\tremaining: 1.14s\n",
      "129:\tlearn: 0.2722978\ttotal: 169ms\tremaining: 1.13s\n",
      "130:\tlearn: 0.2710718\ttotal: 169ms\tremaining: 1.12s\n",
      "131:\tlearn: 0.2698534\ttotal: 170ms\tremaining: 1.12s\n",
      "132:\tlearn: 0.2687672\ttotal: 171ms\tremaining: 1.11s\n",
      "133:\tlearn: 0.2679924\ttotal: 172ms\tremaining: 1.11s\n",
      "134:\tlearn: 0.2669585\ttotal: 173ms\tremaining: 1.11s\n",
      "135:\tlearn: 0.2662947\ttotal: 173ms\tremaining: 1.1s\n",
      "136:\tlearn: 0.2654127\ttotal: 174ms\tremaining: 1.1s\n",
      "137:\tlearn: 0.2647783\ttotal: 175ms\tremaining: 1.09s\n",
      "138:\tlearn: 0.2640394\ttotal: 176ms\tremaining: 1.09s\n",
      "139:\tlearn: 0.2631554\ttotal: 177ms\tremaining: 1.08s\n",
      "140:\tlearn: 0.2626031\ttotal: 178ms\tremaining: 1.08s\n",
      "141:\tlearn: 0.2618130\ttotal: 179ms\tremaining: 1.08s\n",
      "142:\tlearn: 0.2612144\ttotal: 179ms\tremaining: 1.07s\n",
      "143:\tlearn: 0.2606188\ttotal: 180ms\tremaining: 1.07s\n",
      "144:\tlearn: 0.2599813\ttotal: 181ms\tremaining: 1.07s\n",
      "145:\tlearn: 0.2590010\ttotal: 182ms\tremaining: 1.06s\n",
      "146:\tlearn: 0.2579487\ttotal: 182ms\tremaining: 1.06s\n",
      "147:\tlearn: 0.2571831\ttotal: 184ms\tremaining: 1.06s\n",
      "148:\tlearn: 0.2564796\ttotal: 185ms\tremaining: 1.05s\n",
      "149:\tlearn: 0.2560434\ttotal: 186ms\tremaining: 1.05s\n",
      "150:\tlearn: 0.2553541\ttotal: 186ms\tremaining: 1.05s\n",
      "151:\tlearn: 0.2546068\ttotal: 187ms\tremaining: 1.04s\n",
      "152:\tlearn: 0.2539648\ttotal: 188ms\tremaining: 1.04s\n",
      "153:\tlearn: 0.2532528\ttotal: 189ms\tremaining: 1.04s\n",
      "154:\tlearn: 0.2524569\ttotal: 190ms\tremaining: 1.03s\n",
      "155:\tlearn: 0.2517852\ttotal: 191ms\tremaining: 1.03s\n"
     ]
    },
    {
     "name": "stdout",
     "output_type": "stream",
     "text": [
      "156:\tlearn: 0.2507837\ttotal: 192ms\tremaining: 1.03s\n",
      "157:\tlearn: 0.2501208\ttotal: 193ms\tremaining: 1.03s\n",
      "158:\tlearn: 0.2497929\ttotal: 194ms\tremaining: 1.02s\n",
      "159:\tlearn: 0.2489870\ttotal: 194ms\tremaining: 1.02s\n",
      "160:\tlearn: 0.2483668\ttotal: 195ms\tremaining: 1.02s\n",
      "161:\tlearn: 0.2478960\ttotal: 196ms\tremaining: 1.01s\n",
      "162:\tlearn: 0.2471412\ttotal: 197ms\tremaining: 1.01s\n",
      "163:\tlearn: 0.2464028\ttotal: 198ms\tremaining: 1.01s\n",
      "164:\tlearn: 0.2456318\ttotal: 198ms\tremaining: 1s\n",
      "165:\tlearn: 0.2448488\ttotal: 199ms\tremaining: 1s\n",
      "166:\tlearn: 0.2439211\ttotal: 200ms\tremaining: 998ms\n",
      "167:\tlearn: 0.2432887\ttotal: 201ms\tremaining: 995ms\n",
      "168:\tlearn: 0.2429215\ttotal: 202ms\tremaining: 992ms\n",
      "169:\tlearn: 0.2420833\ttotal: 203ms\tremaining: 989ms\n",
      "170:\tlearn: 0.2414034\ttotal: 203ms\tremaining: 986ms\n",
      "171:\tlearn: 0.2404670\ttotal: 204ms\tremaining: 983ms\n",
      "172:\tlearn: 0.2399543\ttotal: 205ms\tremaining: 979ms\n",
      "173:\tlearn: 0.2393852\ttotal: 206ms\tremaining: 977ms\n",
      "174:\tlearn: 0.2386167\ttotal: 207ms\tremaining: 974ms\n",
      "175:\tlearn: 0.2380884\ttotal: 207ms\tremaining: 971ms\n",
      "176:\tlearn: 0.2376409\ttotal: 208ms\tremaining: 968ms\n",
      "177:\tlearn: 0.2373351\ttotal: 209ms\tremaining: 965ms\n",
      "178:\tlearn: 0.2370693\ttotal: 210ms\tremaining: 962ms\n",
      "179:\tlearn: 0.2365880\ttotal: 211ms\tremaining: 959ms\n",
      "180:\tlearn: 0.2357892\ttotal: 211ms\tremaining: 956ms\n",
      "181:\tlearn: 0.2353912\ttotal: 212ms\tremaining: 953ms\n",
      "182:\tlearn: 0.2348488\ttotal: 213ms\tremaining: 950ms\n",
      "183:\tlearn: 0.2342424\ttotal: 213ms\tremaining: 947ms\n",
      "184:\tlearn: 0.2338674\ttotal: 214ms\tremaining: 943ms\n",
      "185:\tlearn: 0.2330799\ttotal: 215ms\tremaining: 941ms\n",
      "186:\tlearn: 0.2326959\ttotal: 216ms\tremaining: 938ms\n",
      "187:\tlearn: 0.2322449\ttotal: 217ms\tremaining: 936ms\n",
      "188:\tlearn: 0.2316350\ttotal: 218ms\tremaining: 934ms\n",
      "189:\tlearn: 0.2312322\ttotal: 218ms\tremaining: 931ms\n",
      "190:\tlearn: 0.2305685\ttotal: 219ms\tremaining: 929ms\n",
      "191:\tlearn: 0.2299636\ttotal: 220ms\tremaining: 926ms\n",
      "192:\tlearn: 0.2292895\ttotal: 221ms\tremaining: 924ms\n",
      "193:\tlearn: 0.2289215\ttotal: 222ms\tremaining: 921ms\n",
      "194:\tlearn: 0.2283078\ttotal: 223ms\tremaining: 919ms\n",
      "195:\tlearn: 0.2280283\ttotal: 223ms\tremaining: 916ms\n",
      "196:\tlearn: 0.2272740\ttotal: 224ms\tremaining: 914ms\n",
      "197:\tlearn: 0.2266028\ttotal: 225ms\tremaining: 911ms\n",
      "198:\tlearn: 0.2261305\ttotal: 226ms\tremaining: 908ms\n",
      "199:\tlearn: 0.2253878\ttotal: 226ms\tremaining: 906ms\n",
      "200:\tlearn: 0.2247447\ttotal: 227ms\tremaining: 903ms\n",
      "201:\tlearn: 0.2243901\ttotal: 228ms\tremaining: 901ms\n",
      "202:\tlearn: 0.2238947\ttotal: 229ms\tremaining: 899ms\n",
      "203:\tlearn: 0.2233842\ttotal: 230ms\tremaining: 896ms\n",
      "204:\tlearn: 0.2230694\ttotal: 230ms\tremaining: 894ms\n",
      "205:\tlearn: 0.2227568\ttotal: 231ms\tremaining: 891ms\n",
      "206:\tlearn: 0.2220886\ttotal: 232ms\tremaining: 889ms\n",
      "207:\tlearn: 0.2217399\ttotal: 233ms\tremaining: 886ms\n",
      "208:\tlearn: 0.2211223\ttotal: 234ms\tremaining: 885ms\n",
      "209:\tlearn: 0.2206147\ttotal: 235ms\tremaining: 882ms\n",
      "210:\tlearn: 0.2202149\ttotal: 236ms\tremaining: 881ms\n",
      "211:\tlearn: 0.2199345\ttotal: 236ms\tremaining: 878ms\n",
      "212:\tlearn: 0.2197679\ttotal: 237ms\tremaining: 876ms\n",
      "213:\tlearn: 0.2194287\ttotal: 238ms\tremaining: 874ms\n",
      "214:\tlearn: 0.2188463\ttotal: 239ms\tremaining: 872ms\n",
      "215:\tlearn: 0.2183696\ttotal: 240ms\tremaining: 870ms\n",
      "216:\tlearn: 0.2179451\ttotal: 240ms\tremaining: 868ms\n",
      "217:\tlearn: 0.2177697\ttotal: 241ms\tremaining: 866ms\n",
      "218:\tlearn: 0.2173402\ttotal: 242ms\tremaining: 863ms\n",
      "219:\tlearn: 0.2168437\ttotal: 243ms\tremaining: 861ms\n",
      "220:\tlearn: 0.2162915\ttotal: 244ms\tremaining: 859ms\n",
      "221:\tlearn: 0.2161102\ttotal: 245ms\tremaining: 857ms\n",
      "222:\tlearn: 0.2156339\ttotal: 245ms\tremaining: 855ms\n",
      "223:\tlearn: 0.2150603\ttotal: 246ms\tremaining: 853ms\n",
      "224:\tlearn: 0.2145338\ttotal: 247ms\tremaining: 851ms\n",
      "225:\tlearn: 0.2137130\ttotal: 248ms\tremaining: 849ms\n",
      "226:\tlearn: 0.2130951\ttotal: 249ms\tremaining: 847ms\n",
      "227:\tlearn: 0.2128185\ttotal: 250ms\tremaining: 845ms\n",
      "228:\tlearn: 0.2125873\ttotal: 250ms\tremaining: 843ms\n",
      "229:\tlearn: 0.2123778\ttotal: 251ms\tremaining: 841ms\n",
      "230:\tlearn: 0.2119909\ttotal: 252ms\tremaining: 839ms\n",
      "231:\tlearn: 0.2117226\ttotal: 253ms\tremaining: 837ms\n",
      "232:\tlearn: 0.2112651\ttotal: 254ms\tremaining: 835ms\n",
      "233:\tlearn: 0.2108229\ttotal: 254ms\tremaining: 833ms\n",
      "234:\tlearn: 0.2102489\ttotal: 255ms\tremaining: 831ms\n",
      "235:\tlearn: 0.2097380\ttotal: 256ms\tremaining: 829ms\n",
      "236:\tlearn: 0.2095443\ttotal: 257ms\tremaining: 827ms\n",
      "237:\tlearn: 0.2091050\ttotal: 258ms\tremaining: 825ms\n",
      "238:\tlearn: 0.2083647\ttotal: 258ms\tremaining: 823ms\n",
      "239:\tlearn: 0.2079993\ttotal: 259ms\tremaining: 821ms\n",
      "240:\tlearn: 0.2075522\ttotal: 260ms\tremaining: 819ms\n",
      "241:\tlearn: 0.2070957\ttotal: 261ms\tremaining: 817ms\n",
      "242:\tlearn: 0.2066418\ttotal: 262ms\tremaining: 816ms\n",
      "243:\tlearn: 0.2062986\ttotal: 263ms\tremaining: 815ms\n",
      "244:\tlearn: 0.2059390\ttotal: 264ms\tremaining: 813ms\n",
      "245:\tlearn: 0.2055881\ttotal: 265ms\tremaining: 811ms\n",
      "246:\tlearn: 0.2053630\ttotal: 265ms\tremaining: 809ms\n",
      "247:\tlearn: 0.2051580\ttotal: 266ms\tremaining: 807ms\n",
      "248:\tlearn: 0.2047640\ttotal: 267ms\tremaining: 805ms\n",
      "249:\tlearn: 0.2046156\ttotal: 268ms\tremaining: 803ms\n",
      "250:\tlearn: 0.2044537\ttotal: 269ms\tremaining: 802ms\n",
      "251:\tlearn: 0.2043185\ttotal: 269ms\tremaining: 800ms\n",
      "252:\tlearn: 0.2038485\ttotal: 270ms\tremaining: 798ms\n",
      "253:\tlearn: 0.2033956\ttotal: 271ms\tremaining: 797ms\n",
      "254:\tlearn: 0.2030813\ttotal: 272ms\tremaining: 795ms\n",
      "255:\tlearn: 0.2025535\ttotal: 273ms\tremaining: 793ms\n",
      "256:\tlearn: 0.2021033\ttotal: 274ms\tremaining: 791ms\n",
      "257:\tlearn: 0.2019470\ttotal: 275ms\tremaining: 790ms\n"
     ]
    },
    {
     "name": "stdout",
     "output_type": "stream",
     "text": [
      "258:\tlearn: 0.2015369\ttotal: 276ms\tremaining: 789ms\n",
      "259:\tlearn: 0.2011757\ttotal: 277ms\tremaining: 787ms\n",
      "260:\tlearn: 0.2007935\ttotal: 277ms\tremaining: 785ms\n",
      "261:\tlearn: 0.2000046\ttotal: 278ms\tremaining: 783ms\n",
      "262:\tlearn: 0.1992122\ttotal: 279ms\tremaining: 782ms\n",
      "263:\tlearn: 0.1984435\ttotal: 280ms\tremaining: 780ms\n",
      "264:\tlearn: 0.1979963\ttotal: 281ms\tremaining: 778ms\n",
      "265:\tlearn: 0.1974418\ttotal: 281ms\tremaining: 776ms\n",
      "266:\tlearn: 0.1970810\ttotal: 282ms\tremaining: 775ms\n",
      "267:\tlearn: 0.1963925\ttotal: 283ms\tremaining: 773ms\n",
      "268:\tlearn: 0.1961965\ttotal: 284ms\tremaining: 771ms\n",
      "269:\tlearn: 0.1959758\ttotal: 285ms\tremaining: 770ms\n",
      "270:\tlearn: 0.1952635\ttotal: 286ms\tremaining: 768ms\n",
      "271:\tlearn: 0.1946471\ttotal: 286ms\tremaining: 766ms\n",
      "272:\tlearn: 0.1941409\ttotal: 287ms\tremaining: 765ms\n",
      "273:\tlearn: 0.1937811\ttotal: 288ms\tremaining: 763ms\n",
      "274:\tlearn: 0.1933413\ttotal: 289ms\tremaining: 761ms\n",
      "275:\tlearn: 0.1928017\ttotal: 290ms\tremaining: 759ms\n",
      "276:\tlearn: 0.1926211\ttotal: 290ms\tremaining: 758ms\n",
      "277:\tlearn: 0.1923314\ttotal: 291ms\tremaining: 756ms\n",
      "278:\tlearn: 0.1921101\ttotal: 292ms\tremaining: 754ms\n",
      "279:\tlearn: 0.1913829\ttotal: 293ms\tremaining: 753ms\n",
      "280:\tlearn: 0.1911909\ttotal: 294ms\tremaining: 752ms\n",
      "281:\tlearn: 0.1904774\ttotal: 295ms\tremaining: 750ms\n",
      "282:\tlearn: 0.1898043\ttotal: 295ms\tremaining: 748ms\n",
      "283:\tlearn: 0.1897115\ttotal: 296ms\tremaining: 747ms\n",
      "284:\tlearn: 0.1890562\ttotal: 297ms\tremaining: 745ms\n",
      "285:\tlearn: 0.1886870\ttotal: 298ms\tremaining: 743ms\n",
      "286:\tlearn: 0.1881863\ttotal: 299ms\tremaining: 742ms\n",
      "287:\tlearn: 0.1876676\ttotal: 299ms\tremaining: 740ms\n",
      "288:\tlearn: 0.1870773\ttotal: 300ms\tremaining: 739ms\n",
      "289:\tlearn: 0.1866070\ttotal: 301ms\tremaining: 737ms\n",
      "290:\tlearn: 0.1860702\ttotal: 302ms\tremaining: 736ms\n",
      "291:\tlearn: 0.1854176\ttotal: 303ms\tremaining: 735ms\n",
      "292:\tlearn: 0.1852373\ttotal: 304ms\tremaining: 733ms\n",
      "293:\tlearn: 0.1849490\ttotal: 304ms\tremaining: 731ms\n",
      "294:\tlearn: 0.1844262\ttotal: 305ms\tremaining: 730ms\n",
      "295:\tlearn: 0.1839629\ttotal: 306ms\tremaining: 728ms\n",
      "296:\tlearn: 0.1834448\ttotal: 307ms\tremaining: 726ms\n",
      "297:\tlearn: 0.1829827\ttotal: 308ms\tremaining: 725ms\n",
      "298:\tlearn: 0.1827245\ttotal: 309ms\tremaining: 723ms\n",
      "299:\tlearn: 0.1824644\ttotal: 309ms\tremaining: 722ms\n",
      "300:\tlearn: 0.1819449\ttotal: 310ms\tremaining: 720ms\n",
      "301:\tlearn: 0.1814713\ttotal: 311ms\tremaining: 719ms\n",
      "302:\tlearn: 0.1809967\ttotal: 312ms\tremaining: 717ms\n",
      "303:\tlearn: 0.1804124\ttotal: 313ms\tremaining: 716ms\n",
      "304:\tlearn: 0.1798912\ttotal: 313ms\tremaining: 714ms\n",
      "305:\tlearn: 0.1792990\ttotal: 314ms\tremaining: 713ms\n",
      "306:\tlearn: 0.1787412\ttotal: 315ms\tremaining: 711ms\n",
      "307:\tlearn: 0.1782187\ttotal: 316ms\tremaining: 710ms\n",
      "308:\tlearn: 0.1777492\ttotal: 317ms\tremaining: 708ms\n",
      "309:\tlearn: 0.1772134\ttotal: 317ms\tremaining: 707ms\n",
      "310:\tlearn: 0.1767742\ttotal: 318ms\tremaining: 705ms\n",
      "311:\tlearn: 0.1763241\ttotal: 319ms\tremaining: 704ms\n",
      "312:\tlearn: 0.1758592\ttotal: 320ms\tremaining: 703ms\n",
      "313:\tlearn: 0.1754860\ttotal: 321ms\tremaining: 701ms\n",
      "314:\tlearn: 0.1751137\ttotal: 322ms\tremaining: 700ms\n",
      "315:\tlearn: 0.1747757\ttotal: 323ms\tremaining: 698ms\n",
      "316:\tlearn: 0.1743588\ttotal: 323ms\tremaining: 697ms\n",
      "317:\tlearn: 0.1739380\ttotal: 324ms\tremaining: 695ms\n",
      "318:\tlearn: 0.1734602\ttotal: 325ms\tremaining: 694ms\n",
      "319:\tlearn: 0.1730571\ttotal: 326ms\tremaining: 692ms\n",
      "320:\tlearn: 0.1725247\ttotal: 327ms\tremaining: 691ms\n",
      "321:\tlearn: 0.1722859\ttotal: 328ms\tremaining: 690ms\n",
      "322:\tlearn: 0.1716818\ttotal: 328ms\tremaining: 688ms\n",
      "323:\tlearn: 0.1712415\ttotal: 329ms\tremaining: 687ms\n",
      "324:\tlearn: 0.1708926\ttotal: 330ms\tremaining: 686ms\n",
      "325:\tlearn: 0.1704958\ttotal: 331ms\tremaining: 684ms\n",
      "326:\tlearn: 0.1702608\ttotal: 332ms\tremaining: 683ms\n",
      "327:\tlearn: 0.1699324\ttotal: 333ms\tremaining: 681ms\n",
      "328:\tlearn: 0.1695655\ttotal: 333ms\tremaining: 680ms\n",
      "329:\tlearn: 0.1691595\ttotal: 334ms\tremaining: 679ms\n",
      "330:\tlearn: 0.1689670\ttotal: 335ms\tremaining: 677ms\n",
      "331:\tlearn: 0.1685578\ttotal: 336ms\tremaining: 676ms\n",
      "332:\tlearn: 0.1683326\ttotal: 337ms\tremaining: 675ms\n",
      "333:\tlearn: 0.1677388\ttotal: 338ms\tremaining: 673ms\n",
      "334:\tlearn: 0.1673235\ttotal: 339ms\tremaining: 672ms\n",
      "335:\tlearn: 0.1669532\ttotal: 340ms\tremaining: 671ms\n",
      "336:\tlearn: 0.1665001\ttotal: 340ms\tremaining: 669ms\n",
      "337:\tlearn: 0.1663277\ttotal: 341ms\tremaining: 668ms\n",
      "338:\tlearn: 0.1659602\ttotal: 342ms\tremaining: 666ms\n",
      "339:\tlearn: 0.1658234\ttotal: 343ms\tremaining: 665ms\n",
      "340:\tlearn: 0.1655593\ttotal: 344ms\tremaining: 665ms\n",
      "341:\tlearn: 0.1651852\ttotal: 345ms\tremaining: 664ms\n",
      "342:\tlearn: 0.1651232\ttotal: 346ms\tremaining: 663ms\n",
      "343:\tlearn: 0.1645664\ttotal: 347ms\tremaining: 661ms\n",
      "344:\tlearn: 0.1642023\ttotal: 348ms\tremaining: 660ms\n",
      "345:\tlearn: 0.1640738\ttotal: 348ms\tremaining: 658ms\n",
      "346:\tlearn: 0.1635611\ttotal: 349ms\tremaining: 657ms\n",
      "347:\tlearn: 0.1631429\ttotal: 351ms\tremaining: 657ms\n",
      "348:\tlearn: 0.1627801\ttotal: 351ms\tremaining: 656ms\n",
      "349:\tlearn: 0.1623058\ttotal: 352ms\tremaining: 654ms\n",
      "350:\tlearn: 0.1621451\ttotal: 353ms\tremaining: 653ms\n",
      "351:\tlearn: 0.1618032\ttotal: 354ms\tremaining: 652ms\n",
      "352:\tlearn: 0.1616067\ttotal: 355ms\tremaining: 650ms\n",
      "353:\tlearn: 0.1612238\ttotal: 356ms\tremaining: 649ms\n",
      "354:\tlearn: 0.1608517\ttotal: 356ms\tremaining: 648ms\n",
      "355:\tlearn: 0.1602977\ttotal: 357ms\tremaining: 646ms\n",
      "356:\tlearn: 0.1598097\ttotal: 358ms\tremaining: 645ms\n",
      "357:\tlearn: 0.1595823\ttotal: 359ms\tremaining: 644ms\n",
      "358:\tlearn: 0.1591128\ttotal: 360ms\tremaining: 642ms\n",
      "359:\tlearn: 0.1590682\ttotal: 360ms\tremaining: 641ms\n",
      "360:\tlearn: 0.1586788\ttotal: 361ms\tremaining: 639ms\n",
      "361:\tlearn: 0.1586140\ttotal: 362ms\tremaining: 638ms\n",
      "362:\tlearn: 0.1584578\ttotal: 363ms\tremaining: 637ms\n",
      "363:\tlearn: 0.1580131\ttotal: 364ms\tremaining: 636ms\n",
      "364:\tlearn: 0.1579490\ttotal: 365ms\tremaining: 634ms\n",
      "365:\tlearn: 0.1576816\ttotal: 365ms\tremaining: 633ms\n",
      "366:\tlearn: 0.1573668\ttotal: 366ms\tremaining: 632ms\n",
      "367:\tlearn: 0.1569099\ttotal: 367ms\tremaining: 630ms\n",
      "368:\tlearn: 0.1565405\ttotal: 368ms\tremaining: 629ms\n",
      "369:\tlearn: 0.1561263\ttotal: 369ms\tremaining: 628ms\n",
      "370:\tlearn: 0.1557276\ttotal: 369ms\tremaining: 626ms\n",
      "371:\tlearn: 0.1552806\ttotal: 370ms\tremaining: 625ms\n",
      "372:\tlearn: 0.1549463\ttotal: 371ms\tremaining: 624ms\n",
      "373:\tlearn: 0.1548022\ttotal: 372ms\tremaining: 622ms\n",
      "374:\tlearn: 0.1543555\ttotal: 373ms\tremaining: 621ms\n",
      "375:\tlearn: 0.1541415\ttotal: 373ms\tremaining: 620ms\n",
      "376:\tlearn: 0.1539816\ttotal: 374ms\tremaining: 618ms\n",
      "377:\tlearn: 0.1536421\ttotal: 375ms\tremaining: 617ms\n",
      "378:\tlearn: 0.1536040\ttotal: 376ms\tremaining: 616ms\n",
      "379:\tlearn: 0.1534372\ttotal: 377ms\tremaining: 615ms\n",
      "380:\tlearn: 0.1531807\ttotal: 378ms\tremaining: 613ms\n",
      "381:\tlearn: 0.1528739\ttotal: 378ms\tremaining: 612ms\n",
      "382:\tlearn: 0.1524630\ttotal: 380ms\tremaining: 612ms\n",
      "383:\tlearn: 0.1521709\ttotal: 381ms\tremaining: 611ms\n",
      "384:\tlearn: 0.1518237\ttotal: 382ms\tremaining: 609ms\n"
     ]
    },
    {
     "name": "stdout",
     "output_type": "stream",
     "text": [
      "385:\tlearn: 0.1515131\ttotal: 383ms\tremaining: 609ms\n",
      "386:\tlearn: 0.1514091\ttotal: 383ms\tremaining: 607ms\n",
      "387:\tlearn: 0.1512309\ttotal: 384ms\tremaining: 606ms\n",
      "388:\tlearn: 0.1509592\ttotal: 385ms\tremaining: 605ms\n",
      "389:\tlearn: 0.1506395\ttotal: 386ms\tremaining: 604ms\n",
      "390:\tlearn: 0.1505870\ttotal: 387ms\tremaining: 603ms\n",
      "391:\tlearn: 0.1505184\ttotal: 388ms\tremaining: 602ms\n",
      "392:\tlearn: 0.1502085\ttotal: 389ms\tremaining: 600ms\n",
      "393:\tlearn: 0.1499548\ttotal: 390ms\tremaining: 599ms\n",
      "394:\tlearn: 0.1495385\ttotal: 390ms\tremaining: 598ms\n",
      "395:\tlearn: 0.1492888\ttotal: 391ms\tremaining: 597ms\n",
      "396:\tlearn: 0.1491541\ttotal: 392ms\tremaining: 595ms\n",
      "397:\tlearn: 0.1487832\ttotal: 393ms\tremaining: 594ms\n",
      "398:\tlearn: 0.1487421\ttotal: 394ms\tremaining: 593ms\n",
      "399:\tlearn: 0.1484576\ttotal: 395ms\tremaining: 592ms\n",
      "400:\tlearn: 0.1482169\ttotal: 395ms\tremaining: 591ms\n",
      "401:\tlearn: 0.1479743\ttotal: 396ms\tremaining: 589ms\n",
      "402:\tlearn: 0.1479128\ttotal: 397ms\tremaining: 588ms\n",
      "403:\tlearn: 0.1477399\ttotal: 398ms\tremaining: 587ms\n",
      "404:\tlearn: 0.1473703\ttotal: 399ms\tremaining: 586ms\n",
      "405:\tlearn: 0.1472540\ttotal: 400ms\tremaining: 585ms\n",
      "406:\tlearn: 0.1468413\ttotal: 400ms\tremaining: 583ms\n",
      "407:\tlearn: 0.1466809\ttotal: 401ms\tremaining: 582ms\n",
      "408:\tlearn: 0.1464413\ttotal: 402ms\tremaining: 581ms\n",
      "409:\tlearn: 0.1461024\ttotal: 403ms\tremaining: 580ms\n",
      "410:\tlearn: 0.1456760\ttotal: 404ms\tremaining: 579ms\n",
      "411:\tlearn: 0.1453891\ttotal: 405ms\tremaining: 578ms\n",
      "412:\tlearn: 0.1451844\ttotal: 406ms\tremaining: 577ms\n",
      "413:\tlearn: 0.1450802\ttotal: 406ms\tremaining: 575ms\n",
      "414:\tlearn: 0.1450178\ttotal: 407ms\tremaining: 574ms\n",
      "415:\tlearn: 0.1447153\ttotal: 408ms\tremaining: 573ms\n",
      "416:\tlearn: 0.1446819\ttotal: 409ms\tremaining: 572ms\n",
      "417:\tlearn: 0.1444193\ttotal: 410ms\tremaining: 571ms\n",
      "418:\tlearn: 0.1443800\ttotal: 411ms\tremaining: 569ms\n",
      "419:\tlearn: 0.1443415\ttotal: 411ms\tremaining: 568ms\n",
      "420:\tlearn: 0.1443062\ttotal: 412ms\tremaining: 567ms\n",
      "421:\tlearn: 0.1440885\ttotal: 413ms\tremaining: 566ms\n",
      "422:\tlearn: 0.1440417\ttotal: 414ms\tremaining: 564ms\n",
      "423:\tlearn: 0.1437623\ttotal: 415ms\tremaining: 563ms\n",
      "424:\tlearn: 0.1435992\ttotal: 416ms\tremaining: 562ms\n",
      "425:\tlearn: 0.1432410\ttotal: 416ms\tremaining: 561ms\n",
      "426:\tlearn: 0.1430389\ttotal: 417ms\tremaining: 560ms\n",
      "427:\tlearn: 0.1430089\ttotal: 418ms\tremaining: 559ms\n",
      "428:\tlearn: 0.1429793\ttotal: 419ms\tremaining: 557ms\n",
      "429:\tlearn: 0.1426617\ttotal: 420ms\tremaining: 556ms\n",
      "430:\tlearn: 0.1424545\ttotal: 420ms\tremaining: 555ms\n",
      "431:\tlearn: 0.1423440\ttotal: 421ms\tremaining: 554ms\n",
      "432:\tlearn: 0.1420768\ttotal: 422ms\tremaining: 553ms\n",
      "433:\tlearn: 0.1420518\ttotal: 423ms\tremaining: 551ms\n",
      "434:\tlearn: 0.1419594\ttotal: 424ms\tremaining: 550ms\n",
      "435:\tlearn: 0.1415427\ttotal: 425ms\tremaining: 549ms\n",
      "436:\tlearn: 0.1414499\ttotal: 425ms\tremaining: 548ms\n",
      "437:\tlearn: 0.1411858\ttotal: 427ms\tremaining: 547ms\n",
      "438:\tlearn: 0.1411529\ttotal: 427ms\tremaining: 546ms\n",
      "439:\tlearn: 0.1410700\ttotal: 428ms\tremaining: 545ms\n",
      "440:\tlearn: 0.1407997\ttotal: 429ms\tremaining: 544ms\n",
      "441:\tlearn: 0.1404256\ttotal: 430ms\tremaining: 543ms\n",
      "442:\tlearn: 0.1400556\ttotal: 431ms\tremaining: 542ms\n",
      "443:\tlearn: 0.1396719\ttotal: 432ms\tremaining: 541ms\n",
      "444:\tlearn: 0.1393995\ttotal: 433ms\tremaining: 540ms\n",
      "445:\tlearn: 0.1393727\ttotal: 433ms\tremaining: 538ms\n",
      "446:\tlearn: 0.1391562\ttotal: 434ms\tremaining: 537ms\n",
      "447:\tlearn: 0.1388968\ttotal: 435ms\tremaining: 536ms\n",
      "448:\tlearn: 0.1385481\ttotal: 436ms\tremaining: 535ms\n",
      "449:\tlearn: 0.1380903\ttotal: 437ms\tremaining: 534ms\n",
      "450:\tlearn: 0.1380463\ttotal: 437ms\tremaining: 532ms\n",
      "451:\tlearn: 0.1378256\ttotal: 438ms\tremaining: 531ms\n",
      "452:\tlearn: 0.1377786\ttotal: 439ms\tremaining: 530ms\n",
      "453:\tlearn: 0.1377500\ttotal: 440ms\tremaining: 529ms\n",
      "454:\tlearn: 0.1377201\ttotal: 441ms\tremaining: 528ms\n",
      "455:\tlearn: 0.1376954\ttotal: 441ms\tremaining: 527ms\n",
      "456:\tlearn: 0.1376694\ttotal: 442ms\tremaining: 525ms\n",
      "457:\tlearn: 0.1375693\ttotal: 443ms\tremaining: 524ms\n",
      "458:\tlearn: 0.1372906\ttotal: 444ms\tremaining: 523ms\n",
      "459:\tlearn: 0.1370177\ttotal: 445ms\tremaining: 523ms\n",
      "460:\tlearn: 0.1366752\ttotal: 446ms\tremaining: 522ms\n",
      "461:\tlearn: 0.1362988\ttotal: 447ms\tremaining: 521ms\n",
      "462:\tlearn: 0.1359954\ttotal: 449ms\tremaining: 521ms\n",
      "463:\tlearn: 0.1359717\ttotal: 450ms\tremaining: 519ms\n",
      "464:\tlearn: 0.1359326\ttotal: 450ms\tremaining: 518ms\n",
      "465:\tlearn: 0.1358889\ttotal: 451ms\tremaining: 517ms\n",
      "466:\tlearn: 0.1356555\ttotal: 452ms\tremaining: 516ms\n",
      "467:\tlearn: 0.1354415\ttotal: 453ms\tremaining: 515ms\n",
      "468:\tlearn: 0.1352440\ttotal: 454ms\tremaining: 514ms\n",
      "469:\tlearn: 0.1350579\ttotal: 455ms\tremaining: 513ms\n",
      "470:\tlearn: 0.1349124\ttotal: 456ms\tremaining: 512ms\n",
      "471:\tlearn: 0.1346293\ttotal: 456ms\tremaining: 511ms\n",
      "472:\tlearn: 0.1342729\ttotal: 457ms\tremaining: 509ms\n",
      "473:\tlearn: 0.1339817\ttotal: 458ms\tremaining: 508ms\n",
      "474:\tlearn: 0.1337067\ttotal: 459ms\tremaining: 507ms\n",
      "475:\tlearn: 0.1336846\ttotal: 460ms\tremaining: 506ms\n",
      "476:\tlearn: 0.1335823\ttotal: 461ms\tremaining: 506ms\n",
      "477:\tlearn: 0.1333703\ttotal: 462ms\tremaining: 504ms\n",
      "478:\tlearn: 0.1333231\ttotal: 463ms\tremaining: 503ms\n",
      "479:\tlearn: 0.1330861\ttotal: 463ms\tremaining: 502ms\n",
      "480:\tlearn: 0.1328696\ttotal: 464ms\tremaining: 501ms\n",
      "481:\tlearn: 0.1325576\ttotal: 465ms\tremaining: 500ms\n",
      "482:\tlearn: 0.1325364\ttotal: 466ms\tremaining: 499ms\n"
     ]
    },
    {
     "name": "stdout",
     "output_type": "stream",
     "text": [
      "483:\tlearn: 0.1325027\ttotal: 467ms\tremaining: 498ms\n",
      "484:\tlearn: 0.1322670\ttotal: 468ms\tremaining: 497ms\n",
      "485:\tlearn: 0.1321971\ttotal: 468ms\tremaining: 495ms\n",
      "486:\tlearn: 0.1321568\ttotal: 469ms\tremaining: 494ms\n",
      "487:\tlearn: 0.1319203\ttotal: 470ms\tremaining: 493ms\n",
      "488:\tlearn: 0.1315558\ttotal: 471ms\tremaining: 492ms\n",
      "489:\tlearn: 0.1315356\ttotal: 472ms\tremaining: 491ms\n",
      "490:\tlearn: 0.1314352\ttotal: 473ms\tremaining: 490ms\n",
      "491:\tlearn: 0.1312484\ttotal: 474ms\tremaining: 489ms\n",
      "492:\tlearn: 0.1311998\ttotal: 474ms\tremaining: 488ms\n",
      "493:\tlearn: 0.1309800\ttotal: 475ms\tremaining: 487ms\n",
      "494:\tlearn: 0.1306709\ttotal: 476ms\tremaining: 486ms\n",
      "495:\tlearn: 0.1303864\ttotal: 477ms\tremaining: 484ms\n",
      "496:\tlearn: 0.1303665\ttotal: 477ms\tremaining: 483ms\n",
      "497:\tlearn: 0.1300719\ttotal: 478ms\tremaining: 482ms\n",
      "498:\tlearn: 0.1299456\ttotal: 479ms\tremaining: 481ms\n",
      "499:\tlearn: 0.1297770\ttotal: 480ms\tremaining: 480ms\n",
      "500:\tlearn: 0.1297504\ttotal: 481ms\tremaining: 479ms\n",
      "501:\tlearn: 0.1297318\ttotal: 482ms\tremaining: 478ms\n",
      "502:\tlearn: 0.1294393\ttotal: 482ms\tremaining: 477ms\n",
      "503:\tlearn: 0.1294119\ttotal: 483ms\tremaining: 476ms\n",
      "504:\tlearn: 0.1291251\ttotal: 484ms\tremaining: 475ms\n",
      "505:\tlearn: 0.1289200\ttotal: 485ms\tremaining: 474ms\n",
      "506:\tlearn: 0.1287474\ttotal: 486ms\tremaining: 473ms\n",
      "507:\tlearn: 0.1285096\ttotal: 487ms\tremaining: 471ms\n",
      "508:\tlearn: 0.1280094\ttotal: 488ms\tremaining: 470ms\n",
      "509:\tlearn: 0.1278590\ttotal: 488ms\tremaining: 469ms\n",
      "510:\tlearn: 0.1275843\ttotal: 489ms\tremaining: 468ms\n",
      "511:\tlearn: 0.1275683\ttotal: 490ms\tremaining: 467ms\n",
      "512:\tlearn: 0.1272969\ttotal: 491ms\tremaining: 466ms\n",
      "513:\tlearn: 0.1269786\ttotal: 492ms\tremaining: 465ms\n",
      "514:\tlearn: 0.1266348\ttotal: 493ms\tremaining: 464ms\n",
      "515:\tlearn: 0.1264140\ttotal: 494ms\tremaining: 463ms\n",
      "516:\tlearn: 0.1262744\ttotal: 494ms\tremaining: 462ms\n",
      "517:\tlearn: 0.1261303\ttotal: 495ms\tremaining: 461ms\n",
      "518:\tlearn: 0.1259378\ttotal: 496ms\tremaining: 460ms\n",
      "519:\tlearn: 0.1257357\ttotal: 497ms\tremaining: 459ms\n",
      "520:\tlearn: 0.1255124\ttotal: 498ms\tremaining: 458ms\n",
      "521:\tlearn: 0.1254559\ttotal: 499ms\tremaining: 457ms\n",
      "522:\tlearn: 0.1252579\ttotal: 499ms\tremaining: 455ms\n",
      "523:\tlearn: 0.1250943\ttotal: 500ms\tremaining: 454ms\n",
      "524:\tlearn: 0.1249360\ttotal: 501ms\tremaining: 453ms\n",
      "525:\tlearn: 0.1246436\ttotal: 502ms\tremaining: 452ms\n",
      "526:\tlearn: 0.1243495\ttotal: 503ms\tremaining: 451ms\n",
      "527:\tlearn: 0.1243343\ttotal: 503ms\tremaining: 450ms\n",
      "528:\tlearn: 0.1243127\ttotal: 504ms\tremaining: 449ms\n",
      "529:\tlearn: 0.1240644\ttotal: 505ms\tremaining: 448ms\n",
      "530:\tlearn: 0.1240219\ttotal: 506ms\tremaining: 447ms\n",
      "531:\tlearn: 0.1237348\ttotal: 506ms\tremaining: 446ms\n",
      "532:\tlearn: 0.1236461\ttotal: 507ms\tremaining: 444ms\n",
      "533:\tlearn: 0.1234280\ttotal: 508ms\tremaining: 443ms\n",
      "534:\tlearn: 0.1231312\ttotal: 509ms\tremaining: 442ms\n",
      "535:\tlearn: 0.1229036\ttotal: 510ms\tremaining: 441ms\n",
      "536:\tlearn: 0.1226295\ttotal: 511ms\tremaining: 440ms\n",
      "537:\tlearn: 0.1225897\ttotal: 512ms\tremaining: 439ms\n",
      "538:\tlearn: 0.1225465\ttotal: 512ms\tremaining: 438ms\n",
      "539:\tlearn: 0.1225318\ttotal: 513ms\tremaining: 437ms\n",
      "540:\tlearn: 0.1223909\ttotal: 514ms\tremaining: 436ms\n",
      "541:\tlearn: 0.1221084\ttotal: 515ms\tremaining: 435ms\n",
      "542:\tlearn: 0.1220217\ttotal: 516ms\tremaining: 434ms\n",
      "543:\tlearn: 0.1218389\ttotal: 516ms\tremaining: 433ms\n",
      "544:\tlearn: 0.1216204\ttotal: 518ms\tremaining: 432ms\n",
      "545:\tlearn: 0.1214127\ttotal: 519ms\tremaining: 431ms\n",
      "546:\tlearn: 0.1213736\ttotal: 519ms\tremaining: 430ms\n",
      "547:\tlearn: 0.1211598\ttotal: 520ms\tremaining: 429ms\n",
      "548:\tlearn: 0.1208514\ttotal: 521ms\tremaining: 428ms\n",
      "549:\tlearn: 0.1206665\ttotal: 522ms\tremaining: 427ms\n",
      "550:\tlearn: 0.1205332\ttotal: 523ms\tremaining: 426ms\n",
      "551:\tlearn: 0.1202099\ttotal: 523ms\tremaining: 425ms\n",
      "552:\tlearn: 0.1200919\ttotal: 524ms\tremaining: 424ms\n",
      "553:\tlearn: 0.1199774\ttotal: 525ms\tremaining: 423ms\n",
      "554:\tlearn: 0.1196834\ttotal: 526ms\tremaining: 422ms\n",
      "555:\tlearn: 0.1193840\ttotal: 527ms\tremaining: 421ms\n",
      "556:\tlearn: 0.1191757\ttotal: 528ms\tremaining: 420ms\n",
      "557:\tlearn: 0.1190319\ttotal: 529ms\tremaining: 419ms\n",
      "558:\tlearn: 0.1189088\ttotal: 529ms\tremaining: 418ms\n",
      "559:\tlearn: 0.1185959\ttotal: 530ms\tremaining: 417ms\n",
      "560:\tlearn: 0.1183178\ttotal: 531ms\tremaining: 415ms\n",
      "561:\tlearn: 0.1182979\ttotal: 532ms\tremaining: 414ms\n",
      "562:\tlearn: 0.1182603\ttotal: 533ms\tremaining: 413ms\n",
      "563:\tlearn: 0.1180594\ttotal: 533ms\tremaining: 412ms\n",
      "564:\tlearn: 0.1178946\ttotal: 534ms\tremaining: 411ms\n",
      "565:\tlearn: 0.1175705\ttotal: 535ms\tremaining: 410ms\n",
      "566:\tlearn: 0.1174887\ttotal: 536ms\tremaining: 409ms\n",
      "567:\tlearn: 0.1174408\ttotal: 537ms\tremaining: 408ms\n",
      "568:\tlearn: 0.1172507\ttotal: 538ms\tremaining: 407ms\n",
      "569:\tlearn: 0.1172368\ttotal: 539ms\tremaining: 406ms\n",
      "570:\tlearn: 0.1168966\ttotal: 539ms\tremaining: 405ms\n",
      "571:\tlearn: 0.1167755\ttotal: 540ms\tremaining: 404ms\n",
      "572:\tlearn: 0.1165997\ttotal: 541ms\tremaining: 403ms\n",
      "573:\tlearn: 0.1163324\ttotal: 542ms\tremaining: 402ms\n",
      "574:\tlearn: 0.1161623\ttotal: 543ms\tremaining: 401ms\n",
      "575:\tlearn: 0.1158548\ttotal: 544ms\tremaining: 400ms\n",
      "576:\tlearn: 0.1155971\ttotal: 544ms\tremaining: 399ms\n",
      "577:\tlearn: 0.1153037\ttotal: 545ms\tremaining: 398ms\n",
      "578:\tlearn: 0.1150199\ttotal: 546ms\tremaining: 397ms\n",
      "579:\tlearn: 0.1149813\ttotal: 547ms\tremaining: 396ms\n",
      "580:\tlearn: 0.1147099\ttotal: 547ms\tremaining: 395ms\n",
      "581:\tlearn: 0.1145437\ttotal: 548ms\tremaining: 394ms\n",
      "582:\tlearn: 0.1143317\ttotal: 550ms\tremaining: 393ms\n",
      "583:\tlearn: 0.1140948\ttotal: 551ms\tremaining: 392ms\n",
      "584:\tlearn: 0.1138788\ttotal: 551ms\tremaining: 391ms\n",
      "585:\tlearn: 0.1138652\ttotal: 552ms\tremaining: 390ms\n",
      "586:\tlearn: 0.1136600\ttotal: 553ms\tremaining: 389ms\n",
      "587:\tlearn: 0.1134142\ttotal: 554ms\tremaining: 388ms\n",
      "588:\tlearn: 0.1131819\ttotal: 554ms\tremaining: 387ms\n",
      "589:\tlearn: 0.1130045\ttotal: 555ms\tremaining: 386ms\n",
      "590:\tlearn: 0.1128088\ttotal: 556ms\tremaining: 385ms\n",
      "591:\tlearn: 0.1126071\ttotal: 557ms\tremaining: 384ms\n",
      "592:\tlearn: 0.1125114\ttotal: 558ms\tremaining: 383ms\n",
      "593:\tlearn: 0.1122629\ttotal: 559ms\tremaining: 382ms\n",
      "594:\tlearn: 0.1121546\ttotal: 559ms\tremaining: 381ms\n",
      "595:\tlearn: 0.1121098\ttotal: 560ms\tremaining: 380ms\n",
      "596:\tlearn: 0.1119666\ttotal: 561ms\tremaining: 379ms\n",
      "597:\tlearn: 0.1117035\ttotal: 562ms\tremaining: 378ms\n",
      "598:\tlearn: 0.1115642\ttotal: 563ms\tremaining: 377ms\n",
      "599:\tlearn: 0.1113075\ttotal: 564ms\tremaining: 376ms\n",
      "600:\tlearn: 0.1112426\ttotal: 565ms\tremaining: 375ms\n",
      "601:\tlearn: 0.1110271\ttotal: 565ms\tremaining: 374ms\n",
      "602:\tlearn: 0.1108092\ttotal: 566ms\tremaining: 373ms\n",
      "603:\tlearn: 0.1106848\ttotal: 567ms\tremaining: 372ms\n",
      "604:\tlearn: 0.1105203\ttotal: 568ms\tremaining: 371ms\n",
      "605:\tlearn: 0.1102446\ttotal: 569ms\tremaining: 370ms\n",
      "606:\tlearn: 0.1099443\ttotal: 570ms\tremaining: 369ms\n",
      "607:\tlearn: 0.1098119\ttotal: 571ms\tremaining: 368ms\n",
      "608:\tlearn: 0.1096780\ttotal: 572ms\tremaining: 367ms\n"
     ]
    },
    {
     "name": "stdout",
     "output_type": "stream",
     "text": [
      "609:\tlearn: 0.1095235\ttotal: 573ms\tremaining: 366ms\n",
      "610:\tlearn: 0.1095099\ttotal: 574ms\tremaining: 365ms\n",
      "611:\tlearn: 0.1094695\ttotal: 575ms\tremaining: 364ms\n",
      "612:\tlearn: 0.1093121\ttotal: 576ms\tremaining: 363ms\n",
      "613:\tlearn: 0.1091250\ttotal: 577ms\tremaining: 363ms\n",
      "614:\tlearn: 0.1089435\ttotal: 578ms\tremaining: 362ms\n",
      "615:\tlearn: 0.1087549\ttotal: 579ms\tremaining: 361ms\n",
      "616:\tlearn: 0.1085228\ttotal: 579ms\tremaining: 360ms\n",
      "617:\tlearn: 0.1083350\ttotal: 580ms\tremaining: 359ms\n",
      "618:\tlearn: 0.1081164\ttotal: 581ms\tremaining: 358ms\n",
      "619:\tlearn: 0.1080193\ttotal: 582ms\tremaining: 357ms\n",
      "620:\tlearn: 0.1078902\ttotal: 583ms\tremaining: 356ms\n",
      "621:\tlearn: 0.1077160\ttotal: 584ms\tremaining: 355ms\n",
      "622:\tlearn: 0.1074813\ttotal: 585ms\tremaining: 354ms\n",
      "623:\tlearn: 0.1074467\ttotal: 586ms\tremaining: 353ms\n",
      "624:\tlearn: 0.1074340\ttotal: 587ms\tremaining: 352ms\n",
      "625:\tlearn: 0.1073999\ttotal: 588ms\tremaining: 351ms\n",
      "626:\tlearn: 0.1072284\ttotal: 589ms\tremaining: 350ms\n",
      "627:\tlearn: 0.1070102\ttotal: 590ms\tremaining: 349ms\n",
      "628:\tlearn: 0.1069149\ttotal: 590ms\tremaining: 348ms\n",
      "629:\tlearn: 0.1067031\ttotal: 591ms\tremaining: 347ms\n",
      "630:\tlearn: 0.1065886\ttotal: 592ms\tremaining: 346ms\n",
      "631:\tlearn: 0.1064503\ttotal: 593ms\tremaining: 345ms\n",
      "632:\tlearn: 0.1063014\ttotal: 594ms\tremaining: 344ms\n",
      "633:\tlearn: 0.1059983\ttotal: 595ms\tremaining: 343ms\n",
      "634:\tlearn: 0.1058492\ttotal: 596ms\tremaining: 342ms\n",
      "635:\tlearn: 0.1055679\ttotal: 597ms\tremaining: 342ms\n",
      "636:\tlearn: 0.1053248\ttotal: 598ms\tremaining: 341ms\n",
      "637:\tlearn: 0.1050831\ttotal: 599ms\tremaining: 340ms\n",
      "638:\tlearn: 0.1048552\ttotal: 600ms\tremaining: 339ms\n",
      "639:\tlearn: 0.1046816\ttotal: 601ms\tremaining: 338ms\n",
      "640:\tlearn: 0.1044891\ttotal: 602ms\tremaining: 337ms\n",
      "641:\tlearn: 0.1042683\ttotal: 603ms\tremaining: 336ms\n",
      "642:\tlearn: 0.1040968\ttotal: 604ms\tremaining: 335ms\n",
      "643:\tlearn: 0.1038411\ttotal: 605ms\tremaining: 334ms\n",
      "644:\tlearn: 0.1037074\ttotal: 606ms\tremaining: 333ms\n",
      "645:\tlearn: 0.1035369\ttotal: 607ms\tremaining: 332ms\n",
      "646:\tlearn: 0.1033268\ttotal: 608ms\tremaining: 332ms\n",
      "647:\tlearn: 0.1031914\ttotal: 608ms\tremaining: 331ms\n",
      "648:\tlearn: 0.1029681\ttotal: 609ms\tremaining: 330ms\n",
      "649:\tlearn: 0.1027699\ttotal: 610ms\tremaining: 329ms\n",
      "650:\tlearn: 0.1025697\ttotal: 612ms\tremaining: 328ms\n",
      "651:\tlearn: 0.1024236\ttotal: 612ms\tremaining: 327ms\n",
      "652:\tlearn: 0.1021460\ttotal: 614ms\tremaining: 326ms\n",
      "653:\tlearn: 0.1018886\ttotal: 615ms\tremaining: 325ms\n",
      "654:\tlearn: 0.1018515\ttotal: 616ms\tremaining: 324ms\n",
      "655:\tlearn: 0.1016520\ttotal: 616ms\tremaining: 323ms\n",
      "656:\tlearn: 0.1015136\ttotal: 617ms\tremaining: 322ms\n",
      "657:\tlearn: 0.1012965\ttotal: 618ms\tremaining: 321ms\n",
      "658:\tlearn: 0.1011824\ttotal: 619ms\tremaining: 320ms\n",
      "659:\tlearn: 0.1010417\ttotal: 620ms\tremaining: 319ms\n",
      "660:\tlearn: 0.1008299\ttotal: 621ms\tremaining: 318ms\n",
      "661:\tlearn: 0.1006616\ttotal: 622ms\tremaining: 317ms\n",
      "662:\tlearn: 0.1004923\ttotal: 622ms\tremaining: 316ms\n",
      "663:\tlearn: 0.1003828\ttotal: 623ms\tremaining: 315ms\n",
      "664:\tlearn: 0.1003297\ttotal: 624ms\tremaining: 314ms\n",
      "665:\tlearn: 0.1001575\ttotal: 625ms\tremaining: 313ms\n",
      "666:\tlearn: 0.1001283\ttotal: 626ms\tremaining: 312ms\n",
      "667:\tlearn: 0.0999611\ttotal: 627ms\tremaining: 311ms\n",
      "668:\tlearn: 0.0997530\ttotal: 628ms\tremaining: 311ms\n",
      "669:\tlearn: 0.0996478\ttotal: 628ms\tremaining: 310ms\n",
      "670:\tlearn: 0.0995242\ttotal: 629ms\tremaining: 309ms\n",
      "671:\tlearn: 0.0994364\ttotal: 630ms\tremaining: 308ms\n",
      "672:\tlearn: 0.0992796\ttotal: 632ms\tremaining: 307ms\n",
      "673:\tlearn: 0.0991099\ttotal: 633ms\tremaining: 306ms\n",
      "674:\tlearn: 0.0990804\ttotal: 633ms\tremaining: 305ms\n",
      "675:\tlearn: 0.0988766\ttotal: 634ms\tremaining: 304ms\n",
      "676:\tlearn: 0.0988018\ttotal: 635ms\tremaining: 303ms\n",
      "677:\tlearn: 0.0985421\ttotal: 636ms\tremaining: 302ms\n",
      "678:\tlearn: 0.0984944\ttotal: 637ms\tremaining: 301ms\n",
      "679:\tlearn: 0.0983037\ttotal: 637ms\tremaining: 300ms\n",
      "680:\tlearn: 0.0981445\ttotal: 638ms\tremaining: 299ms\n",
      "681:\tlearn: 0.0979268\ttotal: 639ms\tremaining: 298ms\n",
      "682:\tlearn: 0.0978168\ttotal: 640ms\tremaining: 297ms\n",
      "683:\tlearn: 0.0977110\ttotal: 641ms\tremaining: 296ms\n",
      "684:\tlearn: 0.0975146\ttotal: 642ms\tremaining: 295ms\n",
      "685:\tlearn: 0.0973964\ttotal: 642ms\tremaining: 294ms\n",
      "686:\tlearn: 0.0972999\ttotal: 643ms\tremaining: 293ms\n",
      "687:\tlearn: 0.0972026\ttotal: 644ms\tremaining: 292ms\n",
      "688:\tlearn: 0.0970557\ttotal: 645ms\tremaining: 291ms\n",
      "689:\tlearn: 0.0968493\ttotal: 646ms\tremaining: 290ms\n",
      "690:\tlearn: 0.0967239\ttotal: 646ms\tremaining: 289ms\n",
      "691:\tlearn: 0.0965866\ttotal: 647ms\tremaining: 288ms\n",
      "692:\tlearn: 0.0963729\ttotal: 648ms\tremaining: 287ms\n",
      "693:\tlearn: 0.0962598\ttotal: 649ms\tremaining: 286ms\n",
      "694:\tlearn: 0.0961479\ttotal: 650ms\tremaining: 285ms\n",
      "695:\tlearn: 0.0960256\ttotal: 651ms\tremaining: 284ms\n",
      "696:\tlearn: 0.0958656\ttotal: 651ms\tremaining: 283ms\n",
      "697:\tlearn: 0.0957225\ttotal: 652ms\tremaining: 282ms\n",
      "698:\tlearn: 0.0955382\ttotal: 653ms\tremaining: 281ms\n",
      "699:\tlearn: 0.0954178\ttotal: 654ms\tremaining: 280ms\n",
      "700:\tlearn: 0.0953079\ttotal: 655ms\tremaining: 279ms\n",
      "701:\tlearn: 0.0951550\ttotal: 656ms\tremaining: 278ms\n"
     ]
    },
    {
     "name": "stdout",
     "output_type": "stream",
     "text": [
      "702:\tlearn: 0.0950413\ttotal: 657ms\tremaining: 278ms\n",
      "703:\tlearn: 0.0950158\ttotal: 658ms\tremaining: 277ms\n",
      "704:\tlearn: 0.0949151\ttotal: 659ms\tremaining: 276ms\n",
      "705:\tlearn: 0.0946858\ttotal: 660ms\tremaining: 275ms\n",
      "706:\tlearn: 0.0945066\ttotal: 660ms\tremaining: 274ms\n",
      "707:\tlearn: 0.0943856\ttotal: 661ms\tremaining: 273ms\n",
      "708:\tlearn: 0.0942344\ttotal: 662ms\tremaining: 272ms\n",
      "709:\tlearn: 0.0940123\ttotal: 663ms\tremaining: 271ms\n",
      "710:\tlearn: 0.0937850\ttotal: 664ms\tremaining: 270ms\n",
      "711:\tlearn: 0.0936561\ttotal: 664ms\tremaining: 269ms\n",
      "712:\tlearn: 0.0936340\ttotal: 665ms\tremaining: 268ms\n",
      "713:\tlearn: 0.0935264\ttotal: 666ms\tremaining: 267ms\n",
      "714:\tlearn: 0.0933619\ttotal: 667ms\tremaining: 266ms\n",
      "715:\tlearn: 0.0931991\ttotal: 668ms\tremaining: 265ms\n",
      "716:\tlearn: 0.0931384\ttotal: 668ms\tremaining: 264ms\n",
      "717:\tlearn: 0.0931237\ttotal: 669ms\tremaining: 263ms\n",
      "718:\tlearn: 0.0929361\ttotal: 670ms\tremaining: 262ms\n",
      "719:\tlearn: 0.0928272\ttotal: 671ms\tremaining: 261ms\n",
      "720:\tlearn: 0.0927189\ttotal: 672ms\tremaining: 260ms\n",
      "721:\tlearn: 0.0927066\ttotal: 672ms\tremaining: 259ms\n",
      "722:\tlearn: 0.0925806\ttotal: 673ms\tremaining: 258ms\n",
      "723:\tlearn: 0.0923876\ttotal: 674ms\tremaining: 257ms\n",
      "724:\tlearn: 0.0921854\ttotal: 675ms\tremaining: 256ms\n",
      "725:\tlearn: 0.0920618\ttotal: 676ms\tremaining: 255ms\n",
      "726:\tlearn: 0.0919106\ttotal: 677ms\tremaining: 254ms\n",
      "727:\tlearn: 0.0918589\ttotal: 677ms\tremaining: 253ms\n",
      "728:\tlearn: 0.0917464\ttotal: 678ms\tremaining: 252ms\n",
      "729:\tlearn: 0.0916301\ttotal: 679ms\tremaining: 251ms\n",
      "730:\tlearn: 0.0915269\ttotal: 680ms\tremaining: 250ms\n",
      "731:\tlearn: 0.0913712\ttotal: 681ms\tremaining: 249ms\n",
      "732:\tlearn: 0.0912038\ttotal: 681ms\tremaining: 248ms\n",
      "733:\tlearn: 0.0910582\ttotal: 682ms\tremaining: 247ms\n",
      "734:\tlearn: 0.0909062\ttotal: 683ms\tremaining: 246ms\n",
      "735:\tlearn: 0.0908595\ttotal: 684ms\tremaining: 245ms\n",
      "736:\tlearn: 0.0908115\ttotal: 685ms\tremaining: 244ms\n",
      "737:\tlearn: 0.0907911\ttotal: 686ms\tremaining: 243ms\n",
      "738:\tlearn: 0.0906552\ttotal: 686ms\tremaining: 242ms\n",
      "739:\tlearn: 0.0905252\ttotal: 687ms\tremaining: 241ms\n",
      "740:\tlearn: 0.0904440\ttotal: 688ms\tremaining: 240ms\n",
      "741:\tlearn: 0.0903369\ttotal: 689ms\tremaining: 239ms\n",
      "742:\tlearn: 0.0902529\ttotal: 689ms\tremaining: 238ms\n",
      "743:\tlearn: 0.0901316\ttotal: 690ms\tremaining: 237ms\n",
      "744:\tlearn: 0.0899456\ttotal: 691ms\tremaining: 237ms\n",
      "745:\tlearn: 0.0897931\ttotal: 693ms\tremaining: 236ms\n",
      "746:\tlearn: 0.0897096\ttotal: 693ms\tremaining: 235ms\n",
      "747:\tlearn: 0.0896037\ttotal: 694ms\tremaining: 234ms\n",
      "748:\tlearn: 0.0894445\ttotal: 695ms\tremaining: 233ms\n",
      "749:\tlearn: 0.0893776\ttotal: 696ms\tremaining: 232ms\n",
      "750:\tlearn: 0.0892274\ttotal: 696ms\tremaining: 231ms\n",
      "751:\tlearn: 0.0891961\ttotal: 697ms\tremaining: 230ms\n",
      "752:\tlearn: 0.0890468\ttotal: 698ms\tremaining: 229ms\n",
      "753:\tlearn: 0.0889704\ttotal: 699ms\tremaining: 228ms\n",
      "754:\tlearn: 0.0887902\ttotal: 700ms\tremaining: 227ms\n",
      "755:\tlearn: 0.0886734\ttotal: 701ms\tremaining: 226ms\n",
      "756:\tlearn: 0.0884670\ttotal: 701ms\tremaining: 225ms\n",
      "757:\tlearn: 0.0883523\ttotal: 702ms\tremaining: 224ms\n",
      "758:\tlearn: 0.0882245\ttotal: 703ms\tremaining: 223ms\n",
      "759:\tlearn: 0.0881251\ttotal: 704ms\tremaining: 222ms\n",
      "760:\tlearn: 0.0880097\ttotal: 705ms\tremaining: 221ms\n",
      "761:\tlearn: 0.0878780\ttotal: 705ms\tremaining: 220ms\n",
      "762:\tlearn: 0.0878029\ttotal: 706ms\tremaining: 219ms\n",
      "763:\tlearn: 0.0876561\ttotal: 707ms\tremaining: 218ms\n",
      "764:\tlearn: 0.0875155\ttotal: 708ms\tremaining: 218ms\n",
      "765:\tlearn: 0.0873942\ttotal: 709ms\tremaining: 217ms\n",
      "766:\tlearn: 0.0872658\ttotal: 710ms\tremaining: 216ms\n",
      "767:\tlearn: 0.0871782\ttotal: 711ms\tremaining: 215ms\n",
      "768:\tlearn: 0.0870963\ttotal: 711ms\tremaining: 214ms\n",
      "769:\tlearn: 0.0870333\ttotal: 712ms\tremaining: 213ms\n",
      "770:\tlearn: 0.0869413\ttotal: 713ms\tremaining: 212ms\n",
      "771:\tlearn: 0.0867470\ttotal: 714ms\tremaining: 211ms\n",
      "772:\tlearn: 0.0866083\ttotal: 715ms\tremaining: 210ms\n",
      "773:\tlearn: 0.0864404\ttotal: 715ms\tremaining: 209ms\n",
      "774:\tlearn: 0.0862975\ttotal: 716ms\tremaining: 208ms\n",
      "775:\tlearn: 0.0861936\ttotal: 717ms\tremaining: 207ms\n",
      "776:\tlearn: 0.0860767\ttotal: 718ms\tremaining: 206ms\n",
      "777:\tlearn: 0.0859607\ttotal: 719ms\tremaining: 205ms\n",
      "778:\tlearn: 0.0858477\ttotal: 720ms\tremaining: 204ms\n",
      "779:\tlearn: 0.0858063\ttotal: 720ms\tremaining: 203ms\n",
      "780:\tlearn: 0.0857309\ttotal: 721ms\tremaining: 202ms\n",
      "781:\tlearn: 0.0856023\ttotal: 722ms\tremaining: 201ms\n",
      "782:\tlearn: 0.0855098\ttotal: 723ms\tremaining: 200ms\n",
      "783:\tlearn: 0.0853397\ttotal: 724ms\tremaining: 200ms\n",
      "784:\tlearn: 0.0852488\ttotal: 725ms\tremaining: 199ms\n",
      "785:\tlearn: 0.0851014\ttotal: 726ms\tremaining: 198ms\n",
      "786:\tlearn: 0.0849472\ttotal: 727ms\tremaining: 197ms\n",
      "787:\tlearn: 0.0848716\ttotal: 727ms\tremaining: 196ms\n",
      "788:\tlearn: 0.0847390\ttotal: 728ms\tremaining: 195ms\n",
      "789:\tlearn: 0.0847026\ttotal: 729ms\tremaining: 194ms\n",
      "790:\tlearn: 0.0846302\ttotal: 730ms\tremaining: 193ms\n",
      "791:\tlearn: 0.0844077\ttotal: 731ms\tremaining: 192ms\n",
      "792:\tlearn: 0.0842750\ttotal: 732ms\tremaining: 191ms\n",
      "793:\tlearn: 0.0840976\ttotal: 732ms\tremaining: 190ms\n",
      "794:\tlearn: 0.0839289\ttotal: 733ms\tremaining: 189ms\n",
      "795:\tlearn: 0.0838864\ttotal: 734ms\tremaining: 188ms\n",
      "796:\tlearn: 0.0837450\ttotal: 735ms\tremaining: 187ms\n",
      "797:\tlearn: 0.0835756\ttotal: 736ms\tremaining: 186ms\n",
      "798:\tlearn: 0.0834195\ttotal: 737ms\tremaining: 185ms\n",
      "799:\tlearn: 0.0832679\ttotal: 737ms\tremaining: 184ms\n",
      "800:\tlearn: 0.0831215\ttotal: 738ms\tremaining: 183ms\n",
      "801:\tlearn: 0.0830122\ttotal: 739ms\tremaining: 182ms\n",
      "802:\tlearn: 0.0829176\ttotal: 740ms\tremaining: 182ms\n",
      "803:\tlearn: 0.0828436\ttotal: 741ms\tremaining: 181ms\n",
      "804:\tlearn: 0.0826862\ttotal: 741ms\tremaining: 180ms\n",
      "805:\tlearn: 0.0825043\ttotal: 742ms\tremaining: 179ms\n",
      "806:\tlearn: 0.0823886\ttotal: 743ms\tremaining: 178ms\n",
      "807:\tlearn: 0.0823012\ttotal: 744ms\tremaining: 177ms\n",
      "808:\tlearn: 0.0822122\ttotal: 745ms\tremaining: 176ms\n",
      "809:\tlearn: 0.0820445\ttotal: 746ms\tremaining: 175ms\n",
      "810:\tlearn: 0.0819037\ttotal: 746ms\tremaining: 174ms\n",
      "811:\tlearn: 0.0817788\ttotal: 747ms\tremaining: 173ms\n",
      "812:\tlearn: 0.0816039\ttotal: 748ms\tremaining: 172ms\n",
      "813:\tlearn: 0.0815183\ttotal: 749ms\tremaining: 171ms\n",
      "814:\tlearn: 0.0814687\ttotal: 750ms\tremaining: 170ms\n",
      "815:\tlearn: 0.0813534\ttotal: 751ms\tremaining: 169ms\n",
      "816:\tlearn: 0.0812298\ttotal: 752ms\tremaining: 168ms\n",
      "817:\tlearn: 0.0810882\ttotal: 752ms\tremaining: 167ms\n",
      "818:\tlearn: 0.0810807\ttotal: 753ms\tremaining: 166ms\n",
      "819:\tlearn: 0.0809770\ttotal: 754ms\tremaining: 165ms\n",
      "820:\tlearn: 0.0808174\ttotal: 755ms\tremaining: 165ms\n",
      "821:\tlearn: 0.0806600\ttotal: 756ms\tremaining: 164ms\n",
      "822:\tlearn: 0.0805453\ttotal: 756ms\tremaining: 163ms\n",
      "823:\tlearn: 0.0804555\ttotal: 757ms\tremaining: 162ms\n",
      "824:\tlearn: 0.0803835\ttotal: 758ms\tremaining: 161ms\n",
      "825:\tlearn: 0.0803755\ttotal: 759ms\tremaining: 160ms\n",
      "826:\tlearn: 0.0803319\ttotal: 760ms\tremaining: 159ms\n",
      "827:\tlearn: 0.0802653\ttotal: 761ms\tremaining: 158ms\n",
      "828:\tlearn: 0.0801779\ttotal: 761ms\tremaining: 157ms\n",
      "829:\tlearn: 0.0800390\ttotal: 762ms\tremaining: 156ms\n"
     ]
    },
    {
     "name": "stdout",
     "output_type": "stream",
     "text": [
      "830:\tlearn: 0.0799633\ttotal: 763ms\tremaining: 155ms\n",
      "831:\tlearn: 0.0798811\ttotal: 764ms\tremaining: 154ms\n",
      "832:\tlearn: 0.0797788\ttotal: 765ms\tremaining: 153ms\n",
      "833:\tlearn: 0.0796602\ttotal: 766ms\tremaining: 152ms\n",
      "834:\tlearn: 0.0795853\ttotal: 767ms\tremaining: 151ms\n",
      "835:\tlearn: 0.0794743\ttotal: 767ms\tremaining: 151ms\n",
      "836:\tlearn: 0.0792969\ttotal: 768ms\tremaining: 150ms\n",
      "837:\tlearn: 0.0792117\ttotal: 769ms\tremaining: 149ms\n",
      "838:\tlearn: 0.0791947\ttotal: 770ms\tremaining: 148ms\n",
      "839:\tlearn: 0.0790988\ttotal: 771ms\tremaining: 147ms\n",
      "840:\tlearn: 0.0790406\ttotal: 772ms\tremaining: 146ms\n",
      "841:\tlearn: 0.0789964\ttotal: 773ms\tremaining: 145ms\n",
      "842:\tlearn: 0.0788245\ttotal: 773ms\tremaining: 144ms\n",
      "843:\tlearn: 0.0787341\ttotal: 774ms\tremaining: 143ms\n",
      "844:\tlearn: 0.0785846\ttotal: 775ms\tremaining: 142ms\n",
      "845:\tlearn: 0.0784990\ttotal: 776ms\tremaining: 141ms\n",
      "846:\tlearn: 0.0783928\ttotal: 777ms\tremaining: 140ms\n",
      "847:\tlearn: 0.0783142\ttotal: 778ms\tremaining: 139ms\n",
      "848:\tlearn: 0.0782690\ttotal: 779ms\tremaining: 138ms\n",
      "849:\tlearn: 0.0781181\ttotal: 779ms\tremaining: 138ms\n",
      "850:\tlearn: 0.0779228\ttotal: 780ms\tremaining: 137ms\n",
      "851:\tlearn: 0.0778556\ttotal: 781ms\tremaining: 136ms\n",
      "852:\tlearn: 0.0777996\ttotal: 783ms\tremaining: 135ms\n",
      "853:\tlearn: 0.0776420\ttotal: 783ms\tremaining: 134ms\n",
      "854:\tlearn: 0.0774928\ttotal: 784ms\tremaining: 133ms\n",
      "855:\tlearn: 0.0773390\ttotal: 785ms\tremaining: 132ms\n",
      "856:\tlearn: 0.0772547\ttotal: 786ms\tremaining: 131ms\n",
      "857:\tlearn: 0.0771141\ttotal: 787ms\tremaining: 130ms\n",
      "858:\tlearn: 0.0769749\ttotal: 788ms\tremaining: 129ms\n",
      "859:\tlearn: 0.0769580\ttotal: 789ms\tremaining: 128ms\n",
      "860:\tlearn: 0.0768942\ttotal: 791ms\tremaining: 128ms\n",
      "861:\tlearn: 0.0768880\ttotal: 791ms\tremaining: 127ms\n",
      "862:\tlearn: 0.0768621\ttotal: 792ms\tremaining: 126ms\n",
      "863:\tlearn: 0.0767871\ttotal: 793ms\tremaining: 125ms\n",
      "864:\tlearn: 0.0766903\ttotal: 794ms\tremaining: 124ms\n",
      "865:\tlearn: 0.0765857\ttotal: 794ms\tremaining: 123ms\n",
      "866:\tlearn: 0.0764681\ttotal: 795ms\tremaining: 122ms\n",
      "867:\tlearn: 0.0763019\ttotal: 796ms\tremaining: 121ms\n",
      "868:\tlearn: 0.0762935\ttotal: 797ms\tremaining: 120ms\n",
      "869:\tlearn: 0.0761791\ttotal: 798ms\tremaining: 119ms\n",
      "870:\tlearn: 0.0760991\ttotal: 799ms\tremaining: 118ms\n",
      "871:\tlearn: 0.0760136\ttotal: 799ms\tremaining: 117ms\n",
      "872:\tlearn: 0.0759385\ttotal: 800ms\tremaining: 116ms\n",
      "873:\tlearn: 0.0758383\ttotal: 801ms\tremaining: 116ms\n",
      "874:\tlearn: 0.0756723\ttotal: 802ms\tremaining: 115ms\n",
      "875:\tlearn: 0.0755494\ttotal: 803ms\tremaining: 114ms\n",
      "876:\tlearn: 0.0754541\ttotal: 804ms\tremaining: 113ms\n",
      "877:\tlearn: 0.0753881\ttotal: 805ms\tremaining: 112ms\n",
      "878:\tlearn: 0.0753029\ttotal: 805ms\tremaining: 111ms\n",
      "879:\tlearn: 0.0751527\ttotal: 806ms\tremaining: 110ms\n",
      "880:\tlearn: 0.0749834\ttotal: 807ms\tremaining: 109ms\n",
      "881:\tlearn: 0.0748678\ttotal: 808ms\tremaining: 108ms\n",
      "882:\tlearn: 0.0747764\ttotal: 808ms\tremaining: 107ms\n",
      "883:\tlearn: 0.0747596\ttotal: 809ms\tremaining: 106ms\n",
      "884:\tlearn: 0.0745959\ttotal: 810ms\tremaining: 105ms\n",
      "885:\tlearn: 0.0745447\ttotal: 811ms\tremaining: 104ms\n",
      "886:\tlearn: 0.0744564\ttotal: 812ms\tremaining: 103ms\n",
      "887:\tlearn: 0.0743512\ttotal: 812ms\tremaining: 102ms\n",
      "888:\tlearn: 0.0742696\ttotal: 813ms\tremaining: 102ms\n",
      "889:\tlearn: 0.0741486\ttotal: 814ms\tremaining: 101ms\n",
      "890:\tlearn: 0.0740553\ttotal: 815ms\tremaining: 99.7ms\n",
      "891:\tlearn: 0.0739328\ttotal: 816ms\tremaining: 98.8ms\n",
      "892:\tlearn: 0.0737977\ttotal: 817ms\tremaining: 97.8ms\n",
      "893:\tlearn: 0.0736510\ttotal: 817ms\tremaining: 96.9ms\n",
      "894:\tlearn: 0.0735983\ttotal: 818ms\tremaining: 96ms\n",
      "895:\tlearn: 0.0735447\ttotal: 819ms\tremaining: 95.1ms\n",
      "896:\tlearn: 0.0734892\ttotal: 820ms\tremaining: 94.1ms\n",
      "897:\tlearn: 0.0734237\ttotal: 821ms\tremaining: 93.2ms\n",
      "898:\tlearn: 0.0733359\ttotal: 821ms\tremaining: 92.3ms\n",
      "899:\tlearn: 0.0732035\ttotal: 822ms\tremaining: 91.4ms\n",
      "900:\tlearn: 0.0730955\ttotal: 824ms\tremaining: 90.5ms\n",
      "901:\tlearn: 0.0729558\ttotal: 825ms\tremaining: 89.6ms\n",
      "902:\tlearn: 0.0728359\ttotal: 825ms\tremaining: 88.7ms\n",
      "903:\tlearn: 0.0727199\ttotal: 826ms\tremaining: 87.7ms\n",
      "904:\tlearn: 0.0726554\ttotal: 827ms\tremaining: 86.8ms\n",
      "905:\tlearn: 0.0725593\ttotal: 828ms\tremaining: 85.9ms\n",
      "906:\tlearn: 0.0724242\ttotal: 828ms\tremaining: 84.9ms\n",
      "907:\tlearn: 0.0723716\ttotal: 829ms\tremaining: 84ms\n",
      "908:\tlearn: 0.0722039\ttotal: 830ms\tremaining: 83.1ms\n",
      "909:\tlearn: 0.0721197\ttotal: 831ms\tremaining: 82.1ms\n",
      "910:\tlearn: 0.0719235\ttotal: 831ms\tremaining: 81.2ms\n",
      "911:\tlearn: 0.0718229\ttotal: 832ms\tremaining: 80.3ms\n",
      "912:\tlearn: 0.0716199\ttotal: 833ms\tremaining: 79.4ms\n",
      "913:\tlearn: 0.0714916\ttotal: 834ms\tremaining: 78.5ms\n",
      "914:\tlearn: 0.0714866\ttotal: 835ms\tremaining: 77.5ms\n",
      "915:\tlearn: 0.0714554\ttotal: 836ms\tremaining: 76.6ms\n",
      "916:\tlearn: 0.0713473\ttotal: 836ms\tremaining: 75.7ms\n",
      "917:\tlearn: 0.0713020\ttotal: 837ms\tremaining: 74.8ms\n",
      "918:\tlearn: 0.0711496\ttotal: 838ms\tremaining: 73.9ms\n",
      "919:\tlearn: 0.0710329\ttotal: 839ms\tremaining: 72.9ms\n",
      "920:\tlearn: 0.0709150\ttotal: 840ms\tremaining: 72ms\n",
      "921:\tlearn: 0.0709058\ttotal: 840ms\tremaining: 71.1ms\n",
      "922:\tlearn: 0.0707809\ttotal: 841ms\tremaining: 70.2ms\n",
      "923:\tlearn: 0.0706946\ttotal: 842ms\tremaining: 69.3ms\n",
      "924:\tlearn: 0.0705982\ttotal: 843ms\tremaining: 68.3ms\n",
      "925:\tlearn: 0.0705605\ttotal: 844ms\tremaining: 67.4ms\n",
      "926:\tlearn: 0.0704229\ttotal: 845ms\tremaining: 66.5ms\n",
      "927:\tlearn: 0.0703703\ttotal: 846ms\tremaining: 65.6ms\n"
     ]
    },
    {
     "name": "stdout",
     "output_type": "stream",
     "text": [
      "928:\tlearn: 0.0702728\ttotal: 847ms\tremaining: 64.7ms\n",
      "929:\tlearn: 0.0701936\ttotal: 848ms\tremaining: 63.8ms\n",
      "930:\tlearn: 0.0701077\ttotal: 848ms\tremaining: 62.9ms\n",
      "931:\tlearn: 0.0700682\ttotal: 849ms\tremaining: 62ms\n",
      "932:\tlearn: 0.0699250\ttotal: 850ms\tremaining: 61ms\n",
      "933:\tlearn: 0.0698853\ttotal: 851ms\tremaining: 60.1ms\n",
      "934:\tlearn: 0.0698471\ttotal: 852ms\tremaining: 59.2ms\n",
      "935:\tlearn: 0.0697993\ttotal: 853ms\tremaining: 58.3ms\n",
      "936:\tlearn: 0.0696964\ttotal: 853ms\tremaining: 57.4ms\n",
      "937:\tlearn: 0.0695339\ttotal: 854ms\tremaining: 56.5ms\n",
      "938:\tlearn: 0.0695260\ttotal: 855ms\tremaining: 55.6ms\n",
      "939:\tlearn: 0.0694035\ttotal: 856ms\tremaining: 54.6ms\n",
      "940:\tlearn: 0.0693187\ttotal: 857ms\tremaining: 53.7ms\n",
      "941:\tlearn: 0.0692558\ttotal: 858ms\tremaining: 52.8ms\n",
      "942:\tlearn: 0.0691280\ttotal: 858ms\tremaining: 51.9ms\n",
      "943:\tlearn: 0.0690676\ttotal: 859ms\tremaining: 51ms\n",
      "944:\tlearn: 0.0689473\ttotal: 860ms\tremaining: 50ms\n",
      "945:\tlearn: 0.0687907\ttotal: 861ms\tremaining: 49.1ms\n",
      "946:\tlearn: 0.0687683\ttotal: 862ms\tremaining: 48.2ms\n",
      "947:\tlearn: 0.0687011\ttotal: 862ms\tremaining: 47.3ms\n",
      "948:\tlearn: 0.0686162\ttotal: 863ms\tremaining: 46.4ms\n",
      "949:\tlearn: 0.0685815\ttotal: 864ms\tremaining: 45.5ms\n",
      "950:\tlearn: 0.0684646\ttotal: 865ms\tremaining: 44.6ms\n",
      "951:\tlearn: 0.0684241\ttotal: 866ms\tremaining: 43.7ms\n",
      "952:\tlearn: 0.0683301\ttotal: 867ms\tremaining: 42.7ms\n",
      "953:\tlearn: 0.0682297\ttotal: 867ms\tremaining: 41.8ms\n",
      "954:\tlearn: 0.0681718\ttotal: 868ms\tremaining: 40.9ms\n",
      "955:\tlearn: 0.0680831\ttotal: 869ms\tremaining: 40ms\n",
      "956:\tlearn: 0.0679808\ttotal: 870ms\tremaining: 39.1ms\n",
      "957:\tlearn: 0.0678855\ttotal: 871ms\tremaining: 38.2ms\n",
      "958:\tlearn: 0.0677981\ttotal: 871ms\tremaining: 37.3ms\n",
      "959:\tlearn: 0.0676845\ttotal: 872ms\tremaining: 36.3ms\n",
      "960:\tlearn: 0.0676003\ttotal: 873ms\tremaining: 35.4ms\n",
      "961:\tlearn: 0.0675148\ttotal: 874ms\tremaining: 34.5ms\n",
      "962:\tlearn: 0.0674067\ttotal: 875ms\tremaining: 33.6ms\n",
      "963:\tlearn: 0.0673156\ttotal: 875ms\tremaining: 32.7ms\n",
      "964:\tlearn: 0.0672402\ttotal: 876ms\tremaining: 31.8ms\n",
      "965:\tlearn: 0.0670947\ttotal: 877ms\tremaining: 30.9ms\n",
      "966:\tlearn: 0.0669934\ttotal: 878ms\tremaining: 30ms\n",
      "967:\tlearn: 0.0669784\ttotal: 879ms\tremaining: 29ms\n",
      "968:\tlearn: 0.0669275\ttotal: 879ms\tremaining: 28.1ms\n",
      "969:\tlearn: 0.0667765\ttotal: 880ms\tremaining: 27.2ms\n",
      "970:\tlearn: 0.0667096\ttotal: 881ms\tremaining: 26.3ms\n",
      "971:\tlearn: 0.0666739\ttotal: 882ms\tremaining: 25.4ms\n",
      "972:\tlearn: 0.0666252\ttotal: 883ms\tremaining: 24.5ms\n",
      "973:\tlearn: 0.0665797\ttotal: 884ms\tremaining: 23.6ms\n",
      "974:\tlearn: 0.0664616\ttotal: 884ms\tremaining: 22.7ms\n",
      "975:\tlearn: 0.0664084\ttotal: 885ms\tremaining: 21.8ms\n",
      "976:\tlearn: 0.0663405\ttotal: 886ms\tremaining: 20.9ms\n",
      "977:\tlearn: 0.0662508\ttotal: 887ms\tremaining: 19.9ms\n",
      "978:\tlearn: 0.0661562\ttotal: 888ms\tremaining: 19ms\n",
      "979:\tlearn: 0.0661224\ttotal: 888ms\tremaining: 18.1ms\n",
      "980:\tlearn: 0.0660089\ttotal: 889ms\tremaining: 17.2ms\n",
      "981:\tlearn: 0.0658632\ttotal: 890ms\tremaining: 16.3ms\n",
      "982:\tlearn: 0.0657395\ttotal: 891ms\tremaining: 15.4ms\n",
      "983:\tlearn: 0.0656906\ttotal: 892ms\tremaining: 14.5ms\n",
      "984:\tlearn: 0.0656829\ttotal: 893ms\tremaining: 13.6ms\n",
      "985:\tlearn: 0.0655970\ttotal: 894ms\tremaining: 12.7ms\n",
      "986:\tlearn: 0.0654721\ttotal: 894ms\tremaining: 11.8ms\n",
      "987:\tlearn: 0.0653938\ttotal: 895ms\tremaining: 10.9ms\n",
      "988:\tlearn: 0.0653057\ttotal: 896ms\tremaining: 9.97ms\n",
      "989:\tlearn: 0.0652789\ttotal: 897ms\tremaining: 9.06ms\n",
      "990:\tlearn: 0.0650932\ttotal: 898ms\tremaining: 8.15ms\n",
      "991:\tlearn: 0.0650107\ttotal: 898ms\tremaining: 7.25ms\n",
      "992:\tlearn: 0.0648713\ttotal: 899ms\tremaining: 6.34ms\n",
      "993:\tlearn: 0.0647681\ttotal: 900ms\tremaining: 5.43ms\n",
      "994:\tlearn: 0.0647343\ttotal: 901ms\tremaining: 4.53ms\n",
      "995:\tlearn: 0.0646700\ttotal: 902ms\tremaining: 3.62ms\n",
      "996:\tlearn: 0.0646235\ttotal: 903ms\tremaining: 2.71ms\n",
      "997:\tlearn: 0.0645611\ttotal: 903ms\tremaining: 1.81ms\n",
      "998:\tlearn: 0.0644698\ttotal: 904ms\tremaining: 905us\n",
      "999:\tlearn: 0.0644066\ttotal: 905ms\tremaining: 0us\n"
     ]
    },
    {
     "data": {
      "text/plain": [
       "<catboost.core.CatBoostRegressor at 0x7f800a770bb0>"
      ]
     },
     "execution_count": 9,
     "metadata": {},
     "output_type": "execute_result"
    }
   ],
   "source": [
    "#Train the Model \n",
    "prior_model = ctb.CatBoostRegressor()\n",
    "prior_model.fit(X_train,Y_train)"
   ]
  },
  {
   "cell_type": "code",
   "execution_count": 10,
   "id": "af65dcda",
   "metadata": {
    "execution": {
     "iopub.execute_input": "2022-03-11T09:33:56.587584Z",
     "iopub.status.busy": "2022-03-11T09:33:56.587163Z",
     "iopub.status.idle": "2022-03-11T09:33:56.594890Z",
     "shell.execute_reply": "2022-03-11T09:33:56.595120Z"
    },
    "id": "af65dcda",
    "papermill": {
     "duration": 0.020999,
     "end_time": "2022-03-11T09:33:56.595237",
     "exception": false,
     "start_time": "2022-03-11T09:33:56.574238",
     "status": "completed"
    },
    "tags": []
   },
   "outputs": [
    {
     "data": {
      "application/scrapbook.scrap.json+json": {
       "data": 0.18189408958496486,
       "encoder": "json",
       "name": "Prior Model MSE",
       "version": 1
      }
     },
     "metadata": {
      "scrapbook": {
       "data": true,
       "display": false,
       "name": "Prior Model MSE"
      }
     },
     "output_type": "display_data"
    },
    {
     "data": {
      "application/scrapbook.scrap.json+json": {
       "data": 0.19910112324717744,
       "encoder": "json",
       "name": "ABC Pre-generator MSE",
       "version": 1
      }
     },
     "metadata": {
      "scrapbook": {
       "data": true,
       "display": false,
       "name": "ABC Pre-generator MSE"
      }
     },
     "output_type": "display_data"
    },
    {
     "data": {
      "application/scrapbook.scrap.json+json": {
       "data": 0.2670864070809661,
       "encoder": "json",
       "name": "Prior Model MAE",
       "version": 1
      }
     },
     "metadata": {
      "scrapbook": {
       "data": true,
       "display": false,
       "name": "Prior Model MAE"
      }
     },
     "output_type": "display_data"
    },
    {
     "data": {
      "application/scrapbook.scrap.json+json": {
       "data": 0.2792996193489104,
       "encoder": "json",
       "name": "ABC Pre-generator MAE",
       "version": 1
      }
     },
     "metadata": {
      "scrapbook": {
       "data": true,
       "display": false,
       "name": "ABC Pre-generator MAE"
      }
     },
     "output_type": "display_data"
    }
   ],
   "source": [
    "y_pred = prior_model.predict(X_test)\n",
    "y_abc = y_pred + np.random.normal(0,variance, y_pred.shape)\n",
    "mse = mean_squared_error(y_pred,Y_test)\n",
    "sb.glue(\"Prior Model MSE\",mse)\n",
    "mse = mean_squared_error(y_abc,Y_test)\n",
    "sb.glue(\"ABC Pre-generator MSE\",mse)\n",
    "\n",
    "mae = mean_absolute_error(y_pred,Y_test)\n",
    "sb.glue(\"Prior Model MAE\",mae)\n",
    "mae = mean_absolute_error(y_abc,Y_test)\n",
    "sb.glue(\"ABC Pre-generator MAE\",mae)"
   ]
  },
  {
   "cell_type": "markdown",
   "id": "25609da2",
   "metadata": {
    "papermill": {
     "duration": 0.009891,
     "end_time": "2022-03-11T09:33:56.615451",
     "exception": false,
     "start_time": "2022-03-11T09:33:56.605560",
     "status": "completed"
    },
    "tags": []
   },
   "source": [
    "# ABC GAN Model"
   ]
  },
  {
   "cell_type": "code",
   "execution_count": 11,
   "id": "dfc3464d",
   "metadata": {
    "execution": {
     "iopub.execute_input": "2022-03-11T09:33:56.638151Z",
     "iopub.status.busy": "2022-03-11T09:33:56.637745Z",
     "iopub.status.idle": "2022-03-11T09:33:56.640306Z",
     "shell.execute_reply": "2022-03-11T09:33:56.640545Z"
    },
    "papermill": {
     "duration": 0.015302,
     "end_time": "2022-03-11T09:33:56.640657",
     "exception": false,
     "start_time": "2022-03-11T09:33:56.625355",
     "status": "completed"
    },
    "tags": []
   },
   "outputs": [],
   "source": [
    "gen = network.Generator(n_features+1).to(device)\n",
    "disc = network.Discriminator(n_features+1).to(device)\n",
    "\n",
    "criterion = torch.nn.BCELoss()\n",
    "gen_opt = torch.optim.Adam(gen.parameters(), lr=0.001, betas=(0.5, 0.999))\n",
    "disc_opt = torch.optim.Adam(disc.parameters(), lr=0.001, betas=(0.5, 0.999))"
   ]
  },
  {
   "cell_type": "code",
   "execution_count": 12,
   "id": "b75fdd85",
   "metadata": {
    "execution": {
     "iopub.execute_input": "2022-03-11T09:33:56.663020Z",
     "iopub.status.busy": "2022-03-11T09:33:56.662658Z",
     "iopub.status.idle": "2022-03-11T09:34:32.813397Z",
     "shell.execute_reply": "2022-03-11T09:34:32.813655Z"
    },
    "papermill": {
     "duration": 36.163091,
     "end_time": "2022-03-11T09:34:32.813781",
     "exception": false,
     "start_time": "2022-03-11T09:33:56.650690",
     "status": "completed"
    },
    "tags": []
   },
   "outputs": [
    {
     "data": {
      "image/png": "[encoded data removed]",
      "text/plain": [
       "<Figure size 432x288 with 1 Axes>"
      ]
     },
     "metadata": {
      "needs_background": "light"
     },
     "output_type": "display_data"
    },
    {
     "data": {
      "image/png": "[encoded data removed]",
      "text/plain": [
       "<Figure size 432x288 with 1 Axes>"
      ]
     },
     "metadata": {
      "needs_background": "light"
     },
     "output_type": "display_data"
    }
   ],
   "source": [
    "#Training the ABC_GAN \n",
    "ABC_train_test2.training_GAN(disc,gen,disc_opt,gen_opt,train_data,batch_size,n_epochs,criterion,prior_model,variance,0,device)"
   ]
  },
  {
   "cell_type": "code",
   "execution_count": 13,
   "id": "1fa7c368",
   "metadata": {
    "execution": {
     "iopub.execute_input": "2022-03-11T09:34:32.838151Z",
     "iopub.status.busy": "2022-03-11T09:34:32.837749Z",
     "iopub.status.idle": "2022-03-11T09:34:33.138545Z",
     "shell.execute_reply": "2022-03-11T09:34:33.138854Z"
    },
    "papermill": {
     "duration": 0.314184,
     "end_time": "2022-03-11T09:34:33.138978",
     "exception": false,
     "start_time": "2022-03-11T09:34:32.824794",
     "status": "completed"
    },
    "tags": []
   },
   "outputs": [
    {
     "data": {
      "application/scrapbook.scrap.json+json": {
       "data": 0.22377690176464682,
       "encoder": "json",
       "name": "ABC-GAN Model 1 MSE",
       "version": 1
      }
     },
     "metadata": {
      "scrapbook": {
       "data": true,
       "display": false,
       "name": "ABC-GAN Model 1 MSE"
      }
     },
     "output_type": "display_data"
    },
    {
     "data": {
      "application/scrapbook.scrap.json+json": {
       "data": 0.2750146068767736,
       "encoder": "json",
       "name": "ABC-GAN Model 1 MAE",
       "version": 1
      }
     },
     "metadata": {
      "scrapbook": {
       "data": true,
       "display": false,
       "name": "ABC-GAN Model 1 MAE"
      }
     },
     "output_type": "display_data"
    },
    {
     "data": {
      "application/scrapbook.scrap.json+json": {
       "data": 28.051489901430905,
       "encoder": "json",
       "name": "ABC-GAN Model 1 Manhattan Distance",
       "version": 1
      }
     },
     "metadata": {
      "scrapbook": {
       "data": true,
       "display": false,
       "name": "ABC-GAN Model 1 Manhattan Distance"
      }
     },
     "output_type": "display_data"
    },
    {
     "data": {
      "application/scrapbook.scrap.json+json": {
       "data": 4.776388451739099,
       "encoder": "json",
       "name": "ABC-GAN Model 1 Euclidean distance",
       "version": 1
      }
     },
     "metadata": {
      "scrapbook": {
       "data": true,
       "display": false,
       "name": "ABC-GAN Model 1 Euclidean distance"
      }
     },
     "output_type": "display_data"
    },
    {
     "data": {
      "application/scrapbook.scrap.json+json": {
       "data": [
        [
         0.2198259541274934,
         0.23727292022785593,
         0.22905624785134918,
         0.236812226367121,
         0.21912113771175143,
         0.22050644879650724,
         0.22883984022615478,
         0.2331740327265486,
         0.22930814511950506,
         0.22265214008944298,
         0.20900349526793754,
         0.23760195324649908,
         0.213220214468757,
         0.2163081339755248,
         0.2153900693445189,
         0.22411267382100913,
         0.2210806573902177,
         0.22336727905233547,
         0.22590419329903452,
         0.22395769960867679,
         0.2176327891108344,
         0.21611842811041138,
         0.23952907593053474,
         0.20971129305906622,
         0.22359552467393587,
         0.21746124789175597,
         0.23446844175714704,
         0.22429843363995874,
         0.21135493657455165,
         0.2208213563929816,
         0.21005517456362716,
         0.21284260911307343,
         0.226712927370539,
         0.2268823152169949,
         0.2267145368966259,
         0.23964829196621235,
         0.2237407556867968,
         0.21323461153456486,
         0.2270297062505338,
         0.21764586906851033,
         0.226339762962148,
         0.21037521726950037,
         0.2314420538780475,
         0.24231089332290245,
         0.2287260798918817,
         0.2196532323955193,
         0.23060314844979574,
         0.22031422934197198,
         0.22591638746011405,
         0.23103638927149478,
         0.23209168663487695,
         0.24107359100687514,
         0.2118585798633957,
         0.22825740936672614,
         0.22229418721178104,
         0.21264115826896063,
         0.21121793618462378,
         0.22445542861472587,
         0.20855998166022313,
         0.19988833342563625,
         0.22895883846922802,
         0.2174635986125529,
         0.22262260969932937,
         0.2177803107512227,
         0.21892247335843731,
         0.22512958181405812,
         0.22076173898805618,
         0.24380920914794277,
         0.2223315968058629,
         0.21935501509217806,
         0.20748316972384884,
         0.21984273990961514,
         0.22114119583825698,
         0.22077317996840123,
         0.23946756297523908,
         0.22917751124764354,
         0.2230617379686806,
         0.22392398359695162,
         0.2339223030221523,
         0.21461064479057337,
         0.20335721304296708,
         0.22724912723732654,
         0.2221940393573911,
         0.24733969256824764,
         0.20992554683772194,
         0.20076738894329885,
         0.23854417432167097,
         0.21899742339902054,
         0.21672568521463417,
         0.2161220683453709,
         0.22153597652629098,
         0.233651565855332,
         0.23282462861070724,
         0.22968069744212763,
         0.24711060909641275,
         0.2463307209433531,
         0.2215262487010778,
         0.22496143745263972,
         0.23324828252334506,
         0.22998917425741797
        ],
        [
         0.27892544643734307,
         0.2805563317812687,
         0.284881917549772,
         0.27621469410209387,
         0.2841159890990193,
         0.274028245624447,
         0.29053348124794226,
         0.2776717531640886,
         0.2860520949276785,
         0.27726366390090657,
         0.25614561232756455,
         0.2803873652500995,
         0.2736260338467272,
         0.27260090481015103,
         0.2773277499968661,
         0.27356723758994655,
         0.2724996327568649,
         0.2742978230429192,
         0.2759515496756078,
         0.2656066852037375,
         0.2785124740490288,
         0.27898596136775966,
         0.2792627006203082,
         0.262461390976301,
         0.2678695169606191,
         0.27132439179638146,
         0.2900642756756176,
         0.27936800310899523,
         0.27416930001630796,
         0.2769874540778498,
         0.2752416865516673,
         0.2643295010533549,
         0.2670206414152156,
         0.2662383137982996,
         0.2817860839285833,
         0.27716006934825405,
         0.2618171346702558,
         0.2707638494834742,
         0.27498701336227505,
         0.2734927092861457,
         0.2706287940507572,
         0.271658894596804,
         0.27284433412383874,
         0.2895112748842175,
         0.27543361621050566,
         0.2799189599577849,
         0.27949447065190064,
         0.26834585682908985,
         0.2790425290974478,
         0.2801814804346684,
         0.28990824232973594,
         0.2832152008298127,
         0.26285595714352,
         0.2753621729583863,
         0.28291772456620545,
         0.27069755765043346,
         0.25958775112624555,
         0.27877263948503955,
         0.2716524306337769,
         0.2677057962955944,
         0.27927170033731,
         0.26266332548659516,
         0.2674299213834399,
         0.26597545651134613,
         0.27473078154063985,
         0.2640564622558361,
         0.2681652263409513,
         0.2866163428087591,
         0.282183671598414,
         0.2740101019997953,
         0.27165185876519365,
         0.2801980030467259,
         0.27851278237158467,
         0.2746816729378028,
         0.2882688824616957,
         0.2838053590545029,
         0.2764418204497619,
         0.2680151543360861,
         0.2814324437275383,
         0.2720128835142389,
         0.25608155340431077,
         0.279209693026382,
         0.2847991436445976,
         0.2851414918333438,
         0.2655378530879377,
         0.2623443710617721,
         0.2868087650094108,
         0.26367030538362907,
         0.26570856283583183,
         0.278386482247608,
         0.2719415668489448,
         0.2726920221238306,
         0.2778109560136263,
         0.26339665680721985,
         0.2776341208658528,
         0.28590798718562604,
         0.2736436767485358,
         0.27677256004957884,
         0.2826609023956253,
         0.27735579843797226
        ],
        [
         28.450395536608994,
         28.616745841689408,
         29.057955590076745,
         28.173898798413575,
         28.97983088809997,
         27.950881053693593,
         29.634415087290108,
         28.322518822737038,
         29.177313682623208,
         28.280893717892468,
         26.126852457411587,
         28.59951125551015,
         27.909855452366173,
         27.805292290635407,
         28.28743049968034,
         27.90385823417455,
         27.79496254120022,
         27.978377950377762,
         28.147058066911995,
         27.091881890781224,
         28.40827235300094,
         28.456568059511483,
         28.48479546327144,
         26.771061879582703,
         27.32269072998315,
         27.675087963230908,
         29.586556118912995,
         28.495536317117512,
         27.96526860166341,
         28.252720315940678,
         28.074652028270066,
         26.9616091074422,
         27.23610542435199,
         27.15630800742656,
         28.742180560715497,
         28.270327073521912,
         26.705347736366093,
         27.61791264731437,
         28.048675362952054,
         27.896256347186863,
         27.604136993177235,
         27.70920724887401,
         27.830122080631554,
         29.530150038190186,
         28.094228853471577,
         28.551733915694058,
         28.508436006493866,
         27.371277396567166,
         28.462337967939675,
         28.57851100433618,
         29.57064071763307,
         28.887950484640896,
         26.811307628639042,
         28.086941641755402,
         28.857607905752957,
         27.611150880344212,
         26.477950614877045,
         28.434809227474034,
         27.708547924645245,
         27.305991222150624,
         28.485713434405625,
         26.791659199632704,
         27.27785198111087,
         27.129496564157307,
         28.022539717145264,
         26.933759150095284,
         27.35285308677703,
         29.234866966493428,
         28.782734503038228,
         27.949030403979123,
         27.70848959404975,
         28.58019631076604,
         28.40830380190164,
         28.017530639655888,
         29.40342601109296,
         28.948146623559296,
         28.197065685875714,
         27.33754574228078,
         28.706109260208905,
         27.74531411845237,
         26.120318447239697,
         28.47938868869096,
         29.049512651748955,
         29.08443216700107,
         27.084861014969647,
         26.759125848300755,
         29.254494030959904,
         26.894371149130166,
         27.10227340925485,
         28.395421189256012,
         27.73803981859237,
         27.81458625663072,
         28.336717513389885,
         26.866458994336426,
         28.318680328316987,
         29.162614692933857,
         27.91165502835065,
         28.23080112505704,
         28.831412044353783,
         28.290291440673172
        ],
        [
         4.735213545449067,
         4.919536346368559,
         4.83360499842898,
         4.914758090633388,
         4.727616317617013,
         4.742537061240928,
         4.831321113636289,
         4.876858757244047,
         4.836262069221386,
         4.7655554019571715,
         4.617180580974675,
         4.922946194215707,
         4.663524619406787,
         4.697172518175538,
         4.687193944476901,
         4.781160186580547,
         4.748707935196921,
         4.77320253743105,
         4.800232048193245,
         4.7795068113859855,
         4.711533135753702,
         4.695112316788808,
         4.942870193006746,
         4.624992096428356,
         4.775640639405509,
         4.709675921436539,
         4.890376371939996,
         4.783141251445099,
         4.6430812539308715,
         4.745922286772521,
         4.628782540311218,
         4.659393322046711,
         4.8088167558969195,
         4.8106128665829555,
         4.808833825726965,
         4.9441000981527115,
         4.777191338019995,
         4.663682062118474,
         4.8121751877456065,
         4.711674717654866,
         4.804857523604534,
         4.632307433827016,
         4.858712740588894,
         4.9714898289080365,
         4.830120096744172,
         4.733352903000469,
         4.849899085741802,
         4.740469532955691,
         4.800361603143208,
         4.854452770981757,
         4.865526902274557,
         4.958780725410357,
         4.648610023014014,
         4.8251689872382775,
         4.7617231225263055,
         4.657187793447241,
         4.641576186041938,
         4.784814909555232,
         4.612279060219878,
         4.515374847054771,
         4.832577109975717,
         4.709701376783924,
         4.765239363277736,
         4.71312971353693,
         4.725472704667821,
         4.791995131991885,
         4.745281590883909,
         4.986836605814367,
         4.762123777706541,
         4.73013863849699,
         4.600356867878032,
         4.735394331075369,
         4.749358059306775,
         4.7454045514346745,
         4.94223546823443,
         4.834884295126372,
         4.7699368206303765,
         4.779147029218611,
         4.884677564410934,
         4.678705565499766,
         4.5543864274326396,
         4.814500075626472,
         4.76065037725455,
         5.022812821712676,
         4.6273540795413135,
         4.525292661498976,
         4.932697617005369,
         4.726281539085468,
         4.701703934946636,
         4.695151858164743,
         4.753595439841477,
         4.881850030187723,
         4.873203475978829,
         4.840189163565512,
         5.0204862441634175,
         5.012557584329781,
         4.753491071571497,
         4.7902052795437955,
         4.87763516649013,
         4.843438424740902
        ]
       ],
       "encoder": "json",
       "name": "ABC_GAN_1 Metrics",
       "version": 1
      }
     },
     "metadata": {
      "scrapbook": {
       "data": true,
       "display": false,
       "name": "ABC_GAN_1 Metrics"
      }
     },
     "output_type": "display_data"
    },
    {
     "name": "stdout",
     "output_type": "stream",
     "text": [
      "MSE\n",
      "0.22377690176464682\n"
     ]
    }
   ],
   "source": [
    "ABC_GAN1_metrics=ABC_train_test2.test_generator(gen,test_data,prior_model,variance,0,\"1\",device)\n",
    "sb.glue(\"ABC_GAN_1 Metrics\",ABC_GAN1_metrics)\n",
    "\n",
    "print(\"MSE\")\n",
    "print(mean(ABC_GAN1_metrics[0]))"
   ]
  },
  {
   "cell_type": "code",
   "execution_count": 14,
   "id": "eb22ce5c",
   "metadata": {
    "execution": {
     "iopub.execute_input": "2022-03-11T09:34:33.166650Z",
     "iopub.status.busy": "2022-03-11T09:34:33.166278Z",
     "iopub.status.idle": "2022-03-11T09:34:33.485984Z",
     "shell.execute_reply": "2022-03-11T09:34:33.486277Z"
    },
    "papermill": {
     "duration": 0.334716,
     "end_time": "2022-03-11T09:34:33.486398",
     "exception": false,
     "start_time": "2022-03-11T09:34:33.151682",
     "status": "completed"
    },
    "tags": []
   },
   "outputs": [
    {
     "data": {
      "image/png": "[encoded data removed]",
      "text/plain": [
       "<Figure size 432x288 with 1 Axes>"
      ]
     },
     "metadata": {
      "needs_background": "light"
     },
     "output_type": "display_data"
    },
    {
     "data": {
      "image/png": "[encoded data removed]",
      "text/plain": [
       "<Figure size 432x288 with 1 Axes>"
      ]
     },
     "metadata": {
      "needs_background": "light"
     },
     "output_type": "display_data"
    },
    {
     "data": {
      "image/png": "[encoded data removed]",
      "text/plain": [
       "<Figure size 432x288 with 1 Axes>"
      ]
     },
     "metadata": {
      "needs_background": "light"
     },
     "output_type": "display_data"
    },
    {
     "data": {
      "image/png": "[encoded data removed]",
      "text/plain": [
       "<Figure size 432x288 with 1 Axes>"
      ]
     },
     "metadata": {
      "needs_background": "light"
     },
     "output_type": "display_data"
    }
   ],
   "source": [
    "sanityChecks.discProbVsError(train_data,disc,device)\n",
    "sanityChecks.discProbVsError(test_data,disc,device)"
   ]
  },
  {
   "cell_type": "markdown",
   "id": "130f3a4d",
   "metadata": {
    "id": "130f3a4d",
    "papermill": {
     "duration": 0.014473,
     "end_time": "2022-03-11T09:34:33.516588",
     "exception": false,
     "start_time": "2022-03-11T09:34:33.502115",
     "status": "completed"
    },
    "tags": []
   },
   "source": [
    "# ABC - GAN Model with skip connection"
   ]
  },
  {
   "cell_type": "code",
   "execution_count": 15,
   "id": "4e43dad1",
   "metadata": {
    "execution": {
     "iopub.execute_input": "2022-03-11T09:34:33.549037Z",
     "iopub.status.busy": "2022-03-11T09:34:33.548677Z",
     "iopub.status.idle": "2022-03-11T09:34:33.550972Z",
     "shell.execute_reply": "2022-03-11T09:34:33.551227Z"
    },
    "id": "4e43dad1",
    "papermill": {
     "duration": 0.020146,
     "end_time": "2022-03-11T09:34:33.551337",
     "exception": false,
     "start_time": "2022-03-11T09:34:33.531191",
     "status": "completed"
    },
    "tags": []
   },
   "outputs": [],
   "source": [
    "#Generator\n",
    "gen3 = network.GeneratorWithSkipConnection(n_features+1).to(device)\n",
    "constraints=network.weightConstraint()\n",
    "#Discriminator \n",
    "disc3 = network.Discriminator(n_features+1).to(device)\n",
    "\n",
    "criterion = torch.nn.BCELoss()\n",
    "gen_opt = torch.optim.Adam(gen3.parameters(), lr=0.001, betas=(0.5, 0.999))\n",
    "disc_opt = torch.optim.Adam(disc3.parameters(), lr=0.001, betas=(0.5, 0.999))\n"
   ]
  },
  {
   "cell_type": "code",
   "execution_count": 16,
   "id": "26acbc37",
   "metadata": {
    "execution": {
     "iopub.execute_input": "2022-03-11T09:34:33.582941Z",
     "iopub.status.busy": "2022-03-11T09:34:33.582549Z",
     "iopub.status.idle": "2022-03-11T09:37:01.012136Z",
     "shell.execute_reply": "2022-03-11T09:37:01.012737Z"
    },
    "id": "26acbc37",
    "papermill": {
     "duration": 147.4473,
     "end_time": "2022-03-11T09:37:01.013283",
     "exception": false,
     "start_time": "2022-03-11T09:34:33.565983",
     "status": "completed"
    },
    "tags": []
   },
   "outputs": [
    {
     "data": {
      "image/png": "[encoded data removed]",
      "text/plain": [
       "<Figure size 432x288 with 1 Axes>"
      ]
     },
     "metadata": {
      "needs_background": "light"
     },
     "output_type": "display_data"
    },
    {
     "data": {
      "image/png": "[encoded data removed]",
      "text/plain": [
       "<Figure size 432x288 with 1 Axes>"
      ]
     },
     "metadata": {
      "needs_background": "light"
     },
     "output_type": "display_data"
    }
   ],
   "source": [
    "ABC_train_test2.training_GAN_skip_connection(disc3,gen3,disc_opt,gen_opt,train_data,batch_size,n_epochs,criterion,prior_model,variance,0,device)"
   ]
  },
  {
   "cell_type": "code",
   "execution_count": 17,
   "id": "c5e0717b",
   "metadata": {
    "execution": {
     "iopub.execute_input": "2022-03-11T09:37:01.052122Z",
     "iopub.status.busy": "2022-03-11T09:37:01.051697Z",
     "iopub.status.idle": "2022-03-11T09:37:01.877546Z",
     "shell.execute_reply": "2022-03-11T09:37:01.877806Z"
    },
    "id": "c5e0717b",
    "papermill": {
     "duration": 0.847052,
     "end_time": "2022-03-11T09:37:01.877932",
     "exception": false,
     "start_time": "2022-03-11T09:37:01.030880",
     "status": "completed"
    },
    "tags": []
   },
   "outputs": [
    {
     "data": {
      "application/scrapbook.scrap.json+json": {
       "data": 0.18382742174022762,
       "encoder": "json",
       "name": "ABC-GAN Model 3 MSE",
       "version": 1
      }
     },
     "metadata": {
      "scrapbook": {
       "data": true,
       "display": false,
       "name": "ABC-GAN Model 3 MSE"
      }
     },
     "output_type": "display_data"
    },
    {
     "data": {
      "application/scrapbook.scrap.json+json": {
       "data": 0.2684493226314411,
       "encoder": "json",
       "name": "ABC-GAN Model 3 MAE",
       "version": 1
      }
     },
     "metadata": {
      "scrapbook": {
       "data": true,
       "display": false,
       "name": "ABC-GAN Model 3 MAE"
      }
     },
     "output_type": "display_data"
    },
    {
     "data": {
      "application/scrapbook.scrap.json+json": {
       "data": 27.381830908406993,
       "encoder": "json",
       "name": "ABC-GAN Model 3 Manhattan Distance",
       "version": 1
      }
     },
     "metadata": {
      "scrapbook": {
       "data": true,
       "display": false,
       "name": "ABC-GAN Model 3 Manhattan Distance"
      }
     },
     "output_type": "display_data"
    },
    {
     "data": {
      "application/scrapbook.scrap.json+json": {
       "data": 4.329296238074843,
       "encoder": "json",
       "name": "ABC-GAN Model 3 Euclidean distance",
       "version": 1
      }
     },
     "metadata": {
      "scrapbook": {
       "data": true,
       "display": false,
       "name": "ABC-GAN Model 3 Euclidean distance"
      }
     },
     "output_type": "display_data"
    },
    {
     "data": {
      "application/scrapbook.scrap.json+json": {
       "data": [
        [
         0.18533156698156583,
         0.1815275728020735,
         0.1865082635852073,
         0.17251571612978814,
         0.18422845188639533,
         0.18185844332793558,
         0.18444130829114694,
         0.18766280160803966,
         0.19342685408786126,
         0.18243988103015543,
         0.18138974789446308,
         0.18217360079371522,
         0.18706250915103695,
         0.17172640340193712,
         0.1736405765425003,
         0.177542059895982,
         0.171035543478033,
         0.1926502734845809,
         0.18278024183919656,
         0.18170709906797036,
         0.1925812034225951,
         0.19735423173071417,
         0.17154185838573208,
         0.18649124022726649,
         0.1900595061213108,
         0.16956718786243216,
         0.1856295383030377,
         0.18011362423079733,
         0.17731249785250877,
         0.19202630476873564,
         0.18265174138495738,
         0.1824194558862153,
         0.18727285361412563,
         0.18221219150468165,
         0.1960372897742148,
         0.17664057110683382,
         0.1739182487314175,
         0.1928454279355412,
         0.18181147926486926,
         0.19909282489018076,
         0.1774875992734322,
         0.17877923449554137,
         0.18217726502638573,
         0.19743582203484472,
         0.17664383664377706,
         0.17848287952858402,
         0.19216678769020845,
         0.18038253235266793,
         0.18707560425774863,
         0.19356568667498245,
         0.18746746762478075,
         0.1818094610797312,
         0.197302487358932,
         0.19340470167862245,
         0.18254030316935457,
         0.1835509918508792,
         0.20269310537547428,
         0.19753649630991563,
         0.17356869871634828,
         0.184762473713973,
         0.1834212646645486,
         0.18794928442308756,
         0.1805400055804373,
         0.1870409107109384,
         0.1873288763903556,
         0.18174011328705206,
         0.18243492993022123,
         0.17716987706625534,
         0.1839550352683731,
         0.18313949611788968,
         0.18073750677446676,
         0.1807446829726851,
         0.18257167343567013,
         0.193601045873449,
         0.18790336054431422,
         0.18723864893715883,
         0.19668569302021646,
         0.18756444293369706,
         0.19829811689145274,
         0.181265197801084,
         0.17710497593295854,
         0.18543533937946577,
         0.1796574700343639,
         0.17499224730303253,
         0.18995953458521966,
         0.1816302583185132,
         0.1821450853915794,
         0.19223167361438429,
         0.17354012636160285,
         0.16961320123439722,
         0.17837510146025004,
         0.18399011454890837,
         0.17345945215850203,
         0.18511599849141652,
         0.17556159646348507,
         0.19182921788513604,
         0.18461905240130058,
         0.16990849490010534,
         0.17312839020935789,
         0.18105305359149448
        ],
        [
         0.27318085896253,
         0.2829549041321026,
         0.2714882387925743,
         0.26328516763397586,
         0.2712621501026054,
         0.2704472168640909,
         0.2608005476147667,
         0.266392814954195,
         0.2664794171064654,
         0.2740082046583149,
         0.26912034628912807,
         0.26121950577761904,
         0.2673916026639442,
         0.26192391014603134,
         0.26744245278521206,
         0.2590382785865051,
         0.2628376326231542,
         0.27020130015215743,
         0.2682803167925015,
         0.2725330488117156,
         0.26428059865629266,
         0.2792873340111007,
         0.2633053858800992,
         0.271716017339963,
         0.27331207236092464,
         0.26205555712073747,
         0.267807304064798,
         0.2749700385474545,
         0.2660360543659943,
         0.2735488870108098,
         0.2745480779101889,
         0.2674169992096722,
         0.26887918312066034,
         0.27290708791720225,
         0.27338587117436175,
         0.2669876528556879,
         0.26638127301874404,
         0.2673305074465187,
         0.26738139304935055,
         0.2702242876129115,
         0.2740422065698487,
         0.2630035508624917,
         0.26794196176799195,
         0.2834486129018022,
         0.2586486204709931,
         0.2617740424112508,
         0.2657027665945683,
         0.2600767814882976,
         0.27797531204836845,
         0.27369917312856107,
         0.27004510797012377,
         0.2713798753570254,
         0.2702013603411615,
         0.26907346973780033,
         0.26884195287985835,
         0.27610709053445975,
         0.2775140593065789,
         0.27365918279461127,
         0.25622558251351996,
         0.26300665607913304,
         0.2687265563153607,
         0.25706868816861045,
         0.2603382033880289,
         0.2647824050292519,
         0.27296771964186106,
         0.2676014336939974,
         0.26589262822423787,
         0.2714602342788495,
         0.27964697439479186,
         0.2646067302181002,
         0.2743613050209687,
         0.26303039764181946,
         0.27283704270809594,
         0.27309882081132014,
         0.2648812109951441,
         0.2661530160043827,
         0.28218180623234196,
         0.269810191583911,
         0.28091030751409773,
         0.26670388071158646,
         0.268637091145102,
         0.27231131355259935,
         0.2628799034556484,
         0.26726915096571924,
         0.27194935533528525,
         0.2622872245059732,
         0.2671978938502862,
         0.27442368628530234,
         0.260469887213891,
         0.25999468782752316,
         0.26544222925040944,
         0.2715866061420563,
         0.26656178639763417,
         0.2686443136475396,
         0.26260966501728283,
         0.26711855935590234,
         0.26868458672463164,
         0.2607041503960157,
         0.2576881511337763,
         0.26699560448326465
        ],
        [
         27.86444761417806,
         28.86140022147447,
         27.691800356842577,
         26.855087098665535,
         27.668739310465753,
         27.585616120137274,
         26.601655856706202,
         27.172067125327885,
         27.18090054485947,
         27.948836875148118,
         27.450275321491063,
         26.644389589317143,
         27.273943471722305,
         26.716238834895194,
         27.279130184091628,
         26.42190441582352,
         26.809438527561724,
         27.56053261552006,
         27.364592312835157,
         27.798370978794992,
         26.95662106294185,
         28.48730806913227,
         26.85714935977012,
         27.71503376867622,
         27.877831380814314,
         26.729666826315224,
         27.316345014609396,
         28.04694393184036,
         27.13567754533142,
         27.901986475102603,
         28.003903946839273,
         27.276533919386566,
         27.425676678307354,
         27.83652296755463,
         27.8853588597849,
         27.232740591280162,
         27.170889847911894,
         27.26771175954491,
         27.272902091033757,
         27.562877336516976,
         27.952305070124567,
         26.826362187974155,
         27.33008010033518,
         28.91175851598382,
         26.382159288041294,
         26.700952325947583,
         27.101682192645967,
         26.527831711806357,
         28.35348182893358,
         27.91731565911323,
         27.544601012952626,
         27.68074728641659,
         27.560538754798472,
         27.445493913255632,
         27.421879193745553,
         28.162923234514892,
         28.306434049271047,
         27.913236645050347,
         26.135009416379035,
         26.826678920071572,
         27.41010874416679,
         26.221006193198264,
         26.554496745578945,
         27.00780531298369,
         27.84270740346983,
         27.295346236787736,
         27.121048078872263,
         27.68894389644265,
         28.52399138826877,
         26.98988648224622,
         27.984853112138808,
         26.829100559465587,
         27.82937835622579,
         27.856079722754657,
         27.0178835215047,
         27.147607632447034,
         28.78254423569888,
         27.52063954155892,
         28.65285136643797,
         27.203795832581818,
         27.400983296800405,
         27.77575398236513,
         26.813750152476132,
         27.261453398503363,
         27.738834244199097,
         26.753296899609268,
         27.254185172729194,
         27.991216001100838,
         26.567928495816886,
         26.51945815840736,
         27.075107383541763,
         27.701833826489747,
         27.189302212558687,
         27.40171999204904,
         26.78618583176285,
         27.246093054302037,
         27.405827845912427,
         26.591823340393603,
         26.284191415645182,
         27.233551657292992
        ],
        [
         4.347852324092863,
         4.30300039807243,
         4.361633052618153,
         4.194830514483081,
         4.334893550297668,
         4.306920154756695,
         4.337397081856467,
         4.375112085880777,
         4.441794582931752,
         4.313799701548028,
         4.3013665602033075,
         4.310650447549528,
         4.368108965376868,
         4.185223189627715,
         4.208484146023962,
         4.255501158428954,
         4.176796072919933,
         4.4328690365752115,
         4.317821750327132,
         4.305127652571173,
         4.432074316739814,
         4.4866615246230515,
         4.182973769382814,
         4.3614339961968,
         4.402961460695939,
         4.1588283400457975,
         4.351346102864015,
         4.286209242622359,
         4.2527490851161085,
         4.425684476599189,
         4.316303698914808,
         4.313558218036933,
         4.370564159080704,
         4.311106996291965,
         4.471666753792138,
         4.2446835280026525,
         4.211847738297835,
         4.435113713246279,
         4.3063639982027375,
         4.506380824874706,
         4.254848425724479,
         4.270302321679956,
         4.310693799458661,
         4.487588867928318,
         4.244722763345712,
         4.266761501644494,
         4.427303055405317,
         4.28940768637957,
         4.368261855050629,
         4.443388351342724,
         4.3728345152461054,
         4.306340096895806,
         4.486073306424124,
         4.441540225104292,
         4.31498678135567,
         4.326915895737942,
         4.546943671115619,
         4.48873285277832,
         4.207613013225851,
         4.341171767947595,
         4.325386571831929,
         4.378450297897069,
         4.291279595785459,
         4.367856784799121,
         4.37121783852238,
         4.305518732426944,
         4.313741166653671,
         4.2510383979397375,
         4.331675610820143,
         4.322063003245643,
         4.293626170382747,
         4.293711408934453,
         4.315357539119829,
         4.443794176049539,
         4.377915345860407,
         4.370165007364162,
         4.479055780860747,
         4.373965383863606,
         4.497377894165463,
         4.2998895538967705,
         4.250259703260704,
         4.349069396630215,
         4.280778193682208,
         4.224832449329716,
         4.401803326784649,
         4.304217274776954,
         4.310313064029236,
         4.428050441070789,
         4.207266676701572,
         4.159392566939133,
         4.2654730510162056,
         4.332088605279058,
         4.206288639664093,
         4.3453229852479875,
         4.2316997576949476,
         4.423412735013982,
         4.339486530101535,
         4.1630117078637605,
         4.202272694787251,
         4.297372623630913
        ]
       ],
       "encoder": "json",
       "name": "ABC_GAN_3 Metrics",
       "version": 1
      }
     },
     "metadata": {
      "scrapbook": {
       "data": true,
       "display": false,
       "name": "ABC_GAN_3 Metrics"
      }
     },
     "output_type": "display_data"
    },
    {
     "name": "stdout",
     "output_type": "stream",
     "text": [
      "MSE\n",
      "0.18382742174022762\n"
     ]
    }
   ],
   "source": [
    "ABC_GAN3_metrics=ABC_train_test2.test_generator(gen3,test_data,prior_model,variance,0,\"3\",device)\n",
    "sb.glue(\"ABC_GAN_3 Metrics\",ABC_GAN3_metrics)\n",
    "\n",
    "print(\"MSE\")\n",
    "print(mean(ABC_GAN3_metrics[0]))"
   ]
  },
  {
   "cell_type": "code",
   "execution_count": 18,
   "id": "c8e46b48",
   "metadata": {
    "execution": {
     "iopub.execute_input": "2022-03-11T09:37:01.914974Z",
     "iopub.status.busy": "2022-03-11T09:37:01.914600Z",
     "iopub.status.idle": "2022-03-11T09:37:02.242393Z",
     "shell.execute_reply": "2022-03-11T09:37:02.242753Z"
    },
    "id": "c8e46b48",
    "papermill": {
     "duration": 0.347374,
     "end_time": "2022-03-11T09:37:02.242874",
     "exception": false,
     "start_time": "2022-03-11T09:37:01.895500",
     "status": "completed"
    },
    "tags": []
   },
   "outputs": [
    {
     "data": {
      "image/png": "[encoded data removed]",
      "text/plain": [
       "<Figure size 432x288 with 1 Axes>"
      ]
     },
     "metadata": {
      "needs_background": "light"
     },
     "output_type": "display_data"
    },
    {
     "data": {
      "image/png": "[encoded data removed]",
      "text/plain": [
       "<Figure size 432x288 with 1 Axes>"
      ]
     },
     "metadata": {
      "needs_background": "light"
     },
     "output_type": "display_data"
    },
    {
     "data": {
      "image/png": "[encoded data removed]",
      "text/plain": [
       "<Figure size 432x288 with 1 Axes>"
      ]
     },
     "metadata": {
      "needs_background": "light"
     },
     "output_type": "display_data"
    },
    {
     "data": {
      "image/png": "[encoded data removed]",
      "text/plain": [
       "<Figure size 432x288 with 1 Axes>"
      ]
     },
     "metadata": {
      "needs_background": "light"
     },
     "output_type": "display_data"
    }
   ],
   "source": [
    "sanityChecks.discProbVsError(train_data,disc3,device)\n",
    "sanityChecks.discProbVsError(test_data,disc3,device)"
   ]
  },
  {
   "cell_type": "markdown",
   "id": "a5bd74c3",
   "metadata": {
    "id": "a5bd74c3",
    "papermill": {
     "duration": 0.019485,
     "end_time": "2022-03-11T09:37:02.282266",
     "exception": false,
     "start_time": "2022-03-11T09:37:02.262781",
     "status": "completed"
    },
    "tags": []
   },
   "source": [
    "## Skip Connection Model Analysis - ABC-GAN "
   ]
  },
  {
   "cell_type": "markdown",
   "id": "5744a8bf",
   "metadata": {
    "id": "5744a8bf",
    "papermill": {
     "duration": 0.019152,
     "end_time": "2022-03-11T09:37:02.320909",
     "exception": false,
     "start_time": "2022-03-11T09:37:02.301757",
     "status": "completed"
    },
    "tags": []
   },
   "source": [
    "### Weight Analysis \n",
    "\n",
    "Study the weights of the skip connection layer\n",
    "\n",
    "Equation of the skip connection is \n",
    "\n",
    "$output = y_{gan} * w + y_{abc} * (1-w)$"
   ]
  },
  {
   "cell_type": "code",
   "execution_count": 19,
   "id": "52c31dea",
   "metadata": {
    "execution": {
     "iopub.execute_input": "2022-03-11T09:37:02.363275Z",
     "iopub.status.busy": "2022-03-11T09:37:02.362889Z",
     "iopub.status.idle": "2022-03-11T09:37:02.366366Z",
     "shell.execute_reply": "2022-03-11T09:37:02.366605Z"
    },
    "id": "52c31dea",
    "papermill": {
     "duration": 0.026062,
     "end_time": "2022-03-11T09:37:02.366717",
     "exception": false,
     "start_time": "2022-03-11T09:37:02.340655",
     "status": "completed"
    },
    "tags": []
   },
   "outputs": [
    {
     "name": "stdout",
     "output_type": "stream",
     "text": [
      "Weight of the node at skip connection\n",
      "Parameter containing:\n",
      "tensor([[0.3852]], requires_grad=True)\n"
     ]
    },
    {
     "data": {
      "application/scrapbook.scrap.json+json": {
       "data": 0.38519108295440674,
       "encoder": "json",
       "name": "Skip Connection Weight",
       "version": 1
      }
     },
     "metadata": {
      "scrapbook": {
       "data": true,
       "display": false,
       "name": "Skip Connection Weight"
      }
     },
     "output_type": "display_data"
    }
   ],
   "source": [
    "print(\"Weight of the node at skip connection\")\n",
    "for name,param in gen3.named_parameters():\n",
    "    if(name == \"skipNode.weight\"):\n",
    "        print(param)\n",
    "        sb.glue(\"Skip Connection Weight\",param.item())"
   ]
  }
 ],
 "metadata": {
  "colab": {
   "collapsed_sections": [],
   "name": "ABC_GAN_Model-Catboost_Pre-gen.ipynb",
   "provenance": []
  },
  "interpreter": {
   "hash": "31f2aee4e71d21fbe5cf8b01ff0e069b9275f58929596ceb00d14d90e3e16cd6"
  },
  "kernelspec": {
   "display_name": "Python 3 (ipykernel)",
   "language": "python",
   "name": "python3"
  },
  "language_info": {
   "codemirror_mode": {
    "name": "ipython",
    "version": 3
   },
   "file_extension": ".py",
   "mimetype": "text/x-python",
   "name": "python",
   "nbconvert_exporter": "python",
   "pygments_lexer": "ipython3",
   "version": "3.8.11"
  },
  "papermill": {
   "default_parameters": {},
   "duration": 190.657883,
   "end_time": "2022-03-11T09:37:02.694014",
   "environment_variables": {},
   "exception": null,
   "input_path": "ABC_GAN-Catboost.ipynb",
   "output_path": "./ABC_GAN_Catboost/ABC-GAN_output_1_1.ipynb",
   "parameters": {
    "variance": 0.1
   },
   "start_time": "2022-03-11T09:33:52.036131",
   "version": "2.3.3"
  }
 },
 "nbformat": 4,
 "nbformat_minor": 5
}