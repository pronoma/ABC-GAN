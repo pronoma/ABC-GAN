{
 "cells": [
  {
   "cell_type": "markdown",
   "id": "622780e6",
   "metadata": {
    "id": "622780e6",
    "papermill": {
     "duration": 0.034628,
     "end_time": "2022-03-11T10:22:11.345839",
     "exception": false,
     "start_time": "2022-03-11T10:22:11.311211",
     "status": "completed"
    },
    "tags": []
   },
   "source": [
    "## Import Libraries "
   ]
  },
  {
   "cell_type": "code",
   "execution_count": 1,
   "id": "a62397e3",
   "metadata": {
    "execution": {
     "iopub.execute_input": "2022-03-11T10:22:11.382077Z",
     "iopub.status.busy": "2022-03-11T10:22:11.381579Z",
     "iopub.status.idle": "2022-03-11T10:22:11.383988Z",
     "shell.execute_reply": "2022-03-11T10:22:11.384334Z"
    },
    "id": "a62397e3",
    "papermill": {
     "duration": 0.021812,
     "end_time": "2022-03-11T10:22:11.384548",
     "exception": false,
     "start_time": "2022-03-11T10:22:11.362736",
     "status": "completed"
    },
    "tags": []
   },
   "outputs": [],
   "source": [
    "import warnings\n",
    "import sys\n",
    "sys.path.insert(0, '../../src')\n",
    "warnings.filterwarnings('ignore')"
   ]
  },
  {
   "cell_type": "code",
   "execution_count": 2,
   "id": "d6a4e155",
   "metadata": {
    "execution": {
     "iopub.execute_input": "2022-03-11T10:22:11.405232Z",
     "iopub.status.busy": "2022-03-11T10:22:11.404837Z",
     "iopub.status.idle": "2022-03-11T10:22:13.168432Z",
     "shell.execute_reply": "2022-03-11T10:22:13.168687Z"
    },
    "id": "d6a4e155",
    "papermill": {
     "duration": 1.774669,
     "end_time": "2022-03-11T10:22:13.168808",
     "exception": false,
     "start_time": "2022-03-11T10:22:11.394139",
     "status": "completed"
    },
    "tags": []
   },
   "outputs": [],
   "source": [
    "import ABC_train_test2\n",
    "import bostonDataset\n",
    "import network\n",
    "import dataset\n",
    "import sanityChecks\n",
    "import torch \n",
    "import scrapbook as sb\n",
    "from statistics import mean \n",
    "import catboost as ctb \n",
    "from sklearn.model_selection import train_test_split\n",
    "from sklearn.metrics import mean_squared_error,mean_absolute_error\n",
    "import numpy as np"
   ]
  },
  {
   "cell_type": "markdown",
   "id": "2fa5b0f7",
   "metadata": {
    "id": "2fa5b0f7",
    "papermill": {
     "duration": 0.00676,
     "end_time": "2022-03-11T10:22:13.182610",
     "exception": false,
     "start_time": "2022-03-11T10:22:13.175850",
     "status": "completed"
    },
    "tags": []
   },
   "source": [
    "## Parameters "
   ]
  },
  {
   "cell_type": "code",
   "execution_count": 3,
   "id": "783186fb",
   "metadata": {
    "execution": {
     "iopub.execute_input": "2022-03-11T10:22:13.198142Z",
     "iopub.status.busy": "2022-03-11T10:22:13.197758Z",
     "iopub.status.idle": "2022-03-11T10:22:13.199025Z",
     "shell.execute_reply": "2022-03-11T10:22:13.199272Z"
    },
    "id": "783186fb",
    "papermill": {
     "duration": 0.01014,
     "end_time": "2022-03-11T10:22:13.199391",
     "exception": false,
     "start_time": "2022-03-11T10:22:13.189251",
     "status": "completed"
    },
    "tags": [
     "parameters"
    ]
   },
   "outputs": [],
   "source": [
    "variance = 1"
   ]
  },
  {
   "cell_type": "code",
   "execution_count": 4,
   "id": "67e905d4",
   "metadata": {
    "execution": {
     "iopub.execute_input": "2022-03-11T10:22:13.214839Z",
     "iopub.status.busy": "2022-03-11T10:22:13.214478Z",
     "iopub.status.idle": "2022-03-11T10:22:13.215698Z",
     "shell.execute_reply": "2022-03-11T10:22:13.215930Z"
    },
    "papermill": {
     "duration": 0.009778,
     "end_time": "2022-03-11T10:22:13.216037",
     "exception": false,
     "start_time": "2022-03-11T10:22:13.206259",
     "status": "completed"
    },
    "tags": [
     "injected-parameters"
    ]
   },
   "outputs": [],
   "source": [
    "# Parameters\n",
    "variance = 0.1\n"
   ]
  },
  {
   "cell_type": "markdown",
   "id": "391cdbfd",
   "metadata": {
    "id": "391cdbfd",
    "papermill": {
     "duration": 0.006658,
     "end_time": "2022-03-11T10:22:13.229494",
     "exception": false,
     "start_time": "2022-03-11T10:22:13.222836",
     "status": "completed"
    },
    "tags": []
   },
   "source": [
    "## Dataset \n"
   ]
  },
  {
   "cell_type": "code",
   "execution_count": 5,
   "id": "5b51f161",
   "metadata": {
    "execution": {
     "iopub.execute_input": "2022-03-11T10:22:13.244793Z",
     "iopub.status.busy": "2022-03-11T10:22:13.244431Z",
     "iopub.status.idle": "2022-03-11T10:22:13.245661Z",
     "shell.execute_reply": "2022-03-11T10:22:13.245897Z"
    },
    "id": "5b51f161",
    "papermill": {
     "duration": 0.009768,
     "end_time": "2022-03-11T10:22:13.245999",
     "exception": false,
     "start_time": "2022-03-11T10:22:13.236231",
     "status": "completed"
    },
    "tags": []
   },
   "outputs": [],
   "source": [
    "#Parameters \n",
    "n_features = 13\n",
    "n_samples= 506\n",
    "n_target = 1 "
   ]
  },
  {
   "cell_type": "code",
   "execution_count": 6,
   "id": "5d6eced4",
   "metadata": {
    "execution": {
     "iopub.execute_input": "2022-03-11T10:22:13.261541Z",
     "iopub.status.busy": "2022-03-11T10:22:13.261135Z",
     "iopub.status.idle": "2022-03-11T10:22:13.272088Z",
     "shell.execute_reply": "2022-03-11T10:22:13.272382Z"
    },
    "id": "5d6eced4",
    "papermill": {
     "duration": 0.019637,
     "end_time": "2022-03-11T10:22:13.272496",
     "exception": false,
     "start_time": "2022-03-11T10:22:13.252859",
     "status": "completed"
    },
    "tags": []
   },
   "outputs": [
    {
     "name": "stdout",
     "output_type": "stream",
     "text": [
      "         X1        X2        X3        X4        X5        X6        X7  \\\n",
      "0 -0.419782  0.284830 -1.287909 -0.272599 -0.144217  0.413672 -0.120013   \n",
      "1 -0.417339 -0.487722 -0.593381 -0.272599 -0.740262  0.194274  0.367166   \n",
      "2 -0.417342 -0.487722 -0.593381 -0.272599 -0.740262  1.282714 -0.265812   \n",
      "3 -0.416750 -0.487722 -1.306878 -0.272599 -0.835284  1.016303 -0.809889   \n",
      "4 -0.412482 -0.487722 -1.306878 -0.272599 -0.835284  1.228577 -0.511180   \n",
      "\n",
      "         X8        X9       X10       X11       X12       X13         Y  \n",
      "0  0.140214 -0.982843 -0.666608 -1.459000  0.441052 -1.075562  0.159686  \n",
      "1  0.557160 -0.867883 -0.987329 -0.303094  0.441052 -0.492439 -0.101524  \n",
      "2  0.557160 -0.867883 -0.987329 -0.303094  0.396427 -1.208727  1.324247  \n",
      "3  1.077737 -0.752922 -1.106115  0.113032  0.416163 -1.361517  1.182758  \n",
      "4  1.077737 -0.752922 -1.106115  0.113032  0.441052 -1.026501  1.487503  \n"
     ]
    }
   ],
   "source": [
    "X,Y = bostonDataset.boston_data()"
   ]
  },
  {
   "cell_type": "code",
   "execution_count": 7,
   "id": "fe007438",
   "metadata": {
    "execution": {
     "iopub.execute_input": "2022-03-11T10:22:13.289245Z",
     "iopub.status.busy": "2022-03-11T10:22:13.288839Z",
     "iopub.status.idle": "2022-03-11T10:22:13.290407Z",
     "shell.execute_reply": "2022-03-11T10:22:13.290661Z"
    },
    "id": "fe007438",
    "papermill": {
     "duration": 0.011021,
     "end_time": "2022-03-11T10:22:13.290769",
     "exception": false,
     "start_time": "2022-03-11T10:22:13.279748",
     "status": "completed"
    },
    "tags": []
   },
   "outputs": [],
   "source": [
    "#Train test split for dataset \n",
    "X_train,X_test,Y_train,Y_test = train_test_split(X,Y,test_size = 0.2)\n",
    "train_data = dataset.CustomDataset(X_train,Y_train)\n",
    "test_data = dataset.CustomDataset(X_test,Y_test)\n"
   ]
  },
  {
   "cell_type": "markdown",
   "id": "a9a1af34",
   "metadata": {
    "id": "a9a1af34",
    "papermill": {
     "duration": 0.007061,
     "end_time": "2022-03-11T10:22:13.304922",
     "exception": false,
     "start_time": "2022-03-11T10:22:13.297861",
     "status": "completed"
    },
    "tags": []
   },
   "source": [
    "## Training Parameters "
   ]
  },
  {
   "cell_type": "code",
   "execution_count": 8,
   "id": "952b7fc8",
   "metadata": {
    "execution": {
     "iopub.execute_input": "2022-03-11T10:22:13.321210Z",
     "iopub.status.busy": "2022-03-11T10:22:13.320852Z",
     "iopub.status.idle": "2022-03-11T10:22:13.322113Z",
     "shell.execute_reply": "2022-03-11T10:22:13.322359Z"
    },
    "id": "952b7fc8",
    "papermill": {
     "duration": 0.010541,
     "end_time": "2022-03-11T10:22:13.322463",
     "exception": false,
     "start_time": "2022-03-11T10:22:13.311922",
     "status": "completed"
    },
    "tags": []
   },
   "outputs": [],
   "source": [
    "batch_size = 64\n",
    "n_epochs = 1000\n",
    "#Select the device \n",
    "device = torch.device('cuda' if torch.cuda.is_available() else 'cpu')"
   ]
  },
  {
   "cell_type": "markdown",
   "id": "a95e1600",
   "metadata": {
    "id": "a95e1600",
    "papermill": {
     "duration": 0.007006,
     "end_time": "2022-03-11T10:22:13.336555",
     "exception": false,
     "start_time": "2022-03-11T10:22:13.329549",
     "status": "completed"
    },
    "tags": []
   },
   "source": [
    "# ABC Pre-generator Model \n",
    "\n",
    "1. The catboost model is used as a pre-generator model for the ABC-GAN. \n",
    "2. The model is first trained on the entire dataset \n",
    "3. It generats X,Y pairs and we add some Gaussian noise with mean 0 and variance 1 to it which is then feed as input to the generator.\n"
   ]
  },
  {
   "cell_type": "code",
   "execution_count": 9,
   "id": "ff8ce7bd",
   "metadata": {
    "execution": {
     "iopub.execute_input": "2022-03-11T10:22:13.355221Z",
     "iopub.status.busy": "2022-03-11T10:22:13.354839Z",
     "iopub.status.idle": "2022-03-11T10:22:14.394131Z",
     "shell.execute_reply": "2022-03-11T10:22:14.394369Z"
    },
    "id": "ff8ce7bd",
    "papermill": {
     "duration": 1.050902,
     "end_time": "2022-03-11T10:22:14.394493",
     "exception": false,
     "start_time": "2022-03-11T10:22:13.343591",
     "status": "completed"
    },
    "tags": []
   },
   "outputs": [
    {
     "name": "stdout",
     "output_type": "stream",
     "text": [
      "Learning rate set to 0.033215\n",
      "0:\tlearn: 0.9565348\ttotal: 59.4ms\tremaining: 59.3s\n",
      "1:\tlearn: 0.9384299\ttotal: 60.6ms\tremaining: 30.2s\n",
      "2:\tlearn: 0.9201107\ttotal: 61.5ms\tremaining: 20.4s\n",
      "3:\tlearn: 0.9044294\ttotal: 62.6ms\tremaining: 15.6s\n",
      "4:\tlearn: 0.8880653\ttotal: 63.7ms\tremaining: 12.7s\n",
      "5:\tlearn: 0.8718628\ttotal: 64.6ms\tremaining: 10.7s\n",
      "6:\tlearn: 0.8574739\ttotal: 65.6ms\tremaining: 9.31s\n",
      "7:\tlearn: 0.8424499\ttotal: 66.6ms\tremaining: 8.26s\n",
      "8:\tlearn: 0.8280897\ttotal: 67.5ms\tremaining: 7.43s\n",
      "9:\tlearn: 0.8124309\ttotal: 68.4ms\tremaining: 6.77s\n",
      "10:\tlearn: 0.7980807\ttotal: 69.2ms\tremaining: 6.22s\n",
      "11:\tlearn: 0.7849942\ttotal: 70.1ms\tremaining: 5.77s\n",
      "12:\tlearn: 0.7707381\ttotal: 71ms\tremaining: 5.39s\n",
      "13:\tlearn: 0.7571475\ttotal: 71.8ms\tremaining: 5.06s\n",
      "14:\tlearn: 0.7469455\ttotal: 72.9ms\tremaining: 4.78s\n",
      "15:\tlearn: 0.7342241\ttotal: 73.7ms\tremaining: 4.53s\n",
      "16:\tlearn: 0.7217020\ttotal: 74.5ms\tremaining: 4.31s\n",
      "17:\tlearn: 0.7108064\ttotal: 75.4ms\tremaining: 4.11s\n",
      "18:\tlearn: 0.6993801\ttotal: 76.4ms\tremaining: 3.94s\n",
      "19:\tlearn: 0.6883790\ttotal: 77.2ms\tremaining: 3.78s\n",
      "20:\tlearn: 0.6768238\ttotal: 78.2ms\tremaining: 3.65s\n",
      "21:\tlearn: 0.6673617\ttotal: 79.2ms\tremaining: 3.52s\n",
      "22:\tlearn: 0.6567665\ttotal: 80ms\tremaining: 3.4s\n",
      "23:\tlearn: 0.6483578\ttotal: 80.8ms\tremaining: 3.29s\n",
      "24:\tlearn: 0.6388511\ttotal: 81.6ms\tremaining: 3.18s\n",
      "25:\tlearn: 0.6295211\ttotal: 82.4ms\tremaining: 3.09s\n",
      "26:\tlearn: 0.6216147\ttotal: 83.2ms\tremaining: 3s\n",
      "27:\tlearn: 0.6132150\ttotal: 84.1ms\tremaining: 2.92s\n",
      "28:\tlearn: 0.6032661\ttotal: 85ms\tremaining: 2.85s\n",
      "29:\tlearn: 0.5939391\ttotal: 85.9ms\tremaining: 2.78s\n",
      "30:\tlearn: 0.5858458\ttotal: 86.9ms\tremaining: 2.71s\n",
      "31:\tlearn: 0.5781287\ttotal: 87.7ms\tremaining: 2.65s\n",
      "32:\tlearn: 0.5716888\ttotal: 88.7ms\tremaining: 2.6s\n",
      "33:\tlearn: 0.5649326\ttotal: 89.5ms\tremaining: 2.54s\n",
      "34:\tlearn: 0.5581511\ttotal: 90.4ms\tremaining: 2.49s\n",
      "35:\tlearn: 0.5509023\ttotal: 91.3ms\tremaining: 2.44s\n",
      "36:\tlearn: 0.5448239\ttotal: 92.2ms\tremaining: 2.4s\n",
      "37:\tlearn: 0.5373434\ttotal: 93.1ms\tremaining: 2.36s\n",
      "38:\tlearn: 0.5310612\ttotal: 94ms\tremaining: 2.31s\n",
      "39:\tlearn: 0.5242666\ttotal: 94.8ms\tremaining: 2.27s\n",
      "40:\tlearn: 0.5181463\ttotal: 95.7ms\tremaining: 2.24s\n",
      "41:\tlearn: 0.5114284\ttotal: 96.5ms\tremaining: 2.2s\n",
      "42:\tlearn: 0.5061035\ttotal: 97.5ms\tremaining: 2.17s\n",
      "43:\tlearn: 0.5008939\ttotal: 98.3ms\tremaining: 2.13s\n",
      "44:\tlearn: 0.4949958\ttotal: 99.2ms\tremaining: 2.1s\n",
      "45:\tlearn: 0.4887148\ttotal: 100ms\tremaining: 2.08s\n",
      "46:\tlearn: 0.4831735\ttotal: 101ms\tremaining: 2.05s\n",
      "47:\tlearn: 0.4774617\ttotal: 102ms\tremaining: 2.02s\n",
      "48:\tlearn: 0.4727252\ttotal: 103ms\tremaining: 2s\n",
      "49:\tlearn: 0.4685926\ttotal: 104ms\tremaining: 1.97s\n",
      "50:\tlearn: 0.4632135\ttotal: 105ms\tremaining: 1.95s\n",
      "51:\tlearn: 0.4594305\ttotal: 105ms\tremaining: 1.92s\n",
      "52:\tlearn: 0.4536899\ttotal: 106ms\tremaining: 1.9s\n",
      "53:\tlearn: 0.4490764\ttotal: 107ms\tremaining: 1.88s\n",
      "54:\tlearn: 0.4445319\ttotal: 108ms\tremaining: 1.86s\n",
      "55:\tlearn: 0.4403281\ttotal: 109ms\tremaining: 1.83s\n",
      "56:\tlearn: 0.4365508\ttotal: 110ms\tremaining: 1.82s\n"
     ]
    },
    {
     "name": "stdout",
     "output_type": "stream",
     "text": [
      "57:\tlearn: 0.4326107\ttotal: 111ms\tremaining: 1.8s\n",
      "58:\tlearn: 0.4290497\ttotal: 112ms\tremaining: 1.79s\n",
      "59:\tlearn: 0.4258908\ttotal: 113ms\tremaining: 1.77s\n",
      "60:\tlearn: 0.4220674\ttotal: 114ms\tremaining: 1.75s\n",
      "61:\tlearn: 0.4181711\ttotal: 115ms\tremaining: 1.74s\n",
      "62:\tlearn: 0.4140320\ttotal: 116ms\tremaining: 1.72s\n",
      "63:\tlearn: 0.4105891\ttotal: 117ms\tremaining: 1.71s\n",
      "64:\tlearn: 0.4062918\ttotal: 118ms\tremaining: 1.69s\n",
      "65:\tlearn: 0.4029467\ttotal: 118ms\tremaining: 1.68s\n",
      "66:\tlearn: 0.3992724\ttotal: 119ms\tremaining: 1.66s\n",
      "67:\tlearn: 0.3958429\ttotal: 120ms\tremaining: 1.65s\n",
      "68:\tlearn: 0.3917864\ttotal: 121ms\tremaining: 1.63s\n",
      "69:\tlearn: 0.3878279\ttotal: 122ms\tremaining: 1.62s\n",
      "70:\tlearn: 0.3840209\ttotal: 123ms\tremaining: 1.6s\n",
      "71:\tlearn: 0.3816654\ttotal: 124ms\tremaining: 1.59s\n",
      "72:\tlearn: 0.3789958\ttotal: 124ms\tremaining: 1.58s\n",
      "73:\tlearn: 0.3759233\ttotal: 125ms\tremaining: 1.57s\n",
      "74:\tlearn: 0.3722232\ttotal: 126ms\tremaining: 1.56s\n",
      "75:\tlearn: 0.3705690\ttotal: 127ms\tremaining: 1.54s\n",
      "76:\tlearn: 0.3683301\ttotal: 128ms\tremaining: 1.53s\n",
      "77:\tlearn: 0.3650070\ttotal: 129ms\tremaining: 1.52s\n",
      "78:\tlearn: 0.3622012\ttotal: 130ms\tremaining: 1.51s\n",
      "79:\tlearn: 0.3599743\ttotal: 131ms\tremaining: 1.5s\n",
      "80:\tlearn: 0.3575075\ttotal: 132ms\tremaining: 1.49s\n",
      "81:\tlearn: 0.3554710\ttotal: 133ms\tremaining: 1.49s\n",
      "82:\tlearn: 0.3525974\ttotal: 134ms\tremaining: 1.48s\n",
      "83:\tlearn: 0.3504534\ttotal: 135ms\tremaining: 1.47s\n",
      "84:\tlearn: 0.3474954\ttotal: 135ms\tremaining: 1.46s\n",
      "85:\tlearn: 0.3456265\ttotal: 136ms\tremaining: 1.45s\n",
      "86:\tlearn: 0.3426283\ttotal: 137ms\tremaining: 1.44s\n",
      "87:\tlearn: 0.3403664\ttotal: 138ms\tremaining: 1.43s\n",
      "88:\tlearn: 0.3385520\ttotal: 139ms\tremaining: 1.42s\n",
      "89:\tlearn: 0.3363559\ttotal: 140ms\tremaining: 1.42s\n",
      "90:\tlearn: 0.3344863\ttotal: 141ms\tremaining: 1.41s\n",
      "91:\tlearn: 0.3323485\ttotal: 142ms\tremaining: 1.4s\n",
      "92:\tlearn: 0.3305472\ttotal: 143ms\tremaining: 1.4s\n",
      "93:\tlearn: 0.3284257\ttotal: 144ms\tremaining: 1.39s\n",
      "94:\tlearn: 0.3266043\ttotal: 145ms\tremaining: 1.38s\n",
      "95:\tlearn: 0.3247028\ttotal: 146ms\tremaining: 1.38s\n",
      "96:\tlearn: 0.3233318\ttotal: 147ms\tremaining: 1.37s\n",
      "97:\tlearn: 0.3218649\ttotal: 148ms\tremaining: 1.36s\n",
      "98:\tlearn: 0.3205069\ttotal: 149ms\tremaining: 1.35s\n",
      "99:\tlearn: 0.3193648\ttotal: 150ms\tremaining: 1.35s\n",
      "100:\tlearn: 0.3173250\ttotal: 151ms\tremaining: 1.34s\n",
      "101:\tlearn: 0.3150344\ttotal: 152ms\tremaining: 1.33s\n",
      "102:\tlearn: 0.3127255\ttotal: 152ms\tremaining: 1.33s\n",
      "103:\tlearn: 0.3112725\ttotal: 153ms\tremaining: 1.32s\n",
      "104:\tlearn: 0.3099697\ttotal: 154ms\tremaining: 1.31s\n",
      "105:\tlearn: 0.3087247\ttotal: 155ms\tremaining: 1.3s\n",
      "106:\tlearn: 0.3074677\ttotal: 156ms\tremaining: 1.3s\n",
      "107:\tlearn: 0.3060254\ttotal: 157ms\tremaining: 1.29s\n",
      "108:\tlearn: 0.3046232\ttotal: 157ms\tremaining: 1.29s\n",
      "109:\tlearn: 0.3028603\ttotal: 158ms\tremaining: 1.28s\n",
      "110:\tlearn: 0.3019175\ttotal: 159ms\tremaining: 1.27s\n",
      "111:\tlearn: 0.3003755\ttotal: 160ms\tremaining: 1.27s\n",
      "112:\tlearn: 0.2992512\ttotal: 161ms\tremaining: 1.26s\n",
      "113:\tlearn: 0.2979358\ttotal: 162ms\tremaining: 1.26s\n",
      "114:\tlearn: 0.2967564\ttotal: 163ms\tremaining: 1.25s\n",
      "115:\tlearn: 0.2957692\ttotal: 164ms\tremaining: 1.25s\n",
      "116:\tlearn: 0.2941954\ttotal: 165ms\tremaining: 1.24s\n",
      "117:\tlearn: 0.2929434\ttotal: 165ms\tremaining: 1.24s\n",
      "118:\tlearn: 0.2917765\ttotal: 166ms\tremaining: 1.23s\n",
      "119:\tlearn: 0.2909642\ttotal: 167ms\tremaining: 1.23s\n",
      "120:\tlearn: 0.2895859\ttotal: 168ms\tremaining: 1.22s\n",
      "121:\tlearn: 0.2886269\ttotal: 169ms\tremaining: 1.22s\n",
      "122:\tlearn: 0.2870964\ttotal: 170ms\tremaining: 1.21s\n",
      "123:\tlearn: 0.2853776\ttotal: 171ms\tremaining: 1.21s\n",
      "124:\tlearn: 0.2842231\ttotal: 172ms\tremaining: 1.2s\n",
      "125:\tlearn: 0.2831929\ttotal: 173ms\tremaining: 1.2s\n",
      "126:\tlearn: 0.2816660\ttotal: 173ms\tremaining: 1.19s\n",
      "127:\tlearn: 0.2803645\ttotal: 174ms\tremaining: 1.19s\n",
      "128:\tlearn: 0.2789734\ttotal: 175ms\tremaining: 1.18s\n",
      "129:\tlearn: 0.2775938\ttotal: 176ms\tremaining: 1.18s\n",
      "130:\tlearn: 0.2765625\ttotal: 177ms\tremaining: 1.17s\n",
      "131:\tlearn: 0.2757508\ttotal: 178ms\tremaining: 1.17s\n",
      "132:\tlearn: 0.2746075\ttotal: 179ms\tremaining: 1.17s\n",
      "133:\tlearn: 0.2732438\ttotal: 180ms\tremaining: 1.16s\n",
      "134:\tlearn: 0.2718322\ttotal: 181ms\tremaining: 1.16s\n",
      "135:\tlearn: 0.2706086\ttotal: 181ms\tremaining: 1.15s\n",
      "136:\tlearn: 0.2695303\ttotal: 182ms\tremaining: 1.15s\n",
      "137:\tlearn: 0.2685588\ttotal: 183ms\tremaining: 1.14s\n",
      "138:\tlearn: 0.2675872\ttotal: 184ms\tremaining: 1.14s\n",
      "139:\tlearn: 0.2666970\ttotal: 185ms\tremaining: 1.14s\n",
      "140:\tlearn: 0.2657838\ttotal: 186ms\tremaining: 1.13s\n",
      "141:\tlearn: 0.2648465\ttotal: 187ms\tremaining: 1.13s\n",
      "142:\tlearn: 0.2638886\ttotal: 188ms\tremaining: 1.12s\n",
      "143:\tlearn: 0.2628795\ttotal: 188ms\tremaining: 1.12s\n",
      "144:\tlearn: 0.2619337\ttotal: 189ms\tremaining: 1.11s\n",
      "145:\tlearn: 0.2612749\ttotal: 190ms\tremaining: 1.11s\n",
      "146:\tlearn: 0.2604318\ttotal: 191ms\tremaining: 1.11s\n",
      "147:\tlearn: 0.2593740\ttotal: 192ms\tremaining: 1.1s\n"
     ]
    },
    {
     "name": "stdout",
     "output_type": "stream",
     "text": [
      "148:\tlearn: 0.2582906\ttotal: 193ms\tremaining: 1.1s\n",
      "149:\tlearn: 0.2576316\ttotal: 194ms\tremaining: 1.1s\n",
      "150:\tlearn: 0.2568091\ttotal: 194ms\tremaining: 1.09s\n",
      "151:\tlearn: 0.2561342\ttotal: 195ms\tremaining: 1.09s\n",
      "152:\tlearn: 0.2554978\ttotal: 196ms\tremaining: 1.09s\n",
      "153:\tlearn: 0.2546429\ttotal: 197ms\tremaining: 1.08s\n",
      "154:\tlearn: 0.2537525\ttotal: 198ms\tremaining: 1.08s\n",
      "155:\tlearn: 0.2531796\ttotal: 199ms\tremaining: 1.08s\n",
      "156:\tlearn: 0.2527310\ttotal: 200ms\tremaining: 1.07s\n",
      "157:\tlearn: 0.2521205\ttotal: 201ms\tremaining: 1.07s\n",
      "158:\tlearn: 0.2509073\ttotal: 202ms\tremaining: 1.07s\n",
      "159:\tlearn: 0.2500959\ttotal: 202ms\tremaining: 1.06s\n",
      "160:\tlearn: 0.2493900\ttotal: 203ms\tremaining: 1.06s\n",
      "161:\tlearn: 0.2486507\ttotal: 204ms\tremaining: 1.06s\n",
      "162:\tlearn: 0.2478721\ttotal: 205ms\tremaining: 1.05s\n",
      "163:\tlearn: 0.2468924\ttotal: 206ms\tremaining: 1.05s\n",
      "164:\tlearn: 0.2463569\ttotal: 207ms\tremaining: 1.05s\n",
      "165:\tlearn: 0.2452363\ttotal: 208ms\tremaining: 1.04s\n",
      "166:\tlearn: 0.2446872\ttotal: 209ms\tremaining: 1.04s\n",
      "167:\tlearn: 0.2439681\ttotal: 210ms\tremaining: 1.04s\n",
      "168:\tlearn: 0.2434795\ttotal: 211ms\tremaining: 1.03s\n",
      "169:\tlearn: 0.2425642\ttotal: 211ms\tremaining: 1.03s\n",
      "170:\tlearn: 0.2418914\ttotal: 212ms\tremaining: 1.03s\n",
      "171:\tlearn: 0.2413051\ttotal: 213ms\tremaining: 1.03s\n",
      "172:\tlearn: 0.2404577\ttotal: 214ms\tremaining: 1.02s\n",
      "173:\tlearn: 0.2396641\ttotal: 215ms\tremaining: 1.02s\n",
      "174:\tlearn: 0.2390698\ttotal: 216ms\tremaining: 1.02s\n",
      "175:\tlearn: 0.2385324\ttotal: 217ms\tremaining: 1.01s\n",
      "176:\tlearn: 0.2377079\ttotal: 218ms\tremaining: 1.01s\n",
      "177:\tlearn: 0.2369683\ttotal: 219ms\tremaining: 1.01s\n",
      "178:\tlearn: 0.2361651\ttotal: 220ms\tremaining: 1.01s\n",
      "179:\tlearn: 0.2354336\ttotal: 220ms\tremaining: 1s\n",
      "180:\tlearn: 0.2346786\ttotal: 221ms\tremaining: 1s\n",
      "181:\tlearn: 0.2341020\ttotal: 222ms\tremaining: 998ms\n",
      "182:\tlearn: 0.2335572\ttotal: 223ms\tremaining: 996ms\n",
      "183:\tlearn: 0.2326662\ttotal: 224ms\tremaining: 993ms\n",
      "184:\tlearn: 0.2318235\ttotal: 225ms\tremaining: 991ms\n",
      "185:\tlearn: 0.2313373\ttotal: 226ms\tremaining: 988ms\n",
      "186:\tlearn: 0.2304562\ttotal: 227ms\tremaining: 985ms\n",
      "187:\tlearn: 0.2298567\ttotal: 227ms\tremaining: 983ms\n",
      "188:\tlearn: 0.2293391\ttotal: 228ms\tremaining: 980ms\n",
      "189:\tlearn: 0.2288789\ttotal: 229ms\tremaining: 977ms\n",
      "190:\tlearn: 0.2281789\ttotal: 230ms\tremaining: 974ms\n",
      "191:\tlearn: 0.2276356\ttotal: 231ms\tremaining: 972ms\n",
      "192:\tlearn: 0.2268233\ttotal: 232ms\tremaining: 969ms\n",
      "193:\tlearn: 0.2258319\ttotal: 233ms\tremaining: 967ms\n",
      "194:\tlearn: 0.2251604\ttotal: 234ms\tremaining: 964ms\n",
      "195:\tlearn: 0.2243553\ttotal: 234ms\tremaining: 962ms\n",
      "196:\tlearn: 0.2238869\ttotal: 235ms\tremaining: 959ms\n",
      "197:\tlearn: 0.2234521\ttotal: 236ms\tremaining: 957ms\n",
      "198:\tlearn: 0.2230091\ttotal: 237ms\tremaining: 955ms\n",
      "199:\tlearn: 0.2223828\ttotal: 238ms\tremaining: 953ms\n",
      "200:\tlearn: 0.2217493\ttotal: 239ms\tremaining: 951ms\n",
      "201:\tlearn: 0.2211127\ttotal: 240ms\tremaining: 948ms\n",
      "202:\tlearn: 0.2206445\ttotal: 241ms\tremaining: 946ms\n",
      "203:\tlearn: 0.2202226\ttotal: 242ms\tremaining: 944ms\n",
      "204:\tlearn: 0.2195341\ttotal: 243ms\tremaining: 942ms\n",
      "205:\tlearn: 0.2188525\ttotal: 244ms\tremaining: 940ms\n",
      "206:\tlearn: 0.2181934\ttotal: 245ms\tremaining: 938ms\n",
      "207:\tlearn: 0.2177535\ttotal: 246ms\tremaining: 936ms\n",
      "208:\tlearn: 0.2171314\ttotal: 247ms\tremaining: 934ms\n",
      "209:\tlearn: 0.2165041\ttotal: 248ms\tremaining: 931ms\n",
      "210:\tlearn: 0.2157898\ttotal: 248ms\tremaining: 929ms\n",
      "211:\tlearn: 0.2152433\ttotal: 249ms\tremaining: 926ms\n",
      "212:\tlearn: 0.2145801\ttotal: 250ms\tremaining: 924ms\n",
      "213:\tlearn: 0.2143352\ttotal: 251ms\tremaining: 922ms\n",
      "214:\tlearn: 0.2138490\ttotal: 252ms\tremaining: 920ms\n",
      "215:\tlearn: 0.2131602\ttotal: 253ms\tremaining: 917ms\n",
      "216:\tlearn: 0.2127027\ttotal: 254ms\tremaining: 915ms\n",
      "217:\tlearn: 0.2121956\ttotal: 254ms\tremaining: 913ms\n",
      "218:\tlearn: 0.2115576\ttotal: 255ms\tremaining: 910ms\n",
      "219:\tlearn: 0.2110936\ttotal: 256ms\tremaining: 908ms\n",
      "220:\tlearn: 0.2105746\ttotal: 257ms\tremaining: 906ms\n",
      "221:\tlearn: 0.2101800\ttotal: 258ms\tremaining: 904ms\n",
      "222:\tlearn: 0.2098678\ttotal: 260ms\tremaining: 905ms\n",
      "223:\tlearn: 0.2093313\ttotal: 261ms\tremaining: 902ms\n",
      "224:\tlearn: 0.2087344\ttotal: 261ms\tremaining: 900ms\n",
      "225:\tlearn: 0.2083566\ttotal: 262ms\tremaining: 898ms\n",
      "226:\tlearn: 0.2079316\ttotal: 263ms\tremaining: 896ms\n",
      "227:\tlearn: 0.2073702\ttotal: 264ms\tremaining: 894ms\n",
      "228:\tlearn: 0.2066324\ttotal: 265ms\tremaining: 892ms\n",
      "229:\tlearn: 0.2062726\ttotal: 266ms\tremaining: 889ms\n",
      "230:\tlearn: 0.2057497\ttotal: 267ms\tremaining: 888ms\n",
      "231:\tlearn: 0.2053923\ttotal: 268ms\tremaining: 886ms\n",
      "232:\tlearn: 0.2050356\ttotal: 269ms\tremaining: 884ms\n",
      "233:\tlearn: 0.2047555\ttotal: 269ms\tremaining: 882ms\n",
      "234:\tlearn: 0.2044885\ttotal: 270ms\tremaining: 880ms\n",
      "235:\tlearn: 0.2040814\ttotal: 271ms\tremaining: 877ms\n",
      "236:\tlearn: 0.2037426\ttotal: 272ms\tremaining: 876ms\n",
      "237:\tlearn: 0.2030592\ttotal: 273ms\tremaining: 873ms\n",
      "238:\tlearn: 0.2025274\ttotal: 274ms\tremaining: 871ms\n",
      "239:\tlearn: 0.2022003\ttotal: 275ms\tremaining: 869ms\n",
      "240:\tlearn: 0.2015596\ttotal: 276ms\tremaining: 869ms\n",
      "241:\tlearn: 0.2011386\ttotal: 277ms\tremaining: 867ms\n",
      "242:\tlearn: 0.2007212\ttotal: 278ms\tremaining: 865ms\n",
      "243:\tlearn: 0.1999886\ttotal: 279ms\tremaining: 863ms\n",
      "244:\tlearn: 0.1994472\ttotal: 279ms\tremaining: 861ms\n",
      "245:\tlearn: 0.1986289\ttotal: 280ms\tremaining: 859ms\n",
      "246:\tlearn: 0.1982274\ttotal: 281ms\tremaining: 857ms\n",
      "247:\tlearn: 0.1978291\ttotal: 282ms\tremaining: 856ms\n",
      "248:\tlearn: 0.1975997\ttotal: 283ms\tremaining: 854ms\n",
      "249:\tlearn: 0.1970608\ttotal: 284ms\tremaining: 852ms\n",
      "250:\tlearn: 0.1964860\ttotal: 285ms\tremaining: 850ms\n",
      "251:\tlearn: 0.1961254\ttotal: 286ms\tremaining: 848ms\n",
      "252:\tlearn: 0.1956937\ttotal: 287ms\tremaining: 846ms\n",
      "253:\tlearn: 0.1950934\ttotal: 287ms\tremaining: 844ms\n",
      "254:\tlearn: 0.1945014\ttotal: 288ms\tremaining: 842ms\n",
      "255:\tlearn: 0.1938390\ttotal: 289ms\tremaining: 840ms\n",
      "256:\tlearn: 0.1931550\ttotal: 290ms\tremaining: 838ms\n",
      "257:\tlearn: 0.1928407\ttotal: 291ms\tremaining: 836ms\n",
      "258:\tlearn: 0.1925043\ttotal: 292ms\tremaining: 835ms\n",
      "259:\tlearn: 0.1922173\ttotal: 293ms\tremaining: 834ms\n",
      "260:\tlearn: 0.1917666\ttotal: 294ms\tremaining: 833ms\n",
      "261:\tlearn: 0.1914193\ttotal: 295ms\tremaining: 832ms\n",
      "262:\tlearn: 0.1909984\ttotal: 296ms\tremaining: 831ms\n",
      "263:\tlearn: 0.1906153\ttotal: 297ms\tremaining: 829ms\n",
      "264:\tlearn: 0.1901758\ttotal: 298ms\tremaining: 828ms\n",
      "265:\tlearn: 0.1897761\ttotal: 299ms\tremaining: 826ms\n",
      "266:\tlearn: 0.1892233\ttotal: 300ms\tremaining: 824ms\n",
      "267:\tlearn: 0.1887370\ttotal: 301ms\tremaining: 823ms\n"
     ]
    },
    {
     "name": "stdout",
     "output_type": "stream",
     "text": [
      "268:\tlearn: 0.1883718\ttotal: 302ms\tremaining: 822ms\n",
      "269:\tlearn: 0.1881625\ttotal: 304ms\tremaining: 821ms\n",
      "270:\tlearn: 0.1879276\ttotal: 305ms\tremaining: 820ms\n",
      "271:\tlearn: 0.1873880\ttotal: 306ms\tremaining: 819ms\n",
      "272:\tlearn: 0.1868455\ttotal: 307ms\tremaining: 817ms\n",
      "273:\tlearn: 0.1865056\ttotal: 308ms\tremaining: 816ms\n",
      "274:\tlearn: 0.1860307\ttotal: 309ms\tremaining: 814ms\n",
      "275:\tlearn: 0.1854883\ttotal: 310ms\tremaining: 813ms\n",
      "276:\tlearn: 0.1850462\ttotal: 311ms\tremaining: 811ms\n",
      "277:\tlearn: 0.1845715\ttotal: 312ms\tremaining: 810ms\n",
      "278:\tlearn: 0.1841250\ttotal: 313ms\tremaining: 808ms\n",
      "279:\tlearn: 0.1837129\ttotal: 314ms\tremaining: 807ms\n",
      "280:\tlearn: 0.1832406\ttotal: 315ms\tremaining: 805ms\n",
      "281:\tlearn: 0.1826706\ttotal: 316ms\tremaining: 804ms\n",
      "282:\tlearn: 0.1823207\ttotal: 317ms\tremaining: 802ms\n",
      "283:\tlearn: 0.1817972\ttotal: 318ms\tremaining: 801ms\n",
      "284:\tlearn: 0.1813607\ttotal: 319ms\tremaining: 799ms\n",
      "285:\tlearn: 0.1809244\ttotal: 320ms\tremaining: 798ms\n",
      "286:\tlearn: 0.1805765\ttotal: 321ms\tremaining: 797ms\n",
      "287:\tlearn: 0.1800732\ttotal: 322ms\tremaining: 795ms\n",
      "288:\tlearn: 0.1794927\ttotal: 323ms\tremaining: 794ms\n",
      "289:\tlearn: 0.1789850\ttotal: 323ms\tremaining: 792ms\n",
      "290:\tlearn: 0.1785625\ttotal: 324ms\tremaining: 790ms\n",
      "291:\tlearn: 0.1779638\ttotal: 325ms\tremaining: 788ms\n",
      "292:\tlearn: 0.1774437\ttotal: 326ms\tremaining: 787ms\n",
      "293:\tlearn: 0.1772423\ttotal: 327ms\tremaining: 785ms\n",
      "294:\tlearn: 0.1767801\ttotal: 328ms\tremaining: 783ms\n",
      "295:\tlearn: 0.1765031\ttotal: 329ms\tremaining: 782ms\n",
      "296:\tlearn: 0.1761694\ttotal: 330ms\tremaining: 780ms\n",
      "297:\tlearn: 0.1756308\ttotal: 330ms\tremaining: 778ms\n",
      "298:\tlearn: 0.1752052\ttotal: 331ms\tremaining: 777ms\n",
      "299:\tlearn: 0.1746473\ttotal: 332ms\tremaining: 775ms\n",
      "300:\tlearn: 0.1742532\ttotal: 333ms\tremaining: 774ms\n",
      "301:\tlearn: 0.1738446\ttotal: 334ms\tremaining: 772ms\n",
      "302:\tlearn: 0.1733159\ttotal: 339ms\tremaining: 779ms\n",
      "303:\tlearn: 0.1730041\ttotal: 343ms\tremaining: 786ms\n",
      "304:\tlearn: 0.1725384\ttotal: 345ms\tremaining: 787ms\n",
      "305:\tlearn: 0.1721341\ttotal: 348ms\tremaining: 788ms\n",
      "306:\tlearn: 0.1715090\ttotal: 349ms\tremaining: 788ms\n",
      "307:\tlearn: 0.1712367\ttotal: 350ms\tremaining: 786ms\n",
      "308:\tlearn: 0.1709005\ttotal: 351ms\tremaining: 785ms\n",
      "309:\tlearn: 0.1707397\ttotal: 353ms\tremaining: 786ms\n",
      "310:\tlearn: 0.1701548\ttotal: 354ms\tremaining: 785ms\n",
      "311:\tlearn: 0.1697220\ttotal: 355ms\tremaining: 784ms\n",
      "312:\tlearn: 0.1694096\ttotal: 356ms\tremaining: 782ms\n",
      "313:\tlearn: 0.1690745\ttotal: 357ms\tremaining: 780ms\n",
      "314:\tlearn: 0.1688679\ttotal: 358ms\tremaining: 779ms\n",
      "315:\tlearn: 0.1682764\ttotal: 359ms\tremaining: 778ms\n",
      "316:\tlearn: 0.1677285\ttotal: 360ms\tremaining: 776ms\n",
      "317:\tlearn: 0.1673828\ttotal: 361ms\tremaining: 774ms\n",
      "318:\tlearn: 0.1671168\ttotal: 362ms\tremaining: 773ms\n",
      "319:\tlearn: 0.1667450\ttotal: 363ms\tremaining: 771ms\n",
      "320:\tlearn: 0.1663457\ttotal: 364ms\tremaining: 769ms\n",
      "321:\tlearn: 0.1660987\ttotal: 365ms\tremaining: 768ms\n",
      "322:\tlearn: 0.1656560\ttotal: 366ms\tremaining: 766ms\n",
      "323:\tlearn: 0.1652894\ttotal: 366ms\tremaining: 765ms\n",
      "324:\tlearn: 0.1648170\ttotal: 368ms\tremaining: 763ms\n",
      "325:\tlearn: 0.1642432\ttotal: 369ms\tremaining: 762ms\n",
      "326:\tlearn: 0.1640799\ttotal: 369ms\tremaining: 760ms\n",
      "327:\tlearn: 0.1636727\ttotal: 370ms\tremaining: 759ms\n",
      "328:\tlearn: 0.1633135\ttotal: 371ms\tremaining: 757ms\n",
      "329:\tlearn: 0.1628989\ttotal: 372ms\tremaining: 755ms\n",
      "330:\tlearn: 0.1624964\ttotal: 373ms\tremaining: 754ms\n",
      "331:\tlearn: 0.1623062\ttotal: 374ms\tremaining: 752ms\n",
      "332:\tlearn: 0.1620110\ttotal: 375ms\tremaining: 751ms\n",
      "333:\tlearn: 0.1616622\ttotal: 376ms\tremaining: 750ms\n",
      "334:\tlearn: 0.1612026\ttotal: 377ms\tremaining: 748ms\n",
      "335:\tlearn: 0.1608071\ttotal: 378ms\tremaining: 747ms\n",
      "336:\tlearn: 0.1606263\ttotal: 379ms\tremaining: 745ms\n",
      "337:\tlearn: 0.1603980\ttotal: 380ms\tremaining: 744ms\n",
      "338:\tlearn: 0.1598481\ttotal: 381ms\tremaining: 742ms\n",
      "339:\tlearn: 0.1595560\ttotal: 382ms\tremaining: 741ms\n"
     ]
    },
    {
     "name": "stdout",
     "output_type": "stream",
     "text": [
      "340:\tlearn: 0.1590754\ttotal: 383ms\tremaining: 740ms\n",
      "341:\tlearn: 0.1586420\ttotal: 384ms\tremaining: 739ms\n",
      "342:\tlearn: 0.1581361\ttotal: 385ms\tremaining: 738ms\n",
      "343:\tlearn: 0.1577432\ttotal: 386ms\tremaining: 736ms\n",
      "344:\tlearn: 0.1573500\ttotal: 387ms\tremaining: 735ms\n",
      "345:\tlearn: 0.1570756\ttotal: 388ms\tremaining: 733ms\n",
      "346:\tlearn: 0.1567166\ttotal: 389ms\tremaining: 732ms\n",
      "347:\tlearn: 0.1564633\ttotal: 390ms\tremaining: 730ms\n",
      "348:\tlearn: 0.1559349\ttotal: 391ms\tremaining: 729ms\n",
      "349:\tlearn: 0.1556006\ttotal: 392ms\tremaining: 727ms\n",
      "350:\tlearn: 0.1551661\ttotal: 393ms\tremaining: 726ms\n",
      "351:\tlearn: 0.1549635\ttotal: 393ms\tremaining: 724ms\n",
      "352:\tlearn: 0.1546422\ttotal: 394ms\tremaining: 723ms\n",
      "353:\tlearn: 0.1542693\ttotal: 395ms\tremaining: 721ms\n",
      "354:\tlearn: 0.1540265\ttotal: 396ms\tremaining: 719ms\n",
      "355:\tlearn: 0.1537853\ttotal: 397ms\tremaining: 718ms\n",
      "356:\tlearn: 0.1534867\ttotal: 398ms\tremaining: 716ms\n",
      "357:\tlearn: 0.1530897\ttotal: 399ms\tremaining: 715ms\n",
      "358:\tlearn: 0.1526605\ttotal: 400ms\tremaining: 713ms\n",
      "359:\tlearn: 0.1522404\ttotal: 401ms\tremaining: 712ms\n",
      "360:\tlearn: 0.1519247\ttotal: 402ms\tremaining: 711ms\n",
      "361:\tlearn: 0.1516378\ttotal: 403ms\tremaining: 709ms\n",
      "362:\tlearn: 0.1513213\ttotal: 403ms\tremaining: 708ms\n",
      "363:\tlearn: 0.1507916\ttotal: 404ms\tremaining: 706ms\n",
      "364:\tlearn: 0.1505076\ttotal: 405ms\tremaining: 705ms\n",
      "365:\tlearn: 0.1501538\ttotal: 406ms\tremaining: 703ms\n",
      "366:\tlearn: 0.1500145\ttotal: 407ms\tremaining: 702ms\n",
      "367:\tlearn: 0.1496605\ttotal: 408ms\tremaining: 700ms\n",
      "368:\tlearn: 0.1492136\ttotal: 409ms\tremaining: 699ms\n",
      "369:\tlearn: 0.1489828\ttotal: 409ms\tremaining: 697ms\n",
      "370:\tlearn: 0.1485496\ttotal: 410ms\tremaining: 695ms\n",
      "371:\tlearn: 0.1484009\ttotal: 411ms\tremaining: 694ms\n",
      "372:\tlearn: 0.1480525\ttotal: 412ms\tremaining: 692ms\n",
      "373:\tlearn: 0.1479210\ttotal: 413ms\tremaining: 691ms\n",
      "374:\tlearn: 0.1475588\ttotal: 414ms\tremaining: 689ms\n",
      "375:\tlearn: 0.1473131\ttotal: 414ms\tremaining: 688ms\n",
      "376:\tlearn: 0.1469177\ttotal: 415ms\tremaining: 686ms\n",
      "377:\tlearn: 0.1466124\ttotal: 416ms\tremaining: 685ms\n",
      "378:\tlearn: 0.1461956\ttotal: 417ms\tremaining: 683ms\n",
      "379:\tlearn: 0.1460362\ttotal: 418ms\tremaining: 682ms\n",
      "380:\tlearn: 0.1457592\ttotal: 419ms\tremaining: 680ms\n",
      "381:\tlearn: 0.1454766\ttotal: 420ms\tremaining: 679ms\n",
      "382:\tlearn: 0.1452816\ttotal: 421ms\tremaining: 677ms\n",
      "383:\tlearn: 0.1450763\ttotal: 422ms\tremaining: 676ms\n",
      "384:\tlearn: 0.1447759\ttotal: 422ms\tremaining: 675ms\n",
      "385:\tlearn: 0.1444894\ttotal: 423ms\tremaining: 673ms\n",
      "386:\tlearn: 0.1442076\ttotal: 424ms\tremaining: 672ms\n",
      "387:\tlearn: 0.1437917\ttotal: 425ms\tremaining: 671ms\n",
      "388:\tlearn: 0.1434969\ttotal: 426ms\tremaining: 669ms\n",
      "389:\tlearn: 0.1431388\ttotal: 427ms\tremaining: 667ms\n",
      "390:\tlearn: 0.1428875\ttotal: 428ms\tremaining: 666ms\n",
      "391:\tlearn: 0.1426369\ttotal: 428ms\tremaining: 664ms\n",
      "392:\tlearn: 0.1424351\ttotal: 429ms\tremaining: 663ms\n",
      "393:\tlearn: 0.1420649\ttotal: 430ms\tremaining: 661ms\n",
      "394:\tlearn: 0.1417935\ttotal: 431ms\tremaining: 660ms\n",
      "395:\tlearn: 0.1415127\ttotal: 432ms\tremaining: 658ms\n",
      "396:\tlearn: 0.1413057\ttotal: 433ms\tremaining: 657ms\n",
      "397:\tlearn: 0.1408612\ttotal: 434ms\tremaining: 656ms\n",
      "398:\tlearn: 0.1407286\ttotal: 435ms\tremaining: 655ms\n",
      "399:\tlearn: 0.1403685\ttotal: 436ms\tremaining: 653ms\n",
      "400:\tlearn: 0.1400615\ttotal: 437ms\tremaining: 652ms\n",
      "401:\tlearn: 0.1397294\ttotal: 438ms\tremaining: 651ms\n",
      "402:\tlearn: 0.1392941\ttotal: 438ms\tremaining: 649ms\n",
      "403:\tlearn: 0.1389281\ttotal: 439ms\tremaining: 648ms\n",
      "404:\tlearn: 0.1385683\ttotal: 440ms\tremaining: 647ms\n",
      "405:\tlearn: 0.1382657\ttotal: 441ms\tremaining: 646ms\n",
      "406:\tlearn: 0.1381121\ttotal: 442ms\tremaining: 644ms\n",
      "407:\tlearn: 0.1378192\ttotal: 443ms\tremaining: 643ms\n",
      "408:\tlearn: 0.1374169\ttotal: 444ms\tremaining: 642ms\n",
      "409:\tlearn: 0.1371255\ttotal: 445ms\tremaining: 640ms\n",
      "410:\tlearn: 0.1367192\ttotal: 446ms\tremaining: 639ms\n",
      "411:\tlearn: 0.1364928\ttotal: 447ms\tremaining: 638ms\n",
      "412:\tlearn: 0.1361903\ttotal: 448ms\tremaining: 637ms\n",
      "413:\tlearn: 0.1359277\ttotal: 449ms\tremaining: 635ms\n",
      "414:\tlearn: 0.1356180\ttotal: 450ms\tremaining: 634ms\n",
      "415:\tlearn: 0.1352436\ttotal: 450ms\tremaining: 632ms\n",
      "416:\tlearn: 0.1348614\ttotal: 451ms\tremaining: 631ms\n",
      "417:\tlearn: 0.1344737\ttotal: 452ms\tremaining: 630ms\n",
      "418:\tlearn: 0.1342183\ttotal: 453ms\tremaining: 628ms\n",
      "419:\tlearn: 0.1338498\ttotal: 454ms\tremaining: 627ms\n",
      "420:\tlearn: 0.1335636\ttotal: 455ms\tremaining: 625ms\n",
      "421:\tlearn: 0.1332398\ttotal: 456ms\tremaining: 624ms\n",
      "422:\tlearn: 0.1329122\ttotal: 457ms\tremaining: 623ms\n",
      "423:\tlearn: 0.1326968\ttotal: 458ms\tremaining: 622ms\n",
      "424:\tlearn: 0.1324531\ttotal: 458ms\tremaining: 620ms\n",
      "425:\tlearn: 0.1322453\ttotal: 459ms\tremaining: 619ms\n",
      "426:\tlearn: 0.1320749\ttotal: 460ms\tremaining: 618ms\n",
      "427:\tlearn: 0.1317986\ttotal: 461ms\tremaining: 616ms\n",
      "428:\tlearn: 0.1314809\ttotal: 462ms\tremaining: 615ms\n",
      "429:\tlearn: 0.1311811\ttotal: 463ms\tremaining: 614ms\n",
      "430:\tlearn: 0.1309312\ttotal: 464ms\tremaining: 612ms\n",
      "431:\tlearn: 0.1306941\ttotal: 465ms\tremaining: 611ms\n",
      "432:\tlearn: 0.1303560\ttotal: 466ms\tremaining: 610ms\n",
      "433:\tlearn: 0.1301725\ttotal: 467ms\tremaining: 609ms\n",
      "434:\tlearn: 0.1299130\ttotal: 468ms\tremaining: 607ms\n",
      "435:\tlearn: 0.1295382\ttotal: 469ms\tremaining: 606ms\n",
      "436:\tlearn: 0.1293255\ttotal: 469ms\tremaining: 605ms\n",
      "437:\tlearn: 0.1290037\ttotal: 470ms\tremaining: 603ms\n",
      "438:\tlearn: 0.1287180\ttotal: 471ms\tremaining: 602ms\n",
      "439:\tlearn: 0.1286059\ttotal: 472ms\tremaining: 601ms\n",
      "440:\tlearn: 0.1283738\ttotal: 473ms\tremaining: 600ms\n",
      "441:\tlearn: 0.1281374\ttotal: 474ms\tremaining: 598ms\n",
      "442:\tlearn: 0.1278644\ttotal: 475ms\tremaining: 597ms\n",
      "443:\tlearn: 0.1275296\ttotal: 476ms\tremaining: 595ms\n",
      "444:\tlearn: 0.1272117\ttotal: 476ms\tremaining: 594ms\n",
      "445:\tlearn: 0.1269605\ttotal: 477ms\tremaining: 593ms\n",
      "446:\tlearn: 0.1266759\ttotal: 478ms\tremaining: 592ms\n",
      "447:\tlearn: 0.1264336\ttotal: 479ms\tremaining: 590ms\n",
      "448:\tlearn: 0.1261523\ttotal: 481ms\tremaining: 590ms\n",
      "449:\tlearn: 0.1258411\ttotal: 482ms\tremaining: 589ms\n",
      "450:\tlearn: 0.1255429\ttotal: 483ms\tremaining: 588ms\n",
      "451:\tlearn: 0.1253415\ttotal: 484ms\tremaining: 586ms\n",
      "452:\tlearn: 0.1250042\ttotal: 485ms\tremaining: 585ms\n",
      "453:\tlearn: 0.1246057\ttotal: 486ms\tremaining: 584ms\n",
      "454:\tlearn: 0.1242466\ttotal: 487ms\tremaining: 583ms\n",
      "455:\tlearn: 0.1240881\ttotal: 487ms\tremaining: 581ms\n",
      "456:\tlearn: 0.1237499\ttotal: 488ms\tremaining: 580ms\n",
      "457:\tlearn: 0.1234563\ttotal: 489ms\tremaining: 579ms\n",
      "458:\tlearn: 0.1232481\ttotal: 490ms\tremaining: 578ms\n",
      "459:\tlearn: 0.1230446\ttotal: 491ms\tremaining: 576ms\n",
      "460:\tlearn: 0.1228412\ttotal: 492ms\tremaining: 575ms\n"
     ]
    },
    {
     "name": "stdout",
     "output_type": "stream",
     "text": [
      "461:\tlearn: 0.1224858\ttotal: 493ms\tremaining: 574ms\n",
      "462:\tlearn: 0.1221675\ttotal: 494ms\tremaining: 573ms\n",
      "463:\tlearn: 0.1220604\ttotal: 495ms\tremaining: 572ms\n",
      "464:\tlearn: 0.1217931\ttotal: 496ms\tremaining: 570ms\n",
      "465:\tlearn: 0.1215777\ttotal: 497ms\tremaining: 569ms\n",
      "466:\tlearn: 0.1213103\ttotal: 498ms\tremaining: 568ms\n",
      "467:\tlearn: 0.1210440\ttotal: 498ms\tremaining: 567ms\n",
      "468:\tlearn: 0.1208554\ttotal: 499ms\tremaining: 565ms\n",
      "469:\tlearn: 0.1206622\ttotal: 500ms\tremaining: 564ms\n",
      "470:\tlearn: 0.1204133\ttotal: 501ms\tremaining: 563ms\n",
      "471:\tlearn: 0.1202474\ttotal: 502ms\tremaining: 562ms\n",
      "472:\tlearn: 0.1199516\ttotal: 503ms\tremaining: 560ms\n",
      "473:\tlearn: 0.1196231\ttotal: 504ms\tremaining: 559ms\n",
      "474:\tlearn: 0.1194495\ttotal: 505ms\tremaining: 558ms\n",
      "475:\tlearn: 0.1192192\ttotal: 505ms\tremaining: 556ms\n",
      "476:\tlearn: 0.1189653\ttotal: 506ms\tremaining: 555ms\n",
      "477:\tlearn: 0.1187744\ttotal: 507ms\tremaining: 554ms\n",
      "478:\tlearn: 0.1185756\ttotal: 508ms\tremaining: 553ms\n",
      "479:\tlearn: 0.1183991\ttotal: 509ms\tremaining: 551ms\n",
      "480:\tlearn: 0.1181059\ttotal: 510ms\tremaining: 550ms\n",
      "481:\tlearn: 0.1178653\ttotal: 511ms\tremaining: 549ms\n",
      "482:\tlearn: 0.1175756\ttotal: 512ms\tremaining: 548ms\n",
      "483:\tlearn: 0.1174040\ttotal: 513ms\tremaining: 547ms\n",
      "484:\tlearn: 0.1173003\ttotal: 514ms\tremaining: 545ms\n",
      "485:\tlearn: 0.1171320\ttotal: 514ms\tremaining: 544ms\n",
      "486:\tlearn: 0.1169315\ttotal: 515ms\tremaining: 543ms\n",
      "487:\tlearn: 0.1167335\ttotal: 517ms\tremaining: 542ms\n",
      "488:\tlearn: 0.1165855\ttotal: 518ms\tremaining: 541ms\n",
      "489:\tlearn: 0.1163160\ttotal: 518ms\tremaining: 540ms\n",
      "490:\tlearn: 0.1161891\ttotal: 519ms\tremaining: 538ms\n",
      "491:\tlearn: 0.1159837\ttotal: 520ms\tremaining: 537ms\n",
      "492:\tlearn: 0.1157621\ttotal: 521ms\tremaining: 536ms\n",
      "493:\tlearn: 0.1156693\ttotal: 522ms\tremaining: 535ms\n",
      "494:\tlearn: 0.1154509\ttotal: 523ms\tremaining: 533ms\n",
      "495:\tlearn: 0.1151329\ttotal: 524ms\tremaining: 532ms\n",
      "496:\tlearn: 0.1149346\ttotal: 525ms\tremaining: 531ms\n",
      "497:\tlearn: 0.1147100\ttotal: 526ms\tremaining: 530ms\n",
      "498:\tlearn: 0.1145331\ttotal: 527ms\tremaining: 529ms\n",
      "499:\tlearn: 0.1142680\ttotal: 528ms\tremaining: 528ms\n",
      "500:\tlearn: 0.1140229\ttotal: 528ms\tremaining: 526ms\n",
      "501:\tlearn: 0.1138133\ttotal: 529ms\tremaining: 525ms\n",
      "502:\tlearn: 0.1135742\ttotal: 530ms\tremaining: 524ms\n",
      "503:\tlearn: 0.1133689\ttotal: 531ms\tremaining: 523ms\n",
      "504:\tlearn: 0.1131968\ttotal: 532ms\tremaining: 521ms\n",
      "505:\tlearn: 0.1130962\ttotal: 533ms\tremaining: 520ms\n",
      "506:\tlearn: 0.1128950\ttotal: 534ms\tremaining: 519ms\n",
      "507:\tlearn: 0.1127543\ttotal: 535ms\tremaining: 518ms\n",
      "508:\tlearn: 0.1126426\ttotal: 535ms\tremaining: 516ms\n",
      "509:\tlearn: 0.1124332\ttotal: 536ms\tremaining: 515ms\n",
      "510:\tlearn: 0.1122033\ttotal: 537ms\tremaining: 514ms\n",
      "511:\tlearn: 0.1120286\ttotal: 538ms\tremaining: 513ms\n",
      "512:\tlearn: 0.1119966\ttotal: 539ms\tremaining: 512ms\n",
      "513:\tlearn: 0.1118521\ttotal: 540ms\tremaining: 510ms\n",
      "514:\tlearn: 0.1116531\ttotal: 541ms\tremaining: 509ms\n",
      "515:\tlearn: 0.1114689\ttotal: 542ms\tremaining: 508ms\n",
      "516:\tlearn: 0.1112532\ttotal: 542ms\tremaining: 507ms\n",
      "517:\tlearn: 0.1110681\ttotal: 543ms\tremaining: 506ms\n",
      "518:\tlearn: 0.1108632\ttotal: 544ms\tremaining: 504ms\n",
      "519:\tlearn: 0.1105908\ttotal: 545ms\tremaining: 503ms\n",
      "520:\tlearn: 0.1103934\ttotal: 546ms\tremaining: 502ms\n",
      "521:\tlearn: 0.1101571\ttotal: 547ms\tremaining: 501ms\n",
      "522:\tlearn: 0.1099378\ttotal: 548ms\tremaining: 500ms\n",
      "523:\tlearn: 0.1097965\ttotal: 549ms\tremaining: 498ms\n",
      "524:\tlearn: 0.1095892\ttotal: 550ms\tremaining: 497ms\n",
      "525:\tlearn: 0.1094497\ttotal: 551ms\tremaining: 496ms\n",
      "526:\tlearn: 0.1093092\ttotal: 552ms\tremaining: 495ms\n",
      "527:\tlearn: 0.1091552\ttotal: 553ms\tremaining: 494ms\n",
      "528:\tlearn: 0.1089042\ttotal: 554ms\tremaining: 493ms\n",
      "529:\tlearn: 0.1086771\ttotal: 554ms\tremaining: 492ms\n",
      "530:\tlearn: 0.1085957\ttotal: 555ms\tremaining: 490ms\n",
      "531:\tlearn: 0.1085622\ttotal: 556ms\tremaining: 489ms\n",
      "532:\tlearn: 0.1083960\ttotal: 557ms\tremaining: 488ms\n",
      "533:\tlearn: 0.1082978\ttotal: 558ms\tremaining: 487ms\n",
      "534:\tlearn: 0.1080627\ttotal: 559ms\tremaining: 486ms\n",
      "535:\tlearn: 0.1078856\ttotal: 560ms\tremaining: 485ms\n",
      "536:\tlearn: 0.1076743\ttotal: 561ms\tremaining: 483ms\n",
      "537:\tlearn: 0.1075537\ttotal: 562ms\tremaining: 482ms\n",
      "538:\tlearn: 0.1073428\ttotal: 562ms\tremaining: 481ms\n",
      "539:\tlearn: 0.1071398\ttotal: 563ms\tremaining: 480ms\n",
      "540:\tlearn: 0.1070247\ttotal: 564ms\tremaining: 479ms\n",
      "541:\tlearn: 0.1068637\ttotal: 565ms\tremaining: 477ms\n",
      "542:\tlearn: 0.1066115\ttotal: 566ms\tremaining: 476ms\n",
      "543:\tlearn: 0.1064314\ttotal: 567ms\tremaining: 475ms\n",
      "544:\tlearn: 0.1062567\ttotal: 568ms\tremaining: 474ms\n",
      "545:\tlearn: 0.1061506\ttotal: 569ms\tremaining: 473ms\n",
      "546:\tlearn: 0.1060551\ttotal: 570ms\tremaining: 472ms\n",
      "547:\tlearn: 0.1059628\ttotal: 570ms\tremaining: 471ms\n",
      "548:\tlearn: 0.1057441\ttotal: 571ms\tremaining: 469ms\n",
      "549:\tlearn: 0.1055577\ttotal: 572ms\tremaining: 468ms\n",
      "550:\tlearn: 0.1054082\ttotal: 573ms\tremaining: 467ms\n"
     ]
    },
    {
     "name": "stdout",
     "output_type": "stream",
     "text": [
      "551:\tlearn: 0.1052372\ttotal: 574ms\tremaining: 466ms\n",
      "552:\tlearn: 0.1050783\ttotal: 575ms\tremaining: 465ms\n",
      "553:\tlearn: 0.1050081\ttotal: 576ms\tremaining: 464ms\n",
      "554:\tlearn: 0.1048959\ttotal: 577ms\tremaining: 462ms\n",
      "555:\tlearn: 0.1047532\ttotal: 578ms\tremaining: 461ms\n",
      "556:\tlearn: 0.1045735\ttotal: 579ms\tremaining: 460ms\n",
      "557:\tlearn: 0.1044125\ttotal: 579ms\tremaining: 459ms\n",
      "558:\tlearn: 0.1041777\ttotal: 580ms\tremaining: 458ms\n",
      "559:\tlearn: 0.1039071\ttotal: 581ms\tremaining: 457ms\n",
      "560:\tlearn: 0.1037455\ttotal: 582ms\tremaining: 455ms\n",
      "561:\tlearn: 0.1035450\ttotal: 583ms\tremaining: 454ms\n",
      "562:\tlearn: 0.1033758\ttotal: 584ms\tremaining: 453ms\n",
      "563:\tlearn: 0.1032359\ttotal: 585ms\tremaining: 452ms\n",
      "564:\tlearn: 0.1030269\ttotal: 586ms\tremaining: 451ms\n",
      "565:\tlearn: 0.1028529\ttotal: 587ms\tremaining: 450ms\n",
      "566:\tlearn: 0.1026916\ttotal: 588ms\tremaining: 449ms\n",
      "567:\tlearn: 0.1025577\ttotal: 588ms\tremaining: 448ms\n",
      "568:\tlearn: 0.1023481\ttotal: 589ms\tremaining: 446ms\n",
      "569:\tlearn: 0.1021939\ttotal: 590ms\tremaining: 445ms\n",
      "570:\tlearn: 0.1020415\ttotal: 591ms\tremaining: 444ms\n",
      "571:\tlearn: 0.1018854\ttotal: 593ms\tremaining: 443ms\n",
      "572:\tlearn: 0.1017456\ttotal: 594ms\tremaining: 442ms\n",
      "573:\tlearn: 0.1015962\ttotal: 595ms\tremaining: 441ms\n",
      "574:\tlearn: 0.1014399\ttotal: 596ms\tremaining: 440ms\n",
      "575:\tlearn: 0.1012152\ttotal: 596ms\tremaining: 439ms\n",
      "576:\tlearn: 0.1011785\ttotal: 597ms\tremaining: 438ms\n",
      "577:\tlearn: 0.1010976\ttotal: 598ms\tremaining: 437ms\n",
      "578:\tlearn: 0.1009311\ttotal: 599ms\tremaining: 436ms\n",
      "579:\tlearn: 0.1008394\ttotal: 600ms\tremaining: 434ms\n",
      "580:\tlearn: 0.1005964\ttotal: 601ms\tremaining: 433ms\n",
      "581:\tlearn: 0.1003522\ttotal: 602ms\tremaining: 432ms\n",
      "582:\tlearn: 0.1002085\ttotal: 602ms\tremaining: 431ms\n",
      "583:\tlearn: 0.0999635\ttotal: 603ms\tremaining: 430ms\n",
      "584:\tlearn: 0.0999130\ttotal: 604ms\tremaining: 429ms\n",
      "585:\tlearn: 0.0997498\ttotal: 605ms\tremaining: 427ms\n",
      "586:\tlearn: 0.0995410\ttotal: 606ms\tremaining: 426ms\n",
      "587:\tlearn: 0.0994155\ttotal: 607ms\tremaining: 425ms\n",
      "588:\tlearn: 0.0992692\ttotal: 607ms\tremaining: 424ms\n",
      "589:\tlearn: 0.0991719\ttotal: 608ms\tremaining: 423ms\n",
      "590:\tlearn: 0.0990234\ttotal: 609ms\tremaining: 422ms\n",
      "591:\tlearn: 0.0988464\ttotal: 610ms\tremaining: 420ms\n",
      "592:\tlearn: 0.0987583\ttotal: 611ms\tremaining: 419ms\n",
      "593:\tlearn: 0.0985616\ttotal: 612ms\tremaining: 418ms\n",
      "594:\tlearn: 0.0984388\ttotal: 613ms\tremaining: 417ms\n",
      "595:\tlearn: 0.0983288\ttotal: 613ms\tremaining: 416ms\n",
      "596:\tlearn: 0.0981489\ttotal: 614ms\tremaining: 415ms\n",
      "597:\tlearn: 0.0979288\ttotal: 615ms\tremaining: 414ms\n",
      "598:\tlearn: 0.0977554\ttotal: 616ms\tremaining: 413ms\n",
      "599:\tlearn: 0.0975640\ttotal: 617ms\tremaining: 411ms\n",
      "600:\tlearn: 0.0974607\ttotal: 618ms\tremaining: 410ms\n",
      "601:\tlearn: 0.0973293\ttotal: 619ms\tremaining: 409ms\n",
      "602:\tlearn: 0.0971264\ttotal: 620ms\tremaining: 408ms\n",
      "603:\tlearn: 0.0969371\ttotal: 621ms\tremaining: 407ms\n",
      "604:\tlearn: 0.0967114\ttotal: 621ms\tremaining: 406ms\n",
      "605:\tlearn: 0.0965454\ttotal: 622ms\tremaining: 405ms\n",
      "606:\tlearn: 0.0964009\ttotal: 624ms\tremaining: 404ms\n",
      "607:\tlearn: 0.0962584\ttotal: 625ms\tremaining: 403ms\n",
      "608:\tlearn: 0.0960660\ttotal: 625ms\tremaining: 402ms\n",
      "609:\tlearn: 0.0958537\ttotal: 626ms\tremaining: 400ms\n",
      "610:\tlearn: 0.0957135\ttotal: 627ms\tremaining: 399ms\n",
      "611:\tlearn: 0.0955504\ttotal: 628ms\tremaining: 398ms\n",
      "612:\tlearn: 0.0953709\ttotal: 629ms\tremaining: 397ms\n",
      "613:\tlearn: 0.0952529\ttotal: 630ms\tremaining: 396ms\n",
      "614:\tlearn: 0.0950682\ttotal: 631ms\tremaining: 395ms\n",
      "615:\tlearn: 0.0948774\ttotal: 631ms\tremaining: 394ms\n",
      "616:\tlearn: 0.0947783\ttotal: 632ms\tremaining: 392ms\n",
      "617:\tlearn: 0.0946688\ttotal: 633ms\tremaining: 391ms\n",
      "618:\tlearn: 0.0945166\ttotal: 634ms\tremaining: 390ms\n",
      "619:\tlearn: 0.0944009\ttotal: 635ms\tremaining: 389ms\n",
      "620:\tlearn: 0.0941701\ttotal: 636ms\tremaining: 388ms\n",
      "621:\tlearn: 0.0940187\ttotal: 637ms\tremaining: 387ms\n",
      "622:\tlearn: 0.0939486\ttotal: 637ms\tremaining: 386ms\n",
      "623:\tlearn: 0.0938024\ttotal: 638ms\tremaining: 385ms\n",
      "624:\tlearn: 0.0935906\ttotal: 639ms\tremaining: 384ms\n",
      "625:\tlearn: 0.0934118\ttotal: 640ms\tremaining: 382ms\n",
      "626:\tlearn: 0.0932977\ttotal: 641ms\tremaining: 381ms\n",
      "627:\tlearn: 0.0930986\ttotal: 642ms\tremaining: 380ms\n",
      "628:\tlearn: 0.0929891\ttotal: 643ms\tremaining: 379ms\n",
      "629:\tlearn: 0.0927759\ttotal: 644ms\tremaining: 378ms\n",
      "630:\tlearn: 0.0926647\ttotal: 645ms\tremaining: 377ms\n",
      "631:\tlearn: 0.0925572\ttotal: 645ms\tremaining: 376ms\n",
      "632:\tlearn: 0.0923822\ttotal: 646ms\tremaining: 375ms\n",
      "633:\tlearn: 0.0922317\ttotal: 647ms\tremaining: 374ms\n",
      "634:\tlearn: 0.0921129\ttotal: 648ms\tremaining: 373ms\n",
      "635:\tlearn: 0.0919687\ttotal: 649ms\tremaining: 371ms\n",
      "636:\tlearn: 0.0917698\ttotal: 650ms\tremaining: 370ms\n",
      "637:\tlearn: 0.0915577\ttotal: 651ms\tremaining: 369ms\n",
      "638:\tlearn: 0.0914549\ttotal: 652ms\tremaining: 368ms\n",
      "639:\tlearn: 0.0912955\ttotal: 652ms\tremaining: 367ms\n",
      "640:\tlearn: 0.0910675\ttotal: 653ms\tremaining: 366ms\n",
      "641:\tlearn: 0.0909623\ttotal: 654ms\tremaining: 365ms\n",
      "642:\tlearn: 0.0908838\ttotal: 655ms\tremaining: 364ms\n",
      "643:\tlearn: 0.0908230\ttotal: 656ms\tremaining: 363ms\n",
      "644:\tlearn: 0.0907982\ttotal: 657ms\tremaining: 361ms\n",
      "645:\tlearn: 0.0906273\ttotal: 658ms\tremaining: 360ms\n",
      "646:\tlearn: 0.0905019\ttotal: 658ms\tremaining: 359ms\n",
      "647:\tlearn: 0.0904818\ttotal: 659ms\tremaining: 358ms\n",
      "648:\tlearn: 0.0903684\ttotal: 660ms\tremaining: 357ms\n",
      "649:\tlearn: 0.0901878\ttotal: 661ms\tremaining: 356ms\n",
      "650:\tlearn: 0.0900520\ttotal: 662ms\tremaining: 355ms\n",
      "651:\tlearn: 0.0898892\ttotal: 663ms\tremaining: 354ms\n",
      "652:\tlearn: 0.0897017\ttotal: 664ms\tremaining: 353ms\n",
      "653:\tlearn: 0.0895123\ttotal: 665ms\tremaining: 352ms\n",
      "654:\tlearn: 0.0893497\ttotal: 665ms\tremaining: 350ms\n",
      "655:\tlearn: 0.0891403\ttotal: 666ms\tremaining: 349ms\n",
      "656:\tlearn: 0.0890905\ttotal: 668ms\tremaining: 349ms\n",
      "657:\tlearn: 0.0889586\ttotal: 669ms\tremaining: 348ms\n",
      "658:\tlearn: 0.0887904\ttotal: 670ms\tremaining: 347ms\n",
      "659:\tlearn: 0.0886775\ttotal: 671ms\tremaining: 345ms\n",
      "660:\tlearn: 0.0885449\ttotal: 671ms\tremaining: 344ms\n",
      "661:\tlearn: 0.0884347\ttotal: 672ms\tremaining: 343ms\n",
      "662:\tlearn: 0.0883039\ttotal: 673ms\tremaining: 342ms\n",
      "663:\tlearn: 0.0882697\ttotal: 674ms\tremaining: 341ms\n",
      "664:\tlearn: 0.0880739\ttotal: 675ms\tremaining: 340ms\n",
      "665:\tlearn: 0.0879583\ttotal: 676ms\tremaining: 339ms\n",
      "666:\tlearn: 0.0879078\ttotal: 677ms\tremaining: 338ms\n",
      "667:\tlearn: 0.0877785\ttotal: 678ms\tremaining: 337ms\n",
      "668:\tlearn: 0.0877420\ttotal: 679ms\tremaining: 336ms\n",
      "669:\tlearn: 0.0876500\ttotal: 679ms\tremaining: 335ms\n",
      "670:\tlearn: 0.0876326\ttotal: 680ms\tremaining: 334ms\n",
      "671:\tlearn: 0.0874512\ttotal: 681ms\tremaining: 333ms\n",
      "672:\tlearn: 0.0874351\ttotal: 682ms\tremaining: 331ms\n",
      "673:\tlearn: 0.0872697\ttotal: 683ms\tremaining: 330ms\n"
     ]
    },
    {
     "name": "stdout",
     "output_type": "stream",
     "text": [
      "674:\tlearn: 0.0871150\ttotal: 684ms\tremaining: 329ms\n",
      "675:\tlearn: 0.0870061\ttotal: 685ms\tremaining: 328ms\n",
      "676:\tlearn: 0.0868601\ttotal: 686ms\tremaining: 327ms\n",
      "677:\tlearn: 0.0866726\ttotal: 687ms\tremaining: 326ms\n",
      "678:\tlearn: 0.0865265\ttotal: 688ms\tremaining: 325ms\n",
      "679:\tlearn: 0.0863325\ttotal: 689ms\tremaining: 324ms\n",
      "680:\tlearn: 0.0861454\ttotal: 689ms\tremaining: 323ms\n",
      "681:\tlearn: 0.0860395\ttotal: 690ms\tremaining: 322ms\n",
      "682:\tlearn: 0.0859402\ttotal: 691ms\tremaining: 321ms\n",
      "683:\tlearn: 0.0857885\ttotal: 692ms\tremaining: 320ms\n",
      "684:\tlearn: 0.0857144\ttotal: 693ms\tremaining: 319ms\n",
      "685:\tlearn: 0.0855823\ttotal: 694ms\tremaining: 318ms\n",
      "686:\tlearn: 0.0853865\ttotal: 695ms\tremaining: 317ms\n",
      "687:\tlearn: 0.0853371\ttotal: 696ms\tremaining: 315ms\n",
      "688:\tlearn: 0.0851805\ttotal: 696ms\tremaining: 314ms\n",
      "689:\tlearn: 0.0850464\ttotal: 697ms\tremaining: 313ms\n",
      "690:\tlearn: 0.0848901\ttotal: 698ms\tremaining: 312ms\n",
      "691:\tlearn: 0.0847111\ttotal: 699ms\tremaining: 311ms\n",
      "692:\tlearn: 0.0846395\ttotal: 700ms\tremaining: 310ms\n",
      "693:\tlearn: 0.0844278\ttotal: 701ms\tremaining: 309ms\n",
      "694:\tlearn: 0.0843041\ttotal: 701ms\tremaining: 308ms\n",
      "695:\tlearn: 0.0842572\ttotal: 702ms\tremaining: 307ms\n",
      "696:\tlearn: 0.0840888\ttotal: 703ms\tremaining: 306ms\n",
      "697:\tlearn: 0.0839800\ttotal: 704ms\tremaining: 305ms\n",
      "698:\tlearn: 0.0838471\ttotal: 705ms\tremaining: 304ms\n",
      "699:\tlearn: 0.0838085\ttotal: 706ms\tremaining: 303ms\n",
      "700:\tlearn: 0.0836861\ttotal: 707ms\tremaining: 302ms\n",
      "701:\tlearn: 0.0836415\ttotal: 708ms\tremaining: 300ms\n",
      "702:\tlearn: 0.0834688\ttotal: 709ms\tremaining: 299ms\n",
      "703:\tlearn: 0.0833364\ttotal: 710ms\tremaining: 298ms\n",
      "704:\tlearn: 0.0831863\ttotal: 710ms\tremaining: 297ms\n",
      "705:\tlearn: 0.0830486\ttotal: 711ms\tremaining: 296ms\n",
      "706:\tlearn: 0.0830052\ttotal: 712ms\tremaining: 295ms\n",
      "707:\tlearn: 0.0828535\ttotal: 713ms\tremaining: 294ms\n",
      "708:\tlearn: 0.0827234\ttotal: 714ms\tremaining: 293ms\n",
      "709:\tlearn: 0.0826138\ttotal: 715ms\tremaining: 292ms\n",
      "710:\tlearn: 0.0824463\ttotal: 716ms\tremaining: 291ms\n",
      "711:\tlearn: 0.0823142\ttotal: 716ms\tremaining: 290ms\n",
      "712:\tlearn: 0.0822129\ttotal: 717ms\tremaining: 289ms\n",
      "713:\tlearn: 0.0821125\ttotal: 718ms\tremaining: 288ms\n",
      "714:\tlearn: 0.0820074\ttotal: 719ms\tremaining: 287ms\n",
      "715:\tlearn: 0.0819891\ttotal: 720ms\tremaining: 286ms\n",
      "716:\tlearn: 0.0817843\ttotal: 721ms\tremaining: 285ms\n",
      "717:\tlearn: 0.0816518\ttotal: 723ms\tremaining: 284ms\n",
      "718:\tlearn: 0.0815531\ttotal: 723ms\tremaining: 283ms\n",
      "719:\tlearn: 0.0814333\ttotal: 725ms\tremaining: 282ms\n",
      "720:\tlearn: 0.0812934\ttotal: 725ms\tremaining: 281ms\n",
      "721:\tlearn: 0.0812285\ttotal: 726ms\tremaining: 280ms\n",
      "722:\tlearn: 0.0810923\ttotal: 727ms\tremaining: 279ms\n",
      "723:\tlearn: 0.0809920\ttotal: 728ms\tremaining: 278ms\n",
      "724:\tlearn: 0.0808822\ttotal: 729ms\tremaining: 277ms\n",
      "725:\tlearn: 0.0807656\ttotal: 730ms\tremaining: 275ms\n",
      "726:\tlearn: 0.0806773\ttotal: 731ms\tremaining: 274ms\n",
      "727:\tlearn: 0.0805809\ttotal: 732ms\tremaining: 273ms\n",
      "728:\tlearn: 0.0805243\ttotal: 732ms\tremaining: 272ms\n",
      "729:\tlearn: 0.0803744\ttotal: 734ms\tremaining: 271ms\n",
      "730:\tlearn: 0.0802178\ttotal: 735ms\tremaining: 270ms\n",
      "731:\tlearn: 0.0801426\ttotal: 736ms\tremaining: 269ms\n",
      "732:\tlearn: 0.0799810\ttotal: 737ms\tremaining: 268ms\n",
      "733:\tlearn: 0.0798254\ttotal: 737ms\tremaining: 267ms\n",
      "734:\tlearn: 0.0797048\ttotal: 738ms\tremaining: 266ms\n",
      "735:\tlearn: 0.0796160\ttotal: 739ms\tremaining: 265ms\n",
      "736:\tlearn: 0.0795591\ttotal: 740ms\tremaining: 264ms\n",
      "737:\tlearn: 0.0794418\ttotal: 741ms\tremaining: 263ms\n",
      "738:\tlearn: 0.0792446\ttotal: 742ms\tremaining: 262ms\n",
      "739:\tlearn: 0.0791122\ttotal: 743ms\tremaining: 261ms\n",
      "740:\tlearn: 0.0789738\ttotal: 743ms\tremaining: 260ms\n",
      "741:\tlearn: 0.0788834\ttotal: 744ms\tremaining: 259ms\n",
      "742:\tlearn: 0.0788389\ttotal: 745ms\tremaining: 258ms\n",
      "743:\tlearn: 0.0787532\ttotal: 746ms\tremaining: 257ms\n",
      "744:\tlearn: 0.0786360\ttotal: 747ms\tremaining: 256ms\n",
      "745:\tlearn: 0.0784477\ttotal: 748ms\tremaining: 255ms\n",
      "746:\tlearn: 0.0783398\ttotal: 748ms\tremaining: 254ms\n",
      "747:\tlearn: 0.0782232\ttotal: 749ms\tremaining: 252ms\n",
      "748:\tlearn: 0.0781506\ttotal: 750ms\tremaining: 251ms\n",
      "749:\tlearn: 0.0780159\ttotal: 751ms\tremaining: 250ms\n",
      "750:\tlearn: 0.0778863\ttotal: 752ms\tremaining: 249ms\n",
      "751:\tlearn: 0.0778173\ttotal: 753ms\tremaining: 248ms\n",
      "752:\tlearn: 0.0777043\ttotal: 754ms\tremaining: 247ms\n",
      "753:\tlearn: 0.0776284\ttotal: 755ms\tremaining: 246ms\n",
      "754:\tlearn: 0.0774809\ttotal: 756ms\tremaining: 245ms\n",
      "755:\tlearn: 0.0773207\ttotal: 757ms\tremaining: 244ms\n",
      "756:\tlearn: 0.0772307\ttotal: 758ms\tremaining: 243ms\n",
      "757:\tlearn: 0.0770706\ttotal: 758ms\tremaining: 242ms\n",
      "758:\tlearn: 0.0769345\ttotal: 759ms\tremaining: 241ms\n",
      "759:\tlearn: 0.0768028\ttotal: 760ms\tremaining: 240ms\n",
      "760:\tlearn: 0.0767616\ttotal: 761ms\tremaining: 239ms\n",
      "761:\tlearn: 0.0767152\ttotal: 763ms\tremaining: 238ms\n",
      "762:\tlearn: 0.0765656\ttotal: 764ms\tremaining: 237ms\n",
      "763:\tlearn: 0.0764698\ttotal: 764ms\tremaining: 236ms\n"
     ]
    },
    {
     "name": "stdout",
     "output_type": "stream",
     "text": [
      "764:\tlearn: 0.0763916\ttotal: 766ms\tremaining: 235ms\n",
      "765:\tlearn: 0.0763360\ttotal: 767ms\tremaining: 234ms\n",
      "766:\tlearn: 0.0761702\ttotal: 768ms\tremaining: 233ms\n",
      "767:\tlearn: 0.0760972\ttotal: 768ms\tremaining: 232ms\n",
      "768:\tlearn: 0.0759949\ttotal: 769ms\tremaining: 231ms\n",
      "769:\tlearn: 0.0759133\ttotal: 770ms\tremaining: 230ms\n",
      "770:\tlearn: 0.0758256\ttotal: 771ms\tremaining: 229ms\n",
      "771:\tlearn: 0.0757003\ttotal: 772ms\tremaining: 228ms\n",
      "772:\tlearn: 0.0755482\ttotal: 773ms\tremaining: 227ms\n",
      "773:\tlearn: 0.0754437\ttotal: 774ms\tremaining: 226ms\n",
      "774:\tlearn: 0.0752213\ttotal: 774ms\tremaining: 225ms\n",
      "775:\tlearn: 0.0751246\ttotal: 775ms\tremaining: 224ms\n",
      "776:\tlearn: 0.0749771\ttotal: 776ms\tremaining: 223ms\n",
      "777:\tlearn: 0.0748695\ttotal: 777ms\tremaining: 222ms\n",
      "778:\tlearn: 0.0747672\ttotal: 778ms\tremaining: 221ms\n",
      "779:\tlearn: 0.0747480\ttotal: 779ms\tremaining: 220ms\n",
      "780:\tlearn: 0.0746123\ttotal: 780ms\tremaining: 219ms\n",
      "781:\tlearn: 0.0745433\ttotal: 781ms\tremaining: 218ms\n",
      "782:\tlearn: 0.0744210\ttotal: 782ms\tremaining: 217ms\n",
      "783:\tlearn: 0.0743510\ttotal: 782ms\tremaining: 216ms\n",
      "784:\tlearn: 0.0742830\ttotal: 783ms\tremaining: 215ms\n",
      "785:\tlearn: 0.0741255\ttotal: 784ms\tremaining: 214ms\n",
      "786:\tlearn: 0.0739994\ttotal: 785ms\tremaining: 213ms\n",
      "787:\tlearn: 0.0738649\ttotal: 786ms\tremaining: 211ms\n",
      "788:\tlearn: 0.0737849\ttotal: 787ms\tremaining: 210ms\n",
      "789:\tlearn: 0.0736898\ttotal: 788ms\tremaining: 209ms\n",
      "790:\tlearn: 0.0736360\ttotal: 789ms\tremaining: 208ms\n",
      "791:\tlearn: 0.0735614\ttotal: 790ms\tremaining: 207ms\n",
      "792:\tlearn: 0.0733538\ttotal: 790ms\tremaining: 206ms\n",
      "793:\tlearn: 0.0732789\ttotal: 791ms\tremaining: 205ms\n",
      "794:\tlearn: 0.0731581\ttotal: 792ms\tremaining: 204ms\n",
      "795:\tlearn: 0.0730818\ttotal: 793ms\tremaining: 203ms\n",
      "796:\tlearn: 0.0729845\ttotal: 794ms\tremaining: 202ms\n",
      "797:\tlearn: 0.0728843\ttotal: 795ms\tremaining: 201ms\n",
      "798:\tlearn: 0.0727900\ttotal: 796ms\tremaining: 200ms\n",
      "799:\tlearn: 0.0727032\ttotal: 797ms\tremaining: 199ms\n",
      "800:\tlearn: 0.0725488\ttotal: 798ms\tremaining: 198ms\n",
      "801:\tlearn: 0.0723947\ttotal: 799ms\tremaining: 197ms\n",
      "802:\tlearn: 0.0721969\ttotal: 799ms\tremaining: 196ms\n",
      "803:\tlearn: 0.0720089\ttotal: 800ms\tremaining: 195ms\n",
      "804:\tlearn: 0.0719209\ttotal: 801ms\tremaining: 194ms\n",
      "805:\tlearn: 0.0718051\ttotal: 802ms\tremaining: 193ms\n",
      "806:\tlearn: 0.0717045\ttotal: 803ms\tremaining: 192ms\n",
      "807:\tlearn: 0.0716084\ttotal: 804ms\tremaining: 191ms\n",
      "808:\tlearn: 0.0714707\ttotal: 805ms\tremaining: 190ms\n",
      "809:\tlearn: 0.0713743\ttotal: 806ms\tremaining: 189ms\n",
      "810:\tlearn: 0.0712679\ttotal: 807ms\tremaining: 188ms\n",
      "811:\tlearn: 0.0711677\ttotal: 808ms\tremaining: 187ms\n",
      "812:\tlearn: 0.0710999\ttotal: 808ms\tremaining: 186ms\n",
      "813:\tlearn: 0.0710079\ttotal: 809ms\tremaining: 185ms\n",
      "814:\tlearn: 0.0709634\ttotal: 810ms\tremaining: 184ms\n",
      "815:\tlearn: 0.0709350\ttotal: 811ms\tremaining: 183ms\n",
      "816:\tlearn: 0.0708073\ttotal: 812ms\tremaining: 182ms\n",
      "817:\tlearn: 0.0707914\ttotal: 813ms\tremaining: 181ms\n",
      "818:\tlearn: 0.0706683\ttotal: 814ms\tremaining: 180ms\n",
      "819:\tlearn: 0.0705761\ttotal: 815ms\tremaining: 179ms\n",
      "820:\tlearn: 0.0705267\ttotal: 816ms\tremaining: 178ms\n",
      "821:\tlearn: 0.0705118\ttotal: 816ms\tremaining: 177ms\n",
      "822:\tlearn: 0.0703462\ttotal: 817ms\tremaining: 176ms\n",
      "823:\tlearn: 0.0701870\ttotal: 818ms\tremaining: 175ms\n",
      "824:\tlearn: 0.0700568\ttotal: 819ms\tremaining: 174ms\n",
      "825:\tlearn: 0.0699522\ttotal: 820ms\tremaining: 173ms\n",
      "826:\tlearn: 0.0697926\ttotal: 821ms\tremaining: 172ms\n",
      "827:\tlearn: 0.0697072\ttotal: 822ms\tremaining: 171ms\n",
      "828:\tlearn: 0.0696309\ttotal: 823ms\tremaining: 170ms\n",
      "829:\tlearn: 0.0695816\ttotal: 824ms\tremaining: 169ms\n",
      "830:\tlearn: 0.0694315\ttotal: 825ms\tremaining: 168ms\n",
      "831:\tlearn: 0.0692770\ttotal: 825ms\tremaining: 167ms\n",
      "832:\tlearn: 0.0692443\ttotal: 826ms\tremaining: 166ms\n",
      "833:\tlearn: 0.0691742\ttotal: 827ms\tremaining: 165ms\n",
      "834:\tlearn: 0.0690642\ttotal: 828ms\tremaining: 164ms\n",
      "835:\tlearn: 0.0690186\ttotal: 829ms\tremaining: 163ms\n",
      "836:\tlearn: 0.0689671\ttotal: 830ms\tremaining: 162ms\n",
      "837:\tlearn: 0.0688253\ttotal: 831ms\tremaining: 161ms\n",
      "838:\tlearn: 0.0687595\ttotal: 832ms\tremaining: 160ms\n",
      "839:\tlearn: 0.0686469\ttotal: 832ms\tremaining: 159ms\n",
      "840:\tlearn: 0.0685771\ttotal: 833ms\tremaining: 158ms\n",
      "841:\tlearn: 0.0685010\ttotal: 834ms\tremaining: 157ms\n",
      "842:\tlearn: 0.0684182\ttotal: 835ms\tremaining: 156ms\n",
      "843:\tlearn: 0.0683533\ttotal: 836ms\tremaining: 155ms\n",
      "844:\tlearn: 0.0683395\ttotal: 837ms\tremaining: 154ms\n",
      "845:\tlearn: 0.0682749\ttotal: 838ms\tremaining: 152ms\n",
      "846:\tlearn: 0.0681544\ttotal: 839ms\tremaining: 151ms\n",
      "847:\tlearn: 0.0680572\ttotal: 839ms\tremaining: 150ms\n",
      "848:\tlearn: 0.0679286\ttotal: 840ms\tremaining: 149ms\n",
      "849:\tlearn: 0.0678422\ttotal: 841ms\tremaining: 148ms\n",
      "850:\tlearn: 0.0677794\ttotal: 842ms\tremaining: 147ms\n",
      "851:\tlearn: 0.0676468\ttotal: 843ms\tremaining: 146ms\n",
      "852:\tlearn: 0.0675378\ttotal: 844ms\tremaining: 145ms\n",
      "853:\tlearn: 0.0674113\ttotal: 845ms\tremaining: 144ms\n",
      "854:\tlearn: 0.0673509\ttotal: 846ms\tremaining: 143ms\n",
      "855:\tlearn: 0.0672834\ttotal: 847ms\tremaining: 142ms\n",
      "856:\tlearn: 0.0672205\ttotal: 848ms\tremaining: 141ms\n",
      "857:\tlearn: 0.0671357\ttotal: 848ms\tremaining: 140ms\n",
      "858:\tlearn: 0.0670128\ttotal: 849ms\tremaining: 139ms\n",
      "859:\tlearn: 0.0669618\ttotal: 850ms\tremaining: 138ms\n",
      "860:\tlearn: 0.0669321\ttotal: 851ms\tremaining: 137ms\n",
      "861:\tlearn: 0.0668782\ttotal: 852ms\tremaining: 136ms\n",
      "862:\tlearn: 0.0667795\ttotal: 853ms\tremaining: 135ms\n",
      "863:\tlearn: 0.0666960\ttotal: 854ms\tremaining: 134ms\n",
      "864:\tlearn: 0.0665953\ttotal: 854ms\tremaining: 133ms\n",
      "865:\tlearn: 0.0664794\ttotal: 855ms\tremaining: 132ms\n",
      "866:\tlearn: 0.0663249\ttotal: 856ms\tremaining: 131ms\n",
      "867:\tlearn: 0.0662542\ttotal: 857ms\tremaining: 130ms\n",
      "868:\tlearn: 0.0662023\ttotal: 858ms\tremaining: 129ms\n",
      "869:\tlearn: 0.0660617\ttotal: 859ms\tremaining: 128ms\n",
      "870:\tlearn: 0.0660194\ttotal: 860ms\tremaining: 127ms\n",
      "871:\tlearn: 0.0659162\ttotal: 861ms\tremaining: 126ms\n",
      "872:\tlearn: 0.0657464\ttotal: 862ms\tremaining: 125ms\n",
      "873:\tlearn: 0.0657021\ttotal: 862ms\tremaining: 124ms\n",
      "874:\tlearn: 0.0655842\ttotal: 863ms\tremaining: 123ms\n",
      "875:\tlearn: 0.0655353\ttotal: 864ms\tremaining: 122ms\n",
      "876:\tlearn: 0.0654066\ttotal: 865ms\tremaining: 121ms\n",
      "877:\tlearn: 0.0652845\ttotal: 866ms\tremaining: 120ms\n",
      "878:\tlearn: 0.0651756\ttotal: 867ms\tremaining: 119ms\n",
      "879:\tlearn: 0.0650962\ttotal: 868ms\tremaining: 118ms\n",
      "880:\tlearn: 0.0650349\ttotal: 869ms\tremaining: 117ms\n",
      "881:\tlearn: 0.0649584\ttotal: 870ms\tremaining: 116ms\n",
      "882:\tlearn: 0.0648459\ttotal: 870ms\tremaining: 115ms\n",
      "883:\tlearn: 0.0648119\ttotal: 871ms\tremaining: 114ms\n",
      "884:\tlearn: 0.0647036\ttotal: 872ms\tremaining: 113ms\n",
      "885:\tlearn: 0.0645733\ttotal: 873ms\tremaining: 112ms\n",
      "886:\tlearn: 0.0644981\ttotal: 874ms\tremaining: 111ms\n",
      "887:\tlearn: 0.0643979\ttotal: 874ms\tremaining: 110ms\n"
     ]
    },
    {
     "name": "stdout",
     "output_type": "stream",
     "text": [
      "888:\tlearn: 0.0642354\ttotal: 875ms\tremaining: 109ms\n",
      "889:\tlearn: 0.0641108\ttotal: 876ms\tremaining: 108ms\n",
      "890:\tlearn: 0.0640477\ttotal: 877ms\tremaining: 107ms\n",
      "891:\tlearn: 0.0639232\ttotal: 878ms\tremaining: 106ms\n",
      "892:\tlearn: 0.0638361\ttotal: 879ms\tremaining: 105ms\n",
      "893:\tlearn: 0.0637939\ttotal: 880ms\tremaining: 104ms\n",
      "894:\tlearn: 0.0637830\ttotal: 881ms\tremaining: 103ms\n",
      "895:\tlearn: 0.0636929\ttotal: 882ms\tremaining: 102ms\n",
      "896:\tlearn: 0.0635700\ttotal: 883ms\tremaining: 101ms\n",
      "897:\tlearn: 0.0635101\ttotal: 884ms\tremaining: 100ms\n",
      "898:\tlearn: 0.0634783\ttotal: 884ms\tremaining: 99.4ms\n",
      "899:\tlearn: 0.0633930\ttotal: 885ms\tremaining: 98.4ms\n",
      "900:\tlearn: 0.0633545\ttotal: 886ms\tremaining: 97.4ms\n",
      "901:\tlearn: 0.0632982\ttotal: 887ms\tremaining: 96.4ms\n",
      "902:\tlearn: 0.0632761\ttotal: 888ms\tremaining: 95.4ms\n",
      "903:\tlearn: 0.0631867\ttotal: 889ms\tremaining: 94.4ms\n",
      "904:\tlearn: 0.0631261\ttotal: 890ms\tremaining: 93.4ms\n",
      "905:\tlearn: 0.0629794\ttotal: 890ms\tremaining: 92.4ms\n",
      "906:\tlearn: 0.0629023\ttotal: 892ms\tremaining: 91.4ms\n",
      "907:\tlearn: 0.0628389\ttotal: 892ms\tremaining: 90.4ms\n",
      "908:\tlearn: 0.0627834\ttotal: 893ms\tremaining: 89.4ms\n",
      "909:\tlearn: 0.0626705\ttotal: 894ms\tremaining: 88.4ms\n",
      "910:\tlearn: 0.0626250\ttotal: 895ms\tremaining: 87.4ms\n",
      "911:\tlearn: 0.0625262\ttotal: 896ms\tremaining: 86.5ms\n",
      "912:\tlearn: 0.0624451\ttotal: 897ms\tremaining: 85.5ms\n",
      "913:\tlearn: 0.0623452\ttotal: 898ms\tremaining: 84.5ms\n",
      "914:\tlearn: 0.0622567\ttotal: 899ms\tremaining: 83.5ms\n",
      "915:\tlearn: 0.0621733\ttotal: 900ms\tremaining: 82.5ms\n",
      "916:\tlearn: 0.0621054\ttotal: 900ms\tremaining: 81.5ms\n",
      "917:\tlearn: 0.0619851\ttotal: 901ms\tremaining: 80.5ms\n",
      "918:\tlearn: 0.0618727\ttotal: 902ms\tremaining: 79.5ms\n",
      "919:\tlearn: 0.0618146\ttotal: 903ms\tremaining: 78.5ms\n",
      "920:\tlearn: 0.0617090\ttotal: 904ms\tremaining: 77.5ms\n",
      "921:\tlearn: 0.0615750\ttotal: 905ms\tremaining: 76.5ms\n",
      "922:\tlearn: 0.0614497\ttotal: 906ms\tremaining: 75.6ms\n",
      "923:\tlearn: 0.0614085\ttotal: 907ms\tremaining: 74.6ms\n",
      "924:\tlearn: 0.0613676\ttotal: 908ms\tremaining: 73.6ms\n",
      "925:\tlearn: 0.0613532\ttotal: 908ms\tremaining: 72.6ms\n",
      "926:\tlearn: 0.0613120\ttotal: 909ms\tremaining: 71.6ms\n",
      "927:\tlearn: 0.0611911\ttotal: 910ms\tremaining: 70.6ms\n",
      "928:\tlearn: 0.0610780\ttotal: 911ms\tremaining: 69.6ms\n",
      "929:\tlearn: 0.0610557\ttotal: 912ms\tremaining: 68.6ms\n",
      "930:\tlearn: 0.0610416\ttotal: 913ms\tremaining: 67.7ms\n",
      "931:\tlearn: 0.0609560\ttotal: 914ms\tremaining: 66.7ms\n",
      "932:\tlearn: 0.0608976\ttotal: 915ms\tremaining: 65.7ms\n",
      "933:\tlearn: 0.0608181\ttotal: 915ms\tremaining: 64.7ms\n",
      "934:\tlearn: 0.0607903\ttotal: 916ms\tremaining: 63.7ms\n",
      "935:\tlearn: 0.0607290\ttotal: 917ms\tremaining: 62.7ms\n",
      "936:\tlearn: 0.0606086\ttotal: 918ms\tremaining: 61.7ms\n",
      "937:\tlearn: 0.0605615\ttotal: 919ms\tremaining: 60.7ms\n",
      "938:\tlearn: 0.0605372\ttotal: 920ms\tremaining: 59.8ms\n",
      "939:\tlearn: 0.0604522\ttotal: 921ms\tremaining: 58.8ms\n",
      "940:\tlearn: 0.0604435\ttotal: 922ms\tremaining: 57.8ms\n",
      "941:\tlearn: 0.0604157\ttotal: 922ms\tremaining: 56.8ms\n",
      "942:\tlearn: 0.0602921\ttotal: 923ms\tremaining: 55.8ms\n",
      "943:\tlearn: 0.0601652\ttotal: 924ms\tremaining: 54.8ms\n",
      "944:\tlearn: 0.0600282\ttotal: 925ms\tremaining: 53.9ms\n",
      "945:\tlearn: 0.0599202\ttotal: 926ms\tremaining: 52.9ms\n",
      "946:\tlearn: 0.0598446\ttotal: 927ms\tremaining: 51.9ms\n",
      "947:\tlearn: 0.0597673\ttotal: 928ms\tremaining: 50.9ms\n",
      "948:\tlearn: 0.0597210\ttotal: 929ms\tremaining: 49.9ms\n",
      "949:\tlearn: 0.0597013\ttotal: 930ms\tremaining: 48.9ms\n",
      "950:\tlearn: 0.0596924\ttotal: 931ms\tremaining: 47.9ms\n",
      "951:\tlearn: 0.0595555\ttotal: 931ms\tremaining: 47ms\n",
      "952:\tlearn: 0.0594389\ttotal: 932ms\tremaining: 46ms\n",
      "953:\tlearn: 0.0593990\ttotal: 933ms\tremaining: 45ms\n",
      "954:\tlearn: 0.0592949\ttotal: 934ms\tremaining: 44ms\n",
      "955:\tlearn: 0.0592156\ttotal: 935ms\tremaining: 43ms\n",
      "956:\tlearn: 0.0591610\ttotal: 936ms\tremaining: 42ms\n",
      "957:\tlearn: 0.0590862\ttotal: 937ms\tremaining: 41.1ms\n",
      "958:\tlearn: 0.0590459\ttotal: 938ms\tremaining: 40.1ms\n",
      "959:\tlearn: 0.0589147\ttotal: 938ms\tremaining: 39.1ms\n",
      "960:\tlearn: 0.0588509\ttotal: 939ms\tremaining: 38.1ms\n",
      "961:\tlearn: 0.0587402\ttotal: 940ms\tremaining: 37.1ms\n",
      "962:\tlearn: 0.0586606\ttotal: 941ms\tremaining: 36.2ms\n",
      "963:\tlearn: 0.0585751\ttotal: 942ms\tremaining: 35.2ms\n",
      "964:\tlearn: 0.0585639\ttotal: 943ms\tremaining: 34.2ms\n",
      "965:\tlearn: 0.0584755\ttotal: 944ms\tremaining: 33.2ms\n",
      "966:\tlearn: 0.0584292\ttotal: 945ms\tremaining: 32.2ms\n",
      "967:\tlearn: 0.0583598\ttotal: 946ms\tremaining: 31.3ms\n",
      "968:\tlearn: 0.0583395\ttotal: 946ms\tremaining: 30.3ms\n",
      "969:\tlearn: 0.0582179\ttotal: 947ms\tremaining: 29.3ms\n",
      "970:\tlearn: 0.0581573\ttotal: 948ms\tremaining: 28.3ms\n",
      "971:\tlearn: 0.0581479\ttotal: 949ms\tremaining: 27.3ms\n",
      "972:\tlearn: 0.0581196\ttotal: 950ms\tremaining: 26.4ms\n",
      "973:\tlearn: 0.0580114\ttotal: 951ms\tremaining: 25.4ms\n",
      "974:\tlearn: 0.0578981\ttotal: 952ms\tremaining: 24.4ms\n",
      "975:\tlearn: 0.0577756\ttotal: 953ms\tremaining: 23.4ms\n",
      "976:\tlearn: 0.0576774\ttotal: 953ms\tremaining: 22.4ms\n",
      "977:\tlearn: 0.0575497\ttotal: 954ms\tremaining: 21.5ms\n",
      "978:\tlearn: 0.0574912\ttotal: 955ms\tremaining: 20.5ms\n",
      "979:\tlearn: 0.0574417\ttotal: 956ms\tremaining: 19.5ms\n"
     ]
    },
    {
     "name": "stdout",
     "output_type": "stream",
     "text": [
      "980:\tlearn: 0.0574034\ttotal: 957ms\tremaining: 18.5ms\n",
      "981:\tlearn: 0.0573918\ttotal: 958ms\tremaining: 17.6ms\n",
      "982:\tlearn: 0.0572792\ttotal: 959ms\tremaining: 16.6ms\n",
      "983:\tlearn: 0.0572128\ttotal: 960ms\tremaining: 15.6ms\n",
      "984:\tlearn: 0.0571861\ttotal: 960ms\tremaining: 14.6ms\n",
      "985:\tlearn: 0.0570904\ttotal: 961ms\tremaining: 13.6ms\n",
      "986:\tlearn: 0.0570012\ttotal: 962ms\tremaining: 12.7ms\n",
      "987:\tlearn: 0.0569610\ttotal: 963ms\tremaining: 11.7ms\n",
      "988:\tlearn: 0.0568670\ttotal: 964ms\tremaining: 10.7ms\n",
      "989:\tlearn: 0.0568577\ttotal: 965ms\tremaining: 9.75ms\n",
      "990:\tlearn: 0.0568168\ttotal: 966ms\tremaining: 8.77ms\n",
      "991:\tlearn: 0.0567512\ttotal: 967ms\tremaining: 7.8ms\n",
      "992:\tlearn: 0.0565921\ttotal: 968ms\tremaining: 6.82ms\n",
      "993:\tlearn: 0.0564828\ttotal: 969ms\tremaining: 5.85ms\n",
      "994:\tlearn: 0.0564071\ttotal: 970ms\tremaining: 4.87ms\n",
      "995:\tlearn: 0.0563052\ttotal: 970ms\tremaining: 3.9ms\n",
      "996:\tlearn: 0.0562102\ttotal: 971ms\tremaining: 2.92ms\n",
      "997:\tlearn: 0.0562050\ttotal: 972ms\tremaining: 1.95ms\n",
      "998:\tlearn: 0.0560928\ttotal: 973ms\tremaining: 974us\n",
      "999:\tlearn: 0.0560038\ttotal: 974ms\tremaining: 0us\n"
     ]
    },
    {
     "data": {
      "text/plain": [
       "<catboost.core.CatBoostRegressor at 0x7f98c006f700>"
      ]
     },
     "execution_count": 9,
     "metadata": {},
     "output_type": "execute_result"
    }
   ],
   "source": [
    "#Train the Model \n",
    "prior_model = ctb.CatBoostRegressor()\n",
    "prior_model.fit(X_train,Y_train)"
   ]
  },
  {
   "cell_type": "code",
   "execution_count": 10,
   "id": "af65dcda",
   "metadata": {
    "execution": {
     "iopub.execute_input": "2022-03-11T10:22:14.417406Z",
     "iopub.status.busy": "2022-03-11T10:22:14.417040Z",
     "iopub.status.idle": "2022-03-11T10:22:14.424537Z",
     "shell.execute_reply": "2022-03-11T10:22:14.424791Z"
    },
    "id": "af65dcda",
    "papermill": {
     "duration": 0.020853,
     "end_time": "2022-03-11T10:22:14.424910",
     "exception": false,
     "start_time": "2022-03-11T10:22:14.404057",
     "status": "completed"
    },
    "tags": []
   },
   "outputs": [
    {
     "data": {
      "application/scrapbook.scrap.json+json": {
       "data": 0.06897074772506817,
       "encoder": "json",
       "name": "Prior Model MSE",
       "version": 1
      }
     },
     "metadata": {
      "scrapbook": {
       "data": true,
       "display": false,
       "name": "Prior Model MSE"
      }
     },
     "output_type": "display_data"
    },
    {
     "data": {
      "application/scrapbook.scrap.json+json": {
       "data": 0.08378365443425605,
       "encoder": "json",
       "name": "ABC Pre-generator MSE",
       "version": 1
      }
     },
     "metadata": {
      "scrapbook": {
       "data": true,
       "display": false,
       "name": "ABC Pre-generator MSE"
      }
     },
     "output_type": "display_data"
    },
    {
     "data": {
      "application/scrapbook.scrap.json+json": {
       "data": 0.18880510350907462,
       "encoder": "json",
       "name": "Prior Model MAE",
       "version": 1
      }
     },
     "metadata": {
      "scrapbook": {
       "data": true,
       "display": false,
       "name": "Prior Model MAE"
      }
     },
     "output_type": "display_data"
    },
    {
     "data": {
      "application/scrapbook.scrap.json+json": {
       "data": 0.21752596941698246,
       "encoder": "json",
       "name": "ABC Pre-generator MAE",
       "version": 1
      }
     },
     "metadata": {
      "scrapbook": {
       "data": true,
       "display": false,
       "name": "ABC Pre-generator MAE"
      }
     },
     "output_type": "display_data"
    }
   ],
   "source": [
    "y_pred = prior_model.predict(X_test)\n",
    "y_abc = y_pred + np.random.normal(0,variance, y_pred.shape)\n",
    "mse = mean_squared_error(y_pred,Y_test)\n",
    "sb.glue(\"Prior Model MSE\",mse)\n",
    "mse = mean_squared_error(y_abc,Y_test)\n",
    "sb.glue(\"ABC Pre-generator MSE\",mse)\n",
    "\n",
    "mae = mean_absolute_error(y_pred,Y_test)\n",
    "sb.glue(\"Prior Model MAE\",mae)\n",
    "mae = mean_absolute_error(y_abc,Y_test)\n",
    "sb.glue(\"ABC Pre-generator MAE\",mae)"
   ]
  },
  {
   "cell_type": "markdown",
   "id": "25609da2",
   "metadata": {
    "papermill": {
     "duration": 0.009826,
     "end_time": "2022-03-11T10:22:14.444897",
     "exception": false,
     "start_time": "2022-03-11T10:22:14.435071",
     "status": "completed"
    },
    "tags": []
   },
   "source": [
    "# ABC GAN Model"
   ]
  },
  {
   "cell_type": "code",
   "execution_count": 11,
   "id": "dfc3464d",
   "metadata": {
    "execution": {
     "iopub.execute_input": "2022-03-11T10:22:14.467560Z",
     "iopub.status.busy": "2022-03-11T10:22:14.467185Z",
     "iopub.status.idle": "2022-03-11T10:22:14.469561Z",
     "shell.execute_reply": "2022-03-11T10:22:14.469797Z"
    },
    "papermill": {
     "duration": 0.015211,
     "end_time": "2022-03-11T10:22:14.469904",
     "exception": false,
     "start_time": "2022-03-11T10:22:14.454693",
     "status": "completed"
    },
    "tags": []
   },
   "outputs": [],
   "source": [
    "gen = network.Generator(n_features+1).to(device)\n",
    "disc = network.Discriminator(n_features+1).to(device)\n",
    "\n",
    "criterion = torch.nn.BCELoss()\n",
    "gen_opt = torch.optim.Adam(gen.parameters(), lr=0.001, betas=(0.5, 0.999))\n",
    "disc_opt = torch.optim.Adam(disc.parameters(), lr=0.001, betas=(0.5, 0.999))"
   ]
  },
  {
   "cell_type": "code",
   "execution_count": 12,
   "id": "b75fdd85",
   "metadata": {
    "execution": {
     "iopub.execute_input": "2022-03-11T10:22:14.492232Z",
     "iopub.status.busy": "2022-03-11T10:22:14.491838Z",
     "iopub.status.idle": "2022-03-11T10:22:50.556025Z",
     "shell.execute_reply": "2022-03-11T10:22:50.556332Z"
    },
    "papermill": {
     "duration": 36.076538,
     "end_time": "2022-03-11T10:22:50.556461",
     "exception": false,
     "start_time": "2022-03-11T10:22:14.479923",
     "status": "completed"
    },
    "tags": []
   },
   "outputs": [
    {
     "data": {
      "image/png": "[encoded data removed]",
      "text/plain": [
       "<Figure size 432x288 with 1 Axes>"
      ]
     },
     "metadata": {
      "needs_background": "light"
     },
     "output_type": "display_data"
    },
    {
     "data": {
      "image/png": "[encoded data removed]",
      "text/plain": [
       "<Figure size 432x288 with 1 Axes>"
      ]
     },
     "metadata": {
      "needs_background": "light"
     },
     "output_type": "display_data"
    }
   ],
   "source": [
    "#Training the ABC_GAN \n",
    "ABC_train_test2.training_GAN(disc,gen,disc_opt,gen_opt,train_data,batch_size,n_epochs,criterion,prior_model,variance,0,device)"
   ]
  },
  {
   "cell_type": "code",
   "execution_count": 13,
   "id": "1fa7c368",
   "metadata": {
    "execution": {
     "iopub.execute_input": "2022-03-11T10:22:50.580840Z",
     "iopub.status.busy": "2022-03-11T10:22:50.580470Z",
     "iopub.status.idle": "2022-03-11T10:22:50.882516Z",
     "shell.execute_reply": "2022-03-11T10:22:50.882773Z"
    },
    "papermill": {
     "duration": 0.315407,
     "end_time": "2022-03-11T10:22:50.882897",
     "exception": false,
     "start_time": "2022-03-11T10:22:50.567490",
     "status": "completed"
    },
    "tags": []
   },
   "outputs": [
    {
     "data": {
      "application/scrapbook.scrap.json+json": {
       "data": 0.08396540997089585,
       "encoder": "json",
       "name": "ABC-GAN Model 1 MSE",
       "version": 1
      }
     },
     "metadata": {
      "scrapbook": {
       "data": true,
       "display": false,
       "name": "ABC-GAN Model 1 MSE"
      }
     },
     "output_type": "display_data"
    },
    {
     "data": {
      "application/scrapbook.scrap.json+json": {
       "data": 0.1930506749323332,
       "encoder": "json",
       "name": "ABC-GAN Model 1 MAE",
       "version": 1
      }
     },
     "metadata": {
      "scrapbook": {
       "data": true,
       "display": false,
       "name": "ABC-GAN Model 1 MAE"
      }
     },
     "output_type": "display_data"
    },
    {
     "data": {
      "application/scrapbook.scrap.json+json": {
       "data": 19.691168843097984,
       "encoder": "json",
       "name": "ABC-GAN Model 1 Manhattan Distance",
       "version": 1
      }
     },
     "metadata": {
      "scrapbook": {
       "data": true,
       "display": false,
       "name": "ABC-GAN Model 1 Manhattan Distance"
      }
     },
     "output_type": "display_data"
    },
    {
     "data": {
      "application/scrapbook.scrap.json+json": {
       "data": 2.9249081525025193,
       "encoder": "json",
       "name": "ABC-GAN Model 1 Euclidean distance",
       "version": 1
      }
     },
     "metadata": {
      "scrapbook": {
       "data": true,
       "display": false,
       "name": "ABC-GAN Model 1 Euclidean distance"
      }
     },
     "output_type": "display_data"
    },
    {
     "data": {
      "application/scrapbook.scrap.json+json": {
       "data": [
        [
         0.08536583008635756,
         0.08157180765683128,
         0.09178428183442118,
         0.08153432873552156,
         0.08476594897194067,
         0.08925371206095642,
         0.08663728652812025,
         0.08522449299566662,
         0.08213049635493429,
         0.09510815996876193,
         0.08675088628613932,
         0.08709378034534802,
         0.08761276251405663,
         0.07852717432262114,
         0.08631455271311925,
         0.0832767836409052,
         0.07940983126010095,
         0.09093810876157554,
         0.08972169658610543,
         0.08349108599804125,
         0.08379266846662176,
         0.0918264478710917,
         0.07736477357014829,
         0.08276160393656429,
         0.07524346357361734,
         0.08457644950059866,
         0.08643620802177049,
         0.08674747948367259,
         0.07804621810721088,
         0.08472388221863078,
         0.08811065330832213,
         0.08669914527433475,
         0.09016197186485549,
         0.07582099552185989,
         0.08235950784701995,
         0.07149177169886733,
         0.08686908043914629,
         0.08788497123760176,
         0.08216490266256497,
         0.08231071180972226,
         0.09105715624711376,
         0.0811083735978705,
         0.09070001182182975,
         0.08231276465513215,
         0.08811008360878202,
         0.09311898024776537,
         0.08481306940316172,
         0.07459715814547688,
         0.08592534663134654,
         0.08480127784331233,
         0.08549089627143719,
         0.08146972097767884,
         0.0829409452210408,
         0.08645360041750816,
         0.07031807356707416,
         0.09267627051877576,
         0.07914805052713046,
         0.07329681317949152,
         0.08087520065883365,
         0.08924512605896431,
         0.07620686767888916,
         0.07653804247118656,
         0.09346436612703138,
         0.08765058000756083,
         0.0903584177238493,
         0.08008566142091855,
         0.08583329000784808,
         0.08405154205964306,
         0.0911235871252487,
         0.07531636908367544,
         0.07746347902503566,
         0.07664309532409735,
         0.08622398041652468,
         0.07634552404339272,
         0.09448508628465674,
         0.07444895605834612,
         0.085600238283382,
         0.0896812039936334,
         0.08675374051016421,
         0.08705574491325087,
         0.0858272126434012,
         0.08879203011572499,
         0.07755764175160015,
         0.08178661974218397,
         0.09540179919624303,
         0.07521812064368066,
         0.08419475844839157,
         0.07920599685634956,
         0.08621735916248795,
         0.08317879036879025,
         0.08270834945005037,
         0.08251188333283584,
         0.08412881493111098,
         0.09067252793489412,
         0.08014338251193771,
         0.08521033348226278,
         0.0791442712358915,
         0.08405430441562571,
         0.08217493923549327,
         0.07271725543682236
        ],
        [
         0.18811602822924947,
         0.19659352213071257,
         0.20081673619136506,
         0.1947775247013744,
         0.19399596544384373,
         0.1870155754298264,
         0.1966473736124588,
         0.19325327265131123,
         0.18704164954011931,
         0.21085659398094697,
         0.19164652948943423,
         0.19567446883621753,
         0.20150552878119782,
         0.18943327619675912,
         0.19638031755811444,
         0.1942681962916372,
         0.18713830380390087,
         0.20022397793318128,
         0.20489089554358347,
         0.18472625919635974,
         0.19509806810859956,
         0.19371801101620875,
         0.1881433517726905,
         0.20303502793916883,
         0.17941181111496454,
         0.19028938950642066,
         0.194085200718951,
         0.1975192944610528,
         0.17903564357217036,
         0.18785083533136868,
         0.20432156695089504,
         0.19352363983132675,
         0.1944726978191266,
         0.18590385121676853,
         0.19872563900243417,
         0.18704010288724127,
         0.20275541933655156,
         0.19456696493879838,
         0.19313997700445207,
         0.18840389032209037,
         0.20023720154502228,
         0.1867201548690597,
         0.1922215526266133,
         0.18988958006615148,
         0.2055025764138383,
         0.1934409261882013,
         0.19257237986825845,
         0.18933407273873978,
         0.19328316686419295,
         0.19575130236426405,
         0.2012118701366525,
         0.18680021581331305,
         0.19489566096122943,
         0.1974062937695314,
         0.18169667087860553,
         0.198490159750423,
         0.19299220102017417,
         0.1819195769471573,
         0.19147710350579492,
         0.1943740270410975,
         0.1831785563708228,
         0.18901830004053374,
         0.197511866743512,
         0.19446864934163352,
         0.1997824361474783,
         0.1989647575708873,
         0.19552652652868452,
         0.19272719949995185,
         0.19433024078242334,
         0.1859821934873859,
         0.18644059221168943,
         0.18116068494889667,
         0.19713566618441952,
         0.1887539790066726,
         0.2015406701750323,
         0.18364956176967598,
         0.19433508533984423,
         0.19905777456348434,
         0.19149855054987996,
         0.19992706119356787,
         0.19171485390660226,
         0.19301269216207312,
         0.18051244470053443,
         0.20178655014537714,
         0.2036921914995593,
         0.17847073076329395,
         0.19128236015710762,
         0.1913142600735905,
         0.19463518029991903,
         0.1918569385968879,
         0.1887269272633335,
         0.1946166327004047,
         0.19093039659235408,
         0.20858872767683923,
         0.1840089676244294,
         0.19603046298246174,
         0.195641229166558,
         0.19933334276007086,
         0.18198273570148968,
         0.18568044424276142
        ],
        [
         19.187834879383445,
         20.052539257332683,
         20.483307091519237,
         19.86730751954019,
         19.78758847527206,
         19.075588693842292,
         20.058032108470798,
         19.711833810433745,
         19.07824825309217,
         21.50737258605659,
         19.54794600792229,
         19.95879582129419,
         20.553563935682178,
         19.32219417206943,
         20.030792390927672,
         19.815356021746993,
         19.08810698799789,
         20.42284574918449,
         20.898871345445514,
         18.842078438028693,
         19.900002947077155,
         19.759237123653293,
         19.190621880814433,
         20.709572849795222,
         18.300004733726382,
         19.409517729654908,
         19.796690473333,
         20.146968035027385,
         18.261635644361377,
         19.160785203799605,
         20.840799828991294,
         19.73941126279533,
         19.836215177550912,
         18.96219282411039,
         20.270015178248286,
         19.07809049449861,
         20.681052772328258,
         19.845830423757434,
         19.700277654454112,
         19.217196812853217,
         20.424194557592273,
         19.04545579664409,
         19.606598367914557,
         19.36873716674745,
         20.961262794211507,
         19.730974471196532,
         19.64238274656236,
         19.31207541935146,
         19.71488302014768,
         19.966632841154933,
         20.523610753938556,
         19.05362201295793,
         19.8793574180454,
         20.135441964492202,
         18.533060429617763,
         20.245996294543147,
         19.685204504057765,
         18.555796848610044,
         19.53066455759108,
         19.826150758191943,
         18.684212749823928,
         19.27986660413444,
         20.146210407838225,
         19.835802232846618,
         20.377808487042785,
         20.294405272230506,
         19.943705705925822,
         19.65817434899509,
         19.82168455980718,
         18.970183735713363,
         19.016940405592322,
         18.47838986478746,
         20.10783795081079,
         19.252905858680606,
         20.557148357853293,
         18.73225530050695,
         19.82217870466411,
         20.303893005475402,
         19.532852156087756,
         20.392560241743922,
         19.55491509847343,
         19.68729460053146,
         18.412269359454513,
         20.582228114828467,
         20.77660353295505,
         18.204014537855983,
         19.510800736024976,
         19.514054527506232,
         19.85278839059174,
         19.569407736882567,
         19.25014658086002,
         19.85089653544128,
         19.474900452420115,
         21.2760502230376,
         18.768914697691798,
         19.995107224211097,
         19.955405374988914,
         20.33200096152723,
         18.562239041551948,
         18.939405312761664
        ],
        [
         2.950815932722417,
         2.8844972492614356,
         3.059738019359004,
         2.8838345186614296,
         2.940429695663195,
         3.0172634340106192,
         2.9727097446384274,
         2.9483721416330733,
         2.894358413915473,
         3.1146480245468693,
         2.9746580309652764,
         2.980531092813074,
         2.9893982298171276,
         2.8301540207040605,
         2.967167736535662,
         2.914486563937519,
         2.8460152474170437,
         3.045601269647868,
         3.02516330993597,
         2.9182341872783626,
         2.9234999886429653,
         3.060440766107286,
         2.8091292074511496,
         2.9054575545909387,
         2.7703489463439386,
         2.9371411013196256,
         2.969258024864223,
         2.9745996213498387,
         2.821473772150914,
         2.9396999823622036,
         2.9978803574273702,
         2.9737708079107485,
         3.032576648695834,
         2.7809605432709232,
         2.8983908984807467,
         2.7004001024449082,
         2.9766837596212534,
         2.994038587966992,
         2.894964606274424,
         2.8975321576458257,
         3.047594122780395,
         2.876291728420952,
         3.0416116132449638,
         2.8975682899326944,
         2.9978706656718477,
         3.0819046035320543,
         2.9412468579026982,
         2.7584252991224254,
         2.96047046200386,
         2.9410423900409626,
         2.9529767049007676,
         2.882691717774074,
         2.9086038596801322,
         2.9695567417690185,
         2.678141800547828,
         3.0745698224166467,
         2.8413203187545237,
         2.734277773802094,
         2.87215432510181,
         3.0171183036159452,
         2.788028067155475,
         2.794079514269597,
         3.087614831056037,
         2.990043337607535,
         3.0358785561732584,
         2.8581003245046683,
         2.9588841783348845,
         2.92801251535638,
         3.048705608414064,
         2.771690755934885,
         2.8109206428772824,
         2.7959963739350466,
         2.9656105615008714,
         2.7905632858665035,
         3.1044289009469987,
         2.7556838566771957,
         2.9548645154905095,
         3.0244805847203917,
         2.9747069657424663,
         2.979880195771566,
         2.9587794256461435,
         3.00944962938474,
         2.8126285674904206,
         2.8882927853150147,
         3.1194524388130667,
         2.7698823631438625,
         2.930505990735378,
         2.842360230397909,
         2.9654966927268305,
         2.912771295109969,
         2.9045226189350184,
         2.9010708540036134,
         2.929358141807403,
         3.0411507442675707,
         2.8591301153003945,
         2.948127204716717,
         2.8412524819278087,
         2.92806062956248,
         2.8951414131299895,
         2.7234463561002777
        ]
       ],
       "encoder": "json",
       "name": "ABC_GAN_1 Metrics",
       "version": 1
      }
     },
     "metadata": {
      "scrapbook": {
       "data": true,
       "display": false,
       "name": "ABC_GAN_1 Metrics"
      }
     },
     "output_type": "display_data"
    },
    {
     "name": "stdout",
     "output_type": "stream",
     "text": [
      "MSE\n",
      "0.08396540997089585\n"
     ]
    }
   ],
   "source": [
    "ABC_GAN1_metrics=ABC_train_test2.test_generator(gen,test_data,prior_model,variance,0,\"1\",device)\n",
    "sb.glue(\"ABC_GAN_1 Metrics\",ABC_GAN1_metrics)\n",
    "\n",
    "print(\"MSE\")\n",
    "print(mean(ABC_GAN1_metrics[0]))"
   ]
  },
  {
   "cell_type": "code",
   "execution_count": 14,
   "id": "eb22ce5c",
   "metadata": {
    "execution": {
     "iopub.execute_input": "2022-03-11T10:22:50.910225Z",
     "iopub.status.busy": "2022-03-11T10:22:50.909850Z",
     "iopub.status.idle": "2022-03-11T10:22:51.228432Z",
     "shell.execute_reply": "2022-03-11T10:22:51.228743Z"
    },
    "papermill": {
     "duration": 0.333361,
     "end_time": "2022-03-11T10:22:51.228864",
     "exception": false,
     "start_time": "2022-03-11T10:22:50.895503",
     "status": "completed"
    },
    "tags": []
   },
   "outputs": [
    {
     "data": {
      "image/png": "[encoded data removed]",
      "text/plain": [
       "<Figure size 432x288 with 1 Axes>"
      ]
     },
     "metadata": {
      "needs_background": "light"
     },
     "output_type": "display_data"
    },
    {
     "data": {
      "image/png": "[encoded data removed]",
      "text/plain": [
       "<Figure size 432x288 with 1 Axes>"
      ]
     },
     "metadata": {
      "needs_background": "light"
     },
     "output_type": "display_data"
    },
    {
     "data": {
      "image/png": "[encoded data removed]",
      "text/plain": [
       "<Figure size 432x288 with 1 Axes>"
      ]
     },
     "metadata": {
      "needs_background": "light"
     },
     "output_type": "display_data"
    },
    {
     "data": {
      "image/png": "[encoded data removed]",
      "text/plain": [
       "<Figure size 432x288 with 1 Axes>"
      ]
     },
     "metadata": {
      "needs_background": "light"
     },
     "output_type": "display_data"
    }
   ],
   "source": [
    "sanityChecks.discProbVsError(train_data,disc,device)\n",
    "sanityChecks.discProbVsError(test_data,disc,device)"
   ]
  },
  {
   "cell_type": "markdown",
   "id": "130f3a4d",
   "metadata": {
    "id": "130f3a4d",
    "papermill": {
     "duration": 0.014385,
     "end_time": "2022-03-11T10:22:51.258579",
     "exception": false,
     "start_time": "2022-03-11T10:22:51.244194",
     "status": "completed"
    },
    "tags": []
   },
   "source": [
    "# ABC - GAN Model with skip connection"
   ]
  },
  {
   "cell_type": "code",
   "execution_count": 15,
   "id": "4e43dad1",
   "metadata": {
    "execution": {
     "iopub.execute_input": "2022-03-11T10:22:51.291033Z",
     "iopub.status.busy": "2022-03-11T10:22:51.290669Z",
     "iopub.status.idle": "2022-03-11T10:22:51.292844Z",
     "shell.execute_reply": "2022-03-11T10:22:51.293080Z"
    },
    "id": "4e43dad1",
    "papermill": {
     "duration": 0.020136,
     "end_time": "2022-03-11T10:22:51.293190",
     "exception": false,
     "start_time": "2022-03-11T10:22:51.273054",
     "status": "completed"
    },
    "tags": []
   },
   "outputs": [],
   "source": [
    "#Generator\n",
    "gen3 = network.GeneratorWithSkipConnection(n_features+1).to(device)\n",
    "constraints=network.weightConstraint()\n",
    "#Discriminator \n",
    "disc3 = network.Discriminator(n_features+1).to(device)\n",
    "\n",
    "criterion = torch.nn.BCELoss()\n",
    "gen_opt = torch.optim.Adam(gen3.parameters(), lr=0.001, betas=(0.5, 0.999))\n",
    "disc_opt = torch.optim.Adam(disc3.parameters(), lr=0.001, betas=(0.5, 0.999))\n"
   ]
  },
  {
   "cell_type": "code",
   "execution_count": 16,
   "id": "26acbc37",
   "metadata": {
    "execution": {
     "iopub.execute_input": "2022-03-11T10:22:51.324564Z",
     "iopub.status.busy": "2022-03-11T10:22:51.324196Z",
     "iopub.status.idle": "2022-03-11T10:25:18.424428Z",
     "shell.execute_reply": "2022-03-11T10:25:18.424751Z"
    },
    "id": "26acbc37",
    "papermill": {
     "duration": 147.117139,
     "end_time": "2022-03-11T10:25:18.424874",
     "exception": false,
     "start_time": "2022-03-11T10:22:51.307735",
     "status": "completed"
    },
    "tags": []
   },
   "outputs": [
    {
     "data": {
      "image/png": "[encoded data removed]",
      "text/plain": [
       "<Figure size 432x288 with 1 Axes>"
      ]
     },
     "metadata": {
      "needs_background": "light"
     },
     "output_type": "display_data"
    },
    {
     "data": {
      "image/png": "[encoded data removed]",
      "text/plain": [
       "<Figure size 432x288 with 1 Axes>"
      ]
     },
     "metadata": {
      "needs_background": "light"
     },
     "output_type": "display_data"
    }
   ],
   "source": [
    "ABC_train_test2.training_GAN_skip_connection(disc3,gen3,disc_opt,gen_opt,train_data,batch_size,n_epochs,criterion,prior_model,variance,0,device)"
   ]
  },
  {
   "cell_type": "code",
   "execution_count": 17,
   "id": "c5e0717b",
   "metadata": {
    "execution": {
     "iopub.execute_input": "2022-03-11T10:25:18.458494Z",
     "iopub.status.busy": "2022-03-11T10:25:18.458115Z",
     "iopub.status.idle": "2022-03-11T10:25:19.266206Z",
     "shell.execute_reply": "2022-03-11T10:25:19.266562Z"
    },
    "id": "c5e0717b",
    "papermill": {
     "duration": 0.826165,
     "end_time": "2022-03-11T10:25:19.266687",
     "exception": false,
     "start_time": "2022-03-11T10:25:18.440522",
     "status": "completed"
    },
    "tags": []
   },
   "outputs": [
    {
     "data": {
      "application/scrapbook.scrap.json+json": {
       "data": 0.07959813292838801,
       "encoder": "json",
       "name": "ABC-GAN Model 3 MSE",
       "version": 1
      }
     },
     "metadata": {
      "scrapbook": {
       "data": true,
       "display": false,
       "name": "ABC-GAN Model 3 MSE"
      }
     },
     "output_type": "display_data"
    },
    {
     "data": {
      "application/scrapbook.scrap.json+json": {
       "data": 0.19243447187621437,
       "encoder": "json",
       "name": "ABC-GAN Model 3 MAE",
       "version": 1
      }
     },
     "metadata": {
      "scrapbook": {
       "data": true,
       "display": false,
       "name": "ABC-GAN Model 3 MAE"
      }
     },
     "output_type": "display_data"
    },
    {
     "data": {
      "application/scrapbook.scrap.json+json": {
       "data": 19.628316131373868,
       "encoder": "json",
       "name": "ABC-GAN Model 3 Manhattan Distance",
       "version": 1
      }
     },
     "metadata": {
      "scrapbook": {
       "data": true,
       "display": false,
       "name": "ABC-GAN Model 3 Manhattan Distance"
      }
     },
     "output_type": "display_data"
    },
    {
     "data": {
      "application/scrapbook.scrap.json+json": {
       "data": 2.848477277021032,
       "encoder": "json",
       "name": "ABC-GAN Model 3 Euclidean distance",
       "version": 1
      }
     },
     "metadata": {
      "scrapbook": {
       "data": true,
       "display": false,
       "name": "ABC-GAN Model 3 Euclidean distance"
      }
     },
     "output_type": "display_data"
    },
    {
     "data": {
      "application/scrapbook.scrap.json+json": {
       "data": [
        [
         0.08130760453585248,
         0.08814287724741288,
         0.08148373662404197,
         0.08183105052767743,
         0.08102770612466205,
         0.06892656416365747,
         0.08301586010172907,
         0.08010094031565991,
         0.08001065771518899,
         0.08357299274138277,
         0.08020033866101225,
         0.084073561104241,
         0.07940281571825938,
         0.0766897715798172,
         0.08214053514355123,
         0.07747814133167469,
         0.08024214764553847,
         0.07486018695674132,
         0.08460726860531435,
         0.08000749577265502,
         0.07995100168610282,
         0.08440357227982974,
         0.07759366442351041,
         0.07765862149669088,
         0.07979534074932171,
         0.08607148541408689,
         0.08282500672579732,
         0.0770740314257469,
         0.08150775421877003,
         0.08578162993252031,
         0.07933125290886944,
         0.07054882662432449,
         0.0787663869413859,
         0.07459969075456828,
         0.08734273546567836,
         0.07779311943906582,
         0.07754235940280158,
         0.08167273498904419,
         0.08020642111892907,
         0.08093753420648377,
         0.08007843188353558,
         0.08497391078630938,
         0.07931329373623905,
         0.08731301962517697,
         0.0801265221036231,
         0.07222239551487586,
         0.0797084556678497,
         0.07411710581541922,
         0.07771866602430563,
         0.07637357530531354,
         0.07631625644265731,
         0.08386483577168154,
         0.07785149131948013,
         0.07331677893510029,
         0.08170152521998209,
         0.08157257476237735,
         0.07884614458755447,
         0.07992446102349887,
         0.07394308615069842,
         0.07790889659449464,
         0.07973973934499036,
         0.08355562111478039,
         0.07617104500043832,
         0.07967668698416638,
         0.08012570856328631,
         0.08149085651579081,
         0.07314541490344735,
         0.07742495549401589,
         0.08095656991472423,
         0.08362740557312197,
         0.08236398523385098,
         0.07738878143475472,
         0.0778769172112302,
         0.07679945874232207,
         0.0919498991195238,
         0.08148322347441882,
         0.07686710423243469,
         0.0778223743685517,
         0.07586040129147005,
         0.07956351583735018,
         0.08203620788400777,
         0.07722489371092156,
         0.0813641506861518,
         0.07783510770668593,
         0.08258414698743743,
         0.07338412230050399,
         0.07522652030120441,
         0.07681389351133222,
         0.07421154364147554,
         0.07792603174267562,
         0.08316054677182282,
         0.07932505417256286,
         0.07740356689970038,
         0.07249773480806279,
         0.07940386359397537,
         0.08589110437872415,
         0.08692742727149567,
         0.07863158760359983,
         0.07125204408310121,
         0.08510723033891981
        ],
        [
         0.19642965157753697,
         0.2048984671961151,
         0.1985302547394645,
         0.19864151770175964,
         0.20149142117988245,
         0.18251090412776844,
         0.19471285718620993,
         0.19705089222749367,
         0.19081972484641216,
         0.19380039424069373,
         0.1929532233990875,
         0.20015365120900028,
         0.19640895733427183,
         0.19134126578037644,
         0.1896511898649966,
         0.1923669714517161,
         0.18280265962376313,
         0.19230814274473518,
         0.20119594245710792,
         0.19957264647910408,
         0.18454429092725702,
         0.19658474762942277,
         0.18453454569566483,
         0.19528234235978886,
         0.19707985271644943,
         0.20219141096059307,
         0.20028772557556046,
         0.18702029495262631,
         0.19869847424036147,
         0.19478852561145438,
         0.1924161410379205,
         0.18662588113882378,
         0.18912405210236707,
         0.1946220938755455,
         0.19617666417331087,
         0.18575108664877274,
         0.1829847010290798,
         0.1951334893557371,
         0.19740214524790645,
         0.18977867985399915,
         0.19340710292625077,
         0.1997415381027203,
         0.1982484679376962,
         0.2078458026106305,
         0.1978216475131465,
         0.19049594017183957,
         0.19013060070574284,
         0.18343373333268306,
         0.18446425093776164,
         0.184485464868154,
         0.18437841405872912,
         0.19884729106892265,
         0.19186808873771452,
         0.18538988681108343,
         0.19655005009297064,
         0.18951831873068037,
         0.19210480807312563,
         0.1960596625017477,
         0.18569577677065835,
         0.19005606196565078,
         0.20046871681423747,
         0.19482951324579179,
         0.1858891667432937,
         0.184457629425999,
         0.20240429248295577,
         0.19663369781611598,
         0.1826263734449943,
         0.18937821483568235,
         0.19357417253594772,
         0.1953558402829895,
         0.19528755930928038,
         0.19115840287550406,
         0.1906444115071174,
         0.18706268282132407,
         0.20620248967087737,
         0.18903434733111485,
         0.18528589869246764,
         0.1904002933160347,
         0.18991494268251985,
         0.1817103151560706,
         0.2002898340533469,
         0.1793124714099309,
         0.1948089047572484,
         0.19180597819607048,
         0.1977014254011652,
         0.1749369905823294,
         0.19367054362288294,
         0.18564999479727418,
         0.187292854265109,
         0.19486893810258776,
         0.19831716711176375,
         0.19315992343221225,
         0.19441118290392206,
         0.18441840730534464,
         0.19254820620385454,
         0.19728876560853392,
         0.20309593207111545,
         0.19090753028571023,
         0.1750098260977835,
         0.19242256200488875
        ],
        [
         20.03582446090877,
         20.89964365400374,
         20.25008598342538,
         20.261434805579484,
         20.55212496034801,
         18.61611222103238,
         19.860711432993412,
         20.099191007204354,
         19.46361193433404,
         19.76764021255076,
         19.681228786706924,
         20.41567242331803,
         20.033713648095727,
         19.516809109598398,
         19.344421366229653,
         19.62143108807504,
         18.64587128162384,
         19.615430559962988,
         20.52198613062501,
         20.356409940868616,
         18.823517674580216,
         20.051644258201122,
         18.822523660957813,
         19.918798920698464,
         20.10214497707784,
         20.623523917980492,
         20.429348008707166,
         19.076070085167885,
         20.26724437251687,
         19.868429612368345,
         19.626446385867894,
         19.035839876160026,
         19.290653314441442,
         19.85145357530564,
         20.01001974567771,
         18.94661083817482,
         18.66443950496614,
         19.903615914285183,
         20.135018815286458,
         19.357425345107913,
         19.727524498477578,
         20.37363688647747,
         20.221343729645014,
         21.20027186628431,
         20.177808046340942,
         19.430585897527635,
         19.39332127198577,
         18.710240799933672,
         18.815353595651686,
         18.81751741655171,
         18.80659823399037,
         20.28242368903011,
         19.57054505124688,
         18.90976845473051,
         20.048105109483004,
         19.3308685105294,
         19.594690423458815,
         19.998085575178266,
         18.940969230607152,
         19.38571832049638,
         20.447809115052223,
         19.87261035107076,
         18.960695007815957,
         18.814678201451898,
         20.64523783326149,
         20.05663717724383,
         18.627890091389418,
         19.3165779132396,
         19.744565598666668,
         19.926295708864927,
         19.9193310495466,
         19.498157093301415,
         19.445729973725975,
         19.080393647775054,
         21.03265394642949,
         19.281503427773714,
         18.8991616666317,
         19.42082991823554,
         19.371324153617024,
         18.534452145919204,
         20.429563073441386,
         18.289872083812952,
         19.87050828523934,
         19.56420977599919,
         20.16554539091885,
         17.843573039397597,
         19.75439544953406,
         18.936299469321966,
         19.103871135041118,
         19.876631686463952,
         20.228351045399904,
         19.70231219008565,
         19.82994065620005,
         18.810677545145154,
         19.639917032793164,
         20.12345409207046,
         20.715785071253777,
         19.47256808914244,
         17.851002261973917,
         19.627101324498653
        ],
        [
         2.8798221581647976,
         2.998428501604818,
         2.8829396690968547,
         2.8890772149292068,
         2.874861044418587,
         2.6515108041818465,
         2.9099171346236594,
         2.8583729484091664,
         2.8567616433558602,
         2.9196652649954657,
         2.8601458954786296,
         2.928396017042876,
         2.8458895275928153,
         2.7968476363830326,
         2.8945352968382037,
         2.811186656170454,
         2.8608913051433675,
         2.763284109458818,
         2.937676190076446,
         2.856705194592332,
         2.855696442548207,
         2.9341377562314,
         2.8132816729218675,
         2.8144589875609256,
         2.8529151330579072,
         2.962986924074566,
         2.9065702616711895,
         2.8038457884530996,
         2.883364515685546,
         2.9579936195193306,
         2.8446067912287427,
         2.6825324444787424,
         2.834461407043914,
         2.758472123652143,
         2.984787935096762,
         2.8168951316626454,
         2.812351446580914,
         2.886281165943905,
         2.8602543513000316,
         2.8732609503944024,
         2.857971317581866,
         2.944034459751373,
         2.8442847890280576,
         2.984280148003544,
         2.858829350375702,
         2.7141636543357768,
         2.8513615130531362,
         2.7495353776907034,
         2.8155468269022226,
         2.791075900283255,
         2.7900283434314868,
         2.924758665037427,
         2.817951758740197,
         2.734650151551425,
         2.886789838633594,
         2.884510812211057,
         2.8358961102146463,
         2.855222412421997,
         2.7463056616792016,
         2.8189905024030244,
         2.8519210040232568,
         2.9193618058931303,
         2.7873727038278733,
         2.850793235642489,
         2.8588148372105535,
         2.8830656191995807,
         2.7314524195291465,
         2.810221603430879,
         2.8735988118214895,
         2.9206155803971257,
         2.8984696813754667,
         2.80956503863943,
         2.818411885361237,
         2.7988470468599833,
         3.0624972996218993,
         2.8829305913238215,
         2.800079397393641,
         2.8174247435543465,
         2.781683111306884,
         2.848767911819023,
         2.8926965281841777,
         2.8065885267552133,
         2.8808233840323303,
         2.8176552283915015,
         2.9023409504602697,
         2.73590578687414,
         2.7700370161286387,
         2.799110061815342,
         2.7512865084230156,
         2.8193004873111542,
         2.9124518486536264,
         2.844495653995874,
         2.8098334156617613,
         2.7193324457341372,
         2.8459083060747914,
         2.9598805122217122,
         2.9776832574490792,
         2.832034946035656,
         2.6958687832452686,
         2.946343071431062
        ]
       ],
       "encoder": "json",
       "name": "ABC_GAN_3 Metrics",
       "version": 1
      }
     },
     "metadata": {
      "scrapbook": {
       "data": true,
       "display": false,
       "name": "ABC_GAN_3 Metrics"
      }
     },
     "output_type": "display_data"
    },
    {
     "name": "stdout",
     "output_type": "stream",
     "text": [
      "MSE\n",
      "0.07959813292838801\n"
     ]
    }
   ],
   "source": [
    "ABC_GAN3_metrics=ABC_train_test2.test_generator(gen3,test_data,prior_model,variance,0,\"3\",device)\n",
    "sb.glue(\"ABC_GAN_3 Metrics\",ABC_GAN3_metrics)\n",
    "\n",
    "print(\"MSE\")\n",
    "print(mean(ABC_GAN3_metrics[0]))"
   ]
  },
  {
   "cell_type": "code",
   "execution_count": 18,
   "id": "c8e46b48",
   "metadata": {
    "execution": {
     "iopub.execute_input": "2022-03-11T10:25:19.303076Z",
     "iopub.status.busy": "2022-03-11T10:25:19.302694Z",
     "iopub.status.idle": "2022-03-11T10:25:19.628076Z",
     "shell.execute_reply": "2022-03-11T10:25:19.628388Z"
    },
    "id": "c8e46b48",
    "papermill": {
     "duration": 0.344632,
     "end_time": "2022-03-11T10:25:19.628509",
     "exception": false,
     "start_time": "2022-03-11T10:25:19.283877",
     "status": "completed"
    },
    "tags": []
   },
   "outputs": [
    {
     "data": {
      "image/png": "[encoded data removed]",
      "text/plain": [
       "<Figure size 432x288 with 1 Axes>"
      ]
     },
     "metadata": {
      "needs_background": "light"
     },
     "output_type": "display_data"
    },
    {
     "data": {
      "image/png": "[encoded data removed]",
      "text/plain": [
       "<Figure size 432x288 with 1 Axes>"
      ]
     },
     "metadata": {
      "needs_background": "light"
     },
     "output_type": "display_data"
    },
    {
     "data": {
      "image/png": "[encoded data removed]",
      "text/plain": [
       "<Figure size 432x288 with 1 Axes>"
      ]
     },
     "metadata": {
      "needs_background": "light"
     },
     "output_type": "display_data"
    },
    {
     "data": {
      "image/png": "[encoded data removed]",
      "text/plain": [
       "<Figure size 432x288 with 1 Axes>"
      ]
     },
     "metadata": {
      "needs_background": "light"
     },
     "output_type": "display_data"
    }
   ],
   "source": [
    "sanityChecks.discProbVsError(train_data,disc3,device)\n",
    "sanityChecks.discProbVsError(test_data,disc3,device)"
   ]
  },
  {
   "cell_type": "markdown",
   "id": "a5bd74c3",
   "metadata": {
    "id": "a5bd74c3",
    "papermill": {
     "duration": 0.01949,
     "end_time": "2022-03-11T10:25:19.667672",
     "exception": false,
     "start_time": "2022-03-11T10:25:19.648182",
     "status": "completed"
    },
    "tags": []
   },
   "source": [
    "## Skip Connection Model Analysis - ABC-GAN "
   ]
  },
  {
   "cell_type": "markdown",
   "id": "5744a8bf",
   "metadata": {
    "id": "5744a8bf",
    "papermill": {
     "duration": 0.019075,
     "end_time": "2022-03-11T10:25:19.705949",
     "exception": false,
     "start_time": "2022-03-11T10:25:19.686874",
     "status": "completed"
    },
    "tags": []
   },
   "source": [
    "### Weight Analysis \n",
    "\n",
    "Study the weights of the skip connection layer\n",
    "\n",
    "Equation of the skip connection is \n",
    "\n",
    "$output = y_{gan} * w + y_{abc} * (1-w)$"
   ]
  },
  {
   "cell_type": "code",
   "execution_count": 19,
   "id": "52c31dea",
   "metadata": {
    "execution": {
     "iopub.execute_input": "2022-03-11T10:25:19.747097Z",
     "iopub.status.busy": "2022-03-11T10:25:19.746709Z",
     "iopub.status.idle": "2022-03-11T10:25:19.750119Z",
     "shell.execute_reply": "2022-03-11T10:25:19.750355Z"
    },
    "id": "52c31dea",
    "papermill": {
     "duration": 0.025437,
     "end_time": "2022-03-11T10:25:19.750469",
     "exception": false,
     "start_time": "2022-03-11T10:25:19.725032",
     "status": "completed"
    },
    "tags": []
   },
   "outputs": [
    {
     "name": "stdout",
     "output_type": "stream",
     "text": [
      "Weight of the node at skip connection\n",
      "Parameter containing:\n",
      "tensor([[0.5369]], requires_grad=True)\n"
     ]
    },
    {
     "data": {
      "application/scrapbook.scrap.json+json": {
       "data": 0.5369396209716797,
       "encoder": "json",
       "name": "Skip Connection Weight",
       "version": 1
      }
     },
     "metadata": {
      "scrapbook": {
       "data": true,
       "display": false,
       "name": "Skip Connection Weight"
      }
     },
     "output_type": "display_data"
    }
   ],
   "source": [
    "print(\"Weight of the node at skip connection\")\n",
    "for name,param in gen3.named_parameters():\n",
    "    if(name == \"skipNode.weight\"):\n",
    "        print(param)\n",
    "        sb.glue(\"Skip Connection Weight\",param.item())"
   ]
  }
 ],
 "metadata": {
  "colab": {
   "collapsed_sections": [],
   "name": "ABC_GAN_Model-Catboost_Pre-gen.ipynb",
   "provenance": []
  },
  "interpreter": {
   "hash": "31f2aee4e71d21fbe5cf8b01ff0e069b9275f58929596ceb00d14d90e3e16cd6"
  },
  "kernelspec": {
   "display_name": "Python 3 (ipykernel)",
   "language": "python",
   "name": "python3"
  },
  "language_info": {
   "codemirror_mode": {
    "name": "ipython",
    "version": 3
   },
   "file_extension": ".py",
   "mimetype": "text/x-python",
   "name": "python",
   "nbconvert_exporter": "python",
   "pygments_lexer": "ipython3",
   "version": "3.8.11"
  },
  "papermill": {
   "default_parameters": {},
   "duration": 189.596837,
   "end_time": "2022-03-11T10:25:20.077485",
   "environment_variables": {},
   "exception": null,
   "input_path": "ABC_GAN-Catboost.ipynb",
   "output_path": "./ABC_GAN_Catboost/ABC-GAN_output_6_1.ipynb",
   "parameters": {
    "variance": 0.1
   },
   "start_time": "2022-03-11T10:22:10.480648",
   "version": "2.3.3"
  }
 },
 "nbformat": 4,
 "nbformat_minor": 5
}