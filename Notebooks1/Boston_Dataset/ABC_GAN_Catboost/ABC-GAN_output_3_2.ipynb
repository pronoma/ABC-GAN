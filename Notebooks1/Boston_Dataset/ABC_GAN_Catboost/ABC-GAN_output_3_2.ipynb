{
 "cells": [
  {
   "cell_type": "markdown",
   "id": "622780e6",
   "metadata": {
    "id": "622780e6",
    "papermill": {
     "duration": 0.034065,
     "end_time": "2022-03-11T09:56:22.038282",
     "exception": false,
     "start_time": "2022-03-11T09:56:22.004217",
     "status": "completed"
    },
    "tags": []
   },
   "source": [
    "## Import Libraries "
   ]
  },
  {
   "cell_type": "code",
   "execution_count": 1,
   "id": "a62397e3",
   "metadata": {
    "execution": {
     "iopub.execute_input": "2022-03-11T09:56:22.074041Z",
     "iopub.status.busy": "2022-03-11T09:56:22.073469Z",
     "iopub.status.idle": "2022-03-11T09:56:22.075854Z",
     "shell.execute_reply": "2022-03-11T09:56:22.076186Z"
    },
    "id": "a62397e3",
    "papermill": {
     "duration": 0.021685,
     "end_time": "2022-03-11T09:56:22.076385",
     "exception": false,
     "start_time": "2022-03-11T09:56:22.054700",
     "status": "completed"
    },
    "tags": []
   },
   "outputs": [],
   "source": [
    "import warnings\n",
    "import sys\n",
    "sys.path.insert(0, '../../src')\n",
    "warnings.filterwarnings('ignore')"
   ]
  },
  {
   "cell_type": "code",
   "execution_count": 2,
   "id": "d6a4e155",
   "metadata": {
    "execution": {
     "iopub.execute_input": "2022-03-11T09:56:22.096877Z",
     "iopub.status.busy": "2022-03-11T09:56:22.096466Z",
     "iopub.status.idle": "2022-03-11T09:56:23.930325Z",
     "shell.execute_reply": "2022-03-11T09:56:23.930585Z"
    },
    "id": "d6a4e155",
    "papermill": {
     "duration": 1.844632,
     "end_time": "2022-03-11T09:56:23.930708",
     "exception": false,
     "start_time": "2022-03-11T09:56:22.086076",
     "status": "completed"
    },
    "tags": []
   },
   "outputs": [],
   "source": [
    "import ABC_train_test2\n",
    "import bostonDataset\n",
    "import network\n",
    "import dataset\n",
    "import sanityChecks\n",
    "import torch \n",
    "import scrapbook as sb\n",
    "from statistics import mean \n",
    "import catboost as ctb \n",
    "from sklearn.model_selection import train_test_split\n",
    "from sklearn.metrics import mean_squared_error,mean_absolute_error\n",
    "import numpy as np"
   ]
  },
  {
   "cell_type": "markdown",
   "id": "2fa5b0f7",
   "metadata": {
    "id": "2fa5b0f7",
    "papermill": {
     "duration": 0.0068,
     "end_time": "2022-03-11T09:56:23.944714",
     "exception": false,
     "start_time": "2022-03-11T09:56:23.937914",
     "status": "completed"
    },
    "tags": []
   },
   "source": [
    "## Parameters "
   ]
  },
  {
   "cell_type": "code",
   "execution_count": 3,
   "id": "783186fb",
   "metadata": {
    "execution": {
     "iopub.execute_input": "2022-03-11T09:56:23.960491Z",
     "iopub.status.busy": "2022-03-11T09:56:23.960126Z",
     "iopub.status.idle": "2022-03-11T09:56:23.961296Z",
     "shell.execute_reply": "2022-03-11T09:56:23.961578Z"
    },
    "id": "783186fb",
    "papermill": {
     "duration": 0.010199,
     "end_time": "2022-03-11T09:56:23.961686",
     "exception": false,
     "start_time": "2022-03-11T09:56:23.951487",
     "status": "completed"
    },
    "tags": [
     "parameters"
    ]
   },
   "outputs": [],
   "source": [
    "variance = 1"
   ]
  },
  {
   "cell_type": "code",
   "execution_count": 4,
   "id": "614e746b",
   "metadata": {
    "execution": {
     "iopub.execute_input": "2022-03-11T09:56:23.977310Z",
     "iopub.status.busy": "2022-03-11T09:56:23.976948Z",
     "iopub.status.idle": "2022-03-11T09:56:23.978288Z",
     "shell.execute_reply": "2022-03-11T09:56:23.978533Z"
    },
    "papermill": {
     "duration": 0.009993,
     "end_time": "2022-03-11T09:56:23.978641",
     "exception": false,
     "start_time": "2022-03-11T09:56:23.968648",
     "status": "completed"
    },
    "tags": [
     "injected-parameters"
    ]
   },
   "outputs": [],
   "source": [
    "# Parameters\n",
    "variance = 0.01\n"
   ]
  },
  {
   "cell_type": "markdown",
   "id": "391cdbfd",
   "metadata": {
    "id": "391cdbfd",
    "papermill": {
     "duration": 0.006819,
     "end_time": "2022-03-11T09:56:23.992391",
     "exception": false,
     "start_time": "2022-03-11T09:56:23.985572",
     "status": "completed"
    },
    "tags": []
   },
   "source": [
    "## Dataset \n"
   ]
  },
  {
   "cell_type": "code",
   "execution_count": 5,
   "id": "5b51f161",
   "metadata": {
    "execution": {
     "iopub.execute_input": "2022-03-11T09:56:24.008004Z",
     "iopub.status.busy": "2022-03-11T09:56:24.007628Z",
     "iopub.status.idle": "2022-03-11T09:56:24.008843Z",
     "shell.execute_reply": "2022-03-11T09:56:24.009084Z"
    },
    "id": "5b51f161",
    "papermill": {
     "duration": 0.009959,
     "end_time": "2022-03-11T09:56:24.009192",
     "exception": false,
     "start_time": "2022-03-11T09:56:23.999233",
     "status": "completed"
    },
    "tags": []
   },
   "outputs": [],
   "source": [
    "#Parameters \n",
    "n_features = 13\n",
    "n_samples= 506\n",
    "n_target = 1 "
   ]
  },
  {
   "cell_type": "code",
   "execution_count": 6,
   "id": "5d6eced4",
   "metadata": {
    "execution": {
     "iopub.execute_input": "2022-03-11T09:56:24.024961Z",
     "iopub.status.busy": "2022-03-11T09:56:24.024587Z",
     "iopub.status.idle": "2022-03-11T09:56:24.035282Z",
     "shell.execute_reply": "2022-03-11T09:56:24.035522Z"
    },
    "id": "5d6eced4",
    "papermill": {
     "duration": 0.01945,
     "end_time": "2022-03-11T09:56:24.035631",
     "exception": false,
     "start_time": "2022-03-11T09:56:24.016181",
     "status": "completed"
    },
    "tags": []
   },
   "outputs": [
    {
     "name": "stdout",
     "output_type": "stream",
     "text": [
      "         X1        X2        X3        X4        X5        X6        X7  \\\n",
      "0 -0.419782  0.284830 -1.287909 -0.272599 -0.144217  0.413672 -0.120013   \n",
      "1 -0.417339 -0.487722 -0.593381 -0.272599 -0.740262  0.194274  0.367166   \n",
      "2 -0.417342 -0.487722 -0.593381 -0.272599 -0.740262  1.282714 -0.265812   \n",
      "3 -0.416750 -0.487722 -1.306878 -0.272599 -0.835284  1.016303 -0.809889   \n",
      "4 -0.412482 -0.487722 -1.306878 -0.272599 -0.835284  1.228577 -0.511180   \n",
      "\n",
      "         X8        X9       X10       X11       X12       X13         Y  \n",
      "0  0.140214 -0.982843 -0.666608 -1.459000  0.441052 -1.075562  0.159686  \n",
      "1  0.557160 -0.867883 -0.987329 -0.303094  0.441052 -0.492439 -0.101524  \n",
      "2  0.557160 -0.867883 -0.987329 -0.303094  0.396427 -1.208727  1.324247  \n",
      "3  1.077737 -0.752922 -1.106115  0.113032  0.416163 -1.361517  1.182758  \n",
      "4  1.077737 -0.752922 -1.106115  0.113032  0.441052 -1.026501  1.487503  \n"
     ]
    }
   ],
   "source": [
    "X,Y = bostonDataset.boston_data()"
   ]
  },
  {
   "cell_type": "code",
   "execution_count": 7,
   "id": "fe007438",
   "metadata": {
    "execution": {
     "iopub.execute_input": "2022-03-11T09:56:24.052907Z",
     "iopub.status.busy": "2022-03-11T09:56:24.052540Z",
     "iopub.status.idle": "2022-03-11T09:56:24.053824Z",
     "shell.execute_reply": "2022-03-11T09:56:24.054071Z"
    },
    "id": "fe007438",
    "papermill": {
     "duration": 0.011166,
     "end_time": "2022-03-11T09:56:24.054178",
     "exception": false,
     "start_time": "2022-03-11T09:56:24.043012",
     "status": "completed"
    },
    "tags": []
   },
   "outputs": [],
   "source": [
    "#Train test split for dataset \n",
    "X_train,X_test,Y_train,Y_test = train_test_split(X,Y,test_size = 0.2)\n",
    "train_data = dataset.CustomDataset(X_train,Y_train)\n",
    "test_data = dataset.CustomDataset(X_test,Y_test)\n"
   ]
  },
  {
   "cell_type": "markdown",
   "id": "a9a1af34",
   "metadata": {
    "id": "a9a1af34",
    "papermill": {
     "duration": 0.007163,
     "end_time": "2022-03-11T09:56:24.068559",
     "exception": false,
     "start_time": "2022-03-11T09:56:24.061396",
     "status": "completed"
    },
    "tags": []
   },
   "source": [
    "## Training Parameters "
   ]
  },
  {
   "cell_type": "code",
   "execution_count": 8,
   "id": "952b7fc8",
   "metadata": {
    "execution": {
     "iopub.execute_input": "2022-03-11T09:56:24.084982Z",
     "iopub.status.busy": "2022-03-11T09:56:24.084622Z",
     "iopub.status.idle": "2022-03-11T09:56:24.085904Z",
     "shell.execute_reply": "2022-03-11T09:56:24.086151Z"
    },
    "id": "952b7fc8",
    "papermill": {
     "duration": 0.010574,
     "end_time": "2022-03-11T09:56:24.086260",
     "exception": false,
     "start_time": "2022-03-11T09:56:24.075686",
     "status": "completed"
    },
    "tags": []
   },
   "outputs": [],
   "source": [
    "batch_size = 64\n",
    "n_epochs = 1000\n",
    "#Select the device \n",
    "device = torch.device('cuda' if torch.cuda.is_available() else 'cpu')"
   ]
  },
  {
   "cell_type": "markdown",
   "id": "a95e1600",
   "metadata": {
    "id": "a95e1600",
    "papermill": {
     "duration": 0.007171,
     "end_time": "2022-03-11T09:56:24.100683",
     "exception": false,
     "start_time": "2022-03-11T09:56:24.093512",
     "status": "completed"
    },
    "tags": []
   },
   "source": [
    "# ABC Pre-generator Model \n",
    "\n",
    "1. The catboost model is used as a pre-generator model for the ABC-GAN. \n",
    "2. The model is first trained on the entire dataset \n",
    "3. It generats X,Y pairs and we add some Gaussian noise with mean 0 and variance 1 to it which is then feed as input to the generator.\n"
   ]
  },
  {
   "cell_type": "code",
   "execution_count": 9,
   "id": "ff8ce7bd",
   "metadata": {
    "execution": {
     "iopub.execute_input": "2022-03-11T09:56:24.119784Z",
     "iopub.status.busy": "2022-03-11T09:56:24.119347Z",
     "iopub.status.idle": "2022-03-11T09:56:25.069320Z",
     "shell.execute_reply": "2022-03-11T09:56:25.069608Z"
    },
    "id": "ff8ce7bd",
    "papermill": {
     "duration": 0.961827,
     "end_time": "2022-03-11T09:56:25.069729",
     "exception": false,
     "start_time": "2022-03-11T09:56:24.107902",
     "status": "completed"
    },
    "tags": []
   },
   "outputs": [
    {
     "name": "stdout",
     "output_type": "stream",
     "text": [
      "Learning rate set to 0.033215\n",
      "0:\tlearn: 0.9735053\ttotal: 59.6ms\tremaining: 59.5s\n",
      "1:\tlearn: 0.9530851\ttotal: 60.6ms\tremaining: 30.2s\n",
      "2:\tlearn: 0.9335841\ttotal: 61.5ms\tremaining: 20.4s\n",
      "3:\tlearn: 0.9175388\ttotal: 62.3ms\tremaining: 15.5s\n",
      "4:\tlearn: 0.9000268\ttotal: 63.3ms\tremaining: 12.6s\n",
      "5:\tlearn: 0.8831382\ttotal: 64.1ms\tremaining: 10.6s\n",
      "6:\tlearn: 0.8658426\ttotal: 64.9ms\tremaining: 9.21s\n",
      "7:\tlearn: 0.8492335\ttotal: 66ms\tremaining: 8.18s\n",
      "8:\tlearn: 0.8331022\ttotal: 66.8ms\tremaining: 7.35s\n",
      "9:\tlearn: 0.8164198\ttotal: 67.7ms\tremaining: 6.7s\n",
      "10:\tlearn: 0.8008915\ttotal: 68.4ms\tremaining: 6.15s\n",
      "11:\tlearn: 0.7863318\ttotal: 69.2ms\tremaining: 5.7s\n",
      "12:\tlearn: 0.7710633\ttotal: 70.2ms\tremaining: 5.33s\n",
      "13:\tlearn: 0.7553173\ttotal: 71.1ms\tremaining: 5s\n",
      "14:\tlearn: 0.7438596\ttotal: 71.9ms\tremaining: 4.72s\n",
      "15:\tlearn: 0.7293082\ttotal: 72.7ms\tremaining: 4.47s\n",
      "16:\tlearn: 0.7156913\ttotal: 73.5ms\tremaining: 4.25s\n",
      "17:\tlearn: 0.7028313\ttotal: 74.4ms\tremaining: 4.06s\n",
      "18:\tlearn: 0.6894291\ttotal: 75.1ms\tremaining: 3.88s\n",
      "19:\tlearn: 0.6771424\ttotal: 75.9ms\tremaining: 3.72s\n",
      "20:\tlearn: 0.6648904\ttotal: 76.7ms\tremaining: 3.58s\n",
      "21:\tlearn: 0.6540584\ttotal: 77.4ms\tremaining: 3.44s\n",
      "22:\tlearn: 0.6429101\ttotal: 78.2ms\tremaining: 3.32s\n",
      "23:\tlearn: 0.6335031\ttotal: 78.9ms\tremaining: 3.21s\n",
      "24:\tlearn: 0.6240439\ttotal: 79.6ms\tremaining: 3.1s\n",
      "25:\tlearn: 0.6154250\ttotal: 80.2ms\tremaining: 3s\n",
      "26:\tlearn: 0.6065923\ttotal: 81.1ms\tremaining: 2.92s\n",
      "27:\tlearn: 0.5973802\ttotal: 81.8ms\tremaining: 2.84s\n",
      "28:\tlearn: 0.5870289\ttotal: 82.5ms\tremaining: 2.76s\n",
      "29:\tlearn: 0.5773060\ttotal: 83.4ms\tremaining: 2.69s\n",
      "30:\tlearn: 0.5687102\ttotal: 84.2ms\tremaining: 2.63s\n",
      "31:\tlearn: 0.5607710\ttotal: 85.1ms\tremaining: 2.57s\n",
      "32:\tlearn: 0.5529506\ttotal: 85.9ms\tremaining: 2.52s\n",
      "33:\tlearn: 0.5454992\ttotal: 86.8ms\tremaining: 2.46s\n",
      "34:\tlearn: 0.5377208\ttotal: 87.5ms\tremaining: 2.41s\n",
      "35:\tlearn: 0.5302598\ttotal: 88.4ms\tremaining: 2.37s\n",
      "36:\tlearn: 0.5238208\ttotal: 89.2ms\tremaining: 2.32s\n",
      "37:\tlearn: 0.5162032\ttotal: 89.9ms\tremaining: 2.28s\n",
      "38:\tlearn: 0.5089348\ttotal: 90.7ms\tremaining: 2.23s\n",
      "39:\tlearn: 0.5004462\ttotal: 91.5ms\tremaining: 2.2s\n",
      "40:\tlearn: 0.4945477\ttotal: 92.4ms\tremaining: 2.16s\n",
      "41:\tlearn: 0.4885197\ttotal: 93.3ms\tremaining: 2.13s\n",
      "42:\tlearn: 0.4836337\ttotal: 94.2ms\tremaining: 2.1s\n",
      "43:\tlearn: 0.4777043\ttotal: 95ms\tremaining: 2.06s\n",
      "44:\tlearn: 0.4721807\ttotal: 95.7ms\tremaining: 2.03s\n",
      "45:\tlearn: 0.4668921\ttotal: 96.6ms\tremaining: 2s\n",
      "46:\tlearn: 0.4620390\ttotal: 97.4ms\tremaining: 1.98s\n",
      "47:\tlearn: 0.4563657\ttotal: 98.2ms\tremaining: 1.95s\n",
      "48:\tlearn: 0.4521105\ttotal: 99ms\tremaining: 1.92s\n",
      "49:\tlearn: 0.4474904\ttotal: 99.8ms\tremaining: 1.9s\n",
      "50:\tlearn: 0.4422609\ttotal: 101ms\tremaining: 1.87s\n",
      "51:\tlearn: 0.4372442\ttotal: 101ms\tremaining: 1.85s\n",
      "52:\tlearn: 0.4323930\ttotal: 102ms\tremaining: 1.82s\n",
      "53:\tlearn: 0.4284794\ttotal: 103ms\tremaining: 1.8s\n",
      "54:\tlearn: 0.4234348\ttotal: 104ms\tremaining: 1.78s\n",
      "55:\tlearn: 0.4196828\ttotal: 104ms\tremaining: 1.76s\n",
      "56:\tlearn: 0.4159800\ttotal: 105ms\tremaining: 1.74s\n",
      "57:\tlearn: 0.4114600\ttotal: 106ms\tremaining: 1.72s\n",
      "58:\tlearn: 0.4081375\ttotal: 107ms\tremaining: 1.7s\n",
      "59:\tlearn: 0.4045204\ttotal: 108ms\tremaining: 1.69s\n"
     ]
    },
    {
     "name": "stdout",
     "output_type": "stream",
     "text": [
      "60:\tlearn: 0.4010743\ttotal: 109ms\tremaining: 1.67s\n",
      "61:\tlearn: 0.3974778\ttotal: 110ms\tremaining: 1.66s\n",
      "62:\tlearn: 0.3948360\ttotal: 111ms\tremaining: 1.64s\n",
      "63:\tlearn: 0.3913909\ttotal: 112ms\tremaining: 1.63s\n",
      "64:\tlearn: 0.3882527\ttotal: 112ms\tremaining: 1.62s\n",
      "65:\tlearn: 0.3843361\ttotal: 113ms\tremaining: 1.6s\n",
      "66:\tlearn: 0.3811241\ttotal: 114ms\tremaining: 1.59s\n",
      "67:\tlearn: 0.3784052\ttotal: 115ms\tremaining: 1.57s\n",
      "68:\tlearn: 0.3753549\ttotal: 116ms\tremaining: 1.56s\n",
      "69:\tlearn: 0.3721721\ttotal: 117ms\tremaining: 1.55s\n",
      "70:\tlearn: 0.3695358\ttotal: 118ms\tremaining: 1.54s\n",
      "71:\tlearn: 0.3656871\ttotal: 118ms\tremaining: 1.53s\n",
      "72:\tlearn: 0.3633246\ttotal: 119ms\tremaining: 1.51s\n",
      "73:\tlearn: 0.3595915\ttotal: 120ms\tremaining: 1.5s\n",
      "74:\tlearn: 0.3572179\ttotal: 121ms\tremaining: 1.49s\n",
      "75:\tlearn: 0.3550626\ttotal: 122ms\tremaining: 1.48s\n",
      "76:\tlearn: 0.3524802\ttotal: 123ms\tremaining: 1.47s\n",
      "77:\tlearn: 0.3493118\ttotal: 123ms\tremaining: 1.46s\n",
      "78:\tlearn: 0.3470759\ttotal: 124ms\tremaining: 1.45s\n",
      "79:\tlearn: 0.3450876\ttotal: 125ms\tremaining: 1.44s\n",
      "80:\tlearn: 0.3431055\ttotal: 126ms\tremaining: 1.43s\n",
      "81:\tlearn: 0.3405977\ttotal: 127ms\tremaining: 1.42s\n",
      "82:\tlearn: 0.3379721\ttotal: 128ms\tremaining: 1.41s\n",
      "83:\tlearn: 0.3357643\ttotal: 128ms\tremaining: 1.4s\n",
      "84:\tlearn: 0.3333022\ttotal: 129ms\tremaining: 1.39s\n",
      "85:\tlearn: 0.3310116\ttotal: 130ms\tremaining: 1.38s\n",
      "86:\tlearn: 0.3291615\ttotal: 131ms\tremaining: 1.37s\n",
      "87:\tlearn: 0.3270637\ttotal: 132ms\tremaining: 1.36s\n",
      "88:\tlearn: 0.3253040\ttotal: 132ms\tremaining: 1.36s\n",
      "89:\tlearn: 0.3234475\ttotal: 133ms\tremaining: 1.35s\n",
      "90:\tlearn: 0.3212772\ttotal: 134ms\tremaining: 1.34s\n",
      "91:\tlearn: 0.3196557\ttotal: 135ms\tremaining: 1.33s\n",
      "92:\tlearn: 0.3181267\ttotal: 136ms\tremaining: 1.32s\n",
      "93:\tlearn: 0.3161716\ttotal: 137ms\tremaining: 1.32s\n",
      "94:\tlearn: 0.3143870\ttotal: 137ms\tremaining: 1.31s\n",
      "95:\tlearn: 0.3139361\ttotal: 138ms\tremaining: 1.3s\n",
      "96:\tlearn: 0.3124213\ttotal: 139ms\tremaining: 1.29s\n",
      "97:\tlearn: 0.3109076\ttotal: 140ms\tremaining: 1.28s\n",
      "98:\tlearn: 0.3094746\ttotal: 140ms\tremaining: 1.28s\n",
      "99:\tlearn: 0.3080768\ttotal: 141ms\tremaining: 1.27s\n",
      "100:\tlearn: 0.3070572\ttotal: 142ms\tremaining: 1.26s\n",
      "101:\tlearn: 0.3054760\ttotal: 143ms\tremaining: 1.26s\n",
      "102:\tlearn: 0.3042994\ttotal: 143ms\tremaining: 1.25s\n",
      "103:\tlearn: 0.3028075\ttotal: 144ms\tremaining: 1.24s\n",
      "104:\tlearn: 0.3015301\ttotal: 145ms\tremaining: 1.24s\n",
      "105:\tlearn: 0.3000885\ttotal: 146ms\tremaining: 1.23s\n",
      "106:\tlearn: 0.2985321\ttotal: 147ms\tremaining: 1.22s\n",
      "107:\tlearn: 0.2965822\ttotal: 147ms\tremaining: 1.22s\n",
      "108:\tlearn: 0.2951864\ttotal: 148ms\tremaining: 1.21s\n",
      "109:\tlearn: 0.2938665\ttotal: 149ms\tremaining: 1.2s\n",
      "110:\tlearn: 0.2928274\ttotal: 150ms\tremaining: 1.2s\n",
      "111:\tlearn: 0.2918098\ttotal: 150ms\tremaining: 1.19s\n",
      "112:\tlearn: 0.2903100\ttotal: 151ms\tremaining: 1.19s\n",
      "113:\tlearn: 0.2892202\ttotal: 152ms\tremaining: 1.18s\n",
      "114:\tlearn: 0.2876220\ttotal: 153ms\tremaining: 1.18s\n",
      "115:\tlearn: 0.2867123\ttotal: 154ms\tremaining: 1.17s\n",
      "116:\tlearn: 0.2854259\ttotal: 155ms\tremaining: 1.17s\n",
      "117:\tlearn: 0.2844345\ttotal: 156ms\tremaining: 1.16s\n",
      "118:\tlearn: 0.2833148\ttotal: 156ms\tremaining: 1.16s\n",
      "119:\tlearn: 0.2825588\ttotal: 157ms\tremaining: 1.15s\n",
      "120:\tlearn: 0.2814750\ttotal: 158ms\tremaining: 1.15s\n",
      "121:\tlearn: 0.2804239\ttotal: 159ms\tremaining: 1.14s\n",
      "122:\tlearn: 0.2795297\ttotal: 160ms\tremaining: 1.14s\n",
      "123:\tlearn: 0.2785302\ttotal: 161ms\tremaining: 1.13s\n",
      "124:\tlearn: 0.2776270\ttotal: 162ms\tremaining: 1.13s\n",
      "125:\tlearn: 0.2766847\ttotal: 163ms\tremaining: 1.13s\n",
      "126:\tlearn: 0.2753066\ttotal: 164ms\tremaining: 1.13s\n",
      "127:\tlearn: 0.2748346\ttotal: 165ms\tremaining: 1.12s\n",
      "128:\tlearn: 0.2737674\ttotal: 166ms\tremaining: 1.12s\n",
      "129:\tlearn: 0.2727026\ttotal: 166ms\tremaining: 1.11s\n",
      "130:\tlearn: 0.2720088\ttotal: 167ms\tremaining: 1.11s\n",
      "131:\tlearn: 0.2711217\ttotal: 168ms\tremaining: 1.11s\n",
      "132:\tlearn: 0.2701035\ttotal: 169ms\tremaining: 1.1s\n",
      "133:\tlearn: 0.2690481\ttotal: 170ms\tremaining: 1.1s\n",
      "134:\tlearn: 0.2681805\ttotal: 171ms\tremaining: 1.1s\n",
      "135:\tlearn: 0.2672559\ttotal: 172ms\tremaining: 1.09s\n",
      "136:\tlearn: 0.2667021\ttotal: 173ms\tremaining: 1.09s\n",
      "137:\tlearn: 0.2656109\ttotal: 174ms\tremaining: 1.09s\n",
      "138:\tlearn: 0.2642320\ttotal: 175ms\tremaining: 1.08s\n",
      "139:\tlearn: 0.2636015\ttotal: 176ms\tremaining: 1.08s\n",
      "140:\tlearn: 0.2627455\ttotal: 177ms\tremaining: 1.08s\n",
      "141:\tlearn: 0.2622081\ttotal: 178ms\tremaining: 1.07s\n",
      "142:\tlearn: 0.2613708\ttotal: 178ms\tremaining: 1.07s\n",
      "143:\tlearn: 0.2605483\ttotal: 179ms\tremaining: 1.07s\n",
      "144:\tlearn: 0.2595297\ttotal: 180ms\tremaining: 1.06s\n",
      "145:\tlearn: 0.2586582\ttotal: 181ms\tremaining: 1.06s\n",
      "146:\tlearn: 0.2582312\ttotal: 182ms\tremaining: 1.06s\n",
      "147:\tlearn: 0.2569758\ttotal: 183ms\tremaining: 1.05s\n",
      "148:\tlearn: 0.2564959\ttotal: 184ms\tremaining: 1.05s\n",
      "149:\tlearn: 0.2557163\ttotal: 185ms\tremaining: 1.05s\n",
      "150:\tlearn: 0.2547220\ttotal: 186ms\tremaining: 1.04s\n",
      "151:\tlearn: 0.2538738\ttotal: 187ms\tremaining: 1.04s\n",
      "152:\tlearn: 0.2534024\ttotal: 188ms\tremaining: 1.04s\n",
      "153:\tlearn: 0.2526273\ttotal: 189ms\tremaining: 1.04s\n",
      "154:\tlearn: 0.2515430\ttotal: 190ms\tremaining: 1.03s\n",
      "155:\tlearn: 0.2514155\ttotal: 190ms\tremaining: 1.03s\n",
      "156:\tlearn: 0.2507021\ttotal: 191ms\tremaining: 1.02s\n"
     ]
    },
    {
     "name": "stdout",
     "output_type": "stream",
     "text": [
      "157:\tlearn: 0.2499108\ttotal: 192ms\tremaining: 1.02s\n",
      "158:\tlearn: 0.2490607\ttotal: 193ms\tremaining: 1.02s\n",
      "159:\tlearn: 0.2489249\ttotal: 194ms\tremaining: 1.02s\n",
      "160:\tlearn: 0.2479353\ttotal: 194ms\tremaining: 1.01s\n",
      "161:\tlearn: 0.2472284\ttotal: 195ms\tremaining: 1.01s\n",
      "162:\tlearn: 0.2465972\ttotal: 196ms\tremaining: 1.01s\n",
      "163:\tlearn: 0.2460615\ttotal: 197ms\tremaining: 1s\n",
      "164:\tlearn: 0.2452758\ttotal: 198ms\tremaining: 1s\n",
      "165:\tlearn: 0.2449685\ttotal: 198ms\tremaining: 997ms\n",
      "166:\tlearn: 0.2438001\ttotal: 199ms\tremaining: 993ms\n",
      "167:\tlearn: 0.2430208\ttotal: 200ms\tremaining: 990ms\n",
      "168:\tlearn: 0.2424887\ttotal: 201ms\tremaining: 987ms\n",
      "169:\tlearn: 0.2420400\ttotal: 202ms\tremaining: 984ms\n",
      "170:\tlearn: 0.2412743\ttotal: 202ms\tremaining: 981ms\n",
      "171:\tlearn: 0.2405696\ttotal: 203ms\tremaining: 978ms\n",
      "172:\tlearn: 0.2399897\ttotal: 204ms\tremaining: 975ms\n",
      "173:\tlearn: 0.2393377\ttotal: 205ms\tremaining: 972ms\n",
      "174:\tlearn: 0.2388932\ttotal: 206ms\tremaining: 969ms\n",
      "175:\tlearn: 0.2382597\ttotal: 206ms\tremaining: 966ms\n",
      "176:\tlearn: 0.2377459\ttotal: 207ms\tremaining: 963ms\n",
      "177:\tlearn: 0.2372682\ttotal: 208ms\tremaining: 960ms\n",
      "178:\tlearn: 0.2366462\ttotal: 209ms\tremaining: 957ms\n",
      "179:\tlearn: 0.2357434\ttotal: 210ms\tremaining: 955ms\n",
      "180:\tlearn: 0.2350220\ttotal: 210ms\tremaining: 952ms\n",
      "181:\tlearn: 0.2343606\ttotal: 211ms\tremaining: 949ms\n",
      "182:\tlearn: 0.2337056\ttotal: 212ms\tremaining: 946ms\n",
      "183:\tlearn: 0.2331613\ttotal: 213ms\tremaining: 943ms\n",
      "184:\tlearn: 0.2324109\ttotal: 214ms\tremaining: 941ms\n",
      "185:\tlearn: 0.2319793\ttotal: 214ms\tremaining: 938ms\n",
      "186:\tlearn: 0.2315977\ttotal: 215ms\tremaining: 935ms\n",
      "187:\tlearn: 0.2308451\ttotal: 216ms\tremaining: 933ms\n",
      "188:\tlearn: 0.2304721\ttotal: 217ms\tremaining: 930ms\n",
      "189:\tlearn: 0.2299253\ttotal: 218ms\tremaining: 928ms\n",
      "190:\tlearn: 0.2293221\ttotal: 219ms\tremaining: 926ms\n",
      "191:\tlearn: 0.2287447\ttotal: 219ms\tremaining: 923ms\n",
      "192:\tlearn: 0.2282604\ttotal: 220ms\tremaining: 920ms\n",
      "193:\tlearn: 0.2278643\ttotal: 221ms\tremaining: 918ms\n",
      "194:\tlearn: 0.2271510\ttotal: 222ms\tremaining: 915ms\n",
      "195:\tlearn: 0.2267784\ttotal: 223ms\tremaining: 913ms\n",
      "196:\tlearn: 0.2262924\ttotal: 224ms\tremaining: 911ms\n",
      "197:\tlearn: 0.2258845\ttotal: 224ms\tremaining: 908ms\n",
      "198:\tlearn: 0.2254478\ttotal: 225ms\tremaining: 906ms\n",
      "199:\tlearn: 0.2251955\ttotal: 226ms\tremaining: 904ms\n",
      "200:\tlearn: 0.2244987\ttotal: 227ms\tremaining: 902ms\n",
      "201:\tlearn: 0.2238270\ttotal: 228ms\tremaining: 899ms\n",
      "202:\tlearn: 0.2233375\ttotal: 228ms\tremaining: 897ms\n",
      "203:\tlearn: 0.2224317\ttotal: 229ms\tremaining: 894ms\n",
      "204:\tlearn: 0.2219195\ttotal: 230ms\tremaining: 892ms\n",
      "205:\tlearn: 0.2214027\ttotal: 231ms\tremaining: 890ms\n",
      "206:\tlearn: 0.2207648\ttotal: 232ms\tremaining: 887ms\n",
      "207:\tlearn: 0.2200415\ttotal: 232ms\tremaining: 885ms\n",
      "208:\tlearn: 0.2194768\ttotal: 233ms\tremaining: 883ms\n",
      "209:\tlearn: 0.2188799\ttotal: 234ms\tremaining: 881ms\n",
      "210:\tlearn: 0.2182353\ttotal: 235ms\tremaining: 879ms\n",
      "211:\tlearn: 0.2176763\ttotal: 236ms\tremaining: 876ms\n",
      "212:\tlearn: 0.2170176\ttotal: 237ms\tremaining: 874ms\n",
      "213:\tlearn: 0.2165576\ttotal: 237ms\tremaining: 872ms\n",
      "214:\tlearn: 0.2161472\ttotal: 238ms\tremaining: 870ms\n",
      "215:\tlearn: 0.2157449\ttotal: 239ms\tremaining: 867ms\n",
      "216:\tlearn: 0.2151262\ttotal: 240ms\tremaining: 865ms\n",
      "217:\tlearn: 0.2144512\ttotal: 241ms\tremaining: 863ms\n",
      "218:\tlearn: 0.2139953\ttotal: 241ms\tremaining: 861ms\n",
      "219:\tlearn: 0.2136178\ttotal: 242ms\tremaining: 859ms\n",
      "220:\tlearn: 0.2133265\ttotal: 243ms\tremaining: 857ms\n",
      "221:\tlearn: 0.2128827\ttotal: 244ms\tremaining: 856ms\n",
      "222:\tlearn: 0.2122535\ttotal: 245ms\tremaining: 854ms\n",
      "223:\tlearn: 0.2118322\ttotal: 246ms\tremaining: 852ms\n",
      "224:\tlearn: 0.2112124\ttotal: 247ms\tremaining: 849ms\n",
      "225:\tlearn: 0.2108546\ttotal: 247ms\tremaining: 848ms\n",
      "226:\tlearn: 0.2105571\ttotal: 248ms\tremaining: 845ms\n",
      "227:\tlearn: 0.2102367\ttotal: 249ms\tremaining: 843ms\n",
      "228:\tlearn: 0.2099209\ttotal: 250ms\tremaining: 842ms\n",
      "229:\tlearn: 0.2094484\ttotal: 251ms\tremaining: 840ms\n",
      "230:\tlearn: 0.2090959\ttotal: 252ms\tremaining: 838ms\n",
      "231:\tlearn: 0.2086743\ttotal: 253ms\tremaining: 836ms\n",
      "232:\tlearn: 0.2083127\ttotal: 253ms\tremaining: 834ms\n",
      "233:\tlearn: 0.2079810\ttotal: 254ms\tremaining: 832ms\n",
      "234:\tlearn: 0.2075497\ttotal: 255ms\tremaining: 829ms\n",
      "235:\tlearn: 0.2071964\ttotal: 256ms\tremaining: 827ms\n",
      "236:\tlearn: 0.2067689\ttotal: 256ms\tremaining: 825ms\n",
      "237:\tlearn: 0.2064275\ttotal: 257ms\tremaining: 824ms\n",
      "238:\tlearn: 0.2059055\ttotal: 258ms\tremaining: 822ms\n",
      "239:\tlearn: 0.2055685\ttotal: 259ms\tremaining: 820ms\n",
      "240:\tlearn: 0.2052605\ttotal: 260ms\tremaining: 818ms\n",
      "241:\tlearn: 0.2047547\ttotal: 260ms\tremaining: 816ms\n",
      "242:\tlearn: 0.2043661\ttotal: 261ms\tremaining: 814ms\n",
      "243:\tlearn: 0.2040903\ttotal: 262ms\tremaining: 812ms\n",
      "244:\tlearn: 0.2037061\ttotal: 263ms\tremaining: 810ms\n",
      "245:\tlearn: 0.2032021\ttotal: 264ms\tremaining: 809ms\n",
      "246:\tlearn: 0.2028097\ttotal: 265ms\tremaining: 807ms\n",
      "247:\tlearn: 0.2025000\ttotal: 265ms\tremaining: 805ms\n",
      "248:\tlearn: 0.2020669\ttotal: 266ms\tremaining: 803ms\n",
      "249:\tlearn: 0.2016076\ttotal: 267ms\tremaining: 801ms\n",
      "250:\tlearn: 0.2013460\ttotal: 268ms\tremaining: 799ms\n",
      "251:\tlearn: 0.2010282\ttotal: 269ms\tremaining: 798ms\n",
      "252:\tlearn: 0.2007605\ttotal: 270ms\tremaining: 796ms\n",
      "253:\tlearn: 0.2001253\ttotal: 270ms\tremaining: 794ms\n",
      "254:\tlearn: 0.1997603\ttotal: 271ms\tremaining: 793ms\n",
      "255:\tlearn: 0.1995094\ttotal: 272ms\tremaining: 791ms\n",
      "256:\tlearn: 0.1992088\ttotal: 273ms\tremaining: 789ms\n",
      "257:\tlearn: 0.1987928\ttotal: 274ms\tremaining: 788ms\n",
      "258:\tlearn: 0.1986663\ttotal: 275ms\tremaining: 786ms\n",
      "259:\tlearn: 0.1979824\ttotal: 275ms\tremaining: 784ms\n",
      "260:\tlearn: 0.1977898\ttotal: 276ms\tremaining: 782ms\n",
      "261:\tlearn: 0.1974974\ttotal: 277ms\tremaining: 780ms\n",
      "262:\tlearn: 0.1971728\ttotal: 278ms\tremaining: 778ms\n",
      "263:\tlearn: 0.1968532\ttotal: 278ms\tremaining: 776ms\n",
      "264:\tlearn: 0.1966416\ttotal: 279ms\tremaining: 775ms\n",
      "265:\tlearn: 0.1963971\ttotal: 280ms\tremaining: 773ms\n",
      "266:\tlearn: 0.1961440\ttotal: 281ms\tremaining: 771ms\n",
      "267:\tlearn: 0.1956344\ttotal: 282ms\tremaining: 769ms\n",
      "268:\tlearn: 0.1952425\ttotal: 283ms\tremaining: 768ms\n",
      "269:\tlearn: 0.1948767\ttotal: 283ms\tremaining: 766ms\n",
      "270:\tlearn: 0.1943437\ttotal: 284ms\tremaining: 764ms\n",
      "271:\tlearn: 0.1941548\ttotal: 285ms\tremaining: 762ms\n",
      "272:\tlearn: 0.1937638\ttotal: 286ms\tremaining: 761ms\n",
      "273:\tlearn: 0.1933026\ttotal: 287ms\tremaining: 759ms\n",
      "274:\tlearn: 0.1931113\ttotal: 287ms\tremaining: 757ms\n",
      "275:\tlearn: 0.1926029\ttotal: 288ms\tremaining: 756ms\n",
      "276:\tlearn: 0.1922912\ttotal: 289ms\tremaining: 754ms\n",
      "277:\tlearn: 0.1915728\ttotal: 290ms\tremaining: 753ms\n",
      "278:\tlearn: 0.1910444\ttotal: 291ms\tremaining: 751ms\n",
      "279:\tlearn: 0.1908071\ttotal: 292ms\tremaining: 750ms\n",
      "280:\tlearn: 0.1905896\ttotal: 292ms\tremaining: 748ms\n",
      "281:\tlearn: 0.1902039\ttotal: 293ms\tremaining: 746ms\n",
      "282:\tlearn: 0.1897866\ttotal: 294ms\tremaining: 744ms\n",
      "283:\tlearn: 0.1894459\ttotal: 295ms\tremaining: 743ms\n",
      "284:\tlearn: 0.1889649\ttotal: 296ms\tremaining: 742ms\n",
      "285:\tlearn: 0.1887861\ttotal: 297ms\tremaining: 740ms\n",
      "286:\tlearn: 0.1882560\ttotal: 297ms\tremaining: 739ms\n"
     ]
    },
    {
     "name": "stdout",
     "output_type": "stream",
     "text": [
      "287:\tlearn: 0.1880970\ttotal: 298ms\tremaining: 738ms\n",
      "288:\tlearn: 0.1877966\ttotal: 299ms\tremaining: 737ms\n",
      "289:\tlearn: 0.1874525\ttotal: 300ms\tremaining: 735ms\n",
      "290:\tlearn: 0.1868409\ttotal: 301ms\tremaining: 733ms\n",
      "291:\tlearn: 0.1864520\ttotal: 302ms\tremaining: 732ms\n",
      "292:\tlearn: 0.1860304\ttotal: 302ms\tremaining: 730ms\n",
      "293:\tlearn: 0.1853537\ttotal: 303ms\tremaining: 728ms\n",
      "294:\tlearn: 0.1847161\ttotal: 304ms\tremaining: 727ms\n",
      "295:\tlearn: 0.1840642\ttotal: 305ms\tremaining: 725ms\n",
      "296:\tlearn: 0.1833731\ttotal: 306ms\tremaining: 724ms\n",
      "297:\tlearn: 0.1827624\ttotal: 307ms\tremaining: 722ms\n",
      "298:\tlearn: 0.1823276\ttotal: 307ms\tremaining: 721ms\n",
      "299:\tlearn: 0.1820773\ttotal: 308ms\tremaining: 719ms\n",
      "300:\tlearn: 0.1813691\ttotal: 309ms\tremaining: 718ms\n",
      "301:\tlearn: 0.1811999\ttotal: 310ms\tremaining: 716ms\n",
      "302:\tlearn: 0.1809331\ttotal: 311ms\tremaining: 715ms\n",
      "303:\tlearn: 0.1808726\ttotal: 311ms\tremaining: 713ms\n",
      "304:\tlearn: 0.1803346\ttotal: 312ms\tremaining: 711ms\n",
      "305:\tlearn: 0.1798331\ttotal: 313ms\tremaining: 710ms\n",
      "306:\tlearn: 0.1794515\ttotal: 314ms\tremaining: 708ms\n",
      "307:\tlearn: 0.1789121\ttotal: 315ms\tremaining: 707ms\n",
      "308:\tlearn: 0.1784641\ttotal: 315ms\tremaining: 705ms\n",
      "309:\tlearn: 0.1784143\ttotal: 316ms\tremaining: 704ms\n",
      "310:\tlearn: 0.1779862\ttotal: 317ms\tremaining: 702ms\n",
      "311:\tlearn: 0.1774999\ttotal: 318ms\tremaining: 701ms\n",
      "312:\tlearn: 0.1770507\ttotal: 319ms\tremaining: 700ms\n",
      "313:\tlearn: 0.1764685\ttotal: 320ms\tremaining: 698ms\n",
      "314:\tlearn: 0.1761638\ttotal: 320ms\tremaining: 697ms\n",
      "315:\tlearn: 0.1756060\ttotal: 321ms\tremaining: 695ms\n",
      "316:\tlearn: 0.1750113\ttotal: 322ms\tremaining: 694ms\n",
      "317:\tlearn: 0.1747099\ttotal: 323ms\tremaining: 692ms\n",
      "318:\tlearn: 0.1741667\ttotal: 324ms\tremaining: 691ms\n",
      "319:\tlearn: 0.1738311\ttotal: 324ms\tremaining: 689ms\n",
      "320:\tlearn: 0.1735090\ttotal: 325ms\tremaining: 688ms\n",
      "321:\tlearn: 0.1729764\ttotal: 326ms\tremaining: 687ms\n",
      "322:\tlearn: 0.1726468\ttotal: 327ms\tremaining: 685ms\n",
      "323:\tlearn: 0.1721286\ttotal: 328ms\tremaining: 684ms\n",
      "324:\tlearn: 0.1716890\ttotal: 328ms\tremaining: 682ms\n",
      "325:\tlearn: 0.1712226\ttotal: 329ms\tremaining: 681ms\n",
      "326:\tlearn: 0.1707242\ttotal: 330ms\tremaining: 679ms\n",
      "327:\tlearn: 0.1702471\ttotal: 331ms\tremaining: 678ms\n",
      "328:\tlearn: 0.1698241\ttotal: 332ms\tremaining: 676ms\n",
      "329:\tlearn: 0.1692259\ttotal: 332ms\tremaining: 675ms\n",
      "330:\tlearn: 0.1688492\ttotal: 333ms\tremaining: 673ms\n",
      "331:\tlearn: 0.1685608\ttotal: 334ms\tremaining: 672ms\n",
      "332:\tlearn: 0.1683995\ttotal: 335ms\tremaining: 671ms\n",
      "333:\tlearn: 0.1681824\ttotal: 336ms\tremaining: 669ms\n",
      "334:\tlearn: 0.1677532\ttotal: 336ms\tremaining: 668ms\n",
      "335:\tlearn: 0.1672334\ttotal: 337ms\tremaining: 666ms\n",
      "336:\tlearn: 0.1668990\ttotal: 338ms\tremaining: 665ms\n",
      "337:\tlearn: 0.1663445\ttotal: 339ms\tremaining: 664ms\n",
      "338:\tlearn: 0.1658824\ttotal: 340ms\tremaining: 663ms\n",
      "339:\tlearn: 0.1653948\ttotal: 341ms\tremaining: 662ms\n",
      "340:\tlearn: 0.1650246\ttotal: 342ms\tremaining: 661ms\n",
      "341:\tlearn: 0.1649798\ttotal: 343ms\tremaining: 660ms\n",
      "342:\tlearn: 0.1646950\ttotal: 344ms\tremaining: 658ms\n",
      "343:\tlearn: 0.1643350\ttotal: 345ms\tremaining: 657ms\n",
      "344:\tlearn: 0.1640802\ttotal: 345ms\tremaining: 656ms\n",
      "345:\tlearn: 0.1636821\ttotal: 346ms\tremaining: 655ms\n",
      "346:\tlearn: 0.1634028\ttotal: 347ms\tremaining: 653ms\n",
      "347:\tlearn: 0.1631588\ttotal: 348ms\tremaining: 652ms\n",
      "348:\tlearn: 0.1627497\ttotal: 349ms\tremaining: 651ms\n",
      "349:\tlearn: 0.1625509\ttotal: 350ms\tremaining: 650ms\n",
      "350:\tlearn: 0.1622148\ttotal: 351ms\tremaining: 648ms\n",
      "351:\tlearn: 0.1617002\ttotal: 352ms\tremaining: 647ms\n",
      "352:\tlearn: 0.1613128\ttotal: 352ms\tremaining: 646ms\n",
      "353:\tlearn: 0.1608623\ttotal: 353ms\tremaining: 645ms\n",
      "354:\tlearn: 0.1605720\ttotal: 354ms\tremaining: 644ms\n",
      "355:\tlearn: 0.1603142\ttotal: 355ms\tremaining: 642ms\n",
      "356:\tlearn: 0.1597447\ttotal: 356ms\tremaining: 641ms\n",
      "357:\tlearn: 0.1594676\ttotal: 357ms\tremaining: 640ms\n",
      "358:\tlearn: 0.1589701\ttotal: 358ms\tremaining: 638ms\n",
      "359:\tlearn: 0.1586728\ttotal: 358ms\tremaining: 637ms\n",
      "360:\tlearn: 0.1582692\ttotal: 359ms\tremaining: 636ms\n",
      "361:\tlearn: 0.1579097\ttotal: 360ms\tremaining: 635ms\n",
      "362:\tlearn: 0.1574898\ttotal: 361ms\tremaining: 633ms\n",
      "363:\tlearn: 0.1571343\ttotal: 362ms\tremaining: 632ms\n",
      "364:\tlearn: 0.1568840\ttotal: 363ms\tremaining: 631ms\n",
      "365:\tlearn: 0.1566583\ttotal: 363ms\tremaining: 629ms\n",
      "366:\tlearn: 0.1562413\ttotal: 364ms\tremaining: 628ms\n",
      "367:\tlearn: 0.1558157\ttotal: 365ms\tremaining: 627ms\n",
      "368:\tlearn: 0.1553210\ttotal: 366ms\tremaining: 626ms\n",
      "369:\tlearn: 0.1548866\ttotal: 367ms\tremaining: 624ms\n",
      "370:\tlearn: 0.1544955\ttotal: 368ms\tremaining: 623ms\n",
      "371:\tlearn: 0.1540576\ttotal: 368ms\tremaining: 622ms\n",
      "372:\tlearn: 0.1537635\ttotal: 369ms\tremaining: 621ms\n",
      "373:\tlearn: 0.1534432\ttotal: 370ms\tremaining: 619ms\n",
      "374:\tlearn: 0.1532742\ttotal: 371ms\tremaining: 618ms\n",
      "375:\tlearn: 0.1528323\ttotal: 372ms\tremaining: 617ms\n",
      "376:\tlearn: 0.1524067\ttotal: 372ms\tremaining: 615ms\n",
      "377:\tlearn: 0.1520205\ttotal: 373ms\tremaining: 614ms\n",
      "378:\tlearn: 0.1516966\ttotal: 374ms\tremaining: 613ms\n",
      "379:\tlearn: 0.1512682\ttotal: 375ms\tremaining: 612ms\n",
      "380:\tlearn: 0.1511215\ttotal: 376ms\tremaining: 611ms\n",
      "381:\tlearn: 0.1506660\ttotal: 377ms\tremaining: 609ms\n",
      "382:\tlearn: 0.1504370\ttotal: 377ms\tremaining: 608ms\n",
      "383:\tlearn: 0.1503989\ttotal: 378ms\tremaining: 607ms\n",
      "384:\tlearn: 0.1503614\ttotal: 379ms\tremaining: 605ms\n",
      "385:\tlearn: 0.1501169\ttotal: 380ms\tremaining: 604ms\n",
      "386:\tlearn: 0.1497581\ttotal: 381ms\tremaining: 603ms\n",
      "387:\tlearn: 0.1493535\ttotal: 382ms\tremaining: 602ms\n"
     ]
    },
    {
     "name": "stdout",
     "output_type": "stream",
     "text": [
      "388:\tlearn: 0.1492307\ttotal: 383ms\tremaining: 601ms\n",
      "389:\tlearn: 0.1487966\ttotal: 384ms\tremaining: 600ms\n",
      "390:\tlearn: 0.1484825\ttotal: 384ms\tremaining: 599ms\n",
      "391:\tlearn: 0.1480819\ttotal: 385ms\tremaining: 597ms\n",
      "392:\tlearn: 0.1476661\ttotal: 386ms\tremaining: 596ms\n",
      "393:\tlearn: 0.1472955\ttotal: 387ms\tremaining: 595ms\n",
      "394:\tlearn: 0.1468839\ttotal: 388ms\tremaining: 594ms\n",
      "395:\tlearn: 0.1465264\ttotal: 388ms\tremaining: 593ms\n",
      "396:\tlearn: 0.1462465\ttotal: 389ms\tremaining: 591ms\n",
      "397:\tlearn: 0.1462087\ttotal: 390ms\tremaining: 590ms\n",
      "398:\tlearn: 0.1459558\ttotal: 391ms\tremaining: 589ms\n",
      "399:\tlearn: 0.1455019\ttotal: 392ms\tremaining: 587ms\n",
      "400:\tlearn: 0.1452767\ttotal: 392ms\tremaining: 586ms\n",
      "401:\tlearn: 0.1448624\ttotal: 393ms\tremaining: 585ms\n",
      "402:\tlearn: 0.1446255\ttotal: 394ms\tremaining: 584ms\n",
      "403:\tlearn: 0.1443414\ttotal: 395ms\tremaining: 583ms\n",
      "404:\tlearn: 0.1440603\ttotal: 396ms\tremaining: 581ms\n",
      "405:\tlearn: 0.1439114\ttotal: 397ms\tremaining: 580ms\n",
      "406:\tlearn: 0.1435794\ttotal: 397ms\tremaining: 579ms\n",
      "407:\tlearn: 0.1433287\ttotal: 398ms\tremaining: 578ms\n",
      "408:\tlearn: 0.1430664\ttotal: 399ms\tremaining: 576ms\n",
      "409:\tlearn: 0.1428534\ttotal: 400ms\tremaining: 575ms\n",
      "410:\tlearn: 0.1425324\ttotal: 400ms\tremaining: 574ms\n",
      "411:\tlearn: 0.1421144\ttotal: 401ms\tremaining: 573ms\n",
      "412:\tlearn: 0.1417581\ttotal: 402ms\tremaining: 571ms\n",
      "413:\tlearn: 0.1415671\ttotal: 403ms\tremaining: 570ms\n",
      "414:\tlearn: 0.1413464\ttotal: 404ms\tremaining: 569ms\n",
      "415:\tlearn: 0.1411094\ttotal: 404ms\tremaining: 568ms\n",
      "416:\tlearn: 0.1408725\ttotal: 405ms\tremaining: 567ms\n",
      "417:\tlearn: 0.1406385\ttotal: 406ms\tremaining: 566ms\n",
      "418:\tlearn: 0.1402014\ttotal: 407ms\tremaining: 564ms\n",
      "419:\tlearn: 0.1398210\ttotal: 408ms\tremaining: 563ms\n",
      "420:\tlearn: 0.1394589\ttotal: 409ms\tremaining: 562ms\n",
      "421:\tlearn: 0.1392286\ttotal: 410ms\tremaining: 561ms\n",
      "422:\tlearn: 0.1391963\ttotal: 411ms\tremaining: 560ms\n",
      "423:\tlearn: 0.1389024\ttotal: 412ms\tremaining: 559ms\n",
      "424:\tlearn: 0.1386373\ttotal: 412ms\tremaining: 558ms\n",
      "425:\tlearn: 0.1383979\ttotal: 413ms\tremaining: 557ms\n",
      "426:\tlearn: 0.1382975\ttotal: 414ms\tremaining: 556ms\n",
      "427:\tlearn: 0.1380795\ttotal: 415ms\tremaining: 555ms\n",
      "428:\tlearn: 0.1378739\ttotal: 416ms\tremaining: 554ms\n",
      "429:\tlearn: 0.1375338\ttotal: 417ms\tremaining: 553ms\n",
      "430:\tlearn: 0.1372223\ttotal: 418ms\tremaining: 552ms\n",
      "431:\tlearn: 0.1371172\ttotal: 419ms\tremaining: 550ms\n",
      "432:\tlearn: 0.1368597\ttotal: 419ms\tremaining: 549ms\n",
      "433:\tlearn: 0.1364599\ttotal: 420ms\tremaining: 548ms\n",
      "434:\tlearn: 0.1362830\ttotal: 421ms\tremaining: 547ms\n",
      "435:\tlearn: 0.1359333\ttotal: 422ms\tremaining: 546ms\n",
      "436:\tlearn: 0.1355824\ttotal: 423ms\tremaining: 545ms\n",
      "437:\tlearn: 0.1352238\ttotal: 423ms\tremaining: 543ms\n",
      "438:\tlearn: 0.1349701\ttotal: 424ms\tremaining: 542ms\n",
      "439:\tlearn: 0.1347348\ttotal: 425ms\tremaining: 541ms\n",
      "440:\tlearn: 0.1346139\ttotal: 426ms\tremaining: 539ms\n",
      "441:\tlearn: 0.1343859\ttotal: 426ms\tremaining: 538ms\n",
      "442:\tlearn: 0.1342241\ttotal: 427ms\tremaining: 537ms\n",
      "443:\tlearn: 0.1339981\ttotal: 428ms\tremaining: 536ms\n",
      "444:\tlearn: 0.1337930\ttotal: 429ms\tremaining: 535ms\n",
      "445:\tlearn: 0.1335933\ttotal: 430ms\tremaining: 534ms\n",
      "446:\tlearn: 0.1333264\ttotal: 431ms\tremaining: 533ms\n",
      "447:\tlearn: 0.1332924\ttotal: 431ms\tremaining: 532ms\n",
      "448:\tlearn: 0.1328489\ttotal: 432ms\tremaining: 530ms\n",
      "449:\tlearn: 0.1325810\ttotal: 433ms\tremaining: 529ms\n",
      "450:\tlearn: 0.1325507\ttotal: 434ms\tremaining: 528ms\n",
      "451:\tlearn: 0.1321839\ttotal: 435ms\tremaining: 527ms\n",
      "452:\tlearn: 0.1318339\ttotal: 435ms\tremaining: 526ms\n",
      "453:\tlearn: 0.1316504\ttotal: 436ms\tremaining: 525ms\n",
      "454:\tlearn: 0.1314339\ttotal: 437ms\tremaining: 524ms\n",
      "455:\tlearn: 0.1311804\ttotal: 438ms\tremaining: 522ms\n",
      "456:\tlearn: 0.1309463\ttotal: 439ms\tremaining: 521ms\n",
      "457:\tlearn: 0.1306125\ttotal: 439ms\tremaining: 520ms\n",
      "458:\tlearn: 0.1303248\ttotal: 440ms\tremaining: 519ms\n",
      "459:\tlearn: 0.1300770\ttotal: 441ms\tremaining: 518ms\n",
      "460:\tlearn: 0.1298931\ttotal: 442ms\tremaining: 517ms\n",
      "461:\tlearn: 0.1296423\ttotal: 443ms\tremaining: 516ms\n",
      "462:\tlearn: 0.1293579\ttotal: 444ms\tremaining: 515ms\n",
      "463:\tlearn: 0.1290192\ttotal: 445ms\tremaining: 513ms\n",
      "464:\tlearn: 0.1287257\ttotal: 445ms\tremaining: 512ms\n",
      "465:\tlearn: 0.1283930\ttotal: 446ms\tremaining: 511ms\n",
      "466:\tlearn: 0.1281339\ttotal: 447ms\tremaining: 510ms\n",
      "467:\tlearn: 0.1279288\ttotal: 448ms\tremaining: 509ms\n",
      "468:\tlearn: 0.1275833\ttotal: 449ms\tremaining: 508ms\n",
      "469:\tlearn: 0.1275589\ttotal: 449ms\tremaining: 507ms\n",
      "470:\tlearn: 0.1272579\ttotal: 450ms\tremaining: 506ms\n",
      "471:\tlearn: 0.1269793\ttotal: 451ms\tremaining: 505ms\n",
      "472:\tlearn: 0.1269444\ttotal: 452ms\tremaining: 504ms\n",
      "473:\tlearn: 0.1269099\ttotal: 453ms\tremaining: 502ms\n",
      "474:\tlearn: 0.1266372\ttotal: 454ms\tremaining: 501ms\n",
      "475:\tlearn: 0.1262269\ttotal: 454ms\tremaining: 500ms\n",
      "476:\tlearn: 0.1260734\ttotal: 455ms\tremaining: 499ms\n",
      "477:\tlearn: 0.1259183\ttotal: 456ms\tremaining: 498ms\n",
      "478:\tlearn: 0.1256187\ttotal: 457ms\tremaining: 497ms\n",
      "479:\tlearn: 0.1253730\ttotal: 458ms\tremaining: 496ms\n",
      "480:\tlearn: 0.1251904\ttotal: 458ms\tremaining: 495ms\n",
      "481:\tlearn: 0.1249157\ttotal: 459ms\tremaining: 493ms\n",
      "482:\tlearn: 0.1245996\ttotal: 460ms\tremaining: 492ms\n",
      "483:\tlearn: 0.1244942\ttotal: 461ms\tremaining: 491ms\n",
      "484:\tlearn: 0.1242315\ttotal: 462ms\tremaining: 490ms\n",
      "485:\tlearn: 0.1240575\ttotal: 462ms\tremaining: 489ms\n",
      "486:\tlearn: 0.1238296\ttotal: 463ms\tremaining: 488ms\n",
      "487:\tlearn: 0.1236870\ttotal: 464ms\tremaining: 487ms\n",
      "488:\tlearn: 0.1235493\ttotal: 465ms\tremaining: 486ms\n",
      "489:\tlearn: 0.1233543\ttotal: 466ms\tremaining: 485ms\n",
      "490:\tlearn: 0.1230964\ttotal: 466ms\tremaining: 484ms\n",
      "491:\tlearn: 0.1227899\ttotal: 467ms\tremaining: 482ms\n",
      "492:\tlearn: 0.1225094\ttotal: 468ms\tremaining: 481ms\n",
      "493:\tlearn: 0.1222093\ttotal: 469ms\tremaining: 480ms\n",
      "494:\tlearn: 0.1221844\ttotal: 470ms\tremaining: 479ms\n",
      "495:\tlearn: 0.1218520\ttotal: 470ms\tremaining: 478ms\n",
      "496:\tlearn: 0.1216310\ttotal: 471ms\tremaining: 477ms\n",
      "497:\tlearn: 0.1212569\ttotal: 472ms\tremaining: 476ms\n",
      "498:\tlearn: 0.1209753\ttotal: 473ms\tremaining: 475ms\n",
      "499:\tlearn: 0.1207331\ttotal: 474ms\tremaining: 474ms\n",
      "500:\tlearn: 0.1205674\ttotal: 475ms\tremaining: 473ms\n",
      "501:\tlearn: 0.1203344\ttotal: 475ms\tremaining: 472ms\n",
      "502:\tlearn: 0.1200632\ttotal: 476ms\tremaining: 471ms\n",
      "503:\tlearn: 0.1198526\ttotal: 477ms\tremaining: 470ms\n",
      "504:\tlearn: 0.1196830\ttotal: 478ms\tremaining: 468ms\n",
      "505:\tlearn: 0.1193887\ttotal: 479ms\tremaining: 467ms\n",
      "506:\tlearn: 0.1191658\ttotal: 480ms\tremaining: 466ms\n",
      "507:\tlearn: 0.1188817\ttotal: 480ms\tremaining: 465ms\n",
      "508:\tlearn: 0.1186081\ttotal: 481ms\tremaining: 464ms\n",
      "509:\tlearn: 0.1184297\ttotal: 482ms\tremaining: 463ms\n",
      "510:\tlearn: 0.1181605\ttotal: 483ms\tremaining: 462ms\n",
      "511:\tlearn: 0.1179077\ttotal: 484ms\tremaining: 461ms\n",
      "512:\tlearn: 0.1178844\ttotal: 485ms\tremaining: 460ms\n",
      "513:\tlearn: 0.1176567\ttotal: 486ms\tremaining: 459ms\n",
      "514:\tlearn: 0.1174372\ttotal: 487ms\tremaining: 458ms\n",
      "515:\tlearn: 0.1173417\ttotal: 487ms\tremaining: 457ms\n"
     ]
    },
    {
     "name": "stdout",
     "output_type": "stream",
     "text": [
      "516:\tlearn: 0.1172139\ttotal: 488ms\tremaining: 456ms\n",
      "517:\tlearn: 0.1169488\ttotal: 489ms\tremaining: 455ms\n",
      "518:\tlearn: 0.1169276\ttotal: 490ms\tremaining: 454ms\n",
      "519:\tlearn: 0.1167868\ttotal: 491ms\tremaining: 453ms\n",
      "520:\tlearn: 0.1166310\ttotal: 492ms\tremaining: 452ms\n",
      "521:\tlearn: 0.1166012\ttotal: 493ms\tremaining: 451ms\n",
      "522:\tlearn: 0.1165792\ttotal: 493ms\tremaining: 450ms\n",
      "523:\tlearn: 0.1162567\ttotal: 494ms\tremaining: 449ms\n",
      "524:\tlearn: 0.1159869\ttotal: 495ms\tremaining: 448ms\n",
      "525:\tlearn: 0.1157923\ttotal: 496ms\tremaining: 447ms\n",
      "526:\tlearn: 0.1155615\ttotal: 497ms\tremaining: 446ms\n",
      "527:\tlearn: 0.1153258\ttotal: 498ms\tremaining: 445ms\n",
      "528:\tlearn: 0.1150620\ttotal: 498ms\tremaining: 444ms\n",
      "529:\tlearn: 0.1147602\ttotal: 499ms\tremaining: 443ms\n",
      "530:\tlearn: 0.1145684\ttotal: 500ms\tremaining: 442ms\n",
      "531:\tlearn: 0.1143076\ttotal: 501ms\tremaining: 440ms\n",
      "532:\tlearn: 0.1141731\ttotal: 501ms\tremaining: 439ms\n",
      "533:\tlearn: 0.1139170\ttotal: 502ms\tremaining: 438ms\n",
      "534:\tlearn: 0.1135797\ttotal: 503ms\tremaining: 437ms\n",
      "535:\tlearn: 0.1134443\ttotal: 504ms\tremaining: 436ms\n",
      "536:\tlearn: 0.1133447\ttotal: 505ms\tremaining: 435ms\n",
      "537:\tlearn: 0.1131839\ttotal: 506ms\tremaining: 434ms\n",
      "538:\tlearn: 0.1130148\ttotal: 506ms\tremaining: 433ms\n",
      "539:\tlearn: 0.1128207\ttotal: 507ms\tremaining: 432ms\n",
      "540:\tlearn: 0.1125713\ttotal: 508ms\tremaining: 431ms\n",
      "541:\tlearn: 0.1124295\ttotal: 509ms\tremaining: 430ms\n",
      "542:\tlearn: 0.1122265\ttotal: 510ms\tremaining: 429ms\n",
      "543:\tlearn: 0.1120138\ttotal: 510ms\tremaining: 428ms\n",
      "544:\tlearn: 0.1116828\ttotal: 511ms\tremaining: 427ms\n",
      "545:\tlearn: 0.1114765\ttotal: 512ms\tremaining: 426ms\n",
      "546:\tlearn: 0.1112770\ttotal: 513ms\tremaining: 425ms\n",
      "547:\tlearn: 0.1112539\ttotal: 513ms\tremaining: 423ms\n",
      "548:\tlearn: 0.1111540\ttotal: 514ms\tremaining: 422ms\n",
      "549:\tlearn: 0.1109819\ttotal: 515ms\tremaining: 421ms\n",
      "550:\tlearn: 0.1108318\ttotal: 516ms\tremaining: 420ms\n",
      "551:\tlearn: 0.1108109\ttotal: 517ms\tremaining: 419ms\n",
      "552:\tlearn: 0.1105665\ttotal: 517ms\tremaining: 418ms\n",
      "553:\tlearn: 0.1104853\ttotal: 518ms\tremaining: 417ms\n",
      "554:\tlearn: 0.1101890\ttotal: 519ms\tremaining: 416ms\n",
      "555:\tlearn: 0.1101683\ttotal: 520ms\tremaining: 415ms\n",
      "556:\tlearn: 0.1100203\ttotal: 520ms\tremaining: 414ms\n",
      "557:\tlearn: 0.1096865\ttotal: 521ms\tremaining: 413ms\n",
      "558:\tlearn: 0.1094316\ttotal: 522ms\tremaining: 412ms\n",
      "559:\tlearn: 0.1092338\ttotal: 523ms\tremaining: 411ms\n",
      "560:\tlearn: 0.1089774\ttotal: 524ms\tremaining: 410ms\n",
      "561:\tlearn: 0.1087426\ttotal: 525ms\tremaining: 409ms\n",
      "562:\tlearn: 0.1085360\ttotal: 525ms\tremaining: 408ms\n",
      "563:\tlearn: 0.1083188\ttotal: 526ms\tremaining: 407ms\n",
      "564:\tlearn: 0.1082976\ttotal: 527ms\tremaining: 406ms\n",
      "565:\tlearn: 0.1081292\ttotal: 528ms\tremaining: 405ms\n",
      "566:\tlearn: 0.1079117\ttotal: 529ms\tremaining: 404ms\n",
      "567:\tlearn: 0.1076958\ttotal: 529ms\tremaining: 403ms\n",
      "568:\tlearn: 0.1074554\ttotal: 530ms\tremaining: 402ms\n",
      "569:\tlearn: 0.1072510\ttotal: 531ms\tremaining: 401ms\n",
      "570:\tlearn: 0.1069533\ttotal: 532ms\tremaining: 399ms\n",
      "571:\tlearn: 0.1067086\ttotal: 533ms\tremaining: 399ms\n",
      "572:\tlearn: 0.1064558\ttotal: 534ms\tremaining: 398ms\n",
      "573:\tlearn: 0.1062631\ttotal: 534ms\tremaining: 397ms\n",
      "574:\tlearn: 0.1062429\ttotal: 535ms\tremaining: 396ms\n",
      "575:\tlearn: 0.1061223\ttotal: 536ms\tremaining: 395ms\n",
      "576:\tlearn: 0.1059244\ttotal: 537ms\tremaining: 393ms\n",
      "577:\tlearn: 0.1057309\ttotal: 537ms\tremaining: 392ms\n",
      "578:\tlearn: 0.1055503\ttotal: 538ms\tremaining: 391ms\n",
      "579:\tlearn: 0.1053430\ttotal: 539ms\tremaining: 390ms\n",
      "580:\tlearn: 0.1050954\ttotal: 540ms\tremaining: 389ms\n",
      "581:\tlearn: 0.1048532\ttotal: 541ms\tremaining: 388ms\n",
      "582:\tlearn: 0.1045813\ttotal: 542ms\tremaining: 388ms\n",
      "583:\tlearn: 0.1043410\ttotal: 543ms\tremaining: 386ms\n",
      "584:\tlearn: 0.1041217\ttotal: 543ms\tremaining: 385ms\n",
      "585:\tlearn: 0.1039620\ttotal: 544ms\tremaining: 385ms\n",
      "586:\tlearn: 0.1037141\ttotal: 545ms\tremaining: 383ms\n",
      "587:\tlearn: 0.1036022\ttotal: 546ms\tremaining: 382ms\n",
      "588:\tlearn: 0.1035884\ttotal: 547ms\tremaining: 381ms\n",
      "589:\tlearn: 0.1034490\ttotal: 547ms\tremaining: 380ms\n",
      "590:\tlearn: 0.1033183\ttotal: 548ms\tremaining: 379ms\n",
      "591:\tlearn: 0.1031627\ttotal: 549ms\tremaining: 378ms\n",
      "592:\tlearn: 0.1031425\ttotal: 549ms\tremaining: 377ms\n",
      "593:\tlearn: 0.1029189\ttotal: 550ms\tremaining: 376ms\n",
      "594:\tlearn: 0.1027083\ttotal: 551ms\tremaining: 375ms\n",
      "595:\tlearn: 0.1026951\ttotal: 552ms\tremaining: 374ms\n",
      "596:\tlearn: 0.1024190\ttotal: 553ms\tremaining: 373ms\n",
      "597:\tlearn: 0.1022233\ttotal: 554ms\tremaining: 372ms\n",
      "598:\tlearn: 0.1020943\ttotal: 554ms\tremaining: 371ms\n",
      "599:\tlearn: 0.1019789\ttotal: 555ms\tremaining: 370ms\n",
      "600:\tlearn: 0.1019574\ttotal: 556ms\tremaining: 369ms\n",
      "601:\tlearn: 0.1019451\ttotal: 557ms\tremaining: 368ms\n",
      "602:\tlearn: 0.1018612\ttotal: 558ms\tremaining: 367ms\n",
      "603:\tlearn: 0.1017371\ttotal: 558ms\tremaining: 366ms\n",
      "604:\tlearn: 0.1014547\ttotal: 559ms\tremaining: 365ms\n",
      "605:\tlearn: 0.1012265\ttotal: 560ms\tremaining: 364ms\n",
      "606:\tlearn: 0.1012137\ttotal: 561ms\tremaining: 363ms\n",
      "607:\tlearn: 0.1010613\ttotal: 562ms\tremaining: 362ms\n",
      "608:\tlearn: 0.1009207\ttotal: 562ms\tremaining: 361ms\n",
      "609:\tlearn: 0.1006688\ttotal: 563ms\tremaining: 360ms\n",
      "610:\tlearn: 0.1005304\ttotal: 564ms\tremaining: 359ms\n",
      "611:\tlearn: 0.1002615\ttotal: 565ms\tremaining: 358ms\n",
      "612:\tlearn: 0.1001252\ttotal: 566ms\tremaining: 357ms\n",
      "613:\tlearn: 0.0999235\ttotal: 566ms\tremaining: 356ms\n",
      "614:\tlearn: 0.0997313\ttotal: 567ms\tremaining: 355ms\n",
      "615:\tlearn: 0.0997182\ttotal: 568ms\tremaining: 354ms\n",
      "616:\tlearn: 0.0995031\ttotal: 569ms\tremaining: 353ms\n",
      "617:\tlearn: 0.0994920\ttotal: 570ms\tremaining: 352ms\n",
      "618:\tlearn: 0.0992540\ttotal: 570ms\tremaining: 351ms\n",
      "619:\tlearn: 0.0990242\ttotal: 571ms\tremaining: 350ms\n"
     ]
    },
    {
     "name": "stdout",
     "output_type": "stream",
     "text": [
      "620:\tlearn: 0.0988313\ttotal: 572ms\tremaining: 349ms\n",
      "621:\tlearn: 0.0987078\ttotal: 573ms\tremaining: 348ms\n",
      "622:\tlearn: 0.0985233\ttotal: 574ms\tremaining: 347ms\n",
      "623:\tlearn: 0.0982137\ttotal: 575ms\tremaining: 346ms\n",
      "624:\tlearn: 0.0982023\ttotal: 575ms\tremaining: 345ms\n",
      "625:\tlearn: 0.0980503\ttotal: 576ms\tremaining: 344ms\n",
      "626:\tlearn: 0.0979199\ttotal: 577ms\tremaining: 343ms\n",
      "627:\tlearn: 0.0977895\ttotal: 578ms\tremaining: 342ms\n",
      "628:\tlearn: 0.0976781\ttotal: 579ms\tremaining: 342ms\n",
      "629:\tlearn: 0.0975084\ttotal: 580ms\tremaining: 340ms\n",
      "630:\tlearn: 0.0974207\ttotal: 581ms\tremaining: 340ms\n",
      "631:\tlearn: 0.0974097\ttotal: 581ms\tremaining: 339ms\n",
      "632:\tlearn: 0.0971982\ttotal: 582ms\tremaining: 338ms\n",
      "633:\tlearn: 0.0970538\ttotal: 583ms\tremaining: 337ms\n",
      "634:\tlearn: 0.0969114\ttotal: 584ms\tremaining: 336ms\n",
      "635:\tlearn: 0.0967180\ttotal: 585ms\tremaining: 335ms\n",
      "636:\tlearn: 0.0966110\ttotal: 586ms\tremaining: 334ms\n",
      "637:\tlearn: 0.0964563\ttotal: 587ms\tremaining: 333ms\n",
      "638:\tlearn: 0.0964393\ttotal: 587ms\tremaining: 332ms\n",
      "639:\tlearn: 0.0963528\ttotal: 588ms\tremaining: 331ms\n",
      "640:\tlearn: 0.0961815\ttotal: 589ms\tremaining: 330ms\n",
      "641:\tlearn: 0.0959878\ttotal: 590ms\tremaining: 329ms\n",
      "642:\tlearn: 0.0959761\ttotal: 590ms\tremaining: 328ms\n",
      "643:\tlearn: 0.0959651\ttotal: 591ms\tremaining: 327ms\n",
      "644:\tlearn: 0.0958075\ttotal: 592ms\tremaining: 326ms\n",
      "645:\tlearn: 0.0957953\ttotal: 593ms\tremaining: 325ms\n",
      "646:\tlearn: 0.0956456\ttotal: 594ms\tremaining: 324ms\n",
      "647:\tlearn: 0.0954178\ttotal: 595ms\tremaining: 323ms\n",
      "648:\tlearn: 0.0951995\ttotal: 595ms\tremaining: 322ms\n",
      "649:\tlearn: 0.0950545\ttotal: 596ms\tremaining: 321ms\n",
      "650:\tlearn: 0.0949021\ttotal: 597ms\tremaining: 320ms\n",
      "651:\tlearn: 0.0947507\ttotal: 598ms\tremaining: 319ms\n",
      "652:\tlearn: 0.0946322\ttotal: 599ms\tremaining: 318ms\n",
      "653:\tlearn: 0.0944860\ttotal: 600ms\tremaining: 317ms\n",
      "654:\tlearn: 0.0942609\ttotal: 600ms\tremaining: 316ms\n",
      "655:\tlearn: 0.0941118\ttotal: 601ms\tremaining: 315ms\n",
      "656:\tlearn: 0.0939746\ttotal: 602ms\tremaining: 314ms\n",
      "657:\tlearn: 0.0937835\ttotal: 603ms\tremaining: 313ms\n",
      "658:\tlearn: 0.0936841\ttotal: 604ms\tremaining: 312ms\n",
      "659:\tlearn: 0.0934875\ttotal: 604ms\tremaining: 311ms\n",
      "660:\tlearn: 0.0932676\ttotal: 605ms\tremaining: 310ms\n",
      "661:\tlearn: 0.0931076\ttotal: 606ms\tremaining: 309ms\n",
      "662:\tlearn: 0.0929232\ttotal: 607ms\tremaining: 308ms\n",
      "663:\tlearn: 0.0927413\ttotal: 608ms\tremaining: 307ms\n",
      "664:\tlearn: 0.0925535\ttotal: 608ms\tremaining: 307ms\n",
      "665:\tlearn: 0.0923727\ttotal: 609ms\tremaining: 306ms\n",
      "666:\tlearn: 0.0921761\ttotal: 610ms\tremaining: 305ms\n",
      "667:\tlearn: 0.0919903\ttotal: 611ms\tremaining: 304ms\n",
      "668:\tlearn: 0.0919076\ttotal: 612ms\tremaining: 303ms\n",
      "669:\tlearn: 0.0917645\ttotal: 613ms\tremaining: 302ms\n",
      "670:\tlearn: 0.0916916\ttotal: 613ms\tremaining: 301ms\n",
      "671:\tlearn: 0.0916799\ttotal: 614ms\tremaining: 300ms\n",
      "672:\tlearn: 0.0914821\ttotal: 615ms\tremaining: 299ms\n",
      "673:\tlearn: 0.0913436\ttotal: 616ms\tremaining: 298ms\n",
      "674:\tlearn: 0.0912004\ttotal: 617ms\tremaining: 297ms\n",
      "675:\tlearn: 0.0910688\ttotal: 618ms\tremaining: 296ms\n",
      "676:\tlearn: 0.0908555\ttotal: 619ms\tremaining: 295ms\n",
      "677:\tlearn: 0.0907355\ttotal: 620ms\tremaining: 294ms\n",
      "678:\tlearn: 0.0905735\ttotal: 620ms\tremaining: 293ms\n",
      "679:\tlearn: 0.0904227\ttotal: 621ms\tremaining: 292ms\n",
      "680:\tlearn: 0.0902691\ttotal: 622ms\tremaining: 291ms\n",
      "681:\tlearn: 0.0902584\ttotal: 623ms\tremaining: 290ms\n",
      "682:\tlearn: 0.0900816\ttotal: 624ms\tremaining: 289ms\n",
      "683:\tlearn: 0.0899000\ttotal: 625ms\tremaining: 289ms\n",
      "684:\tlearn: 0.0897881\ttotal: 625ms\tremaining: 288ms\n",
      "685:\tlearn: 0.0896218\ttotal: 626ms\tremaining: 287ms\n",
      "686:\tlearn: 0.0894643\ttotal: 627ms\tremaining: 286ms\n",
      "687:\tlearn: 0.0894546\ttotal: 628ms\tremaining: 285ms\n",
      "688:\tlearn: 0.0893177\ttotal: 629ms\tremaining: 284ms\n",
      "689:\tlearn: 0.0892113\ttotal: 630ms\tremaining: 283ms\n",
      "690:\tlearn: 0.0890230\ttotal: 630ms\tremaining: 282ms\n",
      "691:\tlearn: 0.0889289\ttotal: 631ms\tremaining: 281ms\n",
      "692:\tlearn: 0.0887310\ttotal: 632ms\tremaining: 280ms\n",
      "693:\tlearn: 0.0885594\ttotal: 633ms\tremaining: 279ms\n",
      "694:\tlearn: 0.0883395\ttotal: 633ms\tremaining: 278ms\n",
      "695:\tlearn: 0.0882628\ttotal: 634ms\tremaining: 277ms\n",
      "696:\tlearn: 0.0880955\ttotal: 635ms\tremaining: 276ms\n",
      "697:\tlearn: 0.0880851\ttotal: 636ms\tremaining: 275ms\n",
      "698:\tlearn: 0.0878463\ttotal: 637ms\tremaining: 274ms\n",
      "699:\tlearn: 0.0877321\ttotal: 638ms\tremaining: 273ms\n",
      "700:\tlearn: 0.0875321\ttotal: 638ms\tremaining: 272ms\n",
      "701:\tlearn: 0.0874287\ttotal: 639ms\tremaining: 271ms\n",
      "702:\tlearn: 0.0871853\ttotal: 640ms\tremaining: 270ms\n",
      "703:\tlearn: 0.0871018\ttotal: 641ms\tremaining: 269ms\n",
      "704:\tlearn: 0.0869253\ttotal: 642ms\tremaining: 268ms\n",
      "705:\tlearn: 0.0867830\ttotal: 643ms\tremaining: 268ms\n",
      "706:\tlearn: 0.0865890\ttotal: 643ms\tremaining: 267ms\n",
      "707:\tlearn: 0.0864939\ttotal: 644ms\tremaining: 266ms\n",
      "708:\tlearn: 0.0863404\ttotal: 645ms\tremaining: 265ms\n",
      "709:\tlearn: 0.0861647\ttotal: 646ms\tremaining: 264ms\n",
      "710:\tlearn: 0.0861523\ttotal: 647ms\tremaining: 263ms\n",
      "711:\tlearn: 0.0859232\ttotal: 647ms\tremaining: 262ms\n",
      "712:\tlearn: 0.0857591\ttotal: 648ms\tremaining: 261ms\n",
      "713:\tlearn: 0.0856614\ttotal: 649ms\tremaining: 260ms\n",
      "714:\tlearn: 0.0856514\ttotal: 650ms\tremaining: 259ms\n",
      "715:\tlearn: 0.0855468\ttotal: 651ms\tremaining: 258ms\n",
      "716:\tlearn: 0.0854243\ttotal: 651ms\tremaining: 257ms\n",
      "717:\tlearn: 0.0853352\ttotal: 652ms\tremaining: 256ms\n",
      "718:\tlearn: 0.0851481\ttotal: 653ms\tremaining: 255ms\n",
      "719:\tlearn: 0.0849937\ttotal: 654ms\tremaining: 254ms\n",
      "720:\tlearn: 0.0848203\ttotal: 655ms\tremaining: 253ms\n",
      "721:\tlearn: 0.0846620\ttotal: 655ms\tremaining: 252ms\n",
      "722:\tlearn: 0.0844840\ttotal: 656ms\tremaining: 251ms\n",
      "723:\tlearn: 0.0843062\ttotal: 657ms\tremaining: 251ms\n",
      "724:\tlearn: 0.0840644\ttotal: 659ms\tremaining: 250ms\n",
      "725:\tlearn: 0.0838527\ttotal: 660ms\tremaining: 249ms\n",
      "726:\tlearn: 0.0836486\ttotal: 660ms\tremaining: 248ms\n",
      "727:\tlearn: 0.0835261\ttotal: 661ms\tremaining: 247ms\n",
      "728:\tlearn: 0.0833596\ttotal: 662ms\tremaining: 246ms\n",
      "729:\tlearn: 0.0832071\ttotal: 663ms\tremaining: 245ms\n",
      "730:\tlearn: 0.0830429\ttotal: 664ms\tremaining: 244ms\n",
      "731:\tlearn: 0.0829362\ttotal: 664ms\tremaining: 243ms\n",
      "732:\tlearn: 0.0827588\ttotal: 665ms\tremaining: 242ms\n",
      "733:\tlearn: 0.0825788\ttotal: 666ms\tremaining: 241ms\n",
      "734:\tlearn: 0.0824094\ttotal: 667ms\tremaining: 240ms\n",
      "735:\tlearn: 0.0823041\ttotal: 668ms\tremaining: 239ms\n",
      "736:\tlearn: 0.0821720\ttotal: 668ms\tremaining: 239ms\n",
      "737:\tlearn: 0.0820210\ttotal: 669ms\tremaining: 238ms\n",
      "738:\tlearn: 0.0818938\ttotal: 670ms\tremaining: 237ms\n",
      "739:\tlearn: 0.0816870\ttotal: 671ms\tremaining: 236ms\n",
      "740:\tlearn: 0.0816758\ttotal: 672ms\tremaining: 235ms\n",
      "741:\tlearn: 0.0816662\ttotal: 673ms\tremaining: 234ms\n",
      "742:\tlearn: 0.0815330\ttotal: 673ms\tremaining: 233ms\n",
      "743:\tlearn: 0.0813746\ttotal: 674ms\tremaining: 232ms\n",
      "744:\tlearn: 0.0811880\ttotal: 675ms\tremaining: 231ms\n",
      "745:\tlearn: 0.0809153\ttotal: 676ms\tremaining: 230ms\n",
      "746:\tlearn: 0.0807328\ttotal: 677ms\tremaining: 229ms\n",
      "747:\tlearn: 0.0805361\ttotal: 678ms\tremaining: 228ms\n"
     ]
    },
    {
     "name": "stdout",
     "output_type": "stream",
     "text": [
      "748:\tlearn: 0.0803887\ttotal: 679ms\tremaining: 227ms\n",
      "749:\tlearn: 0.0803087\ttotal: 679ms\tremaining: 226ms\n",
      "750:\tlearn: 0.0802030\ttotal: 680ms\tremaining: 226ms\n",
      "751:\tlearn: 0.0800781\ttotal: 681ms\tremaining: 225ms\n",
      "752:\tlearn: 0.0799008\ttotal: 682ms\tremaining: 224ms\n",
      "753:\tlearn: 0.0797317\ttotal: 683ms\tremaining: 223ms\n",
      "754:\tlearn: 0.0796779\ttotal: 683ms\tremaining: 222ms\n",
      "755:\tlearn: 0.0795241\ttotal: 684ms\tremaining: 221ms\n",
      "756:\tlearn: 0.0795146\ttotal: 685ms\tremaining: 220ms\n",
      "757:\tlearn: 0.0793396\ttotal: 686ms\tremaining: 219ms\n",
      "758:\tlearn: 0.0791960\ttotal: 687ms\tremaining: 218ms\n",
      "759:\tlearn: 0.0790760\ttotal: 687ms\tremaining: 217ms\n",
      "760:\tlearn: 0.0789714\ttotal: 688ms\tremaining: 216ms\n",
      "761:\tlearn: 0.0788327\ttotal: 689ms\tremaining: 215ms\n",
      "762:\tlearn: 0.0787105\ttotal: 690ms\tremaining: 214ms\n",
      "763:\tlearn: 0.0785944\ttotal: 691ms\tremaining: 213ms\n",
      "764:\tlearn: 0.0784297\ttotal: 691ms\tremaining: 212ms\n",
      "765:\tlearn: 0.0782823\ttotal: 692ms\tremaining: 211ms\n",
      "766:\tlearn: 0.0780473\ttotal: 693ms\tremaining: 211ms\n",
      "767:\tlearn: 0.0779150\ttotal: 694ms\tremaining: 210ms\n",
      "768:\tlearn: 0.0778576\ttotal: 695ms\tremaining: 209ms\n",
      "769:\tlearn: 0.0777224\ttotal: 695ms\tremaining: 208ms\n",
      "770:\tlearn: 0.0776215\ttotal: 697ms\tremaining: 207ms\n",
      "771:\tlearn: 0.0774475\ttotal: 698ms\tremaining: 206ms\n",
      "772:\tlearn: 0.0773369\ttotal: 699ms\tremaining: 205ms\n",
      "773:\tlearn: 0.0772280\ttotal: 700ms\tremaining: 204ms\n",
      "774:\tlearn: 0.0771009\ttotal: 701ms\tremaining: 203ms\n",
      "775:\tlearn: 0.0769469\ttotal: 702ms\tremaining: 203ms\n",
      "776:\tlearn: 0.0769373\ttotal: 702ms\tremaining: 202ms\n",
      "777:\tlearn: 0.0767613\ttotal: 703ms\tremaining: 201ms\n",
      "778:\tlearn: 0.0766456\ttotal: 704ms\tremaining: 200ms\n",
      "779:\tlearn: 0.0765088\ttotal: 705ms\tremaining: 199ms\n",
      "780:\tlearn: 0.0763899\ttotal: 706ms\tremaining: 198ms\n",
      "781:\tlearn: 0.0763124\ttotal: 707ms\tremaining: 197ms\n",
      "782:\tlearn: 0.0761826\ttotal: 707ms\tremaining: 196ms\n",
      "783:\tlearn: 0.0760989\ttotal: 708ms\tremaining: 195ms\n",
      "784:\tlearn: 0.0759813\ttotal: 709ms\tremaining: 194ms\n",
      "785:\tlearn: 0.0758605\ttotal: 710ms\tremaining: 193ms\n",
      "786:\tlearn: 0.0756552\ttotal: 711ms\tremaining: 192ms\n",
      "787:\tlearn: 0.0756061\ttotal: 711ms\tremaining: 191ms\n",
      "788:\tlearn: 0.0755159\ttotal: 712ms\tremaining: 190ms\n",
      "789:\tlearn: 0.0753841\ttotal: 713ms\tremaining: 190ms\n",
      "790:\tlearn: 0.0753137\ttotal: 714ms\tremaining: 189ms\n",
      "791:\tlearn: 0.0752355\ttotal: 715ms\tremaining: 188ms\n",
      "792:\tlearn: 0.0751784\ttotal: 716ms\tremaining: 187ms\n",
      "793:\tlearn: 0.0750640\ttotal: 716ms\tremaining: 186ms\n",
      "794:\tlearn: 0.0750548\ttotal: 717ms\tremaining: 185ms\n",
      "795:\tlearn: 0.0749689\ttotal: 718ms\tremaining: 184ms\n",
      "796:\tlearn: 0.0749594\ttotal: 719ms\tremaining: 183ms\n",
      "797:\tlearn: 0.0748475\ttotal: 720ms\tremaining: 182ms\n",
      "798:\tlearn: 0.0747539\ttotal: 721ms\tremaining: 181ms\n",
      "799:\tlearn: 0.0747451\ttotal: 721ms\tremaining: 180ms\n",
      "800:\tlearn: 0.0745832\ttotal: 722ms\tremaining: 179ms\n",
      "801:\tlearn: 0.0743721\ttotal: 723ms\tremaining: 179ms\n",
      "802:\tlearn: 0.0742747\ttotal: 724ms\tremaining: 178ms\n",
      "803:\tlearn: 0.0741983\ttotal: 725ms\tremaining: 177ms\n",
      "804:\tlearn: 0.0741183\ttotal: 725ms\tremaining: 176ms\n",
      "805:\tlearn: 0.0740119\ttotal: 726ms\tremaining: 175ms\n",
      "806:\tlearn: 0.0738953\ttotal: 727ms\tremaining: 174ms\n",
      "807:\tlearn: 0.0738098\ttotal: 728ms\tremaining: 173ms\n",
      "808:\tlearn: 0.0737095\ttotal: 729ms\tremaining: 172ms\n",
      "809:\tlearn: 0.0737013\ttotal: 729ms\tremaining: 171ms\n",
      "810:\tlearn: 0.0735556\ttotal: 730ms\tremaining: 170ms\n",
      "811:\tlearn: 0.0734382\ttotal: 731ms\tremaining: 169ms\n",
      "812:\tlearn: 0.0733470\ttotal: 732ms\tremaining: 168ms\n",
      "813:\tlearn: 0.0732734\ttotal: 733ms\tremaining: 167ms\n",
      "814:\tlearn: 0.0731566\ttotal: 733ms\tremaining: 166ms\n",
      "815:\tlearn: 0.0731072\ttotal: 734ms\tremaining: 166ms\n",
      "816:\tlearn: 0.0729939\ttotal: 735ms\tremaining: 165ms\n",
      "817:\tlearn: 0.0728335\ttotal: 736ms\tremaining: 164ms\n",
      "818:\tlearn: 0.0728247\ttotal: 736ms\tremaining: 163ms\n",
      "819:\tlearn: 0.0726446\ttotal: 737ms\tremaining: 162ms\n",
      "820:\tlearn: 0.0725045\ttotal: 738ms\tremaining: 161ms\n",
      "821:\tlearn: 0.0724208\ttotal: 739ms\tremaining: 160ms\n",
      "822:\tlearn: 0.0723482\ttotal: 740ms\tremaining: 159ms\n",
      "823:\tlearn: 0.0722172\ttotal: 740ms\tremaining: 158ms\n",
      "824:\tlearn: 0.0721378\ttotal: 741ms\tremaining: 157ms\n",
      "825:\tlearn: 0.0719913\ttotal: 742ms\tremaining: 156ms\n",
      "826:\tlearn: 0.0719074\ttotal: 743ms\tremaining: 155ms\n",
      "827:\tlearn: 0.0717634\ttotal: 743ms\tremaining: 154ms\n",
      "828:\tlearn: 0.0716439\ttotal: 744ms\tremaining: 154ms\n",
      "829:\tlearn: 0.0715135\ttotal: 745ms\tremaining: 153ms\n",
      "830:\tlearn: 0.0714566\ttotal: 746ms\tremaining: 152ms\n",
      "831:\tlearn: 0.0713775\ttotal: 747ms\tremaining: 151ms\n",
      "832:\tlearn: 0.0712602\ttotal: 748ms\tremaining: 150ms\n",
      "833:\tlearn: 0.0712231\ttotal: 748ms\tremaining: 149ms\n",
      "834:\tlearn: 0.0711191\ttotal: 749ms\tremaining: 148ms\n",
      "835:\tlearn: 0.0710516\ttotal: 750ms\tremaining: 147ms\n",
      "836:\tlearn: 0.0709665\ttotal: 751ms\tremaining: 146ms\n",
      "837:\tlearn: 0.0708175\ttotal: 752ms\tremaining: 145ms\n",
      "838:\tlearn: 0.0706529\ttotal: 752ms\tremaining: 144ms\n",
      "839:\tlearn: 0.0704750\ttotal: 753ms\tremaining: 143ms\n",
      "840:\tlearn: 0.0704099\ttotal: 754ms\tremaining: 143ms\n",
      "841:\tlearn: 0.0702525\ttotal: 755ms\tremaining: 142ms\n",
      "842:\tlearn: 0.0701389\ttotal: 756ms\tremaining: 141ms\n",
      "843:\tlearn: 0.0699960\ttotal: 756ms\tremaining: 140ms\n",
      "844:\tlearn: 0.0698587\ttotal: 757ms\tremaining: 139ms\n",
      "845:\tlearn: 0.0697277\ttotal: 758ms\tremaining: 138ms\n",
      "846:\tlearn: 0.0695924\ttotal: 759ms\tremaining: 137ms\n",
      "847:\tlearn: 0.0695848\ttotal: 760ms\tremaining: 136ms\n",
      "848:\tlearn: 0.0695766\ttotal: 761ms\tremaining: 135ms\n",
      "849:\tlearn: 0.0694595\ttotal: 761ms\tremaining: 134ms\n"
     ]
    },
    {
     "name": "stdout",
     "output_type": "stream",
     "text": [
      "850:\tlearn: 0.0693031\ttotal: 762ms\tremaining: 133ms\n",
      "851:\tlearn: 0.0692005\ttotal: 763ms\tremaining: 133ms\n",
      "852:\tlearn: 0.0690791\ttotal: 764ms\tremaining: 132ms\n",
      "853:\tlearn: 0.0689583\ttotal: 765ms\tremaining: 131ms\n",
      "854:\tlearn: 0.0689197\ttotal: 766ms\tremaining: 130ms\n",
      "855:\tlearn: 0.0688952\ttotal: 766ms\tremaining: 129ms\n",
      "856:\tlearn: 0.0687774\ttotal: 767ms\tremaining: 128ms\n",
      "857:\tlearn: 0.0687244\ttotal: 768ms\tremaining: 127ms\n",
      "858:\tlearn: 0.0685521\ttotal: 769ms\tremaining: 126ms\n",
      "859:\tlearn: 0.0684707\ttotal: 770ms\tremaining: 125ms\n",
      "860:\tlearn: 0.0684627\ttotal: 771ms\tremaining: 124ms\n",
      "861:\tlearn: 0.0683129\ttotal: 771ms\tremaining: 123ms\n",
      "862:\tlearn: 0.0682553\ttotal: 772ms\tremaining: 123ms\n",
      "863:\tlearn: 0.0680872\ttotal: 773ms\tremaining: 122ms\n",
      "864:\tlearn: 0.0679323\ttotal: 774ms\tremaining: 121ms\n",
      "865:\tlearn: 0.0678657\ttotal: 775ms\tremaining: 120ms\n",
      "866:\tlearn: 0.0676669\ttotal: 776ms\tremaining: 119ms\n",
      "867:\tlearn: 0.0675651\ttotal: 776ms\tremaining: 118ms\n",
      "868:\tlearn: 0.0674935\ttotal: 777ms\tremaining: 117ms\n",
      "869:\tlearn: 0.0673469\ttotal: 778ms\tremaining: 116ms\n",
      "870:\tlearn: 0.0672486\ttotal: 779ms\tremaining: 115ms\n",
      "871:\tlearn: 0.0671862\ttotal: 780ms\tremaining: 114ms\n",
      "872:\tlearn: 0.0670228\ttotal: 780ms\tremaining: 114ms\n",
      "873:\tlearn: 0.0668988\ttotal: 781ms\tremaining: 113ms\n",
      "874:\tlearn: 0.0667888\ttotal: 782ms\tremaining: 112ms\n",
      "875:\tlearn: 0.0666174\ttotal: 783ms\tremaining: 111ms\n",
      "876:\tlearn: 0.0665123\ttotal: 784ms\tremaining: 110ms\n",
      "877:\tlearn: 0.0663996\ttotal: 785ms\tremaining: 109ms\n",
      "878:\tlearn: 0.0663331\ttotal: 785ms\tremaining: 108ms\n",
      "879:\tlearn: 0.0662219\ttotal: 786ms\tremaining: 107ms\n",
      "880:\tlearn: 0.0661724\ttotal: 787ms\tremaining: 106ms\n",
      "881:\tlearn: 0.0661262\ttotal: 788ms\tremaining: 105ms\n",
      "882:\tlearn: 0.0661188\ttotal: 788ms\tremaining: 104ms\n",
      "883:\tlearn: 0.0659860\ttotal: 789ms\tremaining: 104ms\n",
      "884:\tlearn: 0.0659050\ttotal: 790ms\tremaining: 103ms\n",
      "885:\tlearn: 0.0658087\ttotal: 791ms\tremaining: 102ms\n",
      "886:\tlearn: 0.0656785\ttotal: 792ms\tremaining: 101ms\n",
      "887:\tlearn: 0.0655393\ttotal: 793ms\tremaining: 100ms\n",
      "888:\tlearn: 0.0653940\ttotal: 793ms\tremaining: 99.1ms\n",
      "889:\tlearn: 0.0653323\ttotal: 794ms\tremaining: 98.2ms\n",
      "890:\tlearn: 0.0653259\ttotal: 795ms\tremaining: 97.3ms\n",
      "891:\tlearn: 0.0652150\ttotal: 796ms\tremaining: 96.3ms\n",
      "892:\tlearn: 0.0650692\ttotal: 797ms\tremaining: 95.5ms\n",
      "893:\tlearn: 0.0649994\ttotal: 797ms\tremaining: 94.5ms\n",
      "894:\tlearn: 0.0648734\ttotal: 798ms\tremaining: 93.6ms\n",
      "895:\tlearn: 0.0648142\ttotal: 799ms\tremaining: 92.7ms\n",
      "896:\tlearn: 0.0647541\ttotal: 800ms\tremaining: 91.8ms\n",
      "897:\tlearn: 0.0646241\ttotal: 801ms\tremaining: 90.9ms\n",
      "898:\tlearn: 0.0645503\ttotal: 801ms\tremaining: 90ms\n",
      "899:\tlearn: 0.0644228\ttotal: 802ms\tremaining: 89.1ms\n",
      "900:\tlearn: 0.0643108\ttotal: 803ms\tremaining: 88.2ms\n",
      "901:\tlearn: 0.0642225\ttotal: 804ms\tremaining: 87.4ms\n",
      "902:\tlearn: 0.0641211\ttotal: 805ms\tremaining: 86.5ms\n",
      "903:\tlearn: 0.0640025\ttotal: 806ms\tremaining: 85.6ms\n",
      "904:\tlearn: 0.0639199\ttotal: 806ms\tremaining: 84.7ms\n",
      "905:\tlearn: 0.0638166\ttotal: 807ms\tremaining: 83.8ms\n",
      "906:\tlearn: 0.0637416\ttotal: 808ms\tremaining: 82.9ms\n",
      "907:\tlearn: 0.0636554\ttotal: 809ms\tremaining: 82ms\n",
      "908:\tlearn: 0.0635632\ttotal: 810ms\tremaining: 81.1ms\n",
      "909:\tlearn: 0.0634387\ttotal: 811ms\tremaining: 80.2ms\n",
      "910:\tlearn: 0.0633508\ttotal: 812ms\tremaining: 79.3ms\n",
      "911:\tlearn: 0.0632522\ttotal: 813ms\tremaining: 78.4ms\n",
      "912:\tlearn: 0.0632452\ttotal: 813ms\tremaining: 77.5ms\n",
      "913:\tlearn: 0.0631287\ttotal: 814ms\tremaining: 76.6ms\n",
      "914:\tlearn: 0.0630434\ttotal: 815ms\tremaining: 75.7ms\n",
      "915:\tlearn: 0.0629597\ttotal: 816ms\tremaining: 74.8ms\n",
      "916:\tlearn: 0.0628956\ttotal: 816ms\tremaining: 73.9ms\n",
      "917:\tlearn: 0.0628260\ttotal: 817ms\tremaining: 73ms\n",
      "918:\tlearn: 0.0627360\ttotal: 818ms\tremaining: 72.1ms\n",
      "919:\tlearn: 0.0626228\ttotal: 819ms\tremaining: 71.2ms\n",
      "920:\tlearn: 0.0625907\ttotal: 820ms\tremaining: 70.3ms\n",
      "921:\tlearn: 0.0625146\ttotal: 820ms\tremaining: 69.4ms\n",
      "922:\tlearn: 0.0623847\ttotal: 821ms\tremaining: 68.5ms\n",
      "923:\tlearn: 0.0622828\ttotal: 822ms\tremaining: 67.6ms\n",
      "924:\tlearn: 0.0622522\ttotal: 823ms\tremaining: 66.7ms\n",
      "925:\tlearn: 0.0621749\ttotal: 824ms\tremaining: 65.8ms\n",
      "926:\tlearn: 0.0620769\ttotal: 824ms\tremaining: 64.9ms\n",
      "927:\tlearn: 0.0619223\ttotal: 825ms\tremaining: 64ms\n",
      "928:\tlearn: 0.0618522\ttotal: 826ms\tremaining: 63.1ms\n",
      "929:\tlearn: 0.0617521\ttotal: 827ms\tremaining: 62.2ms\n",
      "930:\tlearn: 0.0617070\ttotal: 828ms\tremaining: 61.3ms\n",
      "931:\tlearn: 0.0616270\ttotal: 828ms\tremaining: 60.4ms\n",
      "932:\tlearn: 0.0615394\ttotal: 829ms\tremaining: 59.5ms\n",
      "933:\tlearn: 0.0614819\ttotal: 830ms\tremaining: 58.6ms\n",
      "934:\tlearn: 0.0614307\ttotal: 831ms\tremaining: 57.8ms\n",
      "935:\tlearn: 0.0613318\ttotal: 832ms\tremaining: 56.9ms\n",
      "936:\tlearn: 0.0611803\ttotal: 832ms\tremaining: 56ms\n",
      "937:\tlearn: 0.0611183\ttotal: 833ms\tremaining: 55.1ms\n",
      "938:\tlearn: 0.0610487\ttotal: 834ms\tremaining: 54.2ms\n",
      "939:\tlearn: 0.0609091\ttotal: 835ms\tremaining: 53.3ms\n",
      "940:\tlearn: 0.0608439\ttotal: 836ms\tremaining: 52.4ms\n",
      "941:\tlearn: 0.0607120\ttotal: 836ms\tremaining: 51.5ms\n",
      "942:\tlearn: 0.0606047\ttotal: 837ms\tremaining: 50.6ms\n",
      "943:\tlearn: 0.0604855\ttotal: 838ms\tremaining: 49.7ms\n",
      "944:\tlearn: 0.0604271\ttotal: 839ms\tremaining: 48.8ms\n",
      "945:\tlearn: 0.0603338\ttotal: 840ms\tremaining: 47.9ms\n",
      "946:\tlearn: 0.0602665\ttotal: 840ms\tremaining: 47ms\n",
      "947:\tlearn: 0.0601682\ttotal: 841ms\tremaining: 46.1ms\n",
      "948:\tlearn: 0.0601534\ttotal: 842ms\tremaining: 45.3ms\n",
      "949:\tlearn: 0.0600337\ttotal: 843ms\tremaining: 44.4ms\n",
      "950:\tlearn: 0.0599378\ttotal: 843ms\tremaining: 43.5ms\n",
      "951:\tlearn: 0.0598735\ttotal: 844ms\tremaining: 42.6ms\n",
      "952:\tlearn: 0.0598154\ttotal: 845ms\tremaining: 41.7ms\n",
      "953:\tlearn: 0.0597622\ttotal: 846ms\tremaining: 40.8ms\n",
      "954:\tlearn: 0.0596954\ttotal: 847ms\tremaining: 39.9ms\n",
      "955:\tlearn: 0.0595797\ttotal: 848ms\tremaining: 39ms\n",
      "956:\tlearn: 0.0594351\ttotal: 849ms\tremaining: 38.2ms\n",
      "957:\tlearn: 0.0593521\ttotal: 850ms\tremaining: 37.3ms\n",
      "958:\tlearn: 0.0592344\ttotal: 851ms\tremaining: 36.4ms\n",
      "959:\tlearn: 0.0591187\ttotal: 852ms\tremaining: 35.5ms\n",
      "960:\tlearn: 0.0590938\ttotal: 852ms\tremaining: 34.6ms\n",
      "961:\tlearn: 0.0590103\ttotal: 853ms\tremaining: 33.7ms\n",
      "962:\tlearn: 0.0588820\ttotal: 854ms\tremaining: 32.8ms\n",
      "963:\tlearn: 0.0588125\ttotal: 855ms\tremaining: 31.9ms\n",
      "964:\tlearn: 0.0587378\ttotal: 856ms\tremaining: 31ms\n",
      "965:\tlearn: 0.0586731\ttotal: 856ms\tremaining: 30.1ms\n",
      "966:\tlearn: 0.0585681\ttotal: 857ms\tremaining: 29.3ms\n",
      "967:\tlearn: 0.0584836\ttotal: 858ms\tremaining: 28.4ms\n",
      "968:\tlearn: 0.0584162\ttotal: 859ms\tremaining: 27.5ms\n",
      "969:\tlearn: 0.0583707\ttotal: 860ms\tremaining: 26.6ms\n",
      "970:\tlearn: 0.0582782\ttotal: 861ms\tremaining: 25.7ms\n",
      "971:\tlearn: 0.0581466\ttotal: 862ms\tremaining: 24.8ms\n",
      "972:\tlearn: 0.0580660\ttotal: 862ms\tremaining: 23.9ms\n",
      "973:\tlearn: 0.0580587\ttotal: 863ms\tremaining: 23ms\n",
      "974:\tlearn: 0.0579381\ttotal: 864ms\tremaining: 22.2ms\n",
      "975:\tlearn: 0.0578931\ttotal: 865ms\tremaining: 21.3ms\n",
      "976:\tlearn: 0.0578291\ttotal: 866ms\tremaining: 20.4ms\n",
      "977:\tlearn: 0.0577400\ttotal: 866ms\tremaining: 19.5ms\n",
      "978:\tlearn: 0.0576249\ttotal: 867ms\tremaining: 18.6ms\n"
     ]
    },
    {
     "name": "stdout",
     "output_type": "stream",
     "text": [
      "979:\tlearn: 0.0575392\ttotal: 868ms\tremaining: 17.7ms\n",
      "980:\tlearn: 0.0574998\ttotal: 869ms\tremaining: 16.8ms\n",
      "981:\tlearn: 0.0574639\ttotal: 870ms\tremaining: 15.9ms\n",
      "982:\tlearn: 0.0573681\ttotal: 871ms\tremaining: 15.1ms\n",
      "983:\tlearn: 0.0572453\ttotal: 872ms\tremaining: 14.2ms\n",
      "984:\tlearn: 0.0571835\ttotal: 872ms\tremaining: 13.3ms\n",
      "985:\tlearn: 0.0570320\ttotal: 873ms\tremaining: 12.4ms\n",
      "986:\tlearn: 0.0570083\ttotal: 874ms\tremaining: 11.5ms\n",
      "987:\tlearn: 0.0569557\ttotal: 875ms\tremaining: 10.6ms\n",
      "988:\tlearn: 0.0568794\ttotal: 876ms\tremaining: 9.74ms\n",
      "989:\tlearn: 0.0568083\ttotal: 877ms\tremaining: 8.85ms\n",
      "990:\tlearn: 0.0567364\ttotal: 878ms\tremaining: 7.97ms\n",
      "991:\tlearn: 0.0565878\ttotal: 878ms\tremaining: 7.08ms\n",
      "992:\tlearn: 0.0565087\ttotal: 879ms\tremaining: 6.2ms\n",
      "993:\tlearn: 0.0564465\ttotal: 880ms\tremaining: 5.31ms\n",
      "994:\tlearn: 0.0563369\ttotal: 881ms\tremaining: 4.43ms\n",
      "995:\tlearn: 0.0563303\ttotal: 882ms\tremaining: 3.54ms\n",
      "996:\tlearn: 0.0562605\ttotal: 883ms\tremaining: 2.65ms\n",
      "997:\tlearn: 0.0561927\ttotal: 883ms\tremaining: 1.77ms\n",
      "998:\tlearn: 0.0561729\ttotal: 884ms\tremaining: 885us\n",
      "999:\tlearn: 0.0561062\ttotal: 885ms\tremaining: 0us\n"
     ]
    },
    {
     "data": {
      "text/plain": [
       "<catboost.core.CatBoostRegressor at 0x7ff08024d0a0>"
      ]
     },
     "execution_count": 9,
     "metadata": {},
     "output_type": "execute_result"
    }
   ],
   "source": [
    "#Train the Model \n",
    "prior_model = ctb.CatBoostRegressor()\n",
    "prior_model.fit(X_train,Y_train)"
   ]
  },
  {
   "cell_type": "code",
   "execution_count": 10,
   "id": "af65dcda",
   "metadata": {
    "execution": {
     "iopub.execute_input": "2022-03-11T09:56:25.094179Z",
     "iopub.status.busy": "2022-03-11T09:56:25.093787Z",
     "iopub.status.idle": "2022-03-11T09:56:25.101492Z",
     "shell.execute_reply": "2022-03-11T09:56:25.101779Z"
    },
    "id": "af65dcda",
    "papermill": {
     "duration": 0.021458,
     "end_time": "2022-03-11T09:56:25.101897",
     "exception": false,
     "start_time": "2022-03-11T09:56:25.080439",
     "status": "completed"
    },
    "tags": []
   },
   "outputs": [
    {
     "data": {
      "application/scrapbook.scrap.json+json": {
       "data": 0.15915275409860308,
       "encoder": "json",
       "name": "Prior Model MSE",
       "version": 1
      }
     },
     "metadata": {
      "scrapbook": {
       "data": true,
       "display": false,
       "name": "Prior Model MSE"
      }
     },
     "output_type": "display_data"
    },
    {
     "data": {
      "application/scrapbook.scrap.json+json": {
       "data": 0.15888786341264846,
       "encoder": "json",
       "name": "ABC Pre-generator MSE",
       "version": 1
      }
     },
     "metadata": {
      "scrapbook": {
       "data": true,
       "display": false,
       "name": "ABC Pre-generator MSE"
      }
     },
     "output_type": "display_data"
    },
    {
     "data": {
      "application/scrapbook.scrap.json+json": {
       "data": 0.2366182315648059,
       "encoder": "json",
       "name": "Prior Model MAE",
       "version": 1
      }
     },
     "metadata": {
      "scrapbook": {
       "data": true,
       "display": false,
       "name": "Prior Model MAE"
      }
     },
     "output_type": "display_data"
    },
    {
     "data": {
      "application/scrapbook.scrap.json+json": {
       "data": 0.23691080569741574,
       "encoder": "json",
       "name": "ABC Pre-generator MAE",
       "version": 1
      }
     },
     "metadata": {
      "scrapbook": {
       "data": true,
       "display": false,
       "name": "ABC Pre-generator MAE"
      }
     },
     "output_type": "display_data"
    }
   ],
   "source": [
    "y_pred = prior_model.predict(X_test)\n",
    "y_abc = y_pred + np.random.normal(0,variance, y_pred.shape)\n",
    "mse = mean_squared_error(y_pred,Y_test)\n",
    "sb.glue(\"Prior Model MSE\",mse)\n",
    "mse = mean_squared_error(y_abc,Y_test)\n",
    "sb.glue(\"ABC Pre-generator MSE\",mse)\n",
    "\n",
    "mae = mean_absolute_error(y_pred,Y_test)\n",
    "sb.glue(\"Prior Model MAE\",mae)\n",
    "mae = mean_absolute_error(y_abc,Y_test)\n",
    "sb.glue(\"ABC Pre-generator MAE\",mae)"
   ]
  },
  {
   "cell_type": "markdown",
   "id": "25609da2",
   "metadata": {
    "papermill": {
     "duration": 0.009937,
     "end_time": "2022-03-11T09:56:25.121990",
     "exception": false,
     "start_time": "2022-03-11T09:56:25.112053",
     "status": "completed"
    },
    "tags": []
   },
   "source": [
    "# ABC GAN Model"
   ]
  },
  {
   "cell_type": "code",
   "execution_count": 11,
   "id": "dfc3464d",
   "metadata": {
    "execution": {
     "iopub.execute_input": "2022-03-11T09:56:25.144958Z",
     "iopub.status.busy": "2022-03-11T09:56:25.144586Z",
     "iopub.status.idle": "2022-03-11T09:56:25.147135Z",
     "shell.execute_reply": "2022-03-11T09:56:25.147378Z"
    },
    "papermill": {
     "duration": 0.01543,
     "end_time": "2022-03-11T09:56:25.147492",
     "exception": false,
     "start_time": "2022-03-11T09:56:25.132062",
     "status": "completed"
    },
    "tags": []
   },
   "outputs": [],
   "source": [
    "gen = network.Generator(n_features+1).to(device)\n",
    "disc = network.Discriminator(n_features+1).to(device)\n",
    "\n",
    "criterion = torch.nn.BCELoss()\n",
    "gen_opt = torch.optim.Adam(gen.parameters(), lr=0.001, betas=(0.5, 0.999))\n",
    "disc_opt = torch.optim.Adam(disc.parameters(), lr=0.001, betas=(0.5, 0.999))"
   ]
  },
  {
   "cell_type": "code",
   "execution_count": 12,
   "id": "b75fdd85",
   "metadata": {
    "execution": {
     "iopub.execute_input": "2022-03-11T09:56:25.169915Z",
     "iopub.status.busy": "2022-03-11T09:56:25.169533Z",
     "iopub.status.idle": "2022-03-11T09:57:01.560406Z",
     "shell.execute_reply": "2022-03-11T09:57:01.560785Z"
    },
    "papermill": {
     "duration": 36.403355,
     "end_time": "2022-03-11T09:57:01.560917",
     "exception": false,
     "start_time": "2022-03-11T09:56:25.157562",
     "status": "completed"
    },
    "tags": []
   },
   "outputs": [
    {
     "data": {
      "image/png": "[encoded data removed]",
      "text/plain": [
       "<Figure size 432x288 with 1 Axes>"
      ]
     },
     "metadata": {
      "needs_background": "light"
     },
     "output_type": "display_data"
    },
    {
     "data": {
      "image/png": "[encoded data removed]",
      "text/plain": [
       "<Figure size 432x288 with 1 Axes>"
      ]
     },
     "metadata": {
      "needs_background": "light"
     },
     "output_type": "display_data"
    }
   ],
   "source": [
    "#Training the ABC_GAN \n",
    "ABC_train_test2.training_GAN(disc,gen,disc_opt,gen_opt,train_data,batch_size,n_epochs,criterion,prior_model,variance,0,device)"
   ]
  },
  {
   "cell_type": "code",
   "execution_count": 13,
   "id": "1fa7c368",
   "metadata": {
    "execution": {
     "iopub.execute_input": "2022-03-11T09:57:01.585540Z",
     "iopub.status.busy": "2022-03-11T09:57:01.585154Z",
     "iopub.status.idle": "2022-03-11T09:57:01.891287Z",
     "shell.execute_reply": "2022-03-11T09:57:01.891585Z"
    },
    "papermill": {
     "duration": 0.319774,
     "end_time": "2022-03-11T09:57:01.891713",
     "exception": false,
     "start_time": "2022-03-11T09:57:01.571939",
     "status": "completed"
    },
    "tags": []
   },
   "outputs": [
    {
     "data": {
      "application/scrapbook.scrap.json+json": {
       "data": 0.16308185600118252,
       "encoder": "json",
       "name": "ABC-GAN Model 1 MSE",
       "version": 1
      }
     },
     "metadata": {
      "scrapbook": {
       "data": true,
       "display": false,
       "name": "ABC-GAN Model 1 MSE"
      }
     },
     "output_type": "display_data"
    },
    {
     "data": {
      "application/scrapbook.scrap.json+json": {
       "data": 0.24712206061637285,
       "encoder": "json",
       "name": "ABC-GAN Model 1 MAE",
       "version": 1
      }
     },
     "metadata": {
      "scrapbook": {
       "data": true,
       "display": false,
       "name": "ABC-GAN Model 1 MAE"
      }
     },
     "output_type": "display_data"
    },
    {
     "data": {
      "application/scrapbook.scrap.json+json": {
       "data": 25.20645018287003,
       "encoder": "json",
       "name": "ABC-GAN Model 1 Manhattan Distance",
       "version": 1
      }
     },
     "metadata": {
      "scrapbook": {
       "data": true,
       "display": false,
       "name": "ABC-GAN Model 1 Manhattan Distance"
      }
     },
     "output_type": "display_data"
    },
    {
     "data": {
      "application/scrapbook.scrap.json+json": {
       "data": 4.078502048135515,
       "encoder": "json",
       "name": "ABC-GAN Model 1 Euclidean distance",
       "version": 1
      }
     },
     "metadata": {
      "scrapbook": {
       "data": true,
       "display": false,
       "name": "ABC-GAN Model 1 Euclidean distance"
      }
     },
     "output_type": "display_data"
    },
    {
     "data": {
      "application/scrapbook.scrap.json+json": {
       "data": [
        [
         0.16423115223508156,
         0.16423391862106074,
         0.16351426780125103,
         0.16346964637139402,
         0.1624919236547596,
         0.16269234505393074,
         0.16476167957088517,
         0.16258900886904798,
         0.16176504410547157,
         0.1632278427638633,
         0.16416635784989025,
         0.16376423109839916,
         0.16158323767539598,
         0.1641546029611391,
         0.161125784729412,
         0.16473517781228839,
         0.16267785602250678,
         0.16283871435820343,
         0.16343523720111372,
         0.161936818530812,
         0.16236620188600687,
         0.1629454481288951,
         0.16071367164292155,
         0.16249815024121764,
         0.16385815145907423,
         0.16252216221602458,
         0.1607320588742187,
         0.16337229288947722,
         0.16248528685472963,
         0.16298658763820853,
         0.16147322138779735,
         0.16432792244384098,
         0.1624898043479892,
         0.1642769677990553,
         0.16298515001443348,
         0.16298692826457553,
         0.1648548884414281,
         0.16033118558977208,
         0.16250861440823555,
         0.1623006947928043,
         0.1641110423711533,
         0.1635832187656711,
         0.16339245973403882,
         0.1645279728297883,
         0.16433603210736616,
         0.16273438296860213,
         0.16181581539342035,
         0.1629324564304235,
         0.1623826305713316,
         0.1610594907414283,
         0.1629791375748169,
         0.16176536020081972,
         0.16539871715733073,
         0.16390091679586366,
         0.16170058725503828,
         0.16360291968892068,
         0.16219925257826937,
         0.16241697380447093,
         0.1634452759567683,
         0.16316092849437014,
         0.16274217242938116,
         0.1633619770412991,
         0.16374430944997664,
         0.16217588401049368,
         0.16416447066348613,
         0.1616969146925666,
         0.16433090406774992,
         0.16408197487624698,
         0.16430807523638102,
         0.16165118889513114,
         0.16345698764276217,
         0.16247270330917385,
         0.16271993565664666,
         0.1624092602107047,
         0.16434339574452425,
         0.16427454350120765,
         0.16444487980233974,
         0.16293764607149186,
         0.16438861607543068,
         0.16416411155600444,
         0.16313755339042674,
         0.16288862336188564,
         0.16260805525700944,
         0.16294581456878315,
         0.16263818555736417,
         0.1647563764928413,
         0.16305716377265642,
         0.1623861098007824,
         0.16251955727260703,
         0.16330781299756364,
         0.16516417736382047,
         0.16303825776420033,
         0.1616734401921722,
         0.16385708273008626,
         0.16293726726468558,
         0.16386429487712376,
         0.16299832314149287,
         0.16172225699233692,
         0.16384091930000352,
         0.16311856906090785
        ],
        [
         0.2481007447612344,
         0.24812048558584032,
         0.24736815312986865,
         0.2471498504609746,
         0.24562035064559942,
         0.24587048562791416,
         0.24761468122768052,
         0.24739638944247774,
         0.24687450052257262,
         0.24657195793720438,
         0.2480455556080914,
         0.24721601687590866,
         0.2457056598664791,
         0.24861081158194473,
         0.24578282845151775,
         0.24849596745608485,
         0.24856623877570325,
         0.24606200404392153,
         0.2474508227999596,
         0.24337102050947793,
         0.24652428079542577,
         0.24690324011459655,
         0.2457272864184251,
         0.24698938840233228,
         0.24736905932499498,
         0.245912195365949,
         0.24610562828899013,
         0.24634729130376204,
         0.24634880676646442,
         0.24681306836724864,
         0.2458391146661312,
         0.24887805638433086,
         0.2458130529734726,
         0.248948765315992,
         0.24771725249421947,
         0.24811397728455417,
         0.24818834101817772,
         0.24591588435292827,
         0.2475232852476777,
         0.24829596662711279,
         0.24696234023819366,
         0.2456348184313552,
         0.24696054209169804,
         0.2503243763839789,
         0.2469688654128535,
         0.24765039229875102,
         0.24580837430103736,
         0.2471929278188184,
         0.24527117896678985,
         0.24590605630667187,
         0.24633997351880751,
         0.2460999856429065,
         0.2484267318402143,
         0.24743652374794087,
         0.24655504168613868,
         0.24786535097176537,
         0.24616731347187476,
         0.24721577648511706,
         0.24691918486838832,
         0.24607796501368284,
         0.2474690152916546,
         0.2460230773899193,
         0.2490183381802019,
         0.246902387169208,
         0.2471322793623104,
         0.2462516086833442,
         0.24729615882696473,
         0.24803660906778247,
         0.24923496490673108,
         0.24644569258260376,
         0.24815792825949542,
         0.24650592723970904,
         0.24855141299685427,
         0.24616766598659987,
         0.24658035970859082,
         0.2478250591084361,
         0.24952535749431334,
         0.24501723673779005,
         0.24843497641895915,
         0.24809330053554446,
         0.24972278283288082,
         0.24659978439483574,
         0.24661238354575984,
         0.2481638159712448,
         0.2443620646007213,
         0.24827598701870324,
         0.24609211768370634,
         0.24698299112930602,
         0.24734952003128974,
         0.24782792203055293,
         0.24872840687121248,
         0.24655507397198795,
         0.2466717587564798,
         0.2484395449396734,
         0.24755704843019152,
         0.2468506131576849,
         0.24797592825238027,
         0.24535835455810906,
         0.24735394574920921,
         0.24800447544411702
        ],
        [
         25.30627596564591,
         25.30828952975571,
         25.231551619246602,
         25.20928474701941,
         25.05327576585114,
         25.078789534047246,
         25.256697485223413,
         25.23443172313273,
         25.181199053302407,
         25.150339709594846,
         25.300646672025323,
         25.216033721342683,
         25.061977306380868,
         25.35830278135836,
         25.06984850205481,
         25.346588680520654,
         25.35375635512173,
         25.098324412479997,
         25.23998392559588,
         24.82384409196675,
         25.145476641133428,
         25.184130491688848,
         25.06418321467936,
         25.192917617037892,
         25.231644051149487,
         25.0830439273268,
         25.102774085476995,
         25.127423712983727,
         25.127578290179372,
         25.174932973459363,
         25.075589695945382,
         25.38556175120175,
         25.072931403294206,
         25.392774062231183,
         25.267159754410386,
         25.307625683024526,
         25.315210783854127,
         25.083420203998685,
         25.247375095263124,
         25.326188595965505,
         25.190158704295754,
         25.05475147999823,
         25.1899752933532,
         25.533086391165853,
         25.19082427211106,
         25.260340014472604,
         25.07245417870581,
         25.21367863751948,
         25.017660254612565,
         25.08241774328053,
         25.126677298918366,
         25.102198535576463,
         25.33952664770186,
         25.238525422289968,
         25.148614251986146,
         25.28226579912007,
         25.109065974131227,
         25.21600920148194,
         25.18575685657561,
         25.09995243139565,
         25.24183955974877,
         25.094353893771768,
         25.399870494380593,
         25.184043491259217,
         25.20749249495566,
         25.117664085701108,
         25.224208200350404,
         25.29973412491381,
         25.42196642048657,
         25.137460643425584,
         25.312108682468534,
         25.143604578450322,
         25.352244125679135,
         25.109101930633187,
         25.151196690276265,
         25.278156029060483,
         25.45158646441996,
         24.991758147254586,
         25.340367594733834,
         25.305516654625535,
         25.471723848953843,
         25.153178008273244,
         25.154463121667504,
         25.312709229066968,
         24.924930589273572,
         25.32415067590773,
         25.101396003738046,
         25.192265095189214,
         25.229651043191552,
         25.2784480471164,
         25.37029750086367,
         25.14861754514277,
         25.16051939316094,
         25.34083358384669,
         25.250818939879537,
         25.17876254208386,
         25.293544681742787,
         25.026552164927125,
         25.23010246641934,
         25.296456495299935
        ],
        [
         4.092869107115241,
         4.092903578066333,
         4.0839264581683645,
         4.083369188535636,
         4.071139424385448,
         4.073649370711836,
         4.09947451708512,
         4.072355449201714,
         4.062023448819332,
         4.080348019705434,
         4.0920616442923725,
         4.087046803259869,
         4.059740169381581,
         4.091915138665046,
         4.053989398407453,
         4.099144805548275,
         4.07346797143364,
         4.075481427333064,
         4.082939406177074,
         4.064179559289036,
         4.069564177202849,
         4.076816859897841,
         4.048801613759063,
         4.071217425366053,
         4.088218615586203,
         4.0715182114334825,
         4.049033218580739,
         4.082153093004558,
         4.0710562829789545,
         4.077331472801453,
         4.0583578676054834,
         4.0940747537473925,
         4.0711128753075485,
         4.093439961145593,
         4.077313490703434,
         4.077335733415474,
         4.10063392916579,
         4.0439808271252655,
         4.071348507514436,
         4.068743155922482,
         4.091372180804092,
         4.084787425815259,
         4.082405037826595,
         4.0965660288390815,
         4.0941757747990435,
         4.074175629841872,
         4.062660848523892,
         4.076654333629869,
         4.069770057174708,
         4.053155320935245,
         4.077238284995288,
         4.062027417495309,
         4.107392013193741,
         4.08875207284302,
         4.0612140918712845,
         4.085033391328633,
         4.067471421286629,
         4.070200403918218,
         4.083064798358013,
         4.07951157694469,
         4.074273136130771,
         4.082024210880247,
         4.086798204450229,
         4.06717840389014,
         4.092038123927437,
         4.061167972226929,
         4.094111895748636,
         4.09100983100471,
         4.093827509081308,
         4.0605937087208535,
         4.083211081925809,
         4.070898640046904,
         4.0739947762580595,
         4.070103750703645,
         4.0942675005355325,
         4.093409756807053,
         4.095531435581791,
         4.076719256864785,
         4.094830746159593,
         4.092033648286931,
         4.079219342695797,
         4.076105933720607,
         4.072593968985241,
         4.0768214439702755,
         4.07297126516394,
         4.099408542981513,
         4.078214156320258,
         4.069813656628495,
         4.071485581677273,
         4.081347439970222,
         4.104478784341525,
         4.077977720874458,
         4.060873169603006,
         4.088205283308166,
         4.076714517966388,
         4.088295253215773,
         4.077478259958264,
         4.061486207439139,
         4.088003640972003,
         4.078981986257429
        ]
       ],
       "encoder": "json",
       "name": "ABC_GAN_1 Metrics",
       "version": 1
      }
     },
     "metadata": {
      "scrapbook": {
       "data": true,
       "display": false,
       "name": "ABC_GAN_1 Metrics"
      }
     },
     "output_type": "display_data"
    },
    {
     "name": "stdout",
     "output_type": "stream",
     "text": [
      "MSE\n",
      "0.16308185600118252\n"
     ]
    }
   ],
   "source": [
    "ABC_GAN1_metrics=ABC_train_test2.test_generator(gen,test_data,prior_model,variance,0,\"1\",device)\n",
    "sb.glue(\"ABC_GAN_1 Metrics\",ABC_GAN1_metrics)\n",
    "\n",
    "print(\"MSE\")\n",
    "print(mean(ABC_GAN1_metrics[0]))"
   ]
  },
  {
   "cell_type": "code",
   "execution_count": 14,
   "id": "eb22ce5c",
   "metadata": {
    "execution": {
     "iopub.execute_input": "2022-03-11T09:57:01.919463Z",
     "iopub.status.busy": "2022-03-11T09:57:01.919089Z",
     "iopub.status.idle": "2022-03-11T09:57:02.245599Z",
     "shell.execute_reply": "2022-03-11T09:57:02.245903Z"
    },
    "papermill": {
     "duration": 0.341638,
     "end_time": "2022-03-11T09:57:02.246026",
     "exception": false,
     "start_time": "2022-03-11T09:57:01.904388",
     "status": "completed"
    },
    "tags": []
   },
   "outputs": [
    {
     "data": {
      "image/png": "[encoded data removed]",
      "text/plain": [
       "<Figure size 432x288 with 1 Axes>"
      ]
     },
     "metadata": {
      "needs_background": "light"
     },
     "output_type": "display_data"
    },
    {
     "data": {
      "image/png": "[encoded data removed]",
      "text/plain": [
       "<Figure size 432x288 with 1 Axes>"
      ]
     },
     "metadata": {
      "needs_background": "light"
     },
     "output_type": "display_data"
    },
    {
     "data": {
      "image/png": "[encoded data removed]",
      "text/plain": [
       "<Figure size 432x288 with 1 Axes>"
      ]
     },
     "metadata": {
      "needs_background": "light"
     },
     "output_type": "display_data"
    },
    {
     "data": {
      "image/png": "[encoded data removed]",
      "text/plain": [
       "<Figure size 432x288 with 1 Axes>"
      ]
     },
     "metadata": {
      "needs_background": "light"
     },
     "output_type": "display_data"
    }
   ],
   "source": [
    "sanityChecks.discProbVsError(train_data,disc,device)\n",
    "sanityChecks.discProbVsError(test_data,disc,device)"
   ]
  },
  {
   "cell_type": "markdown",
   "id": "130f3a4d",
   "metadata": {
    "id": "130f3a4d",
    "papermill": {
     "duration": 0.014747,
     "end_time": "2022-03-11T09:57:02.276132",
     "exception": false,
     "start_time": "2022-03-11T09:57:02.261385",
     "status": "completed"
    },
    "tags": []
   },
   "source": [
    "# ABC - GAN Model with skip connection"
   ]
  },
  {
   "cell_type": "code",
   "execution_count": 15,
   "id": "4e43dad1",
   "metadata": {
    "execution": {
     "iopub.execute_input": "2022-03-11T09:57:02.309138Z",
     "iopub.status.busy": "2022-03-11T09:57:02.308761Z",
     "iopub.status.idle": "2022-03-11T09:57:02.311155Z",
     "shell.execute_reply": "2022-03-11T09:57:02.311418Z"
    },
    "id": "4e43dad1",
    "papermill": {
     "duration": 0.020514,
     "end_time": "2022-03-11T09:57:02.311532",
     "exception": false,
     "start_time": "2022-03-11T09:57:02.291018",
     "status": "completed"
    },
    "tags": []
   },
   "outputs": [],
   "source": [
    "#Generator\n",
    "gen3 = network.GeneratorWithSkipConnection(n_features+1).to(device)\n",
    "constraints=network.weightConstraint()\n",
    "#Discriminator \n",
    "disc3 = network.Discriminator(n_features+1).to(device)\n",
    "\n",
    "criterion = torch.nn.BCELoss()\n",
    "gen_opt = torch.optim.Adam(gen3.parameters(), lr=0.001, betas=(0.5, 0.999))\n",
    "disc_opt = torch.optim.Adam(disc3.parameters(), lr=0.001, betas=(0.5, 0.999))\n"
   ]
  },
  {
   "cell_type": "code",
   "execution_count": 16,
   "id": "26acbc37",
   "metadata": {
    "execution": {
     "iopub.execute_input": "2022-03-11T09:57:02.344101Z",
     "iopub.status.busy": "2022-03-11T09:57:02.343717Z",
     "iopub.status.idle": "2022-03-11T09:59:32.690763Z",
     "shell.execute_reply": "2022-03-11T09:59:32.691070Z"
    },
    "id": "26acbc37",
    "papermill": {
     "duration": 150.364416,
     "end_time": "2022-03-11T09:59:32.691192",
     "exception": false,
     "start_time": "2022-03-11T09:57:02.326776",
     "status": "completed"
    },
    "tags": []
   },
   "outputs": [
    {
     "data": {
      "image/png": "[encoded data removed]",
      "text/plain": [
       "<Figure size 432x288 with 1 Axes>"
      ]
     },
     "metadata": {
      "needs_background": "light"
     },
     "output_type": "display_data"
    },
    {
     "data": {
      "image/png": "[encoded data removed]",
      "text/plain": [
       "<Figure size 432x288 with 1 Axes>"
      ]
     },
     "metadata": {
      "needs_background": "light"
     },
     "output_type": "display_data"
    }
   ],
   "source": [
    "ABC_train_test2.training_GAN_skip_connection(disc3,gen3,disc_opt,gen_opt,train_data,batch_size,n_epochs,criterion,prior_model,variance,0,device)"
   ]
  },
  {
   "cell_type": "code",
   "execution_count": 17,
   "id": "c5e0717b",
   "metadata": {
    "execution": {
     "iopub.execute_input": "2022-03-11T09:59:32.725457Z",
     "iopub.status.busy": "2022-03-11T09:59:32.725065Z",
     "iopub.status.idle": "2022-03-11T09:59:33.557429Z",
     "shell.execute_reply": "2022-03-11T09:59:33.557729Z"
    },
    "id": "c5e0717b",
    "papermill": {
     "duration": 0.850706,
     "end_time": "2022-03-11T09:59:33.557847",
     "exception": false,
     "start_time": "2022-03-11T09:59:32.707141",
     "status": "completed"
    },
    "tags": []
   },
   "outputs": [
    {
     "data": {
      "application/scrapbook.scrap.json+json": {
       "data": 0.15919980481051796,
       "encoder": "json",
       "name": "ABC-GAN Model 3 MSE",
       "version": 1
      }
     },
     "metadata": {
      "scrapbook": {
       "data": true,
       "display": false,
       "name": "ABC-GAN Model 3 MSE"
      }
     },
     "output_type": "display_data"
    },
    {
     "data": {
      "application/scrapbook.scrap.json+json": {
       "data": 0.23677422565070147,
       "encoder": "json",
       "name": "ABC-GAN Model 3 MAE",
       "version": 1
      }
     },
     "metadata": {
      "scrapbook": {
       "data": true,
       "display": false,
       "name": "ABC-GAN Model 3 MAE"
      }
     },
     "output_type": "display_data"
    },
    {
     "data": {
      "application/scrapbook.scrap.json+json": {
       "data": 24.15097101637155,
       "encoder": "json",
       "name": "ABC-GAN Model 3 Manhattan Distance",
       "version": 1
      }
     },
     "metadata": {
      "scrapbook": {
       "data": true,
       "display": false,
       "name": "ABC-GAN Model 3 Manhattan Distance"
      }
     },
     "output_type": "display_data"
    },
    {
     "data": {
      "application/scrapbook.scrap.json+json": {
       "data": 4.029676730876826,
       "encoder": "json",
       "name": "ABC-GAN Model 3 Euclidean distance",
       "version": 1
      }
     },
     "metadata": {
      "scrapbook": {
       "data": true,
       "display": false,
       "name": "ABC-GAN Model 3 Euclidean distance"
      }
     },
     "output_type": "display_data"
    },
    {
     "data": {
      "application/scrapbook.scrap.json+json": {
       "data": [
        [
         0.15930335137936438,
         0.15873849725548783,
         0.15870798134428515,
         0.15877917405805955,
         0.15882764028351332,
         0.15990248399602303,
         0.15950956175795877,
         0.15868169358620482,
         0.1583976284043909,
         0.15928570744595072,
         0.15870700596394918,
         0.15947791759634686,
         0.15896831686013324,
         0.1587801557281992,
         0.15910258282381753,
         0.15896593267932796,
         0.15874133402902338,
         0.15869578117975586,
         0.1590415705585059,
         0.15898427016465383,
         0.15878372187833056,
         0.15850981140125464,
         0.159411347617684,
         0.1610448381344222,
         0.15830190683938192,
         0.1594219721230009,
         0.1592729590266536,
         0.1587684765167005,
         0.15886508848215378,
         0.15947749606226536,
         0.16000676378249748,
         0.16032228687668043,
         0.1579008751132633,
         0.15986902341540357,
         0.1592579606660491,
         0.15938846172532237,
         0.15902758881176138,
         0.16042948437333326,
         0.15870927990745368,
         0.1583644568362514,
         0.1595837727294888,
         0.15832075569622617,
         0.15799929086678308,
         0.1586206981999012,
         0.15908859967760705,
         0.15969664154068633,
         0.15924579359905286,
         0.16063998779252336,
         0.15944109833313705,
         0.15960834988484285,
         0.1585342917870077,
         0.15956299857867134,
         0.15910181772798443,
         0.15941056916607396,
         0.15807507076234054,
         0.1599940105788991,
         0.15947018461820922,
         0.15998819821444493,
         0.15830152716565785,
         0.15792882556901652,
         0.15959698784567355,
         0.1598471228555737,
         0.16096171476051715,
         0.15955254732571084,
         0.15877825517327124,
         0.15930517073433173,
         0.15942623587667953,
         0.16038537725287697,
         0.15859014614729988,
         0.1575610768372773,
         0.1598686591721032,
         0.16009062641962457,
         0.16062835745643345,
         0.15849705675624565,
         0.159940716752934,
         0.1587502103545856,
         0.15943303504585685,
         0.15880305980381576,
         0.15854166799238031,
         0.1595666265113458,
         0.15810218940573276,
         0.1582830445184971,
         0.15974937916426618,
         0.15979076420870592,
         0.16106254202160272,
         0.1589696839622055,
         0.15943334914108753,
         0.15887165233742645,
         0.15996180021537149,
         0.15896015495491644,
         0.16013312843249702,
         0.15915559066586468,
         0.16016585270506112,
         0.15794866627129692,
         0.16023545278978682,
         0.15855095558873034,
         0.15885375649476544,
         0.15806182854349812,
         0.15930150313330207,
         0.15891966624927617
        ],
        [
         0.23586643833265292,
         0.23622266703636804,
         0.23888940912815193,
         0.23660175227468797,
         0.23680970994025177,
         0.23715041644012957,
         0.23778628077650188,
         0.23655101972255188,
         0.236319620212467,
         0.2363307905456453,
         0.23598832013393642,
         0.23744028707162715,
         0.23709350565046655,
         0.23688085901313552,
         0.23785550942400233,
         0.23709801886705498,
         0.23606988580100804,
         0.23640852196909048,
         0.23687186394818127,
         0.2362853755042249,
         0.23691514278214207,
         0.23602893757953436,
         0.2386328180083165,
         0.2377243589874649,
         0.23605263621464154,
         0.23701941952401517,
         0.23571165103702715,
         0.23669235253085694,
         0.2357551534294936,
         0.23600639716959468,
         0.23732685042755203,
         0.23829444971702554,
         0.23481217748086042,
         0.23804984526256756,
         0.23775083553411214,
         0.23771208840623206,
         0.23627863474208496,
         0.23776146589194005,
         0.23649367028116888,
         0.2369108708191882,
         0.23706051217866878,
         0.23568516249731913,
         0.23656885577913592,
         0.23613610063387336,
         0.23586531184321524,
         0.23718366398494325,
         0.2367904746503222,
         0.23765199489129124,
         0.2375126430518268,
         0.23709033313207328,
         0.23529073154992042,
         0.23728803775556312,
         0.23692579004073552,
         0.2382596843675071,
         0.23478463350729012,
         0.23858716057022286,
         0.23808595045999276,
         0.23719206333671713,
         0.23625727953827558,
         0.2358011093456298,
         0.2370283466423679,
         0.23855539323195962,
         0.2387955386702921,
         0.23685884878425129,
         0.23643646751731343,
         0.23702909450923257,
         0.23549385835398354,
         0.23719467028322647,
         0.23619192422312849,
         0.23476864697009908,
         0.23762801304623923,
         0.23832534366816865,
         0.23622471491541422,
         0.23582750384401366,
         0.23735389401953594,
         0.23688701861172767,
         0.2377695492423121,
         0.2364511594778913,
         0.2355741009700532,
         0.2368999197987803,
         0.23602307907433487,
         0.2367556627917414,
         0.23775431016624413,
         0.23636174005657143,
         0.23651428284653114,
         0.23676426241210863,
         0.23667911133345435,
         0.23665424105802588,
         0.23700812336641783,
         0.23621635498278135,
         0.23635115924715885,
         0.2378406067853611,
         0.23687051019320884,
         0.2349475749657608,
         0.23654155477917954,
         0.2351741363093549,
         0.2364120021800273,
         0.2349035837778858,
         0.23718460112371864,
         0.236704160107811
        ],
        [
         24.0583767099306,
         24.09471203770954,
         24.3667197310715,
         24.133378732018173,
         24.15459041390568,
         24.189342476893216,
         24.25420063920319,
         24.12820401170029,
         24.104601261671633,
         24.10574063565582,
         24.070808653661516,
         24.21890928130597,
         24.18353757634759,
         24.161847619339824,
         24.261261961248238,
         24.18399792443961,
         24.07912835170282,
         24.11366924084723,
         24.16093012271449,
         24.10110830143094,
         24.16534456377849,
         24.074951633112505,
         24.340547436848283,
         24.24788461672142,
         24.077368893893436,
         24.175980791449547,
         24.04258840577677,
         24.142619958147407,
         24.047025649808347,
         24.072652511298656,
         24.207338743610308,
         24.306033871136606,
         23.950842103047762,
         24.281084216781892,
         24.250585224479437,
         24.24663301743567,
         24.100420743692666,
         24.251669520977885,
         24.122354368679225,
         24.164908823557198,
         24.180172242224216,
         24.03988657472655,
         24.130023289471865,
         24.085882264655083,
         24.058261808007956,
         24.192733726464212,
         24.152628414332867,
         24.240503478911705,
         24.22628959128633,
         24.183213979471475,
         23.99965461809188,
         24.20337985106744,
         24.166430584155023,
         24.302487805485725,
         23.948032617743593,
         24.33589037816273,
         24.284766946919262,
         24.19359046034515,
         24.098242512904108,
         24.05171315325424,
         24.176891357521527,
         24.33265010965988,
         24.357144944369793,
         24.15960257599363,
         24.11651968676597,
         24.176967639941722,
         24.02037355210632,
         24.1938563688891,
         24.091576270759106,
         23.946401990950108,
         24.2380573307164,
         24.309185054153204,
         24.09492092137225,
         24.054405392089393,
         24.210097189992666,
         24.162475898396224,
         24.252494022715837,
         24.11801826674491,
         24.028558298945427,
         24.16379181947559,
         24.074354065582156,
         24.149077604757622,
         24.2509396369569,
         24.108897485770285,
         24.124456850346178,
         24.14995476603508,
         24.141269356012344,
         24.13873258791864,
         24.17482858337462,
         24.094068208243698,
         24.107818243210204,
         24.25974189210683,
         24.160792039707303,
         23.964652646507602,
         24.127238587476313,
         23.9877619035542,
         24.114024222362787,
         23.960165545344353,
         24.192829314619303,
         24.143824330996722
        ],
        [
         4.0309976235040335,
         4.023844768385053,
         4.023457977550788,
         4.0243602912664365,
         4.024974448231735,
         4.03857070850497,
         4.0336057441589155,
         4.023124748972232,
         4.019522122995203,
         4.030774387073404,
         4.023445613938732,
         4.0332056226812165,
         4.026756550840091,
         4.024372731777751,
         4.028456707975075,
         4.026726354408932,
         4.023880722755134,
         4.023303329396764,
         4.02768422259834,
         4.0269585988428895,
         4.024417924568684,
         4.020945257390105,
         4.032363755541378,
         4.0529709460729,
         4.018307417012411,
         4.03249812852357,
         4.0306130824874105,
         4.024224720949794,
         4.025448922192366,
         4.033200292367224,
         4.039887363010847,
         4.043868600909456,
         4.013214330378188,
         4.038148138487636,
         4.0304233013341175,
         4.032074291972171,
         4.027507176753339,
         4.045220316136068,
         4.023474437667061,
         4.019101217597989,
         4.0345439418114974,
         4.018546637904688,
         4.014464804729501,
         4.022351453613909,
         4.028279678363448,
         4.0359704455248435,
         4.030269339275402,
         4.047873362005953,
         4.032740015173303,
         4.034854605590389,
         4.02125574445033,
         4.034281330673962,
         4.02844702189993,
         4.032353909931461,
         4.015427401629711,
         4.039726361902215,
         4.033107837766967,
         4.0396529823579375,
         4.018302598224417,
         4.013569509556261,
         4.034710988442506,
         4.037871534765379,
         4.051924839575969,
         4.034149207357419,
         4.024348646386601,
         4.031020641835245,
         4.0325520529090895,
         4.044664198644116,
         4.02196406088177,
         4.008893842121825,
         4.038143538255484,
         4.040945915847143,
         4.047726826325636,
         4.02078347951454,
         4.039053491698181,
         4.023993222679149,
         4.03263804161462,
         4.024662979677827,
         4.021349292864621,
         4.03432719349302,
         4.015771821130371,
         4.018068010983226,
         4.03663680243283,
         4.03715963881638,
         4.0531937143693835,
         4.026773865533668,
         4.032642013914814,
         4.02553208140458,
         4.039319697915466,
         4.026653176696682,
         4.041482289966726,
         4.029127727923029,
         4.041895220798807,
         4.013821615327752,
         4.042773328367328,
         4.021467079319497,
         4.025305350214574,
         4.015259208499098,
         4.030974239510445,
         4.026140330071241
        ]
       ],
       "encoder": "json",
       "name": "ABC_GAN_3 Metrics",
       "version": 1
      }
     },
     "metadata": {
      "scrapbook": {
       "data": true,
       "display": false,
       "name": "ABC_GAN_3 Metrics"
      }
     },
     "output_type": "display_data"
    },
    {
     "name": "stdout",
     "output_type": "stream",
     "text": [
      "MSE\n",
      "0.15919980481051796\n"
     ]
    }
   ],
   "source": [
    "ABC_GAN3_metrics=ABC_train_test2.test_generator(gen3,test_data,prior_model,variance,0,\"3\",device)\n",
    "sb.glue(\"ABC_GAN_3 Metrics\",ABC_GAN3_metrics)\n",
    "\n",
    "print(\"MSE\")\n",
    "print(mean(ABC_GAN3_metrics[0]))"
   ]
  },
  {
   "cell_type": "code",
   "execution_count": 18,
   "id": "c8e46b48",
   "metadata": {
    "execution": {
     "iopub.execute_input": "2022-03-11T09:59:33.595011Z",
     "iopub.status.busy": "2022-03-11T09:59:33.594647Z",
     "iopub.status.idle": "2022-03-11T09:59:33.908107Z",
     "shell.execute_reply": "2022-03-11T09:59:33.908346Z"
    },
    "id": "c8e46b48",
    "papermill": {
     "duration": 0.333065,
     "end_time": "2022-03-11T09:59:33.908468",
     "exception": false,
     "start_time": "2022-03-11T09:59:33.575403",
     "status": "completed"
    },
    "tags": []
   },
   "outputs": [
    {
     "data": {
      "image/png": "[encoded data removed]",
      "text/plain": [
       "<Figure size 432x288 with 1 Axes>"
      ]
     },
     "metadata": {
      "needs_background": "light"
     },
     "output_type": "display_data"
    },
    {
     "data": {
      "image/png": "[encoded data removed]",
      "text/plain": [
       "<Figure size 432x288 with 1 Axes>"
      ]
     },
     "metadata": {
      "needs_background": "light"
     },
     "output_type": "display_data"
    },
    {
     "data": {
      "image/png": "[encoded data removed]",
      "text/plain": [
       "<Figure size 432x288 with 1 Axes>"
      ]
     },
     "metadata": {
      "needs_background": "light"
     },
     "output_type": "display_data"
    },
    {
     "data": {
      "image/png": "[encoded data removed]",
      "text/plain": [
       "<Figure size 432x288 with 1 Axes>"
      ]
     },
     "metadata": {
      "needs_background": "light"
     },
     "output_type": "display_data"
    }
   ],
   "source": [
    "sanityChecks.discProbVsError(train_data,disc3,device)\n",
    "sanityChecks.discProbVsError(test_data,disc3,device)"
   ]
  },
  {
   "cell_type": "markdown",
   "id": "a5bd74c3",
   "metadata": {
    "id": "a5bd74c3",
    "papermill": {
     "duration": 0.019389,
     "end_time": "2022-03-11T09:59:33.947743",
     "exception": false,
     "start_time": "2022-03-11T09:59:33.928354",
     "status": "completed"
    },
    "tags": []
   },
   "source": [
    "## Skip Connection Model Analysis - ABC-GAN "
   ]
  },
  {
   "cell_type": "markdown",
   "id": "5744a8bf",
   "metadata": {
    "id": "5744a8bf",
    "papermill": {
     "duration": 0.019265,
     "end_time": "2022-03-11T09:59:33.986363",
     "exception": false,
     "start_time": "2022-03-11T09:59:33.967098",
     "status": "completed"
    },
    "tags": []
   },
   "source": [
    "### Weight Analysis \n",
    "\n",
    "Study the weights of the skip connection layer\n",
    "\n",
    "Equation of the skip connection is \n",
    "\n",
    "$output = y_{gan} * w + y_{abc} * (1-w)$"
   ]
  },
  {
   "cell_type": "code",
   "execution_count": 19,
   "id": "52c31dea",
   "metadata": {
    "execution": {
     "iopub.execute_input": "2022-03-11T09:59:34.027808Z",
     "iopub.status.busy": "2022-03-11T09:59:34.027416Z",
     "iopub.status.idle": "2022-03-11T09:59:34.030571Z",
     "shell.execute_reply": "2022-03-11T09:59:34.030810Z"
    },
    "id": "52c31dea",
    "papermill": {
     "duration": 0.025356,
     "end_time": "2022-03-11T09:59:34.030931",
     "exception": false,
     "start_time": "2022-03-11T09:59:34.005575",
     "status": "completed"
    },
    "tags": []
   },
   "outputs": [
    {
     "name": "stdout",
     "output_type": "stream",
     "text": [
      "Weight of the node at skip connection\n",
      "Parameter containing:\n",
      "tensor([[0.]], requires_grad=True)\n"
     ]
    },
    {
     "data": {
      "application/scrapbook.scrap.json+json": {
       "data": 0.0,
       "encoder": "json",
       "name": "Skip Connection Weight",
       "version": 1
      }
     },
     "metadata": {
      "scrapbook": {
       "data": true,
       "display": false,
       "name": "Skip Connection Weight"
      }
     },
     "output_type": "display_data"
    }
   ],
   "source": [
    "print(\"Weight of the node at skip connection\")\n",
    "for name,param in gen3.named_parameters():\n",
    "    if(name == \"skipNode.weight\"):\n",
    "        print(param)\n",
    "        sb.glue(\"Skip Connection Weight\",param.item())"
   ]
  }
 ],
 "metadata": {
  "colab": {
   "collapsed_sections": [],
   "name": "ABC_GAN_Model-Catboost_Pre-gen.ipynb",
   "provenance": []
  },
  "interpreter": {
   "hash": "31f2aee4e71d21fbe5cf8b01ff0e069b9275f58929596ceb00d14d90e3e16cd6"
  },
  "kernelspec": {
   "display_name": "Python 3 (ipykernel)",
   "language": "python",
   "name": "python3"
  },
  "language_info": {
   "codemirror_mode": {
    "name": "ipython",
    "version": 3
   },
   "file_extension": ".py",
   "mimetype": "text/x-python",
   "name": "python",
   "nbconvert_exporter": "python",
   "pygments_lexer": "ipython3",
   "version": "3.8.11"
  },
  "papermill": {
   "default_parameters": {},
   "duration": 193.348857,
   "end_time": "2022-03-11T09:59:34.358273",
   "environment_variables": {},
   "exception": null,
   "input_path": "ABC_GAN-Catboost.ipynb",
   "output_path": "./ABC_GAN_Catboost/ABC-GAN_output_3_2.ipynb",
   "parameters": {
    "variance": 0.01
   },
   "start_time": "2022-03-11T09:56:21.009416",
   "version": "2.3.3"
  }
 },
 "nbformat": 4,
 "nbformat_minor": 5
}