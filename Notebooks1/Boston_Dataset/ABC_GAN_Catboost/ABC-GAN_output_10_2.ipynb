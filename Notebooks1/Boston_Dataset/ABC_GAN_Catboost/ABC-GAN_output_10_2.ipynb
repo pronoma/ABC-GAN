{
 "cells": [
  {
   "cell_type": "markdown",
   "id": "622780e6",
   "metadata": {
    "id": "622780e6",
    "papermill": {
     "duration": 0.037315,
     "end_time": "2022-03-11T11:03:43.631481",
     "exception": false,
     "start_time": "2022-03-11T11:03:43.594166",
     "status": "completed"
    },
    "tags": []
   },
   "source": [
    "## Import Libraries "
   ]
  },
  {
   "cell_type": "code",
   "execution_count": 1,
   "id": "a62397e3",
   "metadata": {
    "execution": {
     "iopub.execute_input": "2022-03-11T11:03:43.667126Z",
     "iopub.status.busy": "2022-03-11T11:03:43.666633Z",
     "iopub.status.idle": "2022-03-11T11:03:43.669265Z",
     "shell.execute_reply": "2022-03-11T11:03:43.669607Z"
    },
    "id": "a62397e3",
    "papermill": {
     "duration": 0.022105,
     "end_time": "2022-03-11T11:03:43.669812",
     "exception": false,
     "start_time": "2022-03-11T11:03:43.647707",
     "status": "completed"
    },
    "tags": []
   },
   "outputs": [],
   "source": [
    "import warnings\n",
    "import sys\n",
    "sys.path.insert(0, '../../src')\n",
    "warnings.filterwarnings('ignore')"
   ]
  },
  {
   "cell_type": "code",
   "execution_count": 2,
   "id": "d6a4e155",
   "metadata": {
    "execution": {
     "iopub.execute_input": "2022-03-11T11:03:43.690242Z",
     "iopub.status.busy": "2022-03-11T11:03:43.689834Z",
     "iopub.status.idle": "2022-03-11T11:03:45.463618Z",
     "shell.execute_reply": "2022-03-11T11:03:45.463881Z"
    },
    "id": "d6a4e155",
    "papermill": {
     "duration": 1.784739,
     "end_time": "2022-03-11T11:03:45.464009",
     "exception": false,
     "start_time": "2022-03-11T11:03:43.679270",
     "status": "completed"
    },
    "tags": []
   },
   "outputs": [],
   "source": [
    "import ABC_train_test2\n",
    "import bostonDataset\n",
    "import network\n",
    "import dataset\n",
    "import sanityChecks\n",
    "import torch \n",
    "import scrapbook as sb\n",
    "from statistics import mean \n",
    "import catboost as ctb \n",
    "from sklearn.model_selection import train_test_split\n",
    "from sklearn.metrics import mean_squared_error,mean_absolute_error\n",
    "import numpy as np"
   ]
  },
  {
   "cell_type": "markdown",
   "id": "2fa5b0f7",
   "metadata": {
    "id": "2fa5b0f7",
    "papermill": {
     "duration": 0.006758,
     "end_time": "2022-03-11T11:03:45.477813",
     "exception": false,
     "start_time": "2022-03-11T11:03:45.471055",
     "status": "completed"
    },
    "tags": []
   },
   "source": [
    "## Parameters "
   ]
  },
  {
   "cell_type": "code",
   "execution_count": 3,
   "id": "783186fb",
   "metadata": {
    "execution": {
     "iopub.execute_input": "2022-03-11T11:03:45.493505Z",
     "iopub.status.busy": "2022-03-11T11:03:45.493156Z",
     "iopub.status.idle": "2022-03-11T11:03:45.494543Z",
     "shell.execute_reply": "2022-03-11T11:03:45.494774Z"
    },
    "id": "783186fb",
    "papermill": {
     "duration": 0.010404,
     "end_time": "2022-03-11T11:03:45.494907",
     "exception": false,
     "start_time": "2022-03-11T11:03:45.484503",
     "status": "completed"
    },
    "tags": [
     "parameters"
    ]
   },
   "outputs": [],
   "source": [
    "variance = 1"
   ]
  },
  {
   "cell_type": "code",
   "execution_count": 4,
   "id": "8c990d2c",
   "metadata": {
    "execution": {
     "iopub.execute_input": "2022-03-11T11:03:45.510405Z",
     "iopub.status.busy": "2022-03-11T11:03:45.510049Z",
     "iopub.status.idle": "2022-03-11T11:03:45.511560Z",
     "shell.execute_reply": "2022-03-11T11:03:45.511811Z"
    },
    "papermill": {
     "duration": 0.010091,
     "end_time": "2022-03-11T11:03:45.511929",
     "exception": false,
     "start_time": "2022-03-11T11:03:45.501838",
     "status": "completed"
    },
    "tags": [
     "injected-parameters"
    ]
   },
   "outputs": [],
   "source": [
    "# Parameters\n",
    "variance = 0.01\n"
   ]
  },
  {
   "cell_type": "markdown",
   "id": "391cdbfd",
   "metadata": {
    "id": "391cdbfd",
    "papermill": {
     "duration": 0.006798,
     "end_time": "2022-03-11T11:03:45.537406",
     "exception": false,
     "start_time": "2022-03-11T11:03:45.530608",
     "status": "completed"
    },
    "tags": []
   },
   "source": [
    "## Dataset \n"
   ]
  },
  {
   "cell_type": "code",
   "execution_count": 5,
   "id": "5b51f161",
   "metadata": {
    "execution": {
     "iopub.execute_input": "2022-03-11T11:03:45.552996Z",
     "iopub.status.busy": "2022-03-11T11:03:45.552597Z",
     "iopub.status.idle": "2022-03-11T11:03:45.553749Z",
     "shell.execute_reply": "2022-03-11T11:03:45.554003Z"
    },
    "id": "5b51f161",
    "papermill": {
     "duration": 0.009931,
     "end_time": "2022-03-11T11:03:45.554111",
     "exception": false,
     "start_time": "2022-03-11T11:03:45.544180",
     "status": "completed"
    },
    "tags": []
   },
   "outputs": [],
   "source": [
    "#Parameters \n",
    "n_features = 13\n",
    "n_samples= 506\n",
    "n_target = 1 "
   ]
  },
  {
   "cell_type": "code",
   "execution_count": 6,
   "id": "5d6eced4",
   "metadata": {
    "execution": {
     "iopub.execute_input": "2022-03-11T11:03:45.569838Z",
     "iopub.status.busy": "2022-03-11T11:03:45.569434Z",
     "iopub.status.idle": "2022-03-11T11:03:45.580714Z",
     "shell.execute_reply": "2022-03-11T11:03:45.580958Z"
    },
    "id": "5d6eced4",
    "papermill": {
     "duration": 0.020016,
     "end_time": "2022-03-11T11:03:45.581070",
     "exception": false,
     "start_time": "2022-03-11T11:03:45.561054",
     "status": "completed"
    },
    "tags": []
   },
   "outputs": [
    {
     "name": "stdout",
     "output_type": "stream",
     "text": [
      "         X1        X2        X3        X4        X5        X6        X7  \\\n",
      "0 -0.419782  0.284830 -1.287909 -0.272599 -0.144217  0.413672 -0.120013   \n",
      "1 -0.417339 -0.487722 -0.593381 -0.272599 -0.740262  0.194274  0.367166   \n",
      "2 -0.417342 -0.487722 -0.593381 -0.272599 -0.740262  1.282714 -0.265812   \n",
      "3 -0.416750 -0.487722 -1.306878 -0.272599 -0.835284  1.016303 -0.809889   \n",
      "4 -0.412482 -0.487722 -1.306878 -0.272599 -0.835284  1.228577 -0.511180   \n",
      "\n",
      "         X8        X9       X10       X11       X12       X13         Y  \n",
      "0  0.140214 -0.982843 -0.666608 -1.459000  0.441052 -1.075562  0.159686  \n",
      "1  0.557160 -0.867883 -0.987329 -0.303094  0.441052 -0.492439 -0.101524  \n",
      "2  0.557160 -0.867883 -0.987329 -0.303094  0.396427 -1.208727  1.324247  \n",
      "3  1.077737 -0.752922 -1.106115  0.113032  0.416163 -1.361517  1.182758  \n",
      "4  1.077737 -0.752922 -1.106115  0.113032  0.441052 -1.026501  1.487503  \n"
     ]
    }
   ],
   "source": [
    "X,Y = bostonDataset.boston_data()"
   ]
  },
  {
   "cell_type": "code",
   "execution_count": 7,
   "id": "fe007438",
   "metadata": {
    "execution": {
     "iopub.execute_input": "2022-03-11T11:03:45.598133Z",
     "iopub.status.busy": "2022-03-11T11:03:45.597735Z",
     "iopub.status.idle": "2022-03-11T11:03:45.599071Z",
     "shell.execute_reply": "2022-03-11T11:03:45.599351Z"
    },
    "id": "fe007438",
    "papermill": {
     "duration": 0.011046,
     "end_time": "2022-03-11T11:03:45.599459",
     "exception": false,
     "start_time": "2022-03-11T11:03:45.588413",
     "status": "completed"
    },
    "tags": []
   },
   "outputs": [],
   "source": [
    "#Train test split for dataset \n",
    "X_train,X_test,Y_train,Y_test = train_test_split(X,Y,test_size = 0.2)\n",
    "train_data = dataset.CustomDataset(X_train,Y_train)\n",
    "test_data = dataset.CustomDataset(X_test,Y_test)\n"
   ]
  },
  {
   "cell_type": "markdown",
   "id": "a9a1af34",
   "metadata": {
    "id": "a9a1af34",
    "papermill": {
     "duration": 0.00705,
     "end_time": "2022-03-11T11:03:45.613635",
     "exception": false,
     "start_time": "2022-03-11T11:03:45.606585",
     "status": "completed"
    },
    "tags": []
   },
   "source": [
    "## Training Parameters "
   ]
  },
  {
   "cell_type": "code",
   "execution_count": 8,
   "id": "952b7fc8",
   "metadata": {
    "execution": {
     "iopub.execute_input": "2022-03-11T11:03:45.630053Z",
     "iopub.status.busy": "2022-03-11T11:03:45.629692Z",
     "iopub.status.idle": "2022-03-11T11:03:45.631113Z",
     "shell.execute_reply": "2022-03-11T11:03:45.631358Z"
    },
    "id": "952b7fc8",
    "papermill": {
     "duration": 0.010684,
     "end_time": "2022-03-11T11:03:45.631465",
     "exception": false,
     "start_time": "2022-03-11T11:03:45.620781",
     "status": "completed"
    },
    "tags": []
   },
   "outputs": [],
   "source": [
    "batch_size = 64\n",
    "n_epochs = 1000\n",
    "#Select the device \n",
    "device = torch.device('cuda' if torch.cuda.is_available() else 'cpu')"
   ]
  },
  {
   "cell_type": "markdown",
   "id": "a95e1600",
   "metadata": {
    "id": "a95e1600",
    "papermill": {
     "duration": 0.007046,
     "end_time": "2022-03-11T11:03:45.645655",
     "exception": false,
     "start_time": "2022-03-11T11:03:45.638609",
     "status": "completed"
    },
    "tags": []
   },
   "source": [
    "# ABC Pre-generator Model \n",
    "\n",
    "1. The catboost model is used as a pre-generator model for the ABC-GAN. \n",
    "2. The model is first trained on the entire dataset \n",
    "3. It generats X,Y pairs and we add some Gaussian noise with mean 0 and variance 1 to it which is then feed as input to the generator.\n"
   ]
  },
  {
   "cell_type": "code",
   "execution_count": 9,
   "id": "ff8ce7bd",
   "metadata": {
    "execution": {
     "iopub.execute_input": "2022-03-11T11:03:45.664650Z",
     "iopub.status.busy": "2022-03-11T11:03:45.664266Z",
     "iopub.status.idle": "2022-03-11T11:03:46.643692Z",
     "shell.execute_reply": "2022-03-11T11:03:46.643985Z"
    },
    "id": "ff8ce7bd",
    "papermill": {
     "duration": 0.991268,
     "end_time": "2022-03-11T11:03:46.644112",
     "exception": false,
     "start_time": "2022-03-11T11:03:45.652844",
     "status": "completed"
    },
    "tags": []
   },
   "outputs": [
    {
     "name": "stdout",
     "output_type": "stream",
     "text": [
      "Learning rate set to 0.033215\n",
      "0:\tlearn: 0.9771784\ttotal: 68.2ms\tremaining: 1m 8s\n",
      "1:\tlearn: 0.9570755\ttotal: 69.2ms\tremaining: 34.5s\n",
      "2:\tlearn: 0.9383924\ttotal: 70.2ms\tremaining: 23.3s\n",
      "3:\tlearn: 0.9239760\ttotal: 71.2ms\tremaining: 17.7s\n",
      "4:\tlearn: 0.9070226\ttotal: 72.1ms\tremaining: 14.3s\n",
      "5:\tlearn: 0.8937690\ttotal: 73ms\tremaining: 12.1s\n",
      "6:\tlearn: 0.8801431\ttotal: 74ms\tremaining: 10.5s\n",
      "7:\tlearn: 0.8643585\ttotal: 74.9ms\tremaining: 9.29s\n",
      "8:\tlearn: 0.8492741\ttotal: 75.7ms\tremaining: 8.34s\n",
      "9:\tlearn: 0.8336312\ttotal: 76.7ms\tremaining: 7.6s\n",
      "10:\tlearn: 0.8185877\ttotal: 77.6ms\tremaining: 6.97s\n",
      "11:\tlearn: 0.8037447\ttotal: 78.4ms\tremaining: 6.46s\n",
      "12:\tlearn: 0.7891958\ttotal: 79.3ms\tremaining: 6.02s\n",
      "13:\tlearn: 0.7747282\ttotal: 80.2ms\tremaining: 5.65s\n",
      "14:\tlearn: 0.7632245\ttotal: 81ms\tremaining: 5.32s\n",
      "15:\tlearn: 0.7508992\ttotal: 81.9ms\tremaining: 5.04s\n",
      "16:\tlearn: 0.7378701\ttotal: 82.7ms\tremaining: 4.78s\n",
      "17:\tlearn: 0.7269041\ttotal: 83.5ms\tremaining: 4.55s\n",
      "18:\tlearn: 0.7153300\ttotal: 84.3ms\tremaining: 4.35s\n",
      "19:\tlearn: 0.7034286\ttotal: 85ms\tremaining: 4.17s\n",
      "20:\tlearn: 0.6899864\ttotal: 85.8ms\tremaining: 4s\n",
      "21:\tlearn: 0.6789640\ttotal: 86.5ms\tremaining: 3.85s\n",
      "22:\tlearn: 0.6666984\ttotal: 87.4ms\tremaining: 3.71s\n",
      "23:\tlearn: 0.6579134\ttotal: 88.2ms\tremaining: 3.59s\n",
      "24:\tlearn: 0.6474209\ttotal: 89ms\tremaining: 3.47s\n",
      "25:\tlearn: 0.6391647\ttotal: 89.8ms\tremaining: 3.37s\n",
      "26:\tlearn: 0.6303489\ttotal: 90.7ms\tremaining: 3.27s\n",
      "27:\tlearn: 0.6206594\ttotal: 91.5ms\tremaining: 3.17s\n",
      "28:\tlearn: 0.6113213\ttotal: 93ms\tremaining: 3.11s\n",
      "29:\tlearn: 0.6013423\ttotal: 93.8ms\tremaining: 3.03s\n",
      "30:\tlearn: 0.5910795\ttotal: 94.6ms\tremaining: 2.96s\n",
      "31:\tlearn: 0.5830746\ttotal: 95.5ms\tremaining: 2.89s\n",
      "32:\tlearn: 0.5765936\ttotal: 96.3ms\tremaining: 2.82s\n",
      "33:\tlearn: 0.5688094\ttotal: 97ms\tremaining: 2.75s\n",
      "34:\tlearn: 0.5629119\ttotal: 97.8ms\tremaining: 2.7s\n",
      "35:\tlearn: 0.5556607\ttotal: 98.5ms\tremaining: 2.64s\n",
      "36:\tlearn: 0.5493862\ttotal: 99.3ms\tremaining: 2.58s\n",
      "37:\tlearn: 0.5429257\ttotal: 100ms\tremaining: 2.53s\n",
      "38:\tlearn: 0.5353634\ttotal: 101ms\tremaining: 2.48s\n",
      "39:\tlearn: 0.5275486\ttotal: 102ms\tremaining: 2.44s\n",
      "40:\tlearn: 0.5211184\ttotal: 102ms\tremaining: 2.39s\n",
      "41:\tlearn: 0.5137587\ttotal: 103ms\tremaining: 2.35s\n",
      "42:\tlearn: 0.5076059\ttotal: 104ms\tremaining: 2.31s\n",
      "43:\tlearn: 0.5008159\ttotal: 104ms\tremaining: 2.27s\n",
      "44:\tlearn: 0.4952519\ttotal: 105ms\tremaining: 2.23s\n",
      "45:\tlearn: 0.4886625\ttotal: 106ms\tremaining: 2.2s\n",
      "46:\tlearn: 0.4836718\ttotal: 107ms\tremaining: 2.17s\n",
      "47:\tlearn: 0.4775362\ttotal: 108ms\tremaining: 2.13s\n",
      "48:\tlearn: 0.4711508\ttotal: 108ms\tremaining: 2.1s\n"
     ]
    },
    {
     "name": "stdout",
     "output_type": "stream",
     "text": [
      "49:\tlearn: 0.4659299\ttotal: 109ms\tremaining: 2.08s\n",
      "50:\tlearn: 0.4606147\ttotal: 110ms\tremaining: 2.05s\n",
      "51:\tlearn: 0.4562519\ttotal: 111ms\tremaining: 2.03s\n",
      "52:\tlearn: 0.4506091\ttotal: 112ms\tremaining: 2s\n",
      "53:\tlearn: 0.4475413\ttotal: 113ms\tremaining: 1.98s\n",
      "54:\tlearn: 0.4428147\ttotal: 114ms\tremaining: 1.95s\n",
      "55:\tlearn: 0.4391675\ttotal: 114ms\tremaining: 1.93s\n",
      "56:\tlearn: 0.4355187\ttotal: 115ms\tremaining: 1.91s\n",
      "57:\tlearn: 0.4311343\ttotal: 116ms\tremaining: 1.88s\n",
      "58:\tlearn: 0.4267831\ttotal: 117ms\tremaining: 1.86s\n",
      "59:\tlearn: 0.4241960\ttotal: 118ms\tremaining: 1.84s\n",
      "60:\tlearn: 0.4199555\ttotal: 118ms\tremaining: 1.82s\n",
      "61:\tlearn: 0.4161663\ttotal: 119ms\tremaining: 1.8s\n",
      "62:\tlearn: 0.4132958\ttotal: 120ms\tremaining: 1.79s\n",
      "63:\tlearn: 0.4095639\ttotal: 121ms\tremaining: 1.77s\n",
      "64:\tlearn: 0.4064652\ttotal: 123ms\tremaining: 1.76s\n",
      "65:\tlearn: 0.4025559\ttotal: 123ms\tremaining: 1.75s\n",
      "66:\tlearn: 0.3991280\ttotal: 124ms\tremaining: 1.73s\n",
      "67:\tlearn: 0.3954703\ttotal: 125ms\tremaining: 1.71s\n",
      "68:\tlearn: 0.3923016\ttotal: 126ms\tremaining: 1.7s\n",
      "69:\tlearn: 0.3896815\ttotal: 127ms\tremaining: 1.68s\n",
      "70:\tlearn: 0.3863487\ttotal: 128ms\tremaining: 1.67s\n",
      "71:\tlearn: 0.3828470\ttotal: 129ms\tremaining: 1.66s\n",
      "72:\tlearn: 0.3803758\ttotal: 130ms\tremaining: 1.65s\n",
      "73:\tlearn: 0.3771224\ttotal: 130ms\tremaining: 1.63s\n",
      "74:\tlearn: 0.3741052\ttotal: 131ms\tremaining: 1.62s\n",
      "75:\tlearn: 0.3717352\ttotal: 132ms\tremaining: 1.6s\n",
      "76:\tlearn: 0.3688301\ttotal: 133ms\tremaining: 1.59s\n",
      "77:\tlearn: 0.3666987\ttotal: 134ms\tremaining: 1.58s\n",
      "78:\tlearn: 0.3646520\ttotal: 135ms\tremaining: 1.57s\n",
      "79:\tlearn: 0.3623075\ttotal: 135ms\tremaining: 1.56s\n",
      "80:\tlearn: 0.3598919\ttotal: 136ms\tremaining: 1.54s\n",
      "81:\tlearn: 0.3575993\ttotal: 137ms\tremaining: 1.53s\n",
      "82:\tlearn: 0.3554443\ttotal: 138ms\tremaining: 1.52s\n",
      "83:\tlearn: 0.3533143\ttotal: 139ms\tremaining: 1.51s\n",
      "84:\tlearn: 0.3506807\ttotal: 139ms\tremaining: 1.5s\n",
      "85:\tlearn: 0.3483962\ttotal: 140ms\tremaining: 1.49s\n",
      "86:\tlearn: 0.3465484\ttotal: 141ms\tremaining: 1.48s\n",
      "87:\tlearn: 0.3442492\ttotal: 142ms\tremaining: 1.47s\n",
      "88:\tlearn: 0.3417879\ttotal: 143ms\tremaining: 1.46s\n",
      "89:\tlearn: 0.3398073\ttotal: 144ms\tremaining: 1.45s\n",
      "90:\tlearn: 0.3372719\ttotal: 144ms\tremaining: 1.44s\n",
      "91:\tlearn: 0.3356112\ttotal: 145ms\tremaining: 1.43s\n",
      "92:\tlearn: 0.3342895\ttotal: 146ms\tremaining: 1.42s\n",
      "93:\tlearn: 0.3316841\ttotal: 147ms\tremaining: 1.41s\n",
      "94:\tlearn: 0.3292131\ttotal: 148ms\tremaining: 1.41s\n",
      "95:\tlearn: 0.3269582\ttotal: 148ms\tremaining: 1.4s\n",
      "96:\tlearn: 0.3250203\ttotal: 149ms\tremaining: 1.39s\n",
      "97:\tlearn: 0.3231928\ttotal: 150ms\tremaining: 1.38s\n",
      "98:\tlearn: 0.3216396\ttotal: 151ms\tremaining: 1.38s\n",
      "99:\tlearn: 0.3199523\ttotal: 152ms\tremaining: 1.37s\n",
      "100:\tlearn: 0.3183730\ttotal: 153ms\tremaining: 1.36s\n",
      "101:\tlearn: 0.3163921\ttotal: 154ms\tremaining: 1.35s\n",
      "102:\tlearn: 0.3153694\ttotal: 154ms\tremaining: 1.34s\n",
      "103:\tlearn: 0.3137008\ttotal: 155ms\tremaining: 1.34s\n",
      "104:\tlearn: 0.3123277\ttotal: 156ms\tremaining: 1.33s\n",
      "105:\tlearn: 0.3107367\ttotal: 157ms\tremaining: 1.32s\n",
      "106:\tlearn: 0.3086485\ttotal: 158ms\tremaining: 1.32s\n",
      "107:\tlearn: 0.3064638\ttotal: 159ms\tremaining: 1.31s\n",
      "108:\tlearn: 0.3051788\ttotal: 160ms\tremaining: 1.31s\n",
      "109:\tlearn: 0.3033385\ttotal: 161ms\tremaining: 1.3s\n",
      "110:\tlearn: 0.3020042\ttotal: 162ms\tremaining: 1.29s\n",
      "111:\tlearn: 0.3003384\ttotal: 162ms\tremaining: 1.29s\n",
      "112:\tlearn: 0.2986987\ttotal: 163ms\tremaining: 1.28s\n",
      "113:\tlearn: 0.2977216\ttotal: 164ms\tremaining: 1.27s\n",
      "114:\tlearn: 0.2961316\ttotal: 165ms\tremaining: 1.27s\n",
      "115:\tlearn: 0.2948123\ttotal: 165ms\tremaining: 1.26s\n",
      "116:\tlearn: 0.2937530\ttotal: 166ms\tremaining: 1.25s\n",
      "117:\tlearn: 0.2927359\ttotal: 167ms\tremaining: 1.25s\n",
      "118:\tlearn: 0.2915650\ttotal: 167ms\tremaining: 1.24s\n",
      "119:\tlearn: 0.2908202\ttotal: 168ms\tremaining: 1.23s\n",
      "120:\tlearn: 0.2897757\ttotal: 169ms\tremaining: 1.23s\n",
      "121:\tlearn: 0.2887239\ttotal: 169ms\tremaining: 1.22s\n",
      "122:\tlearn: 0.2876966\ttotal: 170ms\tremaining: 1.21s\n",
      "123:\tlearn: 0.2860843\ttotal: 171ms\tremaining: 1.21s\n",
      "124:\tlearn: 0.2852304\ttotal: 172ms\tremaining: 1.2s\n",
      "125:\tlearn: 0.2841523\ttotal: 172ms\tremaining: 1.19s\n",
      "126:\tlearn: 0.2828347\ttotal: 173ms\tremaining: 1.19s\n",
      "127:\tlearn: 0.2819082\ttotal: 174ms\tremaining: 1.18s\n",
      "128:\tlearn: 0.2808038\ttotal: 174ms\tremaining: 1.18s\n",
      "129:\tlearn: 0.2798103\ttotal: 175ms\tremaining: 1.17s\n",
      "130:\tlearn: 0.2789879\ttotal: 176ms\tremaining: 1.17s\n",
      "131:\tlearn: 0.2777335\ttotal: 177ms\tremaining: 1.16s\n",
      "132:\tlearn: 0.2772853\ttotal: 178ms\tremaining: 1.16s\n",
      "133:\tlearn: 0.2762122\ttotal: 179ms\tremaining: 1.15s\n",
      "134:\tlearn: 0.2752472\ttotal: 180ms\tremaining: 1.15s\n",
      "135:\tlearn: 0.2740793\ttotal: 180ms\tremaining: 1.15s\n",
      "136:\tlearn: 0.2732438\ttotal: 181ms\tremaining: 1.14s\n",
      "137:\tlearn: 0.2725536\ttotal: 182ms\tremaining: 1.14s\n",
      "138:\tlearn: 0.2716855\ttotal: 184ms\tremaining: 1.14s\n",
      "139:\tlearn: 0.2711154\ttotal: 185ms\tremaining: 1.14s\n",
      "140:\tlearn: 0.2702103\ttotal: 186ms\tremaining: 1.13s\n",
      "141:\tlearn: 0.2694583\ttotal: 187ms\tremaining: 1.13s\n",
      "142:\tlearn: 0.2687909\ttotal: 188ms\tremaining: 1.12s\n",
      "143:\tlearn: 0.2677226\ttotal: 188ms\tremaining: 1.12s\n",
      "144:\tlearn: 0.2670004\ttotal: 189ms\tremaining: 1.12s\n",
      "145:\tlearn: 0.2663006\ttotal: 190ms\tremaining: 1.11s\n",
      "146:\tlearn: 0.2654396\ttotal: 191ms\tremaining: 1.11s\n"
     ]
    },
    {
     "name": "stdout",
     "output_type": "stream",
     "text": [
      "147:\tlearn: 0.2646742\ttotal: 193ms\tremaining: 1.11s\n",
      "148:\tlearn: 0.2638908\ttotal: 194ms\tremaining: 1.1s\n",
      "149:\tlearn: 0.2630948\ttotal: 195ms\tremaining: 1.1s\n",
      "150:\tlearn: 0.2621203\ttotal: 195ms\tremaining: 1.1s\n",
      "151:\tlearn: 0.2613159\ttotal: 196ms\tremaining: 1.09s\n",
      "152:\tlearn: 0.2604429\ttotal: 197ms\tremaining: 1.09s\n",
      "153:\tlearn: 0.2597374\ttotal: 198ms\tremaining: 1.09s\n",
      "154:\tlearn: 0.2590814\ttotal: 199ms\tremaining: 1.08s\n",
      "155:\tlearn: 0.2582715\ttotal: 199ms\tremaining: 1.08s\n",
      "156:\tlearn: 0.2573177\ttotal: 200ms\tremaining: 1.07s\n",
      "157:\tlearn: 0.2564371\ttotal: 201ms\tremaining: 1.07s\n",
      "158:\tlearn: 0.2557569\ttotal: 202ms\tremaining: 1.07s\n",
      "159:\tlearn: 0.2551937\ttotal: 203ms\tremaining: 1.06s\n",
      "160:\tlearn: 0.2543190\ttotal: 204ms\tremaining: 1.06s\n",
      "161:\tlearn: 0.2536211\ttotal: 204ms\tremaining: 1.06s\n",
      "162:\tlearn: 0.2530507\ttotal: 205ms\tremaining: 1.05s\n",
      "163:\tlearn: 0.2524151\ttotal: 206ms\tremaining: 1.05s\n",
      "164:\tlearn: 0.2519249\ttotal: 207ms\tremaining: 1.05s\n",
      "165:\tlearn: 0.2513775\ttotal: 208ms\tremaining: 1.04s\n",
      "166:\tlearn: 0.2505493\ttotal: 208ms\tremaining: 1.04s\n",
      "167:\tlearn: 0.2499438\ttotal: 209ms\tremaining: 1.04s\n",
      "168:\tlearn: 0.2493119\ttotal: 210ms\tremaining: 1.03s\n",
      "169:\tlearn: 0.2486360\ttotal: 211ms\tremaining: 1.03s\n",
      "170:\tlearn: 0.2478054\ttotal: 212ms\tremaining: 1.02s\n",
      "171:\tlearn: 0.2472570\ttotal: 212ms\tremaining: 1.02s\n",
      "172:\tlearn: 0.2467545\ttotal: 213ms\tremaining: 1.02s\n",
      "173:\tlearn: 0.2461242\ttotal: 214ms\tremaining: 1.02s\n",
      "174:\tlearn: 0.2455872\ttotal: 215ms\tremaining: 1.01s\n",
      "175:\tlearn: 0.2452178\ttotal: 216ms\tremaining: 1.01s\n",
      "176:\tlearn: 0.2446701\ttotal: 216ms\tremaining: 1.01s\n",
      "177:\tlearn: 0.2440815\ttotal: 217ms\tremaining: 1s\n",
      "178:\tlearn: 0.2436128\ttotal: 218ms\tremaining: 1000ms\n",
      "179:\tlearn: 0.2430372\ttotal: 219ms\tremaining: 997ms\n",
      "180:\tlearn: 0.2421870\ttotal: 220ms\tremaining: 994ms\n",
      "181:\tlearn: 0.2414334\ttotal: 221ms\tremaining: 991ms\n",
      "182:\tlearn: 0.2409108\ttotal: 221ms\tremaining: 988ms\n",
      "183:\tlearn: 0.2403139\ttotal: 222ms\tremaining: 985ms\n",
      "184:\tlearn: 0.2394224\ttotal: 223ms\tremaining: 982ms\n",
      "185:\tlearn: 0.2386372\ttotal: 224ms\tremaining: 979ms\n",
      "186:\tlearn: 0.2378250\ttotal: 224ms\tremaining: 976ms\n",
      "187:\tlearn: 0.2369082\ttotal: 225ms\tremaining: 973ms\n",
      "188:\tlearn: 0.2364147\ttotal: 226ms\tremaining: 970ms\n",
      "189:\tlearn: 0.2358266\ttotal: 227ms\tremaining: 967ms\n",
      "190:\tlearn: 0.2350244\ttotal: 228ms\tremaining: 964ms\n",
      "191:\tlearn: 0.2344587\ttotal: 228ms\tremaining: 961ms\n",
      "192:\tlearn: 0.2339089\ttotal: 229ms\tremaining: 959ms\n",
      "193:\tlearn: 0.2331774\ttotal: 230ms\tremaining: 956ms\n",
      "194:\tlearn: 0.2326027\ttotal: 231ms\tremaining: 953ms\n",
      "195:\tlearn: 0.2319557\ttotal: 232ms\tremaining: 951ms\n",
      "196:\tlearn: 0.2315472\ttotal: 233ms\tremaining: 948ms\n",
      "197:\tlearn: 0.2309085\ttotal: 234ms\tremaining: 948ms\n",
      "198:\tlearn: 0.2300721\ttotal: 235ms\tremaining: 946ms\n",
      "199:\tlearn: 0.2295031\ttotal: 236ms\tremaining: 943ms\n",
      "200:\tlearn: 0.2287118\ttotal: 236ms\tremaining: 940ms\n",
      "201:\tlearn: 0.2283614\ttotal: 237ms\tremaining: 937ms\n",
      "202:\tlearn: 0.2277977\ttotal: 238ms\tremaining: 935ms\n",
      "203:\tlearn: 0.2272369\ttotal: 239ms\tremaining: 933ms\n",
      "204:\tlearn: 0.2265375\ttotal: 240ms\tremaining: 930ms\n",
      "205:\tlearn: 0.2258971\ttotal: 241ms\tremaining: 928ms\n",
      "206:\tlearn: 0.2253754\ttotal: 242ms\tremaining: 925ms\n",
      "207:\tlearn: 0.2248653\ttotal: 242ms\tremaining: 923ms\n",
      "208:\tlearn: 0.2244615\ttotal: 243ms\tremaining: 920ms\n",
      "209:\tlearn: 0.2239530\ttotal: 244ms\tremaining: 918ms\n",
      "210:\tlearn: 0.2232204\ttotal: 245ms\tremaining: 916ms\n",
      "211:\tlearn: 0.2226814\ttotal: 246ms\tremaining: 914ms\n",
      "212:\tlearn: 0.2223623\ttotal: 247ms\tremaining: 911ms\n",
      "213:\tlearn: 0.2218008\ttotal: 247ms\tremaining: 909ms\n",
      "214:\tlearn: 0.2212643\ttotal: 248ms\tremaining: 906ms\n",
      "215:\tlearn: 0.2207885\ttotal: 249ms\tremaining: 904ms\n",
      "216:\tlearn: 0.2201549\ttotal: 250ms\tremaining: 901ms\n",
      "217:\tlearn: 0.2196633\ttotal: 251ms\tremaining: 899ms\n",
      "218:\tlearn: 0.2188589\ttotal: 251ms\tremaining: 896ms\n",
      "219:\tlearn: 0.2182791\ttotal: 252ms\tremaining: 894ms\n",
      "220:\tlearn: 0.2177587\ttotal: 253ms\tremaining: 892ms\n",
      "221:\tlearn: 0.2173063\ttotal: 254ms\tremaining: 890ms\n",
      "222:\tlearn: 0.2168155\ttotal: 255ms\tremaining: 887ms\n",
      "223:\tlearn: 0.2164256\ttotal: 255ms\tremaining: 885ms\n",
      "224:\tlearn: 0.2159841\ttotal: 256ms\tremaining: 883ms\n",
      "225:\tlearn: 0.2153850\ttotal: 257ms\tremaining: 881ms\n",
      "226:\tlearn: 0.2148306\ttotal: 258ms\tremaining: 879ms\n",
      "227:\tlearn: 0.2143404\ttotal: 259ms\tremaining: 877ms\n",
      "228:\tlearn: 0.2137756\ttotal: 260ms\tremaining: 875ms\n",
      "229:\tlearn: 0.2134731\ttotal: 261ms\tremaining: 872ms\n",
      "230:\tlearn: 0.2130482\ttotal: 261ms\tremaining: 870ms\n",
      "231:\tlearn: 0.2124284\ttotal: 262ms\tremaining: 868ms\n",
      "232:\tlearn: 0.2118944\ttotal: 263ms\tremaining: 866ms\n",
      "233:\tlearn: 0.2110497\ttotal: 264ms\tremaining: 864ms\n",
      "234:\tlearn: 0.2105373\ttotal: 265ms\tremaining: 862ms\n",
      "235:\tlearn: 0.2097375\ttotal: 266ms\tremaining: 860ms\n",
      "236:\tlearn: 0.2091745\ttotal: 266ms\tremaining: 858ms\n",
      "237:\tlearn: 0.2087113\ttotal: 267ms\tremaining: 856ms\n",
      "238:\tlearn: 0.2081428\ttotal: 268ms\tremaining: 853ms\n",
      "239:\tlearn: 0.2077106\ttotal: 269ms\tremaining: 851ms\n",
      "240:\tlearn: 0.2072007\ttotal: 270ms\tremaining: 849ms\n",
      "241:\tlearn: 0.2066797\ttotal: 270ms\tremaining: 847ms\n",
      "242:\tlearn: 0.2062008\ttotal: 271ms\tremaining: 845ms\n",
      "243:\tlearn: 0.2056758\ttotal: 272ms\tremaining: 843ms\n",
      "244:\tlearn: 0.2051822\ttotal: 273ms\tremaining: 841ms\n",
      "245:\tlearn: 0.2049163\ttotal: 274ms\tremaining: 839ms\n",
      "246:\tlearn: 0.2045096\ttotal: 274ms\tremaining: 836ms\n",
      "247:\tlearn: 0.2040059\ttotal: 275ms\tremaining: 834ms\n",
      "248:\tlearn: 0.2035698\ttotal: 276ms\tremaining: 832ms\n",
      "249:\tlearn: 0.2032540\ttotal: 277ms\tremaining: 830ms\n",
      "250:\tlearn: 0.2025144\ttotal: 278ms\tremaining: 828ms\n",
      "251:\tlearn: 0.2020259\ttotal: 279ms\tremaining: 827ms\n",
      "252:\tlearn: 0.2015776\ttotal: 279ms\tremaining: 825ms\n",
      "253:\tlearn: 0.2010798\ttotal: 280ms\tremaining: 823ms\n",
      "254:\tlearn: 0.2005346\ttotal: 281ms\tremaining: 821ms\n",
      "255:\tlearn: 0.1999011\ttotal: 282ms\tremaining: 818ms\n",
      "256:\tlearn: 0.1993655\ttotal: 283ms\tremaining: 817ms\n",
      "257:\tlearn: 0.1988905\ttotal: 283ms\tremaining: 815ms\n",
      "258:\tlearn: 0.1983592\ttotal: 284ms\tremaining: 813ms\n",
      "259:\tlearn: 0.1975941\ttotal: 285ms\tremaining: 811ms\n",
      "260:\tlearn: 0.1971676\ttotal: 286ms\tremaining: 809ms\n",
      "261:\tlearn: 0.1966140\ttotal: 286ms\tremaining: 807ms\n",
      "262:\tlearn: 0.1962809\ttotal: 287ms\tremaining: 805ms\n",
      "263:\tlearn: 0.1960330\ttotal: 288ms\tremaining: 803ms\n",
      "264:\tlearn: 0.1955475\ttotal: 289ms\tremaining: 801ms\n",
      "265:\tlearn: 0.1950602\ttotal: 290ms\tremaining: 800ms\n",
      "266:\tlearn: 0.1945603\ttotal: 291ms\tremaining: 798ms\n",
      "267:\tlearn: 0.1939669\ttotal: 291ms\tremaining: 796ms\n",
      "268:\tlearn: 0.1937019\ttotal: 292ms\tremaining: 794ms\n",
      "269:\tlearn: 0.1933287\ttotal: 293ms\tremaining: 792ms\n",
      "270:\tlearn: 0.1929396\ttotal: 294ms\tremaining: 790ms\n",
      "271:\tlearn: 0.1924935\ttotal: 295ms\tremaining: 789ms\n",
      "272:\tlearn: 0.1921548\ttotal: 295ms\tremaining: 787ms\n",
      "273:\tlearn: 0.1915694\ttotal: 296ms\tremaining: 785ms\n",
      "274:\tlearn: 0.1909751\ttotal: 297ms\tremaining: 783ms\n",
      "275:\tlearn: 0.1902798\ttotal: 298ms\tremaining: 781ms\n",
      "276:\tlearn: 0.1898563\ttotal: 298ms\tremaining: 779ms\n",
      "277:\tlearn: 0.1895411\ttotal: 299ms\tremaining: 777ms\n"
     ]
    },
    {
     "name": "stdout",
     "output_type": "stream",
     "text": [
      "278:\tlearn: 0.1890218\ttotal: 300ms\tremaining: 776ms\n",
      "279:\tlearn: 0.1887387\ttotal: 301ms\tremaining: 774ms\n",
      "280:\tlearn: 0.1881796\ttotal: 302ms\tremaining: 773ms\n",
      "281:\tlearn: 0.1877273\ttotal: 303ms\tremaining: 771ms\n",
      "282:\tlearn: 0.1872673\ttotal: 303ms\tremaining: 769ms\n",
      "283:\tlearn: 0.1870311\ttotal: 304ms\tremaining: 767ms\n",
      "284:\tlearn: 0.1865366\ttotal: 305ms\tremaining: 766ms\n",
      "285:\tlearn: 0.1861804\ttotal: 306ms\tremaining: 764ms\n",
      "286:\tlearn: 0.1856154\ttotal: 307ms\tremaining: 762ms\n",
      "287:\tlearn: 0.1853868\ttotal: 307ms\tremaining: 760ms\n",
      "288:\tlearn: 0.1851364\ttotal: 308ms\tremaining: 759ms\n",
      "289:\tlearn: 0.1848016\ttotal: 309ms\tremaining: 757ms\n",
      "290:\tlearn: 0.1842399\ttotal: 310ms\tremaining: 756ms\n",
      "291:\tlearn: 0.1839065\ttotal: 311ms\tremaining: 754ms\n",
      "292:\tlearn: 0.1833458\ttotal: 312ms\tremaining: 753ms\n",
      "293:\tlearn: 0.1828319\ttotal: 313ms\tremaining: 751ms\n",
      "294:\tlearn: 0.1824062\ttotal: 314ms\tremaining: 749ms\n",
      "295:\tlearn: 0.1821980\ttotal: 314ms\tremaining: 748ms\n",
      "296:\tlearn: 0.1819841\ttotal: 315ms\tremaining: 746ms\n",
      "297:\tlearn: 0.1817736\ttotal: 316ms\tremaining: 744ms\n",
      "298:\tlearn: 0.1813386\ttotal: 317ms\tremaining: 742ms\n",
      "299:\tlearn: 0.1808234\ttotal: 317ms\tremaining: 741ms\n",
      "300:\tlearn: 0.1803032\ttotal: 318ms\tremaining: 739ms\n",
      "301:\tlearn: 0.1797844\ttotal: 319ms\tremaining: 738ms\n",
      "302:\tlearn: 0.1793075\ttotal: 320ms\tremaining: 736ms\n",
      "303:\tlearn: 0.1790107\ttotal: 321ms\tremaining: 735ms\n",
      "304:\tlearn: 0.1787026\ttotal: 322ms\tremaining: 733ms\n",
      "305:\tlearn: 0.1782745\ttotal: 322ms\tremaining: 731ms\n",
      "306:\tlearn: 0.1777816\ttotal: 323ms\tremaining: 730ms\n",
      "307:\tlearn: 0.1773910\ttotal: 324ms\tremaining: 728ms\n",
      "308:\tlearn: 0.1770190\ttotal: 325ms\tremaining: 727ms\n",
      "309:\tlearn: 0.1764948\ttotal: 326ms\tremaining: 725ms\n",
      "310:\tlearn: 0.1760374\ttotal: 326ms\tremaining: 723ms\n",
      "311:\tlearn: 0.1757082\ttotal: 327ms\tremaining: 721ms\n",
      "312:\tlearn: 0.1752317\ttotal: 328ms\tremaining: 720ms\n",
      "313:\tlearn: 0.1750681\ttotal: 329ms\tremaining: 719ms\n",
      "314:\tlearn: 0.1746346\ttotal: 330ms\tremaining: 717ms\n",
      "315:\tlearn: 0.1742020\ttotal: 331ms\tremaining: 716ms\n",
      "316:\tlearn: 0.1737913\ttotal: 331ms\tremaining: 714ms\n",
      "317:\tlearn: 0.1733436\ttotal: 332ms\tremaining: 713ms\n",
      "318:\tlearn: 0.1729233\ttotal: 333ms\tremaining: 711ms\n",
      "319:\tlearn: 0.1725348\ttotal: 334ms\tremaining: 710ms\n",
      "320:\tlearn: 0.1721893\ttotal: 335ms\tremaining: 708ms\n",
      "321:\tlearn: 0.1718311\ttotal: 336ms\tremaining: 707ms\n",
      "322:\tlearn: 0.1714596\ttotal: 336ms\tremaining: 705ms\n",
      "323:\tlearn: 0.1710355\ttotal: 337ms\tremaining: 704ms\n",
      "324:\tlearn: 0.1706747\ttotal: 338ms\tremaining: 702ms\n",
      "325:\tlearn: 0.1702504\ttotal: 339ms\tremaining: 701ms\n",
      "326:\tlearn: 0.1699013\ttotal: 340ms\tremaining: 699ms\n",
      "327:\tlearn: 0.1697060\ttotal: 340ms\tremaining: 697ms\n",
      "328:\tlearn: 0.1693814\ttotal: 341ms\tremaining: 696ms\n",
      "329:\tlearn: 0.1691123\ttotal: 342ms\tremaining: 694ms\n",
      "330:\tlearn: 0.1689279\ttotal: 343ms\tremaining: 693ms\n",
      "331:\tlearn: 0.1686101\ttotal: 343ms\tremaining: 691ms\n",
      "332:\tlearn: 0.1681543\ttotal: 344ms\tremaining: 690ms\n",
      "333:\tlearn: 0.1677191\ttotal: 345ms\tremaining: 688ms\n",
      "334:\tlearn: 0.1673516\ttotal: 346ms\tremaining: 687ms\n",
      "335:\tlearn: 0.1671807\ttotal: 347ms\tremaining: 685ms\n",
      "336:\tlearn: 0.1666957\ttotal: 348ms\tremaining: 684ms\n",
      "337:\tlearn: 0.1662818\ttotal: 349ms\tremaining: 683ms\n",
      "338:\tlearn: 0.1658912\ttotal: 349ms\tremaining: 681ms\n",
      "339:\tlearn: 0.1656435\ttotal: 350ms\tremaining: 680ms\n",
      "340:\tlearn: 0.1652735\ttotal: 351ms\tremaining: 678ms\n",
      "341:\tlearn: 0.1647566\ttotal: 353ms\tremaining: 678ms\n",
      "342:\tlearn: 0.1643974\ttotal: 353ms\tremaining: 677ms\n",
      "343:\tlearn: 0.1640118\ttotal: 354ms\tremaining: 675ms\n",
      "344:\tlearn: 0.1637451\ttotal: 355ms\tremaining: 674ms\n",
      "345:\tlearn: 0.1633076\ttotal: 356ms\tremaining: 673ms\n",
      "346:\tlearn: 0.1629697\ttotal: 357ms\tremaining: 671ms\n",
      "347:\tlearn: 0.1624648\ttotal: 358ms\tremaining: 670ms\n",
      "348:\tlearn: 0.1618713\ttotal: 359ms\tremaining: 669ms\n",
      "349:\tlearn: 0.1614920\ttotal: 359ms\tremaining: 667ms\n",
      "350:\tlearn: 0.1611638\ttotal: 360ms\tremaining: 666ms\n",
      "351:\tlearn: 0.1608212\ttotal: 361ms\tremaining: 664ms\n",
      "352:\tlearn: 0.1605709\ttotal: 362ms\tremaining: 663ms\n",
      "353:\tlearn: 0.1601522\ttotal: 363ms\tremaining: 662ms\n",
      "354:\tlearn: 0.1598756\ttotal: 364ms\tremaining: 661ms\n",
      "355:\tlearn: 0.1597147\ttotal: 364ms\tremaining: 659ms\n",
      "356:\tlearn: 0.1594431\ttotal: 365ms\tremaining: 658ms\n",
      "357:\tlearn: 0.1591258\ttotal: 366ms\tremaining: 656ms\n",
      "358:\tlearn: 0.1587755\ttotal: 367ms\tremaining: 655ms\n",
      "359:\tlearn: 0.1586385\ttotal: 368ms\tremaining: 653ms\n",
      "360:\tlearn: 0.1581789\ttotal: 369ms\tremaining: 652ms\n",
      "361:\tlearn: 0.1577670\ttotal: 369ms\tremaining: 651ms\n",
      "362:\tlearn: 0.1573916\ttotal: 370ms\tremaining: 650ms\n",
      "363:\tlearn: 0.1571205\ttotal: 371ms\tremaining: 648ms\n",
      "364:\tlearn: 0.1567355\ttotal: 372ms\tremaining: 647ms\n",
      "365:\tlearn: 0.1563339\ttotal: 373ms\tremaining: 646ms\n",
      "366:\tlearn: 0.1559981\ttotal: 374ms\tremaining: 644ms\n",
      "367:\tlearn: 0.1556083\ttotal: 374ms\tremaining: 643ms\n",
      "368:\tlearn: 0.1554440\ttotal: 375ms\tremaining: 642ms\n",
      "369:\tlearn: 0.1550060\ttotal: 376ms\tremaining: 640ms\n",
      "370:\tlearn: 0.1546256\ttotal: 377ms\tremaining: 639ms\n",
      "371:\tlearn: 0.1543996\ttotal: 378ms\tremaining: 638ms\n",
      "372:\tlearn: 0.1538515\ttotal: 379ms\tremaining: 636ms\n",
      "373:\tlearn: 0.1535757\ttotal: 379ms\tremaining: 635ms\n",
      "374:\tlearn: 0.1533148\ttotal: 380ms\tremaining: 633ms\n",
      "375:\tlearn: 0.1531827\ttotal: 381ms\tremaining: 632ms\n",
      "376:\tlearn: 0.1527578\ttotal: 382ms\tremaining: 631ms\n",
      "377:\tlearn: 0.1524624\ttotal: 382ms\tremaining: 629ms\n"
     ]
    },
    {
     "name": "stdout",
     "output_type": "stream",
     "text": [
      "378:\tlearn: 0.1523003\ttotal: 383ms\tremaining: 628ms\n",
      "379:\tlearn: 0.1520147\ttotal: 384ms\tremaining: 627ms\n",
      "380:\tlearn: 0.1518103\ttotal: 385ms\tremaining: 626ms\n",
      "381:\tlearn: 0.1514678\ttotal: 386ms\tremaining: 624ms\n",
      "382:\tlearn: 0.1511208\ttotal: 387ms\tremaining: 623ms\n",
      "383:\tlearn: 0.1509557\ttotal: 387ms\tremaining: 622ms\n",
      "384:\tlearn: 0.1506391\ttotal: 388ms\tremaining: 620ms\n",
      "385:\tlearn: 0.1504841\ttotal: 389ms\tremaining: 619ms\n",
      "386:\tlearn: 0.1503192\ttotal: 390ms\tremaining: 617ms\n",
      "387:\tlearn: 0.1499839\ttotal: 391ms\tremaining: 616ms\n",
      "388:\tlearn: 0.1498202\ttotal: 391ms\tremaining: 615ms\n",
      "389:\tlearn: 0.1494683\ttotal: 392ms\tremaining: 614ms\n",
      "390:\tlearn: 0.1491548\ttotal: 393ms\tremaining: 612ms\n",
      "391:\tlearn: 0.1488885\ttotal: 394ms\tremaining: 611ms\n",
      "392:\tlearn: 0.1486827\ttotal: 395ms\tremaining: 610ms\n",
      "393:\tlearn: 0.1483674\ttotal: 395ms\tremaining: 608ms\n",
      "394:\tlearn: 0.1480546\ttotal: 396ms\tremaining: 607ms\n",
      "395:\tlearn: 0.1476243\ttotal: 397ms\tremaining: 606ms\n",
      "396:\tlearn: 0.1472908\ttotal: 398ms\tremaining: 604ms\n",
      "397:\tlearn: 0.1467666\ttotal: 399ms\tremaining: 603ms\n",
      "398:\tlearn: 0.1464744\ttotal: 399ms\tremaining: 602ms\n",
      "399:\tlearn: 0.1462427\ttotal: 400ms\tremaining: 600ms\n",
      "400:\tlearn: 0.1459060\ttotal: 401ms\tremaining: 599ms\n",
      "401:\tlearn: 0.1458470\ttotal: 402ms\tremaining: 598ms\n",
      "402:\tlearn: 0.1455098\ttotal: 403ms\tremaining: 596ms\n",
      "403:\tlearn: 0.1452183\ttotal: 403ms\tremaining: 595ms\n",
      "404:\tlearn: 0.1449162\ttotal: 404ms\tremaining: 594ms\n",
      "405:\tlearn: 0.1447192\ttotal: 405ms\tremaining: 593ms\n",
      "406:\tlearn: 0.1444166\ttotal: 406ms\tremaining: 591ms\n",
      "407:\tlearn: 0.1440604\ttotal: 407ms\tremaining: 590ms\n",
      "408:\tlearn: 0.1437470\ttotal: 407ms\tremaining: 589ms\n",
      "409:\tlearn: 0.1434811\ttotal: 408ms\tremaining: 587ms\n",
      "410:\tlearn: 0.1430912\ttotal: 409ms\tremaining: 586ms\n",
      "411:\tlearn: 0.1428794\ttotal: 410ms\tremaining: 585ms\n",
      "412:\tlearn: 0.1425423\ttotal: 410ms\tremaining: 583ms\n",
      "413:\tlearn: 0.1424210\ttotal: 411ms\tremaining: 582ms\n",
      "414:\tlearn: 0.1421737\ttotal: 412ms\tremaining: 580ms\n",
      "415:\tlearn: 0.1418234\ttotal: 413ms\tremaining: 579ms\n",
      "416:\tlearn: 0.1416099\ttotal: 413ms\tremaining: 578ms\n",
      "417:\tlearn: 0.1412804\ttotal: 414ms\tremaining: 576ms\n",
      "418:\tlearn: 0.1409905\ttotal: 416ms\tremaining: 576ms\n",
      "419:\tlearn: 0.1406644\ttotal: 416ms\tremaining: 575ms\n",
      "420:\tlearn: 0.1403476\ttotal: 417ms\tremaining: 574ms\n",
      "421:\tlearn: 0.1400489\ttotal: 418ms\tremaining: 572ms\n",
      "422:\tlearn: 0.1399358\ttotal: 419ms\tremaining: 571ms\n",
      "423:\tlearn: 0.1396746\ttotal: 420ms\tremaining: 570ms\n",
      "424:\tlearn: 0.1395568\ttotal: 420ms\tremaining: 569ms\n",
      "425:\tlearn: 0.1393294\ttotal: 421ms\tremaining: 568ms\n",
      "426:\tlearn: 0.1390942\ttotal: 422ms\tremaining: 567ms\n",
      "427:\tlearn: 0.1387618\ttotal: 423ms\tremaining: 566ms\n",
      "428:\tlearn: 0.1386254\ttotal: 424ms\tremaining: 564ms\n",
      "429:\tlearn: 0.1384894\ttotal: 425ms\tremaining: 563ms\n",
      "430:\tlearn: 0.1380322\ttotal: 426ms\tremaining: 562ms\n",
      "431:\tlearn: 0.1377199\ttotal: 427ms\tremaining: 561ms\n",
      "432:\tlearn: 0.1376759\ttotal: 427ms\tremaining: 560ms\n",
      "433:\tlearn: 0.1374332\ttotal: 428ms\tremaining: 559ms\n",
      "434:\tlearn: 0.1373878\ttotal: 429ms\tremaining: 558ms\n",
      "435:\tlearn: 0.1369867\ttotal: 430ms\tremaining: 556ms\n",
      "436:\tlearn: 0.1367999\ttotal: 431ms\tremaining: 555ms\n",
      "437:\tlearn: 0.1365031\ttotal: 432ms\tremaining: 554ms\n",
      "438:\tlearn: 0.1361243\ttotal: 433ms\tremaining: 553ms\n",
      "439:\tlearn: 0.1359305\ttotal: 434ms\tremaining: 552ms\n",
      "440:\tlearn: 0.1356732\ttotal: 434ms\tremaining: 551ms\n",
      "441:\tlearn: 0.1356329\ttotal: 435ms\tremaining: 550ms\n",
      "442:\tlearn: 0.1352016\ttotal: 436ms\tremaining: 548ms\n",
      "443:\tlearn: 0.1350760\ttotal: 437ms\tremaining: 547ms\n",
      "444:\tlearn: 0.1347429\ttotal: 438ms\tremaining: 546ms\n",
      "445:\tlearn: 0.1343937\ttotal: 439ms\tremaining: 545ms\n",
      "446:\tlearn: 0.1340626\ttotal: 440ms\tremaining: 544ms\n",
      "447:\tlearn: 0.1338386\ttotal: 440ms\tremaining: 543ms\n",
      "448:\tlearn: 0.1335246\ttotal: 441ms\tremaining: 542ms\n",
      "449:\tlearn: 0.1334770\ttotal: 442ms\tremaining: 541ms\n",
      "450:\tlearn: 0.1332101\ttotal: 443ms\tremaining: 539ms\n",
      "451:\tlearn: 0.1329652\ttotal: 444ms\tremaining: 538ms\n",
      "452:\tlearn: 0.1328492\ttotal: 445ms\tremaining: 537ms\n",
      "453:\tlearn: 0.1326084\ttotal: 446ms\tremaining: 536ms\n",
      "454:\tlearn: 0.1323541\ttotal: 446ms\tremaining: 535ms\n",
      "455:\tlearn: 0.1323196\ttotal: 447ms\tremaining: 534ms\n",
      "456:\tlearn: 0.1320257\ttotal: 448ms\tremaining: 533ms\n",
      "457:\tlearn: 0.1317687\ttotal: 449ms\tremaining: 531ms\n",
      "458:\tlearn: 0.1316481\ttotal: 450ms\tremaining: 530ms\n",
      "459:\tlearn: 0.1313486\ttotal: 451ms\tremaining: 529ms\n",
      "460:\tlearn: 0.1313242\ttotal: 452ms\tremaining: 528ms\n",
      "461:\tlearn: 0.1312943\ttotal: 452ms\tremaining: 527ms\n",
      "462:\tlearn: 0.1310713\ttotal: 453ms\tremaining: 526ms\n",
      "463:\tlearn: 0.1307280\ttotal: 454ms\tremaining: 525ms\n",
      "464:\tlearn: 0.1306244\ttotal: 455ms\tremaining: 523ms\n",
      "465:\tlearn: 0.1304415\ttotal: 456ms\tremaining: 522ms\n",
      "466:\tlearn: 0.1302131\ttotal: 457ms\tremaining: 521ms\n",
      "467:\tlearn: 0.1301605\ttotal: 457ms\tremaining: 520ms\n",
      "468:\tlearn: 0.1297563\ttotal: 458ms\tremaining: 519ms\n",
      "469:\tlearn: 0.1296261\ttotal: 459ms\tremaining: 518ms\n",
      "470:\tlearn: 0.1293556\ttotal: 460ms\tremaining: 517ms\n",
      "471:\tlearn: 0.1292819\ttotal: 461ms\tremaining: 516ms\n",
      "472:\tlearn: 0.1288877\ttotal: 462ms\tremaining: 514ms\n",
      "473:\tlearn: 0.1285374\ttotal: 463ms\tremaining: 513ms\n",
      "474:\tlearn: 0.1282154\ttotal: 463ms\tremaining: 512ms\n",
      "475:\tlearn: 0.1279962\ttotal: 464ms\tremaining: 511ms\n",
      "476:\tlearn: 0.1276197\ttotal: 465ms\tremaining: 510ms\n",
      "477:\tlearn: 0.1274686\ttotal: 466ms\tremaining: 509ms\n",
      "478:\tlearn: 0.1274404\ttotal: 466ms\tremaining: 507ms\n",
      "479:\tlearn: 0.1272403\ttotal: 467ms\tremaining: 506ms\n",
      "480:\tlearn: 0.1269575\ttotal: 468ms\tremaining: 505ms\n",
      "481:\tlearn: 0.1266423\ttotal: 469ms\tremaining: 504ms\n",
      "482:\tlearn: 0.1265933\ttotal: 470ms\tremaining: 503ms\n",
      "483:\tlearn: 0.1265658\ttotal: 471ms\tremaining: 502ms\n",
      "484:\tlearn: 0.1261145\ttotal: 471ms\tremaining: 500ms\n",
      "485:\tlearn: 0.1257871\ttotal: 472ms\tremaining: 499ms\n"
     ]
    },
    {
     "name": "stdout",
     "output_type": "stream",
     "text": [
      "486:\tlearn: 0.1257606\ttotal: 473ms\tremaining: 498ms\n",
      "487:\tlearn: 0.1255466\ttotal: 474ms\tremaining: 497ms\n",
      "488:\tlearn: 0.1253252\ttotal: 475ms\tremaining: 496ms\n",
      "489:\tlearn: 0.1249466\ttotal: 476ms\tremaining: 495ms\n",
      "490:\tlearn: 0.1247181\ttotal: 476ms\tremaining: 494ms\n",
      "491:\tlearn: 0.1246650\ttotal: 477ms\tremaining: 493ms\n",
      "492:\tlearn: 0.1243400\ttotal: 478ms\tremaining: 492ms\n",
      "493:\tlearn: 0.1242412\ttotal: 479ms\tremaining: 491ms\n",
      "494:\tlearn: 0.1240884\ttotal: 480ms\tremaining: 490ms\n",
      "495:\tlearn: 0.1238232\ttotal: 481ms\tremaining: 488ms\n",
      "496:\tlearn: 0.1236512\ttotal: 481ms\tremaining: 487ms\n",
      "497:\tlearn: 0.1236265\ttotal: 482ms\tremaining: 486ms\n",
      "498:\tlearn: 0.1234762\ttotal: 483ms\tremaining: 485ms\n",
      "499:\tlearn: 0.1231889\ttotal: 484ms\tremaining: 484ms\n",
      "500:\tlearn: 0.1230686\ttotal: 485ms\tremaining: 483ms\n",
      "501:\tlearn: 0.1228913\ttotal: 485ms\tremaining: 481ms\n",
      "502:\tlearn: 0.1228607\ttotal: 486ms\tremaining: 480ms\n",
      "503:\tlearn: 0.1227022\ttotal: 487ms\tremaining: 479ms\n",
      "504:\tlearn: 0.1226226\ttotal: 488ms\tremaining: 478ms\n",
      "505:\tlearn: 0.1223233\ttotal: 489ms\tremaining: 477ms\n",
      "506:\tlearn: 0.1221925\ttotal: 489ms\tremaining: 476ms\n",
      "507:\tlearn: 0.1220393\ttotal: 490ms\tremaining: 475ms\n",
      "508:\tlearn: 0.1217734\ttotal: 491ms\tremaining: 474ms\n",
      "509:\tlearn: 0.1215925\ttotal: 492ms\tremaining: 473ms\n",
      "510:\tlearn: 0.1215742\ttotal: 493ms\tremaining: 471ms\n",
      "511:\tlearn: 0.1213745\ttotal: 493ms\tremaining: 470ms\n",
      "512:\tlearn: 0.1211760\ttotal: 494ms\tremaining: 469ms\n",
      "513:\tlearn: 0.1210011\ttotal: 495ms\tremaining: 468ms\n",
      "514:\tlearn: 0.1207601\ttotal: 496ms\tremaining: 467ms\n",
      "515:\tlearn: 0.1205846\ttotal: 497ms\tremaining: 466ms\n",
      "516:\tlearn: 0.1203380\ttotal: 497ms\tremaining: 465ms\n",
      "517:\tlearn: 0.1201136\ttotal: 498ms\tremaining: 464ms\n",
      "518:\tlearn: 0.1199233\ttotal: 499ms\tremaining: 463ms\n",
      "519:\tlearn: 0.1196634\ttotal: 500ms\tremaining: 461ms\n",
      "520:\tlearn: 0.1193826\ttotal: 501ms\tremaining: 460ms\n",
      "521:\tlearn: 0.1193028\ttotal: 501ms\tremaining: 459ms\n",
      "522:\tlearn: 0.1192318\ttotal: 502ms\tremaining: 458ms\n",
      "523:\tlearn: 0.1189797\ttotal: 503ms\tremaining: 457ms\n",
      "524:\tlearn: 0.1188091\ttotal: 504ms\tremaining: 456ms\n",
      "525:\tlearn: 0.1186171\ttotal: 505ms\tremaining: 455ms\n",
      "526:\tlearn: 0.1183436\ttotal: 506ms\tremaining: 454ms\n",
      "527:\tlearn: 0.1181473\ttotal: 506ms\tremaining: 453ms\n",
      "528:\tlearn: 0.1179454\ttotal: 507ms\tremaining: 451ms\n",
      "529:\tlearn: 0.1178179\ttotal: 508ms\tremaining: 450ms\n",
      "530:\tlearn: 0.1176580\ttotal: 509ms\tremaining: 449ms\n",
      "531:\tlearn: 0.1174431\ttotal: 510ms\tremaining: 448ms\n",
      "532:\tlearn: 0.1171518\ttotal: 510ms\tremaining: 447ms\n",
      "533:\tlearn: 0.1169532\ttotal: 511ms\tremaining: 446ms\n",
      "534:\tlearn: 0.1167946\ttotal: 512ms\tremaining: 445ms\n",
      "535:\tlearn: 0.1166900\ttotal: 513ms\tremaining: 444ms\n",
      "536:\tlearn: 0.1164658\ttotal: 514ms\tremaining: 443ms\n",
      "537:\tlearn: 0.1162471\ttotal: 515ms\tremaining: 442ms\n",
      "538:\tlearn: 0.1160607\ttotal: 515ms\tremaining: 441ms\n",
      "539:\tlearn: 0.1160282\ttotal: 516ms\tremaining: 440ms\n",
      "540:\tlearn: 0.1159630\ttotal: 517ms\tremaining: 439ms\n",
      "541:\tlearn: 0.1156215\ttotal: 518ms\tremaining: 438ms\n",
      "542:\tlearn: 0.1155814\ttotal: 519ms\tremaining: 437ms\n",
      "543:\tlearn: 0.1153512\ttotal: 520ms\tremaining: 436ms\n",
      "544:\tlearn: 0.1152419\ttotal: 521ms\tremaining: 435ms\n",
      "545:\tlearn: 0.1150858\ttotal: 521ms\tremaining: 433ms\n",
      "546:\tlearn: 0.1149382\ttotal: 522ms\tremaining: 432ms\n",
      "547:\tlearn: 0.1148818\ttotal: 523ms\tremaining: 431ms\n",
      "548:\tlearn: 0.1146389\ttotal: 524ms\tremaining: 430ms\n",
      "549:\tlearn: 0.1144779\ttotal: 525ms\tremaining: 429ms\n",
      "550:\tlearn: 0.1144065\ttotal: 525ms\tremaining: 428ms\n",
      "551:\tlearn: 0.1142462\ttotal: 526ms\tremaining: 427ms\n",
      "552:\tlearn: 0.1140041\ttotal: 527ms\tremaining: 426ms\n",
      "553:\tlearn: 0.1137704\ttotal: 528ms\tremaining: 425ms\n",
      "554:\tlearn: 0.1136818\ttotal: 529ms\tremaining: 424ms\n",
      "555:\tlearn: 0.1134151\ttotal: 529ms\tremaining: 423ms\n",
      "556:\tlearn: 0.1132863\ttotal: 530ms\tremaining: 422ms\n",
      "557:\tlearn: 0.1132600\ttotal: 531ms\tremaining: 421ms\n",
      "558:\tlearn: 0.1130868\ttotal: 532ms\tremaining: 420ms\n",
      "559:\tlearn: 0.1127663\ttotal: 533ms\tremaining: 419ms\n",
      "560:\tlearn: 0.1126935\ttotal: 534ms\tremaining: 418ms\n",
      "561:\tlearn: 0.1125697\ttotal: 534ms\tremaining: 416ms\n",
      "562:\tlearn: 0.1122815\ttotal: 535ms\tremaining: 415ms\n",
      "563:\tlearn: 0.1120467\ttotal: 536ms\tremaining: 414ms\n",
      "564:\tlearn: 0.1117617\ttotal: 537ms\tremaining: 413ms\n",
      "565:\tlearn: 0.1114856\ttotal: 538ms\tremaining: 412ms\n",
      "566:\tlearn: 0.1112336\ttotal: 538ms\tremaining: 411ms\n",
      "567:\tlearn: 0.1109103\ttotal: 539ms\tremaining: 410ms\n",
      "568:\tlearn: 0.1106729\ttotal: 540ms\tremaining: 409ms\n",
      "569:\tlearn: 0.1104905\ttotal: 541ms\tremaining: 408ms\n",
      "570:\tlearn: 0.1104306\ttotal: 542ms\tremaining: 407ms\n",
      "571:\tlearn: 0.1101766\ttotal: 542ms\tremaining: 406ms\n",
      "572:\tlearn: 0.1100581\ttotal: 543ms\tremaining: 405ms\n",
      "573:\tlearn: 0.1098284\ttotal: 544ms\tremaining: 404ms\n",
      "574:\tlearn: 0.1097457\ttotal: 545ms\tremaining: 403ms\n",
      "575:\tlearn: 0.1096288\ttotal: 546ms\tremaining: 402ms\n",
      "576:\tlearn: 0.1094314\ttotal: 546ms\tremaining: 400ms\n",
      "577:\tlearn: 0.1091843\ttotal: 547ms\tremaining: 399ms\n",
      "578:\tlearn: 0.1091273\ttotal: 548ms\tremaining: 398ms\n",
      "579:\tlearn: 0.1090624\ttotal: 549ms\tremaining: 397ms\n",
      "580:\tlearn: 0.1087710\ttotal: 549ms\tremaining: 396ms\n",
      "581:\tlearn: 0.1086532\ttotal: 550ms\tremaining: 395ms\n",
      "582:\tlearn: 0.1084314\ttotal: 551ms\tremaining: 394ms\n",
      "583:\tlearn: 0.1083719\ttotal: 552ms\tremaining: 393ms\n",
      "584:\tlearn: 0.1081713\ttotal: 553ms\tremaining: 392ms\n",
      "585:\tlearn: 0.1079662\ttotal: 554ms\tremaining: 391ms\n",
      "586:\tlearn: 0.1077374\ttotal: 555ms\tremaining: 390ms\n"
     ]
    },
    {
     "name": "stdout",
     "output_type": "stream",
     "text": [
      "587:\tlearn: 0.1075512\ttotal: 556ms\tremaining: 389ms\n",
      "588:\tlearn: 0.1073145\ttotal: 557ms\tremaining: 388ms\n",
      "589:\tlearn: 0.1071820\ttotal: 557ms\tremaining: 387ms\n",
      "590:\tlearn: 0.1070262\ttotal: 558ms\tremaining: 386ms\n",
      "591:\tlearn: 0.1068111\ttotal: 559ms\tremaining: 385ms\n",
      "592:\tlearn: 0.1066289\ttotal: 560ms\tremaining: 384ms\n",
      "593:\tlearn: 0.1064902\ttotal: 561ms\tremaining: 383ms\n",
      "594:\tlearn: 0.1063159\ttotal: 562ms\tremaining: 382ms\n",
      "595:\tlearn: 0.1060711\ttotal: 562ms\tremaining: 381ms\n",
      "596:\tlearn: 0.1059328\ttotal: 563ms\tremaining: 380ms\n",
      "597:\tlearn: 0.1056830\ttotal: 564ms\tremaining: 379ms\n",
      "598:\tlearn: 0.1055324\ttotal: 565ms\tremaining: 378ms\n",
      "599:\tlearn: 0.1054102\ttotal: 566ms\tremaining: 377ms\n",
      "600:\tlearn: 0.1053200\ttotal: 566ms\tremaining: 376ms\n",
      "601:\tlearn: 0.1052634\ttotal: 567ms\tremaining: 375ms\n",
      "602:\tlearn: 0.1050783\ttotal: 568ms\tremaining: 374ms\n",
      "603:\tlearn: 0.1048766\ttotal: 569ms\tremaining: 373ms\n",
      "604:\tlearn: 0.1048523\ttotal: 570ms\tremaining: 372ms\n",
      "605:\tlearn: 0.1045641\ttotal: 570ms\tremaining: 371ms\n",
      "606:\tlearn: 0.1044049\ttotal: 571ms\tremaining: 370ms\n",
      "607:\tlearn: 0.1042646\ttotal: 572ms\tremaining: 369ms\n",
      "608:\tlearn: 0.1040002\ttotal: 573ms\tremaining: 368ms\n",
      "609:\tlearn: 0.1037868\ttotal: 574ms\tremaining: 367ms\n",
      "610:\tlearn: 0.1037439\ttotal: 575ms\tremaining: 366ms\n",
      "611:\tlearn: 0.1035312\ttotal: 575ms\tremaining: 365ms\n",
      "612:\tlearn: 0.1033355\ttotal: 576ms\tremaining: 364ms\n",
      "613:\tlearn: 0.1031128\ttotal: 577ms\tremaining: 363ms\n",
      "614:\tlearn: 0.1029322\ttotal: 578ms\tremaining: 362ms\n",
      "615:\tlearn: 0.1027800\ttotal: 579ms\tremaining: 361ms\n",
      "616:\tlearn: 0.1026230\ttotal: 580ms\tremaining: 360ms\n",
      "617:\tlearn: 0.1025708\ttotal: 580ms\tremaining: 359ms\n",
      "618:\tlearn: 0.1024981\ttotal: 581ms\tremaining: 358ms\n",
      "619:\tlearn: 0.1022999\ttotal: 582ms\tremaining: 357ms\n",
      "620:\tlearn: 0.1020926\ttotal: 583ms\tremaining: 356ms\n",
      "621:\tlearn: 0.1018473\ttotal: 584ms\tremaining: 355ms\n",
      "622:\tlearn: 0.1017980\ttotal: 585ms\tremaining: 354ms\n",
      "623:\tlearn: 0.1017456\ttotal: 585ms\tremaining: 353ms\n",
      "624:\tlearn: 0.1016241\ttotal: 586ms\tremaining: 352ms\n",
      "625:\tlearn: 0.1015744\ttotal: 587ms\tremaining: 351ms\n",
      "626:\tlearn: 0.1015062\ttotal: 588ms\tremaining: 350ms\n",
      "627:\tlearn: 0.1013127\ttotal: 589ms\tremaining: 349ms\n",
      "628:\tlearn: 0.1012560\ttotal: 590ms\tremaining: 348ms\n",
      "629:\tlearn: 0.1009661\ttotal: 590ms\tremaining: 347ms\n",
      "630:\tlearn: 0.1008469\ttotal: 591ms\tremaining: 346ms\n",
      "631:\tlearn: 0.1007795\ttotal: 592ms\tremaining: 345ms\n",
      "632:\tlearn: 0.1005958\ttotal: 593ms\tremaining: 344ms\n",
      "633:\tlearn: 0.1003778\ttotal: 594ms\tremaining: 343ms\n",
      "634:\tlearn: 0.1001507\ttotal: 595ms\tremaining: 342ms\n",
      "635:\tlearn: 0.1000956\ttotal: 595ms\tremaining: 341ms\n",
      "636:\tlearn: 0.0999356\ttotal: 596ms\tremaining: 340ms\n",
      "637:\tlearn: 0.0997741\ttotal: 597ms\tremaining: 339ms\n",
      "638:\tlearn: 0.0996254\ttotal: 598ms\tremaining: 338ms\n",
      "639:\tlearn: 0.0993992\ttotal: 599ms\tremaining: 337ms\n",
      "640:\tlearn: 0.0992247\ttotal: 599ms\tremaining: 336ms\n",
      "641:\tlearn: 0.0989788\ttotal: 601ms\tremaining: 335ms\n",
      "642:\tlearn: 0.0987872\ttotal: 602ms\tremaining: 334ms\n",
      "643:\tlearn: 0.0985747\ttotal: 603ms\tremaining: 333ms\n",
      "644:\tlearn: 0.0984461\ttotal: 604ms\tremaining: 332ms\n",
      "645:\tlearn: 0.0982547\ttotal: 605ms\tremaining: 331ms\n",
      "646:\tlearn: 0.0980519\ttotal: 605ms\tremaining: 330ms\n",
      "647:\tlearn: 0.0979341\ttotal: 606ms\tremaining: 329ms\n",
      "648:\tlearn: 0.0976884\ttotal: 607ms\tremaining: 328ms\n",
      "649:\tlearn: 0.0974864\ttotal: 608ms\tremaining: 327ms\n",
      "650:\tlearn: 0.0973476\ttotal: 609ms\tremaining: 326ms\n",
      "651:\tlearn: 0.0971945\ttotal: 609ms\tremaining: 325ms\n",
      "652:\tlearn: 0.0971484\ttotal: 610ms\tremaining: 324ms\n",
      "653:\tlearn: 0.0969328\ttotal: 611ms\tremaining: 323ms\n",
      "654:\tlearn: 0.0966854\ttotal: 612ms\tremaining: 322ms\n",
      "655:\tlearn: 0.0963935\ttotal: 613ms\tremaining: 321ms\n",
      "656:\tlearn: 0.0963600\ttotal: 614ms\tremaining: 320ms\n",
      "657:\tlearn: 0.0963155\ttotal: 614ms\tremaining: 319ms\n",
      "658:\tlearn: 0.0961332\ttotal: 615ms\tremaining: 318ms\n",
      "659:\tlearn: 0.0960061\ttotal: 616ms\tremaining: 317ms\n",
      "660:\tlearn: 0.0958703\ttotal: 617ms\tremaining: 316ms\n",
      "661:\tlearn: 0.0957012\ttotal: 618ms\tremaining: 315ms\n",
      "662:\tlearn: 0.0955706\ttotal: 618ms\tremaining: 314ms\n",
      "663:\tlearn: 0.0953491\ttotal: 619ms\tremaining: 313ms\n",
      "664:\tlearn: 0.0953017\ttotal: 620ms\tremaining: 312ms\n",
      "665:\tlearn: 0.0951713\ttotal: 621ms\tremaining: 311ms\n",
      "666:\tlearn: 0.0949798\ttotal: 622ms\tremaining: 310ms\n",
      "667:\tlearn: 0.0948342\ttotal: 622ms\tremaining: 309ms\n",
      "668:\tlearn: 0.0947853\ttotal: 623ms\tremaining: 308ms\n",
      "669:\tlearn: 0.0946236\ttotal: 624ms\tremaining: 307ms\n",
      "670:\tlearn: 0.0945431\ttotal: 625ms\tremaining: 306ms\n",
      "671:\tlearn: 0.0944963\ttotal: 626ms\tremaining: 305ms\n",
      "672:\tlearn: 0.0944257\ttotal: 627ms\tremaining: 304ms\n",
      "673:\tlearn: 0.0942704\ttotal: 627ms\tremaining: 303ms\n",
      "674:\tlearn: 0.0941544\ttotal: 628ms\tremaining: 302ms\n",
      "675:\tlearn: 0.0939651\ttotal: 629ms\tremaining: 301ms\n",
      "676:\tlearn: 0.0937853\ttotal: 630ms\tremaining: 301ms\n",
      "677:\tlearn: 0.0935756\ttotal: 631ms\tremaining: 300ms\n",
      "678:\tlearn: 0.0933877\ttotal: 631ms\tremaining: 299ms\n",
      "679:\tlearn: 0.0932726\ttotal: 632ms\tremaining: 298ms\n",
      "680:\tlearn: 0.0930287\ttotal: 633ms\tremaining: 297ms\n",
      "681:\tlearn: 0.0929899\ttotal: 634ms\tremaining: 296ms\n",
      "682:\tlearn: 0.0929433\ttotal: 635ms\tremaining: 295ms\n",
      "683:\tlearn: 0.0927831\ttotal: 636ms\tremaining: 294ms\n",
      "684:\tlearn: 0.0926347\ttotal: 636ms\tremaining: 293ms\n",
      "685:\tlearn: 0.0924409\ttotal: 637ms\tremaining: 292ms\n",
      "686:\tlearn: 0.0923193\ttotal: 638ms\tremaining: 291ms\n",
      "687:\tlearn: 0.0921990\ttotal: 639ms\tremaining: 290ms\n",
      "688:\tlearn: 0.0920653\ttotal: 640ms\tremaining: 289ms\n",
      "689:\tlearn: 0.0920203\ttotal: 641ms\tremaining: 288ms\n",
      "690:\tlearn: 0.0918549\ttotal: 641ms\tremaining: 287ms\n",
      "691:\tlearn: 0.0917089\ttotal: 642ms\tremaining: 286ms\n",
      "692:\tlearn: 0.0915211\ttotal: 643ms\tremaining: 285ms\n",
      "693:\tlearn: 0.0913286\ttotal: 644ms\tremaining: 284ms\n",
      "694:\tlearn: 0.0912888\ttotal: 645ms\tremaining: 283ms\n",
      "695:\tlearn: 0.0911717\ttotal: 645ms\tremaining: 282ms\n",
      "696:\tlearn: 0.0910360\ttotal: 646ms\tremaining: 281ms\n",
      "697:\tlearn: 0.0909649\ttotal: 647ms\tremaining: 280ms\n",
      "698:\tlearn: 0.0908560\ttotal: 648ms\tremaining: 279ms\n",
      "699:\tlearn: 0.0908149\ttotal: 649ms\tremaining: 278ms\n",
      "700:\tlearn: 0.0906629\ttotal: 650ms\tremaining: 277ms\n",
      "701:\tlearn: 0.0904632\ttotal: 650ms\tremaining: 276ms\n",
      "702:\tlearn: 0.0903665\ttotal: 651ms\tremaining: 275ms\n",
      "703:\tlearn: 0.0901893\ttotal: 652ms\tremaining: 274ms\n",
      "704:\tlearn: 0.0900408\ttotal: 653ms\tremaining: 273ms\n",
      "705:\tlearn: 0.0898176\ttotal: 653ms\tremaining: 272ms\n",
      "706:\tlearn: 0.0896999\ttotal: 654ms\tremaining: 271ms\n",
      "707:\tlearn: 0.0895801\ttotal: 655ms\tremaining: 270ms\n",
      "708:\tlearn: 0.0893758\ttotal: 656ms\tremaining: 269ms\n",
      "709:\tlearn: 0.0891926\ttotal: 657ms\tremaining: 268ms\n",
      "710:\tlearn: 0.0891758\ttotal: 657ms\tremaining: 267ms\n",
      "711:\tlearn: 0.0890263\ttotal: 658ms\tremaining: 266ms\n",
      "712:\tlearn: 0.0888945\ttotal: 659ms\tremaining: 265ms\n",
      "713:\tlearn: 0.0887467\ttotal: 660ms\tremaining: 264ms\n",
      "714:\tlearn: 0.0885913\ttotal: 661ms\tremaining: 263ms\n",
      "715:\tlearn: 0.0884805\ttotal: 661ms\tremaining: 262ms\n",
      "716:\tlearn: 0.0883437\ttotal: 662ms\tremaining: 261ms\n"
     ]
    },
    {
     "name": "stdout",
     "output_type": "stream",
     "text": [
      "717:\tlearn: 0.0882055\ttotal: 663ms\tremaining: 261ms\n",
      "718:\tlearn: 0.0880294\ttotal: 664ms\tremaining: 260ms\n",
      "719:\tlearn: 0.0878887\ttotal: 665ms\tremaining: 259ms\n",
      "720:\tlearn: 0.0877269\ttotal: 666ms\tremaining: 258ms\n",
      "721:\tlearn: 0.0876283\ttotal: 667ms\tremaining: 257ms\n",
      "722:\tlearn: 0.0874474\ttotal: 668ms\tremaining: 256ms\n",
      "723:\tlearn: 0.0873257\ttotal: 668ms\tremaining: 255ms\n",
      "724:\tlearn: 0.0871697\ttotal: 669ms\tremaining: 254ms\n",
      "725:\tlearn: 0.0869852\ttotal: 670ms\tremaining: 253ms\n",
      "726:\tlearn: 0.0869481\ttotal: 671ms\tremaining: 252ms\n",
      "727:\tlearn: 0.0868627\ttotal: 672ms\tremaining: 251ms\n",
      "728:\tlearn: 0.0866918\ttotal: 672ms\tremaining: 250ms\n",
      "729:\tlearn: 0.0866009\ttotal: 673ms\tremaining: 249ms\n",
      "730:\tlearn: 0.0864370\ttotal: 674ms\tremaining: 248ms\n",
      "731:\tlearn: 0.0863968\ttotal: 675ms\tremaining: 247ms\n",
      "732:\tlearn: 0.0863097\ttotal: 675ms\tremaining: 246ms\n",
      "733:\tlearn: 0.0862096\ttotal: 676ms\tremaining: 245ms\n",
      "734:\tlearn: 0.0861648\ttotal: 677ms\tremaining: 244ms\n",
      "735:\tlearn: 0.0860367\ttotal: 678ms\tremaining: 243ms\n",
      "736:\tlearn: 0.0860140\ttotal: 679ms\tremaining: 242ms\n",
      "737:\tlearn: 0.0858270\ttotal: 679ms\tremaining: 241ms\n",
      "738:\tlearn: 0.0857920\ttotal: 680ms\tremaining: 240ms\n",
      "739:\tlearn: 0.0857528\ttotal: 681ms\tremaining: 239ms\n",
      "740:\tlearn: 0.0855430\ttotal: 682ms\tremaining: 238ms\n",
      "741:\tlearn: 0.0854923\ttotal: 682ms\tremaining: 237ms\n",
      "742:\tlearn: 0.0853616\ttotal: 683ms\tremaining: 236ms\n",
      "743:\tlearn: 0.0852042\ttotal: 684ms\tremaining: 235ms\n",
      "744:\tlearn: 0.0850179\ttotal: 685ms\tremaining: 234ms\n",
      "745:\tlearn: 0.0848713\ttotal: 686ms\tremaining: 233ms\n",
      "746:\tlearn: 0.0846786\ttotal: 686ms\tremaining: 232ms\n",
      "747:\tlearn: 0.0845416\ttotal: 687ms\tremaining: 232ms\n",
      "748:\tlearn: 0.0843393\ttotal: 688ms\tremaining: 231ms\n",
      "749:\tlearn: 0.0841787\ttotal: 689ms\tremaining: 230ms\n",
      "750:\tlearn: 0.0841483\ttotal: 690ms\tremaining: 229ms\n",
      "751:\tlearn: 0.0839826\ttotal: 691ms\tremaining: 228ms\n",
      "752:\tlearn: 0.0838781\ttotal: 692ms\tremaining: 227ms\n",
      "753:\tlearn: 0.0838365\ttotal: 693ms\tremaining: 226ms\n",
      "754:\tlearn: 0.0837043\ttotal: 694ms\tremaining: 225ms\n",
      "755:\tlearn: 0.0836358\ttotal: 694ms\tremaining: 224ms\n",
      "756:\tlearn: 0.0835033\ttotal: 695ms\tremaining: 223ms\n",
      "757:\tlearn: 0.0833088\ttotal: 696ms\tremaining: 222ms\n",
      "758:\tlearn: 0.0832021\ttotal: 697ms\tremaining: 221ms\n",
      "759:\tlearn: 0.0830919\ttotal: 698ms\tremaining: 220ms\n",
      "760:\tlearn: 0.0830575\ttotal: 699ms\tremaining: 219ms\n",
      "761:\tlearn: 0.0829262\ttotal: 700ms\tremaining: 218ms\n",
      "762:\tlearn: 0.0828825\ttotal: 700ms\tremaining: 218ms\n",
      "763:\tlearn: 0.0827453\ttotal: 701ms\tremaining: 217ms\n",
      "764:\tlearn: 0.0825165\ttotal: 702ms\tremaining: 216ms\n",
      "765:\tlearn: 0.0823942\ttotal: 703ms\tremaining: 215ms\n",
      "766:\tlearn: 0.0823254\ttotal: 704ms\tremaining: 214ms\n",
      "767:\tlearn: 0.0822595\ttotal: 704ms\tremaining: 213ms\n",
      "768:\tlearn: 0.0822241\ttotal: 705ms\tremaining: 212ms\n",
      "769:\tlearn: 0.0820469\ttotal: 706ms\tremaining: 211ms\n",
      "770:\tlearn: 0.0818683\ttotal: 707ms\tremaining: 210ms\n",
      "771:\tlearn: 0.0818310\ttotal: 708ms\tremaining: 209ms\n",
      "772:\tlearn: 0.0817722\ttotal: 709ms\tremaining: 208ms\n",
      "773:\tlearn: 0.0815877\ttotal: 709ms\tremaining: 207ms\n",
      "774:\tlearn: 0.0814188\ttotal: 710ms\tremaining: 206ms\n",
      "775:\tlearn: 0.0814077\ttotal: 711ms\tremaining: 205ms\n",
      "776:\tlearn: 0.0813117\ttotal: 712ms\tremaining: 204ms\n",
      "777:\tlearn: 0.0811642\ttotal: 712ms\tremaining: 203ms\n",
      "778:\tlearn: 0.0810239\ttotal: 713ms\tremaining: 202ms\n",
      "779:\tlearn: 0.0809856\ttotal: 714ms\tremaining: 201ms\n",
      "780:\tlearn: 0.0809214\ttotal: 715ms\tremaining: 200ms\n",
      "781:\tlearn: 0.0807579\ttotal: 716ms\tremaining: 200ms\n",
      "782:\tlearn: 0.0806583\ttotal: 717ms\tremaining: 199ms\n",
      "783:\tlearn: 0.0804490\ttotal: 718ms\tremaining: 198ms\n",
      "784:\tlearn: 0.0803356\ttotal: 718ms\tremaining: 197ms\n",
      "785:\tlearn: 0.0802398\ttotal: 719ms\tremaining: 196ms\n",
      "786:\tlearn: 0.0801199\ttotal: 720ms\tremaining: 195ms\n",
      "787:\tlearn: 0.0800022\ttotal: 721ms\tremaining: 194ms\n",
      "788:\tlearn: 0.0798611\ttotal: 722ms\tremaining: 193ms\n",
      "789:\tlearn: 0.0796546\ttotal: 723ms\tremaining: 192ms\n",
      "790:\tlearn: 0.0795442\ttotal: 723ms\tremaining: 191ms\n",
      "791:\tlearn: 0.0794835\ttotal: 724ms\tremaining: 190ms\n",
      "792:\tlearn: 0.0794184\ttotal: 725ms\tremaining: 189ms\n",
      "793:\tlearn: 0.0793117\ttotal: 726ms\tremaining: 188ms\n",
      "794:\tlearn: 0.0792775\ttotal: 727ms\tremaining: 187ms\n",
      "795:\tlearn: 0.0791628\ttotal: 728ms\tremaining: 187ms\n",
      "796:\tlearn: 0.0790686\ttotal: 729ms\tremaining: 186ms\n",
      "797:\tlearn: 0.0789866\ttotal: 730ms\tremaining: 185ms\n",
      "798:\tlearn: 0.0788196\ttotal: 731ms\tremaining: 184ms\n",
      "799:\tlearn: 0.0787746\ttotal: 731ms\tremaining: 183ms\n",
      "800:\tlearn: 0.0787370\ttotal: 732ms\tremaining: 182ms\n",
      "801:\tlearn: 0.0785989\ttotal: 733ms\tremaining: 181ms\n",
      "802:\tlearn: 0.0784450\ttotal: 734ms\tremaining: 180ms\n",
      "803:\tlearn: 0.0782754\ttotal: 735ms\tremaining: 179ms\n",
      "804:\tlearn: 0.0780679\ttotal: 736ms\tremaining: 178ms\n",
      "805:\tlearn: 0.0779930\ttotal: 736ms\tremaining: 177ms\n",
      "806:\tlearn: 0.0779040\ttotal: 737ms\tremaining: 176ms\n",
      "807:\tlearn: 0.0778126\ttotal: 738ms\tremaining: 175ms\n",
      "808:\tlearn: 0.0777075\ttotal: 739ms\tremaining: 174ms\n",
      "809:\tlearn: 0.0776055\ttotal: 740ms\tremaining: 174ms\n",
      "810:\tlearn: 0.0774333\ttotal: 741ms\tremaining: 173ms\n",
      "811:\tlearn: 0.0773026\ttotal: 741ms\tremaining: 172ms\n",
      "812:\tlearn: 0.0772184\ttotal: 742ms\tremaining: 171ms\n",
      "813:\tlearn: 0.0770841\ttotal: 743ms\tremaining: 170ms\n",
      "814:\tlearn: 0.0770127\ttotal: 744ms\tremaining: 169ms\n",
      "815:\tlearn: 0.0769081\ttotal: 745ms\tremaining: 168ms\n"
     ]
    },
    {
     "name": "stdout",
     "output_type": "stream",
     "text": [
      "816:\tlearn: 0.0768162\ttotal: 745ms\tremaining: 167ms\n",
      "817:\tlearn: 0.0767456\ttotal: 746ms\tremaining: 166ms\n",
      "818:\tlearn: 0.0765689\ttotal: 748ms\tremaining: 165ms\n",
      "819:\tlearn: 0.0764346\ttotal: 749ms\tremaining: 164ms\n",
      "820:\tlearn: 0.0762969\ttotal: 750ms\tremaining: 163ms\n",
      "821:\tlearn: 0.0761870\ttotal: 750ms\tremaining: 162ms\n",
      "822:\tlearn: 0.0760358\ttotal: 751ms\tremaining: 162ms\n",
      "823:\tlearn: 0.0760270\ttotal: 752ms\tremaining: 161ms\n",
      "824:\tlearn: 0.0759012\ttotal: 753ms\tremaining: 160ms\n",
      "825:\tlearn: 0.0758529\ttotal: 753ms\tremaining: 159ms\n",
      "826:\tlearn: 0.0757279\ttotal: 754ms\tremaining: 158ms\n",
      "827:\tlearn: 0.0756406\ttotal: 755ms\tremaining: 157ms\n",
      "828:\tlearn: 0.0754785\ttotal: 756ms\tremaining: 156ms\n",
      "829:\tlearn: 0.0753358\ttotal: 757ms\tremaining: 155ms\n",
      "830:\tlearn: 0.0751797\ttotal: 758ms\tremaining: 154ms\n",
      "831:\tlearn: 0.0751512\ttotal: 758ms\tremaining: 153ms\n",
      "832:\tlearn: 0.0751179\ttotal: 759ms\tremaining: 152ms\n",
      "833:\tlearn: 0.0750943\ttotal: 760ms\tremaining: 151ms\n",
      "834:\tlearn: 0.0749586\ttotal: 761ms\tremaining: 150ms\n",
      "835:\tlearn: 0.0748666\ttotal: 762ms\tremaining: 149ms\n",
      "836:\tlearn: 0.0747213\ttotal: 762ms\tremaining: 148ms\n",
      "837:\tlearn: 0.0746751\ttotal: 763ms\tremaining: 148ms\n",
      "838:\tlearn: 0.0745594\ttotal: 764ms\tremaining: 147ms\n",
      "839:\tlearn: 0.0744877\ttotal: 765ms\tremaining: 146ms\n",
      "840:\tlearn: 0.0743301\ttotal: 765ms\tremaining: 145ms\n",
      "841:\tlearn: 0.0742670\ttotal: 766ms\tremaining: 144ms\n",
      "842:\tlearn: 0.0741560\ttotal: 767ms\tremaining: 143ms\n",
      "843:\tlearn: 0.0741003\ttotal: 768ms\tremaining: 142ms\n",
      "844:\tlearn: 0.0740373\ttotal: 769ms\tremaining: 141ms\n",
      "845:\tlearn: 0.0738521\ttotal: 769ms\tremaining: 140ms\n",
      "846:\tlearn: 0.0737025\ttotal: 770ms\tremaining: 139ms\n",
      "847:\tlearn: 0.0735429\ttotal: 771ms\tremaining: 138ms\n",
      "848:\tlearn: 0.0734231\ttotal: 772ms\tremaining: 137ms\n",
      "849:\tlearn: 0.0733104\ttotal: 773ms\tremaining: 136ms\n",
      "850:\tlearn: 0.0732793\ttotal: 774ms\tremaining: 135ms\n",
      "851:\tlearn: 0.0731568\ttotal: 774ms\tremaining: 135ms\n",
      "852:\tlearn: 0.0729924\ttotal: 775ms\tremaining: 134ms\n",
      "853:\tlearn: 0.0728708\ttotal: 776ms\tremaining: 133ms\n",
      "854:\tlearn: 0.0728016\ttotal: 777ms\tremaining: 132ms\n",
      "855:\tlearn: 0.0727091\ttotal: 778ms\tremaining: 131ms\n",
      "856:\tlearn: 0.0726089\ttotal: 779ms\tremaining: 130ms\n",
      "857:\tlearn: 0.0725124\ttotal: 779ms\tremaining: 129ms\n",
      "858:\tlearn: 0.0724273\ttotal: 780ms\tremaining: 128ms\n",
      "859:\tlearn: 0.0722767\ttotal: 781ms\tremaining: 127ms\n",
      "860:\tlearn: 0.0721703\ttotal: 782ms\tremaining: 126ms\n",
      "861:\tlearn: 0.0721415\ttotal: 782ms\tremaining: 125ms\n",
      "862:\tlearn: 0.0720165\ttotal: 783ms\tremaining: 124ms\n",
      "863:\tlearn: 0.0718954\ttotal: 784ms\tremaining: 123ms\n",
      "864:\tlearn: 0.0717860\ttotal: 785ms\tremaining: 122ms\n",
      "865:\tlearn: 0.0716745\ttotal: 785ms\tremaining: 122ms\n",
      "866:\tlearn: 0.0715346\ttotal: 786ms\tremaining: 121ms\n",
      "867:\tlearn: 0.0714652\ttotal: 787ms\tremaining: 120ms\n",
      "868:\tlearn: 0.0714119\ttotal: 788ms\tremaining: 119ms\n",
      "869:\tlearn: 0.0713066\ttotal: 789ms\tremaining: 118ms\n",
      "870:\tlearn: 0.0712702\ttotal: 789ms\tremaining: 117ms\n",
      "871:\tlearn: 0.0711848\ttotal: 790ms\tremaining: 116ms\n",
      "872:\tlearn: 0.0710863\ttotal: 791ms\tremaining: 115ms\n",
      "873:\tlearn: 0.0709039\ttotal: 792ms\tremaining: 114ms\n",
      "874:\tlearn: 0.0708308\ttotal: 793ms\tremaining: 113ms\n",
      "875:\tlearn: 0.0706876\ttotal: 793ms\tremaining: 112ms\n",
      "876:\tlearn: 0.0706492\ttotal: 794ms\tremaining: 111ms\n",
      "877:\tlearn: 0.0704756\ttotal: 795ms\tremaining: 110ms\n",
      "878:\tlearn: 0.0702852\ttotal: 796ms\tremaining: 110ms\n",
      "879:\tlearn: 0.0702260\ttotal: 797ms\tremaining: 109ms\n",
      "880:\tlearn: 0.0701490\ttotal: 797ms\tremaining: 108ms\n",
      "881:\tlearn: 0.0700693\ttotal: 798ms\tremaining: 107ms\n",
      "882:\tlearn: 0.0699254\ttotal: 799ms\tremaining: 106ms\n",
      "883:\tlearn: 0.0698384\ttotal: 800ms\tremaining: 105ms\n",
      "884:\tlearn: 0.0697358\ttotal: 801ms\tremaining: 104ms\n",
      "885:\tlearn: 0.0696850\ttotal: 802ms\tremaining: 103ms\n",
      "886:\tlearn: 0.0695332\ttotal: 802ms\tremaining: 102ms\n",
      "887:\tlearn: 0.0694390\ttotal: 803ms\tremaining: 101ms\n",
      "888:\tlearn: 0.0693037\ttotal: 804ms\tremaining: 100ms\n",
      "889:\tlearn: 0.0691645\ttotal: 805ms\tremaining: 99.5ms\n",
      "890:\tlearn: 0.0689873\ttotal: 806ms\tremaining: 98.6ms\n",
      "891:\tlearn: 0.0689264\ttotal: 807ms\tremaining: 97.7ms\n",
      "892:\tlearn: 0.0688782\ttotal: 807ms\tremaining: 96.7ms\n",
      "893:\tlearn: 0.0688475\ttotal: 808ms\tremaining: 95.8ms\n",
      "894:\tlearn: 0.0688211\ttotal: 809ms\tremaining: 94.9ms\n",
      "895:\tlearn: 0.0687201\ttotal: 810ms\tremaining: 94ms\n",
      "896:\tlearn: 0.0686573\ttotal: 811ms\tremaining: 93.1ms\n",
      "897:\tlearn: 0.0685686\ttotal: 812ms\tremaining: 92.2ms\n",
      "898:\tlearn: 0.0684678\ttotal: 812ms\tremaining: 91.3ms\n",
      "899:\tlearn: 0.0683752\ttotal: 813ms\tremaining: 90.4ms\n",
      "900:\tlearn: 0.0682841\ttotal: 814ms\tremaining: 89.4ms\n",
      "901:\tlearn: 0.0681985\ttotal: 815ms\tremaining: 88.5ms\n",
      "902:\tlearn: 0.0680889\ttotal: 816ms\tremaining: 87.6ms\n",
      "903:\tlearn: 0.0679901\ttotal: 816ms\tremaining: 86.7ms\n",
      "904:\tlearn: 0.0679335\ttotal: 817ms\tremaining: 85.8ms\n",
      "905:\tlearn: 0.0678475\ttotal: 818ms\tremaining: 84.9ms\n",
      "906:\tlearn: 0.0677350\ttotal: 819ms\tremaining: 84ms\n",
      "907:\tlearn: 0.0677074\ttotal: 820ms\tremaining: 83.1ms\n",
      "908:\tlearn: 0.0675889\ttotal: 821ms\tremaining: 82.2ms\n",
      "909:\tlearn: 0.0675067\ttotal: 822ms\tremaining: 81.3ms\n",
      "910:\tlearn: 0.0674142\ttotal: 823ms\tremaining: 80.4ms\n",
      "911:\tlearn: 0.0673281\ttotal: 823ms\tremaining: 79.5ms\n",
      "912:\tlearn: 0.0672415\ttotal: 824ms\tremaining: 78.5ms\n",
      "913:\tlearn: 0.0671439\ttotal: 825ms\tremaining: 77.6ms\n",
      "914:\tlearn: 0.0671263\ttotal: 826ms\tremaining: 76.7ms\n",
      "915:\tlearn: 0.0670043\ttotal: 827ms\tremaining: 75.8ms\n",
      "916:\tlearn: 0.0669408\ttotal: 827ms\tremaining: 74.9ms\n",
      "917:\tlearn: 0.0668904\ttotal: 828ms\tremaining: 74ms\n",
      "918:\tlearn: 0.0667876\ttotal: 829ms\tremaining: 73.1ms\n",
      "919:\tlearn: 0.0666410\ttotal: 830ms\tremaining: 72.2ms\n",
      "920:\tlearn: 0.0665582\ttotal: 831ms\tremaining: 71.3ms\n",
      "921:\tlearn: 0.0664743\ttotal: 831ms\tremaining: 70.3ms\n",
      "922:\tlearn: 0.0663713\ttotal: 832ms\tremaining: 69.4ms\n",
      "923:\tlearn: 0.0662341\ttotal: 833ms\tremaining: 68.5ms\n",
      "924:\tlearn: 0.0661753\ttotal: 834ms\tremaining: 67.6ms\n",
      "925:\tlearn: 0.0661040\ttotal: 835ms\tremaining: 66.7ms\n",
      "926:\tlearn: 0.0659731\ttotal: 835ms\tremaining: 65.8ms\n",
      "927:\tlearn: 0.0658768\ttotal: 836ms\tremaining: 64.9ms\n",
      "928:\tlearn: 0.0658199\ttotal: 837ms\tremaining: 64ms\n",
      "929:\tlearn: 0.0656869\ttotal: 838ms\tremaining: 63.1ms\n",
      "930:\tlearn: 0.0655419\ttotal: 839ms\tremaining: 62.2ms\n",
      "931:\tlearn: 0.0654356\ttotal: 839ms\tremaining: 61.3ms\n",
      "932:\tlearn: 0.0653112\ttotal: 840ms\tremaining: 60.4ms\n",
      "933:\tlearn: 0.0651841\ttotal: 841ms\tremaining: 59.4ms\n",
      "934:\tlearn: 0.0650207\ttotal: 842ms\tremaining: 58.5ms\n",
      "935:\tlearn: 0.0648829\ttotal: 843ms\tremaining: 57.6ms\n",
      "936:\tlearn: 0.0647687\ttotal: 844ms\tremaining: 56.7ms\n",
      "937:\tlearn: 0.0646775\ttotal: 845ms\tremaining: 55.8ms\n",
      "938:\tlearn: 0.0645642\ttotal: 845ms\tremaining: 54.9ms\n",
      "939:\tlearn: 0.0645219\ttotal: 846ms\tremaining: 54ms\n",
      "940:\tlearn: 0.0644159\ttotal: 847ms\tremaining: 53.1ms\n",
      "941:\tlearn: 0.0643428\ttotal: 848ms\tremaining: 52.2ms\n",
      "942:\tlearn: 0.0642562\ttotal: 849ms\tremaining: 51.3ms\n",
      "943:\tlearn: 0.0641223\ttotal: 849ms\tremaining: 50.4ms\n",
      "944:\tlearn: 0.0640789\ttotal: 850ms\tremaining: 49.5ms\n",
      "945:\tlearn: 0.0639453\ttotal: 851ms\tremaining: 48.6ms\n",
      "946:\tlearn: 0.0638671\ttotal: 853ms\tremaining: 47.7ms\n"
     ]
    },
    {
     "name": "stdout",
     "output_type": "stream",
     "text": [
      "947:\tlearn: 0.0637295\ttotal: 854ms\tremaining: 46.8ms\n",
      "948:\tlearn: 0.0636552\ttotal: 855ms\tremaining: 45.9ms\n",
      "949:\tlearn: 0.0635314\ttotal: 855ms\tremaining: 45ms\n",
      "950:\tlearn: 0.0634590\ttotal: 856ms\tremaining: 44.1ms\n",
      "951:\tlearn: 0.0633937\ttotal: 857ms\tremaining: 43.2ms\n",
      "952:\tlearn: 0.0632953\ttotal: 858ms\tremaining: 42.3ms\n",
      "953:\tlearn: 0.0632255\ttotal: 859ms\tremaining: 41.4ms\n",
      "954:\tlearn: 0.0630821\ttotal: 859ms\tremaining: 40.5ms\n",
      "955:\tlearn: 0.0630551\ttotal: 860ms\tremaining: 39.6ms\n",
      "956:\tlearn: 0.0629667\ttotal: 861ms\tremaining: 38.7ms\n",
      "957:\tlearn: 0.0629043\ttotal: 862ms\tremaining: 37.8ms\n",
      "958:\tlearn: 0.0628685\ttotal: 863ms\tremaining: 36.9ms\n",
      "959:\tlearn: 0.0627750\ttotal: 864ms\tremaining: 36ms\n",
      "960:\tlearn: 0.0626856\ttotal: 864ms\tremaining: 35.1ms\n",
      "961:\tlearn: 0.0625595\ttotal: 865ms\tremaining: 34.2ms\n",
      "962:\tlearn: 0.0624499\ttotal: 866ms\tremaining: 33.3ms\n",
      "963:\tlearn: 0.0623896\ttotal: 867ms\tremaining: 32.4ms\n",
      "964:\tlearn: 0.0623042\ttotal: 868ms\tremaining: 31.5ms\n",
      "965:\tlearn: 0.0622337\ttotal: 868ms\tremaining: 30.6ms\n",
      "966:\tlearn: 0.0621083\ttotal: 869ms\tremaining: 29.7ms\n",
      "967:\tlearn: 0.0619619\ttotal: 870ms\tremaining: 28.8ms\n",
      "968:\tlearn: 0.0618717\ttotal: 871ms\tremaining: 27.9ms\n",
      "969:\tlearn: 0.0618218\ttotal: 872ms\tremaining: 27ms\n",
      "970:\tlearn: 0.0617449\ttotal: 872ms\tremaining: 26.1ms\n",
      "971:\tlearn: 0.0617228\ttotal: 873ms\tremaining: 25.2ms\n",
      "972:\tlearn: 0.0616295\ttotal: 874ms\tremaining: 24.3ms\n",
      "973:\tlearn: 0.0615734\ttotal: 875ms\tremaining: 23.4ms\n",
      "974:\tlearn: 0.0614890\ttotal: 875ms\tremaining: 22.4ms\n",
      "975:\tlearn: 0.0614117\ttotal: 876ms\tremaining: 21.5ms\n",
      "976:\tlearn: 0.0613396\ttotal: 877ms\tremaining: 20.6ms\n",
      "977:\tlearn: 0.0612615\ttotal: 878ms\tremaining: 19.7ms\n",
      "978:\tlearn: 0.0611117\ttotal: 879ms\tremaining: 18.9ms\n",
      "979:\tlearn: 0.0609997\ttotal: 880ms\tremaining: 18ms\n",
      "980:\tlearn: 0.0608936\ttotal: 881ms\tremaining: 17.1ms\n",
      "981:\tlearn: 0.0608211\ttotal: 882ms\tremaining: 16.2ms\n",
      "982:\tlearn: 0.0607414\ttotal: 883ms\tremaining: 15.3ms\n",
      "983:\tlearn: 0.0606519\ttotal: 883ms\tremaining: 14.4ms\n",
      "984:\tlearn: 0.0605717\ttotal: 884ms\tremaining: 13.5ms\n",
      "985:\tlearn: 0.0605298\ttotal: 885ms\tremaining: 12.6ms\n",
      "986:\tlearn: 0.0604009\ttotal: 886ms\tremaining: 11.7ms\n",
      "987:\tlearn: 0.0603176\ttotal: 887ms\tremaining: 10.8ms\n",
      "988:\tlearn: 0.0602933\ttotal: 888ms\tremaining: 9.87ms\n",
      "989:\tlearn: 0.0601985\ttotal: 889ms\tremaining: 8.98ms\n",
      "990:\tlearn: 0.0601739\ttotal: 890ms\tremaining: 8.08ms\n",
      "991:\tlearn: 0.0600617\ttotal: 891ms\tremaining: 7.18ms\n",
      "992:\tlearn: 0.0599704\ttotal: 891ms\tremaining: 6.28ms\n",
      "993:\tlearn: 0.0598359\ttotal: 892ms\tremaining: 5.38ms\n",
      "994:\tlearn: 0.0597457\ttotal: 893ms\tremaining: 4.49ms\n",
      "995:\tlearn: 0.0596922\ttotal: 894ms\tremaining: 3.59ms\n",
      "996:\tlearn: 0.0595979\ttotal: 895ms\tremaining: 2.69ms\n",
      "997:\tlearn: 0.0595476\ttotal: 895ms\tremaining: 1.79ms\n",
      "998:\tlearn: 0.0594705\ttotal: 896ms\tremaining: 897us\n",
      "999:\tlearn: 0.0593589\ttotal: 897ms\tremaining: 0us\n"
     ]
    },
    {
     "data": {
      "text/plain": [
       "<catboost.core.CatBoostRegressor at 0x7f8d5b5cfbb0>"
      ]
     },
     "execution_count": 9,
     "metadata": {},
     "output_type": "execute_result"
    }
   ],
   "source": [
    "#Train the Model \n",
    "prior_model = ctb.CatBoostRegressor()\n",
    "prior_model.fit(X_train,Y_train)"
   ]
  },
  {
   "cell_type": "code",
   "execution_count": 10,
   "id": "af65dcda",
   "metadata": {
    "execution": {
     "iopub.execute_input": "2022-03-11T11:03:46.666822Z",
     "iopub.status.busy": "2022-03-11T11:03:46.666435Z",
     "iopub.status.idle": "2022-03-11T11:03:46.673876Z",
     "shell.execute_reply": "2022-03-11T11:03:46.674162Z"
    },
    "id": "af65dcda",
    "papermill": {
     "duration": 0.020678,
     "end_time": "2022-03-11T11:03:46.674274",
     "exception": false,
     "start_time": "2022-03-11T11:03:46.653596",
     "status": "completed"
    },
    "tags": []
   },
   "outputs": [
    {
     "data": {
      "application/scrapbook.scrap.json+json": {
       "data": 0.07781067185856655,
       "encoder": "json",
       "name": "Prior Model MSE",
       "version": 1
      }
     },
     "metadata": {
      "scrapbook": {
       "data": true,
       "display": false,
       "name": "Prior Model MSE"
      }
     },
     "output_type": "display_data"
    },
    {
     "data": {
      "application/scrapbook.scrap.json+json": {
       "data": 0.07788160654073441,
       "encoder": "json",
       "name": "ABC Pre-generator MSE",
       "version": 1
      }
     },
     "metadata": {
      "scrapbook": {
       "data": true,
       "display": false,
       "name": "ABC Pre-generator MSE"
      }
     },
     "output_type": "display_data"
    },
    {
     "data": {
      "application/scrapbook.scrap.json+json": {
       "data": 0.1996512206421666,
       "encoder": "json",
       "name": "Prior Model MAE",
       "version": 1
      }
     },
     "metadata": {
      "scrapbook": {
       "data": true,
       "display": false,
       "name": "Prior Model MAE"
      }
     },
     "output_type": "display_data"
    },
    {
     "data": {
      "application/scrapbook.scrap.json+json": {
       "data": 0.20098857210400645,
       "encoder": "json",
       "name": "ABC Pre-generator MAE",
       "version": 1
      }
     },
     "metadata": {
      "scrapbook": {
       "data": true,
       "display": false,
       "name": "ABC Pre-generator MAE"
      }
     },
     "output_type": "display_data"
    }
   ],
   "source": [
    "y_pred = prior_model.predict(X_test)\n",
    "y_abc = y_pred + np.random.normal(0,variance, y_pred.shape)\n",
    "mse = mean_squared_error(y_pred,Y_test)\n",
    "sb.glue(\"Prior Model MSE\",mse)\n",
    "mse = mean_squared_error(y_abc,Y_test)\n",
    "sb.glue(\"ABC Pre-generator MSE\",mse)\n",
    "\n",
    "mae = mean_absolute_error(y_pred,Y_test)\n",
    "sb.glue(\"Prior Model MAE\",mae)\n",
    "mae = mean_absolute_error(y_abc,Y_test)\n",
    "sb.glue(\"ABC Pre-generator MAE\",mae)"
   ]
  },
  {
   "cell_type": "markdown",
   "id": "25609da2",
   "metadata": {
    "papermill": {
     "duration": 0.009764,
     "end_time": "2022-03-11T11:03:46.694026",
     "exception": false,
     "start_time": "2022-03-11T11:03:46.684262",
     "status": "completed"
    },
    "tags": []
   },
   "source": [
    "# ABC GAN Model"
   ]
  },
  {
   "cell_type": "code",
   "execution_count": 11,
   "id": "dfc3464d",
   "metadata": {
    "execution": {
     "iopub.execute_input": "2022-03-11T11:03:46.716410Z",
     "iopub.status.busy": "2022-03-11T11:03:46.716025Z",
     "iopub.status.idle": "2022-03-11T11:03:46.718658Z",
     "shell.execute_reply": "2022-03-11T11:03:46.718895Z"
    },
    "papermill": {
     "duration": 0.015196,
     "end_time": "2022-03-11T11:03:46.719002",
     "exception": false,
     "start_time": "2022-03-11T11:03:46.703806",
     "status": "completed"
    },
    "tags": []
   },
   "outputs": [],
   "source": [
    "gen = network.Generator(n_features+1).to(device)\n",
    "disc = network.Discriminator(n_features+1).to(device)\n",
    "\n",
    "criterion = torch.nn.BCELoss()\n",
    "gen_opt = torch.optim.Adam(gen.parameters(), lr=0.001, betas=(0.5, 0.999))\n",
    "disc_opt = torch.optim.Adam(disc.parameters(), lr=0.001, betas=(0.5, 0.999))"
   ]
  },
  {
   "cell_type": "code",
   "execution_count": 12,
   "id": "b75fdd85",
   "metadata": {
    "execution": {
     "iopub.execute_input": "2022-03-11T11:03:46.741125Z",
     "iopub.status.busy": "2022-03-11T11:03:46.740756Z",
     "iopub.status.idle": "2022-03-11T11:04:22.680159Z",
     "shell.execute_reply": "2022-03-11T11:04:22.680542Z"
    },
    "papermill": {
     "duration": 35.951655,
     "end_time": "2022-03-11T11:04:22.680674",
     "exception": false,
     "start_time": "2022-03-11T11:03:46.729019",
     "status": "completed"
    },
    "tags": []
   },
   "outputs": [
    {
     "data": {
      "image/png": "[encoded data removed]",
      "text/plain": [
       "<Figure size 432x288 with 1 Axes>"
      ]
     },
     "metadata": {
      "needs_background": "light"
     },
     "output_type": "display_data"
    },
    {
     "data": {
      "image/png": "[encoded data removed]",
      "text/plain": [
       "<Figure size 432x288 with 1 Axes>"
      ]
     },
     "metadata": {
      "needs_background": "light"
     },
     "output_type": "display_data"
    }
   ],
   "source": [
    "#Training the ABC_GAN \n",
    "ABC_train_test2.training_GAN(disc,gen,disc_opt,gen_opt,train_data,batch_size,n_epochs,criterion,prior_model,variance,0,device)"
   ]
  },
  {
   "cell_type": "code",
   "execution_count": 13,
   "id": "1fa7c368",
   "metadata": {
    "execution": {
     "iopub.execute_input": "2022-03-11T11:04:22.704901Z",
     "iopub.status.busy": "2022-03-11T11:04:22.704538Z",
     "iopub.status.idle": "2022-03-11T11:04:23.014360Z",
     "shell.execute_reply": "2022-03-11T11:04:23.014733Z"
    },
    "papermill": {
     "duration": 0.323234,
     "end_time": "2022-03-11T11:04:23.014857",
     "exception": false,
     "start_time": "2022-03-11T11:04:22.691623",
     "status": "completed"
    },
    "tags": []
   },
   "outputs": [
    {
     "data": {
      "application/scrapbook.scrap.json+json": {
       "data": 0.09018436837199086,
       "encoder": "json",
       "name": "ABC-GAN Model 1 MSE",
       "version": 1
      }
     },
     "metadata": {
      "scrapbook": {
       "data": true,
       "display": false,
       "name": "ABC-GAN Model 1 MSE"
      }
     },
     "output_type": "display_data"
    },
    {
     "data": {
      "application/scrapbook.scrap.json+json": {
       "data": 0.2182544858958207,
       "encoder": "json",
       "name": "ABC-GAN Model 1 MAE",
       "version": 1
      }
     },
     "metadata": {
      "scrapbook": {
       "data": true,
       "display": false,
       "name": "ABC-GAN Model 1 MAE"
      }
     },
     "output_type": "display_data"
    },
    {
     "data": {
      "application/scrapbook.scrap.json+json": {
       "data": 22.26195756137371,
       "encoder": "json",
       "name": "ABC-GAN Model 1 Manhattan Distance",
       "version": 1
      }
     },
     "metadata": {
      "scrapbook": {
       "data": true,
       "display": false,
       "name": "ABC-GAN Model 1 Manhattan Distance"
      }
     },
     "output_type": "display_data"
    },
    {
     "data": {
      "application/scrapbook.scrap.json+json": {
       "data": 3.0329327846289553,
       "encoder": "json",
       "name": "ABC-GAN Model 1 Euclidean distance",
       "version": 1
      }
     },
     "metadata": {
      "scrapbook": {
       "data": true,
       "display": false,
       "name": "ABC-GAN Model 1 Euclidean distance"
      }
     },
     "output_type": "display_data"
    },
    {
     "data": {
      "application/scrapbook.scrap.json+json": {
       "data": [
        [
         0.08909697562813716,
         0.09105939061648616,
         0.08904129949304791,
         0.08968099908116119,
         0.09011094477068321,
         0.0895326107731458,
         0.09013899101500766,
         0.09073030294589668,
         0.0897762797739594,
         0.09150439055622574,
         0.09096364998375073,
         0.0912117075803543,
         0.09034921763450318,
         0.09051605348428268,
         0.09081409756166296,
         0.08919053959654705,
         0.09090929728795148,
         0.09132137474844024,
         0.09004473725869531,
         0.09037192334964153,
         0.09031273920271207,
         0.09078380379846422,
         0.09025274002000143,
         0.09006320398750339,
         0.09000916831010317,
         0.09078228160762901,
         0.09018616333563227,
         0.0899580283675564,
         0.08888572913982362,
         0.09216941088388683,
         0.09125342530064266,
         0.09145299441110241,
         0.0907285452130723,
         0.09023093889024558,
         0.09073006994816768,
         0.09003262260827145,
         0.08954845955628316,
         0.08982071822824082,
         0.08975115880853081,
         0.08979217271225859,
         0.08960710782981007,
         0.0890048545167671,
         0.08973009597550903,
         0.08984968237379416,
         0.09024908446102461,
         0.09067349066865646,
         0.09045895773306388,
         0.09022029646283786,
         0.0898712310790403,
         0.09003956531632527,
         0.08958852944172893,
         0.09015404036478661,
         0.08865001005684628,
         0.08992240231695472,
         0.08984962718880012,
         0.0897647376287517,
         0.09032498154876234,
         0.09084227775827007,
         0.08996647140469723,
         0.08892032508979121,
         0.08927287930522274,
         0.089960695535864,
         0.09041315749110881,
         0.09068215441081323,
         0.09005266890236922,
         0.09063348743846532,
         0.08969091721775702,
         0.0903794285456713,
         0.09119099300417069,
         0.0904631868219857,
         0.0900278069933721,
         0.08936222188338416,
         0.0898319546997044,
         0.09058079605438171,
         0.09081320567082674,
         0.08981433506265486,
         0.09016647298618627,
         0.0907873903372982,
         0.09075427686119118,
         0.08964152532010364,
         0.0905695480862844,
         0.09032798110653463,
         0.09056143748766045,
         0.09021335201901083,
         0.09072982816306276,
         0.08992735197115802,
         0.09020773730322122,
         0.08908309533382082,
         0.0904362662546476,
         0.09103217063894038,
         0.09048739668546882,
         0.09089630320272604,
         0.0893744229882115,
         0.09012773151297906,
         0.0899586277287614,
         0.08983995122373456,
         0.08835440930769517,
         0.0895219785658837,
         0.09017638975892708,
         0.09129437663189942
        ],
        [
         0.21573904819567413,
         0.21823862284494966,
         0.21661472472124824,
         0.21656095541502332,
         0.21824623606003382,
         0.217797087925468,
         0.21898672209285638,
         0.2192891941168437,
         0.21682070953515814,
         0.21984934951087423,
         0.21918109035594205,
         0.2199430063038188,
         0.21775166082250721,
         0.2187630174243275,
         0.21825165391041368,
         0.21727432071359135,
         0.2199249974104996,
         0.22004012776283072,
         0.21764666450155132,
         0.21947656960829215,
         0.218733754136837,
         0.21930741885786548,
         0.2178702319552209,
         0.21667723626117497,
         0.21785896244075367,
         0.21919744657169954,
         0.21822805956517363,
         0.21898083514807856,
         0.21623976373424134,
         0.2191275158239638,
         0.21951083946680905,
         0.21963668945154138,
         0.22016663675872133,
         0.21812793446302997,
         0.2188732377344779,
         0.21766314102227197,
         0.21874882198651047,
         0.21936437650127152,
         0.21810259485580757,
         0.21760371698103115,
         0.2170148264872385,
         0.2154973955167567,
         0.21875488789131245,
         0.2184736927898199,
         0.21946326130088054,
         0.21802852468966855,
         0.2186087509251985,
         0.21883345276628638,
         0.21945377495870286,
         0.21858164940175473,
         0.21595211785432755,
         0.21847685789872034,
         0.2181579151245601,
         0.21794927852483942,
         0.21827136022130064,
         0.21753448611307963,
         0.22027272528366132,
         0.21913480639969016,
         0.2178676897367718,
         0.21618107569349163,
         0.21708767220158787,
         0.21898037138595886,
         0.2192419762084005,
         0.21954021436691867,
         0.21938397781010352,
         0.21825739827153146,
         0.21726220391471596,
         0.21944283078625507,
         0.21860250094722883,
         0.2178777988598335,
         0.21876828250128263,
         0.2184466095276031,
         0.2182962814272911,
         0.21966874630500874,
         0.21824922480200434,
         0.2174119950619106,
         0.21867953615226582,
         0.21876330817958303,
         0.21797812896251095,
         0.2180058002727581,
         0.2200545637740516,
         0.21806562405225693,
         0.2183142092772851,
         0.2180292901272575,
         0.21829172671206443,
         0.2182311351210171,
         0.21875621405813625,
         0.21609655115753412,
         0.21920389008215246,
         0.21777888272395907,
         0.2178806363623224,
         0.21761181714999325,
         0.2172504397766555,
         0.21638427797120577,
         0.21726542340555027,
         0.21797777429296106,
         0.21497583935292913,
         0.21682582487005228,
         0.21808730860185974,
         0.21949880024162577
        ],
        [
         22.005382915958762,
         22.260339530184865,
         22.09470192156732,
         22.089217452332377,
         22.26111607812345,
         22.215302968397737,
         22.33664565347135,
         22.367497799918056,
         22.11571237258613,
         22.424633650109172,
         22.35647121630609,
         22.434186642989516,
         22.210669403895736,
         22.313827777281404,
         22.261668698862195,
         22.161980712786317,
         22.432349735870957,
         22.444093031808734,
         22.199959779158235,
         22.3866101000458,
         22.310842921957374,
         22.36935672350228,
         22.22276365943253,
         22.101078098639846,
         22.221614168956876,
         22.358139550313354,
         22.25926207564771,
         22.336045185104012,
         22.056455900892615,
         22.35100661404431,
         22.390105625614524,
         22.40294232405722,
         22.456996949389577,
         22.24904931522906,
         22.325070248916745,
         22.20164038427174,
         22.31237984262407,
         22.375166403129697,
         22.246464675292373,
         22.195579132065177,
         22.135512301698327,
         21.980734342709184,
         22.31299856491387,
         22.28431666456163,
         22.385252652689815,
         22.23890951834619,
         22.298092594370246,
         22.321012182161212,
         22.384285045787692,
         22.295328238978982,
         22.02711602114141,
         22.284639505669475,
         22.25210734270513,
         22.23082640953362,
         22.263678742572665,
         22.18851758353412,
         22.467817978933454,
         22.351750252768397,
         22.222504353150725,
         22.050469720736146,
         22.142942564561963,
         22.335997881367803,
         22.36268157325685,
         22.393101865425706,
         22.37716573663056,
         22.262254623696208,
         22.16074479930103,
         22.383168740198016,
         22.29745509661734,
         22.223535483703017,
         22.31436481513083,
         22.281554171815515,
         22.26622070558369,
         22.40621212311089,
         22.261420929804444,
         22.176023496314883,
         22.305312687531114,
         22.31385743431747,
         22.233769154176116,
         22.236591627821326,
         22.445565504953265,
         22.242693653330207,
         22.268049346283078,
         22.238987592980266,
         22.26575612463057,
         22.259575782343745,
         22.313133833929896,
         22.04184821806848,
         22.35879678837955,
         22.213446037843823,
         22.223824908956885,
         22.19640534929931,
         22.15954485721886,
         22.071196353062987,
         22.161073187366128,
         22.233732977882028,
         21.92753561399877,
         22.116234136745334,
         22.244905477389693,
         22.38887762464583
        ],
        [
         3.0146129957375933,
         3.047631513631789,
         3.013670942271383,
         3.024477129402442,
         3.031718385109291,
         3.021973907706827,
         3.0321901463349525,
         3.0421194750504887,
         3.026083365828486,
         3.055069203264473,
         3.046028939183371,
         3.050179367380898,
         3.035723999101256,
         3.038525539697969,
         3.0435239363753355,
         3.0161954576664614,
         3.0451187699942093,
         3.05201248757945,
         3.0306044282266402,
         3.0361054299321415,
         3.035111101537575,
         3.0430162647352628,
         3.0341027474428324,
         3.0309151764319218,
         3.030005803233802,
         3.0429907531864355,
         3.0329834586153765,
         3.02914491127294,
         3.0110370924752834,
         3.066150666577958,
         3.050876821614657,
         3.054211097801271,
         3.0420900071716113,
         3.0337362717950698,
         3.0421155689278305,
         3.0304005520794917,
         3.0222413660627563,
         3.026832215250882,
         3.025659960813531,
         3.0263512051066335,
         3.023230887418397,
         3.0130541250880714,
         3.0253049085178043,
         3.027320201453259,
         3.034041300810605,
         3.041166889238892,
         3.037567067370285,
         3.0335573571649284,
         3.0276832017339776,
         3.030517391843375,
         3.0229174654721143,
         3.0324432586955736,
         3.007041906225837,
         3.028545036206227,
         3.027319271774553,
         3.0258888343976995,
         3.0353168068545595,
         3.0439961122418575,
         3.02928705857981,
         3.0116230107964554,
         3.0175873954423786,
         3.0291898165447027,
         3.036797995272833,
         3.0413121756740047,
         3.03073790157474,
         3.040495965911393,
         3.0246443685516504,
         3.036231498364127,
         3.0498329932023176,
         3.0376380718977267,
         3.0303195068051743,
         3.0190969895161004,
         3.027021535993731,
         3.03961201431152,
         3.04350899102078,
         3.0267246614766252,
         3.0326523448280382,
         3.043076373409713,
         3.042521362265432,
         3.0238114330511037,
         3.039423284901431,
         3.0353672056056964,
         3.0392871900729235,
         3.0334406053092757,
         3.0421115154826923,
         3.0286283860946224,
         3.0333462059132916,
         3.0143781654015673,
         3.0371860591629964,
         3.0471759721374667,
         3.03804451282693,
         3.0449011357806106,
         3.0193030892571167,
         3.0320007609372173,
         3.0291550023618248,
         3.0271562603904223,
         3.0020242752824147,
         3.0217944691391794,
         3.03281911023565,
         3.051561307995259
        ]
       ],
       "encoder": "json",
       "name": "ABC_GAN_1 Metrics",
       "version": 1
      }
     },
     "metadata": {
      "scrapbook": {
       "data": true,
       "display": false,
       "name": "ABC_GAN_1 Metrics"
      }
     },
     "output_type": "display_data"
    },
    {
     "name": "stdout",
     "output_type": "stream",
     "text": [
      "MSE\n",
      "0.09018436837199086\n"
     ]
    }
   ],
   "source": [
    "ABC_GAN1_metrics=ABC_train_test2.test_generator(gen,test_data,prior_model,variance,0,\"1\",device)\n",
    "sb.glue(\"ABC_GAN_1 Metrics\",ABC_GAN1_metrics)\n",
    "\n",
    "print(\"MSE\")\n",
    "print(mean(ABC_GAN1_metrics[0]))"
   ]
  },
  {
   "cell_type": "code",
   "execution_count": 14,
   "id": "eb22ce5c",
   "metadata": {
    "execution": {
     "iopub.execute_input": "2022-03-11T11:04:23.042237Z",
     "iopub.status.busy": "2022-03-11T11:04:23.041873Z",
     "iopub.status.idle": "2022-03-11T11:04:23.365218Z",
     "shell.execute_reply": "2022-03-11T11:04:23.365544Z"
    },
    "papermill": {
     "duration": 0.338208,
     "end_time": "2022-03-11T11:04:23.365671",
     "exception": false,
     "start_time": "2022-03-11T11:04:23.027463",
     "status": "completed"
    },
    "tags": []
   },
   "outputs": [
    {
     "data": {
      "image/png": "[encoded data removed]",
      "text/plain": [
       "<Figure size 432x288 with 1 Axes>"
      ]
     },
     "metadata": {
      "needs_background": "light"
     },
     "output_type": "display_data"
    },
    {
     "data": {
      "image/png": "[encoded data removed]",
      "text/plain": [
       "<Figure size 432x288 with 1 Axes>"
      ]
     },
     "metadata": {
      "needs_background": "light"
     },
     "output_type": "display_data"
    },
    {
     "data": {
      "image/png": "[encoded data removed]",
      "text/plain": [
       "<Figure size 432x288 with 1 Axes>"
      ]
     },
     "metadata": {
      "needs_background": "light"
     },
     "output_type": "display_data"
    },
    {
     "data": {
      "image/png": "[encoded data removed]",
      "text/plain": [
       "<Figure size 432x288 with 1 Axes>"
      ]
     },
     "metadata": {
      "needs_background": "light"
     },
     "output_type": "display_data"
    }
   ],
   "source": [
    "sanityChecks.discProbVsError(train_data,disc,device)\n",
    "sanityChecks.discProbVsError(test_data,disc,device)"
   ]
  },
  {
   "cell_type": "markdown",
   "id": "130f3a4d",
   "metadata": {
    "id": "130f3a4d",
    "papermill": {
     "duration": 0.014405,
     "end_time": "2022-03-11T11:04:23.395308",
     "exception": false,
     "start_time": "2022-03-11T11:04:23.380903",
     "status": "completed"
    },
    "tags": []
   },
   "source": [
    "# ABC - GAN Model with skip connection"
   ]
  },
  {
   "cell_type": "code",
   "execution_count": 15,
   "id": "4e43dad1",
   "metadata": {
    "execution": {
     "iopub.execute_input": "2022-03-11T11:04:23.427550Z",
     "iopub.status.busy": "2022-03-11T11:04:23.427174Z",
     "iopub.status.idle": "2022-03-11T11:04:23.429535Z",
     "shell.execute_reply": "2022-03-11T11:04:23.429783Z"
    },
    "id": "4e43dad1",
    "papermill": {
     "duration": 0.020122,
     "end_time": "2022-03-11T11:04:23.429895",
     "exception": false,
     "start_time": "2022-03-11T11:04:23.409773",
     "status": "completed"
    },
    "tags": []
   },
   "outputs": [],
   "source": [
    "#Generator\n",
    "gen3 = network.GeneratorWithSkipConnection(n_features+1).to(device)\n",
    "constraints=network.weightConstraint()\n",
    "#Discriminator \n",
    "disc3 = network.Discriminator(n_features+1).to(device)\n",
    "\n",
    "criterion = torch.nn.BCELoss()\n",
    "gen_opt = torch.optim.Adam(gen3.parameters(), lr=0.001, betas=(0.5, 0.999))\n",
    "disc_opt = torch.optim.Adam(disc3.parameters(), lr=0.001, betas=(0.5, 0.999))\n"
   ]
  },
  {
   "cell_type": "code",
   "execution_count": 16,
   "id": "26acbc37",
   "metadata": {
    "execution": {
     "iopub.execute_input": "2022-03-11T11:04:23.461368Z",
     "iopub.status.busy": "2022-03-11T11:04:23.461002Z",
     "iopub.status.idle": "2022-03-11T11:06:50.829530Z",
     "shell.execute_reply": "2022-03-11T11:06:50.829919Z"
    },
    "id": "26acbc37",
    "papermill": {
     "duration": 147.385439,
     "end_time": "2022-03-11T11:06:50.830045",
     "exception": false,
     "start_time": "2022-03-11T11:04:23.444606",
     "status": "completed"
    },
    "tags": []
   },
   "outputs": [
    {
     "data": {
      "image/png": "[encoded data removed]",
      "text/plain": [
       "<Figure size 432x288 with 1 Axes>"
      ]
     },
     "metadata": {
      "needs_background": "light"
     },
     "output_type": "display_data"
    },
    {
     "data": {
      "image/png": "[encoded data removed]",
      "text/plain": [
       "<Figure size 432x288 with 1 Axes>"
      ]
     },
     "metadata": {
      "needs_background": "light"
     },
     "output_type": "display_data"
    }
   ],
   "source": [
    "ABC_train_test2.training_GAN_skip_connection(disc3,gen3,disc_opt,gen_opt,train_data,batch_size,n_epochs,criterion,prior_model,variance,0,device)"
   ]
  },
  {
   "cell_type": "code",
   "execution_count": 17,
   "id": "c5e0717b",
   "metadata": {
    "execution": {
     "iopub.execute_input": "2022-03-11T11:06:50.864159Z",
     "iopub.status.busy": "2022-03-11T11:06:50.863782Z",
     "iopub.status.idle": "2022-03-11T11:06:51.677632Z",
     "shell.execute_reply": "2022-03-11T11:06:51.677930Z"
    },
    "id": "c5e0717b",
    "papermill": {
     "duration": 0.832179,
     "end_time": "2022-03-11T11:06:51.678053",
     "exception": false,
     "start_time": "2022-03-11T11:06:50.845874",
     "status": "completed"
    },
    "tags": []
   },
   "outputs": [
    {
     "data": {
      "application/scrapbook.scrap.json+json": {
       "data": 0.0778705082036976,
       "encoder": "json",
       "name": "ABC-GAN Model 3 MSE",
       "version": 1
      }
     },
     "metadata": {
      "scrapbook": {
       "data": true,
       "display": false,
       "name": "ABC-GAN Model 3 MSE"
      }
     },
     "output_type": "display_data"
    },
    {
     "data": {
      "application/scrapbook.scrap.json+json": {
       "data": 0.19976651682594035,
       "encoder": "json",
       "name": "ABC-GAN Model 3 MAE",
       "version": 1
      }
     },
     "metadata": {
      "scrapbook": {
       "data": true,
       "display": false,
       "name": "ABC-GAN Model 3 MAE"
      }
     },
     "output_type": "display_data"
    },
    {
     "data": {
      "application/scrapbook.scrap.json+json": {
       "data": 20.376184716245916,
       "encoder": "json",
       "name": "ABC-GAN Model 3 Manhattan Distance",
       "version": 1
      }
     },
     "metadata": {
      "scrapbook": {
       "data": true,
       "display": false,
       "name": "ABC-GAN Model 3 Manhattan Distance"
      }
     },
     "output_type": "display_data"
    },
    {
     "data": {
      "application/scrapbook.scrap.json+json": {
       "data": 2.8182816883486264,
       "encoder": "json",
       "name": "ABC-GAN Model 3 Euclidean distance",
       "version": 1
      }
     },
     "metadata": {
      "scrapbook": {
       "data": true,
       "display": false,
       "name": "ABC-GAN Model 3 Euclidean distance"
      }
     },
     "output_type": "display_data"
    },
    {
     "data": {
      "application/scrapbook.scrap.json+json": {
       "data": [
        [
         0.07729294431963493,
         0.07841728569245991,
         0.07824889044682395,
         0.07774634741779422,
         0.07729858419051419,
         0.07775508926479348,
         0.0773095785958767,
         0.07721795681434807,
         0.07775005960537236,
         0.07812040179721196,
         0.07741112268162449,
         0.07747404100950303,
         0.07746332607820791,
         0.07808391539696806,
         0.07790002123598651,
         0.07769644175550121,
         0.07816461559180354,
         0.07812271908154886,
         0.07820904392980137,
         0.07815756557294626,
         0.07779135786444065,
         0.07827064833851467,
         0.0777095521729575,
         0.0777659343721431,
         0.07845538467501693,
         0.0788383027394447,
         0.07745852217900197,
         0.07809513762613388,
         0.07791302950586532,
         0.07748962950418499,
         0.07785945688218252,
         0.07662749555832299,
         0.07804480261209502,
         0.07878704943954096,
         0.07727803550518132,
         0.07753539533566897,
         0.07748127584937878,
         0.07900850999069257,
         0.07783612330057321,
         0.07773253154174439,
         0.07789383346559543,
         0.07930041541284277,
         0.07767103164685471,
         0.07756292619171744,
         0.07797623859251146,
         0.07872135324244114,
         0.07797292865022976,
         0.07763797712480432,
         0.07743707103959684,
         0.0775151099986118,
         0.07735958874070056,
         0.07780298827570033,
         0.07862202839341356,
         0.07866017189734716,
         0.07877850459887281,
         0.07845563698861709,
         0.07826736985351251,
         0.07779211362211291,
         0.07811065524961716,
         0.07793721444984193,
         0.07846930260435427,
         0.0781655084035409,
         0.07857232930670974,
         0.07821631346646853,
         0.07744753368433424,
         0.07765171761948972,
         0.0780389086598464,
         0.07783587195704991,
         0.07801543339806508,
         0.07783492626379325,
         0.07845913259900149,
         0.07762656464653306,
         0.07796754519885951,
         0.07872845048493435,
         0.07801748585809942,
         0.07724799984414485,
         0.07752058675740899,
         0.07805881312387732,
         0.07735163015514887,
         0.07768756160867658,
         0.07713776234209543,
         0.0777759650492336,
         0.07708716171611361,
         0.0783461293310267,
         0.07759664385943665,
         0.07797024672771061,
         0.07798951702454364,
         0.07817210790714543,
         0.07775219290126571,
         0.0781992331571145,
         0.07726162447268761,
         0.07825430855378344,
         0.07718612824116586,
         0.0765334153192329,
         0.07802548695655581,
         0.07786246877524595,
         0.07722711201073054,
         0.0770617696919925,
         0.07807048716476218,
         0.0773341606208346
        ],
        [
         0.19918373522694524,
         0.2002831605244793,
         0.1996187331045375,
         0.19950014980071606,
         0.19922078226455578,
         0.19977357632973614,
         0.1983693467393773,
         0.19961724081533214,
         0.199807837614607,
         0.20022439175541057,
         0.20003582591957905,
         0.1985722640027091,
         0.19869740293635166,
         0.20052203085894385,
         0.20036522321421288,
         0.19927227501209607,
         0.19898711550323403,
         0.199505607122738,
         0.1998090826194076,
         0.20011666747193566,
         0.1996861620915725,
         0.20005601057417544,
         0.19997469703758172,
         0.19986854847885815,
         0.19998085259587742,
         0.2007230273539237,
         0.19993030709926696,
         0.201044724635579,
         0.19888974407541693,
         0.2002922381598539,
         0.1997112644215425,
         0.19829012682277927,
         0.2003081416455554,
         0.20143041387200356,
         0.19812871117656136,
         0.20041145829885615,
         0.19864078632135893,
         0.20114495433574797,
         0.20038558123633265,
         0.19951083905100092,
         0.19933528401980213,
         0.20105786282824828,
         0.2004132039625855,
         0.19964303121007249,
         0.20030411750114724,
         0.20160974685431404,
         0.19801516885704853,
         0.19922332692087866,
         0.20077606969668219,
         0.1998968484683656,
         0.19723766040531734,
         0.19939167267076818,
         0.20055771092016833,
         0.20126711951988732,
         0.2007508640834952,
         0.19971286144801506,
         0.1995759580521753,
         0.19944846067650646,
         0.2003938069786219,
         0.2001245547926017,
         0.19962177376317627,
         0.20085647959700403,
         0.20040780181686083,
         0.20069138492473548,
         0.1988441509299674,
         0.20098166543689064,
         0.1995870700407335,
         0.1996107125453943,
         0.19951626092227467,
         0.1997036955721092,
         0.20025674107612348,
         0.19894158440258572,
         0.20045538681248823,
         0.20181028494684428,
         0.19972797611034385,
         0.19846702526853072,
         0.19961975520823663,
         0.1996355251701293,
         0.1994237953559587,
         0.20003112376320595,
         0.19882305432111025,
         0.20035126210446014,
         0.1995836138433101,
         0.20091782577847148,
         0.19908472131846436,
         0.2003607817231586,
         0.19958226786305508,
         0.20044067357758097,
         0.19908713305588155,
         0.20071981501692504,
         0.1977074706616501,
         0.19898682600800313,
         0.19907735595844833,
         0.19910300319886529,
         0.199574383578318,
         0.19997512750035407,
         0.1981596507305535,
         0.1990193864148037,
         0.2003066846370405,
         0.19897408365253724
        ],
        [
         20.316740993148414,
         20.42888237349689,
         20.361110776662827,
         20.34901527967304,
         20.32051979098469,
         20.376904785633087,
         20.233673367416486,
         20.360958563163877,
         20.380399436689913,
         20.422887959051877,
         20.403654243797064,
         20.25437092827633,
         20.26713509950787,
         20.453247147612274,
         20.437252767849714,
         20.3257720512338,
         20.29668578132987,
         20.349571926519275,
         20.380526427179575,
         20.411900082137436,
         20.367988533340394,
         20.405713078565896,
         20.397419097833335,
         20.38659194484353,
         20.398046964779496,
         20.473748790100217,
         20.39289132412523,
         20.506561912829056,
         20.286753895692527,
         20.429808292305097,
         20.370548970997334,
         20.225592935923487,
         20.43143044784665,
         20.545902214944363,
         20.20912854000926,
         20.441968746483326,
         20.26136020477861,
         20.516785342246294,
         20.43932928610593,
         20.350105583202094,
         20.332198970019817,
         20.507902008481324,
         20.44214680418372,
         20.363589183427393,
         20.431019985117018,
         20.56419417914003,
         20.19754722341895,
         20.320779345929623,
         20.479159109061584,
         20.389478543773293,
         20.11824136134237,
         20.337950612418354,
         20.45688651385717,
         20.529246191028506,
         20.47658813651651,
         20.370711867697537,
         20.35674772132188,
         20.34374298900366,
         20.440168311819434,
         20.412704588845372,
         20.36142092384398,
         20.48736091889441,
         20.441595785319805,
         20.470521262323018,
         20.282103394856676,
         20.500129874562845,
         20.357881144154817,
         20.36029267963022,
         20.350658614072017,
         20.36977694835514,
         20.426187589764595,
         20.292041609063745,
         20.4464494548738,
         20.584649064578116,
         20.37225356325507,
         20.243636577390134,
         20.361215031240135,
         20.36282356735319,
         20.341227126307786,
         20.403174623847008,
         20.279951540753245,
         20.435828734654933,
         20.35752861201763,
         20.493618229404092,
         20.306641574483365,
         20.43679973576218,
         20.357391322031617,
         20.44494870491326,
         20.306887571699917,
         20.473421131726354,
         20.16616200748831,
         20.29665625281632,
         20.30589030776173,
         20.30850632628426,
         20.356587124988437,
         20.397463005036116,
         20.212284374516457,
         20.29997741430998,
         20.43128183297813,
         20.2953565325588
        ],
        [
         2.8078248379488993,
         2.828173110089075,
         2.825134833167444,
         2.8160481950092775,
         2.8079272760227334,
         2.8162065096524675,
         2.808126958807137,
         2.806462469918937,
         2.8161154237260906,
         2.8228143728052006,
         2.809970553853847,
         2.8111122679411626,
         2.810917867881807,
         2.822155093273709,
         2.818829928546705,
         2.8151442341487805,
         2.8236130737698395,
         2.8228562390454783,
         2.8244154228512026,
         2.82348573370586,
         2.8168632381024366,
         2.825527584457192,
         2.815381736397689,
         2.8164029019226984,
         2.8288600596091227,
         2.835755081001065,
         2.8108307067943814,
         2.822357886212458,
         2.819065272319579,
         2.811395064630168,
         2.8180959178109277,
         2.795711814001748,
         2.8214481860267595,
         2.834833159611545,
         2.807554028247452,
         2.8122251553242026,
         2.8112435214041196,
         2.838814544673646,
         2.8176736107396234,
         2.8157979716694745,
         2.8187179733862577,
         2.8440538623784817,
         2.814683859331129,
         2.8127243859921958,
         2.8202085625776276,
         2.833651007221778,
         2.8201487057110004,
         2.814084871984148,
         2.810441468175218,
         2.811857254530963,
         2.809035074816877,
         2.8170738016817074,
         2.8318627961340543,
         2.8325496524384897,
         2.8346794296860143,
         2.828864608431966,
         2.8254684080800256,
         2.8168769212472733,
         2.8226382757025297,
         2.819502770682071,
         2.8291109673613253,
         2.8236291996579808,
         2.8309676065409852,
         2.8245466846168057,
         2.810631323351053,
         2.8143338816117662,
         2.8213416459734777,
         2.817669061408577,
         2.82091726333876,
         2.8176519442448726,
         2.8289276281124884,
         2.813878034660772,
         2.8200513488735752,
         2.8337787403859362,
         2.8209543699829918,
         2.807008369083137,
         2.811956587370388,
         2.821701426202901,
         2.8088905774033246,
         2.8149833541399514,
         2.805004769852225,
         2.816584533619012,
         2.804084609109288,
         2.8268896674197816,
         2.8133356844967037,
         2.820100204997418,
         2.82044867645264,
         2.8237483964632597,
         2.816154057563098,
         2.824238265802954,
         2.8072559014479133,
         2.825232640418468,
         2.805884010539088,
         2.793995054140532,
         2.821099018036888,
         2.818150424493889,
         2.8066288363612517,
         2.803622747193929,
         2.821912417281185,
         2.8085733715402785
        ]
       ],
       "encoder": "json",
       "name": "ABC_GAN_3 Metrics",
       "version": 1
      }
     },
     "metadata": {
      "scrapbook": {
       "data": true,
       "display": false,
       "name": "ABC_GAN_3 Metrics"
      }
     },
     "output_type": "display_data"
    },
    {
     "name": "stdout",
     "output_type": "stream",
     "text": [
      "MSE\n",
      "0.0778705082036976\n"
     ]
    }
   ],
   "source": [
    "ABC_GAN3_metrics=ABC_train_test2.test_generator(gen3,test_data,prior_model,variance,0,\"3\",device)\n",
    "sb.glue(\"ABC_GAN_3 Metrics\",ABC_GAN3_metrics)\n",
    "\n",
    "print(\"MSE\")\n",
    "print(mean(ABC_GAN3_metrics[0]))"
   ]
  },
  {
   "cell_type": "code",
   "execution_count": 18,
   "id": "c8e46b48",
   "metadata": {
    "execution": {
     "iopub.execute_input": "2022-03-11T11:06:51.715503Z",
     "iopub.status.busy": "2022-03-11T11:06:51.715134Z",
     "iopub.status.idle": "2022-03-11T11:06:52.031142Z",
     "shell.execute_reply": "2022-03-11T11:06:52.031563Z"
    },
    "id": "c8e46b48",
    "papermill": {
     "duration": 0.335862,
     "end_time": "2022-03-11T11:06:52.031686",
     "exception": false,
     "start_time": "2022-03-11T11:06:51.695824",
     "status": "completed"
    },
    "tags": []
   },
   "outputs": [
    {
     "data": {
      "image/png": "[encoded data removed]",
      "text/plain": [
       "<Figure size 432x288 with 1 Axes>"
      ]
     },
     "metadata": {
      "needs_background": "light"
     },
     "output_type": "display_data"
    },
    {
     "data": {
      "image/png": "[encoded data removed]",
      "text/plain": [
       "<Figure size 432x288 with 1 Axes>"
      ]
     },
     "metadata": {
      "needs_background": "light"
     },
     "output_type": "display_data"
    },
    {
     "data": {
      "image/png": "[encoded data removed]",
      "text/plain": [
       "<Figure size 432x288 with 1 Axes>"
      ]
     },
     "metadata": {
      "needs_background": "light"
     },
     "output_type": "display_data"
    },
    {
     "data": {
      "image/png": "[encoded data removed]",
      "text/plain": [
       "<Figure size 432x288 with 1 Axes>"
      ]
     },
     "metadata": {
      "needs_background": "light"
     },
     "output_type": "display_data"
    }
   ],
   "source": [
    "sanityChecks.discProbVsError(train_data,disc3,device)\n",
    "sanityChecks.discProbVsError(test_data,disc3,device)"
   ]
  },
  {
   "cell_type": "markdown",
   "id": "a5bd74c3",
   "metadata": {
    "id": "a5bd74c3",
    "papermill": {
     "duration": 0.019422,
     "end_time": "2022-03-11T11:06:52.070851",
     "exception": false,
     "start_time": "2022-03-11T11:06:52.051429",
     "status": "completed"
    },
    "tags": []
   },
   "source": [
    "## Skip Connection Model Analysis - ABC-GAN "
   ]
  },
  {
   "cell_type": "markdown",
   "id": "5744a8bf",
   "metadata": {
    "id": "5744a8bf",
    "papermill": {
     "duration": 0.0192,
     "end_time": "2022-03-11T11:06:52.109246",
     "exception": false,
     "start_time": "2022-03-11T11:06:52.090046",
     "status": "completed"
    },
    "tags": []
   },
   "source": [
    "### Weight Analysis \n",
    "\n",
    "Study the weights of the skip connection layer\n",
    "\n",
    "Equation of the skip connection is \n",
    "\n",
    "$output = y_{gan} * w + y_{abc} * (1-w)$"
   ]
  },
  {
   "cell_type": "code",
   "execution_count": 19,
   "id": "52c31dea",
   "metadata": {
    "execution": {
     "iopub.execute_input": "2022-03-11T11:06:52.150525Z",
     "iopub.status.busy": "2022-03-11T11:06:52.150129Z",
     "iopub.status.idle": "2022-03-11T11:06:52.153388Z",
     "shell.execute_reply": "2022-03-11T11:06:52.153639Z"
    },
    "id": "52c31dea",
    "papermill": {
     "duration": 0.02538,
     "end_time": "2022-03-11T11:06:52.153752",
     "exception": false,
     "start_time": "2022-03-11T11:06:52.128372",
     "status": "completed"
    },
    "tags": []
   },
   "outputs": [
    {
     "name": "stdout",
     "output_type": "stream",
     "text": [
      "Weight of the node at skip connection\n",
      "Parameter containing:\n",
      "tensor([[0.]], requires_grad=True)\n"
     ]
    },
    {
     "data": {
      "application/scrapbook.scrap.json+json": {
       "data": 0.0,
       "encoder": "json",
       "name": "Skip Connection Weight",
       "version": 1
      }
     },
     "metadata": {
      "scrapbook": {
       "data": true,
       "display": false,
       "name": "Skip Connection Weight"
      }
     },
     "output_type": "display_data"
    }
   ],
   "source": [
    "print(\"Weight of the node at skip connection\")\n",
    "for name,param in gen3.named_parameters():\n",
    "    if(name == \"skipNode.weight\"):\n",
    "        print(param)\n",
    "        sb.glue(\"Skip Connection Weight\",param.item())"
   ]
  }
 ],
 "metadata": {
  "colab": {
   "collapsed_sections": [],
   "name": "ABC_GAN_Model-Catboost_Pre-gen.ipynb",
   "provenance": []
  },
  "interpreter": {
   "hash": "31f2aee4e71d21fbe5cf8b01ff0e069b9275f58929596ceb00d14d90e3e16cd6"
  },
  "kernelspec": {
   "display_name": "Python 3 (ipykernel)",
   "language": "python",
   "name": "python3"
  },
  "language_info": {
   "codemirror_mode": {
    "name": "ipython",
    "version": 3
   },
   "file_extension": ".py",
   "mimetype": "text/x-python",
   "name": "python",
   "nbconvert_exporter": "python",
   "pygments_lexer": "ipython3",
   "version": "3.8.11"
  },
  "papermill": {
   "default_parameters": {},
   "duration": 189.892203,
   "end_time": "2022-03-11T11:06:52.483753",
   "environment_variables": {},
   "exception": null,
   "input_path": "ABC_GAN-Catboost.ipynb",
   "output_path": "./ABC_GAN_Catboost/ABC-GAN_output_10_2.ipynb",
   "parameters": {
    "variance": 0.01
   },
   "start_time": "2022-03-11T11:03:42.591550",
   "version": "2.3.3"
  }
 },
 "nbformat": 4,
 "nbformat_minor": 5
}