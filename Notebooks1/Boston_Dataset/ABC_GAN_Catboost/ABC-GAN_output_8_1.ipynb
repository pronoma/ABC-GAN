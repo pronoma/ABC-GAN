{
 "cells": [
  {
   "cell_type": "markdown",
   "id": "622780e6",
   "metadata": {
    "id": "622780e6",
    "papermill": {
     "duration": 0.036554,
     "end_time": "2022-03-11T10:41:25.481575",
     "exception": false,
     "start_time": "2022-03-11T10:41:25.445021",
     "status": "completed"
    },
    "tags": []
   },
   "source": [
    "## Import Libraries "
   ]
  },
  {
   "cell_type": "code",
   "execution_count": 1,
   "id": "a62397e3",
   "metadata": {
    "execution": {
     "iopub.execute_input": "2022-03-11T10:41:25.518802Z",
     "iopub.status.busy": "2022-03-11T10:41:25.518304Z",
     "iopub.status.idle": "2022-03-11T10:41:25.520929Z",
     "shell.execute_reply": "2022-03-11T10:41:25.521261Z"
    },
    "id": "a62397e3",
    "papermill": {
     "duration": 0.022749,
     "end_time": "2022-03-11T10:41:25.521466",
     "exception": false,
     "start_time": "2022-03-11T10:41:25.498717",
     "status": "completed"
    },
    "tags": []
   },
   "outputs": [],
   "source": [
    "import warnings\n",
    "import sys\n",
    "sys.path.insert(0, '../../src')\n",
    "warnings.filterwarnings('ignore')"
   ]
  },
  {
   "cell_type": "code",
   "execution_count": 2,
   "id": "d6a4e155",
   "metadata": {
    "execution": {
     "iopub.execute_input": "2022-03-11T10:41:25.542404Z",
     "iopub.status.busy": "2022-03-11T10:41:25.541981Z",
     "iopub.status.idle": "2022-03-11T10:41:27.335371Z",
     "shell.execute_reply": "2022-03-11T10:41:27.335650Z"
    },
    "id": "d6a4e155",
    "papermill": {
     "duration": 1.804465,
     "end_time": "2022-03-11T10:41:27.335833",
     "exception": false,
     "start_time": "2022-03-11T10:41:25.531368",
     "status": "completed"
    },
    "tags": []
   },
   "outputs": [],
   "source": [
    "import ABC_train_test2\n",
    "import bostonDataset\n",
    "import network\n",
    "import dataset\n",
    "import sanityChecks\n",
    "import torch \n",
    "import scrapbook as sb\n",
    "from statistics import mean \n",
    "import catboost as ctb \n",
    "from sklearn.model_selection import train_test_split\n",
    "from sklearn.metrics import mean_squared_error,mean_absolute_error\n",
    "import numpy as np"
   ]
  },
  {
   "cell_type": "markdown",
   "id": "2fa5b0f7",
   "metadata": {
    "id": "2fa5b0f7",
    "papermill": {
     "duration": 0.00677,
     "end_time": "2022-03-11T10:41:27.349906",
     "exception": false,
     "start_time": "2022-03-11T10:41:27.343136",
     "status": "completed"
    },
    "tags": []
   },
   "source": [
    "## Parameters "
   ]
  },
  {
   "cell_type": "code",
   "execution_count": 3,
   "id": "783186fb",
   "metadata": {
    "execution": {
     "iopub.execute_input": "2022-03-11T10:41:27.365744Z",
     "iopub.status.busy": "2022-03-11T10:41:27.365370Z",
     "iopub.status.idle": "2022-03-11T10:41:27.366696Z",
     "shell.execute_reply": "2022-03-11T10:41:27.366930Z"
    },
    "id": "783186fb",
    "papermill": {
     "duration": 0.010428,
     "end_time": "2022-03-11T10:41:27.367040",
     "exception": false,
     "start_time": "2022-03-11T10:41:27.356612",
     "status": "completed"
    },
    "tags": [
     "parameters"
    ]
   },
   "outputs": [],
   "source": [
    "variance = 1"
   ]
  },
  {
   "cell_type": "code",
   "execution_count": 4,
   "id": "801624dd",
   "metadata": {
    "execution": {
     "iopub.execute_input": "2022-03-11T10:41:27.382670Z",
     "iopub.status.busy": "2022-03-11T10:41:27.382303Z",
     "iopub.status.idle": "2022-03-11T10:41:27.383556Z",
     "shell.execute_reply": "2022-03-11T10:41:27.383851Z"
    },
    "papermill": {
     "duration": 0.009937,
     "end_time": "2022-03-11T10:41:27.383956",
     "exception": false,
     "start_time": "2022-03-11T10:41:27.374019",
     "status": "completed"
    },
    "tags": [
     "injected-parameters"
    ]
   },
   "outputs": [],
   "source": [
    "# Parameters\n",
    "variance = 0.1\n"
   ]
  },
  {
   "cell_type": "markdown",
   "id": "391cdbfd",
   "metadata": {
    "id": "391cdbfd",
    "papermill": {
     "duration": 0.006776,
     "end_time": "2022-03-11T10:41:27.397577",
     "exception": false,
     "start_time": "2022-03-11T10:41:27.390801",
     "status": "completed"
    },
    "tags": []
   },
   "source": [
    "## Dataset \n"
   ]
  },
  {
   "cell_type": "code",
   "execution_count": 5,
   "id": "5b51f161",
   "metadata": {
    "execution": {
     "iopub.execute_input": "2022-03-11T10:41:27.413007Z",
     "iopub.status.busy": "2022-03-11T10:41:27.412654Z",
     "iopub.status.idle": "2022-03-11T10:41:27.414044Z",
     "shell.execute_reply": "2022-03-11T10:41:27.414294Z"
    },
    "id": "5b51f161",
    "papermill": {
     "duration": 0.010032,
     "end_time": "2022-03-11T10:41:27.414404",
     "exception": false,
     "start_time": "2022-03-11T10:41:27.404372",
     "status": "completed"
    },
    "tags": []
   },
   "outputs": [],
   "source": [
    "#Parameters \n",
    "n_features = 13\n",
    "n_samples= 506\n",
    "n_target = 1 "
   ]
  },
  {
   "cell_type": "code",
   "execution_count": 6,
   "id": "5d6eced4",
   "metadata": {
    "execution": {
     "iopub.execute_input": "2022-03-11T10:41:27.430032Z",
     "iopub.status.busy": "2022-03-11T10:41:27.429672Z",
     "iopub.status.idle": "2022-03-11T10:41:27.440556Z",
     "shell.execute_reply": "2022-03-11T10:41:27.440797Z"
    },
    "id": "5d6eced4",
    "papermill": {
     "duration": 0.019559,
     "end_time": "2022-03-11T10:41:27.440906",
     "exception": false,
     "start_time": "2022-03-11T10:41:27.421347",
     "status": "completed"
    },
    "tags": []
   },
   "outputs": [
    {
     "name": "stdout",
     "output_type": "stream",
     "text": [
      "         X1        X2        X3        X4        X5        X6        X7  \\\n",
      "0 -0.419782  0.284830 -1.287909 -0.272599 -0.144217  0.413672 -0.120013   \n",
      "1 -0.417339 -0.487722 -0.593381 -0.272599 -0.740262  0.194274  0.367166   \n",
      "2 -0.417342 -0.487722 -0.593381 -0.272599 -0.740262  1.282714 -0.265812   \n",
      "3 -0.416750 -0.487722 -1.306878 -0.272599 -0.835284  1.016303 -0.809889   \n",
      "4 -0.412482 -0.487722 -1.306878 -0.272599 -0.835284  1.228577 -0.511180   \n",
      "\n",
      "         X8        X9       X10       X11       X12       X13         Y  \n",
      "0  0.140214 -0.982843 -0.666608 -1.459000  0.441052 -1.075562  0.159686  \n",
      "1  0.557160 -0.867883 -0.987329 -0.303094  0.441052 -0.492439 -0.101524  \n",
      "2  0.557160 -0.867883 -0.987329 -0.303094  0.396427 -1.208727  1.324247  \n",
      "3  1.077737 -0.752922 -1.106115  0.113032  0.416163 -1.361517  1.182758  \n",
      "4  1.077737 -0.752922 -1.106115  0.113032  0.441052 -1.026501  1.487503  \n"
     ]
    }
   ],
   "source": [
    "X,Y = bostonDataset.boston_data()"
   ]
  },
  {
   "cell_type": "code",
   "execution_count": 7,
   "id": "fe007438",
   "metadata": {
    "execution": {
     "iopub.execute_input": "2022-03-11T10:41:27.457861Z",
     "iopub.status.busy": "2022-03-11T10:41:27.457477Z",
     "iopub.status.idle": "2022-03-11T10:41:27.459181Z",
     "shell.execute_reply": "2022-03-11T10:41:27.459421Z"
    },
    "id": "fe007438",
    "papermill": {
     "duration": 0.011302,
     "end_time": "2022-03-11T10:41:27.459530",
     "exception": false,
     "start_time": "2022-03-11T10:41:27.448228",
     "status": "completed"
    },
    "tags": []
   },
   "outputs": [],
   "source": [
    "#Train test split for dataset \n",
    "X_train,X_test,Y_train,Y_test = train_test_split(X,Y,test_size = 0.2)\n",
    "train_data = dataset.CustomDataset(X_train,Y_train)\n",
    "test_data = dataset.CustomDataset(X_test,Y_test)\n"
   ]
  },
  {
   "cell_type": "markdown",
   "id": "a9a1af34",
   "metadata": {
    "id": "a9a1af34",
    "papermill": {
     "duration": 0.007107,
     "end_time": "2022-03-11T10:41:27.473819",
     "exception": false,
     "start_time": "2022-03-11T10:41:27.466712",
     "status": "completed"
    },
    "tags": []
   },
   "source": [
    "## Training Parameters "
   ]
  },
  {
   "cell_type": "code",
   "execution_count": 8,
   "id": "952b7fc8",
   "metadata": {
    "execution": {
     "iopub.execute_input": "2022-03-11T10:41:27.490139Z",
     "iopub.status.busy": "2022-03-11T10:41:27.489787Z",
     "iopub.status.idle": "2022-03-11T10:41:27.491159Z",
     "shell.execute_reply": "2022-03-11T10:41:27.491392Z"
    },
    "id": "952b7fc8",
    "papermill": {
     "duration": 0.010632,
     "end_time": "2022-03-11T10:41:27.491497",
     "exception": false,
     "start_time": "2022-03-11T10:41:27.480865",
     "status": "completed"
    },
    "tags": []
   },
   "outputs": [],
   "source": [
    "batch_size = 64\n",
    "n_epochs = 1000\n",
    "#Select the device \n",
    "device = torch.device('cuda' if torch.cuda.is_available() else 'cpu')"
   ]
  },
  {
   "cell_type": "markdown",
   "id": "a95e1600",
   "metadata": {
    "id": "a95e1600",
    "papermill": {
     "duration": 0.007109,
     "end_time": "2022-03-11T10:41:27.505758",
     "exception": false,
     "start_time": "2022-03-11T10:41:27.498649",
     "status": "completed"
    },
    "tags": []
   },
   "source": [
    "# ABC Pre-generator Model \n",
    "\n",
    "1. The catboost model is used as a pre-generator model for the ABC-GAN. \n",
    "2. The model is first trained on the entire dataset \n",
    "3. It generats X,Y pairs and we add some Gaussian noise with mean 0 and variance 1 to it which is then feed as input to the generator.\n"
   ]
  },
  {
   "cell_type": "code",
   "execution_count": 9,
   "id": "ff8ce7bd",
   "metadata": {
    "execution": {
     "iopub.execute_input": "2022-03-11T10:41:27.524680Z",
     "iopub.status.busy": "2022-03-11T10:41:27.524298Z",
     "iopub.status.idle": "2022-03-11T10:41:28.496339Z",
     "shell.execute_reply": "2022-03-11T10:41:28.496633Z"
    },
    "id": "ff8ce7bd",
    "papermill": {
     "duration": 0.983878,
     "end_time": "2022-03-11T10:41:28.496757",
     "exception": false,
     "start_time": "2022-03-11T10:41:27.512879",
     "status": "completed"
    },
    "tags": []
   },
   "outputs": [
    {
     "name": "stdout",
     "output_type": "stream",
     "text": [
      "Learning rate set to 0.033215\n",
      "0:\tlearn: 0.9969957\ttotal: 70.2ms\tremaining: 1m 10s\n",
      "1:\tlearn: 0.9783423\ttotal: 71.4ms\tremaining: 35.6s\n",
      "2:\tlearn: 0.9596054\ttotal: 72.6ms\tremaining: 24.1s\n",
      "3:\tlearn: 0.9427155\ttotal: 73.7ms\tremaining: 18.4s\n",
      "4:\tlearn: 0.9265693\ttotal: 74.8ms\tremaining: 14.9s\n",
      "5:\tlearn: 0.9124447\ttotal: 75.5ms\tremaining: 12.5s\n",
      "6:\tlearn: 0.8937288\ttotal: 76.5ms\tremaining: 10.8s\n",
      "7:\tlearn: 0.8765312\ttotal: 77.4ms\tremaining: 9.6s\n",
      "8:\tlearn: 0.8614144\ttotal: 78.4ms\tremaining: 8.63s\n",
      "9:\tlearn: 0.8467969\ttotal: 79.3ms\tremaining: 7.85s\n",
      "10:\tlearn: 0.8320331\ttotal: 80.2ms\tremaining: 7.21s\n",
      "11:\tlearn: 0.8208474\ttotal: 81ms\tremaining: 6.67s\n",
      "12:\tlearn: 0.8080320\ttotal: 81.8ms\tremaining: 6.21s\n",
      "13:\tlearn: 0.7924207\ttotal: 82.7ms\tremaining: 5.83s\n",
      "14:\tlearn: 0.7792651\ttotal: 83.6ms\tremaining: 5.49s\n",
      "15:\tlearn: 0.7650887\ttotal: 84.4ms\tremaining: 5.19s\n",
      "16:\tlearn: 0.7526474\ttotal: 85.1ms\tremaining: 4.92s\n",
      "17:\tlearn: 0.7405171\ttotal: 85.9ms\tremaining: 4.69s\n",
      "18:\tlearn: 0.7290390\ttotal: 86.8ms\tremaining: 4.48s\n",
      "19:\tlearn: 0.7179880\ttotal: 87.5ms\tremaining: 4.29s\n",
      "20:\tlearn: 0.7063984\ttotal: 88.4ms\tremaining: 4.12s\n",
      "21:\tlearn: 0.6944717\ttotal: 89.2ms\tremaining: 3.96s\n",
      "22:\tlearn: 0.6832573\ttotal: 89.9ms\tremaining: 3.82s\n",
      "23:\tlearn: 0.6725598\ttotal: 90.7ms\tremaining: 3.69s\n",
      "24:\tlearn: 0.6629226\ttotal: 91.4ms\tremaining: 3.57s\n",
      "25:\tlearn: 0.6543262\ttotal: 92.2ms\tremaining: 3.45s\n",
      "26:\tlearn: 0.6455604\ttotal: 93ms\tremaining: 3.35s\n",
      "27:\tlearn: 0.6358871\ttotal: 94.5ms\tremaining: 3.28s\n",
      "28:\tlearn: 0.6277661\ttotal: 95.2ms\tremaining: 3.19s\n",
      "29:\tlearn: 0.6176585\ttotal: 96ms\tremaining: 3.1s\n",
      "30:\tlearn: 0.6076783\ttotal: 96.7ms\tremaining: 3.02s\n",
      "31:\tlearn: 0.5979557\ttotal: 97.6ms\tremaining: 2.95s\n",
      "32:\tlearn: 0.5908340\ttotal: 98.4ms\tremaining: 2.88s\n",
      "33:\tlearn: 0.5837240\ttotal: 99.2ms\tremaining: 2.82s\n",
      "34:\tlearn: 0.5755738\ttotal: 100ms\tremaining: 2.76s\n",
      "35:\tlearn: 0.5677711\ttotal: 101ms\tremaining: 2.7s\n",
      "36:\tlearn: 0.5610017\ttotal: 101ms\tremaining: 2.64s\n",
      "37:\tlearn: 0.5532538\ttotal: 102ms\tremaining: 2.59s\n",
      "38:\tlearn: 0.5463356\ttotal: 103ms\tremaining: 2.54s\n",
      "39:\tlearn: 0.5388361\ttotal: 104ms\tremaining: 2.49s\n",
      "40:\tlearn: 0.5315930\ttotal: 104ms\tremaining: 2.44s\n",
      "41:\tlearn: 0.5259382\ttotal: 106ms\tremaining: 2.42s\n",
      "42:\tlearn: 0.5188177\ttotal: 107ms\tremaining: 2.38s\n",
      "43:\tlearn: 0.5111588\ttotal: 108ms\tremaining: 2.33s\n",
      "44:\tlearn: 0.5039663\ttotal: 108ms\tremaining: 2.3s\n",
      "45:\tlearn: 0.4977062\ttotal: 109ms\tremaining: 2.26s\n"
     ]
    },
    {
     "name": "stdout",
     "output_type": "stream",
     "text": [
      "46:\tlearn: 0.4927504\ttotal: 110ms\tremaining: 2.23s\n",
      "47:\tlearn: 0.4882868\ttotal: 111ms\tremaining: 2.2s\n",
      "48:\tlearn: 0.4829885\ttotal: 112ms\tremaining: 2.17s\n",
      "49:\tlearn: 0.4758934\ttotal: 113ms\tremaining: 2.14s\n",
      "50:\tlearn: 0.4714403\ttotal: 113ms\tremaining: 2.11s\n",
      "51:\tlearn: 0.4660686\ttotal: 114ms\tremaining: 2.08s\n",
      "52:\tlearn: 0.4613526\ttotal: 115ms\tremaining: 2.05s\n",
      "53:\tlearn: 0.4576362\ttotal: 116ms\tremaining: 2.03s\n",
      "54:\tlearn: 0.4521628\ttotal: 117ms\tremaining: 2s\n",
      "55:\tlearn: 0.4483717\ttotal: 117ms\tremaining: 1.98s\n",
      "56:\tlearn: 0.4443234\ttotal: 118ms\tremaining: 1.96s\n",
      "57:\tlearn: 0.4400207\ttotal: 119ms\tremaining: 1.94s\n",
      "58:\tlearn: 0.4362374\ttotal: 120ms\tremaining: 1.92s\n",
      "59:\tlearn: 0.4319620\ttotal: 121ms\tremaining: 1.9s\n",
      "60:\tlearn: 0.4284221\ttotal: 122ms\tremaining: 1.88s\n",
      "61:\tlearn: 0.4234518\ttotal: 123ms\tremaining: 1.86s\n",
      "62:\tlearn: 0.4201988\ttotal: 124ms\tremaining: 1.84s\n",
      "63:\tlearn: 0.4154950\ttotal: 124ms\tremaining: 1.82s\n",
      "64:\tlearn: 0.4115536\ttotal: 125ms\tremaining: 1.8s\n",
      "65:\tlearn: 0.4071612\ttotal: 126ms\tremaining: 1.78s\n",
      "66:\tlearn: 0.4029819\ttotal: 127ms\tremaining: 1.77s\n",
      "67:\tlearn: 0.3991000\ttotal: 128ms\tremaining: 1.75s\n",
      "68:\tlearn: 0.3959096\ttotal: 129ms\tremaining: 1.74s\n",
      "69:\tlearn: 0.3930772\ttotal: 129ms\tremaining: 1.72s\n",
      "70:\tlearn: 0.3897453\ttotal: 130ms\tremaining: 1.7s\n",
      "71:\tlearn: 0.3867663\ttotal: 131ms\tremaining: 1.69s\n",
      "72:\tlearn: 0.3834591\ttotal: 132ms\tremaining: 1.67s\n",
      "73:\tlearn: 0.3803245\ttotal: 133ms\tremaining: 1.66s\n",
      "74:\tlearn: 0.3770256\ttotal: 134ms\tremaining: 1.65s\n",
      "75:\tlearn: 0.3748544\ttotal: 134ms\tremaining: 1.63s\n",
      "76:\tlearn: 0.3719060\ttotal: 135ms\tremaining: 1.62s\n",
      "77:\tlearn: 0.3682153\ttotal: 136ms\tremaining: 1.61s\n",
      "78:\tlearn: 0.3652782\ttotal: 137ms\tremaining: 1.59s\n",
      "79:\tlearn: 0.3631303\ttotal: 137ms\tremaining: 1.58s\n",
      "80:\tlearn: 0.3607802\ttotal: 138ms\tremaining: 1.57s\n",
      "81:\tlearn: 0.3580421\ttotal: 139ms\tremaining: 1.56s\n",
      "82:\tlearn: 0.3558183\ttotal: 140ms\tremaining: 1.54s\n",
      "83:\tlearn: 0.3531617\ttotal: 141ms\tremaining: 1.53s\n",
      "84:\tlearn: 0.3507705\ttotal: 141ms\tremaining: 1.52s\n",
      "85:\tlearn: 0.3482563\ttotal: 142ms\tremaining: 1.51s\n",
      "86:\tlearn: 0.3457076\ttotal: 143ms\tremaining: 1.5s\n",
      "87:\tlearn: 0.3433388\ttotal: 144ms\tremaining: 1.49s\n",
      "88:\tlearn: 0.3406373\ttotal: 145ms\tremaining: 1.48s\n",
      "89:\tlearn: 0.3384424\ttotal: 146ms\tremaining: 1.47s\n",
      "90:\tlearn: 0.3362134\ttotal: 147ms\tremaining: 1.46s\n",
      "91:\tlearn: 0.3345636\ttotal: 147ms\tremaining: 1.46s\n",
      "92:\tlearn: 0.3324142\ttotal: 148ms\tremaining: 1.45s\n",
      "93:\tlearn: 0.3299687\ttotal: 149ms\tremaining: 1.44s\n",
      "94:\tlearn: 0.3278187\ttotal: 150ms\tremaining: 1.43s\n",
      "95:\tlearn: 0.3264645\ttotal: 151ms\tremaining: 1.42s\n",
      "96:\tlearn: 0.3241122\ttotal: 152ms\tremaining: 1.41s\n",
      "97:\tlearn: 0.3222404\ttotal: 152ms\tremaining: 1.4s\n",
      "98:\tlearn: 0.3208157\ttotal: 153ms\tremaining: 1.39s\n",
      "99:\tlearn: 0.3196720\ttotal: 154ms\tremaining: 1.39s\n",
      "100:\tlearn: 0.3168939\ttotal: 155ms\tremaining: 1.38s\n",
      "101:\tlearn: 0.3150376\ttotal: 156ms\tremaining: 1.37s\n",
      "102:\tlearn: 0.3134199\ttotal: 156ms\tremaining: 1.36s\n",
      "103:\tlearn: 0.3120607\ttotal: 157ms\tremaining: 1.35s\n",
      "104:\tlearn: 0.3109029\ttotal: 158ms\tremaining: 1.35s\n",
      "105:\tlearn: 0.3095881\ttotal: 159ms\tremaining: 1.34s\n",
      "106:\tlearn: 0.3077572\ttotal: 160ms\tremaining: 1.33s\n",
      "107:\tlearn: 0.3054502\ttotal: 161ms\tremaining: 1.33s\n",
      "108:\tlearn: 0.3039032\ttotal: 162ms\tremaining: 1.32s\n",
      "109:\tlearn: 0.3029215\ttotal: 162ms\tremaining: 1.31s\n",
      "110:\tlearn: 0.3011443\ttotal: 163ms\tremaining: 1.31s\n",
      "111:\tlearn: 0.2998754\ttotal: 164ms\tremaining: 1.3s\n",
      "112:\tlearn: 0.2977229\ttotal: 165ms\tremaining: 1.3s\n",
      "113:\tlearn: 0.2959478\ttotal: 166ms\tremaining: 1.29s\n",
      "114:\tlearn: 0.2944857\ttotal: 167ms\tremaining: 1.29s\n",
      "115:\tlearn: 0.2930723\ttotal: 168ms\tremaining: 1.28s\n",
      "116:\tlearn: 0.2915599\ttotal: 169ms\tremaining: 1.28s\n",
      "117:\tlearn: 0.2900018\ttotal: 170ms\tremaining: 1.27s\n",
      "118:\tlearn: 0.2886953\ttotal: 171ms\tremaining: 1.27s\n",
      "119:\tlearn: 0.2877547\ttotal: 172ms\tremaining: 1.26s\n",
      "120:\tlearn: 0.2862361\ttotal: 173ms\tremaining: 1.26s\n",
      "121:\tlearn: 0.2853100\ttotal: 174ms\tremaining: 1.25s\n",
      "122:\tlearn: 0.2834877\ttotal: 175ms\tremaining: 1.25s\n",
      "123:\tlearn: 0.2824481\ttotal: 176ms\tremaining: 1.24s\n",
      "124:\tlearn: 0.2813699\ttotal: 177ms\tremaining: 1.24s\n",
      "125:\tlearn: 0.2801224\ttotal: 178ms\tremaining: 1.23s\n",
      "126:\tlearn: 0.2785198\ttotal: 179ms\tremaining: 1.23s\n",
      "127:\tlearn: 0.2774481\ttotal: 180ms\tremaining: 1.23s\n",
      "128:\tlearn: 0.2763298\ttotal: 181ms\tremaining: 1.22s\n",
      "129:\tlearn: 0.2751318\ttotal: 182ms\tremaining: 1.22s\n",
      "130:\tlearn: 0.2741292\ttotal: 183ms\tremaining: 1.21s\n",
      "131:\tlearn: 0.2734486\ttotal: 184ms\tremaining: 1.21s\n",
      "132:\tlearn: 0.2725852\ttotal: 185ms\tremaining: 1.21s\n",
      "133:\tlearn: 0.2717973\ttotal: 186ms\tremaining: 1.2s\n",
      "134:\tlearn: 0.2709329\ttotal: 187ms\tremaining: 1.2s\n",
      "135:\tlearn: 0.2700223\ttotal: 188ms\tremaining: 1.19s\n",
      "136:\tlearn: 0.2693778\ttotal: 189ms\tremaining: 1.19s\n",
      "137:\tlearn: 0.2683834\ttotal: 190ms\tremaining: 1.19s\n",
      "138:\tlearn: 0.2672410\ttotal: 191ms\tremaining: 1.18s\n",
      "139:\tlearn: 0.2661283\ttotal: 192ms\tremaining: 1.18s\n"
     ]
    },
    {
     "name": "stdout",
     "output_type": "stream",
     "text": [
      "140:\tlearn: 0.2653565\ttotal: 192ms\tremaining: 1.17s\n",
      "141:\tlearn: 0.2643039\ttotal: 193ms\tremaining: 1.17s\n",
      "142:\tlearn: 0.2634364\ttotal: 194ms\tremaining: 1.16s\n",
      "143:\tlearn: 0.2624737\ttotal: 195ms\tremaining: 1.16s\n",
      "144:\tlearn: 0.2614867\ttotal: 196ms\tremaining: 1.16s\n",
      "145:\tlearn: 0.2607089\ttotal: 197ms\tremaining: 1.15s\n",
      "146:\tlearn: 0.2599251\ttotal: 198ms\tremaining: 1.15s\n",
      "147:\tlearn: 0.2586827\ttotal: 199ms\tremaining: 1.14s\n",
      "148:\tlearn: 0.2577320\ttotal: 200ms\tremaining: 1.14s\n",
      "149:\tlearn: 0.2567690\ttotal: 201ms\tremaining: 1.14s\n",
      "150:\tlearn: 0.2559014\ttotal: 201ms\tremaining: 1.13s\n",
      "151:\tlearn: 0.2550655\ttotal: 202ms\tremaining: 1.13s\n",
      "152:\tlearn: 0.2543105\ttotal: 203ms\tremaining: 1.12s\n",
      "153:\tlearn: 0.2533127\ttotal: 204ms\tremaining: 1.12s\n",
      "154:\tlearn: 0.2523299\ttotal: 205ms\tremaining: 1.11s\n",
      "155:\tlearn: 0.2513768\ttotal: 206ms\tremaining: 1.11s\n",
      "156:\tlearn: 0.2507322\ttotal: 206ms\tremaining: 1.11s\n",
      "157:\tlearn: 0.2498263\ttotal: 207ms\tremaining: 1.1s\n",
      "158:\tlearn: 0.2489029\ttotal: 208ms\tremaining: 1.1s\n",
      "159:\tlearn: 0.2480786\ttotal: 209ms\tremaining: 1.1s\n",
      "160:\tlearn: 0.2473212\ttotal: 210ms\tremaining: 1.09s\n",
      "161:\tlearn: 0.2465608\ttotal: 210ms\tremaining: 1.09s\n",
      "162:\tlearn: 0.2456312\ttotal: 211ms\tremaining: 1.08s\n",
      "163:\tlearn: 0.2448245\ttotal: 213ms\tremaining: 1.09s\n",
      "164:\tlearn: 0.2441654\ttotal: 214ms\tremaining: 1.08s\n",
      "165:\tlearn: 0.2435507\ttotal: 215ms\tremaining: 1.08s\n",
      "166:\tlearn: 0.2428841\ttotal: 215ms\tremaining: 1.07s\n",
      "167:\tlearn: 0.2416539\ttotal: 216ms\tremaining: 1.07s\n",
      "168:\tlearn: 0.2408513\ttotal: 217ms\tremaining: 1.07s\n",
      "169:\tlearn: 0.2400810\ttotal: 218ms\tremaining: 1.06s\n",
      "170:\tlearn: 0.2394849\ttotal: 219ms\tremaining: 1.06s\n",
      "171:\tlearn: 0.2391333\ttotal: 220ms\tremaining: 1.06s\n",
      "172:\tlearn: 0.2385636\ttotal: 220ms\tremaining: 1.05s\n",
      "173:\tlearn: 0.2380119\ttotal: 221ms\tremaining: 1.05s\n",
      "174:\tlearn: 0.2373901\ttotal: 222ms\tremaining: 1.05s\n",
      "175:\tlearn: 0.2366189\ttotal: 223ms\tremaining: 1.04s\n",
      "176:\tlearn: 0.2358561\ttotal: 224ms\tremaining: 1.04s\n",
      "177:\tlearn: 0.2350692\ttotal: 225ms\tremaining: 1.04s\n",
      "178:\tlearn: 0.2341580\ttotal: 226ms\tremaining: 1.03s\n",
      "179:\tlearn: 0.2333520\ttotal: 226ms\tremaining: 1.03s\n",
      "180:\tlearn: 0.2326549\ttotal: 227ms\tremaining: 1.03s\n",
      "181:\tlearn: 0.2316031\ttotal: 228ms\tremaining: 1.02s\n",
      "182:\tlearn: 0.2308994\ttotal: 229ms\tremaining: 1.02s\n",
      "183:\tlearn: 0.2304252\ttotal: 230ms\tremaining: 1.02s\n",
      "184:\tlearn: 0.2296012\ttotal: 231ms\tremaining: 1.01s\n",
      "185:\tlearn: 0.2290423\ttotal: 231ms\tremaining: 1.01s\n",
      "186:\tlearn: 0.2283396\ttotal: 232ms\tremaining: 1.01s\n",
      "187:\tlearn: 0.2277697\ttotal: 233ms\tremaining: 1.01s\n",
      "188:\tlearn: 0.2270291\ttotal: 234ms\tremaining: 1s\n",
      "189:\tlearn: 0.2264654\ttotal: 235ms\tremaining: 1s\n",
      "190:\tlearn: 0.2256293\ttotal: 235ms\tremaining: 997ms\n",
      "191:\tlearn: 0.2251734\ttotal: 236ms\tremaining: 994ms\n",
      "192:\tlearn: 0.2245974\ttotal: 237ms\tremaining: 991ms\n",
      "193:\tlearn: 0.2239956\ttotal: 238ms\tremaining: 987ms\n",
      "194:\tlearn: 0.2233712\ttotal: 238ms\tremaining: 985ms\n",
      "195:\tlearn: 0.2227758\ttotal: 239ms\tremaining: 982ms\n",
      "196:\tlearn: 0.2223671\ttotal: 240ms\tremaining: 979ms\n",
      "197:\tlearn: 0.2217071\ttotal: 241ms\tremaining: 976ms\n",
      "198:\tlearn: 0.2211334\ttotal: 242ms\tremaining: 974ms\n",
      "199:\tlearn: 0.2204909\ttotal: 243ms\tremaining: 971ms\n",
      "200:\tlearn: 0.2200039\ttotal: 244ms\tremaining: 968ms\n",
      "201:\tlearn: 0.2195072\ttotal: 244ms\tremaining: 966ms\n",
      "202:\tlearn: 0.2190528\ttotal: 245ms\tremaining: 963ms\n",
      "203:\tlearn: 0.2185277\ttotal: 246ms\tremaining: 960ms\n",
      "204:\tlearn: 0.2179049\ttotal: 247ms\tremaining: 958ms\n",
      "205:\tlearn: 0.2173397\ttotal: 248ms\tremaining: 955ms\n",
      "206:\tlearn: 0.2167183\ttotal: 249ms\tremaining: 952ms\n",
      "207:\tlearn: 0.2163056\ttotal: 249ms\tremaining: 950ms\n",
      "208:\tlearn: 0.2156410\ttotal: 250ms\tremaining: 947ms\n",
      "209:\tlearn: 0.2151907\ttotal: 251ms\tremaining: 944ms\n",
      "210:\tlearn: 0.2144784\ttotal: 252ms\tremaining: 942ms\n",
      "211:\tlearn: 0.2140115\ttotal: 253ms\tremaining: 939ms\n",
      "212:\tlearn: 0.2134299\ttotal: 254ms\tremaining: 937ms\n",
      "213:\tlearn: 0.2128495\ttotal: 254ms\tremaining: 935ms\n",
      "214:\tlearn: 0.2123563\ttotal: 255ms\tremaining: 932ms\n",
      "215:\tlearn: 0.2119302\ttotal: 256ms\tremaining: 929ms\n",
      "216:\tlearn: 0.2115345\ttotal: 257ms\tremaining: 927ms\n",
      "217:\tlearn: 0.2109157\ttotal: 258ms\tremaining: 924ms\n",
      "218:\tlearn: 0.2101175\ttotal: 258ms\tremaining: 921ms\n",
      "219:\tlearn: 0.2097746\ttotal: 259ms\tremaining: 919ms\n",
      "220:\tlearn: 0.2090356\ttotal: 260ms\tremaining: 917ms\n",
      "221:\tlearn: 0.2086467\ttotal: 261ms\tremaining: 914ms\n",
      "222:\tlearn: 0.2081632\ttotal: 262ms\tremaining: 912ms\n",
      "223:\tlearn: 0.2077991\ttotal: 262ms\tremaining: 909ms\n",
      "224:\tlearn: 0.2073364\ttotal: 263ms\tremaining: 907ms\n",
      "225:\tlearn: 0.2067789\ttotal: 264ms\tremaining: 904ms\n",
      "226:\tlearn: 0.2061717\ttotal: 265ms\tremaining: 902ms\n",
      "227:\tlearn: 0.2058306\ttotal: 266ms\tremaining: 900ms\n",
      "228:\tlearn: 0.2052986\ttotal: 267ms\tremaining: 898ms\n",
      "229:\tlearn: 0.2048419\ttotal: 267ms\tremaining: 895ms\n",
      "230:\tlearn: 0.2045522\ttotal: 268ms\tremaining: 893ms\n",
      "231:\tlearn: 0.2041722\ttotal: 269ms\tremaining: 891ms\n",
      "232:\tlearn: 0.2037935\ttotal: 270ms\tremaining: 889ms\n",
      "233:\tlearn: 0.2032675\ttotal: 271ms\tremaining: 886ms\n",
      "234:\tlearn: 0.2027215\ttotal: 272ms\tremaining: 884ms\n",
      "235:\tlearn: 0.2021495\ttotal: 272ms\tremaining: 882ms\n",
      "236:\tlearn: 0.2019275\ttotal: 273ms\tremaining: 880ms\n",
      "237:\tlearn: 0.2013090\ttotal: 274ms\tremaining: 877ms\n",
      "238:\tlearn: 0.2008807\ttotal: 275ms\tremaining: 875ms\n",
      "239:\tlearn: 0.2005672\ttotal: 276ms\tremaining: 873ms\n",
      "240:\tlearn: 0.2001246\ttotal: 277ms\tremaining: 871ms\n",
      "241:\tlearn: 0.1997786\ttotal: 278ms\tremaining: 869ms\n",
      "242:\tlearn: 0.1994847\ttotal: 278ms\tremaining: 867ms\n",
      "243:\tlearn: 0.1989750\ttotal: 279ms\tremaining: 865ms\n",
      "244:\tlearn: 0.1984012\ttotal: 280ms\tremaining: 863ms\n",
      "245:\tlearn: 0.1977987\ttotal: 281ms\tremaining: 861ms\n",
      "246:\tlearn: 0.1973866\ttotal: 282ms\tremaining: 859ms\n",
      "247:\tlearn: 0.1968837\ttotal: 282ms\tremaining: 857ms\n",
      "248:\tlearn: 0.1964162\ttotal: 283ms\tremaining: 854ms\n",
      "249:\tlearn: 0.1960114\ttotal: 284ms\tremaining: 852ms\n",
      "250:\tlearn: 0.1956361\ttotal: 285ms\tremaining: 850ms\n",
      "251:\tlearn: 0.1954611\ttotal: 286ms\tremaining: 848ms\n",
      "252:\tlearn: 0.1947113\ttotal: 287ms\tremaining: 848ms\n",
      "253:\tlearn: 0.1942663\ttotal: 288ms\tremaining: 846ms\n",
      "254:\tlearn: 0.1940673\ttotal: 289ms\tremaining: 844ms\n",
      "255:\tlearn: 0.1934155\ttotal: 290ms\tremaining: 842ms\n",
      "256:\tlearn: 0.1928942\ttotal: 291ms\tremaining: 840ms\n",
      "257:\tlearn: 0.1925624\ttotal: 291ms\tremaining: 838ms\n",
      "258:\tlearn: 0.1918363\ttotal: 292ms\tremaining: 836ms\n",
      "259:\tlearn: 0.1913168\ttotal: 293ms\tremaining: 834ms\n",
      "260:\tlearn: 0.1909866\ttotal: 294ms\tremaining: 831ms\n",
      "261:\tlearn: 0.1904047\ttotal: 295ms\tremaining: 830ms\n",
      "262:\tlearn: 0.1900827\ttotal: 295ms\tremaining: 827ms\n",
      "263:\tlearn: 0.1896735\ttotal: 296ms\tremaining: 825ms\n",
      "264:\tlearn: 0.1894315\ttotal: 297ms\tremaining: 824ms\n",
      "265:\tlearn: 0.1890822\ttotal: 298ms\tremaining: 822ms\n",
      "266:\tlearn: 0.1887200\ttotal: 298ms\tremaining: 819ms\n",
      "267:\tlearn: 0.1882223\ttotal: 299ms\tremaining: 817ms\n"
     ]
    },
    {
     "name": "stdout",
     "output_type": "stream",
     "text": [
      "268:\tlearn: 0.1880048\ttotal: 300ms\tremaining: 816ms\n",
      "269:\tlearn: 0.1873743\ttotal: 301ms\tremaining: 814ms\n",
      "270:\tlearn: 0.1870686\ttotal: 302ms\tremaining: 812ms\n",
      "271:\tlearn: 0.1869263\ttotal: 303ms\tremaining: 810ms\n",
      "272:\tlearn: 0.1863137\ttotal: 303ms\tremaining: 808ms\n",
      "273:\tlearn: 0.1859338\ttotal: 304ms\tremaining: 806ms\n",
      "274:\tlearn: 0.1855374\ttotal: 305ms\tremaining: 804ms\n",
      "275:\tlearn: 0.1850650\ttotal: 306ms\tremaining: 802ms\n",
      "276:\tlearn: 0.1847059\ttotal: 307ms\tremaining: 801ms\n",
      "277:\tlearn: 0.1845450\ttotal: 307ms\tremaining: 799ms\n",
      "278:\tlearn: 0.1839504\ttotal: 308ms\tremaining: 797ms\n",
      "279:\tlearn: 0.1836295\ttotal: 309ms\tremaining: 795ms\n",
      "280:\tlearn: 0.1834620\ttotal: 310ms\tremaining: 793ms\n",
      "281:\tlearn: 0.1831116\ttotal: 311ms\tremaining: 791ms\n",
      "282:\tlearn: 0.1830298\ttotal: 312ms\tremaining: 790ms\n",
      "283:\tlearn: 0.1829107\ttotal: 313ms\tremaining: 788ms\n",
      "284:\tlearn: 0.1824928\ttotal: 313ms\tremaining: 786ms\n",
      "285:\tlearn: 0.1818544\ttotal: 314ms\tremaining: 784ms\n",
      "286:\tlearn: 0.1817526\ttotal: 315ms\tremaining: 782ms\n",
      "287:\tlearn: 0.1815675\ttotal: 316ms\tremaining: 781ms\n",
      "288:\tlearn: 0.1811380\ttotal: 316ms\tremaining: 779ms\n",
      "289:\tlearn: 0.1806398\ttotal: 317ms\tremaining: 777ms\n",
      "290:\tlearn: 0.1801612\ttotal: 318ms\tremaining: 775ms\n",
      "291:\tlearn: 0.1798604\ttotal: 319ms\tremaining: 773ms\n",
      "292:\tlearn: 0.1794890\ttotal: 320ms\tremaining: 771ms\n",
      "293:\tlearn: 0.1790541\ttotal: 320ms\tremaining: 769ms\n",
      "294:\tlearn: 0.1786631\ttotal: 321ms\tremaining: 767ms\n",
      "295:\tlearn: 0.1782963\ttotal: 322ms\tremaining: 766ms\n",
      "296:\tlearn: 0.1778681\ttotal: 323ms\tremaining: 764ms\n",
      "297:\tlearn: 0.1774135\ttotal: 324ms\tremaining: 762ms\n",
      "298:\tlearn: 0.1771152\ttotal: 324ms\tremaining: 760ms\n",
      "299:\tlearn: 0.1768032\ttotal: 325ms\tremaining: 759ms\n",
      "300:\tlearn: 0.1766758\ttotal: 326ms\tremaining: 757ms\n",
      "301:\tlearn: 0.1763092\ttotal: 327ms\tremaining: 755ms\n",
      "302:\tlearn: 0.1761783\ttotal: 328ms\tremaining: 754ms\n",
      "303:\tlearn: 0.1758599\ttotal: 328ms\tremaining: 752ms\n",
      "304:\tlearn: 0.1756695\ttotal: 329ms\tremaining: 750ms\n",
      "305:\tlearn: 0.1755448\ttotal: 330ms\tremaining: 748ms\n",
      "306:\tlearn: 0.1754394\ttotal: 331ms\tremaining: 747ms\n",
      "307:\tlearn: 0.1751120\ttotal: 332ms\tremaining: 745ms\n",
      "308:\tlearn: 0.1749832\ttotal: 332ms\tremaining: 743ms\n",
      "309:\tlearn: 0.1746296\ttotal: 333ms\tremaining: 742ms\n",
      "310:\tlearn: 0.1745158\ttotal: 334ms\tremaining: 740ms\n",
      "311:\tlearn: 0.1739643\ttotal: 335ms\tremaining: 738ms\n",
      "312:\tlearn: 0.1738928\ttotal: 336ms\tremaining: 736ms\n",
      "313:\tlearn: 0.1736457\ttotal: 336ms\tremaining: 735ms\n",
      "314:\tlearn: 0.1732348\ttotal: 337ms\tremaining: 733ms\n",
      "315:\tlearn: 0.1729232\ttotal: 338ms\tremaining: 732ms\n",
      "316:\tlearn: 0.1725575\ttotal: 339ms\tremaining: 730ms\n",
      "317:\tlearn: 0.1722669\ttotal: 340ms\tremaining: 729ms\n",
      "318:\tlearn: 0.1721983\ttotal: 341ms\tremaining: 727ms\n",
      "319:\tlearn: 0.1719208\ttotal: 341ms\tremaining: 726ms\n",
      "320:\tlearn: 0.1718013\ttotal: 342ms\tremaining: 724ms\n",
      "321:\tlearn: 0.1717146\ttotal: 343ms\tremaining: 722ms\n",
      "322:\tlearn: 0.1715948\ttotal: 344ms\tremaining: 721ms\n",
      "323:\tlearn: 0.1711586\ttotal: 345ms\tremaining: 719ms\n",
      "324:\tlearn: 0.1708343\ttotal: 345ms\tremaining: 718ms\n",
      "325:\tlearn: 0.1705529\ttotal: 346ms\tremaining: 716ms\n",
      "326:\tlearn: 0.1704364\ttotal: 347ms\tremaining: 714ms\n",
      "327:\tlearn: 0.1703433\ttotal: 348ms\tremaining: 713ms\n",
      "328:\tlearn: 0.1699154\ttotal: 349ms\tremaining: 711ms\n",
      "329:\tlearn: 0.1694929\ttotal: 349ms\tremaining: 709ms\n",
      "330:\tlearn: 0.1691279\ttotal: 350ms\tremaining: 708ms\n",
      "331:\tlearn: 0.1689117\ttotal: 351ms\tremaining: 706ms\n",
      "332:\tlearn: 0.1688255\ttotal: 352ms\tremaining: 705ms\n",
      "333:\tlearn: 0.1684107\ttotal: 353ms\tremaining: 704ms\n",
      "334:\tlearn: 0.1683203\ttotal: 354ms\tremaining: 702ms\n",
      "335:\tlearn: 0.1681392\ttotal: 355ms\tremaining: 701ms\n",
      "336:\tlearn: 0.1676730\ttotal: 355ms\tremaining: 699ms\n",
      "337:\tlearn: 0.1675409\ttotal: 356ms\tremaining: 697ms\n",
      "338:\tlearn: 0.1674569\ttotal: 357ms\tremaining: 696ms\n",
      "339:\tlearn: 0.1672059\ttotal: 358ms\tremaining: 694ms\n",
      "340:\tlearn: 0.1670288\ttotal: 358ms\tremaining: 693ms\n",
      "341:\tlearn: 0.1666191\ttotal: 359ms\tremaining: 691ms\n",
      "342:\tlearn: 0.1661607\ttotal: 360ms\tremaining: 689ms\n",
      "343:\tlearn: 0.1657517\ttotal: 361ms\tremaining: 688ms\n",
      "344:\tlearn: 0.1655322\ttotal: 362ms\tremaining: 686ms\n",
      "345:\tlearn: 0.1654071\ttotal: 362ms\tremaining: 685ms\n",
      "346:\tlearn: 0.1650289\ttotal: 363ms\tremaining: 683ms\n",
      "347:\tlearn: 0.1648138\ttotal: 364ms\tremaining: 682ms\n",
      "348:\tlearn: 0.1646823\ttotal: 365ms\tremaining: 680ms\n",
      "349:\tlearn: 0.1643447\ttotal: 366ms\tremaining: 679ms\n",
      "350:\tlearn: 0.1638242\ttotal: 366ms\tremaining: 677ms\n",
      "351:\tlearn: 0.1635227\ttotal: 367ms\tremaining: 676ms\n",
      "352:\tlearn: 0.1631838\ttotal: 368ms\tremaining: 674ms\n",
      "353:\tlearn: 0.1631125\ttotal: 369ms\tremaining: 673ms\n",
      "354:\tlearn: 0.1625996\ttotal: 369ms\tremaining: 671ms\n",
      "355:\tlearn: 0.1621439\ttotal: 370ms\tremaining: 670ms\n",
      "356:\tlearn: 0.1618472\ttotal: 371ms\tremaining: 668ms\n",
      "357:\tlearn: 0.1614522\ttotal: 372ms\tremaining: 667ms\n",
      "358:\tlearn: 0.1611120\ttotal: 373ms\tremaining: 665ms\n",
      "359:\tlearn: 0.1608207\ttotal: 373ms\tremaining: 664ms\n",
      "360:\tlearn: 0.1605439\ttotal: 374ms\tremaining: 662ms\n",
      "361:\tlearn: 0.1603140\ttotal: 375ms\tremaining: 661ms\n",
      "362:\tlearn: 0.1600253\ttotal: 376ms\tremaining: 659ms\n",
      "363:\tlearn: 0.1596664\ttotal: 377ms\tremaining: 658ms\n",
      "364:\tlearn: 0.1594813\ttotal: 377ms\tremaining: 656ms\n",
      "365:\tlearn: 0.1591890\ttotal: 378ms\tremaining: 655ms\n",
      "366:\tlearn: 0.1587690\ttotal: 379ms\tremaining: 654ms\n",
      "367:\tlearn: 0.1584142\ttotal: 380ms\tremaining: 652ms\n",
      "368:\tlearn: 0.1583123\ttotal: 380ms\tremaining: 651ms\n",
      "369:\tlearn: 0.1579790\ttotal: 381ms\tremaining: 649ms\n",
      "370:\tlearn: 0.1576412\ttotal: 382ms\tremaining: 648ms\n"
     ]
    },
    {
     "name": "stdout",
     "output_type": "stream",
     "text": [
      "371:\tlearn: 0.1574083\ttotal: 383ms\tremaining: 647ms\n",
      "372:\tlearn: 0.1570544\ttotal: 384ms\tremaining: 646ms\n",
      "373:\tlearn: 0.1565868\ttotal: 385ms\tremaining: 644ms\n",
      "374:\tlearn: 0.1562937\ttotal: 386ms\tremaining: 643ms\n",
      "375:\tlearn: 0.1562036\ttotal: 386ms\tremaining: 641ms\n",
      "376:\tlearn: 0.1559464\ttotal: 387ms\tremaining: 640ms\n",
      "377:\tlearn: 0.1556268\ttotal: 388ms\tremaining: 639ms\n",
      "378:\tlearn: 0.1554231\ttotal: 389ms\tremaining: 638ms\n",
      "379:\tlearn: 0.1550452\ttotal: 390ms\tremaining: 636ms\n",
      "380:\tlearn: 0.1547509\ttotal: 391ms\tremaining: 635ms\n",
      "381:\tlearn: 0.1545912\ttotal: 391ms\tremaining: 633ms\n",
      "382:\tlearn: 0.1542191\ttotal: 392ms\tremaining: 632ms\n",
      "383:\tlearn: 0.1538386\ttotal: 393ms\tremaining: 630ms\n",
      "384:\tlearn: 0.1535492\ttotal: 394ms\tremaining: 629ms\n",
      "385:\tlearn: 0.1532090\ttotal: 394ms\tremaining: 628ms\n",
      "386:\tlearn: 0.1527609\ttotal: 395ms\tremaining: 626ms\n",
      "387:\tlearn: 0.1525009\ttotal: 396ms\tremaining: 625ms\n",
      "388:\tlearn: 0.1521793\ttotal: 397ms\tremaining: 623ms\n",
      "389:\tlearn: 0.1518729\ttotal: 398ms\tremaining: 622ms\n",
      "390:\tlearn: 0.1516199\ttotal: 399ms\tremaining: 621ms\n",
      "391:\tlearn: 0.1513125\ttotal: 400ms\tremaining: 621ms\n",
      "392:\tlearn: 0.1510344\ttotal: 401ms\tremaining: 619ms\n",
      "393:\tlearn: 0.1506099\ttotal: 402ms\tremaining: 618ms\n",
      "394:\tlearn: 0.1503491\ttotal: 403ms\tremaining: 617ms\n",
      "395:\tlearn: 0.1499858\ttotal: 403ms\tremaining: 615ms\n",
      "396:\tlearn: 0.1497201\ttotal: 404ms\tremaining: 614ms\n",
      "397:\tlearn: 0.1495706\ttotal: 405ms\tremaining: 613ms\n",
      "398:\tlearn: 0.1492710\ttotal: 406ms\tremaining: 611ms\n",
      "399:\tlearn: 0.1489853\ttotal: 407ms\tremaining: 610ms\n",
      "400:\tlearn: 0.1489020\ttotal: 407ms\tremaining: 609ms\n",
      "401:\tlearn: 0.1488222\ttotal: 408ms\tremaining: 607ms\n",
      "402:\tlearn: 0.1487550\ttotal: 409ms\tremaining: 606ms\n",
      "403:\tlearn: 0.1487123\ttotal: 410ms\tremaining: 605ms\n",
      "404:\tlearn: 0.1484164\ttotal: 411ms\tremaining: 603ms\n",
      "405:\tlearn: 0.1480837\ttotal: 411ms\tremaining: 602ms\n",
      "406:\tlearn: 0.1476479\ttotal: 412ms\tremaining: 601ms\n",
      "407:\tlearn: 0.1473305\ttotal: 413ms\tremaining: 599ms\n",
      "408:\tlearn: 0.1471549\ttotal: 414ms\tremaining: 598ms\n",
      "409:\tlearn: 0.1468914\ttotal: 415ms\tremaining: 597ms\n",
      "410:\tlearn: 0.1464311\ttotal: 415ms\tremaining: 595ms\n",
      "411:\tlearn: 0.1460025\ttotal: 416ms\tremaining: 594ms\n",
      "412:\tlearn: 0.1456711\ttotal: 417ms\tremaining: 593ms\n",
      "413:\tlearn: 0.1452959\ttotal: 418ms\tremaining: 591ms\n",
      "414:\tlearn: 0.1451220\ttotal: 418ms\tremaining: 590ms\n",
      "415:\tlearn: 0.1450626\ttotal: 419ms\tremaining: 589ms\n",
      "416:\tlearn: 0.1448859\ttotal: 420ms\tremaining: 587ms\n",
      "417:\tlearn: 0.1445754\ttotal: 421ms\tremaining: 586ms\n",
      "418:\tlearn: 0.1445355\ttotal: 422ms\tremaining: 585ms\n",
      "419:\tlearn: 0.1444780\ttotal: 422ms\tremaining: 583ms\n",
      "420:\tlearn: 0.1442709\ttotal: 423ms\tremaining: 582ms\n",
      "421:\tlearn: 0.1439761\ttotal: 424ms\tremaining: 581ms\n",
      "422:\tlearn: 0.1436326\ttotal: 425ms\tremaining: 579ms\n",
      "423:\tlearn: 0.1433125\ttotal: 426ms\tremaining: 578ms\n",
      "424:\tlearn: 0.1430703\ttotal: 426ms\tremaining: 577ms\n",
      "425:\tlearn: 0.1429241\ttotal: 427ms\tremaining: 576ms\n",
      "426:\tlearn: 0.1428729\ttotal: 428ms\tremaining: 574ms\n",
      "427:\tlearn: 0.1427287\ttotal: 429ms\tremaining: 573ms\n",
      "428:\tlearn: 0.1425627\ttotal: 430ms\tremaining: 572ms\n",
      "429:\tlearn: 0.1424016\ttotal: 430ms\tremaining: 570ms\n",
      "430:\tlearn: 0.1421134\ttotal: 431ms\tremaining: 569ms\n",
      "431:\tlearn: 0.1417611\ttotal: 432ms\tremaining: 568ms\n",
      "432:\tlearn: 0.1414826\ttotal: 433ms\tremaining: 566ms\n",
      "433:\tlearn: 0.1412642\ttotal: 434ms\tremaining: 565ms\n",
      "434:\tlearn: 0.1409497\ttotal: 434ms\tremaining: 564ms\n",
      "435:\tlearn: 0.1408902\ttotal: 435ms\tremaining: 563ms\n",
      "436:\tlearn: 0.1408639\ttotal: 436ms\tremaining: 562ms\n",
      "437:\tlearn: 0.1406782\ttotal: 437ms\tremaining: 560ms\n",
      "438:\tlearn: 0.1402403\ttotal: 438ms\tremaining: 559ms\n",
      "439:\tlearn: 0.1399450\ttotal: 438ms\tremaining: 558ms\n",
      "440:\tlearn: 0.1396704\ttotal: 439ms\tremaining: 557ms\n",
      "441:\tlearn: 0.1396179\ttotal: 440ms\tremaining: 555ms\n",
      "442:\tlearn: 0.1393555\ttotal: 441ms\tremaining: 554ms\n",
      "443:\tlearn: 0.1390777\ttotal: 442ms\tremaining: 553ms\n",
      "444:\tlearn: 0.1386755\ttotal: 443ms\tremaining: 552ms\n",
      "445:\tlearn: 0.1383051\ttotal: 444ms\tremaining: 551ms\n",
      "446:\tlearn: 0.1381172\ttotal: 445ms\tremaining: 550ms\n",
      "447:\tlearn: 0.1378807\ttotal: 445ms\tremaining: 549ms\n",
      "448:\tlearn: 0.1376827\ttotal: 446ms\tremaining: 547ms\n",
      "449:\tlearn: 0.1372371\ttotal: 447ms\tremaining: 546ms\n",
      "450:\tlearn: 0.1369766\ttotal: 448ms\tremaining: 545ms\n",
      "451:\tlearn: 0.1368928\ttotal: 449ms\tremaining: 544ms\n",
      "452:\tlearn: 0.1366047\ttotal: 449ms\tremaining: 543ms\n",
      "453:\tlearn: 0.1363034\ttotal: 450ms\tremaining: 541ms\n",
      "454:\tlearn: 0.1359798\ttotal: 451ms\tremaining: 540ms\n",
      "455:\tlearn: 0.1359313\ttotal: 452ms\tremaining: 539ms\n",
      "456:\tlearn: 0.1358876\ttotal: 453ms\tremaining: 538ms\n",
      "457:\tlearn: 0.1357323\ttotal: 454ms\tremaining: 537ms\n",
      "458:\tlearn: 0.1354475\ttotal: 455ms\tremaining: 537ms\n",
      "459:\tlearn: 0.1353496\ttotal: 456ms\tremaining: 536ms\n",
      "460:\tlearn: 0.1350594\ttotal: 457ms\tremaining: 534ms\n",
      "461:\tlearn: 0.1347271\ttotal: 458ms\tremaining: 533ms\n",
      "462:\tlearn: 0.1345761\ttotal: 459ms\tremaining: 532ms\n",
      "463:\tlearn: 0.1343863\ttotal: 459ms\tremaining: 531ms\n",
      "464:\tlearn: 0.1340604\ttotal: 460ms\tremaining: 530ms\n",
      "465:\tlearn: 0.1336395\ttotal: 461ms\tremaining: 528ms\n",
      "466:\tlearn: 0.1335073\ttotal: 462ms\tremaining: 527ms\n",
      "467:\tlearn: 0.1333790\ttotal: 463ms\tremaining: 526ms\n",
      "468:\tlearn: 0.1330717\ttotal: 463ms\tremaining: 525ms\n",
      "469:\tlearn: 0.1326931\ttotal: 465ms\tremaining: 524ms\n",
      "470:\tlearn: 0.1324412\ttotal: 466ms\tremaining: 523ms\n",
      "471:\tlearn: 0.1322643\ttotal: 467ms\tremaining: 522ms\n",
      "472:\tlearn: 0.1320508\ttotal: 468ms\tremaining: 521ms\n",
      "473:\tlearn: 0.1320168\ttotal: 469ms\tremaining: 520ms\n",
      "474:\tlearn: 0.1317388\ttotal: 470ms\tremaining: 519ms\n",
      "475:\tlearn: 0.1316270\ttotal: 470ms\tremaining: 518ms\n",
      "476:\tlearn: 0.1315182\ttotal: 473ms\tremaining: 519ms\n",
      "477:\tlearn: 0.1312494\ttotal: 474ms\tremaining: 517ms\n",
      "478:\tlearn: 0.1310700\ttotal: 475ms\tremaining: 516ms\n",
      "479:\tlearn: 0.1309716\ttotal: 475ms\tremaining: 515ms\n",
      "480:\tlearn: 0.1309474\ttotal: 476ms\tremaining: 514ms\n",
      "481:\tlearn: 0.1309139\ttotal: 477ms\tremaining: 512ms\n",
      "482:\tlearn: 0.1305336\ttotal: 478ms\tremaining: 511ms\n",
      "483:\tlearn: 0.1302860\ttotal: 479ms\tremaining: 510ms\n",
      "484:\tlearn: 0.1299606\ttotal: 479ms\tremaining: 509ms\n",
      "485:\tlearn: 0.1296860\ttotal: 480ms\tremaining: 508ms\n",
      "486:\tlearn: 0.1294009\ttotal: 481ms\tremaining: 506ms\n",
      "487:\tlearn: 0.1291198\ttotal: 482ms\tremaining: 505ms\n",
      "488:\tlearn: 0.1288440\ttotal: 482ms\tremaining: 504ms\n",
      "489:\tlearn: 0.1285740\ttotal: 483ms\tremaining: 503ms\n",
      "490:\tlearn: 0.1283445\ttotal: 484ms\tremaining: 502ms\n",
      "491:\tlearn: 0.1281718\ttotal: 485ms\tremaining: 501ms\n",
      "492:\tlearn: 0.1280070\ttotal: 486ms\tremaining: 500ms\n",
      "493:\tlearn: 0.1277778\ttotal: 487ms\tremaining: 498ms\n",
      "494:\tlearn: 0.1277468\ttotal: 487ms\tremaining: 497ms\n",
      "495:\tlearn: 0.1275241\ttotal: 488ms\tremaining: 496ms\n",
      "496:\tlearn: 0.1272055\ttotal: 489ms\tremaining: 495ms\n",
      "497:\tlearn: 0.1269448\ttotal: 490ms\tremaining: 494ms\n"
     ]
    },
    {
     "name": "stdout",
     "output_type": "stream",
     "text": [
      "498:\tlearn: 0.1267347\ttotal: 491ms\tremaining: 493ms\n",
      "499:\tlearn: 0.1266197\ttotal: 492ms\tremaining: 492ms\n",
      "500:\tlearn: 0.1262836\ttotal: 493ms\tremaining: 491ms\n",
      "501:\tlearn: 0.1259939\ttotal: 493ms\tremaining: 489ms\n",
      "502:\tlearn: 0.1257334\ttotal: 494ms\tremaining: 488ms\n",
      "503:\tlearn: 0.1255517\ttotal: 495ms\tremaining: 487ms\n",
      "504:\tlearn: 0.1252333\ttotal: 496ms\tremaining: 486ms\n",
      "505:\tlearn: 0.1252107\ttotal: 497ms\tremaining: 485ms\n",
      "506:\tlearn: 0.1250306\ttotal: 497ms\tremaining: 484ms\n",
      "507:\tlearn: 0.1247309\ttotal: 498ms\tremaining: 482ms\n",
      "508:\tlearn: 0.1245595\ttotal: 499ms\tremaining: 481ms\n",
      "509:\tlearn: 0.1242969\ttotal: 500ms\tremaining: 480ms\n",
      "510:\tlearn: 0.1240520\ttotal: 501ms\tremaining: 479ms\n",
      "511:\tlearn: 0.1238922\ttotal: 501ms\tremaining: 478ms\n",
      "512:\tlearn: 0.1236459\ttotal: 502ms\tremaining: 477ms\n",
      "513:\tlearn: 0.1234414\ttotal: 503ms\tremaining: 476ms\n",
      "514:\tlearn: 0.1234158\ttotal: 504ms\tremaining: 475ms\n",
      "515:\tlearn: 0.1232535\ttotal: 505ms\tremaining: 473ms\n",
      "516:\tlearn: 0.1230071\ttotal: 506ms\tremaining: 472ms\n",
      "517:\tlearn: 0.1229719\ttotal: 506ms\tremaining: 471ms\n",
      "518:\tlearn: 0.1229496\ttotal: 507ms\tremaining: 470ms\n",
      "519:\tlearn: 0.1226677\ttotal: 508ms\tremaining: 469ms\n",
      "520:\tlearn: 0.1224027\ttotal: 509ms\tremaining: 468ms\n",
      "521:\tlearn: 0.1221487\ttotal: 510ms\tremaining: 467ms\n",
      "522:\tlearn: 0.1219585\ttotal: 510ms\tremaining: 465ms\n",
      "523:\tlearn: 0.1217029\ttotal: 511ms\tremaining: 464ms\n",
      "524:\tlearn: 0.1214249\ttotal: 512ms\tremaining: 463ms\n",
      "525:\tlearn: 0.1212662\ttotal: 512ms\tremaining: 462ms\n",
      "526:\tlearn: 0.1210583\ttotal: 513ms\tremaining: 461ms\n",
      "527:\tlearn: 0.1209646\ttotal: 514ms\tremaining: 459ms\n",
      "528:\tlearn: 0.1207511\ttotal: 515ms\tremaining: 459ms\n",
      "529:\tlearn: 0.1205512\ttotal: 516ms\tremaining: 458ms\n",
      "530:\tlearn: 0.1202764\ttotal: 517ms\tremaining: 457ms\n",
      "531:\tlearn: 0.1199452\ttotal: 518ms\tremaining: 456ms\n",
      "532:\tlearn: 0.1197651\ttotal: 519ms\tremaining: 454ms\n",
      "533:\tlearn: 0.1195435\ttotal: 520ms\tremaining: 453ms\n",
      "534:\tlearn: 0.1192421\ttotal: 520ms\tremaining: 452ms\n",
      "535:\tlearn: 0.1191533\ttotal: 521ms\tremaining: 451ms\n",
      "536:\tlearn: 0.1188486\ttotal: 522ms\tremaining: 450ms\n",
      "537:\tlearn: 0.1186580\ttotal: 523ms\tremaining: 449ms\n",
      "538:\tlearn: 0.1184243\ttotal: 524ms\tremaining: 448ms\n",
      "539:\tlearn: 0.1181498\ttotal: 525ms\tremaining: 447ms\n",
      "540:\tlearn: 0.1177647\ttotal: 526ms\tremaining: 446ms\n",
      "541:\tlearn: 0.1175397\ttotal: 526ms\tremaining: 445ms\n",
      "542:\tlearn: 0.1173366\ttotal: 527ms\tremaining: 444ms\n",
      "543:\tlearn: 0.1170730\ttotal: 528ms\tremaining: 443ms\n",
      "544:\tlearn: 0.1170539\ttotal: 529ms\tremaining: 441ms\n",
      "545:\tlearn: 0.1169004\ttotal: 530ms\tremaining: 440ms\n",
      "546:\tlearn: 0.1166333\ttotal: 531ms\tremaining: 439ms\n",
      "547:\tlearn: 0.1166159\ttotal: 531ms\tremaining: 438ms\n",
      "548:\tlearn: 0.1164187\ttotal: 532ms\tremaining: 437ms\n",
      "549:\tlearn: 0.1162252\ttotal: 533ms\tremaining: 436ms\n",
      "550:\tlearn: 0.1159846\ttotal: 534ms\tremaining: 435ms\n",
      "551:\tlearn: 0.1158482\ttotal: 535ms\tremaining: 434ms\n",
      "552:\tlearn: 0.1156072\ttotal: 536ms\tremaining: 433ms\n",
      "553:\tlearn: 0.1153972\ttotal: 537ms\tremaining: 432ms\n",
      "554:\tlearn: 0.1151784\ttotal: 538ms\tremaining: 431ms\n",
      "555:\tlearn: 0.1150093\ttotal: 538ms\tremaining: 430ms\n",
      "556:\tlearn: 0.1148045\ttotal: 539ms\tremaining: 429ms\n",
      "557:\tlearn: 0.1145611\ttotal: 540ms\tremaining: 428ms\n",
      "558:\tlearn: 0.1143676\ttotal: 541ms\tremaining: 427ms\n",
      "559:\tlearn: 0.1140500\ttotal: 541ms\tremaining: 425ms\n",
      "560:\tlearn: 0.1137925\ttotal: 542ms\tremaining: 424ms\n",
      "561:\tlearn: 0.1135329\ttotal: 543ms\tremaining: 423ms\n",
      "562:\tlearn: 0.1135160\ttotal: 544ms\tremaining: 422ms\n",
      "563:\tlearn: 0.1132556\ttotal: 545ms\tremaining: 421ms\n",
      "564:\tlearn: 0.1132391\ttotal: 545ms\tremaining: 420ms\n",
      "565:\tlearn: 0.1130113\ttotal: 546ms\tremaining: 419ms\n",
      "566:\tlearn: 0.1129858\ttotal: 547ms\tremaining: 418ms\n",
      "567:\tlearn: 0.1129402\ttotal: 548ms\tremaining: 417ms\n",
      "568:\tlearn: 0.1126737\ttotal: 549ms\tremaining: 416ms\n",
      "569:\tlearn: 0.1124669\ttotal: 550ms\tremaining: 415ms\n",
      "570:\tlearn: 0.1122777\ttotal: 550ms\tremaining: 414ms\n",
      "571:\tlearn: 0.1120169\ttotal: 551ms\tremaining: 412ms\n",
      "572:\tlearn: 0.1118506\ttotal: 552ms\tremaining: 411ms\n",
      "573:\tlearn: 0.1115425\ttotal: 553ms\tremaining: 410ms\n",
      "574:\tlearn: 0.1113778\ttotal: 554ms\tremaining: 409ms\n",
      "575:\tlearn: 0.1110323\ttotal: 554ms\tremaining: 408ms\n",
      "576:\tlearn: 0.1108669\ttotal: 555ms\tremaining: 407ms\n",
      "577:\tlearn: 0.1106612\ttotal: 556ms\tremaining: 406ms\n",
      "578:\tlearn: 0.1104374\ttotal: 557ms\tremaining: 405ms\n",
      "579:\tlearn: 0.1101958\ttotal: 558ms\tremaining: 404ms\n",
      "580:\tlearn: 0.1099910\ttotal: 559ms\tremaining: 403ms\n",
      "581:\tlearn: 0.1098001\ttotal: 559ms\tremaining: 402ms\n",
      "582:\tlearn: 0.1096149\ttotal: 560ms\tremaining: 401ms\n",
      "583:\tlearn: 0.1094283\ttotal: 562ms\tremaining: 400ms\n",
      "584:\tlearn: 0.1092842\ttotal: 562ms\tremaining: 399ms\n",
      "585:\tlearn: 0.1090600\ttotal: 563ms\tremaining: 398ms\n",
      "586:\tlearn: 0.1087840\ttotal: 564ms\tremaining: 397ms\n",
      "587:\tlearn: 0.1086260\ttotal: 565ms\tremaining: 396ms\n",
      "588:\tlearn: 0.1082833\ttotal: 566ms\tremaining: 395ms\n",
      "589:\tlearn: 0.1082013\ttotal: 567ms\tremaining: 394ms\n",
      "590:\tlearn: 0.1080389\ttotal: 568ms\tremaining: 393ms\n",
      "591:\tlearn: 0.1078483\ttotal: 568ms\tremaining: 392ms\n",
      "592:\tlearn: 0.1075919\ttotal: 569ms\tremaining: 391ms\n",
      "593:\tlearn: 0.1074421\ttotal: 570ms\tremaining: 390ms\n",
      "594:\tlearn: 0.1072320\ttotal: 571ms\tremaining: 389ms\n",
      "595:\tlearn: 0.1070834\ttotal: 572ms\tremaining: 387ms\n",
      "596:\tlearn: 0.1068525\ttotal: 572ms\tremaining: 386ms\n"
     ]
    },
    {
     "name": "stdout",
     "output_type": "stream",
     "text": [
      "597:\tlearn: 0.1066829\ttotal: 573ms\tremaining: 385ms\n",
      "598:\tlearn: 0.1063963\ttotal: 574ms\tremaining: 384ms\n",
      "599:\tlearn: 0.1063793\ttotal: 575ms\tremaining: 383ms\n",
      "600:\tlearn: 0.1061471\ttotal: 576ms\tremaining: 382ms\n",
      "601:\tlearn: 0.1059018\ttotal: 577ms\tremaining: 381ms\n",
      "602:\tlearn: 0.1057498\ttotal: 578ms\tremaining: 380ms\n",
      "603:\tlearn: 0.1055243\ttotal: 578ms\tremaining: 379ms\n",
      "604:\tlearn: 0.1053213\ttotal: 579ms\tremaining: 378ms\n",
      "605:\tlearn: 0.1052484\ttotal: 580ms\tremaining: 377ms\n",
      "606:\tlearn: 0.1050853\ttotal: 581ms\tremaining: 376ms\n",
      "607:\tlearn: 0.1048770\ttotal: 582ms\tremaining: 375ms\n",
      "608:\tlearn: 0.1046772\ttotal: 582ms\tremaining: 374ms\n",
      "609:\tlearn: 0.1044658\ttotal: 583ms\tremaining: 373ms\n",
      "610:\tlearn: 0.1043103\ttotal: 584ms\tremaining: 372ms\n",
      "611:\tlearn: 0.1040827\ttotal: 585ms\tremaining: 371ms\n",
      "612:\tlearn: 0.1038733\ttotal: 586ms\tremaining: 370ms\n",
      "613:\tlearn: 0.1036294\ttotal: 587ms\tremaining: 369ms\n",
      "614:\tlearn: 0.1033560\ttotal: 587ms\tremaining: 368ms\n",
      "615:\tlearn: 0.1031285\ttotal: 588ms\tremaining: 367ms\n",
      "616:\tlearn: 0.1028560\ttotal: 589ms\tremaining: 366ms\n",
      "617:\tlearn: 0.1026900\ttotal: 590ms\tremaining: 365ms\n",
      "618:\tlearn: 0.1024409\ttotal: 591ms\tremaining: 364ms\n",
      "619:\tlearn: 0.1024252\ttotal: 592ms\tremaining: 363ms\n",
      "620:\tlearn: 0.1022552\ttotal: 592ms\tremaining: 361ms\n",
      "621:\tlearn: 0.1020765\ttotal: 593ms\tremaining: 360ms\n",
      "622:\tlearn: 0.1018441\ttotal: 594ms\tremaining: 359ms\n",
      "623:\tlearn: 0.1017257\ttotal: 595ms\tremaining: 358ms\n",
      "624:\tlearn: 0.1015610\ttotal: 596ms\tremaining: 357ms\n",
      "625:\tlearn: 0.1013574\ttotal: 596ms\tremaining: 356ms\n",
      "626:\tlearn: 0.1013430\ttotal: 597ms\tremaining: 355ms\n",
      "627:\tlearn: 0.1012158\ttotal: 598ms\tremaining: 354ms\n",
      "628:\tlearn: 0.1009632\ttotal: 599ms\tremaining: 353ms\n",
      "629:\tlearn: 0.1007908\ttotal: 600ms\tremaining: 352ms\n",
      "630:\tlearn: 0.1006598\ttotal: 601ms\tremaining: 352ms\n",
      "631:\tlearn: 0.1005692\ttotal: 602ms\tremaining: 351ms\n",
      "632:\tlearn: 0.1002930\ttotal: 603ms\tremaining: 350ms\n",
      "633:\tlearn: 0.1001102\ttotal: 604ms\tremaining: 348ms\n",
      "634:\tlearn: 0.0999770\ttotal: 604ms\tremaining: 347ms\n",
      "635:\tlearn: 0.0998240\ttotal: 605ms\tremaining: 346ms\n",
      "636:\tlearn: 0.0996533\ttotal: 606ms\tremaining: 345ms\n",
      "637:\tlearn: 0.0994901\ttotal: 607ms\tremaining: 344ms\n",
      "638:\tlearn: 0.0993046\ttotal: 608ms\tremaining: 343ms\n",
      "639:\tlearn: 0.0991837\ttotal: 609ms\tremaining: 342ms\n",
      "640:\tlearn: 0.0990355\ttotal: 610ms\tremaining: 341ms\n",
      "641:\tlearn: 0.0987877\ttotal: 611ms\tremaining: 340ms\n",
      "642:\tlearn: 0.0986076\ttotal: 611ms\tremaining: 339ms\n",
      "643:\tlearn: 0.0985294\ttotal: 612ms\tremaining: 338ms\n",
      "644:\tlearn: 0.0984579\ttotal: 613ms\tremaining: 337ms\n",
      "645:\tlearn: 0.0982533\ttotal: 614ms\tremaining: 336ms\n",
      "646:\tlearn: 0.0982384\ttotal: 615ms\tremaining: 335ms\n",
      "647:\tlearn: 0.0981146\ttotal: 616ms\tremaining: 334ms\n",
      "648:\tlearn: 0.0979348\ttotal: 616ms\tremaining: 333ms\n",
      "649:\tlearn: 0.0977415\ttotal: 617ms\tremaining: 332ms\n",
      "650:\tlearn: 0.0976146\ttotal: 618ms\tremaining: 331ms\n",
      "651:\tlearn: 0.0974413\ttotal: 619ms\tremaining: 330ms\n",
      "652:\tlearn: 0.0973026\ttotal: 620ms\tremaining: 329ms\n",
      "653:\tlearn: 0.0970972\ttotal: 620ms\tremaining: 328ms\n",
      "654:\tlearn: 0.0969710\ttotal: 621ms\tremaining: 327ms\n",
      "655:\tlearn: 0.0967873\ttotal: 622ms\tremaining: 326ms\n",
      "656:\tlearn: 0.0966354\ttotal: 623ms\tremaining: 325ms\n",
      "657:\tlearn: 0.0964988\ttotal: 624ms\tremaining: 324ms\n",
      "658:\tlearn: 0.0962782\ttotal: 624ms\tremaining: 323ms\n",
      "659:\tlearn: 0.0960808\ttotal: 625ms\tremaining: 322ms\n",
      "660:\tlearn: 0.0959667\ttotal: 626ms\tremaining: 321ms\n",
      "661:\tlearn: 0.0958208\ttotal: 627ms\tremaining: 320ms\n",
      "662:\tlearn: 0.0956794\ttotal: 628ms\tremaining: 319ms\n",
      "663:\tlearn: 0.0955006\ttotal: 629ms\tremaining: 318ms\n",
      "664:\tlearn: 0.0954590\ttotal: 630ms\tremaining: 317ms\n",
      "665:\tlearn: 0.0953589\ttotal: 631ms\tremaining: 316ms\n",
      "666:\tlearn: 0.0951811\ttotal: 631ms\tremaining: 315ms\n",
      "667:\tlearn: 0.0949911\ttotal: 632ms\tremaining: 314ms\n",
      "668:\tlearn: 0.0948008\ttotal: 633ms\tremaining: 313ms\n",
      "669:\tlearn: 0.0946761\ttotal: 634ms\tremaining: 312ms\n",
      "670:\tlearn: 0.0944367\ttotal: 635ms\tremaining: 311ms\n",
      "671:\tlearn: 0.0943917\ttotal: 636ms\tremaining: 310ms\n",
      "672:\tlearn: 0.0941933\ttotal: 636ms\tremaining: 309ms\n",
      "673:\tlearn: 0.0940161\ttotal: 637ms\tremaining: 308ms\n",
      "674:\tlearn: 0.0938973\ttotal: 638ms\tremaining: 307ms\n",
      "675:\tlearn: 0.0937709\ttotal: 639ms\tremaining: 306ms\n",
      "676:\tlearn: 0.0937570\ttotal: 639ms\tremaining: 305ms\n",
      "677:\tlearn: 0.0936517\ttotal: 640ms\tremaining: 304ms\n",
      "678:\tlearn: 0.0934491\ttotal: 641ms\tremaining: 303ms\n",
      "679:\tlearn: 0.0932989\ttotal: 642ms\tremaining: 302ms\n",
      "680:\tlearn: 0.0930928\ttotal: 642ms\tremaining: 301ms\n",
      "681:\tlearn: 0.0930068\ttotal: 643ms\tremaining: 300ms\n",
      "682:\tlearn: 0.0928343\ttotal: 644ms\tremaining: 299ms\n",
      "683:\tlearn: 0.0926603\ttotal: 645ms\tremaining: 298ms\n",
      "684:\tlearn: 0.0926478\ttotal: 646ms\tremaining: 297ms\n",
      "685:\tlearn: 0.0924562\ttotal: 646ms\tremaining: 296ms\n",
      "686:\tlearn: 0.0923311\ttotal: 647ms\tremaining: 295ms\n",
      "687:\tlearn: 0.0921781\ttotal: 648ms\tremaining: 294ms\n",
      "688:\tlearn: 0.0920487\ttotal: 649ms\tremaining: 293ms\n",
      "689:\tlearn: 0.0918711\ttotal: 650ms\tremaining: 292ms\n",
      "690:\tlearn: 0.0916854\ttotal: 651ms\tremaining: 291ms\n",
      "691:\tlearn: 0.0915465\ttotal: 651ms\tremaining: 290ms\n",
      "692:\tlearn: 0.0915048\ttotal: 652ms\tremaining: 289ms\n",
      "693:\tlearn: 0.0913512\ttotal: 653ms\tremaining: 288ms\n",
      "694:\tlearn: 0.0912857\ttotal: 654ms\tremaining: 287ms\n",
      "695:\tlearn: 0.0911231\ttotal: 655ms\tremaining: 286ms\n",
      "696:\tlearn: 0.0909616\ttotal: 655ms\tremaining: 285ms\n",
      "697:\tlearn: 0.0907898\ttotal: 656ms\tremaining: 284ms\n",
      "698:\tlearn: 0.0906031\ttotal: 657ms\tremaining: 283ms\n",
      "699:\tlearn: 0.0904040\ttotal: 658ms\tremaining: 282ms\n",
      "700:\tlearn: 0.0902738\ttotal: 659ms\tremaining: 281ms\n",
      "701:\tlearn: 0.0901913\ttotal: 660ms\tremaining: 280ms\n",
      "702:\tlearn: 0.0901507\ttotal: 660ms\tremaining: 279ms\n",
      "703:\tlearn: 0.0900128\ttotal: 661ms\tremaining: 278ms\n",
      "704:\tlearn: 0.0898897\ttotal: 662ms\tremaining: 277ms\n",
      "705:\tlearn: 0.0897920\ttotal: 663ms\tremaining: 276ms\n",
      "706:\tlearn: 0.0895988\ttotal: 663ms\tremaining: 275ms\n",
      "707:\tlearn: 0.0895577\ttotal: 664ms\tremaining: 274ms\n",
      "708:\tlearn: 0.0894267\ttotal: 665ms\tremaining: 273ms\n",
      "709:\tlearn: 0.0892823\ttotal: 666ms\tremaining: 272ms\n",
      "710:\tlearn: 0.0892302\ttotal: 667ms\tremaining: 271ms\n",
      "711:\tlearn: 0.0890391\ttotal: 667ms\tremaining: 270ms\n",
      "712:\tlearn: 0.0888364\ttotal: 668ms\tremaining: 269ms\n",
      "713:\tlearn: 0.0885932\ttotal: 669ms\tremaining: 268ms\n",
      "714:\tlearn: 0.0884998\ttotal: 670ms\tremaining: 267ms\n",
      "715:\tlearn: 0.0884101\ttotal: 671ms\tremaining: 266ms\n",
      "716:\tlearn: 0.0882234\ttotal: 671ms\tremaining: 265ms\n",
      "717:\tlearn: 0.0882140\ttotal: 672ms\tremaining: 264ms\n",
      "718:\tlearn: 0.0879937\ttotal: 673ms\tremaining: 263ms\n",
      "719:\tlearn: 0.0878961\ttotal: 674ms\tremaining: 262ms\n",
      "720:\tlearn: 0.0877938\ttotal: 675ms\tremaining: 261ms\n",
      "721:\tlearn: 0.0877831\ttotal: 675ms\tremaining: 260ms\n",
      "722:\tlearn: 0.0875504\ttotal: 676ms\tremaining: 259ms\n",
      "723:\tlearn: 0.0874468\ttotal: 677ms\tremaining: 258ms\n",
      "724:\tlearn: 0.0872920\ttotal: 678ms\tremaining: 257ms\n",
      "725:\tlearn: 0.0871703\ttotal: 679ms\tremaining: 256ms\n",
      "726:\tlearn: 0.0870943\ttotal: 680ms\tremaining: 255ms\n",
      "727:\tlearn: 0.0870043\ttotal: 681ms\tremaining: 254ms\n"
     ]
    },
    {
     "name": "stdout",
     "output_type": "stream",
     "text": [
      "728:\tlearn: 0.0868323\ttotal: 682ms\tremaining: 253ms\n",
      "729:\tlearn: 0.0867377\ttotal: 683ms\tremaining: 253ms\n",
      "730:\tlearn: 0.0866228\ttotal: 684ms\tremaining: 252ms\n",
      "731:\tlearn: 0.0864775\ttotal: 684ms\tremaining: 251ms\n",
      "732:\tlearn: 0.0862724\ttotal: 685ms\tremaining: 250ms\n",
      "733:\tlearn: 0.0861312\ttotal: 686ms\tremaining: 249ms\n",
      "734:\tlearn: 0.0860101\ttotal: 687ms\tremaining: 248ms\n",
      "735:\tlearn: 0.0859128\ttotal: 688ms\tremaining: 247ms\n",
      "736:\tlearn: 0.0857356\ttotal: 689ms\tremaining: 246ms\n",
      "737:\tlearn: 0.0855226\ttotal: 689ms\tremaining: 245ms\n",
      "738:\tlearn: 0.0854529\ttotal: 690ms\tremaining: 244ms\n",
      "739:\tlearn: 0.0852806\ttotal: 691ms\tremaining: 243ms\n",
      "740:\tlearn: 0.0852327\ttotal: 692ms\tremaining: 242ms\n",
      "741:\tlearn: 0.0850122\ttotal: 693ms\tremaining: 241ms\n",
      "742:\tlearn: 0.0848411\ttotal: 693ms\tremaining: 240ms\n",
      "743:\tlearn: 0.0847348\ttotal: 694ms\tremaining: 239ms\n",
      "744:\tlearn: 0.0846015\ttotal: 695ms\tremaining: 238ms\n",
      "745:\tlearn: 0.0844400\ttotal: 696ms\tremaining: 237ms\n",
      "746:\tlearn: 0.0843601\ttotal: 697ms\tremaining: 236ms\n",
      "747:\tlearn: 0.0842702\ttotal: 697ms\tremaining: 235ms\n",
      "748:\tlearn: 0.0841363\ttotal: 698ms\tremaining: 234ms\n",
      "749:\tlearn: 0.0840469\ttotal: 699ms\tremaining: 233ms\n",
      "750:\tlearn: 0.0839569\ttotal: 700ms\tremaining: 232ms\n",
      "751:\tlearn: 0.0838368\ttotal: 700ms\tremaining: 231ms\n",
      "752:\tlearn: 0.0837097\ttotal: 701ms\tremaining: 230ms\n",
      "753:\tlearn: 0.0836166\ttotal: 702ms\tremaining: 229ms\n",
      "754:\tlearn: 0.0833710\ttotal: 703ms\tremaining: 228ms\n",
      "755:\tlearn: 0.0833614\ttotal: 704ms\tremaining: 227ms\n",
      "756:\tlearn: 0.0832426\ttotal: 704ms\tremaining: 226ms\n",
      "757:\tlearn: 0.0831621\ttotal: 705ms\tremaining: 225ms\n",
      "758:\tlearn: 0.0830128\ttotal: 706ms\tremaining: 224ms\n",
      "759:\tlearn: 0.0828873\ttotal: 707ms\tremaining: 223ms\n",
      "760:\tlearn: 0.0827548\ttotal: 708ms\tremaining: 222ms\n",
      "761:\tlearn: 0.0825878\ttotal: 708ms\tremaining: 221ms\n",
      "762:\tlearn: 0.0824085\ttotal: 709ms\tremaining: 220ms\n",
      "763:\tlearn: 0.0822997\ttotal: 710ms\tremaining: 219ms\n",
      "764:\tlearn: 0.0821806\ttotal: 711ms\tremaining: 218ms\n",
      "765:\tlearn: 0.0820439\ttotal: 712ms\tremaining: 217ms\n",
      "766:\tlearn: 0.0819224\ttotal: 713ms\tremaining: 216ms\n",
      "767:\tlearn: 0.0818133\ttotal: 713ms\tremaining: 215ms\n",
      "768:\tlearn: 0.0816918\ttotal: 715ms\tremaining: 215ms\n",
      "769:\tlearn: 0.0815115\ttotal: 716ms\tremaining: 214ms\n",
      "770:\tlearn: 0.0813575\ttotal: 717ms\tremaining: 213ms\n",
      "771:\tlearn: 0.0812954\ttotal: 717ms\tremaining: 212ms\n",
      "772:\tlearn: 0.0811456\ttotal: 718ms\tremaining: 211ms\n",
      "773:\tlearn: 0.0810448\ttotal: 719ms\tremaining: 210ms\n",
      "774:\tlearn: 0.0809076\ttotal: 720ms\tremaining: 209ms\n",
      "775:\tlearn: 0.0808204\ttotal: 721ms\tremaining: 208ms\n",
      "776:\tlearn: 0.0807372\ttotal: 722ms\tremaining: 207ms\n",
      "777:\tlearn: 0.0805509\ttotal: 722ms\tremaining: 206ms\n",
      "778:\tlearn: 0.0804088\ttotal: 723ms\tremaining: 205ms\n",
      "779:\tlearn: 0.0802613\ttotal: 724ms\tremaining: 204ms\n",
      "780:\tlearn: 0.0801406\ttotal: 725ms\tremaining: 203ms\n",
      "781:\tlearn: 0.0800248\ttotal: 725ms\tremaining: 202ms\n",
      "782:\tlearn: 0.0798444\ttotal: 726ms\tremaining: 201ms\n",
      "783:\tlearn: 0.0796874\ttotal: 727ms\tremaining: 200ms\n",
      "784:\tlearn: 0.0796021\ttotal: 728ms\tremaining: 199ms\n",
      "785:\tlearn: 0.0794850\ttotal: 729ms\tremaining: 198ms\n",
      "786:\tlearn: 0.0792648\ttotal: 729ms\tremaining: 197ms\n",
      "787:\tlearn: 0.0792186\ttotal: 730ms\tremaining: 196ms\n",
      "788:\tlearn: 0.0790809\ttotal: 731ms\tremaining: 195ms\n",
      "789:\tlearn: 0.0789812\ttotal: 732ms\tremaining: 195ms\n",
      "790:\tlearn: 0.0788877\ttotal: 733ms\tremaining: 194ms\n",
      "791:\tlearn: 0.0787557\ttotal: 733ms\tremaining: 193ms\n",
      "792:\tlearn: 0.0786056\ttotal: 734ms\tremaining: 192ms\n",
      "793:\tlearn: 0.0784736\ttotal: 735ms\tremaining: 191ms\n",
      "794:\tlearn: 0.0782788\ttotal: 736ms\tremaining: 190ms\n",
      "795:\tlearn: 0.0781907\ttotal: 737ms\tremaining: 189ms\n",
      "796:\tlearn: 0.0781003\ttotal: 738ms\tremaining: 188ms\n",
      "797:\tlearn: 0.0780560\ttotal: 739ms\tremaining: 187ms\n",
      "798:\tlearn: 0.0778871\ttotal: 739ms\tremaining: 186ms\n",
      "799:\tlearn: 0.0778296\ttotal: 740ms\tremaining: 185ms\n",
      "800:\tlearn: 0.0777064\ttotal: 741ms\tremaining: 184ms\n",
      "801:\tlearn: 0.0776121\ttotal: 742ms\tremaining: 183ms\n",
      "802:\tlearn: 0.0775827\ttotal: 743ms\tremaining: 182ms\n",
      "803:\tlearn: 0.0775110\ttotal: 744ms\tremaining: 181ms\n",
      "804:\tlearn: 0.0772776\ttotal: 745ms\tremaining: 180ms\n",
      "805:\tlearn: 0.0771619\ttotal: 745ms\tremaining: 179ms\n",
      "806:\tlearn: 0.0770514\ttotal: 746ms\tremaining: 178ms\n",
      "807:\tlearn: 0.0769528\ttotal: 747ms\tremaining: 178ms\n",
      "808:\tlearn: 0.0768747\ttotal: 748ms\tremaining: 177ms\n",
      "809:\tlearn: 0.0767966\ttotal: 749ms\tremaining: 176ms\n",
      "810:\tlearn: 0.0766626\ttotal: 749ms\tremaining: 175ms\n",
      "811:\tlearn: 0.0765471\ttotal: 750ms\tremaining: 174ms\n",
      "812:\tlearn: 0.0764394\ttotal: 751ms\tremaining: 173ms\n",
      "813:\tlearn: 0.0764081\ttotal: 752ms\tremaining: 172ms\n",
      "814:\tlearn: 0.0762761\ttotal: 753ms\tremaining: 171ms\n",
      "815:\tlearn: 0.0761286\ttotal: 753ms\tremaining: 170ms\n",
      "816:\tlearn: 0.0760654\ttotal: 754ms\tremaining: 169ms\n",
      "817:\tlearn: 0.0759527\ttotal: 755ms\tremaining: 168ms\n",
      "818:\tlearn: 0.0758456\ttotal: 756ms\tremaining: 167ms\n",
      "819:\tlearn: 0.0757062\ttotal: 757ms\tremaining: 166ms\n",
      "820:\tlearn: 0.0755732\ttotal: 757ms\tremaining: 165ms\n",
      "821:\tlearn: 0.0754851\ttotal: 758ms\tremaining: 164ms\n",
      "822:\tlearn: 0.0753704\ttotal: 759ms\tremaining: 163ms\n",
      "823:\tlearn: 0.0753132\ttotal: 760ms\tremaining: 162ms\n",
      "824:\tlearn: 0.0752072\ttotal: 761ms\tremaining: 161ms\n",
      "825:\tlearn: 0.0750868\ttotal: 762ms\tremaining: 160ms\n",
      "826:\tlearn: 0.0750411\ttotal: 762ms\tremaining: 159ms\n",
      "827:\tlearn: 0.0749531\ttotal: 763ms\tremaining: 159ms\n"
     ]
    },
    {
     "name": "stdout",
     "output_type": "stream",
     "text": [
      "828:\tlearn: 0.0748308\ttotal: 765ms\tremaining: 158ms\n",
      "829:\tlearn: 0.0746924\ttotal: 766ms\tremaining: 157ms\n",
      "830:\tlearn: 0.0745663\ttotal: 767ms\tremaining: 156ms\n",
      "831:\tlearn: 0.0743910\ttotal: 768ms\tremaining: 155ms\n",
      "832:\tlearn: 0.0743435\ttotal: 768ms\tremaining: 154ms\n",
      "833:\tlearn: 0.0742644\ttotal: 769ms\tremaining: 153ms\n",
      "834:\tlearn: 0.0742013\ttotal: 770ms\tremaining: 152ms\n",
      "835:\tlearn: 0.0740336\ttotal: 771ms\tremaining: 151ms\n",
      "836:\tlearn: 0.0739636\ttotal: 772ms\tremaining: 150ms\n",
      "837:\tlearn: 0.0738559\ttotal: 772ms\tremaining: 149ms\n",
      "838:\tlearn: 0.0737813\ttotal: 773ms\tremaining: 148ms\n",
      "839:\tlearn: 0.0736629\ttotal: 774ms\tremaining: 147ms\n",
      "840:\tlearn: 0.0736040\ttotal: 775ms\tremaining: 146ms\n",
      "841:\tlearn: 0.0734631\ttotal: 775ms\tremaining: 146ms\n",
      "842:\tlearn: 0.0732671\ttotal: 776ms\tremaining: 145ms\n",
      "843:\tlearn: 0.0731748\ttotal: 777ms\tremaining: 144ms\n",
      "844:\tlearn: 0.0730566\ttotal: 778ms\tremaining: 143ms\n",
      "845:\tlearn: 0.0729541\ttotal: 779ms\tremaining: 142ms\n",
      "846:\tlearn: 0.0728868\ttotal: 779ms\tremaining: 141ms\n",
      "847:\tlearn: 0.0728241\ttotal: 780ms\tremaining: 140ms\n",
      "848:\tlearn: 0.0727174\ttotal: 781ms\tremaining: 139ms\n",
      "849:\tlearn: 0.0726934\ttotal: 782ms\tremaining: 138ms\n",
      "850:\tlearn: 0.0726190\ttotal: 783ms\tremaining: 137ms\n",
      "851:\tlearn: 0.0726027\ttotal: 783ms\tremaining: 136ms\n",
      "852:\tlearn: 0.0725655\ttotal: 784ms\tremaining: 135ms\n",
      "853:\tlearn: 0.0725228\ttotal: 786ms\tremaining: 134ms\n",
      "854:\tlearn: 0.0724163\ttotal: 786ms\tremaining: 133ms\n",
      "855:\tlearn: 0.0723180\ttotal: 787ms\tremaining: 132ms\n",
      "856:\tlearn: 0.0721853\ttotal: 788ms\tremaining: 132ms\n",
      "857:\tlearn: 0.0720315\ttotal: 789ms\tremaining: 131ms\n",
      "858:\tlearn: 0.0719996\ttotal: 790ms\tremaining: 130ms\n",
      "859:\tlearn: 0.0719036\ttotal: 791ms\tremaining: 129ms\n",
      "860:\tlearn: 0.0718175\ttotal: 792ms\tremaining: 128ms\n",
      "861:\tlearn: 0.0716883\ttotal: 793ms\tremaining: 127ms\n",
      "862:\tlearn: 0.0715666\ttotal: 793ms\tremaining: 126ms\n",
      "863:\tlearn: 0.0714832\ttotal: 794ms\tremaining: 125ms\n",
      "864:\tlearn: 0.0713550\ttotal: 795ms\tremaining: 124ms\n",
      "865:\tlearn: 0.0711933\ttotal: 796ms\tremaining: 123ms\n",
      "866:\tlearn: 0.0710983\ttotal: 797ms\tremaining: 122ms\n",
      "867:\tlearn: 0.0709973\ttotal: 797ms\tremaining: 121ms\n",
      "868:\tlearn: 0.0707780\ttotal: 798ms\tremaining: 120ms\n",
      "869:\tlearn: 0.0706930\ttotal: 799ms\tremaining: 119ms\n",
      "870:\tlearn: 0.0705786\ttotal: 800ms\tremaining: 118ms\n",
      "871:\tlearn: 0.0705428\ttotal: 801ms\tremaining: 118ms\n",
      "872:\tlearn: 0.0704710\ttotal: 801ms\tremaining: 117ms\n",
      "873:\tlearn: 0.0703750\ttotal: 802ms\tremaining: 116ms\n",
      "874:\tlearn: 0.0702951\ttotal: 803ms\tremaining: 115ms\n",
      "875:\tlearn: 0.0702093\ttotal: 804ms\tremaining: 114ms\n",
      "876:\tlearn: 0.0701691\ttotal: 805ms\tremaining: 113ms\n",
      "877:\tlearn: 0.0700765\ttotal: 806ms\tremaining: 112ms\n",
      "878:\tlearn: 0.0699832\ttotal: 807ms\tremaining: 111ms\n",
      "879:\tlearn: 0.0698120\ttotal: 807ms\tremaining: 110ms\n",
      "880:\tlearn: 0.0697191\ttotal: 808ms\tremaining: 109ms\n",
      "881:\tlearn: 0.0696022\ttotal: 809ms\tremaining: 108ms\n",
      "882:\tlearn: 0.0695216\ttotal: 810ms\tremaining: 107ms\n",
      "883:\tlearn: 0.0693320\ttotal: 811ms\tremaining: 106ms\n",
      "884:\tlearn: 0.0692375\ttotal: 811ms\tremaining: 105ms\n",
      "885:\tlearn: 0.0690974\ttotal: 812ms\tremaining: 105ms\n",
      "886:\tlearn: 0.0690149\ttotal: 813ms\tremaining: 104ms\n",
      "887:\tlearn: 0.0689235\ttotal: 814ms\tremaining: 103ms\n",
      "888:\tlearn: 0.0688601\ttotal: 815ms\tremaining: 102ms\n",
      "889:\tlearn: 0.0688167\ttotal: 816ms\tremaining: 101ms\n",
      "890:\tlearn: 0.0686947\ttotal: 816ms\tremaining: 99.9ms\n",
      "891:\tlearn: 0.0686136\ttotal: 817ms\tremaining: 98.9ms\n",
      "892:\tlearn: 0.0685218\ttotal: 818ms\tremaining: 98ms\n",
      "893:\tlearn: 0.0684438\ttotal: 819ms\tremaining: 97.1ms\n",
      "894:\tlearn: 0.0683619\ttotal: 820ms\tremaining: 96.2ms\n",
      "895:\tlearn: 0.0682489\ttotal: 821ms\tremaining: 95.3ms\n",
      "896:\tlearn: 0.0681799\ttotal: 822ms\tremaining: 94.3ms\n",
      "897:\tlearn: 0.0681414\ttotal: 823ms\tremaining: 93.4ms\n",
      "898:\tlearn: 0.0680351\ttotal: 823ms\tremaining: 92.5ms\n",
      "899:\tlearn: 0.0679647\ttotal: 824ms\tremaining: 91.6ms\n",
      "900:\tlearn: 0.0679099\ttotal: 825ms\tremaining: 90.7ms\n",
      "901:\tlearn: 0.0678228\ttotal: 826ms\tremaining: 89.7ms\n",
      "902:\tlearn: 0.0677603\ttotal: 827ms\tremaining: 88.8ms\n",
      "903:\tlearn: 0.0676964\ttotal: 828ms\tremaining: 87.9ms\n",
      "904:\tlearn: 0.0676320\ttotal: 829ms\tremaining: 87ms\n",
      "905:\tlearn: 0.0675412\ttotal: 830ms\tremaining: 86.1ms\n",
      "906:\tlearn: 0.0674463\ttotal: 830ms\tremaining: 85.1ms\n",
      "907:\tlearn: 0.0673208\ttotal: 831ms\tremaining: 84.2ms\n",
      "908:\tlearn: 0.0672537\ttotal: 832ms\tremaining: 83.3ms\n",
      "909:\tlearn: 0.0671471\ttotal: 833ms\tremaining: 82.4ms\n",
      "910:\tlearn: 0.0670041\ttotal: 834ms\tremaining: 81.4ms\n",
      "911:\tlearn: 0.0669365\ttotal: 834ms\tremaining: 80.5ms\n",
      "912:\tlearn: 0.0668208\ttotal: 835ms\tremaining: 79.6ms\n",
      "913:\tlearn: 0.0667225\ttotal: 836ms\tremaining: 78.7ms\n",
      "914:\tlearn: 0.0666324\ttotal: 837ms\tremaining: 77.7ms\n",
      "915:\tlearn: 0.0665184\ttotal: 837ms\tremaining: 76.8ms\n",
      "916:\tlearn: 0.0664604\ttotal: 838ms\tremaining: 75.9ms\n",
      "917:\tlearn: 0.0663769\ttotal: 839ms\tremaining: 74.9ms\n",
      "918:\tlearn: 0.0662659\ttotal: 840ms\tremaining: 74ms\n",
      "919:\tlearn: 0.0661777\ttotal: 841ms\tremaining: 73.1ms\n",
      "920:\tlearn: 0.0660905\ttotal: 841ms\tremaining: 72.2ms\n",
      "921:\tlearn: 0.0660068\ttotal: 842ms\tremaining: 71.3ms\n",
      "922:\tlearn: 0.0659477\ttotal: 843ms\tremaining: 70.3ms\n",
      "923:\tlearn: 0.0658595\ttotal: 844ms\tremaining: 69.4ms\n",
      "924:\tlearn: 0.0658268\ttotal: 845ms\tremaining: 68.5ms\n",
      "925:\tlearn: 0.0657111\ttotal: 846ms\tremaining: 67.6ms\n",
      "926:\tlearn: 0.0656775\ttotal: 846ms\tremaining: 66.7ms\n",
      "927:\tlearn: 0.0655672\ttotal: 847ms\tremaining: 65.7ms\n",
      "928:\tlearn: 0.0654386\ttotal: 848ms\tremaining: 64.8ms\n",
      "929:\tlearn: 0.0653272\ttotal: 849ms\tremaining: 63.9ms\n",
      "930:\tlearn: 0.0652541\ttotal: 850ms\tremaining: 63ms\n",
      "931:\tlearn: 0.0651828\ttotal: 851ms\tremaining: 62.1ms\n",
      "932:\tlearn: 0.0651251\ttotal: 851ms\tremaining: 61.1ms\n",
      "933:\tlearn: 0.0650802\ttotal: 852ms\tremaining: 60.2ms\n",
      "934:\tlearn: 0.0650279\ttotal: 853ms\tremaining: 59.3ms\n",
      "935:\tlearn: 0.0648349\ttotal: 854ms\tremaining: 58.4ms\n",
      "936:\tlearn: 0.0647470\ttotal: 855ms\tremaining: 57.5ms\n",
      "937:\tlearn: 0.0646805\ttotal: 855ms\tremaining: 56.5ms\n",
      "938:\tlearn: 0.0645485\ttotal: 856ms\tremaining: 55.6ms\n",
      "939:\tlearn: 0.0644480\ttotal: 857ms\tremaining: 54.7ms\n",
      "940:\tlearn: 0.0643614\ttotal: 858ms\tremaining: 53.8ms\n",
      "941:\tlearn: 0.0642591\ttotal: 859ms\tremaining: 52.9ms\n",
      "942:\tlearn: 0.0641723\ttotal: 860ms\tremaining: 52ms\n",
      "943:\tlearn: 0.0641440\ttotal: 860ms\tremaining: 51ms\n",
      "944:\tlearn: 0.0640643\ttotal: 861ms\tremaining: 50.1ms\n",
      "945:\tlearn: 0.0639711\ttotal: 862ms\tremaining: 49.2ms\n",
      "946:\tlearn: 0.0639071\ttotal: 863ms\tremaining: 48.3ms\n",
      "947:\tlearn: 0.0638760\ttotal: 864ms\tremaining: 47.4ms\n",
      "948:\tlearn: 0.0637693\ttotal: 864ms\tremaining: 46.4ms\n",
      "949:\tlearn: 0.0636991\ttotal: 865ms\tremaining: 45.5ms\n",
      "950:\tlearn: 0.0636188\ttotal: 866ms\tremaining: 44.6ms\n",
      "951:\tlearn: 0.0635348\ttotal: 867ms\tremaining: 43.7ms\n",
      "952:\tlearn: 0.0634278\ttotal: 868ms\tremaining: 42.8ms\n",
      "953:\tlearn: 0.0633181\ttotal: 868ms\tremaining: 41.9ms\n",
      "954:\tlearn: 0.0632200\ttotal: 869ms\tremaining: 41ms\n",
      "955:\tlearn: 0.0632110\ttotal: 870ms\tremaining: 40ms\n",
      "956:\tlearn: 0.0631342\ttotal: 871ms\tremaining: 39.1ms\n",
      "957:\tlearn: 0.0630403\ttotal: 872ms\tremaining: 38.2ms\n"
     ]
    },
    {
     "name": "stdout",
     "output_type": "stream",
     "text": [
      "958:\tlearn: 0.0629157\ttotal: 873ms\tremaining: 37.3ms\n",
      "959:\tlearn: 0.0627953\ttotal: 874ms\tremaining: 36.4ms\n",
      "960:\tlearn: 0.0626861\ttotal: 874ms\tremaining: 35.5ms\n",
      "961:\tlearn: 0.0625205\ttotal: 875ms\tremaining: 34.6ms\n",
      "962:\tlearn: 0.0624462\ttotal: 876ms\tremaining: 33.7ms\n",
      "963:\tlearn: 0.0624146\ttotal: 877ms\tremaining: 32.7ms\n",
      "964:\tlearn: 0.0623527\ttotal: 878ms\tremaining: 31.8ms\n",
      "965:\tlearn: 0.0622228\ttotal: 879ms\tremaining: 30.9ms\n",
      "966:\tlearn: 0.0621320\ttotal: 879ms\tremaining: 30ms\n",
      "967:\tlearn: 0.0620398\ttotal: 880ms\tremaining: 29.1ms\n",
      "968:\tlearn: 0.0619668\ttotal: 881ms\tremaining: 28.2ms\n",
      "969:\tlearn: 0.0619182\ttotal: 882ms\tremaining: 27.3ms\n",
      "970:\tlearn: 0.0618434\ttotal: 883ms\tremaining: 26.4ms\n",
      "971:\tlearn: 0.0616888\ttotal: 884ms\tremaining: 25.5ms\n",
      "972:\tlearn: 0.0616311\ttotal: 885ms\tremaining: 24.6ms\n",
      "973:\tlearn: 0.0615472\ttotal: 886ms\tremaining: 23.6ms\n",
      "974:\tlearn: 0.0615072\ttotal: 886ms\tremaining: 22.7ms\n",
      "975:\tlearn: 0.0614421\ttotal: 887ms\tremaining: 21.8ms\n",
      "976:\tlearn: 0.0613348\ttotal: 888ms\tremaining: 20.9ms\n",
      "977:\tlearn: 0.0612718\ttotal: 889ms\tremaining: 20ms\n",
      "978:\tlearn: 0.0612032\ttotal: 890ms\tremaining: 19.1ms\n",
      "979:\tlearn: 0.0611146\ttotal: 891ms\tremaining: 18.2ms\n",
      "980:\tlearn: 0.0610119\ttotal: 892ms\tremaining: 17.3ms\n",
      "981:\tlearn: 0.0609221\ttotal: 893ms\tremaining: 16.4ms\n",
      "982:\tlearn: 0.0608544\ttotal: 894ms\tremaining: 15.5ms\n",
      "983:\tlearn: 0.0607299\ttotal: 894ms\tremaining: 14.5ms\n",
      "984:\tlearn: 0.0606779\ttotal: 895ms\tremaining: 13.6ms\n",
      "985:\tlearn: 0.0606170\ttotal: 896ms\tremaining: 12.7ms\n",
      "986:\tlearn: 0.0604830\ttotal: 897ms\tremaining: 11.8ms\n",
      "987:\tlearn: 0.0604349\ttotal: 898ms\tremaining: 10.9ms\n",
      "988:\tlearn: 0.0603561\ttotal: 898ms\tremaining: 9.99ms\n",
      "989:\tlearn: 0.0603436\ttotal: 899ms\tremaining: 9.08ms\n",
      "990:\tlearn: 0.0602311\ttotal: 900ms\tremaining: 8.17ms\n",
      "991:\tlearn: 0.0601460\ttotal: 901ms\tremaining: 7.26ms\n",
      "992:\tlearn: 0.0600449\ttotal: 902ms\tremaining: 6.36ms\n",
      "993:\tlearn: 0.0599895\ttotal: 902ms\tremaining: 5.45ms\n",
      "994:\tlearn: 0.0599347\ttotal: 903ms\tremaining: 4.54ms\n",
      "995:\tlearn: 0.0598443\ttotal: 904ms\tremaining: 3.63ms\n",
      "996:\tlearn: 0.0597025\ttotal: 905ms\tremaining: 2.72ms\n",
      "997:\tlearn: 0.0595956\ttotal: 906ms\tremaining: 1.81ms\n",
      "998:\tlearn: 0.0595420\ttotal: 907ms\tremaining: 907us\n",
      "999:\tlearn: 0.0594821\ttotal: 907ms\tremaining: 0us\n"
     ]
    },
    {
     "data": {
      "text/plain": [
       "<catboost.core.CatBoostRegressor at 0x7fc47820d580>"
      ]
     },
     "execution_count": 9,
     "metadata": {},
     "output_type": "execute_result"
    }
   ],
   "source": [
    "#Train the Model \n",
    "prior_model = ctb.CatBoostRegressor()\n",
    "prior_model.fit(X_train,Y_train)"
   ]
  },
  {
   "cell_type": "code",
   "execution_count": 10,
   "id": "af65dcda",
   "metadata": {
    "execution": {
     "iopub.execute_input": "2022-03-11T10:41:28.519404Z",
     "iopub.status.busy": "2022-03-11T10:41:28.519018Z",
     "iopub.status.idle": "2022-03-11T10:41:28.526910Z",
     "shell.execute_reply": "2022-03-11T10:41:28.527198Z"
    },
    "id": "af65dcda",
    "papermill": {
     "duration": 0.021019,
     "end_time": "2022-03-11T10:41:28.527314",
     "exception": false,
     "start_time": "2022-03-11T10:41:28.506295",
     "status": "completed"
    },
    "tags": []
   },
   "outputs": [
    {
     "data": {
      "application/scrapbook.scrap.json+json": {
       "data": 0.07683445138900234,
       "encoder": "json",
       "name": "Prior Model MSE",
       "version": 1
      }
     },
     "metadata": {
      "scrapbook": {
       "data": true,
       "display": false,
       "name": "Prior Model MSE"
      }
     },
     "output_type": "display_data"
    },
    {
     "data": {
      "application/scrapbook.scrap.json+json": {
       "data": 0.08478630197215668,
       "encoder": "json",
       "name": "ABC Pre-generator MSE",
       "version": 1
      }
     },
     "metadata": {
      "scrapbook": {
       "data": true,
       "display": false,
       "name": "ABC Pre-generator MSE"
      }
     },
     "output_type": "display_data"
    },
    {
     "data": {
      "application/scrapbook.scrap.json+json": {
       "data": 0.19419119704182342,
       "encoder": "json",
       "name": "Prior Model MAE",
       "version": 1
      }
     },
     "metadata": {
      "scrapbook": {
       "data": true,
       "display": false,
       "name": "Prior Model MAE"
      }
     },
     "output_type": "display_data"
    },
    {
     "data": {
      "application/scrapbook.scrap.json+json": {
       "data": 0.2088230224034169,
       "encoder": "json",
       "name": "ABC Pre-generator MAE",
       "version": 1
      }
     },
     "metadata": {
      "scrapbook": {
       "data": true,
       "display": false,
       "name": "ABC Pre-generator MAE"
      }
     },
     "output_type": "display_data"
    }
   ],
   "source": [
    "y_pred = prior_model.predict(X_test)\n",
    "y_abc = y_pred + np.random.normal(0,variance, y_pred.shape)\n",
    "mse = mean_squared_error(y_pred,Y_test)\n",
    "sb.glue(\"Prior Model MSE\",mse)\n",
    "mse = mean_squared_error(y_abc,Y_test)\n",
    "sb.glue(\"ABC Pre-generator MSE\",mse)\n",
    "\n",
    "mae = mean_absolute_error(y_pred,Y_test)\n",
    "sb.glue(\"Prior Model MAE\",mae)\n",
    "mae = mean_absolute_error(y_abc,Y_test)\n",
    "sb.glue(\"ABC Pre-generator MAE\",mae)"
   ]
  },
  {
   "cell_type": "markdown",
   "id": "25609da2",
   "metadata": {
    "papermill": {
     "duration": 0.009831,
     "end_time": "2022-03-11T10:41:28.547330",
     "exception": false,
     "start_time": "2022-03-11T10:41:28.537499",
     "status": "completed"
    },
    "tags": []
   },
   "source": [
    "# ABC GAN Model"
   ]
  },
  {
   "cell_type": "code",
   "execution_count": 11,
   "id": "dfc3464d",
   "metadata": {
    "execution": {
     "iopub.execute_input": "2022-03-11T10:41:28.569862Z",
     "iopub.status.busy": "2022-03-11T10:41:28.569485Z",
     "iopub.status.idle": "2022-03-11T10:41:28.572207Z",
     "shell.execute_reply": "2022-03-11T10:41:28.572451Z"
    },
    "papermill": {
     "duration": 0.01544,
     "end_time": "2022-03-11T10:41:28.572557",
     "exception": false,
     "start_time": "2022-03-11T10:41:28.557117",
     "status": "completed"
    },
    "tags": []
   },
   "outputs": [],
   "source": [
    "gen = network.Generator(n_features+1).to(device)\n",
    "disc = network.Discriminator(n_features+1).to(device)\n",
    "\n",
    "criterion = torch.nn.BCELoss()\n",
    "gen_opt = torch.optim.Adam(gen.parameters(), lr=0.001, betas=(0.5, 0.999))\n",
    "disc_opt = torch.optim.Adam(disc.parameters(), lr=0.001, betas=(0.5, 0.999))"
   ]
  },
  {
   "cell_type": "code",
   "execution_count": 12,
   "id": "b75fdd85",
   "metadata": {
    "execution": {
     "iopub.execute_input": "2022-03-11T10:41:28.594756Z",
     "iopub.status.busy": "2022-03-11T10:41:28.594387Z",
     "iopub.status.idle": "2022-03-11T10:42:04.134512Z",
     "shell.execute_reply": "2022-03-11T10:42:04.134823Z"
    },
    "papermill": {
     "duration": 35.552318,
     "end_time": "2022-03-11T10:42:04.134953",
     "exception": false,
     "start_time": "2022-03-11T10:41:28.582635",
     "status": "completed"
    },
    "tags": []
   },
   "outputs": [
    {
     "data": {
      "image/png": "[encoded data removed]",
      "text/plain": [
       "<Figure size 432x288 with 1 Axes>"
      ]
     },
     "metadata": {
      "needs_background": "light"
     },
     "output_type": "display_data"
    },
    {
     "data": {
      "image/png": "[encoded data removed]",
      "text/plain": [
       "<Figure size 432x288 with 1 Axes>"
      ]
     },
     "metadata": {
      "needs_background": "light"
     },
     "output_type": "display_data"
    }
   ],
   "source": [
    "#Training the ABC_GAN \n",
    "ABC_train_test2.training_GAN(disc,gen,disc_opt,gen_opt,train_data,batch_size,n_epochs,criterion,prior_model,variance,0,device)"
   ]
  },
  {
   "cell_type": "code",
   "execution_count": 13,
   "id": "1fa7c368",
   "metadata": {
    "execution": {
     "iopub.execute_input": "2022-03-11T10:42:04.159480Z",
     "iopub.status.busy": "2022-03-11T10:42:04.159046Z",
     "iopub.status.idle": "2022-03-11T10:42:04.463282Z",
     "shell.execute_reply": "2022-03-11T10:42:04.463668Z"
    },
    "papermill": {
     "duration": 0.317894,
     "end_time": "2022-03-11T10:42:04.463794",
     "exception": false,
     "start_time": "2022-03-11T10:42:04.145900",
     "status": "completed"
    },
    "tags": []
   },
   "outputs": [
    {
     "data": {
      "application/scrapbook.scrap.json+json": {
       "data": 0.08747586030868372,
       "encoder": "json",
       "name": "ABC-GAN Model 1 MSE",
       "version": 1
      }
     },
     "metadata": {
      "scrapbook": {
       "data": true,
       "display": false,
       "name": "ABC-GAN Model 1 MSE"
      }
     },
     "output_type": "display_data"
    },
    {
     "data": {
      "application/scrapbook.scrap.json+json": {
       "data": 0.21532750560810754,
       "encoder": "json",
       "name": "ABC-GAN Model 1 MAE",
       "version": 1
      }
     },
     "metadata": {
      "scrapbook": {
       "data": true,
       "display": false,
       "name": "ABC-GAN Model 1 MAE"
      }
     },
     "output_type": "display_data"
    },
    {
     "data": {
      "application/scrapbook.scrap.json+json": {
       "data": 21.963405572026968,
       "encoder": "json",
       "name": "ABC-GAN Model 1 Manhattan Distance",
       "version": 1
      }
     },
     "metadata": {
      "scrapbook": {
       "data": true,
       "display": false,
       "name": "ABC-GAN Model 1 Manhattan Distance"
      }
     },
     "output_type": "display_data"
    },
    {
     "data": {
      "application/scrapbook.scrap.json+json": {
       "data": 2.9861382971812427,
       "encoder": "json",
       "name": "ABC-GAN Model 1 Euclidean distance",
       "version": 1
      }
     },
     "metadata": {
      "scrapbook": {
       "data": true,
       "display": false,
       "name": "ABC-GAN Model 1 Euclidean distance"
      }
     },
     "output_type": "display_data"
    },
    {
     "data": {
      "application/scrapbook.scrap.json+json": {
       "data": [
        [
         0.08315995427919345,
         0.08390477773065991,
         0.08475323143172112,
         0.0908201624475362,
         0.07879374540320369,
         0.0899386926735032,
         0.08899669918976466,
         0.08550170072090928,
         0.07824154769327611,
         0.08589885393045758,
         0.09175684289582539,
         0.09573989957955771,
         0.09189073870148921,
         0.09227544180912524,
         0.09219832905948595,
         0.07854844727552426,
         0.08340060096294093,
         0.08358089052576037,
         0.0861342536421963,
         0.09262190445878338,
         0.09425075460811977,
         0.08650137644550672,
         0.08879517677806233,
         0.08948905473879795,
         0.08868877521561987,
         0.09030498856376247,
         0.092073254611438,
         0.0855866398937808,
         0.09114980732634557,
         0.08999204808060397,
         0.09069248320709908,
         0.09211722542807416,
         0.08346744761166378,
         0.09528023387133576,
         0.08545192628179062,
         0.08563575621531679,
         0.08242655969751081,
         0.08106689531742949,
         0.09145322387102732,
         0.08712002351924857,
         0.0904033604078959,
         0.09111174170663361,
         0.08515873018420725,
         0.085882084206183,
         0.08591706190329772,
         0.08240741660305466,
         0.09068083330212443,
         0.09133918320344328,
         0.08741386377758842,
         0.08105038263393492,
         0.09101307446709611,
         0.08639954237904181,
         0.08664167590257404,
         0.08857747233480237,
         0.08885803140980524,
         0.08602173675445869,
         0.08463829592744637,
         0.09103325629506061,
         0.08368472719593656,
         0.07871017575627522,
         0.09266691938511779,
         0.09268590653603197,
         0.08225031089170953,
         0.08821552800590131,
         0.08927426442352389,
         0.08195184203929891,
         0.08252815292596269,
         0.08221006452857758,
         0.08232611853617286,
         0.09210669920544381,
         0.08773506530437952,
         0.09052139063463928,
         0.08361967052631152,
         0.07926658541248119,
         0.0896222897038782,
         0.08970140080692099,
         0.09471767999285814,
         0.09018310027475777,
         0.0938416297805711,
         0.08600466131502785,
         0.08308102542889344,
         0.08623406085074052,
         0.08999673547235212,
         0.08390897918003253,
         0.08736976405542411,
         0.0935560537720423,
         0.08319767385698651,
         0.09132839730334286,
         0.0956851976527328,
         0.0922281347469199,
         0.09261982088547563,
         0.0906555185930743,
         0.0877994788293594,
         0.08897694553109621,
         0.08102090860974318,
         0.08488562164231794,
         0.08362956087727969,
         0.08785949531952386,
         0.07862256070575906,
         0.0868578052814019
        ],
        [
         0.20921696916989543,
         0.2090495632431817,
         0.21497261357110212,
         0.22252172700074666,
         0.2055114450061,
         0.21202555317979524,
         0.21680048759113632,
         0.21899016410587172,
         0.2021085002423063,
         0.20723698468075372,
         0.22222782365576016,
         0.2157123149920474,
         0.219328097241255,
         0.21835952001057712,
         0.22558804109290825,
         0.2030699733809075,
         0.20819793426997812,
         0.2118787175026156,
         0.21834644508164594,
         0.21652173774097772,
         0.22526316371216787,
         0.21844347001181222,
         0.21688519459327354,
         0.21551539380943366,
         0.20277877470624506,
         0.22037269895458045,
         0.22178808965848065,
         0.21216642444807232,
         0.22290406738608784,
         0.21539179298698025,
         0.21747049321329184,
         0.2285897968903038,
         0.21414370083377934,
         0.22599204583093524,
         0.21926219185229903,
         0.21021878260059976,
         0.2055887407258007,
         0.20982200240570248,
         0.21247202633679205,
         0.20794214104649192,
         0.21992127214759297,
         0.2113793123896946,
         0.21300237349179738,
         0.21129500837631376,
         0.2083639812327045,
         0.2031502236940843,
         0.21499116219324516,
         0.22129099327596088,
         0.21737846371480354,
         0.20940468322449163,
         0.21707590593609447,
         0.2031759977724184,
         0.2123085380641415,
         0.2170647761565359,
         0.21407700918943567,
         0.21723169282845714,
         0.21378605506912457,
         0.21729730249510384,
         0.20969766441403942,
         0.20184641416348956,
         0.22067976338496686,
         0.221010502838694,
         0.20693592103563396,
         0.21361906677667125,
         0.21944604687137054,
         0.21026560844050027,
         0.22022624230742746,
         0.21679210484794834,
         0.2046574648268813,
         0.21768396681028546,
         0.2144223251927863,
         0.22262420466023625,
         0.2082781853501265,
         0.20767135506349743,
         0.22292948146259375,
         0.21986312617310413,
         0.2260113964496436,
         0.22795698160816932,
         0.22691462617184893,
         0.21290196011792503,
         0.2132802661599628,
         0.21375575235259592,
         0.21829210270159677,
         0.2111029715240732,
         0.21466813697570972,
         0.22761448941138737,
         0.22071653484896409,
         0.21448740630648008,
         0.22557806264718666,
         0.21989668245591662,
         0.22449657084493368,
         0.2208392793659632,
         0.21913216282230089,
         0.21779466454195334,
         0.2104596709741243,
         0.21353943204945502,
         0.21273014837802917,
         0.22137855976710424,
         0.20341631745481314,
         0.21426658424567066
        ],
        [
         21.340130855329335,
         21.32305545080453,
         21.927206584252417,
         22.69721615407616,
         20.9621673906222,
         21.626606424339116,
         22.113649734295905,
         22.336996738798916,
         20.615067024715245,
         21.13817243743688,
         22.667238012887537,
         22.002656129188836,
         22.37146591860801,
         22.272671041078866,
         23.009980191476643,
         20.713137284852564,
         21.23618929553777,
         21.611629185266793,
         22.271337398327887,
         22.085217249579728,
         22.97684269864112,
         22.281233941204846,
         22.1222898485139,
         21.982570168562233,
         20.683435020036995,
         22.478015293367207,
         22.622385145165026,
         21.640975293703377,
         22.73621487338096,
         21.969962884671986,
         22.18199030775577,
         23.316159282810986,
         21.842657485045493,
         23.051188674755394,
         22.3647435689345,
         21.442315825261176,
         20.97005155403167,
         21.401844245381653,
         21.67214668635279,
         21.210098386742175,
         22.431969759054482,
         21.56068986374885,
         21.726242096163332,
         21.552090854384005,
         21.253126085735857,
         20.7213228167966,
         21.929098543711007,
         22.57168131414801,
         22.172603298909962,
         21.359277688898146,
         22.141742405481637,
         20.723951772786677,
         21.65547088254243,
         22.140607167966664,
         21.835854937322438,
         22.15763266850263,
         21.806177617050707,
         22.16432485450059,
         21.389161770232022,
         20.588334244675934,
         22.50933586526662,
         22.543071289546788,
         21.107463945634663,
         21.789144811220467,
         22.383496780879796,
         21.447092060931027,
         22.4630767153576,
         22.11279469449073,
         20.875061412341893,
         22.203764614649117,
         21.871077169664204,
         22.707668875344098,
         21.244374905712903,
         21.18247821647674,
         22.738807109184563,
         22.426038869656622,
         23.053162437863648,
         23.251612124033272,
         23.14529186952859,
         21.715999932028353,
         21.754587148316205,
         21.803086739964783,
         22.26579447556287,
         21.532503095455468,
         21.89614997152239,
         23.216677919961512,
         22.513086554594338,
         21.877715443260968,
         23.00896239001304,
         22.429461610503495,
         22.898650226183236,
         22.525606495328248,
         22.35148060787469,
         22.21505578327924,
         21.466886439360678,
         21.78102206904441,
         21.698475134558976,
         22.580613096244633,
         20.748464380390942,
         21.855191593058407
        ],
        [
         2.9124414734853867,
         2.9254550634947907,
         2.9402091092362035,
         3.0436255633123945,
         2.8349536206306407,
         3.0288193496306985,
         3.012916082030164,
         2.95316329950322,
         2.825002276939642,
         2.960014037282031,
         3.059280630372798,
         3.124975161039666,
         3.061511938169097,
         3.0679137967894037,
         3.066631631622482,
         2.830537338051465,
         2.916652412993357,
         2.9198032183055687,
         2.9640671165653485,
         3.0736678829691253,
         3.1005768769743822,
         2.970377147340331,
         3.009502954203959,
         3.021238749810645,
         3.0076992987985394,
         3.0349808621313854,
         3.0645508594844166,
         2.9546298023890647,
         3.049144199162652,
         3.0297176278032256,
         3.0414853751290845,
         3.0652825308058578,
         2.9178210459844354,
         3.1174643309709644,
         2.952303588851025,
         2.955477479860456,
         2.899570500806301,
         2.8755561761818886,
         3.0542149293795258,
         2.980980107106277,
         3.036633458553301,
         3.048507446944591,
         2.9472343779871224,
         2.9597250867319866,
         2.960327737622368,
         2.8992337769679035,
         3.041290021819144,
         3.052310057440301,
         2.986003031698732,
         2.8752632972758096,
         3.046856346407523,
         2.9686281886861923,
         2.9727850480757185,
         3.005811400961451,
         3.010567920476157,
         2.962130508427133,
         2.9382147955177698,
         3.0471941425016196,
         2.921616363245785,
         2.833449827884741,
         3.0744147048311503,
         3.0747296574943395,
         2.896468834797705,
         2.999663957279537,
         3.017610805123722,
         2.8912087243933953,
         2.9013568547230086,
         2.8957601043447836,
         2.8978033216023533,
         3.0651073910966424,
         2.991484023197635,
         3.038615119545943,
         2.9204805073281643,
         2.8434471530297665,
         3.0234869852201403,
         3.024821132283021,
         3.108247634805105,
         3.032931952422489,
         3.093840047193496,
         2.9618365002364393,
         2.911059015847519,
         2.965783911004902,
         3.0297965308218164,
         2.9255283072230416,
         2.985249727184186,
         3.0891289200595557,
         2.913101909204795,
         3.0521298342208465,
         3.124082290942212,
         3.067127278771755,
         3.073633310972295,
         3.040865484774619,
         2.9925819689015465,
         3.012581690871106,
         2.8747404540573402,
         2.942504614697558,
         2.920653216231349,
         2.993604603582683,
         2.8318723827156163,
         2.976490574267453
        ]
       ],
       "encoder": "json",
       "name": "ABC_GAN_1 Metrics",
       "version": 1
      }
     },
     "metadata": {
      "scrapbook": {
       "data": true,
       "display": false,
       "name": "ABC_GAN_1 Metrics"
      }
     },
     "output_type": "display_data"
    },
    {
     "name": "stdout",
     "output_type": "stream",
     "text": [
      "MSE\n",
      "0.08747586030868372\n"
     ]
    }
   ],
   "source": [
    "ABC_GAN1_metrics=ABC_train_test2.test_generator(gen,test_data,prior_model,variance,0,\"1\",device)\n",
    "sb.glue(\"ABC_GAN_1 Metrics\",ABC_GAN1_metrics)\n",
    "\n",
    "print(\"MSE\")\n",
    "print(mean(ABC_GAN1_metrics[0]))"
   ]
  },
  {
   "cell_type": "code",
   "execution_count": 14,
   "id": "eb22ce5c",
   "metadata": {
    "execution": {
     "iopub.execute_input": "2022-03-11T10:42:04.491267Z",
     "iopub.status.busy": "2022-03-11T10:42:04.490900Z",
     "iopub.status.idle": "2022-03-11T10:42:04.816621Z",
     "shell.execute_reply": "2022-03-11T10:42:04.816919Z"
    },
    "papermill": {
     "duration": 0.340524,
     "end_time": "2022-03-11T10:42:04.817041",
     "exception": false,
     "start_time": "2022-03-11T10:42:04.476517",
     "status": "completed"
    },
    "tags": []
   },
   "outputs": [
    {
     "data": {
      "image/png": "[encoded data removed]",
      "text/plain": [
       "<Figure size 432x288 with 1 Axes>"
      ]
     },
     "metadata": {
      "needs_background": "light"
     },
     "output_type": "display_data"
    },
    {
     "data": {
      "image/png": "[encoded data removed]",
      "text/plain": [
       "<Figure size 432x288 with 1 Axes>"
      ]
     },
     "metadata": {
      "needs_background": "light"
     },
     "output_type": "display_data"
    },
    {
     "data": {
      "image/png": "[encoded data removed]",
      "text/plain": [
       "<Figure size 432x288 with 1 Axes>"
      ]
     },
     "metadata": {
      "needs_background": "light"
     },
     "output_type": "display_data"
    },
    {
     "data": {
      "image/png": "[encoded data removed]",
      "text/plain": [
       "<Figure size 432x288 with 1 Axes>"
      ]
     },
     "metadata": {
      "needs_background": "light"
     },
     "output_type": "display_data"
    }
   ],
   "source": [
    "sanityChecks.discProbVsError(train_data,disc,device)\n",
    "sanityChecks.discProbVsError(test_data,disc,device)"
   ]
  },
  {
   "cell_type": "markdown",
   "id": "130f3a4d",
   "metadata": {
    "id": "130f3a4d",
    "papermill": {
     "duration": 0.014495,
     "end_time": "2022-03-11T10:42:04.846863",
     "exception": false,
     "start_time": "2022-03-11T10:42:04.832368",
     "status": "completed"
    },
    "tags": []
   },
   "source": [
    "# ABC - GAN Model with skip connection"
   ]
  },
  {
   "cell_type": "code",
   "execution_count": 15,
   "id": "4e43dad1",
   "metadata": {
    "execution": {
     "iopub.execute_input": "2022-03-11T10:42:04.879165Z",
     "iopub.status.busy": "2022-03-11T10:42:04.878800Z",
     "iopub.status.idle": "2022-03-11T10:42:04.881276Z",
     "shell.execute_reply": "2022-03-11T10:42:04.881536Z"
    },
    "id": "4e43dad1",
    "papermill": {
     "duration": 0.020248,
     "end_time": "2022-03-11T10:42:04.881649",
     "exception": false,
     "start_time": "2022-03-11T10:42:04.861401",
     "status": "completed"
    },
    "tags": []
   },
   "outputs": [],
   "source": [
    "#Generator\n",
    "gen3 = network.GeneratorWithSkipConnection(n_features+1).to(device)\n",
    "constraints=network.weightConstraint()\n",
    "#Discriminator \n",
    "disc3 = network.Discriminator(n_features+1).to(device)\n",
    "\n",
    "criterion = torch.nn.BCELoss()\n",
    "gen_opt = torch.optim.Adam(gen3.parameters(), lr=0.001, betas=(0.5, 0.999))\n",
    "disc_opt = torch.optim.Adam(disc3.parameters(), lr=0.001, betas=(0.5, 0.999))\n"
   ]
  },
  {
   "cell_type": "code",
   "execution_count": 16,
   "id": "26acbc37",
   "metadata": {
    "execution": {
     "iopub.execute_input": "2022-03-11T10:42:04.913565Z",
     "iopub.status.busy": "2022-03-11T10:42:04.913188Z",
     "iopub.status.idle": "2022-03-11T10:44:29.775938Z",
     "shell.execute_reply": "2022-03-11T10:44:29.776269Z"
    },
    "id": "26acbc37",
    "papermill": {
     "duration": 144.879913,
     "end_time": "2022-03-11T10:44:29.776394",
     "exception": false,
     "start_time": "2022-03-11T10:42:04.896481",
     "status": "completed"
    },
    "tags": []
   },
   "outputs": [
    {
     "data": {
      "image/png": "[encoded data removed]",
      "text/plain": [
       "<Figure size 432x288 with 1 Axes>"
      ]
     },
     "metadata": {
      "needs_background": "light"
     },
     "output_type": "display_data"
    },
    {
     "data": {
      "image/png": "[encoded data removed]",
      "text/plain": [
       "<Figure size 432x288 with 1 Axes>"
      ]
     },
     "metadata": {
      "needs_background": "light"
     },
     "output_type": "display_data"
    }
   ],
   "source": [
    "ABC_train_test2.training_GAN_skip_connection(disc3,gen3,disc_opt,gen_opt,train_data,batch_size,n_epochs,criterion,prior_model,variance,0,device)"
   ]
  },
  {
   "cell_type": "code",
   "execution_count": 17,
   "id": "c5e0717b",
   "metadata": {
    "execution": {
     "iopub.execute_input": "2022-03-11T10:44:29.810662Z",
     "iopub.status.busy": "2022-03-11T10:44:29.810275Z",
     "iopub.status.idle": "2022-03-11T10:44:30.607316Z",
     "shell.execute_reply": "2022-03-11T10:44:30.607621Z"
    },
    "id": "c5e0717b",
    "papermill": {
     "duration": 0.815523,
     "end_time": "2022-03-11T10:44:30.607747",
     "exception": false,
     "start_time": "2022-03-11T10:44:29.792224",
     "status": "completed"
    },
    "tags": []
   },
   "outputs": [
    {
     "data": {
      "application/scrapbook.scrap.json+json": {
       "data": 0.08487196139118236,
       "encoder": "json",
       "name": "ABC-GAN Model 3 MSE",
       "version": 1
      }
     },
     "metadata": {
      "scrapbook": {
       "data": true,
       "display": false,
       "name": "ABC-GAN Model 3 MSE"
      }
     },
     "output_type": "display_data"
    },
    {
     "data": {
      "application/scrapbook.scrap.json+json": {
       "data": 0.20555768227145332,
       "encoder": "json",
       "name": "ABC-GAN Model 3 MAE",
       "version": 1
      }
     },
     "metadata": {
      "scrapbook": {
       "data": true,
       "display": false,
       "name": "ABC-GAN Model 3 MAE"
      }
     },
     "output_type": "display_data"
    },
    {
     "data": {
      "application/scrapbook.scrap.json+json": {
       "data": 20.966883591688237,
       "encoder": "json",
       "name": "ABC-GAN Model 3 Manhattan Distance",
       "version": 1
      }
     },
     "metadata": {
      "scrapbook": {
       "data": true,
       "display": false,
       "name": "ABC-GAN Model 3 Manhattan Distance"
      }
     },
     "output_type": "display_data"
    },
    {
     "data": {
      "application/scrapbook.scrap.json+json": {
       "data": 2.9416498230077104,
       "encoder": "json",
       "name": "ABC-GAN Model 3 Euclidean distance",
       "version": 1
      }
     },
     "metadata": {
      "scrapbook": {
       "data": true,
       "display": false,
       "name": "ABC-GAN Model 3 Euclidean distance"
      }
     },
     "output_type": "display_data"
    },
    {
     "data": {
      "application/scrapbook.scrap.json+json": {
       "data": [
        [
         0.08909614191853113,
         0.09055213000293516,
         0.08007192519710084,
         0.08298226936308264,
         0.08550033795494856,
         0.08379757389564924,
         0.08571920469579912,
         0.08848742321755754,
         0.07623677526219526,
         0.08797086390839697,
         0.07876251525790506,
         0.0841475830339236,
         0.08983698608198117,
         0.08283092358232584,
         0.08138172628018056,
         0.0830935807727629,
         0.08865218799595968,
         0.08363760906417161,
         0.08789106878343272,
         0.0792593438314683,
         0.09122929779975597,
         0.07923935371626355,
         0.09055281784961174,
         0.08520750830628246,
         0.08499098777592956,
         0.08955389914773963,
         0.08467090359033365,
         0.08102001461792825,
         0.08680306279943616,
         0.08566960483579567,
         0.08962583371081162,
         0.08825937361573,
         0.08542923062740418,
         0.08512898080323325,
         0.07573016898046808,
         0.08527273200159109,
         0.08507500641436824,
         0.0851652721713864,
         0.08815639844457956,
         0.0848184960570388,
         0.08574403967551276,
         0.08305838512429448,
         0.0851343527210842,
         0.0834313491687801,
         0.08455915615804267,
         0.08471525514068272,
         0.0869749759484372,
         0.08538583041030609,
         0.0906309326998381,
         0.0864559252914863,
         0.08037998277717953,
         0.08224667435776654,
         0.08153200596678857,
         0.08186105228824996,
         0.08499569891205516,
         0.07969774135607365,
         0.085951551357761,
         0.07895624820547634,
         0.08516081090291179,
         0.08161263736702404,
         0.0822771116640955,
         0.08442990317088973,
         0.08299159171255398,
         0.08278163591863003,
         0.08297423643446482,
         0.08363504926249171,
         0.08619515924049775,
         0.0846995435284068,
         0.08086549101181877,
         0.08964063745531713,
         0.08459673740407304,
         0.08715934235043943,
         0.08706099853014772,
         0.0862042677630822,
         0.08157887137539703,
         0.07813475253972857,
         0.08998409793302715,
         0.08766944554094232,
         0.07748800165777583,
         0.08830960736284844,
         0.08783472381067516,
         0.09240397218950015,
         0.08649513374247099,
         0.08312949886688796,
         0.08563803004522963,
         0.08414753349718997,
         0.07884127651480016,
         0.08755235397218364,
         0.08709074395950597,
         0.08373242142907517,
         0.08387742257181523,
         0.08500483307962245,
         0.08606963963844302,
         0.08674922859702473,
         0.08987679625291352,
         0.08248511504801283,
         0.0821139558772931,
         0.08601700861306043,
         0.08932626985244696,
         0.09014198050771029
        ],
        [
         0.2085660204163515,
         0.20726124048415645,
         0.1992352579756841,
         0.20618355516161696,
         0.20129764022981272,
         0.20589157243204467,
         0.2035757851348642,
         0.20607610371000334,
         0.19854186026963824,
         0.20847614057471647,
         0.1959926028115054,
         0.20487271659258827,
         0.21340702378245838,
         0.19897144091516442,
         0.1991898581915188,
         0.20216581865451208,
         0.21457836409008094,
         0.2035646541683259,
         0.2106766983884953,
         0.20158982318004265,
         0.2099891892707377,
         0.20113779039249993,
         0.20807460988597834,
         0.20662151738161258,
         0.2024223184505222,
         0.20644394108368194,
         0.20877645753652735,
         0.20216396013640014,
         0.21304828009805551,
         0.2096439494532259,
         0.20985222942944542,
         0.210048537473103,
         0.21097053453216658,
         0.20663083096345267,
         0.19384312396869063,
         0.20633231359990498,
         0.20915195386966362,
         0.20459678945332474,
         0.208415902119276,
         0.20441022189334035,
         0.20144631537407928,
         0.20449793417298912,
         0.20922212141072927,
         0.20614076799293066,
         0.20053890109171763,
         0.2050068236102222,
         0.20680123648843637,
         0.2023648938584123,
         0.21136892089328052,
         0.21565379758420236,
         0.19999220358280867,
         0.20284684306448875,
         0.20337979879924187,
         0.20200737194139876,
         0.20455566882247142,
         0.1997896541439581,
         0.20699198729376875,
         0.1973089478161259,
         0.20922710513696074,
         0.20480099777855418,
         0.20219907676801085,
         0.20017171578993107,
         0.20586582750775942,
         0.19897211921017835,
         0.20236154171802542,
         0.20279091344598463,
         0.20564184904865482,
         0.20667871943328017,
         0.20073629062001905,
         0.21390456082664577,
         0.20591580549108923,
         0.20959566337257332,
         0.20688099957381687,
         0.212657519607056,
         0.20218590735549144,
         0.20132348271013767,
         0.2064513801049222,
         0.20831079464223162,
         0.19747543861797334,
         0.21020712057932042,
         0.21234211372211576,
         0.21399090684694694,
         0.20777131524850048,
         0.2022537507628109,
         0.20060651089229128,
         0.2036448739122088,
         0.19975487574679301,
         0.20890774645422602,
         0.20623475829066307,
         0.20617510510754644,
         0.20338561435175292,
         0.20401978831482576,
         0.2059699946046606,
         0.20909623994364165,
         0.20702870149055824,
         0.20661790136649621,
         0.19957157028108544,
         0.21325521340009337,
         0.20930163536732102,
         0.21888196560572468
        ],
        [
         21.273734082467854,
         21.140646529383957,
         20.321996313519776,
         21.03072262648493,
         20.5323593034409,
         21.000940388068557,
         20.76473008375615,
         21.01976257842034,
         20.251269747503102,
         21.26456633862108,
         19.99124548677355,
         20.897017092444003,
         21.767516425810754,
         20.29508697334677,
         20.31736553553492,
         20.62091350276023,
         21.886993137188256,
         20.76359472516924,
         21.48902323562652,
         20.56216196436435,
         21.418897305615246,
         20.516054620034993,
         21.22361020836979,
         21.075394772924483,
         20.647076481953263,
         21.057281990535557,
         21.29519866872579,
         20.620723933912814,
         21.730924570001662,
         21.383682844229043,
         21.404927401803434,
         21.424950822256505,
         21.51899452228099,
         21.07634475827217,
         19.771998644806445,
         21.045895987190306,
         21.33349929470569,
         20.868872524239123,
         21.25842201616615,
         20.849842633120716,
         20.547524168156087,
         20.85878928564489,
         21.340656383894384,
         21.02635833527893,
         20.454967911355197,
         20.910696008242667,
         21.09372612182051,
         20.641219173558056,
         21.559629931114614,
         21.99668735358864,
         20.399204765446484,
         20.69037799257785,
         20.74473947752267,
         20.604751938022673,
         20.864678219892085,
         20.378544722683728,
         21.113182703964412,
         20.125512677244842,
         21.341164723969996,
         20.889701773412526,
         20.624305830337107,
         20.41751501057297,
         20.99831440579146,
         20.295156159438193,
         20.640877255238593,
         20.68467317149043,
         20.975468602962792,
         21.08122938219458,
         20.475101643241942,
         21.818265204317868,
         21.003412160091102,
         21.378757664002478,
         21.10186195652932,
         21.691066999919713,
         20.622962550260127,
         20.534995236434042,
         21.058040770702064,
         21.247701053507626,
         20.142494739033282,
         21.441126299090683,
         21.658895599655807,
         21.82707249838859,
         21.19267415534705,
         20.62988257780671,
         20.46186411101371,
         20.771777139045298,
         20.37499732617289,
         21.308590138331056,
         21.035945345647633,
         21.029860720969737,
         20.7453326638788,
         20.810018408112228,
         21.00893944967538,
         21.32781647425145,
         21.11692755203694,
         21.075025939382613,
         20.356300168670714,
         21.752031766809523,
         21.348766807466745,
         22.325960491783917
        ],
        [
         3.0145988913436184,
         3.0391310041357857,
         2.857855204537887,
         2.9093283546266187,
         2.953139764962836,
         2.923585561832631,
         2.956917124129709,
         3.004283137154497,
         2.7885750979207846,
         2.99550131341258,
         2.834391743620898,
         2.9296848754533666,
         3.0271063047673232,
         2.906674079665148,
         2.8811345127533383,
         2.911278969597695,
         3.0070788442586416,
         2.9207937490595772,
         2.9941424508379924,
         2.8433172652396292,
         3.0504734674432274,
         2.8429586840224887,
         3.0391425469464894,
         2.9480783312593326,
         2.9443302724295064,
         3.0223331571932044,
         2.938780727821324,
         2.87472459394438,
         2.9755524538381923,
         2.9560615171628544,
         3.023546764728931,
         3.000409323543116,
         2.95191150341524,
         2.9467195390687917,
         2.7792943773569116,
         2.949206446514433,
         2.9457852355977274,
         2.9473475807039478,
         2.998658473609009,
         2.941340952323949,
         2.957345439224559,
         2.9106623443261217,
         2.946812511435125,
         2.917190020416149,
         2.9368408074188066,
         2.9395503098857887,
         2.9784975317667453,
         2.9511615851815405,
         3.0404531134986255,
         2.969596669538071,
         2.86334738431653,
         2.8964048032849594,
         2.8837934406979344,
         2.8896067783353314,
         2.9444118748961774,
         2.8511698683732454,
         2.960921856194726,
         2.8378754935617923,
         2.9472703832694074,
         2.885219057790318,
         2.89694069489483,
         2.9345953934794404,
         2.909491769137783,
         2.9058091581692462,
         2.909187535432429,
         2.920749052002612,
         2.9651148784711143,
         2.939277707175267,
         2.871981908579076,
         3.0237964581701506,
         2.937493355773839,
         2.981652716153379,
         2.9799701089230854,
         2.9652715409949186,
         2.884622138216806,
         2.8230736368455416,
         3.0295837980106723,
         2.9903651023204696,
         2.8113655345922437,
         3.0012630592819645,
         2.9931825585301115,
         3.0700497004656153,
         2.9702699610863728,
         2.9119081174416497,
         2.9555167170248624,
         2.9296840131170074,
         2.8358085627400196,
         2.9883674648815743,
         2.9804791366271313,
         2.9224487995114075,
         2.924978137067891,
         2.944570083071804,
         2.962955153747891,
         2.974629610034923,
         3.027776943203904,
         2.900600237002215,
         2.8940669479961754,
         2.9620491013033803,
         3.0184896098793494,
         3.032240427767305
        ]
       ],
       "encoder": "json",
       "name": "ABC_GAN_3 Metrics",
       "version": 1
      }
     },
     "metadata": {
      "scrapbook": {
       "data": true,
       "display": false,
       "name": "ABC_GAN_3 Metrics"
      }
     },
     "output_type": "display_data"
    },
    {
     "name": "stdout",
     "output_type": "stream",
     "text": [
      "MSE\n",
      "0.08487196139118236\n"
     ]
    }
   ],
   "source": [
    "ABC_GAN3_metrics=ABC_train_test2.test_generator(gen3,test_data,prior_model,variance,0,\"3\",device)\n",
    "sb.glue(\"ABC_GAN_3 Metrics\",ABC_GAN3_metrics)\n",
    "\n",
    "print(\"MSE\")\n",
    "print(mean(ABC_GAN3_metrics[0]))"
   ]
  },
  {
   "cell_type": "code",
   "execution_count": 18,
   "id": "c8e46b48",
   "metadata": {
    "execution": {
     "iopub.execute_input": "2022-03-11T10:44:30.646713Z",
     "iopub.status.busy": "2022-03-11T10:44:30.646305Z",
     "iopub.status.idle": "2022-03-11T10:44:30.964762Z",
     "shell.execute_reply": "2022-03-11T10:44:30.965079Z"
    },
    "id": "c8e46b48",
    "papermill": {
     "duration": 0.339459,
     "end_time": "2022-03-11T10:44:30.965205",
     "exception": false,
     "start_time": "2022-03-11T10:44:30.625746",
     "status": "completed"
    },
    "tags": []
   },
   "outputs": [
    {
     "data": {
      "image/png": "[encoded data removed]",
      "text/plain": [
       "<Figure size 432x288 with 1 Axes>"
      ]
     },
     "metadata": {
      "needs_background": "light"
     },
     "output_type": "display_data"
    },
    {
     "data": {
      "image/png": "[encoded data removed]",
      "text/plain": [
       "<Figure size 432x288 with 1 Axes>"
      ]
     },
     "metadata": {
      "needs_background": "light"
     },
     "output_type": "display_data"
    },
    {
     "data": {
      "image/png": "[encoded data removed]",
      "text/plain": [
       "<Figure size 432x288 with 1 Axes>"
      ]
     },
     "metadata": {
      "needs_background": "light"
     },
     "output_type": "display_data"
    },
    {
     "data": {
      "image/png": "[encoded data removed]",
      "text/plain": [
       "<Figure size 432x288 with 1 Axes>"
      ]
     },
     "metadata": {
      "needs_background": "light"
     },
     "output_type": "display_data"
    }
   ],
   "source": [
    "sanityChecks.discProbVsError(train_data,disc3,device)\n",
    "sanityChecks.discProbVsError(test_data,disc3,device)"
   ]
  },
  {
   "cell_type": "markdown",
   "id": "a5bd74c3",
   "metadata": {
    "id": "a5bd74c3",
    "papermill": {
     "duration": 0.019259,
     "end_time": "2022-03-11T10:44:31.004120",
     "exception": false,
     "start_time": "2022-03-11T10:44:30.984861",
     "status": "completed"
    },
    "tags": []
   },
   "source": [
    "## Skip Connection Model Analysis - ABC-GAN "
   ]
  },
  {
   "cell_type": "markdown",
   "id": "5744a8bf",
   "metadata": {
    "id": "5744a8bf",
    "papermill": {
     "duration": 0.019087,
     "end_time": "2022-03-11T10:44:31.042303",
     "exception": false,
     "start_time": "2022-03-11T10:44:31.023216",
     "status": "completed"
    },
    "tags": []
   },
   "source": [
    "### Weight Analysis \n",
    "\n",
    "Study the weights of the skip connection layer\n",
    "\n",
    "Equation of the skip connection is \n",
    "\n",
    "$output = y_{gan} * w + y_{abc} * (1-w)$"
   ]
  },
  {
   "cell_type": "code",
   "execution_count": 19,
   "id": "52c31dea",
   "metadata": {
    "execution": {
     "iopub.execute_input": "2022-03-11T10:44:31.083465Z",
     "iopub.status.busy": "2022-03-11T10:44:31.083083Z",
     "iopub.status.idle": "2022-03-11T10:44:31.086540Z",
     "shell.execute_reply": "2022-03-11T10:44:31.086780Z"
    },
    "id": "52c31dea",
    "papermill": {
     "duration": 0.02556,
     "end_time": "2022-03-11T10:44:31.086891",
     "exception": false,
     "start_time": "2022-03-11T10:44:31.061331",
     "status": "completed"
    },
    "tags": []
   },
   "outputs": [
    {
     "name": "stdout",
     "output_type": "stream",
     "text": [
      "Weight of the node at skip connection\n",
      "Parameter containing:\n",
      "tensor([[0.3177]], requires_grad=True)\n"
     ]
    },
    {
     "data": {
      "application/scrapbook.scrap.json+json": {
       "data": 0.31771212816238403,
       "encoder": "json",
       "name": "Skip Connection Weight",
       "version": 1
      }
     },
     "metadata": {
      "scrapbook": {
       "data": true,
       "display": false,
       "name": "Skip Connection Weight"
      }
     },
     "output_type": "display_data"
    }
   ],
   "source": [
    "print(\"Weight of the node at skip connection\")\n",
    "for name,param in gen3.named_parameters():\n",
    "    if(name == \"skipNode.weight\"):\n",
    "        print(param)\n",
    "        sb.glue(\"Skip Connection Weight\",param.item())"
   ]
  }
 ],
 "metadata": {
  "colab": {
   "collapsed_sections": [],
   "name": "ABC_GAN_Model-Catboost_Pre-gen.ipynb",
   "provenance": []
  },
  "interpreter": {
   "hash": "31f2aee4e71d21fbe5cf8b01ff0e069b9275f58929596ceb00d14d90e3e16cd6"
  },
  "kernelspec": {
   "display_name": "Python 3 (ipykernel)",
   "language": "python",
   "name": "python3"
  },
  "language_info": {
   "codemirror_mode": {
    "name": "ipython",
    "version": 3
   },
   "file_extension": ".py",
   "mimetype": "text/x-python",
   "name": "python",
   "nbconvert_exporter": "python",
   "pygments_lexer": "ipython3",
   "version": "3.8.11"
  },
  "papermill": {
   "default_parameters": {},
   "duration": 186.973016,
   "end_time": "2022-03-11T10:44:31.416446",
   "environment_variables": {},
   "exception": null,
   "input_path": "ABC_GAN-Catboost.ipynb",
   "output_path": "./ABC_GAN_Catboost/ABC-GAN_output_8_1.ipynb",
   "parameters": {
    "variance": 0.1
   },
   "start_time": "2022-03-11T10:41:24.443430",
   "version": "2.3.3"
  }
 },
 "nbformat": 4,
 "nbformat_minor": 5
}