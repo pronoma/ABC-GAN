{
 "cells": [
  {
   "cell_type": "markdown",
   "id": "622780e6",
   "metadata": {
    "id": "622780e6",
    "papermill": {
     "duration": 0.03386,
     "end_time": "2022-03-11T10:12:24.869375",
     "exception": false,
     "start_time": "2022-03-11T10:12:24.835515",
     "status": "completed"
    },
    "tags": []
   },
   "source": [
    "## Import Libraries "
   ]
  },
  {
   "cell_type": "code",
   "execution_count": 1,
   "id": "a62397e3",
   "metadata": {
    "execution": {
     "iopub.execute_input": "2022-03-11T10:12:24.906173Z",
     "iopub.status.busy": "2022-03-11T10:12:24.905674Z",
     "iopub.status.idle": "2022-03-11T10:12:24.908040Z",
     "shell.execute_reply": "2022-03-11T10:12:24.908375Z"
    },
    "id": "a62397e3",
    "papermill": {
     "duration": 0.022063,
     "end_time": "2022-03-11T10:12:24.908580",
     "exception": false,
     "start_time": "2022-03-11T10:12:24.886517",
     "status": "completed"
    },
    "tags": []
   },
   "outputs": [],
   "source": [
    "import warnings\n",
    "import sys\n",
    "sys.path.insert(0, '../../src')\n",
    "warnings.filterwarnings('ignore')"
   ]
  },
  {
   "cell_type": "code",
   "execution_count": 2,
   "id": "d6a4e155",
   "metadata": {
    "execution": {
     "iopub.execute_input": "2022-03-11T10:12:24.928989Z",
     "iopub.status.busy": "2022-03-11T10:12:24.928570Z",
     "iopub.status.idle": "2022-03-11T10:12:26.776032Z",
     "shell.execute_reply": "2022-03-11T10:12:26.776310Z"
    },
    "id": "d6a4e155",
    "papermill": {
     "duration": 1.858372,
     "end_time": "2022-03-11T10:12:26.776500",
     "exception": false,
     "start_time": "2022-03-11T10:12:24.918128",
     "status": "completed"
    },
    "tags": []
   },
   "outputs": [],
   "source": [
    "import ABC_train_test2\n",
    "import bostonDataset\n",
    "import network\n",
    "import dataset\n",
    "import sanityChecks\n",
    "import torch \n",
    "import scrapbook as sb\n",
    "from statistics import mean \n",
    "import catboost as ctb \n",
    "from sklearn.model_selection import train_test_split\n",
    "from sklearn.metrics import mean_squared_error,mean_absolute_error\n",
    "import numpy as np"
   ]
  },
  {
   "cell_type": "markdown",
   "id": "2fa5b0f7",
   "metadata": {
    "id": "2fa5b0f7",
    "papermill": {
     "duration": 0.007124,
     "end_time": "2022-03-11T10:12:26.790970",
     "exception": false,
     "start_time": "2022-03-11T10:12:26.783846",
     "status": "completed"
    },
    "tags": []
   },
   "source": [
    "## Parameters "
   ]
  },
  {
   "cell_type": "code",
   "execution_count": 3,
   "id": "783186fb",
   "metadata": {
    "execution": {
     "iopub.execute_input": "2022-03-11T10:12:26.806982Z",
     "iopub.status.busy": "2022-03-11T10:12:26.806610Z",
     "iopub.status.idle": "2022-03-11T10:12:26.807967Z",
     "shell.execute_reply": "2022-03-11T10:12:26.808216Z"
    },
    "id": "783186fb",
    "papermill": {
     "duration": 0.010482,
     "end_time": "2022-03-11T10:12:26.808328",
     "exception": false,
     "start_time": "2022-03-11T10:12:26.797846",
     "status": "completed"
    },
    "tags": [
     "parameters"
    ]
   },
   "outputs": [],
   "source": [
    "variance = 1"
   ]
  },
  {
   "cell_type": "code",
   "execution_count": 4,
   "id": "fa79a391",
   "metadata": {
    "execution": {
     "iopub.execute_input": "2022-03-11T10:12:26.824024Z",
     "iopub.status.busy": "2022-03-11T10:12:26.823654Z",
     "iopub.status.idle": "2022-03-11T10:12:26.824959Z",
     "shell.execute_reply": "2022-03-11T10:12:26.825200Z"
    },
    "papermill": {
     "duration": 0.010016,
     "end_time": "2022-03-11T10:12:26.825305",
     "exception": false,
     "start_time": "2022-03-11T10:12:26.815289",
     "status": "completed"
    },
    "tags": [
     "injected-parameters"
    ]
   },
   "outputs": [],
   "source": [
    "# Parameters\n",
    "variance = 0.1\n"
   ]
  },
  {
   "cell_type": "markdown",
   "id": "391cdbfd",
   "metadata": {
    "id": "391cdbfd",
    "papermill": {
     "duration": 0.006793,
     "end_time": "2022-03-11T10:12:26.838965",
     "exception": false,
     "start_time": "2022-03-11T10:12:26.832172",
     "status": "completed"
    },
    "tags": []
   },
   "source": [
    "## Dataset \n"
   ]
  },
  {
   "cell_type": "code",
   "execution_count": 5,
   "id": "5b51f161",
   "metadata": {
    "execution": {
     "iopub.execute_input": "2022-03-11T10:12:26.854570Z",
     "iopub.status.busy": "2022-03-11T10:12:26.854179Z",
     "iopub.status.idle": "2022-03-11T10:12:26.855310Z",
     "shell.execute_reply": "2022-03-11T10:12:26.855550Z"
    },
    "id": "5b51f161",
    "papermill": {
     "duration": 0.009866,
     "end_time": "2022-03-11T10:12:26.855654",
     "exception": false,
     "start_time": "2022-03-11T10:12:26.845788",
     "status": "completed"
    },
    "tags": []
   },
   "outputs": [],
   "source": [
    "#Parameters \n",
    "n_features = 13\n",
    "n_samples= 506\n",
    "n_target = 1 "
   ]
  },
  {
   "cell_type": "code",
   "execution_count": 6,
   "id": "5d6eced4",
   "metadata": {
    "execution": {
     "iopub.execute_input": "2022-03-11T10:12:26.871497Z",
     "iopub.status.busy": "2022-03-11T10:12:26.871122Z",
     "iopub.status.idle": "2022-03-11T10:12:26.881852Z",
     "shell.execute_reply": "2022-03-11T10:12:26.882094Z"
    },
    "id": "5d6eced4",
    "papermill": {
     "duration": 0.01959,
     "end_time": "2022-03-11T10:12:26.882209",
     "exception": false,
     "start_time": "2022-03-11T10:12:26.862619",
     "status": "completed"
    },
    "tags": []
   },
   "outputs": [
    {
     "name": "stdout",
     "output_type": "stream",
     "text": [
      "         X1        X2        X3        X4        X5        X6        X7  \\\n",
      "0 -0.419782  0.284830 -1.287909 -0.272599 -0.144217  0.413672 -0.120013   \n",
      "1 -0.417339 -0.487722 -0.593381 -0.272599 -0.740262  0.194274  0.367166   \n",
      "2 -0.417342 -0.487722 -0.593381 -0.272599 -0.740262  1.282714 -0.265812   \n",
      "3 -0.416750 -0.487722 -1.306878 -0.272599 -0.835284  1.016303 -0.809889   \n",
      "4 -0.412482 -0.487722 -1.306878 -0.272599 -0.835284  1.228577 -0.511180   \n",
      "\n",
      "         X8        X9       X10       X11       X12       X13         Y  \n",
      "0  0.140214 -0.982843 -0.666608 -1.459000  0.441052 -1.075562  0.159686  \n",
      "1  0.557160 -0.867883 -0.987329 -0.303094  0.441052 -0.492439 -0.101524  \n",
      "2  0.557160 -0.867883 -0.987329 -0.303094  0.396427 -1.208727  1.324247  \n",
      "3  1.077737 -0.752922 -1.106115  0.113032  0.416163 -1.361517  1.182758  \n",
      "4  1.077737 -0.752922 -1.106115  0.113032  0.441052 -1.026501  1.487503  \n"
     ]
    }
   ],
   "source": [
    "X,Y = bostonDataset.boston_data()"
   ]
  },
  {
   "cell_type": "code",
   "execution_count": 7,
   "id": "fe007438",
   "metadata": {
    "execution": {
     "iopub.execute_input": "2022-03-11T10:12:26.899472Z",
     "iopub.status.busy": "2022-03-11T10:12:26.899094Z",
     "iopub.status.idle": "2022-03-11T10:12:26.900374Z",
     "shell.execute_reply": "2022-03-11T10:12:26.900617Z"
    },
    "id": "fe007438",
    "papermill": {
     "duration": 0.011185,
     "end_time": "2022-03-11T10:12:26.900725",
     "exception": false,
     "start_time": "2022-03-11T10:12:26.889540",
     "status": "completed"
    },
    "tags": []
   },
   "outputs": [],
   "source": [
    "#Train test split for dataset \n",
    "X_train,X_test,Y_train,Y_test = train_test_split(X,Y,test_size = 0.2)\n",
    "train_data = dataset.CustomDataset(X_train,Y_train)\n",
    "test_data = dataset.CustomDataset(X_test,Y_test)\n"
   ]
  },
  {
   "cell_type": "markdown",
   "id": "a9a1af34",
   "metadata": {
    "id": "a9a1af34",
    "papermill": {
     "duration": 0.007123,
     "end_time": "2022-03-11T10:12:26.915067",
     "exception": false,
     "start_time": "2022-03-11T10:12:26.907944",
     "status": "completed"
    },
    "tags": []
   },
   "source": [
    "## Training Parameters "
   ]
  },
  {
   "cell_type": "code",
   "execution_count": 8,
   "id": "952b7fc8",
   "metadata": {
    "execution": {
     "iopub.execute_input": "2022-03-11T10:12:26.931622Z",
     "iopub.status.busy": "2022-03-11T10:12:26.931257Z",
     "iopub.status.idle": "2022-03-11T10:12:26.932647Z",
     "shell.execute_reply": "2022-03-11T10:12:26.932892Z"
    },
    "id": "952b7fc8",
    "papermill": {
     "duration": 0.010847,
     "end_time": "2022-03-11T10:12:26.933000",
     "exception": false,
     "start_time": "2022-03-11T10:12:26.922153",
     "status": "completed"
    },
    "tags": []
   },
   "outputs": [],
   "source": [
    "batch_size = 64\n",
    "n_epochs = 1000\n",
    "#Select the device \n",
    "device = torch.device('cuda' if torch.cuda.is_available() else 'cpu')"
   ]
  },
  {
   "cell_type": "markdown",
   "id": "a95e1600",
   "metadata": {
    "id": "a95e1600",
    "papermill": {
     "duration": 0.007526,
     "end_time": "2022-03-11T10:12:26.947768",
     "exception": false,
     "start_time": "2022-03-11T10:12:26.940242",
     "status": "completed"
    },
    "tags": []
   },
   "source": [
    "# ABC Pre-generator Model \n",
    "\n",
    "1. The catboost model is used as a pre-generator model for the ABC-GAN. \n",
    "2. The model is first trained on the entire dataset \n",
    "3. It generats X,Y pairs and we add some Gaussian noise with mean 0 and variance 1 to it which is then feed as input to the generator.\n"
   ]
  },
  {
   "cell_type": "code",
   "execution_count": 9,
   "id": "ff8ce7bd",
   "metadata": {
    "execution": {
     "iopub.execute_input": "2022-03-11T10:12:26.968481Z",
     "iopub.status.busy": "2022-03-11T10:12:26.968102Z",
     "iopub.status.idle": "2022-03-11T10:12:27.920583Z",
     "shell.execute_reply": "2022-03-11T10:12:27.920829Z"
    },
    "id": "ff8ce7bd",
    "papermill": {
     "duration": 0.965714,
     "end_time": "2022-03-11T10:12:27.920951",
     "exception": false,
     "start_time": "2022-03-11T10:12:26.955237",
     "status": "completed"
    },
    "tags": []
   },
   "outputs": [
    {
     "name": "stdout",
     "output_type": "stream",
     "text": [
      "Learning rate set to 0.033215\n",
      "0:\tlearn: 0.9698757\ttotal: 59.4ms\tremaining: 59.3s\n",
      "1:\tlearn: 0.9508146\ttotal: 60.3ms\tremaining: 30.1s\n",
      "2:\tlearn: 0.9309880\ttotal: 61.4ms\tremaining: 20.4s\n",
      "3:\tlearn: 0.9148680\ttotal: 62.4ms\tremaining: 15.5s\n",
      "4:\tlearn: 0.8985499\ttotal: 63.4ms\tremaining: 12.6s\n",
      "5:\tlearn: 0.8826556\ttotal: 64.4ms\tremaining: 10.7s\n",
      "6:\tlearn: 0.8674852\ttotal: 65.5ms\tremaining: 9.29s\n",
      "7:\tlearn: 0.8512596\ttotal: 66.3ms\tremaining: 8.23s\n",
      "8:\tlearn: 0.8367475\ttotal: 67.1ms\tremaining: 7.39s\n",
      "9:\tlearn: 0.8202213\ttotal: 68ms\tremaining: 6.73s\n",
      "10:\tlearn: 0.8065879\ttotal: 68.8ms\tremaining: 6.19s\n",
      "11:\tlearn: 0.7928132\ttotal: 69.6ms\tremaining: 5.73s\n",
      "12:\tlearn: 0.7786064\ttotal: 70.4ms\tremaining: 5.34s\n",
      "13:\tlearn: 0.7648765\ttotal: 71.2ms\tremaining: 5.02s\n",
      "14:\tlearn: 0.7535073\ttotal: 72ms\tremaining: 4.73s\n",
      "15:\tlearn: 0.7400712\ttotal: 72.8ms\tremaining: 4.48s\n",
      "16:\tlearn: 0.7292027\ttotal: 73.7ms\tremaining: 4.26s\n",
      "17:\tlearn: 0.7170774\ttotal: 74.6ms\tremaining: 4.07s\n",
      "18:\tlearn: 0.7050586\ttotal: 75.3ms\tremaining: 3.89s\n",
      "19:\tlearn: 0.6925976\ttotal: 76.1ms\tremaining: 3.73s\n",
      "20:\tlearn: 0.6831065\ttotal: 76.9ms\tremaining: 3.58s\n",
      "21:\tlearn: 0.6731982\ttotal: 77.7ms\tremaining: 3.45s\n",
      "22:\tlearn: 0.6623888\ttotal: 78.5ms\tremaining: 3.33s\n",
      "23:\tlearn: 0.6535987\ttotal: 79.3ms\tremaining: 3.22s\n",
      "24:\tlearn: 0.6434471\ttotal: 80ms\tremaining: 3.12s\n",
      "25:\tlearn: 0.6359019\ttotal: 80.7ms\tremaining: 3.02s\n",
      "26:\tlearn: 0.6274743\ttotal: 81.5ms\tremaining: 2.94s\n",
      "27:\tlearn: 0.6193371\ttotal: 82.2ms\tremaining: 2.85s\n",
      "28:\tlearn: 0.6102552\ttotal: 82.9ms\tremaining: 2.78s\n",
      "29:\tlearn: 0.6007605\ttotal: 83.6ms\tremaining: 2.7s\n",
      "30:\tlearn: 0.5920601\ttotal: 84.4ms\tremaining: 2.64s\n",
      "31:\tlearn: 0.5852505\ttotal: 85.3ms\tremaining: 2.58s\n",
      "32:\tlearn: 0.5773014\ttotal: 86.1ms\tremaining: 2.52s\n",
      "33:\tlearn: 0.5706200\ttotal: 87ms\tremaining: 2.47s\n",
      "34:\tlearn: 0.5634953\ttotal: 87.8ms\tremaining: 2.42s\n",
      "35:\tlearn: 0.5565259\ttotal: 88.7ms\tremaining: 2.37s\n",
      "36:\tlearn: 0.5506149\ttotal: 89.5ms\tremaining: 2.33s\n",
      "37:\tlearn: 0.5439077\ttotal: 90.3ms\tremaining: 2.28s\n",
      "38:\tlearn: 0.5363867\ttotal: 91.1ms\tremaining: 2.24s\n",
      "39:\tlearn: 0.5289438\ttotal: 92ms\tremaining: 2.21s\n",
      "40:\tlearn: 0.5236975\ttotal: 92.7ms\tremaining: 2.17s\n",
      "41:\tlearn: 0.5164103\ttotal: 93.4ms\tremaining: 2.13s\n",
      "42:\tlearn: 0.5104834\ttotal: 94.2ms\tremaining: 2.1s\n",
      "43:\tlearn: 0.5042732\ttotal: 94.9ms\tremaining: 2.06s\n",
      "44:\tlearn: 0.4990687\ttotal: 95.8ms\tremaining: 2.03s\n",
      "45:\tlearn: 0.4921317\ttotal: 96.6ms\tremaining: 2s\n",
      "46:\tlearn: 0.4879006\ttotal: 97.5ms\tremaining: 1.98s\n",
      "47:\tlearn: 0.4822999\ttotal: 98.3ms\tremaining: 1.95s\n",
      "48:\tlearn: 0.4756667\ttotal: 99.2ms\tremaining: 1.93s\n",
      "49:\tlearn: 0.4703635\ttotal: 100ms\tremaining: 1.9s\n",
      "50:\tlearn: 0.4654802\ttotal: 101ms\tremaining: 1.88s\n",
      "51:\tlearn: 0.4609878\ttotal: 102ms\tremaining: 1.85s\n",
      "52:\tlearn: 0.4549682\ttotal: 103ms\tremaining: 1.83s\n",
      "53:\tlearn: 0.4517752\ttotal: 103ms\tremaining: 1.81s\n",
      "54:\tlearn: 0.4476769\ttotal: 104ms\tremaining: 1.79s\n",
      "55:\tlearn: 0.4438689\ttotal: 105ms\tremaining: 1.77s\n"
     ]
    },
    {
     "name": "stdout",
     "output_type": "stream",
     "text": [
      "56:\tlearn: 0.4407157\ttotal: 106ms\tremaining: 1.75s\n",
      "57:\tlearn: 0.4367029\ttotal: 107ms\tremaining: 1.74s\n",
      "58:\tlearn: 0.4335664\ttotal: 108ms\tremaining: 1.72s\n",
      "59:\tlearn: 0.4299628\ttotal: 108ms\tremaining: 1.7s\n",
      "60:\tlearn: 0.4261913\ttotal: 109ms\tremaining: 1.68s\n",
      "61:\tlearn: 0.4218244\ttotal: 110ms\tremaining: 1.67s\n",
      "62:\tlearn: 0.4189155\ttotal: 111ms\tremaining: 1.65s\n",
      "63:\tlearn: 0.4154382\ttotal: 112ms\tremaining: 1.64s\n",
      "64:\tlearn: 0.4123477\ttotal: 113ms\tremaining: 1.62s\n",
      "65:\tlearn: 0.4088908\ttotal: 114ms\tremaining: 1.61s\n",
      "66:\tlearn: 0.4046838\ttotal: 116ms\tremaining: 1.61s\n",
      "67:\tlearn: 0.4018382\ttotal: 117ms\tremaining: 1.61s\n",
      "68:\tlearn: 0.3986091\ttotal: 118ms\tremaining: 1.59s\n",
      "69:\tlearn: 0.3957229\ttotal: 119ms\tremaining: 1.58s\n",
      "70:\tlearn: 0.3917040\ttotal: 120ms\tremaining: 1.56s\n",
      "71:\tlearn: 0.3876358\ttotal: 120ms\tremaining: 1.55s\n",
      "72:\tlearn: 0.3842425\ttotal: 121ms\tremaining: 1.54s\n",
      "73:\tlearn: 0.3809867\ttotal: 122ms\tremaining: 1.52s\n",
      "74:\tlearn: 0.3780510\ttotal: 123ms\tremaining: 1.51s\n",
      "75:\tlearn: 0.3755897\ttotal: 124ms\tremaining: 1.5s\n",
      "76:\tlearn: 0.3718805\ttotal: 124ms\tremaining: 1.49s\n",
      "77:\tlearn: 0.3684948\ttotal: 125ms\tremaining: 1.48s\n",
      "78:\tlearn: 0.3654943\ttotal: 126ms\tremaining: 1.47s\n",
      "79:\tlearn: 0.3631069\ttotal: 127ms\tremaining: 1.46s\n",
      "80:\tlearn: 0.3610109\ttotal: 128ms\tremaining: 1.45s\n",
      "81:\tlearn: 0.3585020\ttotal: 129ms\tremaining: 1.44s\n",
      "82:\tlearn: 0.3565355\ttotal: 129ms\tremaining: 1.43s\n",
      "83:\tlearn: 0.3535183\ttotal: 130ms\tremaining: 1.42s\n",
      "84:\tlearn: 0.3513349\ttotal: 131ms\tremaining: 1.41s\n",
      "85:\tlearn: 0.3488406\ttotal: 132ms\tremaining: 1.4s\n",
      "86:\tlearn: 0.3466775\ttotal: 133ms\tremaining: 1.39s\n",
      "87:\tlearn: 0.3444130\ttotal: 133ms\tremaining: 1.38s\n",
      "88:\tlearn: 0.3419519\ttotal: 134ms\tremaining: 1.37s\n",
      "89:\tlearn: 0.3396522\ttotal: 135ms\tremaining: 1.36s\n",
      "90:\tlearn: 0.3377318\ttotal: 136ms\tremaining: 1.36s\n",
      "91:\tlearn: 0.3358277\ttotal: 137ms\tremaining: 1.35s\n",
      "92:\tlearn: 0.3342710\ttotal: 137ms\tremaining: 1.34s\n",
      "93:\tlearn: 0.3324101\ttotal: 138ms\tremaining: 1.33s\n",
      "94:\tlearn: 0.3302815\ttotal: 139ms\tremaining: 1.32s\n",
      "95:\tlearn: 0.3279963\ttotal: 140ms\tremaining: 1.32s\n",
      "96:\tlearn: 0.3260007\ttotal: 141ms\tremaining: 1.31s\n",
      "97:\tlearn: 0.3244381\ttotal: 141ms\tremaining: 1.3s\n",
      "98:\tlearn: 0.3231739\ttotal: 142ms\tremaining: 1.29s\n",
      "99:\tlearn: 0.3209985\ttotal: 143ms\tremaining: 1.29s\n",
      "100:\tlearn: 0.3193637\ttotal: 144ms\tremaining: 1.28s\n",
      "101:\tlearn: 0.3176178\ttotal: 145ms\tremaining: 1.27s\n",
      "102:\tlearn: 0.3160802\ttotal: 146ms\tremaining: 1.27s\n",
      "103:\tlearn: 0.3143517\ttotal: 146ms\tremaining: 1.26s\n",
      "104:\tlearn: 0.3129622\ttotal: 147ms\tremaining: 1.25s\n",
      "105:\tlearn: 0.3116216\ttotal: 148ms\tremaining: 1.25s\n",
      "106:\tlearn: 0.3099051\ttotal: 149ms\tremaining: 1.24s\n",
      "107:\tlearn: 0.3085191\ttotal: 150ms\tremaining: 1.24s\n",
      "108:\tlearn: 0.3071709\ttotal: 151ms\tremaining: 1.23s\n",
      "109:\tlearn: 0.3055141\ttotal: 151ms\tremaining: 1.22s\n",
      "110:\tlearn: 0.3039086\ttotal: 152ms\tremaining: 1.22s\n",
      "111:\tlearn: 0.3025327\ttotal: 153ms\tremaining: 1.21s\n",
      "112:\tlearn: 0.3011949\ttotal: 154ms\tremaining: 1.21s\n",
      "113:\tlearn: 0.2996648\ttotal: 155ms\tremaining: 1.2s\n",
      "114:\tlearn: 0.2986138\ttotal: 155ms\tremaining: 1.2s\n",
      "115:\tlearn: 0.2972421\ttotal: 156ms\tremaining: 1.19s\n",
      "116:\tlearn: 0.2954868\ttotal: 157ms\tremaining: 1.18s\n",
      "117:\tlearn: 0.2943639\ttotal: 158ms\tremaining: 1.18s\n",
      "118:\tlearn: 0.2930581\ttotal: 159ms\tremaining: 1.17s\n",
      "119:\tlearn: 0.2918547\ttotal: 159ms\tremaining: 1.17s\n",
      "120:\tlearn: 0.2903574\ttotal: 160ms\tremaining: 1.16s\n",
      "121:\tlearn: 0.2893401\ttotal: 161ms\tremaining: 1.16s\n",
      "122:\tlearn: 0.2884721\ttotal: 162ms\tremaining: 1.15s\n",
      "123:\tlearn: 0.2877808\ttotal: 162ms\tremaining: 1.15s\n",
      "124:\tlearn: 0.2866929\ttotal: 163ms\tremaining: 1.14s\n",
      "125:\tlearn: 0.2852296\ttotal: 164ms\tremaining: 1.14s\n",
      "126:\tlearn: 0.2838333\ttotal: 165ms\tremaining: 1.13s\n",
      "127:\tlearn: 0.2824945\ttotal: 166ms\tremaining: 1.13s\n",
      "128:\tlearn: 0.2813835\ttotal: 167ms\tremaining: 1.13s\n",
      "129:\tlearn: 0.2803376\ttotal: 168ms\tremaining: 1.12s\n",
      "130:\tlearn: 0.2794419\ttotal: 168ms\tremaining: 1.12s\n",
      "131:\tlearn: 0.2785252\ttotal: 169ms\tremaining: 1.11s\n",
      "132:\tlearn: 0.2774872\ttotal: 170ms\tremaining: 1.11s\n",
      "133:\tlearn: 0.2765801\ttotal: 171ms\tremaining: 1.1s\n",
      "134:\tlearn: 0.2756949\ttotal: 172ms\tremaining: 1.1s\n",
      "135:\tlearn: 0.2744833\ttotal: 172ms\tremaining: 1.09s\n",
      "136:\tlearn: 0.2736777\ttotal: 173ms\tremaining: 1.09s\n",
      "137:\tlearn: 0.2728405\ttotal: 174ms\tremaining: 1.09s\n",
      "138:\tlearn: 0.2716444\ttotal: 175ms\tremaining: 1.08s\n",
      "139:\tlearn: 0.2705354\ttotal: 176ms\tremaining: 1.08s\n",
      "140:\tlearn: 0.2698012\ttotal: 177ms\tremaining: 1.07s\n",
      "141:\tlearn: 0.2689881\ttotal: 177ms\tremaining: 1.07s\n",
      "142:\tlearn: 0.2678081\ttotal: 178ms\tremaining: 1.07s\n",
      "143:\tlearn: 0.2665119\ttotal: 179ms\tremaining: 1.06s\n",
      "144:\tlearn: 0.2656199\ttotal: 180ms\tremaining: 1.06s\n",
      "145:\tlearn: 0.2646459\ttotal: 181ms\tremaining: 1.05s\n",
      "146:\tlearn: 0.2635562\ttotal: 181ms\tremaining: 1.05s\n",
      "147:\tlearn: 0.2625110\ttotal: 182ms\tremaining: 1.05s\n",
      "148:\tlearn: 0.2616560\ttotal: 183ms\tremaining: 1.04s\n",
      "149:\tlearn: 0.2610712\ttotal: 184ms\tremaining: 1.04s\n",
      "150:\tlearn: 0.2599957\ttotal: 185ms\tremaining: 1.04s\n",
      "151:\tlearn: 0.2592872\ttotal: 185ms\tremaining: 1.03s\n",
      "152:\tlearn: 0.2584539\ttotal: 186ms\tremaining: 1.03s\n",
      "153:\tlearn: 0.2576146\ttotal: 187ms\tremaining: 1.03s\n",
      "154:\tlearn: 0.2565902\ttotal: 188ms\tremaining: 1.02s\n",
      "155:\tlearn: 0.2557744\ttotal: 189ms\tremaining: 1.02s\n",
      "156:\tlearn: 0.2546203\ttotal: 190ms\tremaining: 1.02s\n",
      "157:\tlearn: 0.2536043\ttotal: 190ms\tremaining: 1.01s\n"
     ]
    },
    {
     "name": "stdout",
     "output_type": "stream",
     "text": [
      "158:\tlearn: 0.2528699\ttotal: 191ms\tremaining: 1.01s\n",
      "159:\tlearn: 0.2520737\ttotal: 192ms\tremaining: 1.01s\n",
      "160:\tlearn: 0.2512948\ttotal: 193ms\tremaining: 1.01s\n",
      "161:\tlearn: 0.2507351\ttotal: 194ms\tremaining: 1s\n",
      "162:\tlearn: 0.2503122\ttotal: 195ms\tremaining: 1s\n",
      "163:\tlearn: 0.2496271\ttotal: 196ms\tremaining: 998ms\n",
      "164:\tlearn: 0.2488285\ttotal: 196ms\tremaining: 994ms\n",
      "165:\tlearn: 0.2481457\ttotal: 197ms\tremaining: 991ms\n",
      "166:\tlearn: 0.2475600\ttotal: 198ms\tremaining: 988ms\n",
      "167:\tlearn: 0.2467332\ttotal: 199ms\tremaining: 985ms\n",
      "168:\tlearn: 0.2461666\ttotal: 200ms\tremaining: 983ms\n",
      "169:\tlearn: 0.2450677\ttotal: 201ms\tremaining: 981ms\n",
      "170:\tlearn: 0.2445932\ttotal: 202ms\tremaining: 977ms\n",
      "171:\tlearn: 0.2440497\ttotal: 202ms\tremaining: 974ms\n",
      "172:\tlearn: 0.2431740\ttotal: 203ms\tremaining: 972ms\n",
      "173:\tlearn: 0.2426794\ttotal: 204ms\tremaining: 969ms\n",
      "174:\tlearn: 0.2421662\ttotal: 205ms\tremaining: 967ms\n",
      "175:\tlearn: 0.2413519\ttotal: 206ms\tremaining: 964ms\n",
      "176:\tlearn: 0.2405860\ttotal: 207ms\tremaining: 962ms\n",
      "177:\tlearn: 0.2399662\ttotal: 208ms\tremaining: 959ms\n",
      "178:\tlearn: 0.2393444\ttotal: 208ms\tremaining: 956ms\n",
      "179:\tlearn: 0.2388385\ttotal: 209ms\tremaining: 953ms\n",
      "180:\tlearn: 0.2381237\ttotal: 210ms\tremaining: 950ms\n",
      "181:\tlearn: 0.2371821\ttotal: 211ms\tremaining: 948ms\n",
      "182:\tlearn: 0.2365687\ttotal: 212ms\tremaining: 946ms\n",
      "183:\tlearn: 0.2361960\ttotal: 213ms\tremaining: 943ms\n",
      "184:\tlearn: 0.2351036\ttotal: 213ms\tremaining: 940ms\n",
      "185:\tlearn: 0.2344702\ttotal: 214ms\tremaining: 937ms\n",
      "186:\tlearn: 0.2337702\ttotal: 215ms\tremaining: 935ms\n",
      "187:\tlearn: 0.2330826\ttotal: 216ms\tremaining: 932ms\n",
      "188:\tlearn: 0.2323407\ttotal: 217ms\tremaining: 930ms\n",
      "189:\tlearn: 0.2317509\ttotal: 218ms\tremaining: 928ms\n",
      "190:\tlearn: 0.2309776\ttotal: 218ms\tremaining: 925ms\n",
      "191:\tlearn: 0.2304570\ttotal: 219ms\tremaining: 922ms\n",
      "192:\tlearn: 0.2297176\ttotal: 220ms\tremaining: 920ms\n",
      "193:\tlearn: 0.2289684\ttotal: 221ms\tremaining: 917ms\n",
      "194:\tlearn: 0.2283100\ttotal: 222ms\tremaining: 915ms\n",
      "195:\tlearn: 0.2277388\ttotal: 222ms\tremaining: 912ms\n",
      "196:\tlearn: 0.2267109\ttotal: 223ms\tremaining: 910ms\n",
      "197:\tlearn: 0.2261838\ttotal: 224ms\tremaining: 907ms\n",
      "198:\tlearn: 0.2256781\ttotal: 225ms\tremaining: 905ms\n",
      "199:\tlearn: 0.2247940\ttotal: 226ms\tremaining: 902ms\n",
      "200:\tlearn: 0.2239862\ttotal: 226ms\tremaining: 900ms\n",
      "201:\tlearn: 0.2233914\ttotal: 227ms\tremaining: 897ms\n",
      "202:\tlearn: 0.2229056\ttotal: 228ms\tremaining: 895ms\n",
      "203:\tlearn: 0.2221482\ttotal: 229ms\tremaining: 893ms\n",
      "204:\tlearn: 0.2215925\ttotal: 230ms\tremaining: 890ms\n",
      "205:\tlearn: 0.2208329\ttotal: 230ms\tremaining: 888ms\n",
      "206:\tlearn: 0.2203284\ttotal: 231ms\tremaining: 886ms\n",
      "207:\tlearn: 0.2196133\ttotal: 232ms\tremaining: 883ms\n",
      "208:\tlearn: 0.2192685\ttotal: 233ms\tremaining: 881ms\n",
      "209:\tlearn: 0.2188125\ttotal: 234ms\tremaining: 879ms\n",
      "210:\tlearn: 0.2183015\ttotal: 235ms\tremaining: 877ms\n",
      "211:\tlearn: 0.2176911\ttotal: 235ms\tremaining: 875ms\n",
      "212:\tlearn: 0.2170743\ttotal: 236ms\tremaining: 873ms\n",
      "213:\tlearn: 0.2164301\ttotal: 237ms\tremaining: 871ms\n",
      "214:\tlearn: 0.2157112\ttotal: 238ms\tremaining: 869ms\n",
      "215:\tlearn: 0.2151479\ttotal: 239ms\tremaining: 866ms\n",
      "216:\tlearn: 0.2146280\ttotal: 239ms\tremaining: 864ms\n",
      "217:\tlearn: 0.2142536\ttotal: 240ms\tremaining: 862ms\n",
      "218:\tlearn: 0.2136665\ttotal: 241ms\tremaining: 860ms\n",
      "219:\tlearn: 0.2132953\ttotal: 242ms\tremaining: 858ms\n",
      "220:\tlearn: 0.2125536\ttotal: 243ms\tremaining: 855ms\n",
      "221:\tlearn: 0.2121518\ttotal: 243ms\tremaining: 853ms\n",
      "222:\tlearn: 0.2117572\ttotal: 244ms\tremaining: 851ms\n",
      "223:\tlearn: 0.2112043\ttotal: 245ms\tremaining: 849ms\n",
      "224:\tlearn: 0.2106749\ttotal: 246ms\tremaining: 847ms\n",
      "225:\tlearn: 0.2102206\ttotal: 247ms\tremaining: 845ms\n",
      "226:\tlearn: 0.2095904\ttotal: 247ms\tremaining: 843ms\n",
      "227:\tlearn: 0.2090194\ttotal: 248ms\tremaining: 840ms\n",
      "228:\tlearn: 0.2083619\ttotal: 249ms\tremaining: 838ms\n",
      "229:\tlearn: 0.2080418\ttotal: 250ms\tremaining: 836ms\n",
      "230:\tlearn: 0.2076692\ttotal: 251ms\tremaining: 834ms\n",
      "231:\tlearn: 0.2070214\ttotal: 251ms\tremaining: 832ms\n",
      "232:\tlearn: 0.2066190\ttotal: 252ms\tremaining: 831ms\n",
      "233:\tlearn: 0.2063550\ttotal: 253ms\tremaining: 829ms\n",
      "234:\tlearn: 0.2059468\ttotal: 254ms\tremaining: 827ms\n",
      "235:\tlearn: 0.2053097\ttotal: 255ms\tremaining: 825ms\n",
      "236:\tlearn: 0.2048579\ttotal: 256ms\tremaining: 823ms\n",
      "237:\tlearn: 0.2045784\ttotal: 256ms\tremaining: 821ms\n",
      "238:\tlearn: 0.2040827\ttotal: 257ms\tremaining: 819ms\n",
      "239:\tlearn: 0.2036817\ttotal: 258ms\tremaining: 817ms\n",
      "240:\tlearn: 0.2033051\ttotal: 259ms\tremaining: 816ms\n",
      "241:\tlearn: 0.2027108\ttotal: 260ms\tremaining: 813ms\n",
      "242:\tlearn: 0.2023708\ttotal: 260ms\tremaining: 811ms\n",
      "243:\tlearn: 0.2018461\ttotal: 261ms\tremaining: 810ms\n",
      "244:\tlearn: 0.2012912\ttotal: 262ms\tremaining: 808ms\n",
      "245:\tlearn: 0.2009335\ttotal: 263ms\tremaining: 806ms\n",
      "246:\tlearn: 0.2006166\ttotal: 264ms\tremaining: 804ms\n",
      "247:\tlearn: 0.2002112\ttotal: 264ms\tremaining: 802ms\n",
      "248:\tlearn: 0.1998843\ttotal: 265ms\tremaining: 800ms\n",
      "249:\tlearn: 0.1997025\ttotal: 266ms\tremaining: 798ms\n",
      "250:\tlearn: 0.1992158\ttotal: 267ms\tremaining: 797ms\n",
      "251:\tlearn: 0.1987343\ttotal: 268ms\tremaining: 795ms\n",
      "252:\tlearn: 0.1981711\ttotal: 269ms\tremaining: 793ms\n",
      "253:\tlearn: 0.1979158\ttotal: 269ms\tremaining: 791ms\n",
      "254:\tlearn: 0.1975330\ttotal: 270ms\tremaining: 789ms\n",
      "255:\tlearn: 0.1967726\ttotal: 271ms\tremaining: 788ms\n",
      "256:\tlearn: 0.1964486\ttotal: 272ms\tremaining: 786ms\n",
      "257:\tlearn: 0.1960449\ttotal: 273ms\tremaining: 784ms\n",
      "258:\tlearn: 0.1954388\ttotal: 273ms\tremaining: 782ms\n",
      "259:\tlearn: 0.1950339\ttotal: 274ms\tremaining: 780ms\n",
      "260:\tlearn: 0.1947512\ttotal: 275ms\tremaining: 778ms\n",
      "261:\tlearn: 0.1942958\ttotal: 276ms\tremaining: 776ms\n",
      "262:\tlearn: 0.1935766\ttotal: 276ms\tremaining: 774ms\n",
      "263:\tlearn: 0.1933584\ttotal: 277ms\tremaining: 773ms\n",
      "264:\tlearn: 0.1930820\ttotal: 278ms\tremaining: 771ms\n",
      "265:\tlearn: 0.1925705\ttotal: 279ms\tremaining: 769ms\n",
      "266:\tlearn: 0.1920089\ttotal: 280ms\tremaining: 767ms\n",
      "267:\tlearn: 0.1915217\ttotal: 280ms\tremaining: 766ms\n",
      "268:\tlearn: 0.1911574\ttotal: 281ms\tremaining: 764ms\n",
      "269:\tlearn: 0.1904993\ttotal: 282ms\tremaining: 762ms\n",
      "270:\tlearn: 0.1899892\ttotal: 283ms\tremaining: 760ms\n",
      "271:\tlearn: 0.1894020\ttotal: 283ms\tremaining: 759ms\n",
      "272:\tlearn: 0.1890431\ttotal: 284ms\tremaining: 757ms\n",
      "273:\tlearn: 0.1886149\ttotal: 285ms\tremaining: 755ms\n",
      "274:\tlearn: 0.1881191\ttotal: 286ms\tremaining: 754ms\n",
      "275:\tlearn: 0.1878314\ttotal: 287ms\tremaining: 752ms\n",
      "276:\tlearn: 0.1874461\ttotal: 287ms\tremaining: 750ms\n",
      "277:\tlearn: 0.1869680\ttotal: 288ms\tremaining: 748ms\n",
      "278:\tlearn: 0.1866548\ttotal: 289ms\tremaining: 747ms\n",
      "279:\tlearn: 0.1863117\ttotal: 290ms\tremaining: 745ms\n",
      "280:\tlearn: 0.1859635\ttotal: 291ms\tremaining: 743ms\n",
      "281:\tlearn: 0.1857332\ttotal: 291ms\tremaining: 742ms\n",
      "282:\tlearn: 0.1850808\ttotal: 292ms\tremaining: 740ms\n",
      "283:\tlearn: 0.1847285\ttotal: 293ms\tremaining: 739ms\n",
      "284:\tlearn: 0.1842682\ttotal: 294ms\tremaining: 737ms\n",
      "285:\tlearn: 0.1839872\ttotal: 294ms\tremaining: 735ms\n",
      "286:\tlearn: 0.1836094\ttotal: 295ms\tremaining: 734ms\n"
     ]
    },
    {
     "name": "stdout",
     "output_type": "stream",
     "text": [
      "287:\tlearn: 0.1832483\ttotal: 296ms\tremaining: 732ms\n",
      "288:\tlearn: 0.1828436\ttotal: 297ms\tremaining: 731ms\n",
      "289:\tlearn: 0.1826614\ttotal: 298ms\tremaining: 730ms\n",
      "290:\tlearn: 0.1822523\ttotal: 299ms\tremaining: 728ms\n",
      "291:\tlearn: 0.1817050\ttotal: 300ms\tremaining: 727ms\n",
      "292:\tlearn: 0.1811385\ttotal: 301ms\tremaining: 725ms\n",
      "293:\tlearn: 0.1806766\ttotal: 301ms\tremaining: 724ms\n",
      "294:\tlearn: 0.1803020\ttotal: 302ms\tremaining: 723ms\n",
      "295:\tlearn: 0.1797962\ttotal: 303ms\tremaining: 721ms\n",
      "296:\tlearn: 0.1793465\ttotal: 304ms\tremaining: 720ms\n",
      "297:\tlearn: 0.1790151\ttotal: 305ms\tremaining: 718ms\n",
      "298:\tlearn: 0.1787226\ttotal: 306ms\tremaining: 716ms\n",
      "299:\tlearn: 0.1785581\ttotal: 306ms\tremaining: 715ms\n",
      "300:\tlearn: 0.1781722\ttotal: 307ms\tremaining: 713ms\n",
      "301:\tlearn: 0.1778586\ttotal: 308ms\tremaining: 712ms\n",
      "302:\tlearn: 0.1775725\ttotal: 309ms\tremaining: 710ms\n",
      "303:\tlearn: 0.1772277\ttotal: 309ms\tremaining: 709ms\n",
      "304:\tlearn: 0.1769464\ttotal: 310ms\tremaining: 707ms\n",
      "305:\tlearn: 0.1766451\ttotal: 311ms\tremaining: 705ms\n",
      "306:\tlearn: 0.1763655\ttotal: 312ms\tremaining: 704ms\n",
      "307:\tlearn: 0.1760069\ttotal: 313ms\tremaining: 702ms\n",
      "308:\tlearn: 0.1757619\ttotal: 313ms\tremaining: 701ms\n",
      "309:\tlearn: 0.1753724\ttotal: 314ms\tremaining: 699ms\n",
      "310:\tlearn: 0.1749188\ttotal: 315ms\tremaining: 698ms\n",
      "311:\tlearn: 0.1746793\ttotal: 316ms\tremaining: 697ms\n",
      "312:\tlearn: 0.1740836\ttotal: 317ms\tremaining: 695ms\n",
      "313:\tlearn: 0.1737795\ttotal: 317ms\tremaining: 694ms\n",
      "314:\tlearn: 0.1732212\ttotal: 318ms\tremaining: 692ms\n",
      "315:\tlearn: 0.1730410\ttotal: 319ms\tremaining: 691ms\n",
      "316:\tlearn: 0.1725901\ttotal: 320ms\tremaining: 689ms\n",
      "317:\tlearn: 0.1724074\ttotal: 321ms\tremaining: 688ms\n",
      "318:\tlearn: 0.1720624\ttotal: 321ms\tremaining: 686ms\n",
      "319:\tlearn: 0.1716490\ttotal: 322ms\tremaining: 685ms\n",
      "320:\tlearn: 0.1712286\ttotal: 323ms\tremaining: 683ms\n",
      "321:\tlearn: 0.1708212\ttotal: 324ms\tremaining: 682ms\n",
      "322:\tlearn: 0.1706509\ttotal: 325ms\tremaining: 681ms\n",
      "323:\tlearn: 0.1703595\ttotal: 326ms\tremaining: 679ms\n",
      "324:\tlearn: 0.1698841\ttotal: 326ms\tremaining: 678ms\n",
      "325:\tlearn: 0.1696786\ttotal: 327ms\tremaining: 676ms\n",
      "326:\tlearn: 0.1694531\ttotal: 328ms\tremaining: 675ms\n",
      "327:\tlearn: 0.1690396\ttotal: 329ms\tremaining: 674ms\n",
      "328:\tlearn: 0.1686137\ttotal: 330ms\tremaining: 673ms\n",
      "329:\tlearn: 0.1682062\ttotal: 331ms\tremaining: 671ms\n",
      "330:\tlearn: 0.1678138\ttotal: 331ms\tremaining: 669ms\n",
      "331:\tlearn: 0.1674861\ttotal: 332ms\tremaining: 668ms\n",
      "332:\tlearn: 0.1672050\ttotal: 333ms\tremaining: 667ms\n",
      "333:\tlearn: 0.1670537\ttotal: 334ms\tremaining: 665ms\n",
      "334:\tlearn: 0.1667470\ttotal: 334ms\tremaining: 664ms\n",
      "335:\tlearn: 0.1666129\ttotal: 335ms\tremaining: 662ms\n",
      "336:\tlearn: 0.1661234\ttotal: 336ms\tremaining: 661ms\n",
      "337:\tlearn: 0.1659454\ttotal: 337ms\tremaining: 660ms\n",
      "338:\tlearn: 0.1655287\ttotal: 338ms\tremaining: 658ms\n",
      "339:\tlearn: 0.1652873\ttotal: 339ms\tremaining: 657ms\n",
      "340:\tlearn: 0.1648648\ttotal: 339ms\tremaining: 656ms\n",
      "341:\tlearn: 0.1645065\ttotal: 340ms\tremaining: 655ms\n",
      "342:\tlearn: 0.1640524\ttotal: 341ms\tremaining: 653ms\n",
      "343:\tlearn: 0.1637507\ttotal: 342ms\tremaining: 652ms\n",
      "344:\tlearn: 0.1633140\ttotal: 342ms\tremaining: 650ms\n",
      "345:\tlearn: 0.1629812\ttotal: 343ms\tremaining: 649ms\n",
      "346:\tlearn: 0.1627983\ttotal: 344ms\tremaining: 647ms\n",
      "347:\tlearn: 0.1626396\ttotal: 345ms\tremaining: 646ms\n",
      "348:\tlearn: 0.1623083\ttotal: 346ms\tremaining: 645ms\n",
      "349:\tlearn: 0.1618751\ttotal: 346ms\tremaining: 643ms\n",
      "350:\tlearn: 0.1615717\ttotal: 347ms\tremaining: 642ms\n",
      "351:\tlearn: 0.1611946\ttotal: 348ms\tremaining: 641ms\n",
      "352:\tlearn: 0.1609293\ttotal: 349ms\tremaining: 640ms\n",
      "353:\tlearn: 0.1605864\ttotal: 350ms\tremaining: 638ms\n",
      "354:\tlearn: 0.1602399\ttotal: 350ms\tremaining: 637ms\n",
      "355:\tlearn: 0.1599559\ttotal: 351ms\tremaining: 635ms\n",
      "356:\tlearn: 0.1596362\ttotal: 352ms\tremaining: 634ms\n",
      "357:\tlearn: 0.1593553\ttotal: 353ms\tremaining: 633ms\n",
      "358:\tlearn: 0.1591819\ttotal: 354ms\tremaining: 631ms\n",
      "359:\tlearn: 0.1589541\ttotal: 354ms\tremaining: 630ms\n",
      "360:\tlearn: 0.1586501\ttotal: 355ms\tremaining: 629ms\n",
      "361:\tlearn: 0.1584552\ttotal: 356ms\tremaining: 627ms\n",
      "362:\tlearn: 0.1582399\ttotal: 357ms\tremaining: 626ms\n",
      "363:\tlearn: 0.1578828\ttotal: 358ms\tremaining: 625ms\n",
      "364:\tlearn: 0.1575904\ttotal: 358ms\tremaining: 623ms\n",
      "365:\tlearn: 0.1572702\ttotal: 359ms\tremaining: 622ms\n",
      "366:\tlearn: 0.1571310\ttotal: 360ms\tremaining: 621ms\n",
      "367:\tlearn: 0.1568668\ttotal: 361ms\tremaining: 620ms\n",
      "368:\tlearn: 0.1566010\ttotal: 362ms\tremaining: 618ms\n",
      "369:\tlearn: 0.1564287\ttotal: 362ms\tremaining: 617ms\n",
      "370:\tlearn: 0.1560982\ttotal: 363ms\tremaining: 616ms\n",
      "371:\tlearn: 0.1557963\ttotal: 364ms\tremaining: 614ms\n",
      "372:\tlearn: 0.1555370\ttotal: 365ms\tremaining: 613ms\n",
      "373:\tlearn: 0.1553016\ttotal: 366ms\tremaining: 612ms\n",
      "374:\tlearn: 0.1551862\ttotal: 366ms\tremaining: 611ms\n",
      "375:\tlearn: 0.1548633\ttotal: 367ms\tremaining: 609ms\n",
      "376:\tlearn: 0.1546351\ttotal: 368ms\tremaining: 608ms\n",
      "377:\tlearn: 0.1543224\ttotal: 369ms\tremaining: 607ms\n",
      "378:\tlearn: 0.1540096\ttotal: 370ms\tremaining: 606ms\n",
      "379:\tlearn: 0.1536579\ttotal: 371ms\tremaining: 605ms\n",
      "380:\tlearn: 0.1533590\ttotal: 372ms\tremaining: 604ms\n",
      "381:\tlearn: 0.1530726\ttotal: 373ms\tremaining: 603ms\n",
      "382:\tlearn: 0.1527467\ttotal: 374ms\tremaining: 602ms\n",
      "383:\tlearn: 0.1524893\ttotal: 374ms\tremaining: 601ms\n",
      "384:\tlearn: 0.1521816\ttotal: 375ms\tremaining: 599ms\n",
      "385:\tlearn: 0.1519122\ttotal: 376ms\tremaining: 598ms\n",
      "386:\tlearn: 0.1517887\ttotal: 377ms\tremaining: 598ms\n",
      "387:\tlearn: 0.1516683\ttotal: 378ms\tremaining: 597ms\n",
      "388:\tlearn: 0.1514172\ttotal: 379ms\tremaining: 595ms\n",
      "389:\tlearn: 0.1510429\ttotal: 380ms\tremaining: 594ms\n",
      "390:\tlearn: 0.1507803\ttotal: 381ms\tremaining: 593ms\n"
     ]
    },
    {
     "name": "stdout",
     "output_type": "stream",
     "text": [
      "391:\tlearn: 0.1505780\ttotal: 382ms\tremaining: 592ms\n",
      "392:\tlearn: 0.1504435\ttotal: 383ms\tremaining: 591ms\n",
      "393:\tlearn: 0.1501095\ttotal: 384ms\tremaining: 590ms\n",
      "394:\tlearn: 0.1499656\ttotal: 385ms\tremaining: 589ms\n",
      "395:\tlearn: 0.1496709\ttotal: 385ms\tremaining: 588ms\n",
      "396:\tlearn: 0.1494320\ttotal: 386ms\tremaining: 586ms\n",
      "397:\tlearn: 0.1492537\ttotal: 387ms\tremaining: 585ms\n",
      "398:\tlearn: 0.1491229\ttotal: 388ms\tremaining: 584ms\n",
      "399:\tlearn: 0.1486559\ttotal: 389ms\tremaining: 583ms\n",
      "400:\tlearn: 0.1485661\ttotal: 389ms\tremaining: 582ms\n",
      "401:\tlearn: 0.1484568\ttotal: 390ms\tremaining: 580ms\n",
      "402:\tlearn: 0.1482040\ttotal: 391ms\tremaining: 579ms\n",
      "403:\tlearn: 0.1480428\ttotal: 392ms\tremaining: 578ms\n",
      "404:\tlearn: 0.1477402\ttotal: 393ms\tremaining: 577ms\n",
      "405:\tlearn: 0.1476371\ttotal: 393ms\tremaining: 576ms\n",
      "406:\tlearn: 0.1475760\ttotal: 394ms\tremaining: 574ms\n",
      "407:\tlearn: 0.1473256\ttotal: 395ms\tremaining: 573ms\n",
      "408:\tlearn: 0.1471629\ttotal: 396ms\tremaining: 572ms\n",
      "409:\tlearn: 0.1468408\ttotal: 397ms\tremaining: 571ms\n",
      "410:\tlearn: 0.1466056\ttotal: 398ms\tremaining: 570ms\n",
      "411:\tlearn: 0.1465297\ttotal: 399ms\tremaining: 569ms\n",
      "412:\tlearn: 0.1463074\ttotal: 399ms\tremaining: 568ms\n",
      "413:\tlearn: 0.1460892\ttotal: 400ms\tremaining: 566ms\n",
      "414:\tlearn: 0.1459097\ttotal: 401ms\tremaining: 565ms\n",
      "415:\tlearn: 0.1456038\ttotal: 402ms\tremaining: 564ms\n",
      "416:\tlearn: 0.1455091\ttotal: 402ms\tremaining: 563ms\n",
      "417:\tlearn: 0.1452253\ttotal: 403ms\tremaining: 562ms\n",
      "418:\tlearn: 0.1450655\ttotal: 404ms\tremaining: 560ms\n",
      "419:\tlearn: 0.1447587\ttotal: 405ms\tremaining: 559ms\n",
      "420:\tlearn: 0.1445331\ttotal: 406ms\tremaining: 558ms\n",
      "421:\tlearn: 0.1442369\ttotal: 407ms\tremaining: 557ms\n",
      "422:\tlearn: 0.1439145\ttotal: 408ms\tremaining: 556ms\n",
      "423:\tlearn: 0.1438590\ttotal: 408ms\tremaining: 555ms\n",
      "424:\tlearn: 0.1437044\ttotal: 409ms\tremaining: 553ms\n",
      "425:\tlearn: 0.1436517\ttotal: 410ms\tremaining: 552ms\n",
      "426:\tlearn: 0.1433510\ttotal: 411ms\tremaining: 551ms\n",
      "427:\tlearn: 0.1428518\ttotal: 411ms\tremaining: 550ms\n",
      "428:\tlearn: 0.1425663\ttotal: 412ms\tremaining: 549ms\n",
      "429:\tlearn: 0.1423535\ttotal: 413ms\tremaining: 548ms\n",
      "430:\tlearn: 0.1420332\ttotal: 414ms\tremaining: 546ms\n",
      "431:\tlearn: 0.1417533\ttotal: 415ms\tremaining: 545ms\n",
      "432:\tlearn: 0.1415495\ttotal: 416ms\tremaining: 544ms\n",
      "433:\tlearn: 0.1411817\ttotal: 416ms\tremaining: 543ms\n",
      "434:\tlearn: 0.1410087\ttotal: 417ms\tremaining: 542ms\n",
      "435:\tlearn: 0.1407115\ttotal: 418ms\tremaining: 541ms\n",
      "436:\tlearn: 0.1404870\ttotal: 419ms\tremaining: 539ms\n",
      "437:\tlearn: 0.1401970\ttotal: 420ms\tremaining: 538ms\n",
      "438:\tlearn: 0.1401547\ttotal: 420ms\tremaining: 537ms\n",
      "439:\tlearn: 0.1400409\ttotal: 421ms\tremaining: 536ms\n",
      "440:\tlearn: 0.1397750\ttotal: 422ms\tremaining: 535ms\n",
      "441:\tlearn: 0.1396340\ttotal: 423ms\tremaining: 534ms\n",
      "442:\tlearn: 0.1394663\ttotal: 424ms\tremaining: 533ms\n",
      "443:\tlearn: 0.1394479\ttotal: 424ms\tremaining: 531ms\n",
      "444:\tlearn: 0.1391758\ttotal: 425ms\tremaining: 530ms\n",
      "445:\tlearn: 0.1389262\ttotal: 426ms\tremaining: 529ms\n",
      "446:\tlearn: 0.1387547\ttotal: 427ms\tremaining: 528ms\n",
      "447:\tlearn: 0.1384816\ttotal: 428ms\tremaining: 527ms\n",
      "448:\tlearn: 0.1383630\ttotal: 429ms\tremaining: 526ms\n",
      "449:\tlearn: 0.1380704\ttotal: 430ms\tremaining: 525ms\n",
      "450:\tlearn: 0.1377310\ttotal: 431ms\tremaining: 524ms\n",
      "451:\tlearn: 0.1375756\ttotal: 432ms\tremaining: 523ms\n",
      "452:\tlearn: 0.1372393\ttotal: 432ms\tremaining: 522ms\n",
      "453:\tlearn: 0.1370360\ttotal: 433ms\tremaining: 521ms\n",
      "454:\tlearn: 0.1369318\ttotal: 434ms\tremaining: 520ms\n",
      "455:\tlearn: 0.1366617\ttotal: 435ms\tremaining: 519ms\n",
      "456:\tlearn: 0.1363824\ttotal: 436ms\tremaining: 518ms\n",
      "457:\tlearn: 0.1362145\ttotal: 437ms\tremaining: 517ms\n",
      "458:\tlearn: 0.1359744\ttotal: 437ms\tremaining: 516ms\n",
      "459:\tlearn: 0.1357165\ttotal: 438ms\tremaining: 515ms\n",
      "460:\tlearn: 0.1356515\ttotal: 439ms\tremaining: 513ms\n",
      "461:\tlearn: 0.1354777\ttotal: 440ms\tremaining: 512ms\n",
      "462:\tlearn: 0.1352620\ttotal: 441ms\tremaining: 511ms\n",
      "463:\tlearn: 0.1349909\ttotal: 441ms\tremaining: 510ms\n",
      "464:\tlearn: 0.1345837\ttotal: 442ms\tremaining: 509ms\n",
      "465:\tlearn: 0.1342131\ttotal: 443ms\tremaining: 508ms\n",
      "466:\tlearn: 0.1339996\ttotal: 444ms\tremaining: 507ms\n",
      "467:\tlearn: 0.1339480\ttotal: 445ms\tremaining: 505ms\n",
      "468:\tlearn: 0.1338504\ttotal: 445ms\tremaining: 504ms\n",
      "469:\tlearn: 0.1336075\ttotal: 446ms\tremaining: 503ms\n",
      "470:\tlearn: 0.1334923\ttotal: 447ms\tremaining: 502ms\n",
      "471:\tlearn: 0.1334222\ttotal: 448ms\tremaining: 501ms\n",
      "472:\tlearn: 0.1332368\ttotal: 449ms\tremaining: 500ms\n",
      "473:\tlearn: 0.1331984\ttotal: 449ms\tremaining: 499ms\n",
      "474:\tlearn: 0.1329006\ttotal: 450ms\tremaining: 498ms\n",
      "475:\tlearn: 0.1326843\ttotal: 451ms\tremaining: 496ms\n",
      "476:\tlearn: 0.1323019\ttotal: 452ms\tremaining: 495ms\n",
      "477:\tlearn: 0.1320835\ttotal: 453ms\tremaining: 494ms\n",
      "478:\tlearn: 0.1318316\ttotal: 453ms\tremaining: 493ms\n",
      "479:\tlearn: 0.1316595\ttotal: 454ms\tremaining: 492ms\n",
      "480:\tlearn: 0.1314978\ttotal: 455ms\tremaining: 491ms\n",
      "481:\tlearn: 0.1314594\ttotal: 456ms\tremaining: 490ms\n",
      "482:\tlearn: 0.1311659\ttotal: 457ms\tremaining: 489ms\n",
      "483:\tlearn: 0.1310290\ttotal: 457ms\tremaining: 488ms\n",
      "484:\tlearn: 0.1306936\ttotal: 458ms\tremaining: 486ms\n",
      "485:\tlearn: 0.1304032\ttotal: 459ms\tremaining: 485ms\n",
      "486:\tlearn: 0.1302687\ttotal: 460ms\tremaining: 484ms\n",
      "487:\tlearn: 0.1300132\ttotal: 460ms\tremaining: 483ms\n",
      "488:\tlearn: 0.1298042\ttotal: 461ms\tremaining: 482ms\n",
      "489:\tlearn: 0.1296082\ttotal: 462ms\tremaining: 481ms\n",
      "490:\tlearn: 0.1294133\ttotal: 463ms\tremaining: 480ms\n",
      "491:\tlearn: 0.1293130\ttotal: 464ms\tremaining: 479ms\n",
      "492:\tlearn: 0.1290032\ttotal: 465ms\tremaining: 478ms\n",
      "493:\tlearn: 0.1287032\ttotal: 465ms\tremaining: 477ms\n",
      "494:\tlearn: 0.1286317\ttotal: 466ms\tremaining: 476ms\n",
      "495:\tlearn: 0.1284060\ttotal: 467ms\tremaining: 475ms\n",
      "496:\tlearn: 0.1283547\ttotal: 468ms\tremaining: 474ms\n",
      "497:\tlearn: 0.1282581\ttotal: 469ms\tremaining: 472ms\n",
      "498:\tlearn: 0.1280875\ttotal: 470ms\tremaining: 471ms\n",
      "499:\tlearn: 0.1278436\ttotal: 470ms\tremaining: 470ms\n",
      "500:\tlearn: 0.1276871\ttotal: 471ms\tremaining: 469ms\n",
      "501:\tlearn: 0.1274715\ttotal: 472ms\tremaining: 468ms\n",
      "502:\tlearn: 0.1272769\ttotal: 473ms\tremaining: 467ms\n",
      "503:\tlearn: 0.1271039\ttotal: 473ms\tremaining: 466ms\n",
      "504:\tlearn: 0.1269127\ttotal: 474ms\tremaining: 465ms\n",
      "505:\tlearn: 0.1267411\ttotal: 475ms\tremaining: 464ms\n",
      "506:\tlearn: 0.1264761\ttotal: 476ms\tremaining: 463ms\n",
      "507:\tlearn: 0.1262051\ttotal: 477ms\tremaining: 462ms\n",
      "508:\tlearn: 0.1258879\ttotal: 478ms\tremaining: 461ms\n",
      "509:\tlearn: 0.1258548\ttotal: 479ms\tremaining: 460ms\n",
      "510:\tlearn: 0.1258194\ttotal: 479ms\tremaining: 459ms\n",
      "511:\tlearn: 0.1256033\ttotal: 480ms\tremaining: 458ms\n",
      "512:\tlearn: 0.1255620\ttotal: 481ms\tremaining: 456ms\n",
      "513:\tlearn: 0.1254272\ttotal: 481ms\tremaining: 455ms\n",
      "514:\tlearn: 0.1250903\ttotal: 482ms\tremaining: 454ms\n",
      "515:\tlearn: 0.1248586\ttotal: 483ms\tremaining: 453ms\n",
      "516:\tlearn: 0.1247317\ttotal: 484ms\tremaining: 452ms\n",
      "517:\tlearn: 0.1244872\ttotal: 485ms\tremaining: 451ms\n",
      "518:\tlearn: 0.1242547\ttotal: 486ms\tremaining: 450ms\n"
     ]
    },
    {
     "name": "stdout",
     "output_type": "stream",
     "text": [
      "519:\tlearn: 0.1240688\ttotal: 487ms\tremaining: 449ms\n",
      "520:\tlearn: 0.1238045\ttotal: 488ms\tremaining: 448ms\n",
      "521:\tlearn: 0.1236670\ttotal: 488ms\tremaining: 447ms\n",
      "522:\tlearn: 0.1234862\ttotal: 489ms\tremaining: 446ms\n",
      "523:\tlearn: 0.1231842\ttotal: 490ms\tremaining: 445ms\n",
      "524:\tlearn: 0.1228409\ttotal: 491ms\tremaining: 444ms\n",
      "525:\tlearn: 0.1225431\ttotal: 492ms\tremaining: 443ms\n",
      "526:\tlearn: 0.1224417\ttotal: 493ms\tremaining: 442ms\n",
      "527:\tlearn: 0.1222926\ttotal: 493ms\tremaining: 441ms\n",
      "528:\tlearn: 0.1221188\ttotal: 494ms\tremaining: 440ms\n",
      "529:\tlearn: 0.1218230\ttotal: 495ms\tremaining: 439ms\n",
      "530:\tlearn: 0.1216566\ttotal: 496ms\tremaining: 438ms\n",
      "531:\tlearn: 0.1214080\ttotal: 497ms\tremaining: 437ms\n",
      "532:\tlearn: 0.1211152\ttotal: 498ms\tremaining: 436ms\n",
      "533:\tlearn: 0.1209446\ttotal: 499ms\tremaining: 435ms\n",
      "534:\tlearn: 0.1207459\ttotal: 499ms\tremaining: 434ms\n",
      "535:\tlearn: 0.1207247\ttotal: 500ms\tremaining: 433ms\n",
      "536:\tlearn: 0.1204428\ttotal: 501ms\tremaining: 432ms\n",
      "537:\tlearn: 0.1202131\ttotal: 502ms\tremaining: 431ms\n",
      "538:\tlearn: 0.1199992\ttotal: 503ms\tremaining: 430ms\n",
      "539:\tlearn: 0.1197682\ttotal: 504ms\tremaining: 429ms\n",
      "540:\tlearn: 0.1195427\ttotal: 505ms\tremaining: 428ms\n",
      "541:\tlearn: 0.1192893\ttotal: 505ms\tremaining: 427ms\n",
      "542:\tlearn: 0.1190727\ttotal: 506ms\tremaining: 426ms\n",
      "543:\tlearn: 0.1188422\ttotal: 507ms\tremaining: 425ms\n",
      "544:\tlearn: 0.1186759\ttotal: 508ms\tremaining: 424ms\n",
      "545:\tlearn: 0.1185227\ttotal: 508ms\tremaining: 423ms\n",
      "546:\tlearn: 0.1183448\ttotal: 509ms\tremaining: 422ms\n",
      "547:\tlearn: 0.1182804\ttotal: 510ms\tremaining: 421ms\n",
      "548:\tlearn: 0.1181086\ttotal: 511ms\tremaining: 420ms\n",
      "549:\tlearn: 0.1179028\ttotal: 512ms\tremaining: 419ms\n",
      "550:\tlearn: 0.1176472\ttotal: 513ms\tremaining: 418ms\n",
      "551:\tlearn: 0.1174495\ttotal: 514ms\tremaining: 417ms\n",
      "552:\tlearn: 0.1172137\ttotal: 514ms\tremaining: 416ms\n",
      "553:\tlearn: 0.1169737\ttotal: 515ms\tremaining: 415ms\n",
      "554:\tlearn: 0.1169101\ttotal: 516ms\tremaining: 414ms\n",
      "555:\tlearn: 0.1168693\ttotal: 517ms\tremaining: 413ms\n",
      "556:\tlearn: 0.1166509\ttotal: 518ms\tremaining: 412ms\n",
      "557:\tlearn: 0.1164399\ttotal: 518ms\tremaining: 411ms\n",
      "558:\tlearn: 0.1163186\ttotal: 519ms\tremaining: 410ms\n",
      "559:\tlearn: 0.1161051\ttotal: 520ms\tremaining: 409ms\n",
      "560:\tlearn: 0.1159425\ttotal: 521ms\tremaining: 408ms\n",
      "561:\tlearn: 0.1157498\ttotal: 522ms\tremaining: 407ms\n",
      "562:\tlearn: 0.1155392\ttotal: 523ms\tremaining: 406ms\n",
      "563:\tlearn: 0.1154971\ttotal: 523ms\tremaining: 405ms\n",
      "564:\tlearn: 0.1154545\ttotal: 524ms\tremaining: 404ms\n",
      "565:\tlearn: 0.1151893\ttotal: 525ms\tremaining: 403ms\n",
      "566:\tlearn: 0.1151531\ttotal: 526ms\tremaining: 402ms\n",
      "567:\tlearn: 0.1149300\ttotal: 527ms\tremaining: 401ms\n",
      "568:\tlearn: 0.1147822\ttotal: 527ms\tremaining: 400ms\n",
      "569:\tlearn: 0.1145036\ttotal: 528ms\tremaining: 398ms\n",
      "570:\tlearn: 0.1142959\ttotal: 529ms\tremaining: 397ms\n",
      "571:\tlearn: 0.1142676\ttotal: 530ms\tremaining: 396ms\n",
      "572:\tlearn: 0.1142071\ttotal: 531ms\tremaining: 395ms\n",
      "573:\tlearn: 0.1139787\ttotal: 531ms\tremaining: 394ms\n",
      "574:\tlearn: 0.1137604\ttotal: 532ms\tremaining: 393ms\n",
      "575:\tlearn: 0.1136057\ttotal: 533ms\tremaining: 392ms\n",
      "576:\tlearn: 0.1134918\ttotal: 534ms\tremaining: 391ms\n",
      "577:\tlearn: 0.1132474\ttotal: 535ms\tremaining: 390ms\n",
      "578:\tlearn: 0.1130556\ttotal: 535ms\tremaining: 389ms\n",
      "579:\tlearn: 0.1128725\ttotal: 536ms\tremaining: 388ms\n",
      "580:\tlearn: 0.1125927\ttotal: 537ms\tremaining: 387ms\n",
      "581:\tlearn: 0.1123989\ttotal: 538ms\tremaining: 386ms\n",
      "582:\tlearn: 0.1123062\ttotal: 539ms\tremaining: 385ms\n",
      "583:\tlearn: 0.1121377\ttotal: 540ms\tremaining: 384ms\n",
      "584:\tlearn: 0.1118760\ttotal: 540ms\tremaining: 383ms\n",
      "585:\tlearn: 0.1116438\ttotal: 541ms\tremaining: 382ms\n",
      "586:\tlearn: 0.1114832\ttotal: 542ms\tremaining: 381ms\n",
      "587:\tlearn: 0.1113569\ttotal: 543ms\tremaining: 380ms\n",
      "588:\tlearn: 0.1111392\ttotal: 543ms\tremaining: 379ms\n",
      "589:\tlearn: 0.1109597\ttotal: 544ms\tremaining: 378ms\n",
      "590:\tlearn: 0.1107838\ttotal: 545ms\tremaining: 377ms\n",
      "591:\tlearn: 0.1107608\ttotal: 546ms\tremaining: 376ms\n",
      "592:\tlearn: 0.1105094\ttotal: 547ms\tremaining: 375ms\n",
      "593:\tlearn: 0.1103424\ttotal: 548ms\tremaining: 374ms\n",
      "594:\tlearn: 0.1102287\ttotal: 548ms\tremaining: 373ms\n",
      "595:\tlearn: 0.1100267\ttotal: 549ms\tremaining: 372ms\n",
      "596:\tlearn: 0.1098096\ttotal: 550ms\tremaining: 371ms\n",
      "597:\tlearn: 0.1096263\ttotal: 551ms\tremaining: 370ms\n",
      "598:\tlearn: 0.1094012\ttotal: 551ms\tremaining: 369ms\n",
      "599:\tlearn: 0.1092367\ttotal: 552ms\tremaining: 368ms\n",
      "600:\tlearn: 0.1091267\ttotal: 553ms\tremaining: 367ms\n",
      "601:\tlearn: 0.1089353\ttotal: 554ms\tremaining: 366ms\n",
      "602:\tlearn: 0.1088821\ttotal: 555ms\tremaining: 365ms\n",
      "603:\tlearn: 0.1087585\ttotal: 556ms\tremaining: 364ms\n",
      "604:\tlearn: 0.1086040\ttotal: 556ms\tremaining: 363ms\n",
      "605:\tlearn: 0.1084765\ttotal: 557ms\tremaining: 362ms\n",
      "606:\tlearn: 0.1083056\ttotal: 558ms\tremaining: 361ms\n",
      "607:\tlearn: 0.1081926\ttotal: 559ms\tremaining: 360ms\n",
      "608:\tlearn: 0.1079392\ttotal: 560ms\tremaining: 359ms\n",
      "609:\tlearn: 0.1077208\ttotal: 560ms\tremaining: 358ms\n",
      "610:\tlearn: 0.1075334\ttotal: 561ms\tremaining: 357ms\n",
      "611:\tlearn: 0.1073526\ttotal: 562ms\tremaining: 356ms\n",
      "612:\tlearn: 0.1071120\ttotal: 563ms\tremaining: 355ms\n",
      "613:\tlearn: 0.1069390\ttotal: 564ms\tremaining: 355ms\n",
      "614:\tlearn: 0.1068043\ttotal: 565ms\tremaining: 354ms\n",
      "615:\tlearn: 0.1066475\ttotal: 566ms\tremaining: 353ms\n",
      "616:\tlearn: 0.1066349\ttotal: 566ms\tremaining: 352ms\n",
      "617:\tlearn: 0.1064967\ttotal: 567ms\tremaining: 351ms\n",
      "618:\tlearn: 0.1064365\ttotal: 568ms\tremaining: 350ms\n",
      "619:\tlearn: 0.1064124\ttotal: 569ms\tremaining: 349ms\n",
      "620:\tlearn: 0.1062016\ttotal: 570ms\tremaining: 348ms\n",
      "621:\tlearn: 0.1060315\ttotal: 570ms\tremaining: 347ms\n",
      "622:\tlearn: 0.1059518\ttotal: 571ms\tremaining: 346ms\n"
     ]
    },
    {
     "name": "stdout",
     "output_type": "stream",
     "text": [
      "623:\tlearn: 0.1058403\ttotal: 572ms\tremaining: 345ms\n",
      "624:\tlearn: 0.1055817\ttotal: 573ms\tremaining: 344ms\n",
      "625:\tlearn: 0.1054125\ttotal: 574ms\tremaining: 343ms\n",
      "626:\tlearn: 0.1052559\ttotal: 575ms\tremaining: 342ms\n",
      "627:\tlearn: 0.1050533\ttotal: 575ms\tremaining: 341ms\n",
      "628:\tlearn: 0.1049243\ttotal: 576ms\tremaining: 340ms\n",
      "629:\tlearn: 0.1047596\ttotal: 577ms\tremaining: 339ms\n",
      "630:\tlearn: 0.1047014\ttotal: 578ms\tremaining: 338ms\n",
      "631:\tlearn: 0.1045456\ttotal: 579ms\tremaining: 337ms\n",
      "632:\tlearn: 0.1044971\ttotal: 579ms\tremaining: 336ms\n",
      "633:\tlearn: 0.1042307\ttotal: 580ms\tremaining: 335ms\n",
      "634:\tlearn: 0.1040594\ttotal: 581ms\tremaining: 334ms\n",
      "635:\tlearn: 0.1038633\ttotal: 582ms\tremaining: 333ms\n",
      "636:\tlearn: 0.1036711\ttotal: 582ms\tremaining: 332ms\n",
      "637:\tlearn: 0.1034650\ttotal: 583ms\tremaining: 331ms\n",
      "638:\tlearn: 0.1034297\ttotal: 584ms\tremaining: 330ms\n",
      "639:\tlearn: 0.1032307\ttotal: 585ms\tremaining: 329ms\n",
      "640:\tlearn: 0.1031584\ttotal: 585ms\tremaining: 328ms\n",
      "641:\tlearn: 0.1031314\ttotal: 586ms\tremaining: 327ms\n",
      "642:\tlearn: 0.1030007\ttotal: 587ms\tremaining: 326ms\n",
      "643:\tlearn: 0.1027873\ttotal: 588ms\tremaining: 325ms\n",
      "644:\tlearn: 0.1027172\ttotal: 589ms\tremaining: 324ms\n",
      "645:\tlearn: 0.1026016\ttotal: 589ms\tremaining: 323ms\n",
      "646:\tlearn: 0.1024110\ttotal: 590ms\tremaining: 322ms\n",
      "647:\tlearn: 0.1022549\ttotal: 591ms\tremaining: 321ms\n",
      "648:\tlearn: 0.1021636\ttotal: 592ms\tremaining: 320ms\n",
      "649:\tlearn: 0.1019138\ttotal: 593ms\tremaining: 319ms\n",
      "650:\tlearn: 0.1017333\ttotal: 594ms\tremaining: 318ms\n",
      "651:\tlearn: 0.1014369\ttotal: 594ms\tremaining: 317ms\n",
      "652:\tlearn: 0.1012858\ttotal: 595ms\tremaining: 316ms\n",
      "653:\tlearn: 0.1012640\ttotal: 596ms\tremaining: 315ms\n",
      "654:\tlearn: 0.1010696\ttotal: 597ms\tremaining: 314ms\n",
      "655:\tlearn: 0.1008803\ttotal: 598ms\tremaining: 313ms\n",
      "656:\tlearn: 0.1007762\ttotal: 599ms\tremaining: 313ms\n",
      "657:\tlearn: 0.1005833\ttotal: 599ms\tremaining: 312ms\n",
      "658:\tlearn: 0.1004988\ttotal: 600ms\tremaining: 311ms\n",
      "659:\tlearn: 0.1004163\ttotal: 601ms\tremaining: 310ms\n",
      "660:\tlearn: 0.1002604\ttotal: 602ms\tremaining: 309ms\n",
      "661:\tlearn: 0.1002047\ttotal: 603ms\tremaining: 308ms\n",
      "662:\tlearn: 0.0999829\ttotal: 603ms\tremaining: 307ms\n",
      "663:\tlearn: 0.0998558\ttotal: 604ms\tremaining: 306ms\n",
      "664:\tlearn: 0.0996260\ttotal: 605ms\tremaining: 305ms\n",
      "665:\tlearn: 0.0995075\ttotal: 606ms\tremaining: 304ms\n",
      "666:\tlearn: 0.0992809\ttotal: 607ms\tremaining: 303ms\n",
      "667:\tlearn: 0.0990808\ttotal: 607ms\tremaining: 302ms\n",
      "668:\tlearn: 0.0989930\ttotal: 608ms\tremaining: 301ms\n",
      "669:\tlearn: 0.0988579\ttotal: 609ms\tremaining: 300ms\n",
      "670:\tlearn: 0.0987182\ttotal: 610ms\tremaining: 299ms\n",
      "671:\tlearn: 0.0984949\ttotal: 611ms\tremaining: 298ms\n",
      "672:\tlearn: 0.0984051\ttotal: 612ms\tremaining: 297ms\n",
      "673:\tlearn: 0.0982956\ttotal: 613ms\tremaining: 297ms\n",
      "674:\tlearn: 0.0982305\ttotal: 614ms\tremaining: 296ms\n",
      "675:\tlearn: 0.0980660\ttotal: 615ms\tremaining: 295ms\n",
      "676:\tlearn: 0.0979465\ttotal: 616ms\tremaining: 294ms\n",
      "677:\tlearn: 0.0978286\ttotal: 617ms\tremaining: 293ms\n",
      "678:\tlearn: 0.0976655\ttotal: 617ms\tremaining: 292ms\n",
      "679:\tlearn: 0.0974742\ttotal: 618ms\tremaining: 291ms\n",
      "680:\tlearn: 0.0972493\ttotal: 619ms\tremaining: 290ms\n",
      "681:\tlearn: 0.0970539\ttotal: 620ms\tremaining: 289ms\n",
      "682:\tlearn: 0.0969010\ttotal: 621ms\tremaining: 288ms\n",
      "683:\tlearn: 0.0968583\ttotal: 621ms\tremaining: 287ms\n",
      "684:\tlearn: 0.0967873\ttotal: 622ms\tremaining: 286ms\n",
      "685:\tlearn: 0.0965908\ttotal: 623ms\tremaining: 285ms\n",
      "686:\tlearn: 0.0963966\ttotal: 624ms\tremaining: 284ms\n",
      "687:\tlearn: 0.0962926\ttotal: 625ms\tremaining: 283ms\n",
      "688:\tlearn: 0.0961128\ttotal: 625ms\tremaining: 282ms\n",
      "689:\tlearn: 0.0958853\ttotal: 626ms\tremaining: 281ms\n",
      "690:\tlearn: 0.0957333\ttotal: 628ms\tremaining: 281ms\n",
      "691:\tlearn: 0.0956613\ttotal: 629ms\tremaining: 280ms\n",
      "692:\tlearn: 0.0954801\ttotal: 630ms\tremaining: 279ms\n",
      "693:\tlearn: 0.0953603\ttotal: 630ms\tremaining: 278ms\n",
      "694:\tlearn: 0.0952761\ttotal: 631ms\tremaining: 277ms\n",
      "695:\tlearn: 0.0951320\ttotal: 632ms\tremaining: 276ms\n",
      "696:\tlearn: 0.0951009\ttotal: 633ms\tremaining: 275ms\n",
      "697:\tlearn: 0.0950109\ttotal: 633ms\tremaining: 274ms\n",
      "698:\tlearn: 0.0948518\ttotal: 634ms\tremaining: 273ms\n",
      "699:\tlearn: 0.0946485\ttotal: 635ms\tremaining: 272ms\n",
      "700:\tlearn: 0.0945771\ttotal: 636ms\tremaining: 271ms\n",
      "701:\tlearn: 0.0944557\ttotal: 637ms\tremaining: 270ms\n",
      "702:\tlearn: 0.0943252\ttotal: 637ms\tremaining: 269ms\n",
      "703:\tlearn: 0.0943046\ttotal: 638ms\tremaining: 268ms\n",
      "704:\tlearn: 0.0940842\ttotal: 639ms\tremaining: 267ms\n",
      "705:\tlearn: 0.0939375\ttotal: 640ms\tremaining: 266ms\n",
      "706:\tlearn: 0.0938378\ttotal: 641ms\tremaining: 266ms\n",
      "707:\tlearn: 0.0938073\ttotal: 642ms\tremaining: 265ms\n",
      "708:\tlearn: 0.0937219\ttotal: 643ms\tremaining: 264ms\n",
      "709:\tlearn: 0.0935251\ttotal: 644ms\tremaining: 263ms\n",
      "710:\tlearn: 0.0933911\ttotal: 645ms\tremaining: 262ms\n",
      "711:\tlearn: 0.0932077\ttotal: 645ms\tremaining: 261ms\n",
      "712:\tlearn: 0.0931591\ttotal: 646ms\tremaining: 260ms\n",
      "713:\tlearn: 0.0930137\ttotal: 647ms\tremaining: 259ms\n",
      "714:\tlearn: 0.0928967\ttotal: 648ms\tremaining: 258ms\n",
      "715:\tlearn: 0.0927683\ttotal: 649ms\tremaining: 257ms\n",
      "716:\tlearn: 0.0927326\ttotal: 650ms\tremaining: 256ms\n",
      "717:\tlearn: 0.0927083\ttotal: 650ms\tremaining: 255ms\n",
      "718:\tlearn: 0.0925421\ttotal: 651ms\tremaining: 254ms\n",
      "719:\tlearn: 0.0924261\ttotal: 652ms\tremaining: 254ms\n",
      "720:\tlearn: 0.0923071\ttotal: 653ms\tremaining: 253ms\n",
      "721:\tlearn: 0.0920431\ttotal: 653ms\tremaining: 252ms\n",
      "722:\tlearn: 0.0920323\ttotal: 654ms\tremaining: 251ms\n",
      "723:\tlearn: 0.0918435\ttotal: 655ms\tremaining: 250ms\n",
      "724:\tlearn: 0.0916584\ttotal: 656ms\tremaining: 249ms\n",
      "725:\tlearn: 0.0915538\ttotal: 657ms\tremaining: 248ms\n",
      "726:\tlearn: 0.0915209\ttotal: 657ms\tremaining: 247ms\n",
      "727:\tlearn: 0.0913332\ttotal: 658ms\tremaining: 246ms\n",
      "728:\tlearn: 0.0912038\ttotal: 659ms\tremaining: 245ms\n",
      "729:\tlearn: 0.0911778\ttotal: 660ms\tremaining: 244ms\n",
      "730:\tlearn: 0.0910986\ttotal: 661ms\tremaining: 243ms\n",
      "731:\tlearn: 0.0909719\ttotal: 662ms\tremaining: 242ms\n",
      "732:\tlearn: 0.0908640\ttotal: 663ms\tremaining: 241ms\n",
      "733:\tlearn: 0.0907306\ttotal: 663ms\tremaining: 240ms\n",
      "734:\tlearn: 0.0906349\ttotal: 664ms\tremaining: 240ms\n",
      "735:\tlearn: 0.0904975\ttotal: 665ms\tremaining: 239ms\n",
      "736:\tlearn: 0.0903570\ttotal: 666ms\tremaining: 238ms\n",
      "737:\tlearn: 0.0902381\ttotal: 667ms\tremaining: 237ms\n",
      "738:\tlearn: 0.0901092\ttotal: 667ms\tremaining: 236ms\n",
      "739:\tlearn: 0.0899671\ttotal: 668ms\tremaining: 235ms\n",
      "740:\tlearn: 0.0898708\ttotal: 669ms\tremaining: 234ms\n",
      "741:\tlearn: 0.0898095\ttotal: 670ms\tremaining: 233ms\n",
      "742:\tlearn: 0.0897151\ttotal: 671ms\tremaining: 232ms\n",
      "743:\tlearn: 0.0895788\ttotal: 672ms\tremaining: 231ms\n",
      "744:\tlearn: 0.0894879\ttotal: 673ms\tremaining: 230ms\n",
      "745:\tlearn: 0.0892824\ttotal: 674ms\tremaining: 229ms\n",
      "746:\tlearn: 0.0891220\ttotal: 675ms\tremaining: 228ms\n",
      "747:\tlearn: 0.0890170\ttotal: 675ms\tremaining: 228ms\n"
     ]
    },
    {
     "name": "stdout",
     "output_type": "stream",
     "text": [
      "748:\tlearn: 0.0889949\ttotal: 676ms\tremaining: 227ms\n",
      "749:\tlearn: 0.0888681\ttotal: 677ms\tremaining: 226ms\n",
      "750:\tlearn: 0.0887111\ttotal: 678ms\tremaining: 225ms\n",
      "751:\tlearn: 0.0886048\ttotal: 680ms\tremaining: 224ms\n",
      "752:\tlearn: 0.0885680\ttotal: 681ms\tremaining: 223ms\n",
      "753:\tlearn: 0.0884634\ttotal: 681ms\tremaining: 222ms\n",
      "754:\tlearn: 0.0882719\ttotal: 682ms\tremaining: 221ms\n",
      "755:\tlearn: 0.0881891\ttotal: 683ms\tremaining: 220ms\n",
      "756:\tlearn: 0.0880895\ttotal: 684ms\tremaining: 220ms\n",
      "757:\tlearn: 0.0879866\ttotal: 685ms\tremaining: 219ms\n",
      "758:\tlearn: 0.0879006\ttotal: 686ms\tremaining: 218ms\n",
      "759:\tlearn: 0.0878177\ttotal: 687ms\tremaining: 217ms\n",
      "760:\tlearn: 0.0876983\ttotal: 687ms\tremaining: 216ms\n",
      "761:\tlearn: 0.0875728\ttotal: 688ms\tremaining: 215ms\n",
      "762:\tlearn: 0.0873814\ttotal: 689ms\tremaining: 214ms\n",
      "763:\tlearn: 0.0872409\ttotal: 690ms\tremaining: 213ms\n",
      "764:\tlearn: 0.0872195\ttotal: 691ms\tremaining: 212ms\n",
      "765:\tlearn: 0.0870543\ttotal: 691ms\tremaining: 211ms\n",
      "766:\tlearn: 0.0869327\ttotal: 692ms\tremaining: 210ms\n",
      "767:\tlearn: 0.0868642\ttotal: 693ms\tremaining: 209ms\n",
      "768:\tlearn: 0.0868264\ttotal: 694ms\tremaining: 208ms\n",
      "769:\tlearn: 0.0866979\ttotal: 695ms\tremaining: 208ms\n",
      "770:\tlearn: 0.0865725\ttotal: 696ms\tremaining: 207ms\n",
      "771:\tlearn: 0.0865468\ttotal: 697ms\tremaining: 206ms\n",
      "772:\tlearn: 0.0863428\ttotal: 697ms\tremaining: 205ms\n",
      "773:\tlearn: 0.0862184\ttotal: 698ms\tremaining: 204ms\n",
      "774:\tlearn: 0.0862002\ttotal: 699ms\tremaining: 203ms\n",
      "775:\tlearn: 0.0860777\ttotal: 700ms\tremaining: 202ms\n",
      "776:\tlearn: 0.0859127\ttotal: 701ms\tremaining: 201ms\n",
      "777:\tlearn: 0.0858102\ttotal: 701ms\tremaining: 200ms\n",
      "778:\tlearn: 0.0856635\ttotal: 702ms\tremaining: 199ms\n",
      "779:\tlearn: 0.0856465\ttotal: 703ms\tremaining: 198ms\n",
      "780:\tlearn: 0.0856220\ttotal: 704ms\tremaining: 197ms\n",
      "781:\tlearn: 0.0855431\ttotal: 705ms\tremaining: 196ms\n",
      "782:\tlearn: 0.0855345\ttotal: 706ms\tremaining: 196ms\n",
      "783:\tlearn: 0.0854783\ttotal: 707ms\tremaining: 195ms\n",
      "784:\tlearn: 0.0854644\ttotal: 707ms\tremaining: 194ms\n",
      "785:\tlearn: 0.0853314\ttotal: 708ms\tremaining: 193ms\n",
      "786:\tlearn: 0.0851921\ttotal: 709ms\tremaining: 192ms\n",
      "787:\tlearn: 0.0850900\ttotal: 710ms\tremaining: 191ms\n",
      "788:\tlearn: 0.0849586\ttotal: 711ms\tremaining: 190ms\n",
      "789:\tlearn: 0.0848757\ttotal: 711ms\tremaining: 189ms\n",
      "790:\tlearn: 0.0846942\ttotal: 712ms\tremaining: 188ms\n",
      "791:\tlearn: 0.0845750\ttotal: 713ms\tremaining: 187ms\n",
      "792:\tlearn: 0.0844735\ttotal: 714ms\tremaining: 186ms\n",
      "793:\tlearn: 0.0843636\ttotal: 715ms\tremaining: 185ms\n",
      "794:\tlearn: 0.0841907\ttotal: 715ms\tremaining: 184ms\n",
      "795:\tlearn: 0.0840645\ttotal: 716ms\tremaining: 184ms\n",
      "796:\tlearn: 0.0840476\ttotal: 717ms\tremaining: 183ms\n",
      "797:\tlearn: 0.0839284\ttotal: 718ms\tremaining: 182ms\n",
      "798:\tlearn: 0.0838943\ttotal: 719ms\tremaining: 181ms\n",
      "799:\tlearn: 0.0837979\ttotal: 720ms\tremaining: 180ms\n",
      "800:\tlearn: 0.0837603\ttotal: 720ms\tremaining: 179ms\n",
      "801:\tlearn: 0.0836645\ttotal: 721ms\tremaining: 178ms\n",
      "802:\tlearn: 0.0835459\ttotal: 722ms\tremaining: 177ms\n",
      "803:\tlearn: 0.0833163\ttotal: 723ms\tremaining: 176ms\n",
      "804:\tlearn: 0.0831098\ttotal: 724ms\tremaining: 175ms\n",
      "805:\tlearn: 0.0830166\ttotal: 725ms\tremaining: 174ms\n",
      "806:\tlearn: 0.0829256\ttotal: 726ms\tremaining: 174ms\n",
      "807:\tlearn: 0.0828261\ttotal: 726ms\tremaining: 173ms\n",
      "808:\tlearn: 0.0827030\ttotal: 727ms\tremaining: 172ms\n",
      "809:\tlearn: 0.0825552\ttotal: 728ms\tremaining: 171ms\n",
      "810:\tlearn: 0.0824507\ttotal: 729ms\tremaining: 170ms\n",
      "811:\tlearn: 0.0823276\ttotal: 730ms\tremaining: 169ms\n",
      "812:\tlearn: 0.0821916\ttotal: 730ms\tremaining: 168ms\n",
      "813:\tlearn: 0.0820244\ttotal: 731ms\tremaining: 167ms\n",
      "814:\tlearn: 0.0819489\ttotal: 732ms\tremaining: 166ms\n",
      "815:\tlearn: 0.0818249\ttotal: 733ms\tremaining: 165ms\n",
      "816:\tlearn: 0.0817497\ttotal: 734ms\tremaining: 164ms\n",
      "817:\tlearn: 0.0816007\ttotal: 734ms\tremaining: 163ms\n",
      "818:\tlearn: 0.0814519\ttotal: 735ms\tremaining: 162ms\n",
      "819:\tlearn: 0.0812895\ttotal: 736ms\tremaining: 162ms\n",
      "820:\tlearn: 0.0811652\ttotal: 737ms\tremaining: 161ms\n",
      "821:\tlearn: 0.0810394\ttotal: 738ms\tremaining: 160ms\n",
      "822:\tlearn: 0.0809105\ttotal: 739ms\tremaining: 159ms\n",
      "823:\tlearn: 0.0808092\ttotal: 739ms\tremaining: 158ms\n",
      "824:\tlearn: 0.0807362\ttotal: 740ms\tremaining: 157ms\n",
      "825:\tlearn: 0.0806016\ttotal: 741ms\tremaining: 156ms\n",
      "826:\tlearn: 0.0804922\ttotal: 742ms\tremaining: 155ms\n",
      "827:\tlearn: 0.0803341\ttotal: 743ms\tremaining: 154ms\n",
      "828:\tlearn: 0.0801591\ttotal: 744ms\tremaining: 153ms\n",
      "829:\tlearn: 0.0801158\ttotal: 744ms\tremaining: 152ms\n",
      "830:\tlearn: 0.0800441\ttotal: 745ms\tremaining: 152ms\n",
      "831:\tlearn: 0.0799842\ttotal: 746ms\tremaining: 151ms\n",
      "832:\tlearn: 0.0798515\ttotal: 747ms\tremaining: 150ms\n",
      "833:\tlearn: 0.0797645\ttotal: 748ms\tremaining: 149ms\n",
      "834:\tlearn: 0.0796223\ttotal: 749ms\tremaining: 148ms\n",
      "835:\tlearn: 0.0795384\ttotal: 749ms\tremaining: 147ms\n",
      "836:\tlearn: 0.0793718\ttotal: 750ms\tremaining: 146ms\n",
      "837:\tlearn: 0.0791416\ttotal: 752ms\tremaining: 145ms\n",
      "838:\tlearn: 0.0790302\ttotal: 753ms\tremaining: 144ms\n",
      "839:\tlearn: 0.0789388\ttotal: 754ms\tremaining: 144ms\n",
      "840:\tlearn: 0.0788670\ttotal: 754ms\tremaining: 143ms\n",
      "841:\tlearn: 0.0787867\ttotal: 756ms\tremaining: 142ms\n",
      "842:\tlearn: 0.0786908\ttotal: 757ms\tremaining: 141ms\n",
      "843:\tlearn: 0.0786085\ttotal: 757ms\tremaining: 140ms\n",
      "844:\tlearn: 0.0785464\ttotal: 758ms\tremaining: 139ms\n",
      "845:\tlearn: 0.0785102\ttotal: 759ms\tremaining: 138ms\n",
      "846:\tlearn: 0.0784381\ttotal: 760ms\tremaining: 137ms\n",
      "847:\tlearn: 0.0782843\ttotal: 761ms\tremaining: 136ms\n"
     ]
    },
    {
     "name": "stdout",
     "output_type": "stream",
     "text": [
      "848:\tlearn: 0.0782675\ttotal: 762ms\tremaining: 135ms\n",
      "849:\tlearn: 0.0781691\ttotal: 763ms\tremaining: 135ms\n",
      "850:\tlearn: 0.0780574\ttotal: 764ms\tremaining: 134ms\n",
      "851:\tlearn: 0.0779205\ttotal: 764ms\tremaining: 133ms\n",
      "852:\tlearn: 0.0778266\ttotal: 765ms\tremaining: 132ms\n",
      "853:\tlearn: 0.0776184\ttotal: 766ms\tremaining: 131ms\n",
      "854:\tlearn: 0.0774458\ttotal: 767ms\tremaining: 130ms\n",
      "855:\tlearn: 0.0773619\ttotal: 768ms\tremaining: 129ms\n",
      "856:\tlearn: 0.0773208\ttotal: 769ms\tremaining: 128ms\n",
      "857:\tlearn: 0.0772848\ttotal: 769ms\tremaining: 127ms\n",
      "858:\tlearn: 0.0772069\ttotal: 770ms\tremaining: 126ms\n",
      "859:\tlearn: 0.0771209\ttotal: 771ms\tremaining: 126ms\n",
      "860:\tlearn: 0.0770523\ttotal: 772ms\tremaining: 125ms\n",
      "861:\tlearn: 0.0770310\ttotal: 773ms\tremaining: 124ms\n",
      "862:\tlearn: 0.0769331\ttotal: 774ms\tremaining: 123ms\n",
      "863:\tlearn: 0.0768653\ttotal: 774ms\tremaining: 122ms\n",
      "864:\tlearn: 0.0767486\ttotal: 775ms\tremaining: 121ms\n",
      "865:\tlearn: 0.0766681\ttotal: 776ms\tremaining: 120ms\n",
      "866:\tlearn: 0.0766315\ttotal: 777ms\tremaining: 119ms\n",
      "867:\tlearn: 0.0764637\ttotal: 778ms\tremaining: 118ms\n",
      "868:\tlearn: 0.0763475\ttotal: 778ms\tremaining: 117ms\n",
      "869:\tlearn: 0.0762598\ttotal: 779ms\tremaining: 116ms\n",
      "870:\tlearn: 0.0761334\ttotal: 780ms\tremaining: 116ms\n",
      "871:\tlearn: 0.0760480\ttotal: 781ms\tremaining: 115ms\n",
      "872:\tlearn: 0.0759021\ttotal: 782ms\tremaining: 114ms\n",
      "873:\tlearn: 0.0758642\ttotal: 782ms\tremaining: 113ms\n",
      "874:\tlearn: 0.0757180\ttotal: 783ms\tremaining: 112ms\n",
      "875:\tlearn: 0.0755654\ttotal: 784ms\tremaining: 111ms\n",
      "876:\tlearn: 0.0755037\ttotal: 785ms\tremaining: 110ms\n",
      "877:\tlearn: 0.0754947\ttotal: 786ms\tremaining: 109ms\n",
      "878:\tlearn: 0.0754610\ttotal: 787ms\tremaining: 108ms\n",
      "879:\tlearn: 0.0754174\ttotal: 788ms\tremaining: 107ms\n",
      "880:\tlearn: 0.0753915\ttotal: 789ms\tremaining: 107ms\n",
      "881:\tlearn: 0.0753741\ttotal: 789ms\tremaining: 106ms\n",
      "882:\tlearn: 0.0752809\ttotal: 790ms\tremaining: 105ms\n",
      "883:\tlearn: 0.0751919\ttotal: 791ms\tremaining: 104ms\n",
      "884:\tlearn: 0.0750721\ttotal: 792ms\tremaining: 103ms\n",
      "885:\tlearn: 0.0749691\ttotal: 793ms\tremaining: 102ms\n",
      "886:\tlearn: 0.0748841\ttotal: 794ms\tremaining: 101ms\n",
      "887:\tlearn: 0.0747748\ttotal: 794ms\tremaining: 100ms\n",
      "888:\tlearn: 0.0746966\ttotal: 795ms\tremaining: 99.3ms\n",
      "889:\tlearn: 0.0745524\ttotal: 796ms\tremaining: 98.4ms\n",
      "890:\tlearn: 0.0745457\ttotal: 798ms\tremaining: 97.7ms\n",
      "891:\tlearn: 0.0744735\ttotal: 799ms\tremaining: 96.8ms\n",
      "892:\tlearn: 0.0743438\ttotal: 800ms\tremaining: 95.9ms\n",
      "893:\tlearn: 0.0742335\ttotal: 801ms\tremaining: 95ms\n",
      "894:\tlearn: 0.0741429\ttotal: 802ms\tremaining: 94.1ms\n",
      "895:\tlearn: 0.0740582\ttotal: 803ms\tremaining: 93.2ms\n",
      "896:\tlearn: 0.0739724\ttotal: 803ms\tremaining: 92.2ms\n",
      "897:\tlearn: 0.0738936\ttotal: 804ms\tremaining: 91.3ms\n",
      "898:\tlearn: 0.0738533\ttotal: 805ms\tremaining: 90.4ms\n",
      "899:\tlearn: 0.0737195\ttotal: 806ms\tremaining: 89.6ms\n",
      "900:\tlearn: 0.0735974\ttotal: 807ms\tremaining: 88.6ms\n",
      "901:\tlearn: 0.0735218\ttotal: 808ms\tremaining: 87.8ms\n",
      "902:\tlearn: 0.0733591\ttotal: 808ms\tremaining: 86.8ms\n",
      "903:\tlearn: 0.0732431\ttotal: 809ms\tremaining: 85.9ms\n",
      "904:\tlearn: 0.0732047\ttotal: 810ms\tremaining: 85ms\n",
      "905:\tlearn: 0.0730932\ttotal: 811ms\tremaining: 84.1ms\n",
      "906:\tlearn: 0.0730745\ttotal: 811ms\tremaining: 83.2ms\n",
      "907:\tlearn: 0.0729951\ttotal: 812ms\tremaining: 82.3ms\n",
      "908:\tlearn: 0.0729623\ttotal: 813ms\tremaining: 81.4ms\n",
      "909:\tlearn: 0.0728789\ttotal: 814ms\tremaining: 80.5ms\n",
      "910:\tlearn: 0.0728260\ttotal: 815ms\tremaining: 79.6ms\n",
      "911:\tlearn: 0.0727945\ttotal: 816ms\tremaining: 78.7ms\n",
      "912:\tlearn: 0.0727195\ttotal: 816ms\tremaining: 77.8ms\n",
      "913:\tlearn: 0.0726383\ttotal: 817ms\tremaining: 76.9ms\n",
      "914:\tlearn: 0.0726018\ttotal: 818ms\tremaining: 76ms\n",
      "915:\tlearn: 0.0725199\ttotal: 819ms\tremaining: 75.1ms\n",
      "916:\tlearn: 0.0723749\ttotal: 820ms\tremaining: 74.2ms\n",
      "917:\tlearn: 0.0723174\ttotal: 820ms\tremaining: 73.3ms\n",
      "918:\tlearn: 0.0722438\ttotal: 821ms\tremaining: 72.4ms\n",
      "919:\tlearn: 0.0721486\ttotal: 822ms\tremaining: 71.5ms\n",
      "920:\tlearn: 0.0719940\ttotal: 823ms\tremaining: 70.6ms\n",
      "921:\tlearn: 0.0719810\ttotal: 824ms\tremaining: 69.7ms\n",
      "922:\tlearn: 0.0718852\ttotal: 824ms\tremaining: 68.8ms\n",
      "923:\tlearn: 0.0717832\ttotal: 825ms\tremaining: 67.9ms\n",
      "924:\tlearn: 0.0717150\ttotal: 826ms\tremaining: 67ms\n",
      "925:\tlearn: 0.0716037\ttotal: 827ms\tremaining: 66.1ms\n",
      "926:\tlearn: 0.0714838\ttotal: 828ms\tremaining: 65.2ms\n",
      "927:\tlearn: 0.0714128\ttotal: 828ms\tremaining: 64.3ms\n",
      "928:\tlearn: 0.0713149\ttotal: 829ms\tremaining: 63.4ms\n",
      "929:\tlearn: 0.0712867\ttotal: 830ms\tremaining: 62.5ms\n",
      "930:\tlearn: 0.0712042\ttotal: 831ms\tremaining: 61.6ms\n",
      "931:\tlearn: 0.0711271\ttotal: 832ms\tremaining: 60.7ms\n",
      "932:\tlearn: 0.0710421\ttotal: 832ms\tremaining: 59.8ms\n",
      "933:\tlearn: 0.0708993\ttotal: 833ms\tremaining: 58.9ms\n",
      "934:\tlearn: 0.0707976\ttotal: 834ms\tremaining: 58ms\n",
      "935:\tlearn: 0.0707589\ttotal: 835ms\tremaining: 57.1ms\n",
      "936:\tlearn: 0.0706081\ttotal: 836ms\tremaining: 56.2ms\n",
      "937:\tlearn: 0.0704636\ttotal: 836ms\tremaining: 55.3ms\n",
      "938:\tlearn: 0.0704009\ttotal: 837ms\tremaining: 54.4ms\n",
      "939:\tlearn: 0.0702993\ttotal: 838ms\tremaining: 53.5ms\n",
      "940:\tlearn: 0.0701463\ttotal: 839ms\tremaining: 52.6ms\n",
      "941:\tlearn: 0.0700122\ttotal: 839ms\tremaining: 51.7ms\n",
      "942:\tlearn: 0.0698827\ttotal: 840ms\tremaining: 50.8ms\n",
      "943:\tlearn: 0.0698232\ttotal: 841ms\tremaining: 49.9ms\n",
      "944:\tlearn: 0.0697462\ttotal: 842ms\tremaining: 49ms\n",
      "945:\tlearn: 0.0696532\ttotal: 843ms\tremaining: 48.1ms\n",
      "946:\tlearn: 0.0695689\ttotal: 843ms\tremaining: 47.2ms\n",
      "947:\tlearn: 0.0695360\ttotal: 844ms\tremaining: 46.3ms\n",
      "948:\tlearn: 0.0694884\ttotal: 845ms\tremaining: 45.4ms\n",
      "949:\tlearn: 0.0693593\ttotal: 846ms\tremaining: 44.5ms\n",
      "950:\tlearn: 0.0692855\ttotal: 847ms\tremaining: 43.6ms\n",
      "951:\tlearn: 0.0692113\ttotal: 847ms\tremaining: 42.7ms\n",
      "952:\tlearn: 0.0691846\ttotal: 848ms\tremaining: 41.8ms\n",
      "953:\tlearn: 0.0690622\ttotal: 849ms\tremaining: 40.9ms\n",
      "954:\tlearn: 0.0689909\ttotal: 850ms\tremaining: 40ms\n",
      "955:\tlearn: 0.0688752\ttotal: 850ms\tremaining: 39.1ms\n",
      "956:\tlearn: 0.0687634\ttotal: 851ms\tremaining: 38.2ms\n",
      "957:\tlearn: 0.0686952\ttotal: 852ms\tremaining: 37.4ms\n",
      "958:\tlearn: 0.0686498\ttotal: 853ms\tremaining: 36.5ms\n",
      "959:\tlearn: 0.0685714\ttotal: 854ms\tremaining: 35.6ms\n",
      "960:\tlearn: 0.0684667\ttotal: 855ms\tremaining: 34.7ms\n",
      "961:\tlearn: 0.0683711\ttotal: 855ms\tremaining: 33.8ms\n",
      "962:\tlearn: 0.0682726\ttotal: 856ms\tremaining: 32.9ms\n",
      "963:\tlearn: 0.0681850\ttotal: 857ms\tremaining: 32ms\n",
      "964:\tlearn: 0.0680786\ttotal: 858ms\tremaining: 31.1ms\n",
      "965:\tlearn: 0.0679650\ttotal: 858ms\tremaining: 30.2ms\n",
      "966:\tlearn: 0.0678095\ttotal: 859ms\tremaining: 29.3ms\n",
      "967:\tlearn: 0.0677352\ttotal: 860ms\tremaining: 28.4ms\n",
      "968:\tlearn: 0.0676345\ttotal: 861ms\tremaining: 27.5ms\n",
      "969:\tlearn: 0.0675095\ttotal: 862ms\tremaining: 26.6ms\n",
      "970:\tlearn: 0.0674538\ttotal: 862ms\tremaining: 25.8ms\n",
      "971:\tlearn: 0.0674207\ttotal: 863ms\tremaining: 24.9ms\n",
      "972:\tlearn: 0.0673281\ttotal: 864ms\tremaining: 24ms\n",
      "973:\tlearn: 0.0672205\ttotal: 865ms\tremaining: 23.1ms\n",
      "974:\tlearn: 0.0670996\ttotal: 866ms\tremaining: 22.2ms\n"
     ]
    },
    {
     "name": "stdout",
     "output_type": "stream",
     "text": [
      "975:\tlearn: 0.0670159\ttotal: 867ms\tremaining: 21.3ms\n",
      "976:\tlearn: 0.0668650\ttotal: 868ms\tremaining: 20.4ms\n",
      "977:\tlearn: 0.0667690\ttotal: 869ms\tremaining: 19.5ms\n",
      "978:\tlearn: 0.0667043\ttotal: 870ms\tremaining: 18.7ms\n",
      "979:\tlearn: 0.0666469\ttotal: 870ms\tremaining: 17.8ms\n",
      "980:\tlearn: 0.0665433\ttotal: 871ms\tremaining: 16.9ms\n",
      "981:\tlearn: 0.0664982\ttotal: 872ms\tremaining: 16ms\n",
      "982:\tlearn: 0.0664796\ttotal: 873ms\tremaining: 15.1ms\n",
      "983:\tlearn: 0.0664271\ttotal: 874ms\tremaining: 14.2ms\n",
      "984:\tlearn: 0.0663600\ttotal: 874ms\tremaining: 13.3ms\n",
      "985:\tlearn: 0.0662551\ttotal: 875ms\tremaining: 12.4ms\n",
      "986:\tlearn: 0.0661861\ttotal: 876ms\tremaining: 11.5ms\n",
      "987:\tlearn: 0.0661722\ttotal: 877ms\tremaining: 10.7ms\n",
      "988:\tlearn: 0.0660850\ttotal: 878ms\tremaining: 9.76ms\n",
      "989:\tlearn: 0.0660730\ttotal: 879ms\tremaining: 8.87ms\n",
      "990:\tlearn: 0.0659645\ttotal: 880ms\tremaining: 7.99ms\n",
      "991:\tlearn: 0.0658959\ttotal: 881ms\tremaining: 7.1ms\n",
      "992:\tlearn: 0.0657993\ttotal: 881ms\tremaining: 6.21ms\n",
      "993:\tlearn: 0.0657894\ttotal: 882ms\tremaining: 5.33ms\n",
      "994:\tlearn: 0.0656555\ttotal: 883ms\tremaining: 4.44ms\n",
      "995:\tlearn: 0.0655403\ttotal: 884ms\tremaining: 3.55ms\n",
      "996:\tlearn: 0.0654966\ttotal: 885ms\tremaining: 2.66ms\n",
      "997:\tlearn: 0.0654248\ttotal: 886ms\tremaining: 1.77ms\n",
      "998:\tlearn: 0.0653398\ttotal: 887ms\tremaining: 887us\n",
      "999:\tlearn: 0.0652213\ttotal: 887ms\tremaining: 0us\n"
     ]
    },
    {
     "data": {
      "text/plain": [
       "<catboost.core.CatBoostRegressor at 0x7fb39b297f70>"
      ]
     },
     "execution_count": 9,
     "metadata": {},
     "output_type": "execute_result"
    }
   ],
   "source": [
    "#Train the Model \n",
    "prior_model = ctb.CatBoostRegressor()\n",
    "prior_model.fit(X_train,Y_train)"
   ]
  },
  {
   "cell_type": "code",
   "execution_count": 10,
   "id": "af65dcda",
   "metadata": {
    "execution": {
     "iopub.execute_input": "2022-03-11T10:12:27.952602Z",
     "iopub.status.busy": "2022-03-11T10:12:27.952198Z",
     "iopub.status.idle": "2022-03-11T10:12:27.959567Z",
     "shell.execute_reply": "2022-03-11T10:12:27.959855Z"
    },
    "id": "af65dcda",
    "papermill": {
     "duration": 0.029426,
     "end_time": "2022-03-11T10:12:27.959970",
     "exception": false,
     "start_time": "2022-03-11T10:12:27.930544",
     "status": "completed"
    },
    "tags": []
   },
   "outputs": [
    {
     "data": {
      "application/scrapbook.scrap.json+json": {
       "data": 0.08148168681725915,
       "encoder": "json",
       "name": "Prior Model MSE",
       "version": 1
      }
     },
     "metadata": {
      "scrapbook": {
       "data": true,
       "display": false,
       "name": "Prior Model MSE"
      }
     },
     "output_type": "display_data"
    },
    {
     "data": {
      "application/scrapbook.scrap.json+json": {
       "data": 0.09057546780617035,
       "encoder": "json",
       "name": "ABC Pre-generator MSE",
       "version": 1
      }
     },
     "metadata": {
      "scrapbook": {
       "data": true,
       "display": false,
       "name": "ABC Pre-generator MSE"
      }
     },
     "output_type": "display_data"
    },
    {
     "data": {
      "application/scrapbook.scrap.json+json": {
       "data": 0.20216979138905233,
       "encoder": "json",
       "name": "Prior Model MAE",
       "version": 1
      }
     },
     "metadata": {
      "scrapbook": {
       "data": true,
       "display": false,
       "name": "Prior Model MAE"
      }
     },
     "output_type": "display_data"
    },
    {
     "data": {
      "application/scrapbook.scrap.json+json": {
       "data": 0.21380475638002083,
       "encoder": "json",
       "name": "ABC Pre-generator MAE",
       "version": 1
      }
     },
     "metadata": {
      "scrapbook": {
       "data": true,
       "display": false,
       "name": "ABC Pre-generator MAE"
      }
     },
     "output_type": "display_data"
    }
   ],
   "source": [
    "y_pred = prior_model.predict(X_test)\n",
    "y_abc = y_pred + np.random.normal(0,variance, y_pred.shape)\n",
    "mse = mean_squared_error(y_pred,Y_test)\n",
    "sb.glue(\"Prior Model MSE\",mse)\n",
    "mse = mean_squared_error(y_abc,Y_test)\n",
    "sb.glue(\"ABC Pre-generator MSE\",mse)\n",
    "\n",
    "mae = mean_absolute_error(y_pred,Y_test)\n",
    "sb.glue(\"Prior Model MAE\",mae)\n",
    "mae = mean_absolute_error(y_abc,Y_test)\n",
    "sb.glue(\"ABC Pre-generator MAE\",mae)"
   ]
  },
  {
   "cell_type": "markdown",
   "id": "25609da2",
   "metadata": {
    "papermill": {
     "duration": 0.009792,
     "end_time": "2022-03-11T10:12:27.979944",
     "exception": false,
     "start_time": "2022-03-11T10:12:27.970152",
     "status": "completed"
    },
    "tags": []
   },
   "source": [
    "# ABC GAN Model"
   ]
  },
  {
   "cell_type": "code",
   "execution_count": 11,
   "id": "dfc3464d",
   "metadata": {
    "execution": {
     "iopub.execute_input": "2022-03-11T10:12:28.002999Z",
     "iopub.status.busy": "2022-03-11T10:12:28.002540Z",
     "iopub.status.idle": "2022-03-11T10:12:28.005116Z",
     "shell.execute_reply": "2022-03-11T10:12:28.005370Z"
    },
    "papermill": {
     "duration": 0.015783,
     "end_time": "2022-03-11T10:12:28.005489",
     "exception": false,
     "start_time": "2022-03-11T10:12:27.989706",
     "status": "completed"
    },
    "tags": []
   },
   "outputs": [],
   "source": [
    "gen = network.Generator(n_features+1).to(device)\n",
    "disc = network.Discriminator(n_features+1).to(device)\n",
    "\n",
    "criterion = torch.nn.BCELoss()\n",
    "gen_opt = torch.optim.Adam(gen.parameters(), lr=0.001, betas=(0.5, 0.999))\n",
    "disc_opt = torch.optim.Adam(disc.parameters(), lr=0.001, betas=(0.5, 0.999))"
   ]
  },
  {
   "cell_type": "code",
   "execution_count": 12,
   "id": "b75fdd85",
   "metadata": {
    "execution": {
     "iopub.execute_input": "2022-03-11T10:12:28.029445Z",
     "iopub.status.busy": "2022-03-11T10:12:28.029049Z",
     "iopub.status.idle": "2022-03-11T10:13:03.917592Z",
     "shell.execute_reply": "2022-03-11T10:13:03.917902Z"
    },
    "papermill": {
     "duration": 35.901677,
     "end_time": "2022-03-11T10:13:03.918048",
     "exception": false,
     "start_time": "2022-03-11T10:12:28.016371",
     "status": "completed"
    },
    "tags": []
   },
   "outputs": [
    {
     "data": {
      "image/png": "[encoded data removed]",
      "text/plain": [
       "<Figure size 432x288 with 1 Axes>"
      ]
     },
     "metadata": {
      "needs_background": "light"
     },
     "output_type": "display_data"
    },
    {
     "data": {
      "image/png": "[encoded data removed]",
      "text/plain": [
       "<Figure size 432x288 with 1 Axes>"
      ]
     },
     "metadata": {
      "needs_background": "light"
     },
     "output_type": "display_data"
    }
   ],
   "source": [
    "#Training the ABC_GAN \n",
    "ABC_train_test2.training_GAN(disc,gen,disc_opt,gen_opt,train_data,batch_size,n_epochs,criterion,prior_model,variance,0,device)"
   ]
  },
  {
   "cell_type": "code",
   "execution_count": 13,
   "id": "1fa7c368",
   "metadata": {
    "execution": {
     "iopub.execute_input": "2022-03-11T10:13:03.942488Z",
     "iopub.status.busy": "2022-03-11T10:13:03.942096Z",
     "iopub.status.idle": "2022-03-11T10:13:04.239304Z",
     "shell.execute_reply": "2022-03-11T10:13:04.239698Z"
    },
    "papermill": {
     "duration": 0.310762,
     "end_time": "2022-03-11T10:13:04.239826",
     "exception": false,
     "start_time": "2022-03-11T10:13:03.929064",
     "status": "completed"
    },
    "tags": []
   },
   "outputs": [
    {
     "data": {
      "application/scrapbook.scrap.json+json": {
       "data": 0.08380839374603907,
       "encoder": "json",
       "name": "ABC-GAN Model 1 MSE",
       "version": 1
      }
     },
     "metadata": {
      "scrapbook": {
       "data": true,
       "display": false,
       "name": "ABC-GAN Model 1 MSE"
      }
     },
     "output_type": "display_data"
    },
    {
     "data": {
      "application/scrapbook.scrap.json+json": {
       "data": 0.2175980365125225,
       "encoder": "json",
       "name": "ABC-GAN Model 1 MAE",
       "version": 1
      }
     },
     "metadata": {
      "scrapbook": {
       "data": true,
       "display": false,
       "name": "ABC-GAN Model 1 MAE"
      }
     },
     "output_type": "display_data"
    },
    {
     "data": {
      "application/scrapbook.scrap.json+json": {
       "data": 22.194999724277295,
       "encoder": "json",
       "name": "ABC-GAN Model 1 Manhattan Distance",
       "version": 1
      }
     },
     "metadata": {
      "scrapbook": {
       "data": true,
       "display": false,
       "name": "ABC-GAN Model 1 Manhattan Distance"
      }
     },
     "output_type": "display_data"
    },
    {
     "data": {
      "application/scrapbook.scrap.json+json": {
       "data": 2.9228261184986533,
       "encoder": "json",
       "name": "ABC-GAN Model 1 Euclidean distance",
       "version": 1
      }
     },
     "metadata": {
      "scrapbook": {
       "data": true,
       "display": false,
       "name": "ABC-GAN Model 1 Euclidean distance"
      }
     },
     "output_type": "display_data"
    },
    {
     "data": {
      "application/scrapbook.scrap.json+json": {
       "data": [
        [
         0.07891636421924683,
         0.08689683415958016,
         0.088113411093784,
         0.0842404401384495,
         0.08518916705893402,
         0.08882641272092198,
         0.08500229509630079,
         0.08224055005676847,
         0.0862832565558786,
         0.08443549739660472,
         0.08403573338560717,
         0.09126299990199968,
         0.0901212714748854,
         0.08710245328715671,
         0.07811155442593477,
         0.07849594162899554,
         0.081654179420672,
         0.08375322600625647,
         0.08663122022785835,
         0.08594182630976142,
         0.09287525765843291,
         0.0834935957624063,
         0.08380288630083729,
         0.08600107758606026,
         0.07798073294715442,
         0.08093553761034994,
         0.07887657113962614,
         0.07541222854324793,
         0.08067209367905796,
         0.08805301288571382,
         0.08094131237553097,
         0.07975401189060222,
         0.08526566417328775,
         0.0839360069260327,
         0.08033504707878954,
         0.08309572896419688,
         0.09274286123208503,
         0.07687130982132122,
         0.08551742374067772,
         0.08104232614599546,
         0.08580984096831674,
         0.0815992416132163,
         0.08368722918085529,
         0.08585573011435937,
         0.08333664661567812,
         0.08245604336262959,
         0.0835034516210973,
         0.08329255180839235,
         0.08481357032167172,
         0.08396941786899355,
         0.08016891159534428,
         0.07839609396260397,
         0.08216059687012016,
         0.08236304570157126,
         0.07784222408360433,
         0.0898422534201816,
         0.08150748832779287,
         0.09081676537068063,
         0.08359346043021935,
         0.09011932972144061,
         0.08855059351587437,
         0.07760484863795383,
         0.08861292374581123,
         0.09059498540888718,
         0.07453012378344635,
         0.08259023324332207,
         0.08288617868883133,
         0.08811321589780889,
         0.07694728608794424,
         0.08013606862444916,
         0.08183593957079119,
         0.08499737918252918,
         0.0901278153797136,
         0.08101349501615383,
         0.0821660644653709,
         0.07562665026179193,
         0.07776747658795755,
         0.09080821845334225,
         0.08788681642293227,
         0.084540472047508,
         0.08982700419958128,
         0.08872960516972844,
         0.08467674239128244,
         0.08637547490660161,
         0.0920999580514622,
         0.08146996780777131,
         0.0855378614903453,
         0.0828814356768276,
         0.08629522926391717,
         0.08757100481949205,
         0.08036911078787727,
         0.08416376463572725,
         0.08253619823444708,
         0.08099033548705485,
         0.07854893800967695,
         0.07890141927264666,
         0.08371395778660994,
         0.08605944176794918,
         0.07413397762961,
         0.08862794820710754
        ],
        [
         0.21196524079377746,
         0.2147158270281758,
         0.22045047159818018,
         0.21503182092005863,
         0.2170306754654602,
         0.22095089244163213,
         0.21996474257378162,
         0.21450477192981862,
         0.22644519892649032,
         0.21929276247015772,
         0.21491567699658667,
         0.2260552798900023,
         0.22418152198067628,
         0.22584529703154282,
         0.2126418472696826,
         0.21057286803774974,
         0.21517106124163404,
         0.21642661799092358,
         0.22069878332481227,
         0.22103393419335285,
         0.22979504131145922,
         0.21390995142670968,
         0.21947138770209515,
         0.21824820743709364,
         0.21118727066627174,
         0.2133195843346709,
         0.20934572210535407,
         0.20691579599024765,
         0.21646903680327037,
         0.21798061059020898,
         0.21386723488331863,
         0.21069119743290632,
         0.2246092296086763,
         0.22595903763602324,
         0.21625163122171573,
         0.21389800335700607,
         0.22659686197271095,
         0.20618371725283272,
         0.2183050847813195,
         0.2145250241874772,
         0.22190657356644378,
         0.21018919878748848,
         0.21823575904172862,
         0.2199714679143154,
         0.2148360903420504,
         0.21296628884167648,
         0.2177486326545477,
         0.21671597697936437,
         0.222156346099926,
         0.2193588993795143,
         0.21792611566500045,
         0.21280394920020126,
         0.21603221632996758,
         0.2160008707878125,
         0.20705760069940166,
         0.22290911105023148,
         0.20982238131703115,
         0.2248832998550771,
         0.22033859688934743,
         0.22527056222544142,
         0.22456666670611822,
         0.21954466713428059,
         0.2247141809476649,
         0.22455755289297039,
         0.20362025210359955,
         0.2182425291496603,
         0.21231785245404086,
         0.22263955258234752,
         0.20726360594305923,
         0.21712219264979163,
         0.218028435574881,
         0.21444840383642882,
         0.22356061376722566,
         0.21855774109123968,
         0.21941785539920425,
         0.2122938444737491,
         0.20884226465269046,
         0.228033710627214,
         0.22613756534387813,
         0.21886786092164032,
         0.2276790617581676,
         0.21708195498578398,
         0.21479333329982325,
         0.21612184666845874,
         0.22621992826187873,
         0.2161525873257322,
         0.2151361414797458,
         0.22344733588854035,
         0.22111699167712062,
         0.22617056457709303,
         0.2118891001468999,
         0.20910485351330363,
         0.22360822098676628,
         0.21169514067051018,
         0.21219442390800253,
         0.20986525419478616,
         0.2101917228908004,
         0.22423937047521272,
         0.21089406202401162,
         0.22686954783549643
        ],
        [
         21.6204545609653,
         21.90101435687393,
         22.48594810301438,
         21.93324573384598,
         22.13712889747694,
         22.536991029046476,
         22.436403742525727,
         21.8794867368415,
         23.09741029050201,
         22.367861771956086,
         21.92139905365184,
         23.057638548780233,
         22.86651524202898,
         23.03622029721737,
         21.689468421507627,
         21.478432539850473,
         21.947448246646672,
         22.075515035074204,
         22.51127589913085,
         22.54546128772199,
         23.43909421376884,
         21.81881504552439,
         22.386081545613706,
         22.26131715858355,
         21.541101607959718,
         21.758597602136433,
         21.353263654746115,
         21.10541119100526,
         22.07984175393358,
         22.234022280201316,
         21.8144579580985,
         21.490502138156444,
         22.910141420084983,
         23.04782183887437,
         22.057666384615004,
         21.817596342414618,
         23.112879921216518,
         21.030739159788936,
         22.267118647694588,
         21.881552467122674,
         22.634470503777266,
         21.439298276323825,
         22.26004742225632,
         22.437089727260172,
         21.91328121488914,
         21.722561461851,
         22.210360530763865,
         22.105029651895165,
         22.65994730219245,
         22.37460773671046,
         22.228463797830045,
         21.70600281842053,
         22.035286065656692,
         22.032088820356876,
         21.11987527133897,
         22.736729327123612,
         21.401882894337177,
         22.938096585217863,
         22.474536882713437,
         22.977597346995026,
         22.90580000402406,
         22.39355604769662,
         22.92084645666182,
         22.90487039508298,
         20.769265714567155,
         22.26073797326535,
         21.656420950312167,
         22.709234363399446,
         21.14088780619204,
         22.146463650278747,
         22.238900428637862,
         21.87373719131574,
         22.803182604257017,
         22.292889591306448,
         22.380621250718832,
         21.65397213632241,
         21.301910994574428,
         23.259438483975828,
         23.06603166507557,
         22.324521814007312,
         23.223264299333096,
         22.142359408549964,
         21.90891999658197,
         22.044428360182792,
         23.07443268271163,
         22.047563907224685,
         21.94388643093407,
         22.791628260631114,
         22.553933151066303,
         23.069397586863488,
         21.61268821498379,
         21.32869505835697,
         22.80803854065016,
         21.59290434839204,
         21.643831238616258,
         21.406255927868187,
         21.439555734861642,
         22.8724157884717,
         21.511194326449186,
         23.140693879220635
        ],
        [
         2.837158640323656,
         2.9771592305883097,
         2.997927272561155,
         2.931300887681415,
         2.947761021523161,
         3.010032241942607,
         2.944526124832768,
         2.896296964365081,
         2.966629766030742,
         2.934692613282298,
         2.9277371475820586,
         3.0510368712953904,
         3.0318920974266725,
         2.980679492211462,
         2.82265452215558,
         2.8295911446987425,
         2.8859532742074228,
         2.9228118401016094,
         2.972605668978237,
         2.9607543436758923,
         3.077868788814779,
         2.9182780483986517,
         2.9236782317288954,
         2.9617747911983696,
         2.820289836277426,
         2.8732255108598235,
         2.836443240440722,
         2.7734540398952507,
         2.8685455470087815,
         2.9968996169946713,
         2.873328011610257,
         2.85217622401587,
         2.949084221529685,
         2.9259994371932696,
         2.8625469082683224,
         2.911316601530669,
         3.0756742099371763,
         2.800155995971432,
         2.9534348175555065,
         2.8751203917212824,
         2.958479977753493,
         2.884982260699026,
         2.9216600377948216,
         2.9592709358327864,
         2.91553390561646,
         2.900089037079417,
         2.918450284886128,
         2.9147624747920737,
         2.9412555436089725,
         2.92658173004571,
         2.859585456447335,
         2.827790937142561,
         2.894888751014839,
         2.8984531497956403,
         2.817784032981882,
         3.027195046385106,
         2.8833598126898545,
         3.0435686402329454,
         2.9200227676993156,
         3.0318594346682604,
         3.0053553098792127,
         2.8134844163547967,
         3.006412849572185,
         3.039850080465563,
         2.7571856350110933,
         2.9024478963142215,
         2.9076434145645838,
         2.9979239519334886,
         2.801539430557833,
         2.858999650173783,
         2.889163518428941,
         2.944440978627008,
         3.0320021716236925,
         2.8746089284714342,
         2.8949850734447375,
         2.777394161206287,
         2.8164308285437563,
         3.0434254192013492,
         2.9940700184095714,
         2.936516328721128,
         3.026938127606392,
         3.008391551529205,
         2.9388820534194298,
         2.9682146890805186,
         3.064995223691082,
         2.88269608463894,
         2.9537877161392654,
         2.907560221050703,
         2.9668355844096834,
         2.988685746542816,
         2.8631537332744603,
         2.929966551488972,
         2.9014982715682596,
         2.8741980133038147,
         2.8305461799778233,
         2.83688998126645,
         2.922126570536296,
         2.962779617239665,
         2.7498483082199683,
         3.006667709795176
        ]
       ],
       "encoder": "json",
       "name": "ABC_GAN_1 Metrics",
       "version": 1
      }
     },
     "metadata": {
      "scrapbook": {
       "data": true,
       "display": false,
       "name": "ABC_GAN_1 Metrics"
      }
     },
     "output_type": "display_data"
    },
    {
     "name": "stdout",
     "output_type": "stream",
     "text": [
      "MSE\n",
      "0.08380839374603907\n"
     ]
    }
   ],
   "source": [
    "ABC_GAN1_metrics=ABC_train_test2.test_generator(gen,test_data,prior_model,variance,0,\"1\",device)\n",
    "sb.glue(\"ABC_GAN_1 Metrics\",ABC_GAN1_metrics)\n",
    "\n",
    "print(\"MSE\")\n",
    "print(mean(ABC_GAN1_metrics[0]))"
   ]
  },
  {
   "cell_type": "code",
   "execution_count": 14,
   "id": "eb22ce5c",
   "metadata": {
    "execution": {
     "iopub.execute_input": "2022-03-11T10:13:04.267503Z",
     "iopub.status.busy": "2022-03-11T10:13:04.267133Z",
     "iopub.status.idle": "2022-03-11T10:13:04.585263Z",
     "shell.execute_reply": "2022-03-11T10:13:04.585565Z"
    },
    "papermill": {
     "duration": 0.333254,
     "end_time": "2022-03-11T10:13:04.585687",
     "exception": false,
     "start_time": "2022-03-11T10:13:04.252433",
     "status": "completed"
    },
    "tags": []
   },
   "outputs": [
    {
     "data": {
      "image/png": "[encoded data removed]",
      "text/plain": [
       "<Figure size 432x288 with 1 Axes>"
      ]
     },
     "metadata": {
      "needs_background": "light"
     },
     "output_type": "display_data"
    },
    {
     "data": {
      "image/png": "[encoded data removed]",
      "text/plain": [
       "<Figure size 432x288 with 1 Axes>"
      ]
     },
     "metadata": {
      "needs_background": "light"
     },
     "output_type": "display_data"
    },
    {
     "data": {
      "image/png": "[encoded data removed]",
      "text/plain": [
       "<Figure size 432x288 with 1 Axes>"
      ]
     },
     "metadata": {
      "needs_background": "light"
     },
     "output_type": "display_data"
    },
    {
     "data": {
      "image/png": "[encoded data removed]",
      "text/plain": [
       "<Figure size 432x288 with 1 Axes>"
      ]
     },
     "metadata": {
      "needs_background": "light"
     },
     "output_type": "display_data"
    }
   ],
   "source": [
    "sanityChecks.discProbVsError(train_data,disc,device)\n",
    "sanityChecks.discProbVsError(test_data,disc,device)"
   ]
  },
  {
   "cell_type": "markdown",
   "id": "130f3a4d",
   "metadata": {
    "id": "130f3a4d",
    "papermill": {
     "duration": 0.014471,
     "end_time": "2022-03-11T10:13:04.615521",
     "exception": false,
     "start_time": "2022-03-11T10:13:04.601050",
     "status": "completed"
    },
    "tags": []
   },
   "source": [
    "# ABC - GAN Model with skip connection"
   ]
  },
  {
   "cell_type": "code",
   "execution_count": 15,
   "id": "4e43dad1",
   "metadata": {
    "execution": {
     "iopub.execute_input": "2022-03-11T10:13:04.648136Z",
     "iopub.status.busy": "2022-03-11T10:13:04.647755Z",
     "iopub.status.idle": "2022-03-11T10:13:04.650096Z",
     "shell.execute_reply": "2022-03-11T10:13:04.650401Z"
    },
    "id": "4e43dad1",
    "papermill": {
     "duration": 0.020429,
     "end_time": "2022-03-11T10:13:04.650513",
     "exception": false,
     "start_time": "2022-03-11T10:13:04.630084",
     "status": "completed"
    },
    "tags": []
   },
   "outputs": [],
   "source": [
    "#Generator\n",
    "gen3 = network.GeneratorWithSkipConnection(n_features+1).to(device)\n",
    "constraints=network.weightConstraint()\n",
    "#Discriminator \n",
    "disc3 = network.Discriminator(n_features+1).to(device)\n",
    "\n",
    "criterion = torch.nn.BCELoss()\n",
    "gen_opt = torch.optim.Adam(gen3.parameters(), lr=0.001, betas=(0.5, 0.999))\n",
    "disc_opt = torch.optim.Adam(disc3.parameters(), lr=0.001, betas=(0.5, 0.999))\n"
   ]
  },
  {
   "cell_type": "code",
   "execution_count": 16,
   "id": "26acbc37",
   "metadata": {
    "execution": {
     "iopub.execute_input": "2022-03-11T10:13:04.682686Z",
     "iopub.status.busy": "2022-03-11T10:13:04.682306Z",
     "iopub.status.idle": "2022-03-11T10:15:33.652444Z",
     "shell.execute_reply": "2022-03-11T10:15:33.652810Z"
    },
    "id": "26acbc37",
    "papermill": {
     "duration": 148.987582,
     "end_time": "2022-03-11T10:15:33.652931",
     "exception": false,
     "start_time": "2022-03-11T10:13:04.665349",
     "status": "completed"
    },
    "tags": []
   },
   "outputs": [
    {
     "data": {
      "image/png": "[encoded data removed]",
      "text/plain": [
       "<Figure size 432x288 with 1 Axes>"
      ]
     },
     "metadata": {
      "needs_background": "light"
     },
     "output_type": "display_data"
    },
    {
     "data": {
      "image/png": "[encoded data removed]",
      "text/plain": [
       "<Figure size 432x288 with 1 Axes>"
      ]
     },
     "metadata": {
      "needs_background": "light"
     },
     "output_type": "display_data"
    }
   ],
   "source": [
    "ABC_train_test2.training_GAN_skip_connection(disc3,gen3,disc_opt,gen_opt,train_data,batch_size,n_epochs,criterion,prior_model,variance,0,device)"
   ]
  },
  {
   "cell_type": "code",
   "execution_count": 17,
   "id": "c5e0717b",
   "metadata": {
    "execution": {
     "iopub.execute_input": "2022-03-11T10:15:33.687729Z",
     "iopub.status.busy": "2022-03-11T10:15:33.687342Z",
     "iopub.status.idle": "2022-03-11T10:15:34.503468Z",
     "shell.execute_reply": "2022-03-11T10:15:34.503775Z"
    },
    "id": "c5e0717b",
    "papermill": {
     "duration": 0.83477,
     "end_time": "2022-03-11T10:15:34.503897",
     "exception": false,
     "start_time": "2022-03-11T10:15:33.669127",
     "status": "completed"
    },
    "tags": []
   },
   "outputs": [
    {
     "data": {
      "application/scrapbook.scrap.json+json": {
       "data": 0.08976081561626527,
       "encoder": "json",
       "name": "ABC-GAN Model 3 MSE",
       "version": 1
      }
     },
     "metadata": {
      "scrapbook": {
       "data": true,
       "display": false,
       "name": "ABC-GAN Model 3 MSE"
      }
     },
     "output_type": "display_data"
    },
    {
     "data": {
      "application/scrapbook.scrap.json+json": {
       "data": 0.22616128916194772,
       "encoder": "json",
       "name": "ABC-GAN Model 3 MAE",
       "version": 1
      }
     },
     "metadata": {
      "scrapbook": {
       "data": true,
       "display": false,
       "name": "ABC-GAN Model 3 MAE"
      }
     },
     "output_type": "display_data"
    },
    {
     "data": {
      "application/scrapbook.scrap.json+json": {
       "data": 23.06845149451867,
       "encoder": "json",
       "name": "ABC-GAN Model 3 Manhattan Distance",
       "version": 1
      }
     },
     "metadata": {
      "scrapbook": {
       "data": true,
       "display": false,
       "name": "ABC-GAN Model 3 Manhattan Distance"
      }
     },
     "output_type": "display_data"
    },
    {
     "data": {
      "application/scrapbook.scrap.json+json": {
       "data": 3.0249869437106796,
       "encoder": "json",
       "name": "ABC-GAN Model 3 Euclidean distance",
       "version": 1
      }
     },
     "metadata": {
      "scrapbook": {
       "data": true,
       "display": false,
       "name": "ABC-GAN Model 3 Euclidean distance"
      }
     },
     "output_type": "display_data"
    },
    {
     "data": {
      "application/scrapbook.scrap.json+json": {
       "data": [
        [
         0.08513752768532402,
         0.08673429524140035,
         0.08886926249909284,
         0.09013899883529417,
         0.08801208386935193,
         0.09352372023468392,
         0.0912613220119756,
         0.09139793514046175,
         0.08736336604532309,
         0.092533753440326,
         0.09598999961708897,
         0.08290220498015646,
         0.09494708997788963,
         0.09251614561418549,
         0.09231448711943374,
         0.08009648471769228,
         0.0880843352996638,
         0.08820941071567841,
         0.09014998055417316,
         0.08727329687391969,
         0.09046087131154505,
         0.0895607877404235,
         0.08547086704255345,
         0.09524977861263628,
         0.09022779452091666,
         0.09421232037879995,
         0.08814584079972679,
         0.09275472452244951,
         0.08896098982441802,
         0.08746904004396294,
         0.09572413056668612,
         0.08676385306963888,
         0.08653421737084786,
         0.08317525897993731,
         0.09285781790869002,
         0.08801618890311186,
         0.09072188771490879,
         0.09021706470916692,
         0.08933498134576265,
         0.09626322952380238,
         0.09040615061526897,
         0.09243501014335585,
         0.0831063511117077,
         0.0876303525758529,
         0.08346580311792301,
         0.09601452704868287,
         0.09011295497428762,
         0.09770630100971454,
         0.0906644290889999,
         0.09406609723517965,
         0.0924957641438792,
         0.08151699281585509,
         0.09463415980284424,
         0.0936848660963982,
         0.08094560252502442,
         0.09260794044335592,
         0.07908469976877668,
         0.0870443388450154,
         0.096249566170959,
         0.09495528815161541,
         0.09360354563490793,
         0.08718081943816948,
         0.08884323964487201,
         0.09277160715292854,
         0.0790637480435898,
         0.09144233784519772,
         0.09262826040689,
         0.08299218367541357,
         0.08614909520364068,
         0.09463804820262325,
         0.08028696797332216,
         0.09203212111843873,
         0.08407629656649589,
         0.09021066162520357,
         0.0833807201102373,
         0.09155450485233775,
         0.08234868947404658,
         0.09013850853028353,
         0.09262725240194601,
         0.09305360441839994,
         0.09261649328987272,
         0.09236717008738893,
         0.09064757593624816,
         0.09207130880424645,
         0.09221077847354053,
         0.09048633986989525,
         0.09075422770919286,
         0.08892252873324427,
         0.09402963037454364,
         0.09234499930398245,
         0.09054124436791626,
         0.08823603952250109,
         0.08901989765044113,
         0.09084865383383978,
         0.09306942972763267,
         0.09268838794573517,
         0.09297009841912539,
         0.0867010312053616,
         0.08615511440414485,
         0.09197385860093281
        ],
        [
         0.22651645522016814,
         0.21698490282812832,
         0.22663579602707543,
         0.22758040442953215,
         0.22015517761054285,
         0.22945888755916088,
         0.22968041822862098,
         0.22824274311207382,
         0.22382507236747473,
         0.23750349003638999,
         0.2347499957289912,
         0.21372948273760722,
         0.227425996223282,
         0.23340055285313843,
         0.22802883060649037,
         0.21522884864323572,
         0.22000162629410625,
         0.22748851619989557,
         0.22401603472912135,
         0.2232820959122596,
         0.2283097500182396,
         0.23188814251482778,
         0.2194230769140025,
         0.23009624818851257,
         0.22362882779984206,
         0.23015096393760806,
         0.22523491545671634,
         0.22474198387570532,
         0.22193287710166154,
         0.2281599013847025,
         0.23269291484144097,
         0.2276443728501452,
         0.2220998356100537,
         0.21726802043507204,
         0.23455449821902255,
         0.224555349817463,
         0.22815749839897834,
         0.23021121269238054,
         0.22110063477656713,
         0.2308385222145886,
         0.22912854324186258,
         0.22798408583427468,
         0.21807210650477632,
         0.22276099374079528,
         0.22371020262111344,
         0.2352115417574989,
         0.22727687957276607,
         0.2385326062292591,
         0.2279312190709307,
         0.23488774016389952,
         0.23446498545544112,
         0.21825669994395153,
         0.22919492826194449,
         0.2245590954598989,
         0.21872326988252064,
         0.232189290198114,
         0.20727865899200826,
         0.21940804220845594,
         0.23229539303985589,
         0.23559033336556134,
         0.22915546876360096,
         0.22569191132617347,
         0.22543819888732305,
         0.22688488352715092,
         0.21169572054207617,
         0.22859686047897912,
         0.23160442199521497,
         0.21779202477202989,
         0.21774834033795723,
         0.22751643770721322,
         0.2148694418388985,
         0.22928911768009558,
         0.22546214083501814,
         0.22730092801080615,
         0.22248444634069706,
         0.231127875318349,
         0.2182121578439632,
         0.22193973180016174,
         0.22547221140862972,
         0.22631577019780583,
         0.23294646162357108,
         0.23149590801411107,
         0.22875529360573957,
         0.22656379794409753,
         0.22620335496122054,
         0.23220823308014693,
         0.222575804711703,
         0.22405722544656373,
         0.22930180839281164,
         0.22750149987747564,
         0.23017168864059975,
         0.23423279561650226,
         0.22170959481531205,
         0.2235579335441192,
         0.23680416155862166,
         0.2240985040370302,
         0.22597403920200818,
         0.22062878784559228,
         0.22190244441998064,
         0.22675999930566726
        ],
        [
         23.10467843245715,
         22.132460088469088,
         23.116851194761693,
         23.21320125181228,
         22.45582811627537,
         23.40480653103441,
         23.42740265931934,
         23.28075979743153,
         22.830157381482422,
         24.22535598371178,
         23.944499564357102,
         21.800407239235938,
         23.197451614774764,
         23.80685639102012,
         23.258940721862018,
         21.953342561610043,
         22.440165881998837,
         23.203828652389348,
         22.84963554237038,
         22.774773783050478,
         23.28759450186044,
         23.652590536512434,
         22.381153845228255,
         23.469817315228283,
         22.81014043558389,
         23.47539832163602,
         22.973961376585066,
         22.923682355321944,
         22.637153464369476,
         23.272309941239655,
         23.734677313826978,
         23.21972603071481,
         22.654183232225478,
         22.16133808437735,
         23.9245588183403,
         22.904645681381226,
         23.27206483669579,
         23.481543694622815,
         22.552264747209847,
         23.545529265888035,
         23.371111410669982,
         23.25437675509602,
         22.243354863487184,
         22.72162136156112,
         22.81844066735357,
         23.991577259264886,
         23.18224171642214,
         24.33032583538443,
         23.24898434523493,
         23.95854949671775,
         23.915428516454995,
         22.262183394283056,
         23.377882682718337,
         22.905027736909688,
         22.309773528017104,
         23.683307600207627,
         21.14242321718484,
         22.379620305262506,
         23.6941300900653,
         24.030214003287256,
         23.373857813887298,
         23.020574955269694,
         22.99469628650695,
         23.142258119769394,
         21.59296349529177,
         23.31687976885587,
         23.623651043511927,
         22.214786526747048,
         22.210330714471638,
         23.206676646135747,
         21.916683067567647,
         23.38749000336975,
         22.99713836517185,
         23.184694657102227,
         22.6934135267511,
         23.575043282471597,
         22.257640100084245,
         22.637852643616498,
         22.99816556368023,
         23.084208560176194,
         23.76053908560425,
         23.61258261743933,
         23.333039947785437,
         23.10950739029795,
         23.072742206044495,
         23.68523977417499,
         22.702732080593705,
         22.8538369955495,
         23.388784456066787,
         23.205152987502515,
         23.477512241341174,
         23.89174515288323,
         22.61437867116183,
         22.80290922150016,
         24.15402447897941,
         22.85804741177708,
         23.049351998604834,
         22.504136360250413,
         22.634049330838025,
         23.12951992917806
        ],
        [
         2.9468674595073066,
         2.974373566757013,
         3.0107581727710166,
         3.0321902778684593,
         2.9962030229398495,
         3.08859506312138,
         3.051008824179555,
         3.0532915655611887,
         2.985140421592081,
         3.072204884266875,
         3.129054163951637,
         2.907924501766846,
         3.1120095079778824,
         3.0719125724289285,
         3.0685628046664193,
         2.858293449106409,
         2.997432601505112,
         2.9995599498925167,
         3.0323749795376,
         2.9836012268967527,
         3.0375991957099258,
         3.0224493956927043,
         2.952630765663131,
         3.116966059887226,
         3.0336834114873454,
         3.099944625092131,
         2.998478907975197,
         3.0758709175272374,
         3.0123115645780456,
         2.9869452764461917,
         3.124717798106252,
         2.9748803359300298,
         2.9709409573107437,
         2.9127094630178276,
         3.0775798002141843,
         2.9962728961356984,
         3.0419783935657225,
         3.0335030246128034,
         3.018636794526263,
         3.133504334036869,
         3.0366803194866323,
         3.0705652630455997,
         2.911502672743781,
         2.9896983063073423,
         2.917792302071576,
         3.1294539074678274,
         3.031752200853054,
         3.156903974306294,
         3.041014923849928,
         3.0975380414110045,
         3.071574179907702,
         2.883527920311717,
         3.106876936714764,
         3.091254816709973,
         2.8734041584073218,
         3.0734361755569783,
         2.840182982910647,
         2.9796849770053835,
         3.133281945410885,
         3.1121438577714824,
         3.089912887891924,
         2.9820200506859917,
         3.010317332737023,
         3.076150830111994,
         2.839806736460451,
         3.0540331465473924,
         3.073773342571436,
         2.909502145538336,
         2.964322470780017,
         3.106940764911293,
         2.8616901882067634,
         3.0638662428508114,
         2.9284436565832332,
         3.0333953724779703,
         2.9163047596649094,
         3.055905675072195,
         2.8982005324602276,
         3.032182031159891,
         3.0737566177234155,
         3.080822560725754,
         3.073578096545948,
         3.0694382790526458,
         3.040732271262518,
         3.064518477352215,
         3.066838666167676,
         3.038026771891471,
         3.042520538359219,
         3.011660327923937,
         3.096937567695456,
         3.069069880111271,
         3.038948325577034,
         3.0000126718557563,
         3.0133087396323988,
         3.0441029369999395,
         3.0810845220828544,
         3.0747708159251457,
         3.079439890426632,
         2.9738031513445677,
         2.964426026943964,
         3.0628962726960154
        ]
       ],
       "encoder": "json",
       "name": "ABC_GAN_3 Metrics",
       "version": 1
      }
     },
     "metadata": {
      "scrapbook": {
       "data": true,
       "display": false,
       "name": "ABC_GAN_3 Metrics"
      }
     },
     "output_type": "display_data"
    },
    {
     "name": "stdout",
     "output_type": "stream",
     "text": [
      "MSE\n",
      "0.08976081561626527\n"
     ]
    }
   ],
   "source": [
    "ABC_GAN3_metrics=ABC_train_test2.test_generator(gen3,test_data,prior_model,variance,0,\"3\",device)\n",
    "sb.glue(\"ABC_GAN_3 Metrics\",ABC_GAN3_metrics)\n",
    "\n",
    "print(\"MSE\")\n",
    "print(mean(ABC_GAN3_metrics[0]))"
   ]
  },
  {
   "cell_type": "code",
   "execution_count": 18,
   "id": "c8e46b48",
   "metadata": {
    "execution": {
     "iopub.execute_input": "2022-03-11T10:15:34.541083Z",
     "iopub.status.busy": "2022-03-11T10:15:34.540676Z",
     "iopub.status.idle": "2022-03-11T10:15:34.856839Z",
     "shell.execute_reply": "2022-03-11T10:15:34.857150Z"
    },
    "id": "c8e46b48",
    "papermill": {
     "duration": 0.335921,
     "end_time": "2022-03-11T10:15:34.857274",
     "exception": false,
     "start_time": "2022-03-11T10:15:34.521353",
     "status": "completed"
    },
    "tags": []
   },
   "outputs": [
    {
     "data": {
      "image/png": "[encoded data removed]",
      "text/plain": [
       "<Figure size 432x288 with 1 Axes>"
      ]
     },
     "metadata": {
      "needs_background": "light"
     },
     "output_type": "display_data"
    },
    {
     "data": {
      "image/png": "[encoded data removed]",
      "text/plain": [
       "<Figure size 432x288 with 1 Axes>"
      ]
     },
     "metadata": {
      "needs_background": "light"
     },
     "output_type": "display_data"
    },
    {
     "data": {
      "image/png": "[encoded data removed]",
      "text/plain": [
       "<Figure size 432x288 with 1 Axes>"
      ]
     },
     "metadata": {
      "needs_background": "light"
     },
     "output_type": "display_data"
    },
    {
     "data": {
      "image/png": "[encoded data removed]",
      "text/plain": [
       "<Figure size 432x288 with 1 Axes>"
      ]
     },
     "metadata": {
      "needs_background": "light"
     },
     "output_type": "display_data"
    }
   ],
   "source": [
    "sanityChecks.discProbVsError(train_data,disc3,device)\n",
    "sanityChecks.discProbVsError(test_data,disc3,device)"
   ]
  },
  {
   "cell_type": "markdown",
   "id": "a5bd74c3",
   "metadata": {
    "id": "a5bd74c3",
    "papermill": {
     "duration": 0.019776,
     "end_time": "2022-03-11T10:15:34.897789",
     "exception": false,
     "start_time": "2022-03-11T10:15:34.878013",
     "status": "completed"
    },
    "tags": []
   },
   "source": [
    "## Skip Connection Model Analysis - ABC-GAN "
   ]
  },
  {
   "cell_type": "markdown",
   "id": "5744a8bf",
   "metadata": {
    "id": "5744a8bf",
    "papermill": {
     "duration": 0.019377,
     "end_time": "2022-03-11T10:15:34.936635",
     "exception": false,
     "start_time": "2022-03-11T10:15:34.917258",
     "status": "completed"
    },
    "tags": []
   },
   "source": [
    "### Weight Analysis \n",
    "\n",
    "Study the weights of the skip connection layer\n",
    "\n",
    "Equation of the skip connection is \n",
    "\n",
    "$output = y_{gan} * w + y_{abc} * (1-w)$"
   ]
  },
  {
   "cell_type": "code",
   "execution_count": 19,
   "id": "52c31dea",
   "metadata": {
    "execution": {
     "iopub.execute_input": "2022-03-11T10:15:34.978407Z",
     "iopub.status.busy": "2022-03-11T10:15:34.978015Z",
     "iopub.status.idle": "2022-03-11T10:15:34.981435Z",
     "shell.execute_reply": "2022-03-11T10:15:34.981673Z"
    },
    "id": "52c31dea",
    "papermill": {
     "duration": 0.025793,
     "end_time": "2022-03-11T10:15:34.981785",
     "exception": false,
     "start_time": "2022-03-11T10:15:34.955992",
     "status": "completed"
    },
    "tags": []
   },
   "outputs": [
    {
     "name": "stdout",
     "output_type": "stream",
     "text": [
      "Weight of the node at skip connection\n",
      "Parameter containing:\n",
      "tensor([[0.2482]], requires_grad=True)\n"
     ]
    },
    {
     "data": {
      "application/scrapbook.scrap.json+json": {
       "data": 0.2482074797153473,
       "encoder": "json",
       "name": "Skip Connection Weight",
       "version": 1
      }
     },
     "metadata": {
      "scrapbook": {
       "data": true,
       "display": false,
       "name": "Skip Connection Weight"
      }
     },
     "output_type": "display_data"
    }
   ],
   "source": [
    "print(\"Weight of the node at skip connection\")\n",
    "for name,param in gen3.named_parameters():\n",
    "    if(name == \"skipNode.weight\"):\n",
    "        print(param)\n",
    "        sb.glue(\"Skip Connection Weight\",param.item())"
   ]
  }
 ],
 "metadata": {
  "colab": {
   "collapsed_sections": [],
   "name": "ABC_GAN_Model-Catboost_Pre-gen.ipynb",
   "provenance": []
  },
  "interpreter": {
   "hash": "31f2aee4e71d21fbe5cf8b01ff0e069b9275f58929596ceb00d14d90e3e16cd6"
  },
  "kernelspec": {
   "display_name": "Python 3 (ipykernel)",
   "language": "python",
   "name": "python3"
  },
  "language_info": {
   "codemirror_mode": {
    "name": "ipython",
    "version": 3
   },
   "file_extension": ".py",
   "mimetype": "text/x-python",
   "name": "python",
   "nbconvert_exporter": "python",
   "pygments_lexer": "ipython3",
   "version": "3.8.11"
  },
  "papermill": {
   "default_parameters": {},
   "duration": 191.525979,
   "end_time": "2022-03-11T10:15:35.308971",
   "environment_variables": {},
   "exception": null,
   "input_path": "ABC_GAN-Catboost.ipynb",
   "output_path": "./ABC_GAN_Catboost/ABC-GAN_output_5_1.ipynb",
   "parameters": {
    "variance": 0.1
   },
   "start_time": "2022-03-11T10:12:23.782992",
   "version": "2.3.3"
  }
 },
 "nbformat": 4,
 "nbformat_minor": 5
}