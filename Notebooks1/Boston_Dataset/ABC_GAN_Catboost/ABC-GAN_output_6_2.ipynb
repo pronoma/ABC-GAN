{
 "cells": [
  {
   "cell_type": "markdown",
   "id": "622780e6",
   "metadata": {
    "id": "622780e6",
    "papermill": {
     "duration": 0.033327,
     "end_time": "2022-03-11T10:25:22.207919",
     "exception": false,
     "start_time": "2022-03-11T10:25:22.174592",
     "status": "completed"
    },
    "tags": []
   },
   "source": [
    "## Import Libraries "
   ]
  },
  {
   "cell_type": "code",
   "execution_count": 1,
   "id": "a62397e3",
   "metadata": {
    "execution": {
     "iopub.execute_input": "2022-03-11T10:25:22.245094Z",
     "iopub.status.busy": "2022-03-11T10:25:22.244595Z",
     "iopub.status.idle": "2022-03-11T10:25:22.246833Z",
     "shell.execute_reply": "2022-03-11T10:25:22.247241Z"
    },
    "id": "a62397e3",
    "papermill": {
     "duration": 0.022955,
     "end_time": "2022-03-11T10:25:22.247443",
     "exception": false,
     "start_time": "2022-03-11T10:25:22.224488",
     "status": "completed"
    },
    "tags": []
   },
   "outputs": [],
   "source": [
    "import warnings\n",
    "import sys\n",
    "sys.path.insert(0, '../../src')\n",
    "warnings.filterwarnings('ignore')"
   ]
  },
  {
   "cell_type": "code",
   "execution_count": 2,
   "id": "d6a4e155",
   "metadata": {
    "execution": {
     "iopub.execute_input": "2022-03-11T10:25:22.267719Z",
     "iopub.status.busy": "2022-03-11T10:25:22.267303Z",
     "iopub.status.idle": "2022-03-11T10:25:24.080156Z",
     "shell.execute_reply": "2022-03-11T10:25:24.080419Z"
    },
    "id": "d6a4e155",
    "papermill": {
     "duration": 1.823659,
     "end_time": "2022-03-11T10:25:24.080543",
     "exception": false,
     "start_time": "2022-03-11T10:25:22.256884",
     "status": "completed"
    },
    "tags": []
   },
   "outputs": [],
   "source": [
    "import ABC_train_test2\n",
    "import bostonDataset\n",
    "import network\n",
    "import dataset\n",
    "import sanityChecks\n",
    "import torch \n",
    "import scrapbook as sb\n",
    "from statistics import mean \n",
    "import catboost as ctb \n",
    "from sklearn.model_selection import train_test_split\n",
    "from sklearn.metrics import mean_squared_error,mean_absolute_error\n",
    "import numpy as np"
   ]
  },
  {
   "cell_type": "markdown",
   "id": "2fa5b0f7",
   "metadata": {
    "id": "2fa5b0f7",
    "papermill": {
     "duration": 0.006744,
     "end_time": "2022-03-11T10:25:24.094333",
     "exception": false,
     "start_time": "2022-03-11T10:25:24.087589",
     "status": "completed"
    },
    "tags": []
   },
   "source": [
    "## Parameters "
   ]
  },
  {
   "cell_type": "code",
   "execution_count": 3,
   "id": "783186fb",
   "metadata": {
    "execution": {
     "iopub.execute_input": "2022-03-11T10:25:24.109967Z",
     "iopub.status.busy": "2022-03-11T10:25:24.109565Z",
     "iopub.status.idle": "2022-03-11T10:25:24.110830Z",
     "shell.execute_reply": "2022-03-11T10:25:24.111078Z"
    },
    "id": "783186fb",
    "papermill": {
     "duration": 0.01019,
     "end_time": "2022-03-11T10:25:24.111193",
     "exception": false,
     "start_time": "2022-03-11T10:25:24.101003",
     "status": "completed"
    },
    "tags": [
     "parameters"
    ]
   },
   "outputs": [],
   "source": [
    "variance = 1"
   ]
  },
  {
   "cell_type": "code",
   "execution_count": 4,
   "id": "26fe0556",
   "metadata": {
    "execution": {
     "iopub.execute_input": "2022-03-11T10:25:24.126579Z",
     "iopub.status.busy": "2022-03-11T10:25:24.126219Z",
     "iopub.status.idle": "2022-03-11T10:25:24.127519Z",
     "shell.execute_reply": "2022-03-11T10:25:24.127813Z"
    },
    "papermill": {
     "duration": 0.009896,
     "end_time": "2022-03-11T10:25:24.127919",
     "exception": false,
     "start_time": "2022-03-11T10:25:24.118023",
     "status": "completed"
    },
    "tags": [
     "injected-parameters"
    ]
   },
   "outputs": [],
   "source": [
    "# Parameters\n",
    "variance = 0.01\n"
   ]
  },
  {
   "cell_type": "markdown",
   "id": "391cdbfd",
   "metadata": {
    "id": "391cdbfd",
    "papermill": {
     "duration": 0.006693,
     "end_time": "2022-03-11T10:25:24.141409",
     "exception": false,
     "start_time": "2022-03-11T10:25:24.134716",
     "status": "completed"
    },
    "tags": []
   },
   "source": [
    "## Dataset \n"
   ]
  },
  {
   "cell_type": "code",
   "execution_count": 5,
   "id": "5b51f161",
   "metadata": {
    "execution": {
     "iopub.execute_input": "2022-03-11T10:25:24.156771Z",
     "iopub.status.busy": "2022-03-11T10:25:24.156418Z",
     "iopub.status.idle": "2022-03-11T10:25:24.157730Z",
     "shell.execute_reply": "2022-03-11T10:25:24.157972Z"
    },
    "id": "5b51f161",
    "papermill": {
     "duration": 0.009931,
     "end_time": "2022-03-11T10:25:24.158075",
     "exception": false,
     "start_time": "2022-03-11T10:25:24.148144",
     "status": "completed"
    },
    "tags": []
   },
   "outputs": [],
   "source": [
    "#Parameters \n",
    "n_features = 13\n",
    "n_samples= 506\n",
    "n_target = 1 "
   ]
  },
  {
   "cell_type": "code",
   "execution_count": 6,
   "id": "5d6eced4",
   "metadata": {
    "execution": {
     "iopub.execute_input": "2022-03-11T10:25:24.173561Z",
     "iopub.status.busy": "2022-03-11T10:25:24.173179Z",
     "iopub.status.idle": "2022-03-11T10:25:24.183639Z",
     "shell.execute_reply": "2022-03-11T10:25:24.183876Z"
    },
    "id": "5d6eced4",
    "papermill": {
     "duration": 0.019105,
     "end_time": "2022-03-11T10:25:24.183986",
     "exception": false,
     "start_time": "2022-03-11T10:25:24.164881",
     "status": "completed"
    },
    "tags": []
   },
   "outputs": [
    {
     "name": "stdout",
     "output_type": "stream",
     "text": [
      "         X1        X2        X3        X4        X5        X6        X7  \\\n",
      "0 -0.419782  0.284830 -1.287909 -0.272599 -0.144217  0.413672 -0.120013   \n",
      "1 -0.417339 -0.487722 -0.593381 -0.272599 -0.740262  0.194274  0.367166   \n",
      "2 -0.417342 -0.487722 -0.593381 -0.272599 -0.740262  1.282714 -0.265812   \n",
      "3 -0.416750 -0.487722 -1.306878 -0.272599 -0.835284  1.016303 -0.809889   \n",
      "4 -0.412482 -0.487722 -1.306878 -0.272599 -0.835284  1.228577 -0.511180   \n",
      "\n",
      "         X8        X9       X10       X11       X12       X13         Y  \n",
      "0  0.140214 -0.982843 -0.666608 -1.459000  0.441052 -1.075562  0.159686  \n",
      "1  0.557160 -0.867883 -0.987329 -0.303094  0.441052 -0.492439 -0.101524  \n",
      "2  0.557160 -0.867883 -0.987329 -0.303094  0.396427 -1.208727  1.324247  \n",
      "3  1.077737 -0.752922 -1.106115  0.113032  0.416163 -1.361517  1.182758  \n",
      "4  1.077737 -0.752922 -1.106115  0.113032  0.441052 -1.026501  1.487503  \n"
     ]
    }
   ],
   "source": [
    "X,Y = bostonDataset.boston_data()"
   ]
  },
  {
   "cell_type": "code",
   "execution_count": 7,
   "id": "fe007438",
   "metadata": {
    "execution": {
     "iopub.execute_input": "2022-03-11T10:25:24.200893Z",
     "iopub.status.busy": "2022-03-11T10:25:24.200517Z",
     "iopub.status.idle": "2022-03-11T10:25:24.201965Z",
     "shell.execute_reply": "2022-03-11T10:25:24.202207Z"
    },
    "id": "fe007438",
    "papermill": {
     "duration": 0.011066,
     "end_time": "2022-03-11T10:25:24.202313",
     "exception": false,
     "start_time": "2022-03-11T10:25:24.191247",
     "status": "completed"
    },
    "tags": []
   },
   "outputs": [],
   "source": [
    "#Train test split for dataset \n",
    "X_train,X_test,Y_train,Y_test = train_test_split(X,Y,test_size = 0.2)\n",
    "train_data = dataset.CustomDataset(X_train,Y_train)\n",
    "test_data = dataset.CustomDataset(X_test,Y_test)\n"
   ]
  },
  {
   "cell_type": "markdown",
   "id": "a9a1af34",
   "metadata": {
    "id": "a9a1af34",
    "papermill": {
     "duration": 0.007001,
     "end_time": "2022-03-11T10:25:24.216423",
     "exception": false,
     "start_time": "2022-03-11T10:25:24.209422",
     "status": "completed"
    },
    "tags": []
   },
   "source": [
    "## Training Parameters "
   ]
  },
  {
   "cell_type": "code",
   "execution_count": 8,
   "id": "952b7fc8",
   "metadata": {
    "execution": {
     "iopub.execute_input": "2022-03-11T10:25:24.232676Z",
     "iopub.status.busy": "2022-03-11T10:25:24.232312Z",
     "iopub.status.idle": "2022-03-11T10:25:24.233581Z",
     "shell.execute_reply": "2022-03-11T10:25:24.233827Z"
    },
    "id": "952b7fc8",
    "papermill": {
     "duration": 0.010543,
     "end_time": "2022-03-11T10:25:24.233936",
     "exception": false,
     "start_time": "2022-03-11T10:25:24.223393",
     "status": "completed"
    },
    "tags": []
   },
   "outputs": [],
   "source": [
    "batch_size = 64\n",
    "n_epochs = 1000\n",
    "#Select the device \n",
    "device = torch.device('cuda' if torch.cuda.is_available() else 'cpu')"
   ]
  },
  {
   "cell_type": "markdown",
   "id": "a95e1600",
   "metadata": {
    "id": "a95e1600",
    "papermill": {
     "duration": 0.007024,
     "end_time": "2022-03-11T10:25:24.248057",
     "exception": false,
     "start_time": "2022-03-11T10:25:24.241033",
     "status": "completed"
    },
    "tags": []
   },
   "source": [
    "# ABC Pre-generator Model \n",
    "\n",
    "1. The catboost model is used as a pre-generator model for the ABC-GAN. \n",
    "2. The model is first trained on the entire dataset \n",
    "3. It generats X,Y pairs and we add some Gaussian noise with mean 0 and variance 1 to it which is then feed as input to the generator.\n"
   ]
  },
  {
   "cell_type": "code",
   "execution_count": 9,
   "id": "ff8ce7bd",
   "metadata": {
    "execution": {
     "iopub.execute_input": "2022-03-11T10:25:24.266861Z",
     "iopub.status.busy": "2022-03-11T10:25:24.266442Z",
     "iopub.status.idle": "2022-03-11T10:25:25.223152Z",
     "shell.execute_reply": "2022-03-11T10:25:25.223445Z"
    },
    "id": "ff8ce7bd",
    "papermill": {
     "duration": 0.96839,
     "end_time": "2022-03-11T10:25:25.223565",
     "exception": false,
     "start_time": "2022-03-11T10:25:24.255175",
     "status": "completed"
    },
    "tags": []
   },
   "outputs": [
    {
     "name": "stdout",
     "output_type": "stream",
     "text": [
      "Learning rate set to 0.033215\n",
      "0:\tlearn: 0.9765322\ttotal: 58.8ms\tremaining: 58.7s\n",
      "1:\tlearn: 0.9565462\ttotal: 59.7ms\tremaining: 29.8s\n",
      "2:\tlearn: 0.9357308\ttotal: 60.6ms\tremaining: 20.2s\n",
      "3:\tlearn: 0.9198577\ttotal: 61.8ms\tremaining: 15.4s\n",
      "4:\tlearn: 0.9033065\ttotal: 62.8ms\tremaining: 12.5s\n",
      "5:\tlearn: 0.8883829\ttotal: 63.8ms\tremaining: 10.6s\n",
      "6:\tlearn: 0.8715638\ttotal: 64.6ms\tremaining: 9.17s\n",
      "7:\tlearn: 0.8554015\ttotal: 65.6ms\tremaining: 8.14s\n",
      "8:\tlearn: 0.8408243\ttotal: 66.5ms\tremaining: 7.33s\n",
      "9:\tlearn: 0.8249523\ttotal: 67.5ms\tremaining: 6.68s\n",
      "10:\tlearn: 0.8089899\ttotal: 68.4ms\tremaining: 6.15s\n",
      "11:\tlearn: 0.7951525\ttotal: 69.4ms\tremaining: 5.71s\n",
      "12:\tlearn: 0.7806923\ttotal: 70.2ms\tremaining: 5.33s\n",
      "13:\tlearn: 0.7657122\ttotal: 71ms\tremaining: 5s\n",
      "14:\tlearn: 0.7524234\ttotal: 71.8ms\tremaining: 4.71s\n",
      "15:\tlearn: 0.7384946\ttotal: 72.5ms\tremaining: 4.46s\n",
      "16:\tlearn: 0.7264773\ttotal: 73.3ms\tremaining: 4.24s\n",
      "17:\tlearn: 0.7141569\ttotal: 74.2ms\tremaining: 4.05s\n",
      "18:\tlearn: 0.7017025\ttotal: 75ms\tremaining: 3.87s\n",
      "19:\tlearn: 0.6896983\ttotal: 75.7ms\tremaining: 3.71s\n",
      "20:\tlearn: 0.6763300\ttotal: 76.6ms\tremaining: 3.57s\n",
      "21:\tlearn: 0.6661902\ttotal: 77.4ms\tremaining: 3.44s\n",
      "22:\tlearn: 0.6558352\ttotal: 78.2ms\tremaining: 3.32s\n",
      "23:\tlearn: 0.6455687\ttotal: 78.9ms\tremaining: 3.21s\n",
      "24:\tlearn: 0.6355160\ttotal: 79.6ms\tremaining: 3.1s\n",
      "25:\tlearn: 0.6266840\ttotal: 80.3ms\tremaining: 3.01s\n",
      "26:\tlearn: 0.6181437\ttotal: 81.2ms\tremaining: 2.93s\n",
      "27:\tlearn: 0.6097933\ttotal: 82ms\tremaining: 2.85s\n",
      "28:\tlearn: 0.5998855\ttotal: 82.7ms\tremaining: 2.77s\n",
      "29:\tlearn: 0.5900150\ttotal: 83.4ms\tremaining: 2.7s\n",
      "30:\tlearn: 0.5815321\ttotal: 84.3ms\tremaining: 2.64s\n",
      "31:\tlearn: 0.5732210\ttotal: 85.1ms\tremaining: 2.58s\n",
      "32:\tlearn: 0.5655467\ttotal: 86ms\tremaining: 2.52s\n",
      "33:\tlearn: 0.5581361\ttotal: 86.9ms\tremaining: 2.47s\n",
      "34:\tlearn: 0.5515252\ttotal: 87.7ms\tremaining: 2.42s\n",
      "35:\tlearn: 0.5446440\ttotal: 88.4ms\tremaining: 2.37s\n",
      "36:\tlearn: 0.5380672\ttotal: 89.3ms\tremaining: 2.32s\n",
      "37:\tlearn: 0.5311096\ttotal: 90ms\tremaining: 2.28s\n",
      "38:\tlearn: 0.5238291\ttotal: 90.8ms\tremaining: 2.24s\n",
      "39:\tlearn: 0.5160955\ttotal: 91.5ms\tremaining: 2.2s\n",
      "40:\tlearn: 0.5093913\ttotal: 92.4ms\tremaining: 2.16s\n",
      "41:\tlearn: 0.5025915\ttotal: 93.3ms\tremaining: 2.13s\n",
      "42:\tlearn: 0.4958894\ttotal: 94.1ms\tremaining: 2.1s\n",
      "43:\tlearn: 0.4909288\ttotal: 95ms\tremaining: 2.06s\n",
      "44:\tlearn: 0.4853427\ttotal: 95.9ms\tremaining: 2.04s\n",
      "45:\tlearn: 0.4793437\ttotal: 96.8ms\tremaining: 2.01s\n",
      "46:\tlearn: 0.4742134\ttotal: 97.6ms\tremaining: 1.98s\n",
      "47:\tlearn: 0.4682570\ttotal: 98.3ms\tremaining: 1.95s\n",
      "48:\tlearn: 0.4634702\ttotal: 99.1ms\tremaining: 1.92s\n",
      "49:\tlearn: 0.4582068\ttotal: 100ms\tremaining: 1.9s\n",
      "50:\tlearn: 0.4527681\ttotal: 101ms\tremaining: 1.88s\n",
      "51:\tlearn: 0.4487465\ttotal: 102ms\tremaining: 1.85s\n",
      "52:\tlearn: 0.4444333\ttotal: 103ms\tremaining: 1.83s\n",
      "53:\tlearn: 0.4406133\ttotal: 103ms\tremaining: 1.81s\n",
      "54:\tlearn: 0.4361766\ttotal: 104ms\tremaining: 1.78s\n",
      "55:\tlearn: 0.4325792\ttotal: 105ms\tremaining: 1.76s\n",
      "56:\tlearn: 0.4289829\ttotal: 105ms\tremaining: 1.75s\n",
      "57:\tlearn: 0.4249775\ttotal: 106ms\tremaining: 1.73s\n",
      "58:\tlearn: 0.4211368\ttotal: 107ms\tremaining: 1.71s\n",
      "59:\tlearn: 0.4177503\ttotal: 108ms\tremaining: 1.69s\n"
     ]
    },
    {
     "name": "stdout",
     "output_type": "stream",
     "text": [
      "60:\tlearn: 0.4134119\ttotal: 109ms\tremaining: 1.68s\n",
      "61:\tlearn: 0.4093601\ttotal: 110ms\tremaining: 1.66s\n",
      "62:\tlearn: 0.4046635\ttotal: 111ms\tremaining: 1.65s\n",
      "63:\tlearn: 0.4015940\ttotal: 112ms\tremaining: 1.63s\n",
      "64:\tlearn: 0.3980440\ttotal: 113ms\tremaining: 1.62s\n",
      "65:\tlearn: 0.3940105\ttotal: 114ms\tremaining: 1.61s\n",
      "66:\tlearn: 0.3906811\ttotal: 115ms\tremaining: 1.6s\n",
      "67:\tlearn: 0.3876145\ttotal: 116ms\tremaining: 1.59s\n",
      "68:\tlearn: 0.3843849\ttotal: 117ms\tremaining: 1.57s\n",
      "69:\tlearn: 0.3818634\ttotal: 117ms\tremaining: 1.56s\n",
      "70:\tlearn: 0.3786909\ttotal: 118ms\tremaining: 1.54s\n",
      "71:\tlearn: 0.3762043\ttotal: 119ms\tremaining: 1.53s\n",
      "72:\tlearn: 0.3731209\ttotal: 120ms\tremaining: 1.52s\n",
      "73:\tlearn: 0.3697429\ttotal: 120ms\tremaining: 1.51s\n",
      "74:\tlearn: 0.3665362\ttotal: 121ms\tremaining: 1.5s\n",
      "75:\tlearn: 0.3637738\ttotal: 122ms\tremaining: 1.48s\n",
      "76:\tlearn: 0.3601275\ttotal: 123ms\tremaining: 1.47s\n",
      "77:\tlearn: 0.3575933\ttotal: 123ms\tremaining: 1.46s\n",
      "78:\tlearn: 0.3546215\ttotal: 124ms\tremaining: 1.45s\n",
      "79:\tlearn: 0.3524164\ttotal: 125ms\tremaining: 1.44s\n",
      "80:\tlearn: 0.3497467\ttotal: 126ms\tremaining: 1.43s\n",
      "81:\tlearn: 0.3473836\ttotal: 127ms\tremaining: 1.42s\n",
      "82:\tlearn: 0.3449531\ttotal: 127ms\tremaining: 1.41s\n",
      "83:\tlearn: 0.3424726\ttotal: 128ms\tremaining: 1.4s\n",
      "84:\tlearn: 0.3400991\ttotal: 129ms\tremaining: 1.39s\n",
      "85:\tlearn: 0.3376800\ttotal: 130ms\tremaining: 1.38s\n",
      "86:\tlearn: 0.3355396\ttotal: 131ms\tremaining: 1.37s\n",
      "87:\tlearn: 0.3329429\ttotal: 132ms\tremaining: 1.37s\n",
      "88:\tlearn: 0.3302707\ttotal: 133ms\tremaining: 1.36s\n",
      "89:\tlearn: 0.3283766\ttotal: 134ms\tremaining: 1.35s\n",
      "90:\tlearn: 0.3266369\ttotal: 134ms\tremaining: 1.34s\n",
      "91:\tlearn: 0.3248777\ttotal: 135ms\tremaining: 1.33s\n",
      "92:\tlearn: 0.3234287\ttotal: 136ms\tremaining: 1.33s\n",
      "93:\tlearn: 0.3217074\ttotal: 137ms\tremaining: 1.32s\n",
      "94:\tlearn: 0.3201673\ttotal: 137ms\tremaining: 1.31s\n",
      "95:\tlearn: 0.3192129\ttotal: 138ms\tremaining: 1.3s\n",
      "96:\tlearn: 0.3183743\ttotal: 139ms\tremaining: 1.29s\n",
      "97:\tlearn: 0.3165807\ttotal: 140ms\tremaining: 1.29s\n",
      "98:\tlearn: 0.3148758\ttotal: 141ms\tremaining: 1.28s\n",
      "99:\tlearn: 0.3125241\ttotal: 141ms\tremaining: 1.27s\n",
      "100:\tlearn: 0.3113071\ttotal: 142ms\tremaining: 1.26s\n",
      "101:\tlearn: 0.3095805\ttotal: 143ms\tremaining: 1.26s\n",
      "102:\tlearn: 0.3073447\ttotal: 144ms\tremaining: 1.25s\n",
      "103:\tlearn: 0.3054562\ttotal: 145ms\tremaining: 1.25s\n",
      "104:\tlearn: 0.3037115\ttotal: 145ms\tremaining: 1.24s\n",
      "105:\tlearn: 0.3022640\ttotal: 146ms\tremaining: 1.23s\n",
      "106:\tlearn: 0.3003669\ttotal: 147ms\tremaining: 1.23s\n",
      "107:\tlearn: 0.2986873\ttotal: 148ms\tremaining: 1.22s\n",
      "108:\tlearn: 0.2975570\ttotal: 148ms\tremaining: 1.21s\n",
      "109:\tlearn: 0.2960453\ttotal: 149ms\tremaining: 1.21s\n",
      "110:\tlearn: 0.2945591\ttotal: 150ms\tremaining: 1.2s\n",
      "111:\tlearn: 0.2935964\ttotal: 151ms\tremaining: 1.2s\n",
      "112:\tlearn: 0.2922173\ttotal: 152ms\tremaining: 1.19s\n",
      "113:\tlearn: 0.2912305\ttotal: 153ms\tremaining: 1.19s\n",
      "114:\tlearn: 0.2902012\ttotal: 154ms\tremaining: 1.18s\n",
      "115:\tlearn: 0.2887914\ttotal: 155ms\tremaining: 1.18s\n",
      "116:\tlearn: 0.2875709\ttotal: 155ms\tremaining: 1.17s\n",
      "117:\tlearn: 0.2862538\ttotal: 156ms\tremaining: 1.17s\n",
      "118:\tlearn: 0.2851761\ttotal: 157ms\tremaining: 1.16s\n",
      "119:\tlearn: 0.2840604\ttotal: 158ms\tremaining: 1.16s\n",
      "120:\tlearn: 0.2828341\ttotal: 159ms\tremaining: 1.15s\n",
      "121:\tlearn: 0.2819676\ttotal: 159ms\tremaining: 1.15s\n",
      "122:\tlearn: 0.2809497\ttotal: 161ms\tremaining: 1.15s\n",
      "123:\tlearn: 0.2800006\ttotal: 162ms\tremaining: 1.14s\n",
      "124:\tlearn: 0.2789424\ttotal: 162ms\tremaining: 1.14s\n",
      "125:\tlearn: 0.2781222\ttotal: 163ms\tremaining: 1.13s\n",
      "126:\tlearn: 0.2773395\ttotal: 164ms\tremaining: 1.13s\n",
      "127:\tlearn: 0.2764540\ttotal: 165ms\tremaining: 1.12s\n",
      "128:\tlearn: 0.2756817\ttotal: 166ms\tremaining: 1.12s\n",
      "129:\tlearn: 0.2748234\ttotal: 167ms\tremaining: 1.12s\n",
      "130:\tlearn: 0.2742436\ttotal: 168ms\tremaining: 1.12s\n",
      "131:\tlearn: 0.2734716\ttotal: 170ms\tremaining: 1.11s\n",
      "132:\tlearn: 0.2725318\ttotal: 171ms\tremaining: 1.11s\n",
      "133:\tlearn: 0.2717567\ttotal: 172ms\tremaining: 1.11s\n",
      "134:\tlearn: 0.2712356\ttotal: 173ms\tremaining: 1.1s\n",
      "135:\tlearn: 0.2705411\ttotal: 173ms\tremaining: 1.1s\n",
      "136:\tlearn: 0.2692554\ttotal: 174ms\tremaining: 1.1s\n",
      "137:\tlearn: 0.2684000\ttotal: 175ms\tremaining: 1.09s\n",
      "138:\tlearn: 0.2673726\ttotal: 176ms\tremaining: 1.09s\n",
      "139:\tlearn: 0.2664568\ttotal: 177ms\tremaining: 1.08s\n",
      "140:\tlearn: 0.2659046\ttotal: 177ms\tremaining: 1.08s\n",
      "141:\tlearn: 0.2652281\ttotal: 178ms\tremaining: 1.07s\n",
      "142:\tlearn: 0.2642168\ttotal: 179ms\tremaining: 1.07s\n",
      "143:\tlearn: 0.2629453\ttotal: 179ms\tremaining: 1.07s\n",
      "144:\tlearn: 0.2622658\ttotal: 180ms\tremaining: 1.06s\n",
      "145:\tlearn: 0.2614234\ttotal: 181ms\tremaining: 1.06s\n",
      "146:\tlearn: 0.2606681\ttotal: 182ms\tremaining: 1.06s\n",
      "147:\tlearn: 0.2601133\ttotal: 183ms\tremaining: 1.05s\n",
      "148:\tlearn: 0.2597623\ttotal: 184ms\tremaining: 1.05s\n",
      "149:\tlearn: 0.2588170\ttotal: 185ms\tremaining: 1.05s\n",
      "150:\tlearn: 0.2581586\ttotal: 186ms\tremaining: 1.04s\n",
      "151:\tlearn: 0.2575449\ttotal: 187ms\tremaining: 1.04s\n",
      "152:\tlearn: 0.2570290\ttotal: 188ms\tremaining: 1.04s\n",
      "153:\tlearn: 0.2563813\ttotal: 189ms\tremaining: 1.04s\n"
     ]
    },
    {
     "name": "stdout",
     "output_type": "stream",
     "text": [
      "154:\tlearn: 0.2559736\ttotal: 190ms\tremaining: 1.03s\n",
      "155:\tlearn: 0.2550990\ttotal: 191ms\tremaining: 1.03s\n",
      "156:\tlearn: 0.2543620\ttotal: 192ms\tremaining: 1.03s\n",
      "157:\tlearn: 0.2538133\ttotal: 193ms\tremaining: 1.03s\n",
      "158:\tlearn: 0.2528299\ttotal: 194ms\tremaining: 1.03s\n",
      "159:\tlearn: 0.2522945\ttotal: 195ms\tremaining: 1.02s\n",
      "160:\tlearn: 0.2514636\ttotal: 196ms\tremaining: 1.02s\n",
      "161:\tlearn: 0.2510339\ttotal: 197ms\tremaining: 1.02s\n",
      "162:\tlearn: 0.2506744\ttotal: 197ms\tremaining: 1.01s\n",
      "163:\tlearn: 0.2497473\ttotal: 198ms\tremaining: 1.01s\n",
      "164:\tlearn: 0.2489919\ttotal: 199ms\tremaining: 1.01s\n",
      "165:\tlearn: 0.2484893\ttotal: 200ms\tremaining: 1s\n",
      "166:\tlearn: 0.2473906\ttotal: 201ms\tremaining: 1s\n",
      "167:\tlearn: 0.2469127\ttotal: 202ms\tremaining: 999ms\n",
      "168:\tlearn: 0.2463427\ttotal: 203ms\tremaining: 997ms\n",
      "169:\tlearn: 0.2456318\ttotal: 203ms\tremaining: 994ms\n",
      "170:\tlearn: 0.2452612\ttotal: 204ms\tremaining: 990ms\n",
      "171:\tlearn: 0.2443351\ttotal: 205ms\tremaining: 987ms\n",
      "172:\tlearn: 0.2434401\ttotal: 207ms\tremaining: 987ms\n",
      "173:\tlearn: 0.2430041\ttotal: 207ms\tremaining: 984ms\n",
      "174:\tlearn: 0.2426154\ttotal: 208ms\tremaining: 982ms\n",
      "175:\tlearn: 0.2422937\ttotal: 209ms\tremaining: 978ms\n",
      "176:\tlearn: 0.2415957\ttotal: 210ms\tremaining: 975ms\n",
      "177:\tlearn: 0.2409909\ttotal: 211ms\tremaining: 973ms\n",
      "178:\tlearn: 0.2406063\ttotal: 212ms\tremaining: 970ms\n",
      "179:\tlearn: 0.2400800\ttotal: 212ms\tremaining: 967ms\n",
      "180:\tlearn: 0.2392960\ttotal: 213ms\tremaining: 964ms\n",
      "181:\tlearn: 0.2386314\ttotal: 214ms\tremaining: 962ms\n",
      "182:\tlearn: 0.2381526\ttotal: 215ms\tremaining: 959ms\n",
      "183:\tlearn: 0.2379783\ttotal: 216ms\tremaining: 956ms\n",
      "184:\tlearn: 0.2375082\ttotal: 216ms\tremaining: 953ms\n",
      "185:\tlearn: 0.2368218\ttotal: 217ms\tremaining: 950ms\n",
      "186:\tlearn: 0.2362114\ttotal: 218ms\tremaining: 947ms\n",
      "187:\tlearn: 0.2358201\ttotal: 219ms\tremaining: 945ms\n",
      "188:\tlearn: 0.2349862\ttotal: 220ms\tremaining: 942ms\n",
      "189:\tlearn: 0.2343012\ttotal: 220ms\tremaining: 939ms\n",
      "190:\tlearn: 0.2337692\ttotal: 221ms\tremaining: 937ms\n",
      "191:\tlearn: 0.2332528\ttotal: 222ms\tremaining: 934ms\n",
      "192:\tlearn: 0.2326208\ttotal: 223ms\tremaining: 932ms\n",
      "193:\tlearn: 0.2318722\ttotal: 224ms\tremaining: 929ms\n",
      "194:\tlearn: 0.2311187\ttotal: 224ms\tremaining: 926ms\n",
      "195:\tlearn: 0.2304365\ttotal: 225ms\tremaining: 924ms\n",
      "196:\tlearn: 0.2300598\ttotal: 226ms\tremaining: 921ms\n",
      "197:\tlearn: 0.2294986\ttotal: 227ms\tremaining: 918ms\n",
      "198:\tlearn: 0.2289668\ttotal: 227ms\tremaining: 916ms\n",
      "199:\tlearn: 0.2284439\ttotal: 228ms\tremaining: 913ms\n",
      "200:\tlearn: 0.2282878\ttotal: 229ms\tremaining: 910ms\n",
      "201:\tlearn: 0.2276278\ttotal: 230ms\tremaining: 908ms\n",
      "202:\tlearn: 0.2274147\ttotal: 230ms\tremaining: 905ms\n",
      "203:\tlearn: 0.2268571\ttotal: 231ms\tremaining: 902ms\n",
      "204:\tlearn: 0.2262906\ttotal: 232ms\tremaining: 900ms\n",
      "205:\tlearn: 0.2257217\ttotal: 233ms\tremaining: 898ms\n",
      "206:\tlearn: 0.2251442\ttotal: 234ms\tremaining: 895ms\n",
      "207:\tlearn: 0.2245683\ttotal: 234ms\tremaining: 893ms\n",
      "208:\tlearn: 0.2239932\ttotal: 235ms\tremaining: 890ms\n",
      "209:\tlearn: 0.2234679\ttotal: 236ms\tremaining: 888ms\n",
      "210:\tlearn: 0.2231689\ttotal: 237ms\tremaining: 886ms\n",
      "211:\tlearn: 0.2228045\ttotal: 238ms\tremaining: 885ms\n",
      "212:\tlearn: 0.2221902\ttotal: 239ms\tremaining: 884ms\n",
      "213:\tlearn: 0.2216127\ttotal: 240ms\tremaining: 882ms\n",
      "214:\tlearn: 0.2210396\ttotal: 241ms\tremaining: 880ms\n",
      "215:\tlearn: 0.2208182\ttotal: 242ms\tremaining: 878ms\n",
      "216:\tlearn: 0.2202640\ttotal: 243ms\tremaining: 876ms\n",
      "217:\tlearn: 0.2199474\ttotal: 243ms\tremaining: 873ms\n",
      "218:\tlearn: 0.2193962\ttotal: 244ms\tremaining: 871ms\n",
      "219:\tlearn: 0.2187853\ttotal: 245ms\tremaining: 869ms\n",
      "220:\tlearn: 0.2184134\ttotal: 246ms\tremaining: 866ms\n",
      "221:\tlearn: 0.2178112\ttotal: 247ms\tremaining: 864ms\n",
      "222:\tlearn: 0.2173468\ttotal: 247ms\tremaining: 861ms\n",
      "223:\tlearn: 0.2165443\ttotal: 248ms\tremaining: 859ms\n",
      "224:\tlearn: 0.2159231\ttotal: 249ms\tremaining: 857ms\n",
      "225:\tlearn: 0.2155208\ttotal: 250ms\tremaining: 855ms\n",
      "226:\tlearn: 0.2150007\ttotal: 250ms\tremaining: 852ms\n",
      "227:\tlearn: 0.2146649\ttotal: 251ms\tremaining: 850ms\n",
      "228:\tlearn: 0.2142478\ttotal: 252ms\tremaining: 848ms\n",
      "229:\tlearn: 0.2138107\ttotal: 253ms\tremaining: 846ms\n",
      "230:\tlearn: 0.2133060\ttotal: 254ms\tremaining: 844ms\n",
      "231:\tlearn: 0.2129467\ttotal: 254ms\tremaining: 842ms\n",
      "232:\tlearn: 0.2124244\ttotal: 255ms\tremaining: 840ms\n",
      "233:\tlearn: 0.2118003\ttotal: 256ms\tremaining: 838ms\n",
      "234:\tlearn: 0.2115104\ttotal: 257ms\tremaining: 836ms\n",
      "235:\tlearn: 0.2109991\ttotal: 257ms\tremaining: 834ms\n",
      "236:\tlearn: 0.2105296\ttotal: 259ms\tremaining: 834ms\n",
      "237:\tlearn: 0.2103283\ttotal: 260ms\tremaining: 832ms\n",
      "238:\tlearn: 0.2097432\ttotal: 261ms\tremaining: 830ms\n",
      "239:\tlearn: 0.2092887\ttotal: 262ms\tremaining: 828ms\n",
      "240:\tlearn: 0.2088735\ttotal: 262ms\tremaining: 826ms\n",
      "241:\tlearn: 0.2083380\ttotal: 263ms\tremaining: 824ms\n",
      "242:\tlearn: 0.2080354\ttotal: 264ms\tremaining: 822ms\n",
      "243:\tlearn: 0.2077083\ttotal: 265ms\tremaining: 820ms\n",
      "244:\tlearn: 0.2071161\ttotal: 266ms\tremaining: 818ms\n",
      "245:\tlearn: 0.2063823\ttotal: 266ms\tremaining: 816ms\n",
      "246:\tlearn: 0.2058319\ttotal: 267ms\tremaining: 814ms\n",
      "247:\tlearn: 0.2054616\ttotal: 268ms\tremaining: 813ms\n",
      "248:\tlearn: 0.2048723\ttotal: 269ms\tremaining: 811ms\n",
      "249:\tlearn: 0.2042976\ttotal: 270ms\tremaining: 809ms\n",
      "250:\tlearn: 0.2037778\ttotal: 271ms\tremaining: 807ms\n",
      "251:\tlearn: 0.2035115\ttotal: 271ms\tremaining: 805ms\n",
      "252:\tlearn: 0.2029988\ttotal: 272ms\tremaining: 803ms\n",
      "253:\tlearn: 0.2025556\ttotal: 273ms\tremaining: 801ms\n",
      "254:\tlearn: 0.2020584\ttotal: 274ms\tremaining: 800ms\n",
      "255:\tlearn: 0.2015903\ttotal: 274ms\tremaining: 798ms\n",
      "256:\tlearn: 0.2012021\ttotal: 275ms\tremaining: 796ms\n",
      "257:\tlearn: 0.2007595\ttotal: 277ms\tremaining: 796ms\n",
      "258:\tlearn: 0.2002120\ttotal: 277ms\tremaining: 794ms\n",
      "259:\tlearn: 0.1998358\ttotal: 278ms\tremaining: 792ms\n",
      "260:\tlearn: 0.1994648\ttotal: 279ms\tremaining: 790ms\n",
      "261:\tlearn: 0.1990114\ttotal: 280ms\tremaining: 788ms\n",
      "262:\tlearn: 0.1987616\ttotal: 281ms\tremaining: 787ms\n",
      "263:\tlearn: 0.1982120\ttotal: 282ms\tremaining: 785ms\n",
      "264:\tlearn: 0.1978018\ttotal: 282ms\tremaining: 783ms\n",
      "265:\tlearn: 0.1971534\ttotal: 283ms\tremaining: 781ms\n",
      "266:\tlearn: 0.1966201\ttotal: 284ms\tremaining: 780ms\n",
      "267:\tlearn: 0.1961454\ttotal: 285ms\tremaining: 778ms\n",
      "268:\tlearn: 0.1958088\ttotal: 286ms\tremaining: 776ms\n",
      "269:\tlearn: 0.1954189\ttotal: 286ms\tremaining: 774ms\n",
      "270:\tlearn: 0.1951788\ttotal: 287ms\tremaining: 773ms\n",
      "271:\tlearn: 0.1946555\ttotal: 288ms\tremaining: 771ms\n",
      "272:\tlearn: 0.1942992\ttotal: 289ms\tremaining: 770ms\n",
      "273:\tlearn: 0.1939429\ttotal: 290ms\tremaining: 768ms\n",
      "274:\tlearn: 0.1934787\ttotal: 291ms\tremaining: 767ms\n",
      "275:\tlearn: 0.1929446\ttotal: 292ms\tremaining: 765ms\n",
      "276:\tlearn: 0.1924558\ttotal: 292ms\tremaining: 763ms\n",
      "277:\tlearn: 0.1920281\ttotal: 293ms\tremaining: 762ms\n",
      "278:\tlearn: 0.1917287\ttotal: 294ms\tremaining: 760ms\n",
      "279:\tlearn: 0.1913356\ttotal: 295ms\tremaining: 758ms\n",
      "280:\tlearn: 0.1910656\ttotal: 296ms\tremaining: 757ms\n",
      "281:\tlearn: 0.1908177\ttotal: 297ms\tremaining: 755ms\n",
      "282:\tlearn: 0.1904233\ttotal: 297ms\tremaining: 754ms\n",
      "283:\tlearn: 0.1899746\ttotal: 298ms\tremaining: 752ms\n"
     ]
    },
    {
     "name": "stdout",
     "output_type": "stream",
     "text": [
      "284:\tlearn: 0.1896013\ttotal: 299ms\tremaining: 751ms\n",
      "285:\tlearn: 0.1891919\ttotal: 300ms\tremaining: 749ms\n",
      "286:\tlearn: 0.1885296\ttotal: 301ms\tremaining: 748ms\n",
      "287:\tlearn: 0.1882646\ttotal: 302ms\tremaining: 746ms\n",
      "288:\tlearn: 0.1880015\ttotal: 303ms\tremaining: 745ms\n",
      "289:\tlearn: 0.1874925\ttotal: 304ms\tremaining: 743ms\n",
      "290:\tlearn: 0.1870430\ttotal: 304ms\tremaining: 742ms\n",
      "291:\tlearn: 0.1864708\ttotal: 305ms\tremaining: 740ms\n",
      "292:\tlearn: 0.1861685\ttotal: 306ms\tremaining: 738ms\n",
      "293:\tlearn: 0.1857722\ttotal: 307ms\tremaining: 736ms\n",
      "294:\tlearn: 0.1853091\ttotal: 308ms\tremaining: 735ms\n",
      "295:\tlearn: 0.1850667\ttotal: 308ms\tremaining: 734ms\n",
      "296:\tlearn: 0.1847106\ttotal: 309ms\tremaining: 732ms\n",
      "297:\tlearn: 0.1843967\ttotal: 310ms\tremaining: 730ms\n",
      "298:\tlearn: 0.1840462\ttotal: 311ms\tremaining: 729ms\n",
      "299:\tlearn: 0.1837717\ttotal: 312ms\tremaining: 727ms\n",
      "300:\tlearn: 0.1833776\ttotal: 312ms\tremaining: 726ms\n",
      "301:\tlearn: 0.1831978\ttotal: 313ms\tremaining: 724ms\n",
      "302:\tlearn: 0.1828671\ttotal: 314ms\tremaining: 722ms\n",
      "303:\tlearn: 0.1826696\ttotal: 315ms\tremaining: 721ms\n",
      "304:\tlearn: 0.1823368\ttotal: 316ms\tremaining: 719ms\n",
      "305:\tlearn: 0.1821660\ttotal: 317ms\tremaining: 718ms\n",
      "306:\tlearn: 0.1819085\ttotal: 318ms\tremaining: 717ms\n",
      "307:\tlearn: 0.1815566\ttotal: 318ms\tremaining: 715ms\n",
      "308:\tlearn: 0.1812537\ttotal: 319ms\tremaining: 714ms\n",
      "309:\tlearn: 0.1808954\ttotal: 320ms\tremaining: 712ms\n",
      "310:\tlearn: 0.1804708\ttotal: 321ms\tremaining: 710ms\n",
      "311:\tlearn: 0.1800043\ttotal: 321ms\tremaining: 709ms\n",
      "312:\tlearn: 0.1796495\ttotal: 322ms\tremaining: 707ms\n",
      "313:\tlearn: 0.1795414\ttotal: 323ms\tremaining: 706ms\n",
      "314:\tlearn: 0.1791242\ttotal: 324ms\tremaining: 704ms\n",
      "315:\tlearn: 0.1788975\ttotal: 325ms\tremaining: 703ms\n",
      "316:\tlearn: 0.1783218\ttotal: 326ms\tremaining: 701ms\n",
      "317:\tlearn: 0.1778010\ttotal: 326ms\tremaining: 700ms\n",
      "318:\tlearn: 0.1771777\ttotal: 327ms\tremaining: 698ms\n",
      "319:\tlearn: 0.1764689\ttotal: 328ms\tremaining: 697ms\n",
      "320:\tlearn: 0.1761810\ttotal: 329ms\tremaining: 695ms\n",
      "321:\tlearn: 0.1757612\ttotal: 330ms\tremaining: 694ms\n",
      "322:\tlearn: 0.1756425\ttotal: 330ms\tremaining: 693ms\n",
      "323:\tlearn: 0.1753694\ttotal: 331ms\tremaining: 691ms\n",
      "324:\tlearn: 0.1750025\ttotal: 332ms\tremaining: 690ms\n",
      "325:\tlearn: 0.1746729\ttotal: 333ms\tremaining: 688ms\n",
      "326:\tlearn: 0.1744003\ttotal: 334ms\tremaining: 687ms\n",
      "327:\tlearn: 0.1741312\ttotal: 335ms\tremaining: 686ms\n",
      "328:\tlearn: 0.1737482\ttotal: 335ms\tremaining: 684ms\n",
      "329:\tlearn: 0.1733699\ttotal: 336ms\tremaining: 683ms\n",
      "330:\tlearn: 0.1730318\ttotal: 337ms\tremaining: 682ms\n",
      "331:\tlearn: 0.1726000\ttotal: 338ms\tremaining: 681ms\n",
      "332:\tlearn: 0.1723024\ttotal: 339ms\tremaining: 679ms\n",
      "333:\tlearn: 0.1722163\ttotal: 340ms\tremaining: 678ms\n",
      "334:\tlearn: 0.1717183\ttotal: 341ms\tremaining: 677ms\n",
      "335:\tlearn: 0.1716242\ttotal: 342ms\tremaining: 675ms\n",
      "336:\tlearn: 0.1711469\ttotal: 343ms\tremaining: 674ms\n",
      "337:\tlearn: 0.1708780\ttotal: 343ms\tremaining: 673ms\n",
      "338:\tlearn: 0.1705468\ttotal: 344ms\tremaining: 671ms\n",
      "339:\tlearn: 0.1702056\ttotal: 345ms\tremaining: 670ms\n",
      "340:\tlearn: 0.1697772\ttotal: 346ms\tremaining: 669ms\n",
      "341:\tlearn: 0.1696378\ttotal: 347ms\tremaining: 667ms\n",
      "342:\tlearn: 0.1693216\ttotal: 348ms\tremaining: 666ms\n",
      "343:\tlearn: 0.1691983\ttotal: 348ms\tremaining: 664ms\n",
      "344:\tlearn: 0.1689297\ttotal: 349ms\tremaining: 663ms\n",
      "345:\tlearn: 0.1685223\ttotal: 350ms\tremaining: 661ms\n",
      "346:\tlearn: 0.1681084\ttotal: 351ms\tremaining: 660ms\n",
      "347:\tlearn: 0.1679340\ttotal: 351ms\tremaining: 658ms\n",
      "348:\tlearn: 0.1676814\ttotal: 352ms\tremaining: 657ms\n",
      "349:\tlearn: 0.1671971\ttotal: 353ms\tremaining: 656ms\n",
      "350:\tlearn: 0.1670889\ttotal: 354ms\tremaining: 654ms\n",
      "351:\tlearn: 0.1667921\ttotal: 355ms\tremaining: 653ms\n",
      "352:\tlearn: 0.1665071\ttotal: 355ms\tremaining: 651ms\n",
      "353:\tlearn: 0.1660735\ttotal: 356ms\tremaining: 650ms\n",
      "354:\tlearn: 0.1658656\ttotal: 357ms\tremaining: 648ms\n",
      "355:\tlearn: 0.1654967\ttotal: 358ms\tremaining: 647ms\n",
      "356:\tlearn: 0.1652264\ttotal: 359ms\tremaining: 646ms\n",
      "357:\tlearn: 0.1649870\ttotal: 359ms\tremaining: 644ms\n",
      "358:\tlearn: 0.1646726\ttotal: 360ms\tremaining: 643ms\n",
      "359:\tlearn: 0.1644547\ttotal: 361ms\tremaining: 642ms\n",
      "360:\tlearn: 0.1640188\ttotal: 362ms\tremaining: 641ms\n",
      "361:\tlearn: 0.1635297\ttotal: 363ms\tremaining: 639ms\n",
      "362:\tlearn: 0.1632028\ttotal: 363ms\tremaining: 638ms\n",
      "363:\tlearn: 0.1627657\ttotal: 364ms\tremaining: 636ms\n",
      "364:\tlearn: 0.1625607\ttotal: 365ms\tremaining: 635ms\n",
      "365:\tlearn: 0.1621966\ttotal: 366ms\tremaining: 633ms\n",
      "366:\tlearn: 0.1617913\ttotal: 366ms\tremaining: 632ms\n",
      "367:\tlearn: 0.1615671\ttotal: 367ms\tremaining: 631ms\n",
      "368:\tlearn: 0.1612091\ttotal: 368ms\tremaining: 629ms\n",
      "369:\tlearn: 0.1607493\ttotal: 369ms\tremaining: 628ms\n",
      "370:\tlearn: 0.1603827\ttotal: 370ms\tremaining: 627ms\n",
      "371:\tlearn: 0.1599767\ttotal: 371ms\tremaining: 625ms\n",
      "372:\tlearn: 0.1594654\ttotal: 371ms\tremaining: 624ms\n",
      "373:\tlearn: 0.1591017\ttotal: 372ms\tremaining: 623ms\n",
      "374:\tlearn: 0.1584946\ttotal: 373ms\tremaining: 622ms\n",
      "375:\tlearn: 0.1579205\ttotal: 374ms\tremaining: 620ms\n",
      "376:\tlearn: 0.1575348\ttotal: 375ms\tremaining: 619ms\n",
      "377:\tlearn: 0.1572016\ttotal: 375ms\tremaining: 618ms\n",
      "378:\tlearn: 0.1566627\ttotal: 376ms\tremaining: 616ms\n",
      "379:\tlearn: 0.1561606\ttotal: 377ms\tremaining: 615ms\n",
      "380:\tlearn: 0.1559398\ttotal: 378ms\tremaining: 614ms\n",
      "381:\tlearn: 0.1555554\ttotal: 378ms\tremaining: 612ms\n",
      "382:\tlearn: 0.1551156\ttotal: 379ms\tremaining: 611ms\n",
      "383:\tlearn: 0.1547945\ttotal: 380ms\tremaining: 610ms\n"
     ]
    },
    {
     "name": "stdout",
     "output_type": "stream",
     "text": [
      "384:\tlearn: 0.1544869\ttotal: 381ms\tremaining: 609ms\n",
      "385:\tlearn: 0.1543020\ttotal: 382ms\tremaining: 608ms\n",
      "386:\tlearn: 0.1539459\ttotal: 383ms\tremaining: 607ms\n",
      "387:\tlearn: 0.1535283\ttotal: 384ms\tremaining: 606ms\n",
      "388:\tlearn: 0.1534651\ttotal: 385ms\tremaining: 604ms\n",
      "389:\tlearn: 0.1530718\ttotal: 386ms\tremaining: 603ms\n",
      "390:\tlearn: 0.1528602\ttotal: 386ms\tremaining: 602ms\n",
      "391:\tlearn: 0.1525600\ttotal: 387ms\tremaining: 600ms\n",
      "392:\tlearn: 0.1522927\ttotal: 388ms\tremaining: 599ms\n",
      "393:\tlearn: 0.1518982\ttotal: 389ms\tremaining: 598ms\n",
      "394:\tlearn: 0.1515905\ttotal: 390ms\tremaining: 597ms\n",
      "395:\tlearn: 0.1513465\ttotal: 390ms\tremaining: 596ms\n",
      "396:\tlearn: 0.1512661\ttotal: 391ms\tremaining: 594ms\n",
      "397:\tlearn: 0.1509918\ttotal: 392ms\tremaining: 593ms\n",
      "398:\tlearn: 0.1507845\ttotal: 393ms\tremaining: 592ms\n",
      "399:\tlearn: 0.1504664\ttotal: 394ms\tremaining: 590ms\n",
      "400:\tlearn: 0.1501456\ttotal: 394ms\tremaining: 589ms\n",
      "401:\tlearn: 0.1499335\ttotal: 395ms\tremaining: 588ms\n",
      "402:\tlearn: 0.1497328\ttotal: 396ms\tremaining: 587ms\n",
      "403:\tlearn: 0.1493897\ttotal: 397ms\tremaining: 585ms\n",
      "404:\tlearn: 0.1490869\ttotal: 398ms\tremaining: 584ms\n",
      "405:\tlearn: 0.1489161\ttotal: 398ms\tremaining: 583ms\n",
      "406:\tlearn: 0.1487736\ttotal: 399ms\tremaining: 582ms\n",
      "407:\tlearn: 0.1484595\ttotal: 400ms\tremaining: 580ms\n",
      "408:\tlearn: 0.1481592\ttotal: 401ms\tremaining: 579ms\n",
      "409:\tlearn: 0.1477844\ttotal: 402ms\tremaining: 578ms\n",
      "410:\tlearn: 0.1473633\ttotal: 402ms\tremaining: 577ms\n",
      "411:\tlearn: 0.1470838\ttotal: 403ms\tremaining: 576ms\n",
      "412:\tlearn: 0.1470189\ttotal: 404ms\tremaining: 574ms\n",
      "413:\tlearn: 0.1467611\ttotal: 405ms\tremaining: 573ms\n",
      "414:\tlearn: 0.1465162\ttotal: 406ms\tremaining: 572ms\n",
      "415:\tlearn: 0.1460607\ttotal: 407ms\tremaining: 571ms\n",
      "416:\tlearn: 0.1457917\ttotal: 407ms\tremaining: 569ms\n",
      "417:\tlearn: 0.1455337\ttotal: 408ms\tremaining: 568ms\n",
      "418:\tlearn: 0.1453417\ttotal: 409ms\tremaining: 567ms\n",
      "419:\tlearn: 0.1450642\ttotal: 410ms\tremaining: 566ms\n",
      "420:\tlearn: 0.1447181\ttotal: 411ms\tremaining: 565ms\n",
      "421:\tlearn: 0.1444149\ttotal: 411ms\tremaining: 563ms\n",
      "422:\tlearn: 0.1439572\ttotal: 412ms\tremaining: 562ms\n",
      "423:\tlearn: 0.1438369\ttotal: 413ms\tremaining: 561ms\n",
      "424:\tlearn: 0.1436095\ttotal: 414ms\tremaining: 560ms\n",
      "425:\tlearn: 0.1433980\ttotal: 415ms\tremaining: 559ms\n",
      "426:\tlearn: 0.1432697\ttotal: 415ms\tremaining: 557ms\n",
      "427:\tlearn: 0.1428574\ttotal: 416ms\tremaining: 556ms\n",
      "428:\tlearn: 0.1425975\ttotal: 417ms\tremaining: 555ms\n",
      "429:\tlearn: 0.1421594\ttotal: 418ms\tremaining: 554ms\n",
      "430:\tlearn: 0.1419563\ttotal: 419ms\tremaining: 553ms\n",
      "431:\tlearn: 0.1418148\ttotal: 419ms\tremaining: 551ms\n",
      "432:\tlearn: 0.1415081\ttotal: 420ms\tremaining: 550ms\n",
      "433:\tlearn: 0.1412842\ttotal: 421ms\tremaining: 549ms\n",
      "434:\tlearn: 0.1410634\ttotal: 422ms\tremaining: 548ms\n",
      "435:\tlearn: 0.1406630\ttotal: 423ms\tremaining: 547ms\n",
      "436:\tlearn: 0.1404880\ttotal: 424ms\tremaining: 546ms\n",
      "437:\tlearn: 0.1402391\ttotal: 424ms\tremaining: 544ms\n",
      "438:\tlearn: 0.1398955\ttotal: 425ms\tremaining: 543ms\n",
      "439:\tlearn: 0.1394912\ttotal: 426ms\tremaining: 542ms\n",
      "440:\tlearn: 0.1392408\ttotal: 427ms\tremaining: 541ms\n",
      "441:\tlearn: 0.1388979\ttotal: 427ms\tremaining: 540ms\n",
      "442:\tlearn: 0.1386002\ttotal: 428ms\tremaining: 539ms\n",
      "443:\tlearn: 0.1383258\ttotal: 429ms\tremaining: 538ms\n",
      "444:\tlearn: 0.1380894\ttotal: 430ms\tremaining: 536ms\n",
      "445:\tlearn: 0.1377419\ttotal: 431ms\tremaining: 535ms\n",
      "446:\tlearn: 0.1374420\ttotal: 432ms\tremaining: 534ms\n",
      "447:\tlearn: 0.1372814\ttotal: 433ms\tremaining: 533ms\n",
      "448:\tlearn: 0.1370095\ttotal: 433ms\tremaining: 532ms\n",
      "449:\tlearn: 0.1369431\ttotal: 434ms\tremaining: 531ms\n",
      "450:\tlearn: 0.1366083\ttotal: 435ms\tremaining: 530ms\n",
      "451:\tlearn: 0.1364354\ttotal: 436ms\tremaining: 529ms\n",
      "452:\tlearn: 0.1362967\ttotal: 437ms\tremaining: 528ms\n",
      "453:\tlearn: 0.1360655\ttotal: 438ms\tremaining: 526ms\n",
      "454:\tlearn: 0.1359373\ttotal: 439ms\tremaining: 525ms\n",
      "455:\tlearn: 0.1356523\ttotal: 439ms\tremaining: 524ms\n",
      "456:\tlearn: 0.1354312\ttotal: 440ms\tremaining: 523ms\n",
      "457:\tlearn: 0.1351878\ttotal: 441ms\tremaining: 522ms\n",
      "458:\tlearn: 0.1351350\ttotal: 442ms\tremaining: 521ms\n",
      "459:\tlearn: 0.1347098\ttotal: 443ms\tremaining: 520ms\n",
      "460:\tlearn: 0.1343158\ttotal: 444ms\tremaining: 519ms\n",
      "461:\tlearn: 0.1340551\ttotal: 445ms\tremaining: 518ms\n",
      "462:\tlearn: 0.1338564\ttotal: 446ms\tremaining: 517ms\n",
      "463:\tlearn: 0.1335468\ttotal: 447ms\tremaining: 516ms\n",
      "464:\tlearn: 0.1332404\ttotal: 447ms\tremaining: 515ms\n",
      "465:\tlearn: 0.1329403\ttotal: 448ms\tremaining: 514ms\n",
      "466:\tlearn: 0.1325338\ttotal: 449ms\tremaining: 513ms\n",
      "467:\tlearn: 0.1324996\ttotal: 450ms\tremaining: 511ms\n",
      "468:\tlearn: 0.1324473\ttotal: 450ms\tremaining: 510ms\n",
      "469:\tlearn: 0.1323943\ttotal: 451ms\tremaining: 509ms\n",
      "470:\tlearn: 0.1322285\ttotal: 452ms\tremaining: 508ms\n",
      "471:\tlearn: 0.1321941\ttotal: 453ms\tremaining: 507ms\n",
      "472:\tlearn: 0.1319752\ttotal: 454ms\tremaining: 505ms\n",
      "473:\tlearn: 0.1319081\ttotal: 454ms\tremaining: 504ms\n",
      "474:\tlearn: 0.1316334\ttotal: 455ms\tremaining: 503ms\n",
      "475:\tlearn: 0.1313330\ttotal: 456ms\tremaining: 502ms\n",
      "476:\tlearn: 0.1312668\ttotal: 457ms\tremaining: 501ms\n",
      "477:\tlearn: 0.1309403\ttotal: 457ms\tremaining: 500ms\n",
      "478:\tlearn: 0.1307672\ttotal: 458ms\tremaining: 499ms\n",
      "479:\tlearn: 0.1305215\ttotal: 459ms\tremaining: 497ms\n",
      "480:\tlearn: 0.1303004\ttotal: 460ms\tremaining: 496ms\n",
      "481:\tlearn: 0.1298522\ttotal: 461ms\tremaining: 495ms\n",
      "482:\tlearn: 0.1295420\ttotal: 462ms\tremaining: 494ms\n",
      "483:\tlearn: 0.1292236\ttotal: 463ms\tremaining: 493ms\n",
      "484:\tlearn: 0.1290814\ttotal: 464ms\tremaining: 493ms\n",
      "485:\tlearn: 0.1287480\ttotal: 465ms\tremaining: 492ms\n",
      "486:\tlearn: 0.1284821\ttotal: 466ms\tremaining: 491ms\n",
      "487:\tlearn: 0.1282872\ttotal: 467ms\tremaining: 490ms\n",
      "488:\tlearn: 0.1280881\ttotal: 467ms\tremaining: 488ms\n",
      "489:\tlearn: 0.1277917\ttotal: 468ms\tremaining: 487ms\n",
      "490:\tlearn: 0.1273968\ttotal: 469ms\tremaining: 486ms\n",
      "491:\tlearn: 0.1271069\ttotal: 470ms\tremaining: 485ms\n",
      "492:\tlearn: 0.1268233\ttotal: 471ms\tremaining: 484ms\n",
      "493:\tlearn: 0.1264663\ttotal: 471ms\tremaining: 483ms\n",
      "494:\tlearn: 0.1260925\ttotal: 472ms\tremaining: 482ms\n",
      "495:\tlearn: 0.1259012\ttotal: 473ms\tremaining: 481ms\n",
      "496:\tlearn: 0.1256739\ttotal: 474ms\tremaining: 479ms\n",
      "497:\tlearn: 0.1254813\ttotal: 475ms\tremaining: 478ms\n",
      "498:\tlearn: 0.1254368\ttotal: 475ms\tremaining: 477ms\n",
      "499:\tlearn: 0.1252888\ttotal: 476ms\tremaining: 476ms\n",
      "500:\tlearn: 0.1249655\ttotal: 477ms\tremaining: 475ms\n",
      "501:\tlearn: 0.1247697\ttotal: 478ms\tremaining: 474ms\n",
      "502:\tlearn: 0.1244570\ttotal: 479ms\tremaining: 473ms\n",
      "503:\tlearn: 0.1243219\ttotal: 480ms\tremaining: 472ms\n",
      "504:\tlearn: 0.1240861\ttotal: 480ms\tremaining: 471ms\n",
      "505:\tlearn: 0.1238157\ttotal: 481ms\tremaining: 470ms\n",
      "506:\tlearn: 0.1236025\ttotal: 482ms\tremaining: 469ms\n",
      "507:\tlearn: 0.1234981\ttotal: 483ms\tremaining: 468ms\n",
      "508:\tlearn: 0.1233816\ttotal: 484ms\tremaining: 466ms\n",
      "509:\tlearn: 0.1233393\ttotal: 484ms\tremaining: 465ms\n",
      "510:\tlearn: 0.1231388\ttotal: 485ms\tremaining: 464ms\n",
      "511:\tlearn: 0.1229431\ttotal: 486ms\tremaining: 463ms\n",
      "512:\tlearn: 0.1227837\ttotal: 487ms\tremaining: 462ms\n",
      "513:\tlearn: 0.1227453\ttotal: 487ms\tremaining: 461ms\n",
      "514:\tlearn: 0.1225682\ttotal: 488ms\tremaining: 460ms\n"
     ]
    },
    {
     "name": "stdout",
     "output_type": "stream",
     "text": [
      "515:\tlearn: 0.1221366\ttotal: 489ms\tremaining: 459ms\n",
      "516:\tlearn: 0.1218597\ttotal: 490ms\tremaining: 458ms\n",
      "517:\tlearn: 0.1216983\ttotal: 491ms\tremaining: 457ms\n",
      "518:\tlearn: 0.1214581\ttotal: 492ms\tremaining: 456ms\n",
      "519:\tlearn: 0.1211738\ttotal: 493ms\tremaining: 455ms\n",
      "520:\tlearn: 0.1211321\ttotal: 493ms\tremaining: 454ms\n",
      "521:\tlearn: 0.1209699\ttotal: 494ms\tremaining: 453ms\n",
      "522:\tlearn: 0.1206461\ttotal: 495ms\tremaining: 452ms\n",
      "523:\tlearn: 0.1205386\ttotal: 496ms\tremaining: 451ms\n",
      "524:\tlearn: 0.1203908\ttotal: 497ms\tremaining: 449ms\n",
      "525:\tlearn: 0.1201818\ttotal: 497ms\tremaining: 448ms\n",
      "526:\tlearn: 0.1199621\ttotal: 498ms\tremaining: 447ms\n",
      "527:\tlearn: 0.1196746\ttotal: 499ms\tremaining: 446ms\n",
      "528:\tlearn: 0.1194056\ttotal: 500ms\tremaining: 445ms\n",
      "529:\tlearn: 0.1189980\ttotal: 501ms\tremaining: 444ms\n",
      "530:\tlearn: 0.1187990\ttotal: 502ms\tremaining: 443ms\n",
      "531:\tlearn: 0.1186307\ttotal: 503ms\tremaining: 442ms\n",
      "532:\tlearn: 0.1183508\ttotal: 504ms\tremaining: 441ms\n",
      "533:\tlearn: 0.1181869\ttotal: 504ms\tremaining: 440ms\n",
      "534:\tlearn: 0.1179417\ttotal: 505ms\tremaining: 439ms\n",
      "535:\tlearn: 0.1177791\ttotal: 506ms\tremaining: 438ms\n",
      "536:\tlearn: 0.1176238\ttotal: 507ms\tremaining: 437ms\n",
      "537:\tlearn: 0.1174015\ttotal: 507ms\tremaining: 436ms\n",
      "538:\tlearn: 0.1173498\ttotal: 508ms\tremaining: 435ms\n",
      "539:\tlearn: 0.1169484\ttotal: 509ms\tremaining: 434ms\n",
      "540:\tlearn: 0.1166968\ttotal: 510ms\tremaining: 432ms\n",
      "541:\tlearn: 0.1163639\ttotal: 510ms\tremaining: 431ms\n",
      "542:\tlearn: 0.1162891\ttotal: 511ms\tremaining: 430ms\n",
      "543:\tlearn: 0.1162524\ttotal: 512ms\tremaining: 429ms\n",
      "544:\tlearn: 0.1159723\ttotal: 513ms\tremaining: 428ms\n",
      "545:\tlearn: 0.1157863\ttotal: 514ms\tremaining: 427ms\n",
      "546:\tlearn: 0.1157233\ttotal: 515ms\tremaining: 426ms\n",
      "547:\tlearn: 0.1154016\ttotal: 515ms\tremaining: 425ms\n",
      "548:\tlearn: 0.1150666\ttotal: 516ms\tremaining: 424ms\n",
      "549:\tlearn: 0.1147863\ttotal: 517ms\tremaining: 423ms\n",
      "550:\tlearn: 0.1146799\ttotal: 518ms\tremaining: 422ms\n",
      "551:\tlearn: 0.1144456\ttotal: 518ms\tremaining: 421ms\n",
      "552:\tlearn: 0.1142491\ttotal: 519ms\tremaining: 420ms\n",
      "553:\tlearn: 0.1140402\ttotal: 520ms\tremaining: 419ms\n",
      "554:\tlearn: 0.1140036\ttotal: 521ms\tremaining: 418ms\n",
      "555:\tlearn: 0.1138082\ttotal: 522ms\tremaining: 417ms\n",
      "556:\tlearn: 0.1136531\ttotal: 523ms\tremaining: 416ms\n",
      "557:\tlearn: 0.1135579\ttotal: 524ms\tremaining: 415ms\n",
      "558:\tlearn: 0.1133756\ttotal: 524ms\tremaining: 414ms\n",
      "559:\tlearn: 0.1132147\ttotal: 525ms\tremaining: 413ms\n",
      "560:\tlearn: 0.1131835\ttotal: 526ms\tremaining: 412ms\n",
      "561:\tlearn: 0.1131025\ttotal: 527ms\tremaining: 411ms\n",
      "562:\tlearn: 0.1128595\ttotal: 528ms\tremaining: 410ms\n",
      "563:\tlearn: 0.1127930\ttotal: 528ms\tremaining: 409ms\n",
      "564:\tlearn: 0.1124576\ttotal: 529ms\tremaining: 408ms\n",
      "565:\tlearn: 0.1124271\ttotal: 530ms\tremaining: 407ms\n",
      "566:\tlearn: 0.1123225\ttotal: 531ms\tremaining: 406ms\n",
      "567:\tlearn: 0.1120618\ttotal: 532ms\tremaining: 405ms\n",
      "568:\tlearn: 0.1119500\ttotal: 533ms\tremaining: 404ms\n",
      "569:\tlearn: 0.1118546\ttotal: 534ms\tremaining: 403ms\n",
      "570:\tlearn: 0.1117462\ttotal: 534ms\tremaining: 401ms\n",
      "571:\tlearn: 0.1116988\ttotal: 535ms\tremaining: 400ms\n",
      "572:\tlearn: 0.1116623\ttotal: 536ms\tremaining: 399ms\n",
      "573:\tlearn: 0.1116147\ttotal: 537ms\tremaining: 398ms\n",
      "574:\tlearn: 0.1113601\ttotal: 537ms\tremaining: 397ms\n",
      "575:\tlearn: 0.1110813\ttotal: 538ms\tremaining: 396ms\n",
      "576:\tlearn: 0.1109125\ttotal: 539ms\tremaining: 395ms\n",
      "577:\tlearn: 0.1108773\ttotal: 540ms\tremaining: 394ms\n",
      "578:\tlearn: 0.1106581\ttotal: 541ms\tremaining: 393ms\n",
      "579:\tlearn: 0.1105269\ttotal: 541ms\tremaining: 392ms\n",
      "580:\tlearn: 0.1103283\ttotal: 542ms\tremaining: 391ms\n",
      "581:\tlearn: 0.1101735\ttotal: 543ms\tremaining: 390ms\n",
      "582:\tlearn: 0.1099941\ttotal: 544ms\tremaining: 389ms\n",
      "583:\tlearn: 0.1096298\ttotal: 545ms\tremaining: 388ms\n",
      "584:\tlearn: 0.1095967\ttotal: 546ms\tremaining: 387ms\n",
      "585:\tlearn: 0.1093684\ttotal: 547ms\tremaining: 386ms\n",
      "586:\tlearn: 0.1091818\ttotal: 547ms\tremaining: 385ms\n",
      "587:\tlearn: 0.1091542\ttotal: 548ms\tremaining: 384ms\n",
      "588:\tlearn: 0.1089675\ttotal: 549ms\tremaining: 383ms\n",
      "589:\tlearn: 0.1087070\ttotal: 550ms\tremaining: 382ms\n",
      "590:\tlearn: 0.1085823\ttotal: 551ms\tremaining: 382ms\n",
      "591:\tlearn: 0.1083148\ttotal: 552ms\tremaining: 381ms\n",
      "592:\tlearn: 0.1082530\ttotal: 553ms\tremaining: 380ms\n",
      "593:\tlearn: 0.1081906\ttotal: 554ms\tremaining: 378ms\n",
      "594:\tlearn: 0.1081559\ttotal: 555ms\tremaining: 377ms\n",
      "595:\tlearn: 0.1079070\ttotal: 555ms\tremaining: 376ms\n",
      "596:\tlearn: 0.1077281\ttotal: 556ms\tremaining: 375ms\n",
      "597:\tlearn: 0.1075520\ttotal: 557ms\tremaining: 374ms\n",
      "598:\tlearn: 0.1074173\ttotal: 558ms\tremaining: 373ms\n",
      "599:\tlearn: 0.1072755\ttotal: 559ms\tremaining: 372ms\n",
      "600:\tlearn: 0.1070532\ttotal: 559ms\tremaining: 371ms\n",
      "601:\tlearn: 0.1068436\ttotal: 561ms\tremaining: 371ms\n",
      "602:\tlearn: 0.1068190\ttotal: 562ms\tremaining: 370ms\n",
      "603:\tlearn: 0.1067031\ttotal: 562ms\tremaining: 369ms\n",
      "604:\tlearn: 0.1065715\ttotal: 563ms\tremaining: 368ms\n",
      "605:\tlearn: 0.1065410\ttotal: 564ms\tremaining: 367ms\n",
      "606:\tlearn: 0.1063232\ttotal: 565ms\tremaining: 366ms\n",
      "607:\tlearn: 0.1061555\ttotal: 566ms\tremaining: 365ms\n",
      "608:\tlearn: 0.1061307\ttotal: 566ms\tremaining: 364ms\n",
      "609:\tlearn: 0.1059728\ttotal: 567ms\tremaining: 363ms\n",
      "610:\tlearn: 0.1058140\ttotal: 568ms\tremaining: 362ms\n",
      "611:\tlearn: 0.1055920\ttotal: 569ms\tremaining: 361ms\n",
      "612:\tlearn: 0.1053295\ttotal: 570ms\tremaining: 360ms\n",
      "613:\tlearn: 0.1051627\ttotal: 570ms\tremaining: 358ms\n"
     ]
    },
    {
     "name": "stdout",
     "output_type": "stream",
     "text": [
      "614:\tlearn: 0.1049577\ttotal: 571ms\tremaining: 358ms\n",
      "615:\tlearn: 0.1047457\ttotal: 572ms\tremaining: 357ms\n",
      "616:\tlearn: 0.1046388\ttotal: 573ms\tremaining: 356ms\n",
      "617:\tlearn: 0.1043505\ttotal: 574ms\tremaining: 355ms\n",
      "618:\tlearn: 0.1040932\ttotal: 574ms\tremaining: 354ms\n",
      "619:\tlearn: 0.1039337\ttotal: 575ms\tremaining: 353ms\n",
      "620:\tlearn: 0.1038436\ttotal: 576ms\tremaining: 352ms\n",
      "621:\tlearn: 0.1036366\ttotal: 577ms\tremaining: 351ms\n",
      "622:\tlearn: 0.1034608\ttotal: 578ms\tremaining: 350ms\n",
      "623:\tlearn: 0.1032936\ttotal: 578ms\tremaining: 349ms\n",
      "624:\tlearn: 0.1031000\ttotal: 579ms\tremaining: 348ms\n",
      "625:\tlearn: 0.1029424\ttotal: 580ms\tremaining: 347ms\n",
      "626:\tlearn: 0.1027948\ttotal: 581ms\tremaining: 346ms\n",
      "627:\tlearn: 0.1026823\ttotal: 582ms\tremaining: 345ms\n",
      "628:\tlearn: 0.1024335\ttotal: 583ms\tremaining: 344ms\n",
      "629:\tlearn: 0.1022621\ttotal: 583ms\tremaining: 343ms\n",
      "630:\tlearn: 0.1022012\ttotal: 584ms\tremaining: 342ms\n",
      "631:\tlearn: 0.1019829\ttotal: 585ms\tremaining: 341ms\n",
      "632:\tlearn: 0.1017859\ttotal: 586ms\tremaining: 340ms\n",
      "633:\tlearn: 0.1015450\ttotal: 587ms\tremaining: 339ms\n",
      "634:\tlearn: 0.1012462\ttotal: 587ms\tremaining: 338ms\n",
      "635:\tlearn: 0.1010500\ttotal: 588ms\tremaining: 337ms\n",
      "636:\tlearn: 0.1008364\ttotal: 589ms\tremaining: 336ms\n",
      "637:\tlearn: 0.1006517\ttotal: 590ms\tremaining: 335ms\n",
      "638:\tlearn: 0.1005667\ttotal: 591ms\tremaining: 334ms\n",
      "639:\tlearn: 0.1004905\ttotal: 592ms\tremaining: 333ms\n",
      "640:\tlearn: 0.1004189\ttotal: 592ms\tremaining: 332ms\n",
      "641:\tlearn: 0.1002844\ttotal: 593ms\tremaining: 331ms\n",
      "642:\tlearn: 0.0999553\ttotal: 594ms\tremaining: 330ms\n",
      "643:\tlearn: 0.0998419\ttotal: 595ms\tremaining: 329ms\n",
      "644:\tlearn: 0.0997047\ttotal: 596ms\tremaining: 328ms\n",
      "645:\tlearn: 0.0996772\ttotal: 596ms\tremaining: 327ms\n",
      "646:\tlearn: 0.0996028\ttotal: 597ms\tremaining: 326ms\n",
      "647:\tlearn: 0.0993895\ttotal: 598ms\tremaining: 325ms\n",
      "648:\tlearn: 0.0993481\ttotal: 599ms\tremaining: 324ms\n",
      "649:\tlearn: 0.0991635\ttotal: 600ms\tremaining: 323ms\n",
      "650:\tlearn: 0.0989606\ttotal: 601ms\tremaining: 322ms\n",
      "651:\tlearn: 0.0986930\ttotal: 601ms\tremaining: 321ms\n",
      "652:\tlearn: 0.0984518\ttotal: 602ms\tremaining: 320ms\n",
      "653:\tlearn: 0.0983032\ttotal: 603ms\tremaining: 319ms\n",
      "654:\tlearn: 0.0980740\ttotal: 604ms\tremaining: 318ms\n",
      "655:\tlearn: 0.0980004\ttotal: 605ms\tremaining: 317ms\n",
      "656:\tlearn: 0.0977247\ttotal: 606ms\tremaining: 316ms\n",
      "657:\tlearn: 0.0975665\ttotal: 607ms\tremaining: 315ms\n",
      "658:\tlearn: 0.0974371\ttotal: 607ms\tremaining: 314ms\n",
      "659:\tlearn: 0.0973028\ttotal: 608ms\tremaining: 313ms\n",
      "660:\tlearn: 0.0971144\ttotal: 609ms\tremaining: 312ms\n",
      "661:\tlearn: 0.0969667\ttotal: 610ms\tremaining: 311ms\n",
      "662:\tlearn: 0.0968318\ttotal: 611ms\tremaining: 310ms\n",
      "663:\tlearn: 0.0967648\ttotal: 611ms\tremaining: 309ms\n",
      "664:\tlearn: 0.0966234\ttotal: 612ms\tremaining: 308ms\n",
      "665:\tlearn: 0.0965625\ttotal: 613ms\tremaining: 307ms\n",
      "666:\tlearn: 0.0963609\ttotal: 614ms\tremaining: 307ms\n",
      "667:\tlearn: 0.0961513\ttotal: 615ms\tremaining: 306ms\n",
      "668:\tlearn: 0.0960970\ttotal: 616ms\tremaining: 305ms\n",
      "669:\tlearn: 0.0959439\ttotal: 617ms\tremaining: 304ms\n",
      "670:\tlearn: 0.0957607\ttotal: 617ms\tremaining: 303ms\n",
      "671:\tlearn: 0.0956975\ttotal: 618ms\tremaining: 302ms\n",
      "672:\tlearn: 0.0955747\ttotal: 619ms\tremaining: 301ms\n",
      "673:\tlearn: 0.0954019\ttotal: 620ms\tremaining: 300ms\n",
      "674:\tlearn: 0.0952021\ttotal: 621ms\tremaining: 299ms\n",
      "675:\tlearn: 0.0950845\ttotal: 621ms\tremaining: 298ms\n",
      "676:\tlearn: 0.0949042\ttotal: 622ms\tremaining: 297ms\n",
      "677:\tlearn: 0.0948252\ttotal: 623ms\tremaining: 296ms\n",
      "678:\tlearn: 0.0946924\ttotal: 624ms\tremaining: 295ms\n",
      "679:\tlearn: 0.0944232\ttotal: 625ms\tremaining: 294ms\n",
      "680:\tlearn: 0.0942815\ttotal: 625ms\tremaining: 293ms\n",
      "681:\tlearn: 0.0940955\ttotal: 626ms\tremaining: 292ms\n",
      "682:\tlearn: 0.0940596\ttotal: 627ms\tremaining: 291ms\n",
      "683:\tlearn: 0.0939683\ttotal: 628ms\tremaining: 290ms\n",
      "684:\tlearn: 0.0938211\ttotal: 628ms\tremaining: 289ms\n",
      "685:\tlearn: 0.0937088\ttotal: 630ms\tremaining: 288ms\n",
      "686:\tlearn: 0.0936002\ttotal: 631ms\tremaining: 287ms\n",
      "687:\tlearn: 0.0934047\ttotal: 631ms\tremaining: 286ms\n",
      "688:\tlearn: 0.0931941\ttotal: 632ms\tremaining: 285ms\n",
      "689:\tlearn: 0.0930567\ttotal: 633ms\tremaining: 284ms\n",
      "690:\tlearn: 0.0928753\ttotal: 634ms\tremaining: 283ms\n",
      "691:\tlearn: 0.0928498\ttotal: 635ms\tremaining: 282ms\n",
      "692:\tlearn: 0.0927454\ttotal: 635ms\tremaining: 281ms\n",
      "693:\tlearn: 0.0926240\ttotal: 636ms\tremaining: 281ms\n",
      "694:\tlearn: 0.0925409\ttotal: 637ms\tremaining: 280ms\n",
      "695:\tlearn: 0.0923487\ttotal: 638ms\tremaining: 279ms\n",
      "696:\tlearn: 0.0921961\ttotal: 639ms\tremaining: 278ms\n",
      "697:\tlearn: 0.0920777\ttotal: 640ms\tremaining: 277ms\n",
      "698:\tlearn: 0.0919126\ttotal: 640ms\tremaining: 276ms\n",
      "699:\tlearn: 0.0916642\ttotal: 641ms\tremaining: 275ms\n",
      "700:\tlearn: 0.0915568\ttotal: 642ms\tremaining: 274ms\n",
      "701:\tlearn: 0.0913573\ttotal: 643ms\tremaining: 273ms\n",
      "702:\tlearn: 0.0911400\ttotal: 644ms\tremaining: 272ms\n",
      "703:\tlearn: 0.0909609\ttotal: 644ms\tremaining: 271ms\n",
      "704:\tlearn: 0.0907667\ttotal: 645ms\tremaining: 270ms\n",
      "705:\tlearn: 0.0906152\ttotal: 646ms\tremaining: 269ms\n",
      "706:\tlearn: 0.0904825\ttotal: 647ms\tremaining: 268ms\n",
      "707:\tlearn: 0.0902934\ttotal: 648ms\tremaining: 267ms\n",
      "708:\tlearn: 0.0901402\ttotal: 649ms\tremaining: 266ms\n",
      "709:\tlearn: 0.0900312\ttotal: 650ms\tremaining: 265ms\n",
      "710:\tlearn: 0.0899940\ttotal: 650ms\tremaining: 264ms\n",
      "711:\tlearn: 0.0898613\ttotal: 651ms\tremaining: 263ms\n",
      "712:\tlearn: 0.0896466\ttotal: 652ms\tremaining: 262ms\n",
      "713:\tlearn: 0.0895520\ttotal: 653ms\tremaining: 262ms\n",
      "714:\tlearn: 0.0893818\ttotal: 654ms\tremaining: 261ms\n",
      "715:\tlearn: 0.0892381\ttotal: 655ms\tremaining: 260ms\n",
      "716:\tlearn: 0.0890674\ttotal: 655ms\tremaining: 259ms\n",
      "717:\tlearn: 0.0890021\ttotal: 656ms\tremaining: 258ms\n",
      "718:\tlearn: 0.0889075\ttotal: 657ms\tremaining: 257ms\n",
      "719:\tlearn: 0.0887372\ttotal: 658ms\tremaining: 256ms\n",
      "720:\tlearn: 0.0886263\ttotal: 659ms\tremaining: 255ms\n",
      "721:\tlearn: 0.0884380\ttotal: 660ms\tremaining: 254ms\n",
      "722:\tlearn: 0.0883462\ttotal: 660ms\tremaining: 253ms\n",
      "723:\tlearn: 0.0882219\ttotal: 661ms\tremaining: 252ms\n",
      "724:\tlearn: 0.0881867\ttotal: 662ms\tremaining: 251ms\n",
      "725:\tlearn: 0.0880946\ttotal: 663ms\tremaining: 250ms\n",
      "726:\tlearn: 0.0880439\ttotal: 664ms\tremaining: 249ms\n",
      "727:\tlearn: 0.0879318\ttotal: 664ms\tremaining: 248ms\n",
      "728:\tlearn: 0.0878529\ttotal: 665ms\tremaining: 247ms\n",
      "729:\tlearn: 0.0877386\ttotal: 666ms\tremaining: 246ms\n",
      "730:\tlearn: 0.0876041\ttotal: 667ms\tremaining: 245ms\n",
      "731:\tlearn: 0.0874199\ttotal: 668ms\tremaining: 245ms\n",
      "732:\tlearn: 0.0873544\ttotal: 669ms\tremaining: 244ms\n",
      "733:\tlearn: 0.0871337\ttotal: 670ms\tremaining: 243ms\n",
      "734:\tlearn: 0.0870402\ttotal: 671ms\tremaining: 242ms\n",
      "735:\tlearn: 0.0870088\ttotal: 671ms\tremaining: 241ms\n",
      "736:\tlearn: 0.0868236\ttotal: 672ms\tremaining: 240ms\n",
      "737:\tlearn: 0.0867258\ttotal: 673ms\tremaining: 239ms\n",
      "738:\tlearn: 0.0866192\ttotal: 674ms\tremaining: 238ms\n",
      "739:\tlearn: 0.0865006\ttotal: 675ms\tremaining: 237ms\n",
      "740:\tlearn: 0.0863176\ttotal: 675ms\tremaining: 236ms\n",
      "741:\tlearn: 0.0862607\ttotal: 676ms\tremaining: 235ms\n",
      "742:\tlearn: 0.0861038\ttotal: 677ms\tremaining: 234ms\n",
      "743:\tlearn: 0.0860369\ttotal: 678ms\tremaining: 233ms\n",
      "744:\tlearn: 0.0858714\ttotal: 679ms\tremaining: 232ms\n"
     ]
    },
    {
     "name": "stdout",
     "output_type": "stream",
     "text": [
      "745:\tlearn: 0.0857979\ttotal: 680ms\tremaining: 231ms\n",
      "746:\tlearn: 0.0857566\ttotal: 681ms\tremaining: 231ms\n",
      "747:\tlearn: 0.0856713\ttotal: 682ms\tremaining: 230ms\n",
      "748:\tlearn: 0.0855639\ttotal: 682ms\tremaining: 229ms\n",
      "749:\tlearn: 0.0853489\ttotal: 683ms\tremaining: 228ms\n",
      "750:\tlearn: 0.0852142\ttotal: 684ms\tremaining: 227ms\n",
      "751:\tlearn: 0.0851685\ttotal: 685ms\tremaining: 226ms\n",
      "752:\tlearn: 0.0851337\ttotal: 686ms\tremaining: 225ms\n",
      "753:\tlearn: 0.0850999\ttotal: 687ms\tremaining: 224ms\n",
      "754:\tlearn: 0.0849560\ttotal: 687ms\tremaining: 223ms\n",
      "755:\tlearn: 0.0848433\ttotal: 688ms\tremaining: 222ms\n",
      "756:\tlearn: 0.0846829\ttotal: 689ms\tremaining: 221ms\n",
      "757:\tlearn: 0.0846239\ttotal: 690ms\tremaining: 220ms\n",
      "758:\tlearn: 0.0845313\ttotal: 690ms\tremaining: 219ms\n",
      "759:\tlearn: 0.0844822\ttotal: 691ms\tremaining: 218ms\n",
      "760:\tlearn: 0.0843706\ttotal: 692ms\tremaining: 217ms\n",
      "761:\tlearn: 0.0842573\ttotal: 693ms\tremaining: 216ms\n",
      "762:\tlearn: 0.0840919\ttotal: 694ms\tremaining: 216ms\n",
      "763:\tlearn: 0.0838501\ttotal: 695ms\tremaining: 215ms\n",
      "764:\tlearn: 0.0838102\ttotal: 695ms\tremaining: 214ms\n",
      "765:\tlearn: 0.0836078\ttotal: 696ms\tremaining: 213ms\n",
      "766:\tlearn: 0.0835778\ttotal: 697ms\tremaining: 212ms\n",
      "767:\tlearn: 0.0834877\ttotal: 698ms\tremaining: 211ms\n",
      "768:\tlearn: 0.0833439\ttotal: 699ms\tremaining: 210ms\n",
      "769:\tlearn: 0.0832069\ttotal: 700ms\tremaining: 209ms\n",
      "770:\tlearn: 0.0831923\ttotal: 700ms\tremaining: 208ms\n",
      "771:\tlearn: 0.0829989\ttotal: 701ms\tremaining: 207ms\n",
      "772:\tlearn: 0.0829551\ttotal: 702ms\tremaining: 206ms\n",
      "773:\tlearn: 0.0828463\ttotal: 703ms\tremaining: 205ms\n",
      "774:\tlearn: 0.0826852\ttotal: 704ms\tremaining: 204ms\n",
      "775:\tlearn: 0.0825306\ttotal: 705ms\tremaining: 203ms\n",
      "776:\tlearn: 0.0824027\ttotal: 705ms\tremaining: 202ms\n",
      "777:\tlearn: 0.0823541\ttotal: 706ms\tremaining: 202ms\n",
      "778:\tlearn: 0.0822336\ttotal: 707ms\tremaining: 201ms\n",
      "779:\tlearn: 0.0821606\ttotal: 708ms\tremaining: 200ms\n",
      "780:\tlearn: 0.0820406\ttotal: 709ms\tremaining: 199ms\n",
      "781:\tlearn: 0.0819350\ttotal: 710ms\tremaining: 198ms\n",
      "782:\tlearn: 0.0818435\ttotal: 710ms\tremaining: 197ms\n",
      "783:\tlearn: 0.0817089\ttotal: 711ms\tremaining: 196ms\n",
      "784:\tlearn: 0.0816565\ttotal: 712ms\tremaining: 195ms\n",
      "785:\tlearn: 0.0814335\ttotal: 713ms\tremaining: 194ms\n",
      "786:\tlearn: 0.0812755\ttotal: 714ms\tremaining: 193ms\n",
      "787:\tlearn: 0.0812559\ttotal: 714ms\tremaining: 192ms\n",
      "788:\tlearn: 0.0811930\ttotal: 715ms\tremaining: 191ms\n",
      "789:\tlearn: 0.0810475\ttotal: 716ms\tremaining: 190ms\n",
      "790:\tlearn: 0.0808645\ttotal: 717ms\tremaining: 189ms\n",
      "791:\tlearn: 0.0807513\ttotal: 718ms\tremaining: 189ms\n",
      "792:\tlearn: 0.0806522\ttotal: 719ms\tremaining: 188ms\n",
      "793:\tlearn: 0.0806148\ttotal: 720ms\tremaining: 187ms\n",
      "794:\tlearn: 0.0805980\ttotal: 720ms\tremaining: 186ms\n",
      "795:\tlearn: 0.0804331\ttotal: 721ms\tremaining: 185ms\n",
      "796:\tlearn: 0.0802908\ttotal: 723ms\tremaining: 184ms\n",
      "797:\tlearn: 0.0802696\ttotal: 723ms\tremaining: 183ms\n",
      "798:\tlearn: 0.0801793\ttotal: 724ms\tremaining: 182ms\n",
      "799:\tlearn: 0.0800088\ttotal: 725ms\tremaining: 181ms\n",
      "800:\tlearn: 0.0799149\ttotal: 726ms\tremaining: 180ms\n",
      "801:\tlearn: 0.0797703\ttotal: 727ms\tremaining: 179ms\n",
      "802:\tlearn: 0.0796462\ttotal: 728ms\tremaining: 179ms\n",
      "803:\tlearn: 0.0795833\ttotal: 729ms\tremaining: 178ms\n",
      "804:\tlearn: 0.0794769\ttotal: 729ms\tremaining: 177ms\n",
      "805:\tlearn: 0.0794356\ttotal: 730ms\tremaining: 176ms\n",
      "806:\tlearn: 0.0792228\ttotal: 731ms\tremaining: 175ms\n",
      "807:\tlearn: 0.0791743\ttotal: 732ms\tremaining: 174ms\n",
      "808:\tlearn: 0.0790210\ttotal: 733ms\tremaining: 173ms\n",
      "809:\tlearn: 0.0789487\ttotal: 733ms\tremaining: 172ms\n",
      "810:\tlearn: 0.0788644\ttotal: 734ms\tremaining: 171ms\n",
      "811:\tlearn: 0.0788249\ttotal: 735ms\tremaining: 170ms\n",
      "812:\tlearn: 0.0787266\ttotal: 736ms\tremaining: 169ms\n",
      "813:\tlearn: 0.0786396\ttotal: 737ms\tremaining: 168ms\n",
      "814:\tlearn: 0.0785151\ttotal: 738ms\tremaining: 167ms\n",
      "815:\tlearn: 0.0784773\ttotal: 738ms\tremaining: 166ms\n",
      "816:\tlearn: 0.0784394\ttotal: 739ms\tremaining: 166ms\n",
      "817:\tlearn: 0.0783982\ttotal: 740ms\tremaining: 165ms\n",
      "818:\tlearn: 0.0782238\ttotal: 741ms\tremaining: 164ms\n",
      "819:\tlearn: 0.0780884\ttotal: 742ms\tremaining: 163ms\n",
      "820:\tlearn: 0.0780186\ttotal: 743ms\tremaining: 162ms\n",
      "821:\tlearn: 0.0779400\ttotal: 743ms\tremaining: 161ms\n",
      "822:\tlearn: 0.0778386\ttotal: 744ms\tremaining: 160ms\n",
      "823:\tlearn: 0.0778215\ttotal: 745ms\tremaining: 159ms\n",
      "824:\tlearn: 0.0776365\ttotal: 746ms\tremaining: 158ms\n",
      "825:\tlearn: 0.0774583\ttotal: 747ms\tremaining: 157ms\n",
      "826:\tlearn: 0.0774175\ttotal: 747ms\tremaining: 156ms\n",
      "827:\tlearn: 0.0771778\ttotal: 748ms\tremaining: 155ms\n",
      "828:\tlearn: 0.0770322\ttotal: 749ms\tremaining: 154ms\n",
      "829:\tlearn: 0.0769230\ttotal: 750ms\tremaining: 154ms\n",
      "830:\tlearn: 0.0768260\ttotal: 750ms\tremaining: 153ms\n",
      "831:\tlearn: 0.0766763\ttotal: 751ms\tremaining: 152ms\n",
      "832:\tlearn: 0.0765374\ttotal: 752ms\tremaining: 151ms\n",
      "833:\tlearn: 0.0764890\ttotal: 753ms\tremaining: 150ms\n",
      "834:\tlearn: 0.0763311\ttotal: 754ms\tremaining: 149ms\n",
      "835:\tlearn: 0.0761844\ttotal: 754ms\tremaining: 148ms\n",
      "836:\tlearn: 0.0760576\ttotal: 755ms\tremaining: 147ms\n",
      "837:\tlearn: 0.0759929\ttotal: 756ms\tremaining: 146ms\n",
      "838:\tlearn: 0.0759404\ttotal: 757ms\tremaining: 145ms\n",
      "839:\tlearn: 0.0758287\ttotal: 758ms\tremaining: 144ms\n",
      "840:\tlearn: 0.0757277\ttotal: 758ms\tremaining: 143ms\n",
      "841:\tlearn: 0.0756832\ttotal: 759ms\tremaining: 142ms\n",
      "842:\tlearn: 0.0755475\ttotal: 760ms\tremaining: 142ms\n",
      "843:\tlearn: 0.0754417\ttotal: 761ms\tremaining: 141ms\n"
     ]
    },
    {
     "name": "stdout",
     "output_type": "stream",
     "text": [
      "844:\tlearn: 0.0753947\ttotal: 762ms\tremaining: 140ms\n",
      "845:\tlearn: 0.0753073\ttotal: 763ms\tremaining: 139ms\n",
      "846:\tlearn: 0.0751575\ttotal: 764ms\tremaining: 138ms\n",
      "847:\tlearn: 0.0750500\ttotal: 764ms\tremaining: 137ms\n",
      "848:\tlearn: 0.0748682\ttotal: 765ms\tremaining: 136ms\n",
      "849:\tlearn: 0.0748207\ttotal: 766ms\tremaining: 135ms\n",
      "850:\tlearn: 0.0747142\ttotal: 767ms\tremaining: 134ms\n",
      "851:\tlearn: 0.0746233\ttotal: 768ms\tremaining: 133ms\n",
      "852:\tlearn: 0.0745237\ttotal: 768ms\tremaining: 132ms\n",
      "853:\tlearn: 0.0744848\ttotal: 769ms\tremaining: 132ms\n",
      "854:\tlearn: 0.0743547\ttotal: 770ms\tremaining: 131ms\n",
      "855:\tlearn: 0.0743138\ttotal: 771ms\tremaining: 130ms\n",
      "856:\tlearn: 0.0741535\ttotal: 772ms\tremaining: 129ms\n",
      "857:\tlearn: 0.0740948\ttotal: 772ms\tremaining: 128ms\n",
      "858:\tlearn: 0.0740487\ttotal: 773ms\tremaining: 127ms\n",
      "859:\tlearn: 0.0739147\ttotal: 774ms\tremaining: 126ms\n",
      "860:\tlearn: 0.0738588\ttotal: 775ms\tremaining: 125ms\n",
      "861:\tlearn: 0.0737512\ttotal: 775ms\tremaining: 124ms\n",
      "862:\tlearn: 0.0737188\ttotal: 777ms\tremaining: 123ms\n",
      "863:\tlearn: 0.0736841\ttotal: 777ms\tremaining: 122ms\n",
      "864:\tlearn: 0.0736438\ttotal: 778ms\tremaining: 121ms\n",
      "865:\tlearn: 0.0735760\ttotal: 779ms\tremaining: 121ms\n",
      "866:\tlearn: 0.0734846\ttotal: 780ms\tremaining: 120ms\n",
      "867:\tlearn: 0.0733890\ttotal: 781ms\tremaining: 119ms\n",
      "868:\tlearn: 0.0733396\ttotal: 782ms\tremaining: 118ms\n",
      "869:\tlearn: 0.0732231\ttotal: 782ms\tremaining: 117ms\n",
      "870:\tlearn: 0.0731240\ttotal: 783ms\tremaining: 116ms\n",
      "871:\tlearn: 0.0730489\ttotal: 784ms\tremaining: 115ms\n",
      "872:\tlearn: 0.0728953\ttotal: 785ms\tremaining: 114ms\n",
      "873:\tlearn: 0.0727782\ttotal: 785ms\tremaining: 113ms\n",
      "874:\tlearn: 0.0727245\ttotal: 786ms\tremaining: 112ms\n",
      "875:\tlearn: 0.0725909\ttotal: 787ms\tremaining: 111ms\n",
      "876:\tlearn: 0.0725115\ttotal: 788ms\tremaining: 110ms\n",
      "877:\tlearn: 0.0724590\ttotal: 788ms\tremaining: 110ms\n",
      "878:\tlearn: 0.0723696\ttotal: 789ms\tremaining: 109ms\n",
      "879:\tlearn: 0.0722604\ttotal: 790ms\tremaining: 108ms\n",
      "880:\tlearn: 0.0721943\ttotal: 791ms\tremaining: 107ms\n",
      "881:\tlearn: 0.0720772\ttotal: 792ms\tremaining: 106ms\n",
      "882:\tlearn: 0.0719595\ttotal: 793ms\tremaining: 105ms\n",
      "883:\tlearn: 0.0718592\ttotal: 793ms\tremaining: 104ms\n",
      "884:\tlearn: 0.0717899\ttotal: 794ms\tremaining: 103ms\n",
      "885:\tlearn: 0.0716934\ttotal: 795ms\tremaining: 102ms\n",
      "886:\tlearn: 0.0715643\ttotal: 796ms\tremaining: 101ms\n",
      "887:\tlearn: 0.0714637\ttotal: 797ms\tremaining: 101ms\n",
      "888:\tlearn: 0.0713838\ttotal: 798ms\tremaining: 99.6ms\n",
      "889:\tlearn: 0.0713493\ttotal: 799ms\tremaining: 98.8ms\n",
      "890:\tlearn: 0.0711982\ttotal: 800ms\tremaining: 97.9ms\n",
      "891:\tlearn: 0.0711440\ttotal: 801ms\tremaining: 97ms\n",
      "892:\tlearn: 0.0709482\ttotal: 802ms\tremaining: 96.1ms\n",
      "893:\tlearn: 0.0708923\ttotal: 803ms\tremaining: 95.2ms\n",
      "894:\tlearn: 0.0708507\ttotal: 804ms\tremaining: 94.3ms\n",
      "895:\tlearn: 0.0707322\ttotal: 805ms\tremaining: 93.4ms\n",
      "896:\tlearn: 0.0706986\ttotal: 806ms\tremaining: 92.5ms\n",
      "897:\tlearn: 0.0706666\ttotal: 807ms\tremaining: 91.6ms\n",
      "898:\tlearn: 0.0705452\ttotal: 808ms\tremaining: 90.7ms\n",
      "899:\tlearn: 0.0704867\ttotal: 808ms\tremaining: 89.8ms\n",
      "900:\tlearn: 0.0704497\ttotal: 809ms\tremaining: 88.9ms\n",
      "901:\tlearn: 0.0703496\ttotal: 810ms\tremaining: 88ms\n",
      "902:\tlearn: 0.0703071\ttotal: 811ms\tremaining: 87.1ms\n",
      "903:\tlearn: 0.0702404\ttotal: 812ms\tremaining: 86.2ms\n",
      "904:\tlearn: 0.0702163\ttotal: 813ms\tremaining: 85.3ms\n",
      "905:\tlearn: 0.0701259\ttotal: 814ms\tremaining: 84.4ms\n",
      "906:\tlearn: 0.0700217\ttotal: 815ms\tremaining: 83.5ms\n",
      "907:\tlearn: 0.0699063\ttotal: 815ms\tremaining: 82.6ms\n",
      "908:\tlearn: 0.0698558\ttotal: 816ms\tremaining: 81.7ms\n",
      "909:\tlearn: 0.0697826\ttotal: 817ms\tremaining: 80.8ms\n",
      "910:\tlearn: 0.0697309\ttotal: 818ms\tremaining: 79.9ms\n",
      "911:\tlearn: 0.0696203\ttotal: 818ms\tremaining: 79ms\n",
      "912:\tlearn: 0.0695352\ttotal: 819ms\tremaining: 78.1ms\n",
      "913:\tlearn: 0.0694107\ttotal: 820ms\tremaining: 77.2ms\n",
      "914:\tlearn: 0.0693270\ttotal: 821ms\tremaining: 76.3ms\n",
      "915:\tlearn: 0.0692774\ttotal: 822ms\tremaining: 75.4ms\n",
      "916:\tlearn: 0.0692366\ttotal: 823ms\tremaining: 74.5ms\n",
      "917:\tlearn: 0.0692172\ttotal: 823ms\tremaining: 73.6ms\n",
      "918:\tlearn: 0.0691381\ttotal: 824ms\tremaining: 72.7ms\n",
      "919:\tlearn: 0.0689638\ttotal: 825ms\tremaining: 71.7ms\n",
      "920:\tlearn: 0.0688016\ttotal: 826ms\tremaining: 70.8ms\n",
      "921:\tlearn: 0.0687605\ttotal: 827ms\tremaining: 70ms\n",
      "922:\tlearn: 0.0686959\ttotal: 828ms\tremaining: 69.1ms\n",
      "923:\tlearn: 0.0685861\ttotal: 829ms\tremaining: 68.2ms\n",
      "924:\tlearn: 0.0685478\ttotal: 829ms\tremaining: 67.3ms\n",
      "925:\tlearn: 0.0684417\ttotal: 830ms\tremaining: 66.4ms\n",
      "926:\tlearn: 0.0683511\ttotal: 831ms\tremaining: 65.4ms\n",
      "927:\tlearn: 0.0683035\ttotal: 832ms\tremaining: 64.5ms\n",
      "928:\tlearn: 0.0682275\ttotal: 833ms\tremaining: 63.6ms\n",
      "929:\tlearn: 0.0681106\ttotal: 833ms\tremaining: 62.7ms\n",
      "930:\tlearn: 0.0680151\ttotal: 834ms\tremaining: 61.8ms\n",
      "931:\tlearn: 0.0679676\ttotal: 835ms\tremaining: 60.9ms\n",
      "932:\tlearn: 0.0678492\ttotal: 836ms\tremaining: 60ms\n",
      "933:\tlearn: 0.0678126\ttotal: 837ms\tremaining: 59.1ms\n",
      "934:\tlearn: 0.0677208\ttotal: 837ms\tremaining: 58.2ms\n",
      "935:\tlearn: 0.0675834\ttotal: 838ms\tremaining: 57.3ms\n",
      "936:\tlearn: 0.0674386\ttotal: 839ms\tremaining: 56.4ms\n",
      "937:\tlearn: 0.0672797\ttotal: 840ms\tremaining: 55.5ms\n",
      "938:\tlearn: 0.0671553\ttotal: 840ms\tremaining: 54.6ms\n",
      "939:\tlearn: 0.0671102\ttotal: 842ms\tremaining: 53.7ms\n",
      "940:\tlearn: 0.0670449\ttotal: 843ms\tremaining: 52.8ms\n",
      "941:\tlearn: 0.0670089\ttotal: 844ms\tremaining: 51.9ms\n",
      "942:\tlearn: 0.0668888\ttotal: 844ms\tremaining: 51ms\n",
      "943:\tlearn: 0.0668127\ttotal: 845ms\tremaining: 50.1ms\n",
      "944:\tlearn: 0.0667368\ttotal: 846ms\tremaining: 49.2ms\n",
      "945:\tlearn: 0.0666450\ttotal: 847ms\tremaining: 48.3ms\n",
      "946:\tlearn: 0.0664620\ttotal: 848ms\tremaining: 47.4ms\n",
      "947:\tlearn: 0.0663400\ttotal: 849ms\tremaining: 46.5ms\n",
      "948:\tlearn: 0.0662873\ttotal: 849ms\tremaining: 45.6ms\n",
      "949:\tlearn: 0.0661711\ttotal: 850ms\tremaining: 44.8ms\n",
      "950:\tlearn: 0.0661222\ttotal: 851ms\tremaining: 43.9ms\n",
      "951:\tlearn: 0.0660922\ttotal: 852ms\tremaining: 43ms\n",
      "952:\tlearn: 0.0660456\ttotal: 853ms\tremaining: 42.1ms\n",
      "953:\tlearn: 0.0659338\ttotal: 853ms\tremaining: 41.1ms\n",
      "954:\tlearn: 0.0658613\ttotal: 854ms\tremaining: 40.2ms\n",
      "955:\tlearn: 0.0658085\ttotal: 855ms\tremaining: 39.4ms\n",
      "956:\tlearn: 0.0657611\ttotal: 856ms\tremaining: 38.4ms\n",
      "957:\tlearn: 0.0657384\ttotal: 857ms\tremaining: 37.5ms\n",
      "958:\tlearn: 0.0655524\ttotal: 857ms\tremaining: 36.7ms\n",
      "959:\tlearn: 0.0654367\ttotal: 858ms\tremaining: 35.8ms\n",
      "960:\tlearn: 0.0653012\ttotal: 859ms\tremaining: 34.9ms\n",
      "961:\tlearn: 0.0652462\ttotal: 860ms\tremaining: 34ms\n",
      "962:\tlearn: 0.0651858\ttotal: 861ms\tremaining: 33.1ms\n",
      "963:\tlearn: 0.0650150\ttotal: 862ms\tremaining: 32.2ms\n",
      "964:\tlearn: 0.0649663\ttotal: 862ms\tremaining: 31.3ms\n",
      "965:\tlearn: 0.0649289\ttotal: 863ms\tremaining: 30.4ms\n",
      "966:\tlearn: 0.0648343\ttotal: 864ms\tremaining: 29.5ms\n",
      "967:\tlearn: 0.0647317\ttotal: 865ms\tremaining: 28.6ms\n",
      "968:\tlearn: 0.0646236\ttotal: 866ms\tremaining: 27.7ms\n",
      "969:\tlearn: 0.0646053\ttotal: 866ms\tremaining: 26.8ms\n",
      "970:\tlearn: 0.0645915\ttotal: 867ms\tremaining: 25.9ms\n",
      "971:\tlearn: 0.0645207\ttotal: 868ms\tremaining: 25ms\n",
      "972:\tlearn: 0.0645053\ttotal: 869ms\tremaining: 24.1ms\n"
     ]
    },
    {
     "name": "stdout",
     "output_type": "stream",
     "text": [
      "973:\tlearn: 0.0644200\ttotal: 870ms\tremaining: 23.2ms\n",
      "974:\tlearn: 0.0643550\ttotal: 871ms\tremaining: 22.3ms\n",
      "975:\tlearn: 0.0642676\ttotal: 872ms\tremaining: 21.4ms\n",
      "976:\tlearn: 0.0642229\ttotal: 873ms\tremaining: 20.5ms\n",
      "977:\tlearn: 0.0640221\ttotal: 874ms\tremaining: 19.7ms\n",
      "978:\tlearn: 0.0639531\ttotal: 874ms\tremaining: 18.8ms\n",
      "979:\tlearn: 0.0639055\ttotal: 875ms\tremaining: 17.9ms\n",
      "980:\tlearn: 0.0637751\ttotal: 876ms\tremaining: 17ms\n",
      "981:\tlearn: 0.0637325\ttotal: 877ms\tremaining: 16.1ms\n",
      "982:\tlearn: 0.0636891\ttotal: 878ms\tremaining: 15.2ms\n",
      "983:\tlearn: 0.0636588\ttotal: 879ms\tremaining: 14.3ms\n",
      "984:\tlearn: 0.0635978\ttotal: 880ms\tremaining: 13.4ms\n",
      "985:\tlearn: 0.0635801\ttotal: 880ms\tremaining: 12.5ms\n",
      "986:\tlearn: 0.0635192\ttotal: 881ms\tremaining: 11.6ms\n",
      "987:\tlearn: 0.0634711\ttotal: 882ms\tremaining: 10.7ms\n",
      "988:\tlearn: 0.0633725\ttotal: 883ms\tremaining: 9.82ms\n",
      "989:\tlearn: 0.0632551\ttotal: 883ms\tremaining: 8.92ms\n",
      "990:\tlearn: 0.0631597\ttotal: 884ms\tremaining: 8.03ms\n",
      "991:\tlearn: 0.0630723\ttotal: 885ms\tremaining: 7.14ms\n",
      "992:\tlearn: 0.0629873\ttotal: 886ms\tremaining: 6.25ms\n",
      "993:\tlearn: 0.0629665\ttotal: 887ms\tremaining: 5.35ms\n",
      "994:\tlearn: 0.0628906\ttotal: 888ms\tremaining: 4.46ms\n",
      "995:\tlearn: 0.0628578\ttotal: 888ms\tremaining: 3.57ms\n",
      "996:\tlearn: 0.0628140\ttotal: 889ms\tremaining: 2.67ms\n",
      "997:\tlearn: 0.0626704\ttotal: 890ms\tremaining: 1.78ms\n",
      "998:\tlearn: 0.0626565\ttotal: 891ms\tremaining: 891us\n",
      "999:\tlearn: 0.0625545\ttotal: 892ms\tremaining: 0us\n"
     ]
    },
    {
     "data": {
      "text/plain": [
       "<catboost.core.CatBoostRegressor at 0x7fee6aeb7f10>"
      ]
     },
     "execution_count": 9,
     "metadata": {},
     "output_type": "execute_result"
    }
   ],
   "source": [
    "#Train the Model \n",
    "prior_model = ctb.CatBoostRegressor()\n",
    "prior_model.fit(X_train,Y_train)"
   ]
  },
  {
   "cell_type": "code",
   "execution_count": 10,
   "id": "af65dcda",
   "metadata": {
    "execution": {
     "iopub.execute_input": "2022-03-11T10:25:25.246216Z",
     "iopub.status.busy": "2022-03-11T10:25:25.245824Z",
     "iopub.status.idle": "2022-03-11T10:25:25.253151Z",
     "shell.execute_reply": "2022-03-11T10:25:25.253447Z"
    },
    "id": "af65dcda",
    "papermill": {
     "duration": 0.020578,
     "end_time": "2022-03-11T10:25:25.253569",
     "exception": false,
     "start_time": "2022-03-11T10:25:25.232991",
     "status": "completed"
    },
    "tags": []
   },
   "outputs": [
    {
     "data": {
      "application/scrapbook.scrap.json+json": {
       "data": 0.12419311080113504,
       "encoder": "json",
       "name": "Prior Model MSE",
       "version": 1
      }
     },
     "metadata": {
      "scrapbook": {
       "data": true,
       "display": false,
       "name": "Prior Model MSE"
      }
     },
     "output_type": "display_data"
    },
    {
     "data": {
      "application/scrapbook.scrap.json+json": {
       "data": 0.12355746445824858,
       "encoder": "json",
       "name": "ABC Pre-generator MSE",
       "version": 1
      }
     },
     "metadata": {
      "scrapbook": {
       "data": true,
       "display": false,
       "name": "ABC Pre-generator MSE"
      }
     },
     "output_type": "display_data"
    },
    {
     "data": {
      "application/scrapbook.scrap.json+json": {
       "data": 0.22949805983704033,
       "encoder": "json",
       "name": "Prior Model MAE",
       "version": 1
      }
     },
     "metadata": {
      "scrapbook": {
       "data": true,
       "display": false,
       "name": "Prior Model MAE"
      }
     },
     "output_type": "display_data"
    },
    {
     "data": {
      "application/scrapbook.scrap.json+json": {
       "data": 0.2281773845392126,
       "encoder": "json",
       "name": "ABC Pre-generator MAE",
       "version": 1
      }
     },
     "metadata": {
      "scrapbook": {
       "data": true,
       "display": false,
       "name": "ABC Pre-generator MAE"
      }
     },
     "output_type": "display_data"
    }
   ],
   "source": [
    "y_pred = prior_model.predict(X_test)\n",
    "y_abc = y_pred + np.random.normal(0,variance, y_pred.shape)\n",
    "mse = mean_squared_error(y_pred,Y_test)\n",
    "sb.glue(\"Prior Model MSE\",mse)\n",
    "mse = mean_squared_error(y_abc,Y_test)\n",
    "sb.glue(\"ABC Pre-generator MSE\",mse)\n",
    "\n",
    "mae = mean_absolute_error(y_pred,Y_test)\n",
    "sb.glue(\"Prior Model MAE\",mae)\n",
    "mae = mean_absolute_error(y_abc,Y_test)\n",
    "sb.glue(\"ABC Pre-generator MAE\",mae)"
   ]
  },
  {
   "cell_type": "markdown",
   "id": "25609da2",
   "metadata": {
    "papermill": {
     "duration": 0.010066,
     "end_time": "2022-03-11T10:25:25.273756",
     "exception": false,
     "start_time": "2022-03-11T10:25:25.263690",
     "status": "completed"
    },
    "tags": []
   },
   "source": [
    "# ABC GAN Model"
   ]
  },
  {
   "cell_type": "code",
   "execution_count": 11,
   "id": "dfc3464d",
   "metadata": {
    "execution": {
     "iopub.execute_input": "2022-03-11T10:25:25.296604Z",
     "iopub.status.busy": "2022-03-11T10:25:25.296228Z",
     "iopub.status.idle": "2022-03-11T10:25:25.298806Z",
     "shell.execute_reply": "2022-03-11T10:25:25.299056Z"
    },
    "papermill": {
     "duration": 0.015515,
     "end_time": "2022-03-11T10:25:25.299166",
     "exception": false,
     "start_time": "2022-03-11T10:25:25.283651",
     "status": "completed"
    },
    "tags": []
   },
   "outputs": [],
   "source": [
    "gen = network.Generator(n_features+1).to(device)\n",
    "disc = network.Discriminator(n_features+1).to(device)\n",
    "\n",
    "criterion = torch.nn.BCELoss()\n",
    "gen_opt = torch.optim.Adam(gen.parameters(), lr=0.001, betas=(0.5, 0.999))\n",
    "disc_opt = torch.optim.Adam(disc.parameters(), lr=0.001, betas=(0.5, 0.999))"
   ]
  },
  {
   "cell_type": "code",
   "execution_count": 12,
   "id": "b75fdd85",
   "metadata": {
    "execution": {
     "iopub.execute_input": "2022-03-11T10:25:25.321326Z",
     "iopub.status.busy": "2022-03-11T10:25:25.320948Z",
     "iopub.status.idle": "2022-03-11T10:26:01.141819Z",
     "shell.execute_reply": "2022-03-11T10:26:01.142135Z"
    },
    "papermill": {
     "duration": 35.83321,
     "end_time": "2022-03-11T10:26:01.142272",
     "exception": false,
     "start_time": "2022-03-11T10:25:25.309062",
     "status": "completed"
    },
    "tags": []
   },
   "outputs": [
    {
     "data": {
      "image/png": "[encoded data removed]",
      "text/plain": [
       "<Figure size 432x288 with 1 Axes>"
      ]
     },
     "metadata": {
      "needs_background": "light"
     },
     "output_type": "display_data"
    },
    {
     "data": {
      "image/png": "[encoded data removed]",
      "text/plain": [
       "<Figure size 432x288 with 1 Axes>"
      ]
     },
     "metadata": {
      "needs_background": "light"
     },
     "output_type": "display_data"
    }
   ],
   "source": [
    "#Training the ABC_GAN \n",
    "ABC_train_test2.training_GAN(disc,gen,disc_opt,gen_opt,train_data,batch_size,n_epochs,criterion,prior_model,variance,0,device)"
   ]
  },
  {
   "cell_type": "code",
   "execution_count": 13,
   "id": "1fa7c368",
   "metadata": {
    "execution": {
     "iopub.execute_input": "2022-03-11T10:26:01.167066Z",
     "iopub.status.busy": "2022-03-11T10:26:01.166678Z",
     "iopub.status.idle": "2022-03-11T10:26:01.475011Z",
     "shell.execute_reply": "2022-03-11T10:26:01.475262Z"
    },
    "papermill": {
     "duration": 0.322254,
     "end_time": "2022-03-11T10:26:01.475386",
     "exception": false,
     "start_time": "2022-03-11T10:26:01.153132",
     "status": "completed"
    },
    "tags": []
   },
   "outputs": [
    {
     "data": {
      "application/scrapbook.scrap.json+json": {
       "data": 0.1366147939279752,
       "encoder": "json",
       "name": "ABC-GAN Model 1 MSE",
       "version": 1
      }
     },
     "metadata": {
      "scrapbook": {
       "data": true,
       "display": false,
       "name": "ABC-GAN Model 1 MSE"
      }
     },
     "output_type": "display_data"
    },
    {
     "data": {
      "application/scrapbook.scrap.json+json": {
       "data": 0.25046980795797474,
       "encoder": "json",
       "name": "ABC-GAN Model 1 MAE",
       "version": 1
      }
     },
     "metadata": {
      "scrapbook": {
       "data": true,
       "display": false,
       "name": "ABC-GAN Model 1 MAE"
      }
     },
     "output_type": "display_data"
    },
    {
     "data": {
      "application/scrapbook.scrap.json+json": {
       "data": 25.54792041171342,
       "encoder": "json",
       "name": "ABC-GAN Model 1 Manhattan Distance",
       "version": 1
      }
     },
     "metadata": {
      "scrapbook": {
       "data": true,
       "display": false,
       "name": "ABC-GAN Model 1 Manhattan Distance"
      }
     },
     "output_type": "display_data"
    },
    {
     "data": {
      "application/scrapbook.scrap.json+json": {
       "data": 3.7329104372895117,
       "encoder": "json",
       "name": "ABC-GAN Model 1 Euclidean distance",
       "version": 1
      }
     },
     "metadata": {
      "scrapbook": {
       "data": true,
       "display": false,
       "name": "ABC-GAN Model 1 Euclidean distance"
      }
     },
     "output_type": "display_data"
    },
    {
     "data": {
      "application/scrapbook.scrap.json+json": {
       "data": [
        [
         0.13670420953370557,
         0.13779221050736645,
         0.13621055875712287,
         0.13717683597575958,
         0.13612244059730455,
         0.1364778798620585,
         0.13787924188952722,
         0.13713068927517214,
         0.13751169399559682,
         0.13585695278265927,
         0.1377283558535545,
         0.13758694431158372,
         0.13671889656531122,
         0.13727518448801018,
         0.13631571867377176,
         0.13625605921952424,
         0.13607186730604182,
         0.1368374113037574,
         0.1369344757040343,
         0.1362058419837657,
         0.13525688017577292,
         0.13756590407305214,
         0.13695234225730474,
         0.1371971747018045,
         0.13574198356339542,
         0.1362546013709308,
         0.13595478571093836,
         0.13738795946214344,
         0.1361646311522581,
         0.13557705502410913,
         0.13642053777438265,
         0.13660230640305418,
         0.1370000897381211,
         0.13802680327648073,
         0.13725162311153502,
         0.13652698872075544,
         0.13612628363254536,
         0.136663870649273,
         0.1367715493337979,
         0.13738335098423066,
         0.1370956002367931,
         0.13692540679703,
         0.13733090615231533,
         0.13692348419881292,
         0.13684926998966665,
         0.13675826957313134,
         0.13672363152248734,
         0.13693035379086171,
         0.13552404106131136,
         0.13683145651436207,
         0.13612541551895144,
         0.1364510473715451,
         0.13662849986421094,
         0.1368894684793405,
         0.1366978095756675,
         0.13499759025005895,
         0.13751854127727992,
         0.1356271094097575,
         0.13630037703251482,
         0.13657467300405815,
         0.13603562740265646,
         0.13744828230676098,
         0.1356702353964979,
         0.13600395149523983,
         0.13686929998177969,
         0.13782700392567832,
         0.13725595642565858,
         0.13513848420912036,
         0.13621328764647558,
         0.13653742268534608,
         0.13704036443836481,
         0.13701856106142296,
         0.13601853453400614,
         0.13597586331088052,
         0.13558752229302898,
         0.13651863460627503,
         0.1367279496172892,
         0.1369025325413076,
         0.1357159995981436,
         0.13765022754743209,
         0.13571748038598616,
         0.13590170904862048,
         0.1377452101261371,
         0.13740254685070377,
         0.13690662583317428,
         0.1360011858626807,
         0.13765232285559967,
         0.13622141547821492,
         0.13637777888039315,
         0.13675710993092527,
         0.13507838175267642,
         0.13706100582662217,
         0.13721720998448453,
         0.1360300258119061,
         0.13642473900739188,
         0.13591429735935473,
         0.13695930117079308,
         0.13677029775570418,
         0.1366265812468645,
         0.1352352852842544
        ],
        [
         0.24998617005150983,
         0.2518977927610132,
         0.24916740493191517,
         0.2503561986811167,
         0.2482998632351119,
         0.25024222700363574,
         0.251320351070414,
         0.25099700573357003,
         0.2508940497029792,
         0.25082458209648145,
         0.25120270936110733,
         0.25184877992005034,
         0.2513267686499246,
         0.25112804680076595,
         0.24867297341024466,
         0.2514836146204057,
         0.24957382270847173,
         0.25077523083846065,
         0.2516834333119001,
         0.24988526041053383,
         0.24998361676675723,
         0.2523815880675672,
         0.2516457688373824,
         0.2504380262895104,
         0.2496111684515342,
         0.25083195955912563,
         0.2499902445329901,
         0.24982554393400455,
         0.2509114873120744,
         0.24997919645416095,
         0.25120186521763016,
         0.2517393556167828,
         0.25143705097520175,
         0.24996511500292257,
         0.2510736928796213,
         0.25093738184146147,
         0.25038002768312306,
         0.25089658129339415,
         0.2504399292554487,
         0.250209664971586,
         0.2511087793436851,
         0.2492193001614628,
         0.2510097422454433,
         0.25084020811881796,
         0.25185814292590114,
         0.2515967681949191,
         0.2506584376918481,
         0.24977822193656773,
         0.24901725506117822,
         0.25048221743610855,
         0.2497338513186311,
         0.2505905332829,
         0.2509336510727949,
         0.2505088632688949,
         0.25086147956294463,
         0.2496241365157652,
         0.2514028130007871,
         0.25072541380958524,
         0.24911133073014663,
         0.24968384696608958,
         0.2497670638521074,
         0.2508971571064025,
         0.2484483097351211,
         0.2509520984546957,
         0.24977593665358191,
         0.25177961680125077,
         0.2506995933842571,
         0.2506265489877585,
         0.24969580679145806,
         0.25051301711366747,
         0.2503391501822454,
         0.25064065067243635,
         0.2495760385622727,
         0.24996858711957054,
         0.25013575608860333,
         0.25100107674541716,
         0.2510067804570438,
         0.2513046071170738,
         0.24838192067930803,
         0.25028756130304114,
         0.25017297108128084,
         0.24973317075922502,
         0.25205984781952756,
         0.25144036184521573,
         0.250666344255282,
         0.24910467465901198,
         0.2508703712830503,
         0.2505640088142279,
         0.2499883879505682,
         0.2514732760267661,
         0.24887344351622695,
         0.25136379493108274,
         0.2493199130575008,
         0.2503597020975077,
         0.2495444348794134,
         0.24994252973656153,
         0.25075236964496034,
         0.2508442147050564,
         0.24955138276495478,
         0.2503677752763763
        ],
        [
         25.498589345254004,
         25.693574861623347,
         25.415075303055346,
         25.536332265473902,
         25.326586049981415,
         25.524707154370844,
         25.634675809182227,
         25.601694584824145,
         25.591193069703877,
         25.584107373841107,
         25.622676354832947,
         25.688575551845133,
         25.63533040229231,
         25.615060773678124,
         25.364643287844956,
         25.65132869128138,
         25.456529916264117,
         25.579073545522988,
         25.67171019781381,
         25.48829656187445,
         25.49832891020924,
         25.742921982891858,
         25.667868421413004,
         25.54467868153006,
         25.460339182056487,
         25.584859875030816,
         25.49900494236499,
         25.482205481268466,
         25.592971705831587,
         25.497878038324416,
         25.62259025219828,
         25.677414272911847,
         25.64657919947058,
         25.496441730298102,
         25.609516673721373,
         25.595612947829068,
         25.538762823678553,
         25.591451291926205,
         25.54487278405577,
         25.521385827101767,
         25.61309549305588,
         25.420368616469204,
         25.602993709035218,
         25.585701228119433,
         25.689530578441918,
         25.66287035588175,
         25.567160644568503,
         25.47737863752991,
         25.39976001624018,
         25.54918617848307,
         25.472852834500372,
         25.560234394855797,
         25.59523240942508,
         25.55190405342728,
         25.587870915420353,
         25.461661924608052,
         25.643086926080287,
         25.573992208577693,
         25.409355734474957,
         25.467752390541136,
         25.476240512914956,
         25.59151002485305,
         25.341727592982352,
         25.597114042378962,
         25.477145538665354,
         25.68152091372758,
         25.571358525194228,
         25.563907996751368,
         25.468972292728722,
         25.552327745594084,
         25.53459331858903,
         25.565346368588507,
         25.456755933351815,
         25.496795886196196,
         25.513847121037543,
         25.602109828032553,
         25.602691606618464,
         25.633069925941527,
         25.33495590928942,
         25.529331252910197,
         25.517643050290644,
         25.47278341744095,
         25.710104477591813,
         25.646916908212006,
         25.567967114038765,
         25.408676815219223,
         25.588777870871127,
         25.55752889905125,
         25.49881557095796,
         25.65027415473014,
         25.38509123865515,
         25.63910708297044,
         25.430631131865084,
         25.536689613945782,
         25.45353235770017,
         25.494138033129275,
         25.576741703785956,
         25.586109899915755,
         25.454241042025387,
         25.537513078190386
        ],
        [
         3.7341437268051108,
         3.7489739225221843,
         3.7273954704627905,
         3.740593170812281,
         3.7261896007751747,
         3.7310512923209687,
         3.7501576863822366,
         3.7399639444876414,
         3.745155909645268,
         3.7225541210076782,
         3.7481051608863054,
         3.7461804974909496,
         3.7343443132177487,
         3.7419338339656725,
         3.728834040920127,
         3.728017977476969,
         3.725497344679803,
         3.7359625202862055,
         3.7372873212815065,
         3.7273309327646365,
         3.7143238655142663,
         3.745894047547437,
         3.737531124986798,
         3.740870462817987,
         3.720978678179483,
         3.7279980337756258,
         3.7238942174175285,
         3.7434705642142605,
         3.726767014119654,
         3.7187174687597775,
         3.7302673969820215,
         3.7327516999006947,
         3.7381826003137344,
         3.752163900231576,
         3.741612694731587,
         3.7317225043560045,
         3.726242199659011,
         3.733592747773362,
         3.7350633236997974,
         3.7434077790686286,
         3.7394854223747007,
         3.737163562556108,
         3.7426932051046027,
         3.7371373253171885,
         3.736124400892722,
         3.7348819923070384,
         3.7344089780437413,
         3.737231072153273,
         3.7179903426789256,
         3.7358812299730477,
         3.7262303180202165,
         3.7306844991097274,
         3.7331095598909916,
         3.7366730904499432,
         3.7340563167577,
         3.7107619440629716,
         3.7452491519633972,
         3.7194038715626543,
         3.7286242043569513,
         3.732374130016166,
         3.725001207391879,
         3.7442922956534277,
         3.719995162690777,
         3.7245674987190744,
         3.736397810477562,
         3.7494472126460443,
         3.7416717594435207,
         3.712697858610404,
         3.727432808239541,
         3.7318650985673774,
         3.738732027400895,
         3.7384345959592684,
         3.7247671769479256,
         3.7241828711423137,
         3.7188610183615296,
         3.731608330176152,
         3.7344679488467296,
         3.736851391106338,
         3.7206225230478087,
         3.7470419279530445,
         3.7206428207193687,
         3.723167243484945,
         3.7483344878580382,
         3.7436692934568594,
         3.7369072553361256,
         3.7245296290932406,
         3.7470704465316858,
         3.7275440143314094,
         3.7296827540422397,
         3.7348661573012727,
         3.711872160887682,
         3.7390135857356093,
         3.7411435976740353,
         3.7249245137068776,
         3.7303248355544008,
         3.7233396743587845,
         3.7376260807390693,
         3.73504623412908,
         3.7330833485444948,
         3.7140273422517973
        ]
       ],
       "encoder": "json",
       "name": "ABC_GAN_1 Metrics",
       "version": 1
      }
     },
     "metadata": {
      "scrapbook": {
       "data": true,
       "display": false,
       "name": "ABC_GAN_1 Metrics"
      }
     },
     "output_type": "display_data"
    },
    {
     "name": "stdout",
     "output_type": "stream",
     "text": [
      "MSE\n",
      "0.1366147939279752\n"
     ]
    }
   ],
   "source": [
    "ABC_GAN1_metrics=ABC_train_test2.test_generator(gen,test_data,prior_model,variance,0,\"1\",device)\n",
    "sb.glue(\"ABC_GAN_1 Metrics\",ABC_GAN1_metrics)\n",
    "\n",
    "print(\"MSE\")\n",
    "print(mean(ABC_GAN1_metrics[0]))"
   ]
  },
  {
   "cell_type": "code",
   "execution_count": 14,
   "id": "eb22ce5c",
   "metadata": {
    "execution": {
     "iopub.execute_input": "2022-03-11T10:26:01.502610Z",
     "iopub.status.busy": "2022-03-11T10:26:01.502240Z",
     "iopub.status.idle": "2022-03-11T10:26:01.837342Z",
     "shell.execute_reply": "2022-03-11T10:26:01.837633Z"
    },
    "papermill": {
     "duration": 0.349708,
     "end_time": "2022-03-11T10:26:01.837754",
     "exception": false,
     "start_time": "2022-03-11T10:26:01.488046",
     "status": "completed"
    },
    "tags": []
   },
   "outputs": [
    {
     "data": {
      "image/png": "[encoded data removed]",
      "text/plain": [
       "<Figure size 432x288 with 1 Axes>"
      ]
     },
     "metadata": {
      "needs_background": "light"
     },
     "output_type": "display_data"
    },
    {
     "data": {
      "image/png": "[encoded data removed]",
      "text/plain": [
       "<Figure size 432x288 with 1 Axes>"
      ]
     },
     "metadata": {
      "needs_background": "light"
     },
     "output_type": "display_data"
    },
    {
     "data": {
      "image/png": "[encoded data removed]",
      "text/plain": [
       "<Figure size 432x288 with 1 Axes>"
      ]
     },
     "metadata": {
      "needs_background": "light"
     },
     "output_type": "display_data"
    },
    {
     "data": {
      "image/png": "[encoded data removed]",
      "text/plain": [
       "<Figure size 432x288 with 1 Axes>"
      ]
     },
     "metadata": {
      "needs_background": "light"
     },
     "output_type": "display_data"
    }
   ],
   "source": [
    "sanityChecks.discProbVsError(train_data,disc,device)\n",
    "sanityChecks.discProbVsError(test_data,disc,device)"
   ]
  },
  {
   "cell_type": "markdown",
   "id": "130f3a4d",
   "metadata": {
    "id": "130f3a4d",
    "papermill": {
     "duration": 0.01442,
     "end_time": "2022-03-11T10:26:01.867289",
     "exception": false,
     "start_time": "2022-03-11T10:26:01.852869",
     "status": "completed"
    },
    "tags": []
   },
   "source": [
    "# ABC - GAN Model with skip connection"
   ]
  },
  {
   "cell_type": "code",
   "execution_count": 15,
   "id": "4e43dad1",
   "metadata": {
    "execution": {
     "iopub.execute_input": "2022-03-11T10:26:01.900736Z",
     "iopub.status.busy": "2022-03-11T10:26:01.900366Z",
     "iopub.status.idle": "2022-03-11T10:26:01.902547Z",
     "shell.execute_reply": "2022-03-11T10:26:01.902800Z"
    },
    "id": "4e43dad1",
    "papermill": {
     "duration": 0.020644,
     "end_time": "2022-03-11T10:26:01.902910",
     "exception": false,
     "start_time": "2022-03-11T10:26:01.882266",
     "status": "completed"
    },
    "tags": []
   },
   "outputs": [],
   "source": [
    "#Generator\n",
    "gen3 = network.GeneratorWithSkipConnection(n_features+1).to(device)\n",
    "constraints=network.weightConstraint()\n",
    "#Discriminator \n",
    "disc3 = network.Discriminator(n_features+1).to(device)\n",
    "\n",
    "criterion = torch.nn.BCELoss()\n",
    "gen_opt = torch.optim.Adam(gen3.parameters(), lr=0.001, betas=(0.5, 0.999))\n",
    "disc_opt = torch.optim.Adam(disc3.parameters(), lr=0.001, betas=(0.5, 0.999))\n"
   ]
  },
  {
   "cell_type": "code",
   "execution_count": 16,
   "id": "26acbc37",
   "metadata": {
    "execution": {
     "iopub.execute_input": "2022-03-11T10:26:01.935009Z",
     "iopub.status.busy": "2022-03-11T10:26:01.934634Z",
     "iopub.status.idle": "2022-03-11T10:28:29.915139Z",
     "shell.execute_reply": "2022-03-11T10:28:29.915444Z"
    },
    "id": "26acbc37",
    "papermill": {
     "duration": 147.997828,
     "end_time": "2022-03-11T10:28:29.915568",
     "exception": false,
     "start_time": "2022-03-11T10:26:01.917740",
     "status": "completed"
    },
    "tags": []
   },
   "outputs": [
    {
     "data": {
      "image/png": "[encoded data removed]",
      "text/plain": [
       "<Figure size 432x288 with 1 Axes>"
      ]
     },
     "metadata": {
      "needs_background": "light"
     },
     "output_type": "display_data"
    },
    {
     "data": {
      "image/png": "[encoded data removed]",
      "text/plain": [
       "<Figure size 432x288 with 1 Axes>"
      ]
     },
     "metadata": {
      "needs_background": "light"
     },
     "output_type": "display_data"
    }
   ],
   "source": [
    "ABC_train_test2.training_GAN_skip_connection(disc3,gen3,disc_opt,gen_opt,train_data,batch_size,n_epochs,criterion,prior_model,variance,0,device)"
   ]
  },
  {
   "cell_type": "code",
   "execution_count": 17,
   "id": "c5e0717b",
   "metadata": {
    "execution": {
     "iopub.execute_input": "2022-03-11T10:28:29.948959Z",
     "iopub.status.busy": "2022-03-11T10:28:29.948582Z",
     "iopub.status.idle": "2022-03-11T10:28:30.758035Z",
     "shell.execute_reply": "2022-03-11T10:28:30.758283Z"
    },
    "id": "c5e0717b",
    "papermill": {
     "duration": 0.827509,
     "end_time": "2022-03-11T10:28:30.758405",
     "exception": false,
     "start_time": "2022-03-11T10:28:29.930896",
     "status": "completed"
    },
    "tags": []
   },
   "outputs": [
    {
     "data": {
      "application/scrapbook.scrap.json+json": {
       "data": 657.3223441881404,
       "encoder": "json",
       "name": "ABC-GAN Model 3 MSE",
       "version": 1
      }
     },
     "metadata": {
      "scrapbook": {
       "data": true,
       "display": false,
       "name": "ABC-GAN Model 3 MSE"
      }
     },
     "output_type": "display_data"
    },
    {
     "data": {
      "application/scrapbook.scrap.json+json": {
       "data": 24.39799632024641,
       "encoder": "json",
       "name": "ABC-GAN Model 3 MAE",
       "version": 1
      }
     },
     "metadata": {
      "scrapbook": {
       "data": true,
       "display": false,
       "name": "ABC-GAN Model 3 MAE"
      }
     },
     "output_type": "display_data"
    },
    {
     "data": {
      "application/scrapbook.scrap.json+json": {
       "data": 2488.5956246651335,
       "encoder": "json",
       "name": "ABC-GAN Model 3 Manhattan Distance",
       "version": 1
      }
     },
     "metadata": {
      "scrapbook": {
       "data": true,
       "display": false,
       "name": "ABC-GAN Model 3 Manhattan Distance"
      }
     },
     "output_type": "display_data"
    },
    {
     "data": {
      "application/scrapbook.scrap.json+json": {
       "data": 258.9341196320439,
       "encoder": "json",
       "name": "ABC-GAN Model 3 Euclidean distance",
       "version": 1
      }
     },
     "metadata": {
      "scrapbook": {
       "data": true,
       "display": false,
       "name": "ABC-GAN Model 3 Euclidean distance"
      }
     },
     "output_type": "display_data"
    },
    {
     "data": {
      "application/scrapbook.scrap.json+json": {
       "data": [
        [
         657.2990733174454,
         657.3797575094775,
         657.2968693280702,
         657.1017060021461,
         657.3537635815568,
         657.3662597464204,
         657.2996323099727,
         657.364538725112,
         657.2364351176435,
         656.9821920843114,
         657.2911456475845,
         657.3169964693119,
         657.1891371262884,
         657.2769087082582,
         657.2850506368108,
         657.2990566562756,
         657.2420050752477,
         657.4897456324528,
         657.2778345148125,
         657.2778236701016,
         657.4314640675249,
         657.2893663461225,
         657.2506624453705,
         657.5089988349387,
         657.0823430977841,
         657.2700197284142,
         657.2036759239569,
         657.487063727823,
         657.297077948828,
         657.1470288656755,
         657.305681514255,
         657.1882222958242,
         657.2632686795482,
         657.389814348734,
         657.2060951614678,
         657.383462130573,
         657.2982196074316,
         657.698273600851,
         657.3951250256075,
         657.1312453248146,
         657.2547367182813,
         657.5026114330316,
         657.3455430735903,
         656.9931991330863,
         657.5869599835731,
         657.3891985192922,
         657.3572430004083,
         657.3240598810963,
         657.1726078902109,
         657.5245222274888,
         657.3152747314016,
         657.5030730866802,
         657.3338945604193,
         657.2935906055261,
         657.4409991593551,
         657.5549631107525,
         657.492100251302,
         657.5443162398001,
         657.2537177619155,
         657.3645863194616,
         657.7196696312434,
         657.4613434203527,
         657.1451371589226,
         657.603625213561,
         657.2480175206917,
         657.2740484251126,
         657.3723907394357,
         657.2288451097158,
         657.2454972997593,
         657.5261780249663,
         657.2751474716151,
         657.2066643838858,
         657.4619524604391,
         657.4856512191417,
         657.3712614077851,
         657.3436394829524,
         657.2646585542175,
         657.2021041510612,
         657.2615806101372,
         657.3112059802274,
         657.4486146866727,
         657.4503028494427,
         657.1899868165686,
         657.4000768865544,
         657.4202504275859,
         657.3233438017089,
         657.290919943786,
         657.1326207512797,
         657.3484941368679,
         657.574837416547,
         657.4114668411619,
         657.1740708368759,
         657.3941549627053,
         657.4762337346167,
         657.2163921240134,
         657.0296829440173,
         656.9980730844992,
         657.1747630833022,
         657.1590310048143,
         657.2122459942815
        ],
        [
         24.397831552999786,
         24.398899238145745,
         24.39626157133128,
         24.39238154737498,
         24.399805125899103,
         24.398156989685386,
         24.398198231424697,
         24.39793693401175,
         24.39736382249633,
         24.391932348072455,
         24.396978220181065,
         24.396663881646578,
         24.396155507787697,
         24.395675744158307,
         24.398153932317726,
         24.397995528883722,
         24.394889729526625,
         24.399989727327565,
         24.397728406577645,
         24.39818098113927,
         24.398252329067784,
         24.39672180333668,
         24.39526433653801,
         24.401035421865753,
         24.39366302386328,
         24.397419275852908,
         24.396059373676703,
         24.40068856490703,
         24.397158735769562,
         24.39347535571741,
         24.397541252667924,
         24.395673425420753,
         24.396534200639042,
         24.399369137790785,
         24.395697828263554,
         24.39849436599944,
         24.397364392830973,
         24.40488237576267,
         24.400090349317693,
         24.39499716748319,
         24.398260210905516,
         24.401152564860954,
         24.398724612898615,
         24.392382267305592,
         24.40331287093132,
         24.39879959787918,
         24.399981630445623,
         24.398717217247786,
         24.395061175859368,
         24.403420832473785,
         24.397973987063867,
         24.399735554422744,
         24.40009602461485,
         24.39737753857694,
         24.40130923859154,
         24.401387299639264,
         24.401450055149184,
         24.401979830581695,
         24.397320215270728,
         24.40094169064005,
         24.406000689795132,
         24.40131553097208,
         24.393498580491936,
         24.40251161621007,
         24.397786992099867,
         24.396211250986465,
         24.399210509962824,
         24.397199762464666,
         24.39620623952143,
         24.400128374743623,
         24.397023239218647,
         24.39517757087471,
         24.399784836945507,
         24.401747891378097,
         24.398532410124865,
         24.39665966491014,
         24.397964740162898,
         24.396930489716503,
         24.397047857105658,
         24.398490897242855,
         24.400808699821653,
         24.401248820518674,
         24.393782691290493,
         24.397735409539045,
         24.396500513496278,
         24.400372814560566,
         24.398249318448862,
         24.39614369905572,
         24.39859367902482,
         24.401162933731708,
         24.400187829792426,
         24.39529913630081,
         24.398913861151932,
         24.400002386886626,
         24.397048661184005,
         24.39230633800046,
         24.392077418765528,
         24.394507455721715,
         24.396916595990678,
         24.39739846331341
        ],
        [
         2488.5788184059784,
         2488.687722290866,
         2488.4186802757904,
         2488.022917832248,
         2488.7801228417084,
         2488.6120129479095,
         2488.616219605319,
         2488.5895672691986,
         2488.531109894626,
         2487.9770995033905,
         2488.4917784584686,
         2488.459715927951,
         2488.407861794345,
         2488.3589259041473,
         2488.611701096408,
         2488.5955439461395,
         2488.2787524117157,
         2488.7989521874115,
         2488.56829747092,
         2488.6144600762054,
         2488.621737564914,
         2488.465623940341,
         2488.316962326877,
         2488.905613030307,
         2488.1536284340546,
         2488.5367661369964,
         2488.398056115024,
         2488.870233620517,
         2488.5101910484955,
         2488.1344862831756,
         2488.5492077721283,
         2488.358689392917,
         2488.4464884651825,
         2488.73565205466,
         2488.3611784828827,
         2488.6464253319427,
         2488.531168068759,
         2489.2980023277923,
         2488.8092156304047,
         2488.2897110832855,
         2488.6225415123627,
         2488.9175616158172,
         2488.6699105156586,
         2488.0229912651703,
         2489.1379128349945,
         2488.677558983676,
         2488.7981263054535,
         2488.6691561592743,
         2488.2962399376556,
         2489.148924912326,
         2488.5933466805145,
         2488.77302655112,
         2488.8097945107147,
         2488.532508934848,
         2488.9335423363373,
         2488.941504563205,
         2488.9479056252167,
         2489.001942719333,
         2488.526661957614,
         2488.896052445285,
         2489.4120703591034,
         2488.934184159152,
         2488.1368552101776,
         2489.056184853427,
         2488.5742731941864,
         2488.4135476006195,
         2488.719472016208,
         2488.514375771396,
         2488.413036431186,
         2488.8130942238495,
         2488.496370400302,
         2488.3081122292206,
         2488.7780533684418,
         2488.978284920566,
         2488.650305832736,
         2488.4592858208343,
         2488.5924034966156,
         2488.4869099510834,
         2488.498881424777,
         2488.6460715187714,
         2488.8824873818085,
         2488.9273796929047,
         2488.1658345116302,
         2488.569011772983,
         2488.4430523766205,
         2488.8380270851776,
         2488.621430481784,
         2488.4066573036835,
         2488.6565552605316,
         2488.918619240634,
         2488.8191586388275,
         2488.3205119026825,
         2488.689213837497,
         2488.800243462436,
         2488.4989634407684,
         2488.0152464760467,
         2487.991896714084,
         2488.239760483615,
         2488.485492791049,
         2488.534643257968
        ],
        [
         258.9295376707327,
         258.94542912738723,
         258.9291035620816,
         258.89066034181093,
         258.94030950263186,
         258.9427706929368,
         258.9296477725508,
         258.942431729451,
         258.9171998574055,
         258.86711570340435,
         258.9279761942568,
         258.933067876372,
         258.90788320729325,
         258.9251719865072,
         258.92677568176435,
         258.92953438906903,
         258.9182969928454,
         258.96709067854584,
         258.9253543408039,
         258.9253522047433,
         258.9556126730748,
         258.9276257321811,
         258.9200022582802,
         258.9708823037134,
         258.886845930754,
         258.9238150736587,
         258.9107470620785,
         258.96656251384655,
         258.9291446530894,
         258.8995885363646,
         258.93083924950696,
         258.90770300277677,
         258.92248532198573,
         258.94740984140174,
         258.91122360081204,
         258.94615876146617,
         258.9293695198712,
         259.00815413281265,
         258.94845578340863,
         258.896479356385,
         258.9208047748668,
         258.969624408287,
         258.9386904143647,
         258.8692842180679,
         258.98623499777835,
         258.94728855303316,
         258.9409947961922,
         258.93445909703064,
         258.90462723713824,
         258.97393935916386,
         258.9327287590407,
         258.9697153237061,
         258.9363961384393,
         258.9284577673216,
         258.9574905544426,
         258.97993404373386,
         258.967554387867,
         258.97783738470673,
         258.9206040695011,
         258.9424411033948,
         259.01236708386506,
         258.96149719384147,
         258.899215893386,
         258.989516721784,
         258.91948128155707,
         258.9246086013483,
         258.9439782181127,
         258.9157048175931,
         258.9189848670341,
         258.97426543683173,
         258.9248250788339,
         258.91133572548796,
         258.96161713845703,
         258.966284339009,
         258.94375579185936,
         258.93831548703093,
         258.9227590856589,
         258.91043745551906,
         258.92215282249214,
         258.9319273669881,
         258.9589903788641,
         258.9593228494452,
         258.90805058029775,
         258.9494310525292,
         258.9534041939085,
         258.9343180572523,
         258.9279317382854,
         258.89675030140984,
         258.9392716487025,
         258.9838477907219,
         258.9516742903944,
         258.90491541367334,
         258.9482647290689,
         258.96442968278654,
         258.9132518753132,
         258.8764718167523,
         258.870244436511,
         258.9050517747709,
         258.9019527977552,
         258.91243518111816
        ]
       ],
       "encoder": "json",
       "name": "ABC_GAN_3 Metrics",
       "version": 1
      }
     },
     "metadata": {
      "scrapbook": {
       "data": true,
       "display": false,
       "name": "ABC_GAN_3 Metrics"
      }
     },
     "output_type": "display_data"
    },
    {
     "name": "stdout",
     "output_type": "stream",
     "text": [
      "MSE\n",
      "657.3223441881404\n"
     ]
    }
   ],
   "source": [
    "ABC_GAN3_metrics=ABC_train_test2.test_generator(gen3,test_data,prior_model,variance,0,\"3\",device)\n",
    "sb.glue(\"ABC_GAN_3 Metrics\",ABC_GAN3_metrics)\n",
    "\n",
    "print(\"MSE\")\n",
    "print(mean(ABC_GAN3_metrics[0]))"
   ]
  },
  {
   "cell_type": "code",
   "execution_count": 18,
   "id": "c8e46b48",
   "metadata": {
    "execution": {
     "iopub.execute_input": "2022-03-11T10:28:30.794803Z",
     "iopub.status.busy": "2022-03-11T10:28:30.794435Z",
     "iopub.status.idle": "2022-03-11T10:28:31.118009Z",
     "shell.execute_reply": "2022-03-11T10:28:31.118300Z"
    },
    "id": "c8e46b48",
    "papermill": {
     "duration": 0.342853,
     "end_time": "2022-03-11T10:28:31.118423",
     "exception": false,
     "start_time": "2022-03-11T10:28:30.775570",
     "status": "completed"
    },
    "tags": []
   },
   "outputs": [
    {
     "data": {
      "image/png": "[encoded data removed]",
      "text/plain": [
       "<Figure size 432x288 with 1 Axes>"
      ]
     },
     "metadata": {
      "needs_background": "light"
     },
     "output_type": "display_data"
    },
    {
     "data": {
      "image/png": "[encoded data removed]",
      "text/plain": [
       "<Figure size 432x288 with 1 Axes>"
      ]
     },
     "metadata": {
      "needs_background": "light"
     },
     "output_type": "display_data"
    },
    {
     "data": {
      "image/png": "[encoded data removed]",
      "text/plain": [
       "<Figure size 432x288 with 1 Axes>"
      ]
     },
     "metadata": {
      "needs_background": "light"
     },
     "output_type": "display_data"
    },
    {
     "data": {
      "image/png": "[encoded data removed]",
      "text/plain": [
       "<Figure size 432x288 with 1 Axes>"
      ]
     },
     "metadata": {
      "needs_background": "light"
     },
     "output_type": "display_data"
    }
   ],
   "source": [
    "sanityChecks.discProbVsError(train_data,disc3,device)\n",
    "sanityChecks.discProbVsError(test_data,disc3,device)"
   ]
  },
  {
   "cell_type": "markdown",
   "id": "a5bd74c3",
   "metadata": {
    "id": "a5bd74c3",
    "papermill": {
     "duration": 0.019044,
     "end_time": "2022-03-11T10:28:31.156830",
     "exception": false,
     "start_time": "2022-03-11T10:28:31.137786",
     "status": "completed"
    },
    "tags": []
   },
   "source": [
    "## Skip Connection Model Analysis - ABC-GAN "
   ]
  },
  {
   "cell_type": "markdown",
   "id": "5744a8bf",
   "metadata": {
    "id": "5744a8bf",
    "papermill": {
     "duration": 0.01881,
     "end_time": "2022-03-11T10:28:31.194416",
     "exception": false,
     "start_time": "2022-03-11T10:28:31.175606",
     "status": "completed"
    },
    "tags": []
   },
   "source": [
    "### Weight Analysis \n",
    "\n",
    "Study the weights of the skip connection layer\n",
    "\n",
    "Equation of the skip connection is \n",
    "\n",
    "$output = y_{gan} * w + y_{abc} * (1-w)$"
   ]
  },
  {
   "cell_type": "code",
   "execution_count": 19,
   "id": "52c31dea",
   "metadata": {
    "execution": {
     "iopub.execute_input": "2022-03-11T10:28:31.235380Z",
     "iopub.status.busy": "2022-03-11T10:28:31.234990Z",
     "iopub.status.idle": "2022-03-11T10:28:31.238566Z",
     "shell.execute_reply": "2022-03-11T10:28:31.238821Z"
    },
    "id": "52c31dea",
    "papermill": {
     "duration": 0.025713,
     "end_time": "2022-03-11T10:28:31.238936",
     "exception": false,
     "start_time": "2022-03-11T10:28:31.213223",
     "status": "completed"
    },
    "tags": []
   },
   "outputs": [
    {
     "name": "stdout",
     "output_type": "stream",
     "text": [
      "Weight of the node at skip connection\n",
      "Parameter containing:\n",
      "tensor([[0.0479]], requires_grad=True)\n"
     ]
    },
    {
     "data": {
      "application/scrapbook.scrap.json+json": {
       "data": 0.04786885902285576,
       "encoder": "json",
       "name": "Skip Connection Weight",
       "version": 1
      }
     },
     "metadata": {
      "scrapbook": {
       "data": true,
       "display": false,
       "name": "Skip Connection Weight"
      }
     },
     "output_type": "display_data"
    }
   ],
   "source": [
    "print(\"Weight of the node at skip connection\")\n",
    "for name,param in gen3.named_parameters():\n",
    "    if(name == \"skipNode.weight\"):\n",
    "        print(param)\n",
    "        sb.glue(\"Skip Connection Weight\",param.item())"
   ]
  }
 ],
 "metadata": {
  "colab": {
   "collapsed_sections": [],
   "name": "ABC_GAN_Model-Catboost_Pre-gen.ipynb",
   "provenance": []
  },
  "interpreter": {
   "hash": "31f2aee4e71d21fbe5cf8b01ff0e069b9275f58929596ceb00d14d90e3e16cd6"
  },
  "kernelspec": {
   "display_name": "Python 3 (ipykernel)",
   "language": "python",
   "name": "python3"
  },
  "language_info": {
   "codemirror_mode": {
    "name": "ipython",
    "version": 3
   },
   "file_extension": ".py",
   "mimetype": "text/x-python",
   "name": "python",
   "nbconvert_exporter": "python",
   "pygments_lexer": "ipython3",
   "version": "3.8.11"
  },
  "papermill": {
   "default_parameters": {},
   "duration": 190.392615,
   "end_time": "2022-03-11T10:28:31.565749",
   "environment_variables": {},
   "exception": null,
   "input_path": "ABC_GAN-Catboost.ipynb",
   "output_path": "./ABC_GAN_Catboost/ABC-GAN_output_6_2.ipynb",
   "parameters": {
    "variance": 0.01
   },
   "start_time": "2022-03-11T10:25:21.173134",
   "version": "2.3.3"
  }
 },
 "nbformat": 4,
 "nbformat_minor": 5
}