{
 "cells": [
  {
   "cell_type": "markdown",
   "id": "622780e6",
   "metadata": {
    "id": "622780e6",
    "papermill": {
     "duration": 0.034445,
     "end_time": "2022-03-11T10:09:13.623860",
     "exception": false,
     "start_time": "2022-03-11T10:09:13.589415",
     "status": "completed"
    },
    "tags": []
   },
   "source": [
    "## Import Libraries "
   ]
  },
  {
   "cell_type": "code",
   "execution_count": 1,
   "id": "a62397e3",
   "metadata": {
    "execution": {
     "iopub.execute_input": "2022-03-11T10:09:13.660958Z",
     "iopub.status.busy": "2022-03-11T10:09:13.660124Z",
     "iopub.status.idle": "2022-03-11T10:09:13.663280Z",
     "shell.execute_reply": "2022-03-11T10:09:13.663632Z"
    },
    "id": "a62397e3",
    "papermill": {
     "duration": 0.022871,
     "end_time": "2022-03-11T10:09:13.663853",
     "exception": false,
     "start_time": "2022-03-11T10:09:13.640982",
     "status": "completed"
    },
    "tags": []
   },
   "outputs": [],
   "source": [
    "import warnings\n",
    "import sys\n",
    "sys.path.insert(0, '../../src')\n",
    "warnings.filterwarnings('ignore')"
   ]
  },
  {
   "cell_type": "code",
   "execution_count": 2,
   "id": "d6a4e155",
   "metadata": {
    "execution": {
     "iopub.execute_input": "2022-03-11T10:09:13.686836Z",
     "iopub.status.busy": "2022-03-11T10:09:13.686296Z",
     "iopub.status.idle": "2022-03-11T10:09:15.527990Z",
     "shell.execute_reply": "2022-03-11T10:09:15.528251Z"
    },
    "id": "d6a4e155",
    "papermill": {
     "duration": 1.854693,
     "end_time": "2022-03-11T10:09:15.528375",
     "exception": false,
     "start_time": "2022-03-11T10:09:13.673682",
     "status": "completed"
    },
    "tags": []
   },
   "outputs": [],
   "source": [
    "import ABC_train_test2\n",
    "import bostonDataset\n",
    "import network\n",
    "import dataset\n",
    "import sanityChecks\n",
    "import torch \n",
    "import scrapbook as sb\n",
    "from statistics import mean \n",
    "import catboost as ctb \n",
    "from sklearn.model_selection import train_test_split\n",
    "from sklearn.metrics import mean_squared_error,mean_absolute_error\n",
    "import numpy as np"
   ]
  },
  {
   "cell_type": "markdown",
   "id": "2fa5b0f7",
   "metadata": {
    "id": "2fa5b0f7",
    "papermill": {
     "duration": 0.006763,
     "end_time": "2022-03-11T10:09:15.542215",
     "exception": false,
     "start_time": "2022-03-11T10:09:15.535452",
     "status": "completed"
    },
    "tags": []
   },
   "source": [
    "## Parameters "
   ]
  },
  {
   "cell_type": "code",
   "execution_count": 3,
   "id": "783186fb",
   "metadata": {
    "execution": {
     "iopub.execute_input": "2022-03-11T10:09:15.557911Z",
     "iopub.status.busy": "2022-03-11T10:09:15.557502Z",
     "iopub.status.idle": "2022-03-11T10:09:15.558794Z",
     "shell.execute_reply": "2022-03-11T10:09:15.559044Z"
    },
    "id": "783186fb",
    "papermill": {
     "duration": 0.010266,
     "end_time": "2022-03-11T10:09:15.559155",
     "exception": false,
     "start_time": "2022-03-11T10:09:15.548889",
     "status": "completed"
    },
    "tags": [
     "parameters"
    ]
   },
   "outputs": [],
   "source": [
    "variance = 1"
   ]
  },
  {
   "cell_type": "code",
   "execution_count": 4,
   "id": "7b7d6954",
   "metadata": {
    "execution": {
     "iopub.execute_input": "2022-03-11T10:09:15.574616Z",
     "iopub.status.busy": "2022-03-11T10:09:15.574268Z",
     "iopub.status.idle": "2022-03-11T10:09:15.575498Z",
     "shell.execute_reply": "2022-03-11T10:09:15.575743Z"
    },
    "papermill": {
     "duration": 0.009854,
     "end_time": "2022-03-11T10:09:15.575850",
     "exception": false,
     "start_time": "2022-03-11T10:09:15.565996",
     "status": "completed"
    },
    "tags": [
     "injected-parameters"
    ]
   },
   "outputs": [],
   "source": [
    "# Parameters\n",
    "variance = 1\n"
   ]
  },
  {
   "cell_type": "markdown",
   "id": "391cdbfd",
   "metadata": {
    "id": "391cdbfd",
    "papermill": {
     "duration": 0.006814,
     "end_time": "2022-03-11T10:09:15.589666",
     "exception": false,
     "start_time": "2022-03-11T10:09:15.582852",
     "status": "completed"
    },
    "tags": []
   },
   "source": [
    "## Dataset \n"
   ]
  },
  {
   "cell_type": "code",
   "execution_count": 5,
   "id": "5b51f161",
   "metadata": {
    "execution": {
     "iopub.execute_input": "2022-03-11T10:09:15.605137Z",
     "iopub.status.busy": "2022-03-11T10:09:15.604774Z",
     "iopub.status.idle": "2022-03-11T10:09:15.606075Z",
     "shell.execute_reply": "2022-03-11T10:09:15.606309Z"
    },
    "id": "5b51f161",
    "papermill": {
     "duration": 0.009977,
     "end_time": "2022-03-11T10:09:15.606420",
     "exception": false,
     "start_time": "2022-03-11T10:09:15.596443",
     "status": "completed"
    },
    "tags": []
   },
   "outputs": [],
   "source": [
    "#Parameters \n",
    "n_features = 13\n",
    "n_samples= 506\n",
    "n_target = 1 "
   ]
  },
  {
   "cell_type": "code",
   "execution_count": 6,
   "id": "5d6eced4",
   "metadata": {
    "execution": {
     "iopub.execute_input": "2022-03-11T10:09:15.622048Z",
     "iopub.status.busy": "2022-03-11T10:09:15.621661Z",
     "iopub.status.idle": "2022-03-11T10:09:15.632457Z",
     "shell.execute_reply": "2022-03-11T10:09:15.632708Z"
    },
    "id": "5d6eced4",
    "papermill": {
     "duration": 0.019541,
     "end_time": "2022-03-11T10:09:15.632831",
     "exception": false,
     "start_time": "2022-03-11T10:09:15.613290",
     "status": "completed"
    },
    "tags": []
   },
   "outputs": [
    {
     "name": "stdout",
     "output_type": "stream",
     "text": [
      "         X1        X2        X3        X4        X5        X6        X7  \\\n",
      "0 -0.419782  0.284830 -1.287909 -0.272599 -0.144217  0.413672 -0.120013   \n",
      "1 -0.417339 -0.487722 -0.593381 -0.272599 -0.740262  0.194274  0.367166   \n",
      "2 -0.417342 -0.487722 -0.593381 -0.272599 -0.740262  1.282714 -0.265812   \n",
      "3 -0.416750 -0.487722 -1.306878 -0.272599 -0.835284  1.016303 -0.809889   \n",
      "4 -0.412482 -0.487722 -1.306878 -0.272599 -0.835284  1.228577 -0.511180   \n",
      "\n",
      "         X8        X9       X10       X11       X12       X13         Y  \n",
      "0  0.140214 -0.982843 -0.666608 -1.459000  0.441052 -1.075562  0.159686  \n",
      "1  0.557160 -0.867883 -0.987329 -0.303094  0.441052 -0.492439 -0.101524  \n",
      "2  0.557160 -0.867883 -0.987329 -0.303094  0.396427 -1.208727  1.324247  \n",
      "3  1.077737 -0.752922 -1.106115  0.113032  0.416163 -1.361517  1.182758  \n",
      "4  1.077737 -0.752922 -1.106115  0.113032  0.441052 -1.026501  1.487503  \n"
     ]
    }
   ],
   "source": [
    "X,Y = bostonDataset.boston_data()"
   ]
  },
  {
   "cell_type": "code",
   "execution_count": 7,
   "id": "fe007438",
   "metadata": {
    "execution": {
     "iopub.execute_input": "2022-03-11T10:09:15.649824Z",
     "iopub.status.busy": "2022-03-11T10:09:15.649404Z",
     "iopub.status.idle": "2022-03-11T10:09:15.650813Z",
     "shell.execute_reply": "2022-03-11T10:09:15.651058Z"
    },
    "id": "fe007438",
    "papermill": {
     "duration": 0.011029,
     "end_time": "2022-03-11T10:09:15.651168",
     "exception": false,
     "start_time": "2022-03-11T10:09:15.640139",
     "status": "completed"
    },
    "tags": []
   },
   "outputs": [],
   "source": [
    "#Train test split for dataset \n",
    "X_train,X_test,Y_train,Y_test = train_test_split(X,Y,test_size = 0.2)\n",
    "train_data = dataset.CustomDataset(X_train,Y_train)\n",
    "test_data = dataset.CustomDataset(X_test,Y_test)\n"
   ]
  },
  {
   "cell_type": "markdown",
   "id": "a9a1af34",
   "metadata": {
    "id": "a9a1af34",
    "papermill": {
     "duration": 0.007096,
     "end_time": "2022-03-11T10:09:15.665395",
     "exception": false,
     "start_time": "2022-03-11T10:09:15.658299",
     "status": "completed"
    },
    "tags": []
   },
   "source": [
    "## Training Parameters "
   ]
  },
  {
   "cell_type": "code",
   "execution_count": 8,
   "id": "952b7fc8",
   "metadata": {
    "execution": {
     "iopub.execute_input": "2022-03-11T10:09:15.681756Z",
     "iopub.status.busy": "2022-03-11T10:09:15.681395Z",
     "iopub.status.idle": "2022-03-11T10:09:15.682708Z",
     "shell.execute_reply": "2022-03-11T10:09:15.682950Z"
    },
    "id": "952b7fc8",
    "papermill": {
     "duration": 0.01063,
     "end_time": "2022-03-11T10:09:15.683057",
     "exception": false,
     "start_time": "2022-03-11T10:09:15.672427",
     "status": "completed"
    },
    "tags": []
   },
   "outputs": [],
   "source": [
    "batch_size = 64\n",
    "n_epochs = 1000\n",
    "#Select the device \n",
    "device = torch.device('cuda' if torch.cuda.is_available() else 'cpu')"
   ]
  },
  {
   "cell_type": "markdown",
   "id": "a95e1600",
   "metadata": {
    "id": "a95e1600",
    "papermill": {
     "duration": 0.007073,
     "end_time": "2022-03-11T10:09:15.697273",
     "exception": false,
     "start_time": "2022-03-11T10:09:15.690200",
     "status": "completed"
    },
    "tags": []
   },
   "source": [
    "# ABC Pre-generator Model \n",
    "\n",
    "1. The catboost model is used as a pre-generator model for the ABC-GAN. \n",
    "2. The model is first trained on the entire dataset \n",
    "3. It generats X,Y pairs and we add some Gaussian noise with mean 0 and variance 1 to it which is then feed as input to the generator.\n"
   ]
  },
  {
   "cell_type": "code",
   "execution_count": 9,
   "id": "ff8ce7bd",
   "metadata": {
    "execution": {
     "iopub.execute_input": "2022-03-11T10:09:15.716279Z",
     "iopub.status.busy": "2022-03-11T10:09:15.715897Z",
     "iopub.status.idle": "2022-03-11T10:09:16.748720Z",
     "shell.execute_reply": "2022-03-11T10:09:16.749019Z"
    },
    "id": "ff8ce7bd",
    "papermill": {
     "duration": 1.044772,
     "end_time": "2022-03-11T10:09:16.749140",
     "exception": false,
     "start_time": "2022-03-11T10:09:15.704368",
     "status": "completed"
    },
    "tags": []
   },
   "outputs": [
    {
     "name": "stdout",
     "output_type": "stream",
     "text": [
      "Learning rate set to 0.033215\n",
      "0:\tlearn: 0.9949186\ttotal: 58ms\tremaining: 57.9s\n",
      "1:\tlearn: 0.9762634\ttotal: 58.9ms\tremaining: 29.4s\n",
      "2:\tlearn: 0.9547734\ttotal: 59.8ms\tremaining: 19.9s\n",
      "3:\tlearn: 0.9373292\ttotal: 60.6ms\tremaining: 15.1s\n",
      "4:\tlearn: 0.9203446\ttotal: 61.5ms\tremaining: 12.2s\n",
      "5:\tlearn: 0.9028768\ttotal: 62.5ms\tremaining: 10.3s\n",
      "6:\tlearn: 0.8858076\ttotal: 63.5ms\tremaining: 9.01s\n",
      "7:\tlearn: 0.8693855\ttotal: 64.4ms\tremaining: 7.99s\n",
      "8:\tlearn: 0.8540958\ttotal: 65.3ms\tremaining: 7.19s\n",
      "9:\tlearn: 0.8385520\ttotal: 66.4ms\tremaining: 6.58s\n",
      "10:\tlearn: 0.8237287\ttotal: 67.5ms\tremaining: 6.07s\n",
      "11:\tlearn: 0.8099602\ttotal: 68.5ms\tremaining: 5.64s\n",
      "12:\tlearn: 0.7944095\ttotal: 69.5ms\tremaining: 5.27s\n",
      "13:\tlearn: 0.7793890\ttotal: 70.5ms\tremaining: 4.96s\n",
      "14:\tlearn: 0.7662694\ttotal: 71.4ms\tremaining: 4.69s\n",
      "15:\tlearn: 0.7528459\ttotal: 72.6ms\tremaining: 4.47s\n"
     ]
    },
    {
     "name": "stdout",
     "output_type": "stream",
     "text": [
      "16:\tlearn: 0.7421068\ttotal: 73.9ms\tremaining: 4.27s\n",
      "17:\tlearn: 0.7287417\ttotal: 75.1ms\tremaining: 4.1s\n",
      "18:\tlearn: 0.7162173\ttotal: 76.1ms\tremaining: 3.93s\n",
      "19:\tlearn: 0.7036428\ttotal: 77.1ms\tremaining: 3.77s\n",
      "20:\tlearn: 0.6909012\ttotal: 78ms\tremaining: 3.64s\n",
      "21:\tlearn: 0.6796563\ttotal: 79ms\tremaining: 3.51s\n",
      "22:\tlearn: 0.6695558\ttotal: 79.9ms\tremaining: 3.4s\n",
      "23:\tlearn: 0.6599293\ttotal: 80.9ms\tremaining: 3.29s\n",
      "24:\tlearn: 0.6502001\ttotal: 81.7ms\tremaining: 3.19s\n",
      "25:\tlearn: 0.6395187\ttotal: 82.6ms\tremaining: 3.1s\n",
      "26:\tlearn: 0.6292322\ttotal: 83.4ms\tremaining: 3.01s\n",
      "27:\tlearn: 0.6198654\ttotal: 84.1ms\tremaining: 2.92s\n",
      "28:\tlearn: 0.6115983\ttotal: 84.9ms\tremaining: 2.84s\n",
      "29:\tlearn: 0.6021273\ttotal: 85.7ms\tremaining: 2.77s\n",
      "30:\tlearn: 0.5941511\ttotal: 86.5ms\tremaining: 2.7s\n",
      "31:\tlearn: 0.5849842\ttotal: 87.4ms\tremaining: 2.64s\n",
      "32:\tlearn: 0.5775757\ttotal: 88.2ms\tremaining: 2.58s\n",
      "33:\tlearn: 0.5705007\ttotal: 89ms\tremaining: 2.53s\n",
      "34:\tlearn: 0.5633943\ttotal: 89.9ms\tremaining: 2.48s\n",
      "35:\tlearn: 0.5560822\ttotal: 90.6ms\tremaining: 2.42s\n",
      "36:\tlearn: 0.5489711\ttotal: 91.4ms\tremaining: 2.38s\n",
      "37:\tlearn: 0.5415231\ttotal: 92.2ms\tremaining: 2.33s\n",
      "38:\tlearn: 0.5340795\ttotal: 92.9ms\tremaining: 2.29s\n",
      "39:\tlearn: 0.5259488\ttotal: 93.7ms\tremaining: 2.25s\n",
      "40:\tlearn: 0.5202079\ttotal: 94.5ms\tremaining: 2.21s\n",
      "41:\tlearn: 0.5143867\ttotal: 95.3ms\tremaining: 2.17s\n",
      "42:\tlearn: 0.5075985\ttotal: 96ms\tremaining: 2.14s\n",
      "43:\tlearn: 0.5017381\ttotal: 96.8ms\tremaining: 2.1s\n",
      "44:\tlearn: 0.4952191\ttotal: 97.6ms\tremaining: 2.07s\n",
      "45:\tlearn: 0.4895816\ttotal: 98.3ms\tremaining: 2.04s\n",
      "46:\tlearn: 0.4844862\ttotal: 99ms\tremaining: 2.01s\n",
      "47:\tlearn: 0.4802546\ttotal: 99.7ms\tremaining: 1.98s\n",
      "48:\tlearn: 0.4750117\ttotal: 100ms\tremaining: 1.95s\n",
      "49:\tlearn: 0.4697758\ttotal: 101ms\tremaining: 1.92s\n",
      "50:\tlearn: 0.4652341\ttotal: 102ms\tremaining: 1.9s\n",
      "51:\tlearn: 0.4605059\ttotal: 103ms\tremaining: 1.87s\n",
      "52:\tlearn: 0.4552655\ttotal: 103ms\tremaining: 1.85s\n",
      "53:\tlearn: 0.4507246\ttotal: 104ms\tremaining: 1.82s\n",
      "54:\tlearn: 0.4457180\ttotal: 105ms\tremaining: 1.8s\n",
      "55:\tlearn: 0.4419223\ttotal: 106ms\tremaining: 1.78s\n",
      "56:\tlearn: 0.4375578\ttotal: 107ms\tremaining: 1.76s\n",
      "57:\tlearn: 0.4330706\ttotal: 107ms\tremaining: 1.75s\n",
      "58:\tlearn: 0.4289329\ttotal: 108ms\tremaining: 1.73s\n",
      "59:\tlearn: 0.4247933\ttotal: 109ms\tremaining: 1.71s\n",
      "60:\tlearn: 0.4202427\ttotal: 110ms\tremaining: 1.7s\n",
      "61:\tlearn: 0.4163974\ttotal: 111ms\tremaining: 1.68s\n",
      "62:\tlearn: 0.4132626\ttotal: 112ms\tremaining: 1.67s\n",
      "63:\tlearn: 0.4095732\ttotal: 113ms\tremaining: 1.65s\n",
      "64:\tlearn: 0.4060552\ttotal: 114ms\tremaining: 1.63s\n",
      "65:\tlearn: 0.4014922\ttotal: 114ms\tremaining: 1.62s\n",
      "66:\tlearn: 0.3979084\ttotal: 115ms\tremaining: 1.6s\n",
      "67:\tlearn: 0.3943740\ttotal: 116ms\tremaining: 1.59s\n",
      "68:\tlearn: 0.3915175\ttotal: 117ms\tremaining: 1.57s\n",
      "69:\tlearn: 0.3887311\ttotal: 118ms\tremaining: 1.56s\n",
      "70:\tlearn: 0.3853370\ttotal: 118ms\tremaining: 1.55s\n",
      "71:\tlearn: 0.3816394\ttotal: 119ms\tremaining: 1.54s\n",
      "72:\tlearn: 0.3789245\ttotal: 120ms\tremaining: 1.52s\n",
      "73:\tlearn: 0.3757099\ttotal: 121ms\tremaining: 1.51s\n",
      "74:\tlearn: 0.3730922\ttotal: 122ms\tremaining: 1.5s\n",
      "75:\tlearn: 0.3705285\ttotal: 123ms\tremaining: 1.49s\n",
      "76:\tlearn: 0.3674708\ttotal: 123ms\tremaining: 1.48s\n",
      "77:\tlearn: 0.3651755\ttotal: 124ms\tremaining: 1.47s\n",
      "78:\tlearn: 0.3631885\ttotal: 125ms\tremaining: 1.46s\n",
      "79:\tlearn: 0.3601435\ttotal: 126ms\tremaining: 1.45s\n",
      "80:\tlearn: 0.3572926\ttotal: 127ms\tremaining: 1.44s\n",
      "81:\tlearn: 0.3549038\ttotal: 127ms\tremaining: 1.43s\n",
      "82:\tlearn: 0.3526611\ttotal: 128ms\tremaining: 1.42s\n",
      "83:\tlearn: 0.3504223\ttotal: 130ms\tremaining: 1.41s\n",
      "84:\tlearn: 0.3483639\ttotal: 130ms\tremaining: 1.4s\n",
      "85:\tlearn: 0.3459395\ttotal: 131ms\tremaining: 1.39s\n",
      "86:\tlearn: 0.3439276\ttotal: 132ms\tremaining: 1.39s\n",
      "87:\tlearn: 0.3417625\ttotal: 133ms\tremaining: 1.38s\n",
      "88:\tlearn: 0.3395116\ttotal: 134ms\tremaining: 1.37s\n",
      "89:\tlearn: 0.3373742\ttotal: 135ms\tremaining: 1.36s\n",
      "90:\tlearn: 0.3350837\ttotal: 135ms\tremaining: 1.35s\n",
      "91:\tlearn: 0.3329478\ttotal: 136ms\tremaining: 1.34s\n",
      "92:\tlearn: 0.3315449\ttotal: 137ms\tremaining: 1.33s\n",
      "93:\tlearn: 0.3297745\ttotal: 138ms\tremaining: 1.33s\n",
      "94:\tlearn: 0.3276594\ttotal: 139ms\tremaining: 1.32s\n",
      "95:\tlearn: 0.3270164\ttotal: 139ms\tremaining: 1.31s\n",
      "96:\tlearn: 0.3255053\ttotal: 140ms\tremaining: 1.3s\n",
      "97:\tlearn: 0.3240014\ttotal: 141ms\tremaining: 1.3s\n",
      "98:\tlearn: 0.3219656\ttotal: 142ms\tremaining: 1.29s\n",
      "99:\tlearn: 0.3198048\ttotal: 143ms\tremaining: 1.28s\n",
      "100:\tlearn: 0.3176776\ttotal: 144ms\tremaining: 1.28s\n",
      "101:\tlearn: 0.3159922\ttotal: 144ms\tremaining: 1.27s\n",
      "102:\tlearn: 0.3143972\ttotal: 145ms\tremaining: 1.26s\n",
      "103:\tlearn: 0.3129540\ttotal: 146ms\tremaining: 1.26s\n",
      "104:\tlearn: 0.3116955\ttotal: 147ms\tremaining: 1.25s\n",
      "105:\tlearn: 0.3097964\ttotal: 148ms\tremaining: 1.24s\n",
      "106:\tlearn: 0.3079800\ttotal: 148ms\tremaining: 1.24s\n",
      "107:\tlearn: 0.3061473\ttotal: 149ms\tremaining: 1.23s\n",
      "108:\tlearn: 0.3048119\ttotal: 150ms\tremaining: 1.23s\n",
      "109:\tlearn: 0.3037736\ttotal: 151ms\tremaining: 1.22s\n",
      "110:\tlearn: 0.3021785\ttotal: 152ms\tremaining: 1.22s\n",
      "111:\tlearn: 0.3008012\ttotal: 153ms\tremaining: 1.22s\n",
      "112:\tlearn: 0.2992251\ttotal: 154ms\tremaining: 1.21s\n",
      "113:\tlearn: 0.2972033\ttotal: 155ms\tremaining: 1.2s\n"
     ]
    },
    {
     "name": "stdout",
     "output_type": "stream",
     "text": [
      "114:\tlearn: 0.2962464\ttotal: 156ms\tremaining: 1.2s\n",
      "115:\tlearn: 0.2948692\ttotal: 157ms\tremaining: 1.2s\n",
      "116:\tlearn: 0.2932894\ttotal: 158ms\tremaining: 1.19s\n",
      "117:\tlearn: 0.2917771\ttotal: 158ms\tremaining: 1.18s\n",
      "118:\tlearn: 0.2906045\ttotal: 159ms\tremaining: 1.18s\n",
      "119:\tlearn: 0.2897851\ttotal: 160ms\tremaining: 1.17s\n",
      "120:\tlearn: 0.2885916\ttotal: 162ms\tremaining: 1.17s\n",
      "121:\tlearn: 0.2875522\ttotal: 162ms\tremaining: 1.17s\n",
      "122:\tlearn: 0.2862505\ttotal: 163ms\tremaining: 1.16s\n",
      "123:\tlearn: 0.2849642\ttotal: 164ms\tremaining: 1.16s\n",
      "124:\tlearn: 0.2839067\ttotal: 165ms\tremaining: 1.15s\n",
      "125:\tlearn: 0.2824418\ttotal: 165ms\tremaining: 1.15s\n",
      "126:\tlearn: 0.2815180\ttotal: 166ms\tremaining: 1.14s\n",
      "127:\tlearn: 0.2807670\ttotal: 167ms\tremaining: 1.14s\n",
      "128:\tlearn: 0.2796800\ttotal: 168ms\tremaining: 1.13s\n",
      "129:\tlearn: 0.2786665\ttotal: 169ms\tremaining: 1.13s\n",
      "130:\tlearn: 0.2778135\ttotal: 169ms\tremaining: 1.12s\n",
      "131:\tlearn: 0.2767821\ttotal: 170ms\tremaining: 1.12s\n",
      "132:\tlearn: 0.2760758\ttotal: 171ms\tremaining: 1.11s\n",
      "133:\tlearn: 0.2751739\ttotal: 172ms\tremaining: 1.11s\n",
      "134:\tlearn: 0.2744523\ttotal: 173ms\tremaining: 1.11s\n",
      "135:\tlearn: 0.2732560\ttotal: 174ms\tremaining: 1.1s\n",
      "136:\tlearn: 0.2721502\ttotal: 178ms\tremaining: 1.12s\n",
      "137:\tlearn: 0.2713601\ttotal: 179ms\tremaining: 1.11s\n",
      "138:\tlearn: 0.2706411\ttotal: 180ms\tremaining: 1.11s\n",
      "139:\tlearn: 0.2699376\ttotal: 181ms\tremaining: 1.11s\n",
      "140:\tlearn: 0.2691081\ttotal: 182ms\tremaining: 1.11s\n",
      "141:\tlearn: 0.2683450\ttotal: 182ms\tremaining: 1.1s\n",
      "142:\tlearn: 0.2672956\ttotal: 183ms\tremaining: 1.1s\n",
      "143:\tlearn: 0.2662983\ttotal: 184ms\tremaining: 1.09s\n",
      "144:\tlearn: 0.2652495\ttotal: 185ms\tremaining: 1.09s\n",
      "145:\tlearn: 0.2646924\ttotal: 186ms\tremaining: 1.08s\n",
      "146:\tlearn: 0.2642337\ttotal: 187ms\tremaining: 1.08s\n",
      "147:\tlearn: 0.2631811\ttotal: 187ms\tremaining: 1.08s\n",
      "148:\tlearn: 0.2624020\ttotal: 188ms\tremaining: 1.08s\n",
      "149:\tlearn: 0.2613161\ttotal: 190ms\tremaining: 1.08s\n",
      "150:\tlearn: 0.2600356\ttotal: 191ms\tremaining: 1.07s\n",
      "151:\tlearn: 0.2594045\ttotal: 192ms\tremaining: 1.07s\n",
      "152:\tlearn: 0.2584988\ttotal: 193ms\tremaining: 1.07s\n",
      "153:\tlearn: 0.2580314\ttotal: 194ms\tremaining: 1.06s\n",
      "154:\tlearn: 0.2576576\ttotal: 194ms\tremaining: 1.06s\n",
      "155:\tlearn: 0.2569325\ttotal: 195ms\tremaining: 1.06s\n",
      "156:\tlearn: 0.2561663\ttotal: 196ms\tremaining: 1.05s\n",
      "157:\tlearn: 0.2555166\ttotal: 197ms\tremaining: 1.05s\n",
      "158:\tlearn: 0.2546541\ttotal: 198ms\tremaining: 1.04s\n",
      "159:\tlearn: 0.2544967\ttotal: 198ms\tremaining: 1.04s\n",
      "160:\tlearn: 0.2536883\ttotal: 199ms\tremaining: 1.04s\n",
      "161:\tlearn: 0.2532718\ttotal: 200ms\tremaining: 1.03s\n",
      "162:\tlearn: 0.2523487\ttotal: 201ms\tremaining: 1.03s\n",
      "163:\tlearn: 0.2511949\ttotal: 202ms\tremaining: 1.03s\n",
      "164:\tlearn: 0.2507295\ttotal: 203ms\tremaining: 1.03s\n",
      "165:\tlearn: 0.2501716\ttotal: 204ms\tremaining: 1.02s\n",
      "166:\tlearn: 0.2494618\ttotal: 205ms\tremaining: 1.02s\n",
      "167:\tlearn: 0.2488140\ttotal: 205ms\tremaining: 1.02s\n",
      "168:\tlearn: 0.2484234\ttotal: 206ms\tremaining: 1.01s\n",
      "169:\tlearn: 0.2477921\ttotal: 207ms\tremaining: 1.01s\n",
      "170:\tlearn: 0.2469851\ttotal: 208ms\tremaining: 1.01s\n",
      "171:\tlearn: 0.2460296\ttotal: 209ms\tremaining: 1s\n",
      "172:\tlearn: 0.2453929\ttotal: 209ms\tremaining: 1s\n",
      "173:\tlearn: 0.2448132\ttotal: 210ms\tremaining: 998ms\n",
      "174:\tlearn: 0.2440341\ttotal: 211ms\tremaining: 995ms\n",
      "175:\tlearn: 0.2432717\ttotal: 212ms\tremaining: 992ms\n",
      "176:\tlearn: 0.2425451\ttotal: 213ms\tremaining: 988ms\n",
      "177:\tlearn: 0.2415563\ttotal: 213ms\tremaining: 986ms\n",
      "178:\tlearn: 0.2408230\ttotal: 214ms\tremaining: 982ms\n",
      "179:\tlearn: 0.2402740\ttotal: 215ms\tremaining: 980ms\n",
      "180:\tlearn: 0.2396541\ttotal: 216ms\tremaining: 977ms\n",
      "181:\tlearn: 0.2386815\ttotal: 217ms\tremaining: 975ms\n",
      "182:\tlearn: 0.2382249\ttotal: 218ms\tremaining: 972ms\n",
      "183:\tlearn: 0.2377582\ttotal: 219ms\tremaining: 970ms\n",
      "184:\tlearn: 0.2373056\ttotal: 220ms\tremaining: 967ms\n",
      "185:\tlearn: 0.2366814\ttotal: 220ms\tremaining: 964ms\n",
      "186:\tlearn: 0.2360557\ttotal: 221ms\tremaining: 962ms\n",
      "187:\tlearn: 0.2353789\ttotal: 222ms\tremaining: 959ms\n",
      "188:\tlearn: 0.2345698\ttotal: 223ms\tremaining: 956ms\n",
      "189:\tlearn: 0.2340181\ttotal: 224ms\tremaining: 953ms\n",
      "190:\tlearn: 0.2332544\ttotal: 224ms\tremaining: 951ms\n",
      "191:\tlearn: 0.2329083\ttotal: 225ms\tremaining: 948ms\n",
      "192:\tlearn: 0.2320263\ttotal: 226ms\tremaining: 945ms\n",
      "193:\tlearn: 0.2316215\ttotal: 227ms\tremaining: 943ms\n",
      "194:\tlearn: 0.2312595\ttotal: 228ms\tremaining: 940ms\n",
      "195:\tlearn: 0.2306641\ttotal: 228ms\tremaining: 937ms\n",
      "196:\tlearn: 0.2303303\ttotal: 229ms\tremaining: 935ms\n",
      "197:\tlearn: 0.2297860\ttotal: 230ms\tremaining: 933ms\n",
      "198:\tlearn: 0.2292578\ttotal: 231ms\tremaining: 930ms\n",
      "199:\tlearn: 0.2288973\ttotal: 232ms\tremaining: 928ms\n",
      "200:\tlearn: 0.2283320\ttotal: 233ms\tremaining: 926ms\n",
      "201:\tlearn: 0.2279849\ttotal: 234ms\tremaining: 924ms\n",
      "202:\tlearn: 0.2273731\ttotal: 235ms\tremaining: 921ms\n",
      "203:\tlearn: 0.2266302\ttotal: 236ms\tremaining: 919ms\n",
      "204:\tlearn: 0.2262727\ttotal: 236ms\tremaining: 917ms\n",
      "205:\tlearn: 0.2257105\ttotal: 237ms\tremaining: 914ms\n",
      "206:\tlearn: 0.2252172\ttotal: 238ms\tremaining: 912ms\n",
      "207:\tlearn: 0.2246790\ttotal: 239ms\tremaining: 910ms\n",
      "208:\tlearn: 0.2242265\ttotal: 240ms\tremaining: 908ms\n",
      "209:\tlearn: 0.2237296\ttotal: 241ms\tremaining: 905ms\n",
      "210:\tlearn: 0.2232135\ttotal: 241ms\tremaining: 903ms\n",
      "211:\tlearn: 0.2229662\ttotal: 242ms\tremaining: 900ms\n",
      "212:\tlearn: 0.2224851\ttotal: 243ms\tremaining: 898ms\n",
      "213:\tlearn: 0.2219156\ttotal: 244ms\tremaining: 895ms\n",
      "214:\tlearn: 0.2212791\ttotal: 245ms\tremaining: 893ms\n",
      "215:\tlearn: 0.2208001\ttotal: 246ms\tremaining: 893ms\n",
      "216:\tlearn: 0.2203487\ttotal: 247ms\tremaining: 891ms\n",
      "217:\tlearn: 0.2197280\ttotal: 248ms\tremaining: 889ms\n",
      "218:\tlearn: 0.2192647\ttotal: 249ms\tremaining: 887ms\n",
      "219:\tlearn: 0.2187862\ttotal: 249ms\tremaining: 884ms\n",
      "220:\tlearn: 0.2182833\ttotal: 250ms\tremaining: 882ms\n",
      "221:\tlearn: 0.2178261\ttotal: 251ms\tremaining: 880ms\n",
      "222:\tlearn: 0.2173578\ttotal: 253ms\tremaining: 880ms\n",
      "223:\tlearn: 0.2169397\ttotal: 253ms\tremaining: 878ms\n",
      "224:\tlearn: 0.2164824\ttotal: 254ms\tremaining: 876ms\n",
      "225:\tlearn: 0.2160897\ttotal: 255ms\tremaining: 874ms\n",
      "226:\tlearn: 0.2157171\ttotal: 256ms\tremaining: 872ms\n",
      "227:\tlearn: 0.2152653\ttotal: 257ms\tremaining: 870ms\n",
      "228:\tlearn: 0.2147762\ttotal: 258ms\tremaining: 868ms\n",
      "229:\tlearn: 0.2140981\ttotal: 259ms\tremaining: 866ms\n",
      "230:\tlearn: 0.2137004\ttotal: 259ms\tremaining: 864ms\n",
      "231:\tlearn: 0.2132656\ttotal: 260ms\tremaining: 861ms\n",
      "232:\tlearn: 0.2129470\ttotal: 261ms\tremaining: 858ms\n",
      "233:\tlearn: 0.2122940\ttotal: 261ms\tremaining: 856ms\n",
      "234:\tlearn: 0.2118758\ttotal: 262ms\tremaining: 853ms\n",
      "235:\tlearn: 0.2112827\ttotal: 263ms\tremaining: 851ms\n"
     ]
    },
    {
     "name": "stdout",
     "output_type": "stream",
     "text": [
      "236:\tlearn: 0.2107587\ttotal: 264ms\tremaining: 850ms\n",
      "237:\tlearn: 0.2102961\ttotal: 265ms\tremaining: 848ms\n",
      "238:\tlearn: 0.2098082\ttotal: 266ms\tremaining: 846ms\n",
      "239:\tlearn: 0.2093422\ttotal: 267ms\tremaining: 844ms\n",
      "240:\tlearn: 0.2087542\ttotal: 267ms\tremaining: 842ms\n",
      "241:\tlearn: 0.2085168\ttotal: 268ms\tremaining: 839ms\n",
      "242:\tlearn: 0.2082256\ttotal: 269ms\tremaining: 837ms\n",
      "243:\tlearn: 0.2080457\ttotal: 269ms\tremaining: 835ms\n",
      "244:\tlearn: 0.2076209\ttotal: 270ms\tremaining: 832ms\n",
      "245:\tlearn: 0.2071076\ttotal: 271ms\tremaining: 830ms\n",
      "246:\tlearn: 0.2067488\ttotal: 272ms\tremaining: 828ms\n",
      "247:\tlearn: 0.2066275\ttotal: 272ms\tremaining: 826ms\n",
      "248:\tlearn: 0.2063484\ttotal: 273ms\tremaining: 823ms\n",
      "249:\tlearn: 0.2059499\ttotal: 274ms\tremaining: 821ms\n",
      "250:\tlearn: 0.2055653\ttotal: 274ms\tremaining: 819ms\n",
      "251:\tlearn: 0.2050828\ttotal: 275ms\tremaining: 817ms\n",
      "252:\tlearn: 0.2046914\ttotal: 276ms\tremaining: 814ms\n",
      "253:\tlearn: 0.2041973\ttotal: 276ms\tremaining: 812ms\n",
      "254:\tlearn: 0.2038178\ttotal: 277ms\tremaining: 810ms\n",
      "255:\tlearn: 0.2033785\ttotal: 278ms\tremaining: 807ms\n",
      "256:\tlearn: 0.2029828\ttotal: 279ms\tremaining: 808ms\n",
      "257:\tlearn: 0.2026565\ttotal: 281ms\tremaining: 808ms\n",
      "258:\tlearn: 0.2021022\ttotal: 282ms\tremaining: 807ms\n",
      "259:\tlearn: 0.2015652\ttotal: 283ms\tremaining: 806ms\n",
      "260:\tlearn: 0.2009125\ttotal: 284ms\tremaining: 805ms\n",
      "261:\tlearn: 0.2008210\ttotal: 285ms\tremaining: 803ms\n",
      "262:\tlearn: 0.2003000\ttotal: 286ms\tremaining: 802ms\n",
      "263:\tlearn: 0.2001512\ttotal: 287ms\tremaining: 800ms\n",
      "264:\tlearn: 0.1997244\ttotal: 288ms\tremaining: 798ms\n",
      "265:\tlearn: 0.1992787\ttotal: 289ms\tremaining: 796ms\n",
      "266:\tlearn: 0.1986819\ttotal: 289ms\tremaining: 794ms\n",
      "267:\tlearn: 0.1983368\ttotal: 290ms\tremaining: 792ms\n",
      "268:\tlearn: 0.1980805\ttotal: 291ms\tremaining: 790ms\n",
      "269:\tlearn: 0.1975857\ttotal: 292ms\tremaining: 788ms\n",
      "270:\tlearn: 0.1974885\ttotal: 292ms\tremaining: 787ms\n",
      "271:\tlearn: 0.1972324\ttotal: 293ms\tremaining: 786ms\n",
      "272:\tlearn: 0.1968020\ttotal: 295ms\tremaining: 784ms\n",
      "273:\tlearn: 0.1966990\ttotal: 296ms\tremaining: 783ms\n",
      "274:\tlearn: 0.1962904\ttotal: 296ms\tremaining: 781ms\n",
      "275:\tlearn: 0.1958208\ttotal: 297ms\tremaining: 780ms\n",
      "276:\tlearn: 0.1957254\ttotal: 298ms\tremaining: 778ms\n",
      "277:\tlearn: 0.1950927\ttotal: 299ms\tremaining: 776ms\n",
      "278:\tlearn: 0.1948435\ttotal: 300ms\tremaining: 775ms\n",
      "279:\tlearn: 0.1947600\ttotal: 301ms\tremaining: 773ms\n",
      "280:\tlearn: 0.1946066\ttotal: 302ms\tremaining: 772ms\n",
      "281:\tlearn: 0.1945287\ttotal: 302ms\tremaining: 770ms\n",
      "282:\tlearn: 0.1941245\ttotal: 303ms\tremaining: 768ms\n",
      "283:\tlearn: 0.1937058\ttotal: 304ms\tremaining: 767ms\n",
      "284:\tlearn: 0.1936139\ttotal: 305ms\tremaining: 765ms\n",
      "285:\tlearn: 0.1932895\ttotal: 306ms\tremaining: 764ms\n",
      "286:\tlearn: 0.1928026\ttotal: 307ms\tremaining: 762ms\n",
      "287:\tlearn: 0.1924694\ttotal: 307ms\tremaining: 760ms\n",
      "288:\tlearn: 0.1919786\ttotal: 308ms\tremaining: 758ms\n",
      "289:\tlearn: 0.1914232\ttotal: 309ms\tremaining: 757ms\n",
      "290:\tlearn: 0.1910010\ttotal: 310ms\tremaining: 755ms\n",
      "291:\tlearn: 0.1906173\ttotal: 311ms\tremaining: 753ms\n",
      "292:\tlearn: 0.1900943\ttotal: 312ms\tremaining: 752ms\n",
      "293:\tlearn: 0.1898481\ttotal: 312ms\tremaining: 750ms\n",
      "294:\tlearn: 0.1894276\ttotal: 313ms\tremaining: 749ms\n",
      "295:\tlearn: 0.1888259\ttotal: 315ms\tremaining: 749ms\n",
      "296:\tlearn: 0.1882094\ttotal: 316ms\tremaining: 747ms\n",
      "297:\tlearn: 0.1876348\ttotal: 316ms\tremaining: 745ms\n",
      "298:\tlearn: 0.1872675\ttotal: 317ms\tremaining: 744ms\n",
      "299:\tlearn: 0.1867274\ttotal: 318ms\tremaining: 742ms\n",
      "300:\tlearn: 0.1862216\ttotal: 319ms\tremaining: 741ms\n",
      "301:\tlearn: 0.1861372\ttotal: 320ms\tremaining: 739ms\n",
      "302:\tlearn: 0.1855923\ttotal: 321ms\tremaining: 738ms\n",
      "303:\tlearn: 0.1850881\ttotal: 322ms\tremaining: 736ms\n",
      "304:\tlearn: 0.1847815\ttotal: 322ms\tremaining: 734ms\n",
      "305:\tlearn: 0.1844022\ttotal: 323ms\tremaining: 733ms\n",
      "306:\tlearn: 0.1841170\ttotal: 324ms\tremaining: 732ms\n",
      "307:\tlearn: 0.1835173\ttotal: 325ms\tremaining: 730ms\n",
      "308:\tlearn: 0.1834501\ttotal: 326ms\tremaining: 729ms\n",
      "309:\tlearn: 0.1828773\ttotal: 327ms\tremaining: 728ms\n",
      "310:\tlearn: 0.1825536\ttotal: 328ms\tremaining: 728ms\n",
      "311:\tlearn: 0.1821232\ttotal: 329ms\tremaining: 726ms\n",
      "312:\tlearn: 0.1815899\ttotal: 330ms\tremaining: 724ms\n",
      "313:\tlearn: 0.1810691\ttotal: 331ms\tremaining: 723ms\n",
      "314:\tlearn: 0.1807790\ttotal: 332ms\tremaining: 721ms\n",
      "315:\tlearn: 0.1802535\ttotal: 332ms\tremaining: 719ms\n",
      "316:\tlearn: 0.1799119\ttotal: 333ms\tremaining: 718ms\n",
      "317:\tlearn: 0.1794716\ttotal: 334ms\tremaining: 716ms\n",
      "318:\tlearn: 0.1790841\ttotal: 335ms\tremaining: 714ms\n",
      "319:\tlearn: 0.1786608\ttotal: 335ms\tremaining: 713ms\n",
      "320:\tlearn: 0.1781018\ttotal: 336ms\tremaining: 711ms\n",
      "321:\tlearn: 0.1778030\ttotal: 337ms\tremaining: 710ms\n",
      "322:\tlearn: 0.1773895\ttotal: 338ms\tremaining: 708ms\n",
      "323:\tlearn: 0.1768627\ttotal: 338ms\tremaining: 706ms\n",
      "324:\tlearn: 0.1766437\ttotal: 339ms\tremaining: 705ms\n",
      "325:\tlearn: 0.1763745\ttotal: 340ms\tremaining: 703ms\n",
      "326:\tlearn: 0.1759374\ttotal: 341ms\tremaining: 702ms\n",
      "327:\tlearn: 0.1755064\ttotal: 342ms\tremaining: 700ms\n",
      "328:\tlearn: 0.1754406\ttotal: 342ms\tremaining: 698ms\n",
      "329:\tlearn: 0.1748638\ttotal: 343ms\tremaining: 697ms\n",
      "330:\tlearn: 0.1745827\ttotal: 344ms\tremaining: 695ms\n",
      "331:\tlearn: 0.1745200\ttotal: 345ms\tremaining: 694ms\n"
     ]
    },
    {
     "name": "stdout",
     "output_type": "stream",
     "text": [
      "332:\tlearn: 0.1739982\ttotal: 346ms\tremaining: 693ms\n",
      "333:\tlearn: 0.1739365\ttotal: 347ms\tremaining: 691ms\n",
      "334:\tlearn: 0.1734588\ttotal: 348ms\tremaining: 690ms\n",
      "335:\tlearn: 0.1730683\ttotal: 348ms\tremaining: 688ms\n",
      "336:\tlearn: 0.1727027\ttotal: 349ms\tremaining: 687ms\n",
      "337:\tlearn: 0.1721496\ttotal: 350ms\tremaining: 686ms\n",
      "338:\tlearn: 0.1718158\ttotal: 351ms\tremaining: 684ms\n",
      "339:\tlearn: 0.1711816\ttotal: 352ms\tremaining: 683ms\n",
      "340:\tlearn: 0.1707207\ttotal: 353ms\tremaining: 681ms\n",
      "341:\tlearn: 0.1706517\ttotal: 353ms\tremaining: 680ms\n",
      "342:\tlearn: 0.1701756\ttotal: 354ms\tremaining: 678ms\n",
      "343:\tlearn: 0.1701163\ttotal: 355ms\tremaining: 677ms\n",
      "344:\tlearn: 0.1696451\ttotal: 356ms\tremaining: 676ms\n",
      "345:\tlearn: 0.1691698\ttotal: 357ms\tremaining: 675ms\n",
      "346:\tlearn: 0.1687357\ttotal: 358ms\tremaining: 674ms\n",
      "347:\tlearn: 0.1682639\ttotal: 359ms\tremaining: 672ms\n",
      "348:\tlearn: 0.1679298\ttotal: 360ms\tremaining: 671ms\n",
      "349:\tlearn: 0.1675419\ttotal: 361ms\tremaining: 670ms\n",
      "350:\tlearn: 0.1673587\ttotal: 361ms\tremaining: 668ms\n",
      "351:\tlearn: 0.1671043\ttotal: 362ms\tremaining: 667ms\n",
      "352:\tlearn: 0.1666100\ttotal: 363ms\tremaining: 665ms\n",
      "353:\tlearn: 0.1661445\ttotal: 364ms\tremaining: 664ms\n",
      "354:\tlearn: 0.1659623\ttotal: 364ms\tremaining: 662ms\n",
      "355:\tlearn: 0.1657086\ttotal: 365ms\tremaining: 661ms\n",
      "356:\tlearn: 0.1653930\ttotal: 366ms\tremaining: 660ms\n",
      "357:\tlearn: 0.1648831\ttotal: 367ms\tremaining: 658ms\n",
      "358:\tlearn: 0.1644607\ttotal: 368ms\tremaining: 657ms\n",
      "359:\tlearn: 0.1641087\ttotal: 369ms\tremaining: 655ms\n",
      "360:\tlearn: 0.1636524\ttotal: 369ms\tremaining: 654ms\n",
      "361:\tlearn: 0.1635994\ttotal: 370ms\tremaining: 653ms\n",
      "362:\tlearn: 0.1631593\ttotal: 371ms\tremaining: 651ms\n",
      "363:\tlearn: 0.1628208\ttotal: 372ms\tremaining: 650ms\n",
      "364:\tlearn: 0.1624510\ttotal: 373ms\tremaining: 648ms\n",
      "365:\tlearn: 0.1621592\ttotal: 374ms\tremaining: 647ms\n",
      "366:\tlearn: 0.1616632\ttotal: 374ms\tremaining: 646ms\n",
      "367:\tlearn: 0.1613505\ttotal: 375ms\tremaining: 644ms\n",
      "368:\tlearn: 0.1609063\ttotal: 376ms\tremaining: 643ms\n",
      "369:\tlearn: 0.1604360\ttotal: 377ms\tremaining: 642ms\n",
      "370:\tlearn: 0.1601196\ttotal: 378ms\tremaining: 640ms\n",
      "371:\tlearn: 0.1598119\ttotal: 379ms\tremaining: 640ms\n",
      "372:\tlearn: 0.1593446\ttotal: 380ms\tremaining: 639ms\n",
      "373:\tlearn: 0.1590194\ttotal: 381ms\tremaining: 637ms\n",
      "374:\tlearn: 0.1587777\ttotal: 381ms\tremaining: 636ms\n",
      "375:\tlearn: 0.1585039\ttotal: 382ms\tremaining: 634ms\n",
      "376:\tlearn: 0.1580062\ttotal: 383ms\tremaining: 633ms\n",
      "377:\tlearn: 0.1576475\ttotal: 384ms\tremaining: 632ms\n",
      "378:\tlearn: 0.1573726\ttotal: 385ms\tremaining: 630ms\n",
      "379:\tlearn: 0.1571949\ttotal: 385ms\tremaining: 629ms\n",
      "380:\tlearn: 0.1568533\ttotal: 387ms\tremaining: 628ms\n",
      "381:\tlearn: 0.1564253\ttotal: 388ms\tremaining: 627ms\n",
      "382:\tlearn: 0.1560081\ttotal: 389ms\tremaining: 626ms\n",
      "383:\tlearn: 0.1555447\ttotal: 390ms\tremaining: 625ms\n",
      "384:\tlearn: 0.1552202\ttotal: 390ms\tremaining: 623ms\n",
      "385:\tlearn: 0.1548085\ttotal: 391ms\tremaining: 622ms\n",
      "386:\tlearn: 0.1544654\ttotal: 392ms\tremaining: 621ms\n",
      "387:\tlearn: 0.1540501\ttotal: 393ms\tremaining: 620ms\n",
      "388:\tlearn: 0.1536603\ttotal: 394ms\tremaining: 619ms\n",
      "389:\tlearn: 0.1532779\ttotal: 395ms\tremaining: 618ms\n",
      "390:\tlearn: 0.1531432\ttotal: 396ms\tremaining: 616ms\n",
      "391:\tlearn: 0.1529126\ttotal: 397ms\tremaining: 615ms\n",
      "392:\tlearn: 0.1524804\ttotal: 397ms\tremaining: 614ms\n",
      "393:\tlearn: 0.1520712\ttotal: 398ms\tremaining: 612ms\n",
      "394:\tlearn: 0.1517758\ttotal: 399ms\tremaining: 611ms\n",
      "395:\tlearn: 0.1515485\ttotal: 400ms\tremaining: 610ms\n",
      "396:\tlearn: 0.1512712\ttotal: 401ms\tremaining: 609ms\n",
      "397:\tlearn: 0.1509562\ttotal: 401ms\tremaining: 607ms\n",
      "398:\tlearn: 0.1507597\ttotal: 402ms\tremaining: 606ms\n",
      "399:\tlearn: 0.1504194\ttotal: 403ms\tremaining: 604ms\n",
      "400:\tlearn: 0.1499284\ttotal: 404ms\tremaining: 603ms\n",
      "401:\tlearn: 0.1498060\ttotal: 405ms\tremaining: 602ms\n",
      "402:\tlearn: 0.1496891\ttotal: 405ms\tremaining: 600ms\n",
      "403:\tlearn: 0.1495256\ttotal: 406ms\tremaining: 599ms\n",
      "404:\tlearn: 0.1492779\ttotal: 407ms\tremaining: 598ms\n",
      "405:\tlearn: 0.1487561\ttotal: 408ms\tremaining: 597ms\n",
      "406:\tlearn: 0.1483257\ttotal: 409ms\tremaining: 595ms\n",
      "407:\tlearn: 0.1479480\ttotal: 410ms\tremaining: 594ms\n",
      "408:\tlearn: 0.1475879\ttotal: 410ms\tremaining: 593ms\n",
      "409:\tlearn: 0.1473267\ttotal: 411ms\tremaining: 592ms\n",
      "410:\tlearn: 0.1469032\ttotal: 412ms\tremaining: 590ms\n",
      "411:\tlearn: 0.1466386\ttotal: 413ms\tremaining: 589ms\n",
      "412:\tlearn: 0.1462276\ttotal: 414ms\tremaining: 588ms\n",
      "413:\tlearn: 0.1461613\ttotal: 414ms\tremaining: 586ms\n",
      "414:\tlearn: 0.1458182\ttotal: 415ms\tremaining: 585ms\n",
      "415:\tlearn: 0.1454644\ttotal: 416ms\tremaining: 584ms\n",
      "416:\tlearn: 0.1450605\ttotal: 417ms\tremaining: 583ms\n",
      "417:\tlearn: 0.1447333\ttotal: 417ms\tremaining: 581ms\n",
      "418:\tlearn: 0.1443463\ttotal: 418ms\tremaining: 580ms\n",
      "419:\tlearn: 0.1440130\ttotal: 419ms\tremaining: 579ms\n",
      "420:\tlearn: 0.1436231\ttotal: 420ms\tremaining: 578ms\n",
      "421:\tlearn: 0.1433488\ttotal: 421ms\tremaining: 576ms\n",
      "422:\tlearn: 0.1429909\ttotal: 422ms\tremaining: 575ms\n",
      "423:\tlearn: 0.1426935\ttotal: 423ms\tremaining: 574ms\n",
      "424:\tlearn: 0.1424337\ttotal: 423ms\tremaining: 573ms\n",
      "425:\tlearn: 0.1421408\ttotal: 425ms\tremaining: 572ms\n",
      "426:\tlearn: 0.1418897\ttotal: 425ms\tremaining: 571ms\n",
      "427:\tlearn: 0.1415995\ttotal: 426ms\tremaining: 569ms\n",
      "428:\tlearn: 0.1414484\ttotal: 427ms\tremaining: 568ms\n",
      "429:\tlearn: 0.1412878\ttotal: 428ms\tremaining: 567ms\n",
      "430:\tlearn: 0.1408793\ttotal: 429ms\tremaining: 566ms\n",
      "431:\tlearn: 0.1408308\ttotal: 430ms\tremaining: 565ms\n",
      "432:\tlearn: 0.1406442\ttotal: 431ms\tremaining: 564ms\n",
      "433:\tlearn: 0.1402574\ttotal: 432ms\tremaining: 563ms\n",
      "434:\tlearn: 0.1401355\ttotal: 432ms\tremaining: 562ms\n",
      "435:\tlearn: 0.1398232\ttotal: 433ms\tremaining: 560ms\n",
      "436:\tlearn: 0.1394796\ttotal: 434ms\tremaining: 559ms\n",
      "437:\tlearn: 0.1394326\ttotal: 435ms\tremaining: 558ms\n",
      "438:\tlearn: 0.1391627\ttotal: 435ms\tremaining: 556ms\n",
      "439:\tlearn: 0.1388796\ttotal: 436ms\tremaining: 555ms\n",
      "440:\tlearn: 0.1386007\ttotal: 437ms\tremaining: 554ms\n",
      "441:\tlearn: 0.1382554\ttotal: 438ms\tremaining: 553ms\n",
      "442:\tlearn: 0.1379781\ttotal: 439ms\tremaining: 552ms\n",
      "443:\tlearn: 0.1376901\ttotal: 440ms\tremaining: 551ms\n",
      "444:\tlearn: 0.1374534\ttotal: 441ms\tremaining: 550ms\n",
      "445:\tlearn: 0.1372825\ttotal: 441ms\tremaining: 548ms\n",
      "446:\tlearn: 0.1369757\ttotal: 442ms\tremaining: 547ms\n",
      "447:\tlearn: 0.1366819\ttotal: 443ms\tremaining: 546ms\n",
      "448:\tlearn: 0.1362870\ttotal: 444ms\tremaining: 545ms\n",
      "449:\tlearn: 0.1359562\ttotal: 445ms\tremaining: 543ms\n",
      "450:\tlearn: 0.1358085\ttotal: 446ms\tremaining: 542ms\n",
      "451:\tlearn: 0.1357007\ttotal: 446ms\tremaining: 541ms\n",
      "452:\tlearn: 0.1353714\ttotal: 447ms\tremaining: 540ms\n",
      "453:\tlearn: 0.1350844\ttotal: 448ms\tremaining: 539ms\n",
      "454:\tlearn: 0.1348566\ttotal: 449ms\tremaining: 538ms\n",
      "455:\tlearn: 0.1345281\ttotal: 450ms\tremaining: 537ms\n",
      "456:\tlearn: 0.1342383\ttotal: 451ms\tremaining: 536ms\n",
      "457:\tlearn: 0.1339405\ttotal: 452ms\tremaining: 535ms\n",
      "458:\tlearn: 0.1338960\ttotal: 453ms\tremaining: 534ms\n"
     ]
    },
    {
     "name": "stdout",
     "output_type": "stream",
     "text": [
      "459:\tlearn: 0.1334766\ttotal: 454ms\tremaining: 533ms\n",
      "460:\tlearn: 0.1332451\ttotal: 455ms\tremaining: 532ms\n",
      "461:\tlearn: 0.1331073\ttotal: 456ms\tremaining: 531ms\n",
      "462:\tlearn: 0.1327796\ttotal: 457ms\tremaining: 530ms\n",
      "463:\tlearn: 0.1324418\ttotal: 458ms\tremaining: 529ms\n",
      "464:\tlearn: 0.1321268\ttotal: 458ms\tremaining: 528ms\n",
      "465:\tlearn: 0.1319683\ttotal: 459ms\tremaining: 526ms\n",
      "466:\tlearn: 0.1318251\ttotal: 460ms\tremaining: 525ms\n",
      "467:\tlearn: 0.1317647\ttotal: 461ms\tremaining: 524ms\n",
      "468:\tlearn: 0.1315845\ttotal: 462ms\tremaining: 523ms\n",
      "469:\tlearn: 0.1313279\ttotal: 463ms\tremaining: 522ms\n",
      "470:\tlearn: 0.1311268\ttotal: 463ms\tremaining: 520ms\n",
      "471:\tlearn: 0.1309063\ttotal: 464ms\tremaining: 519ms\n",
      "472:\tlearn: 0.1305918\ttotal: 465ms\tremaining: 518ms\n",
      "473:\tlearn: 0.1302703\ttotal: 466ms\tremaining: 517ms\n",
      "474:\tlearn: 0.1299833\ttotal: 467ms\tremaining: 516ms\n",
      "475:\tlearn: 0.1299215\ttotal: 467ms\tremaining: 515ms\n",
      "476:\tlearn: 0.1298510\ttotal: 468ms\tremaining: 513ms\n",
      "477:\tlearn: 0.1295985\ttotal: 469ms\tremaining: 512ms\n",
      "478:\tlearn: 0.1293364\ttotal: 470ms\tremaining: 511ms\n",
      "479:\tlearn: 0.1292645\ttotal: 471ms\tremaining: 510ms\n",
      "480:\tlearn: 0.1289571\ttotal: 472ms\tremaining: 509ms\n",
      "481:\tlearn: 0.1286886\ttotal: 472ms\tremaining: 508ms\n",
      "482:\tlearn: 0.1285309\ttotal: 473ms\tremaining: 507ms\n",
      "483:\tlearn: 0.1284852\ttotal: 474ms\tremaining: 505ms\n",
      "484:\tlearn: 0.1282332\ttotal: 475ms\tremaining: 504ms\n",
      "485:\tlearn: 0.1278885\ttotal: 476ms\tremaining: 503ms\n",
      "486:\tlearn: 0.1276585\ttotal: 476ms\tremaining: 502ms\n",
      "487:\tlearn: 0.1274230\ttotal: 477ms\tremaining: 501ms\n",
      "488:\tlearn: 0.1273430\ttotal: 478ms\tremaining: 499ms\n",
      "489:\tlearn: 0.1270156\ttotal: 479ms\tremaining: 498ms\n",
      "490:\tlearn: 0.1267754\ttotal: 480ms\tremaining: 497ms\n",
      "491:\tlearn: 0.1265426\ttotal: 480ms\tremaining: 496ms\n",
      "492:\tlearn: 0.1262767\ttotal: 481ms\tremaining: 495ms\n",
      "493:\tlearn: 0.1260700\ttotal: 482ms\tremaining: 494ms\n",
      "494:\tlearn: 0.1258627\ttotal: 483ms\tremaining: 493ms\n",
      "495:\tlearn: 0.1258211\ttotal: 484ms\tremaining: 492ms\n",
      "496:\tlearn: 0.1256214\ttotal: 485ms\tremaining: 490ms\n",
      "497:\tlearn: 0.1253390\ttotal: 485ms\tremaining: 489ms\n",
      "498:\tlearn: 0.1250765\ttotal: 486ms\tremaining: 488ms\n",
      "499:\tlearn: 0.1250061\ttotal: 487ms\tremaining: 487ms\n",
      "500:\tlearn: 0.1247007\ttotal: 488ms\tremaining: 486ms\n",
      "501:\tlearn: 0.1243872\ttotal: 489ms\tremaining: 485ms\n",
      "502:\tlearn: 0.1241949\ttotal: 489ms\tremaining: 484ms\n",
      "503:\tlearn: 0.1240907\ttotal: 490ms\tremaining: 482ms\n",
      "504:\tlearn: 0.1237787\ttotal: 491ms\tremaining: 482ms\n",
      "505:\tlearn: 0.1236815\ttotal: 492ms\tremaining: 480ms\n",
      "506:\tlearn: 0.1234385\ttotal: 493ms\tremaining: 479ms\n",
      "507:\tlearn: 0.1232538\ttotal: 493ms\tremaining: 478ms\n",
      "508:\tlearn: 0.1230563\ttotal: 494ms\tremaining: 477ms\n",
      "509:\tlearn: 0.1227379\ttotal: 495ms\tremaining: 476ms\n",
      "510:\tlearn: 0.1224953\ttotal: 496ms\tremaining: 474ms\n",
      "511:\tlearn: 0.1224426\ttotal: 496ms\tremaining: 473ms\n",
      "512:\tlearn: 0.1221861\ttotal: 497ms\tremaining: 472ms\n",
      "513:\tlearn: 0.1219566\ttotal: 498ms\tremaining: 471ms\n",
      "514:\tlearn: 0.1217281\ttotal: 499ms\tremaining: 470ms\n",
      "515:\tlearn: 0.1215276\ttotal: 500ms\tremaining: 469ms\n",
      "516:\tlearn: 0.1214663\ttotal: 500ms\tremaining: 468ms\n",
      "517:\tlearn: 0.1213326\ttotal: 501ms\tremaining: 466ms\n",
      "518:\tlearn: 0.1210943\ttotal: 502ms\tremaining: 465ms\n",
      "519:\tlearn: 0.1208522\ttotal: 503ms\tremaining: 464ms\n",
      "520:\tlearn: 0.1207902\ttotal: 503ms\tremaining: 463ms\n",
      "521:\tlearn: 0.1204966\ttotal: 504ms\tremaining: 462ms\n",
      "522:\tlearn: 0.1201957\ttotal: 505ms\tremaining: 460ms\n",
      "523:\tlearn: 0.1199586\ttotal: 505ms\tremaining: 459ms\n",
      "524:\tlearn: 0.1199020\ttotal: 506ms\tremaining: 458ms\n",
      "525:\tlearn: 0.1197150\ttotal: 507ms\tremaining: 457ms\n",
      "526:\tlearn: 0.1194935\ttotal: 508ms\tremaining: 456ms\n",
      "527:\tlearn: 0.1192351\ttotal: 509ms\tremaining: 455ms\n",
      "528:\tlearn: 0.1190065\ttotal: 510ms\tremaining: 454ms\n",
      "529:\tlearn: 0.1186342\ttotal: 511ms\tremaining: 453ms\n",
      "530:\tlearn: 0.1185737\ttotal: 512ms\tremaining: 452ms\n",
      "531:\tlearn: 0.1183504\ttotal: 513ms\tremaining: 451ms\n",
      "532:\tlearn: 0.1183165\ttotal: 514ms\tremaining: 450ms\n",
      "533:\tlearn: 0.1181133\ttotal: 515ms\tremaining: 449ms\n",
      "534:\tlearn: 0.1180450\ttotal: 516ms\tremaining: 448ms\n",
      "535:\tlearn: 0.1179911\ttotal: 517ms\tremaining: 447ms\n",
      "536:\tlearn: 0.1177907\ttotal: 517ms\tremaining: 446ms\n",
      "537:\tlearn: 0.1174373\ttotal: 518ms\tremaining: 445ms\n",
      "538:\tlearn: 0.1172097\ttotal: 519ms\tremaining: 444ms\n"
     ]
    },
    {
     "name": "stdout",
     "output_type": "stream",
     "text": [
      "539:\tlearn: 0.1170512\ttotal: 520ms\tremaining: 443ms\n",
      "540:\tlearn: 0.1167800\ttotal: 521ms\tremaining: 442ms\n",
      "541:\tlearn: 0.1165895\ttotal: 522ms\tremaining: 441ms\n",
      "542:\tlearn: 0.1163333\ttotal: 523ms\tremaining: 440ms\n",
      "543:\tlearn: 0.1160714\ttotal: 523ms\tremaining: 439ms\n",
      "544:\tlearn: 0.1158233\ttotal: 524ms\tremaining: 438ms\n",
      "545:\tlearn: 0.1155630\ttotal: 525ms\tremaining: 437ms\n",
      "546:\tlearn: 0.1152751\ttotal: 526ms\tremaining: 436ms\n",
      "547:\tlearn: 0.1149201\ttotal: 527ms\tremaining: 434ms\n",
      "548:\tlearn: 0.1148473\ttotal: 528ms\tremaining: 433ms\n",
      "549:\tlearn: 0.1147549\ttotal: 528ms\tremaining: 432ms\n",
      "550:\tlearn: 0.1146397\ttotal: 529ms\tremaining: 431ms\n",
      "551:\tlearn: 0.1144617\ttotal: 530ms\tremaining: 430ms\n",
      "552:\tlearn: 0.1141444\ttotal: 531ms\tremaining: 429ms\n",
      "553:\tlearn: 0.1138283\ttotal: 532ms\tremaining: 428ms\n",
      "554:\tlearn: 0.1137636\ttotal: 533ms\tremaining: 427ms\n",
      "555:\tlearn: 0.1135607\ttotal: 534ms\tremaining: 426ms\n",
      "556:\tlearn: 0.1134362\ttotal: 534ms\tremaining: 425ms\n",
      "557:\tlearn: 0.1132873\ttotal: 535ms\tremaining: 424ms\n",
      "558:\tlearn: 0.1131136\ttotal: 536ms\tremaining: 423ms\n",
      "559:\tlearn: 0.1130778\ttotal: 537ms\tremaining: 422ms\n",
      "560:\tlearn: 0.1127302\ttotal: 538ms\tremaining: 421ms\n",
      "561:\tlearn: 0.1125217\ttotal: 539ms\tremaining: 420ms\n",
      "562:\tlearn: 0.1122569\ttotal: 540ms\tremaining: 419ms\n",
      "563:\tlearn: 0.1120256\ttotal: 541ms\tremaining: 418ms\n",
      "564:\tlearn: 0.1118252\ttotal: 542ms\tremaining: 417ms\n",
      "565:\tlearn: 0.1116389\ttotal: 543ms\tremaining: 416ms\n",
      "566:\tlearn: 0.1113855\ttotal: 543ms\tremaining: 415ms\n",
      "567:\tlearn: 0.1113140\ttotal: 544ms\tremaining: 414ms\n",
      "568:\tlearn: 0.1110751\ttotal: 545ms\tremaining: 413ms\n",
      "569:\tlearn: 0.1108478\ttotal: 546ms\tremaining: 412ms\n",
      "570:\tlearn: 0.1106486\ttotal: 547ms\tremaining: 411ms\n",
      "571:\tlearn: 0.1105813\ttotal: 548ms\tremaining: 410ms\n",
      "572:\tlearn: 0.1104042\ttotal: 549ms\tremaining: 409ms\n",
      "573:\tlearn: 0.1102140\ttotal: 550ms\tremaining: 408ms\n",
      "574:\tlearn: 0.1099388\ttotal: 551ms\tremaining: 407ms\n",
      "575:\tlearn: 0.1097611\ttotal: 552ms\tremaining: 406ms\n",
      "576:\tlearn: 0.1095704\ttotal: 552ms\tremaining: 405ms\n",
      "577:\tlearn: 0.1094529\ttotal: 553ms\tremaining: 404ms\n",
      "578:\tlearn: 0.1092636\ttotal: 554ms\tremaining: 403ms\n",
      "579:\tlearn: 0.1090208\ttotal: 555ms\tremaining: 402ms\n",
      "580:\tlearn: 0.1088905\ttotal: 556ms\tremaining: 401ms\n",
      "581:\tlearn: 0.1086633\ttotal: 556ms\tremaining: 400ms\n",
      "582:\tlearn: 0.1084820\ttotal: 557ms\tremaining: 399ms\n",
      "583:\tlearn: 0.1083049\ttotal: 558ms\tremaining: 398ms\n",
      "584:\tlearn: 0.1080761\ttotal: 559ms\tremaining: 396ms\n",
      "585:\tlearn: 0.1078140\ttotal: 560ms\tremaining: 395ms\n",
      "586:\tlearn: 0.1076083\ttotal: 560ms\tremaining: 394ms\n",
      "587:\tlearn: 0.1073561\ttotal: 561ms\tremaining: 393ms\n",
      "588:\tlearn: 0.1072836\ttotal: 562ms\tremaining: 392ms\n",
      "589:\tlearn: 0.1070809\ttotal: 563ms\tremaining: 391ms\n",
      "590:\tlearn: 0.1067573\ttotal: 564ms\tremaining: 390ms\n",
      "591:\tlearn: 0.1067296\ttotal: 565ms\tremaining: 389ms\n",
      "592:\tlearn: 0.1065177\ttotal: 566ms\tremaining: 388ms\n",
      "593:\tlearn: 0.1062949\ttotal: 566ms\tremaining: 387ms\n",
      "594:\tlearn: 0.1061293\ttotal: 567ms\tremaining: 386ms\n",
      "595:\tlearn: 0.1061080\ttotal: 568ms\tremaining: 385ms\n",
      "596:\tlearn: 0.1060279\ttotal: 569ms\tremaining: 384ms\n",
      "597:\tlearn: 0.1058232\ttotal: 570ms\tremaining: 383ms\n",
      "598:\tlearn: 0.1056442\ttotal: 571ms\tremaining: 382ms\n",
      "599:\tlearn: 0.1054146\ttotal: 572ms\tremaining: 381ms\n",
      "600:\tlearn: 0.1052849\ttotal: 573ms\tremaining: 380ms\n",
      "601:\tlearn: 0.1052210\ttotal: 573ms\tremaining: 379ms\n",
      "602:\tlearn: 0.1051885\ttotal: 574ms\tremaining: 378ms\n",
      "603:\tlearn: 0.1049817\ttotal: 575ms\tremaining: 377ms\n",
      "604:\tlearn: 0.1047407\ttotal: 576ms\tremaining: 376ms\n",
      "605:\tlearn: 0.1045883\ttotal: 577ms\tremaining: 375ms\n",
      "606:\tlearn: 0.1045143\ttotal: 578ms\tremaining: 374ms\n",
      "607:\tlearn: 0.1042996\ttotal: 579ms\tremaining: 373ms\n",
      "608:\tlearn: 0.1041241\ttotal: 579ms\tremaining: 372ms\n",
      "609:\tlearn: 0.1040581\ttotal: 580ms\tremaining: 371ms\n",
      "610:\tlearn: 0.1037524\ttotal: 581ms\tremaining: 370ms\n",
      "611:\tlearn: 0.1034596\ttotal: 582ms\tremaining: 369ms\n",
      "612:\tlearn: 0.1032853\ttotal: 582ms\tremaining: 368ms\n",
      "613:\tlearn: 0.1030616\ttotal: 583ms\tremaining: 367ms\n",
      "614:\tlearn: 0.1029051\ttotal: 584ms\tremaining: 366ms\n",
      "615:\tlearn: 0.1027840\ttotal: 586ms\tremaining: 365ms\n",
      "616:\tlearn: 0.1025657\ttotal: 587ms\tremaining: 364ms\n",
      "617:\tlearn: 0.1023979\ttotal: 587ms\tremaining: 363ms\n",
      "618:\tlearn: 0.1022327\ttotal: 588ms\tremaining: 362ms\n",
      "619:\tlearn: 0.1020472\ttotal: 589ms\tremaining: 361ms\n",
      "620:\tlearn: 0.1019132\ttotal: 590ms\tremaining: 360ms\n",
      "621:\tlearn: 0.1017244\ttotal: 591ms\tremaining: 359ms\n",
      "622:\tlearn: 0.1016088\ttotal: 592ms\tremaining: 358ms\n",
      "623:\tlearn: 0.1015308\ttotal: 593ms\tremaining: 357ms\n",
      "624:\tlearn: 0.1013901\ttotal: 594ms\tremaining: 356ms\n",
      "625:\tlearn: 0.1012782\ttotal: 595ms\tremaining: 355ms\n",
      "626:\tlearn: 0.1010867\ttotal: 595ms\tremaining: 354ms\n",
      "627:\tlearn: 0.1008834\ttotal: 596ms\tremaining: 353ms\n",
      "628:\tlearn: 0.1007270\ttotal: 597ms\tremaining: 352ms\n",
      "629:\tlearn: 0.1005585\ttotal: 598ms\tremaining: 351ms\n",
      "630:\tlearn: 0.1003836\ttotal: 599ms\tremaining: 350ms\n",
      "631:\tlearn: 0.1002271\ttotal: 600ms\tremaining: 349ms\n",
      "632:\tlearn: 0.1000992\ttotal: 600ms\tremaining: 348ms\n",
      "633:\tlearn: 0.0999596\ttotal: 601ms\tremaining: 347ms\n",
      "634:\tlearn: 0.0997062\ttotal: 602ms\tremaining: 346ms\n",
      "635:\tlearn: 0.0994631\ttotal: 603ms\tremaining: 345ms\n",
      "636:\tlearn: 0.0992430\ttotal: 604ms\tremaining: 344ms\n",
      "637:\tlearn: 0.0991408\ttotal: 605ms\tremaining: 343ms\n",
      "638:\tlearn: 0.0990453\ttotal: 605ms\tremaining: 342ms\n",
      "639:\tlearn: 0.0989392\ttotal: 606ms\tremaining: 341ms\n",
      "640:\tlearn: 0.0988922\ttotal: 607ms\tremaining: 340ms\n",
      "641:\tlearn: 0.0987851\ttotal: 608ms\tremaining: 339ms\n",
      "642:\tlearn: 0.0986412\ttotal: 609ms\tremaining: 338ms\n",
      "643:\tlearn: 0.0985902\ttotal: 610ms\tremaining: 337ms\n",
      "644:\tlearn: 0.0984105\ttotal: 611ms\tremaining: 336ms\n",
      "645:\tlearn: 0.0981836\ttotal: 612ms\tremaining: 335ms\n",
      "646:\tlearn: 0.0980371\ttotal: 612ms\tremaining: 334ms\n",
      "647:\tlearn: 0.0978790\ttotal: 613ms\tremaining: 333ms\n",
      "648:\tlearn: 0.0977587\ttotal: 614ms\tremaining: 332ms\n",
      "649:\tlearn: 0.0976155\ttotal: 615ms\tremaining: 331ms\n",
      "650:\tlearn: 0.0974787\ttotal: 616ms\tremaining: 330ms\n",
      "651:\tlearn: 0.0974426\ttotal: 617ms\tremaining: 329ms\n",
      "652:\tlearn: 0.0972406\ttotal: 618ms\tremaining: 328ms\n",
      "653:\tlearn: 0.0970857\ttotal: 619ms\tremaining: 328ms\n",
      "654:\tlearn: 0.0969082\ttotal: 620ms\tremaining: 327ms\n",
      "655:\tlearn: 0.0968302\ttotal: 621ms\tremaining: 326ms\n",
      "656:\tlearn: 0.0966236\ttotal: 622ms\tremaining: 325ms\n",
      "657:\tlearn: 0.0964651\ttotal: 623ms\tremaining: 324ms\n",
      "658:\tlearn: 0.0964247\ttotal: 624ms\tremaining: 323ms\n",
      "659:\tlearn: 0.0963623\ttotal: 624ms\tremaining: 322ms\n",
      "660:\tlearn: 0.0962008\ttotal: 625ms\tremaining: 321ms\n",
      "661:\tlearn: 0.0960288\ttotal: 626ms\tremaining: 320ms\n",
      "662:\tlearn: 0.0959439\ttotal: 628ms\tremaining: 319ms\n"
     ]
    },
    {
     "name": "stdout",
     "output_type": "stream",
     "text": [
      "663:\tlearn: 0.0958310\ttotal: 628ms\tremaining: 318ms\n",
      "664:\tlearn: 0.0957904\ttotal: 629ms\tremaining: 317ms\n",
      "665:\tlearn: 0.0956708\ttotal: 630ms\tremaining: 316ms\n",
      "666:\tlearn: 0.0956336\ttotal: 631ms\tremaining: 315ms\n",
      "667:\tlearn: 0.0954625\ttotal: 632ms\tremaining: 314ms\n",
      "668:\tlearn: 0.0953046\ttotal: 633ms\tremaining: 313ms\n",
      "669:\tlearn: 0.0952408\ttotal: 634ms\tremaining: 312ms\n",
      "670:\tlearn: 0.0950443\ttotal: 635ms\tremaining: 311ms\n",
      "671:\tlearn: 0.0948688\ttotal: 635ms\tremaining: 310ms\n",
      "672:\tlearn: 0.0946636\ttotal: 636ms\tremaining: 309ms\n",
      "673:\tlearn: 0.0945141\ttotal: 637ms\tremaining: 308ms\n",
      "674:\tlearn: 0.0943322\ttotal: 638ms\tremaining: 307ms\n",
      "675:\tlearn: 0.0941785\ttotal: 639ms\tremaining: 306ms\n",
      "676:\tlearn: 0.0941435\ttotal: 639ms\tremaining: 305ms\n",
      "677:\tlearn: 0.0939554\ttotal: 640ms\tremaining: 304ms\n",
      "678:\tlearn: 0.0937660\ttotal: 641ms\tremaining: 303ms\n",
      "679:\tlearn: 0.0936607\ttotal: 642ms\tremaining: 302ms\n",
      "680:\tlearn: 0.0935044\ttotal: 642ms\tremaining: 301ms\n",
      "681:\tlearn: 0.0933308\ttotal: 643ms\tremaining: 300ms\n",
      "682:\tlearn: 0.0933039\ttotal: 644ms\tremaining: 299ms\n",
      "683:\tlearn: 0.0931889\ttotal: 645ms\tremaining: 298ms\n",
      "684:\tlearn: 0.0930683\ttotal: 646ms\tremaining: 297ms\n",
      "685:\tlearn: 0.0929694\ttotal: 646ms\tremaining: 296ms\n",
      "686:\tlearn: 0.0927942\ttotal: 647ms\tremaining: 295ms\n",
      "687:\tlearn: 0.0927786\ttotal: 648ms\tremaining: 294ms\n",
      "688:\tlearn: 0.0926554\ttotal: 649ms\tremaining: 293ms\n",
      "689:\tlearn: 0.0924315\ttotal: 649ms\tremaining: 292ms\n",
      "690:\tlearn: 0.0922065\ttotal: 650ms\tremaining: 291ms\n",
      "691:\tlearn: 0.0920286\ttotal: 651ms\tremaining: 290ms\n",
      "692:\tlearn: 0.0918377\ttotal: 652ms\tremaining: 289ms\n",
      "693:\tlearn: 0.0916700\ttotal: 653ms\tremaining: 288ms\n",
      "694:\tlearn: 0.0915439\ttotal: 654ms\tremaining: 287ms\n",
      "695:\tlearn: 0.0913625\ttotal: 655ms\tremaining: 286ms\n",
      "696:\tlearn: 0.0911572\ttotal: 655ms\tremaining: 285ms\n",
      "697:\tlearn: 0.0911041\ttotal: 656ms\tremaining: 284ms\n",
      "698:\tlearn: 0.0909072\ttotal: 657ms\tremaining: 283ms\n",
      "699:\tlearn: 0.0907945\ttotal: 658ms\tremaining: 282ms\n",
      "700:\tlearn: 0.0906259\ttotal: 659ms\tremaining: 281ms\n",
      "701:\tlearn: 0.0904078\ttotal: 659ms\tremaining: 280ms\n",
      "702:\tlearn: 0.0902553\ttotal: 660ms\tremaining: 279ms\n",
      "703:\tlearn: 0.0901579\ttotal: 661ms\tremaining: 278ms\n",
      "704:\tlearn: 0.0899974\ttotal: 662ms\tremaining: 277ms\n",
      "705:\tlearn: 0.0898617\ttotal: 663ms\tremaining: 276ms\n",
      "706:\tlearn: 0.0897018\ttotal: 664ms\tremaining: 275ms\n",
      "707:\tlearn: 0.0896704\ttotal: 664ms\tremaining: 274ms\n",
      "708:\tlearn: 0.0896535\ttotal: 665ms\tremaining: 273ms\n",
      "709:\tlearn: 0.0896270\ttotal: 666ms\tremaining: 272ms\n",
      "710:\tlearn: 0.0895202\ttotal: 667ms\tremaining: 271ms\n",
      "711:\tlearn: 0.0894694\ttotal: 668ms\tremaining: 270ms\n",
      "712:\tlearn: 0.0894435\ttotal: 669ms\tremaining: 269ms\n",
      "713:\tlearn: 0.0893870\ttotal: 669ms\tremaining: 268ms\n",
      "714:\tlearn: 0.0892144\ttotal: 670ms\tremaining: 267ms\n",
      "715:\tlearn: 0.0889960\ttotal: 671ms\tremaining: 266ms\n",
      "716:\tlearn: 0.0888935\ttotal: 672ms\tremaining: 265ms\n",
      "717:\tlearn: 0.0886931\ttotal: 672ms\tremaining: 264ms\n",
      "718:\tlearn: 0.0886323\ttotal: 673ms\tremaining: 263ms\n",
      "719:\tlearn: 0.0884713\ttotal: 674ms\tremaining: 262ms\n",
      "720:\tlearn: 0.0883157\ttotal: 675ms\tremaining: 261ms\n",
      "721:\tlearn: 0.0881430\ttotal: 676ms\tremaining: 260ms\n",
      "722:\tlearn: 0.0880362\ttotal: 677ms\tremaining: 259ms\n",
      "723:\tlearn: 0.0878796\ttotal: 678ms\tremaining: 259ms\n",
      "724:\tlearn: 0.0877573\ttotal: 679ms\tremaining: 258ms\n",
      "725:\tlearn: 0.0876464\ttotal: 680ms\tremaining: 256ms\n",
      "726:\tlearn: 0.0874811\ttotal: 680ms\tremaining: 256ms\n",
      "727:\tlearn: 0.0874554\ttotal: 681ms\tremaining: 255ms\n",
      "728:\tlearn: 0.0873722\ttotal: 682ms\tremaining: 254ms\n",
      "729:\tlearn: 0.0871221\ttotal: 683ms\tremaining: 253ms\n",
      "730:\tlearn: 0.0869638\ttotal: 684ms\tremaining: 252ms\n",
      "731:\tlearn: 0.0867905\ttotal: 685ms\tremaining: 251ms\n",
      "732:\tlearn: 0.0867487\ttotal: 686ms\tremaining: 250ms\n",
      "733:\tlearn: 0.0866244\ttotal: 686ms\tremaining: 249ms\n",
      "734:\tlearn: 0.0865107\ttotal: 687ms\tremaining: 248ms\n",
      "735:\tlearn: 0.0863700\ttotal: 688ms\tremaining: 247ms\n",
      "736:\tlearn: 0.0862084\ttotal: 689ms\tremaining: 246ms\n",
      "737:\tlearn: 0.0860697\ttotal: 690ms\tremaining: 245ms\n",
      "738:\tlearn: 0.0859285\ttotal: 691ms\tremaining: 244ms\n",
      "739:\tlearn: 0.0858066\ttotal: 692ms\tremaining: 243ms\n",
      "740:\tlearn: 0.0857623\ttotal: 692ms\tremaining: 242ms\n",
      "741:\tlearn: 0.0856513\ttotal: 693ms\tremaining: 241ms\n",
      "742:\tlearn: 0.0855784\ttotal: 694ms\tremaining: 240ms\n",
      "743:\tlearn: 0.0854476\ttotal: 695ms\tremaining: 239ms\n",
      "744:\tlearn: 0.0853394\ttotal: 696ms\tremaining: 238ms\n",
      "745:\tlearn: 0.0852060\ttotal: 696ms\tremaining: 237ms\n",
      "746:\tlearn: 0.0851608\ttotal: 697ms\tremaining: 236ms\n",
      "747:\tlearn: 0.0849812\ttotal: 698ms\tremaining: 235ms\n",
      "748:\tlearn: 0.0848767\ttotal: 699ms\tremaining: 234ms\n",
      "749:\tlearn: 0.0847945\ttotal: 700ms\tremaining: 233ms\n",
      "750:\tlearn: 0.0847824\ttotal: 701ms\tremaining: 232ms\n",
      "751:\tlearn: 0.0847604\ttotal: 701ms\tremaining: 231ms\n",
      "752:\tlearn: 0.0846813\ttotal: 702ms\tremaining: 230ms\n",
      "753:\tlearn: 0.0845794\ttotal: 703ms\tremaining: 229ms\n",
      "754:\tlearn: 0.0845035\ttotal: 704ms\tremaining: 228ms\n",
      "755:\tlearn: 0.0844579\ttotal: 705ms\tremaining: 227ms\n",
      "756:\tlearn: 0.0843418\ttotal: 706ms\tremaining: 226ms\n",
      "757:\tlearn: 0.0842002\ttotal: 706ms\tremaining: 225ms\n",
      "758:\tlearn: 0.0841704\ttotal: 707ms\tremaining: 225ms\n",
      "759:\tlearn: 0.0840249\ttotal: 708ms\tremaining: 224ms\n",
      "760:\tlearn: 0.0838721\ttotal: 709ms\tremaining: 223ms\n",
      "761:\tlearn: 0.0837973\ttotal: 709ms\tremaining: 222ms\n"
     ]
    },
    {
     "name": "stdout",
     "output_type": "stream",
     "text": [
      "762:\tlearn: 0.0836778\ttotal: 710ms\tremaining: 221ms\n",
      "763:\tlearn: 0.0836577\ttotal: 711ms\tremaining: 220ms\n",
      "764:\tlearn: 0.0835462\ttotal: 712ms\tremaining: 219ms\n",
      "765:\tlearn: 0.0833935\ttotal: 713ms\tremaining: 218ms\n",
      "766:\tlearn: 0.0832766\ttotal: 714ms\tremaining: 217ms\n",
      "767:\tlearn: 0.0830905\ttotal: 715ms\tremaining: 216ms\n",
      "768:\tlearn: 0.0830677\ttotal: 715ms\tremaining: 215ms\n",
      "769:\tlearn: 0.0828932\ttotal: 716ms\tremaining: 214ms\n",
      "770:\tlearn: 0.0827965\ttotal: 717ms\tremaining: 213ms\n",
      "771:\tlearn: 0.0826013\ttotal: 718ms\tremaining: 212ms\n",
      "772:\tlearn: 0.0824042\ttotal: 719ms\tremaining: 211ms\n",
      "773:\tlearn: 0.0822753\ttotal: 719ms\tremaining: 210ms\n",
      "774:\tlearn: 0.0820802\ttotal: 720ms\tremaining: 209ms\n",
      "775:\tlearn: 0.0819696\ttotal: 721ms\tremaining: 208ms\n",
      "776:\tlearn: 0.0819048\ttotal: 722ms\tremaining: 207ms\n",
      "777:\tlearn: 0.0818070\ttotal: 723ms\tremaining: 206ms\n",
      "778:\tlearn: 0.0817635\ttotal: 724ms\tremaining: 205ms\n",
      "779:\tlearn: 0.0816395\ttotal: 724ms\tremaining: 204ms\n",
      "780:\tlearn: 0.0815083\ttotal: 725ms\tremaining: 203ms\n",
      "781:\tlearn: 0.0814082\ttotal: 726ms\tremaining: 202ms\n",
      "782:\tlearn: 0.0813647\ttotal: 727ms\tremaining: 201ms\n",
      "783:\tlearn: 0.0812024\ttotal: 728ms\tremaining: 200ms\n",
      "784:\tlearn: 0.0809694\ttotal: 728ms\tremaining: 200ms\n",
      "785:\tlearn: 0.0808536\ttotal: 729ms\tremaining: 199ms\n",
      "786:\tlearn: 0.0808005\ttotal: 730ms\tremaining: 198ms\n",
      "787:\tlearn: 0.0807848\ttotal: 731ms\tremaining: 197ms\n",
      "788:\tlearn: 0.0806978\ttotal: 732ms\tremaining: 196ms\n",
      "789:\tlearn: 0.0805821\ttotal: 733ms\tremaining: 195ms\n",
      "790:\tlearn: 0.0804709\ttotal: 734ms\tremaining: 194ms\n",
      "791:\tlearn: 0.0802980\ttotal: 734ms\tremaining: 193ms\n",
      "792:\tlearn: 0.0801257\ttotal: 735ms\tremaining: 192ms\n",
      "793:\tlearn: 0.0800739\ttotal: 736ms\tremaining: 191ms\n",
      "794:\tlearn: 0.0800423\ttotal: 737ms\tremaining: 190ms\n",
      "795:\tlearn: 0.0799971\ttotal: 738ms\tremaining: 189ms\n",
      "796:\tlearn: 0.0799140\ttotal: 738ms\tremaining: 188ms\n",
      "797:\tlearn: 0.0798228\ttotal: 739ms\tremaining: 187ms\n",
      "798:\tlearn: 0.0796919\ttotal: 740ms\tremaining: 186ms\n",
      "799:\tlearn: 0.0795381\ttotal: 741ms\tremaining: 185ms\n",
      "800:\tlearn: 0.0795252\ttotal: 742ms\tremaining: 184ms\n",
      "801:\tlearn: 0.0794208\ttotal: 743ms\tremaining: 183ms\n",
      "802:\tlearn: 0.0792085\ttotal: 744ms\tremaining: 182ms\n",
      "803:\tlearn: 0.0791601\ttotal: 744ms\tremaining: 181ms\n",
      "804:\tlearn: 0.0790502\ttotal: 745ms\tremaining: 181ms\n",
      "805:\tlearn: 0.0788911\ttotal: 746ms\tremaining: 180ms\n",
      "806:\tlearn: 0.0787419\ttotal: 747ms\tremaining: 179ms\n",
      "807:\tlearn: 0.0786405\ttotal: 748ms\tremaining: 178ms\n",
      "808:\tlearn: 0.0785949\ttotal: 749ms\tremaining: 177ms\n",
      "809:\tlearn: 0.0785381\ttotal: 749ms\tremaining: 176ms\n",
      "810:\tlearn: 0.0783999\ttotal: 750ms\tremaining: 175ms\n",
      "811:\tlearn: 0.0782501\ttotal: 751ms\tremaining: 174ms\n",
      "812:\tlearn: 0.0781147\ttotal: 752ms\tremaining: 173ms\n",
      "813:\tlearn: 0.0780023\ttotal: 753ms\tremaining: 172ms\n",
      "814:\tlearn: 0.0779276\ttotal: 753ms\tremaining: 171ms\n",
      "815:\tlearn: 0.0778341\ttotal: 754ms\tremaining: 170ms\n",
      "816:\tlearn: 0.0777480\ttotal: 755ms\tremaining: 169ms\n",
      "817:\tlearn: 0.0776422\ttotal: 756ms\tremaining: 168ms\n",
      "818:\tlearn: 0.0776278\ttotal: 756ms\tremaining: 167ms\n",
      "819:\tlearn: 0.0774946\ttotal: 757ms\tremaining: 166ms\n",
      "820:\tlearn: 0.0773325\ttotal: 758ms\tremaining: 165ms\n",
      "821:\tlearn: 0.0771687\ttotal: 759ms\tremaining: 164ms\n",
      "822:\tlearn: 0.0771354\ttotal: 760ms\tremaining: 163ms\n",
      "823:\tlearn: 0.0770164\ttotal: 760ms\tremaining: 162ms\n",
      "824:\tlearn: 0.0769184\ttotal: 761ms\tremaining: 161ms\n",
      "825:\tlearn: 0.0769018\ttotal: 762ms\tremaining: 161ms\n",
      "826:\tlearn: 0.0768919\ttotal: 763ms\tremaining: 160ms\n",
      "827:\tlearn: 0.0767549\ttotal: 764ms\tremaining: 159ms\n",
      "828:\tlearn: 0.0766454\ttotal: 765ms\tremaining: 158ms\n",
      "829:\tlearn: 0.0766058\ttotal: 765ms\tremaining: 157ms\n",
      "830:\tlearn: 0.0765898\ttotal: 766ms\tremaining: 156ms\n",
      "831:\tlearn: 0.0764254\ttotal: 767ms\tremaining: 155ms\n",
      "832:\tlearn: 0.0763004\ttotal: 768ms\tremaining: 154ms\n",
      "833:\tlearn: 0.0762776\ttotal: 769ms\tremaining: 153ms\n",
      "834:\tlearn: 0.0761954\ttotal: 770ms\tremaining: 152ms\n",
      "835:\tlearn: 0.0761303\ttotal: 771ms\tremaining: 151ms\n",
      "836:\tlearn: 0.0760312\ttotal: 772ms\tremaining: 150ms\n",
      "837:\tlearn: 0.0759549\ttotal: 773ms\tremaining: 149ms\n",
      "838:\tlearn: 0.0758697\ttotal: 773ms\tremaining: 148ms\n",
      "839:\tlearn: 0.0757314\ttotal: 774ms\tremaining: 147ms\n",
      "840:\tlearn: 0.0757203\ttotal: 775ms\tremaining: 147ms\n",
      "841:\tlearn: 0.0756764\ttotal: 776ms\tremaining: 146ms\n",
      "842:\tlearn: 0.0755695\ttotal: 777ms\tremaining: 145ms\n",
      "843:\tlearn: 0.0754737\ttotal: 777ms\tremaining: 144ms\n",
      "844:\tlearn: 0.0754347\ttotal: 778ms\tremaining: 143ms\n",
      "845:\tlearn: 0.0752658\ttotal: 779ms\tremaining: 142ms\n",
      "846:\tlearn: 0.0752069\ttotal: 780ms\tremaining: 141ms\n",
      "847:\tlearn: 0.0750943\ttotal: 781ms\tremaining: 140ms\n",
      "848:\tlearn: 0.0749136\ttotal: 782ms\tremaining: 139ms\n",
      "849:\tlearn: 0.0749023\ttotal: 783ms\tremaining: 138ms\n",
      "850:\tlearn: 0.0747798\ttotal: 783ms\tremaining: 137ms\n",
      "851:\tlearn: 0.0746803\ttotal: 784ms\tremaining: 136ms\n",
      "852:\tlearn: 0.0745952\ttotal: 785ms\tremaining: 135ms\n",
      "853:\tlearn: 0.0744214\ttotal: 786ms\tremaining: 134ms\n",
      "854:\tlearn: 0.0743118\ttotal: 787ms\tremaining: 133ms\n",
      "855:\tlearn: 0.0742284\ttotal: 788ms\tremaining: 133ms\n",
      "856:\tlearn: 0.0740841\ttotal: 789ms\tremaining: 132ms\n",
      "857:\tlearn: 0.0740335\ttotal: 789ms\tremaining: 131ms\n",
      "858:\tlearn: 0.0740202\ttotal: 790ms\tremaining: 130ms\n",
      "859:\tlearn: 0.0739845\ttotal: 791ms\tremaining: 129ms\n",
      "860:\tlearn: 0.0739762\ttotal: 792ms\tremaining: 128ms\n",
      "861:\tlearn: 0.0739246\ttotal: 793ms\tremaining: 127ms\n",
      "862:\tlearn: 0.0737839\ttotal: 794ms\tremaining: 126ms\n",
      "863:\tlearn: 0.0737758\ttotal: 795ms\tremaining: 125ms\n",
      "864:\tlearn: 0.0736422\ttotal: 795ms\tremaining: 124ms\n",
      "865:\tlearn: 0.0734983\ttotal: 796ms\tremaining: 123ms\n",
      "866:\tlearn: 0.0733455\ttotal: 797ms\tremaining: 122ms\n",
      "867:\tlearn: 0.0732273\ttotal: 798ms\tremaining: 121ms\n",
      "868:\tlearn: 0.0731578\ttotal: 799ms\tremaining: 120ms\n",
      "869:\tlearn: 0.0730229\ttotal: 799ms\tremaining: 119ms\n",
      "870:\tlearn: 0.0729149\ttotal: 800ms\tremaining: 119ms\n",
      "871:\tlearn: 0.0727214\ttotal: 801ms\tremaining: 118ms\n",
      "872:\tlearn: 0.0726769\ttotal: 802ms\tremaining: 117ms\n",
      "873:\tlearn: 0.0725216\ttotal: 802ms\tremaining: 116ms\n",
      "874:\tlearn: 0.0723861\ttotal: 803ms\tremaining: 115ms\n",
      "875:\tlearn: 0.0722722\ttotal: 804ms\tremaining: 114ms\n",
      "876:\tlearn: 0.0722625\ttotal: 805ms\tremaining: 113ms\n",
      "877:\tlearn: 0.0722538\ttotal: 806ms\tremaining: 112ms\n",
      "878:\tlearn: 0.0721564\ttotal: 807ms\tremaining: 111ms\n",
      "879:\tlearn: 0.0720217\ttotal: 807ms\tremaining: 110ms\n",
      "880:\tlearn: 0.0719866\ttotal: 808ms\tremaining: 109ms\n",
      "881:\tlearn: 0.0718993\ttotal: 809ms\tremaining: 108ms\n",
      "882:\tlearn: 0.0718940\ttotal: 810ms\tremaining: 107ms\n",
      "883:\tlearn: 0.0717367\ttotal: 811ms\tremaining: 106ms\n",
      "884:\tlearn: 0.0716590\ttotal: 811ms\tremaining: 105ms\n",
      "885:\tlearn: 0.0715320\ttotal: 812ms\tremaining: 105ms\n",
      "886:\tlearn: 0.0714438\ttotal: 813ms\tremaining: 104ms\n",
      "887:\tlearn: 0.0713088\ttotal: 814ms\tremaining: 103ms\n",
      "888:\tlearn: 0.0712926\ttotal: 815ms\tremaining: 102ms\n",
      "889:\tlearn: 0.0712014\ttotal: 816ms\tremaining: 101ms\n",
      "890:\tlearn: 0.0711944\ttotal: 817ms\tremaining: 99.9ms\n",
      "891:\tlearn: 0.0711384\ttotal: 817ms\tremaining: 99ms\n"
     ]
    },
    {
     "name": "stdout",
     "output_type": "stream",
     "text": [
      "892:\tlearn: 0.0709869\ttotal: 819ms\tremaining: 98.1ms\n",
      "893:\tlearn: 0.0708938\ttotal: 820ms\tremaining: 97.2ms\n",
      "894:\tlearn: 0.0708779\ttotal: 821ms\tremaining: 96.3ms\n",
      "895:\tlearn: 0.0707165\ttotal: 821ms\tremaining: 95.4ms\n",
      "896:\tlearn: 0.0705479\ttotal: 822ms\tremaining: 94.4ms\n",
      "897:\tlearn: 0.0704731\ttotal: 823ms\tremaining: 93.5ms\n",
      "898:\tlearn: 0.0703925\ttotal: 824ms\tremaining: 92.6ms\n",
      "899:\tlearn: 0.0702945\ttotal: 825ms\tremaining: 91.6ms\n",
      "900:\tlearn: 0.0702879\ttotal: 826ms\tremaining: 90.7ms\n",
      "901:\tlearn: 0.0701954\ttotal: 827ms\tremaining: 89.8ms\n",
      "902:\tlearn: 0.0701302\ttotal: 828ms\tremaining: 88.9ms\n",
      "903:\tlearn: 0.0700291\ttotal: 829ms\tremaining: 88ms\n",
      "904:\tlearn: 0.0699388\ttotal: 829ms\tremaining: 87.1ms\n",
      "905:\tlearn: 0.0698086\ttotal: 830ms\tremaining: 86.1ms\n",
      "906:\tlearn: 0.0697107\ttotal: 831ms\tremaining: 85.2ms\n",
      "907:\tlearn: 0.0696530\ttotal: 832ms\tremaining: 84.3ms\n",
      "908:\tlearn: 0.0696072\ttotal: 833ms\tremaining: 83.4ms\n",
      "909:\tlearn: 0.0694709\ttotal: 834ms\tremaining: 82.4ms\n",
      "910:\tlearn: 0.0692552\ttotal: 834ms\tremaining: 81.5ms\n",
      "911:\tlearn: 0.0691437\ttotal: 835ms\tremaining: 80.6ms\n",
      "912:\tlearn: 0.0691208\ttotal: 836ms\tremaining: 79.7ms\n",
      "913:\tlearn: 0.0690124\ttotal: 837ms\tremaining: 78.8ms\n",
      "914:\tlearn: 0.0688870\ttotal: 838ms\tremaining: 77.8ms\n",
      "915:\tlearn: 0.0688809\ttotal: 839ms\tremaining: 76.9ms\n",
      "916:\tlearn: 0.0687534\ttotal: 840ms\tremaining: 76ms\n",
      "917:\tlearn: 0.0686739\ttotal: 840ms\tremaining: 75.1ms\n",
      "918:\tlearn: 0.0686558\ttotal: 841ms\tremaining: 74.1ms\n",
      "919:\tlearn: 0.0686491\ttotal: 842ms\tremaining: 73.2ms\n",
      "920:\tlearn: 0.0685049\ttotal: 843ms\tremaining: 72.3ms\n",
      "921:\tlearn: 0.0684951\ttotal: 844ms\tremaining: 71.4ms\n",
      "922:\tlearn: 0.0683787\ttotal: 845ms\tremaining: 70.5ms\n",
      "923:\tlearn: 0.0683654\ttotal: 845ms\tremaining: 69.5ms\n",
      "924:\tlearn: 0.0682543\ttotal: 846ms\tremaining: 68.6ms\n",
      "925:\tlearn: 0.0681909\ttotal: 847ms\tremaining: 67.7ms\n",
      "926:\tlearn: 0.0681840\ttotal: 848ms\tremaining: 66.7ms\n",
      "927:\tlearn: 0.0680411\ttotal: 848ms\tremaining: 65.8ms\n",
      "928:\tlearn: 0.0679455\ttotal: 849ms\tremaining: 64.9ms\n",
      "929:\tlearn: 0.0678868\ttotal: 850ms\tremaining: 64ms\n",
      "930:\tlearn: 0.0678036\ttotal: 851ms\tremaining: 63.1ms\n",
      "931:\tlearn: 0.0677022\ttotal: 852ms\tremaining: 62.1ms\n",
      "932:\tlearn: 0.0675627\ttotal: 853ms\tremaining: 61.2ms\n",
      "933:\tlearn: 0.0673905\ttotal: 853ms\tremaining: 60.3ms\n",
      "934:\tlearn: 0.0672294\ttotal: 854ms\tremaining: 59.4ms\n",
      "935:\tlearn: 0.0671177\ttotal: 855ms\tremaining: 58.5ms\n",
      "936:\tlearn: 0.0670163\ttotal: 856ms\tremaining: 57.5ms\n",
      "937:\tlearn: 0.0668732\ttotal: 857ms\tremaining: 56.6ms\n",
      "938:\tlearn: 0.0667595\ttotal: 858ms\tremaining: 55.7ms\n",
      "939:\tlearn: 0.0666711\ttotal: 858ms\tremaining: 54.8ms\n",
      "940:\tlearn: 0.0666657\ttotal: 859ms\tremaining: 53.9ms\n",
      "941:\tlearn: 0.0665776\ttotal: 860ms\tremaining: 53ms\n",
      "942:\tlearn: 0.0664409\ttotal: 861ms\tremaining: 52ms\n",
      "943:\tlearn: 0.0663142\ttotal: 862ms\tremaining: 51.1ms\n",
      "944:\tlearn: 0.0662539\ttotal: 862ms\tremaining: 50.2ms\n",
      "945:\tlearn: 0.0661487\ttotal: 863ms\tremaining: 49.3ms\n",
      "946:\tlearn: 0.0661404\ttotal: 864ms\tremaining: 48.4ms\n",
      "947:\tlearn: 0.0661318\ttotal: 865ms\tremaining: 47.4ms\n",
      "948:\tlearn: 0.0660820\ttotal: 866ms\tremaining: 46.5ms\n",
      "949:\tlearn: 0.0660690\ttotal: 866ms\tremaining: 45.6ms\n",
      "950:\tlearn: 0.0659712\ttotal: 867ms\tremaining: 44.7ms\n",
      "951:\tlearn: 0.0658798\ttotal: 868ms\tremaining: 43.8ms\n",
      "952:\tlearn: 0.0657927\ttotal: 869ms\tremaining: 42.9ms\n",
      "953:\tlearn: 0.0657482\ttotal: 870ms\tremaining: 41.9ms\n",
      "954:\tlearn: 0.0656909\ttotal: 871ms\tremaining: 41ms\n",
      "955:\tlearn: 0.0656566\ttotal: 871ms\tremaining: 40.1ms\n",
      "956:\tlearn: 0.0655399\ttotal: 872ms\tremaining: 39.2ms\n",
      "957:\tlearn: 0.0655330\ttotal: 873ms\tremaining: 38.3ms\n",
      "958:\tlearn: 0.0654764\ttotal: 874ms\tremaining: 37.4ms\n",
      "959:\tlearn: 0.0654238\ttotal: 875ms\tremaining: 36.4ms\n",
      "960:\tlearn: 0.0653441\ttotal: 875ms\tremaining: 35.5ms\n",
      "961:\tlearn: 0.0652194\ttotal: 876ms\tremaining: 34.6ms\n",
      "962:\tlearn: 0.0651559\ttotal: 877ms\tremaining: 33.7ms\n",
      "963:\tlearn: 0.0650921\ttotal: 878ms\tremaining: 32.8ms\n",
      "964:\tlearn: 0.0650698\ttotal: 879ms\tremaining: 31.9ms\n",
      "965:\tlearn: 0.0650411\ttotal: 880ms\tremaining: 31ms\n",
      "966:\tlearn: 0.0649390\ttotal: 881ms\tremaining: 30.1ms\n",
      "967:\tlearn: 0.0647985\ttotal: 882ms\tremaining: 29.2ms\n",
      "968:\tlearn: 0.0646802\ttotal: 883ms\tremaining: 28.2ms\n",
      "969:\tlearn: 0.0645975\ttotal: 883ms\tremaining: 27.3ms\n",
      "970:\tlearn: 0.0644755\ttotal: 884ms\tremaining: 26.4ms\n",
      "971:\tlearn: 0.0643768\ttotal: 885ms\tremaining: 25.5ms\n",
      "972:\tlearn: 0.0642957\ttotal: 886ms\tremaining: 24.6ms\n",
      "973:\tlearn: 0.0641592\ttotal: 887ms\tremaining: 23.7ms\n",
      "974:\tlearn: 0.0640853\ttotal: 887ms\tremaining: 22.8ms\n",
      "975:\tlearn: 0.0640412\ttotal: 888ms\tremaining: 21.8ms\n",
      "976:\tlearn: 0.0639445\ttotal: 889ms\tremaining: 20.9ms\n",
      "977:\tlearn: 0.0638659\ttotal: 890ms\tremaining: 20ms\n",
      "978:\tlearn: 0.0638055\ttotal: 891ms\tremaining: 19.1ms\n",
      "979:\tlearn: 0.0637230\ttotal: 891ms\tremaining: 18.2ms\n",
      "980:\tlearn: 0.0637155\ttotal: 892ms\tremaining: 17.3ms\n",
      "981:\tlearn: 0.0636385\ttotal: 893ms\tremaining: 16.4ms\n",
      "982:\tlearn: 0.0636084\ttotal: 894ms\tremaining: 15.5ms\n",
      "983:\tlearn: 0.0634990\ttotal: 895ms\tremaining: 14.5ms\n",
      "984:\tlearn: 0.0634184\ttotal: 895ms\tremaining: 13.6ms\n",
      "985:\tlearn: 0.0634106\ttotal: 896ms\tremaining: 12.7ms\n",
      "986:\tlearn: 0.0632719\ttotal: 897ms\tremaining: 11.8ms\n",
      "987:\tlearn: 0.0631619\ttotal: 898ms\tremaining: 10.9ms\n",
      "988:\tlearn: 0.0630827\ttotal: 899ms\tremaining: 10ms\n",
      "989:\tlearn: 0.0629572\ttotal: 900ms\tremaining: 9.09ms\n"
     ]
    },
    {
     "name": "stdout",
     "output_type": "stream",
     "text": [
      "990:\tlearn: 0.0628176\ttotal: 901ms\tremaining: 8.18ms\n",
      "991:\tlearn: 0.0627893\ttotal: 902ms\tremaining: 7.27ms\n",
      "992:\tlearn: 0.0626805\ttotal: 903ms\tremaining: 6.36ms\n",
      "993:\tlearn: 0.0626703\ttotal: 904ms\tremaining: 5.45ms\n",
      "994:\tlearn: 0.0625484\ttotal: 904ms\tremaining: 4.54ms\n",
      "995:\tlearn: 0.0625427\ttotal: 905ms\tremaining: 3.63ms\n",
      "996:\tlearn: 0.0624920\ttotal: 906ms\tremaining: 2.73ms\n",
      "997:\tlearn: 0.0624158\ttotal: 907ms\tremaining: 1.82ms\n",
      "998:\tlearn: 0.0623273\ttotal: 909ms\tremaining: 909us\n",
      "999:\tlearn: 0.0622601\ttotal: 910ms\tremaining: 0us\n"
     ]
    },
    {
     "data": {
      "text/plain": [
       "<catboost.core.CatBoostRegressor at 0x7fc22976a1c0>"
      ]
     },
     "execution_count": 9,
     "metadata": {},
     "output_type": "execute_result"
    }
   ],
   "source": [
    "#Train the Model \n",
    "prior_model = ctb.CatBoostRegressor()\n",
    "prior_model.fit(X_train,Y_train)"
   ]
  },
  {
   "cell_type": "code",
   "execution_count": 10,
   "id": "af65dcda",
   "metadata": {
    "execution": {
     "iopub.execute_input": "2022-03-11T10:09:16.772575Z",
     "iopub.status.busy": "2022-03-11T10:09:16.772179Z",
     "iopub.status.idle": "2022-03-11T10:09:16.779926Z",
     "shell.execute_reply": "2022-03-11T10:09:16.780218Z"
    },
    "id": "af65dcda",
    "papermill": {
     "duration": 0.021478,
     "end_time": "2022-03-11T10:09:16.780357",
     "exception": false,
     "start_time": "2022-03-11T10:09:16.758879",
     "status": "completed"
    },
    "tags": []
   },
   "outputs": [
    {
     "data": {
      "application/scrapbook.scrap.json+json": {
       "data": 0.10357287008485168,
       "encoder": "json",
       "name": "Prior Model MSE",
       "version": 1
      }
     },
     "metadata": {
      "scrapbook": {
       "data": true,
       "display": false,
       "name": "Prior Model MSE"
      }
     },
     "output_type": "display_data"
    },
    {
     "data": {
      "application/scrapbook.scrap.json+json": {
       "data": 0.9336759398235792,
       "encoder": "json",
       "name": "ABC Pre-generator MSE",
       "version": 1
      }
     },
     "metadata": {
      "scrapbook": {
       "data": true,
       "display": false,
       "name": "ABC Pre-generator MSE"
      }
     },
     "output_type": "display_data"
    },
    {
     "data": {
      "application/scrapbook.scrap.json+json": {
       "data": 0.2113609021075122,
       "encoder": "json",
       "name": "Prior Model MAE",
       "version": 1
      }
     },
     "metadata": {
      "scrapbook": {
       "data": true,
       "display": false,
       "name": "Prior Model MAE"
      }
     },
     "output_type": "display_data"
    },
    {
     "data": {
      "application/scrapbook.scrap.json+json": {
       "data": 0.7589225490647438,
       "encoder": "json",
       "name": "ABC Pre-generator MAE",
       "version": 1
      }
     },
     "metadata": {
      "scrapbook": {
       "data": true,
       "display": false,
       "name": "ABC Pre-generator MAE"
      }
     },
     "output_type": "display_data"
    }
   ],
   "source": [
    "y_pred = prior_model.predict(X_test)\n",
    "y_abc = y_pred + np.random.normal(0,variance, y_pred.shape)\n",
    "mse = mean_squared_error(y_pred,Y_test)\n",
    "sb.glue(\"Prior Model MSE\",mse)\n",
    "mse = mean_squared_error(y_abc,Y_test)\n",
    "sb.glue(\"ABC Pre-generator MSE\",mse)\n",
    "\n",
    "mae = mean_absolute_error(y_pred,Y_test)\n",
    "sb.glue(\"Prior Model MAE\",mae)\n",
    "mae = mean_absolute_error(y_abc,Y_test)\n",
    "sb.glue(\"ABC Pre-generator MAE\",mae)"
   ]
  },
  {
   "cell_type": "markdown",
   "id": "25609da2",
   "metadata": {
    "papermill": {
     "duration": 0.010093,
     "end_time": "2022-03-11T10:09:16.800526",
     "exception": false,
     "start_time": "2022-03-11T10:09:16.790433",
     "status": "completed"
    },
    "tags": []
   },
   "source": [
    "# ABC GAN Model"
   ]
  },
  {
   "cell_type": "code",
   "execution_count": 11,
   "id": "dfc3464d",
   "metadata": {
    "execution": {
     "iopub.execute_input": "2022-03-11T10:09:16.823678Z",
     "iopub.status.busy": "2022-03-11T10:09:16.823304Z",
     "iopub.status.idle": "2022-03-11T10:09:16.825774Z",
     "shell.execute_reply": "2022-03-11T10:09:16.826013Z"
    },
    "papermill": {
     "duration": 0.015653,
     "end_time": "2022-03-11T10:09:16.826124",
     "exception": false,
     "start_time": "2022-03-11T10:09:16.810471",
     "status": "completed"
    },
    "tags": []
   },
   "outputs": [],
   "source": [
    "gen = network.Generator(n_features+1).to(device)\n",
    "disc = network.Discriminator(n_features+1).to(device)\n",
    "\n",
    "criterion = torch.nn.BCELoss()\n",
    "gen_opt = torch.optim.Adam(gen.parameters(), lr=0.001, betas=(0.5, 0.999))\n",
    "disc_opt = torch.optim.Adam(disc.parameters(), lr=0.001, betas=(0.5, 0.999))"
   ]
  },
  {
   "cell_type": "code",
   "execution_count": 12,
   "id": "b75fdd85",
   "metadata": {
    "execution": {
     "iopub.execute_input": "2022-03-11T10:09:16.849178Z",
     "iopub.status.busy": "2022-03-11T10:09:16.848796Z",
     "iopub.status.idle": "2022-03-11T10:09:52.769352Z",
     "shell.execute_reply": "2022-03-11T10:09:52.769649Z"
    },
    "papermill": {
     "duration": 35.933479,
     "end_time": "2022-03-11T10:09:52.769785",
     "exception": false,
     "start_time": "2022-03-11T10:09:16.836306",
     "status": "completed"
    },
    "tags": []
   },
   "outputs": [
    {
     "data": {
      "image/png": "[encoded data removed]",
      "text/plain": [
       "<Figure size 432x288 with 1 Axes>"
      ]
     },
     "metadata": {
      "needs_background": "light"
     },
     "output_type": "display_data"
    },
    {
     "data": {
      "image/png": "[encoded data removed]",
      "text/plain": [
       "<Figure size 432x288 with 1 Axes>"
      ]
     },
     "metadata": {
      "needs_background": "light"
     },
     "output_type": "display_data"
    }
   ],
   "source": [
    "#Training the ABC_GAN \n",
    "ABC_train_test2.training_GAN(disc,gen,disc_opt,gen_opt,train_data,batch_size,n_epochs,criterion,prior_model,variance,0,device)"
   ]
  },
  {
   "cell_type": "code",
   "execution_count": 13,
   "id": "1fa7c368",
   "metadata": {
    "execution": {
     "iopub.execute_input": "2022-03-11T10:09:52.794472Z",
     "iopub.status.busy": "2022-03-11T10:09:52.794101Z",
     "iopub.status.idle": "2022-03-11T10:09:53.090585Z",
     "shell.execute_reply": "2022-03-11T10:09:53.090872Z"
    },
    "papermill": {
     "duration": 0.3101,
     "end_time": "2022-03-11T10:09:53.090994",
     "exception": false,
     "start_time": "2022-03-11T10:09:52.780894",
     "status": "completed"
    },
    "tags": []
   },
   "outputs": [
    {
     "data": {
      "application/scrapbook.scrap.json+json": {
       "data": 0.11206568517315693,
       "encoder": "json",
       "name": "ABC-GAN Model 1 MSE",
       "version": 1
      }
     },
     "metadata": {
      "scrapbook": {
       "data": true,
       "display": false,
       "name": "ABC-GAN Model 1 MSE"
      }
     },
     "output_type": "display_data"
    },
    {
     "data": {
      "application/scrapbook.scrap.json+json": {
       "data": 0.22465053728069453,
       "encoder": "json",
       "name": "ABC-GAN Model 1 MAE",
       "version": 1
      }
     },
     "metadata": {
      "scrapbook": {
       "data": true,
       "display": false,
       "name": "ABC-GAN Model 1 MAE"
      }
     },
     "output_type": "display_data"
    },
    {
     "data": {
      "application/scrapbook.scrap.json+json": {
       "data": 22.914354802630843,
       "encoder": "json",
       "name": "ABC-GAN Model 1 Manhattan Distance",
       "version": 1
      }
     },
     "metadata": {
      "scrapbook": {
       "data": true,
       "display": false,
       "name": "ABC-GAN Model 1 Manhattan Distance"
      }
     },
     "output_type": "display_data"
    },
    {
     "data": {
      "application/scrapbook.scrap.json+json": {
       "data": 3.380339234128157,
       "encoder": "json",
       "name": "ABC-GAN Model 1 Euclidean distance",
       "version": 1
      }
     },
     "metadata": {
      "scrapbook": {
       "data": true,
       "display": false,
       "name": "ABC-GAN Model 1 Euclidean distance"
      }
     },
     "output_type": "display_data"
    },
    {
     "data": {
      "application/scrapbook.scrap.json+json": {
       "data": [
        [
         0.10852413917227911,
         0.10738283416781474,
         0.11001603914281258,
         0.11461686505272868,
         0.11415066931041241,
         0.11477171740031136,
         0.10658419499396544,
         0.11305852865953127,
         0.11283718005673608,
         0.11075638066145757,
         0.11348564675145346,
         0.10995252558172038,
         0.10690945219508062,
         0.11168735464510753,
         0.11186228585207758,
         0.11243739241943168,
         0.11243259373642875,
         0.10795836768599923,
         0.11137066099847007,
         0.11371498805806278,
         0.10324491337427678,
         0.11461603753519493,
         0.10655821847597018,
         0.12102042710038056,
         0.11396270033823748,
         0.10690589020857648,
         0.11234061066371633,
         0.11496509830837087,
         0.1138869401207985,
         0.1059059255075603,
         0.11519884308918392,
         0.11473285667846297,
         0.11374929062039615,
         0.1132423418272773,
         0.11065981602194404,
         0.11031385811270711,
         0.11272626895262455,
         0.10934398760165866,
         0.11200764658868896,
         0.11193657173183766,
         0.11937906384648121,
         0.1145382800096178,
         0.11315652953179993,
         0.11356067491703055,
         0.10494580563438245,
         0.11083550224559417,
         0.1048603720009244,
         0.11048199926659463,
         0.10947797243056273,
         0.11179056492297341,
         0.10818638561294638,
         0.11629831634754478,
         0.1121727997973316,
         0.11075155668101372,
         0.11734497819054784,
         0.10987447838512154,
         0.11051179101582652,
         0.11840992415042356,
         0.10750993524736784,
         0.10881197347114867,
         0.12056723754637065,
         0.10744882498445636,
         0.11316407352260664,
         0.10694057601716535,
         0.11263520171371559,
         0.11320942678390054,
         0.11132277445013518,
         0.11972634245414783,
         0.10890705511890506,
         0.11058061732953522,
         0.12941923631523303,
         0.10798354388658524,
         0.11142361062765564,
         0.11205476275352762,
         0.11638259668755009,
         0.10677886246455132,
         0.11057552578533378,
         0.11272564666269143,
         0.1112889540340421,
         0.11257059445492902,
         0.10871698652724902,
         0.1142190302193771,
         0.11874468480011396,
         0.12374474011095818,
         0.10970400071943111,
         0.11425522281229396,
         0.11697947453521576,
         0.11318974183840012,
         0.11288231455935815,
         0.11661783916011723,
         0.11900018496973966,
         0.10961089039553983,
         0.10803410679916194,
         0.11201541658779135,
         0.1079478012293361,
         0.10808437338104061,
         0.10992877744720697,
         0.10705275935460193,
         0.10686270749155112,
         0.11854503767919276
        ],
        [
         0.21952316218841017,
         0.22216439447091782,
         0.22317047040069513,
         0.22656920361423902,
         0.2260363947727955,
         0.225315843571854,
         0.22356688537105335,
         0.22788420709434384,
         0.2263845594179835,
         0.220681539928431,
         0.22488029585128613,
         0.22150958628010223,
         0.2278637097071053,
         0.22761980125534476,
         0.22909381301781417,
         0.22686761105433106,
         0.2273634173542115,
         0.22292602240272305,
         0.2274121568976518,
         0.2263166149804259,
         0.2183062611604292,
         0.2238519636494126,
         0.21868484966712548,
         0.22295912208181679,
         0.22752723436546968,
         0.22344656236579313,
         0.22543098930013822,
         0.22178699477009622,
         0.22621797648824604,
         0.22470057024346554,
         0.2220641892385103,
         0.22931900203191474,
         0.22647295208355667,
         0.22582888770300677,
         0.2253840307741627,
         0.22465154173436994,
         0.226163107490934,
         0.2204628546868323,
         0.22961233065956654,
         0.22425797843721276,
         0.22857028336318977,
         0.2220889487595973,
         0.22620444743912302,
         0.22424890969277306,
         0.22057477223193822,
         0.22286536978265525,
         0.22062891655071987,
         0.2249116255426962,
         0.22493198903861875,
         0.22719265081390155,
         0.22223728470613852,
         0.2335321419580164,
         0.22475531517400169,
         0.22208110037643244,
         0.2245789191356915,
         0.22279202893339828,
         0.22334195829599218,
         0.2298131863696172,
         0.22406214792464002,
         0.22695193084541196,
         0.2242018470412814,
         0.2170361995094401,
         0.22941982507815256,
         0.22657080271336086,
         0.22716729805859573,
         0.22874807718885587,
         0.22416631365194917,
         0.22327225953888366,
         0.2250894998638507,
         0.22511955707644424,
         0.23406040999928818,
         0.22409610175436326,
         0.21991089168095998,
         0.22955277491835693,
         0.2224220190398103,
         0.22227939531462743,
         0.22167274570457784,
         0.22292956599381333,
         0.22303870067402137,
         0.2234322488143602,
         0.22241518156164708,
         0.22665715037717246,
         0.22306522068695403,
         0.2343373888391344,
         0.2245197498020442,
         0.22426462658297489,
         0.2261147593586322,
         0.2220767409467668,
         0.22581794480884484,
         0.22469710747656577,
         0.22818562204894774,
         0.2252122736353354,
         0.22182987530843593,
         0.21979858604825886,
         0.2224327009445166,
         0.22420160865922475,
         0.22207271058441086,
         0.22038268706049113,
         0.22139631484763003,
         0.22474592937813961
        ],
        [
         22.391362543217838,
         22.66076823603362,
         22.763387980870903,
         23.11005876865238,
         23.05571226682514,
         22.982216044329107,
         22.80382230784744,
         23.244189123623073,
         23.091225060634315,
         22.509517072699964,
         22.937790176831186,
         22.59397780057043,
         23.242098390124738,
         23.217219728045166,
         23.367568927817047,
         23.14049632754177,
         23.191068570129573,
         22.73845428507775,
         23.196040003560483,
         23.084294728003442,
         22.26723863836378,
         22.832900292240083,
         22.3058546660468,
         22.74183045234531,
         23.207777905277908,
         22.7915493613109,
         22.9939609086141,
         22.622273466549814,
         23.074233601801097,
         22.919458164833486,
         22.65054730232805,
         23.390538207255304,
         23.10024111252278,
         23.03454654570669,
         22.989171138964593,
         22.914457256905735,
         23.068636964075267,
         22.487211178056896,
         23.42045772727579,
         22.8743138005957,
         23.314168903045356,
         22.653072773478925,
         23.072853638790548,
         22.87338878866285,
         22.498626767657697,
         22.732267717830837,
         22.504149488173425,
         22.940985805355012,
         22.943062881939113,
         23.173650383017957,
         22.66820304002613,
         23.820278479717672,
         22.925042147748172,
         22.652272238396108,
         22.907049751840532,
         22.724786951206625,
         22.780879746191204,
         23.440945009700954,
         22.85433908831328,
         23.14909694623202,
         22.868588398210704,
         22.13769234996289,
         23.40082215797156,
         23.110221876762807,
         23.171064401976764,
         23.3323038732633,
         22.864963992498815,
         22.773770472966135,
         22.959128986112773,
         22.96219482179731,
         23.874161819927394,
         22.857802378945053,
         22.430910951457918,
         23.41438304167241,
         22.68704594206065,
         22.672498322091997,
         22.61062006186694,
         22.73881573136896,
         22.74994746875018,
         22.79008937906474,
         22.686348519288003,
         23.11902933847159,
         22.75265251006931,
         23.90241366159171,
         22.90101447980851,
         22.87499191146344,
         23.063705454580486,
         22.651827576570213,
         23.033430370502174,
         22.91910496260971,
         23.27493344899267,
         22.971651910804212,
         22.626647281460464,
         22.419455776922405,
         22.688135496340692,
         22.868564083240926,
         22.651416479609907,
         22.479034080170095,
         22.582424114458263,
         22.92408479657024
        ],
        [
         3.327080130620913,
         3.309539104636339,
         3.3498710411845534,
         3.419198770966427,
         3.4122380148023184,
         3.4215077341475877,
         3.2972091061054156,
         3.3958754281145516,
         3.3925495377056882,
         3.3611234472224716,
         3.4022839341607356,
         3.348903941491227,
         3.30223623078335,
         3.3752200185767105,
         3.3778622169816086,
         3.386534220524286,
         3.386461953295169,
         3.3183962246802174,
         3.370431340621545,
         3.4057200093258406,
         3.2451473254963688,
         3.4191864278786963,
         3.296807286534801,
         3.5134148010502284,
         3.4094274349955334,
         3.302181218721165,
         3.385076407955818,
         3.42438900060344,
         3.4082939856065013,
         3.286701142752585,
         3.427868433166121,
         3.420928438480294,
         3.406233644845932,
         3.3986348533466026,
         3.3596579043465558,
         3.354402111777317,
         3.3908818076081193,
         3.339623741586645,
         3.3800562054566896,
         3.378983621837703,
         3.4895077750796144,
         3.4180264131485316,
         3.3973469078449425,
         3.4034084153297144,
         3.271768967196035,
         3.362323784089005,
         3.2704369653143126,
         3.35695753997465,
         3.3416692217987998,
         3.3767791787653634,
         3.321898754104425,
         3.4441876063085717,
         3.3825472028233134,
         3.361050249767682,
         3.4596513950737697,
         3.3477151604164885,
         3.357410115492938,
         3.4753146999003124,
         3.3114971531365565,
         3.3314893507344676,
         3.506830225392984,
         3.3105558669828468,
         3.397460154189579,
         3.3027168745974684,
         3.3895118490424236,
         3.3981408934824726,
         3.369706662888298,
         3.494579650018451,
         3.332944587317394,
         3.358455443743834,
         3.6332853045355202,
         3.3187831318770575,
         3.371232457725346,
         3.380767043269887,
         3.4454353661228514,
         3.300218776291086,
         3.3583781249442484,
         3.390872448145834,
         3.369194757130002,
         3.38853960201187,
         3.3300349286125215,
         3.4132595978589824,
         3.48022382176946,
         3.5527402791813723,
         3.345117049279737,
         3.4138003349425667,
         3.4542591684168706,
         3.397845444913116,
         3.3932279742237377,
         3.448915712848309,
         3.4839659681049473,
         3.343697178325971,
         3.319560045173836,
         3.380173441105458,
         3.318233826208196,
         3.320332225074193,
         3.3485422648691645,
         3.304448736804582,
         3.3015142229192675,
         3.477296916180392
        ]
       ],
       "encoder": "json",
       "name": "ABC_GAN_1 Metrics",
       "version": 1
      }
     },
     "metadata": {
      "scrapbook": {
       "data": true,
       "display": false,
       "name": "ABC_GAN_1 Metrics"
      }
     },
     "output_type": "display_data"
    },
    {
     "name": "stdout",
     "output_type": "stream",
     "text": [
      "MSE\n",
      "0.11206568517315693\n"
     ]
    }
   ],
   "source": [
    "ABC_GAN1_metrics=ABC_train_test2.test_generator(gen,test_data,prior_model,variance,0,\"1\",device)\n",
    "sb.glue(\"ABC_GAN_1 Metrics\",ABC_GAN1_metrics)\n",
    "\n",
    "print(\"MSE\")\n",
    "print(mean(ABC_GAN1_metrics[0]))"
   ]
  },
  {
   "cell_type": "code",
   "execution_count": 14,
   "id": "eb22ce5c",
   "metadata": {
    "execution": {
     "iopub.execute_input": "2022-03-11T10:09:53.118499Z",
     "iopub.status.busy": "2022-03-11T10:09:53.118136Z",
     "iopub.status.idle": "2022-03-11T10:09:53.436675Z",
     "shell.execute_reply": "2022-03-11T10:09:53.436979Z"
    },
    "papermill": {
     "duration": 0.333324,
     "end_time": "2022-03-11T10:09:53.437102",
     "exception": false,
     "start_time": "2022-03-11T10:09:53.103778",
     "status": "completed"
    },
    "tags": []
   },
   "outputs": [
    {
     "data": {
      "image/png": "[encoded data removed]",
      "text/plain": [
       "<Figure size 432x288 with 1 Axes>"
      ]
     },
     "metadata": {
      "needs_background": "light"
     },
     "output_type": "display_data"
    },
    {
     "data": {
      "image/png": "[encoded data removed]",
      "text/plain": [
       "<Figure size 432x288 with 1 Axes>"
      ]
     },
     "metadata": {
      "needs_background": "light"
     },
     "output_type": "display_data"
    },
    {
     "data": {
      "image/png": "[encoded data removed]",
      "text/plain": [
       "<Figure size 432x288 with 1 Axes>"
      ]
     },
     "metadata": {
      "needs_background": "light"
     },
     "output_type": "display_data"
    },
    {
     "data": {
      "image/png": "[encoded data removed]",
      "text/plain": [
       "<Figure size 432x288 with 1 Axes>"
      ]
     },
     "metadata": {
      "needs_background": "light"
     },
     "output_type": "display_data"
    }
   ],
   "source": [
    "sanityChecks.discProbVsError(train_data,disc,device)\n",
    "sanityChecks.discProbVsError(test_data,disc,device)"
   ]
  },
  {
   "cell_type": "markdown",
   "id": "130f3a4d",
   "metadata": {
    "id": "130f3a4d",
    "papermill": {
     "duration": 0.014597,
     "end_time": "2022-03-11T10:09:53.467084",
     "exception": false,
     "start_time": "2022-03-11T10:09:53.452487",
     "status": "completed"
    },
    "tags": []
   },
   "source": [
    "# ABC - GAN Model with skip connection"
   ]
  },
  {
   "cell_type": "code",
   "execution_count": 15,
   "id": "4e43dad1",
   "metadata": {
    "execution": {
     "iopub.execute_input": "2022-03-11T10:09:53.500078Z",
     "iopub.status.busy": "2022-03-11T10:09:53.499685Z",
     "iopub.status.idle": "2022-03-11T10:09:53.501937Z",
     "shell.execute_reply": "2022-03-11T10:09:53.502188Z"
    },
    "id": "4e43dad1",
    "papermill": {
     "duration": 0.020346,
     "end_time": "2022-03-11T10:09:53.502304",
     "exception": false,
     "start_time": "2022-03-11T10:09:53.481958",
     "status": "completed"
    },
    "tags": []
   },
   "outputs": [],
   "source": [
    "#Generator\n",
    "gen3 = network.GeneratorWithSkipConnection(n_features+1).to(device)\n",
    "constraints=network.weightConstraint()\n",
    "#Discriminator \n",
    "disc3 = network.Discriminator(n_features+1).to(device)\n",
    "\n",
    "criterion = torch.nn.BCELoss()\n",
    "gen_opt = torch.optim.Adam(gen3.parameters(), lr=0.001, betas=(0.5, 0.999))\n",
    "disc_opt = torch.optim.Adam(disc3.parameters(), lr=0.001, betas=(0.5, 0.999))\n"
   ]
  },
  {
   "cell_type": "code",
   "execution_count": 16,
   "id": "26acbc37",
   "metadata": {
    "execution": {
     "iopub.execute_input": "2022-03-11T10:09:53.534637Z",
     "iopub.status.busy": "2022-03-11T10:09:53.534274Z",
     "iopub.status.idle": "2022-03-11T10:12:20.920176Z",
     "shell.execute_reply": "2022-03-11T10:12:20.920535Z"
    },
    "id": "26acbc37",
    "papermill": {
     "duration": 147.403363,
     "end_time": "2022-03-11T10:12:20.920665",
     "exception": false,
     "start_time": "2022-03-11T10:09:53.517302",
     "status": "completed"
    },
    "tags": []
   },
   "outputs": [
    {
     "data": {
      "image/png": "[encoded data removed]",
      "text/plain": [
       "<Figure size 432x288 with 1 Axes>"
      ]
     },
     "metadata": {
      "needs_background": "light"
     },
     "output_type": "display_data"
    },
    {
     "data": {
      "image/png": "[encoded data removed]",
      "text/plain": [
       "<Figure size 432x288 with 1 Axes>"
      ]
     },
     "metadata": {
      "needs_background": "light"
     },
     "output_type": "display_data"
    }
   ],
   "source": [
    "ABC_train_test2.training_GAN_skip_connection(disc3,gen3,disc_opt,gen_opt,train_data,batch_size,n_epochs,criterion,prior_model,variance,0,device)"
   ]
  },
  {
   "cell_type": "code",
   "execution_count": 17,
   "id": "c5e0717b",
   "metadata": {
    "execution": {
     "iopub.execute_input": "2022-03-11T10:12:20.955588Z",
     "iopub.status.busy": "2022-03-11T10:12:20.955216Z",
     "iopub.status.idle": "2022-03-11T10:12:21.782800Z",
     "shell.execute_reply": "2022-03-11T10:12:21.783223Z"
    },
    "id": "c5e0717b",
    "papermill": {
     "duration": 0.846581,
     "end_time": "2022-03-11T10:12:21.783349",
     "exception": false,
     "start_time": "2022-03-11T10:12:20.936768",
     "status": "completed"
    },
    "tags": []
   },
   "outputs": [
    {
     "data": {
      "application/scrapbook.scrap.json+json": {
       "data": 0.1728389625063143,
       "encoder": "json",
       "name": "ABC-GAN Model 3 MSE",
       "version": 1
      }
     },
     "metadata": {
      "scrapbook": {
       "data": true,
       "display": false,
       "name": "ABC-GAN Model 3 MSE"
      }
     },
     "output_type": "display_data"
    },
    {
     "data": {
      "application/scrapbook.scrap.json+json": {
       "data": 0.26579647222415126,
       "encoder": "json",
       "name": "ABC-GAN Model 3 MAE",
       "version": 1
      }
     },
     "metadata": {
      "scrapbook": {
       "data": true,
       "display": false,
       "name": "ABC-GAN Model 3 MAE"
      }
     },
     "output_type": "display_data"
    },
    {
     "data": {
      "application/scrapbook.scrap.json+json": {
       "data": 27.111240166863425,
       "encoder": "json",
       "name": "ABC-GAN Model 3 Manhattan Distance",
       "version": 1
      }
     },
     "metadata": {
      "scrapbook": {
       "data": true,
       "display": false,
       "name": "ABC-GAN Model 3 Manhattan Distance"
      }
     },
     "output_type": "display_data"
    },
    {
     "data": {
      "application/scrapbook.scrap.json+json": {
       "data": 4.197354625261405,
       "encoder": "json",
       "name": "ABC-GAN Model 3 Euclidean distance",
       "version": 1
      }
     },
     "metadata": {
      "scrapbook": {
       "data": true,
       "display": false,
       "name": "ABC-GAN Model 3 Euclidean distance"
      }
     },
     "output_type": "display_data"
    },
    {
     "data": {
      "application/scrapbook.scrap.json+json": {
       "data": [
        [
         0.1734048817870078,
         0.18043544837106698,
         0.1771614413349621,
         0.19069826271975365,
         0.17429167918251445,
         0.1856965297735979,
         0.15748377775456568,
         0.14674529038746054,
         0.17695170681475225,
         0.16436075111101553,
         0.17724618241735107,
         0.17831954848175943,
         0.1773871443260787,
         0.17515559047245935,
         0.1679199062996932,
         0.15815641510412104,
         0.18382057361236476,
         0.1577172037790792,
         0.17141588197529728,
         0.1762022978442167,
         0.17783327605448387,
         0.1770006959490072,
         0.17157435295795062,
         0.17256557345490456,
         0.17012486940974597,
         0.16688509891216904,
         0.16651536207934445,
         0.1661719410549259,
         0.1822608314566558,
         0.17021409479926364,
         0.1601903842594741,
         0.16665382213070493,
         0.17769531713401443,
         0.18167201770811234,
         0.18180955071247587,
         0.17273372427392816,
         0.18269678070079476,
         0.1881378714809553,
         0.16167221191866027,
         0.16985209470462573,
         0.16627365081565185,
         0.16201107482341953,
         0.18889418779227454,
         0.17184440769298637,
         0.16935314193499423,
         0.1688935507869193,
         0.17198248372412908,
         0.17011754879099059,
         0.16440732373773825,
         0.1834009309601611,
         0.17561797884469543,
         0.1708300239619164,
         0.17220770461977816,
         0.18262689380856767,
         0.18167936109005756,
         0.17291328535378334,
         0.17483258434939103,
         0.17145966469891838,
         0.16997042752376806,
         0.15380407218684386,
         0.16580381383811443,
         0.1587622821682926,
         0.16982614133364068,
         0.1616509705052855,
         0.17156381399585363,
         0.19752230720693562,
         0.1722617209916658,
         0.17582186247974804,
         0.17669014106077108,
         0.16103223391645338,
         0.15434429646627765,
         0.17109447061742966,
         0.16934590018430015,
         0.16588492109026012,
         0.16988070491543622,
         0.17057864122131766,
         0.17288494660628445,
         0.1662310015924724,
         0.18572244585308903,
         0.18910743380002643,
         0.17789192941657422,
         0.17292186816393146,
         0.16813238272221204,
         0.17007853030377182,
         0.18444344323195322,
         0.1915849562776975,
         0.1638243305309175,
         0.18570019633172352,
         0.1788906526603914,
         0.16689331297437543,
         0.1693718568894453,
         0.16991972886695383,
         0.17451155831778825,
         0.1748139354516216,
         0.18559982678100942,
         0.1621114879202889,
         0.1716252526475936,
         0.18178666926032075,
         0.18236731745602974,
         0.16746628238487682
        ],
        [
         0.25934276279682916,
         0.2722657767270564,
         0.26644195582462,
         0.27742424361663415,
         0.26353460662614775,
         0.27743463235560295,
         0.2574552202907701,
         0.2504944522572937,
         0.26361228743860243,
         0.26943121190347213,
         0.26845042066940783,
         0.2682299664262317,
         0.265872617772616,
         0.26811500477111516,
         0.26371232335291367,
         0.2595163953636645,
         0.2677433094393243,
         0.2566427318835814,
         0.26668460490912493,
         0.2656353956508432,
         0.26737213312812586,
         0.27124153292171804,
         0.2594496716526063,
         0.26001084803183583,
         0.2654288201775475,
         0.259173298282001,
         0.2676839581142892,
         0.2657603555285901,
         0.27644959189837764,
         0.26559584028105815,
         0.2640601771920189,
         0.2565854785909109,
         0.26521346242367927,
         0.2694550928495386,
         0.27194447675719857,
         0.2709152819680087,
         0.2727396155378836,
         0.2745893276479168,
         0.26301925763597384,
         0.25886153454399286,
         0.25623460591533315,
         0.25660278979579315,
         0.27593445627237945,
         0.26328172164914365,
         0.2649406420304349,
         0.2700849607787734,
         0.266669618614091,
         0.25924423851036266,
         0.2553018167450586,
         0.27631468810688925,
         0.2691628752805877,
         0.267678869732966,
         0.26649446225743373,
         0.27929456125689195,
         0.2797665571081726,
         0.2662543391388859,
         0.2593455223604014,
         0.26461595383600567,
         0.26998116064122785,
         0.2530496652311116,
         0.25970132885427744,
         0.25256880010277327,
         0.2678971147694278,
         0.26244121336140763,
         0.2675489610444535,
         0.2776092448198766,
         0.258749064304592,
         0.2701819409871949,
         0.2664335087653907,
         0.25418142261275767,
         0.2560824138550636,
         0.2631302888176459,
         0.2610146612495038,
         0.265763973351568,
         0.2559859706910656,
         0.2704670895530167,
         0.2634098548716044,
         0.2611800970820089,
         0.27915118352564816,
         0.2760049215262281,
         0.26751373075496626,
         0.2645879717927207,
         0.2588312335440195,
         0.26089206055792813,
         0.2677332033476263,
         0.281095990938518,
         0.2542544664979419,
         0.2706026877824436,
         0.2710180693379074,
         0.26290839029403,
         0.26350725554477644,
         0.2601258011041757,
         0.2689401781935172,
         0.2751195555936326,
         0.27284100966747193,
         0.2581277874882753,
         0.26519888430359023,
         0.2710832890908362,
         0.27885691875445784,
         0.26306250317971785
        ],
        [
         26.452961805276573,
         27.77110922615975,
         27.17707949411124,
         28.297272848896682,
         26.88052987586707,
         28.2983325002715,
         26.260432469658554,
         25.550434130243957,
         26.888453318737447,
         27.48198361415416,
         27.381942908279598,
         27.359456575475633,
         27.119007012806833,
         27.347730486653745,
         26.898656981997192,
         26.47067232709378,
         27.309817562811077,
         26.1775586521253,
         27.20182970073074,
         27.094810356386006,
         27.27195757906884,
         27.66663635801524,
         26.463866508565843,
         26.521106499247253,
         27.073739658109844,
         26.435676424764097,
         27.303763727657497,
         27.107556263916194,
         28.197858373634517,
         27.090775708667934,
         26.934138073585927,
         26.171718816272914,
         27.051773167215288,
         27.484419470652938,
         27.738336629234254,
         27.633358760736883,
         27.819440784864128,
         28.008111420087516,
         26.82796427886933,
         26.40387652348727,
         26.13592980336398,
         26.1734845591709,
         28.145314539782703,
         26.85473560821265,
         27.023945487104356,
         27.54866599943489,
         27.200301098637283,
         26.44291232805699,
         26.040785307995975,
         28.184098186902702,
         27.454613278619945,
         27.303244712762535,
         27.182435150258243,
         28.48804524820298,
         28.536188825033605,
         27.157942592166364,
         26.453243280760944,
         26.99082729127258,
         27.538078385405242,
         25.811065853573382,
         26.4895355431363,
         25.76201761048287,
         27.325505706481636,
         26.769003762863576,
         27.28999402653426,
         28.316142971627414,
         26.392404559068382,
         27.558557980693877,
         27.17621789406985,
         25.92650510650128,
         26.120406213216484,
         26.83928945939988,
         26.623495447449386,
         27.107925281859934,
         26.11056901048869,
         27.5876431344077,
         26.867805196903646,
         26.64036990236491,
         28.473420719616115,
         28.152501995675266,
         27.286400537006557,
         26.98797312285751,
         26.40078582148999,
         26.610990176908672,
         27.30878674145788,
         28.671791075728834,
         25.933955582790077,
         27.60147415380925,
         27.643843072466552,
         26.81665580999106,
         26.877740065567195,
         26.53283171262592,
         27.431898175738752,
         28.062194670550525,
         27.829782986082137,
         26.32903432380408,
         27.050286198966205,
         27.65049548726529,
         28.4434057129547,
         26.832375324331224
        ],
        [
         4.2056269380765094,
         4.290036798659054,
         4.250937192686589,
         4.410354044452086,
         4.21636707090553,
         4.352131206306514,
         4.007910344676599,
         3.8688524938954405,
         4.248420188152854,
         4.094483680920414,
         4.251953739937655,
         4.264808781779021,
         4.253644169563319,
         4.226803783970916,
         4.1385783117598125,
         4.016460424381192,
         4.33009220553803,
         4.010879552600162,
         4.181437547241418,
         4.239414391175992,
         4.258989804819608,
         4.2490082356708525,
         4.183369933643325,
         4.195436627146245,
         4.165661613692846,
         4.12580659859878,
         4.121233666281631,
         4.11698165985743,
         4.311682364063811,
         4.166753852764151,
         4.042204744253605,
         4.122946744421022,
         4.257337471668116,
         4.304712046842095,
         4.306341158416567,
         4.197480181721014,
         4.316835835595449,
         4.380646401052867,
         4.06085774383976,
         4.162320706033094,
         4.118241418760742,
         4.0651112693244675,
         4.3894426929636525,
         4.186660911118144,
         4.156202651143158,
         4.150559261143704,
         4.188342552831749,
         4.165571986736159,
         4.095063738362237,
         4.3251468134545945,
         4.232379217669292,
         4.174285860373661,
         4.191084092596732,
         4.316010098282197,
         4.304799046550938,
         4.1996613084969,
         4.222904640604365,
         4.181971520621544,
         4.163770359592894,
         3.9608099377599615,
         4.1124188759764815,
         4.024146217667276,
         4.162002692938984,
         4.060590965800312,
         4.183241449830152,
         4.488571636401432,
         4.19174134950499,
         4.23483529466428,
         4.245279070708857,
         4.0528123395339,
         3.9677598515485184,
         4.177515529950526,
         4.156113787999387,
         4.113424601376148,
         4.162671245891813,
         4.17121342112513,
         4.1993171532811155,
         4.117713220032715,
         4.352434890611814,
         4.3919196540468155,
         4.259692101606707,
         4.199765535446115,
         4.141195846330577,
         4.165094247551274,
         4.33742218485349,
         4.4205956092279175,
         4.087796682095818,
         4.352174172277093,
         4.271632775808324,
         4.125908133173385,
         4.156432292570567,
         4.1631493300660365,
         4.219025829313493,
         4.222679411945146,
         4.350997854706775,
         4.066370835016092,
         4.183990412280428,
         4.306070164843197,
         4.312941731639211,
         4.132984491049711
        ]
       ],
       "encoder": "json",
       "name": "ABC_GAN_3 Metrics",
       "version": 1
      }
     },
     "metadata": {
      "scrapbook": {
       "data": true,
       "display": false,
       "name": "ABC_GAN_3 Metrics"
      }
     },
     "output_type": "display_data"
    },
    {
     "name": "stdout",
     "output_type": "stream",
     "text": [
      "MSE\n",
      "0.1728389625063143\n"
     ]
    }
   ],
   "source": [
    "ABC_GAN3_metrics=ABC_train_test2.test_generator(gen3,test_data,prior_model,variance,0,\"3\",device)\n",
    "sb.glue(\"ABC_GAN_3 Metrics\",ABC_GAN3_metrics)\n",
    "\n",
    "print(\"MSE\")\n",
    "print(mean(ABC_GAN3_metrics[0]))"
   ]
  },
  {
   "cell_type": "code",
   "execution_count": 18,
   "id": "c8e46b48",
   "metadata": {
    "execution": {
     "iopub.execute_input": "2022-03-11T10:12:21.820456Z",
     "iopub.status.busy": "2022-03-11T10:12:21.820083Z",
     "iopub.status.idle": "2022-03-11T10:12:22.140748Z",
     "shell.execute_reply": "2022-03-11T10:12:22.141120Z"
    },
    "id": "c8e46b48",
    "papermill": {
     "duration": 0.340491,
     "end_time": "2022-03-11T10:12:22.141242",
     "exception": false,
     "start_time": "2022-03-11T10:12:21.800751",
     "status": "completed"
    },
    "tags": []
   },
   "outputs": [
    {
     "data": {
      "image/png": "[encoded data removed]",
      "text/plain": [
       "<Figure size 432x288 with 1 Axes>"
      ]
     },
     "metadata": {
      "needs_background": "light"
     },
     "output_type": "display_data"
    },
    {
     "data": {
      "image/png": "[encoded data removed]",
      "text/plain": [
       "<Figure size 432x288 with 1 Axes>"
      ]
     },
     "metadata": {
      "needs_background": "light"
     },
     "output_type": "display_data"
    },
    {
     "data": {
      "image/png": "[encoded data removed]",
      "text/plain": [
       "<Figure size 432x288 with 1 Axes>"
      ]
     },
     "metadata": {
      "needs_background": "light"
     },
     "output_type": "display_data"
    },
    {
     "data": {
      "image/png": "[encoded data removed]",
      "text/plain": [
       "<Figure size 432x288 with 1 Axes>"
      ]
     },
     "metadata": {
      "needs_background": "light"
     },
     "output_type": "display_data"
    }
   ],
   "source": [
    "sanityChecks.discProbVsError(train_data,disc3,device)\n",
    "sanityChecks.discProbVsError(test_data,disc3,device)"
   ]
  },
  {
   "cell_type": "markdown",
   "id": "a5bd74c3",
   "metadata": {
    "id": "a5bd74c3",
    "papermill": {
     "duration": 0.019804,
     "end_time": "2022-03-11T10:12:22.184873",
     "exception": false,
     "start_time": "2022-03-11T10:12:22.165069",
     "status": "completed"
    },
    "tags": []
   },
   "source": [
    "## Skip Connection Model Analysis - ABC-GAN "
   ]
  },
  {
   "cell_type": "markdown",
   "id": "5744a8bf",
   "metadata": {
    "id": "5744a8bf",
    "papermill": {
     "duration": 0.02023,
     "end_time": "2022-03-11T10:12:22.224959",
     "exception": false,
     "start_time": "2022-03-11T10:12:22.204729",
     "status": "completed"
    },
    "tags": []
   },
   "source": [
    "### Weight Analysis \n",
    "\n",
    "Study the weights of the skip connection layer\n",
    "\n",
    "Equation of the skip connection is \n",
    "\n",
    "$output = y_{gan} * w + y_{abc} * (1-w)$"
   ]
  },
  {
   "cell_type": "code",
   "execution_count": 19,
   "id": "52c31dea",
   "metadata": {
    "execution": {
     "iopub.execute_input": "2022-03-11T10:12:22.284450Z",
     "iopub.status.busy": "2022-03-11T10:12:22.284051Z",
     "iopub.status.idle": "2022-03-11T10:12:22.287405Z",
     "shell.execute_reply": "2022-03-11T10:12:22.287646Z"
    },
    "id": "52c31dea",
    "papermill": {
     "duration": 0.025941,
     "end_time": "2022-03-11T10:12:22.287759",
     "exception": false,
     "start_time": "2022-03-11T10:12:22.261818",
     "status": "completed"
    },
    "tags": []
   },
   "outputs": [
    {
     "name": "stdout",
     "output_type": "stream",
     "text": [
      "Weight of the node at skip connection\n",
      "Parameter containing:\n",
      "tensor([[0.6073]], requires_grad=True)\n"
     ]
    },
    {
     "data": {
      "application/scrapbook.scrap.json+json": {
       "data": 0.6073367595672607,
       "encoder": "json",
       "name": "Skip Connection Weight",
       "version": 1
      }
     },
     "metadata": {
      "scrapbook": {
       "data": true,
       "display": false,
       "name": "Skip Connection Weight"
      }
     },
     "output_type": "display_data"
    }
   ],
   "source": [
    "print(\"Weight of the node at skip connection\")\n",
    "for name,param in gen3.named_parameters():\n",
    "    if(name == \"skipNode.weight\"):\n",
    "        print(param)\n",
    "        sb.glue(\"Skip Connection Weight\",param.item())"
   ]
  }
 ],
 "metadata": {
  "colab": {
   "collapsed_sections": [],
   "name": "ABC_GAN_Model-Catboost_Pre-gen.ipynb",
   "provenance": []
  },
  "interpreter": {
   "hash": "31f2aee4e71d21fbe5cf8b01ff0e069b9275f58929596ceb00d14d90e3e16cd6"
  },
  "kernelspec": {
   "display_name": "Python 3 (ipykernel)",
   "language": "python",
   "name": "python3"
  },
  "language_info": {
   "codemirror_mode": {
    "name": "ipython",
    "version": 3
   },
   "file_extension": ".py",
   "mimetype": "text/x-python",
   "name": "python",
   "nbconvert_exporter": "python",
   "pygments_lexer": "ipython3",
   "version": "3.8.11"
  },
  "papermill": {
   "default_parameters": {},
   "duration": 189.842964,
   "end_time": "2022-03-11T10:12:22.618906",
   "environment_variables": {},
   "exception": null,
   "input_path": "ABC_GAN-Catboost.ipynb",
   "output_path": "./ABC_GAN_Catboost/ABC-GAN_output_5_0.ipynb",
   "parameters": {
    "variance": 1
   },
   "start_time": "2022-03-11T10:09:12.775942",
   "version": "2.3.3"
  }
 },
 "nbformat": 4,
 "nbformat_minor": 5
}