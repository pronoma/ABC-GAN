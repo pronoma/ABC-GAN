{
 "cells": [
  {
   "cell_type": "markdown",
   "id": "622780e6",
   "metadata": {
    "id": "622780e6",
    "papermill": {
     "duration": 0.024989,
     "end_time": "2022-03-11T09:43:28.255081",
     "exception": false,
     "start_time": "2022-03-11T09:43:28.230092",
     "status": "completed"
    },
    "tags": []
   },
   "source": [
    "## Import Libraries "
   ]
  },
  {
   "cell_type": "code",
   "execution_count": 1,
   "id": "a62397e3",
   "metadata": {
    "execution": {
     "iopub.execute_input": "2022-03-11T09:43:28.288263Z",
     "iopub.status.busy": "2022-03-11T09:43:28.287678Z",
     "iopub.status.idle": "2022-03-11T09:43:28.290058Z",
     "shell.execute_reply": "2022-03-11T09:43:28.290397Z"
    },
    "id": "a62397e3",
    "papermill": {
     "duration": 0.020644,
     "end_time": "2022-03-11T09:43:28.290612",
     "exception": false,
     "start_time": "2022-03-11T09:43:28.269968",
     "status": "completed"
    },
    "tags": []
   },
   "outputs": [],
   "source": [
    "import warnings\n",
    "import sys\n",
    "sys.path.insert(0, '../../src')\n",
    "warnings.filterwarnings('ignore')"
   ]
  },
  {
   "cell_type": "code",
   "execution_count": 2,
   "id": "d6a4e155",
   "metadata": {
    "execution": {
     "iopub.execute_input": "2022-03-11T09:43:28.310511Z",
     "iopub.status.busy": "2022-03-11T09:43:28.310091Z",
     "iopub.status.idle": "2022-03-11T09:43:30.064902Z",
     "shell.execute_reply": "2022-03-11T09:43:30.065163Z"
    },
    "id": "d6a4e155",
    "papermill": {
     "duration": 1.765324,
     "end_time": "2022-03-11T09:43:30.065289",
     "exception": false,
     "start_time": "2022-03-11T09:43:28.299965",
     "status": "completed"
    },
    "tags": []
   },
   "outputs": [],
   "source": [
    "import ABC_train_test2\n",
    "import bostonDataset\n",
    "import network\n",
    "import dataset\n",
    "import sanityChecks\n",
    "import torch \n",
    "import scrapbook as sb\n",
    "from statistics import mean \n",
    "import catboost as ctb \n",
    "from sklearn.model_selection import train_test_split\n",
    "from sklearn.metrics import mean_squared_error,mean_absolute_error\n",
    "import numpy as np"
   ]
  },
  {
   "cell_type": "markdown",
   "id": "2fa5b0f7",
   "metadata": {
    "id": "2fa5b0f7",
    "papermill": {
     "duration": 0.006747,
     "end_time": "2022-03-11T09:43:30.079155",
     "exception": false,
     "start_time": "2022-03-11T09:43:30.072408",
     "status": "completed"
    },
    "tags": []
   },
   "source": [
    "## Parameters "
   ]
  },
  {
   "cell_type": "code",
   "execution_count": 3,
   "id": "783186fb",
   "metadata": {
    "execution": {
     "iopub.execute_input": "2022-03-11T09:43:30.094767Z",
     "iopub.status.busy": "2022-03-11T09:43:30.094384Z",
     "iopub.status.idle": "2022-03-11T09:43:30.095591Z",
     "shell.execute_reply": "2022-03-11T09:43:30.095814Z"
    },
    "id": "783186fb",
    "papermill": {
     "duration": 0.010121,
     "end_time": "2022-03-11T09:43:30.095930",
     "exception": false,
     "start_time": "2022-03-11T09:43:30.085809",
     "status": "completed"
    },
    "tags": [
     "parameters"
    ]
   },
   "outputs": [],
   "source": [
    "variance = 1"
   ]
  },
  {
   "cell_type": "code",
   "execution_count": 4,
   "id": "9596253a",
   "metadata": {
    "execution": {
     "iopub.execute_input": "2022-03-11T09:43:30.111503Z",
     "iopub.status.busy": "2022-03-11T09:43:30.111133Z",
     "iopub.status.idle": "2022-03-11T09:43:30.112343Z",
     "shell.execute_reply": "2022-03-11T09:43:30.112586Z"
    },
    "papermill": {
     "duration": 0.009865,
     "end_time": "2022-03-11T09:43:30.112690",
     "exception": false,
     "start_time": "2022-03-11T09:43:30.102825",
     "status": "completed"
    },
    "tags": [
     "injected-parameters"
    ]
   },
   "outputs": [],
   "source": [
    "# Parameters\n",
    "variance = 0.1\n"
   ]
  },
  {
   "cell_type": "markdown",
   "id": "391cdbfd",
   "metadata": {
    "id": "391cdbfd",
    "papermill": {
     "duration": 0.00674,
     "end_time": "2022-03-11T09:43:30.126225",
     "exception": false,
     "start_time": "2022-03-11T09:43:30.119485",
     "status": "completed"
    },
    "tags": []
   },
   "source": [
    "## Dataset \n"
   ]
  },
  {
   "cell_type": "code",
   "execution_count": 5,
   "id": "5b51f161",
   "metadata": {
    "execution": {
     "iopub.execute_input": "2022-03-11T09:43:30.141608Z",
     "iopub.status.busy": "2022-03-11T09:43:30.141242Z",
     "iopub.status.idle": "2022-03-11T09:43:30.142532Z",
     "shell.execute_reply": "2022-03-11T09:43:30.142784Z"
    },
    "id": "5b51f161",
    "papermill": {
     "duration": 0.00993,
     "end_time": "2022-03-11T09:43:30.142893",
     "exception": false,
     "start_time": "2022-03-11T09:43:30.132963",
     "status": "completed"
    },
    "tags": []
   },
   "outputs": [],
   "source": [
    "#Parameters \n",
    "n_features = 13\n",
    "n_samples= 506\n",
    "n_target = 1 "
   ]
  },
  {
   "cell_type": "code",
   "execution_count": 6,
   "id": "5d6eced4",
   "metadata": {
    "execution": {
     "iopub.execute_input": "2022-03-11T09:43:30.158435Z",
     "iopub.status.busy": "2022-03-11T09:43:30.158089Z",
     "iopub.status.idle": "2022-03-11T09:43:30.168596Z",
     "shell.execute_reply": "2022-03-11T09:43:30.168834Z"
    },
    "id": "5d6eced4",
    "papermill": {
     "duration": 0.01918,
     "end_time": "2022-03-11T09:43:30.168944",
     "exception": false,
     "start_time": "2022-03-11T09:43:30.149764",
     "status": "completed"
    },
    "tags": []
   },
   "outputs": [
    {
     "name": "stdout",
     "output_type": "stream",
     "text": [
      "         X1        X2        X3        X4        X5        X6        X7  \\\n",
      "0 -0.419782  0.284830 -1.287909 -0.272599 -0.144217  0.413672 -0.120013   \n",
      "1 -0.417339 -0.487722 -0.593381 -0.272599 -0.740262  0.194274  0.367166   \n",
      "2 -0.417342 -0.487722 -0.593381 -0.272599 -0.740262  1.282714 -0.265812   \n",
      "3 -0.416750 -0.487722 -1.306878 -0.272599 -0.835284  1.016303 -0.809889   \n",
      "4 -0.412482 -0.487722 -1.306878 -0.272599 -0.835284  1.228577 -0.511180   \n",
      "\n",
      "         X8        X9       X10       X11       X12       X13         Y  \n",
      "0  0.140214 -0.982843 -0.666608 -1.459000  0.441052 -1.075562  0.159686  \n",
      "1  0.557160 -0.867883 -0.987329 -0.303094  0.441052 -0.492439 -0.101524  \n",
      "2  0.557160 -0.867883 -0.987329 -0.303094  0.396427 -1.208727  1.324247  \n",
      "3  1.077737 -0.752922 -1.106115  0.113032  0.416163 -1.361517  1.182758  \n",
      "4  1.077737 -0.752922 -1.106115  0.113032  0.441052 -1.026501  1.487503  \n"
     ]
    }
   ],
   "source": [
    "X,Y = bostonDataset.boston_data()"
   ]
  },
  {
   "cell_type": "code",
   "execution_count": 7,
   "id": "fe007438",
   "metadata": {
    "execution": {
     "iopub.execute_input": "2022-03-11T09:43:30.185934Z",
     "iopub.status.busy": "2022-03-11T09:43:30.185579Z",
     "iopub.status.idle": "2022-03-11T09:43:30.186914Z",
     "shell.execute_reply": "2022-03-11T09:43:30.187151Z"
    },
    "id": "fe007438",
    "papermill": {
     "duration": 0.011052,
     "end_time": "2022-03-11T09:43:30.187258",
     "exception": false,
     "start_time": "2022-03-11T09:43:30.176206",
     "status": "completed"
    },
    "tags": []
   },
   "outputs": [],
   "source": [
    "#Train test split for dataset \n",
    "X_train,X_test,Y_train,Y_test = train_test_split(X,Y,test_size = 0.2)\n",
    "train_data = dataset.CustomDataset(X_train,Y_train)\n",
    "test_data = dataset.CustomDataset(X_test,Y_test)\n"
   ]
  },
  {
   "cell_type": "markdown",
   "id": "a9a1af34",
   "metadata": {
    "id": "a9a1af34",
    "papermill": {
     "duration": 0.007033,
     "end_time": "2022-03-11T09:43:30.201387",
     "exception": false,
     "start_time": "2022-03-11T09:43:30.194354",
     "status": "completed"
    },
    "tags": []
   },
   "source": [
    "## Training Parameters "
   ]
  },
  {
   "cell_type": "code",
   "execution_count": 8,
   "id": "952b7fc8",
   "metadata": {
    "execution": {
     "iopub.execute_input": "2022-03-11T09:43:30.217768Z",
     "iopub.status.busy": "2022-03-11T09:43:30.217391Z",
     "iopub.status.idle": "2022-03-11T09:43:30.218583Z",
     "shell.execute_reply": "2022-03-11T09:43:30.218836Z"
    },
    "id": "952b7fc8",
    "papermill": {
     "duration": 0.010536,
     "end_time": "2022-03-11T09:43:30.218943",
     "exception": false,
     "start_time": "2022-03-11T09:43:30.208407",
     "status": "completed"
    },
    "tags": []
   },
   "outputs": [],
   "source": [
    "batch_size = 64\n",
    "n_epochs = 1000\n",
    "#Select the device \n",
    "device = torch.device('cuda' if torch.cuda.is_available() else 'cpu')"
   ]
  },
  {
   "cell_type": "markdown",
   "id": "a95e1600",
   "metadata": {
    "id": "a95e1600",
    "papermill": {
     "duration": 0.007022,
     "end_time": "2022-03-11T09:43:30.233086",
     "exception": false,
     "start_time": "2022-03-11T09:43:30.226064",
     "status": "completed"
    },
    "tags": []
   },
   "source": [
    "# ABC Pre-generator Model \n",
    "\n",
    "1. The catboost model is used as a pre-generator model for the ABC-GAN. \n",
    "2. The model is first trained on the entire dataset \n",
    "3. It generats X,Y pairs and we add some Gaussian noise with mean 0 and variance 1 to it which is then feed as input to the generator.\n"
   ]
  },
  {
   "cell_type": "code",
   "execution_count": 9,
   "id": "ff8ce7bd",
   "metadata": {
    "execution": {
     "iopub.execute_input": "2022-03-11T09:43:30.252354Z",
     "iopub.status.busy": "2022-03-11T09:43:30.251965Z",
     "iopub.status.idle": "2022-03-11T09:43:31.277531Z",
     "shell.execute_reply": "2022-03-11T09:43:31.277893Z"
    },
    "id": "ff8ce7bd",
    "papermill": {
     "duration": 1.037835,
     "end_time": "2022-03-11T09:43:31.278013",
     "exception": false,
     "start_time": "2022-03-11T09:43:30.240178",
     "status": "completed"
    },
    "tags": []
   },
   "outputs": [
    {
     "name": "stdout",
     "output_type": "stream",
     "text": [
      "Learning rate set to 0.033215\n",
      "0:\tlearn: 0.9691089\ttotal: 58.6ms\tremaining: 58.6s\n",
      "1:\tlearn: 0.9512034\ttotal: 59.7ms\tremaining: 29.8s\n",
      "2:\tlearn: 0.9310119\ttotal: 60.9ms\tremaining: 20.2s\n",
      "3:\tlearn: 0.9177932\ttotal: 61.9ms\tremaining: 15.4s\n",
      "4:\tlearn: 0.9016564\ttotal: 62.9ms\tremaining: 12.5s\n",
      "5:\tlearn: 0.8847045\ttotal: 63.8ms\tremaining: 10.6s\n",
      "6:\tlearn: 0.8690425\ttotal: 64.8ms\tremaining: 9.19s\n",
      "7:\tlearn: 0.8542951\ttotal: 65.7ms\tremaining: 8.15s\n",
      "8:\tlearn: 0.8399056\ttotal: 66.6ms\tremaining: 7.33s\n",
      "9:\tlearn: 0.8236303\ttotal: 67.5ms\tremaining: 6.68s\n",
      "10:\tlearn: 0.8108223\ttotal: 68.3ms\tremaining: 6.14s\n",
      "11:\tlearn: 0.7970488\ttotal: 69.1ms\tremaining: 5.69s\n",
      "12:\tlearn: 0.7830857\ttotal: 70ms\tremaining: 5.32s\n",
      "13:\tlearn: 0.7691131\ttotal: 70.9ms\tremaining: 4.99s\n",
      "14:\tlearn: 0.7565787\ttotal: 71.8ms\tremaining: 4.71s\n",
      "15:\tlearn: 0.7442025\ttotal: 72.7ms\tremaining: 4.47s\n",
      "16:\tlearn: 0.7334144\ttotal: 73.6ms\tremaining: 4.26s\n",
      "17:\tlearn: 0.7218081\ttotal: 74.5ms\tremaining: 4.06s\n",
      "18:\tlearn: 0.7100405\ttotal: 75.3ms\tremaining: 3.89s\n",
      "19:\tlearn: 0.6973517\ttotal: 76.1ms\tremaining: 3.73s\n",
      "20:\tlearn: 0.6872177\ttotal: 77ms\tremaining: 3.59s\n",
      "21:\tlearn: 0.6778566\ttotal: 77.9ms\tremaining: 3.46s\n",
      "22:\tlearn: 0.6686355\ttotal: 78.7ms\tremaining: 3.34s\n",
      "23:\tlearn: 0.6593746\ttotal: 79.6ms\tremaining: 3.24s\n",
      "24:\tlearn: 0.6492180\ttotal: 80.3ms\tremaining: 3.13s\n",
      "25:\tlearn: 0.6388473\ttotal: 81.3ms\tremaining: 3.04s\n",
      "26:\tlearn: 0.6307487\ttotal: 82.1ms\tremaining: 2.96s\n",
      "27:\tlearn: 0.6222191\ttotal: 83ms\tremaining: 2.88s\n",
      "28:\tlearn: 0.6137177\ttotal: 83.9ms\tremaining: 2.81s\n",
      "29:\tlearn: 0.6037123\ttotal: 84.8ms\tremaining: 2.74s\n",
      "30:\tlearn: 0.5940502\ttotal: 85.7ms\tremaining: 2.68s\n",
      "31:\tlearn: 0.5856968\ttotal: 86.5ms\tremaining: 2.62s\n",
      "32:\tlearn: 0.5786807\ttotal: 87.4ms\tremaining: 2.56s\n",
      "33:\tlearn: 0.5713940\ttotal: 88.3ms\tremaining: 2.51s\n",
      "34:\tlearn: 0.5650448\ttotal: 89.2ms\tremaining: 2.46s\n",
      "35:\tlearn: 0.5578476\ttotal: 90.1ms\tremaining: 2.41s\n",
      "36:\tlearn: 0.5518324\ttotal: 91.1ms\tremaining: 2.37s\n",
      "37:\tlearn: 0.5452487\ttotal: 92ms\tremaining: 2.33s\n",
      "38:\tlearn: 0.5379175\ttotal: 92.8ms\tremaining: 2.29s\n",
      "39:\tlearn: 0.5308175\ttotal: 93.8ms\tremaining: 2.25s\n",
      "40:\tlearn: 0.5246719\ttotal: 95ms\tremaining: 2.22s\n",
      "41:\tlearn: 0.5175328\ttotal: 96ms\tremaining: 2.19s\n",
      "42:\tlearn: 0.5113351\ttotal: 97ms\tremaining: 2.16s\n",
      "43:\tlearn: 0.5063867\ttotal: 98ms\tremaining: 2.13s\n",
      "44:\tlearn: 0.5010937\ttotal: 98.9ms\tremaining: 2.1s\n",
      "45:\tlearn: 0.4950625\ttotal: 99.9ms\tremaining: 2.07s\n",
      "46:\tlearn: 0.4880983\ttotal: 101ms\tremaining: 2.05s\n",
      "47:\tlearn: 0.4826873\ttotal: 102ms\tremaining: 2.02s\n",
      "48:\tlearn: 0.4769447\ttotal: 103ms\tremaining: 1.99s\n",
      "49:\tlearn: 0.4719386\ttotal: 104ms\tremaining: 1.97s\n",
      "50:\tlearn: 0.4661120\ttotal: 105ms\tremaining: 1.95s\n",
      "51:\tlearn: 0.4613298\ttotal: 105ms\tremaining: 1.92s\n",
      "52:\tlearn: 0.4557553\ttotal: 106ms\tremaining: 1.9s\n",
      "53:\tlearn: 0.4523119\ttotal: 107ms\tremaining: 1.87s\n",
      "54:\tlearn: 0.4466973\ttotal: 108ms\tremaining: 1.85s\n"
     ]
    },
    {
     "name": "stdout",
     "output_type": "stream",
     "text": [
      "55:\tlearn: 0.4426743\ttotal: 109ms\tremaining: 1.84s\n",
      "56:\tlearn: 0.4391186\ttotal: 110ms\tremaining: 1.82s\n",
      "57:\tlearn: 0.4340062\ttotal: 111ms\tremaining: 1.8s\n",
      "58:\tlearn: 0.4304993\ttotal: 112ms\tremaining: 1.78s\n",
      "59:\tlearn: 0.4259746\ttotal: 113ms\tremaining: 1.76s\n",
      "60:\tlearn: 0.4218362\ttotal: 114ms\tremaining: 1.75s\n",
      "61:\tlearn: 0.4175746\ttotal: 114ms\tremaining: 1.73s\n",
      "62:\tlearn: 0.4136048\ttotal: 115ms\tremaining: 1.72s\n",
      "63:\tlearn: 0.4097849\ttotal: 116ms\tremaining: 1.7s\n",
      "64:\tlearn: 0.4066078\ttotal: 117ms\tremaining: 1.69s\n",
      "65:\tlearn: 0.4030334\ttotal: 118ms\tremaining: 1.67s\n",
      "66:\tlearn: 0.3986772\ttotal: 119ms\tremaining: 1.66s\n",
      "67:\tlearn: 0.3956389\ttotal: 120ms\tremaining: 1.65s\n",
      "68:\tlearn: 0.3922543\ttotal: 121ms\tremaining: 1.63s\n",
      "69:\tlearn: 0.3894012\ttotal: 122ms\tremaining: 1.62s\n",
      "70:\tlearn: 0.3867703\ttotal: 123ms\tremaining: 1.61s\n",
      "71:\tlearn: 0.3823605\ttotal: 124ms\tremaining: 1.6s\n",
      "72:\tlearn: 0.3791609\ttotal: 125ms\tremaining: 1.58s\n",
      "73:\tlearn: 0.3757583\ttotal: 126ms\tremaining: 1.57s\n",
      "74:\tlearn: 0.3732943\ttotal: 127ms\tremaining: 1.56s\n",
      "75:\tlearn: 0.3701945\ttotal: 128ms\tremaining: 1.55s\n",
      "76:\tlearn: 0.3664165\ttotal: 129ms\tremaining: 1.54s\n",
      "77:\tlearn: 0.3636624\ttotal: 130ms\tremaining: 1.53s\n",
      "78:\tlearn: 0.3615927\ttotal: 131ms\tremaining: 1.52s\n",
      "79:\tlearn: 0.3589078\ttotal: 132ms\tremaining: 1.51s\n",
      "80:\tlearn: 0.3562622\ttotal: 132ms\tremaining: 1.5s\n",
      "81:\tlearn: 0.3531323\ttotal: 133ms\tremaining: 1.49s\n",
      "82:\tlearn: 0.3506010\ttotal: 134ms\tremaining: 1.48s\n",
      "83:\tlearn: 0.3484901\ttotal: 135ms\tremaining: 1.47s\n",
      "84:\tlearn: 0.3460776\ttotal: 136ms\tremaining: 1.46s\n",
      "85:\tlearn: 0.3441050\ttotal: 137ms\tremaining: 1.46s\n",
      "86:\tlearn: 0.3419961\ttotal: 138ms\tremaining: 1.45s\n",
      "87:\tlearn: 0.3392544\ttotal: 139ms\tremaining: 1.44s\n",
      "88:\tlearn: 0.3373256\ttotal: 140ms\tremaining: 1.43s\n",
      "89:\tlearn: 0.3349453\ttotal: 141ms\tremaining: 1.42s\n",
      "90:\tlearn: 0.3325735\ttotal: 141ms\tremaining: 1.41s\n",
      "91:\tlearn: 0.3308650\ttotal: 142ms\tremaining: 1.4s\n",
      "92:\tlearn: 0.3282921\ttotal: 143ms\tremaining: 1.4s\n",
      "93:\tlearn: 0.3265822\ttotal: 144ms\tremaining: 1.39s\n",
      "94:\tlearn: 0.3245137\ttotal: 145ms\tremaining: 1.38s\n",
      "95:\tlearn: 0.3227461\ttotal: 147ms\tremaining: 1.38s\n",
      "96:\tlearn: 0.3209558\ttotal: 148ms\tremaining: 1.37s\n",
      "97:\tlearn: 0.3185980\ttotal: 148ms\tremaining: 1.37s\n",
      "98:\tlearn: 0.3174507\ttotal: 149ms\tremaining: 1.36s\n",
      "99:\tlearn: 0.3155700\ttotal: 150ms\tremaining: 1.35s\n",
      "100:\tlearn: 0.3141165\ttotal: 151ms\tremaining: 1.34s\n",
      "101:\tlearn: 0.3120342\ttotal: 152ms\tremaining: 1.34s\n",
      "102:\tlearn: 0.3104982\ttotal: 153ms\tremaining: 1.33s\n",
      "103:\tlearn: 0.3087718\ttotal: 154ms\tremaining: 1.32s\n",
      "104:\tlearn: 0.3068025\ttotal: 155ms\tremaining: 1.32s\n",
      "105:\tlearn: 0.3051630\ttotal: 156ms\tremaining: 1.31s\n",
      "106:\tlearn: 0.3031641\ttotal: 156ms\tremaining: 1.3s\n",
      "107:\tlearn: 0.3014105\ttotal: 157ms\tremaining: 1.3s\n",
      "108:\tlearn: 0.2996539\ttotal: 158ms\tremaining: 1.29s\n",
      "109:\tlearn: 0.2982231\ttotal: 159ms\tremaining: 1.29s\n",
      "110:\tlearn: 0.2965116\ttotal: 160ms\tremaining: 1.28s\n",
      "111:\tlearn: 0.2949255\ttotal: 161ms\tremaining: 1.28s\n",
      "112:\tlearn: 0.2937438\ttotal: 162ms\tremaining: 1.27s\n",
      "113:\tlearn: 0.2925328\ttotal: 163ms\tremaining: 1.26s\n",
      "114:\tlearn: 0.2908829\ttotal: 164ms\tremaining: 1.26s\n",
      "115:\tlearn: 0.2894072\ttotal: 165ms\tremaining: 1.25s\n",
      "116:\tlearn: 0.2881057\ttotal: 166ms\tremaining: 1.25s\n",
      "117:\tlearn: 0.2865958\ttotal: 166ms\tremaining: 1.24s\n",
      "118:\tlearn: 0.2848281\ttotal: 167ms\tremaining: 1.24s\n",
      "119:\tlearn: 0.2833020\ttotal: 168ms\tremaining: 1.23s\n",
      "120:\tlearn: 0.2824892\ttotal: 169ms\tremaining: 1.23s\n",
      "121:\tlearn: 0.2814501\ttotal: 170ms\tremaining: 1.22s\n",
      "122:\tlearn: 0.2802547\ttotal: 171ms\tremaining: 1.22s\n",
      "123:\tlearn: 0.2788570\ttotal: 172ms\tremaining: 1.21s\n",
      "124:\tlearn: 0.2773676\ttotal: 173ms\tremaining: 1.21s\n",
      "125:\tlearn: 0.2758047\ttotal: 173ms\tremaining: 1.2s\n",
      "126:\tlearn: 0.2750836\ttotal: 174ms\tremaining: 1.2s\n",
      "127:\tlearn: 0.2737114\ttotal: 175ms\tremaining: 1.19s\n",
      "128:\tlearn: 0.2728586\ttotal: 176ms\tremaining: 1.19s\n",
      "129:\tlearn: 0.2714222\ttotal: 177ms\tremaining: 1.18s\n",
      "130:\tlearn: 0.2704468\ttotal: 178ms\tremaining: 1.18s\n",
      "131:\tlearn: 0.2696085\ttotal: 178ms\tremaining: 1.17s\n",
      "132:\tlearn: 0.2686079\ttotal: 179ms\tremaining: 1.17s\n",
      "133:\tlearn: 0.2673633\ttotal: 180ms\tremaining: 1.16s\n",
      "134:\tlearn: 0.2664793\ttotal: 181ms\tremaining: 1.16s\n",
      "135:\tlearn: 0.2657280\ttotal: 182ms\tremaining: 1.15s\n",
      "136:\tlearn: 0.2649915\ttotal: 182ms\tremaining: 1.15s\n",
      "137:\tlearn: 0.2641250\ttotal: 183ms\tremaining: 1.14s\n",
      "138:\tlearn: 0.2632414\ttotal: 184ms\tremaining: 1.14s\n",
      "139:\tlearn: 0.2621892\ttotal: 185ms\tremaining: 1.14s\n",
      "140:\tlearn: 0.2613826\ttotal: 186ms\tremaining: 1.13s\n",
      "141:\tlearn: 0.2606587\ttotal: 187ms\tremaining: 1.13s\n",
      "142:\tlearn: 0.2596191\ttotal: 188ms\tremaining: 1.13s\n",
      "143:\tlearn: 0.2589164\ttotal: 189ms\tremaining: 1.12s\n",
      "144:\tlearn: 0.2578931\ttotal: 189ms\tremaining: 1.12s\n",
      "145:\tlearn: 0.2569096\ttotal: 190ms\tremaining: 1.11s\n",
      "146:\tlearn: 0.2560845\ttotal: 191ms\tremaining: 1.11s\n"
     ]
    },
    {
     "name": "stdout",
     "output_type": "stream",
     "text": [
      "147:\tlearn: 0.2552514\ttotal: 192ms\tremaining: 1.11s\n",
      "148:\tlearn: 0.2541530\ttotal: 193ms\tremaining: 1.1s\n",
      "149:\tlearn: 0.2532725\ttotal: 194ms\tremaining: 1.1s\n",
      "150:\tlearn: 0.2522774\ttotal: 195ms\tremaining: 1.1s\n",
      "151:\tlearn: 0.2512920\ttotal: 196ms\tremaining: 1.09s\n",
      "152:\tlearn: 0.2504942\ttotal: 197ms\tremaining: 1.09s\n",
      "153:\tlearn: 0.2499229\ttotal: 197ms\tremaining: 1.08s\n",
      "154:\tlearn: 0.2490578\ttotal: 198ms\tremaining: 1.08s\n",
      "155:\tlearn: 0.2484577\ttotal: 199ms\tremaining: 1.08s\n",
      "156:\tlearn: 0.2477714\ttotal: 200ms\tremaining: 1.07s\n",
      "157:\tlearn: 0.2471313\ttotal: 201ms\tremaining: 1.07s\n",
      "158:\tlearn: 0.2468158\ttotal: 202ms\tremaining: 1.07s\n",
      "159:\tlearn: 0.2462536\ttotal: 203ms\tremaining: 1.06s\n",
      "160:\tlearn: 0.2451887\ttotal: 203ms\tremaining: 1.06s\n",
      "161:\tlearn: 0.2445046\ttotal: 204ms\tremaining: 1.06s\n",
      "162:\tlearn: 0.2439228\ttotal: 205ms\tremaining: 1.05s\n",
      "163:\tlearn: 0.2432832\ttotal: 206ms\tremaining: 1.05s\n",
      "164:\tlearn: 0.2424413\ttotal: 207ms\tremaining: 1.05s\n",
      "165:\tlearn: 0.2413601\ttotal: 208ms\tremaining: 1.04s\n",
      "166:\tlearn: 0.2404303\ttotal: 209ms\tremaining: 1.04s\n",
      "167:\tlearn: 0.2400141\ttotal: 210ms\tremaining: 1.04s\n",
      "168:\tlearn: 0.2391272\ttotal: 211ms\tremaining: 1.04s\n",
      "169:\tlearn: 0.2385142\ttotal: 212ms\tremaining: 1.03s\n",
      "170:\tlearn: 0.2376707\ttotal: 213ms\tremaining: 1.03s\n",
      "171:\tlearn: 0.2369602\ttotal: 214ms\tremaining: 1.03s\n",
      "172:\tlearn: 0.2360578\ttotal: 215ms\tremaining: 1.03s\n",
      "173:\tlearn: 0.2353133\ttotal: 216ms\tremaining: 1.02s\n",
      "174:\tlearn: 0.2346061\ttotal: 217ms\tremaining: 1.02s\n",
      "175:\tlearn: 0.2340509\ttotal: 218ms\tremaining: 1.02s\n",
      "176:\tlearn: 0.2333571\ttotal: 219ms\tremaining: 1.02s\n",
      "177:\tlearn: 0.2327084\ttotal: 220ms\tremaining: 1.02s\n",
      "178:\tlearn: 0.2322088\ttotal: 221ms\tremaining: 1.01s\n",
      "179:\tlearn: 0.2316251\ttotal: 223ms\tremaining: 1.01s\n",
      "180:\tlearn: 0.2305668\ttotal: 224ms\tremaining: 1.01s\n",
      "181:\tlearn: 0.2298247\ttotal: 225ms\tremaining: 1.01s\n",
      "182:\tlearn: 0.2293448\ttotal: 226ms\tremaining: 1.01s\n",
      "183:\tlearn: 0.2285722\ttotal: 227ms\tremaining: 1.01s\n",
      "184:\tlearn: 0.2280233\ttotal: 228ms\tremaining: 1s\n",
      "185:\tlearn: 0.2275485\ttotal: 229ms\tremaining: 1s\n",
      "186:\tlearn: 0.2270438\ttotal: 230ms\tremaining: 1s\n",
      "187:\tlearn: 0.2262611\ttotal: 231ms\tremaining: 999ms\n",
      "188:\tlearn: 0.2258378\ttotal: 232ms\tremaining: 997ms\n",
      "189:\tlearn: 0.2252050\ttotal: 233ms\tremaining: 994ms\n",
      "190:\tlearn: 0.2246821\ttotal: 234ms\tremaining: 992ms\n",
      "191:\tlearn: 0.2243632\ttotal: 235ms\tremaining: 990ms\n",
      "192:\tlearn: 0.2237903\ttotal: 236ms\tremaining: 988ms\n",
      "193:\tlearn: 0.2230867\ttotal: 237ms\tremaining: 986ms\n",
      "194:\tlearn: 0.2223584\ttotal: 238ms\tremaining: 983ms\n",
      "195:\tlearn: 0.2216636\ttotal: 239ms\tremaining: 981ms\n",
      "196:\tlearn: 0.2213943\ttotal: 240ms\tremaining: 978ms\n",
      "197:\tlearn: 0.2205322\ttotal: 241ms\tremaining: 975ms\n",
      "198:\tlearn: 0.2200992\ttotal: 242ms\tremaining: 973ms\n",
      "199:\tlearn: 0.2191165\ttotal: 243ms\tremaining: 970ms\n",
      "200:\tlearn: 0.2188516\ttotal: 243ms\tremaining: 968ms\n",
      "201:\tlearn: 0.2183714\ttotal: 244ms\tremaining: 965ms\n",
      "202:\tlearn: 0.2178864\ttotal: 245ms\tremaining: 963ms\n",
      "203:\tlearn: 0.2176154\ttotal: 246ms\tremaining: 961ms\n",
      "204:\tlearn: 0.2169664\ttotal: 247ms\tremaining: 958ms\n",
      "205:\tlearn: 0.2162457\ttotal: 248ms\tremaining: 956ms\n",
      "206:\tlearn: 0.2158903\ttotal: 249ms\tremaining: 953ms\n",
      "207:\tlearn: 0.2155136\ttotal: 250ms\tremaining: 951ms\n",
      "208:\tlearn: 0.2151585\ttotal: 251ms\tremaining: 948ms\n",
      "209:\tlearn: 0.2149839\ttotal: 251ms\tremaining: 946ms\n",
      "210:\tlearn: 0.2143483\ttotal: 252ms\tremaining: 944ms\n",
      "211:\tlearn: 0.2140520\ttotal: 253ms\tremaining: 941ms\n",
      "212:\tlearn: 0.2131936\ttotal: 254ms\tremaining: 939ms\n",
      "213:\tlearn: 0.2124990\ttotal: 255ms\tremaining: 937ms\n",
      "214:\tlearn: 0.2121621\ttotal: 256ms\tremaining: 935ms\n",
      "215:\tlearn: 0.2115699\ttotal: 257ms\tremaining: 932ms\n",
      "216:\tlearn: 0.2107753\ttotal: 258ms\tremaining: 930ms\n",
      "217:\tlearn: 0.2101701\ttotal: 259ms\tremaining: 928ms\n",
      "218:\tlearn: 0.2099458\ttotal: 259ms\tremaining: 925ms\n",
      "219:\tlearn: 0.2093073\ttotal: 260ms\tremaining: 923ms\n",
      "220:\tlearn: 0.2089048\ttotal: 261ms\tremaining: 921ms\n",
      "221:\tlearn: 0.2086055\ttotal: 262ms\tremaining: 918ms\n",
      "222:\tlearn: 0.2081295\ttotal: 263ms\tremaining: 916ms\n",
      "223:\tlearn: 0.2075655\ttotal: 264ms\tremaining: 915ms\n",
      "224:\tlearn: 0.2070253\ttotal: 265ms\tremaining: 913ms\n",
      "225:\tlearn: 0.2062908\ttotal: 266ms\tremaining: 911ms\n",
      "226:\tlearn: 0.2056323\ttotal: 267ms\tremaining: 908ms\n",
      "227:\tlearn: 0.2048136\ttotal: 268ms\tremaining: 906ms\n",
      "228:\tlearn: 0.2043883\ttotal: 269ms\tremaining: 904ms\n",
      "229:\tlearn: 0.2038727\ttotal: 269ms\tremaining: 902ms\n",
      "230:\tlearn: 0.2036496\ttotal: 270ms\tremaining: 900ms\n",
      "231:\tlearn: 0.2032817\ttotal: 271ms\tremaining: 898ms\n",
      "232:\tlearn: 0.2026550\ttotal: 272ms\tremaining: 895ms\n",
      "233:\tlearn: 0.2021062\ttotal: 273ms\tremaining: 893ms\n",
      "234:\tlearn: 0.2020280\ttotal: 274ms\tremaining: 891ms\n",
      "235:\tlearn: 0.2017693\ttotal: 275ms\tremaining: 889ms\n",
      "236:\tlearn: 0.2013430\ttotal: 275ms\tremaining: 887ms\n",
      "237:\tlearn: 0.2009512\ttotal: 276ms\tremaining: 885ms\n",
      "238:\tlearn: 0.2003913\ttotal: 277ms\tremaining: 882ms\n",
      "239:\tlearn: 0.1998061\ttotal: 278ms\tremaining: 880ms\n",
      "240:\tlearn: 0.1991346\ttotal: 279ms\tremaining: 878ms\n",
      "241:\tlearn: 0.1989393\ttotal: 280ms\tremaining: 876ms\n",
      "242:\tlearn: 0.1986218\ttotal: 280ms\tremaining: 874ms\n",
      "243:\tlearn: 0.1982747\ttotal: 281ms\tremaining: 872ms\n",
      "244:\tlearn: 0.1977621\ttotal: 282ms\tremaining: 870ms\n",
      "245:\tlearn: 0.1970695\ttotal: 283ms\tremaining: 868ms\n",
      "246:\tlearn: 0.1968368\ttotal: 284ms\tremaining: 866ms\n",
      "247:\tlearn: 0.1966106\ttotal: 285ms\tremaining: 864ms\n",
      "248:\tlearn: 0.1964476\ttotal: 286ms\tremaining: 862ms\n",
      "249:\tlearn: 0.1957140\ttotal: 287ms\tremaining: 860ms\n",
      "250:\tlearn: 0.1950493\ttotal: 288ms\tremaining: 858ms\n",
      "251:\tlearn: 0.1944548\ttotal: 288ms\tremaining: 856ms\n",
      "252:\tlearn: 0.1942076\ttotal: 289ms\tremaining: 854ms\n",
      "253:\tlearn: 0.1937388\ttotal: 290ms\tremaining: 852ms\n",
      "254:\tlearn: 0.1934144\ttotal: 291ms\tremaining: 851ms\n",
      "255:\tlearn: 0.1930776\ttotal: 292ms\tremaining: 849ms\n",
      "256:\tlearn: 0.1925001\ttotal: 293ms\tremaining: 848ms\n",
      "257:\tlearn: 0.1918712\ttotal: 294ms\tremaining: 846ms\n",
      "258:\tlearn: 0.1913739\ttotal: 295ms\tremaining: 844ms\n",
      "259:\tlearn: 0.1908613\ttotal: 296ms\tremaining: 842ms\n",
      "260:\tlearn: 0.1903443\ttotal: 297ms\tremaining: 840ms\n",
      "261:\tlearn: 0.1899358\ttotal: 298ms\tremaining: 838ms\n",
      "262:\tlearn: 0.1895149\ttotal: 298ms\tremaining: 836ms\n",
      "263:\tlearn: 0.1892464\ttotal: 299ms\tremaining: 834ms\n"
     ]
    },
    {
     "name": "stdout",
     "output_type": "stream",
     "text": [
      "264:\tlearn: 0.1890512\ttotal: 300ms\tremaining: 833ms\n",
      "265:\tlearn: 0.1887157\ttotal: 301ms\tremaining: 832ms\n",
      "266:\tlearn: 0.1881993\ttotal: 302ms\tremaining: 830ms\n",
      "267:\tlearn: 0.1879680\ttotal: 303ms\tremaining: 829ms\n",
      "268:\tlearn: 0.1877430\ttotal: 304ms\tremaining: 827ms\n",
      "269:\tlearn: 0.1873512\ttotal: 305ms\tremaining: 825ms\n",
      "270:\tlearn: 0.1867446\ttotal: 306ms\tremaining: 823ms\n",
      "271:\tlearn: 0.1861888\ttotal: 307ms\tremaining: 821ms\n",
      "272:\tlearn: 0.1855587\ttotal: 308ms\tremaining: 820ms\n",
      "273:\tlearn: 0.1851604\ttotal: 309ms\tremaining: 818ms\n",
      "274:\tlearn: 0.1847512\ttotal: 310ms\tremaining: 816ms\n",
      "275:\tlearn: 0.1840023\ttotal: 311ms\tremaining: 815ms\n",
      "276:\tlearn: 0.1836272\ttotal: 312ms\tremaining: 813ms\n",
      "277:\tlearn: 0.1831902\ttotal: 312ms\tremaining: 811ms\n",
      "278:\tlearn: 0.1829305\ttotal: 313ms\tremaining: 809ms\n",
      "279:\tlearn: 0.1824102\ttotal: 314ms\tremaining: 808ms\n",
      "280:\tlearn: 0.1820304\ttotal: 315ms\tremaining: 806ms\n",
      "281:\tlearn: 0.1818611\ttotal: 316ms\tremaining: 804ms\n",
      "282:\tlearn: 0.1816727\ttotal: 318ms\tremaining: 805ms\n",
      "283:\tlearn: 0.1812327\ttotal: 319ms\tremaining: 803ms\n",
      "284:\tlearn: 0.1811357\ttotal: 320ms\tremaining: 802ms\n",
      "285:\tlearn: 0.1809325\ttotal: 321ms\tremaining: 801ms\n",
      "286:\tlearn: 0.1805257\ttotal: 322ms\tremaining: 801ms\n",
      "287:\tlearn: 0.1799762\ttotal: 323ms\tremaining: 799ms\n",
      "288:\tlearn: 0.1793906\ttotal: 324ms\tremaining: 797ms\n",
      "289:\tlearn: 0.1787854\ttotal: 325ms\tremaining: 796ms\n",
      "290:\tlearn: 0.1783358\ttotal: 326ms\tremaining: 794ms\n",
      "291:\tlearn: 0.1778138\ttotal: 327ms\tremaining: 792ms\n",
      "292:\tlearn: 0.1774478\ttotal: 328ms\tremaining: 791ms\n",
      "293:\tlearn: 0.1770334\ttotal: 329ms\tremaining: 789ms\n",
      "294:\tlearn: 0.1765944\ttotal: 330ms\tremaining: 788ms\n",
      "295:\tlearn: 0.1762933\ttotal: 330ms\tremaining: 786ms\n",
      "296:\tlearn: 0.1759526\ttotal: 331ms\tremaining: 784ms\n",
      "297:\tlearn: 0.1755425\ttotal: 332ms\tremaining: 783ms\n",
      "298:\tlearn: 0.1752371\ttotal: 333ms\tremaining: 781ms\n",
      "299:\tlearn: 0.1749569\ttotal: 334ms\tremaining: 780ms\n",
      "300:\tlearn: 0.1746192\ttotal: 335ms\tremaining: 778ms\n",
      "301:\tlearn: 0.1741599\ttotal: 336ms\tremaining: 777ms\n",
      "302:\tlearn: 0.1739956\ttotal: 337ms\tremaining: 775ms\n",
      "303:\tlearn: 0.1735331\ttotal: 338ms\tremaining: 773ms\n",
      "304:\tlearn: 0.1731026\ttotal: 339ms\tremaining: 772ms\n",
      "305:\tlearn: 0.1726750\ttotal: 340ms\tremaining: 770ms\n",
      "306:\tlearn: 0.1722052\ttotal: 341ms\tremaining: 769ms\n",
      "307:\tlearn: 0.1719409\ttotal: 341ms\tremaining: 767ms\n",
      "308:\tlearn: 0.1716316\ttotal: 342ms\tremaining: 765ms\n",
      "309:\tlearn: 0.1712380\ttotal: 343ms\tremaining: 764ms\n",
      "310:\tlearn: 0.1708319\ttotal: 344ms\tremaining: 762ms\n",
      "311:\tlearn: 0.1706055\ttotal: 345ms\tremaining: 761ms\n",
      "312:\tlearn: 0.1703072\ttotal: 346ms\tremaining: 759ms\n",
      "313:\tlearn: 0.1699450\ttotal: 347ms\tremaining: 757ms\n",
      "314:\tlearn: 0.1694819\ttotal: 348ms\tremaining: 756ms\n",
      "315:\tlearn: 0.1693612\ttotal: 348ms\tremaining: 754ms\n",
      "316:\tlearn: 0.1691949\ttotal: 349ms\tremaining: 753ms\n",
      "317:\tlearn: 0.1687421\ttotal: 350ms\tremaining: 751ms\n",
      "318:\tlearn: 0.1685273\ttotal: 351ms\tremaining: 749ms\n",
      "319:\tlearn: 0.1681653\ttotal: 352ms\tremaining: 748ms\n",
      "320:\tlearn: 0.1678550\ttotal: 353ms\tremaining: 746ms\n",
      "321:\tlearn: 0.1677203\ttotal: 354ms\tremaining: 744ms\n",
      "322:\tlearn: 0.1673683\ttotal: 354ms\tremaining: 743ms\n",
      "323:\tlearn: 0.1669696\ttotal: 355ms\tremaining: 741ms\n",
      "324:\tlearn: 0.1668502\ttotal: 356ms\tremaining: 740ms\n",
      "325:\tlearn: 0.1664803\ttotal: 357ms\tremaining: 738ms\n",
      "326:\tlearn: 0.1661414\ttotal: 358ms\tremaining: 737ms\n",
      "327:\tlearn: 0.1656916\ttotal: 359ms\tremaining: 736ms\n",
      "328:\tlearn: 0.1654710\ttotal: 360ms\tremaining: 734ms\n",
      "329:\tlearn: 0.1649753\ttotal: 361ms\tremaining: 733ms\n",
      "330:\tlearn: 0.1645200\ttotal: 362ms\tremaining: 731ms\n",
      "331:\tlearn: 0.1639847\ttotal: 363ms\tremaining: 729ms\n",
      "332:\tlearn: 0.1638418\ttotal: 363ms\tremaining: 728ms\n",
      "333:\tlearn: 0.1635416\ttotal: 364ms\tremaining: 727ms\n",
      "334:\tlearn: 0.1629862\ttotal: 365ms\tremaining: 725ms\n",
      "335:\tlearn: 0.1628602\ttotal: 366ms\tremaining: 724ms\n",
      "336:\tlearn: 0.1627008\ttotal: 367ms\tremaining: 723ms\n",
      "337:\tlearn: 0.1623089\ttotal: 368ms\tremaining: 721ms\n",
      "338:\tlearn: 0.1619573\ttotal: 369ms\tremaining: 720ms\n",
      "339:\tlearn: 0.1619207\ttotal: 370ms\tremaining: 718ms\n",
      "340:\tlearn: 0.1615561\ttotal: 371ms\tremaining: 717ms\n",
      "341:\tlearn: 0.1611662\ttotal: 372ms\tremaining: 715ms\n",
      "342:\tlearn: 0.1607945\ttotal: 373ms\tremaining: 714ms\n",
      "343:\tlearn: 0.1606720\ttotal: 374ms\tremaining: 712ms\n",
      "344:\tlearn: 0.1603709\ttotal: 374ms\tremaining: 711ms\n",
      "345:\tlearn: 0.1602660\ttotal: 375ms\tremaining: 709ms\n",
      "346:\tlearn: 0.1601136\ttotal: 376ms\tremaining: 708ms\n",
      "347:\tlearn: 0.1598625\ttotal: 377ms\tremaining: 706ms\n",
      "348:\tlearn: 0.1594446\ttotal: 378ms\tremaining: 705ms\n",
      "349:\tlearn: 0.1591868\ttotal: 379ms\tremaining: 703ms\n",
      "350:\tlearn: 0.1587901\ttotal: 380ms\tremaining: 702ms\n",
      "351:\tlearn: 0.1585092\ttotal: 380ms\tremaining: 700ms\n",
      "352:\tlearn: 0.1581563\ttotal: 381ms\tremaining: 699ms\n",
      "353:\tlearn: 0.1580712\ttotal: 382ms\tremaining: 698ms\n"
     ]
    },
    {
     "name": "stdout",
     "output_type": "stream",
     "text": [
      "354:\tlearn: 0.1576433\ttotal: 383ms\tremaining: 697ms\n",
      "355:\tlearn: 0.1575443\ttotal: 384ms\tremaining: 695ms\n",
      "356:\tlearn: 0.1575070\ttotal: 385ms\tremaining: 694ms\n",
      "357:\tlearn: 0.1574742\ttotal: 386ms\tremaining: 692ms\n",
      "358:\tlearn: 0.1574396\ttotal: 387ms\tremaining: 691ms\n",
      "359:\tlearn: 0.1568470\ttotal: 388ms\tremaining: 690ms\n",
      "360:\tlearn: 0.1567228\ttotal: 389ms\tremaining: 688ms\n",
      "361:\tlearn: 0.1563985\ttotal: 390ms\tremaining: 687ms\n",
      "362:\tlearn: 0.1563157\ttotal: 391ms\tremaining: 685ms\n",
      "363:\tlearn: 0.1559404\ttotal: 391ms\tremaining: 684ms\n",
      "364:\tlearn: 0.1558457\ttotal: 392ms\tremaining: 683ms\n",
      "365:\tlearn: 0.1555177\ttotal: 393ms\tremaining: 681ms\n",
      "366:\tlearn: 0.1554395\ttotal: 394ms\tremaining: 680ms\n",
      "367:\tlearn: 0.1550915\ttotal: 395ms\tremaining: 679ms\n",
      "368:\tlearn: 0.1546588\ttotal: 396ms\tremaining: 678ms\n",
      "369:\tlearn: 0.1542983\ttotal: 397ms\tremaining: 676ms\n",
      "370:\tlearn: 0.1542262\ttotal: 398ms\tremaining: 675ms\n",
      "371:\tlearn: 0.1538989\ttotal: 399ms\tremaining: 674ms\n",
      "372:\tlearn: 0.1537588\ttotal: 400ms\tremaining: 672ms\n",
      "373:\tlearn: 0.1534154\ttotal: 401ms\tremaining: 671ms\n",
      "374:\tlearn: 0.1530789\ttotal: 402ms\tremaining: 669ms\n",
      "375:\tlearn: 0.1527009\ttotal: 403ms\tremaining: 668ms\n",
      "376:\tlearn: 0.1525686\ttotal: 403ms\tremaining: 667ms\n",
      "377:\tlearn: 0.1521970\ttotal: 404ms\tremaining: 665ms\n",
      "378:\tlearn: 0.1518519\ttotal: 405ms\tremaining: 664ms\n",
      "379:\tlearn: 0.1514980\ttotal: 406ms\tremaining: 663ms\n",
      "380:\tlearn: 0.1510897\ttotal: 407ms\tremaining: 661ms\n",
      "381:\tlearn: 0.1507039\ttotal: 408ms\tremaining: 660ms\n",
      "382:\tlearn: 0.1503217\ttotal: 409ms\tremaining: 659ms\n",
      "383:\tlearn: 0.1500554\ttotal: 410ms\tremaining: 657ms\n",
      "384:\tlearn: 0.1499768\ttotal: 411ms\tremaining: 656ms\n",
      "385:\tlearn: 0.1496658\ttotal: 412ms\tremaining: 655ms\n",
      "386:\tlearn: 0.1493406\ttotal: 413ms\tremaining: 654ms\n",
      "387:\tlearn: 0.1489965\ttotal: 414ms\tremaining: 652ms\n",
      "388:\tlearn: 0.1489127\ttotal: 415ms\tremaining: 651ms\n",
      "389:\tlearn: 0.1485444\ttotal: 416ms\tremaining: 650ms\n",
      "390:\tlearn: 0.1481152\ttotal: 416ms\tremaining: 649ms\n",
      "391:\tlearn: 0.1477323\ttotal: 417ms\tremaining: 647ms\n",
      "392:\tlearn: 0.1474927\ttotal: 418ms\tremaining: 646ms\n",
      "393:\tlearn: 0.1472688\ttotal: 419ms\tremaining: 645ms\n",
      "394:\tlearn: 0.1469208\ttotal: 420ms\tremaining: 643ms\n",
      "395:\tlearn: 0.1466331\ttotal: 421ms\tremaining: 642ms\n",
      "396:\tlearn: 0.1465286\ttotal: 422ms\tremaining: 641ms\n",
      "397:\tlearn: 0.1461006\ttotal: 423ms\tremaining: 639ms\n",
      "398:\tlearn: 0.1458195\ttotal: 424ms\tremaining: 638ms\n",
      "399:\tlearn: 0.1454954\ttotal: 424ms\tremaining: 637ms\n",
      "400:\tlearn: 0.1453595\ttotal: 425ms\tremaining: 635ms\n",
      "401:\tlearn: 0.1450792\ttotal: 426ms\tremaining: 634ms\n",
      "402:\tlearn: 0.1447920\ttotal: 427ms\tremaining: 633ms\n",
      "403:\tlearn: 0.1443942\ttotal: 428ms\tremaining: 631ms\n",
      "404:\tlearn: 0.1443235\ttotal: 429ms\tremaining: 630ms\n",
      "405:\tlearn: 0.1442447\ttotal: 430ms\tremaining: 629ms\n",
      "406:\tlearn: 0.1439335\ttotal: 431ms\tremaining: 627ms\n",
      "407:\tlearn: 0.1437645\ttotal: 431ms\tremaining: 626ms\n",
      "408:\tlearn: 0.1434225\ttotal: 432ms\tremaining: 625ms\n",
      "409:\tlearn: 0.1430904\ttotal: 433ms\tremaining: 623ms\n",
      "410:\tlearn: 0.1429602\ttotal: 434ms\tremaining: 622ms\n",
      "411:\tlearn: 0.1427715\ttotal: 435ms\tremaining: 621ms\n",
      "412:\tlearn: 0.1423350\ttotal: 436ms\tremaining: 619ms\n",
      "413:\tlearn: 0.1422385\ttotal: 436ms\tremaining: 618ms\n",
      "414:\tlearn: 0.1419393\ttotal: 437ms\tremaining: 617ms\n",
      "415:\tlearn: 0.1418215\ttotal: 438ms\tremaining: 615ms\n",
      "416:\tlearn: 0.1414813\ttotal: 439ms\tremaining: 614ms\n",
      "417:\tlearn: 0.1412357\ttotal: 440ms\tremaining: 613ms\n",
      "418:\tlearn: 0.1410909\ttotal: 441ms\tremaining: 611ms\n",
      "419:\tlearn: 0.1408950\ttotal: 442ms\tremaining: 610ms\n",
      "420:\tlearn: 0.1405159\ttotal: 443ms\tremaining: 609ms\n",
      "421:\tlearn: 0.1403570\ttotal: 444ms\tremaining: 607ms\n",
      "422:\tlearn: 0.1399951\ttotal: 445ms\tremaining: 606ms\n",
      "423:\tlearn: 0.1398304\ttotal: 446ms\tremaining: 605ms\n",
      "424:\tlearn: 0.1397042\ttotal: 446ms\tremaining: 604ms\n",
      "425:\tlearn: 0.1394830\ttotal: 447ms\tremaining: 603ms\n",
      "426:\tlearn: 0.1390655\ttotal: 448ms\tremaining: 601ms\n",
      "427:\tlearn: 0.1389754\ttotal: 449ms\tremaining: 600ms\n",
      "428:\tlearn: 0.1388169\ttotal: 450ms\tremaining: 599ms\n",
      "429:\tlearn: 0.1385113\ttotal: 451ms\tremaining: 598ms\n",
      "430:\tlearn: 0.1381947\ttotal: 452ms\tremaining: 596ms\n",
      "431:\tlearn: 0.1379458\ttotal: 453ms\tremaining: 595ms\n",
      "432:\tlearn: 0.1378502\ttotal: 454ms\tremaining: 594ms\n",
      "433:\tlearn: 0.1375804\ttotal: 455ms\tremaining: 593ms\n",
      "434:\tlearn: 0.1372509\ttotal: 456ms\tremaining: 592ms\n",
      "435:\tlearn: 0.1370907\ttotal: 457ms\tremaining: 591ms\n",
      "436:\tlearn: 0.1367006\ttotal: 457ms\tremaining: 589ms\n",
      "437:\tlearn: 0.1364223\ttotal: 458ms\tremaining: 588ms\n",
      "438:\tlearn: 0.1361362\ttotal: 459ms\tremaining: 587ms\n",
      "439:\tlearn: 0.1360184\ttotal: 460ms\tremaining: 586ms\n",
      "440:\tlearn: 0.1357826\ttotal: 461ms\tremaining: 584ms\n",
      "441:\tlearn: 0.1354062\ttotal: 462ms\tremaining: 583ms\n",
      "442:\tlearn: 0.1350073\ttotal: 463ms\tremaining: 582ms\n",
      "443:\tlearn: 0.1348289\ttotal: 463ms\tremaining: 580ms\n",
      "444:\tlearn: 0.1347661\ttotal: 464ms\tremaining: 579ms\n",
      "445:\tlearn: 0.1344393\ttotal: 465ms\tremaining: 578ms\n",
      "446:\tlearn: 0.1341707\ttotal: 466ms\tremaining: 577ms\n",
      "447:\tlearn: 0.1338893\ttotal: 467ms\tremaining: 575ms\n",
      "448:\tlearn: 0.1338156\ttotal: 468ms\tremaining: 574ms\n",
      "449:\tlearn: 0.1336310\ttotal: 469ms\tremaining: 573ms\n",
      "450:\tlearn: 0.1335781\ttotal: 470ms\tremaining: 572ms\n",
      "451:\tlearn: 0.1335320\ttotal: 471ms\tremaining: 571ms\n",
      "452:\tlearn: 0.1334676\ttotal: 472ms\tremaining: 569ms\n",
      "453:\tlearn: 0.1332175\ttotal: 472ms\tremaining: 568ms\n",
      "454:\tlearn: 0.1331255\ttotal: 473ms\tremaining: 567ms\n",
      "455:\tlearn: 0.1328609\ttotal: 474ms\tremaining: 566ms\n",
      "456:\tlearn: 0.1326414\ttotal: 475ms\tremaining: 564ms\n",
      "457:\tlearn: 0.1323196\ttotal: 476ms\tremaining: 563ms\n",
      "458:\tlearn: 0.1319890\ttotal: 477ms\tremaining: 562ms\n",
      "459:\tlearn: 0.1316494\ttotal: 478ms\tremaining: 561ms\n",
      "460:\tlearn: 0.1315120\ttotal: 478ms\tremaining: 559ms\n",
      "461:\tlearn: 0.1314604\ttotal: 479ms\tremaining: 558ms\n",
      "462:\tlearn: 0.1314077\ttotal: 480ms\tremaining: 557ms\n",
      "463:\tlearn: 0.1313633\ttotal: 481ms\tremaining: 556ms\n",
      "464:\tlearn: 0.1312075\ttotal: 482ms\tremaining: 555ms\n",
      "465:\tlearn: 0.1309414\ttotal: 483ms\tremaining: 553ms\n",
      "466:\tlearn: 0.1308881\ttotal: 484ms\tremaining: 552ms\n",
      "467:\tlearn: 0.1305430\ttotal: 485ms\tremaining: 551ms\n",
      "468:\tlearn: 0.1302957\ttotal: 485ms\tremaining: 550ms\n",
      "469:\tlearn: 0.1299830\ttotal: 486ms\tremaining: 548ms\n",
      "470:\tlearn: 0.1297023\ttotal: 487ms\tremaining: 547ms\n",
      "471:\tlearn: 0.1293586\ttotal: 488ms\tremaining: 546ms\n",
      "472:\tlearn: 0.1290558\ttotal: 489ms\tremaining: 545ms\n",
      "473:\tlearn: 0.1289019\ttotal: 490ms\tremaining: 544ms\n",
      "474:\tlearn: 0.1286145\ttotal: 491ms\tremaining: 542ms\n"
     ]
    },
    {
     "name": "stdout",
     "output_type": "stream",
     "text": [
      "475:\tlearn: 0.1283418\ttotal: 492ms\tremaining: 541ms\n",
      "476:\tlearn: 0.1280046\ttotal: 493ms\tremaining: 540ms\n",
      "477:\tlearn: 0.1279563\ttotal: 494ms\tremaining: 539ms\n",
      "478:\tlearn: 0.1278912\ttotal: 494ms\tremaining: 538ms\n",
      "479:\tlearn: 0.1278456\ttotal: 495ms\tremaining: 537ms\n",
      "480:\tlearn: 0.1274726\ttotal: 496ms\tremaining: 536ms\n",
      "481:\tlearn: 0.1271660\ttotal: 497ms\tremaining: 534ms\n",
      "482:\tlearn: 0.1269984\ttotal: 498ms\tremaining: 534ms\n",
      "483:\tlearn: 0.1269438\ttotal: 499ms\tremaining: 532ms\n",
      "484:\tlearn: 0.1268785\ttotal: 500ms\tremaining: 531ms\n",
      "485:\tlearn: 0.1268332\ttotal: 501ms\tremaining: 530ms\n",
      "486:\tlearn: 0.1267889\ttotal: 502ms\tremaining: 529ms\n",
      "487:\tlearn: 0.1266623\ttotal: 503ms\tremaining: 528ms\n",
      "488:\tlearn: 0.1264013\ttotal: 504ms\tremaining: 526ms\n",
      "489:\tlearn: 0.1261034\ttotal: 505ms\tremaining: 525ms\n",
      "490:\tlearn: 0.1259484\ttotal: 506ms\tremaining: 524ms\n",
      "491:\tlearn: 0.1257297\ttotal: 507ms\tremaining: 523ms\n",
      "492:\tlearn: 0.1254039\ttotal: 508ms\tremaining: 522ms\n",
      "493:\tlearn: 0.1251408\ttotal: 508ms\tremaining: 521ms\n",
      "494:\tlearn: 0.1249057\ttotal: 509ms\tremaining: 520ms\n",
      "495:\tlearn: 0.1246264\ttotal: 510ms\tremaining: 518ms\n",
      "496:\tlearn: 0.1243622\ttotal: 511ms\tremaining: 517ms\n",
      "497:\tlearn: 0.1241297\ttotal: 512ms\tremaining: 516ms\n",
      "498:\tlearn: 0.1238285\ttotal: 513ms\tremaining: 515ms\n",
      "499:\tlearn: 0.1237607\ttotal: 514ms\tremaining: 514ms\n",
      "500:\tlearn: 0.1234697\ttotal: 515ms\tremaining: 513ms\n",
      "501:\tlearn: 0.1232933\ttotal: 516ms\tremaining: 511ms\n",
      "502:\tlearn: 0.1229968\ttotal: 516ms\tremaining: 510ms\n",
      "503:\tlearn: 0.1227721\ttotal: 517ms\tremaining: 509ms\n",
      "504:\tlearn: 0.1226477\ttotal: 518ms\tremaining: 508ms\n",
      "505:\tlearn: 0.1224464\ttotal: 519ms\tremaining: 507ms\n",
      "506:\tlearn: 0.1223800\ttotal: 520ms\tremaining: 505ms\n",
      "507:\tlearn: 0.1222000\ttotal: 521ms\tremaining: 504ms\n",
      "508:\tlearn: 0.1220284\ttotal: 522ms\tremaining: 503ms\n",
      "509:\tlearn: 0.1218317\ttotal: 522ms\tremaining: 502ms\n",
      "510:\tlearn: 0.1216489\ttotal: 523ms\tremaining: 501ms\n",
      "511:\tlearn: 0.1214021\ttotal: 524ms\tremaining: 500ms\n",
      "512:\tlearn: 0.1212413\ttotal: 525ms\tremaining: 498ms\n",
      "513:\tlearn: 0.1210401\ttotal: 526ms\tremaining: 497ms\n",
      "514:\tlearn: 0.1208288\ttotal: 527ms\tremaining: 496ms\n",
      "515:\tlearn: 0.1205770\ttotal: 528ms\tremaining: 495ms\n",
      "516:\tlearn: 0.1203739\ttotal: 529ms\tremaining: 494ms\n",
      "517:\tlearn: 0.1202455\ttotal: 530ms\tremaining: 493ms\n",
      "518:\tlearn: 0.1202196\ttotal: 530ms\tremaining: 491ms\n",
      "519:\tlearn: 0.1200048\ttotal: 531ms\tremaining: 490ms\n",
      "520:\tlearn: 0.1198275\ttotal: 532ms\tremaining: 489ms\n",
      "521:\tlearn: 0.1195102\ttotal: 533ms\tremaining: 488ms\n",
      "522:\tlearn: 0.1192956\ttotal: 534ms\tremaining: 487ms\n",
      "523:\tlearn: 0.1190562\ttotal: 535ms\tremaining: 486ms\n",
      "524:\tlearn: 0.1188695\ttotal: 536ms\tremaining: 485ms\n",
      "525:\tlearn: 0.1186359\ttotal: 537ms\tremaining: 484ms\n",
      "526:\tlearn: 0.1184283\ttotal: 538ms\tremaining: 482ms\n",
      "527:\tlearn: 0.1182212\ttotal: 538ms\tremaining: 481ms\n",
      "528:\tlearn: 0.1179923\ttotal: 539ms\tremaining: 480ms\n",
      "529:\tlearn: 0.1178470\ttotal: 540ms\tremaining: 479ms\n",
      "530:\tlearn: 0.1176170\ttotal: 541ms\tremaining: 478ms\n",
      "531:\tlearn: 0.1174579\ttotal: 542ms\tremaining: 477ms\n",
      "532:\tlearn: 0.1172315\ttotal: 543ms\tremaining: 476ms\n",
      "533:\tlearn: 0.1170980\ttotal: 544ms\tremaining: 474ms\n",
      "534:\tlearn: 0.1169112\ttotal: 545ms\tremaining: 473ms\n",
      "535:\tlearn: 0.1167237\ttotal: 546ms\tremaining: 472ms\n",
      "536:\tlearn: 0.1165145\ttotal: 546ms\tremaining: 471ms\n",
      "537:\tlearn: 0.1160704\ttotal: 547ms\tremaining: 470ms\n",
      "538:\tlearn: 0.1158393\ttotal: 548ms\tremaining: 469ms\n",
      "539:\tlearn: 0.1156228\ttotal: 549ms\tremaining: 468ms\n",
      "540:\tlearn: 0.1154964\ttotal: 550ms\tremaining: 466ms\n",
      "541:\tlearn: 0.1152242\ttotal: 551ms\tremaining: 465ms\n",
      "542:\tlearn: 0.1151610\ttotal: 552ms\tremaining: 465ms\n",
      "543:\tlearn: 0.1149908\ttotal: 553ms\tremaining: 464ms\n",
      "544:\tlearn: 0.1148453\ttotal: 554ms\tremaining: 462ms\n",
      "545:\tlearn: 0.1145391\ttotal: 555ms\tremaining: 461ms\n",
      "546:\tlearn: 0.1143788\ttotal: 556ms\tremaining: 460ms\n",
      "547:\tlearn: 0.1142101\ttotal: 557ms\tremaining: 459ms\n",
      "548:\tlearn: 0.1139939\ttotal: 557ms\tremaining: 458ms\n",
      "549:\tlearn: 0.1139507\ttotal: 558ms\tremaining: 457ms\n",
      "550:\tlearn: 0.1138823\ttotal: 559ms\tremaining: 456ms\n",
      "551:\tlearn: 0.1136184\ttotal: 560ms\tremaining: 455ms\n",
      "552:\tlearn: 0.1134147\ttotal: 561ms\tremaining: 453ms\n",
      "553:\tlearn: 0.1132140\ttotal: 562ms\tremaining: 452ms\n",
      "554:\tlearn: 0.1129966\ttotal: 563ms\tremaining: 451ms\n",
      "555:\tlearn: 0.1127425\ttotal: 563ms\tremaining: 450ms\n",
      "556:\tlearn: 0.1126924\ttotal: 564ms\tremaining: 449ms\n",
      "557:\tlearn: 0.1126321\ttotal: 565ms\tremaining: 448ms\n",
      "558:\tlearn: 0.1124469\ttotal: 566ms\tremaining: 446ms\n",
      "559:\tlearn: 0.1123108\ttotal: 567ms\tremaining: 445ms\n",
      "560:\tlearn: 0.1120955\ttotal: 568ms\tremaining: 444ms\n",
      "561:\tlearn: 0.1119629\ttotal: 569ms\tremaining: 443ms\n",
      "562:\tlearn: 0.1117453\ttotal: 569ms\tremaining: 442ms\n",
      "563:\tlearn: 0.1116201\ttotal: 570ms\tremaining: 441ms\n",
      "564:\tlearn: 0.1115153\ttotal: 571ms\tremaining: 440ms\n",
      "565:\tlearn: 0.1111076\ttotal: 572ms\tremaining: 439ms\n",
      "566:\tlearn: 0.1109227\ttotal: 573ms\tremaining: 438ms\n",
      "567:\tlearn: 0.1108712\ttotal: 574ms\tremaining: 436ms\n"
     ]
    },
    {
     "name": "stdout",
     "output_type": "stream",
     "text": [
      "568:\tlearn: 0.1108067\ttotal: 575ms\tremaining: 436ms\n",
      "569:\tlearn: 0.1107761\ttotal: 576ms\tremaining: 435ms\n",
      "570:\tlearn: 0.1106619\ttotal: 577ms\tremaining: 433ms\n",
      "571:\tlearn: 0.1105012\ttotal: 578ms\tremaining: 432ms\n",
      "572:\tlearn: 0.1104550\ttotal: 579ms\tremaining: 431ms\n",
      "573:\tlearn: 0.1103333\ttotal: 579ms\tremaining: 430ms\n",
      "574:\tlearn: 0.1101534\ttotal: 580ms\tremaining: 429ms\n",
      "575:\tlearn: 0.1101051\ttotal: 581ms\tremaining: 428ms\n",
      "576:\tlearn: 0.1097784\ttotal: 582ms\tremaining: 427ms\n",
      "577:\tlearn: 0.1096293\ttotal: 583ms\tremaining: 425ms\n",
      "578:\tlearn: 0.1094517\ttotal: 584ms\tremaining: 424ms\n",
      "579:\tlearn: 0.1093522\ttotal: 584ms\tremaining: 423ms\n",
      "580:\tlearn: 0.1091906\ttotal: 585ms\tremaining: 422ms\n",
      "581:\tlearn: 0.1091407\ttotal: 586ms\tremaining: 421ms\n",
      "582:\tlearn: 0.1088150\ttotal: 587ms\tremaining: 420ms\n",
      "583:\tlearn: 0.1084874\ttotal: 588ms\tremaining: 419ms\n",
      "584:\tlearn: 0.1083656\ttotal: 589ms\tremaining: 418ms\n",
      "585:\tlearn: 0.1082051\ttotal: 589ms\tremaining: 416ms\n",
      "586:\tlearn: 0.1081465\ttotal: 590ms\tremaining: 415ms\n",
      "587:\tlearn: 0.1079110\ttotal: 591ms\tremaining: 414ms\n",
      "588:\tlearn: 0.1076769\ttotal: 592ms\tremaining: 413ms\n",
      "589:\tlearn: 0.1076150\ttotal: 593ms\tremaining: 412ms\n",
      "590:\tlearn: 0.1074847\ttotal: 594ms\tremaining: 411ms\n",
      "591:\tlearn: 0.1073027\ttotal: 595ms\tremaining: 410ms\n",
      "592:\tlearn: 0.1071310\ttotal: 596ms\tremaining: 409ms\n",
      "593:\tlearn: 0.1069781\ttotal: 597ms\tremaining: 408ms\n",
      "594:\tlearn: 0.1068058\ttotal: 598ms\tremaining: 407ms\n",
      "595:\tlearn: 0.1066299\ttotal: 598ms\tremaining: 406ms\n",
      "596:\tlearn: 0.1064286\ttotal: 599ms\tremaining: 405ms\n",
      "597:\tlearn: 0.1064127\ttotal: 600ms\tremaining: 403ms\n",
      "598:\tlearn: 0.1061238\ttotal: 601ms\tremaining: 402ms\n",
      "599:\tlearn: 0.1059918\ttotal: 602ms\tremaining: 401ms\n",
      "600:\tlearn: 0.1057621\ttotal: 603ms\tremaining: 400ms\n",
      "601:\tlearn: 0.1055841\ttotal: 604ms\tremaining: 399ms\n",
      "602:\tlearn: 0.1052663\ttotal: 605ms\tremaining: 398ms\n",
      "603:\tlearn: 0.1051306\ttotal: 605ms\tremaining: 397ms\n",
      "604:\tlearn: 0.1050080\ttotal: 606ms\tremaining: 396ms\n",
      "605:\tlearn: 0.1047552\ttotal: 607ms\tremaining: 395ms\n",
      "606:\tlearn: 0.1047371\ttotal: 608ms\tremaining: 394ms\n",
      "607:\tlearn: 0.1044894\ttotal: 609ms\tremaining: 393ms\n",
      "608:\tlearn: 0.1044744\ttotal: 610ms\tremaining: 392ms\n",
      "609:\tlearn: 0.1044094\ttotal: 611ms\tremaining: 390ms\n",
      "610:\tlearn: 0.1043037\ttotal: 612ms\tremaining: 389ms\n",
      "611:\tlearn: 0.1041359\ttotal: 612ms\tremaining: 388ms\n",
      "612:\tlearn: 0.1041151\ttotal: 613ms\tremaining: 387ms\n",
      "613:\tlearn: 0.1040564\ttotal: 614ms\tremaining: 386ms\n",
      "614:\tlearn: 0.1038615\ttotal: 615ms\tremaining: 385ms\n",
      "615:\tlearn: 0.1038144\ttotal: 616ms\tremaining: 384ms\n",
      "616:\tlearn: 0.1035817\ttotal: 617ms\tremaining: 383ms\n",
      "617:\tlearn: 0.1034585\ttotal: 618ms\tremaining: 382ms\n",
      "618:\tlearn: 0.1032797\ttotal: 619ms\tremaining: 381ms\n",
      "619:\tlearn: 0.1031142\ttotal: 620ms\tremaining: 380ms\n",
      "620:\tlearn: 0.1028820\ttotal: 620ms\tremaining: 379ms\n",
      "621:\tlearn: 0.1027566\ttotal: 621ms\tremaining: 378ms\n",
      "622:\tlearn: 0.1025132\ttotal: 623ms\tremaining: 377ms\n",
      "623:\tlearn: 0.1023649\ttotal: 624ms\tremaining: 376ms\n",
      "624:\tlearn: 0.1023064\ttotal: 624ms\tremaining: 375ms\n",
      "625:\tlearn: 0.1022008\ttotal: 625ms\tremaining: 374ms\n",
      "626:\tlearn: 0.1021219\ttotal: 626ms\tremaining: 372ms\n",
      "627:\tlearn: 0.1019994\ttotal: 627ms\tremaining: 371ms\n",
      "628:\tlearn: 0.1017456\ttotal: 628ms\tremaining: 370ms\n",
      "629:\tlearn: 0.1017135\ttotal: 628ms\tremaining: 369ms\n",
      "630:\tlearn: 0.1015314\ttotal: 629ms\tremaining: 368ms\n",
      "631:\tlearn: 0.1012795\ttotal: 630ms\tremaining: 367ms\n",
      "632:\tlearn: 0.1010617\ttotal: 631ms\tremaining: 366ms\n",
      "633:\tlearn: 0.1009060\ttotal: 632ms\tremaining: 365ms\n",
      "634:\tlearn: 0.1007144\ttotal: 633ms\tremaining: 364ms\n",
      "635:\tlearn: 0.1006452\ttotal: 634ms\tremaining: 363ms\n",
      "636:\tlearn: 0.1006126\ttotal: 635ms\tremaining: 362ms\n",
      "637:\tlearn: 0.1004529\ttotal: 635ms\tremaining: 361ms\n",
      "638:\tlearn: 0.1004360\ttotal: 636ms\tremaining: 359ms\n",
      "639:\tlearn: 0.1002959\ttotal: 637ms\tremaining: 358ms\n",
      "640:\tlearn: 0.1001244\ttotal: 638ms\tremaining: 357ms\n",
      "641:\tlearn: 0.1000090\ttotal: 639ms\tremaining: 356ms\n",
      "642:\tlearn: 0.0998161\ttotal: 640ms\tremaining: 355ms\n",
      "643:\tlearn: 0.0998000\ttotal: 641ms\tremaining: 354ms\n",
      "644:\tlearn: 0.0997315\ttotal: 641ms\tremaining: 353ms\n",
      "645:\tlearn: 0.0995916\ttotal: 642ms\tremaining: 352ms\n",
      "646:\tlearn: 0.0993914\ttotal: 643ms\tremaining: 351ms\n",
      "647:\tlearn: 0.0992433\ttotal: 644ms\tremaining: 350ms\n",
      "648:\tlearn: 0.0990784\ttotal: 645ms\tremaining: 349ms\n",
      "649:\tlearn: 0.0989591\ttotal: 646ms\tremaining: 348ms\n",
      "650:\tlearn: 0.0987703\ttotal: 647ms\tremaining: 347ms\n",
      "651:\tlearn: 0.0986521\ttotal: 648ms\tremaining: 346ms\n",
      "652:\tlearn: 0.0983669\ttotal: 648ms\tremaining: 345ms\n",
      "653:\tlearn: 0.0982288\ttotal: 649ms\tremaining: 344ms\n",
      "654:\tlearn: 0.0982137\ttotal: 650ms\tremaining: 342ms\n",
      "655:\tlearn: 0.0980808\ttotal: 651ms\tremaining: 341ms\n",
      "656:\tlearn: 0.0978731\ttotal: 652ms\tremaining: 340ms\n",
      "657:\tlearn: 0.0976721\ttotal: 653ms\tremaining: 339ms\n",
      "658:\tlearn: 0.0975411\ttotal: 654ms\tremaining: 338ms\n",
      "659:\tlearn: 0.0974331\ttotal: 655ms\tremaining: 337ms\n",
      "660:\tlearn: 0.0974012\ttotal: 655ms\tremaining: 336ms\n",
      "661:\tlearn: 0.0972019\ttotal: 656ms\tremaining: 335ms\n",
      "662:\tlearn: 0.0970716\ttotal: 657ms\tremaining: 334ms\n",
      "663:\tlearn: 0.0968842\ttotal: 658ms\tremaining: 333ms\n",
      "664:\tlearn: 0.0967038\ttotal: 659ms\tremaining: 332ms\n",
      "665:\tlearn: 0.0966690\ttotal: 660ms\tremaining: 331ms\n",
      "666:\tlearn: 0.0965429\ttotal: 660ms\tremaining: 330ms\n",
      "667:\tlearn: 0.0962789\ttotal: 661ms\tremaining: 329ms\n",
      "668:\tlearn: 0.0961369\ttotal: 662ms\tremaining: 328ms\n",
      "669:\tlearn: 0.0960528\ttotal: 663ms\tremaining: 327ms\n",
      "670:\tlearn: 0.0959032\ttotal: 664ms\tremaining: 326ms\n",
      "671:\tlearn: 0.0958044\ttotal: 665ms\tremaining: 325ms\n",
      "672:\tlearn: 0.0955857\ttotal: 666ms\tremaining: 324ms\n",
      "673:\tlearn: 0.0954414\ttotal: 667ms\tremaining: 322ms\n",
      "674:\tlearn: 0.0952352\ttotal: 668ms\tremaining: 322ms\n",
      "675:\tlearn: 0.0950627\ttotal: 669ms\tremaining: 321ms\n",
      "676:\tlearn: 0.0949070\ttotal: 670ms\tremaining: 320ms\n",
      "677:\tlearn: 0.0948065\ttotal: 671ms\tremaining: 318ms\n",
      "678:\tlearn: 0.0946533\ttotal: 671ms\tremaining: 317ms\n",
      "679:\tlearn: 0.0944982\ttotal: 672ms\tremaining: 316ms\n",
      "680:\tlearn: 0.0943824\ttotal: 673ms\tremaining: 315ms\n",
      "681:\tlearn: 0.0942237\ttotal: 674ms\tremaining: 314ms\n",
      "682:\tlearn: 0.0941102\ttotal: 675ms\tremaining: 313ms\n",
      "683:\tlearn: 0.0939070\ttotal: 676ms\tremaining: 312ms\n",
      "684:\tlearn: 0.0937036\ttotal: 678ms\tremaining: 312ms\n",
      "685:\tlearn: 0.0936563\ttotal: 679ms\tremaining: 311ms\n",
      "686:\tlearn: 0.0935453\ttotal: 679ms\tremaining: 309ms\n",
      "687:\tlearn: 0.0934015\ttotal: 680ms\tremaining: 308ms\n",
      "688:\tlearn: 0.0932297\ttotal: 681ms\tremaining: 307ms\n",
      "689:\tlearn: 0.0931303\ttotal: 682ms\tremaining: 306ms\n"
     ]
    },
    {
     "name": "stdout",
     "output_type": "stream",
     "text": [
      "690:\tlearn: 0.0930820\ttotal: 683ms\tremaining: 305ms\n",
      "691:\tlearn: 0.0930504\ttotal: 684ms\tremaining: 304ms\n",
      "692:\tlearn: 0.0928404\ttotal: 685ms\tremaining: 303ms\n",
      "693:\tlearn: 0.0927216\ttotal: 686ms\tremaining: 302ms\n",
      "694:\tlearn: 0.0926809\ttotal: 686ms\tremaining: 301ms\n",
      "695:\tlearn: 0.0925160\ttotal: 687ms\tremaining: 300ms\n",
      "696:\tlearn: 0.0923162\ttotal: 688ms\tremaining: 299ms\n",
      "697:\tlearn: 0.0921953\ttotal: 689ms\tremaining: 298ms\n",
      "698:\tlearn: 0.0920122\ttotal: 690ms\tremaining: 297ms\n",
      "699:\tlearn: 0.0918640\ttotal: 691ms\tremaining: 296ms\n",
      "700:\tlearn: 0.0917608\ttotal: 692ms\tremaining: 295ms\n",
      "701:\tlearn: 0.0916495\ttotal: 693ms\tremaining: 294ms\n",
      "702:\tlearn: 0.0915444\ttotal: 694ms\tremaining: 293ms\n",
      "703:\tlearn: 0.0914411\ttotal: 695ms\tremaining: 292ms\n",
      "704:\tlearn: 0.0913643\ttotal: 695ms\tremaining: 291ms\n",
      "705:\tlearn: 0.0912065\ttotal: 696ms\tremaining: 290ms\n",
      "706:\tlearn: 0.0910071\ttotal: 697ms\tremaining: 289ms\n",
      "707:\tlearn: 0.0909209\ttotal: 698ms\tremaining: 288ms\n",
      "708:\tlearn: 0.0908414\ttotal: 699ms\tremaining: 287ms\n",
      "709:\tlearn: 0.0906886\ttotal: 700ms\tremaining: 286ms\n",
      "710:\tlearn: 0.0906156\ttotal: 701ms\tremaining: 285ms\n",
      "711:\tlearn: 0.0904656\ttotal: 702ms\tremaining: 284ms\n",
      "712:\tlearn: 0.0903264\ttotal: 702ms\tremaining: 283ms\n",
      "713:\tlearn: 0.0902530\ttotal: 703ms\tremaining: 282ms\n",
      "714:\tlearn: 0.0900521\ttotal: 704ms\tremaining: 281ms\n",
      "715:\tlearn: 0.0899590\ttotal: 705ms\tremaining: 280ms\n",
      "716:\tlearn: 0.0898458\ttotal: 706ms\tremaining: 279ms\n",
      "717:\tlearn: 0.0897365\ttotal: 707ms\tremaining: 278ms\n",
      "718:\tlearn: 0.0896786\ttotal: 709ms\tremaining: 277ms\n",
      "719:\tlearn: 0.0896425\ttotal: 710ms\tremaining: 276ms\n",
      "720:\tlearn: 0.0895753\ttotal: 710ms\tremaining: 275ms\n",
      "721:\tlearn: 0.0895642\ttotal: 711ms\tremaining: 274ms\n",
      "722:\tlearn: 0.0894168\ttotal: 712ms\tremaining: 273ms\n",
      "723:\tlearn: 0.0893274\ttotal: 713ms\tremaining: 272ms\n",
      "724:\tlearn: 0.0892138\ttotal: 714ms\tremaining: 271ms\n",
      "725:\tlearn: 0.0891434\ttotal: 715ms\tremaining: 270ms\n",
      "726:\tlearn: 0.0890528\ttotal: 716ms\tremaining: 269ms\n",
      "727:\tlearn: 0.0889680\ttotal: 717ms\tremaining: 268ms\n",
      "728:\tlearn: 0.0887934\ttotal: 718ms\tremaining: 267ms\n",
      "729:\tlearn: 0.0887822\ttotal: 719ms\tremaining: 266ms\n",
      "730:\tlearn: 0.0886110\ttotal: 720ms\tremaining: 265ms\n",
      "731:\tlearn: 0.0885115\ttotal: 721ms\tremaining: 264ms\n",
      "732:\tlearn: 0.0883769\ttotal: 721ms\tremaining: 263ms\n",
      "733:\tlearn: 0.0882751\ttotal: 722ms\tremaining: 262ms\n",
      "734:\tlearn: 0.0881643\ttotal: 723ms\tremaining: 261ms\n",
      "735:\tlearn: 0.0879592\ttotal: 724ms\tremaining: 260ms\n",
      "736:\tlearn: 0.0879157\ttotal: 725ms\tremaining: 259ms\n",
      "737:\tlearn: 0.0878183\ttotal: 726ms\tremaining: 258ms\n",
      "738:\tlearn: 0.0875369\ttotal: 728ms\tremaining: 257ms\n",
      "739:\tlearn: 0.0873372\ttotal: 728ms\tremaining: 256ms\n",
      "740:\tlearn: 0.0871975\ttotal: 729ms\tremaining: 255ms\n",
      "741:\tlearn: 0.0871525\ttotal: 730ms\tremaining: 254ms\n",
      "742:\tlearn: 0.0870517\ttotal: 731ms\tremaining: 253ms\n",
      "743:\tlearn: 0.0869347\ttotal: 732ms\tremaining: 252ms\n",
      "744:\tlearn: 0.0867606\ttotal: 733ms\tremaining: 251ms\n",
      "745:\tlearn: 0.0866274\ttotal: 734ms\tremaining: 250ms\n",
      "746:\tlearn: 0.0866161\ttotal: 735ms\tremaining: 249ms\n",
      "747:\tlearn: 0.0864313\ttotal: 736ms\tremaining: 248ms\n",
      "748:\tlearn: 0.0862321\ttotal: 737ms\tremaining: 247ms\n",
      "749:\tlearn: 0.0860258\ttotal: 738ms\tremaining: 246ms\n",
      "750:\tlearn: 0.0858300\ttotal: 739ms\tremaining: 245ms\n",
      "751:\tlearn: 0.0857414\ttotal: 740ms\tremaining: 244ms\n",
      "752:\tlearn: 0.0856045\ttotal: 741ms\tremaining: 243ms\n",
      "753:\tlearn: 0.0855867\ttotal: 742ms\tremaining: 242ms\n",
      "754:\tlearn: 0.0854103\ttotal: 742ms\tremaining: 241ms\n",
      "755:\tlearn: 0.0852863\ttotal: 743ms\tremaining: 240ms\n",
      "756:\tlearn: 0.0852732\ttotal: 744ms\tremaining: 239ms\n",
      "757:\tlearn: 0.0851027\ttotal: 745ms\tremaining: 238ms\n",
      "758:\tlearn: 0.0849721\ttotal: 746ms\tremaining: 237ms\n",
      "759:\tlearn: 0.0848204\ttotal: 747ms\tremaining: 236ms\n",
      "760:\tlearn: 0.0846712\ttotal: 748ms\tremaining: 235ms\n",
      "761:\tlearn: 0.0845979\ttotal: 748ms\tremaining: 234ms\n",
      "762:\tlearn: 0.0845323\ttotal: 749ms\tremaining: 233ms\n",
      "763:\tlearn: 0.0845001\ttotal: 750ms\tremaining: 232ms\n",
      "764:\tlearn: 0.0843635\ttotal: 751ms\tremaining: 231ms\n",
      "765:\tlearn: 0.0842336\ttotal: 752ms\tremaining: 230ms\n",
      "766:\tlearn: 0.0841920\ttotal: 753ms\tremaining: 229ms\n",
      "767:\tlearn: 0.0840544\ttotal: 753ms\tremaining: 228ms\n",
      "768:\tlearn: 0.0839630\ttotal: 754ms\tremaining: 227ms\n",
      "769:\tlearn: 0.0838382\ttotal: 756ms\tremaining: 226ms\n",
      "770:\tlearn: 0.0837575\ttotal: 756ms\tremaining: 225ms\n",
      "771:\tlearn: 0.0835843\ttotal: 757ms\tremaining: 224ms\n",
      "772:\tlearn: 0.0834174\ttotal: 758ms\tremaining: 223ms\n",
      "773:\tlearn: 0.0833631\ttotal: 759ms\tremaining: 222ms\n",
      "774:\tlearn: 0.0832814\ttotal: 760ms\tremaining: 221ms\n",
      "775:\tlearn: 0.0832703\ttotal: 761ms\tremaining: 220ms\n",
      "776:\tlearn: 0.0831031\ttotal: 762ms\tremaining: 219ms\n",
      "777:\tlearn: 0.0829047\ttotal: 762ms\tremaining: 218ms\n",
      "778:\tlearn: 0.0828980\ttotal: 763ms\tremaining: 217ms\n",
      "779:\tlearn: 0.0827881\ttotal: 764ms\tremaining: 216ms\n",
      "780:\tlearn: 0.0826743\ttotal: 765ms\tremaining: 215ms\n"
     ]
    },
    {
     "name": "stdout",
     "output_type": "stream",
     "text": [
      "781:\tlearn: 0.0825754\ttotal: 766ms\tremaining: 214ms\n",
      "782:\tlearn: 0.0823770\ttotal: 767ms\tremaining: 213ms\n",
      "783:\tlearn: 0.0823407\ttotal: 768ms\tremaining: 212ms\n",
      "784:\tlearn: 0.0821636\ttotal: 769ms\tremaining: 211ms\n",
      "785:\tlearn: 0.0820249\ttotal: 770ms\tremaining: 210ms\n",
      "786:\tlearn: 0.0819213\ttotal: 770ms\tremaining: 208ms\n",
      "787:\tlearn: 0.0818919\ttotal: 771ms\tremaining: 207ms\n",
      "788:\tlearn: 0.0817494\ttotal: 772ms\tremaining: 206ms\n",
      "789:\tlearn: 0.0815990\ttotal: 773ms\tremaining: 205ms\n",
      "790:\tlearn: 0.0815041\ttotal: 774ms\tremaining: 204ms\n",
      "791:\tlearn: 0.0814755\ttotal: 775ms\tremaining: 203ms\n",
      "792:\tlearn: 0.0814379\ttotal: 775ms\tremaining: 202ms\n",
      "793:\tlearn: 0.0813402\ttotal: 776ms\tremaining: 201ms\n",
      "794:\tlearn: 0.0812156\ttotal: 777ms\tremaining: 200ms\n",
      "795:\tlearn: 0.0811418\ttotal: 778ms\tremaining: 199ms\n",
      "796:\tlearn: 0.0810382\ttotal: 779ms\tremaining: 198ms\n",
      "797:\tlearn: 0.0808582\ttotal: 780ms\tremaining: 197ms\n",
      "798:\tlearn: 0.0807473\ttotal: 781ms\tremaining: 196ms\n",
      "799:\tlearn: 0.0805618\ttotal: 781ms\tremaining: 195ms\n",
      "800:\tlearn: 0.0804153\ttotal: 782ms\tremaining: 194ms\n",
      "801:\tlearn: 0.0803819\ttotal: 783ms\tremaining: 193ms\n",
      "802:\tlearn: 0.0802135\ttotal: 784ms\tremaining: 192ms\n",
      "803:\tlearn: 0.0801792\ttotal: 785ms\tremaining: 191ms\n",
      "804:\tlearn: 0.0800830\ttotal: 786ms\tremaining: 190ms\n",
      "805:\tlearn: 0.0800532\ttotal: 787ms\tremaining: 189ms\n",
      "806:\tlearn: 0.0799305\ttotal: 788ms\tremaining: 188ms\n",
      "807:\tlearn: 0.0797851\ttotal: 788ms\tremaining: 187ms\n",
      "808:\tlearn: 0.0796531\ttotal: 789ms\tremaining: 186ms\n",
      "809:\tlearn: 0.0796075\ttotal: 790ms\tremaining: 185ms\n",
      "810:\tlearn: 0.0795347\ttotal: 791ms\tremaining: 184ms\n",
      "811:\tlearn: 0.0794510\ttotal: 792ms\tremaining: 183ms\n",
      "812:\tlearn: 0.0793057\ttotal: 793ms\tremaining: 182ms\n",
      "813:\tlearn: 0.0792666\ttotal: 794ms\tremaining: 181ms\n",
      "814:\tlearn: 0.0791618\ttotal: 795ms\tremaining: 180ms\n",
      "815:\tlearn: 0.0790112\ttotal: 796ms\tremaining: 179ms\n",
      "816:\tlearn: 0.0788977\ttotal: 797ms\tremaining: 178ms\n",
      "817:\tlearn: 0.0788579\ttotal: 797ms\tremaining: 177ms\n",
      "818:\tlearn: 0.0787221\ttotal: 798ms\tremaining: 176ms\n",
      "819:\tlearn: 0.0785227\ttotal: 799ms\tremaining: 175ms\n",
      "820:\tlearn: 0.0784657\ttotal: 800ms\tremaining: 174ms\n",
      "821:\tlearn: 0.0783689\ttotal: 801ms\tremaining: 173ms\n",
      "822:\tlearn: 0.0782486\ttotal: 802ms\tremaining: 173ms\n",
      "823:\tlearn: 0.0781683\ttotal: 803ms\tremaining: 171ms\n",
      "824:\tlearn: 0.0780557\ttotal: 804ms\tremaining: 170ms\n",
      "825:\tlearn: 0.0779100\ttotal: 805ms\tremaining: 169ms\n",
      "826:\tlearn: 0.0777295\ttotal: 805ms\tremaining: 168ms\n",
      "827:\tlearn: 0.0776465\ttotal: 806ms\tremaining: 167ms\n",
      "828:\tlearn: 0.0774762\ttotal: 807ms\tremaining: 166ms\n",
      "829:\tlearn: 0.0773705\ttotal: 808ms\tremaining: 166ms\n",
      "830:\tlearn: 0.0772549\ttotal: 809ms\tremaining: 165ms\n",
      "831:\tlearn: 0.0771796\ttotal: 810ms\tremaining: 164ms\n",
      "832:\tlearn: 0.0770939\ttotal: 811ms\tremaining: 163ms\n",
      "833:\tlearn: 0.0770180\ttotal: 812ms\tremaining: 162ms\n",
      "834:\tlearn: 0.0768735\ttotal: 812ms\tremaining: 161ms\n",
      "835:\tlearn: 0.0767450\ttotal: 813ms\tremaining: 160ms\n",
      "836:\tlearn: 0.0766437\ttotal: 814ms\tremaining: 159ms\n",
      "837:\tlearn: 0.0764903\ttotal: 815ms\tremaining: 158ms\n",
      "838:\tlearn: 0.0764584\ttotal: 816ms\tremaining: 157ms\n",
      "839:\tlearn: 0.0763558\ttotal: 817ms\tremaining: 156ms\n",
      "840:\tlearn: 0.0762641\ttotal: 818ms\tremaining: 155ms\n",
      "841:\tlearn: 0.0761152\ttotal: 819ms\tremaining: 154ms\n",
      "842:\tlearn: 0.0759539\ttotal: 820ms\tremaining: 153ms\n",
      "843:\tlearn: 0.0757937\ttotal: 820ms\tremaining: 152ms\n",
      "844:\tlearn: 0.0757329\ttotal: 821ms\tremaining: 151ms\n",
      "845:\tlearn: 0.0755597\ttotal: 822ms\tremaining: 150ms\n",
      "846:\tlearn: 0.0754666\ttotal: 823ms\tremaining: 149ms\n",
      "847:\tlearn: 0.0753503\ttotal: 824ms\tremaining: 148ms\n",
      "848:\tlearn: 0.0752232\ttotal: 825ms\tremaining: 147ms\n",
      "849:\tlearn: 0.0751964\ttotal: 826ms\tremaining: 146ms\n",
      "850:\tlearn: 0.0750499\ttotal: 826ms\tremaining: 145ms\n",
      "851:\tlearn: 0.0749610\ttotal: 827ms\tremaining: 144ms\n",
      "852:\tlearn: 0.0749132\ttotal: 828ms\tremaining: 143ms\n",
      "853:\tlearn: 0.0747879\ttotal: 829ms\tremaining: 142ms\n",
      "854:\tlearn: 0.0746393\ttotal: 830ms\tremaining: 141ms\n",
      "855:\tlearn: 0.0745132\ttotal: 831ms\tremaining: 140ms\n",
      "856:\tlearn: 0.0744911\ttotal: 832ms\tremaining: 139ms\n",
      "857:\tlearn: 0.0743833\ttotal: 833ms\tremaining: 138ms\n",
      "858:\tlearn: 0.0742652\ttotal: 833ms\tremaining: 137ms\n",
      "859:\tlearn: 0.0742254\ttotal: 835ms\tremaining: 136ms\n",
      "860:\tlearn: 0.0741459\ttotal: 835ms\tremaining: 135ms\n",
      "861:\tlearn: 0.0740528\ttotal: 836ms\tremaining: 134ms\n",
      "862:\tlearn: 0.0739650\ttotal: 837ms\tremaining: 133ms\n",
      "863:\tlearn: 0.0738287\ttotal: 838ms\tremaining: 132ms\n",
      "864:\tlearn: 0.0736517\ttotal: 839ms\tremaining: 131ms\n",
      "865:\tlearn: 0.0735527\ttotal: 840ms\tremaining: 130ms\n",
      "866:\tlearn: 0.0734121\ttotal: 841ms\tremaining: 129ms\n",
      "867:\tlearn: 0.0733754\ttotal: 842ms\tremaining: 128ms\n",
      "868:\tlearn: 0.0732371\ttotal: 842ms\tremaining: 127ms\n",
      "869:\tlearn: 0.0731172\ttotal: 843ms\tremaining: 126ms\n",
      "870:\tlearn: 0.0730334\ttotal: 844ms\tremaining: 125ms\n",
      "871:\tlearn: 0.0729073\ttotal: 845ms\tremaining: 124ms\n",
      "872:\tlearn: 0.0728114\ttotal: 846ms\tremaining: 123ms\n",
      "873:\tlearn: 0.0726726\ttotal: 847ms\tremaining: 122ms\n",
      "874:\tlearn: 0.0725594\ttotal: 848ms\tremaining: 121ms\n",
      "875:\tlearn: 0.0724246\ttotal: 849ms\tremaining: 120ms\n",
      "876:\tlearn: 0.0723387\ttotal: 849ms\tremaining: 119ms\n",
      "877:\tlearn: 0.0721817\ttotal: 850ms\tremaining: 118ms\n",
      "878:\tlearn: 0.0721344\ttotal: 851ms\tremaining: 117ms\n",
      "879:\tlearn: 0.0720133\ttotal: 852ms\tremaining: 116ms\n",
      "880:\tlearn: 0.0718722\ttotal: 853ms\tremaining: 115ms\n",
      "881:\tlearn: 0.0717449\ttotal: 854ms\tremaining: 114ms\n",
      "882:\tlearn: 0.0716862\ttotal: 855ms\tremaining: 113ms\n",
      "883:\tlearn: 0.0716773\ttotal: 856ms\tremaining: 112ms\n",
      "884:\tlearn: 0.0715579\ttotal: 857ms\tremaining: 111ms\n",
      "885:\tlearn: 0.0714955\ttotal: 858ms\tremaining: 110ms\n",
      "886:\tlearn: 0.0713741\ttotal: 859ms\tremaining: 109ms\n",
      "887:\tlearn: 0.0712191\ttotal: 859ms\tremaining: 108ms\n",
      "888:\tlearn: 0.0710730\ttotal: 860ms\tremaining: 107ms\n",
      "889:\tlearn: 0.0710564\ttotal: 861ms\tremaining: 106ms\n",
      "890:\tlearn: 0.0709113\ttotal: 862ms\tremaining: 105ms\n",
      "891:\tlearn: 0.0708071\ttotal: 863ms\tremaining: 105ms\n",
      "892:\tlearn: 0.0706777\ttotal: 864ms\tremaining: 104ms\n",
      "893:\tlearn: 0.0705619\ttotal: 865ms\tremaining: 103ms\n",
      "894:\tlearn: 0.0705347\ttotal: 866ms\tremaining: 102ms\n",
      "895:\tlearn: 0.0704234\ttotal: 867ms\tremaining: 101ms\n",
      "896:\tlearn: 0.0703306\ttotal: 868ms\tremaining: 99.6ms\n",
      "897:\tlearn: 0.0701912\ttotal: 868ms\tremaining: 98.6ms\n",
      "898:\tlearn: 0.0701078\ttotal: 869ms\tremaining: 97.7ms\n",
      "899:\tlearn: 0.0700224\ttotal: 870ms\tremaining: 96.7ms\n",
      "900:\tlearn: 0.0699353\ttotal: 871ms\tremaining: 95.7ms\n",
      "901:\tlearn: 0.0698989\ttotal: 872ms\tremaining: 94.7ms\n",
      "902:\tlearn: 0.0697883\ttotal: 873ms\tremaining: 93.8ms\n"
     ]
    },
    {
     "name": "stdout",
     "output_type": "stream",
     "text": [
      "903:\tlearn: 0.0696993\ttotal: 874ms\tremaining: 92.8ms\n",
      "904:\tlearn: 0.0696742\ttotal: 875ms\tremaining: 91.8ms\n",
      "905:\tlearn: 0.0695270\ttotal: 876ms\tremaining: 90.9ms\n",
      "906:\tlearn: 0.0693737\ttotal: 877ms\tremaining: 89.9ms\n",
      "907:\tlearn: 0.0692910\ttotal: 878ms\tremaining: 88.9ms\n",
      "908:\tlearn: 0.0692004\ttotal: 879ms\tremaining: 87.9ms\n",
      "909:\tlearn: 0.0690899\ttotal: 879ms\tremaining: 87ms\n",
      "910:\tlearn: 0.0690122\ttotal: 880ms\tremaining: 86ms\n",
      "911:\tlearn: 0.0688723\ttotal: 881ms\tremaining: 85ms\n",
      "912:\tlearn: 0.0688474\ttotal: 882ms\tremaining: 84.1ms\n",
      "913:\tlearn: 0.0687928\ttotal: 883ms\tremaining: 83.1ms\n",
      "914:\tlearn: 0.0686913\ttotal: 884ms\tremaining: 82.1ms\n",
      "915:\tlearn: 0.0685360\ttotal: 885ms\tremaining: 81.1ms\n",
      "916:\tlearn: 0.0684181\ttotal: 886ms\tremaining: 80.2ms\n",
      "917:\tlearn: 0.0683472\ttotal: 886ms\tremaining: 79.2ms\n",
      "918:\tlearn: 0.0681782\ttotal: 887ms\tremaining: 78.2ms\n",
      "919:\tlearn: 0.0680825\ttotal: 888ms\tremaining: 77.2ms\n",
      "920:\tlearn: 0.0679472\ttotal: 889ms\tremaining: 76.3ms\n",
      "921:\tlearn: 0.0678188\ttotal: 890ms\tremaining: 75.3ms\n",
      "922:\tlearn: 0.0677171\ttotal: 891ms\tremaining: 74.3ms\n",
      "923:\tlearn: 0.0676290\ttotal: 892ms\tremaining: 73.4ms\n",
      "924:\tlearn: 0.0675649\ttotal: 893ms\tremaining: 72.4ms\n",
      "925:\tlearn: 0.0674983\ttotal: 894ms\tremaining: 71.4ms\n",
      "926:\tlearn: 0.0673376\ttotal: 895ms\tremaining: 70.5ms\n",
      "927:\tlearn: 0.0672422\ttotal: 896ms\tremaining: 69.5ms\n",
      "928:\tlearn: 0.0671398\ttotal: 896ms\tremaining: 68.5ms\n",
      "929:\tlearn: 0.0671056\ttotal: 897ms\tremaining: 67.5ms\n",
      "930:\tlearn: 0.0669923\ttotal: 898ms\tremaining: 66.6ms\n",
      "931:\tlearn: 0.0669708\ttotal: 899ms\tremaining: 65.6ms\n",
      "932:\tlearn: 0.0669079\ttotal: 900ms\tremaining: 64.6ms\n",
      "933:\tlearn: 0.0667956\ttotal: 901ms\tremaining: 63.6ms\n",
      "934:\tlearn: 0.0667882\ttotal: 902ms\tremaining: 62.7ms\n",
      "935:\tlearn: 0.0666712\ttotal: 903ms\tremaining: 61.8ms\n",
      "936:\tlearn: 0.0664832\ttotal: 904ms\tremaining: 60.8ms\n",
      "937:\tlearn: 0.0664611\ttotal: 906ms\tremaining: 59.9ms\n",
      "938:\tlearn: 0.0663288\ttotal: 907ms\tremaining: 58.9ms\n",
      "939:\tlearn: 0.0662119\ttotal: 908ms\tremaining: 58ms\n",
      "940:\tlearn: 0.0661384\ttotal: 909ms\tremaining: 57ms\n",
      "941:\tlearn: 0.0659956\ttotal: 910ms\tremaining: 56ms\n",
      "942:\tlearn: 0.0659272\ttotal: 911ms\tremaining: 55.1ms\n",
      "943:\tlearn: 0.0658685\ttotal: 912ms\tremaining: 54.1ms\n",
      "944:\tlearn: 0.0657709\ttotal: 913ms\tremaining: 53.1ms\n",
      "945:\tlearn: 0.0656741\ttotal: 913ms\tremaining: 52.1ms\n",
      "946:\tlearn: 0.0656651\ttotal: 914ms\tremaining: 51.2ms\n",
      "947:\tlearn: 0.0656573\ttotal: 915ms\tremaining: 50.2ms\n",
      "948:\tlearn: 0.0656012\ttotal: 916ms\tremaining: 49.2ms\n",
      "949:\tlearn: 0.0655025\ttotal: 917ms\tremaining: 48.3ms\n",
      "950:\tlearn: 0.0654042\ttotal: 918ms\tremaining: 47.3ms\n",
      "951:\tlearn: 0.0653151\ttotal: 919ms\tremaining: 46.3ms\n",
      "952:\tlearn: 0.0652874\ttotal: 920ms\tremaining: 45.4ms\n",
      "953:\tlearn: 0.0651693\ttotal: 921ms\tremaining: 44.4ms\n",
      "954:\tlearn: 0.0650688\ttotal: 922ms\tremaining: 43.4ms\n",
      "955:\tlearn: 0.0649538\ttotal: 923ms\tremaining: 42.5ms\n",
      "956:\tlearn: 0.0649485\ttotal: 924ms\tremaining: 41.5ms\n",
      "957:\tlearn: 0.0648755\ttotal: 925ms\tremaining: 40.5ms\n",
      "958:\tlearn: 0.0647027\ttotal: 926ms\tremaining: 39.6ms\n",
      "959:\tlearn: 0.0646255\ttotal: 927ms\tremaining: 38.6ms\n",
      "960:\tlearn: 0.0645463\ttotal: 928ms\tremaining: 37.6ms\n",
      "961:\tlearn: 0.0645374\ttotal: 929ms\tremaining: 36.7ms\n",
      "962:\tlearn: 0.0644626\ttotal: 929ms\tremaining: 35.7ms\n",
      "963:\tlearn: 0.0644115\ttotal: 930ms\tremaining: 34.7ms\n",
      "964:\tlearn: 0.0643260\ttotal: 931ms\tremaining: 33.8ms\n",
      "965:\tlearn: 0.0643191\ttotal: 932ms\tremaining: 32.8ms\n",
      "966:\tlearn: 0.0642833\ttotal: 933ms\tremaining: 31.8ms\n",
      "967:\tlearn: 0.0642735\ttotal: 934ms\tremaining: 30.9ms\n",
      "968:\tlearn: 0.0641693\ttotal: 935ms\tremaining: 29.9ms\n",
      "969:\tlearn: 0.0641046\ttotal: 936ms\tremaining: 28.9ms\n",
      "970:\tlearn: 0.0640050\ttotal: 936ms\tremaining: 28ms\n",
      "971:\tlearn: 0.0639127\ttotal: 937ms\tremaining: 27ms\n",
      "972:\tlearn: 0.0638082\ttotal: 938ms\tremaining: 26ms\n",
      "973:\tlearn: 0.0637240\ttotal: 939ms\tremaining: 25.1ms\n",
      "974:\tlearn: 0.0636728\ttotal: 940ms\tremaining: 24.1ms\n",
      "975:\tlearn: 0.0635661\ttotal: 941ms\tremaining: 23.1ms\n",
      "976:\tlearn: 0.0634752\ttotal: 942ms\tremaining: 22.2ms\n",
      "977:\tlearn: 0.0633266\ttotal: 943ms\tremaining: 21.2ms\n",
      "978:\tlearn: 0.0632544\ttotal: 944ms\tremaining: 20.2ms\n",
      "979:\tlearn: 0.0631299\ttotal: 944ms\tremaining: 19.3ms\n",
      "980:\tlearn: 0.0631108\ttotal: 945ms\tremaining: 18.3ms\n",
      "981:\tlearn: 0.0630591\ttotal: 946ms\tremaining: 17.3ms\n",
      "982:\tlearn: 0.0629522\ttotal: 947ms\tremaining: 16.4ms\n",
      "983:\tlearn: 0.0628690\ttotal: 948ms\tremaining: 15.4ms\n",
      "984:\tlearn: 0.0626850\ttotal: 949ms\tremaining: 14.4ms\n",
      "985:\tlearn: 0.0625871\ttotal: 950ms\tremaining: 13.5ms\n",
      "986:\tlearn: 0.0625087\ttotal: 951ms\tremaining: 12.5ms\n",
      "987:\tlearn: 0.0624685\ttotal: 951ms\tremaining: 11.6ms\n",
      "988:\tlearn: 0.0623826\ttotal: 952ms\tremaining: 10.6ms\n",
      "989:\tlearn: 0.0623727\ttotal: 953ms\tremaining: 9.63ms\n",
      "990:\tlearn: 0.0622592\ttotal: 954ms\tremaining: 8.66ms\n",
      "991:\tlearn: 0.0621912\ttotal: 955ms\tremaining: 7.7ms\n",
      "992:\tlearn: 0.0620874\ttotal: 956ms\tremaining: 6.74ms\n",
      "993:\tlearn: 0.0620817\ttotal: 957ms\tremaining: 5.78ms\n"
     ]
    },
    {
     "name": "stdout",
     "output_type": "stream",
     "text": [
      "994:\tlearn: 0.0619784\ttotal: 958ms\tremaining: 4.81ms\n",
      "995:\tlearn: 0.0619092\ttotal: 959ms\tremaining: 3.85ms\n",
      "996:\tlearn: 0.0618337\ttotal: 960ms\tremaining: 2.89ms\n",
      "997:\tlearn: 0.0617225\ttotal: 961ms\tremaining: 1.93ms\n",
      "998:\tlearn: 0.0616152\ttotal: 962ms\tremaining: 962us\n",
      "999:\tlearn: 0.0615302\ttotal: 963ms\tremaining: 0us\n"
     ]
    },
    {
     "data": {
      "text/plain": [
       "<catboost.core.CatBoostRegressor at 0x7f78bb5bfeb0>"
      ]
     },
     "execution_count": 9,
     "metadata": {},
     "output_type": "execute_result"
    }
   ],
   "source": [
    "#Train the Model \n",
    "prior_model = ctb.CatBoostRegressor()\n",
    "prior_model.fit(X_train,Y_train)"
   ]
  },
  {
   "cell_type": "code",
   "execution_count": 10,
   "id": "af65dcda",
   "metadata": {
    "execution": {
     "iopub.execute_input": "2022-03-11T09:43:31.300955Z",
     "iopub.status.busy": "2022-03-11T09:43:31.300582Z",
     "iopub.status.idle": "2022-03-11T09:43:31.308121Z",
     "shell.execute_reply": "2022-03-11T09:43:31.308410Z"
    },
    "id": "af65dcda",
    "papermill": {
     "duration": 0.020916,
     "end_time": "2022-03-11T09:43:31.308526",
     "exception": false,
     "start_time": "2022-03-11T09:43:31.287610",
     "status": "completed"
    },
    "tags": []
   },
   "outputs": [
    {
     "data": {
      "application/scrapbook.scrap.json+json": {
       "data": 0.06772773636555227,
       "encoder": "json",
       "name": "Prior Model MSE",
       "version": 1
      }
     },
     "metadata": {
      "scrapbook": {
       "data": true,
       "display": false,
       "name": "Prior Model MSE"
      }
     },
     "output_type": "display_data"
    },
    {
     "data": {
      "application/scrapbook.scrap.json+json": {
       "data": 0.08858555193817402,
       "encoder": "json",
       "name": "ABC Pre-generator MSE",
       "version": 1
      }
     },
     "metadata": {
      "scrapbook": {
       "data": true,
       "display": false,
       "name": "ABC Pre-generator MSE"
      }
     },
     "output_type": "display_data"
    },
    {
     "data": {
      "application/scrapbook.scrap.json+json": {
       "data": 0.19184986491142952,
       "encoder": "json",
       "name": "Prior Model MAE",
       "version": 1
      }
     },
     "metadata": {
      "scrapbook": {
       "data": true,
       "display": false,
       "name": "Prior Model MAE"
      }
     },
     "output_type": "display_data"
    },
    {
     "data": {
      "application/scrapbook.scrap.json+json": {
       "data": 0.2216726987638969,
       "encoder": "json",
       "name": "ABC Pre-generator MAE",
       "version": 1
      }
     },
     "metadata": {
      "scrapbook": {
       "data": true,
       "display": false,
       "name": "ABC Pre-generator MAE"
      }
     },
     "output_type": "display_data"
    }
   ],
   "source": [
    "y_pred = prior_model.predict(X_test)\n",
    "y_abc = y_pred + np.random.normal(0,variance, y_pred.shape)\n",
    "mse = mean_squared_error(y_pred,Y_test)\n",
    "sb.glue(\"Prior Model MSE\",mse)\n",
    "mse = mean_squared_error(y_abc,Y_test)\n",
    "sb.glue(\"ABC Pre-generator MSE\",mse)\n",
    "\n",
    "mae = mean_absolute_error(y_pred,Y_test)\n",
    "sb.glue(\"Prior Model MAE\",mae)\n",
    "mae = mean_absolute_error(y_abc,Y_test)\n",
    "sb.glue(\"ABC Pre-generator MAE\",mae)"
   ]
  },
  {
   "cell_type": "markdown",
   "id": "25609da2",
   "metadata": {
    "papermill": {
     "duration": 0.009895,
     "end_time": "2022-03-11T09:43:31.328620",
     "exception": false,
     "start_time": "2022-03-11T09:43:31.318725",
     "status": "completed"
    },
    "tags": []
   },
   "source": [
    "# ABC GAN Model"
   ]
  },
  {
   "cell_type": "code",
   "execution_count": 11,
   "id": "dfc3464d",
   "metadata": {
    "execution": {
     "iopub.execute_input": "2022-03-11T09:43:31.351621Z",
     "iopub.status.busy": "2022-03-11T09:43:31.351252Z",
     "iopub.status.idle": "2022-03-11T09:43:31.353547Z",
     "shell.execute_reply": "2022-03-11T09:43:31.353849Z"
    },
    "papermill": {
     "duration": 0.015375,
     "end_time": "2022-03-11T09:43:31.353960",
     "exception": false,
     "start_time": "2022-03-11T09:43:31.338585",
     "status": "completed"
    },
    "tags": []
   },
   "outputs": [],
   "source": [
    "gen = network.Generator(n_features+1).to(device)\n",
    "disc = network.Discriminator(n_features+1).to(device)\n",
    "\n",
    "criterion = torch.nn.BCELoss()\n",
    "gen_opt = torch.optim.Adam(gen.parameters(), lr=0.001, betas=(0.5, 0.999))\n",
    "disc_opt = torch.optim.Adam(disc.parameters(), lr=0.001, betas=(0.5, 0.999))"
   ]
  },
  {
   "cell_type": "code",
   "execution_count": 12,
   "id": "b75fdd85",
   "metadata": {
    "execution": {
     "iopub.execute_input": "2022-03-11T09:43:31.376247Z",
     "iopub.status.busy": "2022-03-11T09:43:31.375886Z",
     "iopub.status.idle": "2022-03-11T09:44:07.188700Z",
     "shell.execute_reply": "2022-03-11T09:44:07.189013Z"
    },
    "papermill": {
     "duration": 35.825102,
     "end_time": "2022-03-11T09:44:07.189149",
     "exception": false,
     "start_time": "2022-03-11T09:43:31.364047",
     "status": "completed"
    },
    "tags": []
   },
   "outputs": [
    {
     "data": {
      "image/png": "[encoded data removed]",
      "text/plain": [
       "<Figure size 432x288 with 1 Axes>"
      ]
     },
     "metadata": {
      "needs_background": "light"
     },
     "output_type": "display_data"
    },
    {
     "data": {
      "image/png": "[encoded data removed]",
      "text/plain": [
       "<Figure size 432x288 with 1 Axes>"
      ]
     },
     "metadata": {
      "needs_background": "light"
     },
     "output_type": "display_data"
    }
   ],
   "source": [
    "#Training the ABC_GAN \n",
    "ABC_train_test2.training_GAN(disc,gen,disc_opt,gen_opt,train_data,batch_size,n_epochs,criterion,prior_model,variance,0,device)"
   ]
  },
  {
   "cell_type": "code",
   "execution_count": 13,
   "id": "1fa7c368",
   "metadata": {
    "execution": {
     "iopub.execute_input": "2022-03-11T09:44:07.214246Z",
     "iopub.status.busy": "2022-03-11T09:44:07.213861Z",
     "iopub.status.idle": "2022-03-11T09:44:07.509582Z",
     "shell.execute_reply": "2022-03-11T09:44:07.509887Z"
    },
    "papermill": {
     "duration": 0.309603,
     "end_time": "2022-03-11T09:44:07.510010",
     "exception": false,
     "start_time": "2022-03-11T09:44:07.200407",
     "status": "completed"
    },
    "tags": []
   },
   "outputs": [
    {
     "data": {
      "application/scrapbook.scrap.json+json": {
       "data": 0.0753898111527233,
       "encoder": "json",
       "name": "ABC-GAN Model 1 MSE",
       "version": 1
      }
     },
     "metadata": {
      "scrapbook": {
       "data": true,
       "display": false,
       "name": "ABC-GAN Model 1 MSE"
      }
     },
     "output_type": "display_data"
    },
    {
     "data": {
      "application/scrapbook.scrap.json+json": {
       "data": 0.20588692655056423,
       "encoder": "json",
       "name": "ABC-GAN Model 1 MAE",
       "version": 1
      }
     },
     "metadata": {
      "scrapbook": {
       "data": true,
       "display": false,
       "name": "ABC-GAN Model 1 MAE"
      }
     },
     "output_type": "display_data"
    },
    {
     "data": {
      "application/scrapbook.scrap.json+json": {
       "data": 21.00046650815755,
       "encoder": "json",
       "name": "ABC-GAN Model 1 Manhattan Distance",
       "version": 1
      }
     },
     "metadata": {
      "scrapbook": {
       "data": true,
       "display": false,
       "name": "ABC-GAN Model 1 Manhattan Distance"
      }
     },
     "output_type": "display_data"
    },
    {
     "data": {
      "application/scrapbook.scrap.json+json": {
       "data": 2.7720837496218285,
       "encoder": "json",
       "name": "ABC-GAN Model 1 Euclidean distance",
       "version": 1
      }
     },
     "metadata": {
      "scrapbook": {
       "data": true,
       "display": false,
       "name": "ABC-GAN Model 1 Euclidean distance"
      }
     },
     "output_type": "display_data"
    },
    {
     "data": {
      "application/scrapbook.scrap.json+json": {
       "data": [
        [
         0.0762441223023452,
         0.07408728599856343,
         0.0743942933903675,
         0.07045961970736266,
         0.06539452595806296,
         0.07291844361763603,
         0.07543739355675008,
         0.0709679279432824,
         0.07537108410527389,
         0.07285322898503899,
         0.0690091639529868,
         0.07443803998785478,
         0.07172131088612588,
         0.07937082823816202,
         0.0737349484199032,
         0.07518312763981833,
         0.08049723517545736,
         0.06988659746228951,
         0.06841844102185494,
         0.07861963576217146,
         0.07150260925917762,
         0.07699366133552764,
         0.07175914283259464,
         0.07664185397674932,
         0.07122915476667742,
         0.07450473339555086,
         0.0757090455216508,
         0.0675858330647954,
         0.07593384241619495,
         0.07036963917068972,
         0.08131025437653323,
         0.07332057194678783,
         0.07551606923825926,
         0.07663649565874785,
         0.07563519875559584,
         0.07577308759998753,
         0.07755302318338235,
         0.07514182240375701,
         0.07503587423736863,
         0.07245095112313521,
         0.07267051543423682,
         0.07308881862269416,
         0.08392961372986504,
         0.07977341369759668,
         0.07775599200661434,
         0.07995805338223272,
         0.07538317190495146,
         0.07487126258798363,
         0.07156679008561528,
         0.07845179202836168,
         0.07355766954511994,
         0.0746768394418296,
         0.06670080755960173,
         0.07854821851154509,
         0.08237528085266606,
         0.07673335334816521,
         0.0729669307080975,
         0.07917649861872902,
         0.08376439014448772,
         0.07305334210255936,
         0.07533451567952261,
         0.0767940396263636,
         0.07666672801413658,
         0.07345997833529647,
         0.07691353511280775,
         0.07244052501977412,
         0.07636981869204723,
         0.07509809104825271,
         0.0802819951693183,
         0.07352143543188083,
         0.07978763621114048,
         0.07476958329774551,
         0.07820060211084841,
         0.08275919962515203,
         0.06989447035437193,
         0.08099819318637833,
         0.07199742627081113,
         0.08052517854873252,
         0.0736802113069606,
         0.08039329782622316,
         0.08184207850324031,
         0.07879983253251122,
         0.0823744586831359,
         0.07616391717639187,
         0.08003493092137508,
         0.08154341336663003,
         0.07178141988216818,
         0.07617659829809761,
         0.07955675948244383,
         0.07419171633167428,
         0.06956725329474067,
         0.06733763909034779,
         0.07368559942205158,
         0.07484643651524732,
         0.07083660489719551,
         0.07620330238861392,
         0.08218190098808092,
         0.07306424248554744,
         0.07732135894455473,
         0.0729723185130927
        ],
        [
         0.20379060146161446,
         0.20344717719354757,
         0.20539037064265678,
         0.20222119463826804,
         0.1944195708972128,
         0.2027633292874431,
         0.20772090832721077,
         0.20027450272156036,
         0.2020296133671175,
         0.20384258766859478,
         0.19516908969985797,
         0.1978033384874317,
         0.20425841262491018,
         0.21276653345272528,
         0.20557111736350492,
         0.20815504960460113,
         0.21393301926881952,
         0.19592976908875154,
         0.19697365501676412,
         0.20471445022735232,
         0.19999047238197104,
         0.2070659274582331,
         0.19818576075611452,
         0.21066957099509298,
         0.2032548439798548,
         0.20870266114270278,
         0.20310752872633292,
         0.19534510495506374,
         0.20503356980671192,
         0.19915125129160052,
         0.2135900187525241,
         0.20288746896218143,
         0.21038448464527143,
         0.2020092894067513,
         0.2106343411256139,
         0.20476435089264722,
         0.2088727353633765,
         0.20220288576777368,
         0.21081754978855743,
         0.20995328561676777,
         0.19951994791079095,
         0.20369191143625215,
         0.21485109503983574,
         0.20925767377347632,
         0.2130552941440221,
         0.21636973563399092,
         0.2032360593496146,
         0.21091307647635832,
         0.20301481340920516,
         0.21076402543843084,
         0.2012569233135996,
         0.20221573195657602,
         0.1968220776293938,
         0.2117352377641581,
         0.2134684107229844,
         0.20192693171146162,
         0.197585495526665,
         0.21412105294967107,
         0.2176836802368509,
         0.20238283956788627,
         0.20656056378000215,
         0.20460913820630489,
         0.20781524929528436,
         0.20489255467648892,
         0.21256941587061567,
         0.20071367151560446,
         0.20161994867136374,
         0.20438658739166224,
         0.2144624941763194,
         0.20424870084788577,
         0.21061217734663218,
         0.2064550640335416,
         0.20972482574300147,
         0.2152965842819243,
         0.19911699750296333,
         0.21473266276549183,
         0.19968689522505098,
         0.2122337910273642,
         0.20075189622630382,
         0.2121037286158432,
         0.21189002005164237,
         0.20912112747592962,
         0.21428362324870392,
         0.20641030682543038,
         0.21536664943229042,
         0.21761867441419586,
         0.2020183107815683,
         0.2002666502844031,
         0.21366188161111638,
         0.20552724345094142,
         0.19821470514779874,
         0.20117723179396754,
         0.2013978566700483,
         0.2005946136664088,
         0.20220014141580345,
         0.2076032157238646,
         0.22114892701125322,
         0.2045071164018237,
         0.20297873192740715,
         0.1984432736758654
        ],
        [
         20.786641349084675,
         20.751612073741853,
         20.949817805550992,
         20.62656185310334,
         19.830796231515706,
         20.681859587319195,
         21.1875326493755,
         20.427999277599156,
         20.607020563445985,
         20.791943942196667,
         19.907247149385512,
         20.175940525718033,
         20.83435808774084,
         21.70218641217798,
         20.9682539710775,
         21.231815059669316,
         21.82116796541959,
         19.984836447052658,
         20.09131281170994,
         20.880873923189938,
         20.399028182961047,
         21.120724600739777,
         20.214947597123682,
         21.488296241499484,
         20.73199408594519,
         21.287671436555684,
         20.716967930085957,
         19.9252007054165,
         20.913424120284617,
         20.313427631743252,
         21.786181912757456,
         20.694521834142506,
         21.459217433817685,
         20.604947519488633,
         21.48470279481262,
         20.885963791050017,
         21.305019007064402,
         20.624694348312914,
         21.503390078432858,
         21.41523513291031,
         20.351034686900675,
         20.77657496649772,
         21.914811694063246,
         21.344282724894583,
         21.731640002690256,
         22.069713034667075,
         20.73007805366069,
         21.513133800588548,
         20.707510967738926,
         21.497930594719946,
         20.52820617798716,
         20.626004659570754,
         20.07585191819817,
         21.596994251944125,
         21.77377789374441,
         20.596547034569085,
         20.153720543719828,
         21.84034740086645,
         22.20373538415879,
         20.6430496359244,
         21.06917750556022,
         20.870132097043097,
         21.197155428119004,
         20.89904057700187,
         21.682080418802798,
         20.472794494591653,
         20.5652347644791,
         20.84743191394955,
         21.87517440598458,
         20.83336748648435,
         21.482442089356482,
         21.058416531421244,
         21.39193222578615,
         21.96025159675628,
         20.30993374530226,
         21.902731602080166,
         20.3680633129552,
         21.647846684791148,
         20.47669341508299,
         21.634580318816006,
         21.612782045267522,
         21.33035500254482,
         21.8569295713678,
         21.053851296193898,
         21.967398242093623,
         22.197104790247977,
         20.605867699719965,
         20.427198329009116,
         21.79351192433387,
         20.963778831996024,
         20.21789992507547,
         20.52007764298469,
         20.542581380344927,
         20.460650593973696,
         20.624414424411952,
         21.175528003834188,
         22.557190555147827,
         20.85972587298602,
         20.703830656595528,
         20.24121391493827
        ],
        [
         2.7887094640423213,
         2.748982206536352,
         2.7546720178303414,
         2.6808359163050226,
         2.582681096791166,
         2.7272112585934507,
         2.7739167512361482,
         2.6904885523292617,
         2.7726973471221013,
         2.7259914446809947,
         2.6530990790403313,
         2.755481823340736,
         2.704731726139367,
         2.845316235551424,
         2.742437736545741,
         2.7692379853059705,
         2.8654350433916056,
         2.6699125343639123,
         2.6417193235143666,
         2.83181970607973,
         2.7006047738305057,
         2.8023835312504635,
         2.7054449853812685,
         2.795973731212157,
         2.6954357321592917,
         2.7567159458939883,
         2.778906735248303,
         2.625596117571994,
         2.783029271576547,
         2.679123587184875,
         2.8798690849422983,
         2.7347208886049703,
         2.7753628703833386,
         2.7958759910254027,
         2.777551128795071,
         2.780081821673371,
         2.8125448200348737,
         2.768477178013793,
         2.766524746358073,
         2.718454894707615,
         2.722570949358741,
         2.730395484085557,
         2.9258880020339526,
         2.852523128241884,
         2.8162228577785995,
         2.855822376302094,
         2.7729196768577786,
         2.7634885170693817,
         2.701816534987666,
         2.8287952889689443,
         2.739138969384765,
         2.759898118240349,
         2.6083485907906123,
         2.8305332162293375,
         2.89866842653173,
         2.7976422290051404,
         2.728117836939223,
         2.8418308991054273,
         2.923006636109085,
         2.7297327514723952,
         2.7720246390159136,
         2.7987482991310753,
         2.796427409650022,
         2.7373194534435035,
         2.800924951066414,
         2.7182592871205205,
         2.791007256634926,
         2.7676714557406874,
         2.8616015633331044,
         2.7384642437051907,
         2.8527773999273633,
         2.761611394887058,
         2.824262986215437,
         2.9054153509895118,
         2.67006291613998,
         2.8743374375689763,
         2.7099331134961124,
         2.865932346021224,
         2.7414196237187003,
         2.863584533111387,
         2.889271881864099,
         2.835063124220719,
         2.8986539610101554,
         2.7872422844080083,
         2.8571949450431724,
         2.883995173955092,
         2.705864894628177,
         2.787474309550844,
         2.8486469537675725,
         2.750918949338707,
         2.663805517687721,
         2.620770723893159,
         2.7415198596853645,
         2.7630303155331513,
         2.6879980839862854,
         2.787962848324672,
         2.8952640468158086,
         2.7299363973407584,
         2.8083409003083264,
         2.7282185558227288
        ]
       ],
       "encoder": "json",
       "name": "ABC_GAN_1 Metrics",
       "version": 1
      }
     },
     "metadata": {
      "scrapbook": {
       "data": true,
       "display": false,
       "name": "ABC_GAN_1 Metrics"
      }
     },
     "output_type": "display_data"
    },
    {
     "name": "stdout",
     "output_type": "stream",
     "text": [
      "MSE\n",
      "0.0753898111527233\n"
     ]
    }
   ],
   "source": [
    "ABC_GAN1_metrics=ABC_train_test2.test_generator(gen,test_data,prior_model,variance,0,\"1\",device)\n",
    "sb.glue(\"ABC_GAN_1 Metrics\",ABC_GAN1_metrics)\n",
    "\n",
    "print(\"MSE\")\n",
    "print(mean(ABC_GAN1_metrics[0]))"
   ]
  },
  {
   "cell_type": "code",
   "execution_count": 14,
   "id": "eb22ce5c",
   "metadata": {
    "execution": {
     "iopub.execute_input": "2022-03-11T09:44:07.538625Z",
     "iopub.status.busy": "2022-03-11T09:44:07.538226Z",
     "iopub.status.idle": "2022-03-11T09:44:07.845262Z",
     "shell.execute_reply": "2022-03-11T09:44:07.845561Z"
    },
    "papermill": {
     "duration": 0.322502,
     "end_time": "2022-03-11T09:44:07.845681",
     "exception": false,
     "start_time": "2022-03-11T09:44:07.523179",
     "status": "completed"
    },
    "tags": []
   },
   "outputs": [
    {
     "data": {
      "image/png": "[encoded data removed]",
      "text/plain": [
       "<Figure size 432x288 with 1 Axes>"
      ]
     },
     "metadata": {
      "needs_background": "light"
     },
     "output_type": "display_data"
    },
    {
     "data": {
      "image/png": "[encoded data removed]",
      "text/plain": [
       "<Figure size 432x288 with 1 Axes>"
      ]
     },
     "metadata": {
      "needs_background": "light"
     },
     "output_type": "display_data"
    },
    {
     "data": {
      "image/png": "[encoded data removed]",
      "text/plain": [
       "<Figure size 432x288 with 1 Axes>"
      ]
     },
     "metadata": {
      "needs_background": "light"
     },
     "output_type": "display_data"
    },
    {
     "data": {
      "image/png": "[encoded data removed]",
      "text/plain": [
       "<Figure size 432x288 with 1 Axes>"
      ]
     },
     "metadata": {
      "needs_background": "light"
     },
     "output_type": "display_data"
    }
   ],
   "source": [
    "sanityChecks.discProbVsError(train_data,disc,device)\n",
    "sanityChecks.discProbVsError(test_data,disc,device)"
   ]
  },
  {
   "cell_type": "markdown",
   "id": "130f3a4d",
   "metadata": {
    "id": "130f3a4d",
    "papermill": {
     "duration": 0.014571,
     "end_time": "2022-03-11T09:44:07.875570",
     "exception": false,
     "start_time": "2022-03-11T09:44:07.860999",
     "status": "completed"
    },
    "tags": []
   },
   "source": [
    "# ABC - GAN Model with skip connection"
   ]
  },
  {
   "cell_type": "code",
   "execution_count": 15,
   "id": "4e43dad1",
   "metadata": {
    "execution": {
     "iopub.execute_input": "2022-03-11T09:44:07.908300Z",
     "iopub.status.busy": "2022-03-11T09:44:07.907914Z",
     "iopub.status.idle": "2022-03-11T09:44:07.910098Z",
     "shell.execute_reply": "2022-03-11T09:44:07.910351Z"
    },
    "id": "4e43dad1",
    "papermill": {
     "duration": 0.020257,
     "end_time": "2022-03-11T09:44:07.910460",
     "exception": false,
     "start_time": "2022-03-11T09:44:07.890203",
     "status": "completed"
    },
    "tags": []
   },
   "outputs": [],
   "source": [
    "#Generator\n",
    "gen3 = network.GeneratorWithSkipConnection(n_features+1).to(device)\n",
    "constraints=network.weightConstraint()\n",
    "#Discriminator \n",
    "disc3 = network.Discriminator(n_features+1).to(device)\n",
    "\n",
    "criterion = torch.nn.BCELoss()\n",
    "gen_opt = torch.optim.Adam(gen3.parameters(), lr=0.001, betas=(0.5, 0.999))\n",
    "disc_opt = torch.optim.Adam(disc3.parameters(), lr=0.001, betas=(0.5, 0.999))\n"
   ]
  },
  {
   "cell_type": "code",
   "execution_count": 16,
   "id": "26acbc37",
   "metadata": {
    "execution": {
     "iopub.execute_input": "2022-03-11T09:44:07.941825Z",
     "iopub.status.busy": "2022-03-11T09:44:07.941460Z",
     "iopub.status.idle": "2022-03-11T09:46:33.206752Z",
     "shell.execute_reply": "2022-03-11T09:46:33.207075Z"
    },
    "id": "26acbc37",
    "papermill": {
     "duration": 145.282215,
     "end_time": "2022-03-11T09:46:33.207203",
     "exception": false,
     "start_time": "2022-03-11T09:44:07.924988",
     "status": "completed"
    },
    "tags": []
   },
   "outputs": [
    {
     "data": {
      "image/png": "[encoded data removed]",
      "text/plain": [
       "<Figure size 432x288 with 1 Axes>"
      ]
     },
     "metadata": {
      "needs_background": "light"
     },
     "output_type": "display_data"
    },
    {
     "data": {
      "image/png": "[encoded data removed]",
      "text/plain": [
       "<Figure size 432x288 with 1 Axes>"
      ]
     },
     "metadata": {
      "needs_background": "light"
     },
     "output_type": "display_data"
    }
   ],
   "source": [
    "ABC_train_test2.training_GAN_skip_connection(disc3,gen3,disc_opt,gen_opt,train_data,batch_size,n_epochs,criterion,prior_model,variance,0,device)"
   ]
  },
  {
   "cell_type": "code",
   "execution_count": 17,
   "id": "c5e0717b",
   "metadata": {
    "execution": {
     "iopub.execute_input": "2022-03-11T09:46:33.241624Z",
     "iopub.status.busy": "2022-03-11T09:46:33.241242Z",
     "iopub.status.idle": "2022-03-11T09:46:34.074676Z",
     "shell.execute_reply": "2022-03-11T09:46:34.074974Z"
    },
    "id": "c5e0717b",
    "papermill": {
     "duration": 0.8519,
     "end_time": "2022-03-11T09:46:34.075096",
     "exception": false,
     "start_time": "2022-03-11T09:46:33.223196",
     "status": "completed"
    },
    "tags": []
   },
   "outputs": [
    {
     "data": {
      "application/scrapbook.scrap.json+json": {
       "data": 0.08335906974567835,
       "encoder": "json",
       "name": "ABC-GAN Model 3 MSE",
       "version": 1
      }
     },
     "metadata": {
      "scrapbook": {
       "data": true,
       "display": false,
       "name": "ABC-GAN Model 3 MSE"
      }
     },
     "output_type": "display_data"
    },
    {
     "data": {
      "application/scrapbook.scrap.json+json": {
       "data": 0.20944492152298563,
       "encoder": "json",
       "name": "ABC-GAN Model 3 MAE",
       "version": 1
      }
     },
     "metadata": {
      "scrapbook": {
       "data": true,
       "display": false,
       "name": "ABC-GAN Model 3 MAE"
      }
     },
     "output_type": "display_data"
    },
    {
     "data": {
      "application/scrapbook.scrap.json+json": {
       "data": 21.363381995344536,
       "encoder": "json",
       "name": "ABC-GAN Model 3 Manhattan Distance",
       "version": 1
      }
     },
     "metadata": {
      "scrapbook": {
       "data": true,
       "display": false,
       "name": "ABC-GAN Model 3 Manhattan Distance"
      }
     },
     "output_type": "display_data"
    },
    {
     "data": {
      "application/scrapbook.scrap.json+json": {
       "data": 2.9151817713394474,
       "encoder": "json",
       "name": "ABC-GAN Model 3 Euclidean distance",
       "version": 1
      }
     },
     "metadata": {
      "scrapbook": {
       "data": true,
       "display": false,
       "name": "ABC-GAN Model 3 Euclidean distance"
      }
     },
     "output_type": "display_data"
    },
    {
     "data": {
      "application/scrapbook.scrap.json+json": {
       "data": [
        [
         0.08962430045590532,
         0.07753577996231967,
         0.08375408640296882,
         0.08778565556663315,
         0.08252579995624129,
         0.08145513248985024,
         0.08766032600209787,
         0.08364356853553848,
         0.07985172227616416,
         0.088288842955268,
         0.07856660612122013,
         0.0822249725958309,
         0.07428618700160346,
         0.08715298637948699,
         0.08880466533160618,
         0.08145590980522091,
         0.08016840104860136,
         0.08083516973302401,
         0.0768797543389335,
         0.08653895498646681,
         0.08287993753315685,
         0.09010202800245835,
         0.0850397090382534,
         0.08299835631573026,
         0.08121325568396298,
         0.08456794603181393,
         0.08134850245260881,
         0.07887219082638085,
         0.07855739723135045,
         0.07607568969444606,
         0.08513982944883093,
         0.08136932616293695,
         0.08869449902361119,
         0.08317194431215043,
         0.08601076397565433,
         0.07825321371702688,
         0.08742957589386428,
         0.07959582261815162,
         0.08267039647993213,
         0.08021768099740252,
         0.08617030961215556,
         0.07510337248402325,
         0.08495138292930905,
         0.08325138439630789,
         0.08819874948119781,
         0.08363525965057964,
         0.08346472876395797,
         0.07800607925439548,
         0.07923371779495561,
         0.08329135147353238,
         0.0830106170173435,
         0.08813896472286696,
         0.07994953379833614,
         0.08189203021006912,
         0.08743173303559525,
         0.08247576912012244,
         0.08041157942376215,
         0.08179318007677398,
         0.08075438254227037,
         0.08619410917487891,
         0.08988516615875723,
         0.0861848345633353,
         0.08494031656566815,
         0.08556158842019812,
         0.08109944850364162,
         0.08369891176590709,
         0.08068881817576695,
         0.08348201762582566,
         0.08330437217068441,
         0.08896855436610672,
         0.09167940285407537,
         0.0859493995288319,
         0.08416121007848137,
         0.07652786156661964,
         0.08516150452076224,
         0.09057951915601313,
         0.08735415656916093,
         0.08502867982612906,
         0.0818745729114638,
         0.08712253793822702,
         0.08196685478399827,
         0.08094348198195139,
         0.07958930347311619,
         0.08457181714164555,
         0.0836780905629404,
         0.08382750316623556,
         0.0836678267148967,
         0.0802279393528348,
         0.0877809363070655,
         0.09413842520538747,
         0.08212644556219471,
         0.08667815012185953,
         0.08264059889514964,
         0.08234753581707793,
         0.08148143535724442,
         0.07772011710477622,
         0.08470694793158341,
         0.07960356764606233,
         0.08185387838021248,
         0.08249812344880827
        ],
        [
         0.22189182737915247,
         0.19575768030778157,
         0.2096567441727601,
         0.21549268396498233,
         0.21158813225908898,
         0.20628671700536622,
         0.2137080609853215,
         0.20342087693622007,
         0.20613076882071646,
         0.22042455893996007,
         0.2020574490649297,
         0.2120166100908582,
         0.19548754050743347,
         0.2202916229965494,
         0.21906265314193626,
         0.20685152765180842,
         0.20323715381799082,
         0.2058878506570324,
         0.20269494318385042,
         0.21273494313708416,
         0.20665840321567422,
         0.21710369722260273,
         0.2155578521390756,
         0.20796747323965617,
         0.20273365704890559,
         0.2115359134771222,
         0.20881055041636323,
         0.20120590885955036,
         0.20200945434215314,
         0.1981721943079987,
         0.2104816792404973,
         0.20703475689515471,
         0.21352330187116475,
         0.20873508833385274,
         0.21372790692154975,
         0.2005305874307512,
         0.213865280699204,
         0.2082101761126051,
         0.211340878861865,
         0.20062970714278372,
         0.21413244912400842,
         0.19862365595740722,
         0.21122926894538835,
         0.20664167927358956,
         0.21091231438970448,
         0.20936790052983983,
         0.2104709138637226,
         0.20275412946391633,
         0.19892542412066283,
         0.21229270046722948,
         0.21288450336193337,
         0.21696906851823716,
         0.20255641083178275,
         0.2073460897229904,
         0.21850736681189314,
         0.21139413855202935,
         0.19735299314682683,
         0.21537128168468675,
         0.20564634552882874,
         0.20811686170853527,
         0.2145620751121611,
         0.21246552081121242,
         0.21320577938219204,
         0.20957442067161786,
         0.2090218530913048,
         0.205990689030538,
         0.20322684071702407,
         0.21181546952392832,
         0.21451636616542352,
         0.21643821804729454,
         0.22016215538971273,
         0.21107131104879812,
         0.20826245696448228,
         0.20240050460230194,
         0.21793927603821253,
         0.2189005516999054,
         0.21391611561800042,
         0.21364694414660335,
         0.20990141043804733,
         0.2156086867656924,
         0.20737610970094217,
         0.20534231814135814,
         0.2071420951089,
         0.21514108792568246,
         0.2106496016677542,
         0.21423301128122738,
         0.20656534498922674,
         0.20054837602062844,
         0.21521877228081518,
         0.22227820236345425,
         0.21013260768799513,
         0.21504461306019448,
         0.20865279559374733,
         0.2075533002943677,
         0.20512680434530564,
         0.19865294831677102,
         0.21421486395867725,
         0.20486937000361435,
         0.2073111138854395,
         0.20980186160544262
        ],
        [
         22.632966392673552,
         19.96728339139372,
         21.38498790562153,
         21.9802537644282,
         21.581989490427077,
         21.041245134547353,
         21.798222220502794,
         20.748929447494447,
         21.02533841971308,
         22.483305011875927,
         20.60985980462283,
         21.625694229267538,
         19.939729131758213,
         22.46974554564804,
         22.344390620477498,
         21.09885582048446,
         20.730189689435065,
         21.000560767017305,
         20.674884204752743,
         21.698964199982584,
         21.07915712799877,
         22.144577116705477,
         21.98690091818571,
         21.21268227044493,
         20.67883301898837,
         21.576663174666464,
         21.29867614246905,
         20.523002703674138,
         20.60496434289962,
         20.213563819415867,
         21.469131282530725,
         21.11754520330578,
         21.779376790858805,
         21.29097901005298,
         21.800246505998075,
         20.454119917936623,
         21.814258631318808,
         21.237437963485718,
         21.55676964391023,
         20.46423012856394,
         21.84150981064886,
         20.259612907655537,
         21.54538543242961,
         21.077451285906136,
         21.513056067749858,
         21.355525854043663,
         21.468033214099705,
         20.680921205319464,
         20.29039326030761,
         21.653855447657406,
         21.714219342917204,
         22.13084498886019,
         20.66075390484184,
         21.14930115174502,
         22.2877514148131,
         21.562202132306993,
         20.130005300976336,
         21.967870731838048,
         20.975927243940532,
         21.2279198942706,
         21.885331661440432,
         21.671483122743666,
         21.746989496983588,
         21.376590908505023,
         21.32022901531309,
         21.011050281114876,
         20.729137753136456,
         21.60517789144069,
         21.880669348873198,
         22.076698240824044,
         22.456539849750698,
         21.529273726977408,
         21.242770610377192,
         20.644851469434798,
         22.229806155897677,
         22.327856273390353,
         21.819443793036044,
         21.79198830295354,
         21.409943864680827,
         21.992086050100625,
         21.1523631894961,
         20.944916450418532,
         21.1284937011078,
         21.94439096841961,
         21.48625937011093,
         21.85176715068519,
         21.069665188901126,
         20.4559343541041,
         21.95231477264315,
         22.672376641072333,
         21.433525984175503,
         21.934550532139838,
         21.282585150562227,
         21.170436630025506,
         20.922934043221176,
         20.262600728310645,
         21.84991612378508,
         20.896675740368664,
         21.14573361631483,
         21.399789883755147
        ],
        [
         3.023520902276408,
         2.8122321305604565,
         2.9228268530829564,
         2.9923463816537983,
         2.9013154939676262,
         2.882433609636955,
         2.9902095666046518,
         2.9208978055770674,
         2.853922856730494,
         3.0009101921645924,
         2.830864501237114,
         2.8960226526694774,
         2.7526698084157406,
         2.9815439977816314,
         3.0096637459729334,
         2.882447362942216,
         2.859576350957837,
         2.8714434197400536,
         2.800309794035513,
         2.971022283426971,
         2.9075339427738416,
         3.0315683822488237,
         2.945174073276798,
         2.9096103423318533,
         2.8781508090724195,
         2.9369934448760726,
         2.880546345776457,
         2.836364480156041,
         2.8306985917963337,
         2.7856274605254554,
         2.946907294738122,
         2.8809150054487156,
         3.0077963528816802,
         2.912651424362233,
         2.961941580368651,
         2.8252128767823392,
         2.98627137768391,
         2.8493462244963257,
         2.903856132964076,
         2.8604551144415913,
         2.964687433851985,
         2.767768775271947,
         2.943644180058032,
         2.914042073893821,
         2.999378676839951,
         2.920752725644388,
         2.9177735234119377,
         2.8207481425941485,
         2.8428575791068873,
         2.9147414722922345,
         2.909825241448194,
         2.9983619530891255,
         2.855670227359995,
         2.890153470220405,
         2.9863082174535687,
         2.9004359069375227,
         2.8639101070431208,
         2.8884086220323724,
         2.8700081915060065,
         2.965096817278931,
         3.0279179229617896,
         2.9649372886218353,
         2.9434524439335097,
         2.954197356112183,
         2.8761334717588203,
         2.9218639598931575,
         2.8688428771768293,
         2.9180757011829246,
         2.9149692899599837,
         3.0124396334769745,
         3.0579893870181585,
         2.960884792074973,
         2.929922085654344,
         2.7938936772531635,
         2.9472823857102237,
         3.0395905898514255,
         2.98498307701307,
         2.9449830801322383,
         2.8898454001848104,
         2.9810231246501857,
         2.8914735322959166,
         2.8733665206790175,
         2.849229536955183,
         2.937060664754449,
         2.9215005112818173,
         2.9241076113843736,
         2.9213213320207454,
         2.8606380082053637,
         2.992265947959954,
         3.0987286701080365,
         2.8942870361012676,
         2.9734107204403624,
         2.9033327551807195,
         2.8981802313420655,
         2.8828989587633713,
         2.8155731112310285,
         2.9394061796596787,
         2.849484848160867,
         2.8894801599564017,
         2.900828949072738
        ]
       ],
       "encoder": "json",
       "name": "ABC_GAN_3 Metrics",
       "version": 1
      }
     },
     "metadata": {
      "scrapbook": {
       "data": true,
       "display": false,
       "name": "ABC_GAN_3 Metrics"
      }
     },
     "output_type": "display_data"
    },
    {
     "name": "stdout",
     "output_type": "stream",
     "text": [
      "MSE\n",
      "0.08335906974567835\n"
     ]
    }
   ],
   "source": [
    "ABC_GAN3_metrics=ABC_train_test2.test_generator(gen3,test_data,prior_model,variance,0,\"3\",device)\n",
    "sb.glue(\"ABC_GAN_3 Metrics\",ABC_GAN3_metrics)\n",
    "\n",
    "print(\"MSE\")\n",
    "print(mean(ABC_GAN3_metrics[0]))"
   ]
  },
  {
   "cell_type": "code",
   "execution_count": 18,
   "id": "c8e46b48",
   "metadata": {
    "execution": {
     "iopub.execute_input": "2022-03-11T09:46:34.112536Z",
     "iopub.status.busy": "2022-03-11T09:46:34.112167Z",
     "iopub.status.idle": "2022-03-11T09:46:34.437654Z",
     "shell.execute_reply": "2022-03-11T09:46:34.437914Z"
    },
    "id": "c8e46b48",
    "papermill": {
     "duration": 0.345399,
     "end_time": "2022-03-11T09:46:34.438039",
     "exception": false,
     "start_time": "2022-03-11T09:46:34.092640",
     "status": "completed"
    },
    "tags": []
   },
   "outputs": [
    {
     "data": {
      "image/png": "[encoded data removed]",
      "text/plain": [
       "<Figure size 432x288 with 1 Axes>"
      ]
     },
     "metadata": {
      "needs_background": "light"
     },
     "output_type": "display_data"
    },
    {
     "data": {
      "image/png": "[encoded data removed]",
      "text/plain": [
       "<Figure size 432x288 with 1 Axes>"
      ]
     },
     "metadata": {
      "needs_background": "light"
     },
     "output_type": "display_data"
    },
    {
     "data": {
      "image/png": "[encoded data removed]",
      "text/plain": [
       "<Figure size 432x288 with 1 Axes>"
      ]
     },
     "metadata": {
      "needs_background": "light"
     },
     "output_type": "display_data"
    },
    {
     "data": {
      "image/png": "[encoded data removed]",
      "text/plain": [
       "<Figure size 432x288 with 1 Axes>"
      ]
     },
     "metadata": {
      "needs_background": "light"
     },
     "output_type": "display_data"
    }
   ],
   "source": [
    "sanityChecks.discProbVsError(train_data,disc3,device)\n",
    "sanityChecks.discProbVsError(test_data,disc3,device)"
   ]
  },
  {
   "cell_type": "markdown",
   "id": "a5bd74c3",
   "metadata": {
    "id": "a5bd74c3",
    "papermill": {
     "duration": 0.019421,
     "end_time": "2022-03-11T09:46:34.477211",
     "exception": false,
     "start_time": "2022-03-11T09:46:34.457790",
     "status": "completed"
    },
    "tags": []
   },
   "source": [
    "## Skip Connection Model Analysis - ABC-GAN "
   ]
  },
  {
   "cell_type": "markdown",
   "id": "5744a8bf",
   "metadata": {
    "id": "5744a8bf",
    "papermill": {
     "duration": 0.019147,
     "end_time": "2022-03-11T09:46:34.515611",
     "exception": false,
     "start_time": "2022-03-11T09:46:34.496464",
     "status": "completed"
    },
    "tags": []
   },
   "source": [
    "### Weight Analysis \n",
    "\n",
    "Study the weights of the skip connection layer\n",
    "\n",
    "Equation of the skip connection is \n",
    "\n",
    "$output = y_{gan} * w + y_{abc} * (1-w)$"
   ]
  },
  {
   "cell_type": "code",
   "execution_count": 19,
   "id": "52c31dea",
   "metadata": {
    "execution": {
     "iopub.execute_input": "2022-03-11T09:46:34.557096Z",
     "iopub.status.busy": "2022-03-11T09:46:34.556695Z",
     "iopub.status.idle": "2022-03-11T09:46:34.560024Z",
     "shell.execute_reply": "2022-03-11T09:46:34.560279Z"
    },
    "id": "52c31dea",
    "papermill": {
     "duration": 0.025636,
     "end_time": "2022-03-11T09:46:34.560396",
     "exception": false,
     "start_time": "2022-03-11T09:46:34.534760",
     "status": "completed"
    },
    "tags": []
   },
   "outputs": [
    {
     "name": "stdout",
     "output_type": "stream",
     "text": [
      "Weight of the node at skip connection\n",
      "Parameter containing:\n",
      "tensor([[0.3897]], requires_grad=True)\n"
     ]
    },
    {
     "data": {
      "application/scrapbook.scrap.json+json": {
       "data": 0.3897307515144348,
       "encoder": "json",
       "name": "Skip Connection Weight",
       "version": 1
      }
     },
     "metadata": {
      "scrapbook": {
       "data": true,
       "display": false,
       "name": "Skip Connection Weight"
      }
     },
     "output_type": "display_data"
    }
   ],
   "source": [
    "print(\"Weight of the node at skip connection\")\n",
    "for name,param in gen3.named_parameters():\n",
    "    if(name == \"skipNode.weight\"):\n",
    "        print(param)\n",
    "        sb.glue(\"Skip Connection Weight\",param.item())"
   ]
  }
 ],
 "metadata": {
  "colab": {
   "collapsed_sections": [],
   "name": "ABC_GAN_Model-Catboost_Pre-gen.ipynb",
   "provenance": []
  },
  "interpreter": {
   "hash": "31f2aee4e71d21fbe5cf8b01ff0e069b9275f58929596ceb00d14d90e3e16cd6"
  },
  "kernelspec": {
   "display_name": "Python 3 (ipykernel)",
   "language": "python",
   "name": "python3"
  },
  "language_info": {
   "codemirror_mode": {
    "name": "ipython",
    "version": 3
   },
   "file_extension": ".py",
   "mimetype": "text/x-python",
   "name": "python",
   "nbconvert_exporter": "python",
   "pygments_lexer": "ipython3",
   "version": "3.8.11"
  },
  "papermill": {
   "default_parameters": {},
   "duration": 187.644586,
   "end_time": "2022-03-11T09:46:34.887721",
   "environment_variables": {},
   "exception": null,
   "input_path": "ABC_GAN-Catboost.ipynb",
   "output_path": "./ABC_GAN_Catboost/ABC-GAN_output_2_1.ipynb",
   "parameters": {
    "variance": 0.1
   },
   "start_time": "2022-03-11T09:43:27.243135",
   "version": "2.3.3"
  }
 },
 "nbformat": 4,
 "nbformat_minor": 5
}