{
 "cells": [
  {
   "cell_type": "markdown",
   "id": "622780e6",
   "metadata": {
    "id": "622780e6",
    "papermill": {
     "duration": 0.035294,
     "end_time": "2022-03-11T10:02:48.434715",
     "exception": false,
     "start_time": "2022-03-11T10:02:48.399421",
     "status": "completed"
    },
    "tags": []
   },
   "source": [
    "## Import Libraries "
   ]
  },
  {
   "cell_type": "code",
   "execution_count": 1,
   "id": "a62397e3",
   "metadata": {
    "execution": {
     "iopub.execute_input": "2022-03-11T10:02:48.471781Z",
     "iopub.status.busy": "2022-03-11T10:02:48.471178Z",
     "iopub.status.idle": "2022-03-11T10:02:48.474252Z",
     "shell.execute_reply": "2022-03-11T10:02:48.474737Z"
    },
    "id": "a62397e3",
    "papermill": {
     "duration": 0.023867,
     "end_time": "2022-03-11T10:02:48.474973",
     "exception": false,
     "start_time": "2022-03-11T10:02:48.451106",
     "status": "completed"
    },
    "tags": []
   },
   "outputs": [],
   "source": [
    "import warnings\n",
    "import sys\n",
    "sys.path.insert(0, '../../src')\n",
    "warnings.filterwarnings('ignore')"
   ]
  },
  {
   "cell_type": "code",
   "execution_count": 2,
   "id": "d6a4e155",
   "metadata": {
    "execution": {
     "iopub.execute_input": "2022-03-11T10:02:48.495998Z",
     "iopub.status.busy": "2022-03-11T10:02:48.495608Z",
     "iopub.status.idle": "2022-03-11T10:02:50.346600Z",
     "shell.execute_reply": "2022-03-11T10:02:50.346864Z"
    },
    "id": "d6a4e155",
    "papermill": {
     "duration": 1.862195,
     "end_time": "2022-03-11T10:02:50.346988",
     "exception": false,
     "start_time": "2022-03-11T10:02:48.484793",
     "status": "completed"
    },
    "tags": []
   },
   "outputs": [],
   "source": [
    "import ABC_train_test2\n",
    "import bostonDataset\n",
    "import network\n",
    "import dataset\n",
    "import sanityChecks\n",
    "import torch \n",
    "import scrapbook as sb\n",
    "from statistics import mean \n",
    "import catboost as ctb \n",
    "from sklearn.model_selection import train_test_split\n",
    "from sklearn.metrics import mean_squared_error,mean_absolute_error\n",
    "import numpy as np"
   ]
  },
  {
   "cell_type": "markdown",
   "id": "2fa5b0f7",
   "metadata": {
    "id": "2fa5b0f7",
    "papermill": {
     "duration": 0.006799,
     "end_time": "2022-03-11T10:02:50.361163",
     "exception": false,
     "start_time": "2022-03-11T10:02:50.354364",
     "status": "completed"
    },
    "tags": []
   },
   "source": [
    "## Parameters "
   ]
  },
  {
   "cell_type": "code",
   "execution_count": 3,
   "id": "783186fb",
   "metadata": {
    "execution": {
     "iopub.execute_input": "2022-03-11T10:02:50.376839Z",
     "iopub.status.busy": "2022-03-11T10:02:50.376462Z",
     "iopub.status.idle": "2022-03-11T10:02:50.377711Z",
     "shell.execute_reply": "2022-03-11T10:02:50.377953Z"
    },
    "id": "783186fb",
    "papermill": {
     "duration": 0.010166,
     "end_time": "2022-03-11T10:02:50.378060",
     "exception": false,
     "start_time": "2022-03-11T10:02:50.367894",
     "status": "completed"
    },
    "tags": [
     "parameters"
    ]
   },
   "outputs": [],
   "source": [
    "variance = 1"
   ]
  },
  {
   "cell_type": "code",
   "execution_count": 4,
   "id": "f20dd3c0",
   "metadata": {
    "execution": {
     "iopub.execute_input": "2022-03-11T10:02:50.393518Z",
     "iopub.status.busy": "2022-03-11T10:02:50.393154Z",
     "iopub.status.idle": "2022-03-11T10:02:50.394391Z",
     "shell.execute_reply": "2022-03-11T10:02:50.394634Z"
    },
    "papermill": {
     "duration": 0.009826,
     "end_time": "2022-03-11T10:02:50.394742",
     "exception": false,
     "start_time": "2022-03-11T10:02:50.384916",
     "status": "completed"
    },
    "tags": [
     "injected-parameters"
    ]
   },
   "outputs": [],
   "source": [
    "# Parameters\n",
    "variance = 0.1\n"
   ]
  },
  {
   "cell_type": "markdown",
   "id": "391cdbfd",
   "metadata": {
    "id": "391cdbfd",
    "papermill": {
     "duration": 0.006806,
     "end_time": "2022-03-11T10:02:50.408454",
     "exception": false,
     "start_time": "2022-03-11T10:02:50.401648",
     "status": "completed"
    },
    "tags": []
   },
   "source": [
    "## Dataset \n"
   ]
  },
  {
   "cell_type": "code",
   "execution_count": 5,
   "id": "5b51f161",
   "metadata": {
    "execution": {
     "iopub.execute_input": "2022-03-11T10:02:50.424037Z",
     "iopub.status.busy": "2022-03-11T10:02:50.423660Z",
     "iopub.status.idle": "2022-03-11T10:02:50.424836Z",
     "shell.execute_reply": "2022-03-11T10:02:50.425079Z"
    },
    "id": "5b51f161",
    "papermill": {
     "duration": 0.009947,
     "end_time": "2022-03-11T10:02:50.425183",
     "exception": false,
     "start_time": "2022-03-11T10:02:50.415236",
     "status": "completed"
    },
    "tags": []
   },
   "outputs": [],
   "source": [
    "#Parameters \n",
    "n_features = 13\n",
    "n_samples= 506\n",
    "n_target = 1 "
   ]
  },
  {
   "cell_type": "code",
   "execution_count": 6,
   "id": "5d6eced4",
   "metadata": {
    "execution": {
     "iopub.execute_input": "2022-03-11T10:02:50.440863Z",
     "iopub.status.busy": "2022-03-11T10:02:50.440502Z",
     "iopub.status.idle": "2022-03-11T10:02:50.451574Z",
     "shell.execute_reply": "2022-03-11T10:02:50.451820Z"
    },
    "id": "5d6eced4",
    "papermill": {
     "duration": 0.019874,
     "end_time": "2022-03-11T10:02:50.451930",
     "exception": false,
     "start_time": "2022-03-11T10:02:50.432056",
     "status": "completed"
    },
    "tags": []
   },
   "outputs": [
    {
     "name": "stdout",
     "output_type": "stream",
     "text": [
      "         X1        X2        X3        X4        X5        X6        X7  \\\n",
      "0 -0.419782  0.284830 -1.287909 -0.272599 -0.144217  0.413672 -0.120013   \n",
      "1 -0.417339 -0.487722 -0.593381 -0.272599 -0.740262  0.194274  0.367166   \n",
      "2 -0.417342 -0.487722 -0.593381 -0.272599 -0.740262  1.282714 -0.265812   \n",
      "3 -0.416750 -0.487722 -1.306878 -0.272599 -0.835284  1.016303 -0.809889   \n",
      "4 -0.412482 -0.487722 -1.306878 -0.272599 -0.835284  1.228577 -0.511180   \n",
      "\n",
      "         X8        X9       X10       X11       X12       X13         Y  \n",
      "0  0.140214 -0.982843 -0.666608 -1.459000  0.441052 -1.075562  0.159686  \n",
      "1  0.557160 -0.867883 -0.987329 -0.303094  0.441052 -0.492439 -0.101524  \n",
      "2  0.557160 -0.867883 -0.987329 -0.303094  0.396427 -1.208727  1.324247  \n",
      "3  1.077737 -0.752922 -1.106115  0.113032  0.416163 -1.361517  1.182758  \n",
      "4  1.077737 -0.752922 -1.106115  0.113032  0.441052 -1.026501  1.487503  \n"
     ]
    }
   ],
   "source": [
    "X,Y = bostonDataset.boston_data()"
   ]
  },
  {
   "cell_type": "code",
   "execution_count": 7,
   "id": "fe007438",
   "metadata": {
    "execution": {
     "iopub.execute_input": "2022-03-11T10:02:50.469041Z",
     "iopub.status.busy": "2022-03-11T10:02:50.468656Z",
     "iopub.status.idle": "2022-03-11T10:02:50.470192Z",
     "shell.execute_reply": "2022-03-11T10:02:50.470427Z"
    },
    "id": "fe007438",
    "papermill": {
     "duration": 0.011098,
     "end_time": "2022-03-11T10:02:50.470534",
     "exception": false,
     "start_time": "2022-03-11T10:02:50.459436",
     "status": "completed"
    },
    "tags": []
   },
   "outputs": [],
   "source": [
    "#Train test split for dataset \n",
    "X_train,X_test,Y_train,Y_test = train_test_split(X,Y,test_size = 0.2)\n",
    "train_data = dataset.CustomDataset(X_train,Y_train)\n",
    "test_data = dataset.CustomDataset(X_test,Y_test)\n"
   ]
  },
  {
   "cell_type": "markdown",
   "id": "a9a1af34",
   "metadata": {
    "id": "a9a1af34",
    "papermill": {
     "duration": 0.007141,
     "end_time": "2022-03-11T10:02:50.484889",
     "exception": false,
     "start_time": "2022-03-11T10:02:50.477748",
     "status": "completed"
    },
    "tags": []
   },
   "source": [
    "## Training Parameters "
   ]
  },
  {
   "cell_type": "code",
   "execution_count": 8,
   "id": "952b7fc8",
   "metadata": {
    "execution": {
     "iopub.execute_input": "2022-03-11T10:02:50.501362Z",
     "iopub.status.busy": "2022-03-11T10:02:50.500996Z",
     "iopub.status.idle": "2022-03-11T10:02:50.502324Z",
     "shell.execute_reply": "2022-03-11T10:02:50.502564Z"
    },
    "id": "952b7fc8",
    "papermill": {
     "duration": 0.010652,
     "end_time": "2022-03-11T10:02:50.502668",
     "exception": false,
     "start_time": "2022-03-11T10:02:50.492016",
     "status": "completed"
    },
    "tags": []
   },
   "outputs": [],
   "source": [
    "batch_size = 64\n",
    "n_epochs = 1000\n",
    "#Select the device \n",
    "device = torch.device('cuda' if torch.cuda.is_available() else 'cpu')"
   ]
  },
  {
   "cell_type": "markdown",
   "id": "a95e1600",
   "metadata": {
    "id": "a95e1600",
    "papermill": {
     "duration": 0.007073,
     "end_time": "2022-03-11T10:02:50.516914",
     "exception": false,
     "start_time": "2022-03-11T10:02:50.509841",
     "status": "completed"
    },
    "tags": []
   },
   "source": [
    "# ABC Pre-generator Model \n",
    "\n",
    "1. The catboost model is used as a pre-generator model for the ABC-GAN. \n",
    "2. The model is first trained on the entire dataset \n",
    "3. It generats X,Y pairs and we add some Gaussian noise with mean 0 and variance 1 to it which is then feed as input to the generator.\n"
   ]
  },
  {
   "cell_type": "code",
   "execution_count": 9,
   "id": "ff8ce7bd",
   "metadata": {
    "execution": {
     "iopub.execute_input": "2022-03-11T10:02:50.535773Z",
     "iopub.status.busy": "2022-03-11T10:02:50.535398Z",
     "iopub.status.idle": "2022-03-11T10:02:51.501424Z",
     "shell.execute_reply": "2022-03-11T10:02:51.501715Z"
    },
    "id": "ff8ce7bd",
    "papermill": {
     "duration": 0.977776,
     "end_time": "2022-03-11T10:02:51.501833",
     "exception": false,
     "start_time": "2022-03-11T10:02:50.524057",
     "status": "completed"
    },
    "tags": []
   },
   "outputs": [
    {
     "name": "stdout",
     "output_type": "stream",
     "text": [
      "Learning rate set to 0.033215\n",
      "0:\tlearn: 0.9351614\ttotal: 58.8ms\tremaining: 58.8s\n",
      "1:\tlearn: 0.9162644\ttotal: 59.8ms\tremaining: 29.8s\n",
      "2:\tlearn: 0.8964920\ttotal: 60.7ms\tremaining: 20.2s\n",
      "3:\tlearn: 0.8802545\ttotal: 61.6ms\tremaining: 15.3s\n",
      "4:\tlearn: 0.8648021\ttotal: 62.8ms\tremaining: 12.5s\n",
      "5:\tlearn: 0.8477323\ttotal: 63.9ms\tremaining: 10.6s\n",
      "6:\tlearn: 0.8310112\ttotal: 64.9ms\tremaining: 9.2s\n",
      "7:\tlearn: 0.8144938\ttotal: 65.8ms\tremaining: 8.15s\n",
      "8:\tlearn: 0.7987801\ttotal: 67.3ms\tremaining: 7.41s\n",
      "9:\tlearn: 0.7819123\ttotal: 68.2ms\tremaining: 6.75s\n",
      "10:\tlearn: 0.7678208\ttotal: 69.1ms\tremaining: 6.21s\n",
      "11:\tlearn: 0.7528729\ttotal: 69.9ms\tremaining: 5.76s\n",
      "12:\tlearn: 0.7380196\ttotal: 70.7ms\tremaining: 5.37s\n",
      "13:\tlearn: 0.7231423\ttotal: 71.5ms\tremaining: 5.03s\n",
      "14:\tlearn: 0.7107667\ttotal: 72.2ms\tremaining: 4.74s\n",
      "15:\tlearn: 0.6968419\ttotal: 73ms\tremaining: 4.49s\n",
      "16:\tlearn: 0.6832403\ttotal: 73.8ms\tremaining: 4.27s\n",
      "17:\tlearn: 0.6709147\ttotal: 74.7ms\tremaining: 4.07s\n",
      "18:\tlearn: 0.6583096\ttotal: 75.4ms\tremaining: 3.89s\n",
      "19:\tlearn: 0.6460274\ttotal: 76.2ms\tremaining: 3.73s\n",
      "20:\tlearn: 0.6337617\ttotal: 77ms\tremaining: 3.59s\n",
      "21:\tlearn: 0.6226092\ttotal: 77.7ms\tremaining: 3.46s\n",
      "22:\tlearn: 0.6138859\ttotal: 78.6ms\tremaining: 3.34s\n",
      "23:\tlearn: 0.6041023\ttotal: 79.3ms\tremaining: 3.22s\n",
      "24:\tlearn: 0.5943985\ttotal: 80ms\tremaining: 3.12s\n",
      "25:\tlearn: 0.5847367\ttotal: 80.7ms\tremaining: 3.02s\n",
      "26:\tlearn: 0.5754801\ttotal: 81.6ms\tremaining: 2.94s\n",
      "27:\tlearn: 0.5655359\ttotal: 82.3ms\tremaining: 2.86s\n",
      "28:\tlearn: 0.5562825\ttotal: 83ms\tremaining: 2.78s\n",
      "29:\tlearn: 0.5467011\ttotal: 83.8ms\tremaining: 2.71s\n",
      "30:\tlearn: 0.5380457\ttotal: 84.4ms\tremaining: 2.64s\n",
      "31:\tlearn: 0.5302264\ttotal: 85.2ms\tremaining: 2.58s\n",
      "32:\tlearn: 0.5226694\ttotal: 86.5ms\tremaining: 2.53s\n",
      "33:\tlearn: 0.5154717\ttotal: 87.2ms\tremaining: 2.48s\n",
      "34:\tlearn: 0.5081065\ttotal: 88ms\tremaining: 2.42s\n",
      "35:\tlearn: 0.5004510\ttotal: 88.9ms\tremaining: 2.38s\n",
      "36:\tlearn: 0.4936040\ttotal: 89.6ms\tremaining: 2.33s\n",
      "37:\tlearn: 0.4867486\ttotal: 90.3ms\tremaining: 2.29s\n",
      "38:\tlearn: 0.4795258\ttotal: 91.1ms\tremaining: 2.25s\n",
      "39:\tlearn: 0.4716943\ttotal: 92.1ms\tremaining: 2.21s\n",
      "40:\tlearn: 0.4659668\ttotal: 93.4ms\tremaining: 2.18s\n",
      "41:\tlearn: 0.4594537\ttotal: 94.4ms\tremaining: 2.15s\n",
      "42:\tlearn: 0.4538681\ttotal: 95.4ms\tremaining: 2.12s\n",
      "43:\tlearn: 0.4477204\ttotal: 96.2ms\tremaining: 2.09s\n",
      "44:\tlearn: 0.4422863\ttotal: 97ms\tremaining: 2.06s\n",
      "45:\tlearn: 0.4365396\ttotal: 97.8ms\tremaining: 2.03s\n",
      "46:\tlearn: 0.4309503\ttotal: 99.3ms\tremaining: 2.01s\n",
      "47:\tlearn: 0.4253550\ttotal: 100ms\tremaining: 1.99s\n",
      "48:\tlearn: 0.4202478\ttotal: 101ms\tremaining: 1.96s\n",
      "49:\tlearn: 0.4157653\ttotal: 102ms\tremaining: 1.93s\n",
      "50:\tlearn: 0.4104531\ttotal: 103ms\tremaining: 1.91s\n",
      "51:\tlearn: 0.4060579\ttotal: 104ms\tremaining: 1.89s\n",
      "52:\tlearn: 0.4011802\ttotal: 104ms\tremaining: 1.86s\n",
      "53:\tlearn: 0.3976966\ttotal: 105ms\tremaining: 1.84s\n",
      "54:\tlearn: 0.3932306\ttotal: 106ms\tremaining: 1.82s\n",
      "55:\tlearn: 0.3890882\ttotal: 107ms\tremaining: 1.8s\n",
      "56:\tlearn: 0.3857443\ttotal: 108ms\tremaining: 1.78s\n"
     ]
    },
    {
     "name": "stdout",
     "output_type": "stream",
     "text": [
      "57:\tlearn: 0.3825405\ttotal: 109ms\tremaining: 1.76s\n",
      "58:\tlearn: 0.3794097\ttotal: 109ms\tremaining: 1.75s\n",
      "59:\tlearn: 0.3758878\ttotal: 110ms\tremaining: 1.73s\n",
      "60:\tlearn: 0.3723171\ttotal: 111ms\tremaining: 1.71s\n",
      "61:\tlearn: 0.3690195\ttotal: 112ms\tremaining: 1.69s\n",
      "62:\tlearn: 0.3661239\ttotal: 113ms\tremaining: 1.68s\n",
      "63:\tlearn: 0.3628765\ttotal: 114ms\tremaining: 1.66s\n",
      "64:\tlearn: 0.3595376\ttotal: 115ms\tremaining: 1.65s\n",
      "65:\tlearn: 0.3563991\ttotal: 115ms\tremaining: 1.63s\n",
      "66:\tlearn: 0.3529677\ttotal: 116ms\tremaining: 1.62s\n",
      "67:\tlearn: 0.3505919\ttotal: 117ms\tremaining: 1.6s\n",
      "68:\tlearn: 0.3478509\ttotal: 118ms\tremaining: 1.59s\n",
      "69:\tlearn: 0.3448015\ttotal: 119ms\tremaining: 1.58s\n",
      "70:\tlearn: 0.3419571\ttotal: 120ms\tremaining: 1.56s\n",
      "71:\tlearn: 0.3388611\ttotal: 120ms\tremaining: 1.55s\n",
      "72:\tlearn: 0.3362302\ttotal: 121ms\tremaining: 1.54s\n",
      "73:\tlearn: 0.3335078\ttotal: 122ms\tremaining: 1.52s\n",
      "74:\tlearn: 0.3307312\ttotal: 123ms\tremaining: 1.51s\n",
      "75:\tlearn: 0.3285309\ttotal: 124ms\tremaining: 1.5s\n",
      "76:\tlearn: 0.3262574\ttotal: 124ms\tremaining: 1.49s\n",
      "77:\tlearn: 0.3236493\ttotal: 125ms\tremaining: 1.48s\n",
      "78:\tlearn: 0.3217585\ttotal: 126ms\tremaining: 1.47s\n",
      "79:\tlearn: 0.3195982\ttotal: 127ms\tremaining: 1.46s\n",
      "80:\tlearn: 0.3173599\ttotal: 128ms\tremaining: 1.45s\n",
      "81:\tlearn: 0.3146499\ttotal: 128ms\tremaining: 1.44s\n",
      "82:\tlearn: 0.3125313\ttotal: 129ms\tremaining: 1.43s\n",
      "83:\tlearn: 0.3104684\ttotal: 130ms\tremaining: 1.42s\n",
      "84:\tlearn: 0.3088522\ttotal: 131ms\tremaining: 1.41s\n",
      "85:\tlearn: 0.3067841\ttotal: 132ms\tremaining: 1.4s\n",
      "86:\tlearn: 0.3049894\ttotal: 133ms\tremaining: 1.39s\n",
      "87:\tlearn: 0.3028783\ttotal: 133ms\tremaining: 1.38s\n",
      "88:\tlearn: 0.3007659\ttotal: 134ms\tremaining: 1.37s\n",
      "89:\tlearn: 0.2986922\ttotal: 135ms\tremaining: 1.36s\n",
      "90:\tlearn: 0.2970077\ttotal: 136ms\tremaining: 1.36s\n",
      "91:\tlearn: 0.2952629\ttotal: 137ms\tremaining: 1.35s\n",
      "92:\tlearn: 0.2939919\ttotal: 137ms\tremaining: 1.34s\n",
      "93:\tlearn: 0.2918609\ttotal: 138ms\tremaining: 1.33s\n",
      "94:\tlearn: 0.2900389\ttotal: 139ms\tremaining: 1.32s\n",
      "95:\tlearn: 0.2888918\ttotal: 140ms\tremaining: 1.32s\n",
      "96:\tlearn: 0.2875793\ttotal: 141ms\tremaining: 1.31s\n",
      "97:\tlearn: 0.2861349\ttotal: 141ms\tremaining: 1.3s\n",
      "98:\tlearn: 0.2846524\ttotal: 142ms\tremaining: 1.29s\n",
      "99:\tlearn: 0.2835727\ttotal: 143ms\tremaining: 1.29s\n",
      "100:\tlearn: 0.2819528\ttotal: 144ms\tremaining: 1.28s\n",
      "101:\tlearn: 0.2805592\ttotal: 145ms\tremaining: 1.27s\n",
      "102:\tlearn: 0.2793363\ttotal: 145ms\tremaining: 1.26s\n",
      "103:\tlearn: 0.2779875\ttotal: 146ms\tremaining: 1.26s\n",
      "104:\tlearn: 0.2769841\ttotal: 147ms\tremaining: 1.25s\n",
      "105:\tlearn: 0.2755895\ttotal: 148ms\tremaining: 1.25s\n",
      "106:\tlearn: 0.2740992\ttotal: 149ms\tremaining: 1.24s\n",
      "107:\tlearn: 0.2729033\ttotal: 149ms\tremaining: 1.23s\n",
      "108:\tlearn: 0.2715982\ttotal: 150ms\tremaining: 1.23s\n",
      "109:\tlearn: 0.2706756\ttotal: 151ms\tremaining: 1.22s\n",
      "110:\tlearn: 0.2699285\ttotal: 152ms\tremaining: 1.22s\n",
      "111:\tlearn: 0.2684205\ttotal: 153ms\tremaining: 1.21s\n",
      "112:\tlearn: 0.2671632\ttotal: 153ms\tremaining: 1.2s\n",
      "113:\tlearn: 0.2661155\ttotal: 154ms\tremaining: 1.2s\n",
      "114:\tlearn: 0.2650439\ttotal: 155ms\tremaining: 1.19s\n",
      "115:\tlearn: 0.2641040\ttotal: 156ms\tremaining: 1.19s\n",
      "116:\tlearn: 0.2631572\ttotal: 157ms\tremaining: 1.18s\n",
      "117:\tlearn: 0.2621567\ttotal: 158ms\tremaining: 1.18s\n",
      "118:\tlearn: 0.2612083\ttotal: 159ms\tremaining: 1.17s\n",
      "119:\tlearn: 0.2602062\ttotal: 159ms\tremaining: 1.17s\n",
      "120:\tlearn: 0.2591308\ttotal: 160ms\tremaining: 1.16s\n",
      "121:\tlearn: 0.2581413\ttotal: 161ms\tremaining: 1.16s\n",
      "122:\tlearn: 0.2571652\ttotal: 162ms\tremaining: 1.15s\n",
      "123:\tlearn: 0.2560955\ttotal: 163ms\tremaining: 1.15s\n",
      "124:\tlearn: 0.2550198\ttotal: 164ms\tremaining: 1.14s\n",
      "125:\tlearn: 0.2539165\ttotal: 164ms\tremaining: 1.14s\n",
      "126:\tlearn: 0.2528101\ttotal: 165ms\tremaining: 1.14s\n",
      "127:\tlearn: 0.2518803\ttotal: 166ms\tremaining: 1.13s\n",
      "128:\tlearn: 0.2508000\ttotal: 167ms\tremaining: 1.13s\n",
      "129:\tlearn: 0.2498669\ttotal: 167ms\tremaining: 1.12s\n",
      "130:\tlearn: 0.2488490\ttotal: 168ms\tremaining: 1.12s\n",
      "131:\tlearn: 0.2481154\ttotal: 169ms\tremaining: 1.11s\n",
      "132:\tlearn: 0.2475333\ttotal: 170ms\tremaining: 1.11s\n",
      "133:\tlearn: 0.2465064\ttotal: 171ms\tremaining: 1.1s\n",
      "134:\tlearn: 0.2457350\ttotal: 172ms\tremaining: 1.1s\n",
      "135:\tlearn: 0.2446965\ttotal: 172ms\tremaining: 1.09s\n",
      "136:\tlearn: 0.2437937\ttotal: 173ms\tremaining: 1.09s\n",
      "137:\tlearn: 0.2430314\ttotal: 174ms\tremaining: 1.09s\n",
      "138:\tlearn: 0.2419207\ttotal: 175ms\tremaining: 1.08s\n",
      "139:\tlearn: 0.2410792\ttotal: 176ms\tremaining: 1.08s\n",
      "140:\tlearn: 0.2404521\ttotal: 176ms\tremaining: 1.07s\n",
      "141:\tlearn: 0.2397230\ttotal: 177ms\tremaining: 1.07s\n",
      "142:\tlearn: 0.2389404\ttotal: 178ms\tremaining: 1.07s\n",
      "143:\tlearn: 0.2380666\ttotal: 179ms\tremaining: 1.06s\n",
      "144:\tlearn: 0.2374607\ttotal: 180ms\tremaining: 1.06s\n",
      "145:\tlearn: 0.2364673\ttotal: 180ms\tremaining: 1.05s\n",
      "146:\tlearn: 0.2355775\ttotal: 181ms\tremaining: 1.05s\n",
      "147:\tlearn: 0.2349892\ttotal: 182ms\tremaining: 1.05s\n",
      "148:\tlearn: 0.2342105\ttotal: 183ms\tremaining: 1.04s\n",
      "149:\tlearn: 0.2336524\ttotal: 184ms\tremaining: 1.04s\n",
      "150:\tlearn: 0.2329767\ttotal: 184ms\tremaining: 1.04s\n",
      "151:\tlearn: 0.2324161\ttotal: 185ms\tremaining: 1.03s\n",
      "152:\tlearn: 0.2314254\ttotal: 186ms\tremaining: 1.03s\n",
      "153:\tlearn: 0.2307465\ttotal: 187ms\tremaining: 1.03s\n",
      "154:\tlearn: 0.2302876\ttotal: 188ms\tremaining: 1.02s\n",
      "155:\tlearn: 0.2295693\ttotal: 188ms\tremaining: 1.02s\n",
      "156:\tlearn: 0.2286464\ttotal: 189ms\tremaining: 1.02s\n",
      "157:\tlearn: 0.2275775\ttotal: 190ms\tremaining: 1.01s\n",
      "158:\tlearn: 0.2271448\ttotal: 191ms\tremaining: 1.01s\n"
     ]
    },
    {
     "name": "stdout",
     "output_type": "stream",
     "text": [
      "159:\tlearn: 0.2263043\ttotal: 192ms\tremaining: 1.01s\n",
      "160:\tlearn: 0.2254469\ttotal: 193ms\tremaining: 1s\n",
      "161:\tlearn: 0.2247935\ttotal: 194ms\tremaining: 1s\n",
      "162:\tlearn: 0.2242662\ttotal: 194ms\tremaining: 998ms\n",
      "163:\tlearn: 0.2237092\ttotal: 195ms\tremaining: 996ms\n",
      "164:\tlearn: 0.2232869\ttotal: 196ms\tremaining: 993ms\n",
      "165:\tlearn: 0.2226323\ttotal: 197ms\tremaining: 990ms\n",
      "166:\tlearn: 0.2221110\ttotal: 198ms\tremaining: 987ms\n",
      "167:\tlearn: 0.2213019\ttotal: 199ms\tremaining: 984ms\n",
      "168:\tlearn: 0.2208131\ttotal: 200ms\tremaining: 982ms\n",
      "169:\tlearn: 0.2203609\ttotal: 200ms\tremaining: 979ms\n",
      "170:\tlearn: 0.2198523\ttotal: 201ms\tremaining: 976ms\n",
      "171:\tlearn: 0.2189637\ttotal: 202ms\tremaining: 973ms\n",
      "172:\tlearn: 0.2184002\ttotal: 203ms\tremaining: 970ms\n",
      "173:\tlearn: 0.2177228\ttotal: 204ms\tremaining: 967ms\n",
      "174:\tlearn: 0.2171947\ttotal: 204ms\tremaining: 964ms\n",
      "175:\tlearn: 0.2166484\ttotal: 205ms\tremaining: 961ms\n",
      "176:\tlearn: 0.2159050\ttotal: 206ms\tremaining: 958ms\n",
      "177:\tlearn: 0.2153347\ttotal: 207ms\tremaining: 955ms\n",
      "178:\tlearn: 0.2146775\ttotal: 208ms\tremaining: 952ms\n",
      "179:\tlearn: 0.2141038\ttotal: 208ms\tremaining: 950ms\n",
      "180:\tlearn: 0.2135555\ttotal: 209ms\tremaining: 947ms\n",
      "181:\tlearn: 0.2130614\ttotal: 210ms\tremaining: 945ms\n",
      "182:\tlearn: 0.2126473\ttotal: 211ms\tremaining: 942ms\n",
      "183:\tlearn: 0.2121516\ttotal: 212ms\tremaining: 939ms\n",
      "184:\tlearn: 0.2115821\ttotal: 213ms\tremaining: 936ms\n",
      "185:\tlearn: 0.2110743\ttotal: 213ms\tremaining: 934ms\n",
      "186:\tlearn: 0.2104532\ttotal: 214ms\tremaining: 931ms\n",
      "187:\tlearn: 0.2099795\ttotal: 215ms\tremaining: 928ms\n",
      "188:\tlearn: 0.2095484\ttotal: 216ms\tremaining: 925ms\n",
      "189:\tlearn: 0.2091715\ttotal: 217ms\tremaining: 923ms\n",
      "190:\tlearn: 0.2087879\ttotal: 217ms\tremaining: 920ms\n",
      "191:\tlearn: 0.2083063\ttotal: 218ms\tremaining: 918ms\n",
      "192:\tlearn: 0.2079487\ttotal: 219ms\tremaining: 915ms\n",
      "193:\tlearn: 0.2074348\ttotal: 220ms\tremaining: 913ms\n",
      "194:\tlearn: 0.2068054\ttotal: 220ms\tremaining: 910ms\n",
      "195:\tlearn: 0.2063591\ttotal: 221ms\tremaining: 907ms\n",
      "196:\tlearn: 0.2058208\ttotal: 222ms\tremaining: 905ms\n",
      "197:\tlearn: 0.2053407\ttotal: 223ms\tremaining: 903ms\n",
      "198:\tlearn: 0.2049404\ttotal: 224ms\tremaining: 901ms\n",
      "199:\tlearn: 0.2041613\ttotal: 225ms\tremaining: 899ms\n",
      "200:\tlearn: 0.2035263\ttotal: 226ms\tremaining: 896ms\n",
      "201:\tlearn: 0.2030612\ttotal: 226ms\tremaining: 894ms\n",
      "202:\tlearn: 0.2023549\ttotal: 227ms\tremaining: 893ms\n",
      "203:\tlearn: 0.2020173\ttotal: 228ms\tremaining: 890ms\n",
      "204:\tlearn: 0.2015578\ttotal: 229ms\tremaining: 888ms\n",
      "205:\tlearn: 0.2009530\ttotal: 230ms\tremaining: 886ms\n",
      "206:\tlearn: 0.2006107\ttotal: 231ms\tremaining: 883ms\n",
      "207:\tlearn: 0.2002944\ttotal: 231ms\tremaining: 881ms\n",
      "208:\tlearn: 0.1997553\ttotal: 232ms\tremaining: 880ms\n",
      "209:\tlearn: 0.1993106\ttotal: 233ms\tremaining: 878ms\n",
      "210:\tlearn: 0.1987401\ttotal: 234ms\tremaining: 876ms\n",
      "211:\tlearn: 0.1984432\ttotal: 235ms\tremaining: 874ms\n",
      "212:\tlearn: 0.1977812\ttotal: 236ms\tremaining: 872ms\n",
      "213:\tlearn: 0.1974507\ttotal: 237ms\tremaining: 871ms\n",
      "214:\tlearn: 0.1970344\ttotal: 238ms\tremaining: 869ms\n",
      "215:\tlearn: 0.1964626\ttotal: 239ms\tremaining: 867ms\n",
      "216:\tlearn: 0.1960893\ttotal: 240ms\tremaining: 865ms\n",
      "217:\tlearn: 0.1957899\ttotal: 240ms\tremaining: 863ms\n",
      "218:\tlearn: 0.1955099\ttotal: 241ms\tremaining: 861ms\n",
      "219:\tlearn: 0.1950821\ttotal: 242ms\tremaining: 859ms\n",
      "220:\tlearn: 0.1945696\ttotal: 243ms\tremaining: 857ms\n",
      "221:\tlearn: 0.1941297\ttotal: 244ms\tremaining: 855ms\n",
      "222:\tlearn: 0.1937616\ttotal: 245ms\tremaining: 853ms\n",
      "223:\tlearn: 0.1933935\ttotal: 246ms\tremaining: 851ms\n",
      "224:\tlearn: 0.1930637\ttotal: 246ms\tremaining: 849ms\n",
      "225:\tlearn: 0.1926826\ttotal: 247ms\tremaining: 846ms\n",
      "226:\tlearn: 0.1920204\ttotal: 248ms\tremaining: 844ms\n",
      "227:\tlearn: 0.1918078\ttotal: 249ms\tremaining: 842ms\n",
      "228:\tlearn: 0.1912670\ttotal: 250ms\tremaining: 840ms\n",
      "229:\tlearn: 0.1910283\ttotal: 250ms\tremaining: 838ms\n",
      "230:\tlearn: 0.1906404\ttotal: 251ms\tremaining: 836ms\n",
      "231:\tlearn: 0.1900568\ttotal: 252ms\tremaining: 834ms\n",
      "232:\tlearn: 0.1895042\ttotal: 253ms\tremaining: 833ms\n",
      "233:\tlearn: 0.1889882\ttotal: 254ms\tremaining: 831ms\n",
      "234:\tlearn: 0.1885890\ttotal: 255ms\tremaining: 829ms\n",
      "235:\tlearn: 0.1880408\ttotal: 255ms\tremaining: 827ms\n",
      "236:\tlearn: 0.1875452\ttotal: 256ms\tremaining: 825ms\n",
      "237:\tlearn: 0.1870324\ttotal: 257ms\tremaining: 823ms\n",
      "238:\tlearn: 0.1866794\ttotal: 258ms\tremaining: 821ms\n",
      "239:\tlearn: 0.1863390\ttotal: 259ms\tremaining: 820ms\n",
      "240:\tlearn: 0.1859131\ttotal: 260ms\tremaining: 818ms\n",
      "241:\tlearn: 0.1855684\ttotal: 260ms\tremaining: 816ms\n",
      "242:\tlearn: 0.1852689\ttotal: 261ms\tremaining: 814ms\n",
      "243:\tlearn: 0.1848428\ttotal: 262ms\tremaining: 812ms\n",
      "244:\tlearn: 0.1843296\ttotal: 263ms\tremaining: 811ms\n",
      "245:\tlearn: 0.1838090\ttotal: 264ms\tremaining: 809ms\n",
      "246:\tlearn: 0.1835814\ttotal: 265ms\tremaining: 807ms\n",
      "247:\tlearn: 0.1831746\ttotal: 266ms\tremaining: 805ms\n",
      "248:\tlearn: 0.1828392\ttotal: 266ms\tremaining: 803ms\n",
      "249:\tlearn: 0.1824333\ttotal: 267ms\tremaining: 801ms\n",
      "250:\tlearn: 0.1820754\ttotal: 268ms\tremaining: 799ms\n",
      "251:\tlearn: 0.1816979\ttotal: 268ms\tremaining: 797ms\n",
      "252:\tlearn: 0.1810648\ttotal: 269ms\tremaining: 795ms\n",
      "253:\tlearn: 0.1806619\ttotal: 270ms\tremaining: 792ms\n",
      "254:\tlearn: 0.1801704\ttotal: 271ms\tremaining: 791ms\n",
      "255:\tlearn: 0.1797846\ttotal: 271ms\tremaining: 789ms\n",
      "256:\tlearn: 0.1791685\ttotal: 272ms\tremaining: 787ms\n",
      "257:\tlearn: 0.1788045\ttotal: 273ms\tremaining: 785ms\n",
      "258:\tlearn: 0.1782813\ttotal: 274ms\tremaining: 783ms\n",
      "259:\tlearn: 0.1780211\ttotal: 274ms\tremaining: 781ms\n",
      "260:\tlearn: 0.1775096\ttotal: 275ms\tremaining: 778ms\n",
      "261:\tlearn: 0.1770620\ttotal: 276ms\tremaining: 776ms\n",
      "262:\tlearn: 0.1764991\ttotal: 276ms\tremaining: 775ms\n",
      "263:\tlearn: 0.1761442\ttotal: 277ms\tremaining: 773ms\n",
      "264:\tlearn: 0.1756355\ttotal: 278ms\tremaining: 771ms\n",
      "265:\tlearn: 0.1750627\ttotal: 279ms\tremaining: 769ms\n",
      "266:\tlearn: 0.1744904\ttotal: 279ms\tremaining: 766ms\n",
      "267:\tlearn: 0.1740097\ttotal: 280ms\tremaining: 764ms\n",
      "268:\tlearn: 0.1736448\ttotal: 281ms\tremaining: 762ms\n",
      "269:\tlearn: 0.1732419\ttotal: 281ms\tremaining: 761ms\n",
      "270:\tlearn: 0.1728195\ttotal: 282ms\tremaining: 759ms\n",
      "271:\tlearn: 0.1724110\ttotal: 283ms\tremaining: 757ms\n",
      "272:\tlearn: 0.1719831\ttotal: 283ms\tremaining: 755ms\n",
      "273:\tlearn: 0.1713395\ttotal: 284ms\tremaining: 753ms\n",
      "274:\tlearn: 0.1709325\ttotal: 285ms\tremaining: 751ms\n",
      "275:\tlearn: 0.1703509\ttotal: 286ms\tremaining: 750ms\n",
      "276:\tlearn: 0.1698764\ttotal: 287ms\tremaining: 749ms\n",
      "277:\tlearn: 0.1696551\ttotal: 288ms\tremaining: 748ms\n",
      "278:\tlearn: 0.1693596\ttotal: 289ms\tremaining: 746ms\n",
      "279:\tlearn: 0.1690345\ttotal: 290ms\tremaining: 745ms\n",
      "280:\tlearn: 0.1687008\ttotal: 291ms\tremaining: 744ms\n",
      "281:\tlearn: 0.1684576\ttotal: 292ms\tremaining: 743ms\n",
      "282:\tlearn: 0.1679430\ttotal: 293ms\tremaining: 741ms\n",
      "283:\tlearn: 0.1674984\ttotal: 294ms\tremaining: 740ms\n",
      "284:\tlearn: 0.1671869\ttotal: 294ms\tremaining: 739ms\n",
      "285:\tlearn: 0.1668921\ttotal: 295ms\tremaining: 737ms\n",
      "286:\tlearn: 0.1668018\ttotal: 296ms\tremaining: 735ms\n",
      "287:\tlearn: 0.1664301\ttotal: 297ms\tremaining: 734ms\n",
      "288:\tlearn: 0.1661318\ttotal: 298ms\tremaining: 732ms\n"
     ]
    },
    {
     "name": "stdout",
     "output_type": "stream",
     "text": [
      "289:\tlearn: 0.1658194\ttotal: 299ms\tremaining: 731ms\n",
      "290:\tlearn: 0.1653964\ttotal: 300ms\tremaining: 730ms\n",
      "291:\tlearn: 0.1649534\ttotal: 301ms\tremaining: 729ms\n",
      "292:\tlearn: 0.1646479\ttotal: 301ms\tremaining: 727ms\n",
      "293:\tlearn: 0.1642001\ttotal: 302ms\tremaining: 726ms\n",
      "294:\tlearn: 0.1638854\ttotal: 303ms\tremaining: 724ms\n",
      "295:\tlearn: 0.1637540\ttotal: 304ms\tremaining: 723ms\n",
      "296:\tlearn: 0.1636509\ttotal: 305ms\tremaining: 721ms\n",
      "297:\tlearn: 0.1635383\ttotal: 305ms\tremaining: 720ms\n",
      "298:\tlearn: 0.1634290\ttotal: 306ms\tremaining: 718ms\n",
      "299:\tlearn: 0.1629021\ttotal: 307ms\tremaining: 717ms\n",
      "300:\tlearn: 0.1625559\ttotal: 308ms\tremaining: 715ms\n",
      "301:\tlearn: 0.1623417\ttotal: 309ms\tremaining: 714ms\n",
      "302:\tlearn: 0.1620201\ttotal: 310ms\tremaining: 712ms\n",
      "303:\tlearn: 0.1617491\ttotal: 310ms\tremaining: 710ms\n",
      "304:\tlearn: 0.1615093\ttotal: 311ms\tremaining: 709ms\n",
      "305:\tlearn: 0.1614207\ttotal: 312ms\tremaining: 707ms\n",
      "306:\tlearn: 0.1611806\ttotal: 313ms\tremaining: 706ms\n",
      "307:\tlearn: 0.1605083\ttotal: 313ms\tremaining: 704ms\n",
      "308:\tlearn: 0.1603695\ttotal: 314ms\tremaining: 703ms\n",
      "309:\tlearn: 0.1599018\ttotal: 315ms\tremaining: 701ms\n",
      "310:\tlearn: 0.1595002\ttotal: 316ms\tremaining: 700ms\n",
      "311:\tlearn: 0.1591525\ttotal: 317ms\tremaining: 698ms\n",
      "312:\tlearn: 0.1587671\ttotal: 318ms\tremaining: 697ms\n",
      "313:\tlearn: 0.1584513\ttotal: 318ms\tremaining: 696ms\n",
      "314:\tlearn: 0.1583548\ttotal: 319ms\tremaining: 694ms\n",
      "315:\tlearn: 0.1580230\ttotal: 320ms\tremaining: 693ms\n",
      "316:\tlearn: 0.1577582\ttotal: 321ms\tremaining: 692ms\n",
      "317:\tlearn: 0.1576485\ttotal: 322ms\tremaining: 690ms\n",
      "318:\tlearn: 0.1571524\ttotal: 323ms\tremaining: 689ms\n",
      "319:\tlearn: 0.1567397\ttotal: 323ms\tremaining: 687ms\n",
      "320:\tlearn: 0.1566483\ttotal: 324ms\tremaining: 686ms\n",
      "321:\tlearn: 0.1563326\ttotal: 325ms\tremaining: 685ms\n",
      "322:\tlearn: 0.1562096\ttotal: 326ms\tremaining: 683ms\n",
      "323:\tlearn: 0.1560943\ttotal: 327ms\tremaining: 682ms\n",
      "324:\tlearn: 0.1559895\ttotal: 328ms\tremaining: 681ms\n",
      "325:\tlearn: 0.1554810\ttotal: 328ms\tremaining: 679ms\n",
      "326:\tlearn: 0.1551976\ttotal: 329ms\tremaining: 678ms\n",
      "327:\tlearn: 0.1549176\ttotal: 330ms\tremaining: 677ms\n",
      "328:\tlearn: 0.1546916\ttotal: 331ms\tremaining: 675ms\n",
      "329:\tlearn: 0.1546119\ttotal: 332ms\tremaining: 673ms\n",
      "330:\tlearn: 0.1544658\ttotal: 333ms\tremaining: 672ms\n",
      "331:\tlearn: 0.1543939\ttotal: 333ms\tremaining: 671ms\n",
      "332:\tlearn: 0.1539407\ttotal: 334ms\tremaining: 669ms\n",
      "333:\tlearn: 0.1536043\ttotal: 335ms\tremaining: 668ms\n",
      "334:\tlearn: 0.1532793\ttotal: 336ms\tremaining: 667ms\n",
      "335:\tlearn: 0.1529210\ttotal: 337ms\tremaining: 666ms\n",
      "336:\tlearn: 0.1528271\ttotal: 338ms\tremaining: 664ms\n",
      "337:\tlearn: 0.1527545\ttotal: 339ms\tremaining: 663ms\n",
      "338:\tlearn: 0.1526342\ttotal: 340ms\tremaining: 662ms\n",
      "339:\tlearn: 0.1523991\ttotal: 340ms\tremaining: 661ms\n",
      "340:\tlearn: 0.1520567\ttotal: 341ms\tremaining: 659ms\n",
      "341:\tlearn: 0.1518112\ttotal: 342ms\tremaining: 658ms\n",
      "342:\tlearn: 0.1515097\ttotal: 343ms\tremaining: 657ms\n",
      "343:\tlearn: 0.1513083\ttotal: 344ms\tremaining: 656ms\n",
      "344:\tlearn: 0.1509813\ttotal: 344ms\tremaining: 654ms\n",
      "345:\tlearn: 0.1505043\ttotal: 345ms\tremaining: 653ms\n",
      "346:\tlearn: 0.1501556\ttotal: 346ms\tremaining: 651ms\n",
      "347:\tlearn: 0.1500355\ttotal: 347ms\tremaining: 650ms\n",
      "348:\tlearn: 0.1497891\ttotal: 348ms\tremaining: 649ms\n",
      "349:\tlearn: 0.1494554\ttotal: 349ms\tremaining: 648ms\n",
      "350:\tlearn: 0.1493906\ttotal: 350ms\tremaining: 646ms\n",
      "351:\tlearn: 0.1488560\ttotal: 350ms\tremaining: 645ms\n",
      "352:\tlearn: 0.1486310\ttotal: 351ms\tremaining: 644ms\n",
      "353:\tlearn: 0.1482742\ttotal: 352ms\tremaining: 642ms\n",
      "354:\tlearn: 0.1477594\ttotal: 353ms\tremaining: 641ms\n",
      "355:\tlearn: 0.1474896\ttotal: 354ms\tremaining: 640ms\n",
      "356:\tlearn: 0.1473298\ttotal: 354ms\tremaining: 638ms\n",
      "357:\tlearn: 0.1470068\ttotal: 355ms\tremaining: 637ms\n",
      "358:\tlearn: 0.1469423\ttotal: 356ms\tremaining: 636ms\n",
      "359:\tlearn: 0.1467228\ttotal: 357ms\tremaining: 634ms\n",
      "360:\tlearn: 0.1464384\ttotal: 357ms\tremaining: 633ms\n",
      "361:\tlearn: 0.1462172\ttotal: 358ms\tremaining: 631ms\n",
      "362:\tlearn: 0.1459129\ttotal: 359ms\tremaining: 630ms\n",
      "363:\tlearn: 0.1456288\ttotal: 360ms\tremaining: 629ms\n",
      "364:\tlearn: 0.1452187\ttotal: 361ms\tremaining: 627ms\n",
      "365:\tlearn: 0.1451498\ttotal: 361ms\tremaining: 626ms\n",
      "366:\tlearn: 0.1446452\ttotal: 362ms\tremaining: 625ms\n",
      "367:\tlearn: 0.1444290\ttotal: 363ms\tremaining: 623ms\n",
      "368:\tlearn: 0.1442016\ttotal: 364ms\tremaining: 622ms\n",
      "369:\tlearn: 0.1441093\ttotal: 365ms\tremaining: 621ms\n",
      "370:\tlearn: 0.1437550\ttotal: 366ms\tremaining: 620ms\n",
      "371:\tlearn: 0.1437024\ttotal: 366ms\tremaining: 618ms\n",
      "372:\tlearn: 0.1434407\ttotal: 367ms\tremaining: 617ms\n",
      "373:\tlearn: 0.1432143\ttotal: 368ms\tremaining: 616ms\n",
      "374:\tlearn: 0.1429498\ttotal: 369ms\tremaining: 615ms\n",
      "375:\tlearn: 0.1428876\ttotal: 370ms\tremaining: 613ms\n",
      "376:\tlearn: 0.1425415\ttotal: 370ms\tremaining: 612ms\n",
      "377:\tlearn: 0.1422241\ttotal: 371ms\tremaining: 611ms\n",
      "378:\tlearn: 0.1417788\ttotal: 372ms\tremaining: 610ms\n",
      "379:\tlearn: 0.1414268\ttotal: 373ms\tremaining: 609ms\n",
      "380:\tlearn: 0.1411260\ttotal: 374ms\tremaining: 607ms\n",
      "381:\tlearn: 0.1409263\ttotal: 375ms\tremaining: 606ms\n",
      "382:\tlearn: 0.1408989\ttotal: 375ms\tremaining: 605ms\n",
      "383:\tlearn: 0.1406248\ttotal: 376ms\tremaining: 603ms\n",
      "384:\tlearn: 0.1403434\ttotal: 377ms\tremaining: 602ms\n",
      "385:\tlearn: 0.1400702\ttotal: 378ms\tremaining: 601ms\n",
      "386:\tlearn: 0.1397169\ttotal: 379ms\tremaining: 600ms\n",
      "387:\tlearn: 0.1394732\ttotal: 379ms\tremaining: 598ms\n",
      "388:\tlearn: 0.1392687\ttotal: 380ms\tremaining: 597ms\n",
      "389:\tlearn: 0.1389902\ttotal: 381ms\tremaining: 596ms\n"
     ]
    },
    {
     "name": "stdout",
     "output_type": "stream",
     "text": [
      "390:\tlearn: 0.1385379\ttotal: 382ms\tremaining: 595ms\n",
      "391:\tlearn: 0.1382019\ttotal: 383ms\tremaining: 594ms\n",
      "392:\tlearn: 0.1379622\ttotal: 384ms\tremaining: 593ms\n",
      "393:\tlearn: 0.1377443\ttotal: 385ms\tremaining: 592ms\n",
      "394:\tlearn: 0.1374405\ttotal: 386ms\tremaining: 590ms\n",
      "395:\tlearn: 0.1373180\ttotal: 386ms\tremaining: 589ms\n",
      "396:\tlearn: 0.1370101\ttotal: 387ms\tremaining: 588ms\n",
      "397:\tlearn: 0.1368303\ttotal: 388ms\tremaining: 587ms\n",
      "398:\tlearn: 0.1365279\ttotal: 389ms\tremaining: 586ms\n",
      "399:\tlearn: 0.1362617\ttotal: 390ms\tremaining: 584ms\n",
      "400:\tlearn: 0.1359160\ttotal: 390ms\tremaining: 583ms\n",
      "401:\tlearn: 0.1355656\ttotal: 391ms\tremaining: 582ms\n",
      "402:\tlearn: 0.1354372\ttotal: 392ms\tremaining: 581ms\n",
      "403:\tlearn: 0.1353873\ttotal: 393ms\tremaining: 579ms\n",
      "404:\tlearn: 0.1351756\ttotal: 393ms\tremaining: 578ms\n",
      "405:\tlearn: 0.1348966\ttotal: 394ms\tremaining: 577ms\n",
      "406:\tlearn: 0.1345782\ttotal: 395ms\tremaining: 576ms\n",
      "407:\tlearn: 0.1344448\ttotal: 396ms\tremaining: 575ms\n",
      "408:\tlearn: 0.1342085\ttotal: 397ms\tremaining: 573ms\n",
      "409:\tlearn: 0.1338817\ttotal: 398ms\tremaining: 572ms\n",
      "410:\tlearn: 0.1336540\ttotal: 399ms\tremaining: 571ms\n",
      "411:\tlearn: 0.1333626\ttotal: 399ms\tremaining: 570ms\n",
      "412:\tlearn: 0.1330634\ttotal: 400ms\tremaining: 569ms\n",
      "413:\tlearn: 0.1329420\ttotal: 401ms\tremaining: 568ms\n",
      "414:\tlearn: 0.1327398\ttotal: 402ms\tremaining: 567ms\n",
      "415:\tlearn: 0.1324158\ttotal: 403ms\tremaining: 566ms\n",
      "416:\tlearn: 0.1320488\ttotal: 404ms\tremaining: 565ms\n",
      "417:\tlearn: 0.1319328\ttotal: 405ms\tremaining: 564ms\n",
      "418:\tlearn: 0.1316502\ttotal: 406ms\tremaining: 563ms\n",
      "419:\tlearn: 0.1313445\ttotal: 407ms\tremaining: 561ms\n",
      "420:\tlearn: 0.1309637\ttotal: 407ms\tremaining: 560ms\n",
      "421:\tlearn: 0.1306338\ttotal: 408ms\tremaining: 559ms\n",
      "422:\tlearn: 0.1303910\ttotal: 409ms\tremaining: 558ms\n",
      "423:\tlearn: 0.1301949\ttotal: 410ms\tremaining: 557ms\n",
      "424:\tlearn: 0.1301659\ttotal: 410ms\tremaining: 555ms\n",
      "425:\tlearn: 0.1299109\ttotal: 411ms\tremaining: 554ms\n",
      "426:\tlearn: 0.1295697\ttotal: 412ms\tremaining: 553ms\n",
      "427:\tlearn: 0.1292158\ttotal: 413ms\tremaining: 552ms\n",
      "428:\tlearn: 0.1289364\ttotal: 414ms\tremaining: 551ms\n",
      "429:\tlearn: 0.1288125\ttotal: 415ms\tremaining: 550ms\n",
      "430:\tlearn: 0.1285740\ttotal: 416ms\tremaining: 549ms\n",
      "431:\tlearn: 0.1283358\ttotal: 416ms\tremaining: 548ms\n",
      "432:\tlearn: 0.1280713\ttotal: 417ms\tremaining: 546ms\n",
      "433:\tlearn: 0.1277800\ttotal: 418ms\tremaining: 545ms\n",
      "434:\tlearn: 0.1275211\ttotal: 419ms\tremaining: 544ms\n",
      "435:\tlearn: 0.1274349\ttotal: 420ms\tremaining: 543ms\n",
      "436:\tlearn: 0.1273384\ttotal: 421ms\tremaining: 542ms\n",
      "437:\tlearn: 0.1270550\ttotal: 422ms\tremaining: 541ms\n",
      "438:\tlearn: 0.1269483\ttotal: 422ms\tremaining: 540ms\n",
      "439:\tlearn: 0.1268354\ttotal: 423ms\tremaining: 538ms\n",
      "440:\tlearn: 0.1265909\ttotal: 424ms\tremaining: 537ms\n",
      "441:\tlearn: 0.1263978\ttotal: 425ms\tremaining: 536ms\n",
      "442:\tlearn: 0.1262501\ttotal: 425ms\tremaining: 535ms\n",
      "443:\tlearn: 0.1259901\ttotal: 426ms\tremaining: 534ms\n",
      "444:\tlearn: 0.1257358\ttotal: 427ms\tremaining: 533ms\n",
      "445:\tlearn: 0.1254676\ttotal: 428ms\tremaining: 532ms\n",
      "446:\tlearn: 0.1254496\ttotal: 429ms\tremaining: 530ms\n",
      "447:\tlearn: 0.1252917\ttotal: 430ms\tremaining: 529ms\n",
      "448:\tlearn: 0.1249579\ttotal: 431ms\tremaining: 528ms\n",
      "449:\tlearn: 0.1247219\ttotal: 431ms\tremaining: 527ms\n",
      "450:\tlearn: 0.1244108\ttotal: 432ms\tremaining: 526ms\n",
      "451:\tlearn: 0.1242866\ttotal: 433ms\tremaining: 525ms\n",
      "452:\tlearn: 0.1240065\ttotal: 434ms\tremaining: 524ms\n",
      "453:\tlearn: 0.1238543\ttotal: 435ms\tremaining: 523ms\n",
      "454:\tlearn: 0.1236406\ttotal: 435ms\tremaining: 522ms\n",
      "455:\tlearn: 0.1234535\ttotal: 436ms\tremaining: 520ms\n",
      "456:\tlearn: 0.1231240\ttotal: 437ms\tremaining: 519ms\n",
      "457:\tlearn: 0.1229080\ttotal: 438ms\tremaining: 519ms\n",
      "458:\tlearn: 0.1226414\ttotal: 439ms\tremaining: 518ms\n",
      "459:\tlearn: 0.1223775\ttotal: 440ms\tremaining: 517ms\n",
      "460:\tlearn: 0.1221831\ttotal: 441ms\tremaining: 516ms\n",
      "461:\tlearn: 0.1219186\ttotal: 442ms\tremaining: 514ms\n",
      "462:\tlearn: 0.1216650\ttotal: 443ms\tremaining: 513ms\n",
      "463:\tlearn: 0.1212981\ttotal: 444ms\tremaining: 513ms\n",
      "464:\tlearn: 0.1209979\ttotal: 445ms\tremaining: 512ms\n",
      "465:\tlearn: 0.1208169\ttotal: 446ms\tremaining: 511ms\n",
      "466:\tlearn: 0.1206667\ttotal: 447ms\tremaining: 510ms\n",
      "467:\tlearn: 0.1203480\ttotal: 448ms\tremaining: 509ms\n",
      "468:\tlearn: 0.1201608\ttotal: 448ms\tremaining: 508ms\n",
      "469:\tlearn: 0.1200800\ttotal: 449ms\tremaining: 506ms\n",
      "470:\tlearn: 0.1198289\ttotal: 450ms\tremaining: 505ms\n",
      "471:\tlearn: 0.1194684\ttotal: 451ms\tremaining: 505ms\n",
      "472:\tlearn: 0.1192790\ttotal: 452ms\tremaining: 504ms\n",
      "473:\tlearn: 0.1190045\ttotal: 453ms\tremaining: 503ms\n",
      "474:\tlearn: 0.1189070\ttotal: 454ms\tremaining: 502ms\n",
      "475:\tlearn: 0.1186603\ttotal: 455ms\tremaining: 501ms\n",
      "476:\tlearn: 0.1183042\ttotal: 456ms\tremaining: 500ms\n",
      "477:\tlearn: 0.1180875\ttotal: 457ms\tremaining: 499ms\n",
      "478:\tlearn: 0.1179604\ttotal: 458ms\tremaining: 498ms\n",
      "479:\tlearn: 0.1178906\ttotal: 459ms\tremaining: 497ms\n",
      "480:\tlearn: 0.1176226\ttotal: 459ms\tremaining: 496ms\n",
      "481:\tlearn: 0.1173465\ttotal: 460ms\tremaining: 495ms\n",
      "482:\tlearn: 0.1170405\ttotal: 461ms\tremaining: 493ms\n",
      "483:\tlearn: 0.1169222\ttotal: 462ms\tremaining: 492ms\n",
      "484:\tlearn: 0.1167293\ttotal: 463ms\tremaining: 491ms\n",
      "485:\tlearn: 0.1166101\ttotal: 463ms\tremaining: 490ms\n",
      "486:\tlearn: 0.1164969\ttotal: 464ms\tremaining: 489ms\n",
      "487:\tlearn: 0.1163968\ttotal: 466ms\tremaining: 488ms\n",
      "488:\tlearn: 0.1160944\ttotal: 466ms\tremaining: 487ms\n",
      "489:\tlearn: 0.1158834\ttotal: 467ms\tremaining: 486ms\n",
      "490:\tlearn: 0.1158572\ttotal: 468ms\tremaining: 485ms\n",
      "491:\tlearn: 0.1156815\ttotal: 469ms\tremaining: 484ms\n",
      "492:\tlearn: 0.1155486\ttotal: 470ms\tremaining: 483ms\n",
      "493:\tlearn: 0.1153652\ttotal: 471ms\tremaining: 482ms\n",
      "494:\tlearn: 0.1152292\ttotal: 472ms\tremaining: 481ms\n",
      "495:\tlearn: 0.1150760\ttotal: 473ms\tremaining: 480ms\n",
      "496:\tlearn: 0.1149487\ttotal: 473ms\tremaining: 479ms\n",
      "497:\tlearn: 0.1147818\ttotal: 474ms\tremaining: 478ms\n",
      "498:\tlearn: 0.1145496\ttotal: 475ms\tremaining: 477ms\n",
      "499:\tlearn: 0.1144014\ttotal: 476ms\tremaining: 476ms\n",
      "500:\tlearn: 0.1141537\ttotal: 486ms\tremaining: 484ms\n",
      "501:\tlearn: 0.1139715\ttotal: 487ms\tremaining: 483ms\n",
      "502:\tlearn: 0.1135904\ttotal: 488ms\tremaining: 482ms\n",
      "503:\tlearn: 0.1134031\ttotal: 489ms\tremaining: 481ms\n"
     ]
    },
    {
     "name": "stdout",
     "output_type": "stream",
     "text": [
      "504:\tlearn: 0.1133229\ttotal: 490ms\tremaining: 480ms\n",
      "505:\tlearn: 0.1131351\ttotal: 491ms\tremaining: 479ms\n",
      "506:\tlearn: 0.1129993\ttotal: 492ms\tremaining: 479ms\n",
      "507:\tlearn: 0.1127840\ttotal: 493ms\tremaining: 478ms\n",
      "508:\tlearn: 0.1125597\ttotal: 494ms\tremaining: 477ms\n",
      "509:\tlearn: 0.1123507\ttotal: 495ms\tremaining: 476ms\n",
      "510:\tlearn: 0.1123016\ttotal: 496ms\tremaining: 475ms\n",
      "511:\tlearn: 0.1120961\ttotal: 497ms\tremaining: 473ms\n",
      "512:\tlearn: 0.1119204\ttotal: 498ms\tremaining: 472ms\n",
      "513:\tlearn: 0.1117495\ttotal: 498ms\tremaining: 471ms\n",
      "514:\tlearn: 0.1115575\ttotal: 499ms\tremaining: 470ms\n",
      "515:\tlearn: 0.1113000\ttotal: 500ms\tremaining: 469ms\n",
      "516:\tlearn: 0.1110651\ttotal: 501ms\tremaining: 468ms\n",
      "517:\tlearn: 0.1107780\ttotal: 502ms\tremaining: 467ms\n",
      "518:\tlearn: 0.1106131\ttotal: 503ms\tremaining: 466ms\n",
      "519:\tlearn: 0.1103112\ttotal: 503ms\tremaining: 465ms\n",
      "520:\tlearn: 0.1102209\ttotal: 505ms\tremaining: 464ms\n",
      "521:\tlearn: 0.1101711\ttotal: 506ms\tremaining: 463ms\n",
      "522:\tlearn: 0.1099255\ttotal: 507ms\tremaining: 462ms\n",
      "523:\tlearn: 0.1096504\ttotal: 508ms\tremaining: 461ms\n",
      "524:\tlearn: 0.1094857\ttotal: 508ms\tremaining: 460ms\n",
      "525:\tlearn: 0.1093219\ttotal: 509ms\tremaining: 459ms\n",
      "526:\tlearn: 0.1092162\ttotal: 510ms\tremaining: 458ms\n",
      "527:\tlearn: 0.1090072\ttotal: 511ms\tremaining: 456ms\n",
      "528:\tlearn: 0.1089237\ttotal: 511ms\tremaining: 455ms\n",
      "529:\tlearn: 0.1086986\ttotal: 512ms\tremaining: 454ms\n",
      "530:\tlearn: 0.1084635\ttotal: 513ms\tremaining: 453ms\n",
      "531:\tlearn: 0.1084012\ttotal: 514ms\tremaining: 452ms\n",
      "532:\tlearn: 0.1082577\ttotal: 515ms\tremaining: 451ms\n",
      "533:\tlearn: 0.1080654\ttotal: 515ms\tremaining: 450ms\n",
      "534:\tlearn: 0.1079997\ttotal: 516ms\tremaining: 448ms\n",
      "535:\tlearn: 0.1077857\ttotal: 517ms\tremaining: 447ms\n",
      "536:\tlearn: 0.1076713\ttotal: 518ms\tremaining: 446ms\n",
      "537:\tlearn: 0.1076195\ttotal: 519ms\tremaining: 445ms\n",
      "538:\tlearn: 0.1074171\ttotal: 519ms\tremaining: 444ms\n",
      "539:\tlearn: 0.1071645\ttotal: 520ms\tremaining: 443ms\n",
      "540:\tlearn: 0.1069584\ttotal: 521ms\tremaining: 442ms\n",
      "541:\tlearn: 0.1067108\ttotal: 522ms\tremaining: 441ms\n",
      "542:\tlearn: 0.1065606\ttotal: 523ms\tremaining: 440ms\n",
      "543:\tlearn: 0.1063700\ttotal: 523ms\tremaining: 439ms\n",
      "544:\tlearn: 0.1062110\ttotal: 524ms\tremaining: 438ms\n",
      "545:\tlearn: 0.1060437\ttotal: 525ms\tremaining: 437ms\n",
      "546:\tlearn: 0.1059404\ttotal: 526ms\tremaining: 436ms\n",
      "547:\tlearn: 0.1058677\ttotal: 527ms\tremaining: 434ms\n",
      "548:\tlearn: 0.1058127\ttotal: 528ms\tremaining: 434ms\n",
      "549:\tlearn: 0.1057496\ttotal: 529ms\tremaining: 432ms\n",
      "550:\tlearn: 0.1055025\ttotal: 529ms\tremaining: 431ms\n",
      "551:\tlearn: 0.1054443\ttotal: 530ms\tremaining: 430ms\n",
      "552:\tlearn: 0.1053952\ttotal: 531ms\tremaining: 429ms\n",
      "553:\tlearn: 0.1051732\ttotal: 532ms\tremaining: 428ms\n",
      "554:\tlearn: 0.1049416\ttotal: 533ms\tremaining: 427ms\n",
      "555:\tlearn: 0.1048970\ttotal: 534ms\tremaining: 426ms\n",
      "556:\tlearn: 0.1046691\ttotal: 534ms\tremaining: 425ms\n",
      "557:\tlearn: 0.1044984\ttotal: 535ms\tremaining: 424ms\n",
      "558:\tlearn: 0.1042564\ttotal: 536ms\tremaining: 423ms\n",
      "559:\tlearn: 0.1039913\ttotal: 537ms\tremaining: 422ms\n",
      "560:\tlearn: 0.1038288\ttotal: 538ms\tremaining: 421ms\n",
      "561:\tlearn: 0.1036092\ttotal: 539ms\tremaining: 420ms\n",
      "562:\tlearn: 0.1034363\ttotal: 540ms\tremaining: 419ms\n",
      "563:\tlearn: 0.1033033\ttotal: 540ms\tremaining: 418ms\n",
      "564:\tlearn: 0.1030855\ttotal: 541ms\tremaining: 417ms\n",
      "565:\tlearn: 0.1029309\ttotal: 542ms\tremaining: 416ms\n",
      "566:\tlearn: 0.1029123\ttotal: 543ms\tremaining: 414ms\n",
      "567:\tlearn: 0.1026600\ttotal: 543ms\tremaining: 413ms\n",
      "568:\tlearn: 0.1025363\ttotal: 544ms\tremaining: 412ms\n",
      "569:\tlearn: 0.1022692\ttotal: 545ms\tremaining: 411ms\n",
      "570:\tlearn: 0.1021476\ttotal: 546ms\tremaining: 410ms\n",
      "571:\tlearn: 0.1019121\ttotal: 547ms\tremaining: 410ms\n",
      "572:\tlearn: 0.1016743\ttotal: 548ms\tremaining: 408ms\n",
      "573:\tlearn: 0.1015528\ttotal: 549ms\tremaining: 407ms\n",
      "574:\tlearn: 0.1013679\ttotal: 550ms\tremaining: 407ms\n",
      "575:\tlearn: 0.1012130\ttotal: 551ms\tremaining: 406ms\n",
      "576:\tlearn: 0.1011059\ttotal: 552ms\tremaining: 405ms\n",
      "577:\tlearn: 0.1008741\ttotal: 553ms\tremaining: 403ms\n",
      "578:\tlearn: 0.1005938\ttotal: 554ms\tremaining: 403ms\n",
      "579:\tlearn: 0.1005749\ttotal: 555ms\tremaining: 402ms\n",
      "580:\tlearn: 0.1003506\ttotal: 556ms\tremaining: 401ms\n",
      "581:\tlearn: 0.1001784\ttotal: 557ms\tremaining: 400ms\n",
      "582:\tlearn: 0.1000128\ttotal: 558ms\tremaining: 399ms\n",
      "583:\tlearn: 0.0999372\ttotal: 558ms\tremaining: 398ms\n",
      "584:\tlearn: 0.0999147\ttotal: 559ms\tremaining: 397ms\n",
      "585:\tlearn: 0.0998105\ttotal: 560ms\tremaining: 396ms\n",
      "586:\tlearn: 0.0996595\ttotal: 561ms\tremaining: 395ms\n",
      "587:\tlearn: 0.0995001\ttotal: 562ms\tremaining: 394ms\n",
      "588:\tlearn: 0.0994481\ttotal: 563ms\tremaining: 393ms\n",
      "589:\tlearn: 0.0992437\ttotal: 563ms\tremaining: 391ms\n",
      "590:\tlearn: 0.0990885\ttotal: 564ms\tremaining: 390ms\n",
      "591:\tlearn: 0.0989403\ttotal: 565ms\tremaining: 389ms\n",
      "592:\tlearn: 0.0987422\ttotal: 566ms\tremaining: 388ms\n",
      "593:\tlearn: 0.0986015\ttotal: 567ms\tremaining: 387ms\n",
      "594:\tlearn: 0.0983829\ttotal: 567ms\tremaining: 386ms\n",
      "595:\tlearn: 0.0982786\ttotal: 568ms\tremaining: 385ms\n",
      "596:\tlearn: 0.0981255\ttotal: 569ms\tremaining: 384ms\n",
      "597:\tlearn: 0.0979940\ttotal: 570ms\tremaining: 383ms\n",
      "598:\tlearn: 0.0978214\ttotal: 571ms\tremaining: 382ms\n",
      "599:\tlearn: 0.0977368\ttotal: 572ms\tremaining: 381ms\n",
      "600:\tlearn: 0.0976011\ttotal: 572ms\tremaining: 380ms\n"
     ]
    },
    {
     "name": "stdout",
     "output_type": "stream",
     "text": [
      "601:\tlearn: 0.0974000\ttotal: 573ms\tremaining: 379ms\n",
      "602:\tlearn: 0.0972205\ttotal: 574ms\tremaining: 378ms\n",
      "603:\tlearn: 0.0971568\ttotal: 575ms\tremaining: 377ms\n",
      "604:\tlearn: 0.0969382\ttotal: 576ms\tremaining: 376ms\n",
      "605:\tlearn: 0.0967279\ttotal: 577ms\tremaining: 375ms\n",
      "606:\tlearn: 0.0965679\ttotal: 578ms\tremaining: 374ms\n",
      "607:\tlearn: 0.0964246\ttotal: 578ms\tremaining: 373ms\n",
      "608:\tlearn: 0.0962278\ttotal: 579ms\tremaining: 372ms\n",
      "609:\tlearn: 0.0960187\ttotal: 580ms\tremaining: 371ms\n",
      "610:\tlearn: 0.0958526\ttotal: 581ms\tremaining: 370ms\n",
      "611:\tlearn: 0.0957456\ttotal: 582ms\tremaining: 369ms\n",
      "612:\tlearn: 0.0955691\ttotal: 582ms\tremaining: 368ms\n",
      "613:\tlearn: 0.0954515\ttotal: 583ms\tremaining: 367ms\n",
      "614:\tlearn: 0.0951987\ttotal: 584ms\tremaining: 365ms\n",
      "615:\tlearn: 0.0949472\ttotal: 585ms\tremaining: 364ms\n",
      "616:\tlearn: 0.0947878\ttotal: 585ms\tremaining: 363ms\n",
      "617:\tlearn: 0.0946573\ttotal: 586ms\tremaining: 362ms\n",
      "618:\tlearn: 0.0944440\ttotal: 587ms\tremaining: 361ms\n",
      "619:\tlearn: 0.0942850\ttotal: 588ms\tremaining: 360ms\n",
      "620:\tlearn: 0.0941940\ttotal: 589ms\tremaining: 359ms\n",
      "621:\tlearn: 0.0940723\ttotal: 589ms\tremaining: 358ms\n",
      "622:\tlearn: 0.0938494\ttotal: 590ms\tremaining: 357ms\n",
      "623:\tlearn: 0.0937200\ttotal: 591ms\tremaining: 356ms\n",
      "624:\tlearn: 0.0936895\ttotal: 592ms\tremaining: 355ms\n",
      "625:\tlearn: 0.0934823\ttotal: 593ms\tremaining: 354ms\n",
      "626:\tlearn: 0.0933177\ttotal: 593ms\tremaining: 353ms\n",
      "627:\tlearn: 0.0931086\ttotal: 594ms\tremaining: 352ms\n",
      "628:\tlearn: 0.0929052\ttotal: 595ms\tremaining: 351ms\n",
      "629:\tlearn: 0.0927724\ttotal: 596ms\tremaining: 350ms\n",
      "630:\tlearn: 0.0926213\ttotal: 597ms\tremaining: 349ms\n",
      "631:\tlearn: 0.0924445\ttotal: 598ms\tremaining: 348ms\n",
      "632:\tlearn: 0.0924056\ttotal: 598ms\tremaining: 347ms\n",
      "633:\tlearn: 0.0921523\ttotal: 599ms\tremaining: 346ms\n",
      "634:\tlearn: 0.0920583\ttotal: 600ms\tremaining: 345ms\n",
      "635:\tlearn: 0.0918471\ttotal: 601ms\tremaining: 344ms\n",
      "636:\tlearn: 0.0916727\ttotal: 602ms\tremaining: 343ms\n",
      "637:\tlearn: 0.0916376\ttotal: 603ms\tremaining: 342ms\n",
      "638:\tlearn: 0.0915767\ttotal: 603ms\tremaining: 341ms\n",
      "639:\tlearn: 0.0915604\ttotal: 604ms\tremaining: 340ms\n",
      "640:\tlearn: 0.0914221\ttotal: 605ms\tremaining: 339ms\n",
      "641:\tlearn: 0.0913016\ttotal: 605ms\tremaining: 338ms\n",
      "642:\tlearn: 0.0912399\ttotal: 606ms\tremaining: 337ms\n",
      "643:\tlearn: 0.0911685\ttotal: 607ms\tremaining: 336ms\n",
      "644:\tlearn: 0.0911076\ttotal: 608ms\tremaining: 335ms\n",
      "645:\tlearn: 0.0909140\ttotal: 609ms\tremaining: 334ms\n",
      "646:\tlearn: 0.0907957\ttotal: 609ms\tremaining: 332ms\n",
      "647:\tlearn: 0.0906124\ttotal: 610ms\tremaining: 332ms\n",
      "648:\tlearn: 0.0904334\ttotal: 611ms\tremaining: 331ms\n",
      "649:\tlearn: 0.0902166\ttotal: 612ms\tremaining: 330ms\n",
      "650:\tlearn: 0.0899569\ttotal: 613ms\tremaining: 329ms\n",
      "651:\tlearn: 0.0897629\ttotal: 614ms\tremaining: 328ms\n",
      "652:\tlearn: 0.0895895\ttotal: 615ms\tremaining: 327ms\n",
      "653:\tlearn: 0.0894219\ttotal: 616ms\tremaining: 326ms\n",
      "654:\tlearn: 0.0892179\ttotal: 617ms\tremaining: 325ms\n",
      "655:\tlearn: 0.0891294\ttotal: 618ms\tremaining: 324ms\n",
      "656:\tlearn: 0.0890645\ttotal: 619ms\tremaining: 323ms\n",
      "657:\tlearn: 0.0890037\ttotal: 619ms\tremaining: 322ms\n",
      "658:\tlearn: 0.0888404\ttotal: 620ms\tremaining: 321ms\n",
      "659:\tlearn: 0.0887324\ttotal: 621ms\tremaining: 320ms\n",
      "660:\tlearn: 0.0885819\ttotal: 622ms\tremaining: 319ms\n",
      "661:\tlearn: 0.0884256\ttotal: 623ms\tremaining: 318ms\n",
      "662:\tlearn: 0.0883635\ttotal: 624ms\tremaining: 317ms\n",
      "663:\tlearn: 0.0881449\ttotal: 624ms\tremaining: 316ms\n",
      "664:\tlearn: 0.0880541\ttotal: 625ms\tremaining: 315ms\n",
      "665:\tlearn: 0.0879072\ttotal: 626ms\tremaining: 314ms\n",
      "666:\tlearn: 0.0878627\ttotal: 627ms\tremaining: 313ms\n",
      "667:\tlearn: 0.0876597\ttotal: 627ms\tremaining: 312ms\n",
      "668:\tlearn: 0.0874697\ttotal: 628ms\tremaining: 311ms\n",
      "669:\tlearn: 0.0873529\ttotal: 629ms\tremaining: 310ms\n",
      "670:\tlearn: 0.0872361\ttotal: 630ms\tremaining: 309ms\n",
      "671:\tlearn: 0.0871256\ttotal: 631ms\tremaining: 308ms\n",
      "672:\tlearn: 0.0869894\ttotal: 631ms\tremaining: 307ms\n",
      "673:\tlearn: 0.0867786\ttotal: 632ms\tremaining: 306ms\n",
      "674:\tlearn: 0.0866869\ttotal: 633ms\tremaining: 305ms\n",
      "675:\tlearn: 0.0865654\ttotal: 634ms\tremaining: 304ms\n",
      "676:\tlearn: 0.0864036\ttotal: 635ms\tremaining: 303ms\n",
      "677:\tlearn: 0.0863122\ttotal: 635ms\tremaining: 302ms\n",
      "678:\tlearn: 0.0861677\ttotal: 636ms\tremaining: 301ms\n",
      "679:\tlearn: 0.0860748\ttotal: 637ms\tremaining: 300ms\n",
      "680:\tlearn: 0.0859335\ttotal: 638ms\tremaining: 299ms\n",
      "681:\tlearn: 0.0857550\ttotal: 638ms\tremaining: 298ms\n",
      "682:\tlearn: 0.0855724\ttotal: 639ms\tremaining: 297ms\n",
      "683:\tlearn: 0.0854837\ttotal: 640ms\tremaining: 296ms\n",
      "684:\tlearn: 0.0853959\ttotal: 641ms\tremaining: 295ms\n",
      "685:\tlearn: 0.0853367\ttotal: 642ms\tremaining: 294ms\n",
      "686:\tlearn: 0.0851018\ttotal: 642ms\tremaining: 293ms\n",
      "687:\tlearn: 0.0849737\ttotal: 643ms\tremaining: 292ms\n",
      "688:\tlearn: 0.0848593\ttotal: 644ms\tremaining: 291ms\n",
      "689:\tlearn: 0.0847303\ttotal: 645ms\tremaining: 290ms\n",
      "690:\tlearn: 0.0846198\ttotal: 646ms\tremaining: 289ms\n",
      "691:\tlearn: 0.0844354\ttotal: 647ms\tremaining: 288ms\n",
      "692:\tlearn: 0.0843414\ttotal: 648ms\tremaining: 287ms\n",
      "693:\tlearn: 0.0842143\ttotal: 648ms\tremaining: 286ms\n",
      "694:\tlearn: 0.0841053\ttotal: 649ms\tremaining: 285ms\n",
      "695:\tlearn: 0.0839527\ttotal: 650ms\tremaining: 284ms\n",
      "696:\tlearn: 0.0838635\ttotal: 651ms\tremaining: 283ms\n",
      "697:\tlearn: 0.0837757\ttotal: 652ms\tremaining: 282ms\n",
      "698:\tlearn: 0.0837068\ttotal: 653ms\tremaining: 281ms\n",
      "699:\tlearn: 0.0835471\ttotal: 654ms\tremaining: 280ms\n",
      "700:\tlearn: 0.0833652\ttotal: 654ms\tremaining: 279ms\n",
      "701:\tlearn: 0.0831903\ttotal: 655ms\tremaining: 278ms\n",
      "702:\tlearn: 0.0831023\ttotal: 656ms\tremaining: 277ms\n",
      "703:\tlearn: 0.0830563\ttotal: 657ms\tremaining: 276ms\n",
      "704:\tlearn: 0.0829424\ttotal: 658ms\tremaining: 275ms\n",
      "705:\tlearn: 0.0828394\ttotal: 658ms\tremaining: 274ms\n",
      "706:\tlearn: 0.0827575\ttotal: 659ms\tremaining: 273ms\n",
      "707:\tlearn: 0.0825714\ttotal: 660ms\tremaining: 272ms\n",
      "708:\tlearn: 0.0824031\ttotal: 661ms\tremaining: 271ms\n",
      "709:\tlearn: 0.0822663\ttotal: 662ms\tremaining: 270ms\n",
      "710:\tlearn: 0.0821958\ttotal: 663ms\tremaining: 269ms\n",
      "711:\tlearn: 0.0820876\ttotal: 664ms\tremaining: 268ms\n",
      "712:\tlearn: 0.0819116\ttotal: 664ms\tremaining: 267ms\n",
      "713:\tlearn: 0.0818134\ttotal: 665ms\tremaining: 266ms\n",
      "714:\tlearn: 0.0816538\ttotal: 666ms\tremaining: 265ms\n",
      "715:\tlearn: 0.0815453\ttotal: 667ms\tremaining: 264ms\n",
      "716:\tlearn: 0.0814171\ttotal: 668ms\tremaining: 264ms\n",
      "717:\tlearn: 0.0812806\ttotal: 668ms\tremaining: 263ms\n",
      "718:\tlearn: 0.0812223\ttotal: 669ms\tremaining: 262ms\n",
      "719:\tlearn: 0.0811753\ttotal: 670ms\tremaining: 261ms\n",
      "720:\tlearn: 0.0811537\ttotal: 671ms\tremaining: 260ms\n",
      "721:\tlearn: 0.0811339\ttotal: 672ms\tremaining: 259ms\n",
      "722:\tlearn: 0.0809741\ttotal: 673ms\tremaining: 258ms\n",
      "723:\tlearn: 0.0808524\ttotal: 674ms\tremaining: 257ms\n",
      "724:\tlearn: 0.0807514\ttotal: 675ms\tremaining: 256ms\n",
      "725:\tlearn: 0.0806064\ttotal: 676ms\tremaining: 255ms\n",
      "726:\tlearn: 0.0804866\ttotal: 676ms\tremaining: 254ms\n",
      "727:\tlearn: 0.0803656\ttotal: 677ms\tremaining: 253ms\n",
      "728:\tlearn: 0.0801572\ttotal: 678ms\tremaining: 252ms\n",
      "729:\tlearn: 0.0799814\ttotal: 679ms\tremaining: 251ms\n"
     ]
    },
    {
     "name": "stdout",
     "output_type": "stream",
     "text": [
      "730:\tlearn: 0.0798927\ttotal: 680ms\tremaining: 250ms\n",
      "731:\tlearn: 0.0797321\ttotal: 681ms\tremaining: 249ms\n",
      "732:\tlearn: 0.0795619\ttotal: 682ms\tremaining: 248ms\n",
      "733:\tlearn: 0.0794489\ttotal: 683ms\tremaining: 247ms\n",
      "734:\tlearn: 0.0792871\ttotal: 683ms\tremaining: 246ms\n",
      "735:\tlearn: 0.0791664\ttotal: 684ms\tremaining: 245ms\n",
      "736:\tlearn: 0.0791273\ttotal: 685ms\tremaining: 244ms\n",
      "737:\tlearn: 0.0791123\ttotal: 686ms\tremaining: 243ms\n",
      "738:\tlearn: 0.0789711\ttotal: 687ms\tremaining: 243ms\n",
      "739:\tlearn: 0.0788354\ttotal: 688ms\tremaining: 242ms\n",
      "740:\tlearn: 0.0787258\ttotal: 688ms\tremaining: 241ms\n",
      "741:\tlearn: 0.0786466\ttotal: 689ms\tremaining: 240ms\n",
      "742:\tlearn: 0.0786068\ttotal: 690ms\tremaining: 239ms\n",
      "743:\tlearn: 0.0784004\ttotal: 691ms\tremaining: 238ms\n",
      "744:\tlearn: 0.0782678\ttotal: 691ms\tremaining: 237ms\n",
      "745:\tlearn: 0.0781317\ttotal: 692ms\tremaining: 236ms\n",
      "746:\tlearn: 0.0780057\ttotal: 693ms\tremaining: 235ms\n",
      "747:\tlearn: 0.0779495\ttotal: 694ms\tremaining: 234ms\n",
      "748:\tlearn: 0.0779114\ttotal: 695ms\tremaining: 233ms\n",
      "749:\tlearn: 0.0778623\ttotal: 695ms\tremaining: 232ms\n",
      "750:\tlearn: 0.0778269\ttotal: 696ms\tremaining: 231ms\n",
      "751:\tlearn: 0.0778146\ttotal: 697ms\tremaining: 230ms\n",
      "752:\tlearn: 0.0776820\ttotal: 698ms\tremaining: 229ms\n",
      "753:\tlearn: 0.0775493\ttotal: 699ms\tremaining: 228ms\n",
      "754:\tlearn: 0.0773945\ttotal: 700ms\tremaining: 227ms\n",
      "755:\tlearn: 0.0773185\ttotal: 700ms\tremaining: 226ms\n",
      "756:\tlearn: 0.0772595\ttotal: 701ms\tremaining: 225ms\n",
      "757:\tlearn: 0.0771969\ttotal: 702ms\tremaining: 224ms\n",
      "758:\tlearn: 0.0771811\ttotal: 703ms\tremaining: 223ms\n",
      "759:\tlearn: 0.0770290\ttotal: 704ms\tremaining: 222ms\n",
      "760:\tlearn: 0.0770107\ttotal: 704ms\tremaining: 221ms\n",
      "761:\tlearn: 0.0769222\ttotal: 705ms\tremaining: 220ms\n",
      "762:\tlearn: 0.0767615\ttotal: 706ms\tremaining: 219ms\n",
      "763:\tlearn: 0.0766578\ttotal: 707ms\tremaining: 218ms\n",
      "764:\tlearn: 0.0766111\ttotal: 708ms\tremaining: 217ms\n",
      "765:\tlearn: 0.0765191\ttotal: 708ms\tremaining: 216ms\n",
      "766:\tlearn: 0.0764056\ttotal: 709ms\tremaining: 215ms\n",
      "767:\tlearn: 0.0763203\ttotal: 710ms\tremaining: 214ms\n",
      "768:\tlearn: 0.0761950\ttotal: 711ms\tremaining: 214ms\n",
      "769:\tlearn: 0.0761601\ttotal: 712ms\tremaining: 213ms\n",
      "770:\tlearn: 0.0761323\ttotal: 713ms\tremaining: 212ms\n",
      "771:\tlearn: 0.0760950\ttotal: 713ms\tremaining: 211ms\n",
      "772:\tlearn: 0.0760020\ttotal: 714ms\tremaining: 210ms\n",
      "773:\tlearn: 0.0758393\ttotal: 715ms\tremaining: 209ms\n",
      "774:\tlearn: 0.0756921\ttotal: 716ms\tremaining: 208ms\n",
      "775:\tlearn: 0.0755339\ttotal: 717ms\tremaining: 207ms\n",
      "776:\tlearn: 0.0754147\ttotal: 717ms\tremaining: 206ms\n",
      "777:\tlearn: 0.0753192\ttotal: 718ms\tremaining: 205ms\n",
      "778:\tlearn: 0.0752027\ttotal: 719ms\tremaining: 204ms\n",
      "779:\tlearn: 0.0750710\ttotal: 720ms\tremaining: 203ms\n",
      "780:\tlearn: 0.0749865\ttotal: 721ms\tremaining: 202ms\n",
      "781:\tlearn: 0.0748990\ttotal: 722ms\tremaining: 201ms\n",
      "782:\tlearn: 0.0748820\ttotal: 722ms\tremaining: 200ms\n",
      "783:\tlearn: 0.0747722\ttotal: 723ms\tremaining: 199ms\n",
      "784:\tlearn: 0.0746251\ttotal: 724ms\tremaining: 198ms\n",
      "785:\tlearn: 0.0745192\ttotal: 725ms\tremaining: 197ms\n",
      "786:\tlearn: 0.0744378\ttotal: 726ms\tremaining: 197ms\n",
      "787:\tlearn: 0.0743056\ttotal: 727ms\tremaining: 196ms\n",
      "788:\tlearn: 0.0742346\ttotal: 728ms\tremaining: 195ms\n",
      "789:\tlearn: 0.0741577\ttotal: 729ms\tremaining: 194ms\n",
      "790:\tlearn: 0.0740760\ttotal: 730ms\tremaining: 193ms\n",
      "791:\tlearn: 0.0739305\ttotal: 730ms\tremaining: 192ms\n",
      "792:\tlearn: 0.0737788\ttotal: 731ms\tremaining: 191ms\n",
      "793:\tlearn: 0.0736438\ttotal: 732ms\tremaining: 190ms\n",
      "794:\tlearn: 0.0735394\ttotal: 733ms\tremaining: 189ms\n",
      "795:\tlearn: 0.0734814\ttotal: 733ms\tremaining: 188ms\n",
      "796:\tlearn: 0.0734181\ttotal: 734ms\tremaining: 187ms\n",
      "797:\tlearn: 0.0732510\ttotal: 735ms\tremaining: 186ms\n",
      "798:\tlearn: 0.0731423\ttotal: 736ms\tremaining: 185ms\n",
      "799:\tlearn: 0.0729616\ttotal: 737ms\tremaining: 184ms\n",
      "800:\tlearn: 0.0728735\ttotal: 737ms\tremaining: 183ms\n",
      "801:\tlearn: 0.0727836\ttotal: 738ms\tremaining: 182ms\n",
      "802:\tlearn: 0.0727295\ttotal: 739ms\tremaining: 181ms\n",
      "803:\tlearn: 0.0726801\ttotal: 740ms\tremaining: 180ms\n",
      "804:\tlearn: 0.0725485\ttotal: 741ms\tremaining: 179ms\n",
      "805:\tlearn: 0.0724611\ttotal: 741ms\tremaining: 178ms\n",
      "806:\tlearn: 0.0723557\ttotal: 742ms\tremaining: 178ms\n",
      "807:\tlearn: 0.0721872\ttotal: 743ms\tremaining: 177ms\n",
      "808:\tlearn: 0.0721213\ttotal: 744ms\tremaining: 176ms\n",
      "809:\tlearn: 0.0719767\ttotal: 745ms\tremaining: 175ms\n",
      "810:\tlearn: 0.0719092\ttotal: 746ms\tremaining: 174ms\n",
      "811:\tlearn: 0.0718799\ttotal: 746ms\tremaining: 173ms\n",
      "812:\tlearn: 0.0718693\ttotal: 747ms\tremaining: 172ms\n",
      "813:\tlearn: 0.0718283\ttotal: 748ms\tremaining: 171ms\n",
      "814:\tlearn: 0.0717529\ttotal: 749ms\tremaining: 170ms\n",
      "815:\tlearn: 0.0716348\ttotal: 750ms\tremaining: 169ms\n",
      "816:\tlearn: 0.0714799\ttotal: 751ms\tremaining: 168ms\n",
      "817:\tlearn: 0.0713759\ttotal: 752ms\tremaining: 167ms\n",
      "818:\tlearn: 0.0713315\ttotal: 752ms\tremaining: 166ms\n",
      "819:\tlearn: 0.0711969\ttotal: 753ms\tremaining: 165ms\n",
      "820:\tlearn: 0.0710620\ttotal: 754ms\tremaining: 164ms\n",
      "821:\tlearn: 0.0710206\ttotal: 755ms\tremaining: 163ms\n",
      "822:\tlearn: 0.0708488\ttotal: 756ms\tremaining: 163ms\n",
      "823:\tlearn: 0.0707290\ttotal: 757ms\tremaining: 162ms\n",
      "824:\tlearn: 0.0706259\ttotal: 757ms\tremaining: 161ms\n",
      "825:\tlearn: 0.0704533\ttotal: 758ms\tremaining: 160ms\n",
      "826:\tlearn: 0.0702987\ttotal: 759ms\tremaining: 159ms\n",
      "827:\tlearn: 0.0702015\ttotal: 760ms\tremaining: 158ms\n",
      "828:\tlearn: 0.0700832\ttotal: 761ms\tremaining: 157ms\n",
      "829:\tlearn: 0.0699713\ttotal: 762ms\tremaining: 156ms\n",
      "830:\tlearn: 0.0698518\ttotal: 763ms\tremaining: 155ms\n"
     ]
    },
    {
     "name": "stdout",
     "output_type": "stream",
     "text": [
      "831:\tlearn: 0.0697321\ttotal: 764ms\tremaining: 154ms\n",
      "832:\tlearn: 0.0695861\ttotal: 765ms\tremaining: 153ms\n",
      "833:\tlearn: 0.0694421\ttotal: 765ms\tremaining: 152ms\n",
      "834:\tlearn: 0.0693009\ttotal: 766ms\tremaining: 151ms\n",
      "835:\tlearn: 0.0692904\ttotal: 767ms\tremaining: 150ms\n",
      "836:\tlearn: 0.0691707\ttotal: 768ms\tremaining: 150ms\n",
      "837:\tlearn: 0.0689992\ttotal: 769ms\tremaining: 149ms\n",
      "838:\tlearn: 0.0689205\ttotal: 770ms\tremaining: 148ms\n",
      "839:\tlearn: 0.0688067\ttotal: 770ms\tremaining: 147ms\n",
      "840:\tlearn: 0.0686653\ttotal: 771ms\tremaining: 146ms\n",
      "841:\tlearn: 0.0686476\ttotal: 772ms\tremaining: 145ms\n",
      "842:\tlearn: 0.0685027\ttotal: 773ms\tremaining: 144ms\n",
      "843:\tlearn: 0.0683902\ttotal: 774ms\tremaining: 143ms\n",
      "844:\tlearn: 0.0682907\ttotal: 775ms\tremaining: 142ms\n",
      "845:\tlearn: 0.0682785\ttotal: 775ms\tremaining: 141ms\n",
      "846:\tlearn: 0.0681627\ttotal: 776ms\tremaining: 140ms\n",
      "847:\tlearn: 0.0680167\ttotal: 777ms\tremaining: 139ms\n",
      "848:\tlearn: 0.0679622\ttotal: 778ms\tremaining: 138ms\n",
      "849:\tlearn: 0.0678851\ttotal: 779ms\tremaining: 137ms\n",
      "850:\tlearn: 0.0678772\ttotal: 780ms\tremaining: 136ms\n",
      "851:\tlearn: 0.0677360\ttotal: 780ms\tremaining: 136ms\n",
      "852:\tlearn: 0.0676549\ttotal: 781ms\tremaining: 135ms\n",
      "853:\tlearn: 0.0675236\ttotal: 782ms\tremaining: 134ms\n",
      "854:\tlearn: 0.0674316\ttotal: 783ms\tremaining: 133ms\n",
      "855:\tlearn: 0.0674219\ttotal: 784ms\tremaining: 132ms\n",
      "856:\tlearn: 0.0672596\ttotal: 784ms\tremaining: 131ms\n",
      "857:\tlearn: 0.0672026\ttotal: 785ms\tremaining: 130ms\n",
      "858:\tlearn: 0.0671069\ttotal: 786ms\tremaining: 129ms\n",
      "859:\tlearn: 0.0669994\ttotal: 787ms\tremaining: 128ms\n",
      "860:\tlearn: 0.0668136\ttotal: 788ms\tremaining: 127ms\n",
      "861:\tlearn: 0.0667765\ttotal: 789ms\tremaining: 126ms\n",
      "862:\tlearn: 0.0666562\ttotal: 789ms\tremaining: 125ms\n",
      "863:\tlearn: 0.0665618\ttotal: 790ms\tremaining: 124ms\n",
      "864:\tlearn: 0.0665125\ttotal: 791ms\tremaining: 123ms\n",
      "865:\tlearn: 0.0664695\ttotal: 792ms\tremaining: 123ms\n",
      "866:\tlearn: 0.0663604\ttotal: 792ms\tremaining: 122ms\n",
      "867:\tlearn: 0.0662212\ttotal: 793ms\tremaining: 121ms\n",
      "868:\tlearn: 0.0661057\ttotal: 794ms\tremaining: 120ms\n",
      "869:\tlearn: 0.0660522\ttotal: 795ms\tremaining: 119ms\n",
      "870:\tlearn: 0.0659195\ttotal: 796ms\tremaining: 118ms\n",
      "871:\tlearn: 0.0657838\ttotal: 796ms\tremaining: 117ms\n",
      "872:\tlearn: 0.0656694\ttotal: 797ms\tremaining: 116ms\n",
      "873:\tlearn: 0.0655420\ttotal: 798ms\tremaining: 115ms\n",
      "874:\tlearn: 0.0655019\ttotal: 799ms\tremaining: 114ms\n",
      "875:\tlearn: 0.0654764\ttotal: 800ms\tremaining: 113ms\n",
      "876:\tlearn: 0.0654613\ttotal: 801ms\tremaining: 112ms\n",
      "877:\tlearn: 0.0653387\ttotal: 801ms\tremaining: 111ms\n",
      "878:\tlearn: 0.0652844\ttotal: 802ms\tremaining: 110ms\n",
      "879:\tlearn: 0.0652000\ttotal: 803ms\tremaining: 110ms\n",
      "880:\tlearn: 0.0650533\ttotal: 804ms\tremaining: 109ms\n",
      "881:\tlearn: 0.0649997\ttotal: 805ms\tremaining: 108ms\n",
      "882:\tlearn: 0.0649080\ttotal: 805ms\tremaining: 107ms\n",
      "883:\tlearn: 0.0648963\ttotal: 806ms\tremaining: 106ms\n",
      "884:\tlearn: 0.0648137\ttotal: 807ms\tremaining: 105ms\n",
      "885:\tlearn: 0.0647068\ttotal: 808ms\tremaining: 104ms\n",
      "886:\tlearn: 0.0646714\ttotal: 809ms\tremaining: 103ms\n",
      "887:\tlearn: 0.0645718\ttotal: 810ms\tremaining: 102ms\n",
      "888:\tlearn: 0.0645335\ttotal: 810ms\tremaining: 101ms\n",
      "889:\tlearn: 0.0644239\ttotal: 811ms\tremaining: 100ms\n",
      "890:\tlearn: 0.0642713\ttotal: 812ms\tremaining: 99.3ms\n",
      "891:\tlearn: 0.0641688\ttotal: 813ms\tremaining: 98.4ms\n",
      "892:\tlearn: 0.0641016\ttotal: 813ms\tremaining: 97.5ms\n",
      "893:\tlearn: 0.0639793\ttotal: 814ms\tremaining: 96.5ms\n",
      "894:\tlearn: 0.0638858\ttotal: 815ms\tremaining: 95.6ms\n",
      "895:\tlearn: 0.0638016\ttotal: 816ms\tremaining: 94.7ms\n",
      "896:\tlearn: 0.0636926\ttotal: 817ms\tremaining: 93.8ms\n",
      "897:\tlearn: 0.0635691\ttotal: 817ms\tremaining: 92.8ms\n",
      "898:\tlearn: 0.0634926\ttotal: 818ms\tremaining: 91.9ms\n",
      "899:\tlearn: 0.0633765\ttotal: 819ms\tremaining: 91ms\n",
      "900:\tlearn: 0.0632187\ttotal: 820ms\tremaining: 90.1ms\n",
      "901:\tlearn: 0.0631341\ttotal: 821ms\tremaining: 89.2ms\n",
      "902:\tlearn: 0.0630073\ttotal: 821ms\tremaining: 88.2ms\n",
      "903:\tlearn: 0.0629583\ttotal: 822ms\tremaining: 87.3ms\n",
      "904:\tlearn: 0.0628662\ttotal: 823ms\tremaining: 86.4ms\n",
      "905:\tlearn: 0.0627873\ttotal: 824ms\tremaining: 85.5ms\n",
      "906:\tlearn: 0.0627237\ttotal: 825ms\tremaining: 84.6ms\n",
      "907:\tlearn: 0.0626726\ttotal: 826ms\tremaining: 83.7ms\n",
      "908:\tlearn: 0.0625701\ttotal: 826ms\tremaining: 82.7ms\n",
      "909:\tlearn: 0.0624992\ttotal: 827ms\tremaining: 81.8ms\n",
      "910:\tlearn: 0.0624307\ttotal: 828ms\tremaining: 80.9ms\n",
      "911:\tlearn: 0.0623406\ttotal: 829ms\tremaining: 80ms\n",
      "912:\tlearn: 0.0622316\ttotal: 830ms\tremaining: 79.1ms\n",
      "913:\tlearn: 0.0622001\ttotal: 830ms\tremaining: 78.1ms\n",
      "914:\tlearn: 0.0621654\ttotal: 831ms\tremaining: 77.2ms\n",
      "915:\tlearn: 0.0620542\ttotal: 832ms\tremaining: 76.3ms\n",
      "916:\tlearn: 0.0620101\ttotal: 833ms\tremaining: 75.4ms\n",
      "917:\tlearn: 0.0619871\ttotal: 833ms\tremaining: 74.4ms\n",
      "918:\tlearn: 0.0618355\ttotal: 834ms\tremaining: 73.5ms\n",
      "919:\tlearn: 0.0617253\ttotal: 835ms\tremaining: 72.6ms\n",
      "920:\tlearn: 0.0615857\ttotal: 836ms\tremaining: 71.7ms\n",
      "921:\tlearn: 0.0614825\ttotal: 837ms\tremaining: 70.8ms\n",
      "922:\tlearn: 0.0613923\ttotal: 838ms\tremaining: 69.9ms\n",
      "923:\tlearn: 0.0612854\ttotal: 839ms\tremaining: 69ms\n",
      "924:\tlearn: 0.0611534\ttotal: 839ms\tremaining: 68.1ms\n",
      "925:\tlearn: 0.0610306\ttotal: 840ms\tremaining: 67.1ms\n",
      "926:\tlearn: 0.0609959\ttotal: 841ms\tremaining: 66.2ms\n",
      "927:\tlearn: 0.0608897\ttotal: 842ms\tremaining: 65.3ms\n",
      "928:\tlearn: 0.0608089\ttotal: 843ms\tremaining: 64.4ms\n",
      "929:\tlearn: 0.0607360\ttotal: 843ms\tremaining: 63.5ms\n",
      "930:\tlearn: 0.0606552\ttotal: 844ms\tremaining: 62.6ms\n",
      "931:\tlearn: 0.0606265\ttotal: 845ms\tremaining: 61.7ms\n",
      "932:\tlearn: 0.0605851\ttotal: 846ms\tremaining: 60.8ms\n",
      "933:\tlearn: 0.0604877\ttotal: 847ms\tremaining: 59.9ms\n",
      "934:\tlearn: 0.0604464\ttotal: 848ms\tremaining: 58.9ms\n",
      "935:\tlearn: 0.0603374\ttotal: 849ms\tremaining: 58ms\n",
      "936:\tlearn: 0.0602485\ttotal: 850ms\tremaining: 57.1ms\n",
      "937:\tlearn: 0.0601750\ttotal: 850ms\tremaining: 56.2ms\n",
      "938:\tlearn: 0.0600626\ttotal: 851ms\tremaining: 55.3ms\n",
      "939:\tlearn: 0.0600201\ttotal: 852ms\tremaining: 54.4ms\n",
      "940:\tlearn: 0.0598885\ttotal: 853ms\tremaining: 53.5ms\n",
      "941:\tlearn: 0.0597969\ttotal: 854ms\tremaining: 52.6ms\n",
      "942:\tlearn: 0.0597580\ttotal: 854ms\tremaining: 51.6ms\n",
      "943:\tlearn: 0.0597440\ttotal: 855ms\tremaining: 50.7ms\n",
      "944:\tlearn: 0.0596516\ttotal: 856ms\tremaining: 49.8ms\n",
      "945:\tlearn: 0.0595721\ttotal: 857ms\tremaining: 48.9ms\n",
      "946:\tlearn: 0.0594699\ttotal: 858ms\tremaining: 48ms\n",
      "947:\tlearn: 0.0594366\ttotal: 858ms\tremaining: 47.1ms\n",
      "948:\tlearn: 0.0593583\ttotal: 859ms\tremaining: 46.2ms\n",
      "949:\tlearn: 0.0592477\ttotal: 860ms\tremaining: 45.3ms\n",
      "950:\tlearn: 0.0591306\ttotal: 861ms\tremaining: 44.4ms\n",
      "951:\tlearn: 0.0590387\ttotal: 862ms\tremaining: 43.4ms\n",
      "952:\tlearn: 0.0590024\ttotal: 862ms\tremaining: 42.5ms\n",
      "953:\tlearn: 0.0589777\ttotal: 863ms\tremaining: 41.6ms\n",
      "954:\tlearn: 0.0588483\ttotal: 864ms\tremaining: 40.7ms\n",
      "955:\tlearn: 0.0588132\ttotal: 865ms\tremaining: 39.8ms\n",
      "956:\tlearn: 0.0587820\ttotal: 866ms\tremaining: 38.9ms\n",
      "957:\tlearn: 0.0587381\ttotal: 866ms\tremaining: 38ms\n",
      "958:\tlearn: 0.0586412\ttotal: 867ms\tremaining: 37.1ms\n",
      "959:\tlearn: 0.0585329\ttotal: 868ms\tremaining: 36.2ms\n",
      "960:\tlearn: 0.0584227\ttotal: 869ms\tremaining: 35.3ms\n",
      "961:\tlearn: 0.0583140\ttotal: 869ms\tremaining: 34.3ms\n",
      "962:\tlearn: 0.0581713\ttotal: 870ms\tremaining: 33.4ms\n"
     ]
    },
    {
     "name": "stdout",
     "output_type": "stream",
     "text": [
      "963:\tlearn: 0.0581637\ttotal: 871ms\tremaining: 32.5ms\n",
      "964:\tlearn: 0.0580770\ttotal: 872ms\tremaining: 31.6ms\n",
      "965:\tlearn: 0.0580349\ttotal: 873ms\tremaining: 30.7ms\n",
      "966:\tlearn: 0.0579735\ttotal: 874ms\tremaining: 29.8ms\n",
      "967:\tlearn: 0.0578414\ttotal: 874ms\tremaining: 28.9ms\n",
      "968:\tlearn: 0.0577484\ttotal: 875ms\tremaining: 28ms\n",
      "969:\tlearn: 0.0576938\ttotal: 876ms\tremaining: 27.1ms\n",
      "970:\tlearn: 0.0576309\ttotal: 877ms\tremaining: 26.2ms\n",
      "971:\tlearn: 0.0575552\ttotal: 878ms\tremaining: 25.3ms\n",
      "972:\tlearn: 0.0574557\ttotal: 878ms\tremaining: 24.4ms\n",
      "973:\tlearn: 0.0573407\ttotal: 879ms\tremaining: 23.5ms\n",
      "974:\tlearn: 0.0573270\ttotal: 880ms\tremaining: 22.6ms\n",
      "975:\tlearn: 0.0572512\ttotal: 881ms\tremaining: 21.7ms\n",
      "976:\tlearn: 0.0571308\ttotal: 882ms\tremaining: 20.8ms\n",
      "977:\tlearn: 0.0570661\ttotal: 883ms\tremaining: 19.9ms\n",
      "978:\tlearn: 0.0570172\ttotal: 883ms\tremaining: 18.9ms\n",
      "979:\tlearn: 0.0569738\ttotal: 884ms\tremaining: 18ms\n",
      "980:\tlearn: 0.0568541\ttotal: 885ms\tremaining: 17.1ms\n",
      "981:\tlearn: 0.0567761\ttotal: 886ms\tremaining: 16.2ms\n",
      "982:\tlearn: 0.0567251\ttotal: 887ms\tremaining: 15.3ms\n",
      "983:\tlearn: 0.0566829\ttotal: 888ms\tremaining: 14.4ms\n",
      "984:\tlearn: 0.0566709\ttotal: 889ms\tremaining: 13.5ms\n",
      "985:\tlearn: 0.0566627\ttotal: 890ms\tremaining: 12.6ms\n",
      "986:\tlearn: 0.0565534\ttotal: 890ms\tremaining: 11.7ms\n",
      "987:\tlearn: 0.0564857\ttotal: 891ms\tremaining: 10.8ms\n",
      "988:\tlearn: 0.0564109\ttotal: 892ms\tremaining: 9.93ms\n",
      "989:\tlearn: 0.0562982\ttotal: 893ms\tremaining: 9.02ms\n",
      "990:\tlearn: 0.0562495\ttotal: 894ms\tremaining: 8.12ms\n",
      "991:\tlearn: 0.0561985\ttotal: 895ms\tremaining: 7.22ms\n",
      "992:\tlearn: 0.0560488\ttotal: 896ms\tremaining: 6.31ms\n",
      "993:\tlearn: 0.0559820\ttotal: 897ms\tremaining: 5.41ms\n",
      "994:\tlearn: 0.0559583\ttotal: 898ms\tremaining: 4.51ms\n",
      "995:\tlearn: 0.0559254\ttotal: 899ms\tremaining: 3.61ms\n",
      "996:\tlearn: 0.0558117\ttotal: 899ms\tremaining: 2.71ms\n",
      "997:\tlearn: 0.0557579\ttotal: 900ms\tremaining: 1.8ms\n",
      "998:\tlearn: 0.0557025\ttotal: 901ms\tremaining: 901us\n",
      "999:\tlearn: 0.0556679\ttotal: 902ms\tremaining: 0us\n"
     ]
    },
    {
     "data": {
      "text/plain": [
       "<catboost.core.CatBoostRegressor at 0x7fc5601f7f40>"
      ]
     },
     "execution_count": 9,
     "metadata": {},
     "output_type": "execute_result"
    }
   ],
   "source": [
    "#Train the Model \n",
    "prior_model = ctb.CatBoostRegressor()\n",
    "prior_model.fit(X_train,Y_train)"
   ]
  },
  {
   "cell_type": "code",
   "execution_count": 10,
   "id": "af65dcda",
   "metadata": {
    "execution": {
     "iopub.execute_input": "2022-03-11T10:02:51.524500Z",
     "iopub.status.busy": "2022-03-11T10:02:51.524100Z",
     "iopub.status.idle": "2022-03-11T10:02:51.531664Z",
     "shell.execute_reply": "2022-03-11T10:02:51.531956Z"
    },
    "id": "af65dcda",
    "papermill": {
     "duration": 0.020721,
     "end_time": "2022-03-11T10:02:51.532068",
     "exception": false,
     "start_time": "2022-03-11T10:02:51.511347",
     "status": "completed"
    },
    "tags": []
   },
   "outputs": [
    {
     "data": {
      "application/scrapbook.scrap.json+json": {
       "data": 0.2430383729812698,
       "encoder": "json",
       "name": "Prior Model MSE",
       "version": 1
      }
     },
     "metadata": {
      "scrapbook": {
       "data": true,
       "display": false,
       "name": "Prior Model MSE"
      }
     },
     "output_type": "display_data"
    },
    {
     "data": {
      "application/scrapbook.scrap.json+json": {
       "data": 0.2572945604224962,
       "encoder": "json",
       "name": "ABC Pre-generator MSE",
       "version": 1
      }
     },
     "metadata": {
      "scrapbook": {
       "data": true,
       "display": false,
       "name": "ABC Pre-generator MSE"
      }
     },
     "output_type": "display_data"
    },
    {
     "data": {
      "application/scrapbook.scrap.json+json": {
       "data": 0.281149496978448,
       "encoder": "json",
       "name": "Prior Model MAE",
       "version": 1
      }
     },
     "metadata": {
      "scrapbook": {
       "data": true,
       "display": false,
       "name": "Prior Model MAE"
      }
     },
     "output_type": "display_data"
    },
    {
     "data": {
      "application/scrapbook.scrap.json+json": {
       "data": 0.30086801796169693,
       "encoder": "json",
       "name": "ABC Pre-generator MAE",
       "version": 1
      }
     },
     "metadata": {
      "scrapbook": {
       "data": true,
       "display": false,
       "name": "ABC Pre-generator MAE"
      }
     },
     "output_type": "display_data"
    }
   ],
   "source": [
    "y_pred = prior_model.predict(X_test)\n",
    "y_abc = y_pred + np.random.normal(0,variance, y_pred.shape)\n",
    "mse = mean_squared_error(y_pred,Y_test)\n",
    "sb.glue(\"Prior Model MSE\",mse)\n",
    "mse = mean_squared_error(y_abc,Y_test)\n",
    "sb.glue(\"ABC Pre-generator MSE\",mse)\n",
    "\n",
    "mae = mean_absolute_error(y_pred,Y_test)\n",
    "sb.glue(\"Prior Model MAE\",mae)\n",
    "mae = mean_absolute_error(y_abc,Y_test)\n",
    "sb.glue(\"ABC Pre-generator MAE\",mae)"
   ]
  },
  {
   "cell_type": "markdown",
   "id": "25609da2",
   "metadata": {
    "papermill": {
     "duration": 0.009802,
     "end_time": "2022-03-11T10:02:51.551978",
     "exception": false,
     "start_time": "2022-03-11T10:02:51.542176",
     "status": "completed"
    },
    "tags": []
   },
   "source": [
    "# ABC GAN Model"
   ]
  },
  {
   "cell_type": "code",
   "execution_count": 11,
   "id": "dfc3464d",
   "metadata": {
    "execution": {
     "iopub.execute_input": "2022-03-11T10:02:51.574444Z",
     "iopub.status.busy": "2022-03-11T10:02:51.574081Z",
     "iopub.status.idle": "2022-03-11T10:02:51.576640Z",
     "shell.execute_reply": "2022-03-11T10:02:51.576930Z"
    },
    "papermill": {
     "duration": 0.015275,
     "end_time": "2022-03-11T10:02:51.577035",
     "exception": false,
     "start_time": "2022-03-11T10:02:51.561760",
     "status": "completed"
    },
    "tags": []
   },
   "outputs": [],
   "source": [
    "gen = network.Generator(n_features+1).to(device)\n",
    "disc = network.Discriminator(n_features+1).to(device)\n",
    "\n",
    "criterion = torch.nn.BCELoss()\n",
    "gen_opt = torch.optim.Adam(gen.parameters(), lr=0.001, betas=(0.5, 0.999))\n",
    "disc_opt = torch.optim.Adam(disc.parameters(), lr=0.001, betas=(0.5, 0.999))"
   ]
  },
  {
   "cell_type": "code",
   "execution_count": 12,
   "id": "b75fdd85",
   "metadata": {
    "execution": {
     "iopub.execute_input": "2022-03-11T10:02:51.599133Z",
     "iopub.status.busy": "2022-03-11T10:02:51.598772Z",
     "iopub.status.idle": "2022-03-11T10:03:27.482493Z",
     "shell.execute_reply": "2022-03-11T10:03:27.482950Z"
    },
    "papermill": {
     "duration": 35.896103,
     "end_time": "2022-03-11T10:03:27.483078",
     "exception": false,
     "start_time": "2022-03-11T10:02:51.586975",
     "status": "completed"
    },
    "tags": []
   },
   "outputs": [
    {
     "data": {
      "image/png": "[encoded data removed]",
      "text/plain": [
       "<Figure size 432x288 with 1 Axes>"
      ]
     },
     "metadata": {
      "needs_background": "light"
     },
     "output_type": "display_data"
    },
    {
     "data": {
      "image/png": "[encoded data removed]",
      "text/plain": [
       "<Figure size 432x288 with 1 Axes>"
      ]
     },
     "metadata": {
      "needs_background": "light"
     },
     "output_type": "display_data"
    }
   ],
   "source": [
    "#Training the ABC_GAN \n",
    "ABC_train_test2.training_GAN(disc,gen,disc_opt,gen_opt,train_data,batch_size,n_epochs,criterion,prior_model,variance,0,device)"
   ]
  },
  {
   "cell_type": "code",
   "execution_count": 13,
   "id": "1fa7c368",
   "metadata": {
    "execution": {
     "iopub.execute_input": "2022-03-11T10:03:27.507294Z",
     "iopub.status.busy": "2022-03-11T10:03:27.506893Z",
     "iopub.status.idle": "2022-03-11T10:03:27.802939Z",
     "shell.execute_reply": "2022-03-11T10:03:27.803237Z"
    },
    "papermill": {
     "duration": 0.309362,
     "end_time": "2022-03-11T10:03:27.803355",
     "exception": false,
     "start_time": "2022-03-11T10:03:27.493993",
     "status": "completed"
    },
    "tags": []
   },
   "outputs": [
    {
     "data": {
      "application/scrapbook.scrap.json+json": {
       "data": 0.2541546049816475,
       "encoder": "json",
       "name": "ABC-GAN Model 1 MSE",
       "version": 1
      }
     },
     "metadata": {
      "scrapbook": {
       "data": true,
       "display": false,
       "name": "ABC-GAN Model 1 MSE"
      }
     },
     "output_type": "display_data"
    },
    {
     "data": {
      "application/scrapbook.scrap.json+json": {
       "data": 0.28814364179238383,
       "encoder": "json",
       "name": "ABC-GAN Model 1 MAE",
       "version": 1
      }
     },
     "metadata": {
      "scrapbook": {
       "data": true,
       "display": false,
       "name": "ABC-GAN Model 1 MAE"
      }
     },
     "output_type": "display_data"
    },
    {
     "data": {
      "application/scrapbook.scrap.json+json": {
       "data": 29.390651462823154,
       "encoder": "json",
       "name": "ABC-GAN Model 1 Manhattan Distance",
       "version": 1
      }
     },
     "metadata": {
      "scrapbook": {
       "data": true,
       "display": false,
       "name": "ABC-GAN Model 1 Manhattan Distance"
      }
     },
     "output_type": "display_data"
    },
    {
     "data": {
      "application/scrapbook.scrap.json+json": {
       "data": 5.090829551663693,
       "encoder": "json",
       "name": "ABC-GAN Model 1 Euclidean distance",
       "version": 1
      }
     },
     "metadata": {
      "scrapbook": {
       "data": true,
       "display": false,
       "name": "ABC-GAN Model 1 Euclidean distance"
      }
     },
     "output_type": "display_data"
    },
    {
     "data": {
      "application/scrapbook.scrap.json+json": {
       "data": [
        [
         0.2328863034047728,
         0.2503510219529745,
         0.2560721320593517,
         0.2506943732586497,
         0.24863150079611543,
         0.23845910478757265,
         0.24350450253026926,
         0.25233082635264964,
         0.2550428187650182,
         0.2547743911017624,
         0.2722998304815452,
         0.25990176693509676,
         0.2534575337972843,
         0.24802498893474448,
         0.2757819348972895,
         0.2433993589254518,
         0.27006992579684014,
         0.2429681277233397,
         0.2398781993569263,
         0.24584096911550946,
         0.24172921812387047,
         0.253929266885003,
         0.26602436501674437,
         0.2516276760403063,
         0.24316617391245318,
         0.25551291709199586,
         0.25098033164173505,
         0.27014885383784365,
         0.2526016448341232,
         0.25647995285980335,
         0.26665562534341164,
         0.2645404544134052,
         0.25449141715637885,
         0.23884245918709987,
         0.2520850867830532,
         0.24778123968861712,
         0.24815959670434276,
         0.2523279158268973,
         0.2542593142945416,
         0.2563449355506439,
         0.2512620967984405,
         0.252858396437713,
         0.256565113704469,
         0.26203757492835944,
         0.24851445443448342,
         0.2528268807046167,
         0.25542875262334447,
         0.26016986028255834,
         0.2429414416489826,
         0.25085338377067085,
         0.25358413970044613,
         0.24942568342595664,
         0.2590675651103098,
         0.2573619055312311,
         0.26438017036664296,
         0.2562140592666249,
         0.261337195483809,
         0.25476580903615853,
         0.25612704140323195,
         0.25256951793512933,
         0.2613302997061501,
         0.2549976738864418,
         0.25465216795108647,
         0.2511800624312941,
         0.2503825495742013,
         0.2602635028348037,
         0.2610254366911423,
         0.25278437446487007,
         0.248781352698942,
         0.25240085354352315,
         0.2363401861350049,
         0.24479567494030224,
         0.25563556943423277,
         0.26996424267837194,
         0.25010387380371923,
         0.2574407033621583,
         0.25722980063664963,
         0.26433241658710593,
         0.25500715664254114,
         0.25398041666416893,
         0.24243127906381023,
         0.2593129072706851,
         0.2416379451258942,
         0.24566847085714455,
         0.25121946855543964,
         0.24936216292957297,
         0.26781024213515386,
         0.2569576412598315,
         0.25987458581895184,
         0.25296636402705347,
         0.25931495377806313,
         0.2754117960695256,
         0.27270799295499765,
         0.2464178625539268,
         0.25258797838496333,
         0.25983795967042833,
         0.25324522951757206,
         0.25220452935500776,
         0.24375275793048337,
         0.26976095748092327
        ],
        [
         0.2787166786854904,
         0.2959380811354255,
         0.28968968268885625,
         0.27984568879336996,
         0.2836005759754163,
         0.282953208978927,
         0.2854655238653661,
         0.28792912466451526,
         0.2872105390289981,
         0.29023370764893935,
         0.2932070544555637,
         0.28620028617225735,
         0.28913440727902684,
         0.29350015149433534,
         0.29383287291206855,
         0.28444576399473875,
         0.29648514403322457,
         0.2900159069446518,
         0.2775920034641875,
         0.27924595120381196,
         0.28236085969918207,
         0.2924146083658378,
         0.2930419457912007,
         0.2858216269946128,
         0.28921566835111556,
         0.2855987764036685,
         0.28898201361481174,
         0.3051695674383903,
         0.28153708304150726,
         0.2905510105649192,
         0.29493292272273525,
         0.289652755931385,
         0.2972298987374148,
         0.2857285146418886,
         0.27887827871075155,
         0.28312378085455764,
         0.2882380954209058,
         0.2890162163815808,
         0.2821546740117757,
         0.28373973171098854,
         0.28659029923123763,
         0.28450906781625807,
         0.299092004888271,
         0.29641463239585947,
         0.29120398799468783,
         0.2904902579463726,
         0.289638005461836,
         0.293662448769764,
         0.28256378349318517,
         0.2806672178227089,
         0.2895048407965577,
         0.28598234054687266,
         0.29945847506214884,
         0.2819494675644034,
         0.2882743113418566,
         0.28980159486516144,
         0.2878556273895882,
         0.28262302634653214,
         0.2840533242378311,
         0.2912246355987793,
         0.2939470442943275,
         0.2965122796321178,
         0.2826796284438494,
         0.2734346121421778,
         0.28336697733760174,
         0.29525045434232144,
         0.2935187614742009,
         0.2851759150496447,
         0.2864807218623658,
         0.28994414919768186,
         0.2804248065359014,
         0.2830024675064373,
         0.28900312907153775,
         0.29657503689511444,
         0.29808898924795146,
         0.2887478970155558,
         0.28790149506291046,
         0.2871714968179517,
         0.2849770760729763,
         0.2876390145415915,
         0.28145671034158737,
         0.28600190679414894,
         0.28196713194141493,
         0.2830148373693958,
         0.29104462723412056,
         0.2811602358888908,
         0.29845947280124413,
         0.2961049097882328,
         0.28626828922835346,
         0.28014882117984635,
         0.2899727237447366,
         0.29068055074187177,
         0.2882450051404828,
         0.28562436133221375,
         0.28414358663390954,
         0.2940187437879835,
         0.2886619089883478,
         0.28661278143123375,
         0.2893226476587063,
         0.2994232422891347
        ],
        [
         28.42910122592002,
         30.1856842758134,
         29.548347634263337,
         28.544260256923735,
         28.927258749492466,
         28.861227315850556,
         29.117483434267342,
         29.368770715780556,
         29.295474980957806,
         29.603838180191815,
         29.9071195544675,
         29.192429189570248,
         29.49170954246074,
         29.9370154524222,
         29.970953037030995,
         29.013467927463353,
         30.241484691388905,
         29.581622508354485,
         28.314384353347123,
         28.483087022788823,
         28.80080768931657,
         29.82629005331546,
         29.89027847070247,
         29.1538059534505,
         29.499998171813786,
         29.131075193174183,
         29.476165388710797,
         31.127295878715813,
         28.71678247023374,
         29.636203077621758,
         30.083158117718995,
         29.54458110500127,
         30.31744967121631,
         29.144308493472636,
         28.44558442849666,
         28.87862564716488,
         29.40028573293239,
         29.479654070921242,
         28.77977674920112,
         28.94145263452083,
         29.23221052158624,
         29.019924917258322,
         30.507384498603642,
         30.234292504377663,
         29.702806775458157,
         29.630006310530007,
         29.54307655710727,
         29.953569774515927,
         28.821505916304886,
         28.62805621791631,
         29.529493761248887,
         29.170198735781014,
         30.54476445633918,
         28.75884569156915,
         29.403979756869376,
         29.559762676246464,
         29.361273993737996,
         28.82754868734628,
         28.97343907225877,
         29.70491283107549,
         29.982598518021405,
         30.244252522476017,
         28.833322101272643,
         27.890330438502133,
         28.903431688435376,
         30.115546342916787,
         29.938913670368493,
         29.087943335063756,
         29.221033629961312,
         29.57430321816355,
         28.603330266661942,
         28.866251685656607,
         29.478319165296853,
         30.25065376330167,
         30.405076903291047,
         29.452285495586693,
         29.365952496416867,
         29.291492675431073,
         29.06766175944358,
         29.339179483242333,
         28.708584454841912,
         29.17219449300319,
         28.760647458024323,
         28.867513411678374,
         29.6865519778803,
         28.67834406066686,
         30.442866225726902,
         30.202700798399746,
         29.19936550129205,
         28.575179760344326,
         29.57721782196313,
         29.649416175670922,
         29.400990524329245,
         29.133684855885804,
         28.982645836658776,
         29.989911866374314,
         29.443514716811478,
         29.234503705985844,
         29.510910061188042,
         30.541170713491738
        ],
        [
         4.873848884330209,
         5.053296373576697,
         5.110710074936151,
         5.0567604325677,
         5.035912338514619,
         4.931817990187027,
         4.983719420080495,
         5.07323804763489,
         5.100428169676724,
         5.097743411783273,
         5.270159647403255,
         5.148784344617656,
         5.084551941648644,
         5.029766283968265,
         5.303749368090797,
         4.982643335659907,
         5.248536217963795,
         4.978227498596327,
         4.946471099117682,
         5.00757215123077,
         4.9655191318365475,
         5.089281405293905,
         5.209077195790817,
         5.066164521224241,
         4.980255991319143,
         5.1051265942563635,
         5.059643646291405,
         5.24930310531408,
         5.075959788363238,
         5.114778117543316,
         5.215253952112782,
         5.194528501237367,
         5.094911633183705,
         4.9357806714930295,
         5.070767087125125,
         5.027294147773626,
         5.031130972638554,
         5.073208788759193,
         5.092587756538245,
         5.113431668279696,
         5.062482975126033,
         5.078538809209467,
         5.115627194964058,
         5.169896772924258,
         5.03472683989085,
         5.078222310205698,
         5.10428572550373,
         5.151439191994888,
         4.977954102660672,
         5.058363880209531,
         5.08582168871909,
         5.043948821057523,
         5.14051472532193,
         5.123564615010293,
         5.192954590346192,
         5.112126176572301,
         5.162983046587363,
         5.097657552414459,
         5.111257988316542,
         5.075636987549759,
         5.1629149295748915,
         5.09997673881137,
         5.096520492552818,
         5.061656484589999,
         5.053614553620856,
         5.152366183526747,
         5.15990257102753,
         5.077795407006543,
         5.037429699290311,
         5.073941964729135,
         4.9098573284536995,
         4.996914932627013,
         5.1063517389905435,
         5.247509195150966,
         5.050801434225995,
         5.124348909172769,
         5.12224947312587,
         5.192485579362239,
         5.100071565923287,
         5.089793954547201,
         4.972724651989957,
         5.142948234389481,
         4.964581593935304,
         5.005815021295608,
         5.06205351538828,
         5.043306516444984,
         5.226532760615368,
         5.1195389839811565,
         5.148515101806839,
         5.079622931946765,
         5.142968528521484,
         5.300188977677268,
         5.274108008128935,
         5.0134441236041045,
         5.0758224747587715,
         5.148152278865077,
         5.082422002430765,
         5.071968256427754,
         4.986259250070066,
         5.245533115237589
        ]
       ],
       "encoder": "json",
       "name": "ABC_GAN_1 Metrics",
       "version": 1
      }
     },
     "metadata": {
      "scrapbook": {
       "data": true,
       "display": false,
       "name": "ABC_GAN_1 Metrics"
      }
     },
     "output_type": "display_data"
    },
    {
     "name": "stdout",
     "output_type": "stream",
     "text": [
      "MSE\n",
      "0.2541546049816475\n"
     ]
    }
   ],
   "source": [
    "ABC_GAN1_metrics=ABC_train_test2.test_generator(gen,test_data,prior_model,variance,0,\"1\",device)\n",
    "sb.glue(\"ABC_GAN_1 Metrics\",ABC_GAN1_metrics)\n",
    "\n",
    "print(\"MSE\")\n",
    "print(mean(ABC_GAN1_metrics[0]))"
   ]
  },
  {
   "cell_type": "code",
   "execution_count": 14,
   "id": "eb22ce5c",
   "metadata": {
    "execution": {
     "iopub.execute_input": "2022-03-11T10:03:27.830409Z",
     "iopub.status.busy": "2022-03-11T10:03:27.830048Z",
     "iopub.status.idle": "2022-03-11T10:03:28.155159Z",
     "shell.execute_reply": "2022-03-11T10:03:28.155451Z"
    },
    "papermill": {
     "duration": 0.339614,
     "end_time": "2022-03-11T10:03:28.155574",
     "exception": false,
     "start_time": "2022-03-11T10:03:27.815960",
     "status": "completed"
    },
    "tags": []
   },
   "outputs": [
    {
     "data": {
      "image/png": "[encoded data removed]",
      "text/plain": [
       "<Figure size 432x288 with 1 Axes>"
      ]
     },
     "metadata": {
      "needs_background": "light"
     },
     "output_type": "display_data"
    },
    {
     "data": {
      "image/png": "[encoded data removed]",
      "text/plain": [
       "<Figure size 432x288 with 1 Axes>"
      ]
     },
     "metadata": {
      "needs_background": "light"
     },
     "output_type": "display_data"
    },
    {
     "data": {
      "image/png": "[encoded data removed]",
      "text/plain": [
       "<Figure size 432x288 with 1 Axes>"
      ]
     },
     "metadata": {
      "needs_background": "light"
     },
     "output_type": "display_data"
    },
    {
     "data": {
      "image/png": "[encoded data removed]",
      "text/plain": [
       "<Figure size 432x288 with 1 Axes>"
      ]
     },
     "metadata": {
      "needs_background": "light"
     },
     "output_type": "display_data"
    }
   ],
   "source": [
    "sanityChecks.discProbVsError(train_data,disc,device)\n",
    "sanityChecks.discProbVsError(test_data,disc,device)"
   ]
  },
  {
   "cell_type": "markdown",
   "id": "130f3a4d",
   "metadata": {
    "id": "130f3a4d",
    "papermill": {
     "duration": 0.014414,
     "end_time": "2022-03-11T10:03:28.185268",
     "exception": false,
     "start_time": "2022-03-11T10:03:28.170854",
     "status": "completed"
    },
    "tags": []
   },
   "source": [
    "# ABC - GAN Model with skip connection"
   ]
  },
  {
   "cell_type": "code",
   "execution_count": 15,
   "id": "4e43dad1",
   "metadata": {
    "execution": {
     "iopub.execute_input": "2022-03-11T10:03:28.217685Z",
     "iopub.status.busy": "2022-03-11T10:03:28.217302Z",
     "iopub.status.idle": "2022-03-11T10:03:28.219618Z",
     "shell.execute_reply": "2022-03-11T10:03:28.219863Z"
    },
    "id": "4e43dad1",
    "papermill": {
     "duration": 0.019972,
     "end_time": "2022-03-11T10:03:28.219972",
     "exception": false,
     "start_time": "2022-03-11T10:03:28.200000",
     "status": "completed"
    },
    "tags": []
   },
   "outputs": [],
   "source": [
    "#Generator\n",
    "gen3 = network.GeneratorWithSkipConnection(n_features+1).to(device)\n",
    "constraints=network.weightConstraint()\n",
    "#Discriminator \n",
    "disc3 = network.Discriminator(n_features+1).to(device)\n",
    "\n",
    "criterion = torch.nn.BCELoss()\n",
    "gen_opt = torch.optim.Adam(gen3.parameters(), lr=0.001, betas=(0.5, 0.999))\n",
    "disc_opt = torch.optim.Adam(disc3.parameters(), lr=0.001, betas=(0.5, 0.999))\n"
   ]
  },
  {
   "cell_type": "code",
   "execution_count": 16,
   "id": "26acbc37",
   "metadata": {
    "execution": {
     "iopub.execute_input": "2022-03-11T10:03:28.251884Z",
     "iopub.status.busy": "2022-03-11T10:03:28.251516Z",
     "iopub.status.idle": "2022-03-11T10:05:54.259920Z",
     "shell.execute_reply": "2022-03-11T10:05:54.260266Z"
    },
    "id": "26acbc37",
    "papermill": {
     "duration": 146.025865,
     "end_time": "2022-03-11T10:05:54.260394",
     "exception": false,
     "start_time": "2022-03-11T10:03:28.234529",
     "status": "completed"
    },
    "tags": []
   },
   "outputs": [
    {
     "data": {
      "image/png": "[encoded data removed]",
      "text/plain": [
       "<Figure size 432x288 with 1 Axes>"
      ]
     },
     "metadata": {
      "needs_background": "light"
     },
     "output_type": "display_data"
    },
    {
     "data": {
      "image/png": "[encoded data removed]",
      "text/plain": [
       "<Figure size 432x288 with 1 Axes>"
      ]
     },
     "metadata": {
      "needs_background": "light"
     },
     "output_type": "display_data"
    }
   ],
   "source": [
    "ABC_train_test2.training_GAN_skip_connection(disc3,gen3,disc_opt,gen_opt,train_data,batch_size,n_epochs,criterion,prior_model,variance,0,device)"
   ]
  },
  {
   "cell_type": "code",
   "execution_count": 17,
   "id": "c5e0717b",
   "metadata": {
    "execution": {
     "iopub.execute_input": "2022-03-11T10:05:54.294904Z",
     "iopub.status.busy": "2022-03-11T10:05:54.294529Z",
     "iopub.status.idle": "2022-03-11T10:05:55.108811Z",
     "shell.execute_reply": "2022-03-11T10:05:55.109148Z"
    },
    "id": "c5e0717b",
    "papermill": {
     "duration": 0.832916,
     "end_time": "2022-03-11T10:05:55.109271",
     "exception": false,
     "start_time": "2022-03-11T10:05:54.276355",
     "status": "completed"
    },
    "tags": []
   },
   "outputs": [
    {
     "data": {
      "application/scrapbook.scrap.json+json": {
       "data": 0.26045254921825445,
       "encoder": "json",
       "name": "ABC-GAN Model 3 MSE",
       "version": 1
      }
     },
     "metadata": {
      "scrapbook": {
       "data": true,
       "display": false,
       "name": "ABC-GAN Model 3 MSE"
      }
     },
     "output_type": "display_data"
    },
    {
     "data": {
      "application/scrapbook.scrap.json+json": {
       "data": 0.2875088048494517,
       "encoder": "json",
       "name": "ABC-GAN Model 3 MAE",
       "version": 1
      }
     },
     "metadata": {
      "scrapbook": {
       "data": true,
       "display": false,
       "name": "ABC-GAN Model 3 MAE"
      }
     },
     "output_type": "display_data"
    },
    {
     "data": {
      "application/scrapbook.scrap.json+json": {
       "data": 29.32589809464407,
       "encoder": "json",
       "name": "ABC-GAN Model 3 Manhattan Distance",
       "version": 1
      }
     },
     "metadata": {
      "scrapbook": {
       "data": true,
       "display": false,
       "name": "ABC-GAN Model 3 Manhattan Distance"
      }
     },
     "output_type": "display_data"
    },
    {
     "data": {
      "application/scrapbook.scrap.json+json": {
       "data": 5.153063319179937,
       "encoder": "json",
       "name": "ABC-GAN Model 3 Euclidean distance",
       "version": 1
      }
     },
     "metadata": {
      "scrapbook": {
       "data": true,
       "display": false,
       "name": "ABC-GAN Model 3 Euclidean distance"
      }
     },
     "output_type": "display_data"
    },
    {
     "data": {
      "application/scrapbook.scrap.json+json": {
       "data": [
        [
         0.25559837458171025,
         0.26433314410301767,
         0.2487506736090407,
         0.2610157479060976,
         0.2783965274252918,
         0.2518721660229328,
         0.2746133515992927,
         0.24191728702362247,
         0.25434535853435186,
         0.2583171283151186,
         0.25585013719425254,
         0.2681203950738775,
         0.27169408241673765,
         0.2696272053824776,
         0.26779805354025077,
         0.26105001371562175,
         0.2523898444867696,
         0.2470136632714833,
         0.26254016969029764,
         0.2484469166677979,
         0.26269804486167897,
         0.25468829216180877,
         0.2790961308896652,
         0.28401389134201277,
         0.2566185660290577,
         0.27189384430197605,
         0.26875224382700297,
         0.2604732948352195,
         0.2561178926054738,
         0.25751974320377125,
         0.2607908554055687,
         0.2504877386236208,
         0.24783514498791298,
         0.27473495895281,
         0.26863685055052305,
         0.25484993028505387,
         0.2588596484602371,
         0.24280912872348182,
         0.2606625752735267,
         0.27267862816678357,
         0.263436678636234,
         0.28608152040449253,
         0.27717696428995303,
         0.28177670635681246,
         0.2724642145221188,
         0.2670027390536105,
         0.263328361046364,
         0.26426078074996584,
         0.259978711269205,
         0.27059323733357915,
         0.2407718280109869,
         0.2752132440775778,
         0.263347578274865,
         0.25585673074377313,
         0.2752183742580881,
         0.25130499841988396,
         0.2426527696695597,
         0.2512159764690477,
         0.22994147858892147,
         0.26842763022591126,
         0.25546823327962004,
         0.253930819798628,
         0.2470953473484097,
         0.2676958953551159,
         0.2601818585195931,
         0.2589779258971937,
         0.2639542865253569,
         0.24535248071551913,
         0.24850451365729181,
         0.26486005725307676,
         0.2789365893528421,
         0.26095301161761053,
         0.25886007529413163,
         0.2385643063033652,
         0.25794658175698837,
         0.24275038839184382,
         0.26896790779432045,
         0.2614899216216747,
         0.25726571162806655,
         0.27117352430418085,
         0.26077695598589773,
         0.2578135881456008,
         0.2663739823509687,
         0.25295041989066847,
         0.2674325476231948,
         0.2520458904948584,
         0.25953663118234827,
         0.2647867560530788,
         0.27243296120036853,
         0.2839138313858431,
         0.26422983598832234,
         0.2559944608723637,
         0.2482325024718551,
         0.2568435947420474,
         0.2343550846094681,
         0.26477077896149454,
         0.2627732625805949,
         0.26217386121157227,
         0.24823893211790854,
         0.24869144109398056
        ],
        [
         0.2929013724822332,
         0.2917257488212165,
         0.2790965631001574,
         0.28200458167303427,
         0.29733524637698544,
         0.2846401942364287,
         0.29115177043622326,
         0.2709549522648255,
         0.28778964816136104,
         0.27905768860935,
         0.2828311916239852,
         0.29250697735879644,
         0.2969843578871851,
         0.28365274030240434,
         0.28563538663929294,
         0.30395017742343683,
         0.28355846313905775,
         0.28585395595862295,
         0.30617336346311314,
         0.2889923791163692,
         0.29438262342420574,
         0.2767412683597821,
         0.28862015064805746,
         0.28486893157127735,
         0.28455994254452927,
         0.28432102840594653,
         0.28311179206688325,
         0.29038882633561597,
         0.2875957431582113,
         0.28457107675243537,
         0.3032288835749176,
         0.28579084868268934,
         0.2800924302370963,
         0.29041364253042085,
         0.2958761688011388,
         0.27550847750778,
         0.29031391910222526,
         0.28171822972431343,
         0.29483656412191395,
         0.2880866558692765,
         0.28657384565574867,
         0.2969920471602795,
         0.29355616687669184,
         0.2983427000341608,
         0.2899098120648049,
         0.2934467488735476,
         0.2970663098454037,
         0.28764164342782367,
         0.289043774556679,
         0.28440537476254735,
         0.2725062615457265,
         0.298852654037011,
         0.3004552390901189,
         0.2890315672745654,
         0.2864358575521585,
         0.29683095013138416,
         0.2755224772035053,
         0.28374853868073985,
         0.27326316459962696,
         0.2890961993138726,
         0.28128839973542913,
         0.286647174023457,
         0.2835827568892901,
         0.28825760187179433,
         0.2843397003963736,
         0.28794616532932016,
         0.2794618032160489,
         0.2792453336091164,
         0.2838551404511593,
         0.28811373359377623,
         0.2979667766257098,
         0.2931702279430978,
         0.2840991328360842,
         0.27859219272310537,
         0.2869176560939819,
         0.27663181587944136,
         0.28996890342301307,
         0.2874337472112886,
         0.29510583039190547,
         0.3002051392515354,
         0.2931663594573882,
         0.2864048064175044,
         0.29751236925778146,
         0.27840079983477206,
         0.2903983721409139,
         0.2859050728901125,
         0.28109307646039217,
         0.28289417326267735,
         0.2944046830959326,
         0.29809998998454973,
         0.2801168072037399,
         0.29285704706996385,
         0.27384863019573924,
         0.28899774484920737,
         0.27381276920912606,
         0.2842483720011717,
         0.293564765476713,
         0.2809682457306075,
         0.28937486687894254,
         0.27743700685381306
        ],
        [
         29.875939993187785,
         29.75602637976408,
         28.467849436216056,
         28.764467330649495,
         30.328195130452514,
         29.03329981211573,
         29.69748058449477,
         27.6374051310122,
         29.354544112458825,
         28.463884238153696,
         28.84878154564649,
         29.835711690597236,
         30.29240450449288,
         28.932579510845244,
         29.134809437207878,
         31.00291809719056,
         28.92296324018389,
         29.15710350777954,
         31.22968307323754,
         29.47722266986966,
         30.027027589268982,
         28.22760937269777,
         29.43925536610186,
         29.056631020270288,
         29.025114139541984,
         29.00074489740655,
         28.87740279082209,
         29.61966028623283,
         29.334765802137554,
         29.026249828748405,
         30.929346124641597,
         29.15066656563431,
         28.569427884183824,
         29.622191538102925,
         30.179369217716157,
         28.10186470579356,
         29.612019748426974,
         28.735259431879967,
         30.073329540435225,
         29.384838898666203,
         29.230532256886363,
         30.29318881034851,
         29.942729021422565,
         30.430955403484404,
         29.570800830610096,
         29.931568385101855,
         30.30076360423118,
         29.339447629638016,
         29.48246500478126,
         29.00934822577983,
         27.7956386776641,
         30.482970711775124,
         30.64643438719213,
         29.481219862005673,
         29.216457470320165,
         30.276756913401186,
         28.10329267475754,
         28.942350945435464,
         27.87284278916195,
         29.487812330015004,
         28.69141677301377,
         29.238011750392616,
         28.92544120270759,
         29.402275390923023,
         29.002649440430105,
         29.370508863590658,
         28.505103928036988,
         28.483024028129876,
         28.953224326018244,
         29.387600826565176,
         30.3926112158224,
         29.90336325019598,
         28.978111549280584,
         28.416403657756746,
         29.265600921586156,
         28.21644521970302,
         29.57682814914733,
         29.318242215551436,
         30.100794699974358,
         30.620924203656614,
         29.9029686646536,
         29.213290254585445,
         30.346261664293706,
         28.39688158314675,
         29.62063395837322,
         29.162317434791476,
         28.67149379896,
         28.85520567279309,
         30.029277675785124,
         30.406198978424072,
         28.571914334781468,
         29.871418801136315,
         27.9325602799654,
         29.47776997461915,
         27.928902459330857,
         28.993333944119513,
         29.943606078624725,
         28.65876106452197,
         29.51623642165214,
         28.29857469908893
        ],
        [
         5.105980239614569,
         5.192492724935472,
         5.037119088141767,
         5.159806807083183,
         5.328831560237174,
         5.06862515228135,
         5.292500530290748,
         4.967450379863848,
         5.093449378417723,
         5.133064103256659,
         5.108494298109156,
         5.2295583271950905,
         5.264294483262429,
         5.244232541469983,
         5.226413824134631,
         5.160145482347702,
         5.07383130756734,
         5.01950133516182,
         5.17485239484281,
         5.0340426597432995,
         5.176408076638785,
         5.096881968469006,
         5.335522968814383,
         5.3823244901144065,
         5.1161600575982655,
         5.266229402409428,
         5.235716652985941,
         5.154442362971226,
         5.111166701033955,
         5.1251354915538245,
         5.157583470130949,
         5.054675987598941,
         5.027840966932737,
         5.293672242705117,
         5.234592510993893,
         5.098499081992219,
         5.138451531633259,
         4.9765983492537496,
         5.15631483502508,
         5.27382404645926,
         5.1836802776498345,
         5.401880698539929,
         5.31714682490292,
         5.361084223214076,
         5.271750172500221,
         5.2186472752494275,
         5.1826144779183725,
         5.191781932679426,
         5.1495464411401235,
         5.253618772619981,
         4.955676185660304,
         5.298278106697773,
         5.182803583393473,
         5.108560123544095,
         5.29832748839905,
         5.06291515224462,
         4.974995729274055,
         5.062018332626114,
         4.842936177162567,
         5.232553705700778,
         5.104680185332009,
         5.089296967112457,
         5.02033120715534,
         5.225416856694002,
         5.1515579749235565,
         5.139625321121547,
         5.188770299944526,
         5.002594630087766,
         5.034626142331103,
         5.197665422073052,
         5.3339977609659615,
         5.159186678634169,
         5.138455768030064,
         4.932905760598234,
         5.12938118482267,
         4.975996344046895,
         5.237816968453621,
         5.164491456611273,
         5.122607010699023,
         5.259248946287525,
         5.157446025947491,
         5.128058696119935,
         5.2124990359518355,
         5.079462848456338,
         5.222845953842203,
         5.0703728492563105,
         5.145166312239043,
         5.196946133780303,
         5.271447812739645,
         5.3813762924883815,
         5.191477946674615,
         5.109934931971355,
         5.031869955804623,
         5.1184027453580505,
         4.889194067549963,
         5.1967893409366175,
         5.177149098028826,
         5.171241035146242,
         5.031935122398406,
         5.0365193329903954
        ]
       ],
       "encoder": "json",
       "name": "ABC_GAN_3 Metrics",
       "version": 1
      }
     },
     "metadata": {
      "scrapbook": {
       "data": true,
       "display": false,
       "name": "ABC_GAN_3 Metrics"
      }
     },
     "output_type": "display_data"
    },
    {
     "name": "stdout",
     "output_type": "stream",
     "text": [
      "MSE\n",
      "0.26045254921825445\n"
     ]
    }
   ],
   "source": [
    "ABC_GAN3_metrics=ABC_train_test2.test_generator(gen3,test_data,prior_model,variance,0,\"3\",device)\n",
    "sb.glue(\"ABC_GAN_3 Metrics\",ABC_GAN3_metrics)\n",
    "\n",
    "print(\"MSE\")\n",
    "print(mean(ABC_GAN3_metrics[0]))"
   ]
  },
  {
   "cell_type": "code",
   "execution_count": 18,
   "id": "c8e46b48",
   "metadata": {
    "execution": {
     "iopub.execute_input": "2022-03-11T10:05:55.146373Z",
     "iopub.status.busy": "2022-03-11T10:05:55.146003Z",
     "iopub.status.idle": "2022-03-11T10:05:55.470100Z",
     "shell.execute_reply": "2022-03-11T10:05:55.470483Z"
    },
    "id": "c8e46b48",
    "papermill": {
     "duration": 0.343884,
     "end_time": "2022-03-11T10:05:55.470604",
     "exception": false,
     "start_time": "2022-03-11T10:05:55.126720",
     "status": "completed"
    },
    "tags": []
   },
   "outputs": [
    {
     "data": {
      "image/png": "[encoded data removed]",
      "text/plain": [
       "<Figure size 432x288 with 1 Axes>"
      ]
     },
     "metadata": {
      "needs_background": "light"
     },
     "output_type": "display_data"
    },
    {
     "data": {
      "image/png": "[encoded data removed]",
      "text/plain": [
       "<Figure size 432x288 with 1 Axes>"
      ]
     },
     "metadata": {
      "needs_background": "light"
     },
     "output_type": "display_data"
    },
    {
     "data": {
      "image/png": "[encoded data removed]",
      "text/plain": [
       "<Figure size 432x288 with 1 Axes>"
      ]
     },
     "metadata": {
      "needs_background": "light"
     },
     "output_type": "display_data"
    },
    {
     "data": {
      "image/png": "[encoded data removed]",
      "text/plain": [
       "<Figure size 432x288 with 1 Axes>"
      ]
     },
     "metadata": {
      "needs_background": "light"
     },
     "output_type": "display_data"
    }
   ],
   "source": [
    "sanityChecks.discProbVsError(train_data,disc3,device)\n",
    "sanityChecks.discProbVsError(test_data,disc3,device)"
   ]
  },
  {
   "cell_type": "markdown",
   "id": "a5bd74c3",
   "metadata": {
    "id": "a5bd74c3",
    "papermill": {
     "duration": 0.019405,
     "end_time": "2022-03-11T10:05:55.509686",
     "exception": false,
     "start_time": "2022-03-11T10:05:55.490281",
     "status": "completed"
    },
    "tags": []
   },
   "source": [
    "## Skip Connection Model Analysis - ABC-GAN "
   ]
  },
  {
   "cell_type": "markdown",
   "id": "5744a8bf",
   "metadata": {
    "id": "5744a8bf",
    "papermill": {
     "duration": 0.019078,
     "end_time": "2022-03-11T10:05:55.547964",
     "exception": false,
     "start_time": "2022-03-11T10:05:55.528886",
     "status": "completed"
    },
    "tags": []
   },
   "source": [
    "### Weight Analysis \n",
    "\n",
    "Study the weights of the skip connection layer\n",
    "\n",
    "Equation of the skip connection is \n",
    "\n",
    "$output = y_{gan} * w + y_{abc} * (1-w)$"
   ]
  },
  {
   "cell_type": "code",
   "execution_count": 19,
   "id": "52c31dea",
   "metadata": {
    "execution": {
     "iopub.execute_input": "2022-03-11T10:05:55.588889Z",
     "iopub.status.busy": "2022-03-11T10:05:55.588510Z",
     "iopub.status.idle": "2022-03-11T10:05:55.591862Z",
     "shell.execute_reply": "2022-03-11T10:05:55.592096Z"
    },
    "id": "52c31dea",
    "papermill": {
     "duration": 0.025266,
     "end_time": "2022-03-11T10:05:55.592206",
     "exception": false,
     "start_time": "2022-03-11T10:05:55.566940",
     "status": "completed"
    },
    "tags": []
   },
   "outputs": [
    {
     "name": "stdout",
     "output_type": "stream",
     "text": [
      "Weight of the node at skip connection\n",
      "Parameter containing:\n",
      "tensor([[0.4611]], requires_grad=True)\n"
     ]
    },
    {
     "data": {
      "application/scrapbook.scrap.json+json": {
       "data": 0.4610833525657654,
       "encoder": "json",
       "name": "Skip Connection Weight",
       "version": 1
      }
     },
     "metadata": {
      "scrapbook": {
       "data": true,
       "display": false,
       "name": "Skip Connection Weight"
      }
     },
     "output_type": "display_data"
    }
   ],
   "source": [
    "print(\"Weight of the node at skip connection\")\n",
    "for name,param in gen3.named_parameters():\n",
    "    if(name == \"skipNode.weight\"):\n",
    "        print(param)\n",
    "        sb.glue(\"Skip Connection Weight\",param.item())"
   ]
  }
 ],
 "metadata": {
  "colab": {
   "collapsed_sections": [],
   "name": "ABC_GAN_Model-Catboost_Pre-gen.ipynb",
   "provenance": []
  },
  "interpreter": {
   "hash": "31f2aee4e71d21fbe5cf8b01ff0e069b9275f58929596ceb00d14d90e3e16cd6"
  },
  "kernelspec": {
   "display_name": "Python 3 (ipykernel)",
   "language": "python",
   "name": "python3"
  },
  "language_info": {
   "codemirror_mode": {
    "name": "ipython",
    "version": 3
   },
   "file_extension": ".py",
   "mimetype": "text/x-python",
   "name": "python",
   "nbconvert_exporter": "python",
   "pygments_lexer": "ipython3",
   "version": "3.8.11"
  },
  "papermill": {
   "default_parameters": {},
   "duration": 188.344307,
   "end_time": "2022-03-11T10:05:55.919142",
   "environment_variables": {},
   "exception": null,
   "input_path": "ABC_GAN-Catboost.ipynb",
   "output_path": "./ABC_GAN_Catboost/ABC-GAN_output_4_1.ipynb",
   "parameters": {
    "variance": 0.1
   },
   "start_time": "2022-03-11T10:02:47.574835",
   "version": "2.3.3"
  }
 },
 "nbformat": 4,
 "nbformat_minor": 5
}