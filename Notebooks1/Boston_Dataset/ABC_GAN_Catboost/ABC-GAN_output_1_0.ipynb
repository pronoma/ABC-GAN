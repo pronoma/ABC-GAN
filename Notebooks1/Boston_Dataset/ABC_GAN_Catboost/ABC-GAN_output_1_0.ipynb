{
 "cells": [
  {
   "cell_type": "markdown",
   "id": "622780e6",
   "metadata": {
    "id": "622780e6",
    "papermill": {
     "duration": 0.020891,
     "end_time": "2022-03-11T09:30:40.689625",
     "exception": false,
     "start_time": "2022-03-11T09:30:40.668734",
     "status": "completed"
    },
    "tags": []
   },
   "source": [
    "## Import Libraries "
   ]
  },
  {
   "cell_type": "code",
   "execution_count": 1,
   "id": "a62397e3",
   "metadata": {
    "execution": {
     "iopub.execute_input": "2022-03-11T09:30:40.724489Z",
     "iopub.status.busy": "2022-03-11T09:30:40.723930Z",
     "iopub.status.idle": "2022-03-11T09:30:40.727183Z",
     "shell.execute_reply": "2022-03-11T09:30:40.727661Z"
    },
    "id": "a62397e3",
    "papermill": {
     "duration": 0.023327,
     "end_time": "2022-03-11T09:30:40.727954",
     "exception": false,
     "start_time": "2022-03-11T09:30:40.704627",
     "status": "completed"
    },
    "tags": []
   },
   "outputs": [],
   "source": [
    "import warnings\n",
    "import sys\n",
    "sys.path.insert(0, '../../src')\n",
    "warnings.filterwarnings('ignore')"
   ]
  },
  {
   "cell_type": "code",
   "execution_count": 2,
   "id": "d6a4e155",
   "metadata": {
    "execution": {
     "iopub.execute_input": "2022-03-11T09:30:40.748533Z",
     "iopub.status.busy": "2022-03-11T09:30:40.748123Z",
     "iopub.status.idle": "2022-03-11T09:30:43.047941Z",
     "shell.execute_reply": "2022-03-11T09:30:43.048199Z"
    },
    "id": "d6a4e155",
    "papermill": {
     "duration": 2.31085,
     "end_time": "2022-03-11T09:30:43.048326",
     "exception": false,
     "start_time": "2022-03-11T09:30:40.737476",
     "status": "completed"
    },
    "tags": []
   },
   "outputs": [],
   "source": [
    "import ABC_train_test2\n",
    "import bostonDataset\n",
    "import network\n",
    "import dataset\n",
    "import sanityChecks\n",
    "import torch \n",
    "import scrapbook as sb\n",
    "from statistics import mean \n",
    "import catboost as ctb \n",
    "from sklearn.model_selection import train_test_split\n",
    "from sklearn.metrics import mean_squared_error,mean_absolute_error\n",
    "import numpy as np"
   ]
  },
  {
   "cell_type": "markdown",
   "id": "2fa5b0f7",
   "metadata": {
    "id": "2fa5b0f7",
    "papermill": {
     "duration": 0.007147,
     "end_time": "2022-03-11T09:30:43.062537",
     "exception": false,
     "start_time": "2022-03-11T09:30:43.055390",
     "status": "completed"
    },
    "tags": []
   },
   "source": [
    "## Parameters "
   ]
  },
  {
   "cell_type": "code",
   "execution_count": 3,
   "id": "783186fb",
   "metadata": {
    "execution": {
     "iopub.execute_input": "2022-03-11T09:30:43.079226Z",
     "iopub.status.busy": "2022-03-11T09:30:43.078818Z",
     "iopub.status.idle": "2022-03-11T09:30:43.080070Z",
     "shell.execute_reply": "2022-03-11T09:30:43.080311Z"
    },
    "id": "783186fb",
    "papermill": {
     "duration": 0.010694,
     "end_time": "2022-03-11T09:30:43.080429",
     "exception": false,
     "start_time": "2022-03-11T09:30:43.069735",
     "status": "completed"
    },
    "tags": [
     "parameters"
    ]
   },
   "outputs": [],
   "source": [
    "variance = 1"
   ]
  },
  {
   "cell_type": "code",
   "execution_count": 4,
   "id": "82cc0b4b",
   "metadata": {
    "execution": {
     "iopub.execute_input": "2022-03-11T09:30:43.096822Z",
     "iopub.status.busy": "2022-03-11T09:30:43.096421Z",
     "iopub.status.idle": "2022-03-11T09:30:43.097730Z",
     "shell.execute_reply": "2022-03-11T09:30:43.097983Z"
    },
    "papermill": {
     "duration": 0.010735,
     "end_time": "2022-03-11T09:30:43.098104",
     "exception": false,
     "start_time": "2022-03-11T09:30:43.087369",
     "status": "completed"
    },
    "tags": [
     "injected-parameters"
    ]
   },
   "outputs": [],
   "source": [
    "# Parameters\n",
    "variance = 1\n"
   ]
  },
  {
   "cell_type": "markdown",
   "id": "391cdbfd",
   "metadata": {
    "id": "391cdbfd",
    "papermill": {
     "duration": 0.006935,
     "end_time": "2022-03-11T09:30:43.112295",
     "exception": false,
     "start_time": "2022-03-11T09:30:43.105360",
     "status": "completed"
    },
    "tags": []
   },
   "source": [
    "## Dataset \n"
   ]
  },
  {
   "cell_type": "code",
   "execution_count": 5,
   "id": "5b51f161",
   "metadata": {
    "execution": {
     "iopub.execute_input": "2022-03-11T09:30:43.128474Z",
     "iopub.status.busy": "2022-03-11T09:30:43.128090Z",
     "iopub.status.idle": "2022-03-11T09:30:43.129415Z",
     "shell.execute_reply": "2022-03-11T09:30:43.129642Z"
    },
    "id": "5b51f161",
    "papermill": {
     "duration": 0.010523,
     "end_time": "2022-03-11T09:30:43.129763",
     "exception": false,
     "start_time": "2022-03-11T09:30:43.119240",
     "status": "completed"
    },
    "tags": []
   },
   "outputs": [],
   "source": [
    "#Parameters \n",
    "n_features = 13\n",
    "n_samples= 506\n",
    "n_target = 1 "
   ]
  },
  {
   "cell_type": "code",
   "execution_count": 6,
   "id": "5d6eced4",
   "metadata": {
    "execution": {
     "iopub.execute_input": "2022-03-11T09:30:43.146145Z",
     "iopub.status.busy": "2022-03-11T09:30:43.145679Z",
     "iopub.status.idle": "2022-03-11T09:30:43.160184Z",
     "shell.execute_reply": "2022-03-11T09:30:43.160446Z"
    },
    "id": "5d6eced4",
    "papermill": {
     "duration": 0.023777,
     "end_time": "2022-03-11T09:30:43.160594",
     "exception": false,
     "start_time": "2022-03-11T09:30:43.136817",
     "status": "completed"
    },
    "tags": []
   },
   "outputs": [
    {
     "name": "stdout",
     "output_type": "stream",
     "text": [
      "         X1        X2        X3        X4        X5        X6        X7  \\\n",
      "0 -0.419782  0.284830 -1.287909 -0.272599 -0.144217  0.413672 -0.120013   \n",
      "1 -0.417339 -0.487722 -0.593381 -0.272599 -0.740262  0.194274  0.367166   \n",
      "2 -0.417342 -0.487722 -0.593381 -0.272599 -0.740262  1.282714 -0.265812   \n",
      "3 -0.416750 -0.487722 -1.306878 -0.272599 -0.835284  1.016303 -0.809889   \n",
      "4 -0.412482 -0.487722 -1.306878 -0.272599 -0.835284  1.228577 -0.511180   \n",
      "\n",
      "         X8        X9       X10       X11       X12       X13         Y  \n",
      "0  0.140214 -0.982843 -0.666608 -1.459000  0.441052 -1.075562  0.159686  \n",
      "1  0.557160 -0.867883 -0.987329 -0.303094  0.441052 -0.492439 -0.101524  \n",
      "2  0.557160 -0.867883 -0.987329 -0.303094  0.396427 -1.208727  1.324247  \n",
      "3  1.077737 -0.752922 -1.106115  0.113032  0.416163 -1.361517  1.182758  \n",
      "4  1.077737 -0.752922 -1.106115  0.113032  0.441052 -1.026501  1.487503  \n"
     ]
    }
   ],
   "source": [
    "X,Y = bostonDataset.boston_data()"
   ]
  },
  {
   "cell_type": "code",
   "execution_count": 7,
   "id": "fe007438",
   "metadata": {
    "execution": {
     "iopub.execute_input": "2022-03-11T09:30:43.178915Z",
     "iopub.status.busy": "2022-03-11T09:30:43.178485Z",
     "iopub.status.idle": "2022-03-11T09:30:43.179950Z",
     "shell.execute_reply": "2022-03-11T09:30:43.180197Z"
    },
    "id": "fe007438",
    "papermill": {
     "duration": 0.012201,
     "end_time": "2022-03-11T09:30:43.180322",
     "exception": false,
     "start_time": "2022-03-11T09:30:43.168121",
     "status": "completed"
    },
    "tags": []
   },
   "outputs": [],
   "source": [
    "#Train test split for dataset \n",
    "X_train,X_test,Y_train,Y_test = train_test_split(X,Y,test_size = 0.2)\n",
    "train_data = dataset.CustomDataset(X_train,Y_train)\n",
    "test_data = dataset.CustomDataset(X_test,Y_test)\n"
   ]
  },
  {
   "cell_type": "markdown",
   "id": "a9a1af34",
   "metadata": {
    "id": "a9a1af34",
    "papermill": {
     "duration": 0.007094,
     "end_time": "2022-03-11T09:30:43.194717",
     "exception": false,
     "start_time": "2022-03-11T09:30:43.187623",
     "status": "completed"
    },
    "tags": []
   },
   "source": [
    "## Training Parameters "
   ]
  },
  {
   "cell_type": "code",
   "execution_count": 8,
   "id": "952b7fc8",
   "metadata": {
    "execution": {
     "iopub.execute_input": "2022-03-11T09:30:43.212494Z",
     "iopub.status.busy": "2022-03-11T09:30:43.212122Z",
     "iopub.status.idle": "2022-03-11T09:30:43.213449Z",
     "shell.execute_reply": "2022-03-11T09:30:43.213698Z"
    },
    "id": "952b7fc8",
    "papermill": {
     "duration": 0.011989,
     "end_time": "2022-03-11T09:30:43.213814",
     "exception": false,
     "start_time": "2022-03-11T09:30:43.201825",
     "status": "completed"
    },
    "tags": []
   },
   "outputs": [],
   "source": [
    "batch_size = 64\n",
    "n_epochs = 1000\n",
    "#Select the device \n",
    "device = torch.device('cuda' if torch.cuda.is_available() else 'cpu')"
   ]
  },
  {
   "cell_type": "markdown",
   "id": "a95e1600",
   "metadata": {
    "id": "a95e1600",
    "papermill": {
     "duration": 0.007035,
     "end_time": "2022-03-11T09:30:43.228067",
     "exception": false,
     "start_time": "2022-03-11T09:30:43.221032",
     "status": "completed"
    },
    "tags": []
   },
   "source": [
    "# ABC Pre-generator Model \n",
    "\n",
    "1. The catboost model is used as a pre-generator model for the ABC-GAN. \n",
    "2. The model is first trained on the entire dataset \n",
    "3. It generats X,Y pairs and we add some Gaussian noise with mean 0 and variance 1 to it which is then feed as input to the generator.\n"
   ]
  },
  {
   "cell_type": "code",
   "execution_count": 9,
   "id": "ff8ce7bd",
   "metadata": {
    "execution": {
     "iopub.execute_input": "2022-03-11T09:30:43.259835Z",
     "iopub.status.busy": "2022-03-11T09:30:43.259432Z",
     "iopub.status.idle": "2022-03-11T09:30:44.351334Z",
     "shell.execute_reply": "2022-03-11T09:30:44.351635Z"
    },
    "id": "ff8ce7bd",
    "papermill": {
     "duration": 1.116465,
     "end_time": "2022-03-11T09:30:44.351755",
     "exception": false,
     "start_time": "2022-03-11T09:30:43.235290",
     "status": "completed"
    },
    "tags": []
   },
   "outputs": [
    {
     "name": "stdout",
     "output_type": "stream",
     "text": [
      "Learning rate set to 0.033215\n",
      "0:\tlearn: 0.9643220\ttotal: 64.6ms\tremaining: 1m 4s\n",
      "1:\tlearn: 0.9460570\ttotal: 65.5ms\tremaining: 32.7s\n",
      "2:\tlearn: 0.9261773\ttotal: 66.3ms\tremaining: 22s\n",
      "3:\tlearn: 0.9103350\ttotal: 67.4ms\tremaining: 16.8s\n",
      "4:\tlearn: 0.8926469\ttotal: 68.2ms\tremaining: 13.6s\n",
      "5:\tlearn: 0.8765104\ttotal: 69.2ms\tremaining: 11.5s\n",
      "6:\tlearn: 0.8618436\ttotal: 70.2ms\tremaining: 9.96s\n",
      "7:\tlearn: 0.8467739\ttotal: 71.7ms\tremaining: 8.89s\n",
      "8:\tlearn: 0.8325188\ttotal: 72.6ms\tremaining: 7.99s\n",
      "9:\tlearn: 0.8165358\ttotal: 73.4ms\tremaining: 7.26s\n",
      "10:\tlearn: 0.8037804\ttotal: 74.2ms\tremaining: 6.67s\n",
      "11:\tlearn: 0.7903255\ttotal: 74.9ms\tremaining: 6.17s\n",
      "12:\tlearn: 0.7772938\ttotal: 75.6ms\tremaining: 5.74s\n",
      "13:\tlearn: 0.7634357\ttotal: 76.3ms\tremaining: 5.37s\n",
      "14:\tlearn: 0.7501651\ttotal: 77ms\tremaining: 5.06s\n",
      "15:\tlearn: 0.7365432\ttotal: 77.7ms\tremaining: 4.78s\n",
      "16:\tlearn: 0.7240645\ttotal: 78.5ms\tremaining: 4.54s\n",
      "17:\tlearn: 0.7112217\ttotal: 79.3ms\tremaining: 4.33s\n",
      "18:\tlearn: 0.6988930\ttotal: 80.2ms\tremaining: 4.14s\n",
      "19:\tlearn: 0.6868901\ttotal: 80.9ms\tremaining: 3.96s\n"
     ]
    },
    {
     "name": "stdout",
     "output_type": "stream",
     "text": [
      "20:\tlearn: 0.6738996\ttotal: 81.9ms\tremaining: 3.82s\n",
      "21:\tlearn: 0.6641112\ttotal: 82.8ms\tremaining: 3.68s\n",
      "22:\tlearn: 0.6529463\ttotal: 83.5ms\tremaining: 3.55s\n",
      "23:\tlearn: 0.6433675\ttotal: 84.5ms\tremaining: 3.44s\n",
      "24:\tlearn: 0.6328043\ttotal: 85.5ms\tremaining: 3.33s\n",
      "25:\tlearn: 0.6228849\ttotal: 86.3ms\tremaining: 3.23s\n",
      "26:\tlearn: 0.6142599\ttotal: 87.1ms\tremaining: 3.14s\n",
      "27:\tlearn: 0.6055302\ttotal: 87.8ms\tremaining: 3.05s\n",
      "28:\tlearn: 0.5961872\ttotal: 88.6ms\tremaining: 2.97s\n",
      "29:\tlearn: 0.5866825\ttotal: 89.5ms\tremaining: 2.89s\n",
      "30:\tlearn: 0.5782134\ttotal: 90.4ms\tremaining: 2.83s\n",
      "31:\tlearn: 0.5697605\ttotal: 91.3ms\tremaining: 2.76s\n",
      "32:\tlearn: 0.5627940\ttotal: 92.1ms\tremaining: 2.7s\n",
      "33:\tlearn: 0.5552837\ttotal: 92.8ms\tremaining: 2.64s\n",
      "34:\tlearn: 0.5475406\ttotal: 93.5ms\tremaining: 2.58s\n",
      "35:\tlearn: 0.5399808\ttotal: 94.4ms\tremaining: 2.53s\n",
      "36:\tlearn: 0.5342121\ttotal: 95.2ms\tremaining: 2.48s\n",
      "37:\tlearn: 0.5274201\ttotal: 96ms\tremaining: 2.43s\n",
      "38:\tlearn: 0.5205784\ttotal: 96.8ms\tremaining: 2.38s\n",
      "39:\tlearn: 0.5128499\ttotal: 97.7ms\tremaining: 2.34s\n",
      "40:\tlearn: 0.5062321\ttotal: 98.4ms\tremaining: 2.3s\n",
      "41:\tlearn: 0.4994433\ttotal: 99.1ms\tremaining: 2.26s\n",
      "42:\tlearn: 0.4944053\ttotal: 99.9ms\tremaining: 2.22s\n",
      "43:\tlearn: 0.4883296\ttotal: 101ms\tremaining: 2.19s\n",
      "44:\tlearn: 0.4826278\ttotal: 102ms\tremaining: 2.15s\n",
      "45:\tlearn: 0.4774434\ttotal: 102ms\tremaining: 2.12s\n",
      "46:\tlearn: 0.4726347\ttotal: 104ms\tremaining: 2.1s\n",
      "47:\tlearn: 0.4663831\ttotal: 104ms\tremaining: 2.07s\n",
      "48:\tlearn: 0.4607533\ttotal: 105ms\tremaining: 2.04s\n",
      "49:\tlearn: 0.4555710\ttotal: 106ms\tremaining: 2.02s\n",
      "50:\tlearn: 0.4508787\ttotal: 107ms\tremaining: 1.99s\n",
      "51:\tlearn: 0.4471540\ttotal: 108ms\tremaining: 1.96s\n",
      "52:\tlearn: 0.4421798\ttotal: 109ms\tremaining: 1.94s\n",
      "53:\tlearn: 0.4381764\ttotal: 109ms\tremaining: 1.92s\n",
      "54:\tlearn: 0.4337111\ttotal: 110ms\tremaining: 1.9s\n",
      "55:\tlearn: 0.4291379\ttotal: 111ms\tremaining: 1.87s\n",
      "56:\tlearn: 0.4251667\ttotal: 112ms\tremaining: 1.85s\n",
      "57:\tlearn: 0.4207691\ttotal: 113ms\tremaining: 1.83s\n",
      "58:\tlearn: 0.4171492\ttotal: 114ms\tremaining: 1.81s\n",
      "59:\tlearn: 0.4130453\ttotal: 114ms\tremaining: 1.79s\n",
      "60:\tlearn: 0.4096294\ttotal: 115ms\tremaining: 1.77s\n",
      "61:\tlearn: 0.4061343\ttotal: 116ms\tremaining: 1.76s\n",
      "62:\tlearn: 0.4021595\ttotal: 117ms\tremaining: 1.74s\n",
      "63:\tlearn: 0.3981764\ttotal: 118ms\tremaining: 1.72s\n",
      "64:\tlearn: 0.3948286\ttotal: 119ms\tremaining: 1.71s\n",
      "65:\tlearn: 0.3917431\ttotal: 120ms\tremaining: 1.69s\n",
      "66:\tlearn: 0.3880206\ttotal: 120ms\tremaining: 1.68s\n",
      "67:\tlearn: 0.3851912\ttotal: 121ms\tremaining: 1.66s\n",
      "68:\tlearn: 0.3819841\ttotal: 122ms\tremaining: 1.65s\n",
      "69:\tlearn: 0.3789180\ttotal: 123ms\tremaining: 1.63s\n",
      "70:\tlearn: 0.3760760\ttotal: 124ms\tremaining: 1.62s\n",
      "71:\tlearn: 0.3725549\ttotal: 125ms\tremaining: 1.6s\n",
      "72:\tlearn: 0.3695208\ttotal: 125ms\tremaining: 1.59s\n",
      "73:\tlearn: 0.3668361\ttotal: 126ms\tremaining: 1.58s\n",
      "74:\tlearn: 0.3644220\ttotal: 127ms\tremaining: 1.56s\n",
      "75:\tlearn: 0.3621759\ttotal: 128ms\tremaining: 1.55s\n",
      "76:\tlearn: 0.3588830\ttotal: 129ms\tremaining: 1.55s\n",
      "77:\tlearn: 0.3565640\ttotal: 130ms\tremaining: 1.54s\n",
      "78:\tlearn: 0.3539870\ttotal: 131ms\tremaining: 1.53s\n",
      "79:\tlearn: 0.3520753\ttotal: 132ms\tremaining: 1.52s\n",
      "80:\tlearn: 0.3488693\ttotal: 133ms\tremaining: 1.51s\n",
      "81:\tlearn: 0.3463091\ttotal: 134ms\tremaining: 1.5s\n",
      "82:\tlearn: 0.3446274\ttotal: 135ms\tremaining: 1.49s\n",
      "83:\tlearn: 0.3424592\ttotal: 136ms\tremaining: 1.48s\n",
      "84:\tlearn: 0.3401820\ttotal: 137ms\tremaining: 1.47s\n",
      "85:\tlearn: 0.3383070\ttotal: 137ms\tremaining: 1.46s\n",
      "86:\tlearn: 0.3360977\ttotal: 138ms\tremaining: 1.45s\n",
      "87:\tlearn: 0.3337382\ttotal: 139ms\tremaining: 1.44s\n",
      "88:\tlearn: 0.3315725\ttotal: 140ms\tremaining: 1.43s\n",
      "89:\tlearn: 0.3298179\ttotal: 140ms\tremaining: 1.42s\n",
      "90:\tlearn: 0.3278997\ttotal: 141ms\tremaining: 1.41s\n",
      "91:\tlearn: 0.3256971\ttotal: 142ms\tremaining: 1.4s\n",
      "92:\tlearn: 0.3241461\ttotal: 143ms\tremaining: 1.39s\n",
      "93:\tlearn: 0.3215403\ttotal: 144ms\tremaining: 1.39s\n",
      "94:\tlearn: 0.3199974\ttotal: 145ms\tremaining: 1.38s\n",
      "95:\tlearn: 0.3188973\ttotal: 145ms\tremaining: 1.37s\n",
      "96:\tlearn: 0.3171853\ttotal: 146ms\tremaining: 1.36s\n",
      "97:\tlearn: 0.3157928\ttotal: 148ms\tremaining: 1.36s\n",
      "98:\tlearn: 0.3140879\ttotal: 148ms\tremaining: 1.35s\n",
      "99:\tlearn: 0.3129793\ttotal: 149ms\tremaining: 1.34s\n",
      "100:\tlearn: 0.3113673\ttotal: 150ms\tremaining: 1.33s\n",
      "101:\tlearn: 0.3091292\ttotal: 151ms\tremaining: 1.33s\n",
      "102:\tlearn: 0.3074427\ttotal: 152ms\tremaining: 1.32s\n",
      "103:\tlearn: 0.3055293\ttotal: 153ms\tremaining: 1.31s\n",
      "104:\tlearn: 0.3034915\ttotal: 154ms\tremaining: 1.31s\n",
      "105:\tlearn: 0.3024963\ttotal: 155ms\tremaining: 1.3s\n",
      "106:\tlearn: 0.3008103\ttotal: 155ms\tremaining: 1.3s\n",
      "107:\tlearn: 0.2998137\ttotal: 156ms\tremaining: 1.29s\n",
      "108:\tlearn: 0.2989094\ttotal: 157ms\tremaining: 1.28s\n",
      "109:\tlearn: 0.2977486\ttotal: 158ms\tremaining: 1.28s\n",
      "110:\tlearn: 0.2963175\ttotal: 159ms\tremaining: 1.27s\n",
      "111:\tlearn: 0.2951633\ttotal: 160ms\tremaining: 1.26s\n",
      "112:\tlearn: 0.2941163\ttotal: 160ms\tremaining: 1.26s\n",
      "113:\tlearn: 0.2928129\ttotal: 161ms\tremaining: 1.25s\n",
      "114:\tlearn: 0.2915076\ttotal: 162ms\tremaining: 1.25s\n",
      "115:\tlearn: 0.2906539\ttotal: 163ms\tremaining: 1.24s\n",
      "116:\tlearn: 0.2894536\ttotal: 164ms\tremaining: 1.24s\n",
      "117:\tlearn: 0.2880325\ttotal: 165ms\tremaining: 1.23s\n",
      "118:\tlearn: 0.2866563\ttotal: 165ms\tremaining: 1.22s\n",
      "119:\tlearn: 0.2858883\ttotal: 166ms\tremaining: 1.22s\n",
      "120:\tlearn: 0.2845321\ttotal: 167ms\tremaining: 1.21s\n",
      "121:\tlearn: 0.2835170\ttotal: 168ms\tremaining: 1.21s\n",
      "122:\tlearn: 0.2828806\ttotal: 169ms\tremaining: 1.21s\n",
      "123:\tlearn: 0.2816165\ttotal: 170ms\tremaining: 1.2s\n",
      "124:\tlearn: 0.2804534\ttotal: 171ms\tremaining: 1.19s\n",
      "125:\tlearn: 0.2795010\ttotal: 171ms\tremaining: 1.19s\n",
      "126:\tlearn: 0.2778939\ttotal: 172ms\tremaining: 1.18s\n",
      "127:\tlearn: 0.2768943\ttotal: 173ms\tremaining: 1.18s\n",
      "128:\tlearn: 0.2757146\ttotal: 174ms\tremaining: 1.17s\n",
      "129:\tlearn: 0.2746960\ttotal: 175ms\tremaining: 1.17s\n",
      "130:\tlearn: 0.2738124\ttotal: 175ms\tremaining: 1.16s\n",
      "131:\tlearn: 0.2728336\ttotal: 176ms\tremaining: 1.16s\n",
      "132:\tlearn: 0.2715526\ttotal: 177ms\tremaining: 1.16s\n",
      "133:\tlearn: 0.2702708\ttotal: 178ms\tremaining: 1.15s\n",
      "134:\tlearn: 0.2695168\ttotal: 180ms\tremaining: 1.15s\n",
      "135:\tlearn: 0.2683519\ttotal: 180ms\tremaining: 1.15s\n",
      "136:\tlearn: 0.2677463\ttotal: 181ms\tremaining: 1.14s\n",
      "137:\tlearn: 0.2666232\ttotal: 182ms\tremaining: 1.14s\n",
      "138:\tlearn: 0.2659314\ttotal: 183ms\tremaining: 1.13s\n",
      "139:\tlearn: 0.2651514\ttotal: 184ms\tremaining: 1.13s\n",
      "140:\tlearn: 0.2646240\ttotal: 184ms\tremaining: 1.12s\n",
      "141:\tlearn: 0.2638542\ttotal: 185ms\tremaining: 1.12s\n"
     ]
    },
    {
     "name": "stdout",
     "output_type": "stream",
     "text": [
      "142:\tlearn: 0.2632663\ttotal: 186ms\tremaining: 1.11s\n",
      "143:\tlearn: 0.2625404\ttotal: 187ms\tremaining: 1.11s\n",
      "144:\tlearn: 0.2615046\ttotal: 188ms\tremaining: 1.11s\n",
      "145:\tlearn: 0.2608061\ttotal: 189ms\tremaining: 1.1s\n",
      "146:\tlearn: 0.2597176\ttotal: 189ms\tremaining: 1.1s\n",
      "147:\tlearn: 0.2591363\ttotal: 190ms\tremaining: 1.09s\n",
      "148:\tlearn: 0.2582477\ttotal: 191ms\tremaining: 1.09s\n",
      "149:\tlearn: 0.2577664\ttotal: 192ms\tremaining: 1.09s\n",
      "150:\tlearn: 0.2572686\ttotal: 193ms\tremaining: 1.08s\n",
      "151:\tlearn: 0.2563979\ttotal: 194ms\tremaining: 1.08s\n",
      "152:\tlearn: 0.2556873\ttotal: 194ms\tremaining: 1.08s\n",
      "153:\tlearn: 0.2547343\ttotal: 195ms\tremaining: 1.07s\n",
      "154:\tlearn: 0.2543045\ttotal: 196ms\tremaining: 1.07s\n",
      "155:\tlearn: 0.2533567\ttotal: 197ms\tremaining: 1.06s\n",
      "156:\tlearn: 0.2528045\ttotal: 198ms\tremaining: 1.06s\n",
      "157:\tlearn: 0.2525844\ttotal: 199ms\tremaining: 1.06s\n",
      "158:\tlearn: 0.2520847\ttotal: 199ms\tremaining: 1.05s\n",
      "159:\tlearn: 0.2514270\ttotal: 200ms\tremaining: 1.05s\n",
      "160:\tlearn: 0.2506475\ttotal: 201ms\tremaining: 1.05s\n",
      "161:\tlearn: 0.2502995\ttotal: 202ms\tremaining: 1.04s\n",
      "162:\tlearn: 0.2495299\ttotal: 203ms\tremaining: 1.04s\n",
      "163:\tlearn: 0.2491789\ttotal: 204ms\tremaining: 1.04s\n",
      "164:\tlearn: 0.2485949\ttotal: 205ms\tremaining: 1.04s\n",
      "165:\tlearn: 0.2480701\ttotal: 206ms\tremaining: 1.03s\n",
      "166:\tlearn: 0.2476198\ttotal: 207ms\tremaining: 1.03s\n",
      "167:\tlearn: 0.2471590\ttotal: 208ms\tremaining: 1.03s\n",
      "168:\tlearn: 0.2467636\ttotal: 209ms\tremaining: 1.02s\n",
      "169:\tlearn: 0.2463834\ttotal: 209ms\tremaining: 1.02s\n",
      "170:\tlearn: 0.2459255\ttotal: 210ms\tremaining: 1.02s\n",
      "171:\tlearn: 0.2450726\ttotal: 211ms\tremaining: 1.02s\n",
      "172:\tlearn: 0.2444299\ttotal: 212ms\tremaining: 1.01s\n",
      "173:\tlearn: 0.2436628\ttotal: 213ms\tremaining: 1.01s\n",
      "174:\tlearn: 0.2428294\ttotal: 214ms\tremaining: 1.01s\n",
      "175:\tlearn: 0.2420107\ttotal: 215ms\tremaining: 1s\n",
      "176:\tlearn: 0.2414590\ttotal: 215ms\tremaining: 1s\n",
      "177:\tlearn: 0.2408659\ttotal: 216ms\tremaining: 998ms\n",
      "178:\tlearn: 0.2404379\ttotal: 217ms\tremaining: 994ms\n",
      "179:\tlearn: 0.2398520\ttotal: 218ms\tremaining: 992ms\n",
      "180:\tlearn: 0.2386348\ttotal: 219ms\tremaining: 989ms\n",
      "181:\tlearn: 0.2380093\ttotal: 219ms\tremaining: 986ms\n",
      "182:\tlearn: 0.2373547\ttotal: 220ms\tremaining: 983ms\n",
      "183:\tlearn: 0.2369397\ttotal: 221ms\tremaining: 980ms\n",
      "184:\tlearn: 0.2360894\ttotal: 222ms\tremaining: 978ms\n",
      "185:\tlearn: 0.2350598\ttotal: 223ms\tremaining: 975ms\n",
      "186:\tlearn: 0.2342781\ttotal: 224ms\tremaining: 973ms\n",
      "187:\tlearn: 0.2341659\ttotal: 224ms\tremaining: 968ms\n",
      "188:\tlearn: 0.2335107\ttotal: 225ms\tremaining: 965ms\n",
      "189:\tlearn: 0.2327837\ttotal: 226ms\tremaining: 961ms\n",
      "190:\tlearn: 0.2319888\ttotal: 226ms\tremaining: 959ms\n",
      "191:\tlearn: 0.2309888\ttotal: 227ms\tremaining: 956ms\n",
      "192:\tlearn: 0.2301916\ttotal: 228ms\tremaining: 953ms\n",
      "193:\tlearn: 0.2297138\ttotal: 229ms\tremaining: 950ms\n",
      "194:\tlearn: 0.2292019\ttotal: 230ms\tremaining: 948ms\n",
      "195:\tlearn: 0.2287848\ttotal: 230ms\tremaining: 945ms\n",
      "196:\tlearn: 0.2279837\ttotal: 231ms\tremaining: 943ms\n",
      "197:\tlearn: 0.2276087\ttotal: 232ms\tremaining: 941ms\n",
      "198:\tlearn: 0.2270464\ttotal: 233ms\tremaining: 938ms\n",
      "199:\tlearn: 0.2262667\ttotal: 234ms\tremaining: 936ms\n",
      "200:\tlearn: 0.2259820\ttotal: 235ms\tremaining: 933ms\n",
      "201:\tlearn: 0.2253364\ttotal: 236ms\tremaining: 930ms\n",
      "202:\tlearn: 0.2249542\ttotal: 236ms\tremaining: 928ms\n",
      "203:\tlearn: 0.2246253\ttotal: 237ms\tremaining: 925ms\n",
      "204:\tlearn: 0.2242245\ttotal: 238ms\tremaining: 922ms\n",
      "205:\tlearn: 0.2236063\ttotal: 239ms\tremaining: 920ms\n",
      "206:\tlearn: 0.2229244\ttotal: 239ms\tremaining: 917ms\n",
      "207:\tlearn: 0.2223047\ttotal: 240ms\tremaining: 915ms\n",
      "208:\tlearn: 0.2221750\ttotal: 241ms\tremaining: 912ms\n",
      "209:\tlearn: 0.2214697\ttotal: 242ms\tremaining: 910ms\n",
      "210:\tlearn: 0.2208620\ttotal: 243ms\tremaining: 908ms\n",
      "211:\tlearn: 0.2204198\ttotal: 244ms\tremaining: 905ms\n",
      "212:\tlearn: 0.2199759\ttotal: 244ms\tremaining: 903ms\n",
      "213:\tlearn: 0.2194302\ttotal: 245ms\tremaining: 900ms\n",
      "214:\tlearn: 0.2189567\ttotal: 246ms\tremaining: 898ms\n",
      "215:\tlearn: 0.2184485\ttotal: 248ms\tremaining: 901ms\n",
      "216:\tlearn: 0.2179622\ttotal: 249ms\tremaining: 899ms\n",
      "217:\tlearn: 0.2174844\ttotal: 250ms\tremaining: 897ms\n",
      "218:\tlearn: 0.2170204\ttotal: 251ms\tremaining: 895ms\n",
      "219:\tlearn: 0.2166112\ttotal: 252ms\tremaining: 893ms\n",
      "220:\tlearn: 0.2161268\ttotal: 252ms\tremaining: 890ms\n",
      "221:\tlearn: 0.2157323\ttotal: 253ms\tremaining: 888ms\n",
      "222:\tlearn: 0.2152470\ttotal: 254ms\tremaining: 885ms\n",
      "223:\tlearn: 0.2147368\ttotal: 255ms\tremaining: 883ms\n",
      "224:\tlearn: 0.2144445\ttotal: 256ms\tremaining: 881ms\n",
      "225:\tlearn: 0.2141076\ttotal: 257ms\tremaining: 879ms\n",
      "226:\tlearn: 0.2136441\ttotal: 257ms\tremaining: 877ms\n",
      "227:\tlearn: 0.2132547\ttotal: 258ms\tremaining: 875ms\n",
      "228:\tlearn: 0.2127191\ttotal: 259ms\tremaining: 872ms\n",
      "229:\tlearn: 0.2125040\ttotal: 260ms\tremaining: 870ms\n",
      "230:\tlearn: 0.2121663\ttotal: 261ms\tremaining: 868ms\n",
      "231:\tlearn: 0.2119011\ttotal: 262ms\tremaining: 866ms\n",
      "232:\tlearn: 0.2111694\ttotal: 263ms\tremaining: 865ms\n",
      "233:\tlearn: 0.2108732\ttotal: 264ms\tremaining: 863ms\n",
      "234:\tlearn: 0.2106134\ttotal: 265ms\tremaining: 861ms\n",
      "235:\tlearn: 0.2102835\ttotal: 265ms\tremaining: 859ms\n",
      "236:\tlearn: 0.2097449\ttotal: 267ms\tremaining: 858ms\n",
      "237:\tlearn: 0.2093430\ttotal: 268ms\tremaining: 858ms\n",
      "238:\tlearn: 0.2089590\ttotal: 269ms\tremaining: 857ms\n"
     ]
    },
    {
     "name": "stdout",
     "output_type": "stream",
     "text": [
      "239:\tlearn: 0.2086372\ttotal: 271ms\tremaining: 859ms\n",
      "240:\tlearn: 0.2082568\ttotal: 272ms\tremaining: 857ms\n",
      "241:\tlearn: 0.2077781\ttotal: 273ms\tremaining: 856ms\n",
      "242:\tlearn: 0.2075603\ttotal: 274ms\tremaining: 854ms\n",
      "243:\tlearn: 0.2070319\ttotal: 275ms\tremaining: 852ms\n",
      "244:\tlearn: 0.2064582\ttotal: 276ms\tremaining: 850ms\n",
      "245:\tlearn: 0.2059655\ttotal: 277ms\tremaining: 848ms\n",
      "246:\tlearn: 0.2054587\ttotal: 278ms\tremaining: 846ms\n",
      "247:\tlearn: 0.2053338\ttotal: 278ms\tremaining: 844ms\n",
      "248:\tlearn: 0.2048766\ttotal: 279ms\tremaining: 842ms\n",
      "249:\tlearn: 0.2042593\ttotal: 280ms\tremaining: 840ms\n",
      "250:\tlearn: 0.2041118\ttotal: 281ms\tremaining: 838ms\n",
      "251:\tlearn: 0.2036995\ttotal: 282ms\tremaining: 836ms\n",
      "252:\tlearn: 0.2033046\ttotal: 283ms\tremaining: 834ms\n",
      "253:\tlearn: 0.2029343\ttotal: 283ms\tremaining: 832ms\n",
      "254:\tlearn: 0.2025063\ttotal: 284ms\tremaining: 830ms\n",
      "255:\tlearn: 0.2024382\ttotal: 285ms\tremaining: 829ms\n",
      "256:\tlearn: 0.2020490\ttotal: 286ms\tremaining: 827ms\n",
      "257:\tlearn: 0.2014897\ttotal: 287ms\tremaining: 825ms\n",
      "258:\tlearn: 0.2012311\ttotal: 288ms\tremaining: 824ms\n",
      "259:\tlearn: 0.2008305\ttotal: 289ms\tremaining: 822ms\n",
      "260:\tlearn: 0.2002920\ttotal: 290ms\tremaining: 820ms\n",
      "261:\tlearn: 0.1997693\ttotal: 290ms\tremaining: 818ms\n",
      "262:\tlearn: 0.1994041\ttotal: 291ms\tremaining: 816ms\n",
      "263:\tlearn: 0.1991184\ttotal: 292ms\tremaining: 814ms\n",
      "264:\tlearn: 0.1986101\ttotal: 293ms\tremaining: 812ms\n",
      "265:\tlearn: 0.1983849\ttotal: 294ms\tremaining: 810ms\n",
      "266:\tlearn: 0.1981622\ttotal: 295ms\tremaining: 809ms\n",
      "267:\tlearn: 0.1979937\ttotal: 295ms\tremaining: 807ms\n",
      "268:\tlearn: 0.1977306\ttotal: 297ms\tremaining: 807ms\n",
      "269:\tlearn: 0.1971150\ttotal: 298ms\tremaining: 805ms\n",
      "270:\tlearn: 0.1968762\ttotal: 298ms\tremaining: 803ms\n",
      "271:\tlearn: 0.1963550\ttotal: 299ms\tremaining: 801ms\n",
      "272:\tlearn: 0.1958694\ttotal: 300ms\tremaining: 799ms\n",
      "273:\tlearn: 0.1953974\ttotal: 301ms\tremaining: 797ms\n",
      "274:\tlearn: 0.1949290\ttotal: 301ms\tremaining: 795ms\n",
      "275:\tlearn: 0.1943806\ttotal: 302ms\tremaining: 793ms\n",
      "276:\tlearn: 0.1939802\ttotal: 303ms\tremaining: 791ms\n",
      "277:\tlearn: 0.1934656\ttotal: 304ms\tremaining: 789ms\n",
      "278:\tlearn: 0.1930809\ttotal: 304ms\tremaining: 787ms\n",
      "279:\tlearn: 0.1926850\ttotal: 305ms\tremaining: 785ms\n",
      "280:\tlearn: 0.1922620\ttotal: 306ms\tremaining: 783ms\n",
      "281:\tlearn: 0.1917223\ttotal: 307ms\tremaining: 782ms\n",
      "282:\tlearn: 0.1911606\ttotal: 308ms\tremaining: 780ms\n",
      "283:\tlearn: 0.1906651\ttotal: 309ms\tremaining: 778ms\n",
      "284:\tlearn: 0.1900758\ttotal: 310ms\tremaining: 777ms\n",
      "285:\tlearn: 0.1899653\ttotal: 311ms\tremaining: 775ms\n",
      "286:\tlearn: 0.1897006\ttotal: 312ms\tremaining: 775ms\n",
      "287:\tlearn: 0.1895626\ttotal: 313ms\tremaining: 774ms\n",
      "288:\tlearn: 0.1891891\ttotal: 314ms\tremaining: 773ms\n",
      "289:\tlearn: 0.1886627\ttotal: 315ms\tremaining: 772ms\n",
      "290:\tlearn: 0.1883430\ttotal: 316ms\tremaining: 771ms\n",
      "291:\tlearn: 0.1878654\ttotal: 317ms\tremaining: 769ms\n",
      "292:\tlearn: 0.1874683\ttotal: 318ms\tremaining: 767ms\n",
      "293:\tlearn: 0.1870733\ttotal: 319ms\tremaining: 765ms\n",
      "294:\tlearn: 0.1869968\ttotal: 319ms\tremaining: 763ms\n",
      "295:\tlearn: 0.1865626\ttotal: 321ms\tremaining: 762ms\n",
      "296:\tlearn: 0.1861887\ttotal: 321ms\tremaining: 761ms\n",
      "297:\tlearn: 0.1858563\ttotal: 322ms\tremaining: 759ms\n",
      "298:\tlearn: 0.1854499\ttotal: 324ms\tremaining: 759ms\n",
      "299:\tlearn: 0.1852719\ttotal: 325ms\tremaining: 758ms\n",
      "300:\tlearn: 0.1848092\ttotal: 326ms\tremaining: 757ms\n",
      "301:\tlearn: 0.1842941\ttotal: 327ms\tremaining: 757ms\n",
      "302:\tlearn: 0.1838967\ttotal: 328ms\tremaining: 755ms\n",
      "303:\tlearn: 0.1835213\ttotal: 330ms\tremaining: 755ms\n",
      "304:\tlearn: 0.1829077\ttotal: 331ms\tremaining: 753ms\n",
      "305:\tlearn: 0.1827336\ttotal: 332ms\tremaining: 753ms\n",
      "306:\tlearn: 0.1823154\ttotal: 333ms\tremaining: 752ms\n",
      "307:\tlearn: 0.1819709\ttotal: 334ms\tremaining: 751ms\n",
      "308:\tlearn: 0.1816558\ttotal: 336ms\tremaining: 751ms\n",
      "309:\tlearn: 0.1812320\ttotal: 337ms\tremaining: 750ms\n",
      "310:\tlearn: 0.1808807\ttotal: 339ms\tremaining: 750ms\n",
      "311:\tlearn: 0.1805575\ttotal: 339ms\tremaining: 748ms\n",
      "312:\tlearn: 0.1803223\ttotal: 340ms\tremaining: 746ms\n",
      "313:\tlearn: 0.1800192\ttotal: 341ms\tremaining: 744ms\n",
      "314:\tlearn: 0.1797660\ttotal: 341ms\tremaining: 742ms\n",
      "315:\tlearn: 0.1795889\ttotal: 343ms\tremaining: 743ms\n",
      "316:\tlearn: 0.1791249\ttotal: 344ms\tremaining: 741ms\n",
      "317:\tlearn: 0.1785137\ttotal: 345ms\tremaining: 739ms\n",
      "318:\tlearn: 0.1784499\ttotal: 346ms\tremaining: 739ms\n",
      "319:\tlearn: 0.1780497\ttotal: 347ms\tremaining: 738ms\n",
      "320:\tlearn: 0.1776650\ttotal: 349ms\tremaining: 737ms\n",
      "321:\tlearn: 0.1770698\ttotal: 349ms\tremaining: 736ms\n",
      "322:\tlearn: 0.1770016\ttotal: 350ms\tremaining: 734ms\n",
      "323:\tlearn: 0.1763635\ttotal: 351ms\tremaining: 733ms\n",
      "324:\tlearn: 0.1759314\ttotal: 352ms\tremaining: 731ms\n",
      "325:\tlearn: 0.1756533\ttotal: 353ms\tremaining: 729ms\n",
      "326:\tlearn: 0.1754152\ttotal: 354ms\tremaining: 728ms\n",
      "327:\tlearn: 0.1751697\ttotal: 354ms\tremaining: 726ms\n",
      "328:\tlearn: 0.1746294\ttotal: 356ms\tremaining: 725ms\n",
      "329:\tlearn: 0.1743768\ttotal: 356ms\tremaining: 724ms\n",
      "330:\tlearn: 0.1740644\ttotal: 357ms\tremaining: 722ms\n",
      "331:\tlearn: 0.1739237\ttotal: 358ms\tremaining: 720ms\n",
      "332:\tlearn: 0.1735355\ttotal: 359ms\tremaining: 718ms\n",
      "333:\tlearn: 0.1731230\ttotal: 359ms\tremaining: 716ms\n",
      "334:\tlearn: 0.1726803\ttotal: 360ms\tremaining: 715ms\n",
      "335:\tlearn: 0.1724959\ttotal: 361ms\tremaining: 713ms\n",
      "336:\tlearn: 0.1720173\ttotal: 361ms\tremaining: 711ms\n",
      "337:\tlearn: 0.1715560\ttotal: 362ms\tremaining: 709ms\n",
      "338:\tlearn: 0.1714458\ttotal: 363ms\tremaining: 707ms\n",
      "339:\tlearn: 0.1709095\ttotal: 363ms\tremaining: 706ms\n",
      "340:\tlearn: 0.1706573\ttotal: 364ms\tremaining: 704ms\n",
      "341:\tlearn: 0.1704534\ttotal: 365ms\tremaining: 702ms\n",
      "342:\tlearn: 0.1701511\ttotal: 366ms\tremaining: 700ms\n",
      "343:\tlearn: 0.1696309\ttotal: 366ms\tremaining: 699ms\n",
      "344:\tlearn: 0.1693153\ttotal: 367ms\tremaining: 697ms\n",
      "345:\tlearn: 0.1687986\ttotal: 368ms\tremaining: 695ms\n",
      "346:\tlearn: 0.1684142\ttotal: 368ms\tremaining: 693ms\n",
      "347:\tlearn: 0.1682817\ttotal: 369ms\tremaining: 692ms\n",
      "348:\tlearn: 0.1678938\ttotal: 370ms\tremaining: 690ms\n",
      "349:\tlearn: 0.1676078\ttotal: 370ms\tremaining: 688ms\n",
      "350:\tlearn: 0.1673142\ttotal: 371ms\tremaining: 686ms\n",
      "351:\tlearn: 0.1667461\ttotal: 372ms\tremaining: 684ms\n",
      "352:\tlearn: 0.1664556\ttotal: 373ms\tremaining: 683ms\n",
      "353:\tlearn: 0.1660194\ttotal: 373ms\tremaining: 681ms\n"
     ]
    },
    {
     "name": "stdout",
     "output_type": "stream",
     "text": [
      "354:\tlearn: 0.1654487\ttotal: 374ms\tremaining: 680ms\n",
      "355:\tlearn: 0.1649476\ttotal: 375ms\tremaining: 678ms\n",
      "356:\tlearn: 0.1645211\ttotal: 376ms\tremaining: 677ms\n",
      "357:\tlearn: 0.1639843\ttotal: 376ms\tremaining: 675ms\n",
      "358:\tlearn: 0.1637908\ttotal: 377ms\tremaining: 673ms\n",
      "359:\tlearn: 0.1634953\ttotal: 378ms\tremaining: 672ms\n",
      "360:\tlearn: 0.1630098\ttotal: 378ms\tremaining: 670ms\n",
      "361:\tlearn: 0.1625712\ttotal: 379ms\tremaining: 668ms\n",
      "362:\tlearn: 0.1621642\ttotal: 380ms\tremaining: 667ms\n",
      "363:\tlearn: 0.1616603\ttotal: 381ms\tremaining: 665ms\n",
      "364:\tlearn: 0.1613509\ttotal: 381ms\tremaining: 664ms\n",
      "365:\tlearn: 0.1607224\ttotal: 382ms\tremaining: 662ms\n",
      "366:\tlearn: 0.1605787\ttotal: 383ms\tremaining: 661ms\n",
      "367:\tlearn: 0.1601644\ttotal: 384ms\tremaining: 660ms\n",
      "368:\tlearn: 0.1597003\ttotal: 385ms\tremaining: 659ms\n",
      "369:\tlearn: 0.1593771\ttotal: 386ms\tremaining: 658ms\n",
      "370:\tlearn: 0.1588590\ttotal: 387ms\tremaining: 657ms\n",
      "371:\tlearn: 0.1585816\ttotal: 388ms\tremaining: 655ms\n",
      "372:\tlearn: 0.1582758\ttotal: 389ms\tremaining: 654ms\n",
      "373:\tlearn: 0.1578957\ttotal: 390ms\tremaining: 652ms\n",
      "374:\tlearn: 0.1574405\ttotal: 390ms\tremaining: 650ms\n",
      "375:\tlearn: 0.1571619\ttotal: 391ms\tremaining: 649ms\n",
      "376:\tlearn: 0.1568013\ttotal: 392ms\tremaining: 647ms\n",
      "377:\tlearn: 0.1564874\ttotal: 392ms\tremaining: 646ms\n",
      "378:\tlearn: 0.1561176\ttotal: 393ms\tremaining: 644ms\n",
      "379:\tlearn: 0.1557574\ttotal: 394ms\tremaining: 643ms\n",
      "380:\tlearn: 0.1555685\ttotal: 395ms\tremaining: 642ms\n",
      "381:\tlearn: 0.1551770\ttotal: 396ms\tremaining: 641ms\n",
      "382:\tlearn: 0.1548140\ttotal: 397ms\tremaining: 640ms\n",
      "383:\tlearn: 0.1543991\ttotal: 398ms\tremaining: 638ms\n",
      "384:\tlearn: 0.1540539\ttotal: 399ms\tremaining: 637ms\n",
      "385:\tlearn: 0.1537334\ttotal: 399ms\tremaining: 635ms\n",
      "386:\tlearn: 0.1534387\ttotal: 400ms\tremaining: 634ms\n",
      "387:\tlearn: 0.1531752\ttotal: 401ms\tremaining: 632ms\n",
      "388:\tlearn: 0.1530072\ttotal: 402ms\tremaining: 631ms\n",
      "389:\tlearn: 0.1526479\ttotal: 402ms\tremaining: 629ms\n",
      "390:\tlearn: 0.1523635\ttotal: 403ms\tremaining: 628ms\n",
      "391:\tlearn: 0.1520124\ttotal: 404ms\tremaining: 626ms\n",
      "392:\tlearn: 0.1517073\ttotal: 405ms\tremaining: 625ms\n",
      "393:\tlearn: 0.1513796\ttotal: 406ms\tremaining: 624ms\n",
      "394:\tlearn: 0.1510936\ttotal: 407ms\tremaining: 623ms\n",
      "395:\tlearn: 0.1508386\ttotal: 407ms\tremaining: 622ms\n",
      "396:\tlearn: 0.1505020\ttotal: 408ms\tremaining: 620ms\n",
      "397:\tlearn: 0.1500814\ttotal: 409ms\tremaining: 619ms\n",
      "398:\tlearn: 0.1498896\ttotal: 410ms\tremaining: 618ms\n",
      "399:\tlearn: 0.1496104\ttotal: 411ms\tremaining: 617ms\n",
      "400:\tlearn: 0.1494264\ttotal: 412ms\tremaining: 615ms\n",
      "401:\tlearn: 0.1490815\ttotal: 413ms\tremaining: 614ms\n",
      "402:\tlearn: 0.1486438\ttotal: 413ms\tremaining: 612ms\n",
      "403:\tlearn: 0.1483489\ttotal: 414ms\tremaining: 611ms\n",
      "404:\tlearn: 0.1481594\ttotal: 415ms\tremaining: 609ms\n",
      "405:\tlearn: 0.1477829\ttotal: 415ms\tremaining: 608ms\n",
      "406:\tlearn: 0.1474174\ttotal: 416ms\tremaining: 606ms\n",
      "407:\tlearn: 0.1471470\ttotal: 417ms\tremaining: 605ms\n",
      "408:\tlearn: 0.1470339\ttotal: 418ms\tremaining: 604ms\n",
      "409:\tlearn: 0.1466695\ttotal: 418ms\tremaining: 602ms\n",
      "410:\tlearn: 0.1464397\ttotal: 419ms\tremaining: 601ms\n",
      "411:\tlearn: 0.1459917\ttotal: 420ms\tremaining: 599ms\n",
      "412:\tlearn: 0.1457195\ttotal: 420ms\tremaining: 597ms\n",
      "413:\tlearn: 0.1455437\ttotal: 421ms\tremaining: 596ms\n",
      "414:\tlearn: 0.1452479\ttotal: 422ms\tremaining: 595ms\n",
      "415:\tlearn: 0.1450348\ttotal: 422ms\tremaining: 593ms\n",
      "416:\tlearn: 0.1447515\ttotal: 423ms\tremaining: 592ms\n",
      "417:\tlearn: 0.1444774\ttotal: 424ms\tremaining: 590ms\n",
      "418:\tlearn: 0.1441444\ttotal: 425ms\tremaining: 589ms\n",
      "419:\tlearn: 0.1440580\ttotal: 426ms\tremaining: 588ms\n",
      "420:\tlearn: 0.1438619\ttotal: 426ms\tremaining: 586ms\n",
      "421:\tlearn: 0.1435095\ttotal: 427ms\tremaining: 585ms\n",
      "422:\tlearn: 0.1432729\ttotal: 428ms\tremaining: 584ms\n",
      "423:\tlearn: 0.1431311\ttotal: 429ms\tremaining: 582ms\n",
      "424:\tlearn: 0.1428046\ttotal: 430ms\tremaining: 581ms\n",
      "425:\tlearn: 0.1425614\ttotal: 430ms\tremaining: 580ms\n",
      "426:\tlearn: 0.1421847\ttotal: 431ms\tremaining: 579ms\n",
      "427:\tlearn: 0.1421152\ttotal: 432ms\tremaining: 577ms\n",
      "428:\tlearn: 0.1418561\ttotal: 433ms\tremaining: 576ms\n",
      "429:\tlearn: 0.1417564\ttotal: 434ms\tremaining: 575ms\n",
      "430:\tlearn: 0.1414688\ttotal: 435ms\tremaining: 574ms\n",
      "431:\tlearn: 0.1413750\ttotal: 436ms\tremaining: 573ms\n",
      "432:\tlearn: 0.1410892\ttotal: 437ms\tremaining: 572ms\n",
      "433:\tlearn: 0.1407248\ttotal: 438ms\tremaining: 571ms\n",
      "434:\tlearn: 0.1403549\ttotal: 439ms\tremaining: 570ms\n",
      "435:\tlearn: 0.1402506\ttotal: 440ms\tremaining: 569ms\n",
      "436:\tlearn: 0.1399737\ttotal: 441ms\tremaining: 568ms\n",
      "437:\tlearn: 0.1398933\ttotal: 442ms\tremaining: 568ms\n",
      "438:\tlearn: 0.1396678\ttotal: 443ms\tremaining: 566ms\n",
      "439:\tlearn: 0.1393752\ttotal: 444ms\tremaining: 565ms\n",
      "440:\tlearn: 0.1391613\ttotal: 445ms\tremaining: 565ms\n",
      "441:\tlearn: 0.1391216\ttotal: 447ms\tremaining: 564ms\n",
      "442:\tlearn: 0.1389910\ttotal: 448ms\tremaining: 563ms\n",
      "443:\tlearn: 0.1386478\ttotal: 449ms\tremaining: 562ms\n",
      "444:\tlearn: 0.1385869\ttotal: 449ms\tremaining: 560ms\n",
      "445:\tlearn: 0.1384780\ttotal: 450ms\tremaining: 559ms\n",
      "446:\tlearn: 0.1380296\ttotal: 451ms\tremaining: 559ms\n",
      "447:\tlearn: 0.1379321\ttotal: 453ms\tremaining: 558ms\n",
      "448:\tlearn: 0.1374820\ttotal: 454ms\tremaining: 557ms\n",
      "449:\tlearn: 0.1371204\ttotal: 455ms\tremaining: 556ms\n",
      "450:\tlearn: 0.1367857\ttotal: 456ms\tremaining: 555ms\n",
      "451:\tlearn: 0.1364165\ttotal: 457ms\tremaining: 554ms\n",
      "452:\tlearn: 0.1361052\ttotal: 458ms\tremaining: 553ms\n"
     ]
    },
    {
     "name": "stdout",
     "output_type": "stream",
     "text": [
      "453:\tlearn: 0.1357890\ttotal: 460ms\tremaining: 553ms\n",
      "454:\tlearn: 0.1355826\ttotal: 461ms\tremaining: 552ms\n",
      "455:\tlearn: 0.1354870\ttotal: 462ms\tremaining: 551ms\n",
      "456:\tlearn: 0.1351794\ttotal: 463ms\tremaining: 550ms\n",
      "457:\tlearn: 0.1351059\ttotal: 464ms\tremaining: 550ms\n",
      "458:\tlearn: 0.1346937\ttotal: 466ms\tremaining: 549ms\n",
      "459:\tlearn: 0.1343342\ttotal: 467ms\tremaining: 548ms\n",
      "460:\tlearn: 0.1339777\ttotal: 468ms\tremaining: 547ms\n",
      "461:\tlearn: 0.1336699\ttotal: 469ms\tremaining: 546ms\n",
      "462:\tlearn: 0.1333225\ttotal: 470ms\tremaining: 545ms\n",
      "463:\tlearn: 0.1332049\ttotal: 471ms\tremaining: 544ms\n",
      "464:\tlearn: 0.1329950\ttotal: 472ms\tremaining: 543ms\n",
      "465:\tlearn: 0.1329157\ttotal: 473ms\tremaining: 542ms\n",
      "466:\tlearn: 0.1325192\ttotal: 474ms\tremaining: 541ms\n",
      "467:\tlearn: 0.1324146\ttotal: 475ms\tremaining: 540ms\n",
      "468:\tlearn: 0.1322168\ttotal: 476ms\tremaining: 539ms\n",
      "469:\tlearn: 0.1321809\ttotal: 477ms\tremaining: 538ms\n",
      "470:\tlearn: 0.1318176\ttotal: 479ms\tremaining: 538ms\n",
      "471:\tlearn: 0.1315228\ttotal: 480ms\tremaining: 537ms\n",
      "472:\tlearn: 0.1313706\ttotal: 482ms\tremaining: 537ms\n",
      "473:\tlearn: 0.1311003\ttotal: 483ms\tremaining: 536ms\n",
      "474:\tlearn: 0.1308264\ttotal: 484ms\tremaining: 535ms\n",
      "475:\tlearn: 0.1304886\ttotal: 485ms\tremaining: 534ms\n",
      "476:\tlearn: 0.1303414\ttotal: 486ms\tremaining: 533ms\n",
      "477:\tlearn: 0.1300445\ttotal: 487ms\tremaining: 532ms\n",
      "478:\tlearn: 0.1297700\ttotal: 488ms\tremaining: 531ms\n",
      "479:\tlearn: 0.1295617\ttotal: 489ms\tremaining: 530ms\n",
      "480:\tlearn: 0.1292979\ttotal: 491ms\tremaining: 529ms\n",
      "481:\tlearn: 0.1290600\ttotal: 492ms\tremaining: 528ms\n",
      "482:\tlearn: 0.1289945\ttotal: 493ms\tremaining: 527ms\n",
      "483:\tlearn: 0.1288684\ttotal: 494ms\tremaining: 526ms\n",
      "484:\tlearn: 0.1286421\ttotal: 495ms\tremaining: 525ms\n",
      "485:\tlearn: 0.1284357\ttotal: 495ms\tremaining: 524ms\n",
      "486:\tlearn: 0.1282125\ttotal: 496ms\tremaining: 523ms\n",
      "487:\tlearn: 0.1279861\ttotal: 497ms\tremaining: 522ms\n",
      "488:\tlearn: 0.1276641\ttotal: 498ms\tremaining: 521ms\n",
      "489:\tlearn: 0.1274093\ttotal: 499ms\tremaining: 519ms\n",
      "490:\tlearn: 0.1272907\ttotal: 500ms\tremaining: 518ms\n",
      "491:\tlearn: 0.1269701\ttotal: 501ms\tremaining: 517ms\n",
      "492:\tlearn: 0.1267229\ttotal: 502ms\tremaining: 516ms\n",
      "493:\tlearn: 0.1264963\ttotal: 503ms\tremaining: 515ms\n",
      "494:\tlearn: 0.1261936\ttotal: 504ms\tremaining: 514ms\n",
      "495:\tlearn: 0.1259728\ttotal: 505ms\tremaining: 513ms\n",
      "496:\tlearn: 0.1256540\ttotal: 505ms\tremaining: 512ms\n",
      "497:\tlearn: 0.1254292\ttotal: 506ms\tremaining: 510ms\n",
      "498:\tlearn: 0.1251324\ttotal: 507ms\tremaining: 509ms\n",
      "499:\tlearn: 0.1250861\ttotal: 508ms\tremaining: 508ms\n",
      "500:\tlearn: 0.1250412\ttotal: 509ms\tremaining: 507ms\n",
      "501:\tlearn: 0.1247837\ttotal: 510ms\tremaining: 506ms\n",
      "502:\tlearn: 0.1245025\ttotal: 511ms\tremaining: 505ms\n",
      "503:\tlearn: 0.1242829\ttotal: 513ms\tremaining: 504ms\n",
      "504:\tlearn: 0.1241072\ttotal: 514ms\tremaining: 503ms\n",
      "505:\tlearn: 0.1239073\ttotal: 515ms\tremaining: 503ms\n",
      "506:\tlearn: 0.1236583\ttotal: 516ms\tremaining: 502ms\n",
      "507:\tlearn: 0.1234162\ttotal: 517ms\tremaining: 501ms\n",
      "508:\tlearn: 0.1231754\ttotal: 518ms\tremaining: 500ms\n",
      "509:\tlearn: 0.1230484\ttotal: 519ms\tremaining: 499ms\n",
      "510:\tlearn: 0.1227520\ttotal: 520ms\tremaining: 498ms\n",
      "511:\tlearn: 0.1226488\ttotal: 522ms\tremaining: 497ms\n",
      "512:\tlearn: 0.1224559\ttotal: 523ms\tremaining: 496ms\n",
      "513:\tlearn: 0.1223580\ttotal: 524ms\tremaining: 495ms\n",
      "514:\tlearn: 0.1220972\ttotal: 524ms\tremaining: 494ms\n",
      "515:\tlearn: 0.1217856\ttotal: 525ms\tremaining: 493ms\n",
      "516:\tlearn: 0.1216469\ttotal: 526ms\tremaining: 492ms\n",
      "517:\tlearn: 0.1214704\ttotal: 527ms\tremaining: 491ms\n",
      "518:\tlearn: 0.1214248\ttotal: 528ms\tremaining: 489ms\n",
      "519:\tlearn: 0.1212385\ttotal: 529ms\tremaining: 488ms\n",
      "520:\tlearn: 0.1208756\ttotal: 530ms\tremaining: 487ms\n",
      "521:\tlearn: 0.1205714\ttotal: 531ms\tremaining: 486ms\n",
      "522:\tlearn: 0.1202745\ttotal: 532ms\tremaining: 485ms\n",
      "523:\tlearn: 0.1200633\ttotal: 533ms\tremaining: 484ms\n",
      "524:\tlearn: 0.1197770\ttotal: 534ms\tremaining: 483ms\n",
      "525:\tlearn: 0.1196052\ttotal: 535ms\tremaining: 483ms\n",
      "526:\tlearn: 0.1194836\ttotal: 537ms\tremaining: 482ms\n",
      "527:\tlearn: 0.1192798\ttotal: 538ms\tremaining: 480ms\n",
      "528:\tlearn: 0.1191871\ttotal: 538ms\tremaining: 479ms\n",
      "529:\tlearn: 0.1189319\ttotal: 540ms\tremaining: 478ms\n",
      "530:\tlearn: 0.1186585\ttotal: 541ms\tremaining: 477ms\n",
      "531:\tlearn: 0.1184099\ttotal: 542ms\tremaining: 477ms\n",
      "532:\tlearn: 0.1181315\ttotal: 543ms\tremaining: 476ms\n",
      "533:\tlearn: 0.1178927\ttotal: 544ms\tremaining: 475ms\n",
      "534:\tlearn: 0.1177191\ttotal: 546ms\tremaining: 475ms\n",
      "535:\tlearn: 0.1174561\ttotal: 550ms\tremaining: 476ms\n",
      "536:\tlearn: 0.1171607\ttotal: 552ms\tremaining: 476ms\n",
      "537:\tlearn: 0.1170988\ttotal: 560ms\tremaining: 481ms\n",
      "538:\tlearn: 0.1170464\ttotal: 562ms\tremaining: 481ms\n"
     ]
    },
    {
     "name": "stdout",
     "output_type": "stream",
     "text": [
      "539:\tlearn: 0.1167968\ttotal: 566ms\tremaining: 482ms\n",
      "540:\tlearn: 0.1165043\ttotal: 569ms\tremaining: 483ms\n",
      "541:\tlearn: 0.1163219\ttotal: 572ms\tremaining: 484ms\n",
      "542:\tlearn: 0.1159223\ttotal: 574ms\tremaining: 483ms\n",
      "543:\tlearn: 0.1157361\ttotal: 576ms\tremaining: 483ms\n",
      "544:\tlearn: 0.1155107\ttotal: 578ms\tremaining: 483ms\n",
      "545:\tlearn: 0.1152995\ttotal: 581ms\tremaining: 483ms\n",
      "546:\tlearn: 0.1149694\ttotal: 582ms\tremaining: 482ms\n",
      "547:\tlearn: 0.1146510\ttotal: 583ms\tremaining: 481ms\n",
      "548:\tlearn: 0.1144358\ttotal: 585ms\tremaining: 480ms\n",
      "549:\tlearn: 0.1142941\ttotal: 586ms\tremaining: 479ms\n",
      "550:\tlearn: 0.1141098\ttotal: 589ms\tremaining: 480ms\n",
      "551:\tlearn: 0.1139285\ttotal: 591ms\tremaining: 480ms\n",
      "552:\tlearn: 0.1137091\ttotal: 594ms\tremaining: 480ms\n",
      "553:\tlearn: 0.1134813\ttotal: 595ms\tremaining: 479ms\n",
      "554:\tlearn: 0.1132337\ttotal: 596ms\tremaining: 478ms\n",
      "555:\tlearn: 0.1130621\ttotal: 597ms\tremaining: 477ms\n",
      "556:\tlearn: 0.1129971\ttotal: 598ms\tremaining: 476ms\n",
      "557:\tlearn: 0.1127688\ttotal: 600ms\tremaining: 475ms\n",
      "558:\tlearn: 0.1127357\ttotal: 601ms\tremaining: 474ms\n",
      "559:\tlearn: 0.1126674\ttotal: 603ms\tremaining: 474ms\n",
      "560:\tlearn: 0.1125945\ttotal: 604ms\tremaining: 472ms\n",
      "561:\tlearn: 0.1124852\ttotal: 605ms\tremaining: 471ms\n",
      "562:\tlearn: 0.1122074\ttotal: 606ms\tremaining: 470ms\n",
      "563:\tlearn: 0.1119843\ttotal: 607ms\tremaining: 469ms\n",
      "564:\tlearn: 0.1117774\ttotal: 608ms\tremaining: 468ms\n",
      "565:\tlearn: 0.1115368\ttotal: 609ms\tremaining: 467ms\n",
      "566:\tlearn: 0.1113365\ttotal: 610ms\tremaining: 466ms\n",
      "567:\tlearn: 0.1110230\ttotal: 611ms\tremaining: 465ms\n",
      "568:\tlearn: 0.1109643\ttotal: 612ms\tremaining: 464ms\n",
      "569:\tlearn: 0.1107765\ttotal: 613ms\tremaining: 463ms\n",
      "570:\tlearn: 0.1107143\ttotal: 614ms\tremaining: 461ms\n",
      "571:\tlearn: 0.1105760\ttotal: 616ms\tremaining: 461ms\n",
      "572:\tlearn: 0.1105145\ttotal: 617ms\tremaining: 460ms\n",
      "573:\tlearn: 0.1103236\ttotal: 618ms\tremaining: 459ms\n",
      "574:\tlearn: 0.1100665\ttotal: 619ms\tremaining: 458ms\n",
      "575:\tlearn: 0.1100055\ttotal: 620ms\tremaining: 456ms\n",
      "576:\tlearn: 0.1098265\ttotal: 621ms\tremaining: 455ms\n",
      "577:\tlearn: 0.1095109\ttotal: 622ms\tremaining: 454ms\n",
      "578:\tlearn: 0.1092606\ttotal: 623ms\tremaining: 453ms\n",
      "579:\tlearn: 0.1090042\ttotal: 624ms\tremaining: 452ms\n",
      "580:\tlearn: 0.1087609\ttotal: 625ms\tremaining: 451ms\n",
      "581:\tlearn: 0.1086265\ttotal: 625ms\tremaining: 449ms\n",
      "582:\tlearn: 0.1083903\ttotal: 626ms\tremaining: 448ms\n",
      "583:\tlearn: 0.1081465\ttotal: 627ms\tremaining: 447ms\n",
      "584:\tlearn: 0.1079459\ttotal: 628ms\tremaining: 446ms\n",
      "585:\tlearn: 0.1076571\ttotal: 629ms\tremaining: 444ms\n",
      "586:\tlearn: 0.1073858\ttotal: 630ms\tremaining: 443ms\n",
      "587:\tlearn: 0.1071600\ttotal: 631ms\tremaining: 442ms\n",
      "588:\tlearn: 0.1070564\ttotal: 632ms\tremaining: 441ms\n",
      "589:\tlearn: 0.1069654\ttotal: 633ms\tremaining: 440ms\n",
      "590:\tlearn: 0.1068213\ttotal: 634ms\tremaining: 439ms\n",
      "591:\tlearn: 0.1067482\ttotal: 634ms\tremaining: 437ms\n",
      "592:\tlearn: 0.1065859\ttotal: 635ms\tremaining: 436ms\n",
      "593:\tlearn: 0.1063805\ttotal: 636ms\tremaining: 435ms\n",
      "594:\tlearn: 0.1061468\ttotal: 637ms\tremaining: 434ms\n",
      "595:\tlearn: 0.1059210\ttotal: 638ms\tremaining: 433ms\n",
      "596:\tlearn: 0.1058699\ttotal: 639ms\tremaining: 431ms\n",
      "597:\tlearn: 0.1056616\ttotal: 640ms\tremaining: 430ms\n",
      "598:\tlearn: 0.1054708\ttotal: 641ms\tremaining: 429ms\n",
      "599:\tlearn: 0.1052566\ttotal: 642ms\tremaining: 428ms\n",
      "600:\tlearn: 0.1052049\ttotal: 642ms\tremaining: 427ms\n",
      "601:\tlearn: 0.1050294\ttotal: 643ms\tremaining: 425ms\n",
      "602:\tlearn: 0.1049805\ttotal: 644ms\tremaining: 424ms\n"
     ]
    },
    {
     "name": "stdout",
     "output_type": "stream",
     "text": [
      "603:\tlearn: 0.1048119\ttotal: 645ms\tremaining: 423ms\n",
      "604:\tlearn: 0.1045768\ttotal: 647ms\tremaining: 422ms\n",
      "605:\tlearn: 0.1042717\ttotal: 648ms\tremaining: 421ms\n",
      "606:\tlearn: 0.1040495\ttotal: 648ms\tremaining: 420ms\n",
      "607:\tlearn: 0.1038196\ttotal: 649ms\tremaining: 419ms\n",
      "608:\tlearn: 0.1036142\ttotal: 650ms\tremaining: 417ms\n",
      "609:\tlearn: 0.1034463\ttotal: 651ms\tremaining: 416ms\n",
      "610:\tlearn: 0.1033841\ttotal: 652ms\tremaining: 415ms\n",
      "611:\tlearn: 0.1031874\ttotal: 653ms\tremaining: 414ms\n",
      "612:\tlearn: 0.1030300\ttotal: 653ms\tremaining: 412ms\n",
      "613:\tlearn: 0.1029756\ttotal: 654ms\tremaining: 411ms\n",
      "614:\tlearn: 0.1027931\ttotal: 655ms\tremaining: 410ms\n",
      "615:\tlearn: 0.1025827\ttotal: 656ms\tremaining: 409ms\n",
      "616:\tlearn: 0.1023344\ttotal: 657ms\tremaining: 408ms\n",
      "617:\tlearn: 0.1022697\ttotal: 657ms\tremaining: 406ms\n",
      "618:\tlearn: 0.1021826\ttotal: 658ms\tremaining: 405ms\n",
      "619:\tlearn: 0.1020391\ttotal: 659ms\tremaining: 404ms\n",
      "620:\tlearn: 0.1019969\ttotal: 660ms\tremaining: 403ms\n",
      "621:\tlearn: 0.1018411\ttotal: 661ms\tremaining: 401ms\n",
      "622:\tlearn: 0.1016776\ttotal: 662ms\tremaining: 400ms\n",
      "623:\tlearn: 0.1016350\ttotal: 663ms\tremaining: 399ms\n",
      "624:\tlearn: 0.1015706\ttotal: 664ms\tremaining: 398ms\n",
      "625:\tlearn: 0.1013632\ttotal: 665ms\tremaining: 397ms\n",
      "626:\tlearn: 0.1013208\ttotal: 666ms\tremaining: 396ms\n",
      "627:\tlearn: 0.1010879\ttotal: 667ms\tremaining: 395ms\n",
      "628:\tlearn: 0.1010467\ttotal: 668ms\tremaining: 394ms\n",
      "629:\tlearn: 0.1008438\ttotal: 669ms\tremaining: 393ms\n",
      "630:\tlearn: 0.1007243\ttotal: 670ms\tremaining: 392ms\n",
      "631:\tlearn: 0.1005893\ttotal: 671ms\tremaining: 390ms\n",
      "632:\tlearn: 0.1004920\ttotal: 671ms\tremaining: 389ms\n",
      "633:\tlearn: 0.1002783\ttotal: 672ms\tremaining: 388ms\n",
      "634:\tlearn: 0.1000156\ttotal: 673ms\tremaining: 387ms\n",
      "635:\tlearn: 0.0998528\ttotal: 674ms\tremaining: 386ms\n",
      "636:\tlearn: 0.0997327\ttotal: 675ms\tremaining: 385ms\n",
      "637:\tlearn: 0.0995324\ttotal: 676ms\tremaining: 383ms\n",
      "638:\tlearn: 0.0993403\ttotal: 677ms\tremaining: 382ms\n",
      "639:\tlearn: 0.0991741\ttotal: 678ms\tremaining: 381ms\n",
      "640:\tlearn: 0.0991294\ttotal: 679ms\tremaining: 380ms\n",
      "641:\tlearn: 0.0989215\ttotal: 680ms\tremaining: 379ms\n",
      "642:\tlearn: 0.0986286\ttotal: 681ms\tremaining: 378ms\n",
      "643:\tlearn: 0.0985764\ttotal: 682ms\tremaining: 377ms\n",
      "644:\tlearn: 0.0983769\ttotal: 683ms\tremaining: 376ms\n",
      "645:\tlearn: 0.0980949\ttotal: 684ms\tremaining: 375ms\n",
      "646:\tlearn: 0.0979153\ttotal: 685ms\tremaining: 374ms\n",
      "647:\tlearn: 0.0977441\ttotal: 686ms\tremaining: 372ms\n",
      "648:\tlearn: 0.0975528\ttotal: 687ms\tremaining: 371ms\n",
      "649:\tlearn: 0.0975040\ttotal: 688ms\tremaining: 370ms\n",
      "650:\tlearn: 0.0974056\ttotal: 689ms\tremaining: 369ms\n",
      "651:\tlearn: 0.0973589\ttotal: 689ms\tremaining: 368ms\n",
      "652:\tlearn: 0.0971702\ttotal: 690ms\tremaining: 367ms\n",
      "653:\tlearn: 0.0971355\ttotal: 691ms\tremaining: 366ms\n",
      "654:\tlearn: 0.0969945\ttotal: 692ms\tremaining: 364ms\n",
      "655:\tlearn: 0.0969778\ttotal: 693ms\tremaining: 363ms\n",
      "656:\tlearn: 0.0967653\ttotal: 694ms\tremaining: 362ms\n",
      "657:\tlearn: 0.0966287\ttotal: 695ms\tremaining: 361ms\n",
      "658:\tlearn: 0.0965084\ttotal: 696ms\tremaining: 360ms\n",
      "659:\tlearn: 0.0963179\ttotal: 697ms\tremaining: 359ms\n",
      "660:\tlearn: 0.0962492\ttotal: 698ms\tremaining: 358ms\n",
      "661:\tlearn: 0.0960104\ttotal: 698ms\tremaining: 357ms\n",
      "662:\tlearn: 0.0957275\ttotal: 699ms\tremaining: 355ms\n",
      "663:\tlearn: 0.0955162\ttotal: 700ms\tremaining: 354ms\n",
      "664:\tlearn: 0.0953415\ttotal: 701ms\tremaining: 353ms\n",
      "665:\tlearn: 0.0952227\ttotal: 702ms\tremaining: 352ms\n",
      "666:\tlearn: 0.0950735\ttotal: 703ms\tremaining: 351ms\n",
      "667:\tlearn: 0.0950521\ttotal: 703ms\tremaining: 350ms\n",
      "668:\tlearn: 0.0949104\ttotal: 704ms\tremaining: 348ms\n",
      "669:\tlearn: 0.0947180\ttotal: 705ms\tremaining: 347ms\n",
      "670:\tlearn: 0.0945791\ttotal: 706ms\tremaining: 346ms\n",
      "671:\tlearn: 0.0944488\ttotal: 707ms\tremaining: 345ms\n",
      "672:\tlearn: 0.0943424\ttotal: 707ms\tremaining: 344ms\n",
      "673:\tlearn: 0.0941957\ttotal: 708ms\tremaining: 343ms\n",
      "674:\tlearn: 0.0940226\ttotal: 709ms\tremaining: 342ms\n",
      "675:\tlearn: 0.0939159\ttotal: 710ms\tremaining: 340ms\n",
      "676:\tlearn: 0.0938123\ttotal: 711ms\tremaining: 339ms\n",
      "677:\tlearn: 0.0936484\ttotal: 712ms\tremaining: 338ms\n",
      "678:\tlearn: 0.0935403\ttotal: 713ms\tremaining: 337ms\n",
      "679:\tlearn: 0.0933849\ttotal: 714ms\tremaining: 336ms\n",
      "680:\tlearn: 0.0932583\ttotal: 715ms\tremaining: 335ms\n",
      "681:\tlearn: 0.0930337\ttotal: 715ms\tremaining: 334ms\n",
      "682:\tlearn: 0.0928789\ttotal: 716ms\tremaining: 333ms\n",
      "683:\tlearn: 0.0928343\ttotal: 717ms\tremaining: 331ms\n",
      "684:\tlearn: 0.0926435\ttotal: 718ms\tremaining: 330ms\n",
      "685:\tlearn: 0.0924559\ttotal: 719ms\tremaining: 329ms\n",
      "686:\tlearn: 0.0922529\ttotal: 720ms\tremaining: 328ms\n",
      "687:\tlearn: 0.0920157\ttotal: 721ms\tremaining: 327ms\n",
      "688:\tlearn: 0.0918497\ttotal: 722ms\tremaining: 326ms\n",
      "689:\tlearn: 0.0917280\ttotal: 723ms\tremaining: 325ms\n",
      "690:\tlearn: 0.0915644\ttotal: 724ms\tremaining: 324ms\n",
      "691:\tlearn: 0.0913478\ttotal: 725ms\tremaining: 323ms\n",
      "692:\tlearn: 0.0911578\ttotal: 726ms\tremaining: 322ms\n",
      "693:\tlearn: 0.0910486\ttotal: 727ms\tremaining: 320ms\n",
      "694:\tlearn: 0.0908262\ttotal: 728ms\tremaining: 319ms\n",
      "695:\tlearn: 0.0907189\ttotal: 729ms\tremaining: 318ms\n",
      "696:\tlearn: 0.0906060\ttotal: 729ms\tremaining: 317ms\n",
      "697:\tlearn: 0.0904265\ttotal: 730ms\tremaining: 316ms\n",
      "698:\tlearn: 0.0902912\ttotal: 731ms\tremaining: 315ms\n",
      "699:\tlearn: 0.0900971\ttotal: 732ms\tremaining: 314ms\n",
      "700:\tlearn: 0.0898606\ttotal: 733ms\tremaining: 313ms\n",
      "701:\tlearn: 0.0898424\ttotal: 734ms\tremaining: 311ms\n",
      "702:\tlearn: 0.0896574\ttotal: 735ms\tremaining: 310ms\n",
      "703:\tlearn: 0.0894542\ttotal: 736ms\tremaining: 309ms\n",
      "704:\tlearn: 0.0892881\ttotal: 737ms\tremaining: 308ms\n",
      "705:\tlearn: 0.0891749\ttotal: 737ms\tremaining: 307ms\n",
      "706:\tlearn: 0.0890304\ttotal: 738ms\tremaining: 306ms\n",
      "707:\tlearn: 0.0889232\ttotal: 739ms\tremaining: 305ms\n",
      "708:\tlearn: 0.0888107\ttotal: 740ms\tremaining: 304ms\n",
      "709:\tlearn: 0.0886778\ttotal: 740ms\tremaining: 302ms\n",
      "710:\tlearn: 0.0885759\ttotal: 741ms\tremaining: 301ms\n",
      "711:\tlearn: 0.0885576\ttotal: 742ms\tremaining: 300ms\n",
      "712:\tlearn: 0.0883815\ttotal: 743ms\tremaining: 299ms\n",
      "713:\tlearn: 0.0882607\ttotal: 744ms\tremaining: 298ms\n",
      "714:\tlearn: 0.0881599\ttotal: 745ms\tremaining: 297ms\n",
      "715:\tlearn: 0.0880053\ttotal: 746ms\tremaining: 296ms\n",
      "716:\tlearn: 0.0878786\ttotal: 747ms\tremaining: 295ms\n",
      "717:\tlearn: 0.0877596\ttotal: 748ms\tremaining: 294ms\n",
      "718:\tlearn: 0.0876786\ttotal: 749ms\tremaining: 293ms\n",
      "719:\tlearn: 0.0874601\ttotal: 750ms\tremaining: 292ms\n",
      "720:\tlearn: 0.0874415\ttotal: 751ms\tremaining: 291ms\n",
      "721:\tlearn: 0.0873068\ttotal: 752ms\tremaining: 289ms\n",
      "722:\tlearn: 0.0871831\ttotal: 752ms\tremaining: 288ms\n",
      "723:\tlearn: 0.0871590\ttotal: 753ms\tremaining: 287ms\n"
     ]
    },
    {
     "name": "stdout",
     "output_type": "stream",
     "text": [
      "724:\tlearn: 0.0870363\ttotal: 754ms\tremaining: 286ms\n",
      "725:\tlearn: 0.0869455\ttotal: 755ms\tremaining: 285ms\n",
      "726:\tlearn: 0.0868378\ttotal: 756ms\tremaining: 284ms\n",
      "727:\tlearn: 0.0867403\ttotal: 757ms\tremaining: 283ms\n",
      "728:\tlearn: 0.0866292\ttotal: 758ms\tremaining: 282ms\n",
      "729:\tlearn: 0.0865119\ttotal: 759ms\tremaining: 281ms\n",
      "730:\tlearn: 0.0864229\ttotal: 760ms\tremaining: 280ms\n",
      "731:\tlearn: 0.0862612\ttotal: 761ms\tremaining: 278ms\n",
      "732:\tlearn: 0.0861152\ttotal: 761ms\tremaining: 277ms\n",
      "733:\tlearn: 0.0859510\ttotal: 763ms\tremaining: 276ms\n",
      "734:\tlearn: 0.0857578\ttotal: 764ms\tremaining: 275ms\n",
      "735:\tlearn: 0.0855229\ttotal: 765ms\tremaining: 274ms\n",
      "736:\tlearn: 0.0855062\ttotal: 766ms\tremaining: 273ms\n",
      "737:\tlearn: 0.0854390\ttotal: 767ms\tremaining: 272ms\n",
      "738:\tlearn: 0.0852867\ttotal: 768ms\tremaining: 271ms\n",
      "739:\tlearn: 0.0852530\ttotal: 769ms\tremaining: 270ms\n",
      "740:\tlearn: 0.0851738\ttotal: 770ms\tremaining: 269ms\n",
      "741:\tlearn: 0.0851486\ttotal: 771ms\tremaining: 268ms\n",
      "742:\tlearn: 0.0850150\ttotal: 772ms\tremaining: 267ms\n",
      "743:\tlearn: 0.0849061\ttotal: 773ms\tremaining: 266ms\n",
      "744:\tlearn: 0.0847761\ttotal: 774ms\tremaining: 265ms\n",
      "745:\tlearn: 0.0846365\ttotal: 775ms\tremaining: 264ms\n",
      "746:\tlearn: 0.0845323\ttotal: 776ms\tremaining: 263ms\n",
      "747:\tlearn: 0.0844490\ttotal: 777ms\tremaining: 262ms\n",
      "748:\tlearn: 0.0842458\ttotal: 778ms\tremaining: 261ms\n",
      "749:\tlearn: 0.0841561\ttotal: 779ms\tremaining: 260ms\n",
      "750:\tlearn: 0.0840204\ttotal: 779ms\tremaining: 258ms\n",
      "751:\tlearn: 0.0838246\ttotal: 780ms\tremaining: 257ms\n",
      "752:\tlearn: 0.0836831\ttotal: 781ms\tremaining: 256ms\n",
      "753:\tlearn: 0.0835604\ttotal: 782ms\tremaining: 255ms\n",
      "754:\tlearn: 0.0834630\ttotal: 783ms\tremaining: 254ms\n",
      "755:\tlearn: 0.0834141\ttotal: 784ms\tremaining: 253ms\n",
      "756:\tlearn: 0.0833304\ttotal: 784ms\tremaining: 252ms\n",
      "757:\tlearn: 0.0832099\ttotal: 785ms\tremaining: 251ms\n",
      "758:\tlearn: 0.0830024\ttotal: 786ms\tremaining: 250ms\n",
      "759:\tlearn: 0.0829054\ttotal: 787ms\tremaining: 248ms\n",
      "760:\tlearn: 0.0827872\ttotal: 788ms\tremaining: 247ms\n",
      "761:\tlearn: 0.0826743\ttotal: 789ms\tremaining: 246ms\n",
      "762:\tlearn: 0.0825155\ttotal: 789ms\tremaining: 245ms\n",
      "763:\tlearn: 0.0823962\ttotal: 790ms\tremaining: 244ms\n",
      "764:\tlearn: 0.0822603\ttotal: 791ms\tremaining: 243ms\n",
      "765:\tlearn: 0.0821726\ttotal: 792ms\tremaining: 242ms\n",
      "766:\tlearn: 0.0821307\ttotal: 793ms\tremaining: 241ms\n",
      "767:\tlearn: 0.0820011\ttotal: 796ms\tremaining: 240ms\n",
      "768:\tlearn: 0.0819247\ttotal: 796ms\tremaining: 239ms\n",
      "769:\tlearn: 0.0818413\ttotal: 797ms\tremaining: 238ms\n",
      "770:\tlearn: 0.0817467\ttotal: 798ms\tremaining: 237ms\n",
      "771:\tlearn: 0.0815345\ttotal: 799ms\tremaining: 236ms\n",
      "772:\tlearn: 0.0813828\ttotal: 799ms\tremaining: 235ms\n",
      "773:\tlearn: 0.0812426\ttotal: 800ms\tremaining: 234ms\n",
      "774:\tlearn: 0.0810627\ttotal: 801ms\tremaining: 233ms\n",
      "775:\tlearn: 0.0809503\ttotal: 802ms\tremaining: 231ms\n",
      "776:\tlearn: 0.0807885\ttotal: 803ms\tremaining: 230ms\n",
      "777:\tlearn: 0.0807505\ttotal: 804ms\tremaining: 229ms\n",
      "778:\tlearn: 0.0806359\ttotal: 805ms\tremaining: 228ms\n",
      "779:\tlearn: 0.0805856\ttotal: 805ms\tremaining: 227ms\n",
      "780:\tlearn: 0.0804214\ttotal: 806ms\tremaining: 226ms\n",
      "781:\tlearn: 0.0803155\ttotal: 807ms\tremaining: 225ms\n",
      "782:\tlearn: 0.0802685\ttotal: 808ms\tremaining: 224ms\n",
      "783:\tlearn: 0.0801871\ttotal: 809ms\tremaining: 223ms\n",
      "784:\tlearn: 0.0801091\ttotal: 810ms\tremaining: 222ms\n",
      "785:\tlearn: 0.0799542\ttotal: 810ms\tremaining: 221ms\n",
      "786:\tlearn: 0.0797961\ttotal: 811ms\tremaining: 220ms\n",
      "787:\tlearn: 0.0796945\ttotal: 812ms\tremaining: 219ms\n",
      "788:\tlearn: 0.0795463\ttotal: 813ms\tremaining: 217ms\n",
      "789:\tlearn: 0.0794979\ttotal: 814ms\tremaining: 216ms\n",
      "790:\tlearn: 0.0793693\ttotal: 814ms\tremaining: 215ms\n",
      "791:\tlearn: 0.0792439\ttotal: 815ms\tremaining: 214ms\n",
      "792:\tlearn: 0.0790314\ttotal: 816ms\tremaining: 213ms\n",
      "793:\tlearn: 0.0789106\ttotal: 817ms\tremaining: 212ms\n",
      "794:\tlearn: 0.0788972\ttotal: 818ms\tremaining: 211ms\n",
      "795:\tlearn: 0.0787955\ttotal: 819ms\tremaining: 210ms\n",
      "796:\tlearn: 0.0787653\ttotal: 820ms\tremaining: 209ms\n",
      "797:\tlearn: 0.0787387\ttotal: 820ms\tremaining: 208ms\n",
      "798:\tlearn: 0.0785862\ttotal: 821ms\tremaining: 207ms\n",
      "799:\tlearn: 0.0784733\ttotal: 822ms\tremaining: 205ms\n",
      "800:\tlearn: 0.0783814\ttotal: 823ms\tremaining: 204ms\n",
      "801:\tlearn: 0.0782029\ttotal: 824ms\tremaining: 203ms\n",
      "802:\tlearn: 0.0780829\ttotal: 824ms\tremaining: 202ms\n",
      "803:\tlearn: 0.0779641\ttotal: 825ms\tremaining: 201ms\n",
      "804:\tlearn: 0.0778649\ttotal: 826ms\tremaining: 200ms\n",
      "805:\tlearn: 0.0777392\ttotal: 827ms\tremaining: 199ms\n",
      "806:\tlearn: 0.0776719\ttotal: 828ms\tremaining: 198ms\n",
      "807:\tlearn: 0.0775014\ttotal: 829ms\tremaining: 197ms\n",
      "808:\tlearn: 0.0774095\ttotal: 830ms\tremaining: 196ms\n",
      "809:\tlearn: 0.0772987\ttotal: 831ms\tremaining: 195ms\n",
      "810:\tlearn: 0.0771950\ttotal: 831ms\tremaining: 194ms\n",
      "811:\tlearn: 0.0771837\ttotal: 832ms\tremaining: 193ms\n",
      "812:\tlearn: 0.0770612\ttotal: 833ms\tremaining: 192ms\n",
      "813:\tlearn: 0.0769528\ttotal: 834ms\tremaining: 191ms\n"
     ]
    },
    {
     "name": "stdout",
     "output_type": "stream",
     "text": [
      "814:\tlearn: 0.0768524\ttotal: 835ms\tremaining: 190ms\n",
      "815:\tlearn: 0.0767611\ttotal: 836ms\tremaining: 188ms\n",
      "816:\tlearn: 0.0767212\ttotal: 837ms\tremaining: 187ms\n",
      "817:\tlearn: 0.0765822\ttotal: 838ms\tremaining: 186ms\n",
      "818:\tlearn: 0.0764826\ttotal: 839ms\tremaining: 185ms\n",
      "819:\tlearn: 0.0763211\ttotal: 840ms\tremaining: 184ms\n",
      "820:\tlearn: 0.0762201\ttotal: 840ms\tremaining: 183ms\n",
      "821:\tlearn: 0.0761194\ttotal: 841ms\tremaining: 182ms\n",
      "822:\tlearn: 0.0760382\ttotal: 842ms\tremaining: 181ms\n",
      "823:\tlearn: 0.0759353\ttotal: 843ms\tremaining: 180ms\n",
      "824:\tlearn: 0.0758249\ttotal: 844ms\tremaining: 179ms\n",
      "825:\tlearn: 0.0757882\ttotal: 845ms\tremaining: 178ms\n",
      "826:\tlearn: 0.0757221\ttotal: 846ms\tremaining: 177ms\n",
      "827:\tlearn: 0.0755798\ttotal: 846ms\tremaining: 176ms\n",
      "828:\tlearn: 0.0753974\ttotal: 847ms\tremaining: 175ms\n",
      "829:\tlearn: 0.0752990\ttotal: 848ms\tremaining: 174ms\n",
      "830:\tlearn: 0.0752082\ttotal: 849ms\tremaining: 173ms\n",
      "831:\tlearn: 0.0751202\ttotal: 850ms\tremaining: 172ms\n",
      "832:\tlearn: 0.0750863\ttotal: 851ms\tremaining: 171ms\n",
      "833:\tlearn: 0.0750232\ttotal: 852ms\tremaining: 170ms\n",
      "834:\tlearn: 0.0748528\ttotal: 853ms\tremaining: 168ms\n",
      "835:\tlearn: 0.0747550\ttotal: 854ms\tremaining: 167ms\n",
      "836:\tlearn: 0.0745878\ttotal: 855ms\tremaining: 166ms\n",
      "837:\tlearn: 0.0744118\ttotal: 855ms\tremaining: 165ms\n",
      "838:\tlearn: 0.0742150\ttotal: 856ms\tremaining: 164ms\n",
      "839:\tlearn: 0.0740920\ttotal: 857ms\tremaining: 163ms\n",
      "840:\tlearn: 0.0739490\ttotal: 859ms\tremaining: 162ms\n",
      "841:\tlearn: 0.0738494\ttotal: 860ms\tremaining: 161ms\n",
      "842:\tlearn: 0.0737297\ttotal: 860ms\tremaining: 160ms\n",
      "843:\tlearn: 0.0735774\ttotal: 861ms\tremaining: 159ms\n",
      "844:\tlearn: 0.0735034\ttotal: 862ms\tremaining: 158ms\n",
      "845:\tlearn: 0.0733319\ttotal: 863ms\tremaining: 157ms\n",
      "846:\tlearn: 0.0732646\ttotal: 864ms\tremaining: 156ms\n",
      "847:\tlearn: 0.0731756\ttotal: 865ms\tremaining: 155ms\n",
      "848:\tlearn: 0.0730118\ttotal: 866ms\tremaining: 154ms\n",
      "849:\tlearn: 0.0728675\ttotal: 867ms\tremaining: 153ms\n",
      "850:\tlearn: 0.0727278\ttotal: 867ms\tremaining: 152ms\n",
      "851:\tlearn: 0.0726123\ttotal: 868ms\tremaining: 151ms\n",
      "852:\tlearn: 0.0725013\ttotal: 869ms\tremaining: 150ms\n",
      "853:\tlearn: 0.0723974\ttotal: 870ms\tremaining: 149ms\n",
      "854:\tlearn: 0.0722475\ttotal: 871ms\tremaining: 148ms\n",
      "855:\tlearn: 0.0720913\ttotal: 872ms\tremaining: 147ms\n",
      "856:\tlearn: 0.0720085\ttotal: 873ms\tremaining: 146ms\n",
      "857:\tlearn: 0.0719787\ttotal: 874ms\tremaining: 145ms\n",
      "858:\tlearn: 0.0719041\ttotal: 874ms\tremaining: 144ms\n",
      "859:\tlearn: 0.0718195\ttotal: 875ms\tremaining: 142ms\n",
      "860:\tlearn: 0.0717127\ttotal: 876ms\tremaining: 141ms\n",
      "861:\tlearn: 0.0716265\ttotal: 877ms\tremaining: 140ms\n",
      "862:\tlearn: 0.0714604\ttotal: 878ms\tremaining: 139ms\n",
      "863:\tlearn: 0.0712952\ttotal: 879ms\tremaining: 138ms\n",
      "864:\tlearn: 0.0712747\ttotal: 879ms\tremaining: 137ms\n",
      "865:\tlearn: 0.0711428\ttotal: 880ms\tremaining: 136ms\n",
      "866:\tlearn: 0.0710367\ttotal: 881ms\tremaining: 135ms\n",
      "867:\tlearn: 0.0709654\ttotal: 883ms\tremaining: 134ms\n",
      "868:\tlearn: 0.0708328\ttotal: 884ms\tremaining: 133ms\n",
      "869:\tlearn: 0.0707191\ttotal: 884ms\tremaining: 132ms\n",
      "870:\tlearn: 0.0705836\ttotal: 885ms\tremaining: 131ms\n",
      "871:\tlearn: 0.0704642\ttotal: 886ms\tremaining: 130ms\n",
      "872:\tlearn: 0.0703920\ttotal: 887ms\tremaining: 129ms\n",
      "873:\tlearn: 0.0703033\ttotal: 888ms\tremaining: 128ms\n",
      "874:\tlearn: 0.0701833\ttotal: 889ms\tremaining: 127ms\n",
      "875:\tlearn: 0.0700702\ttotal: 890ms\tremaining: 126ms\n",
      "876:\tlearn: 0.0699432\ttotal: 890ms\tremaining: 125ms\n",
      "877:\tlearn: 0.0698888\ttotal: 891ms\tremaining: 124ms\n",
      "878:\tlearn: 0.0697730\ttotal: 892ms\tremaining: 123ms\n",
      "879:\tlearn: 0.0696516\ttotal: 893ms\tremaining: 122ms\n",
      "880:\tlearn: 0.0696321\ttotal: 894ms\tremaining: 121ms\n",
      "881:\tlearn: 0.0694849\ttotal: 895ms\tremaining: 120ms\n",
      "882:\tlearn: 0.0694079\ttotal: 895ms\tremaining: 119ms\n",
      "883:\tlearn: 0.0692933\ttotal: 896ms\tremaining: 118ms\n",
      "884:\tlearn: 0.0692210\ttotal: 897ms\tremaining: 117ms\n",
      "885:\tlearn: 0.0690751\ttotal: 898ms\tremaining: 116ms\n",
      "886:\tlearn: 0.0689603\ttotal: 899ms\tremaining: 115ms\n",
      "887:\tlearn: 0.0688039\ttotal: 900ms\tremaining: 114ms\n",
      "888:\tlearn: 0.0686999\ttotal: 901ms\tremaining: 113ms\n",
      "889:\tlearn: 0.0686495\ttotal: 902ms\tremaining: 111ms\n",
      "890:\tlearn: 0.0685616\ttotal: 903ms\tremaining: 110ms\n",
      "891:\tlearn: 0.0684697\ttotal: 904ms\tremaining: 109ms\n",
      "892:\tlearn: 0.0683940\ttotal: 905ms\tremaining: 108ms\n",
      "893:\tlearn: 0.0682971\ttotal: 905ms\tremaining: 107ms\n",
      "894:\tlearn: 0.0681985\ttotal: 906ms\tremaining: 106ms\n",
      "895:\tlearn: 0.0681121\ttotal: 907ms\tremaining: 105ms\n",
      "896:\tlearn: 0.0680288\ttotal: 908ms\tremaining: 104ms\n",
      "897:\tlearn: 0.0679060\ttotal: 909ms\tremaining: 103ms\n",
      "898:\tlearn: 0.0678166\ttotal: 910ms\tremaining: 102ms\n",
      "899:\tlearn: 0.0677047\ttotal: 911ms\tremaining: 101ms\n",
      "900:\tlearn: 0.0675906\ttotal: 911ms\tremaining: 100ms\n",
      "901:\tlearn: 0.0674912\ttotal: 912ms\tremaining: 99.1ms\n",
      "902:\tlearn: 0.0674571\ttotal: 913ms\tremaining: 98.1ms\n",
      "903:\tlearn: 0.0673161\ttotal: 914ms\tremaining: 97.1ms\n",
      "904:\tlearn: 0.0671462\ttotal: 915ms\tremaining: 96ms\n",
      "905:\tlearn: 0.0670486\ttotal: 916ms\tremaining: 95ms\n",
      "906:\tlearn: 0.0670129\ttotal: 916ms\tremaining: 94ms\n",
      "907:\tlearn: 0.0668929\ttotal: 917ms\tremaining: 92.9ms\n",
      "908:\tlearn: 0.0667781\ttotal: 918ms\tremaining: 91.9ms\n",
      "909:\tlearn: 0.0666548\ttotal: 919ms\tremaining: 90.9ms\n",
      "910:\tlearn: 0.0665522\ttotal: 920ms\tremaining: 89.9ms\n",
      "911:\tlearn: 0.0664648\ttotal: 921ms\tremaining: 88.8ms\n",
      "912:\tlearn: 0.0663213\ttotal: 922ms\tremaining: 87.8ms\n",
      "913:\tlearn: 0.0662448\ttotal: 922ms\tremaining: 86.8ms\n",
      "914:\tlearn: 0.0661471\ttotal: 923ms\tremaining: 85.8ms\n",
      "915:\tlearn: 0.0660417\ttotal: 924ms\tremaining: 84.7ms\n",
      "916:\tlearn: 0.0659651\ttotal: 925ms\tremaining: 83.7ms\n",
      "917:\tlearn: 0.0658553\ttotal: 926ms\tremaining: 82.7ms\n",
      "918:\tlearn: 0.0658375\ttotal: 927ms\tremaining: 81.7ms\n",
      "919:\tlearn: 0.0657652\ttotal: 928ms\tremaining: 80.7ms\n",
      "920:\tlearn: 0.0657028\ttotal: 928ms\tremaining: 79.6ms\n",
      "921:\tlearn: 0.0655621\ttotal: 929ms\tremaining: 78.6ms\n",
      "922:\tlearn: 0.0654634\ttotal: 930ms\tremaining: 77.6ms\n",
      "923:\tlearn: 0.0653399\ttotal: 931ms\tremaining: 76.6ms\n",
      "924:\tlearn: 0.0652424\ttotal: 932ms\tremaining: 75.6ms\n",
      "925:\tlearn: 0.0651853\ttotal: 933ms\tremaining: 74.5ms\n",
      "926:\tlearn: 0.0650681\ttotal: 934ms\tremaining: 73.5ms\n",
      "927:\tlearn: 0.0649778\ttotal: 934ms\tremaining: 72.5ms\n",
      "928:\tlearn: 0.0648831\ttotal: 935ms\tremaining: 71.5ms\n",
      "929:\tlearn: 0.0647308\ttotal: 936ms\tremaining: 70.5ms\n",
      "930:\tlearn: 0.0645817\ttotal: 937ms\tremaining: 69.4ms\n",
      "931:\tlearn: 0.0645081\ttotal: 938ms\tremaining: 68.4ms\n",
      "932:\tlearn: 0.0644192\ttotal: 939ms\tremaining: 67.4ms\n",
      "933:\tlearn: 0.0643093\ttotal: 939ms\tremaining: 66.4ms\n",
      "934:\tlearn: 0.0641451\ttotal: 940ms\tremaining: 65.4ms\n",
      "935:\tlearn: 0.0640470\ttotal: 941ms\tremaining: 64.4ms\n",
      "936:\tlearn: 0.0638999\ttotal: 942ms\tremaining: 63.3ms\n",
      "937:\tlearn: 0.0638077\ttotal: 943ms\tremaining: 62.3ms\n",
      "938:\tlearn: 0.0637316\ttotal: 944ms\tremaining: 61.3ms\n",
      "939:\tlearn: 0.0636605\ttotal: 944ms\tremaining: 60.3ms\n"
     ]
    },
    {
     "name": "stdout",
     "output_type": "stream",
     "text": [
      "940:\tlearn: 0.0635541\ttotal: 945ms\tremaining: 59.3ms\n",
      "941:\tlearn: 0.0634548\ttotal: 946ms\tremaining: 58.3ms\n",
      "942:\tlearn: 0.0633855\ttotal: 947ms\tremaining: 57.3ms\n",
      "943:\tlearn: 0.0633052\ttotal: 948ms\tremaining: 56.3ms\n",
      "944:\tlearn: 0.0632220\ttotal: 949ms\tremaining: 55.2ms\n",
      "945:\tlearn: 0.0631548\ttotal: 950ms\tremaining: 54.2ms\n",
      "946:\tlearn: 0.0630808\ttotal: 951ms\tremaining: 53.2ms\n",
      "947:\tlearn: 0.0629971\ttotal: 951ms\tremaining: 52.2ms\n",
      "948:\tlearn: 0.0628885\ttotal: 952ms\tremaining: 51.2ms\n",
      "949:\tlearn: 0.0627888\ttotal: 953ms\tremaining: 50.2ms\n",
      "950:\tlearn: 0.0627153\ttotal: 954ms\tremaining: 49.2ms\n",
      "951:\tlearn: 0.0626384\ttotal: 955ms\tremaining: 48.1ms\n",
      "952:\tlearn: 0.0625585\ttotal: 956ms\tremaining: 47.1ms\n",
      "953:\tlearn: 0.0624892\ttotal: 957ms\tremaining: 46.1ms\n",
      "954:\tlearn: 0.0623492\ttotal: 957ms\tremaining: 45.1ms\n",
      "955:\tlearn: 0.0622645\ttotal: 958ms\tremaining: 44.1ms\n",
      "956:\tlearn: 0.0621982\ttotal: 959ms\tremaining: 43.1ms\n",
      "957:\tlearn: 0.0621294\ttotal: 960ms\tremaining: 42.1ms\n",
      "958:\tlearn: 0.0620155\ttotal: 961ms\tremaining: 41.1ms\n",
      "959:\tlearn: 0.0618472\ttotal: 962ms\tremaining: 40.1ms\n",
      "960:\tlearn: 0.0617764\ttotal: 963ms\tremaining: 39.1ms\n",
      "961:\tlearn: 0.0617097\ttotal: 964ms\tremaining: 38.1ms\n",
      "962:\tlearn: 0.0615518\ttotal: 965ms\tremaining: 37.1ms\n",
      "963:\tlearn: 0.0614686\ttotal: 966ms\tremaining: 36.1ms\n",
      "964:\tlearn: 0.0613263\ttotal: 967ms\tremaining: 35.1ms\n",
      "965:\tlearn: 0.0611724\ttotal: 968ms\tremaining: 34.1ms\n",
      "966:\tlearn: 0.0611114\ttotal: 969ms\tremaining: 33.1ms\n",
      "967:\tlearn: 0.0610042\ttotal: 970ms\tremaining: 32ms\n",
      "968:\tlearn: 0.0608785\ttotal: 970ms\tremaining: 31ms\n",
      "969:\tlearn: 0.0608541\ttotal: 971ms\tremaining: 30ms\n",
      "970:\tlearn: 0.0607978\ttotal: 972ms\tremaining: 29ms\n",
      "971:\tlearn: 0.0607165\ttotal: 973ms\tremaining: 28ms\n",
      "972:\tlearn: 0.0606311\ttotal: 974ms\tremaining: 27ms\n",
      "973:\tlearn: 0.0605492\ttotal: 975ms\tremaining: 26ms\n",
      "974:\tlearn: 0.0604383\ttotal: 975ms\tremaining: 25ms\n",
      "975:\tlearn: 0.0603504\ttotal: 976ms\tremaining: 24ms\n",
      "976:\tlearn: 0.0602377\ttotal: 977ms\tremaining: 23ms\n",
      "977:\tlearn: 0.0601774\ttotal: 978ms\tremaining: 22ms\n",
      "978:\tlearn: 0.0600982\ttotal: 979ms\tremaining: 21ms\n",
      "979:\tlearn: 0.0600336\ttotal: 980ms\tremaining: 20ms\n",
      "980:\tlearn: 0.0599570\ttotal: 981ms\tremaining: 19ms\n",
      "981:\tlearn: 0.0599198\ttotal: 981ms\tremaining: 18ms\n",
      "982:\tlearn: 0.0598323\ttotal: 982ms\tremaining: 17ms\n",
      "983:\tlearn: 0.0598187\ttotal: 983ms\tremaining: 16ms\n",
      "984:\tlearn: 0.0597170\ttotal: 984ms\tremaining: 15ms\n",
      "985:\tlearn: 0.0596426\ttotal: 985ms\tremaining: 14ms\n",
      "986:\tlearn: 0.0595371\ttotal: 985ms\tremaining: 13ms\n",
      "987:\tlearn: 0.0594512\ttotal: 986ms\tremaining: 12ms\n",
      "988:\tlearn: 0.0593691\ttotal: 987ms\tremaining: 11ms\n",
      "989:\tlearn: 0.0592832\ttotal: 988ms\tremaining: 9.97ms\n",
      "990:\tlearn: 0.0591769\ttotal: 988ms\tremaining: 8.97ms\n",
      "991:\tlearn: 0.0590756\ttotal: 989ms\tremaining: 7.98ms\n",
      "992:\tlearn: 0.0590033\ttotal: 990ms\tremaining: 6.98ms\n",
      "993:\tlearn: 0.0589232\ttotal: 991ms\tremaining: 5.98ms\n",
      "994:\tlearn: 0.0588034\ttotal: 992ms\tremaining: 4.98ms\n",
      "995:\tlearn: 0.0586925\ttotal: 993ms\tremaining: 3.99ms\n",
      "996:\tlearn: 0.0586756\ttotal: 993ms\tremaining: 2.99ms\n",
      "997:\tlearn: 0.0586018\ttotal: 994ms\tremaining: 1.99ms\n",
      "998:\tlearn: 0.0585101\ttotal: 995ms\tremaining: 995us\n",
      "999:\tlearn: 0.0584971\ttotal: 996ms\tremaining: 0us\n"
     ]
    },
    {
     "data": {
      "text/plain": [
       "<catboost.core.CatBoostRegressor at 0x7f8338377e20>"
      ]
     },
     "execution_count": 9,
     "metadata": {},
     "output_type": "execute_result"
    }
   ],
   "source": [
    "#Train the Model \n",
    "prior_model = ctb.CatBoostRegressor()\n",
    "prior_model.fit(X_train,Y_train)"
   ]
  },
  {
   "cell_type": "code",
   "execution_count": 10,
   "id": "af65dcda",
   "metadata": {
    "execution": {
     "iopub.execute_input": "2022-03-11T09:30:44.375165Z",
     "iopub.status.busy": "2022-03-11T09:30:44.374779Z",
     "iopub.status.idle": "2022-03-11T09:30:44.386184Z",
     "shell.execute_reply": "2022-03-11T09:30:44.386431Z"
    },
    "id": "af65dcda",
    "papermill": {
     "duration": 0.025022,
     "end_time": "2022-03-11T09:30:44.386552",
     "exception": false,
     "start_time": "2022-03-11T09:30:44.361530",
     "status": "completed"
    },
    "tags": []
   },
   "outputs": [
    {
     "data": {
      "application/scrapbook.scrap.json+json": {
       "data": 0.12537124329344862,
       "encoder": "json",
       "name": "Prior Model MSE",
       "version": 1
      }
     },
     "metadata": {
      "scrapbook": {
       "data": true,
       "display": false,
       "name": "Prior Model MSE"
      }
     },
     "output_type": "display_data"
    },
    {
     "data": {
      "application/scrapbook.scrap.json+json": {
       "data": 1.1790078104510497,
       "encoder": "json",
       "name": "ABC Pre-generator MSE",
       "version": 1
      }
     },
     "metadata": {
      "scrapbook": {
       "data": true,
       "display": false,
       "name": "ABC Pre-generator MSE"
      }
     },
     "output_type": "display_data"
    },
    {
     "data": {
      "application/scrapbook.scrap.json+json": {
       "data": 0.23144762034328686,
       "encoder": "json",
       "name": "Prior Model MAE",
       "version": 1
      }
     },
     "metadata": {
      "scrapbook": {
       "data": true,
       "display": false,
       "name": "Prior Model MAE"
      }
     },
     "output_type": "display_data"
    },
    {
     "data": {
      "application/scrapbook.scrap.json+json": {
       "data": 0.8692453921825335,
       "encoder": "json",
       "name": "ABC Pre-generator MAE",
       "version": 1
      }
     },
     "metadata": {
      "scrapbook": {
       "data": true,
       "display": false,
       "name": "ABC Pre-generator MAE"
      }
     },
     "output_type": "display_data"
    }
   ],
   "source": [
    "y_pred = prior_model.predict(X_test)\n",
    "y_abc = y_pred + np.random.normal(0,variance, y_pred.shape)\n",
    "mse = mean_squared_error(y_pred,Y_test)\n",
    "sb.glue(\"Prior Model MSE\",mse)\n",
    "mse = mean_squared_error(y_abc,Y_test)\n",
    "sb.glue(\"ABC Pre-generator MSE\",mse)\n",
    "\n",
    "mae = mean_absolute_error(y_pred,Y_test)\n",
    "sb.glue(\"Prior Model MAE\",mae)\n",
    "mae = mean_absolute_error(y_abc,Y_test)\n",
    "sb.glue(\"ABC Pre-generator MAE\",mae)"
   ]
  },
  {
   "cell_type": "markdown",
   "id": "25609da2",
   "metadata": {
    "papermill": {
     "duration": 0.010024,
     "end_time": "2022-03-11T09:30:44.406793",
     "exception": false,
     "start_time": "2022-03-11T09:30:44.396769",
     "status": "completed"
    },
    "tags": []
   },
   "source": [
    "# ABC GAN Model"
   ]
  },
  {
   "cell_type": "code",
   "execution_count": 11,
   "id": "dfc3464d",
   "metadata": {
    "execution": {
     "iopub.execute_input": "2022-03-11T09:30:44.431116Z",
     "iopub.status.busy": "2022-03-11T09:30:44.430697Z",
     "iopub.status.idle": "2022-03-11T09:30:44.439406Z",
     "shell.execute_reply": "2022-03-11T09:30:44.439654Z"
    },
    "papermill": {
     "duration": 0.022795,
     "end_time": "2022-03-11T09:30:44.439773",
     "exception": false,
     "start_time": "2022-03-11T09:30:44.416978",
     "status": "completed"
    },
    "tags": []
   },
   "outputs": [],
   "source": [
    "gen = network.Generator(n_features+1).to(device)\n",
    "disc = network.Discriminator(n_features+1).to(device)\n",
    "\n",
    "criterion = torch.nn.BCELoss()\n",
    "gen_opt = torch.optim.Adam(gen.parameters(), lr=0.001, betas=(0.5, 0.999))\n",
    "disc_opt = torch.optim.Adam(disc.parameters(), lr=0.001, betas=(0.5, 0.999))"
   ]
  },
  {
   "cell_type": "code",
   "execution_count": 12,
   "id": "b75fdd85",
   "metadata": {
    "execution": {
     "iopub.execute_input": "2022-03-11T09:30:44.463448Z",
     "iopub.status.busy": "2022-03-11T09:30:44.463031Z",
     "iopub.status.idle": "2022-03-11T09:31:20.267153Z",
     "shell.execute_reply": "2022-03-11T09:31:20.267447Z"
    },
    "papermill": {
     "duration": 35.817524,
     "end_time": "2022-03-11T09:31:20.267571",
     "exception": false,
     "start_time": "2022-03-11T09:30:44.450047",
     "status": "completed"
    },
    "tags": []
   },
   "outputs": [
    {
     "data": {
      "image/png": "[encoded data removed]",
      "text/plain": [
       "<Figure size 432x288 with 1 Axes>"
      ]
     },
     "metadata": {
      "needs_background": "light"
     },
     "output_type": "display_data"
    },
    {
     "data": {
      "image/png": "[encoded data removed]",
      "text/plain": [
       "<Figure size 432x288 with 1 Axes>"
      ]
     },
     "metadata": {
      "needs_background": "light"
     },
     "output_type": "display_data"
    }
   ],
   "source": [
    "#Training the ABC_GAN \n",
    "ABC_train_test2.training_GAN(disc,gen,disc_opt,gen_opt,train_data,batch_size,n_epochs,criterion,prior_model,variance,0,device)"
   ]
  },
  {
   "cell_type": "code",
   "execution_count": 13,
   "id": "1fa7c368",
   "metadata": {
    "execution": {
     "iopub.execute_input": "2022-03-11T09:31:20.292536Z",
     "iopub.status.busy": "2022-03-11T09:31:20.292143Z",
     "iopub.status.idle": "2022-03-11T09:31:20.597654Z",
     "shell.execute_reply": "2022-03-11T09:31:20.597935Z"
    },
    "papermill": {
     "duration": 0.31946,
     "end_time": "2022-03-11T09:31:20.598053",
     "exception": false,
     "start_time": "2022-03-11T09:31:20.278593",
     "status": "completed"
    },
    "tags": []
   },
   "outputs": [
    {
     "data": {
      "application/scrapbook.scrap.json+json": {
       "data": 0.1497115538192632,
       "encoder": "json",
       "name": "ABC-GAN Model 1 MSE",
       "version": 1
      }
     },
     "metadata": {
      "scrapbook": {
       "data": true,
       "display": false,
       "name": "ABC-GAN Model 1 MSE"
      }
     },
     "output_type": "display_data"
    },
    {
     "data": {
      "application/scrapbook.scrap.json+json": {
       "data": 0.26087804269702997,
       "encoder": "json",
       "name": "ABC-GAN Model 1 MAE",
       "version": 1
      }
     },
     "metadata": {
      "scrapbook": {
       "data": true,
       "display": false,
       "name": "ABC-GAN Model 1 MAE"
      }
     },
     "output_type": "display_data"
    },
    {
     "data": {
      "application/scrapbook.scrap.json+json": {
       "data": 26.609560355097056,
       "encoder": "json",
       "name": "ABC-GAN Model 1 Manhattan Distance",
       "version": 1
      }
     },
     "metadata": {
      "scrapbook": {
       "data": true,
       "display": false,
       "name": "ABC-GAN Model 1 Manhattan Distance"
      }
     },
     "output_type": "display_data"
    },
    {
     "data": {
      "application/scrapbook.scrap.json+json": {
       "data": 3.907729551708358,
       "encoder": "json",
       "name": "ABC-GAN Model 1 Euclidean distance",
       "version": 1
      }
     },
     "metadata": {
      "scrapbook": {
       "data": true,
       "display": false,
       "name": "ABC-GAN Model 1 Euclidean distance"
      }
     },
     "output_type": "display_data"
    },
    {
     "data": {
      "application/scrapbook.scrap.json+json": {
       "data": [
        [
         0.14943552519385722,
         0.1485764825563954,
         0.14806673632412723,
         0.15098472097061405,
         0.15199653358895812,
         0.150026091521239,
         0.15066069788087755,
         0.14881983436054344,
         0.14992095382763349,
         0.15055620945235557,
         0.15134969116234231,
         0.1500019707508539,
         0.15060786906480644,
         0.14929501137288886,
         0.14816171158674593,
         0.14883257787084048,
         0.14954897370106143,
         0.1500314578486107,
         0.1501508721296831,
         0.1489847003780696,
         0.14766228530957126,
         0.15012332462693814,
         0.1499913802900966,
         0.14982361381710024,
         0.14976743199795242,
         0.15116754751611844,
         0.14777138655949773,
         0.1517771684842236,
         0.14915833574392218,
         0.14992254768182992,
         0.1498336407740148,
         0.14972343470495122,
         0.1497566468301537,
         0.14975038890324083,
         0.14870445519840936,
         0.15040801161615683,
         0.15069000018158554,
         0.1479519710227281,
         0.14833507404350801,
         0.149751295208822,
         0.15034588499503657,
         0.14901591187711227,
         0.14978308587944247,
         0.15005216630977422,
         0.14930762766581512,
         0.15071212474234577,
         0.1489448508989634,
         0.14873594970160006,
         0.14896305144009847,
         0.14932399174887565,
         0.1490987726581862,
         0.14916518023136843,
         0.14958233391471207,
         0.150393100501843,
         0.15033022362212134,
         0.15168542246399125,
         0.14916856387737623,
         0.14808734027862147,
         0.14934764825346314,
         0.1497520984826999,
         0.14873977107623507,
         0.14871499818338743,
         0.15083916471954212,
         0.15119973489099328,
         0.15114731256623645,
         0.14999149219098004,
         0.14549540115358567,
         0.15162006944084672,
         0.14908221381854422,
         0.15016771726254885,
         0.14953891958625348,
         0.1489618432461059,
         0.1501483921476896,
         0.15154238886106616,
         0.146709607366387,
         0.14893876399178313,
         0.14757996289938002,
         0.14871444109419144,
         0.14939612799562885,
         0.1493170027018762,
         0.14877703663670047,
         0.14988084152189093,
         0.15066180439070967,
         0.1510165374309481,
         0.14962462586041922,
         0.15009549592608776,
         0.1514116098570593,
         0.14943364847178217,
         0.14910209375821834,
         0.1501810495031899,
         0.15002962511267748,
         0.15236476076411587,
         0.1516960910098373,
         0.14944162330272684,
         0.1505811954133612,
         0.14871815567145907,
         0.14936319470097767,
         0.1484188534115083,
         0.15060023617406637,
         0.15203768621855127
        ],
        [
         0.260893691760287,
         0.26027781504443753,
         0.2597209278621948,
         0.26268939187238904,
         0.26518212568343563,
         0.26032509347058685,
         0.26252022673211556,
         0.25865835436236334,
         0.2616316818486096,
         0.26261532952205513,
         0.26143131641598016,
         0.26254518299966173,
         0.2607107075826064,
         0.2620584395641059,
         0.2595479103700057,
         0.2598085680191277,
         0.2589191505776755,
         0.2617902501449719,
         0.25997808308103215,
         0.2605364792615029,
         0.2600099678406967,
         0.2619282587467894,
         0.2623192498405628,
         0.26153256155221777,
         0.2611956859244874,
         0.2614834694575299,
         0.2586394405887261,
         0.2610364243954274,
         0.26151052726359636,
         0.2609662123882741,
         0.259844468239987,
         0.26063897583962364,
         0.26061816746369004,
         0.26028751814737916,
         0.259785668330961,
         0.2602358264574671,
         0.2629781127542111,
         0.2604527849539676,
         0.25963167837985296,
         0.2613750512383002,
         0.26149812073209416,
         0.2596756551396467,
         0.2597003671815436,
         0.2625610394056375,
         0.26304541677053944,
         0.26119156345250266,
         0.26018944827328416,
         0.2600139393288569,
         0.26022052811458707,
         0.25942259901842357,
         0.2589951019058479,
         0.26134780534159613,
         0.26048402118441816,
         0.2628280535322048,
         0.2621218621931678,
         0.2620668618611115,
         0.26019880441291365,
         0.258908083726305,
         0.26106437787815345,
         0.2616555410546853,
         0.26049749895601587,
         0.25868763083445967,
         0.2620147423471744,
         0.2616075580738777,
         0.2635930309747802,
         0.2610795402479376,
         0.25618263654520407,
         0.2604551043489254,
         0.26113435325632783,
         0.26164239702527137,
         0.2610460390775081,
         0.25989888045096804,
         0.2601527042741723,
         0.2628461024541335,
         0.2575269380456531,
         0.25999077748251603,
         0.25814680129691375,
         0.26217335739227776,
         0.25877405315016705,
         0.25947181788254897,
         0.2609587878847093,
         0.26181883674443646,
         0.2629364032718335,
         0.26364360986204416,
         0.25946705199449377,
         0.26147162354569514,
         0.26124423850948614,
         0.25940651851067065,
         0.2601014490641069,
         0.2614649789060886,
         0.26039890472905014,
         0.2638409118277623,
         0.26191310463107975,
         0.2582038823131691,
         0.26209563636860134,
         0.26082190665799904,
         0.26123086968436837,
         0.2593696868211469,
         0.2628300464529471,
         0.262163891320062
        ],
        [
         26.611156559549272,
         26.54833713453263,
         26.491534641943872,
         26.794317970983684,
         27.048576819710433,
         26.55315953399986,
         26.777063126675785,
         26.38315214496106,
         26.686431548558176,
         26.786763611249626,
         26.665994274429977,
         26.779608665965497,
         26.592492173425853,
         26.729960835538805,
         26.47388685774058,
         26.50047393795103,
         26.4097533589229,
         26.702605514787138,
         26.517764474265277,
         26.574720884673297,
         26.52101671975106,
         26.716682392172515,
         26.75656348373741,
         26.676321278326213,
         26.641959964297712,
         26.671313884668052,
         26.381222940050066,
         26.625715288333595,
         26.67407378088683,
         26.61855366360396,
         26.504135760478675,
         26.58517553564161,
         26.583053081296384,
         26.549326851032674,
         26.498138169758022,
         26.54405429866165,
         26.823767500929534,
         26.566184065304697,
         26.482431194745004,
         26.660255226306617,
         26.672808314673603,
         26.486916824243963,
         26.48943745251745,
         26.781226019375026,
         26.830632510595024,
         26.641539472155273,
         26.539323723874986,
         26.521421811543405,
         26.54249386768788,
         26.461105099879205,
         26.417500394396484,
         26.657476144842803,
         26.56937016081065,
         26.80846146028489,
         26.736429943703115,
         26.73081990983337,
         26.540278050117195,
         26.40862454008311,
         26.62856654357165,
         26.688865187577903,
         26.57074489351362,
         26.386138345114887,
         26.72550371941179,
         26.683970923535526,
         26.886489159427583,
         26.630113105289638,
         26.130628927610815,
         26.56642064359039,
         26.63570403214544,
         26.68752449657768,
         26.626695985905826,
         26.509685805998743,
         26.535575835965574,
         26.810302450321615,
         26.267747680656612,
         26.519059303216636,
         26.3309737322852,
         26.741682454012334,
         26.39495342131704,
         26.466125424019992,
         26.61779636424035,
         26.705521347932518,
         26.819513133727014,
         26.891648205928504,
         26.465639303438365,
         26.670105601660907,
         26.646912327967584,
         26.459464888088405,
         26.530347804538906,
         26.669427848421037,
         26.560688282363117,
         26.91177300643176,
         26.715136672370136,
         26.33679599594325,
         26.733754909597337,
         26.603834479115903,
         26.645548707805574,
         26.455708055756986,
         26.808664738200605,
         26.740716914646327
        ],
        [
         3.9041546549507276,
         3.89291680115981,
         3.886233022486038,
         3.9243396309446297,
         3.93746700634732,
         3.9118616201453715,
         3.9201264244727496,
         3.8961035798314483,
         3.9104906713120555,
         3.918766816760123,
         3.929079853930041,
         3.911547138484604,
         3.91943907270036,
         3.902318690219273,
         3.887479206612954,
         3.896270388823872,
         3.905636352440952,
         3.9119315817839,
         3.9134880806293086,
         3.898261078809768,
         3.8809216819688936,
         3.913129069165453,
         3.9114090542398974,
         3.90922097218157,
         3.9084879510868578,
         3.926714892457062,
         3.882355139482833,
         3.9346246562271747,
         3.9005320465136624,
         3.9105114580508062,
         3.909351782450578,
         3.9079138091704397,
         3.9083472180290837,
         3.9082655575242784,
         3.8945929736286624,
         3.9168376510710767,
         3.920507622556258,
         3.8847266370129914,
         3.889752890922226,
         3.9082773841297196,
         3.916028634917488,
         3.898669389864374,
         3.908692205802745,
         3.912201549459968,
         3.902483570998492,
         3.920795419773807,
         3.897739702916841,
         3.8950053747797573,
         3.8979778407387133,
         3.9026974208084986,
         3.8997531731040347,
         3.9006215381140965,
         3.9060719475325376,
         3.9166434929909033,
         3.9158246653107915,
         3.933435278649835,
         3.9006657784912018,
         3.8865034038862474,
         3.9030065490405264,
         3.908287866219092,
         3.895055410360163,
         3.8947310323956286,
         3.9224475524082267,
         3.9271329184127843,
         3.9264520730242105,
         3.911410513290565,
         3.8523409659148466,
         3.9325878353784245,
         3.8995366147135364,
         3.913707597761996,
         3.9055050630869568,
         3.89796203305045,
         3.9134557617359533,
         3.93158030107853,
         3.8683820844600483,
         3.8976600579273044,
         3.879839715212055,
         3.894723737520741,
         3.903639975145523,
         3.902606087679279,
         3.8955433172977867,
         3.9099674979765324,
         3.9201408199007832,
         3.924753090062699,
         3.906624097320186,
         3.9127663595544453,
         3.929883484967467,
         3.904130139239953,
         3.8997966053806272,
         3.9138813279563505,
         3.9119076882632466,
         3.9422335798300705,
         3.933573602082894,
         3.90423431377756,
         3.9190919780177196,
         3.8947723782640775,
         3.9032096868474437,
         3.89085119838498,
         3.9193397517636526,
         3.9379999992752954
        ]
       ],
       "encoder": "json",
       "name": "ABC_GAN_1 Metrics",
       "version": 1
      }
     },
     "metadata": {
      "scrapbook": {
       "data": true,
       "display": false,
       "name": "ABC_GAN_1 Metrics"
      }
     },
     "output_type": "display_data"
    },
    {
     "name": "stdout",
     "output_type": "stream",
     "text": [
      "MSE\n",
      "0.1497115538192632\n"
     ]
    }
   ],
   "source": [
    "ABC_GAN1_metrics=ABC_train_test2.test_generator(gen,test_data,prior_model,variance,0,\"1\",device)\n",
    "sb.glue(\"ABC_GAN_1 Metrics\",ABC_GAN1_metrics)\n",
    "\n",
    "print(\"MSE\")\n",
    "print(mean(ABC_GAN1_metrics[0]))"
   ]
  },
  {
   "cell_type": "code",
   "execution_count": 14,
   "id": "eb22ce5c",
   "metadata": {
    "execution": {
     "iopub.execute_input": "2022-03-11T09:31:20.626006Z",
     "iopub.status.busy": "2022-03-11T09:31:20.625642Z",
     "iopub.status.idle": "2022-03-11T09:31:20.944813Z",
     "shell.execute_reply": "2022-03-11T09:31:20.945061Z"
    },
    "papermill": {
     "duration": 0.334431,
     "end_time": "2022-03-11T09:31:20.945205",
     "exception": false,
     "start_time": "2022-03-11T09:31:20.610774",
     "status": "completed"
    },
    "tags": []
   },
   "outputs": [
    {
     "data": {
      "image/png": "[encoded data removed]",
      "text/plain": [
       "<Figure size 432x288 with 1 Axes>"
      ]
     },
     "metadata": {
      "needs_background": "light"
     },
     "output_type": "display_data"
    },
    {
     "data": {
      "image/png": "[encoded data removed]",
      "text/plain": [
       "<Figure size 432x288 with 1 Axes>"
      ]
     },
     "metadata": {
      "needs_background": "light"
     },
     "output_type": "display_data"
    },
    {
     "data": {
      "image/png": "[encoded data removed]",
      "text/plain": [
       "<Figure size 432x288 with 1 Axes>"
      ]
     },
     "metadata": {
      "needs_background": "light"
     },
     "output_type": "display_data"
    },
    {
     "data": {
      "image/png": "[encoded data removed]",
      "text/plain": [
       "<Figure size 432x288 with 1 Axes>"
      ]
     },
     "metadata": {
      "needs_background": "light"
     },
     "output_type": "display_data"
    }
   ],
   "source": [
    "sanityChecks.discProbVsError(train_data,disc,device)\n",
    "sanityChecks.discProbVsError(test_data,disc,device)"
   ]
  },
  {
   "cell_type": "markdown",
   "id": "130f3a4d",
   "metadata": {
    "id": "130f3a4d",
    "papermill": {
     "duration": 0.014582,
     "end_time": "2022-03-11T09:31:20.976254",
     "exception": false,
     "start_time": "2022-03-11T09:31:20.961672",
     "status": "completed"
    },
    "tags": []
   },
   "source": [
    "# ABC - GAN Model with skip connection"
   ]
  },
  {
   "cell_type": "code",
   "execution_count": 15,
   "id": "4e43dad1",
   "metadata": {
    "execution": {
     "iopub.execute_input": "2022-03-11T09:31:21.009327Z",
     "iopub.status.busy": "2022-03-11T09:31:21.008946Z",
     "iopub.status.idle": "2022-03-11T09:31:21.011136Z",
     "shell.execute_reply": "2022-03-11T09:31:21.011388Z"
    },
    "id": "4e43dad1",
    "papermill": {
     "duration": 0.020416,
     "end_time": "2022-03-11T09:31:21.011504",
     "exception": false,
     "start_time": "2022-03-11T09:31:20.991088",
     "status": "completed"
    },
    "tags": []
   },
   "outputs": [],
   "source": [
    "#Generator\n",
    "gen3 = network.GeneratorWithSkipConnection(n_features+1).to(device)\n",
    "constraints=network.weightConstraint()\n",
    "#Discriminator \n",
    "disc3 = network.Discriminator(n_features+1).to(device)\n",
    "\n",
    "criterion = torch.nn.BCELoss()\n",
    "gen_opt = torch.optim.Adam(gen3.parameters(), lr=0.001, betas=(0.5, 0.999))\n",
    "disc_opt = torch.optim.Adam(disc3.parameters(), lr=0.001, betas=(0.5, 0.999))\n"
   ]
  },
  {
   "cell_type": "code",
   "execution_count": 16,
   "id": "26acbc37",
   "metadata": {
    "execution": {
     "iopub.execute_input": "2022-03-11T09:31:21.043935Z",
     "iopub.status.busy": "2022-03-11T09:31:21.043582Z",
     "iopub.status.idle": "2022-03-11T09:33:49.093558Z",
     "shell.execute_reply": "2022-03-11T09:33:49.093888Z"
    },
    "id": "26acbc37",
    "papermill": {
     "duration": 148.067415,
     "end_time": "2022-03-11T09:33:49.094019",
     "exception": false,
     "start_time": "2022-03-11T09:31:21.026604",
     "status": "completed"
    },
    "tags": []
   },
   "outputs": [
    {
     "data": {
      "image/png": "[encoded data removed]",
      "text/plain": [
       "<Figure size 432x288 with 1 Axes>"
      ]
     },
     "metadata": {
      "needs_background": "light"
     },
     "output_type": "display_data"
    },
    {
     "data": {
      "image/png": "[encoded data removed]",
      "text/plain": [
       "<Figure size 432x288 with 1 Axes>"
      ]
     },
     "metadata": {
      "needs_background": "light"
     },
     "output_type": "display_data"
    }
   ],
   "source": [
    "ABC_train_test2.training_GAN_skip_connection(disc3,gen3,disc_opt,gen_opt,train_data,batch_size,n_epochs,criterion,prior_model,variance,0,device)"
   ]
  },
  {
   "cell_type": "code",
   "execution_count": 17,
   "id": "c5e0717b",
   "metadata": {
    "execution": {
     "iopub.execute_input": "2022-03-11T09:33:49.129381Z",
     "iopub.status.busy": "2022-03-11T09:33:49.129012Z",
     "iopub.status.idle": "2022-03-11T09:33:49.939795Z",
     "shell.execute_reply": "2022-03-11T09:33:49.940098Z"
    },
    "id": "c5e0717b",
    "papermill": {
     "duration": 0.829952,
     "end_time": "2022-03-11T09:33:49.940234",
     "exception": false,
     "start_time": "2022-03-11T09:33:49.110282",
     "status": "completed"
    },
    "tags": []
   },
   "outputs": [
    {
     "data": {
      "application/scrapbook.scrap.json+json": {
       "data": 0.14328104747500608,
       "encoder": "json",
       "name": "ABC-GAN Model 3 MSE",
       "version": 1
      }
     },
     "metadata": {
      "scrapbook": {
       "data": true,
       "display": false,
       "name": "ABC-GAN Model 3 MSE"
      }
     },
     "output_type": "display_data"
    },
    {
     "data": {
      "application/scrapbook.scrap.json+json": {
       "data": 0.24889145811106644,
       "encoder": "json",
       "name": "ABC-GAN Model 3 MAE",
       "version": 1
      }
     },
     "metadata": {
      "scrapbook": {
       "data": true,
       "display": false,
       "name": "ABC-GAN Model 3 MAE"
      }
     },
     "output_type": "display_data"
    },
    {
     "data": {
      "application/scrapbook.scrap.json+json": {
       "data": 25.386928727328776,
       "encoder": "json",
       "name": "ABC-GAN Model 3 Manhattan Distance",
       "version": 1
      }
     },
     "metadata": {
      "scrapbook": {
       "data": true,
       "display": false,
       "name": "ABC-GAN Model 3 Manhattan Distance"
      }
     },
     "output_type": "display_data"
    },
    {
     "data": {
      "application/scrapbook.scrap.json+json": {
       "data": 3.8222405096223295,
       "encoder": "json",
       "name": "ABC-GAN Model 3 Euclidean distance",
       "version": 1
      }
     },
     "metadata": {
      "scrapbook": {
       "data": true,
       "display": false,
       "name": "ABC-GAN Model 3 Euclidean distance"
      }
     },
     "output_type": "display_data"
    },
    {
     "data": {
      "application/scrapbook.scrap.json+json": {
       "data": [
        [
         0.13539076860091265,
         0.1403088311458456,
         0.14855337656137874,
         0.1388778663952465,
         0.13531311649724165,
         0.14329757723060174,
         0.15121274755090147,
         0.15296274792141448,
         0.13997797306552467,
         0.1429191816818998,
         0.13957177520503222,
         0.14181968620775298,
         0.15421396060496856,
         0.15085800949276085,
         0.14169456945625716,
         0.14598850252281545,
         0.14623363304786688,
         0.14945222811903147,
         0.13960174647921655,
         0.14503517835962176,
         0.14574077150845288,
         0.137167722973586,
         0.13993908641140446,
         0.13446917272213382,
         0.14653905397122532,
         0.13364626013604675,
         0.13619900047088873,
         0.13714770202425816,
         0.1400034628457044,
         0.14736182198721962,
         0.13866225930724674,
         0.1374486586076059,
         0.14513795349364822,
         0.1426793211219041,
         0.13499781336685046,
         0.14428457294825686,
         0.1386207342082224,
         0.15024584641726757,
         0.15192245888027214,
         0.13634259297805038,
         0.1457957978339621,
         0.14148227359350196,
         0.1380199079969733,
         0.14684010568540892,
         0.13979397475122074,
         0.14507316128583442,
         0.14601165896794643,
         0.14595201351924295,
         0.1441556140522214,
         0.1438867461654966,
         0.1371421972090093,
         0.14321481758190907,
         0.144969808491794,
         0.14298678542591542,
         0.15251434244317671,
         0.1502922981007088,
         0.14318989165241755,
         0.1481964540262384,
         0.14872083133921532,
         0.1427882677112439,
         0.14643991046540067,
         0.14770919375142738,
         0.15346369047528227,
         0.1465766828461817,
         0.14011996320333217,
         0.13763272141585575,
         0.14565513985528764,
         0.14162032679909184,
         0.14397714550445653,
         0.14247567448636633,
         0.14259834947978114,
         0.14439281037765994,
         0.13974325728553585,
         0.15513490713785547,
         0.14227627995935632,
         0.13816553825228264,
         0.15163418042140167,
         0.14185135054894207,
         0.1366769829545899,
         0.14726797916297105,
         0.1424421314076882,
         0.14263964803005177,
         0.1521689203688788,
         0.1364674862977266,
         0.13886790465480459,
         0.14892140123331804,
         0.1344836455885095,
         0.14686547308298084,
         0.13824979390145667,
         0.14230145029494548,
         0.15583324649374752,
         0.14633184241366542,
         0.14378490002932487,
         0.14626405953812488,
         0.141214813920679,
         0.13583006238778073,
         0.13213181261414458,
         0.13483194367300494,
         0.15056317208161885,
         0.13963226474512505
        ],
        [
         0.2455596598686979,
         0.24986211991156726,
         0.2539965166052913,
         0.24791866912524782,
         0.23803868421408184,
         0.25122550168239016,
         0.2540665453245096,
         0.25347408950876665,
         0.251029192661757,
         0.24850075229016297,
         0.24750273524071364,
         0.2467500183128697,
         0.256376445612998,
         0.25786862915893105,
         0.24797362920955993,
         0.2519695753980355,
         0.2522303293020848,
         0.2640825016515366,
         0.24372916835743716,
         0.253440754405935,
         0.2507982396739809,
         0.2469348903361927,
         0.2452528070859319,
         0.2429133277002941,
         0.2492357948155818,
         0.24337396967023903,
         0.24266165092258768,
         0.23959996831585087,
         0.24381947801357098,
         0.2584009558309381,
         0.24538189413792946,
         0.2450091508217156,
         0.2537070557237694,
         0.24407954462895207,
         0.2449163688876319,
         0.2484452315861834,
         0.24355633548625252,
         0.25015178588492903,
         0.257644709482716,
         0.24315222662270947,
         0.251595340459151,
         0.242561308730978,
         0.24237635909744046,
         0.24800979776088805,
         0.2505788981969304,
         0.24836064240548247,
         0.24860093179250173,
         0.25180727695388827,
         0.24597368308105597,
         0.2514253174612189,
         0.2403030975758299,
         0.24550247721045332,
         0.25217013929367943,
         0.25006401877594636,
         0.2543489793041611,
         0.2591594867134357,
         0.24365684476808883,
         0.24964325147333974,
         0.2527393706270731,
         0.24486915959848785,
         0.24803758426295483,
         0.24946650244551255,
         0.24821479365631355,
         0.24394857608621903,
         0.25016055635048773,
         0.23998418412920014,
         0.2505689549223319,
         0.24320356276653268,
         0.2471188528408461,
         0.24629802073297255,
         0.2446361549253411,
         0.25395690564833145,
         0.24828498499175788,
         0.261304561642236,
         0.25927743924708635,
         0.2474513166474507,
         0.26129592081312747,
         0.24748821110081146,
         0.24944893726348585,
         0.24893285336849444,
         0.2513476767504186,
         0.24655693737497808,
         0.25600533690486177,
         0.2393451479044469,
         0.24477425140018264,
         0.25316093572616283,
         0.24485229064399996,
         0.24337629753840612,
         0.24103899679018878,
         0.2485607953687363,
         0.26357495572016226,
         0.2554593055107284,
         0.25052849640704544,
         0.25287519628182054,
         0.24924604864060587,
         0.2427625834631423,
         0.24210827515515335,
         0.2437675426367159,
         0.2556988221008842,
         0.24664976019594892
        ],
        [
         25.047085306607187,
         25.48593623097986,
         25.907644693739712,
         25.287704250775278,
         24.279945789836347,
         25.6250011716038,
         25.914787623099983,
         25.854357129894197,
         25.604977651499212,
         25.347076733596623,
         25.24527899455279,
         25.16850186791271,
         26.150397452525795,
         26.302600174210966,
         25.293310179375112,
         25.70089669059962,
         25.72749358881265,
         26.936415168456733,
         24.86037517245859,
         25.850956949405372,
         25.58142044674605,
         25.187358814291656,
         25.015786322765052,
         24.77715942543,
         25.422051071189344,
         24.82414490636438,
         24.751488394103944,
         24.43919676821679,
         24.86958675738424,
         26.356897494755685,
         25.028953202068806,
         24.99093338381499,
         25.87811968382448,
         24.89611355215311,
         24.981469626538455,
         25.341413621790707,
         24.842746219597757,
         25.515482160262764,
         26.27976036723703,
         24.801527115516365,
         25.662724726833403,
         24.741253490559757,
         24.722388627938926,
         25.296999371610582,
         25.5590476160869,
         25.332785525359213,
         25.357295042835176,
         25.684342249296606,
         25.08931567426771,
         25.645382381044328,
         24.51091595273465,
         25.04125267546624,
         25.7213542079553,
         25.50652991514653,
         25.943595889024436,
         26.434267644770443,
         24.85299816634506,
         25.463611650280654,
         25.779415803961456,
         24.97665427904576,
         25.299833594821393,
         25.44558324944228,
         25.31790895294398,
         24.88275476079434,
         25.516376747749746,
         24.478386781178415,
         25.558033402077854,
         24.806763402186334,
         25.2061229897663,
         25.1223981147632,
         24.952887802384794,
         25.903604376129806,
         25.325068469159305,
         26.65306528750807,
         26.446298803202808,
         25.240034298039973,
         26.652183922939003,
         25.24379753228277,
         25.443791600875556,
         25.391151043586433,
         25.637463028542697,
         25.148807612247765,
         26.1125443642959,
         24.413205086253583,
         24.96697364281863,
         25.82241544406861,
         24.974933645687997,
         24.824382348917425,
         24.585977672599256,
         25.3532011276111,
         26.884645483456552,
         26.056849162094295,
         25.553906633518636,
         25.793270020745695,
         25.4230969613418,
         24.761783513240516,
         24.69504406582564,
         24.86428934894502,
         26.081279854290187,
         25.15827553998679
        ],
        [
         3.716161782981614,
         3.783054424255122,
         3.8926140842961336,
         3.7637139068100205,
         3.715095945291137,
         3.823133907872097,
         3.927301904640379,
         3.9499620615879683,
         3.7785914376502134,
         3.818082834558959,
         3.7731049642056456,
         3.8033679802499787,
         3.9660842126342692,
         3.922692566115984,
         3.8016898985238434,
         3.858863467049226,
         3.86210183331336,
         3.9043728392843335,
         3.773510055754467,
         3.8462433870832218,
         3.8555879828973154,
         3.7404689202432584,
         3.7780665444064447,
         3.7034923542053715,
         3.866132887662422,
         3.6921428106015566,
         3.7272373211308465,
         3.7401959315621864,
         3.778935459922787,
         3.876971220256399,
         3.760791199912482,
         3.74429742114269,
         3.8476059122982065,
         3.8148775543173357,
         3.710765010536068,
         3.8362776803461704,
         3.7602280368667373,
         3.9147255758943422,
         3.9365074375374625,
         3.7292015879757874,
         3.8563157779238115,
         3.7988408635447204,
         3.7520701773409395,
         3.8701021665986683,
         3.7761071786463525,
         3.8467469959896117,
         3.8591694980566134,
         3.8583811863218975,
         3.834562899904835,
         3.830985266074596,
         3.740120869078825,
         3.822029747837491,
         3.845376505124431,
         3.8189857440743826,
         3.9441682176606028,
         3.9153306892614186,
         3.8216971293584465,
         3.8879349673928845,
         3.894807414571349,
         3.8163337519859124,
         3.8648248171774697,
         3.8815380666232806,
         3.9564247027434742,
         3.86662923620956,
         3.7805074059892916,
         3.7468036490343724,
         3.854455119110785,
         3.8006937963360548,
         3.8321885185171363,
         3.8121540889121164,
         3.8137949141160794,
         3.837716333774724,
         3.7754221278056646,
         3.977909064830574,
         3.8094856025261916,
         3.7540491341660447,
         3.9327708302141082,
         3.80379254902158,
         3.7337718544881895,
         3.87573655898115,
         3.811705314368386,
         3.814347139297271,
         3.939699211567507,
         3.7309092192611857,
         3.763578918368799,
         3.897432863539594,
         3.703691651586018,
         3.870436442374949,
         3.755193600594859,
         3.8098225588712706,
         3.986852284994046,
         3.863398494356215,
         3.829629199151158,
         3.8625036016667655,
         3.795248479336926,
         3.7221856970809006,
         3.6711639689126856,
         3.708484630498892,
         3.918857429446128,
         3.773922495759915
        ]
       ],
       "encoder": "json",
       "name": "ABC_GAN_3 Metrics",
       "version": 1
      }
     },
     "metadata": {
      "scrapbook": {
       "data": true,
       "display": false,
       "name": "ABC_GAN_3 Metrics"
      }
     },
     "output_type": "display_data"
    },
    {
     "name": "stdout",
     "output_type": "stream",
     "text": [
      "MSE\n",
      "0.14328104747500608\n"
     ]
    }
   ],
   "source": [
    "ABC_GAN3_metrics=ABC_train_test2.test_generator(gen3,test_data,prior_model,variance,0,\"3\",device)\n",
    "sb.glue(\"ABC_GAN_3 Metrics\",ABC_GAN3_metrics)\n",
    "\n",
    "print(\"MSE\")\n",
    "print(mean(ABC_GAN3_metrics[0]))"
   ]
  },
  {
   "cell_type": "code",
   "execution_count": 18,
   "id": "c8e46b48",
   "metadata": {
    "execution": {
     "iopub.execute_input": "2022-03-11T09:33:49.977757Z",
     "iopub.status.busy": "2022-03-11T09:33:49.977399Z",
     "iopub.status.idle": "2022-03-11T09:33:50.294975Z",
     "shell.execute_reply": "2022-03-11T09:33:50.295269Z"
    },
    "id": "c8e46b48",
    "papermill": {
     "duration": 0.337576,
     "end_time": "2022-03-11T09:33:50.295390",
     "exception": false,
     "start_time": "2022-03-11T09:33:49.957814",
     "status": "completed"
    },
    "tags": []
   },
   "outputs": [
    {
     "data": {
      "image/png": "[encoded data removed]",
      "text/plain": [
       "<Figure size 432x288 with 1 Axes>"
      ]
     },
     "metadata": {
      "needs_background": "light"
     },
     "output_type": "display_data"
    },
    {
     "data": {
      "image/png": "[encoded data removed]",
      "text/plain": [
       "<Figure size 432x288 with 1 Axes>"
      ]
     },
     "metadata": {
      "needs_background": "light"
     },
     "output_type": "display_data"
    },
    {
     "data": {
      "image/png": "[encoded data removed]",
      "text/plain": [
       "<Figure size 432x288 with 1 Axes>"
      ]
     },
     "metadata": {
      "needs_background": "light"
     },
     "output_type": "display_data"
    },
    {
     "data": {
      "image/png": "[encoded data removed]",
      "text/plain": [
       "<Figure size 432x288 with 1 Axes>"
      ]
     },
     "metadata": {
      "needs_background": "light"
     },
     "output_type": "display_data"
    }
   ],
   "source": [
    "sanityChecks.discProbVsError(train_data,disc3,device)\n",
    "sanityChecks.discProbVsError(test_data,disc3,device)"
   ]
  },
  {
   "cell_type": "markdown",
   "id": "a5bd74c3",
   "metadata": {
    "id": "a5bd74c3",
    "papermill": {
     "duration": 0.019671,
     "end_time": "2022-03-11T09:33:50.335251",
     "exception": false,
     "start_time": "2022-03-11T09:33:50.315580",
     "status": "completed"
    },
    "tags": []
   },
   "source": [
    "## Skip Connection Model Analysis - ABC-GAN "
   ]
  },
  {
   "cell_type": "markdown",
   "id": "5744a8bf",
   "metadata": {
    "id": "5744a8bf",
    "papermill": {
     "duration": 0.019373,
     "end_time": "2022-03-11T09:33:50.374109",
     "exception": false,
     "start_time": "2022-03-11T09:33:50.354736",
     "status": "completed"
    },
    "tags": []
   },
   "source": [
    "### Weight Analysis \n",
    "\n",
    "Study the weights of the skip connection layer\n",
    "\n",
    "Equation of the skip connection is \n",
    "\n",
    "$output = y_{gan} * w + y_{abc} * (1-w)$"
   ]
  },
  {
   "cell_type": "code",
   "execution_count": 19,
   "id": "52c31dea",
   "metadata": {
    "execution": {
     "iopub.execute_input": "2022-03-11T09:33:50.416613Z",
     "iopub.status.busy": "2022-03-11T09:33:50.416180Z",
     "iopub.status.idle": "2022-03-11T09:33:50.428928Z",
     "shell.execute_reply": "2022-03-11T09:33:50.429173Z"
    },
    "id": "52c31dea",
    "papermill": {
     "duration": 0.035888,
     "end_time": "2022-03-11T09:33:50.429293",
     "exception": false,
     "start_time": "2022-03-11T09:33:50.393405",
     "status": "completed"
    },
    "tags": []
   },
   "outputs": [
    {
     "name": "stdout",
     "output_type": "stream",
     "text": [
      "Weight of the node at skip connection\n",
      "Parameter containing:\n",
      "tensor([[0.8451]], requires_grad=True)\n"
     ]
    },
    {
     "data": {
      "application/scrapbook.scrap.json+json": {
       "data": 0.8451024293899536,
       "encoder": "json",
       "name": "Skip Connection Weight",
       "version": 1
      }
     },
     "metadata": {
      "scrapbook": {
       "data": true,
       "display": false,
       "name": "Skip Connection Weight"
      }
     },
     "output_type": "display_data"
    }
   ],
   "source": [
    "print(\"Weight of the node at skip connection\")\n",
    "for name,param in gen3.named_parameters():\n",
    "    if(name == \"skipNode.weight\"):\n",
    "        print(param)\n",
    "        sb.glue(\"Skip Connection Weight\",param.item())"
   ]
  }
 ],
 "metadata": {
  "colab": {
   "collapsed_sections": [],
   "name": "ABC_GAN_Model-Catboost_Pre-gen.ipynb",
   "provenance": []
  },
  "interpreter": {
   "hash": "31f2aee4e71d21fbe5cf8b01ff0e069b9275f58929596ceb00d14d90e3e16cd6"
  },
  "kernelspec": {
   "display_name": "Python 3 (ipykernel)",
   "language": "python",
   "name": "python3"
  },
  "language_info": {
   "codemirror_mode": {
    "name": "ipython",
    "version": 3
   },
   "file_extension": ".py",
   "mimetype": "text/x-python",
   "name": "python",
   "nbconvert_exporter": "python",
   "pygments_lexer": "ipython3",
   "version": "3.8.11"
  },
  "papermill": {
   "default_parameters": {},
   "duration": 191.459652,
   "end_time": "2022-03-11T09:33:50.858517",
   "environment_variables": {},
   "exception": null,
   "input_path": "ABC_GAN-Catboost.ipynb",
   "output_path": "./ABC_GAN_Catboost/ABC-GAN_output_1_0.ipynb",
   "parameters": {
    "variance": 1
   },
   "start_time": "2022-03-11T09:30:39.398865",
   "version": "2.3.3"
  }
 },
 "nbformat": 4,
 "nbformat_minor": 5
}