{
 "cells": [
  {
   "cell_type": "markdown",
   "id": "622780e6",
   "metadata": {
    "id": "622780e6",
    "papermill": {
     "duration": 0.035857,
     "end_time": "2022-03-11T10:38:16.332474",
     "exception": false,
     "start_time": "2022-03-11T10:38:16.296617",
     "status": "completed"
    },
    "tags": []
   },
   "source": [
    "## Import Libraries "
   ]
  },
  {
   "cell_type": "code",
   "execution_count": 1,
   "id": "a62397e3",
   "metadata": {
    "execution": {
     "iopub.execute_input": "2022-03-11T10:38:16.367885Z",
     "iopub.status.busy": "2022-03-11T10:38:16.367308Z",
     "iopub.status.idle": "2022-03-11T10:38:16.369674Z",
     "shell.execute_reply": "2022-03-11T10:38:16.370012Z"
    },
    "id": "a62397e3",
    "papermill": {
     "duration": 0.02171,
     "end_time": "2022-03-11T10:38:16.370219",
     "exception": false,
     "start_time": "2022-03-11T10:38:16.348509",
     "status": "completed"
    },
    "tags": []
   },
   "outputs": [],
   "source": [
    "import warnings\n",
    "import sys\n",
    "sys.path.insert(0, '../../src')\n",
    "warnings.filterwarnings('ignore')"
   ]
  },
  {
   "cell_type": "code",
   "execution_count": 2,
   "id": "d6a4e155",
   "metadata": {
    "execution": {
     "iopub.execute_input": "2022-03-11T10:38:16.390819Z",
     "iopub.status.busy": "2022-03-11T10:38:16.390423Z",
     "iopub.status.idle": "2022-03-11T10:38:18.125282Z",
     "shell.execute_reply": "2022-03-11T10:38:18.125540Z"
    },
    "id": "d6a4e155",
    "papermill": {
     "duration": 1.74584,
     "end_time": "2022-03-11T10:38:18.125663",
     "exception": false,
     "start_time": "2022-03-11T10:38:16.379823",
     "status": "completed"
    },
    "tags": []
   },
   "outputs": [],
   "source": [
    "import ABC_train_test2\n",
    "import bostonDataset\n",
    "import network\n",
    "import dataset\n",
    "import sanityChecks\n",
    "import torch \n",
    "import scrapbook as sb\n",
    "from statistics import mean \n",
    "import catboost as ctb \n",
    "from sklearn.model_selection import train_test_split\n",
    "from sklearn.metrics import mean_squared_error,mean_absolute_error\n",
    "import numpy as np"
   ]
  },
  {
   "cell_type": "markdown",
   "id": "2fa5b0f7",
   "metadata": {
    "id": "2fa5b0f7",
    "papermill": {
     "duration": 0.006841,
     "end_time": "2022-03-11T10:38:18.139618",
     "exception": false,
     "start_time": "2022-03-11T10:38:18.132777",
     "status": "completed"
    },
    "tags": []
   },
   "source": [
    "## Parameters "
   ]
  },
  {
   "cell_type": "code",
   "execution_count": 3,
   "id": "783186fb",
   "metadata": {
    "execution": {
     "iopub.execute_input": "2022-03-11T10:38:18.155442Z",
     "iopub.status.busy": "2022-03-11T10:38:18.155069Z",
     "iopub.status.idle": "2022-03-11T10:38:18.156335Z",
     "shell.execute_reply": "2022-03-11T10:38:18.156590Z"
    },
    "id": "783186fb",
    "papermill": {
     "duration": 0.010384,
     "end_time": "2022-03-11T10:38:18.156709",
     "exception": false,
     "start_time": "2022-03-11T10:38:18.146325",
     "status": "completed"
    },
    "tags": [
     "parameters"
    ]
   },
   "outputs": [],
   "source": [
    "variance = 1"
   ]
  },
  {
   "cell_type": "code",
   "execution_count": 4,
   "id": "8bfaf9cd",
   "metadata": {
    "execution": {
     "iopub.execute_input": "2022-03-11T10:38:18.172409Z",
     "iopub.status.busy": "2022-03-11T10:38:18.172056Z",
     "iopub.status.idle": "2022-03-11T10:38:18.173334Z",
     "shell.execute_reply": "2022-03-11T10:38:18.173586Z"
    },
    "papermill": {
     "duration": 0.009967,
     "end_time": "2022-03-11T10:38:18.173690",
     "exception": false,
     "start_time": "2022-03-11T10:38:18.163723",
     "status": "completed"
    },
    "tags": [
     "injected-parameters"
    ]
   },
   "outputs": [],
   "source": [
    "# Parameters\n",
    "variance = 1\n"
   ]
  },
  {
   "cell_type": "markdown",
   "id": "391cdbfd",
   "metadata": {
    "id": "391cdbfd",
    "papermill": {
     "duration": 0.006822,
     "end_time": "2022-03-11T10:38:18.187412",
     "exception": false,
     "start_time": "2022-03-11T10:38:18.180590",
     "status": "completed"
    },
    "tags": []
   },
   "source": [
    "## Dataset \n"
   ]
  },
  {
   "cell_type": "code",
   "execution_count": 5,
   "id": "5b51f161",
   "metadata": {
    "execution": {
     "iopub.execute_input": "2022-03-11T10:38:18.203050Z",
     "iopub.status.busy": "2022-03-11T10:38:18.202690Z",
     "iopub.status.idle": "2022-03-11T10:38:18.203990Z",
     "shell.execute_reply": "2022-03-11T10:38:18.204295Z"
    },
    "id": "5b51f161",
    "papermill": {
     "duration": 0.010149,
     "end_time": "2022-03-11T10:38:18.204403",
     "exception": false,
     "start_time": "2022-03-11T10:38:18.194254",
     "status": "completed"
    },
    "tags": []
   },
   "outputs": [],
   "source": [
    "#Parameters \n",
    "n_features = 13\n",
    "n_samples= 506\n",
    "n_target = 1 "
   ]
  },
  {
   "cell_type": "code",
   "execution_count": 6,
   "id": "5d6eced4",
   "metadata": {
    "execution": {
     "iopub.execute_input": "2022-03-11T10:38:18.220144Z",
     "iopub.status.busy": "2022-03-11T10:38:18.219775Z",
     "iopub.status.idle": "2022-03-11T10:38:18.230427Z",
     "shell.execute_reply": "2022-03-11T10:38:18.230679Z"
    },
    "id": "5d6eced4",
    "papermill": {
     "duration": 0.019396,
     "end_time": "2022-03-11T10:38:18.230792",
     "exception": false,
     "start_time": "2022-03-11T10:38:18.211396",
     "status": "completed"
    },
    "tags": []
   },
   "outputs": [
    {
     "name": "stdout",
     "output_type": "stream",
     "text": [
      "         X1        X2        X3        X4        X5        X6        X7  \\\n",
      "0 -0.419782  0.284830 -1.287909 -0.272599 -0.144217  0.413672 -0.120013   \n",
      "1 -0.417339 -0.487722 -0.593381 -0.272599 -0.740262  0.194274  0.367166   \n",
      "2 -0.417342 -0.487722 -0.593381 -0.272599 -0.740262  1.282714 -0.265812   \n",
      "3 -0.416750 -0.487722 -1.306878 -0.272599 -0.835284  1.016303 -0.809889   \n",
      "4 -0.412482 -0.487722 -1.306878 -0.272599 -0.835284  1.228577 -0.511180   \n",
      "\n",
      "         X8        X9       X10       X11       X12       X13         Y  \n",
      "0  0.140214 -0.982843 -0.666608 -1.459000  0.441052 -1.075562  0.159686  \n",
      "1  0.557160 -0.867883 -0.987329 -0.303094  0.441052 -0.492439 -0.101524  \n",
      "2  0.557160 -0.867883 -0.987329 -0.303094  0.396427 -1.208727  1.324247  \n",
      "3  1.077737 -0.752922 -1.106115  0.113032  0.416163 -1.361517  1.182758  \n",
      "4  1.077737 -0.752922 -1.106115  0.113032  0.441052 -1.026501  1.487503  \n"
     ]
    }
   ],
   "source": [
    "X,Y = bostonDataset.boston_data()"
   ]
  },
  {
   "cell_type": "code",
   "execution_count": 7,
   "id": "fe007438",
   "metadata": {
    "execution": {
     "iopub.execute_input": "2022-03-11T10:38:18.248105Z",
     "iopub.status.busy": "2022-03-11T10:38:18.247687Z",
     "iopub.status.idle": "2022-03-11T10:38:18.248999Z",
     "shell.execute_reply": "2022-03-11T10:38:18.249293Z"
    },
    "id": "fe007438",
    "papermill": {
     "duration": 0.011216,
     "end_time": "2022-03-11T10:38:18.249401",
     "exception": false,
     "start_time": "2022-03-11T10:38:18.238185",
     "status": "completed"
    },
    "tags": []
   },
   "outputs": [],
   "source": [
    "#Train test split for dataset \n",
    "X_train,X_test,Y_train,Y_test = train_test_split(X,Y,test_size = 0.2)\n",
    "train_data = dataset.CustomDataset(X_train,Y_train)\n",
    "test_data = dataset.CustomDataset(X_test,Y_test)\n"
   ]
  },
  {
   "cell_type": "markdown",
   "id": "a9a1af34",
   "metadata": {
    "id": "a9a1af34",
    "papermill": {
     "duration": 0.007149,
     "end_time": "2022-03-11T10:38:18.263753",
     "exception": false,
     "start_time": "2022-03-11T10:38:18.256604",
     "status": "completed"
    },
    "tags": []
   },
   "source": [
    "## Training Parameters "
   ]
  },
  {
   "cell_type": "code",
   "execution_count": 8,
   "id": "952b7fc8",
   "metadata": {
    "execution": {
     "iopub.execute_input": "2022-03-11T10:38:18.280372Z",
     "iopub.status.busy": "2022-03-11T10:38:18.280005Z",
     "iopub.status.idle": "2022-03-11T10:38:18.281306Z",
     "shell.execute_reply": "2022-03-11T10:38:18.281556Z"
    },
    "id": "952b7fc8",
    "papermill": {
     "duration": 0.01072,
     "end_time": "2022-03-11T10:38:18.281661",
     "exception": false,
     "start_time": "2022-03-11T10:38:18.270941",
     "status": "completed"
    },
    "tags": []
   },
   "outputs": [],
   "source": [
    "batch_size = 64\n",
    "n_epochs = 1000\n",
    "#Select the device \n",
    "device = torch.device('cuda' if torch.cuda.is_available() else 'cpu')"
   ]
  },
  {
   "cell_type": "markdown",
   "id": "a95e1600",
   "metadata": {
    "id": "a95e1600",
    "papermill": {
     "duration": 0.007082,
     "end_time": "2022-03-11T10:38:18.295925",
     "exception": false,
     "start_time": "2022-03-11T10:38:18.288843",
     "status": "completed"
    },
    "tags": []
   },
   "source": [
    "# ABC Pre-generator Model \n",
    "\n",
    "1. The catboost model is used as a pre-generator model for the ABC-GAN. \n",
    "2. The model is first trained on the entire dataset \n",
    "3. It generats X,Y pairs and we add some Gaussian noise with mean 0 and variance 1 to it which is then feed as input to the generator.\n"
   ]
  },
  {
   "cell_type": "code",
   "execution_count": 9,
   "id": "ff8ce7bd",
   "metadata": {
    "execution": {
     "iopub.execute_input": "2022-03-11T10:38:18.314695Z",
     "iopub.status.busy": "2022-03-11T10:38:18.314302Z",
     "iopub.status.idle": "2022-03-11T10:38:19.316321Z",
     "shell.execute_reply": "2022-03-11T10:38:19.316626Z"
    },
    "id": "ff8ce7bd",
    "papermill": {
     "duration": 1.01366,
     "end_time": "2022-03-11T10:38:19.316745",
     "exception": false,
     "start_time": "2022-03-11T10:38:18.303085",
     "status": "completed"
    },
    "tags": []
   },
   "outputs": [
    {
     "name": "stdout",
     "output_type": "stream",
     "text": [
      "Learning rate set to 0.033215\n",
      "0:\tlearn: 0.9785420\ttotal: 58.6ms\tremaining: 58.5s\n",
      "1:\tlearn: 0.9582402\ttotal: 59.7ms\tremaining: 29.8s\n",
      "2:\tlearn: 0.9371596\ttotal: 60.7ms\tremaining: 20.2s\n",
      "3:\tlearn: 0.9206206\ttotal: 61.8ms\tremaining: 15.4s\n",
      "4:\tlearn: 0.9025497\ttotal: 62.8ms\tremaining: 12.5s\n",
      "5:\tlearn: 0.8876550\ttotal: 63.9ms\tremaining: 10.6s\n",
      "6:\tlearn: 0.8700767\ttotal: 64.8ms\tremaining: 9.19s\n",
      "7:\tlearn: 0.8524394\ttotal: 65.9ms\tremaining: 8.17s\n",
      "8:\tlearn: 0.8358493\ttotal: 66.8ms\tremaining: 7.35s\n",
      "9:\tlearn: 0.8193155\ttotal: 67.6ms\tremaining: 6.69s\n",
      "10:\tlearn: 0.8042235\ttotal: 68.5ms\tremaining: 6.16s\n",
      "11:\tlearn: 0.7897908\ttotal: 69.3ms\tremaining: 5.7s\n",
      "12:\tlearn: 0.7740856\ttotal: 70.1ms\tremaining: 5.32s\n",
      "13:\tlearn: 0.7588054\ttotal: 71ms\tremaining: 5s\n",
      "14:\tlearn: 0.7460372\ttotal: 71.8ms\tremaining: 4.71s\n",
      "15:\tlearn: 0.7322559\ttotal: 72.6ms\tremaining: 4.46s\n",
      "16:\tlearn: 0.7200824\ttotal: 73.5ms\tremaining: 4.25s\n",
      "17:\tlearn: 0.7073940\ttotal: 74.5ms\tremaining: 4.06s\n",
      "18:\tlearn: 0.6947860\ttotal: 75.3ms\tremaining: 3.89s\n",
      "19:\tlearn: 0.6827174\ttotal: 76.1ms\tremaining: 3.73s\n",
      "20:\tlearn: 0.6709627\ttotal: 76.9ms\tremaining: 3.58s\n",
      "21:\tlearn: 0.6593089\ttotal: 77.7ms\tremaining: 3.45s\n",
      "22:\tlearn: 0.6480710\ttotal: 78.6ms\tremaining: 3.34s\n",
      "23:\tlearn: 0.6382359\ttotal: 79.3ms\tremaining: 3.23s\n",
      "24:\tlearn: 0.6275120\ttotal: 80.1ms\tremaining: 3.13s\n",
      "25:\tlearn: 0.6182119\ttotal: 81ms\tremaining: 3.03s\n",
      "26:\tlearn: 0.6089018\ttotal: 81.8ms\tremaining: 2.95s\n",
      "27:\tlearn: 0.6001663\ttotal: 82.5ms\tremaining: 2.86s\n",
      "28:\tlearn: 0.5905200\ttotal: 83.3ms\tremaining: 2.79s\n",
      "29:\tlearn: 0.5805974\ttotal: 84.1ms\tremaining: 2.72s\n",
      "30:\tlearn: 0.5707673\ttotal: 85ms\tremaining: 2.66s\n",
      "31:\tlearn: 0.5622688\ttotal: 85.9ms\tremaining: 2.6s\n",
      "32:\tlearn: 0.5542732\ttotal: 86.7ms\tremaining: 2.54s\n",
      "33:\tlearn: 0.5463150\ttotal: 87.6ms\tremaining: 2.49s\n",
      "34:\tlearn: 0.5394743\ttotal: 88.5ms\tremaining: 2.44s\n",
      "35:\tlearn: 0.5318918\ttotal: 89.4ms\tremaining: 2.39s\n",
      "36:\tlearn: 0.5251636\ttotal: 90.2ms\tremaining: 2.35s\n",
      "37:\tlearn: 0.5174167\ttotal: 91ms\tremaining: 2.3s\n",
      "38:\tlearn: 0.5100909\ttotal: 92ms\tremaining: 2.27s\n",
      "39:\tlearn: 0.5023254\ttotal: 92.8ms\tremaining: 2.23s\n",
      "40:\tlearn: 0.4958964\ttotal: 93.7ms\tremaining: 2.19s\n",
      "41:\tlearn: 0.4896074\ttotal: 94.6ms\tremaining: 2.16s\n",
      "42:\tlearn: 0.4835618\ttotal: 95.5ms\tremaining: 2.13s\n",
      "43:\tlearn: 0.4778412\ttotal: 96.5ms\tremaining: 2.1s\n",
      "44:\tlearn: 0.4722489\ttotal: 97.3ms\tremaining: 2.06s\n",
      "45:\tlearn: 0.4659592\ttotal: 98.2ms\tremaining: 2.04s\n",
      "46:\tlearn: 0.4603533\ttotal: 98.9ms\tremaining: 2.01s\n",
      "47:\tlearn: 0.4543995\ttotal: 99.8ms\tremaining: 1.98s\n",
      "48:\tlearn: 0.4488572\ttotal: 101ms\tremaining: 1.95s\n",
      "49:\tlearn: 0.4440858\ttotal: 101ms\tremaining: 1.93s\n",
      "50:\tlearn: 0.4389591\ttotal: 102ms\tremaining: 1.9s\n",
      "51:\tlearn: 0.4349989\ttotal: 103ms\tremaining: 1.88s\n",
      "52:\tlearn: 0.4298314\ttotal: 104ms\tremaining: 1.86s\n",
      "53:\tlearn: 0.4251632\ttotal: 105ms\tremaining: 1.83s\n",
      "54:\tlearn: 0.4212439\ttotal: 106ms\tremaining: 1.81s\n",
      "55:\tlearn: 0.4159389\ttotal: 107ms\tremaining: 1.8s\n",
      "56:\tlearn: 0.4120108\ttotal: 108ms\tremaining: 1.78s\n",
      "57:\tlearn: 0.4069139\ttotal: 108ms\tremaining: 1.76s\n"
     ]
    },
    {
     "name": "stdout",
     "output_type": "stream",
     "text": [
      "58:\tlearn: 0.4028330\ttotal: 110ms\tremaining: 1.75s\n",
      "59:\tlearn: 0.3982549\ttotal: 110ms\tremaining: 1.73s\n",
      "60:\tlearn: 0.3945689\ttotal: 111ms\tremaining: 1.71s\n",
      "61:\tlearn: 0.3909006\ttotal: 112ms\tremaining: 1.7s\n",
      "62:\tlearn: 0.3871164\ttotal: 113ms\tremaining: 1.68s\n",
      "63:\tlearn: 0.3832426\ttotal: 114ms\tremaining: 1.66s\n",
      "64:\tlearn: 0.3797874\ttotal: 115ms\tremaining: 1.65s\n",
      "65:\tlearn: 0.3760431\ttotal: 116ms\tremaining: 1.63s\n",
      "66:\tlearn: 0.3721904\ttotal: 117ms\tremaining: 1.63s\n",
      "67:\tlearn: 0.3689814\ttotal: 118ms\tremaining: 1.62s\n",
      "68:\tlearn: 0.3663189\ttotal: 119ms\tremaining: 1.6s\n",
      "69:\tlearn: 0.3629093\ttotal: 120ms\tremaining: 1.59s\n",
      "70:\tlearn: 0.3594882\ttotal: 121ms\tremaining: 1.58s\n",
      "71:\tlearn: 0.3563029\ttotal: 122ms\tremaining: 1.57s\n",
      "72:\tlearn: 0.3531679\ttotal: 122ms\tremaining: 1.55s\n",
      "73:\tlearn: 0.3503304\ttotal: 123ms\tremaining: 1.54s\n",
      "74:\tlearn: 0.3474776\ttotal: 124ms\tremaining: 1.53s\n",
      "75:\tlearn: 0.3451758\ttotal: 125ms\tremaining: 1.52s\n",
      "76:\tlearn: 0.3423874\ttotal: 126ms\tremaining: 1.51s\n",
      "77:\tlearn: 0.3395958\ttotal: 127ms\tremaining: 1.5s\n",
      "78:\tlearn: 0.3370828\ttotal: 128ms\tremaining: 1.49s\n",
      "79:\tlearn: 0.3346697\ttotal: 129ms\tremaining: 1.48s\n",
      "80:\tlearn: 0.3324031\ttotal: 130ms\tremaining: 1.47s\n",
      "81:\tlearn: 0.3297449\ttotal: 130ms\tremaining: 1.46s\n",
      "82:\tlearn: 0.3271045\ttotal: 131ms\tremaining: 1.45s\n",
      "83:\tlearn: 0.3245004\ttotal: 132ms\tremaining: 1.44s\n",
      "84:\tlearn: 0.3218401\ttotal: 133ms\tremaining: 1.43s\n",
      "85:\tlearn: 0.3198285\ttotal: 134ms\tremaining: 1.42s\n",
      "86:\tlearn: 0.3175557\ttotal: 135ms\tremaining: 1.41s\n",
      "87:\tlearn: 0.3154848\ttotal: 135ms\tremaining: 1.4s\n",
      "88:\tlearn: 0.3136512\ttotal: 136ms\tremaining: 1.4s\n",
      "89:\tlearn: 0.3112833\ttotal: 137ms\tremaining: 1.39s\n",
      "90:\tlearn: 0.3092399\ttotal: 138ms\tremaining: 1.38s\n",
      "91:\tlearn: 0.3072958\ttotal: 139ms\tremaining: 1.37s\n",
      "92:\tlearn: 0.3057266\ttotal: 140ms\tremaining: 1.36s\n",
      "93:\tlearn: 0.3039359\ttotal: 141ms\tremaining: 1.35s\n",
      "94:\tlearn: 0.3022066\ttotal: 142ms\tremaining: 1.35s\n",
      "95:\tlearn: 0.3002716\ttotal: 142ms\tremaining: 1.34s\n",
      "96:\tlearn: 0.2987058\ttotal: 143ms\tremaining: 1.33s\n",
      "97:\tlearn: 0.2972067\ttotal: 144ms\tremaining: 1.32s\n",
      "98:\tlearn: 0.2949667\ttotal: 145ms\tremaining: 1.32s\n",
      "99:\tlearn: 0.2935062\ttotal: 146ms\tremaining: 1.31s\n",
      "100:\tlearn: 0.2919490\ttotal: 147ms\tremaining: 1.3s\n",
      "101:\tlearn: 0.2905772\ttotal: 148ms\tremaining: 1.3s\n",
      "102:\tlearn: 0.2893282\ttotal: 149ms\tremaining: 1.29s\n",
      "103:\tlearn: 0.2879668\ttotal: 149ms\tremaining: 1.29s\n",
      "104:\tlearn: 0.2859545\ttotal: 150ms\tremaining: 1.28s\n",
      "105:\tlearn: 0.2845959\ttotal: 151ms\tremaining: 1.28s\n",
      "106:\tlearn: 0.2831300\ttotal: 152ms\tremaining: 1.27s\n",
      "107:\tlearn: 0.2815890\ttotal: 153ms\tremaining: 1.26s\n",
      "108:\tlearn: 0.2801706\ttotal: 154ms\tremaining: 1.26s\n",
      "109:\tlearn: 0.2787989\ttotal: 155ms\tremaining: 1.25s\n",
      "110:\tlearn: 0.2774129\ttotal: 156ms\tremaining: 1.25s\n",
      "111:\tlearn: 0.2759838\ttotal: 156ms\tremaining: 1.24s\n",
      "112:\tlearn: 0.2748098\ttotal: 157ms\tremaining: 1.24s\n",
      "113:\tlearn: 0.2735388\ttotal: 158ms\tremaining: 1.23s\n",
      "114:\tlearn: 0.2723437\ttotal: 159ms\tremaining: 1.22s\n",
      "115:\tlearn: 0.2712594\ttotal: 160ms\tremaining: 1.22s\n",
      "116:\tlearn: 0.2699838\ttotal: 161ms\tremaining: 1.22s\n",
      "117:\tlearn: 0.2690707\ttotal: 162ms\tremaining: 1.21s\n",
      "118:\tlearn: 0.2678914\ttotal: 163ms\tremaining: 1.21s\n",
      "119:\tlearn: 0.2671247\ttotal: 164ms\tremaining: 1.21s\n",
      "120:\tlearn: 0.2656542\ttotal: 165ms\tremaining: 1.2s\n",
      "121:\tlearn: 0.2645220\ttotal: 166ms\tremaining: 1.2s\n",
      "122:\tlearn: 0.2632199\ttotal: 167ms\tremaining: 1.19s\n",
      "123:\tlearn: 0.2625030\ttotal: 168ms\tremaining: 1.19s\n",
      "124:\tlearn: 0.2614020\ttotal: 169ms\tremaining: 1.18s\n",
      "125:\tlearn: 0.2602697\ttotal: 170ms\tremaining: 1.18s\n",
      "126:\tlearn: 0.2587071\ttotal: 170ms\tremaining: 1.17s\n",
      "127:\tlearn: 0.2573018\ttotal: 171ms\tremaining: 1.17s\n",
      "128:\tlearn: 0.2559511\ttotal: 172ms\tremaining: 1.16s\n",
      "129:\tlearn: 0.2549855\ttotal: 173ms\tremaining: 1.16s\n",
      "130:\tlearn: 0.2540570\ttotal: 174ms\tremaining: 1.15s\n",
      "131:\tlearn: 0.2531114\ttotal: 175ms\tremaining: 1.15s\n",
      "132:\tlearn: 0.2520655\ttotal: 176ms\tremaining: 1.15s\n",
      "133:\tlearn: 0.2513930\ttotal: 177ms\tremaining: 1.14s\n",
      "134:\tlearn: 0.2503158\ttotal: 178ms\tremaining: 1.14s\n",
      "135:\tlearn: 0.2494604\ttotal: 179ms\tremaining: 1.13s\n",
      "136:\tlearn: 0.2482549\ttotal: 179ms\tremaining: 1.13s\n",
      "137:\tlearn: 0.2475198\ttotal: 180ms\tremaining: 1.13s\n",
      "138:\tlearn: 0.2466816\ttotal: 181ms\tremaining: 1.12s\n",
      "139:\tlearn: 0.2457134\ttotal: 182ms\tremaining: 1.12s\n",
      "140:\tlearn: 0.2449750\ttotal: 183ms\tremaining: 1.11s\n",
      "141:\tlearn: 0.2441927\ttotal: 184ms\tremaining: 1.11s\n",
      "142:\tlearn: 0.2433134\ttotal: 184ms\tremaining: 1.1s\n",
      "143:\tlearn: 0.2427285\ttotal: 185ms\tremaining: 1.1s\n",
      "144:\tlearn: 0.2420564\ttotal: 186ms\tremaining: 1.1s\n",
      "145:\tlearn: 0.2414581\ttotal: 188ms\tremaining: 1.1s\n",
      "146:\tlearn: 0.2407772\ttotal: 189ms\tremaining: 1.09s\n",
      "147:\tlearn: 0.2396579\ttotal: 189ms\tremaining: 1.09s\n",
      "148:\tlearn: 0.2388821\ttotal: 191ms\tremaining: 1.09s\n",
      "149:\tlearn: 0.2380913\ttotal: 191ms\tremaining: 1.08s\n"
     ]
    },
    {
     "name": "stdout",
     "output_type": "stream",
     "text": [
      "150:\tlearn: 0.2372992\ttotal: 192ms\tremaining: 1.08s\n",
      "151:\tlearn: 0.2367154\ttotal: 193ms\tremaining: 1.08s\n",
      "152:\tlearn: 0.2358381\ttotal: 194ms\tremaining: 1.07s\n",
      "153:\tlearn: 0.2349686\ttotal: 195ms\tremaining: 1.07s\n",
      "154:\tlearn: 0.2343242\ttotal: 196ms\tremaining: 1.07s\n",
      "155:\tlearn: 0.2334153\ttotal: 197ms\tremaining: 1.07s\n",
      "156:\tlearn: 0.2328734\ttotal: 198ms\tremaining: 1.06s\n",
      "157:\tlearn: 0.2318353\ttotal: 199ms\tremaining: 1.06s\n",
      "158:\tlearn: 0.2310587\ttotal: 200ms\tremaining: 1.06s\n",
      "159:\tlearn: 0.2304041\ttotal: 201ms\tremaining: 1.05s\n",
      "160:\tlearn: 0.2296585\ttotal: 202ms\tremaining: 1.05s\n",
      "161:\tlearn: 0.2289634\ttotal: 202ms\tremaining: 1.05s\n",
      "162:\tlearn: 0.2284675\ttotal: 203ms\tremaining: 1.04s\n",
      "163:\tlearn: 0.2279994\ttotal: 204ms\tremaining: 1.04s\n",
      "164:\tlearn: 0.2272746\ttotal: 205ms\tremaining: 1.04s\n",
      "165:\tlearn: 0.2265558\ttotal: 206ms\tremaining: 1.03s\n",
      "166:\tlearn: 0.2257286\ttotal: 207ms\tremaining: 1.03s\n",
      "167:\tlearn: 0.2253470\ttotal: 208ms\tremaining: 1.03s\n",
      "168:\tlearn: 0.2248204\ttotal: 208ms\tremaining: 1.02s\n",
      "169:\tlearn: 0.2239575\ttotal: 209ms\tremaining: 1.02s\n",
      "170:\tlearn: 0.2235016\ttotal: 210ms\tremaining: 1.02s\n",
      "171:\tlearn: 0.2228161\ttotal: 211ms\tremaining: 1.02s\n",
      "172:\tlearn: 0.2218671\ttotal: 212ms\tremaining: 1.01s\n",
      "173:\tlearn: 0.2210305\ttotal: 213ms\tremaining: 1.01s\n",
      "174:\tlearn: 0.2202023\ttotal: 214ms\tremaining: 1.01s\n",
      "175:\tlearn: 0.2195752\ttotal: 215ms\tremaining: 1s\n",
      "176:\tlearn: 0.2188816\ttotal: 216ms\tremaining: 1s\n",
      "177:\tlearn: 0.2182309\ttotal: 217ms\tremaining: 1s\n",
      "178:\tlearn: 0.2177821\ttotal: 217ms\tremaining: 997ms\n",
      "179:\tlearn: 0.2172577\ttotal: 218ms\tremaining: 994ms\n",
      "180:\tlearn: 0.2166928\ttotal: 219ms\tremaining: 992ms\n",
      "181:\tlearn: 0.2159857\ttotal: 220ms\tremaining: 989ms\n",
      "182:\tlearn: 0.2153756\ttotal: 221ms\tremaining: 986ms\n",
      "183:\tlearn: 0.2148323\ttotal: 222ms\tremaining: 983ms\n",
      "184:\tlearn: 0.2142128\ttotal: 222ms\tremaining: 980ms\n",
      "185:\tlearn: 0.2135521\ttotal: 223ms\tremaining: 977ms\n",
      "186:\tlearn: 0.2128385\ttotal: 224ms\tremaining: 974ms\n",
      "187:\tlearn: 0.2121005\ttotal: 225ms\tremaining: 972ms\n",
      "188:\tlearn: 0.2116020\ttotal: 226ms\tremaining: 969ms\n",
      "189:\tlearn: 0.2110080\ttotal: 227ms\tremaining: 966ms\n",
      "190:\tlearn: 0.2103695\ttotal: 228ms\tremaining: 964ms\n",
      "191:\tlearn: 0.2095089\ttotal: 229ms\tremaining: 962ms\n",
      "192:\tlearn: 0.2089805\ttotal: 229ms\tremaining: 959ms\n",
      "193:\tlearn: 0.2082085\ttotal: 230ms\tremaining: 957ms\n",
      "194:\tlearn: 0.2075780\ttotal: 231ms\tremaining: 954ms\n",
      "195:\tlearn: 0.2070782\ttotal: 232ms\tremaining: 952ms\n",
      "196:\tlearn: 0.2063388\ttotal: 233ms\tremaining: 949ms\n",
      "197:\tlearn: 0.2058512\ttotal: 234ms\tremaining: 947ms\n",
      "198:\tlearn: 0.2053155\ttotal: 235ms\tremaining: 945ms\n",
      "199:\tlearn: 0.2046763\ttotal: 236ms\tremaining: 943ms\n",
      "200:\tlearn: 0.2039233\ttotal: 237ms\tremaining: 941ms\n",
      "201:\tlearn: 0.2036008\ttotal: 237ms\tremaining: 938ms\n",
      "202:\tlearn: 0.2030406\ttotal: 238ms\tremaining: 935ms\n",
      "203:\tlearn: 0.2024301\ttotal: 239ms\tremaining: 933ms\n",
      "204:\tlearn: 0.2018410\ttotal: 240ms\tremaining: 931ms\n",
      "205:\tlearn: 0.2013727\ttotal: 241ms\tremaining: 929ms\n",
      "206:\tlearn: 0.2008888\ttotal: 242ms\tremaining: 927ms\n",
      "207:\tlearn: 0.2005089\ttotal: 243ms\tremaining: 925ms\n",
      "208:\tlearn: 0.2000334\ttotal: 244ms\tremaining: 922ms\n",
      "209:\tlearn: 0.1995989\ttotal: 244ms\tremaining: 920ms\n",
      "210:\tlearn: 0.1990500\ttotal: 245ms\tremaining: 917ms\n",
      "211:\tlearn: 0.1984575\ttotal: 246ms\tremaining: 915ms\n",
      "212:\tlearn: 0.1979697\ttotal: 247ms\tremaining: 913ms\n",
      "213:\tlearn: 0.1975765\ttotal: 248ms\tremaining: 910ms\n",
      "214:\tlearn: 0.1970447\ttotal: 249ms\tremaining: 908ms\n",
      "215:\tlearn: 0.1965775\ttotal: 250ms\tremaining: 906ms\n",
      "216:\tlearn: 0.1958313\ttotal: 250ms\tremaining: 904ms\n",
      "217:\tlearn: 0.1952830\ttotal: 251ms\tremaining: 901ms\n",
      "218:\tlearn: 0.1949088\ttotal: 252ms\tremaining: 899ms\n",
      "219:\tlearn: 0.1943774\ttotal: 253ms\tremaining: 897ms\n",
      "220:\tlearn: 0.1938756\ttotal: 254ms\tremaining: 895ms\n",
      "221:\tlearn: 0.1934775\ttotal: 255ms\tremaining: 892ms\n",
      "222:\tlearn: 0.1929354\ttotal: 255ms\tremaining: 890ms\n",
      "223:\tlearn: 0.1923064\ttotal: 256ms\tremaining: 888ms\n",
      "224:\tlearn: 0.1918802\ttotal: 257ms\tremaining: 886ms\n",
      "225:\tlearn: 0.1913799\ttotal: 258ms\tremaining: 883ms\n",
      "226:\tlearn: 0.1908939\ttotal: 259ms\tremaining: 882ms\n",
      "227:\tlearn: 0.1903578\ttotal: 260ms\tremaining: 880ms\n",
      "228:\tlearn: 0.1898680\ttotal: 261ms\tremaining: 878ms\n",
      "229:\tlearn: 0.1894055\ttotal: 262ms\tremaining: 875ms\n",
      "230:\tlearn: 0.1887538\ttotal: 262ms\tremaining: 873ms\n",
      "231:\tlearn: 0.1880665\ttotal: 263ms\tremaining: 871ms\n",
      "232:\tlearn: 0.1874565\ttotal: 264ms\tremaining: 869ms\n",
      "233:\tlearn: 0.1871990\ttotal: 265ms\tremaining: 867ms\n",
      "234:\tlearn: 0.1865363\ttotal: 266ms\tremaining: 865ms\n",
      "235:\tlearn: 0.1862177\ttotal: 267ms\tremaining: 863ms\n",
      "236:\tlearn: 0.1857177\ttotal: 267ms\tremaining: 861ms\n",
      "237:\tlearn: 0.1852891\ttotal: 268ms\tremaining: 859ms\n",
      "238:\tlearn: 0.1848097\ttotal: 269ms\tremaining: 857ms\n",
      "239:\tlearn: 0.1844329\ttotal: 270ms\tremaining: 855ms\n",
      "240:\tlearn: 0.1839400\ttotal: 271ms\tremaining: 853ms\n",
      "241:\tlearn: 0.1833910\ttotal: 272ms\tremaining: 851ms\n",
      "242:\tlearn: 0.1829394\ttotal: 272ms\tremaining: 849ms\n",
      "243:\tlearn: 0.1825810\ttotal: 273ms\tremaining: 847ms\n",
      "244:\tlearn: 0.1821990\ttotal: 274ms\tremaining: 845ms\n",
      "245:\tlearn: 0.1817457\ttotal: 275ms\tremaining: 843ms\n",
      "246:\tlearn: 0.1812634\ttotal: 276ms\tremaining: 841ms\n",
      "247:\tlearn: 0.1807804\ttotal: 277ms\tremaining: 839ms\n",
      "248:\tlearn: 0.1803699\ttotal: 278ms\tremaining: 837ms\n",
      "249:\tlearn: 0.1798609\ttotal: 278ms\tremaining: 835ms\n",
      "250:\tlearn: 0.1795325\ttotal: 279ms\tremaining: 833ms\n",
      "251:\tlearn: 0.1791752\ttotal: 280ms\tremaining: 832ms\n",
      "252:\tlearn: 0.1787101\ttotal: 281ms\tremaining: 830ms\n",
      "253:\tlearn: 0.1781898\ttotal: 282ms\tremaining: 828ms\n",
      "254:\tlearn: 0.1777245\ttotal: 283ms\tremaining: 826ms\n",
      "255:\tlearn: 0.1773235\ttotal: 284ms\tremaining: 824ms\n",
      "256:\tlearn: 0.1768819\ttotal: 284ms\tremaining: 822ms\n",
      "257:\tlearn: 0.1765310\ttotal: 285ms\tremaining: 821ms\n",
      "258:\tlearn: 0.1760670\ttotal: 286ms\tremaining: 819ms\n",
      "259:\tlearn: 0.1754079\ttotal: 287ms\tremaining: 817ms\n",
      "260:\tlearn: 0.1749424\ttotal: 288ms\tremaining: 815ms\n",
      "261:\tlearn: 0.1746657\ttotal: 289ms\tremaining: 814ms\n",
      "262:\tlearn: 0.1740371\ttotal: 290ms\tremaining: 812ms\n",
      "263:\tlearn: 0.1737234\ttotal: 291ms\tremaining: 811ms\n",
      "264:\tlearn: 0.1731883\ttotal: 292ms\tremaining: 809ms\n",
      "265:\tlearn: 0.1729004\ttotal: 293ms\tremaining: 808ms\n",
      "266:\tlearn: 0.1725866\ttotal: 294ms\tremaining: 807ms\n",
      "267:\tlearn: 0.1720037\ttotal: 295ms\tremaining: 805ms\n",
      "268:\tlearn: 0.1715480\ttotal: 296ms\tremaining: 804ms\n",
      "269:\tlearn: 0.1711943\ttotal: 297ms\tremaining: 803ms\n",
      "270:\tlearn: 0.1708644\ttotal: 298ms\tremaining: 801ms\n",
      "271:\tlearn: 0.1705119\ttotal: 299ms\tremaining: 800ms\n",
      "272:\tlearn: 0.1701658\ttotal: 300ms\tremaining: 799ms\n"
     ]
    },
    {
     "name": "stdout",
     "output_type": "stream",
     "text": [
      "273:\tlearn: 0.1698409\ttotal: 301ms\tremaining: 798ms\n",
      "274:\tlearn: 0.1694684\ttotal: 302ms\tremaining: 797ms\n",
      "275:\tlearn: 0.1692197\ttotal: 303ms\tremaining: 796ms\n",
      "276:\tlearn: 0.1688083\ttotal: 304ms\tremaining: 795ms\n",
      "277:\tlearn: 0.1684501\ttotal: 305ms\tremaining: 793ms\n",
      "278:\tlearn: 0.1680274\ttotal: 306ms\tremaining: 792ms\n",
      "279:\tlearn: 0.1676075\ttotal: 307ms\tremaining: 790ms\n",
      "280:\tlearn: 0.1672081\ttotal: 308ms\tremaining: 788ms\n",
      "281:\tlearn: 0.1668764\ttotal: 309ms\tremaining: 787ms\n",
      "282:\tlearn: 0.1665376\ttotal: 310ms\tremaining: 786ms\n",
      "283:\tlearn: 0.1661193\ttotal: 311ms\tremaining: 784ms\n",
      "284:\tlearn: 0.1655241\ttotal: 312ms\tremaining: 783ms\n",
      "285:\tlearn: 0.1652583\ttotal: 313ms\tremaining: 781ms\n",
      "286:\tlearn: 0.1647557\ttotal: 314ms\tremaining: 780ms\n",
      "287:\tlearn: 0.1642499\ttotal: 315ms\tremaining: 779ms\n",
      "288:\tlearn: 0.1639184\ttotal: 316ms\tremaining: 777ms\n",
      "289:\tlearn: 0.1635186\ttotal: 317ms\tremaining: 775ms\n",
      "290:\tlearn: 0.1631462\ttotal: 317ms\tremaining: 773ms\n",
      "291:\tlearn: 0.1626621\ttotal: 318ms\tremaining: 772ms\n",
      "292:\tlearn: 0.1624529\ttotal: 319ms\tremaining: 770ms\n",
      "293:\tlearn: 0.1623025\ttotal: 320ms\tremaining: 769ms\n",
      "294:\tlearn: 0.1619335\ttotal: 321ms\tremaining: 767ms\n",
      "295:\tlearn: 0.1615969\ttotal: 322ms\tremaining: 766ms\n",
      "296:\tlearn: 0.1611676\ttotal: 323ms\tremaining: 764ms\n",
      "297:\tlearn: 0.1608651\ttotal: 324ms\tremaining: 763ms\n",
      "298:\tlearn: 0.1606320\ttotal: 325ms\tremaining: 761ms\n",
      "299:\tlearn: 0.1603599\ttotal: 325ms\tremaining: 759ms\n",
      "300:\tlearn: 0.1599167\ttotal: 326ms\tremaining: 758ms\n",
      "301:\tlearn: 0.1597031\ttotal: 327ms\tremaining: 756ms\n",
      "302:\tlearn: 0.1593676\ttotal: 328ms\tremaining: 755ms\n",
      "303:\tlearn: 0.1589147\ttotal: 329ms\tremaining: 753ms\n",
      "304:\tlearn: 0.1583981\ttotal: 330ms\tremaining: 751ms\n",
      "305:\tlearn: 0.1579691\ttotal: 331ms\tremaining: 750ms\n",
      "306:\tlearn: 0.1577799\ttotal: 332ms\tremaining: 749ms\n",
      "307:\tlearn: 0.1572857\ttotal: 333ms\tremaining: 747ms\n",
      "308:\tlearn: 0.1569019\ttotal: 333ms\tremaining: 745ms\n",
      "309:\tlearn: 0.1567062\ttotal: 334ms\tremaining: 744ms\n",
      "310:\tlearn: 0.1562547\ttotal: 335ms\tremaining: 742ms\n",
      "311:\tlearn: 0.1559336\ttotal: 336ms\tremaining: 741ms\n",
      "312:\tlearn: 0.1556196\ttotal: 337ms\tremaining: 739ms\n",
      "313:\tlearn: 0.1552031\ttotal: 338ms\tremaining: 738ms\n",
      "314:\tlearn: 0.1546406\ttotal: 338ms\tremaining: 736ms\n",
      "315:\tlearn: 0.1542694\ttotal: 339ms\tremaining: 735ms\n",
      "316:\tlearn: 0.1538383\ttotal: 340ms\tremaining: 733ms\n",
      "317:\tlearn: 0.1536221\ttotal: 341ms\tremaining: 732ms\n",
      "318:\tlearn: 0.1531443\ttotal: 342ms\tremaining: 731ms\n",
      "319:\tlearn: 0.1528541\ttotal: 343ms\tremaining: 729ms\n",
      "320:\tlearn: 0.1525963\ttotal: 344ms\tremaining: 728ms\n",
      "321:\tlearn: 0.1522657\ttotal: 345ms\tremaining: 726ms\n",
      "322:\tlearn: 0.1517451\ttotal: 346ms\tremaining: 725ms\n",
      "323:\tlearn: 0.1514966\ttotal: 347ms\tremaining: 723ms\n",
      "324:\tlearn: 0.1511419\ttotal: 348ms\tremaining: 722ms\n",
      "325:\tlearn: 0.1507549\ttotal: 348ms\tremaining: 720ms\n",
      "326:\tlearn: 0.1504808\ttotal: 349ms\tremaining: 719ms\n",
      "327:\tlearn: 0.1501345\ttotal: 350ms\tremaining: 717ms\n",
      "328:\tlearn: 0.1498075\ttotal: 351ms\tremaining: 715ms\n",
      "329:\tlearn: 0.1494838\ttotal: 352ms\tremaining: 714ms\n",
      "330:\tlearn: 0.1491320\ttotal: 353ms\tremaining: 713ms\n",
      "331:\tlearn: 0.1489587\ttotal: 353ms\tremaining: 711ms\n",
      "332:\tlearn: 0.1486515\ttotal: 354ms\tremaining: 710ms\n",
      "333:\tlearn: 0.1483460\ttotal: 355ms\tremaining: 708ms\n",
      "334:\tlearn: 0.1480920\ttotal: 356ms\tremaining: 707ms\n",
      "335:\tlearn: 0.1476932\ttotal: 357ms\tremaining: 705ms\n",
      "336:\tlearn: 0.1473446\ttotal: 358ms\tremaining: 704ms\n",
      "337:\tlearn: 0.1470939\ttotal: 359ms\tremaining: 703ms\n",
      "338:\tlearn: 0.1468695\ttotal: 360ms\tremaining: 701ms\n",
      "339:\tlearn: 0.1466101\ttotal: 360ms\tremaining: 700ms\n",
      "340:\tlearn: 0.1464517\ttotal: 361ms\tremaining: 698ms\n",
      "341:\tlearn: 0.1461651\ttotal: 362ms\tremaining: 697ms\n",
      "342:\tlearn: 0.1459530\ttotal: 363ms\tremaining: 695ms\n",
      "343:\tlearn: 0.1455969\ttotal: 364ms\tremaining: 694ms\n",
      "344:\tlearn: 0.1451213\ttotal: 365ms\tremaining: 693ms\n",
      "345:\tlearn: 0.1449503\ttotal: 366ms\tremaining: 691ms\n",
      "346:\tlearn: 0.1445563\ttotal: 366ms\tremaining: 690ms\n",
      "347:\tlearn: 0.1442614\ttotal: 367ms\tremaining: 688ms\n",
      "348:\tlearn: 0.1439705\ttotal: 368ms\tremaining: 687ms\n",
      "349:\tlearn: 0.1437318\ttotal: 369ms\tremaining: 685ms\n",
      "350:\tlearn: 0.1435395\ttotal: 370ms\tremaining: 684ms\n",
      "351:\tlearn: 0.1432827\ttotal: 371ms\tremaining: 683ms\n",
      "352:\tlearn: 0.1430206\ttotal: 372ms\tremaining: 681ms\n",
      "353:\tlearn: 0.1428336\ttotal: 372ms\tremaining: 680ms\n",
      "354:\tlearn: 0.1425235\ttotal: 373ms\tremaining: 678ms\n",
      "355:\tlearn: 0.1422115\ttotal: 374ms\tremaining: 677ms\n",
      "356:\tlearn: 0.1421565\ttotal: 375ms\tremaining: 676ms\n",
      "357:\tlearn: 0.1417678\ttotal: 376ms\tremaining: 674ms\n",
      "358:\tlearn: 0.1413691\ttotal: 377ms\tremaining: 673ms\n",
      "359:\tlearn: 0.1410461\ttotal: 378ms\tremaining: 671ms\n",
      "360:\tlearn: 0.1406307\ttotal: 378ms\tremaining: 670ms\n",
      "361:\tlearn: 0.1403143\ttotal: 380ms\tremaining: 669ms\n",
      "362:\tlearn: 0.1399400\ttotal: 380ms\tremaining: 667ms\n",
      "363:\tlearn: 0.1396751\ttotal: 381ms\tremaining: 666ms\n",
      "364:\tlearn: 0.1393237\ttotal: 382ms\tremaining: 664ms\n"
     ]
    },
    {
     "name": "stdout",
     "output_type": "stream",
     "text": [
      "365:\tlearn: 0.1391068\ttotal: 384ms\tremaining: 664ms\n",
      "366:\tlearn: 0.1388312\ttotal: 385ms\tremaining: 663ms\n",
      "367:\tlearn: 0.1385419\ttotal: 385ms\tremaining: 662ms\n",
      "368:\tlearn: 0.1383080\ttotal: 386ms\tremaining: 661ms\n",
      "369:\tlearn: 0.1380365\ttotal: 387ms\tremaining: 659ms\n",
      "370:\tlearn: 0.1378760\ttotal: 388ms\tremaining: 658ms\n",
      "371:\tlearn: 0.1375934\ttotal: 389ms\tremaining: 657ms\n",
      "372:\tlearn: 0.1375596\ttotal: 390ms\tremaining: 655ms\n",
      "373:\tlearn: 0.1373859\ttotal: 391ms\tremaining: 654ms\n",
      "374:\tlearn: 0.1373353\ttotal: 392ms\tremaining: 653ms\n",
      "375:\tlearn: 0.1371479\ttotal: 393ms\tremaining: 651ms\n",
      "376:\tlearn: 0.1367831\ttotal: 393ms\tremaining: 650ms\n",
      "377:\tlearn: 0.1365540\ttotal: 394ms\tremaining: 649ms\n",
      "378:\tlearn: 0.1362684\ttotal: 395ms\tremaining: 647ms\n",
      "379:\tlearn: 0.1358854\ttotal: 396ms\tremaining: 646ms\n",
      "380:\tlearn: 0.1356796\ttotal: 397ms\tremaining: 645ms\n",
      "381:\tlearn: 0.1355391\ttotal: 398ms\tremaining: 643ms\n",
      "382:\tlearn: 0.1353489\ttotal: 399ms\tremaining: 642ms\n",
      "383:\tlearn: 0.1349557\ttotal: 399ms\tremaining: 641ms\n",
      "384:\tlearn: 0.1347451\ttotal: 400ms\tremaining: 639ms\n",
      "385:\tlearn: 0.1346097\ttotal: 401ms\tremaining: 638ms\n",
      "386:\tlearn: 0.1343468\ttotal: 402ms\tremaining: 637ms\n",
      "387:\tlearn: 0.1341337\ttotal: 403ms\tremaining: 635ms\n",
      "388:\tlearn: 0.1338905\ttotal: 404ms\tremaining: 634ms\n",
      "389:\tlearn: 0.1334967\ttotal: 405ms\tremaining: 633ms\n",
      "390:\tlearn: 0.1331803\ttotal: 405ms\tremaining: 631ms\n",
      "391:\tlearn: 0.1327971\ttotal: 406ms\tremaining: 630ms\n",
      "392:\tlearn: 0.1325570\ttotal: 407ms\tremaining: 629ms\n",
      "393:\tlearn: 0.1323421\ttotal: 408ms\tremaining: 627ms\n",
      "394:\tlearn: 0.1322025\ttotal: 409ms\tremaining: 626ms\n",
      "395:\tlearn: 0.1319417\ttotal: 410ms\tremaining: 625ms\n",
      "396:\tlearn: 0.1316241\ttotal: 410ms\tremaining: 623ms\n",
      "397:\tlearn: 0.1313897\ttotal: 411ms\tremaining: 622ms\n",
      "398:\tlearn: 0.1309742\ttotal: 412ms\tremaining: 621ms\n",
      "399:\tlearn: 0.1308502\ttotal: 413ms\tremaining: 619ms\n",
      "400:\tlearn: 0.1306196\ttotal: 414ms\tremaining: 618ms\n",
      "401:\tlearn: 0.1303570\ttotal: 415ms\tremaining: 617ms\n",
      "402:\tlearn: 0.1301196\ttotal: 416ms\tremaining: 616ms\n",
      "403:\tlearn: 0.1298993\ttotal: 416ms\tremaining: 614ms\n",
      "404:\tlearn: 0.1295968\ttotal: 417ms\tremaining: 613ms\n",
      "405:\tlearn: 0.1292841\ttotal: 418ms\tremaining: 612ms\n",
      "406:\tlearn: 0.1290442\ttotal: 419ms\tremaining: 610ms\n",
      "407:\tlearn: 0.1288452\ttotal: 420ms\tremaining: 609ms\n",
      "408:\tlearn: 0.1285055\ttotal: 420ms\tremaining: 608ms\n",
      "409:\tlearn: 0.1281264\ttotal: 421ms\tremaining: 606ms\n",
      "410:\tlearn: 0.1277481\ttotal: 422ms\tremaining: 605ms\n",
      "411:\tlearn: 0.1274902\ttotal: 423ms\tremaining: 604ms\n",
      "412:\tlearn: 0.1271820\ttotal: 424ms\tremaining: 603ms\n",
      "413:\tlearn: 0.1271231\ttotal: 425ms\tremaining: 601ms\n",
      "414:\tlearn: 0.1270348\ttotal: 426ms\tremaining: 600ms\n",
      "415:\tlearn: 0.1269869\ttotal: 427ms\tremaining: 599ms\n",
      "416:\tlearn: 0.1269614\ttotal: 427ms\tremaining: 598ms\n",
      "417:\tlearn: 0.1269365\ttotal: 428ms\tremaining: 596ms\n",
      "418:\tlearn: 0.1268901\ttotal: 429ms\tremaining: 595ms\n",
      "419:\tlearn: 0.1266834\ttotal: 430ms\tremaining: 594ms\n",
      "420:\tlearn: 0.1264900\ttotal: 431ms\tremaining: 593ms\n",
      "421:\tlearn: 0.1260713\ttotal: 432ms\tremaining: 591ms\n",
      "422:\tlearn: 0.1257862\ttotal: 433ms\tremaining: 590ms\n",
      "423:\tlearn: 0.1254104\ttotal: 433ms\tremaining: 589ms\n",
      "424:\tlearn: 0.1252584\ttotal: 434ms\tremaining: 588ms\n",
      "425:\tlearn: 0.1248758\ttotal: 435ms\tremaining: 586ms\n",
      "426:\tlearn: 0.1245740\ttotal: 436ms\tremaining: 585ms\n",
      "427:\tlearn: 0.1242438\ttotal: 437ms\tremaining: 584ms\n",
      "428:\tlearn: 0.1241082\ttotal: 438ms\tremaining: 583ms\n",
      "429:\tlearn: 0.1238338\ttotal: 439ms\tremaining: 581ms\n",
      "430:\tlearn: 0.1234994\ttotal: 440ms\tremaining: 580ms\n",
      "431:\tlearn: 0.1232001\ttotal: 440ms\tremaining: 579ms\n",
      "432:\tlearn: 0.1229489\ttotal: 441ms\tremaining: 578ms\n",
      "433:\tlearn: 0.1226139\ttotal: 442ms\tremaining: 576ms\n",
      "434:\tlearn: 0.1223533\ttotal: 443ms\tremaining: 575ms\n",
      "435:\tlearn: 0.1220549\ttotal: 444ms\tremaining: 574ms\n",
      "436:\tlearn: 0.1218685\ttotal: 444ms\tremaining: 573ms\n",
      "437:\tlearn: 0.1216030\ttotal: 445ms\tremaining: 571ms\n",
      "438:\tlearn: 0.1215697\ttotal: 446ms\tremaining: 570ms\n",
      "439:\tlearn: 0.1213015\ttotal: 447ms\tremaining: 569ms\n",
      "440:\tlearn: 0.1210520\ttotal: 448ms\tremaining: 568ms\n",
      "441:\tlearn: 0.1208914\ttotal: 449ms\tremaining: 566ms\n",
      "442:\tlearn: 0.1206458\ttotal: 449ms\tremaining: 565ms\n",
      "443:\tlearn: 0.1204184\ttotal: 450ms\tremaining: 564ms\n",
      "444:\tlearn: 0.1203973\ttotal: 451ms\tremaining: 563ms\n",
      "445:\tlearn: 0.1203687\ttotal: 452ms\tremaining: 561ms\n",
      "446:\tlearn: 0.1201984\ttotal: 453ms\tremaining: 560ms\n",
      "447:\tlearn: 0.1200879\ttotal: 454ms\tremaining: 559ms\n",
      "448:\tlearn: 0.1200278\ttotal: 454ms\tremaining: 558ms\n",
      "449:\tlearn: 0.1197434\ttotal: 455ms\tremaining: 556ms\n",
      "450:\tlearn: 0.1195285\ttotal: 456ms\tremaining: 555ms\n",
      "451:\tlearn: 0.1192038\ttotal: 457ms\tremaining: 554ms\n",
      "452:\tlearn: 0.1189588\ttotal: 458ms\tremaining: 553ms\n",
      "453:\tlearn: 0.1185884\ttotal: 459ms\tremaining: 552ms\n",
      "454:\tlearn: 0.1183435\ttotal: 460ms\tremaining: 550ms\n",
      "455:\tlearn: 0.1180023\ttotal: 461ms\tremaining: 550ms\n",
      "456:\tlearn: 0.1177144\ttotal: 461ms\tremaining: 548ms\n",
      "457:\tlearn: 0.1174763\ttotal: 462ms\tremaining: 547ms\n",
      "458:\tlearn: 0.1172353\ttotal: 463ms\tremaining: 546ms\n",
      "459:\tlearn: 0.1171025\ttotal: 464ms\tremaining: 545ms\n",
      "460:\tlearn: 0.1168492\ttotal: 465ms\tremaining: 544ms\n",
      "461:\tlearn: 0.1165393\ttotal: 466ms\tremaining: 542ms\n",
      "462:\tlearn: 0.1162357\ttotal: 467ms\tremaining: 541ms\n",
      "463:\tlearn: 0.1159278\ttotal: 468ms\tremaining: 540ms\n",
      "464:\tlearn: 0.1158024\ttotal: 468ms\tremaining: 539ms\n",
      "465:\tlearn: 0.1155652\ttotal: 469ms\tremaining: 538ms\n",
      "466:\tlearn: 0.1153799\ttotal: 470ms\tremaining: 536ms\n",
      "467:\tlearn: 0.1153173\ttotal: 471ms\tremaining: 535ms\n",
      "468:\tlearn: 0.1150161\ttotal: 472ms\tremaining: 534ms\n",
      "469:\tlearn: 0.1148310\ttotal: 473ms\tremaining: 533ms\n",
      "470:\tlearn: 0.1145891\ttotal: 474ms\tremaining: 532ms\n",
      "471:\tlearn: 0.1142978\ttotal: 475ms\tremaining: 531ms\n",
      "472:\tlearn: 0.1140638\ttotal: 475ms\tremaining: 530ms\n",
      "473:\tlearn: 0.1137302\ttotal: 476ms\tremaining: 528ms\n",
      "474:\tlearn: 0.1135262\ttotal: 477ms\tremaining: 527ms\n",
      "475:\tlearn: 0.1132988\ttotal: 478ms\tremaining: 526ms\n",
      "476:\tlearn: 0.1130877\ttotal: 479ms\tremaining: 525ms\n",
      "477:\tlearn: 0.1129580\ttotal: 480ms\tremaining: 524ms\n",
      "478:\tlearn: 0.1126824\ttotal: 480ms\tremaining: 523ms\n",
      "479:\tlearn: 0.1126589\ttotal: 481ms\tremaining: 521ms\n",
      "480:\tlearn: 0.1124285\ttotal: 482ms\tremaining: 520ms\n",
      "481:\tlearn: 0.1122201\ttotal: 483ms\tremaining: 519ms\n",
      "482:\tlearn: 0.1122006\ttotal: 484ms\tremaining: 518ms\n",
      "483:\tlearn: 0.1119867\ttotal: 485ms\tremaining: 517ms\n",
      "484:\tlearn: 0.1117458\ttotal: 485ms\tremaining: 515ms\n",
      "485:\tlearn: 0.1117203\ttotal: 486ms\tremaining: 514ms\n",
      "486:\tlearn: 0.1115670\ttotal: 487ms\tremaining: 513ms\n",
      "487:\tlearn: 0.1113971\ttotal: 488ms\tremaining: 512ms\n",
      "488:\tlearn: 0.1111124\ttotal: 489ms\tremaining: 511ms\n",
      "489:\tlearn: 0.1108627\ttotal: 490ms\tremaining: 510ms\n",
      "490:\tlearn: 0.1107193\ttotal: 491ms\tremaining: 509ms\n"
     ]
    },
    {
     "name": "stdout",
     "output_type": "stream",
     "text": [
      "491:\tlearn: 0.1104055\ttotal: 492ms\tremaining: 508ms\n",
      "492:\tlearn: 0.1101329\ttotal: 493ms\tremaining: 507ms\n",
      "493:\tlearn: 0.1098534\ttotal: 494ms\tremaining: 506ms\n",
      "494:\tlearn: 0.1095835\ttotal: 495ms\tremaining: 505ms\n",
      "495:\tlearn: 0.1094923\ttotal: 496ms\tremaining: 504ms\n",
      "496:\tlearn: 0.1092452\ttotal: 496ms\tremaining: 502ms\n",
      "497:\tlearn: 0.1090968\ttotal: 497ms\tremaining: 501ms\n",
      "498:\tlearn: 0.1089983\ttotal: 498ms\tremaining: 500ms\n",
      "499:\tlearn: 0.1087442\ttotal: 499ms\tremaining: 499ms\n",
      "500:\tlearn: 0.1087059\ttotal: 500ms\tremaining: 498ms\n",
      "501:\tlearn: 0.1086355\ttotal: 501ms\tremaining: 497ms\n",
      "502:\tlearn: 0.1083442\ttotal: 502ms\tremaining: 496ms\n",
      "503:\tlearn: 0.1082703\ttotal: 503ms\tremaining: 495ms\n",
      "504:\tlearn: 0.1081990\ttotal: 504ms\tremaining: 494ms\n",
      "505:\tlearn: 0.1078611\ttotal: 504ms\tremaining: 492ms\n",
      "506:\tlearn: 0.1076841\ttotal: 505ms\tremaining: 491ms\n",
      "507:\tlearn: 0.1074877\ttotal: 506ms\tremaining: 490ms\n",
      "508:\tlearn: 0.1071780\ttotal: 507ms\tremaining: 489ms\n",
      "509:\tlearn: 0.1069848\ttotal: 508ms\tremaining: 488ms\n",
      "510:\tlearn: 0.1068105\ttotal: 509ms\tremaining: 487ms\n",
      "511:\tlearn: 0.1066106\ttotal: 510ms\tremaining: 486ms\n",
      "512:\tlearn: 0.1064118\ttotal: 511ms\tremaining: 485ms\n",
      "513:\tlearn: 0.1061876\ttotal: 511ms\tremaining: 483ms\n",
      "514:\tlearn: 0.1059473\ttotal: 512ms\tremaining: 482ms\n",
      "515:\tlearn: 0.1059110\ttotal: 513ms\tremaining: 481ms\n",
      "516:\tlearn: 0.1057305\ttotal: 514ms\tremaining: 480ms\n",
      "517:\tlearn: 0.1054451\ttotal: 515ms\tremaining: 479ms\n",
      "518:\tlearn: 0.1052164\ttotal: 516ms\tremaining: 478ms\n",
      "519:\tlearn: 0.1051835\ttotal: 517ms\tremaining: 477ms\n",
      "520:\tlearn: 0.1050135\ttotal: 517ms\tremaining: 476ms\n",
      "521:\tlearn: 0.1049204\ttotal: 518ms\tremaining: 475ms\n",
      "522:\tlearn: 0.1047460\ttotal: 519ms\tremaining: 473ms\n",
      "523:\tlearn: 0.1044959\ttotal: 520ms\tremaining: 472ms\n",
      "524:\tlearn: 0.1043025\ttotal: 521ms\tremaining: 471ms\n",
      "525:\tlearn: 0.1042782\ttotal: 522ms\tremaining: 470ms\n",
      "526:\tlearn: 0.1040718\ttotal: 523ms\tremaining: 469ms\n",
      "527:\tlearn: 0.1039266\ttotal: 523ms\tremaining: 468ms\n",
      "528:\tlearn: 0.1036591\ttotal: 524ms\tremaining: 467ms\n",
      "529:\tlearn: 0.1034263\ttotal: 525ms\tremaining: 466ms\n",
      "530:\tlearn: 0.1032055\ttotal: 526ms\tremaining: 465ms\n",
      "531:\tlearn: 0.1031750\ttotal: 527ms\tremaining: 464ms\n",
      "532:\tlearn: 0.1029868\ttotal: 528ms\tremaining: 462ms\n",
      "533:\tlearn: 0.1028179\ttotal: 529ms\tremaining: 461ms\n",
      "534:\tlearn: 0.1026396\ttotal: 529ms\tremaining: 460ms\n",
      "535:\tlearn: 0.1024807\ttotal: 530ms\tremaining: 459ms\n",
      "536:\tlearn: 0.1022702\ttotal: 531ms\tremaining: 458ms\n",
      "537:\tlearn: 0.1020798\ttotal: 532ms\tremaining: 457ms\n",
      "538:\tlearn: 0.1019477\ttotal: 533ms\tremaining: 456ms\n",
      "539:\tlearn: 0.1017317\ttotal: 534ms\tremaining: 455ms\n",
      "540:\tlearn: 0.1014710\ttotal: 535ms\tremaining: 454ms\n",
      "541:\tlearn: 0.1014026\ttotal: 536ms\tremaining: 453ms\n",
      "542:\tlearn: 0.1013318\ttotal: 537ms\tremaining: 452ms\n",
      "543:\tlearn: 0.1011377\ttotal: 537ms\tremaining: 451ms\n",
      "544:\tlearn: 0.1010170\ttotal: 538ms\tremaining: 449ms\n",
      "545:\tlearn: 0.1008515\ttotal: 539ms\tremaining: 448ms\n",
      "546:\tlearn: 0.1006709\ttotal: 540ms\tremaining: 447ms\n",
      "547:\tlearn: 0.1005988\ttotal: 541ms\tremaining: 446ms\n",
      "548:\tlearn: 0.1004102\ttotal: 542ms\tremaining: 445ms\n",
      "549:\tlearn: 0.1003293\ttotal: 543ms\tremaining: 444ms\n",
      "550:\tlearn: 0.1002425\ttotal: 544ms\tremaining: 443ms\n",
      "551:\tlearn: 0.1000107\ttotal: 545ms\tremaining: 442ms\n",
      "552:\tlearn: 0.0999678\ttotal: 546ms\tremaining: 441ms\n",
      "553:\tlearn: 0.0997283\ttotal: 546ms\tremaining: 440ms\n",
      "554:\tlearn: 0.0997016\ttotal: 547ms\tremaining: 439ms\n",
      "555:\tlearn: 0.0994802\ttotal: 548ms\tremaining: 438ms\n",
      "556:\tlearn: 0.0992827\ttotal: 549ms\tremaining: 437ms\n",
      "557:\tlearn: 0.0991424\ttotal: 550ms\tremaining: 435ms\n",
      "558:\tlearn: 0.0989616\ttotal: 551ms\tremaining: 434ms\n",
      "559:\tlearn: 0.0988483\ttotal: 552ms\tremaining: 433ms\n",
      "560:\tlearn: 0.0987230\ttotal: 553ms\tremaining: 432ms\n",
      "561:\tlearn: 0.0985480\ttotal: 553ms\tremaining: 431ms\n",
      "562:\tlearn: 0.0983208\ttotal: 554ms\tremaining: 430ms\n",
      "563:\tlearn: 0.0981293\ttotal: 555ms\tremaining: 429ms\n",
      "564:\tlearn: 0.0979349\ttotal: 556ms\tremaining: 428ms\n",
      "565:\tlearn: 0.0977795\ttotal: 557ms\tremaining: 427ms\n",
      "566:\tlearn: 0.0975911\ttotal: 558ms\tremaining: 426ms\n",
      "567:\tlearn: 0.0973834\ttotal: 559ms\tremaining: 425ms\n",
      "568:\tlearn: 0.0970588\ttotal: 560ms\tremaining: 424ms\n",
      "569:\tlearn: 0.0969106\ttotal: 560ms\tremaining: 423ms\n",
      "570:\tlearn: 0.0966733\ttotal: 561ms\tremaining: 422ms\n",
      "571:\tlearn: 0.0964832\ttotal: 562ms\tremaining: 421ms\n",
      "572:\tlearn: 0.0963320\ttotal: 563ms\tremaining: 420ms\n",
      "573:\tlearn: 0.0962612\ttotal: 564ms\tremaining: 419ms\n",
      "574:\tlearn: 0.0960249\ttotal: 565ms\tremaining: 418ms\n",
      "575:\tlearn: 0.0958287\ttotal: 566ms\tremaining: 416ms\n",
      "576:\tlearn: 0.0956357\ttotal: 567ms\tremaining: 415ms\n",
      "577:\tlearn: 0.0954207\ttotal: 567ms\tremaining: 414ms\n",
      "578:\tlearn: 0.0951746\ttotal: 568ms\tremaining: 413ms\n",
      "579:\tlearn: 0.0949974\ttotal: 569ms\tremaining: 412ms\n",
      "580:\tlearn: 0.0948534\ttotal: 570ms\tremaining: 411ms\n",
      "581:\tlearn: 0.0947772\ttotal: 572ms\tremaining: 410ms\n",
      "582:\tlearn: 0.0946643\ttotal: 572ms\tremaining: 409ms\n",
      "583:\tlearn: 0.0945039\ttotal: 573ms\tremaining: 408ms\n"
     ]
    },
    {
     "name": "stdout",
     "output_type": "stream",
     "text": [
      "584:\tlearn: 0.0942945\ttotal: 574ms\tremaining: 407ms\n",
      "585:\tlearn: 0.0941459\ttotal: 575ms\tremaining: 406ms\n",
      "586:\tlearn: 0.0939861\ttotal: 577ms\tremaining: 406ms\n",
      "587:\tlearn: 0.0938260\ttotal: 577ms\tremaining: 405ms\n",
      "588:\tlearn: 0.0936530\ttotal: 578ms\tremaining: 404ms\n",
      "589:\tlearn: 0.0934780\ttotal: 579ms\tremaining: 402ms\n",
      "590:\tlearn: 0.0932171\ttotal: 580ms\tremaining: 401ms\n",
      "591:\tlearn: 0.0930856\ttotal: 581ms\tremaining: 400ms\n",
      "592:\tlearn: 0.0929181\ttotal: 582ms\tremaining: 399ms\n",
      "593:\tlearn: 0.0926072\ttotal: 583ms\tremaining: 398ms\n",
      "594:\tlearn: 0.0924118\ttotal: 584ms\tremaining: 397ms\n",
      "595:\tlearn: 0.0923094\ttotal: 585ms\tremaining: 396ms\n",
      "596:\tlearn: 0.0920228\ttotal: 585ms\tremaining: 395ms\n",
      "597:\tlearn: 0.0918190\ttotal: 587ms\tremaining: 394ms\n",
      "598:\tlearn: 0.0915813\ttotal: 588ms\tremaining: 393ms\n",
      "599:\tlearn: 0.0914076\ttotal: 589ms\tremaining: 392ms\n",
      "600:\tlearn: 0.0913768\ttotal: 590ms\tremaining: 391ms\n",
      "601:\tlearn: 0.0911607\ttotal: 590ms\tremaining: 390ms\n",
      "602:\tlearn: 0.0911200\ttotal: 591ms\tremaining: 389ms\n",
      "603:\tlearn: 0.0909801\ttotal: 592ms\tremaining: 388ms\n",
      "604:\tlearn: 0.0909265\ttotal: 593ms\tremaining: 387ms\n",
      "605:\tlearn: 0.0907239\ttotal: 594ms\tremaining: 386ms\n",
      "606:\tlearn: 0.0905960\ttotal: 595ms\tremaining: 385ms\n",
      "607:\tlearn: 0.0904445\ttotal: 597ms\tremaining: 385ms\n",
      "608:\tlearn: 0.0902700\ttotal: 597ms\tremaining: 384ms\n",
      "609:\tlearn: 0.0901544\ttotal: 598ms\tremaining: 382ms\n",
      "610:\tlearn: 0.0900421\ttotal: 599ms\tremaining: 381ms\n",
      "611:\tlearn: 0.0898747\ttotal: 600ms\tremaining: 380ms\n",
      "612:\tlearn: 0.0898394\ttotal: 601ms\tremaining: 379ms\n",
      "613:\tlearn: 0.0897047\ttotal: 602ms\tremaining: 378ms\n",
      "614:\tlearn: 0.0895988\ttotal: 602ms\tremaining: 377ms\n",
      "615:\tlearn: 0.0894965\ttotal: 603ms\tremaining: 376ms\n",
      "616:\tlearn: 0.0893603\ttotal: 604ms\tremaining: 375ms\n",
      "617:\tlearn: 0.0893022\ttotal: 605ms\tremaining: 374ms\n",
      "618:\tlearn: 0.0890957\ttotal: 606ms\tremaining: 373ms\n",
      "619:\tlearn: 0.0889583\ttotal: 607ms\tremaining: 372ms\n",
      "620:\tlearn: 0.0888701\ttotal: 608ms\tremaining: 371ms\n",
      "621:\tlearn: 0.0886762\ttotal: 609ms\tremaining: 370ms\n",
      "622:\tlearn: 0.0884917\ttotal: 609ms\tremaining: 369ms\n",
      "623:\tlearn: 0.0882776\ttotal: 610ms\tremaining: 368ms\n",
      "624:\tlearn: 0.0880933\ttotal: 611ms\tremaining: 367ms\n",
      "625:\tlearn: 0.0879693\ttotal: 612ms\tremaining: 366ms\n",
      "626:\tlearn: 0.0878500\ttotal: 613ms\tremaining: 365ms\n",
      "627:\tlearn: 0.0878071\ttotal: 614ms\tremaining: 364ms\n",
      "628:\tlearn: 0.0877606\ttotal: 615ms\tremaining: 363ms\n",
      "629:\tlearn: 0.0877214\ttotal: 616ms\tremaining: 362ms\n",
      "630:\tlearn: 0.0875072\ttotal: 617ms\tremaining: 361ms\n",
      "631:\tlearn: 0.0874035\ttotal: 618ms\tremaining: 360ms\n",
      "632:\tlearn: 0.0872310\ttotal: 619ms\tremaining: 359ms\n",
      "633:\tlearn: 0.0871826\ttotal: 620ms\tremaining: 358ms\n",
      "634:\tlearn: 0.0869927\ttotal: 621ms\tremaining: 357ms\n",
      "635:\tlearn: 0.0869312\ttotal: 621ms\tremaining: 356ms\n",
      "636:\tlearn: 0.0868874\ttotal: 622ms\tremaining: 355ms\n",
      "637:\tlearn: 0.0867685\ttotal: 623ms\tremaining: 353ms\n",
      "638:\tlearn: 0.0866057\ttotal: 624ms\tremaining: 352ms\n",
      "639:\tlearn: 0.0864563\ttotal: 625ms\tremaining: 351ms\n",
      "640:\tlearn: 0.0862406\ttotal: 625ms\tremaining: 350ms\n",
      "641:\tlearn: 0.0861864\ttotal: 626ms\tremaining: 349ms\n",
      "642:\tlearn: 0.0861128\ttotal: 627ms\tremaining: 348ms\n",
      "643:\tlearn: 0.0860797\ttotal: 628ms\tremaining: 347ms\n",
      "644:\tlearn: 0.0860303\ttotal: 629ms\tremaining: 346ms\n",
      "645:\tlearn: 0.0858457\ttotal: 630ms\tremaining: 345ms\n",
      "646:\tlearn: 0.0857656\ttotal: 631ms\tremaining: 344ms\n",
      "647:\tlearn: 0.0856141\ttotal: 632ms\tremaining: 343ms\n",
      "648:\tlearn: 0.0854104\ttotal: 632ms\tremaining: 342ms\n",
      "649:\tlearn: 0.0853386\ttotal: 633ms\tremaining: 341ms\n",
      "650:\tlearn: 0.0851931\ttotal: 634ms\tremaining: 340ms\n",
      "651:\tlearn: 0.0850223\ttotal: 635ms\tremaining: 339ms\n",
      "652:\tlearn: 0.0848688\ttotal: 636ms\tremaining: 338ms\n",
      "653:\tlearn: 0.0847663\ttotal: 637ms\tremaining: 337ms\n",
      "654:\tlearn: 0.0845884\ttotal: 638ms\tremaining: 336ms\n",
      "655:\tlearn: 0.0845093\ttotal: 639ms\tremaining: 335ms\n",
      "656:\tlearn: 0.0843873\ttotal: 640ms\tremaining: 334ms\n",
      "657:\tlearn: 0.0842782\ttotal: 641ms\tremaining: 333ms\n",
      "658:\tlearn: 0.0841414\ttotal: 641ms\tremaining: 332ms\n",
      "659:\tlearn: 0.0840584\ttotal: 642ms\tremaining: 331ms\n",
      "660:\tlearn: 0.0840068\ttotal: 643ms\tremaining: 330ms\n",
      "661:\tlearn: 0.0839036\ttotal: 644ms\tremaining: 329ms\n",
      "662:\tlearn: 0.0837676\ttotal: 645ms\tremaining: 328ms\n",
      "663:\tlearn: 0.0836660\ttotal: 646ms\tremaining: 327ms\n",
      "664:\tlearn: 0.0835525\ttotal: 646ms\tremaining: 326ms\n",
      "665:\tlearn: 0.0833353\ttotal: 647ms\tremaining: 325ms\n",
      "666:\tlearn: 0.0832758\ttotal: 648ms\tremaining: 324ms\n",
      "667:\tlearn: 0.0832335\ttotal: 649ms\tremaining: 323ms\n",
      "668:\tlearn: 0.0831952\ttotal: 650ms\tremaining: 321ms\n",
      "669:\tlearn: 0.0830209\ttotal: 651ms\tremaining: 320ms\n",
      "670:\tlearn: 0.0828957\ttotal: 651ms\tremaining: 319ms\n",
      "671:\tlearn: 0.0827644\ttotal: 652ms\tremaining: 318ms\n",
      "672:\tlearn: 0.0825191\ttotal: 653ms\tremaining: 317ms\n",
      "673:\tlearn: 0.0824264\ttotal: 655ms\tremaining: 317ms\n",
      "674:\tlearn: 0.0822677\ttotal: 655ms\tremaining: 316ms\n",
      "675:\tlearn: 0.0822355\ttotal: 656ms\tremaining: 315ms\n",
      "676:\tlearn: 0.0821944\ttotal: 657ms\tremaining: 314ms\n",
      "677:\tlearn: 0.0820241\ttotal: 658ms\tremaining: 312ms\n",
      "678:\tlearn: 0.0819858\ttotal: 659ms\tremaining: 311ms\n",
      "679:\tlearn: 0.0818283\ttotal: 660ms\tremaining: 310ms\n",
      "680:\tlearn: 0.0817708\ttotal: 660ms\tremaining: 309ms\n",
      "681:\tlearn: 0.0815431\ttotal: 661ms\tremaining: 308ms\n",
      "682:\tlearn: 0.0814968\ttotal: 662ms\tremaining: 307ms\n",
      "683:\tlearn: 0.0813174\ttotal: 663ms\tremaining: 306ms\n",
      "684:\tlearn: 0.0812771\ttotal: 664ms\tremaining: 305ms\n",
      "685:\tlearn: 0.0811188\ttotal: 665ms\tremaining: 304ms\n",
      "686:\tlearn: 0.0811013\ttotal: 666ms\tremaining: 303ms\n",
      "687:\tlearn: 0.0809775\ttotal: 666ms\tremaining: 302ms\n",
      "688:\tlearn: 0.0808567\ttotal: 667ms\tremaining: 301ms\n",
      "689:\tlearn: 0.0806956\ttotal: 668ms\tremaining: 300ms\n",
      "690:\tlearn: 0.0805300\ttotal: 669ms\tremaining: 299ms\n",
      "691:\tlearn: 0.0803697\ttotal: 670ms\tremaining: 298ms\n",
      "692:\tlearn: 0.0802115\ttotal: 671ms\tremaining: 297ms\n",
      "693:\tlearn: 0.0801717\ttotal: 672ms\tremaining: 296ms\n",
      "694:\tlearn: 0.0801383\ttotal: 672ms\tremaining: 295ms\n",
      "695:\tlearn: 0.0799882\ttotal: 673ms\tremaining: 294ms\n",
      "696:\tlearn: 0.0799598\ttotal: 674ms\tremaining: 293ms\n",
      "697:\tlearn: 0.0798424\ttotal: 675ms\tremaining: 292ms\n",
      "698:\tlearn: 0.0796567\ttotal: 676ms\tremaining: 291ms\n",
      "699:\tlearn: 0.0795029\ttotal: 677ms\tremaining: 290ms\n",
      "700:\tlearn: 0.0794507\ttotal: 678ms\tremaining: 289ms\n",
      "701:\tlearn: 0.0792799\ttotal: 679ms\tremaining: 288ms\n",
      "702:\tlearn: 0.0791671\ttotal: 680ms\tremaining: 287ms\n",
      "703:\tlearn: 0.0789541\ttotal: 680ms\tremaining: 286ms\n",
      "704:\tlearn: 0.0789167\ttotal: 681ms\tremaining: 285ms\n",
      "705:\tlearn: 0.0788210\ttotal: 682ms\tremaining: 284ms\n"
     ]
    },
    {
     "name": "stdout",
     "output_type": "stream",
     "text": [
      "706:\tlearn: 0.0788057\ttotal: 683ms\tremaining: 283ms\n",
      "707:\tlearn: 0.0787104\ttotal: 684ms\tremaining: 282ms\n",
      "708:\tlearn: 0.0785450\ttotal: 685ms\tremaining: 281ms\n",
      "709:\tlearn: 0.0784122\ttotal: 686ms\tremaining: 280ms\n",
      "710:\tlearn: 0.0783856\ttotal: 687ms\tremaining: 279ms\n",
      "711:\tlearn: 0.0783598\ttotal: 687ms\tremaining: 278ms\n",
      "712:\tlearn: 0.0782967\ttotal: 688ms\tremaining: 277ms\n",
      "713:\tlearn: 0.0781154\ttotal: 689ms\tremaining: 276ms\n",
      "714:\tlearn: 0.0779445\ttotal: 690ms\tremaining: 275ms\n",
      "715:\tlearn: 0.0777994\ttotal: 691ms\tremaining: 274ms\n",
      "716:\tlearn: 0.0776452\ttotal: 692ms\tremaining: 273ms\n",
      "717:\tlearn: 0.0775211\ttotal: 693ms\tremaining: 272ms\n",
      "718:\tlearn: 0.0774240\ttotal: 694ms\tremaining: 271ms\n",
      "719:\tlearn: 0.0772973\ttotal: 694ms\tremaining: 270ms\n",
      "720:\tlearn: 0.0772469\ttotal: 695ms\tremaining: 269ms\n",
      "721:\tlearn: 0.0771922\ttotal: 696ms\tremaining: 268ms\n",
      "722:\tlearn: 0.0770560\ttotal: 697ms\tremaining: 267ms\n",
      "723:\tlearn: 0.0769582\ttotal: 698ms\tremaining: 266ms\n",
      "724:\tlearn: 0.0768175\ttotal: 699ms\tremaining: 265ms\n",
      "725:\tlearn: 0.0766204\ttotal: 700ms\tremaining: 264ms\n",
      "726:\tlearn: 0.0765248\ttotal: 701ms\tremaining: 263ms\n",
      "727:\tlearn: 0.0764399\ttotal: 701ms\tremaining: 262ms\n",
      "728:\tlearn: 0.0762892\ttotal: 702ms\tremaining: 261ms\n",
      "729:\tlearn: 0.0761748\ttotal: 703ms\tremaining: 260ms\n",
      "730:\tlearn: 0.0760606\ttotal: 704ms\tremaining: 259ms\n",
      "731:\tlearn: 0.0758888\ttotal: 705ms\tremaining: 258ms\n",
      "732:\tlearn: 0.0757701\ttotal: 706ms\tremaining: 257ms\n",
      "733:\tlearn: 0.0756486\ttotal: 707ms\tremaining: 256ms\n",
      "734:\tlearn: 0.0755032\ttotal: 707ms\tremaining: 255ms\n",
      "735:\tlearn: 0.0754161\ttotal: 708ms\tremaining: 254ms\n",
      "736:\tlearn: 0.0752707\ttotal: 709ms\tremaining: 253ms\n",
      "737:\tlearn: 0.0751842\ttotal: 710ms\tremaining: 252ms\n",
      "738:\tlearn: 0.0749905\ttotal: 711ms\tremaining: 251ms\n",
      "739:\tlearn: 0.0748099\ttotal: 712ms\tremaining: 250ms\n",
      "740:\tlearn: 0.0746311\ttotal: 713ms\tremaining: 249ms\n",
      "741:\tlearn: 0.0745340\ttotal: 713ms\tremaining: 248ms\n",
      "742:\tlearn: 0.0744472\ttotal: 714ms\tremaining: 247ms\n",
      "743:\tlearn: 0.0743157\ttotal: 715ms\tremaining: 246ms\n",
      "744:\tlearn: 0.0741998\ttotal: 716ms\tremaining: 245ms\n",
      "745:\tlearn: 0.0740490\ttotal: 717ms\tremaining: 244ms\n",
      "746:\tlearn: 0.0739686\ttotal: 717ms\tremaining: 243ms\n",
      "747:\tlearn: 0.0739216\ttotal: 718ms\tremaining: 242ms\n",
      "748:\tlearn: 0.0737957\ttotal: 719ms\tremaining: 241ms\n",
      "749:\tlearn: 0.0736920\ttotal: 720ms\tremaining: 240ms\n",
      "750:\tlearn: 0.0735890\ttotal: 721ms\tremaining: 239ms\n",
      "751:\tlearn: 0.0734645\ttotal: 722ms\tremaining: 238ms\n",
      "752:\tlearn: 0.0732704\ttotal: 723ms\tremaining: 237ms\n",
      "753:\tlearn: 0.0731466\ttotal: 724ms\tremaining: 236ms\n",
      "754:\tlearn: 0.0729666\ttotal: 725ms\tremaining: 235ms\n",
      "755:\tlearn: 0.0728381\ttotal: 726ms\tremaining: 234ms\n",
      "756:\tlearn: 0.0727916\ttotal: 726ms\tremaining: 233ms\n",
      "757:\tlearn: 0.0726487\ttotal: 727ms\tremaining: 232ms\n",
      "758:\tlearn: 0.0726120\ttotal: 728ms\tremaining: 231ms\n",
      "759:\tlearn: 0.0725722\ttotal: 729ms\tremaining: 230ms\n",
      "760:\tlearn: 0.0723899\ttotal: 730ms\tremaining: 229ms\n",
      "761:\tlearn: 0.0722461\ttotal: 731ms\tremaining: 228ms\n",
      "762:\tlearn: 0.0720570\ttotal: 732ms\tremaining: 227ms\n",
      "763:\tlearn: 0.0719725\ttotal: 733ms\tremaining: 226ms\n",
      "764:\tlearn: 0.0718509\ttotal: 733ms\tremaining: 225ms\n",
      "765:\tlearn: 0.0717516\ttotal: 734ms\tremaining: 224ms\n",
      "766:\tlearn: 0.0717020\ttotal: 735ms\tremaining: 223ms\n",
      "767:\tlearn: 0.0715824\ttotal: 736ms\tremaining: 222ms\n",
      "768:\tlearn: 0.0714861\ttotal: 737ms\tremaining: 221ms\n",
      "769:\tlearn: 0.0713984\ttotal: 738ms\tremaining: 220ms\n",
      "770:\tlearn: 0.0712715\ttotal: 739ms\tremaining: 219ms\n",
      "771:\tlearn: 0.0712176\ttotal: 740ms\tremaining: 218ms\n",
      "772:\tlearn: 0.0710860\ttotal: 741ms\tremaining: 217ms\n",
      "773:\tlearn: 0.0709971\ttotal: 741ms\tremaining: 216ms\n",
      "774:\tlearn: 0.0709462\ttotal: 742ms\tremaining: 215ms\n",
      "775:\tlearn: 0.0707686\ttotal: 743ms\tremaining: 214ms\n",
      "776:\tlearn: 0.0706183\ttotal: 744ms\tremaining: 214ms\n",
      "777:\tlearn: 0.0704955\ttotal: 745ms\tremaining: 213ms\n",
      "778:\tlearn: 0.0703574\ttotal: 746ms\tremaining: 212ms\n",
      "779:\tlearn: 0.0702043\ttotal: 747ms\tremaining: 211ms\n",
      "780:\tlearn: 0.0701214\ttotal: 748ms\tremaining: 210ms\n",
      "781:\tlearn: 0.0699816\ttotal: 749ms\tremaining: 209ms\n",
      "782:\tlearn: 0.0698231\ttotal: 749ms\tremaining: 208ms\n",
      "783:\tlearn: 0.0696704\ttotal: 750ms\tremaining: 207ms\n",
      "784:\tlearn: 0.0695609\ttotal: 751ms\tremaining: 206ms\n",
      "785:\tlearn: 0.0695132\ttotal: 752ms\tremaining: 205ms\n",
      "786:\tlearn: 0.0693782\ttotal: 753ms\tremaining: 204ms\n",
      "787:\tlearn: 0.0692124\ttotal: 754ms\tremaining: 203ms\n",
      "788:\tlearn: 0.0690175\ttotal: 755ms\tremaining: 202ms\n",
      "789:\tlearn: 0.0688852\ttotal: 755ms\tremaining: 201ms\n",
      "790:\tlearn: 0.0688403\ttotal: 756ms\tremaining: 200ms\n",
      "791:\tlearn: 0.0687362\ttotal: 757ms\tremaining: 199ms\n",
      "792:\tlearn: 0.0687069\ttotal: 758ms\tremaining: 198ms\n",
      "793:\tlearn: 0.0686381\ttotal: 759ms\tremaining: 197ms\n",
      "794:\tlearn: 0.0685108\ttotal: 760ms\tremaining: 196ms\n",
      "795:\tlearn: 0.0684177\ttotal: 761ms\tremaining: 195ms\n",
      "796:\tlearn: 0.0682939\ttotal: 761ms\tremaining: 194ms\n",
      "797:\tlearn: 0.0681847\ttotal: 762ms\tremaining: 193ms\n",
      "798:\tlearn: 0.0680796\ttotal: 763ms\tremaining: 192ms\n",
      "799:\tlearn: 0.0679539\ttotal: 764ms\tremaining: 191ms\n",
      "800:\tlearn: 0.0678150\ttotal: 765ms\tremaining: 190ms\n"
     ]
    },
    {
     "name": "stdout",
     "output_type": "stream",
     "text": [
      "801:\tlearn: 0.0676835\ttotal: 766ms\tremaining: 189ms\n",
      "802:\tlearn: 0.0676059\ttotal: 767ms\tremaining: 188ms\n",
      "803:\tlearn: 0.0674778\ttotal: 768ms\tremaining: 187ms\n",
      "804:\tlearn: 0.0674440\ttotal: 769ms\tremaining: 186ms\n",
      "805:\tlearn: 0.0674072\ttotal: 770ms\tremaining: 185ms\n",
      "806:\tlearn: 0.0672957\ttotal: 771ms\tremaining: 184ms\n",
      "807:\tlearn: 0.0671312\ttotal: 772ms\tremaining: 183ms\n",
      "808:\tlearn: 0.0670378\ttotal: 772ms\tremaining: 182ms\n",
      "809:\tlearn: 0.0670068\ttotal: 773ms\tremaining: 181ms\n",
      "810:\tlearn: 0.0669162\ttotal: 774ms\tremaining: 180ms\n",
      "811:\tlearn: 0.0667944\ttotal: 775ms\tremaining: 179ms\n",
      "812:\tlearn: 0.0666660\ttotal: 776ms\tremaining: 178ms\n",
      "813:\tlearn: 0.0665478\ttotal: 777ms\tremaining: 177ms\n",
      "814:\tlearn: 0.0664229\ttotal: 778ms\tremaining: 177ms\n",
      "815:\tlearn: 0.0663574\ttotal: 779ms\tremaining: 176ms\n",
      "816:\tlearn: 0.0662329\ttotal: 779ms\tremaining: 175ms\n",
      "817:\tlearn: 0.0661493\ttotal: 780ms\tremaining: 174ms\n",
      "818:\tlearn: 0.0660679\ttotal: 781ms\tremaining: 173ms\n",
      "819:\tlearn: 0.0659681\ttotal: 782ms\tremaining: 172ms\n",
      "820:\tlearn: 0.0658934\ttotal: 783ms\tremaining: 171ms\n",
      "821:\tlearn: 0.0657454\ttotal: 784ms\tremaining: 170ms\n",
      "822:\tlearn: 0.0657160\ttotal: 785ms\tremaining: 169ms\n",
      "823:\tlearn: 0.0656971\ttotal: 786ms\tremaining: 168ms\n",
      "824:\tlearn: 0.0656205\ttotal: 786ms\tremaining: 167ms\n",
      "825:\tlearn: 0.0655242\ttotal: 787ms\tremaining: 166ms\n",
      "826:\tlearn: 0.0654245\ttotal: 788ms\tremaining: 165ms\n",
      "827:\tlearn: 0.0653503\ttotal: 789ms\tremaining: 164ms\n",
      "828:\tlearn: 0.0652349\ttotal: 790ms\tremaining: 163ms\n",
      "829:\tlearn: 0.0652066\ttotal: 791ms\tremaining: 162ms\n",
      "830:\tlearn: 0.0651895\ttotal: 792ms\tremaining: 161ms\n",
      "831:\tlearn: 0.0651061\ttotal: 792ms\tremaining: 160ms\n",
      "832:\tlearn: 0.0649687\ttotal: 793ms\tremaining: 159ms\n",
      "833:\tlearn: 0.0648368\ttotal: 794ms\tremaining: 158ms\n",
      "834:\tlearn: 0.0647554\ttotal: 795ms\tremaining: 157ms\n",
      "835:\tlearn: 0.0647215\ttotal: 796ms\tremaining: 156ms\n",
      "836:\tlearn: 0.0646736\ttotal: 797ms\tremaining: 155ms\n",
      "837:\tlearn: 0.0646356\ttotal: 798ms\tremaining: 154ms\n",
      "838:\tlearn: 0.0645613\ttotal: 799ms\tremaining: 153ms\n",
      "839:\tlearn: 0.0644896\ttotal: 800ms\tremaining: 152ms\n",
      "840:\tlearn: 0.0644419\ttotal: 801ms\tremaining: 151ms\n",
      "841:\tlearn: 0.0643370\ttotal: 801ms\tremaining: 150ms\n",
      "842:\tlearn: 0.0642184\ttotal: 802ms\tremaining: 149ms\n",
      "843:\tlearn: 0.0641983\ttotal: 803ms\tremaining: 148ms\n",
      "844:\tlearn: 0.0641225\ttotal: 804ms\tremaining: 148ms\n",
      "845:\tlearn: 0.0640135\ttotal: 805ms\tremaining: 147ms\n",
      "846:\tlearn: 0.0639977\ttotal: 806ms\tremaining: 146ms\n",
      "847:\tlearn: 0.0639189\ttotal: 807ms\tremaining: 145ms\n",
      "848:\tlearn: 0.0638783\ttotal: 808ms\tremaining: 144ms\n",
      "849:\tlearn: 0.0637602\ttotal: 809ms\tremaining: 143ms\n",
      "850:\tlearn: 0.0636420\ttotal: 810ms\tremaining: 142ms\n",
      "851:\tlearn: 0.0635680\ttotal: 811ms\tremaining: 141ms\n",
      "852:\tlearn: 0.0635550\ttotal: 811ms\tremaining: 140ms\n",
      "853:\tlearn: 0.0634327\ttotal: 812ms\tremaining: 139ms\n",
      "854:\tlearn: 0.0633432\ttotal: 813ms\tremaining: 138ms\n",
      "855:\tlearn: 0.0632286\ttotal: 814ms\tremaining: 137ms\n",
      "856:\tlearn: 0.0631399\ttotal: 815ms\tremaining: 136ms\n",
      "857:\tlearn: 0.0629908\ttotal: 816ms\tremaining: 135ms\n",
      "858:\tlearn: 0.0628495\ttotal: 817ms\tremaining: 134ms\n",
      "859:\tlearn: 0.0627022\ttotal: 818ms\tremaining: 133ms\n",
      "860:\tlearn: 0.0626152\ttotal: 818ms\tremaining: 132ms\n",
      "861:\tlearn: 0.0624995\ttotal: 819ms\tremaining: 131ms\n",
      "862:\tlearn: 0.0623569\ttotal: 820ms\tremaining: 130ms\n",
      "863:\tlearn: 0.0622239\ttotal: 821ms\tremaining: 129ms\n",
      "864:\tlearn: 0.0621536\ttotal: 822ms\tremaining: 128ms\n",
      "865:\tlearn: 0.0621173\ttotal: 823ms\tremaining: 127ms\n",
      "866:\tlearn: 0.0620466\ttotal: 824ms\tremaining: 126ms\n",
      "867:\tlearn: 0.0618927\ttotal: 825ms\tremaining: 125ms\n",
      "868:\tlearn: 0.0618601\ttotal: 825ms\tremaining: 124ms\n",
      "869:\tlearn: 0.0618205\ttotal: 826ms\tremaining: 123ms\n",
      "870:\tlearn: 0.0617800\ttotal: 827ms\tremaining: 122ms\n",
      "871:\tlearn: 0.0616581\ttotal: 828ms\tremaining: 122ms\n",
      "872:\tlearn: 0.0616443\ttotal: 829ms\tremaining: 121ms\n",
      "873:\tlearn: 0.0615931\ttotal: 830ms\tremaining: 120ms\n",
      "874:\tlearn: 0.0615058\ttotal: 830ms\tremaining: 119ms\n",
      "875:\tlearn: 0.0614376\ttotal: 831ms\tremaining: 118ms\n",
      "876:\tlearn: 0.0613168\ttotal: 832ms\tremaining: 117ms\n",
      "877:\tlearn: 0.0611523\ttotal: 833ms\tremaining: 116ms\n",
      "878:\tlearn: 0.0611201\ttotal: 834ms\tremaining: 115ms\n",
      "879:\tlearn: 0.0610979\ttotal: 835ms\tremaining: 114ms\n",
      "880:\tlearn: 0.0609839\ttotal: 836ms\tremaining: 113ms\n",
      "881:\tlearn: 0.0608940\ttotal: 836ms\tremaining: 112ms\n",
      "882:\tlearn: 0.0608590\ttotal: 837ms\tremaining: 111ms\n",
      "883:\tlearn: 0.0607695\ttotal: 838ms\tremaining: 110ms\n",
      "884:\tlearn: 0.0606164\ttotal: 839ms\tremaining: 109ms\n",
      "885:\tlearn: 0.0606066\ttotal: 840ms\tremaining: 108ms\n",
      "886:\tlearn: 0.0605302\ttotal: 841ms\tremaining: 107ms\n",
      "887:\tlearn: 0.0605196\ttotal: 842ms\tremaining: 106ms\n",
      "888:\tlearn: 0.0604480\ttotal: 842ms\tremaining: 105ms\n",
      "889:\tlearn: 0.0603649\ttotal: 843ms\tremaining: 104ms\n",
      "890:\tlearn: 0.0603032\ttotal: 844ms\tremaining: 103ms\n",
      "891:\tlearn: 0.0602467\ttotal: 845ms\tremaining: 102ms\n",
      "892:\tlearn: 0.0601134\ttotal: 846ms\tremaining: 101ms\n",
      "893:\tlearn: 0.0600460\ttotal: 847ms\tremaining: 100ms\n",
      "894:\tlearn: 0.0599932\ttotal: 848ms\tremaining: 99.4ms\n",
      "895:\tlearn: 0.0599847\ttotal: 849ms\tremaining: 98.5ms\n",
      "896:\tlearn: 0.0598824\ttotal: 850ms\tremaining: 97.5ms\n",
      "897:\tlearn: 0.0597408\ttotal: 850ms\tremaining: 96.6ms\n",
      "898:\tlearn: 0.0596620\ttotal: 851ms\tremaining: 95.6ms\n",
      "899:\tlearn: 0.0595407\ttotal: 852ms\tremaining: 94.7ms\n",
      "900:\tlearn: 0.0593797\ttotal: 853ms\tremaining: 93.7ms\n",
      "901:\tlearn: 0.0592662\ttotal: 854ms\tremaining: 92.7ms\n",
      "902:\tlearn: 0.0591741\ttotal: 855ms\tremaining: 91.8ms\n",
      "903:\tlearn: 0.0591333\ttotal: 855ms\tremaining: 90.8ms\n",
      "904:\tlearn: 0.0591101\ttotal: 856ms\tremaining: 89.9ms\n",
      "905:\tlearn: 0.0590798\ttotal: 857ms\tremaining: 88.9ms\n",
      "906:\tlearn: 0.0589756\ttotal: 858ms\tremaining: 88ms\n",
      "907:\tlearn: 0.0589132\ttotal: 859ms\tremaining: 87ms\n",
      "908:\tlearn: 0.0588788\ttotal: 860ms\tremaining: 86.1ms\n",
      "909:\tlearn: 0.0587977\ttotal: 861ms\tremaining: 85.1ms\n",
      "910:\tlearn: 0.0587858\ttotal: 862ms\tremaining: 84.2ms\n",
      "911:\tlearn: 0.0586755\ttotal: 862ms\tremaining: 83.2ms\n",
      "912:\tlearn: 0.0586306\ttotal: 863ms\tremaining: 82.3ms\n",
      "913:\tlearn: 0.0586188\ttotal: 864ms\tremaining: 81.3ms\n",
      "914:\tlearn: 0.0585444\ttotal: 865ms\tremaining: 80.3ms\n",
      "915:\tlearn: 0.0584402\ttotal: 866ms\tremaining: 79.4ms\n",
      "916:\tlearn: 0.0583151\ttotal: 866ms\tremaining: 78.4ms\n",
      "917:\tlearn: 0.0582112\ttotal: 867ms\tremaining: 77.5ms\n",
      "918:\tlearn: 0.0580671\ttotal: 868ms\tremaining: 76.5ms\n",
      "919:\tlearn: 0.0580007\ttotal: 869ms\tremaining: 75.6ms\n",
      "920:\tlearn: 0.0579667\ttotal: 870ms\tremaining: 74.6ms\n",
      "921:\tlearn: 0.0579010\ttotal: 871ms\tremaining: 73.7ms\n",
      "922:\tlearn: 0.0578832\ttotal: 872ms\tremaining: 72.7ms\n",
      "923:\tlearn: 0.0577471\ttotal: 873ms\tremaining: 71.8ms\n",
      "924:\tlearn: 0.0576368\ttotal: 873ms\tremaining: 70.8ms\n"
     ]
    },
    {
     "name": "stdout",
     "output_type": "stream",
     "text": [
      "925:\tlearn: 0.0575034\ttotal: 874ms\tremaining: 69.9ms\n",
      "926:\tlearn: 0.0574689\ttotal: 876ms\tremaining: 68.9ms\n",
      "927:\tlearn: 0.0573397\ttotal: 876ms\tremaining: 68ms\n",
      "928:\tlearn: 0.0573226\ttotal: 877ms\tremaining: 67ms\n",
      "929:\tlearn: 0.0572239\ttotal: 878ms\tremaining: 66.1ms\n",
      "930:\tlearn: 0.0571567\ttotal: 879ms\tremaining: 65.1ms\n",
      "931:\tlearn: 0.0571059\ttotal: 880ms\tremaining: 64.2ms\n",
      "932:\tlearn: 0.0570165\ttotal: 881ms\tremaining: 63.2ms\n",
      "933:\tlearn: 0.0569596\ttotal: 882ms\tremaining: 62.3ms\n",
      "934:\tlearn: 0.0568870\ttotal: 882ms\tremaining: 61.3ms\n",
      "935:\tlearn: 0.0567571\ttotal: 883ms\tremaining: 60.4ms\n",
      "936:\tlearn: 0.0566382\ttotal: 884ms\tremaining: 59.4ms\n",
      "937:\tlearn: 0.0565385\ttotal: 885ms\tremaining: 58.5ms\n",
      "938:\tlearn: 0.0564695\ttotal: 886ms\tremaining: 57.6ms\n",
      "939:\tlearn: 0.0563904\ttotal: 887ms\tremaining: 56.6ms\n",
      "940:\tlearn: 0.0563121\ttotal: 888ms\tremaining: 55.7ms\n",
      "941:\tlearn: 0.0562431\ttotal: 889ms\tremaining: 54.7ms\n",
      "942:\tlearn: 0.0561442\ttotal: 889ms\tremaining: 53.8ms\n",
      "943:\tlearn: 0.0560239\ttotal: 890ms\tremaining: 52.8ms\n",
      "944:\tlearn: 0.0559210\ttotal: 891ms\tremaining: 51.9ms\n",
      "945:\tlearn: 0.0558292\ttotal: 892ms\tremaining: 50.9ms\n",
      "946:\tlearn: 0.0557335\ttotal: 893ms\tremaining: 50ms\n",
      "947:\tlearn: 0.0556550\ttotal: 894ms\tremaining: 49ms\n",
      "948:\tlearn: 0.0555941\ttotal: 895ms\tremaining: 48.1ms\n",
      "949:\tlearn: 0.0555664\ttotal: 895ms\tremaining: 47.1ms\n",
      "950:\tlearn: 0.0554978\ttotal: 896ms\tremaining: 46.2ms\n",
      "951:\tlearn: 0.0554836\ttotal: 898ms\tremaining: 45.3ms\n",
      "952:\tlearn: 0.0554337\ttotal: 899ms\tremaining: 44.3ms\n",
      "953:\tlearn: 0.0554199\ttotal: 900ms\tremaining: 43.4ms\n",
      "954:\tlearn: 0.0554005\ttotal: 900ms\tremaining: 42.4ms\n",
      "955:\tlearn: 0.0552479\ttotal: 901ms\tremaining: 41.5ms\n",
      "956:\tlearn: 0.0551967\ttotal: 902ms\tremaining: 40.5ms\n",
      "957:\tlearn: 0.0551041\ttotal: 903ms\tremaining: 39.6ms\n",
      "958:\tlearn: 0.0550303\ttotal: 904ms\tremaining: 38.6ms\n",
      "959:\tlearn: 0.0549777\ttotal: 905ms\tremaining: 37.7ms\n",
      "960:\tlearn: 0.0549631\ttotal: 906ms\tremaining: 36.7ms\n",
      "961:\tlearn: 0.0549390\ttotal: 906ms\tremaining: 35.8ms\n",
      "962:\tlearn: 0.0549152\ttotal: 907ms\tremaining: 34.9ms\n",
      "963:\tlearn: 0.0547939\ttotal: 908ms\tremaining: 33.9ms\n",
      "964:\tlearn: 0.0547674\ttotal: 909ms\tremaining: 33ms\n",
      "965:\tlearn: 0.0546724\ttotal: 910ms\tremaining: 32ms\n",
      "966:\tlearn: 0.0546256\ttotal: 911ms\tremaining: 31.1ms\n",
      "967:\tlearn: 0.0545610\ttotal: 912ms\tremaining: 30.1ms\n",
      "968:\tlearn: 0.0544456\ttotal: 912ms\tremaining: 29.2ms\n",
      "969:\tlearn: 0.0544264\ttotal: 913ms\tremaining: 28.3ms\n",
      "970:\tlearn: 0.0543791\ttotal: 914ms\tremaining: 27.3ms\n",
      "971:\tlearn: 0.0543381\ttotal: 915ms\tremaining: 26.4ms\n",
      "972:\tlearn: 0.0542424\ttotal: 916ms\tremaining: 25.4ms\n",
      "973:\tlearn: 0.0542268\ttotal: 917ms\tremaining: 24.5ms\n",
      "974:\tlearn: 0.0541763\ttotal: 918ms\tremaining: 23.5ms\n",
      "975:\tlearn: 0.0541041\ttotal: 918ms\tremaining: 22.6ms\n",
      "976:\tlearn: 0.0540698\ttotal: 919ms\tremaining: 21.6ms\n",
      "977:\tlearn: 0.0539700\ttotal: 920ms\tremaining: 20.7ms\n",
      "978:\tlearn: 0.0538690\ttotal: 921ms\tremaining: 19.8ms\n",
      "979:\tlearn: 0.0538142\ttotal: 922ms\tremaining: 18.8ms\n",
      "980:\tlearn: 0.0537131\ttotal: 923ms\tremaining: 17.9ms\n",
      "981:\tlearn: 0.0536159\ttotal: 923ms\tremaining: 16.9ms\n",
      "982:\tlearn: 0.0535351\ttotal: 924ms\tremaining: 16ms\n",
      "983:\tlearn: 0.0534626\ttotal: 925ms\tremaining: 15ms\n",
      "984:\tlearn: 0.0534467\ttotal: 926ms\tremaining: 14.1ms\n",
      "985:\tlearn: 0.0534109\ttotal: 927ms\tremaining: 13.2ms\n",
      "986:\tlearn: 0.0533175\ttotal: 928ms\tremaining: 12.2ms\n",
      "987:\tlearn: 0.0531878\ttotal: 929ms\tremaining: 11.3ms\n",
      "988:\tlearn: 0.0530629\ttotal: 929ms\tremaining: 10.3ms\n",
      "989:\tlearn: 0.0529854\ttotal: 930ms\tremaining: 9.4ms\n",
      "990:\tlearn: 0.0529534\ttotal: 931ms\tremaining: 8.46ms\n",
      "991:\tlearn: 0.0529188\ttotal: 932ms\tremaining: 7.52ms\n",
      "992:\tlearn: 0.0528327\ttotal: 933ms\tremaining: 6.58ms\n",
      "993:\tlearn: 0.0527858\ttotal: 934ms\tremaining: 5.64ms\n",
      "994:\tlearn: 0.0527630\ttotal: 935ms\tremaining: 4.7ms\n",
      "995:\tlearn: 0.0526824\ttotal: 936ms\tremaining: 3.76ms\n",
      "996:\tlearn: 0.0526339\ttotal: 937ms\tremaining: 2.82ms\n",
      "997:\tlearn: 0.0525722\ttotal: 938ms\tremaining: 1.88ms\n",
      "998:\tlearn: 0.0525022\ttotal: 938ms\tremaining: 939us\n",
      "999:\tlearn: 0.0524375\ttotal: 939ms\tremaining: 0us\n"
     ]
    },
    {
     "data": {
      "text/plain": [
       "<catboost.core.CatBoostRegressor at 0x7fddcb45feb0>"
      ]
     },
     "execution_count": 9,
     "metadata": {},
     "output_type": "execute_result"
    }
   ],
   "source": [
    "#Train the Model \n",
    "prior_model = ctb.CatBoostRegressor()\n",
    "prior_model.fit(X_train,Y_train)"
   ]
  },
  {
   "cell_type": "code",
   "execution_count": 10,
   "id": "af65dcda",
   "metadata": {
    "execution": {
     "iopub.execute_input": "2022-03-11T10:38:19.339883Z",
     "iopub.status.busy": "2022-03-11T10:38:19.339482Z",
     "iopub.status.idle": "2022-03-11T10:38:19.346856Z",
     "shell.execute_reply": "2022-03-11T10:38:19.347149Z"
    },
    "id": "af65dcda",
    "papermill": {
     "duration": 0.020881,
     "end_time": "2022-03-11T10:38:19.347265",
     "exception": false,
     "start_time": "2022-03-11T10:38:19.326384",
     "status": "completed"
    },
    "tags": []
   },
   "outputs": [
    {
     "data": {
      "application/scrapbook.scrap.json+json": {
       "data": 0.24231586014568784,
       "encoder": "json",
       "name": "Prior Model MSE",
       "version": 1
      }
     },
     "metadata": {
      "scrapbook": {
       "data": true,
       "display": false,
       "name": "Prior Model MSE"
      }
     },
     "output_type": "display_data"
    },
    {
     "data": {
      "application/scrapbook.scrap.json+json": {
       "data": 1.123953182054464,
       "encoder": "json",
       "name": "ABC Pre-generator MSE",
       "version": 1
      }
     },
     "metadata": {
      "scrapbook": {
       "data": true,
       "display": false,
       "name": "ABC Pre-generator MSE"
      }
     },
     "output_type": "display_data"
    },
    {
     "data": {
      "application/scrapbook.scrap.json+json": {
       "data": 0.25994680943194476,
       "encoder": "json",
       "name": "Prior Model MAE",
       "version": 1
      }
     },
     "metadata": {
      "scrapbook": {
       "data": true,
       "display": false,
       "name": "Prior Model MAE"
      }
     },
     "output_type": "display_data"
    },
    {
     "data": {
      "application/scrapbook.scrap.json+json": {
       "data": 0.8250242865116995,
       "encoder": "json",
       "name": "ABC Pre-generator MAE",
       "version": 1
      }
     },
     "metadata": {
      "scrapbook": {
       "data": true,
       "display": false,
       "name": "ABC Pre-generator MAE"
      }
     },
     "output_type": "display_data"
    }
   ],
   "source": [
    "y_pred = prior_model.predict(X_test)\n",
    "y_abc = y_pred + np.random.normal(0,variance, y_pred.shape)\n",
    "mse = mean_squared_error(y_pred,Y_test)\n",
    "sb.glue(\"Prior Model MSE\",mse)\n",
    "mse = mean_squared_error(y_abc,Y_test)\n",
    "sb.glue(\"ABC Pre-generator MSE\",mse)\n",
    "\n",
    "mae = mean_absolute_error(y_pred,Y_test)\n",
    "sb.glue(\"Prior Model MAE\",mae)\n",
    "mae = mean_absolute_error(y_abc,Y_test)\n",
    "sb.glue(\"ABC Pre-generator MAE\",mae)"
   ]
  },
  {
   "cell_type": "markdown",
   "id": "25609da2",
   "metadata": {
    "papermill": {
     "duration": 0.009868,
     "end_time": "2022-03-11T10:38:19.367289",
     "exception": false,
     "start_time": "2022-03-11T10:38:19.357421",
     "status": "completed"
    },
    "tags": []
   },
   "source": [
    "# ABC GAN Model"
   ]
  },
  {
   "cell_type": "code",
   "execution_count": 11,
   "id": "dfc3464d",
   "metadata": {
    "execution": {
     "iopub.execute_input": "2022-03-11T10:38:19.389888Z",
     "iopub.status.busy": "2022-03-11T10:38:19.389511Z",
     "iopub.status.idle": "2022-03-11T10:38:19.392114Z",
     "shell.execute_reply": "2022-03-11T10:38:19.392347Z"
    },
    "papermill": {
     "duration": 0.015283,
     "end_time": "2022-03-11T10:38:19.392454",
     "exception": false,
     "start_time": "2022-03-11T10:38:19.377171",
     "status": "completed"
    },
    "tags": []
   },
   "outputs": [],
   "source": [
    "gen = network.Generator(n_features+1).to(device)\n",
    "disc = network.Discriminator(n_features+1).to(device)\n",
    "\n",
    "criterion = torch.nn.BCELoss()\n",
    "gen_opt = torch.optim.Adam(gen.parameters(), lr=0.001, betas=(0.5, 0.999))\n",
    "disc_opt = torch.optim.Adam(disc.parameters(), lr=0.001, betas=(0.5, 0.999))"
   ]
  },
  {
   "cell_type": "code",
   "execution_count": 12,
   "id": "b75fdd85",
   "metadata": {
    "execution": {
     "iopub.execute_input": "2022-03-11T10:38:19.414690Z",
     "iopub.status.busy": "2022-03-11T10:38:19.414320Z",
     "iopub.status.idle": "2022-03-11T10:38:54.976918Z",
     "shell.execute_reply": "2022-03-11T10:38:54.977227Z"
    },
    "papermill": {
     "duration": 35.574895,
     "end_time": "2022-03-11T10:38:54.977349",
     "exception": false,
     "start_time": "2022-03-11T10:38:19.402454",
     "status": "completed"
    },
    "tags": []
   },
   "outputs": [
    {
     "data": {
      "image/png": "[encoded data removed]",
      "text/plain": [
       "<Figure size 432x288 with 1 Axes>"
      ]
     },
     "metadata": {
      "needs_background": "light"
     },
     "output_type": "display_data"
    },
    {
     "data": {
      "image/png": "[encoded data removed]",
      "text/plain": [
       "<Figure size 432x288 with 1 Axes>"
      ]
     },
     "metadata": {
      "needs_background": "light"
     },
     "output_type": "display_data"
    }
   ],
   "source": [
    "#Training the ABC_GAN \n",
    "ABC_train_test2.training_GAN(disc,gen,disc_opt,gen_opt,train_data,batch_size,n_epochs,criterion,prior_model,variance,0,device)"
   ]
  },
  {
   "cell_type": "code",
   "execution_count": 13,
   "id": "1fa7c368",
   "metadata": {
    "execution": {
     "iopub.execute_input": "2022-03-11T10:38:55.002014Z",
     "iopub.status.busy": "2022-03-11T10:38:55.001611Z",
     "iopub.status.idle": "2022-03-11T10:38:55.298092Z",
     "shell.execute_reply": "2022-03-11T10:38:55.298372Z"
    },
    "papermill": {
     "duration": 0.310082,
     "end_time": "2022-03-11T10:38:55.298493",
     "exception": false,
     "start_time": "2022-03-11T10:38:54.988411",
     "status": "completed"
    },
    "tags": []
   },
   "outputs": [
    {
     "data": {
      "application/scrapbook.scrap.json+json": {
       "data": 0.1483525288377822,
       "encoder": "json",
       "name": "ABC-GAN Model 1 MSE",
       "version": 1
      }
     },
     "metadata": {
      "scrapbook": {
       "data": true,
       "display": false,
       "name": "ABC-GAN Model 1 MSE"
      }
     },
     "output_type": "display_data"
    },
    {
     "data": {
      "application/scrapbook.scrap.json+json": {
       "data": 0.25239622037784726,
       "encoder": "json",
       "name": "ABC-GAN Model 1 MAE",
       "version": 1
      }
     },
     "metadata": {
      "scrapbook": {
       "data": true,
       "display": false,
       "name": "ABC-GAN Model 1 MAE"
      }
     },
     "output_type": "display_data"
    },
    {
     "data": {
      "application/scrapbook.scrap.json+json": {
       "data": 25.74441447854042,
       "encoder": "json",
       "name": "ABC-GAN Model 1 Manhattan Distance",
       "version": 1
      }
     },
     "metadata": {
      "scrapbook": {
       "data": true,
       "display": false,
       "name": "ABC-GAN Model 1 Manhattan Distance"
      }
     },
     "output_type": "display_data"
    },
    {
     "data": {
      "application/scrapbook.scrap.json+json": {
       "data": 3.8899275401455164,
       "encoder": "json",
       "name": "ABC-GAN Model 1 Euclidean distance",
       "version": 1
      }
     },
     "metadata": {
      "scrapbook": {
       "data": true,
       "display": false,
       "name": "ABC-GAN Model 1 Euclidean distance"
      }
     },
     "output_type": "display_data"
    },
    {
     "data": {
      "application/scrapbook.scrap.json+json": {
       "data": [
        [
         0.14732262065080573,
         0.14921701380256072,
         0.14747839808569907,
         0.14900262177404172,
         0.15062922075861457,
         0.14946094763771237,
         0.1472563535629931,
         0.14899605012835246,
         0.1478610462357459,
         0.1477843242576842,
         0.15144644710649202,
         0.14918348977941792,
         0.14739281036328522,
         0.14898378555565917,
         0.14855668834589805,
         0.14810463258772785,
         0.1498826385170016,
         0.1474239678839874,
         0.15073602535001066,
         0.1478278546092441,
         0.1494964535884896,
         0.14964886615222794,
         0.14839630077402233,
         0.1487724063987906,
         0.14652509917759995,
         0.14853593172369378,
         0.147918194571096,
         0.14912595453990896,
         0.1457148533103655,
         0.1479298753697536,
         0.1485168759957693,
         0.14873432437320394,
         0.14963434208971169,
         0.14704471509370579,
         0.14934427755227853,
         0.14843077259885543,
         0.15139804213578417,
         0.14639447903898675,
         0.14857389660141676,
         0.1465114411712979,
         0.14666183890104384,
         0.15055477601838113,
         0.14924061830835098,
         0.14830514809230286,
         0.1476881668860573,
         0.15024431745194539,
         0.14706570182598763,
         0.15005128684593236,
         0.1481432671863118,
         0.1474090867696747,
         0.14834599157996425,
         0.14577144156202426,
         0.1492049319823964,
         0.14776569154130242,
         0.1474387530427645,
         0.14618856369538696,
         0.14668271370283315,
         0.15031473855677555,
         0.15128071644047728,
         0.14606680281517545,
         0.14739975619878953,
         0.1484261483236879,
         0.14855670330560372,
         0.1460398253273541,
         0.15044441081485832,
         0.14796489955383435,
         0.14788920633742605,
         0.14874001905763476,
         0.15031042343018608,
         0.15068549065440826,
         0.1497472098465589,
         0.1510473256697871,
         0.14848673570867293,
         0.14530519584512247,
         0.148068472322932,
         0.14826692568548486,
         0.14524695766837908,
         0.14902267500066874,
         0.15259093754099232,
         0.14756090950272416,
         0.14619223931021566,
         0.1442039779118511,
         0.14645636303260542,
         0.14769842687606718,
         0.14876351641456798,
         0.14492282991132205,
         0.15002692350994629,
         0.15109320842735977,
         0.14820690032610745,
         0.1467204476432296,
         0.1474596821568771,
         0.146660114062891,
         0.1489990637274962,
         0.14811687595922388,
         0.147675313619226,
         0.14953557520886193,
         0.1489529064688793,
         0.14870153907037045,
         0.1491207121990842,
         0.1483274476919509
        ],
        [
         0.2524518289365897,
         0.25009516690510747,
         0.25076421224238243,
         0.25104038736910794,
         0.2559554783408256,
         0.2535925504441063,
         0.2505794847384095,
         0.25269575517478526,
         0.2531480943857163,
         0.2533792233751977,
         0.25323779981437267,
         0.2518896557500257,
         0.25267379656068834,
         0.25152642526389923,
         0.2545814772556518,
         0.25206462335864116,
         0.2527581334077552,
         0.253277414186182,
         0.25181486375410767,
         0.2522718137057096,
         0.2528122051198985,
         0.2522565794597362,
         0.2520198874431206,
         0.25289540085941553,
         0.2523731191770411,
         0.251271804301616,
         0.2504867568575576,
         0.2528855939961824,
         0.2520406962573236,
         0.25345419002149033,
         0.253550574822607,
         0.2538544183377834,
         0.2523863605387947,
         0.2542159061915442,
         0.25300794911077795,
         0.2532777127207202,
         0.25675318877705755,
         0.251530578159088,
         0.2528005463491176,
         0.2518831474487396,
         0.24856938076589039,
         0.25393147114664316,
         0.2523658219907506,
         0.25324059034898583,
         0.25235182103500065,
         0.25367211212641466,
         0.25111225793393804,
         0.25396372558658614,
         0.25131619040507314,
         0.2521385615326318,
         0.2516163668467426,
         0.24947884041523816,
         0.2524936763642758,
         0.25089549198381456,
         0.2509658573852742,
         0.25058637981248255,
         0.25204250550664525,
         0.25358354145040113,
         0.25212062835035953,
         0.25185242724404033,
         0.25310896064940036,
         0.25134046607669075,
         0.25327674633658986,
         0.24904560631908038,
         0.2530520055625661,
         0.2537690408199149,
         0.25254555687527447,
         0.2510327644755735,
         0.25374889233167847,
         0.2532812997370082,
         0.25070686117910285,
         0.2561029784344867,
         0.252121611315684,
         0.2502964074522549,
         0.25128477663897414,
         0.25116283357070357,
         0.2508946846914934,
         0.2524088407665783,
         0.25676477530642466,
         0.25474941378057586,
         0.25251891250338626,
         0.25069180362876137,
         0.25163951828418407,
         0.2519043612239115,
         0.2528063710231115,
         0.2491729908677585,
         0.2535249971985525,
         0.25371401879352096,
         0.25250033068233263,
         0.2510049814066174,
         0.25237405721974726,
         0.25191615257120015,
         0.2532297123552245,
         0.25342387813782574,
         0.25225208982752234,
         0.2529781386804055,
         0.2519117438727442,
         0.25213695644382755,
         0.2536144121276105,
         0.251759639466364
        ],
        [
         25.75008655153215,
         25.50970702432096,
         25.577949648723006,
         25.606119511649013,
         26.107458790764213,
         25.86644014529884,
         25.55910744331777,
         25.774967027828097,
         25.82110562734306,
         25.844680784270167,
         25.830255581066012,
         25.692744886502624,
         25.77272724919021,
         25.65569537691772,
         25.96731068007648,
         25.7105915825814,
         25.781329607591033,
         25.83429624699056,
         25.685116102918983,
         25.731724997982383,
         25.786844922229648,
         25.73017110489309,
         25.7060285191983,
         25.795330887660384,
         25.742058156058192,
         25.629724038764834,
         25.549649199470878,
         25.794330587610602,
         25.70815101824701,
         25.852327382192016,
         25.862158631905913,
         25.893150670453906,
         25.74340877495706,
         25.93002243153751,
         25.80681080929935,
         25.83432669751346,
         26.18882525525987,
         25.656118972226977,
         25.785655727609992,
         25.692081039771438,
         25.354076838120818,
         25.901010056957603,
         25.74131384305656,
         25.830540215596557,
         25.739885745570064,
         25.874555436894298,
         25.61345030926168,
         25.904300009831786,
         25.634251421317458,
         25.718133276328444,
         25.664869418367743,
         25.446841722354293,
         25.754354989156127,
         25.591340182349086,
         25.598517453297973,
         25.559810740873218,
         25.708335561677814,
         25.865521227940917,
         25.716304091736674,
         25.688947578892112,
         25.817113986238837,
         25.63672753982246,
         25.834228126332164,
         25.4026518445462,
         25.81130456738174,
         25.88444216363132,
         25.759646801277995,
         25.605341976508498,
         25.882387017831206,
         25.834692573174834,
         25.572099840268493,
         26.122503800317645,
         25.716404354199767,
         25.53023356013,
         25.631047217175364,
         25.618609024211764,
         25.59125783853233,
         25.74570175819099,
         26.190007081255317,
         25.98444020561874,
         25.756929075345397,
         25.570563970133662,
         25.667230864986777,
         25.694244844838977,
         25.78624984435737,
         25.415645068511367,
         25.859549714252353,
         25.87882991693914,
         25.755033729597926,
         25.602508103474975,
         25.742153836414218,
         25.695447562262416,
         25.8294306602329,
         25.849235570058227,
         25.72971316240728,
         25.80377014540136,
         25.694997875019908,
         25.717969557270408,
         25.868670037016273,
         25.67948322556913
        ],
        [
         3.8764555081133314,
         3.9012991948658837,
         3.8785044288670476,
         3.8984955330168405,
         3.9197168925036765,
         3.9044867343924556,
         3.875583577143614,
         3.898409561999861,
         3.883532762324283,
         3.8825250899747945,
         3.930335558812019,
         3.9008609251677533,
         3.877378838475174,
         3.898249110392668,
         3.892657474178996,
         3.8867303127369466,
         3.9099909371677786,
         3.877788638408071,
         3.9211062961492233,
         3.88309685304692,
         3.9049504818916634,
         3.906940535448069,
         3.890555574587039,
         3.8954826982899866,
         3.8659487989515835,
         3.892385519937197,
         3.8842831830663154,
         3.9001086347781024,
         3.8552451332771676,
         3.884436547005867,
         3.8921358341620693,
         3.894984093172499,
         3.9067509382030723,
         3.872797559847143,
         3.902962504346206,
         3.8910074280426716,
         3.929707406137254,
         3.864225260252907,
         3.8928829231489237,
         3.8657686169082064,
         3.8677522629954555,
         3.9187481615785003,
         3.9016077541767062,
         3.8893605008297816,
         3.8812617822530138,
         3.9147056568915137,
         3.873073919543847,
         3.912190084630999,
         3.887237226231994,
         3.8775929196483245,
         3.889896032178282,
         3.8559936513597206,
         3.901141251250001,
         3.8822803269744512,
         3.8779830853630566,
         3.8615066356189867,
         3.868027507359401,
         3.915622981441281,
         3.928184450471831,
         3.8598981705671838,
         3.877470197471095,
         3.890946816523732,
         3.8926576701749123,
         3.8595417063934048,
         3.9173115657444897,
         3.88489636341706,
         3.8839025536716876,
         3.895058657309123,
         3.915566777604359,
         3.9204489598449865,
         3.908224072945282,
         3.925153145842628,
         3.8917408755317506,
         3.849822070719956,
         3.886255804362222,
         3.8888592697498647,
         3.8490504909879615,
         3.8987578598918153,
         3.94515850495024,
         3.8795892526500615,
         3.861555180188676,
         3.835206089248505,
         3.8650419181848146,
         3.8813965967624147,
         3.8953663081006815,
         3.8447533927359823,
         3.9118724669925666,
         3.9257492609170415,
         3.8880719943518227,
         3.8685249979300154,
         3.8782583178537062,
         3.867729519293572,
         3.898448986482266,
         3.8868909616608533,
         3.8810928859228624,
         3.905461390323032,
         3.8978451046476543,
         3.8945547865163976,
         3.9000400823974344,
         3.889652897699097
        ]
       ],
       "encoder": "json",
       "name": "ABC_GAN_1 Metrics",
       "version": 1
      }
     },
     "metadata": {
      "scrapbook": {
       "data": true,
       "display": false,
       "name": "ABC_GAN_1 Metrics"
      }
     },
     "output_type": "display_data"
    },
    {
     "name": "stdout",
     "output_type": "stream",
     "text": [
      "MSE\n",
      "0.1483525288377822\n"
     ]
    }
   ],
   "source": [
    "ABC_GAN1_metrics=ABC_train_test2.test_generator(gen,test_data,prior_model,variance,0,\"1\",device)\n",
    "sb.glue(\"ABC_GAN_1 Metrics\",ABC_GAN1_metrics)\n",
    "\n",
    "print(\"MSE\")\n",
    "print(mean(ABC_GAN1_metrics[0]))"
   ]
  },
  {
   "cell_type": "code",
   "execution_count": 14,
   "id": "eb22ce5c",
   "metadata": {
    "execution": {
     "iopub.execute_input": "2022-03-11T10:38:55.326203Z",
     "iopub.status.busy": "2022-03-11T10:38:55.325836Z",
     "iopub.status.idle": "2022-03-11T10:38:55.651346Z",
     "shell.execute_reply": "2022-03-11T10:38:55.651641Z"
    },
    "papermill": {
     "duration": 0.340493,
     "end_time": "2022-03-11T10:38:55.651760",
     "exception": false,
     "start_time": "2022-03-11T10:38:55.311267",
     "status": "completed"
    },
    "tags": []
   },
   "outputs": [
    {
     "data": {
      "image/png": "[encoded data removed]",
      "text/plain": [
       "<Figure size 432x288 with 1 Axes>"
      ]
     },
     "metadata": {
      "needs_background": "light"
     },
     "output_type": "display_data"
    },
    {
     "data": {
      "image/png": "[encoded data removed]",
      "text/plain": [
       "<Figure size 432x288 with 1 Axes>"
      ]
     },
     "metadata": {
      "needs_background": "light"
     },
     "output_type": "display_data"
    },
    {
     "data": {
      "image/png": "[encoded data removed]",
      "text/plain": [
       "<Figure size 432x288 with 1 Axes>"
      ]
     },
     "metadata": {
      "needs_background": "light"
     },
     "output_type": "display_data"
    },
    {
     "data": {
      "image/png": "[encoded data removed]",
      "text/plain": [
       "<Figure size 432x288 with 1 Axes>"
      ]
     },
     "metadata": {
      "needs_background": "light"
     },
     "output_type": "display_data"
    }
   ],
   "source": [
    "sanityChecks.discProbVsError(train_data,disc,device)\n",
    "sanityChecks.discProbVsError(test_data,disc,device)"
   ]
  },
  {
   "cell_type": "markdown",
   "id": "130f3a4d",
   "metadata": {
    "id": "130f3a4d",
    "papermill": {
     "duration": 0.01464,
     "end_time": "2022-03-11T10:38:55.681761",
     "exception": false,
     "start_time": "2022-03-11T10:38:55.667121",
     "status": "completed"
    },
    "tags": []
   },
   "source": [
    "# ABC - GAN Model with skip connection"
   ]
  },
  {
   "cell_type": "code",
   "execution_count": 15,
   "id": "4e43dad1",
   "metadata": {
    "execution": {
     "iopub.execute_input": "2022-03-11T10:38:55.714642Z",
     "iopub.status.busy": "2022-03-11T10:38:55.714257Z",
     "iopub.status.idle": "2022-03-11T10:38:55.716530Z",
     "shell.execute_reply": "2022-03-11T10:38:55.716778Z"
    },
    "id": "4e43dad1",
    "papermill": {
     "duration": 0.0204,
     "end_time": "2022-03-11T10:38:55.716888",
     "exception": false,
     "start_time": "2022-03-11T10:38:55.696488",
     "status": "completed"
    },
    "tags": []
   },
   "outputs": [],
   "source": [
    "#Generator\n",
    "gen3 = network.GeneratorWithSkipConnection(n_features+1).to(device)\n",
    "constraints=network.weightConstraint()\n",
    "#Discriminator \n",
    "disc3 = network.Discriminator(n_features+1).to(device)\n",
    "\n",
    "criterion = torch.nn.BCELoss()\n",
    "gen_opt = torch.optim.Adam(gen3.parameters(), lr=0.001, betas=(0.5, 0.999))\n",
    "disc_opt = torch.optim.Adam(disc3.parameters(), lr=0.001, betas=(0.5, 0.999))\n"
   ]
  },
  {
   "cell_type": "code",
   "execution_count": 16,
   "id": "26acbc37",
   "metadata": {
    "execution": {
     "iopub.execute_input": "2022-03-11T10:38:55.748694Z",
     "iopub.status.busy": "2022-03-11T10:38:55.748333Z",
     "iopub.status.idle": "2022-03-11T10:41:21.671246Z",
     "shell.execute_reply": "2022-03-11T10:41:21.671562Z"
    },
    "id": "26acbc37",
    "papermill": {
     "duration": 145.93999,
     "end_time": "2022-03-11T10:41:21.671701",
     "exception": false,
     "start_time": "2022-03-11T10:38:55.731711",
     "status": "completed"
    },
    "tags": []
   },
   "outputs": [
    {
     "data": {
      "image/png": "[encoded data removed]",
      "text/plain": [
       "<Figure size 432x288 with 1 Axes>"
      ]
     },
     "metadata": {
      "needs_background": "light"
     },
     "output_type": "display_data"
    },
    {
     "data": {
      "image/png": "[encoded data removed]",
      "text/plain": [
       "<Figure size 432x288 with 1 Axes>"
      ]
     },
     "metadata": {
      "needs_background": "light"
     },
     "output_type": "display_data"
    }
   ],
   "source": [
    "ABC_train_test2.training_GAN_skip_connection(disc3,gen3,disc_opt,gen_opt,train_data,batch_size,n_epochs,criterion,prior_model,variance,0,device)"
   ]
  },
  {
   "cell_type": "code",
   "execution_count": 17,
   "id": "c5e0717b",
   "metadata": {
    "execution": {
     "iopub.execute_input": "2022-03-11T10:41:21.706563Z",
     "iopub.status.busy": "2022-03-11T10:41:21.706170Z",
     "iopub.status.idle": "2022-03-11T10:41:22.514180Z",
     "shell.execute_reply": "2022-03-11T10:41:22.514564Z"
    },
    "id": "c5e0717b",
    "papermill": {
     "duration": 0.827091,
     "end_time": "2022-03-11T10:41:22.514688",
     "exception": false,
     "start_time": "2022-03-11T10:41:21.687597",
     "status": "completed"
    },
    "tags": []
   },
   "outputs": [
    {
     "data": {
      "application/scrapbook.scrap.json+json": {
       "data": 0.24883584197355108,
       "encoder": "json",
       "name": "ABC-GAN Model 3 MSE",
       "version": 1
      }
     },
     "metadata": {
      "scrapbook": {
       "data": true,
       "display": false,
       "name": "ABC-GAN Model 3 MSE"
      }
     },
     "output_type": "display_data"
    },
    {
     "data": {
      "application/scrapbook.scrap.json+json": {
       "data": 0.28793782540907464,
       "encoder": "json",
       "name": "ABC-GAN Model 3 MAE",
       "version": 1
      }
     },
     "metadata": {
      "scrapbook": {
       "data": true,
       "display": false,
       "name": "ABC-GAN Model 3 MAE"
      }
     },
     "output_type": "display_data"
    },
    {
     "data": {
      "application/scrapbook.scrap.json+json": {
       "data": 29.369658191725613,
       "encoder": "json",
       "name": "ABC-GAN Model 3 Manhattan Distance",
       "version": 1
      }
     },
     "metadata": {
      "scrapbook": {
       "data": true,
       "display": false,
       "name": "ABC-GAN Model 3 Manhattan Distance"
      }
     },
     "output_type": "display_data"
    },
    {
     "data": {
      "application/scrapbook.scrap.json+json": {
       "data": 5.036328567957988,
       "encoder": "json",
       "name": "ABC-GAN Model 3 Euclidean distance",
       "version": 1
      }
     },
     "metadata": {
      "scrapbook": {
       "data": true,
       "display": false,
       "name": "ABC-GAN Model 3 Euclidean distance"
      }
     },
     "output_type": "display_data"
    },
    {
     "data": {
      "application/scrapbook.scrap.json+json": {
       "data": [
        [
         0.2700063257084959,
         0.2301506168929952,
         0.24913899377399606,
         0.258465439543677,
         0.24478829192790766,
         0.24401299111964686,
         0.2431473795491097,
         0.24003139782223257,
         0.24102233520207492,
         0.23963833958117514,
         0.24322657255039729,
         0.24089990941272876,
         0.2493759316762549,
         0.2758611209897813,
         0.24776990341365454,
         0.2527631839915137,
         0.23601605475669166,
         0.23456014020629642,
         0.24072199762180066,
         0.2578371904897159,
         0.24302101598708428,
         0.2604253883637725,
         0.2684094066699372,
         0.2414806071449245,
         0.23444335175497064,
         0.2563130083894571,
         0.23629833424354493,
         0.22656463239879648,
         0.23660902120602909,
         0.2359339971421268,
         0.26685473544600435,
         0.2261112507278533,
         0.24884531286357164,
         0.2606025037011781,
         0.2516173297702941,
         0.2771761713624181,
         0.26391349437826994,
         0.23985931192838175,
         0.2691067075524678,
         0.2635050877783028,
         0.2579473695749382,
         0.2784860076387445,
         0.23336692227634884,
         0.2428632010915214,
         0.24017131003665537,
         0.24868079580722208,
         0.24421433210585913,
         0.26174682053082987,
         0.23760317552771876,
         0.24789407434674313,
         0.25996509670807944,
         0.23950473250062493,
         0.25486612498875294,
         0.24755620543591692,
         0.27322142718670017,
         0.23148584388740628,
         0.25445187619859283,
         0.24987998490371824,
         0.27082577674176767,
         0.24538946040777668,
         0.2482292582554858,
         0.24531093388123745,
         0.2633140246064595,
         0.24747633174176623,
         0.24915377456195179,
         0.23165794178048274,
         0.2440662668142082,
         0.24755200201637373,
         0.2366247008863891,
         0.24338657986810477,
         0.25111644907317293,
         0.23101936402461568,
         0.2697942558110884,
         0.2393657856369299,
         0.25278804790461823,
         0.24717510802911732,
         0.25284219006556446,
         0.25925648855997896,
         0.2556905024530763,
         0.22701210706926392,
         0.26330086376664624,
         0.24752999305717385,
         0.2606201869208016,
         0.2467849101184851,
         0.2670280801850778,
         0.2495744261424231,
         0.2551287273392145,
         0.24478882715080666,
         0.22402796473380757,
         0.24221556971202296,
         0.2479608733581393,
         0.2744606856347447,
         0.2466315165513565,
         0.23298185424760656,
         0.24027855275078816,
         0.24674326278495443,
         0.23831846244712082,
         0.27284013129498375,
         0.24941510096612363,
         0.22347677221749684
        ],
        [
         0.29768475435455055,
         0.2778571973938276,
         0.28417198321617704,
         0.2829492848695201,
         0.28051804329323415,
         0.28837491577381597,
         0.2915980283207461,
         0.2777963432428591,
         0.28343695232315974,
         0.29088510534561735,
         0.2858379622556123,
         0.2847453724483357,
         0.2912645276964587,
         0.2974198504040639,
         0.2882246179140958,
         0.2976800659671426,
         0.28175791409597095,
         0.27854786588646036,
         0.28735912392171575,
         0.29792013897688363,
         0.28286219393724904,
         0.30660527665168047,
         0.2867708602627995,
         0.29046783419143335,
         0.2884519877934865,
         0.27786621230417025,
         0.28183575944208045,
         0.2797715018740764,
         0.2786492504289045,
         0.2890055792625336,
         0.29603249154181455,
         0.2767321416815999,
         0.2881309796380354,
         0.2922627502029725,
         0.29182884725285513,
         0.295332097886678,
         0.29962599377933086,
         0.28355042612654907,
         0.28792828630071643,
         0.29463058087390426,
         0.28183282436985596,
         0.2912376251838663,
         0.28183153138368155,
         0.2796664223914929,
         0.2857326157938908,
         0.2930800026355713,
         0.2872260938051577,
         0.29537480253287973,
         0.2812848318112539,
         0.289070140479096,
         0.2897879625761918,
         0.29118298850588353,
         0.28110377298777595,
         0.2867974672722174,
         0.2959712220575003,
         0.27524860373095555,
         0.29515349483300074,
         0.287053702673053,
         0.29527454448900387,
         0.2912023776192583,
         0.2865391635682945,
         0.28160366041622326,
         0.29698548909714995,
         0.287402790861533,
         0.28905155496927454,
         0.27577519776555254,
         0.29073862576236326,
         0.2839599510873942,
         0.2900277087830153,
         0.2842832309760007,
         0.2914535367277031,
         0.2855910300003255,
         0.29658026523961156,
         0.2850728210098311,
         0.2884908055375312,
         0.2847979314369606,
         0.29489459416956876,
         0.2897057386261283,
         0.2930417164027983,
         0.2816278342632394,
         0.294730005073635,
         0.2939377239923559,
         0.29348417592472303,
         0.28791700235987994,
         0.2858624116645432,
         0.2972094179039784,
         0.2944823100468984,
         0.28721945563002543,
         0.27759908722238796,
         0.28480343255853535,
         0.28205910801668377,
         0.29159513504847007,
         0.281523688385884,
         0.29062172534930353,
         0.2864055062516355,
         0.2866767180864425,
         0.28461645059652774,
         0.2911444140379043,
         0.29455990484897415,
         0.2802270949434708
        ],
        [
         30.363844944164157,
         28.341434134170413,
         28.985542288050056,
         28.86082705669105,
         28.612840415909886,
         29.41424140892923,
         29.7429988887161,
         28.335227010771632,
         28.910569136962295,
         29.670280745252967,
         29.155472150072455,
         29.04402798973024,
         29.70898182503879,
         30.336824741214514,
         29.398911027237773,
         30.363366728648543,
         28.739307237789035,
         28.411882320418954,
         29.310630640015006,
         30.387854175642133,
         28.851943781599402,
         31.273738218471408,
         29.25062774680555,
         29.627719087526202,
         29.422102754935622,
         28.342353655025363,
         28.747247463092208,
         28.53669319115579,
         28.42222354374826,
         29.478569084778428,
         30.195314137265086,
         28.226678451523185,
         29.38935992307961,
         29.810800520703197,
         29.76654241979122,
         30.12387398444116,
         30.561851365491748,
         28.922143464908004,
         29.368685202673078,
         30.052319249138236,
         28.746948085725307,
         29.706237768754363,
         28.746816201135516,
         28.52597508393228,
         29.144726810976863,
         29.894160268828273,
         29.297061568126082,
         30.128229858353734,
         28.6910528447479,
         29.485154328867793,
         29.558372182771564,
         29.70066482760012,
         28.672584844753146,
         29.25334166176617,
         30.18906464986503,
         28.075357580557466,
         30.105656472966075,
         29.27947767265141,
         30.118003537878394,
         29.70264251716435,
         29.22699468396604,
         28.723573362454772,
         30.292519887909293,
         29.315084667876363,
         29.483258606866002,
         28.129070172086358,
         29.655339827761054,
         28.963915010914207,
         29.582826295867562,
         28.996889559552073,
         29.728260746225715,
         29.130285060033202,
         30.25118705444038,
         29.077427743002772,
         29.42606216482818,
         29.04938900656998,
         30.079248605296016,
         29.54998533986509,
         29.890255073085427,
         28.72603909485042,
         30.06246051751077,
         29.9816478472203,
         29.93538594432175,
         29.367534240707755,
         29.157965989783406,
         30.315360626205802,
         30.037195624783635,
         29.296384474262595,
         28.315106896683574,
         29.049950120970607,
         28.770029017701745,
         29.742703774943948,
         28.715416215360165,
         29.643415985628963,
         29.21336163766682,
         29.241025244817138,
         29.030877960845828,
         29.69673023186624,
         30.04511029459536,
         28.583163684234023
        ],
        [
         5.247918179837275,
         4.845138070590509,
         5.041049232545503,
         5.134537450779286,
         4.9968395788384665,
         4.98892023329738,
         4.9800635250977665,
         4.948050381500548,
         4.958253542388856,
         4.9439974349993205,
         4.980874461391344,
         4.956994125485558,
         5.0434457497804015,
         5.304510754156098,
         5.0271791442311615,
         5.077582571178376,
         4.906489334053683,
         4.891332569049281,
         4.955163343162732,
         5.128293422762685,
         4.978769288758277,
         5.153968336447635,
         5.232376083609969,
         4.962965034007625,
         4.890114710209465,
         5.113113225396503,
         4.909422582426735,
         4.807243753407689,
         4.912648996520612,
         4.905636320447831,
         5.217200687676529,
         4.802431423169001,
         5.038077203863028,
         5.155720645799205,
         5.066060366455378,
         5.317139219445608,
         5.188369341766595,
         4.946276358706107,
         5.239168270856712,
         5.184353282077417,
         5.129389017869838,
         5.329687868829838,
         4.8788754925892075,
         4.9771524500797835,
         4.949492259185668,
         5.036411537229326,
         4.990978047917825,
         5.167027742730306,
         4.922958856605172,
         5.028438682470713,
         5.149411603690668,
         4.942619013748049,
         5.0986610741304235,
         5.025010741726183,
         5.279070521696354,
         4.859172365384402,
         5.094515813328727,
         5.048540230619071,
         5.25587568609269,
         5.002971613110875,
         5.03183707427611,
         5.00217105424097,
         5.182473396927269,
         5.0242000196708085,
         5.041198766694196,
         4.860978302935453,
         4.989464822508445,
         5.0249680800648004,
         4.91281177030137,
         4.982512533506232,
         5.061015491525751,
         4.8542739035318965,
         5.245856850194353,
         4.941185094182047,
         5.077832301905121,
         5.021141405992264,
         5.078376058021657,
         5.1423887283166225,
         5.106900356401502,
         4.8119886659327165,
         5.182343881314508,
         5.024744699169475,
         5.15589556390757,
         5.017176579719463,
         5.218894919317493,
         5.045452553193534,
         5.10128711097502,
         4.996845041561953,
         4.7802565206114584,
         4.970511855998971,
         5.029116133331005,
         5.291029194281956,
         5.015617079506605,
         4.874848626701743,
         4.95059717413772,
         5.016753213390644,
         4.93036339123257,
         5.275385615487114,
         5.043841819342138,
         4.774372290279077
        ]
       ],
       "encoder": "json",
       "name": "ABC_GAN_3 Metrics",
       "version": 1
      }
     },
     "metadata": {
      "scrapbook": {
       "data": true,
       "display": false,
       "name": "ABC_GAN_3 Metrics"
      }
     },
     "output_type": "display_data"
    },
    {
     "name": "stdout",
     "output_type": "stream",
     "text": [
      "MSE\n",
      "0.24883584197355108\n"
     ]
    }
   ],
   "source": [
    "ABC_GAN3_metrics=ABC_train_test2.test_generator(gen3,test_data,prior_model,variance,0,\"3\",device)\n",
    "sb.glue(\"ABC_GAN_3 Metrics\",ABC_GAN3_metrics)\n",
    "\n",
    "print(\"MSE\")\n",
    "print(mean(ABC_GAN3_metrics[0]))"
   ]
  },
  {
   "cell_type": "code",
   "execution_count": 18,
   "id": "c8e46b48",
   "metadata": {
    "execution": {
     "iopub.execute_input": "2022-03-11T10:41:22.552273Z",
     "iopub.status.busy": "2022-03-11T10:41:22.551890Z",
     "iopub.status.idle": "2022-03-11T10:41:22.879993Z",
     "shell.execute_reply": "2022-03-11T10:41:22.880315Z"
    },
    "id": "c8e46b48",
    "papermill": {
     "duration": 0.347937,
     "end_time": "2022-03-11T10:41:22.880442",
     "exception": false,
     "start_time": "2022-03-11T10:41:22.532505",
     "status": "completed"
    },
    "tags": []
   },
   "outputs": [
    {
     "data": {
      "image/png": "[encoded data removed]",
      "text/plain": [
       "<Figure size 432x288 with 1 Axes>"
      ]
     },
     "metadata": {
      "needs_background": "light"
     },
     "output_type": "display_data"
    },
    {
     "data": {
      "image/png": "[encoded data removed]",
      "text/plain": [
       "<Figure size 432x288 with 1 Axes>"
      ]
     },
     "metadata": {
      "needs_background": "light"
     },
     "output_type": "display_data"
    },
    {
     "data": {
      "image/png": "[encoded data removed]",
      "text/plain": [
       "<Figure size 432x288 with 1 Axes>"
      ]
     },
     "metadata": {
      "needs_background": "light"
     },
     "output_type": "display_data"
    },
    {
     "data": {
      "image/png": "[encoded data removed]",
      "text/plain": [
       "<Figure size 432x288 with 1 Axes>"
      ]
     },
     "metadata": {
      "needs_background": "light"
     },
     "output_type": "display_data"
    }
   ],
   "source": [
    "sanityChecks.discProbVsError(train_data,disc3,device)\n",
    "sanityChecks.discProbVsError(test_data,disc3,device)"
   ]
  },
  {
   "cell_type": "markdown",
   "id": "a5bd74c3",
   "metadata": {
    "id": "a5bd74c3",
    "papermill": {
     "duration": 0.019827,
     "end_time": "2022-03-11T10:41:22.920644",
     "exception": false,
     "start_time": "2022-03-11T10:41:22.900817",
     "status": "completed"
    },
    "tags": []
   },
   "source": [
    "## Skip Connection Model Analysis - ABC-GAN "
   ]
  },
  {
   "cell_type": "markdown",
   "id": "5744a8bf",
   "metadata": {
    "id": "5744a8bf",
    "papermill": {
     "duration": 0.019468,
     "end_time": "2022-03-11T10:41:22.959778",
     "exception": false,
     "start_time": "2022-03-11T10:41:22.940310",
     "status": "completed"
    },
    "tags": []
   },
   "source": [
    "### Weight Analysis \n",
    "\n",
    "Study the weights of the skip connection layer\n",
    "\n",
    "Equation of the skip connection is \n",
    "\n",
    "$output = y_{gan} * w + y_{abc} * (1-w)$"
   ]
  },
  {
   "cell_type": "code",
   "execution_count": 19,
   "id": "52c31dea",
   "metadata": {
    "execution": {
     "iopub.execute_input": "2022-03-11T10:41:23.001747Z",
     "iopub.status.busy": "2022-03-11T10:41:23.001371Z",
     "iopub.status.idle": "2022-03-11T10:41:23.004955Z",
     "shell.execute_reply": "2022-03-11T10:41:23.005197Z"
    },
    "id": "52c31dea",
    "papermill": {
     "duration": 0.026159,
     "end_time": "2022-03-11T10:41:23.005310",
     "exception": false,
     "start_time": "2022-03-11T10:41:22.979151",
     "status": "completed"
    },
    "tags": []
   },
   "outputs": [
    {
     "name": "stdout",
     "output_type": "stream",
     "text": [
      "Weight of the node at skip connection\n",
      "Parameter containing:\n",
      "tensor([[0.2580]], requires_grad=True)\n"
     ]
    },
    {
     "data": {
      "application/scrapbook.scrap.json+json": {
       "data": 0.2579778730869293,
       "encoder": "json",
       "name": "Skip Connection Weight",
       "version": 1
      }
     },
     "metadata": {
      "scrapbook": {
       "data": true,
       "display": false,
       "name": "Skip Connection Weight"
      }
     },
     "output_type": "display_data"
    }
   ],
   "source": [
    "print(\"Weight of the node at skip connection\")\n",
    "for name,param in gen3.named_parameters():\n",
    "    if(name == \"skipNode.weight\"):\n",
    "        print(param)\n",
    "        sb.glue(\"Skip Connection Weight\",param.item())"
   ]
  }
 ],
 "metadata": {
  "colab": {
   "collapsed_sections": [],
   "name": "ABC_GAN_Model-Catboost_Pre-gen.ipynb",
   "provenance": []
  },
  "interpreter": {
   "hash": "31f2aee4e71d21fbe5cf8b01ff0e069b9275f58929596ceb00d14d90e3e16cd6"
  },
  "kernelspec": {
   "display_name": "Python 3 (ipykernel)",
   "language": "python",
   "name": "python3"
  },
  "language_info": {
   "codemirror_mode": {
    "name": "ipython",
    "version": 3
   },
   "file_extension": ".py",
   "mimetype": "text/x-python",
   "name": "python",
   "nbconvert_exporter": "python",
   "pygments_lexer": "ipython3",
   "version": "3.8.11"
  },
  "papermill": {
   "default_parameters": {},
   "duration": 187.938995,
   "end_time": "2022-03-11T10:41:23.336005",
   "environment_variables": {},
   "exception": null,
   "input_path": "ABC_GAN-Catboost.ipynb",
   "output_path": "./ABC_GAN_Catboost/ABC-GAN_output_8_0.ipynb",
   "parameters": {
    "variance": 1
   },
   "start_time": "2022-03-11T10:38:15.397010",
   "version": "2.3.3"
  }
 },
 "nbformat": 4,
 "nbformat_minor": 5
}