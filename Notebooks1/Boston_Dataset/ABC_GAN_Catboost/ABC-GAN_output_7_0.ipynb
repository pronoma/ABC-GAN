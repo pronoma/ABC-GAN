{
 "cells": [
  {
   "cell_type": "markdown",
   "id": "622780e6",
   "metadata": {
    "id": "622780e6",
    "papermill": {
     "duration": 0.036213,
     "end_time": "2022-03-11T10:28:33.573033",
     "exception": false,
     "start_time": "2022-03-11T10:28:33.536820",
     "status": "completed"
    },
    "tags": []
   },
   "source": [
    "## Import Libraries "
   ]
  },
  {
   "cell_type": "code",
   "execution_count": 1,
   "id": "a62397e3",
   "metadata": {
    "execution": {
     "iopub.execute_input": "2022-03-11T10:28:33.609021Z",
     "iopub.status.busy": "2022-03-11T10:28:33.608451Z",
     "iopub.status.idle": "2022-03-11T10:28:33.610907Z",
     "shell.execute_reply": "2022-03-11T10:28:33.611281Z"
    },
    "id": "a62397e3",
    "papermill": {
     "duration": 0.022461,
     "end_time": "2022-03-11T10:28:33.611507",
     "exception": false,
     "start_time": "2022-03-11T10:28:33.589046",
     "status": "completed"
    },
    "tags": []
   },
   "outputs": [],
   "source": [
    "import warnings\n",
    "import sys\n",
    "sys.path.insert(0, '../../src')\n",
    "warnings.filterwarnings('ignore')"
   ]
  },
  {
   "cell_type": "code",
   "execution_count": 2,
   "id": "d6a4e155",
   "metadata": {
    "execution": {
     "iopub.execute_input": "2022-03-11T10:28:33.632234Z",
     "iopub.status.busy": "2022-03-11T10:28:33.631829Z",
     "iopub.status.idle": "2022-03-11T10:28:35.376250Z",
     "shell.execute_reply": "2022-03-11T10:28:35.376505Z"
    },
    "id": "d6a4e155",
    "papermill": {
     "duration": 1.755419,
     "end_time": "2022-03-11T10:28:35.376628",
     "exception": false,
     "start_time": "2022-03-11T10:28:33.621209",
     "status": "completed"
    },
    "tags": []
   },
   "outputs": [],
   "source": [
    "import ABC_train_test2\n",
    "import bostonDataset\n",
    "import network\n",
    "import dataset\n",
    "import sanityChecks\n",
    "import torch \n",
    "import scrapbook as sb\n",
    "from statistics import mean \n",
    "import catboost as ctb \n",
    "from sklearn.model_selection import train_test_split\n",
    "from sklearn.metrics import mean_squared_error,mean_absolute_error\n",
    "import numpy as np"
   ]
  },
  {
   "cell_type": "markdown",
   "id": "2fa5b0f7",
   "metadata": {
    "id": "2fa5b0f7",
    "papermill": {
     "duration": 0.006769,
     "end_time": "2022-03-11T10:28:35.390395",
     "exception": false,
     "start_time": "2022-03-11T10:28:35.383626",
     "status": "completed"
    },
    "tags": []
   },
   "source": [
    "## Parameters "
   ]
  },
  {
   "cell_type": "code",
   "execution_count": 3,
   "id": "783186fb",
   "metadata": {
    "execution": {
     "iopub.execute_input": "2022-03-11T10:28:35.406017Z",
     "iopub.status.busy": "2022-03-11T10:28:35.405650Z",
     "iopub.status.idle": "2022-03-11T10:28:35.406962Z",
     "shell.execute_reply": "2022-03-11T10:28:35.407217Z"
    },
    "id": "783186fb",
    "papermill": {
     "duration": 0.010273,
     "end_time": "2022-03-11T10:28:35.407328",
     "exception": false,
     "start_time": "2022-03-11T10:28:35.397055",
     "status": "completed"
    },
    "tags": [
     "parameters"
    ]
   },
   "outputs": [],
   "source": [
    "variance = 1"
   ]
  },
  {
   "cell_type": "code",
   "execution_count": 4,
   "id": "b6baf1a2",
   "metadata": {
    "execution": {
     "iopub.execute_input": "2022-03-11T10:28:35.422602Z",
     "iopub.status.busy": "2022-03-11T10:28:35.422241Z",
     "iopub.status.idle": "2022-03-11T10:28:35.423525Z",
     "shell.execute_reply": "2022-03-11T10:28:35.423786Z"
    },
    "papermill": {
     "duration": 0.009806,
     "end_time": "2022-03-11T10:28:35.423895",
     "exception": false,
     "start_time": "2022-03-11T10:28:35.414089",
     "status": "completed"
    },
    "tags": [
     "injected-parameters"
    ]
   },
   "outputs": [],
   "source": [
    "# Parameters\n",
    "variance = 1\n"
   ]
  },
  {
   "cell_type": "markdown",
   "id": "391cdbfd",
   "metadata": {
    "id": "391cdbfd",
    "papermill": {
     "duration": 0.006749,
     "end_time": "2022-03-11T10:28:35.437523",
     "exception": false,
     "start_time": "2022-03-11T10:28:35.430774",
     "status": "completed"
    },
    "tags": []
   },
   "source": [
    "## Dataset \n"
   ]
  },
  {
   "cell_type": "code",
   "execution_count": 5,
   "id": "5b51f161",
   "metadata": {
    "execution": {
     "iopub.execute_input": "2022-03-11T10:28:35.452976Z",
     "iopub.status.busy": "2022-03-11T10:28:35.452600Z",
     "iopub.status.idle": "2022-03-11T10:28:35.453848Z",
     "shell.execute_reply": "2022-03-11T10:28:35.454090Z"
    },
    "id": "5b51f161",
    "papermill": {
     "duration": 0.009912,
     "end_time": "2022-03-11T10:28:35.454194",
     "exception": false,
     "start_time": "2022-03-11T10:28:35.444282",
     "status": "completed"
    },
    "tags": []
   },
   "outputs": [],
   "source": [
    "#Parameters \n",
    "n_features = 13\n",
    "n_samples= 506\n",
    "n_target = 1 "
   ]
  },
  {
   "cell_type": "code",
   "execution_count": 6,
   "id": "5d6eced4",
   "metadata": {
    "execution": {
     "iopub.execute_input": "2022-03-11T10:28:35.469681Z",
     "iopub.status.busy": "2022-03-11T10:28:35.469301Z",
     "iopub.status.idle": "2022-03-11T10:28:35.479917Z",
     "shell.execute_reply": "2022-03-11T10:28:35.480165Z"
    },
    "id": "5d6eced4",
    "papermill": {
     "duration": 0.019261,
     "end_time": "2022-03-11T10:28:35.480281",
     "exception": false,
     "start_time": "2022-03-11T10:28:35.461020",
     "status": "completed"
    },
    "tags": []
   },
   "outputs": [
    {
     "name": "stdout",
     "output_type": "stream",
     "text": [
      "         X1        X2        X3        X4        X5        X6        X7  \\\n",
      "0 -0.419782  0.284830 -1.287909 -0.272599 -0.144217  0.413672 -0.120013   \n",
      "1 -0.417339 -0.487722 -0.593381 -0.272599 -0.740262  0.194274  0.367166   \n",
      "2 -0.417342 -0.487722 -0.593381 -0.272599 -0.740262  1.282714 -0.265812   \n",
      "3 -0.416750 -0.487722 -1.306878 -0.272599 -0.835284  1.016303 -0.809889   \n",
      "4 -0.412482 -0.487722 -1.306878 -0.272599 -0.835284  1.228577 -0.511180   \n",
      "\n",
      "         X8        X9       X10       X11       X12       X13         Y  \n",
      "0  0.140214 -0.982843 -0.666608 -1.459000  0.441052 -1.075562  0.159686  \n",
      "1  0.557160 -0.867883 -0.987329 -0.303094  0.441052 -0.492439 -0.101524  \n",
      "2  0.557160 -0.867883 -0.987329 -0.303094  0.396427 -1.208727  1.324247  \n",
      "3  1.077737 -0.752922 -1.106115  0.113032  0.416163 -1.361517  1.182758  \n",
      "4  1.077737 -0.752922 -1.106115  0.113032  0.441052 -1.026501  1.487503  \n"
     ]
    }
   ],
   "source": [
    "X,Y = bostonDataset.boston_data()"
   ]
  },
  {
   "cell_type": "code",
   "execution_count": 7,
   "id": "fe007438",
   "metadata": {
    "execution": {
     "iopub.execute_input": "2022-03-11T10:28:35.497281Z",
     "iopub.status.busy": "2022-03-11T10:28:35.496916Z",
     "iopub.status.idle": "2022-03-11T10:28:35.498328Z",
     "shell.execute_reply": "2022-03-11T10:28:35.498579Z"
    },
    "id": "fe007438",
    "papermill": {
     "duration": 0.011171,
     "end_time": "2022-03-11T10:28:35.498688",
     "exception": false,
     "start_time": "2022-03-11T10:28:35.487517",
     "status": "completed"
    },
    "tags": []
   },
   "outputs": [],
   "source": [
    "#Train test split for dataset \n",
    "X_train,X_test,Y_train,Y_test = train_test_split(X,Y,test_size = 0.2)\n",
    "train_data = dataset.CustomDataset(X_train,Y_train)\n",
    "test_data = dataset.CustomDataset(X_test,Y_test)\n"
   ]
  },
  {
   "cell_type": "markdown",
   "id": "a9a1af34",
   "metadata": {
    "id": "a9a1af34",
    "papermill": {
     "duration": 0.007032,
     "end_time": "2022-03-11T10:28:35.512873",
     "exception": false,
     "start_time": "2022-03-11T10:28:35.505841",
     "status": "completed"
    },
    "tags": []
   },
   "source": [
    "## Training Parameters "
   ]
  },
  {
   "cell_type": "code",
   "execution_count": 8,
   "id": "952b7fc8",
   "metadata": {
    "execution": {
     "iopub.execute_input": "2022-03-11T10:28:35.529248Z",
     "iopub.status.busy": "2022-03-11T10:28:35.528871Z",
     "iopub.status.idle": "2022-03-11T10:28:35.530139Z",
     "shell.execute_reply": "2022-03-11T10:28:35.530389Z"
    },
    "id": "952b7fc8",
    "papermill": {
     "duration": 0.010596,
     "end_time": "2022-03-11T10:28:35.530496",
     "exception": false,
     "start_time": "2022-03-11T10:28:35.519900",
     "status": "completed"
    },
    "tags": []
   },
   "outputs": [],
   "source": [
    "batch_size = 64\n",
    "n_epochs = 1000\n",
    "#Select the device \n",
    "device = torch.device('cuda' if torch.cuda.is_available() else 'cpu')"
   ]
  },
  {
   "cell_type": "markdown",
   "id": "a95e1600",
   "metadata": {
    "id": "a95e1600",
    "papermill": {
     "duration": 0.006998,
     "end_time": "2022-03-11T10:28:35.544644",
     "exception": false,
     "start_time": "2022-03-11T10:28:35.537646",
     "status": "completed"
    },
    "tags": []
   },
   "source": [
    "# ABC Pre-generator Model \n",
    "\n",
    "1. The catboost model is used as a pre-generator model for the ABC-GAN. \n",
    "2. The model is first trained on the entire dataset \n",
    "3. It generats X,Y pairs and we add some Gaussian noise with mean 0 and variance 1 to it which is then feed as input to the generator.\n"
   ]
  },
  {
   "cell_type": "code",
   "execution_count": 9,
   "id": "ff8ce7bd",
   "metadata": {
    "execution": {
     "iopub.execute_input": "2022-03-11T10:28:35.563705Z",
     "iopub.status.busy": "2022-03-11T10:28:35.563320Z",
     "iopub.status.idle": "2022-03-11T10:28:36.533712Z",
     "shell.execute_reply": "2022-03-11T10:28:36.534014Z"
    },
    "id": "ff8ce7bd",
    "papermill": {
     "duration": 0.982427,
     "end_time": "2022-03-11T10:28:36.534144",
     "exception": false,
     "start_time": "2022-03-11T10:28:35.551717",
     "status": "completed"
    },
    "tags": []
   },
   "outputs": [
    {
     "name": "stdout",
     "output_type": "stream",
     "text": [
      "Learning rate set to 0.033215\n",
      "0:\tlearn: 0.9956085\ttotal: 59.9ms\tremaining: 59.8s\n",
      "1:\tlearn: 0.9768182\ttotal: 60.7ms\tremaining: 30.3s\n",
      "2:\tlearn: 0.9573590\ttotal: 61.9ms\tremaining: 20.6s\n",
      "3:\tlearn: 0.9404346\ttotal: 63ms\tremaining: 15.7s\n",
      "4:\tlearn: 0.9229179\ttotal: 64.1ms\tremaining: 12.8s\n",
      "5:\tlearn: 0.9058810\ttotal: 65.1ms\tremaining: 10.8s\n",
      "6:\tlearn: 0.8885639\ttotal: 65.9ms\tremaining: 9.35s\n",
      "7:\tlearn: 0.8726090\ttotal: 66.9ms\tremaining: 8.29s\n",
      "8:\tlearn: 0.8574491\ttotal: 67.7ms\tremaining: 7.46s\n",
      "9:\tlearn: 0.8400377\ttotal: 68.6ms\tremaining: 6.79s\n",
      "10:\tlearn: 0.8241302\ttotal: 69.5ms\tremaining: 6.25s\n",
      "11:\tlearn: 0.8096363\ttotal: 70.4ms\tremaining: 5.79s\n",
      "12:\tlearn: 0.7948110\ttotal: 71.1ms\tremaining: 5.4s\n",
      "13:\tlearn: 0.7799260\ttotal: 71.9ms\tremaining: 5.06s\n",
      "14:\tlearn: 0.7678311\ttotal: 72.7ms\tremaining: 4.77s\n",
      "15:\tlearn: 0.7530414\ttotal: 73.4ms\tremaining: 4.52s\n",
      "16:\tlearn: 0.7395077\ttotal: 74.2ms\tremaining: 4.29s\n",
      "17:\tlearn: 0.7262044\ttotal: 75ms\tremaining: 4.09s\n",
      "18:\tlearn: 0.7136350\ttotal: 75.8ms\tremaining: 3.91s\n",
      "19:\tlearn: 0.7007807\ttotal: 76.5ms\tremaining: 3.75s\n",
      "20:\tlearn: 0.6892376\ttotal: 77.4ms\tremaining: 3.61s\n",
      "21:\tlearn: 0.6784317\ttotal: 78.3ms\tremaining: 3.48s\n",
      "22:\tlearn: 0.6663879\ttotal: 79.1ms\tremaining: 3.36s\n",
      "23:\tlearn: 0.6567458\ttotal: 79.8ms\tremaining: 3.24s\n",
      "24:\tlearn: 0.6467574\ttotal: 80.6ms\tremaining: 3.14s\n",
      "25:\tlearn: 0.6361395\ttotal: 81.3ms\tremaining: 3.05s\n",
      "26:\tlearn: 0.6272685\ttotal: 82.1ms\tremaining: 2.96s\n",
      "27:\tlearn: 0.6178475\ttotal: 82.8ms\tremaining: 2.87s\n",
      "28:\tlearn: 0.6095314\ttotal: 83.6ms\tremaining: 2.8s\n",
      "29:\tlearn: 0.5998524\ttotal: 84.4ms\tremaining: 2.73s\n",
      "30:\tlearn: 0.5907889\ttotal: 85.2ms\tremaining: 2.66s\n",
      "31:\tlearn: 0.5823811\ttotal: 86ms\tremaining: 2.6s\n",
      "32:\tlearn: 0.5749894\ttotal: 86.8ms\tremaining: 2.54s\n",
      "33:\tlearn: 0.5684745\ttotal: 87.7ms\tremaining: 2.49s\n",
      "34:\tlearn: 0.5612894\ttotal: 88.8ms\tremaining: 2.45s\n",
      "35:\tlearn: 0.5538126\ttotal: 89.5ms\tremaining: 2.4s\n",
      "36:\tlearn: 0.5463241\ttotal: 90.3ms\tremaining: 2.35s\n",
      "37:\tlearn: 0.5384317\ttotal: 91.2ms\tremaining: 2.31s\n",
      "38:\tlearn: 0.5310939\ttotal: 92ms\tremaining: 2.27s\n",
      "39:\tlearn: 0.5234129\ttotal: 92.7ms\tremaining: 2.22s\n",
      "40:\tlearn: 0.5172500\ttotal: 94.5ms\tremaining: 2.21s\n",
      "41:\tlearn: 0.5109038\ttotal: 95.4ms\tremaining: 2.18s\n",
      "42:\tlearn: 0.5041543\ttotal: 96.5ms\tremaining: 2.15s\n",
      "43:\tlearn: 0.4991035\ttotal: 97.3ms\tremaining: 2.11s\n",
      "44:\tlearn: 0.4923693\ttotal: 98.2ms\tremaining: 2.08s\n",
      "45:\tlearn: 0.4863173\ttotal: 99.1ms\tremaining: 2.05s\n",
      "46:\tlearn: 0.4828042\ttotal: 99.9ms\tremaining: 2.03s\n",
      "47:\tlearn: 0.4769372\ttotal: 101ms\tremaining: 2s\n",
      "48:\tlearn: 0.4713311\ttotal: 102ms\tremaining: 1.97s\n",
      "49:\tlearn: 0.4657957\ttotal: 102ms\tremaining: 1.95s\n",
      "50:\tlearn: 0.4620026\ttotal: 103ms\tremaining: 1.92s\n",
      "51:\tlearn: 0.4570821\ttotal: 104ms\tremaining: 1.9s\n",
      "52:\tlearn: 0.4519838\ttotal: 105ms\tremaining: 1.87s\n",
      "53:\tlearn: 0.4482829\ttotal: 106ms\tremaining: 1.85s\n",
      "54:\tlearn: 0.4431100\ttotal: 106ms\tremaining: 1.83s\n",
      "55:\tlearn: 0.4398015\ttotal: 107ms\tremaining: 1.81s\n",
      "56:\tlearn: 0.4366087\ttotal: 108ms\tremaining: 1.79s\n",
      "57:\tlearn: 0.4319063\ttotal: 109ms\tremaining: 1.76s\n"
     ]
    },
    {
     "name": "stdout",
     "output_type": "stream",
     "text": [
      "58:\tlearn: 0.4278485\ttotal: 110ms\tremaining: 1.75s\n",
      "59:\tlearn: 0.4239484\ttotal: 111ms\tremaining: 1.73s\n",
      "60:\tlearn: 0.4198661\ttotal: 111ms\tremaining: 1.72s\n",
      "61:\tlearn: 0.4158299\ttotal: 112ms\tremaining: 1.7s\n",
      "62:\tlearn: 0.4129258\ttotal: 113ms\tremaining: 1.68s\n",
      "63:\tlearn: 0.4092371\ttotal: 114ms\tremaining: 1.67s\n",
      "64:\tlearn: 0.4063015\ttotal: 115ms\tremaining: 1.65s\n",
      "65:\tlearn: 0.4029331\ttotal: 116ms\tremaining: 1.64s\n",
      "66:\tlearn: 0.3995101\ttotal: 117ms\tremaining: 1.62s\n",
      "67:\tlearn: 0.3961277\ttotal: 117ms\tremaining: 1.61s\n",
      "68:\tlearn: 0.3927115\ttotal: 118ms\tremaining: 1.6s\n",
      "69:\tlearn: 0.3897718\ttotal: 119ms\tremaining: 1.58s\n",
      "70:\tlearn: 0.3866686\ttotal: 120ms\tremaining: 1.57s\n",
      "71:\tlearn: 0.3826036\ttotal: 121ms\tremaining: 1.56s\n",
      "72:\tlearn: 0.3797446\ttotal: 122ms\tremaining: 1.55s\n",
      "73:\tlearn: 0.3766379\ttotal: 123ms\tremaining: 1.53s\n",
      "74:\tlearn: 0.3735288\ttotal: 123ms\tremaining: 1.52s\n",
      "75:\tlearn: 0.3709838\ttotal: 124ms\tremaining: 1.51s\n",
      "76:\tlearn: 0.3674320\ttotal: 125ms\tremaining: 1.5s\n",
      "77:\tlearn: 0.3646097\ttotal: 126ms\tremaining: 1.49s\n",
      "78:\tlearn: 0.3616964\ttotal: 127ms\tremaining: 1.48s\n",
      "79:\tlearn: 0.3592027\ttotal: 128ms\tremaining: 1.47s\n",
      "80:\tlearn: 0.3567693\ttotal: 128ms\tremaining: 1.46s\n",
      "81:\tlearn: 0.3544249\ttotal: 129ms\tremaining: 1.45s\n",
      "82:\tlearn: 0.3518972\ttotal: 130ms\tremaining: 1.44s\n",
      "83:\tlearn: 0.3493885\ttotal: 131ms\tremaining: 1.43s\n",
      "84:\tlearn: 0.3473047\ttotal: 132ms\tremaining: 1.42s\n",
      "85:\tlearn: 0.3450781\ttotal: 133ms\tremaining: 1.41s\n",
      "86:\tlearn: 0.3431508\ttotal: 134ms\tremaining: 1.4s\n",
      "87:\tlearn: 0.3408171\ttotal: 134ms\tremaining: 1.39s\n",
      "88:\tlearn: 0.3389936\ttotal: 135ms\tremaining: 1.39s\n",
      "89:\tlearn: 0.3371548\ttotal: 136ms\tremaining: 1.38s\n",
      "90:\tlearn: 0.3351961\ttotal: 137ms\tremaining: 1.37s\n",
      "91:\tlearn: 0.3330641\ttotal: 138ms\tremaining: 1.36s\n",
      "92:\tlearn: 0.3316891\ttotal: 139ms\tremaining: 1.35s\n",
      "93:\tlearn: 0.3296152\ttotal: 139ms\tremaining: 1.34s\n",
      "94:\tlearn: 0.3278188\ttotal: 140ms\tremaining: 1.33s\n",
      "95:\tlearn: 0.3264175\ttotal: 141ms\tremaining: 1.33s\n",
      "96:\tlearn: 0.3250632\ttotal: 142ms\tremaining: 1.32s\n",
      "97:\tlearn: 0.3233417\ttotal: 143ms\tremaining: 1.31s\n",
      "98:\tlearn: 0.3218741\ttotal: 143ms\tremaining: 1.3s\n",
      "99:\tlearn: 0.3200905\ttotal: 144ms\tremaining: 1.3s\n",
      "100:\tlearn: 0.3185013\ttotal: 145ms\tremaining: 1.29s\n",
      "101:\tlearn: 0.3167234\ttotal: 146ms\tremaining: 1.28s\n",
      "102:\tlearn: 0.3152556\ttotal: 147ms\tremaining: 1.28s\n",
      "103:\tlearn: 0.3139385\ttotal: 148ms\tremaining: 1.27s\n",
      "104:\tlearn: 0.3124805\ttotal: 149ms\tremaining: 1.27s\n",
      "105:\tlearn: 0.3108369\ttotal: 150ms\tremaining: 1.26s\n",
      "106:\tlearn: 0.3093159\ttotal: 150ms\tremaining: 1.25s\n",
      "107:\tlearn: 0.3070484\ttotal: 152ms\tremaining: 1.25s\n",
      "108:\tlearn: 0.3056505\ttotal: 153ms\tremaining: 1.25s\n",
      "109:\tlearn: 0.3042261\ttotal: 154ms\tremaining: 1.24s\n",
      "110:\tlearn: 0.3028529\ttotal: 155ms\tremaining: 1.24s\n",
      "111:\tlearn: 0.3013657\ttotal: 156ms\tremaining: 1.23s\n",
      "112:\tlearn: 0.2996824\ttotal: 156ms\tremaining: 1.23s\n",
      "113:\tlearn: 0.2983427\ttotal: 157ms\tremaining: 1.22s\n",
      "114:\tlearn: 0.2973393\ttotal: 158ms\tremaining: 1.22s\n",
      "115:\tlearn: 0.2957705\ttotal: 159ms\tremaining: 1.21s\n",
      "116:\tlearn: 0.2945482\ttotal: 160ms\tremaining: 1.2s\n",
      "117:\tlearn: 0.2934252\ttotal: 160ms\tremaining: 1.2s\n",
      "118:\tlearn: 0.2921419\ttotal: 161ms\tremaining: 1.19s\n",
      "119:\tlearn: 0.2913313\ttotal: 162ms\tremaining: 1.19s\n",
      "120:\tlearn: 0.2904032\ttotal: 163ms\tremaining: 1.18s\n",
      "121:\tlearn: 0.2896100\ttotal: 163ms\tremaining: 1.18s\n",
      "122:\tlearn: 0.2887526\ttotal: 164ms\tremaining: 1.17s\n",
      "123:\tlearn: 0.2877818\ttotal: 165ms\tremaining: 1.17s\n",
      "124:\tlearn: 0.2865620\ttotal: 166ms\tremaining: 1.16s\n",
      "125:\tlearn: 0.2853010\ttotal: 167ms\tremaining: 1.16s\n",
      "126:\tlearn: 0.2840333\ttotal: 168ms\tremaining: 1.16s\n",
      "127:\tlearn: 0.2827615\ttotal: 169ms\tremaining: 1.15s\n",
      "128:\tlearn: 0.2819252\ttotal: 170ms\tremaining: 1.15s\n",
      "129:\tlearn: 0.2809415\ttotal: 171ms\tremaining: 1.14s\n",
      "130:\tlearn: 0.2798962\ttotal: 171ms\tremaining: 1.14s\n",
      "131:\tlearn: 0.2789826\ttotal: 172ms\tremaining: 1.13s\n",
      "132:\tlearn: 0.2779361\ttotal: 173ms\tremaining: 1.13s\n",
      "133:\tlearn: 0.2770854\ttotal: 174ms\tremaining: 1.13s\n",
      "134:\tlearn: 0.2763109\ttotal: 175ms\tremaining: 1.12s\n",
      "135:\tlearn: 0.2754905\ttotal: 176ms\tremaining: 1.11s\n",
      "136:\tlearn: 0.2748453\ttotal: 176ms\tremaining: 1.11s\n",
      "137:\tlearn: 0.2740749\ttotal: 177ms\tremaining: 1.11s\n",
      "138:\tlearn: 0.2728797\ttotal: 178ms\tremaining: 1.1s\n",
      "139:\tlearn: 0.2721995\ttotal: 179ms\tremaining: 1.1s\n",
      "140:\tlearn: 0.2713466\ttotal: 180ms\tremaining: 1.1s\n",
      "141:\tlearn: 0.2706163\ttotal: 181ms\tremaining: 1.09s\n",
      "142:\tlearn: 0.2699127\ttotal: 182ms\tremaining: 1.09s\n",
      "143:\tlearn: 0.2686113\ttotal: 182ms\tremaining: 1.08s\n",
      "144:\tlearn: 0.2677805\ttotal: 183ms\tremaining: 1.08s\n",
      "145:\tlearn: 0.2666639\ttotal: 184ms\tremaining: 1.08s\n",
      "146:\tlearn: 0.2660992\ttotal: 185ms\tremaining: 1.07s\n",
      "147:\tlearn: 0.2653065\ttotal: 186ms\tremaining: 1.07s\n",
      "148:\tlearn: 0.2642649\ttotal: 186ms\tremaining: 1.06s\n",
      "149:\tlearn: 0.2635377\ttotal: 187ms\tremaining: 1.06s\n",
      "150:\tlearn: 0.2625792\ttotal: 188ms\tremaining: 1.06s\n",
      "151:\tlearn: 0.2618666\ttotal: 189ms\tremaining: 1.05s\n",
      "152:\tlearn: 0.2611837\ttotal: 190ms\tremaining: 1.05s\n",
      "153:\tlearn: 0.2602892\ttotal: 190ms\tremaining: 1.04s\n"
     ]
    },
    {
     "name": "stdout",
     "output_type": "stream",
     "text": [
      "154:\tlearn: 0.2596060\ttotal: 191ms\tremaining: 1.04s\n",
      "155:\tlearn: 0.2584935\ttotal: 192ms\tremaining: 1.04s\n",
      "156:\tlearn: 0.2577611\ttotal: 194ms\tremaining: 1.04s\n",
      "157:\tlearn: 0.2569662\ttotal: 194ms\tremaining: 1.03s\n",
      "158:\tlearn: 0.2561088\ttotal: 195ms\tremaining: 1.03s\n",
      "159:\tlearn: 0.2553178\ttotal: 196ms\tremaining: 1.03s\n",
      "160:\tlearn: 0.2546344\ttotal: 197ms\tremaining: 1.03s\n",
      "161:\tlearn: 0.2537106\ttotal: 198ms\tremaining: 1.02s\n",
      "162:\tlearn: 0.2533362\ttotal: 199ms\tremaining: 1.02s\n",
      "163:\tlearn: 0.2526486\ttotal: 199ms\tremaining: 1.01s\n",
      "164:\tlearn: 0.2518107\ttotal: 200ms\tremaining: 1.01s\n",
      "165:\tlearn: 0.2511699\ttotal: 201ms\tremaining: 1.01s\n",
      "166:\tlearn: 0.2504840\ttotal: 202ms\tremaining: 1s\n",
      "167:\tlearn: 0.2495950\ttotal: 202ms\tremaining: 1s\n",
      "168:\tlearn: 0.2490258\ttotal: 203ms\tremaining: 999ms\n",
      "169:\tlearn: 0.2484724\ttotal: 204ms\tremaining: 996ms\n",
      "170:\tlearn: 0.2479303\ttotal: 205ms\tremaining: 993ms\n",
      "171:\tlearn: 0.2473597\ttotal: 206ms\tremaining: 991ms\n",
      "172:\tlearn: 0.2466214\ttotal: 207ms\tremaining: 987ms\n",
      "173:\tlearn: 0.2458973\ttotal: 207ms\tremaining: 985ms\n",
      "174:\tlearn: 0.2454909\ttotal: 208ms\tremaining: 982ms\n",
      "175:\tlearn: 0.2447319\ttotal: 209ms\tremaining: 979ms\n",
      "176:\tlearn: 0.2439870\ttotal: 210ms\tremaining: 977ms\n",
      "177:\tlearn: 0.2432480\ttotal: 211ms\tremaining: 974ms\n",
      "178:\tlearn: 0.2427935\ttotal: 212ms\tremaining: 971ms\n",
      "179:\tlearn: 0.2420413\ttotal: 213ms\tremaining: 971ms\n",
      "180:\tlearn: 0.2411257\ttotal: 214ms\tremaining: 968ms\n",
      "181:\tlearn: 0.2405050\ttotal: 215ms\tremaining: 968ms\n",
      "182:\tlearn: 0.2399201\ttotal: 216ms\tremaining: 965ms\n",
      "183:\tlearn: 0.2392588\ttotal: 217ms\tremaining: 962ms\n",
      "184:\tlearn: 0.2385587\ttotal: 218ms\tremaining: 959ms\n",
      "185:\tlearn: 0.2379671\ttotal: 218ms\tremaining: 956ms\n",
      "186:\tlearn: 0.2374483\ttotal: 219ms\tremaining: 953ms\n",
      "187:\tlearn: 0.2368623\ttotal: 220ms\tremaining: 950ms\n",
      "188:\tlearn: 0.2364917\ttotal: 221ms\tremaining: 947ms\n",
      "189:\tlearn: 0.2359330\ttotal: 222ms\tremaining: 945ms\n",
      "190:\tlearn: 0.2353678\ttotal: 223ms\tremaining: 942ms\n",
      "191:\tlearn: 0.2347989\ttotal: 223ms\tremaining: 940ms\n",
      "192:\tlearn: 0.2340627\ttotal: 224ms\tremaining: 937ms\n",
      "193:\tlearn: 0.2332294\ttotal: 225ms\tremaining: 934ms\n",
      "194:\tlearn: 0.2323168\ttotal: 226ms\tremaining: 932ms\n",
      "195:\tlearn: 0.2318656\ttotal: 226ms\tremaining: 929ms\n",
      "196:\tlearn: 0.2309549\ttotal: 227ms\tremaining: 926ms\n",
      "197:\tlearn: 0.2303850\ttotal: 228ms\tremaining: 923ms\n",
      "198:\tlearn: 0.2295523\ttotal: 229ms\tremaining: 921ms\n",
      "199:\tlearn: 0.2290096\ttotal: 230ms\tremaining: 918ms\n",
      "200:\tlearn: 0.2282287\ttotal: 230ms\tremaining: 916ms\n",
      "201:\tlearn: 0.2276735\ttotal: 231ms\tremaining: 914ms\n",
      "202:\tlearn: 0.2268990\ttotal: 232ms\tremaining: 912ms\n",
      "203:\tlearn: 0.2263256\ttotal: 233ms\tremaining: 909ms\n",
      "204:\tlearn: 0.2259695\ttotal: 234ms\tremaining: 906ms\n",
      "205:\tlearn: 0.2254811\ttotal: 235ms\tremaining: 904ms\n",
      "206:\tlearn: 0.2251015\ttotal: 235ms\tremaining: 902ms\n",
      "207:\tlearn: 0.2244981\ttotal: 236ms\tremaining: 899ms\n",
      "208:\tlearn: 0.2238486\ttotal: 237ms\tremaining: 897ms\n",
      "209:\tlearn: 0.2233570\ttotal: 238ms\tremaining: 894ms\n",
      "210:\tlearn: 0.2228740\ttotal: 239ms\tremaining: 892ms\n",
      "211:\tlearn: 0.2223524\ttotal: 239ms\tremaining: 890ms\n",
      "212:\tlearn: 0.2215579\ttotal: 240ms\tremaining: 887ms\n",
      "213:\tlearn: 0.2208708\ttotal: 241ms\tremaining: 885ms\n",
      "214:\tlearn: 0.2200591\ttotal: 242ms\tremaining: 883ms\n",
      "215:\tlearn: 0.2193036\ttotal: 243ms\tremaining: 881ms\n",
      "216:\tlearn: 0.2189197\ttotal: 243ms\tremaining: 878ms\n",
      "217:\tlearn: 0.2184995\ttotal: 244ms\tremaining: 876ms\n",
      "218:\tlearn: 0.2179766\ttotal: 245ms\tremaining: 874ms\n",
      "219:\tlearn: 0.2175881\ttotal: 246ms\tremaining: 872ms\n",
      "220:\tlearn: 0.2170459\ttotal: 247ms\tremaining: 870ms\n",
      "221:\tlearn: 0.2166994\ttotal: 248ms\tremaining: 868ms\n",
      "222:\tlearn: 0.2161022\ttotal: 249ms\tremaining: 866ms\n",
      "223:\tlearn: 0.2156849\ttotal: 249ms\tremaining: 863ms\n",
      "224:\tlearn: 0.2151226\ttotal: 250ms\tremaining: 862ms\n",
      "225:\tlearn: 0.2147239\ttotal: 251ms\tremaining: 860ms\n",
      "226:\tlearn: 0.2143436\ttotal: 252ms\tremaining: 857ms\n",
      "227:\tlearn: 0.2138601\ttotal: 253ms\tremaining: 855ms\n",
      "228:\tlearn: 0.2134129\ttotal: 254ms\tremaining: 854ms\n",
      "229:\tlearn: 0.2128870\ttotal: 254ms\tremaining: 852ms\n",
      "230:\tlearn: 0.2124816\ttotal: 255ms\tremaining: 849ms\n",
      "231:\tlearn: 0.2120130\ttotal: 256ms\tremaining: 847ms\n",
      "232:\tlearn: 0.2113086\ttotal: 257ms\tremaining: 845ms\n",
      "233:\tlearn: 0.2107072\ttotal: 258ms\tremaining: 844ms\n",
      "234:\tlearn: 0.2104037\ttotal: 259ms\tremaining: 842ms\n",
      "235:\tlearn: 0.2098888\ttotal: 259ms\tremaining: 840ms\n",
      "236:\tlearn: 0.2094505\ttotal: 260ms\tremaining: 838ms\n",
      "237:\tlearn: 0.2089459\ttotal: 261ms\tremaining: 836ms\n",
      "238:\tlearn: 0.2082103\ttotal: 262ms\tremaining: 833ms\n",
      "239:\tlearn: 0.2078401\ttotal: 263ms\tremaining: 831ms\n",
      "240:\tlearn: 0.2076248\ttotal: 263ms\tremaining: 829ms\n",
      "241:\tlearn: 0.2072445\ttotal: 264ms\tremaining: 827ms\n",
      "242:\tlearn: 0.2068299\ttotal: 265ms\tremaining: 825ms\n",
      "243:\tlearn: 0.2065053\ttotal: 266ms\tremaining: 823ms\n",
      "244:\tlearn: 0.2061298\ttotal: 267ms\tremaining: 821ms\n",
      "245:\tlearn: 0.2057662\ttotal: 267ms\tremaining: 820ms\n",
      "246:\tlearn: 0.2054975\ttotal: 268ms\tremaining: 818ms\n",
      "247:\tlearn: 0.2052358\ttotal: 269ms\tremaining: 816ms\n",
      "248:\tlearn: 0.2046540\ttotal: 270ms\tremaining: 814ms\n",
      "249:\tlearn: 0.2039981\ttotal: 271ms\tremaining: 813ms\n",
      "250:\tlearn: 0.2031825\ttotal: 272ms\tremaining: 810ms\n",
      "251:\tlearn: 0.2027750\ttotal: 272ms\tremaining: 809ms\n",
      "252:\tlearn: 0.2026386\ttotal: 273ms\tremaining: 807ms\n",
      "253:\tlearn: 0.2020529\ttotal: 274ms\tremaining: 805ms\n",
      "254:\tlearn: 0.2016195\ttotal: 275ms\tremaining: 803ms\n",
      "255:\tlearn: 0.2010961\ttotal: 276ms\tremaining: 801ms\n",
      "256:\tlearn: 0.2008395\ttotal: 277ms\tremaining: 800ms\n",
      "257:\tlearn: 0.2003417\ttotal: 278ms\tremaining: 798ms\n",
      "258:\tlearn: 0.1998422\ttotal: 278ms\tremaining: 797ms\n",
      "259:\tlearn: 0.1996885\ttotal: 279ms\tremaining: 794ms\n",
      "260:\tlearn: 0.1993273\ttotal: 281ms\tremaining: 795ms\n",
      "261:\tlearn: 0.1988297\ttotal: 281ms\tremaining: 793ms\n",
      "262:\tlearn: 0.1984791\ttotal: 282ms\tremaining: 791ms\n",
      "263:\tlearn: 0.1982549\ttotal: 283ms\tremaining: 789ms\n",
      "264:\tlearn: 0.1979666\ttotal: 284ms\tremaining: 787ms\n",
      "265:\tlearn: 0.1974839\ttotal: 285ms\tremaining: 785ms\n",
      "266:\tlearn: 0.1970140\ttotal: 285ms\tremaining: 784ms\n",
      "267:\tlearn: 0.1963936\ttotal: 286ms\tremaining: 782ms\n",
      "268:\tlearn: 0.1960167\ttotal: 287ms\tremaining: 780ms\n",
      "269:\tlearn: 0.1954545\ttotal: 288ms\tremaining: 779ms\n",
      "270:\tlearn: 0.1947956\ttotal: 289ms\tremaining: 777ms\n",
      "271:\tlearn: 0.1941598\ttotal: 290ms\tremaining: 775ms\n",
      "272:\tlearn: 0.1939253\ttotal: 290ms\tremaining: 773ms\n",
      "273:\tlearn: 0.1935275\ttotal: 291ms\tremaining: 772ms\n",
      "274:\tlearn: 0.1928738\ttotal: 292ms\tremaining: 770ms\n",
      "275:\tlearn: 0.1925089\ttotal: 293ms\tremaining: 769ms\n",
      "276:\tlearn: 0.1921156\ttotal: 294ms\tremaining: 767ms\n",
      "277:\tlearn: 0.1916723\ttotal: 295ms\tremaining: 765ms\n",
      "278:\tlearn: 0.1913412\ttotal: 295ms\tremaining: 763ms\n",
      "279:\tlearn: 0.1908331\ttotal: 296ms\tremaining: 762ms\n",
      "280:\tlearn: 0.1904154\ttotal: 297ms\tremaining: 760ms\n",
      "281:\tlearn: 0.1899432\ttotal: 298ms\tremaining: 759ms\n",
      "282:\tlearn: 0.1896912\ttotal: 299ms\tremaining: 757ms\n"
     ]
    },
    {
     "name": "stdout",
     "output_type": "stream",
     "text": [
      "283:\tlearn: 0.1892485\ttotal: 300ms\tremaining: 756ms\n",
      "284:\tlearn: 0.1888027\ttotal: 301ms\tremaining: 755ms\n",
      "285:\tlearn: 0.1883755\ttotal: 302ms\tremaining: 753ms\n",
      "286:\tlearn: 0.1879976\ttotal: 302ms\tremaining: 751ms\n",
      "287:\tlearn: 0.1878645\ttotal: 303ms\tremaining: 750ms\n",
      "288:\tlearn: 0.1875691\ttotal: 304ms\tremaining: 748ms\n",
      "289:\tlearn: 0.1873361\ttotal: 305ms\tremaining: 747ms\n",
      "290:\tlearn: 0.1868119\ttotal: 306ms\tremaining: 745ms\n",
      "291:\tlearn: 0.1865324\ttotal: 307ms\tremaining: 744ms\n",
      "292:\tlearn: 0.1859143\ttotal: 307ms\tremaining: 742ms\n",
      "293:\tlearn: 0.1853664\ttotal: 308ms\tremaining: 740ms\n",
      "294:\tlearn: 0.1849171\ttotal: 309ms\tremaining: 739ms\n",
      "295:\tlearn: 0.1844111\ttotal: 310ms\tremaining: 737ms\n",
      "296:\tlearn: 0.1839920\ttotal: 311ms\tremaining: 736ms\n",
      "297:\tlearn: 0.1837072\ttotal: 312ms\tremaining: 734ms\n",
      "298:\tlearn: 0.1833543\ttotal: 312ms\tremaining: 733ms\n",
      "299:\tlearn: 0.1831850\ttotal: 313ms\tremaining: 731ms\n",
      "300:\tlearn: 0.1827781\ttotal: 314ms\tremaining: 729ms\n",
      "301:\tlearn: 0.1824582\ttotal: 315ms\tremaining: 728ms\n",
      "302:\tlearn: 0.1819118\ttotal: 316ms\tremaining: 726ms\n",
      "303:\tlearn: 0.1817308\ttotal: 317ms\tremaining: 725ms\n",
      "304:\tlearn: 0.1812511\ttotal: 318ms\tremaining: 724ms\n",
      "305:\tlearn: 0.1808711\ttotal: 318ms\tremaining: 722ms\n",
      "306:\tlearn: 0.1804209\ttotal: 319ms\tremaining: 721ms\n",
      "307:\tlearn: 0.1802350\ttotal: 320ms\tremaining: 719ms\n",
      "308:\tlearn: 0.1798476\ttotal: 321ms\tremaining: 718ms\n",
      "309:\tlearn: 0.1796442\ttotal: 322ms\tremaining: 716ms\n",
      "310:\tlearn: 0.1793677\ttotal: 323ms\tremaining: 715ms\n",
      "311:\tlearn: 0.1789263\ttotal: 323ms\tremaining: 713ms\n",
      "312:\tlearn: 0.1785571\ttotal: 324ms\tremaining: 712ms\n",
      "313:\tlearn: 0.1783964\ttotal: 325ms\tremaining: 710ms\n",
      "314:\tlearn: 0.1782736\ttotal: 326ms\tremaining: 709ms\n",
      "315:\tlearn: 0.1779193\ttotal: 327ms\tremaining: 707ms\n",
      "316:\tlearn: 0.1775378\ttotal: 327ms\tremaining: 705ms\n",
      "317:\tlearn: 0.1773489\ttotal: 328ms\tremaining: 704ms\n",
      "318:\tlearn: 0.1769877\ttotal: 329ms\tremaining: 703ms\n",
      "319:\tlearn: 0.1765933\ttotal: 330ms\tremaining: 701ms\n",
      "320:\tlearn: 0.1762783\ttotal: 331ms\tremaining: 699ms\n",
      "321:\tlearn: 0.1760977\ttotal: 331ms\tremaining: 698ms\n",
      "322:\tlearn: 0.1757278\ttotal: 332ms\tremaining: 696ms\n",
      "323:\tlearn: 0.1754041\ttotal: 333ms\tremaining: 695ms\n",
      "324:\tlearn: 0.1751630\ttotal: 334ms\tremaining: 693ms\n",
      "325:\tlearn: 0.1750529\ttotal: 335ms\tremaining: 692ms\n",
      "326:\tlearn: 0.1745927\ttotal: 335ms\tremaining: 690ms\n",
      "327:\tlearn: 0.1742068\ttotal: 336ms\tremaining: 688ms\n",
      "328:\tlearn: 0.1740580\ttotal: 337ms\tremaining: 687ms\n",
      "329:\tlearn: 0.1738782\ttotal: 338ms\tremaining: 686ms\n",
      "330:\tlearn: 0.1734492\ttotal: 339ms\tremaining: 684ms\n",
      "331:\tlearn: 0.1730697\ttotal: 339ms\tremaining: 683ms\n",
      "332:\tlearn: 0.1727009\ttotal: 340ms\tremaining: 681ms\n",
      "333:\tlearn: 0.1723797\ttotal: 341ms\tremaining: 680ms\n",
      "334:\tlearn: 0.1722126\ttotal: 342ms\tremaining: 678ms\n",
      "335:\tlearn: 0.1717322\ttotal: 343ms\tremaining: 677ms\n",
      "336:\tlearn: 0.1713912\ttotal: 344ms\tremaining: 677ms\n",
      "337:\tlearn: 0.1713130\ttotal: 345ms\tremaining: 675ms\n",
      "338:\tlearn: 0.1712313\ttotal: 345ms\tremaining: 674ms\n",
      "339:\tlearn: 0.1709374\ttotal: 347ms\tremaining: 674ms\n",
      "340:\tlearn: 0.1705819\ttotal: 348ms\tremaining: 672ms\n",
      "341:\tlearn: 0.1704418\ttotal: 349ms\tremaining: 671ms\n",
      "342:\tlearn: 0.1699964\ttotal: 349ms\tremaining: 669ms\n",
      "343:\tlearn: 0.1699264\ttotal: 350ms\tremaining: 667ms\n",
      "344:\tlearn: 0.1696253\ttotal: 351ms\tremaining: 666ms\n",
      "345:\tlearn: 0.1691126\ttotal: 352ms\tremaining: 665ms\n",
      "346:\tlearn: 0.1687478\ttotal: 353ms\tremaining: 663ms\n",
      "347:\tlearn: 0.1683769\ttotal: 354ms\tremaining: 662ms\n",
      "348:\tlearn: 0.1679425\ttotal: 354ms\tremaining: 661ms\n",
      "349:\tlearn: 0.1678007\ttotal: 355ms\tremaining: 660ms\n",
      "350:\tlearn: 0.1674125\ttotal: 356ms\tremaining: 659ms\n",
      "351:\tlearn: 0.1673512\ttotal: 357ms\tremaining: 658ms\n",
      "352:\tlearn: 0.1669952\ttotal: 358ms\tremaining: 657ms\n",
      "353:\tlearn: 0.1668633\ttotal: 359ms\tremaining: 655ms\n",
      "354:\tlearn: 0.1666258\ttotal: 360ms\tremaining: 654ms\n",
      "355:\tlearn: 0.1664224\ttotal: 361ms\tremaining: 653ms\n",
      "356:\tlearn: 0.1661824\ttotal: 362ms\tremaining: 652ms\n",
      "357:\tlearn: 0.1658992\ttotal: 363ms\tremaining: 651ms\n",
      "358:\tlearn: 0.1657444\ttotal: 364ms\tremaining: 650ms\n",
      "359:\tlearn: 0.1654030\ttotal: 365ms\tremaining: 649ms\n",
      "360:\tlearn: 0.1650781\ttotal: 366ms\tremaining: 648ms\n",
      "361:\tlearn: 0.1646039\ttotal: 367ms\tremaining: 646ms\n",
      "362:\tlearn: 0.1643212\ttotal: 368ms\tremaining: 645ms\n",
      "363:\tlearn: 0.1641450\ttotal: 369ms\tremaining: 644ms\n",
      "364:\tlearn: 0.1640725\ttotal: 370ms\tremaining: 643ms\n",
      "365:\tlearn: 0.1637404\ttotal: 371ms\tremaining: 642ms\n",
      "366:\tlearn: 0.1634396\ttotal: 372ms\tremaining: 641ms\n",
      "367:\tlearn: 0.1630397\ttotal: 373ms\tremaining: 640ms\n",
      "368:\tlearn: 0.1627007\ttotal: 373ms\tremaining: 638ms\n",
      "369:\tlearn: 0.1624020\ttotal: 374ms\tremaining: 637ms\n",
      "370:\tlearn: 0.1620427\ttotal: 375ms\tremaining: 636ms\n",
      "371:\tlearn: 0.1616081\ttotal: 376ms\tremaining: 635ms\n",
      "372:\tlearn: 0.1612884\ttotal: 377ms\tremaining: 634ms\n",
      "373:\tlearn: 0.1611473\ttotal: 378ms\tremaining: 633ms\n",
      "374:\tlearn: 0.1608168\ttotal: 379ms\tremaining: 632ms\n",
      "375:\tlearn: 0.1605367\ttotal: 380ms\tremaining: 630ms\n",
      "376:\tlearn: 0.1604684\ttotal: 381ms\tremaining: 629ms\n"
     ]
    },
    {
     "name": "stdout",
     "output_type": "stream",
     "text": [
      "377:\tlearn: 0.1601993\ttotal: 381ms\tremaining: 628ms\n",
      "378:\tlearn: 0.1599525\ttotal: 382ms\tremaining: 626ms\n",
      "379:\tlearn: 0.1596355\ttotal: 383ms\tremaining: 625ms\n",
      "380:\tlearn: 0.1592193\ttotal: 384ms\tremaining: 624ms\n",
      "381:\tlearn: 0.1588837\ttotal: 385ms\tremaining: 623ms\n",
      "382:\tlearn: 0.1586063\ttotal: 386ms\tremaining: 621ms\n",
      "383:\tlearn: 0.1585585\ttotal: 387ms\tremaining: 621ms\n",
      "384:\tlearn: 0.1582689\ttotal: 388ms\tremaining: 620ms\n",
      "385:\tlearn: 0.1579246\ttotal: 389ms\tremaining: 619ms\n",
      "386:\tlearn: 0.1576692\ttotal: 390ms\tremaining: 618ms\n",
      "387:\tlearn: 0.1573950\ttotal: 391ms\tremaining: 616ms\n",
      "388:\tlearn: 0.1569769\ttotal: 391ms\tremaining: 615ms\n",
      "389:\tlearn: 0.1567536\ttotal: 392ms\tremaining: 614ms\n",
      "390:\tlearn: 0.1566083\ttotal: 393ms\tremaining: 613ms\n",
      "391:\tlearn: 0.1563166\ttotal: 394ms\tremaining: 611ms\n",
      "392:\tlearn: 0.1560473\ttotal: 395ms\tremaining: 610ms\n",
      "393:\tlearn: 0.1556735\ttotal: 396ms\tremaining: 609ms\n",
      "394:\tlearn: 0.1554125\ttotal: 397ms\tremaining: 607ms\n",
      "395:\tlearn: 0.1553689\ttotal: 397ms\tremaining: 606ms\n",
      "396:\tlearn: 0.1551051\ttotal: 398ms\tremaining: 605ms\n",
      "397:\tlearn: 0.1548415\ttotal: 399ms\tremaining: 604ms\n",
      "398:\tlearn: 0.1546470\ttotal: 400ms\tremaining: 602ms\n",
      "399:\tlearn: 0.1542722\ttotal: 401ms\tremaining: 601ms\n",
      "400:\tlearn: 0.1542143\ttotal: 401ms\tremaining: 600ms\n",
      "401:\tlearn: 0.1538624\ttotal: 402ms\tremaining: 598ms\n",
      "402:\tlearn: 0.1535822\ttotal: 403ms\tremaining: 597ms\n",
      "403:\tlearn: 0.1531905\ttotal: 404ms\tremaining: 596ms\n",
      "404:\tlearn: 0.1529987\ttotal: 405ms\tremaining: 594ms\n",
      "405:\tlearn: 0.1526414\ttotal: 405ms\tremaining: 593ms\n",
      "406:\tlearn: 0.1525545\ttotal: 406ms\tremaining: 592ms\n",
      "407:\tlearn: 0.1524778\ttotal: 407ms\tremaining: 591ms\n",
      "408:\tlearn: 0.1522437\ttotal: 408ms\tremaining: 590ms\n",
      "409:\tlearn: 0.1520078\ttotal: 409ms\tremaining: 588ms\n",
      "410:\tlearn: 0.1518341\ttotal: 410ms\tremaining: 587ms\n",
      "411:\tlearn: 0.1514775\ttotal: 410ms\tremaining: 586ms\n",
      "412:\tlearn: 0.1511578\ttotal: 411ms\tremaining: 584ms\n",
      "413:\tlearn: 0.1511079\ttotal: 412ms\tremaining: 583ms\n",
      "414:\tlearn: 0.1510663\ttotal: 413ms\tremaining: 582ms\n",
      "415:\tlearn: 0.1510213\ttotal: 414ms\tremaining: 581ms\n",
      "416:\tlearn: 0.1507618\ttotal: 415ms\tremaining: 580ms\n",
      "417:\tlearn: 0.1505345\ttotal: 415ms\tremaining: 578ms\n",
      "418:\tlearn: 0.1504161\ttotal: 416ms\tremaining: 577ms\n",
      "419:\tlearn: 0.1503741\ttotal: 418ms\tremaining: 577ms\n",
      "420:\tlearn: 0.1500426\ttotal: 418ms\tremaining: 576ms\n",
      "421:\tlearn: 0.1500097\ttotal: 419ms\tremaining: 574ms\n",
      "422:\tlearn: 0.1496665\ttotal: 420ms\tremaining: 573ms\n",
      "423:\tlearn: 0.1493894\ttotal: 421ms\tremaining: 572ms\n",
      "424:\tlearn: 0.1491276\ttotal: 422ms\tremaining: 570ms\n",
      "425:\tlearn: 0.1488300\ttotal: 422ms\tremaining: 569ms\n",
      "426:\tlearn: 0.1487726\ttotal: 423ms\tremaining: 568ms\n",
      "427:\tlearn: 0.1484627\ttotal: 424ms\tremaining: 567ms\n",
      "428:\tlearn: 0.1481172\ttotal: 425ms\tremaining: 565ms\n",
      "429:\tlearn: 0.1479072\ttotal: 426ms\tremaining: 564ms\n",
      "430:\tlearn: 0.1478620\ttotal: 427ms\tremaining: 564ms\n",
      "431:\tlearn: 0.1474019\ttotal: 428ms\tremaining: 562ms\n",
      "432:\tlearn: 0.1473648\ttotal: 428ms\tremaining: 561ms\n",
      "433:\tlearn: 0.1471560\ttotal: 429ms\tremaining: 560ms\n",
      "434:\tlearn: 0.1471294\ttotal: 430ms\tremaining: 559ms\n",
      "435:\tlearn: 0.1468103\ttotal: 431ms\tremaining: 558ms\n",
      "436:\tlearn: 0.1464370\ttotal: 432ms\tremaining: 556ms\n",
      "437:\tlearn: 0.1461081\ttotal: 433ms\tremaining: 555ms\n",
      "438:\tlearn: 0.1459405\ttotal: 433ms\tremaining: 554ms\n",
      "439:\tlearn: 0.1456001\ttotal: 434ms\tremaining: 553ms\n",
      "440:\tlearn: 0.1453010\ttotal: 435ms\tremaining: 552ms\n",
      "441:\tlearn: 0.1450550\ttotal: 436ms\tremaining: 550ms\n",
      "442:\tlearn: 0.1449836\ttotal: 437ms\tremaining: 549ms\n",
      "443:\tlearn: 0.1449493\ttotal: 438ms\tremaining: 548ms\n",
      "444:\tlearn: 0.1446222\ttotal: 438ms\tremaining: 547ms\n",
      "445:\tlearn: 0.1445897\ttotal: 439ms\tremaining: 546ms\n",
      "446:\tlearn: 0.1445561\ttotal: 440ms\tremaining: 544ms\n",
      "447:\tlearn: 0.1444176\ttotal: 441ms\tremaining: 543ms\n",
      "448:\tlearn: 0.1441891\ttotal: 442ms\tremaining: 542ms\n",
      "449:\tlearn: 0.1439150\ttotal: 442ms\tremaining: 541ms\n",
      "450:\tlearn: 0.1435982\ttotal: 443ms\tremaining: 540ms\n",
      "451:\tlearn: 0.1431458\ttotal: 444ms\tremaining: 538ms\n",
      "452:\tlearn: 0.1429168\ttotal: 445ms\tremaining: 537ms\n",
      "453:\tlearn: 0.1428654\ttotal: 446ms\tremaining: 536ms\n",
      "454:\tlearn: 0.1426431\ttotal: 447ms\tremaining: 535ms\n",
      "455:\tlearn: 0.1423125\ttotal: 447ms\tremaining: 534ms\n",
      "456:\tlearn: 0.1420702\ttotal: 448ms\tremaining: 533ms\n",
      "457:\tlearn: 0.1417946\ttotal: 449ms\tremaining: 531ms\n",
      "458:\tlearn: 0.1416572\ttotal: 450ms\tremaining: 530ms\n",
      "459:\tlearn: 0.1413168\ttotal: 451ms\tremaining: 529ms\n",
      "460:\tlearn: 0.1410107\ttotal: 451ms\tremaining: 528ms\n",
      "461:\tlearn: 0.1409364\ttotal: 452ms\tremaining: 527ms\n",
      "462:\tlearn: 0.1407740\ttotal: 453ms\tremaining: 526ms\n",
      "463:\tlearn: 0.1404755\ttotal: 454ms\tremaining: 524ms\n",
      "464:\tlearn: 0.1404281\ttotal: 455ms\tremaining: 523ms\n",
      "465:\tlearn: 0.1401251\ttotal: 456ms\tremaining: 522ms\n",
      "466:\tlearn: 0.1398267\ttotal: 456ms\tremaining: 521ms\n",
      "467:\tlearn: 0.1395468\ttotal: 457ms\tremaining: 520ms\n",
      "468:\tlearn: 0.1391797\ttotal: 458ms\tremaining: 519ms\n",
      "469:\tlearn: 0.1388797\ttotal: 459ms\tremaining: 517ms\n",
      "470:\tlearn: 0.1387136\ttotal: 460ms\tremaining: 516ms\n",
      "471:\tlearn: 0.1385548\ttotal: 461ms\tremaining: 515ms\n",
      "472:\tlearn: 0.1382604\ttotal: 461ms\tremaining: 514ms\n",
      "473:\tlearn: 0.1380057\ttotal: 462ms\tremaining: 513ms\n",
      "474:\tlearn: 0.1379627\ttotal: 463ms\tremaining: 512ms\n",
      "475:\tlearn: 0.1376674\ttotal: 464ms\tremaining: 511ms\n",
      "476:\tlearn: 0.1376004\ttotal: 465ms\tremaining: 509ms\n",
      "477:\tlearn: 0.1372899\ttotal: 465ms\tremaining: 508ms\n",
      "478:\tlearn: 0.1372675\ttotal: 466ms\tremaining: 507ms\n",
      "479:\tlearn: 0.1369710\ttotal: 467ms\tremaining: 506ms\n",
      "480:\tlearn: 0.1367575\ttotal: 468ms\tremaining: 505ms\n",
      "481:\tlearn: 0.1365583\ttotal: 469ms\tremaining: 504ms\n",
      "482:\tlearn: 0.1363575\ttotal: 470ms\tremaining: 503ms\n",
      "483:\tlearn: 0.1360779\ttotal: 471ms\tremaining: 502ms\n",
      "484:\tlearn: 0.1356852\ttotal: 472ms\tremaining: 501ms\n",
      "485:\tlearn: 0.1354357\ttotal: 472ms\tremaining: 500ms\n",
      "486:\tlearn: 0.1351848\ttotal: 473ms\tremaining: 499ms\n",
      "487:\tlearn: 0.1349104\ttotal: 474ms\tremaining: 497ms\n",
      "488:\tlearn: 0.1346648\ttotal: 475ms\tremaining: 496ms\n",
      "489:\tlearn: 0.1345108\ttotal: 476ms\tremaining: 495ms\n",
      "490:\tlearn: 0.1343055\ttotal: 476ms\tremaining: 494ms\n",
      "491:\tlearn: 0.1339787\ttotal: 477ms\tremaining: 493ms\n",
      "492:\tlearn: 0.1337082\ttotal: 478ms\tremaining: 492ms\n",
      "493:\tlearn: 0.1335205\ttotal: 479ms\tremaining: 491ms\n",
      "494:\tlearn: 0.1334662\ttotal: 480ms\tremaining: 489ms\n",
      "495:\tlearn: 0.1332335\ttotal: 481ms\tremaining: 488ms\n",
      "496:\tlearn: 0.1329799\ttotal: 481ms\tremaining: 487ms\n",
      "497:\tlearn: 0.1329540\ttotal: 482ms\tremaining: 486ms\n",
      "498:\tlearn: 0.1326981\ttotal: 483ms\tremaining: 485ms\n",
      "499:\tlearn: 0.1326582\ttotal: 484ms\tremaining: 484ms\n",
      "500:\tlearn: 0.1322560\ttotal: 485ms\tremaining: 483ms\n",
      "501:\tlearn: 0.1320528\ttotal: 486ms\tremaining: 482ms\n",
      "502:\tlearn: 0.1318969\ttotal: 486ms\tremaining: 481ms\n",
      "503:\tlearn: 0.1318714\ttotal: 487ms\tremaining: 480ms\n",
      "504:\tlearn: 0.1318460\ttotal: 488ms\tremaining: 478ms\n",
      "505:\tlearn: 0.1315815\ttotal: 489ms\tremaining: 477ms\n"
     ]
    },
    {
     "name": "stdout",
     "output_type": "stream",
     "text": [
      "506:\tlearn: 0.1313922\ttotal: 490ms\tremaining: 476ms\n",
      "507:\tlearn: 0.1310872\ttotal: 491ms\tremaining: 475ms\n",
      "508:\tlearn: 0.1307928\ttotal: 492ms\tremaining: 474ms\n",
      "509:\tlearn: 0.1304611\ttotal: 492ms\tremaining: 473ms\n",
      "510:\tlearn: 0.1302441\ttotal: 493ms\tremaining: 472ms\n",
      "511:\tlearn: 0.1300070\ttotal: 494ms\tremaining: 471ms\n",
      "512:\tlearn: 0.1299809\ttotal: 495ms\tremaining: 470ms\n",
      "513:\tlearn: 0.1299551\ttotal: 496ms\tremaining: 469ms\n",
      "514:\tlearn: 0.1297581\ttotal: 496ms\tremaining: 468ms\n",
      "515:\tlearn: 0.1296020\ttotal: 497ms\tremaining: 466ms\n",
      "516:\tlearn: 0.1293771\ttotal: 498ms\tremaining: 465ms\n",
      "517:\tlearn: 0.1291308\ttotal: 499ms\tremaining: 464ms\n",
      "518:\tlearn: 0.1290528\ttotal: 500ms\tremaining: 463ms\n",
      "519:\tlearn: 0.1288755\ttotal: 501ms\tremaining: 462ms\n",
      "520:\tlearn: 0.1288579\ttotal: 501ms\tremaining: 461ms\n",
      "521:\tlearn: 0.1286593\ttotal: 502ms\tremaining: 460ms\n",
      "522:\tlearn: 0.1286183\ttotal: 503ms\tremaining: 459ms\n",
      "523:\tlearn: 0.1283997\ttotal: 504ms\tremaining: 458ms\n",
      "524:\tlearn: 0.1281861\ttotal: 505ms\tremaining: 456ms\n",
      "525:\tlearn: 0.1280169\ttotal: 505ms\tremaining: 455ms\n",
      "526:\tlearn: 0.1277918\ttotal: 506ms\tremaining: 454ms\n",
      "527:\tlearn: 0.1276970\ttotal: 507ms\tremaining: 453ms\n",
      "528:\tlearn: 0.1274333\ttotal: 508ms\tremaining: 452ms\n",
      "529:\tlearn: 0.1273040\ttotal: 509ms\tremaining: 451ms\n",
      "530:\tlearn: 0.1270126\ttotal: 510ms\tremaining: 450ms\n",
      "531:\tlearn: 0.1269346\ttotal: 511ms\tremaining: 449ms\n",
      "532:\tlearn: 0.1266062\ttotal: 512ms\tremaining: 448ms\n",
      "533:\tlearn: 0.1265897\ttotal: 512ms\tremaining: 447ms\n",
      "534:\tlearn: 0.1264139\ttotal: 513ms\tremaining: 446ms\n",
      "535:\tlearn: 0.1262414\ttotal: 514ms\tremaining: 445ms\n",
      "536:\tlearn: 0.1259977\ttotal: 515ms\tremaining: 444ms\n",
      "537:\tlearn: 0.1258065\ttotal: 516ms\tremaining: 443ms\n",
      "538:\tlearn: 0.1255982\ttotal: 516ms\tremaining: 442ms\n",
      "539:\tlearn: 0.1254863\ttotal: 517ms\tremaining: 441ms\n",
      "540:\tlearn: 0.1252654\ttotal: 518ms\tremaining: 440ms\n",
      "541:\tlearn: 0.1252337\ttotal: 519ms\tremaining: 438ms\n",
      "542:\tlearn: 0.1250022\ttotal: 520ms\tremaining: 437ms\n",
      "543:\tlearn: 0.1248127\ttotal: 521ms\tremaining: 436ms\n",
      "544:\tlearn: 0.1246687\ttotal: 521ms\tremaining: 435ms\n",
      "545:\tlearn: 0.1244900\ttotal: 523ms\tremaining: 435ms\n",
      "546:\tlearn: 0.1243498\ttotal: 524ms\tremaining: 434ms\n",
      "547:\tlearn: 0.1242035\ttotal: 524ms\tremaining: 433ms\n",
      "548:\tlearn: 0.1240144\ttotal: 525ms\tremaining: 432ms\n",
      "549:\tlearn: 0.1238045\ttotal: 526ms\tremaining: 431ms\n",
      "550:\tlearn: 0.1236882\ttotal: 527ms\tremaining: 430ms\n",
      "551:\tlearn: 0.1234059\ttotal: 528ms\tremaining: 428ms\n",
      "552:\tlearn: 0.1231164\ttotal: 529ms\tremaining: 427ms\n",
      "553:\tlearn: 0.1229428\ttotal: 529ms\tremaining: 426ms\n",
      "554:\tlearn: 0.1226573\ttotal: 530ms\tremaining: 425ms\n",
      "555:\tlearn: 0.1224590\ttotal: 531ms\tremaining: 424ms\n",
      "556:\tlearn: 0.1224426\ttotal: 532ms\tremaining: 423ms\n",
      "557:\tlearn: 0.1223950\ttotal: 533ms\tremaining: 422ms\n",
      "558:\tlearn: 0.1221935\ttotal: 534ms\tremaining: 421ms\n",
      "559:\tlearn: 0.1219191\ttotal: 534ms\tremaining: 420ms\n",
      "560:\tlearn: 0.1218893\ttotal: 535ms\tremaining: 419ms\n",
      "561:\tlearn: 0.1217127\ttotal: 536ms\tremaining: 418ms\n",
      "562:\tlearn: 0.1216542\ttotal: 537ms\tremaining: 417ms\n",
      "563:\tlearn: 0.1215059\ttotal: 538ms\tremaining: 416ms\n",
      "564:\tlearn: 0.1212666\ttotal: 538ms\tremaining: 414ms\n",
      "565:\tlearn: 0.1212086\ttotal: 539ms\tremaining: 413ms\n",
      "566:\tlearn: 0.1210760\ttotal: 540ms\tremaining: 412ms\n",
      "567:\tlearn: 0.1208446\ttotal: 541ms\tremaining: 411ms\n",
      "568:\tlearn: 0.1206989\ttotal: 542ms\tremaining: 410ms\n",
      "569:\tlearn: 0.1204251\ttotal: 542ms\tremaining: 409ms\n",
      "570:\tlearn: 0.1203941\ttotal: 543ms\tremaining: 408ms\n",
      "571:\tlearn: 0.1201669\ttotal: 544ms\tremaining: 407ms\n",
      "572:\tlearn: 0.1201505\ttotal: 545ms\tremaining: 406ms\n",
      "573:\tlearn: 0.1199889\ttotal: 546ms\tremaining: 405ms\n",
      "574:\tlearn: 0.1198052\ttotal: 547ms\tremaining: 404ms\n",
      "575:\tlearn: 0.1195742\ttotal: 548ms\tremaining: 403ms\n",
      "576:\tlearn: 0.1192777\ttotal: 548ms\tremaining: 402ms\n",
      "577:\tlearn: 0.1190986\ttotal: 549ms\tremaining: 401ms\n",
      "578:\tlearn: 0.1189297\ttotal: 550ms\tremaining: 400ms\n",
      "579:\tlearn: 0.1188135\ttotal: 551ms\tremaining: 399ms\n",
      "580:\tlearn: 0.1185850\ttotal: 552ms\tremaining: 398ms\n",
      "581:\tlearn: 0.1184485\ttotal: 553ms\tremaining: 397ms\n",
      "582:\tlearn: 0.1184222\ttotal: 553ms\tremaining: 396ms\n",
      "583:\tlearn: 0.1183569\ttotal: 554ms\tremaining: 395ms\n",
      "584:\tlearn: 0.1180905\ttotal: 555ms\tremaining: 394ms\n",
      "585:\tlearn: 0.1179494\ttotal: 556ms\tremaining: 393ms\n",
      "586:\tlearn: 0.1177926\ttotal: 557ms\tremaining: 392ms\n",
      "587:\tlearn: 0.1176822\ttotal: 557ms\tremaining: 391ms\n",
      "588:\tlearn: 0.1176646\ttotal: 558ms\tremaining: 390ms\n",
      "589:\tlearn: 0.1173557\ttotal: 559ms\tremaining: 389ms\n",
      "590:\tlearn: 0.1171538\ttotal: 560ms\tremaining: 388ms\n",
      "591:\tlearn: 0.1171367\ttotal: 561ms\tremaining: 387ms\n",
      "592:\tlearn: 0.1169463\ttotal: 562ms\tremaining: 386ms\n",
      "593:\tlearn: 0.1167334\ttotal: 563ms\tremaining: 385ms\n",
      "594:\tlearn: 0.1165939\ttotal: 563ms\tremaining: 383ms\n",
      "595:\tlearn: 0.1163004\ttotal: 564ms\tremaining: 382ms\n",
      "596:\tlearn: 0.1160182\ttotal: 565ms\tremaining: 381ms\n",
      "597:\tlearn: 0.1158512\ttotal: 566ms\tremaining: 380ms\n",
      "598:\tlearn: 0.1156816\ttotal: 567ms\tremaining: 379ms\n",
      "599:\tlearn: 0.1154155\ttotal: 568ms\tremaining: 378ms\n",
      "600:\tlearn: 0.1152459\ttotal: 568ms\tremaining: 377ms\n",
      "601:\tlearn: 0.1150831\ttotal: 569ms\tremaining: 376ms\n",
      "602:\tlearn: 0.1148587\ttotal: 570ms\tremaining: 375ms\n",
      "603:\tlearn: 0.1147206\ttotal: 571ms\tremaining: 374ms\n"
     ]
    },
    {
     "name": "stdout",
     "output_type": "stream",
     "text": [
      "604:\tlearn: 0.1144938\ttotal: 572ms\tremaining: 373ms\n",
      "605:\tlearn: 0.1141923\ttotal: 573ms\tremaining: 373ms\n",
      "606:\tlearn: 0.1140042\ttotal: 574ms\tremaining: 372ms\n",
      "607:\tlearn: 0.1138446\ttotal: 575ms\tremaining: 370ms\n",
      "608:\tlearn: 0.1138283\ttotal: 575ms\tremaining: 369ms\n",
      "609:\tlearn: 0.1136612\ttotal: 576ms\tremaining: 368ms\n",
      "610:\tlearn: 0.1134069\ttotal: 577ms\tremaining: 367ms\n",
      "611:\tlearn: 0.1132398\ttotal: 578ms\tremaining: 366ms\n",
      "612:\tlearn: 0.1130975\ttotal: 579ms\tremaining: 365ms\n",
      "613:\tlearn: 0.1130834\ttotal: 580ms\tremaining: 365ms\n",
      "614:\tlearn: 0.1128803\ttotal: 581ms\tremaining: 364ms\n",
      "615:\tlearn: 0.1126539\ttotal: 582ms\tremaining: 363ms\n",
      "616:\tlearn: 0.1126427\ttotal: 583ms\tremaining: 362ms\n",
      "617:\tlearn: 0.1124496\ttotal: 584ms\tremaining: 361ms\n",
      "618:\tlearn: 0.1122315\ttotal: 585ms\tremaining: 360ms\n",
      "619:\tlearn: 0.1121219\ttotal: 586ms\tremaining: 359ms\n",
      "620:\tlearn: 0.1120273\ttotal: 586ms\tremaining: 358ms\n",
      "621:\tlearn: 0.1118927\ttotal: 587ms\tremaining: 357ms\n",
      "622:\tlearn: 0.1118007\ttotal: 589ms\tremaining: 356ms\n",
      "623:\tlearn: 0.1116390\ttotal: 589ms\tremaining: 355ms\n",
      "624:\tlearn: 0.1116116\ttotal: 590ms\tremaining: 354ms\n",
      "625:\tlearn: 0.1114125\ttotal: 591ms\tremaining: 353ms\n",
      "626:\tlearn: 0.1111697\ttotal: 592ms\tremaining: 352ms\n",
      "627:\tlearn: 0.1110126\ttotal: 593ms\tremaining: 351ms\n",
      "628:\tlearn: 0.1108624\ttotal: 594ms\tremaining: 350ms\n",
      "629:\tlearn: 0.1107398\ttotal: 594ms\tremaining: 349ms\n",
      "630:\tlearn: 0.1106311\ttotal: 595ms\tremaining: 348ms\n",
      "631:\tlearn: 0.1105109\ttotal: 596ms\tremaining: 347ms\n",
      "632:\tlearn: 0.1104985\ttotal: 597ms\tremaining: 346ms\n",
      "633:\tlearn: 0.1103687\ttotal: 598ms\tremaining: 345ms\n",
      "634:\tlearn: 0.1101893\ttotal: 598ms\tremaining: 344ms\n",
      "635:\tlearn: 0.1101762\ttotal: 599ms\tremaining: 343ms\n",
      "636:\tlearn: 0.1100791\ttotal: 600ms\tremaining: 342ms\n",
      "637:\tlearn: 0.1099009\ttotal: 601ms\tremaining: 341ms\n",
      "638:\tlearn: 0.1096461\ttotal: 602ms\tremaining: 340ms\n",
      "639:\tlearn: 0.1094370\ttotal: 602ms\tremaining: 339ms\n",
      "640:\tlearn: 0.1093237\ttotal: 603ms\tremaining: 338ms\n",
      "641:\tlearn: 0.1091657\ttotal: 604ms\tremaining: 337ms\n",
      "642:\tlearn: 0.1090549\ttotal: 605ms\tremaining: 336ms\n",
      "643:\tlearn: 0.1090397\ttotal: 606ms\tremaining: 335ms\n",
      "644:\tlearn: 0.1088995\ttotal: 606ms\tremaining: 334ms\n",
      "645:\tlearn: 0.1087113\ttotal: 607ms\tremaining: 333ms\n",
      "646:\tlearn: 0.1084707\ttotal: 608ms\tremaining: 332ms\n",
      "647:\tlearn: 0.1084086\ttotal: 609ms\tremaining: 331ms\n",
      "648:\tlearn: 0.1081871\ttotal: 610ms\tremaining: 330ms\n",
      "649:\tlearn: 0.1081751\ttotal: 610ms\tremaining: 329ms\n",
      "650:\tlearn: 0.1080720\ttotal: 611ms\tremaining: 328ms\n",
      "651:\tlearn: 0.1080533\ttotal: 612ms\tremaining: 327ms\n",
      "652:\tlearn: 0.1079677\ttotal: 613ms\tremaining: 326ms\n",
      "653:\tlearn: 0.1077261\ttotal: 614ms\tremaining: 325ms\n",
      "654:\tlearn: 0.1074835\ttotal: 615ms\tremaining: 324ms\n",
      "655:\tlearn: 0.1073355\ttotal: 616ms\tremaining: 323ms\n",
      "656:\tlearn: 0.1073231\ttotal: 616ms\tremaining: 322ms\n",
      "657:\tlearn: 0.1072052\ttotal: 617ms\tremaining: 321ms\n",
      "658:\tlearn: 0.1071030\ttotal: 618ms\tremaining: 320ms\n",
      "659:\tlearn: 0.1069721\ttotal: 619ms\tremaining: 319ms\n",
      "660:\tlearn: 0.1068126\ttotal: 620ms\tremaining: 318ms\n",
      "661:\tlearn: 0.1066707\ttotal: 621ms\tremaining: 317ms\n",
      "662:\tlearn: 0.1066613\ttotal: 621ms\tremaining: 316ms\n",
      "663:\tlearn: 0.1065190\ttotal: 622ms\tremaining: 315ms\n",
      "664:\tlearn: 0.1063901\ttotal: 623ms\tremaining: 314ms\n",
      "665:\tlearn: 0.1061433\ttotal: 624ms\tremaining: 313ms\n",
      "666:\tlearn: 0.1060081\ttotal: 625ms\tremaining: 312ms\n",
      "667:\tlearn: 0.1059706\ttotal: 626ms\tremaining: 311ms\n",
      "668:\tlearn: 0.1057457\ttotal: 626ms\tremaining: 310ms\n",
      "669:\tlearn: 0.1056027\ttotal: 627ms\tremaining: 309ms\n",
      "670:\tlearn: 0.1054014\ttotal: 628ms\tremaining: 308ms\n",
      "671:\tlearn: 0.1052402\ttotal: 629ms\tremaining: 307ms\n",
      "672:\tlearn: 0.1051454\ttotal: 630ms\tremaining: 306ms\n",
      "673:\tlearn: 0.1050191\ttotal: 630ms\tremaining: 305ms\n",
      "674:\tlearn: 0.1047784\ttotal: 631ms\tremaining: 304ms\n",
      "675:\tlearn: 0.1046028\ttotal: 632ms\tremaining: 303ms\n",
      "676:\tlearn: 0.1044625\ttotal: 633ms\tremaining: 302ms\n",
      "677:\tlearn: 0.1044418\ttotal: 634ms\tremaining: 301ms\n",
      "678:\tlearn: 0.1043923\ttotal: 635ms\tremaining: 300ms\n",
      "679:\tlearn: 0.1042080\ttotal: 636ms\tremaining: 299ms\n",
      "680:\tlearn: 0.1039475\ttotal: 636ms\tremaining: 298ms\n",
      "681:\tlearn: 0.1038361\ttotal: 637ms\tremaining: 297ms\n",
      "682:\tlearn: 0.1037273\ttotal: 638ms\tremaining: 296ms\n",
      "683:\tlearn: 0.1035845\ttotal: 639ms\tremaining: 295ms\n",
      "684:\tlearn: 0.1034632\ttotal: 640ms\tremaining: 294ms\n",
      "685:\tlearn: 0.1034508\ttotal: 641ms\tremaining: 293ms\n",
      "686:\tlearn: 0.1031621\ttotal: 641ms\tremaining: 292ms\n",
      "687:\tlearn: 0.1031154\ttotal: 642ms\tremaining: 291ms\n",
      "688:\tlearn: 0.1030068\ttotal: 643ms\tremaining: 290ms\n",
      "689:\tlearn: 0.1027912\ttotal: 644ms\tremaining: 289ms\n",
      "690:\tlearn: 0.1027723\ttotal: 645ms\tremaining: 288ms\n",
      "691:\tlearn: 0.1025822\ttotal: 646ms\tremaining: 287ms\n",
      "692:\tlearn: 0.1024522\ttotal: 647ms\tremaining: 286ms\n",
      "693:\tlearn: 0.1022220\ttotal: 647ms\tremaining: 285ms\n",
      "694:\tlearn: 0.1021216\ttotal: 648ms\tremaining: 284ms\n",
      "695:\tlearn: 0.1018770\ttotal: 649ms\tremaining: 283ms\n",
      "696:\tlearn: 0.1016671\ttotal: 650ms\tremaining: 283ms\n",
      "697:\tlearn: 0.1014909\ttotal: 651ms\tremaining: 282ms\n",
      "698:\tlearn: 0.1012662\ttotal: 652ms\tremaining: 281ms\n",
      "699:\tlearn: 0.1010897\ttotal: 653ms\tremaining: 280ms\n",
      "700:\tlearn: 0.1008252\ttotal: 653ms\tremaining: 279ms\n",
      "701:\tlearn: 0.1006221\ttotal: 654ms\tremaining: 278ms\n",
      "702:\tlearn: 0.1004487\ttotal: 655ms\tremaining: 277ms\n",
      "703:\tlearn: 0.1003023\ttotal: 656ms\tremaining: 276ms\n",
      "704:\tlearn: 0.1001097\ttotal: 658ms\tremaining: 275ms\n",
      "705:\tlearn: 0.0999247\ttotal: 659ms\tremaining: 274ms\n",
      "706:\tlearn: 0.0998771\ttotal: 660ms\tremaining: 273ms\n",
      "707:\tlearn: 0.0997253\ttotal: 661ms\tremaining: 273ms\n",
      "708:\tlearn: 0.0995326\ttotal: 662ms\tremaining: 272ms\n",
      "709:\tlearn: 0.0994403\ttotal: 663ms\tremaining: 271ms\n",
      "710:\tlearn: 0.0992766\ttotal: 663ms\tremaining: 270ms\n",
      "711:\tlearn: 0.0991381\ttotal: 664ms\tremaining: 269ms\n",
      "712:\tlearn: 0.0989798\ttotal: 665ms\tremaining: 268ms\n",
      "713:\tlearn: 0.0987307\ttotal: 666ms\tremaining: 267ms\n",
      "714:\tlearn: 0.0985533\ttotal: 667ms\tremaining: 266ms\n",
      "715:\tlearn: 0.0984375\ttotal: 668ms\tremaining: 265ms\n",
      "716:\tlearn: 0.0983161\ttotal: 668ms\tremaining: 264ms\n",
      "717:\tlearn: 0.0982410\ttotal: 669ms\tremaining: 263ms\n",
      "718:\tlearn: 0.0981368\ttotal: 670ms\tremaining: 262ms\n",
      "719:\tlearn: 0.0979084\ttotal: 671ms\tremaining: 261ms\n",
      "720:\tlearn: 0.0977944\ttotal: 672ms\tremaining: 260ms\n",
      "721:\tlearn: 0.0975588\ttotal: 672ms\tremaining: 259ms\n",
      "722:\tlearn: 0.0974777\ttotal: 673ms\tremaining: 258ms\n",
      "723:\tlearn: 0.0973638\ttotal: 674ms\tremaining: 257ms\n",
      "724:\tlearn: 0.0971128\ttotal: 675ms\tremaining: 256ms\n",
      "725:\tlearn: 0.0969325\ttotal: 676ms\tremaining: 255ms\n",
      "726:\tlearn: 0.0967118\ttotal: 677ms\tremaining: 254ms\n",
      "727:\tlearn: 0.0965715\ttotal: 677ms\tremaining: 253ms\n",
      "728:\tlearn: 0.0964374\ttotal: 678ms\tremaining: 252ms\n",
      "729:\tlearn: 0.0962801\ttotal: 679ms\tremaining: 251ms\n",
      "730:\tlearn: 0.0961936\ttotal: 680ms\tremaining: 250ms\n"
     ]
    },
    {
     "name": "stdout",
     "output_type": "stream",
     "text": [
      "731:\tlearn: 0.0959378\ttotal: 680ms\tremaining: 249ms\n",
      "732:\tlearn: 0.0959200\ttotal: 682ms\tremaining: 248ms\n",
      "733:\tlearn: 0.0956332\ttotal: 682ms\tremaining: 247ms\n",
      "734:\tlearn: 0.0953857\ttotal: 683ms\tremaining: 246ms\n",
      "735:\tlearn: 0.0952295\ttotal: 684ms\tremaining: 245ms\n",
      "736:\tlearn: 0.0951031\ttotal: 685ms\tremaining: 244ms\n",
      "737:\tlearn: 0.0949528\ttotal: 686ms\tremaining: 243ms\n",
      "738:\tlearn: 0.0948296\ttotal: 686ms\tremaining: 242ms\n",
      "739:\tlearn: 0.0947061\ttotal: 687ms\tremaining: 241ms\n",
      "740:\tlearn: 0.0946153\ttotal: 688ms\tremaining: 240ms\n",
      "741:\tlearn: 0.0944568\ttotal: 689ms\tremaining: 239ms\n",
      "742:\tlearn: 0.0943082\ttotal: 689ms\tremaining: 238ms\n",
      "743:\tlearn: 0.0941566\ttotal: 690ms\tremaining: 238ms\n",
      "744:\tlearn: 0.0941122\ttotal: 691ms\tremaining: 237ms\n",
      "745:\tlearn: 0.0940249\ttotal: 692ms\tremaining: 236ms\n",
      "746:\tlearn: 0.0938542\ttotal: 693ms\tremaining: 235ms\n",
      "747:\tlearn: 0.0937596\ttotal: 694ms\tremaining: 234ms\n",
      "748:\tlearn: 0.0935473\ttotal: 695ms\tremaining: 233ms\n",
      "749:\tlearn: 0.0934652\ttotal: 695ms\tremaining: 232ms\n",
      "750:\tlearn: 0.0934297\ttotal: 696ms\tremaining: 231ms\n",
      "751:\tlearn: 0.0932804\ttotal: 697ms\tremaining: 230ms\n",
      "752:\tlearn: 0.0932724\ttotal: 698ms\tremaining: 229ms\n",
      "753:\tlearn: 0.0930964\ttotal: 699ms\tremaining: 228ms\n",
      "754:\tlearn: 0.0929046\ttotal: 700ms\tremaining: 227ms\n",
      "755:\tlearn: 0.0928894\ttotal: 701ms\tremaining: 226ms\n",
      "756:\tlearn: 0.0927410\ttotal: 702ms\tremaining: 225ms\n",
      "757:\tlearn: 0.0925726\ttotal: 702ms\tremaining: 224ms\n",
      "758:\tlearn: 0.0924673\ttotal: 703ms\tremaining: 223ms\n",
      "759:\tlearn: 0.0924516\ttotal: 704ms\tremaining: 222ms\n",
      "760:\tlearn: 0.0924436\ttotal: 705ms\tremaining: 221ms\n",
      "761:\tlearn: 0.0923815\ttotal: 706ms\tremaining: 220ms\n",
      "762:\tlearn: 0.0922291\ttotal: 706ms\tremaining: 219ms\n",
      "763:\tlearn: 0.0920667\ttotal: 708ms\tremaining: 219ms\n",
      "764:\tlearn: 0.0919778\ttotal: 709ms\tremaining: 218ms\n",
      "765:\tlearn: 0.0918425\ttotal: 710ms\tremaining: 217ms\n",
      "766:\tlearn: 0.0916749\ttotal: 710ms\tremaining: 216ms\n",
      "767:\tlearn: 0.0915108\ttotal: 711ms\tremaining: 215ms\n",
      "768:\tlearn: 0.0914124\ttotal: 712ms\tremaining: 214ms\n",
      "769:\tlearn: 0.0913517\ttotal: 713ms\tremaining: 213ms\n",
      "770:\tlearn: 0.0912838\ttotal: 714ms\tremaining: 212ms\n",
      "771:\tlearn: 0.0911035\ttotal: 715ms\tremaining: 211ms\n",
      "772:\tlearn: 0.0910087\ttotal: 715ms\tremaining: 210ms\n",
      "773:\tlearn: 0.0908002\ttotal: 716ms\tremaining: 209ms\n",
      "774:\tlearn: 0.0906455\ttotal: 717ms\tremaining: 208ms\n",
      "775:\tlearn: 0.0906357\ttotal: 718ms\tremaining: 207ms\n",
      "776:\tlearn: 0.0904343\ttotal: 719ms\tremaining: 206ms\n",
      "777:\tlearn: 0.0903731\ttotal: 719ms\tremaining: 205ms\n",
      "778:\tlearn: 0.0902380\ttotal: 720ms\tremaining: 204ms\n",
      "779:\tlearn: 0.0900433\ttotal: 721ms\tremaining: 203ms\n",
      "780:\tlearn: 0.0899685\ttotal: 722ms\tremaining: 202ms\n",
      "781:\tlearn: 0.0898340\ttotal: 723ms\tremaining: 201ms\n",
      "782:\tlearn: 0.0896716\ttotal: 724ms\tremaining: 201ms\n",
      "783:\tlearn: 0.0896074\ttotal: 724ms\tremaining: 200ms\n",
      "784:\tlearn: 0.0894792\ttotal: 725ms\tremaining: 199ms\n",
      "785:\tlearn: 0.0894533\ttotal: 726ms\tremaining: 198ms\n",
      "786:\tlearn: 0.0893378\ttotal: 727ms\tremaining: 197ms\n",
      "787:\tlearn: 0.0892669\ttotal: 728ms\tremaining: 196ms\n",
      "788:\tlearn: 0.0891644\ttotal: 729ms\tremaining: 195ms\n",
      "789:\tlearn: 0.0890534\ttotal: 730ms\tremaining: 194ms\n",
      "790:\tlearn: 0.0889357\ttotal: 730ms\tremaining: 193ms\n",
      "791:\tlearn: 0.0888119\ttotal: 731ms\tremaining: 192ms\n",
      "792:\tlearn: 0.0886876\ttotal: 732ms\tremaining: 191ms\n",
      "793:\tlearn: 0.0885830\ttotal: 733ms\tremaining: 190ms\n",
      "794:\tlearn: 0.0884308\ttotal: 734ms\tremaining: 189ms\n",
      "795:\tlearn: 0.0882865\ttotal: 735ms\tremaining: 188ms\n",
      "796:\tlearn: 0.0882086\ttotal: 735ms\tremaining: 187ms\n",
      "797:\tlearn: 0.0881865\ttotal: 736ms\tremaining: 186ms\n",
      "798:\tlearn: 0.0880014\ttotal: 737ms\tremaining: 185ms\n",
      "799:\tlearn: 0.0879067\ttotal: 738ms\tremaining: 185ms\n",
      "800:\tlearn: 0.0877994\ttotal: 739ms\tremaining: 184ms\n",
      "801:\tlearn: 0.0876924\ttotal: 740ms\tremaining: 183ms\n",
      "802:\tlearn: 0.0875711\ttotal: 740ms\tremaining: 182ms\n",
      "803:\tlearn: 0.0873819\ttotal: 741ms\tremaining: 181ms\n",
      "804:\tlearn: 0.0872303\ttotal: 742ms\tremaining: 180ms\n",
      "805:\tlearn: 0.0870717\ttotal: 743ms\tremaining: 179ms\n",
      "806:\tlearn: 0.0869124\ttotal: 744ms\tremaining: 178ms\n",
      "807:\tlearn: 0.0868150\ttotal: 744ms\tremaining: 177ms\n",
      "808:\tlearn: 0.0866212\ttotal: 745ms\tremaining: 176ms\n",
      "809:\tlearn: 0.0864826\ttotal: 746ms\tremaining: 175ms\n",
      "810:\tlearn: 0.0864249\ttotal: 747ms\tremaining: 174ms\n",
      "811:\tlearn: 0.0862990\ttotal: 748ms\tremaining: 173ms\n",
      "812:\tlearn: 0.0861437\ttotal: 749ms\tremaining: 172ms\n",
      "813:\tlearn: 0.0861069\ttotal: 750ms\tremaining: 171ms\n",
      "814:\tlearn: 0.0860692\ttotal: 751ms\tremaining: 171ms\n",
      "815:\tlearn: 0.0859781\ttotal: 752ms\tremaining: 170ms\n",
      "816:\tlearn: 0.0858977\ttotal: 754ms\tremaining: 169ms\n",
      "817:\tlearn: 0.0857159\ttotal: 754ms\tremaining: 168ms\n",
      "818:\tlearn: 0.0856598\ttotal: 755ms\tremaining: 167ms\n",
      "819:\tlearn: 0.0855654\ttotal: 756ms\tremaining: 166ms\n",
      "820:\tlearn: 0.0853913\ttotal: 757ms\tremaining: 165ms\n",
      "821:\tlearn: 0.0852476\ttotal: 758ms\tremaining: 164ms\n",
      "822:\tlearn: 0.0851038\ttotal: 759ms\tremaining: 163ms\n",
      "823:\tlearn: 0.0850485\ttotal: 759ms\tremaining: 162ms\n",
      "824:\tlearn: 0.0848899\ttotal: 760ms\tremaining: 161ms\n",
      "825:\tlearn: 0.0848393\ttotal: 761ms\tremaining: 160ms\n",
      "826:\tlearn: 0.0847712\ttotal: 762ms\tremaining: 159ms\n"
     ]
    },
    {
     "name": "stdout",
     "output_type": "stream",
     "text": [
      "827:\tlearn: 0.0846588\ttotal: 763ms\tremaining: 158ms\n",
      "828:\tlearn: 0.0845846\ttotal: 764ms\tremaining: 158ms\n",
      "829:\tlearn: 0.0843852\ttotal: 765ms\tremaining: 157ms\n",
      "830:\tlearn: 0.0843782\ttotal: 766ms\tremaining: 156ms\n",
      "831:\tlearn: 0.0842594\ttotal: 766ms\tremaining: 155ms\n",
      "832:\tlearn: 0.0840979\ttotal: 767ms\tremaining: 154ms\n",
      "833:\tlearn: 0.0839096\ttotal: 768ms\tremaining: 153ms\n",
      "834:\tlearn: 0.0837696\ttotal: 769ms\tremaining: 152ms\n",
      "835:\tlearn: 0.0836090\ttotal: 770ms\tremaining: 151ms\n",
      "836:\tlearn: 0.0835274\ttotal: 771ms\tremaining: 150ms\n",
      "837:\tlearn: 0.0834163\ttotal: 771ms\tremaining: 149ms\n",
      "838:\tlearn: 0.0833929\ttotal: 772ms\tremaining: 148ms\n",
      "839:\tlearn: 0.0833193\ttotal: 773ms\tremaining: 147ms\n",
      "840:\tlearn: 0.0833061\ttotal: 774ms\tremaining: 146ms\n",
      "841:\tlearn: 0.0832030\ttotal: 775ms\tremaining: 145ms\n",
      "842:\tlearn: 0.0831250\ttotal: 775ms\tremaining: 144ms\n",
      "843:\tlearn: 0.0830135\ttotal: 776ms\tremaining: 143ms\n",
      "844:\tlearn: 0.0828627\ttotal: 777ms\tremaining: 143ms\n",
      "845:\tlearn: 0.0826954\ttotal: 778ms\tremaining: 142ms\n",
      "846:\tlearn: 0.0825288\ttotal: 779ms\tremaining: 141ms\n",
      "847:\tlearn: 0.0824798\ttotal: 780ms\tremaining: 140ms\n",
      "848:\tlearn: 0.0823824\ttotal: 781ms\tremaining: 139ms\n",
      "849:\tlearn: 0.0822147\ttotal: 781ms\tremaining: 138ms\n",
      "850:\tlearn: 0.0820221\ttotal: 782ms\tremaining: 137ms\n",
      "851:\tlearn: 0.0819408\ttotal: 783ms\tremaining: 136ms\n",
      "852:\tlearn: 0.0818552\ttotal: 784ms\tremaining: 135ms\n",
      "853:\tlearn: 0.0817723\ttotal: 785ms\tremaining: 134ms\n",
      "854:\tlearn: 0.0816903\ttotal: 786ms\tremaining: 133ms\n",
      "855:\tlearn: 0.0815931\ttotal: 787ms\tremaining: 132ms\n",
      "856:\tlearn: 0.0814915\ttotal: 787ms\tremaining: 131ms\n",
      "857:\tlearn: 0.0813534\ttotal: 788ms\tremaining: 130ms\n",
      "858:\tlearn: 0.0812703\ttotal: 789ms\tremaining: 130ms\n",
      "859:\tlearn: 0.0811747\ttotal: 790ms\tremaining: 129ms\n",
      "860:\tlearn: 0.0811034\ttotal: 791ms\tremaining: 128ms\n",
      "861:\tlearn: 0.0810002\ttotal: 792ms\tremaining: 127ms\n",
      "862:\tlearn: 0.0809873\ttotal: 792ms\tremaining: 126ms\n",
      "863:\tlearn: 0.0808940\ttotal: 793ms\tremaining: 125ms\n",
      "864:\tlearn: 0.0807533\ttotal: 794ms\tremaining: 124ms\n",
      "865:\tlearn: 0.0806584\ttotal: 795ms\tremaining: 123ms\n",
      "866:\tlearn: 0.0805213\ttotal: 796ms\tremaining: 122ms\n",
      "867:\tlearn: 0.0804101\ttotal: 796ms\tremaining: 121ms\n",
      "868:\tlearn: 0.0802708\ttotal: 797ms\tremaining: 120ms\n",
      "869:\tlearn: 0.0801047\ttotal: 798ms\tremaining: 119ms\n",
      "870:\tlearn: 0.0799707\ttotal: 799ms\tremaining: 118ms\n",
      "871:\tlearn: 0.0799486\ttotal: 800ms\tremaining: 117ms\n",
      "872:\tlearn: 0.0797875\ttotal: 800ms\tremaining: 116ms\n",
      "873:\tlearn: 0.0797232\ttotal: 802ms\tremaining: 116ms\n",
      "874:\tlearn: 0.0796247\ttotal: 803ms\tremaining: 115ms\n",
      "875:\tlearn: 0.0795189\ttotal: 804ms\tremaining: 114ms\n",
      "876:\tlearn: 0.0794130\ttotal: 804ms\tremaining: 113ms\n",
      "877:\tlearn: 0.0792581\ttotal: 805ms\tremaining: 112ms\n",
      "878:\tlearn: 0.0791581\ttotal: 806ms\tremaining: 111ms\n",
      "879:\tlearn: 0.0791356\ttotal: 807ms\tremaining: 110ms\n",
      "880:\tlearn: 0.0790389\ttotal: 808ms\tremaining: 109ms\n",
      "881:\tlearn: 0.0788868\ttotal: 809ms\tremaining: 108ms\n",
      "882:\tlearn: 0.0788410\ttotal: 809ms\tremaining: 107ms\n",
      "883:\tlearn: 0.0787382\ttotal: 810ms\tremaining: 106ms\n",
      "884:\tlearn: 0.0786367\ttotal: 811ms\tremaining: 105ms\n",
      "885:\tlearn: 0.0784720\ttotal: 812ms\tremaining: 104ms\n",
      "886:\tlearn: 0.0783367\ttotal: 813ms\tremaining: 104ms\n",
      "887:\tlearn: 0.0782753\ttotal: 813ms\tremaining: 103ms\n",
      "888:\tlearn: 0.0781582\ttotal: 814ms\tremaining: 102ms\n",
      "889:\tlearn: 0.0781074\ttotal: 815ms\tremaining: 101ms\n",
      "890:\tlearn: 0.0779970\ttotal: 816ms\tremaining: 99.8ms\n",
      "891:\tlearn: 0.0778775\ttotal: 817ms\tremaining: 98.9ms\n",
      "892:\tlearn: 0.0778128\ttotal: 817ms\tremaining: 97.9ms\n",
      "893:\tlearn: 0.0777328\ttotal: 818ms\tremaining: 97ms\n",
      "894:\tlearn: 0.0776463\ttotal: 819ms\tremaining: 96.1ms\n",
      "895:\tlearn: 0.0775016\ttotal: 820ms\tremaining: 95.1ms\n",
      "896:\tlearn: 0.0773082\ttotal: 821ms\tremaining: 94.2ms\n",
      "897:\tlearn: 0.0771644\ttotal: 821ms\tremaining: 93.3ms\n",
      "898:\tlearn: 0.0770324\ttotal: 822ms\tremaining: 92.4ms\n",
      "899:\tlearn: 0.0769037\ttotal: 823ms\tremaining: 91.4ms\n",
      "900:\tlearn: 0.0767747\ttotal: 824ms\tremaining: 90.5ms\n",
      "901:\tlearn: 0.0766627\ttotal: 825ms\tremaining: 89.6ms\n",
      "902:\tlearn: 0.0765101\ttotal: 825ms\tremaining: 88.7ms\n",
      "903:\tlearn: 0.0764274\ttotal: 826ms\tremaining: 87.7ms\n",
      "904:\tlearn: 0.0762914\ttotal: 827ms\tremaining: 86.8ms\n",
      "905:\tlearn: 0.0761866\ttotal: 828ms\tremaining: 85.9ms\n",
      "906:\tlearn: 0.0760177\ttotal: 829ms\tremaining: 85ms\n",
      "907:\tlearn: 0.0758532\ttotal: 830ms\tremaining: 84.1ms\n",
      "908:\tlearn: 0.0757121\ttotal: 831ms\tremaining: 83.1ms\n",
      "909:\tlearn: 0.0756321\ttotal: 831ms\tremaining: 82.2ms\n",
      "910:\tlearn: 0.0754859\ttotal: 832ms\tremaining: 81.3ms\n",
      "911:\tlearn: 0.0753698\ttotal: 833ms\tremaining: 80.4ms\n",
      "912:\tlearn: 0.0752687\ttotal: 834ms\tremaining: 79.5ms\n",
      "913:\tlearn: 0.0751183\ttotal: 835ms\tremaining: 78.5ms\n",
      "914:\tlearn: 0.0749884\ttotal: 836ms\tremaining: 77.6ms\n",
      "915:\tlearn: 0.0748796\ttotal: 836ms\tremaining: 76.7ms\n",
      "916:\tlearn: 0.0747385\ttotal: 837ms\tremaining: 75.8ms\n",
      "917:\tlearn: 0.0746798\ttotal: 838ms\tremaining: 74.9ms\n",
      "918:\tlearn: 0.0746599\ttotal: 839ms\tremaining: 73.9ms\n",
      "919:\tlearn: 0.0745390\ttotal: 840ms\tremaining: 73ms\n",
      "920:\tlearn: 0.0743563\ttotal: 840ms\tremaining: 72.1ms\n",
      "921:\tlearn: 0.0743126\ttotal: 841ms\tremaining: 71.2ms\n",
      "922:\tlearn: 0.0741626\ttotal: 842ms\tremaining: 70.2ms\n",
      "923:\tlearn: 0.0740883\ttotal: 843ms\tremaining: 69.3ms\n",
      "924:\tlearn: 0.0739968\ttotal: 844ms\tremaining: 68.4ms\n",
      "925:\tlearn: 0.0738574\ttotal: 844ms\tremaining: 67.5ms\n",
      "926:\tlearn: 0.0737586\ttotal: 845ms\tremaining: 66.6ms\n",
      "927:\tlearn: 0.0736750\ttotal: 846ms\tremaining: 65.6ms\n",
      "928:\tlearn: 0.0736230\ttotal: 847ms\tremaining: 64.7ms\n",
      "929:\tlearn: 0.0735737\ttotal: 848ms\tremaining: 63.8ms\n",
      "930:\tlearn: 0.0734944\ttotal: 849ms\tremaining: 62.9ms\n",
      "931:\tlearn: 0.0733904\ttotal: 850ms\tremaining: 62ms\n",
      "932:\tlearn: 0.0733002\ttotal: 851ms\tremaining: 61.1ms\n",
      "933:\tlearn: 0.0732715\ttotal: 852ms\tremaining: 60.2ms\n",
      "934:\tlearn: 0.0731733\ttotal: 852ms\tremaining: 59.3ms\n",
      "935:\tlearn: 0.0730529\ttotal: 853ms\tremaining: 58.3ms\n",
      "936:\tlearn: 0.0730401\ttotal: 854ms\tremaining: 57.4ms\n",
      "937:\tlearn: 0.0729062\ttotal: 855ms\tremaining: 56.5ms\n",
      "938:\tlearn: 0.0728288\ttotal: 856ms\tremaining: 55.6ms\n",
      "939:\tlearn: 0.0727074\ttotal: 857ms\tremaining: 54.7ms\n",
      "940:\tlearn: 0.0725762\ttotal: 857ms\tremaining: 53.8ms\n",
      "941:\tlearn: 0.0724644\ttotal: 858ms\tremaining: 52.8ms\n",
      "942:\tlearn: 0.0724107\ttotal: 859ms\tremaining: 51.9ms\n",
      "943:\tlearn: 0.0723231\ttotal: 860ms\tremaining: 51ms\n",
      "944:\tlearn: 0.0721568\ttotal: 861ms\tremaining: 50.1ms\n",
      "945:\tlearn: 0.0720165\ttotal: 861ms\tremaining: 49.2ms\n",
      "946:\tlearn: 0.0719235\ttotal: 862ms\tremaining: 48.3ms\n",
      "947:\tlearn: 0.0719188\ttotal: 863ms\tremaining: 47.3ms\n",
      "948:\tlearn: 0.0717574\ttotal: 864ms\tremaining: 46.4ms\n",
      "949:\tlearn: 0.0716729\ttotal: 865ms\tremaining: 45.5ms\n",
      "950:\tlearn: 0.0715713\ttotal: 865ms\tremaining: 44.6ms\n",
      "951:\tlearn: 0.0715179\ttotal: 866ms\tremaining: 43.7ms\n",
      "952:\tlearn: 0.0714357\ttotal: 867ms\tremaining: 42.8ms\n",
      "953:\tlearn: 0.0713386\ttotal: 868ms\tremaining: 41.9ms\n",
      "954:\tlearn: 0.0712824\ttotal: 869ms\tremaining: 40.9ms\n",
      "955:\tlearn: 0.0712723\ttotal: 870ms\tremaining: 40ms\n",
      "956:\tlearn: 0.0712005\ttotal: 870ms\tremaining: 39.1ms\n"
     ]
    },
    {
     "name": "stdout",
     "output_type": "stream",
     "text": [
      "957:\tlearn: 0.0710905\ttotal: 871ms\tremaining: 38.2ms\n",
      "958:\tlearn: 0.0708941\ttotal: 872ms\tremaining: 37.3ms\n",
      "959:\tlearn: 0.0708029\ttotal: 873ms\tremaining: 36.4ms\n",
      "960:\tlearn: 0.0707148\ttotal: 874ms\tremaining: 35.5ms\n",
      "961:\tlearn: 0.0705614\ttotal: 875ms\tremaining: 34.5ms\n",
      "962:\tlearn: 0.0704498\ttotal: 875ms\tremaining: 33.6ms\n",
      "963:\tlearn: 0.0703928\ttotal: 876ms\tremaining: 32.7ms\n",
      "964:\tlearn: 0.0702729\ttotal: 877ms\tremaining: 31.8ms\n",
      "965:\tlearn: 0.0701779\ttotal: 878ms\tremaining: 30.9ms\n",
      "966:\tlearn: 0.0701194\ttotal: 879ms\tremaining: 30ms\n",
      "967:\tlearn: 0.0699857\ttotal: 880ms\tremaining: 29.1ms\n",
      "968:\tlearn: 0.0698829\ttotal: 880ms\tremaining: 28.2ms\n",
      "969:\tlearn: 0.0697441\ttotal: 881ms\tremaining: 27.3ms\n",
      "970:\tlearn: 0.0696638\ttotal: 882ms\tremaining: 26.3ms\n",
      "971:\tlearn: 0.0696024\ttotal: 883ms\tremaining: 25.4ms\n",
      "972:\tlearn: 0.0695323\ttotal: 884ms\tremaining: 24.5ms\n",
      "973:\tlearn: 0.0694505\ttotal: 884ms\tremaining: 23.6ms\n",
      "974:\tlearn: 0.0693455\ttotal: 885ms\tremaining: 22.7ms\n",
      "975:\tlearn: 0.0692315\ttotal: 886ms\tremaining: 21.8ms\n",
      "976:\tlearn: 0.0691508\ttotal: 887ms\tremaining: 20.9ms\n",
      "977:\tlearn: 0.0690676\ttotal: 888ms\tremaining: 20ms\n",
      "978:\tlearn: 0.0689439\ttotal: 889ms\tremaining: 19.1ms\n",
      "979:\tlearn: 0.0688594\ttotal: 890ms\tremaining: 18.2ms\n",
      "980:\tlearn: 0.0687746\ttotal: 891ms\tremaining: 17.3ms\n",
      "981:\tlearn: 0.0686861\ttotal: 892ms\tremaining: 16.3ms\n",
      "982:\tlearn: 0.0685588\ttotal: 893ms\tremaining: 15.4ms\n",
      "983:\tlearn: 0.0684931\ttotal: 894ms\tremaining: 14.5ms\n",
      "984:\tlearn: 0.0683832\ttotal: 895ms\tremaining: 13.6ms\n",
      "985:\tlearn: 0.0683471\ttotal: 896ms\tremaining: 12.7ms\n",
      "986:\tlearn: 0.0682691\ttotal: 896ms\tremaining: 11.8ms\n",
      "987:\tlearn: 0.0681127\ttotal: 897ms\tremaining: 10.9ms\n",
      "988:\tlearn: 0.0679803\ttotal: 898ms\tremaining: 9.99ms\n",
      "989:\tlearn: 0.0678491\ttotal: 899ms\tremaining: 9.08ms\n",
      "990:\tlearn: 0.0678058\ttotal: 899ms\tremaining: 8.17ms\n",
      "991:\tlearn: 0.0676954\ttotal: 900ms\tremaining: 7.26ms\n",
      "992:\tlearn: 0.0676756\ttotal: 901ms\tremaining: 6.35ms\n",
      "993:\tlearn: 0.0675322\ttotal: 902ms\tremaining: 5.44ms\n",
      "994:\tlearn: 0.0674207\ttotal: 903ms\tremaining: 4.54ms\n",
      "995:\tlearn: 0.0673662\ttotal: 904ms\tremaining: 3.63ms\n",
      "996:\tlearn: 0.0672171\ttotal: 904ms\tremaining: 2.72ms\n",
      "997:\tlearn: 0.0670901\ttotal: 905ms\tremaining: 1.81ms\n",
      "998:\tlearn: 0.0670155\ttotal: 906ms\tremaining: 906us\n",
      "999:\tlearn: 0.0669626\ttotal: 907ms\tremaining: 0us\n"
     ]
    },
    {
     "data": {
      "text/plain": [
       "<catboost.core.CatBoostRegressor at 0x7f9efb39ff40>"
      ]
     },
     "execution_count": 9,
     "metadata": {},
     "output_type": "execute_result"
    }
   ],
   "source": [
    "#Train the Model \n",
    "prior_model = ctb.CatBoostRegressor()\n",
    "prior_model.fit(X_train,Y_train)"
   ]
  },
  {
   "cell_type": "code",
   "execution_count": 10,
   "id": "af65dcda",
   "metadata": {
    "execution": {
     "iopub.execute_input": "2022-03-11T10:28:36.556768Z",
     "iopub.status.busy": "2022-03-11T10:28:36.556309Z",
     "iopub.status.idle": "2022-03-11T10:28:36.563873Z",
     "shell.execute_reply": "2022-03-11T10:28:36.564170Z"
    },
    "id": "af65dcda",
    "papermill": {
     "duration": 0.020719,
     "end_time": "2022-03-11T10:28:36.564289",
     "exception": false,
     "start_time": "2022-03-11T10:28:36.543570",
     "status": "completed"
    },
    "tags": []
   },
   "outputs": [
    {
     "data": {
      "application/scrapbook.scrap.json+json": {
       "data": 0.07172353283351492,
       "encoder": "json",
       "name": "Prior Model MSE",
       "version": 1
      }
     },
     "metadata": {
      "scrapbook": {
       "data": true,
       "display": false,
       "name": "Prior Model MSE"
      }
     },
     "output_type": "display_data"
    },
    {
     "data": {
      "application/scrapbook.scrap.json+json": {
       "data": 0.9411351729289023,
       "encoder": "json",
       "name": "ABC Pre-generator MSE",
       "version": 1
      }
     },
     "metadata": {
      "scrapbook": {
       "data": true,
       "display": false,
       "name": "ABC Pre-generator MSE"
      }
     },
     "output_type": "display_data"
    },
    {
     "data": {
      "application/scrapbook.scrap.json+json": {
       "data": 0.18425074224591442,
       "encoder": "json",
       "name": "Prior Model MAE",
       "version": 1
      }
     },
     "metadata": {
      "scrapbook": {
       "data": true,
       "display": false,
       "name": "Prior Model MAE"
      }
     },
     "output_type": "display_data"
    },
    {
     "data": {
      "application/scrapbook.scrap.json+json": {
       "data": 0.7936405529504903,
       "encoder": "json",
       "name": "ABC Pre-generator MAE",
       "version": 1
      }
     },
     "metadata": {
      "scrapbook": {
       "data": true,
       "display": false,
       "name": "ABC Pre-generator MAE"
      }
     },
     "output_type": "display_data"
    }
   ],
   "source": [
    "y_pred = prior_model.predict(X_test)\n",
    "y_abc = y_pred + np.random.normal(0,variance, y_pred.shape)\n",
    "mse = mean_squared_error(y_pred,Y_test)\n",
    "sb.glue(\"Prior Model MSE\",mse)\n",
    "mse = mean_squared_error(y_abc,Y_test)\n",
    "sb.glue(\"ABC Pre-generator MSE\",mse)\n",
    "\n",
    "mae = mean_absolute_error(y_pred,Y_test)\n",
    "sb.glue(\"Prior Model MAE\",mae)\n",
    "mae = mean_absolute_error(y_abc,Y_test)\n",
    "sb.glue(\"ABC Pre-generator MAE\",mae)"
   ]
  },
  {
   "cell_type": "markdown",
   "id": "25609da2",
   "metadata": {
    "papermill": {
     "duration": 0.009732,
     "end_time": "2022-03-11T10:28:36.584129",
     "exception": false,
     "start_time": "2022-03-11T10:28:36.574397",
     "status": "completed"
    },
    "tags": []
   },
   "source": [
    "# ABC GAN Model"
   ]
  },
  {
   "cell_type": "code",
   "execution_count": 11,
   "id": "dfc3464d",
   "metadata": {
    "execution": {
     "iopub.execute_input": "2022-03-11T10:28:36.606540Z",
     "iopub.status.busy": "2022-03-11T10:28:36.606175Z",
     "iopub.status.idle": "2022-03-11T10:28:36.608510Z",
     "shell.execute_reply": "2022-03-11T10:28:36.608748Z"
    },
    "papermill": {
     "duration": 0.01505,
     "end_time": "2022-03-11T10:28:36.608855",
     "exception": false,
     "start_time": "2022-03-11T10:28:36.593805",
     "status": "completed"
    },
    "tags": []
   },
   "outputs": [],
   "source": [
    "gen = network.Generator(n_features+1).to(device)\n",
    "disc = network.Discriminator(n_features+1).to(device)\n",
    "\n",
    "criterion = torch.nn.BCELoss()\n",
    "gen_opt = torch.optim.Adam(gen.parameters(), lr=0.001, betas=(0.5, 0.999))\n",
    "disc_opt = torch.optim.Adam(disc.parameters(), lr=0.001, betas=(0.5, 0.999))"
   ]
  },
  {
   "cell_type": "code",
   "execution_count": 12,
   "id": "b75fdd85",
   "metadata": {
    "execution": {
     "iopub.execute_input": "2022-03-11T10:28:36.630668Z",
     "iopub.status.busy": "2022-03-11T10:28:36.630302Z",
     "iopub.status.idle": "2022-03-11T10:29:12.712747Z",
     "shell.execute_reply": "2022-03-11T10:29:12.713055Z"
    },
    "papermill": {
     "duration": 36.094555,
     "end_time": "2022-03-11T10:29:12.713178",
     "exception": false,
     "start_time": "2022-03-11T10:28:36.618623",
     "status": "completed"
    },
    "tags": []
   },
   "outputs": [
    {
     "data": {
      "image/png": "[encoded data removed]",
      "text/plain": [
       "<Figure size 432x288 with 1 Axes>"
      ]
     },
     "metadata": {
      "needs_background": "light"
     },
     "output_type": "display_data"
    },
    {
     "data": {
      "image/png": "[encoded data removed]",
      "text/plain": [
       "<Figure size 432x288 with 1 Axes>"
      ]
     },
     "metadata": {
      "needs_background": "light"
     },
     "output_type": "display_data"
    }
   ],
   "source": [
    "#Training the ABC_GAN \n",
    "ABC_train_test2.training_GAN(disc,gen,disc_opt,gen_opt,train_data,batch_size,n_epochs,criterion,prior_model,variance,0,device)"
   ]
  },
  {
   "cell_type": "code",
   "execution_count": 13,
   "id": "1fa7c368",
   "metadata": {
    "execution": {
     "iopub.execute_input": "2022-03-11T10:29:12.737215Z",
     "iopub.status.busy": "2022-03-11T10:29:12.736820Z",
     "iopub.status.idle": "2022-03-11T10:29:13.037704Z",
     "shell.execute_reply": "2022-03-11T10:29:13.038017Z"
    },
    "papermill": {
     "duration": 0.314198,
     "end_time": "2022-03-11T10:29:13.038142",
     "exception": false,
     "start_time": "2022-03-11T10:29:12.723944",
     "status": "completed"
    },
    "tags": []
   },
   "outputs": [
    {
     "data": {
      "application/scrapbook.scrap.json+json": {
       "data": 0.09554505586186354,
       "encoder": "json",
       "name": "ABC-GAN Model 1 MSE",
       "version": 1
      }
     },
     "metadata": {
      "scrapbook": {
       "data": true,
       "display": false,
       "name": "ABC-GAN Model 1 MSE"
      }
     },
     "output_type": "display_data"
    },
    {
     "data": {
      "application/scrapbook.scrap.json+json": {
       "data": 0.2140535365063332,
       "encoder": "json",
       "name": "ABC-GAN Model 1 MAE",
       "version": 1
      }
     },
     "metadata": {
      "scrapbook": {
       "data": true,
       "display": false,
       "name": "ABC-GAN Model 1 MAE"
      }
     },
     "output_type": "display_data"
    },
    {
     "data": {
      "application/scrapbook.scrap.json+json": {
       "data": 21.833460723645985,
       "encoder": "json",
       "name": "ABC-GAN Model 1 Manhattan Distance",
       "version": 1
      }
     },
     "metadata": {
      "scrapbook": {
       "data": true,
       "display": false,
       "name": "ABC-GAN Model 1 Manhattan Distance"
      }
     },
     "output_type": "display_data"
    },
    {
     "data": {
      "application/scrapbook.scrap.json+json": {
       "data": 3.1217231888123194,
       "encoder": "json",
       "name": "ABC-GAN Model 1 Euclidean distance",
       "version": 1
      }
     },
     "metadata": {
      "scrapbook": {
       "data": true,
       "display": false,
       "name": "ABC-GAN Model 1 Euclidean distance"
      }
     },
     "output_type": "display_data"
    },
    {
     "data": {
      "application/scrapbook.scrap.json+json": {
       "data": [
        [
         0.09346782607611293,
         0.09602720421479793,
         0.09553898597436006,
         0.09695776376841177,
         0.09255660146890139,
         0.09623708837852277,
         0.09524522182671752,
         0.095952214623704,
         0.09568708228008987,
         0.0952461783997803,
         0.09292333656471115,
         0.09464760498716862,
         0.09619252612630948,
         0.09590353771266658,
         0.09410855870124539,
         0.09430290588119283,
         0.09605916089871834,
         0.09586214319571681,
         0.09720857400914278,
         0.09571267652621533,
         0.09738586345268505,
         0.09721605742993074,
         0.09363027875741985,
         0.09510641109932444,
         0.09523841879212258,
         0.0957985092748767,
         0.09748570130827808,
         0.09449184730170251,
         0.09707519392416908,
         0.0975374765056662,
         0.0941870947268704,
         0.09688983342351822,
         0.09383698322082754,
         0.09569815532705034,
         0.09595953364544596,
         0.09492420003600395,
         0.09574806570242603,
         0.09594524148740483,
         0.09566639740787301,
         0.09611913629181512,
         0.09555598021040752,
         0.09352204185071887,
         0.09632428195012228,
         0.09586086605983038,
         0.09697573129969705,
         0.09497185739626726,
         0.09519843965696279,
         0.09682942928966627,
         0.09541204239512649,
         0.09616609707600349,
         0.09303674856281395,
         0.09545878347285018,
         0.09445649640197679,
         0.0948655074497755,
         0.09562829968600818,
         0.09442327774325975,
         0.09555997503393787,
         0.0969622114953337,
         0.09362536024608599,
         0.09449236130705307,
         0.09400508908964526,
         0.09848450764941928,
         0.09659895303361482,
         0.09915442353991037,
         0.0968819265409146,
         0.09576104259664979,
         0.094298232251466,
         0.09888296911652075,
         0.09347619979853479,
         0.09549066257634341,
         0.09549311032260484,
         0.09470767816575007,
         0.09605245240815256,
         0.09522274984800512,
         0.09422923929261831,
         0.094151767607684,
         0.09700689141855369,
         0.09571481681053705,
         0.09264849218220776,
         0.09517752990278254,
         0.0954880400824761,
         0.09675377828853016,
         0.09660183489800829,
         0.09582681166154242,
         0.09596436289778378,
         0.09682112591593522,
         0.09485957702575201,
         0.09417991978819092,
         0.09437993597515164,
         0.09559229548053441,
         0.09577920095180001,
         0.09454442427203727,
         0.09610973397815935,
         0.09661610568129685,
         0.09470184367733547,
         0.09670833165295598,
         0.09714330877157036,
         0.09404278405805389,
         0.09494029980262973,
         0.09690975786090093
        ],
        [
         0.2098243573917916,
         0.215906482253808,
         0.2152043151413547,
         0.2144786984221462,
         0.20968411197228468,
         0.21429096782287838,
         0.21401430380658484,
         0.21449719317366972,
         0.21489126687212026,
         0.21321097300296613,
         0.21065731024296552,
         0.21208981299480678,
         0.21570875881897175,
         0.21360946964362965,
         0.2121420113972443,
         0.21365102094725943,
         0.2138064731478545,
         0.21652241357072605,
         0.21639927095897935,
         0.2144905755241566,
         0.21738850704266452,
         0.21692089706330614,
         0.21363691685209965,
         0.21342533635998182,
         0.21396306682122396,
         0.21475209966849754,
         0.2168875489950034,
         0.21127725311317572,
         0.2162543639595456,
         0.21704267841015085,
         0.21160365077758245,
         0.2158666646710652,
         0.2105702992218236,
         0.2150558930018223,
         0.21509323260911248,
         0.21402043059431747,
         0.21410952982328393,
         0.2160485615387705,
         0.2132684140575721,
         0.21508629823687905,
         0.21489198753318073,
         0.20994316332736143,
         0.21574588038721212,
         0.2156173561188374,
         0.2157432560297642,
         0.2114422630938683,
         0.2136390986304511,
         0.21543640489050864,
         0.21605400206959424,
         0.21549108477455436,
         0.21000421798660182,
         0.21498471585230208,
         0.2120063267556914,
         0.21542151585476949,
         0.2142579504288733,
         0.21363809623518118,
         0.21259977287777207,
         0.2149986108929357,
         0.20975127143274044,
         0.21178757529888376,
         0.2108915480237235,
         0.22083488273817828,
         0.21517727340516798,
         0.21867192732900673,
         0.21532930549708942,
         0.21548401015609794,
         0.21053943300035363,
         0.21945736074235803,
         0.21030429983511567,
         0.2140068287559438,
         0.2132747277672238,
         0.2121544935302261,
         0.21406158153880753,
         0.2140215619868946,
         0.21111576097524343,
         0.21386117910893232,
         0.21746393986155882,
         0.21537771579060777,
         0.20866869359879808,
         0.21346558666075854,
         0.21344841818562618,
         0.21661715332747383,
         0.21509186542757294,
         0.21373372553281633,
         0.21360891632845297,
         0.21630800514500223,
         0.20910295565594353,
         0.21234471065120078,
         0.2126176078146433,
         0.2147822858418758,
         0.21474277139550038,
         0.21364754620099477,
         0.21309258663734676,
         0.2140314920768872,
         0.2123473567029863,
         0.21535780820447734,
         0.21834611168642545,
         0.21232108873150804,
         0.21289075990481413,
         0.21595239448452405
        ],
        [
         21.402084453962743,
         22.022461189888418,
         21.95084014441818,
         21.876827239058912,
         21.387779421173036,
         21.857678717933595,
         21.829458988271654,
         21.87871370371431,
         21.918909220956266,
         21.747519246302545,
         21.487045644782484,
         21.633160925470293,
         22.00229339953512,
         21.788165903650224,
         21.63848516251892,
         21.792404136620462,
         21.80826026108116,
         22.085286184214056,
         22.072725637815893,
         21.87803870346397,
         22.17362771835178,
         22.125931500457227,
         21.790965518914163,
         21.769384308718145,
         21.824232815764844,
         21.90471416618675,
         22.122529997490346,
         21.550279817543924,
         22.05794512387365,
         22.138353197835386,
         21.58357237931341,
         22.018399796448648,
         21.47817052062601,
         21.935701086185873,
         21.939509726129472,
         21.830083920620382,
         21.83917204197496,
         22.03695327695459,
         21.753378233872354,
         21.938802420161664,
         21.918982728384435,
         21.414202659390867,
         22.006079799495637,
         21.992970324121416,
         22.00581211503595,
         21.567110835574567,
         21.791188060306013,
         21.97451329883188,
         22.03750821109861,
         21.980090647004545,
         21.420430234633386,
         21.928441016934812,
         21.624645329080522,
         21.972994617186487,
         21.854310943745077,
         21.79108581598848,
         21.68517683353275,
         21.929858311079443,
         21.394629686139524,
         21.602332680486143,
         21.510937898419797,
         22.525158039294183,
         21.948081887327135,
         22.304536587558687,
         21.963589160703123,
         21.97936903592199,
         21.47502216603607,
         22.384650795720518,
         21.4510385831818,
         21.828696533106267,
         21.75402223225683,
         21.639758340083063,
         21.834281316958368,
         21.830199322663248,
         21.53380761947483,
         21.813840269111097,
         22.181321865879,
         21.968527010641992,
         21.284206747077405,
         21.77348983939737,
         21.77173865493387,
         22.09494963940233,
         21.93937027361244,
         21.800840004347265,
         21.788109465502203,
         22.063416524790227,
         21.32850147690624,
         21.65916048642248,
         21.686995997093618,
         21.90779315587133,
         21.90376268234104,
         21.792049712501466,
         21.73544383700937,
         21.831212191842496,
         21.659430383704603,
         21.966496436856687,
         22.271303392015398,
         21.65675105061382,
         21.71485751029104,
         22.027144237421453
        ],
        [
         3.087671980596954,
         3.12966049754752,
         3.121694502891774,
         3.144788053967707,
         3.0725841485349004,
         3.133078839513828,
         3.116891500569949,
         3.128438251207431,
         3.1241130569441893,
         3.1169071524152887,
         3.0786653487510685,
         3.107097634238614,
         3.1323533748419194,
         3.1276446164313474,
         3.098237077359806,
         3.1014345712720863,
         3.1301812106760316,
         3.1269695562897812,
         3.1488528941397953,
         3.124530845690911,
         3.1517230322751826,
         3.148974096091127,
         3.090354095125156,
         3.1146193880041095,
         3.116780184228028,
         3.1259315325255317,
         3.15333815716684,
         3.104539969910784,
         3.1466918788253233,
         3.1541754237166253,
         3.0995295872342914,
         3.143686213539585,
         3.0937634506413714,
         3.124293815145933,
         3.128557564091715,
         3.1116343621435343,
         3.1251084303824483,
         3.1283245726291398,
         3.123775365739836,
         3.1311582364622095,
         3.1219721301545227,
         3.0885673489132985,
         3.1344978479674332,
         3.1269487264908418,
         3.1450794254786474,
         3.1124153730534196,
         3.1161259353579087,
         3.142706124909862,
         3.1196199006133587,
         3.1319230357325756,
         3.080543515908681,
         3.1203839369908817,
         3.103959186748696,
         3.110672236008979,
         3.123153305230602,
         3.103413335315245,
         3.122037388222899,
         3.1448601833029133,
         3.0902729240474485,
         3.104548413750285,
         3.0965333983575585,
         3.1694510219028094,
         3.138963715850935,
         3.1802124459021375,
         3.1435579376199327,
         3.1253201987729637,
         3.101357717137694,
         3.175856238856714,
         3.0878102887727,
         3.1209049301103398,
         3.1209449294894154,
         3.1080835209026323,
         3.1300719074218666,
         3.116523782116305,
         3.100222960989591,
         3.098948256422454,
         3.145584671359599,
         3.124565780180468,
         3.074109009548163,
         3.1157836975765534,
         3.120862074557695,
         3.1414782166091926,
         3.139010538306115,
         3.126393255730527,
         3.128636286878668,
         3.14257137443613,
         3.1105750041795655,
         3.0994115277574013,
         3.102700995820491,
         3.1225653138108265,
         3.125616498722068,
         3.1054035608512787,
         3.1310050887490193,
         3.1392423894137704,
         3.1079877823260853,
         3.1407403312915743,
         3.1477956564396257,
         3.097154173418155,
         3.1118982277491383,
         3.1440094309355833
        ]
       ],
       "encoder": "json",
       "name": "ABC_GAN_1 Metrics",
       "version": 1
      }
     },
     "metadata": {
      "scrapbook": {
       "data": true,
       "display": false,
       "name": "ABC_GAN_1 Metrics"
      }
     },
     "output_type": "display_data"
    },
    {
     "name": "stdout",
     "output_type": "stream",
     "text": [
      "MSE\n",
      "0.09554505586186354\n"
     ]
    }
   ],
   "source": [
    "ABC_GAN1_metrics=ABC_train_test2.test_generator(gen,test_data,prior_model,variance,0,\"1\",device)\n",
    "sb.glue(\"ABC_GAN_1 Metrics\",ABC_GAN1_metrics)\n",
    "\n",
    "print(\"MSE\")\n",
    "print(mean(ABC_GAN1_metrics[0]))"
   ]
  },
  {
   "cell_type": "code",
   "execution_count": 14,
   "id": "eb22ce5c",
   "metadata": {
    "execution": {
     "iopub.execute_input": "2022-03-11T10:29:13.065342Z",
     "iopub.status.busy": "2022-03-11T10:29:13.064977Z",
     "iopub.status.idle": "2022-03-11T10:29:13.369521Z",
     "shell.execute_reply": "2022-03-11T10:29:13.369830Z"
    },
    "papermill": {
     "duration": 0.319175,
     "end_time": "2022-03-11T10:29:13.369955",
     "exception": false,
     "start_time": "2022-03-11T10:29:13.050780",
     "status": "completed"
    },
    "tags": []
   },
   "outputs": [
    {
     "data": {
      "image/png": "[encoded data removed]",
      "text/plain": [
       "<Figure size 432x288 with 1 Axes>"
      ]
     },
     "metadata": {
      "needs_background": "light"
     },
     "output_type": "display_data"
    },
    {
     "data": {
      "image/png": "[encoded data removed]",
      "text/plain": [
       "<Figure size 432x288 with 1 Axes>"
      ]
     },
     "metadata": {
      "needs_background": "light"
     },
     "output_type": "display_data"
    },
    {
     "data": {
      "image/png": "[encoded data removed]",
      "text/plain": [
       "<Figure size 432x288 with 1 Axes>"
      ]
     },
     "metadata": {
      "needs_background": "light"
     },
     "output_type": "display_data"
    },
    {
     "data": {
      "image/png": "[encoded data removed]",
      "text/plain": [
       "<Figure size 432x288 with 1 Axes>"
      ]
     },
     "metadata": {
      "needs_background": "light"
     },
     "output_type": "display_data"
    }
   ],
   "source": [
    "sanityChecks.discProbVsError(train_data,disc,device)\n",
    "sanityChecks.discProbVsError(test_data,disc,device)"
   ]
  },
  {
   "cell_type": "markdown",
   "id": "130f3a4d",
   "metadata": {
    "id": "130f3a4d",
    "papermill": {
     "duration": 0.014372,
     "end_time": "2022-03-11T10:29:13.399352",
     "exception": false,
     "start_time": "2022-03-11T10:29:13.384980",
     "status": "completed"
    },
    "tags": []
   },
   "source": [
    "# ABC - GAN Model with skip connection"
   ]
  },
  {
   "cell_type": "code",
   "execution_count": 15,
   "id": "4e43dad1",
   "metadata": {
    "execution": {
     "iopub.execute_input": "2022-03-11T10:29:13.431338Z",
     "iopub.status.busy": "2022-03-11T10:29:13.430958Z",
     "iopub.status.idle": "2022-03-11T10:29:13.433246Z",
     "shell.execute_reply": "2022-03-11T10:29:13.433548Z"
    },
    "id": "4e43dad1",
    "papermill": {
     "duration": 0.019932,
     "end_time": "2022-03-11T10:29:13.433660",
     "exception": false,
     "start_time": "2022-03-11T10:29:13.413728",
     "status": "completed"
    },
    "tags": []
   },
   "outputs": [],
   "source": [
    "#Generator\n",
    "gen3 = network.GeneratorWithSkipConnection(n_features+1).to(device)\n",
    "constraints=network.weightConstraint()\n",
    "#Discriminator \n",
    "disc3 = network.Discriminator(n_features+1).to(device)\n",
    "\n",
    "criterion = torch.nn.BCELoss()\n",
    "gen_opt = torch.optim.Adam(gen3.parameters(), lr=0.001, betas=(0.5, 0.999))\n",
    "disc_opt = torch.optim.Adam(disc3.parameters(), lr=0.001, betas=(0.5, 0.999))\n"
   ]
  },
  {
   "cell_type": "code",
   "execution_count": 16,
   "id": "26acbc37",
   "metadata": {
    "execution": {
     "iopub.execute_input": "2022-03-11T10:29:13.464950Z",
     "iopub.status.busy": "2022-03-11T10:29:13.464593Z",
     "iopub.status.idle": "2022-03-11T10:31:44.273704Z",
     "shell.execute_reply": "2022-03-11T10:31:44.274014Z"
    },
    "id": "26acbc37",
    "papermill": {
     "duration": 150.826057,
     "end_time": "2022-03-11T10:31:44.274135",
     "exception": false,
     "start_time": "2022-03-11T10:29:13.448078",
     "status": "completed"
    },
    "tags": []
   },
   "outputs": [
    {
     "data": {
      "image/png": "[encoded data removed]",
      "text/plain": [
       "<Figure size 432x288 with 1 Axes>"
      ]
     },
     "metadata": {
      "needs_background": "light"
     },
     "output_type": "display_data"
    },
    {
     "data": {
      "image/png": "[encoded data removed]",
      "text/plain": [
       "<Figure size 432x288 with 1 Axes>"
      ]
     },
     "metadata": {
      "needs_background": "light"
     },
     "output_type": "display_data"
    }
   ],
   "source": [
    "ABC_train_test2.training_GAN_skip_connection(disc3,gen3,disc_opt,gen_opt,train_data,batch_size,n_epochs,criterion,prior_model,variance,0,device)"
   ]
  },
  {
   "cell_type": "code",
   "execution_count": 17,
   "id": "c5e0717b",
   "metadata": {
    "execution": {
     "iopub.execute_input": "2022-03-11T10:31:44.308175Z",
     "iopub.status.busy": "2022-03-11T10:31:44.307704Z",
     "iopub.status.idle": "2022-03-11T10:31:45.130867Z",
     "shell.execute_reply": "2022-03-11T10:31:45.131194Z"
    },
    "id": "c5e0717b",
    "papermill": {
     "duration": 0.841579,
     "end_time": "2022-03-11T10:31:45.131321",
     "exception": false,
     "start_time": "2022-03-11T10:31:44.289742",
     "status": "completed"
    },
    "tags": []
   },
   "outputs": [
    {
     "data": {
      "application/scrapbook.scrap.json+json": {
       "data": 0.09766743744252829,
       "encoder": "json",
       "name": "ABC-GAN Model 3 MSE",
       "version": 1
      }
     },
     "metadata": {
      "scrapbook": {
       "data": true,
       "display": false,
       "name": "ABC-GAN Model 3 MSE"
      }
     },
     "output_type": "display_data"
    },
    {
     "data": {
      "application/scrapbook.scrap.json+json": {
       "data": 0.21927783162972214,
       "encoder": "json",
       "name": "ABC-GAN Model 3 MAE",
       "version": 1
      }
     },
     "metadata": {
      "scrapbook": {
       "data": true,
       "display": false,
       "name": "ABC-GAN Model 3 MAE"
      }
     },
     "output_type": "display_data"
    },
    {
     "data": {
      "application/scrapbook.scrap.json+json": {
       "data": 22.366338826231658,
       "encoder": "json",
       "name": "ABC-GAN Model 3 Manhattan Distance",
       "version": 1
      }
     },
     "metadata": {
      "scrapbook": {
       "data": true,
       "display": false,
       "name": "ABC-GAN Model 3 Manhattan Distance"
      }
     },
     "output_type": "display_data"
    },
    {
     "data": {
      "application/scrapbook.scrap.json+json": {
       "data": 3.156121232985823,
       "encoder": "json",
       "name": "ABC-GAN Model 3 Euclidean distance",
       "version": 1
      }
     },
     "metadata": {
      "scrapbook": {
       "data": true,
       "display": false,
       "name": "ABC-GAN Model 3 Euclidean distance"
      }
     },
     "output_type": "display_data"
    },
    {
     "data": {
      "application/scrapbook.scrap.json+json": {
       "data": [
        [
         0.09576120264927085,
         0.09754702654171761,
         0.09976223206123447,
         0.09830947557536604,
         0.10001520960815025,
         0.09530611136083593,
         0.09680486606840791,
         0.09866474743948622,
         0.09564187601350689,
         0.09805045706929247,
         0.09992931194026175,
         0.09860761291030984,
         0.09404267205161213,
         0.09742925391773243,
         0.0993470825721269,
         0.0963255554332359,
         0.09662563570496709,
         0.0993359718023275,
         0.09996784802576147,
         0.10023777341289199,
         0.0966179057353313,
         0.09804021581453651,
         0.10054322977635395,
         0.09927678968909506,
         0.09385806355556375,
         0.09791975137643502,
         0.10053614127251194,
         0.09840712481577914,
         0.09680527744058151,
         0.09889090934967294,
         0.09814193482202503,
         0.10096413937905305,
         0.09372349191936682,
         0.09848488614488432,
         0.09798228102701528,
         0.09525146641862219,
         0.09782696518133281,
         0.09721616700734781,
         0.09727029187207129,
         0.09880706170244173,
         0.0959297177586718,
         0.09559013370228608,
         0.10035050918170187,
         0.097858340668948,
         0.09757815717015837,
         0.09758913054574705,
         0.1003200437904751,
         0.09716446041295759,
         0.09520110535350393,
         0.09687985604213226,
         0.09356555430979514,
         0.09639438379862114,
         0.09994373669057866,
         0.09640520386192987,
         0.09758095259774595,
         0.09535349968747339,
         0.0946470732618114,
         0.10035350940653918,
         0.09547280849084205,
         0.10079828401165752,
         0.09975887949154025,
         0.09755246006146377,
         0.09928467517939271,
         0.09730730073808258,
         0.09727521802811842,
         0.09882312487578601,
         0.0996660589968683,
         0.09750842656263234,
         0.10016409356140148,
         0.09580811503371928,
         0.09672974647457214,
         0.09849275983916989,
         0.09964840434498556,
         0.0983497810541443,
         0.09786032107623101,
         0.09356546448474491,
         0.10079412989380183,
         0.09633530197042744,
         0.09688935564784726,
         0.09759738849244147,
         0.09765141176726512,
         0.0957786179748862,
         0.09664940988896153,
         0.10063166788642867,
         0.09963201816533677,
         0.09960204992588007,
         0.09976846015561099,
         0.09310474918686598,
         0.09595039462202654,
         0.09650018998689233,
         0.09879338784297302,
         0.09398774145069869,
         0.09738282154227573,
         0.09749315597309209,
         0.10005198471889351,
         0.0968506298036086,
         0.09648024378218947,
         0.09983837764909713,
         0.09451028832561004,
         0.0974226605947723
        ],
        [
         0.21518639598370476,
         0.22066277690122232,
         0.21944597762479795,
         0.21942286438299527,
         0.22310875435633695,
         0.21518850446149124,
         0.22046859801619076,
         0.2173036912127453,
         0.2194004331432356,
         0.21821136682239525,
         0.22063541437006173,
         0.22233375312541337,
         0.21717823169869827,
         0.21956545829215982,
         0.22096315140872463,
         0.21660294064192795,
         0.2169539268292925,
         0.22013197421078004,
         0.22137395555482192,
         0.2239144377903465,
         0.21724572915620372,
         0.2180184790882848,
         0.21768652469686725,
         0.22178448575055776,
         0.21560754886755318,
         0.21943386163854717,
         0.22005887511277608,
         0.21850890508286802,
         0.2206344426627837,
         0.22008389631268002,
         0.22112549436917783,
         0.22304950710203425,
         0.2177625564703097,
         0.22227049420596848,
         0.21920451709964112,
         0.21809654793355102,
         0.21872093771383458,
         0.21696324195877156,
         0.21715617686619654,
         0.22004474952415215,
         0.21913446554475846,
         0.21529500474970714,
         0.2192822716783221,
         0.21881991050516567,
         0.2159648127579952,
         0.21947363496520647,
         0.22104669961731369,
         0.2174095356033421,
         0.21776915956562495,
         0.2212160388646903,
         0.21331194850305715,
         0.2191378706061811,
         0.2219600605358388,
         0.21822162933976336,
         0.22280297597285872,
         0.2185575373598612,
         0.21621396258135564,
         0.21998434017101923,
         0.21765735747256115,
         0.22247549461876498,
         0.2220423813160582,
         0.21772084880948944,
         0.22160465612678842,
         0.2196031383092643,
         0.22235027444548905,
         0.22002085127557316,
         0.22226853727125653,
         0.22055369849298515,
         0.21888844514557837,
         0.21797565547018952,
         0.21618954554273218,
         0.21980917416330353,
         0.22137244158497482,
         0.21967324851464262,
         0.22031585432990802,
         0.214780125922213,
         0.22292867178718248,
         0.2179703174031102,
         0.2207870178709866,
         0.21779932761930076,
         0.21941318240601057,
         0.2168835964346049,
         0.21830469465759747,
         0.22122844509488226,
         0.21870389105934723,
         0.22166357482509577,
         0.22359192651221713,
         0.21486293786095784,
         0.21870607509296022,
         0.2170286078791262,
         0.21967876939029962,
         0.21399337621223108,
         0.21807695285179743,
         0.2196750026013629,
         0.22215595347441586,
         0.2203170329277568,
         0.22003496959622876,
         0.222569513650538,
         0.22062310419392353,
         0.2183730553963459
        ],
        [
         21.949012390337884,
         22.507603243924677,
         22.38348971772939,
         22.381132167065516,
         22.75709294434637,
         21.949227455072105,
         22.487796997651458,
         22.164976503700018,
         22.37884418061003,
         22.257559415884316,
         22.504812265746295,
         22.678042818792164,
         22.152179633267224,
         22.3956767458003,
         22.538241443689913,
         22.09349994547665,
         22.129300536587834,
         22.453461369499564,
         22.580143466591835,
         22.839272654615343,
         22.15906437393278,
         22.23788486700505,
         22.20402551908046,
         22.62201754655689,
         21.991969984490424,
         22.38225388713181,
         22.44600526150316,
         22.287908318452537,
         22.504713151603937,
         22.448557423893362,
         22.55480042565614,
         22.751049724407494,
         22.21178075997159,
         22.671590409008786,
         22.358860744163394,
         22.245847889222205,
         22.309535646811128,
         22.1302506797947,
         22.149930040352046,
         22.44456445146352,
         22.351715485565364,
         21.96009048447013,
         22.366791711188853,
         22.319630871526897,
         22.02841090131551,
         22.38631076645106,
         22.546763360965997,
         22.175772631540895,
         22.212454275693744,
         22.56403596419841,
         21.75781874731183,
         22.35206280183047,
         22.639926174655557,
         22.25860619265586,
         22.72590354923159,
         22.29286881070584,
         22.053824183298275,
         22.438402697443962,
         22.201050462201238,
         22.69250045111403,
         22.648322894237936,
         22.207526578567922,
         22.60367492493242,
         22.39952010754496,
         22.679727993439883,
         22.442126830108464,
         22.671390801668167,
         22.496477246284485,
         22.326621404848993,
         22.23351685795933,
         22.05133364535868,
         22.42053576465696,
         22.57998904166743,
         22.406671348493546,
         22.472217141650617,
         21.907572844065726,
         22.738724522292614,
         22.232972375117242,
         22.52027582284063,
         22.215531417168677,
         22.38014460541308,
         22.1221268363297,
         22.267078855074942,
         22.565301399677992,
         22.307796888053417,
         22.60968463215977,
         22.806376504246145,
         21.9160196618177,
         22.308019659481943,
         22.13691800367087,
         22.40723447781056,
         21.82732437364757,
         22.24384919088334,
         22.406850265339017,
         22.65990725439042,
         22.472337358631194,
         22.443566898815334,
         22.702090392354876,
         22.5035566277802,
         22.274051650427282
        ],
        [
         3.125322810563034,
         3.1543298348865165,
         3.189944775422595,
         3.1666333082135254,
         3.1939867532648485,
         3.1178876437109246,
         3.142307486382834,
         3.172349955289863,
         3.1233749940373317,
         3.1624589516810864,
         3.1926148871899187,
         3.1714313041356585,
         3.097152329037827,
         3.1524250823149953,
         3.1833005548262236,
         3.1345185681680148,
         3.139397209960321,
         3.183122543012977,
         3.1932304174029893,
         3.197538567103606,
         3.1392716328797987,
         3.16229378981187,
         3.202406819438796,
         3.1821741857239205,
         3.094110935740266,
         3.1603503983571772,
         3.2022939293256982,
         3.1682056011580864,
         3.1423141629918723,
         3.1759837458127267,
         3.1639338412562545,
         3.209103023691107,
         3.0918920058396955,
         3.169457112310908,
         3.161359306493895,
         3.1169936757554493,
         3.1588527107948456,
         3.1489758707791773,
         3.1498523411346238,
         3.1746370333707534,
         3.1280714843789177,
         3.1225300058819583,
         3.199336171228899,
         3.1593592306403995,
         3.1548331225844826,
         3.1550105095967904,
         3.198850491446648,
         3.148138332748686,
         3.1161695631106783,
         3.143524346382176,
         3.089285765286064,
         3.1356382360628525,
         3.19284530512191,
         3.135814215465713,
         3.1548783122285533,
         3.118662689057969,
         3.1070889064693272,
         3.199383996876117,
         3.1206131554657475,
         3.206466118515689,
         3.1898911749677463,
         3.154417684180284,
         3.1823005622187948,
         3.150451503401445,
         3.149932100675835,
         3.174895075011169,
         3.1884068149595604,
         3.1537056789416,
         3.1963631744942487,
         3.1260882478649523,
         3.141088050406476,
         3.1695838060533004,
         3.1881244083612117,
         3.167282378873522,
         3.159391199230567,
         3.089284282393574,
         3.206400045092282,
         3.134677144616906,
         3.1436784625785794,
         3.1551439945316324,
         3.156017110261135,
         3.1256069864009444,
         3.139783401554011,
         3.2038149329222687,
         3.1878622700587855,
         3.1873827966593167,
         3.190044347007157,
         3.0816690959706117,
         3.1284085812832547,
         3.1373586627389316,
         3.174417357560794,
         3.096247669029605,
         3.1516738088374763,
         3.1534587216666385,
         3.194573906067464,
         3.1430501491334937,
         3.137034406216057,
         3.1911619388880763,
         3.1048428960596737,
         3.1523184135913
        ]
       ],
       "encoder": "json",
       "name": "ABC_GAN_3 Metrics",
       "version": 1
      }
     },
     "metadata": {
      "scrapbook": {
       "data": true,
       "display": false,
       "name": "ABC_GAN_3 Metrics"
      }
     },
     "output_type": "display_data"
    },
    {
     "name": "stdout",
     "output_type": "stream",
     "text": [
      "MSE\n",
      "0.09766743744252829\n"
     ]
    }
   ],
   "source": [
    "ABC_GAN3_metrics=ABC_train_test2.test_generator(gen3,test_data,prior_model,variance,0,\"3\",device)\n",
    "sb.glue(\"ABC_GAN_3 Metrics\",ABC_GAN3_metrics)\n",
    "\n",
    "print(\"MSE\")\n",
    "print(mean(ABC_GAN3_metrics[0]))"
   ]
  },
  {
   "cell_type": "code",
   "execution_count": 18,
   "id": "c8e46b48",
   "metadata": {
    "execution": {
     "iopub.execute_input": "2022-03-11T10:31:45.167985Z",
     "iopub.status.busy": "2022-03-11T10:31:45.167615Z",
     "iopub.status.idle": "2022-03-11T10:31:45.490780Z",
     "shell.execute_reply": "2022-03-11T10:31:45.491086Z"
    },
    "id": "c8e46b48",
    "papermill": {
     "duration": 0.342637,
     "end_time": "2022-03-11T10:31:45.491209",
     "exception": false,
     "start_time": "2022-03-11T10:31:45.148572",
     "status": "completed"
    },
    "tags": []
   },
   "outputs": [
    {
     "data": {
      "image/png": "[encoded data removed]",
      "text/plain": [
       "<Figure size 432x288 with 1 Axes>"
      ]
     },
     "metadata": {
      "needs_background": "light"
     },
     "output_type": "display_data"
    },
    {
     "data": {
      "image/png": "[encoded data removed]",
      "text/plain": [
       "<Figure size 432x288 with 1 Axes>"
      ]
     },
     "metadata": {
      "needs_background": "light"
     },
     "output_type": "display_data"
    },
    {
     "data": {
      "image/png": "[encoded data removed]",
      "text/plain": [
       "<Figure size 432x288 with 1 Axes>"
      ]
     },
     "metadata": {
      "needs_background": "light"
     },
     "output_type": "display_data"
    },
    {
     "data": {
      "image/png": "[encoded data removed]",
      "text/plain": [
       "<Figure size 432x288 with 1 Axes>"
      ]
     },
     "metadata": {
      "needs_background": "light"
     },
     "output_type": "display_data"
    }
   ],
   "source": [
    "sanityChecks.discProbVsError(train_data,disc3,device)\n",
    "sanityChecks.discProbVsError(test_data,disc3,device)"
   ]
  },
  {
   "cell_type": "markdown",
   "id": "a5bd74c3",
   "metadata": {
    "id": "a5bd74c3",
    "papermill": {
     "duration": 0.019747,
     "end_time": "2022-03-11T10:31:45.530589",
     "exception": false,
     "start_time": "2022-03-11T10:31:45.510842",
     "status": "completed"
    },
    "tags": []
   },
   "source": [
    "## Skip Connection Model Analysis - ABC-GAN "
   ]
  },
  {
   "cell_type": "markdown",
   "id": "5744a8bf",
   "metadata": {
    "id": "5744a8bf",
    "papermill": {
     "duration": 0.01912,
     "end_time": "2022-03-11T10:31:45.568886",
     "exception": false,
     "start_time": "2022-03-11T10:31:45.549766",
     "status": "completed"
    },
    "tags": []
   },
   "source": [
    "### Weight Analysis \n",
    "\n",
    "Study the weights of the skip connection layer\n",
    "\n",
    "Equation of the skip connection is \n",
    "\n",
    "$output = y_{gan} * w + y_{abc} * (1-w)$"
   ]
  },
  {
   "cell_type": "code",
   "execution_count": 19,
   "id": "52c31dea",
   "metadata": {
    "execution": {
     "iopub.execute_input": "2022-03-11T10:31:45.610079Z",
     "iopub.status.busy": "2022-03-11T10:31:45.609686Z",
     "iopub.status.idle": "2022-03-11T10:31:45.613108Z",
     "shell.execute_reply": "2022-03-11T10:31:45.613352Z"
    },
    "id": "52c31dea",
    "papermill": {
     "duration": 0.025512,
     "end_time": "2022-03-11T10:31:45.613466",
     "exception": false,
     "start_time": "2022-03-11T10:31:45.587954",
     "status": "completed"
    },
    "tags": []
   },
   "outputs": [
    {
     "name": "stdout",
     "output_type": "stream",
     "text": [
      "Weight of the node at skip connection\n",
      "Parameter containing:\n",
      "tensor([[0.9298]], requires_grad=True)\n"
     ]
    },
    {
     "data": {
      "application/scrapbook.scrap.json+json": {
       "data": 0.9298160076141357,
       "encoder": "json",
       "name": "Skip Connection Weight",
       "version": 1
      }
     },
     "metadata": {
      "scrapbook": {
       "data": true,
       "display": false,
       "name": "Skip Connection Weight"
      }
     },
     "output_type": "display_data"
    }
   ],
   "source": [
    "print(\"Weight of the node at skip connection\")\n",
    "for name,param in gen3.named_parameters():\n",
    "    if(name == \"skipNode.weight\"):\n",
    "        print(param)\n",
    "        sb.glue(\"Skip Connection Weight\",param.item())"
   ]
  }
 ],
 "metadata": {
  "colab": {
   "collapsed_sections": [],
   "name": "ABC_GAN_Model-Catboost_Pre-gen.ipynb",
   "provenance": []
  },
  "interpreter": {
   "hash": "31f2aee4e71d21fbe5cf8b01ff0e069b9275f58929596ceb00d14d90e3e16cd6"
  },
  "kernelspec": {
   "display_name": "Python 3 (ipykernel)",
   "language": "python",
   "name": "python3"
  },
  "language_info": {
   "codemirror_mode": {
    "name": "ipython",
    "version": 3
   },
   "file_extension": ".py",
   "mimetype": "text/x-python",
   "name": "python",
   "nbconvert_exporter": "python",
   "pygments_lexer": "ipython3",
   "version": "3.8.11"
  },
  "papermill": {
   "default_parameters": {},
   "duration": 193.227738,
   "end_time": "2022-03-11T10:31:45.941119",
   "environment_variables": {},
   "exception": null,
   "input_path": "ABC_GAN-Catboost.ipynb",
   "output_path": "./ABC_GAN_Catboost/ABC-GAN_output_7_0.ipynb",
   "parameters": {
    "variance": 1
   },
   "start_time": "2022-03-11T10:28:32.713381",
   "version": "2.3.3"
  }
 },
 "nbformat": 4,
 "nbformat_minor": 5
}