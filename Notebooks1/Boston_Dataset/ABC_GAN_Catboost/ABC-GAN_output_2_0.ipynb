{
 "cells": [
  {
   "cell_type": "markdown",
   "id": "622780e6",
   "metadata": {
    "id": "622780e6",
    "papermill": {
     "duration": 0.027839,
     "end_time": "2022-03-11T09:40:17.427353",
     "exception": false,
     "start_time": "2022-03-11T09:40:17.399514",
     "status": "completed"
    },
    "tags": []
   },
   "source": [
    "## Import Libraries "
   ]
  },
  {
   "cell_type": "code",
   "execution_count": 1,
   "id": "a62397e3",
   "metadata": {
    "execution": {
     "iopub.execute_input": "2022-03-11T09:40:17.467596Z",
     "iopub.status.busy": "2022-03-11T09:40:17.467064Z",
     "iopub.status.idle": "2022-03-11T09:40:17.469416Z",
     "shell.execute_reply": "2022-03-11T09:40:17.469747Z"
    },
    "id": "a62397e3",
    "papermill": {
     "duration": 0.02462,
     "end_time": "2022-03-11T09:40:17.469962",
     "exception": false,
     "start_time": "2022-03-11T09:40:17.445342",
     "status": "completed"
    },
    "tags": []
   },
   "outputs": [],
   "source": [
    "import warnings\n",
    "import sys\n",
    "sys.path.insert(0, '../../src')\n",
    "warnings.filterwarnings('ignore')"
   ]
  },
  {
   "cell_type": "code",
   "execution_count": 2,
   "id": "d6a4e155",
   "metadata": {
    "execution": {
     "iopub.execute_input": "2022-03-11T09:40:17.490575Z",
     "iopub.status.busy": "2022-03-11T09:40:17.490106Z",
     "iopub.status.idle": "2022-03-11T09:40:19.377853Z",
     "shell.execute_reply": "2022-03-11T09:40:19.378111Z"
    },
    "id": "d6a4e155",
    "papermill": {
     "duration": 1.898651,
     "end_time": "2022-03-11T09:40:19.378236",
     "exception": false,
     "start_time": "2022-03-11T09:40:17.479585",
     "status": "completed"
    },
    "tags": []
   },
   "outputs": [],
   "source": [
    "import ABC_train_test2\n",
    "import bostonDataset\n",
    "import network\n",
    "import dataset\n",
    "import sanityChecks\n",
    "import torch \n",
    "import scrapbook as sb\n",
    "from statistics import mean \n",
    "import catboost as ctb \n",
    "from sklearn.model_selection import train_test_split\n",
    "from sklearn.metrics import mean_squared_error,mean_absolute_error\n",
    "import numpy as np"
   ]
  },
  {
   "cell_type": "markdown",
   "id": "2fa5b0f7",
   "metadata": {
    "id": "2fa5b0f7",
    "papermill": {
     "duration": 0.006812,
     "end_time": "2022-03-11T09:40:19.392162",
     "exception": false,
     "start_time": "2022-03-11T09:40:19.385350",
     "status": "completed"
    },
    "tags": []
   },
   "source": [
    "## Parameters "
   ]
  },
  {
   "cell_type": "code",
   "execution_count": 3,
   "id": "783186fb",
   "metadata": {
    "execution": {
     "iopub.execute_input": "2022-03-11T09:40:19.408038Z",
     "iopub.status.busy": "2022-03-11T09:40:19.407605Z",
     "iopub.status.idle": "2022-03-11T09:40:19.408874Z",
     "shell.execute_reply": "2022-03-11T09:40:19.409121Z"
    },
    "id": "783186fb",
    "papermill": {
     "duration": 0.010402,
     "end_time": "2022-03-11T09:40:19.409232",
     "exception": false,
     "start_time": "2022-03-11T09:40:19.398830",
     "status": "completed"
    },
    "tags": [
     "parameters"
    ]
   },
   "outputs": [],
   "source": [
    "variance = 1"
   ]
  },
  {
   "cell_type": "code",
   "execution_count": 4,
   "id": "9a5941e0",
   "metadata": {
    "execution": {
     "iopub.execute_input": "2022-03-11T09:40:19.424616Z",
     "iopub.status.busy": "2022-03-11T09:40:19.424257Z",
     "iopub.status.idle": "2022-03-11T09:40:19.425607Z",
     "shell.execute_reply": "2022-03-11T09:40:19.425854Z"
    },
    "papermill": {
     "duration": 0.009914,
     "end_time": "2022-03-11T09:40:19.425959",
     "exception": false,
     "start_time": "2022-03-11T09:40:19.416045",
     "status": "completed"
    },
    "tags": [
     "injected-parameters"
    ]
   },
   "outputs": [],
   "source": [
    "# Parameters\n",
    "variance = 1\n"
   ]
  },
  {
   "cell_type": "markdown",
   "id": "391cdbfd",
   "metadata": {
    "id": "391cdbfd",
    "papermill": {
     "duration": 0.006726,
     "end_time": "2022-03-11T09:40:19.439449",
     "exception": false,
     "start_time": "2022-03-11T09:40:19.432723",
     "status": "completed"
    },
    "tags": []
   },
   "source": [
    "## Dataset \n"
   ]
  },
  {
   "cell_type": "code",
   "execution_count": 5,
   "id": "5b51f161",
   "metadata": {
    "execution": {
     "iopub.execute_input": "2022-03-11T09:40:19.454941Z",
     "iopub.status.busy": "2022-03-11T09:40:19.454582Z",
     "iopub.status.idle": "2022-03-11T09:40:19.455880Z",
     "shell.execute_reply": "2022-03-11T09:40:19.456119Z"
    },
    "id": "5b51f161",
    "papermill": {
     "duration": 0.010044,
     "end_time": "2022-03-11T09:40:19.456225",
     "exception": false,
     "start_time": "2022-03-11T09:40:19.446181",
     "status": "completed"
    },
    "tags": []
   },
   "outputs": [],
   "source": [
    "#Parameters \n",
    "n_features = 13\n",
    "n_samples= 506\n",
    "n_target = 1 "
   ]
  },
  {
   "cell_type": "code",
   "execution_count": 6,
   "id": "5d6eced4",
   "metadata": {
    "execution": {
     "iopub.execute_input": "2022-03-11T09:40:19.471828Z",
     "iopub.status.busy": "2022-03-11T09:40:19.471459Z",
     "iopub.status.idle": "2022-03-11T09:40:19.482440Z",
     "shell.execute_reply": "2022-03-11T09:40:19.482680Z"
    },
    "id": "5d6eced4",
    "papermill": {
     "duration": 0.019678,
     "end_time": "2022-03-11T09:40:19.482792",
     "exception": false,
     "start_time": "2022-03-11T09:40:19.463114",
     "status": "completed"
    },
    "tags": []
   },
   "outputs": [
    {
     "name": "stdout",
     "output_type": "stream",
     "text": [
      "         X1        X2        X3        X4        X5        X6        X7  \\\n",
      "0 -0.419782  0.284830 -1.287909 -0.272599 -0.144217  0.413672 -0.120013   \n",
      "1 -0.417339 -0.487722 -0.593381 -0.272599 -0.740262  0.194274  0.367166   \n",
      "2 -0.417342 -0.487722 -0.593381 -0.272599 -0.740262  1.282714 -0.265812   \n",
      "3 -0.416750 -0.487722 -1.306878 -0.272599 -0.835284  1.016303 -0.809889   \n",
      "4 -0.412482 -0.487722 -1.306878 -0.272599 -0.835284  1.228577 -0.511180   \n",
      "\n",
      "         X8        X9       X10       X11       X12       X13         Y  \n",
      "0  0.140214 -0.982843 -0.666608 -1.459000  0.441052 -1.075562  0.159686  \n",
      "1  0.557160 -0.867883 -0.987329 -0.303094  0.441052 -0.492439 -0.101524  \n",
      "2  0.557160 -0.867883 -0.987329 -0.303094  0.396427 -1.208727  1.324247  \n",
      "3  1.077737 -0.752922 -1.106115  0.113032  0.416163 -1.361517  1.182758  \n",
      "4  1.077737 -0.752922 -1.106115  0.113032  0.441052 -1.026501  1.487503  \n"
     ]
    }
   ],
   "source": [
    "X,Y = bostonDataset.boston_data()"
   ]
  },
  {
   "cell_type": "code",
   "execution_count": 7,
   "id": "fe007438",
   "metadata": {
    "execution": {
     "iopub.execute_input": "2022-03-11T09:40:19.500004Z",
     "iopub.status.busy": "2022-03-11T09:40:19.499631Z",
     "iopub.status.idle": "2022-03-11T09:40:19.500949Z",
     "shell.execute_reply": "2022-03-11T09:40:19.501192Z"
    },
    "id": "fe007438",
    "papermill": {
     "duration": 0.011194,
     "end_time": "2022-03-11T09:40:19.501301",
     "exception": false,
     "start_time": "2022-03-11T09:40:19.490107",
     "status": "completed"
    },
    "tags": []
   },
   "outputs": [],
   "source": [
    "#Train test split for dataset \n",
    "X_train,X_test,Y_train,Y_test = train_test_split(X,Y,test_size = 0.2)\n",
    "train_data = dataset.CustomDataset(X_train,Y_train)\n",
    "test_data = dataset.CustomDataset(X_test,Y_test)\n"
   ]
  },
  {
   "cell_type": "markdown",
   "id": "a9a1af34",
   "metadata": {
    "id": "a9a1af34",
    "papermill": {
     "duration": 0.007039,
     "end_time": "2022-03-11T09:40:19.515500",
     "exception": false,
     "start_time": "2022-03-11T09:40:19.508461",
     "status": "completed"
    },
    "tags": []
   },
   "source": [
    "## Training Parameters "
   ]
  },
  {
   "cell_type": "code",
   "execution_count": 8,
   "id": "952b7fc8",
   "metadata": {
    "execution": {
     "iopub.execute_input": "2022-03-11T09:40:19.531853Z",
     "iopub.status.busy": "2022-03-11T09:40:19.531481Z",
     "iopub.status.idle": "2022-03-11T09:40:19.532690Z",
     "shell.execute_reply": "2022-03-11T09:40:19.532982Z"
    },
    "id": "952b7fc8",
    "papermill": {
     "duration": 0.010587,
     "end_time": "2022-03-11T09:40:19.533090",
     "exception": false,
     "start_time": "2022-03-11T09:40:19.522503",
     "status": "completed"
    },
    "tags": []
   },
   "outputs": [],
   "source": [
    "batch_size = 64\n",
    "n_epochs = 1000\n",
    "#Select the device \n",
    "device = torch.device('cuda' if torch.cuda.is_available() else 'cpu')"
   ]
  },
  {
   "cell_type": "markdown",
   "id": "a95e1600",
   "metadata": {
    "id": "a95e1600",
    "papermill": {
     "duration": 0.007012,
     "end_time": "2022-03-11T09:40:19.547214",
     "exception": false,
     "start_time": "2022-03-11T09:40:19.540202",
     "status": "completed"
    },
    "tags": []
   },
   "source": [
    "# ABC Pre-generator Model \n",
    "\n",
    "1. The catboost model is used as a pre-generator model for the ABC-GAN. \n",
    "2. The model is first trained on the entire dataset \n",
    "3. It generats X,Y pairs and we add some Gaussian noise with mean 0 and variance 1 to it which is then feed as input to the generator.\n"
   ]
  },
  {
   "cell_type": "code",
   "execution_count": 9,
   "id": "ff8ce7bd",
   "metadata": {
    "execution": {
     "iopub.execute_input": "2022-03-11T09:40:19.566092Z",
     "iopub.status.busy": "2022-03-11T09:40:19.565720Z",
     "iopub.status.idle": "2022-03-11T09:40:20.527764Z",
     "shell.execute_reply": "2022-03-11T09:40:20.528108Z"
    },
    "id": "ff8ce7bd",
    "papermill": {
     "duration": 0.973966,
     "end_time": "2022-03-11T09:40:20.528235",
     "exception": false,
     "start_time": "2022-03-11T09:40:19.554269",
     "status": "completed"
    },
    "tags": []
   },
   "outputs": [
    {
     "name": "stdout",
     "output_type": "stream",
     "text": [
      "Learning rate set to 0.033215\n",
      "0:\tlearn: 0.9887046\ttotal: 57.4ms\tremaining: 57.4s\n",
      "1:\tlearn: 0.9690895\ttotal: 58.3ms\tremaining: 29.1s\n",
      "2:\tlearn: 0.9473810\ttotal: 59.4ms\tremaining: 19.7s\n",
      "3:\tlearn: 0.9318377\ttotal: 60.4ms\tremaining: 15s\n",
      "4:\tlearn: 0.9152608\ttotal: 61.4ms\tremaining: 12.2s\n",
      "5:\tlearn: 0.8977707\ttotal: 62.3ms\tremaining: 10.3s\n",
      "6:\tlearn: 0.8826778\ttotal: 63.1ms\tremaining: 8.96s\n",
      "7:\tlearn: 0.8643057\ttotal: 64ms\tremaining: 7.93s\n",
      "8:\tlearn: 0.8487988\ttotal: 64.8ms\tremaining: 7.14s\n",
      "9:\tlearn: 0.8326782\ttotal: 65.7ms\tremaining: 6.5s\n",
      "10:\tlearn: 0.8162183\ttotal: 66.5ms\tremaining: 5.98s\n",
      "11:\tlearn: 0.8006351\ttotal: 67.3ms\tremaining: 5.54s\n",
      "12:\tlearn: 0.7857379\ttotal: 68.2ms\tremaining: 5.18s\n",
      "13:\tlearn: 0.7704642\ttotal: 69ms\tremaining: 4.86s\n",
      "14:\tlearn: 0.7575247\ttotal: 69.8ms\tremaining: 4.59s\n",
      "15:\tlearn: 0.7430654\ttotal: 70.7ms\tremaining: 4.34s\n",
      "16:\tlearn: 0.7312234\ttotal: 71.5ms\tremaining: 4.13s\n",
      "17:\tlearn: 0.7180280\ttotal: 72.3ms\tremaining: 3.94s\n",
      "18:\tlearn: 0.7054482\ttotal: 73.1ms\tremaining: 3.77s\n",
      "19:\tlearn: 0.6924580\ttotal: 74ms\tremaining: 3.62s\n",
      "20:\tlearn: 0.6802809\ttotal: 74.9ms\tremaining: 3.49s\n",
      "21:\tlearn: 0.6700514\ttotal: 75.7ms\tremaining: 3.36s\n",
      "22:\tlearn: 0.6596555\ttotal: 76.5ms\tremaining: 3.25s\n",
      "23:\tlearn: 0.6506154\ttotal: 77.2ms\tremaining: 3.14s\n",
      "24:\tlearn: 0.6409173\ttotal: 77.9ms\tremaining: 3.04s\n",
      "25:\tlearn: 0.6321973\ttotal: 78.7ms\tremaining: 2.95s\n",
      "26:\tlearn: 0.6233328\ttotal: 79.3ms\tremaining: 2.86s\n",
      "27:\tlearn: 0.6144365\ttotal: 80.1ms\tremaining: 2.78s\n",
      "28:\tlearn: 0.6051892\ttotal: 81ms\tremaining: 2.71s\n",
      "29:\tlearn: 0.5947947\ttotal: 81.8ms\tremaining: 2.64s\n",
      "30:\tlearn: 0.5854548\ttotal: 82.7ms\tremaining: 2.58s\n",
      "31:\tlearn: 0.5761386\ttotal: 83.4ms\tremaining: 2.52s\n",
      "32:\tlearn: 0.5692622\ttotal: 84.2ms\tremaining: 2.47s\n",
      "33:\tlearn: 0.5608432\ttotal: 85ms\tremaining: 2.41s\n",
      "34:\tlearn: 0.5531120\ttotal: 85.8ms\tremaining: 2.37s\n",
      "35:\tlearn: 0.5455227\ttotal: 86.6ms\tremaining: 2.32s\n",
      "36:\tlearn: 0.5400807\ttotal: 87.4ms\tremaining: 2.28s\n",
      "37:\tlearn: 0.5331503\ttotal: 88.3ms\tremaining: 2.24s\n",
      "38:\tlearn: 0.5257490\ttotal: 89.2ms\tremaining: 2.2s\n",
      "39:\tlearn: 0.5180394\ttotal: 90.1ms\tremaining: 2.16s\n",
      "40:\tlearn: 0.5120634\ttotal: 91.1ms\tremaining: 2.13s\n",
      "41:\tlearn: 0.5057841\ttotal: 92ms\tremaining: 2.1s\n",
      "42:\tlearn: 0.5004862\ttotal: 92.9ms\tremaining: 2.07s\n",
      "43:\tlearn: 0.4946922\ttotal: 93.6ms\tremaining: 2.03s\n",
      "44:\tlearn: 0.4877891\ttotal: 94.6ms\tremaining: 2.01s\n",
      "45:\tlearn: 0.4822538\ttotal: 95.3ms\tremaining: 1.98s\n",
      "46:\tlearn: 0.4767286\ttotal: 96ms\tremaining: 1.95s\n",
      "47:\tlearn: 0.4708003\ttotal: 96.7ms\tremaining: 1.92s\n",
      "48:\tlearn: 0.4660257\ttotal: 97.5ms\tremaining: 1.89s\n",
      "49:\tlearn: 0.4616004\ttotal: 98.3ms\tremaining: 1.87s\n",
      "50:\tlearn: 0.4563523\ttotal: 99.2ms\tremaining: 1.84s\n",
      "51:\tlearn: 0.4519450\ttotal: 100ms\tremaining: 1.82s\n",
      "52:\tlearn: 0.4474831\ttotal: 101ms\tremaining: 1.8s\n",
      "53:\tlearn: 0.4436783\ttotal: 101ms\tremaining: 1.78s\n",
      "54:\tlearn: 0.4385746\ttotal: 102ms\tremaining: 1.76s\n",
      "55:\tlearn: 0.4334602\ttotal: 103ms\tremaining: 1.74s\n",
      "56:\tlearn: 0.4294657\ttotal: 104ms\tremaining: 1.72s\n",
      "57:\tlearn: 0.4246665\ttotal: 105ms\tremaining: 1.7s\n",
      "58:\tlearn: 0.4205287\ttotal: 106ms\tremaining: 1.69s\n",
      "59:\tlearn: 0.4172743\ttotal: 107ms\tremaining: 1.67s\n",
      "60:\tlearn: 0.4130834\ttotal: 107ms\tremaining: 1.65s\n",
      "61:\tlearn: 0.4092121\ttotal: 108ms\tremaining: 1.63s\n"
     ]
    },
    {
     "name": "stdout",
     "output_type": "stream",
     "text": [
      "62:\tlearn: 0.4062982\ttotal: 109ms\tremaining: 1.62s\n",
      "63:\tlearn: 0.4028592\ttotal: 110ms\tremaining: 1.61s\n",
      "64:\tlearn: 0.3998698\ttotal: 111ms\tremaining: 1.59s\n",
      "65:\tlearn: 0.3957845\ttotal: 112ms\tremaining: 1.58s\n",
      "66:\tlearn: 0.3924063\ttotal: 112ms\tremaining: 1.56s\n",
      "67:\tlearn: 0.3886928\ttotal: 113ms\tremaining: 1.55s\n",
      "68:\tlearn: 0.3852146\ttotal: 114ms\tremaining: 1.54s\n",
      "69:\tlearn: 0.3825457\ttotal: 115ms\tremaining: 1.53s\n",
      "70:\tlearn: 0.3798845\ttotal: 116ms\tremaining: 1.51s\n",
      "71:\tlearn: 0.3766661\ttotal: 117ms\tremaining: 1.5s\n",
      "72:\tlearn: 0.3734089\ttotal: 118ms\tremaining: 1.49s\n",
      "73:\tlearn: 0.3700110\ttotal: 118ms\tremaining: 1.48s\n",
      "74:\tlearn: 0.3668265\ttotal: 119ms\tremaining: 1.47s\n",
      "75:\tlearn: 0.3634208\ttotal: 120ms\tremaining: 1.46s\n",
      "76:\tlearn: 0.3601802\ttotal: 121ms\tremaining: 1.45s\n",
      "77:\tlearn: 0.3573796\ttotal: 122ms\tremaining: 1.44s\n",
      "78:\tlearn: 0.3548362\ttotal: 122ms\tremaining: 1.43s\n",
      "79:\tlearn: 0.3523170\ttotal: 123ms\tremaining: 1.42s\n",
      "80:\tlearn: 0.3501775\ttotal: 124ms\tremaining: 1.41s\n",
      "81:\tlearn: 0.3480913\ttotal: 125ms\tremaining: 1.4s\n",
      "82:\tlearn: 0.3463042\ttotal: 126ms\tremaining: 1.39s\n",
      "83:\tlearn: 0.3435384\ttotal: 127ms\tremaining: 1.39s\n",
      "84:\tlearn: 0.3412344\ttotal: 128ms\tremaining: 1.38s\n",
      "85:\tlearn: 0.3388359\ttotal: 129ms\tremaining: 1.37s\n",
      "86:\tlearn: 0.3363509\ttotal: 130ms\tremaining: 1.36s\n",
      "87:\tlearn: 0.3341496\ttotal: 131ms\tremaining: 1.35s\n",
      "88:\tlearn: 0.3316405\ttotal: 132ms\tremaining: 1.35s\n",
      "89:\tlearn: 0.3292308\ttotal: 132ms\tremaining: 1.34s\n",
      "90:\tlearn: 0.3273060\ttotal: 133ms\tremaining: 1.33s\n",
      "91:\tlearn: 0.3254193\ttotal: 134ms\tremaining: 1.32s\n",
      "92:\tlearn: 0.3236551\ttotal: 135ms\tremaining: 1.31s\n",
      "93:\tlearn: 0.3217937\ttotal: 136ms\tremaining: 1.31s\n",
      "94:\tlearn: 0.3197661\ttotal: 136ms\tremaining: 1.3s\n",
      "95:\tlearn: 0.3184951\ttotal: 137ms\tremaining: 1.29s\n",
      "96:\tlearn: 0.3165122\ttotal: 138ms\tremaining: 1.28s\n",
      "97:\tlearn: 0.3152234\ttotal: 139ms\tremaining: 1.28s\n",
      "98:\tlearn: 0.3138757\ttotal: 140ms\tremaining: 1.27s\n",
      "99:\tlearn: 0.3126777\ttotal: 141ms\tremaining: 1.26s\n",
      "100:\tlearn: 0.3108529\ttotal: 141ms\tremaining: 1.26s\n",
      "101:\tlearn: 0.3089889\ttotal: 142ms\tremaining: 1.25s\n",
      "102:\tlearn: 0.3073913\ttotal: 143ms\tremaining: 1.25s\n",
      "103:\tlearn: 0.3058502\ttotal: 145ms\tremaining: 1.25s\n",
      "104:\tlearn: 0.3047132\ttotal: 146ms\tremaining: 1.24s\n",
      "105:\tlearn: 0.3032655\ttotal: 146ms\tremaining: 1.24s\n",
      "106:\tlearn: 0.3018534\ttotal: 147ms\tremaining: 1.23s\n",
      "107:\tlearn: 0.3001634\ttotal: 149ms\tremaining: 1.23s\n",
      "108:\tlearn: 0.2989074\ttotal: 150ms\tremaining: 1.22s\n",
      "109:\tlearn: 0.2977326\ttotal: 151ms\tremaining: 1.22s\n",
      "110:\tlearn: 0.2963327\ttotal: 151ms\tremaining: 1.21s\n",
      "111:\tlearn: 0.2947560\ttotal: 152ms\tremaining: 1.21s\n",
      "112:\tlearn: 0.2933374\ttotal: 153ms\tremaining: 1.2s\n",
      "113:\tlearn: 0.2918494\ttotal: 154ms\tremaining: 1.2s\n",
      "114:\tlearn: 0.2906294\ttotal: 155ms\tremaining: 1.19s\n",
      "115:\tlearn: 0.2897469\ttotal: 156ms\tremaining: 1.19s\n",
      "116:\tlearn: 0.2888184\ttotal: 157ms\tremaining: 1.18s\n",
      "117:\tlearn: 0.2876140\ttotal: 158ms\tremaining: 1.18s\n",
      "118:\tlearn: 0.2865756\ttotal: 159ms\tremaining: 1.18s\n",
      "119:\tlearn: 0.2855042\ttotal: 160ms\tremaining: 1.17s\n",
      "120:\tlearn: 0.2840367\ttotal: 161ms\tremaining: 1.17s\n",
      "121:\tlearn: 0.2831837\ttotal: 162ms\tremaining: 1.16s\n",
      "122:\tlearn: 0.2821867\ttotal: 163ms\tremaining: 1.16s\n",
      "123:\tlearn: 0.2807601\ttotal: 164ms\tremaining: 1.16s\n",
      "124:\tlearn: 0.2796703\ttotal: 165ms\tremaining: 1.15s\n",
      "125:\tlearn: 0.2785058\ttotal: 166ms\tremaining: 1.15s\n",
      "126:\tlearn: 0.2771599\ttotal: 166ms\tremaining: 1.14s\n",
      "127:\tlearn: 0.2762312\ttotal: 167ms\tremaining: 1.14s\n",
      "128:\tlearn: 0.2750802\ttotal: 168ms\tremaining: 1.14s\n",
      "129:\tlearn: 0.2739244\ttotal: 169ms\tremaining: 1.13s\n",
      "130:\tlearn: 0.2727638\ttotal: 170ms\tremaining: 1.13s\n",
      "131:\tlearn: 0.2719446\ttotal: 171ms\tremaining: 1.12s\n",
      "132:\tlearn: 0.2711061\ttotal: 171ms\tremaining: 1.12s\n",
      "133:\tlearn: 0.2700653\ttotal: 172ms\tremaining: 1.11s\n",
      "134:\tlearn: 0.2693841\ttotal: 173ms\tremaining: 1.11s\n",
      "135:\tlearn: 0.2684647\ttotal: 174ms\tremaining: 1.1s\n",
      "136:\tlearn: 0.2676182\ttotal: 175ms\tremaining: 1.1s\n",
      "137:\tlearn: 0.2667606\ttotal: 175ms\tremaining: 1.09s\n",
      "138:\tlearn: 0.2659545\ttotal: 176ms\tremaining: 1.09s\n",
      "139:\tlearn: 0.2647573\ttotal: 177ms\tremaining: 1.09s\n",
      "140:\tlearn: 0.2640347\ttotal: 178ms\tremaining: 1.08s\n",
      "141:\tlearn: 0.2630102\ttotal: 179ms\tremaining: 1.08s\n",
      "142:\tlearn: 0.2623510\ttotal: 180ms\tremaining: 1.08s\n",
      "143:\tlearn: 0.2612989\ttotal: 181ms\tremaining: 1.07s\n",
      "144:\tlearn: 0.2606018\ttotal: 181ms\tremaining: 1.07s\n",
      "145:\tlearn: 0.2596605\ttotal: 182ms\tremaining: 1.06s\n",
      "146:\tlearn: 0.2587967\ttotal: 183ms\tremaining: 1.06s\n",
      "147:\tlearn: 0.2581644\ttotal: 184ms\tremaining: 1.06s\n",
      "148:\tlearn: 0.2573834\ttotal: 185ms\tremaining: 1.05s\n",
      "149:\tlearn: 0.2568208\ttotal: 185ms\tremaining: 1.05s\n",
      "150:\tlearn: 0.2560279\ttotal: 186ms\tremaining: 1.05s\n",
      "151:\tlearn: 0.2558181\ttotal: 187ms\tremaining: 1.04s\n",
      "152:\tlearn: 0.2552278\ttotal: 188ms\tremaining: 1.04s\n",
      "153:\tlearn: 0.2544142\ttotal: 189ms\tremaining: 1.03s\n",
      "154:\tlearn: 0.2534374\ttotal: 189ms\tremaining: 1.03s\n",
      "155:\tlearn: 0.2525886\ttotal: 190ms\tremaining: 1.03s\n"
     ]
    },
    {
     "name": "stdout",
     "output_type": "stream",
     "text": [
      "156:\tlearn: 0.2516459\ttotal: 191ms\tremaining: 1.02s\n",
      "157:\tlearn: 0.2510267\ttotal: 192ms\tremaining: 1.02s\n",
      "158:\tlearn: 0.2501511\ttotal: 193ms\tremaining: 1.02s\n",
      "159:\tlearn: 0.2493852\ttotal: 194ms\tremaining: 1.02s\n",
      "160:\tlearn: 0.2486258\ttotal: 195ms\tremaining: 1.01s\n",
      "161:\tlearn: 0.2479765\ttotal: 195ms\tremaining: 1.01s\n",
      "162:\tlearn: 0.2471840\ttotal: 196ms\tremaining: 1.01s\n",
      "163:\tlearn: 0.2464978\ttotal: 197ms\tremaining: 1s\n",
      "164:\tlearn: 0.2456713\ttotal: 198ms\tremaining: 1s\n",
      "165:\tlearn: 0.2452121\ttotal: 199ms\tremaining: 999ms\n",
      "166:\tlearn: 0.2445117\ttotal: 200ms\tremaining: 996ms\n",
      "167:\tlearn: 0.2439846\ttotal: 201ms\tremaining: 993ms\n",
      "168:\tlearn: 0.2433884\ttotal: 201ms\tremaining: 991ms\n",
      "169:\tlearn: 0.2428148\ttotal: 202ms\tremaining: 987ms\n",
      "170:\tlearn: 0.2422886\ttotal: 203ms\tremaining: 985ms\n",
      "171:\tlearn: 0.2416543\ttotal: 204ms\tremaining: 982ms\n",
      "172:\tlearn: 0.2411278\ttotal: 205ms\tremaining: 979ms\n",
      "173:\tlearn: 0.2404425\ttotal: 206ms\tremaining: 976ms\n",
      "174:\tlearn: 0.2399616\ttotal: 206ms\tremaining: 973ms\n",
      "175:\tlearn: 0.2395658\ttotal: 207ms\tremaining: 970ms\n",
      "176:\tlearn: 0.2388035\ttotal: 208ms\tremaining: 967ms\n",
      "177:\tlearn: 0.2382141\ttotal: 209ms\tremaining: 965ms\n",
      "178:\tlearn: 0.2378085\ttotal: 210ms\tremaining: 962ms\n",
      "179:\tlearn: 0.2371199\ttotal: 210ms\tremaining: 959ms\n",
      "180:\tlearn: 0.2362562\ttotal: 211ms\tremaining: 956ms\n",
      "181:\tlearn: 0.2354363\ttotal: 212ms\tremaining: 954ms\n",
      "182:\tlearn: 0.2347628\ttotal: 213ms\tremaining: 952ms\n",
      "183:\tlearn: 0.2341058\ttotal: 214ms\tremaining: 949ms\n",
      "184:\tlearn: 0.2335879\ttotal: 215ms\tremaining: 946ms\n",
      "185:\tlearn: 0.2331474\ttotal: 216ms\tremaining: 943ms\n",
      "186:\tlearn: 0.2327328\ttotal: 216ms\tremaining: 941ms\n",
      "187:\tlearn: 0.2320015\ttotal: 217ms\tremaining: 939ms\n",
      "188:\tlearn: 0.2312828\ttotal: 218ms\tremaining: 935ms\n",
      "189:\tlearn: 0.2304813\ttotal: 219ms\tremaining: 932ms\n",
      "190:\tlearn: 0.2299737\ttotal: 220ms\tremaining: 930ms\n",
      "191:\tlearn: 0.2296008\ttotal: 220ms\tremaining: 928ms\n",
      "192:\tlearn: 0.2288346\ttotal: 221ms\tremaining: 925ms\n",
      "193:\tlearn: 0.2281931\ttotal: 222ms\tremaining: 923ms\n",
      "194:\tlearn: 0.2275081\ttotal: 223ms\tremaining: 920ms\n",
      "195:\tlearn: 0.2270531\ttotal: 224ms\tremaining: 917ms\n",
      "196:\tlearn: 0.2265392\ttotal: 224ms\tremaining: 915ms\n",
      "197:\tlearn: 0.2258695\ttotal: 225ms\tremaining: 912ms\n",
      "198:\tlearn: 0.2252203\ttotal: 226ms\tremaining: 910ms\n",
      "199:\tlearn: 0.2243852\ttotal: 227ms\tremaining: 907ms\n",
      "200:\tlearn: 0.2239918\ttotal: 228ms\tremaining: 905ms\n",
      "201:\tlearn: 0.2235753\ttotal: 228ms\tremaining: 902ms\n",
      "202:\tlearn: 0.2232947\ttotal: 229ms\tremaining: 900ms\n",
      "203:\tlearn: 0.2228667\ttotal: 230ms\tremaining: 898ms\n",
      "204:\tlearn: 0.2222659\ttotal: 231ms\tremaining: 896ms\n",
      "205:\tlearn: 0.2217923\ttotal: 232ms\tremaining: 894ms\n",
      "206:\tlearn: 0.2210193\ttotal: 233ms\tremaining: 892ms\n",
      "207:\tlearn: 0.2205621\ttotal: 234ms\tremaining: 890ms\n",
      "208:\tlearn: 0.2201340\ttotal: 235ms\tremaining: 888ms\n",
      "209:\tlearn: 0.2197549\ttotal: 235ms\tremaining: 885ms\n",
      "210:\tlearn: 0.2192668\ttotal: 236ms\tremaining: 883ms\n",
      "211:\tlearn: 0.2185900\ttotal: 237ms\tremaining: 881ms\n",
      "212:\tlearn: 0.2181014\ttotal: 238ms\tremaining: 878ms\n",
      "213:\tlearn: 0.2177459\ttotal: 239ms\tremaining: 876ms\n",
      "214:\tlearn: 0.2173855\ttotal: 239ms\tremaining: 874ms\n",
      "215:\tlearn: 0.2169271\ttotal: 240ms\tremaining: 872ms\n",
      "216:\tlearn: 0.2166261\ttotal: 241ms\tremaining: 870ms\n",
      "217:\tlearn: 0.2163303\ttotal: 242ms\tremaining: 868ms\n",
      "218:\tlearn: 0.2157049\ttotal: 243ms\tremaining: 865ms\n",
      "219:\tlearn: 0.2151360\ttotal: 243ms\tremaining: 863ms\n",
      "220:\tlearn: 0.2144862\ttotal: 244ms\tremaining: 860ms\n",
      "221:\tlearn: 0.2142028\ttotal: 245ms\tremaining: 858ms\n",
      "222:\tlearn: 0.2135104\ttotal: 246ms\tremaining: 856ms\n",
      "223:\tlearn: 0.2130251\ttotal: 246ms\tremaining: 854ms\n",
      "224:\tlearn: 0.2123988\ttotal: 247ms\tremaining: 852ms\n",
      "225:\tlearn: 0.2119124\ttotal: 248ms\tremaining: 851ms\n",
      "226:\tlearn: 0.2112430\ttotal: 249ms\tremaining: 849ms\n",
      "227:\tlearn: 0.2105289\ttotal: 250ms\tremaining: 847ms\n",
      "228:\tlearn: 0.2098462\ttotal: 251ms\tremaining: 844ms\n",
      "229:\tlearn: 0.2094970\ttotal: 251ms\tremaining: 842ms\n",
      "230:\tlearn: 0.2089716\ttotal: 252ms\tremaining: 840ms\n",
      "231:\tlearn: 0.2085081\ttotal: 253ms\tremaining: 838ms\n",
      "232:\tlearn: 0.2081259\ttotal: 254ms\tremaining: 836ms\n",
      "233:\tlearn: 0.2077669\ttotal: 255ms\tremaining: 834ms\n",
      "234:\tlearn: 0.2075229\ttotal: 256ms\tremaining: 832ms\n",
      "235:\tlearn: 0.2071947\ttotal: 256ms\tremaining: 830ms\n",
      "236:\tlearn: 0.2066281\ttotal: 257ms\tremaining: 828ms\n",
      "237:\tlearn: 0.2063959\ttotal: 258ms\tremaining: 826ms\n",
      "238:\tlearn: 0.2061572\ttotal: 259ms\tremaining: 824ms\n",
      "239:\tlearn: 0.2057391\ttotal: 260ms\tremaining: 822ms\n",
      "240:\tlearn: 0.2051212\ttotal: 260ms\tremaining: 820ms\n",
      "241:\tlearn: 0.2046755\ttotal: 261ms\tremaining: 818ms\n",
      "242:\tlearn: 0.2042503\ttotal: 262ms\tremaining: 816ms\n",
      "243:\tlearn: 0.2037442\ttotal: 263ms\tremaining: 814ms\n",
      "244:\tlearn: 0.2033525\ttotal: 263ms\tremaining: 812ms\n",
      "245:\tlearn: 0.2029357\ttotal: 264ms\tremaining: 811ms\n",
      "246:\tlearn: 0.2025495\ttotal: 265ms\tremaining: 809ms\n",
      "247:\tlearn: 0.2019172\ttotal: 266ms\tremaining: 807ms\n",
      "248:\tlearn: 0.2015880\ttotal: 267ms\tremaining: 805ms\n",
      "249:\tlearn: 0.2013956\ttotal: 268ms\tremaining: 804ms\n",
      "250:\tlearn: 0.2010898\ttotal: 269ms\tremaining: 802ms\n",
      "251:\tlearn: 0.2003807\ttotal: 269ms\tremaining: 800ms\n",
      "252:\tlearn: 0.2001427\ttotal: 270ms\tremaining: 798ms\n",
      "253:\tlearn: 0.1995869\ttotal: 271ms\tremaining: 797ms\n",
      "254:\tlearn: 0.1990717\ttotal: 272ms\tremaining: 795ms\n",
      "255:\tlearn: 0.1988599\ttotal: 273ms\tremaining: 793ms\n",
      "256:\tlearn: 0.1986349\ttotal: 274ms\tremaining: 792ms\n",
      "257:\tlearn: 0.1984185\ttotal: 275ms\tremaining: 790ms\n",
      "258:\tlearn: 0.1981203\ttotal: 276ms\tremaining: 789ms\n",
      "259:\tlearn: 0.1974425\ttotal: 277ms\tremaining: 787ms\n",
      "260:\tlearn: 0.1968711\ttotal: 277ms\tremaining: 785ms\n",
      "261:\tlearn: 0.1966554\ttotal: 278ms\tremaining: 783ms\n",
      "262:\tlearn: 0.1960423\ttotal: 279ms\tremaining: 782ms\n",
      "263:\tlearn: 0.1954881\ttotal: 280ms\tremaining: 780ms\n",
      "264:\tlearn: 0.1949399\ttotal: 281ms\tremaining: 778ms\n",
      "265:\tlearn: 0.1942993\ttotal: 281ms\tremaining: 777ms\n",
      "266:\tlearn: 0.1936997\ttotal: 282ms\tremaining: 775ms\n",
      "267:\tlearn: 0.1934674\ttotal: 283ms\tremaining: 773ms\n",
      "268:\tlearn: 0.1928656\ttotal: 284ms\tremaining: 771ms\n",
      "269:\tlearn: 0.1924233\ttotal: 285ms\tremaining: 770ms\n",
      "270:\tlearn: 0.1920720\ttotal: 285ms\tremaining: 768ms\n",
      "271:\tlearn: 0.1916361\ttotal: 286ms\tremaining: 766ms\n",
      "272:\tlearn: 0.1910845\ttotal: 287ms\tremaining: 764ms\n",
      "273:\tlearn: 0.1908483\ttotal: 288ms\tremaining: 763ms\n",
      "274:\tlearn: 0.1906140\ttotal: 289ms\tremaining: 761ms\n",
      "275:\tlearn: 0.1900191\ttotal: 290ms\tremaining: 760ms\n",
      "276:\tlearn: 0.1894790\ttotal: 290ms\tremaining: 758ms\n",
      "277:\tlearn: 0.1892122\ttotal: 291ms\tremaining: 756ms\n",
      "278:\tlearn: 0.1886185\ttotal: 292ms\tremaining: 755ms\n",
      "279:\tlearn: 0.1881474\ttotal: 293ms\tremaining: 753ms\n",
      "280:\tlearn: 0.1879246\ttotal: 294ms\tremaining: 752ms\n",
      "281:\tlearn: 0.1873199\ttotal: 295ms\tremaining: 750ms\n",
      "282:\tlearn: 0.1867958\ttotal: 295ms\tremaining: 749ms\n",
      "283:\tlearn: 0.1863365\ttotal: 296ms\tremaining: 747ms\n",
      "284:\tlearn: 0.1856952\ttotal: 297ms\tremaining: 745ms\n",
      "285:\tlearn: 0.1853123\ttotal: 298ms\tremaining: 743ms\n",
      "286:\tlearn: 0.1848240\ttotal: 298ms\tremaining: 741ms\n"
     ]
    },
    {
     "name": "stdout",
     "output_type": "stream",
     "text": [
      "287:\tlearn: 0.1845925\ttotal: 299ms\tremaining: 740ms\n",
      "288:\tlearn: 0.1841838\ttotal: 300ms\tremaining: 739ms\n",
      "289:\tlearn: 0.1839594\ttotal: 301ms\tremaining: 737ms\n",
      "290:\tlearn: 0.1834980\ttotal: 302ms\tremaining: 736ms\n",
      "291:\tlearn: 0.1830155\ttotal: 303ms\tremaining: 735ms\n",
      "292:\tlearn: 0.1825334\ttotal: 304ms\tremaining: 733ms\n",
      "293:\tlearn: 0.1821009\ttotal: 305ms\tremaining: 731ms\n",
      "294:\tlearn: 0.1816102\ttotal: 305ms\tremaining: 730ms\n",
      "295:\tlearn: 0.1814305\ttotal: 306ms\tremaining: 728ms\n",
      "296:\tlearn: 0.1812593\ttotal: 307ms\tremaining: 727ms\n",
      "297:\tlearn: 0.1811310\ttotal: 308ms\tremaining: 725ms\n",
      "298:\tlearn: 0.1808091\ttotal: 309ms\tremaining: 723ms\n",
      "299:\tlearn: 0.1805950\ttotal: 309ms\tremaining: 722ms\n",
      "300:\tlearn: 0.1804167\ttotal: 310ms\tremaining: 721ms\n",
      "301:\tlearn: 0.1799246\ttotal: 311ms\tremaining: 719ms\n",
      "302:\tlearn: 0.1795353\ttotal: 312ms\tremaining: 718ms\n",
      "303:\tlearn: 0.1793646\ttotal: 313ms\tremaining: 716ms\n",
      "304:\tlearn: 0.1791415\ttotal: 314ms\tremaining: 715ms\n",
      "305:\tlearn: 0.1786508\ttotal: 314ms\tremaining: 713ms\n",
      "306:\tlearn: 0.1782934\ttotal: 315ms\tremaining: 712ms\n",
      "307:\tlearn: 0.1778100\ttotal: 316ms\tremaining: 710ms\n",
      "308:\tlearn: 0.1774241\ttotal: 317ms\tremaining: 708ms\n",
      "309:\tlearn: 0.1772410\ttotal: 318ms\tremaining: 707ms\n",
      "310:\tlearn: 0.1767278\ttotal: 318ms\tremaining: 706ms\n",
      "311:\tlearn: 0.1763547\ttotal: 319ms\tremaining: 704ms\n",
      "312:\tlearn: 0.1762600\ttotal: 320ms\tremaining: 703ms\n",
      "313:\tlearn: 0.1759507\ttotal: 321ms\tremaining: 702ms\n",
      "314:\tlearn: 0.1754797\ttotal: 322ms\tremaining: 700ms\n",
      "315:\tlearn: 0.1752815\ttotal: 323ms\tremaining: 698ms\n",
      "316:\tlearn: 0.1747982\ttotal: 323ms\tremaining: 697ms\n",
      "317:\tlearn: 0.1744156\ttotal: 324ms\tremaining: 695ms\n",
      "318:\tlearn: 0.1743128\ttotal: 325ms\tremaining: 694ms\n",
      "319:\tlearn: 0.1741065\ttotal: 326ms\tremaining: 692ms\n",
      "320:\tlearn: 0.1739580\ttotal: 326ms\tremaining: 691ms\n",
      "321:\tlearn: 0.1735624\ttotal: 327ms\tremaining: 689ms\n",
      "322:\tlearn: 0.1733501\ttotal: 328ms\tremaining: 688ms\n",
      "323:\tlearn: 0.1728808\ttotal: 329ms\tremaining: 686ms\n",
      "324:\tlearn: 0.1726813\ttotal: 330ms\tremaining: 685ms\n",
      "325:\tlearn: 0.1723172\ttotal: 331ms\tremaining: 684ms\n",
      "326:\tlearn: 0.1721515\ttotal: 331ms\tremaining: 682ms\n",
      "327:\tlearn: 0.1715840\ttotal: 332ms\tremaining: 681ms\n",
      "328:\tlearn: 0.1710210\ttotal: 333ms\tremaining: 679ms\n",
      "329:\tlearn: 0.1708697\ttotal: 334ms\tremaining: 677ms\n",
      "330:\tlearn: 0.1703242\ttotal: 334ms\tremaining: 676ms\n",
      "331:\tlearn: 0.1698752\ttotal: 335ms\tremaining: 674ms\n",
      "332:\tlearn: 0.1696689\ttotal: 336ms\tremaining: 673ms\n",
      "333:\tlearn: 0.1692527\ttotal: 337ms\tremaining: 672ms\n",
      "334:\tlearn: 0.1688912\ttotal: 338ms\tremaining: 671ms\n",
      "335:\tlearn: 0.1685337\ttotal: 339ms\tremaining: 669ms\n",
      "336:\tlearn: 0.1681360\ttotal: 339ms\tremaining: 668ms\n",
      "337:\tlearn: 0.1677758\ttotal: 340ms\tremaining: 667ms\n",
      "338:\tlearn: 0.1673364\ttotal: 341ms\tremaining: 665ms\n",
      "339:\tlearn: 0.1668582\ttotal: 342ms\tremaining: 664ms\n",
      "340:\tlearn: 0.1666563\ttotal: 343ms\tremaining: 662ms\n",
      "341:\tlearn: 0.1664268\ttotal: 344ms\tremaining: 661ms\n",
      "342:\tlearn: 0.1662691\ttotal: 344ms\tremaining: 660ms\n",
      "343:\tlearn: 0.1657691\ttotal: 345ms\tremaining: 658ms\n",
      "344:\tlearn: 0.1655265\ttotal: 346ms\tremaining: 657ms\n",
      "345:\tlearn: 0.1653310\ttotal: 347ms\tremaining: 656ms\n",
      "346:\tlearn: 0.1651882\ttotal: 348ms\tremaining: 654ms\n",
      "347:\tlearn: 0.1648337\ttotal: 348ms\tremaining: 653ms\n",
      "348:\tlearn: 0.1645159\ttotal: 349ms\tremaining: 651ms\n",
      "349:\tlearn: 0.1643804\ttotal: 350ms\tremaining: 650ms\n",
      "350:\tlearn: 0.1638850\ttotal: 351ms\tremaining: 649ms\n",
      "351:\tlearn: 0.1637144\ttotal: 352ms\tremaining: 647ms\n",
      "352:\tlearn: 0.1636009\ttotal: 352ms\tremaining: 646ms\n",
      "353:\tlearn: 0.1632770\ttotal: 353ms\tremaining: 645ms\n",
      "354:\tlearn: 0.1630329\ttotal: 355ms\tremaining: 644ms\n",
      "355:\tlearn: 0.1625700\ttotal: 356ms\tremaining: 643ms\n",
      "356:\tlearn: 0.1622709\ttotal: 356ms\tremaining: 642ms\n",
      "357:\tlearn: 0.1620706\ttotal: 357ms\tremaining: 641ms\n",
      "358:\tlearn: 0.1617967\ttotal: 358ms\tremaining: 639ms\n",
      "359:\tlearn: 0.1614536\ttotal: 359ms\tremaining: 638ms\n",
      "360:\tlearn: 0.1610486\ttotal: 360ms\tremaining: 637ms\n",
      "361:\tlearn: 0.1608555\ttotal: 361ms\tremaining: 635ms\n",
      "362:\tlearn: 0.1604876\ttotal: 361ms\tremaining: 634ms\n",
      "363:\tlearn: 0.1603258\ttotal: 362ms\tremaining: 633ms\n",
      "364:\tlearn: 0.1601641\ttotal: 363ms\tremaining: 631ms\n",
      "365:\tlearn: 0.1600531\ttotal: 364ms\tremaining: 630ms\n",
      "366:\tlearn: 0.1598395\ttotal: 365ms\tremaining: 629ms\n",
      "367:\tlearn: 0.1596130\ttotal: 365ms\tremaining: 628ms\n",
      "368:\tlearn: 0.1593467\ttotal: 366ms\tremaining: 627ms\n",
      "369:\tlearn: 0.1590571\ttotal: 367ms\tremaining: 625ms\n",
      "370:\tlearn: 0.1588446\ttotal: 368ms\tremaining: 624ms\n",
      "371:\tlearn: 0.1586695\ttotal: 369ms\tremaining: 623ms\n",
      "372:\tlearn: 0.1582939\ttotal: 370ms\tremaining: 621ms\n",
      "373:\tlearn: 0.1581471\ttotal: 370ms\tremaining: 620ms\n",
      "374:\tlearn: 0.1577568\ttotal: 371ms\tremaining: 619ms\n",
      "375:\tlearn: 0.1576257\ttotal: 372ms\tremaining: 617ms\n",
      "376:\tlearn: 0.1573078\ttotal: 373ms\tremaining: 616ms\n",
      "377:\tlearn: 0.1570256\ttotal: 374ms\tremaining: 615ms\n",
      "378:\tlearn: 0.1568235\ttotal: 375ms\tremaining: 614ms\n",
      "379:\tlearn: 0.1563052\ttotal: 375ms\tremaining: 612ms\n",
      "380:\tlearn: 0.1558647\ttotal: 376ms\tremaining: 611ms\n",
      "381:\tlearn: 0.1556797\ttotal: 377ms\tremaining: 610ms\n",
      "382:\tlearn: 0.1554140\ttotal: 378ms\tremaining: 609ms\n",
      "383:\tlearn: 0.1550831\ttotal: 379ms\tremaining: 607ms\n",
      "384:\tlearn: 0.1547813\ttotal: 379ms\tremaining: 606ms\n",
      "385:\tlearn: 0.1545086\ttotal: 380ms\tremaining: 605ms\n"
     ]
    },
    {
     "name": "stdout",
     "output_type": "stream",
     "text": [
      "386:\tlearn: 0.1540720\ttotal: 381ms\tremaining: 604ms\n",
      "387:\tlearn: 0.1537787\ttotal: 382ms\tremaining: 603ms\n",
      "388:\tlearn: 0.1537122\ttotal: 383ms\tremaining: 602ms\n",
      "389:\tlearn: 0.1534130\ttotal: 384ms\tremaining: 601ms\n",
      "390:\tlearn: 0.1531387\ttotal: 385ms\tremaining: 600ms\n",
      "391:\tlearn: 0.1530651\ttotal: 386ms\tremaining: 598ms\n",
      "392:\tlearn: 0.1528307\ttotal: 387ms\tremaining: 597ms\n",
      "393:\tlearn: 0.1525893\ttotal: 387ms\tremaining: 596ms\n",
      "394:\tlearn: 0.1523249\ttotal: 388ms\tremaining: 594ms\n",
      "395:\tlearn: 0.1521046\ttotal: 389ms\tremaining: 593ms\n",
      "396:\tlearn: 0.1520035\ttotal: 390ms\tremaining: 592ms\n",
      "397:\tlearn: 0.1516028\ttotal: 391ms\tremaining: 591ms\n",
      "398:\tlearn: 0.1514882\ttotal: 391ms\tremaining: 590ms\n",
      "399:\tlearn: 0.1514448\ttotal: 392ms\tremaining: 588ms\n",
      "400:\tlearn: 0.1510838\ttotal: 393ms\tremaining: 587ms\n",
      "401:\tlearn: 0.1508145\ttotal: 394ms\tremaining: 586ms\n",
      "402:\tlearn: 0.1507272\ttotal: 395ms\tremaining: 585ms\n",
      "403:\tlearn: 0.1505399\ttotal: 396ms\tremaining: 584ms\n",
      "404:\tlearn: 0.1501934\ttotal: 396ms\tremaining: 582ms\n",
      "405:\tlearn: 0.1498458\ttotal: 397ms\tremaining: 581ms\n",
      "406:\tlearn: 0.1496763\ttotal: 398ms\tremaining: 580ms\n",
      "407:\tlearn: 0.1494731\ttotal: 399ms\tremaining: 578ms\n",
      "408:\tlearn: 0.1490602\ttotal: 399ms\tremaining: 577ms\n",
      "409:\tlearn: 0.1487751\ttotal: 400ms\tremaining: 576ms\n",
      "410:\tlearn: 0.1483738\ttotal: 401ms\tremaining: 575ms\n",
      "411:\tlearn: 0.1480934\ttotal: 402ms\tremaining: 574ms\n",
      "412:\tlearn: 0.1478778\ttotal: 403ms\tremaining: 573ms\n",
      "413:\tlearn: 0.1475211\ttotal: 404ms\tremaining: 571ms\n",
      "414:\tlearn: 0.1472533\ttotal: 404ms\tremaining: 570ms\n",
      "415:\tlearn: 0.1468566\ttotal: 405ms\tremaining: 569ms\n",
      "416:\tlearn: 0.1465197\ttotal: 406ms\tremaining: 567ms\n",
      "417:\tlearn: 0.1462905\ttotal: 407ms\tremaining: 566ms\n",
      "418:\tlearn: 0.1459791\ttotal: 407ms\tremaining: 565ms\n",
      "419:\tlearn: 0.1458108\ttotal: 408ms\tremaining: 564ms\n",
      "420:\tlearn: 0.1456221\ttotal: 409ms\tremaining: 563ms\n",
      "421:\tlearn: 0.1453634\ttotal: 410ms\tremaining: 561ms\n",
      "422:\tlearn: 0.1449685\ttotal: 411ms\tremaining: 560ms\n",
      "423:\tlearn: 0.1447457\ttotal: 412ms\tremaining: 559ms\n",
      "424:\tlearn: 0.1443850\ttotal: 412ms\tremaining: 558ms\n",
      "425:\tlearn: 0.1439650\ttotal: 413ms\tremaining: 557ms\n",
      "426:\tlearn: 0.1438756\ttotal: 414ms\tremaining: 556ms\n",
      "427:\tlearn: 0.1435327\ttotal: 415ms\tremaining: 555ms\n",
      "428:\tlearn: 0.1433362\ttotal: 416ms\tremaining: 554ms\n",
      "429:\tlearn: 0.1431422\ttotal: 417ms\tremaining: 553ms\n",
      "430:\tlearn: 0.1429205\ttotal: 418ms\tremaining: 551ms\n",
      "431:\tlearn: 0.1427782\ttotal: 419ms\tremaining: 550ms\n",
      "432:\tlearn: 0.1425511\ttotal: 419ms\tremaining: 549ms\n",
      "433:\tlearn: 0.1424843\ttotal: 420ms\tremaining: 548ms\n",
      "434:\tlearn: 0.1424609\ttotal: 421ms\tremaining: 547ms\n",
      "435:\tlearn: 0.1423254\ttotal: 422ms\tremaining: 546ms\n",
      "436:\tlearn: 0.1422785\ttotal: 423ms\tremaining: 544ms\n",
      "437:\tlearn: 0.1420380\ttotal: 423ms\tremaining: 543ms\n",
      "438:\tlearn: 0.1417027\ttotal: 424ms\tremaining: 542ms\n",
      "439:\tlearn: 0.1416705\ttotal: 425ms\tremaining: 541ms\n",
      "440:\tlearn: 0.1413022\ttotal: 426ms\tremaining: 540ms\n",
      "441:\tlearn: 0.1409192\ttotal: 427ms\tremaining: 539ms\n",
      "442:\tlearn: 0.1407332\ttotal: 427ms\tremaining: 537ms\n",
      "443:\tlearn: 0.1405536\ttotal: 428ms\tremaining: 536ms\n",
      "444:\tlearn: 0.1402780\ttotal: 429ms\tremaining: 535ms\n",
      "445:\tlearn: 0.1401637\ttotal: 430ms\tremaining: 534ms\n",
      "446:\tlearn: 0.1399507\ttotal: 431ms\tremaining: 533ms\n",
      "447:\tlearn: 0.1394402\ttotal: 432ms\tremaining: 532ms\n",
      "448:\tlearn: 0.1393221\ttotal: 432ms\tremaining: 531ms\n",
      "449:\tlearn: 0.1392427\ttotal: 434ms\tremaining: 530ms\n",
      "450:\tlearn: 0.1390648\ttotal: 435ms\tremaining: 529ms\n",
      "451:\tlearn: 0.1390376\ttotal: 435ms\tremaining: 528ms\n",
      "452:\tlearn: 0.1388517\ttotal: 436ms\tremaining: 527ms\n",
      "453:\tlearn: 0.1385603\ttotal: 437ms\tremaining: 525ms\n",
      "454:\tlearn: 0.1381597\ttotal: 438ms\tremaining: 524ms\n",
      "455:\tlearn: 0.1377533\ttotal: 439ms\tremaining: 523ms\n",
      "456:\tlearn: 0.1376185\ttotal: 439ms\tremaining: 522ms\n",
      "457:\tlearn: 0.1373771\ttotal: 440ms\tremaining: 521ms\n",
      "458:\tlearn: 0.1373505\ttotal: 441ms\tremaining: 520ms\n",
      "459:\tlearn: 0.1372495\ttotal: 442ms\tremaining: 519ms\n",
      "460:\tlearn: 0.1370174\ttotal: 443ms\tremaining: 517ms\n",
      "461:\tlearn: 0.1369883\ttotal: 444ms\tremaining: 516ms\n",
      "462:\tlearn: 0.1367415\ttotal: 444ms\tremaining: 515ms\n",
      "463:\tlearn: 0.1365384\ttotal: 445ms\tremaining: 514ms\n",
      "464:\tlearn: 0.1364081\ttotal: 446ms\tremaining: 513ms\n",
      "465:\tlearn: 0.1360165\ttotal: 447ms\tremaining: 512ms\n",
      "466:\tlearn: 0.1358113\ttotal: 447ms\tremaining: 511ms\n",
      "467:\tlearn: 0.1357836\ttotal: 448ms\tremaining: 510ms\n",
      "468:\tlearn: 0.1356025\ttotal: 449ms\tremaining: 508ms\n",
      "469:\tlearn: 0.1354683\ttotal: 450ms\tremaining: 507ms\n",
      "470:\tlearn: 0.1350856\ttotal: 451ms\tremaining: 506ms\n",
      "471:\tlearn: 0.1348965\ttotal: 451ms\tremaining: 505ms\n",
      "472:\tlearn: 0.1348745\ttotal: 452ms\tremaining: 504ms\n",
      "473:\tlearn: 0.1344088\ttotal: 453ms\tremaining: 502ms\n",
      "474:\tlearn: 0.1341263\ttotal: 454ms\tremaining: 501ms\n",
      "475:\tlearn: 0.1338935\ttotal: 454ms\tremaining: 500ms\n",
      "476:\tlearn: 0.1338672\ttotal: 455ms\tremaining: 499ms\n",
      "477:\tlearn: 0.1337459\ttotal: 456ms\tremaining: 498ms\n",
      "478:\tlearn: 0.1335438\ttotal: 457ms\tremaining: 497ms\n",
      "479:\tlearn: 0.1330984\ttotal: 458ms\tremaining: 496ms\n",
      "480:\tlearn: 0.1328734\ttotal: 458ms\tremaining: 494ms\n",
      "481:\tlearn: 0.1326708\ttotal: 459ms\tremaining: 493ms\n",
      "482:\tlearn: 0.1326503\ttotal: 460ms\tremaining: 492ms\n",
      "483:\tlearn: 0.1324562\ttotal: 461ms\tremaining: 491ms\n",
      "484:\tlearn: 0.1324124\ttotal: 461ms\tremaining: 490ms\n",
      "485:\tlearn: 0.1321719\ttotal: 462ms\tremaining: 489ms\n",
      "486:\tlearn: 0.1319565\ttotal: 463ms\tremaining: 488ms\n",
      "487:\tlearn: 0.1316769\ttotal: 464ms\tremaining: 487ms\n",
      "488:\tlearn: 0.1314935\ttotal: 465ms\tremaining: 485ms\n",
      "489:\tlearn: 0.1313278\ttotal: 465ms\tremaining: 484ms\n",
      "490:\tlearn: 0.1310641\ttotal: 466ms\tremaining: 483ms\n",
      "491:\tlearn: 0.1306902\ttotal: 467ms\tremaining: 482ms\n",
      "492:\tlearn: 0.1302496\ttotal: 468ms\tremaining: 481ms\n",
      "493:\tlearn: 0.1299173\ttotal: 469ms\tremaining: 480ms\n",
      "494:\tlearn: 0.1298390\ttotal: 470ms\tremaining: 479ms\n",
      "495:\tlearn: 0.1295329\ttotal: 470ms\tremaining: 478ms\n",
      "496:\tlearn: 0.1292621\ttotal: 471ms\tremaining: 477ms\n",
      "497:\tlearn: 0.1292414\ttotal: 472ms\tremaining: 476ms\n",
      "498:\tlearn: 0.1290103\ttotal: 473ms\tremaining: 475ms\n",
      "499:\tlearn: 0.1289905\ttotal: 473ms\tremaining: 473ms\n",
      "500:\tlearn: 0.1289722\ttotal: 474ms\tremaining: 472ms\n",
      "501:\tlearn: 0.1286124\ttotal: 475ms\tremaining: 471ms\n",
      "502:\tlearn: 0.1283849\ttotal: 476ms\tremaining: 470ms\n",
      "503:\tlearn: 0.1280448\ttotal: 477ms\tremaining: 470ms\n",
      "504:\tlearn: 0.1278383\ttotal: 478ms\tremaining: 469ms\n",
      "505:\tlearn: 0.1276374\ttotal: 480ms\tremaining: 468ms\n",
      "506:\tlearn: 0.1275459\ttotal: 480ms\tremaining: 467ms\n",
      "507:\tlearn: 0.1273386\ttotal: 481ms\tremaining: 466ms\n",
      "508:\tlearn: 0.1271019\ttotal: 482ms\tremaining: 465ms\n",
      "509:\tlearn: 0.1269209\ttotal: 483ms\tremaining: 464ms\n",
      "510:\tlearn: 0.1268936\ttotal: 484ms\tremaining: 463ms\n",
      "511:\tlearn: 0.1266434\ttotal: 484ms\tremaining: 462ms\n",
      "512:\tlearn: 0.1262603\ttotal: 485ms\tremaining: 461ms\n",
      "513:\tlearn: 0.1258817\ttotal: 486ms\tremaining: 460ms\n",
      "514:\tlearn: 0.1255161\ttotal: 487ms\tremaining: 459ms\n",
      "515:\tlearn: 0.1253495\ttotal: 488ms\tremaining: 457ms\n",
      "516:\tlearn: 0.1250036\ttotal: 489ms\tremaining: 457ms\n"
     ]
    },
    {
     "name": "stdout",
     "output_type": "stream",
     "text": [
      "517:\tlearn: 0.1246792\ttotal: 490ms\tremaining: 456ms\n",
      "518:\tlearn: 0.1243553\ttotal: 490ms\tremaining: 455ms\n",
      "519:\tlearn: 0.1240729\ttotal: 491ms\tremaining: 454ms\n",
      "520:\tlearn: 0.1239135\ttotal: 492ms\tremaining: 453ms\n",
      "521:\tlearn: 0.1237231\ttotal: 493ms\tremaining: 452ms\n",
      "522:\tlearn: 0.1235280\ttotal: 494ms\tremaining: 451ms\n",
      "523:\tlearn: 0.1233187\ttotal: 495ms\tremaining: 450ms\n",
      "524:\tlearn: 0.1231561\ttotal: 496ms\tremaining: 449ms\n",
      "525:\tlearn: 0.1229604\ttotal: 497ms\tremaining: 447ms\n",
      "526:\tlearn: 0.1225991\ttotal: 497ms\tremaining: 446ms\n",
      "527:\tlearn: 0.1223122\ttotal: 498ms\tremaining: 445ms\n",
      "528:\tlearn: 0.1220363\ttotal: 499ms\tremaining: 444ms\n",
      "529:\tlearn: 0.1218395\ttotal: 500ms\tremaining: 443ms\n",
      "530:\tlearn: 0.1216187\ttotal: 501ms\tremaining: 442ms\n",
      "531:\tlearn: 0.1216023\ttotal: 502ms\tremaining: 441ms\n",
      "532:\tlearn: 0.1214679\ttotal: 503ms\tremaining: 440ms\n",
      "533:\tlearn: 0.1210708\ttotal: 503ms\tremaining: 439ms\n",
      "534:\tlearn: 0.1209460\ttotal: 504ms\tremaining: 438ms\n",
      "535:\tlearn: 0.1206383\ttotal: 505ms\tremaining: 437ms\n",
      "536:\tlearn: 0.1204001\ttotal: 506ms\tremaining: 436ms\n",
      "537:\tlearn: 0.1201514\ttotal: 507ms\tremaining: 435ms\n",
      "538:\tlearn: 0.1200279\ttotal: 507ms\tremaining: 434ms\n",
      "539:\tlearn: 0.1197549\ttotal: 508ms\tremaining: 433ms\n",
      "540:\tlearn: 0.1194702\ttotal: 509ms\tremaining: 432ms\n",
      "541:\tlearn: 0.1192187\ttotal: 510ms\tremaining: 431ms\n",
      "542:\tlearn: 0.1188617\ttotal: 511ms\tremaining: 430ms\n",
      "543:\tlearn: 0.1186134\ttotal: 512ms\tremaining: 429ms\n",
      "544:\tlearn: 0.1182312\ttotal: 512ms\tremaining: 428ms\n",
      "545:\tlearn: 0.1179791\ttotal: 513ms\tremaining: 427ms\n",
      "546:\tlearn: 0.1178056\ttotal: 514ms\tremaining: 426ms\n",
      "547:\tlearn: 0.1175294\ttotal: 515ms\tremaining: 425ms\n",
      "548:\tlearn: 0.1172707\ttotal: 515ms\tremaining: 423ms\n",
      "549:\tlearn: 0.1168371\ttotal: 516ms\tremaining: 422ms\n",
      "550:\tlearn: 0.1166261\ttotal: 517ms\tremaining: 421ms\n",
      "551:\tlearn: 0.1163079\ttotal: 518ms\tremaining: 420ms\n",
      "552:\tlearn: 0.1162849\ttotal: 519ms\tremaining: 419ms\n",
      "553:\tlearn: 0.1161426\ttotal: 520ms\tremaining: 418ms\n",
      "554:\tlearn: 0.1158500\ttotal: 520ms\tremaining: 417ms\n",
      "555:\tlearn: 0.1156503\ttotal: 521ms\tremaining: 416ms\n",
      "556:\tlearn: 0.1154676\ttotal: 522ms\tremaining: 415ms\n",
      "557:\tlearn: 0.1153831\ttotal: 523ms\tremaining: 414ms\n",
      "558:\tlearn: 0.1153592\ttotal: 524ms\tremaining: 413ms\n",
      "559:\tlearn: 0.1152261\ttotal: 525ms\tremaining: 412ms\n",
      "560:\tlearn: 0.1148939\ttotal: 526ms\tremaining: 411ms\n",
      "561:\tlearn: 0.1144985\ttotal: 526ms\tremaining: 410ms\n",
      "562:\tlearn: 0.1143413\ttotal: 527ms\tremaining: 409ms\n",
      "563:\tlearn: 0.1140663\ttotal: 528ms\tremaining: 408ms\n",
      "564:\tlearn: 0.1137795\ttotal: 529ms\tremaining: 407ms\n",
      "565:\tlearn: 0.1135362\ttotal: 529ms\tremaining: 406ms\n",
      "566:\tlearn: 0.1133851\ttotal: 530ms\tremaining: 405ms\n",
      "567:\tlearn: 0.1130656\ttotal: 531ms\tremaining: 404ms\n",
      "568:\tlearn: 0.1128632\ttotal: 532ms\tremaining: 403ms\n",
      "569:\tlearn: 0.1125915\ttotal: 533ms\tremaining: 402ms\n",
      "570:\tlearn: 0.1124647\ttotal: 534ms\tremaining: 401ms\n",
      "571:\tlearn: 0.1124324\ttotal: 534ms\tremaining: 400ms\n",
      "572:\tlearn: 0.1122998\ttotal: 535ms\tremaining: 399ms\n",
      "573:\tlearn: 0.1121692\ttotal: 536ms\tremaining: 398ms\n",
      "574:\tlearn: 0.1119045\ttotal: 537ms\tremaining: 397ms\n",
      "575:\tlearn: 0.1118900\ttotal: 538ms\tremaining: 396ms\n",
      "576:\tlearn: 0.1118751\ttotal: 538ms\tremaining: 395ms\n",
      "577:\tlearn: 0.1116905\ttotal: 539ms\tremaining: 394ms\n",
      "578:\tlearn: 0.1114389\ttotal: 540ms\tremaining: 393ms\n",
      "579:\tlearn: 0.1112282\ttotal: 541ms\tremaining: 392ms\n",
      "580:\tlearn: 0.1109876\ttotal: 542ms\tremaining: 391ms\n",
      "581:\tlearn: 0.1106835\ttotal: 543ms\tremaining: 390ms\n",
      "582:\tlearn: 0.1106202\ttotal: 544ms\tremaining: 389ms\n",
      "583:\tlearn: 0.1104697\ttotal: 545ms\tremaining: 388ms\n",
      "584:\tlearn: 0.1102698\ttotal: 546ms\tremaining: 387ms\n",
      "585:\tlearn: 0.1100233\ttotal: 546ms\tremaining: 386ms\n",
      "586:\tlearn: 0.1098842\ttotal: 547ms\tremaining: 385ms\n",
      "587:\tlearn: 0.1098643\ttotal: 548ms\tremaining: 384ms\n",
      "588:\tlearn: 0.1098502\ttotal: 549ms\tremaining: 383ms\n",
      "589:\tlearn: 0.1096496\ttotal: 550ms\tremaining: 382ms\n",
      "590:\tlearn: 0.1094827\ttotal: 550ms\tremaining: 381ms\n",
      "591:\tlearn: 0.1093762\ttotal: 551ms\tremaining: 380ms\n",
      "592:\tlearn: 0.1092149\ttotal: 552ms\tremaining: 379ms\n",
      "593:\tlearn: 0.1090809\ttotal: 553ms\tremaining: 378ms\n",
      "594:\tlearn: 0.1088447\ttotal: 554ms\tremaining: 377ms\n",
      "595:\tlearn: 0.1085989\ttotal: 555ms\tremaining: 376ms\n",
      "596:\tlearn: 0.1084397\ttotal: 556ms\tremaining: 375ms\n",
      "597:\tlearn: 0.1083906\ttotal: 557ms\tremaining: 374ms\n",
      "598:\tlearn: 0.1082119\ttotal: 558ms\tremaining: 374ms\n",
      "599:\tlearn: 0.1081088\ttotal: 559ms\tremaining: 373ms\n",
      "600:\tlearn: 0.1079351\ttotal: 561ms\tremaining: 372ms\n",
      "601:\tlearn: 0.1076853\ttotal: 562ms\tremaining: 371ms\n",
      "602:\tlearn: 0.1075565\ttotal: 562ms\tremaining: 370ms\n",
      "603:\tlearn: 0.1072386\ttotal: 563ms\tremaining: 369ms\n",
      "604:\tlearn: 0.1070648\ttotal: 564ms\tremaining: 368ms\n",
      "605:\tlearn: 0.1068336\ttotal: 565ms\tremaining: 367ms\n",
      "606:\tlearn: 0.1065956\ttotal: 566ms\tremaining: 366ms\n",
      "607:\tlearn: 0.1063409\ttotal: 566ms\tremaining: 365ms\n",
      "608:\tlearn: 0.1063127\ttotal: 567ms\tremaining: 364ms\n",
      "609:\tlearn: 0.1061236\ttotal: 568ms\tremaining: 363ms\n",
      "610:\tlearn: 0.1059883\ttotal: 570ms\tremaining: 363ms\n",
      "611:\tlearn: 0.1059761\ttotal: 571ms\tremaining: 362ms\n"
     ]
    },
    {
     "name": "stdout",
     "output_type": "stream",
     "text": [
      "612:\tlearn: 0.1058905\ttotal: 572ms\tremaining: 361ms\n",
      "613:\tlearn: 0.1058324\ttotal: 572ms\tremaining: 360ms\n",
      "614:\tlearn: 0.1058197\ttotal: 573ms\tremaining: 359ms\n",
      "615:\tlearn: 0.1055541\ttotal: 574ms\tremaining: 358ms\n",
      "616:\tlearn: 0.1054043\ttotal: 575ms\tremaining: 357ms\n",
      "617:\tlearn: 0.1053293\ttotal: 576ms\tremaining: 356ms\n",
      "618:\tlearn: 0.1051938\ttotal: 576ms\tremaining: 355ms\n",
      "619:\tlearn: 0.1050068\ttotal: 577ms\tremaining: 354ms\n",
      "620:\tlearn: 0.1049289\ttotal: 578ms\tremaining: 353ms\n",
      "621:\tlearn: 0.1046588\ttotal: 579ms\tremaining: 352ms\n",
      "622:\tlearn: 0.1044969\ttotal: 580ms\tremaining: 351ms\n",
      "623:\tlearn: 0.1043078\ttotal: 581ms\tremaining: 350ms\n",
      "624:\tlearn: 0.1040484\ttotal: 581ms\tremaining: 349ms\n",
      "625:\tlearn: 0.1038649\ttotal: 582ms\tremaining: 348ms\n",
      "626:\tlearn: 0.1036183\ttotal: 583ms\tremaining: 347ms\n",
      "627:\tlearn: 0.1033999\ttotal: 584ms\tremaining: 346ms\n",
      "628:\tlearn: 0.1031059\ttotal: 585ms\tremaining: 345ms\n",
      "629:\tlearn: 0.1029406\ttotal: 586ms\tremaining: 344ms\n",
      "630:\tlearn: 0.1027585\ttotal: 586ms\tremaining: 343ms\n",
      "631:\tlearn: 0.1025872\ttotal: 587ms\tremaining: 342ms\n",
      "632:\tlearn: 0.1023725\ttotal: 588ms\tremaining: 341ms\n",
      "633:\tlearn: 0.1021792\ttotal: 589ms\tremaining: 340ms\n",
      "634:\tlearn: 0.1019919\ttotal: 590ms\tremaining: 339ms\n",
      "635:\tlearn: 0.1018094\ttotal: 591ms\tremaining: 338ms\n",
      "636:\tlearn: 0.1017802\ttotal: 592ms\tremaining: 337ms\n",
      "637:\tlearn: 0.1016063\ttotal: 593ms\tremaining: 336ms\n",
      "638:\tlearn: 0.1013742\ttotal: 594ms\tremaining: 335ms\n",
      "639:\tlearn: 0.1012345\ttotal: 594ms\tremaining: 334ms\n",
      "640:\tlearn: 0.1010858\ttotal: 595ms\tremaining: 333ms\n",
      "641:\tlearn: 0.1008703\ttotal: 596ms\tremaining: 332ms\n",
      "642:\tlearn: 0.1006037\ttotal: 597ms\tremaining: 331ms\n",
      "643:\tlearn: 0.1004530\ttotal: 598ms\tremaining: 330ms\n",
      "644:\tlearn: 0.1002159\ttotal: 599ms\tremaining: 329ms\n",
      "645:\tlearn: 0.1000096\ttotal: 600ms\tremaining: 329ms\n",
      "646:\tlearn: 0.0999364\ttotal: 600ms\tremaining: 327ms\n",
      "647:\tlearn: 0.0997078\ttotal: 601ms\tremaining: 326ms\n",
      "648:\tlearn: 0.0995619\ttotal: 602ms\tremaining: 325ms\n",
      "649:\tlearn: 0.0993326\ttotal: 603ms\tremaining: 324ms\n",
      "650:\tlearn: 0.0990977\ttotal: 603ms\tremaining: 323ms\n",
      "651:\tlearn: 0.0989722\ttotal: 604ms\tremaining: 322ms\n",
      "652:\tlearn: 0.0987084\ttotal: 605ms\tremaining: 322ms\n",
      "653:\tlearn: 0.0985684\ttotal: 606ms\tremaining: 321ms\n",
      "654:\tlearn: 0.0983810\ttotal: 607ms\tremaining: 320ms\n",
      "655:\tlearn: 0.0981323\ttotal: 608ms\tremaining: 319ms\n",
      "656:\tlearn: 0.0980187\ttotal: 608ms\tremaining: 318ms\n",
      "657:\tlearn: 0.0978894\ttotal: 609ms\tremaining: 317ms\n",
      "658:\tlearn: 0.0977637\ttotal: 610ms\tremaining: 316ms\n",
      "659:\tlearn: 0.0975977\ttotal: 611ms\tremaining: 315ms\n",
      "660:\tlearn: 0.0973982\ttotal: 612ms\tremaining: 314ms\n",
      "661:\tlearn: 0.0972750\ttotal: 613ms\tremaining: 313ms\n",
      "662:\tlearn: 0.0972097\ttotal: 613ms\tremaining: 312ms\n",
      "663:\tlearn: 0.0970233\ttotal: 614ms\tremaining: 311ms\n",
      "664:\tlearn: 0.0967804\ttotal: 615ms\tremaining: 310ms\n",
      "665:\tlearn: 0.0966453\ttotal: 616ms\tremaining: 309ms\n",
      "666:\tlearn: 0.0965299\ttotal: 617ms\tremaining: 308ms\n",
      "667:\tlearn: 0.0964126\ttotal: 618ms\tremaining: 307ms\n",
      "668:\tlearn: 0.0964024\ttotal: 619ms\tremaining: 306ms\n",
      "669:\tlearn: 0.0962030\ttotal: 619ms\tremaining: 305ms\n",
      "670:\tlearn: 0.0960106\ttotal: 620ms\tremaining: 304ms\n",
      "671:\tlearn: 0.0958051\ttotal: 621ms\tremaining: 303ms\n",
      "672:\tlearn: 0.0956812\ttotal: 621ms\tremaining: 302ms\n",
      "673:\tlearn: 0.0955907\ttotal: 622ms\tremaining: 301ms\n",
      "674:\tlearn: 0.0953564\ttotal: 623ms\tremaining: 300ms\n",
      "675:\tlearn: 0.0951574\ttotal: 624ms\tremaining: 299ms\n",
      "676:\tlearn: 0.0951102\ttotal: 625ms\tremaining: 298ms\n",
      "677:\tlearn: 0.0949643\ttotal: 626ms\tremaining: 297ms\n",
      "678:\tlearn: 0.0948439\ttotal: 627ms\tremaining: 296ms\n",
      "679:\tlearn: 0.0946251\ttotal: 627ms\tremaining: 295ms\n",
      "680:\tlearn: 0.0944632\ttotal: 628ms\tremaining: 294ms\n",
      "681:\tlearn: 0.0942389\ttotal: 629ms\tremaining: 293ms\n",
      "682:\tlearn: 0.0940292\ttotal: 630ms\tremaining: 292ms\n",
      "683:\tlearn: 0.0938952\ttotal: 631ms\tremaining: 292ms\n",
      "684:\tlearn: 0.0938842\ttotal: 632ms\tremaining: 291ms\n",
      "685:\tlearn: 0.0936550\ttotal: 633ms\tremaining: 290ms\n",
      "686:\tlearn: 0.0935193\ttotal: 633ms\tremaining: 289ms\n",
      "687:\tlearn: 0.0933416\ttotal: 634ms\tremaining: 288ms\n",
      "688:\tlearn: 0.0931787\ttotal: 635ms\tremaining: 287ms\n",
      "689:\tlearn: 0.0930312\ttotal: 636ms\tremaining: 286ms\n",
      "690:\tlearn: 0.0927731\ttotal: 637ms\tremaining: 285ms\n",
      "691:\tlearn: 0.0926888\ttotal: 638ms\tremaining: 284ms\n",
      "692:\tlearn: 0.0926104\ttotal: 638ms\tremaining: 283ms\n",
      "693:\tlearn: 0.0924661\ttotal: 639ms\tremaining: 282ms\n",
      "694:\tlearn: 0.0923860\ttotal: 640ms\tremaining: 281ms\n",
      "695:\tlearn: 0.0921569\ttotal: 641ms\tremaining: 280ms\n",
      "696:\tlearn: 0.0920900\ttotal: 641ms\tremaining: 279ms\n",
      "697:\tlearn: 0.0918676\ttotal: 642ms\tremaining: 278ms\n",
      "698:\tlearn: 0.0917791\ttotal: 643ms\tremaining: 277ms\n",
      "699:\tlearn: 0.0916697\ttotal: 644ms\tremaining: 276ms\n",
      "700:\tlearn: 0.0916614\ttotal: 645ms\tremaining: 275ms\n",
      "701:\tlearn: 0.0915507\ttotal: 646ms\tremaining: 274ms\n",
      "702:\tlearn: 0.0915104\ttotal: 646ms\tremaining: 273ms\n",
      "703:\tlearn: 0.0914476\ttotal: 647ms\tremaining: 272ms\n",
      "704:\tlearn: 0.0913668\ttotal: 648ms\tremaining: 271ms\n",
      "705:\tlearn: 0.0911779\ttotal: 649ms\tremaining: 270ms\n",
      "706:\tlearn: 0.0909605\ttotal: 650ms\tremaining: 269ms\n",
      "707:\tlearn: 0.0908728\ttotal: 651ms\tremaining: 268ms\n",
      "708:\tlearn: 0.0908472\ttotal: 652ms\tremaining: 268ms\n",
      "709:\tlearn: 0.0905993\ttotal: 653ms\tremaining: 267ms\n",
      "710:\tlearn: 0.0905043\ttotal: 653ms\tremaining: 266ms\n",
      "711:\tlearn: 0.0902631\ttotal: 654ms\tremaining: 265ms\n",
      "712:\tlearn: 0.0900714\ttotal: 655ms\tremaining: 264ms\n",
      "713:\tlearn: 0.0899461\ttotal: 656ms\tremaining: 263ms\n",
      "714:\tlearn: 0.0897475\ttotal: 656ms\tremaining: 262ms\n",
      "715:\tlearn: 0.0895870\ttotal: 657ms\tremaining: 261ms\n",
      "716:\tlearn: 0.0893927\ttotal: 659ms\tremaining: 260ms\n",
      "717:\tlearn: 0.0893689\ttotal: 659ms\tremaining: 259ms\n",
      "718:\tlearn: 0.0892800\ttotal: 660ms\tremaining: 258ms\n",
      "719:\tlearn: 0.0891748\ttotal: 661ms\tremaining: 257ms\n",
      "720:\tlearn: 0.0890143\ttotal: 662ms\tremaining: 256ms\n",
      "721:\tlearn: 0.0888782\ttotal: 663ms\tremaining: 255ms\n",
      "722:\tlearn: 0.0887132\ttotal: 664ms\tremaining: 254ms\n",
      "723:\tlearn: 0.0886308\ttotal: 665ms\tremaining: 253ms\n",
      "724:\tlearn: 0.0884595\ttotal: 665ms\tremaining: 252ms\n",
      "725:\tlearn: 0.0883633\ttotal: 666ms\tremaining: 251ms\n",
      "726:\tlearn: 0.0882206\ttotal: 667ms\tremaining: 251ms\n",
      "727:\tlearn: 0.0881544\ttotal: 668ms\tremaining: 250ms\n",
      "728:\tlearn: 0.0880117\ttotal: 669ms\tremaining: 249ms\n",
      "729:\tlearn: 0.0877999\ttotal: 670ms\tremaining: 248ms\n",
      "730:\tlearn: 0.0876388\ttotal: 670ms\tremaining: 247ms\n",
      "731:\tlearn: 0.0875277\ttotal: 671ms\tremaining: 246ms\n",
      "732:\tlearn: 0.0874266\ttotal: 672ms\tremaining: 245ms\n",
      "733:\tlearn: 0.0873896\ttotal: 673ms\tremaining: 244ms\n",
      "734:\tlearn: 0.0872537\ttotal: 674ms\tremaining: 243ms\n",
      "735:\tlearn: 0.0871078\ttotal: 674ms\tremaining: 242ms\n",
      "736:\tlearn: 0.0869207\ttotal: 675ms\tremaining: 241ms\n",
      "737:\tlearn: 0.0868751\ttotal: 676ms\tremaining: 240ms\n",
      "738:\tlearn: 0.0867287\ttotal: 677ms\tremaining: 239ms\n",
      "739:\tlearn: 0.0866305\ttotal: 678ms\tremaining: 238ms\n",
      "740:\tlearn: 0.0864893\ttotal: 679ms\tremaining: 237ms\n",
      "741:\tlearn: 0.0863341\ttotal: 679ms\tremaining: 236ms\n"
     ]
    },
    {
     "name": "stdout",
     "output_type": "stream",
     "text": [
      "742:\tlearn: 0.0862597\ttotal: 680ms\tremaining: 235ms\n",
      "743:\tlearn: 0.0861421\ttotal: 681ms\tremaining: 234ms\n",
      "744:\tlearn: 0.0860263\ttotal: 682ms\tremaining: 233ms\n",
      "745:\tlearn: 0.0860001\ttotal: 683ms\tremaining: 232ms\n",
      "746:\tlearn: 0.0859489\ttotal: 684ms\tremaining: 231ms\n",
      "747:\tlearn: 0.0858936\ttotal: 684ms\tremaining: 231ms\n",
      "748:\tlearn: 0.0857312\ttotal: 685ms\tremaining: 230ms\n",
      "749:\tlearn: 0.0856332\ttotal: 686ms\tremaining: 229ms\n",
      "750:\tlearn: 0.0856259\ttotal: 687ms\tremaining: 228ms\n",
      "751:\tlearn: 0.0854635\ttotal: 688ms\tremaining: 227ms\n",
      "752:\tlearn: 0.0853939\ttotal: 688ms\tremaining: 226ms\n",
      "753:\tlearn: 0.0852310\ttotal: 689ms\tremaining: 225ms\n",
      "754:\tlearn: 0.0850018\ttotal: 690ms\tremaining: 224ms\n",
      "755:\tlearn: 0.0849214\ttotal: 691ms\tremaining: 223ms\n",
      "756:\tlearn: 0.0848469\ttotal: 692ms\tremaining: 222ms\n",
      "757:\tlearn: 0.0847444\ttotal: 693ms\tremaining: 221ms\n",
      "758:\tlearn: 0.0846562\ttotal: 693ms\tremaining: 220ms\n",
      "759:\tlearn: 0.0846146\ttotal: 694ms\tremaining: 219ms\n",
      "760:\tlearn: 0.0844923\ttotal: 695ms\tremaining: 218ms\n",
      "761:\tlearn: 0.0843101\ttotal: 696ms\tremaining: 217ms\n",
      "762:\tlearn: 0.0841886\ttotal: 697ms\tremaining: 216ms\n",
      "763:\tlearn: 0.0840528\ttotal: 697ms\tremaining: 215ms\n",
      "764:\tlearn: 0.0839790\ttotal: 698ms\tremaining: 214ms\n",
      "765:\tlearn: 0.0839096\ttotal: 699ms\tremaining: 214ms\n",
      "766:\tlearn: 0.0837602\ttotal: 700ms\tremaining: 213ms\n",
      "767:\tlearn: 0.0836245\ttotal: 701ms\tremaining: 212ms\n",
      "768:\tlearn: 0.0834936\ttotal: 702ms\tremaining: 211ms\n",
      "769:\tlearn: 0.0834528\ttotal: 703ms\tremaining: 210ms\n",
      "770:\tlearn: 0.0833234\ttotal: 704ms\tremaining: 209ms\n",
      "771:\tlearn: 0.0833147\ttotal: 704ms\tremaining: 208ms\n",
      "772:\tlearn: 0.0832436\ttotal: 705ms\tremaining: 207ms\n",
      "773:\tlearn: 0.0831118\ttotal: 706ms\tremaining: 206ms\n",
      "774:\tlearn: 0.0830262\ttotal: 707ms\tremaining: 205ms\n",
      "775:\tlearn: 0.0829870\ttotal: 707ms\tremaining: 204ms\n",
      "776:\tlearn: 0.0828750\ttotal: 708ms\tremaining: 203ms\n",
      "777:\tlearn: 0.0827902\ttotal: 709ms\tremaining: 202ms\n",
      "778:\tlearn: 0.0827223\ttotal: 710ms\tremaining: 201ms\n",
      "779:\tlearn: 0.0826184\ttotal: 711ms\tremaining: 200ms\n",
      "780:\tlearn: 0.0826045\ttotal: 711ms\tremaining: 199ms\n",
      "781:\tlearn: 0.0825398\ttotal: 712ms\tremaining: 199ms\n",
      "782:\tlearn: 0.0824720\ttotal: 713ms\tremaining: 198ms\n",
      "783:\tlearn: 0.0824169\ttotal: 714ms\tremaining: 197ms\n",
      "784:\tlearn: 0.0823316\ttotal: 714ms\tremaining: 196ms\n",
      "785:\tlearn: 0.0822856\ttotal: 715ms\tremaining: 195ms\n",
      "786:\tlearn: 0.0821174\ttotal: 716ms\tremaining: 194ms\n",
      "787:\tlearn: 0.0820061\ttotal: 717ms\tremaining: 193ms\n",
      "788:\tlearn: 0.0818838\ttotal: 718ms\tremaining: 192ms\n",
      "789:\tlearn: 0.0817339\ttotal: 719ms\tremaining: 191ms\n",
      "790:\tlearn: 0.0815592\ttotal: 720ms\tremaining: 190ms\n",
      "791:\tlearn: 0.0814144\ttotal: 720ms\tremaining: 189ms\n",
      "792:\tlearn: 0.0812639\ttotal: 721ms\tremaining: 188ms\n",
      "793:\tlearn: 0.0812273\ttotal: 723ms\tremaining: 188ms\n",
      "794:\tlearn: 0.0810893\ttotal: 724ms\tremaining: 187ms\n",
      "795:\tlearn: 0.0810129\ttotal: 725ms\tremaining: 186ms\n",
      "796:\tlearn: 0.0808514\ttotal: 725ms\tremaining: 185ms\n",
      "797:\tlearn: 0.0806853\ttotal: 726ms\tremaining: 184ms\n",
      "798:\tlearn: 0.0806372\ttotal: 727ms\tremaining: 183ms\n",
      "799:\tlearn: 0.0805257\ttotal: 728ms\tremaining: 182ms\n",
      "800:\tlearn: 0.0803998\ttotal: 728ms\tremaining: 181ms\n",
      "801:\tlearn: 0.0802965\ttotal: 729ms\tremaining: 180ms\n",
      "802:\tlearn: 0.0802195\ttotal: 730ms\tremaining: 179ms\n",
      "803:\tlearn: 0.0801658\ttotal: 731ms\tremaining: 178ms\n",
      "804:\tlearn: 0.0800397\ttotal: 732ms\tremaining: 177ms\n",
      "805:\tlearn: 0.0799234\ttotal: 733ms\tremaining: 176ms\n",
      "806:\tlearn: 0.0798490\ttotal: 733ms\tremaining: 175ms\n",
      "807:\tlearn: 0.0797087\ttotal: 734ms\tremaining: 175ms\n",
      "808:\tlearn: 0.0796212\ttotal: 735ms\tremaining: 174ms\n",
      "809:\tlearn: 0.0794435\ttotal: 736ms\tremaining: 173ms\n",
      "810:\tlearn: 0.0793599\ttotal: 737ms\tremaining: 172ms\n",
      "811:\tlearn: 0.0792008\ttotal: 738ms\tremaining: 171ms\n",
      "812:\tlearn: 0.0791164\ttotal: 739ms\tremaining: 170ms\n",
      "813:\tlearn: 0.0789213\ttotal: 740ms\tremaining: 169ms\n",
      "814:\tlearn: 0.0788546\ttotal: 740ms\tremaining: 168ms\n",
      "815:\tlearn: 0.0787237\ttotal: 741ms\tremaining: 167ms\n",
      "816:\tlearn: 0.0785519\ttotal: 742ms\tremaining: 166ms\n",
      "817:\tlearn: 0.0784281\ttotal: 743ms\tremaining: 165ms\n",
      "818:\tlearn: 0.0782459\ttotal: 743ms\tremaining: 164ms\n",
      "819:\tlearn: 0.0780731\ttotal: 744ms\tremaining: 163ms\n",
      "820:\tlearn: 0.0779481\ttotal: 745ms\tremaining: 162ms\n",
      "821:\tlearn: 0.0779321\ttotal: 747ms\tremaining: 162ms\n",
      "822:\tlearn: 0.0778794\ttotal: 747ms\tremaining: 161ms\n",
      "823:\tlearn: 0.0777229\ttotal: 748ms\tremaining: 160ms\n",
      "824:\tlearn: 0.0777154\ttotal: 749ms\tremaining: 159ms\n",
      "825:\tlearn: 0.0776670\ttotal: 750ms\tremaining: 158ms\n",
      "826:\tlearn: 0.0774838\ttotal: 751ms\tremaining: 157ms\n",
      "827:\tlearn: 0.0774686\ttotal: 751ms\tremaining: 156ms\n",
      "828:\tlearn: 0.0773426\ttotal: 752ms\tremaining: 155ms\n",
      "829:\tlearn: 0.0772319\ttotal: 753ms\tremaining: 154ms\n",
      "830:\tlearn: 0.0772241\ttotal: 755ms\tremaining: 153ms\n",
      "831:\tlearn: 0.0772164\ttotal: 755ms\tremaining: 153ms\n",
      "832:\tlearn: 0.0771632\ttotal: 757ms\tremaining: 152ms\n",
      "833:\tlearn: 0.0770298\ttotal: 758ms\tremaining: 151ms\n",
      "834:\tlearn: 0.0768821\ttotal: 758ms\tremaining: 150ms\n",
      "835:\tlearn: 0.0768748\ttotal: 759ms\tremaining: 149ms\n",
      "836:\tlearn: 0.0767164\ttotal: 760ms\tremaining: 148ms\n",
      "837:\tlearn: 0.0766495\ttotal: 761ms\tremaining: 147ms\n",
      "838:\tlearn: 0.0765857\ttotal: 762ms\tremaining: 146ms\n"
     ]
    },
    {
     "name": "stdout",
     "output_type": "stream",
     "text": [
      "839:\tlearn: 0.0764962\ttotal: 763ms\tremaining: 145ms\n",
      "840:\tlearn: 0.0764506\ttotal: 764ms\tremaining: 144ms\n",
      "841:\tlearn: 0.0763892\ttotal: 764ms\tremaining: 143ms\n",
      "842:\tlearn: 0.0762878\ttotal: 765ms\tremaining: 143ms\n",
      "843:\tlearn: 0.0761306\ttotal: 766ms\tremaining: 142ms\n",
      "844:\tlearn: 0.0759733\ttotal: 767ms\tremaining: 141ms\n",
      "845:\tlearn: 0.0757762\ttotal: 768ms\tremaining: 140ms\n",
      "846:\tlearn: 0.0756636\ttotal: 769ms\tremaining: 139ms\n",
      "847:\tlearn: 0.0756274\ttotal: 769ms\tremaining: 138ms\n",
      "848:\tlearn: 0.0754954\ttotal: 770ms\tremaining: 137ms\n",
      "849:\tlearn: 0.0754883\ttotal: 771ms\tremaining: 136ms\n",
      "850:\tlearn: 0.0753903\ttotal: 772ms\tremaining: 135ms\n",
      "851:\tlearn: 0.0753473\ttotal: 773ms\tremaining: 134ms\n",
      "852:\tlearn: 0.0752585\ttotal: 774ms\tremaining: 133ms\n",
      "853:\tlearn: 0.0751704\ttotal: 775ms\tremaining: 132ms\n",
      "854:\tlearn: 0.0750292\ttotal: 775ms\tremaining: 131ms\n",
      "855:\tlearn: 0.0749131\ttotal: 776ms\tremaining: 131ms\n",
      "856:\tlearn: 0.0748147\ttotal: 777ms\tremaining: 130ms\n",
      "857:\tlearn: 0.0747411\ttotal: 778ms\tremaining: 129ms\n",
      "858:\tlearn: 0.0746101\ttotal: 779ms\tremaining: 128ms\n",
      "859:\tlearn: 0.0745812\ttotal: 780ms\tremaining: 127ms\n",
      "860:\tlearn: 0.0744813\ttotal: 780ms\tremaining: 126ms\n",
      "861:\tlearn: 0.0743970\ttotal: 781ms\tremaining: 125ms\n",
      "862:\tlearn: 0.0742521\ttotal: 782ms\tremaining: 124ms\n",
      "863:\tlearn: 0.0741078\ttotal: 783ms\tremaining: 123ms\n",
      "864:\tlearn: 0.0740362\ttotal: 784ms\tremaining: 122ms\n",
      "865:\tlearn: 0.0738959\ttotal: 784ms\tremaining: 121ms\n",
      "866:\tlearn: 0.0737542\ttotal: 785ms\tremaining: 120ms\n",
      "867:\tlearn: 0.0736718\ttotal: 786ms\tremaining: 120ms\n",
      "868:\tlearn: 0.0735154\ttotal: 787ms\tremaining: 119ms\n",
      "869:\tlearn: 0.0733895\ttotal: 788ms\tremaining: 118ms\n",
      "870:\tlearn: 0.0732522\ttotal: 789ms\tremaining: 117ms\n",
      "871:\tlearn: 0.0731411\ttotal: 790ms\tremaining: 116ms\n",
      "872:\tlearn: 0.0730293\ttotal: 790ms\tremaining: 115ms\n",
      "873:\tlearn: 0.0729071\ttotal: 791ms\tremaining: 114ms\n",
      "874:\tlearn: 0.0728707\ttotal: 792ms\tremaining: 113ms\n",
      "875:\tlearn: 0.0727205\ttotal: 793ms\tremaining: 112ms\n",
      "876:\tlearn: 0.0725914\ttotal: 794ms\tremaining: 111ms\n",
      "877:\tlearn: 0.0725249\ttotal: 795ms\tremaining: 110ms\n",
      "878:\tlearn: 0.0723558\ttotal: 796ms\tremaining: 110ms\n",
      "879:\tlearn: 0.0722748\ttotal: 797ms\tremaining: 109ms\n",
      "880:\tlearn: 0.0721223\ttotal: 798ms\tremaining: 108ms\n",
      "881:\tlearn: 0.0719534\ttotal: 798ms\tremaining: 107ms\n",
      "882:\tlearn: 0.0718691\ttotal: 799ms\tremaining: 106ms\n",
      "883:\tlearn: 0.0717829\ttotal: 800ms\tremaining: 105ms\n",
      "884:\tlearn: 0.0716513\ttotal: 801ms\tremaining: 104ms\n",
      "885:\tlearn: 0.0715609\ttotal: 801ms\tremaining: 103ms\n",
      "886:\tlearn: 0.0715156\ttotal: 802ms\tremaining: 102ms\n",
      "887:\tlearn: 0.0714017\ttotal: 803ms\tremaining: 101ms\n",
      "888:\tlearn: 0.0712912\ttotal: 804ms\tremaining: 100ms\n",
      "889:\tlearn: 0.0711718\ttotal: 805ms\tremaining: 99.4ms\n",
      "890:\tlearn: 0.0711227\ttotal: 805ms\tremaining: 98.5ms\n",
      "891:\tlearn: 0.0709607\ttotal: 806ms\tremaining: 97.6ms\n",
      "892:\tlearn: 0.0708975\ttotal: 808ms\tremaining: 96.8ms\n",
      "893:\tlearn: 0.0708067\ttotal: 809ms\tremaining: 95.9ms\n",
      "894:\tlearn: 0.0706638\ttotal: 809ms\tremaining: 95ms\n",
      "895:\tlearn: 0.0706236\ttotal: 810ms\tremaining: 94ms\n",
      "896:\tlearn: 0.0705043\ttotal: 811ms\tremaining: 93.1ms\n",
      "897:\tlearn: 0.0703489\ttotal: 812ms\tremaining: 92.2ms\n",
      "898:\tlearn: 0.0703112\ttotal: 813ms\tremaining: 91.3ms\n",
      "899:\tlearn: 0.0701628\ttotal: 814ms\tremaining: 90.4ms\n",
      "900:\tlearn: 0.0700620\ttotal: 814ms\tremaining: 89.5ms\n",
      "901:\tlearn: 0.0699628\ttotal: 815ms\tremaining: 88.6ms\n",
      "902:\tlearn: 0.0698713\ttotal: 816ms\tremaining: 87.6ms\n",
      "903:\tlearn: 0.0697480\ttotal: 817ms\tremaining: 86.7ms\n",
      "904:\tlearn: 0.0696386\ttotal: 818ms\tremaining: 85.8ms\n",
      "905:\tlearn: 0.0695368\ttotal: 818ms\tremaining: 84.9ms\n",
      "906:\tlearn: 0.0694292\ttotal: 819ms\tremaining: 84ms\n",
      "907:\tlearn: 0.0692974\ttotal: 820ms\tremaining: 83.1ms\n",
      "908:\tlearn: 0.0692722\ttotal: 821ms\tremaining: 82.2ms\n",
      "909:\tlearn: 0.0691569\ttotal: 822ms\tremaining: 81.3ms\n",
      "910:\tlearn: 0.0691102\ttotal: 822ms\tremaining: 80.3ms\n",
      "911:\tlearn: 0.0690074\ttotal: 823ms\tremaining: 79.4ms\n",
      "912:\tlearn: 0.0689178\ttotal: 824ms\tremaining: 78.5ms\n",
      "913:\tlearn: 0.0687603\ttotal: 825ms\tremaining: 77.6ms\n",
      "914:\tlearn: 0.0686869\ttotal: 826ms\tremaining: 76.7ms\n",
      "915:\tlearn: 0.0685253\ttotal: 826ms\tremaining: 75.8ms\n",
      "916:\tlearn: 0.0684584\ttotal: 828ms\tremaining: 74.9ms\n",
      "917:\tlearn: 0.0683426\ttotal: 829ms\tremaining: 74ms\n",
      "918:\tlearn: 0.0683224\ttotal: 829ms\tremaining: 73.1ms\n",
      "919:\tlearn: 0.0682312\ttotal: 830ms\tremaining: 72.2ms\n",
      "920:\tlearn: 0.0681709\ttotal: 831ms\tremaining: 71.3ms\n",
      "921:\tlearn: 0.0680637\ttotal: 832ms\tremaining: 70.4ms\n",
      "922:\tlearn: 0.0679810\ttotal: 833ms\tremaining: 69.5ms\n",
      "923:\tlearn: 0.0678363\ttotal: 833ms\tremaining: 68.6ms\n",
      "924:\tlearn: 0.0677927\ttotal: 834ms\tremaining: 67.6ms\n",
      "925:\tlearn: 0.0676363\ttotal: 835ms\tremaining: 66.7ms\n",
      "926:\tlearn: 0.0675842\ttotal: 836ms\tremaining: 65.8ms\n",
      "927:\tlearn: 0.0674620\ttotal: 837ms\tremaining: 64.9ms\n",
      "928:\tlearn: 0.0674208\ttotal: 838ms\tremaining: 64ms\n",
      "929:\tlearn: 0.0673660\ttotal: 839ms\tremaining: 63.2ms\n",
      "930:\tlearn: 0.0673088\ttotal: 840ms\tremaining: 62.2ms\n",
      "931:\tlearn: 0.0672120\ttotal: 841ms\tremaining: 61.3ms\n",
      "932:\tlearn: 0.0671087\ttotal: 842ms\tremaining: 60.4ms\n",
      "933:\tlearn: 0.0668925\ttotal: 842ms\tremaining: 59.5ms\n",
      "934:\tlearn: 0.0667615\ttotal: 843ms\tremaining: 58.6ms\n",
      "935:\tlearn: 0.0666795\ttotal: 844ms\tremaining: 57.7ms\n",
      "936:\tlearn: 0.0665747\ttotal: 845ms\tremaining: 56.8ms\n",
      "937:\tlearn: 0.0664716\ttotal: 846ms\tremaining: 55.9ms\n",
      "938:\tlearn: 0.0663738\ttotal: 847ms\tremaining: 55ms\n",
      "939:\tlearn: 0.0663672\ttotal: 848ms\tremaining: 54.1ms\n",
      "940:\tlearn: 0.0663177\ttotal: 849ms\tremaining: 53.2ms\n",
      "941:\tlearn: 0.0662895\ttotal: 849ms\tremaining: 52.3ms\n",
      "942:\tlearn: 0.0662439\ttotal: 850ms\tremaining: 51.4ms\n",
      "943:\tlearn: 0.0661501\ttotal: 851ms\tremaining: 50.5ms\n",
      "944:\tlearn: 0.0661448\ttotal: 852ms\tremaining: 49.6ms\n",
      "945:\tlearn: 0.0661099\ttotal: 853ms\tremaining: 48.7ms\n",
      "946:\tlearn: 0.0660659\ttotal: 854ms\tremaining: 47.8ms\n",
      "947:\tlearn: 0.0659395\ttotal: 854ms\tremaining: 46.9ms\n",
      "948:\tlearn: 0.0658949\ttotal: 855ms\tremaining: 46ms\n",
      "949:\tlearn: 0.0657999\ttotal: 856ms\tremaining: 45.1ms\n",
      "950:\tlearn: 0.0657688\ttotal: 857ms\tremaining: 44.1ms\n",
      "951:\tlearn: 0.0656985\ttotal: 858ms\tremaining: 43.2ms\n",
      "952:\tlearn: 0.0656635\ttotal: 858ms\tremaining: 42.3ms\n",
      "953:\tlearn: 0.0656581\ttotal: 859ms\tremaining: 41.4ms\n",
      "954:\tlearn: 0.0656139\ttotal: 860ms\tremaining: 40.5ms\n",
      "955:\tlearn: 0.0655228\ttotal: 861ms\tremaining: 39.6ms\n",
      "956:\tlearn: 0.0654474\ttotal: 861ms\tremaining: 38.7ms\n",
      "957:\tlearn: 0.0654419\ttotal: 862ms\tremaining: 37.8ms\n",
      "958:\tlearn: 0.0653804\ttotal: 863ms\tremaining: 36.9ms\n",
      "959:\tlearn: 0.0653425\ttotal: 864ms\tremaining: 36ms\n",
      "960:\tlearn: 0.0652255\ttotal: 865ms\tremaining: 35.1ms\n",
      "961:\tlearn: 0.0651192\ttotal: 866ms\tremaining: 34.2ms\n",
      "962:\tlearn: 0.0650024\ttotal: 866ms\tremaining: 33.3ms\n",
      "963:\tlearn: 0.0649449\ttotal: 867ms\tremaining: 32.4ms\n",
      "964:\tlearn: 0.0648331\ttotal: 868ms\tremaining: 31.5ms\n",
      "965:\tlearn: 0.0647623\ttotal: 869ms\tremaining: 30.6ms\n",
      "966:\tlearn: 0.0646206\ttotal: 870ms\tremaining: 29.7ms\n",
      "967:\tlearn: 0.0645253\ttotal: 870ms\tremaining: 28.8ms\n"
     ]
    },
    {
     "name": "stdout",
     "output_type": "stream",
     "text": [
      "968:\tlearn: 0.0644628\ttotal: 871ms\tremaining: 27.9ms\n",
      "969:\tlearn: 0.0643533\ttotal: 872ms\tremaining: 27ms\n",
      "970:\tlearn: 0.0642461\ttotal: 874ms\tremaining: 26.1ms\n",
      "971:\tlearn: 0.0642411\ttotal: 874ms\tremaining: 25.2ms\n",
      "972:\tlearn: 0.0640781\ttotal: 875ms\tremaining: 24.3ms\n",
      "973:\tlearn: 0.0640538\ttotal: 876ms\tremaining: 23.4ms\n",
      "974:\tlearn: 0.0639211\ttotal: 877ms\tremaining: 22.5ms\n",
      "975:\tlearn: 0.0638379\ttotal: 878ms\tremaining: 21.6ms\n",
      "976:\tlearn: 0.0638053\ttotal: 879ms\tremaining: 20.7ms\n",
      "977:\tlearn: 0.0638003\ttotal: 880ms\tremaining: 19.8ms\n",
      "978:\tlearn: 0.0637307\ttotal: 881ms\tremaining: 18.9ms\n",
      "979:\tlearn: 0.0636583\ttotal: 881ms\tremaining: 18ms\n",
      "980:\tlearn: 0.0635982\ttotal: 882ms\tremaining: 17.1ms\n",
      "981:\tlearn: 0.0635287\ttotal: 883ms\tremaining: 16.2ms\n",
      "982:\tlearn: 0.0634331\ttotal: 884ms\tremaining: 15.3ms\n",
      "983:\tlearn: 0.0634050\ttotal: 885ms\tremaining: 14.4ms\n",
      "984:\tlearn: 0.0634000\ttotal: 886ms\tremaining: 13.5ms\n",
      "985:\tlearn: 0.0633380\ttotal: 886ms\tremaining: 12.6ms\n",
      "986:\tlearn: 0.0633013\ttotal: 887ms\tremaining: 11.7ms\n",
      "987:\tlearn: 0.0632696\ttotal: 888ms\tremaining: 10.8ms\n",
      "988:\tlearn: 0.0632652\ttotal: 889ms\tremaining: 9.89ms\n",
      "989:\tlearn: 0.0631307\ttotal: 890ms\tremaining: 8.99ms\n",
      "990:\tlearn: 0.0630431\ttotal: 891ms\tremaining: 8.09ms\n",
      "991:\tlearn: 0.0630135\ttotal: 891ms\tremaining: 7.19ms\n",
      "992:\tlearn: 0.0629725\ttotal: 892ms\tremaining: 6.29ms\n",
      "993:\tlearn: 0.0628819\ttotal: 893ms\tremaining: 5.39ms\n",
      "994:\tlearn: 0.0627345\ttotal: 894ms\tremaining: 4.49ms\n",
      "995:\tlearn: 0.0626557\ttotal: 895ms\tremaining: 3.59ms\n",
      "996:\tlearn: 0.0625020\ttotal: 895ms\tremaining: 2.69ms\n",
      "997:\tlearn: 0.0624444\ttotal: 896ms\tremaining: 1.8ms\n",
      "998:\tlearn: 0.0624010\ttotal: 897ms\tremaining: 898us\n",
      "999:\tlearn: 0.0622944\ttotal: 898ms\tremaining: 0us\n"
     ]
    },
    {
     "data": {
      "text/plain": [
       "<catboost.core.CatBoostRegressor at 0x7f8b0b437ca0>"
      ]
     },
     "execution_count": 9,
     "metadata": {},
     "output_type": "execute_result"
    }
   ],
   "source": [
    "#Train the Model \n",
    "prior_model = ctb.CatBoostRegressor()\n",
    "prior_model.fit(X_train,Y_train)"
   ]
  },
  {
   "cell_type": "code",
   "execution_count": 10,
   "id": "af65dcda",
   "metadata": {
    "execution": {
     "iopub.execute_input": "2022-03-11T09:40:20.550901Z",
     "iopub.status.busy": "2022-03-11T09:40:20.550508Z",
     "iopub.status.idle": "2022-03-11T09:40:20.558050Z",
     "shell.execute_reply": "2022-03-11T09:40:20.558422Z"
    },
    "id": "af65dcda",
    "papermill": {
     "duration": 0.02088,
     "end_time": "2022-03-11T09:40:20.558541",
     "exception": false,
     "start_time": "2022-03-11T09:40:20.537661",
     "status": "completed"
    },
    "tags": []
   },
   "outputs": [
    {
     "data": {
      "application/scrapbook.scrap.json+json": {
       "data": 0.1593027835789437,
       "encoder": "json",
       "name": "Prior Model MSE",
       "version": 1
      }
     },
     "metadata": {
      "scrapbook": {
       "data": true,
       "display": false,
       "name": "Prior Model MSE"
      }
     },
     "output_type": "display_data"
    },
    {
     "data": {
      "application/scrapbook.scrap.json+json": {
       "data": 1.3549173637603722,
       "encoder": "json",
       "name": "ABC Pre-generator MSE",
       "version": 1
      }
     },
     "metadata": {
      "scrapbook": {
       "data": true,
       "display": false,
       "name": "ABC Pre-generator MSE"
      }
     },
     "output_type": "display_data"
    },
    {
     "data": {
      "application/scrapbook.scrap.json+json": {
       "data": 0.2456946983440125,
       "encoder": "json",
       "name": "Prior Model MAE",
       "version": 1
      }
     },
     "metadata": {
      "scrapbook": {
       "data": true,
       "display": false,
       "name": "Prior Model MAE"
      }
     },
     "output_type": "display_data"
    },
    {
     "data": {
      "application/scrapbook.scrap.json+json": {
       "data": 0.9318014404245872,
       "encoder": "json",
       "name": "ABC Pre-generator MAE",
       "version": 1
      }
     },
     "metadata": {
      "scrapbook": {
       "data": true,
       "display": false,
       "name": "ABC Pre-generator MAE"
      }
     },
     "output_type": "display_data"
    }
   ],
   "source": [
    "y_pred = prior_model.predict(X_test)\n",
    "y_abc = y_pred + np.random.normal(0,variance, y_pred.shape)\n",
    "mse = mean_squared_error(y_pred,Y_test)\n",
    "sb.glue(\"Prior Model MSE\",mse)\n",
    "mse = mean_squared_error(y_abc,Y_test)\n",
    "sb.glue(\"ABC Pre-generator MSE\",mse)\n",
    "\n",
    "mae = mean_absolute_error(y_pred,Y_test)\n",
    "sb.glue(\"Prior Model MAE\",mae)\n",
    "mae = mean_absolute_error(y_abc,Y_test)\n",
    "sb.glue(\"ABC Pre-generator MAE\",mae)"
   ]
  },
  {
   "cell_type": "markdown",
   "id": "25609da2",
   "metadata": {
    "papermill": {
     "duration": 0.009778,
     "end_time": "2022-03-11T09:40:20.578528",
     "exception": false,
     "start_time": "2022-03-11T09:40:20.568750",
     "status": "completed"
    },
    "tags": []
   },
   "source": [
    "# ABC GAN Model"
   ]
  },
  {
   "cell_type": "code",
   "execution_count": 11,
   "id": "dfc3464d",
   "metadata": {
    "execution": {
     "iopub.execute_input": "2022-03-11T09:40:20.600934Z",
     "iopub.status.busy": "2022-03-11T09:40:20.600573Z",
     "iopub.status.idle": "2022-03-11T09:40:20.603247Z",
     "shell.execute_reply": "2022-03-11T09:40:20.603491Z"
    },
    "papermill": {
     "duration": 0.015284,
     "end_time": "2022-03-11T09:40:20.603603",
     "exception": false,
     "start_time": "2022-03-11T09:40:20.588319",
     "status": "completed"
    },
    "tags": []
   },
   "outputs": [],
   "source": [
    "gen = network.Generator(n_features+1).to(device)\n",
    "disc = network.Discriminator(n_features+1).to(device)\n",
    "\n",
    "criterion = torch.nn.BCELoss()\n",
    "gen_opt = torch.optim.Adam(gen.parameters(), lr=0.001, betas=(0.5, 0.999))\n",
    "disc_opt = torch.optim.Adam(disc.parameters(), lr=0.001, betas=(0.5, 0.999))"
   ]
  },
  {
   "cell_type": "code",
   "execution_count": 12,
   "id": "b75fdd85",
   "metadata": {
    "execution": {
     "iopub.execute_input": "2022-03-11T09:40:20.625740Z",
     "iopub.status.busy": "2022-03-11T09:40:20.625371Z",
     "iopub.status.idle": "2022-03-11T09:40:56.276567Z",
     "shell.execute_reply": "2022-03-11T09:40:56.276871Z"
    },
    "papermill": {
     "duration": 35.663452,
     "end_time": "2022-03-11T09:40:56.276997",
     "exception": false,
     "start_time": "2022-03-11T09:40:20.613545",
     "status": "completed"
    },
    "tags": []
   },
   "outputs": [
    {
     "data": {
      "image/png": "[encoded data removed]",
      "text/plain": [
       "<Figure size 432x288 with 1 Axes>"
      ]
     },
     "metadata": {
      "needs_background": "light"
     },
     "output_type": "display_data"
    },
    {
     "data": {
      "image/png": "[encoded data removed]",
      "text/plain": [
       "<Figure size 432x288 with 1 Axes>"
      ]
     },
     "metadata": {
      "needs_background": "light"
     },
     "output_type": "display_data"
    }
   ],
   "source": [
    "#Training the ABC_GAN \n",
    "ABC_train_test2.training_GAN(disc,gen,disc_opt,gen_opt,train_data,batch_size,n_epochs,criterion,prior_model,variance,0,device)"
   ]
  },
  {
   "cell_type": "code",
   "execution_count": 13,
   "id": "1fa7c368",
   "metadata": {
    "execution": {
     "iopub.execute_input": "2022-03-11T09:40:56.301620Z",
     "iopub.status.busy": "2022-03-11T09:40:56.301223Z",
     "iopub.status.idle": "2022-03-11T09:40:56.604549Z",
     "shell.execute_reply": "2022-03-11T09:40:56.604870Z"
    },
    "papermill": {
     "duration": 0.317073,
     "end_time": "2022-03-11T09:40:56.604995",
     "exception": false,
     "start_time": "2022-03-11T09:40:56.287922",
     "status": "completed"
    },
    "tags": []
   },
   "outputs": [
    {
     "data": {
      "application/scrapbook.scrap.json+json": {
       "data": 0.17366455129440914,
       "encoder": "json",
       "name": "ABC-GAN Model 1 MSE",
       "version": 1
      }
     },
     "metadata": {
      "scrapbook": {
       "data": true,
       "display": false,
       "name": "ABC-GAN Model 1 MSE"
      }
     },
     "output_type": "display_data"
    },
    {
     "data": {
      "application/scrapbook.scrap.json+json": {
       "data": 0.25469784767531295,
       "encoder": "json",
       "name": "ABC-GAN Model 1 MAE",
       "version": 1
      }
     },
     "metadata": {
      "scrapbook": {
       "data": true,
       "display": false,
       "name": "ABC-GAN Model 1 MAE"
      }
     },
     "output_type": "display_data"
    },
    {
     "data": {
      "application/scrapbook.scrap.json+json": {
       "data": 25.979180462881924,
       "encoder": "json",
       "name": "ABC-GAN Model 1 Manhattan Distance",
       "version": 1
      }
     },
     "metadata": {
      "scrapbook": {
       "data": true,
       "display": false,
       "name": "ABC-GAN Model 1 Manhattan Distance"
      }
     },
     "output_type": "display_data"
    },
    {
     "data": {
      "application/scrapbook.scrap.json+json": {
       "data": 4.208696639676141,
       "encoder": "json",
       "name": "ABC-GAN Model 1 Euclidean distance",
       "version": 1
      }
     },
     "metadata": {
      "scrapbook": {
       "data": true,
       "display": false,
       "name": "ABC-GAN Model 1 Euclidean distance"
      }
     },
     "output_type": "display_data"
    },
    {
     "data": {
      "application/scrapbook.scrap.json+json": {
       "data": [
        [
         0.17408861953174654,
         0.17231015033838196,
         0.1741948872546935,
         0.17537316117223414,
         0.17037003294206765,
         0.17441468823582765,
         0.1790041292917336,
         0.1740040890844707,
         0.17434857188961148,
         0.17312383845896864,
         0.17531419892752878,
         0.17344861591862423,
         0.17180152258424003,
         0.1743135852462297,
         0.17240324329969095,
         0.16972661122608693,
         0.17502647964271728,
         0.17418789534881352,
         0.1730782619716117,
         0.1731955773578047,
         0.17447288283779921,
         0.1739904491448776,
         0.17419535184704532,
         0.1725546198981776,
         0.17089580115639996,
         0.17511972816840657,
         0.172188209764639,
         0.17448539695912127,
         0.17526745425151255,
         0.17462048345091985,
         0.17081603111266785,
         0.17371075883612797,
         0.1724753827179661,
         0.17012152784409199,
         0.17619649528804196,
         0.17547577446855123,
         0.16841753945037038,
         0.17497970306838395,
         0.17046951522442075,
         0.17448944838938021,
         0.1753882569552201,
         0.17265555595268048,
         0.17246830221658258,
         0.1788764014806378,
         0.1725598130235472,
         0.1740730952040874,
         0.1738223805000787,
         0.17429350236865213,
         0.17728308053928085,
         0.17356959349143578,
         0.17457914374025146,
         0.17455106084357624,
         0.17207319326722895,
         0.17178635759048666,
         0.17478584134314992,
         0.17207253140879045,
         0.17200758824446027,
         0.1739656729493175,
         0.17232902933451394,
         0.17332436819121583,
         0.17678880117246745,
         0.17220626599440578,
         0.17407683138126342,
         0.17216349105238857,
         0.17569611357667425,
         0.17050542160365267,
         0.17229034878134286,
         0.17466281435037279,
         0.1727064087513768,
         0.1739631687894035,
         0.17229511688191834,
         0.1741895279411172,
         0.17884366091031842,
         0.16801341129806552,
         0.17596425807253682,
         0.1759028109128933,
         0.17283240810511225,
         0.17311387207511605,
         0.17130129676900377,
         0.1755806149255365,
         0.17309291336264931,
         0.17518619938575883,
         0.17264754362008522,
         0.177781288826847,
         0.17293365770219551,
         0.17126659466552915,
         0.1732173335376664,
         0.17172919838473477,
         0.17767762206819904,
         0.16994408660868165,
         0.17824718270798234,
         0.17540199782549307,
         0.17411760536215612,
         0.17649610978538116,
         0.17067652504221578,
         0.17440962871026852,
         0.17311300839321042,
         0.17503756418078506,
         0.17214064834980397,
         0.1731062953291241
        ],
        [
         0.2527402236181147,
         0.2551975000430556,
         0.256966256262625,
         0.2568437394266035,
         0.2521776101168464,
         0.2537004961540886,
         0.2560337234069319,
         0.25600913685618665,
         0.2545684651270801,
         0.25587740452850566,
         0.25522276839497043,
         0.2556660108122171,
         0.25423071197434965,
         0.2551417531189965,
         0.2534095133636512,
         0.2550792284309864,
         0.2567155693529868,
         0.25580284561888844,
         0.2522333543382439,
         0.2553470870297329,
         0.25538379216895385,
         0.25422220202345475,
         0.255224809854054,
         0.25336279953811686,
         0.2534137512831127,
         0.25454790035591407,
         0.2538638799359985,
         0.25363773275531976,
         0.25425268782704485,
         0.25503778201984423,
         0.2525816502086088,
         0.25762121540074256,
         0.25362176893680705,
         0.25240519401781697,
         0.25347812429947014,
         0.2535911288623716,
         0.25185124685659127,
         0.25665875575413893,
         0.2534023106974714,
         0.2573411088509887,
         0.2550576273717132,
         0.25408653250219776,
         0.25412032519485434,
         0.2571409354899444,
         0.25349703131645335,
         0.25498126425287304,
         0.25682283141741563,
         0.256429481228777,
         0.2569970203673138,
         0.2553926490831609,
         0.2535993876118286,
         0.25509123153546276,
         0.2535984096135579,
         0.2555034911515666,
         0.25549859458617136,
         0.25463729052274836,
         0.2526121712198444,
         0.2534879803949711,
         0.25373170670925405,
         0.2552475164480069,
         0.2583288223135705,
         0.2541200723864284,
         0.25414891394914363,
         0.254290705729349,
         0.2552838892328973,
         0.25354498493320804,
         0.2546209589961697,
         0.2552560065306869,
         0.25407858265965594,
         0.25472909577336966,
         0.2542012663302468,
         0.254131569801008,
         0.2570614879768269,
         0.2514190160322423,
         0.25568440483481275,
         0.2551855117666955,
         0.25381269327857914,
         0.2549908325514373,
         0.2551151070670754,
         0.2522566343347232,
         0.2537115748752566,
         0.25974458784741516,
         0.2548418221812622,
         0.2566109049115695,
         0.25437864383646086,
         0.25260430589026095,
         0.2548939653617494,
         0.25443469287425863,
         0.2578827608011517,
         0.2558307554938045,
         0.25740958151279714,
         0.2551019498530556,
         0.2508468334289158,
         0.25536053437812656,
         0.25328771258686106,
         0.2541482515779196,
         0.25446457861393107,
         0.25346240057956937,
         0.25353333237124426,
         0.25297830443756253
        ],
        [
         25.7795028090477,
         26.03014500439167,
         26.210558138787746,
         26.198061421513557,
         25.722116231918335,
         25.877450607717037,
         26.115439787507057,
         26.112931959331036,
         25.96598344296217,
         26.099495261907578,
         26.032722376286983,
         26.077933102846146,
         25.931532621383667,
         26.024458818137646,
         25.847770363092422,
         26.018081299960613,
         26.18498807400465,
         26.09189025312662,
         25.727802142500877,
         26.045402877032757,
         26.04914680123329,
         25.930664606392384,
         26.032930605113506,
         25.843005552887917,
         25.848202630877495,
         25.963885836303234,
         25.89411575347185,
         25.871048741042614,
         25.933774158358574,
         26.013853766024113,
         25.763328321278095,
         26.27736397087574,
         25.869420431554317,
         25.745329789817333,
         25.854768678545952,
         25.866295143961906,
         25.68882717937231,
         26.17919308692217,
         25.847035691142082,
         26.248793102800846,
         26.01587799191475,
         25.91682631522417,
         25.920273169875145,
         26.228375419974327,
         25.85669719427824,
         26.00808895379305,
         26.195928804576397,
         26.155807085335255,
         26.21369607746601,
         26.05005020648241,
         25.867137536406517,
         26.019305616617203,
         25.867037780582905,
         26.061356097459793,
         26.06085664778948,
         25.97300363332033,
         25.766441464424133,
         25.855774000287056,
         25.88063408434391,
         26.035246677696705,
         26.349539875984192,
         25.9202473834157,
         25.923189222812653,
         25.937651984393597,
         26.038956701755524,
         25.861588463187218,
         25.97133781760931,
         26.036112666130066,
         25.916015431284904,
         25.982367768883705,
         25.928529165685177,
         25.921420119702816,
         26.22027177363634,
         25.644739635288715,
         26.079809293150902,
         26.028922200202942,
         25.888894714415073,
         26.0090649202466,
         26.021740920841694,
         25.730176702141762,
         25.878580637276173,
         26.493947960436344,
         25.993865862488747,
         26.17431230098009,
         25.946621671319008,
         25.765639200806618,
         25.99918446689844,
         25.95233867317438,
         26.304041601717472,
         26.09473706036806,
         26.255777314305305,
         26.020398885011673,
         25.586377009749413,
         26.04677450656891,
         25.835346683859825,
         25.9231216609478,
         25.955387018620968,
         25.853164859116077,
         25.860399901866913,
         25.803787052631378
        ],
        [
         4.213910202203903,
         4.192330537364027,
         4.215196140155133,
         4.229428145691552,
         4.168662058753491,
         4.2178546916713975,
         4.272987384460294,
         4.212887025142735,
         4.217055173072836,
         4.202217453061514,
         4.228717097490436,
         4.206157251423164,
         4.186138471621844,
         4.216632032216639,
         4.193462866959534,
         4.160782900496115,
         4.225245664284758,
         4.215111543669868,
         4.201664279913899,
         4.20308801840933,
         4.218558290394423,
         4.212721900716627,
         4.215201761291933,
         4.195303472886568,
         4.175089426342002,
         4.226371052472495,
         4.190846859048081,
         4.218709576378821,
         4.228153300633064,
         4.220342321659917,
         4.174114897016147,
         4.209334555637629,
         4.194340119402876,
         4.165620702860184,
         4.239344586062836,
         4.230665313611113,
         4.144706144461603,
         4.224681019080038,
         4.169878961419732,
         4.218758553854057,
         4.2296101722773995,
         4.196530317675949,
         4.194254024983635,
         4.271462624327298,
         4.195366602384326,
         4.213722310596286,
         4.210686738645849,
         4.21638912359883,
         4.252396290917233,
         4.2076238586792,
         4.219842729475311,
         4.219503312718781,
         4.189446945989094,
         4.185953711429407,
         4.222340087795071,
         4.18943888888436,
         4.1886482307463995,
         4.212421944775995,
         4.1925601954081015,
         4.204650467696929,
         4.2464641432127594,
         4.191066586375046,
         4.213767530475414,
         4.190546036895864,
         4.233320633358731,
         4.170318093811618,
         4.192089643089347,
         4.220853831126827,
         4.197148280992754,
         4.21239162667945,
         4.1921476503047534,
         4.215131296886723,
         4.271071693714878,
         4.1397304202571785,
         4.236549813633584,
         4.235810042142484,
         4.198679033543936,
         4.202096494806114,
         4.180039745078791,
         4.231928959990316,
         4.201842115428686,
         4.227173090535493,
         4.19643294349483,
         4.258367229389498,
         4.199908699677165,
         4.1796163287895185,
         4.203351998208331,
         4.185257248395006,
         4.257125491567789,
         4.163447710021769,
         4.263943320004875,
         4.229775854368679,
         4.214260996537818,
         4.242947465867197,
         4.172410041487534,
         4.217793514202347,
         4.202086012459461,
         4.2253794559116304,
         4.190268026234122,
         4.202004536357695
        ]
       ],
       "encoder": "json",
       "name": "ABC_GAN_1 Metrics",
       "version": 1
      }
     },
     "metadata": {
      "scrapbook": {
       "data": true,
       "display": false,
       "name": "ABC_GAN_1 Metrics"
      }
     },
     "output_type": "display_data"
    },
    {
     "name": "stdout",
     "output_type": "stream",
     "text": [
      "MSE\n",
      "0.17366455129440914\n"
     ]
    }
   ],
   "source": [
    "ABC_GAN1_metrics=ABC_train_test2.test_generator(gen,test_data,prior_model,variance,0,\"1\",device)\n",
    "sb.glue(\"ABC_GAN_1 Metrics\",ABC_GAN1_metrics)\n",
    "\n",
    "print(\"MSE\")\n",
    "print(mean(ABC_GAN1_metrics[0]))"
   ]
  },
  {
   "cell_type": "code",
   "execution_count": 14,
   "id": "eb22ce5c",
   "metadata": {
    "execution": {
     "iopub.execute_input": "2022-03-11T09:40:56.632194Z",
     "iopub.status.busy": "2022-03-11T09:40:56.631828Z",
     "iopub.status.idle": "2022-03-11T09:40:56.948450Z",
     "shell.execute_reply": "2022-03-11T09:40:56.948753Z"
    },
    "papermill": {
     "duration": 0.33126,
     "end_time": "2022-03-11T09:40:56.948874",
     "exception": false,
     "start_time": "2022-03-11T09:40:56.617614",
     "status": "completed"
    },
    "tags": []
   },
   "outputs": [
    {
     "data": {
      "image/png": "[encoded data removed]",
      "text/plain": [
       "<Figure size 432x288 with 1 Axes>"
      ]
     },
     "metadata": {
      "needs_background": "light"
     },
     "output_type": "display_data"
    },
    {
     "data": {
      "image/png": "[encoded data removed]",
      "text/plain": [
       "<Figure size 432x288 with 1 Axes>"
      ]
     },
     "metadata": {
      "needs_background": "light"
     },
     "output_type": "display_data"
    },
    {
     "data": {
      "image/png": "[encoded data removed]",
      "text/plain": [
       "<Figure size 432x288 with 1 Axes>"
      ]
     },
     "metadata": {
      "needs_background": "light"
     },
     "output_type": "display_data"
    },
    {
     "data": {
      "image/png": "[encoded data removed]",
      "text/plain": [
       "<Figure size 432x288 with 1 Axes>"
      ]
     },
     "metadata": {
      "needs_background": "light"
     },
     "output_type": "display_data"
    }
   ],
   "source": [
    "sanityChecks.discProbVsError(train_data,disc,device)\n",
    "sanityChecks.discProbVsError(test_data,disc,device)"
   ]
  },
  {
   "cell_type": "markdown",
   "id": "130f3a4d",
   "metadata": {
    "id": "130f3a4d",
    "papermill": {
     "duration": 0.014333,
     "end_time": "2022-03-11T09:40:56.978258",
     "exception": false,
     "start_time": "2022-03-11T09:40:56.963925",
     "status": "completed"
    },
    "tags": []
   },
   "source": [
    "# ABC - GAN Model with skip connection"
   ]
  },
  {
   "cell_type": "code",
   "execution_count": 15,
   "id": "4e43dad1",
   "metadata": {
    "execution": {
     "iopub.execute_input": "2022-03-11T09:40:57.011060Z",
     "iopub.status.busy": "2022-03-11T09:40:57.010578Z",
     "iopub.status.idle": "2022-03-11T09:40:57.012450Z",
     "shell.execute_reply": "2022-03-11T09:40:57.012690Z"
    },
    "id": "4e43dad1",
    "papermill": {
     "duration": 0.020126,
     "end_time": "2022-03-11T09:40:57.012803",
     "exception": false,
     "start_time": "2022-03-11T09:40:56.992677",
     "status": "completed"
    },
    "tags": []
   },
   "outputs": [],
   "source": [
    "#Generator\n",
    "gen3 = network.GeneratorWithSkipConnection(n_features+1).to(device)\n",
    "constraints=network.weightConstraint()\n",
    "#Discriminator \n",
    "disc3 = network.Discriminator(n_features+1).to(device)\n",
    "\n",
    "criterion = torch.nn.BCELoss()\n",
    "gen_opt = torch.optim.Adam(gen3.parameters(), lr=0.001, betas=(0.5, 0.999))\n",
    "disc_opt = torch.optim.Adam(disc3.parameters(), lr=0.001, betas=(0.5, 0.999))\n"
   ]
  },
  {
   "cell_type": "code",
   "execution_count": 16,
   "id": "26acbc37",
   "metadata": {
    "execution": {
     "iopub.execute_input": "2022-03-11T09:40:57.044291Z",
     "iopub.status.busy": "2022-03-11T09:40:57.043881Z",
     "iopub.status.idle": "2022-03-11T09:43:24.452661Z",
     "shell.execute_reply": "2022-03-11T09:43:24.452978Z"
    },
    "id": "26acbc37",
    "papermill": {
     "duration": 147.425637,
     "end_time": "2022-03-11T09:43:24.453107",
     "exception": false,
     "start_time": "2022-03-11T09:40:57.027470",
     "status": "completed"
    },
    "tags": []
   },
   "outputs": [
    {
     "data": {
      "image/png": "[encoded data removed]",
      "text/plain": [
       "<Figure size 432x288 with 1 Axes>"
      ]
     },
     "metadata": {
      "needs_background": "light"
     },
     "output_type": "display_data"
    },
    {
     "data": {
      "image/png": "[encoded data removed]",
      "text/plain": [
       "<Figure size 432x288 with 1 Axes>"
      ]
     },
     "metadata": {
      "needs_background": "light"
     },
     "output_type": "display_data"
    }
   ],
   "source": [
    "ABC_train_test2.training_GAN_skip_connection(disc3,gen3,disc_opt,gen_opt,train_data,batch_size,n_epochs,criterion,prior_model,variance,0,device)"
   ]
  },
  {
   "cell_type": "code",
   "execution_count": 17,
   "id": "c5e0717b",
   "metadata": {
    "execution": {
     "iopub.execute_input": "2022-03-11T09:43:24.488365Z",
     "iopub.status.busy": "2022-03-11T09:43:24.487994Z",
     "iopub.status.idle": "2022-03-11T09:43:25.300397Z",
     "shell.execute_reply": "2022-03-11T09:43:25.300699Z"
    },
    "id": "c5e0717b",
    "papermill": {
     "duration": 0.832021,
     "end_time": "2022-03-11T09:43:25.300823",
     "exception": false,
     "start_time": "2022-03-11T09:43:24.468802",
     "status": "completed"
    },
    "tags": []
   },
   "outputs": [
    {
     "data": {
      "application/scrapbook.scrap.json+json": {
       "data": 0.1898771764868054,
       "encoder": "json",
       "name": "ABC-GAN Model 3 MSE",
       "version": 1
      }
     },
     "metadata": {
      "scrapbook": {
       "data": true,
       "display": false,
       "name": "ABC-GAN Model 3 MSE"
      }
     },
     "output_type": "display_data"
    },
    {
     "data": {
      "application/scrapbook.scrap.json+json": {
       "data": 0.24626904827822227,
       "encoder": "json",
       "name": "ABC-GAN Model 3 MAE",
       "version": 1
      }
     },
     "metadata": {
      "scrapbook": {
       "data": true,
       "display": false,
       "name": "ABC-GAN Model 3 MAE"
      }
     },
     "output_type": "display_data"
    },
    {
     "data": {
      "application/scrapbook.scrap.json+json": {
       "data": 25.119442924378674,
       "encoder": "json",
       "name": "ABC-GAN Model 3 Manhattan Distance",
       "version": 1
      }
     },
     "metadata": {
      "scrapbook": {
       "data": true,
       "display": false,
       "name": "ABC-GAN Model 3 Manhattan Distance"
      }
     },
     "output_type": "display_data"
    },
    {
     "data": {
      "application/scrapbook.scrap.json+json": {
       "data": 4.400732438426317,
       "encoder": "json",
       "name": "ABC-GAN Model 3 Euclidean distance",
       "version": 1
      }
     },
     "metadata": {
      "scrapbook": {
       "data": true,
       "display": false,
       "name": "ABC-GAN Model 3 Euclidean distance"
      }
     },
     "output_type": "display_data"
    },
    {
     "data": {
      "application/scrapbook.scrap.json+json": {
       "data": [
        [
         0.1861280352457207,
         0.18699334797125275,
         0.18823573088188733,
         0.1852425824370057,
         0.192188955072543,
         0.1922310490798555,
         0.193663200348287,
         0.18848689707295443,
         0.1957759665585252,
         0.18970874754285624,
         0.1892519410090699,
         0.1864999003422792,
         0.1865659831884725,
         0.19034237010713717,
         0.19128520537244592,
         0.19285755106960994,
         0.19063633440876523,
         0.1897225436128574,
         0.19195656049878482,
         0.19068865730456375,
         0.19131755626940275,
         0.18602097746270288,
         0.18633596767176405,
         0.1928454448997031,
         0.19600081291406615,
         0.19258092923926,
         0.19087778476427697,
         0.18812625769504648,
         0.18797048025382426,
         0.1883687689324101,
         0.1909017947615673,
         0.18542053222904079,
         0.18582106729976247,
         0.18755860476525124,
         0.1935211616744114,
         0.19604364719891584,
         0.18675286241821767,
         0.18886124881865302,
         0.1867668224937366,
         0.1911314748934986,
         0.1921030118328603,
         0.18629938457615838,
         0.19322111669427733,
         0.19249761973465238,
         0.19015589447778883,
         0.19051331664364854,
         0.1888798604772711,
         0.18884420299390364,
         0.19385580879180733,
         0.1865035613478606,
         0.19348863721152684,
         0.18951976604914392,
         0.19054540680843673,
         0.18797568390157213,
         0.18809846554808773,
         0.1877517097438313,
         0.18921579451116197,
         0.19027719739293447,
         0.18771524087242838,
         0.18601866413874235,
         0.18595655474391853,
         0.1910887210673616,
         0.19133066770821522,
         0.19465974754494308,
         0.19158953990103372,
         0.19214594315771968,
         0.19110651244940577,
         0.18853327557113178,
         0.18937091485667165,
         0.18535537339377325,
         0.18603673897793221,
         0.18860463443577963,
         0.18644688517162744,
         0.19395667901712735,
         0.19343017666959367,
         0.18857390070568741,
         0.18802570429625406,
         0.18658057914624585,
         0.1926707047888139,
         0.18260894479134138,
         0.1897985668269968,
         0.18943367089651716,
         0.18780718798871646,
         0.18887129129568003,
         0.19374317736273192,
         0.19152117385259992,
         0.19276532077505343,
         0.191661743209379,
         0.18957510243813797,
         0.19064064992692134,
         0.1932347578292396,
         0.1899507640602953,
         0.1923207577785982,
         0.19006412212512364,
         0.18657606955572,
         0.18914253478518353,
         0.19223065522183833,
         0.1920696338531,
         0.18949094911664724,
         0.1935812218590045
        ],
        [
         0.24505326383537157,
         0.24459701782895946,
         0.24590919246239698,
         0.24321851606352948,
         0.24927455292758988,
         0.24641930830537104,
         0.2487003264683938,
         0.24607415131393673,
         0.24683135488600122,
         0.2471199864065092,
         0.24740547531594834,
         0.2436302119920797,
         0.24830882550746786,
         0.24589442628819277,
         0.24393097587915905,
         0.24558025940924005,
         0.24524129108142326,
         0.24913303206181703,
         0.24451598725007737,
         0.24684526203382834,
         0.24362694427334503,
         0.24498286270810402,
         0.24638485571588664,
         0.24630829590537093,
         0.25122036127483144,
         0.24708255719137834,
         0.24371134299173147,
         0.2448641686499411,
         0.24337119514159128,
         0.24325630363697806,
         0.24638358931349336,
         0.242603389053222,
         0.24288803204784498,
         0.24420099017922492,
         0.24924744201787546,
         0.2487835620653213,
         0.24322342956621273,
         0.2459757357023145,
         0.2469187248224283,
         0.2453504337509181,
         0.24388153242476868,
         0.24668550237501954,
         0.2454285515807843,
         0.24610813096275225,
         0.2521313379299553,
         0.24799159054151354,
         0.2424061889577584,
         0.24568426439666427,
         0.24964958396466339,
         0.24948137878056834,
         0.24564397039220615,
         0.2451884712950856,
         0.2446829765468982,
         0.24494070549696392,
         0.24902866498621948,
         0.24349129270287415,
         0.2487483271899834,
         0.25190624894172536,
         0.2447972154774356,
         0.24198659204457904,
         0.24457070494399352,
         0.2468386374633102,
         0.2465026934320728,
         0.24905696428180032,
         0.2476506237917598,
         0.24562598277321634,
         0.2444945300253583,
         0.2462007272440721,
         0.24432409096363128,
         0.2429183955651288,
         0.24289822005940712,
         0.24493456125149832,
         0.24492750461578516,
         0.25050716477848006,
         0.2525305145913187,
         0.24473157734838405,
         0.24294062928460977,
         0.2483082541479163,
         0.24623425805703827,
         0.24209438243369555,
         0.24820457038232216,
         0.24888802348983055,
         0.24521139680462725,
         0.2474813687012476,
         0.2497840587679735,
         0.24674433194484344,
         0.24635724102457365,
         0.24748826232583573,
         0.24788757966940894,
         0.2486651393256205,
         0.24929632558304743,
         0.2439887830531042,
         0.2455618063321191,
         0.2455238248518321,
         0.24168718121398022,
         0.24671201220275285,
         0.25093326138734234,
         0.2473634021612359,
         0.24993359109879854,
         0.24697209013552934
        ],
        [
         24.9954329112079,
         24.948895818553865,
         25.08273763116449,
         24.808288638480008,
         25.426004398614168,
         25.134769447147846,
         25.367433299776167,
         25.099563434021547,
         25.176798198372126,
         25.20623861346394,
         25.23535848222673,
         24.85028162319213,
         25.327500201761723,
         25.081231481395662,
         24.880959539674222,
         25.049186459742486,
         25.014611690305173,
         25.411569270305336,
         24.940630699507892,
         25.17821672745049,
         24.849948315881193,
         24.98825199622661,
         25.131255283020437,
         25.123446182347834,
         25.624476850032806,
         25.20242083352059,
         24.85855698515661,
         24.976145202293992,
         24.82386190444231,
         24.812142970971763,
         25.13112610997632,
         24.745545683428645,
         24.77457926888019,
         24.908500998280942,
         25.423239085823298,
         25.375923330662772,
         24.8087898157537,
         25.08952504163608,
         25.185709931887686,
         25.025744242593646,
         24.875916307326406,
         25.161921242251992,
         25.033712261239998,
         25.10302935820073,
         25.71739646885544,
         25.29514223523438,
         24.725431273691356,
         25.059794968459755,
         25.464257564395666,
         25.44710063561797,
         25.055684980005026,
         25.009224072098732,
         24.957663607783616,
         24.98395196069032,
         25.400923828594387,
         24.83611185569316,
         25.372329373378307,
         25.69443739205599,
         24.969315978698432,
         24.682632388547063,
         24.94621190428734,
         25.17754102125764,
         25.143274730071425,
         25.403810356743634,
         25.2603636267595,
         25.053850242868066,
         24.938442062586546,
         25.112474178895354,
         24.92105727829039,
         24.777676347643137,
         24.775618446059525,
         24.98332524765283,
         24.982605470810086,
         25.551730807404965,
         25.75811248831451,
         24.962620889535174,
         24.779944187030196,
         25.327441923087463,
         25.115894321817905,
         24.693627008236945,
         25.31686617899686,
         25.386578395962715,
         25.01156247407198,
         25.243099607527256,
         25.477973994333297,
         25.16792185837403,
         25.12843858450651,
         25.243802757235244,
         25.28453312627971,
         25.36384421121329,
         25.42822520947084,
         24.88685587141663,
         25.04730424587615,
         25.043430134886876,
         24.65209248382598,
         25.164625244680792,
         25.595192661508918,
         25.231067020446062,
         25.493226292077452,
         25.191153193823993
        ],
        [
         4.357184824524145,
         4.367301397094981,
         4.381785543582947,
         4.346808416364192,
         4.427558403612468,
         4.428043247998517,
         4.444507445772283,
         4.38470791517991,
         4.4686853311650365,
         4.398896708195287,
         4.393597385164591,
         4.361535261225395,
         4.362307908117468,
         4.406236688028457,
         4.417136057219597,
         4.435253116689081,
         4.409637866049099,
         4.399056654387558,
         4.424880695665822,
         4.410242968937823,
         4.41750956303199,
         4.355931553777641,
         4.359617953734011,
         4.435113908319571,
         4.471250710621665,
         4.43207116170358,
         4.412429494729207,
         4.38051118990635,
         4.378697179057952,
         4.3833337120399385,
         4.412706999754217,
         4.348895754943104,
         4.353590341841522,
         4.373897310872264,
         4.442877276134236,
         4.471739260543867,
         4.364492177408295,
         4.389059965357342,
         4.364655300749549,
         4.415360737146724,
         4.426568333026357,
         4.359189973695588,
         4.439431709443934,
         4.431112412581578,
         4.404077796398975,
         4.408214865186603,
         4.389276223784697,
         4.388861891809557,
         4.446717047076905,
         4.361578069630507,
         4.4425039105864315,
         4.396705145562148,
         4.408586110586993,
         4.378757787085324,
         4.38018760852831,
         4.376148351446827,
         4.3931777838073565,
         4.405482281666709,
         4.375723319519607,
         4.3559044688964095,
         4.355177216127913,
         4.41486687781986,
         4.417660931560723,
         4.455927989721579,
         4.4206484897473395,
         4.427062931796588,
         4.415072396896726,
         4.385247325779407,
         4.394978192821951,
         4.348131562655949,
         4.356116088415124,
         4.386077143923659,
         4.360915303867526,
         4.4478737908968355,
         4.4418327321386775,
         4.385719766695098,
         4.379340342816245,
         4.362478546986457,
         4.433104091768995,
         4.315797999063073,
         4.399937933238794,
         4.395706363196335,
         4.376794851812121,
         4.38917665538303,
         4.445425074275649,
         4.419859696072398,
         4.434192453993788,
         4.42148140416271,
         4.397346978428024,
         4.409687777218018,
         4.439588415448266,
         4.401701708901923,
         4.42907634766178,
         4.403014928064929,
         4.362425826840318,
         4.392327235997874,
         4.4280387117354225,
         4.426183757258187,
         4.396370868102237,
         4.4435666563717096
        ]
       ],
       "encoder": "json",
       "name": "ABC_GAN_3 Metrics",
       "version": 1
      }
     },
     "metadata": {
      "scrapbook": {
       "data": true,
       "display": false,
       "name": "ABC_GAN_3 Metrics"
      }
     },
     "output_type": "display_data"
    },
    {
     "name": "stdout",
     "output_type": "stream",
     "text": [
      "MSE\n",
      "0.1898771764868054\n"
     ]
    }
   ],
   "source": [
    "ABC_GAN3_metrics=ABC_train_test2.test_generator(gen3,test_data,prior_model,variance,0,\"3\",device)\n",
    "sb.glue(\"ABC_GAN_3 Metrics\",ABC_GAN3_metrics)\n",
    "\n",
    "print(\"MSE\")\n",
    "print(mean(ABC_GAN3_metrics[0]))"
   ]
  },
  {
   "cell_type": "code",
   "execution_count": 18,
   "id": "c8e46b48",
   "metadata": {
    "execution": {
     "iopub.execute_input": "2022-03-11T09:43:25.337290Z",
     "iopub.status.busy": "2022-03-11T09:43:25.336885Z",
     "iopub.status.idle": "2022-03-11T09:43:25.662180Z",
     "shell.execute_reply": "2022-03-11T09:43:25.662479Z"
    },
    "id": "c8e46b48",
    "papermill": {
     "duration": 0.344628,
     "end_time": "2022-03-11T09:43:25.662598",
     "exception": false,
     "start_time": "2022-03-11T09:43:25.317970",
     "status": "completed"
    },
    "tags": []
   },
   "outputs": [
    {
     "data": {
      "image/png": "[encoded data removed]",
      "text/plain": [
       "<Figure size 432x288 with 1 Axes>"
      ]
     },
     "metadata": {
      "needs_background": "light"
     },
     "output_type": "display_data"
    },
    {
     "data": {
      "image/png": "[encoded data removed]",
      "text/plain": [
       "<Figure size 432x288 with 1 Axes>"
      ]
     },
     "metadata": {
      "needs_background": "light"
     },
     "output_type": "display_data"
    },
    {
     "data": {
      "image/png": "[encoded data removed]",
      "text/plain": [
       "<Figure size 432x288 with 1 Axes>"
      ]
     },
     "metadata": {
      "needs_background": "light"
     },
     "output_type": "display_data"
    },
    {
     "data": {
      "image/png": "[encoded data removed]",
      "text/plain": [
       "<Figure size 432x288 with 1 Axes>"
      ]
     },
     "metadata": {
      "needs_background": "light"
     },
     "output_type": "display_data"
    }
   ],
   "source": [
    "sanityChecks.discProbVsError(train_data,disc3,device)\n",
    "sanityChecks.discProbVsError(test_data,disc3,device)"
   ]
  },
  {
   "cell_type": "markdown",
   "id": "a5bd74c3",
   "metadata": {
    "id": "a5bd74c3",
    "papermill": {
     "duration": 0.020022,
     "end_time": "2022-03-11T09:43:25.702174",
     "exception": false,
     "start_time": "2022-03-11T09:43:25.682152",
     "status": "completed"
    },
    "tags": []
   },
   "source": [
    "## Skip Connection Model Analysis - ABC-GAN "
   ]
  },
  {
   "cell_type": "markdown",
   "id": "5744a8bf",
   "metadata": {
    "id": "5744a8bf",
    "papermill": {
     "duration": 0.019091,
     "end_time": "2022-03-11T09:43:25.740829",
     "exception": false,
     "start_time": "2022-03-11T09:43:25.721738",
     "status": "completed"
    },
    "tags": []
   },
   "source": [
    "### Weight Analysis \n",
    "\n",
    "Study the weights of the skip connection layer\n",
    "\n",
    "Equation of the skip connection is \n",
    "\n",
    "$output = y_{gan} * w + y_{abc} * (1-w)$"
   ]
  },
  {
   "cell_type": "code",
   "execution_count": 19,
   "id": "52c31dea",
   "metadata": {
    "execution": {
     "iopub.execute_input": "2022-03-11T09:43:25.782421Z",
     "iopub.status.busy": "2022-03-11T09:43:25.782021Z",
     "iopub.status.idle": "2022-03-11T09:43:25.785418Z",
     "shell.execute_reply": "2022-03-11T09:43:25.785659Z"
    },
    "id": "52c31dea",
    "papermill": {
     "duration": 0.025792,
     "end_time": "2022-03-11T09:43:25.785775",
     "exception": false,
     "start_time": "2022-03-11T09:43:25.759983",
     "status": "completed"
    },
    "tags": []
   },
   "outputs": [
    {
     "name": "stdout",
     "output_type": "stream",
     "text": [
      "Weight of the node at skip connection\n",
      "Parameter containing:\n",
      "tensor([[0.9622]], requires_grad=True)\n"
     ]
    },
    {
     "data": {
      "application/scrapbook.scrap.json+json": {
       "data": 0.9621789455413818,
       "encoder": "json",
       "name": "Skip Connection Weight",
       "version": 1
      }
     },
     "metadata": {
      "scrapbook": {
       "data": true,
       "display": false,
       "name": "Skip Connection Weight"
      }
     },
     "output_type": "display_data"
    }
   ],
   "source": [
    "print(\"Weight of the node at skip connection\")\n",
    "for name,param in gen3.named_parameters():\n",
    "    if(name == \"skipNode.weight\"):\n",
    "        print(param)\n",
    "        sb.glue(\"Skip Connection Weight\",param.item())"
   ]
  }
 ],
 "metadata": {
  "colab": {
   "collapsed_sections": [],
   "name": "ABC_GAN_Model-Catboost_Pre-gen.ipynb",
   "provenance": []
  },
  "interpreter": {
   "hash": "31f2aee4e71d21fbe5cf8b01ff0e069b9275f58929596ceb00d14d90e3e16cd6"
  },
  "kernelspec": {
   "display_name": "Python 3 (ipykernel)",
   "language": "python",
   "name": "python3"
  },
  "language_info": {
   "codemirror_mode": {
    "name": "ipython",
    "version": 3
   },
   "file_extension": ".py",
   "mimetype": "text/x-python",
   "name": "python",
   "nbconvert_exporter": "python",
   "pygments_lexer": "ipython3",
   "version": "3.8.11"
  },
  "papermill": {
   "default_parameters": {},
   "duration": 189.617422,
   "end_time": "2022-03-11T09:43:26.114165",
   "environment_variables": {},
   "exception": null,
   "input_path": "ABC_GAN-Catboost.ipynb",
   "output_path": "./ABC_GAN_Catboost/ABC-GAN_output_2_0.ipynb",
   "parameters": {
    "variance": 1
   },
   "start_time": "2022-03-11T09:40:16.496743",
   "version": "2.3.3"
  }
 },
 "nbformat": 4,
 "nbformat_minor": 5
}