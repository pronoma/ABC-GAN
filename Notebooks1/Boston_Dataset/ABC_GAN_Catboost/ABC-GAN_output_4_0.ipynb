{
 "cells": [
  {
   "cell_type": "markdown",
   "id": "622780e6",
   "metadata": {
    "id": "622780e6",
    "papermill": {
     "duration": 0.026481,
     "end_time": "2022-03-11T09:59:36.348329",
     "exception": false,
     "start_time": "2022-03-11T09:59:36.321848",
     "status": "completed"
    },
    "tags": []
   },
   "source": [
    "## Import Libraries "
   ]
  },
  {
   "cell_type": "code",
   "execution_count": 1,
   "id": "a62397e3",
   "metadata": {
    "execution": {
     "iopub.execute_input": "2022-03-11T09:59:36.380233Z",
     "iopub.status.busy": "2022-03-11T09:59:36.379660Z",
     "iopub.status.idle": "2022-03-11T09:59:36.382159Z",
     "shell.execute_reply": "2022-03-11T09:59:36.382498Z"
    },
    "id": "a62397e3",
    "papermill": {
     "duration": 0.023239,
     "end_time": "2022-03-11T09:59:36.382711",
     "exception": false,
     "start_time": "2022-03-11T09:59:36.359472",
     "status": "completed"
    },
    "tags": []
   },
   "outputs": [],
   "source": [
    "import warnings\n",
    "import sys\n",
    "sys.path.insert(0, '../../src')\n",
    "warnings.filterwarnings('ignore')"
   ]
  },
  {
   "cell_type": "code",
   "execution_count": 2,
   "id": "d6a4e155",
   "metadata": {
    "execution": {
     "iopub.execute_input": "2022-03-11T09:59:36.406159Z",
     "iopub.status.busy": "2022-03-11T09:59:36.405687Z",
     "iopub.status.idle": "2022-03-11T09:59:38.149713Z",
     "shell.execute_reply": "2022-03-11T09:59:38.149974Z"
    },
    "id": "d6a4e155",
    "papermill": {
     "duration": 1.756303,
     "end_time": "2022-03-11T09:59:38.150097",
     "exception": false,
     "start_time": "2022-03-11T09:59:36.393794",
     "status": "completed"
    },
    "tags": []
   },
   "outputs": [],
   "source": [
    "import ABC_train_test2\n",
    "import bostonDataset\n",
    "import network\n",
    "import dataset\n",
    "import sanityChecks\n",
    "import torch \n",
    "import scrapbook as sb\n",
    "from statistics import mean \n",
    "import catboost as ctb \n",
    "from sklearn.model_selection import train_test_split\n",
    "from sklearn.metrics import mean_squared_error,mean_absolute_error\n",
    "import numpy as np"
   ]
  },
  {
   "cell_type": "markdown",
   "id": "2fa5b0f7",
   "metadata": {
    "id": "2fa5b0f7",
    "papermill": {
     "duration": 0.006687,
     "end_time": "2022-03-11T09:59:38.163860",
     "exception": false,
     "start_time": "2022-03-11T09:59:38.157173",
     "status": "completed"
    },
    "tags": []
   },
   "source": [
    "## Parameters "
   ]
  },
  {
   "cell_type": "code",
   "execution_count": 3,
   "id": "783186fb",
   "metadata": {
    "execution": {
     "iopub.execute_input": "2022-03-11T09:59:38.179440Z",
     "iopub.status.busy": "2022-03-11T09:59:38.179060Z",
     "iopub.status.idle": "2022-03-11T09:59:38.180242Z",
     "shell.execute_reply": "2022-03-11T09:59:38.180477Z"
    },
    "id": "783186fb",
    "papermill": {
     "duration": 0.010064,
     "end_time": "2022-03-11T09:59:38.180585",
     "exception": false,
     "start_time": "2022-03-11T09:59:38.170521",
     "status": "completed"
    },
    "tags": [
     "parameters"
    ]
   },
   "outputs": [],
   "source": [
    "variance = 1"
   ]
  },
  {
   "cell_type": "code",
   "execution_count": 4,
   "id": "f77837ca",
   "metadata": {
    "execution": {
     "iopub.execute_input": "2022-03-11T09:59:38.195977Z",
     "iopub.status.busy": "2022-03-11T09:59:38.195589Z",
     "iopub.status.idle": "2022-03-11T09:59:38.196825Z",
     "shell.execute_reply": "2022-03-11T09:59:38.197071Z"
    },
    "papermill": {
     "duration": 0.009808,
     "end_time": "2022-03-11T09:59:38.197177",
     "exception": false,
     "start_time": "2022-03-11T09:59:38.187369",
     "status": "completed"
    },
    "tags": [
     "injected-parameters"
    ]
   },
   "outputs": [],
   "source": [
    "# Parameters\n",
    "variance = 1\n"
   ]
  },
  {
   "cell_type": "markdown",
   "id": "391cdbfd",
   "metadata": {
    "id": "391cdbfd",
    "papermill": {
     "duration": 0.006705,
     "end_time": "2022-03-11T09:59:38.210687",
     "exception": false,
     "start_time": "2022-03-11T09:59:38.203982",
     "status": "completed"
    },
    "tags": []
   },
   "source": [
    "## Dataset \n"
   ]
  },
  {
   "cell_type": "code",
   "execution_count": 5,
   "id": "5b51f161",
   "metadata": {
    "execution": {
     "iopub.execute_input": "2022-03-11T09:59:38.225999Z",
     "iopub.status.busy": "2022-03-11T09:59:38.225646Z",
     "iopub.status.idle": "2022-03-11T09:59:38.226837Z",
     "shell.execute_reply": "2022-03-11T09:59:38.227139Z"
    },
    "id": "5b51f161",
    "papermill": {
     "duration": 0.009829,
     "end_time": "2022-03-11T09:59:38.227244",
     "exception": false,
     "start_time": "2022-03-11T09:59:38.217415",
     "status": "completed"
    },
    "tags": []
   },
   "outputs": [],
   "source": [
    "#Parameters \n",
    "n_features = 13\n",
    "n_samples= 506\n",
    "n_target = 1 "
   ]
  },
  {
   "cell_type": "code",
   "execution_count": 6,
   "id": "5d6eced4",
   "metadata": {
    "execution": {
     "iopub.execute_input": "2022-03-11T09:59:38.242754Z",
     "iopub.status.busy": "2022-03-11T09:59:38.242386Z",
     "iopub.status.idle": "2022-03-11T09:59:38.253115Z",
     "shell.execute_reply": "2022-03-11T09:59:38.253356Z"
    },
    "id": "5d6eced4",
    "papermill": {
     "duration": 0.019368,
     "end_time": "2022-03-11T09:59:38.253463",
     "exception": false,
     "start_time": "2022-03-11T09:59:38.234095",
     "status": "completed"
    },
    "tags": []
   },
   "outputs": [
    {
     "name": "stdout",
     "output_type": "stream",
     "text": [
      "         X1        X2        X3        X4        X5        X6        X7  \\\n",
      "0 -0.419782  0.284830 -1.287909 -0.272599 -0.144217  0.413672 -0.120013   \n",
      "1 -0.417339 -0.487722 -0.593381 -0.272599 -0.740262  0.194274  0.367166   \n",
      "2 -0.417342 -0.487722 -0.593381 -0.272599 -0.740262  1.282714 -0.265812   \n",
      "3 -0.416750 -0.487722 -1.306878 -0.272599 -0.835284  1.016303 -0.809889   \n",
      "4 -0.412482 -0.487722 -1.306878 -0.272599 -0.835284  1.228577 -0.511180   \n",
      "\n",
      "         X8        X9       X10       X11       X12       X13         Y  \n",
      "0  0.140214 -0.982843 -0.666608 -1.459000  0.441052 -1.075562  0.159686  \n",
      "1  0.557160 -0.867883 -0.987329 -0.303094  0.441052 -0.492439 -0.101524  \n",
      "2  0.557160 -0.867883 -0.987329 -0.303094  0.396427 -1.208727  1.324247  \n",
      "3  1.077737 -0.752922 -1.106115  0.113032  0.416163 -1.361517  1.182758  \n",
      "4  1.077737 -0.752922 -1.106115  0.113032  0.441052 -1.026501  1.487503  \n"
     ]
    }
   ],
   "source": [
    "X,Y = bostonDataset.boston_data()"
   ]
  },
  {
   "cell_type": "code",
   "execution_count": 7,
   "id": "fe007438",
   "metadata": {
    "execution": {
     "iopub.execute_input": "2022-03-11T09:59:38.270480Z",
     "iopub.status.busy": "2022-03-11T09:59:38.270115Z",
     "iopub.status.idle": "2022-03-11T09:59:38.271424Z",
     "shell.execute_reply": "2022-03-11T09:59:38.271664Z"
    },
    "id": "fe007438",
    "papermill": {
     "duration": 0.011001,
     "end_time": "2022-03-11T09:59:38.271769",
     "exception": false,
     "start_time": "2022-03-11T09:59:38.260768",
     "status": "completed"
    },
    "tags": []
   },
   "outputs": [],
   "source": [
    "#Train test split for dataset \n",
    "X_train,X_test,Y_train,Y_test = train_test_split(X,Y,test_size = 0.2)\n",
    "train_data = dataset.CustomDataset(X_train,Y_train)\n",
    "test_data = dataset.CustomDataset(X_test,Y_test)\n"
   ]
  },
  {
   "cell_type": "markdown",
   "id": "a9a1af34",
   "metadata": {
    "id": "a9a1af34",
    "papermill": {
     "duration": 0.007024,
     "end_time": "2022-03-11T09:59:38.285881",
     "exception": false,
     "start_time": "2022-03-11T09:59:38.278857",
     "status": "completed"
    },
    "tags": []
   },
   "source": [
    "## Training Parameters "
   ]
  },
  {
   "cell_type": "code",
   "execution_count": 8,
   "id": "952b7fc8",
   "metadata": {
    "execution": {
     "iopub.execute_input": "2022-03-11T09:59:38.302182Z",
     "iopub.status.busy": "2022-03-11T09:59:38.301818Z",
     "iopub.status.idle": "2022-03-11T09:59:38.303156Z",
     "shell.execute_reply": "2022-03-11T09:59:38.303404Z"
    },
    "id": "952b7fc8",
    "papermill": {
     "duration": 0.010643,
     "end_time": "2022-03-11T09:59:38.303511",
     "exception": false,
     "start_time": "2022-03-11T09:59:38.292868",
     "status": "completed"
    },
    "tags": []
   },
   "outputs": [],
   "source": [
    "batch_size = 64\n",
    "n_epochs = 1000\n",
    "#Select the device \n",
    "device = torch.device('cuda' if torch.cuda.is_available() else 'cpu')"
   ]
  },
  {
   "cell_type": "markdown",
   "id": "a95e1600",
   "metadata": {
    "id": "a95e1600",
    "papermill": {
     "duration": 0.006989,
     "end_time": "2022-03-11T09:59:38.317574",
     "exception": false,
     "start_time": "2022-03-11T09:59:38.310585",
     "status": "completed"
    },
    "tags": []
   },
   "source": [
    "# ABC Pre-generator Model \n",
    "\n",
    "1. The catboost model is used as a pre-generator model for the ABC-GAN. \n",
    "2. The model is first trained on the entire dataset \n",
    "3. It generats X,Y pairs and we add some Gaussian noise with mean 0 and variance 1 to it which is then feed as input to the generator.\n"
   ]
  },
  {
   "cell_type": "code",
   "execution_count": 9,
   "id": "ff8ce7bd",
   "metadata": {
    "execution": {
     "iopub.execute_input": "2022-03-11T09:59:38.336303Z",
     "iopub.status.busy": "2022-03-11T09:59:38.335927Z",
     "iopub.status.idle": "2022-03-11T09:59:39.318404Z",
     "shell.execute_reply": "2022-03-11T09:59:39.318771Z"
    },
    "id": "ff8ce7bd",
    "papermill": {
     "duration": 0.994266,
     "end_time": "2022-03-11T09:59:39.318894",
     "exception": false,
     "start_time": "2022-03-11T09:59:38.324628",
     "status": "completed"
    },
    "tags": []
   },
   "outputs": [
    {
     "name": "stdout",
     "output_type": "stream",
     "text": [
      "Learning rate set to 0.033215\n",
      "0:\tlearn: 0.9812085\ttotal: 58.8ms\tremaining: 58.7s\n",
      "1:\tlearn: 0.9606659\ttotal: 59.8ms\tremaining: 29.8s\n",
      "2:\tlearn: 0.9390168\ttotal: 60.7ms\tremaining: 20.2s\n",
      "3:\tlearn: 0.9218568\ttotal: 61.6ms\tremaining: 15.3s\n",
      "4:\tlearn: 0.9043444\ttotal: 62.6ms\tremaining: 12.5s\n",
      "5:\tlearn: 0.8893124\ttotal: 63.6ms\tremaining: 10.5s\n",
      "6:\tlearn: 0.8743665\ttotal: 64.6ms\tremaining: 9.16s\n",
      "7:\tlearn: 0.8575042\ttotal: 65.5ms\tremaining: 8.12s\n",
      "8:\tlearn: 0.8422951\ttotal: 66.3ms\tremaining: 7.3s\n",
      "9:\tlearn: 0.8261771\ttotal: 67.1ms\tremaining: 6.64s\n",
      "10:\tlearn: 0.8111030\ttotal: 67.9ms\tremaining: 6.11s\n",
      "11:\tlearn: 0.7954465\ttotal: 68.7ms\tremaining: 5.66s\n",
      "12:\tlearn: 0.7802319\ttotal: 69.5ms\tremaining: 5.28s\n",
      "13:\tlearn: 0.7652987\ttotal: 70.3ms\tremaining: 4.95s\n",
      "14:\tlearn: 0.7517104\ttotal: 71.1ms\tremaining: 4.67s\n",
      "15:\tlearn: 0.7381475\ttotal: 71.9ms\tremaining: 4.42s\n",
      "16:\tlearn: 0.7241367\ttotal: 72.7ms\tremaining: 4.2s\n",
      "17:\tlearn: 0.7120305\ttotal: 73.5ms\tremaining: 4.01s\n",
      "18:\tlearn: 0.6994443\ttotal: 74.2ms\tremaining: 3.83s\n",
      "19:\tlearn: 0.6867871\ttotal: 75ms\tremaining: 3.67s\n",
      "20:\tlearn: 0.6745727\ttotal: 75.8ms\tremaining: 3.53s\n",
      "21:\tlearn: 0.6632364\ttotal: 76.5ms\tremaining: 3.4s\n",
      "22:\tlearn: 0.6518357\ttotal: 77.3ms\tremaining: 3.28s\n",
      "23:\tlearn: 0.6415550\ttotal: 78.1ms\tremaining: 3.17s\n",
      "24:\tlearn: 0.6311928\ttotal: 78.7ms\tremaining: 3.07s\n",
      "25:\tlearn: 0.6223186\ttotal: 79.5ms\tremaining: 2.98s\n",
      "26:\tlearn: 0.6134149\ttotal: 80.2ms\tremaining: 2.89s\n",
      "27:\tlearn: 0.6046373\ttotal: 80.9ms\tremaining: 2.81s\n",
      "28:\tlearn: 0.5947256\ttotal: 81.6ms\tremaining: 2.73s\n",
      "29:\tlearn: 0.5852730\ttotal: 82.5ms\tremaining: 2.67s\n",
      "30:\tlearn: 0.5761814\ttotal: 83.2ms\tremaining: 2.6s\n",
      "31:\tlearn: 0.5676892\ttotal: 84ms\tremaining: 2.54s\n",
      "32:\tlearn: 0.5591708\ttotal: 84.7ms\tremaining: 2.48s\n",
      "33:\tlearn: 0.5513967\ttotal: 85.5ms\tremaining: 2.43s\n",
      "34:\tlearn: 0.5448907\ttotal: 86.2ms\tremaining: 2.38s\n",
      "35:\tlearn: 0.5374195\ttotal: 86.9ms\tremaining: 2.33s\n",
      "36:\tlearn: 0.5303790\ttotal: 87.7ms\tremaining: 2.28s\n",
      "37:\tlearn: 0.5232785\ttotal: 88.7ms\tremaining: 2.25s\n",
      "38:\tlearn: 0.5159409\ttotal: 89.4ms\tremaining: 2.2s\n",
      "39:\tlearn: 0.5081735\ttotal: 90.3ms\tremaining: 2.17s\n",
      "40:\tlearn: 0.5024779\ttotal: 91.2ms\tremaining: 2.13s\n",
      "41:\tlearn: 0.4955512\ttotal: 92ms\tremaining: 2.1s\n",
      "42:\tlearn: 0.4895875\ttotal: 92.7ms\tremaining: 2.06s\n",
      "43:\tlearn: 0.4837897\ttotal: 93.6ms\tremaining: 2.03s\n",
      "44:\tlearn: 0.4779895\ttotal: 94.4ms\tremaining: 2s\n",
      "45:\tlearn: 0.4712792\ttotal: 95.3ms\tremaining: 1.98s\n",
      "46:\tlearn: 0.4661966\ttotal: 96.1ms\tremaining: 1.95s\n",
      "47:\tlearn: 0.4607225\ttotal: 96.9ms\tremaining: 1.92s\n",
      "48:\tlearn: 0.4561025\ttotal: 97.8ms\tremaining: 1.9s\n",
      "49:\tlearn: 0.4512407\ttotal: 98.7ms\tremaining: 1.88s\n",
      "50:\tlearn: 0.4464822\ttotal: 99.5ms\tremaining: 1.85s\n",
      "51:\tlearn: 0.4413713\ttotal: 100ms\tremaining: 1.83s\n",
      "52:\tlearn: 0.4367141\ttotal: 101ms\tremaining: 1.8s\n",
      "53:\tlearn: 0.4330205\ttotal: 102ms\tremaining: 1.78s\n",
      "54:\tlearn: 0.4284026\ttotal: 102ms\tremaining: 1.76s\n",
      "55:\tlearn: 0.4244301\ttotal: 103ms\tremaining: 1.74s\n",
      "56:\tlearn: 0.4204083\ttotal: 105ms\tremaining: 1.73s\n",
      "57:\tlearn: 0.4162499\ttotal: 105ms\tremaining: 1.71s\n",
      "58:\tlearn: 0.4125555\ttotal: 106ms\tremaining: 1.69s\n",
      "59:\tlearn: 0.4091930\ttotal: 107ms\tremaining: 1.68s\n",
      "60:\tlearn: 0.4055385\ttotal: 108ms\tremaining: 1.66s\n",
      "61:\tlearn: 0.4015623\ttotal: 109ms\tremaining: 1.65s\n"
     ]
    },
    {
     "name": "stdout",
     "output_type": "stream",
     "text": [
      "62:\tlearn: 0.3983734\ttotal: 110ms\tremaining: 1.63s\n",
      "63:\tlearn: 0.3947923\ttotal: 111ms\tremaining: 1.62s\n",
      "64:\tlearn: 0.3915492\ttotal: 112ms\tremaining: 1.6s\n",
      "65:\tlearn: 0.3881866\ttotal: 112ms\tremaining: 1.59s\n",
      "66:\tlearn: 0.3843137\ttotal: 113ms\tremaining: 1.58s\n",
      "67:\tlearn: 0.3811083\ttotal: 114ms\tremaining: 1.56s\n",
      "68:\tlearn: 0.3780214\ttotal: 115ms\tremaining: 1.55s\n",
      "69:\tlearn: 0.3746354\ttotal: 116ms\tremaining: 1.54s\n",
      "70:\tlearn: 0.3710754\ttotal: 116ms\tremaining: 1.52s\n",
      "71:\tlearn: 0.3685756\ttotal: 117ms\tremaining: 1.51s\n",
      "72:\tlearn: 0.3657714\ttotal: 118ms\tremaining: 1.5s\n",
      "73:\tlearn: 0.3626442\ttotal: 119ms\tremaining: 1.49s\n",
      "74:\tlearn: 0.3604096\ttotal: 120ms\tremaining: 1.48s\n",
      "75:\tlearn: 0.3576876\ttotal: 121ms\tremaining: 1.47s\n",
      "76:\tlearn: 0.3552360\ttotal: 121ms\tremaining: 1.46s\n",
      "77:\tlearn: 0.3521280\ttotal: 122ms\tremaining: 1.44s\n",
      "78:\tlearn: 0.3490879\ttotal: 123ms\tremaining: 1.43s\n",
      "79:\tlearn: 0.3468233\ttotal: 124ms\tremaining: 1.43s\n",
      "80:\tlearn: 0.3440297\ttotal: 125ms\tremaining: 1.42s\n",
      "81:\tlearn: 0.3416577\ttotal: 126ms\tremaining: 1.41s\n",
      "82:\tlearn: 0.3398359\ttotal: 126ms\tremaining: 1.4s\n",
      "83:\tlearn: 0.3371418\ttotal: 127ms\tremaining: 1.39s\n",
      "84:\tlearn: 0.3354076\ttotal: 128ms\tremaining: 1.38s\n",
      "85:\tlearn: 0.3324358\ttotal: 129ms\tremaining: 1.37s\n",
      "86:\tlearn: 0.3302140\ttotal: 130ms\tremaining: 1.36s\n",
      "87:\tlearn: 0.3279740\ttotal: 131ms\tremaining: 1.35s\n",
      "88:\tlearn: 0.3257365\ttotal: 131ms\tremaining: 1.34s\n",
      "89:\tlearn: 0.3236541\ttotal: 132ms\tremaining: 1.33s\n",
      "90:\tlearn: 0.3214165\ttotal: 133ms\tremaining: 1.33s\n",
      "91:\tlearn: 0.3196353\ttotal: 134ms\tremaining: 1.32s\n",
      "92:\tlearn: 0.3183157\ttotal: 134ms\tremaining: 1.31s\n",
      "93:\tlearn: 0.3164852\ttotal: 135ms\tremaining: 1.3s\n",
      "94:\tlearn: 0.3144050\ttotal: 136ms\tremaining: 1.29s\n",
      "95:\tlearn: 0.3127790\ttotal: 137ms\tremaining: 1.29s\n",
      "96:\tlearn: 0.3108772\ttotal: 137ms\tremaining: 1.28s\n",
      "97:\tlearn: 0.3090186\ttotal: 138ms\tremaining: 1.27s\n",
      "98:\tlearn: 0.3077439\ttotal: 139ms\tremaining: 1.27s\n",
      "99:\tlearn: 0.3064448\ttotal: 140ms\tremaining: 1.26s\n",
      "100:\tlearn: 0.3051560\ttotal: 141ms\tremaining: 1.25s\n",
      "101:\tlearn: 0.3035888\ttotal: 142ms\tremaining: 1.25s\n",
      "102:\tlearn: 0.3020037\ttotal: 143ms\tremaining: 1.24s\n",
      "103:\tlearn: 0.3006885\ttotal: 143ms\tremaining: 1.24s\n",
      "104:\tlearn: 0.2997225\ttotal: 144ms\tremaining: 1.23s\n",
      "105:\tlearn: 0.2983210\ttotal: 145ms\tremaining: 1.22s\n",
      "106:\tlearn: 0.2969927\ttotal: 146ms\tremaining: 1.22s\n",
      "107:\tlearn: 0.2952560\ttotal: 147ms\tremaining: 1.21s\n",
      "108:\tlearn: 0.2939076\ttotal: 148ms\tremaining: 1.21s\n",
      "109:\tlearn: 0.2927917\ttotal: 149ms\tremaining: 1.2s\n",
      "110:\tlearn: 0.2915230\ttotal: 149ms\tremaining: 1.2s\n",
      "111:\tlearn: 0.2900337\ttotal: 150ms\tremaining: 1.19s\n",
      "112:\tlearn: 0.2882261\ttotal: 151ms\tremaining: 1.19s\n",
      "113:\tlearn: 0.2868977\ttotal: 152ms\tremaining: 1.18s\n",
      "114:\tlearn: 0.2849202\ttotal: 153ms\tremaining: 1.17s\n",
      "115:\tlearn: 0.2830151\ttotal: 153ms\tremaining: 1.17s\n",
      "116:\tlearn: 0.2817238\ttotal: 154ms\tremaining: 1.16s\n",
      "117:\tlearn: 0.2806106\ttotal: 155ms\tremaining: 1.16s\n",
      "118:\tlearn: 0.2796764\ttotal: 156ms\tremaining: 1.15s\n",
      "119:\tlearn: 0.2788262\ttotal: 157ms\tremaining: 1.15s\n",
      "120:\tlearn: 0.2775059\ttotal: 158ms\tremaining: 1.14s\n",
      "121:\tlearn: 0.2763907\ttotal: 158ms\tremaining: 1.14s\n",
      "122:\tlearn: 0.2753861\ttotal: 159ms\tremaining: 1.13s\n",
      "123:\tlearn: 0.2733949\ttotal: 160ms\tremaining: 1.13s\n",
      "124:\tlearn: 0.2724988\ttotal: 161ms\tremaining: 1.12s\n",
      "125:\tlearn: 0.2714613\ttotal: 162ms\tremaining: 1.12s\n",
      "126:\tlearn: 0.2703437\ttotal: 162ms\tremaining: 1.12s\n",
      "127:\tlearn: 0.2693711\ttotal: 163ms\tremaining: 1.11s\n",
      "128:\tlearn: 0.2682536\ttotal: 164ms\tremaining: 1.11s\n",
      "129:\tlearn: 0.2671349\ttotal: 165ms\tremaining: 1.1s\n",
      "130:\tlearn: 0.2662173\ttotal: 166ms\tremaining: 1.1s\n",
      "131:\tlearn: 0.2651962\ttotal: 167ms\tremaining: 1.1s\n",
      "132:\tlearn: 0.2643657\ttotal: 168ms\tremaining: 1.09s\n",
      "133:\tlearn: 0.2635803\ttotal: 169ms\tremaining: 1.09s\n",
      "134:\tlearn: 0.2626938\ttotal: 169ms\tremaining: 1.08s\n",
      "135:\tlearn: 0.2618278\ttotal: 170ms\tremaining: 1.08s\n",
      "136:\tlearn: 0.2611031\ttotal: 171ms\tremaining: 1.08s\n",
      "137:\tlearn: 0.2596027\ttotal: 172ms\tremaining: 1.07s\n",
      "138:\tlearn: 0.2584532\ttotal: 173ms\tremaining: 1.07s\n",
      "139:\tlearn: 0.2574180\ttotal: 173ms\tremaining: 1.06s\n",
      "140:\tlearn: 0.2565129\ttotal: 174ms\tremaining: 1.06s\n",
      "141:\tlearn: 0.2556775\ttotal: 175ms\tremaining: 1.06s\n",
      "142:\tlearn: 0.2547097\ttotal: 176ms\tremaining: 1.05s\n",
      "143:\tlearn: 0.2535916\ttotal: 177ms\tremaining: 1.05s\n",
      "144:\tlearn: 0.2524702\ttotal: 177ms\tremaining: 1.04s\n",
      "145:\tlearn: 0.2517215\ttotal: 178ms\tremaining: 1.04s\n",
      "146:\tlearn: 0.2508995\ttotal: 179ms\tremaining: 1.04s\n",
      "147:\tlearn: 0.2502888\ttotal: 180ms\tremaining: 1.03s\n",
      "148:\tlearn: 0.2493964\ttotal: 181ms\tremaining: 1.03s\n",
      "149:\tlearn: 0.2488286\ttotal: 182ms\tremaining: 1.03s\n",
      "150:\tlearn: 0.2478852\ttotal: 182ms\tremaining: 1.02s\n",
      "151:\tlearn: 0.2471507\ttotal: 183ms\tremaining: 1.02s\n",
      "152:\tlearn: 0.2464816\ttotal: 184ms\tremaining: 1.02s\n",
      "153:\tlearn: 0.2457876\ttotal: 185ms\tremaining: 1.01s\n",
      "154:\tlearn: 0.2447818\ttotal: 186ms\tremaining: 1.01s\n",
      "155:\tlearn: 0.2439964\ttotal: 187ms\tremaining: 1.01s\n",
      "156:\tlearn: 0.2431664\ttotal: 187ms\tremaining: 1s\n",
      "157:\tlearn: 0.2425879\ttotal: 188ms\tremaining: 1s\n",
      "158:\tlearn: 0.2416370\ttotal: 189ms\tremaining: 999ms\n",
      "159:\tlearn: 0.2410468\ttotal: 190ms\tremaining: 996ms\n",
      "160:\tlearn: 0.2405235\ttotal: 191ms\tremaining: 993ms\n",
      "161:\tlearn: 0.2398002\ttotal: 191ms\tremaining: 989ms\n"
     ]
    },
    {
     "name": "stdout",
     "output_type": "stream",
     "text": [
      "162:\tlearn: 0.2393413\ttotal: 192ms\tremaining: 987ms\n",
      "163:\tlearn: 0.2385129\ttotal: 193ms\tremaining: 984ms\n",
      "164:\tlearn: 0.2375987\ttotal: 194ms\tremaining: 981ms\n",
      "165:\tlearn: 0.2368619\ttotal: 195ms\tremaining: 978ms\n",
      "166:\tlearn: 0.2362972\ttotal: 195ms\tremaining: 975ms\n",
      "167:\tlearn: 0.2353264\ttotal: 196ms\tremaining: 972ms\n",
      "168:\tlearn: 0.2346722\ttotal: 197ms\tremaining: 969ms\n",
      "169:\tlearn: 0.2339551\ttotal: 198ms\tremaining: 965ms\n",
      "170:\tlearn: 0.2333113\ttotal: 199ms\tremaining: 962ms\n",
      "171:\tlearn: 0.2324889\ttotal: 199ms\tremaining: 960ms\n",
      "172:\tlearn: 0.2318326\ttotal: 200ms\tremaining: 957ms\n",
      "173:\tlearn: 0.2311598\ttotal: 201ms\tremaining: 954ms\n",
      "174:\tlearn: 0.2305552\ttotal: 202ms\tremaining: 952ms\n",
      "175:\tlearn: 0.2301192\ttotal: 203ms\tremaining: 950ms\n",
      "176:\tlearn: 0.2293299\ttotal: 204ms\tremaining: 946ms\n",
      "177:\tlearn: 0.2289065\ttotal: 204ms\tremaining: 944ms\n",
      "178:\tlearn: 0.2286251\ttotal: 205ms\tremaining: 941ms\n",
      "179:\tlearn: 0.2280018\ttotal: 206ms\tremaining: 938ms\n",
      "180:\tlearn: 0.2271545\ttotal: 207ms\tremaining: 936ms\n",
      "181:\tlearn: 0.2264389\ttotal: 207ms\tremaining: 933ms\n",
      "182:\tlearn: 0.2256989\ttotal: 208ms\tremaining: 930ms\n",
      "183:\tlearn: 0.2249384\ttotal: 209ms\tremaining: 928ms\n",
      "184:\tlearn: 0.2242063\ttotal: 210ms\tremaining: 925ms\n",
      "185:\tlearn: 0.2234346\ttotal: 211ms\tremaining: 922ms\n",
      "186:\tlearn: 0.2227614\ttotal: 212ms\tremaining: 920ms\n",
      "187:\tlearn: 0.2220236\ttotal: 212ms\tremaining: 917ms\n",
      "188:\tlearn: 0.2212622\ttotal: 214ms\tremaining: 917ms\n",
      "189:\tlearn: 0.2205242\ttotal: 214ms\tremaining: 914ms\n",
      "190:\tlearn: 0.2199226\ttotal: 215ms\tremaining: 912ms\n",
      "191:\tlearn: 0.2191472\ttotal: 216ms\tremaining: 909ms\n",
      "192:\tlearn: 0.2185124\ttotal: 217ms\tremaining: 907ms\n",
      "193:\tlearn: 0.2179201\ttotal: 218ms\tremaining: 905ms\n",
      "194:\tlearn: 0.2171609\ttotal: 219ms\tremaining: 902ms\n",
      "195:\tlearn: 0.2166684\ttotal: 219ms\tremaining: 900ms\n",
      "196:\tlearn: 0.2158839\ttotal: 220ms\tremaining: 897ms\n",
      "197:\tlearn: 0.2152271\ttotal: 221ms\tremaining: 895ms\n",
      "198:\tlearn: 0.2147219\ttotal: 222ms\tremaining: 892ms\n",
      "199:\tlearn: 0.2143056\ttotal: 222ms\tremaining: 890ms\n",
      "200:\tlearn: 0.2135896\ttotal: 223ms\tremaining: 887ms\n",
      "201:\tlearn: 0.2130682\ttotal: 224ms\tremaining: 885ms\n",
      "202:\tlearn: 0.2123040\ttotal: 225ms\tremaining: 883ms\n",
      "203:\tlearn: 0.2115672\ttotal: 226ms\tremaining: 881ms\n",
      "204:\tlearn: 0.2109998\ttotal: 227ms\tremaining: 879ms\n",
      "205:\tlearn: 0.2104973\ttotal: 227ms\tremaining: 877ms\n",
      "206:\tlearn: 0.2100107\ttotal: 228ms\tremaining: 874ms\n",
      "207:\tlearn: 0.2095643\ttotal: 229ms\tremaining: 872ms\n",
      "208:\tlearn: 0.2089991\ttotal: 230ms\tremaining: 870ms\n",
      "209:\tlearn: 0.2085561\ttotal: 231ms\tremaining: 868ms\n",
      "210:\tlearn: 0.2078749\ttotal: 231ms\tremaining: 866ms\n",
      "211:\tlearn: 0.2073202\ttotal: 232ms\tremaining: 863ms\n",
      "212:\tlearn: 0.2065724\ttotal: 233ms\tremaining: 861ms\n",
      "213:\tlearn: 0.2059705\ttotal: 234ms\tremaining: 859ms\n",
      "214:\tlearn: 0.2055070\ttotal: 235ms\tremaining: 857ms\n",
      "215:\tlearn: 0.2049217\ttotal: 236ms\tremaining: 855ms\n",
      "216:\tlearn: 0.2044309\ttotal: 237ms\tremaining: 853ms\n",
      "217:\tlearn: 0.2038570\ttotal: 237ms\tremaining: 851ms\n",
      "218:\tlearn: 0.2033950\ttotal: 238ms\tremaining: 849ms\n",
      "219:\tlearn: 0.2028275\ttotal: 239ms\tremaining: 847ms\n",
      "220:\tlearn: 0.2022059\ttotal: 240ms\tremaining: 845ms\n",
      "221:\tlearn: 0.2017140\ttotal: 241ms\tremaining: 843ms\n",
      "222:\tlearn: 0.2011779\ttotal: 242ms\tremaining: 842ms\n",
      "223:\tlearn: 0.2007212\ttotal: 242ms\tremaining: 840ms\n",
      "224:\tlearn: 0.2002002\ttotal: 243ms\tremaining: 838ms\n",
      "225:\tlearn: 0.1996396\ttotal: 244ms\tremaining: 836ms\n",
      "226:\tlearn: 0.1992195\ttotal: 245ms\tremaining: 834ms\n",
      "227:\tlearn: 0.1986548\ttotal: 246ms\tremaining: 832ms\n",
      "228:\tlearn: 0.1982660\ttotal: 247ms\tremaining: 830ms\n",
      "229:\tlearn: 0.1978488\ttotal: 247ms\tremaining: 828ms\n",
      "230:\tlearn: 0.1973106\ttotal: 248ms\tremaining: 826ms\n",
      "231:\tlearn: 0.1968944\ttotal: 249ms\tremaining: 824ms\n",
      "232:\tlearn: 0.1965568\ttotal: 250ms\tremaining: 823ms\n",
      "233:\tlearn: 0.1959211\ttotal: 251ms\tremaining: 821ms\n",
      "234:\tlearn: 0.1955342\ttotal: 252ms\tremaining: 819ms\n",
      "235:\tlearn: 0.1949415\ttotal: 253ms\tremaining: 819ms\n",
      "236:\tlearn: 0.1945262\ttotal: 254ms\tremaining: 817ms\n",
      "237:\tlearn: 0.1940193\ttotal: 254ms\tremaining: 815ms\n",
      "238:\tlearn: 0.1936007\ttotal: 255ms\tremaining: 812ms\n",
      "239:\tlearn: 0.1931881\ttotal: 256ms\tremaining: 811ms\n",
      "240:\tlearn: 0.1926075\ttotal: 257ms\tremaining: 809ms\n",
      "241:\tlearn: 0.1920028\ttotal: 258ms\tremaining: 807ms\n",
      "242:\tlearn: 0.1914095\ttotal: 258ms\tremaining: 805ms\n",
      "243:\tlearn: 0.1907712\ttotal: 259ms\tremaining: 803ms\n",
      "244:\tlearn: 0.1902013\ttotal: 260ms\tremaining: 802ms\n",
      "245:\tlearn: 0.1897216\ttotal: 261ms\tremaining: 800ms\n",
      "246:\tlearn: 0.1893759\ttotal: 262ms\tremaining: 798ms\n",
      "247:\tlearn: 0.1888701\ttotal: 263ms\tremaining: 796ms\n",
      "248:\tlearn: 0.1884023\ttotal: 263ms\tremaining: 795ms\n",
      "249:\tlearn: 0.1879513\ttotal: 264ms\tremaining: 793ms\n",
      "250:\tlearn: 0.1873591\ttotal: 265ms\tremaining: 791ms\n",
      "251:\tlearn: 0.1869704\ttotal: 266ms\tremaining: 789ms\n",
      "252:\tlearn: 0.1863887\ttotal: 267ms\tremaining: 788ms\n",
      "253:\tlearn: 0.1860279\ttotal: 268ms\tremaining: 786ms\n",
      "254:\tlearn: 0.1855853\ttotal: 268ms\tremaining: 784ms\n",
      "255:\tlearn: 0.1852640\ttotal: 269ms\tremaining: 783ms\n",
      "256:\tlearn: 0.1848370\ttotal: 270ms\tremaining: 781ms\n",
      "257:\tlearn: 0.1844206\ttotal: 271ms\tremaining: 779ms\n",
      "258:\tlearn: 0.1840550\ttotal: 272ms\tremaining: 778ms\n",
      "259:\tlearn: 0.1836375\ttotal: 273ms\tremaining: 776ms\n",
      "260:\tlearn: 0.1832939\ttotal: 273ms\tremaining: 774ms\n",
      "261:\tlearn: 0.1829401\ttotal: 274ms\tremaining: 772ms\n",
      "262:\tlearn: 0.1825276\ttotal: 275ms\tremaining: 770ms\n",
      "263:\tlearn: 0.1819046\ttotal: 276ms\tremaining: 769ms\n",
      "264:\tlearn: 0.1815538\ttotal: 277ms\tremaining: 767ms\n",
      "265:\tlearn: 0.1810273\ttotal: 277ms\tremaining: 765ms\n",
      "266:\tlearn: 0.1806278\ttotal: 278ms\tremaining: 763ms\n",
      "267:\tlearn: 0.1801082\ttotal: 279ms\tremaining: 762ms\n",
      "268:\tlearn: 0.1795278\ttotal: 280ms\tremaining: 760ms\n",
      "269:\tlearn: 0.1791267\ttotal: 281ms\tremaining: 759ms\n",
      "270:\tlearn: 0.1788616\ttotal: 282ms\tremaining: 758ms\n",
      "271:\tlearn: 0.1786305\ttotal: 282ms\tremaining: 756ms\n",
      "272:\tlearn: 0.1782362\ttotal: 283ms\tremaining: 754ms\n",
      "273:\tlearn: 0.1777248\ttotal: 284ms\tremaining: 752ms\n",
      "274:\tlearn: 0.1772096\ttotal: 285ms\tremaining: 751ms\n",
      "275:\tlearn: 0.1767828\ttotal: 286ms\tremaining: 749ms\n",
      "276:\tlearn: 0.1762823\ttotal: 286ms\tremaining: 748ms\n",
      "277:\tlearn: 0.1757166\ttotal: 287ms\tremaining: 746ms\n",
      "278:\tlearn: 0.1754081\ttotal: 288ms\tremaining: 744ms\n",
      "279:\tlearn: 0.1750559\ttotal: 289ms\tremaining: 743ms\n",
      "280:\tlearn: 0.1747762\ttotal: 290ms\tremaining: 742ms\n",
      "281:\tlearn: 0.1742589\ttotal: 291ms\tremaining: 740ms\n",
      "282:\tlearn: 0.1739017\ttotal: 292ms\tremaining: 739ms\n",
      "283:\tlearn: 0.1733292\ttotal: 292ms\tremaining: 737ms\n",
      "284:\tlearn: 0.1728711\ttotal: 293ms\tremaining: 736ms\n",
      "285:\tlearn: 0.1723065\ttotal: 294ms\tremaining: 734ms\n",
      "286:\tlearn: 0.1718791\ttotal: 295ms\tremaining: 733ms\n",
      "287:\tlearn: 0.1714306\ttotal: 296ms\tremaining: 731ms\n",
      "288:\tlearn: 0.1710953\ttotal: 297ms\tremaining: 730ms\n",
      "289:\tlearn: 0.1708282\ttotal: 298ms\tremaining: 729ms\n",
      "290:\tlearn: 0.1704750\ttotal: 299ms\tremaining: 727ms\n",
      "291:\tlearn: 0.1700953\ttotal: 299ms\tremaining: 726ms\n"
     ]
    },
    {
     "name": "stdout",
     "output_type": "stream",
     "text": [
      "292:\tlearn: 0.1697905\ttotal: 300ms\tremaining: 724ms\n",
      "293:\tlearn: 0.1695167\ttotal: 301ms\tremaining: 723ms\n",
      "294:\tlearn: 0.1689625\ttotal: 302ms\tremaining: 722ms\n",
      "295:\tlearn: 0.1685715\ttotal: 303ms\tremaining: 721ms\n",
      "296:\tlearn: 0.1682241\ttotal: 304ms\tremaining: 719ms\n",
      "297:\tlearn: 0.1679670\ttotal: 305ms\tremaining: 718ms\n",
      "298:\tlearn: 0.1677102\ttotal: 306ms\tremaining: 716ms\n",
      "299:\tlearn: 0.1672840\ttotal: 307ms\tremaining: 715ms\n",
      "300:\tlearn: 0.1669138\ttotal: 307ms\tremaining: 714ms\n",
      "301:\tlearn: 0.1665397\ttotal: 308ms\tremaining: 712ms\n",
      "302:\tlearn: 0.1662541\ttotal: 309ms\tremaining: 711ms\n",
      "303:\tlearn: 0.1658097\ttotal: 310ms\tremaining: 709ms\n",
      "304:\tlearn: 0.1653529\ttotal: 311ms\tremaining: 708ms\n",
      "305:\tlearn: 0.1648719\ttotal: 312ms\tremaining: 706ms\n",
      "306:\tlearn: 0.1644637\ttotal: 312ms\tremaining: 705ms\n",
      "307:\tlearn: 0.1640425\ttotal: 313ms\tremaining: 704ms\n",
      "308:\tlearn: 0.1638209\ttotal: 314ms\tremaining: 702ms\n",
      "309:\tlearn: 0.1633358\ttotal: 315ms\tremaining: 701ms\n",
      "310:\tlearn: 0.1629332\ttotal: 316ms\tremaining: 699ms\n",
      "311:\tlearn: 0.1626885\ttotal: 316ms\tremaining: 698ms\n",
      "312:\tlearn: 0.1621686\ttotal: 317ms\tremaining: 696ms\n",
      "313:\tlearn: 0.1618420\ttotal: 318ms\tremaining: 694ms\n",
      "314:\tlearn: 0.1614986\ttotal: 319ms\tremaining: 694ms\n",
      "315:\tlearn: 0.1612494\ttotal: 320ms\tremaining: 693ms\n",
      "316:\tlearn: 0.1607417\ttotal: 321ms\tremaining: 691ms\n",
      "317:\tlearn: 0.1605528\ttotal: 322ms\tremaining: 690ms\n",
      "318:\tlearn: 0.1600428\ttotal: 322ms\tremaining: 688ms\n",
      "319:\tlearn: 0.1597250\ttotal: 323ms\tremaining: 687ms\n",
      "320:\tlearn: 0.1595159\ttotal: 324ms\tremaining: 685ms\n",
      "321:\tlearn: 0.1590434\ttotal: 325ms\tremaining: 684ms\n",
      "322:\tlearn: 0.1586695\ttotal: 326ms\tremaining: 683ms\n",
      "323:\tlearn: 0.1583000\ttotal: 326ms\tremaining: 681ms\n",
      "324:\tlearn: 0.1580469\ttotal: 327ms\tremaining: 680ms\n",
      "325:\tlearn: 0.1578320\ttotal: 328ms\tremaining: 679ms\n",
      "326:\tlearn: 0.1573785\ttotal: 329ms\tremaining: 677ms\n",
      "327:\tlearn: 0.1569565\ttotal: 330ms\tremaining: 676ms\n",
      "328:\tlearn: 0.1565741\ttotal: 330ms\tremaining: 674ms\n",
      "329:\tlearn: 0.1562691\ttotal: 331ms\tremaining: 673ms\n",
      "330:\tlearn: 0.1560900\ttotal: 332ms\tremaining: 671ms\n",
      "331:\tlearn: 0.1557006\ttotal: 333ms\tremaining: 670ms\n",
      "332:\tlearn: 0.1555435\ttotal: 334ms\tremaining: 669ms\n",
      "333:\tlearn: 0.1552159\ttotal: 335ms\tremaining: 667ms\n",
      "334:\tlearn: 0.1549529\ttotal: 335ms\tremaining: 666ms\n",
      "335:\tlearn: 0.1547223\ttotal: 336ms\tremaining: 664ms\n",
      "336:\tlearn: 0.1544445\ttotal: 337ms\tremaining: 663ms\n",
      "337:\tlearn: 0.1541428\ttotal: 338ms\tremaining: 661ms\n",
      "338:\tlearn: 0.1537922\ttotal: 339ms\tremaining: 660ms\n",
      "339:\tlearn: 0.1534402\ttotal: 340ms\tremaining: 659ms\n",
      "340:\tlearn: 0.1531045\ttotal: 341ms\tremaining: 658ms\n",
      "341:\tlearn: 0.1528712\ttotal: 341ms\tremaining: 657ms\n",
      "342:\tlearn: 0.1525473\ttotal: 342ms\tremaining: 655ms\n",
      "343:\tlearn: 0.1522859\ttotal: 343ms\tremaining: 654ms\n",
      "344:\tlearn: 0.1520611\ttotal: 344ms\tremaining: 652ms\n",
      "345:\tlearn: 0.1516566\ttotal: 344ms\tremaining: 651ms\n",
      "346:\tlearn: 0.1512007\ttotal: 345ms\tremaining: 650ms\n",
      "347:\tlearn: 0.1509290\ttotal: 346ms\tremaining: 648ms\n",
      "348:\tlearn: 0.1506619\ttotal: 347ms\tremaining: 647ms\n",
      "349:\tlearn: 0.1503398\ttotal: 348ms\tremaining: 646ms\n",
      "350:\tlearn: 0.1500401\ttotal: 348ms\tremaining: 644ms\n",
      "351:\tlearn: 0.1498161\ttotal: 349ms\tremaining: 643ms\n",
      "352:\tlearn: 0.1494337\ttotal: 350ms\tremaining: 642ms\n",
      "353:\tlearn: 0.1493373\ttotal: 351ms\tremaining: 640ms\n",
      "354:\tlearn: 0.1489187\ttotal: 352ms\tremaining: 639ms\n",
      "355:\tlearn: 0.1488386\ttotal: 353ms\tremaining: 638ms\n",
      "356:\tlearn: 0.1484251\ttotal: 354ms\tremaining: 637ms\n",
      "357:\tlearn: 0.1480602\ttotal: 354ms\tremaining: 636ms\n",
      "358:\tlearn: 0.1477261\ttotal: 355ms\tremaining: 634ms\n",
      "359:\tlearn: 0.1475247\ttotal: 356ms\tremaining: 633ms\n",
      "360:\tlearn: 0.1471942\ttotal: 357ms\tremaining: 632ms\n",
      "361:\tlearn: 0.1470415\ttotal: 358ms\tremaining: 631ms\n",
      "362:\tlearn: 0.1466926\ttotal: 359ms\tremaining: 630ms\n",
      "363:\tlearn: 0.1463029\ttotal: 360ms\tremaining: 629ms\n",
      "364:\tlearn: 0.1461188\ttotal: 361ms\tremaining: 628ms\n",
      "365:\tlearn: 0.1460347\ttotal: 362ms\tremaining: 627ms\n",
      "366:\tlearn: 0.1456184\ttotal: 363ms\tremaining: 626ms\n",
      "367:\tlearn: 0.1452504\ttotal: 364ms\tremaining: 625ms\n",
      "368:\tlearn: 0.1450490\ttotal: 365ms\tremaining: 624ms\n",
      "369:\tlearn: 0.1447695\ttotal: 366ms\tremaining: 623ms\n",
      "370:\tlearn: 0.1446549\ttotal: 367ms\tremaining: 622ms\n",
      "371:\tlearn: 0.1441780\ttotal: 368ms\tremaining: 621ms\n",
      "372:\tlearn: 0.1439370\ttotal: 369ms\tremaining: 619ms\n",
      "373:\tlearn: 0.1435860\ttotal: 370ms\tremaining: 618ms\n",
      "374:\tlearn: 0.1431633\ttotal: 370ms\tremaining: 617ms\n",
      "375:\tlearn: 0.1430572\ttotal: 371ms\tremaining: 616ms\n",
      "376:\tlearn: 0.1428196\ttotal: 372ms\tremaining: 615ms\n",
      "377:\tlearn: 0.1424176\ttotal: 373ms\tremaining: 614ms\n",
      "378:\tlearn: 0.1420248\ttotal: 374ms\tremaining: 613ms\n",
      "379:\tlearn: 0.1417516\ttotal: 375ms\tremaining: 612ms\n",
      "380:\tlearn: 0.1414137\ttotal: 376ms\tremaining: 611ms\n",
      "381:\tlearn: 0.1412146\ttotal: 377ms\tremaining: 610ms\n",
      "382:\tlearn: 0.1410184\ttotal: 378ms\tremaining: 609ms\n",
      "383:\tlearn: 0.1407188\ttotal: 379ms\tremaining: 608ms\n",
      "384:\tlearn: 0.1404538\ttotal: 380ms\tremaining: 607ms\n",
      "385:\tlearn: 0.1402524\ttotal: 381ms\tremaining: 606ms\n",
      "386:\tlearn: 0.1399799\ttotal: 382ms\tremaining: 605ms\n"
     ]
    },
    {
     "name": "stdout",
     "output_type": "stream",
     "text": [
      "387:\tlearn: 0.1397220\ttotal: 383ms\tremaining: 604ms\n",
      "388:\tlearn: 0.1396986\ttotal: 384ms\tremaining: 603ms\n",
      "389:\tlearn: 0.1395608\ttotal: 384ms\tremaining: 601ms\n",
      "390:\tlearn: 0.1393303\ttotal: 385ms\tremaining: 600ms\n",
      "391:\tlearn: 0.1392369\ttotal: 386ms\tremaining: 599ms\n",
      "392:\tlearn: 0.1389703\ttotal: 387ms\tremaining: 598ms\n",
      "393:\tlearn: 0.1385631\ttotal: 388ms\tremaining: 597ms\n",
      "394:\tlearn: 0.1381039\ttotal: 389ms\tremaining: 595ms\n",
      "395:\tlearn: 0.1378041\ttotal: 390ms\tremaining: 594ms\n",
      "396:\tlearn: 0.1376736\ttotal: 390ms\tremaining: 593ms\n",
      "397:\tlearn: 0.1373167\ttotal: 391ms\tremaining: 592ms\n",
      "398:\tlearn: 0.1369223\ttotal: 392ms\tremaining: 590ms\n",
      "399:\tlearn: 0.1368728\ttotal: 393ms\tremaining: 589ms\n",
      "400:\tlearn: 0.1366771\ttotal: 394ms\tremaining: 588ms\n",
      "401:\tlearn: 0.1365803\ttotal: 394ms\tremaining: 587ms\n",
      "402:\tlearn: 0.1363861\ttotal: 395ms\tremaining: 585ms\n",
      "403:\tlearn: 0.1361673\ttotal: 396ms\tremaining: 584ms\n",
      "404:\tlearn: 0.1357644\ttotal: 397ms\tremaining: 583ms\n",
      "405:\tlearn: 0.1355521\ttotal: 398ms\tremaining: 582ms\n",
      "406:\tlearn: 0.1353204\ttotal: 399ms\tremaining: 581ms\n",
      "407:\tlearn: 0.1349589\ttotal: 399ms\tremaining: 579ms\n",
      "408:\tlearn: 0.1347339\ttotal: 400ms\tremaining: 578ms\n",
      "409:\tlearn: 0.1345723\ttotal: 401ms\tremaining: 577ms\n",
      "410:\tlearn: 0.1344392\ttotal: 402ms\tremaining: 575ms\n",
      "411:\tlearn: 0.1341031\ttotal: 402ms\tremaining: 574ms\n",
      "412:\tlearn: 0.1338495\ttotal: 403ms\tremaining: 573ms\n",
      "413:\tlearn: 0.1337084\ttotal: 404ms\tremaining: 572ms\n",
      "414:\tlearn: 0.1334172\ttotal: 405ms\tremaining: 571ms\n",
      "415:\tlearn: 0.1331184\ttotal: 406ms\tremaining: 569ms\n",
      "416:\tlearn: 0.1329148\ttotal: 406ms\tremaining: 568ms\n",
      "417:\tlearn: 0.1326622\ttotal: 407ms\tremaining: 567ms\n",
      "418:\tlearn: 0.1322783\ttotal: 408ms\tremaining: 566ms\n",
      "419:\tlearn: 0.1319989\ttotal: 409ms\tremaining: 564ms\n",
      "420:\tlearn: 0.1319765\ttotal: 410ms\tremaining: 563ms\n",
      "421:\tlearn: 0.1316320\ttotal: 411ms\tremaining: 563ms\n",
      "422:\tlearn: 0.1313551\ttotal: 412ms\tremaining: 562ms\n",
      "423:\tlearn: 0.1310892\ttotal: 413ms\tremaining: 560ms\n",
      "424:\tlearn: 0.1308202\ttotal: 413ms\tremaining: 559ms\n",
      "425:\tlearn: 0.1306034\ttotal: 414ms\tremaining: 558ms\n",
      "426:\tlearn: 0.1305102\ttotal: 415ms\tremaining: 557ms\n",
      "427:\tlearn: 0.1302032\ttotal: 416ms\tremaining: 556ms\n",
      "428:\tlearn: 0.1300435\ttotal: 417ms\tremaining: 555ms\n",
      "429:\tlearn: 0.1296868\ttotal: 417ms\tremaining: 553ms\n",
      "430:\tlearn: 0.1294297\ttotal: 418ms\tremaining: 552ms\n",
      "431:\tlearn: 0.1290904\ttotal: 419ms\tremaining: 551ms\n",
      "432:\tlearn: 0.1288883\ttotal: 420ms\tremaining: 550ms\n",
      "433:\tlearn: 0.1285524\ttotal: 421ms\tremaining: 549ms\n",
      "434:\tlearn: 0.1282927\ttotal: 422ms\tremaining: 548ms\n",
      "435:\tlearn: 0.1280963\ttotal: 422ms\tremaining: 546ms\n",
      "436:\tlearn: 0.1278687\ttotal: 423ms\tremaining: 545ms\n",
      "437:\tlearn: 0.1274892\ttotal: 424ms\tremaining: 544ms\n",
      "438:\tlearn: 0.1271846\ttotal: 425ms\tremaining: 543ms\n",
      "439:\tlearn: 0.1268899\ttotal: 426ms\tremaining: 542ms\n",
      "440:\tlearn: 0.1268434\ttotal: 427ms\tremaining: 541ms\n",
      "441:\tlearn: 0.1267362\ttotal: 427ms\tremaining: 540ms\n",
      "442:\tlearn: 0.1266593\ttotal: 428ms\tremaining: 538ms\n",
      "443:\tlearn: 0.1266154\ttotal: 429ms\tremaining: 537ms\n",
      "444:\tlearn: 0.1263159\ttotal: 430ms\tremaining: 536ms\n",
      "445:\tlearn: 0.1261063\ttotal: 431ms\tremaining: 535ms\n",
      "446:\tlearn: 0.1260461\ttotal: 431ms\tremaining: 534ms\n",
      "447:\tlearn: 0.1260130\ttotal: 432ms\tremaining: 532ms\n",
      "448:\tlearn: 0.1257991\ttotal: 433ms\tremaining: 531ms\n",
      "449:\tlearn: 0.1254828\ttotal: 434ms\tremaining: 530ms\n",
      "450:\tlearn: 0.1251859\ttotal: 435ms\tremaining: 529ms\n",
      "451:\tlearn: 0.1249100\ttotal: 435ms\tremaining: 528ms\n",
      "452:\tlearn: 0.1246090\ttotal: 436ms\tremaining: 527ms\n",
      "453:\tlearn: 0.1243382\ttotal: 437ms\tremaining: 526ms\n",
      "454:\tlearn: 0.1240202\ttotal: 438ms\tremaining: 525ms\n",
      "455:\tlearn: 0.1237417\ttotal: 439ms\tremaining: 523ms\n",
      "456:\tlearn: 0.1235744\ttotal: 439ms\tremaining: 522ms\n",
      "457:\tlearn: 0.1235607\ttotal: 440ms\tremaining: 521ms\n",
      "458:\tlearn: 0.1234537\ttotal: 441ms\tremaining: 520ms\n",
      "459:\tlearn: 0.1231268\ttotal: 442ms\tremaining: 519ms\n",
      "460:\tlearn: 0.1228102\ttotal: 443ms\tremaining: 518ms\n",
      "461:\tlearn: 0.1226649\ttotal: 443ms\tremaining: 516ms\n",
      "462:\tlearn: 0.1223933\ttotal: 444ms\tremaining: 515ms\n",
      "463:\tlearn: 0.1221806\ttotal: 445ms\tremaining: 514ms\n",
      "464:\tlearn: 0.1219850\ttotal: 446ms\tremaining: 513ms\n",
      "465:\tlearn: 0.1217736\ttotal: 447ms\tremaining: 512ms\n",
      "466:\tlearn: 0.1215229\ttotal: 448ms\tremaining: 511ms\n",
      "467:\tlearn: 0.1213749\ttotal: 449ms\tremaining: 510ms\n",
      "468:\tlearn: 0.1211466\ttotal: 449ms\tremaining: 509ms\n",
      "469:\tlearn: 0.1211333\ttotal: 450ms\tremaining: 508ms\n",
      "470:\tlearn: 0.1209978\ttotal: 451ms\tremaining: 507ms\n",
      "471:\tlearn: 0.1209216\ttotal: 452ms\tremaining: 506ms\n",
      "472:\tlearn: 0.1208556\ttotal: 453ms\tremaining: 505ms\n",
      "473:\tlearn: 0.1206454\ttotal: 454ms\tremaining: 503ms\n",
      "474:\tlearn: 0.1204126\ttotal: 455ms\tremaining: 503ms\n",
      "475:\tlearn: 0.1202014\ttotal: 456ms\tremaining: 502ms\n",
      "476:\tlearn: 0.1199019\ttotal: 457ms\tremaining: 501ms\n",
      "477:\tlearn: 0.1198836\ttotal: 457ms\tremaining: 500ms\n",
      "478:\tlearn: 0.1197026\ttotal: 458ms\tremaining: 498ms\n",
      "479:\tlearn: 0.1194589\ttotal: 459ms\tremaining: 498ms\n",
      "480:\tlearn: 0.1191692\ttotal: 460ms\tremaining: 497ms\n",
      "481:\tlearn: 0.1188466\ttotal: 461ms\tremaining: 496ms\n",
      "482:\tlearn: 0.1187249\ttotal: 462ms\tremaining: 494ms\n",
      "483:\tlearn: 0.1184673\ttotal: 463ms\tremaining: 493ms\n",
      "484:\tlearn: 0.1182763\ttotal: 463ms\tremaining: 492ms\n",
      "485:\tlearn: 0.1182662\ttotal: 464ms\tremaining: 491ms\n",
      "486:\tlearn: 0.1179457\ttotal: 465ms\tremaining: 490ms\n",
      "487:\tlearn: 0.1178443\ttotal: 466ms\tremaining: 489ms\n",
      "488:\tlearn: 0.1175613\ttotal: 468ms\tremaining: 489ms\n",
      "489:\tlearn: 0.1173109\ttotal: 468ms\tremaining: 487ms\n",
      "490:\tlearn: 0.1171120\ttotal: 469ms\tremaining: 486ms\n",
      "491:\tlearn: 0.1168548\ttotal: 470ms\tremaining: 485ms\n",
      "492:\tlearn: 0.1166490\ttotal: 471ms\tremaining: 484ms\n",
      "493:\tlearn: 0.1164071\ttotal: 471ms\tremaining: 483ms\n",
      "494:\tlearn: 0.1162195\ttotal: 473ms\tremaining: 482ms\n",
      "495:\tlearn: 0.1159967\ttotal: 473ms\tremaining: 481ms\n",
      "496:\tlearn: 0.1158672\ttotal: 474ms\tremaining: 480ms\n",
      "497:\tlearn: 0.1157013\ttotal: 475ms\tremaining: 479ms\n",
      "498:\tlearn: 0.1155329\ttotal: 476ms\tremaining: 478ms\n",
      "499:\tlearn: 0.1154775\ttotal: 477ms\tremaining: 477ms\n",
      "500:\tlearn: 0.1152398\ttotal: 479ms\tremaining: 477ms\n",
      "501:\tlearn: 0.1150317\ttotal: 480ms\tremaining: 476ms\n",
      "502:\tlearn: 0.1148498\ttotal: 481ms\tremaining: 475ms\n",
      "503:\tlearn: 0.1145342\ttotal: 482ms\tremaining: 474ms\n",
      "504:\tlearn: 0.1143232\ttotal: 483ms\tremaining: 474ms\n",
      "505:\tlearn: 0.1141851\ttotal: 484ms\tremaining: 473ms\n",
      "506:\tlearn: 0.1139310\ttotal: 485ms\tremaining: 472ms\n",
      "507:\tlearn: 0.1137364\ttotal: 486ms\tremaining: 471ms\n",
      "508:\tlearn: 0.1135637\ttotal: 487ms\tremaining: 470ms\n",
      "509:\tlearn: 0.1134387\ttotal: 489ms\tremaining: 469ms\n",
      "510:\tlearn: 0.1132998\ttotal: 490ms\tremaining: 469ms\n"
     ]
    },
    {
     "name": "stdout",
     "output_type": "stream",
     "text": [
      "511:\tlearn: 0.1130884\ttotal: 491ms\tremaining: 468ms\n",
      "512:\tlearn: 0.1128434\ttotal: 492ms\tremaining: 467ms\n",
      "513:\tlearn: 0.1126226\ttotal: 494ms\tremaining: 467ms\n",
      "514:\tlearn: 0.1123897\ttotal: 495ms\tremaining: 466ms\n",
      "515:\tlearn: 0.1120948\ttotal: 495ms\tremaining: 465ms\n",
      "516:\tlearn: 0.1118911\ttotal: 496ms\tremaining: 464ms\n",
      "517:\tlearn: 0.1116858\ttotal: 498ms\tremaining: 463ms\n",
      "518:\tlearn: 0.1114927\ttotal: 499ms\tremaining: 462ms\n",
      "519:\tlearn: 0.1112636\ttotal: 500ms\tremaining: 462ms\n",
      "520:\tlearn: 0.1110218\ttotal: 501ms\tremaining: 461ms\n",
      "521:\tlearn: 0.1108309\ttotal: 502ms\tremaining: 460ms\n",
      "522:\tlearn: 0.1106706\ttotal: 503ms\tremaining: 459ms\n",
      "523:\tlearn: 0.1104486\ttotal: 504ms\tremaining: 458ms\n",
      "524:\tlearn: 0.1103420\ttotal: 505ms\tremaining: 457ms\n",
      "525:\tlearn: 0.1101592\ttotal: 506ms\tremaining: 456ms\n",
      "526:\tlearn: 0.1099611\ttotal: 507ms\tremaining: 455ms\n",
      "527:\tlearn: 0.1096915\ttotal: 508ms\tremaining: 454ms\n",
      "528:\tlearn: 0.1094201\ttotal: 510ms\tremaining: 454ms\n",
      "529:\tlearn: 0.1091730\ttotal: 511ms\tremaining: 453ms\n",
      "530:\tlearn: 0.1089914\ttotal: 512ms\tremaining: 452ms\n",
      "531:\tlearn: 0.1088270\ttotal: 513ms\tremaining: 451ms\n",
      "532:\tlearn: 0.1086357\ttotal: 514ms\tremaining: 450ms\n",
      "533:\tlearn: 0.1083519\ttotal: 515ms\tremaining: 450ms\n",
      "534:\tlearn: 0.1081486\ttotal: 516ms\tremaining: 449ms\n",
      "535:\tlearn: 0.1079833\ttotal: 517ms\tremaining: 447ms\n",
      "536:\tlearn: 0.1077544\ttotal: 518ms\tremaining: 446ms\n",
      "537:\tlearn: 0.1075079\ttotal: 518ms\tremaining: 445ms\n",
      "538:\tlearn: 0.1072541\ttotal: 519ms\tremaining: 444ms\n",
      "539:\tlearn: 0.1071520\ttotal: 520ms\tremaining: 443ms\n",
      "540:\tlearn: 0.1070013\ttotal: 521ms\tremaining: 442ms\n",
      "541:\tlearn: 0.1068238\ttotal: 522ms\tremaining: 441ms\n",
      "542:\tlearn: 0.1067057\ttotal: 523ms\tremaining: 440ms\n",
      "543:\tlearn: 0.1065293\ttotal: 523ms\tremaining: 439ms\n",
      "544:\tlearn: 0.1063299\ttotal: 524ms\tremaining: 438ms\n",
      "545:\tlearn: 0.1061843\ttotal: 525ms\tremaining: 437ms\n",
      "546:\tlearn: 0.1060862\ttotal: 526ms\tremaining: 435ms\n",
      "547:\tlearn: 0.1059861\ttotal: 526ms\tremaining: 434ms\n",
      "548:\tlearn: 0.1057209\ttotal: 527ms\tremaining: 433ms\n",
      "549:\tlearn: 0.1056020\ttotal: 528ms\tremaining: 432ms\n",
      "550:\tlearn: 0.1054540\ttotal: 529ms\tremaining: 431ms\n",
      "551:\tlearn: 0.1052974\ttotal: 530ms\tremaining: 430ms\n",
      "552:\tlearn: 0.1051116\ttotal: 531ms\tremaining: 429ms\n",
      "553:\tlearn: 0.1049853\ttotal: 531ms\tremaining: 428ms\n",
      "554:\tlearn: 0.1048155\ttotal: 532ms\tremaining: 427ms\n",
      "555:\tlearn: 0.1046045\ttotal: 533ms\tremaining: 426ms\n",
      "556:\tlearn: 0.1044000\ttotal: 534ms\tremaining: 425ms\n",
      "557:\tlearn: 0.1041586\ttotal: 535ms\tremaining: 424ms\n",
      "558:\tlearn: 0.1038798\ttotal: 536ms\tremaining: 423ms\n",
      "559:\tlearn: 0.1038324\ttotal: 536ms\tremaining: 421ms\n",
      "560:\tlearn: 0.1036034\ttotal: 537ms\tremaining: 420ms\n",
      "561:\tlearn: 0.1033566\ttotal: 538ms\tremaining: 419ms\n",
      "562:\tlearn: 0.1032998\ttotal: 539ms\tremaining: 418ms\n",
      "563:\tlearn: 0.1031447\ttotal: 540ms\tremaining: 417ms\n",
      "564:\tlearn: 0.1029350\ttotal: 541ms\tremaining: 416ms\n",
      "565:\tlearn: 0.1027950\ttotal: 542ms\tremaining: 415ms\n",
      "566:\tlearn: 0.1026921\ttotal: 542ms\tremaining: 414ms\n",
      "567:\tlearn: 0.1025107\ttotal: 543ms\tremaining: 413ms\n",
      "568:\tlearn: 0.1023394\ttotal: 544ms\tremaining: 412ms\n",
      "569:\tlearn: 0.1021415\ttotal: 545ms\tremaining: 411ms\n",
      "570:\tlearn: 0.1019920\ttotal: 546ms\tremaining: 410ms\n",
      "571:\tlearn: 0.1018176\ttotal: 547ms\tremaining: 409ms\n",
      "572:\tlearn: 0.1015397\ttotal: 547ms\tremaining: 408ms\n",
      "573:\tlearn: 0.1014649\ttotal: 548ms\tremaining: 407ms\n",
      "574:\tlearn: 0.1013221\ttotal: 549ms\tremaining: 406ms\n",
      "575:\tlearn: 0.1011841\ttotal: 550ms\tremaining: 405ms\n",
      "576:\tlearn: 0.1009953\ttotal: 551ms\tremaining: 404ms\n",
      "577:\tlearn: 0.1008635\ttotal: 552ms\tremaining: 403ms\n",
      "578:\tlearn: 0.1007042\ttotal: 553ms\tremaining: 402ms\n",
      "579:\tlearn: 0.1004896\ttotal: 553ms\tremaining: 401ms\n",
      "580:\tlearn: 0.1002924\ttotal: 554ms\tremaining: 400ms\n",
      "581:\tlearn: 0.1001562\ttotal: 555ms\tremaining: 399ms\n"
     ]
    },
    {
     "name": "stdout",
     "output_type": "stream",
     "text": [
      "582:\tlearn: 0.1000001\ttotal: 556ms\tremaining: 398ms\n",
      "583:\tlearn: 0.0998074\ttotal: 557ms\tremaining: 397ms\n",
      "584:\tlearn: 0.0996337\ttotal: 558ms\tremaining: 396ms\n",
      "585:\tlearn: 0.0994612\ttotal: 559ms\tremaining: 395ms\n",
      "586:\tlearn: 0.0993168\ttotal: 560ms\tremaining: 394ms\n",
      "587:\tlearn: 0.0991950\ttotal: 561ms\tremaining: 393ms\n",
      "588:\tlearn: 0.0990333\ttotal: 562ms\tremaining: 392ms\n",
      "589:\tlearn: 0.0988631\ttotal: 563ms\tremaining: 391ms\n",
      "590:\tlearn: 0.0987312\ttotal: 564ms\tremaining: 390ms\n",
      "591:\tlearn: 0.0985835\ttotal: 564ms\tremaining: 389ms\n",
      "592:\tlearn: 0.0984715\ttotal: 565ms\tremaining: 388ms\n",
      "593:\tlearn: 0.0982768\ttotal: 567ms\tremaining: 387ms\n",
      "594:\tlearn: 0.0980587\ttotal: 567ms\tremaining: 386ms\n",
      "595:\tlearn: 0.0980111\ttotal: 568ms\tremaining: 385ms\n",
      "596:\tlearn: 0.0978183\ttotal: 569ms\tremaining: 384ms\n",
      "597:\tlearn: 0.0976553\ttotal: 570ms\tremaining: 383ms\n",
      "598:\tlearn: 0.0975170\ttotal: 571ms\tremaining: 382ms\n",
      "599:\tlearn: 0.0973729\ttotal: 572ms\tremaining: 381ms\n",
      "600:\tlearn: 0.0972080\ttotal: 573ms\tremaining: 380ms\n",
      "601:\tlearn: 0.0970761\ttotal: 573ms\tremaining: 379ms\n",
      "602:\tlearn: 0.0970326\ttotal: 574ms\tremaining: 378ms\n",
      "603:\tlearn: 0.0968909\ttotal: 575ms\tremaining: 377ms\n",
      "604:\tlearn: 0.0967980\ttotal: 576ms\tremaining: 376ms\n",
      "605:\tlearn: 0.0967849\ttotal: 577ms\tremaining: 375ms\n",
      "606:\tlearn: 0.0967261\ttotal: 578ms\tremaining: 374ms\n",
      "607:\tlearn: 0.0965578\ttotal: 579ms\tremaining: 373ms\n",
      "608:\tlearn: 0.0963773\ttotal: 580ms\tremaining: 372ms\n",
      "609:\tlearn: 0.0962628\ttotal: 580ms\tremaining: 371ms\n",
      "610:\tlearn: 0.0960889\ttotal: 581ms\tremaining: 370ms\n",
      "611:\tlearn: 0.0959493\ttotal: 582ms\tremaining: 369ms\n",
      "612:\tlearn: 0.0957892\ttotal: 583ms\tremaining: 368ms\n",
      "613:\tlearn: 0.0956470\ttotal: 584ms\tremaining: 367ms\n",
      "614:\tlearn: 0.0955931\ttotal: 585ms\tremaining: 366ms\n",
      "615:\tlearn: 0.0953986\ttotal: 586ms\tremaining: 365ms\n",
      "616:\tlearn: 0.0952220\ttotal: 587ms\tremaining: 364ms\n",
      "617:\tlearn: 0.0951097\ttotal: 587ms\tremaining: 363ms\n",
      "618:\tlearn: 0.0948978\ttotal: 588ms\tremaining: 362ms\n",
      "619:\tlearn: 0.0947510\ttotal: 589ms\tremaining: 361ms\n",
      "620:\tlearn: 0.0945862\ttotal: 590ms\tremaining: 360ms\n",
      "621:\tlearn: 0.0944720\ttotal: 591ms\tremaining: 359ms\n",
      "622:\tlearn: 0.0942813\ttotal: 592ms\tremaining: 358ms\n",
      "623:\tlearn: 0.0941158\ttotal: 592ms\tremaining: 357ms\n",
      "624:\tlearn: 0.0939960\ttotal: 593ms\tremaining: 356ms\n",
      "625:\tlearn: 0.0939728\ttotal: 594ms\tremaining: 355ms\n",
      "626:\tlearn: 0.0938188\ttotal: 595ms\tremaining: 354ms\n",
      "627:\tlearn: 0.0937673\ttotal: 596ms\tremaining: 353ms\n",
      "628:\tlearn: 0.0935648\ttotal: 597ms\tremaining: 352ms\n",
      "629:\tlearn: 0.0934507\ttotal: 597ms\tremaining: 351ms\n",
      "630:\tlearn: 0.0933274\ttotal: 598ms\tremaining: 350ms\n",
      "631:\tlearn: 0.0932213\ttotal: 599ms\tremaining: 349ms\n",
      "632:\tlearn: 0.0929989\ttotal: 600ms\tremaining: 348ms\n",
      "633:\tlearn: 0.0928506\ttotal: 601ms\tremaining: 347ms\n",
      "634:\tlearn: 0.0927240\ttotal: 602ms\tremaining: 346ms\n",
      "635:\tlearn: 0.0925801\ttotal: 602ms\tremaining: 345ms\n",
      "636:\tlearn: 0.0923704\ttotal: 603ms\tremaining: 344ms\n",
      "637:\tlearn: 0.0923581\ttotal: 604ms\tremaining: 343ms\n",
      "638:\tlearn: 0.0921997\ttotal: 605ms\tremaining: 342ms\n",
      "639:\tlearn: 0.0919803\ttotal: 606ms\tremaining: 341ms\n",
      "640:\tlearn: 0.0918565\ttotal: 606ms\tremaining: 340ms\n",
      "641:\tlearn: 0.0918251\ttotal: 607ms\tremaining: 339ms\n",
      "642:\tlearn: 0.0917027\ttotal: 608ms\tremaining: 338ms\n",
      "643:\tlearn: 0.0915794\ttotal: 609ms\tremaining: 337ms\n",
      "644:\tlearn: 0.0913951\ttotal: 610ms\tremaining: 336ms\n",
      "645:\tlearn: 0.0911526\ttotal: 610ms\tremaining: 335ms\n",
      "646:\tlearn: 0.0910214\ttotal: 611ms\tremaining: 334ms\n",
      "647:\tlearn: 0.0908896\ttotal: 612ms\tremaining: 333ms\n",
      "648:\tlearn: 0.0907510\ttotal: 613ms\tremaining: 332ms\n",
      "649:\tlearn: 0.0905629\ttotal: 614ms\tremaining: 330ms\n",
      "650:\tlearn: 0.0904431\ttotal: 615ms\tremaining: 329ms\n",
      "651:\tlearn: 0.0902944\ttotal: 615ms\tremaining: 328ms\n",
      "652:\tlearn: 0.0900904\ttotal: 616ms\tremaining: 328ms\n",
      "653:\tlearn: 0.0899399\ttotal: 617ms\tremaining: 326ms\n",
      "654:\tlearn: 0.0898977\ttotal: 618ms\tremaining: 325ms\n",
      "655:\tlearn: 0.0896763\ttotal: 619ms\tremaining: 325ms\n",
      "656:\tlearn: 0.0895119\ttotal: 620ms\tremaining: 324ms\n",
      "657:\tlearn: 0.0893945\ttotal: 620ms\tremaining: 322ms\n",
      "658:\tlearn: 0.0893227\ttotal: 621ms\tremaining: 321ms\n",
      "659:\tlearn: 0.0892038\ttotal: 622ms\tremaining: 321ms\n",
      "660:\tlearn: 0.0890331\ttotal: 623ms\tremaining: 320ms\n",
      "661:\tlearn: 0.0888558\ttotal: 624ms\tremaining: 319ms\n",
      "662:\tlearn: 0.0887042\ttotal: 625ms\tremaining: 318ms\n",
      "663:\tlearn: 0.0885698\ttotal: 625ms\tremaining: 316ms\n",
      "664:\tlearn: 0.0885244\ttotal: 627ms\tremaining: 316ms\n",
      "665:\tlearn: 0.0885171\ttotal: 627ms\tremaining: 315ms\n",
      "666:\tlearn: 0.0883494\ttotal: 628ms\tremaining: 314ms\n",
      "667:\tlearn: 0.0882349\ttotal: 629ms\tremaining: 313ms\n",
      "668:\tlearn: 0.0881102\ttotal: 630ms\tremaining: 312ms\n",
      "669:\tlearn: 0.0879183\ttotal: 631ms\tremaining: 311ms\n",
      "670:\tlearn: 0.0878157\ttotal: 632ms\tremaining: 310ms\n",
      "671:\tlearn: 0.0876393\ttotal: 632ms\tremaining: 309ms\n",
      "672:\tlearn: 0.0875386\ttotal: 633ms\tremaining: 308ms\n",
      "673:\tlearn: 0.0874235\ttotal: 634ms\tremaining: 307ms\n",
      "674:\tlearn: 0.0872781\ttotal: 635ms\tremaining: 306ms\n",
      "675:\tlearn: 0.0872205\ttotal: 636ms\tremaining: 305ms\n",
      "676:\tlearn: 0.0872069\ttotal: 636ms\tremaining: 304ms\n",
      "677:\tlearn: 0.0870663\ttotal: 637ms\tremaining: 303ms\n",
      "678:\tlearn: 0.0869472\ttotal: 638ms\tremaining: 302ms\n",
      "679:\tlearn: 0.0868727\ttotal: 639ms\tremaining: 301ms\n",
      "680:\tlearn: 0.0867278\ttotal: 639ms\tremaining: 300ms\n",
      "681:\tlearn: 0.0866632\ttotal: 640ms\tremaining: 299ms\n",
      "682:\tlearn: 0.0865259\ttotal: 641ms\tremaining: 298ms\n",
      "683:\tlearn: 0.0863968\ttotal: 642ms\tremaining: 297ms\n",
      "684:\tlearn: 0.0863715\ttotal: 643ms\tremaining: 296ms\n",
      "685:\tlearn: 0.0862581\ttotal: 644ms\tremaining: 295ms\n",
      "686:\tlearn: 0.0861177\ttotal: 645ms\tremaining: 294ms\n",
      "687:\tlearn: 0.0860254\ttotal: 646ms\tremaining: 293ms\n",
      "688:\tlearn: 0.0858803\ttotal: 647ms\tremaining: 292ms\n",
      "689:\tlearn: 0.0857146\ttotal: 647ms\tremaining: 291ms\n",
      "690:\tlearn: 0.0855738\ttotal: 648ms\tremaining: 290ms\n",
      "691:\tlearn: 0.0854805\ttotal: 649ms\tremaining: 289ms\n",
      "692:\tlearn: 0.0853789\ttotal: 650ms\tremaining: 288ms\n",
      "693:\tlearn: 0.0852513\ttotal: 651ms\tremaining: 287ms\n",
      "694:\tlearn: 0.0851179\ttotal: 651ms\tremaining: 286ms\n",
      "695:\tlearn: 0.0849755\ttotal: 652ms\tremaining: 285ms\n",
      "696:\tlearn: 0.0847936\ttotal: 653ms\tremaining: 284ms\n",
      "697:\tlearn: 0.0846644\ttotal: 654ms\tremaining: 283ms\n",
      "698:\tlearn: 0.0845314\ttotal: 655ms\tremaining: 282ms\n",
      "699:\tlearn: 0.0843705\ttotal: 655ms\tremaining: 281ms\n",
      "700:\tlearn: 0.0843548\ttotal: 656ms\tremaining: 280ms\n",
      "701:\tlearn: 0.0842094\ttotal: 657ms\tremaining: 279ms\n",
      "702:\tlearn: 0.0840958\ttotal: 658ms\tremaining: 278ms\n",
      "703:\tlearn: 0.0838992\ttotal: 659ms\tremaining: 277ms\n",
      "704:\tlearn: 0.0837627\ttotal: 660ms\tremaining: 276ms\n",
      "705:\tlearn: 0.0836888\ttotal: 661ms\tremaining: 275ms\n",
      "706:\tlearn: 0.0835554\ttotal: 661ms\tremaining: 274ms\n",
      "707:\tlearn: 0.0834284\ttotal: 662ms\tremaining: 273ms\n",
      "708:\tlearn: 0.0832573\ttotal: 663ms\tremaining: 272ms\n"
     ]
    },
    {
     "name": "stdout",
     "output_type": "stream",
     "text": [
      "709:\tlearn: 0.0831351\ttotal: 664ms\tremaining: 271ms\n",
      "710:\tlearn: 0.0829870\ttotal: 665ms\tremaining: 270ms\n",
      "711:\tlearn: 0.0829636\ttotal: 666ms\tremaining: 269ms\n",
      "712:\tlearn: 0.0828107\ttotal: 666ms\tremaining: 268ms\n",
      "713:\tlearn: 0.0826407\ttotal: 667ms\tremaining: 267ms\n",
      "714:\tlearn: 0.0825145\ttotal: 668ms\tremaining: 266ms\n",
      "715:\tlearn: 0.0824082\ttotal: 669ms\tremaining: 265ms\n",
      "716:\tlearn: 0.0823149\ttotal: 669ms\tremaining: 264ms\n",
      "717:\tlearn: 0.0821547\ttotal: 670ms\tremaining: 263ms\n",
      "718:\tlearn: 0.0820666\ttotal: 671ms\tremaining: 262ms\n",
      "719:\tlearn: 0.0820412\ttotal: 672ms\tremaining: 261ms\n",
      "720:\tlearn: 0.0820041\ttotal: 673ms\tremaining: 260ms\n",
      "721:\tlearn: 0.0819126\ttotal: 673ms\tremaining: 259ms\n",
      "722:\tlearn: 0.0817906\ttotal: 674ms\tremaining: 258ms\n",
      "723:\tlearn: 0.0817074\ttotal: 675ms\tremaining: 257ms\n",
      "724:\tlearn: 0.0816072\ttotal: 676ms\tremaining: 256ms\n",
      "725:\tlearn: 0.0814086\ttotal: 677ms\tremaining: 255ms\n",
      "726:\tlearn: 0.0812370\ttotal: 677ms\tremaining: 254ms\n",
      "727:\tlearn: 0.0811254\ttotal: 678ms\tremaining: 253ms\n",
      "728:\tlearn: 0.0810142\ttotal: 679ms\tremaining: 252ms\n",
      "729:\tlearn: 0.0809341\ttotal: 680ms\tremaining: 251ms\n",
      "730:\tlearn: 0.0808328\ttotal: 681ms\tremaining: 250ms\n",
      "731:\tlearn: 0.0807589\ttotal: 681ms\tremaining: 249ms\n",
      "732:\tlearn: 0.0806389\ttotal: 682ms\tremaining: 248ms\n",
      "733:\tlearn: 0.0805905\ttotal: 683ms\tremaining: 248ms\n",
      "734:\tlearn: 0.0805584\ttotal: 684ms\tremaining: 247ms\n",
      "735:\tlearn: 0.0804023\ttotal: 685ms\tremaining: 246ms\n",
      "736:\tlearn: 0.0803069\ttotal: 685ms\tremaining: 245ms\n",
      "737:\tlearn: 0.0801380\ttotal: 686ms\tremaining: 244ms\n",
      "738:\tlearn: 0.0800481\ttotal: 687ms\tremaining: 243ms\n",
      "739:\tlearn: 0.0799419\ttotal: 688ms\tremaining: 242ms\n",
      "740:\tlearn: 0.0798722\ttotal: 689ms\tremaining: 241ms\n",
      "741:\tlearn: 0.0797629\ttotal: 689ms\tremaining: 240ms\n",
      "742:\tlearn: 0.0796391\ttotal: 690ms\tremaining: 239ms\n",
      "743:\tlearn: 0.0794903\ttotal: 691ms\tremaining: 238ms\n",
      "744:\tlearn: 0.0793328\ttotal: 692ms\tremaining: 237ms\n",
      "745:\tlearn: 0.0793239\ttotal: 693ms\tremaining: 236ms\n",
      "746:\tlearn: 0.0791887\ttotal: 693ms\tremaining: 235ms\n",
      "747:\tlearn: 0.0790197\ttotal: 694ms\tremaining: 234ms\n",
      "748:\tlearn: 0.0789987\ttotal: 695ms\tremaining: 233ms\n",
      "749:\tlearn: 0.0788626\ttotal: 696ms\tremaining: 232ms\n",
      "750:\tlearn: 0.0786838\ttotal: 696ms\tremaining: 231ms\n",
      "751:\tlearn: 0.0785109\ttotal: 697ms\tremaining: 230ms\n",
      "752:\tlearn: 0.0783842\ttotal: 698ms\tremaining: 229ms\n",
      "753:\tlearn: 0.0782579\ttotal: 699ms\tremaining: 228ms\n",
      "754:\tlearn: 0.0780595\ttotal: 700ms\tremaining: 227ms\n",
      "755:\tlearn: 0.0778921\ttotal: 700ms\tremaining: 226ms\n",
      "756:\tlearn: 0.0777733\ttotal: 701ms\tremaining: 225ms\n",
      "757:\tlearn: 0.0777453\ttotal: 702ms\tremaining: 224ms\n",
      "758:\tlearn: 0.0775907\ttotal: 703ms\tremaining: 223ms\n",
      "759:\tlearn: 0.0774911\ttotal: 704ms\tremaining: 222ms\n",
      "760:\tlearn: 0.0774711\ttotal: 704ms\tremaining: 221ms\n",
      "761:\tlearn: 0.0772943\ttotal: 705ms\tremaining: 220ms\n",
      "762:\tlearn: 0.0771622\ttotal: 706ms\tremaining: 219ms\n",
      "763:\tlearn: 0.0769820\ttotal: 707ms\tremaining: 218ms\n",
      "764:\tlearn: 0.0768877\ttotal: 708ms\tremaining: 217ms\n",
      "765:\tlearn: 0.0766870\ttotal: 709ms\tremaining: 217ms\n",
      "766:\tlearn: 0.0765875\ttotal: 710ms\tremaining: 216ms\n",
      "767:\tlearn: 0.0765202\ttotal: 710ms\tremaining: 215ms\n",
      "768:\tlearn: 0.0764228\ttotal: 711ms\tremaining: 214ms\n",
      "769:\tlearn: 0.0764123\ttotal: 712ms\tremaining: 213ms\n",
      "770:\tlearn: 0.0763335\ttotal: 713ms\tremaining: 212ms\n",
      "771:\tlearn: 0.0762741\ttotal: 714ms\tremaining: 211ms\n",
      "772:\tlearn: 0.0761897\ttotal: 714ms\tremaining: 210ms\n",
      "773:\tlearn: 0.0760140\ttotal: 715ms\tremaining: 209ms\n",
      "774:\tlearn: 0.0759175\ttotal: 716ms\tremaining: 208ms\n",
      "775:\tlearn: 0.0757773\ttotal: 717ms\tremaining: 207ms\n",
      "776:\tlearn: 0.0756849\ttotal: 718ms\tremaining: 206ms\n",
      "777:\tlearn: 0.0755519\ttotal: 719ms\tremaining: 205ms\n",
      "778:\tlearn: 0.0754902\ttotal: 719ms\tremaining: 204ms\n",
      "779:\tlearn: 0.0754739\ttotal: 720ms\tremaining: 203ms\n",
      "780:\tlearn: 0.0753755\ttotal: 721ms\tremaining: 202ms\n",
      "781:\tlearn: 0.0753217\ttotal: 722ms\tremaining: 201ms\n",
      "782:\tlearn: 0.0752480\ttotal: 722ms\tremaining: 200ms\n",
      "783:\tlearn: 0.0752049\ttotal: 723ms\tremaining: 199ms\n",
      "784:\tlearn: 0.0751853\ttotal: 724ms\tremaining: 198ms\n",
      "785:\tlearn: 0.0751225\ttotal: 725ms\tremaining: 197ms\n",
      "786:\tlearn: 0.0750324\ttotal: 726ms\tremaining: 196ms\n",
      "787:\tlearn: 0.0750110\ttotal: 726ms\tremaining: 195ms\n",
      "788:\tlearn: 0.0748547\ttotal: 727ms\tremaining: 194ms\n",
      "789:\tlearn: 0.0747126\ttotal: 728ms\tremaining: 194ms\n",
      "790:\tlearn: 0.0746963\ttotal: 729ms\tremaining: 193ms\n",
      "791:\tlearn: 0.0745872\ttotal: 729ms\tremaining: 192ms\n",
      "792:\tlearn: 0.0745306\ttotal: 730ms\tremaining: 191ms\n",
      "793:\tlearn: 0.0745157\ttotal: 731ms\tremaining: 190ms\n",
      "794:\tlearn: 0.0744470\ttotal: 732ms\tremaining: 189ms\n",
      "795:\tlearn: 0.0742995\ttotal: 733ms\tremaining: 188ms\n",
      "796:\tlearn: 0.0741682\ttotal: 734ms\tremaining: 187ms\n",
      "797:\tlearn: 0.0740135\ttotal: 734ms\tremaining: 186ms\n",
      "798:\tlearn: 0.0738971\ttotal: 735ms\tremaining: 185ms\n",
      "799:\tlearn: 0.0737981\ttotal: 736ms\tremaining: 184ms\n",
      "800:\tlearn: 0.0735971\ttotal: 737ms\tremaining: 183ms\n",
      "801:\tlearn: 0.0734345\ttotal: 738ms\tremaining: 182ms\n",
      "802:\tlearn: 0.0733852\ttotal: 739ms\tremaining: 181ms\n",
      "803:\tlearn: 0.0733096\ttotal: 739ms\tremaining: 180ms\n",
      "804:\tlearn: 0.0732004\ttotal: 740ms\tremaining: 179ms\n",
      "805:\tlearn: 0.0730645\ttotal: 741ms\tremaining: 178ms\n",
      "806:\tlearn: 0.0730467\ttotal: 742ms\tremaining: 177ms\n",
      "807:\tlearn: 0.0729026\ttotal: 742ms\tremaining: 176ms\n",
      "808:\tlearn: 0.0728271\ttotal: 743ms\tremaining: 176ms\n",
      "809:\tlearn: 0.0726144\ttotal: 744ms\tremaining: 175ms\n",
      "810:\tlearn: 0.0725738\ttotal: 745ms\tremaining: 174ms\n"
     ]
    },
    {
     "name": "stdout",
     "output_type": "stream",
     "text": [
      "811:\tlearn: 0.0725575\ttotal: 746ms\tremaining: 173ms\n",
      "812:\tlearn: 0.0724979\ttotal: 747ms\tremaining: 172ms\n",
      "813:\tlearn: 0.0724680\ttotal: 748ms\tremaining: 171ms\n",
      "814:\tlearn: 0.0724205\ttotal: 749ms\tremaining: 170ms\n",
      "815:\tlearn: 0.0723608\ttotal: 749ms\tremaining: 169ms\n",
      "816:\tlearn: 0.0722540\ttotal: 750ms\tremaining: 168ms\n",
      "817:\tlearn: 0.0721493\ttotal: 751ms\tremaining: 167ms\n",
      "818:\tlearn: 0.0721112\ttotal: 752ms\tremaining: 166ms\n",
      "819:\tlearn: 0.0720956\ttotal: 753ms\tremaining: 165ms\n",
      "820:\tlearn: 0.0719755\ttotal: 753ms\tremaining: 164ms\n",
      "821:\tlearn: 0.0719283\ttotal: 754ms\tremaining: 163ms\n",
      "822:\tlearn: 0.0719012\ttotal: 755ms\tremaining: 162ms\n",
      "823:\tlearn: 0.0718469\ttotal: 756ms\tremaining: 161ms\n",
      "824:\tlearn: 0.0717169\ttotal: 757ms\tremaining: 161ms\n",
      "825:\tlearn: 0.0716428\ttotal: 758ms\tremaining: 160ms\n",
      "826:\tlearn: 0.0715418\ttotal: 758ms\tremaining: 159ms\n",
      "827:\tlearn: 0.0714323\ttotal: 759ms\tremaining: 158ms\n",
      "828:\tlearn: 0.0712683\ttotal: 760ms\tremaining: 157ms\n",
      "829:\tlearn: 0.0712309\ttotal: 761ms\tremaining: 156ms\n",
      "830:\tlearn: 0.0711982\ttotal: 761ms\tremaining: 155ms\n",
      "831:\tlearn: 0.0711153\ttotal: 762ms\tremaining: 154ms\n",
      "832:\tlearn: 0.0710017\ttotal: 763ms\tremaining: 153ms\n",
      "833:\tlearn: 0.0708725\ttotal: 764ms\tremaining: 152ms\n",
      "834:\tlearn: 0.0707314\ttotal: 765ms\tremaining: 151ms\n",
      "835:\tlearn: 0.0705678\ttotal: 766ms\tremaining: 150ms\n",
      "836:\tlearn: 0.0704283\ttotal: 766ms\tremaining: 149ms\n",
      "837:\tlearn: 0.0702766\ttotal: 767ms\tremaining: 148ms\n",
      "838:\tlearn: 0.0701686\ttotal: 768ms\tremaining: 147ms\n",
      "839:\tlearn: 0.0700411\ttotal: 769ms\tremaining: 146ms\n",
      "840:\tlearn: 0.0698654\ttotal: 770ms\tremaining: 146ms\n",
      "841:\tlearn: 0.0697350\ttotal: 771ms\tremaining: 145ms\n",
      "842:\tlearn: 0.0696317\ttotal: 771ms\tremaining: 144ms\n",
      "843:\tlearn: 0.0694813\ttotal: 772ms\tremaining: 143ms\n",
      "844:\tlearn: 0.0694014\ttotal: 773ms\tremaining: 142ms\n",
      "845:\tlearn: 0.0693627\ttotal: 774ms\tremaining: 141ms\n",
      "846:\tlearn: 0.0693142\ttotal: 774ms\tremaining: 140ms\n",
      "847:\tlearn: 0.0692683\ttotal: 775ms\tremaining: 139ms\n",
      "848:\tlearn: 0.0692196\ttotal: 776ms\tremaining: 138ms\n",
      "849:\tlearn: 0.0690263\ttotal: 777ms\tremaining: 137ms\n",
      "850:\tlearn: 0.0690124\ttotal: 778ms\tremaining: 136ms\n",
      "851:\tlearn: 0.0689596\ttotal: 778ms\tremaining: 135ms\n",
      "852:\tlearn: 0.0688966\ttotal: 779ms\tremaining: 134ms\n",
      "853:\tlearn: 0.0688464\ttotal: 780ms\tremaining: 133ms\n",
      "854:\tlearn: 0.0687878\ttotal: 781ms\tremaining: 132ms\n",
      "855:\tlearn: 0.0686306\ttotal: 782ms\tremaining: 132ms\n",
      "856:\tlearn: 0.0685334\ttotal: 783ms\tremaining: 131ms\n",
      "857:\tlearn: 0.0684432\ttotal: 783ms\tremaining: 130ms\n",
      "858:\tlearn: 0.0683988\ttotal: 784ms\tremaining: 129ms\n",
      "859:\tlearn: 0.0683541\ttotal: 785ms\tremaining: 128ms\n",
      "860:\tlearn: 0.0683117\ttotal: 786ms\tremaining: 127ms\n",
      "861:\tlearn: 0.0682306\ttotal: 787ms\tremaining: 126ms\n",
      "862:\tlearn: 0.0680955\ttotal: 787ms\tremaining: 125ms\n",
      "863:\tlearn: 0.0680011\ttotal: 788ms\tremaining: 124ms\n",
      "864:\tlearn: 0.0679588\ttotal: 789ms\tremaining: 123ms\n",
      "865:\tlearn: 0.0679012\ttotal: 790ms\tremaining: 122ms\n",
      "866:\tlearn: 0.0677591\ttotal: 791ms\tremaining: 121ms\n",
      "867:\tlearn: 0.0676939\ttotal: 791ms\tremaining: 120ms\n",
      "868:\tlearn: 0.0675591\ttotal: 792ms\tremaining: 119ms\n",
      "869:\tlearn: 0.0674548\ttotal: 793ms\tremaining: 119ms\n",
      "870:\tlearn: 0.0674288\ttotal: 794ms\tremaining: 118ms\n",
      "871:\tlearn: 0.0673826\ttotal: 795ms\tremaining: 117ms\n",
      "872:\tlearn: 0.0672481\ttotal: 795ms\tremaining: 116ms\n",
      "873:\tlearn: 0.0671471\ttotal: 796ms\tremaining: 115ms\n",
      "874:\tlearn: 0.0670069\ttotal: 797ms\tremaining: 114ms\n",
      "875:\tlearn: 0.0668877\ttotal: 798ms\tremaining: 113ms\n",
      "876:\tlearn: 0.0668090\ttotal: 799ms\tremaining: 112ms\n",
      "877:\tlearn: 0.0667207\ttotal: 800ms\tremaining: 111ms\n",
      "878:\tlearn: 0.0666547\ttotal: 801ms\tremaining: 110ms\n",
      "879:\tlearn: 0.0665706\ttotal: 801ms\tremaining: 109ms\n",
      "880:\tlearn: 0.0664507\ttotal: 802ms\tremaining: 108ms\n",
      "881:\tlearn: 0.0663994\ttotal: 803ms\tremaining: 107ms\n",
      "882:\tlearn: 0.0663085\ttotal: 804ms\tremaining: 107ms\n",
      "883:\tlearn: 0.0662076\ttotal: 805ms\tremaining: 106ms\n",
      "884:\tlearn: 0.0661357\ttotal: 806ms\tremaining: 105ms\n",
      "885:\tlearn: 0.0660299\ttotal: 807ms\tremaining: 104ms\n",
      "886:\tlearn: 0.0659170\ttotal: 807ms\tremaining: 103ms\n",
      "887:\tlearn: 0.0657920\ttotal: 808ms\tremaining: 102ms\n",
      "888:\tlearn: 0.0656577\ttotal: 809ms\tremaining: 101ms\n",
      "889:\tlearn: 0.0655885\ttotal: 810ms\tremaining: 100ms\n",
      "890:\tlearn: 0.0655025\ttotal: 811ms\tremaining: 99.2ms\n",
      "891:\tlearn: 0.0653803\ttotal: 812ms\tremaining: 98.3ms\n",
      "892:\tlearn: 0.0652810\ttotal: 812ms\tremaining: 97.3ms\n",
      "893:\tlearn: 0.0651303\ttotal: 813ms\tremaining: 96.4ms\n",
      "894:\tlearn: 0.0651077\ttotal: 814ms\tremaining: 95.5ms\n",
      "895:\tlearn: 0.0650684\ttotal: 815ms\tremaining: 94.6ms\n",
      "896:\tlearn: 0.0649500\ttotal: 815ms\tremaining: 93.6ms\n",
      "897:\tlearn: 0.0648900\ttotal: 816ms\tremaining: 92.7ms\n",
      "898:\tlearn: 0.0647468\ttotal: 817ms\tremaining: 91.8ms\n",
      "899:\tlearn: 0.0646499\ttotal: 818ms\tremaining: 90.9ms\n",
      "900:\tlearn: 0.0645724\ttotal: 819ms\tremaining: 89.9ms\n",
      "901:\tlearn: 0.0644758\ttotal: 819ms\tremaining: 89ms\n",
      "902:\tlearn: 0.0643812\ttotal: 820ms\tremaining: 88.1ms\n",
      "903:\tlearn: 0.0643303\ttotal: 821ms\tremaining: 87.2ms\n",
      "904:\tlearn: 0.0642369\ttotal: 822ms\tremaining: 86.3ms\n",
      "905:\tlearn: 0.0641674\ttotal: 823ms\tremaining: 85.3ms\n",
      "906:\tlearn: 0.0640263\ttotal: 824ms\tremaining: 84.5ms\n",
      "907:\tlearn: 0.0639674\ttotal: 825ms\tremaining: 83.6ms\n",
      "908:\tlearn: 0.0638981\ttotal: 826ms\tremaining: 82.6ms\n",
      "909:\tlearn: 0.0638166\ttotal: 826ms\tremaining: 81.7ms\n",
      "910:\tlearn: 0.0636973\ttotal: 828ms\tremaining: 80.9ms\n",
      "911:\tlearn: 0.0635921\ttotal: 829ms\tremaining: 79.9ms\n",
      "912:\tlearn: 0.0635595\ttotal: 829ms\tremaining: 79ms\n",
      "913:\tlearn: 0.0634897\ttotal: 830ms\tremaining: 78.1ms\n",
      "914:\tlearn: 0.0634169\ttotal: 831ms\tremaining: 77.2ms\n",
      "915:\tlearn: 0.0633173\ttotal: 832ms\tremaining: 76.3ms\n",
      "916:\tlearn: 0.0632986\ttotal: 832ms\tremaining: 75.3ms\n",
      "917:\tlearn: 0.0632192\ttotal: 833ms\tremaining: 74.4ms\n",
      "918:\tlearn: 0.0630965\ttotal: 834ms\tremaining: 73.5ms\n",
      "919:\tlearn: 0.0630745\ttotal: 835ms\tremaining: 72.6ms\n",
      "920:\tlearn: 0.0629921\ttotal: 836ms\tremaining: 71.7ms\n",
      "921:\tlearn: 0.0629255\ttotal: 837ms\tremaining: 70.8ms\n",
      "922:\tlearn: 0.0628755\ttotal: 837ms\tremaining: 69.9ms\n",
      "923:\tlearn: 0.0627777\ttotal: 838ms\tremaining: 69ms\n",
      "924:\tlearn: 0.0627334\ttotal: 839ms\tremaining: 68ms\n",
      "925:\tlearn: 0.0626070\ttotal: 840ms\tremaining: 67.1ms\n",
      "926:\tlearn: 0.0625443\ttotal: 841ms\tremaining: 66.2ms\n",
      "927:\tlearn: 0.0625305\ttotal: 841ms\tremaining: 65.3ms\n",
      "928:\tlearn: 0.0624107\ttotal: 842ms\tremaining: 64.4ms\n",
      "929:\tlearn: 0.0623493\ttotal: 843ms\tremaining: 63.5ms\n",
      "930:\tlearn: 0.0622924\ttotal: 844ms\tremaining: 62.6ms\n",
      "931:\tlearn: 0.0621614\ttotal: 845ms\tremaining: 61.6ms\n",
      "932:\tlearn: 0.0621082\ttotal: 846ms\tremaining: 60.7ms\n",
      "933:\tlearn: 0.0620236\ttotal: 846ms\tremaining: 59.8ms\n",
      "934:\tlearn: 0.0619523\ttotal: 847ms\tremaining: 58.9ms\n",
      "935:\tlearn: 0.0618747\ttotal: 848ms\tremaining: 58ms\n",
      "936:\tlearn: 0.0618465\ttotal: 849ms\tremaining: 57.1ms\n",
      "937:\tlearn: 0.0617649\ttotal: 850ms\tremaining: 56.2ms\n",
      "938:\tlearn: 0.0617111\ttotal: 851ms\tremaining: 55.3ms\n",
      "939:\tlearn: 0.0616519\ttotal: 852ms\tremaining: 54.4ms\n",
      "940:\tlearn: 0.0615318\ttotal: 852ms\tremaining: 53.4ms\n",
      "941:\tlearn: 0.0614505\ttotal: 853ms\tremaining: 52.5ms\n"
     ]
    },
    {
     "name": "stdout",
     "output_type": "stream",
     "text": [
      "942:\tlearn: 0.0613375\ttotal: 854ms\tremaining: 51.6ms\n",
      "943:\tlearn: 0.0612663\ttotal: 855ms\tremaining: 50.7ms\n",
      "944:\tlearn: 0.0612322\ttotal: 856ms\tremaining: 49.8ms\n",
      "945:\tlearn: 0.0611540\ttotal: 857ms\tremaining: 48.9ms\n",
      "946:\tlearn: 0.0610721\ttotal: 858ms\tremaining: 48ms\n",
      "947:\tlearn: 0.0610134\ttotal: 858ms\tremaining: 47.1ms\n",
      "948:\tlearn: 0.0609292\ttotal: 859ms\tremaining: 46.2ms\n",
      "949:\tlearn: 0.0609027\ttotal: 860ms\tremaining: 45.3ms\n",
      "950:\tlearn: 0.0608786\ttotal: 861ms\tremaining: 44.4ms\n",
      "951:\tlearn: 0.0608110\ttotal: 862ms\tremaining: 43.5ms\n",
      "952:\tlearn: 0.0607227\ttotal: 863ms\tremaining: 42.5ms\n",
      "953:\tlearn: 0.0606163\ttotal: 863ms\tremaining: 41.6ms\n",
      "954:\tlearn: 0.0605469\ttotal: 864ms\tremaining: 40.7ms\n",
      "955:\tlearn: 0.0604148\ttotal: 865ms\tremaining: 39.8ms\n",
      "956:\tlearn: 0.0603282\ttotal: 866ms\tremaining: 38.9ms\n",
      "957:\tlearn: 0.0602257\ttotal: 867ms\tremaining: 38ms\n",
      "958:\tlearn: 0.0601219\ttotal: 868ms\tremaining: 37.1ms\n",
      "959:\tlearn: 0.0600475\ttotal: 868ms\tremaining: 36.2ms\n",
      "960:\tlearn: 0.0599766\ttotal: 869ms\tremaining: 35.3ms\n",
      "961:\tlearn: 0.0598967\ttotal: 870ms\tremaining: 34.4ms\n",
      "962:\tlearn: 0.0598298\ttotal: 871ms\tremaining: 33.5ms\n",
      "963:\tlearn: 0.0597944\ttotal: 872ms\tremaining: 32.6ms\n",
      "964:\tlearn: 0.0596923\ttotal: 873ms\tremaining: 31.6ms\n",
      "965:\tlearn: 0.0595742\ttotal: 873ms\tremaining: 30.7ms\n",
      "966:\tlearn: 0.0594755\ttotal: 874ms\tremaining: 29.8ms\n",
      "967:\tlearn: 0.0594513\ttotal: 875ms\tremaining: 28.9ms\n",
      "968:\tlearn: 0.0593885\ttotal: 876ms\tremaining: 28ms\n",
      "969:\tlearn: 0.0592841\ttotal: 876ms\tremaining: 27.1ms\n",
      "970:\tlearn: 0.0592098\ttotal: 877ms\tremaining: 26.2ms\n",
      "971:\tlearn: 0.0591902\ttotal: 878ms\tremaining: 25.3ms\n",
      "972:\tlearn: 0.0591613\ttotal: 879ms\tremaining: 24.4ms\n",
      "973:\tlearn: 0.0590882\ttotal: 880ms\tremaining: 23.5ms\n",
      "974:\tlearn: 0.0590531\ttotal: 881ms\tremaining: 22.6ms\n",
      "975:\tlearn: 0.0589486\ttotal: 882ms\tremaining: 21.7ms\n",
      "976:\tlearn: 0.0588393\ttotal: 882ms\tremaining: 20.8ms\n",
      "977:\tlearn: 0.0587142\ttotal: 883ms\tremaining: 19.9ms\n",
      "978:\tlearn: 0.0586629\ttotal: 884ms\tremaining: 19ms\n",
      "979:\tlearn: 0.0586010\ttotal: 885ms\tremaining: 18.1ms\n",
      "980:\tlearn: 0.0585352\ttotal: 885ms\tremaining: 17.1ms\n",
      "981:\tlearn: 0.0584908\ttotal: 886ms\tremaining: 16.2ms\n",
      "982:\tlearn: 0.0584118\ttotal: 887ms\tremaining: 15.3ms\n",
      "983:\tlearn: 0.0583642\ttotal: 888ms\tremaining: 14.4ms\n",
      "984:\tlearn: 0.0582864\ttotal: 889ms\tremaining: 13.5ms\n",
      "985:\tlearn: 0.0582321\ttotal: 890ms\tremaining: 12.6ms\n",
      "986:\tlearn: 0.0580813\ttotal: 890ms\tremaining: 11.7ms\n",
      "987:\tlearn: 0.0579941\ttotal: 891ms\tremaining: 10.8ms\n",
      "988:\tlearn: 0.0579445\ttotal: 892ms\tremaining: 9.92ms\n",
      "989:\tlearn: 0.0579040\ttotal: 893ms\tremaining: 9.02ms\n",
      "990:\tlearn: 0.0578700\ttotal: 894ms\tremaining: 8.12ms\n",
      "991:\tlearn: 0.0577959\ttotal: 894ms\tremaining: 7.21ms\n",
      "992:\tlearn: 0.0577032\ttotal: 895ms\tremaining: 6.31ms\n",
      "993:\tlearn: 0.0576188\ttotal: 896ms\tremaining: 5.41ms\n",
      "994:\tlearn: 0.0575160\ttotal: 897ms\tremaining: 4.5ms\n",
      "995:\tlearn: 0.0574135\ttotal: 898ms\tremaining: 3.6ms\n",
      "996:\tlearn: 0.0573096\ttotal: 898ms\tremaining: 2.7ms\n",
      "997:\tlearn: 0.0572483\ttotal: 899ms\tremaining: 1.8ms\n",
      "998:\tlearn: 0.0572226\ttotal: 900ms\tremaining: 900us\n",
      "999:\tlearn: 0.0571922\ttotal: 901ms\tremaining: 0us\n"
     ]
    },
    {
     "data": {
      "text/plain": [
       "<catboost.core.CatBoostRegressor at 0x7fa0197aa400>"
      ]
     },
     "execution_count": 9,
     "metadata": {},
     "output_type": "execute_result"
    }
   ],
   "source": [
    "#Train the Model \n",
    "prior_model = ctb.CatBoostRegressor()\n",
    "prior_model.fit(X_train,Y_train)"
   ]
  },
  {
   "cell_type": "code",
   "execution_count": 10,
   "id": "af65dcda",
   "metadata": {
    "execution": {
     "iopub.execute_input": "2022-03-11T09:59:39.341596Z",
     "iopub.status.busy": "2022-03-11T09:59:39.341215Z",
     "iopub.status.idle": "2022-03-11T09:59:39.348555Z",
     "shell.execute_reply": "2022-03-11T09:59:39.348840Z"
    },
    "id": "af65dcda",
    "papermill": {
     "duration": 0.020526,
     "end_time": "2022-03-11T09:59:39.348957",
     "exception": false,
     "start_time": "2022-03-11T09:59:39.328431",
     "status": "completed"
    },
    "tags": []
   },
   "outputs": [
    {
     "data": {
      "application/scrapbook.scrap.json+json": {
       "data": 0.20120229779771828,
       "encoder": "json",
       "name": "Prior Model MSE",
       "version": 1
      }
     },
     "metadata": {
      "scrapbook": {
       "data": true,
       "display": false,
       "name": "Prior Model MSE"
      }
     },
     "output_type": "display_data"
    },
    {
     "data": {
      "application/scrapbook.scrap.json+json": {
       "data": 1.5322291572713056,
       "encoder": "json",
       "name": "ABC Pre-generator MSE",
       "version": 1
      }
     },
     "metadata": {
      "scrapbook": {
       "data": true,
       "display": false,
       "name": "ABC Pre-generator MSE"
      }
     },
     "output_type": "display_data"
    },
    {
     "data": {
      "application/scrapbook.scrap.json+json": {
       "data": 0.23545584556747476,
       "encoder": "json",
       "name": "Prior Model MAE",
       "version": 1
      }
     },
     "metadata": {
      "scrapbook": {
       "data": true,
       "display": false,
       "name": "Prior Model MAE"
      }
     },
     "output_type": "display_data"
    },
    {
     "data": {
      "application/scrapbook.scrap.json+json": {
       "data": 0.9935169240834364,
       "encoder": "json",
       "name": "ABC Pre-generator MAE",
       "version": 1
      }
     },
     "metadata": {
      "scrapbook": {
       "data": true,
       "display": false,
       "name": "ABC Pre-generator MAE"
      }
     },
     "output_type": "display_data"
    }
   ],
   "source": [
    "y_pred = prior_model.predict(X_test)\n",
    "y_abc = y_pred + np.random.normal(0,variance, y_pred.shape)\n",
    "mse = mean_squared_error(y_pred,Y_test)\n",
    "sb.glue(\"Prior Model MSE\",mse)\n",
    "mse = mean_squared_error(y_abc,Y_test)\n",
    "sb.glue(\"ABC Pre-generator MSE\",mse)\n",
    "\n",
    "mae = mean_absolute_error(y_pred,Y_test)\n",
    "sb.glue(\"Prior Model MAE\",mae)\n",
    "mae = mean_absolute_error(y_abc,Y_test)\n",
    "sb.glue(\"ABC Pre-generator MAE\",mae)"
   ]
  },
  {
   "cell_type": "markdown",
   "id": "25609da2",
   "metadata": {
    "papermill": {
     "duration": 0.009768,
     "end_time": "2022-03-11T09:59:39.368693",
     "exception": false,
     "start_time": "2022-03-11T09:59:39.358925",
     "status": "completed"
    },
    "tags": []
   },
   "source": [
    "# ABC GAN Model"
   ]
  },
  {
   "cell_type": "code",
   "execution_count": 11,
   "id": "dfc3464d",
   "metadata": {
    "execution": {
     "iopub.execute_input": "2022-03-11T09:59:39.391070Z",
     "iopub.status.busy": "2022-03-11T09:59:39.390700Z",
     "iopub.status.idle": "2022-03-11T09:59:39.393217Z",
     "shell.execute_reply": "2022-03-11T09:59:39.393461Z"
    },
    "papermill": {
     "duration": 0.015153,
     "end_time": "2022-03-11T09:59:39.393571",
     "exception": false,
     "start_time": "2022-03-11T09:59:39.378418",
     "status": "completed"
    },
    "tags": []
   },
   "outputs": [],
   "source": [
    "gen = network.Generator(n_features+1).to(device)\n",
    "disc = network.Discriminator(n_features+1).to(device)\n",
    "\n",
    "criterion = torch.nn.BCELoss()\n",
    "gen_opt = torch.optim.Adam(gen.parameters(), lr=0.001, betas=(0.5, 0.999))\n",
    "disc_opt = torch.optim.Adam(disc.parameters(), lr=0.001, betas=(0.5, 0.999))"
   ]
  },
  {
   "cell_type": "code",
   "execution_count": 12,
   "id": "b75fdd85",
   "metadata": {
    "execution": {
     "iopub.execute_input": "2022-03-11T09:59:39.415730Z",
     "iopub.status.busy": "2022-03-11T09:59:39.415360Z",
     "iopub.status.idle": "2022-03-11T10:00:15.509095Z",
     "shell.execute_reply": "2022-03-11T10:00:15.509348Z"
    },
    "papermill": {
     "duration": 36.105919,
     "end_time": "2022-03-11T10:00:15.509482",
     "exception": false,
     "start_time": "2022-03-11T09:59:39.403563",
     "status": "completed"
    },
    "tags": []
   },
   "outputs": [
    {
     "data": {
      "image/png": "[encoded data removed]",
      "text/plain": [
       "<Figure size 432x288 with 1 Axes>"
      ]
     },
     "metadata": {
      "needs_background": "light"
     },
     "output_type": "display_data"
    },
    {
     "data": {
      "image/png": "[encoded data removed]",
      "text/plain": [
       "<Figure size 432x288 with 1 Axes>"
      ]
     },
     "metadata": {
      "needs_background": "light"
     },
     "output_type": "display_data"
    }
   ],
   "source": [
    "#Training the ABC_GAN \n",
    "ABC_train_test2.training_GAN(disc,gen,disc_opt,gen_opt,train_data,batch_size,n_epochs,criterion,prior_model,variance,0,device)"
   ]
  },
  {
   "cell_type": "code",
   "execution_count": 13,
   "id": "1fa7c368",
   "metadata": {
    "execution": {
     "iopub.execute_input": "2022-03-11T10:00:15.533597Z",
     "iopub.status.busy": "2022-03-11T10:00:15.533224Z",
     "iopub.status.idle": "2022-03-11T10:00:15.834907Z",
     "shell.execute_reply": "2022-03-11T10:00:15.835212Z"
    },
    "papermill": {
     "duration": 0.31499,
     "end_time": "2022-03-11T10:00:15.835333",
     "exception": false,
     "start_time": "2022-03-11T10:00:15.520343",
     "status": "completed"
    },
    "tags": []
   },
   "outputs": [
    {
     "data": {
      "application/scrapbook.scrap.json+json": {
       "data": 0.11857624468829105,
       "encoder": "json",
       "name": "ABC-GAN Model 1 MSE",
       "version": 1
      }
     },
     "metadata": {
      "scrapbook": {
       "data": true,
       "display": false,
       "name": "ABC-GAN Model 1 MSE"
      }
     },
     "output_type": "display_data"
    },
    {
     "data": {
      "application/scrapbook.scrap.json+json": {
       "data": 0.24995090164280698,
       "encoder": "json",
       "name": "ABC-GAN Model 1 MAE",
       "version": 1
      }
     },
     "metadata": {
      "scrapbook": {
       "data": true,
       "display": false,
       "name": "ABC-GAN Model 1 MAE"
      }
     },
     "output_type": "display_data"
    },
    {
     "data": {
      "application/scrapbook.scrap.json+json": {
       "data": 25.49499196756631,
       "encoder": "json",
       "name": "ABC-GAN Model 1 Manhattan Distance",
       "version": 1
      }
     },
     "metadata": {
      "scrapbook": {
       "data": true,
       "display": false,
       "name": "ABC-GAN Model 1 Manhattan Distance"
      }
     },
     "output_type": "display_data"
    },
    {
     "data": {
      "application/scrapbook.scrap.json+json": {
       "data": 3.477552904677607,
       "encoder": "json",
       "name": "ABC-GAN Model 1 Euclidean distance",
       "version": 1
      }
     },
     "metadata": {
      "scrapbook": {
       "data": true,
       "display": false,
       "name": "ABC-GAN Model 1 Euclidean distance"
      }
     },
     "output_type": "display_data"
    },
    {
     "data": {
      "application/scrapbook.scrap.json+json": {
       "data": [
        [
         0.11629376470601156,
         0.11345451644608631,
         0.1219771214845026,
         0.11753601872386074,
         0.11537637309211503,
         0.12092490142551078,
         0.11840139939240532,
         0.11964495767779745,
         0.1164885120931386,
         0.1175083057619802,
         0.11706384714366803,
         0.11980567005574462,
         0.11527179143681966,
         0.11755457560271303,
         0.1187799535171622,
         0.11916589371626007,
         0.1254828490264828,
         0.11837285203395397,
         0.1167493195075805,
         0.11626897170354143,
         0.11601361454420762,
         0.11654167885206816,
         0.11740281780981374,
         0.12006883640889844,
         0.1193162966897528,
         0.12415859006680569,
         0.11664281470521233,
         0.11692885205320178,
         0.12327837169269419,
         0.12227449016745666,
         0.11974540749814556,
         0.11885766042965695,
         0.11782490646309737,
         0.11792545830676933,
         0.12069010455854907,
         0.11801589327883993,
         0.11785896940097335,
         0.11962937829042097,
         0.11901876767220364,
         0.11789982360866406,
         0.11173888071755295,
         0.1183142817761119,
         0.11652410494926158,
         0.11688200733709343,
         0.1159786828468812,
         0.12241849423585793,
         0.12143487812198434,
         0.11258382492302066,
         0.1166238343658804,
         0.11711030921228578,
         0.11645066219401588,
         0.11957548550915006,
         0.1141565565244824,
         0.11855726020900097,
         0.11919370649260631,
         0.11650028914560924,
         0.12008722368501883,
         0.11761177924141468,
         0.11899569412984796,
         0.12017841078699693,
         0.11870022844529941,
         0.11701563179353938,
         0.1201104153813293,
         0.1160082201506173,
         0.12023012371387443,
         0.11666481125089452,
         0.12104466503512751,
         0.1151150964323674,
         0.11948063092587234,
         0.11454159896611418,
         0.11708499009270908,
         0.11885177363712134,
         0.11941557541117671,
         0.11491848124256547,
         0.11841868752368316,
         0.11917532241141167,
         0.12149382390699437,
         0.119209353249681,
         0.11556139343620572,
         0.12011675429513743,
         0.12458229438122956,
         0.11742002187396926,
         0.11890457499016449,
         0.1178471441445176,
         0.11465330778484666,
         0.1206028436603107,
         0.12142113417623111,
         0.11864412099815566,
         0.11861012916078857,
         0.12103414911038442,
         0.12275905212978284,
         0.11864045700716684,
         0.12023469042691208,
         0.12360174004494943,
         0.11870071413672485,
         0.11897240570451263,
         0.1217264837907246,
         0.11912928419904485,
         0.12469719224102674,
         0.11915445811710013
        ],
        [
         0.24712792815019688,
         0.24305233814041405,
         0.25088996277647274,
         0.25087791171801443,
         0.2493279598762884,
         0.24982281951416357,
         0.25131632119198055,
         0.2515061477053107,
         0.247191227369887,
         0.24902768993713692,
         0.2482680593818134,
         0.25178717093213515,
         0.24694669193716026,
         0.25044206013063003,
         0.2492470217722596,
         0.2505249202287957,
         0.2586168646995051,
         0.2507372484816348,
         0.25057083172906264,
         0.2457045519943623,
         0.24725432622739496,
         0.24703626194055758,
         0.24764326154528296,
         0.2532381465950725,
         0.25202573837675885,
         0.2532801118807173,
         0.2467166352469255,
         0.2498574364820824,
         0.25536191907218275,
         0.25643026684502174,
         0.25064381955228016,
         0.24934759211963883,
         0.24605755133590862,
         0.24979608175436072,
         0.25241240557721434,
         0.24762834774732007,
         0.2506374933519492,
         0.24822010605723835,
         0.2501169789911193,
         0.24741952700138675,
         0.2429548644953791,
         0.25242448541536633,
         0.2500611166561059,
         0.24558619696500839,
         0.2443168935932073,
         0.25416977394956586,
         0.2548224977308921,
         0.24201189538500473,
         0.25111123545131847,
         0.2474778955437097,
         0.24713390837332197,
         0.2519772316639622,
         0.24574502113768282,
         0.25217945411728293,
         0.25075655359336557,
         0.24821911282910436,
         0.2514362667742021,
         0.24861120518443047,
         0.25089653561293496,
         0.25106843120838496,
         0.2527245835894171,
         0.250724399845828,
         0.2490028985684701,
         0.250050583799534,
         0.2510603568242753,
         0.24977487206970359,
         0.25521456846492546,
         0.24600621720082036,
         0.2508821252404767,
         0.24789557213365448,
         0.2451778118699497,
         0.2509678603131689,
         0.2522895726393543,
         0.24366044258589253,
         0.24924243115546071,
         0.25076993136648457,
         0.25528295971818415,
         0.24958728701241462,
         0.2440433971328186,
         0.25032748265520616,
         0.25408624958100856,
         0.24857405081902648,
         0.25169166610302296,
         0.24897906233501785,
         0.24432172423557325,
         0.2492167917354142,
         0.2518102105743453,
         0.24826989489077939,
         0.2516472322281961,
         0.2527679343178284,
         0.25794200440320897,
         0.2511800418553107,
         0.25144812426365476,
         0.256207490321614,
         0.2507052251192577,
         0.24981907680265458,
         0.25175931481827124,
         0.24912422637948217,
         0.256368799701187,
         0.24741537856193735
        ],
        [
         25.20704867132008,
         24.791338490322232,
         25.59077620320022,
         25.58954699523747,
         25.431451907381415,
         25.481927590444684,
         25.634264761582017,
         25.65362706594169,
         25.213505191728473,
         25.400824373587966,
         25.323342056944966,
         25.682291435077786,
         25.188562577590346,
         25.545090133324265,
         25.42319622077048,
         25.55354186333716,
         26.378920199349523,
         25.575199345126748,
         25.55822483636439,
         25.061864303424954,
         25.219941275194287,
         25.197698717936873,
         25.25961267761886,
         25.830290952697396,
         25.706625314429402,
         25.834571411833167,
         25.1650967951864,
         25.485458521172404,
         26.04691574536264,
         26.15588721819222,
         25.565669594332576,
         25.43345439620316,
         25.09787023626268,
         25.479200338944793,
         25.74606536887586,
         25.258091470226645,
         25.565024321898818,
         25.31845081783831,
         25.51193185709417,
         25.23679175414145,
         24.781396178528666,
         25.747297512367368,
         25.5062338989228,
         25.049792090430856,
         24.920323146507144,
         25.925316942855716,
         25.991894768550992,
         24.685213329270482,
         25.613346016034484,
         25.24274534545839,
         25.20765865407884,
         25.701677629724145,
         25.06599215604365,
         25.72230431996286,
         25.57716846652329,
         25.318349508568645,
         25.646499210968614,
         25.358342928811908,
         25.591446632519364,
         25.608979983255267,
         25.777907526120543,
         25.57388878427446,
         25.39829565398395,
         25.505159547552466,
         25.608156396076083,
         25.477036951109767,
         26.0318859834224,
         25.092634154483676,
         25.589976774528623,
         25.285348357632756,
         25.008136810734868,
         25.59872175194323,
         25.73353640921414,
         24.85336514376104,
         25.422727977856994,
         25.578532999381423,
         26.038861891254783,
         25.45790327526629,
         24.892426507547498,
         25.533403230831027,
         25.916797457262874,
         25.354553183540702,
         25.67254994250834,
         25.39586435817182,
         24.92081587202847,
         25.420112757012248,
         25.684641478583217,
         25.323529278859496,
         25.668017687276006,
         25.782329300418496,
         26.310084449127316,
         25.62036426924169,
         25.647708674892783,
         26.133164012804627,
         25.571932962164283,
         25.48154583387077,
         25.679450111463666,
         25.410671090707183,
         26.14961756952107,
         25.23636861331761
        ],
        [
         3.444120206963337,
         3.401817261038694,
         3.5272746407700186,
         3.46246644891092,
         3.4305087167059827,
         3.5120278964441756,
         3.4751895974213185,
         3.4933917162458807,
         3.4470027898886495,
         3.4620582299727394,
         3.455504653253145,
         3.495737167706684,
         3.428953590609766,
         3.4627397695288527,
         3.480740619286439,
         3.486390850013596,
         3.577604030730798,
         3.4747706265972873,
         3.450859398725658,
         3.443753056443104,
         3.439969285256654,
         3.447789326932687,
         3.4605039252399346,
         3.4995744475161037,
         3.488590297291269,
         3.5586761845964823,
         3.4492850128587023,
         3.453511677905054,
         3.5460391865650345,
         3.5315716044107868,
         3.4948578747655605,
         3.48187899902122,
         3.4667189760977073,
         3.4681979106288723,
         3.5086166312340263,
         3.4695275059353077,
         3.4672200505447126,
         3.4931642654794994,
         3.4842379801851617,
         3.4678209307984367,
         3.375998494251797,
         3.473910871217541,
         3.447529362431114,
         3.4528198256473703,
         3.439451358920763,
         3.53365057865906,
         3.519425744129631,
         3.3887387243852394,
         3.4490043643520956,
         3.4561903216769116,
         3.4464427376339244,
         3.4923773452955085,
         3.4123260051608786,
         3.4774761740834546,
         3.4867976801423173,
         3.447177032421188,
         3.4998423987191085,
         3.463582174948978,
         3.4839002283711418,
         3.501170932741458,
         3.479572287138254,
         3.4547929667262287,
         3.5001803337679034,
         3.4398893085916242,
         3.50192413093362,
         3.4496102312567487,
         3.5137666162656576,
         3.4266222196357554,
         3.490991886905351,
         3.4180759345783476,
         3.455816689214913,
         3.4817927725507123,
         3.49004135963172,
         3.4236946544254905,
         3.47544329941026,
         3.4865287731444274,
         3.520279823893752,
         3.487026531511835,
         3.4332582382473036,
         3.500272694820221,
         3.564743192277027,
         3.4607574649410013,
         3.482566101166894,
         3.467046106232335,
         3.4197422993632656,
         3.5073480085887816,
         3.5192265749700704,
         3.47874982455075,
         3.478251453589926,
         3.5136139812533775,
         3.5385623234921053,
         3.4786961084192183,
         3.501990637272611,
         3.550686903204061,
         3.4795794058974896,
         3.483559297882022,
         3.523648868240692,
         3.4858552735738435,
         3.5663866319546353,
         3.486223562530695
        ]
       ],
       "encoder": "json",
       "name": "ABC_GAN_1 Metrics",
       "version": 1
      }
     },
     "metadata": {
      "scrapbook": {
       "data": true,
       "display": false,
       "name": "ABC_GAN_1 Metrics"
      }
     },
     "output_type": "display_data"
    },
    {
     "name": "stdout",
     "output_type": "stream",
     "text": [
      "MSE\n",
      "0.11857624468829105\n"
     ]
    }
   ],
   "source": [
    "ABC_GAN1_metrics=ABC_train_test2.test_generator(gen,test_data,prior_model,variance,0,\"1\",device)\n",
    "sb.glue(\"ABC_GAN_1 Metrics\",ABC_GAN1_metrics)\n",
    "\n",
    "print(\"MSE\")\n",
    "print(mean(ABC_GAN1_metrics[0]))"
   ]
  },
  {
   "cell_type": "code",
   "execution_count": 14,
   "id": "eb22ce5c",
   "metadata": {
    "execution": {
     "iopub.execute_input": "2022-03-11T10:00:15.862693Z",
     "iopub.status.busy": "2022-03-11T10:00:15.862328Z",
     "iopub.status.idle": "2022-03-11T10:00:16.180045Z",
     "shell.execute_reply": "2022-03-11T10:00:16.180296Z"
    },
    "papermill": {
     "duration": 0.332418,
     "end_time": "2022-03-11T10:00:16.180422",
     "exception": false,
     "start_time": "2022-03-11T10:00:15.848004",
     "status": "completed"
    },
    "tags": []
   },
   "outputs": [
    {
     "data": {
      "image/png": "[encoded data removed]",
      "text/plain": [
       "<Figure size 432x288 with 1 Axes>"
      ]
     },
     "metadata": {
      "needs_background": "light"
     },
     "output_type": "display_data"
    },
    {
     "data": {
      "image/png": "[encoded data removed]",
      "text/plain": [
       "<Figure size 432x288 with 1 Axes>"
      ]
     },
     "metadata": {
      "needs_background": "light"
     },
     "output_type": "display_data"
    },
    {
     "data": {
      "image/png": "[encoded data removed]",
      "text/plain": [
       "<Figure size 432x288 with 1 Axes>"
      ]
     },
     "metadata": {
      "needs_background": "light"
     },
     "output_type": "display_data"
    },
    {
     "data": {
      "image/png": "[encoded data removed]",
      "text/plain": [
       "<Figure size 432x288 with 1 Axes>"
      ]
     },
     "metadata": {
      "needs_background": "light"
     },
     "output_type": "display_data"
    }
   ],
   "source": [
    "sanityChecks.discProbVsError(train_data,disc,device)\n",
    "sanityChecks.discProbVsError(test_data,disc,device)"
   ]
  },
  {
   "cell_type": "markdown",
   "id": "130f3a4d",
   "metadata": {
    "id": "130f3a4d",
    "papermill": {
     "duration": 0.014314,
     "end_time": "2022-03-11T10:00:16.209957",
     "exception": false,
     "start_time": "2022-03-11T10:00:16.195643",
     "status": "completed"
    },
    "tags": []
   },
   "source": [
    "# ABC - GAN Model with skip connection"
   ]
  },
  {
   "cell_type": "code",
   "execution_count": 15,
   "id": "4e43dad1",
   "metadata": {
    "execution": {
     "iopub.execute_input": "2022-03-11T10:00:16.242013Z",
     "iopub.status.busy": "2022-03-11T10:00:16.241637Z",
     "iopub.status.idle": "2022-03-11T10:00:16.243947Z",
     "shell.execute_reply": "2022-03-11T10:00:16.244239Z"
    },
    "id": "4e43dad1",
    "papermill": {
     "duration": 0.019985,
     "end_time": "2022-03-11T10:00:16.244349",
     "exception": false,
     "start_time": "2022-03-11T10:00:16.224364",
     "status": "completed"
    },
    "tags": []
   },
   "outputs": [],
   "source": [
    "#Generator\n",
    "gen3 = network.GeneratorWithSkipConnection(n_features+1).to(device)\n",
    "constraints=network.weightConstraint()\n",
    "#Discriminator \n",
    "disc3 = network.Discriminator(n_features+1).to(device)\n",
    "\n",
    "criterion = torch.nn.BCELoss()\n",
    "gen_opt = torch.optim.Adam(gen3.parameters(), lr=0.001, betas=(0.5, 0.999))\n",
    "disc_opt = torch.optim.Adam(disc3.parameters(), lr=0.001, betas=(0.5, 0.999))\n"
   ]
  },
  {
   "cell_type": "code",
   "execution_count": 16,
   "id": "26acbc37",
   "metadata": {
    "execution": {
     "iopub.execute_input": "2022-03-11T10:00:16.275818Z",
     "iopub.status.busy": "2022-03-11T10:00:16.275457Z",
     "iopub.status.idle": "2022-03-11T10:02:44.794697Z",
     "shell.execute_reply": "2022-03-11T10:02:44.795029Z"
    },
    "id": "26acbc37",
    "papermill": {
     "duration": 148.536322,
     "end_time": "2022-03-11T10:02:44.795153",
     "exception": false,
     "start_time": "2022-03-11T10:00:16.258831",
     "status": "completed"
    },
    "tags": []
   },
   "outputs": [
    {
     "data": {
      "image/png": "[encoded data removed]",
      "text/plain": [
       "<Figure size 432x288 with 1 Axes>"
      ]
     },
     "metadata": {
      "needs_background": "light"
     },
     "output_type": "display_data"
    },
    {
     "data": {
      "image/png": "[encoded data removed]",
      "text/plain": [
       "<Figure size 432x288 with 1 Axes>"
      ]
     },
     "metadata": {
      "needs_background": "light"
     },
     "output_type": "display_data"
    }
   ],
   "source": [
    "ABC_train_test2.training_GAN_skip_connection(disc3,gen3,disc_opt,gen_opt,train_data,batch_size,n_epochs,criterion,prior_model,variance,0,device)"
   ]
  },
  {
   "cell_type": "code",
   "execution_count": 17,
   "id": "c5e0717b",
   "metadata": {
    "execution": {
     "iopub.execute_input": "2022-03-11T10:02:44.829576Z",
     "iopub.status.busy": "2022-03-11T10:02:44.829207Z",
     "iopub.status.idle": "2022-03-11T10:02:45.640335Z",
     "shell.execute_reply": "2022-03-11T10:02:45.640646Z"
    },
    "id": "c5e0717b",
    "papermill": {
     "duration": 0.829775,
     "end_time": "2022-03-11T10:02:45.640768",
     "exception": false,
     "start_time": "2022-03-11T10:02:44.810993",
     "status": "completed"
    },
    "tags": []
   },
   "outputs": [
    {
     "data": {
      "application/scrapbook.scrap.json+json": {
       "data": 0.1308808244041294,
       "encoder": "json",
       "name": "ABC-GAN Model 3 MSE",
       "version": 1
      }
     },
     "metadata": {
      "scrapbook": {
       "data": true,
       "display": false,
       "name": "ABC-GAN Model 3 MSE"
      }
     },
     "output_type": "display_data"
    },
    {
     "data": {
      "application/scrapbook.scrap.json+json": {
       "data": 0.2526867786312348,
       "encoder": "json",
       "name": "ABC-GAN Model 3 MAE",
       "version": 1
      }
     },
     "metadata": {
      "scrapbook": {
       "data": true,
       "display": false,
       "name": "ABC-GAN Model 3 MAE"
      }
     },
     "output_type": "display_data"
    },
    {
     "data": {
      "application/scrapbook.scrap.json+json": {
       "data": 25.77405142038595,
       "encoder": "json",
       "name": "ABC-GAN Model 3 Manhattan Distance",
       "version": 1
      }
     },
     "metadata": {
      "scrapbook": {
       "data": true,
       "display": false,
       "name": "ABC-GAN Model 3 Manhattan Distance"
      }
     },
     "output_type": "display_data"
    },
    {
     "data": {
      "application/scrapbook.scrap.json+json": {
       "data": 3.6519524950155398,
       "encoder": "json",
       "name": "ABC-GAN Model 3 Euclidean distance",
       "version": 1
      }
     },
     "metadata": {
      "scrapbook": {
       "data": true,
       "display": false,
       "name": "ABC-GAN Model 3 Euclidean distance"
      }
     },
     "output_type": "display_data"
    },
    {
     "data": {
      "application/scrapbook.scrap.json+json": {
       "data": [
        [
         0.13482644225033222,
         0.14092422966541332,
         0.14990407616900597,
         0.1288317584321508,
         0.122643187297612,
         0.1238718713613494,
         0.1312513552592448,
         0.13291450160969487,
         0.1275403026148206,
         0.12655083131869166,
         0.13208985708349277,
         0.13695145407880024,
         0.1292592487184807,
         0.1331221209772072,
         0.1134728948119692,
         0.13995248255685333,
         0.13846366330823684,
         0.12373527021557497,
         0.1359300508304636,
         0.14213956364428407,
         0.12660943730861904,
         0.12464440518479321,
         0.12375818448282996,
         0.1403195389973629,
         0.1460845467580892,
         0.13189795061501078,
         0.12454211789120591,
         0.1571904951923866,
         0.1314074169874382,
         0.12460548227266172,
         0.1263048633226788,
         0.133454947762163,
         0.12543476684488866,
         0.1326589123916386,
         0.1521540627950389,
         0.12985694338759204,
         0.13072267345910318,
         0.14033565329536382,
         0.1289375788013067,
         0.11918580782350868,
         0.12545200285961813,
         0.13520580710702948,
         0.13848871742010851,
         0.1294648886428476,
         0.130248643202404,
         0.13447327150990834,
         0.12897332746582252,
         0.128266948285918,
         0.11773750418525966,
         0.12595391808038556,
         0.12005256089034072,
         0.12933811595807976,
         0.1371684734833259,
         0.14411790427443993,
         0.13345001016877792,
         0.13191383420215552,
         0.13397426635067794,
         0.11906024471874684,
         0.12221488685824604,
         0.12922460211646714,
         0.14206560979249602,
         0.13815929206107064,
         0.14331988374267907,
         0.12557873192293087,
         0.12880129504728197,
         0.13144681722427104,
         0.14547090168783253,
         0.11453372864700294,
         0.13498673385782742,
         0.1335260031070603,
         0.13795495246952286,
         0.12278419704951038,
         0.1254955968433701,
         0.1393908692877071,
         0.13876907218365403,
         0.11769013018326674,
         0.1251569984949681,
         0.13136425009644045,
         0.12582337375254918,
         0.11947597283973968,
         0.13890807993833557,
         0.13052575876052347,
         0.12845378721758005,
         0.1379807954388736,
         0.1341459037428687,
         0.12865145149347168,
         0.12391532148920648,
         0.13004473019360435,
         0.12150964898265118,
         0.1362061300674406,
         0.12742084718864344,
         0.12591803845915117,
         0.12086659130899491,
         0.12585905459544838,
         0.11591092996609079,
         0.11838861684601273,
         0.12537746949931916,
         0.1333179835448736,
         0.12777784988502502,
         0.14584816594572694
        ],
        [
         0.2628740074259101,
         0.2646174309775233,
         0.26558668058657764,
         0.2534106688062642,
         0.2455630324525284,
         0.24579726658104098,
         0.2519837478723596,
         0.2476149566435054,
         0.2509949921867719,
         0.24213357578378683,
         0.2549006728199767,
         0.2595615533600543,
         0.25640171333490047,
         0.24956968735319143,
         0.23539306031649604,
         0.2696817946602024,
         0.25710704037006576,
         0.2501433468149865,
         0.25828132546488564,
         0.2763560203031874,
         0.24916827651288578,
         0.24603107642820654,
         0.24679695703454463,
         0.25151834478053975,
         0.26376920136823956,
         0.2604776459983459,
         0.24416993983893417,
         0.27252791918741137,
         0.25898747874752565,
         0.23438757692701093,
         0.25384307110353427,
         0.262359098385216,
         0.24892924331110336,
         0.2599617087410069,
         0.2730889306677615,
         0.24960300361043683,
         0.264938307140826,
         0.2612933479066865,
         0.2504867813276017,
         0.24273309701432785,
         0.24457772227698096,
         0.25713561049790357,
         0.2670759972659688,
         0.25142391984734463,
         0.2529502800830147,
         0.26132475347349454,
         0.24989907494654842,
         0.250135621001177,
         0.23558442917305464,
         0.2505399129883039,
         0.2491848292194453,
         0.2561640705657648,
         0.25399293226427305,
         0.2529559477835017,
         0.2553274100281152,
         0.25122484278079926,
         0.25900500254961206,
         0.2405491842906557,
         0.24516783353379545,
         0.2482426741215236,
         0.26566968432755445,
         0.25847106476259585,
         0.25601417248082514,
         0.2430298029463373,
         0.25259943399578333,
         0.2535057592516144,
         0.25453561557201193,
         0.232949566223896,
         0.25954264619698125,
         0.25367284118763955,
         0.2665923651782613,
         0.2500517924736236,
         0.24343211198335185,
         0.2643566603279289,
         0.2519214673004314,
         0.24401437471091164,
         0.2444999702092187,
         0.2561249480783647,
         0.25448462898459506,
         0.24698882902442826,
         0.24962343178762525,
         0.25881601868233844,
         0.24808921633909145,
         0.2581136073944542,
         0.2593624946643032,
         0.23828149059166512,
         0.24636702833003274,
         0.2533750278948277,
         0.2515884036490438,
         0.25882406012319464,
         0.24611898312600805,
         0.23663917298921766,
         0.24178482971939386,
         0.2542388495514352,
         0.23304124594684325,
         0.22825586078140667,
         0.25389961593364385,
         0.26054096088616874,
         0.2545462486051096,
         0.2592079520736839
        ],
        [
         26.813148757442832,
         26.99097795970738,
         27.08984141983092,
         25.84788821823895,
         25.047429310157895,
         25.07132119126618,
         25.70234228298068,
         25.256725577637553,
         25.601489203050733,
         24.697624729946256,
         25.999868627637625,
         26.47527844272554,
         26.15297476015985,
         25.456108110025525,
         24.010092152282596,
         27.507543055340648,
         26.22491811774671,
         25.514621375128627,
         26.344695197418332,
         28.188314070925117,
         25.41516420431435,
         25.095169795677066,
         25.17328961752355,
         25.654871167615056,
         26.904458539560437,
         26.56871989183128,
         24.905333863571286,
         27.79784775711596,
         26.416722832247615,
         23.907532846555114,
         25.891993252560496,
         26.76062803529203,
         25.390782817732543,
         26.516094291582704,
         27.855070928111672,
         25.459506368264556,
         27.023707328364253,
         26.651921486482024,
         25.549651695415378,
         24.75877589546144,
         24.94692767225206,
         26.227832270786166,
         27.24175172112882,
         25.645239824429154,
         25.800928568467498,
         26.655124854296446,
         25.48970564454794,
         25.51383334212005,
         24.029611775651574,
         25.555071124807,
         25.41685258038342,
         26.12873519770801,
         25.907279090955853,
         25.801506673917174,
         26.04339582286775,
         25.624933963641524,
         26.41851026006043,
         24.53601679764688,
         25.007119020447135,
         25.320752760395408,
         27.098307801410556,
         26.364048605784774,
         26.113445593044162,
         24.789039900526404,
         25.7651422675699,
         25.85758744366467,
         25.962632788345218,
         23.760855754837394,
         26.47334991209209,
         25.874629801139235,
         27.192421248182654,
         25.505282832309604,
         24.83007542230189,
         26.96437935344875,
         25.695989664644003,
         24.889466220512986,
         24.938996961340308,
         26.1247447039932,
         25.957432156428695,
         25.19286056049168,
         25.461590042337775,
         26.39923390559852,
         25.30510006658733,
         26.327587954234332,
         26.45497445575893,
         24.30471204034984,
         25.12943688966334,
         25.844252845272422,
         25.662017172202468,
         26.400054132565856,
         25.10413627885282,
         24.137195644900203,
         24.662052631378174,
         25.93236265424639,
         23.77020708657801,
         23.28209779970348,
         25.89776082523167,
         26.57517801038921,
         25.96371735772118,
         26.43921111151576
        ],
        [
         3.7084089727986966,
         3.791341639297645,
         3.91027054936594,
         3.6250295667869223,
         3.5368920119727183,
         3.5545647945786043,
         3.6589121657185166,
         3.682021070579156,
         3.6068145040619575,
         3.592796236151801,
         3.670581074232834,
         3.7375190054416607,
         3.631038882921117,
         3.6848957026861875,
         3.4020927781030386,
         3.7782473742198297,
         3.7580970792995965,
         3.5526043351305874,
         3.723555449393401,
         3.807654854594487,
         3.593628056084705,
         3.565631687211805,
         3.552933269461819,
         3.783198775868249,
         3.8601326103289635,
         3.667913707099868,
         3.564168349685941,
         4.004176633169849,
         3.661086796665533,
         3.5650749209254338,
         3.589303004611513,
         3.689499244035784,
         3.5769185366986807,
         3.6784791781315196,
         3.939506873340109,
         3.6394241612560605,
         3.6515356622698514,
         3.783416000934488,
         3.626518032180907,
         3.4866821475434047,
         3.5771642807789874,
         3.713622533984439,
         3.7584370657031183,
         3.6339260644061615,
         3.64490899840383,
         3.7035487973038315,
         3.627020733537912,
         3.617074608736131,
         3.4654329349875574,
         3.584312994731253,
         3.4993372530830396,
         3.632146449101982,
         3.740479153169984,
         3.834061323973949,
         3.6894309909815823,
         3.6681345515970176,
         3.6966708222086995,
         3.484845041219505,
         3.530710758408439,
         3.630552219136869,
         3.806664182566488,
         3.7539642766319985,
         3.8234314616262255,
         3.578970614036799,
         3.6246009566327104,
         3.6616356122470246,
         3.852016611095922,
         3.4179585020878034,
         3.7106127328917515,
         3.6904813123656575,
         3.7511871656705336,
         3.538924709435064,
         3.5777857507156217,
         3.7706589168666698,
         3.762239407950099,
         3.464735672268983,
         3.5729558976408797,
         3.6604854199732744,
         3.582455041275468,
         3.490923836128975,
         3.7641232915129423,
         3.648784372030415,
         3.619708040186828,
         3.751538502370075,
         3.699038007613953,
         3.622491967186967,
         3.5551881514062034,
         3.642054705759875,
         3.5205090819695974,
         3.7273348745288413,
         3.605125020473163,
         3.583802439146641,
         3.5111810425435888,
         3.582962959442329,
         3.4384465760778165,
         3.4750020026315513,
         3.5761014930969948,
         3.6876054997216157,
         3.610171836391247,
         3.857008287061896
        ]
       ],
       "encoder": "json",
       "name": "ABC_GAN_3 Metrics",
       "version": 1
      }
     },
     "metadata": {
      "scrapbook": {
       "data": true,
       "display": false,
       "name": "ABC_GAN_3 Metrics"
      }
     },
     "output_type": "display_data"
    },
    {
     "name": "stdout",
     "output_type": "stream",
     "text": [
      "MSE\n",
      "0.1308808244041294\n"
     ]
    }
   ],
   "source": [
    "ABC_GAN3_metrics=ABC_train_test2.test_generator(gen3,test_data,prior_model,variance,0,\"3\",device)\n",
    "sb.glue(\"ABC_GAN_3 Metrics\",ABC_GAN3_metrics)\n",
    "\n",
    "print(\"MSE\")\n",
    "print(mean(ABC_GAN3_metrics[0]))"
   ]
  },
  {
   "cell_type": "code",
   "execution_count": 18,
   "id": "c8e46b48",
   "metadata": {
    "execution": {
     "iopub.execute_input": "2022-03-11T10:02:45.677708Z",
     "iopub.status.busy": "2022-03-11T10:02:45.677335Z",
     "iopub.status.idle": "2022-03-11T10:02:46.014584Z",
     "shell.execute_reply": "2022-03-11T10:02:46.014882Z"
    },
    "id": "c8e46b48",
    "papermill": {
     "duration": 0.35671,
     "end_time": "2022-03-11T10:02:46.014999",
     "exception": false,
     "start_time": "2022-03-11T10:02:45.658289",
     "status": "completed"
    },
    "tags": []
   },
   "outputs": [
    {
     "data": {
      "image/png": "[encoded data removed]",
      "text/plain": [
       "<Figure size 432x288 with 1 Axes>"
      ]
     },
     "metadata": {
      "needs_background": "light"
     },
     "output_type": "display_data"
    },
    {
     "data": {
      "image/png": "[encoded data removed]",
      "text/plain": [
       "<Figure size 432x288 with 1 Axes>"
      ]
     },
     "metadata": {
      "needs_background": "light"
     },
     "output_type": "display_data"
    },
    {
     "data": {
      "image/png": "[encoded data removed]",
      "text/plain": [
       "<Figure size 432x288 with 1 Axes>"
      ]
     },
     "metadata": {
      "needs_background": "light"
     },
     "output_type": "display_data"
    },
    {
     "data": {
      "image/png": "[encoded data removed]",
      "text/plain": [
       "<Figure size 432x288 with 1 Axes>"
      ]
     },
     "metadata": {
      "needs_background": "light"
     },
     "output_type": "display_data"
    }
   ],
   "source": [
    "sanityChecks.discProbVsError(train_data,disc3,device)\n",
    "sanityChecks.discProbVsError(test_data,disc3,device)"
   ]
  },
  {
   "cell_type": "markdown",
   "id": "a5bd74c3",
   "metadata": {
    "id": "a5bd74c3",
    "papermill": {
     "duration": 0.01924,
     "end_time": "2022-03-11T10:02:46.053860",
     "exception": false,
     "start_time": "2022-03-11T10:02:46.034620",
     "status": "completed"
    },
    "tags": []
   },
   "source": [
    "## Skip Connection Model Analysis - ABC-GAN "
   ]
  },
  {
   "cell_type": "markdown",
   "id": "5744a8bf",
   "metadata": {
    "id": "5744a8bf",
    "papermill": {
     "duration": 0.019031,
     "end_time": "2022-03-11T10:02:46.091986",
     "exception": false,
     "start_time": "2022-03-11T10:02:46.072955",
     "status": "completed"
    },
    "tags": []
   },
   "source": [
    "### Weight Analysis \n",
    "\n",
    "Study the weights of the skip connection layer\n",
    "\n",
    "Equation of the skip connection is \n",
    "\n",
    "$output = y_{gan} * w + y_{abc} * (1-w)$"
   ]
  },
  {
   "cell_type": "code",
   "execution_count": 19,
   "id": "52c31dea",
   "metadata": {
    "execution": {
     "iopub.execute_input": "2022-03-11T10:02:46.132930Z",
     "iopub.status.busy": "2022-03-11T10:02:46.132543Z",
     "iopub.status.idle": "2022-03-11T10:02:46.135984Z",
     "shell.execute_reply": "2022-03-11T10:02:46.136237Z"
    },
    "id": "52c31dea",
    "papermill": {
     "duration": 0.025374,
     "end_time": "2022-03-11T10:02:46.136349",
     "exception": false,
     "start_time": "2022-03-11T10:02:46.110975",
     "status": "completed"
    },
    "tags": []
   },
   "outputs": [
    {
     "name": "stdout",
     "output_type": "stream",
     "text": [
      "Weight of the node at skip connection\n",
      "Parameter containing:\n",
      "tensor([[0.1965]], requires_grad=True)\n"
     ]
    },
    {
     "data": {
      "application/scrapbook.scrap.json+json": {
       "data": 0.19647076725959778,
       "encoder": "json",
       "name": "Skip Connection Weight",
       "version": 1
      }
     },
     "metadata": {
      "scrapbook": {
       "data": true,
       "display": false,
       "name": "Skip Connection Weight"
      }
     },
     "output_type": "display_data"
    }
   ],
   "source": [
    "print(\"Weight of the node at skip connection\")\n",
    "for name,param in gen3.named_parameters():\n",
    "    if(name == \"skipNode.weight\"):\n",
    "        print(param)\n",
    "        sb.glue(\"Skip Connection Weight\",param.item())"
   ]
  }
 ],
 "metadata": {
  "colab": {
   "collapsed_sections": [],
   "name": "ABC_GAN_Model-Catboost_Pre-gen.ipynb",
   "provenance": []
  },
  "interpreter": {
   "hash": "31f2aee4e71d21fbe5cf8b01ff0e069b9275f58929596ceb00d14d90e3e16cd6"
  },
  "kernelspec": {
   "display_name": "Python 3 (ipykernel)",
   "language": "python",
   "name": "python3"
  },
  "language_info": {
   "codemirror_mode": {
    "name": "ipython",
    "version": 3
   },
   "file_extension": ".py",
   "mimetype": "text/x-python",
   "name": "python",
   "nbconvert_exporter": "python",
   "pygments_lexer": "ipython3",
   "version": "3.8.11"
  },
  "papermill": {
   "default_parameters": {},
   "duration": 190.971538,
   "end_time": "2022-03-11T10:02:46.463437",
   "environment_variables": {},
   "exception": null,
   "input_path": "ABC_GAN-Catboost.ipynb",
   "output_path": "./ABC_GAN_Catboost/ABC-GAN_output_4_0.ipynb",
   "parameters": {
    "variance": 1
   },
   "start_time": "2022-03-11T09:59:35.491899",
   "version": "2.3.3"
  }
 },
 "nbformat": 4,
 "nbformat_minor": 5
}