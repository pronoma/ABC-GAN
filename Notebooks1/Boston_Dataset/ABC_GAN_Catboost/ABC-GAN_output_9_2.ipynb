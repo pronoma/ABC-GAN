{
 "cells": [
  {
   "cell_type": "markdown",
   "id": "622780e6",
   "metadata": {
    "id": "622780e6",
    "papermill": {
     "duration": 0.031418,
     "end_time": "2022-03-11T10:54:04.290033",
     "exception": false,
     "start_time": "2022-03-11T10:54:04.258615",
     "status": "completed"
    },
    "tags": []
   },
   "source": [
    "## Import Libraries "
   ]
  },
  {
   "cell_type": "code",
   "execution_count": 1,
   "id": "a62397e3",
   "metadata": {
    "execution": {
     "iopub.execute_input": "2022-03-11T10:54:04.324427Z",
     "iopub.status.busy": "2022-03-11T10:54:04.323921Z",
     "iopub.status.idle": "2022-03-11T10:54:04.326451Z",
     "shell.execute_reply": "2022-03-11T10:54:04.326791Z"
    },
    "id": "a62397e3",
    "papermill": {
     "duration": 0.02144,
     "end_time": "2022-03-11T10:54:04.326998",
     "exception": false,
     "start_time": "2022-03-11T10:54:04.305558",
     "status": "completed"
    },
    "tags": []
   },
   "outputs": [],
   "source": [
    "import warnings\n",
    "import sys\n",
    "sys.path.insert(0, '../../src')\n",
    "warnings.filterwarnings('ignore')"
   ]
  },
  {
   "cell_type": "code",
   "execution_count": 2,
   "id": "d6a4e155",
   "metadata": {
    "execution": {
     "iopub.execute_input": "2022-03-11T10:54:04.346989Z",
     "iopub.status.busy": "2022-03-11T10:54:04.346579Z",
     "iopub.status.idle": "2022-03-11T10:54:06.114306Z",
     "shell.execute_reply": "2022-03-11T10:54:06.114026Z"
    },
    "id": "d6a4e155",
    "papermill": {
     "duration": 1.778137,
     "end_time": "2022-03-11T10:54:06.114414",
     "exception": false,
     "start_time": "2022-03-11T10:54:04.336277",
     "status": "completed"
    },
    "tags": []
   },
   "outputs": [],
   "source": [
    "import ABC_train_test2\n",
    "import bostonDataset\n",
    "import network\n",
    "import dataset\n",
    "import sanityChecks\n",
    "import torch \n",
    "import scrapbook as sb\n",
    "from statistics import mean \n",
    "import catboost as ctb \n",
    "from sklearn.model_selection import train_test_split\n",
    "from sklearn.metrics import mean_squared_error,mean_absolute_error\n",
    "import numpy as np"
   ]
  },
  {
   "cell_type": "markdown",
   "id": "2fa5b0f7",
   "metadata": {
    "id": "2fa5b0f7",
    "papermill": {
     "duration": 0.006731,
     "end_time": "2022-03-11T10:54:06.128244",
     "exception": false,
     "start_time": "2022-03-11T10:54:06.121513",
     "status": "completed"
    },
    "tags": []
   },
   "source": [
    "## Parameters "
   ]
  },
  {
   "cell_type": "code",
   "execution_count": 3,
   "id": "783186fb",
   "metadata": {
    "execution": {
     "iopub.execute_input": "2022-03-11T10:54:06.143802Z",
     "iopub.status.busy": "2022-03-11T10:54:06.143424Z",
     "iopub.status.idle": "2022-03-11T10:54:06.144738Z",
     "shell.execute_reply": "2022-03-11T10:54:06.144971Z"
    },
    "id": "783186fb",
    "papermill": {
     "duration": 0.010183,
     "end_time": "2022-03-11T10:54:06.145079",
     "exception": false,
     "start_time": "2022-03-11T10:54:06.134896",
     "status": "completed"
    },
    "tags": [
     "parameters"
    ]
   },
   "outputs": [],
   "source": [
    "variance = 1"
   ]
  },
  {
   "cell_type": "code",
   "execution_count": 4,
   "id": "6ff8a5ad",
   "metadata": {
    "execution": {
     "iopub.execute_input": "2022-03-11T10:54:06.160595Z",
     "iopub.status.busy": "2022-03-11T10:54:06.160228Z",
     "iopub.status.idle": "2022-03-11T10:54:06.161578Z",
     "shell.execute_reply": "2022-03-11T10:54:06.161836Z"
    },
    "papermill": {
     "duration": 0.009959,
     "end_time": "2022-03-11T10:54:06.161944",
     "exception": false,
     "start_time": "2022-03-11T10:54:06.151985",
     "status": "completed"
    },
    "tags": [
     "injected-parameters"
    ]
   },
   "outputs": [],
   "source": [
    "# Parameters\n",
    "variance = 0.01\n"
   ]
  },
  {
   "cell_type": "markdown",
   "id": "391cdbfd",
   "metadata": {
    "id": "391cdbfd",
    "papermill": {
     "duration": 0.006736,
     "end_time": "2022-03-11T10:54:06.175531",
     "exception": false,
     "start_time": "2022-03-11T10:54:06.168795",
     "status": "completed"
    },
    "tags": []
   },
   "source": [
    "## Dataset \n"
   ]
  },
  {
   "cell_type": "code",
   "execution_count": 5,
   "id": "5b51f161",
   "metadata": {
    "execution": {
     "iopub.execute_input": "2022-03-11T10:54:06.191087Z",
     "iopub.status.busy": "2022-03-11T10:54:06.190719Z",
     "iopub.status.idle": "2022-03-11T10:54:06.192067Z",
     "shell.execute_reply": "2022-03-11T10:54:06.192307Z"
    },
    "id": "5b51f161",
    "papermill": {
     "duration": 0.010115,
     "end_time": "2022-03-11T10:54:06.192412",
     "exception": false,
     "start_time": "2022-03-11T10:54:06.182297",
     "status": "completed"
    },
    "tags": []
   },
   "outputs": [],
   "source": [
    "#Parameters \n",
    "n_features = 13\n",
    "n_samples= 506\n",
    "n_target = 1 "
   ]
  },
  {
   "cell_type": "code",
   "execution_count": 6,
   "id": "5d6eced4",
   "metadata": {
    "execution": {
     "iopub.execute_input": "2022-03-11T10:54:06.209155Z",
     "iopub.status.busy": "2022-03-11T10:54:06.208774Z",
     "iopub.status.idle": "2022-03-11T10:54:06.220425Z",
     "shell.execute_reply": "2022-03-11T10:54:06.220677Z"
    },
    "id": "5d6eced4",
    "papermill": {
     "duration": 0.021146,
     "end_time": "2022-03-11T10:54:06.220800",
     "exception": false,
     "start_time": "2022-03-11T10:54:06.199654",
     "status": "completed"
    },
    "tags": []
   },
   "outputs": [
    {
     "name": "stdout",
     "output_type": "stream",
     "text": [
      "         X1        X2        X3        X4        X5        X6        X7  \\\n",
      "0 -0.419782  0.284830 -1.287909 -0.272599 -0.144217  0.413672 -0.120013   \n",
      "1 -0.417339 -0.487722 -0.593381 -0.272599 -0.740262  0.194274  0.367166   \n",
      "2 -0.417342 -0.487722 -0.593381 -0.272599 -0.740262  1.282714 -0.265812   \n",
      "3 -0.416750 -0.487722 -1.306878 -0.272599 -0.835284  1.016303 -0.809889   \n",
      "4 -0.412482 -0.487722 -1.306878 -0.272599 -0.835284  1.228577 -0.511180   \n",
      "\n",
      "         X8        X9       X10       X11       X12       X13         Y  \n",
      "0  0.140214 -0.982843 -0.666608 -1.459000  0.441052 -1.075562  0.159686  \n",
      "1  0.557160 -0.867883 -0.987329 -0.303094  0.441052 -0.492439 -0.101524  \n",
      "2  0.557160 -0.867883 -0.987329 -0.303094  0.396427 -1.208727  1.324247  \n",
      "3  1.077737 -0.752922 -1.106115  0.113032  0.416163 -1.361517  1.182758  \n",
      "4  1.077737 -0.752922 -1.106115  0.113032  0.441052 -1.026501  1.487503  \n"
     ]
    }
   ],
   "source": [
    "X,Y = bostonDataset.boston_data()"
   ]
  },
  {
   "cell_type": "code",
   "execution_count": 7,
   "id": "fe007438",
   "metadata": {
    "execution": {
     "iopub.execute_input": "2022-03-11T10:54:06.239094Z",
     "iopub.status.busy": "2022-03-11T10:54:06.238702Z",
     "iopub.status.idle": "2022-03-11T10:54:06.240303Z",
     "shell.execute_reply": "2022-03-11T10:54:06.240553Z"
    },
    "id": "fe007438",
    "papermill": {
     "duration": 0.012255,
     "end_time": "2022-03-11T10:54:06.240671",
     "exception": false,
     "start_time": "2022-03-11T10:54:06.228416",
     "status": "completed"
    },
    "tags": []
   },
   "outputs": [],
   "source": [
    "#Train test split for dataset \n",
    "X_train,X_test,Y_train,Y_test = train_test_split(X,Y,test_size = 0.2)\n",
    "train_data = dataset.CustomDataset(X_train,Y_train)\n",
    "test_data = dataset.CustomDataset(X_test,Y_test)\n"
   ]
  },
  {
   "cell_type": "markdown",
   "id": "a9a1af34",
   "metadata": {
    "id": "a9a1af34",
    "papermill": {
     "duration": 0.007074,
     "end_time": "2022-03-11T10:54:06.255061",
     "exception": false,
     "start_time": "2022-03-11T10:54:06.247987",
     "status": "completed"
    },
    "tags": []
   },
   "source": [
    "## Training Parameters "
   ]
  },
  {
   "cell_type": "code",
   "execution_count": 8,
   "id": "952b7fc8",
   "metadata": {
    "execution": {
     "iopub.execute_input": "2022-03-11T10:54:06.271605Z",
     "iopub.status.busy": "2022-03-11T10:54:06.271247Z",
     "iopub.status.idle": "2022-03-11T10:54:06.272618Z",
     "shell.execute_reply": "2022-03-11T10:54:06.272877Z"
    },
    "id": "952b7fc8",
    "papermill": {
     "duration": 0.010858,
     "end_time": "2022-03-11T10:54:06.272985",
     "exception": false,
     "start_time": "2022-03-11T10:54:06.262127",
     "status": "completed"
    },
    "tags": []
   },
   "outputs": [],
   "source": [
    "batch_size = 64\n",
    "n_epochs = 1000\n",
    "#Select the device \n",
    "device = torch.device('cuda' if torch.cuda.is_available() else 'cpu')"
   ]
  },
  {
   "cell_type": "markdown",
   "id": "a95e1600",
   "metadata": {
    "id": "a95e1600",
    "papermill": {
     "duration": 0.007003,
     "end_time": "2022-03-11T10:54:06.287114",
     "exception": false,
     "start_time": "2022-03-11T10:54:06.280111",
     "status": "completed"
    },
    "tags": []
   },
   "source": [
    "# ABC Pre-generator Model \n",
    "\n",
    "1. The catboost model is used as a pre-generator model for the ABC-GAN. \n",
    "2. The model is first trained on the entire dataset \n",
    "3. It generats X,Y pairs and we add some Gaussian noise with mean 0 and variance 1 to it which is then feed as input to the generator.\n"
   ]
  },
  {
   "cell_type": "code",
   "execution_count": 9,
   "id": "ff8ce7bd",
   "metadata": {
    "execution": {
     "iopub.execute_input": "2022-03-11T10:54:06.305925Z",
     "iopub.status.busy": "2022-03-11T10:54:06.305535Z",
     "iopub.status.idle": "2022-03-11T10:54:07.275950Z",
     "shell.execute_reply": "2022-03-11T10:54:07.276237Z"
    },
    "id": "ff8ce7bd",
    "papermill": {
     "duration": 0.982132,
     "end_time": "2022-03-11T10:54:07.276356",
     "exception": false,
     "start_time": "2022-03-11T10:54:06.294224",
     "status": "completed"
    },
    "tags": []
   },
   "outputs": [
    {
     "name": "stdout",
     "output_type": "stream",
     "text": [
      "Learning rate set to 0.033215\n",
      "0:\tlearn: 0.9626887\ttotal: 70.1ms\tremaining: 1m 10s\n",
      "1:\tlearn: 0.9433831\ttotal: 71.2ms\tremaining: 35.5s\n",
      "2:\tlearn: 0.9260059\ttotal: 72.5ms\tremaining: 24.1s\n",
      "3:\tlearn: 0.9101063\ttotal: 73.6ms\tremaining: 18.3s\n",
      "4:\tlearn: 0.8942901\ttotal: 74.6ms\tremaining: 14.8s\n",
      "5:\tlearn: 0.8784392\ttotal: 75.7ms\tremaining: 12.5s\n",
      "6:\tlearn: 0.8621483\ttotal: 76.6ms\tremaining: 10.9s\n",
      "7:\tlearn: 0.8467296\ttotal: 77.5ms\tremaining: 9.61s\n",
      "8:\tlearn: 0.8317685\ttotal: 78.3ms\tremaining: 8.62s\n",
      "9:\tlearn: 0.8164837\ttotal: 79.1ms\tremaining: 7.83s\n",
      "10:\tlearn: 0.8019997\ttotal: 80ms\tremaining: 7.19s\n",
      "11:\tlearn: 0.7888569\ttotal: 80.9ms\tremaining: 6.66s\n",
      "12:\tlearn: 0.7745721\ttotal: 81.7ms\tremaining: 6.21s\n",
      "13:\tlearn: 0.7603534\ttotal: 82.6ms\tremaining: 5.82s\n",
      "14:\tlearn: 0.7490916\ttotal: 83.4ms\tremaining: 5.47s\n",
      "15:\tlearn: 0.7364921\ttotal: 84.1ms\tremaining: 5.17s\n",
      "16:\tlearn: 0.7254065\ttotal: 84.9ms\tremaining: 4.91s\n",
      "17:\tlearn: 0.7134981\ttotal: 85.7ms\tremaining: 4.67s\n",
      "18:\tlearn: 0.7020234\ttotal: 86.4ms\tremaining: 4.46s\n",
      "19:\tlearn: 0.6915108\ttotal: 87.2ms\tremaining: 4.27s\n",
      "20:\tlearn: 0.6786610\ttotal: 88ms\tremaining: 4.1s\n",
      "21:\tlearn: 0.6688616\ttotal: 88.7ms\tremaining: 3.94s\n",
      "22:\tlearn: 0.6602272\ttotal: 89.5ms\tremaining: 3.8s\n",
      "23:\tlearn: 0.6515327\ttotal: 90.3ms\tremaining: 3.67s\n",
      "24:\tlearn: 0.6422792\ttotal: 91.1ms\tremaining: 3.55s\n",
      "25:\tlearn: 0.6347821\ttotal: 92ms\tremaining: 3.44s\n",
      "26:\tlearn: 0.6264183\ttotal: 92.8ms\tremaining: 3.34s\n",
      "27:\tlearn: 0.6182638\ttotal: 93.6ms\tremaining: 3.25s\n",
      "28:\tlearn: 0.6096904\ttotal: 94.4ms\tremaining: 3.16s\n",
      "29:\tlearn: 0.5999887\ttotal: 95.2ms\tremaining: 3.08s\n",
      "30:\tlearn: 0.5906608\ttotal: 96.1ms\tremaining: 3s\n",
      "31:\tlearn: 0.5827962\ttotal: 96.9ms\tremaining: 2.93s\n",
      "32:\tlearn: 0.5761848\ttotal: 97.6ms\tremaining: 2.86s\n",
      "33:\tlearn: 0.5693971\ttotal: 98.3ms\tremaining: 2.79s\n",
      "34:\tlearn: 0.5628879\ttotal: 99ms\tremaining: 2.73s\n",
      "35:\tlearn: 0.5552740\ttotal: 99.9ms\tremaining: 2.67s\n",
      "36:\tlearn: 0.5497231\ttotal: 101ms\tremaining: 2.62s\n",
      "37:\tlearn: 0.5442385\ttotal: 102ms\tremaining: 2.57s\n",
      "38:\tlearn: 0.5368747\ttotal: 102ms\tremaining: 2.52s\n",
      "39:\tlearn: 0.5292873\ttotal: 103ms\tremaining: 2.48s\n",
      "40:\tlearn: 0.5230493\ttotal: 104ms\tremaining: 2.43s\n",
      "41:\tlearn: 0.5155155\ttotal: 105ms\tremaining: 2.39s\n",
      "42:\tlearn: 0.5110038\ttotal: 106ms\tremaining: 2.35s\n",
      "43:\tlearn: 0.5058429\ttotal: 106ms\tremaining: 2.31s\n",
      "44:\tlearn: 0.5006983\ttotal: 107ms\tremaining: 2.27s\n"
     ]
    },
    {
     "name": "stdout",
     "output_type": "stream",
     "text": [
      "45:\tlearn: 0.4948639\ttotal: 109ms\tremaining: 2.26s\n",
      "46:\tlearn: 0.4906078\ttotal: 110ms\tremaining: 2.23s\n",
      "47:\tlearn: 0.4850673\ttotal: 111ms\tremaining: 2.2s\n",
      "48:\tlearn: 0.4800483\ttotal: 112ms\tremaining: 2.17s\n",
      "49:\tlearn: 0.4746227\ttotal: 113ms\tremaining: 2.14s\n",
      "50:\tlearn: 0.4698663\ttotal: 113ms\tremaining: 2.11s\n",
      "51:\tlearn: 0.4643385\ttotal: 114ms\tremaining: 2.08s\n",
      "52:\tlearn: 0.4594303\ttotal: 115ms\tremaining: 2.06s\n",
      "53:\tlearn: 0.4561446\ttotal: 116ms\tremaining: 2.03s\n",
      "54:\tlearn: 0.4507313\ttotal: 117ms\tremaining: 2s\n",
      "55:\tlearn: 0.4463569\ttotal: 117ms\tremaining: 1.98s\n",
      "56:\tlearn: 0.4424483\ttotal: 118ms\tremaining: 1.96s\n",
      "57:\tlearn: 0.4374640\ttotal: 119ms\tremaining: 1.93s\n",
      "58:\tlearn: 0.4343723\ttotal: 120ms\tremaining: 1.91s\n",
      "59:\tlearn: 0.4304817\ttotal: 121ms\tremaining: 1.89s\n",
      "60:\tlearn: 0.4256832\ttotal: 122ms\tremaining: 1.87s\n",
      "61:\tlearn: 0.4217451\ttotal: 122ms\tremaining: 1.85s\n",
      "62:\tlearn: 0.4180594\ttotal: 123ms\tremaining: 1.83s\n",
      "63:\tlearn: 0.4147948\ttotal: 124ms\tremaining: 1.81s\n",
      "64:\tlearn: 0.4110312\ttotal: 125ms\tremaining: 1.79s\n",
      "65:\tlearn: 0.4074436\ttotal: 126ms\tremaining: 1.78s\n",
      "66:\tlearn: 0.4032872\ttotal: 126ms\tremaining: 1.76s\n",
      "67:\tlearn: 0.3999021\ttotal: 127ms\tremaining: 1.75s\n",
      "68:\tlearn: 0.3963373\ttotal: 128ms\tremaining: 1.73s\n",
      "69:\tlearn: 0.3940388\ttotal: 129ms\tremaining: 1.71s\n",
      "70:\tlearn: 0.3911327\ttotal: 130ms\tremaining: 1.7s\n",
      "71:\tlearn: 0.3889357\ttotal: 130ms\tremaining: 1.68s\n",
      "72:\tlearn: 0.3861305\ttotal: 131ms\tremaining: 1.67s\n",
      "73:\tlearn: 0.3820850\ttotal: 132ms\tremaining: 1.65s\n",
      "74:\tlearn: 0.3793137\ttotal: 133ms\tremaining: 1.64s\n",
      "75:\tlearn: 0.3765592\ttotal: 134ms\tremaining: 1.63s\n",
      "76:\tlearn: 0.3741238\ttotal: 135ms\tremaining: 1.61s\n",
      "77:\tlearn: 0.3712538\ttotal: 135ms\tremaining: 1.6s\n",
      "78:\tlearn: 0.3688126\ttotal: 136ms\tremaining: 1.59s\n",
      "79:\tlearn: 0.3662544\ttotal: 137ms\tremaining: 1.57s\n",
      "80:\tlearn: 0.3638943\ttotal: 138ms\tremaining: 1.56s\n",
      "81:\tlearn: 0.3619416\ttotal: 139ms\tremaining: 1.55s\n",
      "82:\tlearn: 0.3595670\ttotal: 139ms\tremaining: 1.54s\n",
      "83:\tlearn: 0.3575234\ttotal: 140ms\tremaining: 1.53s\n",
      "84:\tlearn: 0.3547288\ttotal: 141ms\tremaining: 1.52s\n",
      "85:\tlearn: 0.3522725\ttotal: 142ms\tremaining: 1.51s\n",
      "86:\tlearn: 0.3497936\ttotal: 143ms\tremaining: 1.5s\n",
      "87:\tlearn: 0.3469674\ttotal: 143ms\tremaining: 1.48s\n",
      "88:\tlearn: 0.3441496\ttotal: 144ms\tremaining: 1.47s\n",
      "89:\tlearn: 0.3419655\ttotal: 145ms\tremaining: 1.46s\n",
      "90:\tlearn: 0.3395015\ttotal: 146ms\tremaining: 1.46s\n",
      "91:\tlearn: 0.3375493\ttotal: 147ms\tremaining: 1.45s\n",
      "92:\tlearn: 0.3361945\ttotal: 147ms\tremaining: 1.44s\n",
      "93:\tlearn: 0.3335019\ttotal: 148ms\tremaining: 1.43s\n",
      "94:\tlearn: 0.3310392\ttotal: 149ms\tremaining: 1.42s\n",
      "95:\tlearn: 0.3297699\ttotal: 150ms\tremaining: 1.41s\n",
      "96:\tlearn: 0.3283185\ttotal: 150ms\tremaining: 1.4s\n",
      "97:\tlearn: 0.3264654\ttotal: 151ms\tremaining: 1.39s\n",
      "98:\tlearn: 0.3247951\ttotal: 152ms\tremaining: 1.38s\n",
      "99:\tlearn: 0.3230765\ttotal: 153ms\tremaining: 1.37s\n",
      "100:\tlearn: 0.3214373\ttotal: 154ms\tremaining: 1.37s\n",
      "101:\tlearn: 0.3194130\ttotal: 155ms\tremaining: 1.36s\n",
      "102:\tlearn: 0.3179989\ttotal: 156ms\tremaining: 1.36s\n",
      "103:\tlearn: 0.3164397\ttotal: 157ms\tremaining: 1.35s\n",
      "104:\tlearn: 0.3148365\ttotal: 158ms\tremaining: 1.34s\n",
      "105:\tlearn: 0.3132513\ttotal: 158ms\tremaining: 1.33s\n",
      "106:\tlearn: 0.3116913\ttotal: 159ms\tremaining: 1.33s\n",
      "107:\tlearn: 0.3101411\ttotal: 160ms\tremaining: 1.32s\n",
      "108:\tlearn: 0.3082122\ttotal: 161ms\tremaining: 1.31s\n",
      "109:\tlearn: 0.3067055\ttotal: 162ms\tremaining: 1.31s\n",
      "110:\tlearn: 0.3057272\ttotal: 162ms\tremaining: 1.3s\n",
      "111:\tlearn: 0.3044216\ttotal: 163ms\tremaining: 1.29s\n",
      "112:\tlearn: 0.3028732\ttotal: 164ms\tremaining: 1.29s\n",
      "113:\tlearn: 0.3015175\ttotal: 165ms\tremaining: 1.28s\n",
      "114:\tlearn: 0.3001221\ttotal: 166ms\tremaining: 1.28s\n",
      "115:\tlearn: 0.2989568\ttotal: 167ms\tremaining: 1.27s\n",
      "116:\tlearn: 0.2972002\ttotal: 168ms\tremaining: 1.26s\n",
      "117:\tlearn: 0.2960103\ttotal: 168ms\tremaining: 1.26s\n",
      "118:\tlearn: 0.2949108\ttotal: 169ms\tremaining: 1.25s\n",
      "119:\tlearn: 0.2941526\ttotal: 170ms\tremaining: 1.25s\n",
      "120:\tlearn: 0.2928156\ttotal: 171ms\tremaining: 1.24s\n",
      "121:\tlearn: 0.2919517\ttotal: 172ms\tremaining: 1.24s\n",
      "122:\tlearn: 0.2907763\ttotal: 173ms\tremaining: 1.23s\n",
      "123:\tlearn: 0.2895858\ttotal: 173ms\tremaining: 1.23s\n",
      "124:\tlearn: 0.2883348\ttotal: 174ms\tremaining: 1.22s\n",
      "125:\tlearn: 0.2870981\ttotal: 175ms\tremaining: 1.22s\n",
      "126:\tlearn: 0.2858481\ttotal: 176ms\tremaining: 1.21s\n",
      "127:\tlearn: 0.2850012\ttotal: 177ms\tremaining: 1.2s\n",
      "128:\tlearn: 0.2839201\ttotal: 178ms\tremaining: 1.2s\n",
      "129:\tlearn: 0.2830168\ttotal: 178ms\tremaining: 1.19s\n",
      "130:\tlearn: 0.2819547\ttotal: 179ms\tremaining: 1.19s\n",
      "131:\tlearn: 0.2808425\ttotal: 180ms\tremaining: 1.18s\n",
      "132:\tlearn: 0.2800189\ttotal: 181ms\tremaining: 1.18s\n",
      "133:\tlearn: 0.2792982\ttotal: 182ms\tremaining: 1.18s\n",
      "134:\tlearn: 0.2783850\ttotal: 183ms\tremaining: 1.17s\n",
      "135:\tlearn: 0.2771223\ttotal: 184ms\tremaining: 1.17s\n",
      "136:\tlearn: 0.2762372\ttotal: 184ms\tremaining: 1.16s\n",
      "137:\tlearn: 0.2752296\ttotal: 185ms\tremaining: 1.16s\n",
      "138:\tlearn: 0.2742666\ttotal: 186ms\tremaining: 1.15s\n",
      "139:\tlearn: 0.2735054\ttotal: 187ms\tremaining: 1.15s\n",
      "140:\tlearn: 0.2727428\ttotal: 188ms\tremaining: 1.14s\n",
      "141:\tlearn: 0.2719493\ttotal: 188ms\tremaining: 1.14s\n",
      "142:\tlearn: 0.2710691\ttotal: 189ms\tremaining: 1.13s\n",
      "143:\tlearn: 0.2702511\ttotal: 190ms\tremaining: 1.13s\n",
      "144:\tlearn: 0.2686199\ttotal: 191ms\tremaining: 1.13s\n",
      "145:\tlearn: 0.2676973\ttotal: 192ms\tremaining: 1.12s\n"
     ]
    },
    {
     "name": "stdout",
     "output_type": "stream",
     "text": [
      "146:\tlearn: 0.2667634\ttotal: 193ms\tremaining: 1.12s\n",
      "147:\tlearn: 0.2658612\ttotal: 194ms\tremaining: 1.11s\n",
      "148:\tlearn: 0.2648757\ttotal: 195ms\tremaining: 1.11s\n",
      "149:\tlearn: 0.2639913\ttotal: 196ms\tremaining: 1.11s\n",
      "150:\tlearn: 0.2632847\ttotal: 196ms\tremaining: 1.1s\n",
      "151:\tlearn: 0.2623962\ttotal: 197ms\tremaining: 1.1s\n",
      "152:\tlearn: 0.2615655\ttotal: 198ms\tremaining: 1.09s\n",
      "153:\tlearn: 0.2606665\ttotal: 199ms\tremaining: 1.09s\n",
      "154:\tlearn: 0.2600236\ttotal: 200ms\tremaining: 1.09s\n",
      "155:\tlearn: 0.2593369\ttotal: 200ms\tremaining: 1.08s\n",
      "156:\tlearn: 0.2585889\ttotal: 202ms\tremaining: 1.08s\n",
      "157:\tlearn: 0.2575344\ttotal: 203ms\tremaining: 1.08s\n",
      "158:\tlearn: 0.2565567\ttotal: 204ms\tremaining: 1.08s\n",
      "159:\tlearn: 0.2558174\ttotal: 205ms\tremaining: 1.07s\n",
      "160:\tlearn: 0.2551562\ttotal: 205ms\tremaining: 1.07s\n",
      "161:\tlearn: 0.2542873\ttotal: 207ms\tremaining: 1.07s\n",
      "162:\tlearn: 0.2535677\ttotal: 208ms\tremaining: 1.07s\n",
      "163:\tlearn: 0.2524687\ttotal: 209ms\tremaining: 1.06s\n",
      "164:\tlearn: 0.2520337\ttotal: 209ms\tremaining: 1.06s\n",
      "165:\tlearn: 0.2515708\ttotal: 210ms\tremaining: 1.05s\n",
      "166:\tlearn: 0.2507802\ttotal: 211ms\tremaining: 1.05s\n",
      "167:\tlearn: 0.2500355\ttotal: 212ms\tremaining: 1.05s\n",
      "168:\tlearn: 0.2495108\ttotal: 213ms\tremaining: 1.04s\n",
      "169:\tlearn: 0.2489392\ttotal: 213ms\tremaining: 1.04s\n",
      "170:\tlearn: 0.2481374\ttotal: 214ms\tremaining: 1.04s\n",
      "171:\tlearn: 0.2473904\ttotal: 215ms\tremaining: 1.04s\n",
      "172:\tlearn: 0.2467750\ttotal: 216ms\tremaining: 1.03s\n",
      "173:\tlearn: 0.2464127\ttotal: 217ms\tremaining: 1.03s\n",
      "174:\tlearn: 0.2455703\ttotal: 218ms\tremaining: 1.03s\n",
      "175:\tlearn: 0.2452858\ttotal: 219ms\tremaining: 1.02s\n",
      "176:\tlearn: 0.2444399\ttotal: 219ms\tremaining: 1.02s\n",
      "177:\tlearn: 0.2436597\ttotal: 220ms\tremaining: 1.02s\n",
      "178:\tlearn: 0.2432127\ttotal: 221ms\tremaining: 1.01s\n",
      "179:\tlearn: 0.2423954\ttotal: 222ms\tremaining: 1.01s\n",
      "180:\tlearn: 0.2416389\ttotal: 223ms\tremaining: 1.01s\n",
      "181:\tlearn: 0.2411525\ttotal: 224ms\tremaining: 1s\n",
      "182:\tlearn: 0.2405626\ttotal: 224ms\tremaining: 1s\n",
      "183:\tlearn: 0.2401432\ttotal: 225ms\tremaining: 999ms\n",
      "184:\tlearn: 0.2393914\ttotal: 226ms\tremaining: 996ms\n",
      "185:\tlearn: 0.2389112\ttotal: 227ms\tremaining: 992ms\n",
      "186:\tlearn: 0.2379430\ttotal: 228ms\tremaining: 989ms\n",
      "187:\tlearn: 0.2372010\ttotal: 228ms\tremaining: 986ms\n",
      "188:\tlearn: 0.2367125\ttotal: 229ms\tremaining: 983ms\n",
      "189:\tlearn: 0.2361202\ttotal: 230ms\tremaining: 981ms\n",
      "190:\tlearn: 0.2354875\ttotal: 231ms\tremaining: 978ms\n",
      "191:\tlearn: 0.2348636\ttotal: 232ms\tremaining: 975ms\n",
      "192:\tlearn: 0.2340918\ttotal: 233ms\tremaining: 972ms\n",
      "193:\tlearn: 0.2334939\ttotal: 233ms\tremaining: 969ms\n",
      "194:\tlearn: 0.2329429\ttotal: 234ms\tremaining: 966ms\n",
      "195:\tlearn: 0.2322520\ttotal: 235ms\tremaining: 963ms\n",
      "196:\tlearn: 0.2317220\ttotal: 236ms\tremaining: 961ms\n",
      "197:\tlearn: 0.2312113\ttotal: 237ms\tremaining: 958ms\n",
      "198:\tlearn: 0.2304261\ttotal: 237ms\tremaining: 956ms\n",
      "199:\tlearn: 0.2298003\ttotal: 238ms\tremaining: 953ms\n",
      "200:\tlearn: 0.2290872\ttotal: 240ms\tremaining: 953ms\n",
      "201:\tlearn: 0.2286356\ttotal: 240ms\tremaining: 950ms\n",
      "202:\tlearn: 0.2277548\ttotal: 241ms\tremaining: 947ms\n",
      "203:\tlearn: 0.2270293\ttotal: 242ms\tremaining: 945ms\n",
      "204:\tlearn: 0.2264257\ttotal: 243ms\tremaining: 942ms\n",
      "205:\tlearn: 0.2257934\ttotal: 244ms\tremaining: 939ms\n",
      "206:\tlearn: 0.2253347\ttotal: 244ms\tremaining: 937ms\n",
      "207:\tlearn: 0.2246593\ttotal: 245ms\tremaining: 934ms\n",
      "208:\tlearn: 0.2239520\ttotal: 246ms\tremaining: 932ms\n",
      "209:\tlearn: 0.2232882\ttotal: 247ms\tremaining: 929ms\n",
      "210:\tlearn: 0.2229370\ttotal: 248ms\tremaining: 927ms\n",
      "211:\tlearn: 0.2222593\ttotal: 249ms\tremaining: 924ms\n",
      "212:\tlearn: 0.2217071\ttotal: 249ms\tremaining: 922ms\n",
      "213:\tlearn: 0.2211810\ttotal: 250ms\tremaining: 919ms\n",
      "214:\tlearn: 0.2208465\ttotal: 251ms\tremaining: 917ms\n",
      "215:\tlearn: 0.2204122\ttotal: 252ms\tremaining: 914ms\n",
      "216:\tlearn: 0.2198831\ttotal: 253ms\tremaining: 912ms\n",
      "217:\tlearn: 0.2194424\ttotal: 254ms\tremaining: 909ms\n",
      "218:\tlearn: 0.2187613\ttotal: 254ms\tremaining: 907ms\n",
      "219:\tlearn: 0.2180788\ttotal: 255ms\tremaining: 905ms\n",
      "220:\tlearn: 0.2176031\ttotal: 256ms\tremaining: 902ms\n",
      "221:\tlearn: 0.2171936\ttotal: 257ms\tremaining: 900ms\n",
      "222:\tlearn: 0.2166736\ttotal: 258ms\tremaining: 898ms\n",
      "223:\tlearn: 0.2163166\ttotal: 258ms\tremaining: 895ms\n",
      "224:\tlearn: 0.2158782\ttotal: 259ms\tremaining: 892ms\n",
      "225:\tlearn: 0.2154734\ttotal: 260ms\tremaining: 890ms\n",
      "226:\tlearn: 0.2150088\ttotal: 261ms\tremaining: 888ms\n",
      "227:\tlearn: 0.2144435\ttotal: 262ms\tremaining: 886ms\n",
      "228:\tlearn: 0.2138757\ttotal: 262ms\tremaining: 883ms\n",
      "229:\tlearn: 0.2133529\ttotal: 263ms\tremaining: 881ms\n",
      "230:\tlearn: 0.2130396\ttotal: 264ms\tremaining: 879ms\n",
      "231:\tlearn: 0.2126263\ttotal: 265ms\tremaining: 876ms\n",
      "232:\tlearn: 0.2121688\ttotal: 266ms\tremaining: 874ms\n",
      "233:\tlearn: 0.2114526\ttotal: 266ms\tremaining: 872ms\n",
      "234:\tlearn: 0.2111666\ttotal: 267ms\tremaining: 870ms\n",
      "235:\tlearn: 0.2108995\ttotal: 268ms\tremaining: 868ms\n",
      "236:\tlearn: 0.2103064\ttotal: 269ms\tremaining: 866ms\n",
      "237:\tlearn: 0.2096656\ttotal: 270ms\tremaining: 864ms\n",
      "238:\tlearn: 0.2090851\ttotal: 271ms\tremaining: 861ms\n",
      "239:\tlearn: 0.2086750\ttotal: 271ms\tremaining: 859ms\n",
      "240:\tlearn: 0.2082920\ttotal: 272ms\tremaining: 857ms\n",
      "241:\tlearn: 0.2079028\ttotal: 273ms\tremaining: 855ms\n",
      "242:\tlearn: 0.2074447\ttotal: 274ms\tremaining: 853ms\n",
      "243:\tlearn: 0.2070932\ttotal: 275ms\tremaining: 851ms\n",
      "244:\tlearn: 0.2066558\ttotal: 275ms\tremaining: 849ms\n",
      "245:\tlearn: 0.2060220\ttotal: 276ms\tremaining: 847ms\n",
      "246:\tlearn: 0.2055039\ttotal: 277ms\tremaining: 845ms\n",
      "247:\tlearn: 0.2050008\ttotal: 278ms\tremaining: 843ms\n",
      "248:\tlearn: 0.2046669\ttotal: 279ms\tremaining: 841ms\n",
      "249:\tlearn: 0.2042909\ttotal: 280ms\tremaining: 839ms\n",
      "250:\tlearn: 0.2040645\ttotal: 280ms\tremaining: 837ms\n",
      "251:\tlearn: 0.2034023\ttotal: 281ms\tremaining: 834ms\n",
      "252:\tlearn: 0.2028298\ttotal: 282ms\tremaining: 833ms\n",
      "253:\tlearn: 0.2023630\ttotal: 283ms\tremaining: 831ms\n",
      "254:\tlearn: 0.2021337\ttotal: 284ms\tremaining: 829ms\n",
      "255:\tlearn: 0.2016428\ttotal: 284ms\tremaining: 827ms\n",
      "256:\tlearn: 0.2011489\ttotal: 285ms\tremaining: 825ms\n",
      "257:\tlearn: 0.2008464\ttotal: 286ms\tremaining: 822ms\n",
      "258:\tlearn: 0.2005987\ttotal: 287ms\tremaining: 821ms\n",
      "259:\tlearn: 0.2000118\ttotal: 288ms\tremaining: 819ms\n",
      "260:\tlearn: 0.1997773\ttotal: 288ms\tremaining: 817ms\n",
      "261:\tlearn: 0.1995427\ttotal: 289ms\tremaining: 815ms\n",
      "262:\tlearn: 0.1992038\ttotal: 290ms\tremaining: 813ms\n",
      "263:\tlearn: 0.1987265\ttotal: 291ms\tremaining: 811ms\n",
      "264:\tlearn: 0.1983047\ttotal: 292ms\tremaining: 809ms\n",
      "265:\tlearn: 0.1978854\ttotal: 292ms\tremaining: 807ms\n",
      "266:\tlearn: 0.1974030\ttotal: 293ms\tremaining: 805ms\n",
      "267:\tlearn: 0.1971859\ttotal: 294ms\tremaining: 803ms\n",
      "268:\tlearn: 0.1968111\ttotal: 295ms\tremaining: 801ms\n",
      "269:\tlearn: 0.1963183\ttotal: 296ms\tremaining: 799ms\n",
      "270:\tlearn: 0.1960642\ttotal: 296ms\tremaining: 797ms\n",
      "271:\tlearn: 0.1953901\ttotal: 297ms\tremaining: 796ms\n",
      "272:\tlearn: 0.1949343\ttotal: 298ms\tremaining: 794ms\n",
      "273:\tlearn: 0.1946670\ttotal: 299ms\tremaining: 792ms\n"
     ]
    },
    {
     "name": "stdout",
     "output_type": "stream",
     "text": [
      "274:\tlearn: 0.1941797\ttotal: 300ms\tremaining: 791ms\n",
      "275:\tlearn: 0.1939424\ttotal: 301ms\tremaining: 789ms\n",
      "276:\tlearn: 0.1933245\ttotal: 302ms\tremaining: 787ms\n",
      "277:\tlearn: 0.1927998\ttotal: 302ms\tremaining: 785ms\n",
      "278:\tlearn: 0.1925953\ttotal: 303ms\tremaining: 783ms\n",
      "279:\tlearn: 0.1924248\ttotal: 304ms\tremaining: 782ms\n",
      "280:\tlearn: 0.1920543\ttotal: 305ms\tremaining: 780ms\n",
      "281:\tlearn: 0.1914165\ttotal: 306ms\tremaining: 778ms\n",
      "282:\tlearn: 0.1909253\ttotal: 306ms\tremaining: 776ms\n",
      "283:\tlearn: 0.1904776\ttotal: 307ms\tremaining: 775ms\n",
      "284:\tlearn: 0.1901643\ttotal: 308ms\tremaining: 774ms\n",
      "285:\tlearn: 0.1896503\ttotal: 310ms\tremaining: 773ms\n",
      "286:\tlearn: 0.1893076\ttotal: 311ms\tremaining: 771ms\n",
      "287:\tlearn: 0.1887712\ttotal: 311ms\tremaining: 770ms\n",
      "288:\tlearn: 0.1882701\ttotal: 312ms\tremaining: 769ms\n",
      "289:\tlearn: 0.1879296\ttotal: 313ms\tremaining: 767ms\n",
      "290:\tlearn: 0.1875405\ttotal: 314ms\tremaining: 766ms\n",
      "291:\tlearn: 0.1870817\ttotal: 315ms\tremaining: 764ms\n",
      "292:\tlearn: 0.1864937\ttotal: 316ms\tremaining: 763ms\n",
      "293:\tlearn: 0.1860960\ttotal: 317ms\tremaining: 761ms\n",
      "294:\tlearn: 0.1855514\ttotal: 318ms\tremaining: 759ms\n",
      "295:\tlearn: 0.1852648\ttotal: 318ms\tremaining: 757ms\n",
      "296:\tlearn: 0.1851075\ttotal: 319ms\tremaining: 755ms\n",
      "297:\tlearn: 0.1846625\ttotal: 320ms\tremaining: 753ms\n",
      "298:\tlearn: 0.1842259\ttotal: 320ms\tremaining: 751ms\n",
      "299:\tlearn: 0.1839530\ttotal: 321ms\tremaining: 749ms\n",
      "300:\tlearn: 0.1834872\ttotal: 322ms\tremaining: 747ms\n",
      "301:\tlearn: 0.1832804\ttotal: 322ms\tremaining: 745ms\n",
      "302:\tlearn: 0.1828377\ttotal: 323ms\tremaining: 743ms\n",
      "303:\tlearn: 0.1825267\ttotal: 324ms\tremaining: 741ms\n",
      "304:\tlearn: 0.1821718\ttotal: 324ms\tremaining: 739ms\n",
      "305:\tlearn: 0.1816820\ttotal: 325ms\tremaining: 738ms\n",
      "306:\tlearn: 0.1814210\ttotal: 326ms\tremaining: 736ms\n",
      "307:\tlearn: 0.1812161\ttotal: 327ms\tremaining: 735ms\n",
      "308:\tlearn: 0.1810502\ttotal: 328ms\tremaining: 734ms\n",
      "309:\tlearn: 0.1807026\ttotal: 329ms\tremaining: 733ms\n",
      "310:\tlearn: 0.1803992\ttotal: 330ms\tremaining: 731ms\n",
      "311:\tlearn: 0.1800755\ttotal: 331ms\tremaining: 730ms\n",
      "312:\tlearn: 0.1798420\ttotal: 332ms\tremaining: 729ms\n",
      "313:\tlearn: 0.1794904\ttotal: 333ms\tremaining: 727ms\n",
      "314:\tlearn: 0.1792608\ttotal: 334ms\tremaining: 726ms\n",
      "315:\tlearn: 0.1788214\ttotal: 335ms\tremaining: 725ms\n",
      "316:\tlearn: 0.1786716\ttotal: 336ms\tremaining: 723ms\n",
      "317:\tlearn: 0.1781146\ttotal: 336ms\tremaining: 722ms\n",
      "318:\tlearn: 0.1776358\ttotal: 337ms\tremaining: 720ms\n",
      "319:\tlearn: 0.1771474\ttotal: 338ms\tremaining: 718ms\n",
      "320:\tlearn: 0.1767530\ttotal: 339ms\tremaining: 717ms\n",
      "321:\tlearn: 0.1763064\ttotal: 340ms\tremaining: 715ms\n",
      "322:\tlearn: 0.1761509\ttotal: 341ms\tremaining: 714ms\n",
      "323:\tlearn: 0.1758308\ttotal: 341ms\tremaining: 712ms\n",
      "324:\tlearn: 0.1753250\ttotal: 342ms\tremaining: 711ms\n",
      "325:\tlearn: 0.1749060\ttotal: 343ms\tremaining: 710ms\n",
      "326:\tlearn: 0.1746929\ttotal: 345ms\tremaining: 710ms\n",
      "327:\tlearn: 0.1742710\ttotal: 346ms\tremaining: 708ms\n",
      "328:\tlearn: 0.1738560\ttotal: 347ms\tremaining: 707ms\n",
      "329:\tlearn: 0.1735304\ttotal: 348ms\tremaining: 706ms\n",
      "330:\tlearn: 0.1730897\ttotal: 349ms\tremaining: 705ms\n",
      "331:\tlearn: 0.1726590\ttotal: 350ms\tremaining: 703ms\n",
      "332:\tlearn: 0.1722859\ttotal: 350ms\tremaining: 702ms\n",
      "333:\tlearn: 0.1717718\ttotal: 351ms\tremaining: 701ms\n",
      "334:\tlearn: 0.1714516\ttotal: 352ms\tremaining: 699ms\n",
      "335:\tlearn: 0.1709114\ttotal: 353ms\tremaining: 698ms\n",
      "336:\tlearn: 0.1706570\ttotal: 354ms\tremaining: 696ms\n",
      "337:\tlearn: 0.1701549\ttotal: 355ms\tremaining: 694ms\n",
      "338:\tlearn: 0.1697381\ttotal: 356ms\tremaining: 695ms\n",
      "339:\tlearn: 0.1695948\ttotal: 357ms\tremaining: 693ms\n",
      "340:\tlearn: 0.1694147\ttotal: 358ms\tremaining: 692ms\n",
      "341:\tlearn: 0.1691362\ttotal: 359ms\tremaining: 691ms\n",
      "342:\tlearn: 0.1689836\ttotal: 360ms\tremaining: 689ms\n",
      "343:\tlearn: 0.1686199\ttotal: 361ms\tremaining: 688ms\n",
      "344:\tlearn: 0.1684720\ttotal: 361ms\tremaining: 686ms\n",
      "345:\tlearn: 0.1681025\ttotal: 362ms\tremaining: 684ms\n",
      "346:\tlearn: 0.1677036\ttotal: 363ms\tremaining: 683ms\n",
      "347:\tlearn: 0.1673678\ttotal: 364ms\tremaining: 681ms\n",
      "348:\tlearn: 0.1669209\ttotal: 364ms\tremaining: 680ms\n",
      "349:\tlearn: 0.1666674\ttotal: 365ms\tremaining: 678ms\n",
      "350:\tlearn: 0.1662319\ttotal: 366ms\tremaining: 677ms\n",
      "351:\tlearn: 0.1657271\ttotal: 367ms\tremaining: 675ms\n",
      "352:\tlearn: 0.1655577\ttotal: 368ms\tremaining: 674ms\n",
      "353:\tlearn: 0.1652622\ttotal: 368ms\tremaining: 672ms\n",
      "354:\tlearn: 0.1650512\ttotal: 369ms\tremaining: 671ms\n",
      "355:\tlearn: 0.1647701\ttotal: 370ms\tremaining: 670ms\n",
      "356:\tlearn: 0.1644644\ttotal: 371ms\tremaining: 668ms\n",
      "357:\tlearn: 0.1642365\ttotal: 372ms\tremaining: 667ms\n",
      "358:\tlearn: 0.1638796\ttotal: 373ms\tremaining: 665ms\n",
      "359:\tlearn: 0.1636940\ttotal: 373ms\tremaining: 664ms\n",
      "360:\tlearn: 0.1632846\ttotal: 374ms\tremaining: 662ms\n",
      "361:\tlearn: 0.1630113\ttotal: 375ms\tremaining: 661ms\n",
      "362:\tlearn: 0.1625806\ttotal: 376ms\tremaining: 659ms\n",
      "363:\tlearn: 0.1623696\ttotal: 377ms\tremaining: 658ms\n",
      "364:\tlearn: 0.1622341\ttotal: 377ms\tremaining: 656ms\n",
      "365:\tlearn: 0.1619309\ttotal: 378ms\tremaining: 655ms\n",
      "366:\tlearn: 0.1617035\ttotal: 379ms\tremaining: 654ms\n",
      "367:\tlearn: 0.1613482\ttotal: 381ms\tremaining: 654ms\n",
      "368:\tlearn: 0.1610130\ttotal: 381ms\tremaining: 652ms\n",
      "369:\tlearn: 0.1608886\ttotal: 382ms\tremaining: 651ms\n"
     ]
    },
    {
     "name": "stdout",
     "output_type": "stream",
     "text": [
      "370:\tlearn: 0.1607146\ttotal: 383ms\tremaining: 650ms\n",
      "371:\tlearn: 0.1603739\ttotal: 384ms\tremaining: 649ms\n",
      "372:\tlearn: 0.1598153\ttotal: 385ms\tremaining: 647ms\n",
      "373:\tlearn: 0.1592677\ttotal: 386ms\tremaining: 646ms\n",
      "374:\tlearn: 0.1591350\ttotal: 387ms\tremaining: 644ms\n",
      "375:\tlearn: 0.1588212\ttotal: 387ms\tremaining: 643ms\n",
      "376:\tlearn: 0.1586736\ttotal: 388ms\tremaining: 642ms\n",
      "377:\tlearn: 0.1583315\ttotal: 389ms\tremaining: 640ms\n",
      "378:\tlearn: 0.1582548\ttotal: 390ms\tremaining: 639ms\n",
      "379:\tlearn: 0.1579055\ttotal: 391ms\tremaining: 638ms\n",
      "380:\tlearn: 0.1575088\ttotal: 392ms\tremaining: 636ms\n",
      "381:\tlearn: 0.1573706\ttotal: 392ms\tremaining: 635ms\n",
      "382:\tlearn: 0.1570612\ttotal: 393ms\tremaining: 633ms\n",
      "383:\tlearn: 0.1565163\ttotal: 394ms\tremaining: 632ms\n",
      "384:\tlearn: 0.1561819\ttotal: 395ms\tremaining: 631ms\n",
      "385:\tlearn: 0.1556789\ttotal: 396ms\tremaining: 629ms\n",
      "386:\tlearn: 0.1555366\ttotal: 397ms\tremaining: 628ms\n",
      "387:\tlearn: 0.1551991\ttotal: 397ms\tremaining: 627ms\n",
      "388:\tlearn: 0.1548774\ttotal: 398ms\tremaining: 625ms\n",
      "389:\tlearn: 0.1546784\ttotal: 399ms\tremaining: 624ms\n",
      "390:\tlearn: 0.1545030\ttotal: 400ms\tremaining: 623ms\n",
      "391:\tlearn: 0.1542167\ttotal: 401ms\tremaining: 621ms\n",
      "392:\tlearn: 0.1538797\ttotal: 401ms\tremaining: 620ms\n",
      "393:\tlearn: 0.1535895\ttotal: 402ms\tremaining: 618ms\n",
      "394:\tlearn: 0.1533330\ttotal: 403ms\tremaining: 617ms\n",
      "395:\tlearn: 0.1532302\ttotal: 404ms\tremaining: 616ms\n",
      "396:\tlearn: 0.1531299\ttotal: 405ms\tremaining: 614ms\n",
      "397:\tlearn: 0.1528950\ttotal: 405ms\tremaining: 613ms\n",
      "398:\tlearn: 0.1525087\ttotal: 406ms\tremaining: 612ms\n",
      "399:\tlearn: 0.1521697\ttotal: 407ms\tremaining: 610ms\n",
      "400:\tlearn: 0.1519918\ttotal: 408ms\tremaining: 609ms\n",
      "401:\tlearn: 0.1515154\ttotal: 409ms\tremaining: 608ms\n",
      "402:\tlearn: 0.1512293\ttotal: 409ms\tremaining: 607ms\n",
      "403:\tlearn: 0.1510001\ttotal: 410ms\tremaining: 605ms\n",
      "404:\tlearn: 0.1508199\ttotal: 411ms\tremaining: 604ms\n",
      "405:\tlearn: 0.1505585\ttotal: 412ms\tremaining: 603ms\n",
      "406:\tlearn: 0.1503421\ttotal: 413ms\tremaining: 602ms\n",
      "407:\tlearn: 0.1500776\ttotal: 414ms\tremaining: 600ms\n",
      "408:\tlearn: 0.1497595\ttotal: 414ms\tremaining: 599ms\n",
      "409:\tlearn: 0.1494096\ttotal: 415ms\tremaining: 597ms\n",
      "410:\tlearn: 0.1492310\ttotal: 416ms\tremaining: 596ms\n",
      "411:\tlearn: 0.1491102\ttotal: 417ms\tremaining: 595ms\n",
      "412:\tlearn: 0.1487811\ttotal: 418ms\tremaining: 594ms\n",
      "413:\tlearn: 0.1485160\ttotal: 419ms\tremaining: 592ms\n",
      "414:\tlearn: 0.1482729\ttotal: 419ms\tremaining: 591ms\n",
      "415:\tlearn: 0.1481959\ttotal: 420ms\tremaining: 590ms\n",
      "416:\tlearn: 0.1477031\ttotal: 422ms\tremaining: 590ms\n",
      "417:\tlearn: 0.1474739\ttotal: 423ms\tremaining: 588ms\n",
      "418:\tlearn: 0.1473599\ttotal: 423ms\tremaining: 587ms\n",
      "419:\tlearn: 0.1472380\ttotal: 424ms\tremaining: 586ms\n",
      "420:\tlearn: 0.1471257\ttotal: 425ms\tremaining: 585ms\n",
      "421:\tlearn: 0.1470340\ttotal: 426ms\tremaining: 584ms\n",
      "422:\tlearn: 0.1467077\ttotal: 427ms\tremaining: 582ms\n",
      "423:\tlearn: 0.1462396\ttotal: 428ms\tremaining: 581ms\n",
      "424:\tlearn: 0.1461408\ttotal: 428ms\tremaining: 580ms\n",
      "425:\tlearn: 0.1459427\ttotal: 429ms\tremaining: 578ms\n",
      "426:\tlearn: 0.1456812\ttotal: 430ms\tremaining: 577ms\n",
      "427:\tlearn: 0.1456001\ttotal: 431ms\tremaining: 576ms\n",
      "428:\tlearn: 0.1452515\ttotal: 432ms\tremaining: 575ms\n",
      "429:\tlearn: 0.1451662\ttotal: 433ms\tremaining: 574ms\n",
      "430:\tlearn: 0.1448687\ttotal: 434ms\tremaining: 573ms\n",
      "431:\tlearn: 0.1446982\ttotal: 435ms\tremaining: 571ms\n",
      "432:\tlearn: 0.1443186\ttotal: 435ms\tremaining: 570ms\n",
      "433:\tlearn: 0.1441459\ttotal: 436ms\tremaining: 569ms\n",
      "434:\tlearn: 0.1438651\ttotal: 437ms\tremaining: 568ms\n",
      "435:\tlearn: 0.1436779\ttotal: 438ms\tremaining: 567ms\n",
      "436:\tlearn: 0.1433755\ttotal: 439ms\tremaining: 565ms\n",
      "437:\tlearn: 0.1431537\ttotal: 440ms\tremaining: 564ms\n",
      "438:\tlearn: 0.1430684\ttotal: 440ms\tremaining: 563ms\n",
      "439:\tlearn: 0.1427660\ttotal: 441ms\tremaining: 561ms\n",
      "440:\tlearn: 0.1425972\ttotal: 442ms\tremaining: 560ms\n",
      "441:\tlearn: 0.1424464\ttotal: 443ms\tremaining: 559ms\n",
      "442:\tlearn: 0.1423543\ttotal: 444ms\tremaining: 558ms\n",
      "443:\tlearn: 0.1422214\ttotal: 444ms\tremaining: 556ms\n",
      "444:\tlearn: 0.1419020\ttotal: 445ms\tremaining: 555ms\n",
      "445:\tlearn: 0.1418299\ttotal: 447ms\tremaining: 555ms\n",
      "446:\tlearn: 0.1416014\ttotal: 447ms\tremaining: 554ms\n",
      "447:\tlearn: 0.1412609\ttotal: 448ms\tremaining: 552ms\n",
      "448:\tlearn: 0.1411430\ttotal: 449ms\tremaining: 551ms\n",
      "449:\tlearn: 0.1408498\ttotal: 450ms\tremaining: 550ms\n",
      "450:\tlearn: 0.1406666\ttotal: 451ms\tremaining: 548ms\n",
      "451:\tlearn: 0.1404257\ttotal: 451ms\tremaining: 547ms\n",
      "452:\tlearn: 0.1402303\ttotal: 452ms\tremaining: 546ms\n",
      "453:\tlearn: 0.1401272\ttotal: 453ms\tremaining: 545ms\n",
      "454:\tlearn: 0.1399369\ttotal: 454ms\tremaining: 543ms\n",
      "455:\tlearn: 0.1397356\ttotal: 455ms\tremaining: 543ms\n",
      "456:\tlearn: 0.1396508\ttotal: 456ms\tremaining: 542ms\n",
      "457:\tlearn: 0.1395828\ttotal: 457ms\tremaining: 540ms\n",
      "458:\tlearn: 0.1395002\ttotal: 457ms\tremaining: 539ms\n",
      "459:\tlearn: 0.1393932\ttotal: 458ms\tremaining: 538ms\n",
      "460:\tlearn: 0.1392132\ttotal: 459ms\tremaining: 537ms\n",
      "461:\tlearn: 0.1389796\ttotal: 460ms\tremaining: 535ms\n",
      "462:\tlearn: 0.1386587\ttotal: 461ms\tremaining: 534ms\n",
      "463:\tlearn: 0.1383869\ttotal: 461ms\tremaining: 533ms\n",
      "464:\tlearn: 0.1381909\ttotal: 462ms\tremaining: 532ms\n",
      "465:\tlearn: 0.1380240\ttotal: 463ms\tremaining: 530ms\n",
      "466:\tlearn: 0.1377100\ttotal: 464ms\tremaining: 530ms\n",
      "467:\tlearn: 0.1375479\ttotal: 465ms\tremaining: 528ms\n",
      "468:\tlearn: 0.1372682\ttotal: 466ms\tremaining: 527ms\n",
      "469:\tlearn: 0.1371438\ttotal: 467ms\tremaining: 526ms\n",
      "470:\tlearn: 0.1369003\ttotal: 467ms\tremaining: 525ms\n",
      "471:\tlearn: 0.1367947\ttotal: 468ms\tremaining: 524ms\n",
      "472:\tlearn: 0.1365789\ttotal: 469ms\tremaining: 522ms\n",
      "473:\tlearn: 0.1364859\ttotal: 470ms\tremaining: 521ms\n",
      "474:\tlearn: 0.1360722\ttotal: 471ms\tremaining: 520ms\n",
      "475:\tlearn: 0.1357516\ttotal: 471ms\tremaining: 519ms\n",
      "476:\tlearn: 0.1354470\ttotal: 472ms\tremaining: 518ms\n",
      "477:\tlearn: 0.1352696\ttotal: 473ms\tremaining: 517ms\n",
      "478:\tlearn: 0.1350532\ttotal: 474ms\tremaining: 516ms\n",
      "479:\tlearn: 0.1349293\ttotal: 475ms\tremaining: 514ms\n",
      "480:\tlearn: 0.1346123\ttotal: 476ms\tremaining: 513ms\n",
      "481:\tlearn: 0.1344935\ttotal: 476ms\tremaining: 512ms\n",
      "482:\tlearn: 0.1341690\ttotal: 477ms\tremaining: 511ms\n",
      "483:\tlearn: 0.1339538\ttotal: 478ms\tremaining: 510ms\n",
      "484:\tlearn: 0.1338272\ttotal: 479ms\tremaining: 508ms\n",
      "485:\tlearn: 0.1335843\ttotal: 480ms\tremaining: 507ms\n",
      "486:\tlearn: 0.1333356\ttotal: 480ms\tremaining: 506ms\n",
      "487:\tlearn: 0.1330448\ttotal: 481ms\tremaining: 505ms\n",
      "488:\tlearn: 0.1329225\ttotal: 482ms\tremaining: 504ms\n",
      "489:\tlearn: 0.1328103\ttotal: 483ms\tremaining: 503ms\n",
      "490:\tlearn: 0.1325479\ttotal: 484ms\tremaining: 501ms\n",
      "491:\tlearn: 0.1323186\ttotal: 484ms\tremaining: 500ms\n",
      "492:\tlearn: 0.1321687\ttotal: 485ms\tremaining: 499ms\n",
      "493:\tlearn: 0.1319989\ttotal: 487ms\tremaining: 499ms\n",
      "494:\tlearn: 0.1316456\ttotal: 488ms\tremaining: 498ms\n",
      "495:\tlearn: 0.1313579\ttotal: 489ms\tremaining: 496ms\n",
      "496:\tlearn: 0.1311170\ttotal: 489ms\tremaining: 495ms\n"
     ]
    },
    {
     "name": "stdout",
     "output_type": "stream",
     "text": [
      "497:\tlearn: 0.1308841\ttotal: 490ms\tremaining: 494ms\n",
      "498:\tlearn: 0.1307006\ttotal: 491ms\tremaining: 493ms\n",
      "499:\tlearn: 0.1306093\ttotal: 492ms\tremaining: 492ms\n",
      "500:\tlearn: 0.1303996\ttotal: 493ms\tremaining: 491ms\n",
      "501:\tlearn: 0.1301897\ttotal: 494ms\tremaining: 490ms\n",
      "502:\tlearn: 0.1300630\ttotal: 495ms\tremaining: 489ms\n",
      "503:\tlearn: 0.1298971\ttotal: 496ms\tremaining: 488ms\n",
      "504:\tlearn: 0.1296997\ttotal: 497ms\tremaining: 487ms\n",
      "505:\tlearn: 0.1296302\ttotal: 497ms\tremaining: 486ms\n",
      "506:\tlearn: 0.1293709\ttotal: 498ms\tremaining: 484ms\n",
      "507:\tlearn: 0.1291506\ttotal: 499ms\tremaining: 483ms\n",
      "508:\tlearn: 0.1288710\ttotal: 500ms\tremaining: 482ms\n",
      "509:\tlearn: 0.1287978\ttotal: 501ms\tremaining: 481ms\n",
      "510:\tlearn: 0.1284577\ttotal: 502ms\tremaining: 480ms\n",
      "511:\tlearn: 0.1281275\ttotal: 502ms\tremaining: 479ms\n",
      "512:\tlearn: 0.1277767\ttotal: 503ms\tremaining: 478ms\n",
      "513:\tlearn: 0.1276991\ttotal: 504ms\tremaining: 477ms\n",
      "514:\tlearn: 0.1276448\ttotal: 505ms\tremaining: 476ms\n",
      "515:\tlearn: 0.1273796\ttotal: 506ms\tremaining: 475ms\n",
      "516:\tlearn: 0.1272156\ttotal: 507ms\tremaining: 473ms\n",
      "517:\tlearn: 0.1269790\ttotal: 507ms\tremaining: 472ms\n",
      "518:\tlearn: 0.1268558\ttotal: 508ms\tremaining: 471ms\n",
      "519:\tlearn: 0.1266279\ttotal: 509ms\tremaining: 470ms\n",
      "520:\tlearn: 0.1265661\ttotal: 510ms\tremaining: 469ms\n",
      "521:\tlearn: 0.1264818\ttotal: 511ms\tremaining: 468ms\n",
      "522:\tlearn: 0.1261983\ttotal: 511ms\tremaining: 466ms\n",
      "523:\tlearn: 0.1261143\ttotal: 512ms\tremaining: 465ms\n",
      "524:\tlearn: 0.1258156\ttotal: 513ms\tremaining: 464ms\n",
      "525:\tlearn: 0.1255570\ttotal: 514ms\tremaining: 463ms\n",
      "526:\tlearn: 0.1254342\ttotal: 515ms\tremaining: 462ms\n",
      "527:\tlearn: 0.1251329\ttotal: 515ms\tremaining: 461ms\n",
      "528:\tlearn: 0.1250519\ttotal: 516ms\tremaining: 460ms\n",
      "529:\tlearn: 0.1248689\ttotal: 517ms\tremaining: 459ms\n",
      "530:\tlearn: 0.1247172\ttotal: 518ms\tremaining: 458ms\n",
      "531:\tlearn: 0.1245053\ttotal: 519ms\tremaining: 456ms\n",
      "532:\tlearn: 0.1244375\ttotal: 520ms\tremaining: 455ms\n",
      "533:\tlearn: 0.1241242\ttotal: 520ms\tremaining: 454ms\n",
      "534:\tlearn: 0.1239120\ttotal: 521ms\tremaining: 453ms\n",
      "535:\tlearn: 0.1236654\ttotal: 522ms\tremaining: 452ms\n",
      "536:\tlearn: 0.1234554\ttotal: 523ms\tremaining: 451ms\n",
      "537:\tlearn: 0.1232407\ttotal: 524ms\tremaining: 450ms\n",
      "538:\tlearn: 0.1229888\ttotal: 525ms\tremaining: 449ms\n",
      "539:\tlearn: 0.1227950\ttotal: 525ms\tremaining: 448ms\n",
      "540:\tlearn: 0.1225556\ttotal: 526ms\tremaining: 447ms\n",
      "541:\tlearn: 0.1224741\ttotal: 527ms\tremaining: 445ms\n",
      "542:\tlearn: 0.1223978\ttotal: 528ms\tremaining: 444ms\n",
      "543:\tlearn: 0.1221057\ttotal: 529ms\tremaining: 443ms\n",
      "544:\tlearn: 0.1219368\ttotal: 530ms\tremaining: 442ms\n",
      "545:\tlearn: 0.1216519\ttotal: 531ms\tremaining: 441ms\n",
      "546:\tlearn: 0.1213936\ttotal: 532ms\tremaining: 440ms\n",
      "547:\tlearn: 0.1212049\ttotal: 532ms\tremaining: 439ms\n",
      "548:\tlearn: 0.1209707\ttotal: 533ms\tremaining: 438ms\n",
      "549:\tlearn: 0.1209032\ttotal: 534ms\tremaining: 437ms\n",
      "550:\tlearn: 0.1206849\ttotal: 535ms\tremaining: 436ms\n",
      "551:\tlearn: 0.1204556\ttotal: 536ms\tremaining: 435ms\n",
      "552:\tlearn: 0.1203072\ttotal: 537ms\tremaining: 434ms\n",
      "553:\tlearn: 0.1200921\ttotal: 537ms\tremaining: 433ms\n",
      "554:\tlearn: 0.1199855\ttotal: 538ms\tremaining: 431ms\n",
      "555:\tlearn: 0.1197799\ttotal: 539ms\tremaining: 430ms\n",
      "556:\tlearn: 0.1195799\ttotal: 540ms\tremaining: 429ms\n",
      "557:\tlearn: 0.1193482\ttotal: 540ms\tremaining: 428ms\n",
      "558:\tlearn: 0.1190470\ttotal: 541ms\tremaining: 427ms\n",
      "559:\tlearn: 0.1188786\ttotal: 542ms\tremaining: 426ms\n",
      "560:\tlearn: 0.1186145\ttotal: 543ms\tremaining: 425ms\n",
      "561:\tlearn: 0.1183408\ttotal: 544ms\tremaining: 424ms\n",
      "562:\tlearn: 0.1182893\ttotal: 545ms\tremaining: 423ms\n",
      "563:\tlearn: 0.1182534\ttotal: 545ms\tremaining: 422ms\n",
      "564:\tlearn: 0.1181037\ttotal: 546ms\tremaining: 420ms\n",
      "565:\tlearn: 0.1180527\ttotal: 547ms\tremaining: 419ms\n",
      "566:\tlearn: 0.1178051\ttotal: 548ms\tremaining: 418ms\n",
      "567:\tlearn: 0.1175235\ttotal: 549ms\tremaining: 417ms\n",
      "568:\tlearn: 0.1173824\ttotal: 549ms\tremaining: 416ms\n",
      "569:\tlearn: 0.1171490\ttotal: 550ms\tremaining: 415ms\n",
      "570:\tlearn: 0.1170473\ttotal: 551ms\tremaining: 414ms\n",
      "571:\tlearn: 0.1168945\ttotal: 552ms\tremaining: 413ms\n",
      "572:\tlearn: 0.1166332\ttotal: 553ms\tremaining: 412ms\n",
      "573:\tlearn: 0.1164286\ttotal: 553ms\tremaining: 411ms\n",
      "574:\tlearn: 0.1163165\ttotal: 554ms\tremaining: 410ms\n",
      "575:\tlearn: 0.1161007\ttotal: 555ms\tremaining: 409ms\n",
      "576:\tlearn: 0.1158531\ttotal: 556ms\tremaining: 408ms\n",
      "577:\tlearn: 0.1155828\ttotal: 557ms\tremaining: 406ms\n",
      "578:\tlearn: 0.1152974\ttotal: 557ms\tremaining: 405ms\n",
      "579:\tlearn: 0.1151221\ttotal: 558ms\tremaining: 404ms\n",
      "580:\tlearn: 0.1149237\ttotal: 559ms\tremaining: 403ms\n",
      "581:\tlearn: 0.1147186\ttotal: 560ms\tremaining: 402ms\n",
      "582:\tlearn: 0.1144473\ttotal: 561ms\tremaining: 401ms\n",
      "583:\tlearn: 0.1143803\ttotal: 562ms\tremaining: 400ms\n",
      "584:\tlearn: 0.1141914\ttotal: 563ms\tremaining: 399ms\n",
      "585:\tlearn: 0.1140446\ttotal: 564ms\tremaining: 398ms\n",
      "586:\tlearn: 0.1137665\ttotal: 564ms\tremaining: 397ms\n",
      "587:\tlearn: 0.1135910\ttotal: 565ms\tremaining: 396ms\n",
      "588:\tlearn: 0.1133241\ttotal: 566ms\tremaining: 395ms\n",
      "589:\tlearn: 0.1132059\ttotal: 567ms\tremaining: 394ms\n",
      "590:\tlearn: 0.1130726\ttotal: 568ms\tremaining: 393ms\n",
      "591:\tlearn: 0.1127948\ttotal: 569ms\tremaining: 392ms\n",
      "592:\tlearn: 0.1125629\ttotal: 569ms\tremaining: 391ms\n",
      "593:\tlearn: 0.1123135\ttotal: 570ms\tremaining: 390ms\n",
      "594:\tlearn: 0.1121522\ttotal: 571ms\tremaining: 389ms\n",
      "595:\tlearn: 0.1119497\ttotal: 572ms\tremaining: 388ms\n",
      "596:\tlearn: 0.1117874\ttotal: 572ms\tremaining: 386ms\n",
      "597:\tlearn: 0.1115194\ttotal: 573ms\tremaining: 385ms\n"
     ]
    },
    {
     "name": "stdout",
     "output_type": "stream",
     "text": [
      "598:\tlearn: 0.1113625\ttotal: 574ms\tremaining: 384ms\n",
      "599:\tlearn: 0.1110752\ttotal: 575ms\tremaining: 383ms\n",
      "600:\tlearn: 0.1108391\ttotal: 576ms\tremaining: 382ms\n",
      "601:\tlearn: 0.1106987\ttotal: 577ms\tremaining: 381ms\n",
      "602:\tlearn: 0.1104499\ttotal: 578ms\tremaining: 380ms\n",
      "603:\tlearn: 0.1102155\ttotal: 578ms\tremaining: 379ms\n",
      "604:\tlearn: 0.1100662\ttotal: 579ms\tremaining: 378ms\n",
      "605:\tlearn: 0.1098611\ttotal: 580ms\tremaining: 377ms\n",
      "606:\tlearn: 0.1097572\ttotal: 581ms\tremaining: 376ms\n",
      "607:\tlearn: 0.1095825\ttotal: 582ms\tremaining: 375ms\n",
      "608:\tlearn: 0.1095339\ttotal: 582ms\tremaining: 374ms\n",
      "609:\tlearn: 0.1093935\ttotal: 583ms\tremaining: 373ms\n",
      "610:\tlearn: 0.1092072\ttotal: 584ms\tremaining: 372ms\n",
      "611:\tlearn: 0.1090463\ttotal: 585ms\tremaining: 371ms\n",
      "612:\tlearn: 0.1088953\ttotal: 586ms\tremaining: 370ms\n",
      "613:\tlearn: 0.1088681\ttotal: 586ms\tremaining: 369ms\n",
      "614:\tlearn: 0.1086378\ttotal: 587ms\tremaining: 368ms\n",
      "615:\tlearn: 0.1084288\ttotal: 588ms\tremaining: 367ms\n",
      "616:\tlearn: 0.1082262\ttotal: 589ms\tremaining: 366ms\n",
      "617:\tlearn: 0.1081368\ttotal: 590ms\tremaining: 364ms\n",
      "618:\tlearn: 0.1080510\ttotal: 590ms\tremaining: 363ms\n",
      "619:\tlearn: 0.1078819\ttotal: 591ms\tremaining: 362ms\n",
      "620:\tlearn: 0.1076556\ttotal: 592ms\tremaining: 361ms\n",
      "621:\tlearn: 0.1074413\ttotal: 593ms\tremaining: 360ms\n",
      "622:\tlearn: 0.1074074\ttotal: 593ms\tremaining: 359ms\n",
      "623:\tlearn: 0.1072389\ttotal: 594ms\tremaining: 358ms\n",
      "624:\tlearn: 0.1069673\ttotal: 595ms\tremaining: 357ms\n",
      "625:\tlearn: 0.1068161\ttotal: 596ms\tremaining: 356ms\n",
      "626:\tlearn: 0.1067118\ttotal: 597ms\tremaining: 355ms\n",
      "627:\tlearn: 0.1065228\ttotal: 597ms\tremaining: 354ms\n",
      "628:\tlearn: 0.1062622\ttotal: 598ms\tremaining: 353ms\n",
      "629:\tlearn: 0.1061337\ttotal: 599ms\tremaining: 352ms\n",
      "630:\tlearn: 0.1059855\ttotal: 600ms\tremaining: 351ms\n",
      "631:\tlearn: 0.1059494\ttotal: 601ms\tremaining: 350ms\n",
      "632:\tlearn: 0.1058673\ttotal: 602ms\tremaining: 349ms\n",
      "633:\tlearn: 0.1057002\ttotal: 602ms\tremaining: 348ms\n",
      "634:\tlearn: 0.1056620\ttotal: 603ms\tremaining: 347ms\n",
      "635:\tlearn: 0.1055292\ttotal: 604ms\tremaining: 346ms\n",
      "636:\tlearn: 0.1052859\ttotal: 605ms\tremaining: 345ms\n",
      "637:\tlearn: 0.1051426\ttotal: 606ms\tremaining: 344ms\n",
      "638:\tlearn: 0.1049647\ttotal: 606ms\tremaining: 343ms\n",
      "639:\tlearn: 0.1047393\ttotal: 607ms\tremaining: 342ms\n",
      "640:\tlearn: 0.1045772\ttotal: 608ms\tremaining: 341ms\n",
      "641:\tlearn: 0.1045037\ttotal: 609ms\tremaining: 340ms\n",
      "642:\tlearn: 0.1043265\ttotal: 610ms\tremaining: 339ms\n",
      "643:\tlearn: 0.1042391\ttotal: 611ms\tremaining: 338ms\n",
      "644:\tlearn: 0.1040483\ttotal: 611ms\tremaining: 336ms\n",
      "645:\tlearn: 0.1039979\ttotal: 612ms\tremaining: 335ms\n",
      "646:\tlearn: 0.1037549\ttotal: 613ms\tremaining: 334ms\n",
      "647:\tlearn: 0.1036177\ttotal: 614ms\tremaining: 333ms\n",
      "648:\tlearn: 0.1033954\ttotal: 615ms\tremaining: 332ms\n",
      "649:\tlearn: 0.1032959\ttotal: 615ms\tremaining: 331ms\n",
      "650:\tlearn: 0.1032278\ttotal: 616ms\tremaining: 330ms\n",
      "651:\tlearn: 0.1030951\ttotal: 617ms\tremaining: 329ms\n",
      "652:\tlearn: 0.1029984\ttotal: 618ms\tremaining: 328ms\n",
      "653:\tlearn: 0.1028378\ttotal: 618ms\tremaining: 327ms\n",
      "654:\tlearn: 0.1026398\ttotal: 619ms\tremaining: 326ms\n",
      "655:\tlearn: 0.1023700\ttotal: 620ms\tremaining: 325ms\n",
      "656:\tlearn: 0.1022254\ttotal: 621ms\tremaining: 324ms\n",
      "657:\tlearn: 0.1020885\ttotal: 622ms\tremaining: 323ms\n",
      "658:\tlearn: 0.1018656\ttotal: 623ms\tremaining: 322ms\n",
      "659:\tlearn: 0.1017780\ttotal: 623ms\tremaining: 321ms\n",
      "660:\tlearn: 0.1016772\ttotal: 624ms\tremaining: 320ms\n",
      "661:\tlearn: 0.1014378\ttotal: 625ms\tremaining: 319ms\n",
      "662:\tlearn: 0.1012768\ttotal: 626ms\tremaining: 318ms\n",
      "663:\tlearn: 0.1012329\ttotal: 626ms\tremaining: 317ms\n",
      "664:\tlearn: 0.1010631\ttotal: 627ms\tremaining: 316ms\n",
      "665:\tlearn: 0.1008994\ttotal: 628ms\tremaining: 315ms\n",
      "666:\tlearn: 0.1006634\ttotal: 629ms\tremaining: 314ms\n",
      "667:\tlearn: 0.1005357\ttotal: 630ms\tremaining: 313ms\n",
      "668:\tlearn: 0.1003996\ttotal: 631ms\tremaining: 312ms\n",
      "669:\tlearn: 0.1003346\ttotal: 632ms\tremaining: 311ms\n",
      "670:\tlearn: 0.1002434\ttotal: 632ms\tremaining: 310ms\n",
      "671:\tlearn: 0.1001155\ttotal: 633ms\tremaining: 309ms\n",
      "672:\tlearn: 0.1000119\ttotal: 634ms\tremaining: 308ms\n",
      "673:\tlearn: 0.0998152\ttotal: 635ms\tremaining: 307ms\n",
      "674:\tlearn: 0.0996097\ttotal: 635ms\tremaining: 306ms\n",
      "675:\tlearn: 0.0995629\ttotal: 636ms\tremaining: 305ms\n",
      "676:\tlearn: 0.0993996\ttotal: 637ms\tremaining: 304ms\n",
      "677:\tlearn: 0.0991743\ttotal: 638ms\tremaining: 303ms\n",
      "678:\tlearn: 0.0991033\ttotal: 639ms\tremaining: 302ms\n",
      "679:\tlearn: 0.0989529\ttotal: 640ms\tremaining: 301ms\n",
      "680:\tlearn: 0.0987879\ttotal: 641ms\tremaining: 300ms\n",
      "681:\tlearn: 0.0986217\ttotal: 641ms\tremaining: 299ms\n",
      "682:\tlearn: 0.0984901\ttotal: 642ms\tremaining: 298ms\n",
      "683:\tlearn: 0.0983862\ttotal: 643ms\tremaining: 297ms\n",
      "684:\tlearn: 0.0982126\ttotal: 644ms\tremaining: 296ms\n",
      "685:\tlearn: 0.0978981\ttotal: 645ms\tremaining: 295ms\n",
      "686:\tlearn: 0.0977044\ttotal: 646ms\tremaining: 294ms\n",
      "687:\tlearn: 0.0976578\ttotal: 646ms\tremaining: 293ms\n",
      "688:\tlearn: 0.0974300\ttotal: 647ms\tremaining: 292ms\n",
      "689:\tlearn: 0.0973367\ttotal: 648ms\tremaining: 291ms\n",
      "690:\tlearn: 0.0972748\ttotal: 649ms\tremaining: 290ms\n",
      "691:\tlearn: 0.0970546\ttotal: 650ms\tremaining: 289ms\n",
      "692:\tlearn: 0.0969557\ttotal: 650ms\tremaining: 288ms\n",
      "693:\tlearn: 0.0968362\ttotal: 651ms\tremaining: 287ms\n",
      "694:\tlearn: 0.0968261\ttotal: 652ms\tremaining: 286ms\n",
      "695:\tlearn: 0.0966380\ttotal: 653ms\tremaining: 285ms\n",
      "696:\tlearn: 0.0964624\ttotal: 654ms\tremaining: 284ms\n",
      "697:\tlearn: 0.0964088\ttotal: 654ms\tremaining: 283ms\n",
      "698:\tlearn: 0.0963722\ttotal: 655ms\tremaining: 282ms\n",
      "699:\tlearn: 0.0962626\ttotal: 656ms\tremaining: 281ms\n",
      "700:\tlearn: 0.0960412\ttotal: 657ms\tremaining: 280ms\n",
      "701:\tlearn: 0.0958883\ttotal: 658ms\tremaining: 279ms\n",
      "702:\tlearn: 0.0958545\ttotal: 659ms\tremaining: 278ms\n",
      "703:\tlearn: 0.0956910\ttotal: 660ms\tremaining: 277ms\n",
      "704:\tlearn: 0.0955032\ttotal: 660ms\tremaining: 276ms\n",
      "705:\tlearn: 0.0953133\ttotal: 661ms\tremaining: 275ms\n",
      "706:\tlearn: 0.0952097\ttotal: 662ms\tremaining: 274ms\n",
      "707:\tlearn: 0.0951414\ttotal: 663ms\tremaining: 273ms\n",
      "708:\tlearn: 0.0949330\ttotal: 664ms\tremaining: 272ms\n",
      "709:\tlearn: 0.0947992\ttotal: 664ms\tremaining: 271ms\n",
      "710:\tlearn: 0.0946325\ttotal: 665ms\tremaining: 270ms\n",
      "711:\tlearn: 0.0945722\ttotal: 666ms\tremaining: 269ms\n",
      "712:\tlearn: 0.0944787\ttotal: 667ms\tremaining: 268ms\n",
      "713:\tlearn: 0.0942503\ttotal: 668ms\tremaining: 267ms\n",
      "714:\tlearn: 0.0941475\ttotal: 668ms\tremaining: 266ms\n",
      "715:\tlearn: 0.0939506\ttotal: 669ms\tremaining: 265ms\n",
      "716:\tlearn: 0.0937780\ttotal: 670ms\tremaining: 264ms\n",
      "717:\tlearn: 0.0936740\ttotal: 671ms\tremaining: 263ms\n",
      "718:\tlearn: 0.0935769\ttotal: 672ms\tremaining: 262ms\n",
      "719:\tlearn: 0.0935314\ttotal: 672ms\tremaining: 261ms\n",
      "720:\tlearn: 0.0935004\ttotal: 673ms\tremaining: 261ms\n",
      "721:\tlearn: 0.0933559\ttotal: 674ms\tremaining: 260ms\n",
      "722:\tlearn: 0.0932165\ttotal: 675ms\tremaining: 259ms\n",
      "723:\tlearn: 0.0931505\ttotal: 676ms\tremaining: 258ms\n",
      "724:\tlearn: 0.0930397\ttotal: 677ms\tremaining: 257ms\n",
      "725:\tlearn: 0.0929774\ttotal: 678ms\tremaining: 256ms\n",
      "726:\tlearn: 0.0928029\ttotal: 678ms\tremaining: 255ms\n",
      "727:\tlearn: 0.0926996\ttotal: 679ms\tremaining: 254ms\n",
      "728:\tlearn: 0.0925464\ttotal: 680ms\tremaining: 253ms\n"
     ]
    },
    {
     "name": "stdout",
     "output_type": "stream",
     "text": [
      "729:\tlearn: 0.0923993\ttotal: 681ms\tremaining: 252ms\n",
      "730:\tlearn: 0.0921970\ttotal: 683ms\tremaining: 251ms\n",
      "731:\tlearn: 0.0920844\ttotal: 684ms\tremaining: 250ms\n",
      "732:\tlearn: 0.0920220\ttotal: 684ms\tremaining: 249ms\n",
      "733:\tlearn: 0.0918276\ttotal: 685ms\tremaining: 248ms\n",
      "734:\tlearn: 0.0917543\ttotal: 686ms\tremaining: 247ms\n",
      "735:\tlearn: 0.0916124\ttotal: 687ms\tremaining: 246ms\n",
      "736:\tlearn: 0.0915732\ttotal: 688ms\tremaining: 245ms\n",
      "737:\tlearn: 0.0914077\ttotal: 688ms\tremaining: 244ms\n",
      "738:\tlearn: 0.0913064\ttotal: 689ms\tremaining: 243ms\n",
      "739:\tlearn: 0.0911659\ttotal: 690ms\tremaining: 242ms\n",
      "740:\tlearn: 0.0911153\ttotal: 691ms\tremaining: 241ms\n",
      "741:\tlearn: 0.0909802\ttotal: 692ms\tremaining: 240ms\n",
      "742:\tlearn: 0.0908234\ttotal: 692ms\tremaining: 239ms\n",
      "743:\tlearn: 0.0906747\ttotal: 693ms\tremaining: 239ms\n",
      "744:\tlearn: 0.0905644\ttotal: 694ms\tremaining: 238ms\n",
      "745:\tlearn: 0.0904484\ttotal: 695ms\tremaining: 237ms\n",
      "746:\tlearn: 0.0902243\ttotal: 696ms\tremaining: 236ms\n",
      "747:\tlearn: 0.0900914\ttotal: 697ms\tremaining: 235ms\n",
      "748:\tlearn: 0.0900683\ttotal: 697ms\tremaining: 234ms\n",
      "749:\tlearn: 0.0899108\ttotal: 698ms\tremaining: 233ms\n",
      "750:\tlearn: 0.0898327\ttotal: 699ms\tremaining: 232ms\n",
      "751:\tlearn: 0.0897392\ttotal: 700ms\tremaining: 231ms\n",
      "752:\tlearn: 0.0896381\ttotal: 701ms\tremaining: 230ms\n",
      "753:\tlearn: 0.0895403\ttotal: 701ms\tremaining: 229ms\n",
      "754:\tlearn: 0.0895091\ttotal: 702ms\tremaining: 228ms\n",
      "755:\tlearn: 0.0894731\ttotal: 703ms\tremaining: 227ms\n",
      "756:\tlearn: 0.0894460\ttotal: 704ms\tremaining: 226ms\n",
      "757:\tlearn: 0.0893318\ttotal: 704ms\tremaining: 225ms\n",
      "758:\tlearn: 0.0891767\ttotal: 705ms\tremaining: 224ms\n",
      "759:\tlearn: 0.0891078\ttotal: 706ms\tremaining: 223ms\n",
      "760:\tlearn: 0.0890350\ttotal: 707ms\tremaining: 222ms\n",
      "761:\tlearn: 0.0889379\ttotal: 708ms\tremaining: 221ms\n",
      "762:\tlearn: 0.0888158\ttotal: 709ms\tremaining: 220ms\n",
      "763:\tlearn: 0.0886353\ttotal: 709ms\tremaining: 219ms\n",
      "764:\tlearn: 0.0884451\ttotal: 710ms\tremaining: 218ms\n",
      "765:\tlearn: 0.0883650\ttotal: 711ms\tremaining: 217ms\n",
      "766:\tlearn: 0.0882144\ttotal: 712ms\tremaining: 216ms\n",
      "767:\tlearn: 0.0881795\ttotal: 713ms\tremaining: 215ms\n",
      "768:\tlearn: 0.0879819\ttotal: 713ms\tremaining: 214ms\n",
      "769:\tlearn: 0.0878516\ttotal: 714ms\tremaining: 213ms\n",
      "770:\tlearn: 0.0876659\ttotal: 715ms\tremaining: 212ms\n",
      "771:\tlearn: 0.0875439\ttotal: 716ms\tremaining: 211ms\n",
      "772:\tlearn: 0.0874401\ttotal: 717ms\tremaining: 211ms\n",
      "773:\tlearn: 0.0872813\ttotal: 718ms\tremaining: 210ms\n",
      "774:\tlearn: 0.0872170\ttotal: 719ms\tremaining: 209ms\n",
      "775:\tlearn: 0.0870177\ttotal: 720ms\tremaining: 208ms\n",
      "776:\tlearn: 0.0869119\ttotal: 721ms\tremaining: 207ms\n",
      "777:\tlearn: 0.0867352\ttotal: 721ms\tremaining: 206ms\n",
      "778:\tlearn: 0.0866091\ttotal: 722ms\tremaining: 205ms\n",
      "779:\tlearn: 0.0864965\ttotal: 723ms\tremaining: 204ms\n",
      "780:\tlearn: 0.0863856\ttotal: 724ms\tremaining: 203ms\n",
      "781:\tlearn: 0.0862329\ttotal: 724ms\tremaining: 202ms\n",
      "782:\tlearn: 0.0860381\ttotal: 725ms\tremaining: 201ms\n",
      "783:\tlearn: 0.0859651\ttotal: 726ms\tremaining: 200ms\n",
      "784:\tlearn: 0.0857974\ttotal: 727ms\tremaining: 199ms\n",
      "785:\tlearn: 0.0856247\ttotal: 728ms\tremaining: 198ms\n",
      "786:\tlearn: 0.0855152\ttotal: 729ms\tremaining: 197ms\n",
      "787:\tlearn: 0.0853635\ttotal: 730ms\tremaining: 196ms\n",
      "788:\tlearn: 0.0852043\ttotal: 731ms\tremaining: 195ms\n",
      "789:\tlearn: 0.0850998\ttotal: 731ms\tremaining: 194ms\n",
      "790:\tlearn: 0.0849766\ttotal: 732ms\tremaining: 193ms\n",
      "791:\tlearn: 0.0848817\ttotal: 733ms\tremaining: 193ms\n",
      "792:\tlearn: 0.0847541\ttotal: 734ms\tremaining: 192ms\n",
      "793:\tlearn: 0.0846320\ttotal: 735ms\tremaining: 191ms\n",
      "794:\tlearn: 0.0845752\ttotal: 736ms\tremaining: 190ms\n",
      "795:\tlearn: 0.0844884\ttotal: 736ms\tremaining: 189ms\n",
      "796:\tlearn: 0.0842745\ttotal: 737ms\tremaining: 188ms\n",
      "797:\tlearn: 0.0841775\ttotal: 738ms\tremaining: 187ms\n",
      "798:\tlearn: 0.0840391\ttotal: 739ms\tremaining: 186ms\n",
      "799:\tlearn: 0.0839887\ttotal: 740ms\tremaining: 185ms\n",
      "800:\tlearn: 0.0839617\ttotal: 741ms\tremaining: 184ms\n",
      "801:\tlearn: 0.0837105\ttotal: 741ms\tremaining: 183ms\n",
      "802:\tlearn: 0.0836413\ttotal: 742ms\tremaining: 182ms\n",
      "803:\tlearn: 0.0836005\ttotal: 743ms\tremaining: 181ms\n",
      "804:\tlearn: 0.0834579\ttotal: 744ms\tremaining: 180ms\n",
      "805:\tlearn: 0.0833774\ttotal: 745ms\tremaining: 179ms\n",
      "806:\tlearn: 0.0832950\ttotal: 746ms\tremaining: 178ms\n",
      "807:\tlearn: 0.0830735\ttotal: 747ms\tremaining: 177ms\n",
      "808:\tlearn: 0.0829623\ttotal: 747ms\tremaining: 176ms\n",
      "809:\tlearn: 0.0827223\ttotal: 748ms\tremaining: 176ms\n",
      "810:\tlearn: 0.0825902\ttotal: 749ms\tremaining: 175ms\n",
      "811:\tlearn: 0.0824544\ttotal: 750ms\tremaining: 174ms\n",
      "812:\tlearn: 0.0823035\ttotal: 751ms\tremaining: 173ms\n",
      "813:\tlearn: 0.0821590\ttotal: 752ms\tremaining: 172ms\n",
      "814:\tlearn: 0.0820707\ttotal: 753ms\tremaining: 171ms\n",
      "815:\tlearn: 0.0819515\ttotal: 753ms\tremaining: 170ms\n",
      "816:\tlearn: 0.0818089\ttotal: 754ms\tremaining: 169ms\n",
      "817:\tlearn: 0.0816985\ttotal: 755ms\tremaining: 168ms\n",
      "818:\tlearn: 0.0816376\ttotal: 756ms\tremaining: 167ms\n",
      "819:\tlearn: 0.0814399\ttotal: 757ms\tremaining: 166ms\n",
      "820:\tlearn: 0.0813462\ttotal: 758ms\tremaining: 165ms\n",
      "821:\tlearn: 0.0812452\ttotal: 758ms\tremaining: 164ms\n",
      "822:\tlearn: 0.0811059\ttotal: 759ms\tremaining: 163ms\n",
      "823:\tlearn: 0.0810174\ttotal: 760ms\tremaining: 162ms\n",
      "824:\tlearn: 0.0808132\ttotal: 761ms\tremaining: 161ms\n",
      "825:\tlearn: 0.0807723\ttotal: 762ms\tremaining: 160ms\n",
      "826:\tlearn: 0.0807494\ttotal: 762ms\tremaining: 159ms\n",
      "827:\tlearn: 0.0806459\ttotal: 763ms\tremaining: 159ms\n"
     ]
    },
    {
     "name": "stdout",
     "output_type": "stream",
     "text": [
      "828:\tlearn: 0.0805856\ttotal: 764ms\tremaining: 158ms\n",
      "829:\tlearn: 0.0804616\ttotal: 765ms\tremaining: 157ms\n",
      "830:\tlearn: 0.0804195\ttotal: 766ms\tremaining: 156ms\n",
      "831:\tlearn: 0.0802788\ttotal: 767ms\tremaining: 155ms\n",
      "832:\tlearn: 0.0801728\ttotal: 768ms\tremaining: 154ms\n",
      "833:\tlearn: 0.0800976\ttotal: 769ms\tremaining: 153ms\n",
      "834:\tlearn: 0.0799507\ttotal: 770ms\tremaining: 152ms\n",
      "835:\tlearn: 0.0798043\ttotal: 771ms\tremaining: 151ms\n",
      "836:\tlearn: 0.0796586\ttotal: 772ms\tremaining: 150ms\n",
      "837:\tlearn: 0.0794624\ttotal: 773ms\tremaining: 149ms\n",
      "838:\tlearn: 0.0793587\ttotal: 773ms\tremaining: 148ms\n",
      "839:\tlearn: 0.0792143\ttotal: 774ms\tremaining: 147ms\n",
      "840:\tlearn: 0.0791030\ttotal: 775ms\tremaining: 147ms\n",
      "841:\tlearn: 0.0790186\ttotal: 776ms\tremaining: 146ms\n",
      "842:\tlearn: 0.0788954\ttotal: 777ms\tremaining: 145ms\n",
      "843:\tlearn: 0.0787611\ttotal: 778ms\tremaining: 144ms\n",
      "844:\tlearn: 0.0786969\ttotal: 778ms\tremaining: 143ms\n",
      "845:\tlearn: 0.0785298\ttotal: 779ms\tremaining: 142ms\n",
      "846:\tlearn: 0.0783575\ttotal: 780ms\tremaining: 141ms\n",
      "847:\tlearn: 0.0781965\ttotal: 781ms\tremaining: 140ms\n",
      "848:\tlearn: 0.0781373\ttotal: 782ms\tremaining: 139ms\n",
      "849:\tlearn: 0.0779797\ttotal: 783ms\tremaining: 138ms\n",
      "850:\tlearn: 0.0778853\ttotal: 783ms\tremaining: 137ms\n",
      "851:\tlearn: 0.0777623\ttotal: 784ms\tremaining: 136ms\n",
      "852:\tlearn: 0.0776719\ttotal: 785ms\tremaining: 135ms\n",
      "853:\tlearn: 0.0774966\ttotal: 786ms\tremaining: 134ms\n",
      "854:\tlearn: 0.0773416\ttotal: 786ms\tremaining: 133ms\n",
      "855:\tlearn: 0.0772215\ttotal: 787ms\tremaining: 132ms\n",
      "856:\tlearn: 0.0771181\ttotal: 788ms\tremaining: 132ms\n",
      "857:\tlearn: 0.0769656\ttotal: 789ms\tremaining: 131ms\n",
      "858:\tlearn: 0.0769231\ttotal: 790ms\tremaining: 130ms\n",
      "859:\tlearn: 0.0768486\ttotal: 791ms\tremaining: 129ms\n",
      "860:\tlearn: 0.0766895\ttotal: 792ms\tremaining: 128ms\n",
      "861:\tlearn: 0.0766682\ttotal: 793ms\tremaining: 127ms\n",
      "862:\tlearn: 0.0765316\ttotal: 793ms\tremaining: 126ms\n",
      "863:\tlearn: 0.0764450\ttotal: 794ms\tremaining: 125ms\n",
      "864:\tlearn: 0.0764038\ttotal: 795ms\tremaining: 124ms\n",
      "865:\tlearn: 0.0762451\ttotal: 796ms\tremaining: 123ms\n",
      "866:\tlearn: 0.0761499\ttotal: 797ms\tremaining: 122ms\n",
      "867:\tlearn: 0.0760680\ttotal: 798ms\tremaining: 121ms\n",
      "868:\tlearn: 0.0759290\ttotal: 799ms\tremaining: 120ms\n",
      "869:\tlearn: 0.0758024\ttotal: 800ms\tremaining: 120ms\n",
      "870:\tlearn: 0.0757106\ttotal: 801ms\tremaining: 119ms\n",
      "871:\tlearn: 0.0755863\ttotal: 802ms\tremaining: 118ms\n",
      "872:\tlearn: 0.0755426\ttotal: 802ms\tremaining: 117ms\n",
      "873:\tlearn: 0.0754334\ttotal: 803ms\tremaining: 116ms\n",
      "874:\tlearn: 0.0752595\ttotal: 804ms\tremaining: 115ms\n",
      "875:\tlearn: 0.0751533\ttotal: 805ms\tremaining: 114ms\n",
      "876:\tlearn: 0.0750131\ttotal: 806ms\tremaining: 113ms\n",
      "877:\tlearn: 0.0748752\ttotal: 806ms\tremaining: 112ms\n",
      "878:\tlearn: 0.0747189\ttotal: 807ms\tremaining: 111ms\n",
      "879:\tlearn: 0.0745740\ttotal: 808ms\tremaining: 110ms\n",
      "880:\tlearn: 0.0744259\ttotal: 809ms\tremaining: 109ms\n",
      "881:\tlearn: 0.0743068\ttotal: 810ms\tremaining: 108ms\n",
      "882:\tlearn: 0.0741869\ttotal: 810ms\tremaining: 107ms\n",
      "883:\tlearn: 0.0741150\ttotal: 811ms\tremaining: 106ms\n",
      "884:\tlearn: 0.0739954\ttotal: 812ms\tremaining: 106ms\n",
      "885:\tlearn: 0.0739907\ttotal: 813ms\tremaining: 105ms\n",
      "886:\tlearn: 0.0739066\ttotal: 814ms\tremaining: 104ms\n",
      "887:\tlearn: 0.0738436\ttotal: 815ms\tremaining: 103ms\n",
      "888:\tlearn: 0.0736580\ttotal: 815ms\tremaining: 102ms\n",
      "889:\tlearn: 0.0735662\ttotal: 816ms\tremaining: 101ms\n",
      "890:\tlearn: 0.0733797\ttotal: 817ms\tremaining: 99.9ms\n",
      "891:\tlearn: 0.0732217\ttotal: 818ms\tremaining: 99ms\n",
      "892:\tlearn: 0.0731685\ttotal: 818ms\tremaining: 98.1ms\n",
      "893:\tlearn: 0.0731142\ttotal: 819ms\tremaining: 97.1ms\n",
      "894:\tlearn: 0.0730274\ttotal: 820ms\tremaining: 96.2ms\n",
      "895:\tlearn: 0.0729533\ttotal: 821ms\tremaining: 95.3ms\n",
      "896:\tlearn: 0.0728615\ttotal: 822ms\tremaining: 94.3ms\n",
      "897:\tlearn: 0.0728222\ttotal: 822ms\tremaining: 93.4ms\n",
      "898:\tlearn: 0.0727567\ttotal: 823ms\tremaining: 92.5ms\n",
      "899:\tlearn: 0.0726619\ttotal: 824ms\tremaining: 91.6ms\n",
      "900:\tlearn: 0.0726084\ttotal: 825ms\tremaining: 90.6ms\n",
      "901:\tlearn: 0.0724982\ttotal: 826ms\tremaining: 89.7ms\n",
      "902:\tlearn: 0.0724818\ttotal: 827ms\tremaining: 88.8ms\n",
      "903:\tlearn: 0.0723760\ttotal: 827ms\tremaining: 87.9ms\n",
      "904:\tlearn: 0.0723097\ttotal: 828ms\tremaining: 87ms\n",
      "905:\tlearn: 0.0722728\ttotal: 829ms\tremaining: 86ms\n",
      "906:\tlearn: 0.0721147\ttotal: 830ms\tremaining: 85.1ms\n",
      "907:\tlearn: 0.0719651\ttotal: 831ms\tremaining: 84.2ms\n",
      "908:\tlearn: 0.0718324\ttotal: 832ms\tremaining: 83.3ms\n",
      "909:\tlearn: 0.0717835\ttotal: 832ms\tremaining: 82.3ms\n",
      "910:\tlearn: 0.0715984\ttotal: 833ms\tremaining: 81.4ms\n",
      "911:\tlearn: 0.0714526\ttotal: 834ms\tremaining: 80.5ms\n",
      "912:\tlearn: 0.0713976\ttotal: 835ms\tremaining: 79.6ms\n",
      "913:\tlearn: 0.0713081\ttotal: 836ms\tremaining: 78.6ms\n",
      "914:\tlearn: 0.0712396\ttotal: 836ms\tremaining: 77.7ms\n",
      "915:\tlearn: 0.0711200\ttotal: 837ms\tremaining: 76.8ms\n",
      "916:\tlearn: 0.0710457\ttotal: 838ms\tremaining: 75.9ms\n",
      "917:\tlearn: 0.0709481\ttotal: 839ms\tremaining: 75ms\n",
      "918:\tlearn: 0.0709190\ttotal: 840ms\tremaining: 74ms\n",
      "919:\tlearn: 0.0708836\ttotal: 841ms\tremaining: 73.1ms\n",
      "920:\tlearn: 0.0708057\ttotal: 841ms\tremaining: 72.2ms\n",
      "921:\tlearn: 0.0707264\ttotal: 842ms\tremaining: 71.3ms\n",
      "922:\tlearn: 0.0705584\ttotal: 843ms\tremaining: 70.3ms\n",
      "923:\tlearn: 0.0704165\ttotal: 844ms\tremaining: 69.4ms\n",
      "924:\tlearn: 0.0703061\ttotal: 845ms\tremaining: 68.5ms\n",
      "925:\tlearn: 0.0701820\ttotal: 845ms\tremaining: 67.6ms\n",
      "926:\tlearn: 0.0700910\ttotal: 846ms\tremaining: 66.6ms\n",
      "927:\tlearn: 0.0700623\ttotal: 847ms\tremaining: 65.7ms\n",
      "928:\tlearn: 0.0699934\ttotal: 848ms\tremaining: 64.8ms\n",
      "929:\tlearn: 0.0698818\ttotal: 849ms\tremaining: 63.9ms\n",
      "930:\tlearn: 0.0698068\ttotal: 849ms\tremaining: 62.9ms\n",
      "931:\tlearn: 0.0696455\ttotal: 850ms\tremaining: 62ms\n",
      "932:\tlearn: 0.0695738\ttotal: 851ms\tremaining: 61.1ms\n",
      "933:\tlearn: 0.0693593\ttotal: 852ms\tremaining: 60.2ms\n",
      "934:\tlearn: 0.0692407\ttotal: 852ms\tremaining: 59.3ms\n",
      "935:\tlearn: 0.0691594\ttotal: 854ms\tremaining: 58.4ms\n",
      "936:\tlearn: 0.0690698\ttotal: 855ms\tremaining: 57.5ms\n",
      "937:\tlearn: 0.0689818\ttotal: 856ms\tremaining: 56.6ms\n",
      "938:\tlearn: 0.0688109\ttotal: 857ms\tremaining: 55.6ms\n",
      "939:\tlearn: 0.0687794\ttotal: 857ms\tremaining: 54.7ms\n",
      "940:\tlearn: 0.0686739\ttotal: 858ms\tremaining: 53.8ms\n",
      "941:\tlearn: 0.0685832\ttotal: 859ms\tremaining: 52.9ms\n",
      "942:\tlearn: 0.0684760\ttotal: 860ms\tremaining: 52ms\n",
      "943:\tlearn: 0.0683937\ttotal: 861ms\tremaining: 51.1ms\n",
      "944:\tlearn: 0.0682330\ttotal: 861ms\tremaining: 50.1ms\n",
      "945:\tlearn: 0.0682177\ttotal: 862ms\tremaining: 49.2ms\n",
      "946:\tlearn: 0.0680838\ttotal: 863ms\tremaining: 48.3ms\n",
      "947:\tlearn: 0.0679804\ttotal: 864ms\tremaining: 47.4ms\n",
      "948:\tlearn: 0.0679560\ttotal: 865ms\tremaining: 46.5ms\n",
      "949:\tlearn: 0.0678881\ttotal: 865ms\tremaining: 45.5ms\n",
      "950:\tlearn: 0.0677789\ttotal: 866ms\tremaining: 44.6ms\n",
      "951:\tlearn: 0.0677367\ttotal: 867ms\tremaining: 43.7ms\n",
      "952:\tlearn: 0.0675714\ttotal: 868ms\tremaining: 42.8ms\n",
      "953:\tlearn: 0.0675445\ttotal: 869ms\tremaining: 41.9ms\n",
      "954:\tlearn: 0.0675033\ttotal: 870ms\tremaining: 41ms\n",
      "955:\tlearn: 0.0674492\ttotal: 870ms\tremaining: 40.1ms\n"
     ]
    },
    {
     "name": "stdout",
     "output_type": "stream",
     "text": [
      "956:\tlearn: 0.0673562\ttotal: 871ms\tremaining: 39.2ms\n",
      "957:\tlearn: 0.0672958\ttotal: 872ms\tremaining: 38.2ms\n",
      "958:\tlearn: 0.0672238\ttotal: 873ms\tremaining: 37.3ms\n",
      "959:\tlearn: 0.0671583\ttotal: 874ms\tremaining: 36.4ms\n",
      "960:\tlearn: 0.0670478\ttotal: 875ms\tremaining: 35.5ms\n",
      "961:\tlearn: 0.0669735\ttotal: 876ms\tremaining: 34.6ms\n",
      "962:\tlearn: 0.0668203\ttotal: 876ms\tremaining: 33.7ms\n",
      "963:\tlearn: 0.0666665\ttotal: 877ms\tremaining: 32.8ms\n",
      "964:\tlearn: 0.0665634\ttotal: 878ms\tremaining: 31.8ms\n",
      "965:\tlearn: 0.0664801\ttotal: 879ms\tremaining: 30.9ms\n",
      "966:\tlearn: 0.0663518\ttotal: 880ms\tremaining: 30ms\n",
      "967:\tlearn: 0.0662227\ttotal: 880ms\tremaining: 29.1ms\n",
      "968:\tlearn: 0.0661204\ttotal: 881ms\tremaining: 28.2ms\n",
      "969:\tlearn: 0.0660265\ttotal: 882ms\tremaining: 27.3ms\n",
      "970:\tlearn: 0.0658909\ttotal: 883ms\tremaining: 26.4ms\n",
      "971:\tlearn: 0.0658797\ttotal: 884ms\tremaining: 25.5ms\n",
      "972:\tlearn: 0.0657967\ttotal: 884ms\tremaining: 24.5ms\n",
      "973:\tlearn: 0.0657298\ttotal: 885ms\tremaining: 23.6ms\n",
      "974:\tlearn: 0.0656642\ttotal: 886ms\tremaining: 22.7ms\n",
      "975:\tlearn: 0.0655787\ttotal: 887ms\tremaining: 21.8ms\n",
      "976:\tlearn: 0.0655147\ttotal: 888ms\tremaining: 20.9ms\n",
      "977:\tlearn: 0.0654914\ttotal: 889ms\tremaining: 20ms\n",
      "978:\tlearn: 0.0654270\ttotal: 889ms\tremaining: 19.1ms\n",
      "979:\tlearn: 0.0653835\ttotal: 890ms\tremaining: 18.2ms\n",
      "980:\tlearn: 0.0652721\ttotal: 891ms\tremaining: 17.3ms\n",
      "981:\tlearn: 0.0651434\ttotal: 892ms\tremaining: 16.3ms\n",
      "982:\tlearn: 0.0650735\ttotal: 892ms\tremaining: 15.4ms\n",
      "983:\tlearn: 0.0649759\ttotal: 893ms\tremaining: 14.5ms\n",
      "984:\tlearn: 0.0648137\ttotal: 894ms\tremaining: 13.6ms\n",
      "985:\tlearn: 0.0648076\ttotal: 895ms\tremaining: 12.7ms\n",
      "986:\tlearn: 0.0647181\ttotal: 896ms\tremaining: 11.8ms\n",
      "987:\tlearn: 0.0646108\ttotal: 897ms\tremaining: 10.9ms\n",
      "988:\tlearn: 0.0645549\ttotal: 898ms\tremaining: 9.98ms\n",
      "989:\tlearn: 0.0644641\ttotal: 898ms\tremaining: 9.07ms\n",
      "990:\tlearn: 0.0643335\ttotal: 899ms\tremaining: 8.17ms\n",
      "991:\tlearn: 0.0642182\ttotal: 900ms\tremaining: 7.26ms\n",
      "992:\tlearn: 0.0641486\ttotal: 901ms\tremaining: 6.35ms\n",
      "993:\tlearn: 0.0640872\ttotal: 902ms\tremaining: 5.44ms\n",
      "994:\tlearn: 0.0640254\ttotal: 903ms\tremaining: 4.54ms\n",
      "995:\tlearn: 0.0639561\ttotal: 903ms\tremaining: 3.63ms\n",
      "996:\tlearn: 0.0639171\ttotal: 904ms\tremaining: 2.72ms\n",
      "997:\tlearn: 0.0638095\ttotal: 905ms\tremaining: 1.81ms\n",
      "998:\tlearn: 0.0637794\ttotal: 906ms\tremaining: 906us\n",
      "999:\tlearn: 0.0637638\ttotal: 907ms\tremaining: 0us\n"
     ]
    },
    {
     "data": {
      "text/plain": [
       "<catboost.core.CatBoostRegressor at 0x7fd08384fb20>"
      ]
     },
     "execution_count": 9,
     "metadata": {},
     "output_type": "execute_result"
    }
   ],
   "source": [
    "#Train the Model \n",
    "prior_model = ctb.CatBoostRegressor()\n",
    "prior_model.fit(X_train,Y_train)"
   ]
  },
  {
   "cell_type": "code",
   "execution_count": 10,
   "id": "af65dcda",
   "metadata": {
    "execution": {
     "iopub.execute_input": "2022-03-11T10:54:07.299010Z",
     "iopub.status.busy": "2022-03-11T10:54:07.298607Z",
     "iopub.status.idle": "2022-03-11T10:54:07.306468Z",
     "shell.execute_reply": "2022-03-11T10:54:07.306705Z"
    },
    "id": "af65dcda",
    "papermill": {
     "duration": 0.020944,
     "end_time": "2022-03-11T10:54:07.306821",
     "exception": false,
     "start_time": "2022-03-11T10:54:07.285877",
     "status": "completed"
    },
    "tags": []
   },
   "outputs": [
    {
     "data": {
      "application/scrapbook.scrap.json+json": {
       "data": 0.07514700669891511,
       "encoder": "json",
       "name": "Prior Model MSE",
       "version": 1
      }
     },
     "metadata": {
      "scrapbook": {
       "data": true,
       "display": false,
       "name": "Prior Model MSE"
      }
     },
     "output_type": "display_data"
    },
    {
     "data": {
      "application/scrapbook.scrap.json+json": {
       "data": 0.0748053895303476,
       "encoder": "json",
       "name": "ABC Pre-generator MSE",
       "version": 1
      }
     },
     "metadata": {
      "scrapbook": {
       "data": true,
       "display": false,
       "name": "ABC Pre-generator MSE"
      }
     },
     "output_type": "display_data"
    },
    {
     "data": {
      "application/scrapbook.scrap.json+json": {
       "data": 0.19751698426499195,
       "encoder": "json",
       "name": "Prior Model MAE",
       "version": 1
      }
     },
     "metadata": {
      "scrapbook": {
       "data": true,
       "display": false,
       "name": "Prior Model MAE"
      }
     },
     "output_type": "display_data"
    },
    {
     "data": {
      "application/scrapbook.scrap.json+json": {
       "data": 0.19656953497723664,
       "encoder": "json",
       "name": "ABC Pre-generator MAE",
       "version": 1
      }
     },
     "metadata": {
      "scrapbook": {
       "data": true,
       "display": false,
       "name": "ABC Pre-generator MAE"
      }
     },
     "output_type": "display_data"
    }
   ],
   "source": [
    "y_pred = prior_model.predict(X_test)\n",
    "y_abc = y_pred + np.random.normal(0,variance, y_pred.shape)\n",
    "mse = mean_squared_error(y_pred,Y_test)\n",
    "sb.glue(\"Prior Model MSE\",mse)\n",
    "mse = mean_squared_error(y_abc,Y_test)\n",
    "sb.glue(\"ABC Pre-generator MSE\",mse)\n",
    "\n",
    "mae = mean_absolute_error(y_pred,Y_test)\n",
    "sb.glue(\"Prior Model MAE\",mae)\n",
    "mae = mean_absolute_error(y_abc,Y_test)\n",
    "sb.glue(\"ABC Pre-generator MAE\",mae)"
   ]
  },
  {
   "cell_type": "markdown",
   "id": "25609da2",
   "metadata": {
    "papermill": {
     "duration": 0.009728,
     "end_time": "2022-03-11T10:54:07.326545",
     "exception": false,
     "start_time": "2022-03-11T10:54:07.316817",
     "status": "completed"
    },
    "tags": []
   },
   "source": [
    "# ABC GAN Model"
   ]
  },
  {
   "cell_type": "code",
   "execution_count": 11,
   "id": "dfc3464d",
   "metadata": {
    "execution": {
     "iopub.execute_input": "2022-03-11T10:54:07.348913Z",
     "iopub.status.busy": "2022-03-11T10:54:07.348531Z",
     "iopub.status.idle": "2022-03-11T10:54:07.351259Z",
     "shell.execute_reply": "2022-03-11T10:54:07.351511Z"
    },
    "papermill": {
     "duration": 0.015323,
     "end_time": "2022-03-11T10:54:07.351619",
     "exception": false,
     "start_time": "2022-03-11T10:54:07.336296",
     "status": "completed"
    },
    "tags": []
   },
   "outputs": [],
   "source": [
    "gen = network.Generator(n_features+1).to(device)\n",
    "disc = network.Discriminator(n_features+1).to(device)\n",
    "\n",
    "criterion = torch.nn.BCELoss()\n",
    "gen_opt = torch.optim.Adam(gen.parameters(), lr=0.001, betas=(0.5, 0.999))\n",
    "disc_opt = torch.optim.Adam(disc.parameters(), lr=0.001, betas=(0.5, 0.999))"
   ]
  },
  {
   "cell_type": "code",
   "execution_count": 12,
   "id": "b75fdd85",
   "metadata": {
    "execution": {
     "iopub.execute_input": "2022-03-11T10:54:07.373748Z",
     "iopub.status.busy": "2022-03-11T10:54:07.373386Z",
     "iopub.status.idle": "2022-03-11T10:54:42.803203Z",
     "shell.execute_reply": "2022-03-11T10:54:42.803576Z"
    },
    "papermill": {
     "duration": 35.442018,
     "end_time": "2022-03-11T10:54:42.803695",
     "exception": false,
     "start_time": "2022-03-11T10:54:07.361677",
     "status": "completed"
    },
    "tags": []
   },
   "outputs": [
    {
     "data": {
      "image/png": "[encoded data removed]",
      "text/plain": [
       "<Figure size 432x288 with 1 Axes>"
      ]
     },
     "metadata": {
      "needs_background": "light"
     },
     "output_type": "display_data"
    },
    {
     "data": {
      "image/png": "[encoded data removed]",
      "text/plain": [
       "<Figure size 432x288 with 1 Axes>"
      ]
     },
     "metadata": {
      "needs_background": "light"
     },
     "output_type": "display_data"
    }
   ],
   "source": [
    "#Training the ABC_GAN \n",
    "ABC_train_test2.training_GAN(disc,gen,disc_opt,gen_opt,train_data,batch_size,n_epochs,criterion,prior_model,variance,0,device)"
   ]
  },
  {
   "cell_type": "code",
   "execution_count": 13,
   "id": "1fa7c368",
   "metadata": {
    "execution": {
     "iopub.execute_input": "2022-03-11T10:54:42.827880Z",
     "iopub.status.busy": "2022-03-11T10:54:42.827482Z",
     "iopub.status.idle": "2022-03-11T10:54:43.125489Z",
     "shell.execute_reply": "2022-03-11T10:54:43.125823Z"
    },
    "papermill": {
     "duration": 0.311449,
     "end_time": "2022-03-11T10:54:43.125943",
     "exception": false,
     "start_time": "2022-03-11T10:54:42.814494",
     "status": "completed"
    },
    "tags": []
   },
   "outputs": [
    {
     "data": {
      "application/scrapbook.scrap.json+json": {
       "data": 0.08678904352099237,
       "encoder": "json",
       "name": "ABC-GAN Model 1 MSE",
       "version": 1
      }
     },
     "metadata": {
      "scrapbook": {
       "data": true,
       "display": false,
       "name": "ABC-GAN Model 1 MSE"
      }
     },
     "output_type": "display_data"
    },
    {
     "data": {
      "application/scrapbook.scrap.json+json": {
       "data": 0.209944224351944,
       "encoder": "json",
       "name": "ABC-GAN Model 1 MAE",
       "version": 1
      }
     },
     "metadata": {
      "scrapbook": {
       "data": true,
       "display": false,
       "name": "ABC-GAN Model 1 MAE"
      }
     },
     "output_type": "display_data"
    },
    {
     "data": {
      "application/scrapbook.scrap.json+json": {
       "data": 21.41431088389829,
       "encoder": "json",
       "name": "ABC-GAN Model 1 Manhattan Distance",
       "version": 1
      }
     },
     "metadata": {
      "scrapbook": {
       "data": true,
       "display": false,
       "name": "ABC-GAN Model 1 Manhattan Distance"
      }
     },
     "output_type": "display_data"
    },
    {
     "data": {
      "application/scrapbook.scrap.json+json": {
       "data": 2.9752978602466644,
       "encoder": "json",
       "name": "ABC-GAN Model 1 Euclidean distance",
       "version": 1
      }
     },
     "metadata": {
      "scrapbook": {
       "data": true,
       "display": false,
       "name": "ABC-GAN Model 1 Euclidean distance"
      }
     },
     "output_type": "display_data"
    },
    {
     "data": {
      "application/scrapbook.scrap.json+json": {
       "data": [
        [
         0.08742812314834698,
         0.08671860553177918,
         0.0869289307245614,
         0.08571003099641854,
         0.08670506440495326,
         0.08678515440394627,
         0.0867455518258936,
         0.08677898804336794,
         0.08733831518949048,
         0.08688566322997153,
         0.08628588596350982,
         0.08692041979756496,
         0.08599583354893696,
         0.08668986828542251,
         0.08735285419806055,
         0.08768974925256455,
         0.0859567894693231,
         0.08707487261196538,
         0.0876990868570734,
         0.08743803577839346,
         0.08746199895330663,
         0.08702263394855615,
         0.08677128939491002,
         0.08588704488977641,
         0.08582020672245765,
         0.0863550033199176,
         0.08581024434702801,
         0.08670767347523958,
         0.08652520324638324,
         0.087302092938701,
         0.08710809991930842,
         0.0871029558150686,
         0.08680743485591126,
         0.08720548515581077,
         0.0871085752100791,
         0.08743232932499799,
         0.08645990215368192,
         0.08746429950566564,
         0.08717750599584254,
         0.08725786139220158,
         0.08623957646319338,
         0.08714373574552826,
         0.08670964397028418,
         0.08741696040214439,
         0.08645797741007176,
         0.08581295837894926,
         0.08709721174200259,
         0.08680262926960072,
         0.08692605799596503,
         0.08645127522704847,
         0.08674318721587003,
         0.08747862129419859,
         0.08616649076194213,
         0.08631270945774479,
         0.08720447668670675,
         0.08710956403443455,
         0.0871579655684405,
         0.08675506802883726,
         0.08616375133292901,
         0.08695833199875981,
         0.08606588343149611,
         0.0864262579471761,
         0.08621721193720758,
         0.08628624904110697,
         0.08688766299064371,
         0.08602653783691254,
         0.08733534357625773,
         0.08609286646482964,
         0.08598549850284398,
         0.08652946058994405,
         0.08665754005180569,
         0.0867910544495933,
         0.08572931196977458,
         0.08658599150770344,
         0.08673905697705167,
         0.08683988998692581,
         0.08720024872749679,
         0.08725418877065844,
         0.08731107661634688,
         0.08694490645537496,
         0.08603173840969461,
         0.08755609935827537,
         0.08612906364437227,
         0.08636616568261264,
         0.08728878894974995,
         0.08683851544828552,
         0.08657720923452988,
         0.08778692787712007,
         0.0862375496813635,
         0.08825513116101125,
         0.08738776445184061,
         0.08627353602932897,
         0.08796274350053135,
         0.08659498958902592,
         0.08656382009326818,
         0.08691518708269527,
         0.08665027917810617,
         0.08663857621250404,
         0.0874325076987967,
         0.0864876641739352
        ],
        [
         0.21152538884723304,
         0.20893777642106892,
         0.20953821688525232,
         0.2085717211422675,
         0.2096093114209818,
         0.20898267924420388,
         0.20967232886994003,
         0.20997945411021218,
         0.21017340773387866,
         0.2104339172114052,
         0.21010559176405272,
         0.2109821417423732,
         0.20718728124584054,
         0.2102435256226682,
         0.2092685089355298,
         0.21110466338109737,
         0.2086970999142995,
         0.2116372626019167,
         0.2103283884295938,
         0.21164927571354544,
         0.20991338174059695,
         0.21119911378870407,
         0.21033760085336717,
         0.20782343226978006,
         0.2086065034838576,
         0.20879586996035834,
         0.20985224651282325,
         0.20988262406385996,
         0.2093769214207343,
         0.21130226915884837,
         0.20972568854032195,
         0.21098013592920467,
         0.20988871370825699,
         0.21176866315962636,
         0.20975235668832765,
         0.21057294636015214,
         0.209225384828945,
         0.21242751489740377,
         0.2103618939096729,
         0.2100039107871114,
         0.20831122514152645,
         0.20957229631569455,
         0.208408964523936,
         0.21027549515094826,
         0.20933769407736905,
         0.2075960340124427,
         0.2108043506193687,
         0.20994995046845255,
         0.21010858154691317,
         0.20879536854358866,
         0.20978287868566958,
         0.20947773091714172,
         0.20891657915404616,
         0.21006221125158026,
         0.21072547848099002,
         0.2109629102599095,
         0.21056221098657332,
         0.20887902179988577,
         0.2080598397399573,
         0.21033878527654737,
         0.2084232596680522,
         0.2093812656570591,
         0.21070658936000922,
         0.2083938498889991,
         0.21032051375026212,
         0.2079318581952476,
         0.21001079167221107,
         0.20933488126405897,
         0.2089610280396015,
         0.20986533787685865,
         0.21026513917262063,
         0.21083271176572524,
         0.20706179444038986,
         0.2093537947089941,
         0.21115725080245265,
         0.21056846987602174,
         0.21144285478501343,
         0.2096910738733177,
         0.21061221504693522,
         0.210529467145748,
         0.20969518155370856,
         0.2120930096499768,
         0.2078703348798787,
         0.20922987314635047,
         0.2122363142450066,
         0.20971518979572198,
         0.21010004632248014,
         0.21148660696823807,
         0.2095047899649716,
         0.2124282258434915,
         0.2112526151844684,
         0.20993702553723956,
         0.21127782489958347,
         0.2099434595883769,
         0.2104421268016392,
         0.21005828296948298,
         0.2098255289499374,
         0.21123578200372412,
         0.21008686752369007,
         0.20980648212500064
        ],
        [
         21.57558966241777,
         21.31165319494903,
         21.372898122295737,
         21.274315556511283,
         21.380149764940143,
         21.316233282908797,
         21.386577544733882,
         21.417904319241643,
         21.437687588855624,
         21.46425955556333,
         21.430770359933376,
         21.520178457722068,
         21.133102687075734,
         21.44483961351216,
         21.34538791142404,
         21.53267566487193,
         21.28710419125855,
         21.587000785395503,
         21.45349561981857,
         21.588226122781634,
         21.41116493754089,
         21.542309606447816,
         21.454435287043452,
         21.197990091517568,
         21.277863355353475,
         21.29717873595655,
         21.40492914430797,
         21.408027654513717,
         21.3564459849149,
         21.552831454202533,
         21.392020231112838,
         21.519973864778876,
         21.40864879824221,
         21.60040364228189,
         21.39474038220942,
         21.47844052873552,
         21.34098925255239,
         21.667606519535184,
         21.456913178786635,
         21.420398900285363,
         21.247744964435697,
         21.376374224200845,
         21.257714381441474,
         21.448100505396724,
         21.352444795891643,
         21.174795469269156,
         21.502043763175607,
         21.41489494778216,
         21.431075317785144,
         21.297127591446042,
         21.397853625938296,
         21.366728553548455,
         21.309491073712707,
         21.426345547661185,
         21.493998805060983,
         21.518216846510768,
         21.47734552063048,
         21.305660223588347,
         21.222103653475642,
         21.45455609820783,
         21.259172486141324,
         21.35688909702003,
         21.49207211472094,
         21.256172688677907,
         21.452692402526736,
         21.209049535915256,
         21.42110075056553,
         21.352157888934016,
         21.314024860039353,
         21.406264463439584,
         21.447044195607305,
         21.504936600103974,
         21.120303032919765,
         21.354087060317397,
         21.53803958185017,
         21.477983927354217,
         21.56717118807137,
         21.388489535078406,
         21.482445934787393,
         21.474005648866296,
         21.388908518478274,
         21.633486984297633,
         21.202774157747626,
         21.34144706092775,
         21.648104052990675,
         21.390949359163642,
         21.430204724892974,
         21.571633910760283,
         21.369488576427102,
         21.667679036036134,
         21.547766748815775,
         21.413576604798436,
         21.550338139757514,
         21.414232878014445,
         21.4650969337672,
         21.425944862887263,
         21.402203952893615,
         21.54604976437986,
         21.428860487416387,
         21.400261176750064
        ],
        [
         2.986246567370382,
         2.974104531492038,
         2.9777090075938015,
         2.9567588947417898,
         2.9738723189311997,
         2.9752454939386963,
         2.9745665711564,
         2.97513979174484,
         2.9847124064686743,
         2.9769678616768935,
         2.966674968424751,
         2.9775632351558254,
         2.961684490622114,
         2.973611703822995,
         2.984960825237439,
         2.9907113574802864,
         2.96101207796776,
         2.9802075441855505,
         2.9908705855355042,
         2.986415853392848,
         2.9868250523318696,
         2.9793134549343288,
         2.9750078181881845,
         2.959810564674232,
         2.9586586632612213,
         2.967862924501668,
         2.9584869314223536,
         2.973917062474076,
         2.9707862143094528,
         2.984093410023805,
         2.980776105608983,
         2.9806880905483877,
         2.975627388518756,
         2.982441866305644,
         2.980784237650902,
         2.9863184008323356,
         2.969664967580612,
         2.9868643339759995,
         2.9819633819978293,
         2.9833373697931913,
         2.9658787566665166,
         2.981385759348139,
         2.9739508544979327,
         2.986055920611456,
         2.969631912514969,
         2.958533717004561,
         2.980589807015427,
         2.9755450232687237,
         2.977659805214228,
         2.969516808027687,
         2.9745260288016877,
         2.987108865108243,
         2.964621739399159,
         2.9671360542937646,
         2.9824246213515755,
         2.980801155983458,
         2.9816291667444044,
         2.9747297253601706,
         2.964574612985607,
         2.9782125283252534,
         2.962890499160001,
         2.9690871173833817,
         2.9654941607757674,
         2.966681210071771,
         2.977002120430158,
         2.9622131691296425,
         2.9846616298633064,
         2.9633549195823,
         2.961506516503059,
         2.970859299962604,
         2.9730571950913047,
         2.9753466275139298,
         2.9570914461539743,
         2.9718295936654493,
         2.974455212582511,
         2.9761835929032383,
         2.982352321608678,
         2.983274585854805,
         2.984246942675384,
         2.977982615538285,
         2.962302705293442,
         2.9884313836098166,
         2.9639778156602268,
         2.968054733259898,
         2.9838660279701714,
         2.9761600386614164,
         2.9716788759760115,
         2.992368066175391,
         2.965843904776358,
         3.000337210785338,
         2.9855572300807998,
         2.966462653564267,
         2.9953630559673723,
         2.971984007036485,
         2.9714490824366067,
         2.9774736073448103,
         2.972932639022759,
         2.972731870464508,
         2.986321447077869,
         2.9701417046567644
        ]
       ],
       "encoder": "json",
       "name": "ABC_GAN_1 Metrics",
       "version": 1
      }
     },
     "metadata": {
      "scrapbook": {
       "data": true,
       "display": false,
       "name": "ABC_GAN_1 Metrics"
      }
     },
     "output_type": "display_data"
    },
    {
     "name": "stdout",
     "output_type": "stream",
     "text": [
      "MSE\n",
      "0.08678904352099237\n"
     ]
    }
   ],
   "source": [
    "ABC_GAN1_metrics=ABC_train_test2.test_generator(gen,test_data,prior_model,variance,0,\"1\",device)\n",
    "sb.glue(\"ABC_GAN_1 Metrics\",ABC_GAN1_metrics)\n",
    "\n",
    "print(\"MSE\")\n",
    "print(mean(ABC_GAN1_metrics[0]))"
   ]
  },
  {
   "cell_type": "code",
   "execution_count": 14,
   "id": "eb22ce5c",
   "metadata": {
    "execution": {
     "iopub.execute_input": "2022-03-11T10:54:43.153236Z",
     "iopub.status.busy": "2022-03-11T10:54:43.152880Z",
     "iopub.status.idle": "2022-03-11T10:54:43.483318Z",
     "shell.execute_reply": "2022-03-11T10:54:43.483773Z"
    },
    "papermill": {
     "duration": 0.345371,
     "end_time": "2022-03-11T10:54:43.483897",
     "exception": false,
     "start_time": "2022-03-11T10:54:43.138526",
     "status": "completed"
    },
    "tags": []
   },
   "outputs": [
    {
     "data": {
      "image/png": "[encoded data removed]",
      "text/plain": [
       "<Figure size 432x288 with 1 Axes>"
      ]
     },
     "metadata": {
      "needs_background": "light"
     },
     "output_type": "display_data"
    },
    {
     "data": {
      "image/png": "[encoded data removed]",
      "text/plain": [
       "<Figure size 432x288 with 1 Axes>"
      ]
     },
     "metadata": {
      "needs_background": "light"
     },
     "output_type": "display_data"
    },
    {
     "data": {
      "image/png": "[encoded data removed]",
      "text/plain": [
       "<Figure size 432x288 with 1 Axes>"
      ]
     },
     "metadata": {
      "needs_background": "light"
     },
     "output_type": "display_data"
    },
    {
     "data": {
      "image/png": "[encoded data removed]",
      "text/plain": [
       "<Figure size 432x288 with 1 Axes>"
      ]
     },
     "metadata": {
      "needs_background": "light"
     },
     "output_type": "display_data"
    }
   ],
   "source": [
    "sanityChecks.discProbVsError(train_data,disc,device)\n",
    "sanityChecks.discProbVsError(test_data,disc,device)"
   ]
  },
  {
   "cell_type": "markdown",
   "id": "130f3a4d",
   "metadata": {
    "id": "130f3a4d",
    "papermill": {
     "duration": 0.014451,
     "end_time": "2022-03-11T10:54:43.513599",
     "exception": false,
     "start_time": "2022-03-11T10:54:43.499148",
     "status": "completed"
    },
    "tags": []
   },
   "source": [
    "# ABC - GAN Model with skip connection"
   ]
  },
  {
   "cell_type": "code",
   "execution_count": 15,
   "id": "4e43dad1",
   "metadata": {
    "execution": {
     "iopub.execute_input": "2022-03-11T10:54:43.545836Z",
     "iopub.status.busy": "2022-03-11T10:54:43.545459Z",
     "iopub.status.idle": "2022-03-11T10:54:43.547918Z",
     "shell.execute_reply": "2022-03-11T10:54:43.548150Z"
    },
    "id": "4e43dad1",
    "papermill": {
     "duration": 0.020085,
     "end_time": "2022-03-11T10:54:43.548258",
     "exception": false,
     "start_time": "2022-03-11T10:54:43.528173",
     "status": "completed"
    },
    "tags": []
   },
   "outputs": [],
   "source": [
    "#Generator\n",
    "gen3 = network.GeneratorWithSkipConnection(n_features+1).to(device)\n",
    "constraints=network.weightConstraint()\n",
    "#Discriminator \n",
    "disc3 = network.Discriminator(n_features+1).to(device)\n",
    "\n",
    "criterion = torch.nn.BCELoss()\n",
    "gen_opt = torch.optim.Adam(gen3.parameters(), lr=0.001, betas=(0.5, 0.999))\n",
    "disc_opt = torch.optim.Adam(disc3.parameters(), lr=0.001, betas=(0.5, 0.999))\n"
   ]
  },
  {
   "cell_type": "code",
   "execution_count": 16,
   "id": "26acbc37",
   "metadata": {
    "execution": {
     "iopub.execute_input": "2022-03-11T10:54:43.579629Z",
     "iopub.status.busy": "2022-03-11T10:54:43.579271Z",
     "iopub.status.idle": "2022-03-11T10:57:08.589891Z",
     "shell.execute_reply": "2022-03-11T10:57:08.590273Z"
    },
    "id": "26acbc37",
    "papermill": {
     "duration": 145.027572,
     "end_time": "2022-03-11T10:57:08.590399",
     "exception": false,
     "start_time": "2022-03-11T10:54:43.562827",
     "status": "completed"
    },
    "tags": []
   },
   "outputs": [
    {
     "data": {
      "image/png": "[encoded data removed]",
      "text/plain": [
       "<Figure size 432x288 with 1 Axes>"
      ]
     },
     "metadata": {
      "needs_background": "light"
     },
     "output_type": "display_data"
    },
    {
     "data": {
      "image/png": "[encoded data removed]",
      "text/plain": [
       "<Figure size 432x288 with 1 Axes>"
      ]
     },
     "metadata": {
      "needs_background": "light"
     },
     "output_type": "display_data"
    }
   ],
   "source": [
    "ABC_train_test2.training_GAN_skip_connection(disc3,gen3,disc_opt,gen_opt,train_data,batch_size,n_epochs,criterion,prior_model,variance,0,device)"
   ]
  },
  {
   "cell_type": "code",
   "execution_count": 17,
   "id": "c5e0717b",
   "metadata": {
    "execution": {
     "iopub.execute_input": "2022-03-11T10:57:08.624901Z",
     "iopub.status.busy": "2022-03-11T10:57:08.624504Z",
     "iopub.status.idle": "2022-03-11T10:57:09.424144Z",
     "shell.execute_reply": "2022-03-11T10:57:09.424444Z"
    },
    "id": "c5e0717b",
    "papermill": {
     "duration": 0.818481,
     "end_time": "2022-03-11T10:57:09.424568",
     "exception": false,
     "start_time": "2022-03-11T10:57:08.606087",
     "status": "completed"
    },
    "tags": []
   },
   "outputs": [
    {
     "data": {
      "application/scrapbook.scrap.json+json": {
       "data": 0.07526220769707054,
       "encoder": "json",
       "name": "ABC-GAN Model 3 MSE",
       "version": 1
      }
     },
     "metadata": {
      "scrapbook": {
       "data": true,
       "display": false,
       "name": "ABC-GAN Model 3 MSE"
      }
     },
     "output_type": "display_data"
    },
    {
     "data": {
      "application/scrapbook.scrap.json+json": {
       "data": 0.19772411827486114,
       "encoder": "json",
       "name": "ABC-GAN Model 3 MAE",
       "version": 1
      }
     },
     "metadata": {
      "scrapbook": {
       "data": true,
       "display": false,
       "name": "ABC-GAN Model 3 MAE"
      }
     },
     "output_type": "display_data"
    },
    {
     "data": {
      "application/scrapbook.scrap.json+json": {
       "data": 20.167860064035835,
       "encoder": "json",
       "name": "ABC-GAN Model 3 Manhattan Distance",
       "version": 1
      }
     },
     "metadata": {
      "scrapbook": {
       "data": true,
       "display": false,
       "name": "ABC-GAN Model 3 Manhattan Distance"
      }
     },
     "output_type": "display_data"
    },
    {
     "data": {
      "application/scrapbook.scrap.json+json": {
       "data": 2.770673463380205,
       "encoder": "json",
       "name": "ABC-GAN Model 3 Euclidean distance",
       "version": 1
      }
     },
     "metadata": {
      "scrapbook": {
       "data": true,
       "display": false,
       "name": "ABC-GAN Model 3 Euclidean distance"
      }
     },
     "output_type": "display_data"
    },
    {
     "data": {
      "application/scrapbook.scrap.json+json": {
       "data": [
        [
         0.07554175876681195,
         0.0754547061510251,
         0.07432071847647197,
         0.07465710244866193,
         0.07468131330968958,
         0.07549216118174283,
         0.07597636882881248,
         0.07485343391110674,
         0.07671030831785738,
         0.07627474641740928,
         0.07449986862678626,
         0.07515464331275024,
         0.07542308040897522,
         0.07463071701858866,
         0.07489679118896883,
         0.07593106874772788,
         0.0752097818346849,
         0.07593224241405357,
         0.07441825370918297,
         0.07567491221569651,
         0.07621963307803026,
         0.07525941530552059,
         0.07532974467618353,
         0.07567418999349958,
         0.07464579079657847,
         0.07519119374679233,
         0.07450316349123938,
         0.07515992481101628,
         0.07417969877434048,
         0.07469348211722811,
         0.07555630950466424,
         0.07599952289271313,
         0.07553625727433018,
         0.07588026572261733,
         0.07423253566600488,
         0.07533700062646669,
         0.07507166352801875,
         0.07490772549385134,
         0.0771196416236621,
         0.0759751969091378,
         0.07522793456344636,
         0.07500210423837106,
         0.0749822393605455,
         0.07513817455508578,
         0.07500769016831517,
         0.07472777277077611,
         0.07565263100244277,
         0.07551753003625987,
         0.0747195634591082,
         0.07485478881343849,
         0.07541662816903741,
         0.07528562084981562,
         0.07580048515651827,
         0.07506708887395133,
         0.07544098040771968,
         0.0739963040376583,
         0.07573904471313704,
         0.07449523082503755,
         0.07540061409812804,
         0.07424833805073239,
         0.07486011087170573,
         0.07463775622680795,
         0.07470262938128779,
         0.07525161373592663,
         0.07571317730559132,
         0.07493327301384366,
         0.0756007076710637,
         0.07605016234456972,
         0.07616217730214787,
         0.07572778121850282,
         0.07547027951816483,
         0.07550656697463853,
         0.07608020034214968,
         0.07469682369310514,
         0.07498512111018914,
         0.07549705826420776,
         0.07549937863435029,
         0.07482367481785508,
         0.074177341351053,
         0.07530931722295979,
         0.07575902653317323,
         0.07456997575602921,
         0.07577004344511051,
         0.07490972246444762,
         0.07561359310235254,
         0.07543984208575204,
         0.0758559839814171,
         0.07476590407191878,
         0.07486461194219961,
         0.07509146220734174,
         0.07598501084001574,
         0.07498273626717777,
         0.07537970632994727,
         0.07586796152250086,
         0.07524729398980821,
         0.07502298413653063,
         0.07641406345199654,
         0.07480689671273914,
         0.07514227609669981,
         0.07511942630135068
        ],
        [
         0.19676588313635804,
         0.19917354250655456,
         0.19694293439433927,
         0.19719897944242784,
         0.19668265068378554,
         0.19811097356603782,
         0.198816846387333,
         0.19673175768762388,
         0.19940768315598903,
         0.20001876930130974,
         0.19666659390763835,
         0.1972969327625298,
         0.197940207346726,
         0.19687299280400006,
         0.19745358450831296,
         0.19782632099711062,
         0.1973703276210775,
         0.19858113049778303,
         0.19537231913429923,
         0.19733746369442373,
         0.199060609876338,
         0.19765869381965376,
         0.19852810725569725,
         0.19922648473441892,
         0.19786073192132309,
         0.19747971080362856,
         0.19643843324193572,
         0.19674394826528013,
         0.196771050798798,
         0.19750312638215667,
         0.1974886081740146,
         0.19949628441484973,
         0.19768943920886764,
         0.19920499502183578,
         0.19688850360940777,
         0.19822764918596172,
         0.19740919086510914,
         0.1968603270703598,
         0.2003656277003899,
         0.19854360159746753,
         0.197269220991681,
         0.19791776198875524,
         0.19684803928248584,
         0.19810353889696153,
         0.19848792086065492,
         0.1983734808232197,
         0.1984512504331731,
         0.19825463783476438,
         0.1974006065409448,
         0.19756679768005259,
         0.19833844223096236,
         0.19743488169978282,
         0.197682523876246,
         0.19700153255903655,
         0.1991071421721512,
         0.1955172504805138,
         0.1980703114394975,
         0.19623883660453573,
         0.19819532149224817,
         0.19638804994140038,
         0.19634244194500805,
         0.1968597763688212,
         0.1979906450199219,
         0.19753906645243713,
         0.1978244698496864,
         0.19702550885438755,
         0.19835370979454442,
         0.19897345029612018,
         0.19948969342216266,
         0.19681316909982877,
         0.197552604970577,
         0.19769831051919884,
         0.19898119246057583,
         0.19581403304347952,
         0.19676802467095994,
         0.19964793014600324,
         0.19741726586068456,
         0.19639430078677833,
         0.19599312520985418,
         0.1988837988590639,
         0.19955979800051507,
         0.19673984765312544,
         0.19833039492368698,
         0.195915008810641,
         0.19735968358329456,
         0.19813563208007104,
         0.198945146076856,
         0.19599907052493198,
         0.19689394849325148,
         0.1968997890362516,
         0.1993819964209608,
         0.19663515265696618,
         0.1982912550333376,
         0.19871666689640752,
         0.19827043853115803,
         0.19739028873086414,
         0.19967226719931133,
         0.1979873978393609,
         0.1962237629865972,
         0.19804119906621054
        ],
        [
         20.07012007990852,
         20.315701335668564,
         20.088179308222607,
         20.11429590312764,
         20.061630369746126,
         20.207319303735858,
         20.279318331507966,
         20.066639284137636,
         20.33958368191088,
         20.401914468733594,
         20.059992578579113,
         20.12428714177804,
         20.18990114936605,
         20.081045266008005,
         20.140265619847924,
         20.178284741705284,
         20.131773417349905,
         20.255275310773868,
         19.92797655169852,
         20.12842129683122,
         20.304182207386475,
         20.161186769604683,
         20.24986694008112,
         20.32110144291073,
         20.181794655974954,
         20.142930501970113,
         20.036720190677443,
         20.067882723058574,
         20.070647181477398,
         20.14531889097998,
         20.14383803374949,
         20.348621010314673,
         20.1643227993045,
         20.31890949222725,
         20.082627368159592,
         20.219220216968097,
         20.135737468241132,
         20.0797533611767,
         20.43729402543977,
         20.25144736294169,
         20.121460541151464,
         20.187611722853035,
         20.078500006813556,
         20.206560967490077,
         20.2457679277868,
         20.23409504396841,
         20.242027544183657,
         20.221973059145967,
         20.13486186717637,
         20.151813363365363,
         20.23052110755816,
         20.138357933377847,
         20.16361743537709,
         20.094156321021728,
         20.30892850155942,
         19.942759549012408,
         20.203171766828746,
         20.016361333662644,
         20.215922792209312,
         20.03158109402284,
         20.026929078390822,
         20.079697189619765,
         20.195045792032033,
         20.148984778148588,
         20.178095924668014,
         20.09660190314753,
         20.23207839904353,
         20.295291930204257,
         20.34794872906059,
         20.074943248182535,
         20.150365706998855,
         20.16522767295828,
         20.296081630978733,
         19.97303137043491,
         20.070338516437914,
         20.36408887489233,
         20.136561117789824,
         20.03221868025139,
         19.991298771405127,
         20.286147483624518,
         20.355099396052537,
         20.067464460618794,
         20.229700282216072,
         19.98333089868538,
         20.130687725496045,
         20.209834472167245,
         20.292404899839312,
         19.99190519354306,
         20.08318274631165,
         20.083778481697664,
         20.336963634938,
         20.05678557101055,
         20.225708013400435,
         20.269100023433566,
         20.223584730178118,
         20.133809450548142,
         20.366571254329756,
         20.19471457961481,
         20.014823824632913,
         20.200202304753475
        ],
        [
         2.7758349003884972,
         2.7742350346364963,
         2.7533095148566464,
         2.759533375366842,
         2.75998078935132,
         2.7749235017451865,
         2.783808474112196,
         2.7631594704129703,
         2.7972220949401665,
         2.7892694625252226,
         2.7566259448703225,
         2.7687133506198367,
         2.773653583581676,
         2.7590456929699516,
         2.763959605579434,
         2.782978442652448,
         2.7697288219495166,
         2.782999950814492,
         2.755115583480421,
         2.7782802317262822,
         2.7882615684255816,
         2.770642589935248,
         2.771936860206365,
         2.778266974093195,
         2.7593243124451687,
         2.7693865317381783,
         2.7566869020812677,
         2.768810634681191,
         2.7506961437030317,
         2.7602056401574986,
         2.776102226049277,
         2.784232629479214,
         2.7757338204485094,
         2.7820472863894614,
         2.751675605505216,
         2.7720703569533733,
         2.7671844318472725,
         2.7641613557049878,
         2.804675283453244,
         2.783787004196272,
         2.7700630544216005,
         2.7659021371541415,
         2.765535827787382,
         2.7684099776981643,
         2.7660051332505056,
         2.7608391518918958,
         2.7778711925230013,
         2.7753897138417343,
         2.7606875000312945,
         2.7631844779114414,
         2.7735349417740918,
         2.771124920800431,
         2.7805843785011923,
         2.7671001183807995,
         2.7739826966993517,
         2.747293761475308,
         2.779457242114002,
         2.756540140131072,
         2.7732404580218177,
         2.751968473870059,
         2.7632827052102327,
         2.759175807217512,
         2.760374647922154,
         2.770498980520389,
         2.77898256294823,
         2.7646326785690807,
         2.7769177485925822,
         2.7851600598791646,
         2.787210448606112,
         2.779250561623994,
         2.7745213120199335,
         2.775188251526936,
         2.7857100414255727,
         2.7602673813775227,
         2.7655889704074412,
         2.775013503201235,
         2.775056147306524,
         2.762610148287524,
         2.7506524349338295,
         2.771560996395695,
         2.7798238624746836,
         2.7579226833098454,
         2.780025976749367,
         2.7641982004504775,
         2.777154388297481,
         2.773961768436383,
         2.7816021221778904,
         2.7615434480260697,
         2.7633657771102906,
         2.7675493031107608,
         2.7839667932074197,
         2.765544991362847,
         2.7728559366931815,
         2.781821718819358,
         2.770419460471724,
         2.7662871112605294,
         2.7918156228704727,
         2.762300393639221,
         2.768485535787279,
         2.7680645734407583
        ]
       ],
       "encoder": "json",
       "name": "ABC_GAN_3 Metrics",
       "version": 1
      }
     },
     "metadata": {
      "scrapbook": {
       "data": true,
       "display": false,
       "name": "ABC_GAN_3 Metrics"
      }
     },
     "output_type": "display_data"
    },
    {
     "name": "stdout",
     "output_type": "stream",
     "text": [
      "MSE\n",
      "0.07526220769707054\n"
     ]
    }
   ],
   "source": [
    "ABC_GAN3_metrics=ABC_train_test2.test_generator(gen3,test_data,prior_model,variance,0,\"3\",device)\n",
    "sb.glue(\"ABC_GAN_3 Metrics\",ABC_GAN3_metrics)\n",
    "\n",
    "print(\"MSE\")\n",
    "print(mean(ABC_GAN3_metrics[0]))"
   ]
  },
  {
   "cell_type": "code",
   "execution_count": 18,
   "id": "c8e46b48",
   "metadata": {
    "execution": {
     "iopub.execute_input": "2022-03-11T10:57:09.461275Z",
     "iopub.status.busy": "2022-03-11T10:57:09.460890Z",
     "iopub.status.idle": "2022-03-11T10:57:09.777601Z",
     "shell.execute_reply": "2022-03-11T10:57:09.777952Z"
    },
    "id": "c8e46b48",
    "papermill": {
     "duration": 0.3361,
     "end_time": "2022-03-11T10:57:09.778077",
     "exception": false,
     "start_time": "2022-03-11T10:57:09.441977",
     "status": "completed"
    },
    "tags": []
   },
   "outputs": [
    {
     "data": {
      "image/png": "[encoded data removed]",
      "text/plain": [
       "<Figure size 432x288 with 1 Axes>"
      ]
     },
     "metadata": {
      "needs_background": "light"
     },
     "output_type": "display_data"
    },
    {
     "data": {
      "image/png": "[encoded data removed]",
      "text/plain": [
       "<Figure size 432x288 with 1 Axes>"
      ]
     },
     "metadata": {
      "needs_background": "light"
     },
     "output_type": "display_data"
    },
    {
     "data": {
      "image/png": "[encoded data removed]",
      "text/plain": [
       "<Figure size 432x288 with 1 Axes>"
      ]
     },
     "metadata": {
      "needs_background": "light"
     },
     "output_type": "display_data"
    },
    {
     "data": {
      "image/png": "[encoded data removed]",
      "text/plain": [
       "<Figure size 432x288 with 1 Axes>"
      ]
     },
     "metadata": {
      "needs_background": "light"
     },
     "output_type": "display_data"
    }
   ],
   "source": [
    "sanityChecks.discProbVsError(train_data,disc3,device)\n",
    "sanityChecks.discProbVsError(test_data,disc3,device)"
   ]
  },
  {
   "cell_type": "markdown",
   "id": "a5bd74c3",
   "metadata": {
    "id": "a5bd74c3",
    "papermill": {
     "duration": 0.0193,
     "end_time": "2022-03-11T10:57:09.817183",
     "exception": false,
     "start_time": "2022-03-11T10:57:09.797883",
     "status": "completed"
    },
    "tags": []
   },
   "source": [
    "## Skip Connection Model Analysis - ABC-GAN "
   ]
  },
  {
   "cell_type": "markdown",
   "id": "5744a8bf",
   "metadata": {
    "id": "5744a8bf",
    "papermill": {
     "duration": 0.019142,
     "end_time": "2022-03-11T10:57:09.855610",
     "exception": false,
     "start_time": "2022-03-11T10:57:09.836468",
     "status": "completed"
    },
    "tags": []
   },
   "source": [
    "### Weight Analysis \n",
    "\n",
    "Study the weights of the skip connection layer\n",
    "\n",
    "Equation of the skip connection is \n",
    "\n",
    "$output = y_{gan} * w + y_{abc} * (1-w)$"
   ]
  },
  {
   "cell_type": "code",
   "execution_count": 19,
   "id": "52c31dea",
   "metadata": {
    "execution": {
     "iopub.execute_input": "2022-03-11T10:57:09.896823Z",
     "iopub.status.busy": "2022-03-11T10:57:09.896454Z",
     "iopub.status.idle": "2022-03-11T10:57:09.899720Z",
     "shell.execute_reply": "2022-03-11T10:57:09.899959Z"
    },
    "id": "52c31dea",
    "papermill": {
     "duration": 0.025328,
     "end_time": "2022-03-11T10:57:09.900070",
     "exception": false,
     "start_time": "2022-03-11T10:57:09.874742",
     "status": "completed"
    },
    "tags": []
   },
   "outputs": [
    {
     "name": "stdout",
     "output_type": "stream",
     "text": [
      "Weight of the node at skip connection\n",
      "Parameter containing:\n",
      "tensor([[0.]], requires_grad=True)\n"
     ]
    },
    {
     "data": {
      "application/scrapbook.scrap.json+json": {
       "data": 0.0,
       "encoder": "json",
       "name": "Skip Connection Weight",
       "version": 1
      }
     },
     "metadata": {
      "scrapbook": {
       "data": true,
       "display": false,
       "name": "Skip Connection Weight"
      }
     },
     "output_type": "display_data"
    }
   ],
   "source": [
    "print(\"Weight of the node at skip connection\")\n",
    "for name,param in gen3.named_parameters():\n",
    "    if(name == \"skipNode.weight\"):\n",
    "        print(param)\n",
    "        sb.glue(\"Skip Connection Weight\",param.item())"
   ]
  }
 ],
 "metadata": {
  "colab": {
   "collapsed_sections": [],
   "name": "ABC_GAN_Model-Catboost_Pre-gen.ipynb",
   "provenance": []
  },
  "interpreter": {
   "hash": "31f2aee4e71d21fbe5cf8b01ff0e069b9275f58929596ceb00d14d90e3e16cd6"
  },
  "kernelspec": {
   "display_name": "Python 3 (ipykernel)",
   "language": "python",
   "name": "python3"
  },
  "language_info": {
   "codemirror_mode": {
    "name": "ipython",
    "version": 3
   },
   "file_extension": ".py",
   "mimetype": "text/x-python",
   "name": "python",
   "nbconvert_exporter": "python",
   "pygments_lexer": "ipython3",
   "version": "3.8.11"
  },
  "papermill": {
   "default_parameters": {},
   "duration": 186.872939,
   "end_time": "2022-03-11T10:57:10.230394",
   "environment_variables": {},
   "exception": null,
   "input_path": "ABC_GAN-Catboost.ipynb",
   "output_path": "./ABC_GAN_Catboost/ABC-GAN_output_9_2.ipynb",
   "parameters": {
    "variance": 0.01
   },
   "start_time": "2022-03-11T10:54:03.357455",
   "version": "2.3.3"
  }
 },
 "nbformat": 4,
 "nbformat_minor": 5
}