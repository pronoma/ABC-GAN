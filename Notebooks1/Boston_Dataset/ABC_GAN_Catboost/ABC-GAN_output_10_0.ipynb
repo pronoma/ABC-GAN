{
 "cells": [
  {
   "cell_type": "markdown",
   "id": "622780e6",
   "metadata": {
    "id": "622780e6",
    "papermill": {
     "duration": 0.035054,
     "end_time": "2022-03-11T10:57:12.237516",
     "exception": false,
     "start_time": "2022-03-11T10:57:12.202462",
     "status": "completed"
    },
    "tags": []
   },
   "source": [
    "## Import Libraries "
   ]
  },
  {
   "cell_type": "code",
   "execution_count": 1,
   "id": "a62397e3",
   "metadata": {
    "execution": {
     "iopub.execute_input": "2022-03-11T10:57:12.273595Z",
     "iopub.status.busy": "2022-03-11T10:57:12.273089Z",
     "iopub.status.idle": "2022-03-11T10:57:12.275579Z",
     "shell.execute_reply": "2022-03-11T10:57:12.275923Z"
    },
    "id": "a62397e3",
    "papermill": {
     "duration": 0.022136,
     "end_time": "2022-03-11T10:57:12.276123",
     "exception": false,
     "start_time": "2022-03-11T10:57:12.253987",
     "status": "completed"
    },
    "tags": []
   },
   "outputs": [],
   "source": [
    "import warnings\n",
    "import sys\n",
    "sys.path.insert(0, '../../src')\n",
    "warnings.filterwarnings('ignore')"
   ]
  },
  {
   "cell_type": "code",
   "execution_count": 2,
   "id": "d6a4e155",
   "metadata": {
    "execution": {
     "iopub.execute_input": "2022-03-11T10:57:12.296533Z",
     "iopub.status.busy": "2022-03-11T10:57:12.296118Z",
     "iopub.status.idle": "2022-03-11T10:57:14.051511Z",
     "shell.execute_reply": "2022-03-11T10:57:14.051768Z"
    },
    "id": "d6a4e155",
    "papermill": {
     "duration": 1.76633,
     "end_time": "2022-03-11T10:57:14.051892",
     "exception": false,
     "start_time": "2022-03-11T10:57:12.285562",
     "status": "completed"
    },
    "tags": []
   },
   "outputs": [],
   "source": [
    "import ABC_train_test2\n",
    "import bostonDataset\n",
    "import network\n",
    "import dataset\n",
    "import sanityChecks\n",
    "import torch \n",
    "import scrapbook as sb\n",
    "from statistics import mean \n",
    "import catboost as ctb \n",
    "from sklearn.model_selection import train_test_split\n",
    "from sklearn.metrics import mean_squared_error,mean_absolute_error\n",
    "import numpy as np"
   ]
  },
  {
   "cell_type": "markdown",
   "id": "2fa5b0f7",
   "metadata": {
    "id": "2fa5b0f7",
    "papermill": {
     "duration": 0.006767,
     "end_time": "2022-03-11T10:57:14.065711",
     "exception": false,
     "start_time": "2022-03-11T10:57:14.058944",
     "status": "completed"
    },
    "tags": []
   },
   "source": [
    "## Parameters "
   ]
  },
  {
   "cell_type": "code",
   "execution_count": 3,
   "id": "783186fb",
   "metadata": {
    "execution": {
     "iopub.execute_input": "2022-03-11T10:57:14.081395Z",
     "iopub.status.busy": "2022-03-11T10:57:14.080936Z",
     "iopub.status.idle": "2022-03-11T10:57:14.082048Z",
     "shell.execute_reply": "2022-03-11T10:57:14.082291Z"
    },
    "id": "783186fb",
    "papermill": {
     "duration": 0.010013,
     "end_time": "2022-03-11T10:57:14.082399",
     "exception": false,
     "start_time": "2022-03-11T10:57:14.072386",
     "status": "completed"
    },
    "tags": [
     "parameters"
    ]
   },
   "outputs": [],
   "source": [
    "variance = 1"
   ]
  },
  {
   "cell_type": "code",
   "execution_count": 4,
   "id": "9ca5a174",
   "metadata": {
    "execution": {
     "iopub.execute_input": "2022-03-11T10:57:14.097832Z",
     "iopub.status.busy": "2022-03-11T10:57:14.097490Z",
     "iopub.status.idle": "2022-03-11T10:57:14.098795Z",
     "shell.execute_reply": "2022-03-11T10:57:14.099045Z"
    },
    "papermill": {
     "duration": 0.009832,
     "end_time": "2022-03-11T10:57:14.099152",
     "exception": false,
     "start_time": "2022-03-11T10:57:14.089320",
     "status": "completed"
    },
    "tags": [
     "injected-parameters"
    ]
   },
   "outputs": [],
   "source": [
    "# Parameters\n",
    "variance = 1\n"
   ]
  },
  {
   "cell_type": "markdown",
   "id": "391cdbfd",
   "metadata": {
    "id": "391cdbfd",
    "papermill": {
     "duration": 0.006785,
     "end_time": "2022-03-11T10:57:14.112852",
     "exception": false,
     "start_time": "2022-03-11T10:57:14.106067",
     "status": "completed"
    },
    "tags": []
   },
   "source": [
    "## Dataset \n"
   ]
  },
  {
   "cell_type": "code",
   "execution_count": 5,
   "id": "5b51f161",
   "metadata": {
    "execution": {
     "iopub.execute_input": "2022-03-11T10:57:14.128324Z",
     "iopub.status.busy": "2022-03-11T10:57:14.127965Z",
     "iopub.status.idle": "2022-03-11T10:57:14.129366Z",
     "shell.execute_reply": "2022-03-11T10:57:14.129614Z"
    },
    "id": "5b51f161",
    "papermill": {
     "duration": 0.010059,
     "end_time": "2022-03-11T10:57:14.129718",
     "exception": false,
     "start_time": "2022-03-11T10:57:14.119659",
     "status": "completed"
    },
    "tags": []
   },
   "outputs": [],
   "source": [
    "#Parameters \n",
    "n_features = 13\n",
    "n_samples= 506\n",
    "n_target = 1 "
   ]
  },
  {
   "cell_type": "code",
   "execution_count": 6,
   "id": "5d6eced4",
   "metadata": {
    "execution": {
     "iopub.execute_input": "2022-03-11T10:57:14.145304Z",
     "iopub.status.busy": "2022-03-11T10:57:14.144911Z",
     "iopub.status.idle": "2022-03-11T10:57:14.155608Z",
     "shell.execute_reply": "2022-03-11T10:57:14.155902Z"
    },
    "id": "5d6eced4",
    "papermill": {
     "duration": 0.01943,
     "end_time": "2022-03-11T10:57:14.156013",
     "exception": false,
     "start_time": "2022-03-11T10:57:14.136583",
     "status": "completed"
    },
    "tags": []
   },
   "outputs": [
    {
     "name": "stdout",
     "output_type": "stream",
     "text": [
      "         X1        X2        X3        X4        X5        X6        X7  \\\n",
      "0 -0.419782  0.284830 -1.287909 -0.272599 -0.144217  0.413672 -0.120013   \n",
      "1 -0.417339 -0.487722 -0.593381 -0.272599 -0.740262  0.194274  0.367166   \n",
      "2 -0.417342 -0.487722 -0.593381 -0.272599 -0.740262  1.282714 -0.265812   \n",
      "3 -0.416750 -0.487722 -1.306878 -0.272599 -0.835284  1.016303 -0.809889   \n",
      "4 -0.412482 -0.487722 -1.306878 -0.272599 -0.835284  1.228577 -0.511180   \n",
      "\n",
      "         X8        X9       X10       X11       X12       X13         Y  \n",
      "0  0.140214 -0.982843 -0.666608 -1.459000  0.441052 -1.075562  0.159686  \n",
      "1  0.557160 -0.867883 -0.987329 -0.303094  0.441052 -0.492439 -0.101524  \n",
      "2  0.557160 -0.867883 -0.987329 -0.303094  0.396427 -1.208727  1.324247  \n",
      "3  1.077737 -0.752922 -1.106115  0.113032  0.416163 -1.361517  1.182758  \n",
      "4  1.077737 -0.752922 -1.106115  0.113032  0.441052 -1.026501  1.487503  \n"
     ]
    }
   ],
   "source": [
    "X,Y = bostonDataset.boston_data()"
   ]
  },
  {
   "cell_type": "code",
   "execution_count": 7,
   "id": "fe007438",
   "metadata": {
    "execution": {
     "iopub.execute_input": "2022-03-11T10:57:14.173047Z",
     "iopub.status.busy": "2022-03-11T10:57:14.172673Z",
     "iopub.status.idle": "2022-03-11T10:57:14.174260Z",
     "shell.execute_reply": "2022-03-11T10:57:14.174506Z"
    },
    "id": "fe007438",
    "papermill": {
     "duration": 0.01125,
     "end_time": "2022-03-11T10:57:14.174613",
     "exception": false,
     "start_time": "2022-03-11T10:57:14.163363",
     "status": "completed"
    },
    "tags": []
   },
   "outputs": [],
   "source": [
    "#Train test split for dataset \n",
    "X_train,X_test,Y_train,Y_test = train_test_split(X,Y,test_size = 0.2)\n",
    "train_data = dataset.CustomDataset(X_train,Y_train)\n",
    "test_data = dataset.CustomDataset(X_test,Y_test)\n"
   ]
  },
  {
   "cell_type": "markdown",
   "id": "a9a1af34",
   "metadata": {
    "id": "a9a1af34",
    "papermill": {
     "duration": 0.007124,
     "end_time": "2022-03-11T10:57:14.188923",
     "exception": false,
     "start_time": "2022-03-11T10:57:14.181799",
     "status": "completed"
    },
    "tags": []
   },
   "source": [
    "## Training Parameters "
   ]
  },
  {
   "cell_type": "code",
   "execution_count": 8,
   "id": "952b7fc8",
   "metadata": {
    "execution": {
     "iopub.execute_input": "2022-03-11T10:57:14.205304Z",
     "iopub.status.busy": "2022-03-11T10:57:14.204941Z",
     "iopub.status.idle": "2022-03-11T10:57:14.206435Z",
     "shell.execute_reply": "2022-03-11T10:57:14.206684Z"
    },
    "id": "952b7fc8",
    "papermill": {
     "duration": 0.010802,
     "end_time": "2022-03-11T10:57:14.206787",
     "exception": false,
     "start_time": "2022-03-11T10:57:14.195985",
     "status": "completed"
    },
    "tags": []
   },
   "outputs": [],
   "source": [
    "batch_size = 64\n",
    "n_epochs = 1000\n",
    "#Select the device \n",
    "device = torch.device('cuda' if torch.cuda.is_available() else 'cpu')"
   ]
  },
  {
   "cell_type": "markdown",
   "id": "a95e1600",
   "metadata": {
    "id": "a95e1600",
    "papermill": {
     "duration": 0.007043,
     "end_time": "2022-03-11T10:57:14.220916",
     "exception": false,
     "start_time": "2022-03-11T10:57:14.213873",
     "status": "completed"
    },
    "tags": []
   },
   "source": [
    "# ABC Pre-generator Model \n",
    "\n",
    "1. The catboost model is used as a pre-generator model for the ABC-GAN. \n",
    "2. The model is first trained on the entire dataset \n",
    "3. It generats X,Y pairs and we add some Gaussian noise with mean 0 and variance 1 to it which is then feed as input to the generator.\n"
   ]
  },
  {
   "cell_type": "code",
   "execution_count": 9,
   "id": "ff8ce7bd",
   "metadata": {
    "execution": {
     "iopub.execute_input": "2022-03-11T10:57:14.239781Z",
     "iopub.status.busy": "2022-03-11T10:57:14.239413Z",
     "iopub.status.idle": "2022-03-11T10:57:15.201709Z",
     "shell.execute_reply": "2022-03-11T10:57:15.201945Z"
    },
    "id": "ff8ce7bd",
    "papermill": {
     "duration": 0.974045,
     "end_time": "2022-03-11T10:57:15.202069",
     "exception": false,
     "start_time": "2022-03-11T10:57:14.228024",
     "status": "completed"
    },
    "tags": []
   },
   "outputs": [
    {
     "name": "stdout",
     "output_type": "stream",
     "text": [
      "Learning rate set to 0.033215\n",
      "0:\tlearn: 1.0068495\ttotal: 69.3ms\tremaining: 1m 9s\n",
      "1:\tlearn: 0.9883330\ttotal: 70.1ms\tremaining: 35s\n",
      "2:\tlearn: 0.9674508\ttotal: 71ms\tremaining: 23.6s\n",
      "3:\tlearn: 0.9513236\ttotal: 72ms\tremaining: 17.9s\n",
      "4:\tlearn: 0.9333540\ttotal: 73ms\tremaining: 14.5s\n",
      "5:\tlearn: 0.9169176\ttotal: 73.9ms\tremaining: 12.2s\n",
      "6:\tlearn: 0.9002152\ttotal: 74.8ms\tremaining: 10.6s\n",
      "7:\tlearn: 0.8835312\ttotal: 75.7ms\tremaining: 9.39s\n",
      "8:\tlearn: 0.8672345\ttotal: 76.7ms\tremaining: 8.44s\n",
      "9:\tlearn: 0.8513682\ttotal: 77.6ms\tremaining: 7.69s\n",
      "10:\tlearn: 0.8351256\ttotal: 78.6ms\tremaining: 7.06s\n",
      "11:\tlearn: 0.8196117\ttotal: 79.5ms\tremaining: 6.54s\n",
      "12:\tlearn: 0.8042748\ttotal: 80.4ms\tremaining: 6.1s\n",
      "13:\tlearn: 0.7890218\ttotal: 81.2ms\tremaining: 5.72s\n",
      "14:\tlearn: 0.7756736\ttotal: 82.1ms\tremaining: 5.39s\n",
      "15:\tlearn: 0.7616099\ttotal: 83ms\tremaining: 5.1s\n",
      "16:\tlearn: 0.7494175\ttotal: 83.9ms\tremaining: 4.85s\n",
      "17:\tlearn: 0.7363999\ttotal: 84.8ms\tremaining: 4.62s\n",
      "18:\tlearn: 0.7232258\ttotal: 85.5ms\tremaining: 4.42s\n",
      "19:\tlearn: 0.7095869\ttotal: 86.1ms\tremaining: 4.22s\n",
      "20:\tlearn: 0.6985267\ttotal: 86.8ms\tremaining: 4.05s\n",
      "21:\tlearn: 0.6855710\ttotal: 87.6ms\tremaining: 3.9s\n",
      "22:\tlearn: 0.6748538\ttotal: 88.4ms\tremaining: 3.75s\n",
      "23:\tlearn: 0.6628921\ttotal: 89.2ms\tremaining: 3.63s\n",
      "24:\tlearn: 0.6530416\ttotal: 90ms\tremaining: 3.51s\n",
      "25:\tlearn: 0.6437212\ttotal: 90.8ms\tremaining: 3.4s\n",
      "26:\tlearn: 0.6357212\ttotal: 91.6ms\tremaining: 3.3s\n",
      "27:\tlearn: 0.6262481\ttotal: 92.5ms\tremaining: 3.21s\n",
      "28:\tlearn: 0.6175869\ttotal: 93.4ms\tremaining: 3.13s\n",
      "29:\tlearn: 0.6072562\ttotal: 94ms\tremaining: 3.04s\n",
      "30:\tlearn: 0.5988888\ttotal: 94.8ms\tremaining: 2.96s\n",
      "31:\tlearn: 0.5889645\ttotal: 95.6ms\tremaining: 2.89s\n",
      "32:\tlearn: 0.5816080\ttotal: 96.4ms\tremaining: 2.82s\n",
      "33:\tlearn: 0.5747583\ttotal: 97.1ms\tremaining: 2.76s\n",
      "34:\tlearn: 0.5670150\ttotal: 97.9ms\tremaining: 2.7s\n",
      "35:\tlearn: 0.5598719\ttotal: 98.8ms\tremaining: 2.65s\n",
      "36:\tlearn: 0.5529894\ttotal: 99.6ms\tremaining: 2.59s\n",
      "37:\tlearn: 0.5449769\ttotal: 100ms\tremaining: 2.54s\n",
      "38:\tlearn: 0.5367849\ttotal: 101ms\tremaining: 2.5s\n",
      "39:\tlearn: 0.5286669\ttotal: 102ms\tremaining: 2.45s\n",
      "40:\tlearn: 0.5224384\ttotal: 103ms\tremaining: 2.42s\n",
      "41:\tlearn: 0.5167189\ttotal: 104ms\tremaining: 2.38s\n",
      "42:\tlearn: 0.5092334\ttotal: 105ms\tremaining: 2.34s\n",
      "43:\tlearn: 0.5028102\ttotal: 106ms\tremaining: 2.3s\n",
      "44:\tlearn: 0.4963723\ttotal: 107ms\tremaining: 2.27s\n",
      "45:\tlearn: 0.4900178\ttotal: 108ms\tremaining: 2.23s\n"
     ]
    },
    {
     "name": "stdout",
     "output_type": "stream",
     "text": [
      "46:\tlearn: 0.4857688\ttotal: 109ms\tremaining: 2.2s\n",
      "47:\tlearn: 0.4791091\ttotal: 110ms\tremaining: 2.17s\n",
      "48:\tlearn: 0.4737373\ttotal: 111ms\tremaining: 2.15s\n",
      "49:\tlearn: 0.4680342\ttotal: 111ms\tremaining: 2.12s\n",
      "50:\tlearn: 0.4633969\ttotal: 112ms\tremaining: 2.09s\n",
      "51:\tlearn: 0.4586522\ttotal: 113ms\tremaining: 2.06s\n",
      "52:\tlearn: 0.4537051\ttotal: 114ms\tremaining: 2.03s\n",
      "53:\tlearn: 0.4502723\ttotal: 115ms\tremaining: 2.01s\n",
      "54:\tlearn: 0.4454900\ttotal: 116ms\tremaining: 1.99s\n",
      "55:\tlearn: 0.4406400\ttotal: 117ms\tremaining: 1.97s\n",
      "56:\tlearn: 0.4361472\ttotal: 117ms\tremaining: 1.94s\n",
      "57:\tlearn: 0.4314721\ttotal: 118ms\tremaining: 1.92s\n",
      "58:\tlearn: 0.4279987\ttotal: 119ms\tremaining: 1.9s\n",
      "59:\tlearn: 0.4240200\ttotal: 120ms\tremaining: 1.88s\n",
      "60:\tlearn: 0.4195431\ttotal: 121ms\tremaining: 1.86s\n",
      "61:\tlearn: 0.4148372\ttotal: 122ms\tremaining: 1.84s\n",
      "62:\tlearn: 0.4117572\ttotal: 122ms\tremaining: 1.82s\n",
      "63:\tlearn: 0.4081778\ttotal: 123ms\tremaining: 1.8s\n",
      "64:\tlearn: 0.4049306\ttotal: 124ms\tremaining: 1.78s\n",
      "65:\tlearn: 0.4017826\ttotal: 125ms\tremaining: 1.77s\n",
      "66:\tlearn: 0.3981158\ttotal: 126ms\tremaining: 1.75s\n",
      "67:\tlearn: 0.3949249\ttotal: 126ms\tremaining: 1.73s\n",
      "68:\tlearn: 0.3917817\ttotal: 127ms\tremaining: 1.72s\n",
      "69:\tlearn: 0.3890883\ttotal: 128ms\tremaining: 1.7s\n",
      "70:\tlearn: 0.3857800\ttotal: 129ms\tremaining: 1.68s\n",
      "71:\tlearn: 0.3832163\ttotal: 130ms\tremaining: 1.67s\n",
      "72:\tlearn: 0.3802569\ttotal: 130ms\tremaining: 1.66s\n",
      "73:\tlearn: 0.3767960\ttotal: 131ms\tremaining: 1.64s\n",
      "74:\tlearn: 0.3743797\ttotal: 132ms\tremaining: 1.63s\n",
      "75:\tlearn: 0.3716343\ttotal: 133ms\tremaining: 1.61s\n",
      "76:\tlearn: 0.3680123\ttotal: 134ms\tremaining: 1.6s\n",
      "77:\tlearn: 0.3659164\ttotal: 134ms\tremaining: 1.59s\n",
      "78:\tlearn: 0.3624677\ttotal: 135ms\tremaining: 1.57s\n",
      "79:\tlearn: 0.3606326\ttotal: 136ms\tremaining: 1.56s\n",
      "80:\tlearn: 0.3582950\ttotal: 137ms\tremaining: 1.55s\n",
      "81:\tlearn: 0.3553832\ttotal: 137ms\tremaining: 1.54s\n",
      "82:\tlearn: 0.3524026\ttotal: 138ms\tremaining: 1.53s\n",
      "83:\tlearn: 0.3498358\ttotal: 139ms\tremaining: 1.52s\n",
      "84:\tlearn: 0.3474521\ttotal: 140ms\tremaining: 1.5s\n",
      "85:\tlearn: 0.3442975\ttotal: 141ms\tremaining: 1.49s\n",
      "86:\tlearn: 0.3418549\ttotal: 141ms\tremaining: 1.48s\n",
      "87:\tlearn: 0.3400321\ttotal: 142ms\tremaining: 1.47s\n",
      "88:\tlearn: 0.3375137\ttotal: 143ms\tremaining: 1.46s\n",
      "89:\tlearn: 0.3352828\ttotal: 144ms\tremaining: 1.45s\n",
      "90:\tlearn: 0.3332032\ttotal: 145ms\tremaining: 1.44s\n",
      "91:\tlearn: 0.3319733\ttotal: 145ms\tremaining: 1.44s\n",
      "92:\tlearn: 0.3307047\ttotal: 146ms\tremaining: 1.43s\n",
      "93:\tlearn: 0.3285637\ttotal: 148ms\tremaining: 1.42s\n",
      "94:\tlearn: 0.3265111\ttotal: 149ms\tremaining: 1.42s\n",
      "95:\tlearn: 0.3247055\ttotal: 150ms\tremaining: 1.41s\n",
      "96:\tlearn: 0.3232876\ttotal: 150ms\tremaining: 1.4s\n",
      "97:\tlearn: 0.3217097\ttotal: 151ms\tremaining: 1.39s\n",
      "98:\tlearn: 0.3199861\ttotal: 152ms\tremaining: 1.39s\n",
      "99:\tlearn: 0.3186885\ttotal: 153ms\tremaining: 1.38s\n",
      "100:\tlearn: 0.3167642\ttotal: 154ms\tremaining: 1.37s\n",
      "101:\tlearn: 0.3149627\ttotal: 155ms\tremaining: 1.36s\n",
      "102:\tlearn: 0.3133562\ttotal: 156ms\tremaining: 1.35s\n",
      "103:\tlearn: 0.3121234\ttotal: 156ms\tremaining: 1.35s\n",
      "104:\tlearn: 0.3105105\ttotal: 157ms\tremaining: 1.34s\n",
      "105:\tlearn: 0.3088997\ttotal: 158ms\tremaining: 1.33s\n",
      "106:\tlearn: 0.3071607\ttotal: 159ms\tremaining: 1.33s\n",
      "107:\tlearn: 0.3049898\ttotal: 160ms\tremaining: 1.32s\n",
      "108:\tlearn: 0.3032834\ttotal: 161ms\tremaining: 1.31s\n",
      "109:\tlearn: 0.3018217\ttotal: 161ms\tremaining: 1.31s\n",
      "110:\tlearn: 0.3002166\ttotal: 162ms\tremaining: 1.3s\n",
      "111:\tlearn: 0.2990874\ttotal: 163ms\tremaining: 1.29s\n",
      "112:\tlearn: 0.2977713\ttotal: 164ms\tremaining: 1.29s\n",
      "113:\tlearn: 0.2964093\ttotal: 165ms\tremaining: 1.28s\n",
      "114:\tlearn: 0.2951482\ttotal: 166ms\tremaining: 1.27s\n",
      "115:\tlearn: 0.2941605\ttotal: 166ms\tremaining: 1.27s\n",
      "116:\tlearn: 0.2926183\ttotal: 167ms\tremaining: 1.26s\n",
      "117:\tlearn: 0.2908857\ttotal: 168ms\tremaining: 1.25s\n",
      "118:\tlearn: 0.2902816\ttotal: 169ms\tremaining: 1.25s\n",
      "119:\tlearn: 0.2888083\ttotal: 170ms\tremaining: 1.24s\n",
      "120:\tlearn: 0.2870811\ttotal: 170ms\tremaining: 1.24s\n",
      "121:\tlearn: 0.2859084\ttotal: 171ms\tremaining: 1.23s\n",
      "122:\tlearn: 0.2848806\ttotal: 172ms\tremaining: 1.23s\n",
      "123:\tlearn: 0.2837024\ttotal: 173ms\tremaining: 1.22s\n",
      "124:\tlearn: 0.2826738\ttotal: 174ms\tremaining: 1.22s\n",
      "125:\tlearn: 0.2814652\ttotal: 175ms\tremaining: 1.21s\n",
      "126:\tlearn: 0.2799638\ttotal: 175ms\tremaining: 1.21s\n",
      "127:\tlearn: 0.2792180\ttotal: 176ms\tremaining: 1.2s\n",
      "128:\tlearn: 0.2778550\ttotal: 177ms\tremaining: 1.2s\n",
      "129:\tlearn: 0.2767007\ttotal: 178ms\tremaining: 1.19s\n",
      "130:\tlearn: 0.2756656\ttotal: 179ms\tremaining: 1.19s\n",
      "131:\tlearn: 0.2745067\ttotal: 179ms\tremaining: 1.18s\n",
      "132:\tlearn: 0.2735194\ttotal: 180ms\tremaining: 1.18s\n",
      "133:\tlearn: 0.2726325\ttotal: 181ms\tremaining: 1.17s\n",
      "134:\tlearn: 0.2714564\ttotal: 182ms\tremaining: 1.16s\n",
      "135:\tlearn: 0.2704212\ttotal: 183ms\tremaining: 1.16s\n",
      "136:\tlearn: 0.2697095\ttotal: 183ms\tremaining: 1.16s\n",
      "137:\tlearn: 0.2685612\ttotal: 184ms\tremaining: 1.15s\n",
      "138:\tlearn: 0.2675200\ttotal: 185ms\tremaining: 1.15s\n",
      "139:\tlearn: 0.2664496\ttotal: 186ms\tremaining: 1.14s\n",
      "140:\tlearn: 0.2656831\ttotal: 187ms\tremaining: 1.14s\n",
      "141:\tlearn: 0.2644152\ttotal: 188ms\tremaining: 1.13s\n",
      "142:\tlearn: 0.2630706\ttotal: 188ms\tremaining: 1.13s\n",
      "143:\tlearn: 0.2620668\ttotal: 189ms\tremaining: 1.13s\n",
      "144:\tlearn: 0.2611159\ttotal: 190ms\tremaining: 1.12s\n",
      "145:\tlearn: 0.2606107\ttotal: 191ms\tremaining: 1.12s\n"
     ]
    },
    {
     "name": "stdout",
     "output_type": "stream",
     "text": [
      "146:\tlearn: 0.2595106\ttotal: 192ms\tremaining: 1.11s\n",
      "147:\tlearn: 0.2589324\ttotal: 193ms\tremaining: 1.11s\n",
      "148:\tlearn: 0.2576475\ttotal: 194ms\tremaining: 1.1s\n",
      "149:\tlearn: 0.2571536\ttotal: 194ms\tremaining: 1.1s\n",
      "150:\tlearn: 0.2562621\ttotal: 195ms\tremaining: 1.1s\n",
      "151:\tlearn: 0.2553826\ttotal: 196ms\tremaining: 1.09s\n",
      "152:\tlearn: 0.2547548\ttotal: 197ms\tremaining: 1.09s\n",
      "153:\tlearn: 0.2538895\ttotal: 197ms\tremaining: 1.08s\n",
      "154:\tlearn: 0.2528955\ttotal: 198ms\tremaining: 1.08s\n",
      "155:\tlearn: 0.2520886\ttotal: 199ms\tremaining: 1.08s\n",
      "156:\tlearn: 0.2508735\ttotal: 200ms\tremaining: 1.07s\n",
      "157:\tlearn: 0.2499249\ttotal: 201ms\tremaining: 1.07s\n",
      "158:\tlearn: 0.2487601\ttotal: 201ms\tremaining: 1.06s\n",
      "159:\tlearn: 0.2480521\ttotal: 202ms\tremaining: 1.06s\n",
      "160:\tlearn: 0.2471348\ttotal: 203ms\tremaining: 1.06s\n",
      "161:\tlearn: 0.2458660\ttotal: 204ms\tremaining: 1.05s\n",
      "162:\tlearn: 0.2453100\ttotal: 204ms\tremaining: 1.05s\n",
      "163:\tlearn: 0.2444850\ttotal: 205ms\tremaining: 1.04s\n",
      "164:\tlearn: 0.2440236\ttotal: 206ms\tremaining: 1.04s\n",
      "165:\tlearn: 0.2432125\ttotal: 207ms\tremaining: 1.04s\n",
      "166:\tlearn: 0.2429725\ttotal: 208ms\tremaining: 1.03s\n",
      "167:\tlearn: 0.2424783\ttotal: 208ms\tremaining: 1.03s\n",
      "168:\tlearn: 0.2416356\ttotal: 209ms\tremaining: 1.03s\n",
      "169:\tlearn: 0.2410966\ttotal: 210ms\tremaining: 1.03s\n",
      "170:\tlearn: 0.2405219\ttotal: 211ms\tremaining: 1.02s\n",
      "171:\tlearn: 0.2396569\ttotal: 212ms\tremaining: 1.02s\n",
      "172:\tlearn: 0.2390968\ttotal: 213ms\tremaining: 1.02s\n",
      "173:\tlearn: 0.2383005\ttotal: 213ms\tremaining: 1.01s\n",
      "174:\tlearn: 0.2377510\ttotal: 214ms\tremaining: 1.01s\n",
      "175:\tlearn: 0.2372352\ttotal: 215ms\tremaining: 1.01s\n",
      "176:\tlearn: 0.2364156\ttotal: 216ms\tremaining: 1s\n",
      "177:\tlearn: 0.2358463\ttotal: 217ms\tremaining: 1s\n",
      "178:\tlearn: 0.2352017\ttotal: 218ms\tremaining: 998ms\n",
      "179:\tlearn: 0.2346575\ttotal: 218ms\tremaining: 995ms\n",
      "180:\tlearn: 0.2342722\ttotal: 219ms\tremaining: 992ms\n",
      "181:\tlearn: 0.2337082\ttotal: 220ms\tremaining: 989ms\n",
      "182:\tlearn: 0.2329458\ttotal: 221ms\tremaining: 986ms\n",
      "183:\tlearn: 0.2323363\ttotal: 222ms\tremaining: 984ms\n",
      "184:\tlearn: 0.2315599\ttotal: 223ms\tremaining: 981ms\n",
      "185:\tlearn: 0.2310230\ttotal: 223ms\tremaining: 978ms\n",
      "186:\tlearn: 0.2301652\ttotal: 224ms\tremaining: 975ms\n",
      "187:\tlearn: 0.2297081\ttotal: 225ms\tremaining: 972ms\n",
      "188:\tlearn: 0.2288685\ttotal: 227ms\tremaining: 972ms\n",
      "189:\tlearn: 0.2281299\ttotal: 227ms\tremaining: 969ms\n",
      "190:\tlearn: 0.2275656\ttotal: 228ms\tremaining: 966ms\n",
      "191:\tlearn: 0.2269965\ttotal: 229ms\tremaining: 964ms\n",
      "192:\tlearn: 0.2261552\ttotal: 230ms\tremaining: 961ms\n",
      "193:\tlearn: 0.2255754\ttotal: 231ms\tremaining: 958ms\n",
      "194:\tlearn: 0.2250098\ttotal: 231ms\tremaining: 955ms\n",
      "195:\tlearn: 0.2243589\ttotal: 232ms\tremaining: 952ms\n",
      "196:\tlearn: 0.2239999\ttotal: 233ms\tremaining: 950ms\n",
      "197:\tlearn: 0.2235948\ttotal: 234ms\tremaining: 947ms\n",
      "198:\tlearn: 0.2232633\ttotal: 235ms\tremaining: 944ms\n",
      "199:\tlearn: 0.2226425\ttotal: 235ms\tremaining: 942ms\n",
      "200:\tlearn: 0.2221643\ttotal: 236ms\tremaining: 940ms\n",
      "201:\tlearn: 0.2217942\ttotal: 237ms\tremaining: 937ms\n",
      "202:\tlearn: 0.2212719\ttotal: 238ms\tremaining: 935ms\n",
      "203:\tlearn: 0.2208293\ttotal: 239ms\tremaining: 931ms\n",
      "204:\tlearn: 0.2206667\ttotal: 239ms\tremaining: 929ms\n",
      "205:\tlearn: 0.2201528\ttotal: 240ms\tremaining: 926ms\n",
      "206:\tlearn: 0.2195615\ttotal: 241ms\tremaining: 923ms\n",
      "207:\tlearn: 0.2193208\ttotal: 242ms\tremaining: 921ms\n",
      "208:\tlearn: 0.2190792\ttotal: 243ms\tremaining: 919ms\n",
      "209:\tlearn: 0.2185553\ttotal: 243ms\tremaining: 916ms\n",
      "210:\tlearn: 0.2179257\ttotal: 244ms\tremaining: 914ms\n",
      "211:\tlearn: 0.2172395\ttotal: 245ms\tremaining: 911ms\n",
      "212:\tlearn: 0.2165398\ttotal: 246ms\tremaining: 909ms\n",
      "213:\tlearn: 0.2159387\ttotal: 247ms\tremaining: 907ms\n",
      "214:\tlearn: 0.2153486\ttotal: 248ms\tremaining: 904ms\n",
      "215:\tlearn: 0.2148449\ttotal: 249ms\tremaining: 902ms\n",
      "216:\tlearn: 0.2146910\ttotal: 249ms\tremaining: 900ms\n",
      "217:\tlearn: 0.2142326\ttotal: 250ms\tremaining: 897ms\n",
      "218:\tlearn: 0.2135074\ttotal: 251ms\tremaining: 895ms\n",
      "219:\tlearn: 0.2130221\ttotal: 252ms\tremaining: 892ms\n",
      "220:\tlearn: 0.2125037\ttotal: 253ms\tremaining: 890ms\n",
      "221:\tlearn: 0.2122358\ttotal: 253ms\tremaining: 888ms\n",
      "222:\tlearn: 0.2116011\ttotal: 254ms\tremaining: 885ms\n",
      "223:\tlearn: 0.2113959\ttotal: 255ms\tremaining: 883ms\n",
      "224:\tlearn: 0.2107707\ttotal: 256ms\tremaining: 881ms\n",
      "225:\tlearn: 0.2098878\ttotal: 257ms\tremaining: 878ms\n",
      "226:\tlearn: 0.2093170\ttotal: 257ms\tremaining: 876ms\n",
      "227:\tlearn: 0.2090024\ttotal: 258ms\tremaining: 874ms\n",
      "228:\tlearn: 0.2084726\ttotal: 259ms\tremaining: 871ms\n",
      "229:\tlearn: 0.2081967\ttotal: 260ms\tremaining: 870ms\n",
      "230:\tlearn: 0.2076687\ttotal: 261ms\tremaining: 868ms\n",
      "231:\tlearn: 0.2073405\ttotal: 262ms\tremaining: 866ms\n",
      "232:\tlearn: 0.2070268\ttotal: 262ms\tremaining: 864ms\n",
      "233:\tlearn: 0.2065958\ttotal: 263ms\tremaining: 862ms\n",
      "234:\tlearn: 0.2060430\ttotal: 264ms\tremaining: 859ms\n",
      "235:\tlearn: 0.2058787\ttotal: 265ms\tremaining: 857ms\n",
      "236:\tlearn: 0.2055067\ttotal: 265ms\tremaining: 855ms\n",
      "237:\tlearn: 0.2052459\ttotal: 266ms\tremaining: 852ms\n",
      "238:\tlearn: 0.2050887\ttotal: 267ms\tremaining: 850ms\n",
      "239:\tlearn: 0.2046105\ttotal: 268ms\tremaining: 848ms\n",
      "240:\tlearn: 0.2037897\ttotal: 269ms\tremaining: 846ms\n",
      "241:\tlearn: 0.2036088\ttotal: 269ms\tremaining: 844ms\n",
      "242:\tlearn: 0.2030131\ttotal: 270ms\tremaining: 842ms\n",
      "243:\tlearn: 0.2027227\ttotal: 271ms\tremaining: 840ms\n",
      "244:\tlearn: 0.2024153\ttotal: 272ms\tremaining: 837ms\n",
      "245:\tlearn: 0.2021522\ttotal: 272ms\tremaining: 835ms\n",
      "246:\tlearn: 0.2017208\ttotal: 273ms\tremaining: 833ms\n",
      "247:\tlearn: 0.2015349\ttotal: 274ms\tremaining: 831ms\n",
      "248:\tlearn: 0.2010717\ttotal: 275ms\tremaining: 829ms\n",
      "249:\tlearn: 0.2007021\ttotal: 275ms\tremaining: 826ms\n",
      "250:\tlearn: 0.2004294\ttotal: 276ms\tremaining: 824ms\n",
      "251:\tlearn: 0.1997076\ttotal: 277ms\tremaining: 822ms\n",
      "252:\tlearn: 0.1990956\ttotal: 278ms\tremaining: 820ms\n",
      "253:\tlearn: 0.1985106\ttotal: 279ms\tremaining: 818ms\n",
      "254:\tlearn: 0.1982203\ttotal: 279ms\tremaining: 816ms\n",
      "255:\tlearn: 0.1978206\ttotal: 280ms\tremaining: 814ms\n",
      "256:\tlearn: 0.1971455\ttotal: 281ms\tremaining: 812ms\n",
      "257:\tlearn: 0.1966779\ttotal: 282ms\tremaining: 811ms\n",
      "258:\tlearn: 0.1965594\ttotal: 283ms\tremaining: 809ms\n",
      "259:\tlearn: 0.1964583\ttotal: 283ms\tremaining: 807ms\n",
      "260:\tlearn: 0.1961363\ttotal: 284ms\tremaining: 805ms\n",
      "261:\tlearn: 0.1953592\ttotal: 285ms\tremaining: 803ms\n",
      "262:\tlearn: 0.1952146\ttotal: 286ms\tremaining: 801ms\n",
      "263:\tlearn: 0.1945194\ttotal: 287ms\tremaining: 799ms\n",
      "264:\tlearn: 0.1943784\ttotal: 287ms\tremaining: 797ms\n",
      "265:\tlearn: 0.1942595\ttotal: 288ms\tremaining: 795ms\n",
      "266:\tlearn: 0.1935927\ttotal: 289ms\tremaining: 793ms\n",
      "267:\tlearn: 0.1932495\ttotal: 290ms\tremaining: 791ms\n",
      "268:\tlearn: 0.1930945\ttotal: 291ms\tremaining: 789ms\n",
      "269:\tlearn: 0.1929995\ttotal: 291ms\tremaining: 788ms\n",
      "270:\tlearn: 0.1924912\ttotal: 292ms\tremaining: 785ms\n",
      "271:\tlearn: 0.1921045\ttotal: 293ms\tremaining: 784ms\n",
      "272:\tlearn: 0.1914423\ttotal: 294ms\tremaining: 782ms\n",
      "273:\tlearn: 0.1913621\ttotal: 294ms\tremaining: 780ms\n",
      "274:\tlearn: 0.1912277\ttotal: 295ms\tremaining: 778ms\n",
      "275:\tlearn: 0.1911072\ttotal: 296ms\tremaining: 776ms\n",
      "276:\tlearn: 0.1905834\ttotal: 297ms\tremaining: 775ms\n",
      "277:\tlearn: 0.1900683\ttotal: 298ms\tremaining: 773ms\n",
      "278:\tlearn: 0.1898607\ttotal: 298ms\tremaining: 771ms\n"
     ]
    },
    {
     "name": "stdout",
     "output_type": "stream",
     "text": [
      "279:\tlearn: 0.1894874\ttotal: 299ms\tremaining: 770ms\n",
      "280:\tlearn: 0.1892331\ttotal: 300ms\tremaining: 769ms\n",
      "281:\tlearn: 0.1885826\ttotal: 301ms\tremaining: 767ms\n",
      "282:\tlearn: 0.1884225\ttotal: 302ms\tremaining: 766ms\n",
      "283:\tlearn: 0.1882164\ttotal: 303ms\tremaining: 764ms\n",
      "284:\tlearn: 0.1877316\ttotal: 304ms\tremaining: 762ms\n",
      "285:\tlearn: 0.1872088\ttotal: 305ms\tremaining: 761ms\n",
      "286:\tlearn: 0.1871230\ttotal: 306ms\tremaining: 760ms\n",
      "287:\tlearn: 0.1866607\ttotal: 307ms\tremaining: 758ms\n",
      "288:\tlearn: 0.1865200\ttotal: 307ms\tremaining: 756ms\n",
      "289:\tlearn: 0.1859847\ttotal: 308ms\tremaining: 754ms\n",
      "290:\tlearn: 0.1857676\ttotal: 309ms\tremaining: 753ms\n",
      "291:\tlearn: 0.1852655\ttotal: 310ms\tremaining: 751ms\n",
      "292:\tlearn: 0.1851882\ttotal: 311ms\tremaining: 749ms\n",
      "293:\tlearn: 0.1850485\ttotal: 311ms\tremaining: 748ms\n",
      "294:\tlearn: 0.1849587\ttotal: 312ms\tremaining: 746ms\n",
      "295:\tlearn: 0.1848740\ttotal: 313ms\tremaining: 744ms\n",
      "296:\tlearn: 0.1844288\ttotal: 314ms\tremaining: 743ms\n",
      "297:\tlearn: 0.1839490\ttotal: 315ms\tremaining: 741ms\n",
      "298:\tlearn: 0.1833326\ttotal: 315ms\tremaining: 740ms\n",
      "299:\tlearn: 0.1827734\ttotal: 316ms\tremaining: 738ms\n",
      "300:\tlearn: 0.1823459\ttotal: 317ms\tremaining: 736ms\n",
      "301:\tlearn: 0.1817502\ttotal: 318ms\tremaining: 735ms\n",
      "302:\tlearn: 0.1813585\ttotal: 319ms\tremaining: 733ms\n",
      "303:\tlearn: 0.1811313\ttotal: 319ms\tremaining: 731ms\n",
      "304:\tlearn: 0.1805337\ttotal: 320ms\tremaining: 730ms\n",
      "305:\tlearn: 0.1803637\ttotal: 321ms\tremaining: 728ms\n",
      "306:\tlearn: 0.1798541\ttotal: 322ms\tremaining: 727ms\n",
      "307:\tlearn: 0.1793080\ttotal: 323ms\tremaining: 725ms\n",
      "308:\tlearn: 0.1789334\ttotal: 324ms\tremaining: 724ms\n",
      "309:\tlearn: 0.1782794\ttotal: 324ms\tremaining: 722ms\n",
      "310:\tlearn: 0.1781352\ttotal: 325ms\tremaining: 720ms\n",
      "311:\tlearn: 0.1776076\ttotal: 326ms\tremaining: 719ms\n",
      "312:\tlearn: 0.1770872\ttotal: 327ms\tremaining: 717ms\n",
      "313:\tlearn: 0.1769717\ttotal: 328ms\tremaining: 716ms\n",
      "314:\tlearn: 0.1763177\ttotal: 329ms\tremaining: 715ms\n",
      "315:\tlearn: 0.1758767\ttotal: 330ms\tremaining: 713ms\n",
      "316:\tlearn: 0.1754456\ttotal: 330ms\tremaining: 712ms\n",
      "317:\tlearn: 0.1750803\ttotal: 331ms\tremaining: 710ms\n",
      "318:\tlearn: 0.1747461\ttotal: 332ms\tremaining: 709ms\n",
      "319:\tlearn: 0.1743705\ttotal: 333ms\tremaining: 708ms\n",
      "320:\tlearn: 0.1742828\ttotal: 334ms\tremaining: 706ms\n",
      "321:\tlearn: 0.1740888\ttotal: 335ms\tremaining: 705ms\n",
      "322:\tlearn: 0.1737427\ttotal: 335ms\tremaining: 703ms\n",
      "323:\tlearn: 0.1733892\ttotal: 336ms\tremaining: 701ms\n",
      "324:\tlearn: 0.1729171\ttotal: 337ms\tremaining: 700ms\n",
      "325:\tlearn: 0.1724573\ttotal: 338ms\tremaining: 698ms\n",
      "326:\tlearn: 0.1723278\ttotal: 339ms\tremaining: 697ms\n",
      "327:\tlearn: 0.1719948\ttotal: 339ms\tremaining: 695ms\n",
      "328:\tlearn: 0.1719080\ttotal: 340ms\tremaining: 694ms\n",
      "329:\tlearn: 0.1716374\ttotal: 341ms\tremaining: 692ms\n",
      "330:\tlearn: 0.1710717\ttotal: 342ms\tremaining: 691ms\n",
      "331:\tlearn: 0.1706269\ttotal: 342ms\tremaining: 689ms\n",
      "332:\tlearn: 0.1704386\ttotal: 343ms\tremaining: 688ms\n",
      "333:\tlearn: 0.1703609\ttotal: 344ms\tremaining: 687ms\n",
      "334:\tlearn: 0.1698901\ttotal: 345ms\tremaining: 685ms\n",
      "335:\tlearn: 0.1697891\ttotal: 346ms\tremaining: 684ms\n",
      "336:\tlearn: 0.1692741\ttotal: 347ms\tremaining: 682ms\n",
      "337:\tlearn: 0.1689725\ttotal: 348ms\tremaining: 681ms\n",
      "338:\tlearn: 0.1685030\ttotal: 348ms\tremaining: 679ms\n",
      "339:\tlearn: 0.1679307\ttotal: 349ms\tremaining: 678ms\n",
      "340:\tlearn: 0.1674541\ttotal: 350ms\tremaining: 677ms\n",
      "341:\tlearn: 0.1672123\ttotal: 351ms\tremaining: 675ms\n",
      "342:\tlearn: 0.1667645\ttotal: 352ms\tremaining: 674ms\n",
      "343:\tlearn: 0.1661958\ttotal: 353ms\tremaining: 673ms\n",
      "344:\tlearn: 0.1658062\ttotal: 354ms\tremaining: 672ms\n",
      "345:\tlearn: 0.1654558\ttotal: 355ms\tremaining: 670ms\n",
      "346:\tlearn: 0.1649930\ttotal: 356ms\tremaining: 669ms\n",
      "347:\tlearn: 0.1646774\ttotal: 356ms\tremaining: 668ms\n",
      "348:\tlearn: 0.1642874\ttotal: 357ms\tremaining: 666ms\n",
      "349:\tlearn: 0.1639564\ttotal: 358ms\tremaining: 665ms\n",
      "350:\tlearn: 0.1633470\ttotal: 359ms\tremaining: 664ms\n",
      "351:\tlearn: 0.1629791\ttotal: 360ms\tremaining: 663ms\n",
      "352:\tlearn: 0.1626293\ttotal: 361ms\tremaining: 662ms\n",
      "353:\tlearn: 0.1622734\ttotal: 362ms\tremaining: 661ms\n",
      "354:\tlearn: 0.1617477\ttotal: 363ms\tremaining: 659ms\n",
      "355:\tlearn: 0.1615384\ttotal: 364ms\tremaining: 658ms\n",
      "356:\tlearn: 0.1612873\ttotal: 365ms\tremaining: 657ms\n",
      "357:\tlearn: 0.1609506\ttotal: 366ms\tremaining: 656ms\n",
      "358:\tlearn: 0.1607628\ttotal: 367ms\tremaining: 655ms\n",
      "359:\tlearn: 0.1603372\ttotal: 368ms\tremaining: 654ms\n",
      "360:\tlearn: 0.1600550\ttotal: 369ms\tremaining: 653ms\n",
      "361:\tlearn: 0.1597205\ttotal: 370ms\tremaining: 651ms\n",
      "362:\tlearn: 0.1593431\ttotal: 371ms\tremaining: 650ms\n",
      "363:\tlearn: 0.1591749\ttotal: 371ms\tremaining: 649ms\n",
      "364:\tlearn: 0.1588911\ttotal: 372ms\tremaining: 648ms\n",
      "365:\tlearn: 0.1585783\ttotal: 373ms\tremaining: 646ms\n",
      "366:\tlearn: 0.1582415\ttotal: 374ms\tremaining: 645ms\n",
      "367:\tlearn: 0.1576820\ttotal: 375ms\tremaining: 644ms\n",
      "368:\tlearn: 0.1573073\ttotal: 376ms\tremaining: 643ms\n",
      "369:\tlearn: 0.1568046\ttotal: 377ms\tremaining: 642ms\n",
      "370:\tlearn: 0.1565022\ttotal: 378ms\tremaining: 640ms\n",
      "371:\tlearn: 0.1563534\ttotal: 379ms\tremaining: 639ms\n",
      "372:\tlearn: 0.1560921\ttotal: 379ms\tremaining: 638ms\n",
      "373:\tlearn: 0.1557732\ttotal: 380ms\tremaining: 637ms\n",
      "374:\tlearn: 0.1556098\ttotal: 381ms\tremaining: 635ms\n",
      "375:\tlearn: 0.1551179\ttotal: 382ms\tremaining: 634ms\n"
     ]
    },
    {
     "name": "stdout",
     "output_type": "stream",
     "text": [
      "376:\tlearn: 0.1547586\ttotal: 383ms\tremaining: 633ms\n",
      "377:\tlearn: 0.1543440\ttotal: 384ms\tremaining: 632ms\n",
      "378:\tlearn: 0.1541605\ttotal: 385ms\tremaining: 630ms\n",
      "379:\tlearn: 0.1537498\ttotal: 385ms\tremaining: 629ms\n",
      "380:\tlearn: 0.1535171\ttotal: 386ms\tremaining: 627ms\n",
      "381:\tlearn: 0.1533101\ttotal: 387ms\tremaining: 626ms\n",
      "382:\tlearn: 0.1530455\ttotal: 388ms\tremaining: 624ms\n",
      "383:\tlearn: 0.1527396\ttotal: 388ms\tremaining: 623ms\n",
      "384:\tlearn: 0.1523877\ttotal: 389ms\tremaining: 622ms\n",
      "385:\tlearn: 0.1520373\ttotal: 390ms\tremaining: 620ms\n",
      "386:\tlearn: 0.1517813\ttotal: 391ms\tremaining: 619ms\n",
      "387:\tlearn: 0.1515104\ttotal: 392ms\tremaining: 618ms\n",
      "388:\tlearn: 0.1511148\ttotal: 392ms\tremaining: 616ms\n",
      "389:\tlearn: 0.1508298\ttotal: 394ms\tremaining: 616ms\n",
      "390:\tlearn: 0.1506115\ttotal: 395ms\tremaining: 615ms\n",
      "391:\tlearn: 0.1502895\ttotal: 396ms\tremaining: 614ms\n",
      "392:\tlearn: 0.1500663\ttotal: 396ms\tremaining: 612ms\n",
      "393:\tlearn: 0.1498365\ttotal: 397ms\tremaining: 611ms\n",
      "394:\tlearn: 0.1494675\ttotal: 398ms\tremaining: 610ms\n",
      "395:\tlearn: 0.1490116\ttotal: 399ms\tremaining: 608ms\n",
      "396:\tlearn: 0.1486200\ttotal: 400ms\tremaining: 607ms\n",
      "397:\tlearn: 0.1481150\ttotal: 401ms\tremaining: 606ms\n",
      "398:\tlearn: 0.1477396\ttotal: 402ms\tremaining: 605ms\n",
      "399:\tlearn: 0.1474944\ttotal: 402ms\tremaining: 603ms\n",
      "400:\tlearn: 0.1470543\ttotal: 403ms\tremaining: 602ms\n",
      "401:\tlearn: 0.1468967\ttotal: 404ms\tremaining: 601ms\n",
      "402:\tlearn: 0.1465655\ttotal: 405ms\tremaining: 599ms\n",
      "403:\tlearn: 0.1462729\ttotal: 405ms\tremaining: 598ms\n",
      "404:\tlearn: 0.1460765\ttotal: 406ms\tremaining: 597ms\n",
      "405:\tlearn: 0.1456787\ttotal: 407ms\tremaining: 595ms\n",
      "406:\tlearn: 0.1453618\ttotal: 408ms\tremaining: 594ms\n",
      "407:\tlearn: 0.1451037\ttotal: 409ms\tremaining: 593ms\n",
      "408:\tlearn: 0.1447583\ttotal: 409ms\tremaining: 592ms\n",
      "409:\tlearn: 0.1445039\ttotal: 410ms\tremaining: 590ms\n",
      "410:\tlearn: 0.1441903\ttotal: 411ms\tremaining: 589ms\n",
      "411:\tlearn: 0.1438107\ttotal: 412ms\tremaining: 588ms\n",
      "412:\tlearn: 0.1436271\ttotal: 413ms\tremaining: 587ms\n",
      "413:\tlearn: 0.1433324\ttotal: 414ms\tremaining: 585ms\n",
      "414:\tlearn: 0.1430397\ttotal: 414ms\tremaining: 584ms\n",
      "415:\tlearn: 0.1429757\ttotal: 415ms\tremaining: 583ms\n",
      "416:\tlearn: 0.1426470\ttotal: 416ms\tremaining: 582ms\n",
      "417:\tlearn: 0.1423717\ttotal: 417ms\tremaining: 581ms\n",
      "418:\tlearn: 0.1419963\ttotal: 418ms\tremaining: 579ms\n",
      "419:\tlearn: 0.1417984\ttotal: 419ms\tremaining: 578ms\n",
      "420:\tlearn: 0.1414216\ttotal: 419ms\tremaining: 577ms\n",
      "421:\tlearn: 0.1411477\ttotal: 420ms\tremaining: 576ms\n",
      "422:\tlearn: 0.1408548\ttotal: 421ms\tremaining: 574ms\n",
      "423:\tlearn: 0.1405140\ttotal: 422ms\tremaining: 573ms\n",
      "424:\tlearn: 0.1403197\ttotal: 423ms\tremaining: 573ms\n",
      "425:\tlearn: 0.1398515\ttotal: 424ms\tremaining: 571ms\n",
      "426:\tlearn: 0.1394970\ttotal: 425ms\tremaining: 570ms\n",
      "427:\tlearn: 0.1394338\ttotal: 426ms\tremaining: 569ms\n",
      "428:\tlearn: 0.1391585\ttotal: 426ms\tremaining: 567ms\n",
      "429:\tlearn: 0.1389069\ttotal: 427ms\tremaining: 566ms\n",
      "430:\tlearn: 0.1385442\ttotal: 428ms\tremaining: 565ms\n",
      "431:\tlearn: 0.1384987\ttotal: 429ms\tremaining: 564ms\n",
      "432:\tlearn: 0.1382929\ttotal: 430ms\tremaining: 563ms\n",
      "433:\tlearn: 0.1380242\ttotal: 430ms\tremaining: 561ms\n",
      "434:\tlearn: 0.1377652\ttotal: 431ms\tremaining: 560ms\n",
      "435:\tlearn: 0.1373991\ttotal: 432ms\tremaining: 559ms\n",
      "436:\tlearn: 0.1371033\ttotal: 433ms\tremaining: 557ms\n",
      "437:\tlearn: 0.1367812\ttotal: 434ms\tremaining: 556ms\n",
      "438:\tlearn: 0.1366072\ttotal: 434ms\tremaining: 555ms\n",
      "439:\tlearn: 0.1362732\ttotal: 435ms\tremaining: 554ms\n",
      "440:\tlearn: 0.1360118\ttotal: 436ms\tremaining: 552ms\n",
      "441:\tlearn: 0.1356696\ttotal: 437ms\tremaining: 551ms\n",
      "442:\tlearn: 0.1354888\ttotal: 437ms\tremaining: 550ms\n",
      "443:\tlearn: 0.1353359\ttotal: 438ms\tremaining: 549ms\n",
      "444:\tlearn: 0.1351117\ttotal: 439ms\tremaining: 548ms\n",
      "445:\tlearn: 0.1348156\ttotal: 440ms\tremaining: 546ms\n",
      "446:\tlearn: 0.1344764\ttotal: 441ms\tremaining: 545ms\n",
      "447:\tlearn: 0.1343094\ttotal: 442ms\tremaining: 544ms\n",
      "448:\tlearn: 0.1342492\ttotal: 442ms\tremaining: 543ms\n",
      "449:\tlearn: 0.1339627\ttotal: 443ms\tremaining: 542ms\n",
      "450:\tlearn: 0.1337370\ttotal: 444ms\tremaining: 540ms\n",
      "451:\tlearn: 0.1335088\ttotal: 445ms\tremaining: 539ms\n",
      "452:\tlearn: 0.1333470\ttotal: 445ms\tremaining: 538ms\n",
      "453:\tlearn: 0.1331866\ttotal: 446ms\tremaining: 537ms\n",
      "454:\tlearn: 0.1328720\ttotal: 447ms\tremaining: 536ms\n",
      "455:\tlearn: 0.1328011\ttotal: 448ms\tremaining: 534ms\n",
      "456:\tlearn: 0.1326210\ttotal: 449ms\tremaining: 533ms\n",
      "457:\tlearn: 0.1324589\ttotal: 450ms\tremaining: 532ms\n",
      "458:\tlearn: 0.1323497\ttotal: 450ms\tremaining: 531ms\n",
      "459:\tlearn: 0.1321161\ttotal: 451ms\tremaining: 530ms\n",
      "460:\tlearn: 0.1318325\ttotal: 452ms\tremaining: 528ms\n",
      "461:\tlearn: 0.1316181\ttotal: 453ms\tremaining: 527ms\n",
      "462:\tlearn: 0.1315842\ttotal: 454ms\tremaining: 526ms\n",
      "463:\tlearn: 0.1313392\ttotal: 454ms\tremaining: 525ms\n",
      "464:\tlearn: 0.1312197\ttotal: 455ms\tremaining: 524ms\n",
      "465:\tlearn: 0.1310141\ttotal: 456ms\tremaining: 523ms\n",
      "466:\tlearn: 0.1308495\ttotal: 457ms\tremaining: 521ms\n",
      "467:\tlearn: 0.1305979\ttotal: 458ms\tremaining: 520ms\n",
      "468:\tlearn: 0.1302595\ttotal: 458ms\tremaining: 519ms\n",
      "469:\tlearn: 0.1302172\ttotal: 459ms\tremaining: 518ms\n",
      "470:\tlearn: 0.1298888\ttotal: 460ms\tremaining: 517ms\n",
      "471:\tlearn: 0.1295301\ttotal: 461ms\tremaining: 516ms\n",
      "472:\tlearn: 0.1292692\ttotal: 462ms\tremaining: 514ms\n",
      "473:\tlearn: 0.1290799\ttotal: 462ms\tremaining: 513ms\n",
      "474:\tlearn: 0.1287901\ttotal: 463ms\tremaining: 512ms\n",
      "475:\tlearn: 0.1287394\ttotal: 464ms\tremaining: 511ms\n",
      "476:\tlearn: 0.1285195\ttotal: 465ms\tremaining: 510ms\n",
      "477:\tlearn: 0.1284765\ttotal: 466ms\tremaining: 509ms\n",
      "478:\tlearn: 0.1282311\ttotal: 467ms\tremaining: 508ms\n",
      "479:\tlearn: 0.1279935\ttotal: 468ms\tremaining: 507ms\n",
      "480:\tlearn: 0.1277085\ttotal: 468ms\tremaining: 505ms\n",
      "481:\tlearn: 0.1275362\ttotal: 469ms\tremaining: 504ms\n",
      "482:\tlearn: 0.1275023\ttotal: 470ms\tremaining: 503ms\n",
      "483:\tlearn: 0.1271102\ttotal: 471ms\tremaining: 502ms\n",
      "484:\tlearn: 0.1267588\ttotal: 472ms\tremaining: 501ms\n",
      "485:\tlearn: 0.1265760\ttotal: 472ms\tremaining: 500ms\n",
      "486:\tlearn: 0.1262569\ttotal: 473ms\tremaining: 498ms\n",
      "487:\tlearn: 0.1260634\ttotal: 474ms\tremaining: 497ms\n",
      "488:\tlearn: 0.1258550\ttotal: 475ms\tremaining: 496ms\n",
      "489:\tlearn: 0.1257077\ttotal: 476ms\tremaining: 495ms\n",
      "490:\tlearn: 0.1254466\ttotal: 477ms\tremaining: 494ms\n",
      "491:\tlearn: 0.1252844\ttotal: 477ms\tremaining: 493ms\n",
      "492:\tlearn: 0.1251721\ttotal: 478ms\tremaining: 492ms\n",
      "493:\tlearn: 0.1248883\ttotal: 479ms\tremaining: 491ms\n",
      "494:\tlearn: 0.1246457\ttotal: 480ms\tremaining: 490ms\n",
      "495:\tlearn: 0.1243847\ttotal: 481ms\tremaining: 488ms\n",
      "496:\tlearn: 0.1240525\ttotal: 481ms\tremaining: 487ms\n",
      "497:\tlearn: 0.1237674\ttotal: 482ms\tremaining: 486ms\n",
      "498:\tlearn: 0.1234334\ttotal: 483ms\tremaining: 485ms\n",
      "499:\tlearn: 0.1231064\ttotal: 484ms\tremaining: 484ms\n",
      "500:\tlearn: 0.1228123\ttotal: 485ms\tremaining: 483ms\n",
      "501:\tlearn: 0.1225414\ttotal: 486ms\tremaining: 482ms\n",
      "502:\tlearn: 0.1222912\ttotal: 487ms\tremaining: 481ms\n",
      "503:\tlearn: 0.1219219\ttotal: 488ms\tremaining: 480ms\n",
      "504:\tlearn: 0.1217671\ttotal: 489ms\tremaining: 479ms\n",
      "505:\tlearn: 0.1214438\ttotal: 489ms\tremaining: 478ms\n"
     ]
    },
    {
     "name": "stdout",
     "output_type": "stream",
     "text": [
      "506:\tlearn: 0.1212276\ttotal: 490ms\tremaining: 477ms\n",
      "507:\tlearn: 0.1211873\ttotal: 491ms\tremaining: 476ms\n",
      "508:\tlearn: 0.1209960\ttotal: 492ms\tremaining: 475ms\n",
      "509:\tlearn: 0.1209048\ttotal: 493ms\tremaining: 473ms\n",
      "510:\tlearn: 0.1206274\ttotal: 494ms\tremaining: 472ms\n",
      "511:\tlearn: 0.1205044\ttotal: 494ms\tremaining: 471ms\n",
      "512:\tlearn: 0.1204606\ttotal: 495ms\tremaining: 470ms\n",
      "513:\tlearn: 0.1201792\ttotal: 496ms\tremaining: 469ms\n",
      "514:\tlearn: 0.1199872\ttotal: 497ms\tremaining: 468ms\n",
      "515:\tlearn: 0.1198610\ttotal: 498ms\tremaining: 467ms\n",
      "516:\tlearn: 0.1196974\ttotal: 499ms\tremaining: 466ms\n",
      "517:\tlearn: 0.1195552\ttotal: 500ms\tremaining: 465ms\n",
      "518:\tlearn: 0.1193415\ttotal: 500ms\tremaining: 464ms\n",
      "519:\tlearn: 0.1190057\ttotal: 501ms\tremaining: 463ms\n",
      "520:\tlearn: 0.1187504\ttotal: 502ms\tremaining: 462ms\n",
      "521:\tlearn: 0.1184082\ttotal: 503ms\tremaining: 460ms\n",
      "522:\tlearn: 0.1181382\ttotal: 504ms\tremaining: 459ms\n",
      "523:\tlearn: 0.1179973\ttotal: 505ms\tremaining: 458ms\n",
      "524:\tlearn: 0.1177341\ttotal: 505ms\tremaining: 457ms\n",
      "525:\tlearn: 0.1174832\ttotal: 506ms\tremaining: 456ms\n",
      "526:\tlearn: 0.1172463\ttotal: 507ms\tremaining: 455ms\n",
      "527:\tlearn: 0.1169749\ttotal: 508ms\tremaining: 454ms\n",
      "528:\tlearn: 0.1167884\ttotal: 509ms\tremaining: 453ms\n",
      "529:\tlearn: 0.1165868\ttotal: 509ms\tremaining: 452ms\n",
      "530:\tlearn: 0.1164307\ttotal: 510ms\tremaining: 451ms\n",
      "531:\tlearn: 0.1161737\ttotal: 511ms\tremaining: 450ms\n",
      "532:\tlearn: 0.1159926\ttotal: 512ms\tremaining: 449ms\n",
      "533:\tlearn: 0.1158091\ttotal: 513ms\tremaining: 447ms\n",
      "534:\tlearn: 0.1155804\ttotal: 514ms\tremaining: 446ms\n",
      "535:\tlearn: 0.1153950\ttotal: 514ms\tremaining: 445ms\n",
      "536:\tlearn: 0.1151201\ttotal: 515ms\tremaining: 444ms\n",
      "537:\tlearn: 0.1148832\ttotal: 516ms\tremaining: 443ms\n",
      "538:\tlearn: 0.1146713\ttotal: 517ms\tremaining: 442ms\n",
      "539:\tlearn: 0.1145476\ttotal: 517ms\tremaining: 441ms\n",
      "540:\tlearn: 0.1143317\ttotal: 518ms\tremaining: 440ms\n",
      "541:\tlearn: 0.1141206\ttotal: 519ms\tremaining: 439ms\n",
      "542:\tlearn: 0.1140804\ttotal: 520ms\tremaining: 437ms\n",
      "543:\tlearn: 0.1138366\ttotal: 521ms\tremaining: 436ms\n",
      "544:\tlearn: 0.1135820\ttotal: 521ms\tremaining: 435ms\n",
      "545:\tlearn: 0.1133590\ttotal: 522ms\tremaining: 434ms\n",
      "546:\tlearn: 0.1131829\ttotal: 523ms\tremaining: 433ms\n",
      "547:\tlearn: 0.1129949\ttotal: 524ms\tremaining: 432ms\n",
      "548:\tlearn: 0.1127724\ttotal: 525ms\tremaining: 431ms\n",
      "549:\tlearn: 0.1125654\ttotal: 525ms\tremaining: 430ms\n",
      "550:\tlearn: 0.1122935\ttotal: 526ms\tremaining: 429ms\n",
      "551:\tlearn: 0.1121363\ttotal: 527ms\tremaining: 428ms\n",
      "552:\tlearn: 0.1119633\ttotal: 528ms\tremaining: 427ms\n",
      "553:\tlearn: 0.1119252\ttotal: 529ms\tremaining: 426ms\n",
      "554:\tlearn: 0.1116880\ttotal: 529ms\tremaining: 424ms\n",
      "555:\tlearn: 0.1114454\ttotal: 530ms\tremaining: 423ms\n",
      "556:\tlearn: 0.1113450\ttotal: 531ms\tremaining: 422ms\n",
      "557:\tlearn: 0.1112982\ttotal: 532ms\tremaining: 421ms\n",
      "558:\tlearn: 0.1110470\ttotal: 532ms\tremaining: 420ms\n",
      "559:\tlearn: 0.1109105\ttotal: 533ms\tremaining: 419ms\n",
      "560:\tlearn: 0.1108404\ttotal: 534ms\tremaining: 418ms\n",
      "561:\tlearn: 0.1106003\ttotal: 535ms\tremaining: 417ms\n",
      "562:\tlearn: 0.1105028\ttotal: 536ms\tremaining: 416ms\n",
      "563:\tlearn: 0.1103746\ttotal: 537ms\tremaining: 415ms\n",
      "564:\tlearn: 0.1101493\ttotal: 537ms\tremaining: 414ms\n",
      "565:\tlearn: 0.1099692\ttotal: 538ms\tremaining: 413ms\n",
      "566:\tlearn: 0.1097774\ttotal: 539ms\tremaining: 412ms\n",
      "567:\tlearn: 0.1095810\ttotal: 540ms\tremaining: 411ms\n",
      "568:\tlearn: 0.1093895\ttotal: 541ms\tremaining: 410ms\n",
      "569:\tlearn: 0.1091687\ttotal: 541ms\tremaining: 408ms\n",
      "570:\tlearn: 0.1089425\ttotal: 542ms\tremaining: 407ms\n",
      "571:\tlearn: 0.1088660\ttotal: 543ms\tremaining: 406ms\n",
      "572:\tlearn: 0.1087570\ttotal: 544ms\tremaining: 405ms\n",
      "573:\tlearn: 0.1085487\ttotal: 545ms\tremaining: 404ms\n",
      "574:\tlearn: 0.1083481\ttotal: 545ms\tremaining: 403ms\n",
      "575:\tlearn: 0.1080626\ttotal: 546ms\tremaining: 402ms\n",
      "576:\tlearn: 0.1079165\ttotal: 547ms\tremaining: 401ms\n",
      "577:\tlearn: 0.1078902\ttotal: 548ms\tremaining: 400ms\n",
      "578:\tlearn: 0.1076740\ttotal: 548ms\tremaining: 399ms\n",
      "579:\tlearn: 0.1076109\ttotal: 549ms\tremaining: 398ms\n",
      "580:\tlearn: 0.1073456\ttotal: 550ms\tremaining: 397ms\n",
      "581:\tlearn: 0.1071415\ttotal: 551ms\tremaining: 396ms\n",
      "582:\tlearn: 0.1069509\ttotal: 552ms\tremaining: 395ms\n",
      "583:\tlearn: 0.1067721\ttotal: 552ms\tremaining: 394ms\n",
      "584:\tlearn: 0.1065128\ttotal: 553ms\tremaining: 392ms\n",
      "585:\tlearn: 0.1062864\ttotal: 554ms\tremaining: 391ms\n",
      "586:\tlearn: 0.1061759\ttotal: 555ms\tremaining: 390ms\n",
      "587:\tlearn: 0.1060954\ttotal: 556ms\tremaining: 389ms\n",
      "588:\tlearn: 0.1058341\ttotal: 557ms\tremaining: 388ms\n",
      "589:\tlearn: 0.1056975\ttotal: 557ms\tremaining: 387ms\n",
      "590:\tlearn: 0.1055292\ttotal: 558ms\tremaining: 386ms\n",
      "591:\tlearn: 0.1054796\ttotal: 559ms\tremaining: 385ms\n",
      "592:\tlearn: 0.1052038\ttotal: 560ms\tremaining: 384ms\n",
      "593:\tlearn: 0.1051227\ttotal: 561ms\tremaining: 383ms\n",
      "594:\tlearn: 0.1050540\ttotal: 561ms\tremaining: 382ms\n",
      "595:\tlearn: 0.1048922\ttotal: 562ms\tremaining: 381ms\n",
      "596:\tlearn: 0.1047395\ttotal: 563ms\tremaining: 380ms\n",
      "597:\tlearn: 0.1045346\ttotal: 564ms\tremaining: 379ms\n",
      "598:\tlearn: 0.1044557\ttotal: 565ms\tremaining: 378ms\n",
      "599:\tlearn: 0.1044411\ttotal: 565ms\tremaining: 377ms\n",
      "600:\tlearn: 0.1041849\ttotal: 566ms\tremaining: 376ms\n",
      "601:\tlearn: 0.1040548\ttotal: 567ms\tremaining: 375ms\n",
      "602:\tlearn: 0.1038510\ttotal: 568ms\tremaining: 374ms\n",
      "603:\tlearn: 0.1036497\ttotal: 569ms\tremaining: 373ms\n",
      "604:\tlearn: 0.1035847\ttotal: 569ms\tremaining: 372ms\n",
      "605:\tlearn: 0.1034041\ttotal: 570ms\tremaining: 371ms\n",
      "606:\tlearn: 0.1032243\ttotal: 571ms\tremaining: 370ms\n",
      "607:\tlearn: 0.1030148\ttotal: 572ms\tremaining: 369ms\n",
      "608:\tlearn: 0.1027926\ttotal: 573ms\tremaining: 368ms\n"
     ]
    },
    {
     "name": "stdout",
     "output_type": "stream",
     "text": [
      "609:\tlearn: 0.1026212\ttotal: 574ms\tremaining: 367ms\n",
      "610:\tlearn: 0.1024849\ttotal: 574ms\tremaining: 366ms\n",
      "611:\tlearn: 0.1022972\ttotal: 575ms\tremaining: 365ms\n",
      "612:\tlearn: 0.1020954\ttotal: 576ms\tremaining: 364ms\n",
      "613:\tlearn: 0.1018741\ttotal: 577ms\tremaining: 363ms\n",
      "614:\tlearn: 0.1017419\ttotal: 578ms\tremaining: 362ms\n",
      "615:\tlearn: 0.1016161\ttotal: 578ms\tremaining: 361ms\n",
      "616:\tlearn: 0.1014409\ttotal: 579ms\tremaining: 359ms\n",
      "617:\tlearn: 0.1012937\ttotal: 580ms\tremaining: 358ms\n",
      "618:\tlearn: 0.1012549\ttotal: 581ms\tremaining: 357ms\n",
      "619:\tlearn: 0.1011969\ttotal: 582ms\tremaining: 356ms\n",
      "620:\tlearn: 0.1011322\ttotal: 582ms\tremaining: 355ms\n",
      "621:\tlearn: 0.1009603\ttotal: 583ms\tremaining: 354ms\n",
      "622:\tlearn: 0.1007114\ttotal: 584ms\tremaining: 353ms\n",
      "623:\tlearn: 0.1005486\ttotal: 585ms\tremaining: 352ms\n",
      "624:\tlearn: 0.1002601\ttotal: 586ms\tremaining: 351ms\n",
      "625:\tlearn: 0.1000446\ttotal: 586ms\tremaining: 350ms\n",
      "626:\tlearn: 0.0998846\ttotal: 587ms\tremaining: 349ms\n",
      "627:\tlearn: 0.0996119\ttotal: 588ms\tremaining: 348ms\n",
      "628:\tlearn: 0.0994222\ttotal: 590ms\tremaining: 348ms\n",
      "629:\tlearn: 0.0992820\ttotal: 591ms\tremaining: 347ms\n",
      "630:\tlearn: 0.0991490\ttotal: 591ms\tremaining: 346ms\n",
      "631:\tlearn: 0.0990465\ttotal: 592ms\tremaining: 345ms\n",
      "632:\tlearn: 0.0988388\ttotal: 593ms\tremaining: 344ms\n",
      "633:\tlearn: 0.0986264\ttotal: 594ms\tremaining: 343ms\n",
      "634:\tlearn: 0.0984658\ttotal: 594ms\tremaining: 342ms\n",
      "635:\tlearn: 0.0983452\ttotal: 595ms\tremaining: 341ms\n",
      "636:\tlearn: 0.0982049\ttotal: 596ms\tremaining: 340ms\n",
      "637:\tlearn: 0.0980068\ttotal: 597ms\tremaining: 339ms\n",
      "638:\tlearn: 0.0977739\ttotal: 598ms\tremaining: 338ms\n",
      "639:\tlearn: 0.0977252\ttotal: 599ms\tremaining: 337ms\n",
      "640:\tlearn: 0.0976257\ttotal: 600ms\tremaining: 336ms\n",
      "641:\tlearn: 0.0975298\ttotal: 600ms\tremaining: 335ms\n",
      "642:\tlearn: 0.0974121\ttotal: 601ms\tremaining: 334ms\n",
      "643:\tlearn: 0.0971971\ttotal: 602ms\tremaining: 333ms\n",
      "644:\tlearn: 0.0969945\ttotal: 603ms\tremaining: 332ms\n",
      "645:\tlearn: 0.0968379\ttotal: 604ms\tremaining: 331ms\n",
      "646:\tlearn: 0.0966313\ttotal: 604ms\tremaining: 330ms\n",
      "647:\tlearn: 0.0964636\ttotal: 606ms\tremaining: 329ms\n",
      "648:\tlearn: 0.0963460\ttotal: 607ms\tremaining: 328ms\n",
      "649:\tlearn: 0.0961340\ttotal: 608ms\tremaining: 327ms\n",
      "650:\tlearn: 0.0960936\ttotal: 608ms\tremaining: 326ms\n",
      "651:\tlearn: 0.0960806\ttotal: 609ms\tremaining: 325ms\n",
      "652:\tlearn: 0.0958772\ttotal: 610ms\tremaining: 324ms\n",
      "653:\tlearn: 0.0957458\ttotal: 611ms\tremaining: 323ms\n",
      "654:\tlearn: 0.0957274\ttotal: 612ms\tremaining: 322ms\n",
      "655:\tlearn: 0.0957157\ttotal: 613ms\tremaining: 321ms\n",
      "656:\tlearn: 0.0956037\ttotal: 614ms\tremaining: 321ms\n",
      "657:\tlearn: 0.0954250\ttotal: 615ms\tremaining: 320ms\n",
      "658:\tlearn: 0.0952142\ttotal: 616ms\tremaining: 319ms\n",
      "659:\tlearn: 0.0950053\ttotal: 617ms\tremaining: 318ms\n",
      "660:\tlearn: 0.0949668\ttotal: 618ms\tremaining: 317ms\n",
      "661:\tlearn: 0.0948585\ttotal: 618ms\tremaining: 316ms\n",
      "662:\tlearn: 0.0946099\ttotal: 619ms\tremaining: 315ms\n",
      "663:\tlearn: 0.0944820\ttotal: 620ms\tremaining: 314ms\n",
      "664:\tlearn: 0.0943288\ttotal: 621ms\tremaining: 313ms\n",
      "665:\tlearn: 0.0941800\ttotal: 622ms\tremaining: 312ms\n",
      "666:\tlearn: 0.0940734\ttotal: 622ms\tremaining: 311ms\n",
      "667:\tlearn: 0.0939823\ttotal: 623ms\tremaining: 310ms\n",
      "668:\tlearn: 0.0937779\ttotal: 624ms\tremaining: 309ms\n",
      "669:\tlearn: 0.0935358\ttotal: 625ms\tremaining: 308ms\n",
      "670:\tlearn: 0.0933753\ttotal: 626ms\tremaining: 307ms\n",
      "671:\tlearn: 0.0931888\ttotal: 627ms\tremaining: 306ms\n",
      "672:\tlearn: 0.0930868\ttotal: 628ms\tremaining: 305ms\n",
      "673:\tlearn: 0.0929953\ttotal: 628ms\tremaining: 304ms\n",
      "674:\tlearn: 0.0929138\ttotal: 629ms\tremaining: 303ms\n",
      "675:\tlearn: 0.0926841\ttotal: 630ms\tremaining: 302ms\n",
      "676:\tlearn: 0.0925137\ttotal: 631ms\tremaining: 301ms\n",
      "677:\tlearn: 0.0923997\ttotal: 632ms\tremaining: 300ms\n",
      "678:\tlearn: 0.0922075\ttotal: 633ms\tremaining: 299ms\n",
      "679:\tlearn: 0.0921010\ttotal: 634ms\tremaining: 298ms\n",
      "680:\tlearn: 0.0919966\ttotal: 634ms\tremaining: 297ms\n",
      "681:\tlearn: 0.0918941\ttotal: 635ms\tremaining: 296ms\n",
      "682:\tlearn: 0.0917976\ttotal: 636ms\tremaining: 295ms\n",
      "683:\tlearn: 0.0916489\ttotal: 637ms\tremaining: 294ms\n",
      "684:\tlearn: 0.0915356\ttotal: 638ms\tremaining: 293ms\n",
      "685:\tlearn: 0.0913899\ttotal: 638ms\tremaining: 292ms\n",
      "686:\tlearn: 0.0912960\ttotal: 639ms\tremaining: 291ms\n",
      "687:\tlearn: 0.0911293\ttotal: 640ms\tremaining: 290ms\n",
      "688:\tlearn: 0.0909859\ttotal: 641ms\tremaining: 289ms\n",
      "689:\tlearn: 0.0908838\ttotal: 642ms\tremaining: 288ms\n",
      "690:\tlearn: 0.0908002\ttotal: 643ms\tremaining: 287ms\n",
      "691:\tlearn: 0.0906259\ttotal: 643ms\tremaining: 286ms\n",
      "692:\tlearn: 0.0905910\ttotal: 644ms\tremaining: 285ms\n",
      "693:\tlearn: 0.0904054\ttotal: 645ms\tremaining: 284ms\n",
      "694:\tlearn: 0.0902537\ttotal: 646ms\tremaining: 283ms\n",
      "695:\tlearn: 0.0901058\ttotal: 647ms\tremaining: 282ms\n",
      "696:\tlearn: 0.0900518\ttotal: 647ms\tremaining: 281ms\n",
      "697:\tlearn: 0.0899467\ttotal: 648ms\tremaining: 280ms\n",
      "698:\tlearn: 0.0898333\ttotal: 649ms\tremaining: 279ms\n",
      "699:\tlearn: 0.0897295\ttotal: 650ms\tremaining: 279ms\n",
      "700:\tlearn: 0.0895885\ttotal: 651ms\tremaining: 278ms\n",
      "701:\tlearn: 0.0895542\ttotal: 651ms\tremaining: 277ms\n",
      "702:\tlearn: 0.0894907\ttotal: 652ms\tremaining: 276ms\n",
      "703:\tlearn: 0.0893090\ttotal: 653ms\tremaining: 275ms\n",
      "704:\tlearn: 0.0892076\ttotal: 654ms\tremaining: 274ms\n",
      "705:\tlearn: 0.0889996\ttotal: 655ms\tremaining: 273ms\n",
      "706:\tlearn: 0.0887589\ttotal: 655ms\tremaining: 272ms\n",
      "707:\tlearn: 0.0886448\ttotal: 656ms\tremaining: 271ms\n",
      "708:\tlearn: 0.0883908\ttotal: 657ms\tremaining: 270ms\n",
      "709:\tlearn: 0.0882311\ttotal: 658ms\tremaining: 269ms\n",
      "710:\tlearn: 0.0881373\ttotal: 659ms\tremaining: 268ms\n",
      "711:\tlearn: 0.0880640\ttotal: 660ms\tremaining: 267ms\n",
      "712:\tlearn: 0.0879349\ttotal: 661ms\tremaining: 266ms\n",
      "713:\tlearn: 0.0879066\ttotal: 661ms\tremaining: 265ms\n",
      "714:\tlearn: 0.0877988\ttotal: 662ms\tremaining: 264ms\n",
      "715:\tlearn: 0.0876196\ttotal: 663ms\tremaining: 263ms\n",
      "716:\tlearn: 0.0874208\ttotal: 664ms\tremaining: 262ms\n",
      "717:\tlearn: 0.0872332\ttotal: 664ms\tremaining: 261ms\n",
      "718:\tlearn: 0.0871402\ttotal: 665ms\tremaining: 260ms\n",
      "719:\tlearn: 0.0869870\ttotal: 666ms\tremaining: 259ms\n",
      "720:\tlearn: 0.0868610\ttotal: 667ms\tremaining: 258ms\n",
      "721:\tlearn: 0.0866968\ttotal: 668ms\tremaining: 257ms\n",
      "722:\tlearn: 0.0865049\ttotal: 669ms\tremaining: 256ms\n",
      "723:\tlearn: 0.0863959\ttotal: 669ms\tremaining: 255ms\n",
      "724:\tlearn: 0.0862470\ttotal: 670ms\tremaining: 254ms\n",
      "725:\tlearn: 0.0862087\ttotal: 671ms\tremaining: 253ms\n",
      "726:\tlearn: 0.0860718\ttotal: 672ms\tremaining: 252ms\n",
      "727:\tlearn: 0.0859684\ttotal: 673ms\tremaining: 251ms\n",
      "728:\tlearn: 0.0858234\ttotal: 673ms\tremaining: 250ms\n",
      "729:\tlearn: 0.0856881\ttotal: 674ms\tremaining: 249ms\n",
      "730:\tlearn: 0.0856356\ttotal: 675ms\tremaining: 248ms\n",
      "731:\tlearn: 0.0855451\ttotal: 676ms\tremaining: 247ms\n",
      "732:\tlearn: 0.0853485\ttotal: 677ms\tremaining: 246ms\n",
      "733:\tlearn: 0.0852228\ttotal: 677ms\tremaining: 246ms\n",
      "734:\tlearn: 0.0851585\ttotal: 678ms\tremaining: 245ms\n",
      "735:\tlearn: 0.0850416\ttotal: 679ms\tremaining: 244ms\n",
      "736:\tlearn: 0.0849518\ttotal: 680ms\tremaining: 243ms\n"
     ]
    },
    {
     "name": "stdout",
     "output_type": "stream",
     "text": [
      "737:\tlearn: 0.0848584\ttotal: 681ms\tremaining: 242ms\n",
      "738:\tlearn: 0.0847368\ttotal: 682ms\tremaining: 241ms\n",
      "739:\tlearn: 0.0846341\ttotal: 683ms\tremaining: 240ms\n",
      "740:\tlearn: 0.0845418\ttotal: 683ms\tremaining: 239ms\n",
      "741:\tlearn: 0.0844597\ttotal: 684ms\tremaining: 238ms\n",
      "742:\tlearn: 0.0843395\ttotal: 685ms\tremaining: 237ms\n",
      "743:\tlearn: 0.0842477\ttotal: 686ms\tremaining: 236ms\n",
      "744:\tlearn: 0.0841609\ttotal: 687ms\tremaining: 235ms\n",
      "745:\tlearn: 0.0840696\ttotal: 687ms\tremaining: 234ms\n",
      "746:\tlearn: 0.0839868\ttotal: 688ms\tremaining: 233ms\n",
      "747:\tlearn: 0.0837938\ttotal: 689ms\tremaining: 232ms\n",
      "748:\tlearn: 0.0835791\ttotal: 690ms\tremaining: 231ms\n",
      "749:\tlearn: 0.0835173\ttotal: 691ms\tremaining: 230ms\n",
      "750:\tlearn: 0.0834608\ttotal: 692ms\tremaining: 229ms\n",
      "751:\tlearn: 0.0833393\ttotal: 692ms\tremaining: 228ms\n",
      "752:\tlearn: 0.0832703\ttotal: 693ms\tremaining: 227ms\n",
      "753:\tlearn: 0.0831128\ttotal: 694ms\tremaining: 226ms\n",
      "754:\tlearn: 0.0830335\ttotal: 695ms\tremaining: 226ms\n",
      "755:\tlearn: 0.0829524\ttotal: 696ms\tremaining: 225ms\n",
      "756:\tlearn: 0.0829319\ttotal: 697ms\tremaining: 224ms\n",
      "757:\tlearn: 0.0829041\ttotal: 698ms\tremaining: 223ms\n",
      "758:\tlearn: 0.0828410\ttotal: 698ms\tremaining: 222ms\n",
      "759:\tlearn: 0.0826749\ttotal: 699ms\tremaining: 221ms\n",
      "760:\tlearn: 0.0825018\ttotal: 700ms\tremaining: 220ms\n",
      "761:\tlearn: 0.0824154\ttotal: 701ms\tremaining: 219ms\n",
      "762:\tlearn: 0.0823447\ttotal: 702ms\tremaining: 218ms\n",
      "763:\tlearn: 0.0822468\ttotal: 703ms\tremaining: 217ms\n",
      "764:\tlearn: 0.0821657\ttotal: 703ms\tremaining: 216ms\n",
      "765:\tlearn: 0.0820287\ttotal: 704ms\tremaining: 215ms\n",
      "766:\tlearn: 0.0817645\ttotal: 705ms\tremaining: 214ms\n",
      "767:\tlearn: 0.0816500\ttotal: 706ms\tremaining: 213ms\n",
      "768:\tlearn: 0.0815830\ttotal: 707ms\tremaining: 212ms\n",
      "769:\tlearn: 0.0813850\ttotal: 707ms\tremaining: 211ms\n",
      "770:\tlearn: 0.0812542\ttotal: 708ms\tremaining: 210ms\n",
      "771:\tlearn: 0.0811137\ttotal: 709ms\tremaining: 209ms\n",
      "772:\tlearn: 0.0809962\ttotal: 710ms\tremaining: 208ms\n",
      "773:\tlearn: 0.0808328\ttotal: 711ms\tremaining: 207ms\n",
      "774:\tlearn: 0.0807207\ttotal: 711ms\tremaining: 207ms\n",
      "775:\tlearn: 0.0805476\ttotal: 712ms\tremaining: 206ms\n",
      "776:\tlearn: 0.0805024\ttotal: 713ms\tremaining: 205ms\n",
      "777:\tlearn: 0.0804763\ttotal: 714ms\tremaining: 204ms\n",
      "778:\tlearn: 0.0804083\ttotal: 715ms\tremaining: 203ms\n",
      "779:\tlearn: 0.0803124\ttotal: 715ms\tremaining: 202ms\n",
      "780:\tlearn: 0.0802067\ttotal: 716ms\tremaining: 201ms\n",
      "781:\tlearn: 0.0801431\ttotal: 717ms\tremaining: 200ms\n",
      "782:\tlearn: 0.0800225\ttotal: 718ms\tremaining: 199ms\n",
      "783:\tlearn: 0.0799305\ttotal: 719ms\tremaining: 198ms\n",
      "784:\tlearn: 0.0797762\ttotal: 720ms\tremaining: 197ms\n",
      "785:\tlearn: 0.0796469\ttotal: 720ms\tremaining: 196ms\n",
      "786:\tlearn: 0.0795625\ttotal: 721ms\tremaining: 195ms\n",
      "787:\tlearn: 0.0794701\ttotal: 722ms\tremaining: 194ms\n",
      "788:\tlearn: 0.0794189\ttotal: 723ms\tremaining: 193ms\n",
      "789:\tlearn: 0.0792553\ttotal: 724ms\tremaining: 192ms\n",
      "790:\tlearn: 0.0790758\ttotal: 724ms\tremaining: 191ms\n",
      "791:\tlearn: 0.0789195\ttotal: 725ms\tremaining: 190ms\n",
      "792:\tlearn: 0.0788351\ttotal: 726ms\tremaining: 189ms\n",
      "793:\tlearn: 0.0787359\ttotal: 727ms\tremaining: 189ms\n",
      "794:\tlearn: 0.0786647\ttotal: 727ms\tremaining: 188ms\n",
      "795:\tlearn: 0.0785117\ttotal: 728ms\tremaining: 187ms\n",
      "796:\tlearn: 0.0783125\ttotal: 729ms\tremaining: 186ms\n",
      "797:\tlearn: 0.0782840\ttotal: 730ms\tremaining: 185ms\n",
      "798:\tlearn: 0.0781858\ttotal: 731ms\tremaining: 184ms\n",
      "799:\tlearn: 0.0781088\ttotal: 731ms\tremaining: 183ms\n",
      "800:\tlearn: 0.0779999\ttotal: 732ms\tremaining: 182ms\n",
      "801:\tlearn: 0.0779046\ttotal: 733ms\tremaining: 181ms\n",
      "802:\tlearn: 0.0777533\ttotal: 734ms\tremaining: 180ms\n",
      "803:\tlearn: 0.0775784\ttotal: 735ms\tremaining: 179ms\n",
      "804:\tlearn: 0.0774634\ttotal: 735ms\tremaining: 178ms\n",
      "805:\tlearn: 0.0773845\ttotal: 737ms\tremaining: 177ms\n",
      "806:\tlearn: 0.0772792\ttotal: 738ms\tremaining: 176ms\n",
      "807:\tlearn: 0.0770659\ttotal: 738ms\tremaining: 175ms\n",
      "808:\tlearn: 0.0769366\ttotal: 739ms\tremaining: 175ms\n",
      "809:\tlearn: 0.0768437\ttotal: 740ms\tremaining: 174ms\n",
      "810:\tlearn: 0.0766459\ttotal: 741ms\tremaining: 173ms\n",
      "811:\tlearn: 0.0765073\ttotal: 742ms\tremaining: 172ms\n",
      "812:\tlearn: 0.0764515\ttotal: 743ms\tremaining: 171ms\n",
      "813:\tlearn: 0.0763665\ttotal: 744ms\tremaining: 170ms\n",
      "814:\tlearn: 0.0763030\ttotal: 745ms\tremaining: 169ms\n",
      "815:\tlearn: 0.0761496\ttotal: 746ms\tremaining: 168ms\n",
      "816:\tlearn: 0.0760846\ttotal: 747ms\tremaining: 167ms\n",
      "817:\tlearn: 0.0759634\ttotal: 747ms\tremaining: 166ms\n",
      "818:\tlearn: 0.0757869\ttotal: 748ms\tremaining: 165ms\n",
      "819:\tlearn: 0.0757047\ttotal: 749ms\tremaining: 164ms\n",
      "820:\tlearn: 0.0755642\ttotal: 750ms\tremaining: 164ms\n",
      "821:\tlearn: 0.0754111\ttotal: 751ms\tremaining: 163ms\n",
      "822:\tlearn: 0.0753760\ttotal: 752ms\tremaining: 162ms\n",
      "823:\tlearn: 0.0752284\ttotal: 753ms\tremaining: 161ms\n",
      "824:\tlearn: 0.0751454\ttotal: 754ms\tremaining: 160ms\n",
      "825:\tlearn: 0.0750594\ttotal: 755ms\tremaining: 159ms\n",
      "826:\tlearn: 0.0749046\ttotal: 755ms\tremaining: 158ms\n",
      "827:\tlearn: 0.0748617\ttotal: 756ms\tremaining: 157ms\n",
      "828:\tlearn: 0.0747570\ttotal: 757ms\tremaining: 156ms\n",
      "829:\tlearn: 0.0746177\ttotal: 758ms\tremaining: 155ms\n",
      "830:\tlearn: 0.0745870\ttotal: 759ms\tremaining: 154ms\n",
      "831:\tlearn: 0.0744526\ttotal: 760ms\tremaining: 153ms\n",
      "832:\tlearn: 0.0744011\ttotal: 760ms\tremaining: 152ms\n",
      "833:\tlearn: 0.0742365\ttotal: 761ms\tremaining: 152ms\n",
      "834:\tlearn: 0.0740186\ttotal: 763ms\tremaining: 151ms\n",
      "835:\tlearn: 0.0739424\ttotal: 763ms\tremaining: 150ms\n"
     ]
    },
    {
     "name": "stdout",
     "output_type": "stream",
     "text": [
      "836:\tlearn: 0.0738785\ttotal: 764ms\tremaining: 149ms\n",
      "837:\tlearn: 0.0737916\ttotal: 765ms\tremaining: 148ms\n",
      "838:\tlearn: 0.0736858\ttotal: 766ms\tremaining: 147ms\n",
      "839:\tlearn: 0.0735246\ttotal: 767ms\tremaining: 146ms\n",
      "840:\tlearn: 0.0734766\ttotal: 768ms\tremaining: 145ms\n",
      "841:\tlearn: 0.0734070\ttotal: 769ms\tremaining: 144ms\n",
      "842:\tlearn: 0.0733509\ttotal: 770ms\tremaining: 143ms\n",
      "843:\tlearn: 0.0732217\ttotal: 771ms\tremaining: 142ms\n",
      "844:\tlearn: 0.0731302\ttotal: 772ms\tremaining: 142ms\n",
      "845:\tlearn: 0.0729529\ttotal: 773ms\tremaining: 141ms\n",
      "846:\tlearn: 0.0728007\ttotal: 773ms\tremaining: 140ms\n",
      "847:\tlearn: 0.0727285\ttotal: 774ms\tremaining: 139ms\n",
      "848:\tlearn: 0.0726513\ttotal: 775ms\tremaining: 138ms\n",
      "849:\tlearn: 0.0724989\ttotal: 776ms\tremaining: 137ms\n",
      "850:\tlearn: 0.0723320\ttotal: 777ms\tremaining: 136ms\n",
      "851:\tlearn: 0.0722075\ttotal: 778ms\tremaining: 135ms\n",
      "852:\tlearn: 0.0721813\ttotal: 779ms\tremaining: 134ms\n",
      "853:\tlearn: 0.0721150\ttotal: 780ms\tremaining: 133ms\n",
      "854:\tlearn: 0.0720936\ttotal: 781ms\tremaining: 132ms\n",
      "855:\tlearn: 0.0719468\ttotal: 781ms\tremaining: 131ms\n",
      "856:\tlearn: 0.0718514\ttotal: 782ms\tremaining: 131ms\n",
      "857:\tlearn: 0.0717162\ttotal: 783ms\tremaining: 130ms\n",
      "858:\tlearn: 0.0716136\ttotal: 784ms\tremaining: 129ms\n",
      "859:\tlearn: 0.0715463\ttotal: 785ms\tremaining: 128ms\n",
      "860:\tlearn: 0.0714524\ttotal: 785ms\tremaining: 127ms\n",
      "861:\tlearn: 0.0713457\ttotal: 786ms\tremaining: 126ms\n",
      "862:\tlearn: 0.0712230\ttotal: 787ms\tremaining: 125ms\n",
      "863:\tlearn: 0.0711485\ttotal: 789ms\tremaining: 124ms\n",
      "864:\tlearn: 0.0709976\ttotal: 790ms\tremaining: 123ms\n",
      "865:\tlearn: 0.0709493\ttotal: 790ms\tremaining: 122ms\n",
      "866:\tlearn: 0.0708557\ttotal: 791ms\tremaining: 121ms\n",
      "867:\tlearn: 0.0707623\ttotal: 792ms\tremaining: 120ms\n",
      "868:\tlearn: 0.0706738\ttotal: 793ms\tremaining: 119ms\n",
      "869:\tlearn: 0.0705882\ttotal: 794ms\tremaining: 119ms\n",
      "870:\tlearn: 0.0704737\ttotal: 794ms\tremaining: 118ms\n",
      "871:\tlearn: 0.0703704\ttotal: 795ms\tremaining: 117ms\n",
      "872:\tlearn: 0.0703075\ttotal: 796ms\tremaining: 116ms\n",
      "873:\tlearn: 0.0701596\ttotal: 797ms\tremaining: 115ms\n",
      "874:\tlearn: 0.0701019\ttotal: 798ms\tremaining: 114ms\n",
      "875:\tlearn: 0.0700221\ttotal: 798ms\tremaining: 113ms\n",
      "876:\tlearn: 0.0698962\ttotal: 799ms\tremaining: 112ms\n",
      "877:\tlearn: 0.0697357\ttotal: 800ms\tremaining: 111ms\n",
      "878:\tlearn: 0.0696173\ttotal: 801ms\tremaining: 110ms\n",
      "879:\tlearn: 0.0694836\ttotal: 801ms\tremaining: 109ms\n",
      "880:\tlearn: 0.0693969\ttotal: 802ms\tremaining: 108ms\n",
      "881:\tlearn: 0.0693159\ttotal: 803ms\tremaining: 107ms\n",
      "882:\tlearn: 0.0692518\ttotal: 804ms\tremaining: 106ms\n",
      "883:\tlearn: 0.0691458\ttotal: 804ms\tremaining: 106ms\n",
      "884:\tlearn: 0.0690879\ttotal: 805ms\tremaining: 105ms\n",
      "885:\tlearn: 0.0689868\ttotal: 806ms\tremaining: 104ms\n",
      "886:\tlearn: 0.0688277\ttotal: 807ms\tremaining: 103ms\n",
      "887:\tlearn: 0.0687646\ttotal: 807ms\tremaining: 102ms\n",
      "888:\tlearn: 0.0686951\ttotal: 808ms\tremaining: 101ms\n",
      "889:\tlearn: 0.0685887\ttotal: 809ms\tremaining: 100ms\n",
      "890:\tlearn: 0.0684921\ttotal: 810ms\tremaining: 99.1ms\n",
      "891:\tlearn: 0.0684211\ttotal: 811ms\tremaining: 98.2ms\n",
      "892:\tlearn: 0.0683683\ttotal: 811ms\tremaining: 97.2ms\n",
      "893:\tlearn: 0.0683036\ttotal: 812ms\tremaining: 96.3ms\n",
      "894:\tlearn: 0.0682300\ttotal: 813ms\tremaining: 95.4ms\n",
      "895:\tlearn: 0.0681159\ttotal: 814ms\tremaining: 94.5ms\n",
      "896:\tlearn: 0.0679960\ttotal: 815ms\tremaining: 93.5ms\n",
      "897:\tlearn: 0.0679195\ttotal: 816ms\tremaining: 92.6ms\n",
      "898:\tlearn: 0.0677862\ttotal: 816ms\tremaining: 91.7ms\n",
      "899:\tlearn: 0.0677024\ttotal: 817ms\tremaining: 90.8ms\n",
      "900:\tlearn: 0.0675717\ttotal: 818ms\tremaining: 89.9ms\n",
      "901:\tlearn: 0.0674644\ttotal: 819ms\tremaining: 89ms\n",
      "902:\tlearn: 0.0673901\ttotal: 820ms\tremaining: 88.1ms\n",
      "903:\tlearn: 0.0672973\ttotal: 821ms\tremaining: 87.1ms\n",
      "904:\tlearn: 0.0671980\ttotal: 821ms\tremaining: 86.2ms\n",
      "905:\tlearn: 0.0671049\ttotal: 822ms\tremaining: 85.3ms\n",
      "906:\tlearn: 0.0669301\ttotal: 823ms\tremaining: 84.4ms\n",
      "907:\tlearn: 0.0668293\ttotal: 824ms\tremaining: 83.5ms\n",
      "908:\tlearn: 0.0667611\ttotal: 825ms\tremaining: 82.5ms\n",
      "909:\tlearn: 0.0666337\ttotal: 825ms\tremaining: 81.6ms\n",
      "910:\tlearn: 0.0665634\ttotal: 826ms\tremaining: 80.7ms\n",
      "911:\tlearn: 0.0664396\ttotal: 827ms\tremaining: 79.8ms\n",
      "912:\tlearn: 0.0662712\ttotal: 828ms\tremaining: 78.9ms\n",
      "913:\tlearn: 0.0662183\ttotal: 829ms\tremaining: 78ms\n",
      "914:\tlearn: 0.0660181\ttotal: 829ms\tremaining: 77.1ms\n",
      "915:\tlearn: 0.0659120\ttotal: 830ms\tremaining: 76.1ms\n",
      "916:\tlearn: 0.0657378\ttotal: 831ms\tremaining: 75.2ms\n",
      "917:\tlearn: 0.0656375\ttotal: 832ms\tremaining: 74.3ms\n",
      "918:\tlearn: 0.0655872\ttotal: 833ms\tremaining: 73.4ms\n",
      "919:\tlearn: 0.0654493\ttotal: 834ms\tremaining: 72.5ms\n",
      "920:\tlearn: 0.0653519\ttotal: 835ms\tremaining: 71.6ms\n",
      "921:\tlearn: 0.0652777\ttotal: 835ms\tremaining: 70.7ms\n",
      "922:\tlearn: 0.0652243\ttotal: 836ms\tremaining: 69.8ms\n",
      "923:\tlearn: 0.0651425\ttotal: 837ms\tremaining: 68.8ms\n",
      "924:\tlearn: 0.0651170\ttotal: 838ms\tremaining: 67.9ms\n",
      "925:\tlearn: 0.0650413\ttotal: 839ms\tremaining: 67ms\n",
      "926:\tlearn: 0.0649714\ttotal: 839ms\tremaining: 66.1ms\n",
      "927:\tlearn: 0.0649108\ttotal: 840ms\tremaining: 65.2ms\n",
      "928:\tlearn: 0.0648260\ttotal: 841ms\tremaining: 64.3ms\n",
      "929:\tlearn: 0.0647380\ttotal: 842ms\tremaining: 63.4ms\n",
      "930:\tlearn: 0.0646408\ttotal: 843ms\tremaining: 62.4ms\n",
      "931:\tlearn: 0.0645960\ttotal: 844ms\tremaining: 61.5ms\n",
      "932:\tlearn: 0.0645557\ttotal: 844ms\tremaining: 60.6ms\n",
      "933:\tlearn: 0.0644720\ttotal: 845ms\tremaining: 59.7ms\n",
      "934:\tlearn: 0.0643948\ttotal: 846ms\tremaining: 58.8ms\n",
      "935:\tlearn: 0.0642895\ttotal: 847ms\tremaining: 57.9ms\n",
      "936:\tlearn: 0.0641878\ttotal: 848ms\tremaining: 57ms\n",
      "937:\tlearn: 0.0641142\ttotal: 849ms\tremaining: 56.1ms\n",
      "938:\tlearn: 0.0640348\ttotal: 849ms\tremaining: 55.2ms\n",
      "939:\tlearn: 0.0639480\ttotal: 850ms\tremaining: 54.3ms\n",
      "940:\tlearn: 0.0638783\ttotal: 851ms\tremaining: 53.4ms\n",
      "941:\tlearn: 0.0638508\ttotal: 852ms\tremaining: 52.4ms\n",
      "942:\tlearn: 0.0637227\ttotal: 852ms\tremaining: 51.5ms\n",
      "943:\tlearn: 0.0636421\ttotal: 853ms\tremaining: 50.6ms\n",
      "944:\tlearn: 0.0634998\ttotal: 854ms\tremaining: 49.7ms\n",
      "945:\tlearn: 0.0633883\ttotal: 855ms\tremaining: 48.8ms\n",
      "946:\tlearn: 0.0632441\ttotal: 856ms\tremaining: 47.9ms\n",
      "947:\tlearn: 0.0631532\ttotal: 857ms\tremaining: 47ms\n",
      "948:\tlearn: 0.0631247\ttotal: 857ms\tremaining: 46.1ms\n",
      "949:\tlearn: 0.0630593\ttotal: 858ms\tremaining: 45.2ms\n",
      "950:\tlearn: 0.0629930\ttotal: 859ms\tremaining: 44.3ms\n",
      "951:\tlearn: 0.0628627\ttotal: 860ms\tremaining: 43.3ms\n",
      "952:\tlearn: 0.0628136\ttotal: 861ms\tremaining: 42.4ms\n",
      "953:\tlearn: 0.0627326\ttotal: 861ms\tremaining: 41.5ms\n",
      "954:\tlearn: 0.0626123\ttotal: 862ms\tremaining: 40.6ms\n",
      "955:\tlearn: 0.0625358\ttotal: 863ms\tremaining: 39.7ms\n",
      "956:\tlearn: 0.0624455\ttotal: 864ms\tremaining: 38.8ms\n",
      "957:\tlearn: 0.0623337\ttotal: 865ms\tremaining: 37.9ms\n",
      "958:\tlearn: 0.0622713\ttotal: 866ms\tremaining: 37ms\n",
      "959:\tlearn: 0.0621681\ttotal: 867ms\tremaining: 36.1ms\n",
      "960:\tlearn: 0.0621152\ttotal: 868ms\tremaining: 35.2ms\n",
      "961:\tlearn: 0.0620487\ttotal: 869ms\tremaining: 34.3ms\n",
      "962:\tlearn: 0.0619406\ttotal: 869ms\tremaining: 33.4ms\n",
      "963:\tlearn: 0.0618991\ttotal: 870ms\tremaining: 32.5ms\n",
      "964:\tlearn: 0.0618290\ttotal: 871ms\tremaining: 31.6ms\n"
     ]
    },
    {
     "name": "stdout",
     "output_type": "stream",
     "text": [
      "965:\tlearn: 0.0617159\ttotal: 872ms\tremaining: 30.7ms\n",
      "966:\tlearn: 0.0616381\ttotal: 873ms\tremaining: 29.8ms\n",
      "967:\tlearn: 0.0615696\ttotal: 874ms\tremaining: 28.9ms\n",
      "968:\tlearn: 0.0614852\ttotal: 874ms\tremaining: 28ms\n",
      "969:\tlearn: 0.0614534\ttotal: 875ms\tremaining: 27.1ms\n",
      "970:\tlearn: 0.0613865\ttotal: 876ms\tremaining: 26.2ms\n",
      "971:\tlearn: 0.0612494\ttotal: 877ms\tremaining: 25.3ms\n",
      "972:\tlearn: 0.0611892\ttotal: 878ms\tremaining: 24.4ms\n",
      "973:\tlearn: 0.0611366\ttotal: 878ms\tremaining: 23.4ms\n",
      "974:\tlearn: 0.0610409\ttotal: 879ms\tremaining: 22.5ms\n",
      "975:\tlearn: 0.0609019\ttotal: 880ms\tremaining: 21.6ms\n",
      "976:\tlearn: 0.0608131\ttotal: 881ms\tremaining: 20.7ms\n",
      "977:\tlearn: 0.0607642\ttotal: 882ms\tremaining: 19.8ms\n",
      "978:\tlearn: 0.0607115\ttotal: 883ms\tremaining: 18.9ms\n",
      "979:\tlearn: 0.0606612\ttotal: 884ms\tremaining: 18ms\n",
      "980:\tlearn: 0.0605781\ttotal: 884ms\tremaining: 17.1ms\n",
      "981:\tlearn: 0.0605044\ttotal: 885ms\tremaining: 16.2ms\n",
      "982:\tlearn: 0.0604069\ttotal: 886ms\tremaining: 15.3ms\n",
      "983:\tlearn: 0.0603291\ttotal: 887ms\tremaining: 14.4ms\n",
      "984:\tlearn: 0.0602494\ttotal: 888ms\tremaining: 13.5ms\n",
      "985:\tlearn: 0.0601751\ttotal: 888ms\tremaining: 12.6ms\n",
      "986:\tlearn: 0.0601020\ttotal: 889ms\tremaining: 11.7ms\n",
      "987:\tlearn: 0.0599954\ttotal: 890ms\tremaining: 10.8ms\n",
      "988:\tlearn: 0.0599243\ttotal: 891ms\tremaining: 9.91ms\n",
      "989:\tlearn: 0.0598727\ttotal: 892ms\tremaining: 9.01ms\n",
      "990:\tlearn: 0.0597425\ttotal: 892ms\tremaining: 8.1ms\n",
      "991:\tlearn: 0.0597055\ttotal: 893ms\tremaining: 7.2ms\n",
      "992:\tlearn: 0.0596389\ttotal: 894ms\tremaining: 6.3ms\n",
      "993:\tlearn: 0.0595951\ttotal: 895ms\tremaining: 5.4ms\n",
      "994:\tlearn: 0.0594794\ttotal: 896ms\tremaining: 4.5ms\n",
      "995:\tlearn: 0.0594145\ttotal: 897ms\tremaining: 3.6ms\n",
      "996:\tlearn: 0.0593149\ttotal: 897ms\tremaining: 2.7ms\n",
      "997:\tlearn: 0.0591903\ttotal: 898ms\tremaining: 1.8ms\n",
      "998:\tlearn: 0.0591267\ttotal: 899ms\tremaining: 900us\n",
      "999:\tlearn: 0.0590690\ttotal: 900ms\tremaining: 0us\n"
     ]
    },
    {
     "data": {
      "text/plain": [
       "<catboost.core.CatBoostRegressor at 0x7fa1e34b7a60>"
      ]
     },
     "execution_count": 9,
     "metadata": {},
     "output_type": "execute_result"
    }
   ],
   "source": [
    "#Train the Model \n",
    "prior_model = ctb.CatBoostRegressor()\n",
    "prior_model.fit(X_train,Y_train)"
   ]
  },
  {
   "cell_type": "code",
   "execution_count": 10,
   "id": "af65dcda",
   "metadata": {
    "execution": {
     "iopub.execute_input": "2022-03-11T10:57:15.224825Z",
     "iopub.status.busy": "2022-03-11T10:57:15.224428Z",
     "iopub.status.idle": "2022-03-11T10:57:15.231859Z",
     "shell.execute_reply": "2022-03-11T10:57:15.232106Z"
    },
    "id": "af65dcda",
    "papermill": {
     "duration": 0.020579,
     "end_time": "2022-03-11T10:57:15.232217",
     "exception": false,
     "start_time": "2022-03-11T10:57:15.211638",
     "status": "completed"
    },
    "tags": []
   },
   "outputs": [
    {
     "data": {
      "application/scrapbook.scrap.json+json": {
       "data": 0.08175434467524255,
       "encoder": "json",
       "name": "Prior Model MSE",
       "version": 1
      }
     },
     "metadata": {
      "scrapbook": {
       "data": true,
       "display": false,
       "name": "Prior Model MSE"
      }
     },
     "output_type": "display_data"
    },
    {
     "data": {
      "application/scrapbook.scrap.json+json": {
       "data": 1.1440192122599533,
       "encoder": "json",
       "name": "ABC Pre-generator MSE",
       "version": 1
      }
     },
     "metadata": {
      "scrapbook": {
       "data": true,
       "display": false,
       "name": "ABC Pre-generator MSE"
      }
     },
     "output_type": "display_data"
    },
    {
     "data": {
      "application/scrapbook.scrap.json+json": {
       "data": 0.19263589475232956,
       "encoder": "json",
       "name": "Prior Model MAE",
       "version": 1
      }
     },
     "metadata": {
      "scrapbook": {
       "data": true,
       "display": false,
       "name": "Prior Model MAE"
      }
     },
     "output_type": "display_data"
    },
    {
     "data": {
      "application/scrapbook.scrap.json+json": {
       "data": 0.8557364715273551,
       "encoder": "json",
       "name": "ABC Pre-generator MAE",
       "version": 1
      }
     },
     "metadata": {
      "scrapbook": {
       "data": true,
       "display": false,
       "name": "ABC Pre-generator MAE"
      }
     },
     "output_type": "display_data"
    }
   ],
   "source": [
    "y_pred = prior_model.predict(X_test)\n",
    "y_abc = y_pred + np.random.normal(0,variance, y_pred.shape)\n",
    "mse = mean_squared_error(y_pred,Y_test)\n",
    "sb.glue(\"Prior Model MSE\",mse)\n",
    "mse = mean_squared_error(y_abc,Y_test)\n",
    "sb.glue(\"ABC Pre-generator MSE\",mse)\n",
    "\n",
    "mae = mean_absolute_error(y_pred,Y_test)\n",
    "sb.glue(\"Prior Model MAE\",mae)\n",
    "mae = mean_absolute_error(y_abc,Y_test)\n",
    "sb.glue(\"ABC Pre-generator MAE\",mae)"
   ]
  },
  {
   "cell_type": "markdown",
   "id": "25609da2",
   "metadata": {
    "papermill": {
     "duration": 0.009795,
     "end_time": "2022-03-11T10:57:15.252135",
     "exception": false,
     "start_time": "2022-03-11T10:57:15.242340",
     "status": "completed"
    },
    "tags": []
   },
   "source": [
    "# ABC GAN Model"
   ]
  },
  {
   "cell_type": "code",
   "execution_count": 11,
   "id": "dfc3464d",
   "metadata": {
    "execution": {
     "iopub.execute_input": "2022-03-11T10:57:15.274547Z",
     "iopub.status.busy": "2022-03-11T10:57:15.274178Z",
     "iopub.status.idle": "2022-03-11T10:57:15.276884Z",
     "shell.execute_reply": "2022-03-11T10:57:15.277121Z"
    },
    "papermill": {
     "duration": 0.015351,
     "end_time": "2022-03-11T10:57:15.277230",
     "exception": false,
     "start_time": "2022-03-11T10:57:15.261879",
     "status": "completed"
    },
    "tags": []
   },
   "outputs": [],
   "source": [
    "gen = network.Generator(n_features+1).to(device)\n",
    "disc = network.Discriminator(n_features+1).to(device)\n",
    "\n",
    "criterion = torch.nn.BCELoss()\n",
    "gen_opt = torch.optim.Adam(gen.parameters(), lr=0.001, betas=(0.5, 0.999))\n",
    "disc_opt = torch.optim.Adam(disc.parameters(), lr=0.001, betas=(0.5, 0.999))"
   ]
  },
  {
   "cell_type": "code",
   "execution_count": 12,
   "id": "b75fdd85",
   "metadata": {
    "execution": {
     "iopub.execute_input": "2022-03-11T10:57:15.299633Z",
     "iopub.status.busy": "2022-03-11T10:57:15.299255Z",
     "iopub.status.idle": "2022-03-11T10:57:51.622193Z",
     "shell.execute_reply": "2022-03-11T10:57:51.622500Z"
    },
    "papermill": {
     "duration": 36.335446,
     "end_time": "2022-03-11T10:57:51.622624",
     "exception": false,
     "start_time": "2022-03-11T10:57:15.287178",
     "status": "completed"
    },
    "tags": []
   },
   "outputs": [
    {
     "data": {
      "image/png": "[encoded data removed]",
      "text/plain": [
       "<Figure size 432x288 with 1 Axes>"
      ]
     },
     "metadata": {
      "needs_background": "light"
     },
     "output_type": "display_data"
    },
    {
     "data": {
      "image/png": "[encoded data removed]",
      "text/plain": [
       "<Figure size 432x288 with 1 Axes>"
      ]
     },
     "metadata": {
      "needs_background": "light"
     },
     "output_type": "display_data"
    }
   ],
   "source": [
    "#Training the ABC_GAN \n",
    "ABC_train_test2.training_GAN(disc,gen,disc_opt,gen_opt,train_data,batch_size,n_epochs,criterion,prior_model,variance,0,device)"
   ]
  },
  {
   "cell_type": "code",
   "execution_count": 13,
   "id": "1fa7c368",
   "metadata": {
    "execution": {
     "iopub.execute_input": "2022-03-11T10:57:51.647092Z",
     "iopub.status.busy": "2022-03-11T10:57:51.646705Z",
     "iopub.status.idle": "2022-03-11T10:57:51.951416Z",
     "shell.execute_reply": "2022-03-11T10:57:51.951706Z"
    },
    "papermill": {
     "duration": 0.318179,
     "end_time": "2022-03-11T10:57:51.951829",
     "exception": false,
     "start_time": "2022-03-11T10:57:51.633650",
     "status": "completed"
    },
    "tags": []
   },
   "outputs": [
    {
     "data": {
      "application/scrapbook.scrap.json+json": {
       "data": 0.1584997580744177,
       "encoder": "json",
       "name": "ABC-GAN Model 1 MSE",
       "version": 1
      }
     },
     "metadata": {
      "scrapbook": {
       "data": true,
       "display": false,
       "name": "ABC-GAN Model 1 MSE"
      }
     },
     "output_type": "display_data"
    },
    {
     "data": {
      "application/scrapbook.scrap.json+json": {
       "data": 0.24143783283620782,
       "encoder": "json",
       "name": "ABC-GAN Model 1 MAE",
       "version": 1
      }
     },
     "metadata": {
      "scrapbook": {
       "data": true,
       "display": false,
       "name": "ABC-GAN Model 1 MAE"
      }
     },
     "output_type": "display_data"
    },
    {
     "data": {
      "application/scrapbook.scrap.json+json": {
       "data": 24.626658949293198,
       "encoder": "json",
       "name": "ABC-GAN Model 1 Manhattan Distance",
       "version": 1
      }
     },
     "metadata": {
      "scrapbook": {
       "data": true,
       "display": false,
       "name": "ABC-GAN Model 1 Manhattan Distance"
      }
     },
     "output_type": "display_data"
    },
    {
     "data": {
      "application/scrapbook.scrap.json+json": {
       "data": 4.020377593188828,
       "encoder": "json",
       "name": "ABC-GAN Model 1 Euclidean distance",
       "version": 1
      }
     },
     "metadata": {
      "scrapbook": {
       "data": true,
       "display": false,
       "name": "ABC-GAN Model 1 Euclidean distance"
      }
     },
     "output_type": "display_data"
    },
    {
     "data": {
      "application/scrapbook.scrap.json+json": {
       "data": [
        [
         0.16168743569346122,
         0.15940066802339867,
         0.15368434061132388,
         0.15809073944928137,
         0.16266215913728233,
         0.16718904153935035,
         0.1575217683504825,
         0.1592064981579119,
         0.15617941969366592,
         0.15324382366710343,
         0.15665911953489384,
         0.15673489584556022,
         0.1559276848475526,
         0.15398965070236043,
         0.15231578319615224,
         0.16056084724051023,
         0.15801528792340733,
         0.16398760659011175,
         0.16096566529967482,
         0.1486727954958933,
         0.15188127004273255,
         0.15458948588487778,
         0.14980665032151866,
         0.15543665389333264,
         0.16109011841318943,
         0.16807426144655277,
         0.15852433619680475,
         0.15679730488236446,
         0.16634764059952833,
         0.15297207343093,
         0.15130616786745996,
         0.16095898828231262,
         0.1627898747288922,
         0.16024248170707295,
         0.15950660628881289,
         0.16059334534765285,
         0.1598721755497517,
         0.156261683320472,
         0.1687900581122738,
         0.16137760453087438,
         0.1603627141425028,
         0.15350052841006204,
         0.15932010276355235,
         0.15555529946754038,
         0.15395142105876608,
         0.15700425398461035,
         0.1701331552367141,
         0.1535906262709642,
         0.16501865111115546,
         0.15543001399561196,
         0.16699154852388098,
         0.15724652091762154,
         0.16252676083732068,
         0.15137275348677284,
         0.15402048465168228,
         0.16353644712811277,
         0.16186151265808837,
         0.15647343668995106,
         0.15758602573895217,
         0.16368727082906542,
         0.15734107287692367,
         0.16184148765905754,
         0.16177514716047117,
         0.15642622886254356,
         0.16260919911887428,
         0.16384208825959823,
         0.1520526669482533,
         0.15812642297942645,
         0.16300098198883248,
         0.15311511490952234,
         0.16226110625958298,
         0.163319153437804,
         0.15633679702790346,
         0.15748198438261693,
         0.15118697572440953,
         0.1653843252767661,
         0.15899536253154964,
         0.15812561148232415,
         0.15336697997641646,
         0.15602971009901737,
         0.15247880224143875,
         0.1554452332261133,
         0.15395747873122767,
         0.16646241348701754,
         0.1592309759661021,
         0.15802689850258891,
         0.16105037229437205,
         0.1572327706380488,
         0.14895878575594465,
         0.1644982779155066,
         0.15909972098955272,
         0.15884527314765115,
         0.1612904864692666,
         0.15718973269668424,
         0.15817710754954215,
         0.1562575128505102,
         0.16564463961471487,
         0.14903132555663254,
         0.1578483456646878,
         0.1635476974325615
        ],
        [
         0.24123359430471764,
         0.23923769420670235,
         0.2411134221737145,
         0.2406622233398843,
         0.2401094490242209,
         0.24252635670606704,
         0.2411447375118002,
         0.24078084249962486,
         0.2427438527400441,
         0.242628496131111,
         0.2412937118708357,
         0.24042516171603517,
         0.2404881483400423,
         0.2412859806882254,
         0.23956962681247615,
         0.24276377062550655,
         0.2440124527989503,
         0.2410092950141167,
         0.24166731765566796,
         0.23813571937053518,
         0.23969738031098364,
         0.24011234748268537,
         0.23998407229744628,
         0.23706919717255467,
         0.24139565374592648,
         0.24307189252702335,
         0.24033949548816858,
         0.24184386770916627,
         0.2436557140329159,
         0.2404036055063354,
         0.23946497906182035,
         0.2415035617099527,
         0.24286813247839317,
         0.24210997735716255,
         0.24128919937556573,
         0.24045685148231832,
         0.24174950658069813,
         0.24123252704556958,
         0.2438735992136393,
         0.2425490765941932,
         0.24212060232336322,
         0.24003321866450064,
         0.23977469031096382,
         0.24274098937965782,
         0.241175380434987,
         0.24242967932357215,
         0.24346879386690026,
         0.2386947549496065,
         0.2442559130471565,
         0.24214449177003083,
         0.2420233801354234,
         0.23913738459312156,
         0.24150392525445888,
         0.24073030342183568,
         0.2401941527028148,
         0.24268827666802442,
         0.2428424009487179,
         0.24299173348345884,
         0.24291123565761188,
         0.24476124772655905,
         0.24111320092068875,
         0.241502297266076,
         0.2421159170768863,
         0.24031061418902347,
         0.24115213239565492,
         0.24293392724083626,
         0.23982689309609578,
         0.24248201424694238,
         0.24248896881609278,
         0.24046630203249117,
         0.2432333272881806,
         0.24355004741536343,
         0.24166762605126874,
         0.24176188382119232,
         0.23763676578471182,
         0.24448847868388482,
         0.24048160851987846,
         0.24130789229792415,
         0.24063632497563958,
         0.24063377559878954,
         0.24071958693036555,
         0.23906068535813807,
         0.23983443176885152,
         0.24157793004540543,
         0.24273901607147327,
         0.24301540653458706,
         0.24155968207610296,
         0.24235180702389164,
         0.23992341135025902,
         0.2424941409068803,
         0.24210482948076198,
         0.24216573092830823,
         0.24211136272688413,
         0.24178884575581727,
         0.24201619003296776,
         0.2407326840284262,
         0.24426965275779366,
         0.23847544696364625,
         0.24050858382172152,
         0.24241881597531484
        ],
        [
         24.6058266190812,
         24.40224480908364,
         24.59356906171888,
         24.5475467806682,
         24.49116380047053,
         24.73768838401884,
         24.59676322620362,
         24.559645934961736,
         24.7598729794845,
         24.748106605373323,
         24.61195861082524,
         24.52336649503559,
         24.529791130684316,
         24.61117003019899,
         24.436101934872568,
         24.761904603801668,
         24.889270185492933,
         24.582948091439903,
         24.65006640087813,
         24.28984337579459,
         24.44913279172033,
         24.491459443233907,
         24.47837537433952,
         24.181058111600578,
         24.6223566820845,
         24.793333037756383,
         24.514628539793193,
         24.66807450633496,
         24.85288283135742,
         24.52116776164621,
         24.425427864305675,
         24.633363294415176,
         24.772549512796104,
         24.69521769043058,
         24.611498336307704,
         24.526598851196468,
         24.65844967123121,
         24.605717758648098,
         24.87510711979121,
         24.740005812607706,
         24.69630143698305,
         24.483388303779066,
         24.45701841171831,
         24.7595809167251,
         24.599888804368675,
         24.72782729100436,
         24.833816974423826,
         24.346865004859865,
         24.914103130809963,
         24.698738160543144,
         24.686384773813188,
         24.3920132284984,
         24.633400375954807,
         24.55449094902724,
         24.49980357568711,
         24.75420422013849,
         24.769924896769226,
         24.785156815312803,
         24.776946037076414,
         24.965647268109024,
         24.593546493910253,
         24.633234321139753,
         24.6958235418424,
         24.511682647280395,
         24.5975175043568,
         24.7792605785653,
         24.46234309580177,
         24.73316545318812,
         24.733874819241464,
         24.527562807314098,
         24.80979938339442,
         24.84210483636707,
         24.65009785722941,
         24.659712149761617,
         24.238950110040605,
         24.937824825756252,
         24.529124069027603,
         24.613405014388263,
         24.544905147515237,
         24.544645111076534,
         24.553397866897285,
         24.384189906530082,
         24.463112040422857,
         24.640948864631355,
         24.759379639290273,
         24.78757146652788,
         24.639087571762502,
         24.719884316436946,
         24.47218795772642,
         24.73440237250179,
         24.694692607037723,
         24.70090455468744,
         24.695358998142183,
         24.66246226709336,
         24.68565138336271,
         24.554733770899475,
         24.915504581294954,
         24.324495590291917,
         24.531875549815595,
         24.726719229482114
        ],
        [
         4.061048933555595,
         4.0322286813109525,
         3.9592679553618284,
         4.015626404912028,
         4.073271440992214,
         4.129561990939684,
         4.00839373961057,
         4.029772054608922,
         3.9912780921346385,
         3.953589510058492,
         3.9974029309739554,
         3.998369589751195,
         3.988060161839382,
         3.96319875500091,
         3.9415999145026785,
         4.0468761308609436,
         4.014668027145898,
         4.089833232809303,
         4.0519745631687805,
         3.894178365275673,
         3.9359737733321745,
         3.9709101677395737,
         3.90899965883791,
         3.981775822057279,
         4.053540684160616,
         4.1404800044859975,
         4.0211294796454995,
         3.9991655502118397,
         4.119157600912095,
         3.9500824662220486,
         3.9285148749216807,
         4.051890522311267,
         4.074870209263971,
         4.042861997907105,
         4.033568375701458,
         4.0472856614601085,
         4.038187948334582,
         3.992329107011111,
         4.1492873999582045,
         4.057156105223114,
         4.044378424744064,
         3.9568995309239696,
         4.0312095556895,
         3.983295186863398,
         3.9627067703773062,
         4.001803831577736,
         4.165763055449125,
         3.9580606210160987,
         4.10267015653682,
         3.981690774978943,
         4.127122235824359,
         4.004890152500739,
         4.071575813540344,
         3.9293791946884977,
         3.963595518525016,
         4.084203423810756,
         4.063234461746579,
         3.995033234201564,
         4.009211222344504,
         4.086086345705958,
         4.006094037019875,
         4.062983108655986,
         4.062150293916765,
         3.9944305406377323,
         4.072608293234837,
         4.088018224333034,
         3.9381940059780995,
         4.0160795739005835,
         4.077511515969133,
         3.951928860793331,
         4.068246899891581,
         4.0814891462131815,
         3.9932885316298083,
         4.007887524248519,
         3.9269672170632854,
         4.107213310534301,
         4.027099077278589,
         4.016069268724964,
         3.9551778667456245,
         3.9893646649685666,
         3.9437086389116973,
         3.9818857076846834,
         3.96278473179975,
         4.120578378780797,
         4.030081829013204,
         4.0148155184596055,
         4.053040583811856,
         4.004715046676975,
         3.8979220293774923,
         4.096196326762387,
         4.0284204771764305,
         4.025197866075707,
         4.056060850118645,
         4.004166921478398,
         4.016723163233097,
         3.9922758309956543,
         4.110444409148591,
         3.898871016945357,
         4.0125467296715875,
         4.084343905466491
        ]
       ],
       "encoder": "json",
       "name": "ABC_GAN_1 Metrics",
       "version": 1
      }
     },
     "metadata": {
      "scrapbook": {
       "data": true,
       "display": false,
       "name": "ABC_GAN_1 Metrics"
      }
     },
     "output_type": "display_data"
    },
    {
     "name": "stdout",
     "output_type": "stream",
     "text": [
      "MSE\n",
      "0.1584997580744177\n"
     ]
    }
   ],
   "source": [
    "ABC_GAN1_metrics=ABC_train_test2.test_generator(gen,test_data,prior_model,variance,0,\"1\",device)\n",
    "sb.glue(\"ABC_GAN_1 Metrics\",ABC_GAN1_metrics)\n",
    "\n",
    "print(\"MSE\")\n",
    "print(mean(ABC_GAN1_metrics[0]))"
   ]
  },
  {
   "cell_type": "code",
   "execution_count": 14,
   "id": "eb22ce5c",
   "metadata": {
    "execution": {
     "iopub.execute_input": "2022-03-11T10:57:51.980798Z",
     "iopub.status.busy": "2022-03-11T10:57:51.980410Z",
     "iopub.status.idle": "2022-03-11T10:57:52.306586Z",
     "shell.execute_reply": "2022-03-11T10:57:52.306886Z"
    },
    "papermill": {
     "duration": 0.342513,
     "end_time": "2022-03-11T10:57:52.307011",
     "exception": false,
     "start_time": "2022-03-11T10:57:51.964498",
     "status": "completed"
    },
    "tags": []
   },
   "outputs": [
    {
     "data": {
      "image/png": "[encoded data removed]",
      "text/plain": [
       "<Figure size 432x288 with 1 Axes>"
      ]
     },
     "metadata": {
      "needs_background": "light"
     },
     "output_type": "display_data"
    },
    {
     "data": {
      "image/png": "[encoded data removed]",
      "text/plain": [
       "<Figure size 432x288 with 1 Axes>"
      ]
     },
     "metadata": {
      "needs_background": "light"
     },
     "output_type": "display_data"
    },
    {
     "data": {
      "image/png": "[encoded data removed]",
      "text/plain": [
       "<Figure size 432x288 with 1 Axes>"
      ]
     },
     "metadata": {
      "needs_background": "light"
     },
     "output_type": "display_data"
    },
    {
     "data": {
      "image/png": "[encoded data removed]",
      "text/plain": [
       "<Figure size 432x288 with 1 Axes>"
      ]
     },
     "metadata": {
      "needs_background": "light"
     },
     "output_type": "display_data"
    }
   ],
   "source": [
    "sanityChecks.discProbVsError(train_data,disc,device)\n",
    "sanityChecks.discProbVsError(test_data,disc,device)"
   ]
  },
  {
   "cell_type": "markdown",
   "id": "130f3a4d",
   "metadata": {
    "id": "130f3a4d",
    "papermill": {
     "duration": 0.014493,
     "end_time": "2022-03-11T10:57:52.336773",
     "exception": false,
     "start_time": "2022-03-11T10:57:52.322280",
     "status": "completed"
    },
    "tags": []
   },
   "source": [
    "# ABC - GAN Model with skip connection"
   ]
  },
  {
   "cell_type": "code",
   "execution_count": 15,
   "id": "4e43dad1",
   "metadata": {
    "execution": {
     "iopub.execute_input": "2022-03-11T10:57:52.369051Z",
     "iopub.status.busy": "2022-03-11T10:57:52.368676Z",
     "iopub.status.idle": "2022-03-11T10:57:52.371083Z",
     "shell.execute_reply": "2022-03-11T10:57:52.371319Z"
    },
    "id": "4e43dad1",
    "papermill": {
     "duration": 0.020099,
     "end_time": "2022-03-11T10:57:52.371430",
     "exception": false,
     "start_time": "2022-03-11T10:57:52.351331",
     "status": "completed"
    },
    "tags": []
   },
   "outputs": [],
   "source": [
    "#Generator\n",
    "gen3 = network.GeneratorWithSkipConnection(n_features+1).to(device)\n",
    "constraints=network.weightConstraint()\n",
    "#Discriminator \n",
    "disc3 = network.Discriminator(n_features+1).to(device)\n",
    "\n",
    "criterion = torch.nn.BCELoss()\n",
    "gen_opt = torch.optim.Adam(gen3.parameters(), lr=0.001, betas=(0.5, 0.999))\n",
    "disc_opt = torch.optim.Adam(disc3.parameters(), lr=0.001, betas=(0.5, 0.999))\n"
   ]
  },
  {
   "cell_type": "code",
   "execution_count": 16,
   "id": "26acbc37",
   "metadata": {
    "execution": {
     "iopub.execute_input": "2022-03-11T10:57:52.403074Z",
     "iopub.status.busy": "2022-03-11T10:57:52.402698Z",
     "iopub.status.idle": "2022-03-11T11:00:24.814233Z",
     "shell.execute_reply": "2022-03-11T11:00:24.814545Z"
    },
    "id": "26acbc37",
    "papermill": {
     "duration": 152.428674,
     "end_time": "2022-03-11T11:00:24.814674",
     "exception": false,
     "start_time": "2022-03-11T10:57:52.386000",
     "status": "completed"
    },
    "tags": []
   },
   "outputs": [
    {
     "data": {
      "image/png": "[encoded data removed]",
      "text/plain": [
       "<Figure size 432x288 with 1 Axes>"
      ]
     },
     "metadata": {
      "needs_background": "light"
     },
     "output_type": "display_data"
    },
    {
     "data": {
      "image/png": "[encoded data removed]",
      "text/plain": [
       "<Figure size 432x288 with 1 Axes>"
      ]
     },
     "metadata": {
      "needs_background": "light"
     },
     "output_type": "display_data"
    }
   ],
   "source": [
    "ABC_train_test2.training_GAN_skip_connection(disc3,gen3,disc_opt,gen_opt,train_data,batch_size,n_epochs,criterion,prior_model,variance,0,device)"
   ]
  },
  {
   "cell_type": "code",
   "execution_count": 17,
   "id": "c5e0717b",
   "metadata": {
    "execution": {
     "iopub.execute_input": "2022-03-11T11:00:24.849473Z",
     "iopub.status.busy": "2022-03-11T11:00:24.849094Z",
     "iopub.status.idle": "2022-03-11T11:00:25.672673Z",
     "shell.execute_reply": "2022-03-11T11:00:25.672927Z"
    },
    "id": "c5e0717b",
    "papermill": {
     "duration": 0.84233,
     "end_time": "2022-03-11T11:00:25.673051",
     "exception": false,
     "start_time": "2022-03-11T11:00:24.830721",
     "status": "completed"
    },
    "tags": []
   },
   "outputs": [
    {
     "data": {
      "application/scrapbook.scrap.json+json": {
       "data": 0.10649448287060512,
       "encoder": "json",
       "name": "ABC-GAN Model 3 MSE",
       "version": 1
      }
     },
     "metadata": {
      "scrapbook": {
       "data": true,
       "display": false,
       "name": "ABC-GAN Model 3 MSE"
      }
     },
     "output_type": "display_data"
    },
    {
     "data": {
      "application/scrapbook.scrap.json+json": {
       "data": 0.2271105785568601,
       "encoder": "json",
       "name": "ABC-GAN Model 3 MAE",
       "version": 1
      }
     },
     "metadata": {
      "scrapbook": {
       "data": true,
       "display": false,
       "name": "ABC-GAN Model 3 MAE"
      }
     },
     "output_type": "display_data"
    },
    {
     "data": {
      "application/scrapbook.scrap.json+json": {
       "data": 23.16527901279973,
       "encoder": "json",
       "name": "ABC-GAN Model 3 Manhattan Distance",
       "version": 1
      }
     },
     "metadata": {
      "scrapbook": {
       "data": true,
       "display": false,
       "name": "ABC-GAN Model 3 Manhattan Distance"
      }
     },
     "output_type": "display_data"
    },
    {
     "data": {
      "application/scrapbook.scrap.json+json": {
       "data": 3.2942599835982063,
       "encoder": "json",
       "name": "ABC-GAN Model 3 Euclidean distance",
       "version": 1
      }
     },
     "metadata": {
      "scrapbook": {
       "data": true,
       "display": false,
       "name": "ABC-GAN Model 3 Euclidean distance"
      }
     },
     "output_type": "display_data"
    },
    {
     "data": {
      "application/scrapbook.scrap.json+json": {
       "data": [
        [
         0.10608272622462951,
         0.1016459314419279,
         0.09684656422084084,
         0.10157642832599596,
         0.10114397708706407,
         0.11339509807320121,
         0.12331979427604925,
         0.10431856044987406,
         0.10261597445000865,
         0.11365664404457314,
         0.12312817329261724,
         0.10821960328769496,
         0.10128207168697088,
         0.10497931990580608,
         0.10176742130655386,
         0.11748524914159678,
         0.10793658762338726,
         0.09817579610414018,
         0.10305500274505955,
         0.1125745018867042,
         0.09998471119572276,
         0.09908809459479098,
         0.10577265727111045,
         0.10585244560580889,
         0.10885272705025803,
         0.09829527167692159,
         0.09802601163377316,
         0.10371929940045796,
         0.1027355380326137,
         0.10631175819207626,
         0.10936564763405872,
         0.10342111992172268,
         0.11671373559426534,
         0.1081493683846021,
         0.09991787139453343,
         0.11233696250321858,
         0.10826682866973794,
         0.11856305438165798,
         0.10768864910651217,
         0.10105743499722158,
         0.11666462189234614,
         0.111444302165151,
         0.09827264931575258,
         0.10017920257309268,
         0.10347597127089683,
         0.1032854123009526,
         0.10988348893811263,
         0.10304621254052944,
         0.10147371570483907,
         0.10125150871869007,
         0.10273813400387723,
         0.10910974108740051,
         0.10437089490945554,
         0.09653584572530657,
         0.09876456728133186,
         0.10183839418572208,
         0.11653023823557807,
         0.10445912285385933,
         0.10048582403708611,
         0.10606497364042994,
         0.10901092943020063,
         0.10664085502884799,
         0.12032975023310288,
         0.1154341686279498,
         0.10552478235468495,
         0.10718505276794814,
         0.1053213278872083,
         0.11873902173985679,
         0.10622570679496927,
         0.10806359536856194,
         0.10955077777631965,
         0.10327226689156362,
         0.10540096724047943,
         0.11348345365861846,
         0.10176476752639559,
         0.10247235144359274,
         0.10142195792809769,
         0.09636228574901683,
         0.10308198476929038,
         0.11269482363774833,
         0.1036297109305699,
         0.10148917001002139,
         0.10840701520232736,
         0.11696021447237355,
         0.10474974566583757,
         0.1075029426830776,
         0.10775740145884545,
         0.10179938563215007,
         0.09354318532522346,
         0.1026581599174651,
         0.11250401894661193,
         0.11869245132948696,
         0.10496371858948143,
         0.1026975172672,
         0.1272162088601094,
         0.09999884707941945,
         0.10298159789054113,
         0.11931047061143377,
         0.10811723342340795,
         0.10528903071430418
        ],
        [
         0.22306162877665722,
         0.2258515786653494,
         0.2218967811204493,
         0.2245597683678509,
         0.22675457972047083,
         0.23382012011921582,
         0.23498737968175726,
         0.22232476660443068,
         0.2265591351224073,
         0.22549124771509976,
         0.24069588575694784,
         0.23693586150914722,
         0.2237466016839094,
         0.2245410597408373,
         0.22943347370178968,
         0.24186271888331748,
         0.23023349597283146,
         0.2189496010633222,
         0.22151309009824022,
         0.22836050729942964,
         0.22125155992769435,
         0.2232733378278128,
         0.23034194333697944,
         0.22288898366740814,
         0.22721049805883975,
         0.2267835944041829,
         0.21474266259511018,
         0.22380360353774592,
         0.22143112275493787,
         0.22653179844914406,
         0.22731267230804353,
         0.22016746863065398,
         0.23939714716820448,
         0.22472410151442768,
         0.21961666275655814,
         0.23349991633428954,
         0.22373734764279982,
         0.22867751365308375,
         0.22882073992571117,
         0.21600215159831385,
         0.2298088198545955,
         0.23549934015518018,
         0.21080917590206452,
         0.22255033399800167,
         0.22672737732200937,
         0.22009425090771972,
         0.2329475374107121,
         0.22616362172708498,
         0.22738205121976196,
         0.22695258448776953,
         0.22553664906059995,
         0.2243386766617643,
         0.2213514780388305,
         0.21327798774319828,
         0.22681626570684946,
         0.22139753203145138,
         0.22989927154655257,
         0.2296680165911276,
         0.23049834128651842,
         0.22971987966265456,
         0.23019812551016608,
         0.22413052749071344,
         0.23081201544104546,
         0.23270903106815383,
         0.23386244913197907,
         0.2301612733863294,
         0.23156871167285478,
         0.23391341307547456,
         0.22900431021573206,
         0.22768653132130995,
         0.2318190082305056,
         0.22483478430841192,
         0.21964992377359202,
         0.23278546109612958,
         0.2292767922101798,
         0.22898962899275563,
         0.22156370795496247,
         0.2137539931025137,
         0.22559728286247335,
         0.22936179294415257,
         0.23022433245262386,
         0.22116851516287117,
         0.2361185614056155,
         0.23165774987280077,
         0.2246683052485334,
         0.22763924851246617,
         0.23437805377933033,
         0.22250676110350326,
         0.21828937496734307,
         0.22471366441972992,
         0.2370052241866349,
         0.23191655009948448,
         0.23251562374735288,
         0.22256464554069966,
         0.24219905971732064,
         0.22286641633357196,
         0.22176061073025943,
         0.239336243529311,
         0.22315567402242154,
         0.23146117805485047
        ],
        [
         22.752286135219038,
         23.03686102386564,
         22.63347167428583,
         22.90509637352079,
         23.128967131488025,
         23.849652252160013,
         23.96871272753924,
         22.67712619365193,
         23.109031782485545,
         23.000107266940176,
         24.55098034720868,
         24.167457873933017,
         22.82215337175876,
         22.903188093565404,
         23.402214317582548,
         24.669997326098382,
         23.48381658922881,
         22.332859308458865,
         22.5943351900205,
         23.292771744541824,
         22.567659112624824,
         22.773880458436906,
         23.494878220371902,
         22.73467633407563,
         23.175470802001655,
         23.131926629226655,
         21.90375158470124,
         22.827967560850084,
         22.585974521003664,
         23.106243441812694,
         23.18589257542044,
         22.457081800326705,
         24.418509011156857,
         22.921858354471624,
         22.40089960116893,
         23.816991466097534,
         22.82120945956558,
         23.325106392614543,
         23.33971547242254,
         22.032219463028014,
         23.44049962516874,
         24.020932695828378,
         21.50253594201058,
         22.70013406779617,
         23.126192486844957,
         22.44961359258741,
         23.760648815892637,
         23.06868941616267,
         23.19296922441572,
         23.149163617752492,
         23.004738204181194,
         22.882545019499958,
         22.57785075996071,
         21.754354749806225,
         23.135259102098644,
         22.58254826720804,
         23.449725697748363,
         23.426137692295015,
         23.510830811224878,
         23.431427725590765,
         23.48020880203694,
         22.86131380405277,
         23.542825574986637,
         23.73632116895169,
         23.853969811461866,
         23.4764498854056,
         23.620008590631187,
         23.859168133698404,
         23.35843964200467,
         23.224026194773614,
         23.645538839511573,
         22.933147999458015,
         22.404292224906385,
         23.744117031805217,
         23.38623280543834,
         23.356942157261074,
         22.59949821140617,
         21.802907296456397,
         23.010922851972282,
         23.39490288030356,
         23.482881910167634,
         22.55918854661286,
         24.08409326337278,
         23.629090487025678,
         22.916167135350406,
         23.21920334827155,
         23.906561485491693,
         22.695689632557333,
         22.265516246668994,
         22.920793770812452,
         24.17453286703676,
         23.655488110147417,
         23.716593622229993,
         22.701593845151365,
         24.704304091166705,
         22.73237446602434,
         22.619582294486463,
         24.41229683998972,
         22.761878750286996,
         23.60904016159475
        ],
        [
         3.2894434293527843,
         3.2199200311617435,
         3.1429841791720436,
         3.2188189898239985,
         3.211959785377229,
         3.400926344904653,
         3.5466348862206023,
         3.2619768800356557,
         3.235247964824471,
         3.40484620688607,
         3.5438783381836005,
         3.3224086948093676,
         3.214151725116758,
         3.272291342529302,
         3.2218437226638557,
         3.46171856343679,
         3.31806147284608,
         3.1644796100816164,
         3.242161359339796,
         3.3885984112083616,
         3.1934997325761154,
         3.179148572915188,
         3.2846325580882354,
         3.285871186122868,
         3.3321131672148105,
         3.166404540017905,
         3.162064703108534,
         3.2525941245176453,
         3.237132199853227,
         3.2929924590851676,
         3.3399544994915704,
         3.247915367126384,
         3.450333466581899,
         3.321330392362285,
         3.1924321264895217,
         3.3850214438505843,
         3.3231335399458843,
         3.4775611492724487,
         3.3142483625800048,
         3.210585362471554,
         3.449607431726008,
         3.371545464745419,
         3.1660401498096586,
         3.1966042392600706,
         3.248776549661653,
         3.245783735047234,
         3.3478524268084886,
         3.2420230842999875,
         3.217191166513669,
         3.2136667358807425,
         3.237173098305909,
         3.336044602656693,
         3.2627950105338313,
         3.137938218636765,
         3.1739542943615064,
         3.222966988187073,
         3.4476200921837314,
         3.2641737899648744,
         3.2014924725481997,
         3.2891681792398293,
         3.334533670827221,
         3.2980853859387103,
         3.503374733564266,
         3.4313678322282612,
         3.280781583735477,
         3.306489888436181,
         3.2776173425974005,
         3.4801408329930252,
         3.2916594740475302,
         3.320013061358843,
         3.342780180206979,
         3.245577178706353,
         3.278856303427905,
         3.402251059692551,
         3.2218017145212947,
         3.232983118923831,
         3.216370580120699,
         3.135116129651295,
         3.2425857654760057,
         3.390408826535575,
         3.2511890924580396,
         3.2174361440473347,
         3.3252842811761814,
         3.4539747937965757,
         3.2687113757435715,
         3.311389459679111,
         3.3153061621518813,
         3.222349660492993,
         3.088916461022019,
         3.2359129023478737,
         3.3875374437125285,
         3.479458296288039,
         3.2720481805937855,
         3.2365331392177032,
         3.6022289354969033,
         3.1937254738159293,
         3.2410064771356444,
         3.4885051243141727,
         3.320836913970274,
         3.2771147573527277
        ]
       ],
       "encoder": "json",
       "name": "ABC_GAN_3 Metrics",
       "version": 1
      }
     },
     "metadata": {
      "scrapbook": {
       "data": true,
       "display": false,
       "name": "ABC_GAN_3 Metrics"
      }
     },
     "output_type": "display_data"
    },
    {
     "name": "stdout",
     "output_type": "stream",
     "text": [
      "MSE\n",
      "0.10649448287060512\n"
     ]
    }
   ],
   "source": [
    "ABC_GAN3_metrics=ABC_train_test2.test_generator(gen3,test_data,prior_model,variance,0,\"3\",device)\n",
    "sb.glue(\"ABC_GAN_3 Metrics\",ABC_GAN3_metrics)\n",
    "\n",
    "print(\"MSE\")\n",
    "print(mean(ABC_GAN3_metrics[0]))"
   ]
  },
  {
   "cell_type": "code",
   "execution_count": 18,
   "id": "c8e46b48",
   "metadata": {
    "execution": {
     "iopub.execute_input": "2022-03-11T11:00:25.709952Z",
     "iopub.status.busy": "2022-03-11T11:00:25.709579Z",
     "iopub.status.idle": "2022-03-11T11:00:26.038956Z",
     "shell.execute_reply": "2022-03-11T11:00:26.039255Z"
    },
    "id": "c8e46b48",
    "papermill": {
     "duration": 0.349035,
     "end_time": "2022-03-11T11:00:26.039376",
     "exception": false,
     "start_time": "2022-03-11T11:00:25.690341",
     "status": "completed"
    },
    "tags": []
   },
   "outputs": [
    {
     "data": {
      "image/png": "[encoded data removed]",
      "text/plain": [
       "<Figure size 432x288 with 1 Axes>"
      ]
     },
     "metadata": {
      "needs_background": "light"
     },
     "output_type": "display_data"
    },
    {
     "data": {
      "image/png": "[encoded data removed]",
      "text/plain": [
       "<Figure size 432x288 with 1 Axes>"
      ]
     },
     "metadata": {
      "needs_background": "light"
     },
     "output_type": "display_data"
    },
    {
     "data": {
      "image/png": "[encoded data removed]",
      "text/plain": [
       "<Figure size 432x288 with 1 Axes>"
      ]
     },
     "metadata": {
      "needs_background": "light"
     },
     "output_type": "display_data"
    },
    {
     "data": {
      "image/png": "[encoded data removed]",
      "text/plain": [
       "<Figure size 432x288 with 1 Axes>"
      ]
     },
     "metadata": {
      "needs_background": "light"
     },
     "output_type": "display_data"
    }
   ],
   "source": [
    "sanityChecks.discProbVsError(train_data,disc3,device)\n",
    "sanityChecks.discProbVsError(test_data,disc3,device)"
   ]
  },
  {
   "cell_type": "markdown",
   "id": "a5bd74c3",
   "metadata": {
    "id": "a5bd74c3",
    "papermill": {
     "duration": 0.019474,
     "end_time": "2022-03-11T11:00:26.078675",
     "exception": false,
     "start_time": "2022-03-11T11:00:26.059201",
     "status": "completed"
    },
    "tags": []
   },
   "source": [
    "## Skip Connection Model Analysis - ABC-GAN "
   ]
  },
  {
   "cell_type": "markdown",
   "id": "5744a8bf",
   "metadata": {
    "id": "5744a8bf",
    "papermill": {
     "duration": 0.019237,
     "end_time": "2022-03-11T11:00:26.117209",
     "exception": false,
     "start_time": "2022-03-11T11:00:26.097972",
     "status": "completed"
    },
    "tags": []
   },
   "source": [
    "### Weight Analysis \n",
    "\n",
    "Study the weights of the skip connection layer\n",
    "\n",
    "Equation of the skip connection is \n",
    "\n",
    "$output = y_{gan} * w + y_{abc} * (1-w)$"
   ]
  },
  {
   "cell_type": "code",
   "execution_count": 19,
   "id": "52c31dea",
   "metadata": {
    "execution": {
     "iopub.execute_input": "2022-03-11T11:00:26.159075Z",
     "iopub.status.busy": "2022-03-11T11:00:26.158674Z",
     "iopub.status.idle": "2022-03-11T11:00:26.162182Z",
     "shell.execute_reply": "2022-03-11T11:00:26.162429Z"
    },
    "id": "52c31dea",
    "papermill": {
     "duration": 0.026127,
     "end_time": "2022-03-11T11:00:26.162541",
     "exception": false,
     "start_time": "2022-03-11T11:00:26.136414",
     "status": "completed"
    },
    "tags": []
   },
   "outputs": [
    {
     "name": "stdout",
     "output_type": "stream",
     "text": [
      "Weight of the node at skip connection\n",
      "Parameter containing:\n",
      "tensor([[0.6771]], requires_grad=True)\n"
     ]
    },
    {
     "data": {
      "application/scrapbook.scrap.json+json": {
       "data": 0.6770613193511963,
       "encoder": "json",
       "name": "Skip Connection Weight",
       "version": 1
      }
     },
     "metadata": {
      "scrapbook": {
       "data": true,
       "display": false,
       "name": "Skip Connection Weight"
      }
     },
     "output_type": "display_data"
    }
   ],
   "source": [
    "print(\"Weight of the node at skip connection\")\n",
    "for name,param in gen3.named_parameters():\n",
    "    if(name == \"skipNode.weight\"):\n",
    "        print(param)\n",
    "        sb.glue(\"Skip Connection Weight\",param.item())"
   ]
  }
 ],
 "metadata": {
  "colab": {
   "collapsed_sections": [],
   "name": "ABC_GAN_Model-Catboost_Pre-gen.ipynb",
   "provenance": []
  },
  "interpreter": {
   "hash": "31f2aee4e71d21fbe5cf8b01ff0e069b9275f58929596ceb00d14d90e3e16cd6"
  },
  "kernelspec": {
   "display_name": "Python 3 (ipykernel)",
   "language": "python",
   "name": "python3"
  },
  "language_info": {
   "codemirror_mode": {
    "name": "ipython",
    "version": 3
   },
   "file_extension": ".py",
   "mimetype": "text/x-python",
   "name": "python",
   "nbconvert_exporter": "python",
   "pygments_lexer": "ipython3",
   "version": "3.8.11"
  },
  "papermill": {
   "default_parameters": {},
   "duration": 195.122362,
   "end_time": "2022-03-11T11:00:26.492828",
   "environment_variables": {},
   "exception": null,
   "input_path": "ABC_GAN-Catboost.ipynb",
   "output_path": "./ABC_GAN_Catboost/ABC-GAN_output_10_0.ipynb",
   "parameters": {
    "variance": 1
   },
   "start_time": "2022-03-11T10:57:11.370466",
   "version": "2.3.3"
  }
 },
 "nbformat": 4,
 "nbformat_minor": 5
}