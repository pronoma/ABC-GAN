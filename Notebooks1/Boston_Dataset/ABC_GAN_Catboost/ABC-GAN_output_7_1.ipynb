{
 "cells": [
  {
   "cell_type": "markdown",
   "id": "622780e6",
   "metadata": {
    "id": "622780e6",
    "papermill": {
     "duration": 0.036404,
     "end_time": "2022-03-11T10:31:47.996068",
     "exception": false,
     "start_time": "2022-03-11T10:31:47.959664",
     "status": "completed"
    },
    "tags": []
   },
   "source": [
    "## Import Libraries "
   ]
  },
  {
   "cell_type": "code",
   "execution_count": 1,
   "id": "a62397e3",
   "metadata": {
    "execution": {
     "iopub.execute_input": "2022-03-11T10:31:48.032372Z",
     "iopub.status.busy": "2022-03-11T10:31:48.031865Z",
     "iopub.status.idle": "2022-03-11T10:31:48.034109Z",
     "shell.execute_reply": "2022-03-11T10:31:48.034448Z"
    },
    "id": "a62397e3",
    "papermill": {
     "duration": 0.022214,
     "end_time": "2022-03-11T10:31:48.034649",
     "exception": false,
     "start_time": "2022-03-11T10:31:48.012435",
     "status": "completed"
    },
    "tags": []
   },
   "outputs": [],
   "source": [
    "import warnings\n",
    "import sys\n",
    "sys.path.insert(0, '../../src')\n",
    "warnings.filterwarnings('ignore')"
   ]
  },
  {
   "cell_type": "code",
   "execution_count": 2,
   "id": "d6a4e155",
   "metadata": {
    "execution": {
     "iopub.execute_input": "2022-03-11T10:31:48.054654Z",
     "iopub.status.busy": "2022-03-11T10:31:48.054250Z",
     "iopub.status.idle": "2022-03-11T10:31:49.824712Z",
     "shell.execute_reply": "2022-03-11T10:31:49.824973Z"
    },
    "id": "d6a4e155",
    "papermill": {
     "duration": 1.781185,
     "end_time": "2022-03-11T10:31:49.825097",
     "exception": false,
     "start_time": "2022-03-11T10:31:48.043912",
     "status": "completed"
    },
    "tags": []
   },
   "outputs": [],
   "source": [
    "import ABC_train_test2\n",
    "import bostonDataset\n",
    "import network\n",
    "import dataset\n",
    "import sanityChecks\n",
    "import torch \n",
    "import scrapbook as sb\n",
    "from statistics import mean \n",
    "import catboost as ctb \n",
    "from sklearn.model_selection import train_test_split\n",
    "from sklearn.metrics import mean_squared_error,mean_absolute_error\n",
    "import numpy as np"
   ]
  },
  {
   "cell_type": "markdown",
   "id": "2fa5b0f7",
   "metadata": {
    "id": "2fa5b0f7",
    "papermill": {
     "duration": 0.006746,
     "end_time": "2022-03-11T10:31:49.843817",
     "exception": false,
     "start_time": "2022-03-11T10:31:49.837071",
     "status": "completed"
    },
    "tags": []
   },
   "source": [
    "## Parameters "
   ]
  },
  {
   "cell_type": "code",
   "execution_count": 3,
   "id": "783186fb",
   "metadata": {
    "execution": {
     "iopub.execute_input": "2022-03-11T10:31:49.859446Z",
     "iopub.status.busy": "2022-03-11T10:31:49.859077Z",
     "iopub.status.idle": "2022-03-11T10:31:49.860359Z",
     "shell.execute_reply": "2022-03-11T10:31:49.860605Z"
    },
    "id": "783186fb",
    "papermill": {
     "duration": 0.010225,
     "end_time": "2022-03-11T10:31:49.860716",
     "exception": false,
     "start_time": "2022-03-11T10:31:49.850491",
     "status": "completed"
    },
    "tags": [
     "parameters"
    ]
   },
   "outputs": [],
   "source": [
    "variance = 1"
   ]
  },
  {
   "cell_type": "code",
   "execution_count": 4,
   "id": "3ffa2d50",
   "metadata": {
    "execution": {
     "iopub.execute_input": "2022-03-11T10:31:49.876133Z",
     "iopub.status.busy": "2022-03-11T10:31:49.875782Z",
     "iopub.status.idle": "2022-03-11T10:31:49.877122Z",
     "shell.execute_reply": "2022-03-11T10:31:49.877366Z"
    },
    "papermill": {
     "duration": 0.009909,
     "end_time": "2022-03-11T10:31:49.877470",
     "exception": false,
     "start_time": "2022-03-11T10:31:49.867561",
     "status": "completed"
    },
    "tags": [
     "injected-parameters"
    ]
   },
   "outputs": [],
   "source": [
    "# Parameters\n",
    "variance = 0.1\n"
   ]
  },
  {
   "cell_type": "markdown",
   "id": "391cdbfd",
   "metadata": {
    "id": "391cdbfd",
    "papermill": {
     "duration": 0.00671,
     "end_time": "2022-03-11T10:31:49.890932",
     "exception": false,
     "start_time": "2022-03-11T10:31:49.884222",
     "status": "completed"
    },
    "tags": []
   },
   "source": [
    "## Dataset \n"
   ]
  },
  {
   "cell_type": "code",
   "execution_count": 5,
   "id": "5b51f161",
   "metadata": {
    "execution": {
     "iopub.execute_input": "2022-03-11T10:31:49.906281Z",
     "iopub.status.busy": "2022-03-11T10:31:49.905932Z",
     "iopub.status.idle": "2022-03-11T10:31:49.907151Z",
     "shell.execute_reply": "2022-03-11T10:31:49.907378Z"
    },
    "id": "5b51f161",
    "papermill": {
     "duration": 0.00983,
     "end_time": "2022-03-11T10:31:49.907480",
     "exception": false,
     "start_time": "2022-03-11T10:31:49.897650",
     "status": "completed"
    },
    "tags": []
   },
   "outputs": [],
   "source": [
    "#Parameters \n",
    "n_features = 13\n",
    "n_samples= 506\n",
    "n_target = 1 "
   ]
  },
  {
   "cell_type": "code",
   "execution_count": 6,
   "id": "5d6eced4",
   "metadata": {
    "execution": {
     "iopub.execute_input": "2022-03-11T10:31:49.922905Z",
     "iopub.status.busy": "2022-03-11T10:31:49.922529Z",
     "iopub.status.idle": "2022-03-11T10:31:49.933636Z",
     "shell.execute_reply": "2022-03-11T10:31:49.933887Z"
    },
    "id": "5d6eced4",
    "papermill": {
     "duration": 0.019711,
     "end_time": "2022-03-11T10:31:49.934002",
     "exception": false,
     "start_time": "2022-03-11T10:31:49.914291",
     "status": "completed"
    },
    "tags": []
   },
   "outputs": [
    {
     "name": "stdout",
     "output_type": "stream",
     "text": [
      "         X1        X2        X3        X4        X5        X6        X7  \\\n",
      "0 -0.419782  0.284830 -1.287909 -0.272599 -0.144217  0.413672 -0.120013   \n",
      "1 -0.417339 -0.487722 -0.593381 -0.272599 -0.740262  0.194274  0.367166   \n",
      "2 -0.417342 -0.487722 -0.593381 -0.272599 -0.740262  1.282714 -0.265812   \n",
      "3 -0.416750 -0.487722 -1.306878 -0.272599 -0.835284  1.016303 -0.809889   \n",
      "4 -0.412482 -0.487722 -1.306878 -0.272599 -0.835284  1.228577 -0.511180   \n",
      "\n",
      "         X8        X9       X10       X11       X12       X13         Y  \n",
      "0  0.140214 -0.982843 -0.666608 -1.459000  0.441052 -1.075562  0.159686  \n",
      "1  0.557160 -0.867883 -0.987329 -0.303094  0.441052 -0.492439 -0.101524  \n",
      "2  0.557160 -0.867883 -0.987329 -0.303094  0.396427 -1.208727  1.324247  \n",
      "3  1.077737 -0.752922 -1.106115  0.113032  0.416163 -1.361517  1.182758  \n",
      "4  1.077737 -0.752922 -1.106115  0.113032  0.441052 -1.026501  1.487503  \n"
     ]
    }
   ],
   "source": [
    "X,Y = bostonDataset.boston_data()"
   ]
  },
  {
   "cell_type": "code",
   "execution_count": 7,
   "id": "fe007438",
   "metadata": {
    "execution": {
     "iopub.execute_input": "2022-03-11T10:31:49.950827Z",
     "iopub.status.busy": "2022-03-11T10:31:49.950463Z",
     "iopub.status.idle": "2022-03-11T10:31:49.951948Z",
     "shell.execute_reply": "2022-03-11T10:31:49.952188Z"
    },
    "id": "fe007438",
    "papermill": {
     "duration": 0.011011,
     "end_time": "2022-03-11T10:31:49.952293",
     "exception": false,
     "start_time": "2022-03-11T10:31:49.941282",
     "status": "completed"
    },
    "tags": []
   },
   "outputs": [],
   "source": [
    "#Train test split for dataset \n",
    "X_train,X_test,Y_train,Y_test = train_test_split(X,Y,test_size = 0.2)\n",
    "train_data = dataset.CustomDataset(X_train,Y_train)\n",
    "test_data = dataset.CustomDataset(X_test,Y_test)\n"
   ]
  },
  {
   "cell_type": "markdown",
   "id": "a9a1af34",
   "metadata": {
    "id": "a9a1af34",
    "papermill": {
     "duration": 0.00701,
     "end_time": "2022-03-11T10:31:49.966344",
     "exception": false,
     "start_time": "2022-03-11T10:31:49.959334",
     "status": "completed"
    },
    "tags": []
   },
   "source": [
    "## Training Parameters "
   ]
  },
  {
   "cell_type": "code",
   "execution_count": 8,
   "id": "952b7fc8",
   "metadata": {
    "execution": {
     "iopub.execute_input": "2022-03-11T10:31:49.982558Z",
     "iopub.status.busy": "2022-03-11T10:31:49.982167Z",
     "iopub.status.idle": "2022-03-11T10:31:49.983423Z",
     "shell.execute_reply": "2022-03-11T10:31:49.983663Z"
    },
    "id": "952b7fc8",
    "papermill": {
     "duration": 0.010481,
     "end_time": "2022-03-11T10:31:49.983772",
     "exception": false,
     "start_time": "2022-03-11T10:31:49.973291",
     "status": "completed"
    },
    "tags": []
   },
   "outputs": [],
   "source": [
    "batch_size = 64\n",
    "n_epochs = 1000\n",
    "#Select the device \n",
    "device = torch.device('cuda' if torch.cuda.is_available() else 'cpu')"
   ]
  },
  {
   "cell_type": "markdown",
   "id": "a95e1600",
   "metadata": {
    "id": "a95e1600",
    "papermill": {
     "duration": 0.00701,
     "end_time": "2022-03-11T10:31:49.997874",
     "exception": false,
     "start_time": "2022-03-11T10:31:49.990864",
     "status": "completed"
    },
    "tags": []
   },
   "source": [
    "# ABC Pre-generator Model \n",
    "\n",
    "1. The catboost model is used as a pre-generator model for the ABC-GAN. \n",
    "2. The model is first trained on the entire dataset \n",
    "3. It generats X,Y pairs and we add some Gaussian noise with mean 0 and variance 1 to it which is then feed as input to the generator.\n"
   ]
  },
  {
   "cell_type": "code",
   "execution_count": 9,
   "id": "ff8ce7bd",
   "metadata": {
    "execution": {
     "iopub.execute_input": "2022-03-11T10:31:50.016441Z",
     "iopub.status.busy": "2022-03-11T10:31:50.016031Z",
     "iopub.status.idle": "2022-03-11T10:31:50.972726Z",
     "shell.execute_reply": "2022-03-11T10:31:50.973026Z"
    },
    "id": "ff8ce7bd",
    "papermill": {
     "duration": 0.968224,
     "end_time": "2022-03-11T10:31:50.973154",
     "exception": false,
     "start_time": "2022-03-11T10:31:50.004930",
     "status": "completed"
    },
    "tags": []
   },
   "outputs": [
    {
     "name": "stdout",
     "output_type": "stream",
     "text": [
      "Learning rate set to 0.033215\n",
      "0:\tlearn: 0.9824626\ttotal: 59.8ms\tremaining: 59.7s\n",
      "1:\tlearn: 0.9631248\ttotal: 60.8ms\tremaining: 30.4s\n",
      "2:\tlearn: 0.9422360\ttotal: 61.9ms\tremaining: 20.6s\n",
      "3:\tlearn: 0.9273055\ttotal: 63ms\tremaining: 15.7s\n",
      "4:\tlearn: 0.9103624\ttotal: 63.9ms\tremaining: 12.7s\n",
      "5:\tlearn: 0.8935159\ttotal: 64.9ms\tremaining: 10.8s\n",
      "6:\tlearn: 0.8764194\ttotal: 65.9ms\tremaining: 9.35s\n",
      "7:\tlearn: 0.8612232\ttotal: 66.8ms\tremaining: 8.28s\n",
      "8:\tlearn: 0.8463015\ttotal: 67.5ms\tremaining: 7.43s\n",
      "9:\tlearn: 0.8301674\ttotal: 68.2ms\tremaining: 6.75s\n",
      "10:\tlearn: 0.8160364\ttotal: 69ms\tremaining: 6.21s\n",
      "11:\tlearn: 0.8017450\ttotal: 69.8ms\tremaining: 5.75s\n",
      "12:\tlearn: 0.7883369\ttotal: 70.6ms\tremaining: 5.36s\n",
      "13:\tlearn: 0.7748412\ttotal: 71.4ms\tremaining: 5.03s\n",
      "14:\tlearn: 0.7611512\ttotal: 72.5ms\tremaining: 4.76s\n",
      "15:\tlearn: 0.7467085\ttotal: 73.4ms\tremaining: 4.51s\n",
      "16:\tlearn: 0.7357217\ttotal: 74.2ms\tremaining: 4.29s\n",
      "17:\tlearn: 0.7243804\ttotal: 75ms\tremaining: 4.09s\n",
      "18:\tlearn: 0.7123451\ttotal: 75.8ms\tremaining: 3.91s\n",
      "19:\tlearn: 0.6983279\ttotal: 76.7ms\tremaining: 3.76s\n",
      "20:\tlearn: 0.6853029\ttotal: 77.6ms\tremaining: 3.62s\n",
      "21:\tlearn: 0.6750929\ttotal: 78.3ms\tremaining: 3.48s\n",
      "22:\tlearn: 0.6650982\ttotal: 79.1ms\tremaining: 3.36s\n",
      "23:\tlearn: 0.6556050\ttotal: 79.8ms\tremaining: 3.24s\n",
      "24:\tlearn: 0.6458661\ttotal: 80.5ms\tremaining: 3.14s\n",
      "25:\tlearn: 0.6375184\ttotal: 81.3ms\tremaining: 3.05s\n",
      "26:\tlearn: 0.6293239\ttotal: 82.1ms\tremaining: 2.96s\n",
      "27:\tlearn: 0.6199760\ttotal: 82.9ms\tremaining: 2.88s\n",
      "28:\tlearn: 0.6111204\ttotal: 83.8ms\tremaining: 2.8s\n",
      "29:\tlearn: 0.6004744\ttotal: 84.6ms\tremaining: 2.73s\n",
      "30:\tlearn: 0.5910101\ttotal: 85.4ms\tremaining: 2.67s\n",
      "31:\tlearn: 0.5822509\ttotal: 86.2ms\tremaining: 2.61s\n",
      "32:\tlearn: 0.5756772\ttotal: 87ms\tremaining: 2.55s\n",
      "33:\tlearn: 0.5683163\ttotal: 87.8ms\tremaining: 2.49s\n",
      "34:\tlearn: 0.5605194\ttotal: 88.7ms\tremaining: 2.44s\n",
      "35:\tlearn: 0.5525985\ttotal: 89.5ms\tremaining: 2.4s\n",
      "36:\tlearn: 0.5455909\ttotal: 90.3ms\tremaining: 2.35s\n",
      "37:\tlearn: 0.5388175\ttotal: 91.1ms\tremaining: 2.31s\n",
      "38:\tlearn: 0.5318030\ttotal: 91.9ms\tremaining: 2.26s\n",
      "39:\tlearn: 0.5240463\ttotal: 92.7ms\tremaining: 2.23s\n",
      "40:\tlearn: 0.5179991\ttotal: 93.5ms\tremaining: 2.19s\n",
      "41:\tlearn: 0.5105315\ttotal: 94.4ms\tremaining: 2.15s\n",
      "42:\tlearn: 0.5045195\ttotal: 95.2ms\tremaining: 2.12s\n",
      "43:\tlearn: 0.4976551\ttotal: 96ms\tremaining: 2.08s\n",
      "44:\tlearn: 0.4917733\ttotal: 96.9ms\tremaining: 2.06s\n",
      "45:\tlearn: 0.4863727\ttotal: 97.7ms\tremaining: 2.03s\n",
      "46:\tlearn: 0.4811487\ttotal: 98.5ms\tremaining: 2s\n",
      "47:\tlearn: 0.4748513\ttotal: 99.3ms\tremaining: 1.97s\n",
      "48:\tlearn: 0.4703106\ttotal: 100ms\tremaining: 1.94s\n",
      "49:\tlearn: 0.4644482\ttotal: 101ms\tremaining: 1.92s\n",
      "50:\tlearn: 0.4586968\ttotal: 102ms\tremaining: 1.89s\n",
      "51:\tlearn: 0.4538411\ttotal: 102ms\tremaining: 1.87s\n",
      "52:\tlearn: 0.4501443\ttotal: 103ms\tremaining: 1.84s\n",
      "53:\tlearn: 0.4465792\ttotal: 104ms\tremaining: 1.82s\n",
      "54:\tlearn: 0.4405933\ttotal: 105ms\tremaining: 1.8s\n",
      "55:\tlearn: 0.4371091\ttotal: 106ms\tremaining: 1.78s\n",
      "56:\tlearn: 0.4333623\ttotal: 107ms\tremaining: 1.76s\n",
      "57:\tlearn: 0.4286738\ttotal: 108ms\tremaining: 1.75s\n",
      "58:\tlearn: 0.4253071\ttotal: 108ms\tremaining: 1.73s\n",
      "59:\tlearn: 0.4220138\ttotal: 109ms\tremaining: 1.71s\n"
     ]
    },
    {
     "name": "stdout",
     "output_type": "stream",
     "text": [
      "60:\tlearn: 0.4181302\ttotal: 110ms\tremaining: 1.7s\n",
      "61:\tlearn: 0.4138946\ttotal: 111ms\tremaining: 1.68s\n",
      "62:\tlearn: 0.4112558\ttotal: 112ms\tremaining: 1.66s\n",
      "63:\tlearn: 0.4072795\ttotal: 113ms\tremaining: 1.65s\n",
      "64:\tlearn: 0.4034864\ttotal: 113ms\tremaining: 1.63s\n",
      "65:\tlearn: 0.3996196\ttotal: 114ms\tremaining: 1.62s\n",
      "66:\tlearn: 0.3960920\ttotal: 115ms\tremaining: 1.6s\n",
      "67:\tlearn: 0.3929127\ttotal: 116ms\tremaining: 1.59s\n",
      "68:\tlearn: 0.3900364\ttotal: 117ms\tremaining: 1.57s\n",
      "69:\tlearn: 0.3872863\ttotal: 117ms\tremaining: 1.56s\n",
      "70:\tlearn: 0.3844892\ttotal: 118ms\tremaining: 1.55s\n",
      "71:\tlearn: 0.3804351\ttotal: 119ms\tremaining: 1.54s\n",
      "72:\tlearn: 0.3777350\ttotal: 120ms\tremaining: 1.52s\n",
      "73:\tlearn: 0.3740796\ttotal: 121ms\tremaining: 1.51s\n",
      "74:\tlearn: 0.3712519\ttotal: 122ms\tremaining: 1.5s\n",
      "75:\tlearn: 0.3684545\ttotal: 123ms\tremaining: 1.49s\n",
      "76:\tlearn: 0.3655908\ttotal: 124ms\tremaining: 1.48s\n",
      "77:\tlearn: 0.3634595\ttotal: 124ms\tremaining: 1.47s\n",
      "78:\tlearn: 0.3600114\ttotal: 125ms\tremaining: 1.46s\n",
      "79:\tlearn: 0.3583012\ttotal: 126ms\tremaining: 1.45s\n",
      "80:\tlearn: 0.3559556\ttotal: 127ms\tremaining: 1.44s\n",
      "81:\tlearn: 0.3527801\ttotal: 127ms\tremaining: 1.43s\n",
      "82:\tlearn: 0.3509427\ttotal: 128ms\tremaining: 1.42s\n",
      "83:\tlearn: 0.3485118\ttotal: 130ms\tremaining: 1.41s\n",
      "84:\tlearn: 0.3462306\ttotal: 131ms\tremaining: 1.41s\n",
      "85:\tlearn: 0.3434612\ttotal: 131ms\tremaining: 1.4s\n",
      "86:\tlearn: 0.3410817\ttotal: 132ms\tremaining: 1.39s\n",
      "87:\tlearn: 0.3385645\ttotal: 133ms\tremaining: 1.38s\n",
      "88:\tlearn: 0.3361869\ttotal: 134ms\tremaining: 1.37s\n",
      "89:\tlearn: 0.3333226\ttotal: 135ms\tremaining: 1.36s\n",
      "90:\tlearn: 0.3308856\ttotal: 136ms\tremaining: 1.35s\n",
      "91:\tlearn: 0.3290237\ttotal: 136ms\tremaining: 1.34s\n",
      "92:\tlearn: 0.3274033\ttotal: 137ms\tremaining: 1.34s\n",
      "93:\tlearn: 0.3255962\ttotal: 138ms\tremaining: 1.33s\n",
      "94:\tlearn: 0.3233173\ttotal: 139ms\tremaining: 1.33s\n",
      "95:\tlearn: 0.3221773\ttotal: 140ms\tremaining: 1.32s\n",
      "96:\tlearn: 0.3196986\ttotal: 141ms\tremaining: 1.31s\n",
      "97:\tlearn: 0.3179324\ttotal: 142ms\tremaining: 1.31s\n",
      "98:\tlearn: 0.3161811\ttotal: 143ms\tremaining: 1.3s\n",
      "99:\tlearn: 0.3142293\ttotal: 144ms\tremaining: 1.29s\n",
      "100:\tlearn: 0.3125100\ttotal: 145ms\tremaining: 1.29s\n",
      "101:\tlearn: 0.3104773\ttotal: 145ms\tremaining: 1.28s\n",
      "102:\tlearn: 0.3089181\ttotal: 146ms\tremaining: 1.27s\n",
      "103:\tlearn: 0.3071689\ttotal: 147ms\tremaining: 1.27s\n",
      "104:\tlearn: 0.3057133\ttotal: 148ms\tremaining: 1.26s\n",
      "105:\tlearn: 0.3044803\ttotal: 149ms\tremaining: 1.25s\n",
      "106:\tlearn: 0.3024719\ttotal: 150ms\tremaining: 1.25s\n",
      "107:\tlearn: 0.3009406\ttotal: 150ms\tremaining: 1.24s\n",
      "108:\tlearn: 0.2992547\ttotal: 151ms\tremaining: 1.23s\n",
      "109:\tlearn: 0.2979614\ttotal: 152ms\tremaining: 1.23s\n",
      "110:\tlearn: 0.2960827\ttotal: 153ms\tremaining: 1.22s\n",
      "111:\tlearn: 0.2944801\ttotal: 153ms\tremaining: 1.22s\n",
      "112:\tlearn: 0.2924186\ttotal: 154ms\tremaining: 1.21s\n",
      "113:\tlearn: 0.2913758\ttotal: 155ms\tremaining: 1.2s\n",
      "114:\tlearn: 0.2898921\ttotal: 156ms\tremaining: 1.2s\n",
      "115:\tlearn: 0.2886878\ttotal: 156ms\tremaining: 1.19s\n",
      "116:\tlearn: 0.2869908\ttotal: 157ms\tremaining: 1.19s\n",
      "117:\tlearn: 0.2855422\ttotal: 158ms\tremaining: 1.18s\n",
      "118:\tlearn: 0.2842253\ttotal: 159ms\tremaining: 1.18s\n",
      "119:\tlearn: 0.2833974\ttotal: 160ms\tremaining: 1.17s\n",
      "120:\tlearn: 0.2820621\ttotal: 160ms\tremaining: 1.17s\n",
      "121:\tlearn: 0.2810830\ttotal: 161ms\tremaining: 1.16s\n",
      "122:\tlearn: 0.2798963\ttotal: 162ms\tremaining: 1.16s\n",
      "123:\tlearn: 0.2790166\ttotal: 163ms\tremaining: 1.15s\n",
      "124:\tlearn: 0.2779451\ttotal: 164ms\tremaining: 1.15s\n",
      "125:\tlearn: 0.2767668\ttotal: 165ms\tremaining: 1.14s\n",
      "126:\tlearn: 0.2755485\ttotal: 166ms\tremaining: 1.14s\n",
      "127:\tlearn: 0.2747283\ttotal: 166ms\tremaining: 1.13s\n",
      "128:\tlearn: 0.2735192\ttotal: 167ms\tremaining: 1.13s\n",
      "129:\tlearn: 0.2724914\ttotal: 168ms\tremaining: 1.13s\n",
      "130:\tlearn: 0.2712534\ttotal: 169ms\tremaining: 1.12s\n",
      "131:\tlearn: 0.2703760\ttotal: 170ms\tremaining: 1.12s\n",
      "132:\tlearn: 0.2694518\ttotal: 171ms\tremaining: 1.11s\n",
      "133:\tlearn: 0.2685356\ttotal: 171ms\tremaining: 1.11s\n",
      "134:\tlearn: 0.2679892\ttotal: 172ms\tremaining: 1.1s\n",
      "135:\tlearn: 0.2672272\ttotal: 173ms\tremaining: 1.1s\n",
      "136:\tlearn: 0.2662970\ttotal: 174ms\tremaining: 1.09s\n",
      "137:\tlearn: 0.2651857\ttotal: 175ms\tremaining: 1.09s\n",
      "138:\tlearn: 0.2639978\ttotal: 175ms\tremaining: 1.09s\n",
      "139:\tlearn: 0.2632428\ttotal: 176ms\tremaining: 1.08s\n",
      "140:\tlearn: 0.2623137\ttotal: 177ms\tremaining: 1.08s\n",
      "141:\tlearn: 0.2615606\ttotal: 178ms\tremaining: 1.07s\n",
      "142:\tlearn: 0.2605387\ttotal: 179ms\tremaining: 1.07s\n",
      "143:\tlearn: 0.2598489\ttotal: 179ms\tremaining: 1.07s\n",
      "144:\tlearn: 0.2589399\ttotal: 180ms\tremaining: 1.06s\n",
      "145:\tlearn: 0.2576294\ttotal: 181ms\tremaining: 1.06s\n",
      "146:\tlearn: 0.2564668\ttotal: 182ms\tremaining: 1.05s\n",
      "147:\tlearn: 0.2558112\ttotal: 183ms\tremaining: 1.05s\n",
      "148:\tlearn: 0.2550988\ttotal: 183ms\tremaining: 1.05s\n",
      "149:\tlearn: 0.2544529\ttotal: 184ms\tremaining: 1.04s\n",
      "150:\tlearn: 0.2533453\ttotal: 185ms\tremaining: 1.04s\n",
      "151:\tlearn: 0.2527037\ttotal: 186ms\tremaining: 1.04s\n",
      "152:\tlearn: 0.2519825\ttotal: 187ms\tremaining: 1.03s\n",
      "153:\tlearn: 0.2513334\ttotal: 187ms\tremaining: 1.03s\n",
      "154:\tlearn: 0.2508373\ttotal: 188ms\tremaining: 1.03s\n",
      "155:\tlearn: 0.2500256\ttotal: 189ms\tremaining: 1.02s\n",
      "156:\tlearn: 0.2490034\ttotal: 190ms\tremaining: 1.02s\n"
     ]
    },
    {
     "name": "stdout",
     "output_type": "stream",
     "text": [
      "157:\tlearn: 0.2480764\ttotal: 191ms\tremaining: 1.02s\n",
      "158:\tlearn: 0.2470129\ttotal: 192ms\tremaining: 1.01s\n",
      "159:\tlearn: 0.2463286\ttotal: 193ms\tremaining: 1.01s\n",
      "160:\tlearn: 0.2455801\ttotal: 194ms\tremaining: 1.01s\n",
      "161:\tlearn: 0.2444871\ttotal: 195ms\tremaining: 1.01s\n",
      "162:\tlearn: 0.2438467\ttotal: 195ms\tremaining: 1s\n",
      "163:\tlearn: 0.2425631\ttotal: 196ms\tremaining: 1s\n",
      "164:\tlearn: 0.2416922\ttotal: 197ms\tremaining: 997ms\n",
      "165:\tlearn: 0.2408744\ttotal: 198ms\tremaining: 994ms\n",
      "166:\tlearn: 0.2402720\ttotal: 199ms\tremaining: 991ms\n",
      "167:\tlearn: 0.2394426\ttotal: 200ms\tremaining: 988ms\n",
      "168:\tlearn: 0.2388881\ttotal: 200ms\tremaining: 985ms\n",
      "169:\tlearn: 0.2378145\ttotal: 201ms\tremaining: 983ms\n",
      "170:\tlearn: 0.2370483\ttotal: 202ms\tremaining: 979ms\n",
      "171:\tlearn: 0.2364031\ttotal: 203ms\tremaining: 977ms\n",
      "172:\tlearn: 0.2356307\ttotal: 204ms\tremaining: 974ms\n",
      "173:\tlearn: 0.2350322\ttotal: 205ms\tremaining: 971ms\n",
      "174:\tlearn: 0.2344483\ttotal: 205ms\tremaining: 968ms\n",
      "175:\tlearn: 0.2338136\ttotal: 206ms\tremaining: 966ms\n",
      "176:\tlearn: 0.2332621\ttotal: 207ms\tremaining: 963ms\n",
      "177:\tlearn: 0.2323524\ttotal: 208ms\tremaining: 961ms\n",
      "178:\tlearn: 0.2316961\ttotal: 209ms\tremaining: 957ms\n",
      "179:\tlearn: 0.2309936\ttotal: 210ms\tremaining: 956ms\n",
      "180:\tlearn: 0.2301847\ttotal: 211ms\tremaining: 953ms\n",
      "181:\tlearn: 0.2293403\ttotal: 211ms\tremaining: 950ms\n",
      "182:\tlearn: 0.2288254\ttotal: 212ms\tremaining: 948ms\n",
      "183:\tlearn: 0.2281632\ttotal: 213ms\tremaining: 945ms\n",
      "184:\tlearn: 0.2271507\ttotal: 214ms\tremaining: 943ms\n",
      "185:\tlearn: 0.2265804\ttotal: 215ms\tremaining: 940ms\n",
      "186:\tlearn: 0.2258264\ttotal: 216ms\tremaining: 937ms\n",
      "187:\tlearn: 0.2254080\ttotal: 216ms\tremaining: 934ms\n",
      "188:\tlearn: 0.2247927\ttotal: 217ms\tremaining: 931ms\n",
      "189:\tlearn: 0.2240341\ttotal: 218ms\tremaining: 929ms\n",
      "190:\tlearn: 0.2234144\ttotal: 219ms\tremaining: 926ms\n",
      "191:\tlearn: 0.2227434\ttotal: 219ms\tremaining: 924ms\n",
      "192:\tlearn: 0.2222133\ttotal: 220ms\tremaining: 921ms\n",
      "193:\tlearn: 0.2215900\ttotal: 221ms\tremaining: 918ms\n",
      "194:\tlearn: 0.2209582\ttotal: 222ms\tremaining: 915ms\n",
      "195:\tlearn: 0.2204352\ttotal: 223ms\tremaining: 913ms\n",
      "196:\tlearn: 0.2199265\ttotal: 224ms\tremaining: 911ms\n",
      "197:\tlearn: 0.2192548\ttotal: 224ms\tremaining: 909ms\n",
      "198:\tlearn: 0.2187766\ttotal: 225ms\tremaining: 906ms\n",
      "199:\tlearn: 0.2180909\ttotal: 226ms\tremaining: 904ms\n",
      "200:\tlearn: 0.2173661\ttotal: 227ms\tremaining: 901ms\n",
      "201:\tlearn: 0.2166540\ttotal: 228ms\tremaining: 899ms\n",
      "202:\tlearn: 0.2161749\ttotal: 228ms\tremaining: 896ms\n",
      "203:\tlearn: 0.2156586\ttotal: 229ms\tremaining: 894ms\n",
      "204:\tlearn: 0.2151018\ttotal: 230ms\tremaining: 891ms\n",
      "205:\tlearn: 0.2142754\ttotal: 231ms\tremaining: 889ms\n",
      "206:\tlearn: 0.2137612\ttotal: 232ms\tremaining: 887ms\n",
      "207:\tlearn: 0.2132408\ttotal: 232ms\tremaining: 885ms\n",
      "208:\tlearn: 0.2127060\ttotal: 233ms\tremaining: 882ms\n",
      "209:\tlearn: 0.2121137\ttotal: 234ms\tremaining: 880ms\n",
      "210:\tlearn: 0.2115813\ttotal: 235ms\tremaining: 878ms\n",
      "211:\tlearn: 0.2109777\ttotal: 236ms\tremaining: 876ms\n",
      "212:\tlearn: 0.2104845\ttotal: 236ms\tremaining: 874ms\n",
      "213:\tlearn: 0.2098845\ttotal: 237ms\tremaining: 871ms\n",
      "214:\tlearn: 0.2092512\ttotal: 238ms\tremaining: 869ms\n",
      "215:\tlearn: 0.2087013\ttotal: 239ms\tremaining: 867ms\n",
      "216:\tlearn: 0.2080380\ttotal: 240ms\tremaining: 865ms\n",
      "217:\tlearn: 0.2075264\ttotal: 241ms\tremaining: 863ms\n",
      "218:\tlearn: 0.2068511\ttotal: 242ms\tremaining: 863ms\n",
      "219:\tlearn: 0.2062995\ttotal: 243ms\tremaining: 860ms\n",
      "220:\tlearn: 0.2056016\ttotal: 243ms\tremaining: 858ms\n",
      "221:\tlearn: 0.2052296\ttotal: 244ms\tremaining: 856ms\n",
      "222:\tlearn: 0.2049144\ttotal: 245ms\tremaining: 854ms\n",
      "223:\tlearn: 0.2042900\ttotal: 246ms\tremaining: 852ms\n",
      "224:\tlearn: 0.2036504\ttotal: 247ms\tremaining: 850ms\n",
      "225:\tlearn: 0.2028804\ttotal: 248ms\tremaining: 848ms\n",
      "226:\tlearn: 0.2023009\ttotal: 248ms\tremaining: 846ms\n",
      "227:\tlearn: 0.2016348\ttotal: 250ms\tremaining: 846ms\n",
      "228:\tlearn: 0.2010673\ttotal: 251ms\tremaining: 844ms\n",
      "229:\tlearn: 0.2005706\ttotal: 251ms\tremaining: 842ms\n",
      "230:\tlearn: 0.2002829\ttotal: 252ms\tremaining: 840ms\n",
      "231:\tlearn: 0.1995465\ttotal: 253ms\tremaining: 838ms\n",
      "232:\tlearn: 0.1991984\ttotal: 254ms\tremaining: 836ms\n",
      "233:\tlearn: 0.1987692\ttotal: 255ms\tremaining: 834ms\n",
      "234:\tlearn: 0.1984222\ttotal: 255ms\tremaining: 831ms\n",
      "235:\tlearn: 0.1979415\ttotal: 256ms\tremaining: 830ms\n",
      "236:\tlearn: 0.1976386\ttotal: 257ms\tremaining: 828ms\n",
      "237:\tlearn: 0.1973841\ttotal: 258ms\tremaining: 826ms\n",
      "238:\tlearn: 0.1968080\ttotal: 259ms\tremaining: 823ms\n",
      "239:\tlearn: 0.1963270\ttotal: 259ms\tremaining: 821ms\n",
      "240:\tlearn: 0.1958106\ttotal: 260ms\tremaining: 819ms\n",
      "241:\tlearn: 0.1954138\ttotal: 261ms\tremaining: 817ms\n",
      "242:\tlearn: 0.1948106\ttotal: 262ms\tremaining: 816ms\n",
      "243:\tlearn: 0.1943974\ttotal: 263ms\tremaining: 814ms\n",
      "244:\tlearn: 0.1939507\ttotal: 264ms\tremaining: 812ms\n",
      "245:\tlearn: 0.1934812\ttotal: 265ms\tremaining: 811ms\n",
      "246:\tlearn: 0.1930179\ttotal: 266ms\tremaining: 809ms\n",
      "247:\tlearn: 0.1924755\ttotal: 267ms\tremaining: 808ms\n",
      "248:\tlearn: 0.1921337\ttotal: 267ms\tremaining: 807ms\n",
      "249:\tlearn: 0.1916686\ttotal: 268ms\tremaining: 805ms\n",
      "250:\tlearn: 0.1912469\ttotal: 269ms\tremaining: 804ms\n",
      "251:\tlearn: 0.1908665\ttotal: 270ms\tremaining: 802ms\n",
      "252:\tlearn: 0.1904047\ttotal: 271ms\tremaining: 801ms\n",
      "253:\tlearn: 0.1899785\ttotal: 272ms\tremaining: 799ms\n",
      "254:\tlearn: 0.1896486\ttotal: 273ms\tremaining: 798ms\n",
      "255:\tlearn: 0.1891799\ttotal: 274ms\tremaining: 796ms\n",
      "256:\tlearn: 0.1886386\ttotal: 275ms\tremaining: 794ms\n",
      "257:\tlearn: 0.1881634\ttotal: 276ms\tremaining: 792ms\n",
      "258:\tlearn: 0.1878397\ttotal: 277ms\tremaining: 791ms\n",
      "259:\tlearn: 0.1876379\ttotal: 277ms\tremaining: 790ms\n",
      "260:\tlearn: 0.1871521\ttotal: 278ms\tremaining: 788ms\n",
      "261:\tlearn: 0.1865975\ttotal: 279ms\tremaining: 787ms\n",
      "262:\tlearn: 0.1863984\ttotal: 280ms\tremaining: 786ms\n",
      "263:\tlearn: 0.1858379\ttotal: 281ms\tremaining: 784ms\n",
      "264:\tlearn: 0.1855725\ttotal: 282ms\tremaining: 783ms\n",
      "265:\tlearn: 0.1851338\ttotal: 283ms\tremaining: 781ms\n",
      "266:\tlearn: 0.1847674\ttotal: 284ms\tremaining: 780ms\n",
      "267:\tlearn: 0.1843960\ttotal: 285ms\tremaining: 779ms\n",
      "268:\tlearn: 0.1839649\ttotal: 286ms\tremaining: 777ms\n",
      "269:\tlearn: 0.1837813\ttotal: 287ms\tremaining: 776ms\n",
      "270:\tlearn: 0.1832308\ttotal: 288ms\tremaining: 774ms\n",
      "271:\tlearn: 0.1829874\ttotal: 289ms\tremaining: 773ms\n",
      "272:\tlearn: 0.1824497\ttotal: 289ms\tremaining: 771ms\n",
      "273:\tlearn: 0.1818858\ttotal: 290ms\tremaining: 769ms\n",
      "274:\tlearn: 0.1813700\ttotal: 291ms\tremaining: 767ms\n",
      "275:\tlearn: 0.1808292\ttotal: 292ms\tremaining: 765ms\n",
      "276:\tlearn: 0.1806460\ttotal: 293ms\tremaining: 764ms\n",
      "277:\tlearn: 0.1803921\ttotal: 293ms\tremaining: 762ms\n",
      "278:\tlearn: 0.1799048\ttotal: 294ms\tremaining: 760ms\n",
      "279:\tlearn: 0.1795474\ttotal: 295ms\tremaining: 759ms\n",
      "280:\tlearn: 0.1791772\ttotal: 296ms\tremaining: 757ms\n",
      "281:\tlearn: 0.1785979\ttotal: 297ms\tremaining: 755ms\n",
      "282:\tlearn: 0.1782112\ttotal: 297ms\tremaining: 754ms\n",
      "283:\tlearn: 0.1778490\ttotal: 298ms\tremaining: 752ms\n",
      "284:\tlearn: 0.1774147\ttotal: 299ms\tremaining: 750ms\n"
     ]
    },
    {
     "name": "stdout",
     "output_type": "stream",
     "text": [
      "285:\tlearn: 0.1768871\ttotal: 301ms\tremaining: 751ms\n",
      "286:\tlearn: 0.1765384\ttotal: 302ms\tremaining: 750ms\n",
      "287:\tlearn: 0.1762028\ttotal: 303ms\tremaining: 748ms\n",
      "288:\tlearn: 0.1756954\ttotal: 303ms\tremaining: 747ms\n",
      "289:\tlearn: 0.1753862\ttotal: 304ms\tremaining: 745ms\n",
      "290:\tlearn: 0.1750012\ttotal: 305ms\tremaining: 743ms\n",
      "291:\tlearn: 0.1747311\ttotal: 306ms\tremaining: 741ms\n",
      "292:\tlearn: 0.1742824\ttotal: 307ms\tremaining: 740ms\n",
      "293:\tlearn: 0.1739045\ttotal: 308ms\tremaining: 739ms\n",
      "294:\tlearn: 0.1735695\ttotal: 309ms\tremaining: 738ms\n",
      "295:\tlearn: 0.1731424\ttotal: 310ms\tremaining: 737ms\n",
      "296:\tlearn: 0.1729261\ttotal: 311ms\tremaining: 735ms\n",
      "297:\tlearn: 0.1725759\ttotal: 311ms\tremaining: 733ms\n",
      "298:\tlearn: 0.1722205\ttotal: 313ms\tremaining: 733ms\n",
      "299:\tlearn: 0.1720337\ttotal: 314ms\tremaining: 732ms\n",
      "300:\tlearn: 0.1714249\ttotal: 314ms\tremaining: 730ms\n",
      "301:\tlearn: 0.1711066\ttotal: 315ms\tremaining: 729ms\n",
      "302:\tlearn: 0.1707205\ttotal: 316ms\tremaining: 727ms\n",
      "303:\tlearn: 0.1704084\ttotal: 317ms\tremaining: 725ms\n",
      "304:\tlearn: 0.1702751\ttotal: 318ms\tremaining: 724ms\n",
      "305:\tlearn: 0.1698401\ttotal: 318ms\tremaining: 722ms\n",
      "306:\tlearn: 0.1692592\ttotal: 319ms\tremaining: 720ms\n",
      "307:\tlearn: 0.1686739\ttotal: 320ms\tremaining: 718ms\n",
      "308:\tlearn: 0.1681799\ttotal: 321ms\tremaining: 717ms\n",
      "309:\tlearn: 0.1680139\ttotal: 321ms\tremaining: 716ms\n",
      "310:\tlearn: 0.1675444\ttotal: 322ms\tremaining: 714ms\n",
      "311:\tlearn: 0.1668781\ttotal: 323ms\tremaining: 712ms\n",
      "312:\tlearn: 0.1665212\ttotal: 324ms\tremaining: 711ms\n",
      "313:\tlearn: 0.1661033\ttotal: 325ms\tremaining: 709ms\n",
      "314:\tlearn: 0.1657132\ttotal: 325ms\tremaining: 708ms\n",
      "315:\tlearn: 0.1655054\ttotal: 326ms\tremaining: 706ms\n",
      "316:\tlearn: 0.1651078\ttotal: 327ms\tremaining: 705ms\n",
      "317:\tlearn: 0.1649359\ttotal: 328ms\tremaining: 703ms\n",
      "318:\tlearn: 0.1644889\ttotal: 329ms\tremaining: 702ms\n",
      "319:\tlearn: 0.1640895\ttotal: 330ms\tremaining: 700ms\n",
      "320:\tlearn: 0.1637733\ttotal: 330ms\tremaining: 699ms\n",
      "321:\tlearn: 0.1634967\ttotal: 331ms\tremaining: 697ms\n",
      "322:\tlearn: 0.1631414\ttotal: 332ms\tremaining: 696ms\n",
      "323:\tlearn: 0.1627996\ttotal: 333ms\tremaining: 694ms\n",
      "324:\tlearn: 0.1624817\ttotal: 333ms\tremaining: 692ms\n",
      "325:\tlearn: 0.1621551\ttotal: 334ms\tremaining: 691ms\n",
      "326:\tlearn: 0.1616733\ttotal: 335ms\tremaining: 689ms\n",
      "327:\tlearn: 0.1614227\ttotal: 336ms\tremaining: 688ms\n",
      "328:\tlearn: 0.1610439\ttotal: 337ms\tremaining: 687ms\n",
      "329:\tlearn: 0.1607640\ttotal: 337ms\tremaining: 685ms\n",
      "330:\tlearn: 0.1605182\ttotal: 338ms\tremaining: 684ms\n",
      "331:\tlearn: 0.1602038\ttotal: 339ms\tremaining: 683ms\n",
      "332:\tlearn: 0.1600206\ttotal: 340ms\tremaining: 681ms\n",
      "333:\tlearn: 0.1597071\ttotal: 341ms\tremaining: 680ms\n",
      "334:\tlearn: 0.1593307\ttotal: 342ms\tremaining: 678ms\n",
      "335:\tlearn: 0.1591627\ttotal: 343ms\tremaining: 677ms\n",
      "336:\tlearn: 0.1588960\ttotal: 343ms\tremaining: 675ms\n",
      "337:\tlearn: 0.1587695\ttotal: 344ms\tremaining: 674ms\n",
      "338:\tlearn: 0.1586325\ttotal: 345ms\tremaining: 672ms\n",
      "339:\tlearn: 0.1585397\ttotal: 346ms\tremaining: 671ms\n",
      "340:\tlearn: 0.1582999\ttotal: 346ms\tremaining: 669ms\n",
      "341:\tlearn: 0.1579594\ttotal: 348ms\tremaining: 669ms\n",
      "342:\tlearn: 0.1576115\ttotal: 349ms\tremaining: 668ms\n",
      "343:\tlearn: 0.1575247\ttotal: 349ms\tremaining: 666ms\n",
      "344:\tlearn: 0.1572941\ttotal: 350ms\tremaining: 665ms\n",
      "345:\tlearn: 0.1569879\ttotal: 351ms\tremaining: 664ms\n",
      "346:\tlearn: 0.1566770\ttotal: 352ms\tremaining: 662ms\n",
      "347:\tlearn: 0.1563952\ttotal: 352ms\tremaining: 660ms\n",
      "348:\tlearn: 0.1561922\ttotal: 353ms\tremaining: 659ms\n",
      "349:\tlearn: 0.1560510\ttotal: 354ms\tremaining: 658ms\n",
      "350:\tlearn: 0.1557134\ttotal: 355ms\tremaining: 656ms\n",
      "351:\tlearn: 0.1556201\ttotal: 356ms\tremaining: 655ms\n",
      "352:\tlearn: 0.1552053\ttotal: 356ms\tremaining: 653ms\n",
      "353:\tlearn: 0.1551179\ttotal: 357ms\tremaining: 652ms\n",
      "354:\tlearn: 0.1547940\ttotal: 358ms\tremaining: 651ms\n",
      "355:\tlearn: 0.1544432\ttotal: 359ms\tremaining: 649ms\n",
      "356:\tlearn: 0.1543066\ttotal: 360ms\tremaining: 648ms\n",
      "357:\tlearn: 0.1539828\ttotal: 360ms\tremaining: 646ms\n",
      "358:\tlearn: 0.1536849\ttotal: 361ms\tremaining: 645ms\n",
      "359:\tlearn: 0.1533706\ttotal: 362ms\tremaining: 644ms\n",
      "360:\tlearn: 0.1531150\ttotal: 363ms\tremaining: 642ms\n",
      "361:\tlearn: 0.1530473\ttotal: 364ms\tremaining: 641ms\n",
      "362:\tlearn: 0.1528126\ttotal: 365ms\tremaining: 640ms\n",
      "363:\tlearn: 0.1525707\ttotal: 366ms\tremaining: 639ms\n",
      "364:\tlearn: 0.1524452\ttotal: 366ms\tremaining: 637ms\n",
      "365:\tlearn: 0.1523592\ttotal: 367ms\tremaining: 636ms\n",
      "366:\tlearn: 0.1520805\ttotal: 368ms\tremaining: 635ms\n",
      "367:\tlearn: 0.1519688\ttotal: 369ms\tremaining: 634ms\n",
      "368:\tlearn: 0.1518359\ttotal: 370ms\tremaining: 632ms\n",
      "369:\tlearn: 0.1514827\ttotal: 371ms\tremaining: 631ms\n",
      "370:\tlearn: 0.1511904\ttotal: 372ms\tremaining: 630ms\n",
      "371:\tlearn: 0.1508972\ttotal: 372ms\tremaining: 629ms\n",
      "372:\tlearn: 0.1507005\ttotal: 373ms\tremaining: 627ms\n",
      "373:\tlearn: 0.1503943\ttotal: 374ms\tremaining: 626ms\n",
      "374:\tlearn: 0.1501139\ttotal: 375ms\tremaining: 625ms\n",
      "375:\tlearn: 0.1498118\ttotal: 376ms\tremaining: 623ms\n",
      "376:\tlearn: 0.1495364\ttotal: 376ms\tremaining: 622ms\n",
      "377:\tlearn: 0.1493027\ttotal: 377ms\tremaining: 621ms\n",
      "378:\tlearn: 0.1491092\ttotal: 378ms\tremaining: 619ms\n",
      "379:\tlearn: 0.1489870\ttotal: 379ms\tremaining: 618ms\n",
      "380:\tlearn: 0.1486950\ttotal: 380ms\tremaining: 617ms\n",
      "381:\tlearn: 0.1482379\ttotal: 380ms\tremaining: 615ms\n",
      "382:\tlearn: 0.1478206\ttotal: 381ms\tremaining: 614ms\n"
     ]
    },
    {
     "name": "stdout",
     "output_type": "stream",
     "text": [
      "383:\tlearn: 0.1476836\ttotal: 382ms\tremaining: 613ms\n",
      "384:\tlearn: 0.1474155\ttotal: 383ms\tremaining: 612ms\n",
      "385:\tlearn: 0.1472809\ttotal: 384ms\tremaining: 610ms\n",
      "386:\tlearn: 0.1470590\ttotal: 384ms\tremaining: 609ms\n",
      "387:\tlearn: 0.1467998\ttotal: 385ms\tremaining: 608ms\n",
      "388:\tlearn: 0.1465064\ttotal: 386ms\tremaining: 606ms\n",
      "389:\tlearn: 0.1464412\ttotal: 387ms\tremaining: 605ms\n",
      "390:\tlearn: 0.1463815\ttotal: 388ms\tremaining: 604ms\n",
      "391:\tlearn: 0.1460454\ttotal: 389ms\tremaining: 603ms\n",
      "392:\tlearn: 0.1458802\ttotal: 389ms\tremaining: 601ms\n",
      "393:\tlearn: 0.1455940\ttotal: 390ms\tremaining: 600ms\n",
      "394:\tlearn: 0.1452731\ttotal: 391ms\tremaining: 599ms\n",
      "395:\tlearn: 0.1450167\ttotal: 392ms\tremaining: 598ms\n",
      "396:\tlearn: 0.1447861\ttotal: 393ms\tremaining: 596ms\n",
      "397:\tlearn: 0.1444638\ttotal: 393ms\tremaining: 595ms\n",
      "398:\tlearn: 0.1441297\ttotal: 394ms\tremaining: 594ms\n",
      "399:\tlearn: 0.1440070\ttotal: 395ms\tremaining: 593ms\n",
      "400:\tlearn: 0.1439230\ttotal: 396ms\tremaining: 591ms\n",
      "401:\tlearn: 0.1436434\ttotal: 397ms\tremaining: 590ms\n",
      "402:\tlearn: 0.1431964\ttotal: 397ms\tremaining: 589ms\n",
      "403:\tlearn: 0.1431047\ttotal: 398ms\tremaining: 587ms\n",
      "404:\tlearn: 0.1428781\ttotal: 399ms\tremaining: 586ms\n",
      "405:\tlearn: 0.1426659\ttotal: 400ms\tremaining: 585ms\n",
      "406:\tlearn: 0.1425121\ttotal: 400ms\tremaining: 583ms\n",
      "407:\tlearn: 0.1423161\ttotal: 401ms\tremaining: 582ms\n",
      "408:\tlearn: 0.1420597\ttotal: 402ms\tremaining: 581ms\n",
      "409:\tlearn: 0.1418756\ttotal: 403ms\tremaining: 580ms\n",
      "410:\tlearn: 0.1415986\ttotal: 404ms\tremaining: 578ms\n",
      "411:\tlearn: 0.1414491\ttotal: 404ms\tremaining: 577ms\n",
      "412:\tlearn: 0.1411665\ttotal: 405ms\tremaining: 576ms\n",
      "413:\tlearn: 0.1410916\ttotal: 406ms\tremaining: 575ms\n",
      "414:\tlearn: 0.1409152\ttotal: 407ms\tremaining: 573ms\n",
      "415:\tlearn: 0.1407514\ttotal: 408ms\tremaining: 572ms\n",
      "416:\tlearn: 0.1406466\ttotal: 409ms\tremaining: 571ms\n",
      "417:\tlearn: 0.1402570\ttotal: 409ms\tremaining: 570ms\n",
      "418:\tlearn: 0.1401074\ttotal: 410ms\tremaining: 569ms\n",
      "419:\tlearn: 0.1400460\ttotal: 411ms\tremaining: 568ms\n",
      "420:\tlearn: 0.1398969\ttotal: 412ms\tremaining: 566ms\n",
      "421:\tlearn: 0.1398224\ttotal: 413ms\tremaining: 565ms\n",
      "422:\tlearn: 0.1395278\ttotal: 413ms\tremaining: 564ms\n",
      "423:\tlearn: 0.1392379\ttotal: 414ms\tremaining: 563ms\n",
      "424:\tlearn: 0.1389725\ttotal: 415ms\tremaining: 562ms\n",
      "425:\tlearn: 0.1385462\ttotal: 416ms\tremaining: 561ms\n",
      "426:\tlearn: 0.1382591\ttotal: 417ms\tremaining: 559ms\n",
      "427:\tlearn: 0.1382017\ttotal: 418ms\tremaining: 558ms\n",
      "428:\tlearn: 0.1377468\ttotal: 418ms\tremaining: 557ms\n",
      "429:\tlearn: 0.1375320\ttotal: 419ms\tremaining: 556ms\n",
      "430:\tlearn: 0.1371489\ttotal: 420ms\tremaining: 554ms\n",
      "431:\tlearn: 0.1369692\ttotal: 421ms\tremaining: 553ms\n",
      "432:\tlearn: 0.1366091\ttotal: 422ms\tremaining: 552ms\n",
      "433:\tlearn: 0.1362444\ttotal: 422ms\tremaining: 551ms\n",
      "434:\tlearn: 0.1361949\ttotal: 423ms\tremaining: 550ms\n",
      "435:\tlearn: 0.1358699\ttotal: 424ms\tremaining: 549ms\n",
      "436:\tlearn: 0.1357501\ttotal: 425ms\tremaining: 547ms\n",
      "437:\tlearn: 0.1354665\ttotal: 426ms\tremaining: 546ms\n",
      "438:\tlearn: 0.1352136\ttotal: 426ms\tremaining: 545ms\n",
      "439:\tlearn: 0.1350143\ttotal: 427ms\tremaining: 544ms\n",
      "440:\tlearn: 0.1348829\ttotal: 428ms\tremaining: 543ms\n",
      "441:\tlearn: 0.1348052\ttotal: 429ms\tremaining: 541ms\n",
      "442:\tlearn: 0.1344647\ttotal: 430ms\tremaining: 540ms\n",
      "443:\tlearn: 0.1343613\ttotal: 430ms\tremaining: 539ms\n",
      "444:\tlearn: 0.1342603\ttotal: 431ms\tremaining: 538ms\n",
      "445:\tlearn: 0.1340763\ttotal: 432ms\tremaining: 537ms\n",
      "446:\tlearn: 0.1338950\ttotal: 433ms\tremaining: 535ms\n",
      "447:\tlearn: 0.1335950\ttotal: 434ms\tremaining: 534ms\n",
      "448:\tlearn: 0.1334801\ttotal: 434ms\tremaining: 533ms\n",
      "449:\tlearn: 0.1332264\ttotal: 435ms\tremaining: 532ms\n",
      "450:\tlearn: 0.1329737\ttotal: 436ms\tremaining: 530ms\n",
      "451:\tlearn: 0.1325547\ttotal: 437ms\tremaining: 529ms\n",
      "452:\tlearn: 0.1324539\ttotal: 437ms\tremaining: 528ms\n",
      "453:\tlearn: 0.1322984\ttotal: 438ms\tremaining: 527ms\n",
      "454:\tlearn: 0.1320086\ttotal: 439ms\tremaining: 526ms\n",
      "455:\tlearn: 0.1318513\ttotal: 440ms\tremaining: 525ms\n",
      "456:\tlearn: 0.1317526\ttotal: 440ms\tremaining: 523ms\n",
      "457:\tlearn: 0.1316459\ttotal: 441ms\tremaining: 522ms\n",
      "458:\tlearn: 0.1316043\ttotal: 442ms\tremaining: 521ms\n",
      "459:\tlearn: 0.1313736\ttotal: 443ms\tremaining: 520ms\n",
      "460:\tlearn: 0.1312263\ttotal: 444ms\tremaining: 519ms\n",
      "461:\tlearn: 0.1309646\ttotal: 445ms\tremaining: 518ms\n",
      "462:\tlearn: 0.1307152\ttotal: 446ms\tremaining: 517ms\n",
      "463:\tlearn: 0.1304276\ttotal: 446ms\tremaining: 516ms\n",
      "464:\tlearn: 0.1302134\ttotal: 447ms\tremaining: 514ms\n",
      "465:\tlearn: 0.1301678\ttotal: 448ms\tremaining: 513ms\n",
      "466:\tlearn: 0.1300587\ttotal: 449ms\tremaining: 512ms\n",
      "467:\tlearn: 0.1299960\ttotal: 450ms\tremaining: 512ms\n",
      "468:\tlearn: 0.1297595\ttotal: 451ms\tremaining: 511ms\n",
      "469:\tlearn: 0.1294777\ttotal: 452ms\tremaining: 510ms\n",
      "470:\tlearn: 0.1292875\ttotal: 453ms\tremaining: 509ms\n",
      "471:\tlearn: 0.1292550\ttotal: 454ms\tremaining: 508ms\n",
      "472:\tlearn: 0.1291024\ttotal: 454ms\tremaining: 506ms\n",
      "473:\tlearn: 0.1289843\ttotal: 455ms\tremaining: 505ms\n",
      "474:\tlearn: 0.1287692\ttotal: 456ms\tremaining: 504ms\n",
      "475:\tlearn: 0.1286036\ttotal: 457ms\tremaining: 503ms\n",
      "476:\tlearn: 0.1283087\ttotal: 458ms\tremaining: 502ms\n",
      "477:\tlearn: 0.1280525\ttotal: 459ms\tremaining: 501ms\n",
      "478:\tlearn: 0.1276531\ttotal: 459ms\tremaining: 500ms\n",
      "479:\tlearn: 0.1274214\ttotal: 460ms\tremaining: 499ms\n",
      "480:\tlearn: 0.1273898\ttotal: 461ms\tremaining: 498ms\n",
      "481:\tlearn: 0.1270874\ttotal: 462ms\tremaining: 497ms\n",
      "482:\tlearn: 0.1268657\ttotal: 463ms\tremaining: 496ms\n",
      "483:\tlearn: 0.1265470\ttotal: 464ms\tremaining: 494ms\n",
      "484:\tlearn: 0.1262044\ttotal: 465ms\tremaining: 493ms\n",
      "485:\tlearn: 0.1259336\ttotal: 465ms\tremaining: 492ms\n",
      "486:\tlearn: 0.1257031\ttotal: 466ms\tremaining: 491ms\n",
      "487:\tlearn: 0.1254138\ttotal: 467ms\tremaining: 490ms\n",
      "488:\tlearn: 0.1251818\ttotal: 468ms\tremaining: 489ms\n",
      "489:\tlearn: 0.1249395\ttotal: 469ms\tremaining: 488ms\n",
      "490:\tlearn: 0.1248774\ttotal: 470ms\tremaining: 487ms\n",
      "491:\tlearn: 0.1246373\ttotal: 471ms\tremaining: 486ms\n",
      "492:\tlearn: 0.1245944\ttotal: 471ms\tremaining: 485ms\n",
      "493:\tlearn: 0.1243582\ttotal: 472ms\tremaining: 484ms\n",
      "494:\tlearn: 0.1241397\ttotal: 473ms\tremaining: 483ms\n",
      "495:\tlearn: 0.1239400\ttotal: 474ms\tremaining: 481ms\n",
      "496:\tlearn: 0.1236726\ttotal: 475ms\tremaining: 480ms\n",
      "497:\tlearn: 0.1235078\ttotal: 475ms\tremaining: 479ms\n",
      "498:\tlearn: 0.1232497\ttotal: 476ms\tremaining: 478ms\n",
      "499:\tlearn: 0.1228521\ttotal: 477ms\tremaining: 477ms\n",
      "500:\tlearn: 0.1227184\ttotal: 478ms\tremaining: 476ms\n",
      "501:\tlearn: 0.1224401\ttotal: 479ms\tremaining: 475ms\n",
      "502:\tlearn: 0.1223449\ttotal: 480ms\tremaining: 474ms\n",
      "503:\tlearn: 0.1219963\ttotal: 480ms\tremaining: 473ms\n",
      "504:\tlearn: 0.1218353\ttotal: 481ms\tremaining: 472ms\n",
      "505:\tlearn: 0.1215771\ttotal: 482ms\tremaining: 471ms\n",
      "506:\tlearn: 0.1212482\ttotal: 483ms\tremaining: 469ms\n",
      "507:\tlearn: 0.1208739\ttotal: 484ms\tremaining: 468ms\n",
      "508:\tlearn: 0.1207359\ttotal: 484ms\tremaining: 467ms\n",
      "509:\tlearn: 0.1204369\ttotal: 485ms\tremaining: 466ms\n",
      "510:\tlearn: 0.1201153\ttotal: 486ms\tremaining: 465ms\n",
      "511:\tlearn: 0.1198815\ttotal: 487ms\tremaining: 464ms\n",
      "512:\tlearn: 0.1196840\ttotal: 487ms\tremaining: 463ms\n",
      "513:\tlearn: 0.1194543\ttotal: 488ms\tremaining: 462ms\n",
      "514:\tlearn: 0.1192642\ttotal: 489ms\tremaining: 461ms\n",
      "515:\tlearn: 0.1189902\ttotal: 490ms\tremaining: 459ms\n"
     ]
    },
    {
     "name": "stdout",
     "output_type": "stream",
     "text": [
      "516:\tlearn: 0.1188056\ttotal: 491ms\tremaining: 459ms\n",
      "517:\tlearn: 0.1186725\ttotal: 492ms\tremaining: 457ms\n",
      "518:\tlearn: 0.1185484\ttotal: 492ms\tremaining: 456ms\n",
      "519:\tlearn: 0.1183146\ttotal: 493ms\tremaining: 455ms\n",
      "520:\tlearn: 0.1180881\ttotal: 494ms\tremaining: 454ms\n",
      "521:\tlearn: 0.1178288\ttotal: 495ms\tremaining: 453ms\n",
      "522:\tlearn: 0.1177577\ttotal: 496ms\tremaining: 452ms\n",
      "523:\tlearn: 0.1174804\ttotal: 496ms\tremaining: 451ms\n",
      "524:\tlearn: 0.1173148\ttotal: 497ms\tremaining: 450ms\n",
      "525:\tlearn: 0.1171096\ttotal: 498ms\tremaining: 449ms\n",
      "526:\tlearn: 0.1169637\ttotal: 499ms\tremaining: 448ms\n",
      "527:\tlearn: 0.1167596\ttotal: 500ms\tremaining: 447ms\n",
      "528:\tlearn: 0.1166884\ttotal: 501ms\tremaining: 446ms\n",
      "529:\tlearn: 0.1163831\ttotal: 502ms\tremaining: 445ms\n",
      "530:\tlearn: 0.1162741\ttotal: 503ms\tremaining: 444ms\n",
      "531:\tlearn: 0.1159874\ttotal: 503ms\tremaining: 443ms\n",
      "532:\tlearn: 0.1157011\ttotal: 504ms\tremaining: 442ms\n",
      "533:\tlearn: 0.1154646\ttotal: 505ms\tremaining: 441ms\n",
      "534:\tlearn: 0.1153615\ttotal: 506ms\tremaining: 440ms\n",
      "535:\tlearn: 0.1150927\ttotal: 507ms\tremaining: 439ms\n",
      "536:\tlearn: 0.1148703\ttotal: 507ms\tremaining: 437ms\n",
      "537:\tlearn: 0.1147604\ttotal: 508ms\tremaining: 436ms\n",
      "538:\tlearn: 0.1145126\ttotal: 509ms\tremaining: 435ms\n",
      "539:\tlearn: 0.1143944\ttotal: 510ms\tremaining: 434ms\n",
      "540:\tlearn: 0.1141393\ttotal: 510ms\tremaining: 433ms\n",
      "541:\tlearn: 0.1139145\ttotal: 511ms\tremaining: 432ms\n",
      "542:\tlearn: 0.1136243\ttotal: 512ms\tremaining: 431ms\n",
      "543:\tlearn: 0.1135056\ttotal: 513ms\tremaining: 430ms\n",
      "544:\tlearn: 0.1133880\ttotal: 514ms\tremaining: 429ms\n",
      "545:\tlearn: 0.1131100\ttotal: 514ms\tremaining: 428ms\n",
      "546:\tlearn: 0.1130150\ttotal: 515ms\tremaining: 427ms\n",
      "547:\tlearn: 0.1128514\ttotal: 516ms\tremaining: 426ms\n",
      "548:\tlearn: 0.1125803\ttotal: 517ms\tremaining: 425ms\n",
      "549:\tlearn: 0.1124116\ttotal: 518ms\tremaining: 424ms\n",
      "550:\tlearn: 0.1122377\ttotal: 519ms\tremaining: 423ms\n",
      "551:\tlearn: 0.1120594\ttotal: 519ms\tremaining: 422ms\n",
      "552:\tlearn: 0.1118937\ttotal: 520ms\tremaining: 420ms\n",
      "553:\tlearn: 0.1116575\ttotal: 521ms\tremaining: 419ms\n",
      "554:\tlearn: 0.1114418\ttotal: 522ms\tremaining: 419ms\n",
      "555:\tlearn: 0.1112306\ttotal: 523ms\tremaining: 417ms\n",
      "556:\tlearn: 0.1110215\ttotal: 524ms\tremaining: 416ms\n",
      "557:\tlearn: 0.1108085\ttotal: 524ms\tremaining: 415ms\n",
      "558:\tlearn: 0.1105490\ttotal: 525ms\tremaining: 414ms\n",
      "559:\tlearn: 0.1102475\ttotal: 526ms\tremaining: 413ms\n",
      "560:\tlearn: 0.1101661\ttotal: 527ms\tremaining: 412ms\n",
      "561:\tlearn: 0.1099940\ttotal: 528ms\tremaining: 411ms\n",
      "562:\tlearn: 0.1097976\ttotal: 529ms\tremaining: 410ms\n",
      "563:\tlearn: 0.1097629\ttotal: 529ms\tremaining: 409ms\n",
      "564:\tlearn: 0.1095678\ttotal: 530ms\tremaining: 408ms\n",
      "565:\tlearn: 0.1094432\ttotal: 531ms\tremaining: 407ms\n",
      "566:\tlearn: 0.1092658\ttotal: 532ms\tremaining: 406ms\n",
      "567:\tlearn: 0.1090519\ttotal: 533ms\tremaining: 405ms\n",
      "568:\tlearn: 0.1089988\ttotal: 534ms\tremaining: 404ms\n",
      "569:\tlearn: 0.1088142\ttotal: 535ms\tremaining: 403ms\n",
      "570:\tlearn: 0.1086009\ttotal: 535ms\tremaining: 402ms\n",
      "571:\tlearn: 0.1084957\ttotal: 536ms\tremaining: 401ms\n",
      "572:\tlearn: 0.1082677\ttotal: 537ms\tremaining: 400ms\n",
      "573:\tlearn: 0.1080060\ttotal: 538ms\tremaining: 399ms\n",
      "574:\tlearn: 0.1079431\ttotal: 539ms\tremaining: 398ms\n",
      "575:\tlearn: 0.1077224\ttotal: 540ms\tremaining: 397ms\n",
      "576:\tlearn: 0.1076627\ttotal: 540ms\tremaining: 396ms\n",
      "577:\tlearn: 0.1074899\ttotal: 541ms\tremaining: 395ms\n",
      "578:\tlearn: 0.1074373\ttotal: 542ms\tremaining: 394ms\n",
      "579:\tlearn: 0.1072626\ttotal: 543ms\tremaining: 393ms\n",
      "580:\tlearn: 0.1071882\ttotal: 544ms\tremaining: 392ms\n",
      "581:\tlearn: 0.1070082\ttotal: 545ms\tremaining: 392ms\n",
      "582:\tlearn: 0.1069530\ttotal: 546ms\tremaining: 391ms\n",
      "583:\tlearn: 0.1066755\ttotal: 547ms\tremaining: 389ms\n",
      "584:\tlearn: 0.1065825\ttotal: 548ms\tremaining: 388ms\n",
      "585:\tlearn: 0.1064675\ttotal: 548ms\tremaining: 387ms\n",
      "586:\tlearn: 0.1063126\ttotal: 549ms\tremaining: 386ms\n",
      "587:\tlearn: 0.1060937\ttotal: 550ms\tremaining: 385ms\n",
      "588:\tlearn: 0.1060354\ttotal: 551ms\tremaining: 384ms\n",
      "589:\tlearn: 0.1057774\ttotal: 552ms\tremaining: 383ms\n",
      "590:\tlearn: 0.1054854\ttotal: 553ms\tremaining: 382ms\n",
      "591:\tlearn: 0.1051844\ttotal: 554ms\tremaining: 381ms\n",
      "592:\tlearn: 0.1049660\ttotal: 554ms\tremaining: 380ms\n",
      "593:\tlearn: 0.1048204\ttotal: 555ms\tremaining: 379ms\n",
      "594:\tlearn: 0.1046588\ttotal: 556ms\tremaining: 378ms\n",
      "595:\tlearn: 0.1045900\ttotal: 557ms\tremaining: 377ms\n",
      "596:\tlearn: 0.1045150\ttotal: 557ms\tremaining: 376ms\n",
      "597:\tlearn: 0.1043722\ttotal: 558ms\tremaining: 375ms\n",
      "598:\tlearn: 0.1042026\ttotal: 559ms\tremaining: 374ms\n",
      "599:\tlearn: 0.1039784\ttotal: 560ms\tremaining: 373ms\n",
      "600:\tlearn: 0.1038037\ttotal: 561ms\tremaining: 372ms\n",
      "601:\tlearn: 0.1036062\ttotal: 561ms\tremaining: 371ms\n",
      "602:\tlearn: 0.1034903\ttotal: 562ms\tremaining: 370ms\n",
      "603:\tlearn: 0.1032941\ttotal: 563ms\tremaining: 369ms\n",
      "604:\tlearn: 0.1032290\ttotal: 564ms\tremaining: 368ms\n",
      "605:\tlearn: 0.1029761\ttotal: 565ms\tremaining: 367ms\n",
      "606:\tlearn: 0.1029354\ttotal: 565ms\tremaining: 366ms\n",
      "607:\tlearn: 0.1028825\ttotal: 566ms\tremaining: 365ms\n",
      "608:\tlearn: 0.1026315\ttotal: 567ms\tremaining: 364ms\n",
      "609:\tlearn: 0.1024271\ttotal: 568ms\tremaining: 363ms\n",
      "610:\tlearn: 0.1022314\ttotal: 569ms\tremaining: 362ms\n",
      "611:\tlearn: 0.1020758\ttotal: 570ms\tremaining: 361ms\n",
      "612:\tlearn: 0.1017944\ttotal: 570ms\tremaining: 360ms\n",
      "613:\tlearn: 0.1015302\ttotal: 571ms\tremaining: 359ms\n"
     ]
    },
    {
     "name": "stdout",
     "output_type": "stream",
     "text": [
      "614:\tlearn: 0.1013649\ttotal: 572ms\tremaining: 358ms\n",
      "615:\tlearn: 0.1012474\ttotal: 573ms\tremaining: 357ms\n",
      "616:\tlearn: 0.1011000\ttotal: 574ms\tremaining: 356ms\n",
      "617:\tlearn: 0.1009867\ttotal: 575ms\tremaining: 355ms\n",
      "618:\tlearn: 0.1007304\ttotal: 576ms\tremaining: 354ms\n",
      "619:\tlearn: 0.1005294\ttotal: 576ms\tremaining: 353ms\n",
      "620:\tlearn: 0.1003716\ttotal: 577ms\tremaining: 352ms\n",
      "621:\tlearn: 0.1003234\ttotal: 578ms\tremaining: 351ms\n",
      "622:\tlearn: 0.1001294\ttotal: 579ms\tremaining: 350ms\n",
      "623:\tlearn: 0.1000701\ttotal: 580ms\tremaining: 349ms\n",
      "624:\tlearn: 0.0999631\ttotal: 580ms\tremaining: 348ms\n",
      "625:\tlearn: 0.0997204\ttotal: 581ms\tremaining: 347ms\n",
      "626:\tlearn: 0.0994698\ttotal: 582ms\tremaining: 346ms\n",
      "627:\tlearn: 0.0992867\ttotal: 583ms\tremaining: 345ms\n",
      "628:\tlearn: 0.0990596\ttotal: 583ms\tremaining: 344ms\n",
      "629:\tlearn: 0.0988172\ttotal: 584ms\tremaining: 343ms\n",
      "630:\tlearn: 0.0987730\ttotal: 585ms\tremaining: 342ms\n",
      "631:\tlearn: 0.0986865\ttotal: 586ms\tremaining: 341ms\n",
      "632:\tlearn: 0.0986260\ttotal: 587ms\tremaining: 340ms\n",
      "633:\tlearn: 0.0983763\ttotal: 587ms\tremaining: 339ms\n",
      "634:\tlearn: 0.0982454\ttotal: 588ms\tremaining: 338ms\n",
      "635:\tlearn: 0.0980624\ttotal: 589ms\tremaining: 337ms\n",
      "636:\tlearn: 0.0978786\ttotal: 590ms\tremaining: 336ms\n",
      "637:\tlearn: 0.0976806\ttotal: 591ms\tremaining: 335ms\n",
      "638:\tlearn: 0.0975663\ttotal: 591ms\tremaining: 334ms\n",
      "639:\tlearn: 0.0975023\ttotal: 592ms\tremaining: 333ms\n",
      "640:\tlearn: 0.0973456\ttotal: 593ms\tremaining: 332ms\n",
      "641:\tlearn: 0.0972504\ttotal: 594ms\tremaining: 331ms\n",
      "642:\tlearn: 0.0970452\ttotal: 595ms\tremaining: 330ms\n",
      "643:\tlearn: 0.0969142\ttotal: 596ms\tremaining: 329ms\n",
      "644:\tlearn: 0.0966951\ttotal: 596ms\tremaining: 328ms\n",
      "645:\tlearn: 0.0965237\ttotal: 597ms\tremaining: 327ms\n",
      "646:\tlearn: 0.0964527\ttotal: 598ms\tremaining: 326ms\n",
      "647:\tlearn: 0.0963334\ttotal: 599ms\tremaining: 325ms\n",
      "648:\tlearn: 0.0960957\ttotal: 600ms\tremaining: 324ms\n",
      "649:\tlearn: 0.0959324\ttotal: 601ms\tremaining: 323ms\n",
      "650:\tlearn: 0.0958423\ttotal: 601ms\tremaining: 322ms\n",
      "651:\tlearn: 0.0956678\ttotal: 602ms\tremaining: 321ms\n",
      "652:\tlearn: 0.0954933\ttotal: 603ms\tremaining: 320ms\n",
      "653:\tlearn: 0.0952684\ttotal: 604ms\tremaining: 320ms\n",
      "654:\tlearn: 0.0950778\ttotal: 605ms\tremaining: 319ms\n",
      "655:\tlearn: 0.0950310\ttotal: 606ms\tremaining: 318ms\n",
      "656:\tlearn: 0.0949548\ttotal: 606ms\tremaining: 317ms\n",
      "657:\tlearn: 0.0947066\ttotal: 607ms\tremaining: 316ms\n",
      "658:\tlearn: 0.0945304\ttotal: 608ms\tremaining: 315ms\n",
      "659:\tlearn: 0.0944746\ttotal: 609ms\tremaining: 314ms\n",
      "660:\tlearn: 0.0943267\ttotal: 610ms\tremaining: 313ms\n",
      "661:\tlearn: 0.0942278\ttotal: 611ms\tremaining: 312ms\n",
      "662:\tlearn: 0.0940869\ttotal: 612ms\tremaining: 311ms\n",
      "663:\tlearn: 0.0938569\ttotal: 612ms\tremaining: 310ms\n",
      "664:\tlearn: 0.0938438\ttotal: 613ms\tremaining: 309ms\n",
      "665:\tlearn: 0.0935823\ttotal: 614ms\tremaining: 308ms\n",
      "666:\tlearn: 0.0935326\ttotal: 615ms\tremaining: 307ms\n",
      "667:\tlearn: 0.0934149\ttotal: 616ms\tremaining: 306ms\n",
      "668:\tlearn: 0.0932600\ttotal: 617ms\tremaining: 305ms\n",
      "669:\tlearn: 0.0931977\ttotal: 618ms\tremaining: 304ms\n",
      "670:\tlearn: 0.0930814\ttotal: 618ms\tremaining: 303ms\n",
      "671:\tlearn: 0.0929329\ttotal: 619ms\tremaining: 302ms\n",
      "672:\tlearn: 0.0927989\ttotal: 620ms\tremaining: 301ms\n",
      "673:\tlearn: 0.0926541\ttotal: 621ms\tremaining: 300ms\n",
      "674:\tlearn: 0.0925164\ttotal: 622ms\tremaining: 299ms\n",
      "675:\tlearn: 0.0924754\ttotal: 622ms\tremaining: 298ms\n",
      "676:\tlearn: 0.0923459\ttotal: 623ms\tremaining: 297ms\n",
      "677:\tlearn: 0.0922447\ttotal: 624ms\tremaining: 296ms\n",
      "678:\tlearn: 0.0921406\ttotal: 625ms\tremaining: 295ms\n",
      "679:\tlearn: 0.0921169\ttotal: 626ms\tremaining: 294ms\n",
      "680:\tlearn: 0.0919517\ttotal: 626ms\tremaining: 293ms\n",
      "681:\tlearn: 0.0918227\ttotal: 627ms\tremaining: 292ms\n",
      "682:\tlearn: 0.0916580\ttotal: 628ms\tremaining: 291ms\n",
      "683:\tlearn: 0.0914062\ttotal: 629ms\tremaining: 290ms\n",
      "684:\tlearn: 0.0913918\ttotal: 630ms\tremaining: 290ms\n",
      "685:\tlearn: 0.0911485\ttotal: 631ms\tremaining: 289ms\n",
      "686:\tlearn: 0.0909160\ttotal: 631ms\tremaining: 288ms\n",
      "687:\tlearn: 0.0908790\ttotal: 632ms\tremaining: 287ms\n",
      "688:\tlearn: 0.0908441\ttotal: 633ms\tremaining: 286ms\n",
      "689:\tlearn: 0.0906185\ttotal: 634ms\tremaining: 285ms\n",
      "690:\tlearn: 0.0904861\ttotal: 634ms\tremaining: 284ms\n",
      "691:\tlearn: 0.0902855\ttotal: 635ms\tremaining: 283ms\n",
      "692:\tlearn: 0.0902326\ttotal: 636ms\tremaining: 282ms\n",
      "693:\tlearn: 0.0901534\ttotal: 637ms\tremaining: 281ms\n",
      "694:\tlearn: 0.0900422\ttotal: 638ms\tremaining: 280ms\n",
      "695:\tlearn: 0.0899311\ttotal: 638ms\tremaining: 279ms\n",
      "696:\tlearn: 0.0898421\ttotal: 639ms\tremaining: 278ms\n",
      "697:\tlearn: 0.0897129\ttotal: 640ms\tremaining: 277ms\n",
      "698:\tlearn: 0.0894753\ttotal: 641ms\tremaining: 276ms\n",
      "699:\tlearn: 0.0892795\ttotal: 642ms\tremaining: 275ms\n",
      "700:\tlearn: 0.0891610\ttotal: 642ms\tremaining: 274ms\n",
      "701:\tlearn: 0.0890055\ttotal: 643ms\tremaining: 273ms\n",
      "702:\tlearn: 0.0889719\ttotal: 644ms\tremaining: 272ms\n",
      "703:\tlearn: 0.0887357\ttotal: 645ms\tremaining: 271ms\n",
      "704:\tlearn: 0.0886346\ttotal: 646ms\tremaining: 270ms\n",
      "705:\tlearn: 0.0886032\ttotal: 647ms\tremaining: 269ms\n",
      "706:\tlearn: 0.0884420\ttotal: 648ms\tremaining: 268ms\n",
      "707:\tlearn: 0.0882204\ttotal: 649ms\tremaining: 267ms\n",
      "708:\tlearn: 0.0880427\ttotal: 649ms\tremaining: 266ms\n",
      "709:\tlearn: 0.0879693\ttotal: 650ms\tremaining: 266ms\n",
      "710:\tlearn: 0.0877759\ttotal: 651ms\tremaining: 265ms\n",
      "711:\tlearn: 0.0875922\ttotal: 651ms\tremaining: 264ms\n",
      "712:\tlearn: 0.0873748\ttotal: 652ms\tremaining: 263ms\n",
      "713:\tlearn: 0.0872237\ttotal: 653ms\tremaining: 262ms\n",
      "714:\tlearn: 0.0870656\ttotal: 654ms\tremaining: 261ms\n",
      "715:\tlearn: 0.0869099\ttotal: 655ms\tremaining: 260ms\n",
      "716:\tlearn: 0.0867010\ttotal: 655ms\tremaining: 259ms\n",
      "717:\tlearn: 0.0864935\ttotal: 656ms\tremaining: 258ms\n",
      "718:\tlearn: 0.0864061\ttotal: 657ms\tremaining: 257ms\n",
      "719:\tlearn: 0.0863470\ttotal: 658ms\tremaining: 256ms\n",
      "720:\tlearn: 0.0861981\ttotal: 658ms\tremaining: 255ms\n",
      "721:\tlearn: 0.0860321\ttotal: 659ms\tremaining: 254ms\n",
      "722:\tlearn: 0.0858331\ttotal: 660ms\tremaining: 253ms\n",
      "723:\tlearn: 0.0856796\ttotal: 661ms\tremaining: 252ms\n",
      "724:\tlearn: 0.0855346\ttotal: 662ms\tremaining: 251ms\n",
      "725:\tlearn: 0.0853613\ttotal: 662ms\tremaining: 250ms\n",
      "726:\tlearn: 0.0851884\ttotal: 663ms\tremaining: 249ms\n",
      "727:\tlearn: 0.0850194\ttotal: 664ms\tremaining: 248ms\n",
      "728:\tlearn: 0.0848703\ttotal: 665ms\tremaining: 247ms\n",
      "729:\tlearn: 0.0848483\ttotal: 666ms\tremaining: 246ms\n",
      "730:\tlearn: 0.0847382\ttotal: 666ms\tremaining: 245ms\n",
      "731:\tlearn: 0.0846583\ttotal: 667ms\tremaining: 244ms\n",
      "732:\tlearn: 0.0846207\ttotal: 668ms\tremaining: 243ms\n",
      "733:\tlearn: 0.0845199\ttotal: 669ms\tremaining: 242ms\n",
      "734:\tlearn: 0.0843609\ttotal: 669ms\tremaining: 241ms\n",
      "735:\tlearn: 0.0843122\ttotal: 670ms\tremaining: 240ms\n",
      "736:\tlearn: 0.0842978\ttotal: 672ms\tremaining: 240ms\n",
      "737:\tlearn: 0.0841545\ttotal: 673ms\tremaining: 239ms\n",
      "738:\tlearn: 0.0839931\ttotal: 673ms\tremaining: 238ms\n",
      "739:\tlearn: 0.0839406\ttotal: 674ms\tremaining: 237ms\n",
      "740:\tlearn: 0.0839246\ttotal: 675ms\tremaining: 236ms\n",
      "741:\tlearn: 0.0838488\ttotal: 676ms\tremaining: 235ms\n",
      "742:\tlearn: 0.0836685\ttotal: 677ms\tremaining: 234ms\n",
      "743:\tlearn: 0.0835293\ttotal: 678ms\tremaining: 233ms\n",
      "744:\tlearn: 0.0835143\ttotal: 678ms\tremaining: 232ms\n",
      "745:\tlearn: 0.0834519\ttotal: 679ms\tremaining: 231ms\n",
      "746:\tlearn: 0.0833390\ttotal: 680ms\tremaining: 230ms\n",
      "747:\tlearn: 0.0831365\ttotal: 681ms\tremaining: 229ms\n"
     ]
    },
    {
     "name": "stdout",
     "output_type": "stream",
     "text": [
      "748:\tlearn: 0.0829959\ttotal: 682ms\tremaining: 228ms\n",
      "749:\tlearn: 0.0829409\ttotal: 683ms\tremaining: 228ms\n",
      "750:\tlearn: 0.0828063\ttotal: 684ms\tremaining: 227ms\n",
      "751:\tlearn: 0.0826021\ttotal: 684ms\tremaining: 226ms\n",
      "752:\tlearn: 0.0824363\ttotal: 685ms\tremaining: 225ms\n",
      "753:\tlearn: 0.0823768\ttotal: 686ms\tremaining: 224ms\n",
      "754:\tlearn: 0.0823120\ttotal: 687ms\tremaining: 223ms\n",
      "755:\tlearn: 0.0821349\ttotal: 688ms\tremaining: 222ms\n",
      "756:\tlearn: 0.0820882\ttotal: 688ms\tremaining: 221ms\n",
      "757:\tlearn: 0.0819020\ttotal: 689ms\tremaining: 220ms\n",
      "758:\tlearn: 0.0818377\ttotal: 690ms\tremaining: 219ms\n",
      "759:\tlearn: 0.0818244\ttotal: 691ms\tremaining: 218ms\n",
      "760:\tlearn: 0.0816504\ttotal: 692ms\tremaining: 217ms\n",
      "761:\tlearn: 0.0815546\ttotal: 693ms\tremaining: 216ms\n",
      "762:\tlearn: 0.0814519\ttotal: 693ms\tremaining: 215ms\n",
      "763:\tlearn: 0.0813450\ttotal: 694ms\tremaining: 214ms\n",
      "764:\tlearn: 0.0813272\ttotal: 695ms\tremaining: 213ms\n",
      "765:\tlearn: 0.0813040\ttotal: 696ms\tremaining: 213ms\n",
      "766:\tlearn: 0.0811233\ttotal: 697ms\tremaining: 212ms\n",
      "767:\tlearn: 0.0810216\ttotal: 698ms\tremaining: 211ms\n",
      "768:\tlearn: 0.0808466\ttotal: 699ms\tremaining: 210ms\n",
      "769:\tlearn: 0.0807814\ttotal: 700ms\tremaining: 209ms\n",
      "770:\tlearn: 0.0806416\ttotal: 700ms\tremaining: 208ms\n",
      "771:\tlearn: 0.0805934\ttotal: 701ms\tremaining: 207ms\n",
      "772:\tlearn: 0.0804267\ttotal: 703ms\tremaining: 206ms\n",
      "773:\tlearn: 0.0802677\ttotal: 704ms\tremaining: 205ms\n",
      "774:\tlearn: 0.0801639\ttotal: 704ms\tremaining: 204ms\n",
      "775:\tlearn: 0.0800263\ttotal: 705ms\tremaining: 204ms\n",
      "776:\tlearn: 0.0799524\ttotal: 706ms\tremaining: 203ms\n",
      "777:\tlearn: 0.0798680\ttotal: 707ms\tremaining: 202ms\n",
      "778:\tlearn: 0.0798505\ttotal: 708ms\tremaining: 201ms\n",
      "779:\tlearn: 0.0796698\ttotal: 709ms\tremaining: 200ms\n",
      "780:\tlearn: 0.0795207\ttotal: 709ms\tremaining: 199ms\n",
      "781:\tlearn: 0.0794891\ttotal: 710ms\tremaining: 198ms\n",
      "782:\tlearn: 0.0794054\ttotal: 711ms\tremaining: 197ms\n",
      "783:\tlearn: 0.0792702\ttotal: 712ms\tremaining: 196ms\n",
      "784:\tlearn: 0.0791233\ttotal: 713ms\tremaining: 195ms\n",
      "785:\tlearn: 0.0790461\ttotal: 714ms\tremaining: 194ms\n",
      "786:\tlearn: 0.0789303\ttotal: 715ms\tremaining: 193ms\n",
      "787:\tlearn: 0.0787912\ttotal: 715ms\tremaining: 192ms\n",
      "788:\tlearn: 0.0786235\ttotal: 716ms\tremaining: 192ms\n",
      "789:\tlearn: 0.0785044\ttotal: 717ms\tremaining: 191ms\n",
      "790:\tlearn: 0.0783292\ttotal: 718ms\tremaining: 190ms\n",
      "791:\tlearn: 0.0781774\ttotal: 719ms\tremaining: 189ms\n",
      "792:\tlearn: 0.0781348\ttotal: 720ms\tremaining: 188ms\n",
      "793:\tlearn: 0.0779886\ttotal: 720ms\tremaining: 187ms\n",
      "794:\tlearn: 0.0778653\ttotal: 721ms\tremaining: 186ms\n",
      "795:\tlearn: 0.0776947\ttotal: 722ms\tremaining: 185ms\n",
      "796:\tlearn: 0.0776786\ttotal: 723ms\tremaining: 184ms\n",
      "797:\tlearn: 0.0775806\ttotal: 724ms\tremaining: 183ms\n",
      "798:\tlearn: 0.0775442\ttotal: 725ms\tremaining: 182ms\n",
      "799:\tlearn: 0.0773851\ttotal: 726ms\tremaining: 181ms\n",
      "800:\tlearn: 0.0773551\ttotal: 726ms\tremaining: 180ms\n",
      "801:\tlearn: 0.0773210\ttotal: 727ms\tremaining: 180ms\n",
      "802:\tlearn: 0.0772893\ttotal: 728ms\tremaining: 179ms\n",
      "803:\tlearn: 0.0771275\ttotal: 729ms\tremaining: 178ms\n",
      "804:\tlearn: 0.0770024\ttotal: 730ms\tremaining: 177ms\n",
      "805:\tlearn: 0.0769051\ttotal: 730ms\tremaining: 176ms\n",
      "806:\tlearn: 0.0767847\ttotal: 731ms\tremaining: 175ms\n",
      "807:\tlearn: 0.0766496\ttotal: 732ms\tremaining: 174ms\n",
      "808:\tlearn: 0.0766321\ttotal: 733ms\tremaining: 173ms\n",
      "809:\tlearn: 0.0765636\ttotal: 733ms\tremaining: 172ms\n",
      "810:\tlearn: 0.0765349\ttotal: 734ms\tremaining: 171ms\n",
      "811:\tlearn: 0.0763857\ttotal: 735ms\tremaining: 170ms\n",
      "812:\tlearn: 0.0762960\ttotal: 736ms\tremaining: 169ms\n",
      "813:\tlearn: 0.0762552\ttotal: 736ms\tremaining: 168ms\n",
      "814:\tlearn: 0.0762332\ttotal: 737ms\tremaining: 167ms\n",
      "815:\tlearn: 0.0761981\ttotal: 738ms\tremaining: 166ms\n",
      "816:\tlearn: 0.0760755\ttotal: 739ms\tremaining: 165ms\n",
      "817:\tlearn: 0.0759245\ttotal: 739ms\tremaining: 165ms\n",
      "818:\tlearn: 0.0758863\ttotal: 740ms\tremaining: 164ms\n",
      "819:\tlearn: 0.0758596\ttotal: 741ms\tremaining: 163ms\n",
      "820:\tlearn: 0.0756847\ttotal: 742ms\tremaining: 162ms\n",
      "821:\tlearn: 0.0756372\ttotal: 743ms\tremaining: 161ms\n",
      "822:\tlearn: 0.0755356\ttotal: 744ms\tremaining: 160ms\n",
      "823:\tlearn: 0.0753824\ttotal: 744ms\tremaining: 159ms\n",
      "824:\tlearn: 0.0752322\ttotal: 745ms\tremaining: 158ms\n",
      "825:\tlearn: 0.0751117\ttotal: 746ms\tremaining: 157ms\n",
      "826:\tlearn: 0.0749189\ttotal: 747ms\tremaining: 156ms\n",
      "827:\tlearn: 0.0748743\ttotal: 748ms\tremaining: 155ms\n",
      "828:\tlearn: 0.0747302\ttotal: 749ms\tremaining: 154ms\n",
      "829:\tlearn: 0.0746025\ttotal: 750ms\tremaining: 154ms\n",
      "830:\tlearn: 0.0744781\ttotal: 751ms\tremaining: 153ms\n",
      "831:\tlearn: 0.0743512\ttotal: 752ms\tremaining: 152ms\n",
      "832:\tlearn: 0.0742304\ttotal: 752ms\tremaining: 151ms\n",
      "833:\tlearn: 0.0740555\ttotal: 753ms\tremaining: 150ms\n",
      "834:\tlearn: 0.0739798\ttotal: 754ms\tremaining: 149ms\n",
      "835:\tlearn: 0.0738657\ttotal: 755ms\tremaining: 148ms\n",
      "836:\tlearn: 0.0738291\ttotal: 756ms\tremaining: 147ms\n",
      "837:\tlearn: 0.0737290\ttotal: 757ms\tremaining: 146ms\n",
      "838:\tlearn: 0.0736997\ttotal: 758ms\tremaining: 145ms\n",
      "839:\tlearn: 0.0736544\ttotal: 759ms\tremaining: 145ms\n",
      "840:\tlearn: 0.0735538\ttotal: 761ms\tremaining: 144ms\n",
      "841:\tlearn: 0.0735206\ttotal: 761ms\tremaining: 143ms\n"
     ]
    },
    {
     "name": "stdout",
     "output_type": "stream",
     "text": [
      "842:\tlearn: 0.0734935\ttotal: 762ms\tremaining: 142ms\n",
      "843:\tlearn: 0.0733800\ttotal: 763ms\tremaining: 141ms\n",
      "844:\tlearn: 0.0732712\ttotal: 764ms\tremaining: 140ms\n",
      "845:\tlearn: 0.0731415\ttotal: 765ms\tremaining: 139ms\n",
      "846:\tlearn: 0.0730558\ttotal: 766ms\tremaining: 138ms\n",
      "847:\tlearn: 0.0730164\ttotal: 767ms\tremaining: 137ms\n",
      "848:\tlearn: 0.0728660\ttotal: 768ms\tremaining: 137ms\n",
      "849:\tlearn: 0.0728467\ttotal: 768ms\tremaining: 136ms\n",
      "850:\tlearn: 0.0727519\ttotal: 769ms\tremaining: 135ms\n",
      "851:\tlearn: 0.0726527\ttotal: 770ms\tremaining: 134ms\n",
      "852:\tlearn: 0.0725572\ttotal: 771ms\tremaining: 133ms\n",
      "853:\tlearn: 0.0723857\ttotal: 772ms\tremaining: 132ms\n",
      "854:\tlearn: 0.0723744\ttotal: 773ms\tremaining: 131ms\n",
      "855:\tlearn: 0.0722180\ttotal: 774ms\tremaining: 130ms\n",
      "856:\tlearn: 0.0721870\ttotal: 775ms\tremaining: 129ms\n",
      "857:\tlearn: 0.0721599\ttotal: 776ms\tremaining: 128ms\n",
      "858:\tlearn: 0.0720124\ttotal: 777ms\tremaining: 127ms\n",
      "859:\tlearn: 0.0718911\ttotal: 777ms\tremaining: 127ms\n",
      "860:\tlearn: 0.0718186\ttotal: 778ms\tremaining: 126ms\n",
      "861:\tlearn: 0.0717863\ttotal: 779ms\tremaining: 125ms\n",
      "862:\tlearn: 0.0717338\ttotal: 780ms\tremaining: 124ms\n",
      "863:\tlearn: 0.0715908\ttotal: 781ms\tremaining: 123ms\n",
      "864:\tlearn: 0.0714543\ttotal: 782ms\tremaining: 122ms\n",
      "865:\tlearn: 0.0713380\ttotal: 783ms\tremaining: 121ms\n",
      "866:\tlearn: 0.0712348\ttotal: 783ms\tremaining: 120ms\n",
      "867:\tlearn: 0.0711008\ttotal: 784ms\tremaining: 119ms\n",
      "868:\tlearn: 0.0710092\ttotal: 785ms\tremaining: 118ms\n",
      "869:\tlearn: 0.0708258\ttotal: 786ms\tremaining: 117ms\n",
      "870:\tlearn: 0.0707462\ttotal: 787ms\tremaining: 117ms\n",
      "871:\tlearn: 0.0705470\ttotal: 787ms\tremaining: 116ms\n",
      "872:\tlearn: 0.0705086\ttotal: 788ms\tremaining: 115ms\n",
      "873:\tlearn: 0.0703378\ttotal: 789ms\tremaining: 114ms\n",
      "874:\tlearn: 0.0702750\ttotal: 790ms\tremaining: 113ms\n",
      "875:\tlearn: 0.0700800\ttotal: 791ms\tremaining: 112ms\n",
      "876:\tlearn: 0.0700472\ttotal: 792ms\tremaining: 111ms\n",
      "877:\tlearn: 0.0699037\ttotal: 792ms\tremaining: 110ms\n",
      "878:\tlearn: 0.0698249\ttotal: 793ms\tremaining: 109ms\n",
      "879:\tlearn: 0.0697163\ttotal: 794ms\tremaining: 108ms\n",
      "880:\tlearn: 0.0695210\ttotal: 795ms\tremaining: 107ms\n",
      "881:\tlearn: 0.0694713\ttotal: 795ms\tremaining: 106ms\n",
      "882:\tlearn: 0.0694303\ttotal: 796ms\tremaining: 106ms\n",
      "883:\tlearn: 0.0693117\ttotal: 797ms\tremaining: 105ms\n",
      "884:\tlearn: 0.0692255\ttotal: 798ms\tremaining: 104ms\n",
      "885:\tlearn: 0.0690752\ttotal: 799ms\tremaining: 103ms\n",
      "886:\tlearn: 0.0690628\ttotal: 800ms\tremaining: 102ms\n",
      "887:\tlearn: 0.0690021\ttotal: 801ms\tremaining: 101ms\n",
      "888:\tlearn: 0.0689356\ttotal: 801ms\tremaining: 100ms\n",
      "889:\tlearn: 0.0687710\ttotal: 802ms\tremaining: 99.2ms\n",
      "890:\tlearn: 0.0686702\ttotal: 803ms\tremaining: 98.2ms\n",
      "891:\tlearn: 0.0685866\ttotal: 804ms\tremaining: 97.3ms\n",
      "892:\tlearn: 0.0685235\ttotal: 805ms\tremaining: 96.4ms\n",
      "893:\tlearn: 0.0684759\ttotal: 805ms\tremaining: 95.5ms\n",
      "894:\tlearn: 0.0683896\ttotal: 806ms\tremaining: 94.6ms\n",
      "895:\tlearn: 0.0682068\ttotal: 807ms\tremaining: 93.7ms\n",
      "896:\tlearn: 0.0681024\ttotal: 808ms\tremaining: 92.8ms\n",
      "897:\tlearn: 0.0680671\ttotal: 809ms\tremaining: 91.9ms\n",
      "898:\tlearn: 0.0679518\ttotal: 809ms\tremaining: 90.9ms\n",
      "899:\tlearn: 0.0678132\ttotal: 810ms\tremaining: 90ms\n",
      "900:\tlearn: 0.0677380\ttotal: 811ms\tremaining: 89.1ms\n",
      "901:\tlearn: 0.0676503\ttotal: 812ms\tremaining: 88.2ms\n",
      "902:\tlearn: 0.0675413\ttotal: 813ms\tremaining: 87.3ms\n",
      "903:\tlearn: 0.0674833\ttotal: 813ms\tremaining: 86.4ms\n",
      "904:\tlearn: 0.0673494\ttotal: 814ms\tremaining: 85.5ms\n",
      "905:\tlearn: 0.0672122\ttotal: 815ms\tremaining: 84.5ms\n",
      "906:\tlearn: 0.0671072\ttotal: 816ms\tremaining: 83.6ms\n",
      "907:\tlearn: 0.0669998\ttotal: 816ms\tremaining: 82.7ms\n",
      "908:\tlearn: 0.0668637\ttotal: 817ms\tremaining: 81.8ms\n",
      "909:\tlearn: 0.0668339\ttotal: 818ms\tremaining: 80.9ms\n",
      "910:\tlearn: 0.0668042\ttotal: 819ms\tremaining: 80ms\n",
      "911:\tlearn: 0.0667005\ttotal: 820ms\tremaining: 79.1ms\n",
      "912:\tlearn: 0.0666189\ttotal: 820ms\tremaining: 78.2ms\n",
      "913:\tlearn: 0.0665085\ttotal: 821ms\tremaining: 77.3ms\n",
      "914:\tlearn: 0.0663373\ttotal: 822ms\tremaining: 76.4ms\n",
      "915:\tlearn: 0.0663145\ttotal: 823ms\tremaining: 75.5ms\n",
      "916:\tlearn: 0.0661957\ttotal: 824ms\tremaining: 74.6ms\n",
      "917:\tlearn: 0.0660910\ttotal: 825ms\tremaining: 73.7ms\n",
      "918:\tlearn: 0.0660731\ttotal: 825ms\tremaining: 72.8ms\n",
      "919:\tlearn: 0.0659383\ttotal: 826ms\tremaining: 71.8ms\n",
      "920:\tlearn: 0.0659186\ttotal: 827ms\tremaining: 70.9ms\n",
      "921:\tlearn: 0.0657916\ttotal: 828ms\tremaining: 70ms\n",
      "922:\tlearn: 0.0657794\ttotal: 828ms\tremaining: 69.1ms\n",
      "923:\tlearn: 0.0657070\ttotal: 829ms\tremaining: 68.2ms\n",
      "924:\tlearn: 0.0656256\ttotal: 830ms\tremaining: 67.3ms\n",
      "925:\tlearn: 0.0656104\ttotal: 831ms\tremaining: 66.4ms\n",
      "926:\tlearn: 0.0654890\ttotal: 832ms\tremaining: 65.5ms\n",
      "927:\tlearn: 0.0653465\ttotal: 833ms\tremaining: 64.6ms\n",
      "928:\tlearn: 0.0652943\ttotal: 834ms\tremaining: 63.7ms\n",
      "929:\tlearn: 0.0651943\ttotal: 835ms\tremaining: 62.8ms\n",
      "930:\tlearn: 0.0650729\ttotal: 835ms\tremaining: 61.9ms\n",
      "931:\tlearn: 0.0649752\ttotal: 836ms\tremaining: 61ms\n",
      "932:\tlearn: 0.0648743\ttotal: 837ms\tremaining: 60.1ms\n",
      "933:\tlearn: 0.0647584\ttotal: 838ms\tremaining: 59.2ms\n",
      "934:\tlearn: 0.0645873\ttotal: 839ms\tremaining: 58.3ms\n",
      "935:\tlearn: 0.0645715\ttotal: 839ms\tremaining: 57.4ms\n",
      "936:\tlearn: 0.0645104\ttotal: 840ms\tremaining: 56.5ms\n",
      "937:\tlearn: 0.0644316\ttotal: 841ms\tremaining: 55.6ms\n",
      "938:\tlearn: 0.0643932\ttotal: 842ms\tremaining: 54.7ms\n",
      "939:\tlearn: 0.0643347\ttotal: 843ms\tremaining: 53.8ms\n",
      "940:\tlearn: 0.0642606\ttotal: 844ms\tremaining: 52.9ms\n",
      "941:\tlearn: 0.0642512\ttotal: 844ms\tremaining: 52ms\n",
      "942:\tlearn: 0.0641262\ttotal: 845ms\tremaining: 51.1ms\n",
      "943:\tlearn: 0.0639543\ttotal: 846ms\tremaining: 50.2ms\n",
      "944:\tlearn: 0.0637949\ttotal: 847ms\tremaining: 49.3ms\n",
      "945:\tlearn: 0.0637039\ttotal: 848ms\tremaining: 48.4ms\n",
      "946:\tlearn: 0.0635451\ttotal: 849ms\tremaining: 47.5ms\n",
      "947:\tlearn: 0.0634398\ttotal: 849ms\tremaining: 46.6ms\n",
      "948:\tlearn: 0.0633414\ttotal: 850ms\tremaining: 45.7ms\n",
      "949:\tlearn: 0.0632541\ttotal: 851ms\tremaining: 44.8ms\n",
      "950:\tlearn: 0.0631054\ttotal: 852ms\tremaining: 43.9ms\n",
      "951:\tlearn: 0.0630941\ttotal: 853ms\tremaining: 43ms\n",
      "952:\tlearn: 0.0629724\ttotal: 854ms\tremaining: 42.1ms\n",
      "953:\tlearn: 0.0628814\ttotal: 854ms\tremaining: 41.2ms\n",
      "954:\tlearn: 0.0627920\ttotal: 855ms\tremaining: 40.3ms\n",
      "955:\tlearn: 0.0627239\ttotal: 856ms\tremaining: 39.4ms\n",
      "956:\tlearn: 0.0626250\ttotal: 857ms\tremaining: 38.5ms\n",
      "957:\tlearn: 0.0625469\ttotal: 858ms\tremaining: 37.6ms\n",
      "958:\tlearn: 0.0624245\ttotal: 858ms\tremaining: 36.7ms\n",
      "959:\tlearn: 0.0623112\ttotal: 859ms\tremaining: 35.8ms\n",
      "960:\tlearn: 0.0622284\ttotal: 860ms\tremaining: 34.9ms\n",
      "961:\tlearn: 0.0621005\ttotal: 861ms\tremaining: 34ms\n",
      "962:\tlearn: 0.0620143\ttotal: 862ms\tremaining: 33.1ms\n",
      "963:\tlearn: 0.0619727\ttotal: 862ms\tremaining: 32.2ms\n",
      "964:\tlearn: 0.0618692\ttotal: 863ms\tremaining: 31.3ms\n",
      "965:\tlearn: 0.0617387\ttotal: 864ms\tremaining: 30.4ms\n",
      "966:\tlearn: 0.0616289\ttotal: 865ms\tremaining: 29.5ms\n",
      "967:\tlearn: 0.0615227\ttotal: 866ms\tremaining: 28.6ms\n",
      "968:\tlearn: 0.0614081\ttotal: 866ms\tremaining: 27.7ms\n",
      "969:\tlearn: 0.0612804\ttotal: 867ms\tremaining: 26.8ms\n",
      "970:\tlearn: 0.0611584\ttotal: 868ms\tremaining: 25.9ms\n",
      "971:\tlearn: 0.0610191\ttotal: 869ms\tremaining: 25ms\n",
      "972:\tlearn: 0.0610006\ttotal: 870ms\tremaining: 24.1ms\n",
      "973:\tlearn: 0.0608637\ttotal: 871ms\tremaining: 23.2ms\n"
     ]
    },
    {
     "name": "stdout",
     "output_type": "stream",
     "text": [
      "974:\tlearn: 0.0607742\ttotal: 872ms\tremaining: 22.4ms\n",
      "975:\tlearn: 0.0606740\ttotal: 873ms\tremaining: 21.5ms\n",
      "976:\tlearn: 0.0606484\ttotal: 874ms\tremaining: 20.6ms\n",
      "977:\tlearn: 0.0605228\ttotal: 874ms\tremaining: 19.7ms\n",
      "978:\tlearn: 0.0604147\ttotal: 875ms\tremaining: 18.8ms\n",
      "979:\tlearn: 0.0603160\ttotal: 876ms\tremaining: 17.9ms\n",
      "980:\tlearn: 0.0602737\ttotal: 877ms\tremaining: 17ms\n",
      "981:\tlearn: 0.0601981\ttotal: 878ms\tremaining: 16.1ms\n",
      "982:\tlearn: 0.0601268\ttotal: 879ms\tremaining: 15.2ms\n",
      "983:\tlearn: 0.0600865\ttotal: 880ms\tremaining: 14.3ms\n",
      "984:\tlearn: 0.0600010\ttotal: 881ms\tremaining: 13.4ms\n",
      "985:\tlearn: 0.0599271\ttotal: 881ms\tremaining: 12.5ms\n",
      "986:\tlearn: 0.0597996\ttotal: 882ms\tremaining: 11.6ms\n",
      "987:\tlearn: 0.0597204\ttotal: 883ms\tremaining: 10.7ms\n",
      "988:\tlearn: 0.0596694\ttotal: 884ms\tremaining: 9.83ms\n",
      "989:\tlearn: 0.0595408\ttotal: 885ms\tremaining: 8.93ms\n",
      "990:\tlearn: 0.0594174\ttotal: 885ms\tremaining: 8.04ms\n",
      "991:\tlearn: 0.0592490\ttotal: 886ms\tremaining: 7.15ms\n",
      "992:\tlearn: 0.0591611\ttotal: 887ms\tremaining: 6.25ms\n",
      "993:\tlearn: 0.0591084\ttotal: 888ms\tremaining: 5.36ms\n",
      "994:\tlearn: 0.0590084\ttotal: 889ms\tremaining: 4.47ms\n",
      "995:\tlearn: 0.0589084\ttotal: 890ms\tremaining: 3.57ms\n",
      "996:\tlearn: 0.0587987\ttotal: 890ms\tremaining: 2.68ms\n",
      "997:\tlearn: 0.0586795\ttotal: 891ms\tremaining: 1.79ms\n",
      "998:\tlearn: 0.0586379\ttotal: 892ms\tremaining: 892us\n",
      "999:\tlearn: 0.0585080\ttotal: 893ms\tremaining: 0us\n"
     ]
    },
    {
     "data": {
      "text/plain": [
       "<catboost.core.CatBoostRegressor at 0x7fef781f7610>"
      ]
     },
     "execution_count": 9,
     "metadata": {},
     "output_type": "execute_result"
    }
   ],
   "source": [
    "#Train the Model \n",
    "prior_model = ctb.CatBoostRegressor()\n",
    "prior_model.fit(X_train,Y_train)"
   ]
  },
  {
   "cell_type": "code",
   "execution_count": 10,
   "id": "af65dcda",
   "metadata": {
    "execution": {
     "iopub.execute_input": "2022-03-11T10:31:50.996063Z",
     "iopub.status.busy": "2022-03-11T10:31:50.995673Z",
     "iopub.status.idle": "2022-03-11T10:31:51.003049Z",
     "shell.execute_reply": "2022-03-11T10:31:51.003407Z"
    },
    "id": "af65dcda",
    "papermill": {
     "duration": 0.020842,
     "end_time": "2022-03-11T10:31:51.003523",
     "exception": false,
     "start_time": "2022-03-11T10:31:50.982681",
     "status": "completed"
    },
    "tags": []
   },
   "outputs": [
    {
     "data": {
      "application/scrapbook.scrap.json+json": {
       "data": 0.09378718765386015,
       "encoder": "json",
       "name": "Prior Model MSE",
       "version": 1
      }
     },
     "metadata": {
      "scrapbook": {
       "data": true,
       "display": false,
       "name": "Prior Model MSE"
      }
     },
     "output_type": "display_data"
    },
    {
     "data": {
      "application/scrapbook.scrap.json+json": {
       "data": 0.1055788474057758,
       "encoder": "json",
       "name": "ABC Pre-generator MSE",
       "version": 1
      }
     },
     "metadata": {
      "scrapbook": {
       "data": true,
       "display": false,
       "name": "ABC Pre-generator MSE"
      }
     },
     "output_type": "display_data"
    },
    {
     "data": {
      "application/scrapbook.scrap.json+json": {
       "data": 0.21701351598796545,
       "encoder": "json",
       "name": "Prior Model MAE",
       "version": 1
      }
     },
     "metadata": {
      "scrapbook": {
       "data": true,
       "display": false,
       "name": "Prior Model MAE"
      }
     },
     "output_type": "display_data"
    },
    {
     "data": {
      "application/scrapbook.scrap.json+json": {
       "data": 0.23084037939172433,
       "encoder": "json",
       "name": "ABC Pre-generator MAE",
       "version": 1
      }
     },
     "metadata": {
      "scrapbook": {
       "data": true,
       "display": false,
       "name": "ABC Pre-generator MAE"
      }
     },
     "output_type": "display_data"
    }
   ],
   "source": [
    "y_pred = prior_model.predict(X_test)\n",
    "y_abc = y_pred + np.random.normal(0,variance, y_pred.shape)\n",
    "mse = mean_squared_error(y_pred,Y_test)\n",
    "sb.glue(\"Prior Model MSE\",mse)\n",
    "mse = mean_squared_error(y_abc,Y_test)\n",
    "sb.glue(\"ABC Pre-generator MSE\",mse)\n",
    "\n",
    "mae = mean_absolute_error(y_pred,Y_test)\n",
    "sb.glue(\"Prior Model MAE\",mae)\n",
    "mae = mean_absolute_error(y_abc,Y_test)\n",
    "sb.glue(\"ABC Pre-generator MAE\",mae)"
   ]
  },
  {
   "cell_type": "markdown",
   "id": "25609da2",
   "metadata": {
    "papermill": {
     "duration": 0.009693,
     "end_time": "2022-03-11T10:31:51.023292",
     "exception": false,
     "start_time": "2022-03-11T10:31:51.013599",
     "status": "completed"
    },
    "tags": []
   },
   "source": [
    "# ABC GAN Model"
   ]
  },
  {
   "cell_type": "code",
   "execution_count": 11,
   "id": "dfc3464d",
   "metadata": {
    "execution": {
     "iopub.execute_input": "2022-03-11T10:31:51.045612Z",
     "iopub.status.busy": "2022-03-11T10:31:51.045214Z",
     "iopub.status.idle": "2022-03-11T10:31:51.047843Z",
     "shell.execute_reply": "2022-03-11T10:31:51.048075Z"
    },
    "papermill": {
     "duration": 0.015211,
     "end_time": "2022-03-11T10:31:51.048181",
     "exception": false,
     "start_time": "2022-03-11T10:31:51.032970",
     "status": "completed"
    },
    "tags": []
   },
   "outputs": [],
   "source": [
    "gen = network.Generator(n_features+1).to(device)\n",
    "disc = network.Discriminator(n_features+1).to(device)\n",
    "\n",
    "criterion = torch.nn.BCELoss()\n",
    "gen_opt = torch.optim.Adam(gen.parameters(), lr=0.001, betas=(0.5, 0.999))\n",
    "disc_opt = torch.optim.Adam(disc.parameters(), lr=0.001, betas=(0.5, 0.999))"
   ]
  },
  {
   "cell_type": "code",
   "execution_count": 12,
   "id": "b75fdd85",
   "metadata": {
    "execution": {
     "iopub.execute_input": "2022-03-11T10:31:51.069887Z",
     "iopub.status.busy": "2022-03-11T10:31:51.069532Z",
     "iopub.status.idle": "2022-03-11T10:32:27.281846Z",
     "shell.execute_reply": "2022-03-11T10:32:27.282232Z"
    },
    "papermill": {
     "duration": 36.224401,
     "end_time": "2022-03-11T10:32:27.282365",
     "exception": false,
     "start_time": "2022-03-11T10:31:51.057964",
     "status": "completed"
    },
    "tags": []
   },
   "outputs": [
    {
     "data": {
      "image/png": "[encoded data removed]",
      "text/plain": [
       "<Figure size 432x288 with 1 Axes>"
      ]
     },
     "metadata": {
      "needs_background": "light"
     },
     "output_type": "display_data"
    },
    {
     "data": {
      "image/png": "[encoded data removed]",
      "text/plain": [
       "<Figure size 432x288 with 1 Axes>"
      ]
     },
     "metadata": {
      "needs_background": "light"
     },
     "output_type": "display_data"
    }
   ],
   "source": [
    "#Training the ABC_GAN \n",
    "ABC_train_test2.training_GAN(disc,gen,disc_opt,gen_opt,train_data,batch_size,n_epochs,criterion,prior_model,variance,0,device)"
   ]
  },
  {
   "cell_type": "code",
   "execution_count": 13,
   "id": "1fa7c368",
   "metadata": {
    "execution": {
     "iopub.execute_input": "2022-03-11T10:32:27.306668Z",
     "iopub.status.busy": "2022-03-11T10:32:27.306289Z",
     "iopub.status.idle": "2022-03-11T10:32:27.610439Z",
     "shell.execute_reply": "2022-03-11T10:32:27.610740Z"
    },
    "papermill": {
     "duration": 0.317664,
     "end_time": "2022-03-11T10:32:27.610865",
     "exception": false,
     "start_time": "2022-03-11T10:32:27.293201",
     "status": "completed"
    },
    "tags": []
   },
   "outputs": [
    {
     "data": {
      "application/scrapbook.scrap.json+json": {
       "data": 0.08677930769337168,
       "encoder": "json",
       "name": "ABC-GAN Model 1 MSE",
       "version": 1
      }
     },
     "metadata": {
      "scrapbook": {
       "data": true,
       "display": false,
       "name": "ABC-GAN Model 1 MSE"
      }
     },
     "output_type": "display_data"
    },
    {
     "data": {
      "application/scrapbook.scrap.json+json": {
       "data": 0.20911676160625967,
       "encoder": "json",
       "name": "ABC-GAN Model 1 MAE",
       "version": 1
      }
     },
     "metadata": {
      "scrapbook": {
       "data": true,
       "display": false,
       "name": "ABC-GAN Model 1 MAE"
      }
     },
     "output_type": "display_data"
    },
    {
     "data": {
      "application/scrapbook.scrap.json+json": {
       "data": 21.329909683838487,
       "encoder": "json",
       "name": "ABC-GAN Model 1 Manhattan Distance",
       "version": 1
      }
     },
     "metadata": {
      "scrapbook": {
       "data": true,
       "display": false,
       "name": "ABC-GAN Model 1 Manhattan Distance"
      }
     },
     "output_type": "display_data"
    },
    {
     "data": {
      "application/scrapbook.scrap.json+json": {
       "data": 2.9738104824562805,
       "encoder": "json",
       "name": "ABC-GAN Model 1 Euclidean distance",
       "version": 1
      }
     },
     "metadata": {
      "scrapbook": {
       "data": true,
       "display": false,
       "name": "ABC-GAN Model 1 Euclidean distance"
      }
     },
     "output_type": "display_data"
    },
    {
     "data": {
      "application/scrapbook.scrap.json+json": {
       "data": [
        [
         0.09028003140688116,
         0.09045561651426921,
         0.09314910621322448,
         0.09088612607581689,
         0.08457535360830115,
         0.07792734618388465,
         0.09890919283605444,
         0.0865267006135874,
         0.0860751499906646,
         0.09153737177761943,
         0.0833378616548656,
         0.08924234255307434,
         0.0811003717756684,
         0.08759292744611302,
         0.08381980310079806,
         0.08988301528538065,
         0.08754359930414049,
         0.08730249549573198,
         0.09291131674014097,
         0.08133722633871872,
         0.0831621912775201,
         0.08778830650589686,
         0.08857315347615531,
         0.08597456907145686,
         0.08489426419043018,
         0.09040161778032264,
         0.09601190789679447,
         0.09163338568449017,
         0.08644494995045321,
         0.09402691822647549,
         0.08645353224083208,
         0.08300460188544179,
         0.09271630482209041,
         0.09768895331757295,
         0.09858878977274184,
         0.09239151385464299,
         0.09195424240830771,
         0.08128885877788136,
         0.08174782921313993,
         0.08580396113373324,
         0.08426181056668347,
         0.08605438913742164,
         0.08878474576713344,
         0.08950875836446709,
         0.08697383674115625,
         0.09066669856842761,
         0.08251379671172306,
         0.08830561933143792,
         0.08861173202794104,
         0.08537815840586196,
         0.07787515430933963,
         0.08024964360447984,
         0.0866090500449418,
         0.08605432702183662,
         0.08146377149638133,
         0.08073632254426061,
         0.0856673718531258,
         0.083906495828793,
         0.08645722094757076,
         0.09147405105329152,
         0.08382988904186234,
         0.09092621157380573,
         0.0880311126664086,
         0.08209795031334466,
         0.08330323059448544,
         0.09401410597476492,
         0.09077550839297902,
         0.09300263011476938,
         0.077142190226987,
         0.08438718081696224,
         0.08394730434990427,
         0.09156806949828002,
         0.07698475421647227,
         0.0786043928806366,
         0.08853156114994318,
         0.08938306779897398,
         0.07725378070817883,
         0.08077967511232624,
         0.08091036465689053,
         0.08452164868624576,
         0.08643474841914543,
         0.0996330474754261,
         0.0804671730018971,
         0.08747508304485258,
         0.07311700484874287,
         0.08624987763189802,
         0.09134611371537159,
         0.08570386817912791,
         0.08588085024070354,
         0.08261819349477705,
         0.0825103124413839,
         0.0835899013032003,
         0.08536781219272309,
         0.08728218686390643,
         0.08710310187928934,
         0.0818537766307258,
         0.08774099150917448,
         0.10148569745239115,
         0.087399941645715,
         0.088180697864906
        ],
        [
         0.21327774247665907,
         0.22018473550640777,
         0.21808932640352377,
         0.209622435153042,
         0.20084256330943284,
         0.19964796592317083,
         0.21809865734266007,
         0.21335193163295293,
         0.20725652490578153,
         0.21345187646026412,
         0.2007241057615508,
         0.20940688521802134,
         0.19911766518820442,
         0.2054146337505503,
         0.2161500893222789,
         0.21104414102749205,
         0.210832640738683,
         0.20734865034875624,
         0.2151657320905988,
         0.20556765983757727,
         0.20877724625718067,
         0.20378057895155222,
         0.20515392858571574,
         0.20828322123042217,
         0.21307122067310938,
         0.21525124569113055,
         0.21887095286236966,
         0.2158993806087357,
         0.20781818743539499,
         0.22512335289160118,
         0.20981117855647907,
         0.2063757892898923,
         0.2243955164472116,
         0.21786002528981543,
         0.22400219335823374,
         0.222840183387127,
         0.20575410382383885,
         0.20157000582263457,
         0.19963853407249438,
         0.2111821230044406,
         0.21358290164019256,
         0.21632957771676137,
         0.21149280257340447,
         0.20424616222689843,
         0.20957761852289825,
         0.21039999914629495,
         0.21074740248093127,
         0.20983177382389412,
         0.21009389679038934,
         0.2059194841787365,
         0.19712895811444112,
         0.20072251893397347,
         0.20601013250758543,
         0.20322393336534209,
         0.20448025044820764,
         0.20090010337641134,
         0.21070298967956036,
         0.20466782955233664,
         0.20438437593881698,
         0.21790564910271296,
         0.20881779644382642,
         0.21267230694602227,
         0.21317040667339576,
         0.20443118556274795,
         0.21264264826644577,
         0.21795886009018503,
         0.20966256562364743,
         0.22114588925614953,
         0.2036136180509393,
         0.20689641296242675,
         0.20930513041093946,
         0.21189790291200375,
         0.1959374538513229,
         0.21271739070139387,
         0.2038117728159562,
         0.21435221415195688,
         0.19199421098821012,
         0.1984703785411137,
         0.20439462768206118,
         0.2065250468440354,
         0.2064061970449984,
         0.21583890475734485,
         0.21125426723201776,
         0.20644350823781946,
         0.18878411157421915,
         0.2094387189923402,
         0.2150204906185322,
         0.2091829038919041,
         0.20938375153049243,
         0.1999257660799605,
         0.20560163422944208,
         0.2065049382017962,
         0.20946384253272532,
         0.20943016941458278,
         0.20937429141143665,
         0.2001166884495201,
         0.2031369390349616,
         0.22145891685367508,
         0.21238322598932713,
         0.2097057850173145
        ],
        [
         21.754329732619226,
         22.458843021653593,
         22.245111293159425,
         21.381488385610282,
         20.48594145756215,
         20.364092524163425,
         22.246063048951328,
         21.7618970265612,
         21.140165540389717,
         21.77209139894694,
         20.473858787678182,
         21.359502292238176,
         20.31000184919685,
         20.95229264255613,
         22.047309110872447,
         21.52650238480419,
         21.504929355345666,
         21.149562335573137,
         21.94690467324108,
         20.967901303432882,
         21.29527911823243,
         20.785619053058326,
         20.925700715743005,
         21.24488856550306,
         21.733264508657157,
         21.955627060495317,
         22.324837191961706,
         22.021736822091043,
         21.19745511841029,
         22.96258199494332,
         21.400740212760866,
         21.050330507569015,
         22.888342677615583,
         22.221722579561174,
         22.848223722539842,
         22.729698705486953,
         20.986918590031564,
         20.560140593908727,
         20.363130475394428,
         21.54057654645294,
         21.78545596729964,
         22.06561692710966,
         21.572265862487257,
         20.833108547143638,
         21.37691708933562,
         21.460799912922084,
         21.49623505305499,
         21.4028409300372,
         21.429577472619712,
         21.003787386231124,
         20.107153727672994,
         20.473696931265295,
         21.013033515773714,
         20.728841203264892,
         20.85698554571718,
         20.491810544393957,
         21.491704947315156,
         20.87611861433834,
         20.847206345759332,
         22.226376208476722,
         21.299415237270296,
         21.69257530849427,
         21.743381480686367,
         20.85198092740029,
         21.68955012317747,
         22.231803729198873,
         21.38558169361204,
         22.556880704127252,
         20.76858904119581,
         21.103434122167528,
         21.349123301915824,
         21.61358609702438,
         19.985620292834938,
         21.697173851542175,
         20.788800827227533,
         21.8639258434996,
         19.58340952079743,
         20.243978611193597,
         20.84825202357024,
         21.06555477809161,
         21.053432098589838,
         22.015568285249174,
         21.547935257665813,
         21.057237840257585,
         19.255979380570352,
         21.362749337218702,
         21.932090043090284,
         21.336656196974218,
         21.357142656110227,
         20.39242814015597,
         20.97136669140309,
         21.06350369658321,
         21.36531193833798,
         21.361877280287445,
         21.35617772396654,
         20.41190222185105,
         20.719967781566083,
         22.588809519074857,
         21.663089050911367,
         21.38999007176608
        ],
        [
         3.0345614515942616,
         3.0375109686148383,
         3.082403093975363,
         3.0447306711322297,
         2.9371220723774347,
         2.8193242649181443,
         3.176277328773032,
         2.9708119197596314,
         2.9630499994174557,
         3.055619727864902,
         2.915555159621626,
         3.0170712521273972,
         2.876149843300619,
         2.989059818655948,
         2.9239733097758265,
         3.0278816950318297,
         2.988218052455732,
         2.9841002899642395,
         3.078466226466416,
         2.8803466955471366,
         2.912480645481966,
         2.992391562546833,
         3.0057381214217314,
         2.96131829516663,
         2.9426544050268415,
         3.0366041911307615,
         3.129411223452909,
         3.0572218335963117,
         2.9694081725061356,
         3.096892904041161,
         2.9695555708834394,
         2.9097198133695037,
         3.0752338271834248,
         3.156623708710374,
         3.171128593548307,
         3.0698427342737897,
         3.062569627885606,
         2.8794901623974853,
         2.887607760714787,
         2.958378616005867,
         2.9316726757606673,
         2.962692642178227,
         3.0093261817635533,
         3.021571338422385,
         2.978478025367643,
         3.041052984408462,
         2.9011044904649244,
         3.001195290514542,
         3.0063926335144555,
         2.951028999755495,
         2.818379984947495,
         2.8610249295762773,
         2.9722252782358303,
         2.9626915729159746,
         2.882586458830141,
         2.8696872476830255,
         2.956022991963836,
         2.925485015264457,
         2.9696189211163473,
         3.054562686774611,
         2.9241492236665954,
         3.0454020392270347,
         2.9965269049307195,
         2.893784880042251,
         2.9149493169929235,
         3.0966819031708788,
         3.0428772331600653,
         3.079978615462528,
         2.805085275558066,
         2.933852832595757,
         2.9261963440087597,
         3.0561320470203115,
         2.802221427739102,
         2.8315451742511417,
         3.005032318843543,
         3.019449107949221,
         2.807113398534915,
         2.8704576048876382,
         2.872778654021718,
         2.9361893954574976,
         2.969232954611819,
         3.1878787371061432,
         2.864899936506248,
         2.9870484546747744,
         2.73092191293925,
         2.9660558859289203,
         3.0524258547863035,
         2.9566525927594274,
         2.9597038237890887,
         2.9029391547993657,
         2.9010432380475053,
         2.9199606046874034,
         2.9508501899719937,
         2.9837531835120767,
         2.98069058972707,
         2.889478364053628,
         2.9915850537692883,
         3.2173810996125236,
         2.9857652365621323,
         2.999071720086135
        ]
       ],
       "encoder": "json",
       "name": "ABC_GAN_1 Metrics",
       "version": 1
      }
     },
     "metadata": {
      "scrapbook": {
       "data": true,
       "display": false,
       "name": "ABC_GAN_1 Metrics"
      }
     },
     "output_type": "display_data"
    },
    {
     "name": "stdout",
     "output_type": "stream",
     "text": [
      "MSE\n",
      "0.08677930769337168\n"
     ]
    }
   ],
   "source": [
    "ABC_GAN1_metrics=ABC_train_test2.test_generator(gen,test_data,prior_model,variance,0,\"1\",device)\n",
    "sb.glue(\"ABC_GAN_1 Metrics\",ABC_GAN1_metrics)\n",
    "\n",
    "print(\"MSE\")\n",
    "print(mean(ABC_GAN1_metrics[0]))"
   ]
  },
  {
   "cell_type": "code",
   "execution_count": 14,
   "id": "eb22ce5c",
   "metadata": {
    "execution": {
     "iopub.execute_input": "2022-03-11T10:32:27.637914Z",
     "iopub.status.busy": "2022-03-11T10:32:27.637549Z",
     "iopub.status.idle": "2022-03-11T10:32:27.966658Z",
     "shell.execute_reply": "2022-03-11T10:32:27.966951Z"
    },
    "papermill": {
     "duration": 0.34367,
     "end_time": "2022-03-11T10:32:27.967071",
     "exception": false,
     "start_time": "2022-03-11T10:32:27.623401",
     "status": "completed"
    },
    "tags": []
   },
   "outputs": [
    {
     "data": {
      "image/png": "[encoded data removed]",
      "text/plain": [
       "<Figure size 432x288 with 1 Axes>"
      ]
     },
     "metadata": {
      "needs_background": "light"
     },
     "output_type": "display_data"
    },
    {
     "data": {
      "image/png": "[encoded data removed]",
      "text/plain": [
       "<Figure size 432x288 with 1 Axes>"
      ]
     },
     "metadata": {
      "needs_background": "light"
     },
     "output_type": "display_data"
    },
    {
     "data": {
      "image/png": "[encoded data removed]",
      "text/plain": [
       "<Figure size 432x288 with 1 Axes>"
      ]
     },
     "metadata": {
      "needs_background": "light"
     },
     "output_type": "display_data"
    },
    {
     "data": {
      "image/png": "[encoded data removed]",
      "text/plain": [
       "<Figure size 432x288 with 1 Axes>"
      ]
     },
     "metadata": {
      "needs_background": "light"
     },
     "output_type": "display_data"
    }
   ],
   "source": [
    "sanityChecks.discProbVsError(train_data,disc,device)\n",
    "sanityChecks.discProbVsError(test_data,disc,device)"
   ]
  },
  {
   "cell_type": "markdown",
   "id": "130f3a4d",
   "metadata": {
    "id": "130f3a4d",
    "papermill": {
     "duration": 0.014303,
     "end_time": "2022-03-11T10:32:27.996578",
     "exception": false,
     "start_time": "2022-03-11T10:32:27.982275",
     "status": "completed"
    },
    "tags": []
   },
   "source": [
    "# ABC - GAN Model with skip connection"
   ]
  },
  {
   "cell_type": "code",
   "execution_count": 15,
   "id": "4e43dad1",
   "metadata": {
    "execution": {
     "iopub.execute_input": "2022-03-11T10:32:28.030965Z",
     "iopub.status.busy": "2022-03-11T10:32:28.030562Z",
     "iopub.status.idle": "2022-03-11T10:32:28.032822Z",
     "shell.execute_reply": "2022-03-11T10:32:28.033133Z"
    },
    "id": "4e43dad1",
    "papermill": {
     "duration": 0.021734,
     "end_time": "2022-03-11T10:32:28.033247",
     "exception": false,
     "start_time": "2022-03-11T10:32:28.011513",
     "status": "completed"
    },
    "tags": []
   },
   "outputs": [],
   "source": [
    "#Generator\n",
    "gen3 = network.GeneratorWithSkipConnection(n_features+1).to(device)\n",
    "constraints=network.weightConstraint()\n",
    "#Discriminator \n",
    "disc3 = network.Discriminator(n_features+1).to(device)\n",
    "\n",
    "criterion = torch.nn.BCELoss()\n",
    "gen_opt = torch.optim.Adam(gen3.parameters(), lr=0.001, betas=(0.5, 0.999))\n",
    "disc_opt = torch.optim.Adam(disc3.parameters(), lr=0.001, betas=(0.5, 0.999))\n"
   ]
  },
  {
   "cell_type": "code",
   "execution_count": 16,
   "id": "26acbc37",
   "metadata": {
    "execution": {
     "iopub.execute_input": "2022-03-11T10:32:28.064888Z",
     "iopub.status.busy": "2022-03-11T10:32:28.064509Z",
     "iopub.status.idle": "2022-03-11T10:34:57.738986Z",
     "shell.execute_reply": "2022-03-11T10:34:57.739303Z"
    },
    "id": "26acbc37",
    "papermill": {
     "duration": 149.69135,
     "end_time": "2022-03-11T10:34:57.739429",
     "exception": false,
     "start_time": "2022-03-11T10:32:28.048079",
     "status": "completed"
    },
    "tags": []
   },
   "outputs": [
    {
     "data": {
      "image/png": "[encoded data removed]",
      "text/plain": [
       "<Figure size 432x288 with 1 Axes>"
      ]
     },
     "metadata": {
      "needs_background": "light"
     },
     "output_type": "display_data"
    },
    {
     "data": {
      "image/png": "[encoded data removed]",
      "text/plain": [
       "<Figure size 432x288 with 1 Axes>"
      ]
     },
     "metadata": {
      "needs_background": "light"
     },
     "output_type": "display_data"
    }
   ],
   "source": [
    "ABC_train_test2.training_GAN_skip_connection(disc3,gen3,disc_opt,gen_opt,train_data,batch_size,n_epochs,criterion,prior_model,variance,0,device)"
   ]
  },
  {
   "cell_type": "code",
   "execution_count": 17,
   "id": "c5e0717b",
   "metadata": {
    "execution": {
     "iopub.execute_input": "2022-03-11T10:34:57.773393Z",
     "iopub.status.busy": "2022-03-11T10:34:57.773030Z",
     "iopub.status.idle": "2022-03-11T10:34:58.602669Z",
     "shell.execute_reply": "2022-03-11T10:34:58.602944Z"
    },
    "id": "c5e0717b",
    "papermill": {
     "duration": 0.847835,
     "end_time": "2022-03-11T10:34:58.603129",
     "exception": false,
     "start_time": "2022-03-11T10:34:57.755294",
     "status": "completed"
    },
    "tags": []
   },
   "outputs": [
    {
     "data": {
      "application/scrapbook.scrap.json+json": {
       "data": 0.11690825801129047,
       "encoder": "json",
       "name": "ABC-GAN Model 3 MSE",
       "version": 1
      }
     },
     "metadata": {
      "scrapbook": {
       "data": true,
       "display": false,
       "name": "ABC-GAN Model 3 MSE"
      }
     },
     "output_type": "display_data"
    },
    {
     "data": {
      "application/scrapbook.scrap.json+json": {
       "data": 0.21530285028227167,
       "encoder": "json",
       "name": "ABC-GAN Model 3 MAE",
       "version": 1
      }
     },
     "metadata": {
      "scrapbook": {
       "data": true,
       "display": false,
       "name": "ABC-GAN Model 3 MAE"
      }
     },
     "output_type": "display_data"
    },
    {
     "data": {
      "application/scrapbook.scrap.json+json": {
       "data": 21.96089072879171,
       "encoder": "json",
       "name": "ABC-GAN Model 3 Manhattan Distance",
       "version": 1
      }
     },
     "metadata": {
      "scrapbook": {
       "data": true,
       "display": false,
       "name": "ABC-GAN Model 3 Manhattan Distance"
      }
     },
     "output_type": "display_data"
    },
    {
     "data": {
      "application/scrapbook.scrap.json+json": {
       "data": 3.452430422865193,
       "encoder": "json",
       "name": "ABC-GAN Model 3 Euclidean distance",
       "version": 1
      }
     },
     "metadata": {
      "scrapbook": {
       "data": true,
       "display": false,
       "name": "ABC-GAN Model 3 Euclidean distance"
      }
     },
     "output_type": "display_data"
    },
    {
     "data": {
      "application/scrapbook.scrap.json+json": {
       "data": [
        [
         0.11890891693053543,
         0.10679183213741232,
         0.12233298292295627,
         0.12062074867626667,
         0.1127166715054437,
         0.11663587013598183,
         0.11260082336200998,
         0.12477864382166122,
         0.12630043817898193,
         0.11396408158910465,
         0.10993397237263093,
         0.11811769316318603,
         0.11134576510857651,
         0.11049179737507067,
         0.10535304093197331,
         0.12153190246656069,
         0.11682608409501168,
         0.11289201079618269,
         0.1202814369108764,
         0.11263296740529198,
         0.11195150601862101,
         0.1196379757842586,
         0.118895984166447,
         0.1242695733958164,
         0.11441518175241949,
         0.11704210557704885,
         0.11584634181551161,
         0.13206029164967395,
         0.11803171081200879,
         0.10995190894951364,
         0.12442558522851437,
         0.11867098550065014,
         0.11310091351560946,
         0.11941884913570097,
         0.12025630912905058,
         0.11518295957804502,
         0.1121354593466565,
         0.11423918605414421,
         0.11232640244606289,
         0.12034026960303654,
         0.12098159497858535,
         0.11892049106579754,
         0.1143536109688366,
         0.11135827599731224,
         0.12355866326861094,
         0.12529093025274307,
         0.12676105256882886,
         0.11466505944527401,
         0.1136296625086069,
         0.12624986043179157,
         0.11899849488687621,
         0.11687254363673284,
         0.11567742462586732,
         0.11457953238681536,
         0.12024145248403773,
         0.11786205425527725,
         0.11891133834996939,
         0.1151330092957061,
         0.11569802154524482,
         0.11288553388391867,
         0.11671469316719323,
         0.11930400040325197,
         0.11864865007005111,
         0.11527788873953733,
         0.11021941533066532,
         0.11261941816073145,
         0.11740971872943853,
         0.1140414240436652,
         0.12285401892715717,
         0.11891387397354229,
         0.11217150480781943,
         0.11385987317951106,
         0.114091465593146,
         0.11829314392541292,
         0.11021454145713487,
         0.11609945964946897,
         0.1209089955188913,
         0.1213970977041195,
         0.11077372001980862,
         0.1112230235520403,
         0.10835673889439182,
         0.12789097839073116,
         0.10871282932546865,
         0.11278577108475171,
         0.11809391203972879,
         0.11134666377190373,
         0.11468654290876666,
         0.11927439814165279,
         0.11898409970116207,
         0.12214833644063565,
         0.12115881209100937,
         0.1149856886512806,
         0.1214574786935141,
         0.1202840696242578,
         0.11714427759981932,
         0.1225383127025594,
         0.12448468023553656,
         0.11104108444902969,
         0.1155278790185358,
         0.11500153423038705
        ],
        [
         0.21475859531475341,
         0.2083865116058173,
         0.22066457585121194,
         0.2257245962288888,
         0.20802754907887064,
         0.21824276747693325,
         0.2181623159980803,
         0.21711787713837682,
         0.22143469992842452,
         0.21323364373186932,
         0.2125060174194183,
         0.213548708168388,
         0.2085337930395469,
         0.21409130320135578,
         0.20644246621568704,
         0.21973937772689203,
         0.2099496446020317,
         0.21518903323357888,
         0.2236267990870949,
         0.21589550292849832,
         0.21216207442293858,
         0.20937339591738932,
         0.22328922851011157,
         0.2224182643306752,
         0.2139262252706377,
         0.21275134538939477,
         0.20929879962704054,
         0.22360326341517708,
         0.21042507608402886,
         0.2080605164553751,
         0.22155878649951488,
         0.21428859037548012,
         0.2086164078163896,
         0.2208652542630101,
         0.21893203239340117,
         0.21261096794121698,
         0.21398140753929815,
         0.20969608870754933,
         0.20902196364477277,
         0.216122807231823,
         0.21278360057804807,
         0.22283439516254208,
         0.21829513437571188,
         0.21557021315446964,
         0.2182573406482298,
         0.22307011044091163,
         0.21887817945075677,
         0.2136357552919756,
         0.20362031462547533,
         0.21766222028207838,
         0.2184254991201063,
         0.21641645276480737,
         0.2160394776740349,
         0.2112463739262346,
         0.21921305611327874,
         0.22393934177599994,
         0.2171074415593609,
         0.20790750501385213,
         0.2116094872665902,
         0.2101286320910588,
         0.2162142266957637,
         0.21270648880368648,
         0.21580518485393888,
         0.21648691378205137,
         0.21325831475905052,
         0.21218187106298467,
         0.21473206876430148,
         0.21833593278721558,
         0.2226885870446031,
         0.2155409285013436,
         0.2117066584326619,
         0.21815636614337564,
         0.21749416012864778,
         0.22250922473476215,
         0.2037049253909465,
         0.21451488317118264,
         0.2207943241216936,
         0.2217438672760538,
         0.20771241638188562,
         0.2054733692157064,
         0.20634888666773252,
         0.23443287659399942,
         0.20490527499065386,
         0.2025036405059783,
         0.20929369099401668,
         0.21740979660192833,
         0.2086175288183286,
         0.21732810483880194,
         0.21578789647559032,
         0.21817176411950998,
         0.22462706089786746,
         0.2104765538254059,
         0.2211843616438701,
         0.21405389608230954,
         0.21573659018887317,
         0.23164004143144862,
         0.22540549980476499,
         0.21590984673878433,
         0.21137711675107188,
         0.21039508307790933
        ],
        [
         21.905376722104847,
         21.255424183793366,
         22.50778673682362,
         23.02390881534666,
         21.218810006044805,
         22.260762282647192,
         22.252556231804192,
         22.146023468114436,
         22.5863393926993,
         21.74983166065067,
         21.675613776780665,
         21.781968233175576,
         21.27044689003378,
         21.83731292653829,
         21.05713155400008,
         22.41341652814299,
         21.414863749407232,
         21.949281389825046,
         22.80993350688368,
         22.02134129870683,
         21.640531591139734,
         21.35608638357371,
         22.77550130803138,
         22.68666296172887,
         21.820474977605045,
         21.700637229718268,
         21.348477561958134,
         22.807532868348062,
         21.463357760570943,
         21.22217267844826,
         22.598996222950518,
         21.85743621829897,
         21.27887359727174,
         22.52825593482703,
         22.33106730412692,
         21.686318730004132,
         21.82610356900841,
         21.38900104817003,
         21.320240291766822,
         22.044526337645948,
         21.703927258960903,
         22.729108306579292,
         22.26610370632261,
         21.988161741755903,
         22.26224874611944,
         22.753151264972985,
         22.32557430397719,
         21.79084703978151,
         20.769272091798484,
         22.201546468771994,
         22.279400910250843,
         22.074478182010353,
         22.036026722751558,
         21.54713014047593,
         22.359731723554432,
         22.841812861151993,
         22.14495903905481,
         21.20656551141292,
         21.5841677011922,
         21.433120473288,
         22.0538511229679,
         21.69606185797602,
         22.012128855101764,
         22.08166520576924,
         21.752348105423152,
         21.642550848424435,
         21.902671013958752,
         22.27026514429599,
         22.714235878549516,
         21.98517470713705,
         21.594079160131514,
         22.251949346624315,
         22.184404333122075,
         22.695940922945738,
         20.777902389876544,
         21.88051808346063,
         22.52102106041275,
         22.617874462157488,
         21.186666470952332,
         20.958283660002053,
         21.047586440108716,
         23.91215341258794,
         20.900338049046695,
         20.655371331609786,
         21.3479564813897,
         22.17579925339669,
         21.278987939469516,
         22.1674666935578,
         22.010365440510213,
         22.253519940190017,
         22.911960211582482,
         21.4686084901914,
         22.56080488767475,
         21.833497400395572,
         22.005132199265063,
         23.62728422600776,
         22.99136098008603,
         22.022804367356002,
         21.56046590860933,
         21.46029847394675
        ],
        [
         3.4826296855845307,
         3.3004191973166153,
         3.5324162068110745,
         3.507608353989823,
         3.3907374557100787,
         3.4491823312011416,
         3.388994538639007,
         3.567551214742325,
         3.5892401276950188,
         3.409448096406319,
         3.3486213852880344,
         3.4710235814014534,
         3.3700546050583227,
         3.3571063927521285,
         3.278110763086152,
         3.5208314432232037,
         3.45199371055209,
         3.393373704915307,
         3.502671346973535,
         3.389478230545194,
         3.3792090219309223,
         3.4932897861463443,
         3.482440291660087,
         3.560266350481839,
         3.416189183687986,
         3.455183753269713,
         3.4374884530980148,
         3.6701702614819847,
         3.469760006517006,
         3.3488945508705386,
         3.562500483271331,
         3.479143647661923,
         3.396511913506585,
         3.4900891982643505,
         3.5023054594314247,
         3.4276321093373765,
         3.3819841592412825,
         3.413560747595201,
         3.384862338337914,
         3.503527864811371,
         3.512851076805804,
         3.482799174329658,
         3.415269874961762,
         3.3702439305969905,
         3.550068119543386,
         3.5748671144225486,
         3.5957791036186495,
         3.41991755213747,
         3.40444203591101,
         3.588521389659359,
         3.483941227756486,
         3.452680038889609,
         3.43498141360888,
         3.4186418799656635,
         3.5020891127114178,
         3.467265425957216,
         3.4826651449280726,
         3.426888814677538,
         3.435287207442046,
         3.393276360121542,
         3.450347620610669,
         3.4884105321953864,
         3.4788162220998697,
         3.4290442766801372,
         3.3529659055421153,
         3.38927435484273,
         3.4606056276904376,
         3.410604822088576,
         3.5399307804772153,
         3.482702276293699,
         3.3825276776986724,
         3.4078889454191614,
         3.411353029298036,
         3.4736005355239277,
         3.3528917710877204,
         3.441241764864223,
         3.5117969108316776,
         3.518878225488939,
         3.3613865356457415,
         3.3681966098059224,
         3.324513102279484,
         3.6117696210935955,
         3.3299712598155864,
         3.39177662157234,
         3.47067414604891,
         3.3700682047599835,
         3.420237912294142,
         3.4879777250505173,
         3.4837304961088087,
         3.5297493277773753,
         3.5154229949300495,
         3.4246956423061334,
         3.5197532337847828,
         3.502709679901304,
         3.4566915273396277,
         3.5353794556823823,
         3.5633463744105374,
         3.3654406269909183,
         3.432760355732781,
         3.42493160391554
        ]
       ],
       "encoder": "json",
       "name": "ABC_GAN_3 Metrics",
       "version": 1
      }
     },
     "metadata": {
      "scrapbook": {
       "data": true,
       "display": false,
       "name": "ABC_GAN_3 Metrics"
      }
     },
     "output_type": "display_data"
    },
    {
     "name": "stdout",
     "output_type": "stream",
     "text": [
      "MSE\n",
      "0.11690825801129047\n"
     ]
    }
   ],
   "source": [
    "ABC_GAN3_metrics=ABC_train_test2.test_generator(gen3,test_data,prior_model,variance,0,\"3\",device)\n",
    "sb.glue(\"ABC_GAN_3 Metrics\",ABC_GAN3_metrics)\n",
    "\n",
    "print(\"MSE\")\n",
    "print(mean(ABC_GAN3_metrics[0]))"
   ]
  },
  {
   "cell_type": "code",
   "execution_count": 18,
   "id": "c8e46b48",
   "metadata": {
    "execution": {
     "iopub.execute_input": "2022-03-11T10:34:58.641864Z",
     "iopub.status.busy": "2022-03-11T10:34:58.641483Z",
     "iopub.status.idle": "2022-03-11T10:34:58.960777Z",
     "shell.execute_reply": "2022-03-11T10:34:58.961142Z"
    },
    "id": "c8e46b48",
    "papermill": {
     "duration": 0.339151,
     "end_time": "2022-03-11T10:34:58.961269",
     "exception": false,
     "start_time": "2022-03-11T10:34:58.622118",
     "status": "completed"
    },
    "tags": []
   },
   "outputs": [
    {
     "data": {
      "image/png": "[encoded data removed]",
      "text/plain": [
       "<Figure size 432x288 with 1 Axes>"
      ]
     },
     "metadata": {
      "needs_background": "light"
     },
     "output_type": "display_data"
    },
    {
     "data": {
      "image/png": "[encoded data removed]",
      "text/plain": [
       "<Figure size 432x288 with 1 Axes>"
      ]
     },
     "metadata": {
      "needs_background": "light"
     },
     "output_type": "display_data"
    },
    {
     "data": {
      "image/png": "[encoded data removed]",
      "text/plain": [
       "<Figure size 432x288 with 1 Axes>"
      ]
     },
     "metadata": {
      "needs_background": "light"
     },
     "output_type": "display_data"
    },
    {
     "data": {
      "image/png": "[encoded data removed]",
      "text/plain": [
       "<Figure size 432x288 with 1 Axes>"
      ]
     },
     "metadata": {
      "needs_background": "light"
     },
     "output_type": "display_data"
    }
   ],
   "source": [
    "sanityChecks.discProbVsError(train_data,disc3,device)\n",
    "sanityChecks.discProbVsError(test_data,disc3,device)"
   ]
  },
  {
   "cell_type": "markdown",
   "id": "a5bd74c3",
   "metadata": {
    "id": "a5bd74c3",
    "papermill": {
     "duration": 0.019352,
     "end_time": "2022-03-11T10:34:59.001468",
     "exception": false,
     "start_time": "2022-03-11T10:34:58.982116",
     "status": "completed"
    },
    "tags": []
   },
   "source": [
    "## Skip Connection Model Analysis - ABC-GAN "
   ]
  },
  {
   "cell_type": "markdown",
   "id": "5744a8bf",
   "metadata": {
    "id": "5744a8bf",
    "papermill": {
     "duration": 0.018955,
     "end_time": "2022-03-11T10:34:59.039423",
     "exception": false,
     "start_time": "2022-03-11T10:34:59.020468",
     "status": "completed"
    },
    "tags": []
   },
   "source": [
    "### Weight Analysis \n",
    "\n",
    "Study the weights of the skip connection layer\n",
    "\n",
    "Equation of the skip connection is \n",
    "\n",
    "$output = y_{gan} * w + y_{abc} * (1-w)$"
   ]
  },
  {
   "cell_type": "code",
   "execution_count": 19,
   "id": "52c31dea",
   "metadata": {
    "execution": {
     "iopub.execute_input": "2022-03-11T10:34:59.080439Z",
     "iopub.status.busy": "2022-03-11T10:34:59.080067Z",
     "iopub.status.idle": "2022-03-11T10:34:59.083463Z",
     "shell.execute_reply": "2022-03-11T10:34:59.083703Z"
    },
    "id": "52c31dea",
    "papermill": {
     "duration": 0.025427,
     "end_time": "2022-03-11T10:34:59.083815",
     "exception": false,
     "start_time": "2022-03-11T10:34:59.058388",
     "status": "completed"
    },
    "tags": []
   },
   "outputs": [
    {
     "name": "stdout",
     "output_type": "stream",
     "text": [
      "Weight of the node at skip connection\n",
      "Parameter containing:\n",
      "tensor([[0.3167]], requires_grad=True)\n"
     ]
    },
    {
     "data": {
      "application/scrapbook.scrap.json+json": {
       "data": 0.31671932339668274,
       "encoder": "json",
       "name": "Skip Connection Weight",
       "version": 1
      }
     },
     "metadata": {
      "scrapbook": {
       "data": true,
       "display": false,
       "name": "Skip Connection Weight"
      }
     },
     "output_type": "display_data"
    }
   ],
   "source": [
    "print(\"Weight of the node at skip connection\")\n",
    "for name,param in gen3.named_parameters():\n",
    "    if(name == \"skipNode.weight\"):\n",
    "        print(param)\n",
    "        sb.glue(\"Skip Connection Weight\",param.item())"
   ]
  }
 ],
 "metadata": {
  "colab": {
   "collapsed_sections": [],
   "name": "ABC_GAN_Model-Catboost_Pre-gen.ipynb",
   "provenance": []
  },
  "interpreter": {
   "hash": "31f2aee4e71d21fbe5cf8b01ff0e069b9275f58929596ceb00d14d90e3e16cd6"
  },
  "kernelspec": {
   "display_name": "Python 3 (ipykernel)",
   "language": "python",
   "name": "python3"
  },
  "language_info": {
   "codemirror_mode": {
    "name": "ipython",
    "version": 3
   },
   "file_extension": ".py",
   "mimetype": "text/x-python",
   "name": "python",
   "nbconvert_exporter": "python",
   "pygments_lexer": "ipython3",
   "version": "3.8.11"
  },
  "papermill": {
   "default_parameters": {},
   "duration": 192.365919,
   "end_time": "2022-03-11T10:34:59.410872",
   "environment_variables": {},
   "exception": null,
   "input_path": "ABC_GAN-Catboost.ipynb",
   "output_path": "./ABC_GAN_Catboost/ABC-GAN_output_7_1.ipynb",
   "parameters": {
    "variance": 0.1
   },
   "start_time": "2022-03-11T10:31:47.044953",
   "version": "2.3.3"
  }
 },
 "nbformat": 4,
 "nbformat_minor": 5
}