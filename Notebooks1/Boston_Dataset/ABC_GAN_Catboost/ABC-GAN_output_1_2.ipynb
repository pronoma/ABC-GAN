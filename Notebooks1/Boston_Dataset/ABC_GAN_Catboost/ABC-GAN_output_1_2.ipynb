{
 "cells": [
  {
   "cell_type": "markdown",
   "id": "622780e6",
   "metadata": {
    "id": "622780e6",
    "papermill": {
     "duration": 0.035515,
     "end_time": "2022-03-11T09:37:04.909547",
     "exception": false,
     "start_time": "2022-03-11T09:37:04.874032",
     "status": "completed"
    },
    "tags": []
   },
   "source": [
    "## Import Libraries "
   ]
  },
  {
   "cell_type": "code",
   "execution_count": 1,
   "id": "a62397e3",
   "metadata": {
    "execution": {
     "iopub.execute_input": "2022-03-11T09:37:04.947281Z",
     "iopub.status.busy": "2022-03-11T09:37:04.946657Z",
     "iopub.status.idle": "2022-03-11T09:37:04.948880Z",
     "shell.execute_reply": "2022-03-11T09:37:04.949233Z"
    },
    "id": "a62397e3",
    "papermill": {
     "duration": 0.023069,
     "end_time": "2022-03-11T09:37:04.949450",
     "exception": false,
     "start_time": "2022-03-11T09:37:04.926381",
     "status": "completed"
    },
    "tags": []
   },
   "outputs": [],
   "source": [
    "import warnings\n",
    "import sys\n",
    "sys.path.insert(0, '../../src')\n",
    "warnings.filterwarnings('ignore')"
   ]
  },
  {
   "cell_type": "code",
   "execution_count": 2,
   "id": "d6a4e155",
   "metadata": {
    "execution": {
     "iopub.execute_input": "2022-03-11T09:37:04.971036Z",
     "iopub.status.busy": "2022-03-11T09:37:04.970631Z",
     "iopub.status.idle": "2022-03-11T09:37:06.754363Z",
     "shell.execute_reply": "2022-03-11T09:37:06.754623Z"
    },
    "id": "d6a4e155",
    "papermill": {
     "duration": 1.795569,
     "end_time": "2022-03-11T09:37:06.754746",
     "exception": false,
     "start_time": "2022-03-11T09:37:04.959177",
     "status": "completed"
    },
    "tags": []
   },
   "outputs": [],
   "source": [
    "import ABC_train_test2\n",
    "import bostonDataset\n",
    "import network\n",
    "import dataset\n",
    "import sanityChecks\n",
    "import torch \n",
    "import scrapbook as sb\n",
    "from statistics import mean \n",
    "import catboost as ctb \n",
    "from sklearn.model_selection import train_test_split\n",
    "from sklearn.metrics import mean_squared_error,mean_absolute_error\n",
    "import numpy as np"
   ]
  },
  {
   "cell_type": "markdown",
   "id": "2fa5b0f7",
   "metadata": {
    "id": "2fa5b0f7",
    "papermill": {
     "duration": 0.006791,
     "end_time": "2022-03-11T09:37:06.768572",
     "exception": false,
     "start_time": "2022-03-11T09:37:06.761781",
     "status": "completed"
    },
    "tags": []
   },
   "source": [
    "## Parameters "
   ]
  },
  {
   "cell_type": "code",
   "execution_count": 3,
   "id": "783186fb",
   "metadata": {
    "execution": {
     "iopub.execute_input": "2022-03-11T09:37:06.784283Z",
     "iopub.status.busy": "2022-03-11T09:37:06.783913Z",
     "iopub.status.idle": "2022-03-11T09:37:06.785191Z",
     "shell.execute_reply": "2022-03-11T09:37:06.785447Z"
    },
    "id": "783186fb",
    "papermill": {
     "duration": 0.010295,
     "end_time": "2022-03-11T09:37:06.785558",
     "exception": false,
     "start_time": "2022-03-11T09:37:06.775263",
     "status": "completed"
    },
    "tags": [
     "parameters"
    ]
   },
   "outputs": [],
   "source": [
    "variance = 1"
   ]
  },
  {
   "cell_type": "code",
   "execution_count": 4,
   "id": "f8d6b734",
   "metadata": {
    "execution": {
     "iopub.execute_input": "2022-03-11T09:37:06.801001Z",
     "iopub.status.busy": "2022-03-11T09:37:06.800629Z",
     "iopub.status.idle": "2022-03-11T09:37:06.801862Z",
     "shell.execute_reply": "2022-03-11T09:37:06.802104Z"
    },
    "papermill": {
     "duration": 0.009814,
     "end_time": "2022-03-11T09:37:06.802212",
     "exception": false,
     "start_time": "2022-03-11T09:37:06.792398",
     "status": "completed"
    },
    "tags": [
     "injected-parameters"
    ]
   },
   "outputs": [],
   "source": [
    "# Parameters\n",
    "variance = 0.01\n"
   ]
  },
  {
   "cell_type": "markdown",
   "id": "391cdbfd",
   "metadata": {
    "id": "391cdbfd",
    "papermill": {
     "duration": 0.006784,
     "end_time": "2022-03-11T09:37:06.815817",
     "exception": false,
     "start_time": "2022-03-11T09:37:06.809033",
     "status": "completed"
    },
    "tags": []
   },
   "source": [
    "## Dataset \n"
   ]
  },
  {
   "cell_type": "code",
   "execution_count": 5,
   "id": "5b51f161",
   "metadata": {
    "execution": {
     "iopub.execute_input": "2022-03-11T09:37:06.831358Z",
     "iopub.status.busy": "2022-03-11T09:37:06.830989Z",
     "iopub.status.idle": "2022-03-11T09:37:06.832258Z",
     "shell.execute_reply": "2022-03-11T09:37:06.832493Z"
    },
    "id": "5b51f161",
    "papermill": {
     "duration": 0.010002,
     "end_time": "2022-03-11T09:37:06.832599",
     "exception": false,
     "start_time": "2022-03-11T09:37:06.822597",
     "status": "completed"
    },
    "tags": []
   },
   "outputs": [],
   "source": [
    "#Parameters \n",
    "n_features = 13\n",
    "n_samples= 506\n",
    "n_target = 1 "
   ]
  },
  {
   "cell_type": "code",
   "execution_count": 6,
   "id": "5d6eced4",
   "metadata": {
    "execution": {
     "iopub.execute_input": "2022-03-11T09:37:06.848286Z",
     "iopub.status.busy": "2022-03-11T09:37:06.847940Z",
     "iopub.status.idle": "2022-03-11T09:37:06.858537Z",
     "shell.execute_reply": "2022-03-11T09:37:06.858829Z"
    },
    "id": "5d6eced4",
    "papermill": {
     "duration": 0.019408,
     "end_time": "2022-03-11T09:37:06.858941",
     "exception": false,
     "start_time": "2022-03-11T09:37:06.839533",
     "status": "completed"
    },
    "tags": []
   },
   "outputs": [
    {
     "name": "stdout",
     "output_type": "stream",
     "text": [
      "         X1        X2        X3        X4        X5        X6        X7  \\\n",
      "0 -0.419782  0.284830 -1.287909 -0.272599 -0.144217  0.413672 -0.120013   \n",
      "1 -0.417339 -0.487722 -0.593381 -0.272599 -0.740262  0.194274  0.367166   \n",
      "2 -0.417342 -0.487722 -0.593381 -0.272599 -0.740262  1.282714 -0.265812   \n",
      "3 -0.416750 -0.487722 -1.306878 -0.272599 -0.835284  1.016303 -0.809889   \n",
      "4 -0.412482 -0.487722 -1.306878 -0.272599 -0.835284  1.228577 -0.511180   \n",
      "\n",
      "         X8        X9       X10       X11       X12       X13         Y  \n",
      "0  0.140214 -0.982843 -0.666608 -1.459000  0.441052 -1.075562  0.159686  \n",
      "1  0.557160 -0.867883 -0.987329 -0.303094  0.441052 -0.492439 -0.101524  \n",
      "2  0.557160 -0.867883 -0.987329 -0.303094  0.396427 -1.208727  1.324247  \n",
      "3  1.077737 -0.752922 -1.106115  0.113032  0.416163 -1.361517  1.182758  \n",
      "4  1.077737 -0.752922 -1.106115  0.113032  0.441052 -1.026501  1.487503  \n"
     ]
    }
   ],
   "source": [
    "X,Y = bostonDataset.boston_data()"
   ]
  },
  {
   "cell_type": "code",
   "execution_count": 7,
   "id": "fe007438",
   "metadata": {
    "execution": {
     "iopub.execute_input": "2022-03-11T09:37:06.875934Z",
     "iopub.status.busy": "2022-03-11T09:37:06.875541Z",
     "iopub.status.idle": "2022-03-11T09:37:06.877035Z",
     "shell.execute_reply": "2022-03-11T09:37:06.877272Z"
    },
    "id": "fe007438",
    "papermill": {
     "duration": 0.011112,
     "end_time": "2022-03-11T09:37:06.877379",
     "exception": false,
     "start_time": "2022-03-11T09:37:06.866267",
     "status": "completed"
    },
    "tags": []
   },
   "outputs": [],
   "source": [
    "#Train test split for dataset \n",
    "X_train,X_test,Y_train,Y_test = train_test_split(X,Y,test_size = 0.2)\n",
    "train_data = dataset.CustomDataset(X_train,Y_train)\n",
    "test_data = dataset.CustomDataset(X_test,Y_test)\n"
   ]
  },
  {
   "cell_type": "markdown",
   "id": "a9a1af34",
   "metadata": {
    "id": "a9a1af34",
    "papermill": {
     "duration": 0.007261,
     "end_time": "2022-03-11T09:37:06.891836",
     "exception": false,
     "start_time": "2022-03-11T09:37:06.884575",
     "status": "completed"
    },
    "tags": []
   },
   "source": [
    "## Training Parameters "
   ]
  },
  {
   "cell_type": "code",
   "execution_count": 8,
   "id": "952b7fc8",
   "metadata": {
    "execution": {
     "iopub.execute_input": "2022-03-11T09:37:06.908118Z",
     "iopub.status.busy": "2022-03-11T09:37:06.907763Z",
     "iopub.status.idle": "2022-03-11T09:37:06.908984Z",
     "shell.execute_reply": "2022-03-11T09:37:06.909214Z"
    },
    "id": "952b7fc8",
    "papermill": {
     "duration": 0.010436,
     "end_time": "2022-03-11T09:37:06.909317",
     "exception": false,
     "start_time": "2022-03-11T09:37:06.898881",
     "status": "completed"
    },
    "tags": []
   },
   "outputs": [],
   "source": [
    "batch_size = 64\n",
    "n_epochs = 1000\n",
    "#Select the device \n",
    "device = torch.device('cuda' if torch.cuda.is_available() else 'cpu')"
   ]
  },
  {
   "cell_type": "markdown",
   "id": "a95e1600",
   "metadata": {
    "id": "a95e1600",
    "papermill": {
     "duration": 0.00703,
     "end_time": "2022-03-11T09:37:06.923519",
     "exception": false,
     "start_time": "2022-03-11T09:37:06.916489",
     "status": "completed"
    },
    "tags": []
   },
   "source": [
    "# ABC Pre-generator Model \n",
    "\n",
    "1. The catboost model is used as a pre-generator model for the ABC-GAN. \n",
    "2. The model is first trained on the entire dataset \n",
    "3. It generats X,Y pairs and we add some Gaussian noise with mean 0 and variance 1 to it which is then feed as input to the generator.\n"
   ]
  },
  {
   "cell_type": "code",
   "execution_count": 9,
   "id": "ff8ce7bd",
   "metadata": {
    "execution": {
     "iopub.execute_input": "2022-03-11T09:37:06.942496Z",
     "iopub.status.busy": "2022-03-11T09:37:06.942107Z",
     "iopub.status.idle": "2022-03-11T09:37:07.926177Z",
     "shell.execute_reply": "2022-03-11T09:37:07.926437Z"
    },
    "id": "ff8ce7bd",
    "papermill": {
     "duration": 0.995947,
     "end_time": "2022-03-11T09:37:07.926597",
     "exception": false,
     "start_time": "2022-03-11T09:37:06.930650",
     "status": "completed"
    },
    "tags": []
   },
   "outputs": [
    {
     "name": "stdout",
     "output_type": "stream",
     "text": [
      "Learning rate set to 0.033215\n",
      "0:\tlearn: 1.0009583\ttotal: 58.3ms\tremaining: 58.3s\n",
      "1:\tlearn: 0.9805952\ttotal: 59.4ms\tremaining: 29.6s\n",
      "2:\tlearn: 0.9614969\ttotal: 60.4ms\tremaining: 20.1s\n",
      "3:\tlearn: 0.9442150\ttotal: 61.3ms\tremaining: 15.3s\n",
      "4:\tlearn: 0.9258754\ttotal: 62.3ms\tremaining: 12.4s\n",
      "5:\tlearn: 0.9109741\ttotal: 63.3ms\tremaining: 10.5s\n",
      "6:\tlearn: 0.8948356\ttotal: 64.2ms\tremaining: 9.11s\n",
      "7:\tlearn: 0.8786300\ttotal: 65.2ms\tremaining: 8.08s\n",
      "8:\tlearn: 0.8637886\ttotal: 66.1ms\tremaining: 7.28s\n",
      "9:\tlearn: 0.8477158\ttotal: 67ms\tremaining: 6.63s\n",
      "10:\tlearn: 0.8309997\ttotal: 67.9ms\tremaining: 6.1s\n",
      "11:\tlearn: 0.8173576\ttotal: 68.6ms\tremaining: 5.65s\n",
      "12:\tlearn: 0.8023366\ttotal: 69.4ms\tremaining: 5.27s\n",
      "13:\tlearn: 0.7877128\ttotal: 70.2ms\tremaining: 4.94s\n",
      "14:\tlearn: 0.7762895\ttotal: 71.1ms\tremaining: 4.67s\n",
      "15:\tlearn: 0.7639163\ttotal: 71.8ms\tremaining: 4.41s\n",
      "16:\tlearn: 0.7510280\ttotal: 72.6ms\tremaining: 4.2s\n",
      "17:\tlearn: 0.7400732\ttotal: 73.4ms\tremaining: 4s\n",
      "18:\tlearn: 0.7280258\ttotal: 74.2ms\tremaining: 3.83s\n",
      "19:\tlearn: 0.7155409\ttotal: 75ms\tremaining: 3.68s\n",
      "20:\tlearn: 0.7028129\ttotal: 75.8ms\tremaining: 3.53s\n",
      "21:\tlearn: 0.6936416\ttotal: 76.7ms\tremaining: 3.41s\n",
      "22:\tlearn: 0.6823623\ttotal: 77.5ms\tremaining: 3.29s\n",
      "23:\tlearn: 0.6726510\ttotal: 78.3ms\tremaining: 3.18s\n",
      "24:\tlearn: 0.6632668\ttotal: 79ms\tremaining: 3.08s\n",
      "25:\tlearn: 0.6548992\ttotal: 79.7ms\tremaining: 2.99s\n",
      "26:\tlearn: 0.6458793\ttotal: 80.5ms\tremaining: 2.9s\n",
      "27:\tlearn: 0.6360893\ttotal: 81.2ms\tremaining: 2.82s\n",
      "28:\tlearn: 0.6276080\ttotal: 81.9ms\tremaining: 2.74s\n",
      "29:\tlearn: 0.6170109\ttotal: 82.7ms\tremaining: 2.67s\n",
      "30:\tlearn: 0.6069850\ttotal: 83.5ms\tremaining: 2.61s\n",
      "31:\tlearn: 0.5985265\ttotal: 84.4ms\tremaining: 2.55s\n",
      "32:\tlearn: 0.5916308\ttotal: 85.3ms\tremaining: 2.5s\n",
      "33:\tlearn: 0.5842098\ttotal: 86.1ms\tremaining: 2.45s\n",
      "34:\tlearn: 0.5771683\ttotal: 87ms\tremaining: 2.4s\n",
      "35:\tlearn: 0.5699396\ttotal: 87.9ms\tremaining: 2.35s\n",
      "36:\tlearn: 0.5637679\ttotal: 88.8ms\tremaining: 2.31s\n",
      "37:\tlearn: 0.5565796\ttotal: 89.7ms\tremaining: 2.27s\n",
      "38:\tlearn: 0.5492948\ttotal: 90.7ms\tremaining: 2.23s\n",
      "39:\tlearn: 0.5417855\ttotal: 91.5ms\tremaining: 2.2s\n",
      "40:\tlearn: 0.5353836\ttotal: 92.6ms\tremaining: 2.16s\n",
      "41:\tlearn: 0.5297086\ttotal: 93.5ms\tremaining: 2.13s\n",
      "42:\tlearn: 0.5246250\ttotal: 94.3ms\tremaining: 2.1s\n",
      "43:\tlearn: 0.5178502\ttotal: 95ms\tremaining: 2.06s\n",
      "44:\tlearn: 0.5122182\ttotal: 95.7ms\tremaining: 2.03s\n",
      "45:\tlearn: 0.5067527\ttotal: 96.4ms\tremaining: 2s\n",
      "46:\tlearn: 0.5009072\ttotal: 97.1ms\tremaining: 1.97s\n",
      "47:\tlearn: 0.4949405\ttotal: 97.9ms\tremaining: 1.94s\n",
      "48:\tlearn: 0.4908545\ttotal: 98.8ms\tremaining: 1.92s\n",
      "49:\tlearn: 0.4861836\ttotal: 99.7ms\tremaining: 1.9s\n",
      "50:\tlearn: 0.4804796\ttotal: 101ms\tremaining: 1.88s\n",
      "51:\tlearn: 0.4761353\ttotal: 102ms\tremaining: 1.86s\n",
      "52:\tlearn: 0.4707589\ttotal: 103ms\tremaining: 1.84s\n",
      "53:\tlearn: 0.4671551\ttotal: 104ms\tremaining: 1.81s\n",
      "54:\tlearn: 0.4620813\ttotal: 104ms\tremaining: 1.79s\n",
      "55:\tlearn: 0.4584643\ttotal: 105ms\tremaining: 1.78s\n",
      "56:\tlearn: 0.4550730\ttotal: 106ms\tremaining: 1.76s\n",
      "57:\tlearn: 0.4505990\ttotal: 107ms\tremaining: 1.74s\n",
      "58:\tlearn: 0.4472980\ttotal: 108ms\tremaining: 1.72s\n"
     ]
    },
    {
     "name": "stdout",
     "output_type": "stream",
     "text": [
      "59:\tlearn: 0.4423038\ttotal: 109ms\tremaining: 1.71s\n",
      "60:\tlearn: 0.4378398\ttotal: 110ms\tremaining: 1.7s\n",
      "61:\tlearn: 0.4330745\ttotal: 111ms\tremaining: 1.68s\n",
      "62:\tlearn: 0.4300048\ttotal: 112ms\tremaining: 1.67s\n",
      "63:\tlearn: 0.4264651\ttotal: 113ms\tremaining: 1.65s\n",
      "64:\tlearn: 0.4227543\ttotal: 114ms\tremaining: 1.64s\n",
      "65:\tlearn: 0.4179240\ttotal: 116ms\tremaining: 1.64s\n",
      "66:\tlearn: 0.4139864\ttotal: 116ms\tremaining: 1.62s\n",
      "67:\tlearn: 0.4114841\ttotal: 117ms\tremaining: 1.6s\n",
      "68:\tlearn: 0.4081288\ttotal: 118ms\tremaining: 1.59s\n",
      "69:\tlearn: 0.4044178\ttotal: 119ms\tremaining: 1.57s\n",
      "70:\tlearn: 0.4007319\ttotal: 119ms\tremaining: 1.56s\n",
      "71:\tlearn: 0.3983077\ttotal: 120ms\tremaining: 1.55s\n",
      "72:\tlearn: 0.3951797\ttotal: 121ms\tremaining: 1.54s\n",
      "73:\tlearn: 0.3916209\ttotal: 122ms\tremaining: 1.52s\n",
      "74:\tlearn: 0.3886197\ttotal: 123ms\tremaining: 1.51s\n",
      "75:\tlearn: 0.3851451\ttotal: 124ms\tremaining: 1.51s\n",
      "76:\tlearn: 0.3826048\ttotal: 125ms\tremaining: 1.5s\n",
      "77:\tlearn: 0.3801301\ttotal: 126ms\tremaining: 1.49s\n",
      "78:\tlearn: 0.3780983\ttotal: 127ms\tremaining: 1.48s\n",
      "79:\tlearn: 0.3754310\ttotal: 128ms\tremaining: 1.47s\n",
      "80:\tlearn: 0.3729728\ttotal: 129ms\tremaining: 1.46s\n",
      "81:\tlearn: 0.3702366\ttotal: 130ms\tremaining: 1.45s\n",
      "82:\tlearn: 0.3669282\ttotal: 130ms\tremaining: 1.44s\n",
      "83:\tlearn: 0.3649258\ttotal: 131ms\tremaining: 1.43s\n",
      "84:\tlearn: 0.3623002\ttotal: 132ms\tremaining: 1.42s\n",
      "85:\tlearn: 0.3589829\ttotal: 133ms\tremaining: 1.41s\n",
      "86:\tlearn: 0.3568280\ttotal: 134ms\tremaining: 1.41s\n",
      "87:\tlearn: 0.3546253\ttotal: 135ms\tremaining: 1.4s\n",
      "88:\tlearn: 0.3526604\ttotal: 136ms\tremaining: 1.39s\n",
      "89:\tlearn: 0.3504221\ttotal: 137ms\tremaining: 1.38s\n",
      "90:\tlearn: 0.3477405\ttotal: 138ms\tremaining: 1.37s\n",
      "91:\tlearn: 0.3457518\ttotal: 138ms\tremaining: 1.36s\n",
      "92:\tlearn: 0.3439892\ttotal: 139ms\tremaining: 1.36s\n",
      "93:\tlearn: 0.3421289\ttotal: 140ms\tremaining: 1.35s\n",
      "94:\tlearn: 0.3394341\ttotal: 141ms\tremaining: 1.34s\n",
      "95:\tlearn: 0.3377262\ttotal: 142ms\tremaining: 1.34s\n",
      "96:\tlearn: 0.3363722\ttotal: 143ms\tremaining: 1.33s\n",
      "97:\tlearn: 0.3350424\ttotal: 144ms\tremaining: 1.32s\n",
      "98:\tlearn: 0.3329531\ttotal: 145ms\tremaining: 1.32s\n",
      "99:\tlearn: 0.3310098\ttotal: 145ms\tremaining: 1.31s\n",
      "100:\tlearn: 0.3295119\ttotal: 146ms\tremaining: 1.3s\n",
      "101:\tlearn: 0.3278271\ttotal: 147ms\tremaining: 1.29s\n",
      "102:\tlearn: 0.3264701\ttotal: 148ms\tremaining: 1.29s\n",
      "103:\tlearn: 0.3246741\ttotal: 149ms\tremaining: 1.28s\n",
      "104:\tlearn: 0.3226397\ttotal: 150ms\tremaining: 1.28s\n",
      "105:\tlearn: 0.3208402\ttotal: 151ms\tremaining: 1.27s\n",
      "106:\tlearn: 0.3186185\ttotal: 152ms\tremaining: 1.26s\n",
      "107:\tlearn: 0.3169090\ttotal: 153ms\tremaining: 1.26s\n",
      "108:\tlearn: 0.3154553\ttotal: 154ms\tremaining: 1.25s\n",
      "109:\tlearn: 0.3138968\ttotal: 154ms\tremaining: 1.25s\n",
      "110:\tlearn: 0.3123494\ttotal: 155ms\tremaining: 1.24s\n",
      "111:\tlearn: 0.3107802\ttotal: 156ms\tremaining: 1.24s\n",
      "112:\tlearn: 0.3092355\ttotal: 157ms\tremaining: 1.23s\n",
      "113:\tlearn: 0.3081225\ttotal: 158ms\tremaining: 1.23s\n",
      "114:\tlearn: 0.3063898\ttotal: 159ms\tremaining: 1.22s\n",
      "115:\tlearn: 0.3051185\ttotal: 159ms\tremaining: 1.21s\n",
      "116:\tlearn: 0.3037538\ttotal: 160ms\tremaining: 1.21s\n",
      "117:\tlearn: 0.3026443\ttotal: 161ms\tremaining: 1.2s\n",
      "118:\tlearn: 0.3012539\ttotal: 162ms\tremaining: 1.2s\n",
      "119:\tlearn: 0.3004689\ttotal: 162ms\tremaining: 1.19s\n",
      "120:\tlearn: 0.2991566\ttotal: 163ms\tremaining: 1.19s\n",
      "121:\tlearn: 0.2980221\ttotal: 164ms\tremaining: 1.18s\n",
      "122:\tlearn: 0.2969273\ttotal: 165ms\tremaining: 1.18s\n",
      "123:\tlearn: 0.2952471\ttotal: 166ms\tremaining: 1.17s\n",
      "124:\tlearn: 0.2938069\ttotal: 167ms\tremaining: 1.17s\n",
      "125:\tlearn: 0.2927152\ttotal: 168ms\tremaining: 1.16s\n",
      "126:\tlearn: 0.2914919\ttotal: 169ms\tremaining: 1.16s\n",
      "127:\tlearn: 0.2901588\ttotal: 169ms\tremaining: 1.15s\n",
      "128:\tlearn: 0.2890228\ttotal: 170ms\tremaining: 1.15s\n",
      "129:\tlearn: 0.2877522\ttotal: 171ms\tremaining: 1.14s\n",
      "130:\tlearn: 0.2866598\ttotal: 172ms\tremaining: 1.14s\n",
      "131:\tlearn: 0.2855959\ttotal: 173ms\tremaining: 1.14s\n",
      "132:\tlearn: 0.2844783\ttotal: 174ms\tremaining: 1.13s\n",
      "133:\tlearn: 0.2833978\ttotal: 174ms\tremaining: 1.13s\n",
      "134:\tlearn: 0.2823299\ttotal: 175ms\tremaining: 1.12s\n",
      "135:\tlearn: 0.2809776\ttotal: 176ms\tremaining: 1.12s\n",
      "136:\tlearn: 0.2799498\ttotal: 177ms\tremaining: 1.11s\n",
      "137:\tlearn: 0.2786257\ttotal: 177ms\tremaining: 1.11s\n",
      "138:\tlearn: 0.2773432\ttotal: 178ms\tremaining: 1.1s\n",
      "139:\tlearn: 0.2764417\ttotal: 179ms\tremaining: 1.1s\n",
      "140:\tlearn: 0.2757935\ttotal: 180ms\tremaining: 1.1s\n",
      "141:\tlearn: 0.2746560\ttotal: 181ms\tremaining: 1.09s\n",
      "142:\tlearn: 0.2735866\ttotal: 182ms\tremaining: 1.09s\n",
      "143:\tlearn: 0.2723291\ttotal: 183ms\tremaining: 1.09s\n",
      "144:\tlearn: 0.2710357\ttotal: 184ms\tremaining: 1.08s\n",
      "145:\tlearn: 0.2698753\ttotal: 184ms\tremaining: 1.08s\n",
      "146:\tlearn: 0.2688941\ttotal: 185ms\tremaining: 1.07s\n",
      "147:\tlearn: 0.2679753\ttotal: 186ms\tremaining: 1.07s\n",
      "148:\tlearn: 0.2669976\ttotal: 187ms\tremaining: 1.07s\n",
      "149:\tlearn: 0.2662720\ttotal: 188ms\tremaining: 1.06s\n",
      "150:\tlearn: 0.2653910\ttotal: 189ms\tremaining: 1.06s\n",
      "151:\tlearn: 0.2645806\ttotal: 189ms\tremaining: 1.06s\n",
      "152:\tlearn: 0.2637339\ttotal: 190ms\tremaining: 1.05s\n",
      "153:\tlearn: 0.2631177\ttotal: 191ms\tremaining: 1.05s\n"
     ]
    },
    {
     "name": "stdout",
     "output_type": "stream",
     "text": [
      "154:\tlearn: 0.2621478\ttotal: 192ms\tremaining: 1.05s\n",
      "155:\tlearn: 0.2613554\ttotal: 193ms\tremaining: 1.04s\n",
      "156:\tlearn: 0.2603088\ttotal: 194ms\tremaining: 1.04s\n",
      "157:\tlearn: 0.2593478\ttotal: 195ms\tremaining: 1.04s\n",
      "158:\tlearn: 0.2585053\ttotal: 196ms\tremaining: 1.03s\n",
      "159:\tlearn: 0.2575493\ttotal: 196ms\tremaining: 1.03s\n",
      "160:\tlearn: 0.2567676\ttotal: 197ms\tremaining: 1.03s\n",
      "161:\tlearn: 0.2556122\ttotal: 198ms\tremaining: 1.02s\n",
      "162:\tlearn: 0.2551336\ttotal: 199ms\tremaining: 1.02s\n",
      "163:\tlearn: 0.2544170\ttotal: 200ms\tremaining: 1.02s\n",
      "164:\tlearn: 0.2536168\ttotal: 200ms\tremaining: 1.01s\n",
      "165:\tlearn: 0.2527050\ttotal: 201ms\tremaining: 1.01s\n",
      "166:\tlearn: 0.2522744\ttotal: 202ms\tremaining: 1.01s\n",
      "167:\tlearn: 0.2508612\ttotal: 203ms\tremaining: 1s\n",
      "168:\tlearn: 0.2501133\ttotal: 204ms\tremaining: 1s\n",
      "169:\tlearn: 0.2495768\ttotal: 205ms\tremaining: 998ms\n",
      "170:\tlearn: 0.2487230\ttotal: 205ms\tremaining: 995ms\n",
      "171:\tlearn: 0.2479965\ttotal: 206ms\tremaining: 993ms\n",
      "172:\tlearn: 0.2471687\ttotal: 207ms\tremaining: 990ms\n",
      "173:\tlearn: 0.2466496\ttotal: 208ms\tremaining: 987ms\n",
      "174:\tlearn: 0.2457634\ttotal: 209ms\tremaining: 984ms\n",
      "175:\tlearn: 0.2452443\ttotal: 210ms\tremaining: 981ms\n",
      "176:\tlearn: 0.2445511\ttotal: 210ms\tremaining: 978ms\n",
      "177:\tlearn: 0.2437492\ttotal: 211ms\tremaining: 976ms\n",
      "178:\tlearn: 0.2430752\ttotal: 212ms\tremaining: 974ms\n",
      "179:\tlearn: 0.2425627\ttotal: 213ms\tremaining: 971ms\n",
      "180:\tlearn: 0.2417114\ttotal: 214ms\tremaining: 968ms\n",
      "181:\tlearn: 0.2411840\ttotal: 215ms\tremaining: 966ms\n",
      "182:\tlearn: 0.2406430\ttotal: 216ms\tremaining: 963ms\n",
      "183:\tlearn: 0.2402502\ttotal: 216ms\tremaining: 960ms\n",
      "184:\tlearn: 0.2393950\ttotal: 217ms\tremaining: 957ms\n",
      "185:\tlearn: 0.2384813\ttotal: 218ms\tremaining: 955ms\n",
      "186:\tlearn: 0.2379570\ttotal: 219ms\tremaining: 952ms\n",
      "187:\tlearn: 0.2371615\ttotal: 220ms\tremaining: 949ms\n",
      "188:\tlearn: 0.2363747\ttotal: 221ms\tremaining: 946ms\n",
      "189:\tlearn: 0.2356363\ttotal: 221ms\tremaining: 943ms\n",
      "190:\tlearn: 0.2350497\ttotal: 222ms\tremaining: 940ms\n",
      "191:\tlearn: 0.2342415\ttotal: 223ms\tremaining: 938ms\n",
      "192:\tlearn: 0.2336493\ttotal: 224ms\tremaining: 935ms\n",
      "193:\tlearn: 0.2331454\ttotal: 224ms\tremaining: 932ms\n",
      "194:\tlearn: 0.2324815\ttotal: 225ms\tremaining: 930ms\n",
      "195:\tlearn: 0.2318156\ttotal: 226ms\tremaining: 927ms\n",
      "196:\tlearn: 0.2313779\ttotal: 227ms\tremaining: 924ms\n",
      "197:\tlearn: 0.2307606\ttotal: 228ms\tremaining: 922ms\n",
      "198:\tlearn: 0.2301047\ttotal: 228ms\tremaining: 920ms\n",
      "199:\tlearn: 0.2293378\ttotal: 229ms\tremaining: 917ms\n",
      "200:\tlearn: 0.2289273\ttotal: 230ms\tremaining: 915ms\n",
      "201:\tlearn: 0.2283002\ttotal: 231ms\tremaining: 913ms\n",
      "202:\tlearn: 0.2276684\ttotal: 232ms\tremaining: 911ms\n",
      "203:\tlearn: 0.2270307\ttotal: 233ms\tremaining: 909ms\n",
      "204:\tlearn: 0.2265256\ttotal: 234ms\tremaining: 907ms\n",
      "205:\tlearn: 0.2259608\ttotal: 236ms\tremaining: 911ms\n",
      "206:\tlearn: 0.2254047\ttotal: 239ms\tremaining: 914ms\n",
      "207:\tlearn: 0.2249810\ttotal: 242ms\tremaining: 922ms\n",
      "208:\tlearn: 0.2243789\ttotal: 245ms\tremaining: 926ms\n",
      "209:\tlearn: 0.2237198\ttotal: 246ms\tremaining: 924ms\n",
      "210:\tlearn: 0.2230621\ttotal: 246ms\tremaining: 922ms\n",
      "211:\tlearn: 0.2223115\ttotal: 247ms\tremaining: 919ms\n",
      "212:\tlearn: 0.2218492\ttotal: 248ms\tremaining: 917ms\n",
      "213:\tlearn: 0.2213266\ttotal: 249ms\tremaining: 915ms\n",
      "214:\tlearn: 0.2206890\ttotal: 250ms\tremaining: 914ms\n",
      "215:\tlearn: 0.2201464\ttotal: 252ms\tremaining: 913ms\n",
      "216:\tlearn: 0.2197750\ttotal: 253ms\tremaining: 913ms\n",
      "217:\tlearn: 0.2193101\ttotal: 254ms\tremaining: 912ms\n",
      "218:\tlearn: 0.2187177\ttotal: 255ms\tremaining: 911ms\n",
      "219:\tlearn: 0.2183118\ttotal: 257ms\tremaining: 911ms\n",
      "220:\tlearn: 0.2175550\ttotal: 258ms\tremaining: 911ms\n",
      "221:\tlearn: 0.2169070\ttotal: 260ms\tremaining: 911ms\n",
      "222:\tlearn: 0.2165023\ttotal: 261ms\tremaining: 911ms\n",
      "223:\tlearn: 0.2158659\ttotal: 263ms\tremaining: 910ms\n",
      "224:\tlearn: 0.2150961\ttotal: 264ms\tremaining: 908ms\n",
      "225:\tlearn: 0.2144795\ttotal: 265ms\tremaining: 907ms\n",
      "226:\tlearn: 0.2137196\ttotal: 266ms\tremaining: 905ms\n",
      "227:\tlearn: 0.2132954\ttotal: 267ms\tremaining: 903ms\n",
      "228:\tlearn: 0.2126488\ttotal: 268ms\tremaining: 901ms\n",
      "229:\tlearn: 0.2120980\ttotal: 269ms\tremaining: 900ms\n",
      "230:\tlearn: 0.2115464\ttotal: 270ms\tremaining: 898ms\n",
      "231:\tlearn: 0.2112097\ttotal: 271ms\tremaining: 896ms\n",
      "232:\tlearn: 0.2107975\ttotal: 272ms\tremaining: 894ms\n",
      "233:\tlearn: 0.2101164\ttotal: 273ms\tremaining: 892ms\n",
      "234:\tlearn: 0.2098471\ttotal: 274ms\tremaining: 891ms\n",
      "235:\tlearn: 0.2092281\ttotal: 275ms\tremaining: 889ms\n",
      "236:\tlearn: 0.2087346\ttotal: 276ms\tremaining: 888ms\n",
      "237:\tlearn: 0.2083234\ttotal: 277ms\tremaining: 886ms\n",
      "238:\tlearn: 0.2080239\ttotal: 277ms\tremaining: 883ms\n",
      "239:\tlearn: 0.2073323\ttotal: 278ms\tremaining: 882ms\n",
      "240:\tlearn: 0.2070495\ttotal: 279ms\tremaining: 879ms\n",
      "241:\tlearn: 0.2065326\ttotal: 280ms\tremaining: 877ms\n",
      "242:\tlearn: 0.2062001\ttotal: 281ms\tremaining: 875ms\n",
      "243:\tlearn: 0.2055694\ttotal: 282ms\tremaining: 873ms\n",
      "244:\tlearn: 0.2051781\ttotal: 283ms\tremaining: 871ms\n",
      "245:\tlearn: 0.2048159\ttotal: 283ms\tremaining: 869ms\n",
      "246:\tlearn: 0.2045515\ttotal: 285ms\tremaining: 868ms\n",
      "247:\tlearn: 0.2038769\ttotal: 285ms\tremaining: 866ms\n",
      "248:\tlearn: 0.2033780\ttotal: 286ms\tremaining: 864ms\n",
      "249:\tlearn: 0.2027837\ttotal: 287ms\tremaining: 862ms\n",
      "250:\tlearn: 0.2022305\ttotal: 288ms\tremaining: 859ms\n",
      "251:\tlearn: 0.2017933\ttotal: 289ms\tremaining: 858ms\n",
      "252:\tlearn: 0.2014946\ttotal: 290ms\tremaining: 856ms\n",
      "253:\tlearn: 0.2011154\ttotal: 291ms\tremaining: 854ms\n",
      "254:\tlearn: 0.2003965\ttotal: 292ms\tremaining: 852ms\n",
      "255:\tlearn: 0.1998432\ttotal: 292ms\tremaining: 849ms\n",
      "256:\tlearn: 0.1992844\ttotal: 293ms\tremaining: 847ms\n",
      "257:\tlearn: 0.1986937\ttotal: 294ms\tremaining: 845ms\n",
      "258:\tlearn: 0.1981972\ttotal: 295ms\tremaining: 843ms\n",
      "259:\tlearn: 0.1975512\ttotal: 296ms\tremaining: 841ms\n",
      "260:\tlearn: 0.1970562\ttotal: 296ms\tremaining: 839ms\n",
      "261:\tlearn: 0.1966155\ttotal: 297ms\tremaining: 837ms\n"
     ]
    },
    {
     "name": "stdout",
     "output_type": "stream",
     "text": [
      "262:\tlearn: 0.1962028\ttotal: 298ms\tremaining: 836ms\n",
      "263:\tlearn: 0.1959724\ttotal: 300ms\tremaining: 835ms\n",
      "264:\tlearn: 0.1956062\ttotal: 301ms\tremaining: 834ms\n",
      "265:\tlearn: 0.1951501\ttotal: 301ms\tremaining: 832ms\n",
      "266:\tlearn: 0.1946756\ttotal: 302ms\tremaining: 830ms\n",
      "267:\tlearn: 0.1941793\ttotal: 303ms\tremaining: 828ms\n",
      "268:\tlearn: 0.1939731\ttotal: 304ms\tremaining: 826ms\n",
      "269:\tlearn: 0.1936580\ttotal: 305ms\tremaining: 824ms\n",
      "270:\tlearn: 0.1931357\ttotal: 306ms\tremaining: 822ms\n",
      "271:\tlearn: 0.1926421\ttotal: 307ms\tremaining: 820ms\n",
      "272:\tlearn: 0.1922271\ttotal: 307ms\tremaining: 819ms\n",
      "273:\tlearn: 0.1917661\ttotal: 308ms\tremaining: 817ms\n",
      "274:\tlearn: 0.1913457\ttotal: 309ms\tremaining: 816ms\n",
      "275:\tlearn: 0.1908435\ttotal: 310ms\tremaining: 814ms\n",
      "276:\tlearn: 0.1905410\ttotal: 311ms\tremaining: 812ms\n",
      "277:\tlearn: 0.1902005\ttotal: 312ms\tremaining: 810ms\n",
      "278:\tlearn: 0.1899254\ttotal: 313ms\tremaining: 808ms\n",
      "279:\tlearn: 0.1896858\ttotal: 314ms\tremaining: 806ms\n",
      "280:\tlearn: 0.1888917\ttotal: 314ms\tremaining: 804ms\n",
      "281:\tlearn: 0.1884628\ttotal: 315ms\tremaining: 803ms\n",
      "282:\tlearn: 0.1880467\ttotal: 316ms\tremaining: 801ms\n",
      "283:\tlearn: 0.1876391\ttotal: 317ms\tremaining: 799ms\n",
      "284:\tlearn: 0.1873504\ttotal: 318ms\tremaining: 798ms\n",
      "285:\tlearn: 0.1869263\ttotal: 319ms\tremaining: 796ms\n",
      "286:\tlearn: 0.1866593\ttotal: 320ms\tremaining: 794ms\n",
      "287:\tlearn: 0.1862412\ttotal: 321ms\tremaining: 792ms\n",
      "288:\tlearn: 0.1857530\ttotal: 321ms\tremaining: 791ms\n",
      "289:\tlearn: 0.1852470\ttotal: 322ms\tremaining: 789ms\n",
      "290:\tlearn: 0.1848162\ttotal: 323ms\tremaining: 787ms\n",
      "291:\tlearn: 0.1844898\ttotal: 324ms\tremaining: 785ms\n",
      "292:\tlearn: 0.1837048\ttotal: 325ms\tremaining: 783ms\n",
      "293:\tlearn: 0.1832005\ttotal: 326ms\tremaining: 782ms\n",
      "294:\tlearn: 0.1829485\ttotal: 327ms\tremaining: 781ms\n",
      "295:\tlearn: 0.1825446\ttotal: 328ms\tremaining: 779ms\n",
      "296:\tlearn: 0.1821819\ttotal: 328ms\tremaining: 778ms\n",
      "297:\tlearn: 0.1819483\ttotal: 329ms\tremaining: 776ms\n",
      "298:\tlearn: 0.1815835\ttotal: 330ms\tremaining: 774ms\n",
      "299:\tlearn: 0.1812346\ttotal: 331ms\tremaining: 772ms\n",
      "300:\tlearn: 0.1807755\ttotal: 332ms\tremaining: 771ms\n",
      "301:\tlearn: 0.1803964\ttotal: 333ms\tremaining: 769ms\n",
      "302:\tlearn: 0.1802531\ttotal: 334ms\tremaining: 767ms\n",
      "303:\tlearn: 0.1797568\ttotal: 335ms\tremaining: 766ms\n",
      "304:\tlearn: 0.1793959\ttotal: 336ms\tremaining: 766ms\n",
      "305:\tlearn: 0.1790181\ttotal: 337ms\tremaining: 764ms\n",
      "306:\tlearn: 0.1786874\ttotal: 338ms\tremaining: 762ms\n",
      "307:\tlearn: 0.1782836\ttotal: 339ms\tremaining: 761ms\n",
      "308:\tlearn: 0.1778409\ttotal: 340ms\tremaining: 759ms\n",
      "309:\tlearn: 0.1775059\ttotal: 340ms\tremaining: 758ms\n",
      "310:\tlearn: 0.1772752\ttotal: 341ms\tremaining: 756ms\n",
      "311:\tlearn: 0.1766459\ttotal: 342ms\tremaining: 755ms\n",
      "312:\tlearn: 0.1761181\ttotal: 343ms\tremaining: 753ms\n",
      "313:\tlearn: 0.1757174\ttotal: 344ms\tremaining: 751ms\n",
      "314:\tlearn: 0.1753725\ttotal: 345ms\tremaining: 749ms\n",
      "315:\tlearn: 0.1749284\ttotal: 345ms\tremaining: 748ms\n",
      "316:\tlearn: 0.1746588\ttotal: 346ms\tremaining: 746ms\n",
      "317:\tlearn: 0.1741959\ttotal: 347ms\tremaining: 745ms\n",
      "318:\tlearn: 0.1737714\ttotal: 348ms\tremaining: 743ms\n",
      "319:\tlearn: 0.1735056\ttotal: 349ms\tremaining: 742ms\n",
      "320:\tlearn: 0.1730793\ttotal: 350ms\tremaining: 740ms\n",
      "321:\tlearn: 0.1727708\ttotal: 351ms\tremaining: 738ms\n",
      "322:\tlearn: 0.1725473\ttotal: 352ms\tremaining: 737ms\n",
      "323:\tlearn: 0.1723890\ttotal: 353ms\tremaining: 736ms\n",
      "324:\tlearn: 0.1719927\ttotal: 353ms\tremaining: 734ms\n",
      "325:\tlearn: 0.1714619\ttotal: 354ms\tremaining: 732ms\n",
      "326:\tlearn: 0.1711753\ttotal: 355ms\tremaining: 730ms\n",
      "327:\tlearn: 0.1707869\ttotal: 356ms\tremaining: 730ms\n",
      "328:\tlearn: 0.1704360\ttotal: 357ms\tremaining: 728ms\n",
      "329:\tlearn: 0.1699460\ttotal: 358ms\tremaining: 727ms\n",
      "330:\tlearn: 0.1695315\ttotal: 359ms\tremaining: 725ms\n",
      "331:\tlearn: 0.1691558\ttotal: 360ms\tremaining: 723ms\n",
      "332:\tlearn: 0.1687298\ttotal: 360ms\tremaining: 722ms\n",
      "333:\tlearn: 0.1685286\ttotal: 362ms\tremaining: 722ms\n",
      "334:\tlearn: 0.1681863\ttotal: 363ms\tremaining: 721ms\n",
      "335:\tlearn: 0.1678567\ttotal: 364ms\tremaining: 719ms\n",
      "336:\tlearn: 0.1675151\ttotal: 365ms\tremaining: 718ms\n",
      "337:\tlearn: 0.1671881\ttotal: 366ms\tremaining: 716ms\n",
      "338:\tlearn: 0.1668436\ttotal: 367ms\tremaining: 715ms\n",
      "339:\tlearn: 0.1663517\ttotal: 367ms\tremaining: 713ms\n",
      "340:\tlearn: 0.1659657\ttotal: 368ms\tremaining: 712ms\n",
      "341:\tlearn: 0.1656628\ttotal: 369ms\tremaining: 710ms\n",
      "342:\tlearn: 0.1653090\ttotal: 370ms\tremaining: 709ms\n",
      "343:\tlearn: 0.1649128\ttotal: 371ms\tremaining: 707ms\n",
      "344:\tlearn: 0.1646401\ttotal: 372ms\tremaining: 706ms\n",
      "345:\tlearn: 0.1641029\ttotal: 373ms\tremaining: 704ms\n",
      "346:\tlearn: 0.1638367\ttotal: 374ms\tremaining: 703ms\n",
      "347:\tlearn: 0.1634697\ttotal: 374ms\tremaining: 702ms\n",
      "348:\tlearn: 0.1632710\ttotal: 375ms\tremaining: 700ms\n",
      "349:\tlearn: 0.1629792\ttotal: 376ms\tremaining: 698ms\n",
      "350:\tlearn: 0.1626799\ttotal: 377ms\tremaining: 697ms\n",
      "351:\tlearn: 0.1625483\ttotal: 378ms\tremaining: 695ms\n",
      "352:\tlearn: 0.1622794\ttotal: 379ms\tremaining: 694ms\n",
      "353:\tlearn: 0.1619603\ttotal: 380ms\tremaining: 693ms\n"
     ]
    },
    {
     "name": "stdout",
     "output_type": "stream",
     "text": [
      "354:\tlearn: 0.1616323\ttotal: 381ms\tremaining: 691ms\n",
      "355:\tlearn: 0.1613022\ttotal: 381ms\tremaining: 690ms\n",
      "356:\tlearn: 0.1610572\ttotal: 382ms\tremaining: 689ms\n",
      "357:\tlearn: 0.1606669\ttotal: 383ms\tremaining: 687ms\n",
      "358:\tlearn: 0.1603635\ttotal: 384ms\tremaining: 686ms\n",
      "359:\tlearn: 0.1602199\ttotal: 385ms\tremaining: 685ms\n",
      "360:\tlearn: 0.1599726\ttotal: 386ms\tremaining: 683ms\n",
      "361:\tlearn: 0.1598200\ttotal: 387ms\tremaining: 682ms\n",
      "362:\tlearn: 0.1595749\ttotal: 388ms\tremaining: 680ms\n",
      "363:\tlearn: 0.1594217\ttotal: 388ms\tremaining: 679ms\n",
      "364:\tlearn: 0.1592604\ttotal: 389ms\tremaining: 677ms\n",
      "365:\tlearn: 0.1590804\ttotal: 390ms\tremaining: 676ms\n",
      "366:\tlearn: 0.1587376\ttotal: 391ms\tremaining: 674ms\n",
      "367:\tlearn: 0.1586219\ttotal: 392ms\tremaining: 673ms\n",
      "368:\tlearn: 0.1581259\ttotal: 393ms\tremaining: 671ms\n",
      "369:\tlearn: 0.1577050\ttotal: 393ms\tremaining: 670ms\n",
      "370:\tlearn: 0.1572379\ttotal: 394ms\tremaining: 669ms\n",
      "371:\tlearn: 0.1570014\ttotal: 395ms\tremaining: 667ms\n",
      "372:\tlearn: 0.1565333\ttotal: 396ms\tremaining: 666ms\n",
      "373:\tlearn: 0.1564437\ttotal: 397ms\tremaining: 664ms\n",
      "374:\tlearn: 0.1562315\ttotal: 398ms\tremaining: 663ms\n",
      "375:\tlearn: 0.1558801\ttotal: 399ms\tremaining: 662ms\n",
      "376:\tlearn: 0.1555200\ttotal: 399ms\tremaining: 660ms\n",
      "377:\tlearn: 0.1553662\ttotal: 400ms\tremaining: 659ms\n",
      "378:\tlearn: 0.1552579\ttotal: 401ms\tremaining: 657ms\n",
      "379:\tlearn: 0.1550903\ttotal: 402ms\tremaining: 656ms\n",
      "380:\tlearn: 0.1548163\ttotal: 403ms\tremaining: 654ms\n",
      "381:\tlearn: 0.1547219\ttotal: 404ms\tremaining: 653ms\n",
      "382:\tlearn: 0.1544362\ttotal: 405ms\tremaining: 652ms\n",
      "383:\tlearn: 0.1540710\ttotal: 405ms\tremaining: 650ms\n",
      "384:\tlearn: 0.1539121\ttotal: 406ms\tremaining: 649ms\n",
      "385:\tlearn: 0.1534920\ttotal: 407ms\tremaining: 648ms\n",
      "386:\tlearn: 0.1529269\ttotal: 408ms\tremaining: 646ms\n",
      "387:\tlearn: 0.1525458\ttotal: 409ms\tremaining: 645ms\n",
      "388:\tlearn: 0.1520864\ttotal: 410ms\tremaining: 643ms\n",
      "389:\tlearn: 0.1518398\ttotal: 411ms\tremaining: 643ms\n",
      "390:\tlearn: 0.1515269\ttotal: 412ms\tremaining: 641ms\n",
      "391:\tlearn: 0.1511322\ttotal: 413ms\tremaining: 640ms\n",
      "392:\tlearn: 0.1507731\ttotal: 414ms\tremaining: 639ms\n",
      "393:\tlearn: 0.1503692\ttotal: 415ms\tremaining: 638ms\n",
      "394:\tlearn: 0.1501191\ttotal: 415ms\tremaining: 636ms\n",
      "395:\tlearn: 0.1498348\ttotal: 416ms\tremaining: 635ms\n",
      "396:\tlearn: 0.1495292\ttotal: 417ms\tremaining: 634ms\n",
      "397:\tlearn: 0.1491231\ttotal: 418ms\tremaining: 632ms\n",
      "398:\tlearn: 0.1487702\ttotal: 419ms\tremaining: 631ms\n",
      "399:\tlearn: 0.1484968\ttotal: 420ms\tremaining: 630ms\n",
      "400:\tlearn: 0.1481897\ttotal: 421ms\tremaining: 628ms\n",
      "401:\tlearn: 0.1477057\ttotal: 422ms\tremaining: 627ms\n",
      "402:\tlearn: 0.1472622\ttotal: 422ms\tremaining: 626ms\n",
      "403:\tlearn: 0.1469451\ttotal: 423ms\tremaining: 624ms\n",
      "404:\tlearn: 0.1466596\ttotal: 424ms\tremaining: 623ms\n",
      "405:\tlearn: 0.1463260\ttotal: 425ms\tremaining: 622ms\n",
      "406:\tlearn: 0.1460788\ttotal: 426ms\tremaining: 621ms\n",
      "407:\tlearn: 0.1458314\ttotal: 427ms\tremaining: 620ms\n",
      "408:\tlearn: 0.1456599\ttotal: 428ms\tremaining: 618ms\n",
      "409:\tlearn: 0.1451768\ttotal: 429ms\tremaining: 617ms\n",
      "410:\tlearn: 0.1450834\ttotal: 430ms\tremaining: 616ms\n",
      "411:\tlearn: 0.1448602\ttotal: 430ms\tremaining: 614ms\n",
      "412:\tlearn: 0.1445736\ttotal: 431ms\tremaining: 613ms\n",
      "413:\tlearn: 0.1444170\ttotal: 432ms\tremaining: 611ms\n",
      "414:\tlearn: 0.1440735\ttotal: 433ms\tremaining: 610ms\n",
      "415:\tlearn: 0.1439756\ttotal: 433ms\tremaining: 608ms\n",
      "416:\tlearn: 0.1436957\ttotal: 434ms\tremaining: 607ms\n",
      "417:\tlearn: 0.1434299\ttotal: 435ms\tremaining: 606ms\n",
      "418:\tlearn: 0.1431814\ttotal: 436ms\tremaining: 604ms\n",
      "419:\tlearn: 0.1430752\ttotal: 437ms\tremaining: 603ms\n",
      "420:\tlearn: 0.1428310\ttotal: 438ms\tremaining: 602ms\n",
      "421:\tlearn: 0.1425827\ttotal: 438ms\tremaining: 601ms\n",
      "422:\tlearn: 0.1422687\ttotal: 439ms\tremaining: 599ms\n",
      "423:\tlearn: 0.1420444\ttotal: 440ms\tremaining: 598ms\n",
      "424:\tlearn: 0.1416314\ttotal: 441ms\tremaining: 597ms\n",
      "425:\tlearn: 0.1413667\ttotal: 442ms\tremaining: 595ms\n",
      "426:\tlearn: 0.1411829\ttotal: 443ms\tremaining: 594ms\n",
      "427:\tlearn: 0.1409159\ttotal: 443ms\tremaining: 593ms\n",
      "428:\tlearn: 0.1408125\ttotal: 444ms\tremaining: 591ms\n",
      "429:\tlearn: 0.1404807\ttotal: 445ms\tremaining: 590ms\n",
      "430:\tlearn: 0.1401136\ttotal: 446ms\tremaining: 589ms\n",
      "431:\tlearn: 0.1398482\ttotal: 447ms\tremaining: 587ms\n",
      "432:\tlearn: 0.1396316\ttotal: 448ms\tremaining: 586ms\n",
      "433:\tlearn: 0.1394065\ttotal: 448ms\tremaining: 585ms\n",
      "434:\tlearn: 0.1391716\ttotal: 449ms\tremaining: 583ms\n",
      "435:\tlearn: 0.1389191\ttotal: 450ms\tremaining: 582ms\n",
      "436:\tlearn: 0.1387149\ttotal: 451ms\tremaining: 581ms\n",
      "437:\tlearn: 0.1384742\ttotal: 452ms\tremaining: 580ms\n",
      "438:\tlearn: 0.1383381\ttotal: 453ms\tremaining: 578ms\n",
      "439:\tlearn: 0.1381150\ttotal: 453ms\tremaining: 577ms\n",
      "440:\tlearn: 0.1377872\ttotal: 454ms\tremaining: 576ms\n",
      "441:\tlearn: 0.1374884\ttotal: 455ms\tremaining: 575ms\n",
      "442:\tlearn: 0.1372345\ttotal: 456ms\tremaining: 573ms\n",
      "443:\tlearn: 0.1369796\ttotal: 457ms\tremaining: 572ms\n",
      "444:\tlearn: 0.1368886\ttotal: 458ms\tremaining: 571ms\n",
      "445:\tlearn: 0.1364707\ttotal: 459ms\tremaining: 570ms\n",
      "446:\tlearn: 0.1362291\ttotal: 459ms\tremaining: 568ms\n",
      "447:\tlearn: 0.1361597\ttotal: 460ms\tremaining: 567ms\n",
      "448:\tlearn: 0.1358711\ttotal: 461ms\tremaining: 566ms\n",
      "449:\tlearn: 0.1356435\ttotal: 462ms\tremaining: 564ms\n",
      "450:\tlearn: 0.1354626\ttotal: 463ms\tremaining: 563ms\n",
      "451:\tlearn: 0.1353716\ttotal: 463ms\tremaining: 562ms\n",
      "452:\tlearn: 0.1352809\ttotal: 464ms\tremaining: 560ms\n",
      "453:\tlearn: 0.1350410\ttotal: 465ms\tremaining: 559ms\n",
      "454:\tlearn: 0.1348342\ttotal: 466ms\tremaining: 558ms\n",
      "455:\tlearn: 0.1347514\ttotal: 467ms\tremaining: 557ms\n",
      "456:\tlearn: 0.1344117\ttotal: 467ms\tremaining: 555ms\n",
      "457:\tlearn: 0.1341709\ttotal: 468ms\tremaining: 554ms\n",
      "458:\tlearn: 0.1340149\ttotal: 469ms\tremaining: 553ms\n",
      "459:\tlearn: 0.1337845\ttotal: 470ms\tremaining: 552ms\n",
      "460:\tlearn: 0.1334632\ttotal: 471ms\tremaining: 551ms\n",
      "461:\tlearn: 0.1332897\ttotal: 472ms\tremaining: 549ms\n",
      "462:\tlearn: 0.1330464\ttotal: 473ms\tremaining: 548ms\n",
      "463:\tlearn: 0.1327165\ttotal: 473ms\tremaining: 547ms\n",
      "464:\tlearn: 0.1325400\ttotal: 474ms\tremaining: 546ms\n",
      "465:\tlearn: 0.1323627\ttotal: 475ms\tremaining: 544ms\n",
      "466:\tlearn: 0.1321811\ttotal: 476ms\tremaining: 543ms\n",
      "467:\tlearn: 0.1319315\ttotal: 477ms\tremaining: 542ms\n",
      "468:\tlearn: 0.1316128\ttotal: 478ms\tremaining: 541ms\n",
      "469:\tlearn: 0.1314066\ttotal: 479ms\tremaining: 540ms\n",
      "470:\tlearn: 0.1311290\ttotal: 479ms\tremaining: 538ms\n",
      "471:\tlearn: 0.1308136\ttotal: 480ms\tremaining: 537ms\n",
      "472:\tlearn: 0.1306258\ttotal: 481ms\tremaining: 536ms\n",
      "473:\tlearn: 0.1304315\ttotal: 482ms\tremaining: 535ms\n",
      "474:\tlearn: 0.1301494\ttotal: 483ms\tremaining: 534ms\n",
      "475:\tlearn: 0.1298029\ttotal: 484ms\tremaining: 532ms\n",
      "476:\tlearn: 0.1296955\ttotal: 484ms\tremaining: 531ms\n",
      "477:\tlearn: 0.1294675\ttotal: 485ms\tremaining: 530ms\n",
      "478:\tlearn: 0.1292309\ttotal: 486ms\tremaining: 529ms\n",
      "479:\tlearn: 0.1290197\ttotal: 487ms\tremaining: 527ms\n",
      "480:\tlearn: 0.1288019\ttotal: 487ms\tremaining: 526ms\n"
     ]
    },
    {
     "name": "stdout",
     "output_type": "stream",
     "text": [
      "481:\tlearn: 0.1287199\ttotal: 488ms\tremaining: 525ms\n",
      "482:\tlearn: 0.1285208\ttotal: 489ms\tremaining: 524ms\n",
      "483:\tlearn: 0.1283196\ttotal: 490ms\tremaining: 523ms\n",
      "484:\tlearn: 0.1280838\ttotal: 491ms\tremaining: 522ms\n",
      "485:\tlearn: 0.1278403\ttotal: 492ms\tremaining: 520ms\n",
      "486:\tlearn: 0.1275994\ttotal: 493ms\tremaining: 519ms\n",
      "487:\tlearn: 0.1272609\ttotal: 494ms\tremaining: 518ms\n",
      "488:\tlearn: 0.1270834\ttotal: 494ms\tremaining: 517ms\n",
      "489:\tlearn: 0.1269714\ttotal: 495ms\tremaining: 515ms\n",
      "490:\tlearn: 0.1266456\ttotal: 496ms\tremaining: 514ms\n",
      "491:\tlearn: 0.1264443\ttotal: 497ms\tremaining: 513ms\n",
      "492:\tlearn: 0.1262964\ttotal: 497ms\tremaining: 512ms\n",
      "493:\tlearn: 0.1261886\ttotal: 498ms\tremaining: 510ms\n",
      "494:\tlearn: 0.1259706\ttotal: 499ms\tremaining: 509ms\n",
      "495:\tlearn: 0.1258610\ttotal: 500ms\tremaining: 508ms\n",
      "496:\tlearn: 0.1256634\ttotal: 501ms\tremaining: 507ms\n",
      "497:\tlearn: 0.1254174\ttotal: 502ms\tremaining: 506ms\n",
      "498:\tlearn: 0.1252984\ttotal: 502ms\tremaining: 504ms\n",
      "499:\tlearn: 0.1250214\ttotal: 503ms\tremaining: 503ms\n",
      "500:\tlearn: 0.1247333\ttotal: 504ms\tremaining: 502ms\n",
      "501:\tlearn: 0.1244420\ttotal: 505ms\tremaining: 501ms\n",
      "502:\tlearn: 0.1243577\ttotal: 506ms\tremaining: 500ms\n",
      "503:\tlearn: 0.1240863\ttotal: 507ms\tremaining: 499ms\n",
      "504:\tlearn: 0.1239173\ttotal: 508ms\tremaining: 498ms\n",
      "505:\tlearn: 0.1236114\ttotal: 508ms\tremaining: 496ms\n",
      "506:\tlearn: 0.1234022\ttotal: 509ms\tremaining: 495ms\n",
      "507:\tlearn: 0.1230959\ttotal: 510ms\tremaining: 494ms\n",
      "508:\tlearn: 0.1228195\ttotal: 511ms\tremaining: 493ms\n",
      "509:\tlearn: 0.1226877\ttotal: 512ms\tremaining: 491ms\n",
      "510:\tlearn: 0.1225586\ttotal: 513ms\tremaining: 491ms\n",
      "511:\tlearn: 0.1224275\ttotal: 514ms\tremaining: 490ms\n",
      "512:\tlearn: 0.1222086\ttotal: 515ms\tremaining: 489ms\n",
      "513:\tlearn: 0.1218441\ttotal: 516ms\tremaining: 487ms\n",
      "514:\tlearn: 0.1215870\ttotal: 516ms\tremaining: 486ms\n",
      "515:\tlearn: 0.1214030\ttotal: 517ms\tremaining: 485ms\n",
      "516:\tlearn: 0.1212293\ttotal: 518ms\tremaining: 484ms\n",
      "517:\tlearn: 0.1210642\ttotal: 519ms\tremaining: 483ms\n",
      "518:\tlearn: 0.1208459\ttotal: 520ms\tremaining: 482ms\n",
      "519:\tlearn: 0.1207600\ttotal: 520ms\tremaining: 480ms\n",
      "520:\tlearn: 0.1204952\ttotal: 521ms\tremaining: 479ms\n",
      "521:\tlearn: 0.1202908\ttotal: 522ms\tremaining: 478ms\n",
      "522:\tlearn: 0.1201379\ttotal: 523ms\tremaining: 477ms\n",
      "523:\tlearn: 0.1199212\ttotal: 524ms\tremaining: 476ms\n",
      "524:\tlearn: 0.1195579\ttotal: 525ms\tremaining: 475ms\n",
      "525:\tlearn: 0.1193960\ttotal: 525ms\tremaining: 474ms\n",
      "526:\tlearn: 0.1192559\ttotal: 526ms\tremaining: 472ms\n",
      "527:\tlearn: 0.1191801\ttotal: 527ms\tremaining: 471ms\n",
      "528:\tlearn: 0.1190569\ttotal: 528ms\tremaining: 470ms\n",
      "529:\tlearn: 0.1187931\ttotal: 529ms\tremaining: 469ms\n",
      "530:\tlearn: 0.1186348\ttotal: 530ms\tremaining: 468ms\n",
      "531:\tlearn: 0.1184191\ttotal: 531ms\tremaining: 467ms\n",
      "532:\tlearn: 0.1183064\ttotal: 531ms\tremaining: 466ms\n",
      "533:\tlearn: 0.1180445\ttotal: 532ms\tremaining: 465ms\n",
      "534:\tlearn: 0.1178665\ttotal: 534ms\tremaining: 464ms\n",
      "535:\tlearn: 0.1176913\ttotal: 535ms\tremaining: 463ms\n",
      "536:\tlearn: 0.1174110\ttotal: 535ms\tremaining: 462ms\n",
      "537:\tlearn: 0.1173178\ttotal: 536ms\tremaining: 461ms\n",
      "538:\tlearn: 0.1170361\ttotal: 537ms\tremaining: 459ms\n",
      "539:\tlearn: 0.1168182\ttotal: 538ms\tremaining: 458ms\n",
      "540:\tlearn: 0.1167313\ttotal: 539ms\tremaining: 457ms\n",
      "541:\tlearn: 0.1164818\ttotal: 540ms\tremaining: 456ms\n",
      "542:\tlearn: 0.1162409\ttotal: 541ms\tremaining: 455ms\n",
      "543:\tlearn: 0.1160853\ttotal: 541ms\tremaining: 454ms\n",
      "544:\tlearn: 0.1158523\ttotal: 542ms\tremaining: 453ms\n",
      "545:\tlearn: 0.1157031\ttotal: 543ms\tremaining: 451ms\n",
      "546:\tlearn: 0.1154538\ttotal: 544ms\tremaining: 450ms\n",
      "547:\tlearn: 0.1153852\ttotal: 545ms\tremaining: 449ms\n",
      "548:\tlearn: 0.1153410\ttotal: 545ms\tremaining: 448ms\n",
      "549:\tlearn: 0.1150119\ttotal: 546ms\tremaining: 447ms\n",
      "550:\tlearn: 0.1148456\ttotal: 547ms\tremaining: 446ms\n",
      "551:\tlearn: 0.1146401\ttotal: 548ms\tremaining: 444ms\n",
      "552:\tlearn: 0.1144118\ttotal: 548ms\tremaining: 443ms\n",
      "553:\tlearn: 0.1142272\ttotal: 549ms\tremaining: 442ms\n",
      "554:\tlearn: 0.1140095\ttotal: 550ms\tremaining: 441ms\n",
      "555:\tlearn: 0.1137639\ttotal: 551ms\tremaining: 440ms\n",
      "556:\tlearn: 0.1136026\ttotal: 552ms\tremaining: 439ms\n",
      "557:\tlearn: 0.1134554\ttotal: 553ms\tremaining: 438ms\n",
      "558:\tlearn: 0.1134132\ttotal: 554ms\tremaining: 437ms\n",
      "559:\tlearn: 0.1132772\ttotal: 555ms\tremaining: 436ms\n",
      "560:\tlearn: 0.1130599\ttotal: 555ms\tremaining: 435ms\n",
      "561:\tlearn: 0.1128069\ttotal: 556ms\tremaining: 434ms\n",
      "562:\tlearn: 0.1127430\ttotal: 557ms\tremaining: 432ms\n",
      "563:\tlearn: 0.1126046\ttotal: 558ms\tremaining: 431ms\n",
      "564:\tlearn: 0.1124430\ttotal: 559ms\tremaining: 430ms\n",
      "565:\tlearn: 0.1123400\ttotal: 560ms\tremaining: 429ms\n",
      "566:\tlearn: 0.1121073\ttotal: 561ms\tremaining: 428ms\n",
      "567:\tlearn: 0.1119006\ttotal: 561ms\tremaining: 427ms\n",
      "568:\tlearn: 0.1116967\ttotal: 562ms\tremaining: 426ms\n",
      "569:\tlearn: 0.1115262\ttotal: 563ms\tremaining: 425ms\n",
      "570:\tlearn: 0.1113836\ttotal: 564ms\tremaining: 424ms\n",
      "571:\tlearn: 0.1111530\ttotal: 564ms\tremaining: 422ms\n",
      "572:\tlearn: 0.1109232\ttotal: 566ms\tremaining: 422ms\n",
      "573:\tlearn: 0.1107379\ttotal: 567ms\tremaining: 421ms\n",
      "574:\tlearn: 0.1105738\ttotal: 567ms\tremaining: 419ms\n",
      "575:\tlearn: 0.1103760\ttotal: 568ms\tremaining: 418ms\n",
      "576:\tlearn: 0.1101391\ttotal: 569ms\tremaining: 417ms\n",
      "577:\tlearn: 0.1098207\ttotal: 570ms\tremaining: 416ms\n"
     ]
    },
    {
     "name": "stdout",
     "output_type": "stream",
     "text": [
      "578:\tlearn: 0.1096775\ttotal: 571ms\tremaining: 415ms\n",
      "579:\tlearn: 0.1095935\ttotal: 572ms\tremaining: 414ms\n",
      "580:\tlearn: 0.1093755\ttotal: 573ms\tremaining: 413ms\n",
      "581:\tlearn: 0.1092137\ttotal: 573ms\tremaining: 412ms\n",
      "582:\tlearn: 0.1090063\ttotal: 575ms\tremaining: 411ms\n",
      "583:\tlearn: 0.1089816\ttotal: 576ms\tremaining: 410ms\n",
      "584:\tlearn: 0.1087941\ttotal: 577ms\tremaining: 409ms\n",
      "585:\tlearn: 0.1085901\ttotal: 577ms\tremaining: 408ms\n",
      "586:\tlearn: 0.1084492\ttotal: 578ms\tremaining: 407ms\n",
      "587:\tlearn: 0.1082622\ttotal: 579ms\tremaining: 406ms\n",
      "588:\tlearn: 0.1081204\ttotal: 580ms\tremaining: 404ms\n",
      "589:\tlearn: 0.1080820\ttotal: 580ms\tremaining: 403ms\n",
      "590:\tlearn: 0.1078430\ttotal: 581ms\tremaining: 402ms\n",
      "591:\tlearn: 0.1077577\ttotal: 582ms\tremaining: 401ms\n",
      "592:\tlearn: 0.1075223\ttotal: 583ms\tremaining: 400ms\n",
      "593:\tlearn: 0.1073862\ttotal: 583ms\tremaining: 399ms\n",
      "594:\tlearn: 0.1071799\ttotal: 584ms\tremaining: 398ms\n",
      "595:\tlearn: 0.1069526\ttotal: 585ms\tremaining: 397ms\n",
      "596:\tlearn: 0.1067787\ttotal: 586ms\tremaining: 396ms\n",
      "597:\tlearn: 0.1066731\ttotal: 587ms\tremaining: 395ms\n",
      "598:\tlearn: 0.1065553\ttotal: 588ms\tremaining: 394ms\n",
      "599:\tlearn: 0.1063922\ttotal: 589ms\tremaining: 392ms\n",
      "600:\tlearn: 0.1063577\ttotal: 589ms\tremaining: 391ms\n",
      "601:\tlearn: 0.1061338\ttotal: 590ms\tremaining: 390ms\n",
      "602:\tlearn: 0.1058959\ttotal: 591ms\tremaining: 389ms\n",
      "603:\tlearn: 0.1058019\ttotal: 592ms\tremaining: 388ms\n",
      "604:\tlearn: 0.1057195\ttotal: 593ms\tremaining: 387ms\n",
      "605:\tlearn: 0.1055685\ttotal: 593ms\tremaining: 386ms\n",
      "606:\tlearn: 0.1053028\ttotal: 594ms\tremaining: 385ms\n",
      "607:\tlearn: 0.1051407\ttotal: 595ms\tremaining: 384ms\n",
      "608:\tlearn: 0.1050138\ttotal: 596ms\tremaining: 382ms\n",
      "609:\tlearn: 0.1049004\ttotal: 597ms\tremaining: 381ms\n",
      "610:\tlearn: 0.1046740\ttotal: 597ms\tremaining: 380ms\n",
      "611:\tlearn: 0.1045910\ttotal: 599ms\tremaining: 380ms\n",
      "612:\tlearn: 0.1044722\ttotal: 600ms\tremaining: 379ms\n",
      "613:\tlearn: 0.1043486\ttotal: 600ms\tremaining: 377ms\n",
      "614:\tlearn: 0.1041630\ttotal: 601ms\tremaining: 376ms\n",
      "615:\tlearn: 0.1040447\ttotal: 602ms\tremaining: 375ms\n",
      "616:\tlearn: 0.1038859\ttotal: 603ms\tremaining: 374ms\n",
      "617:\tlearn: 0.1037240\ttotal: 604ms\tremaining: 373ms\n",
      "618:\tlearn: 0.1035466\ttotal: 604ms\tremaining: 372ms\n",
      "619:\tlearn: 0.1034579\ttotal: 605ms\tremaining: 371ms\n",
      "620:\tlearn: 0.1033398\ttotal: 606ms\tremaining: 370ms\n",
      "621:\tlearn: 0.1032247\ttotal: 607ms\tremaining: 369ms\n",
      "622:\tlearn: 0.1030362\ttotal: 607ms\tremaining: 368ms\n",
      "623:\tlearn: 0.1029075\ttotal: 608ms\tremaining: 366ms\n",
      "624:\tlearn: 0.1027136\ttotal: 609ms\tremaining: 365ms\n",
      "625:\tlearn: 0.1025779\ttotal: 610ms\tremaining: 364ms\n",
      "626:\tlearn: 0.1024106\ttotal: 611ms\tremaining: 363ms\n",
      "627:\tlearn: 0.1021927\ttotal: 611ms\tremaining: 362ms\n",
      "628:\tlearn: 0.1019066\ttotal: 612ms\tremaining: 361ms\n",
      "629:\tlearn: 0.1018065\ttotal: 613ms\tremaining: 360ms\n",
      "630:\tlearn: 0.1016632\ttotal: 614ms\tremaining: 359ms\n",
      "631:\tlearn: 0.1015471\ttotal: 614ms\tremaining: 358ms\n",
      "632:\tlearn: 0.1014117\ttotal: 615ms\tremaining: 357ms\n",
      "633:\tlearn: 0.1012380\ttotal: 616ms\tremaining: 356ms\n",
      "634:\tlearn: 0.1011877\ttotal: 617ms\tremaining: 355ms\n",
      "635:\tlearn: 0.1010154\ttotal: 618ms\tremaining: 353ms\n",
      "636:\tlearn: 0.1008133\ttotal: 618ms\tremaining: 352ms\n",
      "637:\tlearn: 0.1007640\ttotal: 619ms\tremaining: 351ms\n",
      "638:\tlearn: 0.1005580\ttotal: 620ms\tremaining: 350ms\n",
      "639:\tlearn: 0.1004068\ttotal: 621ms\tremaining: 349ms\n",
      "640:\tlearn: 0.1001836\ttotal: 621ms\tremaining: 348ms\n",
      "641:\tlearn: 0.1000667\ttotal: 622ms\tremaining: 347ms\n",
      "642:\tlearn: 0.0999266\ttotal: 623ms\tremaining: 346ms\n",
      "643:\tlearn: 0.0998866\ttotal: 624ms\tremaining: 345ms\n",
      "644:\tlearn: 0.0997614\ttotal: 625ms\tremaining: 344ms\n",
      "645:\tlearn: 0.0995300\ttotal: 625ms\tremaining: 343ms\n",
      "646:\tlearn: 0.0992749\ttotal: 626ms\tremaining: 342ms\n",
      "647:\tlearn: 0.0991318\ttotal: 627ms\tremaining: 341ms\n",
      "648:\tlearn: 0.0990667\ttotal: 628ms\tremaining: 340ms\n",
      "649:\tlearn: 0.0988766\ttotal: 629ms\tremaining: 338ms\n",
      "650:\tlearn: 0.0987423\ttotal: 629ms\tremaining: 337ms\n",
      "651:\tlearn: 0.0985293\ttotal: 630ms\tremaining: 336ms\n",
      "652:\tlearn: 0.0984087\ttotal: 631ms\tremaining: 335ms\n",
      "653:\tlearn: 0.0982647\ttotal: 632ms\tremaining: 334ms\n",
      "654:\tlearn: 0.0980659\ttotal: 633ms\tremaining: 333ms\n",
      "655:\tlearn: 0.0978489\ttotal: 634ms\tremaining: 332ms\n",
      "656:\tlearn: 0.0976674\ttotal: 635ms\tremaining: 331ms\n",
      "657:\tlearn: 0.0974902\ttotal: 636ms\tremaining: 330ms\n",
      "658:\tlearn: 0.0973305\ttotal: 636ms\tremaining: 329ms\n",
      "659:\tlearn: 0.0971829\ttotal: 637ms\tremaining: 328ms\n",
      "660:\tlearn: 0.0970573\ttotal: 638ms\tremaining: 327ms\n",
      "661:\tlearn: 0.0968169\ttotal: 639ms\tremaining: 326ms\n",
      "662:\tlearn: 0.0965830\ttotal: 640ms\tremaining: 325ms\n",
      "663:\tlearn: 0.0963774\ttotal: 640ms\tremaining: 324ms\n",
      "664:\tlearn: 0.0962004\ttotal: 641ms\tremaining: 323ms\n",
      "665:\tlearn: 0.0960458\ttotal: 642ms\tremaining: 322ms\n",
      "666:\tlearn: 0.0959427\ttotal: 643ms\tremaining: 321ms\n",
      "667:\tlearn: 0.0957658\ttotal: 644ms\tremaining: 320ms\n",
      "668:\tlearn: 0.0955952\ttotal: 645ms\tremaining: 319ms\n",
      "669:\tlearn: 0.0953669\ttotal: 646ms\tremaining: 318ms\n",
      "670:\tlearn: 0.0953173\ttotal: 646ms\tremaining: 317ms\n",
      "671:\tlearn: 0.0951675\ttotal: 647ms\tremaining: 316ms\n",
      "672:\tlearn: 0.0949342\ttotal: 648ms\tremaining: 315ms\n",
      "673:\tlearn: 0.0948315\ttotal: 649ms\tremaining: 314ms\n",
      "674:\tlearn: 0.0946876\ttotal: 650ms\tremaining: 313ms\n",
      "675:\tlearn: 0.0945645\ttotal: 651ms\tremaining: 312ms\n",
      "676:\tlearn: 0.0944568\ttotal: 651ms\tremaining: 311ms\n",
      "677:\tlearn: 0.0943252\ttotal: 652ms\tremaining: 310ms\n",
      "678:\tlearn: 0.0941400\ttotal: 653ms\tremaining: 309ms\n",
      "679:\tlearn: 0.0940501\ttotal: 654ms\tremaining: 308ms\n",
      "680:\tlearn: 0.0939215\ttotal: 655ms\tremaining: 307ms\n",
      "681:\tlearn: 0.0936824\ttotal: 656ms\tremaining: 306ms\n",
      "682:\tlearn: 0.0935441\ttotal: 656ms\tremaining: 305ms\n",
      "683:\tlearn: 0.0934079\ttotal: 657ms\tremaining: 304ms\n",
      "684:\tlearn: 0.0933013\ttotal: 658ms\tremaining: 302ms\n",
      "685:\tlearn: 0.0930906\ttotal: 659ms\tremaining: 301ms\n",
      "686:\tlearn: 0.0929005\ttotal: 659ms\tremaining: 300ms\n",
      "687:\tlearn: 0.0928151\ttotal: 660ms\tremaining: 299ms\n",
      "688:\tlearn: 0.0927179\ttotal: 661ms\tremaining: 298ms\n",
      "689:\tlearn: 0.0925358\ttotal: 662ms\tremaining: 297ms\n",
      "690:\tlearn: 0.0923023\ttotal: 663ms\tremaining: 296ms\n",
      "691:\tlearn: 0.0920526\ttotal: 663ms\tremaining: 295ms\n",
      "692:\tlearn: 0.0918960\ttotal: 664ms\tremaining: 294ms\n",
      "693:\tlearn: 0.0917462\ttotal: 665ms\tremaining: 293ms\n",
      "694:\tlearn: 0.0915469\ttotal: 666ms\tremaining: 292ms\n",
      "695:\tlearn: 0.0914310\ttotal: 667ms\tremaining: 291ms\n",
      "696:\tlearn: 0.0913467\ttotal: 668ms\tremaining: 290ms\n",
      "697:\tlearn: 0.0912294\ttotal: 668ms\tremaining: 289ms\n",
      "698:\tlearn: 0.0911089\ttotal: 669ms\tremaining: 288ms\n",
      "699:\tlearn: 0.0910159\ttotal: 670ms\tremaining: 287ms\n",
      "700:\tlearn: 0.0908694\ttotal: 671ms\tremaining: 286ms\n",
      "701:\tlearn: 0.0906145\ttotal: 672ms\tremaining: 285ms\n",
      "702:\tlearn: 0.0904604\ttotal: 673ms\tremaining: 284ms\n",
      "703:\tlearn: 0.0903674\ttotal: 674ms\tremaining: 283ms\n",
      "704:\tlearn: 0.0901890\ttotal: 674ms\tremaining: 282ms\n",
      "705:\tlearn: 0.0901218\ttotal: 675ms\tremaining: 281ms\n",
      "706:\tlearn: 0.0900151\ttotal: 676ms\tremaining: 280ms\n",
      "707:\tlearn: 0.0898838\ttotal: 677ms\tremaining: 279ms\n",
      "708:\tlearn: 0.0897043\ttotal: 678ms\tremaining: 278ms\n"
     ]
    },
    {
     "name": "stdout",
     "output_type": "stream",
     "text": [
      "709:\tlearn: 0.0896205\ttotal: 679ms\tremaining: 277ms\n",
      "710:\tlearn: 0.0895489\ttotal: 680ms\tremaining: 276ms\n",
      "711:\tlearn: 0.0894239\ttotal: 681ms\tremaining: 275ms\n",
      "712:\tlearn: 0.0891460\ttotal: 682ms\tremaining: 274ms\n",
      "713:\tlearn: 0.0890861\ttotal: 682ms\tremaining: 273ms\n",
      "714:\tlearn: 0.0889870\ttotal: 683ms\tremaining: 272ms\n",
      "715:\tlearn: 0.0888187\ttotal: 684ms\tremaining: 271ms\n",
      "716:\tlearn: 0.0887204\ttotal: 685ms\tremaining: 270ms\n",
      "717:\tlearn: 0.0885708\ttotal: 686ms\tremaining: 269ms\n",
      "718:\tlearn: 0.0884581\ttotal: 687ms\tremaining: 268ms\n",
      "719:\tlearn: 0.0882510\ttotal: 687ms\tremaining: 267ms\n",
      "720:\tlearn: 0.0881069\ttotal: 688ms\tremaining: 266ms\n",
      "721:\tlearn: 0.0879390\ttotal: 689ms\tremaining: 265ms\n",
      "722:\tlearn: 0.0878037\ttotal: 690ms\tremaining: 264ms\n",
      "723:\tlearn: 0.0876455\ttotal: 691ms\tremaining: 263ms\n",
      "724:\tlearn: 0.0874775\ttotal: 692ms\tremaining: 262ms\n",
      "725:\tlearn: 0.0874031\ttotal: 692ms\tremaining: 261ms\n",
      "726:\tlearn: 0.0872771\ttotal: 693ms\tremaining: 260ms\n",
      "727:\tlearn: 0.0870940\ttotal: 694ms\tremaining: 259ms\n",
      "728:\tlearn: 0.0870019\ttotal: 695ms\tremaining: 258ms\n",
      "729:\tlearn: 0.0869045\ttotal: 696ms\tremaining: 257ms\n",
      "730:\tlearn: 0.0867644\ttotal: 696ms\tremaining: 256ms\n",
      "731:\tlearn: 0.0866910\ttotal: 697ms\tremaining: 255ms\n",
      "732:\tlearn: 0.0865743\ttotal: 698ms\tremaining: 254ms\n",
      "733:\tlearn: 0.0865044\ttotal: 699ms\tremaining: 253ms\n",
      "734:\tlearn: 0.0864334\ttotal: 700ms\tremaining: 252ms\n",
      "735:\tlearn: 0.0863298\ttotal: 701ms\tremaining: 251ms\n",
      "736:\tlearn: 0.0861443\ttotal: 701ms\tremaining: 250ms\n",
      "737:\tlearn: 0.0859624\ttotal: 702ms\tremaining: 249ms\n",
      "738:\tlearn: 0.0857498\ttotal: 703ms\tremaining: 248ms\n",
      "739:\tlearn: 0.0856254\ttotal: 704ms\tremaining: 247ms\n",
      "740:\tlearn: 0.0855056\ttotal: 705ms\tremaining: 246ms\n",
      "741:\tlearn: 0.0854192\ttotal: 706ms\tremaining: 245ms\n",
      "742:\tlearn: 0.0852992\ttotal: 707ms\tremaining: 244ms\n",
      "743:\tlearn: 0.0852019\ttotal: 708ms\tremaining: 243ms\n",
      "744:\tlearn: 0.0850955\ttotal: 708ms\tremaining: 242ms\n",
      "745:\tlearn: 0.0849521\ttotal: 709ms\tremaining: 241ms\n",
      "746:\tlearn: 0.0849127\ttotal: 710ms\tremaining: 240ms\n",
      "747:\tlearn: 0.0848173\ttotal: 711ms\tremaining: 239ms\n",
      "748:\tlearn: 0.0847023\ttotal: 712ms\tremaining: 238ms\n",
      "749:\tlearn: 0.0845862\ttotal: 713ms\tremaining: 238ms\n",
      "750:\tlearn: 0.0844717\ttotal: 713ms\tremaining: 237ms\n",
      "751:\tlearn: 0.0843884\ttotal: 714ms\tremaining: 236ms\n",
      "752:\tlearn: 0.0842782\ttotal: 715ms\tremaining: 235ms\n",
      "753:\tlearn: 0.0841318\ttotal: 716ms\tremaining: 234ms\n",
      "754:\tlearn: 0.0840043\ttotal: 717ms\tremaining: 233ms\n",
      "755:\tlearn: 0.0839270\ttotal: 718ms\tremaining: 232ms\n",
      "756:\tlearn: 0.0837439\ttotal: 719ms\tremaining: 231ms\n",
      "757:\tlearn: 0.0836278\ttotal: 719ms\tremaining: 230ms\n",
      "758:\tlearn: 0.0835668\ttotal: 720ms\tremaining: 229ms\n",
      "759:\tlearn: 0.0835168\ttotal: 721ms\tremaining: 228ms\n",
      "760:\tlearn: 0.0833384\ttotal: 722ms\tremaining: 227ms\n",
      "761:\tlearn: 0.0831896\ttotal: 722ms\tremaining: 226ms\n",
      "762:\tlearn: 0.0830521\ttotal: 723ms\tremaining: 225ms\n",
      "763:\tlearn: 0.0829933\ttotal: 724ms\tremaining: 224ms\n",
      "764:\tlearn: 0.0828487\ttotal: 725ms\tremaining: 223ms\n",
      "765:\tlearn: 0.0827325\ttotal: 726ms\tremaining: 222ms\n",
      "766:\tlearn: 0.0826260\ttotal: 727ms\tremaining: 221ms\n",
      "767:\tlearn: 0.0824901\ttotal: 727ms\tremaining: 220ms\n",
      "768:\tlearn: 0.0823678\ttotal: 728ms\tremaining: 219ms\n",
      "769:\tlearn: 0.0821708\ttotal: 729ms\tremaining: 218ms\n",
      "770:\tlearn: 0.0820858\ttotal: 730ms\tremaining: 217ms\n",
      "771:\tlearn: 0.0819394\ttotal: 731ms\tremaining: 216ms\n",
      "772:\tlearn: 0.0818092\ttotal: 732ms\tremaining: 215ms\n",
      "773:\tlearn: 0.0816597\ttotal: 732ms\tremaining: 214ms\n",
      "774:\tlearn: 0.0816035\ttotal: 734ms\tremaining: 213ms\n",
      "775:\tlearn: 0.0815019\ttotal: 735ms\tremaining: 212ms\n",
      "776:\tlearn: 0.0813507\ttotal: 735ms\tremaining: 211ms\n",
      "777:\tlearn: 0.0812482\ttotal: 736ms\tremaining: 210ms\n",
      "778:\tlearn: 0.0811039\ttotal: 737ms\tremaining: 209ms\n",
      "779:\tlearn: 0.0809761\ttotal: 738ms\tremaining: 208ms\n",
      "780:\tlearn: 0.0808161\ttotal: 739ms\tremaining: 207ms\n",
      "781:\tlearn: 0.0807003\ttotal: 739ms\tremaining: 206ms\n",
      "782:\tlearn: 0.0805628\ttotal: 740ms\tremaining: 205ms\n",
      "783:\tlearn: 0.0804505\ttotal: 741ms\tremaining: 204ms\n",
      "784:\tlearn: 0.0803203\ttotal: 742ms\tremaining: 203ms\n",
      "785:\tlearn: 0.0802373\ttotal: 743ms\tremaining: 202ms\n",
      "786:\tlearn: 0.0800890\ttotal: 744ms\tremaining: 201ms\n",
      "787:\tlearn: 0.0798488\ttotal: 745ms\tremaining: 200ms\n",
      "788:\tlearn: 0.0797985\ttotal: 745ms\tremaining: 199ms\n",
      "789:\tlearn: 0.0796551\ttotal: 746ms\tremaining: 198ms\n",
      "790:\tlearn: 0.0795796\ttotal: 747ms\tremaining: 197ms\n",
      "791:\tlearn: 0.0794334\ttotal: 748ms\tremaining: 196ms\n",
      "792:\tlearn: 0.0793067\ttotal: 749ms\tremaining: 195ms\n",
      "793:\tlearn: 0.0791658\ttotal: 749ms\tremaining: 194ms\n",
      "794:\tlearn: 0.0790394\ttotal: 750ms\tremaining: 193ms\n",
      "795:\tlearn: 0.0789730\ttotal: 751ms\tremaining: 192ms\n",
      "796:\tlearn: 0.0788110\ttotal: 752ms\tremaining: 192ms\n",
      "797:\tlearn: 0.0787119\ttotal: 753ms\tremaining: 191ms\n",
      "798:\tlearn: 0.0785933\ttotal: 753ms\tremaining: 190ms\n",
      "799:\tlearn: 0.0784292\ttotal: 754ms\tremaining: 189ms\n",
      "800:\tlearn: 0.0782624\ttotal: 755ms\tremaining: 188ms\n",
      "801:\tlearn: 0.0781343\ttotal: 756ms\tremaining: 187ms\n",
      "802:\tlearn: 0.0780049\ttotal: 757ms\tremaining: 186ms\n",
      "803:\tlearn: 0.0779357\ttotal: 758ms\tremaining: 185ms\n",
      "804:\tlearn: 0.0778239\ttotal: 758ms\tremaining: 184ms\n",
      "805:\tlearn: 0.0777640\ttotal: 759ms\tremaining: 183ms\n",
      "806:\tlearn: 0.0776575\ttotal: 760ms\tremaining: 182ms\n"
     ]
    },
    {
     "name": "stdout",
     "output_type": "stream",
     "text": [
      "807:\tlearn: 0.0775766\ttotal: 761ms\tremaining: 181ms\n",
      "808:\tlearn: 0.0775125\ttotal: 762ms\tremaining: 180ms\n",
      "809:\tlearn: 0.0773531\ttotal: 763ms\tremaining: 179ms\n",
      "810:\tlearn: 0.0772525\ttotal: 764ms\tremaining: 178ms\n",
      "811:\tlearn: 0.0771299\ttotal: 765ms\tremaining: 177ms\n",
      "812:\tlearn: 0.0770339\ttotal: 766ms\tremaining: 176ms\n",
      "813:\tlearn: 0.0768904\ttotal: 766ms\tremaining: 175ms\n",
      "814:\tlearn: 0.0767894\ttotal: 767ms\tremaining: 174ms\n",
      "815:\tlearn: 0.0766860\ttotal: 768ms\tremaining: 173ms\n",
      "816:\tlearn: 0.0765628\ttotal: 769ms\tremaining: 172ms\n",
      "817:\tlearn: 0.0764659\ttotal: 769ms\tremaining: 171ms\n",
      "818:\tlearn: 0.0764187\ttotal: 770ms\tremaining: 170ms\n",
      "819:\tlearn: 0.0763282\ttotal: 771ms\tremaining: 169ms\n",
      "820:\tlearn: 0.0762021\ttotal: 772ms\tremaining: 168ms\n",
      "821:\tlearn: 0.0761660\ttotal: 773ms\tremaining: 167ms\n",
      "822:\tlearn: 0.0760369\ttotal: 773ms\tremaining: 166ms\n",
      "823:\tlearn: 0.0759062\ttotal: 774ms\tremaining: 165ms\n",
      "824:\tlearn: 0.0757852\ttotal: 775ms\tremaining: 164ms\n",
      "825:\tlearn: 0.0756395\ttotal: 776ms\tremaining: 163ms\n",
      "826:\tlearn: 0.0754926\ttotal: 777ms\tremaining: 163ms\n",
      "827:\tlearn: 0.0754091\ttotal: 778ms\tremaining: 162ms\n",
      "828:\tlearn: 0.0753133\ttotal: 779ms\tremaining: 161ms\n",
      "829:\tlearn: 0.0752241\ttotal: 779ms\tremaining: 160ms\n",
      "830:\tlearn: 0.0751077\ttotal: 780ms\tremaining: 159ms\n",
      "831:\tlearn: 0.0750297\ttotal: 781ms\tremaining: 158ms\n",
      "832:\tlearn: 0.0749213\ttotal: 782ms\tremaining: 157ms\n",
      "833:\tlearn: 0.0747968\ttotal: 783ms\tremaining: 156ms\n",
      "834:\tlearn: 0.0747250\ttotal: 783ms\tremaining: 155ms\n",
      "835:\tlearn: 0.0746598\ttotal: 784ms\tremaining: 154ms\n",
      "836:\tlearn: 0.0745177\ttotal: 785ms\tremaining: 153ms\n",
      "837:\tlearn: 0.0744638\ttotal: 786ms\tremaining: 152ms\n",
      "838:\tlearn: 0.0743643\ttotal: 787ms\tremaining: 151ms\n",
      "839:\tlearn: 0.0743053\ttotal: 788ms\tremaining: 150ms\n",
      "840:\tlearn: 0.0741478\ttotal: 789ms\tremaining: 149ms\n",
      "841:\tlearn: 0.0740536\ttotal: 789ms\tremaining: 148ms\n",
      "842:\tlearn: 0.0739555\ttotal: 790ms\tremaining: 147ms\n",
      "843:\tlearn: 0.0738621\ttotal: 791ms\tremaining: 146ms\n",
      "844:\tlearn: 0.0737894\ttotal: 792ms\tremaining: 145ms\n",
      "845:\tlearn: 0.0737134\ttotal: 793ms\tremaining: 144ms\n",
      "846:\tlearn: 0.0736015\ttotal: 793ms\tremaining: 143ms\n",
      "847:\tlearn: 0.0735023\ttotal: 794ms\tremaining: 142ms\n",
      "848:\tlearn: 0.0734024\ttotal: 795ms\tremaining: 141ms\n",
      "849:\tlearn: 0.0732511\ttotal: 796ms\tremaining: 140ms\n",
      "850:\tlearn: 0.0731480\ttotal: 797ms\tremaining: 139ms\n",
      "851:\tlearn: 0.0730680\ttotal: 797ms\tremaining: 139ms\n",
      "852:\tlearn: 0.0729770\ttotal: 798ms\tremaining: 138ms\n",
      "853:\tlearn: 0.0729587\ttotal: 799ms\tremaining: 137ms\n",
      "854:\tlearn: 0.0728292\ttotal: 799ms\tremaining: 136ms\n",
      "855:\tlearn: 0.0727110\ttotal: 800ms\tremaining: 135ms\n",
      "856:\tlearn: 0.0726236\ttotal: 801ms\tremaining: 134ms\n",
      "857:\tlearn: 0.0724426\ttotal: 802ms\tremaining: 133ms\n",
      "858:\tlearn: 0.0723150\ttotal: 802ms\tremaining: 132ms\n",
      "859:\tlearn: 0.0722486\ttotal: 803ms\tremaining: 131ms\n",
      "860:\tlearn: 0.0721960\ttotal: 804ms\tremaining: 130ms\n",
      "861:\tlearn: 0.0720739\ttotal: 805ms\tremaining: 129ms\n",
      "862:\tlearn: 0.0719674\ttotal: 806ms\tremaining: 128ms\n",
      "863:\tlearn: 0.0718175\ttotal: 807ms\tremaining: 127ms\n",
      "864:\tlearn: 0.0717214\ttotal: 808ms\tremaining: 126ms\n",
      "865:\tlearn: 0.0716262\ttotal: 808ms\tremaining: 125ms\n",
      "866:\tlearn: 0.0715105\ttotal: 809ms\tremaining: 124ms\n",
      "867:\tlearn: 0.0714378\ttotal: 810ms\tremaining: 123ms\n",
      "868:\tlearn: 0.0713888\ttotal: 811ms\tremaining: 122ms\n",
      "869:\tlearn: 0.0712772\ttotal: 812ms\tremaining: 121ms\n",
      "870:\tlearn: 0.0711993\ttotal: 812ms\tremaining: 120ms\n",
      "871:\tlearn: 0.0710842\ttotal: 813ms\tremaining: 119ms\n",
      "872:\tlearn: 0.0710195\ttotal: 814ms\tremaining: 118ms\n",
      "873:\tlearn: 0.0709045\ttotal: 815ms\tremaining: 117ms\n",
      "874:\tlearn: 0.0707661\ttotal: 816ms\tremaining: 117ms\n",
      "875:\tlearn: 0.0706780\ttotal: 816ms\tremaining: 116ms\n",
      "876:\tlearn: 0.0705785\ttotal: 817ms\tremaining: 115ms\n",
      "877:\tlearn: 0.0704950\ttotal: 818ms\tremaining: 114ms\n",
      "878:\tlearn: 0.0703268\ttotal: 819ms\tremaining: 113ms\n",
      "879:\tlearn: 0.0702144\ttotal: 820ms\tremaining: 112ms\n",
      "880:\tlearn: 0.0701032\ttotal: 820ms\tremaining: 111ms\n",
      "881:\tlearn: 0.0699835\ttotal: 821ms\tremaining: 110ms\n",
      "882:\tlearn: 0.0699552\ttotal: 822ms\tremaining: 109ms\n",
      "883:\tlearn: 0.0698473\ttotal: 823ms\tremaining: 108ms\n",
      "884:\tlearn: 0.0697825\ttotal: 824ms\tremaining: 107ms\n",
      "885:\tlearn: 0.0697355\ttotal: 825ms\tremaining: 106ms\n",
      "886:\tlearn: 0.0696441\ttotal: 825ms\tremaining: 105ms\n",
      "887:\tlearn: 0.0695528\ttotal: 826ms\tremaining: 104ms\n",
      "888:\tlearn: 0.0694783\ttotal: 827ms\tremaining: 103ms\n",
      "889:\tlearn: 0.0693482\ttotal: 828ms\tremaining: 102ms\n",
      "890:\tlearn: 0.0692436\ttotal: 828ms\tremaining: 101ms\n",
      "891:\tlearn: 0.0692234\ttotal: 829ms\tremaining: 100ms\n",
      "892:\tlearn: 0.0691512\ttotal: 830ms\tremaining: 99.5ms\n",
      "893:\tlearn: 0.0690947\ttotal: 831ms\tremaining: 98.5ms\n",
      "894:\tlearn: 0.0689820\ttotal: 832ms\tremaining: 97.6ms\n",
      "895:\tlearn: 0.0689402\ttotal: 832ms\tremaining: 96.6ms\n",
      "896:\tlearn: 0.0689207\ttotal: 833ms\tremaining: 95.7ms\n",
      "897:\tlearn: 0.0688801\ttotal: 834ms\tremaining: 94.7ms\n",
      "898:\tlearn: 0.0687563\ttotal: 835ms\tremaining: 93.8ms\n",
      "899:\tlearn: 0.0686795\ttotal: 835ms\tremaining: 92.8ms\n",
      "900:\tlearn: 0.0685293\ttotal: 836ms\tremaining: 91.9ms\n",
      "901:\tlearn: 0.0685049\ttotal: 837ms\tremaining: 90.9ms\n",
      "902:\tlearn: 0.0683829\ttotal: 838ms\tremaining: 90ms\n",
      "903:\tlearn: 0.0682116\ttotal: 839ms\tremaining: 89ms\n",
      "904:\tlearn: 0.0680971\ttotal: 839ms\tremaining: 88.1ms\n",
      "905:\tlearn: 0.0680489\ttotal: 840ms\tremaining: 87.2ms\n",
      "906:\tlearn: 0.0679593\ttotal: 841ms\tremaining: 86.2ms\n",
      "907:\tlearn: 0.0678971\ttotal: 842ms\tremaining: 85.3ms\n",
      "908:\tlearn: 0.0677535\ttotal: 843ms\tremaining: 84.4ms\n",
      "909:\tlearn: 0.0677065\ttotal: 844ms\tremaining: 83.4ms\n",
      "910:\tlearn: 0.0675694\ttotal: 844ms\tremaining: 82.5ms\n",
      "911:\tlearn: 0.0674837\ttotal: 845ms\tremaining: 81.5ms\n",
      "912:\tlearn: 0.0674147\ttotal: 846ms\tremaining: 80.6ms\n",
      "913:\tlearn: 0.0673121\ttotal: 847ms\tremaining: 79.7ms\n",
      "914:\tlearn: 0.0672175\ttotal: 847ms\tremaining: 78.7ms\n",
      "915:\tlearn: 0.0671216\ttotal: 848ms\tremaining: 77.8ms\n",
      "916:\tlearn: 0.0670046\ttotal: 849ms\tremaining: 76.9ms\n",
      "917:\tlearn: 0.0668900\ttotal: 850ms\tremaining: 75.9ms\n",
      "918:\tlearn: 0.0667849\ttotal: 851ms\tremaining: 75ms\n",
      "919:\tlearn: 0.0667515\ttotal: 852ms\tremaining: 74.1ms\n",
      "920:\tlearn: 0.0666790\ttotal: 853ms\tremaining: 73.2ms\n",
      "921:\tlearn: 0.0666446\ttotal: 854ms\tremaining: 72.2ms\n",
      "922:\tlearn: 0.0665514\ttotal: 854ms\tremaining: 71.3ms\n",
      "923:\tlearn: 0.0664839\ttotal: 855ms\tremaining: 70.3ms\n",
      "924:\tlearn: 0.0663925\ttotal: 856ms\tremaining: 69.4ms\n",
      "925:\tlearn: 0.0663145\ttotal: 857ms\tremaining: 68.5ms\n",
      "926:\tlearn: 0.0662269\ttotal: 858ms\tremaining: 67.5ms\n",
      "927:\tlearn: 0.0661291\ttotal: 858ms\tremaining: 66.6ms\n",
      "928:\tlearn: 0.0660536\ttotal: 859ms\tremaining: 65.7ms\n",
      "929:\tlearn: 0.0659456\ttotal: 860ms\tremaining: 64.7ms\n",
      "930:\tlearn: 0.0658360\ttotal: 861ms\tremaining: 63.8ms\n",
      "931:\tlearn: 0.0656840\ttotal: 861ms\tremaining: 62.9ms\n",
      "932:\tlearn: 0.0655677\ttotal: 862ms\tremaining: 61.9ms\n",
      "933:\tlearn: 0.0654971\ttotal: 863ms\tremaining: 61ms\n",
      "934:\tlearn: 0.0653759\ttotal: 864ms\tremaining: 60.1ms\n",
      "935:\tlearn: 0.0652979\ttotal: 865ms\tremaining: 59.1ms\n",
      "936:\tlearn: 0.0652152\ttotal: 866ms\tremaining: 58.2ms\n",
      "937:\tlearn: 0.0651454\ttotal: 866ms\tremaining: 57.3ms\n",
      "938:\tlearn: 0.0650294\ttotal: 867ms\tremaining: 56.3ms\n",
      "939:\tlearn: 0.0649726\ttotal: 868ms\tremaining: 55.4ms\n"
     ]
    },
    {
     "name": "stdout",
     "output_type": "stream",
     "text": [
      "940:\tlearn: 0.0649485\ttotal: 869ms\tremaining: 54.5ms\n",
      "941:\tlearn: 0.0648752\ttotal: 870ms\tremaining: 53.5ms\n",
      "942:\tlearn: 0.0647632\ttotal: 870ms\tremaining: 52.6ms\n",
      "943:\tlearn: 0.0646937\ttotal: 871ms\tremaining: 51.7ms\n",
      "944:\tlearn: 0.0646172\ttotal: 872ms\tremaining: 50.8ms\n",
      "945:\tlearn: 0.0645904\ttotal: 873ms\tremaining: 49.8ms\n",
      "946:\tlearn: 0.0644975\ttotal: 874ms\tremaining: 48.9ms\n",
      "947:\tlearn: 0.0644780\ttotal: 874ms\tremaining: 48ms\n",
      "948:\tlearn: 0.0643556\ttotal: 875ms\tremaining: 47ms\n",
      "949:\tlearn: 0.0642615\ttotal: 876ms\tremaining: 46.1ms\n",
      "950:\tlearn: 0.0641838\ttotal: 877ms\tremaining: 45.2ms\n",
      "951:\tlearn: 0.0640991\ttotal: 878ms\tremaining: 44.3ms\n",
      "952:\tlearn: 0.0639860\ttotal: 879ms\tremaining: 43.3ms\n",
      "953:\tlearn: 0.0639745\ttotal: 880ms\tremaining: 42.4ms\n",
      "954:\tlearn: 0.0639170\ttotal: 880ms\tremaining: 41.5ms\n",
      "955:\tlearn: 0.0638218\ttotal: 881ms\tremaining: 40.6ms\n",
      "956:\tlearn: 0.0637187\ttotal: 882ms\tremaining: 39.6ms\n",
      "957:\tlearn: 0.0636895\ttotal: 883ms\tremaining: 38.7ms\n",
      "958:\tlearn: 0.0635635\ttotal: 884ms\tremaining: 37.8ms\n",
      "959:\tlearn: 0.0635226\ttotal: 884ms\tremaining: 36.8ms\n",
      "960:\tlearn: 0.0634260\ttotal: 885ms\tremaining: 35.9ms\n",
      "961:\tlearn: 0.0633557\ttotal: 887ms\tremaining: 35ms\n",
      "962:\tlearn: 0.0632486\ttotal: 888ms\tremaining: 34.1ms\n",
      "963:\tlearn: 0.0631709\ttotal: 888ms\tremaining: 33.2ms\n",
      "964:\tlearn: 0.0630710\ttotal: 889ms\tremaining: 32.3ms\n",
      "965:\tlearn: 0.0629851\ttotal: 890ms\tremaining: 31.3ms\n",
      "966:\tlearn: 0.0629351\ttotal: 891ms\tremaining: 30.4ms\n",
      "967:\tlearn: 0.0628589\ttotal: 892ms\tremaining: 29.5ms\n",
      "968:\tlearn: 0.0627697\ttotal: 892ms\tremaining: 28.5ms\n",
      "969:\tlearn: 0.0627007\ttotal: 893ms\tremaining: 27.6ms\n",
      "970:\tlearn: 0.0625855\ttotal: 894ms\tremaining: 26.7ms\n",
      "971:\tlearn: 0.0625166\ttotal: 895ms\tremaining: 25.8ms\n",
      "972:\tlearn: 0.0624104\ttotal: 895ms\tremaining: 24.8ms\n",
      "973:\tlearn: 0.0623146\ttotal: 896ms\tremaining: 23.9ms\n",
      "974:\tlearn: 0.0623062\ttotal: 897ms\tremaining: 23ms\n",
      "975:\tlearn: 0.0622637\ttotal: 898ms\tremaining: 22.1ms\n",
      "976:\tlearn: 0.0622019\ttotal: 899ms\tremaining: 21.2ms\n",
      "977:\tlearn: 0.0620908\ttotal: 900ms\tremaining: 20.2ms\n",
      "978:\tlearn: 0.0620327\ttotal: 900ms\tremaining: 19.3ms\n",
      "979:\tlearn: 0.0619254\ttotal: 901ms\tremaining: 18.4ms\n",
      "980:\tlearn: 0.0619134\ttotal: 902ms\tremaining: 17.5ms\n",
      "981:\tlearn: 0.0618710\ttotal: 903ms\tremaining: 16.6ms\n",
      "982:\tlearn: 0.0617656\ttotal: 904ms\tremaining: 15.6ms\n",
      "983:\tlearn: 0.0616689\ttotal: 905ms\tremaining: 14.7ms\n",
      "984:\tlearn: 0.0616591\ttotal: 905ms\tremaining: 13.8ms\n",
      "985:\tlearn: 0.0616368\ttotal: 906ms\tremaining: 12.9ms\n",
      "986:\tlearn: 0.0615512\ttotal: 907ms\tremaining: 11.9ms\n",
      "987:\tlearn: 0.0614797\ttotal: 907ms\tremaining: 11ms\n",
      "988:\tlearn: 0.0614301\ttotal: 908ms\tremaining: 10.1ms\n",
      "989:\tlearn: 0.0613896\ttotal: 909ms\tremaining: 9.18ms\n",
      "990:\tlearn: 0.0613797\ttotal: 910ms\tremaining: 8.27ms\n",
      "991:\tlearn: 0.0612738\ttotal: 911ms\tremaining: 7.34ms\n",
      "992:\tlearn: 0.0611915\ttotal: 912ms\tremaining: 6.43ms\n",
      "993:\tlearn: 0.0610953\ttotal: 912ms\tremaining: 5.51ms\n",
      "994:\tlearn: 0.0610344\ttotal: 913ms\tremaining: 4.59ms\n",
      "995:\tlearn: 0.0609006\ttotal: 914ms\tremaining: 3.67ms\n",
      "996:\tlearn: 0.0608404\ttotal: 915ms\tremaining: 2.75ms\n",
      "997:\tlearn: 0.0607580\ttotal: 916ms\tremaining: 1.83ms\n",
      "998:\tlearn: 0.0606612\ttotal: 916ms\tremaining: 917us\n",
      "999:\tlearn: 0.0605909\ttotal: 917ms\tremaining: 0us\n"
     ]
    },
    {
     "data": {
      "text/plain": [
       "<catboost.core.CatBoostRegressor at 0x7fcb0976a280>"
      ]
     },
     "execution_count": 9,
     "metadata": {},
     "output_type": "execute_result"
    }
   ],
   "source": [
    "#Train the Model \n",
    "prior_model = ctb.CatBoostRegressor()\n",
    "prior_model.fit(X_train,Y_train)"
   ]
  },
  {
   "cell_type": "code",
   "execution_count": 10,
   "id": "af65dcda",
   "metadata": {
    "execution": {
     "iopub.execute_input": "2022-03-11T09:37:07.949495Z",
     "iopub.status.busy": "2022-03-11T09:37:07.949100Z",
     "iopub.status.idle": "2022-03-11T09:37:07.956611Z",
     "shell.execute_reply": "2022-03-11T09:37:07.956853Z"
    },
    "id": "af65dcda",
    "papermill": {
     "duration": 0.020754,
     "end_time": "2022-03-11T09:37:07.956968",
     "exception": false,
     "start_time": "2022-03-11T09:37:07.936214",
     "status": "completed"
    },
    "tags": []
   },
   "outputs": [
    {
     "data": {
      "application/scrapbook.scrap.json+json": {
       "data": 0.05546775918239188,
       "encoder": "json",
       "name": "Prior Model MSE",
       "version": 1
      }
     },
     "metadata": {
      "scrapbook": {
       "data": true,
       "display": false,
       "name": "Prior Model MSE"
      }
     },
     "output_type": "display_data"
    },
    {
     "data": {
      "application/scrapbook.scrap.json+json": {
       "data": 0.055225686014394045,
       "encoder": "json",
       "name": "ABC Pre-generator MSE",
       "version": 1
      }
     },
     "metadata": {
      "scrapbook": {
       "data": true,
       "display": false,
       "name": "ABC Pre-generator MSE"
      }
     },
     "output_type": "display_data"
    },
    {
     "data": {
      "application/scrapbook.scrap.json+json": {
       "data": 0.1859098080976625,
       "encoder": "json",
       "name": "Prior Model MAE",
       "version": 1
      }
     },
     "metadata": {
      "scrapbook": {
       "data": true,
       "display": false,
       "name": "Prior Model MAE"
      }
     },
     "output_type": "display_data"
    },
    {
     "data": {
      "application/scrapbook.scrap.json+json": {
       "data": 0.18569982487672612,
       "encoder": "json",
       "name": "ABC Pre-generator MAE",
       "version": 1
      }
     },
     "metadata": {
      "scrapbook": {
       "data": true,
       "display": false,
       "name": "ABC Pre-generator MAE"
      }
     },
     "output_type": "display_data"
    }
   ],
   "source": [
    "y_pred = prior_model.predict(X_test)\n",
    "y_abc = y_pred + np.random.normal(0,variance, y_pred.shape)\n",
    "mse = mean_squared_error(y_pred,Y_test)\n",
    "sb.glue(\"Prior Model MSE\",mse)\n",
    "mse = mean_squared_error(y_abc,Y_test)\n",
    "sb.glue(\"ABC Pre-generator MSE\",mse)\n",
    "\n",
    "mae = mean_absolute_error(y_pred,Y_test)\n",
    "sb.glue(\"Prior Model MAE\",mae)\n",
    "mae = mean_absolute_error(y_abc,Y_test)\n",
    "sb.glue(\"ABC Pre-generator MAE\",mae)"
   ]
  },
  {
   "cell_type": "markdown",
   "id": "25609da2",
   "metadata": {
    "papermill": {
     "duration": 0.009781,
     "end_time": "2022-03-11T09:37:07.976988",
     "exception": false,
     "start_time": "2022-03-11T09:37:07.967207",
     "status": "completed"
    },
    "tags": []
   },
   "source": [
    "# ABC GAN Model"
   ]
  },
  {
   "cell_type": "code",
   "execution_count": 11,
   "id": "dfc3464d",
   "metadata": {
    "execution": {
     "iopub.execute_input": "2022-03-11T09:37:08.004335Z",
     "iopub.status.busy": "2022-03-11T09:37:08.003919Z",
     "iopub.status.idle": "2022-03-11T09:37:08.006584Z",
     "shell.execute_reply": "2022-03-11T09:37:08.006836Z"
    },
    "papermill": {
     "duration": 0.020151,
     "end_time": "2022-03-11T09:37:08.006956",
     "exception": false,
     "start_time": "2022-03-11T09:37:07.986805",
     "status": "completed"
    },
    "tags": []
   },
   "outputs": [],
   "source": [
    "gen = network.Generator(n_features+1).to(device)\n",
    "disc = network.Discriminator(n_features+1).to(device)\n",
    "\n",
    "criterion = torch.nn.BCELoss()\n",
    "gen_opt = torch.optim.Adam(gen.parameters(), lr=0.001, betas=(0.5, 0.999))\n",
    "disc_opt = torch.optim.Adam(disc.parameters(), lr=0.001, betas=(0.5, 0.999))"
   ]
  },
  {
   "cell_type": "code",
   "execution_count": 12,
   "id": "b75fdd85",
   "metadata": {
    "execution": {
     "iopub.execute_input": "2022-03-11T09:37:08.030154Z",
     "iopub.status.busy": "2022-03-11T09:37:08.029747Z",
     "iopub.status.idle": "2022-03-11T09:37:44.538848Z",
     "shell.execute_reply": "2022-03-11T09:37:44.539150Z"
    },
    "papermill": {
     "duration": 36.52209,
     "end_time": "2022-03-11T09:37:44.539271",
     "exception": false,
     "start_time": "2022-03-11T09:37:08.017181",
     "status": "completed"
    },
    "tags": []
   },
   "outputs": [
    {
     "data": {
      "image/png": "[encoded data removed]",
      "text/plain": [
       "<Figure size 432x288 with 1 Axes>"
      ]
     },
     "metadata": {
      "needs_background": "light"
     },
     "output_type": "display_data"
    },
    {
     "data": {
      "image/png": "[encoded data removed]",
      "text/plain": [
       "<Figure size 432x288 with 1 Axes>"
      ]
     },
     "metadata": {
      "needs_background": "light"
     },
     "output_type": "display_data"
    }
   ],
   "source": [
    "#Training the ABC_GAN \n",
    "ABC_train_test2.training_GAN(disc,gen,disc_opt,gen_opt,train_data,batch_size,n_epochs,criterion,prior_model,variance,0,device)"
   ]
  },
  {
   "cell_type": "code",
   "execution_count": 13,
   "id": "1fa7c368",
   "metadata": {
    "execution": {
     "iopub.execute_input": "2022-03-11T09:37:44.563728Z",
     "iopub.status.busy": "2022-03-11T09:37:44.563334Z",
     "iopub.status.idle": "2022-03-11T09:37:44.858456Z",
     "shell.execute_reply": "2022-03-11T09:37:44.858696Z"
    },
    "papermill": {
     "duration": 0.308597,
     "end_time": "2022-03-11T09:37:44.858816",
     "exception": false,
     "start_time": "2022-03-11T09:37:44.550219",
     "status": "completed"
    },
    "tags": []
   },
   "outputs": [
    {
     "data": {
      "application/scrapbook.scrap.json+json": {
       "data": 0.08007524927537366,
       "encoder": "json",
       "name": "ABC-GAN Model 1 MSE",
       "version": 1
      }
     },
     "metadata": {
      "scrapbook": {
       "data": true,
       "display": false,
       "name": "ABC-GAN Model 1 MSE"
      }
     },
     "output_type": "display_data"
    },
    {
     "data": {
      "application/scrapbook.scrap.json+json": {
       "data": 0.22773815492423727,
       "encoder": "json",
       "name": "ABC-GAN Model 1 MAE",
       "version": 1
      }
     },
     "metadata": {
      "scrapbook": {
       "data": true,
       "display": false,
       "name": "ABC-GAN Model 1 MAE"
      }
     },
     "output_type": "display_data"
    },
    {
     "data": {
      "application/scrapbook.scrap.json+json": {
       "data": 23.2292918022722,
       "encoder": "json",
       "name": "ABC-GAN Model 1 Manhattan Distance",
       "version": 1
      }
     },
     "metadata": {
      "scrapbook": {
       "data": true,
       "display": false,
       "name": "ABC-GAN Model 1 Manhattan Distance"
      }
     },
     "output_type": "display_data"
    },
    {
     "data": {
      "application/scrapbook.scrap.json+json": {
       "data": 2.8578975968524785,
       "encoder": "json",
       "name": "ABC-GAN Model 1 Euclidean distance",
       "version": 1
      }
     },
     "metadata": {
      "scrapbook": {
       "data": true,
       "display": false,
       "name": "ABC-GAN Model 1 Euclidean distance"
      }
     },
     "output_type": "display_data"
    },
    {
     "data": {
      "application/scrapbook.scrap.json+json": {
       "data": [
        [
         0.08034128944398748,
         0.07928902384391928,
         0.07898971477588065,
         0.07952956574971722,
         0.07947381277914158,
         0.08012286625367458,
         0.07970174410744821,
         0.08085128214877794,
         0.08032903855859963,
         0.07875606701984623,
         0.07977695019874839,
         0.08022625535427143,
         0.07972572107566682,
         0.07997619781475342,
         0.08077093613290819,
         0.07989588815484308,
         0.07963572447391205,
         0.07984215009593901,
         0.07950712955349527,
         0.08014474846723531,
         0.07962701231173923,
         0.07984130345577134,
         0.08064028033632711,
         0.0795860870853063,
         0.07978955205282595,
         0.07928465731593334,
         0.08003255662382759,
         0.08025154239439113,
         0.07989327782791113,
         0.08023452437998872,
         0.07986698893479205,
         0.08080700430390679,
         0.08028514936866801,
         0.07964888488226858,
         0.07948349242166301,
         0.07985535151184227,
         0.08047744241132208,
         0.08048760692966485,
         0.08037907064403506,
         0.08027575519395194,
         0.08049700440539385,
         0.08043623831428419,
         0.08078067389177568,
         0.07997207044970654,
         0.08038181368212956,
         0.07994890808255949,
         0.07993581327146902,
         0.08025785141234733,
         0.07920252508567971,
         0.08113083508524056,
         0.08106435204910345,
         0.07972655977683024,
         0.08064788682068509,
         0.07888976630011162,
         0.08000346209291458,
         0.08080886978499145,
         0.07989359637457509,
         0.08075667577659659,
         0.08031893326661405,
         0.07994943245040535,
         0.07958185772273697,
         0.07966618206952639,
         0.08027892586618655,
         0.07948199062102063,
         0.07994273047688114,
         0.07976308270833853,
         0.07946631259829555,
         0.08136712328873613,
         0.08004518063139962,
         0.07964825294212195,
         0.07905852317912017,
         0.07979659071921961,
         0.07967575765235718,
         0.08085575109670254,
         0.08003184661142536,
         0.08067651179314932,
         0.08062910202675395,
         0.08044081239869687,
         0.07990483690739983,
         0.07933773033889921,
         0.08133247358032042,
         0.0795883621185154,
         0.07980507913021882,
         0.0807689488812838,
         0.08035299664749203,
         0.08033081043150947,
         0.08143522248406523,
         0.07981261894103338,
         0.07917585156361771,
         0.0805661079599825,
         0.08066287437001225,
         0.08025751492608471,
         0.08041162330536034,
         0.07954087433222334,
         0.08015730564784025,
         0.08105432250446308,
         0.0804678802388096,
         0.07972290906983148,
         0.08011539371323406,
         0.08007974128018479
        ],
        [
         0.227760309088683,
         0.22519104565292888,
         0.22695739215751196,
         0.22700485396290235,
         0.22750895418336287,
         0.22786570244523532,
         0.227396973235277,
         0.2293134903553508,
         0.2278571748174727,
         0.22755274343687823,
         0.22718496367737068,
         0.22738747140757887,
         0.22761775691098735,
         0.22732853114276247,
         0.2283735484085685,
         0.22785704191226294,
         0.22739005139024526,
         0.22721080762315907,
         0.22708903098771094,
         0.22635448482070192,
         0.22691844899536057,
         0.22810226480713955,
         0.22877542976764778,
         0.22742105961101605,
         0.22648158142635344,
         0.22655510003039359,
         0.22657562323900707,
         0.2279138441526276,
         0.2279342009649411,
         0.22890172371932982,
         0.2280958432832039,
         0.22816095376095058,
         0.22788963831194184,
         0.2273252544942878,
         0.2264214064834603,
         0.2278869460592521,
         0.22791407066488675,
         0.22845863520770388,
         0.22847840831815905,
         0.22778771104583262,
         0.22813267939194454,
         0.2283755165305646,
         0.2282834457617034,
         0.22708801712439047,
         0.22958931037425703,
         0.2277502479196033,
         0.22703267088817322,
         0.22877828344958379,
         0.2277435234419125,
         0.22917416844261335,
         0.22882021823897958,
         0.2270030583729785,
         0.22930308167512217,
         0.2259957123748666,
         0.22688897964818514,
         0.22907043218283968,
         0.2280725208476332,
         0.22865995632338465,
         0.22818098610778356,
         0.22781949803488805,
         0.22562205768646856,
         0.22628192208232542,
         0.22831180135664694,
         0.22682052754851825,
         0.22759371173257628,
         0.2275359698425175,
         0.22800254419117288,
         0.22871361869186455,
         0.2280738934344959,
         0.2254512488896794,
         0.22511449199644665,
         0.22761638622329222,
         0.22636533918443555,
         0.22789209035645222,
         0.22719343381879084,
         0.22777578598984025,
         0.2281015926113754,
         0.2282400670570924,
         0.2266635846109221,
         0.22643728421854914,
         0.2299225556335467,
         0.2287716008631476,
         0.22704999535070622,
         0.2289345224168809,
         0.22750169717177166,
         0.22814871001002543,
         0.23044848908651985,
         0.22742025845446714,
         0.2256978411574428,
         0.22945112058454575,
         0.22880774377571308,
         0.22866814809066116,
         0.22808489998729498,
         0.22711284384679267,
         0.22786946937113123,
         0.2293059206750317,
         0.22771787328426452,
         0.22859948120244286,
         0.22797069211910462,
         0.228561498726919
        ],
        [
         23.231551527045667,
         22.969486656598747,
         23.14965400006622,
         23.15449510421604,
         23.205913326703012,
         23.242301649414003,
         23.194491269998252,
         23.389976016245782,
         23.241431831382215,
         23.21037983056158,
         23.172866295091808,
         23.193522083573043,
         23.21701120492071,
         23.187510176561773,
         23.294101937673986,
         23.24141827505082,
         23.193785241805017,
         23.175502377562225,
         23.163081160746515,
         23.088157451711595,
         23.145681797526777,
         23.266431010328233,
         23.335093836300075,
         23.196948080323637,
         23.10112130548805,
         23.108620203100145,
         23.11071357037872,
         23.247212103568017,
         23.249288498423994,
         23.34797581937164,
         23.265776014886796,
         23.27241728361696,
         23.244743107818067,
         23.187175958417356,
         23.09498346131295,
         23.244468498043716,
         23.24723520781845,
         23.302780791185796,
         23.304797648452222,
         23.234346526674926,
         23.26953329797834,
         23.29430268611759,
         23.284911467693746,
         23.16297774668783,
         23.418109658174217,
         23.230525287799537,
         23.15733243059367,
         23.335384911857545,
         23.229839391075075,
         23.375765181146562,
         23.339662260375917,
         23.154311954043806,
         23.388914330862463,
         23.051562662236392,
         23.142675924114883,
         23.365184082649648,
         23.263397126458585,
         23.323315544985235,
         23.274460582993925,
         23.23758879955858,
         23.013449884019792,
         23.08075605239719,
         23.28780373837799,
         23.13569380994886,
         23.21455859672278,
         23.208668923936784,
         23.256259507499635,
         23.328789106570184,
         23.263537130318582,
         22.9960273867473,
         22.96167818363756,
         23.216871394775808,
         23.089264596812427,
         23.244993216358125,
         23.173730249516666,
         23.233130170963705,
         23.26636244636029,
         23.280486839823425,
         23.119685630314052,
         23.096602990292013,
         23.45210067462176,
         23.334703288041055,
         23.159099525772035,
         23.351321286521852,
         23.205173111520708,
         23.271168421022594,
         23.505745886825025,
         23.19686636235565,
         23.021179798059165,
         23.404014299623668,
         23.338389865122736,
         23.324151105247438,
         23.264659798704088,
         23.165510072372854,
         23.242685875855386,
         23.389203908853233,
         23.22722307499498,
         23.31714708264917,
         23.25301059614867,
         23.313272870145738
        ],
        [
         2.862658121971034,
         2.8438495797210805,
         2.8384768639430242,
         2.848160056329552,
         2.847161552050119,
         2.8587641312068417,
         2.8512414662668815,
         2.8717295797437736,
         2.862439856656758,
         2.8342757163029,
         2.852586356321634,
         2.860607985400251,
         2.8516703087345174,
         2.856146385797627,
         2.870302333475802,
         2.8547119980470876,
         2.8500603320524687,
         2.853751795406492,
         2.8477582787969418,
         2.8591544805515494,
         2.8499044292392335,
         2.8537366648814455,
         2.867979880387128,
         2.8491719643961897,
         2.852811649826929,
         2.843771271784213,
         2.8571525642902604,
         2.861058776786645,
         2.8546653636541945,
         2.860755404916479,
         2.8541956610135877,
         2.8709431270922967,
         2.8616577775136105,
         2.8502958193828576,
         2.847334934111129,
         2.853987710941992,
         2.865082743299895,
         2.8652636714316215,
         2.8633311379740163,
         2.86149035116023,
         2.865430936063575,
         2.8643491945042228,
         2.870475350348984,
         2.856072685676971,
         2.8633799949669996,
         2.855659052551804,
         2.8554251791440515,
         2.8611712364099127,
         2.8422979363077565,
         2.8766899691650014,
         2.8755110691855372,
         2.851685308240845,
         2.8681151398976086,
         2.83668048299617,
         2.8566331814703276,
         2.870976265674993,
         2.854671054641263,
         2.870048941954275,
         2.862259805327712,
         2.855668417365949,
         2.849096258064857,
         2.8506052990710047,
         2.8615468611139376,
         2.8473080345027832,
         2.8555487228625385,
         2.852338415449774,
         2.8470272013147584,
         2.880876008343831,
         2.857377893174573,
         2.850284512131454,
         2.839712901733247,
         2.8529374779970906,
         2.850776610073197,
         2.8718089441785057,
         2.8571398905838308,
         2.8686240957820233,
         2.8677810946320332,
         2.864430635338737,
         2.8548718648224445,
         2.8447229205263067,
         2.8802625410182108,
         2.849212687057351,
         2.8530892154439056,
         2.870267023447635,
         2.862866685342541,
         2.862471425886024,
         2.8820813127624727,
         2.8532239891016977,
         2.841819286916219,
         2.866660602847539,
         2.8683816318163196,
         2.861165238580366,
         2.863910888478682,
         2.8483625439692153,
         2.85937845974955,
         2.875333179903719,
         2.8649125264759094,
         2.8516200176606303,
         2.8586308188973746,
         2.8579946834413197
        ]
       ],
       "encoder": "json",
       "name": "ABC_GAN_1 Metrics",
       "version": 1
      }
     },
     "metadata": {
      "scrapbook": {
       "data": true,
       "display": false,
       "name": "ABC_GAN_1 Metrics"
      }
     },
     "output_type": "display_data"
    },
    {
     "name": "stdout",
     "output_type": "stream",
     "text": [
      "MSE\n",
      "0.08007524927537366\n"
     ]
    }
   ],
   "source": [
    "ABC_GAN1_metrics=ABC_train_test2.test_generator(gen,test_data,prior_model,variance,0,\"1\",device)\n",
    "sb.glue(\"ABC_GAN_1 Metrics\",ABC_GAN1_metrics)\n",
    "\n",
    "print(\"MSE\")\n",
    "print(mean(ABC_GAN1_metrics[0]))"
   ]
  },
  {
   "cell_type": "code",
   "execution_count": 14,
   "id": "eb22ce5c",
   "metadata": {
    "execution": {
     "iopub.execute_input": "2022-03-11T09:37:44.886120Z",
     "iopub.status.busy": "2022-03-11T09:37:44.885748Z",
     "iopub.status.idle": "2022-03-11T09:37:45.207806Z",
     "shell.execute_reply": "2022-03-11T09:37:45.208125Z"
    },
    "papermill": {
     "duration": 0.336758,
     "end_time": "2022-03-11T09:37:45.208250",
     "exception": false,
     "start_time": "2022-03-11T09:37:44.871492",
     "status": "completed"
    },
    "tags": []
   },
   "outputs": [
    {
     "data": {
      "image/png": "[encoded data removed]",
      "text/plain": [
       "<Figure size 432x288 with 1 Axes>"
      ]
     },
     "metadata": {
      "needs_background": "light"
     },
     "output_type": "display_data"
    },
    {
     "data": {
      "image/png": "[encoded data removed]",
      "text/plain": [
       "<Figure size 432x288 with 1 Axes>"
      ]
     },
     "metadata": {
      "needs_background": "light"
     },
     "output_type": "display_data"
    },
    {
     "data": {
      "image/png": "[encoded data removed]",
      "text/plain": [
       "<Figure size 432x288 with 1 Axes>"
      ]
     },
     "metadata": {
      "needs_background": "light"
     },
     "output_type": "display_data"
    },
    {
     "data": {
      "image/png": "[encoded data removed]",
      "text/plain": [
       "<Figure size 432x288 with 1 Axes>"
      ]
     },
     "metadata": {
      "needs_background": "light"
     },
     "output_type": "display_data"
    }
   ],
   "source": [
    "sanityChecks.discProbVsError(train_data,disc,device)\n",
    "sanityChecks.discProbVsError(test_data,disc,device)"
   ]
  },
  {
   "cell_type": "markdown",
   "id": "130f3a4d",
   "metadata": {
    "id": "130f3a4d",
    "papermill": {
     "duration": 0.014528,
     "end_time": "2022-03-11T09:37:45.238138",
     "exception": false,
     "start_time": "2022-03-11T09:37:45.223610",
     "status": "completed"
    },
    "tags": []
   },
   "source": [
    "# ABC - GAN Model with skip connection"
   ]
  },
  {
   "cell_type": "code",
   "execution_count": 15,
   "id": "4e43dad1",
   "metadata": {
    "execution": {
     "iopub.execute_input": "2022-03-11T09:37:45.270470Z",
     "iopub.status.busy": "2022-03-11T09:37:45.270082Z",
     "iopub.status.idle": "2022-03-11T09:37:45.272417Z",
     "shell.execute_reply": "2022-03-11T09:37:45.272675Z"
    },
    "id": "4e43dad1",
    "papermill": {
     "duration": 0.02009,
     "end_time": "2022-03-11T09:37:45.272787",
     "exception": false,
     "start_time": "2022-03-11T09:37:45.252697",
     "status": "completed"
    },
    "tags": []
   },
   "outputs": [],
   "source": [
    "#Generator\n",
    "gen3 = network.GeneratorWithSkipConnection(n_features+1).to(device)\n",
    "constraints=network.weightConstraint()\n",
    "#Discriminator \n",
    "disc3 = network.Discriminator(n_features+1).to(device)\n",
    "\n",
    "criterion = torch.nn.BCELoss()\n",
    "gen_opt = torch.optim.Adam(gen3.parameters(), lr=0.001, betas=(0.5, 0.999))\n",
    "disc_opt = torch.optim.Adam(disc3.parameters(), lr=0.001, betas=(0.5, 0.999))\n"
   ]
  },
  {
   "cell_type": "code",
   "execution_count": 16,
   "id": "26acbc37",
   "metadata": {
    "execution": {
     "iopub.execute_input": "2022-03-11T09:37:45.304588Z",
     "iopub.status.busy": "2022-03-11T09:37:45.304212Z",
     "iopub.status.idle": "2022-03-11T09:40:13.695541Z",
     "shell.execute_reply": "2022-03-11T09:40:13.695853Z"
    },
    "id": "26acbc37",
    "papermill": {
     "duration": 148.408342,
     "end_time": "2022-03-11T09:40:13.695978",
     "exception": false,
     "start_time": "2022-03-11T09:37:45.287636",
     "status": "completed"
    },
    "tags": []
   },
   "outputs": [
    {
     "data": {
      "image/png": "[encoded data removed]",
      "text/plain": [
       "<Figure size 432x288 with 1 Axes>"
      ]
     },
     "metadata": {
      "needs_background": "light"
     },
     "output_type": "display_data"
    },
    {
     "data": {
      "image/png": "[encoded data removed]",
      "text/plain": [
       "<Figure size 432x288 with 1 Axes>"
      ]
     },
     "metadata": {
      "needs_background": "light"
     },
     "output_type": "display_data"
    }
   ],
   "source": [
    "ABC_train_test2.training_GAN_skip_connection(disc3,gen3,disc_opt,gen_opt,train_data,batch_size,n_epochs,criterion,prior_model,variance,0,device)"
   ]
  },
  {
   "cell_type": "code",
   "execution_count": 17,
   "id": "c5e0717b",
   "metadata": {
    "execution": {
     "iopub.execute_input": "2022-03-11T09:40:13.731794Z",
     "iopub.status.busy": "2022-03-11T09:40:13.731408Z",
     "iopub.status.idle": "2022-03-11T09:40:14.548175Z",
     "shell.execute_reply": "2022-03-11T09:40:14.548398Z"
    },
    "id": "c5e0717b",
    "papermill": {
     "duration": 0.835893,
     "end_time": "2022-03-11T09:40:14.548520",
     "exception": false,
     "start_time": "2022-03-11T09:40:13.712627",
     "status": "completed"
    },
    "tags": []
   },
   "outputs": [
    {
     "data": {
      "application/scrapbook.scrap.json+json": {
       "data": 0.06080614999457448,
       "encoder": "json",
       "name": "ABC-GAN Model 3 MSE",
       "version": 1
      }
     },
     "metadata": {
      "scrapbook": {
       "data": true,
       "display": false,
       "name": "ABC-GAN Model 3 MSE"
      }
     },
     "output_type": "display_data"
    },
    {
     "data": {
      "application/scrapbook.scrap.json+json": {
       "data": 0.18915047737356622,
       "encoder": "json",
       "name": "ABC-GAN Model 3 MAE",
       "version": 1
      }
     },
     "metadata": {
      "scrapbook": {
       "data": true,
       "display": false,
       "name": "ABC-GAN Model 3 MAE"
      }
     },
     "output_type": "display_data"
    },
    {
     "data": {
      "application/scrapbook.scrap.json+json": {
       "data": 19.293348692103756,
       "encoder": "json",
       "name": "ABC-GAN Model 3 Manhattan Distance",
       "version": 1
      }
     },
     "metadata": {
      "scrapbook": {
       "data": true,
       "display": false,
       "name": "ABC-GAN Model 3 Manhattan Distance"
      }
     },
     "output_type": "display_data"
    },
    {
     "data": {
      "application/scrapbook.scrap.json+json": {
       "data": 2.4903947154507633,
       "encoder": "json",
       "name": "ABC-GAN Model 3 Euclidean distance",
       "version": 1
      }
     },
     "metadata": {
      "scrapbook": {
       "data": true,
       "display": false,
       "name": "ABC-GAN Model 3 Euclidean distance"
      }
     },
     "output_type": "display_data"
    },
    {
     "data": {
      "application/scrapbook.scrap.json+json": {
       "data": [
        [
         0.06072986550660762,
         0.060572880508778716,
         0.0606829338169064,
         0.05954046610512751,
         0.060343490908091525,
         0.06121813946836605,
         0.060418124193328614,
         0.06087510250156228,
         0.061275937365127396,
         0.06109234674219854,
         0.060172935725832516,
         0.06123536998180293,
         0.06060216093466276,
         0.06150751781546716,
         0.0606667996481482,
         0.061064566396978666,
         0.06109979116752715,
         0.06084502373705728,
         0.061373677911159545,
         0.06005816614408499,
         0.0610760015561339,
         0.05998083301724342,
         0.06044758838114673,
         0.060879189765218666,
         0.06139756002134765,
         0.060651402192220844,
         0.059639905531941276,
         0.06024009939655111,
         0.05969795791258645,
         0.06049316034951714,
         0.06093493030329971,
         0.059654483156972485,
         0.06021446451323224,
         0.06087307995483823,
         0.0607555498953206,
         0.06008496071855923,
         0.06147136385220293,
         0.06254511875108307,
         0.06031394262096648,
         0.06149997554108026,
         0.060873690334644896,
         0.06135828657582753,
         0.06023728546556732,
         0.060501091494571994,
         0.06110258118960115,
         0.060421027819954766,
         0.06129021273504118,
         0.06097763243115511,
         0.061067832232496,
         0.06029109078845124,
         0.059342960272998034,
         0.06177394797952813,
         0.06113443426873708,
         0.061889376553818175,
         0.06190064030606455,
         0.06002521455654735,
         0.0604640580063123,
         0.060083965272732826,
         0.060100105608763714,
         0.06056412802265584,
         0.06134437486131013,
         0.06136401136101446,
         0.060379900336061144,
         0.06013166154236025,
         0.06163186765059365,
         0.06103317976811098,
         0.061306614630221495,
         0.061112975206650606,
         0.06118378261706461,
         0.0619601731357452,
         0.06144468669172637,
         0.06019204489565931,
         0.060074356575893086,
         0.061423807834194454,
         0.06058971063985198,
         0.06059610330234535,
         0.06063223110670149,
         0.06047264859758339,
         0.060303049912572765,
         0.060506966264770784,
         0.061348358442255224,
         0.06079238216686885,
         0.061595436715701946,
         0.06022564037433165,
         0.06066757733705498,
         0.06023241257022112,
         0.06137495954897916,
         0.06007909251411284,
         0.06172270296901344,
         0.06080196695635496,
         0.06128698743360541,
         0.06068141547761753,
         0.060858382824468614,
         0.061870066028782984,
         0.0617758821586484,
         0.0601060114885612,
         0.060781841428065767,
         0.06167860397748177,
         0.06150881125306693,
         0.05991589493607679
        ],
        [
         0.1903307654383574,
         0.18945930344874368,
         0.19034891859536954,
         0.1870546534785307,
         0.18947535469288043,
         0.19042194261233888,
         0.1892602763814377,
         0.1905258827587115,
         0.1900945600103952,
         0.19061198824213124,
         0.1874029663683591,
         0.19001886503332677,
         0.1893576410526008,
         0.19097844897495472,
         0.1894413297356782,
         0.18900912692405136,
         0.18995899731731591,
         0.18985390558144918,
         0.18956835483036497,
         0.18757674257800566,
         0.1888228742058809,
         0.18931289794215678,
         0.1889093285152579,
         0.18885456046600843,
         0.18912841725692736,
         0.18850104900661344,
         0.18583635650757774,
         0.18897949857637286,
         0.18682503555079594,
         0.1886091746809874,
         0.18815211317154998,
         0.18639323921581985,
         0.18874067017881602,
         0.18879756662885055,
         0.18854635151322274,
         0.1877523952565503,
         0.19060852742918274,
         0.19022473405279658,
         0.18787044362511998,
         0.19033408139412308,
         0.18876151069450905,
         0.18875428587746093,
         0.18765010902037224,
         0.18780408269159643,
         0.18981804160912538,
         0.18920146066731974,
         0.18829899420961738,
         0.18861412645463704,
         0.1879532863203363,
         0.18945453116012848,
         0.186198515415776,
         0.19010923575500355,
         0.18939346180060038,
         0.19036154028064772,
         0.19185221579619774,
         0.18675625093244747,
         0.18957451211434662,
         0.18861637159488073,
         0.18793568564076707,
         0.18791097797928194,
         0.19073969448058337,
         0.18957239843211046,
         0.18742476130707883,
         0.1888629822882221,
         0.1899968065120572,
         0.18959938184193828,
         0.19066349010658906,
         0.18976069133107862,
         0.19102193151290217,
         0.19148760061601505,
         0.1889253818320439,
         0.1892780711162178,
         0.18680240888623337,
         0.1902333442030438,
         0.18867513310054645,
         0.1881177425110603,
         0.1887278404068567,
         0.18754991844259933,
         0.18750094909987905,
         0.18847729914876468,
         0.1904551092096988,
         0.18936490812612808,
         0.19025876277181156,
         0.1890993633891876,
         0.19014556453033699,
         0.18892769901739323,
         0.1915819217889186,
         0.1886579928755322,
         0.1903140791874452,
         0.18783497334658808,
         0.19037657867496213,
         0.18945116517773153,
         0.18937874730566845,
         0.19160695110137263,
         0.19175456638685337,
         0.18734585638979778,
         0.189118232203684,
         0.1904956894451935,
         0.19045475937024342,
         0.18803845463758884
        ],
        [
         19.413738074712455,
         19.324848951771855,
         19.415589696727693,
         19.07957465481013,
         19.326486178673804,
         19.423038146458566,
         19.304548190906644,
         19.43364004138857,
         19.389645121060312,
         19.442422800697386,
         19.115102569572628,
         19.38192423339933,
         19.31447938736528,
         19.479801795445383,
         19.323015633039176,
         19.27893094625324,
         19.375817726366222,
         19.365098369307816,
         19.335972192697227,
         19.13282774295658,
         19.25993316899985,
         19.30991559009999,
         19.268751508556306,
         19.26316516753286,
         19.291098560206592,
         19.22710699867457,
         18.95530836377293,
         19.275908854790032,
         19.056153626181185,
         19.238135817460716,
         19.1915155434981,
         19.012110400013626,
         19.251548358239233,
         19.257351796142757,
         19.23172785434872,
         19.15074431616813,
         19.44206979777664,
         19.40292287338525,
         19.162785249762237,
         19.414076302200556,
         19.253674090839922,
         19.252937159501016,
         19.140311120077968,
         19.156016434542835,
         19.36144024413079,
         19.298548988066614,
         19.206497409380972,
         19.238640898372978,
         19.171235204674304,
         19.324362178333104,
         18.992248572409153,
         19.391142047010362,
         19.31813310366124,
         19.416877108626068,
         19.56892601121217,
         19.04913759510964,
         19.336600235663354,
         19.238869902677834,
         19.16943993535824,
         19.16691975388676,
         19.455448837019503,
         19.336384640075266,
         19.11732565332204,
         19.264024193398654,
         19.379674264229834,
         19.339136947877705,
         19.447675990872085,
         19.355590515770018,
         19.484237014316022,
         19.531735262833536,
         19.27038894686848,
         19.306363253854215,
         19.053845706395805,
         19.403801108710468,
         19.24486357625574,
         19.18800973612815,
         19.250239721499383,
         19.13009168114513,
         19.125096808187664,
         19.224684513173997,
         19.426421139389277,
         19.315220628865063,
         19.40639380272478,
         19.288135065697134,
         19.39484758209437,
         19.27062529977411,
         19.5413560224697,
         19.243115273304284,
         19.41203607711941,
         19.159167281351984,
         19.418411024846137,
         19.324018848128617,
         19.316632225178182,
         19.54390901234001,
         19.558965771459043,
         19.109277351759374,
         19.29005968477577,
         19.430560323409736,
         19.42638545576483,
         19.17992237303406
        ],
        [
         2.488864456267954,
         2.485645552345593,
         2.487902580352465,
         2.464371632429453,
         2.480934515988952,
         2.4988497805537127,
         2.4824682611706272,
         2.49183876989651,
         2.50002912207898,
         2.4962811075085773,
         2.4774259714540237,
         2.4992014200828025,
         2.4862462499389717,
         2.5047488531143496,
         2.48757182089505,
         2.495713479647017,
         2.4964331953985406,
         2.491223077361769,
         2.502022211519768,
         2.47506221067202,
         2.4959471466210292,
         2.4734682063367677,
         2.483073501706497,
         2.4919224217564047,
         2.5025089654539623,
         2.4872561234433666,
         2.4664286659577264,
         2.4788082092909516,
         2.467628762006923,
         2.4840093308300495,
         2.493062953664943,
         2.4667300788718642,
         2.4782807307384864,
         2.4917973744655684,
         2.489390706442583,
         2.4756142658526272,
         2.504012602389353,
         2.5257874242719778,
         2.4803270242729245,
         2.5045952777225677,
         2.491809867171606,
         2.501708462378142,
         2.4787503136636952,
         2.4841721624006543,
         2.4964901925181517,
         2.482527912760577,
         2.5003203192739525,
         2.493936348020499,
         2.4957802162279012,
         2.479857104839314,
         2.4602808676746237,
         2.5101678617000633,
         2.4971408241048763,
         2.5125119718101745,
         2.5127405976778787,
         2.474383132170083,
         2.4834117493166237,
         2.475593758640288,
         2.4759262452855695,
         2.485465964021816,
         2.5014248411362736,
         2.5018251655188606,
         2.4816828633566854,
         2.4765761602100476,
         2.5072795018426945,
         2.4950720102528745,
         2.500654852690109,
         2.4967025195401957,
         2.4981484797626803,
         2.513948619173831,
         2.5034692014394926,
         2.477819319352654,
         2.475395800824808,
         2.503043826841199,
         2.485990845772547,
         2.4861219875217757,
         2.486862998414579,
         2.4835881617034463,
         2.48010304041635,
         2.4842927683762674,
         2.5015060585795172,
         2.490145172679822,
         2.506538358972708,
         2.4785107056823112,
         2.487587764960185,
         2.478650052379834,
         2.502048335663377,
         2.4754933723279304,
         2.5091264820330146,
         2.4903414684633525,
         2.5002545306883763,
         2.4878714554246946,
         2.4914965478795668,
         2.512119968261043,
         2.5102071588182,
         2.4760478936872854,
         2.4899292812573424,
         2.5082299746440992,
         2.504775189076422,
         2.472128897019698
        ]
       ],
       "encoder": "json",
       "name": "ABC_GAN_3 Metrics",
       "version": 1
      }
     },
     "metadata": {
      "scrapbook": {
       "data": true,
       "display": false,
       "name": "ABC_GAN_3 Metrics"
      }
     },
     "output_type": "display_data"
    },
    {
     "name": "stdout",
     "output_type": "stream",
     "text": [
      "MSE\n",
      "0.06080614999457448\n"
     ]
    }
   ],
   "source": [
    "ABC_GAN3_metrics=ABC_train_test2.test_generator(gen3,test_data,prior_model,variance,0,\"3\",device)\n",
    "sb.glue(\"ABC_GAN_3 Metrics\",ABC_GAN3_metrics)\n",
    "\n",
    "print(\"MSE\")\n",
    "print(mean(ABC_GAN3_metrics[0]))"
   ]
  },
  {
   "cell_type": "code",
   "execution_count": 18,
   "id": "c8e46b48",
   "metadata": {
    "execution": {
     "iopub.execute_input": "2022-03-11T09:40:14.585789Z",
     "iopub.status.busy": "2022-03-11T09:40:14.585416Z",
     "iopub.status.idle": "2022-03-11T09:40:14.913662Z",
     "shell.execute_reply": "2022-03-11T09:40:14.913974Z"
    },
    "id": "c8e46b48",
    "papermill": {
     "duration": 0.3481,
     "end_time": "2022-03-11T09:40:14.914112",
     "exception": false,
     "start_time": "2022-03-11T09:40:14.566012",
     "status": "completed"
    },
    "tags": []
   },
   "outputs": [
    {
     "data": {
      "image/png": "[encoded data removed]",
      "text/plain": [
       "<Figure size 432x288 with 1 Axes>"
      ]
     },
     "metadata": {
      "needs_background": "light"
     },
     "output_type": "display_data"
    },
    {
     "data": {
      "image/png": "[encoded data removed]",
      "text/plain": [
       "<Figure size 432x288 with 1 Axes>"
      ]
     },
     "metadata": {
      "needs_background": "light"
     },
     "output_type": "display_data"
    },
    {
     "data": {
      "image/png": "[encoded data removed]",
      "text/plain": [
       "<Figure size 432x288 with 1 Axes>"
      ]
     },
     "metadata": {
      "needs_background": "light"
     },
     "output_type": "display_data"
    },
    {
     "data": {
      "image/png": "[encoded data removed]",
      "text/plain": [
       "<Figure size 432x288 with 1 Axes>"
      ]
     },
     "metadata": {
      "needs_background": "light"
     },
     "output_type": "display_data"
    }
   ],
   "source": [
    "sanityChecks.discProbVsError(train_data,disc3,device)\n",
    "sanityChecks.discProbVsError(test_data,disc3,device)"
   ]
  },
  {
   "cell_type": "markdown",
   "id": "a5bd74c3",
   "metadata": {
    "id": "a5bd74c3",
    "papermill": {
     "duration": 0.024174,
     "end_time": "2022-03-11T09:40:14.958174",
     "exception": false,
     "start_time": "2022-03-11T09:40:14.934000",
     "status": "completed"
    },
    "tags": []
   },
   "source": [
    "## Skip Connection Model Analysis - ABC-GAN "
   ]
  },
  {
   "cell_type": "markdown",
   "id": "5744a8bf",
   "metadata": {
    "id": "5744a8bf",
    "papermill": {
     "duration": 0.020465,
     "end_time": "2022-03-11T09:40:15.005253",
     "exception": false,
     "start_time": "2022-03-11T09:40:14.984788",
     "status": "completed"
    },
    "tags": []
   },
   "source": [
    "### Weight Analysis \n",
    "\n",
    "Study the weights of the skip connection layer\n",
    "\n",
    "Equation of the skip connection is \n",
    "\n",
    "$output = y_{gan} * w + y_{abc} * (1-w)$"
   ]
  },
  {
   "cell_type": "code",
   "execution_count": 19,
   "id": "52c31dea",
   "metadata": {
    "execution": {
     "iopub.execute_input": "2022-03-11T09:40:15.047842Z",
     "iopub.status.busy": "2022-03-11T09:40:15.047456Z",
     "iopub.status.idle": "2022-03-11T09:40:15.050884Z",
     "shell.execute_reply": "2022-03-11T09:40:15.051122Z"
    },
    "id": "52c31dea",
    "papermill": {
     "duration": 0.026121,
     "end_time": "2022-03-11T09:40:15.051234",
     "exception": false,
     "start_time": "2022-03-11T09:40:15.025113",
     "status": "completed"
    },
    "tags": []
   },
   "outputs": [
    {
     "name": "stdout",
     "output_type": "stream",
     "text": [
      "Weight of the node at skip connection\n",
      "Parameter containing:\n",
      "tensor([[0.0914]], requires_grad=True)\n"
     ]
    },
    {
     "data": {
      "application/scrapbook.scrap.json+json": {
       "data": 0.09143483638763428,
       "encoder": "json",
       "name": "Skip Connection Weight",
       "version": 1
      }
     },
     "metadata": {
      "scrapbook": {
       "data": true,
       "display": false,
       "name": "Skip Connection Weight"
      }
     },
     "output_type": "display_data"
    }
   ],
   "source": [
    "print(\"Weight of the node at skip connection\")\n",
    "for name,param in gen3.named_parameters():\n",
    "    if(name == \"skipNode.weight\"):\n",
    "        print(param)\n",
    "        sb.glue(\"Skip Connection Weight\",param.item())"
   ]
  }
 ],
 "metadata": {
  "colab": {
   "collapsed_sections": [],
   "name": "ABC_GAN_Model-Catboost_Pre-gen.ipynb",
   "provenance": []
  },
  "interpreter": {
   "hash": "31f2aee4e71d21fbe5cf8b01ff0e069b9275f58929596ceb00d14d90e3e16cd6"
  },
  "kernelspec": {
   "display_name": "Python 3 (ipykernel)",
   "language": "python",
   "name": "python3"
  },
  "language_info": {
   "codemirror_mode": {
    "name": "ipython",
    "version": 3
   },
   "file_extension": ".py",
   "mimetype": "text/x-python",
   "name": "python",
   "nbconvert_exporter": "python",
   "pygments_lexer": "ipython3",
   "version": "3.8.11"
  },
  "papermill": {
   "default_parameters": {},
   "duration": 191.50062,
   "end_time": "2022-03-11T09:40:15.378579",
   "environment_variables": {},
   "exception": null,
   "input_path": "ABC_GAN-Catboost.ipynb",
   "output_path": "./ABC_GAN_Catboost/ABC-GAN_output_1_2.ipynb",
   "parameters": {
    "variance": 0.01
   },
   "start_time": "2022-03-11T09:37:03.877959",
   "version": "2.3.3"
  }
 },
 "nbformat": 4,
 "nbformat_minor": 5
}