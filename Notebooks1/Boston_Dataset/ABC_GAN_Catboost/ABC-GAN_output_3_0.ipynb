{
 "cells": [
  {
   "cell_type": "markdown",
   "id": "622780e6",
   "metadata": {
    "id": "622780e6",
    "papermill": {
     "duration": 0.034471,
     "end_time": "2022-03-11T09:49:53.324782",
     "exception": false,
     "start_time": "2022-03-11T09:49:53.290311",
     "status": "completed"
    },
    "tags": []
   },
   "source": [
    "## Import Libraries "
   ]
  },
  {
   "cell_type": "code",
   "execution_count": 1,
   "id": "a62397e3",
   "metadata": {
    "execution": {
     "iopub.execute_input": "2022-03-11T09:49:53.361910Z",
     "iopub.status.busy": "2022-03-11T09:49:53.361307Z",
     "iopub.status.idle": "2022-03-11T09:49:53.363622Z",
     "shell.execute_reply": "2022-03-11T09:49:53.363969Z"
    },
    "id": "a62397e3",
    "papermill": {
     "duration": 0.022181,
     "end_time": "2022-03-11T09:49:53.364179",
     "exception": false,
     "start_time": "2022-03-11T09:49:53.341998",
     "status": "completed"
    },
    "tags": []
   },
   "outputs": [],
   "source": [
    "import warnings\n",
    "import sys\n",
    "sys.path.insert(0, '../../src')\n",
    "warnings.filterwarnings('ignore')"
   ]
  },
  {
   "cell_type": "code",
   "execution_count": 2,
   "id": "d6a4e155",
   "metadata": {
    "execution": {
     "iopub.execute_input": "2022-03-11T09:49:53.384968Z",
     "iopub.status.busy": "2022-03-11T09:49:53.384563Z",
     "iopub.status.idle": "2022-03-11T09:49:55.137230Z",
     "shell.execute_reply": "2022-03-11T09:49:55.137493Z"
    },
    "id": "d6a4e155",
    "papermill": {
     "duration": 1.763754,
     "end_time": "2022-03-11T09:49:55.137618",
     "exception": false,
     "start_time": "2022-03-11T09:49:53.373864",
     "status": "completed"
    },
    "tags": []
   },
   "outputs": [],
   "source": [
    "import ABC_train_test2\n",
    "import bostonDataset\n",
    "import network\n",
    "import dataset\n",
    "import sanityChecks\n",
    "import torch \n",
    "import scrapbook as sb\n",
    "from statistics import mean \n",
    "import catboost as ctb \n",
    "from sklearn.model_selection import train_test_split\n",
    "from sklearn.metrics import mean_squared_error,mean_absolute_error\n",
    "import numpy as np"
   ]
  },
  {
   "cell_type": "markdown",
   "id": "2fa5b0f7",
   "metadata": {
    "id": "2fa5b0f7",
    "papermill": {
     "duration": 0.006762,
     "end_time": "2022-03-11T09:49:55.151619",
     "exception": false,
     "start_time": "2022-03-11T09:49:55.144857",
     "status": "completed"
    },
    "tags": []
   },
   "source": [
    "## Parameters "
   ]
  },
  {
   "cell_type": "code",
   "execution_count": 3,
   "id": "783186fb",
   "metadata": {
    "execution": {
     "iopub.execute_input": "2022-03-11T09:49:55.167322Z",
     "iopub.status.busy": "2022-03-11T09:49:55.166945Z",
     "iopub.status.idle": "2022-03-11T09:49:55.168194Z",
     "shell.execute_reply": "2022-03-11T09:49:55.168445Z"
    },
    "id": "783186fb",
    "papermill": {
     "duration": 0.010247,
     "end_time": "2022-03-11T09:49:55.168556",
     "exception": false,
     "start_time": "2022-03-11T09:49:55.158309",
     "status": "completed"
    },
    "tags": [
     "parameters"
    ]
   },
   "outputs": [],
   "source": [
    "variance = 1"
   ]
  },
  {
   "cell_type": "code",
   "execution_count": 4,
   "id": "a3d74b7c",
   "metadata": {
    "execution": {
     "iopub.execute_input": "2022-03-11T09:49:55.184106Z",
     "iopub.status.busy": "2022-03-11T09:49:55.183731Z",
     "iopub.status.idle": "2022-03-11T09:49:55.185064Z",
     "shell.execute_reply": "2022-03-11T09:49:55.185312Z"
    },
    "papermill": {
     "duration": 0.009957,
     "end_time": "2022-03-11T09:49:55.185416",
     "exception": false,
     "start_time": "2022-03-11T09:49:55.175459",
     "status": "completed"
    },
    "tags": [
     "injected-parameters"
    ]
   },
   "outputs": [],
   "source": [
    "# Parameters\n",
    "variance = 1\n"
   ]
  },
  {
   "cell_type": "markdown",
   "id": "391cdbfd",
   "metadata": {
    "id": "391cdbfd",
    "papermill": {
     "duration": 0.006772,
     "end_time": "2022-03-11T09:49:55.199012",
     "exception": false,
     "start_time": "2022-03-11T09:49:55.192240",
     "status": "completed"
    },
    "tags": []
   },
   "source": [
    "## Dataset \n"
   ]
  },
  {
   "cell_type": "code",
   "execution_count": 5,
   "id": "5b51f161",
   "metadata": {
    "execution": {
     "iopub.execute_input": "2022-03-11T09:49:55.214547Z",
     "iopub.status.busy": "2022-03-11T09:49:55.214190Z",
     "iopub.status.idle": "2022-03-11T09:49:55.215469Z",
     "shell.execute_reply": "2022-03-11T09:49:55.215706Z"
    },
    "id": "5b51f161",
    "papermill": {
     "duration": 0.010012,
     "end_time": "2022-03-11T09:49:55.215813",
     "exception": false,
     "start_time": "2022-03-11T09:49:55.205801",
     "status": "completed"
    },
    "tags": []
   },
   "outputs": [],
   "source": [
    "#Parameters \n",
    "n_features = 13\n",
    "n_samples= 506\n",
    "n_target = 1 "
   ]
  },
  {
   "cell_type": "code",
   "execution_count": 6,
   "id": "5d6eced4",
   "metadata": {
    "execution": {
     "iopub.execute_input": "2022-03-11T09:49:55.233554Z",
     "iopub.status.busy": "2022-03-11T09:49:55.233168Z",
     "iopub.status.idle": "2022-03-11T09:49:55.245089Z",
     "shell.execute_reply": "2022-03-11T09:49:55.245686Z"
    },
    "id": "5d6eced4",
    "papermill": {
     "duration": 0.023078,
     "end_time": "2022-03-11T09:49:55.245841",
     "exception": false,
     "start_time": "2022-03-11T09:49:55.222763",
     "status": "completed"
    },
    "tags": []
   },
   "outputs": [
    {
     "name": "stdout",
     "output_type": "stream",
     "text": [
      "         X1        X2        X3        X4        X5        X6        X7  \\\n",
      "0 -0.419782  0.284830 -1.287909 -0.272599 -0.144217  0.413672 -0.120013   \n",
      "1 -0.417339 -0.487722 -0.593381 -0.272599 -0.740262  0.194274  0.367166   \n",
      "2 -0.417342 -0.487722 -0.593381 -0.272599 -0.740262  1.282714 -0.265812   \n",
      "3 -0.416750 -0.487722 -1.306878 -0.272599 -0.835284  1.016303 -0.809889   \n",
      "4 -0.412482 -0.487722 -1.306878 -0.272599 -0.835284  1.228577 -0.511180   \n",
      "\n",
      "         X8        X9       X10       X11       X12       X13         Y  \n",
      "0  0.140214 -0.982843 -0.666608 -1.459000  0.441052 -1.075562  0.159686  \n",
      "1  0.557160 -0.867883 -0.987329 -0.303094  0.441052 -0.492439 -0.101524  \n",
      "2  0.557160 -0.867883 -0.987329 -0.303094  0.396427 -1.208727  1.324247  \n",
      "3  1.077737 -0.752922 -1.106115  0.113032  0.416163 -1.361517  1.182758  \n",
      "4  1.077737 -0.752922 -1.106115  0.113032  0.441052 -1.026501  1.487503  \n"
     ]
    }
   ],
   "source": [
    "X,Y = bostonDataset.boston_data()"
   ]
  },
  {
   "cell_type": "code",
   "execution_count": 7,
   "id": "fe007438",
   "metadata": {
    "execution": {
     "iopub.execute_input": "2022-03-11T09:49:55.268109Z",
     "iopub.status.busy": "2022-03-11T09:49:55.267703Z",
     "iopub.status.idle": "2022-03-11T09:49:55.269350Z",
     "shell.execute_reply": "2022-03-11T09:49:55.269616Z"
    },
    "id": "fe007438",
    "papermill": {
     "duration": 0.015735,
     "end_time": "2022-03-11T09:49:55.269748",
     "exception": false,
     "start_time": "2022-03-11T09:49:55.254013",
     "status": "completed"
    },
    "tags": []
   },
   "outputs": [],
   "source": [
    "#Train test split for dataset \n",
    "X_train,X_test,Y_train,Y_test = train_test_split(X,Y,test_size = 0.2)\n",
    "train_data = dataset.CustomDataset(X_train,Y_train)\n",
    "test_data = dataset.CustomDataset(X_test,Y_test)\n"
   ]
  },
  {
   "cell_type": "markdown",
   "id": "a9a1af34",
   "metadata": {
    "id": "a9a1af34",
    "papermill": {
     "duration": 0.008096,
     "end_time": "2022-03-11T09:49:55.285648",
     "exception": false,
     "start_time": "2022-03-11T09:49:55.277552",
     "status": "completed"
    },
    "tags": []
   },
   "source": [
    "## Training Parameters "
   ]
  },
  {
   "cell_type": "code",
   "execution_count": 8,
   "id": "952b7fc8",
   "metadata": {
    "execution": {
     "iopub.execute_input": "2022-03-11T09:49:55.304047Z",
     "iopub.status.busy": "2022-03-11T09:49:55.303645Z",
     "iopub.status.idle": "2022-03-11T09:49:55.304984Z",
     "shell.execute_reply": "2022-03-11T09:49:55.305322Z"
    },
    "id": "952b7fc8",
    "papermill": {
     "duration": 0.012292,
     "end_time": "2022-03-11T09:49:55.305448",
     "exception": false,
     "start_time": "2022-03-11T09:49:55.293156",
     "status": "completed"
    },
    "tags": []
   },
   "outputs": [],
   "source": [
    "batch_size = 64\n",
    "n_epochs = 1000\n",
    "#Select the device \n",
    "device = torch.device('cuda' if torch.cuda.is_available() else 'cpu')"
   ]
  },
  {
   "cell_type": "markdown",
   "id": "a95e1600",
   "metadata": {
    "id": "a95e1600",
    "papermill": {
     "duration": 0.008218,
     "end_time": "2022-03-11T09:49:55.322053",
     "exception": false,
     "start_time": "2022-03-11T09:49:55.313835",
     "status": "completed"
    },
    "tags": []
   },
   "source": [
    "# ABC Pre-generator Model \n",
    "\n",
    "1. The catboost model is used as a pre-generator model for the ABC-GAN. \n",
    "2. The model is first trained on the entire dataset \n",
    "3. It generats X,Y pairs and we add some Gaussian noise with mean 0 and variance 1 to it which is then feed as input to the generator.\n"
   ]
  },
  {
   "cell_type": "code",
   "execution_count": 9,
   "id": "ff8ce7bd",
   "metadata": {
    "execution": {
     "iopub.execute_input": "2022-03-11T09:49:55.357540Z",
     "iopub.status.busy": "2022-03-11T09:49:55.357134Z",
     "iopub.status.idle": "2022-03-11T09:49:56.382276Z",
     "shell.execute_reply": "2022-03-11T09:49:56.382523Z"
    },
    "id": "ff8ce7bd",
    "papermill": {
     "duration": 1.039228,
     "end_time": "2022-03-11T09:49:56.382650",
     "exception": false,
     "start_time": "2022-03-11T09:49:55.343422",
     "status": "completed"
    },
    "tags": []
   },
   "outputs": [
    {
     "name": "stdout",
     "output_type": "stream",
     "text": [
      "Learning rate set to 0.033215\n",
      "0:\tlearn: 1.0004995\ttotal: 58.6ms\tremaining: 58.6s\n",
      "1:\tlearn: 0.9794482\ttotal: 59.7ms\tremaining: 29.8s\n",
      "2:\tlearn: 0.9595002\ttotal: 60.6ms\tremaining: 20.1s\n",
      "3:\tlearn: 0.9419304\ttotal: 61.6ms\tremaining: 15.3s\n",
      "4:\tlearn: 0.9240293\ttotal: 63.2ms\tremaining: 12.6s\n",
      "5:\tlearn: 0.9091210\ttotal: 64.6ms\tremaining: 10.7s\n",
      "6:\tlearn: 0.8936735\ttotal: 65.6ms\tremaining: 9.31s\n",
      "7:\tlearn: 0.8770670\ttotal: 66.5ms\tremaining: 8.25s\n",
      "8:\tlearn: 0.8606437\ttotal: 67.6ms\tremaining: 7.45s\n",
      "9:\tlearn: 0.8441695\ttotal: 68.8ms\tremaining: 6.81s\n",
      "10:\tlearn: 0.8281115\ttotal: 70.2ms\tremaining: 6.31s\n",
      "11:\tlearn: 0.8124250\ttotal: 71.5ms\tremaining: 5.89s\n",
      "12:\tlearn: 0.7970555\ttotal: 72.4ms\tremaining: 5.5s\n",
      "13:\tlearn: 0.7818463\ttotal: 73.4ms\tremaining: 5.17s\n",
      "14:\tlearn: 0.7693402\ttotal: 74.3ms\tremaining: 4.88s\n",
      "15:\tlearn: 0.7553163\ttotal: 75.1ms\tremaining: 4.62s\n",
      "16:\tlearn: 0.7431199\ttotal: 76.1ms\tremaining: 4.4s\n",
      "17:\tlearn: 0.7293922\ttotal: 76.8ms\tremaining: 4.19s\n",
      "18:\tlearn: 0.7167997\ttotal: 77.7ms\tremaining: 4.01s\n",
      "19:\tlearn: 0.7036392\ttotal: 78.6ms\tremaining: 3.85s\n",
      "20:\tlearn: 0.6891421\ttotal: 79.6ms\tremaining: 3.71s\n",
      "21:\tlearn: 0.6769063\ttotal: 80.5ms\tremaining: 3.58s\n"
     ]
    },
    {
     "name": "stdout",
     "output_type": "stream",
     "text": [
      "22:\tlearn: 0.6660917\ttotal: 81.5ms\tremaining: 3.46s\n",
      "23:\tlearn: 0.6556955\ttotal: 82.5ms\tremaining: 3.36s\n",
      "24:\tlearn: 0.6445121\ttotal: 84.2ms\tremaining: 3.28s\n",
      "25:\tlearn: 0.6354279\ttotal: 85.3ms\tremaining: 3.19s\n",
      "26:\tlearn: 0.6265932\ttotal: 86.3ms\tremaining: 3.11s\n",
      "27:\tlearn: 0.6177440\ttotal: 87.2ms\tremaining: 3.03s\n",
      "28:\tlearn: 0.6078317\ttotal: 88.2ms\tremaining: 2.95s\n",
      "29:\tlearn: 0.5974441\ttotal: 89ms\tremaining: 2.88s\n",
      "30:\tlearn: 0.5871216\ttotal: 89.8ms\tremaining: 2.81s\n",
      "31:\tlearn: 0.5789280\ttotal: 90.6ms\tremaining: 2.74s\n",
      "32:\tlearn: 0.5716789\ttotal: 91.5ms\tremaining: 2.68s\n",
      "33:\tlearn: 0.5639613\ttotal: 92.3ms\tremaining: 2.62s\n",
      "34:\tlearn: 0.5576367\ttotal: 93.4ms\tremaining: 2.57s\n",
      "35:\tlearn: 0.5500625\ttotal: 94.4ms\tremaining: 2.53s\n",
      "36:\tlearn: 0.5427960\ttotal: 95.3ms\tremaining: 2.48s\n",
      "37:\tlearn: 0.5357830\ttotal: 96.2ms\tremaining: 2.44s\n",
      "38:\tlearn: 0.5284597\ttotal: 97ms\tremaining: 2.39s\n",
      "39:\tlearn: 0.5203240\ttotal: 97.8ms\tremaining: 2.35s\n",
      "40:\tlearn: 0.5146939\ttotal: 98.6ms\tremaining: 2.31s\n",
      "41:\tlearn: 0.5069770\ttotal: 99.5ms\tremaining: 2.27s\n",
      "42:\tlearn: 0.5007984\ttotal: 100ms\tremaining: 2.23s\n",
      "43:\tlearn: 0.4953399\ttotal: 101ms\tremaining: 2.2s\n",
      "44:\tlearn: 0.4895802\ttotal: 102ms\tremaining: 2.17s\n",
      "45:\tlearn: 0.4834980\ttotal: 103ms\tremaining: 2.14s\n",
      "46:\tlearn: 0.4764442\ttotal: 104ms\tremaining: 2.11s\n",
      "47:\tlearn: 0.4697800\ttotal: 105ms\tremaining: 2.08s\n",
      "48:\tlearn: 0.4648107\ttotal: 106ms\tremaining: 2.05s\n",
      "49:\tlearn: 0.4599790\ttotal: 107ms\tremaining: 2.02s\n",
      "50:\tlearn: 0.4546201\ttotal: 107ms\tremaining: 2s\n",
      "51:\tlearn: 0.4490795\ttotal: 108ms\tremaining: 1.97s\n",
      "52:\tlearn: 0.4434295\ttotal: 109ms\tremaining: 1.95s\n",
      "53:\tlearn: 0.4397943\ttotal: 110ms\tremaining: 1.93s\n",
      "54:\tlearn: 0.4352134\ttotal: 111ms\tremaining: 1.91s\n",
      "55:\tlearn: 0.4304803\ttotal: 112ms\tremaining: 1.89s\n",
      "56:\tlearn: 0.4268993\ttotal: 113ms\tremaining: 1.87s\n",
      "57:\tlearn: 0.4223533\ttotal: 114ms\tremaining: 1.85s\n",
      "58:\tlearn: 0.4188264\ttotal: 115ms\tremaining: 1.84s\n",
      "59:\tlearn: 0.4146619\ttotal: 116ms\tremaining: 1.82s\n",
      "60:\tlearn: 0.4099809\ttotal: 117ms\tremaining: 1.8s\n",
      "61:\tlearn: 0.4052144\ttotal: 118ms\tremaining: 1.79s\n",
      "62:\tlearn: 0.4019557\ttotal: 119ms\tremaining: 1.77s\n",
      "63:\tlearn: 0.3979951\ttotal: 120ms\tremaining: 1.76s\n",
      "64:\tlearn: 0.3946004\ttotal: 121ms\tremaining: 1.75s\n",
      "65:\tlearn: 0.3909409\ttotal: 122ms\tremaining: 1.73s\n",
      "66:\tlearn: 0.3875370\ttotal: 123ms\tremaining: 1.71s\n",
      "67:\tlearn: 0.3830238\ttotal: 124ms\tremaining: 1.7s\n",
      "68:\tlearn: 0.3796270\ttotal: 125ms\tremaining: 1.68s\n",
      "69:\tlearn: 0.3766325\ttotal: 126ms\tremaining: 1.67s\n",
      "70:\tlearn: 0.3732060\ttotal: 127ms\tremaining: 1.66s\n",
      "71:\tlearn: 0.3703164\ttotal: 127ms\tremaining: 1.64s\n",
      "72:\tlearn: 0.3675175\ttotal: 128ms\tremaining: 1.63s\n",
      "73:\tlearn: 0.3643244\ttotal: 129ms\tremaining: 1.62s\n",
      "74:\tlearn: 0.3616340\ttotal: 130ms\tremaining: 1.61s\n",
      "75:\tlearn: 0.3589767\ttotal: 131ms\tremaining: 1.59s\n",
      "76:\tlearn: 0.3554996\ttotal: 132ms\tremaining: 1.58s\n",
      "77:\tlearn: 0.3526992\ttotal: 133ms\tremaining: 1.57s\n",
      "78:\tlearn: 0.3494861\ttotal: 134ms\tremaining: 1.56s\n",
      "79:\tlearn: 0.3470872\ttotal: 135ms\tremaining: 1.55s\n",
      "80:\tlearn: 0.3446423\ttotal: 136ms\tremaining: 1.54s\n",
      "81:\tlearn: 0.3413817\ttotal: 136ms\tremaining: 1.53s\n",
      "82:\tlearn: 0.3379584\ttotal: 137ms\tremaining: 1.52s\n",
      "83:\tlearn: 0.3353375\ttotal: 138ms\tremaining: 1.5s\n",
      "84:\tlearn: 0.3334956\ttotal: 139ms\tremaining: 1.49s\n",
      "85:\tlearn: 0.3312414\ttotal: 139ms\tremaining: 1.48s\n",
      "86:\tlearn: 0.3293975\ttotal: 140ms\tremaining: 1.47s\n",
      "87:\tlearn: 0.3269521\ttotal: 141ms\tremaining: 1.46s\n",
      "88:\tlearn: 0.3248317\ttotal: 142ms\tremaining: 1.45s\n",
      "89:\tlearn: 0.3221995\ttotal: 143ms\tremaining: 1.44s\n",
      "90:\tlearn: 0.3199437\ttotal: 144ms\tremaining: 1.44s\n",
      "91:\tlearn: 0.3177059\ttotal: 145ms\tremaining: 1.43s\n",
      "92:\tlearn: 0.3152542\ttotal: 145ms\tremaining: 1.42s\n",
      "93:\tlearn: 0.3132780\ttotal: 146ms\tremaining: 1.41s\n",
      "94:\tlearn: 0.3114482\ttotal: 147ms\tremaining: 1.4s\n",
      "95:\tlearn: 0.3089102\ttotal: 148ms\tremaining: 1.4s\n",
      "96:\tlearn: 0.3073469\ttotal: 149ms\tremaining: 1.39s\n",
      "97:\tlearn: 0.3058127\ttotal: 150ms\tremaining: 1.38s\n",
      "98:\tlearn: 0.3042025\ttotal: 151ms\tremaining: 1.37s\n",
      "99:\tlearn: 0.3026530\ttotal: 152ms\tremaining: 1.36s\n",
      "100:\tlearn: 0.3007594\ttotal: 153ms\tremaining: 1.36s\n",
      "101:\tlearn: 0.2993180\ttotal: 153ms\tremaining: 1.35s\n",
      "102:\tlearn: 0.2982733\ttotal: 154ms\tremaining: 1.34s\n",
      "103:\tlearn: 0.2972297\ttotal: 155ms\tremaining: 1.34s\n",
      "104:\tlearn: 0.2961594\ttotal: 156ms\tremaining: 1.33s\n",
      "105:\tlearn: 0.2948881\ttotal: 157ms\tremaining: 1.32s\n",
      "106:\tlearn: 0.2930229\ttotal: 159ms\tremaining: 1.32s\n",
      "107:\tlearn: 0.2914366\ttotal: 160ms\tremaining: 1.32s\n",
      "108:\tlearn: 0.2900466\ttotal: 160ms\tremaining: 1.31s\n",
      "109:\tlearn: 0.2886630\ttotal: 161ms\tremaining: 1.3s\n",
      "110:\tlearn: 0.2873204\ttotal: 162ms\tremaining: 1.3s\n",
      "111:\tlearn: 0.2859769\ttotal: 164ms\tremaining: 1.3s\n",
      "112:\tlearn: 0.2845666\ttotal: 165ms\tremaining: 1.29s\n",
      "113:\tlearn: 0.2830924\ttotal: 165ms\tremaining: 1.28s\n",
      "114:\tlearn: 0.2813847\ttotal: 166ms\tremaining: 1.28s\n",
      "115:\tlearn: 0.2796867\ttotal: 167ms\tremaining: 1.27s\n",
      "116:\tlearn: 0.2778853\ttotal: 168ms\tremaining: 1.27s\n",
      "117:\tlearn: 0.2766547\ttotal: 169ms\tremaining: 1.26s\n",
      "118:\tlearn: 0.2758454\ttotal: 170ms\tremaining: 1.25s\n",
      "119:\tlearn: 0.2749699\ttotal: 170ms\tremaining: 1.25s\n",
      "120:\tlearn: 0.2741211\ttotal: 171ms\tremaining: 1.24s\n",
      "121:\tlearn: 0.2729930\ttotal: 172ms\tremaining: 1.24s\n",
      "122:\tlearn: 0.2719734\ttotal: 173ms\tremaining: 1.24s\n",
      "123:\tlearn: 0.2706282\ttotal: 174ms\tremaining: 1.23s\n",
      "124:\tlearn: 0.2696142\ttotal: 175ms\tremaining: 1.22s\n",
      "125:\tlearn: 0.2685826\ttotal: 176ms\tremaining: 1.22s\n",
      "126:\tlearn: 0.2676413\ttotal: 177ms\tremaining: 1.21s\n",
      "127:\tlearn: 0.2664359\ttotal: 178ms\tremaining: 1.21s\n",
      "128:\tlearn: 0.2656294\ttotal: 178ms\tremaining: 1.2s\n",
      "129:\tlearn: 0.2645368\ttotal: 179ms\tremaining: 1.2s\n",
      "130:\tlearn: 0.2630844\ttotal: 180ms\tremaining: 1.19s\n",
      "131:\tlearn: 0.2623410\ttotal: 181ms\tremaining: 1.19s\n",
      "132:\tlearn: 0.2612699\ttotal: 182ms\tremaining: 1.19s\n",
      "133:\tlearn: 0.2604236\ttotal: 184ms\tremaining: 1.19s\n",
      "134:\tlearn: 0.2595139\ttotal: 185ms\tremaining: 1.18s\n",
      "135:\tlearn: 0.2588214\ttotal: 186ms\tremaining: 1.18s\n",
      "136:\tlearn: 0.2576755\ttotal: 187ms\tremaining: 1.18s\n",
      "137:\tlearn: 0.2572004\ttotal: 188ms\tremaining: 1.17s\n",
      "138:\tlearn: 0.2568217\ttotal: 189ms\tremaining: 1.17s\n",
      "139:\tlearn: 0.2558151\ttotal: 190ms\tremaining: 1.17s\n",
      "140:\tlearn: 0.2551405\ttotal: 190ms\tremaining: 1.16s\n",
      "141:\tlearn: 0.2539529\ttotal: 191ms\tremaining: 1.15s\n"
     ]
    },
    {
     "name": "stdout",
     "output_type": "stream",
     "text": [
      "142:\tlearn: 0.2525396\ttotal: 192ms\tremaining: 1.15s\n",
      "143:\tlearn: 0.2517739\ttotal: 193ms\tremaining: 1.15s\n",
      "144:\tlearn: 0.2509419\ttotal: 196ms\tremaining: 1.16s\n",
      "145:\tlearn: 0.2501401\ttotal: 197ms\tremaining: 1.15s\n",
      "146:\tlearn: 0.2493593\ttotal: 198ms\tremaining: 1.15s\n",
      "147:\tlearn: 0.2485475\ttotal: 199ms\tremaining: 1.14s\n",
      "148:\tlearn: 0.2479845\ttotal: 200ms\tremaining: 1.14s\n",
      "149:\tlearn: 0.2472398\ttotal: 201ms\tremaining: 1.14s\n",
      "150:\tlearn: 0.2459727\ttotal: 202ms\tremaining: 1.13s\n",
      "151:\tlearn: 0.2451692\ttotal: 203ms\tremaining: 1.13s\n",
      "152:\tlearn: 0.2446073\ttotal: 204ms\tremaining: 1.13s\n",
      "153:\tlearn: 0.2435971\ttotal: 204ms\tremaining: 1.12s\n",
      "154:\tlearn: 0.2427982\ttotal: 206ms\tremaining: 1.12s\n",
      "155:\tlearn: 0.2419147\ttotal: 207ms\tremaining: 1.12s\n",
      "156:\tlearn: 0.2409448\ttotal: 208ms\tremaining: 1.11s\n",
      "157:\tlearn: 0.2399685\ttotal: 209ms\tremaining: 1.11s\n",
      "158:\tlearn: 0.2391198\ttotal: 210ms\tremaining: 1.11s\n",
      "159:\tlearn: 0.2385640\ttotal: 211ms\tremaining: 1.1s\n",
      "160:\tlearn: 0.2377173\ttotal: 211ms\tremaining: 1.1s\n",
      "161:\tlearn: 0.2369140\ttotal: 212ms\tremaining: 1.1s\n",
      "162:\tlearn: 0.2365298\ttotal: 213ms\tremaining: 1.09s\n",
      "163:\tlearn: 0.2357790\ttotal: 214ms\tremaining: 1.09s\n",
      "164:\tlearn: 0.2351749\ttotal: 215ms\tremaining: 1.09s\n",
      "165:\tlearn: 0.2342824\ttotal: 216ms\tremaining: 1.08s\n",
      "166:\tlearn: 0.2334843\ttotal: 217ms\tremaining: 1.08s\n",
      "167:\tlearn: 0.2326428\ttotal: 218ms\tremaining: 1.08s\n",
      "168:\tlearn: 0.2317728\ttotal: 219ms\tremaining: 1.07s\n",
      "169:\tlearn: 0.2310595\ttotal: 220ms\tremaining: 1.07s\n",
      "170:\tlearn: 0.2303149\ttotal: 221ms\tremaining: 1.07s\n",
      "171:\tlearn: 0.2294724\ttotal: 221ms\tremaining: 1.07s\n",
      "172:\tlearn: 0.2288105\ttotal: 222ms\tremaining: 1.06s\n",
      "173:\tlearn: 0.2280102\ttotal: 223ms\tremaining: 1.06s\n",
      "174:\tlearn: 0.2275710\ttotal: 224ms\tremaining: 1.06s\n",
      "175:\tlearn: 0.2271230\ttotal: 225ms\tremaining: 1.05s\n",
      "176:\tlearn: 0.2265738\ttotal: 226ms\tremaining: 1.05s\n",
      "177:\tlearn: 0.2263283\ttotal: 227ms\tremaining: 1.05s\n",
      "178:\tlearn: 0.2261830\ttotal: 228ms\tremaining: 1.04s\n",
      "179:\tlearn: 0.2256194\ttotal: 229ms\tremaining: 1.04s\n",
      "180:\tlearn: 0.2249747\ttotal: 229ms\tremaining: 1.04s\n",
      "181:\tlearn: 0.2244084\ttotal: 231ms\tremaining: 1.03s\n",
      "182:\tlearn: 0.2242308\ttotal: 231ms\tremaining: 1.03s\n",
      "183:\tlearn: 0.2240735\ttotal: 232ms\tremaining: 1.03s\n",
      "184:\tlearn: 0.2233363\ttotal: 233ms\tremaining: 1.03s\n",
      "185:\tlearn: 0.2227792\ttotal: 234ms\tremaining: 1.02s\n",
      "186:\tlearn: 0.2218318\ttotal: 235ms\tremaining: 1.02s\n",
      "187:\tlearn: 0.2214125\ttotal: 236ms\tremaining: 1.02s\n",
      "188:\tlearn: 0.2210758\ttotal: 237ms\tremaining: 1.01s\n",
      "189:\tlearn: 0.2204553\ttotal: 237ms\tremaining: 1.01s\n",
      "190:\tlearn: 0.2201436\ttotal: 238ms\tremaining: 1.01s\n",
      "191:\tlearn: 0.2199801\ttotal: 239ms\tremaining: 1.01s\n",
      "192:\tlearn: 0.2195470\ttotal: 240ms\tremaining: 1s\n",
      "193:\tlearn: 0.2190765\ttotal: 241ms\tremaining: 1s\n",
      "194:\tlearn: 0.2186486\ttotal: 242ms\tremaining: 1000ms\n",
      "195:\tlearn: 0.2180348\ttotal: 243ms\tremaining: 997ms\n",
      "196:\tlearn: 0.2177882\ttotal: 244ms\tremaining: 995ms\n",
      "197:\tlearn: 0.2173415\ttotal: 245ms\tremaining: 993ms\n",
      "198:\tlearn: 0.2170189\ttotal: 246ms\tremaining: 990ms\n",
      "199:\tlearn: 0.2165485\ttotal: 247ms\tremaining: 988ms\n",
      "200:\tlearn: 0.2162542\ttotal: 248ms\tremaining: 985ms\n",
      "201:\tlearn: 0.2157906\ttotal: 249ms\tremaining: 983ms\n",
      "202:\tlearn: 0.2152811\ttotal: 250ms\tremaining: 980ms\n",
      "203:\tlearn: 0.2149522\ttotal: 250ms\tremaining: 977ms\n",
      "204:\tlearn: 0.2144874\ttotal: 251ms\tremaining: 974ms\n",
      "205:\tlearn: 0.2140234\ttotal: 252ms\tremaining: 972ms\n",
      "206:\tlearn: 0.2134680\ttotal: 253ms\tremaining: 969ms\n",
      "207:\tlearn: 0.2130453\ttotal: 254ms\tremaining: 967ms\n",
      "208:\tlearn: 0.2126149\ttotal: 255ms\tremaining: 965ms\n",
      "209:\tlearn: 0.2121771\ttotal: 256ms\tremaining: 962ms\n",
      "210:\tlearn: 0.2119836\ttotal: 257ms\tremaining: 960ms\n",
      "211:\tlearn: 0.2115187\ttotal: 257ms\tremaining: 957ms\n",
      "212:\tlearn: 0.2113034\ttotal: 258ms\tremaining: 954ms\n",
      "213:\tlearn: 0.2109974\ttotal: 259ms\tremaining: 952ms\n",
      "214:\tlearn: 0.2107987\ttotal: 260ms\tremaining: 949ms\n",
      "215:\tlearn: 0.2103934\ttotal: 261ms\tremaining: 947ms\n",
      "216:\tlearn: 0.2101023\ttotal: 262ms\tremaining: 944ms\n",
      "217:\tlearn: 0.2097886\ttotal: 263ms\tremaining: 942ms\n",
      "218:\tlearn: 0.2093247\ttotal: 263ms\tremaining: 939ms\n",
      "219:\tlearn: 0.2090158\ttotal: 264ms\tremaining: 937ms\n",
      "220:\tlearn: 0.2085061\ttotal: 265ms\tremaining: 935ms\n",
      "221:\tlearn: 0.2083171\ttotal: 266ms\tremaining: 932ms\n",
      "222:\tlearn: 0.2080932\ttotal: 267ms\tremaining: 929ms\n",
      "223:\tlearn: 0.2079129\ttotal: 268ms\tremaining: 927ms\n",
      "224:\tlearn: 0.2077751\ttotal: 268ms\tremaining: 924ms\n",
      "225:\tlearn: 0.2073136\ttotal: 269ms\tremaining: 922ms\n",
      "226:\tlearn: 0.2069165\ttotal: 270ms\tremaining: 920ms\n",
      "227:\tlearn: 0.2065042\ttotal: 271ms\tremaining: 918ms\n"
     ]
    },
    {
     "name": "stdout",
     "output_type": "stream",
     "text": [
      "228:\tlearn: 0.2060118\ttotal: 272ms\tremaining: 917ms\n",
      "229:\tlearn: 0.2056117\ttotal: 273ms\tremaining: 915ms\n",
      "230:\tlearn: 0.2055194\ttotal: 274ms\tremaining: 913ms\n",
      "231:\tlearn: 0.2050044\ttotal: 275ms\tremaining: 911ms\n",
      "232:\tlearn: 0.2047346\ttotal: 276ms\tremaining: 909ms\n",
      "233:\tlearn: 0.2045614\ttotal: 277ms\tremaining: 906ms\n",
      "234:\tlearn: 0.2043873\ttotal: 278ms\tremaining: 904ms\n",
      "235:\tlearn: 0.2039883\ttotal: 279ms\tremaining: 902ms\n",
      "236:\tlearn: 0.2035825\ttotal: 279ms\tremaining: 900ms\n",
      "237:\tlearn: 0.2030954\ttotal: 280ms\tremaining: 898ms\n",
      "238:\tlearn: 0.2028738\ttotal: 281ms\tremaining: 895ms\n",
      "239:\tlearn: 0.2024170\ttotal: 282ms\tremaining: 893ms\n",
      "240:\tlearn: 0.2021748\ttotal: 283ms\tremaining: 891ms\n",
      "241:\tlearn: 0.2015797\ttotal: 284ms\tremaining: 889ms\n",
      "242:\tlearn: 0.2011354\ttotal: 285ms\tremaining: 887ms\n",
      "243:\tlearn: 0.2006199\ttotal: 286ms\tremaining: 885ms\n",
      "244:\tlearn: 0.2001114\ttotal: 286ms\tremaining: 882ms\n",
      "245:\tlearn: 0.1996355\ttotal: 287ms\tremaining: 880ms\n",
      "246:\tlearn: 0.1993966\ttotal: 288ms\tremaining: 878ms\n",
      "247:\tlearn: 0.1990965\ttotal: 289ms\tremaining: 876ms\n",
      "248:\tlearn: 0.1987056\ttotal: 290ms\tremaining: 874ms\n",
      "249:\tlearn: 0.1985736\ttotal: 290ms\tremaining: 871ms\n",
      "250:\tlearn: 0.1980313\ttotal: 291ms\tremaining: 870ms\n",
      "251:\tlearn: 0.1975912\ttotal: 292ms\tremaining: 868ms\n",
      "252:\tlearn: 0.1974461\ttotal: 293ms\tremaining: 866ms\n",
      "253:\tlearn: 0.1969572\ttotal: 294ms\tremaining: 864ms\n",
      "254:\tlearn: 0.1965557\ttotal: 295ms\tremaining: 862ms\n",
      "255:\tlearn: 0.1960964\ttotal: 296ms\tremaining: 860ms\n",
      "256:\tlearn: 0.1958648\ttotal: 297ms\tremaining: 859ms\n",
      "257:\tlearn: 0.1954197\ttotal: 298ms\tremaining: 857ms\n",
      "258:\tlearn: 0.1950267\ttotal: 299ms\tremaining: 855ms\n",
      "259:\tlearn: 0.1949312\ttotal: 300ms\tremaining: 854ms\n",
      "260:\tlearn: 0.1948782\ttotal: 301ms\tremaining: 852ms\n",
      "261:\tlearn: 0.1943060\ttotal: 302ms\tremaining: 850ms\n",
      "262:\tlearn: 0.1939087\ttotal: 303ms\tremaining: 849ms\n",
      "263:\tlearn: 0.1935193\ttotal: 304ms\tremaining: 847ms\n",
      "264:\tlearn: 0.1932168\ttotal: 305ms\tremaining: 845ms\n",
      "265:\tlearn: 0.1931453\ttotal: 306ms\tremaining: 844ms\n",
      "266:\tlearn: 0.1930092\ttotal: 307ms\tremaining: 842ms\n",
      "267:\tlearn: 0.1929564\ttotal: 308ms\tremaining: 840ms\n",
      "268:\tlearn: 0.1928766\ttotal: 309ms\tremaining: 839ms\n",
      "269:\tlearn: 0.1926570\ttotal: 310ms\tremaining: 838ms\n",
      "270:\tlearn: 0.1925194\ttotal: 311ms\tremaining: 836ms\n",
      "271:\tlearn: 0.1919719\ttotal: 312ms\tremaining: 834ms\n",
      "272:\tlearn: 0.1914998\ttotal: 313ms\tremaining: 832ms\n",
      "273:\tlearn: 0.1909744\ttotal: 314ms\tremaining: 831ms\n",
      "274:\tlearn: 0.1903122\ttotal: 315ms\tremaining: 829ms\n",
      "275:\tlearn: 0.1901598\ttotal: 316ms\tremaining: 828ms\n",
      "276:\tlearn: 0.1896653\ttotal: 317ms\tremaining: 827ms\n",
      "277:\tlearn: 0.1891685\ttotal: 318ms\tremaining: 825ms\n",
      "278:\tlearn: 0.1887113\ttotal: 319ms\tremaining: 823ms\n",
      "279:\tlearn: 0.1881364\ttotal: 320ms\tremaining: 822ms\n",
      "280:\tlearn: 0.1880893\ttotal: 321ms\tremaining: 820ms\n",
      "281:\tlearn: 0.1876675\ttotal: 322ms\tremaining: 819ms\n",
      "282:\tlearn: 0.1872267\ttotal: 322ms\tremaining: 817ms\n",
      "283:\tlearn: 0.1867700\ttotal: 323ms\tremaining: 815ms\n",
      "284:\tlearn: 0.1866106\ttotal: 324ms\tremaining: 813ms\n",
      "285:\tlearn: 0.1860407\ttotal: 325ms\tremaining: 811ms\n",
      "286:\tlearn: 0.1854342\ttotal: 326ms\tremaining: 809ms\n",
      "287:\tlearn: 0.1851239\ttotal: 327ms\tremaining: 807ms\n",
      "288:\tlearn: 0.1850767\ttotal: 327ms\tremaining: 805ms\n",
      "289:\tlearn: 0.1844235\ttotal: 328ms\tremaining: 804ms\n",
      "290:\tlearn: 0.1843420\ttotal: 329ms\tremaining: 802ms\n",
      "291:\tlearn: 0.1839139\ttotal: 330ms\tremaining: 800ms\n",
      "292:\tlearn: 0.1838493\ttotal: 331ms\tremaining: 799ms\n",
      "293:\tlearn: 0.1834126\ttotal: 333ms\tremaining: 799ms\n",
      "294:\tlearn: 0.1830277\ttotal: 334ms\tremaining: 797ms\n",
      "295:\tlearn: 0.1826560\ttotal: 334ms\tremaining: 795ms\n",
      "296:\tlearn: 0.1826072\ttotal: 335ms\tremaining: 794ms\n",
      "297:\tlearn: 0.1821422\ttotal: 336ms\tremaining: 792ms\n",
      "298:\tlearn: 0.1814191\ttotal: 337ms\tremaining: 790ms\n",
      "299:\tlearn: 0.1813292\ttotal: 338ms\tremaining: 788ms\n",
      "300:\tlearn: 0.1811237\ttotal: 339ms\tremaining: 787ms\n",
      "301:\tlearn: 0.1810690\ttotal: 340ms\tremaining: 786ms\n",
      "302:\tlearn: 0.1810316\ttotal: 341ms\tremaining: 784ms\n",
      "303:\tlearn: 0.1805207\ttotal: 342ms\tremaining: 782ms\n",
      "304:\tlearn: 0.1802198\ttotal: 342ms\tremaining: 780ms\n",
      "305:\tlearn: 0.1797723\ttotal: 343ms\tremaining: 779ms\n",
      "306:\tlearn: 0.1797375\ttotal: 344ms\tremaining: 777ms\n",
      "307:\tlearn: 0.1794111\ttotal: 345ms\tremaining: 775ms\n",
      "308:\tlearn: 0.1789908\ttotal: 346ms\tremaining: 774ms\n",
      "309:\tlearn: 0.1789132\ttotal: 347ms\tremaining: 772ms\n",
      "310:\tlearn: 0.1785417\ttotal: 348ms\tremaining: 770ms\n",
      "311:\tlearn: 0.1780701\ttotal: 349ms\tremaining: 769ms\n",
      "312:\tlearn: 0.1779987\ttotal: 349ms\tremaining: 767ms\n",
      "313:\tlearn: 0.1775905\ttotal: 350ms\tremaining: 766ms\n",
      "314:\tlearn: 0.1770901\ttotal: 351ms\tremaining: 764ms\n",
      "315:\tlearn: 0.1767166\ttotal: 352ms\tremaining: 762ms\n",
      "316:\tlearn: 0.1761932\ttotal: 353ms\tremaining: 760ms\n",
      "317:\tlearn: 0.1759401\ttotal: 354ms\tremaining: 759ms\n",
      "318:\tlearn: 0.1755035\ttotal: 355ms\tremaining: 757ms\n",
      "319:\tlearn: 0.1750235\ttotal: 355ms\tremaining: 755ms\n",
      "320:\tlearn: 0.1746250\ttotal: 356ms\tremaining: 754ms\n",
      "321:\tlearn: 0.1741525\ttotal: 357ms\tremaining: 752ms\n",
      "322:\tlearn: 0.1737047\ttotal: 358ms\tremaining: 751ms\n",
      "323:\tlearn: 0.1733341\ttotal: 359ms\tremaining: 749ms\n",
      "324:\tlearn: 0.1729647\ttotal: 361ms\tremaining: 749ms\n",
      "325:\tlearn: 0.1726285\ttotal: 361ms\tremaining: 747ms\n",
      "326:\tlearn: 0.1721231\ttotal: 362ms\tremaining: 746ms\n",
      "327:\tlearn: 0.1720890\ttotal: 363ms\tremaining: 744ms\n",
      "328:\tlearn: 0.1720003\ttotal: 364ms\tremaining: 742ms\n",
      "329:\tlearn: 0.1716367\ttotal: 365ms\tremaining: 741ms\n",
      "330:\tlearn: 0.1713435\ttotal: 366ms\tremaining: 739ms\n",
      "331:\tlearn: 0.1710321\ttotal: 367ms\tremaining: 738ms\n",
      "332:\tlearn: 0.1706743\ttotal: 368ms\tremaining: 736ms\n",
      "333:\tlearn: 0.1703918\ttotal: 368ms\tremaining: 735ms\n",
      "334:\tlearn: 0.1701071\ttotal: 369ms\tremaining: 733ms\n",
      "335:\tlearn: 0.1697296\ttotal: 370ms\tremaining: 731ms\n",
      "336:\tlearn: 0.1691680\ttotal: 371ms\tremaining: 730ms\n",
      "337:\tlearn: 0.1688380\ttotal: 372ms\tremaining: 728ms\n",
      "338:\tlearn: 0.1682575\ttotal: 372ms\tremaining: 726ms\n",
      "339:\tlearn: 0.1681610\ttotal: 373ms\tremaining: 725ms\n",
      "340:\tlearn: 0.1678398\ttotal: 374ms\tremaining: 723ms\n",
      "341:\tlearn: 0.1671866\ttotal: 375ms\tremaining: 721ms\n",
      "342:\tlearn: 0.1667974\ttotal: 376ms\tremaining: 720ms\n",
      "343:\tlearn: 0.1664080\ttotal: 377ms\tremaining: 718ms\n",
      "344:\tlearn: 0.1659457\ttotal: 378ms\tremaining: 717ms\n",
      "345:\tlearn: 0.1658080\ttotal: 378ms\tremaining: 715ms\n",
      "346:\tlearn: 0.1654440\ttotal: 379ms\tremaining: 714ms\n",
      "347:\tlearn: 0.1651364\ttotal: 380ms\tremaining: 712ms\n",
      "348:\tlearn: 0.1649159\ttotal: 381ms\tremaining: 710ms\n",
      "349:\tlearn: 0.1645227\ttotal: 382ms\tremaining: 709ms\n"
     ]
    },
    {
     "name": "stdout",
     "output_type": "stream",
     "text": [
      "350:\tlearn: 0.1643849\ttotal: 383ms\tremaining: 707ms\n",
      "351:\tlearn: 0.1640039\ttotal: 384ms\tremaining: 706ms\n",
      "352:\tlearn: 0.1636744\ttotal: 385ms\tremaining: 705ms\n",
      "353:\tlearn: 0.1632185\ttotal: 386ms\tremaining: 704ms\n",
      "354:\tlearn: 0.1631927\ttotal: 387ms\tremaining: 702ms\n",
      "355:\tlearn: 0.1628375\ttotal: 387ms\tremaining: 701ms\n",
      "356:\tlearn: 0.1625627\ttotal: 388ms\tremaining: 699ms\n",
      "357:\tlearn: 0.1623676\ttotal: 389ms\tremaining: 698ms\n",
      "358:\tlearn: 0.1618982\ttotal: 390ms\tremaining: 696ms\n",
      "359:\tlearn: 0.1616743\ttotal: 391ms\tremaining: 694ms\n",
      "360:\tlearn: 0.1612265\ttotal: 391ms\tremaining: 693ms\n",
      "361:\tlearn: 0.1608691\ttotal: 393ms\tremaining: 693ms\n",
      "362:\tlearn: 0.1605801\ttotal: 394ms\tremaining: 691ms\n",
      "363:\tlearn: 0.1600473\ttotal: 395ms\tremaining: 690ms\n",
      "364:\tlearn: 0.1597778\ttotal: 396ms\tremaining: 688ms\n",
      "365:\tlearn: 0.1594490\ttotal: 396ms\tremaining: 687ms\n",
      "366:\tlearn: 0.1591345\ttotal: 397ms\tremaining: 685ms\n",
      "367:\tlearn: 0.1588028\ttotal: 398ms\tremaining: 684ms\n",
      "368:\tlearn: 0.1585188\ttotal: 399ms\tremaining: 682ms\n",
      "369:\tlearn: 0.1581813\ttotal: 400ms\tremaining: 681ms\n",
      "370:\tlearn: 0.1577676\ttotal: 401ms\tremaining: 679ms\n",
      "371:\tlearn: 0.1576150\ttotal: 401ms\tremaining: 678ms\n",
      "372:\tlearn: 0.1573479\ttotal: 402ms\tremaining: 676ms\n",
      "373:\tlearn: 0.1570025\ttotal: 403ms\tremaining: 675ms\n",
      "374:\tlearn: 0.1566026\ttotal: 404ms\tremaining: 673ms\n",
      "375:\tlearn: 0.1564257\ttotal: 405ms\tremaining: 672ms\n",
      "376:\tlearn: 0.1562163\ttotal: 406ms\tremaining: 670ms\n",
      "377:\tlearn: 0.1559675\ttotal: 407ms\tremaining: 669ms\n",
      "378:\tlearn: 0.1558968\ttotal: 407ms\tremaining: 668ms\n",
      "379:\tlearn: 0.1556182\ttotal: 408ms\tremaining: 666ms\n",
      "380:\tlearn: 0.1553827\ttotal: 409ms\tremaining: 665ms\n",
      "381:\tlearn: 0.1552924\ttotal: 410ms\tremaining: 664ms\n",
      "382:\tlearn: 0.1550536\ttotal: 411ms\tremaining: 662ms\n",
      "383:\tlearn: 0.1546617\ttotal: 412ms\tremaining: 661ms\n",
      "384:\tlearn: 0.1542614\ttotal: 413ms\tremaining: 660ms\n",
      "385:\tlearn: 0.1540120\ttotal: 414ms\tremaining: 658ms\n",
      "386:\tlearn: 0.1536180\ttotal: 415ms\tremaining: 657ms\n",
      "387:\tlearn: 0.1533459\ttotal: 415ms\tremaining: 655ms\n",
      "388:\tlearn: 0.1529420\ttotal: 416ms\tremaining: 654ms\n",
      "389:\tlearn: 0.1526847\ttotal: 417ms\tremaining: 653ms\n",
      "390:\tlearn: 0.1523977\ttotal: 418ms\tremaining: 651ms\n",
      "391:\tlearn: 0.1520441\ttotal: 419ms\tremaining: 650ms\n",
      "392:\tlearn: 0.1515554\ttotal: 420ms\tremaining: 648ms\n",
      "393:\tlearn: 0.1513360\ttotal: 421ms\tremaining: 647ms\n",
      "394:\tlearn: 0.1509825\ttotal: 422ms\tremaining: 646ms\n",
      "395:\tlearn: 0.1509150\ttotal: 422ms\tremaining: 644ms\n",
      "396:\tlearn: 0.1503713\ttotal: 423ms\tremaining: 643ms\n",
      "397:\tlearn: 0.1500067\ttotal: 425ms\tremaining: 642ms\n",
      "398:\tlearn: 0.1496995\ttotal: 425ms\tremaining: 641ms\n",
      "399:\tlearn: 0.1494591\ttotal: 426ms\tremaining: 639ms\n",
      "400:\tlearn: 0.1491337\ttotal: 427ms\tremaining: 638ms\n",
      "401:\tlearn: 0.1488390\ttotal: 428ms\tremaining: 637ms\n",
      "402:\tlearn: 0.1485054\ttotal: 429ms\tremaining: 636ms\n",
      "403:\tlearn: 0.1484462\ttotal: 430ms\tremaining: 634ms\n",
      "404:\tlearn: 0.1483308\ttotal: 431ms\tremaining: 633ms\n",
      "405:\tlearn: 0.1479771\ttotal: 432ms\tremaining: 632ms\n",
      "406:\tlearn: 0.1479323\ttotal: 433ms\tremaining: 630ms\n",
      "407:\tlearn: 0.1476135\ttotal: 433ms\tremaining: 629ms\n",
      "408:\tlearn: 0.1474352\ttotal: 434ms\tremaining: 628ms\n",
      "409:\tlearn: 0.1470762\ttotal: 435ms\tremaining: 627ms\n",
      "410:\tlearn: 0.1467193\ttotal: 436ms\tremaining: 625ms\n",
      "411:\tlearn: 0.1466576\ttotal: 437ms\tremaining: 624ms\n",
      "412:\tlearn: 0.1462993\ttotal: 438ms\tremaining: 623ms\n",
      "413:\tlearn: 0.1461492\ttotal: 439ms\tremaining: 622ms\n",
      "414:\tlearn: 0.1456798\ttotal: 440ms\tremaining: 620ms\n",
      "415:\tlearn: 0.1453554\ttotal: 441ms\tremaining: 619ms\n",
      "416:\tlearn: 0.1451885\ttotal: 442ms\tremaining: 618ms\n",
      "417:\tlearn: 0.1449891\ttotal: 443ms\tremaining: 617ms\n",
      "418:\tlearn: 0.1447204\ttotal: 444ms\tremaining: 615ms\n",
      "419:\tlearn: 0.1446943\ttotal: 445ms\tremaining: 614ms\n",
      "420:\tlearn: 0.1445234\ttotal: 446ms\tremaining: 613ms\n",
      "421:\tlearn: 0.1442621\ttotal: 446ms\tremaining: 611ms\n",
      "422:\tlearn: 0.1439125\ttotal: 447ms\tremaining: 610ms\n",
      "423:\tlearn: 0.1436930\ttotal: 448ms\tremaining: 609ms\n",
      "424:\tlearn: 0.1433742\ttotal: 449ms\tremaining: 608ms\n",
      "425:\tlearn: 0.1431495\ttotal: 451ms\tremaining: 607ms\n",
      "426:\tlearn: 0.1428591\ttotal: 451ms\tremaining: 606ms\n",
      "427:\tlearn: 0.1427880\ttotal: 452ms\tremaining: 604ms\n",
      "428:\tlearn: 0.1424981\ttotal: 453ms\tremaining: 603ms\n",
      "429:\tlearn: 0.1421452\ttotal: 454ms\tremaining: 602ms\n",
      "430:\tlearn: 0.1417952\ttotal: 455ms\tremaining: 601ms\n",
      "431:\tlearn: 0.1414109\ttotal: 456ms\tremaining: 599ms\n",
      "432:\tlearn: 0.1413700\ttotal: 457ms\tremaining: 598ms\n",
      "433:\tlearn: 0.1412637\ttotal: 457ms\tremaining: 597ms\n",
      "434:\tlearn: 0.1408896\ttotal: 458ms\tremaining: 595ms\n",
      "435:\tlearn: 0.1406894\ttotal: 459ms\tremaining: 594ms\n",
      "436:\tlearn: 0.1404978\ttotal: 460ms\tremaining: 593ms\n",
      "437:\tlearn: 0.1402953\ttotal: 461ms\tremaining: 591ms\n",
      "438:\tlearn: 0.1399972\ttotal: 462ms\tremaining: 591ms\n"
     ]
    },
    {
     "name": "stdout",
     "output_type": "stream",
     "text": [
      "439:\tlearn: 0.1395417\ttotal: 463ms\tremaining: 590ms\n",
      "440:\tlearn: 0.1391746\ttotal: 464ms\tremaining: 588ms\n",
      "441:\tlearn: 0.1387109\ttotal: 465ms\tremaining: 587ms\n",
      "442:\tlearn: 0.1385507\ttotal: 466ms\tremaining: 586ms\n",
      "443:\tlearn: 0.1382692\ttotal: 468ms\tremaining: 585ms\n",
      "444:\tlearn: 0.1382052\ttotal: 469ms\tremaining: 584ms\n",
      "445:\tlearn: 0.1380960\ttotal: 470ms\tremaining: 583ms\n",
      "446:\tlearn: 0.1378004\ttotal: 471ms\tremaining: 582ms\n",
      "447:\tlearn: 0.1374826\ttotal: 472ms\tremaining: 581ms\n",
      "448:\tlearn: 0.1373492\ttotal: 473ms\tremaining: 580ms\n",
      "449:\tlearn: 0.1372036\ttotal: 473ms\tremaining: 579ms\n",
      "450:\tlearn: 0.1369743\ttotal: 474ms\tremaining: 577ms\n",
      "451:\tlearn: 0.1366198\ttotal: 475ms\tremaining: 576ms\n",
      "452:\tlearn: 0.1363801\ttotal: 476ms\tremaining: 575ms\n",
      "453:\tlearn: 0.1363040\ttotal: 477ms\tremaining: 573ms\n",
      "454:\tlearn: 0.1360672\ttotal: 478ms\tremaining: 572ms\n",
      "455:\tlearn: 0.1356540\ttotal: 478ms\tremaining: 571ms\n",
      "456:\tlearn: 0.1355325\ttotal: 479ms\tremaining: 570ms\n",
      "457:\tlearn: 0.1353498\ttotal: 480ms\tremaining: 568ms\n",
      "458:\tlearn: 0.1349057\ttotal: 481ms\tremaining: 567ms\n",
      "459:\tlearn: 0.1348462\ttotal: 482ms\tremaining: 566ms\n",
      "460:\tlearn: 0.1345120\ttotal: 483ms\tremaining: 565ms\n",
      "461:\tlearn: 0.1340709\ttotal: 484ms\tremaining: 563ms\n",
      "462:\tlearn: 0.1338317\ttotal: 485ms\tremaining: 562ms\n",
      "463:\tlearn: 0.1335605\ttotal: 486ms\tremaining: 561ms\n",
      "464:\tlearn: 0.1332574\ttotal: 486ms\tremaining: 560ms\n",
      "465:\tlearn: 0.1331230\ttotal: 487ms\tremaining: 558ms\n",
      "466:\tlearn: 0.1330573\ttotal: 488ms\tremaining: 557ms\n",
      "467:\tlearn: 0.1327712\ttotal: 489ms\tremaining: 556ms\n",
      "468:\tlearn: 0.1324426\ttotal: 490ms\tremaining: 554ms\n",
      "469:\tlearn: 0.1321182\ttotal: 491ms\tremaining: 553ms\n",
      "470:\tlearn: 0.1318918\ttotal: 491ms\tremaining: 552ms\n",
      "471:\tlearn: 0.1315240\ttotal: 492ms\tremaining: 551ms\n",
      "472:\tlearn: 0.1313774\ttotal: 493ms\tremaining: 550ms\n",
      "473:\tlearn: 0.1313434\ttotal: 494ms\tremaining: 548ms\n",
      "474:\tlearn: 0.1311700\ttotal: 495ms\tremaining: 547ms\n",
      "475:\tlearn: 0.1309795\ttotal: 496ms\tremaining: 546ms\n",
      "476:\tlearn: 0.1306825\ttotal: 497ms\tremaining: 545ms\n",
      "477:\tlearn: 0.1306199\ttotal: 498ms\tremaining: 543ms\n",
      "478:\tlearn: 0.1304319\ttotal: 498ms\tremaining: 542ms\n",
      "479:\tlearn: 0.1303462\ttotal: 499ms\tremaining: 541ms\n",
      "480:\tlearn: 0.1301021\ttotal: 500ms\tremaining: 540ms\n",
      "481:\tlearn: 0.1298532\ttotal: 501ms\tremaining: 539ms\n",
      "482:\tlearn: 0.1294449\ttotal: 502ms\tremaining: 537ms\n",
      "483:\tlearn: 0.1291171\ttotal: 503ms\tremaining: 536ms\n",
      "484:\tlearn: 0.1288472\ttotal: 504ms\tremaining: 535ms\n",
      "485:\tlearn: 0.1287773\ttotal: 505ms\tremaining: 534ms\n",
      "486:\tlearn: 0.1287175\ttotal: 505ms\tremaining: 532ms\n",
      "487:\tlearn: 0.1284998\ttotal: 506ms\tremaining: 531ms\n",
      "488:\tlearn: 0.1282761\ttotal: 508ms\tremaining: 531ms\n",
      "489:\tlearn: 0.1279216\ttotal: 509ms\tremaining: 530ms\n",
      "490:\tlearn: 0.1276874\ttotal: 510ms\tremaining: 528ms\n",
      "491:\tlearn: 0.1274777\ttotal: 510ms\tremaining: 527ms\n",
      "492:\tlearn: 0.1271930\ttotal: 511ms\tremaining: 526ms\n",
      "493:\tlearn: 0.1269646\ttotal: 512ms\tremaining: 525ms\n",
      "494:\tlearn: 0.1266871\ttotal: 513ms\tremaining: 523ms\n",
      "495:\tlearn: 0.1262918\ttotal: 514ms\tremaining: 522ms\n",
      "496:\tlearn: 0.1260515\ttotal: 515ms\tremaining: 521ms\n",
      "497:\tlearn: 0.1257682\ttotal: 516ms\tremaining: 520ms\n",
      "498:\tlearn: 0.1255160\ttotal: 516ms\tremaining: 519ms\n",
      "499:\tlearn: 0.1253608\ttotal: 518ms\tremaining: 518ms\n",
      "500:\tlearn: 0.1251930\ttotal: 519ms\tremaining: 516ms\n",
      "501:\tlearn: 0.1249503\ttotal: 519ms\tremaining: 515ms\n",
      "502:\tlearn: 0.1248362\ttotal: 520ms\tremaining: 514ms\n",
      "503:\tlearn: 0.1245781\ttotal: 521ms\tremaining: 513ms\n",
      "504:\tlearn: 0.1243396\ttotal: 522ms\tremaining: 512ms\n",
      "505:\tlearn: 0.1241451\ttotal: 523ms\tremaining: 510ms\n",
      "506:\tlearn: 0.1237889\ttotal: 524ms\tremaining: 509ms\n",
      "507:\tlearn: 0.1235934\ttotal: 524ms\tremaining: 508ms\n",
      "508:\tlearn: 0.1234950\ttotal: 525ms\tremaining: 507ms\n",
      "509:\tlearn: 0.1232845\ttotal: 526ms\tremaining: 506ms\n",
      "510:\tlearn: 0.1232219\ttotal: 527ms\tremaining: 504ms\n",
      "511:\tlearn: 0.1228546\ttotal: 528ms\tremaining: 503ms\n",
      "512:\tlearn: 0.1226201\ttotal: 529ms\tremaining: 502ms\n",
      "513:\tlearn: 0.1223999\ttotal: 530ms\tremaining: 501ms\n",
      "514:\tlearn: 0.1222392\ttotal: 530ms\tremaining: 500ms\n",
      "515:\tlearn: 0.1219106\ttotal: 531ms\tremaining: 498ms\n",
      "516:\tlearn: 0.1217187\ttotal: 532ms\tremaining: 497ms\n",
      "517:\tlearn: 0.1215231\ttotal: 533ms\tremaining: 496ms\n",
      "518:\tlearn: 0.1212913\ttotal: 534ms\tremaining: 495ms\n",
      "519:\tlearn: 0.1210851\ttotal: 535ms\tremaining: 494ms\n",
      "520:\tlearn: 0.1208483\ttotal: 536ms\tremaining: 493ms\n",
      "521:\tlearn: 0.1207959\ttotal: 537ms\tremaining: 491ms\n",
      "522:\tlearn: 0.1205801\ttotal: 538ms\tremaining: 490ms\n",
      "523:\tlearn: 0.1202694\ttotal: 538ms\tremaining: 489ms\n",
      "524:\tlearn: 0.1201482\ttotal: 539ms\tremaining: 488ms\n",
      "525:\tlearn: 0.1200850\ttotal: 540ms\tremaining: 487ms\n",
      "526:\tlearn: 0.1198489\ttotal: 541ms\tremaining: 486ms\n",
      "527:\tlearn: 0.1197131\ttotal: 542ms\tremaining: 484ms\n",
      "528:\tlearn: 0.1195741\ttotal: 543ms\tremaining: 483ms\n",
      "529:\tlearn: 0.1195186\ttotal: 544ms\tremaining: 482ms\n",
      "530:\tlearn: 0.1191981\ttotal: 544ms\tremaining: 481ms\n",
      "531:\tlearn: 0.1190334\ttotal: 545ms\tremaining: 480ms\n",
      "532:\tlearn: 0.1188668\ttotal: 546ms\tremaining: 478ms\n",
      "533:\tlearn: 0.1186208\ttotal: 547ms\tremaining: 477ms\n",
      "534:\tlearn: 0.1184455\ttotal: 548ms\tremaining: 476ms\n",
      "535:\tlearn: 0.1182253\ttotal: 549ms\tremaining: 475ms\n",
      "536:\tlearn: 0.1179611\ttotal: 550ms\tremaining: 474ms\n",
      "537:\tlearn: 0.1178450\ttotal: 551ms\tremaining: 473ms\n",
      "538:\tlearn: 0.1176818\ttotal: 552ms\tremaining: 472ms\n",
      "539:\tlearn: 0.1175523\ttotal: 553ms\tremaining: 471ms\n",
      "540:\tlearn: 0.1174299\ttotal: 554ms\tremaining: 470ms\n",
      "541:\tlearn: 0.1172391\ttotal: 555ms\tremaining: 469ms\n",
      "542:\tlearn: 0.1170209\ttotal: 556ms\tremaining: 468ms\n",
      "543:\tlearn: 0.1168306\ttotal: 556ms\tremaining: 466ms\n",
      "544:\tlearn: 0.1167188\ttotal: 557ms\tremaining: 465ms\n",
      "545:\tlearn: 0.1163985\ttotal: 558ms\tremaining: 464ms\n",
      "546:\tlearn: 0.1161586\ttotal: 559ms\tremaining: 463ms\n",
      "547:\tlearn: 0.1159686\ttotal: 560ms\tremaining: 462ms\n",
      "548:\tlearn: 0.1157715\ttotal: 561ms\tremaining: 461ms\n",
      "549:\tlearn: 0.1156039\ttotal: 562ms\tremaining: 460ms\n",
      "550:\tlearn: 0.1155730\ttotal: 563ms\tremaining: 458ms\n",
      "551:\tlearn: 0.1154409\ttotal: 563ms\tremaining: 457ms\n",
      "552:\tlearn: 0.1152603\ttotal: 564ms\tremaining: 456ms\n",
      "553:\tlearn: 0.1149372\ttotal: 565ms\tremaining: 455ms\n",
      "554:\tlearn: 0.1146942\ttotal: 566ms\tremaining: 454ms\n",
      "555:\tlearn: 0.1146658\ttotal: 567ms\tremaining: 453ms\n",
      "556:\tlearn: 0.1143788\ttotal: 568ms\tremaining: 452ms\n",
      "557:\tlearn: 0.1141883\ttotal: 569ms\tremaining: 450ms\n",
      "558:\tlearn: 0.1139250\ttotal: 570ms\tremaining: 449ms\n",
      "559:\tlearn: 0.1136418\ttotal: 570ms\tremaining: 448ms\n",
      "560:\tlearn: 0.1133757\ttotal: 571ms\tremaining: 447ms\n",
      "561:\tlearn: 0.1133208\ttotal: 572ms\tremaining: 446ms\n",
      "562:\tlearn: 0.1132677\ttotal: 573ms\tremaining: 445ms\n"
     ]
    },
    {
     "name": "stdout",
     "output_type": "stream",
     "text": [
      "563:\tlearn: 0.1130027\ttotal: 574ms\tremaining: 444ms\n",
      "564:\tlearn: 0.1129071\ttotal: 575ms\tremaining: 443ms\n",
      "565:\tlearn: 0.1127754\ttotal: 576ms\tremaining: 442ms\n",
      "566:\tlearn: 0.1126822\ttotal: 577ms\tremaining: 441ms\n",
      "567:\tlearn: 0.1123877\ttotal: 578ms\tremaining: 440ms\n",
      "568:\tlearn: 0.1123377\ttotal: 579ms\tremaining: 439ms\n",
      "569:\tlearn: 0.1120586\ttotal: 580ms\tremaining: 438ms\n",
      "570:\tlearn: 0.1118299\ttotal: 581ms\tremaining: 436ms\n",
      "571:\tlearn: 0.1116610\ttotal: 582ms\tremaining: 435ms\n",
      "572:\tlearn: 0.1114083\ttotal: 583ms\tremaining: 434ms\n",
      "573:\tlearn: 0.1111690\ttotal: 584ms\tremaining: 433ms\n",
      "574:\tlearn: 0.1109426\ttotal: 584ms\tremaining: 432ms\n",
      "575:\tlearn: 0.1107080\ttotal: 585ms\tremaining: 431ms\n",
      "576:\tlearn: 0.1106000\ttotal: 586ms\tremaining: 430ms\n",
      "577:\tlearn: 0.1104898\ttotal: 587ms\tremaining: 429ms\n",
      "578:\tlearn: 0.1102718\ttotal: 588ms\tremaining: 427ms\n",
      "579:\tlearn: 0.1100453\ttotal: 589ms\tremaining: 426ms\n",
      "580:\tlearn: 0.1098714\ttotal: 589ms\tremaining: 425ms\n",
      "581:\tlearn: 0.1096884\ttotal: 590ms\tremaining: 424ms\n",
      "582:\tlearn: 0.1094565\ttotal: 591ms\tremaining: 423ms\n",
      "583:\tlearn: 0.1094195\ttotal: 592ms\tremaining: 422ms\n",
      "584:\tlearn: 0.1093105\ttotal: 593ms\tremaining: 420ms\n",
      "585:\tlearn: 0.1091463\ttotal: 594ms\tremaining: 419ms\n",
      "586:\tlearn: 0.1089486\ttotal: 595ms\tremaining: 418ms\n",
      "587:\tlearn: 0.1087505\ttotal: 596ms\tremaining: 417ms\n",
      "588:\tlearn: 0.1085942\ttotal: 596ms\tremaining: 416ms\n",
      "589:\tlearn: 0.1083470\ttotal: 597ms\tremaining: 415ms\n",
      "590:\tlearn: 0.1081725\ttotal: 598ms\tremaining: 414ms\n",
      "591:\tlearn: 0.1080932\ttotal: 599ms\tremaining: 413ms\n",
      "592:\tlearn: 0.1079205\ttotal: 600ms\tremaining: 412ms\n",
      "593:\tlearn: 0.1077600\ttotal: 601ms\tremaining: 411ms\n",
      "594:\tlearn: 0.1076586\ttotal: 602ms\tremaining: 409ms\n",
      "595:\tlearn: 0.1075743\ttotal: 603ms\tremaining: 408ms\n",
      "596:\tlearn: 0.1073295\ttotal: 603ms\tremaining: 407ms\n",
      "597:\tlearn: 0.1071633\ttotal: 604ms\tremaining: 406ms\n",
      "598:\tlearn: 0.1069964\ttotal: 605ms\tremaining: 405ms\n",
      "599:\tlearn: 0.1068550\ttotal: 606ms\tremaining: 404ms\n",
      "600:\tlearn: 0.1066412\ttotal: 608ms\tremaining: 403ms\n",
      "601:\tlearn: 0.1064198\ttotal: 609ms\tremaining: 402ms\n",
      "602:\tlearn: 0.1061824\ttotal: 610ms\tremaining: 401ms\n",
      "603:\tlearn: 0.1059746\ttotal: 611ms\tremaining: 400ms\n",
      "604:\tlearn: 0.1058217\ttotal: 612ms\tremaining: 399ms\n",
      "605:\tlearn: 0.1056447\ttotal: 612ms\tremaining: 398ms\n",
      "606:\tlearn: 0.1055940\ttotal: 614ms\tremaining: 397ms\n",
      "607:\tlearn: 0.1053379\ttotal: 615ms\tremaining: 396ms\n",
      "608:\tlearn: 0.1052902\ttotal: 616ms\tremaining: 395ms\n",
      "609:\tlearn: 0.1052106\ttotal: 616ms\tremaining: 394ms\n",
      "610:\tlearn: 0.1050915\ttotal: 617ms\tremaining: 393ms\n",
      "611:\tlearn: 0.1049908\ttotal: 618ms\tremaining: 392ms\n",
      "612:\tlearn: 0.1047305\ttotal: 619ms\tremaining: 391ms\n",
      "613:\tlearn: 0.1045897\ttotal: 620ms\tremaining: 390ms\n",
      "614:\tlearn: 0.1044849\ttotal: 621ms\tremaining: 389ms\n",
      "615:\tlearn: 0.1043211\ttotal: 622ms\tremaining: 387ms\n",
      "616:\tlearn: 0.1041082\ttotal: 623ms\tremaining: 387ms\n",
      "617:\tlearn: 0.1039491\ttotal: 624ms\tremaining: 386ms\n",
      "618:\tlearn: 0.1037663\ttotal: 625ms\tremaining: 385ms\n",
      "619:\tlearn: 0.1035852\ttotal: 626ms\tremaining: 383ms\n",
      "620:\tlearn: 0.1034377\ttotal: 627ms\tremaining: 382ms\n",
      "621:\tlearn: 0.1033806\ttotal: 627ms\tremaining: 381ms\n",
      "622:\tlearn: 0.1032077\ttotal: 628ms\tremaining: 380ms\n",
      "623:\tlearn: 0.1030704\ttotal: 629ms\tremaining: 379ms\n",
      "624:\tlearn: 0.1029419\ttotal: 630ms\tremaining: 378ms\n",
      "625:\tlearn: 0.1027121\ttotal: 631ms\tremaining: 377ms\n",
      "626:\tlearn: 0.1026240\ttotal: 632ms\tremaining: 376ms\n",
      "627:\tlearn: 0.1023774\ttotal: 633ms\tremaining: 375ms\n",
      "628:\tlearn: 0.1022795\ttotal: 634ms\tremaining: 374ms\n",
      "629:\tlearn: 0.1021674\ttotal: 635ms\tremaining: 373ms\n",
      "630:\tlearn: 0.1020258\ttotal: 636ms\tremaining: 372ms\n",
      "631:\tlearn: 0.1019852\ttotal: 637ms\tremaining: 371ms\n",
      "632:\tlearn: 0.1018028\ttotal: 637ms\tremaining: 370ms\n",
      "633:\tlearn: 0.1017093\ttotal: 638ms\tremaining: 368ms\n",
      "634:\tlearn: 0.1016353\ttotal: 639ms\tremaining: 367ms\n",
      "635:\tlearn: 0.1014446\ttotal: 640ms\tremaining: 366ms\n",
      "636:\tlearn: 0.1012822\ttotal: 641ms\tremaining: 365ms\n",
      "637:\tlearn: 0.1009918\ttotal: 642ms\tremaining: 364ms\n",
      "638:\tlearn: 0.1008399\ttotal: 642ms\tremaining: 363ms\n",
      "639:\tlearn: 0.1005740\ttotal: 643ms\tremaining: 362ms\n",
      "640:\tlearn: 0.1004314\ttotal: 644ms\tremaining: 361ms\n",
      "641:\tlearn: 0.1002756\ttotal: 645ms\tremaining: 360ms\n",
      "642:\tlearn: 0.1000891\ttotal: 646ms\tremaining: 359ms\n",
      "643:\tlearn: 0.0999890\ttotal: 647ms\tremaining: 357ms\n",
      "644:\tlearn: 0.0997661\ttotal: 648ms\tremaining: 356ms\n",
      "645:\tlearn: 0.0995708\ttotal: 649ms\tremaining: 355ms\n",
      "646:\tlearn: 0.0994765\ttotal: 649ms\tremaining: 354ms\n",
      "647:\tlearn: 0.0994241\ttotal: 650ms\tremaining: 353ms\n",
      "648:\tlearn: 0.0993151\ttotal: 651ms\tremaining: 352ms\n",
      "649:\tlearn: 0.0991845\ttotal: 652ms\tremaining: 351ms\n",
      "650:\tlearn: 0.0990580\ttotal: 653ms\tremaining: 350ms\n"
     ]
    },
    {
     "name": "stdout",
     "output_type": "stream",
     "text": [
      "651:\tlearn: 0.0989170\ttotal: 654ms\tremaining: 349ms\n",
      "652:\tlearn: 0.0987844\ttotal: 655ms\tremaining: 348ms\n",
      "653:\tlearn: 0.0985881\ttotal: 656ms\tremaining: 347ms\n",
      "654:\tlearn: 0.0984301\ttotal: 657ms\tremaining: 346ms\n",
      "655:\tlearn: 0.0983750\ttotal: 658ms\tremaining: 345ms\n",
      "656:\tlearn: 0.0981870\ttotal: 659ms\tremaining: 344ms\n",
      "657:\tlearn: 0.0979873\ttotal: 660ms\tremaining: 343ms\n",
      "658:\tlearn: 0.0977781\ttotal: 661ms\tremaining: 342ms\n",
      "659:\tlearn: 0.0977627\ttotal: 661ms\tremaining: 341ms\n",
      "660:\tlearn: 0.0975828\ttotal: 662ms\tremaining: 340ms\n",
      "661:\tlearn: 0.0974405\ttotal: 663ms\tremaining: 339ms\n",
      "662:\tlearn: 0.0972975\ttotal: 664ms\tremaining: 338ms\n",
      "663:\tlearn: 0.0971822\ttotal: 665ms\tremaining: 337ms\n",
      "664:\tlearn: 0.0969631\ttotal: 666ms\tremaining: 335ms\n",
      "665:\tlearn: 0.0969374\ttotal: 667ms\tremaining: 334ms\n",
      "666:\tlearn: 0.0967391\ttotal: 668ms\tremaining: 333ms\n",
      "667:\tlearn: 0.0965516\ttotal: 669ms\tremaining: 332ms\n",
      "668:\tlearn: 0.0963142\ttotal: 670ms\tremaining: 331ms\n",
      "669:\tlearn: 0.0961748\ttotal: 670ms\tremaining: 330ms\n",
      "670:\tlearn: 0.0960073\ttotal: 671ms\tremaining: 329ms\n",
      "671:\tlearn: 0.0958788\ttotal: 672ms\tremaining: 328ms\n",
      "672:\tlearn: 0.0957453\ttotal: 673ms\tremaining: 327ms\n",
      "673:\tlearn: 0.0955713\ttotal: 674ms\tremaining: 326ms\n",
      "674:\tlearn: 0.0954537\ttotal: 675ms\tremaining: 325ms\n",
      "675:\tlearn: 0.0953025\ttotal: 676ms\tremaining: 324ms\n",
      "676:\tlearn: 0.0952741\ttotal: 677ms\tremaining: 323ms\n",
      "677:\tlearn: 0.0952389\ttotal: 678ms\tremaining: 322ms\n",
      "678:\tlearn: 0.0950515\ttotal: 678ms\tremaining: 321ms\n",
      "679:\tlearn: 0.0948941\ttotal: 680ms\tremaining: 320ms\n",
      "680:\tlearn: 0.0947599\ttotal: 681ms\tremaining: 319ms\n",
      "681:\tlearn: 0.0944802\ttotal: 681ms\tremaining: 318ms\n",
      "682:\tlearn: 0.0943245\ttotal: 683ms\tremaining: 317ms\n",
      "683:\tlearn: 0.0942986\ttotal: 683ms\tremaining: 316ms\n",
      "684:\tlearn: 0.0941104\ttotal: 684ms\tremaining: 315ms\n",
      "685:\tlearn: 0.0939663\ttotal: 685ms\tremaining: 314ms\n",
      "686:\tlearn: 0.0939128\ttotal: 686ms\tremaining: 313ms\n",
      "687:\tlearn: 0.0937744\ttotal: 687ms\tremaining: 311ms\n",
      "688:\tlearn: 0.0935917\ttotal: 688ms\tremaining: 310ms\n",
      "689:\tlearn: 0.0934282\ttotal: 689ms\tremaining: 309ms\n",
      "690:\tlearn: 0.0932875\ttotal: 689ms\tremaining: 308ms\n",
      "691:\tlearn: 0.0931456\ttotal: 690ms\tremaining: 307ms\n",
      "692:\tlearn: 0.0930072\ttotal: 691ms\tremaining: 306ms\n",
      "693:\tlearn: 0.0928451\ttotal: 692ms\tremaining: 305ms\n",
      "694:\tlearn: 0.0927121\ttotal: 693ms\tremaining: 304ms\n",
      "695:\tlearn: 0.0924804\ttotal: 694ms\tremaining: 303ms\n",
      "696:\tlearn: 0.0923988\ttotal: 695ms\tremaining: 302ms\n",
      "697:\tlearn: 0.0922842\ttotal: 696ms\tremaining: 301ms\n",
      "698:\tlearn: 0.0922056\ttotal: 697ms\tremaining: 300ms\n",
      "699:\tlearn: 0.0920306\ttotal: 697ms\tremaining: 299ms\n",
      "700:\tlearn: 0.0919119\ttotal: 698ms\tremaining: 298ms\n",
      "701:\tlearn: 0.0917866\ttotal: 699ms\tremaining: 297ms\n",
      "702:\tlearn: 0.0917589\ttotal: 700ms\tremaining: 296ms\n",
      "703:\tlearn: 0.0916388\ttotal: 701ms\tremaining: 295ms\n",
      "704:\tlearn: 0.0916161\ttotal: 702ms\tremaining: 294ms\n",
      "705:\tlearn: 0.0915966\ttotal: 703ms\tremaining: 293ms\n",
      "706:\tlearn: 0.0914911\ttotal: 704ms\tremaining: 292ms\n",
      "707:\tlearn: 0.0913544\ttotal: 705ms\tremaining: 291ms\n",
      "708:\tlearn: 0.0912132\ttotal: 706ms\tremaining: 290ms\n",
      "709:\tlearn: 0.0910588\ttotal: 706ms\tremaining: 289ms\n",
      "710:\tlearn: 0.0910420\ttotal: 707ms\tremaining: 287ms\n",
      "711:\tlearn: 0.0909129\ttotal: 708ms\tremaining: 286ms\n",
      "712:\tlearn: 0.0908946\ttotal: 709ms\tremaining: 285ms\n",
      "713:\tlearn: 0.0907197\ttotal: 710ms\tremaining: 284ms\n",
      "714:\tlearn: 0.0904902\ttotal: 711ms\tremaining: 283ms\n",
      "715:\tlearn: 0.0903565\ttotal: 712ms\tremaining: 282ms\n",
      "716:\tlearn: 0.0902245\ttotal: 712ms\tremaining: 281ms\n",
      "717:\tlearn: 0.0901073\ttotal: 713ms\tremaining: 280ms\n",
      "718:\tlearn: 0.0899521\ttotal: 714ms\tremaining: 279ms\n",
      "719:\tlearn: 0.0897758\ttotal: 715ms\tremaining: 278ms\n",
      "720:\tlearn: 0.0897336\ttotal: 716ms\tremaining: 277ms\n",
      "721:\tlearn: 0.0895750\ttotal: 717ms\tremaining: 276ms\n",
      "722:\tlearn: 0.0894718\ttotal: 718ms\tremaining: 275ms\n",
      "723:\tlearn: 0.0893127\ttotal: 719ms\tremaining: 274ms\n",
      "724:\tlearn: 0.0891866\ttotal: 719ms\tremaining: 273ms\n",
      "725:\tlearn: 0.0890940\ttotal: 720ms\tremaining: 272ms\n",
      "726:\tlearn: 0.0889932\ttotal: 721ms\tremaining: 271ms\n",
      "727:\tlearn: 0.0889395\ttotal: 722ms\tremaining: 270ms\n",
      "728:\tlearn: 0.0887478\ttotal: 723ms\tremaining: 269ms\n",
      "729:\tlearn: 0.0886059\ttotal: 724ms\tremaining: 268ms\n",
      "730:\tlearn: 0.0884399\ttotal: 725ms\tremaining: 267ms\n",
      "731:\tlearn: 0.0883685\ttotal: 726ms\tremaining: 266ms\n",
      "732:\tlearn: 0.0883460\ttotal: 726ms\tremaining: 265ms\n",
      "733:\tlearn: 0.0882077\ttotal: 727ms\tremaining: 264ms\n",
      "734:\tlearn: 0.0880669\ttotal: 728ms\tremaining: 263ms\n",
      "735:\tlearn: 0.0878438\ttotal: 729ms\tremaining: 262ms\n",
      "736:\tlearn: 0.0878290\ttotal: 730ms\tremaining: 260ms\n",
      "737:\tlearn: 0.0878132\ttotal: 731ms\tremaining: 260ms\n",
      "738:\tlearn: 0.0877103\ttotal: 732ms\tremaining: 258ms\n",
      "739:\tlearn: 0.0875878\ttotal: 733ms\tremaining: 257ms\n",
      "740:\tlearn: 0.0875751\ttotal: 734ms\tremaining: 256ms\n",
      "741:\tlearn: 0.0874671\ttotal: 734ms\tremaining: 255ms\n",
      "742:\tlearn: 0.0873419\ttotal: 735ms\tremaining: 254ms\n",
      "743:\tlearn: 0.0873205\ttotal: 736ms\tremaining: 253ms\n",
      "744:\tlearn: 0.0870954\ttotal: 737ms\tremaining: 252ms\n",
      "745:\tlearn: 0.0870720\ttotal: 738ms\tremaining: 251ms\n",
      "746:\tlearn: 0.0869603\ttotal: 739ms\tremaining: 250ms\n",
      "747:\tlearn: 0.0868815\ttotal: 740ms\tremaining: 249ms\n",
      "748:\tlearn: 0.0867172\ttotal: 741ms\tremaining: 248ms\n",
      "749:\tlearn: 0.0865101\ttotal: 742ms\tremaining: 247ms\n",
      "750:\tlearn: 0.0863808\ttotal: 743ms\tremaining: 246ms\n",
      "751:\tlearn: 0.0862544\ttotal: 743ms\tremaining: 245ms\n",
      "752:\tlearn: 0.0861972\ttotal: 744ms\tremaining: 244ms\n",
      "753:\tlearn: 0.0860190\ttotal: 745ms\tremaining: 243ms\n",
      "754:\tlearn: 0.0859191\ttotal: 746ms\tremaining: 242ms\n",
      "755:\tlearn: 0.0858996\ttotal: 748ms\tremaining: 241ms\n",
      "756:\tlearn: 0.0858692\ttotal: 748ms\tremaining: 240ms\n",
      "757:\tlearn: 0.0858489\ttotal: 749ms\tremaining: 239ms\n",
      "758:\tlearn: 0.0856592\ttotal: 750ms\tremaining: 238ms\n",
      "759:\tlearn: 0.0856454\ttotal: 751ms\tremaining: 237ms\n",
      "760:\tlearn: 0.0854775\ttotal: 752ms\tremaining: 236ms\n",
      "761:\tlearn: 0.0853981\ttotal: 753ms\tremaining: 235ms\n",
      "762:\tlearn: 0.0852815\ttotal: 754ms\tremaining: 234ms\n",
      "763:\tlearn: 0.0851082\ttotal: 755ms\tremaining: 233ms\n",
      "764:\tlearn: 0.0850230\ttotal: 756ms\tremaining: 232ms\n",
      "765:\tlearn: 0.0848865\ttotal: 757ms\tremaining: 231ms\n",
      "766:\tlearn: 0.0847715\ttotal: 758ms\tremaining: 230ms\n",
      "767:\tlearn: 0.0847234\ttotal: 759ms\tremaining: 229ms\n",
      "768:\tlearn: 0.0846090\ttotal: 759ms\tremaining: 228ms\n",
      "769:\tlearn: 0.0844294\ttotal: 761ms\tremaining: 227ms\n",
      "770:\tlearn: 0.0843861\ttotal: 761ms\tremaining: 226ms\n",
      "771:\tlearn: 0.0843450\ttotal: 762ms\tremaining: 225ms\n",
      "772:\tlearn: 0.0841932\ttotal: 763ms\tremaining: 224ms\n",
      "773:\tlearn: 0.0840748\ttotal: 764ms\tremaining: 223ms\n"
     ]
    },
    {
     "name": "stdout",
     "output_type": "stream",
     "text": [
      "774:\tlearn: 0.0840172\ttotal: 765ms\tremaining: 222ms\n",
      "775:\tlearn: 0.0839210\ttotal: 766ms\tremaining: 221ms\n",
      "776:\tlearn: 0.0839105\ttotal: 767ms\tremaining: 220ms\n",
      "777:\tlearn: 0.0837223\ttotal: 768ms\tremaining: 219ms\n",
      "778:\tlearn: 0.0836706\ttotal: 769ms\tremaining: 218ms\n",
      "779:\tlearn: 0.0834540\ttotal: 769ms\tremaining: 217ms\n",
      "780:\tlearn: 0.0833042\ttotal: 770ms\tremaining: 216ms\n",
      "781:\tlearn: 0.0832146\ttotal: 771ms\tremaining: 215ms\n",
      "782:\tlearn: 0.0830926\ttotal: 772ms\tremaining: 214ms\n",
      "783:\tlearn: 0.0829133\ttotal: 773ms\tremaining: 213ms\n",
      "784:\tlearn: 0.0828376\ttotal: 774ms\tremaining: 212ms\n",
      "785:\tlearn: 0.0827635\ttotal: 775ms\tremaining: 211ms\n",
      "786:\tlearn: 0.0826373\ttotal: 776ms\tremaining: 210ms\n",
      "787:\tlearn: 0.0826185\ttotal: 777ms\tremaining: 209ms\n",
      "788:\tlearn: 0.0826064\ttotal: 778ms\tremaining: 208ms\n",
      "789:\tlearn: 0.0825407\ttotal: 779ms\tremaining: 207ms\n",
      "790:\tlearn: 0.0825224\ttotal: 780ms\tremaining: 206ms\n",
      "791:\tlearn: 0.0824322\ttotal: 781ms\tremaining: 205ms\n",
      "792:\tlearn: 0.0823006\ttotal: 781ms\tremaining: 204ms\n",
      "793:\tlearn: 0.0821823\ttotal: 782ms\tremaining: 203ms\n",
      "794:\tlearn: 0.0819782\ttotal: 783ms\tremaining: 202ms\n",
      "795:\tlearn: 0.0818823\ttotal: 784ms\tremaining: 201ms\n",
      "796:\tlearn: 0.0817427\ttotal: 785ms\tremaining: 200ms\n",
      "797:\tlearn: 0.0815644\ttotal: 786ms\tremaining: 199ms\n",
      "798:\tlearn: 0.0814163\ttotal: 787ms\tremaining: 198ms\n",
      "799:\tlearn: 0.0813386\ttotal: 788ms\tremaining: 197ms\n",
      "800:\tlearn: 0.0812265\ttotal: 789ms\tremaining: 196ms\n",
      "801:\tlearn: 0.0811384\ttotal: 789ms\tremaining: 195ms\n",
      "802:\tlearn: 0.0809535\ttotal: 790ms\tremaining: 194ms\n",
      "803:\tlearn: 0.0808648\ttotal: 791ms\tremaining: 193ms\n",
      "804:\tlearn: 0.0807297\ttotal: 792ms\tremaining: 192ms\n",
      "805:\tlearn: 0.0806919\ttotal: 793ms\tremaining: 191ms\n",
      "806:\tlearn: 0.0804939\ttotal: 794ms\tremaining: 190ms\n",
      "807:\tlearn: 0.0804067\ttotal: 795ms\tremaining: 189ms\n",
      "808:\tlearn: 0.0802873\ttotal: 796ms\tremaining: 188ms\n",
      "809:\tlearn: 0.0802034\ttotal: 797ms\tremaining: 187ms\n",
      "810:\tlearn: 0.0801276\ttotal: 797ms\tremaining: 186ms\n",
      "811:\tlearn: 0.0799421\ttotal: 798ms\tremaining: 185ms\n",
      "812:\tlearn: 0.0797429\ttotal: 799ms\tremaining: 184ms\n",
      "813:\tlearn: 0.0796181\ttotal: 800ms\tremaining: 183ms\n",
      "814:\tlearn: 0.0795210\ttotal: 801ms\tremaining: 182ms\n",
      "815:\tlearn: 0.0793982\ttotal: 802ms\tremaining: 181ms\n",
      "816:\tlearn: 0.0792076\ttotal: 803ms\tremaining: 180ms\n",
      "817:\tlearn: 0.0790900\ttotal: 803ms\tremaining: 179ms\n",
      "818:\tlearn: 0.0789362\ttotal: 804ms\tremaining: 178ms\n",
      "819:\tlearn: 0.0788848\ttotal: 805ms\tremaining: 177ms\n",
      "820:\tlearn: 0.0787739\ttotal: 806ms\tremaining: 176ms\n",
      "821:\tlearn: 0.0787651\ttotal: 807ms\tremaining: 175ms\n",
      "822:\tlearn: 0.0785776\ttotal: 808ms\tremaining: 174ms\n",
      "823:\tlearn: 0.0785087\ttotal: 808ms\tremaining: 173ms\n",
      "824:\tlearn: 0.0784455\ttotal: 809ms\tremaining: 172ms\n",
      "825:\tlearn: 0.0784375\ttotal: 810ms\tremaining: 171ms\n",
      "826:\tlearn: 0.0783091\ttotal: 811ms\tremaining: 170ms\n",
      "827:\tlearn: 0.0781550\ttotal: 812ms\tremaining: 169ms\n",
      "828:\tlearn: 0.0780281\ttotal: 813ms\tremaining: 168ms\n",
      "829:\tlearn: 0.0780115\ttotal: 814ms\tremaining: 167ms\n",
      "830:\tlearn: 0.0780032\ttotal: 814ms\tremaining: 166ms\n",
      "831:\tlearn: 0.0779951\ttotal: 815ms\tremaining: 165ms\n",
      "832:\tlearn: 0.0778992\ttotal: 816ms\tremaining: 164ms\n",
      "833:\tlearn: 0.0776931\ttotal: 817ms\tremaining: 163ms\n",
      "834:\tlearn: 0.0774994\ttotal: 818ms\tremaining: 162ms\n",
      "835:\tlearn: 0.0773672\ttotal: 819ms\tremaining: 161ms\n",
      "836:\tlearn: 0.0772283\ttotal: 820ms\tremaining: 160ms\n",
      "837:\tlearn: 0.0771018\ttotal: 821ms\tremaining: 159ms\n",
      "838:\tlearn: 0.0770216\ttotal: 821ms\tremaining: 158ms\n",
      "839:\tlearn: 0.0770135\ttotal: 822ms\tremaining: 157ms\n",
      "840:\tlearn: 0.0768832\ttotal: 823ms\tremaining: 156ms\n",
      "841:\tlearn: 0.0768152\ttotal: 824ms\tremaining: 155ms\n",
      "842:\tlearn: 0.0767351\ttotal: 825ms\tremaining: 154ms\n",
      "843:\tlearn: 0.0765808\ttotal: 826ms\tremaining: 153ms\n",
      "844:\tlearn: 0.0764044\ttotal: 827ms\tremaining: 152ms\n",
      "845:\tlearn: 0.0762979\ttotal: 827ms\tremaining: 151ms\n",
      "846:\tlearn: 0.0761803\ttotal: 828ms\tremaining: 150ms\n",
      "847:\tlearn: 0.0761049\ttotal: 829ms\tremaining: 149ms\n",
      "848:\tlearn: 0.0759684\ttotal: 830ms\tremaining: 148ms\n",
      "849:\tlearn: 0.0758389\ttotal: 831ms\tremaining: 147ms\n",
      "850:\tlearn: 0.0757379\ttotal: 832ms\tremaining: 146ms\n",
      "851:\tlearn: 0.0757288\ttotal: 833ms\tremaining: 145ms\n",
      "852:\tlearn: 0.0756922\ttotal: 833ms\tremaining: 144ms\n",
      "853:\tlearn: 0.0756281\ttotal: 834ms\tremaining: 143ms\n",
      "854:\tlearn: 0.0755018\ttotal: 835ms\tremaining: 142ms\n",
      "855:\tlearn: 0.0752686\ttotal: 836ms\tremaining: 141ms\n",
      "856:\tlearn: 0.0751618\ttotal: 837ms\tremaining: 140ms\n",
      "857:\tlearn: 0.0751530\ttotal: 838ms\tremaining: 139ms\n",
      "858:\tlearn: 0.0750771\ttotal: 838ms\tremaining: 138ms\n",
      "859:\tlearn: 0.0749270\ttotal: 839ms\tremaining: 137ms\n",
      "860:\tlearn: 0.0747759\ttotal: 840ms\tremaining: 136ms\n",
      "861:\tlearn: 0.0746427\ttotal: 841ms\tremaining: 135ms\n",
      "862:\tlearn: 0.0745146\ttotal: 842ms\tremaining: 134ms\n",
      "863:\tlearn: 0.0744276\ttotal: 843ms\tremaining: 133ms\n",
      "864:\tlearn: 0.0743152\ttotal: 844ms\tremaining: 132ms\n",
      "865:\tlearn: 0.0741650\ttotal: 844ms\tremaining: 131ms\n"
     ]
    },
    {
     "name": "stdout",
     "output_type": "stream",
     "text": [
      "866:\tlearn: 0.0741027\ttotal: 845ms\tremaining: 130ms\n",
      "867:\tlearn: 0.0740186\ttotal: 846ms\tremaining: 129ms\n",
      "868:\tlearn: 0.0739541\ttotal: 847ms\tremaining: 128ms\n",
      "869:\tlearn: 0.0738847\ttotal: 848ms\tremaining: 127ms\n",
      "870:\tlearn: 0.0737655\ttotal: 849ms\tremaining: 126ms\n",
      "871:\tlearn: 0.0737492\ttotal: 849ms\tremaining: 125ms\n",
      "872:\tlearn: 0.0736448\ttotal: 850ms\tremaining: 124ms\n",
      "873:\tlearn: 0.0735154\ttotal: 851ms\tremaining: 123ms\n",
      "874:\tlearn: 0.0734674\ttotal: 852ms\tremaining: 122ms\n",
      "875:\tlearn: 0.0734552\ttotal: 853ms\tremaining: 121ms\n",
      "876:\tlearn: 0.0733693\ttotal: 854ms\tremaining: 120ms\n",
      "877:\tlearn: 0.0733232\ttotal: 854ms\tremaining: 119ms\n",
      "878:\tlearn: 0.0731999\ttotal: 855ms\tremaining: 118ms\n",
      "879:\tlearn: 0.0730860\ttotal: 856ms\tremaining: 117ms\n",
      "880:\tlearn: 0.0729565\ttotal: 857ms\tremaining: 116ms\n",
      "881:\tlearn: 0.0728644\ttotal: 858ms\tremaining: 115ms\n",
      "882:\tlearn: 0.0728015\ttotal: 858ms\tremaining: 114ms\n",
      "883:\tlearn: 0.0726728\ttotal: 859ms\tremaining: 113ms\n",
      "884:\tlearn: 0.0725634\ttotal: 860ms\tremaining: 112ms\n",
      "885:\tlearn: 0.0725478\ttotal: 861ms\tremaining: 111ms\n",
      "886:\tlearn: 0.0725276\ttotal: 862ms\tremaining: 110ms\n",
      "887:\tlearn: 0.0723705\ttotal: 863ms\tremaining: 109ms\n",
      "888:\tlearn: 0.0723602\ttotal: 864ms\tremaining: 108ms\n",
      "889:\tlearn: 0.0723451\ttotal: 864ms\tremaining: 107ms\n",
      "890:\tlearn: 0.0722131\ttotal: 865ms\tremaining: 106ms\n",
      "891:\tlearn: 0.0721323\ttotal: 866ms\tremaining: 105ms\n",
      "892:\tlearn: 0.0720918\ttotal: 867ms\tremaining: 104ms\n",
      "893:\tlearn: 0.0719473\ttotal: 868ms\tremaining: 103ms\n",
      "894:\tlearn: 0.0718637\ttotal: 869ms\tremaining: 102ms\n",
      "895:\tlearn: 0.0718489\ttotal: 870ms\tremaining: 101ms\n",
      "896:\tlearn: 0.0717876\ttotal: 871ms\tremaining: 100ms\n",
      "897:\tlearn: 0.0716101\ttotal: 872ms\tremaining: 99ms\n",
      "898:\tlearn: 0.0715486\ttotal: 872ms\tremaining: 98ms\n",
      "899:\tlearn: 0.0714716\ttotal: 873ms\tremaining: 97ms\n",
      "900:\tlearn: 0.0713929\ttotal: 874ms\tremaining: 96ms\n",
      "901:\tlearn: 0.0712814\ttotal: 875ms\tremaining: 95.1ms\n",
      "902:\tlearn: 0.0712718\ttotal: 876ms\tremaining: 94.1ms\n",
      "903:\tlearn: 0.0712077\ttotal: 877ms\tremaining: 93.1ms\n",
      "904:\tlearn: 0.0710879\ttotal: 878ms\tremaining: 92.1ms\n",
      "905:\tlearn: 0.0709977\ttotal: 878ms\tremaining: 91.1ms\n",
      "906:\tlearn: 0.0708906\ttotal: 879ms\tremaining: 90.1ms\n",
      "907:\tlearn: 0.0708809\ttotal: 880ms\tremaining: 89.2ms\n",
      "908:\tlearn: 0.0708556\ttotal: 881ms\tremaining: 88.2ms\n",
      "909:\tlearn: 0.0707350\ttotal: 882ms\tremaining: 87.2ms\n",
      "910:\tlearn: 0.0706810\ttotal: 883ms\tremaining: 86.2ms\n",
      "911:\tlearn: 0.0705984\ttotal: 883ms\tremaining: 85.2ms\n",
      "912:\tlearn: 0.0705463\ttotal: 884ms\tremaining: 84.3ms\n",
      "913:\tlearn: 0.0704453\ttotal: 885ms\tremaining: 83.3ms\n",
      "914:\tlearn: 0.0703288\ttotal: 886ms\tremaining: 82.3ms\n",
      "915:\tlearn: 0.0702114\ttotal: 887ms\tremaining: 81.3ms\n",
      "916:\tlearn: 0.0700577\ttotal: 888ms\tremaining: 80.3ms\n",
      "917:\tlearn: 0.0699758\ttotal: 889ms\tremaining: 79.4ms\n",
      "918:\tlearn: 0.0698632\ttotal: 889ms\tremaining: 78.4ms\n",
      "919:\tlearn: 0.0697589\ttotal: 890ms\tremaining: 77.4ms\n",
      "920:\tlearn: 0.0695992\ttotal: 891ms\tremaining: 76.4ms\n",
      "921:\tlearn: 0.0695274\ttotal: 892ms\tremaining: 75.5ms\n",
      "922:\tlearn: 0.0694259\ttotal: 893ms\tremaining: 74.5ms\n",
      "923:\tlearn: 0.0693335\ttotal: 893ms\tremaining: 73.5ms\n",
      "924:\tlearn: 0.0692185\ttotal: 894ms\tremaining: 72.5ms\n",
      "925:\tlearn: 0.0691122\ttotal: 895ms\tremaining: 71.5ms\n",
      "926:\tlearn: 0.0689884\ttotal: 896ms\tremaining: 70.6ms\n",
      "927:\tlearn: 0.0688723\ttotal: 897ms\tremaining: 69.6ms\n",
      "928:\tlearn: 0.0687774\ttotal: 898ms\tremaining: 68.6ms\n",
      "929:\tlearn: 0.0686464\ttotal: 899ms\tremaining: 67.6ms\n",
      "930:\tlearn: 0.0685475\ttotal: 900ms\tremaining: 66.7ms\n",
      "931:\tlearn: 0.0683878\ttotal: 900ms\tremaining: 65.7ms\n",
      "932:\tlearn: 0.0683091\ttotal: 901ms\tremaining: 64.7ms\n",
      "933:\tlearn: 0.0681687\ttotal: 902ms\tremaining: 63.7ms\n",
      "934:\tlearn: 0.0680290\ttotal: 903ms\tremaining: 62.8ms\n",
      "935:\tlearn: 0.0679138\ttotal: 904ms\tremaining: 61.8ms\n",
      "936:\tlearn: 0.0678157\ttotal: 904ms\tremaining: 60.8ms\n",
      "937:\tlearn: 0.0676964\ttotal: 905ms\tremaining: 59.8ms\n",
      "938:\tlearn: 0.0675863\ttotal: 906ms\tremaining: 58.9ms\n",
      "939:\tlearn: 0.0674837\ttotal: 907ms\tremaining: 57.9ms\n",
      "940:\tlearn: 0.0674043\ttotal: 908ms\tremaining: 56.9ms\n",
      "941:\tlearn: 0.0672815\ttotal: 909ms\tremaining: 56ms\n",
      "942:\tlearn: 0.0671954\ttotal: 910ms\tremaining: 55ms\n",
      "943:\tlearn: 0.0670686\ttotal: 911ms\tremaining: 54ms\n",
      "944:\tlearn: 0.0669421\ttotal: 912ms\tremaining: 53ms\n",
      "945:\tlearn: 0.0668914\ttotal: 912ms\tremaining: 52.1ms\n",
      "946:\tlearn: 0.0668074\ttotal: 913ms\tremaining: 51.1ms\n",
      "947:\tlearn: 0.0667848\ttotal: 914ms\tremaining: 50.1ms\n",
      "948:\tlearn: 0.0666985\ttotal: 915ms\tremaining: 49.2ms\n",
      "949:\tlearn: 0.0666320\ttotal: 916ms\tremaining: 48.2ms\n",
      "950:\tlearn: 0.0665558\ttotal: 917ms\tremaining: 47.2ms\n",
      "951:\tlearn: 0.0664280\ttotal: 918ms\tremaining: 46.3ms\n",
      "952:\tlearn: 0.0663165\ttotal: 919ms\tremaining: 45.3ms\n",
      "953:\tlearn: 0.0662562\ttotal: 919ms\tremaining: 44.3ms\n",
      "954:\tlearn: 0.0661916\ttotal: 920ms\tremaining: 43.4ms\n",
      "955:\tlearn: 0.0661765\ttotal: 921ms\tremaining: 42.4ms\n",
      "956:\tlearn: 0.0660635\ttotal: 922ms\tremaining: 41.4ms\n",
      "957:\tlearn: 0.0659392\ttotal: 923ms\tremaining: 40.5ms\n",
      "958:\tlearn: 0.0658545\ttotal: 924ms\tremaining: 39.5ms\n",
      "959:\tlearn: 0.0658045\ttotal: 924ms\tremaining: 38.5ms\n",
      "960:\tlearn: 0.0657010\ttotal: 925ms\tremaining: 37.5ms\n",
      "961:\tlearn: 0.0656437\ttotal: 926ms\tremaining: 36.6ms\n",
      "962:\tlearn: 0.0655839\ttotal: 927ms\tremaining: 35.6ms\n",
      "963:\tlearn: 0.0654573\ttotal: 928ms\tremaining: 34.6ms\n",
      "964:\tlearn: 0.0653430\ttotal: 929ms\tremaining: 33.7ms\n",
      "965:\tlearn: 0.0652682\ttotal: 930ms\tremaining: 32.7ms\n",
      "966:\tlearn: 0.0651587\ttotal: 931ms\tremaining: 31.8ms\n",
      "967:\tlearn: 0.0650362\ttotal: 931ms\tremaining: 30.8ms\n",
      "968:\tlearn: 0.0649413\ttotal: 932ms\tremaining: 29.8ms\n",
      "969:\tlearn: 0.0648623\ttotal: 933ms\tremaining: 28.9ms\n",
      "970:\tlearn: 0.0648558\ttotal: 934ms\tremaining: 27.9ms\n",
      "971:\tlearn: 0.0647660\ttotal: 935ms\tremaining: 26.9ms\n",
      "972:\tlearn: 0.0647551\ttotal: 936ms\tremaining: 26ms\n",
      "973:\tlearn: 0.0647003\ttotal: 937ms\tremaining: 25ms\n",
      "974:\tlearn: 0.0646049\ttotal: 937ms\tremaining: 24ms\n",
      "975:\tlearn: 0.0645022\ttotal: 938ms\tremaining: 23.1ms\n",
      "976:\tlearn: 0.0643677\ttotal: 939ms\tremaining: 22.1ms\n",
      "977:\tlearn: 0.0642998\ttotal: 940ms\tremaining: 21.1ms\n",
      "978:\tlearn: 0.0641784\ttotal: 941ms\tremaining: 20.2ms\n",
      "979:\tlearn: 0.0640629\ttotal: 942ms\tremaining: 19.2ms\n",
      "980:\tlearn: 0.0640374\ttotal: 943ms\tremaining: 18.3ms\n",
      "981:\tlearn: 0.0639701\ttotal: 943ms\tremaining: 17.3ms\n",
      "982:\tlearn: 0.0638382\ttotal: 944ms\tremaining: 16.3ms\n",
      "983:\tlearn: 0.0638077\ttotal: 945ms\tremaining: 15.4ms\n",
      "984:\tlearn: 0.0637653\ttotal: 946ms\tremaining: 14.4ms\n",
      "985:\tlearn: 0.0636774\ttotal: 947ms\tremaining: 13.4ms\n",
      "986:\tlearn: 0.0636530\ttotal: 948ms\tremaining: 12.5ms\n",
      "987:\tlearn: 0.0636465\ttotal: 949ms\tremaining: 11.5ms\n",
      "988:\tlearn: 0.0635035\ttotal: 949ms\tremaining: 10.6ms\n",
      "989:\tlearn: 0.0634356\ttotal: 950ms\tremaining: 9.6ms\n",
      "990:\tlearn: 0.0633538\ttotal: 951ms\tremaining: 8.64ms\n",
      "991:\tlearn: 0.0633268\ttotal: 952ms\tremaining: 7.68ms\n",
      "992:\tlearn: 0.0633164\ttotal: 953ms\tremaining: 6.72ms\n",
      "993:\tlearn: 0.0631955\ttotal: 954ms\tremaining: 5.76ms\n",
      "994:\tlearn: 0.0631144\ttotal: 955ms\tremaining: 4.8ms\n",
      "995:\tlearn: 0.0630600\ttotal: 955ms\tremaining: 3.84ms\n"
     ]
    },
    {
     "name": "stdout",
     "output_type": "stream",
     "text": [
      "996:\tlearn: 0.0629870\ttotal: 957ms\tremaining: 2.88ms\n",
      "997:\tlearn: 0.0628870\ttotal: 958ms\tremaining: 1.92ms\n",
      "998:\tlearn: 0.0628066\ttotal: 958ms\tremaining: 959us\n",
      "999:\tlearn: 0.0627295\ttotal: 959ms\tremaining: 0us\n"
     ]
    },
    {
     "data": {
      "text/plain": [
       "<catboost.core.CatBoostRegressor at 0x7fac90ec92b0>"
      ]
     },
     "execution_count": 9,
     "metadata": {},
     "output_type": "execute_result"
    }
   ],
   "source": [
    "#Train the Model \n",
    "prior_model = ctb.CatBoostRegressor()\n",
    "prior_model.fit(X_train,Y_train)"
   ]
  },
  {
   "cell_type": "code",
   "execution_count": 10,
   "id": "af65dcda",
   "metadata": {
    "execution": {
     "iopub.execute_input": "2022-03-11T09:49:56.406009Z",
     "iopub.status.busy": "2022-03-11T09:49:56.405622Z",
     "iopub.status.idle": "2022-03-11T09:49:56.412964Z",
     "shell.execute_reply": "2022-03-11T09:49:56.413373Z"
    },
    "id": "af65dcda",
    "papermill": {
     "duration": 0.021116,
     "end_time": "2022-03-11T09:49:56.413495",
     "exception": false,
     "start_time": "2022-03-11T09:49:56.392379",
     "status": "completed"
    },
    "tags": []
   },
   "outputs": [
    {
     "data": {
      "application/scrapbook.scrap.json+json": {
       "data": 0.11765937476958595,
       "encoder": "json",
       "name": "Prior Model MSE",
       "version": 1
      }
     },
     "metadata": {
      "scrapbook": {
       "data": true,
       "display": false,
       "name": "Prior Model MSE"
      }
     },
     "output_type": "display_data"
    },
    {
     "data": {
      "application/scrapbook.scrap.json+json": {
       "data": 0.8347217841903003,
       "encoder": "json",
       "name": "ABC Pre-generator MSE",
       "version": 1
      }
     },
     "metadata": {
      "scrapbook": {
       "data": true,
       "display": false,
       "name": "ABC Pre-generator MSE"
      }
     },
     "output_type": "display_data"
    },
    {
     "data": {
      "application/scrapbook.scrap.json+json": {
       "data": 0.2283708307384303,
       "encoder": "json",
       "name": "Prior Model MAE",
       "version": 1
      }
     },
     "metadata": {
      "scrapbook": {
       "data": true,
       "display": false,
       "name": "Prior Model MAE"
      }
     },
     "output_type": "display_data"
    },
    {
     "data": {
      "application/scrapbook.scrap.json+json": {
       "data": 0.7110858704570682,
       "encoder": "json",
       "name": "ABC Pre-generator MAE",
       "version": 1
      }
     },
     "metadata": {
      "scrapbook": {
       "data": true,
       "display": false,
       "name": "ABC Pre-generator MAE"
      }
     },
     "output_type": "display_data"
    }
   ],
   "source": [
    "y_pred = prior_model.predict(X_test)\n",
    "y_abc = y_pred + np.random.normal(0,variance, y_pred.shape)\n",
    "mse = mean_squared_error(y_pred,Y_test)\n",
    "sb.glue(\"Prior Model MSE\",mse)\n",
    "mse = mean_squared_error(y_abc,Y_test)\n",
    "sb.glue(\"ABC Pre-generator MSE\",mse)\n",
    "\n",
    "mae = mean_absolute_error(y_pred,Y_test)\n",
    "sb.glue(\"Prior Model MAE\",mae)\n",
    "mae = mean_absolute_error(y_abc,Y_test)\n",
    "sb.glue(\"ABC Pre-generator MAE\",mae)"
   ]
  },
  {
   "cell_type": "markdown",
   "id": "25609da2",
   "metadata": {
    "papermill": {
     "duration": 0.009881,
     "end_time": "2022-03-11T09:49:56.433490",
     "exception": false,
     "start_time": "2022-03-11T09:49:56.423609",
     "status": "completed"
    },
    "tags": []
   },
   "source": [
    "# ABC GAN Model"
   ]
  },
  {
   "cell_type": "code",
   "execution_count": 11,
   "id": "dfc3464d",
   "metadata": {
    "execution": {
     "iopub.execute_input": "2022-03-11T09:49:56.456206Z",
     "iopub.status.busy": "2022-03-11T09:49:56.455823Z",
     "iopub.status.idle": "2022-03-11T09:49:56.458530Z",
     "shell.execute_reply": "2022-03-11T09:49:56.458773Z"
    },
    "papermill": {
     "duration": 0.015417,
     "end_time": "2022-03-11T09:49:56.458882",
     "exception": false,
     "start_time": "2022-03-11T09:49:56.443465",
     "status": "completed"
    },
    "tags": []
   },
   "outputs": [],
   "source": [
    "gen = network.Generator(n_features+1).to(device)\n",
    "disc = network.Discriminator(n_features+1).to(device)\n",
    "\n",
    "criterion = torch.nn.BCELoss()\n",
    "gen_opt = torch.optim.Adam(gen.parameters(), lr=0.001, betas=(0.5, 0.999))\n",
    "disc_opt = torch.optim.Adam(disc.parameters(), lr=0.001, betas=(0.5, 0.999))"
   ]
  },
  {
   "cell_type": "code",
   "execution_count": 12,
   "id": "b75fdd85",
   "metadata": {
    "execution": {
     "iopub.execute_input": "2022-03-11T09:49:56.481223Z",
     "iopub.status.busy": "2022-03-11T09:49:56.480869Z",
     "iopub.status.idle": "2022-03-11T09:50:33.142280Z",
     "shell.execute_reply": "2022-03-11T09:50:33.142576Z"
    },
    "papermill": {
     "duration": 36.673757,
     "end_time": "2022-03-11T09:50:33.142703",
     "exception": false,
     "start_time": "2022-03-11T09:49:56.468946",
     "status": "completed"
    },
    "tags": []
   },
   "outputs": [
    {
     "data": {
      "image/png": "[encoded data removed]",
      "text/plain": [
       "<Figure size 432x288 with 1 Axes>"
      ]
     },
     "metadata": {
      "needs_background": "light"
     },
     "output_type": "display_data"
    },
    {
     "data": {
      "image/png": "[encoded data removed]",
      "text/plain": [
       "<Figure size 432x288 with 1 Axes>"
      ]
     },
     "metadata": {
      "needs_background": "light"
     },
     "output_type": "display_data"
    }
   ],
   "source": [
    "#Training the ABC_GAN \n",
    "ABC_train_test2.training_GAN(disc,gen,disc_opt,gen_opt,train_data,batch_size,n_epochs,criterion,prior_model,variance,0,device)"
   ]
  },
  {
   "cell_type": "code",
   "execution_count": 13,
   "id": "1fa7c368",
   "metadata": {
    "execution": {
     "iopub.execute_input": "2022-03-11T09:50:33.167494Z",
     "iopub.status.busy": "2022-03-11T09:50:33.167111Z",
     "iopub.status.idle": "2022-03-11T09:50:33.477444Z",
     "shell.execute_reply": "2022-03-11T09:50:33.477818Z"
    },
    "papermill": {
     "duration": 0.324188,
     "end_time": "2022-03-11T09:50:33.477948",
     "exception": false,
     "start_time": "2022-03-11T09:50:33.153760",
     "status": "completed"
    },
    "tags": []
   },
   "outputs": [
    {
     "data": {
      "application/scrapbook.scrap.json+json": {
       "data": 0.1414444374911198,
       "encoder": "json",
       "name": "ABC-GAN Model 1 MSE",
       "version": 1
      }
     },
     "metadata": {
      "scrapbook": {
       "data": true,
       "display": false,
       "name": "ABC-GAN Model 1 MSE"
      }
     },
     "output_type": "display_data"
    },
    {
     "data": {
      "application/scrapbook.scrap.json+json": {
       "data": 0.2707840507258387,
       "encoder": "json",
       "name": "ABC-GAN Model 1 MAE",
       "version": 1
      }
     },
     "metadata": {
      "scrapbook": {
       "data": true,
       "display": false,
       "name": "ABC-GAN Model 1 MAE"
      }
     },
     "output_type": "display_data"
    },
    {
     "data": {
      "application/scrapbook.scrap.json+json": {
       "data": 27.61997317403555,
       "encoder": "json",
       "name": "ABC-GAN Model 1 Manhattan Distance",
       "version": 1
      }
     },
     "metadata": {
      "scrapbook": {
       "data": true,
       "display": false,
       "name": "ABC-GAN Model 1 Manhattan Distance"
      }
     },
     "output_type": "display_data"
    },
    {
     "data": {
      "application/scrapbook.scrap.json+json": {
       "data": 3.798280761709025,
       "encoder": "json",
       "name": "ABC-GAN Model 1 Euclidean distance",
       "version": 1
      }
     },
     "metadata": {
      "scrapbook": {
       "data": true,
       "display": false,
       "name": "ABC-GAN Model 1 Euclidean distance"
      }
     },
     "output_type": "display_data"
    },
    {
     "data": {
      "application/scrapbook.scrap.json+json": {
       "data": [
        [
         0.13935898531199564,
         0.1414154678178035,
         0.1414299691948255,
         0.14107445766628732,
         0.14130403289435894,
         0.14104365888170556,
         0.14237624160995693,
         0.14049990810139706,
         0.1407229596310003,
         0.14132188161106288,
         0.13968348270213174,
         0.14182660052327797,
         0.14220309104872303,
         0.13974958793469208,
         0.13736115785787772,
         0.14145634911070706,
         0.14192421564959457,
         0.14718917361743414,
         0.14107662915086802,
         0.14302267404481842,
         0.14405259214430738,
         0.14290131573635684,
         0.1418797744613081,
         0.1434366586255542,
         0.14055646488510046,
         0.1424092860728496,
         0.142171974351976,
         0.14142887556737607,
         0.14044556654224288,
         0.14037968066186152,
         0.1412550046416312,
         0.14357507354554414,
         0.13942202381003777,
         0.14093813541464412,
         0.14099506162588915,
         0.1411817239424426,
         0.14072414420994941,
         0.14295557556926478,
         0.1401666200407072,
         0.1406109402702542,
         0.14295612451255324,
         0.14076947153955377,
         0.14201901566005018,
         0.14289280726260795,
         0.13899819196726718,
         0.14069718664456654,
         0.14441019906102895,
         0.14176731699526426,
         0.14066461126404037,
         0.14299053530286465,
         0.14093854039137116,
         0.1413189287909091,
         0.1419914963179388,
         0.1427887928645398,
         0.13810058818908388,
         0.1420209920901023,
         0.14085073155603406,
         0.14137518884422354,
         0.1408278431246685,
         0.14274376861775534,
         0.13885875000372888,
         0.1412521405335925,
         0.1398854836116592,
         0.14181471115804958,
         0.14047064449893643,
         0.14086894877613368,
         0.1422061563268329,
         0.13916720700678842,
         0.14102501400022252,
         0.13914488910780504,
         0.13963091064399907,
         0.14146927687984553,
         0.1437269326841871,
         0.14390359803401148,
         0.14147401908255278,
         0.14189939618472944,
         0.14352238145659918,
         0.14284667391538464,
         0.13935644829133625,
         0.141308554068707,
         0.1440819520157731,
         0.1406224576545627,
         0.1418709566052946,
         0.14068393986377523,
         0.14061775303071022,
         0.1419511188296693,
         0.14396478441189003,
         0.1417865016455765,
         0.14190051544059343,
         0.14068962966785353,
         0.1408743382783875,
         0.14068757428944592,
         0.14358581959250935,
         0.1416389090157197,
         0.14031654071811198,
         0.1398368226384885,
         0.13929391473385813,
         0.14177333330322175,
         0.1427925810502109,
         0.14299282258498577
        ],
        [
         0.2701342788652754,
         0.26981945114904177,
         0.27159678411907423,
         0.27101188034330514,
         0.2712388145098207,
         0.26959578753175106,
         0.2710574011994051,
         0.2691702633621354,
         0.2699617068739791,
         0.27026282921068223,
         0.26812877920547534,
         0.2704592907216911,
         0.27110487538590733,
         0.2697132072210604,
         0.26785037317769783,
         0.27062995817658364,
         0.2713555933396314,
         0.2743006265156117,
         0.26998350373012764,
         0.27124681058978917,
         0.2708423139308305,
         0.27270471324742424,
         0.2708003447007607,
         0.27246848316680566,
         0.27006172438097353,
         0.2724445591698967,
         0.27184448078932133,
         0.2712735136532608,
         0.27055614618767126,
         0.2704703661923607,
         0.2698575242732962,
         0.27303626853972673,
         0.2702240007655585,
         0.2701988875610279,
         0.27139676681847547,
         0.27026461588912737,
         0.2710929206006375,
         0.2720579978480351,
         0.2690647381960469,
         0.2711629184401211,
         0.27203111965939697,
         0.27018252878869864,
         0.27143243369737674,
         0.2712705067596307,
         0.26998006923160717,
         0.2693003816164884,
         0.2722522824747013,
         0.2703744412819837,
         0.2697343407929236,
         0.27252553872691065,
         0.270808292972837,
         0.27115816051396086,
         0.27043296055247384,
         0.27098591846651304,
         0.2687695081729223,
         0.2702194394032453,
         0.2699552992650983,
         0.27104193656979236,
         0.27085420085738104,
         0.2725678269075705,
         0.26996478746992114,
         0.2706242133771964,
         0.2701553271206863,
         0.2705633234342231,
         0.270179847967537,
         0.26987950965835183,
         0.27091637277500885,
         0.26891663540885147,
         0.2705357030362767,
         0.2690366670379744,
         0.27042243310122516,
         0.2694392666841547,
         0.2717796902482708,
         0.27216026031722623,
         0.27142649255327733,
         0.2699261202714315,
         0.27277501513633656,
         0.27159097423667417,
         0.2694849850902078,
         0.27103807629250426,
         0.27357005238459975,
         0.2705338668699066,
         0.27037002385466125,
         0.2709048024616113,
         0.2704679535921006,
         0.2717173051125571,
         0.272867166546776,
         0.27029693154070306,
         0.2722830551986893,
         0.27008627422665266,
         0.2703742414311159,
         0.26993123414542747,
         0.27235047203287777,
         0.27042940016105477,
         0.2706819803216586,
         0.27007756581274317,
         0.2704229947069989,
         0.2715968632997543,
         0.2710333486069359,
         0.2712711527687954
        ],
        [
         27.553696444258094,
         27.521584017202258,
         27.702871980145574,
         27.643211795017123,
         27.666359080001712,
         27.498770328238606,
         27.64785492233932,
         27.455366862937808,
         27.536094101145864,
         27.56680857948959,
         27.349135478958488,
         27.586847653612494,
         27.65269728936255,
         27.51074713654816,
         27.32073806412518,
         27.60425573401153,
         27.6782705206424,
         27.978663904592395,
         27.538317380473018,
         27.667174680158496,
         27.625916020944715,
         27.815880751237273,
         27.62163515947759,
         27.79178528301418,
         27.546295886859298,
         27.78934503532946,
         27.728137040510774,
         27.669898392632604,
         27.59672691114247,
         27.587977351620793,
         27.525467475876212,
         27.849699391052127,
         27.562848078086972,
         27.560286531224847,
         27.6824702154845,
         27.56699082069099,
         27.651477901265025,
         27.749915780499578,
         27.444603295996785,
         27.65861768089235,
         27.74717420525849,
         27.558617936447263,
         27.68610823713243,
         27.66959168948233,
         27.53796706162393,
         27.468638924881816,
         27.769732812419534,
         27.578193010762334,
         27.512902760878205,
         27.797604950144887,
         27.622445883229375,
         27.658132372424006,
         27.584161976352334,
         27.640563683584332,
         27.414489833638072,
         27.562382819131017,
         27.53544052504003,
         27.646277530118823,
         27.627128487452865,
         27.801918344572186,
         27.536408321931958,
         27.603669764474034,
         27.55584336631,
         27.59745899029076,
         27.558344492688775,
         27.527709985151887,
         27.633470023050904,
         27.429496811702847,
         27.594641709700227,
         27.441740037873387,
         27.583088176324964,
         27.482805201783776,
         27.721528405323625,
         27.760346552357078,
         27.68550224043429,
         27.53246426768601,
         27.82305154390633,
         27.702279372140765,
         27.487468479201198,
         27.645883781835437,
         27.904145343229175,
         27.59445442073047,
         27.577742433175445,
         27.63228985108435,
         27.587731266394258,
         27.715165121480823,
         27.832450987771153,
         27.570287017151713,
         27.77287163026631,
         27.54879997111857,
         27.57817262597382,
         27.5329858828336,
         27.77974814735353,
         27.58379881642759,
         27.609561992809176,
         27.547911712899804,
         27.583145460113883,
         27.70288005657494,
         27.645401557907462,
         27.66965758241713
        ],
        [
         3.770227645888714,
         3.797943880235193,
         3.7981386043524257,
         3.793361923407956,
         3.7964472016906283,
         3.7929478253640614,
         3.810823617568203,
         3.7856294887828765,
         3.788633247275596,
         3.7966869668605034,
         3.774614581068832,
         3.803460694338032,
         3.8085056501165577,
         3.7755076439253292,
         3.743105408815456,
         3.798492807587256,
         3.8047693749107365,
         3.8746994346630657,
         3.793391117903417,
         3.8194649825036326,
         3.8331924552152805,
         3.8178441829268506,
         3.804173628405178,
         3.8249887816576043,
         3.7863913451042337,
         3.811265823769139,
         3.8080889411752916,
         3.7981239194992518,
         3.7848973285029506,
         3.784009438084142,
         3.795788518008661,
         3.826833874320323,
         3.77108027342615,
         3.7915286906858157,
         3.792294330064675,
         3.7948037949450217,
         3.7886491932369295,
         3.818568934570253,
         3.7811367661263104,
         3.7871250187399306,
         3.818576266133809,
         3.7892593071779186,
         3.8060398838326845,
         3.817730522284935,
         3.765344018899369,
         3.7882862930018613,
         3.837947407693981,
         3.8026656878454292,
         3.787847719871024,
         3.8190358208443382,
         3.791534138039621,
         3.7966473021170564,
         3.8056711135396015,
         3.816340769923862,
         3.7531666623381583,
         3.806066367417998,
         3.790352835649403,
         3.7974029628300965,
         3.790044854446472,
         3.8157390370688407,
         3.7634548622748674,
         3.795750035819855,
         3.777342892615024,
         3.803301268387907,
         3.7852352290038094,
         3.7905979442781357,
         3.80854669727666,
         3.7676325609980084,
         3.7926971178862523,
         3.7673304459518953,
         3.7739041966758915,
         3.7986663767359508,
         3.828857157662986,
         3.8312096000439815,
         3.7987300438989315,
         3.8044366745738323,
         3.826131585370936,
         3.8171141899829544,
         3.7701933273661568,
         3.796507936908352,
         3.8335830636114894,
         3.787280116490644,
         3.8040554114970573,
         3.7881079533330446,
         3.7872167628923012,
         3.805129974209326,
         3.8320240095819833,
         3.80292297684936,
         3.804451678618159,
         3.788184555446191,
         3.7906704557895186,
         3.7881568839639517,
         3.8269770836047536,
         3.8009431355393093,
         3.783158356882173,
         3.776685836699397,
         3.769347331150782,
         3.8027463755723465,
         3.8163913933350053,
         3.8190663654443804
        ]
       ],
       "encoder": "json",
       "name": "ABC_GAN_1 Metrics",
       "version": 1
      }
     },
     "metadata": {
      "scrapbook": {
       "data": true,
       "display": false,
       "name": "ABC_GAN_1 Metrics"
      }
     },
     "output_type": "display_data"
    },
    {
     "name": "stdout",
     "output_type": "stream",
     "text": [
      "MSE\n",
      "0.1414444374911198\n"
     ]
    }
   ],
   "source": [
    "ABC_GAN1_metrics=ABC_train_test2.test_generator(gen,test_data,prior_model,variance,0,\"1\",device)\n",
    "sb.glue(\"ABC_GAN_1 Metrics\",ABC_GAN1_metrics)\n",
    "\n",
    "print(\"MSE\")\n",
    "print(mean(ABC_GAN1_metrics[0]))"
   ]
  },
  {
   "cell_type": "code",
   "execution_count": 14,
   "id": "eb22ce5c",
   "metadata": {
    "execution": {
     "iopub.execute_input": "2022-03-11T09:50:33.506418Z",
     "iopub.status.busy": "2022-03-11T09:50:33.506034Z",
     "iopub.status.idle": "2022-03-11T09:50:33.835413Z",
     "shell.execute_reply": "2022-03-11T09:50:33.835714Z"
    },
    "papermill": {
     "duration": 0.344814,
     "end_time": "2022-03-11T09:50:33.835836",
     "exception": false,
     "start_time": "2022-03-11T09:50:33.491022",
     "status": "completed"
    },
    "tags": []
   },
   "outputs": [
    {
     "data": {
      "image/png": "[encoded data removed]",
      "text/plain": [
       "<Figure size 432x288 with 1 Axes>"
      ]
     },
     "metadata": {
      "needs_background": "light"
     },
     "output_type": "display_data"
    },
    {
     "data": {
      "image/png": "[encoded data removed]",
      "text/plain": [
       "<Figure size 432x288 with 1 Axes>"
      ]
     },
     "metadata": {
      "needs_background": "light"
     },
     "output_type": "display_data"
    },
    {
     "data": {
      "image/png": "[encoded data removed]",
      "text/plain": [
       "<Figure size 432x288 with 1 Axes>"
      ]
     },
     "metadata": {
      "needs_background": "light"
     },
     "output_type": "display_data"
    },
    {
     "data": {
      "image/png": "[encoded data removed]",
      "text/plain": [
       "<Figure size 432x288 with 1 Axes>"
      ]
     },
     "metadata": {
      "needs_background": "light"
     },
     "output_type": "display_data"
    }
   ],
   "source": [
    "sanityChecks.discProbVsError(train_data,disc,device)\n",
    "sanityChecks.discProbVsError(test_data,disc,device)"
   ]
  },
  {
   "cell_type": "markdown",
   "id": "130f3a4d",
   "metadata": {
    "id": "130f3a4d",
    "papermill": {
     "duration": 0.014494,
     "end_time": "2022-03-11T09:50:33.865539",
     "exception": false,
     "start_time": "2022-03-11T09:50:33.851045",
     "status": "completed"
    },
    "tags": []
   },
   "source": [
    "# ABC - GAN Model with skip connection"
   ]
  },
  {
   "cell_type": "code",
   "execution_count": 15,
   "id": "4e43dad1",
   "metadata": {
    "execution": {
     "iopub.execute_input": "2022-03-11T09:50:33.916343Z",
     "iopub.status.busy": "2022-03-11T09:50:33.915965Z",
     "iopub.status.idle": "2022-03-11T09:50:33.918227Z",
     "shell.execute_reply": "2022-03-11T09:50:33.918461Z"
    },
    "id": "4e43dad1",
    "papermill": {
     "duration": 0.020831,
     "end_time": "2022-03-11T09:50:33.918569",
     "exception": false,
     "start_time": "2022-03-11T09:50:33.897738",
     "status": "completed"
    },
    "tags": []
   },
   "outputs": [],
   "source": [
    "#Generator\n",
    "gen3 = network.GeneratorWithSkipConnection(n_features+1).to(device)\n",
    "constraints=network.weightConstraint()\n",
    "#Discriminator \n",
    "disc3 = network.Discriminator(n_features+1).to(device)\n",
    "\n",
    "criterion = torch.nn.BCELoss()\n",
    "gen_opt = torch.optim.Adam(gen3.parameters(), lr=0.001, betas=(0.5, 0.999))\n",
    "disc_opt = torch.optim.Adam(disc3.parameters(), lr=0.001, betas=(0.5, 0.999))\n"
   ]
  },
  {
   "cell_type": "code",
   "execution_count": 16,
   "id": "26acbc37",
   "metadata": {
    "execution": {
     "iopub.execute_input": "2022-03-11T09:50:33.950369Z",
     "iopub.status.busy": "2022-03-11T09:50:33.950008Z",
     "iopub.status.idle": "2022-03-11T09:53:08.007353Z",
     "shell.execute_reply": "2022-03-11T09:53:08.007666Z"
    },
    "id": "26acbc37",
    "papermill": {
     "duration": 154.074521,
     "end_time": "2022-03-11T09:53:08.007788",
     "exception": false,
     "start_time": "2022-03-11T09:50:33.933267",
     "status": "completed"
    },
    "tags": []
   },
   "outputs": [
    {
     "data": {
      "image/png": "[encoded data removed]",
      "text/plain": [
       "<Figure size 432x288 with 1 Axes>"
      ]
     },
     "metadata": {
      "needs_background": "light"
     },
     "output_type": "display_data"
    },
    {
     "data": {
      "image/png": "[encoded data removed]",
      "text/plain": [
       "<Figure size 432x288 with 1 Axes>"
      ]
     },
     "metadata": {
      "needs_background": "light"
     },
     "output_type": "display_data"
    }
   ],
   "source": [
    "ABC_train_test2.training_GAN_skip_connection(disc3,gen3,disc_opt,gen_opt,train_data,batch_size,n_epochs,criterion,prior_model,variance,0,device)"
   ]
  },
  {
   "cell_type": "code",
   "execution_count": 17,
   "id": "c5e0717b",
   "metadata": {
    "execution": {
     "iopub.execute_input": "2022-03-11T09:53:08.042193Z",
     "iopub.status.busy": "2022-03-11T09:53:08.041812Z",
     "iopub.status.idle": "2022-03-11T09:53:08.876947Z",
     "shell.execute_reply": "2022-03-11T09:53:08.877257Z"
    },
    "id": "c5e0717b",
    "papermill": {
     "duration": 0.853707,
     "end_time": "2022-03-11T09:53:08.877378",
     "exception": false,
     "start_time": "2022-03-11T09:53:08.023671",
     "status": "completed"
    },
    "tags": []
   },
   "outputs": [
    {
     "data": {
      "application/scrapbook.scrap.json+json": {
       "data": 0.17076363399280367,
       "encoder": "json",
       "name": "ABC-GAN Model 3 MSE",
       "version": 1
      }
     },
     "metadata": {
      "scrapbook": {
       "data": true,
       "display": false,
       "name": "ABC-GAN Model 3 MSE"
      }
     },
     "output_type": "display_data"
    },
    {
     "data": {
      "application/scrapbook.scrap.json+json": {
       "data": 0.2783871585316956,
       "encoder": "json",
       "name": "ABC-GAN Model 3 MAE",
       "version": 1
      }
     },
     "metadata": {
      "scrapbook": {
       "data": true,
       "display": false,
       "name": "ABC-GAN Model 3 MAE"
      }
     },
     "output_type": "display_data"
    },
    {
     "data": {
      "application/scrapbook.scrap.json+json": {
       "data": 28.39549017023295,
       "encoder": "json",
       "name": "ABC-GAN Model 3 Manhattan Distance",
       "version": 1
      }
     },
     "metadata": {
      "scrapbook": {
       "data": true,
       "display": false,
       "name": "ABC-GAN Model 3 Manhattan Distance"
      }
     },
     "output_type": "display_data"
    },
    {
     "data": {
      "application/scrapbook.scrap.json+json": {
       "data": 4.171962560665203,
       "encoder": "json",
       "name": "ABC-GAN Model 3 Euclidean distance",
       "version": 1
      }
     },
     "metadata": {
      "scrapbook": {
       "data": true,
       "display": false,
       "name": "ABC-GAN Model 3 Euclidean distance"
      }
     },
     "output_type": "display_data"
    },
    {
     "data": {
      "application/scrapbook.scrap.json+json": {
       "data": [
        [
         0.1605286814214924,
         0.16634539615623814,
         0.16028203959835247,
         0.16637468851616638,
         0.16235779367118697,
         0.17064462771479424,
         0.1831460763366761,
         0.16975578649310238,
         0.1771131888207615,
         0.17865210162201406,
         0.18513934362593126,
         0.16072542917265945,
         0.18292520598898543,
         0.1537948507705486,
         0.16758871546438642,
         0.1565635753034587,
         0.169127204037069,
         0.15953269045479757,
         0.1762418704442451,
         0.16771296002627828,
         0.1672015116680548,
         0.18938571811607163,
         0.165815306900248,
         0.18662417588421928,
         0.15915022986555488,
         0.17330990163056353,
         0.17343942350428365,
         0.16210643021187482,
         0.1759285862034461,
         0.1788159946545501,
         0.17388364025211878,
         0.1592083938971745,
         0.17554056231391282,
         0.1769095072762221,
         0.18867453963492295,
         0.1615354804183011,
         0.18299740718197707,
         0.1815637653111775,
         0.15622870860463894,
         0.17359601576778508,
         0.19024208669901624,
         0.17587277154570152,
         0.15506911718119024,
         0.17625367406792108,
         0.17330469922800393,
         0.1719008195161034,
         0.16465149381544336,
         0.1563089069580203,
         0.17888941581742004,
         0.15845021190327097,
         0.15764679752930538,
         0.1548607676808721,
         0.17613539095947403,
         0.17601270183763515,
         0.15626470948892401,
         0.17947766480369237,
         0.1649218817053909,
         0.16709496257174264,
         0.17183830324552588,
         0.16517198184762996,
         0.1629734002875121,
         0.17714849465069157,
         0.15799374874220393,
         0.17604921939847595,
         0.1742330598122389,
         0.16367077748721404,
         0.1641305780354699,
         0.16275133696759989,
         0.16585964437540443,
         0.17802589760625098,
         0.17204197600660856,
         0.18409075367543165,
         0.17658511603777088,
         0.17657837610296684,
         0.16185626113435475,
         0.18649710796567873,
         0.16852409291738532,
         0.1711376027368555,
         0.17739401065615457,
         0.16686303613614062,
         0.17349710824230188,
         0.17604179546648852,
         0.18989287039284936,
         0.16709401499639054,
         0.18660111397111426,
         0.16907361948100905,
         0.18009176679637431,
         0.1683511116327202,
         0.17457858028251533,
         0.1741334572033994,
         0.16439882041980738,
         0.16270345459483923,
         0.16556007995421493,
         0.18172051143362325,
         0.16538661191941414,
         0.15783430750015545,
         0.17086199858362391,
         0.1585502559023046,
         0.18055589063104854,
         0.17819565580523686
        ],
        [
         0.27356214881600704,
         0.2812670609712893,
         0.27299462373861494,
         0.27726718069364625,
         0.27264126309869335,
         0.27653427498743816,
         0.28625881657296537,
         0.27669255400770437,
         0.28272053396657987,
         0.28347459663728286,
         0.27980379464433475,
         0.27695225042236205,
         0.2911230296298277,
         0.26904675366320446,
         0.27786781509205993,
         0.2693840935278465,
         0.2833049716062698,
         0.267566687171804,
         0.2794833950807943,
         0.2789085242057256,
         0.2754528969708903,
         0.28802399985565275,
         0.2799282143549884,
         0.2878243118414984,
         0.2788726948019044,
         0.2831519465236103,
         0.2757520085638937,
         0.26835331978166804,
         0.2807231819001483,
         0.2819756723794283,
         0.2743650190166983,
         0.26583942491561174,
         0.27600356361226125,
         0.27954884231382726,
         0.28815206558461864,
         0.2708779065047993,
         0.2805324579205583,
         0.2802976389397301,
         0.270794336026644,
         0.28253017051839363,
         0.290844444075928,
         0.279963600924056,
         0.27290676610873027,
         0.2784870085945609,
         0.28760067256642324,
         0.27320023837919327,
         0.2800914029243822,
         0.271610219086356,
         0.2861607132625638,
         0.274762132442465,
         0.27219754532344786,
         0.27399196612703447,
         0.27101614978164434,
         0.2780500267833179,
         0.26887316448504434,
         0.27795692447426856,
         0.2782612797420691,
         0.27803421767391995,
         0.2779983034649608,
         0.2694847052003823,
         0.2803723924409817,
         0.2791114854717664,
         0.2660730320996806,
         0.2804695052624333,
         0.2848619080020809,
         0.27611047831163105,
         0.2818048475675431,
         0.2760603810094443,
         0.27915902634826945,
         0.2857386442631775,
         0.28202290661340834,
         0.28577816628796215,
         0.2771685774821569,
         0.27881602097448765,
         0.27962416299052684,
         0.2851448835366789,
         0.2808664654947671,
         0.27611144915150077,
         0.28048904077606457,
         0.2700007089833711,
         0.28108860890143644,
         0.2837950847495128,
         0.2899448356828561,
         0.27231676622713896,
         0.28549094472591785,
         0.2758465747659405,
         0.28967856427691147,
         0.280945363235386,
         0.279416070867549,
         0.27400781011537595,
         0.28101855624174954,
         0.2707777524951334,
         0.27223865868633285,
         0.27578531083303925,
         0.2838068219157411,
         0.2745262637880503,
         0.2756900217603235,
         0.27283397797202946,
         0.28727841284126043,
         0.2790998477379189
        ],
        [
         27.903339179232717,
         28.689240219071507,
         27.845451621338725,
         28.28125243075192,
         27.809408836066723,
         28.20649604871869,
         29.198399290442467,
         28.222640508785844,
         28.837494464591146,
         28.914408857002854,
         28.539987053722143,
         28.249129543080926,
         29.694549022242427,
         27.442768873646855,
         28.34251713939011,
         27.47717753984034,
         28.897107103839517,
         27.291802091524005,
         28.50730629824102,
         28.448669468984008,
         28.096195491030812,
         29.37844798527658,
         28.552677864208817,
         29.358079807832837,
         28.44501486979425,
         28.88149854540825,
         28.126704873517156,
         27.37203861773014,
         28.633764553815126,
         28.761518582701683,
         27.985231939703226,
         27.115621341392398,
         28.152363488450646,
         28.51398191601038,
         29.391510689631104,
         27.629546463489532,
         28.614310707896948,
         28.59035917185247,
         27.62102227471769,
         28.81807739287615,
         29.666133295744658,
         28.556287294253707,
         27.836490143090487,
         28.405674876645207,
         29.33526860177517,
         27.866424314677715,
         28.569323098286986,
         27.704242346808314,
         29.18839275278151,
         28.02573750913143,
         27.76414962299168,
         27.94718054495752,
         27.643647277727723,
         28.361102731898427,
         27.425062777474523,
         28.351606296375394,
         28.38265053369105,
         28.359490202739835,
         28.355826953426003,
         27.487439930438995,
         28.597984028980136,
         28.46937151812017,
         27.13944927416742,
         28.607889536768198,
         29.05591461621225,
         28.163268787786365,
         28.744094451889396,
         28.15815886296332,
         28.474220687523484,
         29.145341714844108,
         28.76633647456765,
         29.149372961372137,
         28.271194903180003,
         28.43923413939774,
         28.521664625033736,
         29.084778120741248,
         28.648379480466247,
         28.16336781345308,
         28.609882159158587,
         27.54007231630385,
         28.671038107946515,
         28.947098644450307,
         29.574373239651322,
         27.776310155168176,
         29.12007636204362,
         28.13635062612593,
         29.54721355624497,
         28.65642705000937,
         28.500439228489995,
         27.948796631768346,
         28.663892736658454,
         27.619330754503608,
         27.76834318600595,
         28.130101704970002,
         28.948295835405588,
         28.00167890638113,
         28.120382219552994,
         27.829065753147006,
         29.302398109808564,
         28.468184469267726
        ],
        [
         4.0464707468351016,
         4.119129811979259,
         4.043360983022905,
         4.119492472216567,
         4.069458803632378,
         4.172020137404542,
         4.322140648607002,
         4.161140495380617,
         4.250358250749891,
         4.268783710314382,
         4.345596972781182,
         4.048949712655278,
         4.3195336566435625,
         3.960691199600892,
         4.1344950087486385,
         3.9961837646625797,
         4.153429283349006,
         4.033898167578026,
         4.239890421380369,
         4.136027311645848,
         4.129715993884033,
         4.395149968754116,
         4.112561404261983,
         4.3629881893251055,
         4.029059871271039,
         4.2044749929470955,
         4.206045791172147,
         4.0663074012685305,
         4.236120370427581,
         4.270741323794278,
         4.211428653760635,
         4.0297960466395555,
         4.231446248745114,
         4.247913575177188,
         4.38688990547542,
         4.059140180218799,
         4.320386039760991,
         4.3034293373703845,
         3.991907849346371,
         4.207944107080568,
         4.405075804489595,
         4.235448346711544,
         3.9770654951209194,
         4.240032400221482,
         4.2044118876789875,
         4.187348037916426,
         4.098103508841037,
         3.992932319701658,
         4.271618008831881,
         4.020189251034537,
         4.0099842079476,
         3.974392821985385,
         4.238609427379025,
         4.237132944272433,
         3.9923677646066427,
         4.278635507960057,
         4.1014670465517415,
         4.128399954258034,
         4.186586548853808,
         4.1045757574271,
         4.077166519695538,
         4.25078186388934,
         4.014394396631302,
         4.2375724629373055,
         4.215657967725603,
         4.085880480838351,
         4.0916156906065755,
         4.074387852266299,
         4.113111197900106,
         4.261295760192854,
         4.189066907161316,
         4.333273228737605,
         4.24401718138047,
         4.243936187374007,
         4.063168546307693,
         4.361502609479815,
         4.146017061900891,
         4.178042062875775,
         4.253726494137553,
         4.125533866772436,
         4.206745183715646,
         4.23748311354533,
         4.401030876973102,
         4.128388248412669,
         4.362718604844191,
         4.15277126592146,
         4.285949161297901,
         4.143888679312881,
         4.219835919655712,
         4.214452827443527,
         4.094957836513137,
         4.073788454089583,
         4.109395108203872,
         4.3052865370645845,
         4.107241704085632,
         4.012368298775158,
         4.17467649711084,
         4.021458205929171,
         4.291468378581735,
         4.263326974574452
        ]
       ],
       "encoder": "json",
       "name": "ABC_GAN_3 Metrics",
       "version": 1
      }
     },
     "metadata": {
      "scrapbook": {
       "data": true,
       "display": false,
       "name": "ABC_GAN_3 Metrics"
      }
     },
     "output_type": "display_data"
    },
    {
     "name": "stdout",
     "output_type": "stream",
     "text": [
      "MSE\n",
      "0.17076363399280367\n"
     ]
    }
   ],
   "source": [
    "ABC_GAN3_metrics=ABC_train_test2.test_generator(gen3,test_data,prior_model,variance,0,\"3\",device)\n",
    "sb.glue(\"ABC_GAN_3 Metrics\",ABC_GAN3_metrics)\n",
    "\n",
    "print(\"MSE\")\n",
    "print(mean(ABC_GAN3_metrics[0]))"
   ]
  },
  {
   "cell_type": "code",
   "execution_count": 18,
   "id": "c8e46b48",
   "metadata": {
    "execution": {
     "iopub.execute_input": "2022-03-11T09:53:08.914399Z",
     "iopub.status.busy": "2022-03-11T09:53:08.914034Z",
     "iopub.status.idle": "2022-03-11T09:53:09.242577Z",
     "shell.execute_reply": "2022-03-11T09:53:09.242956Z"
    },
    "id": "c8e46b48",
    "papermill": {
     "duration": 0.348277,
     "end_time": "2022-03-11T09:53:09.243077",
     "exception": false,
     "start_time": "2022-03-11T09:53:08.894800",
     "status": "completed"
    },
    "tags": []
   },
   "outputs": [
    {
     "data": {
      "image/png": "[encoded data removed]",
      "text/plain": [
       "<Figure size 432x288 with 1 Axes>"
      ]
     },
     "metadata": {
      "needs_background": "light"
     },
     "output_type": "display_data"
    },
    {
     "data": {
      "image/png": "[encoded data removed]",
      "text/plain": [
       "<Figure size 432x288 with 1 Axes>"
      ]
     },
     "metadata": {
      "needs_background": "light"
     },
     "output_type": "display_data"
    },
    {
     "data": {
      "image/png": "[encoded data removed]",
      "text/plain": [
       "<Figure size 432x288 with 1 Axes>"
      ]
     },
     "metadata": {
      "needs_background": "light"
     },
     "output_type": "display_data"
    },
    {
     "data": {
      "image/png": "[encoded data removed]",
      "text/plain": [
       "<Figure size 432x288 with 1 Axes>"
      ]
     },
     "metadata": {
      "needs_background": "light"
     },
     "output_type": "display_data"
    }
   ],
   "source": [
    "sanityChecks.discProbVsError(train_data,disc3,device)\n",
    "sanityChecks.discProbVsError(test_data,disc3,device)"
   ]
  },
  {
   "cell_type": "markdown",
   "id": "a5bd74c3",
   "metadata": {
    "id": "a5bd74c3",
    "papermill": {
     "duration": 0.019711,
     "end_time": "2022-03-11T09:53:09.282647",
     "exception": false,
     "start_time": "2022-03-11T09:53:09.262936",
     "status": "completed"
    },
    "tags": []
   },
   "source": [
    "## Skip Connection Model Analysis - ABC-GAN "
   ]
  },
  {
   "cell_type": "markdown",
   "id": "5744a8bf",
   "metadata": {
    "id": "5744a8bf",
    "papermill": {
     "duration": 0.019469,
     "end_time": "2022-03-11T09:53:09.321681",
     "exception": false,
     "start_time": "2022-03-11T09:53:09.302212",
     "status": "completed"
    },
    "tags": []
   },
   "source": [
    "### Weight Analysis \n",
    "\n",
    "Study the weights of the skip connection layer\n",
    "\n",
    "Equation of the skip connection is \n",
    "\n",
    "$output = y_{gan} * w + y_{abc} * (1-w)$"
   ]
  },
  {
   "cell_type": "code",
   "execution_count": 19,
   "id": "52c31dea",
   "metadata": {
    "execution": {
     "iopub.execute_input": "2022-03-11T09:53:09.363663Z",
     "iopub.status.busy": "2022-03-11T09:53:09.363274Z",
     "iopub.status.idle": "2022-03-11T09:53:09.366751Z",
     "shell.execute_reply": "2022-03-11T09:53:09.366989Z"
    },
    "id": "52c31dea",
    "papermill": {
     "duration": 0.026034,
     "end_time": "2022-03-11T09:53:09.367122",
     "exception": false,
     "start_time": "2022-03-11T09:53:09.341088",
     "status": "completed"
    },
    "tags": []
   },
   "outputs": [
    {
     "name": "stdout",
     "output_type": "stream",
     "text": [
      "Weight of the node at skip connection\n",
      "Parameter containing:\n",
      "tensor([[0.8623]], requires_grad=True)\n"
     ]
    },
    {
     "data": {
      "application/scrapbook.scrap.json+json": {
       "data": 0.8623079061508179,
       "encoder": "json",
       "name": "Skip Connection Weight",
       "version": 1
      }
     },
     "metadata": {
      "scrapbook": {
       "data": true,
       "display": false,
       "name": "Skip Connection Weight"
      }
     },
     "output_type": "display_data"
    }
   ],
   "source": [
    "print(\"Weight of the node at skip connection\")\n",
    "for name,param in gen3.named_parameters():\n",
    "    if(name == \"skipNode.weight\"):\n",
    "        print(param)\n",
    "        sb.glue(\"Skip Connection Weight\",param.item())"
   ]
  }
 ],
 "metadata": {
  "colab": {
   "collapsed_sections": [],
   "name": "ABC_GAN_Model-Catboost_Pre-gen.ipynb",
   "provenance": []
  },
  "interpreter": {
   "hash": "31f2aee4e71d21fbe5cf8b01ff0e069b9275f58929596ceb00d14d90e3e16cd6"
  },
  "kernelspec": {
   "display_name": "Python 3 (ipykernel)",
   "language": "python",
   "name": "python3"
  },
  "language_info": {
   "codemirror_mode": {
    "name": "ipython",
    "version": 3
   },
   "file_extension": ".py",
   "mimetype": "text/x-python",
   "name": "python",
   "nbconvert_exporter": "python",
   "pygments_lexer": "ipython3",
   "version": "3.8.11"
  },
  "papermill": {
   "default_parameters": {},
   "duration": 197.197499,
   "end_time": "2022-03-11T09:53:09.694919",
   "environment_variables": {},
   "exception": null,
   "input_path": "ABC_GAN-Catboost.ipynb",
   "output_path": "./ABC_GAN_Catboost/ABC-GAN_output_3_0.ipynb",
   "parameters": {
    "variance": 1
   },
   "start_time": "2022-03-11T09:49:52.497420",
   "version": "2.3.3"
  }
 },
 "nbformat": 4,
 "nbformat_minor": 5
}