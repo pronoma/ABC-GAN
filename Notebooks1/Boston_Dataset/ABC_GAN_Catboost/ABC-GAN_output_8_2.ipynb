{
 "cells": [
  {
   "cell_type": "markdown",
   "id": "622780e6",
   "metadata": {
    "id": "622780e6",
    "papermill": {
     "duration": 0.03763,
     "end_time": "2022-03-11T10:44:33.448788",
     "exception": false,
     "start_time": "2022-03-11T10:44:33.411158",
     "status": "completed"
    },
    "tags": []
   },
   "source": [
    "## Import Libraries "
   ]
  },
  {
   "cell_type": "code",
   "execution_count": 1,
   "id": "a62397e3",
   "metadata": {
    "execution": {
     "iopub.execute_input": "2022-03-11T10:44:33.484951Z",
     "iopub.status.busy": "2022-03-11T10:44:33.484338Z",
     "iopub.status.idle": "2022-03-11T10:44:33.486642Z",
     "shell.execute_reply": "2022-03-11T10:44:33.487034Z"
    },
    "id": "a62397e3",
    "papermill": {
     "duration": 0.022087,
     "end_time": "2022-03-11T10:44:33.487236",
     "exception": false,
     "start_time": "2022-03-11T10:44:33.465149",
     "status": "completed"
    },
    "tags": []
   },
   "outputs": [],
   "source": [
    "import warnings\n",
    "import sys\n",
    "sys.path.insert(0, '../../src')\n",
    "warnings.filterwarnings('ignore')"
   ]
  },
  {
   "cell_type": "code",
   "execution_count": 2,
   "id": "d6a4e155",
   "metadata": {
    "execution": {
     "iopub.execute_input": "2022-03-11T10:44:33.507618Z",
     "iopub.status.busy": "2022-03-11T10:44:33.507224Z",
     "iopub.status.idle": "2022-03-11T10:44:35.267401Z",
     "shell.execute_reply": "2022-03-11T10:44:35.267668Z"
    },
    "id": "d6a4e155",
    "papermill": {
     "duration": 1.771002,
     "end_time": "2022-03-11T10:44:35.267793",
     "exception": false,
     "start_time": "2022-03-11T10:44:33.496791",
     "status": "completed"
    },
    "tags": []
   },
   "outputs": [],
   "source": [
    "import ABC_train_test2\n",
    "import bostonDataset\n",
    "import network\n",
    "import dataset\n",
    "import sanityChecks\n",
    "import torch \n",
    "import scrapbook as sb\n",
    "from statistics import mean \n",
    "import catboost as ctb \n",
    "from sklearn.model_selection import train_test_split\n",
    "from sklearn.metrics import mean_squared_error,mean_absolute_error\n",
    "import numpy as np"
   ]
  },
  {
   "cell_type": "markdown",
   "id": "2fa5b0f7",
   "metadata": {
    "id": "2fa5b0f7",
    "papermill": {
     "duration": 0.006819,
     "end_time": "2022-03-11T10:44:35.281813",
     "exception": false,
     "start_time": "2022-03-11T10:44:35.274994",
     "status": "completed"
    },
    "tags": []
   },
   "source": [
    "## Parameters "
   ]
  },
  {
   "cell_type": "code",
   "execution_count": 3,
   "id": "783186fb",
   "metadata": {
    "execution": {
     "iopub.execute_input": "2022-03-11T10:44:35.297652Z",
     "iopub.status.busy": "2022-03-11T10:44:35.297273Z",
     "iopub.status.idle": "2022-03-11T10:44:35.298526Z",
     "shell.execute_reply": "2022-03-11T10:44:35.298828Z"
    },
    "id": "783186fb",
    "papermill": {
     "duration": 0.010337,
     "end_time": "2022-03-11T10:44:35.298933",
     "exception": false,
     "start_time": "2022-03-11T10:44:35.288596",
     "status": "completed"
    },
    "tags": [
     "parameters"
    ]
   },
   "outputs": [],
   "source": [
    "variance = 1"
   ]
  },
  {
   "cell_type": "code",
   "execution_count": 4,
   "id": "b9682726",
   "metadata": {
    "execution": {
     "iopub.execute_input": "2022-03-11T10:44:35.314430Z",
     "iopub.status.busy": "2022-03-11T10:44:35.314066Z",
     "iopub.status.idle": "2022-03-11T10:44:35.315441Z",
     "shell.execute_reply": "2022-03-11T10:44:35.315694Z"
    },
    "papermill": {
     "duration": 0.009959,
     "end_time": "2022-03-11T10:44:35.315799",
     "exception": false,
     "start_time": "2022-03-11T10:44:35.305840",
     "status": "completed"
    },
    "tags": [
     "injected-parameters"
    ]
   },
   "outputs": [],
   "source": [
    "# Parameters\n",
    "variance = 0.01\n"
   ]
  },
  {
   "cell_type": "markdown",
   "id": "391cdbfd",
   "metadata": {
    "id": "391cdbfd",
    "papermill": {
     "duration": 0.006815,
     "end_time": "2022-03-11T10:44:35.329520",
     "exception": false,
     "start_time": "2022-03-11T10:44:35.322705",
     "status": "completed"
    },
    "tags": []
   },
   "source": [
    "## Dataset \n"
   ]
  },
  {
   "cell_type": "code",
   "execution_count": 5,
   "id": "5b51f161",
   "metadata": {
    "execution": {
     "iopub.execute_input": "2022-03-11T10:44:35.345047Z",
     "iopub.status.busy": "2022-03-11T10:44:35.344688Z",
     "iopub.status.idle": "2022-03-11T10:44:35.346108Z",
     "shell.execute_reply": "2022-03-11T10:44:35.346337Z"
    },
    "id": "5b51f161",
    "papermill": {
     "duration": 0.010071,
     "end_time": "2022-03-11T10:44:35.346440",
     "exception": false,
     "start_time": "2022-03-11T10:44:35.336369",
     "status": "completed"
    },
    "tags": []
   },
   "outputs": [],
   "source": [
    "#Parameters \n",
    "n_features = 13\n",
    "n_samples= 506\n",
    "n_target = 1 "
   ]
  },
  {
   "cell_type": "code",
   "execution_count": 6,
   "id": "5d6eced4",
   "metadata": {
    "execution": {
     "iopub.execute_input": "2022-03-11T10:44:35.362123Z",
     "iopub.status.busy": "2022-03-11T10:44:35.361696Z",
     "iopub.status.idle": "2022-03-11T10:44:35.372695Z",
     "shell.execute_reply": "2022-03-11T10:44:35.372936Z"
    },
    "id": "5d6eced4",
    "papermill": {
     "duration": 0.019697,
     "end_time": "2022-03-11T10:44:35.373048",
     "exception": false,
     "start_time": "2022-03-11T10:44:35.353351",
     "status": "completed"
    },
    "tags": []
   },
   "outputs": [
    {
     "name": "stdout",
     "output_type": "stream",
     "text": [
      "         X1        X2        X3        X4        X5        X6        X7  \\\n",
      "0 -0.419782  0.284830 -1.287909 -0.272599 -0.144217  0.413672 -0.120013   \n",
      "1 -0.417339 -0.487722 -0.593381 -0.272599 -0.740262  0.194274  0.367166   \n",
      "2 -0.417342 -0.487722 -0.593381 -0.272599 -0.740262  1.282714 -0.265812   \n",
      "3 -0.416750 -0.487722 -1.306878 -0.272599 -0.835284  1.016303 -0.809889   \n",
      "4 -0.412482 -0.487722 -1.306878 -0.272599 -0.835284  1.228577 -0.511180   \n",
      "\n",
      "         X8        X9       X10       X11       X12       X13         Y  \n",
      "0  0.140214 -0.982843 -0.666608 -1.459000  0.441052 -1.075562  0.159686  \n",
      "1  0.557160 -0.867883 -0.987329 -0.303094  0.441052 -0.492439 -0.101524  \n",
      "2  0.557160 -0.867883 -0.987329 -0.303094  0.396427 -1.208727  1.324247  \n",
      "3  1.077737 -0.752922 -1.106115  0.113032  0.416163 -1.361517  1.182758  \n",
      "4  1.077737 -0.752922 -1.106115  0.113032  0.441052 -1.026501  1.487503  \n"
     ]
    }
   ],
   "source": [
    "X,Y = bostonDataset.boston_data()"
   ]
  },
  {
   "cell_type": "code",
   "execution_count": 7,
   "id": "fe007438",
   "metadata": {
    "execution": {
     "iopub.execute_input": "2022-03-11T10:44:35.390206Z",
     "iopub.status.busy": "2022-03-11T10:44:35.389786Z",
     "iopub.status.idle": "2022-03-11T10:44:35.391187Z",
     "shell.execute_reply": "2022-03-11T10:44:35.391483Z"
    },
    "id": "fe007438",
    "papermill": {
     "duration": 0.011093,
     "end_time": "2022-03-11T10:44:35.391592",
     "exception": false,
     "start_time": "2022-03-11T10:44:35.380499",
     "status": "completed"
    },
    "tags": []
   },
   "outputs": [],
   "source": [
    "#Train test split for dataset \n",
    "X_train,X_test,Y_train,Y_test = train_test_split(X,Y,test_size = 0.2)\n",
    "train_data = dataset.CustomDataset(X_train,Y_train)\n",
    "test_data = dataset.CustomDataset(X_test,Y_test)\n"
   ]
  },
  {
   "cell_type": "markdown",
   "id": "a9a1af34",
   "metadata": {
    "id": "a9a1af34",
    "papermill": {
     "duration": 0.007125,
     "end_time": "2022-03-11T10:44:35.405976",
     "exception": false,
     "start_time": "2022-03-11T10:44:35.398851",
     "status": "completed"
    },
    "tags": []
   },
   "source": [
    "## Training Parameters "
   ]
  },
  {
   "cell_type": "code",
   "execution_count": 8,
   "id": "952b7fc8",
   "metadata": {
    "execution": {
     "iopub.execute_input": "2022-03-11T10:44:35.422486Z",
     "iopub.status.busy": "2022-03-11T10:44:35.422126Z",
     "iopub.status.idle": "2022-03-11T10:44:35.423436Z",
     "shell.execute_reply": "2022-03-11T10:44:35.423678Z"
    },
    "id": "952b7fc8",
    "papermill": {
     "duration": 0.010684,
     "end_time": "2022-03-11T10:44:35.423782",
     "exception": false,
     "start_time": "2022-03-11T10:44:35.413098",
     "status": "completed"
    },
    "tags": []
   },
   "outputs": [],
   "source": [
    "batch_size = 64\n",
    "n_epochs = 1000\n",
    "#Select the device \n",
    "device = torch.device('cuda' if torch.cuda.is_available() else 'cpu')"
   ]
  },
  {
   "cell_type": "markdown",
   "id": "a95e1600",
   "metadata": {
    "id": "a95e1600",
    "papermill": {
     "duration": 0.007124,
     "end_time": "2022-03-11T10:44:35.438118",
     "exception": false,
     "start_time": "2022-03-11T10:44:35.430994",
     "status": "completed"
    },
    "tags": []
   },
   "source": [
    "# ABC Pre-generator Model \n",
    "\n",
    "1. The catboost model is used as a pre-generator model for the ABC-GAN. \n",
    "2. The model is first trained on the entire dataset \n",
    "3. It generats X,Y pairs and we add some Gaussian noise with mean 0 and variance 1 to it which is then feed as input to the generator.\n"
   ]
  },
  {
   "cell_type": "code",
   "execution_count": 9,
   "id": "ff8ce7bd",
   "metadata": {
    "execution": {
     "iopub.execute_input": "2022-03-11T10:44:35.457211Z",
     "iopub.status.busy": "2022-03-11T10:44:35.456839Z",
     "iopub.status.idle": "2022-03-11T10:44:36.432220Z",
     "shell.execute_reply": "2022-03-11T10:44:36.432523Z"
    },
    "id": "ff8ce7bd",
    "papermill": {
     "duration": 0.987329,
     "end_time": "2022-03-11T10:44:36.432648",
     "exception": false,
     "start_time": "2022-03-11T10:44:35.445319",
     "status": "completed"
    },
    "tags": []
   },
   "outputs": [
    {
     "name": "stdout",
     "output_type": "stream",
     "text": [
      "Learning rate set to 0.033215\n",
      "0:\tlearn: 0.9834112\ttotal: 70.2ms\tremaining: 1m 10s\n",
      "1:\tlearn: 0.9650583\ttotal: 71.3ms\tremaining: 35.6s\n",
      "2:\tlearn: 0.9442617\ttotal: 72.2ms\tremaining: 24s\n",
      "3:\tlearn: 0.9296694\ttotal: 73.3ms\tremaining: 18.2s\n",
      "4:\tlearn: 0.9123035\ttotal: 74.3ms\tremaining: 14.8s\n",
      "5:\tlearn: 0.8952953\ttotal: 75.4ms\tremaining: 12.5s\n",
      "6:\tlearn: 0.8783240\ttotal: 76.4ms\tremaining: 10.8s\n",
      "7:\tlearn: 0.8627632\ttotal: 77.3ms\tremaining: 9.58s\n",
      "8:\tlearn: 0.8473351\ttotal: 78.1ms\tremaining: 8.6s\n",
      "9:\tlearn: 0.8330231\ttotal: 79ms\tremaining: 7.82s\n",
      "10:\tlearn: 0.8193633\ttotal: 79.9ms\tremaining: 7.18s\n",
      "11:\tlearn: 0.8057553\ttotal: 80.7ms\tremaining: 6.64s\n",
      "12:\tlearn: 0.7908470\ttotal: 81.6ms\tremaining: 6.19s\n",
      "13:\tlearn: 0.7765182\ttotal: 82.4ms\tremaining: 5.8s\n",
      "14:\tlearn: 0.7642374\ttotal: 83.1ms\tremaining: 5.46s\n",
      "15:\tlearn: 0.7508307\ttotal: 83.9ms\tremaining: 5.16s\n",
      "16:\tlearn: 0.7395191\ttotal: 84.7ms\tremaining: 4.89s\n",
      "17:\tlearn: 0.7270593\ttotal: 85.5ms\tremaining: 4.66s\n",
      "18:\tlearn: 0.7149032\ttotal: 86.2ms\tremaining: 4.45s\n",
      "19:\tlearn: 0.7026317\ttotal: 87ms\tremaining: 4.26s\n",
      "20:\tlearn: 0.6932443\ttotal: 87.7ms\tremaining: 4.09s\n",
      "21:\tlearn: 0.6829762\ttotal: 88.6ms\tremaining: 3.94s\n",
      "22:\tlearn: 0.6744093\ttotal: 89.3ms\tremaining: 3.79s\n",
      "23:\tlearn: 0.6652155\ttotal: 90ms\tremaining: 3.66s\n",
      "24:\tlearn: 0.6558560\ttotal: 90.9ms\tremaining: 3.54s\n",
      "25:\tlearn: 0.6475965\ttotal: 91.7ms\tremaining: 3.44s\n",
      "26:\tlearn: 0.6382220\ttotal: 92.6ms\tremaining: 3.34s\n",
      "27:\tlearn: 0.6288867\ttotal: 93.4ms\tremaining: 3.24s\n",
      "28:\tlearn: 0.6200924\ttotal: 94.2ms\tremaining: 3.15s\n",
      "29:\tlearn: 0.6096638\ttotal: 95ms\tremaining: 3.07s\n",
      "30:\tlearn: 0.5997766\ttotal: 95.8ms\tremaining: 2.99s\n",
      "31:\tlearn: 0.5905549\ttotal: 96.5ms\tremaining: 2.92s\n",
      "32:\tlearn: 0.5837071\ttotal: 97.2ms\tremaining: 2.85s\n",
      "33:\tlearn: 0.5763970\ttotal: 98ms\tremaining: 2.79s\n",
      "34:\tlearn: 0.5705942\ttotal: 98.8ms\tremaining: 2.72s\n",
      "35:\tlearn: 0.5638673\ttotal: 99.8ms\tremaining: 2.67s\n",
      "36:\tlearn: 0.5576518\ttotal: 101ms\tremaining: 2.62s\n",
      "37:\tlearn: 0.5502804\ttotal: 101ms\tremaining: 2.57s\n",
      "38:\tlearn: 0.5427745\ttotal: 102ms\tremaining: 2.52s\n",
      "39:\tlearn: 0.5348306\ttotal: 103ms\tremaining: 2.47s\n",
      "40:\tlearn: 0.5292816\ttotal: 104ms\tremaining: 2.43s\n",
      "41:\tlearn: 0.5213576\ttotal: 105ms\tremaining: 2.38s\n",
      "42:\tlearn: 0.5151358\ttotal: 105ms\tremaining: 2.34s\n",
      "43:\tlearn: 0.5085932\ttotal: 106ms\tremaining: 2.3s\n",
      "44:\tlearn: 0.5026043\ttotal: 107ms\tremaining: 2.27s\n",
      "45:\tlearn: 0.4963483\ttotal: 108ms\tremaining: 2.23s\n",
      "46:\tlearn: 0.4921922\ttotal: 108ms\tremaining: 2.2s\n"
     ]
    },
    {
     "name": "stdout",
     "output_type": "stream",
     "text": [
      "47:\tlearn: 0.4861832\ttotal: 109ms\tremaining: 2.17s\n",
      "48:\tlearn: 0.4805127\ttotal: 110ms\tremaining: 2.14s\n",
      "49:\tlearn: 0.4745999\ttotal: 111ms\tremaining: 2.11s\n",
      "50:\tlearn: 0.4690516\ttotal: 112ms\tremaining: 2.08s\n",
      "51:\tlearn: 0.4645921\ttotal: 113ms\tremaining: 2.06s\n",
      "52:\tlearn: 0.4590881\ttotal: 114ms\tremaining: 2.03s\n",
      "53:\tlearn: 0.4553478\ttotal: 114ms\tremaining: 2s\n",
      "54:\tlearn: 0.4494132\ttotal: 115ms\tremaining: 1.98s\n",
      "55:\tlearn: 0.4456590\ttotal: 116ms\tremaining: 1.95s\n",
      "56:\tlearn: 0.4410993\ttotal: 117ms\tremaining: 1.93s\n",
      "57:\tlearn: 0.4366314\ttotal: 117ms\tremaining: 1.91s\n",
      "58:\tlearn: 0.4332097\ttotal: 118ms\tremaining: 1.89s\n",
      "59:\tlearn: 0.4292625\ttotal: 119ms\tremaining: 1.87s\n",
      "60:\tlearn: 0.4252947\ttotal: 120ms\tremaining: 1.85s\n",
      "61:\tlearn: 0.4206600\ttotal: 121ms\tremaining: 1.83s\n",
      "62:\tlearn: 0.4177167\ttotal: 122ms\tremaining: 1.81s\n",
      "63:\tlearn: 0.4139603\ttotal: 123ms\tremaining: 1.79s\n",
      "64:\tlearn: 0.4103285\ttotal: 123ms\tremaining: 1.77s\n",
      "65:\tlearn: 0.4063430\ttotal: 124ms\tremaining: 1.76s\n",
      "66:\tlearn: 0.4025443\ttotal: 125ms\tremaining: 1.74s\n",
      "67:\tlearn: 0.3999698\ttotal: 126ms\tremaining: 1.73s\n",
      "68:\tlearn: 0.3970666\ttotal: 127ms\tremaining: 1.71s\n",
      "69:\tlearn: 0.3946739\ttotal: 128ms\tremaining: 1.69s\n",
      "70:\tlearn: 0.3912688\ttotal: 128ms\tremaining: 1.68s\n",
      "71:\tlearn: 0.3869127\ttotal: 129ms\tremaining: 1.67s\n",
      "72:\tlearn: 0.3841431\ttotal: 130ms\tremaining: 1.65s\n",
      "73:\tlearn: 0.3806908\ttotal: 131ms\tremaining: 1.64s\n",
      "74:\tlearn: 0.3779972\ttotal: 131ms\tremaining: 1.62s\n",
      "75:\tlearn: 0.3753667\ttotal: 132ms\tremaining: 1.61s\n",
      "76:\tlearn: 0.3717513\ttotal: 133ms\tremaining: 1.59s\n",
      "77:\tlearn: 0.3692239\ttotal: 134ms\tremaining: 1.58s\n",
      "78:\tlearn: 0.3669140\ttotal: 136ms\tremaining: 1.58s\n",
      "79:\tlearn: 0.3647703\ttotal: 136ms\tremaining: 1.57s\n",
      "80:\tlearn: 0.3625061\ttotal: 137ms\tremaining: 1.56s\n",
      "81:\tlearn: 0.3598363\ttotal: 138ms\tremaining: 1.55s\n",
      "82:\tlearn: 0.3569214\ttotal: 139ms\tremaining: 1.53s\n",
      "83:\tlearn: 0.3554287\ttotal: 140ms\tremaining: 1.52s\n",
      "84:\tlearn: 0.3532338\ttotal: 141ms\tremaining: 1.51s\n",
      "85:\tlearn: 0.3507967\ttotal: 142ms\tremaining: 1.5s\n",
      "86:\tlearn: 0.3483524\ttotal: 142ms\tremaining: 1.49s\n",
      "87:\tlearn: 0.3458311\ttotal: 143ms\tremaining: 1.48s\n",
      "88:\tlearn: 0.3434419\ttotal: 144ms\tremaining: 1.47s\n",
      "89:\tlearn: 0.3412605\ttotal: 145ms\tremaining: 1.46s\n",
      "90:\tlearn: 0.3386286\ttotal: 145ms\tremaining: 1.45s\n",
      "91:\tlearn: 0.3370094\ttotal: 146ms\tremaining: 1.44s\n",
      "92:\tlearn: 0.3353090\ttotal: 148ms\tremaining: 1.44s\n",
      "93:\tlearn: 0.3335289\ttotal: 148ms\tremaining: 1.43s\n",
      "94:\tlearn: 0.3316237\ttotal: 149ms\tremaining: 1.42s\n",
      "95:\tlearn: 0.3307936\ttotal: 151ms\tremaining: 1.42s\n",
      "96:\tlearn: 0.3292869\ttotal: 152ms\tremaining: 1.41s\n",
      "97:\tlearn: 0.3276165\ttotal: 153ms\tremaining: 1.4s\n",
      "98:\tlearn: 0.3262180\ttotal: 154ms\tremaining: 1.4s\n",
      "99:\tlearn: 0.3249683\ttotal: 155ms\tremaining: 1.4s\n",
      "100:\tlearn: 0.3237972\ttotal: 156ms\tremaining: 1.39s\n",
      "101:\tlearn: 0.3214296\ttotal: 157ms\tremaining: 1.38s\n",
      "102:\tlearn: 0.3197033\ttotal: 158ms\tremaining: 1.37s\n",
      "103:\tlearn: 0.3183559\ttotal: 159ms\tremaining: 1.37s\n",
      "104:\tlearn: 0.3168942\ttotal: 160ms\tremaining: 1.36s\n",
      "105:\tlearn: 0.3151372\ttotal: 161ms\tremaining: 1.36s\n",
      "106:\tlearn: 0.3134251\ttotal: 162ms\tremaining: 1.35s\n",
      "107:\tlearn: 0.3113578\ttotal: 163ms\tremaining: 1.34s\n",
      "108:\tlearn: 0.3100548\ttotal: 164ms\tremaining: 1.34s\n",
      "109:\tlearn: 0.3089240\ttotal: 165ms\tremaining: 1.33s\n",
      "110:\tlearn: 0.3069413\ttotal: 165ms\tremaining: 1.32s\n",
      "111:\tlearn: 0.3056621\ttotal: 166ms\tremaining: 1.32s\n",
      "112:\tlearn: 0.3040450\ttotal: 167ms\tremaining: 1.31s\n",
      "113:\tlearn: 0.3028813\ttotal: 168ms\tremaining: 1.31s\n",
      "114:\tlearn: 0.3013653\ttotal: 169ms\tremaining: 1.3s\n",
      "115:\tlearn: 0.3001417\ttotal: 170ms\tremaining: 1.3s\n",
      "116:\tlearn: 0.2986736\ttotal: 171ms\tremaining: 1.29s\n",
      "117:\tlearn: 0.2969834\ttotal: 172ms\tremaining: 1.29s\n",
      "118:\tlearn: 0.2957251\ttotal: 173ms\tremaining: 1.28s\n",
      "119:\tlearn: 0.2948116\ttotal: 174ms\tremaining: 1.28s\n",
      "120:\tlearn: 0.2933585\ttotal: 175ms\tremaining: 1.27s\n",
      "121:\tlearn: 0.2924898\ttotal: 176ms\tremaining: 1.26s\n",
      "122:\tlearn: 0.2912808\ttotal: 177ms\tremaining: 1.26s\n",
      "123:\tlearn: 0.2895759\ttotal: 178ms\tremaining: 1.25s\n",
      "124:\tlearn: 0.2883763\ttotal: 178ms\tremaining: 1.25s\n",
      "125:\tlearn: 0.2869473\ttotal: 179ms\tremaining: 1.24s\n",
      "126:\tlearn: 0.2852776\ttotal: 180ms\tremaining: 1.24s\n",
      "127:\tlearn: 0.2842373\ttotal: 181ms\tremaining: 1.23s\n",
      "128:\tlearn: 0.2829013\ttotal: 181ms\tremaining: 1.22s\n",
      "129:\tlearn: 0.2817959\ttotal: 182ms\tremaining: 1.22s\n",
      "130:\tlearn: 0.2807522\ttotal: 183ms\tremaining: 1.21s\n",
      "131:\tlearn: 0.2797564\ttotal: 184ms\tremaining: 1.21s\n",
      "132:\tlearn: 0.2790025\ttotal: 185ms\tremaining: 1.2s\n",
      "133:\tlearn: 0.2779970\ttotal: 186ms\tremaining: 1.2s\n",
      "134:\tlearn: 0.2770372\ttotal: 187ms\tremaining: 1.2s\n",
      "135:\tlearn: 0.2759374\ttotal: 187ms\tremaining: 1.19s\n",
      "136:\tlearn: 0.2749934\ttotal: 188ms\tremaining: 1.19s\n",
      "137:\tlearn: 0.2738689\ttotal: 189ms\tremaining: 1.18s\n",
      "138:\tlearn: 0.2728348\ttotal: 190ms\tremaining: 1.18s\n",
      "139:\tlearn: 0.2715877\ttotal: 191ms\tremaining: 1.17s\n",
      "140:\tlearn: 0.2703089\ttotal: 192ms\tremaining: 1.17s\n"
     ]
    },
    {
     "name": "stdout",
     "output_type": "stream",
     "text": [
      "141:\tlearn: 0.2693418\ttotal: 193ms\tremaining: 1.17s\n",
      "142:\tlearn: 0.2685860\ttotal: 194ms\tremaining: 1.16s\n",
      "143:\tlearn: 0.2676811\ttotal: 195ms\tremaining: 1.16s\n",
      "144:\tlearn: 0.2668500\ttotal: 196ms\tremaining: 1.16s\n",
      "145:\tlearn: 0.2660823\ttotal: 197ms\tremaining: 1.15s\n",
      "146:\tlearn: 0.2653789\ttotal: 198ms\tremaining: 1.15s\n",
      "147:\tlearn: 0.2644818\ttotal: 198ms\tremaining: 1.14s\n",
      "148:\tlearn: 0.2635622\ttotal: 199ms\tremaining: 1.14s\n",
      "149:\tlearn: 0.2629639\ttotal: 200ms\tremaining: 1.13s\n",
      "150:\tlearn: 0.2619740\ttotal: 201ms\tremaining: 1.13s\n",
      "151:\tlearn: 0.2612251\ttotal: 202ms\tremaining: 1.13s\n",
      "152:\tlearn: 0.2605577\ttotal: 203ms\tremaining: 1.12s\n",
      "153:\tlearn: 0.2598352\ttotal: 203ms\tremaining: 1.12s\n",
      "154:\tlearn: 0.2584702\ttotal: 204ms\tremaining: 1.11s\n",
      "155:\tlearn: 0.2574391\ttotal: 205ms\tremaining: 1.11s\n",
      "156:\tlearn: 0.2565289\ttotal: 206ms\tremaining: 1.11s\n",
      "157:\tlearn: 0.2555557\ttotal: 207ms\tremaining: 1.1s\n",
      "158:\tlearn: 0.2543390\ttotal: 208ms\tremaining: 1.1s\n",
      "159:\tlearn: 0.2535892\ttotal: 208ms\tremaining: 1.09s\n",
      "160:\tlearn: 0.2528951\ttotal: 209ms\tremaining: 1.09s\n",
      "161:\tlearn: 0.2519462\ttotal: 210ms\tremaining: 1.09s\n",
      "162:\tlearn: 0.2512293\ttotal: 211ms\tremaining: 1.08s\n",
      "163:\tlearn: 0.2504840\ttotal: 212ms\tremaining: 1.08s\n",
      "164:\tlearn: 0.2500245\ttotal: 213ms\tremaining: 1.08s\n",
      "165:\tlearn: 0.2491855\ttotal: 214ms\tremaining: 1.07s\n",
      "166:\tlearn: 0.2486530\ttotal: 214ms\tremaining: 1.07s\n",
      "167:\tlearn: 0.2479068\ttotal: 215ms\tremaining: 1.07s\n",
      "168:\tlearn: 0.2474529\ttotal: 216ms\tremaining: 1.06s\n",
      "169:\tlearn: 0.2468062\ttotal: 217ms\tremaining: 1.06s\n",
      "170:\tlearn: 0.2456387\ttotal: 218ms\tremaining: 1.05s\n",
      "171:\tlearn: 0.2447547\ttotal: 218ms\tremaining: 1.05s\n",
      "172:\tlearn: 0.2439887\ttotal: 219ms\tremaining: 1.05s\n",
      "173:\tlearn: 0.2433631\ttotal: 220ms\tremaining: 1.04s\n",
      "174:\tlearn: 0.2428019\ttotal: 221ms\tremaining: 1.04s\n",
      "175:\tlearn: 0.2423015\ttotal: 222ms\tremaining: 1.04s\n",
      "176:\tlearn: 0.2417053\ttotal: 223ms\tremaining: 1.04s\n",
      "177:\tlearn: 0.2411718\ttotal: 224ms\tremaining: 1.03s\n",
      "178:\tlearn: 0.2405423\ttotal: 225ms\tremaining: 1.03s\n",
      "179:\tlearn: 0.2397598\ttotal: 226ms\tremaining: 1.03s\n",
      "180:\tlearn: 0.2387728\ttotal: 227ms\tremaining: 1.02s\n",
      "181:\tlearn: 0.2380767\ttotal: 227ms\tremaining: 1.02s\n",
      "182:\tlearn: 0.2372397\ttotal: 228ms\tremaining: 1.02s\n",
      "183:\tlearn: 0.2364631\ttotal: 229ms\tremaining: 1.01s\n",
      "184:\tlearn: 0.2356975\ttotal: 230ms\tremaining: 1.01s\n",
      "185:\tlearn: 0.2351823\ttotal: 231ms\tremaining: 1.01s\n",
      "186:\tlearn: 0.2344390\ttotal: 231ms\tremaining: 1s\n",
      "187:\tlearn: 0.2336195\ttotal: 232ms\tremaining: 1s\n",
      "188:\tlearn: 0.2328099\ttotal: 233ms\tremaining: 999ms\n",
      "189:\tlearn: 0.2324450\ttotal: 234ms\tremaining: 996ms\n",
      "190:\tlearn: 0.2315256\ttotal: 234ms\tremaining: 993ms\n",
      "191:\tlearn: 0.2307582\ttotal: 235ms\tremaining: 990ms\n",
      "192:\tlearn: 0.2299411\ttotal: 236ms\tremaining: 987ms\n",
      "193:\tlearn: 0.2293204\ttotal: 238ms\tremaining: 988ms\n",
      "194:\tlearn: 0.2286883\ttotal: 239ms\tremaining: 985ms\n",
      "195:\tlearn: 0.2280973\ttotal: 239ms\tremaining: 982ms\n",
      "196:\tlearn: 0.2273218\ttotal: 240ms\tremaining: 979ms\n",
      "197:\tlearn: 0.2267374\ttotal: 241ms\tremaining: 976ms\n",
      "198:\tlearn: 0.2262331\ttotal: 242ms\tremaining: 973ms\n",
      "199:\tlearn: 0.2255141\ttotal: 242ms\tremaining: 970ms\n",
      "200:\tlearn: 0.2248475\ttotal: 243ms\tremaining: 967ms\n",
      "201:\tlearn: 0.2241540\ttotal: 244ms\tremaining: 963ms\n",
      "202:\tlearn: 0.2232129\ttotal: 245ms\tremaining: 960ms\n",
      "203:\tlearn: 0.2225752\ttotal: 245ms\tremaining: 958ms\n",
      "204:\tlearn: 0.2220097\ttotal: 246ms\tremaining: 955ms\n",
      "205:\tlearn: 0.2211756\ttotal: 247ms\tremaining: 952ms\n",
      "206:\tlearn: 0.2203728\ttotal: 248ms\tremaining: 949ms\n",
      "207:\tlearn: 0.2199348\ttotal: 249ms\tremaining: 946ms\n",
      "208:\tlearn: 0.2195641\ttotal: 249ms\tremaining: 944ms\n",
      "209:\tlearn: 0.2190654\ttotal: 250ms\tremaining: 941ms\n",
      "210:\tlearn: 0.2186718\ttotal: 251ms\tremaining: 939ms\n",
      "211:\tlearn: 0.2179691\ttotal: 252ms\tremaining: 936ms\n",
      "212:\tlearn: 0.2171728\ttotal: 253ms\tremaining: 933ms\n",
      "213:\tlearn: 0.2166557\ttotal: 253ms\tremaining: 930ms\n",
      "214:\tlearn: 0.2160945\ttotal: 254ms\tremaining: 928ms\n",
      "215:\tlearn: 0.2155953\ttotal: 255ms\tremaining: 925ms\n",
      "216:\tlearn: 0.2151756\ttotal: 256ms\tremaining: 923ms\n",
      "217:\tlearn: 0.2147607\ttotal: 257ms\tremaining: 921ms\n",
      "218:\tlearn: 0.2139289\ttotal: 257ms\tremaining: 918ms\n",
      "219:\tlearn: 0.2133805\ttotal: 258ms\tremaining: 916ms\n",
      "220:\tlearn: 0.2127918\ttotal: 259ms\tremaining: 913ms\n",
      "221:\tlearn: 0.2121251\ttotal: 260ms\tremaining: 911ms\n",
      "222:\tlearn: 0.2118217\ttotal: 261ms\tremaining: 908ms\n",
      "223:\tlearn: 0.2111231\ttotal: 261ms\tremaining: 905ms\n",
      "224:\tlearn: 0.2105120\ttotal: 262ms\tremaining: 903ms\n",
      "225:\tlearn: 0.2101681\ttotal: 263ms\tremaining: 900ms\n",
      "226:\tlearn: 0.2094919\ttotal: 264ms\tremaining: 898ms\n",
      "227:\tlearn: 0.2088038\ttotal: 264ms\tremaining: 896ms\n",
      "228:\tlearn: 0.2083893\ttotal: 265ms\tremaining: 893ms\n",
      "229:\tlearn: 0.2079431\ttotal: 266ms\tremaining: 891ms\n",
      "230:\tlearn: 0.2073852\ttotal: 267ms\tremaining: 889ms\n",
      "231:\tlearn: 0.2068119\ttotal: 268ms\tremaining: 886ms\n",
      "232:\tlearn: 0.2063497\ttotal: 269ms\tremaining: 884ms\n",
      "233:\tlearn: 0.2061168\ttotal: 269ms\tremaining: 882ms\n",
      "234:\tlearn: 0.2054767\ttotal: 270ms\tremaining: 880ms\n",
      "235:\tlearn: 0.2051015\ttotal: 271ms\tremaining: 877ms\n",
      "236:\tlearn: 0.2047948\ttotal: 272ms\tremaining: 875ms\n",
      "237:\tlearn: 0.2044176\ttotal: 273ms\tremaining: 872ms\n",
      "238:\tlearn: 0.2036918\ttotal: 273ms\tremaining: 870ms\n",
      "239:\tlearn: 0.2032677\ttotal: 274ms\tremaining: 868ms\n",
      "240:\tlearn: 0.2027070\ttotal: 275ms\tremaining: 866ms\n",
      "241:\tlearn: 0.2022325\ttotal: 276ms\tremaining: 864ms\n",
      "242:\tlearn: 0.2016848\ttotal: 277ms\tremaining: 864ms\n",
      "243:\tlearn: 0.2010076\ttotal: 278ms\tremaining: 861ms\n",
      "244:\tlearn: 0.2005049\ttotal: 279ms\tremaining: 859ms\n",
      "245:\tlearn: 0.1999288\ttotal: 280ms\tremaining: 857ms\n",
      "246:\tlearn: 0.1993663\ttotal: 280ms\tremaining: 855ms\n",
      "247:\tlearn: 0.1989254\ttotal: 281ms\tremaining: 853ms\n",
      "248:\tlearn: 0.1983582\ttotal: 282ms\tremaining: 851ms\n",
      "249:\tlearn: 0.1979866\ttotal: 283ms\tremaining: 849ms\n",
      "250:\tlearn: 0.1973299\ttotal: 284ms\tremaining: 847ms\n",
      "251:\tlearn: 0.1969022\ttotal: 284ms\tremaining: 844ms\n",
      "252:\tlearn: 0.1964812\ttotal: 285ms\tremaining: 843ms\n",
      "253:\tlearn: 0.1959619\ttotal: 286ms\tremaining: 841ms\n",
      "254:\tlearn: 0.1954962\ttotal: 287ms\tremaining: 839ms\n",
      "255:\tlearn: 0.1951262\ttotal: 288ms\tremaining: 837ms\n",
      "256:\tlearn: 0.1945006\ttotal: 289ms\tremaining: 835ms\n",
      "257:\tlearn: 0.1939248\ttotal: 290ms\tremaining: 833ms\n",
      "258:\tlearn: 0.1934097\ttotal: 291ms\tremaining: 831ms\n",
      "259:\tlearn: 0.1931885\ttotal: 291ms\tremaining: 829ms\n",
      "260:\tlearn: 0.1927661\ttotal: 292ms\tremaining: 828ms\n",
      "261:\tlearn: 0.1922776\ttotal: 293ms\tremaining: 826ms\n",
      "262:\tlearn: 0.1917454\ttotal: 294ms\tremaining: 824ms\n",
      "263:\tlearn: 0.1912369\ttotal: 295ms\tremaining: 822ms\n",
      "264:\tlearn: 0.1909655\ttotal: 296ms\tremaining: 821ms\n",
      "265:\tlearn: 0.1904613\ttotal: 297ms\tremaining: 819ms\n",
      "266:\tlearn: 0.1901177\ttotal: 297ms\tremaining: 817ms\n",
      "267:\tlearn: 0.1896888\ttotal: 298ms\tremaining: 815ms\n"
     ]
    },
    {
     "name": "stdout",
     "output_type": "stream",
     "text": [
      "268:\tlearn: 0.1891240\ttotal: 299ms\tremaining: 814ms\n",
      "269:\tlearn: 0.1884553\ttotal: 300ms\tremaining: 812ms\n",
      "270:\tlearn: 0.1882190\ttotal: 301ms\tremaining: 810ms\n",
      "271:\tlearn: 0.1877497\ttotal: 302ms\tremaining: 809ms\n",
      "272:\tlearn: 0.1873555\ttotal: 303ms\tremaining: 807ms\n",
      "273:\tlearn: 0.1870745\ttotal: 304ms\tremaining: 805ms\n",
      "274:\tlearn: 0.1866952\ttotal: 304ms\tremaining: 803ms\n",
      "275:\tlearn: 0.1860620\ttotal: 305ms\tremaining: 801ms\n",
      "276:\tlearn: 0.1858056\ttotal: 306ms\tremaining: 799ms\n",
      "277:\tlearn: 0.1853718\ttotal: 307ms\tremaining: 797ms\n",
      "278:\tlearn: 0.1849844\ttotal: 308ms\tremaining: 795ms\n",
      "279:\tlearn: 0.1844956\ttotal: 308ms\tremaining: 793ms\n",
      "280:\tlearn: 0.1841965\ttotal: 310ms\tremaining: 792ms\n",
      "281:\tlearn: 0.1837437\ttotal: 310ms\tremaining: 790ms\n",
      "282:\tlearn: 0.1832711\ttotal: 311ms\tremaining: 788ms\n",
      "283:\tlearn: 0.1830325\ttotal: 312ms\tremaining: 787ms\n",
      "284:\tlearn: 0.1825970\ttotal: 313ms\tremaining: 785ms\n",
      "285:\tlearn: 0.1820267\ttotal: 314ms\tremaining: 783ms\n",
      "286:\tlearn: 0.1814930\ttotal: 314ms\tremaining: 781ms\n",
      "287:\tlearn: 0.1809983\ttotal: 315ms\tremaining: 779ms\n",
      "288:\tlearn: 0.1808050\ttotal: 316ms\tremaining: 778ms\n",
      "289:\tlearn: 0.1803271\ttotal: 317ms\tremaining: 776ms\n",
      "290:\tlearn: 0.1799908\ttotal: 318ms\tremaining: 774ms\n",
      "291:\tlearn: 0.1796196\ttotal: 319ms\tremaining: 773ms\n",
      "292:\tlearn: 0.1792924\ttotal: 320ms\tremaining: 771ms\n",
      "293:\tlearn: 0.1789276\ttotal: 320ms\tremaining: 769ms\n",
      "294:\tlearn: 0.1787315\ttotal: 321ms\tremaining: 768ms\n",
      "295:\tlearn: 0.1781619\ttotal: 322ms\tremaining: 766ms\n",
      "296:\tlearn: 0.1777620\ttotal: 323ms\tremaining: 764ms\n",
      "297:\tlearn: 0.1775792\ttotal: 324ms\tremaining: 763ms\n",
      "298:\tlearn: 0.1772670\ttotal: 325ms\tremaining: 761ms\n",
      "299:\tlearn: 0.1769420\ttotal: 326ms\tremaining: 760ms\n",
      "300:\tlearn: 0.1767292\ttotal: 327ms\tremaining: 758ms\n",
      "301:\tlearn: 0.1761188\ttotal: 328ms\tremaining: 757ms\n",
      "302:\tlearn: 0.1755953\ttotal: 328ms\tremaining: 755ms\n",
      "303:\tlearn: 0.1751377\ttotal: 329ms\tremaining: 754ms\n",
      "304:\tlearn: 0.1746573\ttotal: 330ms\tremaining: 753ms\n",
      "305:\tlearn: 0.1742660\ttotal: 331ms\tremaining: 751ms\n",
      "306:\tlearn: 0.1738834\ttotal: 332ms\tremaining: 749ms\n",
      "307:\tlearn: 0.1736615\ttotal: 333ms\tremaining: 748ms\n",
      "308:\tlearn: 0.1733809\ttotal: 334ms\tremaining: 747ms\n",
      "309:\tlearn: 0.1728852\ttotal: 335ms\tremaining: 745ms\n",
      "310:\tlearn: 0.1725962\ttotal: 336ms\tremaining: 744ms\n",
      "311:\tlearn: 0.1721942\ttotal: 337ms\tremaining: 743ms\n",
      "312:\tlearn: 0.1718332\ttotal: 339ms\tremaining: 743ms\n",
      "313:\tlearn: 0.1715017\ttotal: 340ms\tremaining: 742ms\n",
      "314:\tlearn: 0.1710142\ttotal: 341ms\tremaining: 741ms\n",
      "315:\tlearn: 0.1704966\ttotal: 342ms\tremaining: 740ms\n",
      "316:\tlearn: 0.1702639\ttotal: 343ms\tremaining: 738ms\n",
      "317:\tlearn: 0.1700317\ttotal: 344ms\tremaining: 738ms\n",
      "318:\tlearn: 0.1699270\ttotal: 345ms\tremaining: 737ms\n",
      "319:\tlearn: 0.1693633\ttotal: 346ms\tremaining: 736ms\n",
      "320:\tlearn: 0.1691353\ttotal: 347ms\tremaining: 734ms\n",
      "321:\tlearn: 0.1687739\ttotal: 348ms\tremaining: 733ms\n",
      "322:\tlearn: 0.1686141\ttotal: 349ms\tremaining: 731ms\n",
      "323:\tlearn: 0.1684621\ttotal: 350ms\tremaining: 730ms\n",
      "324:\tlearn: 0.1682938\ttotal: 351ms\tremaining: 728ms\n",
      "325:\tlearn: 0.1680245\ttotal: 351ms\tremaining: 727ms\n",
      "326:\tlearn: 0.1674847\ttotal: 352ms\tremaining: 725ms\n",
      "327:\tlearn: 0.1671503\ttotal: 353ms\tremaining: 723ms\n",
      "328:\tlearn: 0.1666001\ttotal: 354ms\tremaining: 722ms\n",
      "329:\tlearn: 0.1663179\ttotal: 355ms\tremaining: 720ms\n",
      "330:\tlearn: 0.1659033\ttotal: 355ms\tremaining: 718ms\n",
      "331:\tlearn: 0.1654669\ttotal: 356ms\tremaining: 717ms\n",
      "332:\tlearn: 0.1650350\ttotal: 358ms\tremaining: 717ms\n",
      "333:\tlearn: 0.1645547\ttotal: 359ms\tremaining: 715ms\n",
      "334:\tlearn: 0.1644163\ttotal: 360ms\tremaining: 714ms\n",
      "335:\tlearn: 0.1642692\ttotal: 361ms\tremaining: 712ms\n",
      "336:\tlearn: 0.1638060\ttotal: 361ms\tremaining: 711ms\n",
      "337:\tlearn: 0.1636019\ttotal: 362ms\tremaining: 709ms\n",
      "338:\tlearn: 0.1630931\ttotal: 363ms\tremaining: 708ms\n",
      "339:\tlearn: 0.1627289\ttotal: 364ms\tremaining: 707ms\n",
      "340:\tlearn: 0.1623064\ttotal: 365ms\tremaining: 705ms\n",
      "341:\tlearn: 0.1618707\ttotal: 366ms\tremaining: 704ms\n",
      "342:\tlearn: 0.1617270\ttotal: 367ms\tremaining: 702ms\n",
      "343:\tlearn: 0.1612981\ttotal: 368ms\tremaining: 702ms\n",
      "344:\tlearn: 0.1608257\ttotal: 369ms\tremaining: 700ms\n",
      "345:\tlearn: 0.1603204\ttotal: 370ms\tremaining: 699ms\n",
      "346:\tlearn: 0.1600221\ttotal: 370ms\tremaining: 697ms\n",
      "347:\tlearn: 0.1597213\ttotal: 371ms\tremaining: 696ms\n",
      "348:\tlearn: 0.1594123\ttotal: 372ms\tremaining: 694ms\n",
      "349:\tlearn: 0.1590536\ttotal: 373ms\tremaining: 693ms\n",
      "350:\tlearn: 0.1585940\ttotal: 374ms\tremaining: 692ms\n",
      "351:\tlearn: 0.1581574\ttotal: 375ms\tremaining: 690ms\n",
      "352:\tlearn: 0.1577141\ttotal: 376ms\tremaining: 688ms\n",
      "353:\tlearn: 0.1574827\ttotal: 377ms\tremaining: 687ms\n",
      "354:\tlearn: 0.1573205\ttotal: 377ms\tremaining: 685ms\n",
      "355:\tlearn: 0.1571942\ttotal: 378ms\tremaining: 684ms\n",
      "356:\tlearn: 0.1568212\ttotal: 379ms\tremaining: 683ms\n",
      "357:\tlearn: 0.1563886\ttotal: 380ms\tremaining: 681ms\n",
      "358:\tlearn: 0.1561383\ttotal: 381ms\tremaining: 680ms\n",
      "359:\tlearn: 0.1557006\ttotal: 382ms\tremaining: 678ms\n",
      "360:\tlearn: 0.1552829\ttotal: 382ms\tremaining: 677ms\n"
     ]
    },
    {
     "name": "stdout",
     "output_type": "stream",
     "text": [
      "361:\tlearn: 0.1548856\ttotal: 383ms\tremaining: 676ms\n",
      "362:\tlearn: 0.1545314\ttotal: 384ms\tremaining: 675ms\n",
      "363:\tlearn: 0.1540189\ttotal: 385ms\tremaining: 673ms\n",
      "364:\tlearn: 0.1538401\ttotal: 386ms\tremaining: 672ms\n",
      "365:\tlearn: 0.1535286\ttotal: 387ms\tremaining: 670ms\n",
      "366:\tlearn: 0.1534114\ttotal: 388ms\tremaining: 669ms\n",
      "367:\tlearn: 0.1531150\ttotal: 389ms\tremaining: 667ms\n",
      "368:\tlearn: 0.1528306\ttotal: 389ms\tremaining: 666ms\n",
      "369:\tlearn: 0.1524005\ttotal: 390ms\tremaining: 664ms\n",
      "370:\tlearn: 0.1521383\ttotal: 391ms\tremaining: 663ms\n",
      "371:\tlearn: 0.1517829\ttotal: 392ms\tremaining: 661ms\n",
      "372:\tlearn: 0.1513360\ttotal: 393ms\tremaining: 660ms\n",
      "373:\tlearn: 0.1511602\ttotal: 394ms\tremaining: 659ms\n",
      "374:\tlearn: 0.1506876\ttotal: 395ms\tremaining: 659ms\n",
      "375:\tlearn: 0.1505039\ttotal: 396ms\tremaining: 658ms\n",
      "376:\tlearn: 0.1500781\ttotal: 397ms\tremaining: 656ms\n",
      "377:\tlearn: 0.1498943\ttotal: 398ms\tremaining: 655ms\n",
      "378:\tlearn: 0.1498173\ttotal: 399ms\tremaining: 653ms\n",
      "379:\tlearn: 0.1497057\ttotal: 400ms\tremaining: 652ms\n",
      "380:\tlearn: 0.1492327\ttotal: 400ms\tremaining: 651ms\n",
      "381:\tlearn: 0.1491578\ttotal: 401ms\tremaining: 649ms\n",
      "382:\tlearn: 0.1490880\ttotal: 402ms\tremaining: 648ms\n",
      "383:\tlearn: 0.1487987\ttotal: 403ms\tremaining: 646ms\n",
      "384:\tlearn: 0.1485294\ttotal: 404ms\tremaining: 645ms\n",
      "385:\tlearn: 0.1484024\ttotal: 404ms\tremaining: 643ms\n",
      "386:\tlearn: 0.1483177\ttotal: 405ms\tremaining: 642ms\n",
      "387:\tlearn: 0.1482170\ttotal: 406ms\tremaining: 640ms\n",
      "388:\tlearn: 0.1477910\ttotal: 407ms\tremaining: 639ms\n",
      "389:\tlearn: 0.1477270\ttotal: 408ms\tremaining: 637ms\n",
      "390:\tlearn: 0.1476033\ttotal: 408ms\tremaining: 636ms\n",
      "391:\tlearn: 0.1472295\ttotal: 409ms\tremaining: 635ms\n",
      "392:\tlearn: 0.1469164\ttotal: 410ms\tremaining: 633ms\n",
      "393:\tlearn: 0.1466335\ttotal: 411ms\tremaining: 632ms\n",
      "394:\tlearn: 0.1461991\ttotal: 412ms\tremaining: 631ms\n",
      "395:\tlearn: 0.1458421\ttotal: 413ms\tremaining: 629ms\n",
      "396:\tlearn: 0.1457401\ttotal: 413ms\tremaining: 628ms\n",
      "397:\tlearn: 0.1456241\ttotal: 414ms\tremaining: 626ms\n",
      "398:\tlearn: 0.1455351\ttotal: 415ms\tremaining: 625ms\n",
      "399:\tlearn: 0.1452742\ttotal: 416ms\tremaining: 624ms\n",
      "400:\tlearn: 0.1451221\ttotal: 417ms\tremaining: 622ms\n",
      "401:\tlearn: 0.1448096\ttotal: 417ms\tremaining: 621ms\n",
      "402:\tlearn: 0.1447145\ttotal: 418ms\tremaining: 619ms\n",
      "403:\tlearn: 0.1446582\ttotal: 419ms\tremaining: 618ms\n",
      "404:\tlearn: 0.1442750\ttotal: 420ms\tremaining: 617ms\n",
      "405:\tlearn: 0.1439565\ttotal: 421ms\tremaining: 615ms\n",
      "406:\tlearn: 0.1435346\ttotal: 421ms\tremaining: 614ms\n",
      "407:\tlearn: 0.1430988\ttotal: 422ms\tremaining: 613ms\n",
      "408:\tlearn: 0.1427331\ttotal: 423ms\tremaining: 612ms\n",
      "409:\tlearn: 0.1426235\ttotal: 424ms\tremaining: 610ms\n",
      "410:\tlearn: 0.1425415\ttotal: 425ms\tremaining: 609ms\n",
      "411:\tlearn: 0.1421106\ttotal: 426ms\tremaining: 608ms\n",
      "412:\tlearn: 0.1420395\ttotal: 426ms\tremaining: 606ms\n",
      "413:\tlearn: 0.1419643\ttotal: 427ms\tremaining: 605ms\n",
      "414:\tlearn: 0.1414089\ttotal: 428ms\tremaining: 604ms\n",
      "415:\tlearn: 0.1412606\ttotal: 429ms\tremaining: 602ms\n",
      "416:\tlearn: 0.1409045\ttotal: 430ms\tremaining: 601ms\n",
      "417:\tlearn: 0.1408035\ttotal: 431ms\tremaining: 600ms\n",
      "418:\tlearn: 0.1406108\ttotal: 431ms\tremaining: 598ms\n",
      "419:\tlearn: 0.1401969\ttotal: 432ms\tremaining: 597ms\n",
      "420:\tlearn: 0.1400605\ttotal: 433ms\tremaining: 596ms\n",
      "421:\tlearn: 0.1398534\ttotal: 434ms\tremaining: 594ms\n",
      "422:\tlearn: 0.1394669\ttotal: 435ms\tremaining: 593ms\n",
      "423:\tlearn: 0.1391320\ttotal: 435ms\tremaining: 592ms\n",
      "424:\tlearn: 0.1389674\ttotal: 436ms\tremaining: 590ms\n",
      "425:\tlearn: 0.1387049\ttotal: 437ms\tremaining: 589ms\n",
      "426:\tlearn: 0.1385971\ttotal: 438ms\tremaining: 588ms\n",
      "427:\tlearn: 0.1383315\ttotal: 439ms\tremaining: 586ms\n",
      "428:\tlearn: 0.1381355\ttotal: 440ms\tremaining: 585ms\n",
      "429:\tlearn: 0.1379863\ttotal: 440ms\tremaining: 584ms\n",
      "430:\tlearn: 0.1376302\ttotal: 441ms\tremaining: 582ms\n",
      "431:\tlearn: 0.1373947\ttotal: 442ms\tremaining: 581ms\n",
      "432:\tlearn: 0.1373509\ttotal: 443ms\tremaining: 580ms\n",
      "433:\tlearn: 0.1370343\ttotal: 444ms\tremaining: 579ms\n",
      "434:\tlearn: 0.1369337\ttotal: 444ms\tremaining: 577ms\n",
      "435:\tlearn: 0.1368960\ttotal: 445ms\tremaining: 576ms\n",
      "436:\tlearn: 0.1368283\ttotal: 446ms\tremaining: 575ms\n",
      "437:\tlearn: 0.1367191\ttotal: 447ms\tremaining: 573ms\n",
      "438:\tlearn: 0.1363695\ttotal: 448ms\tremaining: 572ms\n",
      "439:\tlearn: 0.1361361\ttotal: 448ms\tremaining: 571ms\n",
      "440:\tlearn: 0.1360596\ttotal: 449ms\tremaining: 569ms\n",
      "441:\tlearn: 0.1356642\ttotal: 450ms\tremaining: 568ms\n",
      "442:\tlearn: 0.1353594\ttotal: 451ms\tremaining: 567ms\n",
      "443:\tlearn: 0.1352056\ttotal: 452ms\tremaining: 565ms\n",
      "444:\tlearn: 0.1348048\ttotal: 452ms\tremaining: 564ms\n",
      "445:\tlearn: 0.1347537\ttotal: 453ms\tremaining: 563ms\n",
      "446:\tlearn: 0.1344577\ttotal: 454ms\tremaining: 562ms\n",
      "447:\tlearn: 0.1343899\ttotal: 455ms\tremaining: 560ms\n",
      "448:\tlearn: 0.1339717\ttotal: 456ms\tremaining: 559ms\n",
      "449:\tlearn: 0.1339413\ttotal: 456ms\tremaining: 558ms\n",
      "450:\tlearn: 0.1338803\ttotal: 457ms\tremaining: 557ms\n",
      "451:\tlearn: 0.1337922\ttotal: 458ms\tremaining: 555ms\n",
      "452:\tlearn: 0.1335789\ttotal: 459ms\tremaining: 554ms\n",
      "453:\tlearn: 0.1333632\ttotal: 460ms\tremaining: 553ms\n",
      "454:\tlearn: 0.1332216\ttotal: 461ms\tremaining: 552ms\n",
      "455:\tlearn: 0.1331885\ttotal: 461ms\tremaining: 550ms\n",
      "456:\tlearn: 0.1329670\ttotal: 462ms\tremaining: 549ms\n",
      "457:\tlearn: 0.1326560\ttotal: 463ms\tremaining: 548ms\n",
      "458:\tlearn: 0.1323859\ttotal: 464ms\tremaining: 547ms\n",
      "459:\tlearn: 0.1322904\ttotal: 465ms\tremaining: 546ms\n",
      "460:\tlearn: 0.1322619\ttotal: 466ms\tremaining: 544ms\n",
      "461:\tlearn: 0.1320645\ttotal: 466ms\tremaining: 543ms\n",
      "462:\tlearn: 0.1320372\ttotal: 467ms\tremaining: 542ms\n",
      "463:\tlearn: 0.1317789\ttotal: 468ms\tremaining: 541ms\n",
      "464:\tlearn: 0.1317351\ttotal: 469ms\tremaining: 540ms\n",
      "465:\tlearn: 0.1316654\ttotal: 470ms\tremaining: 539ms\n",
      "466:\tlearn: 0.1314024\ttotal: 471ms\tremaining: 537ms\n",
      "467:\tlearn: 0.1311033\ttotal: 472ms\tremaining: 536ms\n",
      "468:\tlearn: 0.1307632\ttotal: 472ms\tremaining: 535ms\n",
      "469:\tlearn: 0.1303959\ttotal: 473ms\tremaining: 534ms\n",
      "470:\tlearn: 0.1303775\ttotal: 474ms\tremaining: 533ms\n",
      "471:\tlearn: 0.1301013\ttotal: 475ms\tremaining: 531ms\n",
      "472:\tlearn: 0.1297469\ttotal: 476ms\tremaining: 530ms\n",
      "473:\tlearn: 0.1294070\ttotal: 477ms\tremaining: 529ms\n",
      "474:\tlearn: 0.1293889\ttotal: 478ms\tremaining: 528ms\n",
      "475:\tlearn: 0.1289294\ttotal: 478ms\tremaining: 527ms\n",
      "476:\tlearn: 0.1286689\ttotal: 479ms\tremaining: 526ms\n",
      "477:\tlearn: 0.1284695\ttotal: 480ms\tremaining: 524ms\n",
      "478:\tlearn: 0.1284124\ttotal: 481ms\tremaining: 523ms\n",
      "479:\tlearn: 0.1283832\ttotal: 482ms\tremaining: 522ms\n",
      "480:\tlearn: 0.1282939\ttotal: 483ms\tremaining: 521ms\n",
      "481:\tlearn: 0.1280761\ttotal: 483ms\tremaining: 519ms\n",
      "482:\tlearn: 0.1277405\ttotal: 484ms\tremaining: 518ms\n",
      "483:\tlearn: 0.1275576\ttotal: 485ms\tremaining: 517ms\n",
      "484:\tlearn: 0.1272446\ttotal: 486ms\tremaining: 516ms\n",
      "485:\tlearn: 0.1269565\ttotal: 487ms\tremaining: 515ms\n",
      "486:\tlearn: 0.1268109\ttotal: 487ms\tremaining: 513ms\n",
      "487:\tlearn: 0.1267831\ttotal: 488ms\tremaining: 512ms\n",
      "488:\tlearn: 0.1265555\ttotal: 489ms\tremaining: 511ms\n"
     ]
    },
    {
     "name": "stdout",
     "output_type": "stream",
     "text": [
      "489:\tlearn: 0.1265240\ttotal: 490ms\tremaining: 510ms\n",
      "490:\tlearn: 0.1261831\ttotal: 491ms\tremaining: 509ms\n",
      "491:\tlearn: 0.1260333\ttotal: 492ms\tremaining: 508ms\n",
      "492:\tlearn: 0.1259889\ttotal: 493ms\tremaining: 507ms\n",
      "493:\tlearn: 0.1259406\ttotal: 493ms\tremaining: 505ms\n",
      "494:\tlearn: 0.1259131\ttotal: 494ms\tremaining: 504ms\n",
      "495:\tlearn: 0.1255902\ttotal: 495ms\tremaining: 503ms\n",
      "496:\tlearn: 0.1255011\ttotal: 496ms\tremaining: 502ms\n",
      "497:\tlearn: 0.1250917\ttotal: 497ms\tremaining: 501ms\n",
      "498:\tlearn: 0.1250575\ttotal: 498ms\tremaining: 500ms\n",
      "499:\tlearn: 0.1249740\ttotal: 498ms\tremaining: 498ms\n",
      "500:\tlearn: 0.1248947\ttotal: 499ms\tremaining: 497ms\n",
      "501:\tlearn: 0.1248784\ttotal: 500ms\tremaining: 496ms\n",
      "502:\tlearn: 0.1245891\ttotal: 501ms\tremaining: 495ms\n",
      "503:\tlearn: 0.1243590\ttotal: 502ms\tremaining: 494ms\n",
      "504:\tlearn: 0.1242288\ttotal: 503ms\tremaining: 493ms\n",
      "505:\tlearn: 0.1241555\ttotal: 503ms\tremaining: 491ms\n",
      "506:\tlearn: 0.1239185\ttotal: 504ms\tremaining: 490ms\n",
      "507:\tlearn: 0.1236393\ttotal: 505ms\tremaining: 489ms\n",
      "508:\tlearn: 0.1236004\ttotal: 506ms\tremaining: 488ms\n",
      "509:\tlearn: 0.1233474\ttotal: 507ms\tremaining: 487ms\n",
      "510:\tlearn: 0.1230575\ttotal: 507ms\tremaining: 486ms\n",
      "511:\tlearn: 0.1227297\ttotal: 508ms\tremaining: 485ms\n",
      "512:\tlearn: 0.1223425\ttotal: 509ms\tremaining: 483ms\n",
      "513:\tlearn: 0.1221766\ttotal: 510ms\tremaining: 482ms\n",
      "514:\tlearn: 0.1219311\ttotal: 511ms\tremaining: 481ms\n",
      "515:\tlearn: 0.1216716\ttotal: 512ms\tremaining: 480ms\n",
      "516:\tlearn: 0.1213686\ttotal: 512ms\tremaining: 479ms\n",
      "517:\tlearn: 0.1213505\ttotal: 513ms\tremaining: 477ms\n",
      "518:\tlearn: 0.1213039\ttotal: 514ms\tremaining: 476ms\n",
      "519:\tlearn: 0.1212289\ttotal: 515ms\tremaining: 475ms\n",
      "520:\tlearn: 0.1211508\ttotal: 516ms\tremaining: 474ms\n",
      "521:\tlearn: 0.1211363\ttotal: 516ms\tremaining: 473ms\n",
      "522:\tlearn: 0.1208951\ttotal: 517ms\tremaining: 472ms\n",
      "523:\tlearn: 0.1205777\ttotal: 518ms\tremaining: 471ms\n",
      "524:\tlearn: 0.1205071\ttotal: 519ms\tremaining: 469ms\n",
      "525:\tlearn: 0.1201839\ttotal: 520ms\tremaining: 469ms\n",
      "526:\tlearn: 0.1201656\ttotal: 521ms\tremaining: 467ms\n",
      "527:\tlearn: 0.1201406\ttotal: 522ms\tremaining: 466ms\n",
      "528:\tlearn: 0.1199128\ttotal: 522ms\tremaining: 465ms\n",
      "529:\tlearn: 0.1197864\ttotal: 523ms\tremaining: 464ms\n",
      "530:\tlearn: 0.1194662\ttotal: 524ms\tremaining: 463ms\n",
      "531:\tlearn: 0.1194532\ttotal: 525ms\tremaining: 462ms\n",
      "532:\tlearn: 0.1194404\ttotal: 526ms\tremaining: 461ms\n",
      "533:\tlearn: 0.1192525\ttotal: 527ms\tremaining: 460ms\n",
      "534:\tlearn: 0.1191720\ttotal: 527ms\tremaining: 458ms\n",
      "535:\tlearn: 0.1191433\ttotal: 528ms\tremaining: 457ms\n",
      "536:\tlearn: 0.1189694\ttotal: 529ms\tremaining: 456ms\n",
      "537:\tlearn: 0.1186456\ttotal: 530ms\tremaining: 455ms\n",
      "538:\tlearn: 0.1185360\ttotal: 531ms\tremaining: 454ms\n",
      "539:\tlearn: 0.1185079\ttotal: 531ms\tremaining: 453ms\n",
      "540:\tlearn: 0.1183478\ttotal: 532ms\tremaining: 452ms\n",
      "541:\tlearn: 0.1180334\ttotal: 533ms\tremaining: 450ms\n",
      "542:\tlearn: 0.1178556\ttotal: 534ms\tremaining: 449ms\n",
      "543:\tlearn: 0.1176932\ttotal: 534ms\tremaining: 448ms\n",
      "544:\tlearn: 0.1175116\ttotal: 535ms\tremaining: 447ms\n",
      "545:\tlearn: 0.1173683\ttotal: 536ms\tremaining: 446ms\n",
      "546:\tlearn: 0.1170830\ttotal: 537ms\tremaining: 445ms\n",
      "547:\tlearn: 0.1170484\ttotal: 538ms\tremaining: 443ms\n",
      "548:\tlearn: 0.1169840\ttotal: 538ms\tremaining: 442ms\n",
      "549:\tlearn: 0.1166850\ttotal: 539ms\tremaining: 441ms\n",
      "550:\tlearn: 0.1164146\ttotal: 540ms\tremaining: 440ms\n",
      "551:\tlearn: 0.1162012\ttotal: 541ms\tremaining: 439ms\n",
      "552:\tlearn: 0.1159250\ttotal: 542ms\tremaining: 438ms\n",
      "553:\tlearn: 0.1158928\ttotal: 543ms\tremaining: 437ms\n",
      "554:\tlearn: 0.1156275\ttotal: 544ms\tremaining: 436ms\n",
      "555:\tlearn: 0.1156164\ttotal: 545ms\tremaining: 435ms\n",
      "556:\tlearn: 0.1153101\ttotal: 545ms\tremaining: 434ms\n",
      "557:\tlearn: 0.1151148\ttotal: 546ms\tremaining: 433ms\n",
      "558:\tlearn: 0.1148885\ttotal: 547ms\tremaining: 432ms\n",
      "559:\tlearn: 0.1147756\ttotal: 548ms\tremaining: 431ms\n",
      "560:\tlearn: 0.1145480\ttotal: 549ms\tremaining: 430ms\n",
      "561:\tlearn: 0.1143152\ttotal: 550ms\tremaining: 429ms\n",
      "562:\tlearn: 0.1141274\ttotal: 551ms\tremaining: 427ms\n",
      "563:\tlearn: 0.1139625\ttotal: 551ms\tremaining: 426ms\n",
      "564:\tlearn: 0.1137181\ttotal: 552ms\tremaining: 425ms\n",
      "565:\tlearn: 0.1133521\ttotal: 553ms\tremaining: 424ms\n",
      "566:\tlearn: 0.1132044\ttotal: 554ms\tremaining: 423ms\n",
      "567:\tlearn: 0.1130043\ttotal: 555ms\tremaining: 422ms\n",
      "568:\tlearn: 0.1129010\ttotal: 556ms\tremaining: 421ms\n",
      "569:\tlearn: 0.1126915\ttotal: 558ms\tremaining: 421ms\n",
      "570:\tlearn: 0.1123191\ttotal: 558ms\tremaining: 420ms\n",
      "571:\tlearn: 0.1122261\ttotal: 559ms\tremaining: 418ms\n",
      "572:\tlearn: 0.1118994\ttotal: 560ms\tremaining: 417ms\n",
      "573:\tlearn: 0.1116920\ttotal: 561ms\tremaining: 416ms\n",
      "574:\tlearn: 0.1114024\ttotal: 562ms\tremaining: 415ms\n",
      "575:\tlearn: 0.1110691\ttotal: 562ms\tremaining: 414ms\n",
      "576:\tlearn: 0.1109218\ttotal: 563ms\tremaining: 413ms\n",
      "577:\tlearn: 0.1106857\ttotal: 564ms\tremaining: 412ms\n",
      "578:\tlearn: 0.1106002\ttotal: 566ms\tremaining: 412ms\n",
      "579:\tlearn: 0.1104881\ttotal: 567ms\tremaining: 411ms\n",
      "580:\tlearn: 0.1102057\ttotal: 568ms\tremaining: 410ms\n",
      "581:\tlearn: 0.1099479\ttotal: 569ms\tremaining: 409ms\n",
      "582:\tlearn: 0.1095895\ttotal: 570ms\tremaining: 407ms\n",
      "583:\tlearn: 0.1095545\ttotal: 570ms\tremaining: 406ms\n",
      "584:\tlearn: 0.1093530\ttotal: 571ms\tremaining: 405ms\n",
      "585:\tlearn: 0.1091365\ttotal: 572ms\tremaining: 404ms\n",
      "586:\tlearn: 0.1091122\ttotal: 573ms\tremaining: 403ms\n"
     ]
    },
    {
     "name": "stdout",
     "output_type": "stream",
     "text": [
      "587:\tlearn: 0.1088239\ttotal: 574ms\tremaining: 403ms\n",
      "588:\tlearn: 0.1085874\ttotal: 575ms\tremaining: 402ms\n",
      "589:\tlearn: 0.1085249\ttotal: 576ms\tremaining: 400ms\n",
      "590:\tlearn: 0.1085021\ttotal: 577ms\tremaining: 399ms\n",
      "591:\tlearn: 0.1081918\ttotal: 578ms\tremaining: 398ms\n",
      "592:\tlearn: 0.1079884\ttotal: 579ms\tremaining: 397ms\n",
      "593:\tlearn: 0.1077616\ttotal: 579ms\tremaining: 396ms\n",
      "594:\tlearn: 0.1074858\ttotal: 580ms\tremaining: 395ms\n",
      "595:\tlearn: 0.1073949\ttotal: 581ms\tremaining: 394ms\n",
      "596:\tlearn: 0.1072981\ttotal: 582ms\tremaining: 393ms\n",
      "597:\tlearn: 0.1071753\ttotal: 583ms\tremaining: 392ms\n",
      "598:\tlearn: 0.1069854\ttotal: 584ms\tremaining: 391ms\n",
      "599:\tlearn: 0.1067756\ttotal: 584ms\tremaining: 390ms\n",
      "600:\tlearn: 0.1066803\ttotal: 585ms\tremaining: 389ms\n",
      "601:\tlearn: 0.1064450\ttotal: 586ms\tremaining: 387ms\n",
      "602:\tlearn: 0.1064353\ttotal: 587ms\tremaining: 386ms\n",
      "603:\tlearn: 0.1063784\ttotal: 588ms\tremaining: 385ms\n",
      "604:\tlearn: 0.1061347\ttotal: 588ms\tremaining: 384ms\n",
      "605:\tlearn: 0.1058997\ttotal: 589ms\tremaining: 383ms\n",
      "606:\tlearn: 0.1058461\ttotal: 590ms\tremaining: 382ms\n",
      "607:\tlearn: 0.1057236\ttotal: 591ms\tremaining: 381ms\n",
      "608:\tlearn: 0.1054943\ttotal: 592ms\tremaining: 380ms\n",
      "609:\tlearn: 0.1052680\ttotal: 593ms\tremaining: 379ms\n",
      "610:\tlearn: 0.1051438\ttotal: 593ms\tremaining: 378ms\n",
      "611:\tlearn: 0.1049903\ttotal: 594ms\tremaining: 377ms\n",
      "612:\tlearn: 0.1049452\ttotal: 595ms\tremaining: 376ms\n",
      "613:\tlearn: 0.1047105\ttotal: 596ms\tremaining: 375ms\n",
      "614:\tlearn: 0.1046081\ttotal: 597ms\tremaining: 374ms\n",
      "615:\tlearn: 0.1045313\ttotal: 598ms\tremaining: 373ms\n",
      "616:\tlearn: 0.1044604\ttotal: 598ms\tremaining: 372ms\n",
      "617:\tlearn: 0.1042674\ttotal: 599ms\tremaining: 370ms\n",
      "618:\tlearn: 0.1040396\ttotal: 600ms\tremaining: 369ms\n",
      "619:\tlearn: 0.1037308\ttotal: 601ms\tremaining: 368ms\n",
      "620:\tlearn: 0.1037100\ttotal: 602ms\tremaining: 367ms\n",
      "621:\tlearn: 0.1035725\ttotal: 602ms\tremaining: 366ms\n",
      "622:\tlearn: 0.1035536\ttotal: 603ms\tremaining: 365ms\n",
      "623:\tlearn: 0.1033119\ttotal: 604ms\tremaining: 364ms\n",
      "624:\tlearn: 0.1032977\ttotal: 605ms\tremaining: 363ms\n",
      "625:\tlearn: 0.1031226\ttotal: 606ms\tremaining: 362ms\n",
      "626:\tlearn: 0.1030848\ttotal: 607ms\tremaining: 361ms\n",
      "627:\tlearn: 0.1028560\ttotal: 608ms\tremaining: 360ms\n",
      "628:\tlearn: 0.1026518\ttotal: 608ms\tremaining: 359ms\n",
      "629:\tlearn: 0.1026033\ttotal: 609ms\tremaining: 358ms\n",
      "630:\tlearn: 0.1024024\ttotal: 610ms\tremaining: 357ms\n",
      "631:\tlearn: 0.1023590\ttotal: 611ms\tremaining: 356ms\n",
      "632:\tlearn: 0.1021097\ttotal: 611ms\tremaining: 354ms\n",
      "633:\tlearn: 0.1021015\ttotal: 612ms\tremaining: 353ms\n",
      "634:\tlearn: 0.1019027\ttotal: 613ms\tremaining: 352ms\n",
      "635:\tlearn: 0.1017550\ttotal: 614ms\tremaining: 351ms\n",
      "636:\tlearn: 0.1016003\ttotal: 615ms\tremaining: 350ms\n",
      "637:\tlearn: 0.1013503\ttotal: 616ms\tremaining: 349ms\n",
      "638:\tlearn: 0.1013314\ttotal: 616ms\tremaining: 348ms\n",
      "639:\tlearn: 0.1010798\ttotal: 617ms\tremaining: 347ms\n",
      "640:\tlearn: 0.1008753\ttotal: 618ms\tremaining: 346ms\n",
      "641:\tlearn: 0.1008144\ttotal: 619ms\tremaining: 345ms\n",
      "642:\tlearn: 0.1005495\ttotal: 620ms\tremaining: 344ms\n",
      "643:\tlearn: 0.1004857\ttotal: 620ms\tremaining: 343ms\n",
      "644:\tlearn: 0.1004017\ttotal: 621ms\tremaining: 342ms\n",
      "645:\tlearn: 0.1002998\ttotal: 622ms\tremaining: 341ms\n",
      "646:\tlearn: 0.1000909\ttotal: 623ms\tremaining: 340ms\n",
      "647:\tlearn: 0.1000076\ttotal: 624ms\tremaining: 339ms\n",
      "648:\tlearn: 0.0997230\ttotal: 624ms\tremaining: 338ms\n",
      "649:\tlearn: 0.0994949\ttotal: 625ms\tremaining: 337ms\n",
      "650:\tlearn: 0.0994485\ttotal: 626ms\tremaining: 336ms\n",
      "651:\tlearn: 0.0991912\ttotal: 627ms\tremaining: 335ms\n",
      "652:\tlearn: 0.0991237\ttotal: 628ms\tremaining: 334ms\n",
      "653:\tlearn: 0.0989868\ttotal: 628ms\tremaining: 332ms\n",
      "654:\tlearn: 0.0989700\ttotal: 629ms\tremaining: 331ms\n",
      "655:\tlearn: 0.0986992\ttotal: 630ms\tremaining: 330ms\n",
      "656:\tlearn: 0.0985871\ttotal: 631ms\tremaining: 329ms\n",
      "657:\tlearn: 0.0985770\ttotal: 632ms\tremaining: 328ms\n",
      "658:\tlearn: 0.0984054\ttotal: 633ms\tremaining: 327ms\n",
      "659:\tlearn: 0.0983667\ttotal: 633ms\tremaining: 326ms\n",
      "660:\tlearn: 0.0982191\ttotal: 634ms\tremaining: 325ms\n",
      "661:\tlearn: 0.0981849\ttotal: 635ms\tremaining: 324ms\n",
      "662:\tlearn: 0.0980492\ttotal: 636ms\tremaining: 323ms\n",
      "663:\tlearn: 0.0978990\ttotal: 637ms\tremaining: 322ms\n",
      "664:\tlearn: 0.0977590\ttotal: 638ms\tremaining: 321ms\n",
      "665:\tlearn: 0.0975062\ttotal: 638ms\tremaining: 320ms\n",
      "666:\tlearn: 0.0973565\ttotal: 639ms\tremaining: 319ms\n",
      "667:\tlearn: 0.0970474\ttotal: 640ms\tremaining: 318ms\n",
      "668:\tlearn: 0.0968679\ttotal: 641ms\tremaining: 317ms\n",
      "669:\tlearn: 0.0967223\ttotal: 641ms\tremaining: 316ms\n",
      "670:\tlearn: 0.0965034\ttotal: 642ms\tremaining: 315ms\n",
      "671:\tlearn: 0.0964073\ttotal: 643ms\tremaining: 314ms\n",
      "672:\tlearn: 0.0963313\ttotal: 644ms\tremaining: 313ms\n",
      "673:\tlearn: 0.0962164\ttotal: 645ms\tremaining: 312ms\n",
      "674:\tlearn: 0.0960250\ttotal: 645ms\tremaining: 311ms\n",
      "675:\tlearn: 0.0959642\ttotal: 646ms\tremaining: 310ms\n",
      "676:\tlearn: 0.0959018\ttotal: 647ms\tremaining: 309ms\n",
      "677:\tlearn: 0.0958717\ttotal: 648ms\tremaining: 308ms\n",
      "678:\tlearn: 0.0956453\ttotal: 648ms\tremaining: 307ms\n",
      "679:\tlearn: 0.0955607\ttotal: 649ms\tremaining: 305ms\n",
      "680:\tlearn: 0.0955486\ttotal: 650ms\tremaining: 304ms\n",
      "681:\tlearn: 0.0954357\ttotal: 651ms\tremaining: 303ms\n",
      "682:\tlearn: 0.0952662\ttotal: 652ms\tremaining: 302ms\n",
      "683:\tlearn: 0.0952593\ttotal: 652ms\tremaining: 301ms\n",
      "684:\tlearn: 0.0949836\ttotal: 653ms\tremaining: 300ms\n",
      "685:\tlearn: 0.0949141\ttotal: 654ms\tremaining: 299ms\n",
      "686:\tlearn: 0.0947238\ttotal: 655ms\tremaining: 298ms\n",
      "687:\tlearn: 0.0945744\ttotal: 655ms\tremaining: 297ms\n",
      "688:\tlearn: 0.0944869\ttotal: 656ms\tremaining: 296ms\n",
      "689:\tlearn: 0.0943098\ttotal: 657ms\tremaining: 295ms\n",
      "690:\tlearn: 0.0942469\ttotal: 658ms\tremaining: 294ms\n",
      "691:\tlearn: 0.0940253\ttotal: 659ms\tremaining: 293ms\n",
      "692:\tlearn: 0.0939204\ttotal: 659ms\tremaining: 292ms\n",
      "693:\tlearn: 0.0936611\ttotal: 660ms\tremaining: 291ms\n",
      "694:\tlearn: 0.0934850\ttotal: 661ms\tremaining: 290ms\n",
      "695:\tlearn: 0.0933141\ttotal: 662ms\tremaining: 289ms\n",
      "696:\tlearn: 0.0932881\ttotal: 662ms\tremaining: 288ms\n",
      "697:\tlearn: 0.0931143\ttotal: 663ms\tremaining: 287ms\n",
      "698:\tlearn: 0.0928932\ttotal: 664ms\tremaining: 286ms\n",
      "699:\tlearn: 0.0926643\ttotal: 665ms\tremaining: 285ms\n",
      "700:\tlearn: 0.0924802\ttotal: 666ms\tremaining: 284ms\n",
      "701:\tlearn: 0.0922919\ttotal: 667ms\tremaining: 283ms\n",
      "702:\tlearn: 0.0921220\ttotal: 668ms\tremaining: 282ms\n",
      "703:\tlearn: 0.0919833\ttotal: 669ms\tremaining: 281ms\n",
      "704:\tlearn: 0.0918702\ttotal: 670ms\tremaining: 280ms\n",
      "705:\tlearn: 0.0916555\ttotal: 671ms\tremaining: 279ms\n",
      "706:\tlearn: 0.0914514\ttotal: 671ms\tremaining: 278ms\n",
      "707:\tlearn: 0.0914321\ttotal: 672ms\tremaining: 277ms\n",
      "708:\tlearn: 0.0913713\ttotal: 673ms\tremaining: 276ms\n",
      "709:\tlearn: 0.0911395\ttotal: 674ms\tremaining: 275ms\n",
      "710:\tlearn: 0.0911196\ttotal: 675ms\tremaining: 274ms\n",
      "711:\tlearn: 0.0908881\ttotal: 676ms\tremaining: 273ms\n",
      "712:\tlearn: 0.0906407\ttotal: 677ms\tremaining: 272ms\n",
      "713:\tlearn: 0.0905506\ttotal: 677ms\tremaining: 271ms\n",
      "714:\tlearn: 0.0903901\ttotal: 678ms\tremaining: 270ms\n",
      "715:\tlearn: 0.0903722\ttotal: 679ms\tremaining: 269ms\n",
      "716:\tlearn: 0.0901687\ttotal: 680ms\tremaining: 268ms\n",
      "717:\tlearn: 0.0900524\ttotal: 680ms\tremaining: 267ms\n"
     ]
    },
    {
     "name": "stdout",
     "output_type": "stream",
     "text": [
      "718:\tlearn: 0.0898725\ttotal: 681ms\tremaining: 266ms\n",
      "719:\tlearn: 0.0897978\ttotal: 682ms\tremaining: 265ms\n",
      "720:\tlearn: 0.0896379\ttotal: 683ms\tremaining: 264ms\n",
      "721:\tlearn: 0.0894882\ttotal: 684ms\tremaining: 263ms\n",
      "722:\tlearn: 0.0893756\ttotal: 685ms\tremaining: 262ms\n",
      "723:\tlearn: 0.0893485\ttotal: 686ms\tremaining: 261ms\n",
      "724:\tlearn: 0.0891627\ttotal: 687ms\tremaining: 260ms\n",
      "725:\tlearn: 0.0890381\ttotal: 687ms\tremaining: 259ms\n",
      "726:\tlearn: 0.0888517\ttotal: 688ms\tremaining: 258ms\n",
      "727:\tlearn: 0.0886740\ttotal: 689ms\tremaining: 257ms\n",
      "728:\tlearn: 0.0885041\ttotal: 690ms\tremaining: 256ms\n",
      "729:\tlearn: 0.0884888\ttotal: 691ms\tremaining: 255ms\n",
      "730:\tlearn: 0.0883156\ttotal: 692ms\tremaining: 254ms\n",
      "731:\tlearn: 0.0882432\ttotal: 692ms\tremaining: 253ms\n",
      "732:\tlearn: 0.0881058\ttotal: 693ms\tremaining: 252ms\n",
      "733:\tlearn: 0.0880290\ttotal: 694ms\tremaining: 252ms\n",
      "734:\tlearn: 0.0879063\ttotal: 695ms\tremaining: 251ms\n",
      "735:\tlearn: 0.0878332\ttotal: 696ms\tremaining: 250ms\n",
      "736:\tlearn: 0.0876675\ttotal: 696ms\tremaining: 249ms\n",
      "737:\tlearn: 0.0876148\ttotal: 697ms\tremaining: 248ms\n",
      "738:\tlearn: 0.0874558\ttotal: 698ms\tremaining: 247ms\n",
      "739:\tlearn: 0.0872693\ttotal: 699ms\tremaining: 246ms\n",
      "740:\tlearn: 0.0872167\ttotal: 700ms\tremaining: 245ms\n",
      "741:\tlearn: 0.0871107\ttotal: 700ms\tremaining: 244ms\n",
      "742:\tlearn: 0.0869561\ttotal: 701ms\tremaining: 243ms\n",
      "743:\tlearn: 0.0867891\ttotal: 702ms\tremaining: 242ms\n",
      "744:\tlearn: 0.0866382\ttotal: 703ms\tremaining: 241ms\n",
      "745:\tlearn: 0.0864430\ttotal: 704ms\tremaining: 240ms\n",
      "746:\tlearn: 0.0863740\ttotal: 704ms\tremaining: 239ms\n",
      "747:\tlearn: 0.0862788\ttotal: 705ms\tremaining: 238ms\n",
      "748:\tlearn: 0.0860721\ttotal: 706ms\tremaining: 237ms\n",
      "749:\tlearn: 0.0860205\ttotal: 707ms\tremaining: 236ms\n",
      "750:\tlearn: 0.0858141\ttotal: 708ms\tremaining: 235ms\n",
      "751:\tlearn: 0.0856185\ttotal: 709ms\tremaining: 234ms\n",
      "752:\tlearn: 0.0854349\ttotal: 709ms\tremaining: 233ms\n",
      "753:\tlearn: 0.0852527\ttotal: 710ms\tremaining: 232ms\n",
      "754:\tlearn: 0.0850996\ttotal: 711ms\tremaining: 231ms\n",
      "755:\tlearn: 0.0849309\ttotal: 712ms\tremaining: 230ms\n",
      "756:\tlearn: 0.0846913\ttotal: 713ms\tremaining: 229ms\n",
      "757:\tlearn: 0.0846772\ttotal: 713ms\tremaining: 228ms\n",
      "758:\tlearn: 0.0845238\ttotal: 714ms\tremaining: 227ms\n",
      "759:\tlearn: 0.0844460\ttotal: 715ms\tremaining: 226ms\n",
      "760:\tlearn: 0.0842968\ttotal: 716ms\tremaining: 225ms\n",
      "761:\tlearn: 0.0842374\ttotal: 716ms\tremaining: 224ms\n",
      "762:\tlearn: 0.0841110\ttotal: 717ms\tremaining: 223ms\n",
      "763:\tlearn: 0.0839592\ttotal: 718ms\tremaining: 222ms\n",
      "764:\tlearn: 0.0839442\ttotal: 719ms\tremaining: 221ms\n",
      "765:\tlearn: 0.0839284\ttotal: 720ms\tremaining: 220ms\n",
      "766:\tlearn: 0.0838926\ttotal: 721ms\tremaining: 219ms\n",
      "767:\tlearn: 0.0836833\ttotal: 721ms\tremaining: 218ms\n",
      "768:\tlearn: 0.0835386\ttotal: 722ms\tremaining: 217ms\n",
      "769:\tlearn: 0.0835122\ttotal: 723ms\tremaining: 216ms\n",
      "770:\tlearn: 0.0833684\ttotal: 724ms\tremaining: 215ms\n",
      "771:\tlearn: 0.0832336\ttotal: 725ms\tremaining: 214ms\n",
      "772:\tlearn: 0.0832219\ttotal: 725ms\tremaining: 213ms\n",
      "773:\tlearn: 0.0829752\ttotal: 726ms\tremaining: 212ms\n",
      "774:\tlearn: 0.0828009\ttotal: 727ms\tremaining: 211ms\n",
      "775:\tlearn: 0.0826110\ttotal: 728ms\tremaining: 210ms\n",
      "776:\tlearn: 0.0824119\ttotal: 729ms\tremaining: 209ms\n",
      "777:\tlearn: 0.0823147\ttotal: 730ms\tremaining: 208ms\n",
      "778:\tlearn: 0.0821433\ttotal: 730ms\tremaining: 207ms\n",
      "779:\tlearn: 0.0820985\ttotal: 731ms\tremaining: 206ms\n",
      "780:\tlearn: 0.0819489\ttotal: 734ms\tremaining: 206ms\n",
      "781:\tlearn: 0.0819320\ttotal: 734ms\tremaining: 205ms\n",
      "782:\tlearn: 0.0819171\ttotal: 735ms\tremaining: 204ms\n",
      "783:\tlearn: 0.0818276\ttotal: 736ms\tremaining: 203ms\n",
      "784:\tlearn: 0.0816516\ttotal: 737ms\tremaining: 202ms\n",
      "785:\tlearn: 0.0814878\ttotal: 738ms\tremaining: 201ms\n",
      "786:\tlearn: 0.0813973\ttotal: 738ms\tremaining: 200ms\n",
      "787:\tlearn: 0.0813842\ttotal: 739ms\tremaining: 199ms\n",
      "788:\tlearn: 0.0812179\ttotal: 740ms\tremaining: 198ms\n",
      "789:\tlearn: 0.0810874\ttotal: 741ms\tremaining: 197ms\n",
      "790:\tlearn: 0.0809194\ttotal: 742ms\tremaining: 196ms\n",
      "791:\tlearn: 0.0808207\ttotal: 743ms\tremaining: 195ms\n",
      "792:\tlearn: 0.0807850\ttotal: 743ms\tremaining: 194ms\n",
      "793:\tlearn: 0.0806608\ttotal: 744ms\tremaining: 193ms\n",
      "794:\tlearn: 0.0805072\ttotal: 745ms\tremaining: 192ms\n",
      "795:\tlearn: 0.0803627\ttotal: 746ms\tremaining: 191ms\n",
      "796:\tlearn: 0.0801941\ttotal: 746ms\tremaining: 190ms\n",
      "797:\tlearn: 0.0800553\ttotal: 747ms\tremaining: 189ms\n",
      "798:\tlearn: 0.0799387\ttotal: 748ms\tremaining: 188ms\n",
      "799:\tlearn: 0.0799239\ttotal: 749ms\tremaining: 187ms\n",
      "800:\tlearn: 0.0797587\ttotal: 750ms\tremaining: 186ms\n",
      "801:\tlearn: 0.0795907\ttotal: 751ms\tremaining: 185ms\n",
      "802:\tlearn: 0.0794724\ttotal: 751ms\tremaining: 184ms\n",
      "803:\tlearn: 0.0792865\ttotal: 752ms\tremaining: 183ms\n",
      "804:\tlearn: 0.0791458\ttotal: 753ms\tremaining: 182ms\n",
      "805:\tlearn: 0.0790352\ttotal: 754ms\tremaining: 181ms\n",
      "806:\tlearn: 0.0788999\ttotal: 755ms\tremaining: 181ms\n",
      "807:\tlearn: 0.0788653\ttotal: 756ms\tremaining: 180ms\n",
      "808:\tlearn: 0.0786153\ttotal: 757ms\tremaining: 179ms\n",
      "809:\tlearn: 0.0785455\ttotal: 757ms\tremaining: 178ms\n",
      "810:\tlearn: 0.0784438\ttotal: 758ms\tremaining: 177ms\n",
      "811:\tlearn: 0.0784320\ttotal: 759ms\tremaining: 176ms\n",
      "812:\tlearn: 0.0782465\ttotal: 760ms\tremaining: 175ms\n",
      "813:\tlearn: 0.0780784\ttotal: 761ms\tremaining: 174ms\n",
      "814:\tlearn: 0.0779183\ttotal: 762ms\tremaining: 173ms\n",
      "815:\tlearn: 0.0778127\ttotal: 762ms\tremaining: 172ms\n",
      "816:\tlearn: 0.0777290\ttotal: 763ms\tremaining: 171ms\n",
      "817:\tlearn: 0.0777161\ttotal: 764ms\tremaining: 170ms\n"
     ]
    },
    {
     "name": "stdout",
     "output_type": "stream",
     "text": [
      "818:\tlearn: 0.0776343\ttotal: 765ms\tremaining: 169ms\n",
      "819:\tlearn: 0.0775575\ttotal: 766ms\tremaining: 168ms\n",
      "820:\tlearn: 0.0774128\ttotal: 767ms\tremaining: 167ms\n",
      "821:\tlearn: 0.0773358\ttotal: 767ms\tremaining: 166ms\n",
      "822:\tlearn: 0.0772663\ttotal: 768ms\tremaining: 165ms\n",
      "823:\tlearn: 0.0771642\ttotal: 769ms\tremaining: 164ms\n",
      "824:\tlearn: 0.0771027\ttotal: 770ms\tremaining: 163ms\n",
      "825:\tlearn: 0.0769060\ttotal: 771ms\tremaining: 162ms\n",
      "826:\tlearn: 0.0767872\ttotal: 772ms\tremaining: 162ms\n",
      "827:\tlearn: 0.0767481\ttotal: 773ms\tremaining: 161ms\n",
      "828:\tlearn: 0.0766128\ttotal: 773ms\tremaining: 160ms\n",
      "829:\tlearn: 0.0765022\ttotal: 774ms\tremaining: 159ms\n",
      "830:\tlearn: 0.0763488\ttotal: 775ms\tremaining: 158ms\n",
      "831:\tlearn: 0.0762542\ttotal: 776ms\tremaining: 157ms\n",
      "832:\tlearn: 0.0760993\ttotal: 777ms\tremaining: 156ms\n",
      "833:\tlearn: 0.0760145\ttotal: 777ms\tremaining: 155ms\n",
      "834:\tlearn: 0.0758882\ttotal: 778ms\tremaining: 154ms\n",
      "835:\tlearn: 0.0757128\ttotal: 779ms\tremaining: 153ms\n",
      "836:\tlearn: 0.0755542\ttotal: 780ms\tremaining: 152ms\n",
      "837:\tlearn: 0.0754485\ttotal: 780ms\tremaining: 151ms\n",
      "838:\tlearn: 0.0753010\ttotal: 781ms\tremaining: 150ms\n",
      "839:\tlearn: 0.0751772\ttotal: 782ms\tremaining: 149ms\n",
      "840:\tlearn: 0.0750584\ttotal: 783ms\tremaining: 148ms\n",
      "841:\tlearn: 0.0750485\ttotal: 784ms\tremaining: 147ms\n",
      "842:\tlearn: 0.0750136\ttotal: 785ms\tremaining: 146ms\n",
      "843:\tlearn: 0.0749035\ttotal: 785ms\tremaining: 145ms\n",
      "844:\tlearn: 0.0747097\ttotal: 786ms\tremaining: 144ms\n",
      "845:\tlearn: 0.0745372\ttotal: 787ms\tremaining: 143ms\n",
      "846:\tlearn: 0.0744052\ttotal: 788ms\tremaining: 142ms\n",
      "847:\tlearn: 0.0743069\ttotal: 789ms\tremaining: 141ms\n",
      "848:\tlearn: 0.0742389\ttotal: 790ms\tremaining: 140ms\n",
      "849:\tlearn: 0.0741377\ttotal: 790ms\tremaining: 139ms\n",
      "850:\tlearn: 0.0740693\ttotal: 791ms\tremaining: 139ms\n",
      "851:\tlearn: 0.0739699\ttotal: 792ms\tremaining: 138ms\n",
      "852:\tlearn: 0.0738283\ttotal: 793ms\tremaining: 137ms\n",
      "853:\tlearn: 0.0736228\ttotal: 794ms\tremaining: 136ms\n",
      "854:\tlearn: 0.0735774\ttotal: 794ms\tremaining: 135ms\n",
      "855:\tlearn: 0.0734103\ttotal: 795ms\tremaining: 134ms\n",
      "856:\tlearn: 0.0732679\ttotal: 796ms\tremaining: 133ms\n",
      "857:\tlearn: 0.0732567\ttotal: 797ms\tremaining: 132ms\n",
      "858:\tlearn: 0.0731274\ttotal: 797ms\tremaining: 131ms\n",
      "859:\tlearn: 0.0731196\ttotal: 798ms\tremaining: 130ms\n",
      "860:\tlearn: 0.0731044\ttotal: 799ms\tremaining: 129ms\n",
      "861:\tlearn: 0.0729439\ttotal: 800ms\tremaining: 128ms\n",
      "862:\tlearn: 0.0729109\ttotal: 801ms\tremaining: 127ms\n",
      "863:\tlearn: 0.0727282\ttotal: 802ms\tremaining: 126ms\n",
      "864:\tlearn: 0.0726719\ttotal: 802ms\tremaining: 125ms\n",
      "865:\tlearn: 0.0726598\ttotal: 803ms\tremaining: 124ms\n",
      "866:\tlearn: 0.0725287\ttotal: 804ms\tremaining: 123ms\n",
      "867:\tlearn: 0.0723824\ttotal: 805ms\tremaining: 122ms\n",
      "868:\tlearn: 0.0722494\ttotal: 806ms\tremaining: 121ms\n",
      "869:\tlearn: 0.0721197\ttotal: 807ms\tremaining: 121ms\n",
      "870:\tlearn: 0.0719490\ttotal: 807ms\tremaining: 120ms\n",
      "871:\tlearn: 0.0718613\ttotal: 808ms\tremaining: 119ms\n",
      "872:\tlearn: 0.0718404\ttotal: 809ms\tremaining: 118ms\n",
      "873:\tlearn: 0.0717977\ttotal: 810ms\tremaining: 117ms\n",
      "874:\tlearn: 0.0716541\ttotal: 811ms\tremaining: 116ms\n",
      "875:\tlearn: 0.0714989\ttotal: 812ms\tremaining: 115ms\n",
      "876:\tlearn: 0.0713792\ttotal: 813ms\tremaining: 114ms\n",
      "877:\tlearn: 0.0712744\ttotal: 813ms\tremaining: 113ms\n",
      "878:\tlearn: 0.0711302\ttotal: 814ms\tremaining: 112ms\n",
      "879:\tlearn: 0.0710140\ttotal: 815ms\tremaining: 111ms\n",
      "880:\tlearn: 0.0709906\ttotal: 816ms\tremaining: 110ms\n",
      "881:\tlearn: 0.0709343\ttotal: 817ms\tremaining: 109ms\n",
      "882:\tlearn: 0.0708999\ttotal: 818ms\tremaining: 108ms\n",
      "883:\tlearn: 0.0707582\ttotal: 818ms\tremaining: 107ms\n",
      "884:\tlearn: 0.0706492\ttotal: 819ms\tremaining: 106ms\n",
      "885:\tlearn: 0.0705910\ttotal: 820ms\tremaining: 106ms\n",
      "886:\tlearn: 0.0705289\ttotal: 821ms\tremaining: 105ms\n",
      "887:\tlearn: 0.0704971\ttotal: 822ms\tremaining: 104ms\n",
      "888:\tlearn: 0.0703743\ttotal: 822ms\tremaining: 103ms\n",
      "889:\tlearn: 0.0702743\ttotal: 823ms\tremaining: 102ms\n",
      "890:\tlearn: 0.0701164\ttotal: 824ms\tremaining: 101ms\n",
      "891:\tlearn: 0.0699579\ttotal: 825ms\tremaining: 99.9ms\n",
      "892:\tlearn: 0.0697959\ttotal: 826ms\tremaining: 98.9ms\n",
      "893:\tlearn: 0.0696623\ttotal: 826ms\tremaining: 98ms\n",
      "894:\tlearn: 0.0695440\ttotal: 827ms\tremaining: 97ms\n",
      "895:\tlearn: 0.0694357\ttotal: 828ms\tremaining: 96.1ms\n",
      "896:\tlearn: 0.0692936\ttotal: 829ms\tremaining: 95.2ms\n",
      "897:\tlearn: 0.0691778\ttotal: 829ms\tremaining: 94.2ms\n",
      "898:\tlearn: 0.0691685\ttotal: 830ms\tremaining: 93.3ms\n",
      "899:\tlearn: 0.0690007\ttotal: 831ms\tremaining: 92.3ms\n",
      "900:\tlearn: 0.0688462\ttotal: 832ms\tremaining: 91.4ms\n",
      "901:\tlearn: 0.0688238\ttotal: 833ms\tremaining: 90.5ms\n",
      "902:\tlearn: 0.0687374\ttotal: 834ms\tremaining: 89.5ms\n",
      "903:\tlearn: 0.0685490\ttotal: 834ms\tremaining: 88.6ms\n",
      "904:\tlearn: 0.0684733\ttotal: 835ms\tremaining: 87.7ms\n",
      "905:\tlearn: 0.0683552\ttotal: 836ms\tremaining: 86.7ms\n",
      "906:\tlearn: 0.0683135\ttotal: 837ms\tremaining: 85.8ms\n",
      "907:\tlearn: 0.0681927\ttotal: 838ms\tremaining: 84.9ms\n",
      "908:\tlearn: 0.0681150\ttotal: 839ms\tremaining: 83.9ms\n",
      "909:\tlearn: 0.0680835\ttotal: 839ms\tremaining: 83ms\n",
      "910:\tlearn: 0.0679623\ttotal: 840ms\tremaining: 82.1ms\n",
      "911:\tlearn: 0.0677775\ttotal: 841ms\tremaining: 81.1ms\n",
      "912:\tlearn: 0.0677125\ttotal: 842ms\tremaining: 80.2ms\n",
      "913:\tlearn: 0.0675470\ttotal: 843ms\tremaining: 79.3ms\n",
      "914:\tlearn: 0.0675388\ttotal: 843ms\tremaining: 78.3ms\n",
      "915:\tlearn: 0.0674258\ttotal: 844ms\tremaining: 77.4ms\n",
      "916:\tlearn: 0.0673654\ttotal: 845ms\tremaining: 76.5ms\n",
      "917:\tlearn: 0.0673569\ttotal: 846ms\tremaining: 75.5ms\n",
      "918:\tlearn: 0.0672668\ttotal: 847ms\tremaining: 74.6ms\n",
      "919:\tlearn: 0.0672605\ttotal: 847ms\tremaining: 73.7ms\n",
      "920:\tlearn: 0.0671420\ttotal: 848ms\tremaining: 72.8ms\n",
      "921:\tlearn: 0.0670053\ttotal: 849ms\tremaining: 71.8ms\n",
      "922:\tlearn: 0.0668986\ttotal: 850ms\tremaining: 70.9ms\n",
      "923:\tlearn: 0.0667993\ttotal: 851ms\tremaining: 70ms\n",
      "924:\tlearn: 0.0667380\ttotal: 851ms\tremaining: 69ms\n",
      "925:\tlearn: 0.0665916\ttotal: 852ms\tremaining: 68.1ms\n",
      "926:\tlearn: 0.0665459\ttotal: 853ms\tremaining: 67.2ms\n",
      "927:\tlearn: 0.0664640\ttotal: 854ms\tremaining: 66.2ms\n",
      "928:\tlearn: 0.0663099\ttotal: 855ms\tremaining: 65.3ms\n",
      "929:\tlearn: 0.0662289\ttotal: 855ms\tremaining: 64.4ms\n",
      "930:\tlearn: 0.0661381\ttotal: 856ms\tremaining: 63.5ms\n",
      "931:\tlearn: 0.0659877\ttotal: 857ms\tremaining: 62.5ms\n",
      "932:\tlearn: 0.0658893\ttotal: 858ms\tremaining: 61.6ms\n",
      "933:\tlearn: 0.0658205\ttotal: 858ms\tremaining: 60.7ms\n",
      "934:\tlearn: 0.0656653\ttotal: 859ms\tremaining: 59.7ms\n",
      "935:\tlearn: 0.0656574\ttotal: 860ms\tremaining: 58.8ms\n",
      "936:\tlearn: 0.0655145\ttotal: 861ms\tremaining: 57.9ms\n",
      "937:\tlearn: 0.0653760\ttotal: 862ms\tremaining: 56.9ms\n",
      "938:\tlearn: 0.0652987\ttotal: 862ms\tremaining: 56ms\n",
      "939:\tlearn: 0.0652385\ttotal: 863ms\tremaining: 55.1ms\n",
      "940:\tlearn: 0.0651010\ttotal: 864ms\tremaining: 54.2ms\n",
      "941:\tlearn: 0.0649993\ttotal: 865ms\tremaining: 53.2ms\n",
      "942:\tlearn: 0.0648968\ttotal: 865ms\tremaining: 52.3ms\n",
      "943:\tlearn: 0.0648869\ttotal: 866ms\tremaining: 51.4ms\n",
      "944:\tlearn: 0.0647242\ttotal: 867ms\tremaining: 50.5ms\n",
      "945:\tlearn: 0.0646136\ttotal: 868ms\tremaining: 49.5ms\n",
      "946:\tlearn: 0.0644995\ttotal: 869ms\tremaining: 48.6ms\n",
      "947:\tlearn: 0.0644174\ttotal: 869ms\tremaining: 47.7ms\n",
      "948:\tlearn: 0.0643049\ttotal: 870ms\tremaining: 46.8ms\n",
      "949:\tlearn: 0.0642974\ttotal: 871ms\tremaining: 45.8ms\n"
     ]
    },
    {
     "name": "stdout",
     "output_type": "stream",
     "text": [
      "950:\tlearn: 0.0641506\ttotal: 872ms\tremaining: 44.9ms\n",
      "951:\tlearn: 0.0640200\ttotal: 873ms\tremaining: 44ms\n",
      "952:\tlearn: 0.0639127\ttotal: 874ms\tremaining: 43.1ms\n",
      "953:\tlearn: 0.0637558\ttotal: 875ms\tremaining: 42.2ms\n",
      "954:\tlearn: 0.0636802\ttotal: 875ms\tremaining: 41.3ms\n",
      "955:\tlearn: 0.0635843\ttotal: 876ms\tremaining: 40.3ms\n",
      "956:\tlearn: 0.0634963\ttotal: 877ms\tremaining: 39.4ms\n",
      "957:\tlearn: 0.0633925\ttotal: 878ms\tremaining: 38.5ms\n",
      "958:\tlearn: 0.0632598\ttotal: 879ms\tremaining: 37.6ms\n",
      "959:\tlearn: 0.0631238\ttotal: 880ms\tremaining: 36.7ms\n",
      "960:\tlearn: 0.0631154\ttotal: 881ms\tremaining: 35.7ms\n",
      "961:\tlearn: 0.0630588\ttotal: 881ms\tremaining: 34.8ms\n",
      "962:\tlearn: 0.0629077\ttotal: 882ms\tremaining: 33.9ms\n",
      "963:\tlearn: 0.0627934\ttotal: 883ms\tremaining: 33ms\n",
      "964:\tlearn: 0.0626923\ttotal: 884ms\tremaining: 32.1ms\n",
      "965:\tlearn: 0.0626865\ttotal: 885ms\tremaining: 31.1ms\n",
      "966:\tlearn: 0.0625562\ttotal: 885ms\tremaining: 30.2ms\n",
      "967:\tlearn: 0.0624294\ttotal: 886ms\tremaining: 29.3ms\n",
      "968:\tlearn: 0.0624172\ttotal: 887ms\tremaining: 28.4ms\n",
      "969:\tlearn: 0.0623461\ttotal: 888ms\tremaining: 27.4ms\n",
      "970:\tlearn: 0.0622624\ttotal: 888ms\tremaining: 26.5ms\n",
      "971:\tlearn: 0.0622035\ttotal: 889ms\tremaining: 25.6ms\n",
      "972:\tlearn: 0.0621203\ttotal: 890ms\tremaining: 24.7ms\n",
      "973:\tlearn: 0.0620596\ttotal: 891ms\tremaining: 23.8ms\n",
      "974:\tlearn: 0.0619136\ttotal: 892ms\tremaining: 22.9ms\n",
      "975:\tlearn: 0.0618164\ttotal: 893ms\tremaining: 21.9ms\n",
      "976:\tlearn: 0.0617276\ttotal: 893ms\tremaining: 21ms\n",
      "977:\tlearn: 0.0616177\ttotal: 894ms\tremaining: 20.1ms\n",
      "978:\tlearn: 0.0615384\ttotal: 895ms\tremaining: 19.2ms\n",
      "979:\tlearn: 0.0615131\ttotal: 896ms\tremaining: 18.3ms\n",
      "980:\tlearn: 0.0614017\ttotal: 896ms\tremaining: 17.4ms\n",
      "981:\tlearn: 0.0612840\ttotal: 897ms\tremaining: 16.4ms\n",
      "982:\tlearn: 0.0611870\ttotal: 898ms\tremaining: 15.5ms\n",
      "983:\tlearn: 0.0610633\ttotal: 899ms\tremaining: 14.6ms\n",
      "984:\tlearn: 0.0609876\ttotal: 900ms\tremaining: 13.7ms\n",
      "985:\tlearn: 0.0608905\ttotal: 901ms\tremaining: 12.8ms\n",
      "986:\tlearn: 0.0608121\ttotal: 901ms\tremaining: 11.9ms\n",
      "987:\tlearn: 0.0607444\ttotal: 902ms\tremaining: 11ms\n",
      "988:\tlearn: 0.0606188\ttotal: 903ms\tremaining: 10ms\n",
      "989:\tlearn: 0.0604815\ttotal: 904ms\tremaining: 9.13ms\n",
      "990:\tlearn: 0.0604715\ttotal: 905ms\tremaining: 8.22ms\n",
      "991:\tlearn: 0.0603791\ttotal: 906ms\tremaining: 7.3ms\n",
      "992:\tlearn: 0.0602507\ttotal: 906ms\tremaining: 6.39ms\n",
      "993:\tlearn: 0.0601307\ttotal: 907ms\tremaining: 5.48ms\n",
      "994:\tlearn: 0.0600112\ttotal: 908ms\tremaining: 4.56ms\n",
      "995:\tlearn: 0.0599162\ttotal: 909ms\tremaining: 3.65ms\n",
      "996:\tlearn: 0.0598085\ttotal: 910ms\tremaining: 2.74ms\n",
      "997:\tlearn: 0.0597666\ttotal: 910ms\tremaining: 1.82ms\n",
      "998:\tlearn: 0.0596466\ttotal: 911ms\tremaining: 912us\n",
      "999:\tlearn: 0.0595292\ttotal: 912ms\tremaining: 0us\n"
     ]
    },
    {
     "data": {
      "text/plain": [
       "<catboost.core.CatBoostRegressor at 0x7fa6a972a160>"
      ]
     },
     "execution_count": 9,
     "metadata": {},
     "output_type": "execute_result"
    }
   ],
   "source": [
    "#Train the Model \n",
    "prior_model = ctb.CatBoostRegressor()\n",
    "prior_model.fit(X_train,Y_train)"
   ]
  },
  {
   "cell_type": "code",
   "execution_count": 10,
   "id": "af65dcda",
   "metadata": {
    "execution": {
     "iopub.execute_input": "2022-03-11T10:44:36.455475Z",
     "iopub.status.busy": "2022-03-11T10:44:36.455080Z",
     "iopub.status.idle": "2022-03-11T10:44:36.462588Z",
     "shell.execute_reply": "2022-03-11T10:44:36.462840Z"
    },
    "id": "af65dcda",
    "papermill": {
     "duration": 0.020689,
     "end_time": "2022-03-11T10:44:36.462954",
     "exception": false,
     "start_time": "2022-03-11T10:44:36.442265",
     "status": "completed"
    },
    "tags": []
   },
   "outputs": [
    {
     "data": {
      "application/scrapbook.scrap.json+json": {
       "data": 0.11724994003408525,
       "encoder": "json",
       "name": "Prior Model MSE",
       "version": 1
      }
     },
     "metadata": {
      "scrapbook": {
       "data": true,
       "display": false,
       "name": "Prior Model MSE"
      }
     },
     "output_type": "display_data"
    },
    {
     "data": {
      "application/scrapbook.scrap.json+json": {
       "data": 0.11692832598137842,
       "encoder": "json",
       "name": "ABC Pre-generator MSE",
       "version": 1
      }
     },
     "metadata": {
      "scrapbook": {
       "data": true,
       "display": false,
       "name": "ABC Pre-generator MSE"
      }
     },
     "output_type": "display_data"
    },
    {
     "data": {
      "application/scrapbook.scrap.json+json": {
       "data": 0.222357066983349,
       "encoder": "json",
       "name": "Prior Model MAE",
       "version": 1
      }
     },
     "metadata": {
      "scrapbook": {
       "data": true,
       "display": false,
       "name": "Prior Model MAE"
      }
     },
     "output_type": "display_data"
    },
    {
     "data": {
      "application/scrapbook.scrap.json+json": {
       "data": 0.2222659396914772,
       "encoder": "json",
       "name": "ABC Pre-generator MAE",
       "version": 1
      }
     },
     "metadata": {
      "scrapbook": {
       "data": true,
       "display": false,
       "name": "ABC Pre-generator MAE"
      }
     },
     "output_type": "display_data"
    }
   ],
   "source": [
    "y_pred = prior_model.predict(X_test)\n",
    "y_abc = y_pred + np.random.normal(0,variance, y_pred.shape)\n",
    "mse = mean_squared_error(y_pred,Y_test)\n",
    "sb.glue(\"Prior Model MSE\",mse)\n",
    "mse = mean_squared_error(y_abc,Y_test)\n",
    "sb.glue(\"ABC Pre-generator MSE\",mse)\n",
    "\n",
    "mae = mean_absolute_error(y_pred,Y_test)\n",
    "sb.glue(\"Prior Model MAE\",mae)\n",
    "mae = mean_absolute_error(y_abc,Y_test)\n",
    "sb.glue(\"ABC Pre-generator MAE\",mae)"
   ]
  },
  {
   "cell_type": "markdown",
   "id": "25609da2",
   "metadata": {
    "papermill": {
     "duration": 0.009867,
     "end_time": "2022-03-11T10:44:36.483085",
     "exception": false,
     "start_time": "2022-03-11T10:44:36.473218",
     "status": "completed"
    },
    "tags": []
   },
   "source": [
    "# ABC GAN Model"
   ]
  },
  {
   "cell_type": "code",
   "execution_count": 11,
   "id": "dfc3464d",
   "metadata": {
    "execution": {
     "iopub.execute_input": "2022-03-11T10:44:36.505757Z",
     "iopub.status.busy": "2022-03-11T10:44:36.505389Z",
     "iopub.status.idle": "2022-03-11T10:44:36.507861Z",
     "shell.execute_reply": "2022-03-11T10:44:36.508097Z"
    },
    "papermill": {
     "duration": 0.015256,
     "end_time": "2022-03-11T10:44:36.508205",
     "exception": false,
     "start_time": "2022-03-11T10:44:36.492949",
     "status": "completed"
    },
    "tags": []
   },
   "outputs": [],
   "source": [
    "gen = network.Generator(n_features+1).to(device)\n",
    "disc = network.Discriminator(n_features+1).to(device)\n",
    "\n",
    "criterion = torch.nn.BCELoss()\n",
    "gen_opt = torch.optim.Adam(gen.parameters(), lr=0.001, betas=(0.5, 0.999))\n",
    "disc_opt = torch.optim.Adam(disc.parameters(), lr=0.001, betas=(0.5, 0.999))"
   ]
  },
  {
   "cell_type": "code",
   "execution_count": 12,
   "id": "b75fdd85",
   "metadata": {
    "execution": {
     "iopub.execute_input": "2022-03-11T10:44:36.530374Z",
     "iopub.status.busy": "2022-03-11T10:44:36.530011Z",
     "iopub.status.idle": "2022-03-11T10:45:12.665267Z",
     "shell.execute_reply": "2022-03-11T10:45:12.665570Z"
    },
    "papermill": {
     "duration": 36.147492,
     "end_time": "2022-03-11T10:45:12.665703",
     "exception": false,
     "start_time": "2022-03-11T10:44:36.518211",
     "status": "completed"
    },
    "tags": []
   },
   "outputs": [
    {
     "data": {
      "image/png": "[encoded data removed]",
      "text/plain": [
       "<Figure size 432x288 with 1 Axes>"
      ]
     },
     "metadata": {
      "needs_background": "light"
     },
     "output_type": "display_data"
    },
    {
     "data": {
      "image/png": "[encoded data removed]",
      "text/plain": [
       "<Figure size 432x288 with 1 Axes>"
      ]
     },
     "metadata": {
      "needs_background": "light"
     },
     "output_type": "display_data"
    }
   ],
   "source": [
    "#Training the ABC_GAN \n",
    "ABC_train_test2.training_GAN(disc,gen,disc_opt,gen_opt,train_data,batch_size,n_epochs,criterion,prior_model,variance,0,device)"
   ]
  },
  {
   "cell_type": "code",
   "execution_count": 13,
   "id": "1fa7c368",
   "metadata": {
    "execution": {
     "iopub.execute_input": "2022-03-11T10:45:12.690193Z",
     "iopub.status.busy": "2022-03-11T10:45:12.689795Z",
     "iopub.status.idle": "2022-03-11T10:45:13.001424Z",
     "shell.execute_reply": "2022-03-11T10:45:13.001843Z"
    },
    "papermill": {
     "duration": 0.325243,
     "end_time": "2022-03-11T10:45:13.001970",
     "exception": false,
     "start_time": "2022-03-11T10:45:12.676727",
     "status": "completed"
    },
    "tags": []
   },
   "outputs": [
    {
     "data": {
      "application/scrapbook.scrap.json+json": {
       "data": 0.13241026962125158,
       "encoder": "json",
       "name": "ABC-GAN Model 1 MSE",
       "version": 1
      }
     },
     "metadata": {
      "scrapbook": {
       "data": true,
       "display": false,
       "name": "ABC-GAN Model 1 MSE"
      }
     },
     "output_type": "display_data"
    },
    {
     "data": {
      "application/scrapbook.scrap.json+json": {
       "data": 0.23723578140997859,
       "encoder": "json",
       "name": "ABC-GAN Model 1 MAE",
       "version": 1
      }
     },
     "metadata": {
      "scrapbook": {
       "data": true,
       "display": false,
       "name": "ABC-GAN Model 1 MAE"
      }
     },
     "output_type": "display_data"
    },
    {
     "data": {
      "application/scrapbook.scrap.json+json": {
       "data": 24.198049703817816,
       "encoder": "json",
       "name": "ABC-GAN Model 1 Manhattan Distance",
       "version": 1
      }
     },
     "metadata": {
      "scrapbook": {
       "data": true,
       "display": false,
       "name": "ABC-GAN Model 1 Manhattan Distance"
      }
     },
     "output_type": "display_data"
    },
    {
     "data": {
      "application/scrapbook.scrap.json+json": {
       "data": 3.675014943458282,
       "encoder": "json",
       "name": "ABC-GAN Model 1 Euclidean distance",
       "version": 1
      }
     },
     "metadata": {
      "scrapbook": {
       "data": true,
       "display": false,
       "name": "ABC-GAN Model 1 Euclidean distance"
      }
     },
     "output_type": "display_data"
    },
    {
     "data": {
      "application/scrapbook.scrap.json+json": {
       "data": [
        [
         0.13192512818015015,
         0.1322112383925897,
         0.13114120478840008,
         0.13410506171420666,
         0.13252993989299006,
         0.13212648733806068,
         0.13146101149606484,
         0.1326272605309819,
         0.1327761033048123,
         0.1331890637657042,
         0.1334594300071302,
         0.13215135650199564,
         0.13127451186193645,
         0.13219302121368912,
         0.1332757319805003,
         0.13292685271128035,
         0.13276377439920853,
         0.13307452648754997,
         0.13260122769264984,
         0.13215728269054153,
         0.13208764817096855,
         0.13287638337102012,
         0.13341093826492295,
         0.13275923316197116,
         0.1314200653877577,
         0.13289448510063104,
         0.13372970979834747,
         0.13182483963672037,
         0.13226341625727697,
         0.13244991008224372,
         0.13166400266920136,
         0.13208319710937674,
         0.13285425659253014,
         0.1322268633524713,
         0.13165395321314613,
         0.13283366952224213,
         0.13325786936672965,
         0.13406033783642163,
         0.1321687742629654,
         0.13110043029702645,
         0.13411952796732654,
         0.13248809422904878,
         0.13193690594620577,
         0.1320652928550918,
         0.13098800220665952,
         0.13213243907956704,
         0.13177972624718842,
         0.13190037515863134,
         0.13216378843002294,
         0.1327929783940731,
         0.13321076662899806,
         0.1337980607896439,
         0.133963806229081,
         0.13256156522738327,
         0.13261894043791636,
         0.1319837634448028,
         0.1314927481411773,
         0.13221892359828774,
         0.13261924466080788,
         0.13146804189415165,
         0.13247344496750368,
         0.131262951999071,
         0.13310472808603233,
         0.13154147554003656,
         0.13213431842491413,
         0.1321521150198579,
         0.13202008746883673,
         0.13292989666407976,
         0.13272109001390797,
         0.13186965793420727,
         0.13204770931218138,
         0.13358255893879825,
         0.1326315416013557,
         0.1322490898561741,
         0.13208365237802572,
         0.13117438306532708,
         0.13244255578995215,
         0.13233702305515554,
         0.13171731090781816,
         0.1328702354744167,
         0.1326540810748526,
         0.13156480953856367,
         0.13268619159564513,
         0.13143592236174473,
         0.13160477946437726,
         0.1329903514869745,
         0.13330629302912686,
         0.1309106759140019,
         0.1325963129468389,
         0.13211915157246124,
         0.1338108519508033,
         0.13221912433315613,
         0.1326068572403083,
         0.130708513704489,
         0.13224509932701875,
         0.1329067947602758,
         0.13364320606153934,
         0.1335240780955382,
         0.13296165400067514,
         0.13129319719863664
        ],
        [
         0.23802391610418758,
         0.2374011822976172,
         0.236454654183677,
         0.23806699397334574,
         0.2373443220595957,
         0.23654590341646006,
         0.23543405199569523,
         0.23896685380525157,
         0.23735754508707746,
         0.236388163668487,
         0.23769315521178,
         0.23669056925813065,
         0.234862887346204,
         0.2366368727776788,
         0.2375808617045336,
         0.2370118136408136,
         0.23725753199929991,
         0.2366258591030012,
         0.23739770912181804,
         0.2373938314598419,
         0.23817998485858827,
         0.23704848415674826,
         0.23800987921034297,
         0.2380610337280029,
         0.23590037424811253,
         0.23874986181766086,
         0.23799097387339263,
         0.2375749432043556,
         0.23815471301877908,
         0.2367044697406099,
         0.2382877752020517,
         0.23639283583992543,
         0.23780792629273206,
         0.23806533658438744,
         0.23544974321061196,
         0.23826671186286738,
         0.23757085232429354,
         0.23856490575617142,
         0.23744846501515485,
         0.23764421081389575,
         0.23899838634237064,
         0.23733389511814013,
         0.23686366593099983,
         0.23656045005419382,
         0.23534081082827613,
         0.2365990292335696,
         0.23661289019875376,
         0.23755892525956618,
         0.23830352726337664,
         0.23668907154534086,
         0.2383713145082926,
         0.23882133578516396,
         0.23853966994576303,
         0.23761099780562753,
         0.2363140487988644,
         0.23798701860120192,
         0.23659176093654014,
         0.23928923122402207,
         0.23782821384021172,
         0.236571284987982,
         0.237206579122108,
         0.2378128050351698,
         0.2372602440836821,
         0.236067173463822,
         0.23643980948619692,
         0.23764467512385226,
         0.23711233344111665,
         0.23848972486916417,
         0.23757239992675536,
         0.23594665593997227,
         0.23512923037268074,
         0.23832528540572406,
         0.23722653937361696,
         0.23696608730938798,
         0.23757727614914378,
         0.2358444637217212,
         0.23741747763044402,
         0.23805965160877973,
         0.23659129162300743,
         0.23649895650462485,
         0.2373366673550039,
         0.23768713868533572,
         0.23635908827076063,
         0.23609569207673856,
         0.2350428331478992,
         0.23722099972085334,
         0.2364522500201037,
         0.2360297751832096,
         0.23650826929210156,
         0.2380437829677819,
         0.23843936266961926,
         0.23811131572423905,
         0.23706444859614267,
         0.23475621256283394,
         0.23791562980406133,
         0.23773212218657136,
         0.23812506171673828,
         0.2393046103545702,
         0.2377329668048404,
         0.23463756648604484
        ],
        [
         24.278439442627132,
         24.214920594356954,
         24.118374726735055,
         24.282833385281265,
         24.20912085007876,
         24.127682148478925,
         24.014273303560913,
         24.37461908813566,
         24.2104695988819,
         24.111592694185674,
         24.24470183160156,
         24.142438064329326,
         23.95601450931281,
         24.136961023323238,
         24.233247893862426,
         24.17520499136299,
         24.200268263928592,
         24.135837628506124,
         24.21456633042544,
         24.214170808903873,
         24.294358455576003,
         24.17894538398832,
         24.277007679454982,
         24.282225440256298,
         24.06183817330748,
         24.35248590540141,
         24.275079335086048,
         24.23264420684427,
         24.291780727915466,
         24.14385591354221,
         24.30535307060927,
         24.112069255672395,
         24.25640848185867,
         24.28266433160752,
         24.01587380748242,
         24.30320461001247,
         24.23222693707794,
         24.333620387129486,
         24.219743431545794,
         24.239709503017366,
         24.377835406921804,
         24.208057302050292,
         24.160093924961984,
         24.12916590552777,
         24.004762704484165,
         24.1331009818241,
         24.134514800272882,
         24.23101037647575,
         24.306959780864418,
         24.142285297624767,
         24.313874079845846,
         24.359776250086725,
         24.33104633446783,
         24.23632177617401,
         24.104032977484167,
         24.274675897322595,
         24.132359615527093,
         24.40750158485025,
         24.258477811701596,
         24.130271068774164,
         24.195071070455015,
         24.25690611358732,
         24.200544896535575,
         24.078851693309844,
         24.116860567592084,
         24.23975686263293,
         24.185458010993898,
         24.325951936654747,
         24.232384792529047,
         24.066558905877173,
         23.983181498013437,
         24.309179111383855,
         24.19710701610893,
         24.170540905557573,
         24.232882167212665,
         24.056135299615562,
         24.21658271830529,
         24.282084464095533,
         24.132311745546758,
         24.122893563471735,
         24.208340070210397,
         24.244088145904243,
         24.108627003617585,
         24.081760591827333,
         23.974368981085718,
         24.19654197152704,
         24.11812950205058,
         24.07503706868738,
         24.12384346779436,
         24.280465862713754,
         24.320814992301166,
         24.287354203872383,
         24.180573756806552,
         23.94513368140906,
         24.267394240014255,
         24.24867646303028,
         24.288756295107305,
         24.40907025616616,
         24.24876261409372,
         23.933031781576574
        ],
        [
         3.6682915743402016,
         3.6722671901761377,
         3.657376503508602,
         3.698474860648518,
         3.6766906137292787,
         3.671089989156106,
         3.661833307593152,
         3.6780403170928055,
         3.6801036041245974,
         3.6858220933872845,
         3.6895612016508514,
         3.6714354635760036,
         3.6592349213896487,
         3.6720141834960667,
         3.6870211095152445,
         3.682192142807134,
         3.6799327424178916,
         3.6842369225838465,
         3.6776793259677065,
         3.6715177834834503,
         3.6705503829042834,
         3.6814930536188775,
         3.6888908499740323,
         3.6798698051046657,
         3.6612629883076253,
         3.6817438097000124,
         3.693295330654109,
         3.6668970046819527,
         3.6729917585317615,
         3.675580338992586,
         3.664659366470304,
         3.670488537668579,
         3.6811865169314744,
         3.672484181307261,
         3.664519508440485,
         3.6809012879006535,
         3.68677402011656,
         3.697858090748615,
         3.6716774061486483,
         3.656807882607,
         3.698674337200736,
         3.6761101195914923,
         3.668455316139613,
         3.6702397566397975,
         3.655239557823709,
         3.671172671792465,
         3.666269504170857,
         3.6679474186771532,
         3.6716081517316552,
         3.6803374568367313,
         3.6861223794331357,
         3.6942390556843603,
         3.6965265094905324,
         3.6771292679470875,
         3.6779249482102627,
         3.669106685743804,
         3.6622752914547654,
         3.6723739198269754,
         3.677929166719011,
         3.661931221801342,
         3.675906879490471,
         3.6590738041074324,
         3.684654972283741,
         3.6629537951063114,
         3.6711987796006413,
         3.671446000151099,
         3.6696115491726564,
         3.6822343026668105,
         3.6793411341459774,
         3.6675202943254637,
         3.669995415507013,
         3.691262793646291,
         3.6780996782765785,
         3.672792829078405,
         3.670494863442614,
         3.65783912613217,
         3.675478294123788,
         3.6740136569732376,
         3.6654011666661335,
         3.6814078853599606,
         3.6784121940906727,
         3.663278664384336,
         3.6788573691780706,
         3.6614838632578945,
         3.6638350816277843,
         3.683071524104764,
         3.6874438150256528,
         3.6541604977379123,
         3.6776111703900347,
         3.670988076852204,
         3.69441563700972,
         3.6723767075263294,
         3.6777573925575138,
         3.6513378914937293,
         3.6727374166084763,
         3.681914320777729,
         3.692100624072563,
         3.6904547098894045,
         3.6826741246095698,
         3.6594953360075393
        ]
       ],
       "encoder": "json",
       "name": "ABC_GAN_1 Metrics",
       "version": 1
      }
     },
     "metadata": {
      "scrapbook": {
       "data": true,
       "display": false,
       "name": "ABC_GAN_1 Metrics"
      }
     },
     "output_type": "display_data"
    },
    {
     "name": "stdout",
     "output_type": "stream",
     "text": [
      "MSE\n",
      "0.13241026962125158\n"
     ]
    }
   ],
   "source": [
    "ABC_GAN1_metrics=ABC_train_test2.test_generator(gen,test_data,prior_model,variance,0,\"1\",device)\n",
    "sb.glue(\"ABC_GAN_1 Metrics\",ABC_GAN1_metrics)\n",
    "\n",
    "print(\"MSE\")\n",
    "print(mean(ABC_GAN1_metrics[0]))"
   ]
  },
  {
   "cell_type": "code",
   "execution_count": 14,
   "id": "eb22ce5c",
   "metadata": {
    "execution": {
     "iopub.execute_input": "2022-03-11T10:45:13.029465Z",
     "iopub.status.busy": "2022-03-11T10:45:13.029080Z",
     "iopub.status.idle": "2022-03-11T10:45:13.351185Z",
     "shell.execute_reply": "2022-03-11T10:45:13.351484Z"
    },
    "papermill": {
     "duration": 0.336848,
     "end_time": "2022-03-11T10:45:13.351605",
     "exception": false,
     "start_time": "2022-03-11T10:45:13.014757",
     "status": "completed"
    },
    "tags": []
   },
   "outputs": [
    {
     "data": {
      "image/png": "[encoded data removed]",
      "text/plain": [
       "<Figure size 432x288 with 1 Axes>"
      ]
     },
     "metadata": {
      "needs_background": "light"
     },
     "output_type": "display_data"
    },
    {
     "data": {
      "image/png": "[encoded data removed]",
      "text/plain": [
       "<Figure size 432x288 with 1 Axes>"
      ]
     },
     "metadata": {
      "needs_background": "light"
     },
     "output_type": "display_data"
    },
    {
     "data": {
      "image/png": "[encoded data removed]",
      "text/plain": [
       "<Figure size 432x288 with 1 Axes>"
      ]
     },
     "metadata": {
      "needs_background": "light"
     },
     "output_type": "display_data"
    },
    {
     "data": {
      "image/png": "[encoded data removed]",
      "text/plain": [
       "<Figure size 432x288 with 1 Axes>"
      ]
     },
     "metadata": {
      "needs_background": "light"
     },
     "output_type": "display_data"
    }
   ],
   "source": [
    "sanityChecks.discProbVsError(train_data,disc,device)\n",
    "sanityChecks.discProbVsError(test_data,disc,device)"
   ]
  },
  {
   "cell_type": "markdown",
   "id": "130f3a4d",
   "metadata": {
    "id": "130f3a4d",
    "papermill": {
     "duration": 0.014564,
     "end_time": "2022-03-11T10:45:13.381616",
     "exception": false,
     "start_time": "2022-03-11T10:45:13.367052",
     "status": "completed"
    },
    "tags": []
   },
   "source": [
    "# ABC - GAN Model with skip connection"
   ]
  },
  {
   "cell_type": "code",
   "execution_count": 15,
   "id": "4e43dad1",
   "metadata": {
    "execution": {
     "iopub.execute_input": "2022-03-11T10:45:13.420943Z",
     "iopub.status.busy": "2022-03-11T10:45:13.419437Z",
     "iopub.status.idle": "2022-03-11T10:45:13.423842Z",
     "shell.execute_reply": "2022-03-11T10:45:13.424480Z"
    },
    "id": "4e43dad1",
    "papermill": {
     "duration": 0.028494,
     "end_time": "2022-03-11T10:45:13.424811",
     "exception": false,
     "start_time": "2022-03-11T10:45:13.396317",
     "status": "completed"
    },
    "tags": []
   },
   "outputs": [],
   "source": [
    "#Generator\n",
    "gen3 = network.GeneratorWithSkipConnection(n_features+1).to(device)\n",
    "constraints=network.weightConstraint()\n",
    "#Discriminator \n",
    "disc3 = network.Discriminator(n_features+1).to(device)\n",
    "\n",
    "criterion = torch.nn.BCELoss()\n",
    "gen_opt = torch.optim.Adam(gen3.parameters(), lr=0.001, betas=(0.5, 0.999))\n",
    "disc_opt = torch.optim.Adam(disc3.parameters(), lr=0.001, betas=(0.5, 0.999))\n"
   ]
  },
  {
   "cell_type": "code",
   "execution_count": 16,
   "id": "26acbc37",
   "metadata": {
    "execution": {
     "iopub.execute_input": "2022-03-11T10:45:13.458594Z",
     "iopub.status.busy": "2022-03-11T10:45:13.458217Z",
     "iopub.status.idle": "2022-03-11T10:47:43.076431Z",
     "shell.execute_reply": "2022-03-11T10:47:43.076748Z"
    },
    "id": "26acbc37",
    "papermill": {
     "duration": 149.635828,
     "end_time": "2022-03-11T10:47:43.076869",
     "exception": false,
     "start_time": "2022-03-11T10:45:13.441041",
     "status": "completed"
    },
    "tags": []
   },
   "outputs": [
    {
     "data": {
      "image/png": "[encoded data removed]",
      "text/plain": [
       "<Figure size 432x288 with 1 Axes>"
      ]
     },
     "metadata": {
      "needs_background": "light"
     },
     "output_type": "display_data"
    },
    {
     "data": {
      "image/png": "[encoded data removed]",
      "text/plain": [
       "<Figure size 432x288 with 1 Axes>"
      ]
     },
     "metadata": {
      "needs_background": "light"
     },
     "output_type": "display_data"
    }
   ],
   "source": [
    "ABC_train_test2.training_GAN_skip_connection(disc3,gen3,disc_opt,gen_opt,train_data,batch_size,n_epochs,criterion,prior_model,variance,0,device)"
   ]
  },
  {
   "cell_type": "code",
   "execution_count": 17,
   "id": "c5e0717b",
   "metadata": {
    "execution": {
     "iopub.execute_input": "2022-03-11T10:47:43.111135Z",
     "iopub.status.busy": "2022-03-11T10:47:43.110765Z",
     "iopub.status.idle": "2022-03-11T10:47:43.932369Z",
     "shell.execute_reply": "2022-03-11T10:47:43.932673Z"
    },
    "id": "c5e0717b",
    "papermill": {
     "duration": 0.840019,
     "end_time": "2022-03-11T10:47:43.932795",
     "exception": false,
     "start_time": "2022-03-11T10:47:43.092776",
     "status": "completed"
    },
    "tags": []
   },
   "outputs": [
    {
     "data": {
      "application/scrapbook.scrap.json+json": {
       "data": 0.1129997608087928,
       "encoder": "json",
       "name": "ABC-GAN Model 3 MSE",
       "version": 1
      }
     },
     "metadata": {
      "scrapbook": {
       "data": true,
       "display": false,
       "name": "ABC-GAN Model 3 MSE"
      }
     },
     "output_type": "display_data"
    },
    {
     "data": {
      "application/scrapbook.scrap.json+json": {
       "data": 0.23271177305693866,
       "encoder": "json",
       "name": "ABC-GAN Model 3 MAE",
       "version": 1
      }
     },
     "metadata": {
      "scrapbook": {
       "data": true,
       "display": false,
       "name": "ABC-GAN Model 3 MAE"
      }
     },
     "output_type": "display_data"
    },
    {
     "data": {
      "application/scrapbook.scrap.json+json": {
       "data": 23.736600851807744,
       "encoder": "json",
       "name": "ABC-GAN Model 3 Manhattan Distance",
       "version": 1
      }
     },
     "metadata": {
      "scrapbook": {
       "data": true,
       "display": false,
       "name": "ABC-GAN Model 3 Manhattan Distance"
      }
     },
     "output_type": "display_data"
    },
    {
     "data": {
      "application/scrapbook.scrap.json+json": {
       "data": 3.3949722629563963,
       "encoder": "json",
       "name": "ABC-GAN Model 3 Euclidean distance",
       "version": 1
      }
     },
     "metadata": {
      "scrapbook": {
       "data": true,
       "display": false,
       "name": "ABC-GAN Model 3 Euclidean distance"
      }
     },
     "output_type": "display_data"
    },
    {
     "data": {
      "application/scrapbook.scrap.json+json": {
       "data": [
        [
         0.11399002249367281,
         0.111432842496764,
         0.11279791063919715,
         0.11423411348522568,
         0.1122636807247737,
         0.11254819150303043,
         0.11266923780367535,
         0.11323872703948086,
         0.11286348073519327,
         0.11351175933178556,
         0.11166858829179376,
         0.113799223776393,
         0.11359625305362034,
         0.11324327370519242,
         0.11259624475917027,
         0.11304550763855158,
         0.1124346916668646,
         0.1133291487321016,
         0.11269774728287336,
         0.11223142967025138,
         0.11230290403063656,
         0.11419410319414798,
         0.11363133744318038,
         0.11301546897833598,
         0.11257251531603213,
         0.11363637212286262,
         0.11267777135326833,
         0.11091312652547465,
         0.11268313588459039,
         0.1136363190963884,
         0.11254207526989825,
         0.11264691791474181,
         0.11285617945922634,
         0.11361983100659526,
         0.11288489640455666,
         0.11452022068778082,
         0.11407805037143312,
         0.11321694696522303,
         0.11363730803765189,
         0.11320994155404585,
         0.11383354610820141,
         0.11333541582331592,
         0.11231311790514772,
         0.1140797176600229,
         0.1120090725459838,
         0.11315701276361015,
         0.11344028044812861,
         0.11192223981043459,
         0.11244159807082445,
         0.11178655829934245,
         0.11378811078927534,
         0.11354657302879075,
         0.11452535934182069,
         0.11284734216705163,
         0.11396339578410637,
         0.11290851725833415,
         0.1147615142054702,
         0.11333657843067184,
         0.1124147875720961,
         0.11245925895237374,
         0.11404692998251602,
         0.11343500982425206,
         0.11372167243110325,
         0.1127319736793081,
         0.11372045316579571,
         0.11341595584328987,
         0.11208640268698895,
         0.1126923310786169,
         0.11305205521566873,
         0.11225561447542506,
         0.11235091614340527,
         0.11248707346793586,
         0.1122757550872484,
         0.11255032360143438,
         0.11263696631770939,
         0.11252517213943801,
         0.11269142868249464,
         0.112880811671357,
         0.11202268334056051,
         0.11245885636054462,
         0.11448589101429887,
         0.11343456026968138,
         0.1121626368638621,
         0.11471724212066431,
         0.11352163389943659,
         0.11352103104399251,
         0.11251780187344308,
         0.11282165726228371,
         0.11263320394632209,
         0.11334128339766196,
         0.11308732616254395,
         0.11395279900693328,
         0.1128406839296821,
         0.11068392213606852,
         0.11303983596330025,
         0.11189047783031643,
         0.11372791135083601,
         0.11348347076761849,
         0.11268896614142498,
         0.11184786729313231
        ],
        [
         0.23332739330134264,
         0.22936716053963585,
         0.23262412918220257,
         0.2339069752442632,
         0.2338026617014525,
         0.23256491499898188,
         0.2327689511573636,
         0.23204871231470914,
         0.23171849272159092,
         0.2329836444034442,
         0.23161201656558641,
         0.23266199671243334,
         0.23432170121254875,
         0.23318066245273633,
         0.23331327709898936,
         0.23430596641721388,
         0.2320869543553129,
         0.23354376227065338,
         0.23271688776017696,
         0.23103463004215383,
         0.23399410415075572,
         0.23330545776030598,
         0.2331542598686236,
         0.23363633667502334,
         0.23363221917922297,
         0.23324741400303503,
         0.23298487601363482,
         0.22998963054452165,
         0.23157495569766445,
         0.23377942228141954,
         0.2326526864541366,
         0.2331486571598433,
         0.23244826348644554,
         0.2341368731987827,
         0.2321678686558324,
         0.23478866230659917,
         0.23413249168216305,
         0.23264438107463659,
         0.23342066197016953,
         0.23275372310194606,
         0.23298295756217605,
         0.2328658150600306,
         0.22999371357225612,
         0.23427318530522434,
         0.2321103761045664,
         0.23221802933360725,
         0.23377088688350484,
         0.23197847143655606,
         0.2324461649245053,
         0.23197797621034233,
         0.23282843232885295,
         0.23285965748386933,
         0.23504549439302555,
         0.2337990169340343,
         0.23330895623703504,
         0.23203307024075412,
         0.23414129334702796,
         0.23338469405494192,
         0.2334598448931002,
         0.23146934143504969,
         0.2329126532993042,
         0.2331363205688403,
         0.2341296661955615,
         0.23293722495801894,
         0.2343378861927811,
         0.23405954748501673,
         0.23067053789090292,
         0.2326316237449646,
         0.23274249467523953,
         0.2309372346647376,
         0.2322715081402338,
         0.23199194599417786,
         0.2308340582759211,
         0.2311533594266603,
         0.23127858971665596,
         0.2324635871576474,
         0.23210234040686606,
         0.23157322895256618,
         0.23050293106330083,
         0.23241108552753634,
         0.2341348911343398,
         0.23220211598912582,
         0.23251644535647595,
         0.23519787498220218,
         0.2324863518588245,
         0.2326221468164494,
         0.2323762587289892,
         0.23235756718535341,
         0.23111112454139135,
         0.2344697225638026,
         0.2333626004173329,
         0.23270335399052677,
         0.23291612946994456,
         0.22885356420724123,
         0.2325332791215795,
         0.2323599743255067,
         0.23387156475298837,
         0.2337968521386239,
         0.23239306580530955,
         0.23140338451291123
        ],
        [
         23.79939411673695,
         23.395450375042856,
         23.72766117658466,
         23.85851147491485,
         23.847871493548155,
         23.721621329896152,
         23.742433018051088,
         23.668968656100333,
         23.635286257602274,
         23.76433172915131,
         23.624425689689815,
         23.731523664668202,
         23.90081352367997,
         23.784427570179105,
         23.797954264096916,
         23.899208574555814,
         23.672869344241917,
         23.821463751606643,
         23.73712255153805,
         23.56553226429969,
         23.867398623377085,
         23.79715669155121,
         23.781734506599605,
         23.83090634085238,
         23.830486356280744,
         23.79123622830957,
         23.764457353390753,
         23.458942315541208,
         23.620645481161773,
         23.845501072704792,
         23.73057401832193,
         23.781163030304015,
         23.709722875617445,
         23.881961066275835,
         23.681122602894902,
         23.948443555273116,
         23.88151415158063,
         23.729726869612932,
         23.80890752095729,
         23.7408797563985,
         23.764261671341956,
         23.75231313612312,
         23.459358784370124,
         23.89586490113288,
         23.675258362665772,
         23.68623899202794,
         23.844630462117493,
         23.66180408652872,
         23.70950882229954,
         23.661753573454916,
         23.748500097543,
         23.75168506335467,
         23.974640428088605,
         23.847499727271497,
         23.797513536177576,
         23.66737316455692,
         23.88241192139685,
         23.805238793604076,
         23.812904179096222,
         23.609872826375067,
         23.75709063652903,
         23.77990469802171,
         23.881225951947272,
         23.75959694571793,
         23.90246439166367,
         23.874073843471706,
         23.528394864872098,
         23.72842562198639,
         23.73973445687443,
         23.555597935803235,
         23.691693830303848,
         23.663178491406143,
         23.54507394414395,
         23.57764266151935,
         23.590416151098907,
         23.711285890080035,
         23.674438721500337,
         23.620469353161752,
         23.511298968456686,
         23.705930723808706,
         23.88175889570266,
         23.684615830890834,
         23.716677426360548,
         23.99018324818462,
         23.713607889600098,
         23.72745897527784,
         23.7023783903569,
         23.70047185290605,
         23.573334703221917,
         23.915911701507866,
         23.802985242567956,
         23.73574210703373,
         23.757445205934346,
         23.343063549138606,
         23.71839447040111,
         23.700717381201684,
         23.854899604804814,
         23.847278918139637,
         23.704092712141573,
         23.603145220316947
        ],
        [
         3.409836109603308,
         3.3713721145358497,
         3.391959151463665,
         3.413484960490235,
         3.383917173029936,
         3.388202404418765,
         3.390023931475246,
         3.398580609317226,
         3.3929448912397198,
         3.4026753374135077,
         3.3749364446998045,
         3.4069811894391324,
         3.4039415111704363,
         3.398648837101242,
         3.3889256358668245,
         3.3956798699424326,
         3.3864935479076563,
         3.3999372304021085,
         3.390452804988308,
         3.3834310730921713,
         3.3845082672561055,
         3.4128871246794983,
         3.404467127055921,
         3.3952286868177612,
         3.388568512253409,
         3.404542547322911,
         3.390152308972764,
         3.363500989385674,
         3.39023300972488,
         3.404541752986973,
         3.3881103402235326,
         3.3896881312745655,
         3.392835142596982,
         3.4042947526136325,
         3.393266778970491,
         3.4177569413511018,
         3.4111524647670284,
         3.3982537560418797,
         3.4045565672845686,
         3.3981486192502928,
         3.4074949307426032,
         3.4000312372062433,
         3.3846621731459496,
         3.411177392238981,
         3.3800777209541133,
         3.3973541619749086,
         3.4016038284475627,
         3.378767298981142,
         3.386597555545107,
         3.3767186655883736,
         3.4068148321424925,
         3.403197092284938,
         3.417833619833726,
         3.3927023006799852,
         3.4094378378229524,
         3.3936217762664826,
         3.4213556449100637,
         3.4000486761116417,
         3.3861937824574957,
         3.3868635067185857,
         3.4106871533778396,
         3.4015248054473606,
         3.405820105051429,
         3.390967607525826,
         3.4058018472763734,
         3.401239111855496,
         3.3812443085457256,
         3.390371332172763,
         3.3957782071269333,
         3.383795602055974,
         3.3852316680882173,
         3.3872823168034665,
         3.384099144366094,
         3.3882344971011524,
         3.3895383999014324,
         3.3878558939575156,
         3.3903577577616275,
         3.393205385837765,
         3.3802830799708428,
         3.3868574444129695,
         3.4172446332474467,
         3.401518065144958,
         3.38239396879103,
         3.4206956450856247,
         3.402823336252197,
         3.4028143009114147,
         3.3877449418589927,
         3.3923161764129444,
         3.3894817896729963,
         3.4001192488737098,
         3.396307887777473,
         3.4092793224825666,
         3.3926022108151095,
         3.3600238180523343,
         3.3955946855089496,
         3.378287841302495,
         3.405913527643541,
         3.402251316157741,
         3.390320714390505,
         3.3776445141399187
        ]
       ],
       "encoder": "json",
       "name": "ABC_GAN_3 Metrics",
       "version": 1
      }
     },
     "metadata": {
      "scrapbook": {
       "data": true,
       "display": false,
       "name": "ABC_GAN_3 Metrics"
      }
     },
     "output_type": "display_data"
    },
    {
     "name": "stdout",
     "output_type": "stream",
     "text": [
      "MSE\n",
      "0.1129997608087928\n"
     ]
    }
   ],
   "source": [
    "ABC_GAN3_metrics=ABC_train_test2.test_generator(gen3,test_data,prior_model,variance,0,\"3\",device)\n",
    "sb.glue(\"ABC_GAN_3 Metrics\",ABC_GAN3_metrics)\n",
    "\n",
    "print(\"MSE\")\n",
    "print(mean(ABC_GAN3_metrics[0]))"
   ]
  },
  {
   "cell_type": "code",
   "execution_count": 18,
   "id": "c8e46b48",
   "metadata": {
    "execution": {
     "iopub.execute_input": "2022-03-11T10:47:43.970157Z",
     "iopub.status.busy": "2022-03-11T10:47:43.969793Z",
     "iopub.status.idle": "2022-03-11T10:47:44.293617Z",
     "shell.execute_reply": "2022-03-11T10:47:44.293931Z"
    },
    "id": "c8e46b48",
    "papermill": {
     "duration": 0.343523,
     "end_time": "2022-03-11T10:47:44.294059",
     "exception": false,
     "start_time": "2022-03-11T10:47:43.950536",
     "status": "completed"
    },
    "tags": []
   },
   "outputs": [
    {
     "data": {
      "image/png": "[encoded data removed]",
      "text/plain": [
       "<Figure size 432x288 with 1 Axes>"
      ]
     },
     "metadata": {
      "needs_background": "light"
     },
     "output_type": "display_data"
    },
    {
     "data": {
      "image/png": "[encoded data removed]",
      "text/plain": [
       "<Figure size 432x288 with 1 Axes>"
      ]
     },
     "metadata": {
      "needs_background": "light"
     },
     "output_type": "display_data"
    },
    {
     "data": {
      "image/png": "[encoded data removed]",
      "text/plain": [
       "<Figure size 432x288 with 1 Axes>"
      ]
     },
     "metadata": {
      "needs_background": "light"
     },
     "output_type": "display_data"
    },
    {
     "data": {
      "image/png": "[encoded data removed]",
      "text/plain": [
       "<Figure size 432x288 with 1 Axes>"
      ]
     },
     "metadata": {
      "needs_background": "light"
     },
     "output_type": "display_data"
    }
   ],
   "source": [
    "sanityChecks.discProbVsError(train_data,disc3,device)\n",
    "sanityChecks.discProbVsError(test_data,disc3,device)"
   ]
  },
  {
   "cell_type": "markdown",
   "id": "a5bd74c3",
   "metadata": {
    "id": "a5bd74c3",
    "papermill": {
     "duration": 0.019368,
     "end_time": "2022-03-11T10:47:44.333210",
     "exception": false,
     "start_time": "2022-03-11T10:47:44.313842",
     "status": "completed"
    },
    "tags": []
   },
   "source": [
    "## Skip Connection Model Analysis - ABC-GAN "
   ]
  },
  {
   "cell_type": "markdown",
   "id": "5744a8bf",
   "metadata": {
    "id": "5744a8bf",
    "papermill": {
     "duration": 0.019351,
     "end_time": "2022-03-11T10:47:44.371890",
     "exception": false,
     "start_time": "2022-03-11T10:47:44.352539",
     "status": "completed"
    },
    "tags": []
   },
   "source": [
    "### Weight Analysis \n",
    "\n",
    "Study the weights of the skip connection layer\n",
    "\n",
    "Equation of the skip connection is \n",
    "\n",
    "$output = y_{gan} * w + y_{abc} * (1-w)$"
   ]
  },
  {
   "cell_type": "code",
   "execution_count": 19,
   "id": "52c31dea",
   "metadata": {
    "execution": {
     "iopub.execute_input": "2022-03-11T10:47:44.413819Z",
     "iopub.status.busy": "2022-03-11T10:47:44.413430Z",
     "iopub.status.idle": "2022-03-11T10:47:44.416976Z",
     "shell.execute_reply": "2022-03-11T10:47:44.417221Z"
    },
    "id": "52c31dea",
    "papermill": {
     "duration": 0.025791,
     "end_time": "2022-03-11T10:47:44.417336",
     "exception": false,
     "start_time": "2022-03-11T10:47:44.391545",
     "status": "completed"
    },
    "tags": []
   },
   "outputs": [
    {
     "name": "stdout",
     "output_type": "stream",
     "text": [
      "Weight of the node at skip connection\n",
      "Parameter containing:\n",
      "tensor([[0.2488]], requires_grad=True)\n"
     ]
    },
    {
     "data": {
      "application/scrapbook.scrap.json+json": {
       "data": 0.248849019408226,
       "encoder": "json",
       "name": "Skip Connection Weight",
       "version": 1
      }
     },
     "metadata": {
      "scrapbook": {
       "data": true,
       "display": false,
       "name": "Skip Connection Weight"
      }
     },
     "output_type": "display_data"
    }
   ],
   "source": [
    "print(\"Weight of the node at skip connection\")\n",
    "for name,param in gen3.named_parameters():\n",
    "    if(name == \"skipNode.weight\"):\n",
    "        print(param)\n",
    "        sb.glue(\"Skip Connection Weight\",param.item())"
   ]
  }
 ],
 "metadata": {
  "colab": {
   "collapsed_sections": [],
   "name": "ABC_GAN_Model-Catboost_Pre-gen.ipynb",
   "provenance": []
  },
  "interpreter": {
   "hash": "31f2aee4e71d21fbe5cf8b01ff0e069b9275f58929596ceb00d14d90e3e16cd6"
  },
  "kernelspec": {
   "display_name": "Python 3 (ipykernel)",
   "language": "python",
   "name": "python3"
  },
  "language_info": {
   "codemirror_mode": {
    "name": "ipython",
    "version": 3
   },
   "file_extension": ".py",
   "mimetype": "text/x-python",
   "name": "python",
   "nbconvert_exporter": "python",
   "pygments_lexer": "ipython3",
   "version": "3.8.11"
  },
  "papermill": {
   "default_parameters": {},
   "duration": 192.239454,
   "end_time": "2022-03-11T10:47:44.747605",
   "environment_variables": {},
   "exception": null,
   "input_path": "ABC_GAN-Catboost.ipynb",
   "output_path": "./ABC_GAN_Catboost/ABC-GAN_output_8_2.ipynb",
   "parameters": {
    "variance": 0.01
   },
   "start_time": "2022-03-11T10:44:32.508151",
   "version": "2.3.3"
  }
 },
 "nbformat": 4,
 "nbformat_minor": 5
}