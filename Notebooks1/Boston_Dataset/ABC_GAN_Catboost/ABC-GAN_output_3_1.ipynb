{
 "cells": [
  {
   "cell_type": "markdown",
   "id": "622780e6",
   "metadata": {
    "id": "622780e6",
    "papermill": {
     "duration": 0.034184,
     "end_time": "2022-03-11T09:53:11.664953",
     "exception": false,
     "start_time": "2022-03-11T09:53:11.630769",
     "status": "completed"
    },
    "tags": []
   },
   "source": [
    "## Import Libraries "
   ]
  },
  {
   "cell_type": "code",
   "execution_count": 1,
   "id": "a62397e3",
   "metadata": {
    "execution": {
     "iopub.execute_input": "2022-03-11T09:53:11.700657Z",
     "iopub.status.busy": "2022-03-11T09:53:11.700109Z",
     "iopub.status.idle": "2022-03-11T09:53:11.702151Z",
     "shell.execute_reply": "2022-03-11T09:53:11.702477Z"
    },
    "id": "a62397e3",
    "papermill": {
     "duration": 0.021622,
     "end_time": "2022-03-11T09:53:11.702688",
     "exception": false,
     "start_time": "2022-03-11T09:53:11.681066",
     "status": "completed"
    },
    "tags": []
   },
   "outputs": [],
   "source": [
    "import warnings\n",
    "import sys\n",
    "sys.path.insert(0, '../../src')\n",
    "warnings.filterwarnings('ignore')"
   ]
  },
  {
   "cell_type": "code",
   "execution_count": 2,
   "id": "d6a4e155",
   "metadata": {
    "execution": {
     "iopub.execute_input": "2022-03-11T09:53:11.723149Z",
     "iopub.status.busy": "2022-03-11T09:53:11.722733Z",
     "iopub.status.idle": "2022-03-11T09:53:13.465206Z",
     "shell.execute_reply": "2022-03-11T09:53:13.465466Z"
    },
    "id": "d6a4e155",
    "papermill": {
     "duration": 1.753219,
     "end_time": "2022-03-11T09:53:13.465589",
     "exception": false,
     "start_time": "2022-03-11T09:53:11.712370",
     "status": "completed"
    },
    "tags": []
   },
   "outputs": [],
   "source": [
    "import ABC_train_test2\n",
    "import bostonDataset\n",
    "import network\n",
    "import dataset\n",
    "import sanityChecks\n",
    "import torch \n",
    "import scrapbook as sb\n",
    "from statistics import mean \n",
    "import catboost as ctb \n",
    "from sklearn.model_selection import train_test_split\n",
    "from sklearn.metrics import mean_squared_error,mean_absolute_error\n",
    "import numpy as np"
   ]
  },
  {
   "cell_type": "markdown",
   "id": "2fa5b0f7",
   "metadata": {
    "id": "2fa5b0f7",
    "papermill": {
     "duration": 0.006779,
     "end_time": "2022-03-11T09:53:13.479502",
     "exception": false,
     "start_time": "2022-03-11T09:53:13.472723",
     "status": "completed"
    },
    "tags": []
   },
   "source": [
    "## Parameters "
   ]
  },
  {
   "cell_type": "code",
   "execution_count": 3,
   "id": "783186fb",
   "metadata": {
    "execution": {
     "iopub.execute_input": "2022-03-11T09:53:13.495237Z",
     "iopub.status.busy": "2022-03-11T09:53:13.494862Z",
     "iopub.status.idle": "2022-03-11T09:53:13.496152Z",
     "shell.execute_reply": "2022-03-11T09:53:13.496410Z"
    },
    "id": "783186fb",
    "papermill": {
     "duration": 0.010288,
     "end_time": "2022-03-11T09:53:13.496522",
     "exception": false,
     "start_time": "2022-03-11T09:53:13.486234",
     "status": "completed"
    },
    "tags": [
     "parameters"
    ]
   },
   "outputs": [],
   "source": [
    "variance = 1"
   ]
  },
  {
   "cell_type": "code",
   "execution_count": 4,
   "id": "6cb36a70",
   "metadata": {
    "execution": {
     "iopub.execute_input": "2022-03-11T09:53:13.512105Z",
     "iopub.status.busy": "2022-03-11T09:53:13.511704Z",
     "iopub.status.idle": "2022-03-11T09:53:13.512782Z",
     "shell.execute_reply": "2022-03-11T09:53:13.513020Z"
    },
    "papermill": {
     "duration": 0.009701,
     "end_time": "2022-03-11T09:53:13.513124",
     "exception": false,
     "start_time": "2022-03-11T09:53:13.503423",
     "status": "completed"
    },
    "tags": [
     "injected-parameters"
    ]
   },
   "outputs": [],
   "source": [
    "# Parameters\n",
    "variance = 0.1\n"
   ]
  },
  {
   "cell_type": "markdown",
   "id": "391cdbfd",
   "metadata": {
    "id": "391cdbfd",
    "papermill": {
     "duration": 0.006782,
     "end_time": "2022-03-11T09:53:13.526837",
     "exception": false,
     "start_time": "2022-03-11T09:53:13.520055",
     "status": "completed"
    },
    "tags": []
   },
   "source": [
    "## Dataset \n"
   ]
  },
  {
   "cell_type": "code",
   "execution_count": 5,
   "id": "5b51f161",
   "metadata": {
    "execution": {
     "iopub.execute_input": "2022-03-11T09:53:13.543218Z",
     "iopub.status.busy": "2022-03-11T09:53:13.542857Z",
     "iopub.status.idle": "2022-03-11T09:53:13.544050Z",
     "shell.execute_reply": "2022-03-11T09:53:13.544296Z"
    },
    "id": "5b51f161",
    "papermill": {
     "duration": 0.01032,
     "end_time": "2022-03-11T09:53:13.544405",
     "exception": false,
     "start_time": "2022-03-11T09:53:13.534085",
     "status": "completed"
    },
    "tags": []
   },
   "outputs": [],
   "source": [
    "#Parameters \n",
    "n_features = 13\n",
    "n_samples= 506\n",
    "n_target = 1 "
   ]
  },
  {
   "cell_type": "code",
   "execution_count": 6,
   "id": "5d6eced4",
   "metadata": {
    "execution": {
     "iopub.execute_input": "2022-03-11T09:53:13.560088Z",
     "iopub.status.busy": "2022-03-11T09:53:13.559678Z",
     "iopub.status.idle": "2022-03-11T09:53:13.571131Z",
     "shell.execute_reply": "2022-03-11T09:53:13.571384Z"
    },
    "id": "5d6eced4",
    "papermill": {
     "duration": 0.020219,
     "end_time": "2022-03-11T09:53:13.571497",
     "exception": false,
     "start_time": "2022-03-11T09:53:13.551278",
     "status": "completed"
    },
    "tags": []
   },
   "outputs": [
    {
     "name": "stdout",
     "output_type": "stream",
     "text": [
      "         X1        X2        X3        X4        X5        X6        X7  \\\n",
      "0 -0.419782  0.284830 -1.287909 -0.272599 -0.144217  0.413672 -0.120013   \n",
      "1 -0.417339 -0.487722 -0.593381 -0.272599 -0.740262  0.194274  0.367166   \n",
      "2 -0.417342 -0.487722 -0.593381 -0.272599 -0.740262  1.282714 -0.265812   \n",
      "3 -0.416750 -0.487722 -1.306878 -0.272599 -0.835284  1.016303 -0.809889   \n",
      "4 -0.412482 -0.487722 -1.306878 -0.272599 -0.835284  1.228577 -0.511180   \n",
      "\n",
      "         X8        X9       X10       X11       X12       X13         Y  \n",
      "0  0.140214 -0.982843 -0.666608 -1.459000  0.441052 -1.075562  0.159686  \n",
      "1  0.557160 -0.867883 -0.987329 -0.303094  0.441052 -0.492439 -0.101524  \n",
      "2  0.557160 -0.867883 -0.987329 -0.303094  0.396427 -1.208727  1.324247  \n",
      "3  1.077737 -0.752922 -1.106115  0.113032  0.416163 -1.361517  1.182758  \n",
      "4  1.077737 -0.752922 -1.106115  0.113032  0.441052 -1.026501  1.487503  \n"
     ]
    }
   ],
   "source": [
    "X,Y = bostonDataset.boston_data()"
   ]
  },
  {
   "cell_type": "code",
   "execution_count": 7,
   "id": "fe007438",
   "metadata": {
    "execution": {
     "iopub.execute_input": "2022-03-11T09:53:13.588733Z",
     "iopub.status.busy": "2022-03-11T09:53:13.588370Z",
     "iopub.status.idle": "2022-03-11T09:53:13.589644Z",
     "shell.execute_reply": "2022-03-11T09:53:13.589925Z"
    },
    "id": "fe007438",
    "papermill": {
     "duration": 0.011154,
     "end_time": "2022-03-11T09:53:13.590029",
     "exception": false,
     "start_time": "2022-03-11T09:53:13.578875",
     "status": "completed"
    },
    "tags": []
   },
   "outputs": [],
   "source": [
    "#Train test split for dataset \n",
    "X_train,X_test,Y_train,Y_test = train_test_split(X,Y,test_size = 0.2)\n",
    "train_data = dataset.CustomDataset(X_train,Y_train)\n",
    "test_data = dataset.CustomDataset(X_test,Y_test)\n"
   ]
  },
  {
   "cell_type": "markdown",
   "id": "a9a1af34",
   "metadata": {
    "id": "a9a1af34",
    "papermill": {
     "duration": 0.007101,
     "end_time": "2022-03-11T09:53:13.604325",
     "exception": false,
     "start_time": "2022-03-11T09:53:13.597224",
     "status": "completed"
    },
    "tags": []
   },
   "source": [
    "## Training Parameters "
   ]
  },
  {
   "cell_type": "code",
   "execution_count": 8,
   "id": "952b7fc8",
   "metadata": {
    "execution": {
     "iopub.execute_input": "2022-03-11T09:53:13.620709Z",
     "iopub.status.busy": "2022-03-11T09:53:13.620316Z",
     "iopub.status.idle": "2022-03-11T09:53:13.621541Z",
     "shell.execute_reply": "2022-03-11T09:53:13.621778Z"
    },
    "id": "952b7fc8",
    "papermill": {
     "duration": 0.010486,
     "end_time": "2022-03-11T09:53:13.621883",
     "exception": false,
     "start_time": "2022-03-11T09:53:13.611397",
     "status": "completed"
    },
    "tags": []
   },
   "outputs": [],
   "source": [
    "batch_size = 64\n",
    "n_epochs = 1000\n",
    "#Select the device \n",
    "device = torch.device('cuda' if torch.cuda.is_available() else 'cpu')"
   ]
  },
  {
   "cell_type": "markdown",
   "id": "a95e1600",
   "metadata": {
    "id": "a95e1600",
    "papermill": {
     "duration": 0.007076,
     "end_time": "2022-03-11T09:53:13.636134",
     "exception": false,
     "start_time": "2022-03-11T09:53:13.629058",
     "status": "completed"
    },
    "tags": []
   },
   "source": [
    "# ABC Pre-generator Model \n",
    "\n",
    "1. The catboost model is used as a pre-generator model for the ABC-GAN. \n",
    "2. The model is first trained on the entire dataset \n",
    "3. It generats X,Y pairs and we add some Gaussian noise with mean 0 and variance 1 to it which is then feed as input to the generator.\n"
   ]
  },
  {
   "cell_type": "code",
   "execution_count": 9,
   "id": "ff8ce7bd",
   "metadata": {
    "execution": {
     "iopub.execute_input": "2022-03-11T09:53:13.655345Z",
     "iopub.status.busy": "2022-03-11T09:53:13.654967Z",
     "iopub.status.idle": "2022-03-11T09:53:14.621302Z",
     "shell.execute_reply": "2022-03-11T09:53:14.621601Z"
    },
    "id": "ff8ce7bd",
    "papermill": {
     "duration": 0.978427,
     "end_time": "2022-03-11T09:53:14.621724",
     "exception": false,
     "start_time": "2022-03-11T09:53:13.643297",
     "status": "completed"
    },
    "tags": []
   },
   "outputs": [
    {
     "name": "stdout",
     "output_type": "stream",
     "text": [
      "Learning rate set to 0.033215\n",
      "0:\tlearn: 0.9843891\ttotal: 58.7ms\tremaining: 58.6s\n",
      "1:\tlearn: 0.9654563\ttotal: 59.6ms\tremaining: 29.8s\n",
      "2:\tlearn: 0.9458395\ttotal: 60.6ms\tremaining: 20.1s\n",
      "3:\tlearn: 0.9281633\ttotal: 61.7ms\tremaining: 15.4s\n",
      "4:\tlearn: 0.9115267\ttotal: 62.7ms\tremaining: 12.5s\n",
      "5:\tlearn: 0.8972109\ttotal: 63.6ms\tremaining: 10.5s\n",
      "6:\tlearn: 0.8796831\ttotal: 64.6ms\tremaining: 9.17s\n",
      "7:\tlearn: 0.8632850\ttotal: 65.5ms\tremaining: 8.13s\n",
      "8:\tlearn: 0.8483129\ttotal: 66.4ms\tremaining: 7.31s\n",
      "9:\tlearn: 0.8317939\ttotal: 67.2ms\tremaining: 6.66s\n",
      "10:\tlearn: 0.8168781\ttotal: 68.1ms\tremaining: 6.12s\n",
      "11:\tlearn: 0.8018487\ttotal: 68.9ms\tremaining: 5.68s\n",
      "12:\tlearn: 0.7868753\ttotal: 69.7ms\tremaining: 5.29s\n",
      "13:\tlearn: 0.7715963\ttotal: 70.6ms\tremaining: 4.97s\n",
      "14:\tlearn: 0.7589389\ttotal: 71.3ms\tremaining: 4.68s\n",
      "15:\tlearn: 0.7453784\ttotal: 72.2ms\tremaining: 4.44s\n",
      "16:\tlearn: 0.7339494\ttotal: 73.1ms\tremaining: 4.23s\n",
      "17:\tlearn: 0.7216510\ttotal: 74ms\tremaining: 4.04s\n",
      "18:\tlearn: 0.7092113\ttotal: 74.8ms\tremaining: 3.86s\n",
      "19:\tlearn: 0.6972430\ttotal: 75.5ms\tremaining: 3.7s\n",
      "20:\tlearn: 0.6844785\ttotal: 76.8ms\tremaining: 3.58s\n",
      "21:\tlearn: 0.6737937\ttotal: 78.1ms\tremaining: 3.47s\n",
      "22:\tlearn: 0.6640397\ttotal: 80.3ms\tremaining: 3.41s\n",
      "23:\tlearn: 0.6542960\ttotal: 81.8ms\tremaining: 3.32s\n",
      "24:\tlearn: 0.6446631\ttotal: 82.6ms\tremaining: 3.22s\n",
      "25:\tlearn: 0.6355252\ttotal: 84.3ms\tremaining: 3.16s\n",
      "26:\tlearn: 0.6269300\ttotal: 85.5ms\tremaining: 3.08s\n",
      "27:\tlearn: 0.6178225\ttotal: 86.5ms\tremaining: 3s\n",
      "28:\tlearn: 0.6080649\ttotal: 87.3ms\tremaining: 2.92s\n",
      "29:\tlearn: 0.5979794\ttotal: 88.1ms\tremaining: 2.85s\n",
      "30:\tlearn: 0.5883830\ttotal: 88.9ms\tremaining: 2.78s\n",
      "31:\tlearn: 0.5804280\ttotal: 89.7ms\tremaining: 2.71s\n",
      "32:\tlearn: 0.5733006\ttotal: 90.6ms\tremaining: 2.65s\n",
      "33:\tlearn: 0.5655396\ttotal: 91.4ms\tremaining: 2.6s\n",
      "34:\tlearn: 0.5579659\ttotal: 92.2ms\tremaining: 2.54s\n",
      "35:\tlearn: 0.5505861\ttotal: 93.1ms\tremaining: 2.49s\n",
      "36:\tlearn: 0.5440954\ttotal: 94.1ms\tremaining: 2.45s\n",
      "37:\tlearn: 0.5374605\ttotal: 95ms\tremaining: 2.4s\n",
      "38:\tlearn: 0.5303510\ttotal: 95.9ms\tremaining: 2.36s\n",
      "39:\tlearn: 0.5226190\ttotal: 96.9ms\tremaining: 2.32s\n",
      "40:\tlearn: 0.5167497\ttotal: 97.8ms\tremaining: 2.29s\n",
      "41:\tlearn: 0.5105875\ttotal: 98.5ms\tremaining: 2.25s\n",
      "42:\tlearn: 0.5053172\ttotal: 99.3ms\tremaining: 2.21s\n",
      "43:\tlearn: 0.5004018\ttotal: 100ms\tremaining: 2.18s\n",
      "44:\tlearn: 0.4947433\ttotal: 101ms\tremaining: 2.14s\n",
      "45:\tlearn: 0.4892463\ttotal: 102ms\tremaining: 2.12s\n",
      "46:\tlearn: 0.4833364\ttotal: 103ms\tremaining: 2.09s\n",
      "47:\tlearn: 0.4774150\ttotal: 104ms\tremaining: 2.06s\n",
      "48:\tlearn: 0.4721417\ttotal: 105ms\tremaining: 2.04s\n",
      "49:\tlearn: 0.4673816\ttotal: 106ms\tremaining: 2.01s\n",
      "50:\tlearn: 0.4624104\ttotal: 106ms\tremaining: 1.98s\n",
      "51:\tlearn: 0.4580051\ttotal: 107ms\tremaining: 1.95s\n",
      "52:\tlearn: 0.4530913\ttotal: 108ms\tremaining: 1.93s\n"
     ]
    },
    {
     "name": "stdout",
     "output_type": "stream",
     "text": [
      "53:\tlearn: 0.4495339\ttotal: 109ms\tremaining: 1.91s\n",
      "54:\tlearn: 0.4451092\ttotal: 110ms\tremaining: 1.89s\n",
      "55:\tlearn: 0.4415913\ttotal: 111ms\tremaining: 1.87s\n",
      "56:\tlearn: 0.4367186\ttotal: 112ms\tremaining: 1.85s\n",
      "57:\tlearn: 0.4327797\ttotal: 112ms\tremaining: 1.83s\n",
      "58:\tlearn: 0.4293832\ttotal: 113ms\tremaining: 1.8s\n",
      "59:\tlearn: 0.4264699\ttotal: 114ms\tremaining: 1.78s\n",
      "60:\tlearn: 0.4226032\ttotal: 115ms\tremaining: 1.77s\n",
      "61:\tlearn: 0.4181415\ttotal: 116ms\tremaining: 1.75s\n",
      "62:\tlearn: 0.4150818\ttotal: 116ms\tremaining: 1.73s\n",
      "63:\tlearn: 0.4103767\ttotal: 117ms\tremaining: 1.71s\n",
      "64:\tlearn: 0.4077952\ttotal: 118ms\tremaining: 1.7s\n",
      "65:\tlearn: 0.4036579\ttotal: 119ms\tremaining: 1.68s\n",
      "66:\tlearn: 0.4002852\ttotal: 120ms\tremaining: 1.67s\n",
      "67:\tlearn: 0.3978236\ttotal: 120ms\tremaining: 1.65s\n",
      "68:\tlearn: 0.3945830\ttotal: 121ms\tremaining: 1.64s\n",
      "69:\tlearn: 0.3919167\ttotal: 122ms\tremaining: 1.62s\n",
      "70:\tlearn: 0.3891208\ttotal: 123ms\tremaining: 1.61s\n",
      "71:\tlearn: 0.3864874\ttotal: 124ms\tremaining: 1.59s\n",
      "72:\tlearn: 0.3839575\ttotal: 124ms\tremaining: 1.58s\n",
      "73:\tlearn: 0.3806480\ttotal: 125ms\tremaining: 1.57s\n",
      "74:\tlearn: 0.3771295\ttotal: 126ms\tremaining: 1.55s\n",
      "75:\tlearn: 0.3749826\ttotal: 127ms\tremaining: 1.54s\n",
      "76:\tlearn: 0.3719361\ttotal: 128ms\tremaining: 1.53s\n",
      "77:\tlearn: 0.3689742\ttotal: 129ms\tremaining: 1.52s\n",
      "78:\tlearn: 0.3661741\ttotal: 129ms\tremaining: 1.51s\n",
      "79:\tlearn: 0.3642466\ttotal: 130ms\tremaining: 1.5s\n",
      "80:\tlearn: 0.3619630\ttotal: 131ms\tremaining: 1.48s\n",
      "81:\tlearn: 0.3595030\ttotal: 132ms\tremaining: 1.47s\n",
      "82:\tlearn: 0.3572608\ttotal: 132ms\tremaining: 1.46s\n",
      "83:\tlearn: 0.3545399\ttotal: 134ms\tremaining: 1.46s\n",
      "84:\tlearn: 0.3523841\ttotal: 135ms\tremaining: 1.45s\n",
      "85:\tlearn: 0.3499549\ttotal: 136ms\tremaining: 1.44s\n",
      "86:\tlearn: 0.3483659\ttotal: 136ms\tremaining: 1.43s\n",
      "87:\tlearn: 0.3462480\ttotal: 137ms\tremaining: 1.42s\n",
      "88:\tlearn: 0.3435776\ttotal: 138ms\tremaining: 1.41s\n",
      "89:\tlearn: 0.3417245\ttotal: 139ms\tremaining: 1.4s\n",
      "90:\tlearn: 0.3395978\ttotal: 140ms\tremaining: 1.39s\n",
      "91:\tlearn: 0.3376701\ttotal: 140ms\tremaining: 1.39s\n",
      "92:\tlearn: 0.3362647\ttotal: 141ms\tremaining: 1.38s\n",
      "93:\tlearn: 0.3342490\ttotal: 142ms\tremaining: 1.37s\n",
      "94:\tlearn: 0.3324018\ttotal: 143ms\tremaining: 1.36s\n",
      "95:\tlearn: 0.3318356\ttotal: 144ms\tremaining: 1.35s\n",
      "96:\tlearn: 0.3301838\ttotal: 145ms\tremaining: 1.35s\n",
      "97:\tlearn: 0.3292799\ttotal: 145ms\tremaining: 1.34s\n",
      "98:\tlearn: 0.3279468\ttotal: 146ms\tremaining: 1.33s\n",
      "99:\tlearn: 0.3263919\ttotal: 147ms\tremaining: 1.32s\n",
      "100:\tlearn: 0.3243693\ttotal: 148ms\tremaining: 1.32s\n",
      "101:\tlearn: 0.3226440\ttotal: 149ms\tremaining: 1.31s\n",
      "102:\tlearn: 0.3211252\ttotal: 150ms\tremaining: 1.3s\n",
      "103:\tlearn: 0.3198959\ttotal: 151ms\tremaining: 1.3s\n",
      "104:\tlearn: 0.3186522\ttotal: 151ms\tremaining: 1.29s\n",
      "105:\tlearn: 0.3170323\ttotal: 152ms\tremaining: 1.28s\n",
      "106:\tlearn: 0.3149040\ttotal: 153ms\tremaining: 1.28s\n",
      "107:\tlearn: 0.3131769\ttotal: 154ms\tremaining: 1.27s\n",
      "108:\tlearn: 0.3117962\ttotal: 155ms\tremaining: 1.26s\n",
      "109:\tlearn: 0.3106359\ttotal: 156ms\tremaining: 1.26s\n",
      "110:\tlearn: 0.3092287\ttotal: 156ms\tremaining: 1.25s\n",
      "111:\tlearn: 0.3079562\ttotal: 157ms\tremaining: 1.25s\n",
      "112:\tlearn: 0.3064234\ttotal: 158ms\tremaining: 1.24s\n",
      "113:\tlearn: 0.3053919\ttotal: 159ms\tremaining: 1.24s\n",
      "114:\tlearn: 0.3042302\ttotal: 160ms\tremaining: 1.23s\n",
      "115:\tlearn: 0.3026561\ttotal: 160ms\tremaining: 1.22s\n",
      "116:\tlearn: 0.3012557\ttotal: 161ms\tremaining: 1.22s\n",
      "117:\tlearn: 0.2996826\ttotal: 162ms\tremaining: 1.21s\n",
      "118:\tlearn: 0.2983808\ttotal: 163ms\tremaining: 1.21s\n",
      "119:\tlearn: 0.2972972\ttotal: 164ms\tremaining: 1.2s\n",
      "120:\tlearn: 0.2963329\ttotal: 164ms\tremaining: 1.19s\n",
      "121:\tlearn: 0.2955317\ttotal: 165ms\tremaining: 1.19s\n",
      "122:\tlearn: 0.2946392\ttotal: 166ms\tremaining: 1.19s\n",
      "123:\tlearn: 0.2928915\ttotal: 167ms\tremaining: 1.18s\n",
      "124:\tlearn: 0.2921666\ttotal: 168ms\tremaining: 1.18s\n",
      "125:\tlearn: 0.2905694\ttotal: 169ms\tremaining: 1.17s\n",
      "126:\tlearn: 0.2890411\ttotal: 170ms\tremaining: 1.17s\n",
      "127:\tlearn: 0.2880821\ttotal: 171ms\tremaining: 1.16s\n",
      "128:\tlearn: 0.2871438\ttotal: 172ms\tremaining: 1.16s\n",
      "129:\tlearn: 0.2860388\ttotal: 173ms\tremaining: 1.16s\n",
      "130:\tlearn: 0.2852711\ttotal: 173ms\tremaining: 1.15s\n",
      "131:\tlearn: 0.2841838\ttotal: 174ms\tremaining: 1.15s\n",
      "132:\tlearn: 0.2833381\ttotal: 175ms\tremaining: 1.14s\n",
      "133:\tlearn: 0.2826655\ttotal: 176ms\tremaining: 1.14s\n",
      "134:\tlearn: 0.2819050\ttotal: 177ms\tremaining: 1.13s\n",
      "135:\tlearn: 0.2810084\ttotal: 178ms\tremaining: 1.13s\n",
      "136:\tlearn: 0.2803280\ttotal: 179ms\tremaining: 1.13s\n",
      "137:\tlearn: 0.2795169\ttotal: 180ms\tremaining: 1.12s\n",
      "138:\tlearn: 0.2782657\ttotal: 181ms\tremaining: 1.12s\n",
      "139:\tlearn: 0.2774410\ttotal: 182ms\tremaining: 1.12s\n",
      "140:\tlearn: 0.2765112\ttotal: 183ms\tremaining: 1.11s\n",
      "141:\tlearn: 0.2760183\ttotal: 184ms\tremaining: 1.11s\n",
      "142:\tlearn: 0.2751476\ttotal: 184ms\tremaining: 1.1s\n",
      "143:\tlearn: 0.2740479\ttotal: 185ms\tremaining: 1.1s\n",
      "144:\tlearn: 0.2728617\ttotal: 186ms\tremaining: 1.1s\n",
      "145:\tlearn: 0.2718103\ttotal: 187ms\tremaining: 1.09s\n",
      "146:\tlearn: 0.2709268\ttotal: 188ms\tremaining: 1.09s\n",
      "147:\tlearn: 0.2701739\ttotal: 188ms\tremaining: 1.08s\n",
      "148:\tlearn: 0.2690456\ttotal: 189ms\tremaining: 1.08s\n",
      "149:\tlearn: 0.2685598\ttotal: 190ms\tremaining: 1.08s\n",
      "150:\tlearn: 0.2676400\ttotal: 191ms\tremaining: 1.07s\n"
     ]
    },
    {
     "name": "stdout",
     "output_type": "stream",
     "text": [
      "151:\tlearn: 0.2667669\ttotal: 192ms\tremaining: 1.07s\n",
      "152:\tlearn: 0.2654616\ttotal: 193ms\tremaining: 1.07s\n",
      "153:\tlearn: 0.2646204\ttotal: 194ms\tremaining: 1.06s\n",
      "154:\tlearn: 0.2637467\ttotal: 194ms\tremaining: 1.06s\n",
      "155:\tlearn: 0.2626517\ttotal: 195ms\tremaining: 1.05s\n",
      "156:\tlearn: 0.2618241\ttotal: 196ms\tremaining: 1.05s\n",
      "157:\tlearn: 0.2611506\ttotal: 197ms\tremaining: 1.05s\n",
      "158:\tlearn: 0.2599480\ttotal: 198ms\tremaining: 1.04s\n",
      "159:\tlearn: 0.2591171\ttotal: 199ms\tremaining: 1.04s\n",
      "160:\tlearn: 0.2584924\ttotal: 199ms\tremaining: 1.04s\n",
      "161:\tlearn: 0.2576213\ttotal: 200ms\tremaining: 1.03s\n",
      "162:\tlearn: 0.2571582\ttotal: 201ms\tremaining: 1.03s\n",
      "163:\tlearn: 0.2568428\ttotal: 202ms\tremaining: 1.03s\n",
      "164:\tlearn: 0.2561862\ttotal: 203ms\tremaining: 1.02s\n",
      "165:\tlearn: 0.2555231\ttotal: 204ms\tremaining: 1.02s\n",
      "166:\tlearn: 0.2548937\ttotal: 204ms\tremaining: 1.02s\n",
      "167:\tlearn: 0.2543134\ttotal: 205ms\tremaining: 1.02s\n",
      "168:\tlearn: 0.2539199\ttotal: 206ms\tremaining: 1.01s\n",
      "169:\tlearn: 0.2536748\ttotal: 207ms\tremaining: 1.01s\n",
      "170:\tlearn: 0.2532763\ttotal: 208ms\tremaining: 1.01s\n",
      "171:\tlearn: 0.2525776\ttotal: 209ms\tremaining: 1s\n",
      "172:\tlearn: 0.2518661\ttotal: 209ms\tremaining: 1s\n",
      "173:\tlearn: 0.2514160\ttotal: 210ms\tremaining: 997ms\n",
      "174:\tlearn: 0.2507789\ttotal: 211ms\tremaining: 995ms\n",
      "175:\tlearn: 0.2500439\ttotal: 212ms\tremaining: 992ms\n",
      "176:\tlearn: 0.2494173\ttotal: 213ms\tremaining: 988ms\n",
      "177:\tlearn: 0.2488843\ttotal: 213ms\tremaining: 985ms\n",
      "178:\tlearn: 0.2484268\ttotal: 214ms\tremaining: 982ms\n",
      "179:\tlearn: 0.2478705\ttotal: 215ms\tremaining: 980ms\n",
      "180:\tlearn: 0.2469160\ttotal: 216ms\tremaining: 976ms\n",
      "181:\tlearn: 0.2465626\ttotal: 217ms\tremaining: 974ms\n",
      "182:\tlearn: 0.2457231\ttotal: 217ms\tremaining: 971ms\n",
      "183:\tlearn: 0.2450640\ttotal: 218ms\tremaining: 968ms\n",
      "184:\tlearn: 0.2445230\ttotal: 219ms\tremaining: 965ms\n",
      "185:\tlearn: 0.2439205\ttotal: 220ms\tremaining: 962ms\n",
      "186:\tlearn: 0.2430144\ttotal: 221ms\tremaining: 960ms\n",
      "187:\tlearn: 0.2425234\ttotal: 222ms\tremaining: 957ms\n",
      "188:\tlearn: 0.2418642\ttotal: 222ms\tremaining: 954ms\n",
      "189:\tlearn: 0.2409159\ttotal: 223ms\tremaining: 952ms\n",
      "190:\tlearn: 0.2403478\ttotal: 224ms\tremaining: 949ms\n",
      "191:\tlearn: 0.2399991\ttotal: 225ms\tremaining: 947ms\n",
      "192:\tlearn: 0.2394489\ttotal: 226ms\tremaining: 944ms\n",
      "193:\tlearn: 0.2387457\ttotal: 227ms\tremaining: 941ms\n",
      "194:\tlearn: 0.2378507\ttotal: 227ms\tremaining: 939ms\n",
      "195:\tlearn: 0.2372877\ttotal: 228ms\tremaining: 936ms\n",
      "196:\tlearn: 0.2371008\ttotal: 229ms\tremaining: 934ms\n",
      "197:\tlearn: 0.2365977\ttotal: 230ms\tremaining: 931ms\n",
      "198:\tlearn: 0.2360958\ttotal: 231ms\tremaining: 929ms\n",
      "199:\tlearn: 0.2353038\ttotal: 232ms\tremaining: 926ms\n",
      "200:\tlearn: 0.2349172\ttotal: 232ms\tremaining: 924ms\n",
      "201:\tlearn: 0.2343019\ttotal: 233ms\tremaining: 921ms\n",
      "202:\tlearn: 0.2334817\ttotal: 234ms\tremaining: 919ms\n",
      "203:\tlearn: 0.2327117\ttotal: 235ms\tremaining: 917ms\n",
      "204:\tlearn: 0.2319620\ttotal: 236ms\tremaining: 914ms\n",
      "205:\tlearn: 0.2310133\ttotal: 237ms\tremaining: 912ms\n",
      "206:\tlearn: 0.2303349\ttotal: 237ms\tremaining: 909ms\n",
      "207:\tlearn: 0.2299586\ttotal: 238ms\tremaining: 907ms\n",
      "208:\tlearn: 0.2293802\ttotal: 239ms\tremaining: 905ms\n",
      "209:\tlearn: 0.2288539\ttotal: 240ms\tremaining: 903ms\n",
      "210:\tlearn: 0.2282730\ttotal: 241ms\tremaining: 901ms\n",
      "211:\tlearn: 0.2275454\ttotal: 242ms\tremaining: 899ms\n",
      "212:\tlearn: 0.2273063\ttotal: 242ms\tremaining: 896ms\n",
      "213:\tlearn: 0.2268798\ttotal: 243ms\tremaining: 893ms\n",
      "214:\tlearn: 0.2264652\ttotal: 244ms\tremaining: 891ms\n",
      "215:\tlearn: 0.2258217\ttotal: 245ms\tremaining: 889ms\n",
      "216:\tlearn: 0.2254967\ttotal: 246ms\tremaining: 887ms\n",
      "217:\tlearn: 0.2249817\ttotal: 247ms\tremaining: 885ms\n",
      "218:\tlearn: 0.2245730\ttotal: 248ms\tremaining: 883ms\n",
      "219:\tlearn: 0.2241472\ttotal: 248ms\tremaining: 880ms\n",
      "220:\tlearn: 0.2237818\ttotal: 249ms\tremaining: 879ms\n",
      "221:\tlearn: 0.2234055\ttotal: 250ms\tremaining: 877ms\n",
      "222:\tlearn: 0.2230399\ttotal: 251ms\tremaining: 875ms\n",
      "223:\tlearn: 0.2226659\ttotal: 252ms\tremaining: 872ms\n",
      "224:\tlearn: 0.2224115\ttotal: 253ms\tremaining: 870ms\n",
      "225:\tlearn: 0.2221877\ttotal: 254ms\tremaining: 868ms\n",
      "226:\tlearn: 0.2217652\ttotal: 254ms\tremaining: 866ms\n",
      "227:\tlearn: 0.2213952\ttotal: 255ms\tremaining: 863ms\n",
      "228:\tlearn: 0.2211240\ttotal: 256ms\tremaining: 861ms\n",
      "229:\tlearn: 0.2206216\ttotal: 257ms\tremaining: 859ms\n",
      "230:\tlearn: 0.2204135\ttotal: 258ms\tremaining: 857ms\n",
      "231:\tlearn: 0.2196233\ttotal: 258ms\tremaining: 855ms\n",
      "232:\tlearn: 0.2191614\ttotal: 259ms\tremaining: 854ms\n",
      "233:\tlearn: 0.2188965\ttotal: 260ms\tremaining: 852ms\n",
      "234:\tlearn: 0.2184314\ttotal: 261ms\tremaining: 850ms\n",
      "235:\tlearn: 0.2182426\ttotal: 262ms\tremaining: 848ms\n",
      "236:\tlearn: 0.2180644\ttotal: 263ms\tremaining: 846ms\n",
      "237:\tlearn: 0.2176200\ttotal: 264ms\tremaining: 844ms\n",
      "238:\tlearn: 0.2169112\ttotal: 264ms\tremaining: 842ms\n",
      "239:\tlearn: 0.2166106\ttotal: 265ms\tremaining: 840ms\n",
      "240:\tlearn: 0.2161771\ttotal: 266ms\tremaining: 838ms\n",
      "241:\tlearn: 0.2158091\ttotal: 267ms\tremaining: 836ms\n",
      "242:\tlearn: 0.2153141\ttotal: 267ms\tremaining: 833ms\n",
      "243:\tlearn: 0.2149341\ttotal: 268ms\tremaining: 831ms\n",
      "244:\tlearn: 0.2142543\ttotal: 269ms\tremaining: 829ms\n",
      "245:\tlearn: 0.2137779\ttotal: 270ms\tremaining: 827ms\n",
      "246:\tlearn: 0.2132943\ttotal: 271ms\tremaining: 825ms\n",
      "247:\tlearn: 0.2130991\ttotal: 272ms\tremaining: 823ms\n",
      "248:\tlearn: 0.2128784\ttotal: 272ms\tremaining: 822ms\n",
      "249:\tlearn: 0.2120858\ttotal: 273ms\tremaining: 820ms\n",
      "250:\tlearn: 0.2115039\ttotal: 274ms\tremaining: 818ms\n",
      "251:\tlearn: 0.2110147\ttotal: 275ms\tremaining: 816ms\n",
      "252:\tlearn: 0.2105502\ttotal: 276ms\tremaining: 814ms\n",
      "253:\tlearn: 0.2101013\ttotal: 276ms\tremaining: 812ms\n",
      "254:\tlearn: 0.2098138\ttotal: 277ms\tremaining: 810ms\n",
      "255:\tlearn: 0.2095810\ttotal: 278ms\tremaining: 808ms\n",
      "256:\tlearn: 0.2089758\ttotal: 279ms\tremaining: 806ms\n",
      "257:\tlearn: 0.2086981\ttotal: 280ms\tremaining: 804ms\n",
      "258:\tlearn: 0.2082455\ttotal: 280ms\tremaining: 802ms\n",
      "259:\tlearn: 0.2079794\ttotal: 281ms\tremaining: 800ms\n",
      "260:\tlearn: 0.2075298\ttotal: 282ms\tremaining: 798ms\n",
      "261:\tlearn: 0.2066408\ttotal: 283ms\tremaining: 797ms\n",
      "262:\tlearn: 0.2064177\ttotal: 284ms\tremaining: 795ms\n",
      "263:\tlearn: 0.2059532\ttotal: 285ms\tremaining: 794ms\n",
      "264:\tlearn: 0.2055876\ttotal: 286ms\tremaining: 794ms\n",
      "265:\tlearn: 0.2051506\ttotal: 287ms\tremaining: 792ms\n",
      "266:\tlearn: 0.2047028\ttotal: 288ms\tremaining: 791ms\n",
      "267:\tlearn: 0.2045453\ttotal: 289ms\tremaining: 789ms\n",
      "268:\tlearn: 0.2041854\ttotal: 290ms\tremaining: 788ms\n",
      "269:\tlearn: 0.2039240\ttotal: 291ms\tremaining: 786ms\n",
      "270:\tlearn: 0.2034481\ttotal: 291ms\tremaining: 784ms\n",
      "271:\tlearn: 0.2029930\ttotal: 292ms\tremaining: 782ms\n",
      "272:\tlearn: 0.2027705\ttotal: 293ms\tremaining: 780ms\n",
      "273:\tlearn: 0.2024966\ttotal: 294ms\tremaining: 778ms\n",
      "274:\tlearn: 0.2018202\ttotal: 294ms\tremaining: 776ms\n",
      "275:\tlearn: 0.2013964\ttotal: 295ms\tremaining: 774ms\n",
      "276:\tlearn: 0.2008403\ttotal: 296ms\tremaining: 772ms\n",
      "277:\tlearn: 0.2002601\ttotal: 297ms\tremaining: 770ms\n",
      "278:\tlearn: 0.2000522\ttotal: 297ms\tremaining: 768ms\n"
     ]
    },
    {
     "name": "stdout",
     "output_type": "stream",
     "text": [
      "279:\tlearn: 0.1998070\ttotal: 298ms\tremaining: 767ms\n",
      "280:\tlearn: 0.1995949\ttotal: 299ms\tremaining: 766ms\n",
      "281:\tlearn: 0.1992255\ttotal: 300ms\tremaining: 764ms\n",
      "282:\tlearn: 0.1986567\ttotal: 301ms\tremaining: 763ms\n",
      "283:\tlearn: 0.1984621\ttotal: 302ms\tremaining: 761ms\n",
      "284:\tlearn: 0.1978889\ttotal: 303ms\tremaining: 759ms\n",
      "285:\tlearn: 0.1977442\ttotal: 303ms\tremaining: 758ms\n",
      "286:\tlearn: 0.1974435\ttotal: 304ms\tremaining: 756ms\n",
      "287:\tlearn: 0.1969467\ttotal: 305ms\tremaining: 755ms\n",
      "288:\tlearn: 0.1965791\ttotal: 306ms\tremaining: 753ms\n",
      "289:\tlearn: 0.1964488\ttotal: 307ms\tremaining: 752ms\n",
      "290:\tlearn: 0.1961404\ttotal: 308ms\tremaining: 750ms\n",
      "291:\tlearn: 0.1954120\ttotal: 309ms\tremaining: 748ms\n",
      "292:\tlearn: 0.1948704\ttotal: 310ms\tremaining: 747ms\n",
      "293:\tlearn: 0.1944838\ttotal: 310ms\tremaining: 745ms\n",
      "294:\tlearn: 0.1943064\ttotal: 311ms\tremaining: 744ms\n",
      "295:\tlearn: 0.1939913\ttotal: 312ms\tremaining: 742ms\n",
      "296:\tlearn: 0.1933719\ttotal: 313ms\tremaining: 741ms\n",
      "297:\tlearn: 0.1929504\ttotal: 314ms\tremaining: 739ms\n",
      "298:\tlearn: 0.1925933\ttotal: 315ms\tremaining: 738ms\n",
      "299:\tlearn: 0.1920168\ttotal: 316ms\tremaining: 736ms\n",
      "300:\tlearn: 0.1913519\ttotal: 317ms\tremaining: 735ms\n",
      "301:\tlearn: 0.1909713\ttotal: 317ms\tremaining: 734ms\n",
      "302:\tlearn: 0.1903371\ttotal: 318ms\tremaining: 732ms\n",
      "303:\tlearn: 0.1897969\ttotal: 319ms\tremaining: 730ms\n",
      "304:\tlearn: 0.1894357\ttotal: 320ms\tremaining: 729ms\n",
      "305:\tlearn: 0.1892541\ttotal: 321ms\tremaining: 728ms\n",
      "306:\tlearn: 0.1886431\ttotal: 322ms\tremaining: 726ms\n",
      "307:\tlearn: 0.1884533\ttotal: 322ms\tremaining: 724ms\n",
      "308:\tlearn: 0.1879239\ttotal: 323ms\tremaining: 723ms\n",
      "309:\tlearn: 0.1874561\ttotal: 324ms\tremaining: 721ms\n",
      "310:\tlearn: 0.1868967\ttotal: 325ms\tremaining: 720ms\n",
      "311:\tlearn: 0.1867326\ttotal: 326ms\tremaining: 718ms\n",
      "312:\tlearn: 0.1862926\ttotal: 327ms\tremaining: 717ms\n",
      "313:\tlearn: 0.1858743\ttotal: 327ms\tremaining: 715ms\n",
      "314:\tlearn: 0.1857153\ttotal: 328ms\tremaining: 714ms\n",
      "315:\tlearn: 0.1855321\ttotal: 329ms\tremaining: 712ms\n",
      "316:\tlearn: 0.1850999\ttotal: 332ms\tremaining: 715ms\n",
      "317:\tlearn: 0.1846901\ttotal: 333ms\tremaining: 713ms\n",
      "318:\tlearn: 0.1841180\ttotal: 333ms\tremaining: 712ms\n",
      "319:\tlearn: 0.1837735\ttotal: 334ms\tremaining: 710ms\n",
      "320:\tlearn: 0.1836014\ttotal: 336ms\tremaining: 710ms\n",
      "321:\tlearn: 0.1832183\ttotal: 337ms\tremaining: 709ms\n",
      "322:\tlearn: 0.1828584\ttotal: 337ms\tremaining: 707ms\n",
      "323:\tlearn: 0.1827779\ttotal: 338ms\tremaining: 706ms\n",
      "324:\tlearn: 0.1824301\ttotal: 339ms\tremaining: 704ms\n",
      "325:\tlearn: 0.1821115\ttotal: 340ms\tremaining: 703ms\n",
      "326:\tlearn: 0.1818765\ttotal: 341ms\tremaining: 702ms\n",
      "327:\tlearn: 0.1814026\ttotal: 342ms\tremaining: 700ms\n",
      "328:\tlearn: 0.1810714\ttotal: 342ms\tremaining: 698ms\n",
      "329:\tlearn: 0.1804641\ttotal: 343ms\tremaining: 697ms\n",
      "330:\tlearn: 0.1799526\ttotal: 344ms\tremaining: 695ms\n",
      "331:\tlearn: 0.1795882\ttotal: 345ms\tremaining: 694ms\n",
      "332:\tlearn: 0.1792621\ttotal: 346ms\tremaining: 692ms\n",
      "333:\tlearn: 0.1788486\ttotal: 346ms\tremaining: 691ms\n",
      "334:\tlearn: 0.1784706\ttotal: 347ms\tremaining: 689ms\n",
      "335:\tlearn: 0.1781005\ttotal: 348ms\tremaining: 688ms\n",
      "336:\tlearn: 0.1776377\ttotal: 349ms\tremaining: 686ms\n",
      "337:\tlearn: 0.1772131\ttotal: 350ms\tremaining: 685ms\n",
      "338:\tlearn: 0.1767911\ttotal: 351ms\tremaining: 683ms\n",
      "339:\tlearn: 0.1764018\ttotal: 351ms\tremaining: 682ms\n",
      "340:\tlearn: 0.1759682\ttotal: 352ms\tremaining: 681ms\n",
      "341:\tlearn: 0.1755938\ttotal: 353ms\tremaining: 679ms\n",
      "342:\tlearn: 0.1752309\ttotal: 354ms\tremaining: 678ms\n",
      "343:\tlearn: 0.1747975\ttotal: 355ms\tremaining: 677ms\n",
      "344:\tlearn: 0.1743588\ttotal: 356ms\tremaining: 676ms\n",
      "345:\tlearn: 0.1740119\ttotal: 357ms\tremaining: 674ms\n",
      "346:\tlearn: 0.1738607\ttotal: 358ms\tremaining: 673ms\n",
      "347:\tlearn: 0.1735780\ttotal: 359ms\tremaining: 672ms\n",
      "348:\tlearn: 0.1733399\ttotal: 360ms\tremaining: 671ms\n",
      "349:\tlearn: 0.1730221\ttotal: 360ms\tremaining: 669ms\n",
      "350:\tlearn: 0.1726324\ttotal: 361ms\tremaining: 668ms\n",
      "351:\tlearn: 0.1725846\ttotal: 362ms\tremaining: 666ms\n",
      "352:\tlearn: 0.1722131\ttotal: 362ms\tremaining: 664ms\n",
      "353:\tlearn: 0.1718224\ttotal: 363ms\tremaining: 663ms\n",
      "354:\tlearn: 0.1713330\ttotal: 364ms\tremaining: 662ms\n",
      "355:\tlearn: 0.1710227\ttotal: 366ms\tremaining: 662ms\n",
      "356:\tlearn: 0.1707436\ttotal: 367ms\tremaining: 661ms\n",
      "357:\tlearn: 0.1704265\ttotal: 368ms\tremaining: 660ms\n",
      "358:\tlearn: 0.1701680\ttotal: 369ms\tremaining: 658ms\n",
      "359:\tlearn: 0.1699065\ttotal: 370ms\tremaining: 657ms\n",
      "360:\tlearn: 0.1696717\ttotal: 371ms\tremaining: 656ms\n",
      "361:\tlearn: 0.1693285\ttotal: 372ms\tremaining: 655ms\n",
      "362:\tlearn: 0.1692320\ttotal: 373ms\tremaining: 654ms\n",
      "363:\tlearn: 0.1689144\ttotal: 374ms\tremaining: 653ms\n",
      "364:\tlearn: 0.1686196\ttotal: 375ms\tremaining: 652ms\n",
      "365:\tlearn: 0.1685669\ttotal: 376ms\tremaining: 651ms\n",
      "366:\tlearn: 0.1682489\ttotal: 377ms\tremaining: 650ms\n",
      "367:\tlearn: 0.1679626\ttotal: 378ms\tremaining: 649ms\n",
      "368:\tlearn: 0.1675810\ttotal: 379ms\tremaining: 648ms\n",
      "369:\tlearn: 0.1675365\ttotal: 380ms\tremaining: 647ms\n",
      "370:\tlearn: 0.1673313\ttotal: 381ms\tremaining: 645ms\n"
     ]
    },
    {
     "name": "stdout",
     "output_type": "stream",
     "text": [
      "371:\tlearn: 0.1668691\ttotal: 382ms\tremaining: 644ms\n",
      "372:\tlearn: 0.1666006\ttotal: 383ms\tremaining: 644ms\n",
      "373:\tlearn: 0.1665270\ttotal: 384ms\tremaining: 642ms\n",
      "374:\tlearn: 0.1661600\ttotal: 385ms\tremaining: 641ms\n",
      "375:\tlearn: 0.1661146\ttotal: 385ms\tremaining: 640ms\n",
      "376:\tlearn: 0.1656866\ttotal: 386ms\tremaining: 638ms\n",
      "377:\tlearn: 0.1652540\ttotal: 387ms\tremaining: 637ms\n",
      "378:\tlearn: 0.1651444\ttotal: 388ms\tremaining: 636ms\n",
      "379:\tlearn: 0.1648391\ttotal: 389ms\tremaining: 635ms\n",
      "380:\tlearn: 0.1644140\ttotal: 390ms\tremaining: 634ms\n",
      "381:\tlearn: 0.1640617\ttotal: 391ms\tremaining: 633ms\n",
      "382:\tlearn: 0.1638754\ttotal: 392ms\tremaining: 631ms\n",
      "383:\tlearn: 0.1633989\ttotal: 393ms\tremaining: 630ms\n",
      "384:\tlearn: 0.1631036\ttotal: 393ms\tremaining: 629ms\n",
      "385:\tlearn: 0.1626755\ttotal: 394ms\tremaining: 627ms\n",
      "386:\tlearn: 0.1623549\ttotal: 395ms\tremaining: 626ms\n",
      "387:\tlearn: 0.1620663\ttotal: 396ms\tremaining: 625ms\n",
      "388:\tlearn: 0.1614447\ttotal: 397ms\tremaining: 624ms\n",
      "389:\tlearn: 0.1614024\ttotal: 398ms\tremaining: 622ms\n",
      "390:\tlearn: 0.1610180\ttotal: 399ms\tremaining: 621ms\n",
      "391:\tlearn: 0.1607258\ttotal: 399ms\tremaining: 620ms\n",
      "392:\tlearn: 0.1604651\ttotal: 400ms\tremaining: 618ms\n",
      "393:\tlearn: 0.1601327\ttotal: 401ms\tremaining: 617ms\n",
      "394:\tlearn: 0.1598429\ttotal: 402ms\tremaining: 616ms\n",
      "395:\tlearn: 0.1593454\ttotal: 403ms\tremaining: 614ms\n",
      "396:\tlearn: 0.1591515\ttotal: 404ms\tremaining: 613ms\n",
      "397:\tlearn: 0.1588569\ttotal: 404ms\tremaining: 612ms\n",
      "398:\tlearn: 0.1588195\ttotal: 405ms\tremaining: 610ms\n",
      "399:\tlearn: 0.1585727\ttotal: 406ms\tremaining: 609ms\n",
      "400:\tlearn: 0.1581234\ttotal: 407ms\tremaining: 608ms\n",
      "401:\tlearn: 0.1576536\ttotal: 407ms\tremaining: 606ms\n",
      "402:\tlearn: 0.1572846\ttotal: 408ms\tremaining: 605ms\n",
      "403:\tlearn: 0.1570443\ttotal: 409ms\tremaining: 603ms\n",
      "404:\tlearn: 0.1570074\ttotal: 410ms\tremaining: 602ms\n",
      "405:\tlearn: 0.1565602\ttotal: 411ms\tremaining: 601ms\n",
      "406:\tlearn: 0.1560682\ttotal: 411ms\tremaining: 599ms\n",
      "407:\tlearn: 0.1557590\ttotal: 412ms\tremaining: 598ms\n",
      "408:\tlearn: 0.1555727\ttotal: 413ms\tremaining: 597ms\n",
      "409:\tlearn: 0.1554341\ttotal: 414ms\tremaining: 595ms\n",
      "410:\tlearn: 0.1551002\ttotal: 415ms\tremaining: 594ms\n",
      "411:\tlearn: 0.1548950\ttotal: 415ms\tremaining: 593ms\n",
      "412:\tlearn: 0.1547104\ttotal: 416ms\tremaining: 592ms\n",
      "413:\tlearn: 0.1546749\ttotal: 417ms\tremaining: 591ms\n",
      "414:\tlearn: 0.1542470\ttotal: 418ms\tremaining: 589ms\n",
      "415:\tlearn: 0.1538719\ttotal: 419ms\tremaining: 588ms\n",
      "416:\tlearn: 0.1538314\ttotal: 420ms\tremaining: 587ms\n",
      "417:\tlearn: 0.1534145\ttotal: 420ms\tremaining: 585ms\n",
      "418:\tlearn: 0.1533566\ttotal: 421ms\tremaining: 584ms\n",
      "419:\tlearn: 0.1530032\ttotal: 422ms\tremaining: 583ms\n",
      "420:\tlearn: 0.1529409\ttotal: 423ms\tremaining: 581ms\n",
      "421:\tlearn: 0.1526949\ttotal: 423ms\tremaining: 580ms\n",
      "422:\tlearn: 0.1526619\ttotal: 424ms\tremaining: 579ms\n",
      "423:\tlearn: 0.1525588\ttotal: 425ms\tremaining: 577ms\n",
      "424:\tlearn: 0.1525331\ttotal: 426ms\tremaining: 576ms\n",
      "425:\tlearn: 0.1521663\ttotal: 427ms\tremaining: 575ms\n",
      "426:\tlearn: 0.1518277\ttotal: 427ms\tremaining: 574ms\n",
      "427:\tlearn: 0.1516886\ttotal: 428ms\tremaining: 572ms\n",
      "428:\tlearn: 0.1513897\ttotal: 429ms\tremaining: 571ms\n",
      "429:\tlearn: 0.1513507\ttotal: 430ms\tremaining: 570ms\n",
      "430:\tlearn: 0.1512913\ttotal: 431ms\tremaining: 569ms\n",
      "431:\tlearn: 0.1510661\ttotal: 432ms\tremaining: 568ms\n",
      "432:\tlearn: 0.1506955\ttotal: 433ms\tremaining: 566ms\n",
      "433:\tlearn: 0.1506407\ttotal: 434ms\tremaining: 565ms\n",
      "434:\tlearn: 0.1505090\ttotal: 434ms\tremaining: 564ms\n",
      "435:\tlearn: 0.1503834\ttotal: 435ms\tremaining: 563ms\n",
      "436:\tlearn: 0.1500137\ttotal: 436ms\tremaining: 562ms\n",
      "437:\tlearn: 0.1496917\ttotal: 437ms\tremaining: 561ms\n",
      "438:\tlearn: 0.1495001\ttotal: 438ms\tremaining: 559ms\n",
      "439:\tlearn: 0.1492934\ttotal: 440ms\tremaining: 560ms\n",
      "440:\tlearn: 0.1488329\ttotal: 440ms\tremaining: 558ms\n",
      "441:\tlearn: 0.1486962\ttotal: 441ms\tremaining: 557ms\n",
      "442:\tlearn: 0.1486250\ttotal: 442ms\tremaining: 556ms\n",
      "443:\tlearn: 0.1482245\ttotal: 443ms\tremaining: 555ms\n",
      "444:\tlearn: 0.1479371\ttotal: 444ms\tremaining: 554ms\n",
      "445:\tlearn: 0.1477578\ttotal: 445ms\tremaining: 552ms\n",
      "446:\tlearn: 0.1473812\ttotal: 445ms\tremaining: 551ms\n",
      "447:\tlearn: 0.1472361\ttotal: 446ms\tremaining: 550ms\n",
      "448:\tlearn: 0.1471902\ttotal: 447ms\tremaining: 549ms\n",
      "449:\tlearn: 0.1470723\ttotal: 448ms\tremaining: 547ms\n",
      "450:\tlearn: 0.1470048\ttotal: 449ms\tremaining: 546ms\n",
      "451:\tlearn: 0.1469774\ttotal: 449ms\tremaining: 545ms\n",
      "452:\tlearn: 0.1469551\ttotal: 450ms\tremaining: 544ms\n",
      "453:\tlearn: 0.1469332\ttotal: 451ms\tremaining: 542ms\n",
      "454:\tlearn: 0.1466482\ttotal: 452ms\tremaining: 541ms\n",
      "455:\tlearn: 0.1465561\ttotal: 453ms\tremaining: 540ms\n",
      "456:\tlearn: 0.1462493\ttotal: 454ms\tremaining: 539ms\n",
      "457:\tlearn: 0.1461741\ttotal: 455ms\tremaining: 538ms\n",
      "458:\tlearn: 0.1460518\ttotal: 455ms\tremaining: 537ms\n",
      "459:\tlearn: 0.1460233\ttotal: 456ms\tremaining: 535ms\n",
      "460:\tlearn: 0.1457923\ttotal: 457ms\tremaining: 534ms\n",
      "461:\tlearn: 0.1454115\ttotal: 458ms\tremaining: 533ms\n",
      "462:\tlearn: 0.1453054\ttotal: 459ms\tremaining: 532ms\n",
      "463:\tlearn: 0.1451539\ttotal: 460ms\tremaining: 531ms\n",
      "464:\tlearn: 0.1451305\ttotal: 461ms\tremaining: 530ms\n",
      "465:\tlearn: 0.1451084\ttotal: 462ms\tremaining: 529ms\n",
      "466:\tlearn: 0.1450376\ttotal: 462ms\tremaining: 528ms\n",
      "467:\tlearn: 0.1445478\ttotal: 463ms\tremaining: 526ms\n",
      "468:\tlearn: 0.1441867\ttotal: 464ms\tremaining: 525ms\n",
      "469:\tlearn: 0.1441644\ttotal: 465ms\tremaining: 524ms\n",
      "470:\tlearn: 0.1438685\ttotal: 465ms\tremaining: 523ms\n",
      "471:\tlearn: 0.1435264\ttotal: 466ms\tremaining: 522ms\n",
      "472:\tlearn: 0.1432604\ttotal: 468ms\tremaining: 521ms\n",
      "473:\tlearn: 0.1428753\ttotal: 469ms\tremaining: 520ms\n",
      "474:\tlearn: 0.1426307\ttotal: 469ms\tremaining: 519ms\n",
      "475:\tlearn: 0.1425611\ttotal: 470ms\tremaining: 518ms\n",
      "476:\tlearn: 0.1425281\ttotal: 471ms\tremaining: 516ms\n",
      "477:\tlearn: 0.1422986\ttotal: 472ms\tremaining: 515ms\n",
      "478:\tlearn: 0.1422724\ttotal: 472ms\tremaining: 514ms\n",
      "479:\tlearn: 0.1420898\ttotal: 473ms\tremaining: 513ms\n",
      "480:\tlearn: 0.1418198\ttotal: 474ms\tremaining: 512ms\n",
      "481:\tlearn: 0.1417923\ttotal: 475ms\tremaining: 510ms\n",
      "482:\tlearn: 0.1414751\ttotal: 476ms\tremaining: 509ms\n",
      "483:\tlearn: 0.1411644\ttotal: 476ms\tremaining: 508ms\n",
      "484:\tlearn: 0.1408981\ttotal: 477ms\tremaining: 507ms\n",
      "485:\tlearn: 0.1406574\ttotal: 478ms\tremaining: 506ms\n",
      "486:\tlearn: 0.1406278\ttotal: 479ms\tremaining: 504ms\n",
      "487:\tlearn: 0.1405627\ttotal: 480ms\tremaining: 503ms\n",
      "488:\tlearn: 0.1402810\ttotal: 481ms\tremaining: 502ms\n",
      "489:\tlearn: 0.1400064\ttotal: 481ms\tremaining: 501ms\n",
      "490:\tlearn: 0.1397417\ttotal: 482ms\tremaining: 500ms\n",
      "491:\tlearn: 0.1394283\ttotal: 483ms\tremaining: 499ms\n",
      "492:\tlearn: 0.1391238\ttotal: 484ms\tremaining: 498ms\n",
      "493:\tlearn: 0.1388058\ttotal: 485ms\tremaining: 496ms\n",
      "494:\tlearn: 0.1387853\ttotal: 485ms\tremaining: 495ms\n",
      "495:\tlearn: 0.1387467\ttotal: 486ms\tremaining: 494ms\n",
      "496:\tlearn: 0.1383927\ttotal: 487ms\tremaining: 493ms\n",
      "497:\tlearn: 0.1380619\ttotal: 488ms\tremaining: 492ms\n"
     ]
    },
    {
     "name": "stdout",
     "output_type": "stream",
     "text": [
      "498:\tlearn: 0.1378576\ttotal: 489ms\tremaining: 491ms\n",
      "499:\tlearn: 0.1376778\ttotal: 490ms\tremaining: 490ms\n",
      "500:\tlearn: 0.1373703\ttotal: 491ms\tremaining: 489ms\n",
      "501:\tlearn: 0.1370561\ttotal: 492ms\tremaining: 488ms\n",
      "502:\tlearn: 0.1368477\ttotal: 492ms\tremaining: 486ms\n",
      "503:\tlearn: 0.1367275\ttotal: 493ms\tremaining: 485ms\n",
      "504:\tlearn: 0.1365244\ttotal: 494ms\tremaining: 484ms\n",
      "505:\tlearn: 0.1361171\ttotal: 494ms\tremaining: 483ms\n",
      "506:\tlearn: 0.1360553\ttotal: 495ms\tremaining: 482ms\n",
      "507:\tlearn: 0.1358402\ttotal: 496ms\tremaining: 480ms\n",
      "508:\tlearn: 0.1356342\ttotal: 497ms\tremaining: 479ms\n",
      "509:\tlearn: 0.1352425\ttotal: 498ms\tremaining: 478ms\n",
      "510:\tlearn: 0.1349724\ttotal: 498ms\tremaining: 477ms\n",
      "511:\tlearn: 0.1347640\ttotal: 499ms\tremaining: 476ms\n",
      "512:\tlearn: 0.1345608\ttotal: 500ms\tremaining: 475ms\n",
      "513:\tlearn: 0.1343184\ttotal: 501ms\tremaining: 474ms\n",
      "514:\tlearn: 0.1340227\ttotal: 502ms\tremaining: 473ms\n",
      "515:\tlearn: 0.1337529\ttotal: 502ms\tremaining: 471ms\n",
      "516:\tlearn: 0.1336956\ttotal: 503ms\tremaining: 470ms\n",
      "517:\tlearn: 0.1336785\ttotal: 504ms\tremaining: 469ms\n",
      "518:\tlearn: 0.1334185\ttotal: 505ms\tremaining: 468ms\n",
      "519:\tlearn: 0.1330724\ttotal: 506ms\tremaining: 467ms\n",
      "520:\tlearn: 0.1330562\ttotal: 507ms\tremaining: 466ms\n",
      "521:\tlearn: 0.1326822\ttotal: 508ms\tremaining: 465ms\n",
      "522:\tlearn: 0.1324570\ttotal: 509ms\tremaining: 464ms\n",
      "523:\tlearn: 0.1324407\ttotal: 509ms\tremaining: 463ms\n",
      "524:\tlearn: 0.1320397\ttotal: 510ms\tremaining: 462ms\n",
      "525:\tlearn: 0.1318360\ttotal: 511ms\tremaining: 460ms\n",
      "526:\tlearn: 0.1316397\ttotal: 512ms\tremaining: 459ms\n",
      "527:\tlearn: 0.1314267\ttotal: 513ms\tremaining: 458ms\n",
      "528:\tlearn: 0.1311884\ttotal: 513ms\tremaining: 457ms\n",
      "529:\tlearn: 0.1311340\ttotal: 514ms\tremaining: 456ms\n",
      "530:\tlearn: 0.1310657\ttotal: 515ms\tremaining: 455ms\n",
      "531:\tlearn: 0.1310436\ttotal: 516ms\tremaining: 454ms\n",
      "532:\tlearn: 0.1310273\ttotal: 517ms\tremaining: 453ms\n",
      "533:\tlearn: 0.1307208\ttotal: 518ms\tremaining: 452ms\n",
      "534:\tlearn: 0.1304619\ttotal: 519ms\tremaining: 451ms\n",
      "535:\tlearn: 0.1301842\ttotal: 519ms\tremaining: 450ms\n",
      "536:\tlearn: 0.1299225\ttotal: 520ms\tremaining: 449ms\n",
      "537:\tlearn: 0.1296757\ttotal: 521ms\tremaining: 448ms\n",
      "538:\tlearn: 0.1293677\ttotal: 522ms\tremaining: 446ms\n",
      "539:\tlearn: 0.1293186\ttotal: 523ms\tremaining: 445ms\n",
      "540:\tlearn: 0.1289919\ttotal: 523ms\tremaining: 444ms\n",
      "541:\tlearn: 0.1288058\ttotal: 524ms\tremaining: 443ms\n",
      "542:\tlearn: 0.1286085\ttotal: 525ms\tremaining: 442ms\n",
      "543:\tlearn: 0.1284424\ttotal: 526ms\tremaining: 441ms\n",
      "544:\tlearn: 0.1282704\ttotal: 527ms\tremaining: 440ms\n",
      "545:\tlearn: 0.1280940\ttotal: 528ms\tremaining: 439ms\n",
      "546:\tlearn: 0.1278844\ttotal: 528ms\tremaining: 438ms\n",
      "547:\tlearn: 0.1277620\ttotal: 529ms\tremaining: 436ms\n",
      "548:\tlearn: 0.1273947\ttotal: 530ms\tremaining: 435ms\n",
      "549:\tlearn: 0.1272021\ttotal: 531ms\tremaining: 435ms\n",
      "550:\tlearn: 0.1271524\ttotal: 532ms\tremaining: 434ms\n",
      "551:\tlearn: 0.1271006\ttotal: 533ms\tremaining: 432ms\n",
      "552:\tlearn: 0.1268790\ttotal: 534ms\tremaining: 431ms\n",
      "553:\tlearn: 0.1265867\ttotal: 534ms\tremaining: 430ms\n",
      "554:\tlearn: 0.1263394\ttotal: 535ms\tremaining: 429ms\n",
      "555:\tlearn: 0.1261882\ttotal: 536ms\tremaining: 428ms\n",
      "556:\tlearn: 0.1259556\ttotal: 537ms\tremaining: 427ms\n",
      "557:\tlearn: 0.1255658\ttotal: 538ms\tremaining: 426ms\n",
      "558:\tlearn: 0.1255515\ttotal: 538ms\tremaining: 425ms\n",
      "559:\tlearn: 0.1255376\ttotal: 539ms\tremaining: 424ms\n",
      "560:\tlearn: 0.1252536\ttotal: 540ms\tremaining: 423ms\n",
      "561:\tlearn: 0.1250970\ttotal: 541ms\tremaining: 422ms\n",
      "562:\tlearn: 0.1249479\ttotal: 542ms\tremaining: 420ms\n",
      "563:\tlearn: 0.1247549\ttotal: 542ms\tremaining: 419ms\n",
      "564:\tlearn: 0.1245405\ttotal: 543ms\tremaining: 418ms\n",
      "565:\tlearn: 0.1244329\ttotal: 544ms\tremaining: 417ms\n",
      "566:\tlearn: 0.1243855\ttotal: 545ms\tremaining: 416ms\n",
      "567:\tlearn: 0.1242120\ttotal: 546ms\tremaining: 415ms\n",
      "568:\tlearn: 0.1241986\ttotal: 547ms\tremaining: 414ms\n",
      "569:\tlearn: 0.1238955\ttotal: 547ms\tremaining: 413ms\n",
      "570:\tlearn: 0.1237422\ttotal: 548ms\tremaining: 412ms\n",
      "571:\tlearn: 0.1234804\ttotal: 549ms\tremaining: 411ms\n",
      "572:\tlearn: 0.1231360\ttotal: 550ms\tremaining: 410ms\n",
      "573:\tlearn: 0.1228455\ttotal: 551ms\tremaining: 409ms\n",
      "574:\tlearn: 0.1225874\ttotal: 552ms\tremaining: 408ms\n",
      "575:\tlearn: 0.1222931\ttotal: 553ms\tremaining: 407ms\n",
      "576:\tlearn: 0.1221316\ttotal: 553ms\tremaining: 406ms\n",
      "577:\tlearn: 0.1219616\ttotal: 554ms\tremaining: 405ms\n",
      "578:\tlearn: 0.1216463\ttotal: 555ms\tremaining: 404ms\n",
      "579:\tlearn: 0.1214849\ttotal: 556ms\tremaining: 403ms\n",
      "580:\tlearn: 0.1213189\ttotal: 557ms\tremaining: 402ms\n",
      "581:\tlearn: 0.1211330\ttotal: 558ms\tremaining: 400ms\n",
      "582:\tlearn: 0.1209675\ttotal: 558ms\tremaining: 399ms\n",
      "583:\tlearn: 0.1207422\ttotal: 559ms\tremaining: 398ms\n",
      "584:\tlearn: 0.1205807\ttotal: 560ms\tremaining: 397ms\n",
      "585:\tlearn: 0.1203350\ttotal: 561ms\tremaining: 396ms\n",
      "586:\tlearn: 0.1201137\ttotal: 562ms\tremaining: 395ms\n",
      "587:\tlearn: 0.1199152\ttotal: 563ms\tremaining: 394ms\n",
      "588:\tlearn: 0.1197596\ttotal: 564ms\tremaining: 393ms\n",
      "589:\tlearn: 0.1196008\ttotal: 564ms\tremaining: 392ms\n",
      "590:\tlearn: 0.1194626\ttotal: 565ms\tremaining: 391ms\n",
      "591:\tlearn: 0.1193232\ttotal: 566ms\tremaining: 390ms\n",
      "592:\tlearn: 0.1191206\ttotal: 567ms\tremaining: 389ms\n",
      "593:\tlearn: 0.1188981\ttotal: 567ms\tremaining: 388ms\n",
      "594:\tlearn: 0.1188588\ttotal: 568ms\tremaining: 387ms\n",
      "595:\tlearn: 0.1185661\ttotal: 569ms\tremaining: 386ms\n",
      "596:\tlearn: 0.1185432\ttotal: 570ms\tremaining: 385ms\n",
      "597:\tlearn: 0.1183947\ttotal: 570ms\tremaining: 384ms\n",
      "598:\tlearn: 0.1183647\ttotal: 571ms\tremaining: 382ms\n"
     ]
    },
    {
     "name": "stdout",
     "output_type": "stream",
     "text": [
      "599:\tlearn: 0.1183499\ttotal: 572ms\tremaining: 381ms\n",
      "600:\tlearn: 0.1180990\ttotal: 573ms\tremaining: 381ms\n",
      "601:\tlearn: 0.1179702\ttotal: 574ms\tremaining: 380ms\n",
      "602:\tlearn: 0.1175826\ttotal: 575ms\tremaining: 378ms\n",
      "603:\tlearn: 0.1173901\ttotal: 576ms\tremaining: 377ms\n",
      "604:\tlearn: 0.1172010\ttotal: 577ms\tremaining: 376ms\n",
      "605:\tlearn: 0.1169207\ttotal: 577ms\tremaining: 375ms\n",
      "606:\tlearn: 0.1168768\ttotal: 578ms\tremaining: 374ms\n",
      "607:\tlearn: 0.1166969\ttotal: 579ms\tremaining: 373ms\n",
      "608:\tlearn: 0.1166826\ttotal: 580ms\tremaining: 372ms\n",
      "609:\tlearn: 0.1164281\ttotal: 581ms\tremaining: 371ms\n",
      "610:\tlearn: 0.1162057\ttotal: 582ms\tremaining: 370ms\n",
      "611:\tlearn: 0.1158981\ttotal: 582ms\tremaining: 369ms\n",
      "612:\tlearn: 0.1156829\ttotal: 583ms\tremaining: 368ms\n",
      "613:\tlearn: 0.1154696\ttotal: 584ms\tremaining: 367ms\n",
      "614:\tlearn: 0.1152540\ttotal: 585ms\tremaining: 366ms\n",
      "615:\tlearn: 0.1150314\ttotal: 586ms\tremaining: 365ms\n",
      "616:\tlearn: 0.1147724\ttotal: 587ms\tremaining: 364ms\n",
      "617:\tlearn: 0.1146240\ttotal: 588ms\tremaining: 363ms\n",
      "618:\tlearn: 0.1143950\ttotal: 588ms\tremaining: 362ms\n",
      "619:\tlearn: 0.1141766\ttotal: 589ms\tremaining: 361ms\n",
      "620:\tlearn: 0.1139023\ttotal: 590ms\tremaining: 360ms\n",
      "621:\tlearn: 0.1138918\ttotal: 591ms\tremaining: 359ms\n",
      "622:\tlearn: 0.1138809\ttotal: 592ms\tremaining: 358ms\n",
      "623:\tlearn: 0.1136139\ttotal: 593ms\tremaining: 357ms\n",
      "624:\tlearn: 0.1134402\ttotal: 593ms\tremaining: 356ms\n",
      "625:\tlearn: 0.1132640\ttotal: 594ms\tremaining: 355ms\n",
      "626:\tlearn: 0.1130446\ttotal: 595ms\tremaining: 354ms\n",
      "627:\tlearn: 0.1128557\ttotal: 596ms\tremaining: 353ms\n",
      "628:\tlearn: 0.1126553\ttotal: 597ms\tremaining: 352ms\n",
      "629:\tlearn: 0.1124831\ttotal: 598ms\tremaining: 351ms\n",
      "630:\tlearn: 0.1122130\ttotal: 599ms\tremaining: 350ms\n",
      "631:\tlearn: 0.1120862\ttotal: 599ms\tremaining: 349ms\n",
      "632:\tlearn: 0.1118653\ttotal: 600ms\tremaining: 348ms\n",
      "633:\tlearn: 0.1118512\ttotal: 601ms\tremaining: 347ms\n",
      "634:\tlearn: 0.1115990\ttotal: 602ms\tremaining: 346ms\n",
      "635:\tlearn: 0.1114038\ttotal: 603ms\tremaining: 345ms\n",
      "636:\tlearn: 0.1112745\ttotal: 603ms\tremaining: 344ms\n",
      "637:\tlearn: 0.1110141\ttotal: 604ms\tremaining: 343ms\n",
      "638:\tlearn: 0.1108417\ttotal: 605ms\tremaining: 342ms\n",
      "639:\tlearn: 0.1105984\ttotal: 606ms\tremaining: 341ms\n",
      "640:\tlearn: 0.1104598\ttotal: 607ms\tremaining: 340ms\n",
      "641:\tlearn: 0.1103491\ttotal: 608ms\tremaining: 339ms\n",
      "642:\tlearn: 0.1101659\ttotal: 608ms\tremaining: 338ms\n",
      "643:\tlearn: 0.1100192\ttotal: 609ms\tremaining: 337ms\n",
      "644:\tlearn: 0.1098024\ttotal: 610ms\tremaining: 336ms\n",
      "645:\tlearn: 0.1094851\ttotal: 611ms\tremaining: 335ms\n",
      "646:\tlearn: 0.1092795\ttotal: 612ms\tremaining: 334ms\n",
      "647:\tlearn: 0.1091572\ttotal: 613ms\tremaining: 333ms\n",
      "648:\tlearn: 0.1088992\ttotal: 614ms\tremaining: 332ms\n",
      "649:\tlearn: 0.1087850\ttotal: 615ms\tremaining: 331ms\n",
      "650:\tlearn: 0.1087725\ttotal: 615ms\tremaining: 330ms\n",
      "651:\tlearn: 0.1086601\ttotal: 616ms\tremaining: 329ms\n",
      "652:\tlearn: 0.1084624\ttotal: 617ms\tremaining: 328ms\n",
      "653:\tlearn: 0.1082917\ttotal: 618ms\tremaining: 327ms\n",
      "654:\tlearn: 0.1081287\ttotal: 619ms\tremaining: 326ms\n",
      "655:\tlearn: 0.1079042\ttotal: 620ms\tremaining: 325ms\n",
      "656:\tlearn: 0.1077826\ttotal: 621ms\tremaining: 324ms\n",
      "657:\tlearn: 0.1075089\ttotal: 622ms\tremaining: 323ms\n",
      "658:\tlearn: 0.1073301\ttotal: 623ms\tremaining: 322ms\n",
      "659:\tlearn: 0.1071672\ttotal: 624ms\tremaining: 321ms\n",
      "660:\tlearn: 0.1070067\ttotal: 624ms\tremaining: 320ms\n",
      "661:\tlearn: 0.1068502\ttotal: 625ms\tremaining: 319ms\n",
      "662:\tlearn: 0.1067410\ttotal: 626ms\tremaining: 318ms\n",
      "663:\tlearn: 0.1066286\ttotal: 627ms\tremaining: 317ms\n",
      "664:\tlearn: 0.1063784\ttotal: 628ms\tremaining: 316ms\n",
      "665:\tlearn: 0.1062297\ttotal: 628ms\tremaining: 315ms\n",
      "666:\tlearn: 0.1059763\ttotal: 629ms\tremaining: 314ms\n",
      "667:\tlearn: 0.1058762\ttotal: 630ms\tremaining: 313ms\n",
      "668:\tlearn: 0.1056540\ttotal: 631ms\tremaining: 312ms\n",
      "669:\tlearn: 0.1056363\ttotal: 632ms\tremaining: 311ms\n",
      "670:\tlearn: 0.1054051\ttotal: 632ms\tremaining: 310ms\n",
      "671:\tlearn: 0.1053923\ttotal: 633ms\tremaining: 309ms\n",
      "672:\tlearn: 0.1051457\ttotal: 634ms\tremaining: 308ms\n",
      "673:\tlearn: 0.1049138\ttotal: 635ms\tremaining: 307ms\n",
      "674:\tlearn: 0.1047316\ttotal: 636ms\tremaining: 306ms\n",
      "675:\tlearn: 0.1046090\ttotal: 637ms\tremaining: 305ms\n",
      "676:\tlearn: 0.1043075\ttotal: 637ms\tremaining: 304ms\n",
      "677:\tlearn: 0.1042951\ttotal: 638ms\tremaining: 303ms\n",
      "678:\tlearn: 0.1040578\ttotal: 639ms\tremaining: 302ms\n",
      "679:\tlearn: 0.1039203\ttotal: 640ms\tremaining: 301ms\n",
      "680:\tlearn: 0.1037583\ttotal: 641ms\tremaining: 300ms\n",
      "681:\tlearn: 0.1034920\ttotal: 641ms\tremaining: 299ms\n",
      "682:\tlearn: 0.1034818\ttotal: 642ms\tremaining: 298ms\n",
      "683:\tlearn: 0.1034596\ttotal: 643ms\tremaining: 297ms\n",
      "684:\tlearn: 0.1034325\ttotal: 644ms\tremaining: 296ms\n",
      "685:\tlearn: 0.1033474\ttotal: 645ms\tremaining: 295ms\n",
      "686:\tlearn: 0.1030732\ttotal: 645ms\tremaining: 294ms\n",
      "687:\tlearn: 0.1028132\ttotal: 646ms\tremaining: 293ms\n",
      "688:\tlearn: 0.1025877\ttotal: 647ms\tremaining: 292ms\n",
      "689:\tlearn: 0.1023618\ttotal: 648ms\tremaining: 291ms\n",
      "690:\tlearn: 0.1021033\ttotal: 648ms\tremaining: 290ms\n",
      "691:\tlearn: 0.1019820\ttotal: 649ms\tremaining: 289ms\n",
      "692:\tlearn: 0.1018613\ttotal: 650ms\tremaining: 288ms\n",
      "693:\tlearn: 0.1017289\ttotal: 651ms\tremaining: 287ms\n",
      "694:\tlearn: 0.1015313\ttotal: 651ms\tremaining: 286ms\n",
      "695:\tlearn: 0.1013959\ttotal: 652ms\tremaining: 285ms\n",
      "696:\tlearn: 0.1012036\ttotal: 653ms\tremaining: 284ms\n",
      "697:\tlearn: 0.1010308\ttotal: 654ms\tremaining: 283ms\n",
      "698:\tlearn: 0.1008720\ttotal: 655ms\tremaining: 282ms\n",
      "699:\tlearn: 0.1006093\ttotal: 655ms\tremaining: 281ms\n",
      "700:\tlearn: 0.1005456\ttotal: 656ms\tremaining: 280ms\n",
      "701:\tlearn: 0.1003394\ttotal: 657ms\tremaining: 279ms\n",
      "702:\tlearn: 0.1003304\ttotal: 658ms\tremaining: 278ms\n",
      "703:\tlearn: 0.1001381\ttotal: 659ms\tremaining: 277ms\n",
      "704:\tlearn: 0.1000153\ttotal: 660ms\tremaining: 276ms\n",
      "705:\tlearn: 0.0999961\ttotal: 660ms\tremaining: 275ms\n",
      "706:\tlearn: 0.0998009\ttotal: 661ms\tremaining: 274ms\n",
      "707:\tlearn: 0.0997102\ttotal: 662ms\tremaining: 273ms\n",
      "708:\tlearn: 0.0996149\ttotal: 663ms\tremaining: 272ms\n",
      "709:\tlearn: 0.0994349\ttotal: 664ms\tremaining: 271ms\n",
      "710:\tlearn: 0.0992584\ttotal: 665ms\tremaining: 270ms\n",
      "711:\tlearn: 0.0990642\ttotal: 666ms\tremaining: 269ms\n",
      "712:\tlearn: 0.0989134\ttotal: 667ms\tremaining: 268ms\n",
      "713:\tlearn: 0.0987319\ttotal: 667ms\tremaining: 267ms\n",
      "714:\tlearn: 0.0984548\ttotal: 668ms\tremaining: 266ms\n",
      "715:\tlearn: 0.0983052\ttotal: 669ms\tremaining: 265ms\n",
      "716:\tlearn: 0.0980896\ttotal: 670ms\tremaining: 264ms\n",
      "717:\tlearn: 0.0978448\ttotal: 671ms\tremaining: 263ms\n",
      "718:\tlearn: 0.0976964\ttotal: 672ms\tremaining: 262ms\n",
      "719:\tlearn: 0.0975091\ttotal: 673ms\tremaining: 262ms\n",
      "720:\tlearn: 0.0973756\ttotal: 673ms\tremaining: 261ms\n",
      "721:\tlearn: 0.0973673\ttotal: 674ms\tremaining: 260ms\n",
      "722:\tlearn: 0.0972392\ttotal: 675ms\tremaining: 259ms\n",
      "723:\tlearn: 0.0970488\ttotal: 676ms\tremaining: 258ms\n",
      "724:\tlearn: 0.0968632\ttotal: 676ms\tremaining: 257ms\n",
      "725:\tlearn: 0.0967058\ttotal: 677ms\tremaining: 256ms\n",
      "726:\tlearn: 0.0966046\ttotal: 678ms\tremaining: 255ms\n",
      "727:\tlearn: 0.0963936\ttotal: 679ms\tremaining: 254ms\n"
     ]
    },
    {
     "name": "stdout",
     "output_type": "stream",
     "text": [
      "728:\tlearn: 0.0962874\ttotal: 680ms\tremaining: 253ms\n",
      "729:\tlearn: 0.0960418\ttotal: 681ms\tremaining: 252ms\n",
      "730:\tlearn: 0.0958047\ttotal: 682ms\tremaining: 251ms\n",
      "731:\tlearn: 0.0955612\ttotal: 682ms\tremaining: 250ms\n",
      "732:\tlearn: 0.0954240\ttotal: 683ms\tremaining: 249ms\n",
      "733:\tlearn: 0.0952539\ttotal: 684ms\tremaining: 248ms\n",
      "734:\tlearn: 0.0951838\ttotal: 685ms\tremaining: 247ms\n",
      "735:\tlearn: 0.0950428\ttotal: 686ms\tremaining: 246ms\n",
      "736:\tlearn: 0.0950350\ttotal: 687ms\tremaining: 245ms\n",
      "737:\tlearn: 0.0948381\ttotal: 688ms\tremaining: 244ms\n",
      "738:\tlearn: 0.0946442\ttotal: 689ms\tremaining: 243ms\n",
      "739:\tlearn: 0.0944670\ttotal: 690ms\tremaining: 242ms\n",
      "740:\tlearn: 0.0942843\ttotal: 690ms\tremaining: 241ms\n",
      "741:\tlearn: 0.0940998\ttotal: 691ms\tremaining: 240ms\n",
      "742:\tlearn: 0.0940400\ttotal: 692ms\tremaining: 239ms\n",
      "743:\tlearn: 0.0939613\ttotal: 693ms\tremaining: 238ms\n",
      "744:\tlearn: 0.0938094\ttotal: 694ms\tremaining: 238ms\n",
      "745:\tlearn: 0.0936587\ttotal: 695ms\tremaining: 237ms\n",
      "746:\tlearn: 0.0935132\ttotal: 696ms\tremaining: 236ms\n",
      "747:\tlearn: 0.0933048\ttotal: 697ms\tremaining: 235ms\n",
      "748:\tlearn: 0.0931137\ttotal: 697ms\tremaining: 234ms\n",
      "749:\tlearn: 0.0929146\ttotal: 698ms\tremaining: 233ms\n",
      "750:\tlearn: 0.0928027\ttotal: 699ms\tremaining: 232ms\n",
      "751:\tlearn: 0.0926665\ttotal: 700ms\tremaining: 231ms\n",
      "752:\tlearn: 0.0925354\ttotal: 701ms\tremaining: 230ms\n",
      "753:\tlearn: 0.0923552\ttotal: 701ms\tremaining: 229ms\n",
      "754:\tlearn: 0.0921859\ttotal: 702ms\tremaining: 228ms\n",
      "755:\tlearn: 0.0920664\ttotal: 703ms\tremaining: 227ms\n",
      "756:\tlearn: 0.0919460\ttotal: 704ms\tremaining: 226ms\n",
      "757:\tlearn: 0.0918700\ttotal: 705ms\tremaining: 225ms\n",
      "758:\tlearn: 0.0917932\ttotal: 705ms\tremaining: 224ms\n",
      "759:\tlearn: 0.0917844\ttotal: 706ms\tremaining: 223ms\n",
      "760:\tlearn: 0.0916399\ttotal: 707ms\tremaining: 222ms\n",
      "761:\tlearn: 0.0915292\ttotal: 708ms\tremaining: 221ms\n",
      "762:\tlearn: 0.0913916\ttotal: 708ms\tremaining: 220ms\n",
      "763:\tlearn: 0.0912076\ttotal: 709ms\tremaining: 219ms\n",
      "764:\tlearn: 0.0910029\ttotal: 710ms\tremaining: 218ms\n",
      "765:\tlearn: 0.0907534\ttotal: 711ms\tremaining: 217ms\n",
      "766:\tlearn: 0.0907283\ttotal: 712ms\tremaining: 216ms\n",
      "767:\tlearn: 0.0906089\ttotal: 712ms\tremaining: 215ms\n",
      "768:\tlearn: 0.0903782\ttotal: 713ms\tremaining: 214ms\n",
      "769:\tlearn: 0.0902148\ttotal: 714ms\tremaining: 213ms\n",
      "770:\tlearn: 0.0900560\ttotal: 715ms\tremaining: 212ms\n",
      "771:\tlearn: 0.0899253\ttotal: 715ms\tremaining: 211ms\n",
      "772:\tlearn: 0.0897753\ttotal: 716ms\tremaining: 210ms\n",
      "773:\tlearn: 0.0897673\ttotal: 717ms\tremaining: 209ms\n",
      "774:\tlearn: 0.0896763\ttotal: 718ms\tremaining: 208ms\n",
      "775:\tlearn: 0.0895808\ttotal: 719ms\tremaining: 208ms\n",
      "776:\tlearn: 0.0893677\ttotal: 720ms\tremaining: 207ms\n",
      "777:\tlearn: 0.0891523\ttotal: 720ms\tremaining: 206ms\n",
      "778:\tlearn: 0.0889629\ttotal: 721ms\tremaining: 205ms\n",
      "779:\tlearn: 0.0887526\ttotal: 722ms\tremaining: 204ms\n",
      "780:\tlearn: 0.0886214\ttotal: 723ms\tremaining: 203ms\n",
      "781:\tlearn: 0.0883842\ttotal: 724ms\tremaining: 202ms\n",
      "782:\tlearn: 0.0882427\ttotal: 724ms\tremaining: 201ms\n",
      "783:\tlearn: 0.0881212\ttotal: 725ms\tremaining: 200ms\n",
      "784:\tlearn: 0.0879942\ttotal: 726ms\tremaining: 199ms\n",
      "785:\tlearn: 0.0878704\ttotal: 727ms\tremaining: 198ms\n",
      "786:\tlearn: 0.0877515\ttotal: 728ms\tremaining: 197ms\n",
      "787:\tlearn: 0.0876240\ttotal: 729ms\tremaining: 196ms\n",
      "788:\tlearn: 0.0875176\ttotal: 730ms\tremaining: 195ms\n",
      "789:\tlearn: 0.0873290\ttotal: 730ms\tremaining: 194ms\n",
      "790:\tlearn: 0.0872078\ttotal: 731ms\tremaining: 193ms\n",
      "791:\tlearn: 0.0870547\ttotal: 732ms\tremaining: 192ms\n",
      "792:\tlearn: 0.0869163\ttotal: 733ms\tremaining: 191ms\n",
      "793:\tlearn: 0.0867857\ttotal: 733ms\tremaining: 190ms\n",
      "794:\tlearn: 0.0866686\ttotal: 734ms\tremaining: 189ms\n",
      "795:\tlearn: 0.0864927\ttotal: 735ms\tremaining: 188ms\n",
      "796:\tlearn: 0.0864854\ttotal: 736ms\tremaining: 187ms\n",
      "797:\tlearn: 0.0863424\ttotal: 737ms\tremaining: 187ms\n",
      "798:\tlearn: 0.0861794\ttotal: 738ms\tremaining: 186ms\n",
      "799:\tlearn: 0.0859308\ttotal: 738ms\tremaining: 185ms\n",
      "800:\tlearn: 0.0857760\ttotal: 739ms\tremaining: 184ms\n",
      "801:\tlearn: 0.0857258\ttotal: 740ms\tremaining: 183ms\n",
      "802:\tlearn: 0.0857167\ttotal: 741ms\tremaining: 182ms\n",
      "803:\tlearn: 0.0856159\ttotal: 742ms\tremaining: 181ms\n",
      "804:\tlearn: 0.0854709\ttotal: 743ms\tremaining: 180ms\n",
      "805:\tlearn: 0.0854042\ttotal: 743ms\tremaining: 179ms\n",
      "806:\tlearn: 0.0851352\ttotal: 744ms\tremaining: 178ms\n",
      "807:\tlearn: 0.0849934\ttotal: 745ms\tremaining: 177ms\n",
      "808:\tlearn: 0.0849136\ttotal: 746ms\tremaining: 176ms\n",
      "809:\tlearn: 0.0846834\ttotal: 747ms\tremaining: 175ms\n",
      "810:\tlearn: 0.0845744\ttotal: 747ms\tremaining: 174ms\n",
      "811:\tlearn: 0.0844601\ttotal: 748ms\tremaining: 173ms\n",
      "812:\tlearn: 0.0842534\ttotal: 749ms\tremaining: 172ms\n",
      "813:\tlearn: 0.0841263\ttotal: 750ms\tremaining: 171ms\n",
      "814:\tlearn: 0.0839819\ttotal: 750ms\tremaining: 170ms\n",
      "815:\tlearn: 0.0839134\ttotal: 751ms\tremaining: 169ms\n",
      "816:\tlearn: 0.0838028\ttotal: 752ms\tremaining: 168ms\n",
      "817:\tlearn: 0.0836683\ttotal: 753ms\tremaining: 167ms\n",
      "818:\tlearn: 0.0834888\ttotal: 754ms\tremaining: 167ms\n",
      "819:\tlearn: 0.0833742\ttotal: 754ms\tremaining: 166ms\n",
      "820:\tlearn: 0.0832503\ttotal: 755ms\tremaining: 165ms\n",
      "821:\tlearn: 0.0830954\ttotal: 756ms\tremaining: 164ms\n",
      "822:\tlearn: 0.0828489\ttotal: 757ms\tremaining: 163ms\n",
      "823:\tlearn: 0.0826867\ttotal: 758ms\tremaining: 162ms\n",
      "824:\tlearn: 0.0825671\ttotal: 758ms\tremaining: 161ms\n",
      "825:\tlearn: 0.0824305\ttotal: 759ms\tremaining: 160ms\n",
      "826:\tlearn: 0.0822391\ttotal: 760ms\tremaining: 159ms\n",
      "827:\tlearn: 0.0821157\ttotal: 761ms\tremaining: 158ms\n",
      "828:\tlearn: 0.0819719\ttotal: 762ms\tremaining: 157ms\n"
     ]
    },
    {
     "name": "stdout",
     "output_type": "stream",
     "text": [
      "829:\tlearn: 0.0818334\ttotal: 763ms\tremaining: 156ms\n",
      "830:\tlearn: 0.0817891\ttotal: 764ms\tremaining: 155ms\n",
      "831:\tlearn: 0.0816772\ttotal: 764ms\tremaining: 154ms\n",
      "832:\tlearn: 0.0815991\ttotal: 765ms\tremaining: 153ms\n",
      "833:\tlearn: 0.0814681\ttotal: 766ms\tremaining: 152ms\n",
      "834:\tlearn: 0.0813566\ttotal: 767ms\tremaining: 152ms\n",
      "835:\tlearn: 0.0812239\ttotal: 768ms\tremaining: 151ms\n",
      "836:\tlearn: 0.0812157\ttotal: 769ms\tremaining: 150ms\n",
      "837:\tlearn: 0.0811110\ttotal: 770ms\tremaining: 149ms\n",
      "838:\tlearn: 0.0809920\ttotal: 770ms\tremaining: 148ms\n",
      "839:\tlearn: 0.0808389\ttotal: 771ms\tremaining: 147ms\n",
      "840:\tlearn: 0.0808318\ttotal: 772ms\tremaining: 146ms\n",
      "841:\tlearn: 0.0807045\ttotal: 773ms\tremaining: 145ms\n",
      "842:\tlearn: 0.0805807\ttotal: 774ms\tremaining: 144ms\n",
      "843:\tlearn: 0.0804652\ttotal: 775ms\tremaining: 143ms\n",
      "844:\tlearn: 0.0803137\ttotal: 776ms\tremaining: 142ms\n",
      "845:\tlearn: 0.0802282\ttotal: 777ms\tremaining: 141ms\n",
      "846:\tlearn: 0.0800922\ttotal: 777ms\tremaining: 140ms\n",
      "847:\tlearn: 0.0800030\ttotal: 778ms\tremaining: 140ms\n",
      "848:\tlearn: 0.0798447\ttotal: 779ms\tremaining: 139ms\n",
      "849:\tlearn: 0.0798088\ttotal: 780ms\tremaining: 138ms\n",
      "850:\tlearn: 0.0796876\ttotal: 781ms\tremaining: 137ms\n",
      "851:\tlearn: 0.0795594\ttotal: 781ms\tremaining: 136ms\n",
      "852:\tlearn: 0.0794683\ttotal: 782ms\tremaining: 135ms\n",
      "853:\tlearn: 0.0793590\ttotal: 783ms\tremaining: 134ms\n",
      "854:\tlearn: 0.0792307\ttotal: 784ms\tremaining: 133ms\n",
      "855:\tlearn: 0.0790600\ttotal: 785ms\tremaining: 132ms\n",
      "856:\tlearn: 0.0789362\ttotal: 786ms\tremaining: 131ms\n",
      "857:\tlearn: 0.0788164\ttotal: 786ms\tremaining: 130ms\n",
      "858:\tlearn: 0.0786769\ttotal: 787ms\tremaining: 129ms\n",
      "859:\tlearn: 0.0786015\ttotal: 788ms\tremaining: 128ms\n",
      "860:\tlearn: 0.0784799\ttotal: 789ms\tremaining: 127ms\n",
      "861:\tlearn: 0.0783247\ttotal: 790ms\tremaining: 126ms\n",
      "862:\tlearn: 0.0782047\ttotal: 791ms\tremaining: 126ms\n",
      "863:\tlearn: 0.0781214\ttotal: 791ms\tremaining: 125ms\n",
      "864:\tlearn: 0.0779957\ttotal: 792ms\tremaining: 124ms\n",
      "865:\tlearn: 0.0779276\ttotal: 793ms\tremaining: 123ms\n",
      "866:\tlearn: 0.0778477\ttotal: 794ms\tremaining: 122ms\n",
      "867:\tlearn: 0.0776953\ttotal: 795ms\tremaining: 121ms\n",
      "868:\tlearn: 0.0776163\ttotal: 795ms\tremaining: 120ms\n",
      "869:\tlearn: 0.0774733\ttotal: 796ms\tremaining: 119ms\n",
      "870:\tlearn: 0.0773507\ttotal: 797ms\tremaining: 118ms\n",
      "871:\tlearn: 0.0772336\ttotal: 798ms\tremaining: 117ms\n",
      "872:\tlearn: 0.0771699\ttotal: 799ms\tremaining: 116ms\n",
      "873:\tlearn: 0.0770671\ttotal: 799ms\tremaining: 115ms\n",
      "874:\tlearn: 0.0769539\ttotal: 800ms\tremaining: 114ms\n",
      "875:\tlearn: 0.0768850\ttotal: 801ms\tremaining: 113ms\n",
      "876:\tlearn: 0.0767361\ttotal: 802ms\tremaining: 112ms\n",
      "877:\tlearn: 0.0766709\ttotal: 802ms\tremaining: 111ms\n",
      "878:\tlearn: 0.0765235\ttotal: 803ms\tremaining: 111ms\n",
      "879:\tlearn: 0.0765031\ttotal: 804ms\tremaining: 110ms\n",
      "880:\tlearn: 0.0764262\ttotal: 805ms\tremaining: 109ms\n",
      "881:\tlearn: 0.0763245\ttotal: 806ms\tremaining: 108ms\n",
      "882:\tlearn: 0.0761665\ttotal: 806ms\tremaining: 107ms\n",
      "883:\tlearn: 0.0760697\ttotal: 807ms\tremaining: 106ms\n",
      "884:\tlearn: 0.0759316\ttotal: 808ms\tremaining: 105ms\n",
      "885:\tlearn: 0.0757706\ttotal: 809ms\tremaining: 104ms\n",
      "886:\tlearn: 0.0756773\ttotal: 809ms\tremaining: 103ms\n",
      "887:\tlearn: 0.0755822\ttotal: 810ms\tremaining: 102ms\n",
      "888:\tlearn: 0.0754739\ttotal: 811ms\tremaining: 101ms\n",
      "889:\tlearn: 0.0754675\ttotal: 812ms\tremaining: 100ms\n",
      "890:\tlearn: 0.0753278\ttotal: 812ms\tremaining: 99.4ms\n",
      "891:\tlearn: 0.0751143\ttotal: 813ms\tremaining: 98.5ms\n",
      "892:\tlearn: 0.0750179\ttotal: 814ms\tremaining: 97.5ms\n",
      "893:\tlearn: 0.0748793\ttotal: 815ms\tremaining: 96.6ms\n",
      "894:\tlearn: 0.0746759\ttotal: 816ms\tremaining: 95.7ms\n",
      "895:\tlearn: 0.0745984\ttotal: 817ms\tremaining: 94.8ms\n",
      "896:\tlearn: 0.0745921\ttotal: 817ms\tremaining: 93.9ms\n",
      "897:\tlearn: 0.0745247\ttotal: 818ms\tremaining: 92.9ms\n",
      "898:\tlearn: 0.0744419\ttotal: 819ms\tremaining: 92ms\n",
      "899:\tlearn: 0.0744354\ttotal: 820ms\tremaining: 91.1ms\n",
      "900:\tlearn: 0.0742949\ttotal: 821ms\tremaining: 90.2ms\n",
      "901:\tlearn: 0.0742168\ttotal: 821ms\tremaining: 89.2ms\n",
      "902:\tlearn: 0.0741293\ttotal: 822ms\tremaining: 88.3ms\n",
      "903:\tlearn: 0.0740891\ttotal: 823ms\tremaining: 87.4ms\n",
      "904:\tlearn: 0.0740081\ttotal: 824ms\tremaining: 86.5ms\n",
      "905:\tlearn: 0.0739408\ttotal: 825ms\tremaining: 85.5ms\n",
      "906:\tlearn: 0.0738308\ttotal: 825ms\tremaining: 84.6ms\n",
      "907:\tlearn: 0.0737373\ttotal: 826ms\tremaining: 83.7ms\n",
      "908:\tlearn: 0.0736114\ttotal: 827ms\tremaining: 82.8ms\n",
      "909:\tlearn: 0.0735359\ttotal: 828ms\tremaining: 81.9ms\n",
      "910:\tlearn: 0.0734383\ttotal: 829ms\tremaining: 81ms\n",
      "911:\tlearn: 0.0733311\ttotal: 830ms\tremaining: 80ms\n",
      "912:\tlearn: 0.0732749\ttotal: 830ms\tremaining: 79.1ms\n",
      "913:\tlearn: 0.0731476\ttotal: 831ms\tremaining: 78.2ms\n",
      "914:\tlearn: 0.0730660\ttotal: 832ms\tremaining: 77.3ms\n",
      "915:\tlearn: 0.0729028\ttotal: 833ms\tremaining: 76.4ms\n",
      "916:\tlearn: 0.0727904\ttotal: 834ms\tremaining: 75.4ms\n",
      "917:\tlearn: 0.0726350\ttotal: 834ms\tremaining: 74.5ms\n",
      "918:\tlearn: 0.0725132\ttotal: 835ms\tremaining: 73.6ms\n",
      "919:\tlearn: 0.0723491\ttotal: 836ms\tremaining: 72.7ms\n",
      "920:\tlearn: 0.0722853\ttotal: 837ms\tremaining: 71.8ms\n",
      "921:\tlearn: 0.0721642\ttotal: 838ms\tremaining: 70.9ms\n",
      "922:\tlearn: 0.0721239\ttotal: 839ms\tremaining: 70ms\n",
      "923:\tlearn: 0.0721171\ttotal: 839ms\tremaining: 69ms\n",
      "924:\tlearn: 0.0720337\ttotal: 840ms\tremaining: 68.1ms\n",
      "925:\tlearn: 0.0719371\ttotal: 841ms\tremaining: 67.2ms\n",
      "926:\tlearn: 0.0718559\ttotal: 842ms\tremaining: 66.3ms\n",
      "927:\tlearn: 0.0718490\ttotal: 842ms\tremaining: 65.3ms\n",
      "928:\tlearn: 0.0717611\ttotal: 843ms\tremaining: 64.4ms\n",
      "929:\tlearn: 0.0716698\ttotal: 844ms\tremaining: 63.5ms\n",
      "930:\tlearn: 0.0715944\ttotal: 845ms\tremaining: 62.6ms\n",
      "931:\tlearn: 0.0715277\ttotal: 846ms\tremaining: 61.7ms\n",
      "932:\tlearn: 0.0714329\ttotal: 846ms\tremaining: 60.8ms\n",
      "933:\tlearn: 0.0713288\ttotal: 847ms\tremaining: 59.9ms\n",
      "934:\tlearn: 0.0712295\ttotal: 848ms\tremaining: 58.9ms\n",
      "935:\tlearn: 0.0710924\ttotal: 849ms\tremaining: 58ms\n",
      "936:\tlearn: 0.0710185\ttotal: 849ms\tremaining: 57.1ms\n",
      "937:\tlearn: 0.0709234\ttotal: 850ms\tremaining: 56.2ms\n",
      "938:\tlearn: 0.0708584\ttotal: 851ms\tremaining: 55.3ms\n",
      "939:\tlearn: 0.0707718\ttotal: 852ms\tremaining: 54.4ms\n",
      "940:\tlearn: 0.0706926\ttotal: 853ms\tremaining: 53.5ms\n",
      "941:\tlearn: 0.0705868\ttotal: 854ms\tremaining: 52.6ms\n",
      "942:\tlearn: 0.0705793\ttotal: 855ms\tremaining: 51.6ms\n",
      "943:\tlearn: 0.0704965\ttotal: 855ms\tremaining: 50.7ms\n",
      "944:\tlearn: 0.0704303\ttotal: 856ms\tremaining: 49.8ms\n",
      "945:\tlearn: 0.0703273\ttotal: 857ms\tremaining: 48.9ms\n",
      "946:\tlearn: 0.0702734\ttotal: 858ms\tremaining: 48ms\n",
      "947:\tlearn: 0.0702172\ttotal: 859ms\tremaining: 47.1ms\n",
      "948:\tlearn: 0.0701541\ttotal: 859ms\tremaining: 46.2ms\n",
      "949:\tlearn: 0.0699750\ttotal: 860ms\tremaining: 45.3ms\n",
      "950:\tlearn: 0.0698778\ttotal: 861ms\tremaining: 44.4ms\n",
      "951:\tlearn: 0.0697697\ttotal: 862ms\tremaining: 43.4ms\n",
      "952:\tlearn: 0.0696865\ttotal: 862ms\tremaining: 42.5ms\n",
      "953:\tlearn: 0.0695980\ttotal: 863ms\tremaining: 41.6ms\n",
      "954:\tlearn: 0.0694715\ttotal: 864ms\tremaining: 40.7ms\n",
      "955:\tlearn: 0.0693753\ttotal: 865ms\tremaining: 39.8ms\n",
      "956:\tlearn: 0.0693686\ttotal: 866ms\tremaining: 38.9ms\n",
      "957:\tlearn: 0.0691984\ttotal: 867ms\tremaining: 38ms\n",
      "958:\tlearn: 0.0690728\ttotal: 868ms\tremaining: 37.1ms\n",
      "959:\tlearn: 0.0690080\ttotal: 868ms\tremaining: 36.2ms\n",
      "960:\tlearn: 0.0690002\ttotal: 869ms\tremaining: 35.3ms\n"
     ]
    },
    {
     "name": "stdout",
     "output_type": "stream",
     "text": [
      "961:\tlearn: 0.0688667\ttotal: 870ms\tremaining: 34.4ms\n",
      "962:\tlearn: 0.0688091\ttotal: 871ms\tremaining: 33.5ms\n",
      "963:\tlearn: 0.0687502\ttotal: 872ms\tremaining: 32.6ms\n",
      "964:\tlearn: 0.0686702\ttotal: 873ms\tremaining: 31.7ms\n",
      "965:\tlearn: 0.0685354\ttotal: 874ms\tremaining: 30.7ms\n",
      "966:\tlearn: 0.0684418\ttotal: 874ms\tremaining: 29.8ms\n",
      "967:\tlearn: 0.0682414\ttotal: 875ms\tremaining: 28.9ms\n",
      "968:\tlearn: 0.0681493\ttotal: 876ms\tremaining: 28ms\n",
      "969:\tlearn: 0.0680954\ttotal: 877ms\tremaining: 27.1ms\n",
      "970:\tlearn: 0.0679661\ttotal: 878ms\tremaining: 26.2ms\n",
      "971:\tlearn: 0.0678013\ttotal: 879ms\tremaining: 25.3ms\n",
      "972:\tlearn: 0.0677058\ttotal: 880ms\tremaining: 24.4ms\n",
      "973:\tlearn: 0.0676187\ttotal: 881ms\tremaining: 23.5ms\n",
      "974:\tlearn: 0.0674895\ttotal: 881ms\tremaining: 22.6ms\n",
      "975:\tlearn: 0.0674329\ttotal: 882ms\tremaining: 21.7ms\n",
      "976:\tlearn: 0.0673146\ttotal: 883ms\tremaining: 20.8ms\n",
      "977:\tlearn: 0.0672343\ttotal: 884ms\tremaining: 19.9ms\n",
      "978:\tlearn: 0.0671831\ttotal: 884ms\tremaining: 19ms\n",
      "979:\tlearn: 0.0670942\ttotal: 885ms\tremaining: 18.1ms\n",
      "980:\tlearn: 0.0670273\ttotal: 886ms\tremaining: 17.2ms\n",
      "981:\tlearn: 0.0669314\ttotal: 887ms\tremaining: 16.3ms\n",
      "982:\tlearn: 0.0668851\ttotal: 888ms\tremaining: 15.4ms\n",
      "983:\tlearn: 0.0668756\ttotal: 889ms\tremaining: 14.5ms\n",
      "984:\tlearn: 0.0667684\ttotal: 890ms\tremaining: 13.5ms\n",
      "985:\tlearn: 0.0666795\ttotal: 890ms\tremaining: 12.6ms\n",
      "986:\tlearn: 0.0666124\ttotal: 891ms\tremaining: 11.7ms\n",
      "987:\tlearn: 0.0666070\ttotal: 892ms\tremaining: 10.8ms\n",
      "988:\tlearn: 0.0664870\ttotal: 893ms\tremaining: 9.93ms\n",
      "989:\tlearn: 0.0664280\ttotal: 894ms\tremaining: 9.03ms\n",
      "990:\tlearn: 0.0663260\ttotal: 895ms\tremaining: 8.13ms\n",
      "991:\tlearn: 0.0661933\ttotal: 895ms\tremaining: 7.22ms\n",
      "992:\tlearn: 0.0661155\ttotal: 896ms\tremaining: 6.32ms\n",
      "993:\tlearn: 0.0659568\ttotal: 897ms\tremaining: 5.41ms\n",
      "994:\tlearn: 0.0658633\ttotal: 898ms\tremaining: 4.51ms\n",
      "995:\tlearn: 0.0658558\ttotal: 899ms\tremaining: 3.61ms\n",
      "996:\tlearn: 0.0657433\ttotal: 899ms\tremaining: 2.71ms\n",
      "997:\tlearn: 0.0656044\ttotal: 900ms\tremaining: 1.8ms\n",
      "998:\tlearn: 0.0654420\ttotal: 901ms\tremaining: 902us\n",
      "999:\tlearn: 0.0653964\ttotal: 902ms\tremaining: 0us\n"
     ]
    },
    {
     "data": {
      "text/plain": [
       "<catboost.core.CatBoostRegressor at 0x7ff0a35ffd60>"
      ]
     },
     "execution_count": 9,
     "metadata": {},
     "output_type": "execute_result"
    }
   ],
   "source": [
    "#Train the Model \n",
    "prior_model = ctb.CatBoostRegressor()\n",
    "prior_model.fit(X_train,Y_train)"
   ]
  },
  {
   "cell_type": "code",
   "execution_count": 10,
   "id": "af65dcda",
   "metadata": {
    "execution": {
     "iopub.execute_input": "2022-03-11T09:53:14.644606Z",
     "iopub.status.busy": "2022-03-11T09:53:14.644215Z",
     "iopub.status.idle": "2022-03-11T09:53:14.652018Z",
     "shell.execute_reply": "2022-03-11T09:53:14.652254Z"
    },
    "id": "af65dcda",
    "papermill": {
     "duration": 0.021028,
     "end_time": "2022-03-11T09:53:14.652366",
     "exception": false,
     "start_time": "2022-03-11T09:53:14.631338",
     "status": "completed"
    },
    "tags": []
   },
   "outputs": [
    {
     "data": {
      "application/scrapbook.scrap.json+json": {
       "data": 0.1285546828375277,
       "encoder": "json",
       "name": "Prior Model MSE",
       "version": 1
      }
     },
     "metadata": {
      "scrapbook": {
       "data": true,
       "display": false,
       "name": "Prior Model MSE"
      }
     },
     "output_type": "display_data"
    },
    {
     "data": {
      "application/scrapbook.scrap.json+json": {
       "data": 0.14960726247227746,
       "encoder": "json",
       "name": "ABC Pre-generator MSE",
       "version": 1
      }
     },
     "metadata": {
      "scrapbook": {
       "data": true,
       "display": false,
       "name": "ABC Pre-generator MSE"
      }
     },
     "output_type": "display_data"
    },
    {
     "data": {
      "application/scrapbook.scrap.json+json": {
       "data": 0.21765352717564435,
       "encoder": "json",
       "name": "Prior Model MAE",
       "version": 1
      }
     },
     "metadata": {
      "scrapbook": {
       "data": true,
       "display": false,
       "name": "Prior Model MAE"
      }
     },
     "output_type": "display_data"
    },
    {
     "data": {
      "application/scrapbook.scrap.json+json": {
       "data": 0.2414948606508265,
       "encoder": "json",
       "name": "ABC Pre-generator MAE",
       "version": 1
      }
     },
     "metadata": {
      "scrapbook": {
       "data": true,
       "display": false,
       "name": "ABC Pre-generator MAE"
      }
     },
     "output_type": "display_data"
    }
   ],
   "source": [
    "y_pred = prior_model.predict(X_test)\n",
    "y_abc = y_pred + np.random.normal(0,variance, y_pred.shape)\n",
    "mse = mean_squared_error(y_pred,Y_test)\n",
    "sb.glue(\"Prior Model MSE\",mse)\n",
    "mse = mean_squared_error(y_abc,Y_test)\n",
    "sb.glue(\"ABC Pre-generator MSE\",mse)\n",
    "\n",
    "mae = mean_absolute_error(y_pred,Y_test)\n",
    "sb.glue(\"Prior Model MAE\",mae)\n",
    "mae = mean_absolute_error(y_abc,Y_test)\n",
    "sb.glue(\"ABC Pre-generator MAE\",mae)"
   ]
  },
  {
   "cell_type": "markdown",
   "id": "25609da2",
   "metadata": {
    "papermill": {
     "duration": 0.009785,
     "end_time": "2022-03-11T09:53:14.672175",
     "exception": false,
     "start_time": "2022-03-11T09:53:14.662390",
     "status": "completed"
    },
    "tags": []
   },
   "source": [
    "# ABC GAN Model"
   ]
  },
  {
   "cell_type": "code",
   "execution_count": 11,
   "id": "dfc3464d",
   "metadata": {
    "execution": {
     "iopub.execute_input": "2022-03-11T09:53:14.694600Z",
     "iopub.status.busy": "2022-03-11T09:53:14.694211Z",
     "iopub.status.idle": "2022-03-11T09:53:14.696783Z",
     "shell.execute_reply": "2022-03-11T09:53:14.697025Z"
    },
    "papermill": {
     "duration": 0.015222,
     "end_time": "2022-03-11T09:53:14.697130",
     "exception": false,
     "start_time": "2022-03-11T09:53:14.681908",
     "status": "completed"
    },
    "tags": []
   },
   "outputs": [],
   "source": [
    "gen = network.Generator(n_features+1).to(device)\n",
    "disc = network.Discriminator(n_features+1).to(device)\n",
    "\n",
    "criterion = torch.nn.BCELoss()\n",
    "gen_opt = torch.optim.Adam(gen.parameters(), lr=0.001, betas=(0.5, 0.999))\n",
    "disc_opt = torch.optim.Adam(disc.parameters(), lr=0.001, betas=(0.5, 0.999))"
   ]
  },
  {
   "cell_type": "code",
   "execution_count": 12,
   "id": "b75fdd85",
   "metadata": {
    "execution": {
     "iopub.execute_input": "2022-03-11T09:53:14.719129Z",
     "iopub.status.busy": "2022-03-11T09:53:14.718751Z",
     "iopub.status.idle": "2022-03-11T09:53:50.431988Z",
     "shell.execute_reply": "2022-03-11T09:53:50.432299Z"
    },
    "papermill": {
     "duration": 35.725388,
     "end_time": "2022-03-11T09:53:50.432431",
     "exception": false,
     "start_time": "2022-03-11T09:53:14.707043",
     "status": "completed"
    },
    "tags": []
   },
   "outputs": [
    {
     "data": {
      "image/png": "[encoded data removed]",
      "text/plain": [
       "<Figure size 432x288 with 1 Axes>"
      ]
     },
     "metadata": {
      "needs_background": "light"
     },
     "output_type": "display_data"
    },
    {
     "data": {
      "image/png": "[encoded data removed]",
      "text/plain": [
       "<Figure size 432x288 with 1 Axes>"
      ]
     },
     "metadata": {
      "needs_background": "light"
     },
     "output_type": "display_data"
    }
   ],
   "source": [
    "#Training the ABC_GAN \n",
    "ABC_train_test2.training_GAN(disc,gen,disc_opt,gen_opt,train_data,batch_size,n_epochs,criterion,prior_model,variance,0,device)"
   ]
  },
  {
   "cell_type": "code",
   "execution_count": 13,
   "id": "1fa7c368",
   "metadata": {
    "execution": {
     "iopub.execute_input": "2022-03-11T09:53:50.457953Z",
     "iopub.status.busy": "2022-03-11T09:53:50.457557Z",
     "iopub.status.idle": "2022-03-11T09:53:50.760517Z",
     "shell.execute_reply": "2022-03-11T09:53:50.760820Z"
    },
    "papermill": {
     "duration": 0.316898,
     "end_time": "2022-03-11T09:53:50.760946",
     "exception": false,
     "start_time": "2022-03-11T09:53:50.444048",
     "status": "completed"
    },
    "tags": []
   },
   "outputs": [
    {
     "data": {
      "application/scrapbook.scrap.json+json": {
       "data": 0.13389762590095133,
       "encoder": "json",
       "name": "ABC-GAN Model 1 MSE",
       "version": 1
      }
     },
     "metadata": {
      "scrapbook": {
       "data": true,
       "display": false,
       "name": "ABC-GAN Model 1 MSE"
      }
     },
     "output_type": "display_data"
    },
    {
     "data": {
      "application/scrapbook.scrap.json+json": {
       "data": 0.2115852523657183,
       "encoder": "json",
       "name": "ABC-GAN Model 1 MAE",
       "version": 1
      }
     },
     "metadata": {
      "scrapbook": {
       "data": true,
       "display": false,
       "name": "ABC-GAN Model 1 MAE"
      }
     },
     "output_type": "display_data"
    },
    {
     "data": {
      "application/scrapbook.scrap.json+json": {
       "data": 21.581695741303264,
       "encoder": "json",
       "name": "ABC-GAN Model 1 Manhattan Distance",
       "version": 1
      }
     },
     "metadata": {
      "scrapbook": {
       "data": true,
       "display": false,
       "name": "ABC-GAN Model 1 Manhattan Distance"
      }
     },
     "output_type": "display_data"
    },
    {
     "data": {
      "application/scrapbook.scrap.json+json": {
       "data": 3.6942550549606112,
       "encoder": "json",
       "name": "ABC-GAN Model 1 Euclidean distance",
       "version": 1
      }
     },
     "metadata": {
      "scrapbook": {
       "data": true,
       "display": false,
       "name": "ABC-GAN Model 1 Euclidean distance"
      }
     },
     "output_type": "display_data"
    },
    {
     "data": {
      "application/scrapbook.scrap.json+json": {
       "data": [
        [
         0.11947406773220184,
         0.13160128490430195,
         0.14790072693512304,
         0.12920478096239235,
         0.13906629189894051,
         0.12848094982949348,
         0.12078313505834277,
         0.1271595165247146,
         0.13506383580996142,
         0.13283662688690023,
         0.13530367251226288,
         0.13310577727607398,
         0.1281312566180667,
         0.1404760734243907,
         0.11722940373398995,
         0.13972447738882263,
         0.1422108907939058,
         0.12077811602181569,
         0.12966694983985363,
         0.12631835244398115,
         0.12179032304561083,
         0.13764766208022702,
         0.13644000309366594,
         0.1306351677658244,
         0.1357132263635004,
         0.1309981045741614,
         0.12904997770200533,
         0.13683247025128062,
         0.13886508991461682,
         0.14337500575158557,
         0.1346072940412341,
         0.13845956743070173,
         0.13451510868952465,
         0.1361402415058315,
         0.11694624635067677,
         0.13227693031298832,
         0.12492718572434966,
         0.13377510839754617,
         0.13421394137346201,
         0.11844086413762217,
         0.1320543460327134,
         0.13160525570056142,
         0.13344648922903932,
         0.12646961749941515,
         0.13300437504498114,
         0.14058540648680257,
         0.14268065358211757,
         0.13494121004809365,
         0.1440673220230804,
         0.14155272742123676,
         0.13143209439011785,
         0.1284607538700845,
         0.13730766592496085,
         0.14262326462972888,
         0.13279698824607658,
         0.1378289824414788,
         0.13688327091920344,
         0.12723547306928276,
         0.1327153614963503,
         0.12920021778184523,
         0.1294809391036589,
         0.14357898876226113,
         0.13181882518830282,
         0.1449862101388891,
         0.133278291341835,
         0.13637180992206369,
         0.1355078347035959,
         0.1354068880209795,
         0.11833172673840235,
         0.11998579517288009,
         0.1423748134879832,
         0.15167267909846868,
         0.12437932572537422,
         0.13167817945154175,
         0.13535783920711764,
         0.13699421922577615,
         0.12838124177270002,
         0.15104482342473435,
         0.13881640342833462,
         0.13180667400869567,
         0.13606094566867508,
         0.13973810443562848,
         0.13834240771008646,
         0.14047334522821267,
         0.12716450900579834,
         0.1371798385878555,
         0.12408402022849213,
         0.13941205821952676,
         0.13541710579568697,
         0.13093366416920374,
         0.13933719414241275,
         0.1310769121412856,
         0.13080215136749307,
         0.13531467215955384,
         0.13662321877579942,
         0.15239256686016683,
         0.13651894632626135,
         0.13999136792096245,
         0.133654954450563,
         0.13693391803875393
        ],
        [
         0.20293087251119168,
         0.21700915823891467,
         0.21896216892363393,
         0.21298954162892758,
         0.20779219041487165,
         0.21090842222831413,
         0.20650738289616272,
         0.20508126857891387,
         0.21286195061881752,
         0.2106501858717963,
         0.22026098897571073,
         0.21385867563167624,
         0.21463931518077267,
         0.2192851902332668,
         0.19890503565251244,
         0.21925263762401015,
         0.22219058131689534,
         0.2019223000160327,
         0.20333990135102295,
         0.21097763282630375,
         0.20921191512880957,
         0.2066883897481888,
         0.21770089665683462,
         0.20970513330151638,
         0.21150775292121313,
         0.20299121059988642,
         0.2116160906814769,
         0.21176112247813567,
         0.217078712549718,
         0.20810892562582797,
         0.2172790287500795,
         0.217833909498272,
         0.21327596780497068,
         0.2063464869142455,
         0.20007940522376813,
         0.207309729529216,
         0.2062322481845816,
         0.20900748412617864,
         0.21079094819359334,
         0.20161418655120275,
         0.21696924577083657,
         0.2062484924224954,
         0.21420430623944484,
         0.2119041732238496,
         0.21304479122673178,
         0.2130313081959007,
         0.21704242942745194,
         0.20716450084000826,
         0.2095808251121757,
         0.22527291061466231,
         0.21145048396040997,
         0.20924642088585624,
         0.2092469613086067,
         0.21492868488398836,
         0.20988866918738566,
         0.21560849561629927,
         0.2075519109071762,
         0.20893871157850122,
         0.21359485543022552,
         0.2116135942256626,
         0.2109614174411285,
         0.22070034069246522,
         0.21791919538130364,
         0.21035899464771443,
         0.21407449484674954,
         0.21561242294881275,
         0.2089207268630465,
         0.21528977310905853,
         0.20301251451247462,
         0.20599237159259765,
         0.22311506582898835,
         0.22247315492188813,
         0.21076619553872766,
         0.22239561830008148,
         0.22159124759263268,
         0.21276822260708786,
         0.20598281863346404,
         0.21077422551153338,
         0.214396173846634,
         0.20908211684767522,
         0.21262655843633646,
         0.21025955704424312,
         0.20893936299298907,
         0.20854341561960824,
         0.20221940152274043,
         0.21601151618376083,
         0.20246781319306761,
         0.21548416660915987,
         0.2158989494885592,
         0.20427343915855767,
         0.2129150582842675,
         0.20971219195966043,
         0.21073915267034488,
         0.20416599411663472,
         0.20982623522115104,
         0.21670314620303757,
         0.20408076473383926,
         0.2265759626330406,
         0.20575388906267927,
         0.21214485352895424
        ],
        [
         20.698948996141553,
         22.134934140369296,
         22.334141230210662,
         21.724933246150613,
         21.19480342231691,
         21.51265906728804,
         21.063753055408597,
         20.918289395049214,
         21.711918963119388,
         21.48631895892322,
         22.466620875522494,
         21.813584914430976,
         21.89321014843881,
         22.367089403793216,
         20.288313636556268,
         22.363769037649035,
         22.663439294323325,
         20.596074601635337,
         20.74066993780434,
         21.51971854828298,
         21.339615343138576,
         21.082215754315257,
         22.20549145899713,
         21.38992359675467,
         21.57379079796374,
         20.705103481188416,
         21.584841249510646,
         21.599634492769837,
         22.142028680071235,
         21.227110413834453,
         22.16246093250811,
         22.219058768823743,
         21.75414871610701,
         21.047341665253043,
         20.40809933282435,
         21.145592411980033,
         21.035689314827323,
         21.318763380870223,
         21.500676715746522,
         20.56464702822268,
         22.13086306862533,
         21.03734622709453,
         21.848839236423373,
         21.61422566883266,
         21.730568705126643,
         21.72919343598187,
         22.1383278016001,
         21.130779085680842,
         21.377244161441922,
         22.977836882695556,
         21.567949363961816,
         21.343134930357337,
         21.343190053477883,
         21.922725858166814,
         21.408644257113338,
         21.992066552862525,
         21.170294912531972,
         21.311748581007123,
         21.786675253883004,
         21.584586611017585,
         21.51806457899511,
         22.51143475063145,
         22.22775792889297,
         21.456617454066873,
         21.835598474368453,
         21.9924671407789,
         21.30991414003074,
         21.95955685712397,
         20.707276480272412,
         21.01122190244496,
         22.757736714556813,
         22.69226180203259,
         21.498151944950223,
         22.68435306660831,
         22.602307254448533,
         21.70235870592296,
         21.010247500613332,
         21.498971002176404,
         21.868409732356668,
         21.326375918462873,
         21.68790896050632,
         21.446474818512797,
         21.311815025284886,
         21.27142839320004,
         20.626378955319524,
         22.033174650743604,
         20.651716945692897,
         21.979384994134307,
         22.021692847833037,
         20.835890794172883,
         21.717335944995284,
         21.390643579885364,
         21.49539357237518,
         20.82493139989674,
         21.402275992557406,
         22.103720912709832,
         20.816238002851605,
         23.110748188570142,
         20.986896684393287,
         21.638775059953332
        ],
        [
         3.4908960037051497,
         3.663786437585957,
         3.8840538291046567,
         3.6302737717924267,
         3.7662662908631312,
         3.620090728505065,
         3.5099686289126515,
         3.601426201593042,
         3.7116722986567736,
         3.6809422628538764,
         3.714966298131224,
         3.6846694942911147,
         3.615160878168882,
         3.7853083743980283,
         3.4579472495784223,
         3.7751684324887953,
         3.80861009568824,
         3.5098957013314798,
         3.636760768000153,
         3.589494664891713,
         3.524572733063158,
         3.747007009892449,
         3.7305335162083617,
         3.650313289584071,
         3.72058450906266,
         3.655380509135056,
         3.6280983621732945,
         3.735895068873137,
         3.763540775824133,
         3.8241666525743523,
         3.705393905134226,
         3.7580414949720247,
         3.704124874559646,
         3.726433232139658,
         3.4537685399819464,
         3.6731793982767575,
         3.569674066897938,
         3.693922177922771,
         3.6999759485830612,
         3.4757687123911825,
         3.6700876413699937,
         3.6638417107535175,
         3.6893823197605866,
         3.5916432151510183,
         3.683265705130174,
         3.786781147842301,
         3.8148953675528228,
         3.7099869844657887,
         3.833388428838669,
         3.7997865988718558,
         3.661430543898384,
         3.619806195744271,
         3.742376507561205,
         3.8141280775863233,
         3.6803930226403554,
         3.7494741243314147,
         3.736588502064249,
         3.6025016659353315,
         3.679261729291316,
         3.63020966526015,
         3.634151316136026,
         3.8268860518377905,
         3.66681335347286,
         3.845594028777178,
         3.6870565112115066,
         3.7296011331039796,
         3.7177680320007567,
         3.7163829966971798,
         3.474166968831094,
         3.498364061619912,
         3.810804505058516,
         3.9332700476885387,
         3.561838180488856,
         3.6648566553219046,
         3.715709837854134,
         3.738102508095406,
         3.618685764309385,
         3.925120633728714,
         3.762880964060665,
         3.6666443444772434,
         3.725347830499168,
         3.7753525202865625,
         3.7564511958002074,
         3.7852716168430622,
         3.6014968997059307,
         3.740634108805786,
         3.5576073509180572,
         3.770945496608473,
         3.716523212783699,
         3.654481323698177,
         3.769932864458742,
         3.6564798698216747,
         3.6526455398086863,
         3.7151173010114342,
         3.733037411429403,
         3.942593286117275,
         3.731612590459875,
         3.77877222493473,
         3.692262904230605,
         3.7372797112275253
        ]
       ],
       "encoder": "json",
       "name": "ABC_GAN_1 Metrics",
       "version": 1
      }
     },
     "metadata": {
      "scrapbook": {
       "data": true,
       "display": false,
       "name": "ABC_GAN_1 Metrics"
      }
     },
     "output_type": "display_data"
    },
    {
     "name": "stdout",
     "output_type": "stream",
     "text": [
      "MSE\n",
      "0.13389762590095133\n"
     ]
    }
   ],
   "source": [
    "ABC_GAN1_metrics=ABC_train_test2.test_generator(gen,test_data,prior_model,variance,0,\"1\",device)\n",
    "sb.glue(\"ABC_GAN_1 Metrics\",ABC_GAN1_metrics)\n",
    "\n",
    "print(\"MSE\")\n",
    "print(mean(ABC_GAN1_metrics[0]))"
   ]
  },
  {
   "cell_type": "code",
   "execution_count": 14,
   "id": "eb22ce5c",
   "metadata": {
    "execution": {
     "iopub.execute_input": "2022-03-11T09:53:50.788469Z",
     "iopub.status.busy": "2022-03-11T09:53:50.788098Z",
     "iopub.status.idle": "2022-03-11T09:53:51.105455Z",
     "shell.execute_reply": "2022-03-11T09:53:51.105744Z"
    },
    "papermill": {
     "duration": 0.332254,
     "end_time": "2022-03-11T09:53:51.105865",
     "exception": false,
     "start_time": "2022-03-11T09:53:50.773611",
     "status": "completed"
    },
    "tags": []
   },
   "outputs": [
    {
     "data": {
      "image/png": "[encoded data removed]",
      "text/plain": [
       "<Figure size 432x288 with 1 Axes>"
      ]
     },
     "metadata": {
      "needs_background": "light"
     },
     "output_type": "display_data"
    },
    {
     "data": {
      "image/png": "[encoded data removed]",
      "text/plain": [
       "<Figure size 432x288 with 1 Axes>"
      ]
     },
     "metadata": {
      "needs_background": "light"
     },
     "output_type": "display_data"
    },
    {
     "data": {
      "image/png": "[encoded data removed]",
      "text/plain": [
       "<Figure size 432x288 with 1 Axes>"
      ]
     },
     "metadata": {
      "needs_background": "light"
     },
     "output_type": "display_data"
    },
    {
     "data": {
      "image/png": "[encoded data removed]",
      "text/plain": [
       "<Figure size 432x288 with 1 Axes>"
      ]
     },
     "metadata": {
      "needs_background": "light"
     },
     "output_type": "display_data"
    }
   ],
   "source": [
    "sanityChecks.discProbVsError(train_data,disc,device)\n",
    "sanityChecks.discProbVsError(test_data,disc,device)"
   ]
  },
  {
   "cell_type": "markdown",
   "id": "130f3a4d",
   "metadata": {
    "id": "130f3a4d",
    "papermill": {
     "duration": 0.014509,
     "end_time": "2022-03-11T09:53:51.135659",
     "exception": false,
     "start_time": "2022-03-11T09:53:51.121150",
     "status": "completed"
    },
    "tags": []
   },
   "source": [
    "# ABC - GAN Model with skip connection"
   ]
  },
  {
   "cell_type": "code",
   "execution_count": 15,
   "id": "4e43dad1",
   "metadata": {
    "execution": {
     "iopub.execute_input": "2022-03-11T09:53:51.168276Z",
     "iopub.status.busy": "2022-03-11T09:53:51.167904Z",
     "iopub.status.idle": "2022-03-11T09:53:51.170116Z",
     "shell.execute_reply": "2022-03-11T09:53:51.170367Z"
    },
    "id": "4e43dad1",
    "papermill": {
     "duration": 0.020246,
     "end_time": "2022-03-11T09:53:51.170478",
     "exception": false,
     "start_time": "2022-03-11T09:53:51.150232",
     "status": "completed"
    },
    "tags": []
   },
   "outputs": [],
   "source": [
    "#Generator\n",
    "gen3 = network.GeneratorWithSkipConnection(n_features+1).to(device)\n",
    "constraints=network.weightConstraint()\n",
    "#Discriminator \n",
    "disc3 = network.Discriminator(n_features+1).to(device)\n",
    "\n",
    "criterion = torch.nn.BCELoss()\n",
    "gen_opt = torch.optim.Adam(gen3.parameters(), lr=0.001, betas=(0.5, 0.999))\n",
    "disc_opt = torch.optim.Adam(disc3.parameters(), lr=0.001, betas=(0.5, 0.999))\n"
   ]
  },
  {
   "cell_type": "code",
   "execution_count": 16,
   "id": "26acbc37",
   "metadata": {
    "execution": {
     "iopub.execute_input": "2022-03-11T09:53:51.202487Z",
     "iopub.status.busy": "2022-03-11T09:53:51.202130Z",
     "iopub.status.idle": "2022-03-11T09:56:18.265502Z",
     "shell.execute_reply": "2022-03-11T09:56:18.265826Z"
    },
    "id": "26acbc37",
    "papermill": {
     "duration": 147.080599,
     "end_time": "2022-03-11T09:56:18.265952",
     "exception": false,
     "start_time": "2022-03-11T09:53:51.185353",
     "status": "completed"
    },
    "tags": []
   },
   "outputs": [
    {
     "data": {
      "image/png": "[encoded data removed]",
      "text/plain": [
       "<Figure size 432x288 with 1 Axes>"
      ]
     },
     "metadata": {
      "needs_background": "light"
     },
     "output_type": "display_data"
    },
    {
     "data": {
      "image/png": "[encoded data removed]",
      "text/plain": [
       "<Figure size 432x288 with 1 Axes>"
      ]
     },
     "metadata": {
      "needs_background": "light"
     },
     "output_type": "display_data"
    }
   ],
   "source": [
    "ABC_train_test2.training_GAN_skip_connection(disc3,gen3,disc_opt,gen_opt,train_data,batch_size,n_epochs,criterion,prior_model,variance,0,device)"
   ]
  },
  {
   "cell_type": "code",
   "execution_count": 17,
   "id": "c5e0717b",
   "metadata": {
    "execution": {
     "iopub.execute_input": "2022-03-11T09:56:18.300112Z",
     "iopub.status.busy": "2022-03-11T09:56:18.299736Z",
     "iopub.status.idle": "2022-03-11T09:56:19.111366Z",
     "shell.execute_reply": "2022-03-11T09:56:19.111663Z"
    },
    "id": "c5e0717b",
    "papermill": {
     "duration": 0.829789,
     "end_time": "2022-03-11T09:56:19.111787",
     "exception": false,
     "start_time": "2022-03-11T09:56:18.281998",
     "status": "completed"
    },
    "tags": []
   },
   "outputs": [
    {
     "data": {
      "application/scrapbook.scrap.json+json": {
       "data": 0.14962168585756785,
       "encoder": "json",
       "name": "ABC-GAN Model 3 MSE",
       "version": 1
      }
     },
     "metadata": {
      "scrapbook": {
       "data": true,
       "display": false,
       "name": "ABC-GAN Model 3 MSE"
      }
     },
     "output_type": "display_data"
    },
    {
     "data": {
      "application/scrapbook.scrap.json+json": {
       "data": 0.2379955070078665,
       "encoder": "json",
       "name": "ABC-GAN Model 3 MAE",
       "version": 1
      }
     },
     "metadata": {
      "scrapbook": {
       "data": true,
       "display": false,
       "name": "ABC-GAN Model 3 MAE"
      }
     },
     "output_type": "display_data"
    },
    {
     "data": {
      "application/scrapbook.scrap.json+json": {
       "data": 24.275541714802383,
       "encoder": "json",
       "name": "ABC-GAN Model 3 Manhattan Distance",
       "version": 1
      }
     },
     "metadata": {
      "scrapbook": {
       "data": true,
       "display": false,
       "name": "ABC-GAN Model 3 Manhattan Distance"
      }
     },
     "output_type": "display_data"
    },
    {
     "data": {
      "application/scrapbook.scrap.json+json": {
       "data": 3.90560875028974,
       "encoder": "json",
       "name": "ABC-GAN Model 3 Euclidean distance",
       "version": 1
      }
     },
     "metadata": {
      "scrapbook": {
       "data": true,
       "display": false,
       "name": "ABC-GAN Model 3 Euclidean distance"
      }
     },
     "output_type": "display_data"
    },
    {
     "data": {
      "application/scrapbook.scrap.json+json": {
       "data": [
        [
         0.14703372973533727,
         0.15511119526277578,
         0.14983312526702183,
         0.1399078805516728,
         0.13888823366170766,
         0.15064809930462322,
         0.15655160926634082,
         0.1414271591964928,
         0.1527746983451847,
         0.14670449861751922,
         0.15011270591086165,
         0.1538277991029208,
         0.1498177313034063,
         0.14464967580627322,
         0.15193117354136967,
         0.1512594092853023,
         0.15946721441611938,
         0.1538160863700449,
         0.1475105967273864,
         0.1528707777257578,
         0.14467074241881006,
         0.13392794676413747,
         0.1485095358523526,
         0.14516308136379885,
         0.14736532627365131,
         0.1439041850299804,
         0.1423873750915335,
         0.15153345376097926,
         0.14613465308268872,
         0.15737480063948353,
         0.14093460631268176,
         0.15009919404609112,
         0.14944971457347705,
         0.15531892716010193,
         0.16156989894751694,
         0.16363485131680294,
         0.1498096728928895,
         0.1595292520897297,
         0.1468077743845562,
         0.15282337296256965,
         0.14514290573051716,
         0.14506950970750426,
         0.15365284095971765,
         0.15443298638055092,
         0.1439259590992668,
         0.1498063376050691,
         0.1525579337542142,
         0.14549313660335303,
         0.14332488141750743,
         0.13982430148060845,
         0.15582792500502318,
         0.15864112512687453,
         0.15926060376202897,
         0.1519739115805925,
         0.15499099213875475,
         0.13546559600580915,
         0.14317882096701107,
         0.14746294916493963,
         0.1479523656435997,
         0.14341381914324414,
         0.1366361863199776,
         0.14459141314116575,
         0.1481692333970096,
         0.15296490399863838,
         0.143040490466132,
         0.14267009601151226,
         0.17037679091544283,
         0.1550173909116939,
         0.15147739844694455,
         0.14762368514420438,
         0.14257629034677957,
         0.14754235568828458,
         0.15327553883965472,
         0.15893956598576117,
         0.15002138489966643,
         0.14716738548754413,
         0.14280420965394044,
         0.16228798321646515,
         0.1509795592327164,
         0.15027803802593726,
         0.14845060109053668,
         0.13735413002204297,
         0.1441374655122993,
         0.14792753125841535,
         0.161513969481674,
         0.1607644734381146,
         0.14682455149132728,
         0.14896354980258916,
         0.14288485692790204,
         0.15323282953811843,
         0.15746857114224055,
         0.14273487261647033,
         0.14989788000471124,
         0.1529033481042681,
         0.15050601045881454,
         0.16037068519447614,
         0.1591828046633586,
         0.14580403155493707,
         0.14090927566064151,
         0.15540658202623805
        ],
        [
         0.23273722109768322,
         0.24468356895023116,
         0.23814080949580552,
         0.22345070827606262,
         0.2416113329978258,
         0.2416456398535885,
         0.2433843941555596,
         0.2421114732712215,
         0.23826386478236494,
         0.23197190171363308,
         0.23553271743231544,
         0.24596227959309722,
         0.2401274280513034,
         0.22290206464993603,
         0.2403484962917134,
         0.23537992392027496,
         0.24608065649940103,
         0.24407706015250263,
         0.23450931377124554,
         0.23371107673601194,
         0.2321301970229137,
         0.23452105276359647,
         0.24288357142359018,
         0.2401858170279393,
         0.22933905984402872,
         0.23701605969565173,
         0.22882998824192613,
         0.23669382559099034,
         0.23938644310349927,
         0.2411088562552251,
         0.22419317013711906,
         0.24329982382044488,
         0.23224712745743056,
         0.23750213898864447,
         0.2497330392509991,
         0.2459038097740096,
         0.24197508009406282,
         0.24093043203374334,
         0.24007807761503785,
         0.23497557674772016,
         0.23904346698420306,
         0.23066280862572147,
         0.24194918640469218,
         0.23618074464520403,
         0.24244974056879678,
         0.22902270755274037,
         0.24446956899163186,
         0.22745461369335068,
         0.22399134161498616,
         0.23456127934303939,
         0.24035930290233856,
         0.24201131423971817,
         0.25204153572592664,
         0.2366850961218862,
         0.24455173596666724,
         0.23581698951402716,
         0.23288364958602423,
         0.23382930847469205,
         0.23981294709750833,
         0.24087639907192365,
         0.23319426589809797,
         0.22599606124647692,
         0.23941538820737132,
         0.24301350976833525,
         0.22257970775678462,
         0.22765301025527365,
         0.23560324199862925,
         0.248543062174291,
         0.23046268166645484,
         0.23159691733399443,
         0.22839303813217318,
         0.2344321030575563,
         0.24475001832287685,
         0.24964510486917754,
         0.22533561492010074,
         0.2375479145705992,
         0.24367943765851213,
         0.2540865850397477,
         0.24409751416932718,
         0.24797347496610647,
         0.23796313414897988,
         0.2377894042132824,
         0.23773068532932037,
         0.23817164617974093,
         0.25008561807301116,
         0.2397783189354574,
         0.23965674220566072,
         0.23184289620714446,
         0.2350124023014716,
         0.22494745953921594,
         0.24696246068924665,
         0.23677094724467573,
         0.2380144493471758,
         0.2466791384652549,
         0.24251760014643273,
         0.24648182999853993,
         0.24820446292413215,
         0.24641349365679072,
         0.22516473198273018,
         0.24314581148107262
        ],
        [
         23.739196551963687,
         24.95772403292358,
         24.290362568572164,
         22.791972244158387,
         24.64435596577823,
         24.647855265066028,
         24.825208203867078,
         24.695370273664594,
         24.302914207801223,
         23.661133974790573,
         24.024337178096175,
         25.088152518495917,
         24.49299766123295,
         22.736010594293475,
         24.515546621754766,
         24.008752239868045,
         25.100226962938905,
         24.895860135555267,
         23.919950004667044,
         23.838529827073216,
         23.6772800963372,
         23.92114738188684,
         24.7741242852062,
         24.49895333684981,
         23.39258410409093,
         24.175638088956475,
         23.340658800676465,
         24.142770210281014,
         24.417417196556926,
         24.59310333803296,
         22.867703353986144,
         24.816582029685378,
         23.689207000657916,
         24.225218176841736,
         25.47277000360191,
         25.08218859694898,
         24.681458169594407,
         24.57490406744182,
         24.48796391673386,
         23.967508828267455,
         24.38243363238871,
         23.52760647982359,
         24.678817013278604,
         24.09043595381081,
         24.729873538017273,
         23.36031617037952,
         24.93589603714645,
         23.20037059672177,
         22.84711684472859,
         23.925250492990017,
         24.516648896038532,
         24.685154052451253,
         25.70823664404452,
         24.141879804432392,
         24.94427706860006,
         24.05333293043077,
         23.754132257774472,
         23.85058946441859,
         24.46092060394585,
         24.569392705336213,
         23.785815121605992,
         23.051598247140646,
         24.420369597151875,
         24.787377996370196,
         22.70313019119203,
         23.220607046037912,
         24.031530683860183,
         25.351392341777682,
         23.507193529978395,
         23.62288556806743,
         23.296089889481664,
         23.912074511870742,
         24.96450186893344,
         25.463800696656108,
         22.984232721850276,
         24.22988728620112,
         24.855302641168237,
         25.916831674054265,
         24.897946445271373,
         25.29329444654286,
         24.27223968319595,
         24.254519229754806,
         24.24852990359068,
         24.293507910333574,
         25.508733043447137,
         24.457388531416655,
         24.444987704977393,
         23.647975413128734,
         23.971265034750104,
         22.944640873000026,
         25.19017099030316,
         24.150636618956923,
         24.277473833411932,
         25.161272123456,
         24.736795214936137,
         25.141146659851074,
         25.31685521826148,
         25.134176352992654,
         22.96680266223848,
         24.800872771069407
        ],
        [
         3.8726528934316327,
         3.9776050478652514,
         3.9093450573256154,
         3.777645274012718,
         3.7638543852670727,
         3.919962516283997,
         3.9960310490744133,
         3.798100872546997,
         3.947533309702255,
         3.868314731118314,
         3.9129906724790287,
         3.961115437411276,
         3.909144227698364,
         3.8411283410268737,
         3.9366203399895836,
         3.9279078078667817,
         4.033070278391412,
         3.96096463121606,
         3.8789277985280175,
         3.9487744083484055,
         3.841408039601966,
         3.696031732810477,
         3.8920396525395224,
         3.847938967695237,
         3.877017317463572,
         3.8312174139636084,
         3.810972613301809,
         3.9314643942963388,
         3.8607945573980293,
         4.00652338882819,
         3.7914812203007857,
         3.9128145615018988,
         3.9043400065177027,
         3.980267650589643,
         4.059572599750708,
         4.085432025418352,
         3.9090390935720665,
         4.033854696583954,
         3.8696760829848187,
         3.948162109410162,
         3.8476715536169075,
         3.846698583222427,
         3.9588621822300403,
         3.968899672556134,
         3.8315072527825405,
         3.908995578881747,
         3.94473183409593,
         3.8523109860889995,
         3.8234981240463237,
         3.776516748410108,
         3.986784211681435,
         4.022610441360336,
         4.030456746291535,
         3.937173984118613,
         3.9760635304472918,
         3.7171885602687054,
         3.8215493897940305,
         3.8783012795325535,
         3.884731817725281,
         3.8246842422101857,
         3.733214567184387,
         3.840354689400304,
         3.8875778842995508,
         3.949989899716341,
         3.8197028716309154,
         3.814754224478197,
         4.1687447359337275,
         3.9764021266708895,
         3.9307371626182714,
         3.880414396003195,
         3.8134999167918586,
         3.8793453417045796,
         3.9539986041531137,
         4.026392396494366,
         3.9118002581632374,
         3.8744126419019307,
         3.81654678796185,
         4.068583818490095,
         3.9242725493697646,
         3.9151449371186238,
         3.891267314286534,
         3.743009652972909,
         3.8343215152428898,
         3.8844057703023713,
         4.058869902710697,
         4.049441478857014,
         3.8698971888301354,
         3.897984361162073,
         3.817624314497958,
         3.953447686878894,
         4.007716838364274,
         3.8156201339860827,
         3.910189734588405,
         3.9491950454029667,
         3.918113457622058,
         4.044478939225246,
         4.029472183259561,
         3.856424667824276,
         3.791140477136851,
         3.981390632263591
        ]
       ],
       "encoder": "json",
       "name": "ABC_GAN_3 Metrics",
       "version": 1
      }
     },
     "metadata": {
      "scrapbook": {
       "data": true,
       "display": false,
       "name": "ABC_GAN_3 Metrics"
      }
     },
     "output_type": "display_data"
    },
    {
     "name": "stdout",
     "output_type": "stream",
     "text": [
      "MSE\n",
      "0.14962168585756785\n"
     ]
    }
   ],
   "source": [
    "ABC_GAN3_metrics=ABC_train_test2.test_generator(gen3,test_data,prior_model,variance,0,\"3\",device)\n",
    "sb.glue(\"ABC_GAN_3 Metrics\",ABC_GAN3_metrics)\n",
    "\n",
    "print(\"MSE\")\n",
    "print(mean(ABC_GAN3_metrics[0]))"
   ]
  },
  {
   "cell_type": "code",
   "execution_count": 18,
   "id": "c8e46b48",
   "metadata": {
    "execution": {
     "iopub.execute_input": "2022-03-11T09:56:19.148582Z",
     "iopub.status.busy": "2022-03-11T09:56:19.148201Z",
     "iopub.status.idle": "2022-03-11T09:56:19.464308Z",
     "shell.execute_reply": "2022-03-11T09:56:19.464601Z"
    },
    "id": "c8e46b48",
    "papermill": {
     "duration": 0.335609,
     "end_time": "2022-03-11T09:56:19.464725",
     "exception": false,
     "start_time": "2022-03-11T09:56:19.129116",
     "status": "completed"
    },
    "tags": []
   },
   "outputs": [
    {
     "data": {
      "image/png": "[encoded data removed]",
      "text/plain": [
       "<Figure size 432x288 with 1 Axes>"
      ]
     },
     "metadata": {
      "needs_background": "light"
     },
     "output_type": "display_data"
    },
    {
     "data": {
      "image/png": "[encoded data removed]",
      "text/plain": [
       "<Figure size 432x288 with 1 Axes>"
      ]
     },
     "metadata": {
      "needs_background": "light"
     },
     "output_type": "display_data"
    },
    {
     "data": {
      "image/png": "[encoded data removed]",
      "text/plain": [
       "<Figure size 432x288 with 1 Axes>"
      ]
     },
     "metadata": {
      "needs_background": "light"
     },
     "output_type": "display_data"
    },
    {
     "data": {
      "image/png": "[encoded data removed]",
      "text/plain": [
       "<Figure size 432x288 with 1 Axes>"
      ]
     },
     "metadata": {
      "needs_background": "light"
     },
     "output_type": "display_data"
    }
   ],
   "source": [
    "sanityChecks.discProbVsError(train_data,disc3,device)\n",
    "sanityChecks.discProbVsError(test_data,disc3,device)"
   ]
  },
  {
   "cell_type": "markdown",
   "id": "a5bd74c3",
   "metadata": {
    "id": "a5bd74c3",
    "papermill": {
     "duration": 0.019704,
     "end_time": "2022-03-11T09:56:19.504054",
     "exception": false,
     "start_time": "2022-03-11T09:56:19.484350",
     "status": "completed"
    },
    "tags": []
   },
   "source": [
    "## Skip Connection Model Analysis - ABC-GAN "
   ]
  },
  {
   "cell_type": "markdown",
   "id": "5744a8bf",
   "metadata": {
    "id": "5744a8bf",
    "papermill": {
     "duration": 0.019105,
     "end_time": "2022-03-11T09:56:19.542474",
     "exception": false,
     "start_time": "2022-03-11T09:56:19.523369",
     "status": "completed"
    },
    "tags": []
   },
   "source": [
    "### Weight Analysis \n",
    "\n",
    "Study the weights of the skip connection layer\n",
    "\n",
    "Equation of the skip connection is \n",
    "\n",
    "$output = y_{gan} * w + y_{abc} * (1-w)$"
   ]
  },
  {
   "cell_type": "code",
   "execution_count": 19,
   "id": "52c31dea",
   "metadata": {
    "execution": {
     "iopub.execute_input": "2022-03-11T09:56:19.583425Z",
     "iopub.status.busy": "2022-03-11T09:56:19.583052Z",
     "iopub.status.idle": "2022-03-11T09:56:19.586553Z",
     "shell.execute_reply": "2022-03-11T09:56:19.586796Z"
    },
    "id": "52c31dea",
    "papermill": {
     "duration": 0.025484,
     "end_time": "2022-03-11T09:56:19.586923",
     "exception": false,
     "start_time": "2022-03-11T09:56:19.561439",
     "status": "completed"
    },
    "tags": []
   },
   "outputs": [
    {
     "name": "stdout",
     "output_type": "stream",
     "text": [
      "Weight of the node at skip connection\n",
      "Parameter containing:\n",
      "tensor([[0.0626]], requires_grad=True)\n"
     ]
    },
    {
     "data": {
      "application/scrapbook.scrap.json+json": {
       "data": 0.06259312480688095,
       "encoder": "json",
       "name": "Skip Connection Weight",
       "version": 1
      }
     },
     "metadata": {
      "scrapbook": {
       "data": true,
       "display": false,
       "name": "Skip Connection Weight"
      }
     },
     "output_type": "display_data"
    }
   ],
   "source": [
    "print(\"Weight of the node at skip connection\")\n",
    "for name,param in gen3.named_parameters():\n",
    "    if(name == \"skipNode.weight\"):\n",
    "        print(param)\n",
    "        sb.glue(\"Skip Connection Weight\",param.item())"
   ]
  }
 ],
 "metadata": {
  "colab": {
   "collapsed_sections": [],
   "name": "ABC_GAN_Model-Catboost_Pre-gen.ipynb",
   "provenance": []
  },
  "interpreter": {
   "hash": "31f2aee4e71d21fbe5cf8b01ff0e069b9275f58929596ceb00d14d90e3e16cd6"
  },
  "kernelspec": {
   "display_name": "Python 3 (ipykernel)",
   "language": "python",
   "name": "python3"
  },
  "language_info": {
   "codemirror_mode": {
    "name": "ipython",
    "version": 3
   },
   "file_extension": ".py",
   "mimetype": "text/x-python",
   "name": "python",
   "nbconvert_exporter": "python",
   "pygments_lexer": "ipython3",
   "version": "3.8.11"
  },
  "papermill": {
   "default_parameters": {},
   "duration": 189.108692,
   "end_time": "2022-03-11T09:56:19.914525",
   "environment_variables": {},
   "exception": null,
   "input_path": "ABC_GAN-Catboost.ipynb",
   "output_path": "./ABC_GAN_Catboost/ABC-GAN_output_3_1.ipynb",
   "parameters": {
    "variance": 0.1
   },
   "start_time": "2022-03-11T09:53:10.805833",
   "version": "2.3.3"
  }
 },
 "nbformat": 4,
 "nbformat_minor": 5
}