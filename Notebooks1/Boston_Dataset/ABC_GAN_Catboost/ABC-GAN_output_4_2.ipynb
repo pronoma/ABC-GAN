{
 "cells": [
  {
   "cell_type": "markdown",
   "id": "622780e6",
   "metadata": {
    "id": "622780e6",
    "papermill": {
     "duration": 0.027402,
     "end_time": "2022-03-11T10:05:58.035621",
     "exception": false,
     "start_time": "2022-03-11T10:05:58.008219",
     "status": "completed"
    },
    "tags": []
   },
   "source": [
    "## Import Libraries "
   ]
  },
  {
   "cell_type": "code",
   "execution_count": 1,
   "id": "a62397e3",
   "metadata": {
    "execution": {
     "iopub.execute_input": "2022-03-11T10:05:58.070703Z",
     "iopub.status.busy": "2022-03-11T10:05:58.070150Z",
     "iopub.status.idle": "2022-03-11T10:05:58.072726Z",
     "shell.execute_reply": "2022-03-11T10:05:58.073112Z"
    },
    "id": "a62397e3",
    "papermill": {
     "duration": 0.023007,
     "end_time": "2022-03-11T10:05:58.073339",
     "exception": false,
     "start_time": "2022-03-11T10:05:58.050332",
     "status": "completed"
    },
    "tags": []
   },
   "outputs": [],
   "source": [
    "import warnings\n",
    "import sys\n",
    "sys.path.insert(0, '../../src')\n",
    "warnings.filterwarnings('ignore')"
   ]
  },
  {
   "cell_type": "code",
   "execution_count": 2,
   "id": "d6a4e155",
   "metadata": {
    "execution": {
     "iopub.execute_input": "2022-03-11T10:05:58.095158Z",
     "iopub.status.busy": "2022-03-11T10:05:58.094737Z",
     "iopub.status.idle": "2022-03-11T10:05:59.880784Z",
     "shell.execute_reply": "2022-03-11T10:05:59.881043Z"
    },
    "id": "d6a4e155",
    "papermill": {
     "duration": 1.797419,
     "end_time": "2022-03-11T10:05:59.881168",
     "exception": false,
     "start_time": "2022-03-11T10:05:58.083749",
     "status": "completed"
    },
    "tags": []
   },
   "outputs": [],
   "source": [
    "import ABC_train_test2\n",
    "import bostonDataset\n",
    "import network\n",
    "import dataset\n",
    "import sanityChecks\n",
    "import torch \n",
    "import scrapbook as sb\n",
    "from statistics import mean \n",
    "import catboost as ctb \n",
    "from sklearn.model_selection import train_test_split\n",
    "from sklearn.metrics import mean_squared_error,mean_absolute_error\n",
    "import numpy as np"
   ]
  },
  {
   "cell_type": "markdown",
   "id": "2fa5b0f7",
   "metadata": {
    "id": "2fa5b0f7",
    "papermill": {
     "duration": 0.006726,
     "end_time": "2022-03-11T10:05:59.894948",
     "exception": false,
     "start_time": "2022-03-11T10:05:59.888222",
     "status": "completed"
    },
    "tags": []
   },
   "source": [
    "## Parameters "
   ]
  },
  {
   "cell_type": "code",
   "execution_count": 3,
   "id": "783186fb",
   "metadata": {
    "execution": {
     "iopub.execute_input": "2022-03-11T10:05:59.910449Z",
     "iopub.status.busy": "2022-03-11T10:05:59.910072Z",
     "iopub.status.idle": "2022-03-11T10:05:59.911289Z",
     "shell.execute_reply": "2022-03-11T10:05:59.911524Z"
    },
    "id": "783186fb",
    "papermill": {
     "duration": 0.010087,
     "end_time": "2022-03-11T10:05:59.911632",
     "exception": false,
     "start_time": "2022-03-11T10:05:59.901545",
     "status": "completed"
    },
    "tags": [
     "parameters"
    ]
   },
   "outputs": [],
   "source": [
    "variance = 1"
   ]
  },
  {
   "cell_type": "code",
   "execution_count": 4,
   "id": "6cb77bee",
   "metadata": {
    "execution": {
     "iopub.execute_input": "2022-03-11T10:05:59.927010Z",
     "iopub.status.busy": "2022-03-11T10:05:59.926652Z",
     "iopub.status.idle": "2022-03-11T10:05:59.927930Z",
     "shell.execute_reply": "2022-03-11T10:05:59.928178Z"
    },
    "papermill": {
     "duration": 0.009828,
     "end_time": "2022-03-11T10:05:59.928288",
     "exception": false,
     "start_time": "2022-03-11T10:05:59.918460",
     "status": "completed"
    },
    "tags": [
     "injected-parameters"
    ]
   },
   "outputs": [],
   "source": [
    "# Parameters\n",
    "variance = 0.01\n"
   ]
  },
  {
   "cell_type": "markdown",
   "id": "391cdbfd",
   "metadata": {
    "id": "391cdbfd",
    "papermill": {
     "duration": 0.006678,
     "end_time": "2022-03-11T10:05:59.941737",
     "exception": false,
     "start_time": "2022-03-11T10:05:59.935059",
     "status": "completed"
    },
    "tags": []
   },
   "source": [
    "## Dataset \n"
   ]
  },
  {
   "cell_type": "code",
   "execution_count": 5,
   "id": "5b51f161",
   "metadata": {
    "execution": {
     "iopub.execute_input": "2022-03-11T10:05:59.957320Z",
     "iopub.status.busy": "2022-03-11T10:05:59.956957Z",
     "iopub.status.idle": "2022-03-11T10:05:59.958246Z",
     "shell.execute_reply": "2022-03-11T10:05:59.958479Z"
    },
    "id": "5b51f161",
    "papermill": {
     "duration": 0.010087,
     "end_time": "2022-03-11T10:05:59.958585",
     "exception": false,
     "start_time": "2022-03-11T10:05:59.948498",
     "status": "completed"
    },
    "tags": []
   },
   "outputs": [],
   "source": [
    "#Parameters \n",
    "n_features = 13\n",
    "n_samples= 506\n",
    "n_target = 1 "
   ]
  },
  {
   "cell_type": "code",
   "execution_count": 6,
   "id": "5d6eced4",
   "metadata": {
    "execution": {
     "iopub.execute_input": "2022-03-11T10:05:59.974130Z",
     "iopub.status.busy": "2022-03-11T10:05:59.973753Z",
     "iopub.status.idle": "2022-03-11T10:05:59.984707Z",
     "shell.execute_reply": "2022-03-11T10:05:59.984953Z"
    },
    "id": "5d6eced4",
    "papermill": {
     "duration": 0.019673,
     "end_time": "2022-03-11T10:05:59.985064",
     "exception": false,
     "start_time": "2022-03-11T10:05:59.965391",
     "status": "completed"
    },
    "tags": []
   },
   "outputs": [
    {
     "name": "stdout",
     "output_type": "stream",
     "text": [
      "         X1        X2        X3        X4        X5        X6        X7  \\\n",
      "0 -0.419782  0.284830 -1.287909 -0.272599 -0.144217  0.413672 -0.120013   \n",
      "1 -0.417339 -0.487722 -0.593381 -0.272599 -0.740262  0.194274  0.367166   \n",
      "2 -0.417342 -0.487722 -0.593381 -0.272599 -0.740262  1.282714 -0.265812   \n",
      "3 -0.416750 -0.487722 -1.306878 -0.272599 -0.835284  1.016303 -0.809889   \n",
      "4 -0.412482 -0.487722 -1.306878 -0.272599 -0.835284  1.228577 -0.511180   \n",
      "\n",
      "         X8        X9       X10       X11       X12       X13         Y  \n",
      "0  0.140214 -0.982843 -0.666608 -1.459000  0.441052 -1.075562  0.159686  \n",
      "1  0.557160 -0.867883 -0.987329 -0.303094  0.441052 -0.492439 -0.101524  \n",
      "2  0.557160 -0.867883 -0.987329 -0.303094  0.396427 -1.208727  1.324247  \n",
      "3  1.077737 -0.752922 -1.106115  0.113032  0.416163 -1.361517  1.182758  \n",
      "4  1.077737 -0.752922 -1.106115  0.113032  0.441052 -1.026501  1.487503  \n"
     ]
    }
   ],
   "source": [
    "X,Y = bostonDataset.boston_data()"
   ]
  },
  {
   "cell_type": "code",
   "execution_count": 7,
   "id": "fe007438",
   "metadata": {
    "execution": {
     "iopub.execute_input": "2022-03-11T10:06:00.002036Z",
     "iopub.status.busy": "2022-03-11T10:06:00.001667Z",
     "iopub.status.idle": "2022-03-11T10:06:00.003276Z",
     "shell.execute_reply": "2022-03-11T10:06:00.003011Z"
    },
    "id": "fe007438",
    "papermill": {
     "duration": 0.011068,
     "end_time": "2022-03-11T10:06:00.003374",
     "exception": false,
     "start_time": "2022-03-11T10:05:59.992306",
     "status": "completed"
    },
    "tags": []
   },
   "outputs": [],
   "source": [
    "#Train test split for dataset \n",
    "X_train,X_test,Y_train,Y_test = train_test_split(X,Y,test_size = 0.2)\n",
    "train_data = dataset.CustomDataset(X_train,Y_train)\n",
    "test_data = dataset.CustomDataset(X_test,Y_test)\n"
   ]
  },
  {
   "cell_type": "markdown",
   "id": "a9a1af34",
   "metadata": {
    "id": "a9a1af34",
    "papermill": {
     "duration": 0.006978,
     "end_time": "2022-03-11T10:06:00.017436",
     "exception": false,
     "start_time": "2022-03-11T10:06:00.010458",
     "status": "completed"
    },
    "tags": []
   },
   "source": [
    "## Training Parameters "
   ]
  },
  {
   "cell_type": "code",
   "execution_count": 8,
   "id": "952b7fc8",
   "metadata": {
    "execution": {
     "iopub.execute_input": "2022-03-11T10:06:00.033680Z",
     "iopub.status.busy": "2022-03-11T10:06:00.033315Z",
     "iopub.status.idle": "2022-03-11T10:06:00.034595Z",
     "shell.execute_reply": "2022-03-11T10:06:00.034830Z"
    },
    "id": "952b7fc8",
    "papermill": {
     "duration": 0.01053,
     "end_time": "2022-03-11T10:06:00.034933",
     "exception": false,
     "start_time": "2022-03-11T10:06:00.024403",
     "status": "completed"
    },
    "tags": []
   },
   "outputs": [],
   "source": [
    "batch_size = 64\n",
    "n_epochs = 1000\n",
    "#Select the device \n",
    "device = torch.device('cuda' if torch.cuda.is_available() else 'cpu')"
   ]
  },
  {
   "cell_type": "markdown",
   "id": "a95e1600",
   "metadata": {
    "id": "a95e1600",
    "papermill": {
     "duration": 0.006964,
     "end_time": "2022-03-11T10:06:00.049016",
     "exception": false,
     "start_time": "2022-03-11T10:06:00.042052",
     "status": "completed"
    },
    "tags": []
   },
   "source": [
    "# ABC Pre-generator Model \n",
    "\n",
    "1. The catboost model is used as a pre-generator model for the ABC-GAN. \n",
    "2. The model is first trained on the entire dataset \n",
    "3. It generats X,Y pairs and we add some Gaussian noise with mean 0 and variance 1 to it which is then feed as input to the generator.\n"
   ]
  },
  {
   "cell_type": "code",
   "execution_count": 9,
   "id": "ff8ce7bd",
   "metadata": {
    "execution": {
     "iopub.execute_input": "2022-03-11T10:06:00.067981Z",
     "iopub.status.busy": "2022-03-11T10:06:00.067600Z",
     "iopub.status.idle": "2022-03-11T10:06:01.048433Z",
     "shell.execute_reply": "2022-03-11T10:06:01.048812Z"
    },
    "id": "ff8ce7bd",
    "papermill": {
     "duration": 0.992889,
     "end_time": "2022-03-11T10:06:01.048943",
     "exception": false,
     "start_time": "2022-03-11T10:06:00.056054",
     "status": "completed"
    },
    "tags": []
   },
   "outputs": [
    {
     "name": "stdout",
     "output_type": "stream",
     "text": [
      "Learning rate set to 0.033215\n",
      "0:\tlearn: 0.9948382\ttotal: 58.8ms\tremaining: 58.8s\n",
      "1:\tlearn: 0.9743959\ttotal: 60ms\tremaining: 29.9s\n",
      "2:\tlearn: 0.9540698\ttotal: 60.9ms\tremaining: 20.2s\n",
      "3:\tlearn: 0.9372587\ttotal: 62ms\tremaining: 15.4s\n",
      "4:\tlearn: 0.9222262\ttotal: 63ms\tremaining: 12.5s\n",
      "5:\tlearn: 0.9051087\ttotal: 64ms\tremaining: 10.6s\n",
      "6:\tlearn: 0.8887800\ttotal: 65ms\tremaining: 9.22s\n",
      "7:\tlearn: 0.8722563\ttotal: 65.9ms\tremaining: 8.17s\n",
      "8:\tlearn: 0.8576028\ttotal: 66.7ms\tremaining: 7.34s\n",
      "9:\tlearn: 0.8420390\ttotal: 67.6ms\tremaining: 6.69s\n",
      "10:\tlearn: 0.8271554\ttotal: 68.4ms\tremaining: 6.15s\n",
      "11:\tlearn: 0.8131829\ttotal: 69.3ms\tremaining: 5.7s\n",
      "12:\tlearn: 0.7981063\ttotal: 70.3ms\tremaining: 5.34s\n",
      "13:\tlearn: 0.7834478\ttotal: 71.1ms\tremaining: 5.01s\n",
      "14:\tlearn: 0.7702286\ttotal: 71.9ms\tremaining: 4.72s\n",
      "15:\tlearn: 0.7581257\ttotal: 72.8ms\tremaining: 4.47s\n",
      "16:\tlearn: 0.7467828\ttotal: 73.6ms\tremaining: 4.25s\n",
      "17:\tlearn: 0.7345640\ttotal: 74.3ms\tremaining: 4.06s\n",
      "18:\tlearn: 0.7226270\ttotal: 75.1ms\tremaining: 3.88s\n",
      "19:\tlearn: 0.7105441\ttotal: 75.9ms\tremaining: 3.72s\n",
      "20:\tlearn: 0.6987589\ttotal: 77.3ms\tremaining: 3.6s\n",
      "21:\tlearn: 0.6879475\ttotal: 78.2ms\tremaining: 3.47s\n",
      "22:\tlearn: 0.6794173\ttotal: 79ms\tremaining: 3.36s\n",
      "23:\tlearn: 0.6697098\ttotal: 79.9ms\tremaining: 3.25s\n",
      "24:\tlearn: 0.6604283\ttotal: 80.8ms\tremaining: 3.15s\n",
      "25:\tlearn: 0.6493836\ttotal: 81.8ms\tremaining: 3.06s\n",
      "26:\tlearn: 0.6405193\ttotal: 83.2ms\tremaining: 3s\n",
      "27:\tlearn: 0.6329189\ttotal: 84.7ms\tremaining: 2.94s\n",
      "28:\tlearn: 0.6240591\ttotal: 85.5ms\tremaining: 2.86s\n",
      "29:\tlearn: 0.6143759\ttotal: 86.3ms\tremaining: 2.79s\n",
      "30:\tlearn: 0.6044578\ttotal: 87.1ms\tremaining: 2.72s\n",
      "31:\tlearn: 0.5964843\ttotal: 87.8ms\tremaining: 2.66s\n",
      "32:\tlearn: 0.5898773\ttotal: 88.6ms\tremaining: 2.6s\n",
      "33:\tlearn: 0.5822719\ttotal: 89.3ms\tremaining: 2.54s\n",
      "34:\tlearn: 0.5747678\ttotal: 90ms\tremaining: 2.48s\n",
      "35:\tlearn: 0.5679480\ttotal: 90.8ms\tremaining: 2.43s\n",
      "36:\tlearn: 0.5613460\ttotal: 91.6ms\tremaining: 2.38s\n",
      "37:\tlearn: 0.5543224\ttotal: 92.3ms\tremaining: 2.34s\n",
      "38:\tlearn: 0.5472713\ttotal: 93.1ms\tremaining: 2.29s\n",
      "39:\tlearn: 0.5388389\ttotal: 93.9ms\tremaining: 2.25s\n",
      "40:\tlearn: 0.5327456\ttotal: 94.7ms\tremaining: 2.21s\n",
      "41:\tlearn: 0.5248048\ttotal: 95.5ms\tremaining: 2.18s\n",
      "42:\tlearn: 0.5195355\ttotal: 96.4ms\tremaining: 2.14s\n",
      "43:\tlearn: 0.5126314\ttotal: 97.3ms\tremaining: 2.11s\n",
      "44:\tlearn: 0.5077871\ttotal: 98ms\tremaining: 2.08s\n",
      "45:\tlearn: 0.5009730\ttotal: 98.9ms\tremaining: 2.05s\n",
      "46:\tlearn: 0.4955736\ttotal: 99.7ms\tremaining: 2.02s\n",
      "47:\tlearn: 0.4895767\ttotal: 101ms\tremaining: 1.99s\n",
      "48:\tlearn: 0.4839171\ttotal: 101ms\tremaining: 1.97s\n",
      "49:\tlearn: 0.4782582\ttotal: 102ms\tremaining: 1.94s\n",
      "50:\tlearn: 0.4722189\ttotal: 103ms\tremaining: 1.91s\n",
      "51:\tlearn: 0.4679044\ttotal: 104ms\tremaining: 1.89s\n",
      "52:\tlearn: 0.4621965\ttotal: 104ms\tremaining: 1.87s\n",
      "53:\tlearn: 0.4580540\ttotal: 105ms\tremaining: 1.84s\n",
      "54:\tlearn: 0.4536896\ttotal: 106ms\tremaining: 1.82s\n",
      "55:\tlearn: 0.4482937\ttotal: 107ms\tremaining: 1.81s\n",
      "56:\tlearn: 0.4444236\ttotal: 108ms\tremaining: 1.79s\n",
      "57:\tlearn: 0.4398100\ttotal: 109ms\tremaining: 1.77s\n"
     ]
    },
    {
     "name": "stdout",
     "output_type": "stream",
     "text": [
      "58:\tlearn: 0.4355133\ttotal: 110ms\tremaining: 1.75s\n",
      "59:\tlearn: 0.4304792\ttotal: 111ms\tremaining: 1.74s\n",
      "60:\tlearn: 0.4270799\ttotal: 112ms\tremaining: 1.72s\n",
      "61:\tlearn: 0.4232584\ttotal: 113ms\tremaining: 1.7s\n",
      "62:\tlearn: 0.4194320\ttotal: 113ms\tremaining: 1.68s\n",
      "63:\tlearn: 0.4151377\ttotal: 114ms\tremaining: 1.67s\n",
      "64:\tlearn: 0.4111133\ttotal: 115ms\tremaining: 1.65s\n",
      "65:\tlearn: 0.4081928\ttotal: 116ms\tremaining: 1.64s\n",
      "66:\tlearn: 0.4045422\ttotal: 117ms\tremaining: 1.62s\n",
      "67:\tlearn: 0.4016724\ttotal: 118ms\tremaining: 1.61s\n",
      "68:\tlearn: 0.3987797\ttotal: 118ms\tremaining: 1.6s\n",
      "69:\tlearn: 0.3957331\ttotal: 119ms\tremaining: 1.58s\n",
      "70:\tlearn: 0.3920600\ttotal: 120ms\tremaining: 1.57s\n",
      "71:\tlearn: 0.3883140\ttotal: 121ms\tremaining: 1.56s\n",
      "72:\tlearn: 0.3847556\ttotal: 122ms\tremaining: 1.55s\n",
      "73:\tlearn: 0.3813782\ttotal: 123ms\tremaining: 1.53s\n",
      "74:\tlearn: 0.3776482\ttotal: 123ms\tremaining: 1.52s\n",
      "75:\tlearn: 0.3750017\ttotal: 124ms\tremaining: 1.51s\n",
      "76:\tlearn: 0.3723101\ttotal: 125ms\tremaining: 1.5s\n",
      "77:\tlearn: 0.3693887\ttotal: 126ms\tremaining: 1.49s\n",
      "78:\tlearn: 0.3665126\ttotal: 127ms\tremaining: 1.48s\n",
      "79:\tlearn: 0.3642904\ttotal: 127ms\tremaining: 1.47s\n",
      "80:\tlearn: 0.3619878\ttotal: 128ms\tremaining: 1.46s\n",
      "81:\tlearn: 0.3590672\ttotal: 129ms\tremaining: 1.44s\n",
      "82:\tlearn: 0.3571317\ttotal: 130ms\tremaining: 1.43s\n",
      "83:\tlearn: 0.3550794\ttotal: 130ms\tremaining: 1.42s\n",
      "84:\tlearn: 0.3526733\ttotal: 131ms\tremaining: 1.41s\n",
      "85:\tlearn: 0.3497510\ttotal: 132ms\tremaining: 1.4s\n",
      "86:\tlearn: 0.3465763\ttotal: 133ms\tremaining: 1.39s\n",
      "87:\tlearn: 0.3445346\ttotal: 134ms\tremaining: 1.39s\n",
      "88:\tlearn: 0.3424711\ttotal: 135ms\tremaining: 1.38s\n",
      "89:\tlearn: 0.3403782\ttotal: 135ms\tremaining: 1.37s\n",
      "90:\tlearn: 0.3383135\ttotal: 136ms\tremaining: 1.36s\n",
      "91:\tlearn: 0.3358867\ttotal: 137ms\tremaining: 1.35s\n",
      "92:\tlearn: 0.3344262\ttotal: 138ms\tremaining: 1.34s\n",
      "93:\tlearn: 0.3321806\ttotal: 139ms\tremaining: 1.34s\n",
      "94:\tlearn: 0.3299706\ttotal: 139ms\tremaining: 1.33s\n",
      "95:\tlearn: 0.3280005\ttotal: 140ms\tremaining: 1.32s\n",
      "96:\tlearn: 0.3260403\ttotal: 141ms\tremaining: 1.31s\n",
      "97:\tlearn: 0.3243967\ttotal: 142ms\tremaining: 1.31s\n",
      "98:\tlearn: 0.3229904\ttotal: 143ms\tremaining: 1.3s\n",
      "99:\tlearn: 0.3218197\ttotal: 144ms\tremaining: 1.29s\n",
      "100:\tlearn: 0.3200837\ttotal: 144ms\tremaining: 1.28s\n",
      "101:\tlearn: 0.3185542\ttotal: 145ms\tremaining: 1.28s\n",
      "102:\tlearn: 0.3170486\ttotal: 146ms\tremaining: 1.27s\n",
      "103:\tlearn: 0.3157399\ttotal: 147ms\tremaining: 1.26s\n",
      "104:\tlearn: 0.3137614\ttotal: 148ms\tremaining: 1.26s\n",
      "105:\tlearn: 0.3124581\ttotal: 149ms\tremaining: 1.25s\n",
      "106:\tlearn: 0.3111205\ttotal: 149ms\tremaining: 1.25s\n",
      "107:\tlearn: 0.3098288\ttotal: 150ms\tremaining: 1.24s\n",
      "108:\tlearn: 0.3086263\ttotal: 151ms\tremaining: 1.23s\n",
      "109:\tlearn: 0.3070694\ttotal: 152ms\tremaining: 1.23s\n",
      "110:\tlearn: 0.3051204\ttotal: 153ms\tremaining: 1.22s\n",
      "111:\tlearn: 0.3039323\ttotal: 153ms\tremaining: 1.22s\n",
      "112:\tlearn: 0.3027601\ttotal: 154ms\tremaining: 1.21s\n",
      "113:\tlearn: 0.3015647\ttotal: 155ms\tremaining: 1.21s\n",
      "114:\tlearn: 0.3001916\ttotal: 156ms\tremaining: 1.2s\n",
      "115:\tlearn: 0.2991121\ttotal: 157ms\tremaining: 1.19s\n",
      "116:\tlearn: 0.2978937\ttotal: 158ms\tremaining: 1.19s\n",
      "117:\tlearn: 0.2968697\ttotal: 158ms\tremaining: 1.18s\n",
      "118:\tlearn: 0.2954954\ttotal: 159ms\tremaining: 1.18s\n",
      "119:\tlearn: 0.2945485\ttotal: 160ms\tremaining: 1.17s\n",
      "120:\tlearn: 0.2933286\ttotal: 161ms\tremaining: 1.17s\n",
      "121:\tlearn: 0.2922244\ttotal: 162ms\tremaining: 1.16s\n",
      "122:\tlearn: 0.2910549\ttotal: 162ms\tremaining: 1.16s\n",
      "123:\tlearn: 0.2900160\ttotal: 163ms\tremaining: 1.15s\n",
      "124:\tlearn: 0.2890151\ttotal: 164ms\tremaining: 1.15s\n",
      "125:\tlearn: 0.2878609\ttotal: 165ms\tremaining: 1.14s\n",
      "126:\tlearn: 0.2866150\ttotal: 166ms\tremaining: 1.14s\n",
      "127:\tlearn: 0.2858484\ttotal: 167ms\tremaining: 1.14s\n",
      "128:\tlearn: 0.2846147\ttotal: 168ms\tremaining: 1.13s\n",
      "129:\tlearn: 0.2832405\ttotal: 169ms\tremaining: 1.13s\n",
      "130:\tlearn: 0.2822554\ttotal: 170ms\tremaining: 1.13s\n",
      "131:\tlearn: 0.2815596\ttotal: 170ms\tremaining: 1.12s\n",
      "132:\tlearn: 0.2800573\ttotal: 172ms\tremaining: 1.12s\n",
      "133:\tlearn: 0.2791755\ttotal: 172ms\tremaining: 1.11s\n",
      "134:\tlearn: 0.2778228\ttotal: 173ms\tremaining: 1.11s\n",
      "135:\tlearn: 0.2767203\ttotal: 175ms\tremaining: 1.11s\n",
      "136:\tlearn: 0.2753741\ttotal: 175ms\tremaining: 1.1s\n",
      "137:\tlearn: 0.2744589\ttotal: 177ms\tremaining: 1.1s\n",
      "138:\tlearn: 0.2735456\ttotal: 178ms\tremaining: 1.1s\n",
      "139:\tlearn: 0.2726954\ttotal: 179ms\tremaining: 1.1s\n",
      "140:\tlearn: 0.2717802\ttotal: 180ms\tremaining: 1.09s\n",
      "141:\tlearn: 0.2710529\ttotal: 180ms\tremaining: 1.09s\n",
      "142:\tlearn: 0.2705476\ttotal: 181ms\tremaining: 1.08s\n",
      "143:\tlearn: 0.2695576\ttotal: 182ms\tremaining: 1.08s\n",
      "144:\tlearn: 0.2689264\ttotal: 183ms\tremaining: 1.08s\n",
      "145:\tlearn: 0.2674457\ttotal: 184ms\tremaining: 1.07s\n",
      "146:\tlearn: 0.2659882\ttotal: 185ms\tremaining: 1.07s\n",
      "147:\tlearn: 0.2650883\ttotal: 185ms\tremaining: 1.07s\n",
      "148:\tlearn: 0.2639693\ttotal: 186ms\tremaining: 1.06s\n",
      "149:\tlearn: 0.2628632\ttotal: 187ms\tremaining: 1.06s\n",
      "150:\tlearn: 0.2620580\ttotal: 188ms\tremaining: 1.06s\n",
      "151:\tlearn: 0.2613407\ttotal: 189ms\tremaining: 1.05s\n",
      "152:\tlearn: 0.2598502\ttotal: 190ms\tremaining: 1.05s\n",
      "153:\tlearn: 0.2588854\ttotal: 190ms\tremaining: 1.04s\n",
      "154:\tlearn: 0.2577854\ttotal: 191ms\tremaining: 1.04s\n"
     ]
    },
    {
     "name": "stdout",
     "output_type": "stream",
     "text": [
      "155:\tlearn: 0.2569373\ttotal: 192ms\tremaining: 1.04s\n",
      "156:\tlearn: 0.2557631\ttotal: 193ms\tremaining: 1.04s\n",
      "157:\tlearn: 0.2549080\ttotal: 194ms\tremaining: 1.03s\n",
      "158:\tlearn: 0.2536432\ttotal: 195ms\tremaining: 1.03s\n",
      "159:\tlearn: 0.2524081\ttotal: 195ms\tremaining: 1.02s\n",
      "160:\tlearn: 0.2517476\ttotal: 196ms\tremaining: 1.02s\n",
      "161:\tlearn: 0.2510308\ttotal: 197ms\tremaining: 1.02s\n",
      "162:\tlearn: 0.2504265\ttotal: 198ms\tremaining: 1.01s\n",
      "163:\tlearn: 0.2497101\ttotal: 198ms\tremaining: 1.01s\n",
      "164:\tlearn: 0.2492166\ttotal: 199ms\tremaining: 1.01s\n",
      "165:\tlearn: 0.2485394\ttotal: 200ms\tremaining: 1s\n",
      "166:\tlearn: 0.2476834\ttotal: 201ms\tremaining: 1s\n",
      "167:\tlearn: 0.2469949\ttotal: 202ms\tremaining: 1s\n",
      "168:\tlearn: 0.2464243\ttotal: 203ms\tremaining: 998ms\n",
      "169:\tlearn: 0.2458657\ttotal: 204ms\tremaining: 995ms\n",
      "170:\tlearn: 0.2453037\ttotal: 205ms\tremaining: 993ms\n",
      "171:\tlearn: 0.2446117\ttotal: 206ms\tremaining: 991ms\n",
      "172:\tlearn: 0.2440159\ttotal: 207ms\tremaining: 988ms\n",
      "173:\tlearn: 0.2432506\ttotal: 208ms\tremaining: 985ms\n",
      "174:\tlearn: 0.2424613\ttotal: 208ms\tremaining: 983ms\n",
      "175:\tlearn: 0.2420441\ttotal: 209ms\tremaining: 981ms\n",
      "176:\tlearn: 0.2408280\ttotal: 210ms\tremaining: 978ms\n",
      "177:\tlearn: 0.2402462\ttotal: 211ms\tremaining: 975ms\n",
      "178:\tlearn: 0.2395952\ttotal: 212ms\tremaining: 973ms\n",
      "179:\tlearn: 0.2388487\ttotal: 213ms\tremaining: 971ms\n",
      "180:\tlearn: 0.2378693\ttotal: 214ms\tremaining: 969ms\n",
      "181:\tlearn: 0.2370167\ttotal: 215ms\tremaining: 967ms\n",
      "182:\tlearn: 0.2364655\ttotal: 216ms\tremaining: 965ms\n",
      "183:\tlearn: 0.2359067\ttotal: 217ms\tremaining: 962ms\n",
      "184:\tlearn: 0.2350912\ttotal: 218ms\tremaining: 959ms\n",
      "185:\tlearn: 0.2343089\ttotal: 219ms\tremaining: 957ms\n",
      "186:\tlearn: 0.2333449\ttotal: 219ms\tremaining: 954ms\n",
      "187:\tlearn: 0.2326494\ttotal: 221ms\tremaining: 953ms\n",
      "188:\tlearn: 0.2318021\ttotal: 222ms\tremaining: 951ms\n",
      "189:\tlearn: 0.2313988\ttotal: 223ms\tremaining: 949ms\n",
      "190:\tlearn: 0.2307974\ttotal: 224ms\tremaining: 947ms\n",
      "191:\tlearn: 0.2302373\ttotal: 225ms\tremaining: 945ms\n",
      "192:\tlearn: 0.2295223\ttotal: 226ms\tremaining: 943ms\n",
      "193:\tlearn: 0.2287638\ttotal: 226ms\tremaining: 941ms\n",
      "194:\tlearn: 0.2280177\ttotal: 228ms\tremaining: 939ms\n",
      "195:\tlearn: 0.2274995\ttotal: 228ms\tremaining: 937ms\n",
      "196:\tlearn: 0.2271227\ttotal: 229ms\tremaining: 934ms\n",
      "197:\tlearn: 0.2265695\ttotal: 230ms\tremaining: 932ms\n",
      "198:\tlearn: 0.2261962\ttotal: 231ms\tremaining: 929ms\n",
      "199:\tlearn: 0.2253074\ttotal: 232ms\tremaining: 926ms\n",
      "200:\tlearn: 0.2247383\ttotal: 233ms\tremaining: 924ms\n",
      "201:\tlearn: 0.2241360\ttotal: 233ms\tremaining: 922ms\n",
      "202:\tlearn: 0.2235087\ttotal: 234ms\tremaining: 919ms\n",
      "203:\tlearn: 0.2227753\ttotal: 235ms\tremaining: 916ms\n",
      "204:\tlearn: 0.2224858\ttotal: 236ms\tremaining: 914ms\n",
      "205:\tlearn: 0.2217793\ttotal: 236ms\tremaining: 911ms\n",
      "206:\tlearn: 0.2212875\ttotal: 237ms\tremaining: 910ms\n",
      "207:\tlearn: 0.2209068\ttotal: 238ms\tremaining: 907ms\n",
      "208:\tlearn: 0.2203285\ttotal: 239ms\tremaining: 906ms\n",
      "209:\tlearn: 0.2199543\ttotal: 240ms\tremaining: 904ms\n",
      "210:\tlearn: 0.2194206\ttotal: 241ms\tremaining: 902ms\n",
      "211:\tlearn: 0.2187489\ttotal: 242ms\tremaining: 900ms\n",
      "212:\tlearn: 0.2180866\ttotal: 243ms\tremaining: 898ms\n",
      "213:\tlearn: 0.2177094\ttotal: 244ms\tremaining: 896ms\n",
      "214:\tlearn: 0.2174191\ttotal: 245ms\tremaining: 893ms\n",
      "215:\tlearn: 0.2165972\ttotal: 246ms\tremaining: 891ms\n",
      "216:\tlearn: 0.2161672\ttotal: 246ms\tremaining: 889ms\n",
      "217:\tlearn: 0.2155976\ttotal: 247ms\tremaining: 887ms\n",
      "218:\tlearn: 0.2150056\ttotal: 248ms\tremaining: 884ms\n",
      "219:\tlearn: 0.2144864\ttotal: 249ms\tremaining: 883ms\n",
      "220:\tlearn: 0.2139617\ttotal: 250ms\tremaining: 880ms\n",
      "221:\tlearn: 0.2134353\ttotal: 251ms\tremaining: 878ms\n",
      "222:\tlearn: 0.2128666\ttotal: 251ms\tremaining: 876ms\n",
      "223:\tlearn: 0.2119823\ttotal: 252ms\tremaining: 874ms\n",
      "224:\tlearn: 0.2116962\ttotal: 253ms\tremaining: 872ms\n",
      "225:\tlearn: 0.2110589\ttotal: 254ms\tremaining: 870ms\n",
      "226:\tlearn: 0.2102542\ttotal: 255ms\tremaining: 867ms\n",
      "227:\tlearn: 0.2098343\ttotal: 256ms\tremaining: 865ms\n",
      "228:\tlearn: 0.2092681\ttotal: 256ms\tremaining: 863ms\n",
      "229:\tlearn: 0.2089131\ttotal: 257ms\tremaining: 861ms\n",
      "230:\tlearn: 0.2084009\ttotal: 258ms\tremaining: 859ms\n",
      "231:\tlearn: 0.2076947\ttotal: 259ms\tremaining: 857ms\n",
      "232:\tlearn: 0.2070390\ttotal: 260ms\tremaining: 855ms\n",
      "233:\tlearn: 0.2066206\ttotal: 261ms\tremaining: 853ms\n",
      "234:\tlearn: 0.2062665\ttotal: 261ms\tremaining: 851ms\n",
      "235:\tlearn: 0.2058720\ttotal: 262ms\tremaining: 849ms\n",
      "236:\tlearn: 0.2053386\ttotal: 263ms\tremaining: 847ms\n",
      "237:\tlearn: 0.2046730\ttotal: 264ms\tremaining: 844ms\n",
      "238:\tlearn: 0.2043466\ttotal: 265ms\tremaining: 842ms\n",
      "239:\tlearn: 0.2038821\ttotal: 265ms\tremaining: 840ms\n",
      "240:\tlearn: 0.2031650\ttotal: 266ms\tremaining: 838ms\n",
      "241:\tlearn: 0.2027242\ttotal: 267ms\tremaining: 836ms\n",
      "242:\tlearn: 0.2022162\ttotal: 268ms\tremaining: 835ms\n",
      "243:\tlearn: 0.2015285\ttotal: 269ms\tremaining: 833ms\n",
      "244:\tlearn: 0.2012340\ttotal: 270ms\tremaining: 831ms\n",
      "245:\tlearn: 0.2007374\ttotal: 271ms\tremaining: 829ms\n",
      "246:\tlearn: 0.2000223\ttotal: 271ms\tremaining: 827ms\n",
      "247:\tlearn: 0.1996397\ttotal: 272ms\tremaining: 825ms\n",
      "248:\tlearn: 0.1991503\ttotal: 273ms\tremaining: 824ms\n",
      "249:\tlearn: 0.1986117\ttotal: 274ms\tremaining: 822ms\n",
      "250:\tlearn: 0.1981023\ttotal: 275ms\tremaining: 820ms\n",
      "251:\tlearn: 0.1974762\ttotal: 275ms\tremaining: 818ms\n",
      "252:\tlearn: 0.1969874\ttotal: 276ms\tremaining: 816ms\n",
      "253:\tlearn: 0.1963884\ttotal: 277ms\tremaining: 814ms\n",
      "254:\tlearn: 0.1958238\ttotal: 278ms\tremaining: 812ms\n",
      "255:\tlearn: 0.1952176\ttotal: 279ms\tremaining: 810ms\n",
      "256:\tlearn: 0.1945918\ttotal: 280ms\tremaining: 809ms\n",
      "257:\tlearn: 0.1942150\ttotal: 281ms\tremaining: 807ms\n",
      "258:\tlearn: 0.1939699\ttotal: 281ms\tremaining: 805ms\n",
      "259:\tlearn: 0.1934373\ttotal: 282ms\tremaining: 803ms\n",
      "260:\tlearn: 0.1926866\ttotal: 283ms\tremaining: 801ms\n",
      "261:\tlearn: 0.1921594\ttotal: 284ms\tremaining: 799ms\n",
      "262:\tlearn: 0.1915710\ttotal: 285ms\tremaining: 797ms\n",
      "263:\tlearn: 0.1910044\ttotal: 285ms\tremaining: 795ms\n",
      "264:\tlearn: 0.1902803\ttotal: 286ms\tremaining: 794ms\n",
      "265:\tlearn: 0.1897874\ttotal: 287ms\tremaining: 792ms\n",
      "266:\tlearn: 0.1892093\ttotal: 288ms\tremaining: 790ms\n",
      "267:\tlearn: 0.1888748\ttotal: 289ms\tremaining: 789ms\n",
      "268:\tlearn: 0.1883967\ttotal: 289ms\tremaining: 786ms\n",
      "269:\tlearn: 0.1877185\ttotal: 290ms\tremaining: 785ms\n",
      "270:\tlearn: 0.1872859\ttotal: 291ms\tremaining: 783ms\n",
      "271:\tlearn: 0.1870185\ttotal: 292ms\tremaining: 782ms\n",
      "272:\tlearn: 0.1864201\ttotal: 293ms\tremaining: 780ms\n",
      "273:\tlearn: 0.1857105\ttotal: 294ms\tremaining: 778ms\n",
      "274:\tlearn: 0.1853612\ttotal: 295ms\tremaining: 777ms\n",
      "275:\tlearn: 0.1848253\ttotal: 295ms\tremaining: 775ms\n",
      "276:\tlearn: 0.1845585\ttotal: 296ms\tremaining: 773ms\n",
      "277:\tlearn: 0.1841470\ttotal: 297ms\tremaining: 772ms\n",
      "278:\tlearn: 0.1838884\ttotal: 298ms\tremaining: 770ms\n",
      "279:\tlearn: 0.1834232\ttotal: 299ms\tremaining: 768ms\n"
     ]
    },
    {
     "name": "stdout",
     "output_type": "stream",
     "text": [
      "280:\tlearn: 0.1829845\ttotal: 300ms\tremaining: 767ms\n",
      "281:\tlearn: 0.1824901\ttotal: 301ms\tremaining: 765ms\n",
      "282:\tlearn: 0.1819081\ttotal: 301ms\tremaining: 764ms\n",
      "283:\tlearn: 0.1814069\ttotal: 302ms\tremaining: 762ms\n",
      "284:\tlearn: 0.1810291\ttotal: 303ms\tremaining: 761ms\n",
      "285:\tlearn: 0.1806159\ttotal: 304ms\tremaining: 759ms\n",
      "286:\tlearn: 0.1803258\ttotal: 305ms\tremaining: 757ms\n",
      "287:\tlearn: 0.1796909\ttotal: 306ms\tremaining: 756ms\n",
      "288:\tlearn: 0.1793200\ttotal: 306ms\tremaining: 754ms\n",
      "289:\tlearn: 0.1790831\ttotal: 307ms\tremaining: 752ms\n",
      "290:\tlearn: 0.1785424\ttotal: 308ms\tremaining: 750ms\n",
      "291:\tlearn: 0.1781760\ttotal: 309ms\tremaining: 749ms\n",
      "292:\tlearn: 0.1778029\ttotal: 310ms\tremaining: 747ms\n",
      "293:\tlearn: 0.1773260\ttotal: 311ms\tremaining: 746ms\n",
      "294:\tlearn: 0.1767721\ttotal: 311ms\tremaining: 744ms\n",
      "295:\tlearn: 0.1764579\ttotal: 312ms\tremaining: 742ms\n",
      "296:\tlearn: 0.1762606\ttotal: 313ms\tremaining: 741ms\n",
      "297:\tlearn: 0.1756830\ttotal: 314ms\tremaining: 739ms\n",
      "298:\tlearn: 0.1751390\ttotal: 315ms\tremaining: 737ms\n",
      "299:\tlearn: 0.1746077\ttotal: 315ms\tremaining: 736ms\n",
      "300:\tlearn: 0.1744359\ttotal: 316ms\tremaining: 734ms\n",
      "301:\tlearn: 0.1738783\ttotal: 317ms\tremaining: 733ms\n",
      "302:\tlearn: 0.1734951\ttotal: 318ms\tremaining: 732ms\n",
      "303:\tlearn: 0.1730428\ttotal: 319ms\tremaining: 730ms\n",
      "304:\tlearn: 0.1728266\ttotal: 320ms\tremaining: 728ms\n",
      "305:\tlearn: 0.1722977\ttotal: 320ms\tremaining: 727ms\n",
      "306:\tlearn: 0.1717215\ttotal: 321ms\tremaining: 725ms\n",
      "307:\tlearn: 0.1712898\ttotal: 322ms\tremaining: 723ms\n",
      "308:\tlearn: 0.1708616\ttotal: 323ms\tremaining: 722ms\n",
      "309:\tlearn: 0.1706401\ttotal: 324ms\tremaining: 721ms\n",
      "310:\tlearn: 0.1703003\ttotal: 325ms\tremaining: 719ms\n",
      "311:\tlearn: 0.1698608\ttotal: 325ms\tremaining: 717ms\n",
      "312:\tlearn: 0.1695242\ttotal: 326ms\tremaining: 716ms\n",
      "313:\tlearn: 0.1691044\ttotal: 327ms\tremaining: 714ms\n",
      "314:\tlearn: 0.1684748\ttotal: 328ms\tremaining: 713ms\n",
      "315:\tlearn: 0.1679393\ttotal: 329ms\tremaining: 712ms\n",
      "316:\tlearn: 0.1674331\ttotal: 330ms\tremaining: 710ms\n",
      "317:\tlearn: 0.1671433\ttotal: 331ms\tremaining: 709ms\n",
      "318:\tlearn: 0.1666739\ttotal: 332ms\tremaining: 708ms\n",
      "319:\tlearn: 0.1664356\ttotal: 332ms\tremaining: 706ms\n",
      "320:\tlearn: 0.1660479\ttotal: 333ms\tremaining: 705ms\n",
      "321:\tlearn: 0.1656006\ttotal: 334ms\tremaining: 704ms\n",
      "322:\tlearn: 0.1652013\ttotal: 335ms\tremaining: 702ms\n",
      "323:\tlearn: 0.1648082\ttotal: 336ms\tremaining: 701ms\n",
      "324:\tlearn: 0.1643467\ttotal: 337ms\tremaining: 699ms\n",
      "325:\tlearn: 0.1639638\ttotal: 338ms\tremaining: 698ms\n",
      "326:\tlearn: 0.1635796\ttotal: 338ms\tremaining: 697ms\n",
      "327:\tlearn: 0.1631322\ttotal: 339ms\tremaining: 695ms\n",
      "328:\tlearn: 0.1628353\ttotal: 340ms\tremaining: 694ms\n",
      "329:\tlearn: 0.1624207\ttotal: 341ms\tremaining: 692ms\n",
      "330:\tlearn: 0.1620146\ttotal: 342ms\tremaining: 691ms\n",
      "331:\tlearn: 0.1616572\ttotal: 343ms\tremaining: 689ms\n",
      "332:\tlearn: 0.1614551\ttotal: 343ms\tremaining: 688ms\n",
      "333:\tlearn: 0.1612739\ttotal: 344ms\tremaining: 687ms\n",
      "334:\tlearn: 0.1610346\ttotal: 345ms\tremaining: 685ms\n",
      "335:\tlearn: 0.1608837\ttotal: 346ms\tremaining: 684ms\n",
      "336:\tlearn: 0.1607235\ttotal: 347ms\tremaining: 683ms\n",
      "337:\tlearn: 0.1604408\ttotal: 348ms\tremaining: 681ms\n",
      "338:\tlearn: 0.1601008\ttotal: 349ms\tremaining: 680ms\n",
      "339:\tlearn: 0.1597631\ttotal: 349ms\tremaining: 678ms\n",
      "340:\tlearn: 0.1594871\ttotal: 350ms\tremaining: 677ms\n",
      "341:\tlearn: 0.1591128\ttotal: 351ms\tremaining: 675ms\n",
      "342:\tlearn: 0.1587785\ttotal: 352ms\tremaining: 674ms\n",
      "343:\tlearn: 0.1585573\ttotal: 353ms\tremaining: 673ms\n",
      "344:\tlearn: 0.1582626\ttotal: 353ms\tremaining: 671ms\n",
      "345:\tlearn: 0.1579088\ttotal: 354ms\tremaining: 670ms\n",
      "346:\tlearn: 0.1575080\ttotal: 355ms\tremaining: 668ms\n",
      "347:\tlearn: 0.1570727\ttotal: 357ms\tremaining: 668ms\n",
      "348:\tlearn: 0.1566110\ttotal: 357ms\tremaining: 667ms\n",
      "349:\tlearn: 0.1562473\ttotal: 358ms\tremaining: 665ms\n",
      "350:\tlearn: 0.1561429\ttotal: 359ms\tremaining: 664ms\n",
      "351:\tlearn: 0.1557893\ttotal: 360ms\tremaining: 663ms\n",
      "352:\tlearn: 0.1554515\ttotal: 361ms\tremaining: 661ms\n",
      "353:\tlearn: 0.1551272\ttotal: 362ms\tremaining: 660ms\n",
      "354:\tlearn: 0.1549643\ttotal: 362ms\tremaining: 658ms\n",
      "355:\tlearn: 0.1547927\ttotal: 363ms\tremaining: 657ms\n",
      "356:\tlearn: 0.1545078\ttotal: 364ms\tremaining: 656ms\n",
      "357:\tlearn: 0.1539600\ttotal: 365ms\tremaining: 654ms\n",
      "358:\tlearn: 0.1536116\ttotal: 366ms\tremaining: 653ms\n"
     ]
    },
    {
     "name": "stdout",
     "output_type": "stream",
     "text": [
      "359:\tlearn: 0.1531640\ttotal: 367ms\tremaining: 652ms\n",
      "360:\tlearn: 0.1527453\ttotal: 368ms\tremaining: 651ms\n",
      "361:\tlearn: 0.1524842\ttotal: 368ms\tremaining: 649ms\n",
      "362:\tlearn: 0.1522785\ttotal: 369ms\tremaining: 648ms\n",
      "363:\tlearn: 0.1519681\ttotal: 370ms\tremaining: 647ms\n",
      "364:\tlearn: 0.1516333\ttotal: 371ms\tremaining: 645ms\n",
      "365:\tlearn: 0.1513360\ttotal: 372ms\tremaining: 644ms\n",
      "366:\tlearn: 0.1511707\ttotal: 372ms\tremaining: 642ms\n",
      "367:\tlearn: 0.1507976\ttotal: 373ms\tremaining: 641ms\n",
      "368:\tlearn: 0.1505415\ttotal: 374ms\tremaining: 640ms\n",
      "369:\tlearn: 0.1501875\ttotal: 375ms\tremaining: 639ms\n",
      "370:\tlearn: 0.1497896\ttotal: 376ms\tremaining: 637ms\n",
      "371:\tlearn: 0.1492604\ttotal: 376ms\tremaining: 636ms\n",
      "372:\tlearn: 0.1489010\ttotal: 377ms\tremaining: 634ms\n",
      "373:\tlearn: 0.1484743\ttotal: 378ms\tremaining: 633ms\n",
      "374:\tlearn: 0.1480888\ttotal: 379ms\tremaining: 632ms\n",
      "375:\tlearn: 0.1477860\ttotal: 380ms\tremaining: 631ms\n",
      "376:\tlearn: 0.1474810\ttotal: 381ms\tremaining: 630ms\n",
      "377:\tlearn: 0.1470831\ttotal: 382ms\tremaining: 629ms\n",
      "378:\tlearn: 0.1467307\ttotal: 383ms\tremaining: 627ms\n",
      "379:\tlearn: 0.1464535\ttotal: 384ms\tremaining: 627ms\n",
      "380:\tlearn: 0.1460552\ttotal: 385ms\tremaining: 626ms\n",
      "381:\tlearn: 0.1456940\ttotal: 386ms\tremaining: 625ms\n",
      "382:\tlearn: 0.1455969\ttotal: 387ms\tremaining: 623ms\n",
      "383:\tlearn: 0.1452530\ttotal: 388ms\tremaining: 622ms\n",
      "384:\tlearn: 0.1450135\ttotal: 388ms\tremaining: 621ms\n",
      "385:\tlearn: 0.1444335\ttotal: 389ms\tremaining: 619ms\n",
      "386:\tlearn: 0.1440539\ttotal: 390ms\tremaining: 618ms\n",
      "387:\tlearn: 0.1437485\ttotal: 391ms\tremaining: 617ms\n",
      "388:\tlearn: 0.1434767\ttotal: 392ms\tremaining: 615ms\n",
      "389:\tlearn: 0.1434258\ttotal: 392ms\tremaining: 614ms\n",
      "390:\tlearn: 0.1431578\ttotal: 393ms\tremaining: 613ms\n",
      "391:\tlearn: 0.1430057\ttotal: 394ms\tremaining: 611ms\n",
      "392:\tlearn: 0.1426788\ttotal: 395ms\tremaining: 610ms\n",
      "393:\tlearn: 0.1423415\ttotal: 396ms\tremaining: 609ms\n",
      "394:\tlearn: 0.1419584\ttotal: 397ms\tremaining: 608ms\n",
      "395:\tlearn: 0.1416019\ttotal: 398ms\tremaining: 606ms\n",
      "396:\tlearn: 0.1413491\ttotal: 398ms\tremaining: 605ms\n",
      "397:\tlearn: 0.1412034\ttotal: 399ms\tremaining: 604ms\n",
      "398:\tlearn: 0.1408107\ttotal: 400ms\tremaining: 603ms\n",
      "399:\tlearn: 0.1407076\ttotal: 401ms\tremaining: 601ms\n",
      "400:\tlearn: 0.1406254\ttotal: 402ms\tremaining: 600ms\n",
      "401:\tlearn: 0.1404843\ttotal: 403ms\tremaining: 599ms\n",
      "402:\tlearn: 0.1401843\ttotal: 403ms\tremaining: 598ms\n",
      "403:\tlearn: 0.1398338\ttotal: 404ms\tremaining: 596ms\n",
      "404:\tlearn: 0.1396213\ttotal: 405ms\tremaining: 595ms\n",
      "405:\tlearn: 0.1392963\ttotal: 406ms\tremaining: 594ms\n",
      "406:\tlearn: 0.1390122\ttotal: 407ms\tremaining: 592ms\n",
      "407:\tlearn: 0.1387279\ttotal: 407ms\tremaining: 591ms\n",
      "408:\tlearn: 0.1386103\ttotal: 408ms\tremaining: 590ms\n",
      "409:\tlearn: 0.1383392\ttotal: 409ms\tremaining: 588ms\n",
      "410:\tlearn: 0.1380443\ttotal: 410ms\tremaining: 587ms\n",
      "411:\tlearn: 0.1377807\ttotal: 411ms\tremaining: 586ms\n",
      "412:\tlearn: 0.1376185\ttotal: 411ms\tremaining: 585ms\n",
      "413:\tlearn: 0.1373597\ttotal: 412ms\tremaining: 583ms\n",
      "414:\tlearn: 0.1371613\ttotal: 413ms\tremaining: 582ms\n",
      "415:\tlearn: 0.1368281\ttotal: 414ms\tremaining: 581ms\n",
      "416:\tlearn: 0.1365189\ttotal: 414ms\tremaining: 579ms\n",
      "417:\tlearn: 0.1362551\ttotal: 415ms\tremaining: 578ms\n",
      "418:\tlearn: 0.1360895\ttotal: 416ms\tremaining: 577ms\n",
      "419:\tlearn: 0.1357853\ttotal: 417ms\tremaining: 575ms\n",
      "420:\tlearn: 0.1355014\ttotal: 418ms\tremaining: 574ms\n",
      "421:\tlearn: 0.1352558\ttotal: 418ms\tremaining: 573ms\n",
      "422:\tlearn: 0.1349196\ttotal: 419ms\tremaining: 572ms\n",
      "423:\tlearn: 0.1348264\ttotal: 420ms\tremaining: 570ms\n",
      "424:\tlearn: 0.1345315\ttotal: 421ms\tremaining: 569ms\n",
      "425:\tlearn: 0.1344250\ttotal: 422ms\tremaining: 568ms\n",
      "426:\tlearn: 0.1340113\ttotal: 422ms\tremaining: 567ms\n",
      "427:\tlearn: 0.1337387\ttotal: 423ms\tremaining: 565ms\n",
      "428:\tlearn: 0.1334735\ttotal: 424ms\tremaining: 564ms\n",
      "429:\tlearn: 0.1333154\ttotal: 425ms\tremaining: 563ms\n",
      "430:\tlearn: 0.1330738\ttotal: 426ms\tremaining: 562ms\n",
      "431:\tlearn: 0.1326771\ttotal: 426ms\tremaining: 561ms\n",
      "432:\tlearn: 0.1323950\ttotal: 427ms\tremaining: 559ms\n",
      "433:\tlearn: 0.1321410\ttotal: 429ms\tremaining: 559ms\n",
      "434:\tlearn: 0.1318799\ttotal: 429ms\tremaining: 558ms\n",
      "435:\tlearn: 0.1316527\ttotal: 430ms\tremaining: 556ms\n",
      "436:\tlearn: 0.1313947\ttotal: 431ms\tremaining: 555ms\n",
      "437:\tlearn: 0.1310397\ttotal: 432ms\tremaining: 554ms\n",
      "438:\tlearn: 0.1308402\ttotal: 433ms\tremaining: 553ms\n",
      "439:\tlearn: 0.1305678\ttotal: 434ms\tremaining: 552ms\n",
      "440:\tlearn: 0.1303342\ttotal: 434ms\tremaining: 551ms\n",
      "441:\tlearn: 0.1301063\ttotal: 435ms\tremaining: 549ms\n",
      "442:\tlearn: 0.1298019\ttotal: 436ms\tremaining: 548ms\n",
      "443:\tlearn: 0.1294908\ttotal: 437ms\tremaining: 547ms\n",
      "444:\tlearn: 0.1292239\ttotal: 438ms\tremaining: 546ms\n",
      "445:\tlearn: 0.1290192\ttotal: 438ms\tremaining: 545ms\n",
      "446:\tlearn: 0.1287779\ttotal: 439ms\tremaining: 543ms\n",
      "447:\tlearn: 0.1285483\ttotal: 440ms\tremaining: 542ms\n",
      "448:\tlearn: 0.1284414\ttotal: 441ms\tremaining: 541ms\n",
      "449:\tlearn: 0.1282425\ttotal: 442ms\tremaining: 540ms\n",
      "450:\tlearn: 0.1279829\ttotal: 443ms\tremaining: 539ms\n",
      "451:\tlearn: 0.1277680\ttotal: 443ms\tremaining: 538ms\n",
      "452:\tlearn: 0.1274873\ttotal: 446ms\tremaining: 538ms\n",
      "453:\tlearn: 0.1271353\ttotal: 446ms\tremaining: 537ms\n",
      "454:\tlearn: 0.1269157\ttotal: 447ms\tremaining: 536ms\n",
      "455:\tlearn: 0.1266332\ttotal: 448ms\tremaining: 534ms\n",
      "456:\tlearn: 0.1263321\ttotal: 449ms\tremaining: 533ms\n",
      "457:\tlearn: 0.1261045\ttotal: 450ms\tremaining: 532ms\n",
      "458:\tlearn: 0.1257975\ttotal: 450ms\tremaining: 531ms\n",
      "459:\tlearn: 0.1255983\ttotal: 451ms\tremaining: 529ms\n",
      "460:\tlearn: 0.1254006\ttotal: 452ms\tremaining: 528ms\n",
      "461:\tlearn: 0.1252269\ttotal: 453ms\tremaining: 527ms\n",
      "462:\tlearn: 0.1250398\ttotal: 453ms\tremaining: 526ms\n",
      "463:\tlearn: 0.1248915\ttotal: 454ms\tremaining: 525ms\n",
      "464:\tlearn: 0.1246011\ttotal: 455ms\tremaining: 523ms\n",
      "465:\tlearn: 0.1245147\ttotal: 456ms\tremaining: 522ms\n",
      "466:\tlearn: 0.1244040\ttotal: 456ms\tremaining: 521ms\n",
      "467:\tlearn: 0.1243126\ttotal: 457ms\tremaining: 520ms\n",
      "468:\tlearn: 0.1239799\ttotal: 458ms\tremaining: 519ms\n",
      "469:\tlearn: 0.1237040\ttotal: 460ms\tremaining: 518ms\n",
      "470:\tlearn: 0.1236512\ttotal: 460ms\tremaining: 517ms\n",
      "471:\tlearn: 0.1233864\ttotal: 461ms\tremaining: 516ms\n",
      "472:\tlearn: 0.1232135\ttotal: 462ms\tremaining: 515ms\n",
      "473:\tlearn: 0.1231729\ttotal: 463ms\tremaining: 514ms\n",
      "474:\tlearn: 0.1231065\ttotal: 464ms\tremaining: 512ms\n",
      "475:\tlearn: 0.1229452\ttotal: 465ms\tremaining: 511ms\n",
      "476:\tlearn: 0.1226733\ttotal: 465ms\tremaining: 510ms\n",
      "477:\tlearn: 0.1223720\ttotal: 466ms\tremaining: 509ms\n",
      "478:\tlearn: 0.1221952\ttotal: 467ms\tremaining: 508ms\n",
      "479:\tlearn: 0.1219831\ttotal: 468ms\tremaining: 507ms\n",
      "480:\tlearn: 0.1218042\ttotal: 469ms\tremaining: 506ms\n",
      "481:\tlearn: 0.1217351\ttotal: 470ms\tremaining: 505ms\n",
      "482:\tlearn: 0.1216131\ttotal: 470ms\tremaining: 504ms\n",
      "483:\tlearn: 0.1212337\ttotal: 471ms\tremaining: 502ms\n",
      "484:\tlearn: 0.1211843\ttotal: 472ms\tremaining: 501ms\n",
      "485:\tlearn: 0.1210199\ttotal: 473ms\tremaining: 500ms\n",
      "486:\tlearn: 0.1208084\ttotal: 474ms\tremaining: 499ms\n"
     ]
    },
    {
     "name": "stdout",
     "output_type": "stream",
     "text": [
      "487:\tlearn: 0.1207719\ttotal: 475ms\tremaining: 498ms\n",
      "488:\tlearn: 0.1206437\ttotal: 476ms\tremaining: 497ms\n",
      "489:\tlearn: 0.1202178\ttotal: 477ms\tremaining: 496ms\n",
      "490:\tlearn: 0.1201318\ttotal: 478ms\tremaining: 495ms\n",
      "491:\tlearn: 0.1199865\ttotal: 479ms\tremaining: 494ms\n",
      "492:\tlearn: 0.1198545\ttotal: 480ms\tremaining: 493ms\n",
      "493:\tlearn: 0.1197248\ttotal: 481ms\tremaining: 492ms\n",
      "494:\tlearn: 0.1193393\ttotal: 481ms\tremaining: 491ms\n",
      "495:\tlearn: 0.1191824\ttotal: 482ms\tremaining: 490ms\n",
      "496:\tlearn: 0.1187715\ttotal: 483ms\tremaining: 489ms\n",
      "497:\tlearn: 0.1187343\ttotal: 484ms\tremaining: 488ms\n",
      "498:\tlearn: 0.1186082\ttotal: 485ms\tremaining: 487ms\n",
      "499:\tlearn: 0.1184469\ttotal: 486ms\tremaining: 486ms\n",
      "500:\tlearn: 0.1182912\ttotal: 486ms\tremaining: 485ms\n",
      "501:\tlearn: 0.1180266\ttotal: 487ms\tremaining: 483ms\n",
      "502:\tlearn: 0.1177573\ttotal: 488ms\tremaining: 482ms\n",
      "503:\tlearn: 0.1174674\ttotal: 489ms\tremaining: 481ms\n",
      "504:\tlearn: 0.1172403\ttotal: 490ms\tremaining: 480ms\n",
      "505:\tlearn: 0.1169977\ttotal: 490ms\tremaining: 479ms\n",
      "506:\tlearn: 0.1167574\ttotal: 491ms\tremaining: 478ms\n",
      "507:\tlearn: 0.1165862\ttotal: 492ms\tremaining: 477ms\n",
      "508:\tlearn: 0.1165492\ttotal: 493ms\tremaining: 475ms\n",
      "509:\tlearn: 0.1162215\ttotal: 494ms\tremaining: 474ms\n",
      "510:\tlearn: 0.1159664\ttotal: 495ms\tremaining: 473ms\n",
      "511:\tlearn: 0.1157958\ttotal: 495ms\tremaining: 472ms\n",
      "512:\tlearn: 0.1155365\ttotal: 496ms\tremaining: 471ms\n",
      "513:\tlearn: 0.1153813\ttotal: 497ms\tremaining: 470ms\n",
      "514:\tlearn: 0.1151804\ttotal: 498ms\tremaining: 469ms\n",
      "515:\tlearn: 0.1150162\ttotal: 499ms\tremaining: 468ms\n",
      "516:\tlearn: 0.1147037\ttotal: 500ms\tremaining: 467ms\n",
      "517:\tlearn: 0.1145353\ttotal: 500ms\tremaining: 466ms\n",
      "518:\tlearn: 0.1144955\ttotal: 501ms\tremaining: 465ms\n",
      "519:\tlearn: 0.1142703\ttotal: 502ms\tremaining: 463ms\n",
      "520:\tlearn: 0.1139483\ttotal: 503ms\tremaining: 462ms\n",
      "521:\tlearn: 0.1136520\ttotal: 504ms\tremaining: 461ms\n",
      "522:\tlearn: 0.1134361\ttotal: 504ms\tremaining: 460ms\n",
      "523:\tlearn: 0.1132199\ttotal: 505ms\tremaining: 459ms\n",
      "524:\tlearn: 0.1129669\ttotal: 506ms\tremaining: 458ms\n",
      "525:\tlearn: 0.1126919\ttotal: 507ms\tremaining: 457ms\n",
      "526:\tlearn: 0.1124899\ttotal: 508ms\tremaining: 456ms\n",
      "527:\tlearn: 0.1122981\ttotal: 509ms\tremaining: 455ms\n",
      "528:\tlearn: 0.1120727\ttotal: 509ms\tremaining: 454ms\n",
      "529:\tlearn: 0.1118827\ttotal: 510ms\tremaining: 453ms\n",
      "530:\tlearn: 0.1117555\ttotal: 511ms\tremaining: 451ms\n",
      "531:\tlearn: 0.1117147\ttotal: 512ms\tremaining: 450ms\n",
      "532:\tlearn: 0.1115337\ttotal: 513ms\tremaining: 449ms\n",
      "533:\tlearn: 0.1112903\ttotal: 514ms\tremaining: 448ms\n",
      "534:\tlearn: 0.1111749\ttotal: 515ms\tremaining: 448ms\n",
      "535:\tlearn: 0.1111302\ttotal: 516ms\tremaining: 446ms\n",
      "536:\tlearn: 0.1109532\ttotal: 516ms\tremaining: 445ms\n",
      "537:\tlearn: 0.1107440\ttotal: 517ms\tremaining: 444ms\n",
      "538:\tlearn: 0.1106928\ttotal: 518ms\tremaining: 443ms\n",
      "539:\tlearn: 0.1106579\ttotal: 519ms\tremaining: 442ms\n",
      "540:\tlearn: 0.1104065\ttotal: 520ms\tremaining: 441ms\n",
      "541:\tlearn: 0.1101727\ttotal: 521ms\tremaining: 440ms\n",
      "542:\tlearn: 0.1100676\ttotal: 521ms\tremaining: 439ms\n",
      "543:\tlearn: 0.1097802\ttotal: 522ms\tremaining: 438ms\n",
      "544:\tlearn: 0.1096688\ttotal: 523ms\tremaining: 437ms\n",
      "545:\tlearn: 0.1095014\ttotal: 524ms\tremaining: 436ms\n",
      "546:\tlearn: 0.1093440\ttotal: 525ms\tremaining: 435ms\n",
      "547:\tlearn: 0.1090472\ttotal: 526ms\tremaining: 433ms\n",
      "548:\tlearn: 0.1090176\ttotal: 526ms\tremaining: 432ms\n",
      "549:\tlearn: 0.1087957\ttotal: 527ms\tremaining: 431ms\n",
      "550:\tlearn: 0.1087483\ttotal: 528ms\tremaining: 430ms\n",
      "551:\tlearn: 0.1085613\ttotal: 529ms\tremaining: 429ms\n",
      "552:\tlearn: 0.1083552\ttotal: 530ms\tremaining: 428ms\n",
      "553:\tlearn: 0.1082712\ttotal: 530ms\tremaining: 427ms\n",
      "554:\tlearn: 0.1081469\ttotal: 531ms\tremaining: 426ms\n",
      "555:\tlearn: 0.1080348\ttotal: 532ms\tremaining: 425ms\n",
      "556:\tlearn: 0.1079896\ttotal: 533ms\tremaining: 424ms\n",
      "557:\tlearn: 0.1078400\ttotal: 534ms\tremaining: 423ms\n",
      "558:\tlearn: 0.1076567\ttotal: 534ms\tremaining: 422ms\n",
      "559:\tlearn: 0.1074231\ttotal: 535ms\tremaining: 420ms\n",
      "560:\tlearn: 0.1071800\ttotal: 536ms\tremaining: 419ms\n",
      "561:\tlearn: 0.1069701\ttotal: 537ms\tremaining: 419ms\n",
      "562:\tlearn: 0.1068091\ttotal: 538ms\tremaining: 417ms\n",
      "563:\tlearn: 0.1066742\ttotal: 539ms\tremaining: 416ms\n",
      "564:\tlearn: 0.1064500\ttotal: 539ms\tremaining: 415ms\n",
      "565:\tlearn: 0.1061432\ttotal: 540ms\tremaining: 414ms\n",
      "566:\tlearn: 0.1059693\ttotal: 541ms\tremaining: 413ms\n",
      "567:\tlearn: 0.1057835\ttotal: 542ms\tremaining: 412ms\n",
      "568:\tlearn: 0.1055850\ttotal: 543ms\tremaining: 411ms\n",
      "569:\tlearn: 0.1053966\ttotal: 544ms\tremaining: 410ms\n",
      "570:\tlearn: 0.1052579\ttotal: 545ms\tremaining: 409ms\n",
      "571:\tlearn: 0.1051784\ttotal: 545ms\tremaining: 408ms\n",
      "572:\tlearn: 0.1051590\ttotal: 546ms\tremaining: 407ms\n",
      "573:\tlearn: 0.1050328\ttotal: 547ms\tremaining: 406ms\n",
      "574:\tlearn: 0.1049193\ttotal: 548ms\tremaining: 405ms\n",
      "575:\tlearn: 0.1048186\ttotal: 549ms\tremaining: 404ms\n",
      "576:\tlearn: 0.1046263\ttotal: 550ms\tremaining: 403ms\n",
      "577:\tlearn: 0.1044863\ttotal: 550ms\tremaining: 402ms\n",
      "578:\tlearn: 0.1044396\ttotal: 551ms\tremaining: 401ms\n",
      "579:\tlearn: 0.1042498\ttotal: 552ms\tremaining: 400ms\n",
      "580:\tlearn: 0.1042081\ttotal: 553ms\tremaining: 399ms\n",
      "581:\tlearn: 0.1040607\ttotal: 554ms\tremaining: 398ms\n",
      "582:\tlearn: 0.1037999\ttotal: 554ms\tremaining: 397ms\n",
      "583:\tlearn: 0.1036622\ttotal: 555ms\tremaining: 396ms\n",
      "584:\tlearn: 0.1034393\ttotal: 556ms\tremaining: 394ms\n"
     ]
    },
    {
     "name": "stdout",
     "output_type": "stream",
     "text": [
      "585:\tlearn: 0.1032648\ttotal: 557ms\tremaining: 394ms\n",
      "586:\tlearn: 0.1032339\ttotal: 558ms\tremaining: 393ms\n",
      "587:\tlearn: 0.1031822\ttotal: 559ms\tremaining: 392ms\n",
      "588:\tlearn: 0.1029310\ttotal: 560ms\tremaining: 390ms\n",
      "589:\tlearn: 0.1028084\ttotal: 561ms\tremaining: 390ms\n",
      "590:\tlearn: 0.1027537\ttotal: 561ms\tremaining: 389ms\n",
      "591:\tlearn: 0.1027211\ttotal: 562ms\tremaining: 387ms\n",
      "592:\tlearn: 0.1026432\ttotal: 563ms\tremaining: 386ms\n",
      "593:\tlearn: 0.1024260\ttotal: 564ms\tremaining: 386ms\n",
      "594:\tlearn: 0.1023669\ttotal: 565ms\tremaining: 385ms\n",
      "595:\tlearn: 0.1021905\ttotal: 566ms\tremaining: 383ms\n",
      "596:\tlearn: 0.1019433\ttotal: 567ms\tremaining: 382ms\n",
      "597:\tlearn: 0.1018535\ttotal: 567ms\tremaining: 381ms\n",
      "598:\tlearn: 0.1016649\ttotal: 568ms\tremaining: 380ms\n",
      "599:\tlearn: 0.1014704\ttotal: 569ms\tremaining: 379ms\n",
      "600:\tlearn: 0.1013514\ttotal: 570ms\tremaining: 378ms\n",
      "601:\tlearn: 0.1011851\ttotal: 571ms\tremaining: 377ms\n",
      "602:\tlearn: 0.1011355\ttotal: 571ms\tremaining: 376ms\n",
      "603:\tlearn: 0.1009346\ttotal: 572ms\tremaining: 375ms\n",
      "604:\tlearn: 0.1007770\ttotal: 573ms\tremaining: 374ms\n",
      "605:\tlearn: 0.1006499\ttotal: 574ms\tremaining: 373ms\n",
      "606:\tlearn: 0.1005528\ttotal: 574ms\tremaining: 372ms\n",
      "607:\tlearn: 0.1004441\ttotal: 575ms\tremaining: 371ms\n",
      "608:\tlearn: 0.1002885\ttotal: 576ms\tremaining: 370ms\n",
      "609:\tlearn: 0.1001004\ttotal: 577ms\tremaining: 369ms\n",
      "610:\tlearn: 0.0999490\ttotal: 578ms\tremaining: 368ms\n",
      "611:\tlearn: 0.0997642\ttotal: 579ms\tremaining: 367ms\n",
      "612:\tlearn: 0.0996100\ttotal: 579ms\tremaining: 366ms\n",
      "613:\tlearn: 0.0995806\ttotal: 580ms\tremaining: 365ms\n",
      "614:\tlearn: 0.0994372\ttotal: 581ms\tremaining: 364ms\n",
      "615:\tlearn: 0.0993533\ttotal: 582ms\tremaining: 363ms\n",
      "616:\tlearn: 0.0993206\ttotal: 583ms\tremaining: 362ms\n",
      "617:\tlearn: 0.0992438\ttotal: 584ms\tremaining: 361ms\n",
      "618:\tlearn: 0.0991130\ttotal: 584ms\tremaining: 360ms\n",
      "619:\tlearn: 0.0990432\ttotal: 585ms\tremaining: 359ms\n",
      "620:\tlearn: 0.0988251\ttotal: 586ms\tremaining: 358ms\n",
      "621:\tlearn: 0.0987108\ttotal: 587ms\tremaining: 357ms\n",
      "622:\tlearn: 0.0984754\ttotal: 588ms\tremaining: 356ms\n",
      "623:\tlearn: 0.0983644\ttotal: 589ms\tremaining: 355ms\n",
      "624:\tlearn: 0.0981888\ttotal: 590ms\tremaining: 354ms\n",
      "625:\tlearn: 0.0981379\ttotal: 591ms\tremaining: 353ms\n",
      "626:\tlearn: 0.0978899\ttotal: 592ms\tremaining: 352ms\n",
      "627:\tlearn: 0.0977689\ttotal: 593ms\tremaining: 351ms\n",
      "628:\tlearn: 0.0976061\ttotal: 594ms\tremaining: 350ms\n",
      "629:\tlearn: 0.0974991\ttotal: 594ms\tremaining: 349ms\n",
      "630:\tlearn: 0.0974143\ttotal: 595ms\tremaining: 348ms\n",
      "631:\tlearn: 0.0971227\ttotal: 596ms\tremaining: 347ms\n",
      "632:\tlearn: 0.0970861\ttotal: 597ms\tremaining: 346ms\n",
      "633:\tlearn: 0.0968852\ttotal: 598ms\tremaining: 345ms\n",
      "634:\tlearn: 0.0968441\ttotal: 599ms\tremaining: 344ms\n",
      "635:\tlearn: 0.0967501\ttotal: 599ms\tremaining: 343ms\n",
      "636:\tlearn: 0.0967009\ttotal: 600ms\tremaining: 342ms\n",
      "637:\tlearn: 0.0965302\ttotal: 601ms\tremaining: 341ms\n",
      "638:\tlearn: 0.0963811\ttotal: 602ms\tremaining: 340ms\n",
      "639:\tlearn: 0.0962018\ttotal: 603ms\tremaining: 339ms\n",
      "640:\tlearn: 0.0961805\ttotal: 603ms\tremaining: 338ms\n",
      "641:\tlearn: 0.0960708\ttotal: 604ms\tremaining: 337ms\n",
      "642:\tlearn: 0.0960582\ttotal: 605ms\tremaining: 336ms\n",
      "643:\tlearn: 0.0960260\ttotal: 606ms\tremaining: 335ms\n",
      "644:\tlearn: 0.0958688\ttotal: 607ms\tremaining: 334ms\n",
      "645:\tlearn: 0.0956181\ttotal: 608ms\tremaining: 333ms\n",
      "646:\tlearn: 0.0953794\ttotal: 608ms\tremaining: 332ms\n",
      "647:\tlearn: 0.0952057\ttotal: 609ms\tremaining: 331ms\n",
      "648:\tlearn: 0.0950888\ttotal: 610ms\tremaining: 330ms\n",
      "649:\tlearn: 0.0949904\ttotal: 611ms\tremaining: 329ms\n",
      "650:\tlearn: 0.0947605\ttotal: 612ms\tremaining: 328ms\n",
      "651:\tlearn: 0.0945989\ttotal: 613ms\tremaining: 327ms\n",
      "652:\tlearn: 0.0944523\ttotal: 614ms\tremaining: 326ms\n",
      "653:\tlearn: 0.0943608\ttotal: 614ms\tremaining: 325ms\n",
      "654:\tlearn: 0.0941979\ttotal: 615ms\tremaining: 324ms\n",
      "655:\tlearn: 0.0940540\ttotal: 616ms\tremaining: 323ms\n",
      "656:\tlearn: 0.0940234\ttotal: 617ms\tremaining: 322ms\n",
      "657:\tlearn: 0.0939226\ttotal: 618ms\tremaining: 321ms\n",
      "658:\tlearn: 0.0937654\ttotal: 618ms\tremaining: 320ms\n",
      "659:\tlearn: 0.0936703\ttotal: 619ms\tremaining: 319ms\n",
      "660:\tlearn: 0.0935382\ttotal: 620ms\tremaining: 318ms\n",
      "661:\tlearn: 0.0933185\ttotal: 621ms\tremaining: 317ms\n",
      "662:\tlearn: 0.0930895\ttotal: 622ms\tremaining: 316ms\n",
      "663:\tlearn: 0.0928532\ttotal: 623ms\tremaining: 315ms\n",
      "664:\tlearn: 0.0927552\ttotal: 623ms\tremaining: 314ms\n",
      "665:\tlearn: 0.0927229\ttotal: 624ms\tremaining: 313ms\n",
      "666:\tlearn: 0.0925076\ttotal: 625ms\tremaining: 312ms\n",
      "667:\tlearn: 0.0924820\ttotal: 626ms\tremaining: 311ms\n",
      "668:\tlearn: 0.0921969\ttotal: 627ms\tremaining: 310ms\n",
      "669:\tlearn: 0.0920875\ttotal: 627ms\tremaining: 309ms\n",
      "670:\tlearn: 0.0919867\ttotal: 628ms\tremaining: 308ms\n",
      "671:\tlearn: 0.0918315\ttotal: 629ms\tremaining: 307ms\n",
      "672:\tlearn: 0.0916845\ttotal: 630ms\tremaining: 306ms\n",
      "673:\tlearn: 0.0915355\ttotal: 631ms\tremaining: 305ms\n",
      "674:\tlearn: 0.0914138\ttotal: 632ms\tremaining: 304ms\n",
      "675:\tlearn: 0.0913561\ttotal: 632ms\tremaining: 303ms\n",
      "676:\tlearn: 0.0913296\ttotal: 633ms\tremaining: 302ms\n",
      "677:\tlearn: 0.0911459\ttotal: 634ms\tremaining: 301ms\n",
      "678:\tlearn: 0.0909734\ttotal: 635ms\tremaining: 300ms\n",
      "679:\tlearn: 0.0908414\ttotal: 636ms\tremaining: 299ms\n",
      "680:\tlearn: 0.0906452\ttotal: 637ms\tremaining: 298ms\n",
      "681:\tlearn: 0.0905072\ttotal: 638ms\tremaining: 297ms\n",
      "682:\tlearn: 0.0903879\ttotal: 638ms\tremaining: 296ms\n",
      "683:\tlearn: 0.0902504\ttotal: 639ms\tremaining: 295ms\n",
      "684:\tlearn: 0.0901251\ttotal: 640ms\tremaining: 294ms\n",
      "685:\tlearn: 0.0899594\ttotal: 641ms\tremaining: 293ms\n",
      "686:\tlearn: 0.0898027\ttotal: 642ms\tremaining: 292ms\n",
      "687:\tlearn: 0.0896486\ttotal: 643ms\tremaining: 291ms\n",
      "688:\tlearn: 0.0895491\ttotal: 643ms\tremaining: 290ms\n",
      "689:\tlearn: 0.0894193\ttotal: 644ms\tremaining: 289ms\n",
      "690:\tlearn: 0.0893123\ttotal: 645ms\tremaining: 288ms\n",
      "691:\tlearn: 0.0891318\ttotal: 646ms\tremaining: 287ms\n",
      "692:\tlearn: 0.0889772\ttotal: 647ms\tremaining: 286ms\n",
      "693:\tlearn: 0.0888404\ttotal: 647ms\tremaining: 285ms\n",
      "694:\tlearn: 0.0887045\ttotal: 648ms\tremaining: 284ms\n",
      "695:\tlearn: 0.0885700\ttotal: 649ms\tremaining: 283ms\n",
      "696:\tlearn: 0.0884867\ttotal: 650ms\tremaining: 283ms\n",
      "697:\tlearn: 0.0883630\ttotal: 651ms\tremaining: 282ms\n",
      "698:\tlearn: 0.0882794\ttotal: 652ms\tremaining: 281ms\n",
      "699:\tlearn: 0.0881373\ttotal: 652ms\tremaining: 280ms\n",
      "700:\tlearn: 0.0879736\ttotal: 653ms\tremaining: 279ms\n",
      "701:\tlearn: 0.0878144\ttotal: 654ms\tremaining: 278ms\n",
      "702:\tlearn: 0.0876707\ttotal: 655ms\tremaining: 277ms\n",
      "703:\tlearn: 0.0875353\ttotal: 655ms\tremaining: 276ms\n",
      "704:\tlearn: 0.0874090\ttotal: 656ms\tremaining: 275ms\n",
      "705:\tlearn: 0.0872936\ttotal: 657ms\tremaining: 274ms\n",
      "706:\tlearn: 0.0871305\ttotal: 658ms\tremaining: 273ms\n",
      "707:\tlearn: 0.0869808\ttotal: 659ms\tremaining: 272ms\n",
      "708:\tlearn: 0.0868871\ttotal: 660ms\tremaining: 271ms\n",
      "709:\tlearn: 0.0867213\ttotal: 661ms\tremaining: 270ms\n",
      "710:\tlearn: 0.0866935\ttotal: 661ms\tremaining: 269ms\n",
      "711:\tlearn: 0.0866609\ttotal: 662ms\tremaining: 268ms\n",
      "712:\tlearn: 0.0864847\ttotal: 663ms\tremaining: 267ms\n",
      "713:\tlearn: 0.0863689\ttotal: 664ms\tremaining: 266ms\n",
      "714:\tlearn: 0.0862304\ttotal: 665ms\tremaining: 265ms\n"
     ]
    },
    {
     "name": "stdout",
     "output_type": "stream",
     "text": [
      "715:\tlearn: 0.0862086\ttotal: 665ms\tremaining: 264ms\n",
      "716:\tlearn: 0.0861245\ttotal: 666ms\tremaining: 263ms\n",
      "717:\tlearn: 0.0859251\ttotal: 667ms\tremaining: 262ms\n",
      "718:\tlearn: 0.0857243\ttotal: 668ms\tremaining: 261ms\n",
      "719:\tlearn: 0.0855949\ttotal: 669ms\tremaining: 260ms\n",
      "720:\tlearn: 0.0855725\ttotal: 670ms\tremaining: 259ms\n",
      "721:\tlearn: 0.0854804\ttotal: 670ms\tremaining: 258ms\n",
      "722:\tlearn: 0.0852951\ttotal: 671ms\tremaining: 257ms\n",
      "723:\tlearn: 0.0850917\ttotal: 672ms\tremaining: 256ms\n",
      "724:\tlearn: 0.0849734\ttotal: 673ms\tremaining: 255ms\n",
      "725:\tlearn: 0.0849397\ttotal: 674ms\tremaining: 254ms\n",
      "726:\tlearn: 0.0848423\ttotal: 674ms\tremaining: 253ms\n",
      "727:\tlearn: 0.0847403\ttotal: 675ms\tremaining: 252ms\n",
      "728:\tlearn: 0.0846338\ttotal: 676ms\tremaining: 251ms\n",
      "729:\tlearn: 0.0845932\ttotal: 677ms\tremaining: 250ms\n",
      "730:\tlearn: 0.0844009\ttotal: 678ms\tremaining: 249ms\n",
      "731:\tlearn: 0.0843072\ttotal: 679ms\tremaining: 248ms\n",
      "732:\tlearn: 0.0841821\ttotal: 680ms\tremaining: 248ms\n",
      "733:\tlearn: 0.0841571\ttotal: 681ms\tremaining: 247ms\n",
      "734:\tlearn: 0.0840300\ttotal: 682ms\tremaining: 246ms\n",
      "735:\tlearn: 0.0838611\ttotal: 682ms\tremaining: 245ms\n",
      "736:\tlearn: 0.0836783\ttotal: 683ms\tremaining: 244ms\n",
      "737:\tlearn: 0.0835209\ttotal: 684ms\tremaining: 243ms\n",
      "738:\tlearn: 0.0833806\ttotal: 685ms\tremaining: 242ms\n",
      "739:\tlearn: 0.0833009\ttotal: 686ms\tremaining: 241ms\n",
      "740:\tlearn: 0.0831734\ttotal: 686ms\tremaining: 240ms\n",
      "741:\tlearn: 0.0830193\ttotal: 687ms\tremaining: 239ms\n",
      "742:\tlearn: 0.0828805\ttotal: 688ms\tremaining: 238ms\n",
      "743:\tlearn: 0.0827724\ttotal: 689ms\tremaining: 237ms\n",
      "744:\tlearn: 0.0827255\ttotal: 690ms\tremaining: 236ms\n",
      "745:\tlearn: 0.0825243\ttotal: 690ms\tremaining: 235ms\n",
      "746:\tlearn: 0.0824340\ttotal: 691ms\tremaining: 234ms\n",
      "747:\tlearn: 0.0822997\ttotal: 692ms\tremaining: 233ms\n",
      "748:\tlearn: 0.0821908\ttotal: 693ms\tremaining: 232ms\n",
      "749:\tlearn: 0.0820613\ttotal: 694ms\tremaining: 231ms\n",
      "750:\tlearn: 0.0819042\ttotal: 695ms\tremaining: 230ms\n",
      "751:\tlearn: 0.0817457\ttotal: 696ms\tremaining: 229ms\n",
      "752:\tlearn: 0.0816711\ttotal: 696ms\tremaining: 228ms\n",
      "753:\tlearn: 0.0815682\ttotal: 697ms\tremaining: 227ms\n",
      "754:\tlearn: 0.0814006\ttotal: 698ms\tremaining: 227ms\n",
      "755:\tlearn: 0.0813286\ttotal: 699ms\tremaining: 226ms\n",
      "756:\tlearn: 0.0812522\ttotal: 700ms\tremaining: 225ms\n",
      "757:\tlearn: 0.0811252\ttotal: 701ms\tremaining: 224ms\n",
      "758:\tlearn: 0.0809396\ttotal: 701ms\tremaining: 223ms\n",
      "759:\tlearn: 0.0808598\ttotal: 702ms\tremaining: 222ms\n",
      "760:\tlearn: 0.0806436\ttotal: 703ms\tremaining: 221ms\n",
      "761:\tlearn: 0.0804630\ttotal: 704ms\tremaining: 220ms\n",
      "762:\tlearn: 0.0803928\ttotal: 705ms\tremaining: 219ms\n",
      "763:\tlearn: 0.0803011\ttotal: 705ms\tremaining: 218ms\n",
      "764:\tlearn: 0.0801318\ttotal: 706ms\tremaining: 217ms\n",
      "765:\tlearn: 0.0800209\ttotal: 707ms\tremaining: 216ms\n",
      "766:\tlearn: 0.0798760\ttotal: 708ms\tremaining: 215ms\n",
      "767:\tlearn: 0.0797544\ttotal: 708ms\tremaining: 214ms\n",
      "768:\tlearn: 0.0795760\ttotal: 709ms\tremaining: 213ms\n",
      "769:\tlearn: 0.0795533\ttotal: 710ms\tremaining: 212ms\n",
      "770:\tlearn: 0.0794029\ttotal: 711ms\tremaining: 211ms\n",
      "771:\tlearn: 0.0792393\ttotal: 712ms\tremaining: 210ms\n",
      "772:\tlearn: 0.0791142\ttotal: 713ms\tremaining: 209ms\n",
      "773:\tlearn: 0.0790161\ttotal: 713ms\tremaining: 208ms\n",
      "774:\tlearn: 0.0788835\ttotal: 714ms\tremaining: 207ms\n",
      "775:\tlearn: 0.0787472\ttotal: 715ms\tremaining: 206ms\n",
      "776:\tlearn: 0.0786382\ttotal: 716ms\tremaining: 205ms\n",
      "777:\tlearn: 0.0785219\ttotal: 717ms\tremaining: 204ms\n",
      "778:\tlearn: 0.0785036\ttotal: 717ms\tremaining: 203ms\n",
      "779:\tlearn: 0.0783974\ttotal: 718ms\tremaining: 203ms\n",
      "780:\tlearn: 0.0782310\ttotal: 719ms\tremaining: 202ms\n",
      "781:\tlearn: 0.0780317\ttotal: 720ms\tremaining: 201ms\n",
      "782:\tlearn: 0.0779508\ttotal: 721ms\tremaining: 200ms\n",
      "783:\tlearn: 0.0777796\ttotal: 721ms\tremaining: 199ms\n",
      "784:\tlearn: 0.0776850\ttotal: 722ms\tremaining: 198ms\n",
      "785:\tlearn: 0.0775993\ttotal: 723ms\tremaining: 197ms\n",
      "786:\tlearn: 0.0774869\ttotal: 724ms\tremaining: 196ms\n",
      "787:\tlearn: 0.0774597\ttotal: 724ms\tremaining: 195ms\n",
      "788:\tlearn: 0.0773430\ttotal: 725ms\tremaining: 194ms\n",
      "789:\tlearn: 0.0772612\ttotal: 726ms\tremaining: 193ms\n",
      "790:\tlearn: 0.0771132\ttotal: 727ms\tremaining: 192ms\n",
      "791:\tlearn: 0.0770984\ttotal: 728ms\tremaining: 191ms\n",
      "792:\tlearn: 0.0770165\ttotal: 729ms\tremaining: 190ms\n",
      "793:\tlearn: 0.0770036\ttotal: 729ms\tremaining: 189ms\n",
      "794:\tlearn: 0.0769810\ttotal: 730ms\tremaining: 188ms\n",
      "795:\tlearn: 0.0768461\ttotal: 731ms\tremaining: 187ms\n",
      "796:\tlearn: 0.0767733\ttotal: 732ms\tremaining: 186ms\n",
      "797:\tlearn: 0.0765934\ttotal: 733ms\tremaining: 185ms\n",
      "798:\tlearn: 0.0765109\ttotal: 733ms\tremaining: 184ms\n",
      "799:\tlearn: 0.0764504\ttotal: 734ms\tremaining: 184ms\n",
      "800:\tlearn: 0.0762850\ttotal: 735ms\tremaining: 183ms\n",
      "801:\tlearn: 0.0762411\ttotal: 736ms\tremaining: 182ms\n",
      "802:\tlearn: 0.0761154\ttotal: 737ms\tremaining: 181ms\n",
      "803:\tlearn: 0.0760358\ttotal: 737ms\tremaining: 180ms\n",
      "804:\tlearn: 0.0759448\ttotal: 738ms\tremaining: 179ms\n",
      "805:\tlearn: 0.0757963\ttotal: 739ms\tremaining: 178ms\n",
      "806:\tlearn: 0.0756344\ttotal: 740ms\tremaining: 177ms\n",
      "807:\tlearn: 0.0755991\ttotal: 741ms\tremaining: 176ms\n",
      "808:\tlearn: 0.0753975\ttotal: 742ms\tremaining: 175ms\n",
      "809:\tlearn: 0.0752461\ttotal: 743ms\tremaining: 174ms\n",
      "810:\tlearn: 0.0751227\ttotal: 743ms\tremaining: 173ms\n",
      "811:\tlearn: 0.0749517\ttotal: 744ms\tremaining: 172ms\n",
      "812:\tlearn: 0.0749365\ttotal: 745ms\tremaining: 171ms\n",
      "813:\tlearn: 0.0748755\ttotal: 746ms\tremaining: 170ms\n",
      "814:\tlearn: 0.0747583\ttotal: 747ms\tremaining: 170ms\n"
     ]
    },
    {
     "name": "stdout",
     "output_type": "stream",
     "text": [
      "815:\tlearn: 0.0746087\ttotal: 748ms\tremaining: 169ms\n",
      "816:\tlearn: 0.0744518\ttotal: 749ms\tremaining: 168ms\n",
      "817:\tlearn: 0.0744176\ttotal: 749ms\tremaining: 167ms\n",
      "818:\tlearn: 0.0743747\ttotal: 750ms\tremaining: 166ms\n",
      "819:\tlearn: 0.0742554\ttotal: 751ms\tremaining: 165ms\n",
      "820:\tlearn: 0.0740987\ttotal: 752ms\tremaining: 164ms\n",
      "821:\tlearn: 0.0739938\ttotal: 753ms\tremaining: 163ms\n",
      "822:\tlearn: 0.0739024\ttotal: 754ms\tremaining: 162ms\n",
      "823:\tlearn: 0.0738291\ttotal: 754ms\tremaining: 161ms\n",
      "824:\tlearn: 0.0736705\ttotal: 755ms\tremaining: 160ms\n",
      "825:\tlearn: 0.0735540\ttotal: 756ms\tremaining: 159ms\n",
      "826:\tlearn: 0.0734550\ttotal: 757ms\tremaining: 158ms\n",
      "827:\tlearn: 0.0732927\ttotal: 758ms\tremaining: 157ms\n",
      "828:\tlearn: 0.0732323\ttotal: 759ms\tremaining: 156ms\n",
      "829:\tlearn: 0.0731161\ttotal: 759ms\tremaining: 156ms\n",
      "830:\tlearn: 0.0730349\ttotal: 760ms\tremaining: 155ms\n",
      "831:\tlearn: 0.0729808\ttotal: 761ms\tremaining: 154ms\n",
      "832:\tlearn: 0.0728043\ttotal: 762ms\tremaining: 153ms\n",
      "833:\tlearn: 0.0727048\ttotal: 762ms\tremaining: 152ms\n",
      "834:\tlearn: 0.0726065\ttotal: 763ms\tremaining: 151ms\n",
      "835:\tlearn: 0.0724583\ttotal: 764ms\tremaining: 150ms\n",
      "836:\tlearn: 0.0722997\ttotal: 765ms\tremaining: 149ms\n",
      "837:\tlearn: 0.0722835\ttotal: 766ms\tremaining: 148ms\n",
      "838:\tlearn: 0.0721506\ttotal: 766ms\tremaining: 147ms\n",
      "839:\tlearn: 0.0719779\ttotal: 767ms\tremaining: 146ms\n",
      "840:\tlearn: 0.0718500\ttotal: 768ms\tremaining: 145ms\n",
      "841:\tlearn: 0.0717916\ttotal: 769ms\tremaining: 144ms\n",
      "842:\tlearn: 0.0716884\ttotal: 770ms\tremaining: 143ms\n",
      "843:\tlearn: 0.0716566\ttotal: 771ms\tremaining: 142ms\n",
      "844:\tlearn: 0.0716368\ttotal: 771ms\tremaining: 142ms\n",
      "845:\tlearn: 0.0716260\ttotal: 772ms\tremaining: 141ms\n",
      "846:\tlearn: 0.0716096\ttotal: 773ms\tremaining: 140ms\n",
      "847:\tlearn: 0.0714767\ttotal: 774ms\tremaining: 139ms\n",
      "848:\tlearn: 0.0714369\ttotal: 775ms\tremaining: 138ms\n",
      "849:\tlearn: 0.0712658\ttotal: 776ms\tremaining: 137ms\n",
      "850:\tlearn: 0.0711671\ttotal: 777ms\tremaining: 136ms\n",
      "851:\tlearn: 0.0710992\ttotal: 777ms\tremaining: 135ms\n",
      "852:\tlearn: 0.0709231\ttotal: 778ms\tremaining: 134ms\n",
      "853:\tlearn: 0.0708401\ttotal: 779ms\tremaining: 133ms\n",
      "854:\tlearn: 0.0707008\ttotal: 780ms\tremaining: 132ms\n",
      "855:\tlearn: 0.0705112\ttotal: 781ms\tremaining: 131ms\n",
      "856:\tlearn: 0.0703836\ttotal: 782ms\tremaining: 130ms\n",
      "857:\tlearn: 0.0702985\ttotal: 782ms\tremaining: 129ms\n",
      "858:\tlearn: 0.0702008\ttotal: 783ms\tremaining: 129ms\n",
      "859:\tlearn: 0.0700764\ttotal: 784ms\tremaining: 128ms\n",
      "860:\tlearn: 0.0700347\ttotal: 785ms\tremaining: 127ms\n",
      "861:\tlearn: 0.0699195\ttotal: 786ms\tremaining: 126ms\n",
      "862:\tlearn: 0.0698382\ttotal: 786ms\tremaining: 125ms\n",
      "863:\tlearn: 0.0696979\ttotal: 787ms\tremaining: 124ms\n",
      "864:\tlearn: 0.0695584\ttotal: 788ms\tremaining: 123ms\n",
      "865:\tlearn: 0.0694671\ttotal: 789ms\tremaining: 122ms\n",
      "866:\tlearn: 0.0693589\ttotal: 790ms\tremaining: 121ms\n",
      "867:\tlearn: 0.0693066\ttotal: 791ms\tremaining: 120ms\n",
      "868:\tlearn: 0.0692603\ttotal: 791ms\tremaining: 119ms\n",
      "869:\tlearn: 0.0691592\ttotal: 792ms\tremaining: 118ms\n",
      "870:\tlearn: 0.0690079\ttotal: 793ms\tremaining: 117ms\n",
      "871:\tlearn: 0.0689491\ttotal: 794ms\tremaining: 116ms\n",
      "872:\tlearn: 0.0688374\ttotal: 794ms\tremaining: 116ms\n",
      "873:\tlearn: 0.0687136\ttotal: 795ms\tremaining: 115ms\n",
      "874:\tlearn: 0.0686922\ttotal: 796ms\tremaining: 114ms\n",
      "875:\tlearn: 0.0685139\ttotal: 797ms\tremaining: 113ms\n",
      "876:\tlearn: 0.0684092\ttotal: 798ms\tremaining: 112ms\n",
      "877:\tlearn: 0.0682981\ttotal: 798ms\tremaining: 111ms\n",
      "878:\tlearn: 0.0682597\ttotal: 799ms\tremaining: 110ms\n",
      "879:\tlearn: 0.0682109\ttotal: 800ms\tremaining: 109ms\n",
      "880:\tlearn: 0.0681172\ttotal: 801ms\tremaining: 108ms\n",
      "881:\tlearn: 0.0680481\ttotal: 802ms\tremaining: 107ms\n",
      "882:\tlearn: 0.0679146\ttotal: 802ms\tremaining: 106ms\n",
      "883:\tlearn: 0.0678009\ttotal: 803ms\tremaining: 105ms\n",
      "884:\tlearn: 0.0677043\ttotal: 804ms\tremaining: 104ms\n",
      "885:\tlearn: 0.0676163\ttotal: 805ms\tremaining: 104ms\n",
      "886:\tlearn: 0.0674795\ttotal: 805ms\tremaining: 103ms\n",
      "887:\tlearn: 0.0673965\ttotal: 806ms\tremaining: 102ms\n",
      "888:\tlearn: 0.0672762\ttotal: 807ms\tremaining: 101ms\n",
      "889:\tlearn: 0.0672184\ttotal: 808ms\tremaining: 99.8ms\n",
      "890:\tlearn: 0.0670256\ttotal: 809ms\tremaining: 98.9ms\n",
      "891:\tlearn: 0.0670134\ttotal: 810ms\tremaining: 98ms\n",
      "892:\tlearn: 0.0669905\ttotal: 811ms\tremaining: 97.1ms\n",
      "893:\tlearn: 0.0669619\ttotal: 811ms\tremaining: 96.2ms\n",
      "894:\tlearn: 0.0668889\ttotal: 812ms\tremaining: 95.3ms\n",
      "895:\tlearn: 0.0668370\ttotal: 813ms\tremaining: 94.4ms\n",
      "896:\tlearn: 0.0667834\ttotal: 814ms\tremaining: 93.4ms\n",
      "897:\tlearn: 0.0667545\ttotal: 815ms\tremaining: 92.5ms\n",
      "898:\tlearn: 0.0665891\ttotal: 815ms\tremaining: 91.6ms\n",
      "899:\tlearn: 0.0665096\ttotal: 816ms\tremaining: 90.7ms\n",
      "900:\tlearn: 0.0663762\ttotal: 817ms\tremaining: 89.8ms\n",
      "901:\tlearn: 0.0663409\ttotal: 818ms\tremaining: 88.9ms\n",
      "902:\tlearn: 0.0662284\ttotal: 819ms\tremaining: 87.9ms\n",
      "903:\tlearn: 0.0661287\ttotal: 820ms\tremaining: 87ms\n",
      "904:\tlearn: 0.0660249\ttotal: 820ms\tremaining: 86.1ms\n",
      "905:\tlearn: 0.0659146\ttotal: 821ms\tremaining: 85.2ms\n",
      "906:\tlearn: 0.0658841\ttotal: 822ms\tremaining: 84.3ms\n",
      "907:\tlearn: 0.0658079\ttotal: 823ms\tremaining: 83.4ms\n",
      "908:\tlearn: 0.0656879\ttotal: 824ms\tremaining: 82.5ms\n",
      "909:\tlearn: 0.0656725\ttotal: 825ms\tremaining: 81.5ms\n",
      "910:\tlearn: 0.0655777\ttotal: 825ms\tremaining: 80.6ms\n",
      "911:\tlearn: 0.0655092\ttotal: 826ms\tremaining: 79.7ms\n",
      "912:\tlearn: 0.0653938\ttotal: 827ms\tremaining: 78.8ms\n",
      "913:\tlearn: 0.0652914\ttotal: 828ms\tremaining: 77.9ms\n",
      "914:\tlearn: 0.0651806\ttotal: 829ms\tremaining: 77ms\n",
      "915:\tlearn: 0.0651148\ttotal: 830ms\tremaining: 76.1ms\n",
      "916:\tlearn: 0.0650408\ttotal: 831ms\tremaining: 75.2ms\n",
      "917:\tlearn: 0.0648975\ttotal: 832ms\tremaining: 74.3ms\n",
      "918:\tlearn: 0.0648694\ttotal: 833ms\tremaining: 73.4ms\n",
      "919:\tlearn: 0.0647582\ttotal: 834ms\tremaining: 72.5ms\n",
      "920:\tlearn: 0.0646518\ttotal: 835ms\tremaining: 71.6ms\n",
      "921:\tlearn: 0.0645415\ttotal: 836ms\tremaining: 70.7ms\n",
      "922:\tlearn: 0.0645087\ttotal: 837ms\tremaining: 69.8ms\n",
      "923:\tlearn: 0.0643655\ttotal: 837ms\tremaining: 68.9ms\n",
      "924:\tlearn: 0.0643322\ttotal: 838ms\tremaining: 68ms\n",
      "925:\tlearn: 0.0641811\ttotal: 839ms\tremaining: 67ms\n",
      "926:\tlearn: 0.0641383\ttotal: 840ms\tremaining: 66.1ms\n",
      "927:\tlearn: 0.0640680\ttotal: 840ms\tremaining: 65.2ms\n",
      "928:\tlearn: 0.0640584\ttotal: 841ms\tremaining: 64.3ms\n",
      "929:\tlearn: 0.0640146\ttotal: 842ms\tremaining: 63.4ms\n",
      "930:\tlearn: 0.0639203\ttotal: 843ms\tremaining: 62.5ms\n",
      "931:\tlearn: 0.0638072\ttotal: 844ms\tremaining: 61.6ms\n",
      "932:\tlearn: 0.0636716\ttotal: 844ms\tremaining: 60.6ms\n",
      "933:\tlearn: 0.0635977\ttotal: 845ms\tremaining: 59.7ms\n",
      "934:\tlearn: 0.0634795\ttotal: 846ms\tremaining: 58.8ms\n",
      "935:\tlearn: 0.0634403\ttotal: 847ms\tremaining: 57.9ms\n",
      "936:\tlearn: 0.0633687\ttotal: 848ms\tremaining: 57ms\n",
      "937:\tlearn: 0.0633540\ttotal: 849ms\tremaining: 56.1ms\n",
      "938:\tlearn: 0.0632325\ttotal: 849ms\tremaining: 55.2ms\n",
      "939:\tlearn: 0.0630730\ttotal: 850ms\tremaining: 54.3ms\n",
      "940:\tlearn: 0.0629302\ttotal: 851ms\tremaining: 53.4ms\n",
      "941:\tlearn: 0.0627995\ttotal: 852ms\tremaining: 52.5ms\n",
      "942:\tlearn: 0.0627848\ttotal: 853ms\tremaining: 51.5ms\n",
      "943:\tlearn: 0.0627376\ttotal: 854ms\tremaining: 50.6ms\n",
      "944:\tlearn: 0.0626434\ttotal: 854ms\tremaining: 49.7ms\n",
      "945:\tlearn: 0.0625781\ttotal: 855ms\tremaining: 48.8ms\n"
     ]
    },
    {
     "name": "stdout",
     "output_type": "stream",
     "text": [
      "946:\tlearn: 0.0624651\ttotal: 856ms\tremaining: 47.9ms\n",
      "947:\tlearn: 0.0623142\ttotal: 857ms\tremaining: 47ms\n",
      "948:\tlearn: 0.0622400\ttotal: 858ms\tremaining: 46.1ms\n",
      "949:\tlearn: 0.0621487\ttotal: 859ms\tremaining: 45.2ms\n",
      "950:\tlearn: 0.0620679\ttotal: 860ms\tremaining: 44.3ms\n",
      "951:\tlearn: 0.0619947\ttotal: 860ms\tremaining: 43.4ms\n",
      "952:\tlearn: 0.0619791\ttotal: 861ms\tremaining: 42.5ms\n",
      "953:\tlearn: 0.0619483\ttotal: 862ms\tremaining: 41.6ms\n",
      "954:\tlearn: 0.0618175\ttotal: 863ms\tremaining: 40.7ms\n",
      "955:\tlearn: 0.0617597\ttotal: 864ms\tremaining: 39.8ms\n",
      "956:\tlearn: 0.0616607\ttotal: 865ms\tremaining: 38.8ms\n",
      "957:\tlearn: 0.0615578\ttotal: 865ms\tremaining: 37.9ms\n",
      "958:\tlearn: 0.0614423\ttotal: 866ms\tremaining: 37ms\n",
      "959:\tlearn: 0.0613897\ttotal: 867ms\tremaining: 36.1ms\n",
      "960:\tlearn: 0.0613158\ttotal: 868ms\tremaining: 35.2ms\n",
      "961:\tlearn: 0.0612318\ttotal: 869ms\tremaining: 34.3ms\n",
      "962:\tlearn: 0.0611585\ttotal: 870ms\tremaining: 33.4ms\n",
      "963:\tlearn: 0.0610615\ttotal: 871ms\tremaining: 32.5ms\n",
      "964:\tlearn: 0.0609589\ttotal: 871ms\tremaining: 31.6ms\n",
      "965:\tlearn: 0.0608831\ttotal: 872ms\tremaining: 30.7ms\n",
      "966:\tlearn: 0.0608516\ttotal: 873ms\tremaining: 29.8ms\n",
      "967:\tlearn: 0.0607537\ttotal: 874ms\tremaining: 28.9ms\n",
      "968:\tlearn: 0.0607427\ttotal: 875ms\tremaining: 28ms\n",
      "969:\tlearn: 0.0606172\ttotal: 876ms\tremaining: 27.1ms\n",
      "970:\tlearn: 0.0605168\ttotal: 876ms\tremaining: 26.2ms\n",
      "971:\tlearn: 0.0605014\ttotal: 877ms\tremaining: 25.3ms\n",
      "972:\tlearn: 0.0604017\ttotal: 878ms\tremaining: 24.4ms\n",
      "973:\tlearn: 0.0603712\ttotal: 879ms\tremaining: 23.5ms\n",
      "974:\tlearn: 0.0603612\ttotal: 880ms\tremaining: 22.6ms\n",
      "975:\tlearn: 0.0603469\ttotal: 880ms\tremaining: 21.6ms\n",
      "976:\tlearn: 0.0602487\ttotal: 881ms\tremaining: 20.7ms\n",
      "977:\tlearn: 0.0601086\ttotal: 882ms\tremaining: 19.8ms\n",
      "978:\tlearn: 0.0600282\ttotal: 883ms\tremaining: 18.9ms\n",
      "979:\tlearn: 0.0599434\ttotal: 884ms\tremaining: 18ms\n",
      "980:\tlearn: 0.0598361\ttotal: 885ms\tremaining: 17.1ms\n",
      "981:\tlearn: 0.0597712\ttotal: 886ms\tremaining: 16.2ms\n",
      "982:\tlearn: 0.0597068\ttotal: 887ms\tremaining: 15.3ms\n",
      "983:\tlearn: 0.0596603\ttotal: 887ms\tremaining: 14.4ms\n",
      "984:\tlearn: 0.0596414\ttotal: 888ms\tremaining: 13.5ms\n",
      "985:\tlearn: 0.0595509\ttotal: 889ms\tremaining: 12.6ms\n",
      "986:\tlearn: 0.0594174\ttotal: 890ms\tremaining: 11.7ms\n",
      "987:\tlearn: 0.0593645\ttotal: 891ms\tremaining: 10.8ms\n",
      "988:\tlearn: 0.0592791\ttotal: 891ms\tremaining: 9.91ms\n",
      "989:\tlearn: 0.0591912\ttotal: 892ms\tremaining: 9.01ms\n",
      "990:\tlearn: 0.0590886\ttotal: 893ms\tremaining: 8.11ms\n",
      "991:\tlearn: 0.0590162\ttotal: 894ms\tremaining: 7.21ms\n",
      "992:\tlearn: 0.0589657\ttotal: 895ms\tremaining: 6.31ms\n",
      "993:\tlearn: 0.0589214\ttotal: 896ms\tremaining: 5.41ms\n",
      "994:\tlearn: 0.0588326\ttotal: 896ms\tremaining: 4.5ms\n",
      "995:\tlearn: 0.0587800\ttotal: 898ms\tremaining: 3.6ms\n",
      "996:\tlearn: 0.0587062\ttotal: 898ms\tremaining: 2.7ms\n",
      "997:\tlearn: 0.0586845\ttotal: 899ms\tremaining: 1.8ms\n",
      "998:\tlearn: 0.0585759\ttotal: 900ms\tremaining: 900us\n",
      "999:\tlearn: 0.0584988\ttotal: 901ms\tremaining: 0us\n"
     ]
    },
    {
     "data": {
      "text/plain": [
       "<catboost.core.CatBoostRegressor at 0x7fd1d97aa5e0>"
      ]
     },
     "execution_count": 9,
     "metadata": {},
     "output_type": "execute_result"
    }
   ],
   "source": [
    "#Train the Model \n",
    "prior_model = ctb.CatBoostRegressor()\n",
    "prior_model.fit(X_train,Y_train)"
   ]
  },
  {
   "cell_type": "code",
   "execution_count": 10,
   "id": "af65dcda",
   "metadata": {
    "execution": {
     "iopub.execute_input": "2022-03-11T10:06:01.071677Z",
     "iopub.status.busy": "2022-03-11T10:06:01.071260Z",
     "iopub.status.idle": "2022-03-11T10:06:01.079050Z",
     "shell.execute_reply": "2022-03-11T10:06:01.079356Z"
    },
    "id": "af65dcda",
    "papermill": {
     "duration": 0.021052,
     "end_time": "2022-03-11T10:06:01.079490",
     "exception": false,
     "start_time": "2022-03-11T10:06:01.058438",
     "status": "completed"
    },
    "tags": []
   },
   "outputs": [
    {
     "data": {
      "application/scrapbook.scrap.json+json": {
       "data": 0.07393347222694602,
       "encoder": "json",
       "name": "Prior Model MSE",
       "version": 1
      }
     },
     "metadata": {
      "scrapbook": {
       "data": true,
       "display": false,
       "name": "Prior Model MSE"
      }
     },
     "output_type": "display_data"
    },
    {
     "data": {
      "application/scrapbook.scrap.json+json": {
       "data": 0.07361105549093347,
       "encoder": "json",
       "name": "ABC Pre-generator MSE",
       "version": 1
      }
     },
     "metadata": {
      "scrapbook": {
       "data": true,
       "display": false,
       "name": "ABC Pre-generator MSE"
      }
     },
     "output_type": "display_data"
    },
    {
     "data": {
      "application/scrapbook.scrap.json+json": {
       "data": 0.19671949900427776,
       "encoder": "json",
       "name": "Prior Model MAE",
       "version": 1
      }
     },
     "metadata": {
      "scrapbook": {
       "data": true,
       "display": false,
       "name": "Prior Model MAE"
      }
     },
     "output_type": "display_data"
    },
    {
     "data": {
      "application/scrapbook.scrap.json+json": {
       "data": 0.1958588749374582,
       "encoder": "json",
       "name": "ABC Pre-generator MAE",
       "version": 1
      }
     },
     "metadata": {
      "scrapbook": {
       "data": true,
       "display": false,
       "name": "ABC Pre-generator MAE"
      }
     },
     "output_type": "display_data"
    }
   ],
   "source": [
    "y_pred = prior_model.predict(X_test)\n",
    "y_abc = y_pred + np.random.normal(0,variance, y_pred.shape)\n",
    "mse = mean_squared_error(y_pred,Y_test)\n",
    "sb.glue(\"Prior Model MSE\",mse)\n",
    "mse = mean_squared_error(y_abc,Y_test)\n",
    "sb.glue(\"ABC Pre-generator MSE\",mse)\n",
    "\n",
    "mae = mean_absolute_error(y_pred,Y_test)\n",
    "sb.glue(\"Prior Model MAE\",mae)\n",
    "mae = mean_absolute_error(y_abc,Y_test)\n",
    "sb.glue(\"ABC Pre-generator MAE\",mae)"
   ]
  },
  {
   "cell_type": "markdown",
   "id": "25609da2",
   "metadata": {
    "papermill": {
     "duration": 0.009686,
     "end_time": "2022-03-11T10:06:01.099243",
     "exception": false,
     "start_time": "2022-03-11T10:06:01.089557",
     "status": "completed"
    },
    "tags": []
   },
   "source": [
    "# ABC GAN Model"
   ]
  },
  {
   "cell_type": "code",
   "execution_count": 11,
   "id": "dfc3464d",
   "metadata": {
    "execution": {
     "iopub.execute_input": "2022-03-11T10:06:01.121612Z",
     "iopub.status.busy": "2022-03-11T10:06:01.121246Z",
     "iopub.status.idle": "2022-03-11T10:06:01.123906Z",
     "shell.execute_reply": "2022-03-11T10:06:01.124156Z"
    },
    "papermill": {
     "duration": 0.015375,
     "end_time": "2022-03-11T10:06:01.124266",
     "exception": false,
     "start_time": "2022-03-11T10:06:01.108891",
     "status": "completed"
    },
    "tags": []
   },
   "outputs": [],
   "source": [
    "gen = network.Generator(n_features+1).to(device)\n",
    "disc = network.Discriminator(n_features+1).to(device)\n",
    "\n",
    "criterion = torch.nn.BCELoss()\n",
    "gen_opt = torch.optim.Adam(gen.parameters(), lr=0.001, betas=(0.5, 0.999))\n",
    "disc_opt = torch.optim.Adam(disc.parameters(), lr=0.001, betas=(0.5, 0.999))"
   ]
  },
  {
   "cell_type": "code",
   "execution_count": 12,
   "id": "b75fdd85",
   "metadata": {
    "execution": {
     "iopub.execute_input": "2022-03-11T10:06:01.146262Z",
     "iopub.status.busy": "2022-03-11T10:06:01.145886Z",
     "iopub.status.idle": "2022-03-11T10:06:37.523762Z",
     "shell.execute_reply": "2022-03-11T10:06:37.524139Z"
    },
    "papermill": {
     "duration": 36.390148,
     "end_time": "2022-03-11T10:06:37.524290",
     "exception": false,
     "start_time": "2022-03-11T10:06:01.134142",
     "status": "completed"
    },
    "tags": []
   },
   "outputs": [
    {
     "data": {
      "image/png": "[encoded data removed]",
      "text/plain": [
       "<Figure size 432x288 with 1 Axes>"
      ]
     },
     "metadata": {
      "needs_background": "light"
     },
     "output_type": "display_data"
    },
    {
     "data": {
      "image/png": "[encoded data removed]",
      "text/plain": [
       "<Figure size 432x288 with 1 Axes>"
      ]
     },
     "metadata": {
      "needs_background": "light"
     },
     "output_type": "display_data"
    }
   ],
   "source": [
    "#Training the ABC_GAN \n",
    "ABC_train_test2.training_GAN(disc,gen,disc_opt,gen_opt,train_data,batch_size,n_epochs,criterion,prior_model,variance,0,device)"
   ]
  },
  {
   "cell_type": "code",
   "execution_count": 13,
   "id": "1fa7c368",
   "metadata": {
    "execution": {
     "iopub.execute_input": "2022-03-11T10:06:37.550489Z",
     "iopub.status.busy": "2022-03-11T10:06:37.549994Z",
     "iopub.status.idle": "2022-03-11T10:06:37.861373Z",
     "shell.execute_reply": "2022-03-11T10:06:37.861709Z"
    },
    "papermill": {
     "duration": 0.326254,
     "end_time": "2022-03-11T10:06:37.861835",
     "exception": false,
     "start_time": "2022-03-11T10:06:37.535581",
     "status": "completed"
    },
    "tags": []
   },
   "outputs": [
    {
     "data": {
      "application/scrapbook.scrap.json+json": {
       "data": 0.0783609504363124,
       "encoder": "json",
       "name": "ABC-GAN Model 1 MSE",
       "version": 1
      }
     },
     "metadata": {
      "scrapbook": {
       "data": true,
       "display": false,
       "name": "ABC-GAN Model 1 MSE"
      }
     },
     "output_type": "display_data"
    },
    {
     "data": {
      "application/scrapbook.scrap.json+json": {
       "data": 0.1995479843093484,
       "encoder": "json",
       "name": "ABC-GAN Model 1 MAE",
       "version": 1
      }
     },
     "metadata": {
      "scrapbook": {
       "data": true,
       "display": false,
       "name": "ABC-GAN Model 1 MAE"
      }
     },
     "output_type": "display_data"
    },
    {
     "data": {
      "application/scrapbook.scrap.json+json": {
       "data": 20.35389439955354,
       "encoder": "json",
       "name": "ABC-GAN Model 1 Manhattan Distance",
       "version": 1
      }
     },
     "metadata": {
      "scrapbook": {
       "data": true,
       "display": false,
       "name": "ABC-GAN Model 1 Manhattan Distance"
      }
     },
     "output_type": "display_data"
    },
    {
     "data": {
      "application/scrapbook.scrap.json+json": {
       "data": 2.827137554557148,
       "encoder": "json",
       "name": "ABC-GAN Model 1 Euclidean distance",
       "version": 1
      }
     },
     "metadata": {
      "scrapbook": {
       "data": true,
       "display": false,
       "name": "ABC-GAN Model 1 Euclidean distance"
      }
     },
     "output_type": "display_data"
    },
    {
     "data": {
      "application/scrapbook.scrap.json+json": {
       "data": [
        [
         0.07766054550809268,
         0.07904585565840294,
         0.07882754884728421,
         0.07783626042216028,
         0.07843022002749549,
         0.07746505369970348,
         0.07842267276002853,
         0.07873472808592032,
         0.07739419233725407,
         0.07841615527256048,
         0.07832196238292131,
         0.07814799197710454,
         0.07863562254597983,
         0.07881148274061468,
         0.07832693338048245,
         0.07828889285778591,
         0.07852914862586878,
         0.0783805201511892,
         0.07781922949363443,
         0.07785528790257377,
         0.0774838305720373,
         0.07844072685058759,
         0.07767802240228089,
         0.07861020183368676,
         0.07906878464078793,
         0.07761254363231429,
         0.0776982931012951,
         0.07779206245696488,
         0.07776807248015423,
         0.07856287575153255,
         0.07917075152796708,
         0.07980773343572825,
         0.07942200857446235,
         0.0776719603963073,
         0.07805762177744531,
         0.0780592705036766,
         0.07747281828798783,
         0.07865483929629401,
         0.07818283711225367,
         0.07966761164948717,
         0.07905316728542817,
         0.07848339828968412,
         0.07825342204954065,
         0.0779502609424451,
         0.07888595014993444,
         0.0784861328718901,
         0.07952108832029847,
         0.07883543281288738,
         0.07882615077464358,
         0.07857053843304095,
         0.07868675302774417,
         0.07795254580065529,
         0.07775154486114425,
         0.07945236914215005,
         0.07897753530260444,
         0.07847948664161536,
         0.07874196490374791,
         0.07785083868147935,
         0.07846075408869768,
         0.07957658161849206,
         0.07858462635607001,
         0.0778603365591929,
         0.07758755050325396,
         0.0774763867856721,
         0.078618869578039,
         0.07819544069184661,
         0.07713029486702319,
         0.0785699891004626,
         0.07873531436490089,
         0.07801175278986881,
         0.07892604327953281,
         0.07869096149743668,
         0.07904849681761811,
         0.07775337756709579,
         0.07710184737535052,
         0.0783992813010101,
         0.07862307280841865,
         0.07888046137311096,
         0.07769070453131512,
         0.07801743811686335,
         0.07847358491568505,
         0.07757998441891574,
         0.07801248066068252,
         0.07833426902504094,
         0.07830879005731246,
         0.07840669628208236,
         0.07950662584516183,
         0.07848044546805967,
         0.07793629967112327,
         0.07763881669483576,
         0.07826627141759675,
         0.0779243309860654,
         0.07801233196057687,
         0.07823267242685615,
         0.07850015597639938,
         0.07869977841854585,
         0.07931995128273811,
         0.07852112704491204,
         0.0789811078418289,
         0.07802799001430692
        ],
        [
         0.19796740289266204,
         0.2010546738610548,
         0.19920498037747308,
         0.19837859170693978,
         0.1998784860376926,
         0.19859774098457658,
         0.1996356921051355,
         0.1994212994023281,
         0.19826733894353987,
         0.19945600033536845,
         0.19935151193217904,
         0.19933396964973094,
         0.19993834036822414,
         0.20084559968581386,
         0.19866515774572013,
         0.1996669417575878,
         0.20008396459560768,
         0.1991044926621458,
         0.19819978865630486,
         0.19875658957251147,
         0.19927913281043955,
         0.19829741083815985,
         0.19913191651450654,
         0.19939268186834513,
         0.20036044132475758,
         0.1982862561868102,
         0.1990223216879017,
         0.1987077844712664,
         0.19810089545653148,
         0.19847137155924358,
         0.19988554257753433,
         0.20118280989574452,
         0.2011057997451109,
         0.1977890431150502,
         0.19992477538100645,
         0.20059046468825317,
         0.19818470298367388,
         0.20123941005737173,
         0.20030392746568895,
         0.20266509819410594,
         0.2012345248687209,
         0.19934650110628674,
         0.2009517097955241,
         0.1986948546460446,
         0.20088456362924156,
         0.1991237115261017,
         0.2015948733497484,
         0.1993375716950087,
         0.20081103695373909,
         0.20007559883536077,
         0.19994146798682563,
         0.19971358547827192,
         0.19908680058285302,
         0.20029335213350316,
         0.20008647498473817,
         0.20040101568926783,
         0.19892079624183037,
         0.19814846153352775,
         0.2000272308713665,
         0.20094338925007513,
         0.19926714561149186,
         0.19941005874059947,
         0.19781317576473834,
         0.19769204068271554,
         0.1997000201806134,
         0.19792780623424286,
         0.19784778572034603,
         0.20022177228740617,
         0.19949674350666066,
         0.19821351806761003,
         0.20149658985582053,
         0.19981889444969447,
         0.20011411928663067,
         0.19760499175126647,
         0.19860468956404456,
         0.1988793813313047,
         0.2001531188942346,
         0.2013198877045629,
         0.19816565230561822,
         0.19969501046865595,
         0.1996803829702092,
         0.19803746541341147,
         0.1988260887526706,
         0.19868898915820846,
         0.20059253753838585,
         0.1993021428146783,
         0.20289624577351645,
         0.20058842576748015,
         0.19946413213277564,
         0.1983112097516948,
         0.19943027950677217,
         0.1993355045423788,
         0.19739644895946862,
         0.1986985196560329,
         0.20145627929299487,
         0.20044473586056163,
         0.20044397080645843,
         0.1992986969576747,
         0.2016444005729521,
         0.19947170104612322
        ],
        [
         20.192675095051527,
         20.50757673382759,
         20.318907998502254,
         20.234616354107857,
         20.387605575844646,
         20.256969580426812,
         20.36284059472382,
         20.340972539037466,
         20.223268572241068,
         20.344512034207582,
         20.333854217082262,
         20.332064904272556,
         20.39371071755886,
         20.486251167953014,
         20.263846090063453,
         20.366028059273958,
         20.408564388751984,
         20.308658251538873,
         20.216378442943096,
         20.27317213639617,
         20.326471546664834,
         20.226335905492306,
         20.311455484479666,
         20.338053550571203,
         20.436765015125275,
         20.22519813105464,
         20.300276812165976,
         20.268194016069174,
         20.20629133656621,
         20.244079899042845,
         20.3883253429085,
         20.52064660936594,
         20.512791574001312,
         20.17448239773512,
         20.392327088862658,
         20.460227398201823,
         20.214839704334736,
         20.526419825851917,
         20.431000601500273,
         20.671840015798807,
         20.52592153660953,
         20.33334311284125,
         20.497074399143457,
         20.26687517389655,
         20.490225490182638,
         20.310618575662374,
         20.562677081674337,
         20.332432312890887,
         20.482725769281387,
         20.4077110812068,
         20.394029734656215,
         20.370785718783736,
         20.306853659451008,
         20.42992191761732,
         20.408820448443294,
         20.44090360030532,
         20.2899212166667,
         20.21114307641983,
         20.402777548879385,
         20.496225703507662,
         20.32524885237217,
         20.339825991541147,
         20.17694392800331,
         20.164588149636984,
         20.369402058422565,
         20.188636235892773,
         20.180474143475294,
         20.42262077331543,
         20.348667837679386,
         20.217778842896223,
         20.552652165293694,
         20.381527233868837,
         20.411640167236328,
         20.15570915862918,
         20.257678335532546,
         20.28569689579308,
         20.41561812721193,
         20.534628545865417,
         20.21289653517306,
         20.368891067802906,
         20.36739906296134,
         20.19982147216797,
         20.280261052772403,
         20.266276894137263,
         20.460438828915358,
         20.328818567097187,
         20.695417068898678,
         20.460019428282976,
         20.345341477543116,
         20.22774339467287,
         20.34188850969076,
         20.33222146332264,
         20.1344377938658,
         20.267249004915357,
         20.548540487885475,
         20.445363057777286,
         20.44528502225876,
         20.328467089682817,
         20.567728858441114,
         20.34611350670457
        ],
        [
         2.8144938518009686,
         2.8394853894952683,
         2.8355616696561174,
         2.817676092644495,
         2.828406343297324,
         2.8109492128762756,
         2.8282702525612553,
         2.8338917171910207,
         2.8096632571181757,
         2.828152725331708,
         2.826453637167603,
         2.823312802660141,
         2.832107607364159,
         2.835272692271891,
         2.826543331493294,
         2.8258568738515684,
         2.830189597860648,
         2.8275100451494946,
         2.81736781559503,
         2.818020469418653,
         2.8112898673647657,
         2.828595789214135,
         2.81481052382441,
         2.8316497995048837,
         2.8398971871108936,
         2.8136238999724283,
         2.815177773486445,
         2.8168759948940627,
         2.8164416189539114,
         2.830797295225555,
         2.841727758926362,
         2.8531366617188674,
         2.846233453987069,
         2.81470068753737,
         2.821679893485337,
         2.8217096929654217,
         2.8110900848914033,
         2.8324536374355693,
         2.823942171052706,
         2.850630875481371,
         2.839616710599103,
         2.829365056960268,
         2.8252166375435963,
         2.8197387496236948,
         2.8366118725150455,
         2.829414348046746,
         2.8480082529147355,
         2.835703465970042,
         2.8355365240133383,
         2.830935343692995,
         2.8330282047360393,
         2.819780075053166,
         2.816142321658604,
         2.8467774153416534,
         2.838258022249854,
         2.8292945476646234,
         2.8340219512527223,
         2.8179399471086843,
         2.8289568602308455,
         2.8490018120538614,
         2.8311891297331484,
         2.8181118375674297,
         2.8131708357886662,
         2.8111548253588867,
         2.831805907360174,
         2.8241697807618356,
         2.804868994522982,
         2.830925447313508,
         2.8339022681136847,
         2.820850720007462,
         2.837332623171338,
         2.8331039643363845,
         2.8395328269623943,
         2.8161755115482,
         2.804351695541369,
         2.8278484210973946,
         2.8318816053039186,
         2.836513187005715,
         2.8150402949503475,
         2.820953506869629,
         2.829188162954149,
         2.813033666831843,
         2.820863879627944,
         2.826675687190551,
         2.826215948197496,
         2.827982146473418,
         2.847749257959082,
         2.829311831124679,
         2.819486223845503,
         2.8141000875720903,
         2.825448581127405,
         2.8192697211474234,
         2.820861191193009,
         2.824842046476108,
         2.829667102256507,
         2.833262677319502,
         2.8444041609516892,
         2.8300450453271986,
         2.8383222156525054,
         2.821144268104576
        ]
       ],
       "encoder": "json",
       "name": "ABC_GAN_1 Metrics",
       "version": 1
      }
     },
     "metadata": {
      "scrapbook": {
       "data": true,
       "display": false,
       "name": "ABC_GAN_1 Metrics"
      }
     },
     "output_type": "display_data"
    },
    {
     "name": "stdout",
     "output_type": "stream",
     "text": [
      "MSE\n",
      "0.0783609504363124\n"
     ]
    }
   ],
   "source": [
    "ABC_GAN1_metrics=ABC_train_test2.test_generator(gen,test_data,prior_model,variance,0,\"1\",device)\n",
    "sb.glue(\"ABC_GAN_1 Metrics\",ABC_GAN1_metrics)\n",
    "\n",
    "print(\"MSE\")\n",
    "print(mean(ABC_GAN1_metrics[0]))"
   ]
  },
  {
   "cell_type": "code",
   "execution_count": 14,
   "id": "eb22ce5c",
   "metadata": {
    "execution": {
     "iopub.execute_input": "2022-03-11T10:06:37.888952Z",
     "iopub.status.busy": "2022-03-11T10:06:37.888578Z",
     "iopub.status.idle": "2022-03-11T10:06:38.218549Z",
     "shell.execute_reply": "2022-03-11T10:06:38.218851Z"
    },
    "papermill": {
     "duration": 0.344605,
     "end_time": "2022-03-11T10:06:38.218971",
     "exception": false,
     "start_time": "2022-03-11T10:06:37.874366",
     "status": "completed"
    },
    "tags": []
   },
   "outputs": [
    {
     "data": {
      "image/png": "[encoded data removed]",
      "text/plain": [
       "<Figure size 432x288 with 1 Axes>"
      ]
     },
     "metadata": {
      "needs_background": "light"
     },
     "output_type": "display_data"
    },
    {
     "data": {
      "image/png": "[encoded data removed]",
      "text/plain": [
       "<Figure size 432x288 with 1 Axes>"
      ]
     },
     "metadata": {
      "needs_background": "light"
     },
     "output_type": "display_data"
    },
    {
     "data": {
      "image/png": "[encoded data removed]",
      "text/plain": [
       "<Figure size 432x288 with 1 Axes>"
      ]
     },
     "metadata": {
      "needs_background": "light"
     },
     "output_type": "display_data"
    },
    {
     "data": {
      "image/png": "[encoded data removed]",
      "text/plain": [
       "<Figure size 432x288 with 1 Axes>"
      ]
     },
     "metadata": {
      "needs_background": "light"
     },
     "output_type": "display_data"
    }
   ],
   "source": [
    "sanityChecks.discProbVsError(train_data,disc,device)\n",
    "sanityChecks.discProbVsError(test_data,disc,device)"
   ]
  },
  {
   "cell_type": "markdown",
   "id": "130f3a4d",
   "metadata": {
    "id": "130f3a4d",
    "papermill": {
     "duration": 0.014334,
     "end_time": "2022-03-11T10:06:38.248423",
     "exception": false,
     "start_time": "2022-03-11T10:06:38.234089",
     "status": "completed"
    },
    "tags": []
   },
   "source": [
    "# ABC - GAN Model with skip connection"
   ]
  },
  {
   "cell_type": "code",
   "execution_count": 15,
   "id": "4e43dad1",
   "metadata": {
    "execution": {
     "iopub.execute_input": "2022-03-11T10:06:38.280310Z",
     "iopub.status.busy": "2022-03-11T10:06:38.279939Z",
     "iopub.status.idle": "2022-03-11T10:06:38.282345Z",
     "shell.execute_reply": "2022-03-11T10:06:38.282607Z"
    },
    "id": "4e43dad1",
    "papermill": {
     "duration": 0.019937,
     "end_time": "2022-03-11T10:06:38.282719",
     "exception": false,
     "start_time": "2022-03-11T10:06:38.262782",
     "status": "completed"
    },
    "tags": []
   },
   "outputs": [],
   "source": [
    "#Generator\n",
    "gen3 = network.GeneratorWithSkipConnection(n_features+1).to(device)\n",
    "constraints=network.weightConstraint()\n",
    "#Discriminator \n",
    "disc3 = network.Discriminator(n_features+1).to(device)\n",
    "\n",
    "criterion = torch.nn.BCELoss()\n",
    "gen_opt = torch.optim.Adam(gen3.parameters(), lr=0.001, betas=(0.5, 0.999))\n",
    "disc_opt = torch.optim.Adam(disc3.parameters(), lr=0.001, betas=(0.5, 0.999))\n"
   ]
  },
  {
   "cell_type": "code",
   "execution_count": 16,
   "id": "26acbc37",
   "metadata": {
    "execution": {
     "iopub.execute_input": "2022-03-11T10:06:38.314110Z",
     "iopub.status.busy": "2022-03-11T10:06:38.313735Z",
     "iopub.status.idle": "2022-03-11T10:09:10.009014Z",
     "shell.execute_reply": "2022-03-11T10:09:10.009318Z"
    },
    "id": "26acbc37",
    "papermill": {
     "duration": 151.712051,
     "end_time": "2022-03-11T10:09:10.009442",
     "exception": false,
     "start_time": "2022-03-11T10:06:38.297391",
     "status": "completed"
    },
    "tags": []
   },
   "outputs": [
    {
     "data": {
      "image/png": "[encoded data removed]",
      "text/plain": [
       "<Figure size 432x288 with 1 Axes>"
      ]
     },
     "metadata": {
      "needs_background": "light"
     },
     "output_type": "display_data"
    },
    {
     "data": {
      "image/png": "[encoded data removed]",
      "text/plain": [
       "<Figure size 432x288 with 1 Axes>"
      ]
     },
     "metadata": {
      "needs_background": "light"
     },
     "output_type": "display_data"
    }
   ],
   "source": [
    "ABC_train_test2.training_GAN_skip_connection(disc3,gen3,disc_opt,gen_opt,train_data,batch_size,n_epochs,criterion,prior_model,variance,0,device)"
   ]
  },
  {
   "cell_type": "code",
   "execution_count": 17,
   "id": "c5e0717b",
   "metadata": {
    "execution": {
     "iopub.execute_input": "2022-03-11T10:09:10.042747Z",
     "iopub.status.busy": "2022-03-11T10:09:10.042355Z",
     "iopub.status.idle": "2022-03-11T10:09:10.859995Z",
     "shell.execute_reply": "2022-03-11T10:09:10.860248Z"
    },
    "id": "c5e0717b",
    "papermill": {
     "duration": 0.835569,
     "end_time": "2022-03-11T10:09:10.860372",
     "exception": false,
     "start_time": "2022-03-11T10:09:10.024803",
     "status": "completed"
    },
    "tags": []
   },
   "outputs": [
    {
     "data": {
      "application/scrapbook.scrap.json+json": {
       "data": 0.08042836244608957,
       "encoder": "json",
       "name": "ABC-GAN Model 3 MSE",
       "version": 1
      }
     },
     "metadata": {
      "scrapbook": {
       "data": true,
       "display": false,
       "name": "ABC-GAN Model 3 MSE"
      }
     },
     "output_type": "display_data"
    },
    {
     "data": {
      "application/scrapbook.scrap.json+json": {
       "data": 0.20190454267271266,
       "encoder": "json",
       "name": "ABC-GAN Model 3 MAE",
       "version": 1
      }
     },
     "metadata": {
      "scrapbook": {
       "data": true,
       "display": false,
       "name": "ABC-GAN Model 3 MAE"
      }
     },
     "output_type": "display_data"
    },
    {
     "data": {
      "application/scrapbook.scrap.json+json": {
       "data": 20.59426335261669,
       "encoder": "json",
       "name": "ABC-GAN Model 3 Manhattan Distance",
       "version": 1
      }
     },
     "metadata": {
      "scrapbook": {
       "data": true,
       "display": false,
       "name": "ABC-GAN Model 3 Manhattan Distance"
      }
     },
     "output_type": "display_data"
    },
    {
     "data": {
      "application/scrapbook.scrap.json+json": {
       "data": 2.8641864346107093,
       "encoder": "json",
       "name": "ABC-GAN Model 3 Euclidean distance",
       "version": 1
      }
     },
     "metadata": {
      "scrapbook": {
       "data": true,
       "display": false,
       "name": "ABC-GAN Model 3 Euclidean distance"
      }
     },
     "output_type": "display_data"
    },
    {
     "data": {
      "application/scrapbook.scrap.json+json": {
       "data": [
        [
         0.07963508974248446,
         0.08027305355941894,
         0.08060330176653815,
         0.08029930323153316,
         0.07968825795544698,
         0.08086512911249187,
         0.08228095301280665,
         0.08048524322015549,
         0.08017015178007252,
         0.07994552419423573,
         0.07993485887819653,
         0.08015606561054944,
         0.07986460284713438,
         0.08084655168732975,
         0.08086108411327425,
         0.08099544497745888,
         0.08053166644241476,
         0.08165317678318065,
         0.08034746837849573,
         0.08087065691509694,
         0.08011965037144823,
         0.0803635836895825,
         0.07995139166652437,
         0.08045137157397185,
         0.08084364660030824,
         0.08026902818575621,
         0.08109332031839472,
         0.08084392947257965,
         0.08141784959724806,
         0.08029836989193265,
         0.07972009602276901,
         0.07934013862059636,
         0.08110690490170903,
         0.0797200773532659,
         0.0811436749007374,
         0.07985364681210211,
         0.08051272945894715,
         0.08026242748355734,
         0.08039007807793251,
         0.08094816630562823,
         0.07952783436224505,
         0.080405201082347,
         0.08077372104065919,
         0.08044177914138152,
         0.08005640854371184,
         0.08023711593013945,
         0.07976471694610235,
         0.07922300700783101,
         0.08020414377586757,
         0.08162578423397536,
         0.0796216140796766,
         0.08103930854408209,
         0.07940451417480522,
         0.08037656585241117,
         0.08080610417332205,
         0.08007534043250382,
         0.08035709564094123,
         0.07883928948365056,
         0.08122863399533947,
         0.08014026735129132,
         0.08024517756759192,
         0.07959889137752764,
         0.07990895144656604,
         0.08041162596661988,
         0.07984965148827672,
         0.08084045488309527,
         0.08075542301647394,
         0.07951461728184744,
         0.08014791061452366,
         0.08044997180142735,
         0.08168857301420501,
         0.0815297913804496,
         0.08006426252829407,
         0.08126802216047538,
         0.08030078896637169,
         0.08142757628645941,
         0.08038906697425288,
         0.08018836360270871,
         0.08156312799288006,
         0.08110185776742555,
         0.08063498461139235,
         0.08096144456468804,
         0.08034900217921427,
         0.08169468694563928,
         0.08025726054377834,
         0.08092455561704821,
         0.08115367942062182,
         0.07966542263871246,
         0.08008561118663314,
         0.0801055569803931,
         0.08019765829219938,
         0.0799105539307287,
         0.08067543934356722,
         0.0809470255042319,
         0.08135863353602253,
         0.07911322242616933,
         0.08001228031292335,
         0.08006361375301235,
         0.0797767245659019,
         0.08059867083301678
        ],
        [
         0.20187105626488724,
         0.20187896781363615,
         0.20380961884488807,
         0.20236897229344822,
         0.2009625014639003,
         0.20295135869516753,
         0.2060068375933185,
         0.20187067427197655,
         0.19929944886597714,
         0.2021748952695406,
         0.2013111934157125,
         0.20115503764200007,
         0.20086158591998265,
         0.20321298809722066,
         0.2013126650606008,
         0.2015982374238471,
         0.20165270017733908,
         0.20356286016256347,
         0.19882631249835386,
         0.2022956927243036,
         0.2018743021043894,
         0.20234219475612775,
         0.20081876955159447,
         0.20319518447835364,
         0.20349139763115376,
         0.20073355118488417,
         0.20233859608004637,
         0.20431544295256482,
         0.2027309260595882,
         0.20223737013179297,
         0.20066059528685667,
         0.19869263749113122,
         0.20321108515410885,
         0.20287708375676006,
         0.20285531916819952,
         0.2017015478774613,
         0.20343250707796245,
         0.20235077886130004,
         0.20211650196955921,
         0.20222053985001848,
         0.20028899693131155,
         0.201276926122898,
         0.20343957344234428,
         0.2024670768638744,
         0.20246800270351564,
         0.20175643267073468,
         0.202264849950249,
         0.2013333343407687,
         0.2009526488882508,
         0.20282221334420292,
         0.20003896349967987,
         0.20233040510713324,
         0.2016159359950061,
         0.2011696753119502,
         0.20236203911275985,
         0.19865191367673962,
         0.20017932688671292,
         0.20070964338111819,
         0.20290539921352677,
         0.20109986726139836,
         0.20101268489516394,
         0.20139343194280038,
         0.19973203228494407,
         0.20197871815888027,
         0.20221527075102808,
         0.2015904191671414,
         0.20215211752984746,
         0.20004586144533082,
         0.20186180522318417,
         0.20134537347008055,
         0.20478109342466091,
         0.20394656338783748,
         0.20133755643231174,
         0.20259523313200356,
         0.20133329428476737,
         0.20291723764282377,
         0.20193750462403484,
         0.2019827771548401,
         0.20430669336415389,
         0.2034874145653756,
         0.20236613577706555,
         0.20284674940265568,
         0.20021692347055411,
         0.2038201330065289,
         0.20036663440074406,
         0.2018071425731714,
         0.20364137951686395,
         0.20127829038720652,
         0.20082068766522057,
         0.20185816534520948,
         0.20152613411967954,
         0.20063763792745257,
         0.20253574628127263,
         0.20305511396944376,
         0.2043167463476386,
         0.19904377275402202,
         0.19947672551315204,
         0.20158919676517448,
         0.20093626059208283,
         0.20304844794822308
        ],
        [
         20.5908477390185,
         20.591654716990888,
         20.788581122178584,
         20.641635173931718,
         20.49817514931783,
         20.70103858690709,
         21.012697434518486,
         20.590808775741607,
         20.328543784329668,
         20.62183931749314,
         20.533741728402674,
         20.517813839484006,
         20.48788176383823,
         20.727724785916507,
         20.533891836181283,
         20.563020217232406,
         20.568575418088585,
         20.763411736581475,
         20.280283874832094,
         20.634160657878965,
         20.59117881464772,
         20.63890386512503,
         20.483514494262636,
         20.72590881679207,
         20.756122558377683,
         20.474822220858186,
         20.63853680016473,
         20.840175181161612,
         20.678554458077997,
         20.628211753442883,
         20.46738071925938,
         20.266649024095386,
         20.727530685719103,
         20.693462543189526,
         20.69124255515635,
         20.573557883501053,
         20.75011572195217,
         20.639779443852603,
         20.61588320089504,
         20.626495064701885,
         20.429477686993778,
         20.530246464535594,
         20.750836491119117,
         20.65164184011519,
         20.651736275758594,
         20.579156132414937,
         20.631014694925398,
         20.536000102758408,
         20.49717018660158,
         20.687865761108696,
         20.403974276967347,
         20.63770132092759,
         20.56482547149062,
         20.51930688181892,
         20.640927989501506,
         20.26249519502744,
         20.418291342444718,
         20.472383624874055,
         20.69635071977973,
         20.512186460662633,
         20.503293859306723,
         20.54213005816564,
         20.372667293064296,
         20.60182925220579,
         20.625957616604865,
         20.562222755048424,
         20.61951598804444,
         20.404677867423743,
         20.589904132764786,
         20.537228093948215,
         20.887671529315412,
         20.802549465559423,
         20.536430756095797,
         20.664713779464364,
         20.535996017046273,
         20.697558239568025,
         20.597625471651554,
         20.60224326979369,
         20.839282723143697,
         20.755716285668314,
         20.641345849260688,
         20.69036843907088,
         20.42212619399652,
         20.789653566665947,
         20.437396708875895,
         20.58432854246348,
         20.771420710720122,
         20.530385619495064,
         20.483710141852498,
         20.589532865211368,
         20.555665680207312,
         20.465039068600163,
         20.65864612068981,
         20.711621624883264,
         20.84030812745914,
         20.302464820910245,
         20.34662600234151,
         20.562098070047796,
         20.49549858039245,
         20.710941690718755
        ],
        [
         2.8500489739184154,
         2.861442199846212,
         2.867322231662652,
         2.8619100142416043,
         2.8510002299992174,
         2.8719754820461416,
         2.8970083201996983,
         2.8652215984903964,
         2.8596075747499685,
         2.855598618120559,
         2.855408132925317,
         2.859356342304338,
         2.854153025050988,
         2.8716455686779376,
         2.871903650813163,
         2.8742886750813335,
         2.866047797425281,
         2.885935555740015,
         2.862768201340542,
         2.872073642046786,
         2.858706759688324,
         2.8630552800002684,
         2.8557034072160725,
         2.864618630907983,
         2.871593974299194,
         2.8613704539865394,
         2.8760248038701373,
         2.8715989981547083,
         2.881773873661724,
         2.8618933818325822,
         2.851569707077566,
         2.844766095709949,
         2.8762656866107346,
         2.851569373175606,
         2.8769175935148397,
         2.853957248249247,
         2.865710802717645,
         2.861252803113149,
         2.8635271893154983,
         2.873449662543974,
         2.8481290534224386,
         2.863796520425184,
         2.870351815744411,
         2.864447847739755,
         2.857578287896695,
         2.860801605297757,
         2.8523676355796845,
         2.8426654243506673,
         2.86021374465939,
         2.8854514364073927,
         2.849807824420274,
         2.8750668638305394,
         2.845919964761858,
         2.8632865237251295,
         2.8709271369505087,
         2.8579161506446247,
         2.8629397051590177,
         2.8357728271729306,
         2.878423295404035,
         2.859074547791945,
         2.8609453178791053,
         2.8494011512084105,
         2.854945366823985,
         2.863910935869904,
         2.8538858512218432,
         2.8715372882962384,
         2.87002668065653,
         2.847892372044358,
         2.859210884611594,
         2.864593710065285,
         2.886561007054746,
         2.8837542753857965,
         2.8577184567213747,
         2.8791210916473258,
         2.861936490310348,
         2.881946005951336,
         2.863509181297275,
         2.8599323571504778,
         2.8843437824354026,
         2.876176192843096,
         2.8678857073394712,
         2.873685324735153,
         2.8627955257544775,
         2.8866690264828088,
         2.8611607042362004,
         2.8730305729210253,
         2.8770949412390663,
         2.850591712109728,
         2.8580994281229226,
         2.8584553192240203,
         2.8600981007308715,
         2.8549739930399234,
         2.8686050291115115,
         2.8734294147293147,
         2.880725710767046,
         2.8406951063902075,
         2.856790610443507,
         2.8577068783917046,
         2.85258232233918,
         2.8672398617778234
        ]
       ],
       "encoder": "json",
       "name": "ABC_GAN_3 Metrics",
       "version": 1
      }
     },
     "metadata": {
      "scrapbook": {
       "data": true,
       "display": false,
       "name": "ABC_GAN_3 Metrics"
      }
     },
     "output_type": "display_data"
    },
    {
     "name": "stdout",
     "output_type": "stream",
     "text": [
      "MSE\n",
      "0.08042836244608957\n"
     ]
    }
   ],
   "source": [
    "ABC_GAN3_metrics=ABC_train_test2.test_generator(gen3,test_data,prior_model,variance,0,\"3\",device)\n",
    "sb.glue(\"ABC_GAN_3 Metrics\",ABC_GAN3_metrics)\n",
    "\n",
    "print(\"MSE\")\n",
    "print(mean(ABC_GAN3_metrics[0]))"
   ]
  },
  {
   "cell_type": "code",
   "execution_count": 18,
   "id": "c8e46b48",
   "metadata": {
    "execution": {
     "iopub.execute_input": "2022-03-11T10:09:10.896839Z",
     "iopub.status.busy": "2022-03-11T10:09:10.896463Z",
     "iopub.status.idle": "2022-03-11T10:09:11.219376Z",
     "shell.execute_reply": "2022-03-11T10:09:11.219741Z"
    },
    "id": "c8e46b48",
    "papermill": {
     "duration": 0.342243,
     "end_time": "2022-03-11T10:09:11.219862",
     "exception": false,
     "start_time": "2022-03-11T10:09:10.877619",
     "status": "completed"
    },
    "tags": []
   },
   "outputs": [
    {
     "data": {
      "image/png": "[encoded data removed]",
      "text/plain": [
       "<Figure size 432x288 with 1 Axes>"
      ]
     },
     "metadata": {
      "needs_background": "light"
     },
     "output_type": "display_data"
    },
    {
     "data": {
      "image/png": "[encoded data removed]",
      "text/plain": [
       "<Figure size 432x288 with 1 Axes>"
      ]
     },
     "metadata": {
      "needs_background": "light"
     },
     "output_type": "display_data"
    },
    {
     "data": {
      "image/png": "[encoded data removed]",
      "text/plain": [
       "<Figure size 432x288 with 1 Axes>"
      ]
     },
     "metadata": {
      "needs_background": "light"
     },
     "output_type": "display_data"
    },
    {
     "data": {
      "image/png": "[encoded data removed]",
      "text/plain": [
       "<Figure size 432x288 with 1 Axes>"
      ]
     },
     "metadata": {
      "needs_background": "light"
     },
     "output_type": "display_data"
    }
   ],
   "source": [
    "sanityChecks.discProbVsError(train_data,disc3,device)\n",
    "sanityChecks.discProbVsError(test_data,disc3,device)"
   ]
  },
  {
   "cell_type": "markdown",
   "id": "a5bd74c3",
   "metadata": {
    "id": "a5bd74c3",
    "papermill": {
     "duration": 0.019269,
     "end_time": "2022-03-11T10:09:11.258688",
     "exception": false,
     "start_time": "2022-03-11T10:09:11.239419",
     "status": "completed"
    },
    "tags": []
   },
   "source": [
    "## Skip Connection Model Analysis - ABC-GAN "
   ]
  },
  {
   "cell_type": "markdown",
   "id": "5744a8bf",
   "metadata": {
    "id": "5744a8bf",
    "papermill": {
     "duration": 0.018849,
     "end_time": "2022-03-11T10:09:11.296558",
     "exception": false,
     "start_time": "2022-03-11T10:09:11.277709",
     "status": "completed"
    },
    "tags": []
   },
   "source": [
    "### Weight Analysis \n",
    "\n",
    "Study the weights of the skip connection layer\n",
    "\n",
    "Equation of the skip connection is \n",
    "\n",
    "$output = y_{gan} * w + y_{abc} * (1-w)$"
   ]
  },
  {
   "cell_type": "code",
   "execution_count": 19,
   "id": "52c31dea",
   "metadata": {
    "execution": {
     "iopub.execute_input": "2022-03-11T10:09:11.337256Z",
     "iopub.status.busy": "2022-03-11T10:09:11.336860Z",
     "iopub.status.idle": "2022-03-11T10:09:11.340165Z",
     "shell.execute_reply": "2022-03-11T10:09:11.340411Z"
    },
    "id": "52c31dea",
    "papermill": {
     "duration": 0.025106,
     "end_time": "2022-03-11T10:09:11.340529",
     "exception": false,
     "start_time": "2022-03-11T10:09:11.315423",
     "status": "completed"
    },
    "tags": []
   },
   "outputs": [
    {
     "name": "stdout",
     "output_type": "stream",
     "text": [
      "Weight of the node at skip connection\n",
      "Parameter containing:\n",
      "tensor([[0.2247]], requires_grad=True)\n"
     ]
    },
    {
     "data": {
      "application/scrapbook.scrap.json+json": {
       "data": 0.22465543448925018,
       "encoder": "json",
       "name": "Skip Connection Weight",
       "version": 1
      }
     },
     "metadata": {
      "scrapbook": {
       "data": true,
       "display": false,
       "name": "Skip Connection Weight"
      }
     },
     "output_type": "display_data"
    }
   ],
   "source": [
    "print(\"Weight of the node at skip connection\")\n",
    "for name,param in gen3.named_parameters():\n",
    "    if(name == \"skipNode.weight\"):\n",
    "        print(param)\n",
    "        sb.glue(\"Skip Connection Weight\",param.item())"
   ]
  }
 ],
 "metadata": {
  "colab": {
   "collapsed_sections": [],
   "name": "ABC_GAN_Model-Catboost_Pre-gen.ipynb",
   "provenance": []
  },
  "interpreter": {
   "hash": "31f2aee4e71d21fbe5cf8b01ff0e069b9275f58929596ceb00d14d90e3e16cd6"
  },
  "kernelspec": {
   "display_name": "Python 3 (ipykernel)",
   "language": "python",
   "name": "python3"
  },
  "language_info": {
   "codemirror_mode": {
    "name": "ipython",
    "version": 3
   },
   "file_extension": ".py",
   "mimetype": "text/x-python",
   "name": "python",
   "nbconvert_exporter": "python",
   "pygments_lexer": "ipython3",
   "version": "3.8.11"
  },
  "papermill": {
   "default_parameters": {},
   "duration": 194.611558,
   "end_time": "2022-03-11T10:09:11.667609",
   "environment_variables": {},
   "exception": null,
   "input_path": "ABC_GAN-Catboost.ipynb",
   "output_path": "./ABC_GAN_Catboost/ABC-GAN_output_4_2.ipynb",
   "parameters": {
    "variance": 0.01
   },
   "start_time": "2022-03-11T10:05:57.056051",
   "version": "2.3.3"
  }
 },
 "nbformat": 4,
 "nbformat_minor": 5
}