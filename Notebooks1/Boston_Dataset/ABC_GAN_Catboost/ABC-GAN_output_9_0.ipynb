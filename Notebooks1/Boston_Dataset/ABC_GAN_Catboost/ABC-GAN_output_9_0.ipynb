{
 "cells": [
  {
   "cell_type": "markdown",
   "id": "622780e6",
   "metadata": {
    "id": "622780e6",
    "papermill": {
     "duration": 0.034701,
     "end_time": "2022-03-11T10:47:46.863696",
     "exception": false,
     "start_time": "2022-03-11T10:47:46.828995",
     "status": "completed"
    },
    "tags": []
   },
   "source": [
    "## Import Libraries "
   ]
  },
  {
   "cell_type": "code",
   "execution_count": 1,
   "id": "a62397e3",
   "metadata": {
    "execution": {
     "iopub.execute_input": "2022-03-11T10:47:46.899515Z",
     "iopub.status.busy": "2022-03-11T10:47:46.898947Z",
     "iopub.status.idle": "2022-03-11T10:47:46.901343Z",
     "shell.execute_reply": "2022-03-11T10:47:46.901741Z"
    },
    "id": "a62397e3",
    "papermill": {
     "duration": 0.022139,
     "end_time": "2022-03-11T10:47:46.901958",
     "exception": false,
     "start_time": "2022-03-11T10:47:46.879819",
     "status": "completed"
    },
    "tags": []
   },
   "outputs": [],
   "source": [
    "import warnings\n",
    "import sys\n",
    "sys.path.insert(0, '../../src')\n",
    "warnings.filterwarnings('ignore')"
   ]
  },
  {
   "cell_type": "code",
   "execution_count": 2,
   "id": "d6a4e155",
   "metadata": {
    "execution": {
     "iopub.execute_input": "2022-03-11T10:47:46.922536Z",
     "iopub.status.busy": "2022-03-11T10:47:46.922072Z",
     "iopub.status.idle": "2022-03-11T10:47:48.716279Z",
     "shell.execute_reply": "2022-03-11T10:47:48.716547Z"
    },
    "id": "d6a4e155",
    "papermill": {
     "duration": 1.805,
     "end_time": "2022-03-11T10:47:48.716673",
     "exception": false,
     "start_time": "2022-03-11T10:47:46.911673",
     "status": "completed"
    },
    "tags": []
   },
   "outputs": [],
   "source": [
    "import ABC_train_test2\n",
    "import bostonDataset\n",
    "import network\n",
    "import dataset\n",
    "import sanityChecks\n",
    "import torch \n",
    "import scrapbook as sb\n",
    "from statistics import mean \n",
    "import catboost as ctb \n",
    "from sklearn.model_selection import train_test_split\n",
    "from sklearn.metrics import mean_squared_error,mean_absolute_error\n",
    "import numpy as np"
   ]
  },
  {
   "cell_type": "markdown",
   "id": "2fa5b0f7",
   "metadata": {
    "id": "2fa5b0f7",
    "papermill": {
     "duration": 0.006698,
     "end_time": "2022-03-11T10:47:48.730398",
     "exception": false,
     "start_time": "2022-03-11T10:47:48.723700",
     "status": "completed"
    },
    "tags": []
   },
   "source": [
    "## Parameters "
   ]
  },
  {
   "cell_type": "code",
   "execution_count": 3,
   "id": "783186fb",
   "metadata": {
    "execution": {
     "iopub.execute_input": "2022-03-11T10:47:48.745985Z",
     "iopub.status.busy": "2022-03-11T10:47:48.745612Z",
     "iopub.status.idle": "2022-03-11T10:47:48.746987Z",
     "shell.execute_reply": "2022-03-11T10:47:48.747237Z"
    },
    "id": "783186fb",
    "papermill": {
     "duration": 0.010285,
     "end_time": "2022-03-11T10:47:48.747345",
     "exception": false,
     "start_time": "2022-03-11T10:47:48.737060",
     "status": "completed"
    },
    "tags": [
     "parameters"
    ]
   },
   "outputs": [],
   "source": [
    "variance = 1"
   ]
  },
  {
   "cell_type": "code",
   "execution_count": 4,
   "id": "ecb45711",
   "metadata": {
    "execution": {
     "iopub.execute_input": "2022-03-11T10:47:48.762762Z",
     "iopub.status.busy": "2022-03-11T10:47:48.762392Z",
     "iopub.status.idle": "2022-03-11T10:47:48.763738Z",
     "shell.execute_reply": "2022-03-11T10:47:48.763968Z"
    },
    "papermill": {
     "duration": 0.009873,
     "end_time": "2022-03-11T10:47:48.764071",
     "exception": false,
     "start_time": "2022-03-11T10:47:48.754198",
     "status": "completed"
    },
    "tags": [
     "injected-parameters"
    ]
   },
   "outputs": [],
   "source": [
    "# Parameters\n",
    "variance = 1\n"
   ]
  },
  {
   "cell_type": "markdown",
   "id": "391cdbfd",
   "metadata": {
    "id": "391cdbfd",
    "papermill": {
     "duration": 0.006725,
     "end_time": "2022-03-11T10:47:48.777584",
     "exception": false,
     "start_time": "2022-03-11T10:47:48.770859",
     "status": "completed"
    },
    "tags": []
   },
   "source": [
    "## Dataset \n"
   ]
  },
  {
   "cell_type": "code",
   "execution_count": 5,
   "id": "5b51f161",
   "metadata": {
    "execution": {
     "iopub.execute_input": "2022-03-11T10:47:48.792930Z",
     "iopub.status.busy": "2022-03-11T10:47:48.792560Z",
     "iopub.status.idle": "2022-03-11T10:47:48.793928Z",
     "shell.execute_reply": "2022-03-11T10:47:48.794166Z"
    },
    "id": "5b51f161",
    "papermill": {
     "duration": 0.009952,
     "end_time": "2022-03-11T10:47:48.794271",
     "exception": false,
     "start_time": "2022-03-11T10:47:48.784319",
     "status": "completed"
    },
    "tags": []
   },
   "outputs": [],
   "source": [
    "#Parameters \n",
    "n_features = 13\n",
    "n_samples= 506\n",
    "n_target = 1 "
   ]
  },
  {
   "cell_type": "code",
   "execution_count": 6,
   "id": "5d6eced4",
   "metadata": {
    "execution": {
     "iopub.execute_input": "2022-03-11T10:47:48.809840Z",
     "iopub.status.busy": "2022-03-11T10:47:48.809474Z",
     "iopub.status.idle": "2022-03-11T10:47:48.819863Z",
     "shell.execute_reply": "2022-03-11T10:47:48.820117Z"
    },
    "id": "5d6eced4",
    "papermill": {
     "duration": 0.019129,
     "end_time": "2022-03-11T10:47:48.820231",
     "exception": false,
     "start_time": "2022-03-11T10:47:48.801102",
     "status": "completed"
    },
    "tags": []
   },
   "outputs": [
    {
     "name": "stdout",
     "output_type": "stream",
     "text": [
      "         X1        X2        X3        X4        X5        X6        X7  \\\n",
      "0 -0.419782  0.284830 -1.287909 -0.272599 -0.144217  0.413672 -0.120013   \n",
      "1 -0.417339 -0.487722 -0.593381 -0.272599 -0.740262  0.194274  0.367166   \n",
      "2 -0.417342 -0.487722 -0.593381 -0.272599 -0.740262  1.282714 -0.265812   \n",
      "3 -0.416750 -0.487722 -1.306878 -0.272599 -0.835284  1.016303 -0.809889   \n",
      "4 -0.412482 -0.487722 -1.306878 -0.272599 -0.835284  1.228577 -0.511180   \n",
      "\n",
      "         X8        X9       X10       X11       X12       X13         Y  \n",
      "0  0.140214 -0.982843 -0.666608 -1.459000  0.441052 -1.075562  0.159686  \n",
      "1  0.557160 -0.867883 -0.987329 -0.303094  0.441052 -0.492439 -0.101524  \n",
      "2  0.557160 -0.867883 -0.987329 -0.303094  0.396427 -1.208727  1.324247  \n",
      "3  1.077737 -0.752922 -1.106115  0.113032  0.416163 -1.361517  1.182758  \n",
      "4  1.077737 -0.752922 -1.106115  0.113032  0.441052 -1.026501  1.487503  \n"
     ]
    }
   ],
   "source": [
    "X,Y = bostonDataset.boston_data()"
   ]
  },
  {
   "cell_type": "code",
   "execution_count": 7,
   "id": "fe007438",
   "metadata": {
    "execution": {
     "iopub.execute_input": "2022-03-11T10:47:48.837204Z",
     "iopub.status.busy": "2022-03-11T10:47:48.836792Z",
     "iopub.status.idle": "2022-03-11T10:47:48.838425Z",
     "shell.execute_reply": "2022-03-11T10:47:48.838666Z"
    },
    "id": "fe007438",
    "papermill": {
     "duration": 0.011294,
     "end_time": "2022-03-11T10:47:48.838773",
     "exception": false,
     "start_time": "2022-03-11T10:47:48.827479",
     "status": "completed"
    },
    "tags": []
   },
   "outputs": [],
   "source": [
    "#Train test split for dataset \n",
    "X_train,X_test,Y_train,Y_test = train_test_split(X,Y,test_size = 0.2)\n",
    "train_data = dataset.CustomDataset(X_train,Y_train)\n",
    "test_data = dataset.CustomDataset(X_test,Y_test)\n"
   ]
  },
  {
   "cell_type": "markdown",
   "id": "a9a1af34",
   "metadata": {
    "id": "a9a1af34",
    "papermill": {
     "duration": 0.007011,
     "end_time": "2022-03-11T10:47:48.852827",
     "exception": false,
     "start_time": "2022-03-11T10:47:48.845816",
     "status": "completed"
    },
    "tags": []
   },
   "source": [
    "## Training Parameters "
   ]
  },
  {
   "cell_type": "code",
   "execution_count": 8,
   "id": "952b7fc8",
   "metadata": {
    "execution": {
     "iopub.execute_input": "2022-03-11T10:47:48.868970Z",
     "iopub.status.busy": "2022-03-11T10:47:48.868611Z",
     "iopub.status.idle": "2022-03-11T10:47:48.869927Z",
     "shell.execute_reply": "2022-03-11T10:47:48.870176Z"
    },
    "id": "952b7fc8",
    "papermill": {
     "duration": 0.010478,
     "end_time": "2022-03-11T10:47:48.870281",
     "exception": false,
     "start_time": "2022-03-11T10:47:48.859803",
     "status": "completed"
    },
    "tags": []
   },
   "outputs": [],
   "source": [
    "batch_size = 64\n",
    "n_epochs = 1000\n",
    "#Select the device \n",
    "device = torch.device('cuda' if torch.cuda.is_available() else 'cpu')"
   ]
  },
  {
   "cell_type": "markdown",
   "id": "a95e1600",
   "metadata": {
    "id": "a95e1600",
    "papermill": {
     "duration": 0.006988,
     "end_time": "2022-03-11T10:47:48.884329",
     "exception": false,
     "start_time": "2022-03-11T10:47:48.877341",
     "status": "completed"
    },
    "tags": []
   },
   "source": [
    "# ABC Pre-generator Model \n",
    "\n",
    "1. The catboost model is used as a pre-generator model for the ABC-GAN. \n",
    "2. The model is first trained on the entire dataset \n",
    "3. It generats X,Y pairs and we add some Gaussian noise with mean 0 and variance 1 to it which is then feed as input to the generator.\n"
   ]
  },
  {
   "cell_type": "code",
   "execution_count": 9,
   "id": "ff8ce7bd",
   "metadata": {
    "execution": {
     "iopub.execute_input": "2022-03-11T10:47:48.903242Z",
     "iopub.status.busy": "2022-03-11T10:47:48.902858Z",
     "iopub.status.idle": "2022-03-11T10:47:49.876861Z",
     "shell.execute_reply": "2022-03-11T10:47:49.877225Z"
    },
    "id": "ff8ce7bd",
    "papermill": {
     "duration": 0.985859,
     "end_time": "2022-03-11T10:47:49.877352",
     "exception": false,
     "start_time": "2022-03-11T10:47:48.891493",
     "status": "completed"
    },
    "tags": []
   },
   "outputs": [
    {
     "name": "stdout",
     "output_type": "stream",
     "text": [
      "Learning rate set to 0.033215\n",
      "0:\tlearn: 0.9827946\ttotal: 70.4ms\tremaining: 1m 10s\n",
      "1:\tlearn: 0.9623459\ttotal: 71.7ms\tremaining: 35.8s\n",
      "2:\tlearn: 0.9430877\ttotal: 73ms\tremaining: 24.3s\n",
      "3:\tlearn: 0.9285250\ttotal: 74.2ms\tremaining: 18.5s\n",
      "4:\tlearn: 0.9117015\ttotal: 76.9ms\tremaining: 15.3s\n",
      "5:\tlearn: 0.8963818\ttotal: 78.4ms\tremaining: 13s\n",
      "6:\tlearn: 0.8809509\ttotal: 79.5ms\tremaining: 11.3s\n",
      "7:\tlearn: 0.8656752\ttotal: 80.6ms\tremaining: 9.99s\n",
      "8:\tlearn: 0.8506093\ttotal: 81.4ms\tremaining: 8.97s\n",
      "9:\tlearn: 0.8350652\ttotal: 82.2ms\tremaining: 8.14s\n",
      "10:\tlearn: 0.8212970\ttotal: 83ms\tremaining: 7.46s\n",
      "11:\tlearn: 0.8061724\ttotal: 83.8ms\tremaining: 6.9s\n",
      "12:\tlearn: 0.7915030\ttotal: 84.6ms\tremaining: 6.42s\n",
      "13:\tlearn: 0.7771673\ttotal: 85.4ms\tremaining: 6.01s\n",
      "14:\tlearn: 0.7646800\ttotal: 86.3ms\tremaining: 5.67s\n",
      "15:\tlearn: 0.7506841\ttotal: 87.3ms\tremaining: 5.37s\n",
      "16:\tlearn: 0.7394840\ttotal: 88.4ms\tremaining: 5.11s\n",
      "17:\tlearn: 0.7274196\ttotal: 89.2ms\tremaining: 4.87s\n",
      "18:\tlearn: 0.7146071\ttotal: 90.1ms\tremaining: 4.65s\n",
      "19:\tlearn: 0.7031913\ttotal: 90.8ms\tremaining: 4.45s\n",
      "20:\tlearn: 0.6904972\ttotal: 91.6ms\tremaining: 4.27s\n",
      "21:\tlearn: 0.6804348\ttotal: 92.3ms\tremaining: 4.11s\n",
      "22:\tlearn: 0.6687050\ttotal: 93.1ms\tremaining: 3.95s\n",
      "23:\tlearn: 0.6590125\ttotal: 93.8ms\tremaining: 3.81s\n",
      "24:\tlearn: 0.6498201\ttotal: 94.5ms\tremaining: 3.69s\n",
      "25:\tlearn: 0.6388489\ttotal: 95.2ms\tremaining: 3.57s\n",
      "26:\tlearn: 0.6298450\ttotal: 96ms\tremaining: 3.46s\n",
      "27:\tlearn: 0.6200945\ttotal: 96.7ms\tremaining: 3.36s\n",
      "28:\tlearn: 0.6115297\ttotal: 98.3ms\tremaining: 3.29s\n",
      "29:\tlearn: 0.6018843\ttotal: 99.4ms\tremaining: 3.21s\n",
      "30:\tlearn: 0.5924265\ttotal: 100ms\tremaining: 3.14s\n",
      "31:\tlearn: 0.5847511\ttotal: 101ms\tremaining: 3.07s\n",
      "32:\tlearn: 0.5774462\ttotal: 102ms\tremaining: 2.99s\n",
      "33:\tlearn: 0.5701103\ttotal: 103ms\tremaining: 2.92s\n",
      "34:\tlearn: 0.5624662\ttotal: 104ms\tremaining: 2.86s\n",
      "35:\tlearn: 0.5552393\ttotal: 105ms\tremaining: 2.8s\n",
      "36:\tlearn: 0.5482805\ttotal: 105ms\tremaining: 2.75s\n",
      "37:\tlearn: 0.5412235\ttotal: 106ms\tremaining: 2.69s\n",
      "38:\tlearn: 0.5343090\ttotal: 107ms\tremaining: 2.64s\n",
      "39:\tlearn: 0.5265736\ttotal: 108ms\tremaining: 2.59s\n",
      "40:\tlearn: 0.5202448\ttotal: 109ms\tremaining: 2.55s\n"
     ]
    },
    {
     "name": "stdout",
     "output_type": "stream",
     "text": [
      "41:\tlearn: 0.5129165\ttotal: 110ms\tremaining: 2.51s\n",
      "42:\tlearn: 0.5074483\ttotal: 112ms\tremaining: 2.48s\n",
      "43:\tlearn: 0.5017721\ttotal: 113ms\tremaining: 2.44s\n",
      "44:\tlearn: 0.4958803\ttotal: 113ms\tremaining: 2.4s\n",
      "45:\tlearn: 0.4905584\ttotal: 114ms\tremaining: 2.37s\n",
      "46:\tlearn: 0.4864456\ttotal: 115ms\tremaining: 2.33s\n",
      "47:\tlearn: 0.4804371\ttotal: 116ms\tremaining: 2.3s\n",
      "48:\tlearn: 0.4763119\ttotal: 117ms\tremaining: 2.26s\n",
      "49:\tlearn: 0.4717671\ttotal: 117ms\tremaining: 2.23s\n",
      "50:\tlearn: 0.4662754\ttotal: 118ms\tremaining: 2.2s\n",
      "51:\tlearn: 0.4615900\ttotal: 119ms\tremaining: 2.17s\n",
      "52:\tlearn: 0.4567411\ttotal: 120ms\tremaining: 2.14s\n",
      "53:\tlearn: 0.4527048\ttotal: 121ms\tremaining: 2.11s\n",
      "54:\tlearn: 0.4478988\ttotal: 122ms\tremaining: 2.09s\n",
      "55:\tlearn: 0.4438719\ttotal: 122ms\tremaining: 2.06s\n",
      "56:\tlearn: 0.4401921\ttotal: 123ms\tremaining: 2.04s\n",
      "57:\tlearn: 0.4354274\ttotal: 124ms\tremaining: 2.01s\n",
      "58:\tlearn: 0.4315156\ttotal: 125ms\tremaining: 1.99s\n",
      "59:\tlearn: 0.4272721\ttotal: 126ms\tremaining: 1.97s\n",
      "60:\tlearn: 0.4240073\ttotal: 127ms\tremaining: 1.95s\n",
      "61:\tlearn: 0.4198993\ttotal: 127ms\tremaining: 1.93s\n",
      "62:\tlearn: 0.4150688\ttotal: 128ms\tremaining: 1.91s\n",
      "63:\tlearn: 0.4115143\ttotal: 129ms\tremaining: 1.89s\n",
      "64:\tlearn: 0.4076518\ttotal: 130ms\tremaining: 1.87s\n",
      "65:\tlearn: 0.4040123\ttotal: 131ms\tremaining: 1.85s\n",
      "66:\tlearn: 0.4003315\ttotal: 132ms\tremaining: 1.83s\n",
      "67:\tlearn: 0.3974094\ttotal: 133ms\tremaining: 1.82s\n",
      "68:\tlearn: 0.3945665\ttotal: 133ms\tremaining: 1.8s\n",
      "69:\tlearn: 0.3910748\ttotal: 134ms\tremaining: 1.78s\n",
      "70:\tlearn: 0.3876358\ttotal: 135ms\tremaining: 1.77s\n",
      "71:\tlearn: 0.3834140\ttotal: 136ms\tremaining: 1.75s\n",
      "72:\tlearn: 0.3805088\ttotal: 137ms\tremaining: 1.74s\n",
      "73:\tlearn: 0.3780292\ttotal: 138ms\tremaining: 1.72s\n",
      "74:\tlearn: 0.3755568\ttotal: 138ms\tremaining: 1.71s\n",
      "75:\tlearn: 0.3728020\ttotal: 139ms\tremaining: 1.69s\n",
      "76:\tlearn: 0.3701038\ttotal: 140ms\tremaining: 1.68s\n",
      "77:\tlearn: 0.3667531\ttotal: 141ms\tremaining: 1.66s\n",
      "78:\tlearn: 0.3637807\ttotal: 142ms\tremaining: 1.65s\n",
      "79:\tlearn: 0.3613971\ttotal: 142ms\tremaining: 1.64s\n",
      "80:\tlearn: 0.3594018\ttotal: 143ms\tremaining: 1.63s\n",
      "81:\tlearn: 0.3566540\ttotal: 144ms\tremaining: 1.61s\n",
      "82:\tlearn: 0.3546417\ttotal: 145ms\tremaining: 1.6s\n",
      "83:\tlearn: 0.3526476\ttotal: 146ms\tremaining: 1.59s\n",
      "84:\tlearn: 0.3497879\ttotal: 147ms\tremaining: 1.58s\n",
      "85:\tlearn: 0.3475030\ttotal: 147ms\tremaining: 1.57s\n",
      "86:\tlearn: 0.3443192\ttotal: 148ms\tremaining: 1.55s\n",
      "87:\tlearn: 0.3418589\ttotal: 149ms\tremaining: 1.54s\n",
      "88:\tlearn: 0.3403398\ttotal: 150ms\tremaining: 1.54s\n",
      "89:\tlearn: 0.3381672\ttotal: 151ms\tremaining: 1.53s\n",
      "90:\tlearn: 0.3361618\ttotal: 152ms\tremaining: 1.52s\n",
      "91:\tlearn: 0.3338813\ttotal: 153ms\tremaining: 1.51s\n",
      "92:\tlearn: 0.3321972\ttotal: 154ms\tremaining: 1.5s\n",
      "93:\tlearn: 0.3302712\ttotal: 154ms\tremaining: 1.49s\n",
      "94:\tlearn: 0.3283890\ttotal: 155ms\tremaining: 1.48s\n",
      "95:\tlearn: 0.3264721\ttotal: 156ms\tremaining: 1.47s\n",
      "96:\tlearn: 0.3247794\ttotal: 157ms\tremaining: 1.46s\n",
      "97:\tlearn: 0.3230571\ttotal: 158ms\tremaining: 1.45s\n",
      "98:\tlearn: 0.3216252\ttotal: 158ms\tremaining: 1.44s\n",
      "99:\tlearn: 0.3200668\ttotal: 159ms\tremaining: 1.43s\n",
      "100:\tlearn: 0.3185853\ttotal: 160ms\tremaining: 1.42s\n",
      "101:\tlearn: 0.3168140\ttotal: 161ms\tremaining: 1.41s\n",
      "102:\tlearn: 0.3153452\ttotal: 161ms\tremaining: 1.41s\n",
      "103:\tlearn: 0.3135689\ttotal: 162ms\tremaining: 1.4s\n",
      "104:\tlearn: 0.3116475\ttotal: 163ms\tremaining: 1.39s\n",
      "105:\tlearn: 0.3103924\ttotal: 164ms\tremaining: 1.38s\n",
      "106:\tlearn: 0.3084659\ttotal: 165ms\tremaining: 1.38s\n",
      "107:\tlearn: 0.3069323\ttotal: 166ms\tremaining: 1.37s\n",
      "108:\tlearn: 0.3054852\ttotal: 166ms\tremaining: 1.36s\n",
      "109:\tlearn: 0.3038688\ttotal: 167ms\tremaining: 1.35s\n",
      "110:\tlearn: 0.3025782\ttotal: 168ms\tremaining: 1.34s\n",
      "111:\tlearn: 0.3013129\ttotal: 169ms\tremaining: 1.34s\n",
      "112:\tlearn: 0.3002500\ttotal: 169ms\tremaining: 1.33s\n",
      "113:\tlearn: 0.2989895\ttotal: 170ms\tremaining: 1.32s\n",
      "114:\tlearn: 0.2977563\ttotal: 171ms\tremaining: 1.32s\n",
      "115:\tlearn: 0.2964213\ttotal: 172ms\tremaining: 1.31s\n",
      "116:\tlearn: 0.2951088\ttotal: 173ms\tremaining: 1.3s\n",
      "117:\tlearn: 0.2936807\ttotal: 174ms\tremaining: 1.3s\n",
      "118:\tlearn: 0.2924517\ttotal: 174ms\tremaining: 1.29s\n",
      "119:\tlearn: 0.2916338\ttotal: 175ms\tremaining: 1.28s\n",
      "120:\tlearn: 0.2897571\ttotal: 176ms\tremaining: 1.28s\n",
      "121:\tlearn: 0.2887151\ttotal: 177ms\tremaining: 1.27s\n",
      "122:\tlearn: 0.2871853\ttotal: 178ms\tremaining: 1.27s\n",
      "123:\tlearn: 0.2861549\ttotal: 178ms\tremaining: 1.26s\n",
      "124:\tlearn: 0.2851156\ttotal: 179ms\tremaining: 1.25s\n",
      "125:\tlearn: 0.2841973\ttotal: 180ms\tremaining: 1.25s\n",
      "126:\tlearn: 0.2831554\ttotal: 181ms\tremaining: 1.24s\n",
      "127:\tlearn: 0.2817646\ttotal: 182ms\tremaining: 1.24s\n",
      "128:\tlearn: 0.2806617\ttotal: 183ms\tremaining: 1.23s\n",
      "129:\tlearn: 0.2792533\ttotal: 183ms\tremaining: 1.23s\n",
      "130:\tlearn: 0.2780753\ttotal: 184ms\tremaining: 1.22s\n",
      "131:\tlearn: 0.2769103\ttotal: 185ms\tremaining: 1.22s\n",
      "132:\tlearn: 0.2756971\ttotal: 186ms\tremaining: 1.21s\n",
      "133:\tlearn: 0.2745881\ttotal: 187ms\tremaining: 1.21s\n",
      "134:\tlearn: 0.2730899\ttotal: 188ms\tremaining: 1.2s\n",
      "135:\tlearn: 0.2721567\ttotal: 189ms\tremaining: 1.2s\n",
      "136:\tlearn: 0.2707693\ttotal: 190ms\tremaining: 1.2s\n",
      "137:\tlearn: 0.2699569\ttotal: 191ms\tremaining: 1.19s\n"
     ]
    },
    {
     "name": "stdout",
     "output_type": "stream",
     "text": [
      "138:\tlearn: 0.2691270\ttotal: 191ms\tremaining: 1.19s\n",
      "139:\tlearn: 0.2678892\ttotal: 193ms\tremaining: 1.18s\n",
      "140:\tlearn: 0.2670214\ttotal: 194ms\tremaining: 1.18s\n",
      "141:\tlearn: 0.2663121\ttotal: 195ms\tremaining: 1.18s\n",
      "142:\tlearn: 0.2655406\ttotal: 195ms\tremaining: 1.17s\n",
      "143:\tlearn: 0.2642831\ttotal: 196ms\tremaining: 1.17s\n",
      "144:\tlearn: 0.2629726\ttotal: 197ms\tremaining: 1.16s\n",
      "145:\tlearn: 0.2623469\ttotal: 198ms\tremaining: 1.16s\n",
      "146:\tlearn: 0.2615367\ttotal: 199ms\tremaining: 1.16s\n",
      "147:\tlearn: 0.2607712\ttotal: 200ms\tremaining: 1.15s\n",
      "148:\tlearn: 0.2598835\ttotal: 201ms\tremaining: 1.15s\n",
      "149:\tlearn: 0.2591664\ttotal: 202ms\tremaining: 1.14s\n",
      "150:\tlearn: 0.2583373\ttotal: 203ms\tremaining: 1.14s\n",
      "151:\tlearn: 0.2575928\ttotal: 204ms\tremaining: 1.14s\n",
      "152:\tlearn: 0.2569090\ttotal: 205ms\tremaining: 1.13s\n",
      "153:\tlearn: 0.2561710\ttotal: 206ms\tremaining: 1.13s\n",
      "154:\tlearn: 0.2554887\ttotal: 207ms\tremaining: 1.13s\n",
      "155:\tlearn: 0.2547187\ttotal: 207ms\tremaining: 1.12s\n",
      "156:\tlearn: 0.2541119\ttotal: 208ms\tremaining: 1.12s\n",
      "157:\tlearn: 0.2534970\ttotal: 209ms\tremaining: 1.11s\n",
      "158:\tlearn: 0.2523833\ttotal: 210ms\tremaining: 1.11s\n",
      "159:\tlearn: 0.2513272\ttotal: 211ms\tremaining: 1.1s\n",
      "160:\tlearn: 0.2506337\ttotal: 212ms\tremaining: 1.1s\n",
      "161:\tlearn: 0.2499454\ttotal: 212ms\tremaining: 1.1s\n",
      "162:\tlearn: 0.2493701\ttotal: 213ms\tremaining: 1.09s\n",
      "163:\tlearn: 0.2486986\ttotal: 214ms\tremaining: 1.09s\n",
      "164:\tlearn: 0.2479934\ttotal: 215ms\tremaining: 1.09s\n",
      "165:\tlearn: 0.2472745\ttotal: 216ms\tremaining: 1.08s\n",
      "166:\tlearn: 0.2464789\ttotal: 216ms\tremaining: 1.08s\n",
      "167:\tlearn: 0.2456555\ttotal: 217ms\tremaining: 1.07s\n",
      "168:\tlearn: 0.2449461\ttotal: 218ms\tremaining: 1.07s\n",
      "169:\tlearn: 0.2442480\ttotal: 219ms\tremaining: 1.07s\n",
      "170:\tlearn: 0.2437991\ttotal: 220ms\tremaining: 1.06s\n",
      "171:\tlearn: 0.2432349\ttotal: 220ms\tremaining: 1.06s\n",
      "172:\tlearn: 0.2425840\ttotal: 221ms\tremaining: 1.06s\n",
      "173:\tlearn: 0.2418840\ttotal: 222ms\tremaining: 1.05s\n",
      "174:\tlearn: 0.2410169\ttotal: 223ms\tremaining: 1.05s\n",
      "175:\tlearn: 0.2405165\ttotal: 224ms\tremaining: 1.05s\n",
      "176:\tlearn: 0.2398855\ttotal: 225ms\tremaining: 1.04s\n",
      "177:\tlearn: 0.2392299\ttotal: 226ms\tremaining: 1.04s\n",
      "178:\tlearn: 0.2388133\ttotal: 226ms\tremaining: 1.04s\n",
      "179:\tlearn: 0.2379105\ttotal: 227ms\tremaining: 1.03s\n",
      "180:\tlearn: 0.2371393\ttotal: 228ms\tremaining: 1.03s\n",
      "181:\tlearn: 0.2363508\ttotal: 229ms\tremaining: 1.03s\n",
      "182:\tlearn: 0.2358337\ttotal: 229ms\tremaining: 1.02s\n",
      "183:\tlearn: 0.2351238\ttotal: 230ms\tremaining: 1.02s\n",
      "184:\tlearn: 0.2346479\ttotal: 231ms\tremaining: 1.02s\n",
      "185:\tlearn: 0.2337477\ttotal: 232ms\tremaining: 1.01s\n",
      "186:\tlearn: 0.2330996\ttotal: 233ms\tremaining: 1.01s\n",
      "187:\tlearn: 0.2324588\ttotal: 234ms\tremaining: 1.01s\n",
      "188:\tlearn: 0.2318549\ttotal: 234ms\tremaining: 1.01s\n",
      "189:\tlearn: 0.2310462\ttotal: 235ms\tremaining: 1s\n",
      "190:\tlearn: 0.2302901\ttotal: 236ms\tremaining: 999ms\n",
      "191:\tlearn: 0.2295544\ttotal: 237ms\tremaining: 996ms\n",
      "192:\tlearn: 0.2290253\ttotal: 238ms\tremaining: 993ms\n",
      "193:\tlearn: 0.2283777\ttotal: 239ms\tremaining: 991ms\n",
      "194:\tlearn: 0.2279020\ttotal: 239ms\tremaining: 988ms\n",
      "195:\tlearn: 0.2272376\ttotal: 240ms\tremaining: 985ms\n",
      "196:\tlearn: 0.2268176\ttotal: 241ms\tremaining: 982ms\n",
      "197:\tlearn: 0.2264132\ttotal: 242ms\tremaining: 979ms\n",
      "198:\tlearn: 0.2259490\ttotal: 242ms\tremaining: 976ms\n",
      "199:\tlearn: 0.2251373\ttotal: 243ms\tremaining: 973ms\n",
      "200:\tlearn: 0.2244544\ttotal: 244ms\tremaining: 970ms\n",
      "201:\tlearn: 0.2241843\ttotal: 245ms\tremaining: 967ms\n",
      "202:\tlearn: 0.2237315\ttotal: 246ms\tremaining: 964ms\n",
      "203:\tlearn: 0.2228817\ttotal: 246ms\tremaining: 961ms\n",
      "204:\tlearn: 0.2221873\ttotal: 247ms\tremaining: 958ms\n",
      "205:\tlearn: 0.2213522\ttotal: 248ms\tremaining: 955ms\n",
      "206:\tlearn: 0.2209510\ttotal: 249ms\tremaining: 953ms\n",
      "207:\tlearn: 0.2204440\ttotal: 249ms\tremaining: 950ms\n",
      "208:\tlearn: 0.2200135\ttotal: 250ms\tremaining: 947ms\n",
      "209:\tlearn: 0.2193730\ttotal: 251ms\tremaining: 945ms\n",
      "210:\tlearn: 0.2186123\ttotal: 253ms\tremaining: 945ms\n",
      "211:\tlearn: 0.2180844\ttotal: 254ms\tremaining: 943ms\n",
      "212:\tlearn: 0.2174184\ttotal: 254ms\tremaining: 940ms\n",
      "213:\tlearn: 0.2170560\ttotal: 255ms\tremaining: 937ms\n",
      "214:\tlearn: 0.2164039\ttotal: 256ms\tremaining: 935ms\n",
      "215:\tlearn: 0.2158856\ttotal: 257ms\tremaining: 935ms\n",
      "216:\tlearn: 0.2155526\ttotal: 258ms\tremaining: 932ms\n",
      "217:\tlearn: 0.2151805\ttotal: 259ms\tremaining: 929ms\n",
      "218:\tlearn: 0.2147987\ttotal: 260ms\tremaining: 927ms\n",
      "219:\tlearn: 0.2143223\ttotal: 261ms\tremaining: 927ms\n",
      "220:\tlearn: 0.2140678\ttotal: 262ms\tremaining: 924ms\n",
      "221:\tlearn: 0.2135936\ttotal: 263ms\tremaining: 922ms\n",
      "222:\tlearn: 0.2132825\ttotal: 264ms\tremaining: 920ms\n",
      "223:\tlearn: 0.2127931\ttotal: 265ms\tremaining: 917ms\n",
      "224:\tlearn: 0.2124985\ttotal: 266ms\tremaining: 915ms\n",
      "225:\tlearn: 0.2122651\ttotal: 266ms\tremaining: 912ms\n",
      "226:\tlearn: 0.2114297\ttotal: 267ms\tremaining: 910ms\n",
      "227:\tlearn: 0.2110608\ttotal: 268ms\tremaining: 908ms\n",
      "228:\tlearn: 0.2102905\ttotal: 269ms\tremaining: 905ms\n",
      "229:\tlearn: 0.2097306\ttotal: 270ms\tremaining: 903ms\n",
      "230:\tlearn: 0.2092257\ttotal: 270ms\tremaining: 900ms\n",
      "231:\tlearn: 0.2087363\ttotal: 271ms\tremaining: 898ms\n",
      "232:\tlearn: 0.2079579\ttotal: 272ms\tremaining: 895ms\n",
      "233:\tlearn: 0.2075291\ttotal: 273ms\tremaining: 893ms\n",
      "234:\tlearn: 0.2069810\ttotal: 274ms\tremaining: 891ms\n",
      "235:\tlearn: 0.2067583\ttotal: 274ms\tremaining: 888ms\n",
      "236:\tlearn: 0.2065804\ttotal: 275ms\tremaining: 886ms\n",
      "237:\tlearn: 0.2059859\ttotal: 276ms\tremaining: 884ms\n",
      "238:\tlearn: 0.2055237\ttotal: 277ms\tremaining: 881ms\n",
      "239:\tlearn: 0.2050356\ttotal: 278ms\tremaining: 879ms\n",
      "240:\tlearn: 0.2048144\ttotal: 279ms\tremaining: 877ms\n",
      "241:\tlearn: 0.2042992\ttotal: 279ms\tremaining: 875ms\n",
      "242:\tlearn: 0.2040678\ttotal: 280ms\tremaining: 873ms\n",
      "243:\tlearn: 0.2037308\ttotal: 281ms\tremaining: 871ms\n",
      "244:\tlearn: 0.2032524\ttotal: 282ms\tremaining: 869ms\n",
      "245:\tlearn: 0.2029599\ttotal: 283ms\tremaining: 866ms\n",
      "246:\tlearn: 0.2026428\ttotal: 283ms\tremaining: 864ms\n",
      "247:\tlearn: 0.2023155\ttotal: 284ms\tremaining: 862ms\n",
      "248:\tlearn: 0.2018669\ttotal: 285ms\tremaining: 860ms\n",
      "249:\tlearn: 0.2015686\ttotal: 286ms\tremaining: 857ms\n",
      "250:\tlearn: 0.2010327\ttotal: 287ms\tremaining: 855ms\n",
      "251:\tlearn: 0.2008621\ttotal: 288ms\tremaining: 853ms\n",
      "252:\tlearn: 0.2004145\ttotal: 288ms\tremaining: 851ms\n",
      "253:\tlearn: 0.1999563\ttotal: 289ms\tremaining: 849ms\n",
      "254:\tlearn: 0.1994103\ttotal: 290ms\tremaining: 847ms\n",
      "255:\tlearn: 0.1992251\ttotal: 291ms\tremaining: 845ms\n",
      "256:\tlearn: 0.1985784\ttotal: 292ms\tremaining: 843ms\n",
      "257:\tlearn: 0.1983998\ttotal: 292ms\tremaining: 841ms\n",
      "258:\tlearn: 0.1980057\ttotal: 293ms\tremaining: 839ms\n",
      "259:\tlearn: 0.1974981\ttotal: 294ms\tremaining: 837ms\n",
      "260:\tlearn: 0.1973013\ttotal: 295ms\tremaining: 835ms\n",
      "261:\tlearn: 0.1971262\ttotal: 296ms\tremaining: 833ms\n",
      "262:\tlearn: 0.1963652\ttotal: 297ms\tremaining: 831ms\n",
      "263:\tlearn: 0.1958733\ttotal: 297ms\tremaining: 829ms\n",
      "264:\tlearn: 0.1956560\ttotal: 298ms\tremaining: 827ms\n",
      "265:\tlearn: 0.1950739\ttotal: 299ms\tremaining: 825ms\n"
     ]
    },
    {
     "name": "stdout",
     "output_type": "stream",
     "text": [
      "266:\tlearn: 0.1946032\ttotal: 300ms\tremaining: 824ms\n",
      "267:\tlearn: 0.1944102\ttotal: 301ms\tremaining: 823ms\n",
      "268:\tlearn: 0.1938438\ttotal: 302ms\tremaining: 821ms\n",
      "269:\tlearn: 0.1932909\ttotal: 303ms\tremaining: 819ms\n",
      "270:\tlearn: 0.1931495\ttotal: 304ms\tremaining: 816ms\n",
      "271:\tlearn: 0.1925486\ttotal: 304ms\tremaining: 815ms\n",
      "272:\tlearn: 0.1919367\ttotal: 305ms\tremaining: 813ms\n",
      "273:\tlearn: 0.1915633\ttotal: 306ms\tremaining: 811ms\n",
      "274:\tlearn: 0.1910891\ttotal: 307ms\tremaining: 810ms\n",
      "275:\tlearn: 0.1908161\ttotal: 308ms\tremaining: 808ms\n",
      "276:\tlearn: 0.1905320\ttotal: 309ms\tremaining: 806ms\n",
      "277:\tlearn: 0.1900754\ttotal: 310ms\tremaining: 804ms\n",
      "278:\tlearn: 0.1899636\ttotal: 310ms\tremaining: 802ms\n",
      "279:\tlearn: 0.1897901\ttotal: 312ms\tremaining: 802ms\n",
      "280:\tlearn: 0.1896598\ttotal: 313ms\tremaining: 800ms\n",
      "281:\tlearn: 0.1890257\ttotal: 314ms\tremaining: 798ms\n",
      "282:\tlearn: 0.1884456\ttotal: 315ms\tremaining: 797ms\n",
      "283:\tlearn: 0.1882322\ttotal: 315ms\tremaining: 795ms\n",
      "284:\tlearn: 0.1880432\ttotal: 316ms\tremaining: 793ms\n",
      "285:\tlearn: 0.1876078\ttotal: 317ms\tremaining: 791ms\n",
      "286:\tlearn: 0.1872188\ttotal: 318ms\tremaining: 789ms\n",
      "287:\tlearn: 0.1866792\ttotal: 318ms\tremaining: 787ms\n",
      "288:\tlearn: 0.1860546\ttotal: 319ms\tremaining: 785ms\n",
      "289:\tlearn: 0.1855511\ttotal: 320ms\tremaining: 783ms\n",
      "290:\tlearn: 0.1851071\ttotal: 321ms\tremaining: 782ms\n",
      "291:\tlearn: 0.1847973\ttotal: 322ms\tremaining: 780ms\n",
      "292:\tlearn: 0.1845346\ttotal: 322ms\tremaining: 778ms\n",
      "293:\tlearn: 0.1843870\ttotal: 323ms\tremaining: 776ms\n",
      "294:\tlearn: 0.1838972\ttotal: 324ms\tremaining: 775ms\n",
      "295:\tlearn: 0.1835465\ttotal: 325ms\tremaining: 773ms\n",
      "296:\tlearn: 0.1830286\ttotal: 326ms\tremaining: 771ms\n",
      "297:\tlearn: 0.1824001\ttotal: 326ms\tremaining: 769ms\n",
      "298:\tlearn: 0.1817856\ttotal: 327ms\tremaining: 767ms\n",
      "299:\tlearn: 0.1815986\ttotal: 328ms\tremaining: 765ms\n",
      "300:\tlearn: 0.1814995\ttotal: 330ms\tremaining: 766ms\n",
      "301:\tlearn: 0.1811040\ttotal: 330ms\tremaining: 764ms\n",
      "302:\tlearn: 0.1807747\ttotal: 331ms\tremaining: 762ms\n",
      "303:\tlearn: 0.1803349\ttotal: 332ms\tremaining: 760ms\n",
      "304:\tlearn: 0.1800006\ttotal: 333ms\tremaining: 759ms\n",
      "305:\tlearn: 0.1795578\ttotal: 334ms\tremaining: 757ms\n",
      "306:\tlearn: 0.1793781\ttotal: 335ms\tremaining: 756ms\n",
      "307:\tlearn: 0.1789678\ttotal: 335ms\tremaining: 754ms\n",
      "308:\tlearn: 0.1788213\ttotal: 336ms\tremaining: 752ms\n",
      "309:\tlearn: 0.1780990\ttotal: 337ms\tremaining: 750ms\n",
      "310:\tlearn: 0.1776764\ttotal: 338ms\tremaining: 749ms\n",
      "311:\tlearn: 0.1771872\ttotal: 339ms\tremaining: 747ms\n",
      "312:\tlearn: 0.1768460\ttotal: 340ms\tremaining: 745ms\n",
      "313:\tlearn: 0.1766335\ttotal: 340ms\tremaining: 744ms\n",
      "314:\tlearn: 0.1762951\ttotal: 341ms\tremaining: 742ms\n",
      "315:\tlearn: 0.1758891\ttotal: 342ms\tremaining: 741ms\n",
      "316:\tlearn: 0.1754008\ttotal: 343ms\tremaining: 739ms\n",
      "317:\tlearn: 0.1749914\ttotal: 344ms\tremaining: 737ms\n",
      "318:\tlearn: 0.1748579\ttotal: 344ms\tremaining: 735ms\n",
      "319:\tlearn: 0.1745217\ttotal: 345ms\tremaining: 734ms\n",
      "320:\tlearn: 0.1740943\ttotal: 346ms\tremaining: 732ms\n",
      "321:\tlearn: 0.1736210\ttotal: 347ms\tremaining: 730ms\n",
      "322:\tlearn: 0.1731960\ttotal: 348ms\tremaining: 728ms\n",
      "323:\tlearn: 0.1729341\ttotal: 348ms\tremaining: 727ms\n",
      "324:\tlearn: 0.1725232\ttotal: 349ms\tremaining: 725ms\n",
      "325:\tlearn: 0.1721554\ttotal: 350ms\tremaining: 724ms\n",
      "326:\tlearn: 0.1717113\ttotal: 351ms\tremaining: 722ms\n",
      "327:\tlearn: 0.1715881\ttotal: 352ms\tremaining: 720ms\n",
      "328:\tlearn: 0.1711789\ttotal: 352ms\tremaining: 719ms\n",
      "329:\tlearn: 0.1707333\ttotal: 353ms\tremaining: 718ms\n",
      "330:\tlearn: 0.1703116\ttotal: 354ms\tremaining: 716ms\n",
      "331:\tlearn: 0.1698349\ttotal: 355ms\tremaining: 714ms\n",
      "332:\tlearn: 0.1694979\ttotal: 356ms\tremaining: 713ms\n",
      "333:\tlearn: 0.1692735\ttotal: 357ms\tremaining: 711ms\n",
      "334:\tlearn: 0.1691185\ttotal: 358ms\tremaining: 710ms\n",
      "335:\tlearn: 0.1690100\ttotal: 358ms\tremaining: 708ms\n",
      "336:\tlearn: 0.1686871\ttotal: 359ms\tremaining: 707ms\n",
      "337:\tlearn: 0.1683343\ttotal: 360ms\tremaining: 705ms\n",
      "338:\tlearn: 0.1678997\ttotal: 361ms\tremaining: 703ms\n",
      "339:\tlearn: 0.1674959\ttotal: 362ms\tremaining: 702ms\n",
      "340:\tlearn: 0.1671271\ttotal: 363ms\tremaining: 702ms\n",
      "341:\tlearn: 0.1668100\ttotal: 364ms\tremaining: 700ms\n",
      "342:\tlearn: 0.1665315\ttotal: 365ms\tremaining: 699ms\n",
      "343:\tlearn: 0.1661027\ttotal: 366ms\tremaining: 698ms\n",
      "344:\tlearn: 0.1659421\ttotal: 367ms\tremaining: 696ms\n",
      "345:\tlearn: 0.1655059\ttotal: 367ms\tremaining: 694ms\n",
      "346:\tlearn: 0.1650640\ttotal: 368ms\tremaining: 693ms\n",
      "347:\tlearn: 0.1646856\ttotal: 369ms\tremaining: 691ms\n",
      "348:\tlearn: 0.1645316\ttotal: 370ms\tremaining: 690ms\n",
      "349:\tlearn: 0.1641367\ttotal: 371ms\tremaining: 689ms\n",
      "350:\tlearn: 0.1637779\ttotal: 372ms\tremaining: 687ms\n",
      "351:\tlearn: 0.1634542\ttotal: 373ms\tremaining: 686ms\n",
      "352:\tlearn: 0.1630836\ttotal: 373ms\tremaining: 684ms\n",
      "353:\tlearn: 0.1629440\ttotal: 374ms\tremaining: 683ms\n",
      "354:\tlearn: 0.1624558\ttotal: 375ms\tremaining: 682ms\n",
      "355:\tlearn: 0.1620900\ttotal: 376ms\tremaining: 680ms\n",
      "356:\tlearn: 0.1617340\ttotal: 377ms\tremaining: 679ms\n",
      "357:\tlearn: 0.1613581\ttotal: 377ms\tremaining: 677ms\n",
      "358:\tlearn: 0.1610683\ttotal: 378ms\tremaining: 675ms\n",
      "359:\tlearn: 0.1605997\ttotal: 379ms\tremaining: 674ms\n",
      "360:\tlearn: 0.1600131\ttotal: 380ms\tremaining: 672ms\n",
      "361:\tlearn: 0.1596003\ttotal: 380ms\tremaining: 671ms\n",
      "362:\tlearn: 0.1592451\ttotal: 381ms\tremaining: 669ms\n"
     ]
    },
    {
     "name": "stdout",
     "output_type": "stream",
     "text": [
      "363:\tlearn: 0.1589083\ttotal: 382ms\tremaining: 668ms\n",
      "364:\tlearn: 0.1586144\ttotal: 383ms\tremaining: 667ms\n",
      "365:\tlearn: 0.1584246\ttotal: 384ms\tremaining: 665ms\n",
      "366:\tlearn: 0.1580733\ttotal: 385ms\tremaining: 664ms\n",
      "367:\tlearn: 0.1576619\ttotal: 386ms\tremaining: 662ms\n",
      "368:\tlearn: 0.1572306\ttotal: 386ms\tremaining: 661ms\n",
      "369:\tlearn: 0.1569176\ttotal: 387ms\tremaining: 659ms\n",
      "370:\tlearn: 0.1565968\ttotal: 388ms\tremaining: 658ms\n",
      "371:\tlearn: 0.1562216\ttotal: 389ms\tremaining: 656ms\n",
      "372:\tlearn: 0.1559310\ttotal: 390ms\tremaining: 655ms\n",
      "373:\tlearn: 0.1556369\ttotal: 390ms\tremaining: 654ms\n",
      "374:\tlearn: 0.1552678\ttotal: 391ms\tremaining: 652ms\n",
      "375:\tlearn: 0.1550487\ttotal: 392ms\tremaining: 651ms\n",
      "376:\tlearn: 0.1548224\ttotal: 393ms\tremaining: 649ms\n",
      "377:\tlearn: 0.1545654\ttotal: 394ms\tremaining: 648ms\n",
      "378:\tlearn: 0.1542716\ttotal: 395ms\tremaining: 647ms\n",
      "379:\tlearn: 0.1539747\ttotal: 395ms\tremaining: 645ms\n",
      "380:\tlearn: 0.1536416\ttotal: 396ms\tremaining: 644ms\n",
      "381:\tlearn: 0.1532489\ttotal: 397ms\tremaining: 642ms\n",
      "382:\tlearn: 0.1529805\ttotal: 398ms\tremaining: 641ms\n",
      "383:\tlearn: 0.1524345\ttotal: 399ms\tremaining: 639ms\n",
      "384:\tlearn: 0.1521007\ttotal: 399ms\tremaining: 638ms\n",
      "385:\tlearn: 0.1517412\ttotal: 400ms\tremaining: 637ms\n",
      "386:\tlearn: 0.1515863\ttotal: 401ms\tremaining: 635ms\n",
      "387:\tlearn: 0.1511932\ttotal: 402ms\tremaining: 634ms\n",
      "388:\tlearn: 0.1508879\ttotal: 403ms\tremaining: 632ms\n",
      "389:\tlearn: 0.1508517\ttotal: 403ms\tremaining: 631ms\n",
      "390:\tlearn: 0.1507202\ttotal: 404ms\tremaining: 630ms\n",
      "391:\tlearn: 0.1504108\ttotal: 405ms\tremaining: 628ms\n",
      "392:\tlearn: 0.1500517\ttotal: 406ms\tremaining: 627ms\n",
      "393:\tlearn: 0.1494798\ttotal: 407ms\tremaining: 626ms\n",
      "394:\tlearn: 0.1491425\ttotal: 408ms\tremaining: 625ms\n",
      "395:\tlearn: 0.1487581\ttotal: 409ms\tremaining: 624ms\n",
      "396:\tlearn: 0.1483172\ttotal: 410ms\tremaining: 622ms\n",
      "397:\tlearn: 0.1478188\ttotal: 411ms\tremaining: 621ms\n",
      "398:\tlearn: 0.1475284\ttotal: 411ms\tremaining: 620ms\n",
      "399:\tlearn: 0.1471352\ttotal: 412ms\tremaining: 618ms\n",
      "400:\tlearn: 0.1469498\ttotal: 413ms\tremaining: 617ms\n",
      "401:\tlearn: 0.1465914\ttotal: 414ms\tremaining: 616ms\n",
      "402:\tlearn: 0.1465110\ttotal: 415ms\tremaining: 614ms\n",
      "403:\tlearn: 0.1462957\ttotal: 415ms\tremaining: 613ms\n",
      "404:\tlearn: 0.1460751\ttotal: 416ms\tremaining: 611ms\n",
      "405:\tlearn: 0.1457809\ttotal: 417ms\tremaining: 610ms\n",
      "406:\tlearn: 0.1455155\ttotal: 418ms\tremaining: 609ms\n",
      "407:\tlearn: 0.1452609\ttotal: 419ms\tremaining: 607ms\n",
      "408:\tlearn: 0.1448115\ttotal: 419ms\tremaining: 606ms\n",
      "409:\tlearn: 0.1445660\ttotal: 420ms\tremaining: 605ms\n",
      "410:\tlearn: 0.1443221\ttotal: 421ms\tremaining: 603ms\n",
      "411:\tlearn: 0.1442994\ttotal: 422ms\tremaining: 602ms\n",
      "412:\tlearn: 0.1442207\ttotal: 423ms\tremaining: 601ms\n",
      "413:\tlearn: 0.1440261\ttotal: 424ms\tremaining: 600ms\n",
      "414:\tlearn: 0.1438301\ttotal: 424ms\tremaining: 598ms\n",
      "415:\tlearn: 0.1436230\ttotal: 425ms\tremaining: 597ms\n",
      "416:\tlearn: 0.1434857\ttotal: 426ms\tremaining: 596ms\n",
      "417:\tlearn: 0.1432148\ttotal: 427ms\tremaining: 594ms\n",
      "418:\tlearn: 0.1429240\ttotal: 428ms\tremaining: 593ms\n",
      "419:\tlearn: 0.1426476\ttotal: 428ms\tremaining: 592ms\n",
      "420:\tlearn: 0.1424263\ttotal: 429ms\tremaining: 590ms\n",
      "421:\tlearn: 0.1420074\ttotal: 430ms\tremaining: 589ms\n",
      "422:\tlearn: 0.1419258\ttotal: 431ms\tremaining: 588ms\n",
      "423:\tlearn: 0.1416788\ttotal: 432ms\tremaining: 587ms\n",
      "424:\tlearn: 0.1413398\ttotal: 433ms\tremaining: 585ms\n",
      "425:\tlearn: 0.1409542\ttotal: 433ms\tremaining: 584ms\n",
      "426:\tlearn: 0.1407536\ttotal: 434ms\tremaining: 583ms\n",
      "427:\tlearn: 0.1404562\ttotal: 435ms\tremaining: 581ms\n",
      "428:\tlearn: 0.1402169\ttotal: 436ms\tremaining: 580ms\n",
      "429:\tlearn: 0.1399130\ttotal: 437ms\tremaining: 579ms\n",
      "430:\tlearn: 0.1396110\ttotal: 437ms\tremaining: 577ms\n",
      "431:\tlearn: 0.1393756\ttotal: 438ms\tremaining: 576ms\n",
      "432:\tlearn: 0.1391179\ttotal: 439ms\tremaining: 575ms\n",
      "433:\tlearn: 0.1388239\ttotal: 440ms\tremaining: 573ms\n",
      "434:\tlearn: 0.1385205\ttotal: 441ms\tremaining: 572ms\n",
      "435:\tlearn: 0.1381977\ttotal: 441ms\tremaining: 571ms\n",
      "436:\tlearn: 0.1380654\ttotal: 442ms\tremaining: 570ms\n",
      "437:\tlearn: 0.1377508\ttotal: 443ms\tremaining: 568ms\n",
      "438:\tlearn: 0.1373711\ttotal: 444ms\tremaining: 567ms\n",
      "439:\tlearn: 0.1370454\ttotal: 445ms\tremaining: 566ms\n",
      "440:\tlearn: 0.1367651\ttotal: 445ms\tremaining: 565ms\n",
      "441:\tlearn: 0.1365618\ttotal: 446ms\tremaining: 563ms\n",
      "442:\tlearn: 0.1364575\ttotal: 447ms\tremaining: 562ms\n",
      "443:\tlearn: 0.1363499\ttotal: 448ms\tremaining: 561ms\n",
      "444:\tlearn: 0.1361362\ttotal: 449ms\tremaining: 560ms\n",
      "445:\tlearn: 0.1358179\ttotal: 450ms\tremaining: 559ms\n",
      "446:\tlearn: 0.1356030\ttotal: 451ms\tremaining: 557ms\n",
      "447:\tlearn: 0.1352248\ttotal: 451ms\tremaining: 556ms\n",
      "448:\tlearn: 0.1350019\ttotal: 452ms\tremaining: 555ms\n",
      "449:\tlearn: 0.1347963\ttotal: 453ms\tremaining: 554ms\n",
      "450:\tlearn: 0.1347797\ttotal: 454ms\tremaining: 552ms\n",
      "451:\tlearn: 0.1345032\ttotal: 455ms\tremaining: 551ms\n",
      "452:\tlearn: 0.1344072\ttotal: 456ms\tremaining: 550ms\n",
      "453:\tlearn: 0.1340657\ttotal: 457ms\tremaining: 549ms\n",
      "454:\tlearn: 0.1336542\ttotal: 458ms\tremaining: 548ms\n",
      "455:\tlearn: 0.1332959\ttotal: 458ms\tremaining: 547ms\n",
      "456:\tlearn: 0.1329799\ttotal: 459ms\tremaining: 546ms\n",
      "457:\tlearn: 0.1326621\ttotal: 460ms\tremaining: 545ms\n",
      "458:\tlearn: 0.1322876\ttotal: 461ms\tremaining: 543ms\n",
      "459:\tlearn: 0.1320124\ttotal: 462ms\tremaining: 543ms\n",
      "460:\tlearn: 0.1319117\ttotal: 463ms\tremaining: 541ms\n",
      "461:\tlearn: 0.1315938\ttotal: 464ms\tremaining: 540ms\n",
      "462:\tlearn: 0.1312785\ttotal: 465ms\tremaining: 539ms\n",
      "463:\tlearn: 0.1310925\ttotal: 466ms\tremaining: 538ms\n",
      "464:\tlearn: 0.1308725\ttotal: 466ms\tremaining: 537ms\n",
      "465:\tlearn: 0.1306441\ttotal: 467ms\tremaining: 535ms\n",
      "466:\tlearn: 0.1305757\ttotal: 469ms\tremaining: 535ms\n",
      "467:\tlearn: 0.1303407\ttotal: 470ms\tremaining: 534ms\n",
      "468:\tlearn: 0.1299753\ttotal: 470ms\tremaining: 533ms\n",
      "469:\tlearn: 0.1297569\ttotal: 471ms\tremaining: 531ms\n",
      "470:\tlearn: 0.1294110\ttotal: 472ms\tremaining: 530ms\n",
      "471:\tlearn: 0.1292439\ttotal: 473ms\tremaining: 529ms\n",
      "472:\tlearn: 0.1291784\ttotal: 474ms\tremaining: 528ms\n",
      "473:\tlearn: 0.1289269\ttotal: 474ms\tremaining: 527ms\n",
      "474:\tlearn: 0.1285847\ttotal: 475ms\tremaining: 525ms\n",
      "475:\tlearn: 0.1283764\ttotal: 476ms\tremaining: 524ms\n",
      "476:\tlearn: 0.1280818\ttotal: 477ms\tremaining: 523ms\n",
      "477:\tlearn: 0.1278754\ttotal: 478ms\tremaining: 522ms\n",
      "478:\tlearn: 0.1277092\ttotal: 479ms\tremaining: 521ms\n",
      "479:\tlearn: 0.1274528\ttotal: 479ms\tremaining: 519ms\n",
      "480:\tlearn: 0.1272870\ttotal: 480ms\tremaining: 518ms\n",
      "481:\tlearn: 0.1269680\ttotal: 481ms\tremaining: 517ms\n",
      "482:\tlearn: 0.1267649\ttotal: 482ms\tremaining: 516ms\n",
      "483:\tlearn: 0.1265391\ttotal: 483ms\tremaining: 514ms\n",
      "484:\tlearn: 0.1263879\ttotal: 483ms\tremaining: 513ms\n",
      "485:\tlearn: 0.1260864\ttotal: 484ms\tremaining: 512ms\n",
      "486:\tlearn: 0.1258405\ttotal: 485ms\tremaining: 511ms\n",
      "487:\tlearn: 0.1256644\ttotal: 486ms\tremaining: 510ms\n",
      "488:\tlearn: 0.1254325\ttotal: 487ms\tremaining: 509ms\n",
      "489:\tlearn: 0.1250830\ttotal: 488ms\tremaining: 508ms\n",
      "490:\tlearn: 0.1248655\ttotal: 489ms\tremaining: 507ms\n",
      "491:\tlearn: 0.1246649\ttotal: 490ms\tremaining: 506ms\n"
     ]
    },
    {
     "name": "stdout",
     "output_type": "stream",
     "text": [
      "492:\tlearn: 0.1244430\ttotal: 491ms\tremaining: 505ms\n",
      "493:\tlearn: 0.1241895\ttotal: 492ms\tremaining: 504ms\n",
      "494:\tlearn: 0.1239492\ttotal: 493ms\tremaining: 503ms\n",
      "495:\tlearn: 0.1238263\ttotal: 493ms\tremaining: 501ms\n",
      "496:\tlearn: 0.1235543\ttotal: 494ms\tremaining: 500ms\n",
      "497:\tlearn: 0.1233334\ttotal: 495ms\tremaining: 499ms\n",
      "498:\tlearn: 0.1231003\ttotal: 496ms\tremaining: 498ms\n",
      "499:\tlearn: 0.1228593\ttotal: 497ms\tremaining: 497ms\n",
      "500:\tlearn: 0.1227074\ttotal: 497ms\tremaining: 495ms\n",
      "501:\tlearn: 0.1223662\ttotal: 498ms\tremaining: 494ms\n",
      "502:\tlearn: 0.1222334\ttotal: 499ms\tremaining: 493ms\n",
      "503:\tlearn: 0.1219869\ttotal: 500ms\tremaining: 492ms\n",
      "504:\tlearn: 0.1217873\ttotal: 501ms\tremaining: 491ms\n",
      "505:\tlearn: 0.1215769\ttotal: 502ms\tremaining: 490ms\n",
      "506:\tlearn: 0.1213659\ttotal: 502ms\tremaining: 489ms\n",
      "507:\tlearn: 0.1212253\ttotal: 503ms\tremaining: 487ms\n",
      "508:\tlearn: 0.1210851\ttotal: 504ms\tremaining: 486ms\n",
      "509:\tlearn: 0.1208769\ttotal: 505ms\tremaining: 485ms\n",
      "510:\tlearn: 0.1206920\ttotal: 506ms\tremaining: 484ms\n",
      "511:\tlearn: 0.1205339\ttotal: 506ms\tremaining: 483ms\n",
      "512:\tlearn: 0.1203331\ttotal: 507ms\tremaining: 482ms\n",
      "513:\tlearn: 0.1202229\ttotal: 508ms\tremaining: 480ms\n",
      "514:\tlearn: 0.1199840\ttotal: 509ms\tremaining: 479ms\n",
      "515:\tlearn: 0.1199119\ttotal: 510ms\tremaining: 478ms\n",
      "516:\tlearn: 0.1197547\ttotal: 510ms\tremaining: 477ms\n",
      "517:\tlearn: 0.1195077\ttotal: 511ms\tremaining: 476ms\n",
      "518:\tlearn: 0.1193949\ttotal: 512ms\tremaining: 474ms\n",
      "519:\tlearn: 0.1192562\ttotal: 513ms\tremaining: 473ms\n",
      "520:\tlearn: 0.1189395\ttotal: 513ms\tremaining: 472ms\n",
      "521:\tlearn: 0.1188034\ttotal: 514ms\tremaining: 471ms\n",
      "522:\tlearn: 0.1186611\ttotal: 515ms\tremaining: 470ms\n",
      "523:\tlearn: 0.1185630\ttotal: 516ms\tremaining: 469ms\n",
      "524:\tlearn: 0.1183916\ttotal: 517ms\tremaining: 467ms\n",
      "525:\tlearn: 0.1182503\ttotal: 517ms\tremaining: 466ms\n",
      "526:\tlearn: 0.1180704\ttotal: 518ms\tremaining: 465ms\n",
      "527:\tlearn: 0.1179167\ttotal: 519ms\tremaining: 464ms\n",
      "528:\tlearn: 0.1177802\ttotal: 520ms\tremaining: 463ms\n",
      "529:\tlearn: 0.1176512\ttotal: 521ms\tremaining: 462ms\n",
      "530:\tlearn: 0.1174072\ttotal: 521ms\tremaining: 461ms\n",
      "531:\tlearn: 0.1172802\ttotal: 522ms\tremaining: 460ms\n",
      "532:\tlearn: 0.1171748\ttotal: 523ms\tremaining: 458ms\n",
      "533:\tlearn: 0.1168884\ttotal: 524ms\tremaining: 457ms\n",
      "534:\tlearn: 0.1165710\ttotal: 525ms\tremaining: 456ms\n",
      "535:\tlearn: 0.1163800\ttotal: 527ms\tremaining: 456ms\n",
      "536:\tlearn: 0.1161128\ttotal: 527ms\tremaining: 455ms\n",
      "537:\tlearn: 0.1159338\ttotal: 528ms\tremaining: 454ms\n",
      "538:\tlearn: 0.1156759\ttotal: 529ms\tremaining: 452ms\n",
      "539:\tlearn: 0.1156184\ttotal: 530ms\tremaining: 451ms\n",
      "540:\tlearn: 0.1153685\ttotal: 531ms\tremaining: 450ms\n",
      "541:\tlearn: 0.1151322\ttotal: 531ms\tremaining: 449ms\n",
      "542:\tlearn: 0.1150449\ttotal: 532ms\tremaining: 448ms\n",
      "543:\tlearn: 0.1148547\ttotal: 533ms\tremaining: 447ms\n",
      "544:\tlearn: 0.1147387\ttotal: 534ms\tremaining: 446ms\n",
      "545:\tlearn: 0.1144694\ttotal: 535ms\tremaining: 445ms\n",
      "546:\tlearn: 0.1144513\ttotal: 536ms\tremaining: 444ms\n",
      "547:\tlearn: 0.1142966\ttotal: 536ms\tremaining: 442ms\n",
      "548:\tlearn: 0.1141819\ttotal: 537ms\tremaining: 441ms\n",
      "549:\tlearn: 0.1139271\ttotal: 538ms\tremaining: 440ms\n",
      "550:\tlearn: 0.1137979\ttotal: 539ms\tremaining: 439ms\n",
      "551:\tlearn: 0.1134913\ttotal: 540ms\tremaining: 438ms\n",
      "552:\tlearn: 0.1132695\ttotal: 540ms\tremaining: 437ms\n",
      "553:\tlearn: 0.1130599\ttotal: 541ms\tremaining: 436ms\n",
      "554:\tlearn: 0.1129391\ttotal: 542ms\tremaining: 435ms\n",
      "555:\tlearn: 0.1127325\ttotal: 543ms\tremaining: 433ms\n",
      "556:\tlearn: 0.1124146\ttotal: 544ms\tremaining: 432ms\n",
      "557:\tlearn: 0.1123096\ttotal: 544ms\tremaining: 431ms\n",
      "558:\tlearn: 0.1121027\ttotal: 545ms\tremaining: 430ms\n",
      "559:\tlearn: 0.1119362\ttotal: 546ms\tremaining: 429ms\n",
      "560:\tlearn: 0.1117088\ttotal: 547ms\tremaining: 428ms\n",
      "561:\tlearn: 0.1114989\ttotal: 547ms\tremaining: 427ms\n",
      "562:\tlearn: 0.1112627\ttotal: 548ms\tremaining: 425ms\n",
      "563:\tlearn: 0.1111560\ttotal: 549ms\tremaining: 424ms\n",
      "564:\tlearn: 0.1110501\ttotal: 550ms\tremaining: 423ms\n",
      "565:\tlearn: 0.1108940\ttotal: 551ms\tremaining: 422ms\n",
      "566:\tlearn: 0.1106449\ttotal: 551ms\tremaining: 421ms\n",
      "567:\tlearn: 0.1104134\ttotal: 552ms\tremaining: 420ms\n",
      "568:\tlearn: 0.1102023\ttotal: 553ms\tremaining: 419ms\n",
      "569:\tlearn: 0.1100707\ttotal: 554ms\tremaining: 418ms\n",
      "570:\tlearn: 0.1099227\ttotal: 555ms\tremaining: 417ms\n",
      "571:\tlearn: 0.1096137\ttotal: 555ms\tremaining: 416ms\n",
      "572:\tlearn: 0.1093717\ttotal: 556ms\tremaining: 414ms\n",
      "573:\tlearn: 0.1091615\ttotal: 557ms\tremaining: 413ms\n",
      "574:\tlearn: 0.1089508\ttotal: 558ms\tremaining: 412ms\n",
      "575:\tlearn: 0.1086924\ttotal: 559ms\tremaining: 411ms\n",
      "576:\tlearn: 0.1085099\ttotal: 559ms\tremaining: 410ms\n",
      "577:\tlearn: 0.1084114\ttotal: 560ms\tremaining: 409ms\n",
      "578:\tlearn: 0.1081897\ttotal: 562ms\tremaining: 408ms\n",
      "579:\tlearn: 0.1079766\ttotal: 563ms\tremaining: 407ms\n",
      "580:\tlearn: 0.1077708\ttotal: 563ms\tremaining: 406ms\n",
      "581:\tlearn: 0.1075752\ttotal: 564ms\tremaining: 405ms\n",
      "582:\tlearn: 0.1073626\ttotal: 565ms\tremaining: 404ms\n",
      "583:\tlearn: 0.1072226\ttotal: 566ms\tremaining: 403ms\n",
      "584:\tlearn: 0.1071451\ttotal: 567ms\tremaining: 402ms\n",
      "585:\tlearn: 0.1070277\ttotal: 567ms\tremaining: 401ms\n",
      "586:\tlearn: 0.1068549\ttotal: 568ms\tremaining: 400ms\n",
      "587:\tlearn: 0.1067643\ttotal: 569ms\tremaining: 399ms\n",
      "588:\tlearn: 0.1067012\ttotal: 570ms\tremaining: 398ms\n",
      "589:\tlearn: 0.1065719\ttotal: 571ms\tremaining: 397ms\n",
      "590:\tlearn: 0.1065127\ttotal: 572ms\tremaining: 396ms\n",
      "591:\tlearn: 0.1064031\ttotal: 572ms\tremaining: 394ms\n"
     ]
    },
    {
     "name": "stdout",
     "output_type": "stream",
     "text": [
      "592:\tlearn: 0.1062331\ttotal: 573ms\tremaining: 393ms\n",
      "593:\tlearn: 0.1060884\ttotal: 574ms\tremaining: 392ms\n",
      "594:\tlearn: 0.1060675\ttotal: 575ms\tremaining: 391ms\n",
      "595:\tlearn: 0.1059545\ttotal: 576ms\tremaining: 390ms\n",
      "596:\tlearn: 0.1058461\ttotal: 577ms\tremaining: 389ms\n",
      "597:\tlearn: 0.1056703\ttotal: 578ms\tremaining: 388ms\n",
      "598:\tlearn: 0.1055354\ttotal: 578ms\tremaining: 387ms\n",
      "599:\tlearn: 0.1053538\ttotal: 579ms\tremaining: 386ms\n",
      "600:\tlearn: 0.1051671\ttotal: 580ms\tremaining: 385ms\n",
      "601:\tlearn: 0.1049473\ttotal: 581ms\tremaining: 384ms\n",
      "602:\tlearn: 0.1047539\ttotal: 581ms\tremaining: 383ms\n",
      "603:\tlearn: 0.1047250\ttotal: 582ms\tremaining: 382ms\n",
      "604:\tlearn: 0.1045747\ttotal: 583ms\tremaining: 381ms\n",
      "605:\tlearn: 0.1043829\ttotal: 584ms\tremaining: 380ms\n",
      "606:\tlearn: 0.1042051\ttotal: 585ms\tremaining: 379ms\n",
      "607:\tlearn: 0.1040519\ttotal: 585ms\tremaining: 377ms\n",
      "608:\tlearn: 0.1038673\ttotal: 586ms\tremaining: 376ms\n",
      "609:\tlearn: 0.1036393\ttotal: 587ms\tremaining: 375ms\n",
      "610:\tlearn: 0.1034461\ttotal: 588ms\tremaining: 374ms\n",
      "611:\tlearn: 0.1034032\ttotal: 589ms\tremaining: 373ms\n",
      "612:\tlearn: 0.1032461\ttotal: 589ms\tremaining: 372ms\n",
      "613:\tlearn: 0.1031253\ttotal: 590ms\tremaining: 371ms\n",
      "614:\tlearn: 0.1028766\ttotal: 591ms\tremaining: 370ms\n",
      "615:\tlearn: 0.1027037\ttotal: 592ms\tremaining: 369ms\n",
      "616:\tlearn: 0.1024433\ttotal: 593ms\tremaining: 368ms\n",
      "617:\tlearn: 0.1023292\ttotal: 593ms\tremaining: 367ms\n",
      "618:\tlearn: 0.1021410\ttotal: 594ms\tremaining: 366ms\n",
      "619:\tlearn: 0.1020237\ttotal: 595ms\tremaining: 365ms\n",
      "620:\tlearn: 0.1018741\ttotal: 596ms\tremaining: 364ms\n",
      "621:\tlearn: 0.1017107\ttotal: 596ms\tremaining: 362ms\n",
      "622:\tlearn: 0.1016101\ttotal: 597ms\tremaining: 361ms\n",
      "623:\tlearn: 0.1014744\ttotal: 598ms\tremaining: 360ms\n",
      "624:\tlearn: 0.1013158\ttotal: 599ms\tremaining: 359ms\n",
      "625:\tlearn: 0.1012897\ttotal: 600ms\tremaining: 358ms\n",
      "626:\tlearn: 0.1011433\ttotal: 601ms\tremaining: 357ms\n",
      "627:\tlearn: 0.1010765\ttotal: 601ms\tremaining: 356ms\n",
      "628:\tlearn: 0.1009243\ttotal: 602ms\tremaining: 355ms\n",
      "629:\tlearn: 0.1007021\ttotal: 603ms\tremaining: 354ms\n",
      "630:\tlearn: 0.1005308\ttotal: 604ms\tremaining: 353ms\n",
      "631:\tlearn: 0.1004168\ttotal: 604ms\tremaining: 352ms\n",
      "632:\tlearn: 0.1002642\ttotal: 605ms\tremaining: 351ms\n",
      "633:\tlearn: 0.1002322\ttotal: 606ms\tremaining: 350ms\n",
      "634:\tlearn: 0.1000887\ttotal: 607ms\tremaining: 349ms\n",
      "635:\tlearn: 0.0998666\ttotal: 608ms\tremaining: 348ms\n",
      "636:\tlearn: 0.0996725\ttotal: 608ms\tremaining: 347ms\n",
      "637:\tlearn: 0.0996483\ttotal: 609ms\tremaining: 346ms\n",
      "638:\tlearn: 0.0994888\ttotal: 610ms\tremaining: 345ms\n",
      "639:\tlearn: 0.0992699\ttotal: 611ms\tremaining: 344ms\n",
      "640:\tlearn: 0.0990642\ttotal: 612ms\tremaining: 343ms\n",
      "641:\tlearn: 0.0989857\ttotal: 612ms\tremaining: 342ms\n",
      "642:\tlearn: 0.0988642\ttotal: 613ms\tremaining: 341ms\n",
      "643:\tlearn: 0.0986486\ttotal: 614ms\tremaining: 340ms\n",
      "644:\tlearn: 0.0984358\ttotal: 615ms\tremaining: 339ms\n",
      "645:\tlearn: 0.0983472\ttotal: 616ms\tremaining: 338ms\n",
      "646:\tlearn: 0.0982326\ttotal: 617ms\tremaining: 337ms\n",
      "647:\tlearn: 0.0982205\ttotal: 618ms\tremaining: 336ms\n",
      "648:\tlearn: 0.0979934\ttotal: 619ms\tremaining: 335ms\n",
      "649:\tlearn: 0.0978754\ttotal: 619ms\tremaining: 334ms\n",
      "650:\tlearn: 0.0978428\ttotal: 620ms\tremaining: 332ms\n",
      "651:\tlearn: 0.0978316\ttotal: 621ms\tremaining: 331ms\n",
      "652:\tlearn: 0.0977140\ttotal: 622ms\tremaining: 330ms\n",
      "653:\tlearn: 0.0977006\ttotal: 623ms\tremaining: 329ms\n",
      "654:\tlearn: 0.0975788\ttotal: 623ms\tremaining: 328ms\n",
      "655:\tlearn: 0.0974333\ttotal: 624ms\tremaining: 327ms\n",
      "656:\tlearn: 0.0972747\ttotal: 625ms\tremaining: 326ms\n",
      "657:\tlearn: 0.0970252\ttotal: 626ms\tremaining: 325ms\n",
      "658:\tlearn: 0.0968615\ttotal: 627ms\tremaining: 324ms\n",
      "659:\tlearn: 0.0966516\ttotal: 627ms\tremaining: 323ms\n",
      "660:\tlearn: 0.0964757\ttotal: 628ms\tremaining: 322ms\n",
      "661:\tlearn: 0.0962132\ttotal: 629ms\tremaining: 321ms\n",
      "662:\tlearn: 0.0960042\ttotal: 630ms\tremaining: 320ms\n",
      "663:\tlearn: 0.0959245\ttotal: 631ms\tremaining: 319ms\n",
      "664:\tlearn: 0.0957345\ttotal: 632ms\tremaining: 318ms\n",
      "665:\tlearn: 0.0955846\ttotal: 633ms\tremaining: 317ms\n",
      "666:\tlearn: 0.0953048\ttotal: 633ms\tremaining: 316ms\n",
      "667:\tlearn: 0.0952023\ttotal: 634ms\tremaining: 315ms\n",
      "668:\tlearn: 0.0951754\ttotal: 635ms\tremaining: 314ms\n",
      "669:\tlearn: 0.0950041\ttotal: 636ms\tremaining: 313ms\n",
      "670:\tlearn: 0.0948661\ttotal: 637ms\tremaining: 312ms\n",
      "671:\tlearn: 0.0947129\ttotal: 637ms\tremaining: 311ms\n",
      "672:\tlearn: 0.0946251\ttotal: 638ms\tremaining: 310ms\n",
      "673:\tlearn: 0.0945846\ttotal: 639ms\tremaining: 309ms\n",
      "674:\tlearn: 0.0945598\ttotal: 640ms\tremaining: 308ms\n",
      "675:\tlearn: 0.0944191\ttotal: 641ms\tremaining: 307ms\n",
      "676:\tlearn: 0.0943618\ttotal: 642ms\tremaining: 306ms\n",
      "677:\tlearn: 0.0941375\ttotal: 643ms\tremaining: 305ms\n",
      "678:\tlearn: 0.0939503\ttotal: 643ms\tremaining: 304ms\n",
      "679:\tlearn: 0.0938783\ttotal: 644ms\tremaining: 303ms\n",
      "680:\tlearn: 0.0938404\ttotal: 645ms\tremaining: 302ms\n",
      "681:\tlearn: 0.0937228\ttotal: 646ms\tremaining: 301ms\n",
      "682:\tlearn: 0.0936209\ttotal: 647ms\tremaining: 300ms\n",
      "683:\tlearn: 0.0934452\ttotal: 648ms\tremaining: 299ms\n",
      "684:\tlearn: 0.0933194\ttotal: 649ms\tremaining: 298ms\n",
      "685:\tlearn: 0.0932372\ttotal: 649ms\tremaining: 297ms\n",
      "686:\tlearn: 0.0930981\ttotal: 650ms\tremaining: 296ms\n",
      "687:\tlearn: 0.0929752\ttotal: 651ms\tremaining: 295ms\n",
      "688:\tlearn: 0.0928468\ttotal: 652ms\tremaining: 294ms\n",
      "689:\tlearn: 0.0926864\ttotal: 653ms\tremaining: 293ms\n",
      "690:\tlearn: 0.0925475\ttotal: 654ms\tremaining: 292ms\n",
      "691:\tlearn: 0.0924353\ttotal: 654ms\tremaining: 291ms\n",
      "692:\tlearn: 0.0922360\ttotal: 655ms\tremaining: 290ms\n",
      "693:\tlearn: 0.0921175\ttotal: 656ms\tremaining: 289ms\n",
      "694:\tlearn: 0.0920263\ttotal: 657ms\tremaining: 288ms\n",
      "695:\tlearn: 0.0918593\ttotal: 658ms\tremaining: 287ms\n",
      "696:\tlearn: 0.0917131\ttotal: 658ms\tremaining: 286ms\n",
      "697:\tlearn: 0.0914570\ttotal: 659ms\tremaining: 285ms\n",
      "698:\tlearn: 0.0913356\ttotal: 660ms\tremaining: 284ms\n",
      "699:\tlearn: 0.0911914\ttotal: 661ms\tremaining: 283ms\n",
      "700:\tlearn: 0.0909790\ttotal: 662ms\tremaining: 282ms\n",
      "701:\tlearn: 0.0909602\ttotal: 663ms\tremaining: 281ms\n",
      "702:\tlearn: 0.0908014\ttotal: 663ms\tremaining: 280ms\n",
      "703:\tlearn: 0.0907908\ttotal: 664ms\tremaining: 279ms\n",
      "704:\tlearn: 0.0906418\ttotal: 665ms\tremaining: 278ms\n",
      "705:\tlearn: 0.0903811\ttotal: 666ms\tremaining: 277ms\n",
      "706:\tlearn: 0.0902633\ttotal: 667ms\tremaining: 276ms\n",
      "707:\tlearn: 0.0901915\ttotal: 668ms\tremaining: 275ms\n",
      "708:\tlearn: 0.0900280\ttotal: 669ms\tremaining: 274ms\n",
      "709:\tlearn: 0.0899388\ttotal: 669ms\tremaining: 273ms\n",
      "710:\tlearn: 0.0898666\ttotal: 670ms\tremaining: 272ms\n",
      "711:\tlearn: 0.0896359\ttotal: 671ms\tremaining: 271ms\n",
      "712:\tlearn: 0.0893959\ttotal: 672ms\tremaining: 270ms\n",
      "713:\tlearn: 0.0893413\ttotal: 673ms\tremaining: 269ms\n",
      "714:\tlearn: 0.0892707\ttotal: 674ms\tremaining: 268ms\n",
      "715:\tlearn: 0.0890725\ttotal: 674ms\tremaining: 267ms\n",
      "716:\tlearn: 0.0889325\ttotal: 675ms\tremaining: 266ms\n",
      "717:\tlearn: 0.0887477\ttotal: 676ms\tremaining: 266ms\n",
      "718:\tlearn: 0.0886942\ttotal: 677ms\tremaining: 265ms\n",
      "719:\tlearn: 0.0884441\ttotal: 678ms\tremaining: 264ms\n",
      "720:\tlearn: 0.0883547\ttotal: 678ms\tremaining: 263ms\n",
      "721:\tlearn: 0.0881768\ttotal: 679ms\tremaining: 262ms\n",
      "722:\tlearn: 0.0880839\ttotal: 680ms\tremaining: 260ms\n"
     ]
    },
    {
     "name": "stdout",
     "output_type": "stream",
     "text": [
      "723:\tlearn: 0.0879726\ttotal: 681ms\tremaining: 260ms\n",
      "724:\tlearn: 0.0879242\ttotal: 682ms\tremaining: 259ms\n",
      "725:\tlearn: 0.0877472\ttotal: 683ms\tremaining: 258ms\n",
      "726:\tlearn: 0.0876566\ttotal: 684ms\tremaining: 257ms\n",
      "727:\tlearn: 0.0875399\ttotal: 684ms\tremaining: 256ms\n",
      "728:\tlearn: 0.0875303\ttotal: 685ms\tremaining: 255ms\n",
      "729:\tlearn: 0.0875046\ttotal: 686ms\tremaining: 254ms\n",
      "730:\tlearn: 0.0874538\ttotal: 687ms\tremaining: 253ms\n",
      "731:\tlearn: 0.0873835\ttotal: 688ms\tremaining: 252ms\n",
      "732:\tlearn: 0.0872278\ttotal: 688ms\tremaining: 251ms\n",
      "733:\tlearn: 0.0870703\ttotal: 689ms\tremaining: 250ms\n",
      "734:\tlearn: 0.0868799\ttotal: 690ms\tremaining: 249ms\n",
      "735:\tlearn: 0.0868483\ttotal: 691ms\tremaining: 248ms\n",
      "736:\tlearn: 0.0866835\ttotal: 692ms\tremaining: 247ms\n",
      "737:\tlearn: 0.0864905\ttotal: 693ms\tremaining: 246ms\n",
      "738:\tlearn: 0.0863707\ttotal: 694ms\tremaining: 245ms\n",
      "739:\tlearn: 0.0861633\ttotal: 694ms\tremaining: 244ms\n",
      "740:\tlearn: 0.0861203\ttotal: 695ms\tremaining: 243ms\n",
      "741:\tlearn: 0.0860234\ttotal: 696ms\tremaining: 242ms\n",
      "742:\tlearn: 0.0858939\ttotal: 697ms\tremaining: 241ms\n",
      "743:\tlearn: 0.0857933\ttotal: 698ms\tremaining: 240ms\n",
      "744:\tlearn: 0.0857041\ttotal: 699ms\tremaining: 239ms\n",
      "745:\tlearn: 0.0856219\ttotal: 699ms\tremaining: 238ms\n",
      "746:\tlearn: 0.0855515\ttotal: 700ms\tremaining: 237ms\n",
      "747:\tlearn: 0.0854082\ttotal: 701ms\tremaining: 236ms\n",
      "748:\tlearn: 0.0853779\ttotal: 702ms\tremaining: 235ms\n",
      "749:\tlearn: 0.0852094\ttotal: 703ms\tremaining: 234ms\n",
      "750:\tlearn: 0.0851004\ttotal: 704ms\tremaining: 233ms\n",
      "751:\tlearn: 0.0849987\ttotal: 704ms\tremaining: 232ms\n",
      "752:\tlearn: 0.0849594\ttotal: 705ms\tremaining: 231ms\n",
      "753:\tlearn: 0.0848360\ttotal: 706ms\tremaining: 230ms\n",
      "754:\tlearn: 0.0848072\ttotal: 707ms\tremaining: 229ms\n",
      "755:\tlearn: 0.0846967\ttotal: 708ms\tremaining: 228ms\n",
      "756:\tlearn: 0.0846414\ttotal: 709ms\tremaining: 228ms\n",
      "757:\tlearn: 0.0844638\ttotal: 710ms\tremaining: 227ms\n",
      "758:\tlearn: 0.0843836\ttotal: 711ms\tremaining: 226ms\n",
      "759:\tlearn: 0.0842397\ttotal: 712ms\tremaining: 225ms\n",
      "760:\tlearn: 0.0840851\ttotal: 712ms\tremaining: 224ms\n",
      "761:\tlearn: 0.0839569\ttotal: 713ms\tremaining: 223ms\n",
      "762:\tlearn: 0.0839419\ttotal: 714ms\tremaining: 222ms\n",
      "763:\tlearn: 0.0839093\ttotal: 715ms\tremaining: 221ms\n",
      "764:\tlearn: 0.0837759\ttotal: 716ms\tremaining: 220ms\n",
      "765:\tlearn: 0.0837150\ttotal: 716ms\tremaining: 219ms\n",
      "766:\tlearn: 0.0835208\ttotal: 717ms\tremaining: 218ms\n",
      "767:\tlearn: 0.0834219\ttotal: 718ms\tremaining: 217ms\n",
      "768:\tlearn: 0.0833603\ttotal: 719ms\tremaining: 216ms\n",
      "769:\tlearn: 0.0833375\ttotal: 720ms\tremaining: 215ms\n",
      "770:\tlearn: 0.0832117\ttotal: 721ms\tremaining: 214ms\n",
      "771:\tlearn: 0.0829968\ttotal: 721ms\tremaining: 213ms\n",
      "772:\tlearn: 0.0828350\ttotal: 722ms\tremaining: 212ms\n",
      "773:\tlearn: 0.0826556\ttotal: 723ms\tremaining: 211ms\n",
      "774:\tlearn: 0.0825603\ttotal: 724ms\tremaining: 210ms\n",
      "775:\tlearn: 0.0823908\ttotal: 725ms\tremaining: 209ms\n",
      "776:\tlearn: 0.0823292\ttotal: 726ms\tremaining: 208ms\n",
      "777:\tlearn: 0.0821525\ttotal: 727ms\tremaining: 207ms\n",
      "778:\tlearn: 0.0820047\ttotal: 728ms\tremaining: 206ms\n",
      "779:\tlearn: 0.0818637\ttotal: 729ms\tremaining: 206ms\n",
      "780:\tlearn: 0.0817354\ttotal: 729ms\tremaining: 205ms\n",
      "781:\tlearn: 0.0816772\ttotal: 730ms\tremaining: 204ms\n",
      "782:\tlearn: 0.0816707\ttotal: 731ms\tremaining: 203ms\n",
      "783:\tlearn: 0.0815704\ttotal: 732ms\tremaining: 202ms\n",
      "784:\tlearn: 0.0814819\ttotal: 733ms\tremaining: 201ms\n",
      "785:\tlearn: 0.0814058\ttotal: 733ms\tremaining: 200ms\n",
      "786:\tlearn: 0.0813391\ttotal: 734ms\tremaining: 199ms\n",
      "787:\tlearn: 0.0811408\ttotal: 735ms\tremaining: 198ms\n",
      "788:\tlearn: 0.0809710\ttotal: 736ms\tremaining: 197ms\n",
      "789:\tlearn: 0.0808748\ttotal: 737ms\tremaining: 196ms\n",
      "790:\tlearn: 0.0806699\ttotal: 738ms\tremaining: 195ms\n",
      "791:\tlearn: 0.0805566\ttotal: 738ms\tremaining: 194ms\n",
      "792:\tlearn: 0.0805404\ttotal: 739ms\tremaining: 193ms\n",
      "793:\tlearn: 0.0803668\ttotal: 740ms\tremaining: 192ms\n",
      "794:\tlearn: 0.0802353\ttotal: 741ms\tremaining: 191ms\n",
      "795:\tlearn: 0.0801571\ttotal: 742ms\tremaining: 190ms\n",
      "796:\tlearn: 0.0800105\ttotal: 743ms\tremaining: 189ms\n",
      "797:\tlearn: 0.0799079\ttotal: 743ms\tremaining: 188ms\n",
      "798:\tlearn: 0.0797689\ttotal: 744ms\tremaining: 187ms\n",
      "799:\tlearn: 0.0797468\ttotal: 745ms\tremaining: 186ms\n",
      "800:\tlearn: 0.0795499\ttotal: 746ms\tremaining: 185ms\n",
      "801:\tlearn: 0.0794070\ttotal: 747ms\tremaining: 184ms\n",
      "802:\tlearn: 0.0792462\ttotal: 748ms\tremaining: 183ms\n",
      "803:\tlearn: 0.0792285\ttotal: 748ms\tremaining: 182ms\n",
      "804:\tlearn: 0.0791569\ttotal: 749ms\tremaining: 182ms\n",
      "805:\tlearn: 0.0789512\ttotal: 750ms\tremaining: 181ms\n",
      "806:\tlearn: 0.0788573\ttotal: 751ms\tremaining: 180ms\n",
      "807:\tlearn: 0.0787787\ttotal: 752ms\tremaining: 179ms\n",
      "808:\tlearn: 0.0786927\ttotal: 752ms\tremaining: 178ms\n",
      "809:\tlearn: 0.0785728\ttotal: 753ms\tremaining: 177ms\n",
      "810:\tlearn: 0.0784325\ttotal: 754ms\tremaining: 176ms\n",
      "811:\tlearn: 0.0782346\ttotal: 755ms\tremaining: 175ms\n",
      "812:\tlearn: 0.0781048\ttotal: 756ms\tremaining: 174ms\n",
      "813:\tlearn: 0.0779962\ttotal: 756ms\tremaining: 173ms\n",
      "814:\tlearn: 0.0779628\ttotal: 757ms\tremaining: 172ms\n",
      "815:\tlearn: 0.0778782\ttotal: 758ms\tremaining: 171ms\n",
      "816:\tlearn: 0.0778165\ttotal: 759ms\tremaining: 170ms\n",
      "817:\tlearn: 0.0776163\ttotal: 760ms\tremaining: 169ms\n",
      "818:\tlearn: 0.0775143\ttotal: 761ms\tremaining: 168ms\n",
      "819:\tlearn: 0.0774401\ttotal: 761ms\tremaining: 167ms\n",
      "820:\tlearn: 0.0773416\ttotal: 762ms\tremaining: 166ms\n"
     ]
    },
    {
     "name": "stdout",
     "output_type": "stream",
     "text": [
      "821:\tlearn: 0.0772380\ttotal: 763ms\tremaining: 165ms\n",
      "822:\tlearn: 0.0771111\ttotal: 764ms\tremaining: 164ms\n",
      "823:\tlearn: 0.0769290\ttotal: 765ms\tremaining: 163ms\n",
      "824:\tlearn: 0.0769218\ttotal: 766ms\tremaining: 162ms\n",
      "825:\tlearn: 0.0768345\ttotal: 766ms\tremaining: 161ms\n",
      "826:\tlearn: 0.0768085\ttotal: 767ms\tremaining: 161ms\n",
      "827:\tlearn: 0.0766889\ttotal: 768ms\tremaining: 160ms\n",
      "828:\tlearn: 0.0765662\ttotal: 769ms\tremaining: 159ms\n",
      "829:\tlearn: 0.0764276\ttotal: 770ms\tremaining: 158ms\n",
      "830:\tlearn: 0.0763825\ttotal: 770ms\tremaining: 157ms\n",
      "831:\tlearn: 0.0762301\ttotal: 771ms\tremaining: 156ms\n",
      "832:\tlearn: 0.0761976\ttotal: 772ms\tremaining: 155ms\n",
      "833:\tlearn: 0.0760765\ttotal: 773ms\tremaining: 154ms\n",
      "834:\tlearn: 0.0760710\ttotal: 773ms\tremaining: 153ms\n",
      "835:\tlearn: 0.0760572\ttotal: 774ms\tremaining: 152ms\n",
      "836:\tlearn: 0.0760395\ttotal: 775ms\tremaining: 151ms\n",
      "837:\tlearn: 0.0760241\ttotal: 776ms\tremaining: 150ms\n",
      "838:\tlearn: 0.0759402\ttotal: 777ms\tremaining: 149ms\n",
      "839:\tlearn: 0.0758616\ttotal: 777ms\tremaining: 148ms\n",
      "840:\tlearn: 0.0757898\ttotal: 778ms\tremaining: 147ms\n",
      "841:\tlearn: 0.0756958\ttotal: 779ms\tremaining: 146ms\n",
      "842:\tlearn: 0.0755502\ttotal: 780ms\tremaining: 145ms\n",
      "843:\tlearn: 0.0754359\ttotal: 781ms\tremaining: 144ms\n",
      "844:\tlearn: 0.0753495\ttotal: 781ms\tremaining: 143ms\n",
      "845:\tlearn: 0.0752402\ttotal: 782ms\tremaining: 142ms\n",
      "846:\tlearn: 0.0751129\ttotal: 783ms\tremaining: 141ms\n",
      "847:\tlearn: 0.0749319\ttotal: 784ms\tremaining: 140ms\n",
      "848:\tlearn: 0.0748125\ttotal: 785ms\tremaining: 140ms\n",
      "849:\tlearn: 0.0746958\ttotal: 785ms\tremaining: 139ms\n",
      "850:\tlearn: 0.0745263\ttotal: 786ms\tremaining: 138ms\n",
      "851:\tlearn: 0.0744084\ttotal: 787ms\tremaining: 137ms\n",
      "852:\tlearn: 0.0742545\ttotal: 788ms\tremaining: 136ms\n",
      "853:\tlearn: 0.0740938\ttotal: 789ms\tremaining: 135ms\n",
      "854:\tlearn: 0.0740278\ttotal: 790ms\tremaining: 134ms\n",
      "855:\tlearn: 0.0739066\ttotal: 790ms\tremaining: 133ms\n",
      "856:\tlearn: 0.0737236\ttotal: 791ms\tremaining: 132ms\n",
      "857:\tlearn: 0.0736310\ttotal: 792ms\tremaining: 131ms\n",
      "858:\tlearn: 0.0735868\ttotal: 793ms\tremaining: 130ms\n",
      "859:\tlearn: 0.0735168\ttotal: 794ms\tremaining: 129ms\n",
      "860:\tlearn: 0.0733809\ttotal: 794ms\tremaining: 128ms\n",
      "861:\tlearn: 0.0732778\ttotal: 795ms\tremaining: 127ms\n",
      "862:\tlearn: 0.0731692\ttotal: 796ms\tremaining: 126ms\n",
      "863:\tlearn: 0.0730666\ttotal: 797ms\tremaining: 125ms\n",
      "864:\tlearn: 0.0730107\ttotal: 798ms\tremaining: 124ms\n",
      "865:\tlearn: 0.0728844\ttotal: 798ms\tremaining: 124ms\n",
      "866:\tlearn: 0.0727622\ttotal: 799ms\tremaining: 123ms\n",
      "867:\tlearn: 0.0726040\ttotal: 800ms\tremaining: 122ms\n",
      "868:\tlearn: 0.0724322\ttotal: 801ms\tremaining: 121ms\n",
      "869:\tlearn: 0.0723135\ttotal: 801ms\tremaining: 120ms\n",
      "870:\tlearn: 0.0722263\ttotal: 802ms\tremaining: 119ms\n",
      "871:\tlearn: 0.0721321\ttotal: 803ms\tremaining: 118ms\n",
      "872:\tlearn: 0.0720103\ttotal: 804ms\tremaining: 117ms\n",
      "873:\tlearn: 0.0719300\ttotal: 805ms\tremaining: 116ms\n",
      "874:\tlearn: 0.0719122\ttotal: 805ms\tremaining: 115ms\n",
      "875:\tlearn: 0.0718461\ttotal: 806ms\tremaining: 114ms\n",
      "876:\tlearn: 0.0718116\ttotal: 807ms\tremaining: 113ms\n",
      "877:\tlearn: 0.0717115\ttotal: 808ms\tremaining: 112ms\n",
      "878:\tlearn: 0.0715427\ttotal: 809ms\tremaining: 111ms\n",
      "879:\tlearn: 0.0715254\ttotal: 809ms\tremaining: 110ms\n",
      "880:\tlearn: 0.0713848\ttotal: 810ms\tremaining: 109ms\n",
      "881:\tlearn: 0.0713367\ttotal: 811ms\tremaining: 109ms\n",
      "882:\tlearn: 0.0712051\ttotal: 812ms\tremaining: 108ms\n",
      "883:\tlearn: 0.0711773\ttotal: 813ms\tremaining: 107ms\n",
      "884:\tlearn: 0.0710803\ttotal: 814ms\tremaining: 106ms\n",
      "885:\tlearn: 0.0710366\ttotal: 814ms\tremaining: 105ms\n",
      "886:\tlearn: 0.0709455\ttotal: 815ms\tremaining: 104ms\n",
      "887:\tlearn: 0.0709179\ttotal: 816ms\tremaining: 103ms\n",
      "888:\tlearn: 0.0707664\ttotal: 817ms\tremaining: 102ms\n",
      "889:\tlearn: 0.0705999\ttotal: 818ms\tremaining: 101ms\n",
      "890:\tlearn: 0.0705647\ttotal: 819ms\tremaining: 100ms\n",
      "891:\tlearn: 0.0704580\ttotal: 820ms\tremaining: 99.3ms\n",
      "892:\tlearn: 0.0703838\ttotal: 821ms\tremaining: 98.3ms\n",
      "893:\tlearn: 0.0702870\ttotal: 822ms\tremaining: 97.4ms\n",
      "894:\tlearn: 0.0701827\ttotal: 822ms\tremaining: 96.5ms\n",
      "895:\tlearn: 0.0700556\ttotal: 823ms\tremaining: 95.6ms\n",
      "896:\tlearn: 0.0699817\ttotal: 824ms\tremaining: 94.6ms\n",
      "897:\tlearn: 0.0698437\ttotal: 825ms\tremaining: 93.7ms\n",
      "898:\tlearn: 0.0697998\ttotal: 826ms\tremaining: 92.8ms\n",
      "899:\tlearn: 0.0696685\ttotal: 826ms\tremaining: 91.8ms\n",
      "900:\tlearn: 0.0695422\ttotal: 827ms\tremaining: 90.9ms\n",
      "901:\tlearn: 0.0693806\ttotal: 828ms\tremaining: 90ms\n",
      "902:\tlearn: 0.0692865\ttotal: 829ms\tremaining: 89ms\n",
      "903:\tlearn: 0.0692600\ttotal: 830ms\tremaining: 88.1ms\n",
      "904:\tlearn: 0.0690990\ttotal: 831ms\tremaining: 87.2ms\n",
      "905:\tlearn: 0.0690143\ttotal: 831ms\tremaining: 86.3ms\n",
      "906:\tlearn: 0.0690003\ttotal: 832ms\tremaining: 85.3ms\n",
      "907:\tlearn: 0.0688397\ttotal: 833ms\tremaining: 84.4ms\n",
      "908:\tlearn: 0.0686372\ttotal: 834ms\tremaining: 83.5ms\n",
      "909:\tlearn: 0.0684668\ttotal: 835ms\tremaining: 82.5ms\n",
      "910:\tlearn: 0.0684088\ttotal: 835ms\tremaining: 81.6ms\n",
      "911:\tlearn: 0.0682942\ttotal: 836ms\tremaining: 80.7ms\n",
      "912:\tlearn: 0.0681697\ttotal: 837ms\tremaining: 79.8ms\n",
      "913:\tlearn: 0.0680430\ttotal: 838ms\tremaining: 78.8ms\n",
      "914:\tlearn: 0.0679115\ttotal: 839ms\tremaining: 77.9ms\n",
      "915:\tlearn: 0.0678466\ttotal: 839ms\tremaining: 77ms\n",
      "916:\tlearn: 0.0678347\ttotal: 840ms\tremaining: 76ms\n",
      "917:\tlearn: 0.0677173\ttotal: 841ms\tremaining: 75.1ms\n",
      "918:\tlearn: 0.0676353\ttotal: 842ms\tremaining: 74.2ms\n",
      "919:\tlearn: 0.0676053\ttotal: 843ms\tremaining: 73.3ms\n",
      "920:\tlearn: 0.0674793\ttotal: 843ms\tremaining: 72.3ms\n",
      "921:\tlearn: 0.0673977\ttotal: 844ms\tremaining: 71.4ms\n",
      "922:\tlearn: 0.0672550\ttotal: 845ms\tremaining: 70.5ms\n",
      "923:\tlearn: 0.0671069\ttotal: 846ms\tremaining: 69.6ms\n",
      "924:\tlearn: 0.0670843\ttotal: 847ms\tremaining: 68.6ms\n",
      "925:\tlearn: 0.0669632\ttotal: 848ms\tremaining: 67.7ms\n",
      "926:\tlearn: 0.0669525\ttotal: 848ms\tremaining: 66.8ms\n",
      "927:\tlearn: 0.0667837\ttotal: 849ms\tremaining: 65.9ms\n",
      "928:\tlearn: 0.0667501\ttotal: 850ms\tremaining: 65ms\n",
      "929:\tlearn: 0.0666640\ttotal: 851ms\tremaining: 64ms\n",
      "930:\tlearn: 0.0666244\ttotal: 852ms\tremaining: 63.1ms\n",
      "931:\tlearn: 0.0665397\ttotal: 852ms\tremaining: 62.2ms\n",
      "932:\tlearn: 0.0664994\ttotal: 853ms\tremaining: 61.3ms\n",
      "933:\tlearn: 0.0663771\ttotal: 854ms\tremaining: 60.4ms\n",
      "934:\tlearn: 0.0662537\ttotal: 855ms\tremaining: 59.4ms\n",
      "935:\tlearn: 0.0661685\ttotal: 856ms\tremaining: 58.5ms\n",
      "936:\tlearn: 0.0660758\ttotal: 856ms\tremaining: 57.6ms\n",
      "937:\tlearn: 0.0659351\ttotal: 857ms\tremaining: 56.7ms\n",
      "938:\tlearn: 0.0658874\ttotal: 858ms\tremaining: 55.7ms\n",
      "939:\tlearn: 0.0658568\ttotal: 859ms\tremaining: 54.8ms\n",
      "940:\tlearn: 0.0658238\ttotal: 860ms\tremaining: 53.9ms\n",
      "941:\tlearn: 0.0657743\ttotal: 861ms\tremaining: 53ms\n",
      "942:\tlearn: 0.0656446\ttotal: 862ms\tremaining: 52.1ms\n",
      "943:\tlearn: 0.0655049\ttotal: 863ms\tremaining: 51.2ms\n",
      "944:\tlearn: 0.0654715\ttotal: 863ms\tremaining: 50.2ms\n",
      "945:\tlearn: 0.0653896\ttotal: 864ms\tremaining: 49.3ms\n",
      "946:\tlearn: 0.0653016\ttotal: 865ms\tremaining: 48.4ms\n",
      "947:\tlearn: 0.0652275\ttotal: 866ms\tremaining: 47.5ms\n",
      "948:\tlearn: 0.0651600\ttotal: 867ms\tremaining: 46.6ms\n",
      "949:\tlearn: 0.0649821\ttotal: 867ms\tremaining: 45.6ms\n",
      "950:\tlearn: 0.0649077\ttotal: 868ms\tremaining: 44.7ms\n",
      "951:\tlearn: 0.0648834\ttotal: 869ms\tremaining: 43.8ms\n",
      "952:\tlearn: 0.0648683\ttotal: 870ms\tremaining: 42.9ms\n"
     ]
    },
    {
     "name": "stdout",
     "output_type": "stream",
     "text": [
      "953:\tlearn: 0.0647010\ttotal: 871ms\tremaining: 42ms\n",
      "954:\tlearn: 0.0646612\ttotal: 872ms\tremaining: 41.1ms\n",
      "955:\tlearn: 0.0645097\ttotal: 873ms\tremaining: 40.2ms\n",
      "956:\tlearn: 0.0643685\ttotal: 873ms\tremaining: 39.2ms\n",
      "957:\tlearn: 0.0643156\ttotal: 874ms\tremaining: 38.3ms\n",
      "958:\tlearn: 0.0641585\ttotal: 875ms\tremaining: 37.4ms\n",
      "959:\tlearn: 0.0641460\ttotal: 876ms\tremaining: 36.5ms\n",
      "960:\tlearn: 0.0640545\ttotal: 877ms\tremaining: 35.6ms\n",
      "961:\tlearn: 0.0639106\ttotal: 877ms\tremaining: 34.7ms\n",
      "962:\tlearn: 0.0638241\ttotal: 878ms\tremaining: 33.7ms\n",
      "963:\tlearn: 0.0636717\ttotal: 879ms\tremaining: 32.8ms\n",
      "964:\tlearn: 0.0636218\ttotal: 880ms\tremaining: 31.9ms\n",
      "965:\tlearn: 0.0635122\ttotal: 881ms\tremaining: 31ms\n",
      "966:\tlearn: 0.0634179\ttotal: 882ms\tremaining: 30.1ms\n",
      "967:\tlearn: 0.0633063\ttotal: 883ms\tremaining: 29.2ms\n",
      "968:\tlearn: 0.0631905\ttotal: 884ms\tremaining: 28.3ms\n",
      "969:\tlearn: 0.0631750\ttotal: 885ms\tremaining: 27.4ms\n",
      "970:\tlearn: 0.0631082\ttotal: 885ms\tremaining: 26.4ms\n",
      "971:\tlearn: 0.0630176\ttotal: 886ms\tremaining: 25.5ms\n",
      "972:\tlearn: 0.0629858\ttotal: 887ms\tremaining: 24.6ms\n",
      "973:\tlearn: 0.0628874\ttotal: 888ms\tremaining: 23.7ms\n",
      "974:\tlearn: 0.0628659\ttotal: 888ms\tremaining: 22.8ms\n",
      "975:\tlearn: 0.0627644\ttotal: 889ms\tremaining: 21.9ms\n",
      "976:\tlearn: 0.0627414\ttotal: 890ms\tremaining: 21ms\n",
      "977:\tlearn: 0.0626628\ttotal: 891ms\tremaining: 20.1ms\n",
      "978:\tlearn: 0.0625980\ttotal: 892ms\tremaining: 19.1ms\n",
      "979:\tlearn: 0.0625629\ttotal: 893ms\tremaining: 18.2ms\n",
      "980:\tlearn: 0.0624092\ttotal: 894ms\tremaining: 17.3ms\n",
      "981:\tlearn: 0.0623779\ttotal: 895ms\tremaining: 16.4ms\n",
      "982:\tlearn: 0.0622091\ttotal: 896ms\tremaining: 15.5ms\n",
      "983:\tlearn: 0.0621312\ttotal: 896ms\tremaining: 14.6ms\n",
      "984:\tlearn: 0.0621092\ttotal: 897ms\tremaining: 13.7ms\n",
      "985:\tlearn: 0.0620754\ttotal: 898ms\tremaining: 12.7ms\n",
      "986:\tlearn: 0.0620486\ttotal: 899ms\tremaining: 11.8ms\n",
      "987:\tlearn: 0.0620153\ttotal: 899ms\tremaining: 10.9ms\n",
      "988:\tlearn: 0.0619141\ttotal: 900ms\tremaining: 10ms\n",
      "989:\tlearn: 0.0617544\ttotal: 901ms\tremaining: 9.1ms\n",
      "990:\tlearn: 0.0616762\ttotal: 902ms\tremaining: 8.19ms\n",
      "991:\tlearn: 0.0616420\ttotal: 903ms\tremaining: 7.28ms\n",
      "992:\tlearn: 0.0615800\ttotal: 903ms\tremaining: 6.37ms\n",
      "993:\tlearn: 0.0615465\ttotal: 904ms\tremaining: 5.46ms\n",
      "994:\tlearn: 0.0614117\ttotal: 905ms\tremaining: 4.55ms\n",
      "995:\tlearn: 0.0612801\ttotal: 906ms\tremaining: 3.64ms\n",
      "996:\tlearn: 0.0611888\ttotal: 907ms\tremaining: 2.73ms\n",
      "997:\tlearn: 0.0610841\ttotal: 907ms\tremaining: 1.82ms\n",
      "998:\tlearn: 0.0610707\ttotal: 908ms\tremaining: 909us\n",
      "999:\tlearn: 0.0609917\ttotal: 909ms\tremaining: 0us\n"
     ]
    },
    {
     "data": {
      "text/plain": [
       "<catboost.core.CatBoostRegressor at 0x7fa34005ffa0>"
      ]
     },
     "execution_count": 9,
     "metadata": {},
     "output_type": "execute_result"
    }
   ],
   "source": [
    "#Train the Model \n",
    "prior_model = ctb.CatBoostRegressor()\n",
    "prior_model.fit(X_train,Y_train)"
   ]
  },
  {
   "cell_type": "code",
   "execution_count": 10,
   "id": "af65dcda",
   "metadata": {
    "execution": {
     "iopub.execute_input": "2022-03-11T10:47:49.899960Z",
     "iopub.status.busy": "2022-03-11T10:47:49.899545Z",
     "iopub.status.idle": "2022-03-11T10:47:49.907116Z",
     "shell.execute_reply": "2022-03-11T10:47:49.907352Z"
    },
    "id": "af65dcda",
    "papermill": {
     "duration": 0.02063,
     "end_time": "2022-03-11T10:47:49.907466",
     "exception": false,
     "start_time": "2022-03-11T10:47:49.886836",
     "status": "completed"
    },
    "tags": []
   },
   "outputs": [
    {
     "data": {
      "application/scrapbook.scrap.json+json": {
       "data": 0.08962916534412764,
       "encoder": "json",
       "name": "Prior Model MSE",
       "version": 1
      }
     },
     "metadata": {
      "scrapbook": {
       "data": true,
       "display": false,
       "name": "Prior Model MSE"
      }
     },
     "output_type": "display_data"
    },
    {
     "data": {
      "application/scrapbook.scrap.json+json": {
       "data": 1.1849568868079925,
       "encoder": "json",
       "name": "ABC Pre-generator MSE",
       "version": 1
      }
     },
     "metadata": {
      "scrapbook": {
       "data": true,
       "display": false,
       "name": "ABC Pre-generator MSE"
      }
     },
     "output_type": "display_data"
    },
    {
     "data": {
      "application/scrapbook.scrap.json+json": {
       "data": 0.2059568969959664,
       "encoder": "json",
       "name": "Prior Model MAE",
       "version": 1
      }
     },
     "metadata": {
      "scrapbook": {
       "data": true,
       "display": false,
       "name": "Prior Model MAE"
      }
     },
     "output_type": "display_data"
    },
    {
     "data": {
      "application/scrapbook.scrap.json+json": {
       "data": 0.8497484969567575,
       "encoder": "json",
       "name": "ABC Pre-generator MAE",
       "version": 1
      }
     },
     "metadata": {
      "scrapbook": {
       "data": true,
       "display": false,
       "name": "ABC Pre-generator MAE"
      }
     },
     "output_type": "display_data"
    }
   ],
   "source": [
    "y_pred = prior_model.predict(X_test)\n",
    "y_abc = y_pred + np.random.normal(0,variance, y_pred.shape)\n",
    "mse = mean_squared_error(y_pred,Y_test)\n",
    "sb.glue(\"Prior Model MSE\",mse)\n",
    "mse = mean_squared_error(y_abc,Y_test)\n",
    "sb.glue(\"ABC Pre-generator MSE\",mse)\n",
    "\n",
    "mae = mean_absolute_error(y_pred,Y_test)\n",
    "sb.glue(\"Prior Model MAE\",mae)\n",
    "mae = mean_absolute_error(y_abc,Y_test)\n",
    "sb.glue(\"ABC Pre-generator MAE\",mae)"
   ]
  },
  {
   "cell_type": "markdown",
   "id": "25609da2",
   "metadata": {
    "papermill": {
     "duration": 0.009788,
     "end_time": "2022-03-11T10:47:49.927392",
     "exception": false,
     "start_time": "2022-03-11T10:47:49.917604",
     "status": "completed"
    },
    "tags": []
   },
   "source": [
    "# ABC GAN Model"
   ]
  },
  {
   "cell_type": "code",
   "execution_count": 11,
   "id": "dfc3464d",
   "metadata": {
    "execution": {
     "iopub.execute_input": "2022-03-11T10:47:49.949811Z",
     "iopub.status.busy": "2022-03-11T10:47:49.949430Z",
     "iopub.status.idle": "2022-03-11T10:47:49.952030Z",
     "shell.execute_reply": "2022-03-11T10:47:49.952268Z"
    },
    "papermill": {
     "duration": 0.01524,
     "end_time": "2022-03-11T10:47:49.952375",
     "exception": false,
     "start_time": "2022-03-11T10:47:49.937135",
     "status": "completed"
    },
    "tags": []
   },
   "outputs": [],
   "source": [
    "gen = network.Generator(n_features+1).to(device)\n",
    "disc = network.Discriminator(n_features+1).to(device)\n",
    "\n",
    "criterion = torch.nn.BCELoss()\n",
    "gen_opt = torch.optim.Adam(gen.parameters(), lr=0.001, betas=(0.5, 0.999))\n",
    "disc_opt = torch.optim.Adam(disc.parameters(), lr=0.001, betas=(0.5, 0.999))"
   ]
  },
  {
   "cell_type": "code",
   "execution_count": 12,
   "id": "b75fdd85",
   "metadata": {
    "execution": {
     "iopub.execute_input": "2022-03-11T10:47:49.974388Z",
     "iopub.status.busy": "2022-03-11T10:47:49.974021Z",
     "iopub.status.idle": "2022-03-11T10:48:25.612815Z",
     "shell.execute_reply": "2022-03-11T10:48:25.613205Z"
    },
    "papermill": {
     "duration": 35.651024,
     "end_time": "2022-03-11T10:48:25.613328",
     "exception": false,
     "start_time": "2022-03-11T10:47:49.962304",
     "status": "completed"
    },
    "tags": []
   },
   "outputs": [
    {
     "data": {
      "image/png": "[encoded data removed]",
      "text/plain": [
       "<Figure size 432x288 with 1 Axes>"
      ]
     },
     "metadata": {
      "needs_background": "light"
     },
     "output_type": "display_data"
    },
    {
     "data": {
      "image/png": "[encoded data removed]",
      "text/plain": [
       "<Figure size 432x288 with 1 Axes>"
      ]
     },
     "metadata": {
      "needs_background": "light"
     },
     "output_type": "display_data"
    }
   ],
   "source": [
    "#Training the ABC_GAN \n",
    "ABC_train_test2.training_GAN(disc,gen,disc_opt,gen_opt,train_data,batch_size,n_epochs,criterion,prior_model,variance,0,device)"
   ]
  },
  {
   "cell_type": "code",
   "execution_count": 13,
   "id": "1fa7c368",
   "metadata": {
    "execution": {
     "iopub.execute_input": "2022-03-11T10:48:25.637770Z",
     "iopub.status.busy": "2022-03-11T10:48:25.637382Z",
     "iopub.status.idle": "2022-03-11T10:48:25.934913Z",
     "shell.execute_reply": "2022-03-11T10:48:25.935240Z"
    },
    "papermill": {
     "duration": 0.311028,
     "end_time": "2022-03-11T10:48:25.935364",
     "exception": false,
     "start_time": "2022-03-11T10:48:25.624336",
     "status": "completed"
    },
    "tags": []
   },
   "outputs": [
    {
     "data": {
      "application/scrapbook.scrap.json+json": {
       "data": 0.0955111570370852,
       "encoder": "json",
       "name": "ABC-GAN Model 1 MSE",
       "version": 1
      }
     },
     "metadata": {
      "scrapbook": {
       "data": true,
       "display": false,
       "name": "ABC-GAN Model 1 MSE"
      }
     },
     "output_type": "display_data"
    },
    {
     "data": {
      "application/scrapbook.scrap.json+json": {
       "data": 0.2223257576137343,
       "encoder": "json",
       "name": "ABC-GAN Model 1 MAE",
       "version": 1
      }
     },
     "metadata": {
      "scrapbook": {
       "data": true,
       "display": false,
       "name": "ABC-GAN Model 1 MAE"
      }
     },
     "output_type": "display_data"
    },
    {
     "data": {
      "application/scrapbook.scrap.json+json": {
       "data": 22.6772272766009,
       "encoder": "json",
       "name": "ABC-GAN Model 1 Manhattan Distance",
       "version": 1
      }
     },
     "metadata": {
      "scrapbook": {
       "data": true,
       "display": false,
       "name": "ABC-GAN Model 1 Manhattan Distance"
      }
     },
     "output_type": "display_data"
    },
    {
     "data": {
      "application/scrapbook.scrap.json+json": {
       "data": 3.121147264842627,
       "encoder": "json",
       "name": "ABC-GAN Model 1 Euclidean distance",
       "version": 1
      }
     },
     "metadata": {
      "scrapbook": {
       "data": true,
       "display": false,
       "name": "ABC-GAN Model 1 Euclidean distance"
      }
     },
     "output_type": "display_data"
    },
    {
     "data": {
      "application/scrapbook.scrap.json+json": {
       "data": [
        [
         0.09351235306232226,
         0.0958960292169888,
         0.09533075710076114,
         0.09644406698300212,
         0.09590392813204149,
         0.09432320234950387,
         0.09507080355161128,
         0.0979518718067021,
         0.09698570033402826,
         0.09437415048826392,
         0.09451020077282013,
         0.09406873615438202,
         0.09539394881768022,
         0.0965318648941273,
         0.09435930805136444,
         0.09506858198112919,
         0.09540499599643999,
         0.09600273323934562,
         0.09648100992258378,
         0.0952276977911172,
         0.09232316891957476,
         0.09627684531615625,
         0.09546822971028798,
         0.09449612283311074,
         0.0975597385766953,
         0.09577169441288198,
         0.09689224559295635,
         0.09358320766074484,
         0.09493550898311498,
         0.09636987443292742,
         0.093885278395571,
         0.0980350142801138,
         0.09451630378590255,
         0.09577176028283084,
         0.09451108007945971,
         0.09315683433220774,
         0.09529106558915663,
         0.09554643389889492,
         0.09247313947875657,
         0.09724970722388651,
         0.09386023434670483,
         0.09713246731643477,
         0.0934210012386728,
         0.09424975064063776,
         0.09858198255667609,
         0.09545921017096422,
         0.09490483439929187,
         0.09548618595773314,
         0.09443794451845872,
         0.09721092323684218,
         0.09592323791963264,
         0.09456011105409577,
         0.09601843432519805,
         0.09460945558802622,
         0.09713495766745055,
         0.09463885732064461,
         0.09310473551712513,
         0.09497681125550342,
         0.09570686379699077,
         0.0922844991221298,
         0.09648486913786666,
         0.09601014980574502,
         0.09482596139476444,
         0.09655974272138464,
         0.0966092186205379,
         0.09670733475256049,
         0.09470067203928417,
         0.09668158063691507,
         0.09447318810352641,
         0.09705141229094467,
         0.09400198049934129,
         0.09754795612097064,
         0.09625432156799445,
         0.09761638532495993,
         0.09928843977200835,
         0.09650013578896093,
         0.09929618295558362,
         0.09355101486388413,
         0.0950744477257535,
         0.09527085625010379,
         0.09719044378909296,
         0.09654562437442174,
         0.09598082188897618,
         0.095670264310289,
         0.09451424733721446,
         0.09489815448525636,
         0.09402722767887582,
         0.09609818462010249,
         0.09750628218482932,
         0.09283415941321366,
         0.09646939297250681,
         0.09248031708368751,
         0.09659869441062834,
         0.09549680073099832,
         0.09452183503923603,
         0.09787134935003833,
         0.09521160321813385,
         0.09589984253729665,
         0.0957128230686399,
         0.0944240924613318
        ],
        [
         0.22075163888032823,
         0.2247510832990063,
         0.22273126347720915,
         0.2224314293970226,
         0.2213602747640335,
         0.22465198268821718,
         0.2232012452977691,
         0.22342309597697035,
         0.22514471361486643,
         0.22028028439986064,
         0.22347180794595795,
         0.22135972568546147,
         0.22203627478002624,
         0.22347983251344047,
         0.221466183014141,
         0.22112425454143508,
         0.22413971502443447,
         0.22113997869960525,
         0.2238407792505242,
         0.2212822708374291,
         0.2191911071045872,
         0.22274537670298242,
         0.22086721199436807,
         0.21992851721634174,
         0.22482911008866688,
         0.22295288815546563,
         0.22537970996699205,
         0.22014936608463234,
         0.22175133828183308,
         0.22382075398904727,
         0.22171069456118286,
         0.22387728972506582,
         0.22053767201107213,
         0.2244497124270043,
         0.22051921933341553,
         0.2212267012664062,
         0.22244122201649874,
         0.2225452012236358,
         0.21982252489154538,
         0.22496307262347318,
         0.2177826620583587,
         0.22273607918189145,
         0.22044060073391186,
         0.21906793607837138,
         0.22751818788146563,
         0.22356302043715237,
         0.21997657499513498,
         0.22097566045418965,
         0.22132292420000715,
         0.22460913965843765,
         0.22145380898762276,
         0.2228242675408575,
         0.22162031887245237,
         0.21931068563614697,
         0.22349861323577808,
         0.2215480528424914,
         0.22188223117743344,
         0.22143787146527685,
         0.22134946850037165,
         0.22057821200795324,
         0.22384159603868337,
         0.22273675097590862,
         0.21998350009066509,
         0.22332471281326577,
         0.2229767098529812,
         0.22215361748000279,
         0.22182843418718845,
         0.22300573161748402,
         0.22291395207867026,
         0.22259330538594546,
         0.21941480026854313,
         0.2246384340265364,
         0.2231581658946679,
         0.22441461040437513,
         0.22652984550222754,
         0.2235249761656365,
         0.22417607656040905,
         0.2187317007257804,
         0.2225246256418234,
         0.22323421199860818,
         0.22515886657706954,
         0.2197735868485681,
         0.2231898483199378,
         0.22169151179967264,
         0.2203291139711498,
         0.22337414390937077,
         0.22083677732221343,
         0.223276784616139,
         0.22720637429030796,
         0.22088410662414104,
         0.2231770438397778,
         0.21807664604492338,
         0.22118929533433973,
         0.22261742985460395,
         0.22481315693471068,
         0.22529066939308656,
         0.2190917272431155,
         0.2221885050427826,
         0.22375319577643976,
         0.2216783802244155
        ],
        [
         22.51666716579348,
         22.924610496498644,
         22.718588874675333,
         22.688005798496306,
         22.578748025931418,
         22.914502234198153,
         22.76652702037245,
         22.789155789650977,
         22.964760788716376,
         22.468589008785784,
         22.79412441048771,
         22.57869201991707,
         22.647700027562678,
         22.79494291637093,
         22.58955066744238,
         22.554673963226378,
         22.862250932492316,
         22.556277827359736,
         22.83175948355347,
         22.57079162541777,
         22.357492924667895,
         22.720028423704207,
         22.528455623425543,
         22.43270875606686,
         22.93256922904402,
         22.741194591857493,
         22.98873041663319,
         22.4552353406325,
         22.618636504746974,
         22.829716906882823,
         22.614490845240653,
         22.835483551956713,
         22.49484254512936,
         22.893870667554438,
         22.492960372008383,
         22.565123529173434,
         22.68900464568287,
         22.69961052481085,
         22.42189753893763,
         22.946233407594264,
         22.213831529952586,
         22.719080076552927,
         22.48494127485901,
         22.34492947999388,
         23.206855163909495,
         22.80342808458954,
         22.437610649503767,
         22.539517366327345,
         22.57493826840073,
         22.91013224516064,
         22.58828851673752,
         22.728075289167464,
         22.60527252499014,
         22.369689934886992,
         22.796858550049365,
         22.597901389934123,
         22.63198758009821,
         22.58666288945824,
         22.57764578703791,
         22.498977624811232,
         22.831842795945704,
         22.719148599542677,
         22.43831700924784,
         22.77912070695311,
         22.743624405004084,
         22.659668982960284,
         22.626500287093222,
         22.74658462498337,
         22.737223112024367,
         22.70451714936644,
         22.380309627391398,
         22.913120270706713,
         22.762132921256125,
         22.890290261246264,
         23.10604424122721,
         22.799547568894923,
         22.865959809161723,
         22.3106334740296,
         22.697511815465987,
         22.769889623858035,
         22.966204390861094,
         22.416905858553946,
         22.765364528633654,
         22.61253420356661,
         22.47356962505728,
         22.78416267875582,
         22.52535128686577,
         22.77423203084618,
         23.17505017761141,
         22.530178875662386,
         22.764058471657336,
         22.243817896582186,
         22.561308124102652,
         22.706977845169604,
         22.93094200734049,
         22.979648278094828,
         22.34735617879778,
         22.663227514363825,
         22.822825969196856,
         22.61119478289038
        ],
        [
         3.088407358551794,
         3.1275221789993526,
         3.1182907536465603,
         3.136446210644496,
         3.1276509826814483,
         3.101768308505552,
         3.114036281462429,
         3.160868697729094,
         3.145241077257971,
         3.1026058966299477,
         3.1048414579214274,
         3.0975814900898033,
         3.119324090152125,
         3.137873518674866,
         3.1023619100999764,
         3.113999897571478,
         3.1195047029355285,
         3.1292617005314933,
         3.137046861636521,
         3.1166047511184276,
         3.068707094167937,
         3.1337259328549996,
         3.1205383238232103,
         3.104610205642134,
         3.1545353595772108,
         3.1254940137702967,
         3.1437253459043695,
         3.0895771848905103,
         3.1118197114032373,
         3.135239574922241,
         3.094559483407653,
         3.162209900776924,
         3.1049417041487364,
         3.125495088597764,
         3.10485590134307,
         3.082530957165749,
         3.117641526874759,
         3.121816179355742,
         3.071198500070155,
         3.149519032620127,
         3.094146716522003,
         3.1476200002980574,
         3.0868984638864663,
         3.100560363119069,
         3.1710191139097477,
         3.1203909109979078,
         3.111316941220834,
         3.1208317749742265,
         3.1036543526756954,
         3.148890942880985,
         3.1279658354596087,
         3.105661173972101,
         3.1295175828185093,
         3.106471385668742,
         3.147660350495262,
         3.106954046442553,
         3.081668869743594,
         3.1124965458713922,
         3.1244359662654406,
         3.068064358917075,
         3.1371096015380777,
         3.129382571720177,
         3.110023804131726,
         3.1383265855518023,
         3.1391305005199874,
         3.140724143372221,
         3.107968556470124,
         3.1403059126405717,
         3.1042334297793546,
         3.1463064144606703,
         3.0964821993566845,
         3.1543448645224266,
         3.133359347399438,
         3.1554510459118066,
         3.1823608935419077,
         3.137357781712824,
         3.1824849821278858,
         3.089045729042576,
         3.114095963201336,
         3.1173109144759024,
         3.1485592366171993,
         3.1380971441609358,
         3.128904573916496,
         3.123838497689898,
         3.1049079259127597,
         3.111207443661728,
         3.096898000135835,
         3.130816959078006,
         3.153671001048237,
         3.0771877193547668,
         3.1368579953825924,
         3.0713176883116677,
         3.138959513896936,
         3.1210052346258297,
         3.105032556029337,
         3.1595692164761813,
         3.1163413690174657,
         3.1275843615807166,
         3.124533237621464,
         3.1034267239707534
        ]
       ],
       "encoder": "json",
       "name": "ABC_GAN_1 Metrics",
       "version": 1
      }
     },
     "metadata": {
      "scrapbook": {
       "data": true,
       "display": false,
       "name": "ABC_GAN_1 Metrics"
      }
     },
     "output_type": "display_data"
    },
    {
     "name": "stdout",
     "output_type": "stream",
     "text": [
      "MSE\n",
      "0.0955111570370852\n"
     ]
    }
   ],
   "source": [
    "ABC_GAN1_metrics=ABC_train_test2.test_generator(gen,test_data,prior_model,variance,0,\"1\",device)\n",
    "sb.glue(\"ABC_GAN_1 Metrics\",ABC_GAN1_metrics)\n",
    "\n",
    "print(\"MSE\")\n",
    "print(mean(ABC_GAN1_metrics[0]))"
   ]
  },
  {
   "cell_type": "code",
   "execution_count": 14,
   "id": "eb22ce5c",
   "metadata": {
    "execution": {
     "iopub.execute_input": "2022-03-11T10:48:25.962650Z",
     "iopub.status.busy": "2022-03-11T10:48:25.962283Z",
     "iopub.status.idle": "2022-03-11T10:48:26.285999Z",
     "shell.execute_reply": "2022-03-11T10:48:26.286301Z"
    },
    "papermill": {
     "duration": 0.338427,
     "end_time": "2022-03-11T10:48:26.286423",
     "exception": false,
     "start_time": "2022-03-11T10:48:25.947996",
     "status": "completed"
    },
    "tags": []
   },
   "outputs": [
    {
     "data": {
      "image/png": "[encoded data removed]",
      "text/plain": [
       "<Figure size 432x288 with 1 Axes>"
      ]
     },
     "metadata": {
      "needs_background": "light"
     },
     "output_type": "display_data"
    },
    {
     "data": {
      "image/png": "[encoded data removed]",
      "text/plain": [
       "<Figure size 432x288 with 1 Axes>"
      ]
     },
     "metadata": {
      "needs_background": "light"
     },
     "output_type": "display_data"
    },
    {
     "data": {
      "image/png": "[encoded data removed]",
      "text/plain": [
       "<Figure size 432x288 with 1 Axes>"
      ]
     },
     "metadata": {
      "needs_background": "light"
     },
     "output_type": "display_data"
    },
    {
     "data": {
      "image/png": "[encoded data removed]",
      "text/plain": [
       "<Figure size 432x288 with 1 Axes>"
      ]
     },
     "metadata": {
      "needs_background": "light"
     },
     "output_type": "display_data"
    }
   ],
   "source": [
    "sanityChecks.discProbVsError(train_data,disc,device)\n",
    "sanityChecks.discProbVsError(test_data,disc,device)"
   ]
  },
  {
   "cell_type": "markdown",
   "id": "130f3a4d",
   "metadata": {
    "id": "130f3a4d",
    "papermill": {
     "duration": 0.014577,
     "end_time": "2022-03-11T10:48:26.316329",
     "exception": false,
     "start_time": "2022-03-11T10:48:26.301752",
     "status": "completed"
    },
    "tags": []
   },
   "source": [
    "# ABC - GAN Model with skip connection"
   ]
  },
  {
   "cell_type": "code",
   "execution_count": 15,
   "id": "4e43dad1",
   "metadata": {
    "execution": {
     "iopub.execute_input": "2022-03-11T10:48:26.348731Z",
     "iopub.status.busy": "2022-03-11T10:48:26.348320Z",
     "iopub.status.idle": "2022-03-11T10:48:26.350872Z",
     "shell.execute_reply": "2022-03-11T10:48:26.351127Z"
    },
    "id": "4e43dad1",
    "papermill": {
     "duration": 0.020276,
     "end_time": "2022-03-11T10:48:26.351236",
     "exception": false,
     "start_time": "2022-03-11T10:48:26.330960",
     "status": "completed"
    },
    "tags": []
   },
   "outputs": [],
   "source": [
    "#Generator\n",
    "gen3 = network.GeneratorWithSkipConnection(n_features+1).to(device)\n",
    "constraints=network.weightConstraint()\n",
    "#Discriminator \n",
    "disc3 = network.Discriminator(n_features+1).to(device)\n",
    "\n",
    "criterion = torch.nn.BCELoss()\n",
    "gen_opt = torch.optim.Adam(gen3.parameters(), lr=0.001, betas=(0.5, 0.999))\n",
    "disc_opt = torch.optim.Adam(disc3.parameters(), lr=0.001, betas=(0.5, 0.999))\n"
   ]
  },
  {
   "cell_type": "code",
   "execution_count": 16,
   "id": "26acbc37",
   "metadata": {
    "execution": {
     "iopub.execute_input": "2022-03-11T10:48:26.383181Z",
     "iopub.status.busy": "2022-03-11T10:48:26.382805Z",
     "iopub.status.idle": "2022-03-11T10:50:52.130543Z",
     "shell.execute_reply": "2022-03-11T10:50:52.130925Z"
    },
    "id": "26acbc37",
    "papermill": {
     "duration": 145.764937,
     "end_time": "2022-03-11T10:50:52.131055",
     "exception": false,
     "start_time": "2022-03-11T10:48:26.366118",
     "status": "completed"
    },
    "tags": []
   },
   "outputs": [
    {
     "data": {
      "image/png": "[encoded data removed]",
      "text/plain": [
       "<Figure size 432x288 with 1 Axes>"
      ]
     },
     "metadata": {
      "needs_background": "light"
     },
     "output_type": "display_data"
    },
    {
     "data": {
      "image/png": "[encoded data removed]",
      "text/plain": [
       "<Figure size 432x288 with 1 Axes>"
      ]
     },
     "metadata": {
      "needs_background": "light"
     },
     "output_type": "display_data"
    }
   ],
   "source": [
    "ABC_train_test2.training_GAN_skip_connection(disc3,gen3,disc_opt,gen_opt,train_data,batch_size,n_epochs,criterion,prior_model,variance,0,device)"
   ]
  },
  {
   "cell_type": "code",
   "execution_count": 17,
   "id": "c5e0717b",
   "metadata": {
    "execution": {
     "iopub.execute_input": "2022-03-11T10:50:52.165335Z",
     "iopub.status.busy": "2022-03-11T10:50:52.164962Z",
     "iopub.status.idle": "2022-03-11T10:50:52.964723Z",
     "shell.execute_reply": "2022-03-11T10:50:52.965105Z"
    },
    "id": "c5e0717b",
    "papermill": {
     "duration": 0.818371,
     "end_time": "2022-03-11T10:50:52.965229",
     "exception": false,
     "start_time": "2022-03-11T10:50:52.146858",
     "status": "completed"
    },
    "tags": []
   },
   "outputs": [
    {
     "data": {
      "application/scrapbook.scrap.json+json": {
       "data": 0.10613582447147173,
       "encoder": "json",
       "name": "ABC-GAN Model 3 MSE",
       "version": 1
      }
     },
     "metadata": {
      "scrapbook": {
       "data": true,
       "display": false,
       "name": "ABC-GAN Model 3 MSE"
      }
     },
     "output_type": "display_data"
    },
    {
     "data": {
      "application/scrapbook.scrap.json+json": {
       "data": 0.2172555746266381,
       "encoder": "json",
       "name": "ABC-GAN Model 3 MAE",
       "version": 1
      }
     },
     "metadata": {
      "scrapbook": {
       "data": true,
       "display": false,
       "name": "ABC-GAN Model 3 MAE"
      }
     },
     "output_type": "display_data"
    },
    {
     "data": {
      "application/scrapbook.scrap.json+json": {
       "data": 22.160068611917087,
       "encoder": "json",
       "name": "ABC-GAN Model 3 Manhattan Distance",
       "version": 1
      }
     },
     "metadata": {
      "scrapbook": {
       "data": true,
       "display": false,
       "name": "ABC-GAN Model 3 Manhattan Distance"
      }
     },
     "output_type": "display_data"
    },
    {
     "data": {
      "application/scrapbook.scrap.json+json": {
       "data": 3.2885647935754174,
       "encoder": "json",
       "name": "ABC-GAN Model 3 Euclidean distance",
       "version": 1
      }
     },
     "metadata": {
      "scrapbook": {
       "data": true,
       "display": false,
       "name": "ABC-GAN Model 3 Euclidean distance"
      }
     },
     "output_type": "display_data"
    },
    {
     "data": {
      "application/scrapbook.scrap.json+json": {
       "data": [
        [
         0.11670799910902001,
         0.1168214464427813,
         0.10037260042690406,
         0.0928478912118943,
         0.09793724423899716,
         0.10170764999147287,
         0.10370694214292074,
         0.10506967269650379,
         0.10683459220606324,
         0.10158283448258727,
         0.11781583275631813,
         0.11471264834931066,
         0.10983771094086113,
         0.0947534070657444,
         0.09728071175408762,
         0.10727321714901446,
         0.09875459742065061,
         0.10713455895231086,
         0.09935065079520752,
         0.09913662128008045,
         0.10541638406293916,
         0.10996498650415161,
         0.1073258957949199,
         0.10355303972818235,
         0.10725034863981707,
         0.10156144657035994,
         0.11853406690725742,
         0.11410991456101023,
         0.12169357227527826,
         0.10304848019297427,
         0.0957336779617072,
         0.0965191105632897,
         0.11643519816581592,
         0.1033259534477196,
         0.10530497063244436,
         0.10320379156290306,
         0.10743054112532995,
         0.1062392286990082,
         0.11161595946878686,
         0.114370174806099,
         0.09602552200092156,
         0.1106430418961205,
         0.10579991590967167,
         0.09466175814331816,
         0.10478088665564744,
         0.10992815657121997,
         0.08957693493249208,
         0.1059539391479872,
         0.1045587401932386,
         0.10721825483410956,
         0.10212832963029794,
         0.11298783847641407,
         0.11170884524696294,
         0.11262147869912928,
         0.11389979184052162,
         0.10834053803102002,
         0.12101535893594827,
         0.09977426086793795,
         0.11023450744770845,
         0.10366093064466078,
         0.10748721892400251,
         0.09479907200574475,
         0.11523306666802988,
         0.11727289179664598,
         0.10812203110743386,
         0.10306296555081547,
         0.09910734533891942,
         0.11100141222230984,
         0.09962330341007682,
         0.106850577324095,
         0.10329179363708915,
         0.10060327722767697,
         0.11797373861465202,
         0.09672567884764821,
         0.10504999716896057,
         0.10990018587583515,
         0.11032869245734868,
         0.09934585972364603,
         0.10611811827565126,
         0.10879724269728346,
         0.11378455177793104,
         0.09357897309047977,
         0.10585273732432195,
         0.1172247282459506,
         0.113608709013116,
         0.1077675804245792,
         0.10492126779211422,
         0.10110270930802212,
         0.10325095015832543,
         0.1038000166202427,
         0.11252305139558162,
         0.10099809164475623,
         0.10281047931842295,
         0.10784877116688407,
         0.10465058689779727,
         0.11659831361996258,
         0.11063410681992075,
         0.10437130397091461,
         0.09959022320371759,
         0.10017622529221375
        ],
        [
         0.22579204273757106,
         0.23113549286134394,
         0.21670768962369538,
         0.19545270200343987,
         0.21466738965325788,
         0.2157045375902717,
         0.21249135314286047,
         0.21339874941965237,
         0.21136700063396027,
         0.21322585924473755,
         0.22470658967344492,
         0.23018047725781798,
         0.21739567671080723,
         0.21948893058716373,
         0.20382289914414287,
         0.22220384184380665,
         0.20867526696483588,
         0.21661045534682333,
         0.21563793044062515,
         0.21172984339771608,
         0.21954798786992244,
         0.21436621198503703,
         0.2176332373044216,
         0.21681328155282958,
         0.22008440706550197,
         0.21304704837829752,
         0.22954287282282523,
         0.23137275597957127,
         0.23114078288313514,
         0.20929135748313046,
         0.21289483506195978,
         0.21442096144435743,
         0.22471083588350346,
         0.20812137305334794,
         0.2153164713059132,
         0.2064770096091225,
         0.21890343814248256,
         0.21671844880991414,
         0.22082727253619655,
         0.22281476461748576,
         0.19804382518700817,
         0.2267765239264597,
         0.22182027156483017,
         0.2077404513462063,
         0.20551157791130975,
         0.21677397437138007,
         0.19975561024986355,
         0.221173509014953,
         0.22393610168650163,
         0.21377982046710803,
         0.21222549425803272,
         0.22624190273128597,
         0.21782459071198224,
         0.22557868971945902,
         0.2269163667589572,
         0.21640620019980797,
         0.23092018996420152,
         0.21053190880875086,
         0.21840682162848465,
         0.211756697591102,
         0.21799613434054396,
         0.19824485032472247,
         0.23330931212095654,
         0.2278849023905601,
         0.22085888728535935,
         0.21267877468912333,
         0.2089402748764876,
         0.21046909701773056,
         0.2137568835990832,
         0.21176265947995523,
         0.2145003715950046,
         0.21429104220085576,
         0.2346717230336485,
         0.21461413849108651,
         0.21533830826371617,
         0.21274318130613834,
         0.22043695805283883,
         0.20875182924061722,
         0.21498309967893303,
         0.22018342539120248,
         0.23328467130697533,
         0.2093053445238255,
         0.21633994726318062,
         0.22452426352081636,
         0.22626767167821527,
         0.21579239923762633,
         0.21244592538249552,
         0.2167880645880074,
         0.2227578712170761,
         0.20430917600535003,
         0.2306502174458229,
         0.21045901729524427,
         0.21388490794810885,
         0.21505148819300765,
         0.21554484708672939,
         0.23096439345538908,
         0.22889425836540028,
         0.22243652238017497,
         0.21482274185537414,
         0.21805727037181163
        ],
        [
         23.030788359232247,
         23.575820271857083,
         22.10418434161693,
         19.936175604350865,
         21.896073744632304,
         22.001862834207714,
         21.67411802057177,
         21.76667244080454,
         21.559434064663947,
         21.74903764296323,
         22.920072146691382,
         23.478408680297434,
         22.174359024502337,
         22.3878709198907,
         20.789935712702572,
         22.664791868068278,
         21.284877230413258,
         22.09426644537598,
         21.995068904943764,
         21.596444026567042,
         22.39389476273209,
         21.865353622473776,
         22.198590205051005,
         22.114954718388617,
         22.448609520681202,
         21.730798934586346,
         23.413373027928174,
         23.60002110991627,
         23.576359854079783,
         21.347718463279307,
         21.715273176319897,
         21.87093806732446,
         22.920505260117352,
         21.22838005144149,
         21.962280073203146,
         21.060654980130494,
         22.32815069053322,
         22.105281778611243,
         22.524381798692048,
         22.727105990983546,
         20.200470169074833,
         23.13120544049889,
         22.625667699612677,
         21.189526037313044,
         20.962180946953595,
         22.11094538588077,
         20.37507224548608,
         22.559697919525206,
         22.841482372023165,
         21.805541687645018,
         21.647000414319336,
         23.076674078591168,
         22.218108252622187,
         23.00902635138482,
         23.145469409413636,
         22.073432420380414,
         23.553859376348555,
         21.474254698492587,
         22.277495806105435,
         21.599183154292405,
         22.235605702735484,
         20.220974733121693,
         23.797549836337566,
         23.24426004383713,
         22.527606503106654,
         21.69323501829058,
         21.311908037401736,
         21.467847895808518,
         21.803202127106488,
         21.599791266955435,
         21.87903790269047,
         21.857686304487288,
         23.936515749432147,
         21.890642126090825,
         21.96450744289905,
         21.69980449322611,
         22.484569721389562,
         21.292686582542956,
         21.92827616725117,
         22.45870938990265,
         23.795036473311484,
         21.3491451414302,
         22.066674620844424,
         22.90147487912327,
         23.079302511177957,
         22.010824722237885,
         21.669484389014542,
         22.112382587976754,
         22.721302864141762,
         20.839535952545702,
         23.526322179473937,
         21.466819764114916,
         21.816260610707104,
         21.93525179568678,
         21.985574402846396,
         23.558368132449687,
         23.34721435327083,
         22.688525282777846,
         21.911919669248164,
         22.241841577924788
        ],
        [
         3.4502486735190594,
         3.451925192869,
         3.1996883041234203,
         3.0774152959282595,
         3.160632675965005,
         3.220897436915716,
         3.2524003595157085,
         3.2736992248896946,
         3.301079884676899,
         3.2189204894224868,
         3.466585487355597,
         3.4206271547231926,
         3.3471549883397738,
         3.1088337878866934,
         3.150021047376816,
         3.3078494749911878,
         3.1737940917624696,
         3.305710969388537,
         3.1833577211980377,
         3.1799269442187197,
         3.27909609106226,
         3.3490937017980644,
         3.308661567927706,
         3.249986161858939,
         3.307496872449215,
         3.218581605331254,
         3.4771360089217462,
         3.411628831690669,
         3.5231724868473835,
         3.242058756358893,
         3.1248736217796282,
         3.1376662151120454,
         3.4462138954094566,
         3.2464206831012206,
         3.277362812462074,
         3.2445010000639716,
         3.310274187251511,
         3.2918689717695067,
         3.3741410560046616,
         3.415517212695918,
         3.1296330845794036,
         3.359403261504086,
         3.2850557716401863,
         3.1073299359125754,
         3.2691972162713028,
         3.348532808599078,
         3.0227218467987083,
         3.2874460897624913,
         3.2657298571238758,
         3.307001964480695,
         3.2275516451778716,
         3.3948136214811897,
         3.3755447286608753,
         3.3893053605880934,
         3.408486286863012,
         3.3242645621496547,
         3.5133412318570363,
         3.19013708303102,
         3.353195455034832,
         3.2516787857590423,
         3.311147283080028,
         3.109582824847404,
         3.4283775754923846,
         3.458588579646021,
         3.320910593942308,
         3.2422866138241355,
         3.1794573789516,
         3.364839379030684,
         3.187722846771318,
         3.3013268373576237,
         3.245884001467565,
         3.203362963702841,
         3.4689078019881854,
         3.1410220060451848,
         3.2733926912660465,
         3.3481067723917013,
         3.3546276441133607,
         3.1832809633791195,
         3.289992106999107,
         3.3312638375131614,
         3.4067615533449005,
         3.089507283569491,
         3.285875713882196,
         3.45787829182679,
         3.4041281291011694,
         3.3154627434653934,
         3.271386451459939,
         3.2113044622735876,
         3.245242196839736,
         3.253859507610116,
         3.38782396861899,
         3.2096425576324124,
         3.2383126610133157,
         3.3167114223311884,
         3.2671638868558945,
         3.4486269715984323,
         3.3592676129823174,
         3.2628014044733535,
         3.187193556528877,
         3.1965567380864366
        ]
       ],
       "encoder": "json",
       "name": "ABC_GAN_3 Metrics",
       "version": 1
      }
     },
     "metadata": {
      "scrapbook": {
       "data": true,
       "display": false,
       "name": "ABC_GAN_3 Metrics"
      }
     },
     "output_type": "display_data"
    },
    {
     "name": "stdout",
     "output_type": "stream",
     "text": [
      "MSE\n",
      "0.10613582447147173\n"
     ]
    }
   ],
   "source": [
    "ABC_GAN3_metrics=ABC_train_test2.test_generator(gen3,test_data,prior_model,variance,0,\"3\",device)\n",
    "sb.glue(\"ABC_GAN_3 Metrics\",ABC_GAN3_metrics)\n",
    "\n",
    "print(\"MSE\")\n",
    "print(mean(ABC_GAN3_metrics[0]))"
   ]
  },
  {
   "cell_type": "code",
   "execution_count": 18,
   "id": "c8e46b48",
   "metadata": {
    "execution": {
     "iopub.execute_input": "2022-03-11T10:50:53.002409Z",
     "iopub.status.busy": "2022-03-11T10:50:53.002057Z",
     "iopub.status.idle": "2022-03-11T10:50:53.320248Z",
     "shell.execute_reply": "2022-03-11T10:50:53.320545Z"
    },
    "id": "c8e46b48",
    "papermill": {
     "duration": 0.337814,
     "end_time": "2022-03-11T10:50:53.320668",
     "exception": false,
     "start_time": "2022-03-11T10:50:52.982854",
     "status": "completed"
    },
    "tags": []
   },
   "outputs": [
    {
     "data": {
      "image/png": "[encoded data removed]",
      "text/plain": [
       "<Figure size 432x288 with 1 Axes>"
      ]
     },
     "metadata": {
      "needs_background": "light"
     },
     "output_type": "display_data"
    },
    {
     "data": {
      "image/png": "[encoded data removed]",
      "text/plain": [
       "<Figure size 432x288 with 1 Axes>"
      ]
     },
     "metadata": {
      "needs_background": "light"
     },
     "output_type": "display_data"
    },
    {
     "data": {
      "image/png": "[encoded data removed]",
      "text/plain": [
       "<Figure size 432x288 with 1 Axes>"
      ]
     },
     "metadata": {
      "needs_background": "light"
     },
     "output_type": "display_data"
    },
    {
     "data": {
      "image/png": "[encoded data removed]",
      "text/plain": [
       "<Figure size 432x288 with 1 Axes>"
      ]
     },
     "metadata": {
      "needs_background": "light"
     },
     "output_type": "display_data"
    }
   ],
   "source": [
    "sanityChecks.discProbVsError(train_data,disc3,device)\n",
    "sanityChecks.discProbVsError(test_data,disc3,device)"
   ]
  },
  {
   "cell_type": "markdown",
   "id": "a5bd74c3",
   "metadata": {
    "id": "a5bd74c3",
    "papermill": {
     "duration": 0.019559,
     "end_time": "2022-03-11T10:50:53.360098",
     "exception": false,
     "start_time": "2022-03-11T10:50:53.340539",
     "status": "completed"
    },
    "tags": []
   },
   "source": [
    "## Skip Connection Model Analysis - ABC-GAN "
   ]
  },
  {
   "cell_type": "markdown",
   "id": "5744a8bf",
   "metadata": {
    "id": "5744a8bf",
    "papermill": {
     "duration": 0.019347,
     "end_time": "2022-03-11T10:50:53.398864",
     "exception": false,
     "start_time": "2022-03-11T10:50:53.379517",
     "status": "completed"
    },
    "tags": []
   },
   "source": [
    "### Weight Analysis \n",
    "\n",
    "Study the weights of the skip connection layer\n",
    "\n",
    "Equation of the skip connection is \n",
    "\n",
    "$output = y_{gan} * w + y_{abc} * (1-w)$"
   ]
  },
  {
   "cell_type": "code",
   "execution_count": 19,
   "id": "52c31dea",
   "metadata": {
    "execution": {
     "iopub.execute_input": "2022-03-11T10:50:53.440611Z",
     "iopub.status.busy": "2022-03-11T10:50:53.440224Z",
     "iopub.status.idle": "2022-03-11T10:50:53.443800Z",
     "shell.execute_reply": "2022-03-11T10:50:53.444035Z"
    },
    "id": "52c31dea",
    "papermill": {
     "duration": 0.025934,
     "end_time": "2022-03-11T10:50:53.444145",
     "exception": false,
     "start_time": "2022-03-11T10:50:53.418211",
     "status": "completed"
    },
    "tags": []
   },
   "outputs": [
    {
     "name": "stdout",
     "output_type": "stream",
     "text": [
      "Weight of the node at skip connection\n",
      "Parameter containing:\n",
      "tensor([[0.2248]], requires_grad=True)\n"
     ]
    },
    {
     "data": {
      "application/scrapbook.scrap.json+json": {
       "data": 0.224811390042305,
       "encoder": "json",
       "name": "Skip Connection Weight",
       "version": 1
      }
     },
     "metadata": {
      "scrapbook": {
       "data": true,
       "display": false,
       "name": "Skip Connection Weight"
      }
     },
     "output_type": "display_data"
    }
   ],
   "source": [
    "print(\"Weight of the node at skip connection\")\n",
    "for name,param in gen3.named_parameters():\n",
    "    if(name == \"skipNode.weight\"):\n",
    "        print(param)\n",
    "        sb.glue(\"Skip Connection Weight\",param.item())"
   ]
  }
 ],
 "metadata": {
  "colab": {
   "collapsed_sections": [],
   "name": "ABC_GAN_Model-Catboost_Pre-gen.ipynb",
   "provenance": []
  },
  "interpreter": {
   "hash": "31f2aee4e71d21fbe5cf8b01ff0e069b9275f58929596ceb00d14d90e3e16cd6"
  },
  "kernelspec": {
   "display_name": "Python 3 (ipykernel)",
   "language": "python",
   "name": "python3"
  },
  "language_info": {
   "codemirror_mode": {
    "name": "ipython",
    "version": 3
   },
   "file_extension": ".py",
   "mimetype": "text/x-python",
   "name": "python",
   "nbconvert_exporter": "python",
   "pygments_lexer": "ipython3",
   "version": "3.8.11"
  },
  "papermill": {
   "default_parameters": {},
   "duration": 187.887918,
   "end_time": "2022-03-11T10:50:53.774623",
   "environment_variables": {},
   "exception": null,
   "input_path": "ABC_GAN-Catboost.ipynb",
   "output_path": "./ABC_GAN_Catboost/ABC-GAN_output_9_0.ipynb",
   "parameters": {
    "variance": 1
   },
   "start_time": "2022-03-11T10:47:45.886705",
   "version": "2.3.3"
  }
 },
 "nbformat": 4,
 "nbformat_minor": 5
}