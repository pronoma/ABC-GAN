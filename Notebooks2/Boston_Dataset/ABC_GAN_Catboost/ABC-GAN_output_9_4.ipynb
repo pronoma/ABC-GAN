{
 "cells": [
  {
   "cell_type": "markdown",
   "id": "622780e6",
   "metadata": {
    "id": "622780e6",
    "papermill": {
     "duration": 0.02435,
     "end_time": "2022-06-12T07:37:17.302993",
     "exception": false,
     "start_time": "2022-06-12T07:37:17.278643",
     "status": "completed"
    },
    "tags": []
   },
   "source": [
    "## Import Libraries "
   ]
  },
  {
   "cell_type": "code",
   "execution_count": 1,
   "id": "a62397e3",
   "metadata": {
    "execution": {
     "iopub.execute_input": "2022-06-12T07:37:17.338215Z",
     "iopub.status.busy": "2022-06-12T07:37:17.337634Z",
     "iopub.status.idle": "2022-06-12T07:37:17.339807Z",
     "shell.execute_reply": "2022-06-12T07:37:17.340278Z"
    },
    "id": "a62397e3",
    "papermill": {
     "duration": 0.022432,
     "end_time": "2022-06-12T07:37:17.340493",
     "exception": false,
     "start_time": "2022-06-12T07:37:17.318061",
     "status": "completed"
    },
    "tags": []
   },
   "outputs": [],
   "source": [
    "import warnings\n",
    "import sys\n",
    "sys.path.insert(0, '../../src')\n",
    "warnings.filterwarnings('ignore')"
   ]
  },
  {
   "cell_type": "code",
   "execution_count": 2,
   "id": "d6a4e155",
   "metadata": {
    "execution": {
     "iopub.execute_input": "2022-06-12T07:37:17.361349Z",
     "iopub.status.busy": "2022-06-12T07:37:17.360909Z",
     "iopub.status.idle": "2022-06-12T07:37:19.118360Z",
     "shell.execute_reply": "2022-06-12T07:37:19.118623Z"
    },
    "id": "d6a4e155",
    "papermill": {
     "duration": 1.768582,
     "end_time": "2022-06-12T07:37:19.118744",
     "exception": false,
     "start_time": "2022-06-12T07:37:17.350162",
     "status": "completed"
    },
    "tags": []
   },
   "outputs": [],
   "source": [
    "import ABC_train_test2\n",
    "import bostonDataset\n",
    "import network\n",
    "import dataset\n",
    "import sanityChecks\n",
    "import torch \n",
    "import scrapbook as sb\n",
    "from statistics import mean \n",
    "import catboost as ctb \n",
    "from sklearn.model_selection import train_test_split\n",
    "from sklearn.metrics import mean_squared_error,mean_absolute_error\n",
    "import numpy as np"
   ]
  },
  {
   "cell_type": "markdown",
   "id": "2fa5b0f7",
   "metadata": {
    "id": "2fa5b0f7",
    "papermill": {
     "duration": 0.007177,
     "end_time": "2022-06-12T07:37:19.133045",
     "exception": false,
     "start_time": "2022-06-12T07:37:19.125868",
     "status": "completed"
    },
    "tags": []
   },
   "source": [
    "## Parameters "
   ]
  },
  {
   "cell_type": "code",
   "execution_count": 3,
   "id": "783186fb",
   "metadata": {
    "execution": {
     "iopub.execute_input": "2022-06-12T07:37:19.149223Z",
     "iopub.status.busy": "2022-06-12T07:37:19.148832Z",
     "iopub.status.idle": "2022-06-12T07:37:19.150153Z",
     "shell.execute_reply": "2022-06-12T07:37:19.150403Z"
    },
    "id": "783186fb",
    "papermill": {
     "duration": 0.010672,
     "end_time": "2022-06-12T07:37:19.150518",
     "exception": false,
     "start_time": "2022-06-12T07:37:19.139846",
     "status": "completed"
    },
    "tags": [
     "parameters"
    ]
   },
   "outputs": [],
   "source": [
    "variance = 1\n",
    "bias = 1 "
   ]
  },
  {
   "cell_type": "code",
   "execution_count": 4,
   "id": "e9744b82",
   "metadata": {
    "execution": {
     "iopub.execute_input": "2022-06-12T07:37:19.166505Z",
     "iopub.status.busy": "2022-06-12T07:37:19.166135Z",
     "iopub.status.idle": "2022-06-12T07:37:19.167386Z",
     "shell.execute_reply": "2022-06-12T07:37:19.167675Z"
    },
    "papermill": {
     "duration": 0.010196,
     "end_time": "2022-06-12T07:37:19.167783",
     "exception": false,
     "start_time": "2022-06-12T07:37:19.157587",
     "status": "completed"
    },
    "tags": [
     "injected-parameters"
    ]
   },
   "outputs": [],
   "source": [
    "# Parameters\n",
    "variance = 0.1\n",
    "bias = 0.1\n"
   ]
  },
  {
   "cell_type": "markdown",
   "id": "391cdbfd",
   "metadata": {
    "id": "391cdbfd",
    "papermill": {
     "duration": 0.006851,
     "end_time": "2022-06-12T07:37:19.181592",
     "exception": false,
     "start_time": "2022-06-12T07:37:19.174741",
     "status": "completed"
    },
    "tags": []
   },
   "source": [
    "## Dataset \n"
   ]
  },
  {
   "cell_type": "code",
   "execution_count": 5,
   "id": "5b51f161",
   "metadata": {
    "execution": {
     "iopub.execute_input": "2022-06-12T07:37:19.197183Z",
     "iopub.status.busy": "2022-06-12T07:37:19.196831Z",
     "iopub.status.idle": "2022-06-12T07:37:19.198096Z",
     "shell.execute_reply": "2022-06-12T07:37:19.198338Z"
    },
    "id": "5b51f161",
    "papermill": {
     "duration": 0.009999,
     "end_time": "2022-06-12T07:37:19.198442",
     "exception": false,
     "start_time": "2022-06-12T07:37:19.188443",
     "status": "completed"
    },
    "tags": []
   },
   "outputs": [],
   "source": [
    "#Parameters \n",
    "n_features = 13\n",
    "n_samples= 506\n",
    "n_target = 1 "
   ]
  },
  {
   "cell_type": "code",
   "execution_count": 6,
   "id": "5d6eced4",
   "metadata": {
    "execution": {
     "iopub.execute_input": "2022-06-12T07:37:19.214183Z",
     "iopub.status.busy": "2022-06-12T07:37:19.213807Z",
     "iopub.status.idle": "2022-06-12T07:37:19.224431Z",
     "shell.execute_reply": "2022-06-12T07:37:19.224675Z"
    },
    "id": "5d6eced4",
    "papermill": {
     "duration": 0.019426,
     "end_time": "2022-06-12T07:37:19.224785",
     "exception": false,
     "start_time": "2022-06-12T07:37:19.205359",
     "status": "completed"
    },
    "tags": []
   },
   "outputs": [
    {
     "name": "stdout",
     "output_type": "stream",
     "text": [
      "         X1        X2        X3        X4        X5        X6        X7  \\\n",
      "0 -0.419782  0.284830 -1.287909 -0.272599 -0.144217  0.413672 -0.120013   \n",
      "1 -0.417339 -0.487722 -0.593381 -0.272599 -0.740262  0.194274  0.367166   \n",
      "2 -0.417342 -0.487722 -0.593381 -0.272599 -0.740262  1.282714 -0.265812   \n",
      "3 -0.416750 -0.487722 -1.306878 -0.272599 -0.835284  1.016303 -0.809889   \n",
      "4 -0.412482 -0.487722 -1.306878 -0.272599 -0.835284  1.228577 -0.511180   \n",
      "\n",
      "         X8        X9       X10       X11       X12       X13         Y  \n",
      "0  0.140214 -0.982843 -0.666608 -1.459000  0.441052 -1.075562  0.159686  \n",
      "1  0.557160 -0.867883 -0.987329 -0.303094  0.441052 -0.492439 -0.101524  \n",
      "2  0.557160 -0.867883 -0.987329 -0.303094  0.396427 -1.208727  1.324247  \n",
      "3  1.077737 -0.752922 -1.106115  0.113032  0.416163 -1.361517  1.182758  \n",
      "4  1.077737 -0.752922 -1.106115  0.113032  0.441052 -1.026501  1.487503  \n"
     ]
    }
   ],
   "source": [
    "X,Y = bostonDataset.boston_data()"
   ]
  },
  {
   "cell_type": "code",
   "execution_count": 7,
   "id": "fe007438",
   "metadata": {
    "execution": {
     "iopub.execute_input": "2022-06-12T07:37:19.242641Z",
     "iopub.status.busy": "2022-06-12T07:37:19.242272Z",
     "iopub.status.idle": "2022-06-12T07:37:19.243879Z",
     "shell.execute_reply": "2022-06-12T07:37:19.244124Z"
    },
    "id": "fe007438",
    "papermill": {
     "duration": 0.011995,
     "end_time": "2022-06-12T07:37:19.244234",
     "exception": false,
     "start_time": "2022-06-12T07:37:19.232239",
     "status": "completed"
    },
    "tags": []
   },
   "outputs": [],
   "source": [
    "#Train test split for dataset \n",
    "X_train,X_test,Y_train,Y_test = train_test_split(X,Y,test_size = 0.2)\n",
    "train_data = dataset.CustomDataset(X_train,Y_train)\n",
    "test_data = dataset.CustomDataset(X_test,Y_test)\n"
   ]
  },
  {
   "cell_type": "markdown",
   "id": "a9a1af34",
   "metadata": {
    "id": "a9a1af34",
    "papermill": {
     "duration": 0.007106,
     "end_time": "2022-06-12T07:37:19.258811",
     "exception": false,
     "start_time": "2022-06-12T07:37:19.251705",
     "status": "completed"
    },
    "tags": []
   },
   "source": [
    "## Training Parameters "
   ]
  },
  {
   "cell_type": "code",
   "execution_count": 8,
   "id": "952b7fc8",
   "metadata": {
    "execution": {
     "iopub.execute_input": "2022-06-12T07:37:19.275542Z",
     "iopub.status.busy": "2022-06-12T07:37:19.275177Z",
     "iopub.status.idle": "2022-06-12T07:37:19.276469Z",
     "shell.execute_reply": "2022-06-12T07:37:19.276726Z"
    },
    "id": "952b7fc8",
    "papermill": {
     "duration": 0.01088,
     "end_time": "2022-06-12T07:37:19.276837",
     "exception": false,
     "start_time": "2022-06-12T07:37:19.265957",
     "status": "completed"
    },
    "tags": []
   },
   "outputs": [],
   "source": [
    "batch_size = 32\n",
    "n_epochs = 1000\n",
    "#Select the device \n",
    "device = torch.device('cuda' if torch.cuda.is_available() else 'cpu')"
   ]
  },
  {
   "cell_type": "markdown",
   "id": "a95e1600",
   "metadata": {
    "id": "a95e1600",
    "papermill": {
     "duration": 0.007103,
     "end_time": "2022-06-12T07:37:19.291215",
     "exception": false,
     "start_time": "2022-06-12T07:37:19.284112",
     "status": "completed"
    },
    "tags": []
   },
   "source": [
    "# ABC Pre-generator Model \n",
    "\n",
    "1. The catboost model is used as a pre-generator model for the ABC-GAN. \n",
    "2. The model is first trained on the entire dataset \n",
    "3. It generats X,Y pairs and we add some Gaussian noise with mean 0 and variance 1 to it which is then feed as input to the generator.\n"
   ]
  },
  {
   "cell_type": "code",
   "execution_count": 9,
   "id": "ff8ce7bd",
   "metadata": {
    "execution": {
     "iopub.execute_input": "2022-06-12T07:37:19.310445Z",
     "iopub.status.busy": "2022-06-12T07:37:19.310073Z",
     "iopub.status.idle": "2022-06-12T07:37:20.263886Z",
     "shell.execute_reply": "2022-06-12T07:37:20.264105Z"
    },
    "id": "ff8ce7bd",
    "papermill": {
     "duration": 0.965824,
     "end_time": "2022-06-12T07:37:20.264232",
     "exception": false,
     "start_time": "2022-06-12T07:37:19.298408",
     "status": "completed"
    },
    "tags": []
   },
   "outputs": [
    {
     "name": "stdout",
     "output_type": "stream",
     "text": [
      "Learning rate set to 0.033215\n",
      "0:\tlearn: 0.9969759\ttotal: 58.7ms\tremaining: 58.7s\n",
      "1:\tlearn: 0.9774046\ttotal: 59.7ms\tremaining: 29.8s\n",
      "2:\tlearn: 0.9558867\ttotal: 60.7ms\tremaining: 20.2s\n",
      "3:\tlearn: 0.9392990\ttotal: 61.7ms\tremaining: 15.4s\n",
      "4:\tlearn: 0.9240248\ttotal: 62.8ms\tremaining: 12.5s\n",
      "5:\tlearn: 0.9062393\ttotal: 63.7ms\tremaining: 10.6s\n",
      "6:\tlearn: 0.8905530\ttotal: 64.7ms\tremaining: 9.18s\n",
      "7:\tlearn: 0.8743713\ttotal: 65.8ms\tremaining: 8.16s\n",
      "8:\tlearn: 0.8577312\ttotal: 66.8ms\tremaining: 7.35s\n",
      "9:\tlearn: 0.8408972\ttotal: 67.7ms\tremaining: 6.7s\n",
      "10:\tlearn: 0.8241624\ttotal: 68.6ms\tremaining: 6.17s\n",
      "11:\tlearn: 0.8082559\ttotal: 69.6ms\tremaining: 5.73s\n",
      "12:\tlearn: 0.7940763\ttotal: 70.4ms\tremaining: 5.34s\n",
      "13:\tlearn: 0.7785124\ttotal: 71.2ms\tremaining: 5.01s\n",
      "14:\tlearn: 0.7644537\ttotal: 72.2ms\tremaining: 4.74s\n",
      "15:\tlearn: 0.7503562\ttotal: 73.1ms\tremaining: 4.5s\n",
      "16:\tlearn: 0.7368139\ttotal: 74ms\tremaining: 4.28s\n",
      "17:\tlearn: 0.7234012\ttotal: 74.8ms\tremaining: 4.08s\n",
      "18:\tlearn: 0.7104012\ttotal: 75.6ms\tremaining: 3.9s\n",
      "19:\tlearn: 0.6973004\ttotal: 76.4ms\tremaining: 3.74s\n",
      "20:\tlearn: 0.6860532\ttotal: 77.2ms\tremaining: 3.6s\n",
      "21:\tlearn: 0.6747545\ttotal: 78ms\tremaining: 3.47s\n",
      "22:\tlearn: 0.6639578\ttotal: 78.7ms\tremaining: 3.34s\n",
      "23:\tlearn: 0.6538650\ttotal: 79.6ms\tremaining: 3.23s\n",
      "24:\tlearn: 0.6428820\ttotal: 80.4ms\tremaining: 3.13s\n",
      "25:\tlearn: 0.6339531\ttotal: 81.2ms\tremaining: 3.04s\n",
      "26:\tlearn: 0.6237272\ttotal: 82ms\tremaining: 2.96s\n",
      "27:\tlearn: 0.6144185\ttotal: 82.8ms\tremaining: 2.87s\n",
      "28:\tlearn: 0.6054732\ttotal: 83.6ms\tremaining: 2.8s\n",
      "29:\tlearn: 0.5958904\ttotal: 84.3ms\tremaining: 2.73s\n",
      "30:\tlearn: 0.5863193\ttotal: 85.1ms\tremaining: 2.66s\n",
      "31:\tlearn: 0.5766238\ttotal: 86ms\tremaining: 2.6s\n",
      "32:\tlearn: 0.5693861\ttotal: 86.7ms\tremaining: 2.54s\n",
      "33:\tlearn: 0.5620975\ttotal: 87.5ms\tremaining: 2.49s\n",
      "34:\tlearn: 0.5543664\ttotal: 88.4ms\tremaining: 2.44s\n",
      "35:\tlearn: 0.5468684\ttotal: 89.3ms\tremaining: 2.39s\n",
      "36:\tlearn: 0.5400854\ttotal: 90.1ms\tremaining: 2.34s\n",
      "37:\tlearn: 0.5324864\ttotal: 90.8ms\tremaining: 2.3s\n",
      "38:\tlearn: 0.5251498\ttotal: 91.7ms\tremaining: 2.26s\n",
      "39:\tlearn: 0.5168153\ttotal: 92.5ms\tremaining: 2.22s\n",
      "40:\tlearn: 0.5102930\ttotal: 93.2ms\tremaining: 2.18s\n",
      "41:\tlearn: 0.5029719\ttotal: 93.9ms\tremaining: 2.14s\n",
      "42:\tlearn: 0.4972219\ttotal: 94.6ms\tremaining: 2.11s\n",
      "43:\tlearn: 0.4908549\ttotal: 95.3ms\tremaining: 2.07s\n",
      "44:\tlearn: 0.4856855\ttotal: 96.1ms\tremaining: 2.04s\n",
      "45:\tlearn: 0.4803230\ttotal: 97ms\tremaining: 2.01s\n",
      "46:\tlearn: 0.4750129\ttotal: 97.7ms\tremaining: 1.98s\n",
      "47:\tlearn: 0.4690201\ttotal: 98.5ms\tremaining: 1.95s\n",
      "48:\tlearn: 0.4636425\ttotal: 99.2ms\tremaining: 1.93s\n",
      "49:\tlearn: 0.4586518\ttotal: 99.9ms\tremaining: 1.9s\n",
      "50:\tlearn: 0.4520496\ttotal: 101ms\tremaining: 1.88s\n",
      "51:\tlearn: 0.4460624\ttotal: 101ms\tremaining: 1.85s\n",
      "52:\tlearn: 0.4403181\ttotal: 102ms\tremaining: 1.83s\n",
      "53:\tlearn: 0.4357164\ttotal: 103ms\tremaining: 1.8s\n",
      "54:\tlearn: 0.4308038\ttotal: 104ms\tremaining: 1.78s\n",
      "55:\tlearn: 0.4268935\ttotal: 105ms\tremaining: 1.76s\n",
      "56:\tlearn: 0.4230191\ttotal: 105ms\tremaining: 1.74s\n",
      "57:\tlearn: 0.4185587\ttotal: 106ms\tremaining: 1.73s\n"
     ]
    },
    {
     "name": "stdout",
     "output_type": "stream",
     "text": [
      "58:\tlearn: 0.4148427\ttotal: 107ms\tremaining: 1.71s\n",
      "59:\tlearn: 0.4113287\ttotal: 108ms\tremaining: 1.7s\n",
      "60:\tlearn: 0.4077113\ttotal: 109ms\tremaining: 1.68s\n",
      "61:\tlearn: 0.4040843\ttotal: 110ms\tremaining: 1.67s\n",
      "62:\tlearn: 0.4005530\ttotal: 111ms\tremaining: 1.65s\n",
      "63:\tlearn: 0.3969613\ttotal: 112ms\tremaining: 1.64s\n",
      "64:\tlearn: 0.3938115\ttotal: 113ms\tremaining: 1.63s\n",
      "65:\tlearn: 0.3904959\ttotal: 114ms\tremaining: 1.62s\n",
      "66:\tlearn: 0.3867771\ttotal: 115ms\tremaining: 1.6s\n",
      "67:\tlearn: 0.3837719\ttotal: 116ms\tremaining: 1.59s\n",
      "68:\tlearn: 0.3804993\ttotal: 117ms\tremaining: 1.58s\n",
      "69:\tlearn: 0.3776383\ttotal: 118ms\tremaining: 1.57s\n",
      "70:\tlearn: 0.3739129\ttotal: 119ms\tremaining: 1.56s\n",
      "71:\tlearn: 0.3697268\ttotal: 120ms\tremaining: 1.54s\n",
      "72:\tlearn: 0.3669473\ttotal: 121ms\tremaining: 1.53s\n",
      "73:\tlearn: 0.3638635\ttotal: 122ms\tremaining: 1.52s\n",
      "74:\tlearn: 0.3605808\ttotal: 123ms\tremaining: 1.51s\n",
      "75:\tlearn: 0.3580057\ttotal: 124ms\tremaining: 1.5s\n",
      "76:\tlearn: 0.3548707\ttotal: 124ms\tremaining: 1.49s\n",
      "77:\tlearn: 0.3526631\ttotal: 125ms\tremaining: 1.48s\n",
      "78:\tlearn: 0.3502381\ttotal: 126ms\tremaining: 1.47s\n",
      "79:\tlearn: 0.3480336\ttotal: 127ms\tremaining: 1.46s\n",
      "80:\tlearn: 0.3452008\ttotal: 128ms\tremaining: 1.45s\n",
      "81:\tlearn: 0.3421679\ttotal: 129ms\tremaining: 1.44s\n",
      "82:\tlearn: 0.3404850\ttotal: 129ms\tremaining: 1.43s\n",
      "83:\tlearn: 0.3384825\ttotal: 130ms\tremaining: 1.42s\n",
      "84:\tlearn: 0.3366978\ttotal: 131ms\tremaining: 1.41s\n",
      "85:\tlearn: 0.3342148\ttotal: 132ms\tremaining: 1.4s\n",
      "86:\tlearn: 0.3320973\ttotal: 133ms\tremaining: 1.39s\n",
      "87:\tlearn: 0.3296870\ttotal: 134ms\tremaining: 1.38s\n",
      "88:\tlearn: 0.3271950\ttotal: 134ms\tremaining: 1.37s\n",
      "89:\tlearn: 0.3250113\ttotal: 135ms\tremaining: 1.36s\n",
      "90:\tlearn: 0.3231177\ttotal: 136ms\tremaining: 1.36s\n",
      "91:\tlearn: 0.3211520\ttotal: 137ms\tremaining: 1.35s\n",
      "92:\tlearn: 0.3197495\ttotal: 138ms\tremaining: 1.34s\n",
      "93:\tlearn: 0.3173758\ttotal: 138ms\tremaining: 1.33s\n",
      "94:\tlearn: 0.3155256\ttotal: 139ms\tremaining: 1.33s\n",
      "95:\tlearn: 0.3147374\ttotal: 140ms\tremaining: 1.32s\n",
      "96:\tlearn: 0.3127447\ttotal: 141ms\tremaining: 1.31s\n",
      "97:\tlearn: 0.3103815\ttotal: 142ms\tremaining: 1.3s\n",
      "98:\tlearn: 0.3081120\ttotal: 142ms\tremaining: 1.3s\n",
      "99:\tlearn: 0.3061944\ttotal: 143ms\tremaining: 1.29s\n",
      "100:\tlearn: 0.3044648\ttotal: 144ms\tremaining: 1.28s\n",
      "101:\tlearn: 0.3025893\ttotal: 145ms\tremaining: 1.28s\n",
      "102:\tlearn: 0.3009378\ttotal: 146ms\tremaining: 1.27s\n",
      "103:\tlearn: 0.2994645\ttotal: 147ms\tremaining: 1.26s\n",
      "104:\tlearn: 0.2981858\ttotal: 147ms\tremaining: 1.25s\n",
      "105:\tlearn: 0.2964885\ttotal: 148ms\tremaining: 1.25s\n",
      "106:\tlearn: 0.2951374\ttotal: 149ms\tremaining: 1.24s\n",
      "107:\tlearn: 0.2929475\ttotal: 150ms\tremaining: 1.24s\n",
      "108:\tlearn: 0.2916534\ttotal: 151ms\tremaining: 1.23s\n",
      "109:\tlearn: 0.2901306\ttotal: 151ms\tremaining: 1.22s\n",
      "110:\tlearn: 0.2887273\ttotal: 152ms\tremaining: 1.22s\n",
      "111:\tlearn: 0.2872738\ttotal: 153ms\tremaining: 1.21s\n",
      "112:\tlearn: 0.2853946\ttotal: 154ms\tremaining: 1.21s\n",
      "113:\tlearn: 0.2840421\ttotal: 155ms\tremaining: 1.2s\n",
      "114:\tlearn: 0.2825931\ttotal: 156ms\tremaining: 1.2s\n",
      "115:\tlearn: 0.2817745\ttotal: 157ms\tremaining: 1.19s\n",
      "116:\tlearn: 0.2806388\ttotal: 157ms\tremaining: 1.19s\n",
      "117:\tlearn: 0.2791035\ttotal: 158ms\tremaining: 1.18s\n",
      "118:\tlearn: 0.2779045\ttotal: 159ms\tremaining: 1.18s\n",
      "119:\tlearn: 0.2770559\ttotal: 160ms\tremaining: 1.17s\n",
      "120:\tlearn: 0.2754562\ttotal: 161ms\tremaining: 1.17s\n",
      "121:\tlearn: 0.2741493\ttotal: 162ms\tremaining: 1.16s\n",
      "122:\tlearn: 0.2725174\ttotal: 162ms\tremaining: 1.16s\n",
      "123:\tlearn: 0.2709275\ttotal: 163ms\tremaining: 1.15s\n",
      "124:\tlearn: 0.2698228\ttotal: 164ms\tremaining: 1.15s\n",
      "125:\tlearn: 0.2687189\ttotal: 165ms\tremaining: 1.14s\n",
      "126:\tlearn: 0.2677393\ttotal: 166ms\tremaining: 1.14s\n",
      "127:\tlearn: 0.2667994\ttotal: 166ms\tremaining: 1.13s\n",
      "128:\tlearn: 0.2656627\ttotal: 167ms\tremaining: 1.13s\n",
      "129:\tlearn: 0.2646132\ttotal: 168ms\tremaining: 1.12s\n",
      "130:\tlearn: 0.2636666\ttotal: 169ms\tremaining: 1.12s\n",
      "131:\tlearn: 0.2627786\ttotal: 170ms\tremaining: 1.11s\n",
      "132:\tlearn: 0.2616772\ttotal: 171ms\tremaining: 1.11s\n",
      "133:\tlearn: 0.2606188\ttotal: 171ms\tremaining: 1.11s\n",
      "134:\tlearn: 0.2594847\ttotal: 172ms\tremaining: 1.1s\n",
      "135:\tlearn: 0.2585029\ttotal: 173ms\tremaining: 1.1s\n",
      "136:\tlearn: 0.2577787\ttotal: 174ms\tremaining: 1.09s\n",
      "137:\tlearn: 0.2569234\ttotal: 175ms\tremaining: 1.09s\n",
      "138:\tlearn: 0.2558427\ttotal: 176ms\tremaining: 1.09s\n",
      "139:\tlearn: 0.2551300\ttotal: 177ms\tremaining: 1.09s\n",
      "140:\tlearn: 0.2541706\ttotal: 178ms\tremaining: 1.08s\n",
      "141:\tlearn: 0.2532081\ttotal: 179ms\tremaining: 1.08s\n",
      "142:\tlearn: 0.2520694\ttotal: 180ms\tremaining: 1.07s\n",
      "143:\tlearn: 0.2512580\ttotal: 180ms\tremaining: 1.07s\n",
      "144:\tlearn: 0.2503357\ttotal: 181ms\tremaining: 1.07s\n",
      "145:\tlearn: 0.2489964\ttotal: 182ms\tremaining: 1.06s\n",
      "146:\tlearn: 0.2482121\ttotal: 183ms\tremaining: 1.06s\n",
      "147:\tlearn: 0.2473876\ttotal: 184ms\tremaining: 1.06s\n",
      "148:\tlearn: 0.2465265\ttotal: 184ms\tremaining: 1.05s\n",
      "149:\tlearn: 0.2457626\ttotal: 185ms\tremaining: 1.05s\n",
      "150:\tlearn: 0.2450348\ttotal: 186ms\tremaining: 1.05s\n",
      "151:\tlearn: 0.2443822\ttotal: 188ms\tremaining: 1.05s\n",
      "152:\tlearn: 0.2437137\ttotal: 188ms\tremaining: 1.04s\n",
      "153:\tlearn: 0.2430540\ttotal: 189ms\tremaining: 1.04s\n",
      "154:\tlearn: 0.2424163\ttotal: 190ms\tremaining: 1.03s\n",
      "155:\tlearn: 0.2415112\ttotal: 191ms\tremaining: 1.03s\n"
     ]
    },
    {
     "name": "stdout",
     "output_type": "stream",
     "text": [
      "156:\tlearn: 0.2404335\ttotal: 192ms\tremaining: 1.03s\n",
      "157:\tlearn: 0.2396785\ttotal: 193ms\tremaining: 1.03s\n",
      "158:\tlearn: 0.2391213\ttotal: 194ms\tremaining: 1.02s\n",
      "159:\tlearn: 0.2386478\ttotal: 195ms\tremaining: 1.02s\n",
      "160:\tlearn: 0.2379925\ttotal: 195ms\tremaining: 1.02s\n",
      "161:\tlearn: 0.2370891\ttotal: 196ms\tremaining: 1.01s\n",
      "162:\tlearn: 0.2363208\ttotal: 197ms\tremaining: 1.01s\n",
      "163:\tlearn: 0.2355600\ttotal: 198ms\tremaining: 1.01s\n",
      "164:\tlearn: 0.2349235\ttotal: 198ms\tremaining: 1s\n",
      "165:\tlearn: 0.2343863\ttotal: 199ms\tremaining: 1s\n",
      "166:\tlearn: 0.2336791\ttotal: 200ms\tremaining: 999ms\n",
      "167:\tlearn: 0.2328636\ttotal: 201ms\tremaining: 997ms\n",
      "168:\tlearn: 0.2323419\ttotal: 202ms\tremaining: 994ms\n",
      "169:\tlearn: 0.2316132\ttotal: 203ms\tremaining: 991ms\n",
      "170:\tlearn: 0.2306961\ttotal: 204ms\tremaining: 988ms\n",
      "171:\tlearn: 0.2298617\ttotal: 205ms\tremaining: 985ms\n",
      "172:\tlearn: 0.2290915\ttotal: 206ms\tremaining: 983ms\n",
      "173:\tlearn: 0.2280004\ttotal: 206ms\tremaining: 980ms\n",
      "174:\tlearn: 0.2274590\ttotal: 207ms\tremaining: 977ms\n",
      "175:\tlearn: 0.2269522\ttotal: 208ms\tremaining: 975ms\n",
      "176:\tlearn: 0.2258882\ttotal: 209ms\tremaining: 971ms\n",
      "177:\tlearn: 0.2252813\ttotal: 210ms\tremaining: 968ms\n",
      "178:\tlearn: 0.2245826\ttotal: 210ms\tremaining: 965ms\n",
      "179:\tlearn: 0.2239295\ttotal: 211ms\tremaining: 963ms\n",
      "180:\tlearn: 0.2230971\ttotal: 212ms\tremaining: 959ms\n",
      "181:\tlearn: 0.2221585\ttotal: 213ms\tremaining: 957ms\n",
      "182:\tlearn: 0.2215938\ttotal: 214ms\tremaining: 954ms\n",
      "183:\tlearn: 0.2210295\ttotal: 214ms\tremaining: 951ms\n",
      "184:\tlearn: 0.2204600\ttotal: 215ms\tremaining: 948ms\n",
      "185:\tlearn: 0.2198220\ttotal: 216ms\tremaining: 945ms\n",
      "186:\tlearn: 0.2194369\ttotal: 217ms\tremaining: 943ms\n",
      "187:\tlearn: 0.2190111\ttotal: 218ms\tremaining: 941ms\n",
      "188:\tlearn: 0.2183560\ttotal: 219ms\tremaining: 938ms\n",
      "189:\tlearn: 0.2178013\ttotal: 219ms\tremaining: 936ms\n",
      "190:\tlearn: 0.2172641\ttotal: 220ms\tremaining: 933ms\n",
      "191:\tlearn: 0.2165453\ttotal: 221ms\tremaining: 930ms\n",
      "192:\tlearn: 0.2158244\ttotal: 222ms\tremaining: 928ms\n",
      "193:\tlearn: 0.2152110\ttotal: 223ms\tremaining: 926ms\n",
      "194:\tlearn: 0.2145836\ttotal: 224ms\tremaining: 923ms\n",
      "195:\tlearn: 0.2140880\ttotal: 224ms\tremaining: 920ms\n",
      "196:\tlearn: 0.2135473\ttotal: 225ms\tremaining: 918ms\n",
      "197:\tlearn: 0.2130673\ttotal: 226ms\tremaining: 915ms\n",
      "198:\tlearn: 0.2126294\ttotal: 227ms\tremaining: 913ms\n",
      "199:\tlearn: 0.2116340\ttotal: 228ms\tremaining: 910ms\n",
      "200:\tlearn: 0.2112520\ttotal: 228ms\tremaining: 908ms\n",
      "201:\tlearn: 0.2107533\ttotal: 229ms\tremaining: 905ms\n",
      "202:\tlearn: 0.2102833\ttotal: 230ms\tremaining: 903ms\n",
      "203:\tlearn: 0.2097356\ttotal: 231ms\tremaining: 901ms\n",
      "204:\tlearn: 0.2092446\ttotal: 232ms\tremaining: 899ms\n",
      "205:\tlearn: 0.2083327\ttotal: 233ms\tremaining: 896ms\n",
      "206:\tlearn: 0.2079395\ttotal: 233ms\tremaining: 894ms\n",
      "207:\tlearn: 0.2076325\ttotal: 234ms\tremaining: 891ms\n",
      "208:\tlearn: 0.2072962\ttotal: 235ms\tremaining: 889ms\n",
      "209:\tlearn: 0.2070205\ttotal: 236ms\tremaining: 886ms\n",
      "210:\tlearn: 0.2065471\ttotal: 236ms\tremaining: 884ms\n",
      "211:\tlearn: 0.2057042\ttotal: 237ms\tremaining: 882ms\n",
      "212:\tlearn: 0.2051645\ttotal: 238ms\tremaining: 880ms\n",
      "213:\tlearn: 0.2045434\ttotal: 239ms\tremaining: 877ms\n",
      "214:\tlearn: 0.2040441\ttotal: 240ms\tremaining: 875ms\n",
      "215:\tlearn: 0.2034435\ttotal: 240ms\tremaining: 873ms\n",
      "216:\tlearn: 0.2029772\ttotal: 241ms\tremaining: 871ms\n",
      "217:\tlearn: 0.2023201\ttotal: 242ms\tremaining: 869ms\n",
      "218:\tlearn: 0.2014650\ttotal: 243ms\tremaining: 866ms\n",
      "219:\tlearn: 0.2008630\ttotal: 244ms\tremaining: 865ms\n",
      "220:\tlearn: 0.2005004\ttotal: 244ms\tremaining: 861ms\n",
      "221:\tlearn: 0.1998220\ttotal: 245ms\tremaining: 860ms\n",
      "222:\tlearn: 0.1994195\ttotal: 246ms\tremaining: 858ms\n",
      "223:\tlearn: 0.1989047\ttotal: 247ms\tremaining: 855ms\n",
      "224:\tlearn: 0.1982691\ttotal: 248ms\tremaining: 853ms\n",
      "225:\tlearn: 0.1976498\ttotal: 248ms\tremaining: 851ms\n",
      "226:\tlearn: 0.1970826\ttotal: 249ms\tremaining: 849ms\n",
      "227:\tlearn: 0.1963935\ttotal: 250ms\tremaining: 847ms\n",
      "228:\tlearn: 0.1959904\ttotal: 251ms\tremaining: 845ms\n",
      "229:\tlearn: 0.1954678\ttotal: 252ms\tremaining: 843ms\n",
      "230:\tlearn: 0.1950544\ttotal: 253ms\tremaining: 841ms\n",
      "231:\tlearn: 0.1944023\ttotal: 253ms\tremaining: 839ms\n",
      "232:\tlearn: 0.1937654\ttotal: 254ms\tremaining: 837ms\n",
      "233:\tlearn: 0.1932603\ttotal: 255ms\tremaining: 835ms\n",
      "234:\tlearn: 0.1924661\ttotal: 256ms\tremaining: 833ms\n",
      "235:\tlearn: 0.1918584\ttotal: 257ms\tremaining: 831ms\n",
      "236:\tlearn: 0.1913448\ttotal: 257ms\tremaining: 828ms\n",
      "237:\tlearn: 0.1909516\ttotal: 258ms\tremaining: 827ms\n",
      "238:\tlearn: 0.1905539\ttotal: 259ms\tremaining: 825ms\n",
      "239:\tlearn: 0.1899894\ttotal: 260ms\tremaining: 823ms\n",
      "240:\tlearn: 0.1892202\ttotal: 261ms\tremaining: 821ms\n",
      "241:\tlearn: 0.1887915\ttotal: 261ms\tremaining: 819ms\n",
      "242:\tlearn: 0.1882004\ttotal: 262ms\tremaining: 817ms\n",
      "243:\tlearn: 0.1876234\ttotal: 263ms\tremaining: 816ms\n",
      "244:\tlearn: 0.1872572\ttotal: 264ms\tremaining: 813ms\n",
      "245:\tlearn: 0.1867132\ttotal: 265ms\tremaining: 811ms\n",
      "246:\tlearn: 0.1862673\ttotal: 266ms\tremaining: 809ms\n",
      "247:\tlearn: 0.1859340\ttotal: 266ms\tremaining: 808ms\n",
      "248:\tlearn: 0.1854596\ttotal: 267ms\tremaining: 805ms\n",
      "249:\tlearn: 0.1849133\ttotal: 268ms\tremaining: 804ms\n",
      "250:\tlearn: 0.1844502\ttotal: 269ms\tremaining: 802ms\n",
      "251:\tlearn: 0.1839547\ttotal: 269ms\tremaining: 800ms\n",
      "252:\tlearn: 0.1833674\ttotal: 271ms\tremaining: 800ms\n",
      "253:\tlearn: 0.1828600\ttotal: 272ms\tremaining: 798ms\n",
      "254:\tlearn: 0.1822836\ttotal: 273ms\tremaining: 796ms\n",
      "255:\tlearn: 0.1819055\ttotal: 273ms\tremaining: 794ms\n",
      "256:\tlearn: 0.1813849\ttotal: 274ms\tremaining: 793ms\n",
      "257:\tlearn: 0.1808806\ttotal: 275ms\tremaining: 791ms\n",
      "258:\tlearn: 0.1805902\ttotal: 276ms\tremaining: 789ms\n",
      "259:\tlearn: 0.1799742\ttotal: 277ms\tremaining: 787ms\n",
      "260:\tlearn: 0.1794530\ttotal: 277ms\tremaining: 785ms\n",
      "261:\tlearn: 0.1790249\ttotal: 278ms\tremaining: 784ms\n",
      "262:\tlearn: 0.1786700\ttotal: 279ms\tremaining: 782ms\n",
      "263:\tlearn: 0.1783790\ttotal: 280ms\tremaining: 781ms\n",
      "264:\tlearn: 0.1780131\ttotal: 281ms\tremaining: 779ms\n",
      "265:\tlearn: 0.1777618\ttotal: 282ms\tremaining: 777ms\n",
      "266:\tlearn: 0.1772598\ttotal: 282ms\tremaining: 775ms\n",
      "267:\tlearn: 0.1770596\ttotal: 283ms\tremaining: 774ms\n",
      "268:\tlearn: 0.1768157\ttotal: 284ms\tremaining: 772ms\n",
      "269:\tlearn: 0.1765577\ttotal: 285ms\tremaining: 771ms\n",
      "270:\tlearn: 0.1761520\ttotal: 286ms\tremaining: 769ms\n",
      "271:\tlearn: 0.1759654\ttotal: 287ms\tremaining: 768ms\n",
      "272:\tlearn: 0.1753634\ttotal: 288ms\tremaining: 766ms\n",
      "273:\tlearn: 0.1748047\ttotal: 289ms\tremaining: 765ms\n",
      "274:\tlearn: 0.1744927\ttotal: 289ms\tremaining: 763ms\n",
      "275:\tlearn: 0.1740377\ttotal: 290ms\tremaining: 761ms\n",
      "276:\tlearn: 0.1734591\ttotal: 291ms\tremaining: 759ms\n",
      "277:\tlearn: 0.1731224\ttotal: 292ms\tremaining: 757ms\n",
      "278:\tlearn: 0.1726660\ttotal: 292ms\tremaining: 755ms\n",
      "279:\tlearn: 0.1722334\ttotal: 293ms\tremaining: 754ms\n",
      "280:\tlearn: 0.1717648\ttotal: 294ms\tremaining: 752ms\n",
      "281:\tlearn: 0.1712940\ttotal: 295ms\tremaining: 751ms\n",
      "282:\tlearn: 0.1706912\ttotal: 296ms\tremaining: 749ms\n",
      "283:\tlearn: 0.1701747\ttotal: 296ms\tremaining: 747ms\n"
     ]
    },
    {
     "name": "stdout",
     "output_type": "stream",
     "text": [
      "284:\tlearn: 0.1698389\ttotal: 297ms\tremaining: 746ms\n",
      "285:\tlearn: 0.1694961\ttotal: 298ms\tremaining: 745ms\n",
      "286:\tlearn: 0.1693360\ttotal: 299ms\tremaining: 743ms\n",
      "287:\tlearn: 0.1686409\ttotal: 300ms\tremaining: 742ms\n",
      "288:\tlearn: 0.1681123\ttotal: 301ms\tremaining: 740ms\n",
      "289:\tlearn: 0.1679113\ttotal: 302ms\tremaining: 740ms\n",
      "290:\tlearn: 0.1676150\ttotal: 303ms\tremaining: 738ms\n",
      "291:\tlearn: 0.1668990\ttotal: 304ms\tremaining: 736ms\n",
      "292:\tlearn: 0.1667331\ttotal: 304ms\tremaining: 735ms\n",
      "293:\tlearn: 0.1661497\ttotal: 305ms\tremaining: 733ms\n",
      "294:\tlearn: 0.1656425\ttotal: 306ms\tremaining: 732ms\n",
      "295:\tlearn: 0.1652133\ttotal: 307ms\tremaining: 730ms\n",
      "296:\tlearn: 0.1648246\ttotal: 308ms\tremaining: 729ms\n",
      "297:\tlearn: 0.1645843\ttotal: 309ms\tremaining: 727ms\n",
      "298:\tlearn: 0.1640643\ttotal: 310ms\tremaining: 726ms\n",
      "299:\tlearn: 0.1635360\ttotal: 310ms\tremaining: 724ms\n",
      "300:\tlearn: 0.1630620\ttotal: 311ms\tremaining: 722ms\n",
      "301:\tlearn: 0.1627384\ttotal: 312ms\tremaining: 721ms\n",
      "302:\tlearn: 0.1621205\ttotal: 313ms\tremaining: 719ms\n",
      "303:\tlearn: 0.1617436\ttotal: 314ms\tremaining: 718ms\n",
      "304:\tlearn: 0.1613257\ttotal: 314ms\tremaining: 716ms\n",
      "305:\tlearn: 0.1609089\ttotal: 315ms\tremaining: 715ms\n",
      "306:\tlearn: 0.1605643\ttotal: 316ms\tremaining: 713ms\n",
      "307:\tlearn: 0.1602443\ttotal: 317ms\tremaining: 712ms\n",
      "308:\tlearn: 0.1598467\ttotal: 318ms\tremaining: 711ms\n",
      "309:\tlearn: 0.1593753\ttotal: 319ms\tremaining: 709ms\n",
      "310:\tlearn: 0.1591764\ttotal: 320ms\tremaining: 708ms\n",
      "311:\tlearn: 0.1587063\ttotal: 320ms\tremaining: 707ms\n",
      "312:\tlearn: 0.1581396\ttotal: 321ms\tremaining: 705ms\n",
      "313:\tlearn: 0.1576819\ttotal: 322ms\tremaining: 704ms\n",
      "314:\tlearn: 0.1572505\ttotal: 323ms\tremaining: 703ms\n",
      "315:\tlearn: 0.1566976\ttotal: 324ms\tremaining: 701ms\n",
      "316:\tlearn: 0.1562061\ttotal: 325ms\tremaining: 700ms\n",
      "317:\tlearn: 0.1556860\ttotal: 326ms\tremaining: 698ms\n",
      "318:\tlearn: 0.1555018\ttotal: 326ms\tremaining: 697ms\n",
      "319:\tlearn: 0.1551730\ttotal: 327ms\tremaining: 695ms\n",
      "320:\tlearn: 0.1547848\ttotal: 328ms\tremaining: 694ms\n",
      "321:\tlearn: 0.1544187\ttotal: 329ms\tremaining: 692ms\n",
      "322:\tlearn: 0.1539558\ttotal: 330ms\tremaining: 691ms\n",
      "323:\tlearn: 0.1536275\ttotal: 331ms\tremaining: 690ms\n",
      "324:\tlearn: 0.1531526\ttotal: 331ms\tremaining: 688ms\n",
      "325:\tlearn: 0.1528467\ttotal: 332ms\tremaining: 687ms\n",
      "326:\tlearn: 0.1522720\ttotal: 333ms\tremaining: 685ms\n",
      "327:\tlearn: 0.1518737\ttotal: 334ms\tremaining: 684ms\n",
      "328:\tlearn: 0.1515893\ttotal: 335ms\tremaining: 683ms\n",
      "329:\tlearn: 0.1512425\ttotal: 336ms\tremaining: 681ms\n",
      "330:\tlearn: 0.1508515\ttotal: 336ms\tremaining: 680ms\n",
      "331:\tlearn: 0.1504276\ttotal: 337ms\tremaining: 678ms\n",
      "332:\tlearn: 0.1501588\ttotal: 338ms\tremaining: 677ms\n",
      "333:\tlearn: 0.1498889\ttotal: 339ms\tremaining: 676ms\n",
      "334:\tlearn: 0.1494541\ttotal: 340ms\tremaining: 675ms\n",
      "335:\tlearn: 0.1490906\ttotal: 341ms\tremaining: 673ms\n",
      "336:\tlearn: 0.1486975\ttotal: 342ms\tremaining: 672ms\n",
      "337:\tlearn: 0.1483829\ttotal: 342ms\tremaining: 671ms\n",
      "338:\tlearn: 0.1479853\ttotal: 343ms\tremaining: 669ms\n",
      "339:\tlearn: 0.1477147\ttotal: 344ms\tremaining: 668ms\n",
      "340:\tlearn: 0.1473340\ttotal: 345ms\tremaining: 667ms\n",
      "341:\tlearn: 0.1469646\ttotal: 346ms\tremaining: 665ms\n",
      "342:\tlearn: 0.1467099\ttotal: 346ms\tremaining: 664ms\n",
      "343:\tlearn: 0.1463280\ttotal: 347ms\tremaining: 662ms\n",
      "344:\tlearn: 0.1459477\ttotal: 348ms\tremaining: 661ms\n",
      "345:\tlearn: 0.1455016\ttotal: 349ms\tremaining: 659ms\n",
      "346:\tlearn: 0.1451706\ttotal: 350ms\tremaining: 658ms\n",
      "347:\tlearn: 0.1448684\ttotal: 351ms\tremaining: 657ms\n",
      "348:\tlearn: 0.1443909\ttotal: 351ms\tremaining: 655ms\n",
      "349:\tlearn: 0.1439988\ttotal: 352ms\tremaining: 654ms\n",
      "350:\tlearn: 0.1435732\ttotal: 353ms\tremaining: 653ms\n",
      "351:\tlearn: 0.1433789\ttotal: 354ms\tremaining: 651ms\n",
      "352:\tlearn: 0.1432120\ttotal: 355ms\tremaining: 650ms\n",
      "353:\tlearn: 0.1429126\ttotal: 355ms\tremaining: 648ms\n",
      "354:\tlearn: 0.1426862\ttotal: 356ms\tremaining: 647ms\n",
      "355:\tlearn: 0.1424424\ttotal: 357ms\tremaining: 645ms\n",
      "356:\tlearn: 0.1422132\ttotal: 358ms\tremaining: 644ms\n",
      "357:\tlearn: 0.1419819\ttotal: 358ms\tremaining: 643ms\n",
      "358:\tlearn: 0.1417439\ttotal: 359ms\tremaining: 641ms\n",
      "359:\tlearn: 0.1413918\ttotal: 360ms\tremaining: 640ms\n",
      "360:\tlearn: 0.1409729\ttotal: 361ms\tremaining: 639ms\n",
      "361:\tlearn: 0.1406314\ttotal: 362ms\tremaining: 638ms\n",
      "362:\tlearn: 0.1402395\ttotal: 363ms\tremaining: 636ms\n",
      "363:\tlearn: 0.1399800\ttotal: 363ms\tremaining: 635ms\n",
      "364:\tlearn: 0.1397648\ttotal: 364ms\tremaining: 633ms\n",
      "365:\tlearn: 0.1394304\ttotal: 365ms\tremaining: 632ms\n",
      "366:\tlearn: 0.1390881\ttotal: 366ms\tremaining: 631ms\n",
      "367:\tlearn: 0.1387097\ttotal: 367ms\tremaining: 630ms\n",
      "368:\tlearn: 0.1382701\ttotal: 367ms\tremaining: 628ms\n",
      "369:\tlearn: 0.1381763\ttotal: 368ms\tremaining: 627ms\n",
      "370:\tlearn: 0.1378182\ttotal: 369ms\tremaining: 626ms\n",
      "371:\tlearn: 0.1373840\ttotal: 370ms\tremaining: 624ms\n",
      "372:\tlearn: 0.1370974\ttotal: 371ms\tremaining: 623ms\n",
      "373:\tlearn: 0.1367730\ttotal: 371ms\tremaining: 621ms\n",
      "374:\tlearn: 0.1366720\ttotal: 372ms\tremaining: 620ms\n",
      "375:\tlearn: 0.1363423\ttotal: 373ms\tremaining: 619ms\n",
      "376:\tlearn: 0.1359850\ttotal: 374ms\tremaining: 617ms\n",
      "377:\tlearn: 0.1355708\ttotal: 374ms\tremaining: 616ms\n",
      "378:\tlearn: 0.1353159\ttotal: 375ms\tremaining: 615ms\n",
      "379:\tlearn: 0.1350072\ttotal: 376ms\tremaining: 614ms\n",
      "380:\tlearn: 0.1347878\ttotal: 377ms\tremaining: 612ms\n",
      "381:\tlearn: 0.1344583\ttotal: 378ms\tremaining: 611ms\n",
      "382:\tlearn: 0.1342243\ttotal: 379ms\tremaining: 610ms\n",
      "383:\tlearn: 0.1339109\ttotal: 379ms\tremaining: 609ms\n",
      "384:\tlearn: 0.1334977\ttotal: 380ms\tremaining: 607ms\n",
      "385:\tlearn: 0.1333342\ttotal: 381ms\tremaining: 606ms\n"
     ]
    },
    {
     "name": "stdout",
     "output_type": "stream",
     "text": [
      "386:\tlearn: 0.1329398\ttotal: 382ms\tremaining: 605ms\n",
      "387:\tlearn: 0.1325704\ttotal: 383ms\tremaining: 604ms\n",
      "388:\tlearn: 0.1324116\ttotal: 384ms\tremaining: 603ms\n",
      "389:\tlearn: 0.1321497\ttotal: 385ms\tremaining: 602ms\n",
      "390:\tlearn: 0.1318670\ttotal: 386ms\tremaining: 600ms\n",
      "391:\tlearn: 0.1316093\ttotal: 386ms\tremaining: 599ms\n",
      "392:\tlearn: 0.1313134\ttotal: 387ms\tremaining: 598ms\n",
      "393:\tlearn: 0.1310132\ttotal: 388ms\tremaining: 597ms\n",
      "394:\tlearn: 0.1307313\ttotal: 389ms\tremaining: 595ms\n",
      "395:\tlearn: 0.1305224\ttotal: 390ms\tremaining: 594ms\n",
      "396:\tlearn: 0.1300927\ttotal: 391ms\tremaining: 593ms\n",
      "397:\tlearn: 0.1297763\ttotal: 391ms\tremaining: 592ms\n",
      "398:\tlearn: 0.1296263\ttotal: 392ms\tremaining: 591ms\n",
      "399:\tlearn: 0.1294377\ttotal: 393ms\tremaining: 590ms\n",
      "400:\tlearn: 0.1291851\ttotal: 394ms\tremaining: 588ms\n",
      "401:\tlearn: 0.1289720\ttotal: 395ms\tremaining: 587ms\n",
      "402:\tlearn: 0.1286040\ttotal: 396ms\tremaining: 586ms\n",
      "403:\tlearn: 0.1282823\ttotal: 396ms\tremaining: 585ms\n",
      "404:\tlearn: 0.1281613\ttotal: 397ms\tremaining: 583ms\n",
      "405:\tlearn: 0.1279520\ttotal: 398ms\tremaining: 582ms\n",
      "406:\tlearn: 0.1278017\ttotal: 399ms\tremaining: 581ms\n",
      "407:\tlearn: 0.1275312\ttotal: 400ms\tremaining: 580ms\n",
      "408:\tlearn: 0.1272580\ttotal: 401ms\tremaining: 579ms\n",
      "409:\tlearn: 0.1270275\ttotal: 402ms\tremaining: 578ms\n",
      "410:\tlearn: 0.1266132\ttotal: 402ms\tremaining: 577ms\n",
      "411:\tlearn: 0.1263108\ttotal: 403ms\tremaining: 575ms\n",
      "412:\tlearn: 0.1259627\ttotal: 404ms\tremaining: 574ms\n",
      "413:\tlearn: 0.1256226\ttotal: 405ms\tremaining: 573ms\n",
      "414:\tlearn: 0.1252630\ttotal: 406ms\tremaining: 572ms\n",
      "415:\tlearn: 0.1250630\ttotal: 407ms\tremaining: 571ms\n",
      "416:\tlearn: 0.1246905\ttotal: 407ms\tremaining: 570ms\n",
      "417:\tlearn: 0.1243348\ttotal: 408ms\tremaining: 569ms\n",
      "418:\tlearn: 0.1240267\ttotal: 409ms\tremaining: 568ms\n",
      "419:\tlearn: 0.1237258\ttotal: 410ms\tremaining: 566ms\n",
      "420:\tlearn: 0.1234414\ttotal: 411ms\tremaining: 565ms\n",
      "421:\tlearn: 0.1231344\ttotal: 412ms\tremaining: 564ms\n",
      "422:\tlearn: 0.1230301\ttotal: 413ms\tremaining: 563ms\n",
      "423:\tlearn: 0.1228269\ttotal: 413ms\tremaining: 562ms\n",
      "424:\tlearn: 0.1225962\ttotal: 414ms\tremaining: 560ms\n",
      "425:\tlearn: 0.1223764\ttotal: 415ms\tremaining: 559ms\n",
      "426:\tlearn: 0.1221697\ttotal: 416ms\tremaining: 558ms\n",
      "427:\tlearn: 0.1218330\ttotal: 417ms\tremaining: 557ms\n",
      "428:\tlearn: 0.1215227\ttotal: 417ms\tremaining: 555ms\n",
      "429:\tlearn: 0.1212773\ttotal: 418ms\tremaining: 554ms\n",
      "430:\tlearn: 0.1210457\ttotal: 419ms\tremaining: 553ms\n",
      "431:\tlearn: 0.1209473\ttotal: 420ms\tremaining: 552ms\n",
      "432:\tlearn: 0.1207283\ttotal: 421ms\tremaining: 551ms\n",
      "433:\tlearn: 0.1204747\ttotal: 421ms\tremaining: 550ms\n",
      "434:\tlearn: 0.1202154\ttotal: 422ms\tremaining: 549ms\n",
      "435:\tlearn: 0.1200617\ttotal: 423ms\tremaining: 547ms\n",
      "436:\tlearn: 0.1199013\ttotal: 424ms\tremaining: 546ms\n",
      "437:\tlearn: 0.1195560\ttotal: 425ms\tremaining: 545ms\n",
      "438:\tlearn: 0.1192763\ttotal: 426ms\tremaining: 544ms\n",
      "439:\tlearn: 0.1190749\ttotal: 426ms\tremaining: 543ms\n",
      "440:\tlearn: 0.1187468\ttotal: 427ms\tremaining: 542ms\n",
      "441:\tlearn: 0.1185168\ttotal: 428ms\tremaining: 541ms\n",
      "442:\tlearn: 0.1182695\ttotal: 429ms\tremaining: 540ms\n",
      "443:\tlearn: 0.1181331\ttotal: 430ms\tremaining: 538ms\n",
      "444:\tlearn: 0.1178988\ttotal: 431ms\tremaining: 537ms\n",
      "445:\tlearn: 0.1176724\ttotal: 431ms\tremaining: 536ms\n",
      "446:\tlearn: 0.1174096\ttotal: 432ms\tremaining: 535ms\n",
      "447:\tlearn: 0.1172507\ttotal: 433ms\tremaining: 534ms\n",
      "448:\tlearn: 0.1170606\ttotal: 434ms\tremaining: 533ms\n",
      "449:\tlearn: 0.1166966\ttotal: 435ms\tremaining: 532ms\n",
      "450:\tlearn: 0.1163442\ttotal: 436ms\tremaining: 531ms\n",
      "451:\tlearn: 0.1160473\ttotal: 437ms\tremaining: 529ms\n",
      "452:\tlearn: 0.1157342\ttotal: 437ms\tremaining: 528ms\n",
      "453:\tlearn: 0.1154530\ttotal: 438ms\tremaining: 527ms\n",
      "454:\tlearn: 0.1151864\ttotal: 439ms\tremaining: 526ms\n",
      "455:\tlearn: 0.1150183\ttotal: 440ms\tremaining: 525ms\n",
      "456:\tlearn: 0.1147921\ttotal: 441ms\tremaining: 524ms\n",
      "457:\tlearn: 0.1145675\ttotal: 442ms\tremaining: 523ms\n",
      "458:\tlearn: 0.1143490\ttotal: 443ms\tremaining: 522ms\n",
      "459:\tlearn: 0.1141641\ttotal: 444ms\tremaining: 521ms\n",
      "460:\tlearn: 0.1138699\ttotal: 445ms\tremaining: 520ms\n",
      "461:\tlearn: 0.1137028\ttotal: 446ms\tremaining: 519ms\n",
      "462:\tlearn: 0.1134985\ttotal: 447ms\tremaining: 518ms\n",
      "463:\tlearn: 0.1134274\ttotal: 447ms\tremaining: 517ms\n",
      "464:\tlearn: 0.1131360\ttotal: 448ms\tremaining: 515ms\n",
      "465:\tlearn: 0.1128110\ttotal: 449ms\tremaining: 514ms\n",
      "466:\tlearn: 0.1126543\ttotal: 450ms\tremaining: 513ms\n",
      "467:\tlearn: 0.1123958\ttotal: 450ms\tremaining: 512ms\n",
      "468:\tlearn: 0.1122718\ttotal: 451ms\tremaining: 511ms\n",
      "469:\tlearn: 0.1120718\ttotal: 452ms\tremaining: 510ms\n",
      "470:\tlearn: 0.1117412\ttotal: 453ms\tremaining: 509ms\n",
      "471:\tlearn: 0.1115212\ttotal: 454ms\tremaining: 507ms\n",
      "472:\tlearn: 0.1113763\ttotal: 454ms\tremaining: 506ms\n",
      "473:\tlearn: 0.1112244\ttotal: 455ms\tremaining: 505ms\n",
      "474:\tlearn: 0.1109348\ttotal: 456ms\tremaining: 504ms\n",
      "475:\tlearn: 0.1107286\ttotal: 457ms\tremaining: 503ms\n",
      "476:\tlearn: 0.1104021\ttotal: 458ms\tremaining: 502ms\n",
      "477:\tlearn: 0.1100995\ttotal: 458ms\tremaining: 501ms\n",
      "478:\tlearn: 0.1099235\ttotal: 459ms\tremaining: 499ms\n",
      "479:\tlearn: 0.1097324\ttotal: 460ms\tremaining: 498ms\n",
      "480:\tlearn: 0.1095917\ttotal: 461ms\tremaining: 497ms\n",
      "481:\tlearn: 0.1093675\ttotal: 462ms\tremaining: 497ms\n",
      "482:\tlearn: 0.1091966\ttotal: 463ms\tremaining: 496ms\n",
      "483:\tlearn: 0.1090967\ttotal: 464ms\tremaining: 495ms\n",
      "484:\tlearn: 0.1089327\ttotal: 465ms\tremaining: 494ms\n",
      "485:\tlearn: 0.1086741\ttotal: 466ms\tremaining: 492ms\n",
      "486:\tlearn: 0.1084905\ttotal: 466ms\tremaining: 491ms\n",
      "487:\tlearn: 0.1082338\ttotal: 467ms\tremaining: 490ms\n",
      "488:\tlearn: 0.1079321\ttotal: 468ms\tremaining: 489ms\n",
      "489:\tlearn: 0.1077185\ttotal: 469ms\tremaining: 488ms\n",
      "490:\tlearn: 0.1075004\ttotal: 471ms\tremaining: 488ms\n",
      "491:\tlearn: 0.1074380\ttotal: 471ms\tremaining: 487ms\n",
      "492:\tlearn: 0.1071893\ttotal: 472ms\tremaining: 485ms\n",
      "493:\tlearn: 0.1070261\ttotal: 473ms\tremaining: 484ms\n",
      "494:\tlearn: 0.1067948\ttotal: 474ms\tremaining: 483ms\n",
      "495:\tlearn: 0.1064817\ttotal: 475ms\tremaining: 482ms\n",
      "496:\tlearn: 0.1062337\ttotal: 475ms\tremaining: 481ms\n",
      "497:\tlearn: 0.1060362\ttotal: 476ms\tremaining: 480ms\n",
      "498:\tlearn: 0.1058320\ttotal: 477ms\tremaining: 479ms\n",
      "499:\tlearn: 0.1056972\ttotal: 478ms\tremaining: 478ms\n",
      "500:\tlearn: 0.1055088\ttotal: 478ms\tremaining: 476ms\n",
      "501:\tlearn: 0.1052910\ttotal: 479ms\tremaining: 475ms\n",
      "502:\tlearn: 0.1051357\ttotal: 480ms\tremaining: 474ms\n",
      "503:\tlearn: 0.1048932\ttotal: 481ms\tremaining: 473ms\n",
      "504:\tlearn: 0.1046190\ttotal: 482ms\tremaining: 472ms\n",
      "505:\tlearn: 0.1044477\ttotal: 482ms\tremaining: 471ms\n",
      "506:\tlearn: 0.1043042\ttotal: 483ms\tremaining: 470ms\n",
      "507:\tlearn: 0.1041367\ttotal: 484ms\tremaining: 469ms\n",
      "508:\tlearn: 0.1039029\ttotal: 485ms\tremaining: 468ms\n",
      "509:\tlearn: 0.1037713\ttotal: 485ms\tremaining: 466ms\n",
      "510:\tlearn: 0.1035783\ttotal: 486ms\tremaining: 465ms\n",
      "511:\tlearn: 0.1034148\ttotal: 487ms\tremaining: 464ms\n"
     ]
    },
    {
     "name": "stdout",
     "output_type": "stream",
     "text": [
      "512:\tlearn: 0.1032922\ttotal: 488ms\tremaining: 463ms\n",
      "513:\tlearn: 0.1031691\ttotal: 489ms\tremaining: 462ms\n",
      "514:\tlearn: 0.1030098\ttotal: 490ms\tremaining: 461ms\n",
      "515:\tlearn: 0.1029091\ttotal: 491ms\tremaining: 460ms\n",
      "516:\tlearn: 0.1026480\ttotal: 491ms\tremaining: 459ms\n",
      "517:\tlearn: 0.1023676\ttotal: 492ms\tremaining: 458ms\n",
      "518:\tlearn: 0.1021725\ttotal: 493ms\tremaining: 457ms\n",
      "519:\tlearn: 0.1019364\ttotal: 494ms\tremaining: 456ms\n",
      "520:\tlearn: 0.1018102\ttotal: 495ms\tremaining: 455ms\n",
      "521:\tlearn: 0.1016280\ttotal: 496ms\tremaining: 454ms\n",
      "522:\tlearn: 0.1014046\ttotal: 497ms\tremaining: 453ms\n",
      "523:\tlearn: 0.1011340\ttotal: 497ms\tremaining: 452ms\n",
      "524:\tlearn: 0.1008932\ttotal: 498ms\tremaining: 451ms\n",
      "525:\tlearn: 0.1006297\ttotal: 499ms\tremaining: 450ms\n",
      "526:\tlearn: 0.1004032\ttotal: 500ms\tremaining: 449ms\n",
      "527:\tlearn: 0.1002472\ttotal: 501ms\tremaining: 448ms\n",
      "528:\tlearn: 0.0999124\ttotal: 501ms\tremaining: 446ms\n",
      "529:\tlearn: 0.0996706\ttotal: 502ms\tremaining: 445ms\n",
      "530:\tlearn: 0.0995333\ttotal: 503ms\tremaining: 444ms\n",
      "531:\tlearn: 0.0992798\ttotal: 504ms\tremaining: 443ms\n",
      "532:\tlearn: 0.0990544\ttotal: 505ms\tremaining: 442ms\n",
      "533:\tlearn: 0.0989842\ttotal: 506ms\tremaining: 441ms\n",
      "534:\tlearn: 0.0986665\ttotal: 507ms\tremaining: 440ms\n",
      "535:\tlearn: 0.0984198\ttotal: 508ms\tremaining: 439ms\n",
      "536:\tlearn: 0.0982608\ttotal: 508ms\tremaining: 438ms\n",
      "537:\tlearn: 0.0981205\ttotal: 509ms\tremaining: 437ms\n",
      "538:\tlearn: 0.0978874\ttotal: 510ms\tremaining: 436ms\n",
      "539:\tlearn: 0.0976980\ttotal: 511ms\tremaining: 435ms\n",
      "540:\tlearn: 0.0974846\ttotal: 512ms\tremaining: 434ms\n",
      "541:\tlearn: 0.0972653\ttotal: 513ms\tremaining: 433ms\n",
      "542:\tlearn: 0.0970669\ttotal: 513ms\tremaining: 432ms\n",
      "543:\tlearn: 0.0969756\ttotal: 514ms\tremaining: 431ms\n",
      "544:\tlearn: 0.0967949\ttotal: 515ms\tremaining: 430ms\n",
      "545:\tlearn: 0.0966955\ttotal: 516ms\tremaining: 429ms\n",
      "546:\tlearn: 0.0965321\ttotal: 517ms\tremaining: 428ms\n",
      "547:\tlearn: 0.0962598\ttotal: 518ms\tremaining: 427ms\n",
      "548:\tlearn: 0.0961006\ttotal: 518ms\tremaining: 426ms\n",
      "549:\tlearn: 0.0958468\ttotal: 519ms\tremaining: 425ms\n",
      "550:\tlearn: 0.0956667\ttotal: 520ms\tremaining: 424ms\n",
      "551:\tlearn: 0.0955892\ttotal: 521ms\tremaining: 423ms\n",
      "552:\tlearn: 0.0954666\ttotal: 522ms\tremaining: 422ms\n",
      "553:\tlearn: 0.0952457\ttotal: 523ms\tremaining: 421ms\n",
      "554:\tlearn: 0.0950244\ttotal: 523ms\tremaining: 420ms\n",
      "555:\tlearn: 0.0947978\ttotal: 524ms\tremaining: 419ms\n",
      "556:\tlearn: 0.0946723\ttotal: 525ms\tremaining: 418ms\n",
      "557:\tlearn: 0.0944711\ttotal: 526ms\tremaining: 417ms\n",
      "558:\tlearn: 0.0942457\ttotal: 527ms\tremaining: 416ms\n",
      "559:\tlearn: 0.0940500\ttotal: 528ms\tremaining: 415ms\n",
      "560:\tlearn: 0.0938713\ttotal: 529ms\tremaining: 414ms\n",
      "561:\tlearn: 0.0937712\ttotal: 529ms\tremaining: 413ms\n",
      "562:\tlearn: 0.0935892\ttotal: 530ms\tremaining: 412ms\n",
      "563:\tlearn: 0.0933982\ttotal: 531ms\tremaining: 411ms\n",
      "564:\tlearn: 0.0932022\ttotal: 532ms\tremaining: 410ms\n",
      "565:\tlearn: 0.0930620\ttotal: 533ms\tremaining: 409ms\n",
      "566:\tlearn: 0.0929363\ttotal: 534ms\tremaining: 407ms\n",
      "567:\tlearn: 0.0927187\ttotal: 534ms\tremaining: 406ms\n",
      "568:\tlearn: 0.0925251\ttotal: 535ms\tremaining: 405ms\n",
      "569:\tlearn: 0.0924730\ttotal: 536ms\tremaining: 404ms\n",
      "570:\tlearn: 0.0922369\ttotal: 537ms\tremaining: 403ms\n",
      "571:\tlearn: 0.0920154\ttotal: 538ms\tremaining: 402ms\n",
      "572:\tlearn: 0.0919216\ttotal: 538ms\tremaining: 401ms\n",
      "573:\tlearn: 0.0917510\ttotal: 539ms\tremaining: 400ms\n",
      "574:\tlearn: 0.0915505\ttotal: 540ms\tremaining: 399ms\n",
      "575:\tlearn: 0.0913185\ttotal: 541ms\tremaining: 398ms\n",
      "576:\tlearn: 0.0912586\ttotal: 541ms\tremaining: 397ms\n",
      "577:\tlearn: 0.0910241\ttotal: 542ms\tremaining: 396ms\n",
      "578:\tlearn: 0.0909647\ttotal: 543ms\tremaining: 395ms\n",
      "579:\tlearn: 0.0907892\ttotal: 544ms\tremaining: 394ms\n",
      "580:\tlearn: 0.0907376\ttotal: 545ms\tremaining: 393ms\n",
      "581:\tlearn: 0.0904932\ttotal: 546ms\tremaining: 392ms\n",
      "582:\tlearn: 0.0903870\ttotal: 546ms\tremaining: 391ms\n",
      "583:\tlearn: 0.0902178\ttotal: 547ms\tremaining: 390ms\n",
      "584:\tlearn: 0.0900393\ttotal: 548ms\tremaining: 389ms\n",
      "585:\tlearn: 0.0897873\ttotal: 549ms\tremaining: 388ms\n",
      "586:\tlearn: 0.0896260\ttotal: 550ms\tremaining: 387ms\n",
      "587:\tlearn: 0.0894172\ttotal: 550ms\tremaining: 386ms\n",
      "588:\tlearn: 0.0892285\ttotal: 551ms\tremaining: 385ms\n",
      "589:\tlearn: 0.0890195\ttotal: 552ms\tremaining: 384ms\n",
      "590:\tlearn: 0.0889465\ttotal: 553ms\tremaining: 383ms\n",
      "591:\tlearn: 0.0887310\ttotal: 554ms\tremaining: 382ms\n",
      "592:\tlearn: 0.0885563\ttotal: 555ms\tremaining: 381ms\n",
      "593:\tlearn: 0.0883862\ttotal: 556ms\tremaining: 380ms\n",
      "594:\tlearn: 0.0882716\ttotal: 556ms\tremaining: 379ms\n",
      "595:\tlearn: 0.0881342\ttotal: 557ms\tremaining: 378ms\n",
      "596:\tlearn: 0.0879874\ttotal: 558ms\tremaining: 377ms\n",
      "597:\tlearn: 0.0877954\ttotal: 559ms\tremaining: 376ms\n",
      "598:\tlearn: 0.0876930\ttotal: 560ms\tremaining: 375ms\n",
      "599:\tlearn: 0.0875452\ttotal: 560ms\tremaining: 374ms\n",
      "600:\tlearn: 0.0873640\ttotal: 561ms\tremaining: 373ms\n",
      "601:\tlearn: 0.0872388\ttotal: 562ms\tremaining: 372ms\n",
      "602:\tlearn: 0.0871469\ttotal: 563ms\tremaining: 371ms\n",
      "603:\tlearn: 0.0870388\ttotal: 564ms\tremaining: 370ms\n",
      "604:\tlearn: 0.0868749\ttotal: 565ms\tremaining: 369ms\n",
      "605:\tlearn: 0.0867597\ttotal: 565ms\tremaining: 368ms\n",
      "606:\tlearn: 0.0866399\ttotal: 566ms\tremaining: 367ms\n",
      "607:\tlearn: 0.0864445\ttotal: 567ms\tremaining: 366ms\n",
      "608:\tlearn: 0.0863626\ttotal: 568ms\tremaining: 365ms\n",
      "609:\tlearn: 0.0862464\ttotal: 569ms\tremaining: 364ms\n",
      "610:\tlearn: 0.0861427\ttotal: 570ms\tremaining: 363ms\n",
      "611:\tlearn: 0.0859854\ttotal: 570ms\tremaining: 362ms\n",
      "612:\tlearn: 0.0859135\ttotal: 571ms\tremaining: 361ms\n",
      "613:\tlearn: 0.0858855\ttotal: 572ms\tremaining: 360ms\n"
     ]
    },
    {
     "name": "stdout",
     "output_type": "stream",
     "text": [
      "614:\tlearn: 0.0857831\ttotal: 573ms\tremaining: 359ms\n",
      "615:\tlearn: 0.0855839\ttotal: 574ms\tremaining: 358ms\n",
      "616:\tlearn: 0.0854212\ttotal: 575ms\tremaining: 357ms\n",
      "617:\tlearn: 0.0853102\ttotal: 575ms\tremaining: 356ms\n",
      "618:\tlearn: 0.0851952\ttotal: 576ms\tremaining: 355ms\n",
      "619:\tlearn: 0.0851678\ttotal: 577ms\tremaining: 354ms\n",
      "620:\tlearn: 0.0851284\ttotal: 578ms\tremaining: 353ms\n",
      "621:\tlearn: 0.0851023\ttotal: 579ms\tremaining: 352ms\n",
      "622:\tlearn: 0.0850184\ttotal: 580ms\tremaining: 351ms\n",
      "623:\tlearn: 0.0848986\ttotal: 580ms\tremaining: 350ms\n",
      "624:\tlearn: 0.0848009\ttotal: 581ms\tremaining: 349ms\n",
      "625:\tlearn: 0.0846459\ttotal: 582ms\tremaining: 348ms\n",
      "626:\tlearn: 0.0845607\ttotal: 583ms\tremaining: 347ms\n",
      "627:\tlearn: 0.0844347\ttotal: 584ms\tremaining: 346ms\n",
      "628:\tlearn: 0.0842691\ttotal: 585ms\tremaining: 345ms\n",
      "629:\tlearn: 0.0841260\ttotal: 585ms\tremaining: 344ms\n",
      "630:\tlearn: 0.0840245\ttotal: 586ms\tremaining: 343ms\n",
      "631:\tlearn: 0.0839869\ttotal: 587ms\tremaining: 342ms\n",
      "632:\tlearn: 0.0838789\ttotal: 588ms\tremaining: 341ms\n",
      "633:\tlearn: 0.0837827\ttotal: 589ms\tremaining: 340ms\n",
      "634:\tlearn: 0.0837186\ttotal: 590ms\tremaining: 339ms\n",
      "635:\tlearn: 0.0836614\ttotal: 590ms\tremaining: 338ms\n",
      "636:\tlearn: 0.0834751\ttotal: 591ms\tremaining: 337ms\n",
      "637:\tlearn: 0.0833436\ttotal: 592ms\tremaining: 336ms\n",
      "638:\tlearn: 0.0831305\ttotal: 593ms\tremaining: 335ms\n",
      "639:\tlearn: 0.0829724\ttotal: 594ms\tremaining: 334ms\n",
      "640:\tlearn: 0.0828080\ttotal: 595ms\tremaining: 333ms\n",
      "641:\tlearn: 0.0825846\ttotal: 596ms\tremaining: 332ms\n",
      "642:\tlearn: 0.0823945\ttotal: 597ms\tremaining: 331ms\n",
      "643:\tlearn: 0.0823575\ttotal: 597ms\tremaining: 330ms\n",
      "644:\tlearn: 0.0822079\ttotal: 598ms\tremaining: 329ms\n",
      "645:\tlearn: 0.0820595\ttotal: 599ms\tremaining: 328ms\n",
      "646:\tlearn: 0.0819024\ttotal: 600ms\tremaining: 327ms\n",
      "647:\tlearn: 0.0817492\ttotal: 601ms\tremaining: 326ms\n",
      "648:\tlearn: 0.0816386\ttotal: 601ms\tremaining: 325ms\n",
      "649:\tlearn: 0.0816061\ttotal: 602ms\tremaining: 324ms\n",
      "650:\tlearn: 0.0815518\ttotal: 603ms\tremaining: 323ms\n",
      "651:\tlearn: 0.0814952\ttotal: 603ms\tremaining: 322ms\n",
      "652:\tlearn: 0.0813111\ttotal: 604ms\tremaining: 321ms\n",
      "653:\tlearn: 0.0811602\ttotal: 605ms\tremaining: 320ms\n",
      "654:\tlearn: 0.0809679\ttotal: 606ms\tremaining: 319ms\n",
      "655:\tlearn: 0.0808185\ttotal: 607ms\tremaining: 318ms\n",
      "656:\tlearn: 0.0807866\ttotal: 608ms\tremaining: 317ms\n",
      "657:\tlearn: 0.0806958\ttotal: 608ms\tremaining: 316ms\n",
      "658:\tlearn: 0.0805064\ttotal: 609ms\tremaining: 315ms\n",
      "659:\tlearn: 0.0803974\ttotal: 610ms\tremaining: 314ms\n",
      "660:\tlearn: 0.0802716\ttotal: 611ms\tremaining: 313ms\n",
      "661:\tlearn: 0.0801082\ttotal: 612ms\tremaining: 312ms\n",
      "662:\tlearn: 0.0800838\ttotal: 612ms\tremaining: 311ms\n",
      "663:\tlearn: 0.0800421\ttotal: 613ms\tremaining: 310ms\n",
      "664:\tlearn: 0.0799363\ttotal: 614ms\tremaining: 309ms\n",
      "665:\tlearn: 0.0798976\ttotal: 615ms\tremaining: 308ms\n",
      "666:\tlearn: 0.0798873\ttotal: 616ms\tremaining: 307ms\n",
      "667:\tlearn: 0.0798584\ttotal: 617ms\tremaining: 306ms\n",
      "668:\tlearn: 0.0796889\ttotal: 618ms\tremaining: 306ms\n",
      "669:\tlearn: 0.0795009\ttotal: 618ms\tremaining: 305ms\n",
      "670:\tlearn: 0.0793876\ttotal: 619ms\tremaining: 304ms\n",
      "671:\tlearn: 0.0793065\ttotal: 620ms\tremaining: 303ms\n",
      "672:\tlearn: 0.0790896\ttotal: 621ms\tremaining: 302ms\n",
      "673:\tlearn: 0.0790022\ttotal: 621ms\tremaining: 301ms\n",
      "674:\tlearn: 0.0788647\ttotal: 622ms\tremaining: 300ms\n",
      "675:\tlearn: 0.0788433\ttotal: 623ms\tremaining: 299ms\n",
      "676:\tlearn: 0.0787290\ttotal: 624ms\tremaining: 298ms\n",
      "677:\tlearn: 0.0786353\ttotal: 625ms\tremaining: 297ms\n",
      "678:\tlearn: 0.0785385\ttotal: 626ms\tremaining: 296ms\n",
      "679:\tlearn: 0.0784093\ttotal: 626ms\tremaining: 295ms\n",
      "680:\tlearn: 0.0783385\ttotal: 627ms\tremaining: 294ms\n",
      "681:\tlearn: 0.0781495\ttotal: 628ms\tremaining: 293ms\n",
      "682:\tlearn: 0.0781089\ttotal: 629ms\tremaining: 292ms\n",
      "683:\tlearn: 0.0779512\ttotal: 630ms\tremaining: 291ms\n",
      "684:\tlearn: 0.0778332\ttotal: 630ms\tremaining: 290ms\n",
      "685:\tlearn: 0.0776631\ttotal: 631ms\tremaining: 289ms\n",
      "686:\tlearn: 0.0775455\ttotal: 633ms\tremaining: 288ms\n",
      "687:\tlearn: 0.0775315\ttotal: 633ms\tremaining: 287ms\n",
      "688:\tlearn: 0.0774199\ttotal: 634ms\tremaining: 286ms\n",
      "689:\tlearn: 0.0772743\ttotal: 635ms\tremaining: 285ms\n",
      "690:\tlearn: 0.0771887\ttotal: 636ms\tremaining: 284ms\n",
      "691:\tlearn: 0.0770706\ttotal: 636ms\tremaining: 283ms\n",
      "692:\tlearn: 0.0770426\ttotal: 637ms\tremaining: 282ms\n",
      "693:\tlearn: 0.0769169\ttotal: 638ms\tremaining: 281ms\n",
      "694:\tlearn: 0.0768897\ttotal: 639ms\tremaining: 280ms\n",
      "695:\tlearn: 0.0767899\ttotal: 640ms\tremaining: 279ms\n",
      "696:\tlearn: 0.0765973\ttotal: 641ms\tremaining: 278ms\n",
      "697:\tlearn: 0.0764558\ttotal: 641ms\tremaining: 277ms\n",
      "698:\tlearn: 0.0763544\ttotal: 642ms\tremaining: 277ms\n",
      "699:\tlearn: 0.0762581\ttotal: 643ms\tremaining: 276ms\n",
      "700:\tlearn: 0.0760919\ttotal: 644ms\tremaining: 275ms\n",
      "701:\tlearn: 0.0759873\ttotal: 645ms\tremaining: 274ms\n",
      "702:\tlearn: 0.0758279\ttotal: 645ms\tremaining: 273ms\n",
      "703:\tlearn: 0.0756075\ttotal: 646ms\tremaining: 272ms\n",
      "704:\tlearn: 0.0754530\ttotal: 647ms\tremaining: 271ms\n",
      "705:\tlearn: 0.0754196\ttotal: 648ms\tremaining: 270ms\n",
      "706:\tlearn: 0.0753670\ttotal: 649ms\tremaining: 269ms\n",
      "707:\tlearn: 0.0752554\ttotal: 649ms\tremaining: 268ms\n",
      "708:\tlearn: 0.0750990\ttotal: 650ms\tremaining: 267ms\n",
      "709:\tlearn: 0.0750262\ttotal: 651ms\tremaining: 266ms\n",
      "710:\tlearn: 0.0748444\ttotal: 652ms\tremaining: 265ms\n",
      "711:\tlearn: 0.0747730\ttotal: 653ms\tremaining: 264ms\n",
      "712:\tlearn: 0.0746845\ttotal: 653ms\tremaining: 263ms\n",
      "713:\tlearn: 0.0746657\ttotal: 654ms\tremaining: 262ms\n",
      "714:\tlearn: 0.0746472\ttotal: 655ms\tremaining: 261ms\n",
      "715:\tlearn: 0.0745953\ttotal: 656ms\tremaining: 260ms\n",
      "716:\tlearn: 0.0745806\ttotal: 657ms\tremaining: 259ms\n",
      "717:\tlearn: 0.0745228\ttotal: 657ms\tremaining: 258ms\n",
      "718:\tlearn: 0.0743970\ttotal: 658ms\tremaining: 257ms\n",
      "719:\tlearn: 0.0743724\ttotal: 659ms\tremaining: 256ms\n",
      "720:\tlearn: 0.0742508\ttotal: 660ms\tremaining: 255ms\n",
      "721:\tlearn: 0.0741513\ttotal: 661ms\tremaining: 254ms\n",
      "722:\tlearn: 0.0740028\ttotal: 661ms\tremaining: 253ms\n",
      "723:\tlearn: 0.0738908\ttotal: 662ms\tremaining: 252ms\n",
      "724:\tlearn: 0.0737422\ttotal: 663ms\tremaining: 252ms\n",
      "725:\tlearn: 0.0736505\ttotal: 664ms\tremaining: 251ms\n",
      "726:\tlearn: 0.0735049\ttotal: 665ms\tremaining: 250ms\n",
      "727:\tlearn: 0.0733624\ttotal: 666ms\tremaining: 249ms\n",
      "728:\tlearn: 0.0733389\ttotal: 666ms\tremaining: 248ms\n",
      "729:\tlearn: 0.0732610\ttotal: 667ms\tremaining: 247ms\n",
      "730:\tlearn: 0.0731578\ttotal: 668ms\tremaining: 246ms\n",
      "731:\tlearn: 0.0730585\ttotal: 669ms\tremaining: 245ms\n",
      "732:\tlearn: 0.0728793\ttotal: 670ms\tremaining: 244ms\n",
      "733:\tlearn: 0.0728433\ttotal: 671ms\tremaining: 243ms\n",
      "734:\tlearn: 0.0727644\ttotal: 672ms\tremaining: 242ms\n",
      "735:\tlearn: 0.0725989\ttotal: 672ms\tremaining: 241ms\n",
      "736:\tlearn: 0.0724448\ttotal: 673ms\tremaining: 240ms\n",
      "737:\tlearn: 0.0723325\ttotal: 674ms\tremaining: 239ms\n",
      "738:\tlearn: 0.0722391\ttotal: 675ms\tremaining: 238ms\n",
      "739:\tlearn: 0.0722095\ttotal: 676ms\tremaining: 237ms\n",
      "740:\tlearn: 0.0721167\ttotal: 676ms\tremaining: 236ms\n",
      "741:\tlearn: 0.0720759\ttotal: 677ms\tremaining: 236ms\n"
     ]
    },
    {
     "name": "stdout",
     "output_type": "stream",
     "text": [
      "742:\tlearn: 0.0719202\ttotal: 678ms\tremaining: 235ms\n",
      "743:\tlearn: 0.0718326\ttotal: 679ms\tremaining: 234ms\n",
      "744:\tlearn: 0.0717628\ttotal: 680ms\tremaining: 233ms\n",
      "745:\tlearn: 0.0716362\ttotal: 681ms\tremaining: 232ms\n",
      "746:\tlearn: 0.0715325\ttotal: 682ms\tremaining: 231ms\n",
      "747:\tlearn: 0.0714640\ttotal: 683ms\tremaining: 230ms\n",
      "748:\tlearn: 0.0713225\ttotal: 683ms\tremaining: 229ms\n",
      "749:\tlearn: 0.0711443\ttotal: 685ms\tremaining: 228ms\n",
      "750:\tlearn: 0.0710858\ttotal: 685ms\tremaining: 227ms\n",
      "751:\tlearn: 0.0709562\ttotal: 686ms\tremaining: 226ms\n",
      "752:\tlearn: 0.0708998\ttotal: 687ms\tremaining: 225ms\n",
      "753:\tlearn: 0.0707422\ttotal: 688ms\tremaining: 224ms\n",
      "754:\tlearn: 0.0706186\ttotal: 689ms\tremaining: 224ms\n",
      "755:\tlearn: 0.0704747\ttotal: 690ms\tremaining: 223ms\n",
      "756:\tlearn: 0.0704016\ttotal: 690ms\tremaining: 222ms\n",
      "757:\tlearn: 0.0702761\ttotal: 691ms\tremaining: 221ms\n",
      "758:\tlearn: 0.0701502\ttotal: 692ms\tremaining: 220ms\n",
      "759:\tlearn: 0.0700128\ttotal: 693ms\tremaining: 219ms\n",
      "760:\tlearn: 0.0699179\ttotal: 694ms\tremaining: 218ms\n",
      "761:\tlearn: 0.0698034\ttotal: 695ms\tremaining: 217ms\n",
      "762:\tlearn: 0.0697204\ttotal: 696ms\tremaining: 216ms\n",
      "763:\tlearn: 0.0696516\ttotal: 696ms\tremaining: 215ms\n",
      "764:\tlearn: 0.0695643\ttotal: 697ms\tremaining: 214ms\n",
      "765:\tlearn: 0.0693424\ttotal: 698ms\tremaining: 213ms\n",
      "766:\tlearn: 0.0692365\ttotal: 699ms\tremaining: 212ms\n",
      "767:\tlearn: 0.0691469\ttotal: 700ms\tremaining: 211ms\n",
      "768:\tlearn: 0.0691053\ttotal: 700ms\tremaining: 210ms\n",
      "769:\tlearn: 0.0690686\ttotal: 701ms\tremaining: 209ms\n",
      "770:\tlearn: 0.0689851\ttotal: 702ms\tremaining: 208ms\n",
      "771:\tlearn: 0.0688687\ttotal: 703ms\tremaining: 208ms\n",
      "772:\tlearn: 0.0687697\ttotal: 703ms\tremaining: 207ms\n",
      "773:\tlearn: 0.0686348\ttotal: 704ms\tremaining: 206ms\n",
      "774:\tlearn: 0.0685484\ttotal: 705ms\tremaining: 205ms\n",
      "775:\tlearn: 0.0684125\ttotal: 706ms\tremaining: 204ms\n",
      "776:\tlearn: 0.0683359\ttotal: 707ms\tremaining: 203ms\n",
      "777:\tlearn: 0.0682799\ttotal: 707ms\tremaining: 202ms\n",
      "778:\tlearn: 0.0681788\ttotal: 708ms\tremaining: 201ms\n",
      "779:\tlearn: 0.0680204\ttotal: 709ms\tremaining: 200ms\n",
      "780:\tlearn: 0.0679217\ttotal: 710ms\tremaining: 199ms\n",
      "781:\tlearn: 0.0677367\ttotal: 711ms\tremaining: 198ms\n",
      "782:\tlearn: 0.0675956\ttotal: 711ms\tremaining: 197ms\n",
      "783:\tlearn: 0.0675278\ttotal: 712ms\tremaining: 196ms\n",
      "784:\tlearn: 0.0674011\ttotal: 713ms\tremaining: 195ms\n",
      "785:\tlearn: 0.0673536\ttotal: 714ms\tremaining: 194ms\n",
      "786:\tlearn: 0.0671887\ttotal: 715ms\tremaining: 193ms\n",
      "787:\tlearn: 0.0671197\ttotal: 716ms\tremaining: 193ms\n",
      "788:\tlearn: 0.0670680\ttotal: 717ms\tremaining: 192ms\n",
      "789:\tlearn: 0.0669840\ttotal: 717ms\tremaining: 191ms\n",
      "790:\tlearn: 0.0669327\ttotal: 718ms\tremaining: 190ms\n",
      "791:\tlearn: 0.0667928\ttotal: 719ms\tremaining: 189ms\n",
      "792:\tlearn: 0.0666780\ttotal: 720ms\tremaining: 188ms\n",
      "793:\tlearn: 0.0665879\ttotal: 721ms\tremaining: 187ms\n",
      "794:\tlearn: 0.0665453\ttotal: 722ms\tremaining: 186ms\n",
      "795:\tlearn: 0.0664828\ttotal: 722ms\tremaining: 185ms\n",
      "796:\tlearn: 0.0664500\ttotal: 723ms\tremaining: 184ms\n",
      "797:\tlearn: 0.0664211\ttotal: 724ms\tremaining: 183ms\n",
      "798:\tlearn: 0.0663407\ttotal: 725ms\tremaining: 182ms\n",
      "799:\tlearn: 0.0663269\ttotal: 726ms\tremaining: 181ms\n",
      "800:\tlearn: 0.0662461\ttotal: 726ms\tremaining: 180ms\n",
      "801:\tlearn: 0.0662281\ttotal: 727ms\tremaining: 180ms\n",
      "802:\tlearn: 0.0661817\ttotal: 728ms\tremaining: 179ms\n",
      "803:\tlearn: 0.0660470\ttotal: 729ms\tremaining: 178ms\n",
      "804:\tlearn: 0.0658861\ttotal: 730ms\tremaining: 177ms\n",
      "805:\tlearn: 0.0658007\ttotal: 731ms\tremaining: 176ms\n",
      "806:\tlearn: 0.0657680\ttotal: 732ms\tremaining: 175ms\n",
      "807:\tlearn: 0.0656303\ttotal: 732ms\tremaining: 174ms\n",
      "808:\tlearn: 0.0655322\ttotal: 733ms\tremaining: 173ms\n",
      "809:\tlearn: 0.0654145\ttotal: 734ms\tremaining: 172ms\n",
      "810:\tlearn: 0.0653376\ttotal: 735ms\tremaining: 171ms\n",
      "811:\tlearn: 0.0652246\ttotal: 736ms\tremaining: 170ms\n",
      "812:\tlearn: 0.0651806\ttotal: 737ms\tremaining: 169ms\n",
      "813:\tlearn: 0.0650667\ttotal: 737ms\tremaining: 168ms\n",
      "814:\tlearn: 0.0650176\ttotal: 738ms\tremaining: 168ms\n",
      "815:\tlearn: 0.0649191\ttotal: 739ms\tremaining: 167ms\n",
      "816:\tlearn: 0.0647917\ttotal: 740ms\tremaining: 166ms\n",
      "817:\tlearn: 0.0646762\ttotal: 741ms\tremaining: 165ms\n",
      "818:\tlearn: 0.0645053\ttotal: 741ms\tremaining: 164ms\n",
      "819:\tlearn: 0.0643966\ttotal: 742ms\tremaining: 163ms\n",
      "820:\tlearn: 0.0643456\ttotal: 743ms\tremaining: 162ms\n",
      "821:\tlearn: 0.0642380\ttotal: 744ms\tremaining: 161ms\n",
      "822:\tlearn: 0.0641093\ttotal: 745ms\tremaining: 160ms\n",
      "823:\tlearn: 0.0640159\ttotal: 745ms\tremaining: 159ms\n",
      "824:\tlearn: 0.0639303\ttotal: 746ms\tremaining: 158ms\n",
      "825:\tlearn: 0.0638335\ttotal: 747ms\tremaining: 157ms\n",
      "826:\tlearn: 0.0636960\ttotal: 748ms\tremaining: 156ms\n",
      "827:\tlearn: 0.0636190\ttotal: 749ms\tremaining: 156ms\n",
      "828:\tlearn: 0.0634804\ttotal: 749ms\tremaining: 155ms\n",
      "829:\tlearn: 0.0633862\ttotal: 750ms\tremaining: 154ms\n",
      "830:\tlearn: 0.0633452\ttotal: 751ms\tremaining: 153ms\n",
      "831:\tlearn: 0.0632602\ttotal: 752ms\tremaining: 152ms\n",
      "832:\tlearn: 0.0631573\ttotal: 753ms\tremaining: 151ms\n",
      "833:\tlearn: 0.0631201\ttotal: 754ms\tremaining: 150ms\n",
      "834:\tlearn: 0.0630551\ttotal: 754ms\tremaining: 149ms\n",
      "835:\tlearn: 0.0630107\ttotal: 755ms\tremaining: 148ms\n",
      "836:\tlearn: 0.0628878\ttotal: 756ms\tremaining: 147ms\n",
      "837:\tlearn: 0.0627757\ttotal: 757ms\tremaining: 146ms\n",
      "838:\tlearn: 0.0627063\ttotal: 758ms\tremaining: 145ms\n",
      "839:\tlearn: 0.0625877\ttotal: 759ms\tremaining: 144ms\n",
      "840:\tlearn: 0.0624350\ttotal: 759ms\tremaining: 144ms\n",
      "841:\tlearn: 0.0623257\ttotal: 760ms\tremaining: 143ms\n",
      "842:\tlearn: 0.0622909\ttotal: 761ms\tremaining: 142ms\n",
      "843:\tlearn: 0.0622620\ttotal: 762ms\tremaining: 141ms\n",
      "844:\tlearn: 0.0622043\ttotal: 763ms\tremaining: 140ms\n"
     ]
    },
    {
     "name": "stdout",
     "output_type": "stream",
     "text": [
      "845:\tlearn: 0.0621342\ttotal: 764ms\tremaining: 139ms\n",
      "846:\tlearn: 0.0620247\ttotal: 764ms\tremaining: 138ms\n",
      "847:\tlearn: 0.0619275\ttotal: 765ms\tremaining: 137ms\n",
      "848:\tlearn: 0.0617936\ttotal: 766ms\tremaining: 136ms\n",
      "849:\tlearn: 0.0616883\ttotal: 767ms\tremaining: 135ms\n",
      "850:\tlearn: 0.0616374\ttotal: 768ms\tremaining: 134ms\n",
      "851:\tlearn: 0.0614905\ttotal: 769ms\tremaining: 133ms\n",
      "852:\tlearn: 0.0614414\ttotal: 769ms\tremaining: 133ms\n",
      "853:\tlearn: 0.0613312\ttotal: 770ms\tremaining: 132ms\n",
      "854:\tlearn: 0.0612758\ttotal: 771ms\tremaining: 131ms\n",
      "855:\tlearn: 0.0611999\ttotal: 772ms\tremaining: 130ms\n",
      "856:\tlearn: 0.0611612\ttotal: 773ms\tremaining: 129ms\n",
      "857:\tlearn: 0.0611461\ttotal: 774ms\tremaining: 128ms\n",
      "858:\tlearn: 0.0610257\ttotal: 774ms\tremaining: 127ms\n",
      "859:\tlearn: 0.0609795\ttotal: 775ms\tremaining: 126ms\n",
      "860:\tlearn: 0.0608580\ttotal: 776ms\tremaining: 125ms\n",
      "861:\tlearn: 0.0608158\ttotal: 777ms\tremaining: 124ms\n",
      "862:\tlearn: 0.0606734\ttotal: 778ms\tremaining: 123ms\n",
      "863:\tlearn: 0.0606436\ttotal: 778ms\tremaining: 123ms\n",
      "864:\tlearn: 0.0605176\ttotal: 779ms\tremaining: 122ms\n",
      "865:\tlearn: 0.0604342\ttotal: 780ms\tremaining: 121ms\n",
      "866:\tlearn: 0.0603710\ttotal: 781ms\tremaining: 120ms\n",
      "867:\tlearn: 0.0602555\ttotal: 782ms\tremaining: 119ms\n",
      "868:\tlearn: 0.0601581\ttotal: 782ms\tremaining: 118ms\n",
      "869:\tlearn: 0.0600271\ttotal: 783ms\tremaining: 117ms\n",
      "870:\tlearn: 0.0600088\ttotal: 784ms\tremaining: 116ms\n",
      "871:\tlearn: 0.0599856\ttotal: 785ms\tremaining: 115ms\n",
      "872:\tlearn: 0.0599189\ttotal: 785ms\tremaining: 114ms\n",
      "873:\tlearn: 0.0597835\ttotal: 786ms\tremaining: 113ms\n",
      "874:\tlearn: 0.0597423\ttotal: 787ms\tremaining: 112ms\n",
      "875:\tlearn: 0.0596327\ttotal: 788ms\tremaining: 112ms\n",
      "876:\tlearn: 0.0596128\ttotal: 789ms\tremaining: 111ms\n",
      "877:\tlearn: 0.0595490\ttotal: 790ms\tremaining: 110ms\n",
      "878:\tlearn: 0.0595377\ttotal: 790ms\tremaining: 109ms\n",
      "879:\tlearn: 0.0595015\ttotal: 791ms\tremaining: 108ms\n",
      "880:\tlearn: 0.0594756\ttotal: 792ms\tremaining: 107ms\n",
      "881:\tlearn: 0.0594049\ttotal: 793ms\tremaining: 106ms\n",
      "882:\tlearn: 0.0593787\ttotal: 794ms\tremaining: 105ms\n",
      "883:\tlearn: 0.0592425\ttotal: 795ms\tremaining: 104ms\n",
      "884:\tlearn: 0.0591485\ttotal: 795ms\tremaining: 103ms\n",
      "885:\tlearn: 0.0590488\ttotal: 796ms\tremaining: 102ms\n",
      "886:\tlearn: 0.0588741\ttotal: 797ms\tremaining: 102ms\n",
      "887:\tlearn: 0.0587419\ttotal: 798ms\tremaining: 101ms\n",
      "888:\tlearn: 0.0586659\ttotal: 799ms\tremaining: 99.7ms\n",
      "889:\tlearn: 0.0586065\ttotal: 799ms\tremaining: 98.8ms\n",
      "890:\tlearn: 0.0585812\ttotal: 800ms\tremaining: 97.9ms\n",
      "891:\tlearn: 0.0585190\ttotal: 801ms\tremaining: 97ms\n",
      "892:\tlearn: 0.0584177\ttotal: 802ms\tremaining: 96.1ms\n",
      "893:\tlearn: 0.0583378\ttotal: 803ms\tremaining: 95.2ms\n",
      "894:\tlearn: 0.0583017\ttotal: 803ms\tremaining: 94.2ms\n",
      "895:\tlearn: 0.0581542\ttotal: 804ms\tremaining: 93.3ms\n",
      "896:\tlearn: 0.0580189\ttotal: 805ms\tremaining: 92.4ms\n",
      "897:\tlearn: 0.0579253\ttotal: 806ms\tremaining: 91.5ms\n",
      "898:\tlearn: 0.0577843\ttotal: 807ms\tremaining: 90.6ms\n",
      "899:\tlearn: 0.0577283\ttotal: 807ms\tremaining: 89.7ms\n",
      "900:\tlearn: 0.0576779\ttotal: 808ms\tremaining: 88.8ms\n",
      "901:\tlearn: 0.0575437\ttotal: 809ms\tremaining: 87.9ms\n",
      "902:\tlearn: 0.0574749\ttotal: 810ms\tremaining: 87ms\n",
      "903:\tlearn: 0.0574490\ttotal: 811ms\tremaining: 86.1ms\n",
      "904:\tlearn: 0.0574085\ttotal: 811ms\tremaining: 85.2ms\n",
      "905:\tlearn: 0.0573447\ttotal: 812ms\tremaining: 84.3ms\n",
      "906:\tlearn: 0.0572992\ttotal: 813ms\tremaining: 83.3ms\n",
      "907:\tlearn: 0.0572146\ttotal: 814ms\tremaining: 82.5ms\n",
      "908:\tlearn: 0.0571263\ttotal: 815ms\tremaining: 81.6ms\n",
      "909:\tlearn: 0.0570872\ttotal: 816ms\tremaining: 80.7ms\n",
      "910:\tlearn: 0.0569410\ttotal: 817ms\tremaining: 79.8ms\n",
      "911:\tlearn: 0.0568422\ttotal: 818ms\tremaining: 78.9ms\n",
      "912:\tlearn: 0.0567811\ttotal: 818ms\tremaining: 78ms\n",
      "913:\tlearn: 0.0566878\ttotal: 819ms\tremaining: 77.1ms\n",
      "914:\tlearn: 0.0565595\ttotal: 820ms\tremaining: 76.2ms\n",
      "915:\tlearn: 0.0564708\ttotal: 821ms\tremaining: 75.3ms\n",
      "916:\tlearn: 0.0564110\ttotal: 822ms\tremaining: 74.4ms\n",
      "917:\tlearn: 0.0563601\ttotal: 823ms\tremaining: 73.5ms\n",
      "918:\tlearn: 0.0562549\ttotal: 823ms\tremaining: 72.6ms\n",
      "919:\tlearn: 0.0561830\ttotal: 824ms\tremaining: 71.7ms\n",
      "920:\tlearn: 0.0561714\ttotal: 825ms\tremaining: 70.8ms\n",
      "921:\tlearn: 0.0561447\ttotal: 826ms\tremaining: 69.9ms\n",
      "922:\tlearn: 0.0560667\ttotal: 827ms\tremaining: 69ms\n",
      "923:\tlearn: 0.0560033\ttotal: 827ms\tremaining: 68ms\n",
      "924:\tlearn: 0.0559554\ttotal: 828ms\tremaining: 67.1ms\n",
      "925:\tlearn: 0.0559093\ttotal: 829ms\tremaining: 66.3ms\n",
      "926:\tlearn: 0.0558069\ttotal: 830ms\tremaining: 65.4ms\n",
      "927:\tlearn: 0.0556863\ttotal: 831ms\tremaining: 64.4ms\n",
      "928:\tlearn: 0.0556593\ttotal: 831ms\tremaining: 63.5ms\n",
      "929:\tlearn: 0.0556051\ttotal: 833ms\tremaining: 62.7ms\n",
      "930:\tlearn: 0.0555137\ttotal: 833ms\tremaining: 61.8ms\n",
      "931:\tlearn: 0.0554934\ttotal: 834ms\tremaining: 60.9ms\n",
      "932:\tlearn: 0.0554208\ttotal: 835ms\tremaining: 60ms\n",
      "933:\tlearn: 0.0553126\ttotal: 836ms\tremaining: 59.1ms\n",
      "934:\tlearn: 0.0551614\ttotal: 837ms\tremaining: 58.2ms\n",
      "935:\tlearn: 0.0550502\ttotal: 838ms\tremaining: 57.3ms\n",
      "936:\tlearn: 0.0550211\ttotal: 839ms\tremaining: 56.4ms\n",
      "937:\tlearn: 0.0549180\ttotal: 839ms\tremaining: 55.5ms\n",
      "938:\tlearn: 0.0549095\ttotal: 840ms\tremaining: 54.6ms\n",
      "939:\tlearn: 0.0548073\ttotal: 841ms\tremaining: 53.7ms\n",
      "940:\tlearn: 0.0546694\ttotal: 842ms\tremaining: 52.8ms\n",
      "941:\tlearn: 0.0546349\ttotal: 843ms\tremaining: 51.9ms\n",
      "942:\tlearn: 0.0546010\ttotal: 844ms\tremaining: 51ms\n",
      "943:\tlearn: 0.0545385\ttotal: 844ms\tremaining: 50.1ms\n",
      "944:\tlearn: 0.0545297\ttotal: 845ms\tremaining: 49.2ms\n",
      "945:\tlearn: 0.0544404\ttotal: 846ms\tremaining: 48.3ms\n",
      "946:\tlearn: 0.0543825\ttotal: 847ms\tremaining: 47.4ms\n",
      "947:\tlearn: 0.0543225\ttotal: 847ms\tremaining: 46.5ms\n",
      "948:\tlearn: 0.0542964\ttotal: 848ms\tremaining: 45.6ms\n",
      "949:\tlearn: 0.0542630\ttotal: 849ms\tremaining: 44.7ms\n",
      "950:\tlearn: 0.0542285\ttotal: 850ms\tremaining: 43.8ms\n",
      "951:\tlearn: 0.0541650\ttotal: 851ms\tremaining: 42.9ms\n",
      "952:\tlearn: 0.0541065\ttotal: 851ms\tremaining: 42ms\n",
      "953:\tlearn: 0.0540264\ttotal: 852ms\tremaining: 41.1ms\n",
      "954:\tlearn: 0.0539291\ttotal: 853ms\tremaining: 40.2ms\n",
      "955:\tlearn: 0.0538581\ttotal: 854ms\tremaining: 39.3ms\n",
      "956:\tlearn: 0.0536770\ttotal: 855ms\tremaining: 38.4ms\n",
      "957:\tlearn: 0.0535543\ttotal: 855ms\tremaining: 37.5ms\n",
      "958:\tlearn: 0.0535248\ttotal: 856ms\tremaining: 36.6ms\n",
      "959:\tlearn: 0.0534469\ttotal: 857ms\tremaining: 35.7ms\n",
      "960:\tlearn: 0.0533764\ttotal: 858ms\tremaining: 34.8ms\n",
      "961:\tlearn: 0.0532959\ttotal: 859ms\tremaining: 33.9ms\n",
      "962:\tlearn: 0.0532035\ttotal: 859ms\tremaining: 33ms\n",
      "963:\tlearn: 0.0531405\ttotal: 860ms\tremaining: 32.1ms\n",
      "964:\tlearn: 0.0530390\ttotal: 861ms\tremaining: 31.2ms\n",
      "965:\tlearn: 0.0529864\ttotal: 862ms\tremaining: 30.3ms\n",
      "966:\tlearn: 0.0529109\ttotal: 863ms\tremaining: 29.4ms\n",
      "967:\tlearn: 0.0528427\ttotal: 864ms\tremaining: 28.5ms\n",
      "968:\tlearn: 0.0527610\ttotal: 864ms\tremaining: 27.6ms\n",
      "969:\tlearn: 0.0527340\ttotal: 865ms\tremaining: 26.8ms\n",
      "970:\tlearn: 0.0526380\ttotal: 866ms\tremaining: 25.9ms\n",
      "971:\tlearn: 0.0526218\ttotal: 867ms\tremaining: 25ms\n",
      "972:\tlearn: 0.0525505\ttotal: 867ms\tremaining: 24.1ms\n",
      "973:\tlearn: 0.0524652\ttotal: 868ms\tremaining: 23.2ms\n"
     ]
    },
    {
     "name": "stdout",
     "output_type": "stream",
     "text": [
      "974:\tlearn: 0.0523912\ttotal: 869ms\tremaining: 22.3ms\n",
      "975:\tlearn: 0.0523171\ttotal: 870ms\tremaining: 21.4ms\n",
      "976:\tlearn: 0.0522423\ttotal: 871ms\tremaining: 20.5ms\n",
      "977:\tlearn: 0.0521319\ttotal: 872ms\tremaining: 19.6ms\n",
      "978:\tlearn: 0.0520943\ttotal: 873ms\tremaining: 18.7ms\n",
      "979:\tlearn: 0.0520760\ttotal: 874ms\tremaining: 17.8ms\n",
      "980:\tlearn: 0.0519835\ttotal: 874ms\tremaining: 16.9ms\n",
      "981:\tlearn: 0.0519073\ttotal: 875ms\tremaining: 16ms\n",
      "982:\tlearn: 0.0518617\ttotal: 876ms\tremaining: 15.1ms\n",
      "983:\tlearn: 0.0517961\ttotal: 877ms\tremaining: 14.3ms\n",
      "984:\tlearn: 0.0516841\ttotal: 877ms\tremaining: 13.4ms\n",
      "985:\tlearn: 0.0515706\ttotal: 878ms\tremaining: 12.5ms\n",
      "986:\tlearn: 0.0515408\ttotal: 879ms\tremaining: 11.6ms\n",
      "987:\tlearn: 0.0514761\ttotal: 880ms\tremaining: 10.7ms\n",
      "988:\tlearn: 0.0514400\ttotal: 880ms\tremaining: 9.79ms\n",
      "989:\tlearn: 0.0513607\ttotal: 881ms\tremaining: 8.9ms\n",
      "990:\tlearn: 0.0512943\ttotal: 882ms\tremaining: 8.01ms\n",
      "991:\tlearn: 0.0512019\ttotal: 883ms\tremaining: 7.12ms\n",
      "992:\tlearn: 0.0511302\ttotal: 884ms\tremaining: 6.23ms\n",
      "993:\tlearn: 0.0510793\ttotal: 884ms\tremaining: 5.34ms\n",
      "994:\tlearn: 0.0509242\ttotal: 886ms\tremaining: 4.45ms\n",
      "995:\tlearn: 0.0508687\ttotal: 887ms\tremaining: 3.56ms\n",
      "996:\tlearn: 0.0507913\ttotal: 888ms\tremaining: 2.67ms\n",
      "997:\tlearn: 0.0506954\ttotal: 888ms\tremaining: 1.78ms\n",
      "998:\tlearn: 0.0506557\ttotal: 890ms\tremaining: 890us\n",
      "999:\tlearn: 0.0505414\ttotal: 891ms\tremaining: 0us\n"
     ]
    },
    {
     "data": {
      "text/plain": [
       "<catboost.core.CatBoostRegressor at 0x7fb3f01ca2e0>"
      ]
     },
     "execution_count": 9,
     "metadata": {},
     "output_type": "execute_result"
    }
   ],
   "source": [
    "#Train the Model \n",
    "prior_model = ctb.CatBoostRegressor()\n",
    "prior_model.fit(X_train,Y_train)"
   ]
  },
  {
   "cell_type": "code",
   "execution_count": 10,
   "id": "af65dcda",
   "metadata": {
    "execution": {
     "iopub.execute_input": "2022-06-12T07:37:20.287873Z",
     "iopub.status.busy": "2022-06-12T07:37:20.287484Z",
     "iopub.status.idle": "2022-06-12T07:37:20.295019Z",
     "shell.execute_reply": "2022-06-12T07:37:20.295309Z"
    },
    "id": "af65dcda",
    "papermill": {
     "duration": 0.021595,
     "end_time": "2022-06-12T07:37:20.295424",
     "exception": false,
     "start_time": "2022-06-12T07:37:20.273829",
     "status": "completed"
    },
    "tags": []
   },
   "outputs": [
    {
     "data": {
      "application/scrapbook.scrap.json+json": {
       "data": 0.12175732058168598,
       "encoder": "json",
       "name": "Prior Model MSE",
       "version": 1
      }
     },
     "metadata": {
      "scrapbook": {
       "data": true,
       "display": false,
       "name": "Prior Model MSE"
      }
     },
     "output_type": "display_data"
    },
    {
     "data": {
      "application/scrapbook.scrap.json+json": {
       "data": 0.125374077940614,
       "encoder": "json",
       "name": "ABC Pre-generator MSE",
       "version": 1
      }
     },
     "metadata": {
      "scrapbook": {
       "data": true,
       "display": false,
       "name": "ABC Pre-generator MSE"
      }
     },
     "output_type": "display_data"
    },
    {
     "data": {
      "application/scrapbook.scrap.json+json": {
       "data": 0.23975632551199183,
       "encoder": "json",
       "name": "Prior Model MSE",
       "version": 1
      }
     },
     "metadata": {
      "scrapbook": {
       "data": true,
       "display": false,
       "name": "Prior Model MSE"
      }
     },
     "output_type": "display_data"
    },
    {
     "data": {
      "application/scrapbook.scrap.json+json": {
       "data": 0.24609852891733816,
       "encoder": "json",
       "name": "ABC Pre-generator MSE",
       "version": 1
      }
     },
     "metadata": {
      "scrapbook": {
       "data": true,
       "display": false,
       "name": "ABC Pre-generator MSE"
      }
     },
     "output_type": "display_data"
    }
   ],
   "source": [
    "y_pred = prior_model.predict(X_test)\n",
    "y_abc = y_pred + np.random.normal(0,variance, y_pred.shape) + bias \n",
    "mse = mean_squared_error(y_pred,Y_test)\n",
    "sb.glue(\"Prior Model MSE\",mse)\n",
    "mse = mean_squared_error(y_abc,Y_test)\n",
    "sb.glue(\"ABC Pre-generator MSE\",mse)\n",
    "mae = mean_absolute_error(y_pred,Y_test)\n",
    "sb.glue(\"Prior Model MSE\",mae)\n",
    "mae = mean_absolute_error(y_abc,Y_test)\n",
    "sb.glue(\"ABC Pre-generator MSE\",mae)"
   ]
  },
  {
   "cell_type": "markdown",
   "id": "25609da2",
   "metadata": {
    "papermill": {
     "duration": 0.009842,
     "end_time": "2022-06-12T07:37:20.315583",
     "exception": false,
     "start_time": "2022-06-12T07:37:20.305741",
     "status": "completed"
    },
    "tags": []
   },
   "source": [
    "# ABC GAN Model"
   ]
  },
  {
   "cell_type": "code",
   "execution_count": 11,
   "id": "dfc3464d",
   "metadata": {
    "execution": {
     "iopub.execute_input": "2022-06-12T07:37:20.338355Z",
     "iopub.status.busy": "2022-06-12T07:37:20.337979Z",
     "iopub.status.idle": "2022-06-12T07:37:20.340327Z",
     "shell.execute_reply": "2022-06-12T07:37:20.340619Z"
    },
    "papermill": {
     "duration": 0.015315,
     "end_time": "2022-06-12T07:37:20.340728",
     "exception": false,
     "start_time": "2022-06-12T07:37:20.325413",
     "status": "completed"
    },
    "tags": []
   },
   "outputs": [],
   "source": [
    "gen = network.Generator(n_features+1).to(device)\n",
    "disc = network.Discriminator(n_features+1).to(device)\n",
    "\n",
    "criterion = torch.nn.BCELoss()\n",
    "gen_opt = torch.optim.Adam(gen.parameters(), lr=0.001, betas=(0.5, 0.999))\n",
    "disc_opt = torch.optim.Adam(disc.parameters(), lr=0.001, betas=(0.5, 0.999))"
   ]
  },
  {
   "cell_type": "code",
   "execution_count": 12,
   "id": "b75fdd85",
   "metadata": {
    "execution": {
     "iopub.execute_input": "2022-06-12T07:37:20.363265Z",
     "iopub.status.busy": "2022-06-12T07:37:20.362894Z",
     "iopub.status.idle": "2022-06-12T07:38:19.721646Z",
     "shell.execute_reply": "2022-06-12T07:38:19.721950Z"
    },
    "papermill": {
     "duration": 59.371416,
     "end_time": "2022-06-12T07:38:19.722074",
     "exception": false,
     "start_time": "2022-06-12T07:37:20.350658",
     "status": "completed"
    },
    "tags": []
   },
   "outputs": [
    {
     "data": {
      "image/png": "[encoded data removed]",
      "text/plain": [
       "<Figure size 432x288 with 1 Axes>"
      ]
     },
     "metadata": {
      "needs_background": "light"
     },
     "output_type": "display_data"
    },
    {
     "data": {
      "image/png": "[encoded data removed]",
      "text/plain": [
       "<Figure size 432x288 with 1 Axes>"
      ]
     },
     "metadata": {
      "needs_background": "light"
     },
     "output_type": "display_data"
    }
   ],
   "source": [
    "#Training the ABC_GAN \n",
    "ABC_train_test2.training_GAN(disc,gen,disc_opt,gen_opt,train_data,batch_size,n_epochs,criterion,prior_model,variance,bias,device)"
   ]
  },
  {
   "cell_type": "code",
   "execution_count": 13,
   "id": "1fa7c368",
   "metadata": {
    "execution": {
     "iopub.execute_input": "2022-06-12T07:38:19.747386Z",
     "iopub.status.busy": "2022-06-12T07:38:19.746987Z",
     "iopub.status.idle": "2022-06-12T07:38:20.045024Z",
     "shell.execute_reply": "2022-06-12T07:38:20.045334Z"
    },
    "papermill": {
     "duration": 0.312446,
     "end_time": "2022-06-12T07:38:20.045458",
     "exception": false,
     "start_time": "2022-06-12T07:38:19.733012",
     "status": "completed"
    },
    "tags": []
   },
   "outputs": [
    {
     "data": {
      "application/scrapbook.scrap.json+json": {
       "data": 0.14176512143268574,
       "encoder": "json",
       "name": "ABC-GAN Model 1 MSE",
       "version": 1
      }
     },
     "metadata": {
      "scrapbook": {
       "data": true,
       "display": false,
       "name": "ABC-GAN Model 1 MSE"
      }
     },
     "output_type": "display_data"
    },
    {
     "data": {
      "application/scrapbook.scrap.json+json": {
       "data": 0.25689316828753433,
       "encoder": "json",
       "name": "ABC-GAN Model 1 MAE",
       "version": 1
      }
     },
     "metadata": {
      "scrapbook": {
       "data": true,
       "display": false,
       "name": "ABC-GAN Model 1 MAE"
      }
     },
     "output_type": "display_data"
    },
    {
     "data": {
      "application/scrapbook.scrap.json+json": {
       "data": 26.203103165328503,
       "encoder": "json",
       "name": "ABC-GAN Model 1 Manhattan Distance",
       "version": 1
      }
     },
     "metadata": {
      "scrapbook": {
       "data": true,
       "display": false,
       "name": "ABC-GAN Model 1 Manhattan Distance"
      }
     },
     "output_type": "display_data"
    },
    {
     "data": {
      "application/scrapbook.scrap.json+json": {
       "data": 3.801858188294135,
       "encoder": "json",
       "name": "ABC-GAN Model 1 Euclidean distance",
       "version": 1
      }
     },
     "metadata": {
      "scrapbook": {
       "data": true,
       "display": false,
       "name": "ABC-GAN Model 1 Euclidean distance"
      }
     },
     "output_type": "display_data"
    },
    {
     "data": {
      "application/scrapbook.scrap.json+json": {
       "data": [
        [
         0.1462689581261868,
         0.13268954537675204,
         0.14248008052980646,
         0.13317087219526286,
         0.15166226969665406,
         0.1384525791496149,
         0.14659750226445808,
         0.13940626480094367,
         0.14498397072310984,
         0.13301704286227278,
         0.14802755534973305,
         0.1381749581156874,
         0.13313389695228467,
         0.14340552319055475,
         0.13366468299013226,
         0.13920523302854215,
         0.13441656627094883,
         0.14840348615008597,
         0.14261486448900804,
         0.14278697449751535,
         0.1330023109236283,
         0.14113587529913668,
         0.14316596938080195,
         0.1388704448986911,
         0.1423293239277419,
         0.13766063833584938,
         0.1437936929477951,
         0.13386042393664577,
         0.13185859908249328,
         0.1476708489852748,
         0.14555770632261963,
         0.14949576104554635,
         0.15146475078485272,
         0.1485431755901254,
         0.14464324981768206,
         0.12975981099963294,
         0.14834155463674176,
         0.14082882631305355,
         0.13893988106492552,
         0.14818220007278102,
         0.14761835696473555,
         0.13843450287644754,
         0.14448225738479095,
         0.14226050424064351,
         0.14746992151197977,
         0.13368039722766464,
         0.14697881309819918,
         0.1324759915033313,
         0.14006428676846167,
         0.13929320314162605,
         0.14550018727798875,
         0.13488298901202986,
         0.1401982321764258,
         0.13357429908150753,
         0.1572783195716168,
         0.15212280389908048,
         0.1465763588148011,
         0.1432748371958931,
         0.13581046261676255,
         0.14189074842143665,
         0.14796520921445788,
         0.14032191820228224,
         0.14128149870116335,
         0.13656548139607605,
         0.14242526056739613,
         0.14393256518210645,
         0.14549606701452278,
         0.14400242974599142,
         0.13079333532704213,
         0.14203919871911555,
         0.1426745681980189,
         0.13792816070950975,
         0.1442927310920813,
         0.13884335385731197,
         0.14611042299621907,
         0.14258062090187879,
         0.14495086512922753,
         0.13864534107812346,
         0.14460984869576804,
         0.13959607619755451,
         0.13641580886855356,
         0.13517812005037994,
         0.13704077555156607,
         0.1421081849071318,
         0.14704620587046768,
         0.14870673695871578,
         0.15830582895139367,
         0.1457232301851011,
         0.14355408260404814,
         0.13141537446461624,
         0.14261155809606957,
         0.1439669380188767,
         0.14628605643689818,
         0.14766660737024584,
         0.1365999812195431,
         0.14301718372549568,
         0.13956352928029783,
         0.14220466493206393,
         0.1436742173082464,
         0.13483676163202
        ],
        [
         0.2668978467802791,
         0.25219248538362043,
         0.25837334194311906,
         0.2474603731112153,
         0.26142013390712876,
         0.24915428718953742,
         0.2656109850561502,
         0.25465168263397964,
         0.2599285636097193,
         0.2468353851387898,
         0.2611690568646379,
         0.25801553358049956,
         0.24669747942072504,
         0.2563827438097374,
         0.24809574850780122,
         0.256585720269119,
         0.25490464770472515,
         0.25687221656827364,
         0.25577748950351686,
         0.25631943169762106,
         0.25813938071038206,
         0.25486802488711535,
         0.25560110394715096,
         0.2559085155965066,
         0.2576260469926923,
         0.25570919280689136,
         0.2577680335836668,
         0.2557776784706934,
         0.24470719921530462,
         0.2583500278711903,
         0.2599876004764262,
         0.25940022858626705,
         0.26416639370076794,
         0.2686946963270505,
         0.2632536121151027,
         0.2496521018226357,
         0.26495759583571377,
         0.2610902775298147,
         0.25805778648046884,
         0.2647602791149242,
         0.2581335950788914,
         0.25497570546234355,
         0.2627022271135859,
         0.25706466009803847,
         0.2619202438303653,
         0.2496576327100104,
         0.2676507919369375,
         0.2491225157225249,
         0.25789474338000895,
         0.25592595057598516,
         0.2639134922156147,
         0.24851627746487365,
         0.25870301691340464,
         0.25002743544823985,
         0.26646154173010705,
         0.2665813163141994,
         0.2536818073587675,
         0.25446593085778696,
         0.2560008363980873,
         0.2544204994451766,
         0.26774935895467505,
         0.2496000178450463,
         0.25015322791010725,
         0.24708309711194507,
         0.25646563374674786,
         0.25645206357334177,
         0.2622837572559422,
         0.25610865670822414,
         0.25538043597457455,
         0.26214322082552255,
         0.2620270033823509,
         0.2580770217612678,
         0.2606887662162383,
         0.25584731758663465,
         0.2569316900243946,
         0.25664258492635744,
         0.2534114022684448,
         0.2493034644673268,
         0.262643277316409,
         0.25143561545102033,
         0.24140468206914031,
         0.2572529155614914,
         0.252074680674602,
         0.2640269849376351,
         0.2580504378340408,
         0.2638069201699075,
         0.2695723350214608,
         0.2606606461911225,
         0.2512055034292679,
         0.2364601255851049,
         0.26328319336707684,
         0.2579892061139439,
         0.26148097607873233,
         0.26262893210000854,
         0.2549438743176414,
         0.2559062006207658,
         0.2584766023153183,
         0.2569965879414596,
         0.25594880797115027,
         0.247078454341082
        ],
        [
         27.22358037158847,
         25.723633509129286,
         26.354080878198147,
         25.24095805734396,
         26.664853658527136,
         25.413737293332815,
         27.09232047572732,
         25.974471628665924,
         26.512713488191366,
         25.17720928415656,
         26.63924380019307,
         26.317584425210953,
         25.163142900913954,
         26.151039868593216,
         25.305766347795725,
         26.171743467450142,
         26.000274065881968,
         26.200966089963913,
         26.08930392935872,
         26.14458203315735,
         26.330216832458973,
         25.996538538485765,
         26.071312602609396,
         26.102668590843678,
         26.277856793254614,
         26.08233766630292,
         26.29233942553401,
         26.089323204010725,
         24.96013431996107,
         26.351702842861414,
         26.518735248595476,
         26.458823315799236,
         26.944972157478333,
         27.406859025359154,
         26.85186843574047,
         25.464514385908842,
         27.025674775242805,
         26.631208308041096,
         26.321894221007824,
         27.00554846972227,
         26.329626698046923,
         26.007521957159042,
         26.795627165585756,
         26.220595329999924,
         26.71586487069726,
         25.46507853642106,
         27.300380777567625,
         25.41049660369754,
         26.305263824760914,
         26.104446958750486,
         26.9191762059927,
         25.348660301417112,
         26.387707725167274,
         25.502798415720463,
         27.17907725647092,
         27.191294264048338,
         25.875544350594282,
         25.95552494749427,
         26.112085312604904,
         25.950890943408012,
         27.310434613376856,
         25.45920182019472,
         25.51562924683094,
         25.202475905418396,
         26.159494642168283,
         26.158110484480858,
         26.752943240106106,
         26.123082984238863,
         26.048804469406605,
         26.7386085242033,
         26.72675434499979,
         26.323856219649315,
         26.59025415405631,
         26.096426393836737,
         26.20703238248825,
         26.17754366248846,
         25.84796303138137,
         25.428953375667334,
         26.789614286273718,
         25.646432776004076,
         24.623277571052313,
         26.23979738727212,
         25.711617428809404,
         26.930752463638783,
         26.32114465907216,
         26.90830585733056,
         27.496378172188997,
         26.587385911494493,
         25.622961349785328,
         24.1189328096807,
         26.85488572344184,
         26.314899023622274,
         26.6710595600307,
         26.78815107420087,
         26.004275180399418,
         26.10243246331811,
         26.36461343616247,
         26.213651970028877,
         26.106778413057327,
         25.202002342790365
        ],
        [
         3.8625682814509634,
         3.6789038623520334,
         3.8122130336643374,
         3.685570371586575,
         3.9331350738385162,
         3.757946656521446,
         3.8669038300654326,
         3.770867142938909,
         3.845564329686502,
         3.6834411047214823,
         3.885718806819758,
         3.7541771039470295,
         3.6850586819117317,
         3.8245736187759,
         3.6923972788682264,
         3.7681472594514256,
         3.7027678511671205,
         3.8906497641536384,
         3.814015754802124,
         3.8163164699414738,
         3.683237124352718,
         3.7941875652782286,
         3.8213778767405087,
         3.763613340882202,
         3.8101956695988286,
         3.747183623770876,
         3.8297462945572645,
         3.6950998960160555,
         3.667366508329145,
         3.881034217383044,
         3.8531657172910685,
         3.90494143703151,
         3.9305730600072777,
         3.892480431574806,
         3.8410430199886547,
         3.6380627704813664,
         3.889837859467623,
         3.790058084506286,
         3.764554139419754,
         3.8877479866143148,
         3.8803443675018094,
         3.7577013310530205,
         3.8389048247187203,
         3.809274397118909,
         3.8783929654203333,
         3.692614320129004,
         3.871929614031783,
         3.675942210282935,
         3.7797562421911657,
         3.769337703157658,
         3.8524043274758752,
         3.70918655222773,
         3.7815631268029124,
         3.6911486703076264,
         4.005295069817567,
         3.939102181678738,
         3.866624962303651,
         3.822830547379924,
         3.7219171386410226,
         3.804320746071042,
         3.88490042856631,
         3.7832308489745605,
         3.7961444740049943,
         3.7322485317030747,
         3.811479578572394,
         3.831595183285267,
         3.8523497810403096,
         3.8325249945813944,
         3.6525224439225954,
         3.806310322260887,
         3.8148140133167594,
         3.7508228953617615,
         3.8363861342925696,
         3.763246217489073,
         3.860474471566201,
         3.8135578312111162,
         3.8451252571510857,
         3.7605617652112278,
         3.8405995061927944,
         3.7734334195995234,
         3.7302027430948654,
         3.7132422820412283,
         3.738737635387075,
         3.8072345423584606,
         3.872817191501259,
         3.8946228533439546,
         4.018357195800561,
         3.855355947105313,
         3.8265541189969996,
         3.6611976449504677,
         3.8139715423425864,
         3.8320526716011383,
         3.862794034965314,
         3.880978478652655,
         3.7327199311485164,
         3.8193916714577147,
         3.7729935047108647,
         3.808526726054383,
         3.828154929654901,
         3.7085508876737863
        ]
       ],
       "encoder": "json",
       "name": "ABC_GAN_1 Metrics",
       "version": 1
      }
     },
     "metadata": {
      "scrapbook": {
       "data": true,
       "display": false,
       "name": "ABC_GAN_1 Metrics"
      }
     },
     "output_type": "display_data"
    },
    {
     "name": "stdout",
     "output_type": "stream",
     "text": [
      "MSE\n",
      "0.14176512143268574\n"
     ]
    }
   ],
   "source": [
    "ABC_GAN1_metrics=ABC_train_test2.test_generator(gen,test_data,prior_model,variance,bias,\"1\",device)\n",
    "sb.glue(\"ABC_GAN_1 Metrics\",ABC_GAN1_metrics)\n",
    "\n",
    "print(\"MSE\")\n",
    "print(mean(ABC_GAN1_metrics[0]))"
   ]
  },
  {
   "cell_type": "code",
   "execution_count": 14,
   "id": "eb22ce5c",
   "metadata": {
    "execution": {
     "iopub.execute_input": "2022-06-12T07:38:20.073891Z",
     "iopub.status.busy": "2022-06-12T07:38:20.073513Z",
     "iopub.status.idle": "2022-06-12T07:38:20.396593Z",
     "shell.execute_reply": "2022-06-12T07:38:20.396896Z"
    },
    "papermill": {
     "duration": 0.33877,
     "end_time": "2022-06-12T07:38:20.397016",
     "exception": false,
     "start_time": "2022-06-12T07:38:20.058246",
     "status": "completed"
    },
    "tags": []
   },
   "outputs": [
    {
     "data": {
      "image/png": "[encoded data removed]",
      "text/plain": [
       "<Figure size 432x288 with 1 Axes>"
      ]
     },
     "metadata": {
      "needs_background": "light"
     },
     "output_type": "display_data"
    },
    {
     "data": {
      "image/png": "[encoded data removed]",
      "text/plain": [
       "<Figure size 432x288 with 1 Axes>"
      ]
     },
     "metadata": {
      "needs_background": "light"
     },
     "output_type": "display_data"
    },
    {
     "data": {
      "image/png": "[encoded data removed]",
      "text/plain": [
       "<Figure size 432x288 with 1 Axes>"
      ]
     },
     "metadata": {
      "needs_background": "light"
     },
     "output_type": "display_data"
    },
    {
     "data": {
      "image/png": "[encoded data removed]",
      "text/plain": [
       "<Figure size 432x288 with 1 Axes>"
      ]
     },
     "metadata": {
      "needs_background": "light"
     },
     "output_type": "display_data"
    }
   ],
   "source": [
    "sanityChecks.discProbVsError(train_data,disc,device)\n",
    "sanityChecks.discProbVsError(test_data,disc,device)"
   ]
  },
  {
   "cell_type": "markdown",
   "id": "130f3a4d",
   "metadata": {
    "id": "130f3a4d",
    "papermill": {
     "duration": 0.014512,
     "end_time": "2022-06-12T07:38:20.426631",
     "exception": false,
     "start_time": "2022-06-12T07:38:20.412119",
     "status": "completed"
    },
    "tags": []
   },
   "source": [
    "# ABC - GAN Model with skip connection"
   ]
  },
  {
   "cell_type": "code",
   "execution_count": 15,
   "id": "4e43dad1",
   "metadata": {
    "execution": {
     "iopub.execute_input": "2022-06-12T07:38:20.459748Z",
     "iopub.status.busy": "2022-06-12T07:38:20.459371Z",
     "iopub.status.idle": "2022-06-12T07:38:20.461746Z",
     "shell.execute_reply": "2022-06-12T07:38:20.461992Z"
    },
    "id": "4e43dad1",
    "papermill": {
     "duration": 0.020799,
     "end_time": "2022-06-12T07:38:20.462104",
     "exception": false,
     "start_time": "2022-06-12T07:38:20.441305",
     "status": "completed"
    },
    "tags": []
   },
   "outputs": [],
   "source": [
    "#Generator\n",
    "gen3 = network.GeneratorWithSkipConnection(n_features+1).to(device)\n",
    "constraints=network.weightConstraint()\n",
    "#Discriminator \n",
    "disc3 = network.Discriminator(n_features+1).to(device)\n",
    "\n",
    "criterion = torch.nn.BCELoss()\n",
    "gen_opt = torch.optim.Adam(gen3.parameters(), lr=0.001, betas=(0.5, 0.999))\n",
    "disc_opt = torch.optim.Adam(disc3.parameters(), lr=0.001, betas=(0.5, 0.999))\n"
   ]
  },
  {
   "cell_type": "code",
   "execution_count": 16,
   "id": "26acbc37",
   "metadata": {
    "execution": {
     "iopub.execute_input": "2022-06-12T07:38:20.494295Z",
     "iopub.status.busy": "2022-06-12T07:38:20.493930Z",
     "iopub.status.idle": "2022-06-12T08:02:51.155754Z",
     "shell.execute_reply": "2022-06-12T08:02:51.156055Z"
    },
    "id": "26acbc37",
    "papermill": {
     "duration": 1470.679016,
     "end_time": "2022-06-12T08:02:51.156228",
     "exception": false,
     "start_time": "2022-06-12T07:38:20.477212",
     "status": "completed"
    },
    "tags": []
   },
   "outputs": [
    {
     "data": {
      "image/png": "[encoded data removed]",
      "text/plain": [
       "<Figure size 432x288 with 1 Axes>"
      ]
     },
     "metadata": {
      "needs_background": "light"
     },
     "output_type": "display_data"
    },
    {
     "data": {
      "image/png": "[encoded data removed]",
      "text/plain": [
       "<Figure size 432x288 with 1 Axes>"
      ]
     },
     "metadata": {
      "needs_background": "light"
     },
     "output_type": "display_data"
    }
   ],
   "source": [
    "ABC_train_test2.training_GAN_skip_connection(disc3,gen3,disc_opt,gen_opt,train_data,batch_size,n_epochs,criterion,prior_model,variance,bias,device)"
   ]
  },
  {
   "cell_type": "code",
   "execution_count": 17,
   "id": "c5e0717b",
   "metadata": {
    "execution": {
     "iopub.execute_input": "2022-06-12T08:02:51.190600Z",
     "iopub.status.busy": "2022-06-12T08:02:51.190219Z",
     "iopub.status.idle": "2022-06-12T08:02:52.047821Z",
     "shell.execute_reply": "2022-06-12T08:02:52.048085Z"
    },
    "id": "c5e0717b",
    "papermill": {
     "duration": 0.876012,
     "end_time": "2022-06-12T08:02:52.048224",
     "exception": false,
     "start_time": "2022-06-12T08:02:51.172212",
     "status": "completed"
    },
    "tags": []
   },
   "outputs": [
    {
     "data": {
      "application/scrapbook.scrap.json+json": {
       "data": 0.14658778372703754,
       "encoder": "json",
       "name": "ABC-GAN Model 3 MSE",
       "version": 1
      }
     },
     "metadata": {
      "scrapbook": {
       "data": true,
       "display": false,
       "name": "ABC-GAN Model 3 MSE"
      }
     },
     "output_type": "display_data"
    },
    {
     "data": {
      "application/scrapbook.scrap.json+json": {
       "data": 0.2576414819085496,
       "encoder": "json",
       "name": "ABC-GAN Model 3 MAE",
       "version": 1
      }
     },
     "metadata": {
      "scrapbook": {
       "data": true,
       "display": false,
       "name": "ABC-GAN Model 3 MAE"
      }
     },
     "output_type": "display_data"
    },
    {
     "data": {
      "application/scrapbook.scrap.json+json": {
       "data": 26.279431154672057,
       "encoder": "json",
       "name": "ABC-GAN Model 3 Manhattan Distance",
       "version": 1
      }
     },
     "metadata": {
      "scrapbook": {
       "data": true,
       "display": false,
       "name": "ABC-GAN Model 3 Manhattan Distance"
      }
     },
     "output_type": "display_data"
    },
    {
     "data": {
      "application/scrapbook.scrap.json+json": {
       "data": 3.866112544858278,
       "encoder": "json",
       "name": "ABC-GAN Model 3 Euclidean distance",
       "version": 1
      }
     },
     "metadata": {
      "scrapbook": {
       "data": true,
       "display": false,
       "name": "ABC-GAN Model 3 Euclidean distance"
      }
     },
     "output_type": "display_data"
    },
    {
     "data": {
      "application/scrapbook.scrap.json+json": {
       "data": [
        [
         0.15006999278488756,
         0.1504336003061235,
         0.15623230827075565,
         0.1413092737802311,
         0.14972252484105306,
         0.15149594122678933,
         0.1511973325143366,
         0.1463098382045725,
         0.15398179751756724,
         0.1395241153979381,
         0.14972658315258236,
         0.14642751825849634,
         0.15237623511086137,
         0.1539945777683422,
         0.14615309650605973,
         0.1471154791686509,
         0.15413036581398928,
         0.14818288904595464,
         0.14912258091888964,
         0.146746430883845,
         0.15506559028025915,
         0.15222405975994832,
         0.14026169329638666,
         0.14819395628742127,
         0.14960826462665625,
         0.15571213671429138,
         0.14858943004650535,
         0.13866812051015992,
         0.13952946887757667,
         0.15010116988424388,
         0.16079201252874803,
         0.1454420049826268,
         0.14625913045219668,
         0.14404128931962687,
         0.13949917605024192,
         0.14786405708724482,
         0.14694259799331724,
         0.14819899236280784,
         0.1460550931970709,
         0.14053264835022358,
         0.14779129674596286,
         0.14734864822880656,
         0.1467613514440674,
         0.14611725537694767,
         0.1462704792841038,
         0.1411938141733777,
         0.14515160875798228,
         0.1397099057468216,
         0.14810365814406742,
         0.14754208214352652,
         0.1442200690947233,
         0.12970914386182392,
         0.14942023388706754,
         0.142764966408716,
         0.1438052339928025,
         0.14744541967008046,
         0.14275246302891312,
         0.1479397599084087,
         0.15245829643107048,
         0.14510545100054778,
         0.15167923755404178,
         0.13831722220134632,
         0.14649360895609365,
         0.14991700775401795,
         0.14418426593174943,
         0.14189561312246848,
         0.14937674330289896,
         0.14001981228660085,
         0.14825547053842897,
         0.1438532641898811,
         0.15259187678445704,
         0.15162412242768705,
         0.15069478150625837,
         0.1420951549908925,
         0.14122978902075708,
         0.1475386110391262,
         0.14590099783607016,
         0.14109560727334997,
         0.15557318082951324,
         0.15059647744782595,
         0.14375943733238913,
         0.14282436801446483,
         0.1417870362613536,
         0.14080415091911672,
         0.1423643519932614,
         0.14551556372479182,
         0.1366858718219174,
         0.15578431451709748,
         0.14310590241615206,
         0.1556851405679072,
         0.1496288234869521,
         0.14681327710241635,
         0.1577482721501847,
         0.13894799496081975,
         0.14986016243866254,
         0.14954007590769783,
         0.13652230889293193,
         0.1336879331827353,
         0.14328993357612926,
         0.14204609703400903
        ],
        [
         0.259464300639343,
         0.2549602382396366,
         0.2672928272947377,
         0.2529127592695694,
         0.2554527270589389,
         0.26017846693010893,
         0.2621892862679327,
         0.26191782779699446,
         0.2584096013075289,
         0.25263467989861965,
         0.2585442633934173,
         0.2515401104282515,
         0.2644278912932849,
         0.2674768376072832,
         0.2571615320721678,
         0.2626516150274113,
         0.272598247975111,
         0.25679377331307124,
         0.2606741458031477,
         0.2561883476800194,
         0.26067328248538224,
         0.26006905215920184,
         0.2518620260205923,
         0.2633435313827267,
         0.25641505642994944,
         0.26745700414347295,
         0.2592709682717481,
         0.2516423951761395,
         0.2533152601772956,
         0.266137001999453,
         0.27343846788155096,
         0.2551383235144849,
         0.25652891258690874,
         0.25641176809428956,
         0.2530459553715499,
         0.25349996333905295,
         0.2565962371653786,
         0.2577437741097574,
         0.2584886297802715,
         0.25364194419600217,
         0.24999486441340515,
         0.2558470960231681,
         0.258923717792712,
         0.2559059054828158,
         0.2589425031534013,
         0.24824610326950455,
         0.25558657148012925,
         0.24602174138029417,
         0.2610172887204909,
         0.2558883937696616,
         0.25520583081479165,
         0.2479335051942982,
         0.262842225933484,
         0.25843127155859097,
         0.25676603416236593,
         0.2600230168843386,
         0.25273883558225396,
         0.25912772049652594,
         0.26046568725038977,
         0.2596936445756286,
         0.2638664396443203,
         0.24941183520736648,
         0.26013695738990517,
         0.2606017455531686,
         0.2539971026719785,
         0.24881926752334715,
         0.2560719627448741,
         0.25215385280841707,
         0.25812991971478744,
         0.2538282617780508,
         0.26776886709472714,
         0.2651995941813962,
         0.25715386955177083,
         0.25231100326659633,
         0.261214139524336,
         0.2562202332797004,
         0.26134517043828964,
         0.2495871782668081,
         0.2690523331437041,
         0.2679380991441362,
         0.2537253313497001,
         0.2548641555705199,
         0.25908814651855067,
         0.25467362572603364,
         0.2512513693860349,
         0.25235809382124275,
         0.2471324439507489,
         0.2663253018011649,
         0.25583876047612114,
         0.2645680528937602,
         0.2599408532511078,
         0.26194179398646833,
         0.26713702179418475,
         0.24851868982773787,
         0.25861939473771584,
         0.26439017941262205,
         0.24963566755839423,
         0.24866876422482379,
         0.25259251191335563,
         0.25027920820695515
        ],
        [
         26.46535866521299,
         26.005944300442934,
         27.263868384063244,
         25.797101445496082,
         26.05617816001177,
         26.53820362687111,
         26.743307199329138,
         26.715618435293436,
         26.357779333367944,
         25.768737349659204,
         26.371514866128564,
         25.65709126368165,
         26.971644911915064,
         27.28263743594289,
         26.230476271361113,
         26.790464732795954,
         27.805021293461323,
         26.192964877933264,
         26.588762871921062,
         26.13121146336198,
         26.588674813508987,
         26.52704332023859,
         25.689926654100418,
         26.861040201038122,
         26.154335755854845,
         27.280614422634244,
         26.445638763718307,
         25.667524307966232,
         25.83815653808415,
         27.145974203944206,
         27.8907237239182,
         26.02410899847746,
         26.16594908386469,
         26.154000345617533,
         25.81068744789809,
         25.8569962605834,
         26.172816190868616,
         26.289864959195256,
         26.36584023758769,
         25.87147830799222,
         25.499476170167327,
         26.09640379436314,
         26.410219214856625,
         26.102402359247208,
         26.41213532164693,
         25.321102533489466,
         26.069830290973186,
         25.094217620790005,
         26.62376344949007,
         26.10061616450548,
         26.03099474310875,
         25.289217529818416,
         26.80990704521537,
         26.35998969897628,
         26.190135484561324,
         26.52234772220254,
         25.779361229389906,
         26.431027490645647,
         26.567500099539757,
         26.488751746714115,
         26.914376843720675,
         25.44000719115138,
         26.533969653770328,
         26.581378046423197,
         25.90770447254181,
         25.37956528738141,
         26.11934019997716,
         25.71969298645854,
         26.329251810908318,
         25.89048270136118,
         27.312424443662167,
         27.050358606502414,
         26.229694694280624,
         25.735722333192825,
         26.643842231482267,
         26.134463794529438,
         26.657207384705544,
         25.457892183214426,
         27.443337980657816,
         27.329686112701893,
         25.87998379766941,
         25.99614386819303,
         26.426990944892168,
         25.976709824055433,
         25.627639677375555,
         25.74052556976676,
         25.20750928297639,
         27.165180783718824,
         26.095553568564355,
         26.985941395163536,
         26.513967031612992,
         26.71806298661977,
         27.247976223006845,
         25.34890636242926,
         26.379178263247013,
         26.967798300087452,
         25.46283809095621,
         25.364213950932026,
         25.764436215162277,
         25.528479237109423
        ],
        [
         3.9124339309512335,
         3.917170819765789,
         3.991953837861489,
         3.7965176050669855,
         3.9079019350269526,
         3.930977741622624,
         3.9271017196480065,
         3.863108009992265,
         3.963097695842466,
         3.77246070497622,
         3.9079548975856153,
         3.8646612868874577,
         3.942382018692234,
         3.9632621579162417,
         3.86103818209793,
         3.8737293239464194,
         3.965009118908418,
         3.887757024646392,
         3.9000645191748737,
         3.8688675281214,
         3.9770202675604303,
         3.9404129346446326,
         3.782418897508767,
         3.887902203157503,
         3.906410499668325,
         3.9853027419328786,
         3.8930864188640286,
         3.7608706827058422,
         3.772533078120431,
         3.912840314680996,
         4.0497883003846376,
         3.851634004968272,
         3.862438518102788,
         3.8330420700276604,
         3.772123534181334,
         3.8835723017473187,
         3.8714525691681096,
         3.8879682638887876,
         3.8597434508139563,
         3.786070539718297,
         3.8826166779748177,
         3.8767979208798415,
         3.8690642082155824,
         3.8605647318039704,
         3.8625883662355975,
         3.794966277278959,
         3.8477869085117216,
         3.7749715742208974,
         3.886717526486183,
         3.879341745533603,
         3.835420061435483,
         3.6373524264093557,
         3.903954899391243,
         3.816022349736572,
         3.829899981365812,
         3.878070758295703,
         3.815855242137617,
         3.8845663220825153,
         3.943443449064432,
         3.8471750677680197,
         3.933355085739433,
         3.756109245554144,
         3.8655333543408403,
         3.910439206906281,
         3.834943953311239,
         3.80438596076841,
         3.90338671116451,
         3.7791561033163585,
         3.8887090396325297,
         3.830539511265726,
         3.9451706467546637,
         3.9326403964288517,
         3.9205698200183035,
         3.8070599954651403,
         3.7954497072306483,
         3.8792961121820633,
         3.8577068031771353,
         3.7936462594556306,
         3.983524123764075,
         3.9192908414250462,
         3.8292900918974113,
         3.816816151909259,
         3.802930146434202,
         3.7897260314895984,
         3.810664496293614,
         3.8526078829708017,
         3.7338932665296642,
         3.9862262957268166,
         3.8205761406426006,
         3.9849572567251625,
         3.90667889589983,
         3.869748604812264,
         4.01127458039447,
         3.764664060179023,
         3.909697759257558,
         3.905520162870136,
         3.7316585464212895,
         3.6927184003981406,
         3.823031941373912,
         3.8064027502970457
        ]
       ],
       "encoder": "json",
       "name": "ABC_GAN_3 Metrics",
       "version": 1
      }
     },
     "metadata": {
      "scrapbook": {
       "data": true,
       "display": false,
       "name": "ABC_GAN_3 Metrics"
      }
     },
     "output_type": "display_data"
    },
    {
     "name": "stdout",
     "output_type": "stream",
     "text": [
      "MSE\n",
      "0.14658778372703754\n"
     ]
    }
   ],
   "source": [
    "ABC_GAN3_metrics=ABC_train_test2.test_generator(gen3,test_data,prior_model,variance,bias,\"3\",device)\n",
    "sb.glue(\"ABC_GAN_3 Metrics\",ABC_GAN3_metrics)\n",
    "\n",
    "print(\"MSE\")\n",
    "print(mean(ABC_GAN3_metrics[0]))"
   ]
  },
  {
   "cell_type": "code",
   "execution_count": 18,
   "id": "c8e46b48",
   "metadata": {
    "execution": {
     "iopub.execute_input": "2022-06-12T08:02:52.087111Z",
     "iopub.status.busy": "2022-06-12T08:02:52.086650Z",
     "iopub.status.idle": "2022-06-12T08:02:52.422194Z",
     "shell.execute_reply": "2022-06-12T08:02:52.422454Z"
    },
    "id": "c8e46b48",
    "papermill": {
     "duration": 0.355801,
     "end_time": "2022-06-12T08:02:52.422582",
     "exception": false,
     "start_time": "2022-06-12T08:02:52.066781",
     "status": "completed"
    },
    "tags": []
   },
   "outputs": [
    {
     "data": {
      "image/png": "[encoded data removed]",
      "text/plain": [
       "<Figure size 432x288 with 1 Axes>"
      ]
     },
     "metadata": {
      "needs_background": "light"
     },
     "output_type": "display_data"
    },
    {
     "data": {
      "image/png": "[encoded data removed]",
      "text/plain": [
       "<Figure size 432x288 with 1 Axes>"
      ]
     },
     "metadata": {
      "needs_background": "light"
     },
     "output_type": "display_data"
    },
    {
     "data": {
      "image/png": "[encoded data removed]",
      "text/plain": [
       "<Figure size 432x288 with 1 Axes>"
      ]
     },
     "metadata": {
      "needs_background": "light"
     },
     "output_type": "display_data"
    },
    {
     "data": {
      "image/png": "[encoded data removed]",
      "text/plain": [
       "<Figure size 432x288 with 1 Axes>"
      ]
     },
     "metadata": {
      "needs_background": "light"
     },
     "output_type": "display_data"
    }
   ],
   "source": [
    "sanityChecks.discProbVsError(train_data,disc3,device)\n",
    "sanityChecks.discProbVsError(test_data,disc3,device)"
   ]
  },
  {
   "cell_type": "markdown",
   "id": "a5bd74c3",
   "metadata": {
    "id": "a5bd74c3",
    "papermill": {
     "duration": 0.020383,
     "end_time": "2022-06-12T08:02:52.464216",
     "exception": false,
     "start_time": "2022-06-12T08:02:52.443833",
     "status": "completed"
    },
    "tags": []
   },
   "source": [
    "## Skip Connection Model Analysis - ABC-GAN "
   ]
  },
  {
   "cell_type": "markdown",
   "id": "5744a8bf",
   "metadata": {
    "id": "5744a8bf",
    "papermill": {
     "duration": 0.019855,
     "end_time": "2022-06-12T08:02:52.503934",
     "exception": false,
     "start_time": "2022-06-12T08:02:52.484079",
     "status": "completed"
    },
    "tags": []
   },
   "source": [
    "### Weight Analysis \n",
    "\n",
    "Study the weights of the skip connection layer\n",
    "\n",
    "Equation of the skip connection is \n",
    "\n",
    "$output = y_{gan} * w + y_{abc} * (1-w)$"
   ]
  },
  {
   "cell_type": "code",
   "execution_count": 19,
   "id": "52c31dea",
   "metadata": {
    "execution": {
     "iopub.execute_input": "2022-06-12T08:02:52.546311Z",
     "iopub.status.busy": "2022-06-12T08:02:52.545872Z",
     "iopub.status.idle": "2022-06-12T08:02:52.549371Z",
     "shell.execute_reply": "2022-06-12T08:02:52.549621Z"
    },
    "id": "52c31dea",
    "papermill": {
     "duration": 0.02591,
     "end_time": "2022-06-12T08:02:52.549736",
     "exception": false,
     "start_time": "2022-06-12T08:02:52.523826",
     "status": "completed"
    },
    "tags": []
   },
   "outputs": [
    {
     "name": "stdout",
     "output_type": "stream",
     "text": [
      "Weight of the node at skip connection\n",
      "Parameter containing:\n",
      "tensor([[0.5505]], requires_grad=True)\n"
     ]
    },
    {
     "data": {
      "application/scrapbook.scrap.json+json": {
       "data": 0.5505354404449463,
       "encoder": "json",
       "name": "Skip Connection Weight",
       "version": 1
      }
     },
     "metadata": {
      "scrapbook": {
       "data": true,
       "display": false,
       "name": "Skip Connection Weight"
      }
     },
     "output_type": "display_data"
    }
   ],
   "source": [
    "print(\"Weight of the node at skip connection\")\n",
    "for name,param in gen3.named_parameters():\n",
    "    if(name == \"skipNode.weight\"):\n",
    "        print(param)\n",
    "        sb.glue(\"Skip Connection Weight\",param.item())"
   ]
  }
 ],
 "metadata": {
  "colab": {
   "collapsed_sections": [],
   "name": "ABC_GAN_Model-Catboost_Pre-gen.ipynb",
   "provenance": []
  },
  "interpreter": {
   "hash": "31f2aee4e71d21fbe5cf8b01ff0e069b9275f58929596ceb00d14d90e3e16cd6"
  },
  "kernelspec": {
   "display_name": "Python 3 (ipykernel)",
   "language": "python",
   "name": "python3"
  },
  "language_info": {
   "codemirror_mode": {
    "name": "ipython",
    "version": 3
   },
   "file_extension": ".py",
   "mimetype": "text/x-python",
   "name": "python",
   "nbconvert_exporter": "python",
   "pygments_lexer": "ipython3",
   "version": "3.8.11"
  },
  "papermill": {
   "default_parameters": {},
   "duration": 1536.599408,
   "end_time": "2022-06-12T08:02:52.877589",
   "environment_variables": {},
   "exception": null,
   "input_path": "ABC_GAN-Catboost.ipynb",
   "output_path": "./ABC_GAN_Catboost/ABC-GAN_output_9_4.ipynb",
   "parameters": {
    "bias": 0.1,
    "variance": 0.1
   },
   "start_time": "2022-06-12T07:37:16.278181",
   "version": "2.3.3"
  }
 },
 "nbformat": 4,
 "nbformat_minor": 5
}