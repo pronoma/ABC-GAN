{
 "cells": [
  {
   "cell_type": "markdown",
   "id": "622780e6",
   "metadata": {
    "id": "622780e6",
    "papermill": {
     "duration": 0.027649,
     "end_time": "2022-06-12T05:22:19.622209",
     "exception": false,
     "start_time": "2022-06-12T05:22:19.594560",
     "status": "completed"
    },
    "tags": []
   },
   "source": [
    "## Import Libraries "
   ]
  },
  {
   "cell_type": "code",
   "execution_count": 1,
   "id": "a62397e3",
   "metadata": {
    "execution": {
     "iopub.execute_input": "2022-06-12T05:22:19.659387Z",
     "iopub.status.busy": "2022-06-12T05:22:19.658888Z",
     "iopub.status.idle": "2022-06-12T05:22:19.661171Z",
     "shell.execute_reply": "2022-06-12T05:22:19.661503Z"
    },
    "id": "a62397e3",
    "papermill": {
     "duration": 0.023416,
     "end_time": "2022-06-12T05:22:19.661727",
     "exception": false,
     "start_time": "2022-06-12T05:22:19.638311",
     "status": "completed"
    },
    "tags": []
   },
   "outputs": [],
   "source": [
    "import warnings\n",
    "import sys\n",
    "sys.path.insert(0, '../../src')\n",
    "warnings.filterwarnings('ignore')"
   ]
  },
  {
   "cell_type": "code",
   "execution_count": 2,
   "id": "d6a4e155",
   "metadata": {
    "execution": {
     "iopub.execute_input": "2022-06-12T05:22:19.683126Z",
     "iopub.status.busy": "2022-06-12T05:22:19.682651Z",
     "iopub.status.idle": "2022-06-12T05:22:21.746223Z",
     "shell.execute_reply": "2022-06-12T05:22:21.746504Z"
    },
    "id": "d6a4e155",
    "papermill": {
     "duration": 2.075095,
     "end_time": "2022-06-12T05:22:21.746664",
     "exception": false,
     "start_time": "2022-06-12T05:22:19.671569",
     "status": "completed"
    },
    "tags": []
   },
   "outputs": [],
   "source": [
    "import ABC_train_test2\n",
    "import bostonDataset\n",
    "import network\n",
    "import dataset\n",
    "import sanityChecks\n",
    "import torch \n",
    "import scrapbook as sb\n",
    "from statistics import mean \n",
    "import catboost as ctb \n",
    "from sklearn.model_selection import train_test_split\n",
    "from sklearn.metrics import mean_squared_error,mean_absolute_error\n",
    "import numpy as np"
   ]
  },
  {
   "cell_type": "markdown",
   "id": "2fa5b0f7",
   "metadata": {
    "id": "2fa5b0f7",
    "papermill": {
     "duration": 0.00692,
     "end_time": "2022-06-12T05:22:21.761062",
     "exception": false,
     "start_time": "2022-06-12T05:22:21.754142",
     "status": "completed"
    },
    "tags": []
   },
   "source": [
    "## Parameters "
   ]
  },
  {
   "cell_type": "code",
   "execution_count": 3,
   "id": "783186fb",
   "metadata": {
    "execution": {
     "iopub.execute_input": "2022-06-12T05:22:21.777386Z",
     "iopub.status.busy": "2022-06-12T05:22:21.776933Z",
     "iopub.status.idle": "2022-06-12T05:22:21.778242Z",
     "shell.execute_reply": "2022-06-12T05:22:21.778484Z"
    },
    "id": "783186fb",
    "papermill": {
     "duration": 0.010671,
     "end_time": "2022-06-12T05:22:21.778601",
     "exception": false,
     "start_time": "2022-06-12T05:22:21.767930",
     "status": "completed"
    },
    "tags": [
     "parameters"
    ]
   },
   "outputs": [],
   "source": [
    "variance = 1\n",
    "bias = 1 "
   ]
  },
  {
   "cell_type": "code",
   "execution_count": 4,
   "id": "3a7d4be3",
   "metadata": {
    "execution": {
     "iopub.execute_input": "2022-06-12T05:22:21.794625Z",
     "iopub.status.busy": "2022-06-12T05:22:21.794260Z",
     "iopub.status.idle": "2022-06-12T05:22:21.795563Z",
     "shell.execute_reply": "2022-06-12T05:22:21.795809Z"
    },
    "papermill": {
     "duration": 0.010214,
     "end_time": "2022-06-12T05:22:21.795918",
     "exception": false,
     "start_time": "2022-06-12T05:22:21.785704",
     "status": "completed"
    },
    "tags": [
     "injected-parameters"
    ]
   },
   "outputs": [],
   "source": [
    "# Parameters\n",
    "variance = 0.01\n",
    "bias = 0.01\n"
   ]
  },
  {
   "cell_type": "markdown",
   "id": "391cdbfd",
   "metadata": {
    "id": "391cdbfd",
    "papermill": {
     "duration": 0.006869,
     "end_time": "2022-06-12T05:22:21.809804",
     "exception": false,
     "start_time": "2022-06-12T05:22:21.802935",
     "status": "completed"
    },
    "tags": []
   },
   "source": [
    "## Dataset \n"
   ]
  },
  {
   "cell_type": "code",
   "execution_count": 5,
   "id": "5b51f161",
   "metadata": {
    "execution": {
     "iopub.execute_input": "2022-06-12T05:22:21.825806Z",
     "iopub.status.busy": "2022-06-12T05:22:21.825430Z",
     "iopub.status.idle": "2022-06-12T05:22:21.826594Z",
     "shell.execute_reply": "2022-06-12T05:22:21.826927Z"
    },
    "id": "5b51f161",
    "papermill": {
     "duration": 0.01024,
     "end_time": "2022-06-12T05:22:21.827044",
     "exception": false,
     "start_time": "2022-06-12T05:22:21.816804",
     "status": "completed"
    },
    "tags": []
   },
   "outputs": [],
   "source": [
    "#Parameters \n",
    "n_features = 13\n",
    "n_samples= 506\n",
    "n_target = 1 "
   ]
  },
  {
   "cell_type": "code",
   "execution_count": 6,
   "id": "5d6eced4",
   "metadata": {
    "execution": {
     "iopub.execute_input": "2022-06-12T05:22:21.843414Z",
     "iopub.status.busy": "2022-06-12T05:22:21.843042Z",
     "iopub.status.idle": "2022-06-12T05:22:21.854686Z",
     "shell.execute_reply": "2022-06-12T05:22:21.854925Z"
    },
    "id": "5d6eced4",
    "papermill": {
     "duration": 0.020714,
     "end_time": "2022-06-12T05:22:21.855041",
     "exception": false,
     "start_time": "2022-06-12T05:22:21.834327",
     "status": "completed"
    },
    "tags": []
   },
   "outputs": [
    {
     "name": "stdout",
     "output_type": "stream",
     "text": [
      "         X1        X2        X3        X4        X5        X6        X7  \\\n",
      "0 -0.419782  0.284830 -1.287909 -0.272599 -0.144217  0.413672 -0.120013   \n",
      "1 -0.417339 -0.487722 -0.593381 -0.272599 -0.740262  0.194274  0.367166   \n",
      "2 -0.417342 -0.487722 -0.593381 -0.272599 -0.740262  1.282714 -0.265812   \n",
      "3 -0.416750 -0.487722 -1.306878 -0.272599 -0.835284  1.016303 -0.809889   \n",
      "4 -0.412482 -0.487722 -1.306878 -0.272599 -0.835284  1.228577 -0.511180   \n",
      "\n",
      "         X8        X9       X10       X11       X12       X13         Y  \n",
      "0  0.140214 -0.982843 -0.666608 -1.459000  0.441052 -1.075562  0.159686  \n",
      "1  0.557160 -0.867883 -0.987329 -0.303094  0.441052 -0.492439 -0.101524  \n",
      "2  0.557160 -0.867883 -0.987329 -0.303094  0.396427 -1.208727  1.324247  \n",
      "3  1.077737 -0.752922 -1.106115  0.113032  0.416163 -1.361517  1.182758  \n",
      "4  1.077737 -0.752922 -1.106115  0.113032  0.441052 -1.026501  1.487503  \n"
     ]
    }
   ],
   "source": [
    "X,Y = bostonDataset.boston_data()"
   ]
  },
  {
   "cell_type": "code",
   "execution_count": 7,
   "id": "fe007438",
   "metadata": {
    "execution": {
     "iopub.execute_input": "2022-06-12T05:22:21.873136Z",
     "iopub.status.busy": "2022-06-12T05:22:21.872678Z",
     "iopub.status.idle": "2022-06-12T05:22:21.874259Z",
     "shell.execute_reply": "2022-06-12T05:22:21.874565Z"
    },
    "id": "fe007438",
    "papermill": {
     "duration": 0.012093,
     "end_time": "2022-06-12T05:22:21.874714",
     "exception": false,
     "start_time": "2022-06-12T05:22:21.862621",
     "status": "completed"
    },
    "tags": []
   },
   "outputs": [],
   "source": [
    "#Train test split for dataset \n",
    "X_train,X_test,Y_train,Y_test = train_test_split(X,Y,test_size = 0.2)\n",
    "train_data = dataset.CustomDataset(X_train,Y_train)\n",
    "test_data = dataset.CustomDataset(X_test,Y_test)\n"
   ]
  },
  {
   "cell_type": "markdown",
   "id": "a9a1af34",
   "metadata": {
    "id": "a9a1af34",
    "papermill": {
     "duration": 0.007358,
     "end_time": "2022-06-12T05:22:21.889571",
     "exception": false,
     "start_time": "2022-06-12T05:22:21.882213",
     "status": "completed"
    },
    "tags": []
   },
   "source": [
    "## Training Parameters "
   ]
  },
  {
   "cell_type": "code",
   "execution_count": 8,
   "id": "952b7fc8",
   "metadata": {
    "execution": {
     "iopub.execute_input": "2022-06-12T05:22:21.907251Z",
     "iopub.status.busy": "2022-06-12T05:22:21.906816Z",
     "iopub.status.idle": "2022-06-12T05:22:21.908103Z",
     "shell.execute_reply": "2022-06-12T05:22:21.908339Z"
    },
    "id": "952b7fc8",
    "papermill": {
     "duration": 0.011412,
     "end_time": "2022-06-12T05:22:21.908458",
     "exception": false,
     "start_time": "2022-06-12T05:22:21.897046",
     "status": "completed"
    },
    "tags": []
   },
   "outputs": [],
   "source": [
    "batch_size = 32\n",
    "n_epochs = 1000\n",
    "#Select the device \n",
    "device = torch.device('cuda' if torch.cuda.is_available() else 'cpu')"
   ]
  },
  {
   "cell_type": "markdown",
   "id": "a95e1600",
   "metadata": {
    "id": "a95e1600",
    "papermill": {
     "duration": 0.007269,
     "end_time": "2022-06-12T05:22:21.923156",
     "exception": false,
     "start_time": "2022-06-12T05:22:21.915887",
     "status": "completed"
    },
    "tags": []
   },
   "source": [
    "# ABC Pre-generator Model \n",
    "\n",
    "1. The catboost model is used as a pre-generator model for the ABC-GAN. \n",
    "2. The model is first trained on the entire dataset \n",
    "3. It generats X,Y pairs and we add some Gaussian noise with mean 0 and variance 1 to it which is then feed as input to the generator.\n"
   ]
  },
  {
   "cell_type": "code",
   "execution_count": 9,
   "id": "ff8ce7bd",
   "metadata": {
    "execution": {
     "iopub.execute_input": "2022-06-12T05:22:21.943249Z",
     "iopub.status.busy": "2022-06-12T05:22:21.942837Z",
     "iopub.status.idle": "2022-06-12T05:22:23.458338Z",
     "shell.execute_reply": "2022-06-12T05:22:23.458763Z"
    },
    "id": "ff8ce7bd",
    "papermill": {
     "duration": 1.528211,
     "end_time": "2022-06-12T05:22:23.458895",
     "exception": false,
     "start_time": "2022-06-12T05:22:21.930684",
     "status": "completed"
    },
    "tags": []
   },
   "outputs": [
    {
     "name": "stdout",
     "output_type": "stream",
     "text": [
      "Learning rate set to 0.033215\n",
      "0:\tlearn: 0.9653940\ttotal: 57.9ms\tremaining: 57.8s\n",
      "1:\tlearn: 0.9460126\ttotal: 58.8ms\tremaining: 29.3s\n",
      "2:\tlearn: 0.9273891\ttotal: 59.7ms\tremaining: 19.9s\n",
      "3:\tlearn: 0.9104691\ttotal: 60.7ms\tremaining: 15.1s\n",
      "4:\tlearn: 0.8938022\ttotal: 61.7ms\tremaining: 12.3s\n",
      "5:\tlearn: 0.8789489\ttotal: 62.6ms\tremaining: 10.4s\n",
      "6:\tlearn: 0.8624526\ttotal: 63.9ms\tremaining: 9.06s\n",
      "7:\tlearn: 0.8469335\ttotal: 64.7ms\tremaining: 8.03s\n",
      "8:\tlearn: 0.8324871\ttotal: 65.6ms\tremaining: 7.22s\n",
      "9:\tlearn: 0.8161517\ttotal: 67.1ms\tremaining: 6.64s\n",
      "10:\tlearn: 0.8010794\ttotal: 67.9ms\tremaining: 6.1s\n",
      "11:\tlearn: 0.7852108\ttotal: 68.8ms\tremaining: 5.66s\n",
      "12:\tlearn: 0.7704701\ttotal: 69.6ms\tremaining: 5.29s\n",
      "13:\tlearn: 0.7547912\ttotal: 70.6ms\tremaining: 4.97s\n",
      "14:\tlearn: 0.7411215\ttotal: 71.5ms\tremaining: 4.69s\n",
      "15:\tlearn: 0.7267776\ttotal: 72.3ms\tremaining: 4.45s\n",
      "16:\tlearn: 0.7136046\ttotal: 73.2ms\tremaining: 4.23s\n",
      "17:\tlearn: 0.7005053\ttotal: 74ms\tremaining: 4.04s\n",
      "18:\tlearn: 0.6881258\ttotal: 74.9ms\tremaining: 3.87s\n",
      "19:\tlearn: 0.6750632\ttotal: 75.7ms\tremaining: 3.71s\n",
      "20:\tlearn: 0.6612595\ttotal: 76.4ms\tremaining: 3.56s\n",
      "21:\tlearn: 0.6488865\ttotal: 77.1ms\tremaining: 3.43s\n",
      "22:\tlearn: 0.6377395\ttotal: 77.9ms\tremaining: 3.31s\n",
      "23:\tlearn: 0.6278070\ttotal: 79.3ms\tremaining: 3.23s\n",
      "24:\tlearn: 0.6176761\ttotal: 80.1ms\tremaining: 3.12s\n",
      "25:\tlearn: 0.6083033\ttotal: 80.9ms\tremaining: 3.03s\n",
      "26:\tlearn: 0.5994563\ttotal: 81.7ms\tremaining: 2.94s\n",
      "27:\tlearn: 0.5907492\ttotal: 82.4ms\tremaining: 2.86s\n",
      "28:\tlearn: 0.5812494\ttotal: 83.2ms\tremaining: 2.79s\n",
      "29:\tlearn: 0.5711350\ttotal: 84ms\tremaining: 2.71s\n",
      "30:\tlearn: 0.5606428\ttotal: 84.8ms\tremaining: 2.65s\n",
      "31:\tlearn: 0.5516878\ttotal: 85.7ms\tremaining: 2.59s\n",
      "32:\tlearn: 0.5438816\ttotal: 86.5ms\tremaining: 2.54s\n",
      "33:\tlearn: 0.5362905\ttotal: 87.3ms\tremaining: 2.48s\n",
      "34:\tlearn: 0.5282483\ttotal: 88.1ms\tremaining: 2.43s\n",
      "35:\tlearn: 0.5201851\ttotal: 89ms\tremaining: 2.38s\n",
      "36:\tlearn: 0.5136773\ttotal: 89.8ms\tremaining: 2.34s\n",
      "37:\tlearn: 0.5060081\ttotal: 90.6ms\tremaining: 2.29s\n",
      "38:\tlearn: 0.4988373\ttotal: 92.3ms\tremaining: 2.27s\n",
      "39:\tlearn: 0.4912428\ttotal: 93.5ms\tremaining: 2.24s\n",
      "40:\tlearn: 0.4862176\ttotal: 94.4ms\tremaining: 2.21s\n",
      "41:\tlearn: 0.4801874\ttotal: 95.5ms\tremaining: 2.18s\n",
      "42:\tlearn: 0.4756041\ttotal: 96ms\tremaining: 2.14s\n",
      "43:\tlearn: 0.4694616\ttotal: 97.9ms\tremaining: 2.13s\n",
      "44:\tlearn: 0.4630005\ttotal: 98.6ms\tremaining: 2.09s\n",
      "45:\tlearn: 0.4580736\ttotal: 99.4ms\tremaining: 2.06s\n",
      "46:\tlearn: 0.4525550\ttotal: 101ms\tremaining: 2.05s\n",
      "47:\tlearn: 0.4471954\ttotal: 102ms\tremaining: 2.03s\n",
      "48:\tlearn: 0.4421133\ttotal: 103ms\tremaining: 2s\n"
     ]
    },
    {
     "name": "stdout",
     "output_type": "stream",
     "text": [
      "49:\tlearn: 0.4370220\ttotal: 104ms\tremaining: 1.98s\n",
      "50:\tlearn: 0.4320192\ttotal: 105ms\tremaining: 1.96s\n",
      "51:\tlearn: 0.4268694\ttotal: 106ms\tremaining: 1.94s\n",
      "52:\tlearn: 0.4217996\ttotal: 107ms\tremaining: 1.92s\n",
      "53:\tlearn: 0.4168128\ttotal: 108ms\tremaining: 1.9s\n",
      "54:\tlearn: 0.4126524\ttotal: 109ms\tremaining: 1.88s\n",
      "55:\tlearn: 0.4078768\ttotal: 111ms\tremaining: 1.87s\n",
      "56:\tlearn: 0.4039347\ttotal: 112ms\tremaining: 1.86s\n",
      "57:\tlearn: 0.3995821\ttotal: 113ms\tremaining: 1.84s\n",
      "58:\tlearn: 0.3966325\ttotal: 114ms\tremaining: 1.82s\n",
      "59:\tlearn: 0.3926530\ttotal: 115ms\tremaining: 1.8s\n",
      "60:\tlearn: 0.3889930\ttotal: 116ms\tremaining: 1.79s\n",
      "61:\tlearn: 0.3855061\ttotal: 117ms\tremaining: 1.77s\n",
      "62:\tlearn: 0.3819110\ttotal: 118ms\tremaining: 1.75s\n",
      "63:\tlearn: 0.3785582\ttotal: 119ms\tremaining: 1.74s\n",
      "64:\tlearn: 0.3752560\ttotal: 120ms\tremaining: 1.73s\n",
      "65:\tlearn: 0.3716891\ttotal: 121ms\tremaining: 1.71s\n",
      "66:\tlearn: 0.3688789\ttotal: 122ms\tremaining: 1.7s\n",
      "67:\tlearn: 0.3656203\ttotal: 123ms\tremaining: 1.69s\n",
      "68:\tlearn: 0.3628060\ttotal: 124ms\tremaining: 1.68s\n",
      "69:\tlearn: 0.3597320\ttotal: 125ms\tremaining: 1.67s\n",
      "70:\tlearn: 0.3573401\ttotal: 126ms\tremaining: 1.65s\n",
      "71:\tlearn: 0.3546991\ttotal: 127ms\tremaining: 1.64s\n",
      "72:\tlearn: 0.3517671\ttotal: 128ms\tremaining: 1.62s\n",
      "73:\tlearn: 0.3492869\ttotal: 129ms\tremaining: 1.61s\n",
      "74:\tlearn: 0.3468962\ttotal: 130ms\tremaining: 1.6s\n",
      "75:\tlearn: 0.3437276\ttotal: 131ms\tremaining: 1.59s\n",
      "76:\tlearn: 0.3416212\ttotal: 132ms\tremaining: 1.58s\n",
      "77:\tlearn: 0.3394273\ttotal: 133ms\tremaining: 1.57s\n",
      "78:\tlearn: 0.3367824\ttotal: 134ms\tremaining: 1.56s\n",
      "79:\tlearn: 0.3342512\ttotal: 135ms\tremaining: 1.55s\n",
      "80:\tlearn: 0.3316392\ttotal: 136ms\tremaining: 1.54s\n",
      "81:\tlearn: 0.3295159\ttotal: 136ms\tremaining: 1.53s\n",
      "82:\tlearn: 0.3275351\ttotal: 137ms\tremaining: 1.52s\n",
      "83:\tlearn: 0.3254215\ttotal: 139ms\tremaining: 1.51s\n",
      "84:\tlearn: 0.3233125\ttotal: 140ms\tremaining: 1.5s\n",
      "85:\tlearn: 0.3208159\ttotal: 141ms\tremaining: 1.49s\n",
      "86:\tlearn: 0.3187842\ttotal: 142ms\tremaining: 1.49s\n",
      "87:\tlearn: 0.3165481\ttotal: 142ms\tremaining: 1.48s\n",
      "88:\tlearn: 0.3147702\ttotal: 143ms\tremaining: 1.47s\n",
      "89:\tlearn: 0.3128115\ttotal: 144ms\tremaining: 1.46s\n",
      "90:\tlearn: 0.3112029\ttotal: 145ms\tremaining: 1.45s\n",
      "91:\tlearn: 0.3091611\ttotal: 146ms\tremaining: 1.44s\n",
      "92:\tlearn: 0.3073726\ttotal: 148ms\tremaining: 1.44s\n",
      "93:\tlearn: 0.3056471\ttotal: 149ms\tremaining: 1.43s\n",
      "94:\tlearn: 0.3036872\ttotal: 149ms\tremaining: 1.42s\n",
      "95:\tlearn: 0.3020072\ttotal: 150ms\tremaining: 1.42s\n",
      "96:\tlearn: 0.3008127\ttotal: 151ms\tremaining: 1.41s\n",
      "97:\tlearn: 0.2994881\ttotal: 153ms\tremaining: 1.41s\n",
      "98:\tlearn: 0.2981866\ttotal: 154ms\tremaining: 1.4s\n",
      "99:\tlearn: 0.2961996\ttotal: 155ms\tremaining: 1.4s\n",
      "100:\tlearn: 0.2943451\ttotal: 156ms\tremaining: 1.39s\n",
      "101:\tlearn: 0.2928860\ttotal: 158ms\tremaining: 1.39s\n",
      "102:\tlearn: 0.2916340\ttotal: 158ms\tremaining: 1.38s\n",
      "103:\tlearn: 0.2904200\ttotal: 159ms\tremaining: 1.37s\n",
      "104:\tlearn: 0.2889943\ttotal: 160ms\tremaining: 1.37s\n",
      "105:\tlearn: 0.2875869\ttotal: 161ms\tremaining: 1.36s\n",
      "106:\tlearn: 0.2857261\ttotal: 163ms\tremaining: 1.36s\n",
      "107:\tlearn: 0.2847164\ttotal: 164ms\tremaining: 1.35s\n",
      "108:\tlearn: 0.2830007\ttotal: 165ms\tremaining: 1.34s\n",
      "109:\tlearn: 0.2818168\ttotal: 165ms\tremaining: 1.34s\n",
      "110:\tlearn: 0.2807923\ttotal: 166ms\tremaining: 1.33s\n",
      "111:\tlearn: 0.2793998\ttotal: 167ms\tremaining: 1.33s\n",
      "112:\tlearn: 0.2780137\ttotal: 169ms\tremaining: 1.32s\n",
      "113:\tlearn: 0.2764027\ttotal: 170ms\tremaining: 1.32s\n",
      "114:\tlearn: 0.2751286\ttotal: 171ms\tremaining: 1.31s\n",
      "115:\tlearn: 0.2735731\ttotal: 172ms\tremaining: 1.31s\n",
      "116:\tlearn: 0.2723836\ttotal: 173ms\tremaining: 1.31s\n",
      "117:\tlearn: 0.2710671\ttotal: 174ms\tremaining: 1.3s\n",
      "118:\tlearn: 0.2702833\ttotal: 175ms\tremaining: 1.3s\n",
      "119:\tlearn: 0.2689966\ttotal: 176ms\tremaining: 1.29s\n",
      "120:\tlearn: 0.2682037\ttotal: 177ms\tremaining: 1.29s\n",
      "121:\tlearn: 0.2672987\ttotal: 179ms\tremaining: 1.29s\n",
      "122:\tlearn: 0.2656930\ttotal: 180ms\tremaining: 1.28s\n",
      "123:\tlearn: 0.2644303\ttotal: 181ms\tremaining: 1.28s\n",
      "124:\tlearn: 0.2631187\ttotal: 182ms\tremaining: 1.27s\n",
      "125:\tlearn: 0.2620264\ttotal: 182ms\tremaining: 1.26s\n",
      "126:\tlearn: 0.2612388\ttotal: 184ms\tremaining: 1.26s\n",
      "127:\tlearn: 0.2602028\ttotal: 185ms\tremaining: 1.26s\n",
      "128:\tlearn: 0.2591259\ttotal: 186ms\tremaining: 1.26s\n",
      "129:\tlearn: 0.2584894\ttotal: 187ms\tremaining: 1.25s\n",
      "130:\tlearn: 0.2575109\ttotal: 189ms\tremaining: 1.25s\n",
      "131:\tlearn: 0.2564070\ttotal: 190ms\tremaining: 1.25s\n",
      "132:\tlearn: 0.2555974\ttotal: 190ms\tremaining: 1.24s\n"
     ]
    },
    {
     "name": "stdout",
     "output_type": "stream",
     "text": [
      "133:\tlearn: 0.2548774\ttotal: 192ms\tremaining: 1.24s\n",
      "134:\tlearn: 0.2539293\ttotal: 193ms\tremaining: 1.24s\n",
      "135:\tlearn: 0.2530605\ttotal: 194ms\tremaining: 1.23s\n",
      "136:\tlearn: 0.2521449\ttotal: 195ms\tremaining: 1.23s\n",
      "137:\tlearn: 0.2512229\ttotal: 196ms\tremaining: 1.22s\n",
      "138:\tlearn: 0.2505154\ttotal: 197ms\tremaining: 1.22s\n",
      "139:\tlearn: 0.2496370\ttotal: 198ms\tremaining: 1.22s\n",
      "140:\tlearn: 0.2489141\ttotal: 199ms\tremaining: 1.21s\n",
      "141:\tlearn: 0.2478368\ttotal: 201ms\tremaining: 1.21s\n",
      "142:\tlearn: 0.2466827\ttotal: 202ms\tremaining: 1.21s\n",
      "143:\tlearn: 0.2458776\ttotal: 203ms\tremaining: 1.2s\n",
      "144:\tlearn: 0.2452611\ttotal: 204ms\tremaining: 1.2s\n",
      "145:\tlearn: 0.2442423\ttotal: 205ms\tremaining: 1.2s\n",
      "146:\tlearn: 0.2435600\ttotal: 205ms\tremaining: 1.19s\n",
      "147:\tlearn: 0.2425896\ttotal: 206ms\tremaining: 1.19s\n",
      "148:\tlearn: 0.2418426\ttotal: 208ms\tremaining: 1.19s\n",
      "149:\tlearn: 0.2410307\ttotal: 209ms\tremaining: 1.18s\n",
      "150:\tlearn: 0.2400660\ttotal: 210ms\tremaining: 1.18s\n",
      "151:\tlearn: 0.2393574\ttotal: 211ms\tremaining: 1.18s\n",
      "152:\tlearn: 0.2386506\ttotal: 212ms\tremaining: 1.17s\n",
      "153:\tlearn: 0.2382318\ttotal: 213ms\tremaining: 1.17s\n",
      "154:\tlearn: 0.2374557\ttotal: 213ms\tremaining: 1.16s\n",
      "155:\tlearn: 0.2368590\ttotal: 214ms\tremaining: 1.16s\n",
      "156:\tlearn: 0.2357792\ttotal: 215ms\tremaining: 1.16s\n",
      "157:\tlearn: 0.2349025\ttotal: 216ms\tremaining: 1.15s\n",
      "158:\tlearn: 0.2339295\ttotal: 217ms\tremaining: 1.15s\n",
      "159:\tlearn: 0.2334459\ttotal: 218ms\tremaining: 1.14s\n",
      "160:\tlearn: 0.2327353\ttotal: 219ms\tremaining: 1.14s\n",
      "161:\tlearn: 0.2319543\ttotal: 219ms\tremaining: 1.13s\n",
      "162:\tlearn: 0.2316686\ttotal: 220ms\tremaining: 1.13s\n",
      "163:\tlearn: 0.2309913\ttotal: 221ms\tremaining: 1.13s\n",
      "164:\tlearn: 0.2301671\ttotal: 222ms\tremaining: 1.12s\n",
      "165:\tlearn: 0.2290762\ttotal: 223ms\tremaining: 1.12s\n",
      "166:\tlearn: 0.2283887\ttotal: 224ms\tremaining: 1.11s\n",
      "167:\tlearn: 0.2277062\ttotal: 224ms\tremaining: 1.11s\n",
      "168:\tlearn: 0.2271685\ttotal: 225ms\tremaining: 1.11s\n",
      "169:\tlearn: 0.2264617\ttotal: 226ms\tremaining: 1.1s\n",
      "170:\tlearn: 0.2257070\ttotal: 227ms\tremaining: 1.1s\n",
      "171:\tlearn: 0.2250515\ttotal: 228ms\tremaining: 1.09s\n",
      "172:\tlearn: 0.2245755\ttotal: 229ms\tremaining: 1.09s\n",
      "173:\tlearn: 0.2239762\ttotal: 230ms\tremaining: 1.09s\n",
      "174:\tlearn: 0.2232114\ttotal: 231ms\tremaining: 1.09s\n",
      "175:\tlearn: 0.2228537\ttotal: 232ms\tremaining: 1.08s\n",
      "176:\tlearn: 0.2221981\ttotal: 232ms\tremaining: 1.08s\n",
      "177:\tlearn: 0.2217171\ttotal: 233ms\tremaining: 1.08s\n",
      "178:\tlearn: 0.2211146\ttotal: 234ms\tremaining: 1.07s\n",
      "179:\tlearn: 0.2203312\ttotal: 235ms\tremaining: 1.07s\n",
      "180:\tlearn: 0.2197854\ttotal: 236ms\tremaining: 1.07s\n",
      "181:\tlearn: 0.2189272\ttotal: 237ms\tremaining: 1.06s\n",
      "182:\tlearn: 0.2183598\ttotal: 238ms\tremaining: 1.06s\n",
      "183:\tlearn: 0.2176460\ttotal: 239ms\tremaining: 1.06s\n",
      "184:\tlearn: 0.2169260\ttotal: 239ms\tremaining: 1.05s\n",
      "185:\tlearn: 0.2164470\ttotal: 240ms\tremaining: 1.05s\n",
      "186:\tlearn: 0.2158217\ttotal: 241ms\tremaining: 1.05s\n",
      "187:\tlearn: 0.2150476\ttotal: 242ms\tremaining: 1.04s\n",
      "188:\tlearn: 0.2146685\ttotal: 243ms\tremaining: 1.04s\n",
      "189:\tlearn: 0.2140952\ttotal: 244ms\tremaining: 1.04s\n",
      "190:\tlearn: 0.2135340\ttotal: 244ms\tremaining: 1.03s\n",
      "191:\tlearn: 0.2130400\ttotal: 245ms\tremaining: 1.03s\n",
      "192:\tlearn: 0.2126268\ttotal: 246ms\tremaining: 1.03s\n",
      "193:\tlearn: 0.2119653\ttotal: 247ms\tremaining: 1.03s\n",
      "194:\tlearn: 0.2114016\ttotal: 248ms\tremaining: 1.02s\n",
      "195:\tlearn: 0.2108844\ttotal: 249ms\tremaining: 1.02s\n",
      "196:\tlearn: 0.2102893\ttotal: 251ms\tremaining: 1.02s\n",
      "197:\tlearn: 0.2096633\ttotal: 251ms\tremaining: 1.02s\n",
      "198:\tlearn: 0.2092431\ttotal: 254ms\tremaining: 1.02s\n",
      "199:\tlearn: 0.2084456\ttotal: 255ms\tremaining: 1.02s\n",
      "200:\tlearn: 0.2077835\ttotal: 256ms\tremaining: 1.01s\n",
      "201:\tlearn: 0.2073693\ttotal: 256ms\tremaining: 1.01s\n",
      "202:\tlearn: 0.2068360\ttotal: 257ms\tremaining: 1.01s\n",
      "203:\tlearn: 0.2063622\ttotal: 257ms\tremaining: 1s\n",
      "204:\tlearn: 0.2058934\ttotal: 258ms\tremaining: 1s\n",
      "205:\tlearn: 0.2053255\ttotal: 259ms\tremaining: 997ms\n",
      "206:\tlearn: 0.2048052\ttotal: 259ms\tremaining: 993ms\n",
      "207:\tlearn: 0.2043680\ttotal: 260ms\tremaining: 990ms\n",
      "208:\tlearn: 0.2040143\ttotal: 261ms\tremaining: 989ms\n",
      "209:\tlearn: 0.2035616\ttotal: 262ms\tremaining: 986ms\n",
      "210:\tlearn: 0.2030107\ttotal: 263ms\tremaining: 983ms\n",
      "211:\tlearn: 0.2025543\ttotal: 264ms\tremaining: 983ms\n",
      "212:\tlearn: 0.2018737\ttotal: 265ms\tremaining: 980ms\n",
      "213:\tlearn: 0.2011909\ttotal: 267ms\tremaining: 981ms\n",
      "214:\tlearn: 0.2008031\ttotal: 269ms\tremaining: 981ms\n",
      "215:\tlearn: 0.2002910\ttotal: 269ms\tremaining: 978ms\n",
      "216:\tlearn: 0.1998088\ttotal: 270ms\tremaining: 975ms\n",
      "217:\tlearn: 0.1992721\ttotal: 271ms\tremaining: 972ms\n",
      "218:\tlearn: 0.1988751\ttotal: 272ms\tremaining: 969ms\n",
      "219:\tlearn: 0.1983415\ttotal: 273ms\tremaining: 967ms\n",
      "220:\tlearn: 0.1977999\ttotal: 274ms\tremaining: 964ms\n",
      "221:\tlearn: 0.1973205\ttotal: 274ms\tremaining: 961ms\n",
      "222:\tlearn: 0.1967790\ttotal: 275ms\tremaining: 959ms\n",
      "223:\tlearn: 0.1963568\ttotal: 276ms\tremaining: 956ms\n",
      "224:\tlearn: 0.1960329\ttotal: 277ms\tremaining: 953ms\n",
      "225:\tlearn: 0.1953694\ttotal: 277ms\tremaining: 950ms\n",
      "226:\tlearn: 0.1950574\ttotal: 278ms\tremaining: 947ms\n",
      "227:\tlearn: 0.1945524\ttotal: 279ms\tremaining: 945ms\n",
      "228:\tlearn: 0.1942228\ttotal: 280ms\tremaining: 942ms\n",
      "229:\tlearn: 0.1936768\ttotal: 281ms\tremaining: 940ms\n",
      "230:\tlearn: 0.1931928\ttotal: 282ms\tremaining: 937ms\n",
      "231:\tlearn: 0.1926721\ttotal: 282ms\tremaining: 935ms\n",
      "232:\tlearn: 0.1922551\ttotal: 284ms\tremaining: 934ms\n",
      "233:\tlearn: 0.1915368\ttotal: 285ms\tremaining: 932ms\n",
      "234:\tlearn: 0.1913606\ttotal: 285ms\tremaining: 929ms\n",
      "235:\tlearn: 0.1911916\ttotal: 286ms\tremaining: 926ms\n",
      "236:\tlearn: 0.1908028\ttotal: 287ms\tremaining: 923ms\n",
      "237:\tlearn: 0.1905089\ttotal: 288ms\tremaining: 921ms\n",
      "238:\tlearn: 0.1900785\ttotal: 288ms\tremaining: 918ms\n",
      "239:\tlearn: 0.1897352\ttotal: 289ms\tremaining: 915ms\n",
      "240:\tlearn: 0.1894128\ttotal: 290ms\tremaining: 913ms\n",
      "241:\tlearn: 0.1889519\ttotal: 291ms\tremaining: 910ms\n",
      "242:\tlearn: 0.1886897\ttotal: 291ms\tremaining: 907ms\n",
      "243:\tlearn: 0.1881676\ttotal: 292ms\tremaining: 905ms\n",
      "244:\tlearn: 0.1878482\ttotal: 293ms\tremaining: 903ms\n",
      "245:\tlearn: 0.1874777\ttotal: 294ms\tremaining: 900ms\n"
     ]
    },
    {
     "name": "stdout",
     "output_type": "stream",
     "text": [
      "246:\tlearn: 0.1869963\ttotal: 295ms\tremaining: 899ms\n",
      "247:\tlearn: 0.1865313\ttotal: 296ms\tremaining: 897ms\n",
      "248:\tlearn: 0.1860282\ttotal: 297ms\tremaining: 895ms\n",
      "249:\tlearn: 0.1856682\ttotal: 298ms\tremaining: 893ms\n",
      "250:\tlearn: 0.1852029\ttotal: 298ms\tremaining: 891ms\n",
      "251:\tlearn: 0.1848105\ttotal: 299ms\tremaining: 889ms\n",
      "252:\tlearn: 0.1844034\ttotal: 300ms\tremaining: 886ms\n",
      "253:\tlearn: 0.1838620\ttotal: 301ms\tremaining: 885ms\n",
      "254:\tlearn: 0.1834418\ttotal: 303ms\tremaining: 884ms\n",
      "255:\tlearn: 0.1829505\ttotal: 304ms\tremaining: 883ms\n",
      "256:\tlearn: 0.1825408\ttotal: 306ms\tremaining: 885ms\n",
      "257:\tlearn: 0.1820835\ttotal: 307ms\tremaining: 884ms\n",
      "258:\tlearn: 0.1818231\ttotal: 308ms\tremaining: 882ms\n",
      "259:\tlearn: 0.1814452\ttotal: 309ms\tremaining: 880ms\n",
      "260:\tlearn: 0.1812601\ttotal: 310ms\tremaining: 878ms\n",
      "261:\tlearn: 0.1809580\ttotal: 311ms\tremaining: 876ms\n",
      "262:\tlearn: 0.1805861\ttotal: 312ms\tremaining: 873ms\n",
      "263:\tlearn: 0.1804395\ttotal: 313ms\tremaining: 872ms\n",
      "264:\tlearn: 0.1801247\ttotal: 314ms\tremaining: 870ms\n",
      "265:\tlearn: 0.1796983\ttotal: 314ms\tremaining: 867ms\n",
      "266:\tlearn: 0.1795157\ttotal: 315ms\tremaining: 865ms\n",
      "267:\tlearn: 0.1793820\ttotal: 316ms\tremaining: 863ms\n",
      "268:\tlearn: 0.1791197\ttotal: 317ms\tremaining: 861ms\n",
      "269:\tlearn: 0.1784973\ttotal: 317ms\tremaining: 858ms\n",
      "270:\tlearn: 0.1781282\ttotal: 319ms\tremaining: 857ms\n",
      "271:\tlearn: 0.1776407\ttotal: 320ms\tremaining: 855ms\n",
      "272:\tlearn: 0.1772766\ttotal: 321ms\tremaining: 854ms\n",
      "273:\tlearn: 0.1768172\ttotal: 321ms\tremaining: 851ms\n",
      "274:\tlearn: 0.1764750\ttotal: 322ms\tremaining: 849ms\n",
      "275:\tlearn: 0.1760723\ttotal: 323ms\tremaining: 847ms\n",
      "276:\tlearn: 0.1758467\ttotal: 324ms\tremaining: 844ms\n",
      "277:\tlearn: 0.1756648\ttotal: 324ms\tremaining: 842ms\n",
      "278:\tlearn: 0.1754719\ttotal: 325ms\tremaining: 840ms\n",
      "279:\tlearn: 0.1753068\ttotal: 326ms\tremaining: 838ms\n",
      "280:\tlearn: 0.1750922\ttotal: 327ms\tremaining: 836ms\n",
      "281:\tlearn: 0.1744863\ttotal: 328ms\tremaining: 834ms\n",
      "282:\tlearn: 0.1741179\ttotal: 328ms\tremaining: 832ms\n",
      "283:\tlearn: 0.1739585\ttotal: 329ms\tremaining: 830ms\n",
      "284:\tlearn: 0.1734547\ttotal: 330ms\tremaining: 828ms\n",
      "285:\tlearn: 0.1731960\ttotal: 331ms\tremaining: 826ms\n",
      "286:\tlearn: 0.1727230\ttotal: 332ms\tremaining: 824ms\n",
      "287:\tlearn: 0.1725504\ttotal: 332ms\tremaining: 821ms\n",
      "288:\tlearn: 0.1722324\ttotal: 333ms\tremaining: 819ms\n",
      "289:\tlearn: 0.1718817\ttotal: 334ms\tremaining: 817ms\n",
      "290:\tlearn: 0.1716104\ttotal: 335ms\tremaining: 815ms\n",
      "291:\tlearn: 0.1713754\ttotal: 335ms\tremaining: 813ms\n",
      "292:\tlearn: 0.1709557\ttotal: 336ms\tremaining: 811ms\n",
      "293:\tlearn: 0.1706169\ttotal: 337ms\tremaining: 809ms\n",
      "294:\tlearn: 0.1699890\ttotal: 338ms\tremaining: 807ms\n",
      "295:\tlearn: 0.1698531\ttotal: 338ms\tremaining: 805ms\n",
      "296:\tlearn: 0.1695887\ttotal: 339ms\tremaining: 803ms\n",
      "297:\tlearn: 0.1694878\ttotal: 340ms\tremaining: 801ms\n",
      "298:\tlearn: 0.1692906\ttotal: 341ms\tremaining: 799ms\n",
      "299:\tlearn: 0.1690508\ttotal: 342ms\tremaining: 797ms\n",
      "300:\tlearn: 0.1688964\ttotal: 342ms\tremaining: 795ms\n",
      "301:\tlearn: 0.1683662\ttotal: 343ms\tremaining: 793ms\n",
      "302:\tlearn: 0.1679928\ttotal: 344ms\tremaining: 791ms\n",
      "303:\tlearn: 0.1675808\ttotal: 345ms\tremaining: 789ms\n",
      "304:\tlearn: 0.1674825\ttotal: 345ms\tremaining: 787ms\n",
      "305:\tlearn: 0.1671633\ttotal: 346ms\tremaining: 785ms\n",
      "306:\tlearn: 0.1668951\ttotal: 347ms\tremaining: 783ms\n",
      "307:\tlearn: 0.1663457\ttotal: 348ms\tremaining: 782ms\n",
      "308:\tlearn: 0.1658934\ttotal: 349ms\tremaining: 780ms\n",
      "309:\tlearn: 0.1656277\ttotal: 350ms\tremaining: 778ms\n",
      "310:\tlearn: 0.1655246\ttotal: 350ms\tremaining: 776ms\n",
      "311:\tlearn: 0.1653779\ttotal: 351ms\tremaining: 775ms\n",
      "312:\tlearn: 0.1651870\ttotal: 352ms\tremaining: 773ms\n",
      "313:\tlearn: 0.1650422\ttotal: 353ms\tremaining: 771ms\n",
      "314:\tlearn: 0.1648155\ttotal: 354ms\tremaining: 769ms\n",
      "315:\tlearn: 0.1646109\ttotal: 355ms\tremaining: 768ms\n",
      "316:\tlearn: 0.1645134\ttotal: 355ms\tremaining: 766ms\n",
      "317:\tlearn: 0.1643732\ttotal: 356ms\tremaining: 764ms\n",
      "318:\tlearn: 0.1640894\ttotal: 357ms\tremaining: 762ms\n",
      "319:\tlearn: 0.1637881\ttotal: 358ms\tremaining: 760ms\n",
      "320:\tlearn: 0.1634412\ttotal: 359ms\tremaining: 759ms\n",
      "321:\tlearn: 0.1633512\ttotal: 359ms\tremaining: 757ms\n",
      "322:\tlearn: 0.1631843\ttotal: 360ms\tremaining: 755ms\n",
      "323:\tlearn: 0.1630639\ttotal: 361ms\tremaining: 754ms\n",
      "324:\tlearn: 0.1624853\ttotal: 362ms\tremaining: 752ms\n",
      "325:\tlearn: 0.1621326\ttotal: 363ms\tremaining: 750ms\n",
      "326:\tlearn: 0.1619881\ttotal: 363ms\tremaining: 748ms\n",
      "327:\tlearn: 0.1615002\ttotal: 364ms\tremaining: 746ms\n",
      "328:\tlearn: 0.1610450\ttotal: 365ms\tremaining: 744ms\n",
      "329:\tlearn: 0.1606344\ttotal: 366ms\tremaining: 743ms\n",
      "330:\tlearn: 0.1601282\ttotal: 366ms\tremaining: 741ms\n",
      "331:\tlearn: 0.1599183\ttotal: 367ms\tremaining: 739ms\n",
      "332:\tlearn: 0.1597933\ttotal: 368ms\tremaining: 738ms\n",
      "333:\tlearn: 0.1594029\ttotal: 369ms\tremaining: 736ms\n",
      "334:\tlearn: 0.1591351\ttotal: 370ms\tremaining: 734ms\n",
      "335:\tlearn: 0.1588741\ttotal: 371ms\tremaining: 733ms\n",
      "336:\tlearn: 0.1585159\ttotal: 372ms\tremaining: 732ms\n",
      "337:\tlearn: 0.1582887\ttotal: 373ms\tremaining: 730ms\n",
      "338:\tlearn: 0.1581687\ttotal: 374ms\tremaining: 729ms\n",
      "339:\tlearn: 0.1580604\ttotal: 374ms\tremaining: 727ms\n",
      "340:\tlearn: 0.1577257\ttotal: 375ms\tremaining: 725ms\n",
      "341:\tlearn: 0.1572483\ttotal: 376ms\tremaining: 724ms\n",
      "342:\tlearn: 0.1570862\ttotal: 377ms\tremaining: 722ms\n",
      "343:\tlearn: 0.1566373\ttotal: 378ms\tremaining: 720ms\n",
      "344:\tlearn: 0.1564352\ttotal: 378ms\tremaining: 718ms\n",
      "345:\tlearn: 0.1562630\ttotal: 380ms\tremaining: 718ms\n",
      "346:\tlearn: 0.1557919\ttotal: 380ms\tremaining: 716ms\n"
     ]
    },
    {
     "name": "stdout",
     "output_type": "stream",
     "text": [
      "347:\tlearn: 0.1556490\ttotal: 382ms\tremaining: 715ms\n",
      "348:\tlearn: 0.1552860\ttotal: 383ms\tremaining: 714ms\n",
      "349:\tlearn: 0.1551847\ttotal: 384ms\tremaining: 713ms\n",
      "350:\tlearn: 0.1549771\ttotal: 385ms\tremaining: 712ms\n",
      "351:\tlearn: 0.1548410\ttotal: 386ms\tremaining: 711ms\n",
      "352:\tlearn: 0.1544402\ttotal: 387ms\tremaining: 710ms\n",
      "353:\tlearn: 0.1542059\ttotal: 389ms\tremaining: 709ms\n",
      "354:\tlearn: 0.1537491\ttotal: 390ms\tremaining: 708ms\n",
      "355:\tlearn: 0.1535358\ttotal: 391ms\tremaining: 708ms\n",
      "356:\tlearn: 0.1533174\ttotal: 393ms\tremaining: 707ms\n",
      "357:\tlearn: 0.1528983\ttotal: 394ms\tremaining: 706ms\n",
      "358:\tlearn: 0.1528350\ttotal: 395ms\tremaining: 706ms\n",
      "359:\tlearn: 0.1525326\ttotal: 396ms\tremaining: 704ms\n",
      "360:\tlearn: 0.1524394\ttotal: 399ms\tremaining: 707ms\n",
      "361:\tlearn: 0.1523240\ttotal: 400ms\tremaining: 705ms\n",
      "362:\tlearn: 0.1521456\ttotal: 401ms\tremaining: 704ms\n",
      "363:\tlearn: 0.1516867\ttotal: 403ms\tremaining: 703ms\n",
      "364:\tlearn: 0.1512718\ttotal: 404ms\tremaining: 703ms\n",
      "365:\tlearn: 0.1510899\ttotal: 406ms\tremaining: 702ms\n",
      "366:\tlearn: 0.1508478\ttotal: 407ms\tremaining: 702ms\n",
      "367:\tlearn: 0.1506987\ttotal: 408ms\tremaining: 701ms\n",
      "368:\tlearn: 0.1505316\ttotal: 409ms\tremaining: 699ms\n",
      "369:\tlearn: 0.1502369\ttotal: 410ms\tremaining: 697ms\n",
      "370:\tlearn: 0.1501736\ttotal: 430ms\tremaining: 730ms\n",
      "371:\tlearn: 0.1497971\ttotal: 431ms\tremaining: 728ms\n",
      "372:\tlearn: 0.1496248\ttotal: 432ms\tremaining: 727ms\n",
      "373:\tlearn: 0.1493419\ttotal: 434ms\tremaining: 726ms\n",
      "374:\tlearn: 0.1489930\ttotal: 435ms\tremaining: 725ms\n",
      "375:\tlearn: 0.1488395\ttotal: 436ms\tremaining: 724ms\n",
      "376:\tlearn: 0.1483436\ttotal: 438ms\tremaining: 723ms\n",
      "377:\tlearn: 0.1481898\ttotal: 439ms\tremaining: 723ms\n",
      "378:\tlearn: 0.1479249\ttotal: 450ms\tremaining: 737ms\n",
      "379:\tlearn: 0.1474331\ttotal: 451ms\tremaining: 736ms\n",
      "380:\tlearn: 0.1473257\ttotal: 452ms\tremaining: 735ms\n",
      "381:\tlearn: 0.1470581\ttotal: 454ms\tremaining: 734ms\n",
      "382:\tlearn: 0.1468459\ttotal: 455ms\tremaining: 733ms\n",
      "383:\tlearn: 0.1465904\ttotal: 457ms\tremaining: 733ms\n",
      "384:\tlearn: 0.1461506\ttotal: 458ms\tremaining: 732ms\n",
      "385:\tlearn: 0.1459059\ttotal: 460ms\tremaining: 732ms\n",
      "386:\tlearn: 0.1457828\ttotal: 461ms\tremaining: 731ms\n",
      "387:\tlearn: 0.1456099\ttotal: 462ms\tremaining: 729ms\n",
      "388:\tlearn: 0.1453359\ttotal: 464ms\tremaining: 728ms\n",
      "389:\tlearn: 0.1449946\ttotal: 465ms\tremaining: 727ms\n",
      "390:\tlearn: 0.1447965\ttotal: 465ms\tremaining: 725ms\n",
      "391:\tlearn: 0.1446916\ttotal: 466ms\tremaining: 723ms\n",
      "392:\tlearn: 0.1445554\ttotal: 467ms\tremaining: 721ms\n",
      "393:\tlearn: 0.1441354\ttotal: 468ms\tremaining: 720ms\n",
      "394:\tlearn: 0.1437396\ttotal: 469ms\tremaining: 718ms\n",
      "395:\tlearn: 0.1435417\ttotal: 469ms\tremaining: 716ms\n",
      "396:\tlearn: 0.1433920\ttotal: 470ms\tremaining: 714ms\n",
      "397:\tlearn: 0.1431356\ttotal: 471ms\tremaining: 713ms\n",
      "398:\tlearn: 0.1430436\ttotal: 472ms\tremaining: 711ms\n",
      "399:\tlearn: 0.1427208\ttotal: 473ms\tremaining: 710ms\n",
      "400:\tlearn: 0.1422688\ttotal: 474ms\tremaining: 708ms\n",
      "401:\tlearn: 0.1420536\ttotal: 475ms\tremaining: 706ms\n",
      "402:\tlearn: 0.1419036\ttotal: 476ms\tremaining: 705ms\n",
      "403:\tlearn: 0.1415399\ttotal: 477ms\tremaining: 703ms\n",
      "404:\tlearn: 0.1414420\ttotal: 477ms\tremaining: 701ms\n",
      "405:\tlearn: 0.1410915\ttotal: 478ms\tremaining: 700ms\n",
      "406:\tlearn: 0.1408600\ttotal: 479ms\tremaining: 698ms\n",
      "407:\tlearn: 0.1405645\ttotal: 481ms\tremaining: 698ms\n",
      "408:\tlearn: 0.1403484\ttotal: 482ms\tremaining: 696ms\n",
      "409:\tlearn: 0.1401158\ttotal: 483ms\tremaining: 694ms\n",
      "410:\tlearn: 0.1398849\ttotal: 483ms\tremaining: 693ms\n",
      "411:\tlearn: 0.1395190\ttotal: 484ms\tremaining: 691ms\n",
      "412:\tlearn: 0.1393269\ttotal: 485ms\tremaining: 689ms\n"
     ]
    },
    {
     "name": "stdout",
     "output_type": "stream",
     "text": [
      "413:\tlearn: 0.1390553\ttotal: 486ms\tremaining: 688ms\n",
      "414:\tlearn: 0.1388034\ttotal: 487ms\tremaining: 687ms\n",
      "415:\tlearn: 0.1385395\ttotal: 489ms\tremaining: 686ms\n",
      "416:\tlearn: 0.1382945\ttotal: 490ms\tremaining: 685ms\n",
      "417:\tlearn: 0.1381139\ttotal: 491ms\tremaining: 684ms\n",
      "418:\tlearn: 0.1378009\ttotal: 492ms\tremaining: 683ms\n",
      "419:\tlearn: 0.1374614\ttotal: 493ms\tremaining: 681ms\n",
      "420:\tlearn: 0.1370651\ttotal: 495ms\tremaining: 680ms\n",
      "421:\tlearn: 0.1366736\ttotal: 495ms\tremaining: 678ms\n",
      "422:\tlearn: 0.1363886\ttotal: 496ms\tremaining: 677ms\n",
      "423:\tlearn: 0.1360897\ttotal: 497ms\tremaining: 675ms\n",
      "424:\tlearn: 0.1358139\ttotal: 498ms\tremaining: 674ms\n",
      "425:\tlearn: 0.1356561\ttotal: 500ms\tremaining: 673ms\n",
      "426:\tlearn: 0.1354345\ttotal: 501ms\tremaining: 672ms\n",
      "427:\tlearn: 0.1350338\ttotal: 502ms\tremaining: 671ms\n",
      "428:\tlearn: 0.1347309\ttotal: 503ms\tremaining: 670ms\n",
      "429:\tlearn: 0.1346616\ttotal: 505ms\tremaining: 669ms\n",
      "430:\tlearn: 0.1343985\ttotal: 506ms\tremaining: 668ms\n",
      "431:\tlearn: 0.1341459\ttotal: 507ms\tremaining: 666ms\n",
      "432:\tlearn: 0.1337984\ttotal: 508ms\tremaining: 665ms\n",
      "433:\tlearn: 0.1337277\ttotal: 509ms\tremaining: 663ms\n",
      "434:\tlearn: 0.1336271\ttotal: 510ms\tremaining: 662ms\n",
      "435:\tlearn: 0.1333101\ttotal: 510ms\tremaining: 660ms\n",
      "436:\tlearn: 0.1330602\ttotal: 512ms\tremaining: 659ms\n",
      "437:\tlearn: 0.1328089\ttotal: 513ms\tremaining: 658ms\n",
      "438:\tlearn: 0.1325865\ttotal: 514ms\tremaining: 657ms\n",
      "439:\tlearn: 0.1323062\ttotal: 515ms\tremaining: 656ms\n",
      "440:\tlearn: 0.1322358\ttotal: 516ms\tremaining: 654ms\n",
      "441:\tlearn: 0.1320998\ttotal: 517ms\tremaining: 653ms\n",
      "442:\tlearn: 0.1317634\ttotal: 519ms\tremaining: 652ms\n",
      "443:\tlearn: 0.1315366\ttotal: 522ms\tremaining: 654ms\n",
      "444:\tlearn: 0.1312021\ttotal: 523ms\tremaining: 653ms\n",
      "445:\tlearn: 0.1308523\ttotal: 524ms\tremaining: 651ms\n",
      "446:\tlearn: 0.1306108\ttotal: 526ms\tremaining: 650ms\n",
      "447:\tlearn: 0.1302856\ttotal: 527ms\tremaining: 649ms\n",
      "448:\tlearn: 0.1301176\ttotal: 528ms\tremaining: 648ms\n",
      "449:\tlearn: 0.1297843\ttotal: 529ms\tremaining: 647ms\n",
      "450:\tlearn: 0.1294705\ttotal: 531ms\tremaining: 646ms\n",
      "451:\tlearn: 0.1291824\ttotal: 532ms\tremaining: 644ms\n",
      "452:\tlearn: 0.1289193\ttotal: 533ms\tremaining: 643ms\n",
      "453:\tlearn: 0.1287859\ttotal: 534ms\tremaining: 642ms\n",
      "454:\tlearn: 0.1287471\ttotal: 535ms\tremaining: 641ms\n",
      "455:\tlearn: 0.1285255\ttotal: 536ms\tremaining: 639ms\n",
      "456:\tlearn: 0.1282644\ttotal: 537ms\tremaining: 638ms\n",
      "457:\tlearn: 0.1280196\ttotal: 539ms\tremaining: 637ms\n",
      "458:\tlearn: 0.1278205\ttotal: 540ms\tremaining: 636ms\n",
      "459:\tlearn: 0.1277315\ttotal: 541ms\tremaining: 635ms\n",
      "460:\tlearn: 0.1276234\ttotal: 548ms\tremaining: 641ms\n",
      "461:\tlearn: 0.1274397\ttotal: 550ms\tremaining: 640ms\n",
      "462:\tlearn: 0.1270425\ttotal: 551ms\tremaining: 639ms\n",
      "463:\tlearn: 0.1267245\ttotal: 552ms\tremaining: 638ms\n",
      "464:\tlearn: 0.1265080\ttotal: 553ms\tremaining: 637ms\n",
      "465:\tlearn: 0.1262275\ttotal: 555ms\tremaining: 636ms\n",
      "466:\tlearn: 0.1258794\ttotal: 556ms\tremaining: 634ms\n",
      "467:\tlearn: 0.1256204\ttotal: 557ms\tremaining: 633ms\n",
      "468:\tlearn: 0.1253831\ttotal: 558ms\tremaining: 632ms\n",
      "469:\tlearn: 0.1251809\ttotal: 559ms\tremaining: 631ms\n",
      "470:\tlearn: 0.1249053\ttotal: 560ms\tremaining: 629ms\n",
      "471:\tlearn: 0.1245738\ttotal: 562ms\tremaining: 628ms\n",
      "472:\tlearn: 0.1242882\ttotal: 563ms\tremaining: 627ms\n",
      "473:\tlearn: 0.1241091\ttotal: 564ms\tremaining: 626ms\n",
      "474:\tlearn: 0.1239058\ttotal: 565ms\tremaining: 625ms\n",
      "475:\tlearn: 0.1237126\ttotal: 567ms\tremaining: 624ms\n",
      "476:\tlearn: 0.1235051\ttotal: 568ms\tremaining: 623ms\n",
      "477:\tlearn: 0.1233620\ttotal: 569ms\tremaining: 622ms\n",
      "478:\tlearn: 0.1231718\ttotal: 570ms\tremaining: 620ms\n",
      "479:\tlearn: 0.1229581\ttotal: 571ms\tremaining: 618ms\n",
      "480:\tlearn: 0.1226584\ttotal: 572ms\tremaining: 617ms\n",
      "481:\tlearn: 0.1225099\ttotal: 573ms\tremaining: 616ms\n",
      "482:\tlearn: 0.1223342\ttotal: 574ms\tremaining: 615ms\n"
     ]
    },
    {
     "name": "stdout",
     "output_type": "stream",
     "text": [
      "483:\tlearn: 0.1222387\ttotal: 576ms\tremaining: 614ms\n",
      "484:\tlearn: 0.1219634\ttotal: 577ms\tremaining: 613ms\n",
      "485:\tlearn: 0.1217944\ttotal: 578ms\tremaining: 611ms\n",
      "486:\tlearn: 0.1215102\ttotal: 579ms\tremaining: 610ms\n",
      "487:\tlearn: 0.1213279\ttotal: 580ms\tremaining: 609ms\n",
      "488:\tlearn: 0.1212091\ttotal: 581ms\tremaining: 607ms\n",
      "489:\tlearn: 0.1208836\ttotal: 582ms\tremaining: 606ms\n",
      "490:\tlearn: 0.1205699\ttotal: 583ms\tremaining: 605ms\n",
      "491:\tlearn: 0.1204158\ttotal: 585ms\tremaining: 604ms\n",
      "492:\tlearn: 0.1201625\ttotal: 586ms\tremaining: 603ms\n",
      "493:\tlearn: 0.1200116\ttotal: 587ms\tremaining: 602ms\n",
      "494:\tlearn: 0.1197838\ttotal: 589ms\tremaining: 600ms\n",
      "495:\tlearn: 0.1194438\ttotal: 590ms\tremaining: 599ms\n",
      "496:\tlearn: 0.1192734\ttotal: 600ms\tremaining: 608ms\n",
      "497:\tlearn: 0.1192127\ttotal: 601ms\tremaining: 606ms\n",
      "498:\tlearn: 0.1190261\ttotal: 602ms\tremaining: 605ms\n",
      "499:\tlearn: 0.1189473\ttotal: 605ms\tremaining: 605ms\n",
      "500:\tlearn: 0.1187188\ttotal: 607ms\tremaining: 604ms\n",
      "501:\tlearn: 0.1185329\ttotal: 608ms\tremaining: 603ms\n",
      "502:\tlearn: 0.1182453\ttotal: 609ms\tremaining: 602ms\n",
      "503:\tlearn: 0.1180829\ttotal: 610ms\tremaining: 601ms\n",
      "504:\tlearn: 0.1178356\ttotal: 612ms\tremaining: 600ms\n",
      "505:\tlearn: 0.1176670\ttotal: 613ms\tremaining: 599ms\n",
      "506:\tlearn: 0.1174958\ttotal: 614ms\tremaining: 597ms\n",
      "507:\tlearn: 0.1172490\ttotal: 615ms\tremaining: 596ms\n",
      "508:\tlearn: 0.1170422\ttotal: 616ms\tremaining: 595ms\n",
      "509:\tlearn: 0.1167839\ttotal: 618ms\tremaining: 593ms\n",
      "510:\tlearn: 0.1165365\ttotal: 619ms\tremaining: 592ms\n",
      "511:\tlearn: 0.1163413\ttotal: 620ms\tremaining: 591ms\n",
      "512:\tlearn: 0.1161002\ttotal: 622ms\tremaining: 590ms\n",
      "513:\tlearn: 0.1158351\ttotal: 623ms\tremaining: 589ms\n",
      "514:\tlearn: 0.1156336\ttotal: 624ms\tremaining: 588ms\n",
      "515:\tlearn: 0.1154301\ttotal: 625ms\tremaining: 587ms\n",
      "516:\tlearn: 0.1151978\ttotal: 627ms\tremaining: 585ms\n",
      "517:\tlearn: 0.1149840\ttotal: 628ms\tremaining: 584ms\n",
      "518:\tlearn: 0.1146754\ttotal: 639ms\tremaining: 592ms\n",
      "519:\tlearn: 0.1144779\ttotal: 640ms\tremaining: 590ms\n",
      "520:\tlearn: 0.1142898\ttotal: 641ms\tremaining: 589ms\n",
      "521:\tlearn: 0.1140354\ttotal: 642ms\tremaining: 588ms\n",
      "522:\tlearn: 0.1138979\ttotal: 644ms\tremaining: 587ms\n",
      "523:\tlearn: 0.1136958\ttotal: 645ms\tremaining: 586ms\n",
      "524:\tlearn: 0.1135792\ttotal: 647ms\tremaining: 585ms\n",
      "525:\tlearn: 0.1133271\ttotal: 648ms\tremaining: 584ms\n",
      "526:\tlearn: 0.1132363\ttotal: 649ms\tremaining: 582ms\n",
      "527:\tlearn: 0.1131971\ttotal: 660ms\tremaining: 590ms\n",
      "528:\tlearn: 0.1130445\ttotal: 660ms\tremaining: 588ms\n",
      "529:\tlearn: 0.1128454\ttotal: 661ms\tremaining: 586ms\n",
      "530:\tlearn: 0.1126648\ttotal: 662ms\tremaining: 585ms\n",
      "531:\tlearn: 0.1124113\ttotal: 663ms\tremaining: 583ms\n",
      "532:\tlearn: 0.1122071\ttotal: 664ms\tremaining: 582ms\n",
      "533:\tlearn: 0.1119026\ttotal: 665ms\tremaining: 580ms\n",
      "534:\tlearn: 0.1117767\ttotal: 666ms\tremaining: 579ms\n",
      "535:\tlearn: 0.1116627\ttotal: 668ms\tremaining: 578ms\n",
      "536:\tlearn: 0.1115229\ttotal: 669ms\tremaining: 577ms\n",
      "537:\tlearn: 0.1112314\ttotal: 670ms\tremaining: 575ms\n",
      "538:\tlearn: 0.1110197\ttotal: 671ms\tremaining: 574ms\n",
      "539:\tlearn: 0.1109679\ttotal: 671ms\tremaining: 572ms\n",
      "540:\tlearn: 0.1106597\ttotal: 672ms\tremaining: 570ms\n",
      "541:\tlearn: 0.1104195\ttotal: 673ms\tremaining: 569ms\n",
      "542:\tlearn: 0.1101901\ttotal: 674ms\tremaining: 567ms\n",
      "543:\tlearn: 0.1100455\ttotal: 675ms\tremaining: 566ms\n",
      "544:\tlearn: 0.1098040\ttotal: 676ms\tremaining: 564ms\n",
      "545:\tlearn: 0.1095376\ttotal: 677ms\tremaining: 563ms\n",
      "546:\tlearn: 0.1093654\ttotal: 678ms\tremaining: 562ms\n",
      "547:\tlearn: 0.1092456\ttotal: 679ms\tremaining: 560ms\n",
      "548:\tlearn: 0.1090055\ttotal: 680ms\tremaining: 558ms\n"
     ]
    },
    {
     "name": "stdout",
     "output_type": "stream",
     "text": [
      "549:\tlearn: 0.1087271\ttotal: 681ms\tremaining: 557ms\n",
      "550:\tlearn: 0.1084778\ttotal: 682ms\tremaining: 556ms\n",
      "551:\tlearn: 0.1083437\ttotal: 683ms\tremaining: 555ms\n",
      "552:\tlearn: 0.1083179\ttotal: 684ms\tremaining: 553ms\n",
      "553:\tlearn: 0.1081112\ttotal: 685ms\tremaining: 551ms\n",
      "554:\tlearn: 0.1078949\ttotal: 686ms\tremaining: 550ms\n",
      "555:\tlearn: 0.1077451\ttotal: 687ms\tremaining: 548ms\n",
      "556:\tlearn: 0.1076080\ttotal: 687ms\tremaining: 547ms\n",
      "557:\tlearn: 0.1075784\ttotal: 688ms\tremaining: 545ms\n",
      "558:\tlearn: 0.1074208\ttotal: 689ms\tremaining: 544ms\n",
      "559:\tlearn: 0.1072332\ttotal: 690ms\tremaining: 542ms\n",
      "560:\tlearn: 0.1069982\ttotal: 691ms\tremaining: 540ms\n",
      "561:\tlearn: 0.1068336\ttotal: 691ms\tremaining: 539ms\n",
      "562:\tlearn: 0.1066459\ttotal: 692ms\tremaining: 537ms\n",
      "563:\tlearn: 0.1064621\ttotal: 693ms\tremaining: 536ms\n",
      "564:\tlearn: 0.1064236\ttotal: 694ms\tremaining: 534ms\n",
      "565:\tlearn: 0.1062440\ttotal: 695ms\tremaining: 533ms\n",
      "566:\tlearn: 0.1060238\ttotal: 696ms\tremaining: 531ms\n",
      "567:\tlearn: 0.1059063\ttotal: 697ms\tremaining: 530ms\n",
      "568:\tlearn: 0.1056960\ttotal: 708ms\tremaining: 536ms\n",
      "569:\tlearn: 0.1055553\ttotal: 709ms\tremaining: 535ms\n",
      "570:\tlearn: 0.1054773\ttotal: 710ms\tremaining: 533ms\n",
      "571:\tlearn: 0.1053193\ttotal: 711ms\tremaining: 532ms\n",
      "572:\tlearn: 0.1051962\ttotal: 713ms\tremaining: 531ms\n",
      "573:\tlearn: 0.1051632\ttotal: 714ms\tremaining: 530ms\n",
      "574:\tlearn: 0.1050286\ttotal: 715ms\tremaining: 529ms\n",
      "575:\tlearn: 0.1047976\ttotal: 716ms\tremaining: 527ms\n",
      "576:\tlearn: 0.1045272\ttotal: 718ms\tremaining: 526ms\n",
      "577:\tlearn: 0.1043995\ttotal: 718ms\tremaining: 525ms\n",
      "578:\tlearn: 0.1042319\ttotal: 719ms\tremaining: 523ms\n",
      "579:\tlearn: 0.1040888\ttotal: 720ms\tremaining: 521ms\n",
      "580:\tlearn: 0.1039346\ttotal: 721ms\tremaining: 520ms\n",
      "581:\tlearn: 0.1037705\ttotal: 722ms\tremaining: 518ms\n",
      "582:\tlearn: 0.1035977\ttotal: 722ms\tremaining: 517ms\n",
      "583:\tlearn: 0.1033692\ttotal: 723ms\tremaining: 515ms\n",
      "584:\tlearn: 0.1032286\ttotal: 724ms\tremaining: 513ms\n",
      "585:\tlearn: 0.1029805\ttotal: 725ms\tremaining: 512ms\n",
      "586:\tlearn: 0.1027341\ttotal: 725ms\tremaining: 510ms\n",
      "587:\tlearn: 0.1025591\ttotal: 727ms\tremaining: 509ms\n",
      "588:\tlearn: 0.1023777\ttotal: 727ms\tremaining: 508ms\n",
      "589:\tlearn: 0.1022671\ttotal: 728ms\tremaining: 506ms\n",
      "590:\tlearn: 0.1020299\ttotal: 729ms\tremaining: 505ms\n",
      "591:\tlearn: 0.1018946\ttotal: 730ms\tremaining: 503ms\n",
      "592:\tlearn: 0.1017101\ttotal: 732ms\tremaining: 502ms\n",
      "593:\tlearn: 0.1016078\ttotal: 733ms\tremaining: 501ms\n",
      "594:\tlearn: 0.1014998\ttotal: 734ms\tremaining: 500ms\n",
      "595:\tlearn: 0.1013215\ttotal: 735ms\tremaining: 498ms\n",
      "596:\tlearn: 0.1011886\ttotal: 736ms\tremaining: 497ms\n",
      "597:\tlearn: 0.1010058\ttotal: 737ms\tremaining: 496ms\n",
      "598:\tlearn: 0.1007965\ttotal: 738ms\tremaining: 494ms\n",
      "599:\tlearn: 0.1007125\ttotal: 739ms\tremaining: 492ms\n",
      "600:\tlearn: 0.1005429\ttotal: 739ms\tremaining: 491ms\n",
      "601:\tlearn: 0.1003897\ttotal: 741ms\tremaining: 490ms\n",
      "602:\tlearn: 0.1001003\ttotal: 742ms\tremaining: 488ms\n",
      "603:\tlearn: 0.0999829\ttotal: 743ms\tremaining: 487ms\n",
      "604:\tlearn: 0.0998056\ttotal: 744ms\tremaining: 486ms\n",
      "605:\tlearn: 0.0995861\ttotal: 745ms\tremaining: 484ms\n",
      "606:\tlearn: 0.0994605\ttotal: 746ms\tremaining: 483ms\n",
      "607:\tlearn: 0.0994117\ttotal: 747ms\tremaining: 482ms\n",
      "608:\tlearn: 0.0992306\ttotal: 748ms\tremaining: 480ms\n",
      "609:\tlearn: 0.0991022\ttotal: 749ms\tremaining: 479ms\n",
      "610:\tlearn: 0.0989812\ttotal: 750ms\tremaining: 478ms\n",
      "611:\tlearn: 0.0987213\ttotal: 751ms\tremaining: 476ms\n",
      "612:\tlearn: 0.0986666\ttotal: 752ms\tremaining: 475ms\n",
      "613:\tlearn: 0.0985465\ttotal: 754ms\tremaining: 474ms\n",
      "614:\tlearn: 0.0983079\ttotal: 755ms\tremaining: 473ms\n",
      "615:\tlearn: 0.0981669\ttotal: 756ms\tremaining: 471ms\n",
      "616:\tlearn: 0.0978707\ttotal: 757ms\tremaining: 470ms\n",
      "617:\tlearn: 0.0977308\ttotal: 757ms\tremaining: 468ms\n",
      "618:\tlearn: 0.0975046\ttotal: 758ms\tremaining: 467ms\n",
      "619:\tlearn: 0.0973414\ttotal: 759ms\tremaining: 465ms\n"
     ]
    },
    {
     "name": "stdout",
     "output_type": "stream",
     "text": [
      "620:\tlearn: 0.0971167\ttotal: 780ms\tremaining: 476ms\n",
      "621:\tlearn: 0.0970130\ttotal: 781ms\tremaining: 475ms\n",
      "622:\tlearn: 0.0968500\ttotal: 782ms\tremaining: 473ms\n",
      "623:\tlearn: 0.0966187\ttotal: 783ms\tremaining: 472ms\n",
      "624:\tlearn: 0.0964223\ttotal: 784ms\tremaining: 471ms\n",
      "625:\tlearn: 0.0962594\ttotal: 786ms\tremaining: 469ms\n",
      "626:\tlearn: 0.0960874\ttotal: 787ms\tremaining: 468ms\n",
      "627:\tlearn: 0.0959807\ttotal: 788ms\tremaining: 467ms\n",
      "628:\tlearn: 0.0958376\ttotal: 790ms\tremaining: 466ms\n",
      "629:\tlearn: 0.0955494\ttotal: 790ms\tremaining: 464ms\n",
      "630:\tlearn: 0.0953396\ttotal: 791ms\tremaining: 463ms\n",
      "631:\tlearn: 0.0952066\ttotal: 792ms\tremaining: 461ms\n",
      "632:\tlearn: 0.0951144\ttotal: 793ms\tremaining: 460ms\n",
      "633:\tlearn: 0.0949687\ttotal: 795ms\tremaining: 459ms\n",
      "634:\tlearn: 0.0947578\ttotal: 796ms\tremaining: 458ms\n",
      "635:\tlearn: 0.0945960\ttotal: 797ms\tremaining: 456ms\n",
      "636:\tlearn: 0.0944726\ttotal: 799ms\tremaining: 455ms\n",
      "637:\tlearn: 0.0943908\ttotal: 800ms\tremaining: 454ms\n",
      "638:\tlearn: 0.0941759\ttotal: 800ms\tremaining: 452ms\n",
      "639:\tlearn: 0.0940170\ttotal: 801ms\tremaining: 451ms\n",
      "640:\tlearn: 0.0938664\ttotal: 802ms\tremaining: 449ms\n",
      "641:\tlearn: 0.0937655\ttotal: 803ms\tremaining: 448ms\n",
      "642:\tlearn: 0.0935578\ttotal: 804ms\tremaining: 446ms\n",
      "643:\tlearn: 0.0933449\ttotal: 805ms\tremaining: 445ms\n",
      "644:\tlearn: 0.0931153\ttotal: 807ms\tremaining: 444ms\n",
      "645:\tlearn: 0.0929166\ttotal: 808ms\tremaining: 443ms\n",
      "646:\tlearn: 0.0927984\ttotal: 809ms\tremaining: 441ms\n",
      "647:\tlearn: 0.0926646\ttotal: 820ms\tremaining: 445ms\n",
      "648:\tlearn: 0.0925007\ttotal: 821ms\tremaining: 444ms\n",
      "649:\tlearn: 0.0922417\ttotal: 821ms\tremaining: 442ms\n",
      "650:\tlearn: 0.0921837\ttotal: 822ms\tremaining: 441ms\n",
      "651:\tlearn: 0.0920339\ttotal: 823ms\tremaining: 439ms\n",
      "652:\tlearn: 0.0918962\ttotal: 824ms\tremaining: 438ms\n",
      "653:\tlearn: 0.0917395\ttotal: 824ms\tremaining: 436ms\n",
      "654:\tlearn: 0.0915415\ttotal: 825ms\tremaining: 435ms\n",
      "655:\tlearn: 0.0914504\ttotal: 827ms\tremaining: 434ms\n",
      "656:\tlearn: 0.0912600\ttotal: 828ms\tremaining: 432ms\n",
      "657:\tlearn: 0.0911206\ttotal: 829ms\tremaining: 431ms\n",
      "658:\tlearn: 0.0910004\ttotal: 830ms\tremaining: 429ms\n",
      "659:\tlearn: 0.0908148\ttotal: 831ms\tremaining: 428ms\n",
      "660:\tlearn: 0.0906086\ttotal: 831ms\tremaining: 426ms\n",
      "661:\tlearn: 0.0903964\ttotal: 832ms\tremaining: 425ms\n",
      "662:\tlearn: 0.0902212\ttotal: 833ms\tremaining: 423ms\n",
      "663:\tlearn: 0.0900166\ttotal: 834ms\tremaining: 422ms\n",
      "664:\tlearn: 0.0898809\ttotal: 835ms\tremaining: 421ms\n",
      "665:\tlearn: 0.0897438\ttotal: 836ms\tremaining: 419ms\n",
      "666:\tlearn: 0.0896638\ttotal: 837ms\tremaining: 418ms\n",
      "667:\tlearn: 0.0895078\ttotal: 837ms\tremaining: 416ms\n",
      "668:\tlearn: 0.0893495\ttotal: 838ms\tremaining: 415ms\n",
      "669:\tlearn: 0.0891642\ttotal: 848ms\tremaining: 417ms\n",
      "670:\tlearn: 0.0890528\ttotal: 849ms\tremaining: 416ms\n",
      "671:\tlearn: 0.0889294\ttotal: 849ms\tremaining: 415ms\n",
      "672:\tlearn: 0.0886759\ttotal: 852ms\tremaining: 414ms\n",
      "673:\tlearn: 0.0885866\ttotal: 852ms\tremaining: 412ms\n",
      "674:\tlearn: 0.0883914\ttotal: 853ms\tremaining: 411ms\n",
      "675:\tlearn: 0.0883021\ttotal: 854ms\tremaining: 409ms\n",
      "676:\tlearn: 0.0881579\ttotal: 855ms\tremaining: 408ms\n",
      "677:\tlearn: 0.0879695\ttotal: 856ms\tremaining: 407ms\n",
      "678:\tlearn: 0.0877589\ttotal: 857ms\tremaining: 405ms\n",
      "679:\tlearn: 0.0876368\ttotal: 858ms\tremaining: 404ms\n",
      "680:\tlearn: 0.0874860\ttotal: 858ms\tremaining: 402ms\n",
      "681:\tlearn: 0.0873513\ttotal: 859ms\tremaining: 401ms\n",
      "682:\tlearn: 0.0872796\ttotal: 860ms\tremaining: 399ms\n",
      "683:\tlearn: 0.0871411\ttotal: 860ms\tremaining: 397ms\n",
      "684:\tlearn: 0.0869327\ttotal: 861ms\tremaining: 396ms\n"
     ]
    },
    {
     "name": "stdout",
     "output_type": "stream",
     "text": [
      "685:\tlearn: 0.0867790\ttotal: 882ms\tremaining: 404ms\n",
      "686:\tlearn: 0.0866529\ttotal: 883ms\tremaining: 402ms\n",
      "687:\tlearn: 0.0865015\ttotal: 883ms\tremaining: 401ms\n",
      "688:\tlearn: 0.0863980\ttotal: 884ms\tremaining: 399ms\n",
      "689:\tlearn: 0.0861989\ttotal: 885ms\tremaining: 398ms\n",
      "690:\tlearn: 0.0860019\ttotal: 886ms\tremaining: 396ms\n",
      "691:\tlearn: 0.0858642\ttotal: 887ms\tremaining: 395ms\n",
      "692:\tlearn: 0.0857532\ttotal: 889ms\tremaining: 394ms\n",
      "693:\tlearn: 0.0856434\ttotal: 890ms\tremaining: 392ms\n",
      "694:\tlearn: 0.0854775\ttotal: 891ms\tremaining: 391ms\n",
      "695:\tlearn: 0.0853009\ttotal: 892ms\tremaining: 390ms\n",
      "696:\tlearn: 0.0851439\ttotal: 894ms\tremaining: 388ms\n",
      "697:\tlearn: 0.0850658\ttotal: 895ms\tremaining: 387ms\n",
      "698:\tlearn: 0.0849272\ttotal: 897ms\tremaining: 386ms\n",
      "699:\tlearn: 0.0848267\ttotal: 898ms\tremaining: 385ms\n",
      "700:\tlearn: 0.0846977\ttotal: 899ms\tremaining: 384ms\n",
      "701:\tlearn: 0.0845530\ttotal: 901ms\tremaining: 382ms\n",
      "702:\tlearn: 0.0844562\ttotal: 901ms\tremaining: 381ms\n",
      "703:\tlearn: 0.0843016\ttotal: 912ms\tremaining: 384ms\n",
      "704:\tlearn: 0.0841848\ttotal: 913ms\tremaining: 382ms\n",
      "705:\tlearn: 0.0840648\ttotal: 914ms\tremaining: 381ms\n",
      "706:\tlearn: 0.0838844\ttotal: 915ms\tremaining: 379ms\n",
      "707:\tlearn: 0.0837654\ttotal: 916ms\tremaining: 378ms\n",
      "708:\tlearn: 0.0836921\ttotal: 917ms\tremaining: 376ms\n",
      "709:\tlearn: 0.0835487\ttotal: 918ms\tremaining: 375ms\n",
      "710:\tlearn: 0.0834162\ttotal: 918ms\tremaining: 373ms\n",
      "711:\tlearn: 0.0833574\ttotal: 920ms\tremaining: 372ms\n",
      "712:\tlearn: 0.0831993\ttotal: 921ms\tremaining: 371ms\n",
      "713:\tlearn: 0.0830075\ttotal: 922ms\tremaining: 369ms\n",
      "714:\tlearn: 0.0829040\ttotal: 933ms\tremaining: 372ms\n",
      "715:\tlearn: 0.0828039\ttotal: 934ms\tremaining: 370ms\n",
      "716:\tlearn: 0.0827299\ttotal: 935ms\tremaining: 369ms\n",
      "717:\tlearn: 0.0825810\ttotal: 936ms\tremaining: 368ms\n",
      "718:\tlearn: 0.0823794\ttotal: 937ms\tremaining: 366ms\n",
      "719:\tlearn: 0.0822489\ttotal: 937ms\tremaining: 365ms\n",
      "720:\tlearn: 0.0820643\ttotal: 938ms\tremaining: 363ms\n",
      "721:\tlearn: 0.0819315\ttotal: 939ms\tremaining: 362ms\n",
      "722:\tlearn: 0.0818921\ttotal: 941ms\tremaining: 360ms\n",
      "723:\tlearn: 0.0817782\ttotal: 942ms\tremaining: 359ms\n",
      "724:\tlearn: 0.0816473\ttotal: 943ms\tremaining: 358ms\n",
      "725:\tlearn: 0.0814249\ttotal: 944ms\tremaining: 356ms\n",
      "726:\tlearn: 0.0813057\ttotal: 944ms\tremaining: 355ms\n",
      "727:\tlearn: 0.0812170\ttotal: 945ms\tremaining: 353ms\n",
      "728:\tlearn: 0.0810853\ttotal: 946ms\tremaining: 352ms\n",
      "729:\tlearn: 0.0809644\ttotal: 947ms\tremaining: 350ms\n",
      "730:\tlearn: 0.0808821\ttotal: 948ms\tremaining: 349ms\n",
      "731:\tlearn: 0.0806734\ttotal: 950ms\tremaining: 348ms\n",
      "732:\tlearn: 0.0805159\ttotal: 951ms\tremaining: 346ms\n",
      "733:\tlearn: 0.0803178\ttotal: 952ms\tremaining: 345ms\n",
      "734:\tlearn: 0.0801780\ttotal: 962ms\tremaining: 347ms\n",
      "735:\tlearn: 0.0800848\ttotal: 963ms\tremaining: 346ms\n",
      "736:\tlearn: 0.0799232\ttotal: 965ms\tremaining: 344ms\n",
      "737:\tlearn: 0.0798391\ttotal: 966ms\tremaining: 343ms\n",
      "738:\tlearn: 0.0796870\ttotal: 968ms\tremaining: 342ms\n",
      "739:\tlearn: 0.0796265\ttotal: 969ms\tremaining: 340ms\n",
      "740:\tlearn: 0.0795082\ttotal: 970ms\tremaining: 339ms\n",
      "741:\tlearn: 0.0794822\ttotal: 971ms\tremaining: 338ms\n",
      "742:\tlearn: 0.0793813\ttotal: 972ms\tremaining: 336ms\n",
      "743:\tlearn: 0.0792944\ttotal: 973ms\tremaining: 335ms\n"
     ]
    },
    {
     "name": "stdout",
     "output_type": "stream",
     "text": [
      "744:\tlearn: 0.0791978\ttotal: 975ms\tremaining: 334ms\n",
      "745:\tlearn: 0.0791054\ttotal: 976ms\tremaining: 332ms\n",
      "746:\tlearn: 0.0789696\ttotal: 977ms\tremaining: 331ms\n",
      "747:\tlearn: 0.0788442\ttotal: 979ms\tremaining: 330ms\n",
      "748:\tlearn: 0.0787322\ttotal: 980ms\tremaining: 328ms\n",
      "749:\tlearn: 0.0786295\ttotal: 981ms\tremaining: 327ms\n",
      "750:\tlearn: 0.0785689\ttotal: 982ms\tremaining: 326ms\n",
      "751:\tlearn: 0.0784124\ttotal: 982ms\tremaining: 324ms\n",
      "752:\tlearn: 0.0782592\ttotal: 983ms\tremaining: 323ms\n",
      "753:\tlearn: 0.0781130\ttotal: 984ms\tremaining: 321ms\n",
      "754:\tlearn: 0.0779747\ttotal: 985ms\tremaining: 320ms\n",
      "755:\tlearn: 0.0778016\ttotal: 986ms\tremaining: 318ms\n",
      "756:\tlearn: 0.0777056\ttotal: 987ms\tremaining: 317ms\n",
      "757:\tlearn: 0.0775090\ttotal: 988ms\tremaining: 315ms\n",
      "758:\tlearn: 0.0774210\ttotal: 990ms\tremaining: 314ms\n",
      "759:\tlearn: 0.0773226\ttotal: 991ms\tremaining: 313ms\n",
      "760:\tlearn: 0.0771952\ttotal: 991ms\tremaining: 311ms\n",
      "761:\tlearn: 0.0771394\ttotal: 992ms\tremaining: 310ms\n",
      "762:\tlearn: 0.0770348\ttotal: 993ms\tremaining: 309ms\n",
      "763:\tlearn: 0.0769162\ttotal: 995ms\tremaining: 307ms\n",
      "764:\tlearn: 0.0768513\ttotal: 996ms\tremaining: 306ms\n",
      "765:\tlearn: 0.0766720\ttotal: 997ms\tremaining: 305ms\n",
      "766:\tlearn: 0.0765553\ttotal: 998ms\tremaining: 303ms\n",
      "767:\tlearn: 0.0764625\ttotal: 999ms\tremaining: 302ms\n",
      "768:\tlearn: 0.0763114\ttotal: 1s\tremaining: 301ms\n",
      "769:\tlearn: 0.0761421\ttotal: 1s\tremaining: 299ms\n",
      "770:\tlearn: 0.0760455\ttotal: 1s\tremaining: 298ms\n",
      "771:\tlearn: 0.0759320\ttotal: 1s\tremaining: 296ms\n",
      "772:\tlearn: 0.0757822\ttotal: 1s\tremaining: 295ms\n",
      "773:\tlearn: 0.0756229\ttotal: 1s\tremaining: 294ms\n",
      "774:\tlearn: 0.0753946\ttotal: 1.01s\tremaining: 292ms\n",
      "775:\tlearn: 0.0753249\ttotal: 1.01s\tremaining: 291ms\n",
      "776:\tlearn: 0.0751945\ttotal: 1.01s\tremaining: 290ms\n",
      "777:\tlearn: 0.0751312\ttotal: 1.01s\tremaining: 288ms\n",
      "778:\tlearn: 0.0750259\ttotal: 1.01s\tremaining: 287ms\n",
      "779:\tlearn: 0.0749013\ttotal: 1.01s\tremaining: 286ms\n",
      "780:\tlearn: 0.0747689\ttotal: 1.01s\tremaining: 284ms\n",
      "781:\tlearn: 0.0746581\ttotal: 1.01s\tremaining: 283ms\n",
      "782:\tlearn: 0.0746343\ttotal: 1.01s\tremaining: 281ms\n",
      "783:\tlearn: 0.0745102\ttotal: 1.02s\tremaining: 280ms\n",
      "784:\tlearn: 0.0744250\ttotal: 1.02s\tremaining: 279ms\n",
      "785:\tlearn: 0.0743614\ttotal: 1.02s\tremaining: 278ms\n",
      "786:\tlearn: 0.0742551\ttotal: 1.02s\tremaining: 276ms\n",
      "787:\tlearn: 0.0742037\ttotal: 1.02s\tremaining: 275ms\n",
      "788:\tlearn: 0.0740804\ttotal: 1.02s\tremaining: 274ms\n",
      "789:\tlearn: 0.0739514\ttotal: 1.02s\tremaining: 272ms\n",
      "790:\tlearn: 0.0737878\ttotal: 1.02s\tremaining: 271ms\n",
      "791:\tlearn: 0.0736851\ttotal: 1.02s\tremaining: 269ms\n",
      "792:\tlearn: 0.0736078\ttotal: 1.03s\tremaining: 268ms\n",
      "793:\tlearn: 0.0734850\ttotal: 1.03s\tremaining: 267ms\n",
      "794:\tlearn: 0.0733578\ttotal: 1.03s\tremaining: 266ms\n",
      "795:\tlearn: 0.0732032\ttotal: 1.03s\tremaining: 264ms\n",
      "796:\tlearn: 0.0730827\ttotal: 1.03s\tremaining: 263ms\n",
      "797:\tlearn: 0.0729277\ttotal: 1.03s\tremaining: 261ms\n",
      "798:\tlearn: 0.0727439\ttotal: 1.03s\tremaining: 260ms\n",
      "799:\tlearn: 0.0726560\ttotal: 1.03s\tremaining: 259ms\n",
      "800:\tlearn: 0.0725837\ttotal: 1.03s\tremaining: 257ms\n",
      "801:\tlearn: 0.0724912\ttotal: 1.04s\tremaining: 256ms\n",
      "802:\tlearn: 0.0723878\ttotal: 1.04s\tremaining: 255ms\n",
      "803:\tlearn: 0.0722920\ttotal: 1.04s\tremaining: 253ms\n",
      "804:\tlearn: 0.0721721\ttotal: 1.04s\tremaining: 252ms\n",
      "805:\tlearn: 0.0720237\ttotal: 1.04s\tremaining: 251ms\n",
      "806:\tlearn: 0.0719321\ttotal: 1.04s\tremaining: 249ms\n",
      "807:\tlearn: 0.0718321\ttotal: 1.04s\tremaining: 248ms\n",
      "808:\tlearn: 0.0717125\ttotal: 1.04s\tremaining: 246ms\n",
      "809:\tlearn: 0.0716356\ttotal: 1.04s\tremaining: 245ms\n",
      "810:\tlearn: 0.0715098\ttotal: 1.05s\tremaining: 244ms\n",
      "811:\tlearn: 0.0714433\ttotal: 1.05s\tremaining: 243ms\n",
      "812:\tlearn: 0.0713520\ttotal: 1.05s\tremaining: 241ms\n",
      "813:\tlearn: 0.0713335\ttotal: 1.05s\tremaining: 240ms\n",
      "814:\tlearn: 0.0712212\ttotal: 1.05s\tremaining: 239ms\n",
      "815:\tlearn: 0.0711017\ttotal: 1.06s\tremaining: 239ms\n",
      "816:\tlearn: 0.0710220\ttotal: 1.06s\tremaining: 238ms\n",
      "817:\tlearn: 0.0709547\ttotal: 1.06s\tremaining: 237ms\n",
      "818:\tlearn: 0.0708522\ttotal: 1.06s\tremaining: 235ms\n",
      "819:\tlearn: 0.0706848\ttotal: 1.07s\tremaining: 234ms\n",
      "820:\tlearn: 0.0706091\ttotal: 1.07s\tremaining: 233ms\n",
      "821:\tlearn: 0.0705208\ttotal: 1.07s\tremaining: 232ms\n",
      "822:\tlearn: 0.0703774\ttotal: 1.07s\tremaining: 230ms\n",
      "823:\tlearn: 0.0702881\ttotal: 1.07s\tremaining: 229ms\n",
      "824:\tlearn: 0.0701521\ttotal: 1.07s\tremaining: 228ms\n",
      "825:\tlearn: 0.0700135\ttotal: 1.07s\tremaining: 226ms\n"
     ]
    },
    {
     "name": "stdout",
     "output_type": "stream",
     "text": [
      "826:\tlearn: 0.0699053\ttotal: 1.07s\tremaining: 225ms\n",
      "827:\tlearn: 0.0697918\ttotal: 1.07s\tremaining: 223ms\n",
      "828:\tlearn: 0.0697030\ttotal: 1.08s\tremaining: 222ms\n",
      "829:\tlearn: 0.0695848\ttotal: 1.08s\tremaining: 221ms\n",
      "830:\tlearn: 0.0695201\ttotal: 1.08s\tremaining: 220ms\n",
      "831:\tlearn: 0.0694150\ttotal: 1.08s\tremaining: 218ms\n",
      "832:\tlearn: 0.0693286\ttotal: 1.08s\tremaining: 217ms\n",
      "833:\tlearn: 0.0692597\ttotal: 1.08s\tremaining: 215ms\n",
      "834:\tlearn: 0.0691891\ttotal: 1.08s\tremaining: 214ms\n",
      "835:\tlearn: 0.0690652\ttotal: 1.08s\tremaining: 213ms\n",
      "836:\tlearn: 0.0690021\ttotal: 1.08s\tremaining: 211ms\n",
      "837:\tlearn: 0.0689520\ttotal: 1.09s\tremaining: 210ms\n",
      "838:\tlearn: 0.0688135\ttotal: 1.09s\tremaining: 209ms\n",
      "839:\tlearn: 0.0687081\ttotal: 1.09s\tremaining: 207ms\n",
      "840:\tlearn: 0.0686455\ttotal: 1.09s\tremaining: 206ms\n",
      "841:\tlearn: 0.0686242\ttotal: 1.09s\tremaining: 206ms\n",
      "842:\tlearn: 0.0684845\ttotal: 1.11s\tremaining: 206ms\n",
      "843:\tlearn: 0.0683691\ttotal: 1.12s\tremaining: 206ms\n",
      "844:\tlearn: 0.0682832\ttotal: 1.12s\tremaining: 205ms\n",
      "845:\tlearn: 0.0681560\ttotal: 1.12s\tremaining: 204ms\n",
      "846:\tlearn: 0.0680995\ttotal: 1.12s\tremaining: 202ms\n",
      "847:\tlearn: 0.0679709\ttotal: 1.14s\tremaining: 204ms\n",
      "848:\tlearn: 0.0678814\ttotal: 1.14s\tremaining: 203ms\n",
      "849:\tlearn: 0.0677364\ttotal: 1.14s\tremaining: 202ms\n",
      "850:\tlearn: 0.0675533\ttotal: 1.14s\tremaining: 200ms\n",
      "851:\tlearn: 0.0674447\ttotal: 1.14s\tremaining: 199ms\n",
      "852:\tlearn: 0.0672987\ttotal: 1.15s\tremaining: 199ms\n",
      "853:\tlearn: 0.0671659\ttotal: 1.16s\tremaining: 198ms\n"
     ]
    },
    {
     "name": "stdout",
     "output_type": "stream",
     "text": [
      "854:\tlearn: 0.0670267\ttotal: 1.16s\tremaining: 196ms\n",
      "855:\tlearn: 0.0669258\ttotal: 1.16s\tremaining: 195ms\n",
      "856:\tlearn: 0.0667851\ttotal: 1.16s\tremaining: 194ms\n",
      "857:\tlearn: 0.0666859\ttotal: 1.16s\tremaining: 192ms\n",
      "858:\tlearn: 0.0665707\ttotal: 1.16s\tremaining: 191ms\n",
      "859:\tlearn: 0.0665080\ttotal: 1.16s\tremaining: 190ms\n",
      "860:\tlearn: 0.0664034\ttotal: 1.17s\tremaining: 190ms\n",
      "861:\tlearn: 0.0662923\ttotal: 1.2s\tremaining: 191ms\n",
      "862:\tlearn: 0.0661634\ttotal: 1.2s\tremaining: 190ms\n",
      "863:\tlearn: 0.0660394\ttotal: 1.2s\tremaining: 189ms\n",
      "864:\tlearn: 0.0659486\ttotal: 1.2s\tremaining: 187ms\n",
      "865:\tlearn: 0.0658382\ttotal: 1.2s\tremaining: 186ms\n",
      "866:\tlearn: 0.0657588\ttotal: 1.2s\tremaining: 184ms\n",
      "867:\tlearn: 0.0656940\ttotal: 1.2s\tremaining: 183ms\n",
      "868:\tlearn: 0.0656185\ttotal: 1.21s\tremaining: 182ms\n",
      "869:\tlearn: 0.0655036\ttotal: 1.21s\tremaining: 180ms\n",
      "870:\tlearn: 0.0653800\ttotal: 1.21s\tremaining: 179ms\n",
      "871:\tlearn: 0.0652824\ttotal: 1.21s\tremaining: 177ms\n",
      "872:\tlearn: 0.0652031\ttotal: 1.21s\tremaining: 176ms\n",
      "873:\tlearn: 0.0651282\ttotal: 1.21s\tremaining: 174ms\n",
      "874:\tlearn: 0.0650288\ttotal: 1.21s\tremaining: 173ms\n",
      "875:\tlearn: 0.0649632\ttotal: 1.21s\tremaining: 172ms\n",
      "876:\tlearn: 0.0648695\ttotal: 1.21s\tremaining: 170ms\n",
      "877:\tlearn: 0.0647905\ttotal: 1.21s\tremaining: 169ms\n",
      "878:\tlearn: 0.0646915\ttotal: 1.21s\tremaining: 167ms\n",
      "879:\tlearn: 0.0646009\ttotal: 1.22s\tremaining: 166ms\n",
      "880:\tlearn: 0.0645236\ttotal: 1.22s\tremaining: 164ms\n",
      "881:\tlearn: 0.0643882\ttotal: 1.22s\tremaining: 163ms\n",
      "882:\tlearn: 0.0642983\ttotal: 1.22s\tremaining: 161ms\n",
      "883:\tlearn: 0.0642079\ttotal: 1.22s\tremaining: 160ms\n",
      "884:\tlearn: 0.0641139\ttotal: 1.22s\tremaining: 159ms\n",
      "885:\tlearn: 0.0640249\ttotal: 1.22s\tremaining: 157ms\n",
      "886:\tlearn: 0.0638978\ttotal: 1.22s\tremaining: 156ms\n",
      "887:\tlearn: 0.0638140\ttotal: 1.22s\tremaining: 154ms\n",
      "888:\tlearn: 0.0637403\ttotal: 1.22s\tremaining: 153ms\n",
      "889:\tlearn: 0.0636334\ttotal: 1.23s\tremaining: 151ms\n",
      "890:\tlearn: 0.0635133\ttotal: 1.23s\tremaining: 150ms\n",
      "891:\tlearn: 0.0634040\ttotal: 1.23s\tremaining: 149ms\n",
      "892:\tlearn: 0.0633612\ttotal: 1.23s\tremaining: 147ms\n",
      "893:\tlearn: 0.0633055\ttotal: 1.23s\tremaining: 146ms\n",
      "894:\tlearn: 0.0631965\ttotal: 1.23s\tremaining: 144ms\n",
      "895:\tlearn: 0.0630851\ttotal: 1.23s\tremaining: 143ms\n",
      "896:\tlearn: 0.0629712\ttotal: 1.23s\tremaining: 142ms\n",
      "897:\tlearn: 0.0628433\ttotal: 1.23s\tremaining: 140ms\n",
      "898:\tlearn: 0.0627688\ttotal: 1.23s\tremaining: 139ms\n",
      "899:\tlearn: 0.0626725\ttotal: 1.24s\tremaining: 137ms\n",
      "900:\tlearn: 0.0625867\ttotal: 1.24s\tremaining: 136ms\n",
      "901:\tlearn: 0.0625158\ttotal: 1.24s\tremaining: 134ms\n",
      "902:\tlearn: 0.0624153\ttotal: 1.24s\tremaining: 133ms\n",
      "903:\tlearn: 0.0623516\ttotal: 1.24s\tremaining: 132ms\n",
      "904:\tlearn: 0.0622407\ttotal: 1.24s\tremaining: 130ms\n",
      "905:\tlearn: 0.0621491\ttotal: 1.24s\tremaining: 129ms\n",
      "906:\tlearn: 0.0620041\ttotal: 1.24s\tremaining: 127ms\n",
      "907:\tlearn: 0.0618856\ttotal: 1.24s\tremaining: 126ms\n",
      "908:\tlearn: 0.0617714\ttotal: 1.25s\tremaining: 125ms\n",
      "909:\tlearn: 0.0617186\ttotal: 1.25s\tremaining: 123ms\n",
      "910:\tlearn: 0.0616274\ttotal: 1.25s\tremaining: 122ms\n",
      "911:\tlearn: 0.0615314\ttotal: 1.25s\tremaining: 120ms\n",
      "912:\tlearn: 0.0614142\ttotal: 1.25s\tremaining: 119ms\n",
      "913:\tlearn: 0.0613473\ttotal: 1.25s\tremaining: 118ms\n",
      "914:\tlearn: 0.0612361\ttotal: 1.25s\tremaining: 116ms\n",
      "915:\tlearn: 0.0611488\ttotal: 1.25s\tremaining: 115ms\n",
      "916:\tlearn: 0.0610476\ttotal: 1.25s\tremaining: 114ms\n",
      "917:\tlearn: 0.0609555\ttotal: 1.25s\tremaining: 112ms\n",
      "918:\tlearn: 0.0609058\ttotal: 1.26s\tremaining: 111ms\n"
     ]
    },
    {
     "name": "stdout",
     "output_type": "stream",
     "text": [
      "919:\tlearn: 0.0608259\ttotal: 1.26s\tremaining: 109ms\n",
      "920:\tlearn: 0.0607215\ttotal: 1.26s\tremaining: 108ms\n",
      "921:\tlearn: 0.0606770\ttotal: 1.26s\tremaining: 107ms\n",
      "922:\tlearn: 0.0605875\ttotal: 1.26s\tremaining: 105ms\n",
      "923:\tlearn: 0.0605509\ttotal: 1.26s\tremaining: 104ms\n",
      "924:\tlearn: 0.0605052\ttotal: 1.26s\tremaining: 102ms\n",
      "925:\tlearn: 0.0604108\ttotal: 1.3s\tremaining: 104ms\n",
      "926:\tlearn: 0.0602942\ttotal: 1.3s\tremaining: 103ms\n",
      "927:\tlearn: 0.0601693\ttotal: 1.31s\tremaining: 101ms\n",
      "928:\tlearn: 0.0600559\ttotal: 1.32s\tremaining: 101ms\n",
      "929:\tlearn: 0.0599831\ttotal: 1.32s\tremaining: 99.3ms\n",
      "930:\tlearn: 0.0599338\ttotal: 1.32s\tremaining: 97.8ms\n",
      "931:\tlearn: 0.0598232\ttotal: 1.32s\tremaining: 96.4ms\n",
      "932:\tlearn: 0.0597630\ttotal: 1.32s\tremaining: 95ms\n",
      "933:\tlearn: 0.0596430\ttotal: 1.32s\tremaining: 93.6ms\n",
      "934:\tlearn: 0.0595392\ttotal: 1.32s\tremaining: 92.1ms\n",
      "935:\tlearn: 0.0594453\ttotal: 1.32s\tremaining: 90.6ms\n",
      "936:\tlearn: 0.0593964\ttotal: 1.33s\tremaining: 89.2ms\n",
      "937:\tlearn: 0.0593496\ttotal: 1.33s\tremaining: 87.8ms\n",
      "938:\tlearn: 0.0592467\ttotal: 1.33s\tremaining: 86.3ms\n",
      "939:\tlearn: 0.0591749\ttotal: 1.33s\tremaining: 84.9ms\n",
      "940:\tlearn: 0.0590850\ttotal: 1.33s\tremaining: 83.5ms\n",
      "941:\tlearn: 0.0590129\ttotal: 1.33s\tremaining: 82.1ms\n",
      "942:\tlearn: 0.0589438\ttotal: 1.33s\tremaining: 80.6ms\n",
      "943:\tlearn: 0.0588184\ttotal: 1.33s\tremaining: 79.2ms\n",
      "944:\tlearn: 0.0587618\ttotal: 1.33s\tremaining: 77.7ms\n",
      "945:\tlearn: 0.0586814\ttotal: 1.33s\tremaining: 76.3ms\n",
      "946:\tlearn: 0.0585615\ttotal: 1.34s\tremaining: 74.8ms\n",
      "947:\tlearn: 0.0585043\ttotal: 1.34s\tremaining: 73.4ms\n",
      "948:\tlearn: 0.0584229\ttotal: 1.34s\tremaining: 71.9ms\n",
      "949:\tlearn: 0.0583811\ttotal: 1.34s\tremaining: 70.5ms\n",
      "950:\tlearn: 0.0582631\ttotal: 1.34s\tremaining: 69.1ms\n",
      "951:\tlearn: 0.0581699\ttotal: 1.34s\tremaining: 67.6ms\n",
      "952:\tlearn: 0.0580826\ttotal: 1.34s\tremaining: 66.2ms\n",
      "953:\tlearn: 0.0580137\ttotal: 1.34s\tremaining: 64.8ms\n",
      "954:\tlearn: 0.0579182\ttotal: 1.34s\tremaining: 63.3ms\n",
      "955:\tlearn: 0.0578578\ttotal: 1.34s\tremaining: 61.9ms\n",
      "956:\tlearn: 0.0578084\ttotal: 1.35s\tremaining: 60.5ms\n",
      "957:\tlearn: 0.0577179\ttotal: 1.35s\tremaining: 59.1ms\n",
      "958:\tlearn: 0.0575670\ttotal: 1.35s\tremaining: 57.6ms\n",
      "959:\tlearn: 0.0574843\ttotal: 1.35s\tremaining: 56.2ms\n",
      "960:\tlearn: 0.0574051\ttotal: 1.35s\tremaining: 54.8ms\n",
      "961:\tlearn: 0.0573647\ttotal: 1.35s\tremaining: 53.4ms\n"
     ]
    },
    {
     "name": "stdout",
     "output_type": "stream",
     "text": [
      "962:\tlearn: 0.0573046\ttotal: 1.35s\tremaining: 52ms\n",
      "963:\tlearn: 0.0571783\ttotal: 1.35s\tremaining: 50.5ms\n",
      "964:\tlearn: 0.0570857\ttotal: 1.35s\tremaining: 49.1ms\n",
      "965:\tlearn: 0.0569863\ttotal: 1.36s\tremaining: 48.1ms\n",
      "966:\tlearn: 0.0569423\ttotal: 1.37s\tremaining: 46.6ms\n",
      "967:\tlearn: 0.0568936\ttotal: 1.37s\tremaining: 45.2ms\n",
      "968:\tlearn: 0.0568484\ttotal: 1.37s\tremaining: 43.8ms\n",
      "969:\tlearn: 0.0567569\ttotal: 1.37s\tremaining: 42.3ms\n",
      "970:\tlearn: 0.0566738\ttotal: 1.37s\tremaining: 40.9ms\n",
      "971:\tlearn: 0.0566304\ttotal: 1.37s\tremaining: 39.5ms\n",
      "972:\tlearn: 0.0565449\ttotal: 1.37s\tremaining: 38.1ms\n",
      "973:\tlearn: 0.0564653\ttotal: 1.37s\tremaining: 36.6ms\n",
      "974:\tlearn: 0.0563907\ttotal: 1.37s\tremaining: 35.2ms\n",
      "975:\tlearn: 0.0563280\ttotal: 1.37s\tremaining: 33.8ms\n",
      "976:\tlearn: 0.0562647\ttotal: 1.37s\tremaining: 32.4ms\n",
      "977:\tlearn: 0.0561909\ttotal: 1.37s\tremaining: 30.9ms\n",
      "978:\tlearn: 0.0561097\ttotal: 1.38s\tremaining: 29.5ms\n",
      "979:\tlearn: 0.0560616\ttotal: 1.39s\tremaining: 28.3ms\n",
      "980:\tlearn: 0.0560196\ttotal: 1.39s\tremaining: 26.9ms\n",
      "981:\tlearn: 0.0559470\ttotal: 1.39s\tremaining: 25.5ms\n",
      "982:\tlearn: 0.0559406\ttotal: 1.39s\tremaining: 24ms\n",
      "983:\tlearn: 0.0558271\ttotal: 1.39s\tremaining: 22.6ms\n",
      "984:\tlearn: 0.0557120\ttotal: 1.39s\tremaining: 21.2ms\n",
      "985:\tlearn: 0.0556502\ttotal: 1.39s\tremaining: 19.8ms\n",
      "986:\tlearn: 0.0555491\ttotal: 1.4s\tremaining: 18.4ms\n",
      "987:\tlearn: 0.0554231\ttotal: 1.4s\tremaining: 17ms\n",
      "988:\tlearn: 0.0553497\ttotal: 1.4s\tremaining: 15.6ms\n",
      "989:\tlearn: 0.0552712\ttotal: 1.4s\tremaining: 14.2ms\n",
      "990:\tlearn: 0.0552598\ttotal: 1.4s\tremaining: 12.7ms\n",
      "991:\tlearn: 0.0551660\ttotal: 1.4s\tremaining: 11.3ms\n",
      "992:\tlearn: 0.0551067\ttotal: 1.4s\tremaining: 9.9ms\n",
      "993:\tlearn: 0.0550949\ttotal: 1.41s\tremaining: 8.48ms\n",
      "994:\tlearn: 0.0550131\ttotal: 1.41s\tremaining: 7.07ms\n",
      "995:\tlearn: 0.0549465\ttotal: 1.41s\tremaining: 5.66ms\n",
      "996:\tlearn: 0.0548953\ttotal: 1.41s\tremaining: 4.25ms\n",
      "997:\tlearn: 0.0547801\ttotal: 1.41s\tremaining: 2.83ms\n",
      "998:\tlearn: 0.0546902\ttotal: 1.41s\tremaining: 1.42ms\n",
      "999:\tlearn: 0.0546374\ttotal: 1.42s\tremaining: 0us\n"
     ]
    },
    {
     "data": {
      "text/plain": [
       "<catboost.core.CatBoostRegressor at 0x7fd9a02e0f10>"
      ]
     },
     "execution_count": 9,
     "metadata": {},
     "output_type": "execute_result"
    }
   ],
   "source": [
    "#Train the Model \n",
    "prior_model = ctb.CatBoostRegressor()\n",
    "prior_model.fit(X_train,Y_train)"
   ]
  },
  {
   "cell_type": "code",
   "execution_count": 10,
   "id": "af65dcda",
   "metadata": {
    "execution": {
     "iopub.execute_input": "2022-06-12T05:22:23.542403Z",
     "iopub.status.busy": "2022-06-12T05:22:23.537780Z",
     "iopub.status.idle": "2022-06-12T05:22:23.565691Z",
     "shell.execute_reply": "2022-06-12T05:22:23.567927Z"
    },
    "id": "af65dcda",
    "papermill": {
     "duration": 0.094109,
     "end_time": "2022-06-12T05:22:23.568707",
     "exception": false,
     "start_time": "2022-06-12T05:22:23.474598",
     "status": "completed"
    },
    "tags": []
   },
   "outputs": [
    {
     "data": {
      "application/scrapbook.scrap.json+json": {
       "data": 0.21249087185088567,
       "encoder": "json",
       "name": "Prior Model MSE",
       "version": 1
      }
     },
     "metadata": {
      "scrapbook": {
       "data": true,
       "display": false,
       "name": "Prior Model MSE"
      }
     },
     "output_type": "display_data"
    },
    {
     "data": {
      "application/scrapbook.scrap.json+json": {
       "data": 0.21022599959967592,
       "encoder": "json",
       "name": "ABC Pre-generator MSE",
       "version": 1
      }
     },
     "metadata": {
      "scrapbook": {
       "data": true,
       "display": false,
       "name": "ABC Pre-generator MSE"
      }
     },
     "output_type": "display_data"
    },
    {
     "data": {
      "application/scrapbook.scrap.json+json": {
       "data": 0.2579846385137193,
       "encoder": "json",
       "name": "Prior Model MSE",
       "version": 1
      }
     },
     "metadata": {
      "scrapbook": {
       "data": true,
       "display": false,
       "name": "Prior Model MSE"
      }
     },
     "output_type": "display_data"
    },
    {
     "data": {
      "application/scrapbook.scrap.json+json": {
       "data": 0.2594571527979582,
       "encoder": "json",
       "name": "ABC Pre-generator MSE",
       "version": 1
      }
     },
     "metadata": {
      "scrapbook": {
       "data": true,
       "display": false,
       "name": "ABC Pre-generator MSE"
      }
     },
     "output_type": "display_data"
    }
   ],
   "source": [
    "y_pred = prior_model.predict(X_test)\n",
    "y_abc = y_pred + np.random.normal(0,variance, y_pred.shape) + bias \n",
    "mse = mean_squared_error(y_pred,Y_test)\n",
    "sb.glue(\"Prior Model MSE\",mse)\n",
    "mse = mean_squared_error(y_abc,Y_test)\n",
    "sb.glue(\"ABC Pre-generator MSE\",mse)\n",
    "mae = mean_absolute_error(y_pred,Y_test)\n",
    "sb.glue(\"Prior Model MSE\",mae)\n",
    "mae = mean_absolute_error(y_abc,Y_test)\n",
    "sb.glue(\"ABC Pre-generator MSE\",mae)"
   ]
  },
  {
   "cell_type": "markdown",
   "id": "25609da2",
   "metadata": {
    "papermill": {
     "duration": 0.011966,
     "end_time": "2022-06-12T05:22:23.596097",
     "exception": false,
     "start_time": "2022-06-12T05:22:23.584131",
     "status": "completed"
    },
    "tags": []
   },
   "source": [
    "# ABC GAN Model"
   ]
  },
  {
   "cell_type": "code",
   "execution_count": 11,
   "id": "dfc3464d",
   "metadata": {
    "execution": {
     "iopub.execute_input": "2022-06-12T05:22:23.627423Z",
     "iopub.status.busy": "2022-06-12T05:22:23.626614Z",
     "iopub.status.idle": "2022-06-12T05:22:23.631752Z",
     "shell.execute_reply": "2022-06-12T05:22:23.632025Z"
    },
    "papermill": {
     "duration": 0.022414,
     "end_time": "2022-06-12T05:22:23.632160",
     "exception": false,
     "start_time": "2022-06-12T05:22:23.609746",
     "status": "completed"
    },
    "tags": []
   },
   "outputs": [],
   "source": [
    "gen = network.Generator(n_features+1).to(device)\n",
    "disc = network.Discriminator(n_features+1).to(device)\n",
    "\n",
    "criterion = torch.nn.BCELoss()\n",
    "gen_opt = torch.optim.Adam(gen.parameters(), lr=0.001, betas=(0.5, 0.999))\n",
    "disc_opt = torch.optim.Adam(disc.parameters(), lr=0.001, betas=(0.5, 0.999))"
   ]
  },
  {
   "cell_type": "code",
   "execution_count": 12,
   "id": "b75fdd85",
   "metadata": {
    "execution": {
     "iopub.execute_input": "2022-06-12T05:22:23.671761Z",
     "iopub.status.busy": "2022-06-12T05:22:23.669517Z",
     "iopub.status.idle": "2022-06-12T05:23:46.953691Z",
     "shell.execute_reply": "2022-06-12T05:23:46.954044Z"
    },
    "papermill": {
     "duration": 83.306905,
     "end_time": "2022-06-12T05:23:46.954311",
     "exception": false,
     "start_time": "2022-06-12T05:22:23.647406",
     "status": "completed"
    },
    "tags": []
   },
   "outputs": [
    {
     "data": {
      "image/png": "[encoded data removed]",
      "text/plain": [
       "<Figure size 432x288 with 1 Axes>"
      ]
     },
     "metadata": {
      "needs_background": "light"
     },
     "output_type": "display_data"
    },
    {
     "data": {
      "image/png": "[encoded data removed]",
      "text/plain": [
       "<Figure size 432x288 with 1 Axes>"
      ]
     },
     "metadata": {
      "needs_background": "light"
     },
     "output_type": "display_data"
    }
   ],
   "source": [
    "#Training the ABC_GAN \n",
    "ABC_train_test2.training_GAN(disc,gen,disc_opt,gen_opt,train_data,batch_size,n_epochs,criterion,prior_model,variance,bias,device)"
   ]
  },
  {
   "cell_type": "code",
   "execution_count": 13,
   "id": "1fa7c368",
   "metadata": {
    "execution": {
     "iopub.execute_input": "2022-06-12T05:23:46.984547Z",
     "iopub.status.busy": "2022-06-12T05:23:46.984175Z",
     "iopub.status.idle": "2022-06-12T05:23:47.382278Z",
     "shell.execute_reply": "2022-06-12T05:23:47.382528Z"
    },
    "papermill": {
     "duration": 0.415739,
     "end_time": "2022-06-12T05:23:47.382648",
     "exception": false,
     "start_time": "2022-06-12T05:23:46.966909",
     "status": "completed"
    },
    "tags": []
   },
   "outputs": [
    {
     "data": {
      "application/scrapbook.scrap.json+json": {
       "data": 0.21423146499792317,
       "encoder": "json",
       "name": "ABC-GAN Model 1 MSE",
       "version": 1
      }
     },
     "metadata": {
      "scrapbook": {
       "data": true,
       "display": false,
       "name": "ABC-GAN Model 1 MSE"
      }
     },
     "output_type": "display_data"
    },
    {
     "data": {
      "application/scrapbook.scrap.json+json": {
       "data": 0.2854614609730996,
       "encoder": "json",
       "name": "ABC-GAN Model 1 MAE",
       "version": 1
      }
     },
     "metadata": {
      "scrapbook": {
       "data": true,
       "display": false,
       "name": "ABC-GAN Model 1 MAE"
      }
     },
     "output_type": "display_data"
    },
    {
     "data": {
      "application/scrapbook.scrap.json+json": {
       "data": 29.11706901925616,
       "encoder": "json",
       "name": "ABC-GAN Model 1 Manhattan Distance",
       "version": 1
      }
     },
     "metadata": {
      "scrapbook": {
       "data": true,
       "display": false,
       "name": "ABC-GAN Model 1 Manhattan Distance"
      }
     },
     "output_type": "display_data"
    },
    {
     "data": {
      "application/scrapbook.scrap.json+json": {
       "data": 4.674558574074939,
       "encoder": "json",
       "name": "ABC-GAN Model 1 Euclidean distance",
       "version": 1
      }
     },
     "metadata": {
      "scrapbook": {
       "data": true,
       "display": false,
       "name": "ABC-GAN Model 1 Euclidean distance"
      }
     },
     "output_type": "display_data"
    },
    {
     "data": {
      "application/scrapbook.scrap.json+json": {
       "data": [
        [
         0.21471124346913875,
         0.2155332492756487,
         0.21496003698606084,
         0.21410240875482983,
         0.2135862470500131,
         0.21475288033645296,
         0.21480519621312424,
         0.2126874826721292,
         0.2146672432006858,
         0.21535077835966313,
         0.21615691992380412,
         0.21363987166009774,
         0.21252919527819208,
         0.21546047844328464,
         0.2136034271306484,
         0.21422514756197927,
         0.2155064398199717,
         0.2138420191855958,
         0.21390882004721554,
         0.21437623528877198,
         0.2141530111717101,
         0.21266896310992867,
         0.21437303049777592,
         0.21345636449071312,
         0.21503865067632172,
         0.2123408527279296,
         0.2156924872237572,
         0.21365867105266736,
         0.21372960404978542,
         0.21445325947043806,
         0.216129635572286,
         0.2144450330183937,
         0.21381687081464715,
         0.21339493530233586,
         0.2139884201648503,
         0.21548259168930134,
         0.21459491090003313,
         0.21331435699001852,
         0.2155189263774811,
         0.2137926163342771,
         0.21256003620518749,
         0.2137477269436339,
         0.21600170810369831,
         0.21332164031437956,
         0.21454037874526094,
         0.21368557976227462,
         0.21358016074699923,
         0.2133603018926993,
         0.2140645566905809,
         0.21537432925511363,
         0.21305380104476038,
         0.21408466904567383,
         0.21437369618885363,
         0.21444105308415198,
         0.2142133245164014,
         0.21459066980190944,
         0.2135475370448142,
         0.2155912278221834,
         0.21635108289780106,
         0.2145796981951033,
         0.2140825596846245,
         0.2115942946967236,
         0.21332576857902155,
         0.21352171438783243,
         0.21427146488885793,
         0.21357752813060749,
         0.21421385865379183,
         0.21262335213428188,
         0.2141222478998734,
         0.21588670718739136,
         0.21447330982536464,
         0.21520682354420712,
         0.21446654952836808,
         0.2156671379844103,
         0.2131220788104855,
         0.21354488102678296,
         0.21432699234813612,
         0.21513245410588316,
         0.21393166262629024,
         0.21645624224663962,
         0.21351571178044493,
         0.21317630973434562,
         0.21389505569720166,
         0.21438582713122697,
         0.21297733655012216,
         0.21434966046471052,
         0.21444825480723076,
         0.21399414495621394,
         0.21402313281926702,
         0.2157402718659834,
         0.2152966626206579,
         0.2127916388405702,
         0.2145381258233372,
         0.2129876300865038,
         0.21345397167664587,
         0.2145457926226233,
         0.21338338885041452,
         0.21447681418125972,
         0.21505255282789412,
         0.21505489757264903
        ],
        [
         0.2847944421638899,
         0.28692407765444,
         0.2854511561146116,
         0.2863949380687201,
         0.2850827362534462,
         0.2870678073525721,
         0.28559981136783663,
         0.2849764272789745,
         0.28580959446216914,
         0.28683537977985013,
         0.2857488612918293,
         0.2854156509662668,
         0.2835609256563818,
         0.2878230086655593,
         0.28491532961454463,
         0.28579203585418417,
         0.2873700107904334,
         0.2844076781332785,
         0.28484014126782614,
         0.28647082269776103,
         0.28564768342082114,
         0.28444528620799675,
         0.28693571410087104,
         0.28533504312565805,
         0.2867950692078939,
         0.2848239217282218,
         0.28644078129939005,
         0.2851344158361648,
         0.28542255846710474,
         0.28503227894943134,
         0.28657859118253576,
         0.2857932304762596,
         0.2850623066975352,
         0.2856290152698171,
         0.28606088340793756,
         0.28586313101079536,
         0.28434537584875147,
         0.2849384949761717,
         0.28475180739427314,
         0.28615383561883195,
         0.28486075425776197,
         0.2848360849471361,
         0.28617805042578015,
         0.2856254605759008,
         0.2856883571994509,
         0.28598251213849174,
         0.2857416430670841,
         0.28498804744552164,
         0.28645291762864766,
         0.28622907853009655,
         0.2834139389497246,
         0.283574112672724,
         0.28613325040422233,
         0.2864978349968499,
         0.28526732366641655,
         0.2863147673562315,
         0.2838083065169699,
         0.28654980585526896,
         0.2871093765065512,
         0.2847135724755479,
         0.28509866846177506,
         0.283363976269303,
         0.28437432532618734,
         0.2839626289684983,
         0.2851117938556069,
         0.28325906865225703,
         0.28494745701113167,
         0.28446807109696026,
         0.2844293558988355,
         0.28827466024998943,
         0.28535794061334696,
         0.2858971066626848,
         0.28678014742064417,
         0.2856015925953055,
         0.2856168464994898,
         0.28390776968615894,
         0.2843979426531815,
         0.28611563867432815,
         0.2863915615039421,
         0.28539301963596075,
         0.2857833305264221,
         0.2838470079187377,
         0.28479762841016054,
         0.2848535333212246,
         0.28465742806849237,
         0.28459251630028676,
         0.2851897761700492,
         0.2854742336214757,
         0.2846744973486399,
         0.2866879127024874,
         0.28660732078566853,
         0.28571718826196063,
         0.28454945493927775,
         0.28407695451203513,
         0.2843308868799724,
         0.2869968858054456,
         0.28448403979122056,
         0.2873899798803762,
         0.28596680969292043,
         0.28628368536010385
        ],
        [
         29.04903310071677,
         29.266255920752883,
         29.11601792369038,
         29.212283683009446,
         29.078439097851515,
         29.280916349962354,
         29.13118075951934,
         29.067595582455397,
         29.152578635141253,
         29.257208737544715,
         29.146383851766586,
         29.112396398559213,
         28.92321441695094,
         29.357946883887053,
         29.06136362068355,
         29.150787657126784,
         29.311741100624204,
         29.009583169594407,
         29.05369440931827,
         29.220023915171623,
         29.136063708923757,
         29.013419193215668,
         29.267442838288844,
         29.104174398817122,
         29.253097059205174,
         29.052040016278625,
         29.216959692537785,
         29.083710415288806,
         29.113100963644683,
         29.073292452841997,
         29.23101630061865,
         29.15090950857848,
         29.076355283148587,
         29.134159557521343,
         29.17821010760963,
         29.158039363101125,
         29.003228336572647,
         29.06372648756951,
         29.04468435421586,
         29.18769123312086,
         29.05579693429172,
         29.053280664607882,
         29.190161143429577,
         29.133796978741884,
         29.140212434343994,
         29.17021623812616,
         29.14564759284258,
         29.068780839443207,
         29.21819759812206,
         29.195366010069847,
         28.90822177287191,
         28.924559492617846,
         29.18559154123068,
         29.222779169678688,
         29.097267013974488,
         29.204106270335615,
         28.94844726473093,
         29.228080197237432,
         29.285156403668225,
         29.040784392505884,
         29.080064183101058,
         28.903125579468906,
         29.00618118327111,
         28.964188154786825,
         29.081402973271906,
         28.892425002530217,
         29.06464061513543,
         29.015743251889944,
         29.01179430168122,
         29.40401534549892,
         29.106509942561388,
         29.16150487959385,
         29.251575036905706,
         29.131362444721162,
         29.13291834294796,
         28.958592507988214,
         29.008590150624514,
         29.18379514478147,
         29.211939273402095,
         29.110088002867997,
         29.14989971369505,
         28.952394807711244,
         29.049358097836375,
         29.05506039876491,
         29.03505766298622,
         29.028436662629247,
         29.08935716934502,
         29.118371829390526,
         29.03679872956127,
         29.242167095653713,
         29.233946720138192,
         29.143153202719986,
         29.02404440380633,
         28.975849360227585,
         29.001750461757183,
         29.273682352155447,
         29.017372058704495,
         29.31377794779837,
         29.168614588677883,
         29.200935906730592
        ],
        [
         4.679802007975567,
         4.688751585029448,
         4.682512549110594,
         4.673162279762242,
         4.6675258112946025,
         4.680255740268708,
         4.680825783314164,
         4.657695055771382,
         4.67932247301572,
         4.68676641115019,
         4.695530410105766,
         4.66811170703208,
         4.6559615460585135,
         4.687959982893948,
         4.667713526698711,
         4.674501583198136,
         4.688459966944061,
         4.670319684660866,
         4.671049094669845,
         4.676149698144269,
         4.673714490586093,
         4.657492269152223,
         4.676114745253065,
         4.666106425924374,
         4.683368698809097,
         4.653898041239065,
         4.690483311645318,
         4.668317089420134,
         4.669091947378859,
         4.676989679910004,
         4.695234054695587,
         4.676899974114921,
         4.670045055788434,
         4.665434963734706,
         4.671918113239436,
         4.688200545231478,
         4.6785340558558905,
         4.664554042240467,
         4.688595790906171,
         4.669780173209041,
         4.656299356026104,
         4.669289897645107,
         4.6938442908321125,
         4.664633673941257,
         4.677939571223276,
         4.668611049953938,
         4.667459308466857,
         4.665056354756642,
         4.6727491675072015,
         4.687022677993097,
         4.661704377860693,
         4.672968675548631,
         4.6761220056006945,
         4.676856574087289,
         4.674372588986991,
         4.678487824051139,
         4.667102824940869,
         4.689382180827524,
         4.697638817062855,
         4.678368221495667,
         4.6729456542775765,
         4.645709639986748,
         4.664678809420879,
         4.666820638031732,
         4.675006889691555,
         4.667430542527865,
         4.674378416718823,
         4.656992797685728,
         4.673378786893598,
         4.69259460566475,
         4.677208312892124,
         4.685199675735189,
         4.67713459843669,
         4.690207679240851,
         4.662451290755703,
         4.667073801080487,
         4.6756126036606025,
         4.684390069027138,
         4.6712984905571595,
         4.6987803427226975,
         4.666755039811429,
         4.663044455385693,
         4.670898808699945,
         4.676254309528637,
         4.660867765568173,
         4.675859853267682,
         4.676935106492021,
         4.671980606288281,
         4.672297031179122,
         4.691002849107034,
         4.686177502752868,
         4.658835386847035,
         4.677915009272869,
         4.660980397815827,
         4.666080272671899,
         4.677998594218213,
         4.665308742488784,
         4.677246524023348,
         4.683520085197158,
         4.683545617628828
        ]
       ],
       "encoder": "json",
       "name": "ABC_GAN_1 Metrics",
       "version": 1
      }
     },
     "metadata": {
      "scrapbook": {
       "data": true,
       "display": false,
       "name": "ABC_GAN_1 Metrics"
      }
     },
     "output_type": "display_data"
    },
    {
     "name": "stdout",
     "output_type": "stream",
     "text": [
      "MSE\n",
      "0.21423146499792317\n"
     ]
    }
   ],
   "source": [
    "ABC_GAN1_metrics=ABC_train_test2.test_generator(gen,test_data,prior_model,variance,bias,\"1\",device)\n",
    "sb.glue(\"ABC_GAN_1 Metrics\",ABC_GAN1_metrics)\n",
    "\n",
    "print(\"MSE\")\n",
    "print(mean(ABC_GAN1_metrics[0]))"
   ]
  },
  {
   "cell_type": "code",
   "execution_count": 14,
   "id": "eb22ce5c",
   "metadata": {
    "execution": {
     "iopub.execute_input": "2022-06-12T05:23:47.412205Z",
     "iopub.status.busy": "2022-06-12T05:23:47.411824Z",
     "iopub.status.idle": "2022-06-12T05:23:47.738149Z",
     "shell.execute_reply": "2022-06-12T05:23:47.738448Z"
    },
    "papermill": {
     "duration": 0.342345,
     "end_time": "2022-06-12T05:23:47.738573",
     "exception": false,
     "start_time": "2022-06-12T05:23:47.396228",
     "status": "completed"
    },
    "tags": []
   },
   "outputs": [
    {
     "data": {
      "image/png": "[encoded data removed]",
      "text/plain": [
       "<Figure size 432x288 with 1 Axes>"
      ]
     },
     "metadata": {
      "needs_background": "light"
     },
     "output_type": "display_data"
    },
    {
     "data": {
      "image/png": "[encoded data removed]",
      "text/plain": [
       "<Figure size 432x288 with 1 Axes>"
      ]
     },
     "metadata": {
      "needs_background": "light"
     },
     "output_type": "display_data"
    },
    {
     "data": {
      "image/png": "[encoded data removed]",
      "text/plain": [
       "<Figure size 432x288 with 1 Axes>"
      ]
     },
     "metadata": {
      "needs_background": "light"
     },
     "output_type": "display_data"
    },
    {
     "data": {
      "image/png": "[encoded data removed]",
      "text/plain": [
       "<Figure size 432x288 with 1 Axes>"
      ]
     },
     "metadata": {
      "needs_background": "light"
     },
     "output_type": "display_data"
    }
   ],
   "source": [
    "sanityChecks.discProbVsError(train_data,disc,device)\n",
    "sanityChecks.discProbVsError(test_data,disc,device)"
   ]
  },
  {
   "cell_type": "markdown",
   "id": "130f3a4d",
   "metadata": {
    "id": "130f3a4d",
    "papermill": {
     "duration": 0.015441,
     "end_time": "2022-06-12T05:23:47.769613",
     "exception": false,
     "start_time": "2022-06-12T05:23:47.754172",
     "status": "completed"
    },
    "tags": []
   },
   "source": [
    "# ABC - GAN Model with skip connection"
   ]
  },
  {
   "cell_type": "code",
   "execution_count": 15,
   "id": "4e43dad1",
   "metadata": {
    "execution": {
     "iopub.execute_input": "2022-06-12T05:23:47.804933Z",
     "iopub.status.busy": "2022-06-12T05:23:47.804540Z",
     "iopub.status.idle": "2022-06-12T05:23:47.808944Z",
     "shell.execute_reply": "2022-06-12T05:23:47.809185Z"
    },
    "id": "4e43dad1",
    "papermill": {
     "duration": 0.024115,
     "end_time": "2022-06-12T05:23:47.809303",
     "exception": false,
     "start_time": "2022-06-12T05:23:47.785188",
     "status": "completed"
    },
    "tags": []
   },
   "outputs": [],
   "source": [
    "#Generator\n",
    "gen3 = network.GeneratorWithSkipConnection(n_features+1).to(device)\n",
    "constraints=network.weightConstraint()\n",
    "#Discriminator \n",
    "disc3 = network.Discriminator(n_features+1).to(device)\n",
    "\n",
    "criterion = torch.nn.BCELoss()\n",
    "gen_opt = torch.optim.Adam(gen3.parameters(), lr=0.001, betas=(0.5, 0.999))\n",
    "disc_opt = torch.optim.Adam(disc3.parameters(), lr=0.001, betas=(0.5, 0.999))\n"
   ]
  },
  {
   "cell_type": "code",
   "execution_count": 16,
   "id": "26acbc37",
   "metadata": {
    "execution": {
     "iopub.execute_input": "2022-06-12T05:23:47.842863Z",
     "iopub.status.busy": "2022-06-12T05:23:47.842473Z",
     "iopub.status.idle": "2022-06-12T05:27:07.576808Z",
     "shell.execute_reply": "2022-06-12T05:27:07.578304Z"
    },
    "id": "26acbc37",
    "papermill": {
     "duration": 199.753831,
     "end_time": "2022-06-12T05:27:07.578711",
     "exception": false,
     "start_time": "2022-06-12T05:23:47.824880",
     "status": "completed"
    },
    "tags": []
   },
   "outputs": [
    {
     "data": {
      "image/png": "[encoded data removed]",
      "text/plain": [
       "<Figure size 432x288 with 1 Axes>"
      ]
     },
     "metadata": {
      "needs_background": "light"
     },
     "output_type": "display_data"
    },
    {
     "data": {
      "image/png": "[encoded data removed]",
      "text/plain": [
       "<Figure size 432x288 with 1 Axes>"
      ]
     },
     "metadata": {
      "needs_background": "light"
     },
     "output_type": "display_data"
    }
   ],
   "source": [
    "ABC_train_test2.training_GAN_skip_connection(disc3,gen3,disc_opt,gen_opt,train_data,batch_size,n_epochs,criterion,prior_model,variance,bias,device)"
   ]
  },
  {
   "cell_type": "code",
   "execution_count": 17,
   "id": "c5e0717b",
   "metadata": {
    "execution": {
     "iopub.execute_input": "2022-06-12T05:27:07.619615Z",
     "iopub.status.busy": "2022-06-12T05:27:07.619143Z",
     "iopub.status.idle": "2022-06-12T05:27:08.547073Z",
     "shell.execute_reply": "2022-06-12T05:27:08.547333Z"
    },
    "id": "c5e0717b",
    "papermill": {
     "duration": 0.950969,
     "end_time": "2022-06-12T05:27:08.547464",
     "exception": false,
     "start_time": "2022-06-12T05:27:07.596495",
     "status": "completed"
    },
    "tags": []
   },
   "outputs": [
    {
     "data": {
      "application/scrapbook.scrap.json+json": {
       "data": 0.21159832538050563,
       "encoder": "json",
       "name": "ABC-GAN Model 3 MSE",
       "version": 1
      }
     },
     "metadata": {
      "scrapbook": {
       "data": true,
       "display": false,
       "name": "ABC-GAN Model 3 MSE"
      }
     },
     "output_type": "display_data"
    },
    {
     "data": {
      "application/scrapbook.scrap.json+json": {
       "data": 0.2593231016858766,
       "encoder": "json",
       "name": "ABC-GAN Model 3 MAE",
       "version": 1
      }
     },
     "metadata": {
      "scrapbook": {
       "data": true,
       "display": false,
       "name": "ABC-GAN Model 3 MAE"
      }
     },
     "output_type": "display_data"
    },
    {
     "data": {
      "application/scrapbook.scrap.json+json": {
       "data": 26.450956371959414,
       "encoder": "json",
       "name": "ABC-GAN Model 3 Manhattan Distance",
       "version": 1
      }
     },
     "metadata": {
      "scrapbook": {
       "data": true,
       "display": false,
       "name": "ABC-GAN Model 3 Manhattan Distance"
      }
     },
     "output_type": "display_data"
    },
    {
     "data": {
      "application/scrapbook.scrap.json+json": {
       "data": 4.645741873800092,
       "encoder": "json",
       "name": "ABC-GAN Model 3 Euclidean distance",
       "version": 1
      }
     },
     "metadata": {
      "scrapbook": {
       "data": true,
       "display": false,
       "name": "ABC-GAN Model 3 Euclidean distance"
      }
     },
     "output_type": "display_data"
    },
    {
     "data": {
      "application/scrapbook.scrap.json+json": {
       "data": [
        [
         0.21201722548110935,
         0.21209357550950125,
         0.21073000645106288,
         0.21041347259960363,
         0.2117404661734532,
         0.21162991502969206,
         0.21111709054897282,
         0.21226452526776038,
         0.21203013423585948,
         0.2085206525268222,
         0.2117201631626477,
         0.2107321833585845,
         0.21334156879041793,
         0.21094601384814557,
         0.21166135933302868,
         0.21146396188035696,
         0.21199563790292714,
         0.21177868439288866,
         0.21084446755340205,
         0.20980706064119498,
         0.2099872613285759,
         0.21303929530495636,
         0.2127083725455336,
         0.21233429704581389,
         0.21164335053814282,
         0.21169579017812948,
         0.21367412305481356,
         0.21240219091687856,
         0.21175165128168924,
         0.21193428441791906,
         0.21253348851628565,
         0.2109519172744046,
         0.21239564860242183,
         0.2130318316448766,
         0.21152608293530148,
         0.21094447244281145,
         0.2108102735499862,
         0.21258687087853304,
         0.21203992855800913,
         0.21187759968426595,
         0.21040955980809628,
         0.2124906143392782,
         0.21124555805548212,
         0.2111065126049485,
         0.213121417863625,
         0.21079109201603358,
         0.2130902180332714,
         0.21092857040468638,
         0.21125885121809,
         0.21025302712462376,
         0.21236179052866758,
         0.21010411814071261,
         0.21064763304011466,
         0.21291438800598442,
         0.21119544324963926,
         0.2107056333851806,
         0.21226718134344003,
         0.21020986197917554,
         0.2102573244554359,
         0.21067759574506617,
         0.21285972888327448,
         0.21295756861849818,
         0.21152742666992355,
         0.21254367221795778,
         0.21147642950570297,
         0.21206477925229186,
         0.21212332520935512,
         0.21268400043251934,
         0.21157535723113188,
         0.21224929453744742,
         0.21047510792449572,
         0.21206007157531195,
         0.21294237192010879,
         0.21133361379937335,
         0.21084724703077873,
         0.21222140953178523,
         0.21066239662260933,
         0.21026185286744148,
         0.211590454869332,
         0.20999794743466774,
         0.2112055301429898,
         0.21125074683770617,
         0.21206849447333048,
         0.21211310368012024,
         0.2118958808425721,
         0.21073362457089478,
         0.21240191904123243,
         0.21086960970847501,
         0.21038735740242648,
         0.21109468124548003,
         0.21135261919147155,
         0.21274863093336646,
         0.21092489100231104,
         0.2109056797880978,
         0.2134268158455649,
         0.2128830854801874,
         0.2121561999305664,
         0.21234234428652368,
         0.20981857454902264,
         0.2120454062358844
        ],
        [
         0.2583755654118517,
         0.25957977492133993,
         0.25894349046489773,
         0.2587546917573348,
         0.25966783019476664,
         0.25771877865361814,
         0.26026628584619244,
         0.2603562497533858,
         0.25938872064409013,
         0.2596430188300563,
         0.25840529515306687,
         0.2583424684628114,
         0.2592145249820497,
         0.25852689429131503,
         0.25751220739866587,
         0.2592044641142802,
         0.2591590904950292,
         0.2593336790553568,
         0.2594141412763765,
         0.25785544094191315,
         0.25749529586356207,
         0.2612245983042407,
         0.2609738486581573,
         0.2609043999063764,
         0.25894859739962744,
         0.2584992817456962,
         0.2606734031304607,
         0.26049592715685765,
         0.25882181460403053,
         0.2598484664717141,
         0.26053527303898305,
         0.2592325471524222,
         0.25938405977635115,
         0.2617951150180078,
         0.2583513196658197,
         0.25973383661167804,
         0.25860203731823345,
         0.25824232630468175,
         0.26009890889091525,
         0.2600242910431881,
         0.2583284590110256,
         0.25945045598143457,
         0.2593063637659903,
         0.2606860191798678,
         0.26071385562639027,
         0.25786030422165696,
         0.2595515201763049,
         0.25877970279486595,
         0.261003722416623,
         0.25940565129413323,
         0.2599596297916244,
         0.2575574301236866,
         0.2588466933252765,
         0.25946127310139583,
         0.25881763475983605,
         0.2581973123711114,
         0.26015053638804925,
         0.2589634645241769,
         0.25833985101324325,
         0.2587214184008475,
         0.26040718774767774,
         0.2599869037558343,
         0.25900358158875914,
         0.2595786991296336,
         0.2575970135683961,
         0.25882457868725645,
         0.26039881405292775,
         0.2594818504271554,
         0.26047346207733246,
         0.25925226356176767,
         0.25826275068353494,
         0.2586907942079729,
         0.2600565338050764,
         0.2599789693417466,
         0.258763540979,
         0.25867849242343915,
         0.25952586569074615,
         0.2601771584355875,
         0.2584420493164775,
         0.2572686742333805,
         0.2588718975894153,
         0.259525158698214,
         0.2600741105555904,
         0.2592966916112631,
         0.2600986281154202,
         0.259272257517795,
         0.2579755694411385,
         0.25831166956135454,
         0.2601843927904174,
         0.2589040208543998,
         0.26019972344568254,
         0.26084040253258806,
         0.2582870407176076,
         0.2591290616312786,
         0.26097270503055814,
         0.2614344275355631,
         0.2599719905562119,
         0.2595563487414563,
         0.2579927080055224,
         0.2589129209655392
        ],
        [
         26.354307672008872,
         26.477137041976675,
         26.412236027419567,
         26.39297855924815,
         26.486118679866195,
         26.287315422669053,
         26.54716115631163,
         26.55633747484535,
         26.45764950569719,
         26.48358792066574,
         26.35734010561282,
         26.35093178320676,
         26.43988154816907,
         26.36974321771413,
         26.26624515466392,
         26.438855339656584,
         26.43422723049298,
         26.452035263646394,
         26.460242410190403,
         26.301254976075143,
         26.26452017808333,
         26.644909027032554,
         26.619332563132048,
         26.612248790450394,
         26.412756934762,
         26.36692673806101,
         26.588687119306996,
         26.570584569999482,
         26.399825089611113,
         26.50454358011484,
         26.57459784997627,
         26.441719809547067,
         26.457174097187817,
         26.703101731836796,
         26.35183460591361,
         26.492851334391162,
         26.377407806459814,
         26.340717283077538,
         26.530088706873357,
         26.522477686405182,
         26.34950281912461,
         26.463946510106325,
         26.449249104131013,
         26.589973956346512,
         26.592813273891807,
         26.30175103060901,
         26.4742550579831,
         26.395529685076326,
         26.62237968649555,
         26.45937643200159,
         26.51588223874569,
         26.270857872616034,
         26.4023627191782,
         26.465049856342375,
         26.399398745503277,
         26.33612586185336,
         26.53535471158102,
         26.414273381466046,
         26.35066480335081,
         26.389584676886443,
         26.56153315026313,
         26.518664183095098,
         26.418365322053432,
         26.477027311222628,
         26.2748953839764,
         26.40010702610016,
         26.56067903339863,
         26.46714874356985,
         26.568293131887913,
         26.443730883300304,
         26.342800569720566,
         26.386461009213235,
         26.525766448117793,
         26.517854872858152,
         26.393881179858,
         26.385206227190793,
         26.471638300456107,
         26.538070160429925,
         26.36108903028071,
         26.24140477180481,
         26.404933554120362,
         26.47156618721783,
         26.527559276670218,
         26.448262544348836,
         26.530060067772865,
         26.44577026681509,
         26.313508082996123,
         26.347790295258164,
         26.53880806462257,
         26.408210127148777,
         26.54037179145962,
         26.60572105832398,
         26.345278153195977,
         26.431164286390413,
         26.619215913116932,
         26.66631160862744,
         26.517143036733614,
         26.47474757162854,
         26.315256216563284,
         26.409117938484997
        ],
        [
         4.650350201766868,
         4.651187450745145,
         4.6362118866601,
         4.632728591786871,
         4.647314014534871,
         4.646100658942785,
         4.6404679975187015,
         4.653061527350735,
         4.6504917688409755,
         4.611844160174524,
         4.647091202310329,
         4.636235833364781,
         4.6648515535462245,
         4.638587437195816,
         4.646445808569053,
         4.6442786427815035,
         4.650113446583703,
         4.6477334054434145,
         4.637470829066961,
         4.6260480094138545,
         4.628034210711362,
         4.661545679397076,
         4.657923786371393,
         4.6538261998782255,
         4.646248137464309,
         4.646823710683375,
         4.668485894976119,
         4.654570170651809,
         4.647436759196653,
         4.649440505117551,
         4.6560085726576075,
         4.638652343298565,
         4.6544984861365055,
         4.661464021933175,
         4.64496075972669,
         4.638570489834855,
         4.637094769583492,
         4.656593264352209,
         4.650599177839015,
         4.648818685192522,
         4.6326855171083885,
         4.6555389228967226,
         4.641879675482679,
         4.640351741592952,
         4.662444061014539,
         4.636883801178915,
         4.662102770144999,
         4.638395647341654,
         4.642025724211917,
         4.630961969905564,
         4.654127483634723,
         4.62932177001693,
         4.635305660912955,
         4.660178921094167,
         4.641329035035461,
         4.635943766407053,
         4.653090639245154,
         4.63048657506702,
         4.6310092954402995,
         4.635635314171806,
         4.659580704966273,
         4.660651456511934,
         4.644975513426545,
         4.656120119394655,
         4.644415550915067,
         4.650871690740755,
         4.6515136430364485,
         4.657656926408059,
         4.6455017422852665,
         4.652894587546513,
         4.633407062659029,
         4.650820067545273,
         4.660485160994624,
         4.642847036844534,
         4.637501395917787,
         4.652588932222799,
         4.6354680945408475,
         4.63105916529675,
         4.6456674866666745,
         4.628151967938834,
         4.6414398708358755,
         4.641936683911794,
         4.650912430510782,
         4.651401571072128,
         4.649019234843232,
         4.636251687110101,
         4.654567191716723,
         4.637747318501132,
         4.632441090294349,
         4.640221706668655,
         4.643055799527946,
         4.658364557997086,
         4.638355191469894,
         4.638143954038724,
         4.665783451495324,
         4.6598363403642304,
         4.651874073200796,
         4.653914386538005,
         4.62617494308206,
         4.650659247468062
        ]
       ],
       "encoder": "json",
       "name": "ABC_GAN_3 Metrics",
       "version": 1
      }
     },
     "metadata": {
      "scrapbook": {
       "data": true,
       "display": false,
       "name": "ABC_GAN_3 Metrics"
      }
     },
     "output_type": "display_data"
    },
    {
     "name": "stdout",
     "output_type": "stream",
     "text": [
      "MSE\n",
      "0.21159832538050563\n"
     ]
    }
   ],
   "source": [
    "ABC_GAN3_metrics=ABC_train_test2.test_generator(gen3,test_data,prior_model,variance,bias,\"3\",device)\n",
    "sb.glue(\"ABC_GAN_3 Metrics\",ABC_GAN3_metrics)\n",
    "\n",
    "print(\"MSE\")\n",
    "print(mean(ABC_GAN3_metrics[0]))"
   ]
  },
  {
   "cell_type": "code",
   "execution_count": 18,
   "id": "c8e46b48",
   "metadata": {
    "execution": {
     "iopub.execute_input": "2022-06-12T05:27:08.589416Z",
     "iopub.status.busy": "2022-06-12T05:27:08.589004Z",
     "iopub.status.idle": "2022-06-12T05:27:08.924056Z",
     "shell.execute_reply": "2022-06-12T05:27:08.924355Z"
    },
    "id": "c8e46b48",
    "papermill": {
     "duration": 0.356936,
     "end_time": "2022-06-12T05:27:08.924480",
     "exception": false,
     "start_time": "2022-06-12T05:27:08.567544",
     "status": "completed"
    },
    "tags": []
   },
   "outputs": [
    {
     "data": {
      "image/png": "[encoded data removed]",
      "text/plain": [
       "<Figure size 432x288 with 1 Axes>"
      ]
     },
     "metadata": {
      "needs_background": "light"
     },
     "output_type": "display_data"
    },
    {
     "data": {
      "image/png": "[encoded data removed]",
      "text/plain": [
       "<Figure size 432x288 with 1 Axes>"
      ]
     },
     "metadata": {
      "needs_background": "light"
     },
     "output_type": "display_data"
    },
    {
     "data": {
      "image/png": "[encoded data removed]",
      "text/plain": [
       "<Figure size 432x288 with 1 Axes>"
      ]
     },
     "metadata": {
      "needs_background": "light"
     },
     "output_type": "display_data"
    },
    {
     "data": {
      "image/png": "[encoded data removed]",
      "text/plain": [
       "<Figure size 432x288 with 1 Axes>"
      ]
     },
     "metadata": {
      "needs_background": "light"
     },
     "output_type": "display_data"
    }
   ],
   "source": [
    "sanityChecks.discProbVsError(train_data,disc3,device)\n",
    "sanityChecks.discProbVsError(test_data,disc3,device)"
   ]
  },
  {
   "cell_type": "markdown",
   "id": "a5bd74c3",
   "metadata": {
    "id": "a5bd74c3",
    "papermill": {
     "duration": 0.020056,
     "end_time": "2022-06-12T05:27:08.965131",
     "exception": false,
     "start_time": "2022-06-12T05:27:08.945075",
     "status": "completed"
    },
    "tags": []
   },
   "source": [
    "## Skip Connection Model Analysis - ABC-GAN "
   ]
  },
  {
   "cell_type": "markdown",
   "id": "5744a8bf",
   "metadata": {
    "id": "5744a8bf",
    "papermill": {
     "duration": 0.021814,
     "end_time": "2022-06-12T05:27:09.007619",
     "exception": false,
     "start_time": "2022-06-12T05:27:08.985805",
     "status": "completed"
    },
    "tags": []
   },
   "source": [
    "### Weight Analysis \n",
    "\n",
    "Study the weights of the skip connection layer\n",
    "\n",
    "Equation of the skip connection is \n",
    "\n",
    "$output = y_{gan} * w + y_{abc} * (1-w)$"
   ]
  },
  {
   "cell_type": "code",
   "execution_count": 19,
   "id": "52c31dea",
   "metadata": {
    "execution": {
     "iopub.execute_input": "2022-06-12T05:27:09.057193Z",
     "iopub.status.busy": "2022-06-12T05:27:09.056798Z",
     "iopub.status.idle": "2022-06-12T05:27:09.068112Z",
     "shell.execute_reply": "2022-06-12T05:27:09.068354Z"
    },
    "id": "52c31dea",
    "papermill": {
     "duration": 0.039078,
     "end_time": "2022-06-12T05:27:09.068472",
     "exception": false,
     "start_time": "2022-06-12T05:27:09.029394",
     "status": "completed"
    },
    "tags": []
   },
   "outputs": [
    {
     "name": "stdout",
     "output_type": "stream",
     "text": [
      "Weight of the node at skip connection\n",
      "Parameter containing:\n",
      "tensor([[0.]], requires_grad=True)\n"
     ]
    },
    {
     "data": {
      "application/scrapbook.scrap.json+json": {
       "data": 0.0,
       "encoder": "json",
       "name": "Skip Connection Weight",
       "version": 1
      }
     },
     "metadata": {
      "scrapbook": {
       "data": true,
       "display": false,
       "name": "Skip Connection Weight"
      }
     },
     "output_type": "display_data"
    }
   ],
   "source": [
    "print(\"Weight of the node at skip connection\")\n",
    "for name,param in gen3.named_parameters():\n",
    "    if(name == \"skipNode.weight\"):\n",
    "        print(param)\n",
    "        sb.glue(\"Skip Connection Weight\",param.item())"
   ]
  }
 ],
 "metadata": {
  "colab": {
   "collapsed_sections": [],
   "name": "ABC_GAN_Model-Catboost_Pre-gen.ipynb",
   "provenance": []
  },
  "interpreter": {
   "hash": "31f2aee4e71d21fbe5cf8b01ff0e069b9275f58929596ceb00d14d90e3e16cd6"
  },
  "kernelspec": {
   "display_name": "Python 3 (ipykernel)",
   "language": "python",
   "name": "python3"
  },
  "language_info": {
   "codemirror_mode": {
    "name": "ipython",
    "version": 3
   },
   "file_extension": ".py",
   "mimetype": "text/x-python",
   "name": "python",
   "nbconvert_exporter": "python",
   "pygments_lexer": "ipython3",
   "version": "3.8.11"
  },
  "papermill": {
   "default_parameters": {},
   "duration": 291.203359,
   "end_time": "2022-06-12T05:27:09.600933",
   "environment_variables": {},
   "exception": null,
   "input_path": "ABC_GAN-Catboost.ipynb",
   "output_path": "./ABC_GAN_Catboost/ABC-GAN_output_5_8.ipynb",
   "parameters": {
    "bias": 0.01,
    "variance": 0.01
   },
   "start_time": "2022-06-12T05:22:18.397574",
   "version": "2.3.3"
  }
 },
 "nbformat": 4,
 "nbformat_minor": 5
}