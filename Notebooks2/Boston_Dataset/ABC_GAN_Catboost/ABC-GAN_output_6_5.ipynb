{
 "cells": [
  {
   "cell_type": "markdown",
   "id": "622780e6",
   "metadata": {
    "id": "622780e6",
    "papermill": {
     "duration": 0.027205,
     "end_time": "2022-06-12T05:47:59.545885",
     "exception": false,
     "start_time": "2022-06-12T05:47:59.518680",
     "status": "completed"
    },
    "tags": []
   },
   "source": [
    "## Import Libraries "
   ]
  },
  {
   "cell_type": "code",
   "execution_count": 1,
   "id": "a62397e3",
   "metadata": {
    "execution": {
     "iopub.execute_input": "2022-06-12T05:47:59.573644Z",
     "iopub.status.busy": "2022-06-12T05:47:59.573101Z",
     "iopub.status.idle": "2022-06-12T05:47:59.575628Z",
     "shell.execute_reply": "2022-06-12T05:47:59.575923Z"
    },
    "id": "a62397e3",
    "papermill": {
     "duration": 0.019492,
     "end_time": "2022-06-12T05:47:59.576161",
     "exception": false,
     "start_time": "2022-06-12T05:47:59.556669",
     "status": "completed"
    },
    "tags": []
   },
   "outputs": [],
   "source": [
    "import warnings\n",
    "import sys\n",
    "sys.path.insert(0, '../../src')\n",
    "warnings.filterwarnings('ignore')"
   ]
  },
  {
   "cell_type": "code",
   "execution_count": 2,
   "id": "d6a4e155",
   "metadata": {
    "execution": {
     "iopub.execute_input": "2022-06-12T05:47:59.598111Z",
     "iopub.status.busy": "2022-06-12T05:47:59.597634Z",
     "iopub.status.idle": "2022-06-12T05:48:01.497867Z",
     "shell.execute_reply": "2022-06-12T05:48:01.498165Z"
    },
    "id": "d6a4e155",
    "papermill": {
     "duration": 1.912366,
     "end_time": "2022-06-12T05:48:01.498357",
     "exception": false,
     "start_time": "2022-06-12T05:47:59.585991",
     "status": "completed"
    },
    "tags": []
   },
   "outputs": [],
   "source": [
    "import ABC_train_test2\n",
    "import bostonDataset\n",
    "import network\n",
    "import dataset\n",
    "import sanityChecks\n",
    "import torch \n",
    "import scrapbook as sb\n",
    "from statistics import mean \n",
    "import catboost as ctb \n",
    "from sklearn.model_selection import train_test_split\n",
    "from sklearn.metrics import mean_squared_error,mean_absolute_error\n",
    "import numpy as np"
   ]
  },
  {
   "cell_type": "markdown",
   "id": "2fa5b0f7",
   "metadata": {
    "id": "2fa5b0f7",
    "papermill": {
     "duration": 0.006921,
     "end_time": "2022-06-12T05:48:01.512879",
     "exception": false,
     "start_time": "2022-06-12T05:48:01.505958",
     "status": "completed"
    },
    "tags": []
   },
   "source": [
    "## Parameters "
   ]
  },
  {
   "cell_type": "code",
   "execution_count": 3,
   "id": "783186fb",
   "metadata": {
    "execution": {
     "iopub.execute_input": "2022-06-12T05:48:01.528887Z",
     "iopub.status.busy": "2022-06-12T05:48:01.528511Z",
     "iopub.status.idle": "2022-06-12T05:48:01.529824Z",
     "shell.execute_reply": "2022-06-12T05:48:01.530074Z"
    },
    "id": "783186fb",
    "papermill": {
     "duration": 0.010473,
     "end_time": "2022-06-12T05:48:01.530186",
     "exception": false,
     "start_time": "2022-06-12T05:48:01.519713",
     "status": "completed"
    },
    "tags": [
     "parameters"
    ]
   },
   "outputs": [],
   "source": [
    "variance = 1\n",
    "bias = 1 "
   ]
  },
  {
   "cell_type": "code",
   "execution_count": 4,
   "id": "6edb9492",
   "metadata": {
    "execution": {
     "iopub.execute_input": "2022-06-12T05:48:01.545750Z",
     "iopub.status.busy": "2022-06-12T05:48:01.545373Z",
     "iopub.status.idle": "2022-06-12T05:48:01.546653Z",
     "shell.execute_reply": "2022-06-12T05:48:01.546896Z"
    },
    "papermill": {
     "duration": 0.009922,
     "end_time": "2022-06-12T05:48:01.547003",
     "exception": false,
     "start_time": "2022-06-12T05:48:01.537081",
     "status": "completed"
    },
    "tags": [
     "injected-parameters"
    ]
   },
   "outputs": [],
   "source": [
    "# Parameters\n",
    "variance = 0.01\n",
    "bias = 0.1\n"
   ]
  },
  {
   "cell_type": "markdown",
   "id": "391cdbfd",
   "metadata": {
    "id": "391cdbfd",
    "papermill": {
     "duration": 0.006747,
     "end_time": "2022-06-12T05:48:01.560645",
     "exception": false,
     "start_time": "2022-06-12T05:48:01.553898",
     "status": "completed"
    },
    "tags": []
   },
   "source": [
    "## Dataset \n"
   ]
  },
  {
   "cell_type": "code",
   "execution_count": 5,
   "id": "5b51f161",
   "metadata": {
    "execution": {
     "iopub.execute_input": "2022-06-12T05:48:01.578582Z",
     "iopub.status.busy": "2022-06-12T05:48:01.576458Z",
     "iopub.status.idle": "2022-06-12T05:48:01.580143Z",
     "shell.execute_reply": "2022-06-12T05:48:01.580945Z"
    },
    "id": "5b51f161",
    "papermill": {
     "duration": 0.013777,
     "end_time": "2022-06-12T05:48:01.581254",
     "exception": false,
     "start_time": "2022-06-12T05:48:01.567477",
     "status": "completed"
    },
    "tags": []
   },
   "outputs": [],
   "source": [
    "#Parameters \n",
    "n_features = 13\n",
    "n_samples= 506\n",
    "n_target = 1 "
   ]
  },
  {
   "cell_type": "code",
   "execution_count": 6,
   "id": "5d6eced4",
   "metadata": {
    "execution": {
     "iopub.execute_input": "2022-06-12T05:48:01.616126Z",
     "iopub.status.busy": "2022-06-12T05:48:01.615716Z",
     "iopub.status.idle": "2022-06-12T05:48:01.629235Z",
     "shell.execute_reply": "2022-06-12T05:48:01.630112Z"
    },
    "id": "5d6eced4",
    "papermill": {
     "duration": 0.032812,
     "end_time": "2022-06-12T05:48:01.630399",
     "exception": false,
     "start_time": "2022-06-12T05:48:01.597587",
     "status": "completed"
    },
    "tags": []
   },
   "outputs": [
    {
     "name": "stdout",
     "output_type": "stream",
     "text": [
      "         X1        X2        X3        X4        X5        X6        X7  \\\n",
      "0 -0.419782  0.284830 -1.287909 -0.272599 -0.144217  0.413672 -0.120013   \n",
      "1 -0.417339 -0.487722 -0.593381 -0.272599 -0.740262  0.194274  0.367166   \n",
      "2 -0.417342 -0.487722 -0.593381 -0.272599 -0.740262  1.282714 -0.265812   \n",
      "3 -0.416750 -0.487722 -1.306878 -0.272599 -0.835284  1.016303 -0.809889   \n",
      "4 -0.412482 -0.487722 -1.306878 -0.272599 -0.835284  1.228577 -0.511180   \n",
      "\n",
      "         X8        X9       X10       X11       X12       X13         Y  \n",
      "0  0.140214 -0.982843 -0.666608 -1.459000  0.441052 -1.075562  0.159686  \n",
      "1  0.557160 -0.867883 -0.987329 -0.303094  0.441052 -0.492439 -0.101524  \n",
      "2  0.557160 -0.867883 -0.987329 -0.303094  0.396427 -1.208727  1.324247  \n",
      "3  1.077737 -0.752922 -1.106115  0.113032  0.416163 -1.361517  1.182758  \n",
      "4  1.077737 -0.752922 -1.106115  0.113032  0.441052 -1.026501  1.487503  \n"
     ]
    }
   ],
   "source": [
    "X,Y = bostonDataset.boston_data()"
   ]
  },
  {
   "cell_type": "code",
   "execution_count": 7,
   "id": "fe007438",
   "metadata": {
    "execution": {
     "iopub.execute_input": "2022-06-12T05:48:01.652921Z",
     "iopub.status.busy": "2022-06-12T05:48:01.652552Z",
     "iopub.status.idle": "2022-06-12T05:48:01.654062Z",
     "shell.execute_reply": "2022-06-12T05:48:01.654373Z"
    },
    "id": "fe007438",
    "papermill": {
     "duration": 0.011554,
     "end_time": "2022-06-12T05:48:01.654487",
     "exception": false,
     "start_time": "2022-06-12T05:48:01.642933",
     "status": "completed"
    },
    "tags": []
   },
   "outputs": [],
   "source": [
    "#Train test split for dataset \n",
    "X_train,X_test,Y_train,Y_test = train_test_split(X,Y,test_size = 0.2)\n",
    "train_data = dataset.CustomDataset(X_train,Y_train)\n",
    "test_data = dataset.CustomDataset(X_test,Y_test)\n"
   ]
  },
  {
   "cell_type": "markdown",
   "id": "a9a1af34",
   "metadata": {
    "id": "a9a1af34",
    "papermill": {
     "duration": 0.007076,
     "end_time": "2022-06-12T05:48:01.668814",
     "exception": false,
     "start_time": "2022-06-12T05:48:01.661738",
     "status": "completed"
    },
    "tags": []
   },
   "source": [
    "## Training Parameters "
   ]
  },
  {
   "cell_type": "code",
   "execution_count": 8,
   "id": "952b7fc8",
   "metadata": {
    "execution": {
     "iopub.execute_input": "2022-06-12T05:48:01.685222Z",
     "iopub.status.busy": "2022-06-12T05:48:01.684852Z",
     "iopub.status.idle": "2022-06-12T05:48:01.686262Z",
     "shell.execute_reply": "2022-06-12T05:48:01.686515Z"
    },
    "id": "952b7fc8",
    "papermill": {
     "duration": 0.01076,
     "end_time": "2022-06-12T05:48:01.686618",
     "exception": false,
     "start_time": "2022-06-12T05:48:01.675858",
     "status": "completed"
    },
    "tags": []
   },
   "outputs": [],
   "source": [
    "batch_size = 32\n",
    "n_epochs = 1000\n",
    "#Select the device \n",
    "device = torch.device('cuda' if torch.cuda.is_available() else 'cpu')"
   ]
  },
  {
   "cell_type": "markdown",
   "id": "a95e1600",
   "metadata": {
    "id": "a95e1600",
    "papermill": {
     "duration": 0.007069,
     "end_time": "2022-06-12T05:48:01.700843",
     "exception": false,
     "start_time": "2022-06-12T05:48:01.693774",
     "status": "completed"
    },
    "tags": []
   },
   "source": [
    "# ABC Pre-generator Model \n",
    "\n",
    "1. The catboost model is used as a pre-generator model for the ABC-GAN. \n",
    "2. The model is first trained on the entire dataset \n",
    "3. It generats X,Y pairs and we add some Gaussian noise with mean 0 and variance 1 to it which is then feed as input to the generator.\n"
   ]
  },
  {
   "cell_type": "code",
   "execution_count": 9,
   "id": "ff8ce7bd",
   "metadata": {
    "execution": {
     "iopub.execute_input": "2022-06-12T05:48:01.719986Z",
     "iopub.status.busy": "2022-06-12T05:48:01.719609Z",
     "iopub.status.idle": "2022-06-12T05:48:02.891479Z",
     "shell.execute_reply": "2022-06-12T05:48:02.891773Z"
    },
    "id": "ff8ce7bd",
    "papermill": {
     "duration": 1.183895,
     "end_time": "2022-06-12T05:48:02.891916",
     "exception": false,
     "start_time": "2022-06-12T05:48:01.708021",
     "status": "completed"
    },
    "tags": []
   },
   "outputs": [
    {
     "name": "stdout",
     "output_type": "stream",
     "text": [
      "Learning rate set to 0.033215\n",
      "0:\tlearn: 0.9526313\ttotal: 59ms\tremaining: 58.9s\n",
      "1:\tlearn: 0.9337172\ttotal: 60.2ms\tremaining: 30s\n",
      "2:\tlearn: 0.9138455\ttotal: 61.5ms\tremaining: 20.4s\n",
      "3:\tlearn: 0.8987958\ttotal: 62.6ms\tremaining: 15.6s\n",
      "4:\tlearn: 0.8813934\ttotal: 64.1ms\tremaining: 12.8s\n",
      "5:\tlearn: 0.8651930\ttotal: 65.6ms\tremaining: 10.9s\n",
      "6:\tlearn: 0.8493811\ttotal: 67.1ms\tremaining: 9.51s\n",
      "7:\tlearn: 0.8339683\ttotal: 68.3ms\tremaining: 8.46s\n",
      "8:\tlearn: 0.8186697\ttotal: 69.5ms\tremaining: 7.65s\n",
      "9:\tlearn: 0.8028712\ttotal: 70.7ms\tremaining: 7s\n",
      "10:\tlearn: 0.7883851\ttotal: 72ms\tremaining: 6.47s\n",
      "11:\tlearn: 0.7732157\ttotal: 73.2ms\tremaining: 6.03s\n",
      "12:\tlearn: 0.7593217\ttotal: 74.4ms\tremaining: 5.65s\n",
      "13:\tlearn: 0.7467142\ttotal: 75.5ms\tremaining: 5.32s\n",
      "14:\tlearn: 0.7329722\ttotal: 76.7ms\tremaining: 5.03s\n",
      "15:\tlearn: 0.7200674\ttotal: 77.6ms\tremaining: 4.77s\n",
      "16:\tlearn: 0.7076082\ttotal: 78.7ms\tremaining: 4.55s\n",
      "17:\tlearn: 0.6967038\ttotal: 79.6ms\tremaining: 4.34s\n",
      "18:\tlearn: 0.6846367\ttotal: 80.6ms\tremaining: 4.16s\n",
      "19:\tlearn: 0.6734046\ttotal: 81.6ms\tremaining: 4s\n",
      "20:\tlearn: 0.6607796\ttotal: 82.8ms\tremaining: 3.86s\n",
      "21:\tlearn: 0.6513193\ttotal: 83.9ms\tremaining: 3.73s\n",
      "22:\tlearn: 0.6423315\ttotal: 84.9ms\tremaining: 3.6s\n",
      "23:\tlearn: 0.6329532\ttotal: 86ms\tremaining: 3.5s\n",
      "24:\tlearn: 0.6230233\ttotal: 87ms\tremaining: 3.39s\n",
      "25:\tlearn: 0.6145912\ttotal: 88.7ms\tremaining: 3.32s\n",
      "26:\tlearn: 0.6068097\ttotal: 89.9ms\tremaining: 3.24s\n",
      "27:\tlearn: 0.5988047\ttotal: 91ms\tremaining: 3.16s\n",
      "28:\tlearn: 0.5898889\ttotal: 91.8ms\tremaining: 3.07s\n",
      "29:\tlearn: 0.5803154\ttotal: 92.6ms\tremaining: 2.99s\n",
      "30:\tlearn: 0.5701967\ttotal: 93.3ms\tremaining: 2.92s\n",
      "31:\tlearn: 0.5628001\ttotal: 94.1ms\tremaining: 2.85s\n",
      "32:\tlearn: 0.5564689\ttotal: 95.2ms\tremaining: 2.79s\n",
      "33:\tlearn: 0.5491354\ttotal: 96.5ms\tremaining: 2.74s\n",
      "34:\tlearn: 0.5409396\ttotal: 97.1ms\tremaining: 2.68s\n",
      "35:\tlearn: 0.5349136\ttotal: 97.9ms\tremaining: 2.62s\n",
      "36:\tlearn: 0.5284150\ttotal: 98.6ms\tremaining: 2.56s\n",
      "37:\tlearn: 0.5215427\ttotal: 100ms\tremaining: 2.53s\n"
     ]
    },
    {
     "name": "stdout",
     "output_type": "stream",
     "text": [
      "38:\tlearn: 0.5146284\ttotal: 101ms\tremaining: 2.49s\n",
      "39:\tlearn: 0.5068071\ttotal: 102ms\tremaining: 2.45s\n",
      "40:\tlearn: 0.5008803\ttotal: 103ms\tremaining: 2.41s\n",
      "41:\tlearn: 0.4951413\ttotal: 104ms\tremaining: 2.37s\n",
      "42:\tlearn: 0.4890240\ttotal: 105ms\tremaining: 2.34s\n",
      "43:\tlearn: 0.4841829\ttotal: 106ms\tremaining: 2.3s\n",
      "44:\tlearn: 0.4787656\ttotal: 107ms\tremaining: 2.27s\n",
      "45:\tlearn: 0.4728343\ttotal: 108ms\tremaining: 2.24s\n",
      "46:\tlearn: 0.4686900\ttotal: 109ms\tremaining: 2.21s\n",
      "47:\tlearn: 0.4643345\ttotal: 110ms\tremaining: 2.17s\n",
      "48:\tlearn: 0.4600170\ttotal: 111ms\tremaining: 2.15s\n",
      "49:\tlearn: 0.4538054\ttotal: 112ms\tremaining: 2.13s\n",
      "50:\tlearn: 0.4496963\ttotal: 113ms\tremaining: 2.11s\n",
      "51:\tlearn: 0.4441525\ttotal: 114ms\tremaining: 2.08s\n",
      "52:\tlearn: 0.4401884\ttotal: 115ms\tremaining: 2.06s\n",
      "53:\tlearn: 0.4367614\ttotal: 116ms\tremaining: 2.04s\n",
      "54:\tlearn: 0.4316256\ttotal: 117ms\tremaining: 2.01s\n",
      "55:\tlearn: 0.4282698\ttotal: 118ms\tremaining: 1.99s\n",
      "56:\tlearn: 0.4241701\ttotal: 119ms\tremaining: 1.97s\n",
      "57:\tlearn: 0.4197776\ttotal: 120ms\tremaining: 1.95s\n",
      "58:\tlearn: 0.4165435\ttotal: 121ms\tremaining: 1.93s\n",
      "59:\tlearn: 0.4136448\ttotal: 122ms\tremaining: 1.91s\n",
      "60:\tlearn: 0.4096924\ttotal: 123ms\tremaining: 1.89s\n",
      "61:\tlearn: 0.4053635\ttotal: 124ms\tremaining: 1.87s\n",
      "62:\tlearn: 0.4014284\ttotal: 125ms\tremaining: 1.85s\n",
      "63:\tlearn: 0.3976867\ttotal: 126ms\tremaining: 1.84s\n",
      "64:\tlearn: 0.3940793\ttotal: 127ms\tremaining: 1.83s\n",
      "65:\tlearn: 0.3910329\ttotal: 128ms\tremaining: 1.82s\n",
      "66:\tlearn: 0.3880556\ttotal: 130ms\tremaining: 1.8s\n",
      "67:\tlearn: 0.3849645\ttotal: 131ms\tremaining: 1.79s\n",
      "68:\tlearn: 0.3824463\ttotal: 132ms\tremaining: 1.78s\n",
      "69:\tlearn: 0.3799100\ttotal: 133ms\tremaining: 1.76s\n",
      "70:\tlearn: 0.3769233\ttotal: 134ms\tremaining: 1.75s\n",
      "71:\tlearn: 0.3732847\ttotal: 135ms\tremaining: 1.74s\n",
      "72:\tlearn: 0.3705067\ttotal: 136ms\tremaining: 1.72s\n",
      "73:\tlearn: 0.3678372\ttotal: 137ms\tremaining: 1.71s\n",
      "74:\tlearn: 0.3651623\ttotal: 138ms\tremaining: 1.7s\n",
      "75:\tlearn: 0.3630407\ttotal: 139ms\tremaining: 1.69s\n",
      "76:\tlearn: 0.3599073\ttotal: 140ms\tremaining: 1.67s\n",
      "77:\tlearn: 0.3577069\ttotal: 141ms\tremaining: 1.66s\n",
      "78:\tlearn: 0.3556239\ttotal: 142ms\tremaining: 1.65s\n",
      "79:\tlearn: 0.3536932\ttotal: 143ms\tremaining: 1.64s\n",
      "80:\tlearn: 0.3512341\ttotal: 144ms\tremaining: 1.63s\n",
      "81:\tlearn: 0.3486399\ttotal: 145ms\tremaining: 1.62s\n",
      "82:\tlearn: 0.3462708\ttotal: 146ms\tremaining: 1.61s\n",
      "83:\tlearn: 0.3440781\ttotal: 147ms\tremaining: 1.6s\n",
      "84:\tlearn: 0.3416718\ttotal: 148ms\tremaining: 1.59s\n",
      "85:\tlearn: 0.3388120\ttotal: 149ms\tremaining: 1.58s\n",
      "86:\tlearn: 0.3364071\ttotal: 150ms\tremaining: 1.57s\n",
      "87:\tlearn: 0.3341765\ttotal: 151ms\tremaining: 1.56s\n",
      "88:\tlearn: 0.3320511\ttotal: 152ms\tremaining: 1.55s\n",
      "89:\tlearn: 0.3295087\ttotal: 153ms\tremaining: 1.54s\n",
      "90:\tlearn: 0.3273594\ttotal: 154ms\tremaining: 1.53s\n",
      "91:\tlearn: 0.3257207\ttotal: 155ms\tremaining: 1.52s\n",
      "92:\tlearn: 0.3238311\ttotal: 156ms\tremaining: 1.52s\n",
      "93:\tlearn: 0.3217444\ttotal: 157ms\tremaining: 1.52s\n",
      "94:\tlearn: 0.3200850\ttotal: 159ms\tremaining: 1.51s\n",
      "95:\tlearn: 0.3187039\ttotal: 160ms\tremaining: 1.51s\n",
      "96:\tlearn: 0.3164326\ttotal: 161ms\tremaining: 1.5s\n",
      "97:\tlearn: 0.3150588\ttotal: 163ms\tremaining: 1.5s\n",
      "98:\tlearn: 0.3136572\ttotal: 164ms\tremaining: 1.5s\n",
      "99:\tlearn: 0.3123986\ttotal: 165ms\tremaining: 1.49s\n",
      "100:\tlearn: 0.3106963\ttotal: 167ms\tremaining: 1.48s\n",
      "101:\tlearn: 0.3089549\ttotal: 167ms\tremaining: 1.47s\n",
      "102:\tlearn: 0.3077086\ttotal: 169ms\tremaining: 1.47s\n",
      "103:\tlearn: 0.3062467\ttotal: 170ms\tremaining: 1.46s\n",
      "104:\tlearn: 0.3046408\ttotal: 171ms\tremaining: 1.46s\n",
      "105:\tlearn: 0.3027696\ttotal: 172ms\tremaining: 1.45s\n",
      "106:\tlearn: 0.3013441\ttotal: 173ms\tremaining: 1.45s\n",
      "107:\tlearn: 0.2990688\ttotal: 174ms\tremaining: 1.44s\n",
      "108:\tlearn: 0.2975163\ttotal: 176ms\tremaining: 1.44s\n",
      "109:\tlearn: 0.2961628\ttotal: 177ms\tremaining: 1.43s\n",
      "110:\tlearn: 0.2943770\ttotal: 178ms\tremaining: 1.43s\n",
      "111:\tlearn: 0.2934330\ttotal: 180ms\tremaining: 1.43s\n",
      "112:\tlearn: 0.2917556\ttotal: 181ms\tremaining: 1.42s\n",
      "113:\tlearn: 0.2906139\ttotal: 183ms\tremaining: 1.42s\n",
      "114:\tlearn: 0.2896582\ttotal: 184ms\tremaining: 1.42s\n",
      "115:\tlearn: 0.2883486\ttotal: 185ms\tremaining: 1.41s\n",
      "116:\tlearn: 0.2877201\ttotal: 186ms\tremaining: 1.41s\n",
      "117:\tlearn: 0.2863960\ttotal: 187ms\tremaining: 1.4s\n",
      "118:\tlearn: 0.2854395\ttotal: 188ms\tremaining: 1.39s\n",
      "119:\tlearn: 0.2846950\ttotal: 189ms\tremaining: 1.39s\n"
     ]
    },
    {
     "name": "stdout",
     "output_type": "stream",
     "text": [
      "120:\tlearn: 0.2833249\ttotal: 191ms\tremaining: 1.38s\n",
      "121:\tlearn: 0.2824325\ttotal: 192ms\tremaining: 1.38s\n",
      "122:\tlearn: 0.2811939\ttotal: 193ms\tremaining: 1.38s\n",
      "123:\tlearn: 0.2802850\ttotal: 195ms\tremaining: 1.38s\n",
      "124:\tlearn: 0.2790962\ttotal: 196ms\tremaining: 1.37s\n",
      "125:\tlearn: 0.2779053\ttotal: 197ms\tremaining: 1.37s\n",
      "126:\tlearn: 0.2765137\ttotal: 198ms\tremaining: 1.36s\n",
      "127:\tlearn: 0.2759472\ttotal: 199ms\tremaining: 1.36s\n",
      "128:\tlearn: 0.2744047\ttotal: 200ms\tremaining: 1.35s\n",
      "129:\tlearn: 0.2736513\ttotal: 201ms\tremaining: 1.35s\n",
      "130:\tlearn: 0.2724739\ttotal: 203ms\tremaining: 1.34s\n",
      "131:\tlearn: 0.2715220\ttotal: 204ms\tremaining: 1.34s\n",
      "132:\tlearn: 0.2706963\ttotal: 205ms\tremaining: 1.34s\n",
      "133:\tlearn: 0.2692509\ttotal: 206ms\tremaining: 1.33s\n",
      "134:\tlearn: 0.2682542\ttotal: 208ms\tremaining: 1.33s\n",
      "135:\tlearn: 0.2671273\ttotal: 209ms\tremaining: 1.33s\n",
      "136:\tlearn: 0.2665303\ttotal: 211ms\tremaining: 1.33s\n",
      "137:\tlearn: 0.2653699\ttotal: 213ms\tremaining: 1.33s\n",
      "138:\tlearn: 0.2639661\ttotal: 214ms\tremaining: 1.32s\n",
      "139:\tlearn: 0.2631217\ttotal: 215ms\tremaining: 1.32s\n",
      "140:\tlearn: 0.2621388\ttotal: 216ms\tremaining: 1.31s\n",
      "141:\tlearn: 0.2608392\ttotal: 217ms\tremaining: 1.31s\n",
      "142:\tlearn: 0.2598699\ttotal: 218ms\tremaining: 1.3s\n",
      "143:\tlearn: 0.2589402\ttotal: 219ms\tremaining: 1.3s\n",
      "144:\tlearn: 0.2584633\ttotal: 220ms\tremaining: 1.3s\n",
      "145:\tlearn: 0.2576839\ttotal: 221ms\tremaining: 1.29s\n",
      "146:\tlearn: 0.2565611\ttotal: 222ms\tremaining: 1.29s\n",
      "147:\tlearn: 0.2558866\ttotal: 223ms\tremaining: 1.28s\n",
      "148:\tlearn: 0.2548499\ttotal: 224ms\tremaining: 1.28s\n",
      "149:\tlearn: 0.2541653\ttotal: 225ms\tremaining: 1.28s\n",
      "150:\tlearn: 0.2534739\ttotal: 227ms\tremaining: 1.27s\n",
      "151:\tlearn: 0.2529081\ttotal: 228ms\tremaining: 1.27s\n",
      "152:\tlearn: 0.2524794\ttotal: 229ms\tremaining: 1.27s\n",
      "153:\tlearn: 0.2517250\ttotal: 230ms\tremaining: 1.26s\n",
      "154:\tlearn: 0.2506704\ttotal: 231ms\tremaining: 1.26s\n",
      "155:\tlearn: 0.2499239\ttotal: 232ms\tremaining: 1.25s\n",
      "156:\tlearn: 0.2491177\ttotal: 233ms\tremaining: 1.25s\n",
      "157:\tlearn: 0.2486215\ttotal: 234ms\tremaining: 1.25s\n",
      "158:\tlearn: 0.2478787\ttotal: 235ms\tremaining: 1.24s\n",
      "159:\tlearn: 0.2470558\ttotal: 236ms\tremaining: 1.24s\n",
      "160:\tlearn: 0.2460935\ttotal: 237ms\tremaining: 1.23s\n",
      "161:\tlearn: 0.2453208\ttotal: 238ms\tremaining: 1.23s\n",
      "162:\tlearn: 0.2447726\ttotal: 239ms\tremaining: 1.23s\n",
      "163:\tlearn: 0.2445761\ttotal: 240ms\tremaining: 1.22s\n",
      "164:\tlearn: 0.2438181\ttotal: 242ms\tremaining: 1.22s\n",
      "165:\tlearn: 0.2432424\ttotal: 243ms\tremaining: 1.22s\n",
      "166:\tlearn: 0.2422737\ttotal: 244ms\tremaining: 1.22s\n",
      "167:\tlearn: 0.2418564\ttotal: 245ms\tremaining: 1.21s\n",
      "168:\tlearn: 0.2409816\ttotal: 246ms\tremaining: 1.21s\n",
      "169:\tlearn: 0.2401865\ttotal: 247ms\tremaining: 1.21s\n",
      "170:\tlearn: 0.2392689\ttotal: 248ms\tremaining: 1.2s\n",
      "171:\tlearn: 0.2386326\ttotal: 249ms\tremaining: 1.2s\n",
      "172:\tlearn: 0.2376342\ttotal: 250ms\tremaining: 1.19s\n",
      "173:\tlearn: 0.2372239\ttotal: 251ms\tremaining: 1.19s\n",
      "174:\tlearn: 0.2367571\ttotal: 252ms\tremaining: 1.19s\n",
      "175:\tlearn: 0.2362487\ttotal: 253ms\tremaining: 1.18s\n",
      "176:\tlearn: 0.2353333\ttotal: 254ms\tremaining: 1.18s\n",
      "177:\tlearn: 0.2348096\ttotal: 255ms\tremaining: 1.18s\n",
      "178:\tlearn: 0.2342637\ttotal: 256ms\tremaining: 1.18s\n",
      "179:\tlearn: 0.2334562\ttotal: 257ms\tremaining: 1.17s\n",
      "180:\tlearn: 0.2325276\ttotal: 258ms\tremaining: 1.17s\n",
      "181:\tlearn: 0.2322223\ttotal: 259ms\tremaining: 1.17s\n",
      "182:\tlearn: 0.2314201\ttotal: 260ms\tremaining: 1.16s\n",
      "183:\tlearn: 0.2307139\ttotal: 261ms\tremaining: 1.16s\n",
      "184:\tlearn: 0.2298060\ttotal: 262ms\tremaining: 1.16s\n",
      "185:\tlearn: 0.2293926\ttotal: 263ms\tremaining: 1.15s\n",
      "186:\tlearn: 0.2289695\ttotal: 264ms\tremaining: 1.15s\n",
      "187:\tlearn: 0.2285509\ttotal: 265ms\tremaining: 1.15s\n",
      "188:\tlearn: 0.2277799\ttotal: 266ms\tremaining: 1.14s\n",
      "189:\tlearn: 0.2270488\ttotal: 267ms\tremaining: 1.14s\n",
      "190:\tlearn: 0.2266284\ttotal: 269ms\tremaining: 1.14s\n",
      "191:\tlearn: 0.2255610\ttotal: 270ms\tremaining: 1.14s\n",
      "192:\tlearn: 0.2253316\ttotal: 271ms\tremaining: 1.13s\n",
      "193:\tlearn: 0.2251005\ttotal: 272ms\tremaining: 1.13s\n",
      "194:\tlearn: 0.2248225\ttotal: 273ms\tremaining: 1.13s\n",
      "195:\tlearn: 0.2242155\ttotal: 275ms\tremaining: 1.13s\n",
      "196:\tlearn: 0.2236441\ttotal: 275ms\tremaining: 1.12s\n",
      "197:\tlearn: 0.2227990\ttotal: 276ms\tremaining: 1.12s\n",
      "198:\tlearn: 0.2223239\ttotal: 277ms\tremaining: 1.12s\n",
      "199:\tlearn: 0.2215920\ttotal: 278ms\tremaining: 1.11s\n",
      "200:\tlearn: 0.2208372\ttotal: 279ms\tremaining: 1.11s\n",
      "201:\tlearn: 0.2202593\ttotal: 280ms\tremaining: 1.1s\n",
      "202:\tlearn: 0.2195690\ttotal: 281ms\tremaining: 1.1s\n",
      "203:\tlearn: 0.2188364\ttotal: 282ms\tremaining: 1.1s\n",
      "204:\tlearn: 0.2182970\ttotal: 283ms\tremaining: 1.1s\n",
      "205:\tlearn: 0.2177171\ttotal: 284ms\tremaining: 1.09s\n",
      "206:\tlearn: 0.2172207\ttotal: 285ms\tremaining: 1.09s\n",
      "207:\tlearn: 0.2166196\ttotal: 287ms\tremaining: 1.09s\n",
      "208:\tlearn: 0.2158897\ttotal: 288ms\tremaining: 1.09s\n"
     ]
    },
    {
     "name": "stdout",
     "output_type": "stream",
     "text": [
      "209:\tlearn: 0.2153632\ttotal: 289ms\tremaining: 1.09s\n",
      "210:\tlearn: 0.2148429\ttotal: 290ms\tremaining: 1.08s\n",
      "211:\tlearn: 0.2141031\ttotal: 291ms\tremaining: 1.08s\n",
      "212:\tlearn: 0.2139834\ttotal: 292ms\tremaining: 1.08s\n",
      "213:\tlearn: 0.2134245\ttotal: 293ms\tremaining: 1.08s\n",
      "214:\tlearn: 0.2129957\ttotal: 294ms\tremaining: 1.07s\n",
      "215:\tlearn: 0.2126417\ttotal: 295ms\tremaining: 1.07s\n",
      "216:\tlearn: 0.2120378\ttotal: 296ms\tremaining: 1.07s\n",
      "217:\tlearn: 0.2115567\ttotal: 297ms\tremaining: 1.06s\n",
      "218:\tlearn: 0.2110864\ttotal: 298ms\tremaining: 1.06s\n",
      "219:\tlearn: 0.2107355\ttotal: 300ms\tremaining: 1.06s\n",
      "220:\tlearn: 0.2099607\ttotal: 301ms\tremaining: 1.06s\n",
      "221:\tlearn: 0.2094613\ttotal: 302ms\tremaining: 1.06s\n",
      "222:\tlearn: 0.2089868\ttotal: 303ms\tremaining: 1.05s\n",
      "223:\tlearn: 0.2084122\ttotal: 304ms\tremaining: 1.05s\n",
      "224:\tlearn: 0.2077836\ttotal: 305ms\tremaining: 1.05s\n",
      "225:\tlearn: 0.2072775\ttotal: 306ms\tremaining: 1.05s\n",
      "226:\tlearn: 0.2067726\ttotal: 307ms\tremaining: 1.05s\n",
      "227:\tlearn: 0.2065241\ttotal: 308ms\tremaining: 1.04s\n",
      "228:\tlearn: 0.2059381\ttotal: 309ms\tremaining: 1.04s\n",
      "229:\tlearn: 0.2054937\ttotal: 310ms\tremaining: 1.04s\n",
      "230:\tlearn: 0.2048571\ttotal: 311ms\tremaining: 1.03s\n",
      "231:\tlearn: 0.2046365\ttotal: 312ms\tremaining: 1.03s\n",
      "232:\tlearn: 0.2041830\ttotal: 313ms\tremaining: 1.03s\n",
      "233:\tlearn: 0.2039204\ttotal: 314ms\tremaining: 1.03s\n",
      "234:\tlearn: 0.2035199\ttotal: 315ms\tremaining: 1.03s\n",
      "235:\tlearn: 0.2029017\ttotal: 316ms\tremaining: 1.02s\n",
      "236:\tlearn: 0.2025083\ttotal: 317ms\tremaining: 1.02s\n",
      "237:\tlearn: 0.2019626\ttotal: 319ms\tremaining: 1.02s\n",
      "238:\tlearn: 0.2017367\ttotal: 320ms\tremaining: 1.02s\n",
      "239:\tlearn: 0.2013291\ttotal: 321ms\tremaining: 1.01s\n",
      "240:\tlearn: 0.2009597\ttotal: 322ms\tremaining: 1.01s\n",
      "241:\tlearn: 0.2004324\ttotal: 322ms\tremaining: 1.01s\n",
      "242:\tlearn: 0.2000138\ttotal: 323ms\tremaining: 1.01s\n",
      "243:\tlearn: 0.1992851\ttotal: 324ms\tremaining: 1s\n",
      "244:\tlearn: 0.1987096\ttotal: 325ms\tremaining: 1s\n",
      "245:\tlearn: 0.1982244\ttotal: 326ms\tremaining: 999ms\n",
      "246:\tlearn: 0.1976654\ttotal: 327ms\tremaining: 997ms\n",
      "247:\tlearn: 0.1974176\ttotal: 328ms\tremaining: 994ms\n",
      "248:\tlearn: 0.1967367\ttotal: 329ms\tremaining: 992ms\n",
      "249:\tlearn: 0.1962018\ttotal: 330ms\tremaining: 989ms\n",
      "250:\tlearn: 0.1958353\ttotal: 331ms\tremaining: 987ms\n",
      "251:\tlearn: 0.1953853\ttotal: 332ms\tremaining: 986ms\n",
      "252:\tlearn: 0.1948764\ttotal: 333ms\tremaining: 984ms\n",
      "253:\tlearn: 0.1946187\ttotal: 334ms\tremaining: 982ms\n",
      "254:\tlearn: 0.1944992\ttotal: 336ms\tremaining: 980ms\n",
      "255:\tlearn: 0.1938850\ttotal: 336ms\tremaining: 978ms\n",
      "256:\tlearn: 0.1931971\ttotal: 337ms\tremaining: 976ms\n",
      "257:\tlearn: 0.1929807\ttotal: 338ms\tremaining: 973ms\n",
      "258:\tlearn: 0.1924496\ttotal: 339ms\tremaining: 970ms\n",
      "259:\tlearn: 0.1918533\ttotal: 340ms\tremaining: 968ms\n",
      "260:\tlearn: 0.1914319\ttotal: 341ms\tremaining: 966ms\n",
      "261:\tlearn: 0.1910607\ttotal: 342ms\tremaining: 964ms\n",
      "262:\tlearn: 0.1905458\ttotal: 343ms\tremaining: 961ms\n",
      "263:\tlearn: 0.1901357\ttotal: 344ms\tremaining: 959ms\n",
      "264:\tlearn: 0.1896340\ttotal: 345ms\tremaining: 957ms\n",
      "265:\tlearn: 0.1890969\ttotal: 347ms\tremaining: 957ms\n",
      "266:\tlearn: 0.1885728\ttotal: 348ms\tremaining: 955ms\n",
      "267:\tlearn: 0.1881773\ttotal: 349ms\tremaining: 953ms\n",
      "268:\tlearn: 0.1876640\ttotal: 350ms\tremaining: 951ms\n",
      "269:\tlearn: 0.1871009\ttotal: 351ms\tremaining: 949ms\n",
      "270:\tlearn: 0.1864152\ttotal: 352ms\tremaining: 946ms\n",
      "271:\tlearn: 0.1858624\ttotal: 353ms\tremaining: 944ms\n",
      "272:\tlearn: 0.1856674\ttotal: 353ms\tremaining: 941ms\n",
      "273:\tlearn: 0.1850806\ttotal: 354ms\tremaining: 939ms\n",
      "274:\tlearn: 0.1849280\ttotal: 355ms\tremaining: 937ms\n",
      "275:\tlearn: 0.1843326\ttotal: 356ms\tremaining: 935ms\n",
      "276:\tlearn: 0.1839165\ttotal: 357ms\tremaining: 932ms\n",
      "277:\tlearn: 0.1835101\ttotal: 358ms\tremaining: 930ms\n",
      "278:\tlearn: 0.1830206\ttotal: 359ms\tremaining: 928ms\n",
      "279:\tlearn: 0.1828293\ttotal: 360ms\tremaining: 926ms\n",
      "280:\tlearn: 0.1822607\ttotal: 361ms\tremaining: 923ms\n",
      "281:\tlearn: 0.1818629\ttotal: 362ms\tremaining: 921ms\n",
      "282:\tlearn: 0.1816982\ttotal: 363ms\tremaining: 919ms\n",
      "283:\tlearn: 0.1812390\ttotal: 364ms\tremaining: 917ms\n",
      "284:\tlearn: 0.1810967\ttotal: 365ms\tremaining: 915ms\n",
      "285:\tlearn: 0.1806199\ttotal: 366ms\tremaining: 913ms\n",
      "286:\tlearn: 0.1802193\ttotal: 366ms\tremaining: 910ms\n",
      "287:\tlearn: 0.1797320\ttotal: 367ms\tremaining: 908ms\n",
      "288:\tlearn: 0.1795864\ttotal: 368ms\tremaining: 906ms\n",
      "289:\tlearn: 0.1791141\ttotal: 369ms\tremaining: 904ms\n",
      "290:\tlearn: 0.1786608\ttotal: 370ms\tremaining: 902ms\n",
      "291:\tlearn: 0.1782999\ttotal: 371ms\tremaining: 900ms\n",
      "292:\tlearn: 0.1776769\ttotal: 372ms\tremaining: 898ms\n",
      "293:\tlearn: 0.1774522\ttotal: 373ms\tremaining: 896ms\n",
      "294:\tlearn: 0.1769713\ttotal: 374ms\tremaining: 894ms\n",
      "295:\tlearn: 0.1764511\ttotal: 375ms\tremaining: 892ms\n",
      "296:\tlearn: 0.1759540\ttotal: 376ms\tremaining: 890ms\n",
      "297:\tlearn: 0.1756947\ttotal: 377ms\tremaining: 888ms\n",
      "298:\tlearn: 0.1754334\ttotal: 378ms\tremaining: 886ms\n"
     ]
    },
    {
     "name": "stdout",
     "output_type": "stream",
     "text": [
      "299:\tlearn: 0.1750275\ttotal: 379ms\tremaining: 884ms\n",
      "300:\tlearn: 0.1746121\ttotal: 380ms\tremaining: 883ms\n",
      "301:\tlearn: 0.1743042\ttotal: 381ms\tremaining: 881ms\n",
      "302:\tlearn: 0.1738387\ttotal: 382ms\tremaining: 878ms\n",
      "303:\tlearn: 0.1733568\ttotal: 383ms\tremaining: 876ms\n",
      "304:\tlearn: 0.1731907\ttotal: 384ms\tremaining: 874ms\n",
      "305:\tlearn: 0.1728582\ttotal: 384ms\tremaining: 872ms\n",
      "306:\tlearn: 0.1724402\ttotal: 385ms\tremaining: 870ms\n",
      "307:\tlearn: 0.1720352\ttotal: 386ms\tremaining: 868ms\n",
      "308:\tlearn: 0.1718860\ttotal: 387ms\tremaining: 866ms\n",
      "309:\tlearn: 0.1714428\ttotal: 388ms\tremaining: 864ms\n",
      "310:\tlearn: 0.1711439\ttotal: 389ms\tremaining: 862ms\n",
      "311:\tlearn: 0.1710777\ttotal: 390ms\tremaining: 859ms\n",
      "312:\tlearn: 0.1706373\ttotal: 391ms\tremaining: 857ms\n",
      "313:\tlearn: 0.1702279\ttotal: 392ms\tremaining: 855ms\n",
      "314:\tlearn: 0.1699115\ttotal: 392ms\tremaining: 853ms\n",
      "315:\tlearn: 0.1697881\ttotal: 393ms\tremaining: 851ms\n",
      "316:\tlearn: 0.1696470\ttotal: 394ms\tremaining: 849ms\n",
      "317:\tlearn: 0.1692550\ttotal: 395ms\tremaining: 847ms\n",
      "318:\tlearn: 0.1687342\ttotal: 396ms\tremaining: 845ms\n",
      "319:\tlearn: 0.1683273\ttotal: 397ms\tremaining: 843ms\n",
      "320:\tlearn: 0.1679403\ttotal: 398ms\tremaining: 841ms\n",
      "321:\tlearn: 0.1677062\ttotal: 399ms\tremaining: 840ms\n",
      "322:\tlearn: 0.1673032\ttotal: 400ms\tremaining: 838ms\n",
      "323:\tlearn: 0.1667731\ttotal: 401ms\tremaining: 836ms\n",
      "324:\tlearn: 0.1663833\ttotal: 402ms\tremaining: 834ms\n",
      "325:\tlearn: 0.1658844\ttotal: 402ms\tremaining: 832ms\n",
      "326:\tlearn: 0.1657391\ttotal: 403ms\tremaining: 830ms\n",
      "327:\tlearn: 0.1655191\ttotal: 404ms\tremaining: 828ms\n",
      "328:\tlearn: 0.1653791\ttotal: 405ms\tremaining: 826ms\n",
      "329:\tlearn: 0.1649979\ttotal: 406ms\tremaining: 824ms\n",
      "330:\tlearn: 0.1646754\ttotal: 407ms\tremaining: 822ms\n",
      "331:\tlearn: 0.1645722\ttotal: 408ms\tremaining: 820ms\n",
      "332:\tlearn: 0.1642927\ttotal: 408ms\tremaining: 818ms\n",
      "333:\tlearn: 0.1638358\ttotal: 409ms\tremaining: 816ms\n",
      "334:\tlearn: 0.1633253\ttotal: 410ms\tremaining: 815ms\n",
      "335:\tlearn: 0.1628611\ttotal: 411ms\tremaining: 813ms\n",
      "336:\tlearn: 0.1623425\ttotal: 412ms\tremaining: 811ms\n",
      "337:\tlearn: 0.1621851\ttotal: 413ms\tremaining: 809ms\n",
      "338:\tlearn: 0.1617308\ttotal: 414ms\tremaining: 808ms\n",
      "339:\tlearn: 0.1616326\ttotal: 415ms\tremaining: 806ms\n",
      "340:\tlearn: 0.1613832\ttotal: 416ms\tremaining: 804ms\n",
      "341:\tlearn: 0.1610197\ttotal: 417ms\tremaining: 802ms\n",
      "342:\tlearn: 0.1606185\ttotal: 418ms\tremaining: 800ms\n",
      "343:\tlearn: 0.1601279\ttotal: 419ms\tremaining: 798ms\n",
      "344:\tlearn: 0.1598928\ttotal: 420ms\tremaining: 797ms\n",
      "345:\tlearn: 0.1596553\ttotal: 421ms\tremaining: 795ms\n",
      "346:\tlearn: 0.1594353\ttotal: 422ms\tremaining: 793ms\n",
      "347:\tlearn: 0.1591693\ttotal: 422ms\tremaining: 791ms\n",
      "348:\tlearn: 0.1589628\ttotal: 423ms\tremaining: 790ms\n",
      "349:\tlearn: 0.1585781\ttotal: 424ms\tremaining: 788ms\n",
      "350:\tlearn: 0.1581565\ttotal: 425ms\tremaining: 786ms\n",
      "351:\tlearn: 0.1578450\ttotal: 426ms\tremaining: 784ms\n",
      "352:\tlearn: 0.1575910\ttotal: 427ms\tremaining: 783ms\n",
      "353:\tlearn: 0.1573209\ttotal: 428ms\tremaining: 781ms\n",
      "354:\tlearn: 0.1570657\ttotal: 429ms\tremaining: 779ms\n",
      "355:\tlearn: 0.1568450\ttotal: 430ms\tremaining: 777ms\n",
      "356:\tlearn: 0.1564305\ttotal: 431ms\tremaining: 776ms\n",
      "357:\tlearn: 0.1560423\ttotal: 431ms\tremaining: 774ms\n",
      "358:\tlearn: 0.1558652\ttotal: 433ms\tremaining: 772ms\n",
      "359:\tlearn: 0.1553391\ttotal: 433ms\tremaining: 771ms\n",
      "360:\tlearn: 0.1550815\ttotal: 435ms\tremaining: 769ms\n",
      "361:\tlearn: 0.1547914\ttotal: 435ms\tremaining: 767ms\n",
      "362:\tlearn: 0.1544005\ttotal: 436ms\tremaining: 766ms\n",
      "363:\tlearn: 0.1540768\ttotal: 437ms\tremaining: 764ms\n",
      "364:\tlearn: 0.1537600\ttotal: 438ms\tremaining: 762ms\n",
      "365:\tlearn: 0.1534462\ttotal: 439ms\tremaining: 760ms\n",
      "366:\tlearn: 0.1530782\ttotal: 440ms\tremaining: 759ms\n",
      "367:\tlearn: 0.1529667\ttotal: 441ms\tremaining: 757ms\n",
      "368:\tlearn: 0.1528714\ttotal: 442ms\tremaining: 755ms\n",
      "369:\tlearn: 0.1527631\ttotal: 443ms\tremaining: 754ms\n",
      "370:\tlearn: 0.1524625\ttotal: 443ms\tremaining: 752ms\n",
      "371:\tlearn: 0.1520751\ttotal: 444ms\tremaining: 750ms\n",
      "372:\tlearn: 0.1517960\ttotal: 445ms\tremaining: 749ms\n",
      "373:\tlearn: 0.1514913\ttotal: 446ms\tremaining: 747ms\n",
      "374:\tlearn: 0.1513928\ttotal: 447ms\tremaining: 745ms\n",
      "375:\tlearn: 0.1510364\ttotal: 448ms\tremaining: 744ms\n",
      "376:\tlearn: 0.1509040\ttotal: 449ms\tremaining: 742ms\n",
      "377:\tlearn: 0.1508640\ttotal: 450ms\tremaining: 741ms\n",
      "378:\tlearn: 0.1508273\ttotal: 451ms\tremaining: 739ms\n",
      "379:\tlearn: 0.1504860\ttotal: 452ms\tremaining: 737ms\n",
      "380:\tlearn: 0.1500276\ttotal: 453ms\tremaining: 736ms\n",
      "381:\tlearn: 0.1496035\ttotal: 454ms\tremaining: 734ms\n",
      "382:\tlearn: 0.1492786\ttotal: 454ms\tremaining: 732ms\n",
      "383:\tlearn: 0.1492397\ttotal: 455ms\tremaining: 730ms\n",
      "384:\tlearn: 0.1488792\ttotal: 456ms\tremaining: 729ms\n",
      "385:\tlearn: 0.1484153\ttotal: 457ms\tremaining: 728ms\n",
      "386:\tlearn: 0.1481883\ttotal: 458ms\tremaining: 726ms\n",
      "387:\tlearn: 0.1480076\ttotal: 459ms\tremaining: 724ms\n",
      "388:\tlearn: 0.1477667\ttotal: 460ms\tremaining: 723ms\n",
      "389:\tlearn: 0.1473548\ttotal: 461ms\tremaining: 721ms\n",
      "390:\tlearn: 0.1470951\ttotal: 462ms\tremaining: 720ms\n",
      "391:\tlearn: 0.1467554\ttotal: 463ms\tremaining: 718ms\n",
      "392:\tlearn: 0.1463446\ttotal: 464ms\tremaining: 716ms\n",
      "393:\tlearn: 0.1458607\ttotal: 465ms\tremaining: 715ms\n",
      "394:\tlearn: 0.1454435\ttotal: 466ms\tremaining: 713ms\n",
      "395:\tlearn: 0.1451369\ttotal: 467ms\tremaining: 712ms\n",
      "396:\tlearn: 0.1448647\ttotal: 468ms\tremaining: 710ms\n",
      "397:\tlearn: 0.1446906\ttotal: 468ms\tremaining: 708ms\n",
      "398:\tlearn: 0.1442770\ttotal: 469ms\tremaining: 707ms\n",
      "399:\tlearn: 0.1441499\ttotal: 470ms\tremaining: 705ms\n",
      "400:\tlearn: 0.1438280\ttotal: 471ms\tremaining: 704ms\n",
      "401:\tlearn: 0.1434738\ttotal: 473ms\tremaining: 703ms\n",
      "402:\tlearn: 0.1430642\ttotal: 474ms\tremaining: 702ms\n",
      "403:\tlearn: 0.1428002\ttotal: 475ms\tremaining: 701ms\n",
      "404:\tlearn: 0.1427673\ttotal: 476ms\tremaining: 699ms\n",
      "405:\tlearn: 0.1426338\ttotal: 477ms\tremaining: 698ms\n",
      "406:\tlearn: 0.1422425\ttotal: 478ms\tremaining: 697ms\n"
     ]
    },
    {
     "name": "stdout",
     "output_type": "stream",
     "text": [
      "407:\tlearn: 0.1418670\ttotal: 479ms\tremaining: 696ms\n",
      "408:\tlearn: 0.1417249\ttotal: 481ms\tremaining: 694ms\n",
      "409:\tlearn: 0.1413233\ttotal: 481ms\tremaining: 693ms\n",
      "410:\tlearn: 0.1411566\ttotal: 483ms\tremaining: 692ms\n",
      "411:\tlearn: 0.1407112\ttotal: 484ms\tremaining: 691ms\n",
      "412:\tlearn: 0.1403714\ttotal: 485ms\tremaining: 689ms\n",
      "413:\tlearn: 0.1401283\ttotal: 486ms\tremaining: 688ms\n",
      "414:\tlearn: 0.1398507\ttotal: 487ms\tremaining: 686ms\n",
      "415:\tlearn: 0.1396221\ttotal: 488ms\tremaining: 685ms\n",
      "416:\tlearn: 0.1394342\ttotal: 489ms\tremaining: 684ms\n",
      "417:\tlearn: 0.1390949\ttotal: 490ms\tremaining: 682ms\n",
      "418:\tlearn: 0.1387647\ttotal: 491ms\tremaining: 681ms\n",
      "419:\tlearn: 0.1385799\ttotal: 492ms\tremaining: 680ms\n",
      "420:\tlearn: 0.1384155\ttotal: 494ms\tremaining: 679ms\n",
      "421:\tlearn: 0.1380692\ttotal: 495ms\tremaining: 678ms\n",
      "422:\tlearn: 0.1377962\ttotal: 496ms\tremaining: 676ms\n",
      "423:\tlearn: 0.1376288\ttotal: 497ms\tremaining: 675ms\n",
      "424:\tlearn: 0.1373847\ttotal: 498ms\tremaining: 673ms\n",
      "425:\tlearn: 0.1373536\ttotal: 499ms\tremaining: 672ms\n",
      "426:\tlearn: 0.1370123\ttotal: 500ms\tremaining: 670ms\n",
      "427:\tlearn: 0.1369011\ttotal: 500ms\tremaining: 669ms\n",
      "428:\tlearn: 0.1366503\ttotal: 501ms\tremaining: 667ms\n",
      "429:\tlearn: 0.1364026\ttotal: 503ms\tremaining: 666ms\n",
      "430:\tlearn: 0.1361937\ttotal: 504ms\tremaining: 665ms\n",
      "431:\tlearn: 0.1360217\ttotal: 505ms\tremaining: 664ms\n",
      "432:\tlearn: 0.1357297\ttotal: 506ms\tremaining: 663ms\n",
      "433:\tlearn: 0.1355933\ttotal: 508ms\tremaining: 662ms\n",
      "434:\tlearn: 0.1352581\ttotal: 509ms\tremaining: 661ms\n",
      "435:\tlearn: 0.1352038\ttotal: 510ms\tremaining: 660ms\n",
      "436:\tlearn: 0.1348451\ttotal: 511ms\tremaining: 659ms\n",
      "437:\tlearn: 0.1348194\ttotal: 513ms\tremaining: 658ms\n",
      "438:\tlearn: 0.1343969\ttotal: 514ms\tremaining: 656ms\n",
      "439:\tlearn: 0.1340533\ttotal: 515ms\tremaining: 655ms\n",
      "440:\tlearn: 0.1337721\ttotal: 516ms\tremaining: 654ms\n",
      "441:\tlearn: 0.1334762\ttotal: 517ms\tremaining: 653ms\n",
      "442:\tlearn: 0.1332556\ttotal: 518ms\tremaining: 651ms\n",
      "443:\tlearn: 0.1329536\ttotal: 519ms\tremaining: 650ms\n",
      "444:\tlearn: 0.1327563\ttotal: 521ms\tremaining: 649ms\n",
      "445:\tlearn: 0.1324880\ttotal: 522ms\tremaining: 648ms\n",
      "446:\tlearn: 0.1322130\ttotal: 523ms\tremaining: 647ms\n",
      "447:\tlearn: 0.1319690\ttotal: 524ms\tremaining: 646ms\n",
      "448:\tlearn: 0.1317810\ttotal: 525ms\tremaining: 645ms\n",
      "449:\tlearn: 0.1315579\ttotal: 526ms\tremaining: 643ms\n",
      "450:\tlearn: 0.1312992\ttotal: 527ms\tremaining: 642ms\n",
      "451:\tlearn: 0.1311294\ttotal: 528ms\tremaining: 640ms\n",
      "452:\tlearn: 0.1309624\ttotal: 529ms\tremaining: 639ms\n",
      "453:\tlearn: 0.1306914\ttotal: 530ms\tremaining: 638ms\n",
      "454:\tlearn: 0.1303780\ttotal: 531ms\tremaining: 636ms\n",
      "455:\tlearn: 0.1300112\ttotal: 532ms\tremaining: 635ms\n",
      "456:\tlearn: 0.1298537\ttotal: 533ms\tremaining: 633ms\n",
      "457:\tlearn: 0.1295478\ttotal: 534ms\tremaining: 632ms\n",
      "458:\tlearn: 0.1292445\ttotal: 535ms\tremaining: 631ms\n",
      "459:\tlearn: 0.1291207\ttotal: 536ms\tremaining: 629ms\n",
      "460:\tlearn: 0.1288675\ttotal: 537ms\tremaining: 628ms\n",
      "461:\tlearn: 0.1287498\ttotal: 538ms\tremaining: 627ms\n",
      "462:\tlearn: 0.1284853\ttotal: 539ms\tremaining: 625ms\n",
      "463:\tlearn: 0.1283404\ttotal: 541ms\tremaining: 624ms\n",
      "464:\tlearn: 0.1280696\ttotal: 542ms\tremaining: 623ms\n",
      "465:\tlearn: 0.1280177\ttotal: 543ms\tremaining: 622ms\n",
      "466:\tlearn: 0.1277473\ttotal: 544ms\tremaining: 621ms\n",
      "467:\tlearn: 0.1276110\ttotal: 545ms\tremaining: 619ms\n",
      "468:\tlearn: 0.1275193\ttotal: 546ms\tremaining: 618ms\n",
      "469:\tlearn: 0.1272819\ttotal: 547ms\tremaining: 617ms\n",
      "470:\tlearn: 0.1270217\ttotal: 548ms\tremaining: 615ms\n",
      "471:\tlearn: 0.1269052\ttotal: 549ms\tremaining: 614ms\n",
      "472:\tlearn: 0.1266146\ttotal: 550ms\tremaining: 613ms\n",
      "473:\tlearn: 0.1264491\ttotal: 551ms\tremaining: 612ms\n",
      "474:\tlearn: 0.1264249\ttotal: 552ms\tremaining: 610ms\n",
      "475:\tlearn: 0.1262084\ttotal: 553ms\tremaining: 609ms\n",
      "476:\tlearn: 0.1259704\ttotal: 555ms\tremaining: 608ms\n",
      "477:\tlearn: 0.1257507\ttotal: 556ms\tremaining: 607ms\n",
      "478:\tlearn: 0.1255571\ttotal: 556ms\tremaining: 605ms\n",
      "479:\tlearn: 0.1255295\ttotal: 557ms\tremaining: 604ms\n",
      "480:\tlearn: 0.1254237\ttotal: 558ms\tremaining: 602ms\n",
      "481:\tlearn: 0.1250986\ttotal: 559ms\tremaining: 601ms\n",
      "482:\tlearn: 0.1248568\ttotal: 560ms\tremaining: 600ms\n",
      "483:\tlearn: 0.1248354\ttotal: 561ms\tremaining: 598ms\n",
      "484:\tlearn: 0.1248141\ttotal: 562ms\tremaining: 597ms\n",
      "485:\tlearn: 0.1246253\ttotal: 563ms\tremaining: 596ms\n",
      "486:\tlearn: 0.1244781\ttotal: 564ms\tremaining: 594ms\n",
      "487:\tlearn: 0.1244175\ttotal: 565ms\tremaining: 593ms\n",
      "488:\tlearn: 0.1242197\ttotal: 566ms\tremaining: 592ms\n",
      "489:\tlearn: 0.1239975\ttotal: 567ms\tremaining: 591ms\n"
     ]
    },
    {
     "name": "stdout",
     "output_type": "stream",
     "text": [
      "490:\tlearn: 0.1238176\ttotal: 569ms\tremaining: 590ms\n",
      "491:\tlearn: 0.1236355\ttotal: 570ms\tremaining: 589ms\n",
      "492:\tlearn: 0.1235598\ttotal: 571ms\tremaining: 587ms\n",
      "493:\tlearn: 0.1233885\ttotal: 573ms\tremaining: 587ms\n",
      "494:\tlearn: 0.1231174\ttotal: 574ms\tremaining: 586ms\n",
      "495:\tlearn: 0.1228737\ttotal: 575ms\tremaining: 584ms\n",
      "496:\tlearn: 0.1227526\ttotal: 576ms\tremaining: 583ms\n",
      "497:\tlearn: 0.1224084\ttotal: 577ms\tremaining: 582ms\n",
      "498:\tlearn: 0.1222098\ttotal: 578ms\tremaining: 580ms\n",
      "499:\tlearn: 0.1219316\ttotal: 579ms\tremaining: 579ms\n",
      "500:\tlearn: 0.1215558\ttotal: 580ms\tremaining: 577ms\n",
      "501:\tlearn: 0.1213163\ttotal: 581ms\tremaining: 576ms\n",
      "502:\tlearn: 0.1210412\ttotal: 582ms\tremaining: 575ms\n",
      "503:\tlearn: 0.1207839\ttotal: 583ms\tremaining: 574ms\n",
      "504:\tlearn: 0.1204338\ttotal: 586ms\tremaining: 574ms\n",
      "505:\tlearn: 0.1201963\ttotal: 587ms\tremaining: 573ms\n",
      "506:\tlearn: 0.1200299\ttotal: 588ms\tremaining: 571ms\n",
      "507:\tlearn: 0.1200132\ttotal: 588ms\tremaining: 570ms\n",
      "508:\tlearn: 0.1199357\ttotal: 590ms\tremaining: 569ms\n",
      "509:\tlearn: 0.1197900\ttotal: 590ms\tremaining: 567ms\n",
      "510:\tlearn: 0.1196906\ttotal: 591ms\tremaining: 566ms\n",
      "511:\tlearn: 0.1194544\ttotal: 592ms\tremaining: 565ms\n",
      "512:\tlearn: 0.1193760\ttotal: 593ms\tremaining: 563ms\n",
      "513:\tlearn: 0.1192402\ttotal: 594ms\tremaining: 562ms\n",
      "514:\tlearn: 0.1190087\ttotal: 595ms\tremaining: 561ms\n",
      "515:\tlearn: 0.1188007\ttotal: 596ms\tremaining: 559ms\n",
      "516:\tlearn: 0.1185791\ttotal: 597ms\tremaining: 558ms\n",
      "517:\tlearn: 0.1183518\ttotal: 599ms\tremaining: 557ms\n",
      "518:\tlearn: 0.1182156\ttotal: 600ms\tremaining: 556ms\n",
      "519:\tlearn: 0.1179763\ttotal: 601ms\tremaining: 555ms\n",
      "520:\tlearn: 0.1176398\ttotal: 602ms\tremaining: 553ms\n",
      "521:\tlearn: 0.1174052\ttotal: 603ms\tremaining: 552ms\n",
      "522:\tlearn: 0.1173370\ttotal: 604ms\tremaining: 551ms\n",
      "523:\tlearn: 0.1170599\ttotal: 605ms\tremaining: 549ms\n",
      "524:\tlearn: 0.1168683\ttotal: 606ms\tremaining: 548ms\n",
      "525:\tlearn: 0.1166474\ttotal: 607ms\tremaining: 547ms\n",
      "526:\tlearn: 0.1165145\ttotal: 608ms\tremaining: 545ms\n",
      "527:\tlearn: 0.1163056\ttotal: 609ms\tremaining: 544ms\n",
      "528:\tlearn: 0.1160223\ttotal: 610ms\tremaining: 543ms\n",
      "529:\tlearn: 0.1157350\ttotal: 611ms\tremaining: 542ms\n",
      "530:\tlearn: 0.1155607\ttotal: 612ms\tremaining: 541ms\n",
      "531:\tlearn: 0.1153874\ttotal: 613ms\tremaining: 540ms\n",
      "532:\tlearn: 0.1151658\ttotal: 615ms\tremaining: 539ms\n",
      "533:\tlearn: 0.1150470\ttotal: 616ms\tremaining: 537ms\n",
      "534:\tlearn: 0.1148201\ttotal: 617ms\tremaining: 536ms\n",
      "535:\tlearn: 0.1146573\ttotal: 618ms\tremaining: 535ms\n",
      "536:\tlearn: 0.1146212\ttotal: 619ms\tremaining: 534ms\n",
      "537:\tlearn: 0.1142001\ttotal: 620ms\tremaining: 533ms\n",
      "538:\tlearn: 0.1139736\ttotal: 621ms\tremaining: 531ms\n",
      "539:\tlearn: 0.1139588\ttotal: 622ms\tremaining: 530ms\n",
      "540:\tlearn: 0.1138643\ttotal: 623ms\tremaining: 529ms\n",
      "541:\tlearn: 0.1137676\ttotal: 624ms\tremaining: 527ms\n",
      "542:\tlearn: 0.1135834\ttotal: 625ms\tremaining: 526ms\n",
      "543:\tlearn: 0.1133098\ttotal: 626ms\tremaining: 524ms\n",
      "544:\tlearn: 0.1131321\ttotal: 627ms\tremaining: 523ms\n",
      "545:\tlearn: 0.1129998\ttotal: 628ms\tremaining: 522ms\n",
      "546:\tlearn: 0.1129595\ttotal: 629ms\tremaining: 521ms\n",
      "547:\tlearn: 0.1129135\ttotal: 630ms\tremaining: 520ms\n",
      "548:\tlearn: 0.1127356\ttotal: 631ms\tremaining: 519ms\n",
      "549:\tlearn: 0.1127176\ttotal: 632ms\tremaining: 517ms\n",
      "550:\tlearn: 0.1125422\ttotal: 633ms\tremaining: 516ms\n",
      "551:\tlearn: 0.1123388\ttotal: 634ms\tremaining: 514ms\n",
      "552:\tlearn: 0.1122123\ttotal: 634ms\tremaining: 513ms\n",
      "553:\tlearn: 0.1119852\ttotal: 635ms\tremaining: 511ms\n",
      "554:\tlearn: 0.1118423\ttotal: 636ms\tremaining: 510ms\n",
      "555:\tlearn: 0.1116821\ttotal: 637ms\tremaining: 508ms\n",
      "556:\tlearn: 0.1113986\ttotal: 637ms\tremaining: 507ms\n",
      "557:\tlearn: 0.1111506\ttotal: 638ms\tremaining: 506ms\n",
      "558:\tlearn: 0.1109729\ttotal: 639ms\tremaining: 504ms\n",
      "559:\tlearn: 0.1107431\ttotal: 640ms\tremaining: 503ms\n",
      "560:\tlearn: 0.1104711\ttotal: 641ms\tremaining: 501ms\n",
      "561:\tlearn: 0.1101740\ttotal: 641ms\tremaining: 500ms\n",
      "562:\tlearn: 0.1099277\ttotal: 642ms\tremaining: 499ms\n",
      "563:\tlearn: 0.1098057\ttotal: 643ms\tremaining: 497ms\n",
      "564:\tlearn: 0.1096582\ttotal: 644ms\tremaining: 496ms\n",
      "565:\tlearn: 0.1094870\ttotal: 645ms\tremaining: 495ms\n",
      "566:\tlearn: 0.1093221\ttotal: 649ms\tremaining: 495ms\n",
      "567:\tlearn: 0.1091538\ttotal: 650ms\tremaining: 494ms\n",
      "568:\tlearn: 0.1091032\ttotal: 652ms\tremaining: 494ms\n",
      "569:\tlearn: 0.1090073\ttotal: 653ms\tremaining: 492ms\n",
      "570:\tlearn: 0.1087581\ttotal: 653ms\tremaining: 491ms\n",
      "571:\tlearn: 0.1086116\ttotal: 654ms\tremaining: 490ms\n",
      "572:\tlearn: 0.1083137\ttotal: 655ms\tremaining: 488ms\n",
      "573:\tlearn: 0.1081213\ttotal: 656ms\tremaining: 487ms\n",
      "574:\tlearn: 0.1081054\ttotal: 658ms\tremaining: 486ms\n",
      "575:\tlearn: 0.1079656\ttotal: 659ms\tremaining: 485ms\n",
      "576:\tlearn: 0.1077960\ttotal: 660ms\tremaining: 484ms\n",
      "577:\tlearn: 0.1075722\ttotal: 661ms\tremaining: 483ms\n",
      "578:\tlearn: 0.1073902\ttotal: 662ms\tremaining: 482ms\n",
      "579:\tlearn: 0.1071156\ttotal: 664ms\tremaining: 480ms\n",
      "580:\tlearn: 0.1069623\ttotal: 665ms\tremaining: 479ms\n",
      "581:\tlearn: 0.1067789\ttotal: 667ms\tremaining: 479ms\n"
     ]
    },
    {
     "name": "stdout",
     "output_type": "stream",
     "text": [
      "582:\tlearn: 0.1065430\ttotal: 669ms\tremaining: 479ms\n",
      "583:\tlearn: 0.1065139\ttotal: 670ms\tremaining: 478ms\n",
      "584:\tlearn: 0.1064993\ttotal: 672ms\tremaining: 477ms\n",
      "585:\tlearn: 0.1062916\ttotal: 673ms\tremaining: 476ms\n",
      "586:\tlearn: 0.1062762\ttotal: 674ms\tremaining: 475ms\n",
      "587:\tlearn: 0.1061563\ttotal: 675ms\tremaining: 473ms\n",
      "588:\tlearn: 0.1060209\ttotal: 677ms\tremaining: 472ms\n",
      "589:\tlearn: 0.1058988\ttotal: 679ms\tremaining: 472ms\n",
      "590:\tlearn: 0.1058670\ttotal: 680ms\tremaining: 471ms\n",
      "591:\tlearn: 0.1057699\ttotal: 682ms\tremaining: 470ms\n",
      "592:\tlearn: 0.1057563\ttotal: 683ms\tremaining: 469ms\n",
      "593:\tlearn: 0.1057187\ttotal: 704ms\tremaining: 481ms\n",
      "594:\tlearn: 0.1056524\ttotal: 715ms\tremaining: 487ms\n",
      "595:\tlearn: 0.1053552\ttotal: 716ms\tremaining: 485ms\n",
      "596:\tlearn: 0.1052014\ttotal: 717ms\tremaining: 484ms\n",
      "597:\tlearn: 0.1049165\ttotal: 718ms\tremaining: 483ms\n",
      "598:\tlearn: 0.1048985\ttotal: 719ms\tremaining: 481ms\n",
      "599:\tlearn: 0.1047119\ttotal: 721ms\tremaining: 481ms\n",
      "600:\tlearn: 0.1046403\ttotal: 722ms\tremaining: 479ms\n",
      "601:\tlearn: 0.1043651\ttotal: 723ms\tremaining: 478ms\n",
      "602:\tlearn: 0.1042244\ttotal: 724ms\tremaining: 477ms\n",
      "603:\tlearn: 0.1040066\ttotal: 725ms\tremaining: 475ms\n",
      "604:\tlearn: 0.1038466\ttotal: 726ms\tremaining: 474ms\n",
      "605:\tlearn: 0.1036852\ttotal: 727ms\tremaining: 473ms\n",
      "606:\tlearn: 0.1035077\ttotal: 728ms\tremaining: 471ms\n",
      "607:\tlearn: 0.1032180\ttotal: 729ms\tremaining: 470ms\n",
      "608:\tlearn: 0.1029858\ttotal: 730ms\tremaining: 468ms\n",
      "609:\tlearn: 0.1027669\ttotal: 731ms\tremaining: 467ms\n",
      "610:\tlearn: 0.1026876\ttotal: 732ms\tremaining: 466ms\n",
      "611:\tlearn: 0.1025079\ttotal: 733ms\tremaining: 465ms\n",
      "612:\tlearn: 0.1024051\ttotal: 734ms\tremaining: 463ms\n",
      "613:\tlearn: 0.1022272\ttotal: 735ms\tremaining: 462ms\n",
      "614:\tlearn: 0.1020433\ttotal: 736ms\tremaining: 460ms\n",
      "615:\tlearn: 0.1019578\ttotal: 736ms\tremaining: 459ms\n",
      "616:\tlearn: 0.1018102\ttotal: 737ms\tremaining: 458ms\n",
      "617:\tlearn: 0.1015414\ttotal: 738ms\tremaining: 456ms\n",
      "618:\tlearn: 0.1013534\ttotal: 739ms\tremaining: 455ms\n",
      "619:\tlearn: 0.1012182\ttotal: 740ms\tremaining: 454ms\n",
      "620:\tlearn: 0.1010514\ttotal: 741ms\tremaining: 452ms\n",
      "621:\tlearn: 0.1009505\ttotal: 742ms\tremaining: 451ms\n",
      "622:\tlearn: 0.1008084\ttotal: 743ms\tremaining: 450ms\n",
      "623:\tlearn: 0.1005253\ttotal: 744ms\tremaining: 448ms\n",
      "624:\tlearn: 0.1003504\ttotal: 745ms\tremaining: 447ms\n",
      "625:\tlearn: 0.1002942\ttotal: 746ms\tremaining: 445ms\n",
      "626:\tlearn: 0.1001828\ttotal: 747ms\tremaining: 444ms\n",
      "627:\tlearn: 0.0999755\ttotal: 747ms\tremaining: 443ms\n",
      "628:\tlearn: 0.0997365\ttotal: 748ms\tremaining: 441ms\n",
      "629:\tlearn: 0.0997025\ttotal: 749ms\tremaining: 440ms\n",
      "630:\tlearn: 0.0995985\ttotal: 750ms\tremaining: 439ms\n",
      "631:\tlearn: 0.0994756\ttotal: 751ms\tremaining: 437ms\n",
      "632:\tlearn: 0.0993203\ttotal: 752ms\tremaining: 436ms\n",
      "633:\tlearn: 0.0991695\ttotal: 753ms\tremaining: 435ms\n",
      "634:\tlearn: 0.0989757\ttotal: 754ms\tremaining: 433ms\n",
      "635:\tlearn: 0.0988231\ttotal: 755ms\tremaining: 432ms\n",
      "636:\tlearn: 0.0987078\ttotal: 756ms\tremaining: 431ms\n",
      "637:\tlearn: 0.0985985\ttotal: 757ms\tremaining: 430ms\n",
      "638:\tlearn: 0.0985133\ttotal: 758ms\tremaining: 428ms\n",
      "639:\tlearn: 0.0982256\ttotal: 759ms\tremaining: 427ms\n",
      "640:\tlearn: 0.0980202\ttotal: 760ms\tremaining: 426ms\n"
     ]
    },
    {
     "name": "stdout",
     "output_type": "stream",
     "text": [
      "641:\tlearn: 0.0979746\ttotal: 761ms\tremaining: 425ms\n",
      "642:\tlearn: 0.0978226\ttotal: 763ms\tremaining: 423ms\n",
      "643:\tlearn: 0.0978120\ttotal: 763ms\tremaining: 422ms\n",
      "644:\tlearn: 0.0975799\ttotal: 764ms\tremaining: 421ms\n",
      "645:\tlearn: 0.0973954\ttotal: 765ms\tremaining: 419ms\n",
      "646:\tlearn: 0.0973724\ttotal: 766ms\tremaining: 418ms\n",
      "647:\tlearn: 0.0972813\ttotal: 767ms\tremaining: 417ms\n",
      "648:\tlearn: 0.0971816\ttotal: 769ms\tremaining: 416ms\n",
      "649:\tlearn: 0.0970741\ttotal: 770ms\tremaining: 414ms\n",
      "650:\tlearn: 0.0968269\ttotal: 771ms\tremaining: 413ms\n",
      "651:\tlearn: 0.0966966\ttotal: 772ms\tremaining: 412ms\n",
      "652:\tlearn: 0.0966718\ttotal: 773ms\tremaining: 411ms\n",
      "653:\tlearn: 0.0966473\ttotal: 774ms\tremaining: 409ms\n",
      "654:\tlearn: 0.0964186\ttotal: 775ms\tremaining: 408ms\n",
      "655:\tlearn: 0.0963768\ttotal: 776ms\tremaining: 407ms\n",
      "656:\tlearn: 0.0961724\ttotal: 777ms\tremaining: 406ms\n",
      "657:\tlearn: 0.0960136\ttotal: 778ms\tremaining: 404ms\n",
      "658:\tlearn: 0.0959225\ttotal: 779ms\tremaining: 403ms\n",
      "659:\tlearn: 0.0957394\ttotal: 780ms\tremaining: 402ms\n",
      "660:\tlearn: 0.0955947\ttotal: 781ms\tremaining: 400ms\n",
      "661:\tlearn: 0.0954194\ttotal: 782ms\tremaining: 399ms\n",
      "662:\tlearn: 0.0952989\ttotal: 783ms\tremaining: 398ms\n",
      "663:\tlearn: 0.0952481\ttotal: 784ms\tremaining: 397ms\n",
      "664:\tlearn: 0.0951317\ttotal: 785ms\tremaining: 396ms\n",
      "665:\tlearn: 0.0950520\ttotal: 786ms\tremaining: 394ms\n",
      "666:\tlearn: 0.0949241\ttotal: 787ms\tremaining: 393ms\n",
      "667:\tlearn: 0.0949051\ttotal: 788ms\tremaining: 392ms\n",
      "668:\tlearn: 0.0948417\ttotal: 789ms\tremaining: 390ms\n",
      "669:\tlearn: 0.0948141\ttotal: 790ms\tremaining: 389ms\n",
      "670:\tlearn: 0.0947386\ttotal: 791ms\tremaining: 388ms\n",
      "671:\tlearn: 0.0946909\ttotal: 792ms\tremaining: 386ms\n",
      "672:\tlearn: 0.0945457\ttotal: 793ms\tremaining: 385ms\n",
      "673:\tlearn: 0.0944618\ttotal: 793ms\tremaining: 384ms\n",
      "674:\tlearn: 0.0944365\ttotal: 794ms\tremaining: 382ms\n",
      "675:\tlearn: 0.0943188\ttotal: 795ms\tremaining: 381ms\n",
      "676:\tlearn: 0.0941406\ttotal: 796ms\tremaining: 380ms\n",
      "677:\tlearn: 0.0941142\ttotal: 797ms\tremaining: 379ms\n",
      "678:\tlearn: 0.0939726\ttotal: 798ms\tremaining: 377ms\n",
      "679:\tlearn: 0.0938833\ttotal: 799ms\tremaining: 376ms\n",
      "680:\tlearn: 0.0937444\ttotal: 800ms\tremaining: 375ms\n",
      "681:\tlearn: 0.0936299\ttotal: 801ms\tremaining: 373ms\n",
      "682:\tlearn: 0.0934278\ttotal: 802ms\tremaining: 372ms\n",
      "683:\tlearn: 0.0932455\ttotal: 803ms\tremaining: 371ms\n",
      "684:\tlearn: 0.0930808\ttotal: 804ms\tremaining: 370ms\n",
      "685:\tlearn: 0.0929726\ttotal: 804ms\tremaining: 368ms\n",
      "686:\tlearn: 0.0927715\ttotal: 806ms\tremaining: 367ms\n",
      "687:\tlearn: 0.0926324\ttotal: 806ms\tremaining: 366ms\n",
      "688:\tlearn: 0.0923899\ttotal: 808ms\tremaining: 364ms\n",
      "689:\tlearn: 0.0922787\ttotal: 808ms\tremaining: 363ms\n",
      "690:\tlearn: 0.0920712\ttotal: 809ms\tremaining: 362ms\n",
      "691:\tlearn: 0.0920456\ttotal: 810ms\tremaining: 361ms\n",
      "692:\tlearn: 0.0919242\ttotal: 811ms\tremaining: 359ms\n",
      "693:\tlearn: 0.0916825\ttotal: 812ms\tremaining: 358ms\n",
      "694:\tlearn: 0.0915749\ttotal: 813ms\tremaining: 357ms\n",
      "695:\tlearn: 0.0915518\ttotal: 814ms\tremaining: 356ms\n",
      "696:\tlearn: 0.0914136\ttotal: 815ms\tremaining: 354ms\n",
      "697:\tlearn: 0.0913613\ttotal: 816ms\tremaining: 353ms\n",
      "698:\tlearn: 0.0912360\ttotal: 817ms\tremaining: 352ms\n",
      "699:\tlearn: 0.0911435\ttotal: 818ms\tremaining: 351ms\n",
      "700:\tlearn: 0.0911188\ttotal: 819ms\tremaining: 349ms\n",
      "701:\tlearn: 0.0909595\ttotal: 820ms\tremaining: 348ms\n",
      "702:\tlearn: 0.0908615\ttotal: 821ms\tremaining: 347ms\n",
      "703:\tlearn: 0.0907782\ttotal: 822ms\tremaining: 346ms\n",
      "704:\tlearn: 0.0907538\ttotal: 823ms\tremaining: 344ms\n",
      "705:\tlearn: 0.0905774\ttotal: 824ms\tremaining: 343ms\n",
      "706:\tlearn: 0.0905316\ttotal: 825ms\tremaining: 342ms\n",
      "707:\tlearn: 0.0905074\ttotal: 826ms\tremaining: 341ms\n",
      "708:\tlearn: 0.0903474\ttotal: 827ms\tremaining: 339ms\n",
      "709:\tlearn: 0.0902726\ttotal: 828ms\tremaining: 338ms\n",
      "710:\tlearn: 0.0901185\ttotal: 829ms\tremaining: 337ms\n",
      "711:\tlearn: 0.0901002\ttotal: 830ms\tremaining: 336ms\n",
      "712:\tlearn: 0.0900400\ttotal: 831ms\tremaining: 334ms\n",
      "713:\tlearn: 0.0899295\ttotal: 831ms\tremaining: 333ms\n",
      "714:\tlearn: 0.0898112\ttotal: 832ms\tremaining: 332ms\n",
      "715:\tlearn: 0.0897457\ttotal: 833ms\tremaining: 331ms\n",
      "716:\tlearn: 0.0896427\ttotal: 834ms\tremaining: 329ms\n",
      "717:\tlearn: 0.0895152\ttotal: 835ms\tremaining: 328ms\n",
      "718:\tlearn: 0.0893166\ttotal: 836ms\tremaining: 327ms\n",
      "719:\tlearn: 0.0892875\ttotal: 837ms\tremaining: 326ms\n",
      "720:\tlearn: 0.0891553\ttotal: 838ms\tremaining: 324ms\n",
      "721:\tlearn: 0.0890442\ttotal: 839ms\tremaining: 323ms\n",
      "722:\tlearn: 0.0889548\ttotal: 840ms\tremaining: 322ms\n",
      "723:\tlearn: 0.0888151\ttotal: 841ms\tremaining: 321ms\n",
      "724:\tlearn: 0.0887051\ttotal: 842ms\tremaining: 319ms\n",
      "725:\tlearn: 0.0886944\ttotal: 843ms\tremaining: 318ms\n",
      "726:\tlearn: 0.0885211\ttotal: 844ms\tremaining: 317ms\n",
      "727:\tlearn: 0.0883580\ttotal: 844ms\tremaining: 316ms\n",
      "728:\tlearn: 0.0882403\ttotal: 845ms\tremaining: 314ms\n",
      "729:\tlearn: 0.0880978\ttotal: 846ms\tremaining: 313ms\n",
      "730:\tlearn: 0.0880318\ttotal: 847ms\tremaining: 312ms\n",
      "731:\tlearn: 0.0879261\ttotal: 848ms\tremaining: 310ms\n",
      "732:\tlearn: 0.0877799\ttotal: 849ms\tremaining: 309ms\n",
      "733:\tlearn: 0.0876454\ttotal: 850ms\tremaining: 308ms\n",
      "734:\tlearn: 0.0876289\ttotal: 851ms\tremaining: 307ms\n",
      "735:\tlearn: 0.0875503\ttotal: 852ms\tremaining: 306ms\n",
      "736:\tlearn: 0.0874675\ttotal: 853ms\tremaining: 304ms\n",
      "737:\tlearn: 0.0874491\ttotal: 854ms\tremaining: 303ms\n",
      "738:\tlearn: 0.0873023\ttotal: 854ms\tremaining: 302ms\n",
      "739:\tlearn: 0.0872299\ttotal: 855ms\tremaining: 301ms\n",
      "740:\tlearn: 0.0871376\ttotal: 856ms\tremaining: 299ms\n",
      "741:\tlearn: 0.0870359\ttotal: 857ms\tremaining: 298ms\n",
      "742:\tlearn: 0.0869089\ttotal: 858ms\tremaining: 297ms\n",
      "743:\tlearn: 0.0868959\ttotal: 859ms\tremaining: 296ms\n",
      "744:\tlearn: 0.0868427\ttotal: 860ms\tremaining: 294ms\n",
      "745:\tlearn: 0.0867985\ttotal: 861ms\tremaining: 293ms\n"
     ]
    },
    {
     "name": "stdout",
     "output_type": "stream",
     "text": [
      "746:\tlearn: 0.0866974\ttotal: 862ms\tremaining: 292ms\n",
      "747:\tlearn: 0.0864788\ttotal: 863ms\tremaining: 291ms\n",
      "748:\tlearn: 0.0864436\ttotal: 864ms\tremaining: 290ms\n",
      "749:\tlearn: 0.0862980\ttotal: 865ms\tremaining: 288ms\n",
      "750:\tlearn: 0.0861722\ttotal: 866ms\tremaining: 287ms\n",
      "751:\tlearn: 0.0860175\ttotal: 867ms\tremaining: 286ms\n",
      "752:\tlearn: 0.0858361\ttotal: 868ms\tremaining: 285ms\n",
      "753:\tlearn: 0.0856415\ttotal: 869ms\tremaining: 283ms\n",
      "754:\tlearn: 0.0854630\ttotal: 870ms\tremaining: 282ms\n",
      "755:\tlearn: 0.0853867\ttotal: 870ms\tremaining: 281ms\n",
      "756:\tlearn: 0.0853079\ttotal: 871ms\tremaining: 280ms\n",
      "757:\tlearn: 0.0851767\ttotal: 872ms\tremaining: 278ms\n",
      "758:\tlearn: 0.0850981\ttotal: 873ms\tremaining: 277ms\n",
      "759:\tlearn: 0.0848705\ttotal: 874ms\tremaining: 276ms\n",
      "760:\tlearn: 0.0846821\ttotal: 875ms\tremaining: 275ms\n",
      "761:\tlearn: 0.0845827\ttotal: 876ms\tremaining: 274ms\n",
      "762:\tlearn: 0.0845422\ttotal: 877ms\tremaining: 272ms\n",
      "763:\tlearn: 0.0843968\ttotal: 878ms\tremaining: 271ms\n",
      "764:\tlearn: 0.0843469\ttotal: 879ms\tremaining: 270ms\n",
      "765:\tlearn: 0.0841689\ttotal: 880ms\tremaining: 269ms\n",
      "766:\tlearn: 0.0840958\ttotal: 880ms\tremaining: 267ms\n",
      "767:\tlearn: 0.0839388\ttotal: 881ms\tremaining: 266ms\n",
      "768:\tlearn: 0.0837776\ttotal: 882ms\tremaining: 265ms\n",
      "769:\tlearn: 0.0836324\ttotal: 883ms\tremaining: 264ms\n",
      "770:\tlearn: 0.0835335\ttotal: 884ms\tremaining: 263ms\n",
      "771:\tlearn: 0.0833816\ttotal: 885ms\tremaining: 261ms\n",
      "772:\tlearn: 0.0832576\ttotal: 886ms\tremaining: 260ms\n",
      "773:\tlearn: 0.0830594\ttotal: 887ms\tremaining: 259ms\n",
      "774:\tlearn: 0.0829661\ttotal: 888ms\tremaining: 258ms\n",
      "775:\tlearn: 0.0827758\ttotal: 888ms\tremaining: 256ms\n",
      "776:\tlearn: 0.0827545\ttotal: 889ms\tremaining: 255ms\n",
      "777:\tlearn: 0.0826225\ttotal: 890ms\tremaining: 254ms\n",
      "778:\tlearn: 0.0824907\ttotal: 891ms\tremaining: 253ms\n",
      "779:\tlearn: 0.0823294\ttotal: 892ms\tremaining: 252ms\n",
      "780:\tlearn: 0.0822674\ttotal: 893ms\tremaining: 250ms\n",
      "781:\tlearn: 0.0821441\ttotal: 894ms\tremaining: 249ms\n",
      "782:\tlearn: 0.0819407\ttotal: 894ms\tremaining: 248ms\n",
      "783:\tlearn: 0.0818715\ttotal: 895ms\tremaining: 247ms\n",
      "784:\tlearn: 0.0817978\ttotal: 896ms\tremaining: 246ms\n",
      "785:\tlearn: 0.0816437\ttotal: 897ms\tremaining: 244ms\n",
      "786:\tlearn: 0.0815534\ttotal: 898ms\tremaining: 243ms\n",
      "787:\tlearn: 0.0814540\ttotal: 899ms\tremaining: 242ms\n",
      "788:\tlearn: 0.0814111\ttotal: 900ms\tremaining: 241ms\n",
      "789:\tlearn: 0.0813262\ttotal: 901ms\tremaining: 240ms\n",
      "790:\tlearn: 0.0811682\ttotal: 903ms\tremaining: 239ms\n",
      "791:\tlearn: 0.0810591\ttotal: 904ms\tremaining: 237ms\n",
      "792:\tlearn: 0.0809881\ttotal: 905ms\tremaining: 236ms\n",
      "793:\tlearn: 0.0808478\ttotal: 905ms\tremaining: 235ms\n",
      "794:\tlearn: 0.0806159\ttotal: 906ms\tremaining: 234ms\n",
      "795:\tlearn: 0.0805360\ttotal: 907ms\tremaining: 233ms\n",
      "796:\tlearn: 0.0804799\ttotal: 908ms\tremaining: 231ms\n",
      "797:\tlearn: 0.0803272\ttotal: 909ms\tremaining: 230ms\n",
      "798:\tlearn: 0.0801017\ttotal: 910ms\tremaining: 229ms\n",
      "799:\tlearn: 0.0800173\ttotal: 911ms\tremaining: 228ms\n",
      "800:\tlearn: 0.0798782\ttotal: 912ms\tremaining: 227ms\n",
      "801:\tlearn: 0.0798190\ttotal: 913ms\tremaining: 225ms\n",
      "802:\tlearn: 0.0796629\ttotal: 914ms\tremaining: 224ms\n",
      "803:\tlearn: 0.0795572\ttotal: 915ms\tremaining: 223ms\n",
      "804:\tlearn: 0.0794373\ttotal: 915ms\tremaining: 222ms\n",
      "805:\tlearn: 0.0793941\ttotal: 916ms\tremaining: 221ms\n",
      "806:\tlearn: 0.0793077\ttotal: 917ms\tremaining: 219ms\n",
      "807:\tlearn: 0.0791449\ttotal: 918ms\tremaining: 218ms\n",
      "808:\tlearn: 0.0791349\ttotal: 919ms\tremaining: 217ms\n",
      "809:\tlearn: 0.0790897\ttotal: 920ms\tremaining: 216ms\n",
      "810:\tlearn: 0.0790064\ttotal: 921ms\tremaining: 215ms\n",
      "811:\tlearn: 0.0789010\ttotal: 922ms\tremaining: 213ms\n",
      "812:\tlearn: 0.0788403\ttotal: 923ms\tremaining: 212ms\n",
      "813:\tlearn: 0.0787402\ttotal: 924ms\tremaining: 211ms\n",
      "814:\tlearn: 0.0785985\ttotal: 924ms\tremaining: 210ms\n",
      "815:\tlearn: 0.0785737\ttotal: 925ms\tremaining: 209ms\n",
      "816:\tlearn: 0.0784922\ttotal: 926ms\tremaining: 207ms\n",
      "817:\tlearn: 0.0784369\ttotal: 927ms\tremaining: 206ms\n",
      "818:\tlearn: 0.0783139\ttotal: 929ms\tremaining: 205ms\n",
      "819:\tlearn: 0.0781407\ttotal: 930ms\tremaining: 204ms\n",
      "820:\tlearn: 0.0779985\ttotal: 931ms\tremaining: 203ms\n",
      "821:\tlearn: 0.0779749\ttotal: 931ms\tremaining: 202ms\n",
      "822:\tlearn: 0.0778855\ttotal: 932ms\tremaining: 201ms\n",
      "823:\tlearn: 0.0777992\ttotal: 933ms\tremaining: 199ms\n",
      "824:\tlearn: 0.0776584\ttotal: 934ms\tremaining: 198ms\n",
      "825:\tlearn: 0.0774831\ttotal: 935ms\tremaining: 197ms\n",
      "826:\tlearn: 0.0773213\ttotal: 936ms\tremaining: 196ms\n",
      "827:\tlearn: 0.0772136\ttotal: 937ms\tremaining: 195ms\n",
      "828:\tlearn: 0.0770915\ttotal: 938ms\tremaining: 193ms\n",
      "829:\tlearn: 0.0769660\ttotal: 939ms\tremaining: 192ms\n",
      "830:\tlearn: 0.0767940\ttotal: 940ms\tremaining: 191ms\n",
      "831:\tlearn: 0.0766790\ttotal: 941ms\tremaining: 190ms\n",
      "832:\tlearn: 0.0765477\ttotal: 942ms\tremaining: 189ms\n",
      "833:\tlearn: 0.0764990\ttotal: 943ms\tremaining: 188ms\n",
      "834:\tlearn: 0.0763685\ttotal: 944ms\tremaining: 186ms\n",
      "835:\tlearn: 0.0762522\ttotal: 945ms\tremaining: 185ms\n",
      "836:\tlearn: 0.0761916\ttotal: 946ms\tremaining: 184ms\n",
      "837:\tlearn: 0.0761383\ttotal: 946ms\tremaining: 183ms\n",
      "838:\tlearn: 0.0759686\ttotal: 947ms\tremaining: 182ms\n",
      "839:\tlearn: 0.0759194\ttotal: 948ms\tremaining: 181ms\n",
      "840:\tlearn: 0.0758169\ttotal: 949ms\tremaining: 179ms\n",
      "841:\tlearn: 0.0757192\ttotal: 950ms\tremaining: 178ms\n",
      "842:\tlearn: 0.0755889\ttotal: 951ms\tremaining: 177ms\n",
      "843:\tlearn: 0.0754817\ttotal: 952ms\tremaining: 176ms\n"
     ]
    },
    {
     "name": "stdout",
     "output_type": "stream",
     "text": [
      "844:\tlearn: 0.0753388\ttotal: 953ms\tremaining: 175ms\n",
      "845:\tlearn: 0.0752392\ttotal: 954ms\tremaining: 174ms\n",
      "846:\tlearn: 0.0751173\ttotal: 955ms\tremaining: 172ms\n",
      "847:\tlearn: 0.0750444\ttotal: 956ms\tremaining: 171ms\n",
      "848:\tlearn: 0.0749797\ttotal: 957ms\tremaining: 170ms\n",
      "849:\tlearn: 0.0747805\ttotal: 958ms\tremaining: 169ms\n",
      "850:\tlearn: 0.0746971\ttotal: 958ms\tremaining: 168ms\n",
      "851:\tlearn: 0.0744799\ttotal: 959ms\tremaining: 167ms\n",
      "852:\tlearn: 0.0743698\ttotal: 960ms\tremaining: 165ms\n",
      "853:\tlearn: 0.0742771\ttotal: 961ms\tremaining: 164ms\n",
      "854:\tlearn: 0.0742626\ttotal: 962ms\tremaining: 163ms\n",
      "855:\tlearn: 0.0741200\ttotal: 963ms\tremaining: 162ms\n",
      "856:\tlearn: 0.0739456\ttotal: 964ms\tremaining: 161ms\n",
      "857:\tlearn: 0.0738750\ttotal: 965ms\tremaining: 160ms\n",
      "858:\tlearn: 0.0738270\ttotal: 965ms\tremaining: 158ms\n",
      "859:\tlearn: 0.0737571\ttotal: 966ms\tremaining: 157ms\n",
      "860:\tlearn: 0.0737314\ttotal: 968ms\tremaining: 156ms\n",
      "861:\tlearn: 0.0736226\ttotal: 969ms\tremaining: 155ms\n",
      "862:\tlearn: 0.0735589\ttotal: 970ms\tremaining: 154ms\n",
      "863:\tlearn: 0.0734036\ttotal: 971ms\tremaining: 153ms\n",
      "864:\tlearn: 0.0733916\ttotal: 972ms\tremaining: 152ms\n",
      "865:\tlearn: 0.0733239\ttotal: 972ms\tremaining: 150ms\n",
      "866:\tlearn: 0.0732949\ttotal: 974ms\tremaining: 149ms\n",
      "867:\tlearn: 0.0732712\ttotal: 975ms\tremaining: 148ms\n",
      "868:\tlearn: 0.0731115\ttotal: 976ms\tremaining: 147ms\n",
      "869:\tlearn: 0.0730433\ttotal: 977ms\tremaining: 146ms\n",
      "870:\tlearn: 0.0729388\ttotal: 978ms\tremaining: 145ms\n",
      "871:\tlearn: 0.0728387\ttotal: 979ms\tremaining: 144ms\n",
      "872:\tlearn: 0.0726571\ttotal: 980ms\tremaining: 143ms\n",
      "873:\tlearn: 0.0725143\ttotal: 980ms\tremaining: 141ms\n",
      "874:\tlearn: 0.0724068\ttotal: 981ms\tremaining: 140ms\n",
      "875:\tlearn: 0.0723417\ttotal: 982ms\tremaining: 139ms\n",
      "876:\tlearn: 0.0722656\ttotal: 983ms\tremaining: 138ms\n",
      "877:\tlearn: 0.0722284\ttotal: 984ms\tremaining: 137ms\n",
      "878:\tlearn: 0.0721753\ttotal: 985ms\tremaining: 136ms\n",
      "879:\tlearn: 0.0720995\ttotal: 986ms\tremaining: 134ms\n",
      "880:\tlearn: 0.0720054\ttotal: 987ms\tremaining: 133ms\n",
      "881:\tlearn: 0.0719202\ttotal: 988ms\tremaining: 132ms\n",
      "882:\tlearn: 0.0717755\ttotal: 989ms\tremaining: 131ms\n",
      "883:\tlearn: 0.0716703\ttotal: 990ms\tremaining: 130ms\n",
      "884:\tlearn: 0.0714969\ttotal: 991ms\tremaining: 129ms\n",
      "885:\tlearn: 0.0714166\ttotal: 992ms\tremaining: 128ms\n",
      "886:\tlearn: 0.0712713\ttotal: 993ms\tremaining: 126ms\n",
      "887:\tlearn: 0.0711025\ttotal: 994ms\tremaining: 125ms\n",
      "888:\tlearn: 0.0709595\ttotal: 995ms\tremaining: 124ms\n",
      "889:\tlearn: 0.0708983\ttotal: 995ms\tremaining: 123ms\n",
      "890:\tlearn: 0.0707974\ttotal: 996ms\tremaining: 122ms\n",
      "891:\tlearn: 0.0706852\ttotal: 997ms\tremaining: 121ms\n",
      "892:\tlearn: 0.0705356\ttotal: 998ms\tremaining: 120ms\n",
      "893:\tlearn: 0.0704646\ttotal: 999ms\tremaining: 118ms\n",
      "894:\tlearn: 0.0703383\ttotal: 1000ms\tremaining: 117ms\n",
      "895:\tlearn: 0.0703110\ttotal: 1s\tremaining: 116ms\n",
      "896:\tlearn: 0.0702653\ttotal: 1s\tremaining: 115ms\n",
      "897:\tlearn: 0.0701882\ttotal: 1s\tremaining: 114ms\n",
      "898:\tlearn: 0.0699985\ttotal: 1s\tremaining: 113ms\n",
      "899:\tlearn: 0.0699766\ttotal: 1s\tremaining: 112ms\n",
      "900:\tlearn: 0.0699130\ttotal: 1s\tremaining: 110ms\n",
      "901:\tlearn: 0.0697927\ttotal: 1.01s\tremaining: 109ms\n",
      "902:\tlearn: 0.0697023\ttotal: 1.01s\tremaining: 108ms\n",
      "903:\tlearn: 0.0696266\ttotal: 1.01s\tremaining: 107ms\n",
      "904:\tlearn: 0.0695621\ttotal: 1.01s\tremaining: 106ms\n",
      "905:\tlearn: 0.0694655\ttotal: 1.01s\tremaining: 105ms\n",
      "906:\tlearn: 0.0694123\ttotal: 1.01s\tremaining: 104ms\n",
      "907:\tlearn: 0.0693741\ttotal: 1.01s\tremaining: 103ms\n",
      "908:\tlearn: 0.0693201\ttotal: 1.01s\tremaining: 101ms\n",
      "909:\tlearn: 0.0692737\ttotal: 1.01s\tremaining: 100ms\n",
      "910:\tlearn: 0.0691116\ttotal: 1.01s\tremaining: 99.1ms\n",
      "911:\tlearn: 0.0690375\ttotal: 1.01s\tremaining: 98ms\n",
      "912:\tlearn: 0.0689289\ttotal: 1.02s\tremaining: 96.9ms\n",
      "913:\tlearn: 0.0688087\ttotal: 1.02s\tremaining: 95.7ms\n",
      "914:\tlearn: 0.0687398\ttotal: 1.02s\tremaining: 94.6ms\n",
      "915:\tlearn: 0.0686210\ttotal: 1.02s\tremaining: 93.5ms\n",
      "916:\tlearn: 0.0684575\ttotal: 1.02s\tremaining: 92.4ms\n",
      "917:\tlearn: 0.0683221\ttotal: 1.02s\tremaining: 91.3ms\n",
      "918:\tlearn: 0.0682729\ttotal: 1.02s\tremaining: 90.2ms\n",
      "919:\tlearn: 0.0682260\ttotal: 1.02s\tremaining: 89ms\n",
      "920:\tlearn: 0.0681087\ttotal: 1.02s\tremaining: 87.9ms\n",
      "921:\tlearn: 0.0680728\ttotal: 1.03s\tremaining: 86.8ms\n",
      "922:\tlearn: 0.0679967\ttotal: 1.03s\tremaining: 85.7ms\n",
      "923:\tlearn: 0.0678757\ttotal: 1.03s\tremaining: 84.6ms\n",
      "924:\tlearn: 0.0677866\ttotal: 1.03s\tremaining: 83.4ms\n",
      "925:\tlearn: 0.0676844\ttotal: 1.03s\tremaining: 82.3ms\n",
      "926:\tlearn: 0.0676768\ttotal: 1.03s\tremaining: 81.2ms\n",
      "927:\tlearn: 0.0676329\ttotal: 1.03s\tremaining: 80ms\n",
      "928:\tlearn: 0.0675264\ttotal: 1.03s\tremaining: 78.9ms\n",
      "929:\tlearn: 0.0674333\ttotal: 1.03s\tremaining: 77.7ms\n",
      "930:\tlearn: 0.0673372\ttotal: 1.03s\tremaining: 76.6ms\n",
      "931:\tlearn: 0.0672676\ttotal: 1.03s\tremaining: 75.5ms\n",
      "932:\tlearn: 0.0672593\ttotal: 1.03s\tremaining: 74.3ms\n",
      "933:\tlearn: 0.0672304\ttotal: 1.03s\tremaining: 73.2ms\n",
      "934:\tlearn: 0.0672016\ttotal: 1.04s\tremaining: 72.1ms\n",
      "935:\tlearn: 0.0671197\ttotal: 1.04s\tremaining: 70.9ms\n",
      "936:\tlearn: 0.0670473\ttotal: 1.04s\tremaining: 69.8ms\n",
      "937:\tlearn: 0.0670235\ttotal: 1.04s\tremaining: 68.7ms\n",
      "938:\tlearn: 0.0668799\ttotal: 1.04s\tremaining: 67.6ms\n",
      "939:\tlearn: 0.0667251\ttotal: 1.04s\tremaining: 66.5ms\n",
      "940:\tlearn: 0.0666165\ttotal: 1.04s\tremaining: 65.3ms\n",
      "941:\tlearn: 0.0664977\ttotal: 1.04s\tremaining: 64.2ms\n",
      "942:\tlearn: 0.0663692\ttotal: 1.04s\tremaining: 63.1ms\n",
      "943:\tlearn: 0.0662662\ttotal: 1.04s\tremaining: 62ms\n",
      "944:\tlearn: 0.0662173\ttotal: 1.04s\tremaining: 60.9ms\n",
      "945:\tlearn: 0.0662003\ttotal: 1.05s\tremaining: 59.7ms\n",
      "946:\tlearn: 0.0660479\ttotal: 1.05s\tremaining: 58.6ms\n",
      "947:\tlearn: 0.0660004\ttotal: 1.05s\tremaining: 57.5ms\n",
      "948:\tlearn: 0.0659578\ttotal: 1.05s\tremaining: 56.4ms\n",
      "949:\tlearn: 0.0658053\ttotal: 1.05s\tremaining: 55.3ms\n",
      "950:\tlearn: 0.0656451\ttotal: 1.05s\tremaining: 54.2ms\n",
      "951:\tlearn: 0.0655601\ttotal: 1.05s\tremaining: 53ms\n",
      "952:\tlearn: 0.0654470\ttotal: 1.05s\tremaining: 51.9ms\n"
     ]
    },
    {
     "name": "stdout",
     "output_type": "stream",
     "text": [
      "953:\tlearn: 0.0653553\ttotal: 1.05s\tremaining: 50.8ms\n",
      "954:\tlearn: 0.0653126\ttotal: 1.05s\tremaining: 49.7ms\n",
      "955:\tlearn: 0.0653086\ttotal: 1.06s\tremaining: 48.6ms\n",
      "956:\tlearn: 0.0652135\ttotal: 1.06s\tremaining: 47.5ms\n",
      "957:\tlearn: 0.0651306\ttotal: 1.06s\tremaining: 46.4ms\n",
      "958:\tlearn: 0.0651070\ttotal: 1.06s\tremaining: 45.3ms\n",
      "959:\tlearn: 0.0651013\ttotal: 1.06s\tremaining: 44.2ms\n",
      "960:\tlearn: 0.0649849\ttotal: 1.06s\tremaining: 43.1ms\n",
      "961:\tlearn: 0.0648072\ttotal: 1.06s\tremaining: 42ms\n",
      "962:\tlearn: 0.0646864\ttotal: 1.06s\tremaining: 40.8ms\n",
      "963:\tlearn: 0.0645694\ttotal: 1.06s\tremaining: 39.7ms\n",
      "964:\tlearn: 0.0645077\ttotal: 1.06s\tremaining: 38.6ms\n",
      "965:\tlearn: 0.0644474\ttotal: 1.06s\tremaining: 37.5ms\n",
      "966:\tlearn: 0.0643267\ttotal: 1.07s\tremaining: 36.4ms\n",
      "967:\tlearn: 0.0642780\ttotal: 1.07s\tremaining: 35.3ms\n",
      "968:\tlearn: 0.0641711\ttotal: 1.07s\tremaining: 34.2ms\n",
      "969:\tlearn: 0.0640725\ttotal: 1.07s\tremaining: 33.1ms\n",
      "970:\tlearn: 0.0639299\ttotal: 1.07s\tremaining: 32ms\n",
      "971:\tlearn: 0.0638416\ttotal: 1.07s\tremaining: 30.9ms\n",
      "972:\tlearn: 0.0637579\ttotal: 1.07s\tremaining: 29.8ms\n",
      "973:\tlearn: 0.0637002\ttotal: 1.07s\tremaining: 28.7ms\n",
      "974:\tlearn: 0.0635799\ttotal: 1.07s\tremaining: 27.5ms\n",
      "975:\tlearn: 0.0634875\ttotal: 1.07s\tremaining: 26.4ms\n",
      "976:\tlearn: 0.0633817\ttotal: 1.08s\tremaining: 25.3ms\n",
      "977:\tlearn: 0.0632882\ttotal: 1.08s\tremaining: 24.2ms\n",
      "978:\tlearn: 0.0632087\ttotal: 1.08s\tremaining: 23.1ms\n",
      "979:\tlearn: 0.0631569\ttotal: 1.08s\tremaining: 22ms\n",
      "980:\tlearn: 0.0631318\ttotal: 1.08s\tremaining: 20.9ms\n",
      "981:\tlearn: 0.0630348\ttotal: 1.08s\tremaining: 19.8ms\n",
      "982:\tlearn: 0.0630030\ttotal: 1.08s\tremaining: 18.7ms\n",
      "983:\tlearn: 0.0628857\ttotal: 1.08s\tremaining: 17.6ms\n",
      "984:\tlearn: 0.0628474\ttotal: 1.08s\tremaining: 16.5ms\n",
      "985:\tlearn: 0.0627469\ttotal: 1.08s\tremaining: 15.4ms\n",
      "986:\tlearn: 0.0627268\ttotal: 1.08s\tremaining: 14.3ms\n",
      "987:\tlearn: 0.0626294\ttotal: 1.09s\tremaining: 13.2ms\n",
      "988:\tlearn: 0.0625584\ttotal: 1.09s\tremaining: 12.1ms\n",
      "989:\tlearn: 0.0625099\ttotal: 1.09s\tremaining: 11ms\n",
      "990:\tlearn: 0.0624155\ttotal: 1.09s\tremaining: 9.89ms\n",
      "991:\tlearn: 0.0623136\ttotal: 1.09s\tremaining: 8.79ms\n",
      "992:\tlearn: 0.0622212\ttotal: 1.09s\tremaining: 7.69ms\n",
      "993:\tlearn: 0.0621993\ttotal: 1.09s\tremaining: 6.59ms\n",
      "994:\tlearn: 0.0620621\ttotal: 1.09s\tremaining: 5.49ms\n",
      "995:\tlearn: 0.0620097\ttotal: 1.09s\tremaining: 4.39ms\n",
      "996:\tlearn: 0.0619567\ttotal: 1.09s\tremaining: 3.29ms\n",
      "997:\tlearn: 0.0618917\ttotal: 1.09s\tremaining: 2.19ms\n",
      "998:\tlearn: 0.0617383\ttotal: 1.1s\tremaining: 1.1ms\n",
      "999:\tlearn: 0.0616372\ttotal: 1.1s\tremaining: 0us\n"
     ]
    },
    {
     "data": {
      "text/plain": [
       "<catboost.core.CatBoostRegressor at 0x7fb879656940>"
      ]
     },
     "execution_count": 9,
     "metadata": {},
     "output_type": "execute_result"
    }
   ],
   "source": [
    "#Train the Model \n",
    "prior_model = ctb.CatBoostRegressor()\n",
    "prior_model.fit(X_train,Y_train)"
   ]
  },
  {
   "cell_type": "code",
   "execution_count": 10,
   "id": "af65dcda",
   "metadata": {
    "execution": {
     "iopub.execute_input": "2022-06-12T05:48:02.915432Z",
     "iopub.status.busy": "2022-06-12T05:48:02.915065Z",
     "iopub.status.idle": "2022-06-12T05:48:02.922655Z",
     "shell.execute_reply": "2022-06-12T05:48:02.922954Z"
    },
    "id": "af65dcda",
    "papermill": {
     "duration": 0.021354,
     "end_time": "2022-06-12T05:48:02.923072",
     "exception": false,
     "start_time": "2022-06-12T05:48:02.901718",
     "status": "completed"
    },
    "tags": []
   },
   "outputs": [
    {
     "data": {
      "application/scrapbook.scrap.json+json": {
       "data": 0.11782308618852767,
       "encoder": "json",
       "name": "Prior Model MSE",
       "version": 1
      }
     },
     "metadata": {
      "scrapbook": {
       "data": true,
       "display": false,
       "name": "Prior Model MSE"
      }
     },
     "output_type": "display_data"
    },
    {
     "data": {
      "application/scrapbook.scrap.json+json": {
       "data": 0.12703474764221864,
       "encoder": "json",
       "name": "ABC Pre-generator MSE",
       "version": 1
      }
     },
     "metadata": {
      "scrapbook": {
       "data": true,
       "display": false,
       "name": "ABC Pre-generator MSE"
      }
     },
     "output_type": "display_data"
    },
    {
     "data": {
      "application/scrapbook.scrap.json+json": {
       "data": 0.21974293640468395,
       "encoder": "json",
       "name": "Prior Model MSE",
       "version": 1
      }
     },
     "metadata": {
      "scrapbook": {
       "data": true,
       "display": false,
       "name": "Prior Model MSE"
      }
     },
     "output_type": "display_data"
    },
    {
     "data": {
      "application/scrapbook.scrap.json+json": {
       "data": 0.24491234867116887,
       "encoder": "json",
       "name": "ABC Pre-generator MSE",
       "version": 1
      }
     },
     "metadata": {
      "scrapbook": {
       "data": true,
       "display": false,
       "name": "ABC Pre-generator MSE"
      }
     },
     "output_type": "display_data"
    }
   ],
   "source": [
    "y_pred = prior_model.predict(X_test)\n",
    "y_abc = y_pred + np.random.normal(0,variance, y_pred.shape) + bias \n",
    "mse = mean_squared_error(y_pred,Y_test)\n",
    "sb.glue(\"Prior Model MSE\",mse)\n",
    "mse = mean_squared_error(y_abc,Y_test)\n",
    "sb.glue(\"ABC Pre-generator MSE\",mse)\n",
    "mae = mean_absolute_error(y_pred,Y_test)\n",
    "sb.glue(\"Prior Model MSE\",mae)\n",
    "mae = mean_absolute_error(y_abc,Y_test)\n",
    "sb.glue(\"ABC Pre-generator MSE\",mae)"
   ]
  },
  {
   "cell_type": "markdown",
   "id": "25609da2",
   "metadata": {
    "papermill": {
     "duration": 0.010048,
     "end_time": "2022-06-12T05:48:02.943592",
     "exception": false,
     "start_time": "2022-06-12T05:48:02.933544",
     "status": "completed"
    },
    "tags": []
   },
   "source": [
    "# ABC GAN Model"
   ]
  },
  {
   "cell_type": "code",
   "execution_count": 11,
   "id": "dfc3464d",
   "metadata": {
    "execution": {
     "iopub.execute_input": "2022-06-12T05:48:02.966818Z",
     "iopub.status.busy": "2022-06-12T05:48:02.966443Z",
     "iopub.status.idle": "2022-06-12T05:48:02.968736Z",
     "shell.execute_reply": "2022-06-12T05:48:02.968987Z"
    },
    "papermill": {
     "duration": 0.015391,
     "end_time": "2022-06-12T05:48:02.969098",
     "exception": false,
     "start_time": "2022-06-12T05:48:02.953707",
     "status": "completed"
    },
    "tags": []
   },
   "outputs": [],
   "source": [
    "gen = network.Generator(n_features+1).to(device)\n",
    "disc = network.Discriminator(n_features+1).to(device)\n",
    "\n",
    "criterion = torch.nn.BCELoss()\n",
    "gen_opt = torch.optim.Adam(gen.parameters(), lr=0.001, betas=(0.5, 0.999))\n",
    "disc_opt = torch.optim.Adam(disc.parameters(), lr=0.001, betas=(0.5, 0.999))"
   ]
  },
  {
   "cell_type": "code",
   "execution_count": 12,
   "id": "b75fdd85",
   "metadata": {
    "execution": {
     "iopub.execute_input": "2022-06-12T05:48:02.992269Z",
     "iopub.status.busy": "2022-06-12T05:48:02.991862Z",
     "iopub.status.idle": "2022-06-12T05:49:08.515934Z",
     "shell.execute_reply": "2022-06-12T05:49:08.515644Z"
    },
    "papermill": {
     "duration": 65.536739,
     "end_time": "2022-06-12T05:49:08.516037",
     "exception": false,
     "start_time": "2022-06-12T05:48:02.979298",
     "status": "completed"
    },
    "tags": []
   },
   "outputs": [
    {
     "data": {
      "image/png": "[encoded data removed]",
      "text/plain": [
       "<Figure size 432x288 with 1 Axes>"
      ]
     },
     "metadata": {
      "needs_background": "light"
     },
     "output_type": "display_data"
    },
    {
     "data": {
      "image/png": "[encoded data removed]",
      "text/plain": [
       "<Figure size 432x288 with 1 Axes>"
      ]
     },
     "metadata": {
      "needs_background": "light"
     },
     "output_type": "display_data"
    }
   ],
   "source": [
    "#Training the ABC_GAN \n",
    "ABC_train_test2.training_GAN(disc,gen,disc_opt,gen_opt,train_data,batch_size,n_epochs,criterion,prior_model,variance,bias,device)"
   ]
  },
  {
   "cell_type": "code",
   "execution_count": 13,
   "id": "1fa7c368",
   "metadata": {
    "execution": {
     "iopub.execute_input": "2022-06-12T05:49:08.542442Z",
     "iopub.status.busy": "2022-06-12T05:49:08.542042Z",
     "iopub.status.idle": "2022-06-12T05:49:08.884636Z",
     "shell.execute_reply": "2022-06-12T05:49:08.884938Z"
    },
    "papermill": {
     "duration": 0.357399,
     "end_time": "2022-06-12T05:49:08.885061",
     "exception": false,
     "start_time": "2022-06-12T05:49:08.527662",
     "status": "completed"
    },
    "tags": []
   },
   "outputs": [
    {
     "data": {
      "application/scrapbook.scrap.json+json": {
       "data": 0.13418376939100526,
       "encoder": "json",
       "name": "ABC-GAN Model 1 MSE",
       "version": 1
      }
     },
     "metadata": {
      "scrapbook": {
       "data": true,
       "display": false,
       "name": "ABC-GAN Model 1 MSE"
      }
     },
     "output_type": "display_data"
    },
    {
     "data": {
      "application/scrapbook.scrap.json+json": {
       "data": 0.22745839434621087,
       "encoder": "json",
       "name": "ABC-GAN Model 1 MAE",
       "version": 1
      }
     },
     "metadata": {
      "scrapbook": {
       "data": true,
       "display": false,
       "name": "ABC-GAN Model 1 MAE"
      }
     },
     "output_type": "display_data"
    },
    {
     "data": {
      "application/scrapbook.scrap.json+json": {
       "data": 23.200756223313512,
       "encoder": "json",
       "name": "ABC-GAN Model 1 Manhattan Distance",
       "version": 1
      }
     },
     "metadata": {
      "scrapbook": {
       "data": true,
       "display": false,
       "name": "ABC-GAN Model 1 Manhattan Distance"
      }
     },
     "output_type": "display_data"
    },
    {
     "data": {
      "application/scrapbook.scrap.json+json": {
       "data": 3.6995426977509323,
       "encoder": "json",
       "name": "ABC-GAN Model 1 Euclidean distance",
       "version": 1
      }
     },
     "metadata": {
      "scrapbook": {
       "data": true,
       "display": false,
       "name": "ABC-GAN Model 1 Euclidean distance"
      }
     },
     "output_type": "display_data"
    },
    {
     "data": {
      "application/scrapbook.scrap.json+json": {
       "data": [
        [
         0.13439956940167005,
         0.13580760197130803,
         0.1336700444370954,
         0.133506932635895,
         0.1352798419374808,
         0.13447722693565184,
         0.1343683933483429,
         0.13491060659999424,
         0.1336560000495147,
         0.13487274278553896,
         0.1338567319612836,
         0.13440737730048796,
         0.13348284548626463,
         0.1345104545376192,
         0.13409065649742855,
         0.13386134732308952,
         0.1336726457828589,
         0.13329908420514458,
         0.13400696308825696,
         0.1341340081527451,
         0.13464628015771132,
         0.13249509687092495,
         0.13398431784180787,
         0.13354563700356908,
         0.13390977877225393,
         0.13378860191780412,
         0.132735722254657,
         0.1341297046399465,
         0.13329460420818373,
         0.1342284550068281,
         0.13333464323518154,
         0.13359443301127777,
         0.1329307378179645,
         0.13430196859214913,
         0.13451348843991964,
         0.13514735712818843,
         0.1351252873424942,
         0.13403097350414095,
         0.13389951825648955,
         0.13392769562789927,
         0.13339449966886727,
         0.1334591983634668,
         0.13374701372340037,
         0.13347318257630006,
         0.13640112294509243,
         0.13391501300896416,
         0.13474597648103803,
         0.13448855164561824,
         0.13631063421177278,
         0.13336839202940498,
         0.13493471777865332,
         0.13389006828063116,
         0.13508202837380548,
         0.13286290926184244,
         0.13502664530479758,
         0.13559081269503076,
         0.132983536899149,
         0.13540717988842219,
         0.13540281072085775,
         0.1341173245954704,
         0.13398793638176296,
         0.13368978451943608,
         0.13421263911375886,
         0.13455560934111455,
         0.1343510089023403,
         0.13441237532168054,
         0.13475466306539483,
         0.13467025742107874,
         0.13472611301547083,
         0.1349316685216904,
         0.1340764843660295,
         0.13479862052884098,
         0.13348169050728081,
         0.13419152066770476,
         0.1353596269076544,
         0.13260910702563708,
         0.134919982352786,
         0.1339788670965673,
         0.13423345099078082,
         0.13458795933324466,
         0.1338051184795158,
         0.1346221507332844,
         0.13557735198442547,
         0.13354152678079145,
         0.13471276160125184,
         0.1331230559118379,
         0.13332454823464632,
         0.13460037200735503,
         0.13418133246813463,
         0.13155812985554693,
         0.13618876755060325,
         0.13415990653049836,
         0.133823626494331,
         0.13358423346678494,
         0.13353997997655961,
         0.13339693577720346,
         0.13459379376119585,
         0.13396661977824395,
         0.13432641760201847,
         0.1347839502063964
        ],
        [
         0.22726689750219092,
         0.22894159383049198,
         0.22795742457988216,
         0.22615856491029263,
         0.22788540540518715,
         0.22835654104311093,
         0.22860360828538737,
         0.22926647055382823,
         0.22752784703876458,
         0.22696063901279487,
         0.22656668415840933,
         0.22789386404203435,
         0.22728706213335195,
         0.2270731075356404,
         0.2276760141054789,
         0.2262023493793665,
         0.22690272455414137,
         0.22686756164858154,
         0.22737618597845236,
         0.22753134263935043,
         0.2271720008084587,
         0.22474066131547385,
         0.22485739354263334,
         0.22738522904760697,
         0.2276103040751289,
         0.2275596429758212,
         0.22693882995814668,
         0.22892095846142255,
         0.2263250148617754,
         0.22776713141915844,
         0.22676350117898456,
         0.2270991137506915,
         0.22686922955600655,
         0.22733695644373988,
         0.22856533490851813,
         0.22828411950054123,
         0.22832176169636204,
         0.22697835547082565,
         0.2261043708114063,
         0.2285541575767246,
         0.2254044209406072,
         0.2274571015481271,
         0.22747359026734734,
         0.22506843134760857,
         0.22950559083883668,
         0.22698717067639032,
         0.22956218351336086,
         0.2278918151323702,
         0.22911541372099342,
         0.22688238508999348,
         0.2285141787108253,
         0.22684446444698408,
         0.22819681407189837,
         0.22493919339396207,
         0.22960010660337468,
         0.22662154775039822,
         0.22803469977396376,
         0.2289269960978452,
         0.22836530716249756,
         0.2274169674617987,
         0.22780727817877836,
         0.22648760676383972,
         0.22760019104416465,
         0.2263733097078169,
         0.2277078638035877,
         0.22597006624381916,
         0.22838836462766515,
         0.2277861471269645,
         0.22968062652530624,
         0.2278778897780998,
         0.22690795007727893,
         0.22898374596501098,
         0.22625433058277064,
         0.22754583011070886,
         0.22754336152152688,
         0.22540282366760805,
         0.22698446407037623,
         0.22698038221136027,
         0.2278699892043483,
         0.2275934045513471,
         0.22793309806900866,
         0.22883566432431632,
         0.2290265372059509,
         0.2273500660324798,
         0.22834663761450963,
         0.22528058535182008,
         0.2266980457466607,
         0.22952535270037605,
         0.227403326434832,
         0.22515872471472798,
         0.22843988645164406,
         0.22625482524288634,
         0.2277652733758384,
         0.22866423165096955,
         0.22717117737321293,
         0.22692643843737303,
         0.22765002056371933,
         0.22656666754069282,
         0.22652865182973592,
         0.2293042639526082
        ],
        [
         23.181223545223475,
         23.352042570710182,
         23.25165730714798,
         23.068173620849848,
         23.244311351329088,
         23.292367186397314,
         23.31756804510951,
         23.38517999649048,
         23.207840397953987,
         23.149985179305077,
         23.109801784157753,
         23.245174132287502,
         23.1832803376019,
         23.16145696863532,
         23.22295343875885,
         23.072639636695385,
         23.14407790452242,
         23.140491288155317,
         23.19237096980214,
         23.208196949213743,
         23.171544082462788,
         22.923547454178333,
         22.9354541413486,
         23.19329336285591,
         23.216251015663147,
         23.211083583533764,
         23.147760655730963,
         23.3499377630651,
         23.08515151590109,
         23.232247404754162,
         23.129877120256424,
         23.164109602570534,
         23.140661414712667,
         23.188369557261467,
         23.31366416066885,
         23.284980189055204,
         23.288819693028927,
         23.151792258024216,
         23.062645822763443,
         23.31252407282591,
         22.991250935941935,
         23.200624357908964,
         23.20230620726943,
         22.956979997456074,
         23.409570265561342,
         23.152691408991814,
         23.41534271836281,
         23.24496514350176,
         23.36977219954133,
         23.142003279179335,
         23.30844622850418,
         23.138135373592377,
         23.276075035333633,
         22.94379772618413,
         23.419210873544216,
         23.11539787054062,
         23.259539376944304,
         23.35055360198021,
         23.29326133057475,
         23.196530681103468,
         23.23634237423539,
         23.10173588991165,
         23.215219486504793,
         23.090077590197325,
         23.226202107965946,
         23.048946756869555,
         23.295613192021847,
         23.23418700695038,
         23.427423905581236,
         23.24354475736618,
         23.144610907882452,
         23.35634208843112,
         23.077941719442606,
         23.209674671292305,
         23.20942287519574,
         22.99108801409602,
         23.152415335178375,
         23.15199898555875,
         23.242738898843527,
         23.214527264237404,
         23.249176003038883,
         23.341237761080265,
         23.36070679500699,
         23.18970673531294,
         23.291357036679983,
         22.97861970588565,
         23.12320066615939,
         23.411585975438356,
         23.195139296352863,
         22.966189920902252,
         23.300868418067694,
         23.07799217477441,
         23.232057884335518,
         23.323751628398895,
         23.17146009206772,
         23.14649672061205,
         23.22030209749937,
         23.109800089150667,
         23.105922486633062,
         23.389034923166037
        ],
        [
         3.702533737722094,
         3.721877940109457,
         3.6924713313150757,
         3.6902177617128897,
         3.7146391315473752,
         3.7036032653939177,
         3.7021042829087047,
         3.709566264834665,
         3.6922773467130683,
         3.7090456675706993,
         3.6950489387897054,
         3.70264128490052,
         3.6898848545176843,
         3.7040607936205845,
         3.6982762150409627,
         3.6951126406315593,
         3.6925072606362743,
         3.6873441104573828,
         3.697121885332184,
         3.698873995093642,
         3.7059304602335095,
         3.676207268481246,
         3.6968094919625485,
         3.6907526297984323,
         3.695781031767155,
         3.6941084710138137,
         3.6795439486402404,
         3.6988146578700785,
         3.687282146681311,
         3.7001759972596533,
         3.6878358979201495,
         3.6914268470539042,
         3.6822459528706637,
         3.701189105733347,
         3.704102566192222,
         3.7128197407193384,
         3.712516573556865,
         3.6974530825180696,
         3.6956394388741347,
         3.696028267484669,
         3.6886635745516916,
         3.689557999689612,
         3.6935342694750832,
         3.6897512955187923,
         3.7300019491146954,
         3.6958532610094705,
         3.7073021998571787,
         3.7037592075961223,
         3.728764499080201,
         3.688302588861075,
         3.7098977362486196,
         3.6955090264568935,
         3.7119222640201066,
         3.681306391039453,
         3.7111612496750053,
         3.7189061422538128,
         3.682977160357255,
         3.716387001997917,
         3.716327043402866,
         3.6986439553893233,
         3.696859411844034,
         3.692743969053701,
         3.6999579983566573,
         3.7046824631530404,
         3.7018647879195576,
         3.702710126760049,
         3.707421696094237,
         3.7062604140764353,
         3.7070289353575356,
         3.70985581784689,
         3.698080773230218,
         3.708026334041032,
         3.6898688908608452,
         3.6996668915060296,
         3.715734374868681,
         3.6777885905275984,
         3.7096951626763306,
         3.696734294461784,
         3.7002448569060453,
         3.705127778092269,
         3.6943364877756615,
         3.705598382824967,
         3.718721541391799,
         3.690695832988777,
         3.706845246746576,
         3.684908642423509,
         3.687696289004007,
         3.7052986309810727,
         3.699526444256039,
         3.663185668958889,
         3.727097300871219,
         3.699231064168719,
         3.69459198050634,
         3.691285929538927,
         3.6906744583624658,
         3.6886972563866975,
         3.7052080864159267,
         3.6965653270814625,
         3.701525981997949,
         3.7078245537042918
        ]
       ],
       "encoder": "json",
       "name": "ABC_GAN_1 Metrics",
       "version": 1
      }
     },
     "metadata": {
      "scrapbook": {
       "data": true,
       "display": false,
       "name": "ABC_GAN_1 Metrics"
      }
     },
     "output_type": "display_data"
    },
    {
     "name": "stdout",
     "output_type": "stream",
     "text": [
      "MSE\n",
      "0.13418376939100526\n"
     ]
    }
   ],
   "source": [
    "ABC_GAN1_metrics=ABC_train_test2.test_generator(gen,test_data,prior_model,variance,bias,\"1\",device)\n",
    "sb.glue(\"ABC_GAN_1 Metrics\",ABC_GAN1_metrics)\n",
    "\n",
    "print(\"MSE\")\n",
    "print(mean(ABC_GAN1_metrics[0]))"
   ]
  },
  {
   "cell_type": "code",
   "execution_count": 14,
   "id": "eb22ce5c",
   "metadata": {
    "execution": {
     "iopub.execute_input": "2022-06-12T05:49:08.919951Z",
     "iopub.status.busy": "2022-06-12T05:49:08.918879Z",
     "iopub.status.idle": "2022-06-12T05:49:09.278255Z",
     "shell.execute_reply": "2022-06-12T05:49:09.278515Z"
    },
    "papermill": {
     "duration": 0.37822,
     "end_time": "2022-06-12T05:49:09.278640",
     "exception": false,
     "start_time": "2022-06-12T05:49:08.900420",
     "status": "completed"
    },
    "tags": []
   },
   "outputs": [
    {
     "data": {
      "image/png": "[encoded data removed]",
      "text/plain": [
       "<Figure size 432x288 with 1 Axes>"
      ]
     },
     "metadata": {
      "needs_background": "light"
     },
     "output_type": "display_data"
    },
    {
     "data": {
      "image/png": "[encoded data removed]",
      "text/plain": [
       "<Figure size 432x288 with 1 Axes>"
      ]
     },
     "metadata": {
      "needs_background": "light"
     },
     "output_type": "display_data"
    },
    {
     "data": {
      "image/png": "[encoded data removed]",
      "text/plain": [
       "<Figure size 432x288 with 1 Axes>"
      ]
     },
     "metadata": {
      "needs_background": "light"
     },
     "output_type": "display_data"
    },
    {
     "data": {
      "image/png": "[encoded data removed]",
      "text/plain": [
       "<Figure size 432x288 with 1 Axes>"
      ]
     },
     "metadata": {
      "needs_background": "light"
     },
     "output_type": "display_data"
    }
   ],
   "source": [
    "sanityChecks.discProbVsError(train_data,disc,device)\n",
    "sanityChecks.discProbVsError(test_data,disc,device)"
   ]
  },
  {
   "cell_type": "markdown",
   "id": "130f3a4d",
   "metadata": {
    "id": "130f3a4d",
    "papermill": {
     "duration": 0.015775,
     "end_time": "2022-06-12T05:49:09.310469",
     "exception": false,
     "start_time": "2022-06-12T05:49:09.294694",
     "status": "completed"
    },
    "tags": []
   },
   "source": [
    "# ABC - GAN Model with skip connection"
   ]
  },
  {
   "cell_type": "code",
   "execution_count": 15,
   "id": "4e43dad1",
   "metadata": {
    "execution": {
     "iopub.execute_input": "2022-06-12T05:49:09.345511Z",
     "iopub.status.busy": "2022-06-12T05:49:09.345118Z",
     "iopub.status.idle": "2022-06-12T05:49:09.347465Z",
     "shell.execute_reply": "2022-06-12T05:49:09.347727Z"
    },
    "id": "4e43dad1",
    "papermill": {
     "duration": 0.021528,
     "end_time": "2022-06-12T05:49:09.347853",
     "exception": false,
     "start_time": "2022-06-12T05:49:09.326325",
     "status": "completed"
    },
    "tags": []
   },
   "outputs": [],
   "source": [
    "#Generator\n",
    "gen3 = network.GeneratorWithSkipConnection(n_features+1).to(device)\n",
    "constraints=network.weightConstraint()\n",
    "#Discriminator \n",
    "disc3 = network.Discriminator(n_features+1).to(device)\n",
    "\n",
    "criterion = torch.nn.BCELoss()\n",
    "gen_opt = torch.optim.Adam(gen3.parameters(), lr=0.001, betas=(0.5, 0.999))\n",
    "disc_opt = torch.optim.Adam(disc3.parameters(), lr=0.001, betas=(0.5, 0.999))\n"
   ]
  },
  {
   "cell_type": "code",
   "execution_count": 16,
   "id": "26acbc37",
   "metadata": {
    "execution": {
     "iopub.execute_input": "2022-06-12T05:49:09.387246Z",
     "iopub.status.busy": "2022-06-12T05:49:09.386175Z",
     "iopub.status.idle": "2022-06-12T05:52:19.107053Z",
     "shell.execute_reply": "2022-06-12T05:52:19.107395Z"
    },
    "id": "26acbc37",
    "papermill": {
     "duration": 189.741654,
     "end_time": "2022-06-12T05:52:19.107580",
     "exception": false,
     "start_time": "2022-06-12T05:49:09.365926",
     "status": "completed"
    },
    "tags": []
   },
   "outputs": [
    {
     "data": {
      "image/png": "[encoded data removed]",
      "text/plain": [
       "<Figure size 432x288 with 1 Axes>"
      ]
     },
     "metadata": {
      "needs_background": "light"
     },
     "output_type": "display_data"
    },
    {
     "data": {
      "image/png": "[encoded data removed]",
      "text/plain": [
       "<Figure size 432x288 with 1 Axes>"
      ]
     },
     "metadata": {
      "needs_background": "light"
     },
     "output_type": "display_data"
    }
   ],
   "source": [
    "ABC_train_test2.training_GAN_skip_connection(disc3,gen3,disc_opt,gen_opt,train_data,batch_size,n_epochs,criterion,prior_model,variance,bias,device)"
   ]
  },
  {
   "cell_type": "code",
   "execution_count": 17,
   "id": "c5e0717b",
   "metadata": {
    "execution": {
     "iopub.execute_input": "2022-06-12T05:52:19.144713Z",
     "iopub.status.busy": "2022-06-12T05:52:19.144234Z",
     "iopub.status.idle": "2022-06-12T05:52:20.003683Z",
     "shell.execute_reply": "2022-06-12T05:52:20.003938Z"
    },
    "id": "c5e0717b",
    "papermill": {
     "duration": 0.880124,
     "end_time": "2022-06-12T05:52:20.004061",
     "exception": false,
     "start_time": "2022-06-12T05:52:19.123937",
     "status": "completed"
    },
    "tags": []
   },
   "outputs": [
    {
     "data": {
      "application/scrapbook.scrap.json+json": {
       "data": 0.11475667233742887,
       "encoder": "json",
       "name": "ABC-GAN Model 3 MSE",
       "version": 1
      }
     },
     "metadata": {
      "scrapbook": {
       "data": true,
       "display": false,
       "name": "ABC-GAN Model 3 MSE"
      }
     },
     "output_type": "display_data"
    },
    {
     "data": {
      "application/scrapbook.scrap.json+json": {
       "data": 0.22436922962430353,
       "encoder": "json",
       "name": "ABC-GAN Model 3 MAE",
       "version": 1
      }
     },
     "metadata": {
      "scrapbook": {
       "data": true,
       "display": false,
       "name": "ABC-GAN Model 3 MAE"
      }
     },
     "output_type": "display_data"
    },
    {
     "data": {
      "application/scrapbook.scrap.json+json": {
       "data": 22.88566142167896,
       "encoder": "json",
       "name": "ABC-GAN Model 3 Manhattan Distance",
       "version": 1
      }
     },
     "metadata": {
      "scrapbook": {
       "data": true,
       "display": false,
       "name": "ABC-GAN Model 3 Manhattan Distance"
      }
     },
     "output_type": "display_data"
    },
    {
     "data": {
      "application/scrapbook.scrap.json+json": {
       "data": 3.4212634605261947,
       "encoder": "json",
       "name": "ABC-GAN Model 3 Euclidean distance",
       "version": 1
      }
     },
     "metadata": {
      "scrapbook": {
       "data": true,
       "display": false,
       "name": "ABC-GAN Model 3 Euclidean distance"
      }
     },
     "output_type": "display_data"
    },
    {
     "data": {
      "application/scrapbook.scrap.json+json": {
       "data": [
        [
         0.1143626875950869,
         0.11458335247036094,
         0.11549095533593279,
         0.11376811678269742,
         0.11588812414389141,
         0.11465395991805591,
         0.11401611311494508,
         0.1158477888006879,
         0.11494637353033435,
         0.11397642331472545,
         0.11527414462013022,
         0.11583579587292013,
         0.11545310228770635,
         0.11538544842655604,
         0.11491124217426385,
         0.11414242203326694,
         0.11471707612527647,
         0.11498491544345822,
         0.114860096611613,
         0.11460383373206713,
         0.11623351048653544,
         0.11554437099674587,
         0.1152379144134795,
         0.11487997756981652,
         0.1134184261513526,
         0.1148866875249122,
         0.11451821115878438,
         0.11336221900647214,
         0.11386703465247189,
         0.11491704462707839,
         0.11497391278268335,
         0.11435205399676927,
         0.11525270926691351,
         0.11401666673113357,
         0.11409366764424501,
         0.11428372583991193,
         0.11481367407921785,
         0.11364767009379838,
         0.11546833619653565,
         0.11418361983831028,
         0.11760829928488814,
         0.11384060150370659,
         0.11385078512125964,
         0.1150407962304937,
         0.11593235234646967,
         0.11519472112808572,
         0.11343748871389019,
         0.11527006552178772,
         0.11558123848945047,
         0.11527302349120463,
         0.11413286702880128,
         0.11506997040407671,
         0.11491876108320824,
         0.1160644203119002,
         0.11542632017148713,
         0.11420929119161188,
         0.1149458569768265,
         0.11448875328109362,
         0.11463622338765656,
         0.11366332927113536,
         0.11281444121053737,
         0.11489441245517566,
         0.11392484391038332,
         0.11440339976221907,
         0.11454093456038202,
         0.11462839746784675,
         0.11443276761108055,
         0.11463802117952926,
         0.11368766722683057,
         0.11618541770877118,
         0.11548881036547254,
         0.11547575748535295,
         0.11517554227229972,
         0.1146868641285894,
         0.11306135886894197,
         0.11526933673892226,
         0.1151347702048334,
         0.11535959355335391,
         0.11457601200974661,
         0.11413003646150316,
         0.11459040228803717,
         0.11515809316607954,
         0.11454911456168981,
         0.11362720750516629,
         0.11361533904238798,
         0.11549080799766294,
         0.11451808338865414,
         0.11431012317456508,
         0.11460676510014126,
         0.1147608200040823,
         0.11393499374222509,
         0.11621299816898617,
         0.11583938170618203,
         0.11427387910816758,
         0.11558317094172375,
         0.11487460350499344,
         0.11493204307128864,
         0.11569456105654428,
         0.1142218161248715,
         0.11412607457748722
        ],
        [
         0.22513513643221528,
         0.22325224907813118,
         0.2247716817712667,
         0.2243133746087551,
         0.2249972852421742,
         0.2240458647263985,
         0.22236961429463883,
         0.22512229479045845,
         0.22399720027312345,
         0.22458277167934998,
         0.22583862269918123,
         0.225590644477337,
         0.22454983485387822,
         0.2250843246412628,
         0.22492757509006003,
         0.22411523065438457,
         0.22547756920696474,
         0.22400375430052186,
         0.22472231297333742,
         0.22435790227324354,
         0.22574553065294145,
         0.2251901556829027,
         0.22633382875253172,
         0.22490179133327567,
         0.2222690005220619,
         0.2224009975279663,
         0.22434163769232293,
         0.2218149361547594,
         0.22339354548603296,
         0.22499662917107344,
         0.2240866879183872,
         0.2246216180204761,
         0.2236789029602911,
         0.22417976210514703,
         0.22284142990760944,
         0.22377325076719418,
         0.22492180776544937,
         0.22363142694766616,
         0.22468489079790957,
         0.22367674979728228,
         0.22836068318243705,
         0.2235205358661273,
         0.2245880932382801,
         0.22500854204682744,
         0.22714341707600683,
         0.22458310160493733,
         0.2210196780369562,
         0.22505239379939204,
         0.22537150033110498,
         0.22504323815890387,
         0.22462139673092785,
         0.2252820705374082,
         0.22385547980300935,
         0.22645613274482243,
         0.22496931353474364,
         0.22364173493548936,
         0.22494403347738234,
         0.22534509147426077,
         0.22530756551114953,
         0.2217955970314934,
         0.22229452405636216,
         0.22396649478697309,
         0.22432718626862647,
         0.22457452719191126,
         0.22460218570103832,
         0.22419621344363572,
         0.22462937116221177,
         0.2228189851066061,
         0.22159488014329007,
         0.22487005604175375,
         0.22363931075761131,
         0.22611660276557885,
         0.2247861551814804,
         0.2244343636009623,
         0.22237465581765362,
         0.2259017509390034,
         0.22423346967016364,
         0.2255227111791279,
         0.22273162273945762,
         0.223936658316091,
         0.22382172153276556,
         0.2239527143355386,
         0.2241459777213487,
         0.2230827713421747,
         0.22202985627832367,
         0.22529746120905175,
         0.22465703333271483,
         0.22396231027246982,
         0.224077018562193,
         0.22341744656510212,
         0.22494468932934836,
         0.2261234980587866,
         0.22460625075972548,
         0.2247554204773669,
         0.2258713534284456,
         0.22364024425327195,
         0.2241477142727258,
         0.22640037693667645,
         0.22373705138178432,
         0.2240509043593763
        ],
        [
         22.96378391608596,
         22.77172940596938,
         22.926711540669203,
         22.87996421009302,
         22.949723094701767,
         22.852678202092648,
         22.68170065805316,
         22.96247406862676,
         22.84771442785859,
         22.907442711293697,
         23.035539515316486,
         23.010245736688375,
         22.904083155095577,
         22.958601113408804,
         22.942612659186125,
         22.859753526747227,
         22.998712059110403,
         22.84838293865323,
         22.921675923280418,
         22.884506031870842,
         23.026044126600027,
         22.969395879656076,
         23.086050532758236,
         22.93998271599412,
         22.671438053250313,
         22.684901747852564,
         22.882847044616938,
         22.62512348778546,
         22.786141639575362,
         22.94965617544949,
         22.856842167675495,
         22.91140503808856,
         22.81524810194969,
         22.866335734725,
         22.729825850576162,
         22.824871578253806,
         22.942024392075837,
         22.810405548661947,
         22.917858861386776,
         22.81502847932279,
         23.29278968460858,
         22.799094658344984,
         22.90798551030457,
         22.950871288776398,
         23.168628541752696,
         22.90747636370361,
         22.544007159769535,
         22.955344167537987,
         22.987893033772707,
         22.954410292208195,
         22.91138246655464,
         22.978771194815636,
         22.833258939906955,
         23.098525539971888,
         22.946869980543852,
         22.811456963419914,
         22.944291414692998,
         22.9851993303746,
         22.98137168213725,
         22.623150897212327,
         22.67404145374894,
         22.844582468271255,
         22.8813729993999,
         22.90660177357495,
         22.90942294150591,
         22.868013771250844,
         22.9121958585456,
         22.727536480873823,
         22.602677774615586,
         22.936745716258883,
         22.811209697276354,
         23.063893482089043,
         22.928187828511,
         22.892305087298155,
         22.68221489340067,
         23.041978595778346,
         22.871813906356692,
         23.003316540271044,
         22.718625519424677,
         22.84153914824128,
         22.829815596342087,
         22.843176862224936,
         22.862889727577567,
         22.754442676901817,
         22.647045340389013,
         22.98034104332328,
         22.915017399936914,
         22.844155647791922,
         22.855855893343687,
         22.788579549640417,
         22.944358311593533,
         23.06459680199623,
         22.909837577492,
         22.925052888691425,
         23.038878049701452,
         22.811304913833737,
         22.863066855818033,
         23.092838447541,
         22.821179240942,
         22.853192244656384
        ],
        [
         3.415405412933999,
         3.4186988682796873,
         3.4322117423412473,
         3.406515508820579,
         3.438108297112952,
         3.4197520248757365,
         3.410226317669312,
         3.4375099211013436,
         3.4241101179860003,
         3.4096327042809165,
         3.4289885901316848,
         3.437331985572219,
         3.4316492293569345,
         3.4306436334176,
         3.423586818203229,
         3.412114747102334,
         3.4206931702183105,
         3.4246841278040137,
         3.422824835480852,
         3.4190043931926803,
         3.443227856187652,
         3.4330053658082265,
         3.4284496890248963,
         3.4231210484178436,
         3.4012761527753024,
         3.423221016461111,
         3.4177269548920965,
         3.4004332574923675,
         3.4079961171562574,
         3.423673254263904,
         3.424520273532294,
         3.4152466247213336,
         3.4286697632208867,
         3.410234596999981,
         3.4113859499788335,
         3.414226125444976,
         3.422133071065504,
         3.4047117865639427,
         3.4318756230444354,
         3.412730464526556,
         3.463530933463507,
         3.407600527259331,
         3.407752937401489,
         3.4255161969417625,
         3.4387643041272695,
         3.4278071058717323,
         3.401561971920664,
         3.4289279203888703,
         3.433553017782592,
         3.4289719153272267,
         3.4119719279234593,
         3.4259505222953557,
         3.4236988229818404,
         3.440722434578793,
         3.4312511795978575,
         3.4131140768430823,
         3.4241024242327067,
         3.4172873503221157,
         3.41948750334622,
         3.4049463410831904,
         3.3922076887293926,
         3.423336102463198,
         3.408861111699786,
         3.416013286822278,
         3.418066021182002,
         3.4193707815503673,
         3.416451711400326,
         3.4195143164361776,
         3.405310860573043,
         3.4425154475026916,
         3.4321798695986483,
         3.4319859066590004,
         3.4275217449017847,
         3.420242702077751,
         3.3959179325525635,
         3.428917080853672,
         3.4269150209617107,
         3.4302592529489804,
         3.4185893618558745,
         3.4119296181300864,
         3.4188040355334484,
         3.427262100123087,
         3.418188070497637,
         3.404405258709215,
         3.4042274574892275,
         3.4322095530083274,
         3.4177250482803205,
         3.414620412843225,
         3.4190481190258795,
         3.421345296870281,
         3.409012960037987,
         3.4429240208341207,
         3.4373851884871103,
         3.4140790367290985,
         3.4335817211850106,
         3.4230409809859608,
         3.423896668018975,
         3.435235832918537,
         3.4133012238501443,
         3.411870397143433
        ]
       ],
       "encoder": "json",
       "name": "ABC_GAN_3 Metrics",
       "version": 1
      }
     },
     "metadata": {
      "scrapbook": {
       "data": true,
       "display": false,
       "name": "ABC_GAN_3 Metrics"
      }
     },
     "output_type": "display_data"
    },
    {
     "name": "stdout",
     "output_type": "stream",
     "text": [
      "MSE\n",
      "0.11475667233742887\n"
     ]
    }
   ],
   "source": [
    "ABC_GAN3_metrics=ABC_train_test2.test_generator(gen3,test_data,prior_model,variance,bias,\"3\",device)\n",
    "sb.glue(\"ABC_GAN_3 Metrics\",ABC_GAN3_metrics)\n",
    "\n",
    "print(\"MSE\")\n",
    "print(mean(ABC_GAN3_metrics[0]))"
   ]
  },
  {
   "cell_type": "code",
   "execution_count": 18,
   "id": "c8e46b48",
   "metadata": {
    "execution": {
     "iopub.execute_input": "2022-06-12T05:52:20.041233Z",
     "iopub.status.busy": "2022-06-12T05:52:20.040831Z",
     "iopub.status.idle": "2022-06-12T05:52:20.387619Z",
     "shell.execute_reply": "2022-06-12T05:52:20.387928Z"
    },
    "id": "c8e46b48",
    "papermill": {
     "duration": 0.366324,
     "end_time": "2022-06-12T05:52:20.388053",
     "exception": false,
     "start_time": "2022-06-12T05:52:20.021729",
     "status": "completed"
    },
    "tags": []
   },
   "outputs": [
    {
     "data": {
      "image/png": "[encoded data removed]",
      "text/plain": [
       "<Figure size 432x288 with 1 Axes>"
      ]
     },
     "metadata": {
      "needs_background": "light"
     },
     "output_type": "display_data"
    },
    {
     "data": {
      "image/png": "[encoded data removed]",
      "text/plain": [
       "<Figure size 432x288 with 1 Axes>"
      ]
     },
     "metadata": {
      "needs_background": "light"
     },
     "output_type": "display_data"
    },
    {
     "data": {
      "image/png": "[encoded data removed]",
      "text/plain": [
       "<Figure size 432x288 with 1 Axes>"
      ]
     },
     "metadata": {
      "needs_background": "light"
     },
     "output_type": "display_data"
    },
    {
     "data": {
      "image/png": "[encoded data removed]",
      "text/plain": [
       "<Figure size 432x288 with 1 Axes>"
      ]
     },
     "metadata": {
      "needs_background": "light"
     },
     "output_type": "display_data"
    }
   ],
   "source": [
    "sanityChecks.discProbVsError(train_data,disc3,device)\n",
    "sanityChecks.discProbVsError(test_data,disc3,device)"
   ]
  },
  {
   "cell_type": "markdown",
   "id": "a5bd74c3",
   "metadata": {
    "id": "a5bd74c3",
    "papermill": {
     "duration": 0.019689,
     "end_time": "2022-06-12T05:52:20.428096",
     "exception": false,
     "start_time": "2022-06-12T05:52:20.408407",
     "status": "completed"
    },
    "tags": []
   },
   "source": [
    "## Skip Connection Model Analysis - ABC-GAN "
   ]
  },
  {
   "cell_type": "markdown",
   "id": "5744a8bf",
   "metadata": {
    "id": "5744a8bf",
    "papermill": {
     "duration": 0.019827,
     "end_time": "2022-06-12T05:52:20.467350",
     "exception": false,
     "start_time": "2022-06-12T05:52:20.447523",
     "status": "completed"
    },
    "tags": []
   },
   "source": [
    "### Weight Analysis \n",
    "\n",
    "Study the weights of the skip connection layer\n",
    "\n",
    "Equation of the skip connection is \n",
    "\n",
    "$output = y_{gan} * w + y_{abc} * (1-w)$"
   ]
  },
  {
   "cell_type": "code",
   "execution_count": 19,
   "id": "52c31dea",
   "metadata": {
    "execution": {
     "iopub.execute_input": "2022-06-12T05:52:20.510373Z",
     "iopub.status.busy": "2022-06-12T05:52:20.509980Z",
     "iopub.status.idle": "2022-06-12T05:52:20.516858Z",
     "shell.execute_reply": "2022-06-12T05:52:20.517116Z"
    },
    "id": "52c31dea",
    "papermill": {
     "duration": 0.030376,
     "end_time": "2022-06-12T05:52:20.517235",
     "exception": false,
     "start_time": "2022-06-12T05:52:20.486859",
     "status": "completed"
    },
    "tags": []
   },
   "outputs": [
    {
     "name": "stdout",
     "output_type": "stream",
     "text": [
      "Weight of the node at skip connection\n",
      "Parameter containing:\n",
      "tensor([[0.0790]], requires_grad=True)\n"
     ]
    },
    {
     "data": {
      "application/scrapbook.scrap.json+json": {
       "data": 0.07899125665426254,
       "encoder": "json",
       "name": "Skip Connection Weight",
       "version": 1
      }
     },
     "metadata": {
      "scrapbook": {
       "data": true,
       "display": false,
       "name": "Skip Connection Weight"
      }
     },
     "output_type": "display_data"
    }
   ],
   "source": [
    "print(\"Weight of the node at skip connection\")\n",
    "for name,param in gen3.named_parameters():\n",
    "    if(name == \"skipNode.weight\"):\n",
    "        print(param)\n",
    "        sb.glue(\"Skip Connection Weight\",param.item())"
   ]
  }
 ],
 "metadata": {
  "colab": {
   "collapsed_sections": [],
   "name": "ABC_GAN_Model-Catboost_Pre-gen.ipynb",
   "provenance": []
  },
  "interpreter": {
   "hash": "31f2aee4e71d21fbe5cf8b01ff0e069b9275f58929596ceb00d14d90e3e16cd6"
  },
  "kernelspec": {
   "display_name": "Python 3 (ipykernel)",
   "language": "python",
   "name": "python3"
  },
  "language_info": {
   "codemirror_mode": {
    "name": "ipython",
    "version": 3
   },
   "file_extension": ".py",
   "mimetype": "text/x-python",
   "name": "python",
   "nbconvert_exporter": "python",
   "pygments_lexer": "ipython3",
   "version": "3.8.11"
  },
  "papermill": {
   "default_parameters": {},
   "duration": 262.2638,
   "end_time": "2022-06-12T05:52:20.950643",
   "environment_variables": {},
   "exception": null,
   "input_path": "ABC_GAN-Catboost.ipynb",
   "output_path": "./ABC_GAN_Catboost/ABC-GAN_output_6_5.ipynb",
   "parameters": {
    "bias": 0.1,
    "variance": 0.01
   },
   "start_time": "2022-06-12T05:47:58.686843",
   "version": "2.3.3"
  }
 },
 "nbformat": 4,
 "nbformat_minor": 5
}