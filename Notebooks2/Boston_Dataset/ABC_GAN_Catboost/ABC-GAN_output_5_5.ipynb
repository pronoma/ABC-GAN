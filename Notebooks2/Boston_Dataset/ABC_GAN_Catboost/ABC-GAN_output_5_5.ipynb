{
 "cells": [
  {
   "cell_type": "markdown",
   "id": "622780e6",
   "metadata": {
    "id": "622780e6",
    "papermill": {
     "duration": 0.011011,
     "end_time": "2022-06-12T05:09:03.766993",
     "exception": false,
     "start_time": "2022-06-12T05:09:03.755982",
     "status": "completed"
    },
    "tags": []
   },
   "source": [
    "## Import Libraries "
   ]
  },
  {
   "cell_type": "code",
   "execution_count": 1,
   "id": "a62397e3",
   "metadata": {
    "execution": {
     "iopub.execute_input": "2022-06-12T05:09:03.790237Z",
     "iopub.status.busy": "2022-06-12T05:09:03.789755Z",
     "iopub.status.idle": "2022-06-12T05:09:03.791801Z",
     "shell.execute_reply": "2022-06-12T05:09:03.792067Z"
    },
    "id": "a62397e3",
    "papermill": {
     "duration": 0.016154,
     "end_time": "2022-06-12T05:09:03.792233",
     "exception": false,
     "start_time": "2022-06-12T05:09:03.776079",
     "status": "completed"
    },
    "tags": []
   },
   "outputs": [],
   "source": [
    "import warnings\n",
    "import sys\n",
    "sys.path.insert(0, '../../src')\n",
    "warnings.filterwarnings('ignore')"
   ]
  },
  {
   "cell_type": "code",
   "execution_count": 2,
   "id": "d6a4e155",
   "metadata": {
    "execution": {
     "iopub.execute_input": "2022-06-12T05:09:03.809823Z",
     "iopub.status.busy": "2022-06-12T05:09:03.809379Z",
     "iopub.status.idle": "2022-06-12T05:09:05.402330Z",
     "shell.execute_reply": "2022-06-12T05:09:05.402589Z"
    },
    "id": "d6a4e155",
    "papermill": {
     "duration": 1.602888,
     "end_time": "2022-06-12T05:09:05.402713",
     "exception": false,
     "start_time": "2022-06-12T05:09:03.799825",
     "status": "completed"
    },
    "tags": []
   },
   "outputs": [],
   "source": [
    "import ABC_train_test2\n",
    "import bostonDataset\n",
    "import network\n",
    "import dataset\n",
    "import sanityChecks\n",
    "import torch \n",
    "import scrapbook as sb\n",
    "from statistics import mean \n",
    "import catboost as ctb \n",
    "from sklearn.model_selection import train_test_split\n",
    "from sklearn.metrics import mean_squared_error,mean_absolute_error\n",
    "import numpy as np"
   ]
  },
  {
   "cell_type": "markdown",
   "id": "2fa5b0f7",
   "metadata": {
    "id": "2fa5b0f7",
    "papermill": {
     "duration": 0.006749,
     "end_time": "2022-06-12T05:09:05.416667",
     "exception": false,
     "start_time": "2022-06-12T05:09:05.409918",
     "status": "completed"
    },
    "tags": []
   },
   "source": [
    "## Parameters "
   ]
  },
  {
   "cell_type": "code",
   "execution_count": 3,
   "id": "783186fb",
   "metadata": {
    "execution": {
     "iopub.execute_input": "2022-06-12T05:09:05.432461Z",
     "iopub.status.busy": "2022-06-12T05:09:05.432087Z",
     "iopub.status.idle": "2022-06-12T05:09:05.433334Z",
     "shell.execute_reply": "2022-06-12T05:09:05.433569Z"
    },
    "id": "783186fb",
    "papermill": {
     "duration": 0.010251,
     "end_time": "2022-06-12T05:09:05.433676",
     "exception": false,
     "start_time": "2022-06-12T05:09:05.423425",
     "status": "completed"
    },
    "tags": [
     "parameters"
    ]
   },
   "outputs": [],
   "source": [
    "variance = 1\n",
    "bias = 1 "
   ]
  },
  {
   "cell_type": "code",
   "execution_count": 4,
   "id": "25705ef9",
   "metadata": {
    "execution": {
     "iopub.execute_input": "2022-06-12T05:09:05.449321Z",
     "iopub.status.busy": "2022-06-12T05:09:05.448944Z",
     "iopub.status.idle": "2022-06-12T05:09:05.450180Z",
     "shell.execute_reply": "2022-06-12T05:09:05.450425Z"
    },
    "papermill": {
     "duration": 0.00995,
     "end_time": "2022-06-12T05:09:05.450528",
     "exception": false,
     "start_time": "2022-06-12T05:09:05.440578",
     "status": "completed"
    },
    "tags": [
     "injected-parameters"
    ]
   },
   "outputs": [],
   "source": [
    "# Parameters\n",
    "variance = 0.01\n",
    "bias = 0.1\n"
   ]
  },
  {
   "cell_type": "markdown",
   "id": "391cdbfd",
   "metadata": {
    "id": "391cdbfd",
    "papermill": {
     "duration": 0.006752,
     "end_time": "2022-06-12T05:09:05.464103",
     "exception": false,
     "start_time": "2022-06-12T05:09:05.457351",
     "status": "completed"
    },
    "tags": []
   },
   "source": [
    "## Dataset \n"
   ]
  },
  {
   "cell_type": "code",
   "execution_count": 5,
   "id": "5b51f161",
   "metadata": {
    "execution": {
     "iopub.execute_input": "2022-06-12T05:09:05.479697Z",
     "iopub.status.busy": "2022-06-12T05:09:05.479304Z",
     "iopub.status.idle": "2022-06-12T05:09:05.480575Z",
     "shell.execute_reply": "2022-06-12T05:09:05.480807Z"
    },
    "id": "5b51f161",
    "papermill": {
     "duration": 0.009973,
     "end_time": "2022-06-12T05:09:05.480909",
     "exception": false,
     "start_time": "2022-06-12T05:09:05.470936",
     "status": "completed"
    },
    "tags": []
   },
   "outputs": [],
   "source": [
    "#Parameters \n",
    "n_features = 13\n",
    "n_samples= 506\n",
    "n_target = 1 "
   ]
  },
  {
   "cell_type": "code",
   "execution_count": 6,
   "id": "5d6eced4",
   "metadata": {
    "execution": {
     "iopub.execute_input": "2022-06-12T05:09:05.496576Z",
     "iopub.status.busy": "2022-06-12T05:09:05.496226Z",
     "iopub.status.idle": "2022-06-12T05:09:05.506210Z",
     "shell.execute_reply": "2022-06-12T05:09:05.506447Z"
    },
    "id": "5d6eced4",
    "papermill": {
     "duration": 0.018765,
     "end_time": "2022-06-12T05:09:05.506558",
     "exception": false,
     "start_time": "2022-06-12T05:09:05.487793",
     "status": "completed"
    },
    "tags": []
   },
   "outputs": [
    {
     "name": "stdout",
     "output_type": "stream",
     "text": [
      "         X1        X2        X3        X4        X5        X6        X7  \\\n",
      "0 -0.419782  0.284830 -1.287909 -0.272599 -0.144217  0.413672 -0.120013   \n",
      "1 -0.417339 -0.487722 -0.593381 -0.272599 -0.740262  0.194274  0.367166   \n",
      "2 -0.417342 -0.487722 -0.593381 -0.272599 -0.740262  1.282714 -0.265812   \n",
      "3 -0.416750 -0.487722 -1.306878 -0.272599 -0.835284  1.016303 -0.809889   \n",
      "4 -0.412482 -0.487722 -1.306878 -0.272599 -0.835284  1.228577 -0.511180   \n",
      "\n",
      "         X8        X9       X10       X11       X12       X13         Y  \n",
      "0  0.140214 -0.982843 -0.666608 -1.459000  0.441052 -1.075562  0.159686  \n",
      "1  0.557160 -0.867883 -0.987329 -0.303094  0.441052 -0.492439 -0.101524  \n",
      "2  0.557160 -0.867883 -0.987329 -0.303094  0.396427 -1.208727  1.324247  \n",
      "3  1.077737 -0.752922 -1.106115  0.113032  0.416163 -1.361517  1.182758  \n",
      "4  1.077737 -0.752922 -1.106115  0.113032  0.441052 -1.026501  1.487503  \n"
     ]
    }
   ],
   "source": [
    "X,Y = bostonDataset.boston_data()"
   ]
  },
  {
   "cell_type": "code",
   "execution_count": 7,
   "id": "fe007438",
   "metadata": {
    "execution": {
     "iopub.execute_input": "2022-06-12T05:09:05.523570Z",
     "iopub.status.busy": "2022-06-12T05:09:05.523185Z",
     "iopub.status.idle": "2022-06-12T05:09:05.524679Z",
     "shell.execute_reply": "2022-06-12T05:09:05.524924Z"
    },
    "id": "fe007438",
    "papermill": {
     "duration": 0.011194,
     "end_time": "2022-06-12T05:09:05.525031",
     "exception": false,
     "start_time": "2022-06-12T05:09:05.513837",
     "status": "completed"
    },
    "tags": []
   },
   "outputs": [],
   "source": [
    "#Train test split for dataset \n",
    "X_train,X_test,Y_train,Y_test = train_test_split(X,Y,test_size = 0.2)\n",
    "train_data = dataset.CustomDataset(X_train,Y_train)\n",
    "test_data = dataset.CustomDataset(X_test,Y_test)\n"
   ]
  },
  {
   "cell_type": "markdown",
   "id": "a9a1af34",
   "metadata": {
    "id": "a9a1af34",
    "papermill": {
     "duration": 0.007081,
     "end_time": "2022-06-12T05:09:05.539292",
     "exception": false,
     "start_time": "2022-06-12T05:09:05.532211",
     "status": "completed"
    },
    "tags": []
   },
   "source": [
    "## Training Parameters "
   ]
  },
  {
   "cell_type": "code",
   "execution_count": 8,
   "id": "952b7fc8",
   "metadata": {
    "execution": {
     "iopub.execute_input": "2022-06-12T05:09:05.555672Z",
     "iopub.status.busy": "2022-06-12T05:09:05.555317Z",
     "iopub.status.idle": "2022-06-12T05:09:05.556623Z",
     "shell.execute_reply": "2022-06-12T05:09:05.556874Z"
    },
    "id": "952b7fc8",
    "papermill": {
     "duration": 0.010588,
     "end_time": "2022-06-12T05:09:05.556977",
     "exception": false,
     "start_time": "2022-06-12T05:09:05.546389",
     "status": "completed"
    },
    "tags": []
   },
   "outputs": [],
   "source": [
    "batch_size = 32\n",
    "n_epochs = 1000\n",
    "#Select the device \n",
    "device = torch.device('cuda' if torch.cuda.is_available() else 'cpu')"
   ]
  },
  {
   "cell_type": "markdown",
   "id": "a95e1600",
   "metadata": {
    "id": "a95e1600",
    "papermill": {
     "duration": 0.007019,
     "end_time": "2022-06-12T05:09:05.571144",
     "exception": false,
     "start_time": "2022-06-12T05:09:05.564125",
     "status": "completed"
    },
    "tags": []
   },
   "source": [
    "# ABC Pre-generator Model \n",
    "\n",
    "1. The catboost model is used as a pre-generator model for the ABC-GAN. \n",
    "2. The model is first trained on the entire dataset \n",
    "3. It generats X,Y pairs and we add some Gaussian noise with mean 0 and variance 1 to it which is then feed as input to the generator.\n"
   ]
  },
  {
   "cell_type": "code",
   "execution_count": 9,
   "id": "ff8ce7bd",
   "metadata": {
    "execution": {
     "iopub.execute_input": "2022-06-12T05:09:05.589969Z",
     "iopub.status.busy": "2022-06-12T05:09:05.589592Z",
     "iopub.status.idle": "2022-06-12T05:09:06.603363Z",
     "shell.execute_reply": "2022-06-12T05:09:06.603674Z"
    },
    "id": "ff8ce7bd",
    "papermill": {
     "duration": 1.025521,
     "end_time": "2022-06-12T05:09:06.603798",
     "exception": false,
     "start_time": "2022-06-12T05:09:05.578277",
     "status": "completed"
    },
    "tags": []
   },
   "outputs": [
    {
     "name": "stdout",
     "output_type": "stream",
     "text": [
      "Learning rate set to 0.033215\n",
      "0:\tlearn: 1.0225216\ttotal: 58.8ms\tremaining: 58.7s\n",
      "1:\tlearn: 1.0047312\ttotal: 59.9ms\tremaining: 29.9s\n",
      "2:\tlearn: 0.9854151\ttotal: 61ms\tremaining: 20.3s\n",
      "3:\tlearn: 0.9681522\ttotal: 62.2ms\tremaining: 15.5s\n",
      "4:\tlearn: 0.9482066\ttotal: 63.2ms\tremaining: 12.6s\n",
      "5:\tlearn: 0.9299384\ttotal: 64.2ms\tremaining: 10.6s\n",
      "6:\tlearn: 0.9131789\ttotal: 65.1ms\tremaining: 9.24s\n",
      "7:\tlearn: 0.8961642\ttotal: 66.1ms\tremaining: 8.2s\n",
      "8:\tlearn: 0.8799587\ttotal: 67ms\tremaining: 7.38s\n",
      "9:\tlearn: 0.8627363\ttotal: 68ms\tremaining: 6.73s\n",
      "10:\tlearn: 0.8486832\ttotal: 69ms\tremaining: 6.2s\n",
      "11:\tlearn: 0.8328132\ttotal: 70ms\tremaining: 5.76s\n",
      "12:\tlearn: 0.8172031\ttotal: 70.9ms\tremaining: 5.38s\n",
      "13:\tlearn: 0.8015084\ttotal: 71.9ms\tremaining: 5.06s\n",
      "14:\tlearn: 0.7870225\ttotal: 72.8ms\tremaining: 4.78s\n",
      "15:\tlearn: 0.7745289\ttotal: 73.8ms\tremaining: 4.54s\n",
      "16:\tlearn: 0.7610661\ttotal: 74.8ms\tremaining: 4.33s\n",
      "17:\tlearn: 0.7475321\ttotal: 75.7ms\tremaining: 4.13s\n",
      "18:\tlearn: 0.7345804\ttotal: 76.6ms\tremaining: 3.96s\n",
      "19:\tlearn: 0.7202816\ttotal: 77.4ms\tremaining: 3.79s\n",
      "20:\tlearn: 0.7071608\ttotal: 78.2ms\tremaining: 3.65s\n",
      "21:\tlearn: 0.6970731\ttotal: 79ms\tremaining: 3.51s\n",
      "22:\tlearn: 0.6843635\ttotal: 79.9ms\tremaining: 3.39s\n",
      "23:\tlearn: 0.6738078\ttotal: 80.9ms\tremaining: 3.29s\n",
      "24:\tlearn: 0.6635011\ttotal: 81.7ms\tremaining: 3.19s\n",
      "25:\tlearn: 0.6538293\ttotal: 82.5ms\tremaining: 3.09s\n",
      "26:\tlearn: 0.6436032\ttotal: 83.3ms\tremaining: 3s\n",
      "27:\tlearn: 0.6343693\ttotal: 84.2ms\tremaining: 2.92s\n",
      "28:\tlearn: 0.6252545\ttotal: 85ms\tremaining: 2.85s\n",
      "29:\tlearn: 0.6142856\ttotal: 85.8ms\tremaining: 2.77s\n",
      "30:\tlearn: 0.6044823\ttotal: 86.6ms\tremaining: 2.71s\n",
      "31:\tlearn: 0.5965140\ttotal: 87.5ms\tremaining: 2.65s\n",
      "32:\tlearn: 0.5891557\ttotal: 88.4ms\tremaining: 2.59s\n",
      "33:\tlearn: 0.5814990\ttotal: 89.2ms\tremaining: 2.53s\n",
      "34:\tlearn: 0.5730151\ttotal: 90ms\tremaining: 2.48s\n",
      "35:\tlearn: 0.5651384\ttotal: 91ms\tremaining: 2.44s\n",
      "36:\tlearn: 0.5579240\ttotal: 91.8ms\tremaining: 2.39s\n",
      "37:\tlearn: 0.5505383\ttotal: 92.6ms\tremaining: 2.34s\n",
      "38:\tlearn: 0.5426457\ttotal: 93.4ms\tremaining: 2.3s\n",
      "39:\tlearn: 0.5341353\ttotal: 94.3ms\tremaining: 2.26s\n",
      "40:\tlearn: 0.5275190\ttotal: 95.1ms\tremaining: 2.22s\n",
      "41:\tlearn: 0.5200860\ttotal: 95.8ms\tremaining: 2.18s\n",
      "42:\tlearn: 0.5147280\ttotal: 96.6ms\tremaining: 2.15s\n",
      "43:\tlearn: 0.5073366\ttotal: 97.3ms\tremaining: 2.11s\n",
      "44:\tlearn: 0.5011538\ttotal: 98.1ms\tremaining: 2.08s\n",
      "45:\tlearn: 0.4949670\ttotal: 98.8ms\tremaining: 2.05s\n",
      "46:\tlearn: 0.4898345\ttotal: 99.7ms\tremaining: 2.02s\n",
      "47:\tlearn: 0.4837370\ttotal: 100ms\tremaining: 1.99s\n",
      "48:\tlearn: 0.4782939\ttotal: 101ms\tremaining: 1.97s\n",
      "49:\tlearn: 0.4731017\ttotal: 102ms\tremaining: 1.94s\n",
      "50:\tlearn: 0.4672691\ttotal: 103ms\tremaining: 1.91s\n",
      "51:\tlearn: 0.4628021\ttotal: 104ms\tremaining: 1.89s\n",
      "52:\tlearn: 0.4576385\ttotal: 105ms\tremaining: 1.87s\n",
      "53:\tlearn: 0.4536887\ttotal: 105ms\tremaining: 1.84s\n",
      "54:\tlearn: 0.4486801\ttotal: 106ms\tremaining: 1.82s\n",
      "55:\tlearn: 0.4447345\ttotal: 107ms\tremaining: 1.8s\n",
      "56:\tlearn: 0.4395513\ttotal: 107ms\tremaining: 1.78s\n",
      "57:\tlearn: 0.4345473\ttotal: 108ms\tremaining: 1.76s\n"
     ]
    },
    {
     "name": "stdout",
     "output_type": "stream",
     "text": [
      "58:\tlearn: 0.4307057\ttotal: 109ms\tremaining: 1.74s\n",
      "59:\tlearn: 0.4257568\ttotal: 110ms\tremaining: 1.73s\n",
      "60:\tlearn: 0.4217817\ttotal: 111ms\tremaining: 1.71s\n",
      "61:\tlearn: 0.4187891\ttotal: 112ms\tremaining: 1.69s\n",
      "62:\tlearn: 0.4159641\ttotal: 113ms\tremaining: 1.68s\n",
      "63:\tlearn: 0.4119544\ttotal: 114ms\tremaining: 1.66s\n",
      "64:\tlearn: 0.4082733\ttotal: 115ms\tremaining: 1.65s\n",
      "65:\tlearn: 0.4053063\ttotal: 116ms\tremaining: 1.64s\n",
      "66:\tlearn: 0.4013301\ttotal: 117ms\tremaining: 1.62s\n",
      "67:\tlearn: 0.3989484\ttotal: 117ms\tremaining: 1.61s\n",
      "68:\tlearn: 0.3953220\ttotal: 118ms\tremaining: 1.6s\n",
      "69:\tlearn: 0.3926292\ttotal: 119ms\tremaining: 1.59s\n",
      "70:\tlearn: 0.3889208\ttotal: 120ms\tremaining: 1.57s\n",
      "71:\tlearn: 0.3853910\ttotal: 121ms\tremaining: 1.56s\n",
      "72:\tlearn: 0.3827452\ttotal: 122ms\tremaining: 1.55s\n",
      "73:\tlearn: 0.3796760\ttotal: 123ms\tremaining: 1.54s\n",
      "74:\tlearn: 0.3760838\ttotal: 124ms\tremaining: 1.53s\n",
      "75:\tlearn: 0.3723664\ttotal: 125ms\tremaining: 1.52s\n",
      "76:\tlearn: 0.3684887\ttotal: 126ms\tremaining: 1.51s\n",
      "77:\tlearn: 0.3660290\ttotal: 127ms\tremaining: 1.5s\n",
      "78:\tlearn: 0.3638485\ttotal: 127ms\tremaining: 1.49s\n",
      "79:\tlearn: 0.3619423\ttotal: 128ms\tremaining: 1.48s\n",
      "80:\tlearn: 0.3594331\ttotal: 129ms\tremaining: 1.47s\n",
      "81:\tlearn: 0.3561114\ttotal: 130ms\tremaining: 1.46s\n",
      "82:\tlearn: 0.3543247\ttotal: 131ms\tremaining: 1.45s\n",
      "83:\tlearn: 0.3520567\ttotal: 132ms\tremaining: 1.44s\n",
      "84:\tlearn: 0.3494506\ttotal: 133ms\tremaining: 1.43s\n",
      "85:\tlearn: 0.3467579\ttotal: 134ms\tremaining: 1.42s\n",
      "86:\tlearn: 0.3442472\ttotal: 135ms\tremaining: 1.42s\n",
      "87:\tlearn: 0.3419503\ttotal: 136ms\tremaining: 1.41s\n",
      "88:\tlearn: 0.3393967\ttotal: 136ms\tremaining: 1.4s\n",
      "89:\tlearn: 0.3372465\ttotal: 137ms\tremaining: 1.39s\n",
      "90:\tlearn: 0.3346663\ttotal: 138ms\tremaining: 1.38s\n",
      "91:\tlearn: 0.3325428\ttotal: 139ms\tremaining: 1.37s\n",
      "92:\tlearn: 0.3309176\ttotal: 140ms\tremaining: 1.36s\n",
      "93:\tlearn: 0.3287191\ttotal: 141ms\tremaining: 1.36s\n",
      "94:\tlearn: 0.3269744\ttotal: 142ms\tremaining: 1.35s\n",
      "95:\tlearn: 0.3251493\ttotal: 142ms\tremaining: 1.34s\n",
      "96:\tlearn: 0.3236038\ttotal: 143ms\tremaining: 1.33s\n",
      "97:\tlearn: 0.3214997\ttotal: 144ms\tremaining: 1.33s\n",
      "98:\tlearn: 0.3201945\ttotal: 145ms\tremaining: 1.32s\n",
      "99:\tlearn: 0.3183204\ttotal: 146ms\tremaining: 1.31s\n",
      "100:\tlearn: 0.3160745\ttotal: 147ms\tremaining: 1.31s\n",
      "101:\tlearn: 0.3145691\ttotal: 148ms\tremaining: 1.3s\n",
      "102:\tlearn: 0.3130575\ttotal: 149ms\tremaining: 1.29s\n",
      "103:\tlearn: 0.3114789\ttotal: 150ms\tremaining: 1.29s\n",
      "104:\tlearn: 0.3103894\ttotal: 151ms\tremaining: 1.28s\n",
      "105:\tlearn: 0.3088783\ttotal: 151ms\tremaining: 1.28s\n",
      "106:\tlearn: 0.3069577\ttotal: 152ms\tremaining: 1.27s\n",
      "107:\tlearn: 0.3053890\ttotal: 153ms\tremaining: 1.26s\n",
      "108:\tlearn: 0.3038727\ttotal: 154ms\tremaining: 1.26s\n",
      "109:\tlearn: 0.3028788\ttotal: 155ms\tremaining: 1.25s\n",
      "110:\tlearn: 0.3009660\ttotal: 157ms\tremaining: 1.25s\n",
      "111:\tlearn: 0.2997202\ttotal: 158ms\tremaining: 1.25s\n",
      "112:\tlearn: 0.2981651\ttotal: 159ms\tremaining: 1.25s\n",
      "113:\tlearn: 0.2964480\ttotal: 160ms\tremaining: 1.24s\n",
      "114:\tlearn: 0.2953055\ttotal: 161ms\tremaining: 1.24s\n",
      "115:\tlearn: 0.2934986\ttotal: 162ms\tremaining: 1.23s\n",
      "116:\tlearn: 0.2918709\ttotal: 163ms\tremaining: 1.23s\n",
      "117:\tlearn: 0.2906884\ttotal: 163ms\tremaining: 1.22s\n",
      "118:\tlearn: 0.2894156\ttotal: 164ms\tremaining: 1.22s\n",
      "119:\tlearn: 0.2884340\ttotal: 165ms\tremaining: 1.21s\n",
      "120:\tlearn: 0.2873112\ttotal: 166ms\tremaining: 1.2s\n",
      "121:\tlearn: 0.2862387\ttotal: 167ms\tremaining: 1.2s\n",
      "122:\tlearn: 0.2852133\ttotal: 168ms\tremaining: 1.2s\n",
      "123:\tlearn: 0.2842741\ttotal: 169ms\tremaining: 1.19s\n",
      "124:\tlearn: 0.2833572\ttotal: 169ms\tremaining: 1.19s\n",
      "125:\tlearn: 0.2821580\ttotal: 170ms\tremaining: 1.18s\n",
      "126:\tlearn: 0.2807660\ttotal: 171ms\tremaining: 1.18s\n",
      "127:\tlearn: 0.2797957\ttotal: 172ms\tremaining: 1.17s\n",
      "128:\tlearn: 0.2786915\ttotal: 173ms\tremaining: 1.17s\n",
      "129:\tlearn: 0.2777418\ttotal: 174ms\tremaining: 1.16s\n",
      "130:\tlearn: 0.2767989\ttotal: 175ms\tremaining: 1.16s\n",
      "131:\tlearn: 0.2762781\ttotal: 176ms\tremaining: 1.16s\n",
      "132:\tlearn: 0.2753724\ttotal: 177ms\tremaining: 1.15s\n",
      "133:\tlearn: 0.2743900\ttotal: 178ms\tremaining: 1.15s\n",
      "134:\tlearn: 0.2734977\ttotal: 178ms\tremaining: 1.14s\n",
      "135:\tlearn: 0.2720903\ttotal: 179ms\tremaining: 1.14s\n",
      "136:\tlearn: 0.2707120\ttotal: 180ms\tremaining: 1.14s\n",
      "137:\tlearn: 0.2694886\ttotal: 181ms\tremaining: 1.13s\n",
      "138:\tlearn: 0.2681621\ttotal: 182ms\tremaining: 1.13s\n",
      "139:\tlearn: 0.2672643\ttotal: 183ms\tremaining: 1.13s\n",
      "140:\tlearn: 0.2664999\ttotal: 184ms\tremaining: 1.12s\n",
      "141:\tlearn: 0.2656810\ttotal: 185ms\tremaining: 1.12s\n",
      "142:\tlearn: 0.2645875\ttotal: 186ms\tremaining: 1.11s\n",
      "143:\tlearn: 0.2638277\ttotal: 187ms\tremaining: 1.11s\n",
      "144:\tlearn: 0.2626656\ttotal: 188ms\tremaining: 1.11s\n",
      "145:\tlearn: 0.2614483\ttotal: 188ms\tremaining: 1.1s\n",
      "146:\tlearn: 0.2607148\ttotal: 189ms\tremaining: 1.1s\n",
      "147:\tlearn: 0.2598864\ttotal: 190ms\tremaining: 1.09s\n",
      "148:\tlearn: 0.2592270\ttotal: 191ms\tremaining: 1.09s\n"
     ]
    },
    {
     "name": "stdout",
     "output_type": "stream",
     "text": [
      "149:\tlearn: 0.2588639\ttotal: 192ms\tremaining: 1.09s\n",
      "150:\tlearn: 0.2577710\ttotal: 193ms\tremaining: 1.08s\n",
      "151:\tlearn: 0.2571931\ttotal: 194ms\tremaining: 1.08s\n",
      "152:\tlearn: 0.2562328\ttotal: 195ms\tremaining: 1.08s\n",
      "153:\tlearn: 0.2556530\ttotal: 196ms\tremaining: 1.07s\n",
      "154:\tlearn: 0.2544095\ttotal: 197ms\tremaining: 1.07s\n",
      "155:\tlearn: 0.2534222\ttotal: 197ms\tremaining: 1.07s\n",
      "156:\tlearn: 0.2528423\ttotal: 198ms\tremaining: 1.06s\n",
      "157:\tlearn: 0.2520501\ttotal: 199ms\tremaining: 1.06s\n",
      "158:\tlearn: 0.2512006\ttotal: 200ms\tremaining: 1.06s\n",
      "159:\tlearn: 0.2507053\ttotal: 201ms\tremaining: 1.05s\n",
      "160:\tlearn: 0.2501450\ttotal: 202ms\tremaining: 1.05s\n",
      "161:\tlearn: 0.2488794\ttotal: 203ms\tremaining: 1.05s\n",
      "162:\tlearn: 0.2483592\ttotal: 204ms\tremaining: 1.05s\n",
      "163:\tlearn: 0.2477510\ttotal: 205ms\tremaining: 1.04s\n",
      "164:\tlearn: 0.2470706\ttotal: 206ms\tremaining: 1.04s\n",
      "165:\tlearn: 0.2464358\ttotal: 207ms\tremaining: 1.04s\n",
      "166:\tlearn: 0.2458775\ttotal: 208ms\tremaining: 1.04s\n",
      "167:\tlearn: 0.2451242\ttotal: 209ms\tremaining: 1.03s\n",
      "168:\tlearn: 0.2443333\ttotal: 210ms\tremaining: 1.03s\n",
      "169:\tlearn: 0.2437602\ttotal: 211ms\tremaining: 1.03s\n",
      "170:\tlearn: 0.2429833\ttotal: 212ms\tremaining: 1.03s\n",
      "171:\tlearn: 0.2424269\ttotal: 213ms\tremaining: 1.02s\n",
      "172:\tlearn: 0.2417585\ttotal: 214ms\tremaining: 1.02s\n",
      "173:\tlearn: 0.2408780\ttotal: 214ms\tremaining: 1.02s\n",
      "174:\tlearn: 0.2399939\ttotal: 215ms\tremaining: 1.01s\n",
      "175:\tlearn: 0.2391904\ttotal: 216ms\tremaining: 1.01s\n",
      "176:\tlearn: 0.2383834\ttotal: 217ms\tremaining: 1.01s\n",
      "177:\tlearn: 0.2376667\ttotal: 218ms\tremaining: 1s\n",
      "178:\tlearn: 0.2369464\ttotal: 219ms\tremaining: 1s\n",
      "179:\tlearn: 0.2361963\ttotal: 219ms\tremaining: 1000ms\n",
      "180:\tlearn: 0.2351937\ttotal: 220ms\tremaining: 997ms\n",
      "181:\tlearn: 0.2344583\ttotal: 221ms\tremaining: 994ms\n",
      "182:\tlearn: 0.2337677\ttotal: 222ms\tremaining: 991ms\n",
      "183:\tlearn: 0.2330855\ttotal: 223ms\tremaining: 988ms\n",
      "184:\tlearn: 0.2324136\ttotal: 224ms\tremaining: 986ms\n",
      "185:\tlearn: 0.2319907\ttotal: 225ms\tremaining: 983ms\n",
      "186:\tlearn: 0.2313264\ttotal: 225ms\tremaining: 980ms\n",
      "187:\tlearn: 0.2309181\ttotal: 226ms\tremaining: 978ms\n",
      "188:\tlearn: 0.2303622\ttotal: 227ms\tremaining: 975ms\n",
      "189:\tlearn: 0.2300358\ttotal: 228ms\tremaining: 973ms\n",
      "190:\tlearn: 0.2292493\ttotal: 229ms\tremaining: 970ms\n",
      "191:\tlearn: 0.2284982\ttotal: 230ms\tremaining: 967ms\n",
      "192:\tlearn: 0.2277488\ttotal: 231ms\tremaining: 965ms\n",
      "193:\tlearn: 0.2271084\ttotal: 232ms\tremaining: 962ms\n",
      "194:\tlearn: 0.2267390\ttotal: 232ms\tremaining: 959ms\n",
      "195:\tlearn: 0.2259354\ttotal: 233ms\tremaining: 957ms\n",
      "196:\tlearn: 0.2254086\ttotal: 234ms\tremaining: 955ms\n",
      "197:\tlearn: 0.2247084\ttotal: 235ms\tremaining: 952ms\n",
      "198:\tlearn: 0.2239078\ttotal: 236ms\tremaining: 950ms\n",
      "199:\tlearn: 0.2233736\ttotal: 237ms\tremaining: 947ms\n",
      "200:\tlearn: 0.2227369\ttotal: 238ms\tremaining: 944ms\n",
      "201:\tlearn: 0.2220709\ttotal: 239ms\tremaining: 942ms\n",
      "202:\tlearn: 0.2215275\ttotal: 239ms\tremaining: 940ms\n",
      "203:\tlearn: 0.2210201\ttotal: 240ms\tremaining: 938ms\n",
      "204:\tlearn: 0.2205219\ttotal: 241ms\tremaining: 935ms\n",
      "205:\tlearn: 0.2198959\ttotal: 242ms\tremaining: 933ms\n",
      "206:\tlearn: 0.2192335\ttotal: 243ms\tremaining: 930ms\n",
      "207:\tlearn: 0.2187284\ttotal: 244ms\tremaining: 927ms\n",
      "208:\tlearn: 0.2182148\ttotal: 244ms\tremaining: 925ms\n",
      "209:\tlearn: 0.2178293\ttotal: 245ms\tremaining: 923ms\n",
      "210:\tlearn: 0.2173091\ttotal: 246ms\tremaining: 921ms\n",
      "211:\tlearn: 0.2166722\ttotal: 247ms\tremaining: 919ms\n",
      "212:\tlearn: 0.2161823\ttotal: 248ms\tremaining: 917ms\n",
      "213:\tlearn: 0.2156501\ttotal: 249ms\tremaining: 915ms\n",
      "214:\tlearn: 0.2153292\ttotal: 250ms\tremaining: 912ms\n",
      "215:\tlearn: 0.2146161\ttotal: 251ms\tremaining: 910ms\n",
      "216:\tlearn: 0.2140695\ttotal: 251ms\tremaining: 907ms\n",
      "217:\tlearn: 0.2135096\ttotal: 252ms\tremaining: 905ms\n",
      "218:\tlearn: 0.2127786\ttotal: 253ms\tremaining: 903ms\n",
      "219:\tlearn: 0.2125047\ttotal: 254ms\tremaining: 901ms\n",
      "220:\tlearn: 0.2117791\ttotal: 255ms\tremaining: 899ms\n",
      "221:\tlearn: 0.2113965\ttotal: 256ms\tremaining: 897ms\n",
      "222:\tlearn: 0.2108847\ttotal: 257ms\tremaining: 895ms\n",
      "223:\tlearn: 0.2100759\ttotal: 258ms\tremaining: 893ms\n",
      "224:\tlearn: 0.2094977\ttotal: 259ms\tremaining: 891ms\n",
      "225:\tlearn: 0.2089048\ttotal: 260ms\tremaining: 889ms\n",
      "226:\tlearn: 0.2083781\ttotal: 260ms\tremaining: 887ms\n",
      "227:\tlearn: 0.2077760\ttotal: 261ms\tremaining: 885ms\n",
      "228:\tlearn: 0.2072470\ttotal: 262ms\tremaining: 883ms\n",
      "229:\tlearn: 0.2067843\ttotal: 263ms\tremaining: 880ms\n",
      "230:\tlearn: 0.2062426\ttotal: 264ms\tremaining: 878ms\n",
      "231:\tlearn: 0.2059311\ttotal: 265ms\tremaining: 876ms\n",
      "232:\tlearn: 0.2053558\ttotal: 265ms\tremaining: 874ms\n",
      "233:\tlearn: 0.2049045\ttotal: 266ms\tremaining: 872ms\n",
      "234:\tlearn: 0.2043078\ttotal: 267ms\tremaining: 870ms\n",
      "235:\tlearn: 0.2039490\ttotal: 268ms\tremaining: 868ms\n",
      "236:\tlearn: 0.2034143\ttotal: 269ms\tremaining: 866ms\n",
      "237:\tlearn: 0.2027739\ttotal: 270ms\tremaining: 863ms\n",
      "238:\tlearn: 0.2022081\ttotal: 271ms\tremaining: 861ms\n",
      "239:\tlearn: 0.2015329\ttotal: 272ms\tremaining: 860ms\n",
      "240:\tlearn: 0.2012468\ttotal: 272ms\tremaining: 858ms\n",
      "241:\tlearn: 0.2005274\ttotal: 273ms\tremaining: 856ms\n",
      "242:\tlearn: 0.2002421\ttotal: 274ms\tremaining: 854ms\n",
      "243:\tlearn: 0.1996217\ttotal: 275ms\tremaining: 851ms\n",
      "244:\tlearn: 0.1992573\ttotal: 276ms\tremaining: 849ms\n",
      "245:\tlearn: 0.1988495\ttotal: 277ms\tremaining: 848ms\n",
      "246:\tlearn: 0.1983457\ttotal: 277ms\tremaining: 846ms\n",
      "247:\tlearn: 0.1977149\ttotal: 278ms\tremaining: 844ms\n",
      "248:\tlearn: 0.1971145\ttotal: 279ms\tremaining: 842ms\n",
      "249:\tlearn: 0.1965568\ttotal: 280ms\tremaining: 840ms\n",
      "250:\tlearn: 0.1960312\ttotal: 281ms\tremaining: 839ms\n",
      "251:\tlearn: 0.1956158\ttotal: 282ms\tremaining: 837ms\n",
      "252:\tlearn: 0.1950724\ttotal: 283ms\tremaining: 835ms\n",
      "253:\tlearn: 0.1945629\ttotal: 284ms\tremaining: 833ms\n",
      "254:\tlearn: 0.1940246\ttotal: 285ms\tremaining: 832ms\n",
      "255:\tlearn: 0.1935799\ttotal: 285ms\tremaining: 830ms\n",
      "256:\tlearn: 0.1932756\ttotal: 286ms\tremaining: 828ms\n",
      "257:\tlearn: 0.1926234\ttotal: 287ms\tremaining: 826ms\n",
      "258:\tlearn: 0.1921635\ttotal: 288ms\tremaining: 825ms\n",
      "259:\tlearn: 0.1916691\ttotal: 289ms\tremaining: 823ms\n",
      "260:\tlearn: 0.1913773\ttotal: 290ms\tremaining: 821ms\n",
      "261:\tlearn: 0.1910676\ttotal: 291ms\tremaining: 819ms\n",
      "262:\tlearn: 0.1907532\ttotal: 292ms\tremaining: 817ms\n",
      "263:\tlearn: 0.1901637\ttotal: 292ms\tremaining: 815ms\n",
      "264:\tlearn: 0.1897593\ttotal: 293ms\tremaining: 813ms\n",
      "265:\tlearn: 0.1893030\ttotal: 294ms\tremaining: 812ms\n",
      "266:\tlearn: 0.1890181\ttotal: 295ms\tremaining: 810ms\n",
      "267:\tlearn: 0.1888114\ttotal: 296ms\tremaining: 809ms\n",
      "268:\tlearn: 0.1882801\ttotal: 297ms\tremaining: 807ms\n",
      "269:\tlearn: 0.1878753\ttotal: 298ms\tremaining: 805ms\n",
      "270:\tlearn: 0.1875215\ttotal: 299ms\tremaining: 803ms\n"
     ]
    },
    {
     "name": "stdout",
     "output_type": "stream",
     "text": [
      "271:\tlearn: 0.1872363\ttotal: 300ms\tremaining: 802ms\n",
      "272:\tlearn: 0.1868297\ttotal: 300ms\tremaining: 800ms\n",
      "273:\tlearn: 0.1862720\ttotal: 302ms\tremaining: 801ms\n",
      "274:\tlearn: 0.1858387\ttotal: 303ms\tremaining: 799ms\n",
      "275:\tlearn: 0.1853365\ttotal: 304ms\tremaining: 797ms\n",
      "276:\tlearn: 0.1849643\ttotal: 305ms\tremaining: 796ms\n",
      "277:\tlearn: 0.1845329\ttotal: 306ms\tremaining: 794ms\n",
      "278:\tlearn: 0.1839244\ttotal: 307ms\tremaining: 792ms\n",
      "279:\tlearn: 0.1836387\ttotal: 307ms\tremaining: 791ms\n",
      "280:\tlearn: 0.1833284\ttotal: 308ms\tremaining: 789ms\n",
      "281:\tlearn: 0.1830563\ttotal: 309ms\tremaining: 787ms\n",
      "282:\tlearn: 0.1825898\ttotal: 310ms\tremaining: 786ms\n",
      "283:\tlearn: 0.1820186\ttotal: 311ms\tremaining: 784ms\n",
      "284:\tlearn: 0.1817169\ttotal: 312ms\tremaining: 783ms\n",
      "285:\tlearn: 0.1813537\ttotal: 313ms\tremaining: 782ms\n",
      "286:\tlearn: 0.1810537\ttotal: 314ms\tremaining: 780ms\n",
      "287:\tlearn: 0.1806636\ttotal: 315ms\tremaining: 778ms\n",
      "288:\tlearn: 0.1801860\ttotal: 316ms\tremaining: 777ms\n",
      "289:\tlearn: 0.1797158\ttotal: 316ms\tremaining: 775ms\n",
      "290:\tlearn: 0.1791798\ttotal: 317ms\tremaining: 773ms\n",
      "291:\tlearn: 0.1785388\ttotal: 318ms\tremaining: 771ms\n",
      "292:\tlearn: 0.1783841\ttotal: 319ms\tremaining: 770ms\n",
      "293:\tlearn: 0.1780402\ttotal: 320ms\tremaining: 768ms\n",
      "294:\tlearn: 0.1779139\ttotal: 321ms\tremaining: 766ms\n",
      "295:\tlearn: 0.1774249\ttotal: 322ms\tremaining: 765ms\n",
      "296:\tlearn: 0.1768528\ttotal: 322ms\tremaining: 763ms\n",
      "297:\tlearn: 0.1767558\ttotal: 323ms\tremaining: 761ms\n",
      "298:\tlearn: 0.1762779\ttotal: 324ms\tremaining: 760ms\n",
      "299:\tlearn: 0.1758638\ttotal: 325ms\tremaining: 758ms\n",
      "300:\tlearn: 0.1752841\ttotal: 326ms\tremaining: 757ms\n",
      "301:\tlearn: 0.1747928\ttotal: 327ms\tremaining: 755ms\n",
      "302:\tlearn: 0.1744027\ttotal: 328ms\tremaining: 754ms\n",
      "303:\tlearn: 0.1742656\ttotal: 328ms\tremaining: 752ms\n",
      "304:\tlearn: 0.1738765\ttotal: 329ms\tremaining: 751ms\n",
      "305:\tlearn: 0.1736367\ttotal: 330ms\tremaining: 749ms\n",
      "306:\tlearn: 0.1734993\ttotal: 331ms\tremaining: 747ms\n",
      "307:\tlearn: 0.1732426\ttotal: 332ms\tremaining: 747ms\n",
      "308:\tlearn: 0.1726553\ttotal: 333ms\tremaining: 745ms\n",
      "309:\tlearn: 0.1724782\ttotal: 334ms\tremaining: 744ms\n",
      "310:\tlearn: 0.1721585\ttotal: 335ms\tremaining: 742ms\n",
      "311:\tlearn: 0.1717107\ttotal: 337ms\tremaining: 742ms\n",
      "312:\tlearn: 0.1714418\ttotal: 338ms\tremaining: 741ms\n",
      "313:\tlearn: 0.1711236\ttotal: 339ms\tremaining: 740ms\n",
      "314:\tlearn: 0.1709805\ttotal: 339ms\tremaining: 738ms\n",
      "315:\tlearn: 0.1704412\ttotal: 340ms\tremaining: 736ms\n",
      "316:\tlearn: 0.1703293\ttotal: 341ms\tremaining: 735ms\n",
      "317:\tlearn: 0.1700612\ttotal: 342ms\tremaining: 734ms\n",
      "318:\tlearn: 0.1698536\ttotal: 343ms\tremaining: 732ms\n",
      "319:\tlearn: 0.1694432\ttotal: 344ms\tremaining: 731ms\n",
      "320:\tlearn: 0.1689762\ttotal: 345ms\tremaining: 729ms\n",
      "321:\tlearn: 0.1685747\ttotal: 346ms\tremaining: 728ms\n",
      "322:\tlearn: 0.1681758\ttotal: 346ms\tremaining: 726ms\n",
      "323:\tlearn: 0.1678542\ttotal: 347ms\tremaining: 725ms\n",
      "324:\tlearn: 0.1673543\ttotal: 348ms\tremaining: 723ms\n",
      "325:\tlearn: 0.1671016\ttotal: 349ms\tremaining: 722ms\n",
      "326:\tlearn: 0.1666595\ttotal: 350ms\tremaining: 720ms\n",
      "327:\tlearn: 0.1665151\ttotal: 351ms\tremaining: 719ms\n",
      "328:\tlearn: 0.1662109\ttotal: 352ms\tremaining: 718ms\n",
      "329:\tlearn: 0.1658280\ttotal: 353ms\tremaining: 716ms\n",
      "330:\tlearn: 0.1654783\ttotal: 354ms\tremaining: 715ms\n",
      "331:\tlearn: 0.1652230\ttotal: 355ms\tremaining: 713ms\n",
      "332:\tlearn: 0.1648487\ttotal: 355ms\tremaining: 712ms\n",
      "333:\tlearn: 0.1645877\ttotal: 356ms\tremaining: 710ms\n",
      "334:\tlearn: 0.1642758\ttotal: 357ms\tremaining: 709ms\n",
      "335:\tlearn: 0.1639900\ttotal: 358ms\tremaining: 708ms\n",
      "336:\tlearn: 0.1638451\ttotal: 359ms\tremaining: 706ms\n",
      "337:\tlearn: 0.1636248\ttotal: 360ms\tremaining: 705ms\n",
      "338:\tlearn: 0.1633938\ttotal: 361ms\tremaining: 703ms\n",
      "339:\tlearn: 0.1631329\ttotal: 362ms\tremaining: 702ms\n",
      "340:\tlearn: 0.1628052\ttotal: 362ms\tremaining: 700ms\n",
      "341:\tlearn: 0.1624794\ttotal: 363ms\tremaining: 699ms\n",
      "342:\tlearn: 0.1622677\ttotal: 364ms\tremaining: 698ms\n",
      "343:\tlearn: 0.1621012\ttotal: 365ms\tremaining: 696ms\n",
      "344:\tlearn: 0.1618763\ttotal: 366ms\tremaining: 695ms\n",
      "345:\tlearn: 0.1615609\ttotal: 367ms\tremaining: 694ms\n",
      "346:\tlearn: 0.1614275\ttotal: 368ms\tremaining: 692ms\n",
      "347:\tlearn: 0.1609332\ttotal: 369ms\tremaining: 691ms\n",
      "348:\tlearn: 0.1604352\ttotal: 370ms\tremaining: 690ms\n",
      "349:\tlearn: 0.1602589\ttotal: 371ms\tremaining: 688ms\n",
      "350:\tlearn: 0.1601306\ttotal: 371ms\tremaining: 687ms\n",
      "351:\tlearn: 0.1598918\ttotal: 372ms\tremaining: 685ms\n",
      "352:\tlearn: 0.1593668\ttotal: 373ms\tremaining: 684ms\n",
      "353:\tlearn: 0.1592134\ttotal: 374ms\tremaining: 682ms\n",
      "354:\tlearn: 0.1589493\ttotal: 375ms\tremaining: 681ms\n",
      "355:\tlearn: 0.1587133\ttotal: 376ms\tremaining: 679ms\n",
      "356:\tlearn: 0.1585974\ttotal: 377ms\tremaining: 678ms\n",
      "357:\tlearn: 0.1581432\ttotal: 377ms\tremaining: 677ms\n",
      "358:\tlearn: 0.1576511\ttotal: 378ms\tremaining: 675ms\n",
      "359:\tlearn: 0.1574907\ttotal: 379ms\tremaining: 674ms\n",
      "360:\tlearn: 0.1570762\ttotal: 380ms\tremaining: 673ms\n",
      "361:\tlearn: 0.1567432\ttotal: 381ms\tremaining: 671ms\n",
      "362:\tlearn: 0.1562786\ttotal: 382ms\tremaining: 670ms\n"
     ]
    },
    {
     "name": "stdout",
     "output_type": "stream",
     "text": [
      "363:\tlearn: 0.1560508\ttotal: 383ms\tremaining: 669ms\n",
      "364:\tlearn: 0.1558808\ttotal: 384ms\tremaining: 668ms\n",
      "365:\tlearn: 0.1556980\ttotal: 385ms\tremaining: 667ms\n",
      "366:\tlearn: 0.1554826\ttotal: 386ms\tremaining: 666ms\n",
      "367:\tlearn: 0.1553055\ttotal: 387ms\tremaining: 665ms\n",
      "368:\tlearn: 0.1550010\ttotal: 388ms\tremaining: 664ms\n",
      "369:\tlearn: 0.1545276\ttotal: 389ms\tremaining: 662ms\n",
      "370:\tlearn: 0.1542871\ttotal: 390ms\tremaining: 661ms\n",
      "371:\tlearn: 0.1541322\ttotal: 391ms\tremaining: 659ms\n",
      "372:\tlearn: 0.1538221\ttotal: 392ms\tremaining: 658ms\n",
      "373:\tlearn: 0.1534094\ttotal: 392ms\tremaining: 657ms\n",
      "374:\tlearn: 0.1531384\ttotal: 393ms\tremaining: 655ms\n",
      "375:\tlearn: 0.1529352\ttotal: 394ms\tremaining: 654ms\n",
      "376:\tlearn: 0.1526439\ttotal: 395ms\tremaining: 653ms\n",
      "377:\tlearn: 0.1523630\ttotal: 396ms\tremaining: 651ms\n",
      "378:\tlearn: 0.1520448\ttotal: 397ms\tremaining: 650ms\n",
      "379:\tlearn: 0.1516560\ttotal: 398ms\tremaining: 649ms\n",
      "380:\tlearn: 0.1512359\ttotal: 398ms\tremaining: 647ms\n",
      "381:\tlearn: 0.1511274\ttotal: 399ms\tremaining: 646ms\n",
      "382:\tlearn: 0.1509227\ttotal: 400ms\tremaining: 645ms\n",
      "383:\tlearn: 0.1506051\ttotal: 401ms\tremaining: 643ms\n",
      "384:\tlearn: 0.1505087\ttotal: 402ms\tremaining: 642ms\n",
      "385:\tlearn: 0.1502461\ttotal: 403ms\tremaining: 641ms\n",
      "386:\tlearn: 0.1499277\ttotal: 404ms\tremaining: 639ms\n",
      "387:\tlearn: 0.1495775\ttotal: 404ms\tremaining: 638ms\n",
      "388:\tlearn: 0.1494408\ttotal: 405ms\tremaining: 637ms\n",
      "389:\tlearn: 0.1489963\ttotal: 406ms\tremaining: 635ms\n",
      "390:\tlearn: 0.1486973\ttotal: 407ms\tremaining: 634ms\n",
      "391:\tlearn: 0.1484087\ttotal: 408ms\tremaining: 633ms\n",
      "392:\tlearn: 0.1482625\ttotal: 409ms\tremaining: 631ms\n",
      "393:\tlearn: 0.1479609\ttotal: 410ms\tremaining: 630ms\n",
      "394:\tlearn: 0.1478019\ttotal: 410ms\tremaining: 629ms\n",
      "395:\tlearn: 0.1476754\ttotal: 411ms\tremaining: 627ms\n",
      "396:\tlearn: 0.1474698\ttotal: 412ms\tremaining: 626ms\n",
      "397:\tlearn: 0.1472169\ttotal: 413ms\tremaining: 625ms\n",
      "398:\tlearn: 0.1471031\ttotal: 414ms\tremaining: 623ms\n",
      "399:\tlearn: 0.1467879\ttotal: 415ms\tremaining: 622ms\n",
      "400:\tlearn: 0.1465365\ttotal: 416ms\tremaining: 622ms\n",
      "401:\tlearn: 0.1463900\ttotal: 417ms\tremaining: 620ms\n",
      "402:\tlearn: 0.1461693\ttotal: 418ms\tremaining: 619ms\n",
      "403:\tlearn: 0.1459362\ttotal: 419ms\tremaining: 618ms\n",
      "404:\tlearn: 0.1456638\ttotal: 420ms\tremaining: 616ms\n",
      "405:\tlearn: 0.1455209\ttotal: 420ms\tremaining: 615ms\n",
      "406:\tlearn: 0.1450758\ttotal: 421ms\tremaining: 614ms\n",
      "407:\tlearn: 0.1449596\ttotal: 422ms\tremaining: 612ms\n",
      "408:\tlearn: 0.1447084\ttotal: 423ms\tremaining: 611ms\n",
      "409:\tlearn: 0.1445371\ttotal: 424ms\tremaining: 610ms\n",
      "410:\tlearn: 0.1443354\ttotal: 425ms\tremaining: 609ms\n",
      "411:\tlearn: 0.1441011\ttotal: 426ms\tremaining: 607ms\n",
      "412:\tlearn: 0.1438880\ttotal: 426ms\tremaining: 606ms\n",
      "413:\tlearn: 0.1435308\ttotal: 427ms\tremaining: 605ms\n",
      "414:\tlearn: 0.1433067\ttotal: 428ms\tremaining: 603ms\n",
      "415:\tlearn: 0.1432330\ttotal: 429ms\tremaining: 602ms\n",
      "416:\tlearn: 0.1429182\ttotal: 430ms\tremaining: 601ms\n",
      "417:\tlearn: 0.1427076\ttotal: 430ms\tremaining: 599ms\n",
      "418:\tlearn: 0.1424837\ttotal: 431ms\tremaining: 598ms\n",
      "419:\tlearn: 0.1422065\ttotal: 432ms\tremaining: 597ms\n",
      "420:\tlearn: 0.1420447\ttotal: 433ms\tremaining: 596ms\n",
      "421:\tlearn: 0.1416983\ttotal: 434ms\tremaining: 594ms\n",
      "422:\tlearn: 0.1413340\ttotal: 435ms\tremaining: 593ms\n",
      "423:\tlearn: 0.1411448\ttotal: 436ms\tremaining: 592ms\n",
      "424:\tlearn: 0.1410690\ttotal: 437ms\tremaining: 591ms\n",
      "425:\tlearn: 0.1407871\ttotal: 437ms\tremaining: 589ms\n",
      "426:\tlearn: 0.1405979\ttotal: 438ms\tremaining: 588ms\n",
      "427:\tlearn: 0.1403377\ttotal: 439ms\tremaining: 587ms\n",
      "428:\tlearn: 0.1401400\ttotal: 440ms\tremaining: 586ms\n",
      "429:\tlearn: 0.1398236\ttotal: 441ms\tremaining: 584ms\n",
      "430:\tlearn: 0.1394710\ttotal: 442ms\tremaining: 583ms\n",
      "431:\tlearn: 0.1392298\ttotal: 443ms\tremaining: 582ms\n",
      "432:\tlearn: 0.1390061\ttotal: 443ms\tremaining: 581ms\n",
      "433:\tlearn: 0.1386583\ttotal: 444ms\tremaining: 580ms\n",
      "434:\tlearn: 0.1383601\ttotal: 445ms\tremaining: 578ms\n",
      "435:\tlearn: 0.1382117\ttotal: 446ms\tremaining: 577ms\n",
      "436:\tlearn: 0.1378582\ttotal: 447ms\tremaining: 576ms\n",
      "437:\tlearn: 0.1375688\ttotal: 448ms\tremaining: 575ms\n",
      "438:\tlearn: 0.1374157\ttotal: 449ms\tremaining: 574ms\n",
      "439:\tlearn: 0.1371706\ttotal: 450ms\tremaining: 572ms\n",
      "440:\tlearn: 0.1369619\ttotal: 451ms\tremaining: 571ms\n",
      "441:\tlearn: 0.1367215\ttotal: 451ms\tremaining: 570ms\n",
      "442:\tlearn: 0.1365956\ttotal: 452ms\tremaining: 568ms\n",
      "443:\tlearn: 0.1362513\ttotal: 453ms\tremaining: 567ms\n",
      "444:\tlearn: 0.1361754\ttotal: 454ms\tremaining: 566ms\n",
      "445:\tlearn: 0.1359953\ttotal: 455ms\tremaining: 565ms\n",
      "446:\tlearn: 0.1358243\ttotal: 456ms\tremaining: 564ms\n",
      "447:\tlearn: 0.1356671\ttotal: 457ms\tremaining: 563ms\n",
      "448:\tlearn: 0.1353364\ttotal: 458ms\tremaining: 561ms\n",
      "449:\tlearn: 0.1351202\ttotal: 458ms\tremaining: 560ms\n",
      "450:\tlearn: 0.1350518\ttotal: 459ms\tremaining: 559ms\n",
      "451:\tlearn: 0.1348607\ttotal: 460ms\tremaining: 558ms\n",
      "452:\tlearn: 0.1346397\ttotal: 461ms\tremaining: 557ms\n",
      "453:\tlearn: 0.1343817\ttotal: 462ms\tremaining: 556ms\n",
      "454:\tlearn: 0.1341315\ttotal: 463ms\tremaining: 554ms\n",
      "455:\tlearn: 0.1339571\ttotal: 464ms\tremaining: 553ms\n",
      "456:\tlearn: 0.1337915\ttotal: 465ms\tremaining: 552ms\n",
      "457:\tlearn: 0.1335498\ttotal: 466ms\tremaining: 551ms\n",
      "458:\tlearn: 0.1334500\ttotal: 466ms\tremaining: 550ms\n",
      "459:\tlearn: 0.1333043\ttotal: 467ms\tremaining: 549ms\n",
      "460:\tlearn: 0.1331463\ttotal: 468ms\tremaining: 547ms\n",
      "461:\tlearn: 0.1329689\ttotal: 469ms\tremaining: 546ms\n",
      "462:\tlearn: 0.1326948\ttotal: 470ms\tremaining: 545ms\n",
      "463:\tlearn: 0.1326286\ttotal: 471ms\tremaining: 544ms\n",
      "464:\tlearn: 0.1325349\ttotal: 472ms\tremaining: 543ms\n",
      "465:\tlearn: 0.1322040\ttotal: 473ms\tremaining: 542ms\n",
      "466:\tlearn: 0.1319631\ttotal: 474ms\tremaining: 541ms\n",
      "467:\tlearn: 0.1317988\ttotal: 474ms\tremaining: 539ms\n",
      "468:\tlearn: 0.1314096\ttotal: 475ms\tremaining: 538ms\n",
      "469:\tlearn: 0.1311492\ttotal: 476ms\tremaining: 537ms\n",
      "470:\tlearn: 0.1307634\ttotal: 477ms\tremaining: 536ms\n",
      "471:\tlearn: 0.1305150\ttotal: 478ms\tremaining: 535ms\n",
      "472:\tlearn: 0.1302043\ttotal: 479ms\tremaining: 534ms\n",
      "473:\tlearn: 0.1300241\ttotal: 480ms\tremaining: 532ms\n",
      "474:\tlearn: 0.1297847\ttotal: 481ms\tremaining: 531ms\n",
      "475:\tlearn: 0.1295664\ttotal: 482ms\tremaining: 530ms\n",
      "476:\tlearn: 0.1293583\ttotal: 483ms\tremaining: 529ms\n",
      "477:\tlearn: 0.1290615\ttotal: 483ms\tremaining: 528ms\n",
      "478:\tlearn: 0.1287410\ttotal: 484ms\tremaining: 527ms\n",
      "479:\tlearn: 0.1285571\ttotal: 485ms\tremaining: 525ms\n",
      "480:\tlearn: 0.1283511\ttotal: 486ms\tremaining: 524ms\n",
      "481:\tlearn: 0.1281536\ttotal: 487ms\tremaining: 523ms\n",
      "482:\tlearn: 0.1280459\ttotal: 488ms\tremaining: 522ms\n",
      "483:\tlearn: 0.1278634\ttotal: 489ms\tremaining: 521ms\n",
      "484:\tlearn: 0.1277142\ttotal: 489ms\tremaining: 520ms\n"
     ]
    },
    {
     "name": "stdout",
     "output_type": "stream",
     "text": [
      "485:\tlearn: 0.1275521\ttotal: 491ms\tremaining: 519ms\n",
      "486:\tlearn: 0.1273431\ttotal: 492ms\tremaining: 518ms\n",
      "487:\tlearn: 0.1272128\ttotal: 492ms\tremaining: 517ms\n",
      "488:\tlearn: 0.1268721\ttotal: 494ms\tremaining: 516ms\n",
      "489:\tlearn: 0.1266723\ttotal: 495ms\tremaining: 516ms\n",
      "490:\tlearn: 0.1263434\ttotal: 496ms\tremaining: 514ms\n",
      "491:\tlearn: 0.1261239\ttotal: 497ms\tremaining: 513ms\n",
      "492:\tlearn: 0.1258789\ttotal: 498ms\tremaining: 512ms\n",
      "493:\tlearn: 0.1256261\ttotal: 499ms\tremaining: 511ms\n",
      "494:\tlearn: 0.1253081\ttotal: 500ms\tremaining: 510ms\n",
      "495:\tlearn: 0.1251478\ttotal: 501ms\tremaining: 509ms\n",
      "496:\tlearn: 0.1247284\ttotal: 502ms\tremaining: 508ms\n",
      "497:\tlearn: 0.1245544\ttotal: 503ms\tremaining: 507ms\n",
      "498:\tlearn: 0.1244204\ttotal: 504ms\tremaining: 506ms\n",
      "499:\tlearn: 0.1241952\ttotal: 505ms\tremaining: 505ms\n",
      "500:\tlearn: 0.1240629\ttotal: 505ms\tremaining: 503ms\n",
      "501:\tlearn: 0.1237655\ttotal: 506ms\tremaining: 502ms\n",
      "502:\tlearn: 0.1235887\ttotal: 507ms\tremaining: 501ms\n",
      "503:\tlearn: 0.1233710\ttotal: 508ms\tremaining: 500ms\n",
      "504:\tlearn: 0.1230982\ttotal: 509ms\tremaining: 499ms\n",
      "505:\tlearn: 0.1230041\ttotal: 510ms\tremaining: 497ms\n",
      "506:\tlearn: 0.1228343\ttotal: 511ms\tremaining: 496ms\n",
      "507:\tlearn: 0.1227357\ttotal: 511ms\tremaining: 495ms\n",
      "508:\tlearn: 0.1225563\ttotal: 512ms\tremaining: 494ms\n",
      "509:\tlearn: 0.1223788\ttotal: 513ms\tremaining: 493ms\n",
      "510:\tlearn: 0.1222313\ttotal: 514ms\tremaining: 492ms\n",
      "511:\tlearn: 0.1220470\ttotal: 515ms\tremaining: 491ms\n",
      "512:\tlearn: 0.1218025\ttotal: 516ms\tremaining: 490ms\n",
      "513:\tlearn: 0.1216892\ttotal: 517ms\tremaining: 489ms\n",
      "514:\tlearn: 0.1214849\ttotal: 518ms\tremaining: 487ms\n",
      "515:\tlearn: 0.1214288\ttotal: 518ms\tremaining: 486ms\n",
      "516:\tlearn: 0.1211904\ttotal: 519ms\tremaining: 485ms\n",
      "517:\tlearn: 0.1208288\ttotal: 520ms\tremaining: 484ms\n",
      "518:\tlearn: 0.1207647\ttotal: 521ms\tremaining: 483ms\n",
      "519:\tlearn: 0.1205592\ttotal: 522ms\tremaining: 482ms\n",
      "520:\tlearn: 0.1203207\ttotal: 523ms\tremaining: 480ms\n",
      "521:\tlearn: 0.1200754\ttotal: 524ms\tremaining: 479ms\n",
      "522:\tlearn: 0.1198402\ttotal: 524ms\tremaining: 478ms\n",
      "523:\tlearn: 0.1196419\ttotal: 525ms\tremaining: 477ms\n",
      "524:\tlearn: 0.1195613\ttotal: 526ms\tremaining: 476ms\n",
      "525:\tlearn: 0.1193051\ttotal: 527ms\tremaining: 475ms\n",
      "526:\tlearn: 0.1190883\ttotal: 528ms\tremaining: 474ms\n",
      "527:\tlearn: 0.1188757\ttotal: 529ms\tremaining: 473ms\n",
      "528:\tlearn: 0.1187831\ttotal: 530ms\tremaining: 472ms\n",
      "529:\tlearn: 0.1185882\ttotal: 531ms\tremaining: 471ms\n",
      "530:\tlearn: 0.1183538\ttotal: 532ms\tremaining: 469ms\n",
      "531:\tlearn: 0.1183046\ttotal: 532ms\tremaining: 468ms\n",
      "532:\tlearn: 0.1180921\ttotal: 533ms\tremaining: 467ms\n",
      "533:\tlearn: 0.1178950\ttotal: 534ms\tremaining: 466ms\n",
      "534:\tlearn: 0.1178818\ttotal: 535ms\tremaining: 465ms\n",
      "535:\tlearn: 0.1176538\ttotal: 536ms\tremaining: 464ms\n",
      "536:\tlearn: 0.1174447\ttotal: 537ms\tremaining: 463ms\n",
      "537:\tlearn: 0.1172607\ttotal: 538ms\tremaining: 462ms\n",
      "538:\tlearn: 0.1170555\ttotal: 539ms\tremaining: 461ms\n",
      "539:\tlearn: 0.1169317\ttotal: 539ms\tremaining: 460ms\n",
      "540:\tlearn: 0.1167237\ttotal: 540ms\tremaining: 458ms\n",
      "541:\tlearn: 0.1165970\ttotal: 541ms\tremaining: 457ms\n",
      "542:\tlearn: 0.1164174\ttotal: 542ms\tremaining: 456ms\n",
      "543:\tlearn: 0.1161193\ttotal: 543ms\tremaining: 455ms\n",
      "544:\tlearn: 0.1159309\ttotal: 544ms\tremaining: 454ms\n",
      "545:\tlearn: 0.1158014\ttotal: 545ms\tremaining: 453ms\n",
      "546:\tlearn: 0.1156769\ttotal: 546ms\tremaining: 452ms\n",
      "547:\tlearn: 0.1154638\ttotal: 547ms\tremaining: 451ms\n",
      "548:\tlearn: 0.1152716\ttotal: 547ms\tremaining: 450ms\n",
      "549:\tlearn: 0.1151166\ttotal: 548ms\tremaining: 449ms\n",
      "550:\tlearn: 0.1148999\ttotal: 549ms\tremaining: 447ms\n",
      "551:\tlearn: 0.1147307\ttotal: 550ms\tremaining: 446ms\n",
      "552:\tlearn: 0.1143211\ttotal: 551ms\tremaining: 445ms\n",
      "553:\tlearn: 0.1142277\ttotal: 552ms\tremaining: 444ms\n",
      "554:\tlearn: 0.1139307\ttotal: 553ms\tremaining: 443ms\n",
      "555:\tlearn: 0.1137171\ttotal: 553ms\tremaining: 442ms\n",
      "556:\tlearn: 0.1136098\ttotal: 554ms\tremaining: 441ms\n",
      "557:\tlearn: 0.1133803\ttotal: 555ms\tremaining: 440ms\n",
      "558:\tlearn: 0.1132253\ttotal: 556ms\tremaining: 439ms\n",
      "559:\tlearn: 0.1129464\ttotal: 558ms\tremaining: 438ms\n",
      "560:\tlearn: 0.1127554\ttotal: 558ms\tremaining: 437ms\n",
      "561:\tlearn: 0.1125810\ttotal: 559ms\tremaining: 436ms\n",
      "562:\tlearn: 0.1124369\ttotal: 560ms\tremaining: 435ms\n",
      "563:\tlearn: 0.1123782\ttotal: 561ms\tremaining: 434ms\n",
      "564:\tlearn: 0.1123659\ttotal: 562ms\tremaining: 433ms\n",
      "565:\tlearn: 0.1121970\ttotal: 563ms\tremaining: 432ms\n",
      "566:\tlearn: 0.1121016\ttotal: 564ms\tremaining: 430ms\n",
      "567:\tlearn: 0.1119308\ttotal: 564ms\tremaining: 429ms\n",
      "568:\tlearn: 0.1117576\ttotal: 565ms\tremaining: 428ms\n",
      "569:\tlearn: 0.1116393\ttotal: 566ms\tremaining: 427ms\n",
      "570:\tlearn: 0.1114999\ttotal: 567ms\tremaining: 426ms\n",
      "571:\tlearn: 0.1113055\ttotal: 568ms\tremaining: 425ms\n",
      "572:\tlearn: 0.1111075\ttotal: 569ms\tremaining: 424ms\n",
      "573:\tlearn: 0.1109336\ttotal: 569ms\tremaining: 423ms\n",
      "574:\tlearn: 0.1106962\ttotal: 570ms\tremaining: 422ms\n",
      "575:\tlearn: 0.1104308\ttotal: 571ms\tremaining: 420ms\n",
      "576:\tlearn: 0.1102519\ttotal: 572ms\tremaining: 420ms\n",
      "577:\tlearn: 0.1100741\ttotal: 573ms\tremaining: 418ms\n"
     ]
    },
    {
     "name": "stdout",
     "output_type": "stream",
     "text": [
      "578:\tlearn: 0.1099252\ttotal: 574ms\tremaining: 418ms\n",
      "579:\tlearn: 0.1097793\ttotal: 575ms\tremaining: 417ms\n",
      "580:\tlearn: 0.1095868\ttotal: 576ms\tremaining: 416ms\n",
      "581:\tlearn: 0.1094110\ttotal: 577ms\tremaining: 415ms\n",
      "582:\tlearn: 0.1092414\ttotal: 578ms\tremaining: 414ms\n",
      "583:\tlearn: 0.1090568\ttotal: 579ms\tremaining: 413ms\n",
      "584:\tlearn: 0.1088705\ttotal: 580ms\tremaining: 412ms\n",
      "585:\tlearn: 0.1086994\ttotal: 581ms\tremaining: 411ms\n",
      "586:\tlearn: 0.1084866\ttotal: 582ms\tremaining: 410ms\n",
      "587:\tlearn: 0.1083506\ttotal: 583ms\tremaining: 409ms\n",
      "588:\tlearn: 0.1082026\ttotal: 584ms\tremaining: 408ms\n",
      "589:\tlearn: 0.1079213\ttotal: 585ms\tremaining: 407ms\n",
      "590:\tlearn: 0.1078148\ttotal: 586ms\tremaining: 406ms\n",
      "591:\tlearn: 0.1076153\ttotal: 587ms\tremaining: 405ms\n",
      "592:\tlearn: 0.1075198\ttotal: 588ms\tremaining: 404ms\n",
      "593:\tlearn: 0.1074645\ttotal: 589ms\tremaining: 403ms\n",
      "594:\tlearn: 0.1072445\ttotal: 590ms\tremaining: 402ms\n",
      "595:\tlearn: 0.1071429\ttotal: 591ms\tremaining: 401ms\n",
      "596:\tlearn: 0.1070250\ttotal: 592ms\tremaining: 400ms\n",
      "597:\tlearn: 0.1068492\ttotal: 593ms\tremaining: 399ms\n",
      "598:\tlearn: 0.1067636\ttotal: 594ms\tremaining: 398ms\n",
      "599:\tlearn: 0.1066610\ttotal: 595ms\tremaining: 397ms\n",
      "600:\tlearn: 0.1064730\ttotal: 596ms\tremaining: 396ms\n",
      "601:\tlearn: 0.1063131\ttotal: 597ms\tremaining: 395ms\n",
      "602:\tlearn: 0.1062401\ttotal: 598ms\tremaining: 394ms\n",
      "603:\tlearn: 0.1061769\ttotal: 599ms\tremaining: 393ms\n",
      "604:\tlearn: 0.1059890\ttotal: 600ms\tremaining: 392ms\n",
      "605:\tlearn: 0.1058676\ttotal: 601ms\tremaining: 391ms\n",
      "606:\tlearn: 0.1056848\ttotal: 602ms\tremaining: 389ms\n",
      "607:\tlearn: 0.1054962\ttotal: 602ms\tremaining: 388ms\n",
      "608:\tlearn: 0.1052904\ttotal: 603ms\tremaining: 387ms\n",
      "609:\tlearn: 0.1050306\ttotal: 604ms\tremaining: 386ms\n",
      "610:\tlearn: 0.1048029\ttotal: 605ms\tremaining: 385ms\n",
      "611:\tlearn: 0.1047304\ttotal: 606ms\tremaining: 384ms\n",
      "612:\tlearn: 0.1046122\ttotal: 607ms\tremaining: 383ms\n",
      "613:\tlearn: 0.1044848\ttotal: 608ms\tremaining: 382ms\n",
      "614:\tlearn: 0.1043450\ttotal: 609ms\tremaining: 381ms\n",
      "615:\tlearn: 0.1041875\ttotal: 610ms\tremaining: 380ms\n",
      "616:\tlearn: 0.1039872\ttotal: 611ms\tremaining: 379ms\n",
      "617:\tlearn: 0.1038500\ttotal: 612ms\tremaining: 378ms\n",
      "618:\tlearn: 0.1036118\ttotal: 613ms\tremaining: 377ms\n",
      "619:\tlearn: 0.1035030\ttotal: 614ms\tremaining: 376ms\n",
      "620:\tlearn: 0.1033631\ttotal: 615ms\tremaining: 375ms\n",
      "621:\tlearn: 0.1032100\ttotal: 616ms\tremaining: 374ms\n",
      "622:\tlearn: 0.1030782\ttotal: 617ms\tremaining: 373ms\n",
      "623:\tlearn: 0.1029716\ttotal: 617ms\tremaining: 372ms\n",
      "624:\tlearn: 0.1028276\ttotal: 618ms\tremaining: 371ms\n",
      "625:\tlearn: 0.1027016\ttotal: 619ms\tremaining: 370ms\n",
      "626:\tlearn: 0.1026373\ttotal: 620ms\tremaining: 369ms\n",
      "627:\tlearn: 0.1025132\ttotal: 621ms\tremaining: 368ms\n",
      "628:\tlearn: 0.1023484\ttotal: 622ms\tremaining: 367ms\n",
      "629:\tlearn: 0.1021216\ttotal: 622ms\tremaining: 366ms\n",
      "630:\tlearn: 0.1019552\ttotal: 623ms\tremaining: 365ms\n",
      "631:\tlearn: 0.1017105\ttotal: 624ms\tremaining: 363ms\n",
      "632:\tlearn: 0.1015554\ttotal: 625ms\tremaining: 362ms\n",
      "633:\tlearn: 0.1014200\ttotal: 626ms\tremaining: 361ms\n",
      "634:\tlearn: 0.1012352\ttotal: 627ms\tremaining: 360ms\n",
      "635:\tlearn: 0.1011171\ttotal: 628ms\tremaining: 359ms\n",
      "636:\tlearn: 0.1009533\ttotal: 629ms\tremaining: 358ms\n",
      "637:\tlearn: 0.1007727\ttotal: 630ms\tremaining: 357ms\n",
      "638:\tlearn: 0.1006419\ttotal: 630ms\tremaining: 356ms\n",
      "639:\tlearn: 0.1004677\ttotal: 632ms\tremaining: 355ms\n",
      "640:\tlearn: 0.1001926\ttotal: 633ms\tremaining: 354ms\n",
      "641:\tlearn: 0.1000540\ttotal: 633ms\tremaining: 353ms\n",
      "642:\tlearn: 0.0999145\ttotal: 634ms\tremaining: 352ms\n",
      "643:\tlearn: 0.0997175\ttotal: 635ms\tremaining: 351ms\n",
      "644:\tlearn: 0.0996003\ttotal: 636ms\tremaining: 350ms\n",
      "645:\tlearn: 0.0993344\ttotal: 637ms\tremaining: 349ms\n",
      "646:\tlearn: 0.0992195\ttotal: 638ms\tremaining: 348ms\n",
      "647:\tlearn: 0.0990839\ttotal: 639ms\tremaining: 347ms\n",
      "648:\tlearn: 0.0989586\ttotal: 639ms\tremaining: 346ms\n",
      "649:\tlearn: 0.0988270\ttotal: 640ms\tremaining: 345ms\n",
      "650:\tlearn: 0.0987057\ttotal: 641ms\tremaining: 344ms\n",
      "651:\tlearn: 0.0986563\ttotal: 642ms\tremaining: 343ms\n",
      "652:\tlearn: 0.0983848\ttotal: 643ms\tremaining: 342ms\n",
      "653:\tlearn: 0.0982209\ttotal: 644ms\tremaining: 341ms\n",
      "654:\tlearn: 0.0980660\ttotal: 645ms\tremaining: 340ms\n",
      "655:\tlearn: 0.0979542\ttotal: 646ms\tremaining: 339ms\n",
      "656:\tlearn: 0.0978227\ttotal: 647ms\tremaining: 338ms\n",
      "657:\tlearn: 0.0977282\ttotal: 648ms\tremaining: 337ms\n",
      "658:\tlearn: 0.0975417\ttotal: 649ms\tremaining: 336ms\n",
      "659:\tlearn: 0.0973855\ttotal: 649ms\tremaining: 335ms\n",
      "660:\tlearn: 0.0972339\ttotal: 651ms\tremaining: 334ms\n",
      "661:\tlearn: 0.0971465\ttotal: 651ms\tremaining: 333ms\n",
      "662:\tlearn: 0.0969868\ttotal: 652ms\tremaining: 332ms\n",
      "663:\tlearn: 0.0967903\ttotal: 653ms\tremaining: 330ms\n",
      "664:\tlearn: 0.0966706\ttotal: 654ms\tremaining: 329ms\n",
      "665:\tlearn: 0.0965838\ttotal: 655ms\tremaining: 328ms\n",
      "666:\tlearn: 0.0964795\ttotal: 655ms\tremaining: 327ms\n",
      "667:\tlearn: 0.0963556\ttotal: 656ms\tremaining: 326ms\n",
      "668:\tlearn: 0.0962922\ttotal: 657ms\tremaining: 325ms\n",
      "669:\tlearn: 0.0961300\ttotal: 658ms\tremaining: 324ms\n",
      "670:\tlearn: 0.0959537\ttotal: 659ms\tremaining: 323ms\n",
      "671:\tlearn: 0.0958148\ttotal: 660ms\tremaining: 322ms\n",
      "672:\tlearn: 0.0957564\ttotal: 661ms\tremaining: 321ms\n",
      "673:\tlearn: 0.0957024\ttotal: 661ms\tremaining: 320ms\n",
      "674:\tlearn: 0.0956015\ttotal: 662ms\tremaining: 319ms\n",
      "675:\tlearn: 0.0953526\ttotal: 663ms\tremaining: 318ms\n",
      "676:\tlearn: 0.0951502\ttotal: 664ms\tremaining: 317ms\n",
      "677:\tlearn: 0.0950716\ttotal: 665ms\tremaining: 316ms\n",
      "678:\tlearn: 0.0949949\ttotal: 666ms\tremaining: 315ms\n",
      "679:\tlearn: 0.0948853\ttotal: 667ms\tremaining: 314ms\n",
      "680:\tlearn: 0.0948567\ttotal: 667ms\tremaining: 313ms\n",
      "681:\tlearn: 0.0946367\ttotal: 668ms\tremaining: 312ms\n",
      "682:\tlearn: 0.0945717\ttotal: 669ms\tremaining: 311ms\n",
      "683:\tlearn: 0.0943398\ttotal: 670ms\tremaining: 309ms\n",
      "684:\tlearn: 0.0942150\ttotal: 671ms\tremaining: 308ms\n",
      "685:\tlearn: 0.0941424\ttotal: 672ms\tremaining: 307ms\n",
      "686:\tlearn: 0.0939884\ttotal: 672ms\tremaining: 306ms\n",
      "687:\tlearn: 0.0938854\ttotal: 673ms\tremaining: 305ms\n",
      "688:\tlearn: 0.0935653\ttotal: 674ms\tremaining: 304ms\n",
      "689:\tlearn: 0.0933497\ttotal: 675ms\tremaining: 303ms\n",
      "690:\tlearn: 0.0931945\ttotal: 676ms\tremaining: 302ms\n",
      "691:\tlearn: 0.0931472\ttotal: 677ms\tremaining: 301ms\n",
      "692:\tlearn: 0.0929947\ttotal: 678ms\tremaining: 300ms\n",
      "693:\tlearn: 0.0927808\ttotal: 679ms\tremaining: 299ms\n",
      "694:\tlearn: 0.0927302\ttotal: 679ms\tremaining: 298ms\n",
      "695:\tlearn: 0.0926221\ttotal: 680ms\tremaining: 297ms\n"
     ]
    },
    {
     "name": "stdout",
     "output_type": "stream",
     "text": [
      "696:\tlearn: 0.0924282\ttotal: 681ms\tremaining: 296ms\n",
      "697:\tlearn: 0.0922215\ttotal: 682ms\tremaining: 295ms\n",
      "698:\tlearn: 0.0920383\ttotal: 683ms\tremaining: 294ms\n",
      "699:\tlearn: 0.0918511\ttotal: 684ms\tremaining: 293ms\n",
      "700:\tlearn: 0.0917314\ttotal: 685ms\tremaining: 292ms\n",
      "701:\tlearn: 0.0915804\ttotal: 686ms\tremaining: 291ms\n",
      "702:\tlearn: 0.0915239\ttotal: 687ms\tremaining: 290ms\n",
      "703:\tlearn: 0.0913665\ttotal: 687ms\tremaining: 289ms\n",
      "704:\tlearn: 0.0911324\ttotal: 688ms\tremaining: 288ms\n",
      "705:\tlearn: 0.0910607\ttotal: 689ms\tremaining: 287ms\n",
      "706:\tlearn: 0.0909396\ttotal: 690ms\tremaining: 286ms\n",
      "707:\tlearn: 0.0908181\ttotal: 691ms\tremaining: 285ms\n",
      "708:\tlearn: 0.0907695\ttotal: 692ms\tremaining: 284ms\n",
      "709:\tlearn: 0.0906621\ttotal: 693ms\tremaining: 283ms\n",
      "710:\tlearn: 0.0906356\ttotal: 694ms\tremaining: 282ms\n",
      "711:\tlearn: 0.0904113\ttotal: 695ms\tremaining: 281ms\n",
      "712:\tlearn: 0.0903484\ttotal: 695ms\tremaining: 280ms\n",
      "713:\tlearn: 0.0902853\ttotal: 696ms\tremaining: 279ms\n",
      "714:\tlearn: 0.0901553\ttotal: 697ms\tremaining: 278ms\n",
      "715:\tlearn: 0.0900614\ttotal: 698ms\tremaining: 277ms\n",
      "716:\tlearn: 0.0899436\ttotal: 699ms\tremaining: 276ms\n",
      "717:\tlearn: 0.0898870\ttotal: 700ms\tremaining: 275ms\n",
      "718:\tlearn: 0.0897833\ttotal: 701ms\tremaining: 274ms\n",
      "719:\tlearn: 0.0897379\ttotal: 702ms\tremaining: 273ms\n",
      "720:\tlearn: 0.0896131\ttotal: 703ms\tremaining: 272ms\n",
      "721:\tlearn: 0.0895145\ttotal: 703ms\tremaining: 271ms\n",
      "722:\tlearn: 0.0894308\ttotal: 704ms\tremaining: 270ms\n",
      "723:\tlearn: 0.0893151\ttotal: 705ms\tremaining: 269ms\n",
      "724:\tlearn: 0.0892251\ttotal: 706ms\tremaining: 268ms\n",
      "725:\tlearn: 0.0889841\ttotal: 707ms\tremaining: 267ms\n",
      "726:\tlearn: 0.0887490\ttotal: 708ms\tremaining: 266ms\n",
      "727:\tlearn: 0.0886269\ttotal: 709ms\tremaining: 265ms\n",
      "728:\tlearn: 0.0884569\ttotal: 710ms\tremaining: 264ms\n",
      "729:\tlearn: 0.0882928\ttotal: 711ms\tremaining: 263ms\n",
      "730:\tlearn: 0.0882185\ttotal: 711ms\tremaining: 262ms\n",
      "731:\tlearn: 0.0880107\ttotal: 712ms\tremaining: 261ms\n",
      "732:\tlearn: 0.0878867\ttotal: 713ms\tremaining: 260ms\n",
      "733:\tlearn: 0.0877094\ttotal: 714ms\tremaining: 259ms\n",
      "734:\tlearn: 0.0874820\ttotal: 715ms\tremaining: 258ms\n",
      "735:\tlearn: 0.0873416\ttotal: 716ms\tremaining: 257ms\n",
      "736:\tlearn: 0.0871576\ttotal: 717ms\tremaining: 256ms\n",
      "737:\tlearn: 0.0869496\ttotal: 718ms\tremaining: 255ms\n",
      "738:\tlearn: 0.0868379\ttotal: 718ms\tremaining: 254ms\n",
      "739:\tlearn: 0.0867922\ttotal: 719ms\tremaining: 253ms\n",
      "740:\tlearn: 0.0866466\ttotal: 720ms\tremaining: 252ms\n",
      "741:\tlearn: 0.0864754\ttotal: 721ms\tremaining: 251ms\n",
      "742:\tlearn: 0.0863456\ttotal: 722ms\tremaining: 250ms\n",
      "743:\tlearn: 0.0862703\ttotal: 723ms\tremaining: 249ms\n",
      "744:\tlearn: 0.0862092\ttotal: 723ms\tremaining: 248ms\n",
      "745:\tlearn: 0.0861819\ttotal: 724ms\tremaining: 247ms\n",
      "746:\tlearn: 0.0859269\ttotal: 725ms\tremaining: 246ms\n",
      "747:\tlearn: 0.0857790\ttotal: 726ms\tremaining: 245ms\n",
      "748:\tlearn: 0.0857224\ttotal: 728ms\tremaining: 244ms\n",
      "749:\tlearn: 0.0855324\ttotal: 729ms\tremaining: 243ms\n",
      "750:\tlearn: 0.0853940\ttotal: 729ms\tremaining: 242ms\n",
      "751:\tlearn: 0.0852689\ttotal: 730ms\tremaining: 241ms\n",
      "752:\tlearn: 0.0850725\ttotal: 731ms\tremaining: 240ms\n",
      "753:\tlearn: 0.0848945\ttotal: 732ms\tremaining: 239ms\n",
      "754:\tlearn: 0.0848016\ttotal: 734ms\tremaining: 238ms\n",
      "755:\tlearn: 0.0847102\ttotal: 735ms\tremaining: 237ms\n",
      "756:\tlearn: 0.0846476\ttotal: 736ms\tremaining: 236ms\n",
      "757:\tlearn: 0.0845391\ttotal: 736ms\tremaining: 235ms\n",
      "758:\tlearn: 0.0845001\ttotal: 737ms\tremaining: 234ms\n",
      "759:\tlearn: 0.0843821\ttotal: 738ms\tremaining: 233ms\n",
      "760:\tlearn: 0.0842534\ttotal: 739ms\tremaining: 232ms\n",
      "761:\tlearn: 0.0841749\ttotal: 740ms\tremaining: 231ms\n",
      "762:\tlearn: 0.0841333\ttotal: 741ms\tremaining: 230ms\n",
      "763:\tlearn: 0.0840523\ttotal: 742ms\tremaining: 229ms\n",
      "764:\tlearn: 0.0840000\ttotal: 742ms\tremaining: 228ms\n",
      "765:\tlearn: 0.0838132\ttotal: 743ms\tremaining: 227ms\n",
      "766:\tlearn: 0.0837977\ttotal: 744ms\tremaining: 226ms\n",
      "767:\tlearn: 0.0837761\ttotal: 745ms\tremaining: 225ms\n",
      "768:\tlearn: 0.0836572\ttotal: 746ms\tremaining: 224ms\n",
      "769:\tlearn: 0.0835242\ttotal: 747ms\tremaining: 223ms\n",
      "770:\tlearn: 0.0834791\ttotal: 748ms\tremaining: 222ms\n",
      "771:\tlearn: 0.0834679\ttotal: 749ms\tremaining: 221ms\n",
      "772:\tlearn: 0.0834048\ttotal: 749ms\tremaining: 220ms\n",
      "773:\tlearn: 0.0831594\ttotal: 750ms\tremaining: 219ms\n",
      "774:\tlearn: 0.0830692\ttotal: 751ms\tremaining: 218ms\n",
      "775:\tlearn: 0.0830129\ttotal: 752ms\tremaining: 217ms\n",
      "776:\tlearn: 0.0829021\ttotal: 753ms\tremaining: 216ms\n",
      "777:\tlearn: 0.0827260\ttotal: 754ms\tremaining: 215ms\n",
      "778:\tlearn: 0.0825932\ttotal: 755ms\tremaining: 214ms\n",
      "779:\tlearn: 0.0824689\ttotal: 756ms\tremaining: 213ms\n",
      "780:\tlearn: 0.0823901\ttotal: 757ms\tremaining: 212ms\n",
      "781:\tlearn: 0.0822299\ttotal: 758ms\tremaining: 211ms\n",
      "782:\tlearn: 0.0821444\ttotal: 759ms\tremaining: 210ms\n",
      "783:\tlearn: 0.0819520\ttotal: 760ms\tremaining: 209ms\n",
      "784:\tlearn: 0.0818288\ttotal: 761ms\tremaining: 208ms\n",
      "785:\tlearn: 0.0817569\ttotal: 762ms\tremaining: 207ms\n",
      "786:\tlearn: 0.0815706\ttotal: 762ms\tremaining: 206ms\n",
      "787:\tlearn: 0.0814312\ttotal: 763ms\tremaining: 205ms\n"
     ]
    },
    {
     "name": "stdout",
     "output_type": "stream",
     "text": [
      "788:\tlearn: 0.0813461\ttotal: 765ms\tremaining: 204ms\n",
      "789:\tlearn: 0.0812751\ttotal: 766ms\tremaining: 203ms\n",
      "790:\tlearn: 0.0811910\ttotal: 766ms\tremaining: 202ms\n",
      "791:\tlearn: 0.0811384\ttotal: 768ms\tremaining: 202ms\n",
      "792:\tlearn: 0.0810691\ttotal: 769ms\tremaining: 201ms\n",
      "793:\tlearn: 0.0810449\ttotal: 770ms\tremaining: 200ms\n",
      "794:\tlearn: 0.0809374\ttotal: 771ms\tremaining: 199ms\n",
      "795:\tlearn: 0.0808511\ttotal: 772ms\tremaining: 198ms\n",
      "796:\tlearn: 0.0807735\ttotal: 772ms\tremaining: 197ms\n",
      "797:\tlearn: 0.0806208\ttotal: 773ms\tremaining: 196ms\n",
      "798:\tlearn: 0.0805320\ttotal: 774ms\tremaining: 195ms\n",
      "799:\tlearn: 0.0803569\ttotal: 775ms\tremaining: 194ms\n",
      "800:\tlearn: 0.0801753\ttotal: 776ms\tremaining: 193ms\n",
      "801:\tlearn: 0.0801021\ttotal: 777ms\tremaining: 192ms\n",
      "802:\tlearn: 0.0800892\ttotal: 777ms\tremaining: 191ms\n",
      "803:\tlearn: 0.0800775\ttotal: 778ms\tremaining: 190ms\n",
      "804:\tlearn: 0.0799332\ttotal: 779ms\tremaining: 189ms\n",
      "805:\tlearn: 0.0796937\ttotal: 780ms\tremaining: 188ms\n",
      "806:\tlearn: 0.0795547\ttotal: 781ms\tremaining: 187ms\n",
      "807:\tlearn: 0.0794656\ttotal: 782ms\tremaining: 186ms\n",
      "808:\tlearn: 0.0793634\ttotal: 783ms\tremaining: 185ms\n",
      "809:\tlearn: 0.0792748\ttotal: 784ms\tremaining: 184ms\n",
      "810:\tlearn: 0.0791002\ttotal: 785ms\tremaining: 183ms\n",
      "811:\tlearn: 0.0790211\ttotal: 785ms\tremaining: 182ms\n",
      "812:\tlearn: 0.0789480\ttotal: 786ms\tremaining: 181ms\n",
      "813:\tlearn: 0.0788358\ttotal: 787ms\tremaining: 180ms\n",
      "814:\tlearn: 0.0787432\ttotal: 788ms\tremaining: 179ms\n",
      "815:\tlearn: 0.0787014\ttotal: 789ms\tremaining: 178ms\n",
      "816:\tlearn: 0.0785483\ttotal: 790ms\tremaining: 177ms\n",
      "817:\tlearn: 0.0783138\ttotal: 791ms\tremaining: 176ms\n",
      "818:\tlearn: 0.0782655\ttotal: 791ms\tremaining: 175ms\n",
      "819:\tlearn: 0.0781449\ttotal: 792ms\tremaining: 174ms\n",
      "820:\tlearn: 0.0779946\ttotal: 793ms\tremaining: 173ms\n",
      "821:\tlearn: 0.0779138\ttotal: 794ms\tremaining: 172ms\n",
      "822:\tlearn: 0.0778766\ttotal: 795ms\tremaining: 171ms\n",
      "823:\tlearn: 0.0777223\ttotal: 796ms\tremaining: 170ms\n",
      "824:\tlearn: 0.0775710\ttotal: 797ms\tremaining: 169ms\n",
      "825:\tlearn: 0.0774583\ttotal: 797ms\tremaining: 168ms\n",
      "826:\tlearn: 0.0773794\ttotal: 798ms\tremaining: 167ms\n",
      "827:\tlearn: 0.0772348\ttotal: 799ms\tremaining: 166ms\n",
      "828:\tlearn: 0.0771468\ttotal: 800ms\tremaining: 165ms\n",
      "829:\tlearn: 0.0770129\ttotal: 801ms\tremaining: 164ms\n",
      "830:\tlearn: 0.0769055\ttotal: 802ms\tremaining: 163ms\n",
      "831:\tlearn: 0.0768945\ttotal: 802ms\tremaining: 162ms\n",
      "832:\tlearn: 0.0767703\ttotal: 803ms\tremaining: 161ms\n",
      "833:\tlearn: 0.0766335\ttotal: 804ms\tremaining: 160ms\n",
      "834:\tlearn: 0.0765933\ttotal: 805ms\tremaining: 159ms\n",
      "835:\tlearn: 0.0765789\ttotal: 806ms\tremaining: 158ms\n",
      "836:\tlearn: 0.0764913\ttotal: 807ms\tremaining: 157ms\n",
      "837:\tlearn: 0.0763681\ttotal: 808ms\tremaining: 156ms\n",
      "838:\tlearn: 0.0762735\ttotal: 808ms\tremaining: 155ms\n",
      "839:\tlearn: 0.0761671\ttotal: 809ms\tremaining: 154ms\n",
      "840:\tlearn: 0.0760229\ttotal: 810ms\tremaining: 153ms\n",
      "841:\tlearn: 0.0759632\ttotal: 811ms\tremaining: 152ms\n",
      "842:\tlearn: 0.0758584\ttotal: 812ms\tremaining: 151ms\n",
      "843:\tlearn: 0.0757865\ttotal: 813ms\tremaining: 150ms\n",
      "844:\tlearn: 0.0756639\ttotal: 814ms\tremaining: 149ms\n",
      "845:\tlearn: 0.0756372\ttotal: 815ms\tremaining: 148ms\n",
      "846:\tlearn: 0.0755669\ttotal: 815ms\tremaining: 147ms\n",
      "847:\tlearn: 0.0754466\ttotal: 816ms\tremaining: 146ms\n",
      "848:\tlearn: 0.0753153\ttotal: 817ms\tremaining: 145ms\n",
      "849:\tlearn: 0.0752669\ttotal: 818ms\tremaining: 144ms\n",
      "850:\tlearn: 0.0751914\ttotal: 819ms\tremaining: 143ms\n",
      "851:\tlearn: 0.0751311\ttotal: 820ms\tremaining: 142ms\n",
      "852:\tlearn: 0.0750435\ttotal: 821ms\tremaining: 141ms\n",
      "853:\tlearn: 0.0749795\ttotal: 822ms\tremaining: 140ms\n",
      "854:\tlearn: 0.0748798\ttotal: 823ms\tremaining: 140ms\n",
      "855:\tlearn: 0.0748101\ttotal: 823ms\tremaining: 139ms\n",
      "856:\tlearn: 0.0747193\ttotal: 824ms\tremaining: 138ms\n",
      "857:\tlearn: 0.0745706\ttotal: 825ms\tremaining: 137ms\n",
      "858:\tlearn: 0.0744126\ttotal: 826ms\tremaining: 136ms\n",
      "859:\tlearn: 0.0743083\ttotal: 827ms\tremaining: 135ms\n",
      "860:\tlearn: 0.0742988\ttotal: 828ms\tremaining: 134ms\n",
      "861:\tlearn: 0.0741765\ttotal: 829ms\tremaining: 133ms\n",
      "862:\tlearn: 0.0741014\ttotal: 830ms\tremaining: 132ms\n",
      "863:\tlearn: 0.0739572\ttotal: 830ms\tremaining: 131ms\n",
      "864:\tlearn: 0.0738434\ttotal: 831ms\tremaining: 130ms\n",
      "865:\tlearn: 0.0738007\ttotal: 832ms\tremaining: 129ms\n",
      "866:\tlearn: 0.0737165\ttotal: 833ms\tremaining: 128ms\n",
      "867:\tlearn: 0.0736175\ttotal: 834ms\tremaining: 127ms\n",
      "868:\tlearn: 0.0735397\ttotal: 835ms\tremaining: 126ms\n",
      "869:\tlearn: 0.0734702\ttotal: 836ms\tremaining: 125ms\n",
      "870:\tlearn: 0.0734127\ttotal: 837ms\tremaining: 124ms\n",
      "871:\tlearn: 0.0733314\ttotal: 838ms\tremaining: 123ms\n",
      "872:\tlearn: 0.0731726\ttotal: 838ms\tremaining: 122ms\n",
      "873:\tlearn: 0.0730989\ttotal: 839ms\tremaining: 121ms\n",
      "874:\tlearn: 0.0730397\ttotal: 840ms\tremaining: 120ms\n",
      "875:\tlearn: 0.0729733\ttotal: 841ms\tremaining: 119ms\n",
      "876:\tlearn: 0.0728270\ttotal: 842ms\tremaining: 118ms\n",
      "877:\tlearn: 0.0728154\ttotal: 843ms\tremaining: 117ms\n",
      "878:\tlearn: 0.0726426\ttotal: 843ms\tremaining: 116ms\n",
      "879:\tlearn: 0.0725268\ttotal: 844ms\tremaining: 115ms\n",
      "880:\tlearn: 0.0724148\ttotal: 845ms\tremaining: 114ms\n",
      "881:\tlearn: 0.0723981\ttotal: 846ms\tremaining: 113ms\n",
      "882:\tlearn: 0.0722645\ttotal: 847ms\tremaining: 112ms\n",
      "883:\tlearn: 0.0722534\ttotal: 847ms\tremaining: 111ms\n",
      "884:\tlearn: 0.0721717\ttotal: 848ms\tremaining: 110ms\n",
      "885:\tlearn: 0.0721597\ttotal: 850ms\tremaining: 109ms\n",
      "886:\tlearn: 0.0721068\ttotal: 851ms\tremaining: 108ms\n",
      "887:\tlearn: 0.0719880\ttotal: 852ms\tremaining: 107ms\n",
      "888:\tlearn: 0.0719059\ttotal: 852ms\tremaining: 106ms\n",
      "889:\tlearn: 0.0717303\ttotal: 853ms\tremaining: 105ms\n",
      "890:\tlearn: 0.0716007\ttotal: 854ms\tremaining: 105ms\n",
      "891:\tlearn: 0.0715456\ttotal: 855ms\tremaining: 104ms\n",
      "892:\tlearn: 0.0714285\ttotal: 856ms\tremaining: 103ms\n",
      "893:\tlearn: 0.0713467\ttotal: 857ms\tremaining: 102ms\n",
      "894:\tlearn: 0.0712174\ttotal: 858ms\tremaining: 101ms\n",
      "895:\tlearn: 0.0711355\ttotal: 859ms\tremaining: 99.7ms\n",
      "896:\tlearn: 0.0710266\ttotal: 860ms\tremaining: 98.7ms\n",
      "897:\tlearn: 0.0710147\ttotal: 861ms\tremaining: 97.7ms\n",
      "898:\tlearn: 0.0708957\ttotal: 861ms\tremaining: 96.8ms\n",
      "899:\tlearn: 0.0707340\ttotal: 862ms\tremaining: 95.8ms\n",
      "900:\tlearn: 0.0707260\ttotal: 863ms\tremaining: 94.8ms\n",
      "901:\tlearn: 0.0706589\ttotal: 864ms\tremaining: 93.9ms\n",
      "902:\tlearn: 0.0705973\ttotal: 865ms\tremaining: 92.9ms\n",
      "903:\tlearn: 0.0705247\ttotal: 866ms\tremaining: 91.9ms\n",
      "904:\tlearn: 0.0704267\ttotal: 867ms\tremaining: 91ms\n",
      "905:\tlearn: 0.0702778\ttotal: 868ms\tremaining: 90ms\n",
      "906:\tlearn: 0.0702691\ttotal: 869ms\tremaining: 89.1ms\n",
      "907:\tlearn: 0.0702556\ttotal: 869ms\tremaining: 88.1ms\n",
      "908:\tlearn: 0.0701852\ttotal: 870ms\tremaining: 87.1ms\n",
      "909:\tlearn: 0.0701678\ttotal: 871ms\tremaining: 86.2ms\n"
     ]
    },
    {
     "name": "stdout",
     "output_type": "stream",
     "text": [
      "910:\tlearn: 0.0701580\ttotal: 872ms\tremaining: 85.2ms\n",
      "911:\tlearn: 0.0699995\ttotal: 873ms\tremaining: 84.3ms\n",
      "912:\tlearn: 0.0698907\ttotal: 874ms\tremaining: 83.3ms\n",
      "913:\tlearn: 0.0697431\ttotal: 875ms\tremaining: 82.3ms\n",
      "914:\tlearn: 0.0695856\ttotal: 876ms\tremaining: 81.3ms\n",
      "915:\tlearn: 0.0695634\ttotal: 876ms\tremaining: 80.4ms\n",
      "916:\tlearn: 0.0694498\ttotal: 877ms\tremaining: 79.4ms\n",
      "917:\tlearn: 0.0693852\ttotal: 878ms\tremaining: 78.4ms\n",
      "918:\tlearn: 0.0693020\ttotal: 879ms\tremaining: 77.5ms\n",
      "919:\tlearn: 0.0691763\ttotal: 880ms\tremaining: 76.5ms\n",
      "920:\tlearn: 0.0690738\ttotal: 881ms\tremaining: 75.5ms\n",
      "921:\tlearn: 0.0689231\ttotal: 882ms\tremaining: 74.6ms\n",
      "922:\tlearn: 0.0689132\ttotal: 883ms\tremaining: 73.6ms\n",
      "923:\tlearn: 0.0688147\ttotal: 883ms\tremaining: 72.7ms\n",
      "924:\tlearn: 0.0687912\ttotal: 884ms\tremaining: 71.7ms\n",
      "925:\tlearn: 0.0687834\ttotal: 885ms\tremaining: 70.7ms\n",
      "926:\tlearn: 0.0686632\ttotal: 886ms\tremaining: 69.8ms\n",
      "927:\tlearn: 0.0686503\ttotal: 887ms\tremaining: 68.8ms\n",
      "928:\tlearn: 0.0685223\ttotal: 888ms\tremaining: 67.8ms\n",
      "929:\tlearn: 0.0684683\ttotal: 889ms\tremaining: 66.9ms\n",
      "930:\tlearn: 0.0683530\ttotal: 890ms\tremaining: 65.9ms\n",
      "931:\tlearn: 0.0682612\ttotal: 890ms\tremaining: 65ms\n",
      "932:\tlearn: 0.0681936\ttotal: 891ms\tremaining: 64ms\n",
      "933:\tlearn: 0.0680984\ttotal: 892ms\tremaining: 63ms\n",
      "934:\tlearn: 0.0680218\ttotal: 893ms\tremaining: 62.1ms\n",
      "935:\tlearn: 0.0679607\ttotal: 894ms\tremaining: 61.1ms\n",
      "936:\tlearn: 0.0678941\ttotal: 895ms\tremaining: 60.2ms\n",
      "937:\tlearn: 0.0678153\ttotal: 896ms\tremaining: 59.2ms\n",
      "938:\tlearn: 0.0678077\ttotal: 896ms\tremaining: 58.2ms\n",
      "939:\tlearn: 0.0677152\ttotal: 897ms\tremaining: 57.3ms\n",
      "940:\tlearn: 0.0676473\ttotal: 898ms\tremaining: 56.3ms\n",
      "941:\tlearn: 0.0675790\ttotal: 899ms\tremaining: 55.4ms\n",
      "942:\tlearn: 0.0674181\ttotal: 900ms\tremaining: 54.4ms\n",
      "943:\tlearn: 0.0673909\ttotal: 901ms\tremaining: 53.4ms\n",
      "944:\tlearn: 0.0672109\ttotal: 902ms\tremaining: 52.5ms\n",
      "945:\tlearn: 0.0671412\ttotal: 903ms\tremaining: 51.5ms\n",
      "946:\tlearn: 0.0669988\ttotal: 904ms\tremaining: 50.6ms\n",
      "947:\tlearn: 0.0668676\ttotal: 904ms\tremaining: 49.6ms\n",
      "948:\tlearn: 0.0668566\ttotal: 905ms\tremaining: 48.6ms\n",
      "949:\tlearn: 0.0667876\ttotal: 906ms\tremaining: 47.7ms\n",
      "950:\tlearn: 0.0667046\ttotal: 907ms\tremaining: 46.7ms\n",
      "951:\tlearn: 0.0665921\ttotal: 908ms\tremaining: 45.8ms\n",
      "952:\tlearn: 0.0665188\ttotal: 909ms\tremaining: 44.8ms\n",
      "953:\tlearn: 0.0664452\ttotal: 909ms\tremaining: 43.9ms\n",
      "954:\tlearn: 0.0663480\ttotal: 910ms\tremaining: 42.9ms\n",
      "955:\tlearn: 0.0662132\ttotal: 911ms\tremaining: 41.9ms\n",
      "956:\tlearn: 0.0661063\ttotal: 912ms\tremaining: 41ms\n",
      "957:\tlearn: 0.0659195\ttotal: 913ms\tremaining: 40ms\n",
      "958:\tlearn: 0.0658206\ttotal: 914ms\tremaining: 39.1ms\n",
      "959:\tlearn: 0.0657379\ttotal: 914ms\tremaining: 38.1ms\n",
      "960:\tlearn: 0.0656118\ttotal: 915ms\tremaining: 37.1ms\n",
      "961:\tlearn: 0.0656024\ttotal: 917ms\tremaining: 36.2ms\n",
      "962:\tlearn: 0.0654532\ttotal: 918ms\tremaining: 35.3ms\n",
      "963:\tlearn: 0.0653937\ttotal: 918ms\tremaining: 34.3ms\n",
      "964:\tlearn: 0.0653179\ttotal: 919ms\tremaining: 33.3ms\n",
      "965:\tlearn: 0.0652605\ttotal: 920ms\tremaining: 32.4ms\n",
      "966:\tlearn: 0.0652292\ttotal: 921ms\tremaining: 31.4ms\n",
      "967:\tlearn: 0.0652218\ttotal: 922ms\tremaining: 30.5ms\n",
      "968:\tlearn: 0.0652146\ttotal: 923ms\tremaining: 29.5ms\n",
      "969:\tlearn: 0.0651310\ttotal: 924ms\tremaining: 28.6ms\n",
      "970:\tlearn: 0.0649848\ttotal: 925ms\tremaining: 27.6ms\n",
      "971:\tlearn: 0.0648815\ttotal: 926ms\tremaining: 26.7ms\n",
      "972:\tlearn: 0.0648218\ttotal: 926ms\tremaining: 25.7ms\n",
      "973:\tlearn: 0.0646969\ttotal: 927ms\tremaining: 24.8ms\n",
      "974:\tlearn: 0.0645352\ttotal: 928ms\tremaining: 23.8ms\n",
      "975:\tlearn: 0.0645287\ttotal: 929ms\tremaining: 22.8ms\n",
      "976:\tlearn: 0.0644030\ttotal: 930ms\tremaining: 21.9ms\n",
      "977:\tlearn: 0.0643934\ttotal: 931ms\tremaining: 20.9ms\n",
      "978:\tlearn: 0.0643287\ttotal: 932ms\tremaining: 20ms\n",
      "979:\tlearn: 0.0642445\ttotal: 933ms\tremaining: 19ms\n",
      "980:\tlearn: 0.0641832\ttotal: 933ms\tremaining: 18.1ms\n",
      "981:\tlearn: 0.0641246\ttotal: 934ms\tremaining: 17.1ms\n",
      "982:\tlearn: 0.0639672\ttotal: 935ms\tremaining: 16.2ms\n",
      "983:\tlearn: 0.0638705\ttotal: 936ms\tremaining: 15.2ms\n",
      "984:\tlearn: 0.0637906\ttotal: 937ms\tremaining: 14.3ms\n",
      "985:\tlearn: 0.0637425\ttotal: 937ms\tremaining: 13.3ms\n",
      "986:\tlearn: 0.0636397\ttotal: 938ms\tremaining: 12.4ms\n",
      "987:\tlearn: 0.0635758\ttotal: 939ms\tremaining: 11.4ms\n",
      "988:\tlearn: 0.0635697\ttotal: 940ms\tremaining: 10.5ms\n",
      "989:\tlearn: 0.0634857\ttotal: 941ms\tremaining: 9.5ms\n",
      "990:\tlearn: 0.0633614\ttotal: 942ms\tremaining: 8.55ms\n",
      "991:\tlearn: 0.0632430\ttotal: 942ms\tremaining: 7.6ms\n",
      "992:\tlearn: 0.0631526\ttotal: 943ms\tremaining: 6.65ms\n",
      "993:\tlearn: 0.0630837\ttotal: 944ms\tremaining: 5.7ms\n",
      "994:\tlearn: 0.0629380\ttotal: 945ms\tremaining: 4.75ms\n",
      "995:\tlearn: 0.0628548\ttotal: 946ms\tremaining: 3.8ms\n",
      "996:\tlearn: 0.0628177\ttotal: 947ms\tremaining: 2.85ms\n",
      "997:\tlearn: 0.0628119\ttotal: 947ms\tremaining: 1.9ms\n",
      "998:\tlearn: 0.0626809\ttotal: 948ms\tremaining: 949us\n",
      "999:\tlearn: 0.0626033\ttotal: 949ms\tremaining: 0us\n"
     ]
    },
    {
     "data": {
      "text/plain": [
       "<catboost.core.CatBoostRegressor at 0x7fb1c4da0c40>"
      ]
     },
     "execution_count": 9,
     "metadata": {},
     "output_type": "execute_result"
    }
   ],
   "source": [
    "#Train the Model \n",
    "prior_model = ctb.CatBoostRegressor()\n",
    "prior_model.fit(X_train,Y_train)"
   ]
  },
  {
   "cell_type": "code",
   "execution_count": 10,
   "id": "af65dcda",
   "metadata": {
    "execution": {
     "iopub.execute_input": "2022-06-12T05:09:06.626642Z",
     "iopub.status.busy": "2022-06-12T05:09:06.626252Z",
     "iopub.status.idle": "2022-06-12T05:09:06.633600Z",
     "shell.execute_reply": "2022-06-12T05:09:06.633900Z"
    },
    "id": "af65dcda",
    "papermill": {
     "duration": 0.020611,
     "end_time": "2022-06-12T05:09:06.634014",
     "exception": false,
     "start_time": "2022-06-12T05:09:06.613403",
     "status": "completed"
    },
    "tags": []
   },
   "outputs": [
    {
     "data": {
      "application/scrapbook.scrap.json+json": {
       "data": 0.06974814994606421,
       "encoder": "json",
       "name": "Prior Model MSE",
       "version": 1
      }
     },
     "metadata": {
      "scrapbook": {
       "data": true,
       "display": false,
       "name": "Prior Model MSE"
      }
     },
     "output_type": "display_data"
    },
    {
     "data": {
      "application/scrapbook.scrap.json+json": {
       "data": 0.08021772223017966,
       "encoder": "json",
       "name": "ABC Pre-generator MSE",
       "version": 1
      }
     },
     "metadata": {
      "scrapbook": {
       "data": true,
       "display": false,
       "name": "ABC Pre-generator MSE"
      }
     },
     "output_type": "display_data"
    },
    {
     "data": {
      "application/scrapbook.scrap.json+json": {
       "data": 0.18400947324255743,
       "encoder": "json",
       "name": "Prior Model MSE",
       "version": 1
      }
     },
     "metadata": {
      "scrapbook": {
       "data": true,
       "display": false,
       "name": "Prior Model MSE"
      }
     },
     "output_type": "display_data"
    },
    {
     "data": {
      "application/scrapbook.scrap.json+json": {
       "data": 0.21957044166171147,
       "encoder": "json",
       "name": "ABC Pre-generator MSE",
       "version": 1
      }
     },
     "metadata": {
      "scrapbook": {
       "data": true,
       "display": false,
       "name": "ABC Pre-generator MSE"
      }
     },
     "output_type": "display_data"
    }
   ],
   "source": [
    "y_pred = prior_model.predict(X_test)\n",
    "y_abc = y_pred + np.random.normal(0,variance, y_pred.shape) + bias \n",
    "mse = mean_squared_error(y_pred,Y_test)\n",
    "sb.glue(\"Prior Model MSE\",mse)\n",
    "mse = mean_squared_error(y_abc,Y_test)\n",
    "sb.glue(\"ABC Pre-generator MSE\",mse)\n",
    "mae = mean_absolute_error(y_pred,Y_test)\n",
    "sb.glue(\"Prior Model MSE\",mae)\n",
    "mae = mean_absolute_error(y_abc,Y_test)\n",
    "sb.glue(\"ABC Pre-generator MSE\",mae)"
   ]
  },
  {
   "cell_type": "markdown",
   "id": "25609da2",
   "metadata": {
    "papermill": {
     "duration": 0.009802,
     "end_time": "2022-06-12T05:09:06.653893",
     "exception": false,
     "start_time": "2022-06-12T05:09:06.644091",
     "status": "completed"
    },
    "tags": []
   },
   "source": [
    "# ABC GAN Model"
   ]
  },
  {
   "cell_type": "code",
   "execution_count": 11,
   "id": "dfc3464d",
   "metadata": {
    "execution": {
     "iopub.execute_input": "2022-06-12T05:09:06.676502Z",
     "iopub.status.busy": "2022-06-12T05:09:06.676132Z",
     "iopub.status.idle": "2022-06-12T05:09:06.678421Z",
     "shell.execute_reply": "2022-06-12T05:09:06.678656Z"
    },
    "papermill": {
     "duration": 0.015026,
     "end_time": "2022-06-12T05:09:06.678762",
     "exception": false,
     "start_time": "2022-06-12T05:09:06.663736",
     "status": "completed"
    },
    "tags": []
   },
   "outputs": [],
   "source": [
    "gen = network.Generator(n_features+1).to(device)\n",
    "disc = network.Discriminator(n_features+1).to(device)\n",
    "\n",
    "criterion = torch.nn.BCELoss()\n",
    "gen_opt = torch.optim.Adam(gen.parameters(), lr=0.001, betas=(0.5, 0.999))\n",
    "disc_opt = torch.optim.Adam(disc.parameters(), lr=0.001, betas=(0.5, 0.999))"
   ]
  },
  {
   "cell_type": "code",
   "execution_count": 12,
   "id": "b75fdd85",
   "metadata": {
    "execution": {
     "iopub.execute_input": "2022-06-12T05:09:06.701305Z",
     "iopub.status.busy": "2022-06-12T05:09:06.700933Z",
     "iopub.status.idle": "2022-06-12T05:10:06.681780Z",
     "shell.execute_reply": "2022-06-12T05:10:06.682073Z"
    },
    "papermill": {
     "duration": 59.993512,
     "end_time": "2022-06-12T05:10:06.682190",
     "exception": false,
     "start_time": "2022-06-12T05:09:06.688678",
     "status": "completed"
    },
    "tags": []
   },
   "outputs": [
    {
     "data": {
      "image/png": "[encoded data removed]",
      "text/plain": [
       "<Figure size 432x288 with 1 Axes>"
      ]
     },
     "metadata": {
      "needs_background": "light"
     },
     "output_type": "display_data"
    },
    {
     "data": {
      "image/png": "[encoded data removed]",
      "text/plain": [
       "<Figure size 432x288 with 1 Axes>"
      ]
     },
     "metadata": {
      "needs_background": "light"
     },
     "output_type": "display_data"
    }
   ],
   "source": [
    "#Training the ABC_GAN \n",
    "ABC_train_test2.training_GAN(disc,gen,disc_opt,gen_opt,train_data,batch_size,n_epochs,criterion,prior_model,variance,bias,device)"
   ]
  },
  {
   "cell_type": "code",
   "execution_count": 13,
   "id": "1fa7c368",
   "metadata": {
    "execution": {
     "iopub.execute_input": "2022-06-12T05:10:06.706242Z",
     "iopub.status.busy": "2022-06-12T05:10:06.705798Z",
     "iopub.status.idle": "2022-06-12T05:10:07.017805Z",
     "shell.execute_reply": "2022-06-12T05:10:07.018101Z"
    },
    "papermill": {
     "duration": 0.325294,
     "end_time": "2022-06-12T05:10:07.018233",
     "exception": false,
     "start_time": "2022-06-12T05:10:06.692939",
     "status": "completed"
    },
    "tags": []
   },
   "outputs": [
    {
     "data": {
      "application/scrapbook.scrap.json+json": {
       "data": 0.07244722950597855,
       "encoder": "json",
       "name": "ABC-GAN Model 1 MSE",
       "version": 1
      }
     },
     "metadata": {
      "scrapbook": {
       "data": true,
       "display": false,
       "name": "ABC-GAN Model 1 MSE"
      }
     },
     "output_type": "display_data"
    },
    {
     "data": {
      "application/scrapbook.scrap.json+json": {
       "data": 0.19199799579696036,
       "encoder": "json",
       "name": "ABC-GAN Model 1 MAE",
       "version": 1
      }
     },
     "metadata": {
      "scrapbook": {
       "data": true,
       "display": false,
       "name": "ABC-GAN Model 1 MAE"
      }
     },
     "output_type": "display_data"
    },
    {
     "data": {
      "application/scrapbook.scrap.json+json": {
       "data": 19.583795571289958,
       "encoder": "json",
       "name": "ABC-GAN Model 1 Manhattan Distance",
       "version": 1
      }
     },
     "metadata": {
      "scrapbook": {
       "data": true,
       "display": false,
       "name": "ABC-GAN Model 1 Manhattan Distance"
      }
     },
     "output_type": "display_data"
    },
    {
     "data": {
      "application/scrapbook.scrap.json+json": {
       "data": 2.718358066582787,
       "encoder": "json",
       "name": "ABC-GAN Model 1 Euclidean distance",
       "version": 1
      }
     },
     "metadata": {
      "scrapbook": {
       "data": true,
       "display": false,
       "name": "ABC-GAN Model 1 Euclidean distance"
      }
     },
     "output_type": "display_data"
    },
    {
     "data": {
      "application/scrapbook.scrap.json+json": {
       "data": [
        [
         0.0729020287568135,
         0.07225130895208087,
         0.07262809835638634,
         0.07170178575884771,
         0.07274982064751982,
         0.07353433871396597,
         0.07353658926590302,
         0.07313255537725226,
         0.07315942231427813,
         0.07230991824276412,
         0.07189108481895447,
         0.07348715109177519,
         0.07329691720734473,
         0.072242395978155,
         0.07215461512548633,
         0.07286913367839198,
         0.07247497700685653,
         0.07243262546931444,
         0.07235964644401635,
         0.07297015978239355,
         0.07244218517923322,
         0.07233518631621409,
         0.072048986083468,
         0.07353143530898985,
         0.07239553538291502,
         0.07187807349392464,
         0.07315318747381337,
         0.07327068338214078,
         0.07190767769274493,
         0.07247854241848344,
         0.07090154876944732,
         0.07343487399043636,
         0.07157247014086139,
         0.07218624247858438,
         0.07243159340066652,
         0.07183227108139968,
         0.0718656116604123,
         0.07243931436786936,
         0.07197155133498459,
         0.07194764508848064,
         0.07171349149836093,
         0.0734290055976317,
         0.07274168905095649,
         0.07248231027930294,
         0.07268093835594729,
         0.07216545875649509,
         0.07311720897118525,
         0.07327039279477865,
         0.0725155829246221,
         0.0722918846596227,
         0.07222331912040214,
         0.07319955277184625,
         0.07200552890263497,
         0.07259496055912135,
         0.07344652068164911,
         0.0716573740227466,
         0.07153325978367289,
         0.07295227477957796,
         0.07254044963192915,
         0.07206460633454304,
         0.07255117489934988,
         0.07286737700354359,
         0.07309610581131014,
         0.07244436196550483,
         0.07200227236331766,
         0.07342234206231883,
         0.07330562625912891,
         0.07178711858685145,
         0.07299277739791143,
         0.07283323009856608,
         0.07136930215931933,
         0.07259410230637052,
         0.07216609981988202,
         0.07185079011173459,
         0.07156444940421088,
         0.0717035844599069,
         0.07135610253981284,
         0.07154575831272558,
         0.07332389300475226,
         0.07219091486891312,
         0.07250554618640886,
         0.07243088357237039,
         0.07219266399070419,
         0.07214594966331753,
         0.07137391739129086,
         0.07160031268296754,
         0.07095751212729724,
         0.07294973366538315,
         0.07328739288746372,
         0.07354140287301267,
         0.07233366036912166,
         0.0727391697580247,
         0.07153540381674998,
         0.07308178535513359,
         0.07328736009701341,
         0.0723375863032319,
         0.07265867718155462,
         0.07218143539557398,
         0.07112197145586674,
         0.07275820487934137
        ],
        [
         0.19170074754705033,
         0.1914933148735002,
         0.19263743806411238,
         0.19073404625569487,
         0.19264338664053118,
         0.1939777066821561,
         0.19264112582758947,
         0.19396730010196858,
         0.19422710559093484,
         0.19242788325337803,
         0.1919725573274727,
         0.19232467828574135,
         0.1912594501148252,
         0.19149282368301762,
         0.1905040703713894,
         0.19327780881933138,
         0.19170359217141772,
         0.19068804533019953,
         0.19247095947902576,
         0.19168234764433958,
         0.19196183292889127,
         0.19253777968240718,
         0.19180900577967072,
         0.19393176800918346,
         0.1904232074853544,
         0.19105660163012206,
         0.19350826106600316,
         0.19408896001165404,
         0.19206804875284433,
         0.19265751062216713,
         0.1892689748612397,
         0.1919233681195799,
         0.1910307056033144,
         0.19156242344601482,
         0.19310131201557085,
         0.19158972529511825,
         0.19130342309454493,
         0.19051154927514932,
         0.19133065987889672,
         0.19219171798185392,
         0.19093101373051896,
         0.19354181586965627,
         0.19109948556504996,
         0.1912570580767066,
         0.19213038304930224,
         0.19242213752266824,
         0.19309514145567722,
         0.19362847835702054,
         0.19167075397483274,
         0.19159784640970767,
         0.19110789734358882,
         0.19378875159457618,
         0.1929647952281669,
         0.19184742732813545,
         0.19338343290648624,
         0.1902920819782451,
         0.191882696824477,
         0.1936188383831405,
         0.19165212781552007,
         0.19255040229900794,
         0.1926286437859138,
         0.19297460167139185,
         0.1934936548784083,
         0.19187085661014505,
         0.18942924581614196,
         0.19460563418254548,
         0.19294712478842804,
         0.19124535095019668,
         0.1913603518669512,
         0.19132759913290834,
         0.19127283080974045,
         0.1928306081715752,
         0.19185870858457157,
         0.1909738905070459,
         0.19112742321529225,
         0.19078300009463348,
         0.19055898094951523,
         0.1912360271512001,
         0.19355758968010253,
         0.19258832478640125,
         0.1911901503472644,
         0.19033366312071973,
         0.19169144403627691,
         0.19154588116661592,
         0.1901964139485476,
         0.18914692512914247,
         0.19096146680999035,
         0.1925629778199044,
         0.1938199667515708,
         0.19339906820552608,
         0.19232287909835577,
         0.19358748674173565,
         0.18955150778021881,
         0.19373624815660365,
         0.19213773401490614,
         0.1922247842246411,
         0.19223435455020152,
         0.19101676752096883,
         0.19077578183336585,
         0.19254784149062984
        ],
        [
         19.553476249799132,
         19.53231811709702,
         19.649018682539463,
         19.45487271808088,
         19.64962543733418,
         19.785726081579924,
         19.649394834414124,
         19.784664610400796,
         19.811164770275354,
         19.62764409184456,
         19.581200847402215,
         19.617117185145617,
         19.50846391171217,
         19.532268015667796,
         19.431415177881718,
         19.7143364995718,
         19.55376640148461,
         19.450180623680353,
         19.632037866860628,
         19.551599459722638,
         19.58010695874691,
         19.638853527605534,
         19.564518589526415,
         19.781040336936712,
         19.42316716350615,
         19.48777336627245,
         19.737842628732324,
         19.797073921188712,
         19.590940972790122,
         19.651066083461046,
         19.305435435846448,
         19.57618354819715,
         19.485131971538067,
         19.53936719149351,
         19.696333825588226,
         19.542151980102062,
         19.512949155643582,
         19.43217802606523,
         19.515727307647467,
         19.6035552341491,
         19.474963400512934,
         19.74126521870494,
         19.492147527635098,
         19.508219923824072,
         19.59729907102883,
         19.62705802731216,
         19.695704428479075,
         19.750104792416096,
         19.55041690543294,
         19.542980333790183,
         19.49300552904606,
         19.76645266264677,
         19.682409113273025,
         19.568437587469816,
         19.725110156461596,
         19.409792361781,
         19.572035076096654,
         19.749121515080333,
         19.548517037183046,
         19.64014103449881,
         19.648121666163206,
         19.683409370481968,
         19.736352797597647,
         19.570827374234796,
         19.32178307324648,
         19.84977468661964,
         19.68060672841966,
         19.50702579692006,
         19.51875589042902,
         19.51541511155665,
         19.509828742593527,
         19.66872203350067,
         19.5695882756263,
         19.479336831718683,
         19.49499716795981,
         19.459866009652615,
         19.437016056850553,
         19.506074769422412,
         19.742874147370458,
         19.64400912821293,
         19.501395335420966,
         19.414033638313413,
         19.552527291700244,
         19.537679878994823,
         19.400034222751856,
         19.29298636317253,
         19.478069614619017,
         19.641423737630248,
         19.76963660866022,
         19.72670495696366,
         19.61693366803229,
         19.745923647657037,
         19.33425379358232,
         19.761097311973572,
         19.598048869520426,
         19.60692799091339,
         19.607904164120555,
         19.48371028713882,
         19.459129747003317,
         19.639879832044244
        ],
        [
         2.7269042765001807,
         2.7147068926704128,
         2.72177626419796,
         2.7043635383214415,
         2.724056112866807,
         2.7387045384313597,
         2.738746447760746,
         2.731212303809378,
         2.7317139447710055,
         2.7158077363395843,
         2.707931064767594,
         2.7378256722006733,
         2.734279714138472,
         2.7145394433995262,
         2.7128897402584586,
         2.7262889860020305,
         2.7189055987105113,
         2.7181110716580497,
         2.716741418922615,
         2.728178201255215,
         2.718290434865595,
         2.7162822026169953,
         2.7109032776020863,
         2.7386504708554837,
         2.7174150601366236,
         2.7076860040226807,
         2.731597540328546,
         2.733790354979394,
         2.7082435497310766,
         2.718972476264758,
         2.6892299965759023,
         2.7368516852442895,
         2.7019237506576426,
         2.7134842422272523,
         2.7180917068539063,
         2.7068231656875494,
         2.707451271835202,
         2.7182365727660045,
         2.7094461124311784,
         2.70899608693424,
         2.704584280963123,
         2.736742328199429,
         2.723903868200484,
         2.7190431494349068,
         2.7227661875942677,
         2.7130935835614842,
         2.7309257249256875,
         2.733784933945503,
         2.7196671594721753,
         2.715469063583954,
         2.71418100912246,
         2.732463061548741,
         2.710085597922834,
         2.721155265145739,
         2.737068707491321,
         2.7035258738026076,
         2.7011835365140655,
         2.72784384221622,
         2.7201334273260884,
         2.7111971241728976,
         2.720334508793668,
         2.7262561241309378,
         2.730531595267418,
         2.7183312749702697,
         2.7100243137393436,
         2.7366181484373224,
         2.734442151231426,
         2.705972301384264,
         2.7286009775317033,
         2.725617264043824,
         2.6980861402576775,
         2.7211391796910704,
         2.71310563407103,
         2.7071720653473297,
         2.7017723514814325,
         2.704397458753151,
         2.697836625717152,
         2.701419506092678,
         2.7347828225445485,
         2.7135720584921152,
         2.7194789410866385,
         2.7180783881966644,
         2.7136049320142064,
         2.7127268321116276,
         2.6981733772890992,
         2.702449239793911,
         2.690291106364573,
         2.727796332915836,
         2.734102060004582,
         2.7388360836397805,
         2.7162535517971085,
         2.7238566987487647,
         2.7012240168687414,
         2.7302641092435773,
         2.7341014483547177,
         2.7163272635913467,
         2.7223491826947126,
         2.71339389148508,
         2.6934069667427547,
         2.7242130786142296
        ]
       ],
       "encoder": "json",
       "name": "ABC_GAN_1 Metrics",
       "version": 1
      }
     },
     "metadata": {
      "scrapbook": {
       "data": true,
       "display": false,
       "name": "ABC_GAN_1 Metrics"
      }
     },
     "output_type": "display_data"
    },
    {
     "name": "stdout",
     "output_type": "stream",
     "text": [
      "MSE\n",
      "0.07244722950597855\n"
     ]
    }
   ],
   "source": [
    "ABC_GAN1_metrics=ABC_train_test2.test_generator(gen,test_data,prior_model,variance,bias,\"1\",device)\n",
    "sb.glue(\"ABC_GAN_1 Metrics\",ABC_GAN1_metrics)\n",
    "\n",
    "print(\"MSE\")\n",
    "print(mean(ABC_GAN1_metrics[0]))"
   ]
  },
  {
   "cell_type": "code",
   "execution_count": 14,
   "id": "eb22ce5c",
   "metadata": {
    "execution": {
     "iopub.execute_input": "2022-06-12T05:10:07.045811Z",
     "iopub.status.busy": "2022-06-12T05:10:07.045448Z",
     "iopub.status.idle": "2022-06-12T05:10:07.373295Z",
     "shell.execute_reply": "2022-06-12T05:10:07.373540Z"
    },
    "papermill": {
     "duration": 0.342701,
     "end_time": "2022-06-12T05:10:07.373674",
     "exception": false,
     "start_time": "2022-06-12T05:10:07.030973",
     "status": "completed"
    },
    "tags": []
   },
   "outputs": [
    {
     "data": {
      "image/png": "[encoded data removed]",
      "text/plain": [
       "<Figure size 432x288 with 1 Axes>"
      ]
     },
     "metadata": {
      "needs_background": "light"
     },
     "output_type": "display_data"
    },
    {
     "data": {
      "image/png": "[encoded data removed]",
      "text/plain": [
       "<Figure size 432x288 with 1 Axes>"
      ]
     },
     "metadata": {
      "needs_background": "light"
     },
     "output_type": "display_data"
    },
    {
     "data": {
      "image/png": "[encoded data removed]",
      "text/plain": [
       "<Figure size 432x288 with 1 Axes>"
      ]
     },
     "metadata": {
      "needs_background": "light"
     },
     "output_type": "display_data"
    },
    {
     "data": {
      "image/png": "[encoded data removed]",
      "text/plain": [
       "<Figure size 432x288 with 1 Axes>"
      ]
     },
     "metadata": {
      "needs_background": "light"
     },
     "output_type": "display_data"
    }
   ],
   "source": [
    "sanityChecks.discProbVsError(train_data,disc,device)\n",
    "sanityChecks.discProbVsError(test_data,disc,device)"
   ]
  },
  {
   "cell_type": "markdown",
   "id": "130f3a4d",
   "metadata": {
    "id": "130f3a4d",
    "papermill": {
     "duration": 0.014359,
     "end_time": "2022-06-12T05:10:07.402941",
     "exception": false,
     "start_time": "2022-06-12T05:10:07.388582",
     "status": "completed"
    },
    "tags": []
   },
   "source": [
    "# ABC - GAN Model with skip connection"
   ]
  },
  {
   "cell_type": "code",
   "execution_count": 15,
   "id": "4e43dad1",
   "metadata": {
    "execution": {
     "iopub.execute_input": "2022-06-12T05:10:07.435026Z",
     "iopub.status.busy": "2022-06-12T05:10:07.434654Z",
     "iopub.status.idle": "2022-06-12T05:10:07.437004Z",
     "shell.execute_reply": "2022-06-12T05:10:07.437242Z"
    },
    "id": "4e43dad1",
    "papermill": {
     "duration": 0.019843,
     "end_time": "2022-06-12T05:10:07.437349",
     "exception": false,
     "start_time": "2022-06-12T05:10:07.417506",
     "status": "completed"
    },
    "tags": []
   },
   "outputs": [],
   "source": [
    "#Generator\n",
    "gen3 = network.GeneratorWithSkipConnection(n_features+1).to(device)\n",
    "constraints=network.weightConstraint()\n",
    "#Discriminator \n",
    "disc3 = network.Discriminator(n_features+1).to(device)\n",
    "\n",
    "criterion = torch.nn.BCELoss()\n",
    "gen_opt = torch.optim.Adam(gen3.parameters(), lr=0.001, betas=(0.5, 0.999))\n",
    "disc_opt = torch.optim.Adam(disc3.parameters(), lr=0.001, betas=(0.5, 0.999))\n"
   ]
  },
  {
   "cell_type": "code",
   "execution_count": 16,
   "id": "26acbc37",
   "metadata": {
    "execution": {
     "iopub.execute_input": "2022-06-12T05:10:07.468938Z",
     "iopub.status.busy": "2022-06-12T05:10:07.468582Z",
     "iopub.status.idle": "2022-06-12T05:13:07.277795Z",
     "shell.execute_reply": "2022-06-12T05:13:07.278071Z"
    },
    "id": "26acbc37",
    "papermill": {
     "duration": 179.826134,
     "end_time": "2022-06-12T05:13:07.278260",
     "exception": false,
     "start_time": "2022-06-12T05:10:07.452126",
     "status": "completed"
    },
    "tags": []
   },
   "outputs": [
    {
     "data": {
      "image/png": "[encoded data removed]",
      "text/plain": [
       "<Figure size 432x288 with 1 Axes>"
      ]
     },
     "metadata": {
      "needs_background": "light"
     },
     "output_type": "display_data"
    },
    {
     "data": {
      "image/png": "[encoded data removed]",
      "text/plain": [
       "<Figure size 432x288 with 1 Axes>"
      ]
     },
     "metadata": {
      "needs_background": "light"
     },
     "output_type": "display_data"
    }
   ],
   "source": [
    "ABC_train_test2.training_GAN_skip_connection(disc3,gen3,disc_opt,gen_opt,train_data,batch_size,n_epochs,criterion,prior_model,variance,bias,device)"
   ]
  },
  {
   "cell_type": "code",
   "execution_count": 17,
   "id": "c5e0717b",
   "metadata": {
    "execution": {
     "iopub.execute_input": "2022-06-12T05:13:07.314418Z",
     "iopub.status.busy": "2022-06-12T05:13:07.313913Z",
     "iopub.status.idle": "2022-06-12T05:13:08.181651Z",
     "shell.execute_reply": "2022-06-12T05:13:08.181953Z"
    },
    "id": "c5e0717b",
    "papermill": {
     "duration": 0.887857,
     "end_time": "2022-06-12T05:13:08.182075",
     "exception": false,
     "start_time": "2022-06-12T05:13:07.294218",
     "status": "completed"
    },
    "tags": []
   },
   "outputs": [
    {
     "data": {
      "application/scrapbook.scrap.json+json": {
       "data": 0.08265248512541243,
       "encoder": "json",
       "name": "ABC-GAN Model 3 MSE",
       "version": 1
      }
     },
     "metadata": {
      "scrapbook": {
       "data": true,
       "display": false,
       "name": "ABC-GAN Model 3 MSE"
      }
     },
     "output_type": "display_data"
    },
    {
     "data": {
      "application/scrapbook.scrap.json+json": {
       "data": 0.21459582907412494,
       "encoder": "json",
       "name": "ABC-GAN Model 3 MAE",
       "version": 1
      }
     },
     "metadata": {
      "scrapbook": {
       "data": true,
       "display": false,
       "name": "ABC-GAN Model 3 MAE"
      }
     },
     "output_type": "display_data"
    },
    {
     "data": {
      "application/scrapbook.scrap.json+json": {
       "data": 21.888774565560745,
       "encoder": "json",
       "name": "ABC-GAN Model 3 Manhattan Distance",
       "version": 1
      }
     },
     "metadata": {
      "scrapbook": {
       "data": true,
       "display": false,
       "name": "ABC-GAN Model 3 Manhattan Distance"
      }
     },
     "output_type": "display_data"
    },
    {
     "data": {
      "application/scrapbook.scrap.json+json": {
       "data": 2.903516718013315,
       "encoder": "json",
       "name": "ABC-GAN Model 3 Euclidean distance",
       "version": 1
      }
     },
     "metadata": {
      "scrapbook": {
       "data": true,
       "display": false,
       "name": "ABC-GAN Model 3 Euclidean distance"
      }
     },
     "output_type": "display_data"
    },
    {
     "data": {
      "application/scrapbook.scrap.json+json": {
       "data": [
        [
         0.08288140449325017,
         0.08234840097749863,
         0.08323923799735372,
         0.08218135581336763,
         0.08283341227501438,
         0.08210237080976934,
         0.08252479465445213,
         0.08150052366961072,
         0.08135454178784077,
         0.08327863252161188,
         0.08300870345430778,
         0.08137948260428908,
         0.08350754518737709,
         0.0834819552016132,
         0.08236510290116283,
         0.08276125282139617,
         0.08306530508246109,
         0.08162717750804283,
         0.08372687020282275,
         0.0821758354300476,
         0.08242884707156051,
         0.08163463982168649,
         0.08321922460933184,
         0.08198278749023774,
         0.08299715105777516,
         0.0828343263361659,
         0.08199815593740788,
         0.08317380138450403,
         0.08361491877054526,
         0.08323633398308145,
         0.0825970730663451,
         0.08377904923346363,
         0.08358928560279878,
         0.08048169118781576,
         0.08344340586471005,
         0.08258001775463542,
         0.0832591876502973,
         0.08316853822491281,
         0.08313826687224248,
         0.08213909932947233,
         0.08324125662521445,
         0.083020757431446,
         0.0824579148831578,
         0.08372338234727518,
         0.0827443930340102,
         0.08317770079707848,
         0.08291167009911579,
         0.08157670198597014,
         0.08384844844415326,
         0.0824080929883027,
         0.08212879316165368,
         0.08358165015282705,
         0.08365586991306574,
         0.08184861629218229,
         0.0830668273249973,
         0.08236712819886545,
         0.08276664097295892,
         0.0833921070680192,
         0.08252966425169442,
         0.08299082770178234,
         0.08214457074887442,
         0.08253770851236238,
         0.08265292642668283,
         0.08178028188401183,
         0.0818147244081123,
         0.08211429768035276,
         0.08238320910544875,
         0.0818176708624957,
         0.08231258862478405,
         0.08246924198460238,
         0.0829445596272142,
         0.08355375893356277,
         0.08246138784221901,
         0.08227784416797827,
         0.08211009259513413,
         0.08314334029451571,
         0.0818114917881764,
         0.08280815112350982,
         0.08302719131678661,
         0.08232370634501204,
         0.0821514990161775,
         0.08249991950500325,
         0.08369730442809414,
         0.08304875970916373,
         0.08240993481873449,
         0.08138540889297674,
         0.08340025359486887,
         0.08319810760446522,
         0.08241421611763476,
         0.08230174320433162,
         0.08208725440998081,
         0.08257083678318297,
         0.08221511523351052,
         0.0819352580958936,
         0.08134626977374437,
         0.08350813233407983,
         0.08243313068647289,
         0.08373205829130229,
         0.08275862894973841,
         0.08358778650400016
        ],
        [
         0.21454135531230883,
         0.2146668492761605,
         0.21516514034467002,
         0.21498494933121928,
         0.2152862506827303,
         0.2147289625022049,
         0.21286235755199895,
         0.21338217900883333,
         0.21287821859632636,
         0.2159411882178164,
         0.21557896220873968,
         0.21247437574407635,
         0.21446899034302025,
         0.21489996377232612,
         0.21478028977107183,
         0.21569287121368974,
         0.21458680429221952,
         0.21269297521269204,
         0.21603766169545113,
         0.21400382524977127,
         0.2135917472963532,
         0.21226393473425917,
         0.21493093094185872,
         0.2142290783973009,
         0.21629612869126538,
         0.2157177998702608,
         0.214182148486668,
         0.21507155624966995,
         0.2164495142322837,
         0.21553529574371436,
         0.21396913293603004,
         0.21603381573496497,
         0.2163298360674697,
         0.21116229685425175,
         0.21543782538570025,
         0.21512300037212817,
         0.21530850763049195,
         0.21477999381136662,
         0.21570098285070238,
         0.2146697903563287,
         0.21430809070885765,
         0.21481288346808916,
         0.21417562482768998,
         0.21537453135219858,
         0.21681367706361354,
         0.21546826089787133,
         0.21473448422244368,
         0.21398394810510615,
         0.21580739067319563,
         0.21488451145078039,
         0.21477719416440116,
         0.21635158223045223,
         0.21639872556004455,
         0.21402254808401944,
         0.21621459574602983,
         0.21325638914006015,
         0.21400147776904643,
         0.21521055002642028,
         0.21419109491740956,
         0.21486054326170215,
         0.21315993958463272,
         0.21371474809141136,
         0.2150957091510588,
         0.21432722354417338,
         0.21288405346008493,
         0.21417969558387995,
         0.21316473268191605,
         0.21473303296621524,
         0.2136578242677976,
         0.21434606628163771,
         0.21436369256572982,
         0.21660820816588752,
         0.214715192879678,
         0.21392050211993502,
         0.2131029225557166,
         0.2150324725308547,
         0.2148751658296176,
         0.21486926157319663,
         0.21662282306408764,
         0.2136607430692689,
         0.21292573456451588,
         0.21464307111340994,
         0.21590308934523195,
         0.2161903656179122,
         0.21253967502464852,
         0.21251973434917482,
         0.2144320782127918,
         0.21553976908691375,
         0.2146578997775328,
         0.21427858100437067,
         0.21520250865860896,
         0.2146439233283494,
         0.21375856166888102,
         0.21254822385369562,
         0.2131695472817941,
         0.21534901271190712,
         0.2146043033320822,
         0.21438988022433192,
         0.21317280224506177,
         0.21599454540467145
        ],
        [
         21.883218241855502,
         21.89601862616837,
         21.94684431515634,
         21.928464831784368,
         21.95919756963849,
         21.9023541752249,
         21.711960470303893,
         21.764982258901,
         21.71357829682529,
         22.026001198217273,
         21.989054145291448,
         21.672386325895786,
         21.875837014988065,
         21.919796304777265,
         21.907589556649327,
         22.000672863796353,
         21.88785403780639,
         21.69468347169459,
         22.035841492936015,
         21.82839017547667,
         21.786358224228024,
         21.650921342894435,
         21.92295495606959,
         21.85136599652469,
         22.06220512650907,
         22.0032155867666,
         21.846579145640135,
         21.937298737466335,
         22.07785045169294,
         21.984600165858865,
         21.824851559475064,
         22.035449204966426,
         22.065643278881907,
         21.538554279133677,
         21.974658189341426,
         21.942546037957072,
         21.96146777831018,
         21.907559368759394,
         22.00150025077164,
         21.896318616345525,
         21.85942525230348,
         21.910914113745093,
         21.84591373242438,
         21.968202197924256,
         22.11499506048858,
         21.977762611582875,
         21.902917390689254,
         21.82636270672083,
         22.012353848665953,
         21.918220167979598,
         21.90727380476892,
         22.067861387506127,
         22.072670007124543,
         21.830299904569983,
         22.053888766095042,
         21.752151692286134,
         21.828150732442737,
         21.95147610269487,
         21.847491681575775,
         21.91577541269362,
         21.742313837632537,
         21.79890430532396,
         21.939762333407998,
         21.861376801505685,
         21.714173452928662,
         21.846328949555755,
         21.742802733555436,
         21.902769362553954,
         21.793098075315356,
         21.863298760727048,
         21.86509664170444,
         22.094037232920527,
         21.900949673727155,
         21.819891216233373,
         21.736498100683093,
         21.933312198147178,
         21.917266914620996,
         21.916664680466056,
         22.09552795253694,
         21.79339579306543,
         21.71842492558062,
         21.893593253567815,
         22.02211511321366,
         22.051417293027043,
         21.679046852514148,
         21.677012903615832,
         21.872071977704763,
         21.9850564468652,
         21.895105777308345,
         21.856415262445807,
         21.950655883178115,
         21.89368017949164,
         21.803373290225863,
         21.679918833076954,
         21.743293822743,
         21.965599296614528,
         21.889638939872384,
         21.867767782881856,
         21.7436258289963,
         22.03144363127649
        ],
        [
         2.907559674075756,
         2.898195455745671,
         2.913829486385585,
         2.895254443561654,
         2.906717745508061,
         2.8938627857236896,
         2.901297822484641,
         2.883236621281766,
         2.880653270069092,
         2.9145189169405663,
         2.9097917025689988,
         2.881094796364307,
         2.9185218191941726,
         2.9180746101778388,
         2.898489347214961,
         2.9054513913990037,
         2.9107835918204277,
         2.8854760622504507,
         2.9223519227991552,
         2.8951572001991286,
         2.899610732718993,
         2.885607953588294,
         2.91347917620014,
         2.8917545407596834,
         2.909589216348773,
         2.9067337831815494,
         2.8920255713972525,
         2.9126839411819834,
         2.920397526809598,
         2.9137786577353992,
         2.902568078920321,
         2.9232623935961155,
         2.91994985085112,
         2.8651583727880046,
         2.917400794920099,
         2.9022683905822375,
         2.9141786390560074,
         2.9125917837797157,
         2.9120616787713707,
         2.8945099985327696,
         2.913864817690051,
         2.910002965291872,
         2.90012194882941,
         2.9222910531673714,
         2.90515543292765,
         2.912752217628888,
         2.9080904989545657,
         2.8845837832465455,
         2.924472899738282,
         2.8992456751380824,
         2.894328402667651,
         2.919816486628631,
         2.9211125844672106,
         2.889387281380361,
         2.9108102629937465,
         2.898524982863573,
         2.905545969218489,
         2.9165038866660127,
         2.90138342065864,
         2.90947837688851,
         2.894606400943864,
         2.901524817791666,
         2.90354929276595,
         2.8881808724817093,
         2.8887890005376735,
         2.894072971332268,
         2.8988079151188635,
         2.8888410181203397,
         2.897565191626924,
         2.9003211343624415,
         2.9086672346584868,
         2.91932927420382,
         2.9001830217947178,
         2.8969535904349217,
         2.8939988674330337,
         2.912150530113545,
         2.88873192982561,
         2.906274490580338,
         2.91011572180768,
         2.8977608678411038,
         2.894728467343717,
         2.9008605256906668,
         2.921835904301541,
         2.910493684984508,
         2.899278074195526,
         2.881199699271751,
         2.9166463389784894,
         2.9131095028603804,
         2.899353383773483,
         2.897374295261457,
         2.8935963695405142,
         2.9021070538291074,
         2.89584905577243,
         2.8909161741187077,
         2.8805068159825495,
         2.9185320793296317,
         2.8996860743915422,
         2.922442462344269,
         2.9054053336622956,
         2.9199236673940665
        ]
       ],
       "encoder": "json",
       "name": "ABC_GAN_3 Metrics",
       "version": 1
      }
     },
     "metadata": {
      "scrapbook": {
       "data": true,
       "display": false,
       "name": "ABC_GAN_3 Metrics"
      }
     },
     "output_type": "display_data"
    },
    {
     "name": "stdout",
     "output_type": "stream",
     "text": [
      "MSE\n",
      "0.08265248512541243\n"
     ]
    }
   ],
   "source": [
    "ABC_GAN3_metrics=ABC_train_test2.test_generator(gen3,test_data,prior_model,variance,bias,\"3\",device)\n",
    "sb.glue(\"ABC_GAN_3 Metrics\",ABC_GAN3_metrics)\n",
    "\n",
    "print(\"MSE\")\n",
    "print(mean(ABC_GAN3_metrics[0]))"
   ]
  },
  {
   "cell_type": "code",
   "execution_count": 18,
   "id": "c8e46b48",
   "metadata": {
    "execution": {
     "iopub.execute_input": "2022-06-12T05:13:08.219628Z",
     "iopub.status.busy": "2022-06-12T05:13:08.219239Z",
     "iopub.status.idle": "2022-06-12T05:13:08.559592Z",
     "shell.execute_reply": "2022-06-12T05:13:08.559974Z"
    },
    "id": "c8e46b48",
    "papermill": {
     "duration": 0.360533,
     "end_time": "2022-06-12T05:13:08.560121",
     "exception": false,
     "start_time": "2022-06-12T05:13:08.199588",
     "status": "completed"
    },
    "tags": []
   },
   "outputs": [
    {
     "data": {
      "image/png": "[encoded data removed]",
      "text/plain": [
       "<Figure size 432x288 with 1 Axes>"
      ]
     },
     "metadata": {
      "needs_background": "light"
     },
     "output_type": "display_data"
    },
    {
     "data": {
      "image/png": "[encoded data removed]",
      "text/plain": [
       "<Figure size 432x288 with 1 Axes>"
      ]
     },
     "metadata": {
      "needs_background": "light"
     },
     "output_type": "display_data"
    },
    {
     "data": {
      "image/png": "[encoded data removed]",
      "text/plain": [
       "<Figure size 432x288 with 1 Axes>"
      ]
     },
     "metadata": {
      "needs_background": "light"
     },
     "output_type": "display_data"
    },
    {
     "data": {
      "image/png": "[encoded data removed]",
      "text/plain": [
       "<Figure size 432x288 with 1 Axes>"
      ]
     },
     "metadata": {
      "needs_background": "light"
     },
     "output_type": "display_data"
    }
   ],
   "source": [
    "sanityChecks.discProbVsError(train_data,disc3,device)\n",
    "sanityChecks.discProbVsError(test_data,disc3,device)"
   ]
  },
  {
   "cell_type": "markdown",
   "id": "a5bd74c3",
   "metadata": {
    "id": "a5bd74c3",
    "papermill": {
     "duration": 0.020051,
     "end_time": "2022-06-12T05:13:08.600397",
     "exception": false,
     "start_time": "2022-06-12T05:13:08.580346",
     "status": "completed"
    },
    "tags": []
   },
   "source": [
    "## Skip Connection Model Analysis - ABC-GAN "
   ]
  },
  {
   "cell_type": "markdown",
   "id": "5744a8bf",
   "metadata": {
    "id": "5744a8bf",
    "papermill": {
     "duration": 0.019937,
     "end_time": "2022-06-12T05:13:08.640095",
     "exception": false,
     "start_time": "2022-06-12T05:13:08.620158",
     "status": "completed"
    },
    "tags": []
   },
   "source": [
    "### Weight Analysis \n",
    "\n",
    "Study the weights of the skip connection layer\n",
    "\n",
    "Equation of the skip connection is \n",
    "\n",
    "$output = y_{gan} * w + y_{abc} * (1-w)$"
   ]
  },
  {
   "cell_type": "code",
   "execution_count": 19,
   "id": "52c31dea",
   "metadata": {
    "execution": {
     "iopub.execute_input": "2022-06-12T05:13:08.682899Z",
     "iopub.status.busy": "2022-06-12T05:13:08.682512Z",
     "iopub.status.idle": "2022-06-12T05:13:08.685874Z",
     "shell.execute_reply": "2022-06-12T05:13:08.686122Z"
    },
    "id": "52c31dea",
    "papermill": {
     "duration": 0.026428,
     "end_time": "2022-06-12T05:13:08.686240",
     "exception": false,
     "start_time": "2022-06-12T05:13:08.659812",
     "status": "completed"
    },
    "tags": []
   },
   "outputs": [
    {
     "name": "stdout",
     "output_type": "stream",
     "text": [
      "Weight of the node at skip connection\n",
      "Parameter containing:\n",
      "tensor([[0.1184]], requires_grad=True)\n"
     ]
    },
    {
     "data": {
      "application/scrapbook.scrap.json+json": {
       "data": 0.11839655786752701,
       "encoder": "json",
       "name": "Skip Connection Weight",
       "version": 1
      }
     },
     "metadata": {
      "scrapbook": {
       "data": true,
       "display": false,
       "name": "Skip Connection Weight"
      }
     },
     "output_type": "display_data"
    }
   ],
   "source": [
    "print(\"Weight of the node at skip connection\")\n",
    "for name,param in gen3.named_parameters():\n",
    "    if(name == \"skipNode.weight\"):\n",
    "        print(param)\n",
    "        sb.glue(\"Skip Connection Weight\",param.item())"
   ]
  }
 ],
 "metadata": {
  "colab": {
   "collapsed_sections": [],
   "name": "ABC_GAN_Model-Catboost_Pre-gen.ipynb",
   "provenance": []
  },
  "interpreter": {
   "hash": "31f2aee4e71d21fbe5cf8b01ff0e069b9275f58929596ceb00d14d90e3e16cd6"
  },
  "kernelspec": {
   "display_name": "Python 3 (ipykernel)",
   "language": "python",
   "name": "python3"
  },
  "language_info": {
   "codemirror_mode": {
    "name": "ipython",
    "version": 3
   },
   "file_extension": ".py",
   "mimetype": "text/x-python",
   "name": "python",
   "nbconvert_exporter": "python",
   "pygments_lexer": "ipython3",
   "version": "3.8.11"
  },
  "papermill": {
   "default_parameters": {},
   "duration": 246.216797,
   "end_time": "2022-06-12T05:13:09.116424",
   "environment_variables": {},
   "exception": null,
   "input_path": "ABC_GAN-Catboost.ipynb",
   "output_path": "./ABC_GAN_Catboost/ABC-GAN_output_5_5.ipynb",
   "parameters": {
    "bias": 0.1,
    "variance": 0.01
   },
   "start_time": "2022-06-12T05:09:02.899627",
   "version": "2.3.3"
  }
 },
 "nbformat": 4,
 "nbformat_minor": 5
}