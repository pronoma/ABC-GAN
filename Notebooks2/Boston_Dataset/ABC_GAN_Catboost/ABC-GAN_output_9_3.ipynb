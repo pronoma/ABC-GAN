{
 "cells": [
  {
   "cell_type": "markdown",
   "id": "622780e6",
   "metadata": {
    "id": "622780e6",
    "papermill": {
     "duration": 0.035317,
     "end_time": "2022-06-12T07:32:39.805242",
     "exception": false,
     "start_time": "2022-06-12T07:32:39.769925",
     "status": "completed"
    },
    "tags": []
   },
   "source": [
    "## Import Libraries "
   ]
  },
  {
   "cell_type": "code",
   "execution_count": 1,
   "id": "a62397e3",
   "metadata": {
    "execution": {
     "iopub.execute_input": "2022-06-12T07:32:39.840658Z",
     "iopub.status.busy": "2022-06-12T07:32:39.840147Z",
     "iopub.status.idle": "2022-06-12T07:32:39.842482Z",
     "shell.execute_reply": "2022-06-12T07:32:39.842826Z"
    },
    "id": "a62397e3",
    "papermill": {
     "duration": 0.021672,
     "end_time": "2022-06-12T07:32:39.843028",
     "exception": false,
     "start_time": "2022-06-12T07:32:39.821356",
     "status": "completed"
    },
    "tags": []
   },
   "outputs": [],
   "source": [
    "import warnings\n",
    "import sys\n",
    "sys.path.insert(0, '../../src')\n",
    "warnings.filterwarnings('ignore')"
   ]
  },
  {
   "cell_type": "code",
   "execution_count": 2,
   "id": "d6a4e155",
   "metadata": {
    "execution": {
     "iopub.execute_input": "2022-06-12T07:32:39.863837Z",
     "iopub.status.busy": "2022-06-12T07:32:39.863437Z",
     "iopub.status.idle": "2022-06-12T07:32:41.705871Z",
     "shell.execute_reply": "2022-06-12T07:32:41.706126Z"
    },
    "id": "d6a4e155",
    "papermill": {
     "duration": 1.853416,
     "end_time": "2022-06-12T07:32:41.706251",
     "exception": false,
     "start_time": "2022-06-12T07:32:39.852835",
     "status": "completed"
    },
    "tags": []
   },
   "outputs": [],
   "source": [
    "import ABC_train_test2\n",
    "import bostonDataset\n",
    "import network\n",
    "import dataset\n",
    "import sanityChecks\n",
    "import torch \n",
    "import scrapbook as sb\n",
    "from statistics import mean \n",
    "import catboost as ctb \n",
    "from sklearn.model_selection import train_test_split\n",
    "from sklearn.metrics import mean_squared_error,mean_absolute_error\n",
    "import numpy as np"
   ]
  },
  {
   "cell_type": "markdown",
   "id": "2fa5b0f7",
   "metadata": {
    "id": "2fa5b0f7",
    "papermill": {
     "duration": 0.006857,
     "end_time": "2022-06-12T07:32:41.720420",
     "exception": false,
     "start_time": "2022-06-12T07:32:41.713563",
     "status": "completed"
    },
    "tags": []
   },
   "source": [
    "## Parameters "
   ]
  },
  {
   "cell_type": "code",
   "execution_count": 3,
   "id": "783186fb",
   "metadata": {
    "execution": {
     "iopub.execute_input": "2022-06-12T07:32:41.736328Z",
     "iopub.status.busy": "2022-06-12T07:32:41.735949Z",
     "iopub.status.idle": "2022-06-12T07:32:41.737232Z",
     "shell.execute_reply": "2022-06-12T07:32:41.737484Z"
    },
    "id": "783186fb",
    "papermill": {
     "duration": 0.010345,
     "end_time": "2022-06-12T07:32:41.737593",
     "exception": false,
     "start_time": "2022-06-12T07:32:41.727248",
     "status": "completed"
    },
    "tags": [
     "parameters"
    ]
   },
   "outputs": [],
   "source": [
    "variance = 1\n",
    "bias = 1 "
   ]
  },
  {
   "cell_type": "code",
   "execution_count": 4,
   "id": "b4d8e8b4",
   "metadata": {
    "execution": {
     "iopub.execute_input": "2022-06-12T07:32:41.753354Z",
     "iopub.status.busy": "2022-06-12T07:32:41.752991Z",
     "iopub.status.idle": "2022-06-12T07:32:41.754310Z",
     "shell.execute_reply": "2022-06-12T07:32:41.754544Z"
    },
    "papermill": {
     "duration": 0.010058,
     "end_time": "2022-06-12T07:32:41.754649",
     "exception": false,
     "start_time": "2022-06-12T07:32:41.744591",
     "status": "completed"
    },
    "tags": [
     "injected-parameters"
    ]
   },
   "outputs": [],
   "source": [
    "# Parameters\n",
    "variance = 1\n",
    "bias = 0.1\n"
   ]
  },
  {
   "cell_type": "markdown",
   "id": "391cdbfd",
   "metadata": {
    "id": "391cdbfd",
    "papermill": {
     "duration": 0.006874,
     "end_time": "2022-06-12T07:32:41.768518",
     "exception": false,
     "start_time": "2022-06-12T07:32:41.761644",
     "status": "completed"
    },
    "tags": []
   },
   "source": [
    "## Dataset \n"
   ]
  },
  {
   "cell_type": "code",
   "execution_count": 5,
   "id": "5b51f161",
   "metadata": {
    "execution": {
     "iopub.execute_input": "2022-06-12T07:32:41.784246Z",
     "iopub.status.busy": "2022-06-12T07:32:41.783851Z",
     "iopub.status.idle": "2022-06-12T07:32:41.785258Z",
     "shell.execute_reply": "2022-06-12T07:32:41.785501Z"
    },
    "id": "5b51f161",
    "papermill": {
     "duration": 0.010149,
     "end_time": "2022-06-12T07:32:41.785607",
     "exception": false,
     "start_time": "2022-06-12T07:32:41.775458",
     "status": "completed"
    },
    "tags": []
   },
   "outputs": [],
   "source": [
    "#Parameters \n",
    "n_features = 13\n",
    "n_samples= 506\n",
    "n_target = 1 "
   ]
  },
  {
   "cell_type": "code",
   "execution_count": 6,
   "id": "5d6eced4",
   "metadata": {
    "execution": {
     "iopub.execute_input": "2022-06-12T07:32:41.801535Z",
     "iopub.status.busy": "2022-06-12T07:32:41.801144Z",
     "iopub.status.idle": "2022-06-12T07:32:41.811929Z",
     "shell.execute_reply": "2022-06-12T07:32:41.812166Z"
    },
    "id": "5d6eced4",
    "papermill": {
     "duration": 0.019628,
     "end_time": "2022-06-12T07:32:41.812278",
     "exception": false,
     "start_time": "2022-06-12T07:32:41.792650",
     "status": "completed"
    },
    "tags": []
   },
   "outputs": [
    {
     "name": "stdout",
     "output_type": "stream",
     "text": [
      "         X1        X2        X3        X4        X5        X6        X7  \\\n",
      "0 -0.419782  0.284830 -1.287909 -0.272599 -0.144217  0.413672 -0.120013   \n",
      "1 -0.417339 -0.487722 -0.593381 -0.272599 -0.740262  0.194274  0.367166   \n",
      "2 -0.417342 -0.487722 -0.593381 -0.272599 -0.740262  1.282714 -0.265812   \n",
      "3 -0.416750 -0.487722 -1.306878 -0.272599 -0.835284  1.016303 -0.809889   \n",
      "4 -0.412482 -0.487722 -1.306878 -0.272599 -0.835284  1.228577 -0.511180   \n",
      "\n",
      "         X8        X9       X10       X11       X12       X13         Y  \n",
      "0  0.140214 -0.982843 -0.666608 -1.459000  0.441052 -1.075562  0.159686  \n",
      "1  0.557160 -0.867883 -0.987329 -0.303094  0.441052 -0.492439 -0.101524  \n",
      "2  0.557160 -0.867883 -0.987329 -0.303094  0.396427 -1.208727  1.324247  \n",
      "3  1.077737 -0.752922 -1.106115  0.113032  0.416163 -1.361517  1.182758  \n",
      "4  1.077737 -0.752922 -1.106115  0.113032  0.441052 -1.026501  1.487503  \n"
     ]
    }
   ],
   "source": [
    "X,Y = bostonDataset.boston_data()"
   ]
  },
  {
   "cell_type": "code",
   "execution_count": 7,
   "id": "fe007438",
   "metadata": {
    "execution": {
     "iopub.execute_input": "2022-06-12T07:32:41.829604Z",
     "iopub.status.busy": "2022-06-12T07:32:41.829177Z",
     "iopub.status.idle": "2022-06-12T07:32:41.830614Z",
     "shell.execute_reply": "2022-06-12T07:32:41.830847Z"
    },
    "id": "fe007438",
    "papermill": {
     "duration": 0.0112,
     "end_time": "2022-06-12T07:32:41.830955",
     "exception": false,
     "start_time": "2022-06-12T07:32:41.819755",
     "status": "completed"
    },
    "tags": []
   },
   "outputs": [],
   "source": [
    "#Train test split for dataset \n",
    "X_train,X_test,Y_train,Y_test = train_test_split(X,Y,test_size = 0.2)\n",
    "train_data = dataset.CustomDataset(X_train,Y_train)\n",
    "test_data = dataset.CustomDataset(X_test,Y_test)\n"
   ]
  },
  {
   "cell_type": "markdown",
   "id": "a9a1af34",
   "metadata": {
    "id": "a9a1af34",
    "papermill": {
     "duration": 0.007164,
     "end_time": "2022-06-12T07:32:41.845418",
     "exception": false,
     "start_time": "2022-06-12T07:32:41.838254",
     "status": "completed"
    },
    "tags": []
   },
   "source": [
    "## Training Parameters "
   ]
  },
  {
   "cell_type": "code",
   "execution_count": 8,
   "id": "952b7fc8",
   "metadata": {
    "execution": {
     "iopub.execute_input": "2022-06-12T07:32:41.861873Z",
     "iopub.status.busy": "2022-06-12T07:32:41.861521Z",
     "iopub.status.idle": "2022-06-12T07:32:41.862858Z",
     "shell.execute_reply": "2022-06-12T07:32:41.863103Z"
    },
    "id": "952b7fc8",
    "papermill": {
     "duration": 0.010614,
     "end_time": "2022-06-12T07:32:41.863209",
     "exception": false,
     "start_time": "2022-06-12T07:32:41.852595",
     "status": "completed"
    },
    "tags": []
   },
   "outputs": [],
   "source": [
    "batch_size = 32\n",
    "n_epochs = 1000\n",
    "#Select the device \n",
    "device = torch.device('cuda' if torch.cuda.is_available() else 'cpu')"
   ]
  },
  {
   "cell_type": "markdown",
   "id": "a95e1600",
   "metadata": {
    "id": "a95e1600",
    "papermill": {
     "duration": 0.007171,
     "end_time": "2022-06-12T07:32:41.877619",
     "exception": false,
     "start_time": "2022-06-12T07:32:41.870448",
     "status": "completed"
    },
    "tags": []
   },
   "source": [
    "# ABC Pre-generator Model \n",
    "\n",
    "1. The catboost model is used as a pre-generator model for the ABC-GAN. \n",
    "2. The model is first trained on the entire dataset \n",
    "3. It generats X,Y pairs and we add some Gaussian noise with mean 0 and variance 1 to it which is then feed as input to the generator.\n"
   ]
  },
  {
   "cell_type": "code",
   "execution_count": 9,
   "id": "ff8ce7bd",
   "metadata": {
    "execution": {
     "iopub.execute_input": "2022-06-12T07:32:41.896787Z",
     "iopub.status.busy": "2022-06-12T07:32:41.896404Z",
     "iopub.status.idle": "2022-06-12T07:32:42.859102Z",
     "shell.execute_reply": "2022-06-12T07:32:42.859399Z"
    },
    "id": "ff8ce7bd",
    "papermill": {
     "duration": 0.974663,
     "end_time": "2022-06-12T07:32:42.859526",
     "exception": false,
     "start_time": "2022-06-12T07:32:41.884863",
     "status": "completed"
    },
    "tags": []
   },
   "outputs": [
    {
     "name": "stdout",
     "output_type": "stream",
     "text": [
      "Learning rate set to 0.033215\n",
      "0:\tlearn: 0.9952625\ttotal: 58.9ms\tremaining: 58.8s\n",
      "1:\tlearn: 0.9755179\ttotal: 59.9ms\tremaining: 29.9s\n",
      "2:\tlearn: 0.9559355\ttotal: 61ms\tremaining: 20.3s\n",
      "3:\tlearn: 0.9391681\ttotal: 61.9ms\tremaining: 15.4s\n",
      "4:\tlearn: 0.9197743\ttotal: 63ms\tremaining: 12.5s\n",
      "5:\tlearn: 0.9021963\ttotal: 63.9ms\tremaining: 10.6s\n",
      "6:\tlearn: 0.8849840\ttotal: 64.9ms\tremaining: 9.2s\n",
      "7:\tlearn: 0.8688201\ttotal: 65.8ms\tremaining: 8.16s\n",
      "8:\tlearn: 0.8530839\ttotal: 66.7ms\tremaining: 7.34s\n",
      "9:\tlearn: 0.8363526\ttotal: 67.4ms\tremaining: 6.67s\n",
      "10:\tlearn: 0.8212767\ttotal: 68.2ms\tremaining: 6.13s\n",
      "11:\tlearn: 0.8051581\ttotal: 68.9ms\tremaining: 5.67s\n",
      "12:\tlearn: 0.7909035\ttotal: 69.7ms\tremaining: 5.29s\n",
      "13:\tlearn: 0.7751923\ttotal: 70.5ms\tremaining: 4.96s\n",
      "14:\tlearn: 0.7604063\ttotal: 71.2ms\tremaining: 4.68s\n",
      "15:\tlearn: 0.7478531\ttotal: 72ms\tremaining: 4.43s\n",
      "16:\tlearn: 0.7332942\ttotal: 72.9ms\tremaining: 4.21s\n",
      "17:\tlearn: 0.7212287\ttotal: 73.7ms\tremaining: 4.02s\n",
      "18:\tlearn: 0.7081806\ttotal: 74.6ms\tremaining: 3.85s\n",
      "19:\tlearn: 0.6970072\ttotal: 75.4ms\tremaining: 3.7s\n",
      "20:\tlearn: 0.6834160\ttotal: 76.2ms\tremaining: 3.55s\n",
      "21:\tlearn: 0.6733569\ttotal: 77.1ms\tremaining: 3.42s\n",
      "22:\tlearn: 0.6630954\ttotal: 77.7ms\tremaining: 3.3s\n",
      "23:\tlearn: 0.6529830\ttotal: 78.4ms\tremaining: 3.19s\n",
      "24:\tlearn: 0.6421846\ttotal: 79.2ms\tremaining: 3.09s\n",
      "25:\tlearn: 0.6326316\ttotal: 80ms\tremaining: 3s\n",
      "26:\tlearn: 0.6241872\ttotal: 80.8ms\tremaining: 2.91s\n",
      "27:\tlearn: 0.6146486\ttotal: 81.5ms\tremaining: 2.83s\n",
      "28:\tlearn: 0.6055575\ttotal: 82.3ms\tremaining: 2.75s\n",
      "29:\tlearn: 0.5951484\ttotal: 83.2ms\tremaining: 2.69s\n",
      "30:\tlearn: 0.5857464\ttotal: 84.2ms\tremaining: 2.63s\n",
      "31:\tlearn: 0.5765159\ttotal: 85ms\tremaining: 2.57s\n",
      "32:\tlearn: 0.5688148\ttotal: 86ms\tremaining: 2.52s\n",
      "33:\tlearn: 0.5616819\ttotal: 87ms\tremaining: 2.47s\n",
      "34:\tlearn: 0.5537614\ttotal: 88ms\tremaining: 2.43s\n",
      "35:\tlearn: 0.5467991\ttotal: 89ms\tremaining: 2.38s\n",
      "36:\tlearn: 0.5389201\ttotal: 89.9ms\tremaining: 2.34s\n",
      "37:\tlearn: 0.5311067\ttotal: 91ms\tremaining: 2.3s\n",
      "38:\tlearn: 0.5236183\ttotal: 92ms\tremaining: 2.27s\n",
      "39:\tlearn: 0.5168028\ttotal: 92.9ms\tremaining: 2.23s\n",
      "40:\tlearn: 0.5100007\ttotal: 93.9ms\tremaining: 2.2s\n",
      "41:\tlearn: 0.5046182\ttotal: 94.9ms\tremaining: 2.17s\n",
      "42:\tlearn: 0.4980698\ttotal: 95.8ms\tremaining: 2.13s\n",
      "43:\tlearn: 0.4927438\ttotal: 96.8ms\tremaining: 2.1s\n",
      "44:\tlearn: 0.4858752\ttotal: 97.8ms\tremaining: 2.08s\n",
      "45:\tlearn: 0.4794407\ttotal: 98.7ms\tremaining: 2.05s\n",
      "46:\tlearn: 0.4758576\ttotal: 99.5ms\tremaining: 2.02s\n",
      "47:\tlearn: 0.4715093\ttotal: 101ms\tremaining: 1.99s\n",
      "48:\tlearn: 0.4668006\ttotal: 102ms\tremaining: 1.97s\n",
      "49:\tlearn: 0.4612396\ttotal: 102ms\tremaining: 1.95s\n",
      "50:\tlearn: 0.4575920\ttotal: 103ms\tremaining: 1.93s\n",
      "51:\tlearn: 0.4527091\ttotal: 104ms\tremaining: 1.9s\n",
      "52:\tlearn: 0.4486747\ttotal: 105ms\tremaining: 1.88s\n",
      "53:\tlearn: 0.4452418\ttotal: 106ms\tremaining: 1.86s\n",
      "54:\tlearn: 0.4409512\ttotal: 107ms\tremaining: 1.84s\n"
     ]
    },
    {
     "name": "stdout",
     "output_type": "stream",
     "text": [
      "55:\tlearn: 0.4365413\ttotal: 108ms\tremaining: 1.82s\n",
      "56:\tlearn: 0.4325408\ttotal: 109ms\tremaining: 1.8s\n",
      "57:\tlearn: 0.4281344\ttotal: 110ms\tremaining: 1.78s\n",
      "58:\tlearn: 0.4246269\ttotal: 111ms\tremaining: 1.77s\n",
      "59:\tlearn: 0.4211117\ttotal: 112ms\tremaining: 1.75s\n",
      "60:\tlearn: 0.4177319\ttotal: 112ms\tremaining: 1.73s\n",
      "61:\tlearn: 0.4134354\ttotal: 113ms\tremaining: 1.71s\n",
      "62:\tlearn: 0.4090830\ttotal: 114ms\tremaining: 1.7s\n",
      "63:\tlearn: 0.4053974\ttotal: 115ms\tremaining: 1.68s\n",
      "64:\tlearn: 0.4022387\ttotal: 116ms\tremaining: 1.66s\n",
      "65:\tlearn: 0.3990872\ttotal: 116ms\tremaining: 1.65s\n",
      "66:\tlearn: 0.3955915\ttotal: 117ms\tremaining: 1.63s\n",
      "67:\tlearn: 0.3919552\ttotal: 118ms\tremaining: 1.62s\n",
      "68:\tlearn: 0.3890010\ttotal: 119ms\tremaining: 1.6s\n",
      "69:\tlearn: 0.3864307\ttotal: 120ms\tremaining: 1.59s\n",
      "70:\tlearn: 0.3837047\ttotal: 121ms\tremaining: 1.58s\n",
      "71:\tlearn: 0.3812187\ttotal: 122ms\tremaining: 1.57s\n",
      "72:\tlearn: 0.3786510\ttotal: 122ms\tremaining: 1.55s\n",
      "73:\tlearn: 0.3750182\ttotal: 123ms\tremaining: 1.54s\n",
      "74:\tlearn: 0.3725196\ttotal: 124ms\tremaining: 1.53s\n",
      "75:\tlearn: 0.3700598\ttotal: 125ms\tremaining: 1.52s\n",
      "76:\tlearn: 0.3674006\ttotal: 126ms\tremaining: 1.51s\n",
      "77:\tlearn: 0.3653563\ttotal: 127ms\tremaining: 1.5s\n",
      "78:\tlearn: 0.3630550\ttotal: 128ms\tremaining: 1.49s\n",
      "79:\tlearn: 0.3605672\ttotal: 128ms\tremaining: 1.48s\n",
      "80:\tlearn: 0.3582573\ttotal: 130ms\tremaining: 1.47s\n",
      "81:\tlearn: 0.3552398\ttotal: 131ms\tremaining: 1.46s\n",
      "82:\tlearn: 0.3526861\ttotal: 132ms\tremaining: 1.46s\n",
      "83:\tlearn: 0.3504853\ttotal: 133ms\tremaining: 1.45s\n",
      "84:\tlearn: 0.3479198\ttotal: 133ms\tremaining: 1.44s\n",
      "85:\tlearn: 0.3453726\ttotal: 134ms\tremaining: 1.43s\n",
      "86:\tlearn: 0.3436462\ttotal: 135ms\tremaining: 1.42s\n",
      "87:\tlearn: 0.3410995\ttotal: 136ms\tremaining: 1.41s\n",
      "88:\tlearn: 0.3391338\ttotal: 137ms\tremaining: 1.4s\n",
      "89:\tlearn: 0.3368951\ttotal: 138ms\tremaining: 1.39s\n",
      "90:\tlearn: 0.3346096\ttotal: 139ms\tremaining: 1.38s\n",
      "91:\tlearn: 0.3328561\ttotal: 139ms\tremaining: 1.37s\n",
      "92:\tlearn: 0.3313273\ttotal: 140ms\tremaining: 1.36s\n",
      "93:\tlearn: 0.3295836\ttotal: 141ms\tremaining: 1.36s\n",
      "94:\tlearn: 0.3274426\ttotal: 142ms\tremaining: 1.35s\n",
      "95:\tlearn: 0.3262700\ttotal: 142ms\tremaining: 1.34s\n",
      "96:\tlearn: 0.3243815\ttotal: 143ms\tremaining: 1.33s\n",
      "97:\tlearn: 0.3225632\ttotal: 144ms\tremaining: 1.32s\n",
      "98:\tlearn: 0.3214358\ttotal: 145ms\tremaining: 1.32s\n",
      "99:\tlearn: 0.3201854\ttotal: 146ms\tremaining: 1.31s\n",
      "100:\tlearn: 0.3185371\ttotal: 146ms\tremaining: 1.3s\n",
      "101:\tlearn: 0.3168292\ttotal: 147ms\tremaining: 1.29s\n",
      "102:\tlearn: 0.3153199\ttotal: 148ms\tremaining: 1.29s\n",
      "103:\tlearn: 0.3140670\ttotal: 149ms\tremaining: 1.28s\n",
      "104:\tlearn: 0.3125041\ttotal: 150ms\tremaining: 1.27s\n",
      "105:\tlearn: 0.3111085\ttotal: 150ms\tremaining: 1.27s\n",
      "106:\tlearn: 0.3095342\ttotal: 151ms\tremaining: 1.26s\n",
      "107:\tlearn: 0.3078278\ttotal: 152ms\tremaining: 1.25s\n",
      "108:\tlearn: 0.3066216\ttotal: 153ms\tremaining: 1.25s\n",
      "109:\tlearn: 0.3055626\ttotal: 153ms\tremaining: 1.24s\n",
      "110:\tlearn: 0.3038613\ttotal: 154ms\tremaining: 1.23s\n",
      "111:\tlearn: 0.3024617\ttotal: 155ms\tremaining: 1.23s\n",
      "112:\tlearn: 0.3008765\ttotal: 156ms\tremaining: 1.22s\n",
      "113:\tlearn: 0.2991486\ttotal: 156ms\tremaining: 1.22s\n",
      "114:\tlearn: 0.2979621\ttotal: 157ms\tremaining: 1.21s\n",
      "115:\tlearn: 0.2964944\ttotal: 158ms\tremaining: 1.2s\n",
      "116:\tlearn: 0.2949756\ttotal: 159ms\tremaining: 1.2s\n",
      "117:\tlearn: 0.2931167\ttotal: 160ms\tremaining: 1.19s\n",
      "118:\tlearn: 0.2917477\ttotal: 161ms\tremaining: 1.19s\n",
      "119:\tlearn: 0.2906091\ttotal: 161ms\tremaining: 1.18s\n",
      "120:\tlearn: 0.2893220\ttotal: 162ms\tremaining: 1.18s\n",
      "121:\tlearn: 0.2879340\ttotal: 163ms\tremaining: 1.17s\n",
      "122:\tlearn: 0.2870081\ttotal: 164ms\tremaining: 1.17s\n",
      "123:\tlearn: 0.2855315\ttotal: 165ms\tremaining: 1.16s\n",
      "124:\tlearn: 0.2841083\ttotal: 166ms\tremaining: 1.16s\n",
      "125:\tlearn: 0.2827931\ttotal: 167ms\tremaining: 1.16s\n",
      "126:\tlearn: 0.2817345\ttotal: 167ms\tremaining: 1.15s\n",
      "127:\tlearn: 0.2803251\ttotal: 168ms\tremaining: 1.15s\n",
      "128:\tlearn: 0.2795007\ttotal: 169ms\tremaining: 1.14s\n",
      "129:\tlearn: 0.2779690\ttotal: 170ms\tremaining: 1.14s\n",
      "130:\tlearn: 0.2770725\ttotal: 171ms\tremaining: 1.13s\n",
      "131:\tlearn: 0.2758787\ttotal: 171ms\tremaining: 1.13s\n",
      "132:\tlearn: 0.2751694\ttotal: 172ms\tremaining: 1.12s\n",
      "133:\tlearn: 0.2738262\ttotal: 173ms\tremaining: 1.12s\n",
      "134:\tlearn: 0.2731270\ttotal: 174ms\tremaining: 1.11s\n",
      "135:\tlearn: 0.2721169\ttotal: 175ms\tremaining: 1.11s\n",
      "136:\tlearn: 0.2713342\ttotal: 175ms\tremaining: 1.1s\n",
      "137:\tlearn: 0.2707121\ttotal: 176ms\tremaining: 1.1s\n",
      "138:\tlearn: 0.2695158\ttotal: 177ms\tremaining: 1.1s\n",
      "139:\tlearn: 0.2687832\ttotal: 178ms\tremaining: 1.09s\n",
      "140:\tlearn: 0.2681476\ttotal: 179ms\tremaining: 1.09s\n",
      "141:\tlearn: 0.2674165\ttotal: 179ms\tremaining: 1.08s\n",
      "142:\tlearn: 0.2663868\ttotal: 180ms\tremaining: 1.08s\n",
      "143:\tlearn: 0.2655523\ttotal: 181ms\tremaining: 1.08s\n",
      "144:\tlearn: 0.2648412\ttotal: 183ms\tremaining: 1.08s\n",
      "145:\tlearn: 0.2637246\ttotal: 183ms\tremaining: 1.07s\n",
      "146:\tlearn: 0.2626436\ttotal: 184ms\tremaining: 1.07s\n",
      "147:\tlearn: 0.2614276\ttotal: 185ms\tremaining: 1.06s\n",
      "148:\tlearn: 0.2605890\ttotal: 186ms\tremaining: 1.06s\n",
      "149:\tlearn: 0.2601475\ttotal: 187ms\tremaining: 1.06s\n",
      "150:\tlearn: 0.2593852\ttotal: 187ms\tremaining: 1.05s\n",
      "151:\tlearn: 0.2585009\ttotal: 188ms\tremaining: 1.05s\n",
      "152:\tlearn: 0.2578067\ttotal: 189ms\tremaining: 1.05s\n",
      "153:\tlearn: 0.2570732\ttotal: 190ms\tremaining: 1.04s\n"
     ]
    },
    {
     "name": "stdout",
     "output_type": "stream",
     "text": [
      "154:\tlearn: 0.2562483\ttotal: 191ms\tremaining: 1.04s\n",
      "155:\tlearn: 0.2553477\ttotal: 192ms\tremaining: 1.04s\n",
      "156:\tlearn: 0.2540269\ttotal: 193ms\tremaining: 1.04s\n",
      "157:\tlearn: 0.2530969\ttotal: 194ms\tremaining: 1.03s\n",
      "158:\tlearn: 0.2517343\ttotal: 195ms\tremaining: 1.03s\n",
      "159:\tlearn: 0.2508702\ttotal: 196ms\tremaining: 1.03s\n",
      "160:\tlearn: 0.2500075\ttotal: 197ms\tremaining: 1.02s\n",
      "161:\tlearn: 0.2493103\ttotal: 197ms\tremaining: 1.02s\n",
      "162:\tlearn: 0.2486807\ttotal: 198ms\tremaining: 1.02s\n",
      "163:\tlearn: 0.2479856\ttotal: 199ms\tremaining: 1.01s\n",
      "164:\tlearn: 0.2472272\ttotal: 200ms\tremaining: 1.01s\n",
      "165:\tlearn: 0.2464316\ttotal: 201ms\tremaining: 1.01s\n",
      "166:\tlearn: 0.2457932\ttotal: 202ms\tremaining: 1s\n",
      "167:\tlearn: 0.2451406\ttotal: 202ms\tremaining: 1s\n",
      "168:\tlearn: 0.2444581\ttotal: 203ms\tremaining: 999ms\n",
      "169:\tlearn: 0.2438212\ttotal: 204ms\tremaining: 996ms\n",
      "170:\tlearn: 0.2431978\ttotal: 205ms\tremaining: 993ms\n",
      "171:\tlearn: 0.2426667\ttotal: 206ms\tremaining: 990ms\n",
      "172:\tlearn: 0.2419841\ttotal: 206ms\tremaining: 987ms\n",
      "173:\tlearn: 0.2410879\ttotal: 207ms\tremaining: 984ms\n",
      "174:\tlearn: 0.2405215\ttotal: 208ms\tremaining: 981ms\n",
      "175:\tlearn: 0.2399319\ttotal: 209ms\tremaining: 977ms\n",
      "176:\tlearn: 0.2389235\ttotal: 210ms\tremaining: 974ms\n",
      "177:\tlearn: 0.2379724\ttotal: 210ms\tremaining: 971ms\n",
      "178:\tlearn: 0.2373554\ttotal: 211ms\tremaining: 969ms\n",
      "179:\tlearn: 0.2364627\ttotal: 212ms\tremaining: 967ms\n",
      "180:\tlearn: 0.2358243\ttotal: 213ms\tremaining: 964ms\n",
      "181:\tlearn: 0.2351626\ttotal: 214ms\tremaining: 962ms\n",
      "182:\tlearn: 0.2345544\ttotal: 215ms\tremaining: 959ms\n",
      "183:\tlearn: 0.2336338\ttotal: 216ms\tremaining: 956ms\n",
      "184:\tlearn: 0.2327567\ttotal: 216ms\tremaining: 954ms\n",
      "185:\tlearn: 0.2322233\ttotal: 217ms\tremaining: 951ms\n",
      "186:\tlearn: 0.2315018\ttotal: 218ms\tremaining: 948ms\n",
      "187:\tlearn: 0.2308149\ttotal: 219ms\tremaining: 946ms\n",
      "188:\tlearn: 0.2299917\ttotal: 221ms\tremaining: 946ms\n",
      "189:\tlearn: 0.2293243\ttotal: 221ms\tremaining: 944ms\n",
      "190:\tlearn: 0.2287742\ttotal: 222ms\tremaining: 942ms\n",
      "191:\tlearn: 0.2280969\ttotal: 223ms\tremaining: 939ms\n",
      "192:\tlearn: 0.2275433\ttotal: 224ms\tremaining: 937ms\n",
      "193:\tlearn: 0.2269015\ttotal: 225ms\tremaining: 935ms\n",
      "194:\tlearn: 0.2262175\ttotal: 226ms\tremaining: 932ms\n",
      "195:\tlearn: 0.2256775\ttotal: 227ms\tremaining: 930ms\n",
      "196:\tlearn: 0.2251501\ttotal: 227ms\tremaining: 927ms\n",
      "197:\tlearn: 0.2246662\ttotal: 228ms\tremaining: 925ms\n",
      "198:\tlearn: 0.2240591\ttotal: 229ms\tremaining: 922ms\n",
      "199:\tlearn: 0.2233647\ttotal: 230ms\tremaining: 919ms\n",
      "200:\tlearn: 0.2228770\ttotal: 231ms\tremaining: 917ms\n",
      "201:\tlearn: 0.2221478\ttotal: 231ms\tremaining: 914ms\n",
      "202:\tlearn: 0.2216290\ttotal: 232ms\tremaining: 912ms\n",
      "203:\tlearn: 0.2212644\ttotal: 233ms\tremaining: 909ms\n",
      "204:\tlearn: 0.2207873\ttotal: 234ms\tremaining: 907ms\n",
      "205:\tlearn: 0.2199921\ttotal: 235ms\tremaining: 904ms\n",
      "206:\tlearn: 0.2193242\ttotal: 236ms\tremaining: 904ms\n",
      "207:\tlearn: 0.2189293\ttotal: 237ms\tremaining: 902ms\n",
      "208:\tlearn: 0.2183307\ttotal: 238ms\tremaining: 900ms\n",
      "209:\tlearn: 0.2179130\ttotal: 239ms\tremaining: 897ms\n",
      "210:\tlearn: 0.2174263\ttotal: 239ms\tremaining: 895ms\n",
      "211:\tlearn: 0.2169399\ttotal: 240ms\tremaining: 892ms\n",
      "212:\tlearn: 0.2163638\ttotal: 241ms\tremaining: 890ms\n",
      "213:\tlearn: 0.2157705\ttotal: 242ms\tremaining: 888ms\n",
      "214:\tlearn: 0.2154052\ttotal: 243ms\tremaining: 886ms\n",
      "215:\tlearn: 0.2150133\ttotal: 243ms\tremaining: 884ms\n",
      "216:\tlearn: 0.2146121\ttotal: 245ms\tremaining: 884ms\n",
      "217:\tlearn: 0.2141355\ttotal: 246ms\tremaining: 882ms\n",
      "218:\tlearn: 0.2135539\ttotal: 247ms\tremaining: 879ms\n",
      "219:\tlearn: 0.2130478\ttotal: 247ms\tremaining: 877ms\n",
      "220:\tlearn: 0.2124497\ttotal: 248ms\tremaining: 875ms\n",
      "221:\tlearn: 0.2121740\ttotal: 249ms\tremaining: 872ms\n",
      "222:\tlearn: 0.2116874\ttotal: 250ms\tremaining: 870ms\n",
      "223:\tlearn: 0.2110291\ttotal: 250ms\tremaining: 868ms\n",
      "224:\tlearn: 0.2105922\ttotal: 251ms\tremaining: 866ms\n",
      "225:\tlearn: 0.2100733\ttotal: 252ms\tremaining: 863ms\n",
      "226:\tlearn: 0.2093254\ttotal: 253ms\tremaining: 861ms\n",
      "227:\tlearn: 0.2089296\ttotal: 254ms\tremaining: 859ms\n",
      "228:\tlearn: 0.2084016\ttotal: 255ms\tremaining: 857ms\n",
      "229:\tlearn: 0.2077882\ttotal: 255ms\tremaining: 855ms\n",
      "230:\tlearn: 0.2072149\ttotal: 256ms\tremaining: 853ms\n",
      "231:\tlearn: 0.2065430\ttotal: 257ms\tremaining: 851ms\n",
      "232:\tlearn: 0.2062236\ttotal: 258ms\tremaining: 849ms\n",
      "233:\tlearn: 0.2058759\ttotal: 259ms\tremaining: 847ms\n",
      "234:\tlearn: 0.2053119\ttotal: 259ms\tremaining: 845ms\n",
      "235:\tlearn: 0.2047139\ttotal: 260ms\tremaining: 843ms\n",
      "236:\tlearn: 0.2039853\ttotal: 261ms\tremaining: 840ms\n",
      "237:\tlearn: 0.2035187\ttotal: 262ms\tremaining: 838ms\n",
      "238:\tlearn: 0.2030777\ttotal: 263ms\tremaining: 836ms\n",
      "239:\tlearn: 0.2025143\ttotal: 263ms\tremaining: 834ms\n",
      "240:\tlearn: 0.2019385\ttotal: 264ms\tremaining: 832ms\n",
      "241:\tlearn: 0.2012973\ttotal: 265ms\tremaining: 830ms\n",
      "242:\tlearn: 0.2008885\ttotal: 266ms\tremaining: 828ms\n",
      "243:\tlearn: 0.2005388\ttotal: 267ms\tremaining: 827ms\n",
      "244:\tlearn: 0.2001657\ttotal: 268ms\tremaining: 825ms\n",
      "245:\tlearn: 0.1994763\ttotal: 268ms\tremaining: 822ms\n",
      "246:\tlearn: 0.1990268\ttotal: 269ms\tremaining: 821ms\n",
      "247:\tlearn: 0.1983535\ttotal: 270ms\tremaining: 819ms\n",
      "248:\tlearn: 0.1980275\ttotal: 271ms\tremaining: 816ms\n",
      "249:\tlearn: 0.1977531\ttotal: 271ms\tremaining: 814ms\n",
      "250:\tlearn: 0.1973584\ttotal: 273ms\tremaining: 814ms\n",
      "251:\tlearn: 0.1965121\ttotal: 274ms\tremaining: 812ms\n",
      "252:\tlearn: 0.1959477\ttotal: 275ms\tremaining: 811ms\n",
      "253:\tlearn: 0.1953925\ttotal: 275ms\tremaining: 808ms\n",
      "254:\tlearn: 0.1950902\ttotal: 276ms\tremaining: 807ms\n",
      "255:\tlearn: 0.1948816\ttotal: 277ms\tremaining: 805ms\n",
      "256:\tlearn: 0.1945153\ttotal: 278ms\tremaining: 803ms\n",
      "257:\tlearn: 0.1939390\ttotal: 279ms\tremaining: 801ms\n",
      "258:\tlearn: 0.1933497\ttotal: 279ms\tremaining: 799ms\n",
      "259:\tlearn: 0.1931793\ttotal: 280ms\tremaining: 798ms\n",
      "260:\tlearn: 0.1926410\ttotal: 281ms\tremaining: 796ms\n",
      "261:\tlearn: 0.1922011\ttotal: 282ms\tremaining: 794ms\n",
      "262:\tlearn: 0.1914175\ttotal: 283ms\tremaining: 792ms\n",
      "263:\tlearn: 0.1910347\ttotal: 284ms\tremaining: 790ms\n",
      "264:\tlearn: 0.1906081\ttotal: 284ms\tremaining: 788ms\n",
      "265:\tlearn: 0.1901662\ttotal: 285ms\tremaining: 786ms\n",
      "266:\tlearn: 0.1897809\ttotal: 286ms\tremaining: 784ms\n",
      "267:\tlearn: 0.1891634\ttotal: 287ms\tremaining: 783ms\n",
      "268:\tlearn: 0.1887948\ttotal: 287ms\tremaining: 781ms\n",
      "269:\tlearn: 0.1882113\ttotal: 288ms\tremaining: 779ms\n",
      "270:\tlearn: 0.1876497\ttotal: 289ms\tremaining: 777ms\n",
      "271:\tlearn: 0.1871128\ttotal: 290ms\tremaining: 775ms\n",
      "272:\tlearn: 0.1865121\ttotal: 290ms\tremaining: 773ms\n",
      "273:\tlearn: 0.1861270\ttotal: 291ms\tremaining: 772ms\n",
      "274:\tlearn: 0.1855905\ttotal: 292ms\tremaining: 770ms\n",
      "275:\tlearn: 0.1851211\ttotal: 293ms\tremaining: 768ms\n",
      "276:\tlearn: 0.1845165\ttotal: 294ms\tremaining: 767ms\n",
      "277:\tlearn: 0.1842517\ttotal: 294ms\tremaining: 765ms\n",
      "278:\tlearn: 0.1840181\ttotal: 295ms\tremaining: 763ms\n",
      "279:\tlearn: 0.1835803\ttotal: 296ms\tremaining: 761ms\n",
      "280:\tlearn: 0.1830951\ttotal: 297ms\tremaining: 760ms\n"
     ]
    },
    {
     "name": "stdout",
     "output_type": "stream",
     "text": [
      "281:\tlearn: 0.1827679\ttotal: 298ms\tremaining: 759ms\n",
      "282:\tlearn: 0.1824550\ttotal: 299ms\tremaining: 757ms\n",
      "283:\tlearn: 0.1822529\ttotal: 300ms\tremaining: 755ms\n",
      "284:\tlearn: 0.1817885\ttotal: 300ms\tremaining: 754ms\n",
      "285:\tlearn: 0.1814093\ttotal: 302ms\tremaining: 753ms\n",
      "286:\tlearn: 0.1813146\ttotal: 303ms\tremaining: 752ms\n",
      "287:\tlearn: 0.1810597\ttotal: 304ms\tremaining: 751ms\n",
      "288:\tlearn: 0.1806709\ttotal: 305ms\tremaining: 749ms\n",
      "289:\tlearn: 0.1805116\ttotal: 305ms\tremaining: 748ms\n",
      "290:\tlearn: 0.1801387\ttotal: 306ms\tremaining: 746ms\n",
      "291:\tlearn: 0.1796497\ttotal: 307ms\tremaining: 745ms\n",
      "292:\tlearn: 0.1792490\ttotal: 308ms\tremaining: 743ms\n",
      "293:\tlearn: 0.1790262\ttotal: 309ms\tremaining: 742ms\n",
      "294:\tlearn: 0.1787192\ttotal: 310ms\tremaining: 740ms\n",
      "295:\tlearn: 0.1785773\ttotal: 311ms\tremaining: 739ms\n",
      "296:\tlearn: 0.1779217\ttotal: 311ms\tremaining: 737ms\n",
      "297:\tlearn: 0.1775056\ttotal: 312ms\tremaining: 735ms\n",
      "298:\tlearn: 0.1770184\ttotal: 313ms\tremaining: 734ms\n",
      "299:\tlearn: 0.1765774\ttotal: 314ms\tremaining: 733ms\n",
      "300:\tlearn: 0.1762181\ttotal: 315ms\tremaining: 731ms\n",
      "301:\tlearn: 0.1761468\ttotal: 316ms\tremaining: 729ms\n",
      "302:\tlearn: 0.1760950\ttotal: 317ms\tremaining: 728ms\n",
      "303:\tlearn: 0.1760341\ttotal: 317ms\tremaining: 727ms\n",
      "304:\tlearn: 0.1758958\ttotal: 318ms\tremaining: 725ms\n",
      "305:\tlearn: 0.1754190\ttotal: 319ms\tremaining: 723ms\n",
      "306:\tlearn: 0.1753737\ttotal: 320ms\tremaining: 722ms\n",
      "307:\tlearn: 0.1749038\ttotal: 320ms\tremaining: 720ms\n",
      "308:\tlearn: 0.1745897\ttotal: 321ms\tremaining: 718ms\n",
      "309:\tlearn: 0.1742233\ttotal: 322ms\tremaining: 717ms\n",
      "310:\tlearn: 0.1739466\ttotal: 323ms\tremaining: 715ms\n",
      "311:\tlearn: 0.1737886\ttotal: 324ms\tremaining: 714ms\n",
      "312:\tlearn: 0.1734772\ttotal: 324ms\tremaining: 712ms\n",
      "313:\tlearn: 0.1730206\ttotal: 325ms\tremaining: 710ms\n",
      "314:\tlearn: 0.1726596\ttotal: 326ms\tremaining: 709ms\n",
      "315:\tlearn: 0.1723409\ttotal: 327ms\tremaining: 707ms\n",
      "316:\tlearn: 0.1718616\ttotal: 327ms\tremaining: 706ms\n",
      "317:\tlearn: 0.1716367\ttotal: 328ms\tremaining: 704ms\n",
      "318:\tlearn: 0.1712532\ttotal: 329ms\tremaining: 703ms\n",
      "319:\tlearn: 0.1708961\ttotal: 330ms\tremaining: 701ms\n",
      "320:\tlearn: 0.1704737\ttotal: 331ms\tremaining: 699ms\n",
      "321:\tlearn: 0.1704383\ttotal: 331ms\tremaining: 698ms\n",
      "322:\tlearn: 0.1703935\ttotal: 332ms\tremaining: 696ms\n",
      "323:\tlearn: 0.1700052\ttotal: 333ms\tremaining: 694ms\n",
      "324:\tlearn: 0.1697691\ttotal: 334ms\tremaining: 693ms\n",
      "325:\tlearn: 0.1694854\ttotal: 335ms\tremaining: 692ms\n",
      "326:\tlearn: 0.1691047\ttotal: 335ms\tremaining: 690ms\n",
      "327:\tlearn: 0.1689820\ttotal: 336ms\tremaining: 689ms\n",
      "328:\tlearn: 0.1684399\ttotal: 337ms\tremaining: 688ms\n",
      "329:\tlearn: 0.1683991\ttotal: 338ms\tremaining: 686ms\n",
      "330:\tlearn: 0.1680067\ttotal: 339ms\tremaining: 685ms\n",
      "331:\tlearn: 0.1677835\ttotal: 340ms\tremaining: 684ms\n",
      "332:\tlearn: 0.1675716\ttotal: 341ms\tremaining: 682ms\n",
      "333:\tlearn: 0.1673163\ttotal: 342ms\tremaining: 681ms\n",
      "334:\tlearn: 0.1672055\ttotal: 342ms\tremaining: 679ms\n",
      "335:\tlearn: 0.1667401\ttotal: 343ms\tremaining: 678ms\n",
      "336:\tlearn: 0.1665504\ttotal: 344ms\tremaining: 677ms\n",
      "337:\tlearn: 0.1661837\ttotal: 345ms\tremaining: 675ms\n",
      "338:\tlearn: 0.1658611\ttotal: 346ms\tremaining: 674ms\n",
      "339:\tlearn: 0.1657453\ttotal: 347ms\tremaining: 673ms\n",
      "340:\tlearn: 0.1656983\ttotal: 348ms\tremaining: 672ms\n",
      "341:\tlearn: 0.1654892\ttotal: 348ms\tremaining: 670ms\n",
      "342:\tlearn: 0.1652301\ttotal: 349ms\tremaining: 669ms\n",
      "343:\tlearn: 0.1650202\ttotal: 350ms\tremaining: 668ms\n",
      "344:\tlearn: 0.1648174\ttotal: 351ms\tremaining: 667ms\n",
      "345:\tlearn: 0.1645477\ttotal: 352ms\tremaining: 665ms\n",
      "346:\tlearn: 0.1644272\ttotal: 353ms\tremaining: 664ms\n",
      "347:\tlearn: 0.1640944\ttotal: 354ms\tremaining: 663ms\n",
      "348:\tlearn: 0.1640365\ttotal: 355ms\tremaining: 661ms\n",
      "349:\tlearn: 0.1636972\ttotal: 355ms\tremaining: 660ms\n",
      "350:\tlearn: 0.1633454\ttotal: 356ms\tremaining: 659ms\n",
      "351:\tlearn: 0.1633037\ttotal: 357ms\tremaining: 657ms\n",
      "352:\tlearn: 0.1632259\ttotal: 358ms\tremaining: 656ms\n",
      "353:\tlearn: 0.1627185\ttotal: 359ms\tremaining: 655ms\n",
      "354:\tlearn: 0.1625427\ttotal: 359ms\tremaining: 653ms\n",
      "355:\tlearn: 0.1621545\ttotal: 360ms\tremaining: 652ms\n",
      "356:\tlearn: 0.1618120\ttotal: 361ms\tremaining: 650ms\n",
      "357:\tlearn: 0.1617668\ttotal: 362ms\tremaining: 649ms\n",
      "358:\tlearn: 0.1617305\ttotal: 363ms\tremaining: 647ms\n",
      "359:\tlearn: 0.1613249\ttotal: 363ms\tremaining: 646ms\n",
      "360:\tlearn: 0.1610832\ttotal: 364ms\tremaining: 644ms\n",
      "361:\tlearn: 0.1610482\ttotal: 365ms\tremaining: 643ms\n",
      "362:\tlearn: 0.1606133\ttotal: 366ms\tremaining: 642ms\n",
      "363:\tlearn: 0.1605695\ttotal: 366ms\tremaining: 640ms\n",
      "364:\tlearn: 0.1604861\ttotal: 367ms\tremaining: 639ms\n",
      "365:\tlearn: 0.1603162\ttotal: 368ms\tremaining: 638ms\n",
      "366:\tlearn: 0.1598564\ttotal: 369ms\tremaining: 637ms\n",
      "367:\tlearn: 0.1598198\ttotal: 370ms\tremaining: 635ms\n",
      "368:\tlearn: 0.1597176\ttotal: 371ms\tremaining: 634ms\n",
      "369:\tlearn: 0.1592148\ttotal: 372ms\tremaining: 633ms\n",
      "370:\tlearn: 0.1588281\ttotal: 372ms\tremaining: 631ms\n",
      "371:\tlearn: 0.1586070\ttotal: 373ms\tremaining: 630ms\n",
      "372:\tlearn: 0.1581361\ttotal: 375ms\tremaining: 630ms\n",
      "373:\tlearn: 0.1578366\ttotal: 375ms\tremaining: 628ms\n",
      "374:\tlearn: 0.1574169\ttotal: 376ms\tremaining: 627ms\n",
      "375:\tlearn: 0.1570116\ttotal: 377ms\tremaining: 626ms\n",
      "376:\tlearn: 0.1567038\ttotal: 378ms\tremaining: 624ms\n",
      "377:\tlearn: 0.1563632\ttotal: 379ms\tremaining: 624ms\n",
      "378:\tlearn: 0.1561747\ttotal: 380ms\tremaining: 623ms\n"
     ]
    },
    {
     "name": "stdout",
     "output_type": "stream",
     "text": [
      "379:\tlearn: 0.1560764\ttotal: 381ms\tremaining: 622ms\n",
      "380:\tlearn: 0.1559873\ttotal: 382ms\tremaining: 621ms\n",
      "381:\tlearn: 0.1558252\ttotal: 383ms\tremaining: 620ms\n",
      "382:\tlearn: 0.1556424\ttotal: 384ms\tremaining: 618ms\n",
      "383:\tlearn: 0.1551950\ttotal: 385ms\tremaining: 617ms\n",
      "384:\tlearn: 0.1549352\ttotal: 386ms\tremaining: 616ms\n",
      "385:\tlearn: 0.1547898\ttotal: 386ms\tremaining: 615ms\n",
      "386:\tlearn: 0.1545579\ttotal: 387ms\tremaining: 613ms\n",
      "387:\tlearn: 0.1545162\ttotal: 388ms\tremaining: 612ms\n",
      "388:\tlearn: 0.1542002\ttotal: 389ms\tremaining: 611ms\n",
      "389:\tlearn: 0.1538531\ttotal: 390ms\tremaining: 610ms\n",
      "390:\tlearn: 0.1534316\ttotal: 390ms\tremaining: 608ms\n",
      "391:\tlearn: 0.1532862\ttotal: 391ms\tremaining: 607ms\n",
      "392:\tlearn: 0.1530645\ttotal: 392ms\tremaining: 606ms\n",
      "393:\tlearn: 0.1527451\ttotal: 393ms\tremaining: 604ms\n",
      "394:\tlearn: 0.1527062\ttotal: 394ms\tremaining: 603ms\n",
      "395:\tlearn: 0.1523462\ttotal: 395ms\tremaining: 602ms\n",
      "396:\tlearn: 0.1520956\ttotal: 396ms\tremaining: 601ms\n",
      "397:\tlearn: 0.1516714\ttotal: 396ms\tremaining: 599ms\n",
      "398:\tlearn: 0.1515101\ttotal: 397ms\tremaining: 598ms\n",
      "399:\tlearn: 0.1514235\ttotal: 398ms\tremaining: 597ms\n",
      "400:\tlearn: 0.1511942\ttotal: 399ms\tremaining: 596ms\n",
      "401:\tlearn: 0.1511530\ttotal: 400ms\tremaining: 594ms\n",
      "402:\tlearn: 0.1507892\ttotal: 400ms\tremaining: 593ms\n",
      "403:\tlearn: 0.1506019\ttotal: 401ms\tremaining: 592ms\n",
      "404:\tlearn: 0.1504116\ttotal: 402ms\tremaining: 591ms\n",
      "405:\tlearn: 0.1503690\ttotal: 403ms\tremaining: 590ms\n",
      "406:\tlearn: 0.1500774\ttotal: 404ms\tremaining: 589ms\n",
      "407:\tlearn: 0.1500450\ttotal: 405ms\tremaining: 587ms\n",
      "408:\tlearn: 0.1496014\ttotal: 406ms\tremaining: 587ms\n",
      "409:\tlearn: 0.1492437\ttotal: 407ms\tremaining: 586ms\n",
      "410:\tlearn: 0.1488280\ttotal: 408ms\tremaining: 584ms\n",
      "411:\tlearn: 0.1485144\ttotal: 409ms\tremaining: 583ms\n",
      "412:\tlearn: 0.1482560\ttotal: 409ms\tremaining: 582ms\n",
      "413:\tlearn: 0.1479323\ttotal: 410ms\tremaining: 581ms\n",
      "414:\tlearn: 0.1476672\ttotal: 411ms\tremaining: 580ms\n",
      "415:\tlearn: 0.1474616\ttotal: 412ms\tremaining: 578ms\n",
      "416:\tlearn: 0.1470354\ttotal: 413ms\tremaining: 577ms\n",
      "417:\tlearn: 0.1467321\ttotal: 413ms\tremaining: 576ms\n",
      "418:\tlearn: 0.1464094\ttotal: 414ms\tremaining: 575ms\n",
      "419:\tlearn: 0.1461307\ttotal: 415ms\tremaining: 573ms\n",
      "420:\tlearn: 0.1457987\ttotal: 417ms\tremaining: 573ms\n",
      "421:\tlearn: 0.1455264\ttotal: 417ms\tremaining: 572ms\n",
      "422:\tlearn: 0.1452848\ttotal: 418ms\tremaining: 571ms\n",
      "423:\tlearn: 0.1449277\ttotal: 419ms\tremaining: 569ms\n",
      "424:\tlearn: 0.1447108\ttotal: 420ms\tremaining: 568ms\n",
      "425:\tlearn: 0.1443546\ttotal: 421ms\tremaining: 567ms\n",
      "426:\tlearn: 0.1440219\ttotal: 421ms\tremaining: 565ms\n",
      "427:\tlearn: 0.1436635\ttotal: 422ms\tremaining: 564ms\n",
      "428:\tlearn: 0.1435281\ttotal: 423ms\tremaining: 563ms\n",
      "429:\tlearn: 0.1432362\ttotal: 424ms\tremaining: 562ms\n",
      "430:\tlearn: 0.1429092\ttotal: 425ms\tremaining: 561ms\n",
      "431:\tlearn: 0.1426904\ttotal: 426ms\tremaining: 560ms\n",
      "432:\tlearn: 0.1423577\ttotal: 427ms\tremaining: 559ms\n",
      "433:\tlearn: 0.1420122\ttotal: 427ms\tremaining: 557ms\n",
      "434:\tlearn: 0.1419830\ttotal: 428ms\tremaining: 556ms\n",
      "435:\tlearn: 0.1416216\ttotal: 429ms\tremaining: 555ms\n",
      "436:\tlearn: 0.1414339\ttotal: 430ms\tremaining: 553ms\n",
      "437:\tlearn: 0.1414083\ttotal: 430ms\tremaining: 552ms\n",
      "438:\tlearn: 0.1410538\ttotal: 431ms\tremaining: 551ms\n",
      "439:\tlearn: 0.1407043\ttotal: 432ms\tremaining: 550ms\n",
      "440:\tlearn: 0.1404382\ttotal: 433ms\tremaining: 549ms\n",
      "441:\tlearn: 0.1401733\ttotal: 433ms\tremaining: 547ms\n",
      "442:\tlearn: 0.1398920\ttotal: 434ms\tremaining: 546ms\n",
      "443:\tlearn: 0.1396375\ttotal: 435ms\tremaining: 545ms\n",
      "444:\tlearn: 0.1393503\ttotal: 436ms\tremaining: 544ms\n",
      "445:\tlearn: 0.1389885\ttotal: 437ms\tremaining: 543ms\n",
      "446:\tlearn: 0.1386289\ttotal: 438ms\tremaining: 541ms\n",
      "447:\tlearn: 0.1385746\ttotal: 439ms\tremaining: 540ms\n",
      "448:\tlearn: 0.1384312\ttotal: 439ms\tremaining: 539ms\n",
      "449:\tlearn: 0.1381451\ttotal: 440ms\tremaining: 538ms\n",
      "450:\tlearn: 0.1377140\ttotal: 441ms\tremaining: 537ms\n",
      "451:\tlearn: 0.1374338\ttotal: 442ms\tremaining: 535ms\n",
      "452:\tlearn: 0.1373225\ttotal: 443ms\tremaining: 535ms\n",
      "453:\tlearn: 0.1370919\ttotal: 444ms\tremaining: 534ms\n",
      "454:\tlearn: 0.1368262\ttotal: 444ms\tremaining: 532ms\n",
      "455:\tlearn: 0.1365008\ttotal: 445ms\tremaining: 531ms\n",
      "456:\tlearn: 0.1362333\ttotal: 446ms\tremaining: 530ms\n",
      "457:\tlearn: 0.1359594\ttotal: 447ms\tremaining: 529ms\n",
      "458:\tlearn: 0.1356836\ttotal: 448ms\tremaining: 528ms\n",
      "459:\tlearn: 0.1353516\ttotal: 448ms\tremaining: 526ms\n",
      "460:\tlearn: 0.1350082\ttotal: 449ms\tremaining: 525ms\n",
      "461:\tlearn: 0.1345343\ttotal: 450ms\tremaining: 524ms\n",
      "462:\tlearn: 0.1342240\ttotal: 451ms\tremaining: 523ms\n",
      "463:\tlearn: 0.1340750\ttotal: 452ms\tremaining: 522ms\n",
      "464:\tlearn: 0.1336559\ttotal: 452ms\tremaining: 521ms\n",
      "465:\tlearn: 0.1333845\ttotal: 453ms\tremaining: 519ms\n",
      "466:\tlearn: 0.1330423\ttotal: 454ms\tremaining: 518ms\n",
      "467:\tlearn: 0.1329165\ttotal: 455ms\tremaining: 517ms\n",
      "468:\tlearn: 0.1326448\ttotal: 456ms\tremaining: 516ms\n",
      "469:\tlearn: 0.1324297\ttotal: 457ms\tremaining: 515ms\n",
      "470:\tlearn: 0.1321967\ttotal: 457ms\tremaining: 514ms\n",
      "471:\tlearn: 0.1319563\ttotal: 458ms\tremaining: 513ms\n",
      "472:\tlearn: 0.1316621\ttotal: 459ms\tremaining: 511ms\n",
      "473:\tlearn: 0.1314011\ttotal: 460ms\tremaining: 510ms\n",
      "474:\tlearn: 0.1310913\ttotal: 461ms\tremaining: 509ms\n",
      "475:\tlearn: 0.1308682\ttotal: 462ms\tremaining: 508ms\n",
      "476:\tlearn: 0.1307557\ttotal: 462ms\tremaining: 507ms\n",
      "477:\tlearn: 0.1304721\ttotal: 463ms\tremaining: 506ms\n",
      "478:\tlearn: 0.1304461\ttotal: 464ms\tremaining: 505ms\n",
      "479:\tlearn: 0.1301268\ttotal: 465ms\tremaining: 504ms\n",
      "480:\tlearn: 0.1298875\ttotal: 466ms\tremaining: 502ms\n",
      "481:\tlearn: 0.1298623\ttotal: 467ms\tremaining: 501ms\n",
      "482:\tlearn: 0.1295791\ttotal: 467ms\tremaining: 500ms\n",
      "483:\tlearn: 0.1293293\ttotal: 468ms\tremaining: 499ms\n",
      "484:\tlearn: 0.1289006\ttotal: 469ms\tremaining: 498ms\n",
      "485:\tlearn: 0.1285377\ttotal: 470ms\tremaining: 497ms\n",
      "486:\tlearn: 0.1282173\ttotal: 471ms\tremaining: 496ms\n",
      "487:\tlearn: 0.1281339\ttotal: 471ms\tremaining: 495ms\n",
      "488:\tlearn: 0.1278727\ttotal: 472ms\tremaining: 494ms\n",
      "489:\tlearn: 0.1275642\ttotal: 473ms\tremaining: 492ms\n",
      "490:\tlearn: 0.1273273\ttotal: 474ms\tremaining: 491ms\n",
      "491:\tlearn: 0.1272712\ttotal: 475ms\tremaining: 490ms\n",
      "492:\tlearn: 0.1271928\ttotal: 476ms\tremaining: 489ms\n",
      "493:\tlearn: 0.1269814\ttotal: 477ms\tremaining: 488ms\n",
      "494:\tlearn: 0.1267830\ttotal: 477ms\tremaining: 487ms\n",
      "495:\tlearn: 0.1267146\ttotal: 478ms\tremaining: 486ms\n",
      "496:\tlearn: 0.1263584\ttotal: 479ms\tremaining: 485ms\n",
      "497:\tlearn: 0.1262809\ttotal: 480ms\tremaining: 484ms\n",
      "498:\tlearn: 0.1258902\ttotal: 481ms\tremaining: 482ms\n",
      "499:\tlearn: 0.1258289\ttotal: 481ms\tremaining: 481ms\n",
      "500:\tlearn: 0.1256310\ttotal: 482ms\tremaining: 480ms\n",
      "501:\tlearn: 0.1255903\ttotal: 483ms\tremaining: 479ms\n",
      "502:\tlearn: 0.1255688\ttotal: 484ms\tremaining: 478ms\n",
      "503:\tlearn: 0.1252516\ttotal: 485ms\tremaining: 477ms\n",
      "504:\tlearn: 0.1250051\ttotal: 486ms\tremaining: 476ms\n",
      "505:\tlearn: 0.1246965\ttotal: 487ms\tremaining: 475ms\n",
      "506:\tlearn: 0.1244385\ttotal: 487ms\tremaining: 474ms\n"
     ]
    },
    {
     "name": "stdout",
     "output_type": "stream",
     "text": [
      "507:\tlearn: 0.1241206\ttotal: 488ms\tremaining: 473ms\n",
      "508:\tlearn: 0.1241090\ttotal: 489ms\tremaining: 472ms\n",
      "509:\tlearn: 0.1237625\ttotal: 490ms\tremaining: 471ms\n",
      "510:\tlearn: 0.1235428\ttotal: 491ms\tremaining: 470ms\n",
      "511:\tlearn: 0.1233066\ttotal: 492ms\tremaining: 469ms\n",
      "512:\tlearn: 0.1231565\ttotal: 493ms\tremaining: 468ms\n",
      "513:\tlearn: 0.1229531\ttotal: 493ms\tremaining: 467ms\n",
      "514:\tlearn: 0.1227096\ttotal: 494ms\tremaining: 465ms\n",
      "515:\tlearn: 0.1225469\ttotal: 495ms\tremaining: 464ms\n",
      "516:\tlearn: 0.1222644\ttotal: 496ms\tremaining: 463ms\n",
      "517:\tlearn: 0.1220783\ttotal: 497ms\tremaining: 462ms\n",
      "518:\tlearn: 0.1218513\ttotal: 498ms\tremaining: 461ms\n",
      "519:\tlearn: 0.1215168\ttotal: 498ms\tremaining: 460ms\n",
      "520:\tlearn: 0.1211873\ttotal: 499ms\tremaining: 459ms\n",
      "521:\tlearn: 0.1209173\ttotal: 500ms\tremaining: 458ms\n",
      "522:\tlearn: 0.1207227\ttotal: 501ms\tremaining: 457ms\n",
      "523:\tlearn: 0.1204678\ttotal: 502ms\tremaining: 456ms\n",
      "524:\tlearn: 0.1204570\ttotal: 503ms\tremaining: 455ms\n",
      "525:\tlearn: 0.1202983\ttotal: 503ms\tremaining: 454ms\n",
      "526:\tlearn: 0.1200925\ttotal: 504ms\tremaining: 452ms\n",
      "527:\tlearn: 0.1200611\ttotal: 505ms\tremaining: 451ms\n",
      "528:\tlearn: 0.1199834\ttotal: 506ms\tremaining: 450ms\n",
      "529:\tlearn: 0.1198200\ttotal: 507ms\tremaining: 449ms\n",
      "530:\tlearn: 0.1196090\ttotal: 507ms\tremaining: 448ms\n",
      "531:\tlearn: 0.1193541\ttotal: 508ms\tremaining: 447ms\n",
      "532:\tlearn: 0.1191190\ttotal: 509ms\tremaining: 446ms\n",
      "533:\tlearn: 0.1190745\ttotal: 510ms\tremaining: 445ms\n",
      "534:\tlearn: 0.1188275\ttotal: 511ms\tremaining: 444ms\n",
      "535:\tlearn: 0.1185886\ttotal: 511ms\tremaining: 443ms\n",
      "536:\tlearn: 0.1183441\ttotal: 512ms\tremaining: 442ms\n",
      "537:\tlearn: 0.1181495\ttotal: 513ms\tremaining: 441ms\n",
      "538:\tlearn: 0.1178919\ttotal: 514ms\tremaining: 439ms\n",
      "539:\tlearn: 0.1175361\ttotal: 515ms\tremaining: 439ms\n",
      "540:\tlearn: 0.1172753\ttotal: 516ms\tremaining: 438ms\n",
      "541:\tlearn: 0.1171381\ttotal: 517ms\tremaining: 436ms\n",
      "542:\tlearn: 0.1169368\ttotal: 517ms\tremaining: 435ms\n",
      "543:\tlearn: 0.1166317\ttotal: 518ms\tremaining: 434ms\n",
      "544:\tlearn: 0.1165480\ttotal: 519ms\tremaining: 433ms\n",
      "545:\tlearn: 0.1162927\ttotal: 520ms\tremaining: 432ms\n",
      "546:\tlearn: 0.1161078\ttotal: 520ms\tremaining: 431ms\n",
      "547:\tlearn: 0.1158632\ttotal: 521ms\tremaining: 430ms\n",
      "548:\tlearn: 0.1156966\ttotal: 522ms\tremaining: 429ms\n",
      "549:\tlearn: 0.1155061\ttotal: 523ms\tremaining: 428ms\n",
      "550:\tlearn: 0.1154364\ttotal: 524ms\tremaining: 427ms\n",
      "551:\tlearn: 0.1152364\ttotal: 525ms\tremaining: 426ms\n",
      "552:\tlearn: 0.1150647\ttotal: 526ms\tremaining: 425ms\n",
      "553:\tlearn: 0.1149532\ttotal: 526ms\tremaining: 424ms\n",
      "554:\tlearn: 0.1147539\ttotal: 527ms\tremaining: 423ms\n",
      "555:\tlearn: 0.1144810\ttotal: 528ms\tremaining: 422ms\n",
      "556:\tlearn: 0.1143795\ttotal: 529ms\tremaining: 421ms\n",
      "557:\tlearn: 0.1141312\ttotal: 530ms\tremaining: 420ms\n",
      "558:\tlearn: 0.1139600\ttotal: 530ms\tremaining: 419ms\n",
      "559:\tlearn: 0.1137253\ttotal: 531ms\tremaining: 417ms\n",
      "560:\tlearn: 0.1137058\ttotal: 532ms\tremaining: 416ms\n",
      "561:\tlearn: 0.1135102\ttotal: 533ms\tremaining: 415ms\n",
      "562:\tlearn: 0.1134019\ttotal: 534ms\tremaining: 414ms\n",
      "563:\tlearn: 0.1132997\ttotal: 535ms\tremaining: 413ms\n",
      "564:\tlearn: 0.1132701\ttotal: 535ms\tremaining: 412ms\n",
      "565:\tlearn: 0.1130788\ttotal: 536ms\tremaining: 411ms\n",
      "566:\tlearn: 0.1127461\ttotal: 537ms\tremaining: 410ms\n",
      "567:\tlearn: 0.1125292\ttotal: 538ms\tremaining: 409ms\n",
      "568:\tlearn: 0.1122870\ttotal: 539ms\tremaining: 408ms\n",
      "569:\tlearn: 0.1120756\ttotal: 540ms\tremaining: 407ms\n",
      "570:\tlearn: 0.1119222\ttotal: 540ms\tremaining: 406ms\n",
      "571:\tlearn: 0.1117499\ttotal: 541ms\tremaining: 405ms\n",
      "572:\tlearn: 0.1115727\ttotal: 542ms\tremaining: 404ms\n",
      "573:\tlearn: 0.1113988\ttotal: 543ms\tremaining: 403ms\n",
      "574:\tlearn: 0.1112617\ttotal: 544ms\tremaining: 402ms\n",
      "575:\tlearn: 0.1112349\ttotal: 544ms\tremaining: 401ms\n",
      "576:\tlearn: 0.1111293\ttotal: 545ms\tremaining: 400ms\n",
      "577:\tlearn: 0.1108746\ttotal: 546ms\tremaining: 399ms\n",
      "578:\tlearn: 0.1106143\ttotal: 547ms\tremaining: 398ms\n",
      "579:\tlearn: 0.1105959\ttotal: 547ms\tremaining: 396ms\n",
      "580:\tlearn: 0.1105492\ttotal: 548ms\tremaining: 395ms\n",
      "581:\tlearn: 0.1102593\ttotal: 549ms\tremaining: 394ms\n",
      "582:\tlearn: 0.1100890\ttotal: 550ms\tremaining: 393ms\n",
      "583:\tlearn: 0.1098924\ttotal: 551ms\tremaining: 392ms\n",
      "584:\tlearn: 0.1098676\ttotal: 551ms\tremaining: 391ms\n",
      "585:\tlearn: 0.1096586\ttotal: 552ms\tremaining: 390ms\n",
      "586:\tlearn: 0.1094013\ttotal: 553ms\tremaining: 389ms\n",
      "587:\tlearn: 0.1092711\ttotal: 554ms\tremaining: 388ms\n",
      "588:\tlearn: 0.1090102\ttotal: 555ms\tremaining: 387ms\n",
      "589:\tlearn: 0.1088668\ttotal: 555ms\tremaining: 386ms\n",
      "590:\tlearn: 0.1086358\ttotal: 556ms\tremaining: 385ms\n",
      "591:\tlearn: 0.1084920\ttotal: 557ms\tremaining: 384ms\n",
      "592:\tlearn: 0.1083300\ttotal: 558ms\tremaining: 383ms\n",
      "593:\tlearn: 0.1081393\ttotal: 559ms\tremaining: 382ms\n",
      "594:\tlearn: 0.1079488\ttotal: 560ms\tremaining: 381ms\n",
      "595:\tlearn: 0.1077141\ttotal: 560ms\tremaining: 380ms\n",
      "596:\tlearn: 0.1076913\ttotal: 561ms\tremaining: 379ms\n",
      "597:\tlearn: 0.1074551\ttotal: 562ms\tremaining: 378ms\n",
      "598:\tlearn: 0.1074117\ttotal: 563ms\tremaining: 377ms\n",
      "599:\tlearn: 0.1071223\ttotal: 563ms\tremaining: 375ms\n",
      "600:\tlearn: 0.1068932\ttotal: 564ms\tremaining: 375ms\n",
      "601:\tlearn: 0.1066431\ttotal: 566ms\tremaining: 374ms\n",
      "602:\tlearn: 0.1063939\ttotal: 566ms\tremaining: 373ms\n",
      "603:\tlearn: 0.1061240\ttotal: 567ms\tremaining: 372ms\n",
      "604:\tlearn: 0.1059290\ttotal: 568ms\tremaining: 371ms\n",
      "605:\tlearn: 0.1056989\ttotal: 569ms\tremaining: 370ms\n",
      "606:\tlearn: 0.1055294\ttotal: 570ms\tremaining: 369ms\n",
      "607:\tlearn: 0.1052365\ttotal: 571ms\tremaining: 368ms\n"
     ]
    },
    {
     "name": "stdout",
     "output_type": "stream",
     "text": [
      "608:\tlearn: 0.1049038\ttotal: 572ms\tremaining: 367ms\n",
      "609:\tlearn: 0.1048883\ttotal: 573ms\tremaining: 366ms\n",
      "610:\tlearn: 0.1047357\ttotal: 573ms\tremaining: 365ms\n",
      "611:\tlearn: 0.1046196\ttotal: 574ms\tremaining: 364ms\n",
      "612:\tlearn: 0.1044788\ttotal: 575ms\tremaining: 363ms\n",
      "613:\tlearn: 0.1042613\ttotal: 576ms\tremaining: 362ms\n",
      "614:\tlearn: 0.1040724\ttotal: 577ms\tremaining: 361ms\n",
      "615:\tlearn: 0.1039234\ttotal: 578ms\tremaining: 360ms\n",
      "616:\tlearn: 0.1037607\ttotal: 578ms\tremaining: 359ms\n",
      "617:\tlearn: 0.1035530\ttotal: 579ms\tremaining: 358ms\n",
      "618:\tlearn: 0.1033896\ttotal: 580ms\tremaining: 357ms\n",
      "619:\tlearn: 0.1032109\ttotal: 581ms\tremaining: 356ms\n",
      "620:\tlearn: 0.1030545\ttotal: 582ms\tremaining: 355ms\n",
      "621:\tlearn: 0.1029871\ttotal: 582ms\tremaining: 354ms\n",
      "622:\tlearn: 0.1029667\ttotal: 583ms\tremaining: 353ms\n",
      "623:\tlearn: 0.1028495\ttotal: 584ms\tremaining: 352ms\n",
      "624:\tlearn: 0.1027599\ttotal: 585ms\tremaining: 351ms\n",
      "625:\tlearn: 0.1025429\ttotal: 586ms\tremaining: 350ms\n",
      "626:\tlearn: 0.1025218\ttotal: 587ms\tremaining: 349ms\n",
      "627:\tlearn: 0.1023551\ttotal: 587ms\tremaining: 348ms\n",
      "628:\tlearn: 0.1022151\ttotal: 588ms\tremaining: 347ms\n",
      "629:\tlearn: 0.1021059\ttotal: 589ms\tremaining: 346ms\n",
      "630:\tlearn: 0.1018813\ttotal: 590ms\tremaining: 345ms\n",
      "631:\tlearn: 0.1016098\ttotal: 591ms\tremaining: 344ms\n",
      "632:\tlearn: 0.1014182\ttotal: 592ms\tremaining: 343ms\n",
      "633:\tlearn: 0.1012416\ttotal: 592ms\tremaining: 342ms\n",
      "634:\tlearn: 0.1010108\ttotal: 593ms\tremaining: 341ms\n",
      "635:\tlearn: 0.1008359\ttotal: 594ms\tremaining: 340ms\n",
      "636:\tlearn: 0.1006819\ttotal: 595ms\tremaining: 339ms\n",
      "637:\tlearn: 0.1006670\ttotal: 596ms\tremaining: 338ms\n",
      "638:\tlearn: 0.1005150\ttotal: 597ms\tremaining: 337ms\n",
      "639:\tlearn: 0.1003870\ttotal: 597ms\tremaining: 336ms\n",
      "640:\tlearn: 0.1001161\ttotal: 598ms\tremaining: 335ms\n",
      "641:\tlearn: 0.1000733\ttotal: 599ms\tremaining: 334ms\n",
      "642:\tlearn: 0.0998730\ttotal: 600ms\tremaining: 333ms\n",
      "643:\tlearn: 0.0997113\ttotal: 601ms\tremaining: 332ms\n",
      "644:\tlearn: 0.0995833\ttotal: 601ms\tremaining: 331ms\n",
      "645:\tlearn: 0.0993999\ttotal: 602ms\tremaining: 330ms\n",
      "646:\tlearn: 0.0992106\ttotal: 603ms\tremaining: 329ms\n",
      "647:\tlearn: 0.0990600\ttotal: 604ms\tremaining: 328ms\n",
      "648:\tlearn: 0.0989601\ttotal: 605ms\tremaining: 327ms\n",
      "649:\tlearn: 0.0988437\ttotal: 605ms\tremaining: 326ms\n",
      "650:\tlearn: 0.0986539\ttotal: 606ms\tremaining: 325ms\n",
      "651:\tlearn: 0.0984689\ttotal: 607ms\tremaining: 324ms\n",
      "652:\tlearn: 0.0983486\ttotal: 608ms\tremaining: 323ms\n",
      "653:\tlearn: 0.0982227\ttotal: 609ms\tremaining: 322ms\n",
      "654:\tlearn: 0.0980240\ttotal: 609ms\tremaining: 321ms\n",
      "655:\tlearn: 0.0980004\ttotal: 610ms\tremaining: 320ms\n",
      "656:\tlearn: 0.0978448\ttotal: 611ms\tremaining: 319ms\n",
      "657:\tlearn: 0.0976802\ttotal: 612ms\tremaining: 318ms\n",
      "658:\tlearn: 0.0975863\ttotal: 613ms\tremaining: 317ms\n",
      "659:\tlearn: 0.0974580\ttotal: 613ms\tremaining: 316ms\n",
      "660:\tlearn: 0.0972723\ttotal: 614ms\tremaining: 315ms\n",
      "661:\tlearn: 0.0971429\ttotal: 615ms\tremaining: 314ms\n",
      "662:\tlearn: 0.0969387\ttotal: 616ms\tremaining: 313ms\n",
      "663:\tlearn: 0.0967778\ttotal: 617ms\tremaining: 312ms\n",
      "664:\tlearn: 0.0966819\ttotal: 617ms\tremaining: 311ms\n",
      "665:\tlearn: 0.0964927\ttotal: 618ms\tremaining: 310ms\n",
      "666:\tlearn: 0.0962392\ttotal: 619ms\tremaining: 309ms\n",
      "667:\tlearn: 0.0961124\ttotal: 620ms\tremaining: 308ms\n",
      "668:\tlearn: 0.0959741\ttotal: 621ms\tremaining: 307ms\n",
      "669:\tlearn: 0.0958560\ttotal: 622ms\tremaining: 306ms\n",
      "670:\tlearn: 0.0956820\ttotal: 623ms\tremaining: 305ms\n",
      "671:\tlearn: 0.0955395\ttotal: 624ms\tremaining: 304ms\n",
      "672:\tlearn: 0.0954383\ttotal: 624ms\tremaining: 303ms\n",
      "673:\tlearn: 0.0952177\ttotal: 625ms\tremaining: 302ms\n",
      "674:\tlearn: 0.0950325\ttotal: 626ms\tremaining: 301ms\n",
      "675:\tlearn: 0.0948867\ttotal: 627ms\tremaining: 300ms\n",
      "676:\tlearn: 0.0947278\ttotal: 628ms\tremaining: 299ms\n",
      "677:\tlearn: 0.0945352\ttotal: 628ms\tremaining: 298ms\n",
      "678:\tlearn: 0.0943621\ttotal: 629ms\tremaining: 297ms\n",
      "679:\tlearn: 0.0942778\ttotal: 630ms\tremaining: 296ms\n",
      "680:\tlearn: 0.0942592\ttotal: 631ms\tremaining: 295ms\n",
      "681:\tlearn: 0.0941683\ttotal: 632ms\tremaining: 295ms\n",
      "682:\tlearn: 0.0938810\ttotal: 632ms\tremaining: 294ms\n",
      "683:\tlearn: 0.0937834\ttotal: 633ms\tremaining: 293ms\n",
      "684:\tlearn: 0.0935355\ttotal: 634ms\tremaining: 292ms\n",
      "685:\tlearn: 0.0934338\ttotal: 635ms\tremaining: 291ms\n",
      "686:\tlearn: 0.0933373\ttotal: 636ms\tremaining: 290ms\n",
      "687:\tlearn: 0.0931962\ttotal: 636ms\tremaining: 289ms\n",
      "688:\tlearn: 0.0929858\ttotal: 637ms\tremaining: 288ms\n",
      "689:\tlearn: 0.0928246\ttotal: 638ms\tremaining: 287ms\n",
      "690:\tlearn: 0.0927604\ttotal: 639ms\tremaining: 286ms\n",
      "691:\tlearn: 0.0926330\ttotal: 640ms\tremaining: 285ms\n",
      "692:\tlearn: 0.0925729\ttotal: 640ms\tremaining: 284ms\n",
      "693:\tlearn: 0.0924114\ttotal: 641ms\tremaining: 283ms\n",
      "694:\tlearn: 0.0923070\ttotal: 642ms\tremaining: 282ms\n",
      "695:\tlearn: 0.0921157\ttotal: 643ms\tremaining: 281ms\n",
      "696:\tlearn: 0.0920845\ttotal: 644ms\tremaining: 280ms\n",
      "697:\tlearn: 0.0919434\ttotal: 645ms\tremaining: 279ms\n",
      "698:\tlearn: 0.0917662\ttotal: 645ms\tremaining: 278ms\n",
      "699:\tlearn: 0.0916443\ttotal: 646ms\tremaining: 277ms\n",
      "700:\tlearn: 0.0914902\ttotal: 647ms\tremaining: 276ms\n",
      "701:\tlearn: 0.0913166\ttotal: 648ms\tremaining: 275ms\n",
      "702:\tlearn: 0.0911604\ttotal: 649ms\tremaining: 274ms\n",
      "703:\tlearn: 0.0910455\ttotal: 650ms\tremaining: 273ms\n",
      "704:\tlearn: 0.0908842\ttotal: 651ms\tremaining: 272ms\n",
      "705:\tlearn: 0.0907271\ttotal: 652ms\tremaining: 271ms\n",
      "706:\tlearn: 0.0905887\ttotal: 653ms\tremaining: 270ms\n",
      "707:\tlearn: 0.0904136\ttotal: 653ms\tremaining: 269ms\n",
      "708:\tlearn: 0.0902846\ttotal: 654ms\tremaining: 269ms\n",
      "709:\tlearn: 0.0901015\ttotal: 655ms\tremaining: 268ms\n",
      "710:\tlearn: 0.0898457\ttotal: 656ms\tremaining: 267ms\n",
      "711:\tlearn: 0.0896788\ttotal: 657ms\tremaining: 266ms\n",
      "712:\tlearn: 0.0895695\ttotal: 657ms\tremaining: 265ms\n",
      "713:\tlearn: 0.0895478\ttotal: 658ms\tremaining: 264ms\n",
      "714:\tlearn: 0.0894216\ttotal: 659ms\tremaining: 263ms\n",
      "715:\tlearn: 0.0892270\ttotal: 660ms\tremaining: 262ms\n",
      "716:\tlearn: 0.0890181\ttotal: 661ms\tremaining: 261ms\n",
      "717:\tlearn: 0.0889514\ttotal: 661ms\tremaining: 260ms\n",
      "718:\tlearn: 0.0887562\ttotal: 662ms\tremaining: 259ms\n",
      "719:\tlearn: 0.0885882\ttotal: 663ms\tremaining: 258ms\n",
      "720:\tlearn: 0.0885611\ttotal: 664ms\tremaining: 257ms\n",
      "721:\tlearn: 0.0884233\ttotal: 664ms\tremaining: 256ms\n",
      "722:\tlearn: 0.0882425\ttotal: 665ms\tremaining: 255ms\n",
      "723:\tlearn: 0.0881412\ttotal: 666ms\tremaining: 254ms\n",
      "724:\tlearn: 0.0879746\ttotal: 667ms\tremaining: 253ms\n",
      "725:\tlearn: 0.0878432\ttotal: 668ms\tremaining: 252ms\n",
      "726:\tlearn: 0.0876573\ttotal: 669ms\tremaining: 251ms\n",
      "727:\tlearn: 0.0875238\ttotal: 669ms\tremaining: 250ms\n",
      "728:\tlearn: 0.0874071\ttotal: 670ms\tremaining: 249ms\n",
      "729:\tlearn: 0.0872704\ttotal: 671ms\tremaining: 248ms\n",
      "730:\tlearn: 0.0870859\ttotal: 672ms\tremaining: 247ms\n",
      "731:\tlearn: 0.0869606\ttotal: 672ms\tremaining: 246ms\n",
      "732:\tlearn: 0.0867630\ttotal: 673ms\tremaining: 245ms\n",
      "733:\tlearn: 0.0866136\ttotal: 675ms\tremaining: 245ms\n",
      "734:\tlearn: 0.0864610\ttotal: 676ms\tremaining: 244ms\n",
      "735:\tlearn: 0.0863824\ttotal: 676ms\tremaining: 243ms\n",
      "736:\tlearn: 0.0862181\ttotal: 677ms\tremaining: 242ms\n",
      "737:\tlearn: 0.0860921\ttotal: 678ms\tremaining: 241ms\n"
     ]
    },
    {
     "name": "stdout",
     "output_type": "stream",
     "text": [
      "738:\tlearn: 0.0860165\ttotal: 679ms\tremaining: 240ms\n",
      "739:\tlearn: 0.0858786\ttotal: 680ms\tremaining: 239ms\n",
      "740:\tlearn: 0.0857578\ttotal: 680ms\tremaining: 238ms\n",
      "741:\tlearn: 0.0856473\ttotal: 681ms\tremaining: 237ms\n",
      "742:\tlearn: 0.0854874\ttotal: 682ms\tremaining: 236ms\n",
      "743:\tlearn: 0.0853041\ttotal: 683ms\tremaining: 235ms\n",
      "744:\tlearn: 0.0850520\ttotal: 684ms\tremaining: 234ms\n",
      "745:\tlearn: 0.0849700\ttotal: 685ms\tremaining: 233ms\n",
      "746:\tlearn: 0.0847730\ttotal: 686ms\tremaining: 232ms\n",
      "747:\tlearn: 0.0847148\ttotal: 687ms\tremaining: 231ms\n",
      "748:\tlearn: 0.0845476\ttotal: 687ms\tremaining: 230ms\n",
      "749:\tlearn: 0.0844342\ttotal: 688ms\tremaining: 229ms\n",
      "750:\tlearn: 0.0843604\ttotal: 689ms\tremaining: 228ms\n",
      "751:\tlearn: 0.0842666\ttotal: 690ms\tremaining: 228ms\n",
      "752:\tlearn: 0.0841699\ttotal: 691ms\tremaining: 227ms\n",
      "753:\tlearn: 0.0840423\ttotal: 692ms\tremaining: 226ms\n",
      "754:\tlearn: 0.0839352\ttotal: 692ms\tremaining: 225ms\n",
      "755:\tlearn: 0.0839142\ttotal: 693ms\tremaining: 224ms\n",
      "756:\tlearn: 0.0838188\ttotal: 694ms\tremaining: 223ms\n",
      "757:\tlearn: 0.0837333\ttotal: 695ms\tremaining: 222ms\n",
      "758:\tlearn: 0.0835768\ttotal: 696ms\tremaining: 221ms\n",
      "759:\tlearn: 0.0833738\ttotal: 696ms\tremaining: 220ms\n",
      "760:\tlearn: 0.0833593\ttotal: 697ms\tremaining: 219ms\n",
      "761:\tlearn: 0.0832122\ttotal: 698ms\tremaining: 218ms\n",
      "762:\tlearn: 0.0831030\ttotal: 699ms\tremaining: 217ms\n",
      "763:\tlearn: 0.0829616\ttotal: 700ms\tremaining: 216ms\n",
      "764:\tlearn: 0.0828426\ttotal: 700ms\tremaining: 215ms\n",
      "765:\tlearn: 0.0826521\ttotal: 701ms\tremaining: 214ms\n",
      "766:\tlearn: 0.0825288\ttotal: 702ms\tremaining: 213ms\n",
      "767:\tlearn: 0.0822801\ttotal: 703ms\tremaining: 212ms\n",
      "768:\tlearn: 0.0821655\ttotal: 704ms\tremaining: 211ms\n",
      "769:\tlearn: 0.0819984\ttotal: 705ms\tremaining: 210ms\n",
      "770:\tlearn: 0.0818615\ttotal: 706ms\tremaining: 210ms\n",
      "771:\tlearn: 0.0818035\ttotal: 706ms\tremaining: 209ms\n",
      "772:\tlearn: 0.0816910\ttotal: 707ms\tremaining: 208ms\n",
      "773:\tlearn: 0.0815705\ttotal: 708ms\tremaining: 207ms\n",
      "774:\tlearn: 0.0814568\ttotal: 710ms\tremaining: 206ms\n",
      "775:\tlearn: 0.0813223\ttotal: 710ms\tremaining: 205ms\n",
      "776:\tlearn: 0.0812974\ttotal: 711ms\tremaining: 204ms\n",
      "777:\tlearn: 0.0812086\ttotal: 712ms\tremaining: 203ms\n",
      "778:\tlearn: 0.0810460\ttotal: 713ms\tremaining: 202ms\n",
      "779:\tlearn: 0.0809181\ttotal: 714ms\tremaining: 201ms\n",
      "780:\tlearn: 0.0807992\ttotal: 714ms\tremaining: 200ms\n",
      "781:\tlearn: 0.0806820\ttotal: 716ms\tremaining: 200ms\n",
      "782:\tlearn: 0.0805702\ttotal: 717ms\tremaining: 199ms\n",
      "783:\tlearn: 0.0804453\ttotal: 717ms\tremaining: 198ms\n",
      "784:\tlearn: 0.0802878\ttotal: 718ms\tremaining: 197ms\n",
      "785:\tlearn: 0.0801657\ttotal: 719ms\tremaining: 196ms\n",
      "786:\tlearn: 0.0800749\ttotal: 720ms\tremaining: 195ms\n",
      "787:\tlearn: 0.0799664\ttotal: 721ms\tremaining: 194ms\n",
      "788:\tlearn: 0.0798233\ttotal: 722ms\tremaining: 193ms\n",
      "789:\tlearn: 0.0797253\ttotal: 722ms\tremaining: 192ms\n",
      "790:\tlearn: 0.0795668\ttotal: 723ms\tremaining: 191ms\n",
      "791:\tlearn: 0.0794381\ttotal: 724ms\tremaining: 190ms\n",
      "792:\tlearn: 0.0793989\ttotal: 725ms\tremaining: 189ms\n",
      "793:\tlearn: 0.0792757\ttotal: 726ms\tremaining: 188ms\n",
      "794:\tlearn: 0.0791404\ttotal: 727ms\tremaining: 187ms\n",
      "795:\tlearn: 0.0789576\ttotal: 727ms\tremaining: 186ms\n",
      "796:\tlearn: 0.0787885\ttotal: 728ms\tremaining: 185ms\n",
      "797:\tlearn: 0.0786286\ttotal: 729ms\tremaining: 185ms\n",
      "798:\tlearn: 0.0785086\ttotal: 730ms\tremaining: 184ms\n",
      "799:\tlearn: 0.0784953\ttotal: 731ms\tremaining: 183ms\n",
      "800:\tlearn: 0.0782899\ttotal: 731ms\tremaining: 182ms\n",
      "801:\tlearn: 0.0781742\ttotal: 732ms\tremaining: 181ms\n",
      "802:\tlearn: 0.0780451\ttotal: 733ms\tremaining: 180ms\n",
      "803:\tlearn: 0.0779349\ttotal: 734ms\tremaining: 179ms\n",
      "804:\tlearn: 0.0778093\ttotal: 735ms\tremaining: 178ms\n",
      "805:\tlearn: 0.0777487\ttotal: 735ms\tremaining: 177ms\n",
      "806:\tlearn: 0.0776488\ttotal: 736ms\tremaining: 176ms\n",
      "807:\tlearn: 0.0775369\ttotal: 737ms\tremaining: 175ms\n",
      "808:\tlearn: 0.0773533\ttotal: 738ms\tremaining: 174ms\n",
      "809:\tlearn: 0.0772446\ttotal: 739ms\tremaining: 173ms\n",
      "810:\tlearn: 0.0770537\ttotal: 740ms\tremaining: 172ms\n",
      "811:\tlearn: 0.0769334\ttotal: 740ms\tremaining: 171ms\n",
      "812:\tlearn: 0.0767134\ttotal: 741ms\tremaining: 170ms\n",
      "813:\tlearn: 0.0766457\ttotal: 742ms\tremaining: 170ms\n",
      "814:\tlearn: 0.0764949\ttotal: 743ms\tremaining: 169ms\n",
      "815:\tlearn: 0.0764102\ttotal: 744ms\tremaining: 168ms\n",
      "816:\tlearn: 0.0762398\ttotal: 745ms\tremaining: 167ms\n",
      "817:\tlearn: 0.0760959\ttotal: 745ms\tremaining: 166ms\n",
      "818:\tlearn: 0.0759494\ttotal: 746ms\tremaining: 165ms\n",
      "819:\tlearn: 0.0757027\ttotal: 747ms\tremaining: 164ms\n",
      "820:\tlearn: 0.0755712\ttotal: 748ms\tremaining: 163ms\n",
      "821:\tlearn: 0.0754745\ttotal: 748ms\tremaining: 162ms\n",
      "822:\tlearn: 0.0754119\ttotal: 749ms\tremaining: 161ms\n",
      "823:\tlearn: 0.0752843\ttotal: 750ms\tremaining: 160ms\n",
      "824:\tlearn: 0.0751698\ttotal: 751ms\tremaining: 159ms\n",
      "825:\tlearn: 0.0750712\ttotal: 752ms\tremaining: 158ms\n",
      "826:\tlearn: 0.0749663\ttotal: 753ms\tremaining: 157ms\n",
      "827:\tlearn: 0.0748896\ttotal: 754ms\tremaining: 157ms\n",
      "828:\tlearn: 0.0747889\ttotal: 754ms\tremaining: 156ms\n",
      "829:\tlearn: 0.0746464\ttotal: 755ms\tremaining: 155ms\n",
      "830:\tlearn: 0.0744725\ttotal: 756ms\tremaining: 154ms\n",
      "831:\tlearn: 0.0744033\ttotal: 757ms\tremaining: 153ms\n",
      "832:\tlearn: 0.0743842\ttotal: 758ms\tremaining: 152ms\n",
      "833:\tlearn: 0.0742214\ttotal: 759ms\tremaining: 151ms\n",
      "834:\tlearn: 0.0741385\ttotal: 760ms\tremaining: 150ms\n",
      "835:\tlearn: 0.0740784\ttotal: 760ms\tremaining: 149ms\n"
     ]
    },
    {
     "name": "stdout",
     "output_type": "stream",
     "text": [
      "836:\tlearn: 0.0740368\ttotal: 761ms\tremaining: 148ms\n",
      "837:\tlearn: 0.0739689\ttotal: 762ms\tremaining: 147ms\n",
      "838:\tlearn: 0.0738609\ttotal: 763ms\tremaining: 146ms\n",
      "839:\tlearn: 0.0738435\ttotal: 764ms\tremaining: 146ms\n",
      "840:\tlearn: 0.0737392\ttotal: 765ms\tremaining: 145ms\n",
      "841:\tlearn: 0.0737029\ttotal: 766ms\tremaining: 144ms\n",
      "842:\tlearn: 0.0736897\ttotal: 767ms\tremaining: 143ms\n",
      "843:\tlearn: 0.0735556\ttotal: 767ms\tremaining: 142ms\n",
      "844:\tlearn: 0.0735107\ttotal: 768ms\tremaining: 141ms\n",
      "845:\tlearn: 0.0733910\ttotal: 769ms\tremaining: 140ms\n",
      "846:\tlearn: 0.0732541\ttotal: 770ms\tremaining: 139ms\n",
      "847:\tlearn: 0.0731468\ttotal: 771ms\tremaining: 138ms\n",
      "848:\tlearn: 0.0730126\ttotal: 772ms\tremaining: 137ms\n",
      "849:\tlearn: 0.0729106\ttotal: 772ms\tremaining: 136ms\n",
      "850:\tlearn: 0.0728170\ttotal: 773ms\tremaining: 135ms\n",
      "851:\tlearn: 0.0727567\ttotal: 774ms\tremaining: 134ms\n",
      "852:\tlearn: 0.0726610\ttotal: 775ms\tremaining: 134ms\n",
      "853:\tlearn: 0.0725001\ttotal: 776ms\tremaining: 133ms\n",
      "854:\tlearn: 0.0723832\ttotal: 776ms\tremaining: 132ms\n",
      "855:\tlearn: 0.0722752\ttotal: 777ms\tremaining: 131ms\n",
      "856:\tlearn: 0.0722350\ttotal: 778ms\tremaining: 130ms\n",
      "857:\tlearn: 0.0721357\ttotal: 779ms\tremaining: 129ms\n",
      "858:\tlearn: 0.0719957\ttotal: 780ms\tremaining: 128ms\n",
      "859:\tlearn: 0.0719001\ttotal: 781ms\tremaining: 127ms\n",
      "860:\tlearn: 0.0718208\ttotal: 781ms\tremaining: 126ms\n",
      "861:\tlearn: 0.0717986\ttotal: 782ms\tremaining: 125ms\n",
      "862:\tlearn: 0.0716619\ttotal: 783ms\tremaining: 124ms\n",
      "863:\tlearn: 0.0715597\ttotal: 784ms\tremaining: 123ms\n",
      "864:\tlearn: 0.0715037\ttotal: 785ms\tremaining: 122ms\n",
      "865:\tlearn: 0.0713786\ttotal: 785ms\tremaining: 122ms\n",
      "866:\tlearn: 0.0712390\ttotal: 786ms\tremaining: 121ms\n",
      "867:\tlearn: 0.0711684\ttotal: 787ms\tremaining: 120ms\n",
      "868:\tlearn: 0.0711292\ttotal: 788ms\tremaining: 119ms\n",
      "869:\tlearn: 0.0710425\ttotal: 789ms\tremaining: 118ms\n",
      "870:\tlearn: 0.0709596\ttotal: 790ms\tremaining: 117ms\n",
      "871:\tlearn: 0.0709347\ttotal: 791ms\tremaining: 116ms\n",
      "872:\tlearn: 0.0707878\ttotal: 792ms\tremaining: 115ms\n",
      "873:\tlearn: 0.0707146\ttotal: 793ms\tremaining: 114ms\n",
      "874:\tlearn: 0.0705924\ttotal: 793ms\tremaining: 113ms\n",
      "875:\tlearn: 0.0704972\ttotal: 794ms\tremaining: 112ms\n",
      "876:\tlearn: 0.0703579\ttotal: 795ms\tremaining: 112ms\n",
      "877:\tlearn: 0.0702656\ttotal: 796ms\tremaining: 111ms\n",
      "878:\tlearn: 0.0701106\ttotal: 797ms\tremaining: 110ms\n",
      "879:\tlearn: 0.0700273\ttotal: 798ms\tremaining: 109ms\n",
      "880:\tlearn: 0.0699264\ttotal: 798ms\tremaining: 108ms\n",
      "881:\tlearn: 0.0697900\ttotal: 799ms\tremaining: 107ms\n",
      "882:\tlearn: 0.0696876\ttotal: 800ms\tremaining: 106ms\n",
      "883:\tlearn: 0.0695957\ttotal: 801ms\tremaining: 105ms\n",
      "884:\tlearn: 0.0695810\ttotal: 802ms\tremaining: 104ms\n",
      "885:\tlearn: 0.0695313\ttotal: 803ms\tremaining: 103ms\n",
      "886:\tlearn: 0.0693746\ttotal: 804ms\tremaining: 102ms\n",
      "887:\tlearn: 0.0692525\ttotal: 804ms\tremaining: 101ms\n",
      "888:\tlearn: 0.0691952\ttotal: 805ms\tremaining: 101ms\n",
      "889:\tlearn: 0.0690984\ttotal: 806ms\tremaining: 99.6ms\n",
      "890:\tlearn: 0.0689774\ttotal: 807ms\tremaining: 98.7ms\n",
      "891:\tlearn: 0.0688215\ttotal: 808ms\tremaining: 97.8ms\n",
      "892:\tlearn: 0.0686631\ttotal: 809ms\tremaining: 96.9ms\n",
      "893:\tlearn: 0.0685691\ttotal: 809ms\tremaining: 96ms\n",
      "894:\tlearn: 0.0684779\ttotal: 810ms\tremaining: 95.1ms\n",
      "895:\tlearn: 0.0683603\ttotal: 811ms\tremaining: 94.2ms\n",
      "896:\tlearn: 0.0682013\ttotal: 812ms\tremaining: 93.2ms\n",
      "897:\tlearn: 0.0681038\ttotal: 813ms\tremaining: 92.3ms\n",
      "898:\tlearn: 0.0679982\ttotal: 814ms\tremaining: 91.4ms\n",
      "899:\tlearn: 0.0678896\ttotal: 814ms\tremaining: 90.5ms\n",
      "900:\tlearn: 0.0677549\ttotal: 815ms\tremaining: 89.6ms\n",
      "901:\tlearn: 0.0677360\ttotal: 816ms\tremaining: 88.7ms\n",
      "902:\tlearn: 0.0676516\ttotal: 817ms\tremaining: 87.8ms\n",
      "903:\tlearn: 0.0675342\ttotal: 818ms\tremaining: 86.8ms\n",
      "904:\tlearn: 0.0674988\ttotal: 818ms\tremaining: 85.9ms\n",
      "905:\tlearn: 0.0674247\ttotal: 819ms\tremaining: 85ms\n",
      "906:\tlearn: 0.0673843\ttotal: 820ms\tremaining: 84.1ms\n",
      "907:\tlearn: 0.0672679\ttotal: 821ms\tremaining: 83.2ms\n",
      "908:\tlearn: 0.0672295\ttotal: 822ms\tremaining: 82.3ms\n",
      "909:\tlearn: 0.0671299\ttotal: 822ms\tremaining: 81.3ms\n",
      "910:\tlearn: 0.0670476\ttotal: 823ms\tremaining: 80.4ms\n",
      "911:\tlearn: 0.0669597\ttotal: 824ms\tremaining: 79.5ms\n",
      "912:\tlearn: 0.0669321\ttotal: 825ms\tremaining: 78.6ms\n",
      "913:\tlearn: 0.0668579\ttotal: 826ms\tremaining: 77.7ms\n",
      "914:\tlearn: 0.0666778\ttotal: 827ms\tremaining: 76.8ms\n",
      "915:\tlearn: 0.0665057\ttotal: 827ms\tremaining: 75.9ms\n",
      "916:\tlearn: 0.0664120\ttotal: 828ms\tremaining: 75ms\n",
      "917:\tlearn: 0.0663131\ttotal: 829ms\tremaining: 74.1ms\n",
      "918:\tlearn: 0.0662061\ttotal: 830ms\tremaining: 73.1ms\n",
      "919:\tlearn: 0.0660894\ttotal: 831ms\tremaining: 72.2ms\n",
      "920:\tlearn: 0.0660278\ttotal: 832ms\tremaining: 71.3ms\n",
      "921:\tlearn: 0.0659821\ttotal: 832ms\tremaining: 70.4ms\n",
      "922:\tlearn: 0.0658780\ttotal: 833ms\tremaining: 69.5ms\n",
      "923:\tlearn: 0.0657618\ttotal: 834ms\tremaining: 68.6ms\n",
      "924:\tlearn: 0.0657169\ttotal: 835ms\tremaining: 67.7ms\n",
      "925:\tlearn: 0.0656168\ttotal: 836ms\tremaining: 66.8ms\n",
      "926:\tlearn: 0.0655320\ttotal: 836ms\tremaining: 65.9ms\n",
      "927:\tlearn: 0.0654389\ttotal: 837ms\tremaining: 65ms\n",
      "928:\tlearn: 0.0653740\ttotal: 838ms\tremaining: 64.1ms\n",
      "929:\tlearn: 0.0652314\ttotal: 839ms\tremaining: 63.1ms\n",
      "930:\tlearn: 0.0651062\ttotal: 840ms\tremaining: 62.2ms\n",
      "931:\tlearn: 0.0650832\ttotal: 841ms\tremaining: 61.3ms\n",
      "932:\tlearn: 0.0649477\ttotal: 841ms\tremaining: 60.4ms\n",
      "933:\tlearn: 0.0648847\ttotal: 842ms\tremaining: 59.5ms\n",
      "934:\tlearn: 0.0648085\ttotal: 843ms\tremaining: 58.6ms\n",
      "935:\tlearn: 0.0647419\ttotal: 844ms\tremaining: 57.7ms\n",
      "936:\tlearn: 0.0646581\ttotal: 845ms\tremaining: 56.8ms\n",
      "937:\tlearn: 0.0645586\ttotal: 845ms\tremaining: 55.9ms\n",
      "938:\tlearn: 0.0644631\ttotal: 846ms\tremaining: 55ms\n",
      "939:\tlearn: 0.0643196\ttotal: 847ms\tremaining: 54.1ms\n",
      "940:\tlearn: 0.0642054\ttotal: 848ms\tremaining: 53.2ms\n",
      "941:\tlearn: 0.0641942\ttotal: 849ms\tremaining: 52.2ms\n",
      "942:\tlearn: 0.0641346\ttotal: 849ms\tremaining: 51.3ms\n",
      "943:\tlearn: 0.0639954\ttotal: 850ms\tremaining: 50.4ms\n",
      "944:\tlearn: 0.0639071\ttotal: 851ms\tremaining: 49.5ms\n",
      "945:\tlearn: 0.0638107\ttotal: 852ms\tremaining: 48.6ms\n",
      "946:\tlearn: 0.0637551\ttotal: 852ms\tremaining: 47.7ms\n",
      "947:\tlearn: 0.0637407\ttotal: 853ms\tremaining: 46.8ms\n",
      "948:\tlearn: 0.0636715\ttotal: 854ms\tremaining: 45.9ms\n",
      "949:\tlearn: 0.0636010\ttotal: 855ms\tremaining: 45ms\n",
      "950:\tlearn: 0.0634732\ttotal: 856ms\tremaining: 44.1ms\n",
      "951:\tlearn: 0.0633787\ttotal: 857ms\tremaining: 43.2ms\n",
      "952:\tlearn: 0.0632801\ttotal: 858ms\tremaining: 42.3ms\n",
      "953:\tlearn: 0.0631867\ttotal: 859ms\tremaining: 41.4ms\n",
      "954:\tlearn: 0.0631088\ttotal: 860ms\tremaining: 40.5ms\n",
      "955:\tlearn: 0.0630963\ttotal: 860ms\tremaining: 39.6ms\n",
      "956:\tlearn: 0.0629756\ttotal: 861ms\tremaining: 38.7ms\n",
      "957:\tlearn: 0.0628766\ttotal: 862ms\tremaining: 37.8ms\n",
      "958:\tlearn: 0.0628495\ttotal: 863ms\tremaining: 36.9ms\n",
      "959:\tlearn: 0.0627935\ttotal: 864ms\tremaining: 36ms\n",
      "960:\tlearn: 0.0627110\ttotal: 864ms\tremaining: 35.1ms\n",
      "961:\tlearn: 0.0626252\ttotal: 865ms\tremaining: 34.2ms\n",
      "962:\tlearn: 0.0625522\ttotal: 866ms\tremaining: 33.3ms\n",
      "963:\tlearn: 0.0624965\ttotal: 867ms\tremaining: 32.4ms\n",
      "964:\tlearn: 0.0624120\ttotal: 868ms\tremaining: 31.5ms\n"
     ]
    },
    {
     "name": "stdout",
     "output_type": "stream",
     "text": [
      "965:\tlearn: 0.0623323\ttotal: 869ms\tremaining: 30.6ms\n",
      "966:\tlearn: 0.0622552\ttotal: 870ms\tremaining: 29.7ms\n",
      "967:\tlearn: 0.0622339\ttotal: 871ms\tremaining: 28.8ms\n",
      "968:\tlearn: 0.0620793\ttotal: 872ms\tremaining: 27.9ms\n",
      "969:\tlearn: 0.0620311\ttotal: 873ms\tremaining: 27ms\n",
      "970:\tlearn: 0.0619032\ttotal: 874ms\tremaining: 26.1ms\n",
      "971:\tlearn: 0.0617945\ttotal: 875ms\tremaining: 25.2ms\n",
      "972:\tlearn: 0.0616591\ttotal: 875ms\tremaining: 24.3ms\n",
      "973:\tlearn: 0.0615892\ttotal: 876ms\tremaining: 23.4ms\n",
      "974:\tlearn: 0.0615452\ttotal: 877ms\tremaining: 22.5ms\n",
      "975:\tlearn: 0.0614782\ttotal: 878ms\tremaining: 21.6ms\n",
      "976:\tlearn: 0.0613258\ttotal: 879ms\tremaining: 20.7ms\n",
      "977:\tlearn: 0.0611883\ttotal: 879ms\tremaining: 19.8ms\n",
      "978:\tlearn: 0.0610872\ttotal: 880ms\tremaining: 18.9ms\n",
      "979:\tlearn: 0.0609816\ttotal: 881ms\tremaining: 18ms\n",
      "980:\tlearn: 0.0608988\ttotal: 882ms\tremaining: 17.1ms\n",
      "981:\tlearn: 0.0608239\ttotal: 883ms\tremaining: 16.2ms\n",
      "982:\tlearn: 0.0607751\ttotal: 884ms\tremaining: 15.3ms\n",
      "983:\tlearn: 0.0606891\ttotal: 885ms\tremaining: 14.4ms\n",
      "984:\tlearn: 0.0606392\ttotal: 885ms\tremaining: 13.5ms\n",
      "985:\tlearn: 0.0605690\ttotal: 886ms\tremaining: 12.6ms\n",
      "986:\tlearn: 0.0605605\ttotal: 887ms\tremaining: 11.7ms\n",
      "987:\tlearn: 0.0604670\ttotal: 888ms\tremaining: 10.8ms\n",
      "988:\tlearn: 0.0604255\ttotal: 889ms\tremaining: 9.88ms\n",
      "989:\tlearn: 0.0603430\ttotal: 890ms\tremaining: 8.98ms\n",
      "990:\tlearn: 0.0603345\ttotal: 890ms\tremaining: 8.09ms\n",
      "991:\tlearn: 0.0602615\ttotal: 891ms\tremaining: 7.19ms\n",
      "992:\tlearn: 0.0601675\ttotal: 892ms\tremaining: 6.29ms\n",
      "993:\tlearn: 0.0600469\ttotal: 893ms\tremaining: 5.39ms\n",
      "994:\tlearn: 0.0599655\ttotal: 894ms\tremaining: 4.49ms\n",
      "995:\tlearn: 0.0598971\ttotal: 895ms\tremaining: 3.59ms\n",
      "996:\tlearn: 0.0598446\ttotal: 896ms\tremaining: 2.69ms\n",
      "997:\tlearn: 0.0598364\ttotal: 896ms\tremaining: 1.8ms\n",
      "998:\tlearn: 0.0598038\ttotal: 897ms\tremaining: 898us\n",
      "999:\tlearn: 0.0597324\ttotal: 898ms\tremaining: 0us\n"
     ]
    },
    {
     "data": {
      "text/plain": [
       "<catboost.core.CatBoostRegressor at 0x7fe7081f8f10>"
      ]
     },
     "execution_count": 9,
     "metadata": {},
     "output_type": "execute_result"
    }
   ],
   "source": [
    "#Train the Model \n",
    "prior_model = ctb.CatBoostRegressor()\n",
    "prior_model.fit(X_train,Y_train)"
   ]
  },
  {
   "cell_type": "code",
   "execution_count": 10,
   "id": "af65dcda",
   "metadata": {
    "execution": {
     "iopub.execute_input": "2022-06-12T07:32:42.882758Z",
     "iopub.status.busy": "2022-06-12T07:32:42.882351Z",
     "iopub.status.idle": "2022-06-12T07:32:42.889937Z",
     "shell.execute_reply": "2022-06-12T07:32:42.890178Z"
    },
    "id": "af65dcda",
    "papermill": {
     "duration": 0.021008,
     "end_time": "2022-06-12T07:32:42.890297",
     "exception": false,
     "start_time": "2022-06-12T07:32:42.869289",
     "status": "completed"
    },
    "tags": []
   },
   "outputs": [
    {
     "data": {
      "application/scrapbook.scrap.json+json": {
       "data": 0.09228934652793708,
       "encoder": "json",
       "name": "Prior Model MSE",
       "version": 1
      }
     },
     "metadata": {
      "scrapbook": {
       "data": true,
       "display": false,
       "name": "Prior Model MSE"
      }
     },
     "output_type": "display_data"
    },
    {
     "data": {
      "application/scrapbook.scrap.json+json": {
       "data": 0.9841022416361188,
       "encoder": "json",
       "name": "ABC Pre-generator MSE",
       "version": 1
      }
     },
     "metadata": {
      "scrapbook": {
       "data": true,
       "display": false,
       "name": "ABC Pre-generator MSE"
      }
     },
     "output_type": "display_data"
    },
    {
     "data": {
      "application/scrapbook.scrap.json+json": {
       "data": 0.20183956585545323,
       "encoder": "json",
       "name": "Prior Model MSE",
       "version": 1
      }
     },
     "metadata": {
      "scrapbook": {
       "data": true,
       "display": false,
       "name": "Prior Model MSE"
      }
     },
     "output_type": "display_data"
    },
    {
     "data": {
      "application/scrapbook.scrap.json+json": {
       "data": 0.8322754322451064,
       "encoder": "json",
       "name": "ABC Pre-generator MSE",
       "version": 1
      }
     },
     "metadata": {
      "scrapbook": {
       "data": true,
       "display": false,
       "name": "ABC Pre-generator MSE"
      }
     },
     "output_type": "display_data"
    }
   ],
   "source": [
    "y_pred = prior_model.predict(X_test)\n",
    "y_abc = y_pred + np.random.normal(0,variance, y_pred.shape) + bias \n",
    "mse = mean_squared_error(y_pred,Y_test)\n",
    "sb.glue(\"Prior Model MSE\",mse)\n",
    "mse = mean_squared_error(y_abc,Y_test)\n",
    "sb.glue(\"ABC Pre-generator MSE\",mse)\n",
    "mae = mean_absolute_error(y_pred,Y_test)\n",
    "sb.glue(\"Prior Model MSE\",mae)\n",
    "mae = mean_absolute_error(y_abc,Y_test)\n",
    "sb.glue(\"ABC Pre-generator MSE\",mae)"
   ]
  },
  {
   "cell_type": "markdown",
   "id": "25609da2",
   "metadata": {
    "papermill": {
     "duration": 0.009989,
     "end_time": "2022-06-12T07:32:42.910625",
     "exception": false,
     "start_time": "2022-06-12T07:32:42.900636",
     "status": "completed"
    },
    "tags": []
   },
   "source": [
    "# ABC GAN Model"
   ]
  },
  {
   "cell_type": "code",
   "execution_count": 11,
   "id": "dfc3464d",
   "metadata": {
    "execution": {
     "iopub.execute_input": "2022-06-12T07:32:42.933750Z",
     "iopub.status.busy": "2022-06-12T07:32:42.933382Z",
     "iopub.status.idle": "2022-06-12T07:32:42.935915Z",
     "shell.execute_reply": "2022-06-12T07:32:42.936153Z"
    },
    "papermill": {
     "duration": 0.015463,
     "end_time": "2022-06-12T07:32:42.936261",
     "exception": false,
     "start_time": "2022-06-12T07:32:42.920798",
     "status": "completed"
    },
    "tags": []
   },
   "outputs": [],
   "source": [
    "gen = network.Generator(n_features+1).to(device)\n",
    "disc = network.Discriminator(n_features+1).to(device)\n",
    "\n",
    "criterion = torch.nn.BCELoss()\n",
    "gen_opt = torch.optim.Adam(gen.parameters(), lr=0.001, betas=(0.5, 0.999))\n",
    "disc_opt = torch.optim.Adam(disc.parameters(), lr=0.001, betas=(0.5, 0.999))"
   ]
  },
  {
   "cell_type": "code",
   "execution_count": 12,
   "id": "b75fdd85",
   "metadata": {
    "execution": {
     "iopub.execute_input": "2022-06-12T07:32:42.959181Z",
     "iopub.status.busy": "2022-06-12T07:32:42.958812Z",
     "iopub.status.idle": "2022-06-12T07:33:42.768820Z",
     "shell.execute_reply": "2022-06-12T07:33:42.769126Z"
    },
    "papermill": {
     "duration": 59.822945,
     "end_time": "2022-06-12T07:33:42.769252",
     "exception": false,
     "start_time": "2022-06-12T07:32:42.946307",
     "status": "completed"
    },
    "tags": []
   },
   "outputs": [
    {
     "data": {
      "image/png": "[encoded data removed]",
      "text/plain": [
       "<Figure size 432x288 with 1 Axes>"
      ]
     },
     "metadata": {
      "needs_background": "light"
     },
     "output_type": "display_data"
    },
    {
     "data": {
      "image/png": "[encoded data removed]",
      "text/plain": [
       "<Figure size 432x288 with 1 Axes>"
      ]
     },
     "metadata": {
      "needs_background": "light"
     },
     "output_type": "display_data"
    }
   ],
   "source": [
    "#Training the ABC_GAN \n",
    "ABC_train_test2.training_GAN(disc,gen,disc_opt,gen_opt,train_data,batch_size,n_epochs,criterion,prior_model,variance,bias,device)"
   ]
  },
  {
   "cell_type": "code",
   "execution_count": 13,
   "id": "1fa7c368",
   "metadata": {
    "execution": {
     "iopub.execute_input": "2022-06-12T07:33:42.794263Z",
     "iopub.status.busy": "2022-06-12T07:33:42.793867Z",
     "iopub.status.idle": "2022-06-12T07:33:43.097795Z",
     "shell.execute_reply": "2022-06-12T07:33:43.098190Z"
    },
    "papermill": {
     "duration": 0.317893,
     "end_time": "2022-06-12T07:33:43.098318",
     "exception": false,
     "start_time": "2022-06-12T07:33:42.780425",
     "status": "completed"
    },
    "tags": []
   },
   "outputs": [
    {
     "data": {
      "application/scrapbook.scrap.json+json": {
       "data": 0.13978690831814403,
       "encoder": "json",
       "name": "ABC-GAN Model 1 MSE",
       "version": 1
      }
     },
     "metadata": {
      "scrapbook": {
       "data": true,
       "display": false,
       "name": "ABC-GAN Model 1 MSE"
      }
     },
     "output_type": "display_data"
    },
    {
     "data": {
      "application/scrapbook.scrap.json+json": {
       "data": 0.24227621156923182,
       "encoder": "json",
       "name": "ABC-GAN Model 1 MAE",
       "version": 1
      }
     },
     "metadata": {
      "scrapbook": {
       "data": true,
       "display": false,
       "name": "ABC-GAN Model 1 MAE"
      }
     },
     "output_type": "display_data"
    },
    {
     "data": {
      "application/scrapbook.scrap.json+json": {
       "data": 24.712173580061645,
       "encoder": "json",
       "name": "ABC-GAN Model 1 Manhattan Distance",
       "version": 1
      }
     },
     "metadata": {
      "scrapbook": {
       "data": true,
       "display": false,
       "name": "ABC-GAN Model 1 Manhattan Distance"
      }
     },
     "output_type": "display_data"
    },
    {
     "data": {
      "application/scrapbook.scrap.json+json": {
       "data": 3.775807323203342,
       "encoder": "json",
       "name": "ABC-GAN Model 1 Euclidean distance",
       "version": 1
      }
     },
     "metadata": {
      "scrapbook": {
       "data": true,
       "display": false,
       "name": "ABC-GAN Model 1 Euclidean distance"
      }
     },
     "output_type": "display_data"
    },
    {
     "data": {
      "application/scrapbook.scrap.json+json": {
       "data": [
        [
         0.14026520762752584,
         0.13597575235025158,
         0.14060960337694012,
         0.14009300275811803,
         0.13668540402843823,
         0.14203283225965724,
         0.13998087771917883,
         0.1401579525467882,
         0.14113874677996638,
         0.13582783438543558,
         0.14666540316028254,
         0.14175799493893937,
         0.1391104673161283,
         0.14136576629679568,
         0.14140176354417824,
         0.13714927558837126,
         0.14065661426034398,
         0.1414434087364926,
         0.14074686543244416,
         0.14018088961414546,
         0.14005393952017162,
         0.13846922880546925,
         0.13930768215723444,
         0.13763023854081322,
         0.1389927971518409,
         0.1501659961920503,
         0.14022670232646162,
         0.13723969450899806,
         0.14431343264006782,
         0.14130504772971472,
         0.13944510429544824,
         0.14399946596100366,
         0.14268173085458127,
         0.13923858074716924,
         0.1422694959306309,
         0.13906116417295822,
         0.13775371895792457,
         0.13798316673794395,
         0.1434456479573633,
         0.13821487375473043,
         0.1430868499558478,
         0.1378533664043866,
         0.1397441413052632,
         0.14179403540533078,
         0.13560299578272744,
         0.139685624734924,
         0.13887548756007825,
         0.13928016370265456,
         0.1382315622625543,
         0.13872435108944262,
         0.13828705984707743,
         0.13760159228768992,
         0.13761112574517795,
         0.13930244976470912,
         0.1441008826268779,
         0.1399239655812096,
         0.14453249613753752,
         0.139637183827812,
         0.13915441394531794,
         0.1458913393100682,
         0.13452679028573994,
         0.14188779237562862,
         0.14387777272874197,
         0.14110668574881643,
         0.1396905606753374,
         0.13572009146827912,
         0.1447949875630491,
         0.13616846205660776,
         0.13536907834482284,
         0.13582721056439637,
         0.1365545302668928,
         0.14143748123407793,
         0.1343060786789014,
         0.14108905394826335,
         0.13876689200759879,
         0.13957198478796654,
         0.13803164688863706,
         0.1361115153472327,
         0.14289721550926165,
         0.14245120604533937,
         0.14759835026766896,
         0.13577599318346853,
         0.13610191281750364,
         0.14369749536368068,
         0.1353952596652126,
         0.14146899435133542,
         0.13921409432348072,
         0.1405599655925125,
         0.13960175541763503,
         0.13714528033832646,
         0.13886323831581784,
         0.14020119615066104,
         0.1394433575119572,
         0.13771829201325878,
         0.13977322233224385,
         0.13989729200010867,
         0.13562301645993777,
         0.13662957070867343,
         0.13722976521600327,
         0.1426012843196399
        ],
        [
         0.24092228779130997,
         0.24135193834081292,
         0.24324182200921224,
         0.2426555179260379,
         0.23786026954322176,
         0.24315239258074,
         0.2412447854054763,
         0.24345910606686683,
         0.24497478483610002,
         0.23932689832815646,
         0.24646970599561052,
         0.24603876236862704,
         0.242227175136042,
         0.24284442670314627,
         0.24264866284405193,
         0.2415660777786637,
         0.2407484048630531,
         0.24571602852722885,
         0.24374621546845518,
         0.24478640899463905,
         0.2428167049919127,
         0.2434029687177755,
         0.24248894734088988,
         0.23992196761765608,
         0.24107923562291497,
         0.2471905080692879,
         0.24247520357626035,
         0.24087136519123234,
         0.24325394921698698,
         0.2442615665038865,
         0.2429711233148826,
         0.2473050526014584,
         0.2418674246554135,
         0.24430195986311518,
         0.2447949087922918,
         0.23961351113393903,
         0.2395387482098943,
         0.23820144251244618,
         0.2443866457917965,
         0.23770233482012854,
         0.2450298850205453,
         0.24158353668034954,
         0.24194287401897943,
         0.24214850715818068,
         0.2394026164969831,
         0.24128294844801226,
         0.23902348497444215,
         0.2440730149528998,
         0.24150128588628242,
         0.24431929093621232,
         0.24163284038613533,
         0.24193527395197867,
         0.24139018049098404,
         0.2421480123884976,
         0.2437367646261027,
         0.2441192830218842,
         0.24470993086659149,
         0.24173181623622192,
         0.24063573181446568,
         0.24399386648563484,
         0.23878518012626207,
         0.2453206230374966,
         0.24545048775297462,
         0.24503275941071265,
         0.24458496859662382,
         0.23983110336805968,
         0.2417401094993978,
         0.239455317740566,
         0.2383789509881799,
         0.2419663559846288,
         0.23801497836579003,
         0.24255770524306333,
         0.2351028367274386,
         0.2427459958411169,
         0.24027576428089364,
         0.24328275407463604,
         0.24497688571721607,
         0.2407805348709956,
         0.24461474323499144,
         0.24116397184301533,
         0.24411155644110313,
         0.2396367019060634,
         0.24046887098537648,
         0.245122000967682,
         0.23850354007171357,
         0.2428842830362127,
         0.2437667482459516,
         0.2440265265439509,
         0.2408127706844871,
         0.24332210402387908,
         0.24156113099489435,
         0.24034063601135916,
         0.24132076500202804,
         0.24231604467529586,
         0.24144825254402616,
         0.2436428606491901,
         0.24126849158247018,
         0.24204136477783322,
         0.24080177417536283,
         0.2463943220072371
        ],
        [
         24.57407335471362,
         24.617897710762918,
         24.81066584493965,
         24.750862828455865,
         24.26174749340862,
         24.80154404323548,
         24.606968111358583,
         24.832828818820417,
         24.9874280532822,
         24.411343629471958,
         25.139910011552274,
         25.095953761599958,
         24.707171863876283,
         24.77013152372092,
         24.750163610093296,
         24.639739933423698,
         24.556337296031415,
         25.063034909777343,
         24.86211397778243,
         24.96821371745318,
         24.767303909175098,
         24.827102809213102,
         24.73387262877077,
         24.47204069700092,
         24.59008203353733,
         25.213431823067367,
         24.732470764778554,
         24.5688792495057,
         24.811902820132673,
         24.914679783396423,
         24.783054578118026,
         25.225115365348756,
         24.670477314852178,
         24.918799906037748,
         24.969080696813762,
         24.44057813566178,
         24.432952317409217,
         24.29654713626951,
         24.927437870763242,
         24.24563815165311,
         24.99304827209562,
         24.641520741395652,
         24.6781731499359,
         24.699147730134428,
         24.419066882692277,
         24.610860741697252,
         24.3803954673931,
         24.895447525195777,
         24.633131160400808,
         24.920567675493658,
         24.646549719385803,
         24.677397943101823,
         24.621798410080373,
         24.699097263626754,
         24.861149991862476,
         24.90016686823219,
         24.96041294839233,
         24.656645256094635,
         24.5448446450755,
         24.887374381534755,
         24.35608837287873,
         25.022703549824655,
         25.03594975080341,
         24.99334145989269,
         24.94766679685563,
         24.462772543542087,
         24.657491168938577,
         24.424442409537733,
         24.31465300079435,
         24.680568310432136,
         24.277527793310583,
         24.74088593479246,
         23.980489346198738,
         24.760091575793922,
         24.50812795665115,
         24.814840915612876,
         24.98764234315604,
         24.559614556841552,
         24.950703809969127,
         24.598725127987564,
         24.89937875699252,
         24.442943594418466,
         24.5278248405084,
         25.002444098703563,
         24.327361087314785,
         24.774196869693696,
         24.864208321087062,
         24.890705707482994,
         24.562902609817684,
         24.818854610435665,
         24.639235361479223,
         24.514744873158634,
         24.61471803020686,
         24.716236556880176,
         24.62772175949067,
         24.85157178621739,
         24.60938614141196,
         24.68821920733899,
         24.56178096588701,
         25.132220844738185
        ],
        [
         3.782466282468044,
         3.7241813516161724,
         3.787107015182946,
         3.7801436852754726,
         3.7338868770894353,
         3.806225018372539,
         3.7786306418273057,
         3.781019857098398,
         3.794226162415278,
         3.722155169698656,
         3.867799260865126,
         3.802540661685528,
         3.7668644342801993,
         3.7972764137303927,
         3.797759850425798,
         3.740217388069023,
         3.7877400457997488,
         3.798319061258841,
         3.788955037224551,
         3.7813292293375924,
         3.7796166248784413,
         3.7581726062220535,
         3.769533602455072,
         3.746769852975085,
         3.7652709476859396,
         3.9136851702186175,
         3.7819470696056916,
         3.7414500985470585,
         3.8366613258518028,
         3.796460834570916,
         3.771392400445187,
         3.8324855548354475,
         3.8149097692038905,
         3.7685985772182287,
         3.8093947793480716,
         3.766196854340162,
         3.748450257600907,
         3.7515707386733737,
         3.8251086378887402,
         3.754719313475042,
         3.820321805227469,
         3.7498057780700362,
         3.775434069499405,
         3.8030240087782423,
         3.719073213831397,
         3.7746435226339248,
         3.763681672395791,
         3.769161272441226,
         3.7549459850682974,
         3.7616331308519633,
         3.755699682402987,
         3.746379907770216,
         3.746509685828685,
         3.7694628100036116,
         3.8338348983676305,
         3.777862423286927,
         3.8395721904958138,
         3.7739889706299916,
         3.7674593856367484,
         3.857579112555821,
         3.704285708358019,
         3.8042811176770464,
         3.8308658053149913,
         3.793795190357444,
         3.77471021257055,
         3.7206786114584625,
         3.8430572115740103,
         3.726819438847821,
         3.715864097511093,
         3.7221466222555533,
         3.7320988849738512,
         3.7982394718969394,
         3.7012457396460365,
         3.793558158605567,
         3.7622098538990443,
         3.773107797078237,
         3.7522297347898323,
         3.7260400649238505,
         3.8177894103714896,
         3.8118267296172585,
         3.8800814073034893,
         3.721444787271979,
         3.725908628426812,
         3.8284650353758516,
         3.716223417106631,
         3.7986625835728294,
         3.768267190764878,
         3.786438496851133,
         3.773510176559588,
         3.7401629101563603,
         3.7635156845977686,
         3.781603100190106,
         3.77136877886791,
         3.7479682209635112,
         3.7758268866420326,
         3.777502320847874,
         3.719347749123985,
         3.7331241892394478,
         3.741314749126614,
         3.8138341600813295
        ]
       ],
       "encoder": "json",
       "name": "ABC_GAN_1 Metrics",
       "version": 1
      }
     },
     "metadata": {
      "scrapbook": {
       "data": true,
       "display": false,
       "name": "ABC_GAN_1 Metrics"
      }
     },
     "output_type": "display_data"
    },
    {
     "name": "stdout",
     "output_type": "stream",
     "text": [
      "MSE\n",
      "0.13978690831814403\n"
     ]
    }
   ],
   "source": [
    "ABC_GAN1_metrics=ABC_train_test2.test_generator(gen,test_data,prior_model,variance,bias,\"1\",device)\n",
    "sb.glue(\"ABC_GAN_1 Metrics\",ABC_GAN1_metrics)\n",
    "\n",
    "print(\"MSE\")\n",
    "print(mean(ABC_GAN1_metrics[0]))"
   ]
  },
  {
   "cell_type": "code",
   "execution_count": 14,
   "id": "eb22ce5c",
   "metadata": {
    "execution": {
     "iopub.execute_input": "2022-06-12T07:33:43.126396Z",
     "iopub.status.busy": "2022-06-12T07:33:43.126016Z",
     "iopub.status.idle": "2022-06-12T07:33:43.441523Z",
     "shell.execute_reply": "2022-06-12T07:33:43.441765Z"
    },
    "papermill": {
     "duration": 0.330515,
     "end_time": "2022-06-12T07:33:43.441889",
     "exception": false,
     "start_time": "2022-06-12T07:33:43.111374",
     "status": "completed"
    },
    "tags": []
   },
   "outputs": [
    {
     "data": {
      "image/png": "[encoded data removed]",
      "text/plain": [
       "<Figure size 432x288 with 1 Axes>"
      ]
     },
     "metadata": {
      "needs_background": "light"
     },
     "output_type": "display_data"
    },
    {
     "data": {
      "image/png": "[encoded data removed]",
      "text/plain": [
       "<Figure size 432x288 with 1 Axes>"
      ]
     },
     "metadata": {
      "needs_background": "light"
     },
     "output_type": "display_data"
    },
    {
     "data": {
      "image/png": "[encoded data removed]",
      "text/plain": [
       "<Figure size 432x288 with 1 Axes>"
      ]
     },
     "metadata": {
      "needs_background": "light"
     },
     "output_type": "display_data"
    },
    {
     "data": {
      "image/png": "[encoded data removed]",
      "text/plain": [
       "<Figure size 432x288 with 1 Axes>"
      ]
     },
     "metadata": {
      "needs_background": "light"
     },
     "output_type": "display_data"
    }
   ],
   "source": [
    "sanityChecks.discProbVsError(train_data,disc,device)\n",
    "sanityChecks.discProbVsError(test_data,disc,device)"
   ]
  },
  {
   "cell_type": "markdown",
   "id": "130f3a4d",
   "metadata": {
    "id": "130f3a4d",
    "papermill": {
     "duration": 0.01471,
     "end_time": "2022-06-12T07:33:43.471783",
     "exception": false,
     "start_time": "2022-06-12T07:33:43.457073",
     "status": "completed"
    },
    "tags": []
   },
   "source": [
    "# ABC - GAN Model with skip connection"
   ]
  },
  {
   "cell_type": "code",
   "execution_count": 15,
   "id": "4e43dad1",
   "metadata": {
    "execution": {
     "iopub.execute_input": "2022-06-12T07:33:43.504914Z",
     "iopub.status.busy": "2022-06-12T07:33:43.504546Z",
     "iopub.status.idle": "2022-06-12T07:33:43.506698Z",
     "shell.execute_reply": "2022-06-12T07:33:43.506962Z"
    },
    "id": "4e43dad1",
    "papermill": {
     "duration": 0.020365,
     "end_time": "2022-06-12T07:33:43.507075",
     "exception": false,
     "start_time": "2022-06-12T07:33:43.486710",
     "status": "completed"
    },
    "tags": []
   },
   "outputs": [],
   "source": [
    "#Generator\n",
    "gen3 = network.GeneratorWithSkipConnection(n_features+1).to(device)\n",
    "constraints=network.weightConstraint()\n",
    "#Discriminator \n",
    "disc3 = network.Discriminator(n_features+1).to(device)\n",
    "\n",
    "criterion = torch.nn.BCELoss()\n",
    "gen_opt = torch.optim.Adam(gen3.parameters(), lr=0.001, betas=(0.5, 0.999))\n",
    "disc_opt = torch.optim.Adam(disc3.parameters(), lr=0.001, betas=(0.5, 0.999))\n"
   ]
  },
  {
   "cell_type": "code",
   "execution_count": 16,
   "id": "26acbc37",
   "metadata": {
    "execution": {
     "iopub.execute_input": "2022-06-12T07:33:43.539403Z",
     "iopub.status.busy": "2022-06-12T07:33:43.539029Z",
     "iopub.status.idle": "2022-06-12T07:37:13.397880Z",
     "shell.execute_reply": "2022-06-12T07:37:13.398177Z"
    },
    "id": "26acbc37",
    "papermill": {
     "duration": 209.876074,
     "end_time": "2022-06-12T07:37:13.398369",
     "exception": false,
     "start_time": "2022-06-12T07:33:43.522295",
     "status": "completed"
    },
    "tags": []
   },
   "outputs": [
    {
     "data": {
      "image/png": "[encoded data removed]",
      "text/plain": [
       "<Figure size 432x288 with 1 Axes>"
      ]
     },
     "metadata": {
      "needs_background": "light"
     },
     "output_type": "display_data"
    },
    {
     "data": {
      "image/png": "[encoded data removed]",
      "text/plain": [
       "<Figure size 432x288 with 1 Axes>"
      ]
     },
     "metadata": {
      "needs_background": "light"
     },
     "output_type": "display_data"
    }
   ],
   "source": [
    "ABC_train_test2.training_GAN_skip_connection(disc3,gen3,disc_opt,gen_opt,train_data,batch_size,n_epochs,criterion,prior_model,variance,bias,device)"
   ]
  },
  {
   "cell_type": "code",
   "execution_count": 17,
   "id": "c5e0717b",
   "metadata": {
    "execution": {
     "iopub.execute_input": "2022-06-12T07:37:13.435772Z",
     "iopub.status.busy": "2022-06-12T07:37:13.435383Z",
     "iopub.status.idle": "2022-06-12T07:37:14.259623Z",
     "shell.execute_reply": "2022-06-12T07:37:14.260075Z"
    },
    "id": "c5e0717b",
    "papermill": {
     "duration": 0.84528,
     "end_time": "2022-06-12T07:37:14.260204",
     "exception": false,
     "start_time": "2022-06-12T07:37:13.414924",
     "status": "completed"
    },
    "tags": []
   },
   "outputs": [
    {
     "data": {
      "application/scrapbook.scrap.json+json": {
       "data": 0.12439077066384739,
       "encoder": "json",
       "name": "ABC-GAN Model 3 MSE",
       "version": 1
      }
     },
     "metadata": {
      "scrapbook": {
       "data": true,
       "display": false,
       "name": "ABC-GAN Model 3 MSE"
      }
     },
     "output_type": "display_data"
    },
    {
     "data": {
      "application/scrapbook.scrap.json+json": {
       "data": 0.24655775196457683,
       "encoder": "json",
       "name": "ABC-GAN Model 3 MAE",
       "version": 1
      }
     },
     "metadata": {
      "scrapbook": {
       "data": true,
       "display": false,
       "name": "ABC-GAN Model 3 MAE"
      }
     },
     "output_type": "display_data"
    },
    {
     "data": {
      "application/scrapbook.scrap.json+json": {
       "data": 25.148890700386836,
       "encoder": "json",
       "name": "ABC-GAN Model 3 Manhattan Distance",
       "version": 1
      }
     },
     "metadata": {
      "scrapbook": {
       "data": true,
       "display": false,
       "name": "ABC-GAN Model 3 Manhattan Distance"
      }
     },
     "output_type": "display_data"
    },
    {
     "data": {
      "application/scrapbook.scrap.json+json": {
       "data": 3.5600721938680975,
       "encoder": "json",
       "name": "ABC-GAN Model 3 Euclidean distance",
       "version": 1
      }
     },
     "metadata": {
      "scrapbook": {
       "data": true,
       "display": false,
       "name": "ABC-GAN Model 3 Euclidean distance"
      }
     },
     "output_type": "display_data"
    },
    {
     "data": {
      "application/scrapbook.scrap.json+json": {
       "data": [
        [
         0.12358671457026388,
         0.12190501374658505,
         0.11269564920675887,
         0.13382383742080065,
         0.14453692041977464,
         0.13354727703452318,
         0.122388656326245,
         0.12757407621481914,
         0.1414654670930042,
         0.11292421989918937,
         0.13052070237866722,
         0.1211929925764339,
         0.1296195284108992,
         0.12036634425980905,
         0.13298456864325314,
         0.12358941057989072,
         0.12322158568581679,
         0.12112841776469821,
         0.12080228475363063,
         0.14434575260260793,
         0.11721678443040748,
         0.12428401100805238,
         0.115916951064105,
         0.12153819455482506,
         0.11195613133584274,
         0.1312589409344293,
         0.13252459374308845,
         0.13820370177476185,
         0.12172251838621023,
         0.11947239074143866,
         0.11631373624791742,
         0.1191162864048927,
         0.12941632388765428,
         0.12475967430168063,
         0.13910303832851362,
         0.11743270225638597,
         0.12298252176522943,
         0.12814373444553476,
         0.13929443575738948,
         0.12092500171409555,
         0.1339542393054958,
         0.11804694352378245,
         0.13144678637015253,
         0.11947586058405567,
         0.14069116641574383,
         0.12146661382369192,
         0.11251906348815029,
         0.13684248697141635,
         0.1152771699603526,
         0.11984168086190733,
         0.12028878040102907,
         0.11979358077466953,
         0.14671828626130914,
         0.12014296354767305,
         0.11690878150928695,
         0.11570460972024663,
         0.1281474061693151,
         0.12527105414957063,
         0.12551914393557126,
         0.12193583804358092,
         0.13217914141510279,
         0.11230948138176344,
         0.11510978212598244,
         0.1272101886805043,
         0.11521756937405114,
         0.1265592466344417,
         0.11139592809150836,
         0.11521653248786863,
         0.12394717570568992,
         0.12280246432727102,
         0.123612580694491,
         0.11244865825179873,
         0.1298329191753934,
         0.12597648763443603,
         0.1333424360451298,
         0.11797142048434973,
         0.12042671069096621,
         0.12554400383643555,
         0.11315637209009571,
         0.1233287646830135,
         0.13042761235911565,
         0.11434230092881617,
         0.12217173187248762,
         0.13198334826516994,
         0.11850892485539663,
         0.12370307198177376,
         0.1347427004342342,
         0.13922026477723692,
         0.1296388261407677,
         0.11679394469417557,
         0.1109369352184945,
         0.1263879659463139,
         0.1178029119982859,
         0.13055490099002273,
         0.12932559206375674,
         0.11862301126055383,
         0.12470318861692947,
         0.1302115219927039,
         0.12455899363112445,
         0.11305790605995927
        ],
        [
         0.2461801102549276,
         0.2434591287473107,
         0.23442410346230164,
         0.24862674396375523,
         0.26425227941945195,
         0.2567411529575931,
         0.23333847901656055,
         0.24542183256434166,
         0.25637906085809364,
         0.235903278942786,
         0.2490054670922166,
         0.249299043670808,
         0.2522476241996914,
         0.24398595789520472,
         0.24852083334881886,
         0.24814339770077198,
         0.24504341629753804,
         0.2510270026567228,
         0.25215218668146167,
         0.25997349870957287,
         0.2416035242871765,
         0.2512049058762689,
         0.24336747168654613,
         0.24847296781509237,
         0.23594327144069122,
         0.2594074300015528,
         0.2562761937414168,
         0.26366374878139764,
         0.24643609189775353,
         0.24297244645034274,
         0.2390661506329243,
         0.24187834760831559,
         0.2508227485049443,
         0.2406704261369419,
         0.2513502439867486,
         0.243181998357542,
         0.2513012235856378,
         0.24067225580231524,
         0.25777682060302765,
         0.24538525434064806,
         0.2509408949910864,
         0.2453338432344882,
         0.2657636841850392,
         0.2402340138203227,
         0.2586858949952704,
         0.2310663605492343,
         0.2365182628763803,
         0.25456156744165165,
         0.23924492194554678,
         0.24525120773115286,
         0.24977855135084076,
         0.24266615414115436,
         0.2563477602568181,
         0.2463472542334713,
         0.24035544451508745,
         0.2383775045529154,
         0.25190571934788253,
         0.24843315662377896,
         0.24987473739676325,
         0.2505376045957354,
         0.24960985961461477,
         0.23767197401463694,
         0.23481485082347894,
         0.2524651341852458,
         0.24561249723146653,
         0.24906744828959013,
         0.23759878228655926,
         0.24603040738250403,
         0.2471304646437513,
         0.23896168942070184,
         0.24343923701192527,
         0.23506572870902864,
         0.25018477526621197,
         0.2493146234191954,
         0.25813187687091677,
         0.24322129040043436,
         0.24713572745631432,
         0.24983254899544752,
         0.23623464540487119,
         0.2427520301539962,
         0.2512298211930137,
         0.2396095946029413,
         0.24961272399762974,
         0.24048567660992928,
         0.23370647734469352,
         0.249157944940688,
         0.2602623334410144,
         0.25023270223983657,
         0.2519600836505346,
         0.24634109882126545,
         0.23231427673725227,
         0.25142496585955515,
         0.237640164052958,
         0.25323635499522673,
         0.25001922427840967,
         0.24737554181403681,
         0.2442553037613192,
         0.24057615262584067,
         0.23793257662442094,
         0.23632392852439307
        ],
        [
         25.110371246002614,
         24.832831132225692,
         23.911258553154767,
         25.359927884303033,
         26.9537325007841,
         26.187597601674497,
         23.800524859689176,
         25.03302692156285,
         26.15066420752555,
         24.062134452164173,
         25.398557643406093,
         25.428502454422414,
         25.72925766836852,
         24.88656770531088,
         25.349125001579523,
         25.310626565478742,
         24.99442846234888,
         25.604754270985723,
         25.719523041509092,
         26.517296868376434,
         24.643559477292,
         25.622900399379432,
         24.823482112027705,
         25.344242717139423,
         24.066213686950505,
         26.459557860158384,
         26.140171761624515,
         26.89370237570256,
         25.13648137357086,
         24.78318953793496,
         24.38474736455828,
         24.67159145604819,
         25.583920347504318,
         24.548383465968072,
         25.637724886648357,
         24.804563832469285,
         25.63272480573505,
         24.548570091836154,
         26.29323570150882,
         25.029295942746103,
         25.595971289090812,
         25.024052009917796,
         27.107895786873996,
         24.503869409672916,
         26.38596128951758,
         23.568768776021898,
         24.12486281339079,
         25.965279879048467,
         24.40298203844577,
         25.015623188577592,
         25.477412237785757,
         24.751947722397745,
         26.147471546195447,
         25.127419931814075,
         24.51625534053892,
         24.31450546439737,
         25.694383373484015,
         25.340181975625455,
         25.48722321446985,
         25.55483566876501,
         25.460205680690706,
         24.242541349492967,
         23.951114783994853,
         25.751443686895072,
         25.052474717609584,
         25.404879725538194,
         24.235075793229043,
         25.09510155301541,
         25.20730739366263,
         24.374092320911586,
         24.830802175216377,
         23.97670432832092,
         25.518847077153623,
         25.430091588757932,
         26.32945144083351,
         24.808571620844305,
         25.20784420054406,
         25.482919997535646,
         24.09593383129686,
         24.760707075707614,
         25.625441761687398,
         24.440178649500012,
         25.460497847758234,
         24.529539014212787,
         23.838060689158738,
         25.414110383950174,
         26.546758010983467,
         25.523735628463328,
         25.699928532354534,
         25.126792079769075,
         23.696056227199733,
         25.645346517674625,
         24.239296733401716,
         25.830108209513128,
         25.50196087639779,
         25.232305265031755,
         24.91404098365456,
         24.538767567835748,
         24.269122815690935,
         24.105040709488094
        ],
        [
         3.550471079471978,
         3.5262318985216594,
         3.3904212450799385,
         3.6945948921257474,
         3.8396309565916633,
         3.6907752922009984,
         3.5332199118193848,
         3.6072920278113814,
         3.798615227090844,
         3.3938577503656973,
         3.6487136969929628,
         3.515918833362946,
         3.636095694273146,
         3.503907406667665,
         3.68299144739868,
         3.550509805527771,
         3.545222382298931,
         3.514982021575532,
         3.5102468638074904,
         3.8370909248369403,
         3.4577611270736384,
         3.5604731599636223,
         3.438535881525553,
         3.520922584294088,
         3.3792788278353054,
         3.6590178976484635,
         3.676616455628057,
         3.7545675624531927,
         3.523591473964234,
         3.490871503740397,
         3.444415929774971,
         3.4856651034342145,
         3.6332444229009337,
         3.5672800252813657,
         3.766763851040888,
         3.4609443263582507,
         3.5417816448862856,
         3.6153369017900037,
         3.769354380693559,
         3.5120293527870388,
         3.6963945148158315,
         3.4699838961334977,
         3.6616351825046087,
         3.4909221961501338,
         3.7882052444932106,
         3.5198855961545927,
         3.38776393448412,
         3.7360318080932426,
         3.429033586297451,
         3.496262496997979,
         3.5027782688752884,
         3.495560790347708,
         3.8684965036372367,
         3.500654550489472,
         3.4532152718802904,
         3.4353850135705537,
         3.6153886968443847,
         3.574583545429621,
         3.57812138997942,
         3.5266776830956994,
         3.671821404199894,
         3.3846073776643384,
         3.4265431234482087,
         3.6021437013827526,
         3.4281470324583823,
         3.592915690176024,
         3.37081365034228,
         3.4281316068322987,
         3.555645078179257,
         3.5391879522542506,
         3.5508426085702647,
         3.3867038757003054,
         3.6390874894525584,
         3.5846341150405396,
         3.6879436650528215,
         3.4688737205905418,
         3.5047859407499553,
         3.5784757078002394,
         3.397344544374291,
         3.5467638767850587,
         3.6474122964959403,
         3.415100978703155,
         3.5300873432528173,
         3.669100914808331,
         3.4767672247722383,
         3.552142077977867,
         3.707257132205949,
         3.768350701205789,
         3.6363663548050686,
         3.4515188481023693,
         3.3638619758079313,
         3.59048360621853,
         3.4663953934635257,
         3.649191677753077,
         3.631970593287228,
         3.4784403327607176,
         3.5664723802276677,
         3.6443895570116807,
         3.5644098179607084,
         3.3958660777651177
        ]
       ],
       "encoder": "json",
       "name": "ABC_GAN_3 Metrics",
       "version": 1
      }
     },
     "metadata": {
      "scrapbook": {
       "data": true,
       "display": false,
       "name": "ABC_GAN_3 Metrics"
      }
     },
     "output_type": "display_data"
    },
    {
     "name": "stdout",
     "output_type": "stream",
     "text": [
      "MSE\n",
      "0.12439077066384739\n"
     ]
    }
   ],
   "source": [
    "ABC_GAN3_metrics=ABC_train_test2.test_generator(gen3,test_data,prior_model,variance,bias,\"3\",device)\n",
    "sb.glue(\"ABC_GAN_3 Metrics\",ABC_GAN3_metrics)\n",
    "\n",
    "print(\"MSE\")\n",
    "print(mean(ABC_GAN3_metrics[0]))"
   ]
  },
  {
   "cell_type": "code",
   "execution_count": 18,
   "id": "c8e46b48",
   "metadata": {
    "execution": {
     "iopub.execute_input": "2022-06-12T07:37:14.298713Z",
     "iopub.status.busy": "2022-06-12T07:37:14.298322Z",
     "iopub.status.idle": "2022-06-12T07:37:14.625780Z",
     "shell.execute_reply": "2022-06-12T07:37:14.626095Z"
    },
    "id": "c8e46b48",
    "papermill": {
     "duration": 0.348271,
     "end_time": "2022-06-12T07:37:14.626223",
     "exception": false,
     "start_time": "2022-06-12T07:37:14.277952",
     "status": "completed"
    },
    "tags": []
   },
   "outputs": [
    {
     "data": {
      "image/png": "[encoded data removed]",
      "text/plain": [
       "<Figure size 432x288 with 1 Axes>"
      ]
     },
     "metadata": {
      "needs_background": "light"
     },
     "output_type": "display_data"
    },
    {
     "data": {
      "image/png": "[encoded data removed]",
      "text/plain": [
       "<Figure size 432x288 with 1 Axes>"
      ]
     },
     "metadata": {
      "needs_background": "light"
     },
     "output_type": "display_data"
    },
    {
     "data": {
      "image/png": "[encoded data removed]",
      "text/plain": [
       "<Figure size 432x288 with 1 Axes>"
      ]
     },
     "metadata": {
      "needs_background": "light"
     },
     "output_type": "display_data"
    },
    {
     "data": {
      "image/png": "[encoded data removed]",
      "text/plain": [
       "<Figure size 432x288 with 1 Axes>"
      ]
     },
     "metadata": {
      "needs_background": "light"
     },
     "output_type": "display_data"
    }
   ],
   "source": [
    "sanityChecks.discProbVsError(train_data,disc3,device)\n",
    "sanityChecks.discProbVsError(test_data,disc3,device)"
   ]
  },
  {
   "cell_type": "markdown",
   "id": "a5bd74c3",
   "metadata": {
    "id": "a5bd74c3",
    "papermill": {
     "duration": 0.020674,
     "end_time": "2022-06-12T07:37:14.667072",
     "exception": false,
     "start_time": "2022-06-12T07:37:14.646398",
     "status": "completed"
    },
    "tags": []
   },
   "source": [
    "## Skip Connection Model Analysis - ABC-GAN "
   ]
  },
  {
   "cell_type": "markdown",
   "id": "5744a8bf",
   "metadata": {
    "id": "5744a8bf",
    "papermill": {
     "duration": 0.019846,
     "end_time": "2022-06-12T07:37:14.707104",
     "exception": false,
     "start_time": "2022-06-12T07:37:14.687258",
     "status": "completed"
    },
    "tags": []
   },
   "source": [
    "### Weight Analysis \n",
    "\n",
    "Study the weights of the skip connection layer\n",
    "\n",
    "Equation of the skip connection is \n",
    "\n",
    "$output = y_{gan} * w + y_{abc} * (1-w)$"
   ]
  },
  {
   "cell_type": "code",
   "execution_count": 19,
   "id": "52c31dea",
   "metadata": {
    "execution": {
     "iopub.execute_input": "2022-06-12T07:37:14.749343Z",
     "iopub.status.busy": "2022-06-12T07:37:14.748951Z",
     "iopub.status.idle": "2022-06-12T07:37:14.752603Z",
     "shell.execute_reply": "2022-06-12T07:37:14.752810Z"
    },
    "id": "52c31dea",
    "papermill": {
     "duration": 0.026304,
     "end_time": "2022-06-12T07:37:14.752926",
     "exception": false,
     "start_time": "2022-06-12T07:37:14.726622",
     "status": "completed"
    },
    "tags": []
   },
   "outputs": [
    {
     "name": "stdout",
     "output_type": "stream",
     "text": [
      "Weight of the node at skip connection\n",
      "Parameter containing:\n",
      "tensor([[0.6404]], requires_grad=True)\n"
     ]
    },
    {
     "data": {
      "application/scrapbook.scrap.json+json": {
       "data": 0.6403748393058777,
       "encoder": "json",
       "name": "Skip Connection Weight",
       "version": 1
      }
     },
     "metadata": {
      "scrapbook": {
       "data": true,
       "display": false,
       "name": "Skip Connection Weight"
      }
     },
     "output_type": "display_data"
    }
   ],
   "source": [
    "print(\"Weight of the node at skip connection\")\n",
    "for name,param in gen3.named_parameters():\n",
    "    if(name == \"skipNode.weight\"):\n",
    "        print(param)\n",
    "        sb.glue(\"Skip Connection Weight\",param.item())"
   ]
  }
 ],
 "metadata": {
  "colab": {
   "collapsed_sections": [],
   "name": "ABC_GAN_Model-Catboost_Pre-gen.ipynb",
   "provenance": []
  },
  "interpreter": {
   "hash": "31f2aee4e71d21fbe5cf8b01ff0e069b9275f58929596ceb00d14d90e3e16cd6"
  },
  "kernelspec": {
   "display_name": "Python 3 (ipykernel)",
   "language": "python",
   "name": "python3"
  },
  "language_info": {
   "codemirror_mode": {
    "name": "ipython",
    "version": 3
   },
   "file_extension": ".py",
   "mimetype": "text/x-python",
   "name": "python",
   "nbconvert_exporter": "python",
   "pygments_lexer": "ipython3",
   "version": "3.8.11"
  },
  "papermill": {
   "default_parameters": {},
   "duration": 276.304774,
   "end_time": "2022-06-12T07:37:15.081147",
   "environment_variables": {},
   "exception": null,
   "input_path": "ABC_GAN-Catboost.ipynb",
   "output_path": "./ABC_GAN_Catboost/ABC-GAN_output_9_3.ipynb",
   "parameters": {
    "bias": 0.1,
    "variance": 1
   },
   "start_time": "2022-06-12T07:32:38.776373",
   "version": "2.3.3"
  }
 },
 "nbformat": 4,
 "nbformat_minor": 5
}