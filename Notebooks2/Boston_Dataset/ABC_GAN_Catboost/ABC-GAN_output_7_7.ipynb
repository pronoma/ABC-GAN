{
 "cells": [
  {
   "cell_type": "markdown",
   "id": "622780e6",
   "metadata": {
    "id": "622780e6",
    "papermill": {
     "duration": 0.034498,
     "end_time": "2022-06-12T06:33:20.965724",
     "exception": false,
     "start_time": "2022-06-12T06:33:20.931226",
     "status": "completed"
    },
    "tags": []
   },
   "source": [
    "## Import Libraries "
   ]
  },
  {
   "cell_type": "code",
   "execution_count": 1,
   "id": "a62397e3",
   "metadata": {
    "execution": {
     "iopub.execute_input": "2022-06-12T06:33:21.002445Z",
     "iopub.status.busy": "2022-06-12T06:33:21.001951Z",
     "iopub.status.idle": "2022-06-12T06:33:21.004399Z",
     "shell.execute_reply": "2022-06-12T06:33:21.004740Z"
    },
    "id": "a62397e3",
    "papermill": {
     "duration": 0.02282,
     "end_time": "2022-06-12T06:33:21.004953",
     "exception": false,
     "start_time": "2022-06-12T06:33:20.982133",
     "status": "completed"
    },
    "tags": []
   },
   "outputs": [],
   "source": [
    "import warnings\n",
    "import sys\n",
    "sys.path.insert(0, '../../src')\n",
    "warnings.filterwarnings('ignore')"
   ]
  },
  {
   "cell_type": "code",
   "execution_count": 2,
   "id": "d6a4e155",
   "metadata": {
    "execution": {
     "iopub.execute_input": "2022-06-12T06:33:21.025098Z",
     "iopub.status.busy": "2022-06-12T06:33:21.024689Z",
     "iopub.status.idle": "2022-06-12T06:33:22.815695Z",
     "shell.execute_reply": "2022-06-12T06:33:22.815951Z"
    },
    "id": "d6a4e155",
    "papermill": {
     "duration": 1.80173,
     "end_time": "2022-06-12T06:33:22.816079",
     "exception": false,
     "start_time": "2022-06-12T06:33:21.014349",
     "status": "completed"
    },
    "tags": []
   },
   "outputs": [],
   "source": [
    "import ABC_train_test2\n",
    "import bostonDataset\n",
    "import network\n",
    "import dataset\n",
    "import sanityChecks\n",
    "import torch \n",
    "import scrapbook as sb\n",
    "from statistics import mean \n",
    "import catboost as ctb \n",
    "from sklearn.model_selection import train_test_split\n",
    "from sklearn.metrics import mean_squared_error,mean_absolute_error\n",
    "import numpy as np"
   ]
  },
  {
   "cell_type": "markdown",
   "id": "2fa5b0f7",
   "metadata": {
    "id": "2fa5b0f7",
    "papermill": {
     "duration": 0.006727,
     "end_time": "2022-06-12T06:33:22.829936",
     "exception": false,
     "start_time": "2022-06-12T06:33:22.823209",
     "status": "completed"
    },
    "tags": []
   },
   "source": [
    "## Parameters "
   ]
  },
  {
   "cell_type": "code",
   "execution_count": 3,
   "id": "783186fb",
   "metadata": {
    "execution": {
     "iopub.execute_input": "2022-06-12T06:33:22.845569Z",
     "iopub.status.busy": "2022-06-12T06:33:22.845183Z",
     "iopub.status.idle": "2022-06-12T06:33:22.846409Z",
     "shell.execute_reply": "2022-06-12T06:33:22.846642Z"
    },
    "id": "783186fb",
    "papermill": {
     "duration": 0.010107,
     "end_time": "2022-06-12T06:33:22.846752",
     "exception": false,
     "start_time": "2022-06-12T06:33:22.836645",
     "status": "completed"
    },
    "tags": [
     "parameters"
    ]
   },
   "outputs": [],
   "source": [
    "variance = 1\n",
    "bias = 1 "
   ]
  },
  {
   "cell_type": "code",
   "execution_count": 4,
   "id": "37fb087e",
   "metadata": {
    "execution": {
     "iopub.execute_input": "2022-06-12T06:33:22.862457Z",
     "iopub.status.busy": "2022-06-12T06:33:22.862078Z",
     "iopub.status.idle": "2022-06-12T06:33:22.863340Z",
     "shell.execute_reply": "2022-06-12T06:33:22.863594Z"
    },
    "papermill": {
     "duration": 0.009974,
     "end_time": "2022-06-12T06:33:22.863701",
     "exception": false,
     "start_time": "2022-06-12T06:33:22.853727",
     "status": "completed"
    },
    "tags": [
     "injected-parameters"
    ]
   },
   "outputs": [],
   "source": [
    "# Parameters\n",
    "variance = 0.1\n",
    "bias = 0.01\n"
   ]
  },
  {
   "cell_type": "markdown",
   "id": "391cdbfd",
   "metadata": {
    "id": "391cdbfd",
    "papermill": {
     "duration": 0.006767,
     "end_time": "2022-06-12T06:33:22.877368",
     "exception": false,
     "start_time": "2022-06-12T06:33:22.870601",
     "status": "completed"
    },
    "tags": []
   },
   "source": [
    "## Dataset \n"
   ]
  },
  {
   "cell_type": "code",
   "execution_count": 5,
   "id": "5b51f161",
   "metadata": {
    "execution": {
     "iopub.execute_input": "2022-06-12T06:33:22.893054Z",
     "iopub.status.busy": "2022-06-12T06:33:22.892702Z",
     "iopub.status.idle": "2022-06-12T06:33:22.893920Z",
     "shell.execute_reply": "2022-06-12T06:33:22.894153Z"
    },
    "id": "5b51f161",
    "papermill": {
     "duration": 0.010052,
     "end_time": "2022-06-12T06:33:22.894260",
     "exception": false,
     "start_time": "2022-06-12T06:33:22.884208",
     "status": "completed"
    },
    "tags": []
   },
   "outputs": [],
   "source": [
    "#Parameters \n",
    "n_features = 13\n",
    "n_samples= 506\n",
    "n_target = 1 "
   ]
  },
  {
   "cell_type": "code",
   "execution_count": 6,
   "id": "5d6eced4",
   "metadata": {
    "execution": {
     "iopub.execute_input": "2022-06-12T06:33:22.909965Z",
     "iopub.status.busy": "2022-06-12T06:33:22.909586Z",
     "iopub.status.idle": "2022-06-12T06:33:22.920320Z",
     "shell.execute_reply": "2022-06-12T06:33:22.920620Z"
    },
    "id": "5d6eced4",
    "papermill": {
     "duration": 0.019502,
     "end_time": "2022-06-12T06:33:22.920734",
     "exception": false,
     "start_time": "2022-06-12T06:33:22.901232",
     "status": "completed"
    },
    "tags": []
   },
   "outputs": [
    {
     "name": "stdout",
     "output_type": "stream",
     "text": [
      "         X1        X2        X3        X4        X5        X6        X7  \\\n",
      "0 -0.419782  0.284830 -1.287909 -0.272599 -0.144217  0.413672 -0.120013   \n",
      "1 -0.417339 -0.487722 -0.593381 -0.272599 -0.740262  0.194274  0.367166   \n",
      "2 -0.417342 -0.487722 -0.593381 -0.272599 -0.740262  1.282714 -0.265812   \n",
      "3 -0.416750 -0.487722 -1.306878 -0.272599 -0.835284  1.016303 -0.809889   \n",
      "4 -0.412482 -0.487722 -1.306878 -0.272599 -0.835284  1.228577 -0.511180   \n",
      "\n",
      "         X8        X9       X10       X11       X12       X13         Y  \n",
      "0  0.140214 -0.982843 -0.666608 -1.459000  0.441052 -1.075562  0.159686  \n",
      "1  0.557160 -0.867883 -0.987329 -0.303094  0.441052 -0.492439 -0.101524  \n",
      "2  0.557160 -0.867883 -0.987329 -0.303094  0.396427 -1.208727  1.324247  \n",
      "3  1.077737 -0.752922 -1.106115  0.113032  0.416163 -1.361517  1.182758  \n",
      "4  1.077737 -0.752922 -1.106115  0.113032  0.441052 -1.026501  1.487503  \n"
     ]
    }
   ],
   "source": [
    "X,Y = bostonDataset.boston_data()"
   ]
  },
  {
   "cell_type": "code",
   "execution_count": 7,
   "id": "fe007438",
   "metadata": {
    "execution": {
     "iopub.execute_input": "2022-06-12T06:33:22.937843Z",
     "iopub.status.busy": "2022-06-12T06:33:22.937486Z",
     "iopub.status.idle": "2022-06-12T06:33:22.938851Z",
     "shell.execute_reply": "2022-06-12T06:33:22.939100Z"
    },
    "id": "fe007438",
    "papermill": {
     "duration": 0.011151,
     "end_time": "2022-06-12T06:33:22.939208",
     "exception": false,
     "start_time": "2022-06-12T06:33:22.928057",
     "status": "completed"
    },
    "tags": []
   },
   "outputs": [],
   "source": [
    "#Train test split for dataset \n",
    "X_train,X_test,Y_train,Y_test = train_test_split(X,Y,test_size = 0.2)\n",
    "train_data = dataset.CustomDataset(X_train,Y_train)\n",
    "test_data = dataset.CustomDataset(X_test,Y_test)\n"
   ]
  },
  {
   "cell_type": "markdown",
   "id": "a9a1af34",
   "metadata": {
    "id": "a9a1af34",
    "papermill": {
     "duration": 0.007058,
     "end_time": "2022-06-12T06:33:22.953454",
     "exception": false,
     "start_time": "2022-06-12T06:33:22.946396",
     "status": "completed"
    },
    "tags": []
   },
   "source": [
    "## Training Parameters "
   ]
  },
  {
   "cell_type": "code",
   "execution_count": 8,
   "id": "952b7fc8",
   "metadata": {
    "execution": {
     "iopub.execute_input": "2022-06-12T06:33:22.969898Z",
     "iopub.status.busy": "2022-06-12T06:33:22.969532Z",
     "iopub.status.idle": "2022-06-12T06:33:22.970737Z",
     "shell.execute_reply": "2022-06-12T06:33:22.971035Z"
    },
    "id": "952b7fc8",
    "papermill": {
     "duration": 0.010559,
     "end_time": "2022-06-12T06:33:22.971143",
     "exception": false,
     "start_time": "2022-06-12T06:33:22.960584",
     "status": "completed"
    },
    "tags": []
   },
   "outputs": [],
   "source": [
    "batch_size = 32\n",
    "n_epochs = 1000\n",
    "#Select the device \n",
    "device = torch.device('cuda' if torch.cuda.is_available() else 'cpu')"
   ]
  },
  {
   "cell_type": "markdown",
   "id": "a95e1600",
   "metadata": {
    "id": "a95e1600",
    "papermill": {
     "duration": 0.006985,
     "end_time": "2022-06-12T06:33:22.985259",
     "exception": false,
     "start_time": "2022-06-12T06:33:22.978274",
     "status": "completed"
    },
    "tags": []
   },
   "source": [
    "# ABC Pre-generator Model \n",
    "\n",
    "1. The catboost model is used as a pre-generator model for the ABC-GAN. \n",
    "2. The model is first trained on the entire dataset \n",
    "3. It generats X,Y pairs and we add some Gaussian noise with mean 0 and variance 1 to it which is then feed as input to the generator.\n"
   ]
  },
  {
   "cell_type": "code",
   "execution_count": 9,
   "id": "ff8ce7bd",
   "metadata": {
    "execution": {
     "iopub.execute_input": "2022-06-12T06:33:23.004436Z",
     "iopub.status.busy": "2022-06-12T06:33:23.004044Z",
     "iopub.status.idle": "2022-06-12T06:33:23.995661Z",
     "shell.execute_reply": "2022-06-12T06:33:23.995913Z"
    },
    "id": "ff8ce7bd",
    "papermill": {
     "duration": 1.003672,
     "end_time": "2022-06-12T06:33:23.996043",
     "exception": false,
     "start_time": "2022-06-12T06:33:22.992371",
     "status": "completed"
    },
    "tags": []
   },
   "outputs": [
    {
     "name": "stdout",
     "output_type": "stream",
     "text": [
      "Learning rate set to 0.033215\n",
      "0:\tlearn: 0.9670590\ttotal: 57.6ms\tremaining: 57.6s\n",
      "1:\tlearn: 0.9473582\ttotal: 58.6ms\tremaining: 29.2s\n",
      "2:\tlearn: 0.9262988\ttotal: 59.6ms\tremaining: 19.8s\n",
      "3:\tlearn: 0.9102103\ttotal: 60.5ms\tremaining: 15.1s\n",
      "4:\tlearn: 0.8939466\ttotal: 61.5ms\tremaining: 12.2s\n",
      "5:\tlearn: 0.8780774\ttotal: 62.4ms\tremaining: 10.3s\n",
      "6:\tlearn: 0.8630871\ttotal: 63.3ms\tremaining: 8.97s\n",
      "7:\tlearn: 0.8467113\ttotal: 64.2ms\tremaining: 7.96s\n",
      "8:\tlearn: 0.8324325\ttotal: 65.1ms\tremaining: 7.17s\n",
      "9:\tlearn: 0.8174707\ttotal: 66ms\tremaining: 6.54s\n",
      "10:\tlearn: 0.8037177\ttotal: 66.9ms\tremaining: 6.02s\n",
      "11:\tlearn: 0.7903582\ttotal: 67.8ms\tremaining: 5.58s\n",
      "12:\tlearn: 0.7761769\ttotal: 68.6ms\tremaining: 5.21s\n",
      "13:\tlearn: 0.7624678\ttotal: 69.5ms\tremaining: 4.9s\n",
      "14:\tlearn: 0.7510324\ttotal: 70.3ms\tremaining: 4.62s\n",
      "15:\tlearn: 0.7377973\ttotal: 71.2ms\tremaining: 4.38s\n",
      "16:\tlearn: 0.7265928\ttotal: 72ms\tremaining: 4.16s\n",
      "17:\tlearn: 0.7154667\ttotal: 72.7ms\tremaining: 3.97s\n",
      "18:\tlearn: 0.7035515\ttotal: 73.4ms\tremaining: 3.79s\n",
      "19:\tlearn: 0.6911635\ttotal: 74.2ms\tremaining: 3.63s\n",
      "20:\tlearn: 0.6790491\ttotal: 74.9ms\tremaining: 3.49s\n",
      "21:\tlearn: 0.6700710\ttotal: 75.6ms\tremaining: 3.36s\n",
      "22:\tlearn: 0.6587823\ttotal: 76.4ms\tremaining: 3.24s\n",
      "23:\tlearn: 0.6484570\ttotal: 77.2ms\tremaining: 3.14s\n",
      "24:\tlearn: 0.6378303\ttotal: 77.9ms\tremaining: 3.04s\n",
      "25:\tlearn: 0.6300417\ttotal: 78.6ms\tremaining: 2.94s\n",
      "26:\tlearn: 0.6207328\ttotal: 79.3ms\tremaining: 2.86s\n",
      "27:\tlearn: 0.6112816\ttotal: 80.1ms\tremaining: 2.78s\n",
      "28:\tlearn: 0.6023576\ttotal: 80.8ms\tremaining: 2.71s\n",
      "29:\tlearn: 0.5926912\ttotal: 81.5ms\tremaining: 2.64s\n",
      "30:\tlearn: 0.5837203\ttotal: 82.4ms\tremaining: 2.58s\n",
      "31:\tlearn: 0.5759972\ttotal: 83.1ms\tremaining: 2.52s\n",
      "32:\tlearn: 0.5691707\ttotal: 84ms\tremaining: 2.46s\n",
      "33:\tlearn: 0.5615275\ttotal: 84.8ms\tremaining: 2.41s\n",
      "34:\tlearn: 0.5561388\ttotal: 85.5ms\tremaining: 2.36s\n",
      "35:\tlearn: 0.5489267\ttotal: 86.3ms\tremaining: 2.31s\n",
      "36:\tlearn: 0.5429517\ttotal: 87.1ms\tremaining: 2.27s\n",
      "37:\tlearn: 0.5364106\ttotal: 88ms\tremaining: 2.23s\n",
      "38:\tlearn: 0.5298282\ttotal: 88.8ms\tremaining: 2.19s\n",
      "39:\tlearn: 0.5225030\ttotal: 89.6ms\tremaining: 2.15s\n",
      "40:\tlearn: 0.5173352\ttotal: 90.4ms\tremaining: 2.11s\n",
      "41:\tlearn: 0.5097628\ttotal: 91.3ms\tremaining: 2.08s\n",
      "42:\tlearn: 0.5036588\ttotal: 92.1ms\tremaining: 2.05s\n",
      "43:\tlearn: 0.4984676\ttotal: 93ms\tremaining: 2.02s\n",
      "44:\tlearn: 0.4929681\ttotal: 93.9ms\tremaining: 1.99s\n",
      "45:\tlearn: 0.4861499\ttotal: 94.7ms\tremaining: 1.96s\n",
      "46:\tlearn: 0.4817382\ttotal: 95.5ms\tremaining: 1.94s\n",
      "47:\tlearn: 0.4760090\ttotal: 96.4ms\tremaining: 1.91s\n",
      "48:\tlearn: 0.4711696\ttotal: 97.1ms\tremaining: 1.89s\n",
      "49:\tlearn: 0.4658090\ttotal: 97.9ms\tremaining: 1.86s\n",
      "50:\tlearn: 0.4603075\ttotal: 98.8ms\tremaining: 1.84s\n",
      "51:\tlearn: 0.4555620\ttotal: 99.6ms\tremaining: 1.81s\n",
      "52:\tlearn: 0.4499145\ttotal: 100ms\tremaining: 1.79s\n",
      "53:\tlearn: 0.4464501\ttotal: 101ms\tremaining: 1.77s\n",
      "54:\tlearn: 0.4409360\ttotal: 102ms\tremaining: 1.75s\n",
      "55:\tlearn: 0.4373776\ttotal: 102ms\tremaining: 1.73s\n",
      "56:\tlearn: 0.4334211\ttotal: 103ms\tremaining: 1.71s\n",
      "57:\tlearn: 0.4286529\ttotal: 104ms\tremaining: 1.69s\n",
      "58:\tlearn: 0.4251808\ttotal: 105ms\tremaining: 1.67s\n",
      "59:\tlearn: 0.4215635\ttotal: 106ms\tremaining: 1.66s\n",
      "60:\tlearn: 0.4180242\ttotal: 107ms\tremaining: 1.64s\n",
      "61:\tlearn: 0.4138749\ttotal: 107ms\tremaining: 1.62s\n"
     ]
    },
    {
     "name": "stdout",
     "output_type": "stream",
     "text": [
      "62:\tlearn: 0.4110455\ttotal: 108ms\tremaining: 1.61s\n",
      "63:\tlearn: 0.4074821\ttotal: 109ms\tremaining: 1.6s\n",
      "64:\tlearn: 0.4042507\ttotal: 110ms\tremaining: 1.58s\n",
      "65:\tlearn: 0.4014656\ttotal: 111ms\tremaining: 1.57s\n",
      "66:\tlearn: 0.3980157\ttotal: 112ms\tremaining: 1.56s\n",
      "67:\tlearn: 0.3953569\ttotal: 113ms\tremaining: 1.54s\n",
      "68:\tlearn: 0.3923515\ttotal: 114ms\tremaining: 1.53s\n",
      "69:\tlearn: 0.3892574\ttotal: 115ms\tremaining: 1.52s\n",
      "70:\tlearn: 0.3855643\ttotal: 115ms\tremaining: 1.51s\n",
      "71:\tlearn: 0.3816701\ttotal: 116ms\tremaining: 1.5s\n",
      "72:\tlearn: 0.3788593\ttotal: 117ms\tremaining: 1.48s\n",
      "73:\tlearn: 0.3758452\ttotal: 118ms\tremaining: 1.47s\n",
      "74:\tlearn: 0.3726601\ttotal: 119ms\tremaining: 1.46s\n",
      "75:\tlearn: 0.3695381\ttotal: 119ms\tremaining: 1.45s\n",
      "76:\tlearn: 0.3672498\ttotal: 120ms\tremaining: 1.44s\n",
      "77:\tlearn: 0.3647492\ttotal: 121ms\tremaining: 1.43s\n",
      "78:\tlearn: 0.3618154\ttotal: 122ms\tremaining: 1.42s\n",
      "79:\tlearn: 0.3595047\ttotal: 123ms\tremaining: 1.41s\n",
      "80:\tlearn: 0.3570974\ttotal: 124ms\tremaining: 1.4s\n",
      "81:\tlearn: 0.3541658\ttotal: 124ms\tremaining: 1.39s\n",
      "82:\tlearn: 0.3527080\ttotal: 125ms\tremaining: 1.38s\n",
      "83:\tlearn: 0.3505243\ttotal: 126ms\tremaining: 1.37s\n",
      "84:\tlearn: 0.3480379\ttotal: 127ms\tremaining: 1.37s\n",
      "85:\tlearn: 0.3456853\ttotal: 128ms\tremaining: 1.36s\n",
      "86:\tlearn: 0.3436821\ttotal: 129ms\tremaining: 1.35s\n",
      "87:\tlearn: 0.3411555\ttotal: 129ms\tremaining: 1.34s\n",
      "88:\tlearn: 0.3385876\ttotal: 130ms\tremaining: 1.33s\n",
      "89:\tlearn: 0.3366589\ttotal: 131ms\tremaining: 1.32s\n",
      "90:\tlearn: 0.3336455\ttotal: 132ms\tremaining: 1.32s\n",
      "91:\tlearn: 0.3316501\ttotal: 132ms\tremaining: 1.31s\n",
      "92:\tlearn: 0.3298674\ttotal: 133ms\tremaining: 1.3s\n",
      "93:\tlearn: 0.3280351\ttotal: 134ms\tremaining: 1.29s\n",
      "94:\tlearn: 0.3258068\ttotal: 135ms\tremaining: 1.28s\n",
      "95:\tlearn: 0.3247516\ttotal: 136ms\tremaining: 1.28s\n",
      "96:\tlearn: 0.3225088\ttotal: 137ms\tremaining: 1.27s\n",
      "97:\tlearn: 0.3210422\ttotal: 137ms\tremaining: 1.26s\n",
      "98:\tlearn: 0.3192482\ttotal: 138ms\tremaining: 1.26s\n",
      "99:\tlearn: 0.3177589\ttotal: 139ms\tremaining: 1.25s\n",
      "100:\tlearn: 0.3159528\ttotal: 140ms\tremaining: 1.24s\n",
      "101:\tlearn: 0.3139609\ttotal: 141ms\tremaining: 1.24s\n",
      "102:\tlearn: 0.3125636\ttotal: 141ms\tremaining: 1.23s\n",
      "103:\tlearn: 0.3111076\ttotal: 142ms\tremaining: 1.22s\n",
      "104:\tlearn: 0.3098880\ttotal: 143ms\tremaining: 1.22s\n",
      "105:\tlearn: 0.3079527\ttotal: 144ms\tremaining: 1.21s\n",
      "106:\tlearn: 0.3061690\ttotal: 145ms\tremaining: 1.21s\n",
      "107:\tlearn: 0.3050174\ttotal: 145ms\tremaining: 1.2s\n",
      "108:\tlearn: 0.3032893\ttotal: 146ms\tremaining: 1.2s\n",
      "109:\tlearn: 0.3017789\ttotal: 147ms\tremaining: 1.19s\n",
      "110:\tlearn: 0.3000204\ttotal: 148ms\tremaining: 1.18s\n",
      "111:\tlearn: 0.2985797\ttotal: 149ms\tremaining: 1.18s\n",
      "112:\tlearn: 0.2969361\ttotal: 150ms\tremaining: 1.17s\n",
      "113:\tlearn: 0.2954695\ttotal: 150ms\tremaining: 1.17s\n",
      "114:\tlearn: 0.2942072\ttotal: 151ms\tremaining: 1.16s\n",
      "115:\tlearn: 0.2927407\ttotal: 152ms\tremaining: 1.16s\n",
      "116:\tlearn: 0.2912155\ttotal: 153ms\tremaining: 1.15s\n",
      "117:\tlearn: 0.2899420\ttotal: 154ms\tremaining: 1.15s\n",
      "118:\tlearn: 0.2888169\ttotal: 154ms\tremaining: 1.14s\n",
      "119:\tlearn: 0.2878042\ttotal: 155ms\tremaining: 1.14s\n",
      "120:\tlearn: 0.2868232\ttotal: 156ms\tremaining: 1.13s\n",
      "121:\tlearn: 0.2858881\ttotal: 158ms\tremaining: 1.13s\n",
      "122:\tlearn: 0.2845321\ttotal: 159ms\tremaining: 1.13s\n",
      "123:\tlearn: 0.2829156\ttotal: 159ms\tremaining: 1.13s\n",
      "124:\tlearn: 0.2813840\ttotal: 160ms\tremaining: 1.12s\n",
      "125:\tlearn: 0.2802245\ttotal: 161ms\tremaining: 1.12s\n",
      "126:\tlearn: 0.2787362\ttotal: 162ms\tremaining: 1.11s\n",
      "127:\tlearn: 0.2778579\ttotal: 163ms\tremaining: 1.11s\n",
      "128:\tlearn: 0.2763792\ttotal: 164ms\tremaining: 1.1s\n",
      "129:\tlearn: 0.2751974\ttotal: 165ms\tremaining: 1.1s\n",
      "130:\tlearn: 0.2744257\ttotal: 166ms\tremaining: 1.1s\n",
      "131:\tlearn: 0.2732070\ttotal: 166ms\tremaining: 1.09s\n",
      "132:\tlearn: 0.2721998\ttotal: 167ms\tremaining: 1.09s\n",
      "133:\tlearn: 0.2709855\ttotal: 168ms\tremaining: 1.09s\n",
      "134:\tlearn: 0.2699603\ttotal: 169ms\tremaining: 1.08s\n",
      "135:\tlearn: 0.2688791\ttotal: 170ms\tremaining: 1.08s\n",
      "136:\tlearn: 0.2680879\ttotal: 171ms\tremaining: 1.07s\n",
      "137:\tlearn: 0.2670208\ttotal: 171ms\tremaining: 1.07s\n",
      "138:\tlearn: 0.2658703\ttotal: 172ms\tremaining: 1.07s\n",
      "139:\tlearn: 0.2648878\ttotal: 173ms\tremaining: 1.06s\n",
      "140:\tlearn: 0.2640093\ttotal: 174ms\tremaining: 1.06s\n",
      "141:\tlearn: 0.2631354\ttotal: 175ms\tremaining: 1.05s\n",
      "142:\tlearn: 0.2619174\ttotal: 175ms\tremaining: 1.05s\n",
      "143:\tlearn: 0.2607000\ttotal: 176ms\tremaining: 1.05s\n",
      "144:\tlearn: 0.2595901\ttotal: 177ms\tremaining: 1.04s\n",
      "145:\tlearn: 0.2586306\ttotal: 178ms\tremaining: 1.04s\n",
      "146:\tlearn: 0.2576734\ttotal: 179ms\tremaining: 1.04s\n",
      "147:\tlearn: 0.2568798\ttotal: 180ms\tremaining: 1.03s\n",
      "148:\tlearn: 0.2559604\ttotal: 181ms\tremaining: 1.03s\n",
      "149:\tlearn: 0.2553491\ttotal: 181ms\tremaining: 1.03s\n",
      "150:\tlearn: 0.2546146\ttotal: 182ms\tremaining: 1.02s\n",
      "151:\tlearn: 0.2538325\ttotal: 183ms\tremaining: 1.02s\n",
      "152:\tlearn: 0.2531201\ttotal: 184ms\tremaining: 1.02s\n",
      "153:\tlearn: 0.2526326\ttotal: 185ms\tremaining: 1.01s\n",
      "154:\tlearn: 0.2514661\ttotal: 185ms\tremaining: 1.01s\n",
      "155:\tlearn: 0.2506106\ttotal: 186ms\tremaining: 1.01s\n",
      "156:\tlearn: 0.2499900\ttotal: 187ms\tremaining: 1s\n",
      "157:\tlearn: 0.2488358\ttotal: 188ms\tremaining: 1s\n",
      "158:\tlearn: 0.2479960\ttotal: 189ms\tremaining: 998ms\n",
      "159:\tlearn: 0.2471039\ttotal: 189ms\tremaining: 995ms\n",
      "160:\tlearn: 0.2462599\ttotal: 190ms\tremaining: 991ms\n"
     ]
    },
    {
     "name": "stdout",
     "output_type": "stream",
     "text": [
      "161:\tlearn: 0.2454063\ttotal: 191ms\tremaining: 989ms\n",
      "162:\tlearn: 0.2449248\ttotal: 192ms\tremaining: 987ms\n",
      "163:\tlearn: 0.2441594\ttotal: 193ms\tremaining: 983ms\n",
      "164:\tlearn: 0.2435927\ttotal: 194ms\tremaining: 980ms\n",
      "165:\tlearn: 0.2429189\ttotal: 194ms\tremaining: 977ms\n",
      "166:\tlearn: 0.2421273\ttotal: 195ms\tremaining: 974ms\n",
      "167:\tlearn: 0.2413665\ttotal: 196ms\tremaining: 972ms\n",
      "168:\tlearn: 0.2407071\ttotal: 197ms\tremaining: 969ms\n",
      "169:\tlearn: 0.2400029\ttotal: 198ms\tremaining: 966ms\n",
      "170:\tlearn: 0.2393125\ttotal: 199ms\tremaining: 963ms\n",
      "171:\tlearn: 0.2388070\ttotal: 200ms\tremaining: 960ms\n",
      "172:\tlearn: 0.2377667\ttotal: 200ms\tremaining: 957ms\n",
      "173:\tlearn: 0.2370397\ttotal: 201ms\tremaining: 955ms\n",
      "174:\tlearn: 0.2364101\ttotal: 202ms\tremaining: 953ms\n",
      "175:\tlearn: 0.2359922\ttotal: 203ms\tremaining: 950ms\n",
      "176:\tlearn: 0.2352651\ttotal: 204ms\tremaining: 948ms\n",
      "177:\tlearn: 0.2346293\ttotal: 205ms\tremaining: 945ms\n",
      "178:\tlearn: 0.2339355\ttotal: 206ms\tremaining: 944ms\n",
      "179:\tlearn: 0.2333402\ttotal: 207ms\tremaining: 941ms\n",
      "180:\tlearn: 0.2326473\ttotal: 207ms\tremaining: 938ms\n",
      "181:\tlearn: 0.2321606\ttotal: 208ms\tremaining: 936ms\n",
      "182:\tlearn: 0.2316140\ttotal: 209ms\tremaining: 933ms\n",
      "183:\tlearn: 0.2309792\ttotal: 210ms\tremaining: 930ms\n",
      "184:\tlearn: 0.2300089\ttotal: 211ms\tremaining: 928ms\n",
      "185:\tlearn: 0.2294798\ttotal: 211ms\tremaining: 925ms\n",
      "186:\tlearn: 0.2283889\ttotal: 212ms\tremaining: 923ms\n",
      "187:\tlearn: 0.2276526\ttotal: 213ms\tremaining: 921ms\n",
      "188:\tlearn: 0.2269474\ttotal: 215ms\tremaining: 921ms\n",
      "189:\tlearn: 0.2263933\ttotal: 216ms\tremaining: 919ms\n",
      "190:\tlearn: 0.2255219\ttotal: 216ms\tremaining: 917ms\n",
      "191:\tlearn: 0.2250031\ttotal: 217ms\tremaining: 914ms\n",
      "192:\tlearn: 0.2243153\ttotal: 218ms\tremaining: 911ms\n",
      "193:\tlearn: 0.2234058\ttotal: 219ms\tremaining: 909ms\n",
      "194:\tlearn: 0.2228382\ttotal: 219ms\tremaining: 906ms\n",
      "195:\tlearn: 0.2221503\ttotal: 221ms\tremaining: 906ms\n",
      "196:\tlearn: 0.2217049\ttotal: 222ms\tremaining: 903ms\n",
      "197:\tlearn: 0.2212464\ttotal: 222ms\tremaining: 901ms\n",
      "198:\tlearn: 0.2207975\ttotal: 223ms\tremaining: 898ms\n",
      "199:\tlearn: 0.2202829\ttotal: 224ms\tremaining: 896ms\n",
      "200:\tlearn: 0.2197644\ttotal: 225ms\tremaining: 893ms\n",
      "201:\tlearn: 0.2191524\ttotal: 226ms\tremaining: 891ms\n",
      "202:\tlearn: 0.2185291\ttotal: 227ms\tremaining: 889ms\n",
      "203:\tlearn: 0.2180095\ttotal: 227ms\tremaining: 887ms\n",
      "204:\tlearn: 0.2173367\ttotal: 228ms\tremaining: 885ms\n",
      "205:\tlearn: 0.2167704\ttotal: 229ms\tremaining: 883ms\n",
      "206:\tlearn: 0.2161307\ttotal: 230ms\tremaining: 880ms\n",
      "207:\tlearn: 0.2156113\ttotal: 231ms\tremaining: 878ms\n",
      "208:\tlearn: 0.2148574\ttotal: 231ms\tremaining: 875ms\n",
      "209:\tlearn: 0.2141829\ttotal: 232ms\tremaining: 873ms\n",
      "210:\tlearn: 0.2137171\ttotal: 233ms\tremaining: 871ms\n",
      "211:\tlearn: 0.2133195\ttotal: 234ms\tremaining: 869ms\n",
      "212:\tlearn: 0.2127610\ttotal: 235ms\tremaining: 867ms\n",
      "213:\tlearn: 0.2122320\ttotal: 235ms\tremaining: 864ms\n",
      "214:\tlearn: 0.2115049\ttotal: 236ms\tremaining: 862ms\n",
      "215:\tlearn: 0.2110358\ttotal: 237ms\tremaining: 860ms\n",
      "216:\tlearn: 0.2103499\ttotal: 238ms\tremaining: 858ms\n",
      "217:\tlearn: 0.2096578\ttotal: 239ms\tremaining: 856ms\n",
      "218:\tlearn: 0.2092856\ttotal: 239ms\tremaining: 854ms\n",
      "219:\tlearn: 0.2089080\ttotal: 240ms\tremaining: 851ms\n",
      "220:\tlearn: 0.2084890\ttotal: 241ms\tremaining: 849ms\n",
      "221:\tlearn: 0.2079413\ttotal: 242ms\tremaining: 847ms\n",
      "222:\tlearn: 0.2072757\ttotal: 243ms\tremaining: 845ms\n",
      "223:\tlearn: 0.2067411\ttotal: 243ms\tremaining: 843ms\n",
      "224:\tlearn: 0.2061514\ttotal: 244ms\tremaining: 841ms\n",
      "225:\tlearn: 0.2057327\ttotal: 245ms\tremaining: 841ms\n",
      "226:\tlearn: 0.2050334\ttotal: 246ms\tremaining: 839ms\n",
      "227:\tlearn: 0.2045079\ttotal: 247ms\tremaining: 837ms\n",
      "228:\tlearn: 0.2037577\ttotal: 248ms\tremaining: 834ms\n",
      "229:\tlearn: 0.2031972\ttotal: 249ms\tremaining: 832ms\n",
      "230:\tlearn: 0.2027211\ttotal: 249ms\tremaining: 830ms\n",
      "231:\tlearn: 0.2023995\ttotal: 250ms\tremaining: 829ms\n",
      "232:\tlearn: 0.2017709\ttotal: 252ms\tremaining: 828ms\n",
      "233:\tlearn: 0.2014373\ttotal: 252ms\tremaining: 827ms\n",
      "234:\tlearn: 0.2011151\ttotal: 253ms\tremaining: 825ms\n",
      "235:\tlearn: 0.2006897\ttotal: 254ms\tremaining: 822ms\n",
      "236:\tlearn: 0.2000973\ttotal: 255ms\tremaining: 820ms\n",
      "237:\tlearn: 0.1997176\ttotal: 255ms\tremaining: 818ms\n",
      "238:\tlearn: 0.1992742\ttotal: 256ms\tremaining: 815ms\n",
      "239:\tlearn: 0.1986754\ttotal: 257ms\tremaining: 813ms\n",
      "240:\tlearn: 0.1982235\ttotal: 257ms\tremaining: 811ms\n",
      "241:\tlearn: 0.1979754\ttotal: 258ms\tremaining: 809ms\n",
      "242:\tlearn: 0.1976988\ttotal: 259ms\tremaining: 806ms\n",
      "243:\tlearn: 0.1972499\ttotal: 260ms\tremaining: 804ms\n",
      "244:\tlearn: 0.1968947\ttotal: 260ms\tremaining: 802ms\n",
      "245:\tlearn: 0.1967353\ttotal: 261ms\tremaining: 800ms\n",
      "246:\tlearn: 0.1962485\ttotal: 262ms\tremaining: 798ms\n",
      "247:\tlearn: 0.1957352\ttotal: 262ms\tremaining: 795ms\n",
      "248:\tlearn: 0.1952932\ttotal: 263ms\tremaining: 793ms\n",
      "249:\tlearn: 0.1948765\ttotal: 264ms\tremaining: 791ms\n",
      "250:\tlearn: 0.1944110\ttotal: 264ms\tremaining: 789ms\n",
      "251:\tlearn: 0.1938527\ttotal: 265ms\tremaining: 787ms\n",
      "252:\tlearn: 0.1933472\ttotal: 266ms\tremaining: 785ms\n",
      "253:\tlearn: 0.1927918\ttotal: 267ms\tremaining: 784ms\n",
      "254:\tlearn: 0.1924359\ttotal: 268ms\tremaining: 783ms\n",
      "255:\tlearn: 0.1920475\ttotal: 269ms\tremaining: 782ms\n",
      "256:\tlearn: 0.1915880\ttotal: 270ms\tremaining: 780ms\n",
      "257:\tlearn: 0.1911860\ttotal: 271ms\tremaining: 779ms\n",
      "258:\tlearn: 0.1907089\ttotal: 272ms\tremaining: 778ms\n",
      "259:\tlearn: 0.1901018\ttotal: 273ms\tremaining: 776ms\n",
      "260:\tlearn: 0.1896439\ttotal: 274ms\tremaining: 774ms\n",
      "261:\tlearn: 0.1891966\ttotal: 274ms\tremaining: 773ms\n",
      "262:\tlearn: 0.1884179\ttotal: 275ms\tremaining: 771ms\n",
      "263:\tlearn: 0.1879293\ttotal: 276ms\tremaining: 770ms\n",
      "264:\tlearn: 0.1874414\ttotal: 277ms\tremaining: 768ms\n",
      "265:\tlearn: 0.1868139\ttotal: 278ms\tremaining: 767ms\n",
      "266:\tlearn: 0.1865041\ttotal: 279ms\tremaining: 766ms\n",
      "267:\tlearn: 0.1860042\ttotal: 280ms\tremaining: 764ms\n",
      "268:\tlearn: 0.1857007\ttotal: 281ms\tremaining: 763ms\n",
      "269:\tlearn: 0.1851252\ttotal: 282ms\tremaining: 761ms\n",
      "270:\tlearn: 0.1846750\ttotal: 282ms\tremaining: 760ms\n",
      "271:\tlearn: 0.1842278\ttotal: 283ms\tremaining: 758ms\n",
      "272:\tlearn: 0.1837119\ttotal: 284ms\tremaining: 757ms\n",
      "273:\tlearn: 0.1834037\ttotal: 285ms\tremaining: 755ms\n",
      "274:\tlearn: 0.1829931\ttotal: 286ms\tremaining: 754ms\n",
      "275:\tlearn: 0.1825704\ttotal: 287ms\tremaining: 753ms\n",
      "276:\tlearn: 0.1819771\ttotal: 288ms\tremaining: 751ms\n",
      "277:\tlearn: 0.1814293\ttotal: 289ms\tremaining: 749ms\n",
      "278:\tlearn: 0.1809028\ttotal: 289ms\tremaining: 748ms\n",
      "279:\tlearn: 0.1805796\ttotal: 290ms\tremaining: 746ms\n",
      "280:\tlearn: 0.1802675\ttotal: 291ms\tremaining: 745ms\n",
      "281:\tlearn: 0.1798789\ttotal: 292ms\tremaining: 743ms\n",
      "282:\tlearn: 0.1795877\ttotal: 293ms\tremaining: 742ms\n",
      "283:\tlearn: 0.1792100\ttotal: 294ms\tremaining: 740ms\n",
      "284:\tlearn: 0.1786887\ttotal: 294ms\tremaining: 739ms\n",
      "285:\tlearn: 0.1785391\ttotal: 295ms\tremaining: 737ms\n",
      "286:\tlearn: 0.1781818\ttotal: 296ms\tremaining: 735ms\n",
      "287:\tlearn: 0.1778369\ttotal: 297ms\tremaining: 734ms\n"
     ]
    },
    {
     "name": "stdout",
     "output_type": "stream",
     "text": [
      "288:\tlearn: 0.1774686\ttotal: 298ms\tremaining: 733ms\n",
      "289:\tlearn: 0.1771002\ttotal: 299ms\tremaining: 732ms\n",
      "290:\tlearn: 0.1767556\ttotal: 300ms\tremaining: 730ms\n",
      "291:\tlearn: 0.1765070\ttotal: 301ms\tremaining: 729ms\n",
      "292:\tlearn: 0.1761973\ttotal: 301ms\tremaining: 727ms\n",
      "293:\tlearn: 0.1759826\ttotal: 302ms\tremaining: 726ms\n",
      "294:\tlearn: 0.1756812\ttotal: 303ms\tremaining: 725ms\n",
      "295:\tlearn: 0.1751531\ttotal: 304ms\tremaining: 723ms\n",
      "296:\tlearn: 0.1749864\ttotal: 305ms\tremaining: 722ms\n",
      "297:\tlearn: 0.1747045\ttotal: 306ms\tremaining: 720ms\n",
      "298:\tlearn: 0.1742868\ttotal: 307ms\tremaining: 719ms\n",
      "299:\tlearn: 0.1739414\ttotal: 307ms\tremaining: 717ms\n",
      "300:\tlearn: 0.1733879\ttotal: 308ms\tremaining: 716ms\n",
      "301:\tlearn: 0.1729582\ttotal: 309ms\tremaining: 714ms\n",
      "302:\tlearn: 0.1725409\ttotal: 310ms\tremaining: 713ms\n",
      "303:\tlearn: 0.1720561\ttotal: 311ms\tremaining: 711ms\n",
      "304:\tlearn: 0.1715405\ttotal: 311ms\tremaining: 710ms\n",
      "305:\tlearn: 0.1709683\ttotal: 312ms\tremaining: 708ms\n",
      "306:\tlearn: 0.1704350\ttotal: 313ms\tremaining: 707ms\n",
      "307:\tlearn: 0.1702933\ttotal: 314ms\tremaining: 705ms\n",
      "308:\tlearn: 0.1698494\ttotal: 315ms\tremaining: 704ms\n",
      "309:\tlearn: 0.1695948\ttotal: 316ms\tremaining: 703ms\n",
      "310:\tlearn: 0.1694899\ttotal: 317ms\tremaining: 701ms\n",
      "311:\tlearn: 0.1690247\ttotal: 317ms\tremaining: 700ms\n",
      "312:\tlearn: 0.1688333\ttotal: 318ms\tremaining: 698ms\n",
      "313:\tlearn: 0.1684607\ttotal: 319ms\tremaining: 697ms\n",
      "314:\tlearn: 0.1680782\ttotal: 320ms\tremaining: 695ms\n",
      "315:\tlearn: 0.1675590\ttotal: 321ms\tremaining: 694ms\n",
      "316:\tlearn: 0.1670963\ttotal: 321ms\tremaining: 692ms\n",
      "317:\tlearn: 0.1668500\ttotal: 322ms\tremaining: 691ms\n",
      "318:\tlearn: 0.1663691\ttotal: 323ms\tremaining: 689ms\n",
      "319:\tlearn: 0.1660604\ttotal: 324ms\tremaining: 688ms\n",
      "320:\tlearn: 0.1657971\ttotal: 324ms\tremaining: 686ms\n",
      "321:\tlearn: 0.1654982\ttotal: 325ms\tremaining: 685ms\n",
      "322:\tlearn: 0.1652465\ttotal: 326ms\tremaining: 684ms\n",
      "323:\tlearn: 0.1649396\ttotal: 327ms\tremaining: 682ms\n",
      "324:\tlearn: 0.1643317\ttotal: 328ms\tremaining: 681ms\n",
      "325:\tlearn: 0.1638694\ttotal: 329ms\tremaining: 680ms\n",
      "326:\tlearn: 0.1632008\ttotal: 330ms\tremaining: 678ms\n",
      "327:\tlearn: 0.1630631\ttotal: 331ms\tremaining: 677ms\n",
      "328:\tlearn: 0.1627783\ttotal: 331ms\tremaining: 676ms\n",
      "329:\tlearn: 0.1625803\ttotal: 332ms\tremaining: 674ms\n",
      "330:\tlearn: 0.1622286\ttotal: 333ms\tremaining: 673ms\n",
      "331:\tlearn: 0.1620383\ttotal: 334ms\tremaining: 672ms\n",
      "332:\tlearn: 0.1616027\ttotal: 335ms\tremaining: 670ms\n",
      "333:\tlearn: 0.1612796\ttotal: 335ms\tremaining: 669ms\n",
      "334:\tlearn: 0.1607782\ttotal: 336ms\tremaining: 668ms\n",
      "335:\tlearn: 0.1602899\ttotal: 337ms\tremaining: 666ms\n",
      "336:\tlearn: 0.1598735\ttotal: 338ms\tremaining: 664ms\n",
      "337:\tlearn: 0.1597277\ttotal: 339ms\tremaining: 665ms\n",
      "338:\tlearn: 0.1595230\ttotal: 340ms\tremaining: 663ms\n",
      "339:\tlearn: 0.1590991\ttotal: 341ms\tremaining: 662ms\n",
      "340:\tlearn: 0.1586908\ttotal: 342ms\tremaining: 661ms\n",
      "341:\tlearn: 0.1583220\ttotal: 343ms\tremaining: 659ms\n",
      "342:\tlearn: 0.1579716\ttotal: 343ms\tremaining: 658ms\n",
      "343:\tlearn: 0.1577722\ttotal: 344ms\tremaining: 657ms\n",
      "344:\tlearn: 0.1573197\ttotal: 345ms\tremaining: 656ms\n",
      "345:\tlearn: 0.1571312\ttotal: 346ms\tremaining: 654ms\n",
      "346:\tlearn: 0.1569471\ttotal: 347ms\tremaining: 653ms\n",
      "347:\tlearn: 0.1565013\ttotal: 348ms\tremaining: 651ms\n",
      "348:\tlearn: 0.1560424\ttotal: 348ms\tremaining: 650ms\n",
      "349:\tlearn: 0.1556245\ttotal: 349ms\tremaining: 649ms\n",
      "350:\tlearn: 0.1550942\ttotal: 350ms\tremaining: 648ms\n",
      "351:\tlearn: 0.1547469\ttotal: 351ms\tremaining: 646ms\n",
      "352:\tlearn: 0.1542428\ttotal: 352ms\tremaining: 645ms\n",
      "353:\tlearn: 0.1538772\ttotal: 353ms\tremaining: 644ms\n",
      "354:\tlearn: 0.1538094\ttotal: 353ms\tremaining: 642ms\n",
      "355:\tlearn: 0.1533945\ttotal: 354ms\tremaining: 641ms\n",
      "356:\tlearn: 0.1533063\ttotal: 355ms\tremaining: 640ms\n",
      "357:\tlearn: 0.1529409\ttotal: 356ms\tremaining: 638ms\n",
      "358:\tlearn: 0.1527131\ttotal: 357ms\tremaining: 637ms\n",
      "359:\tlearn: 0.1525134\ttotal: 358ms\tremaining: 636ms\n",
      "360:\tlearn: 0.1522885\ttotal: 358ms\tremaining: 634ms\n",
      "361:\tlearn: 0.1518260\ttotal: 359ms\tremaining: 633ms\n",
      "362:\tlearn: 0.1515970\ttotal: 360ms\tremaining: 632ms\n",
      "363:\tlearn: 0.1513995\ttotal: 361ms\tremaining: 631ms\n",
      "364:\tlearn: 0.1512653\ttotal: 362ms\tremaining: 629ms\n",
      "365:\tlearn: 0.1507598\ttotal: 363ms\tremaining: 628ms\n",
      "366:\tlearn: 0.1505142\ttotal: 364ms\tremaining: 627ms\n",
      "367:\tlearn: 0.1499232\ttotal: 364ms\tremaining: 626ms\n",
      "368:\tlearn: 0.1496761\ttotal: 365ms\tremaining: 624ms\n",
      "369:\tlearn: 0.1495220\ttotal: 366ms\tremaining: 623ms\n",
      "370:\tlearn: 0.1491429\ttotal: 367ms\tremaining: 622ms\n",
      "371:\tlearn: 0.1487842\ttotal: 368ms\tremaining: 620ms\n",
      "372:\tlearn: 0.1485099\ttotal: 368ms\tremaining: 619ms\n",
      "373:\tlearn: 0.1481518\ttotal: 369ms\tremaining: 618ms\n",
      "374:\tlearn: 0.1477390\ttotal: 370ms\tremaining: 616ms\n",
      "375:\tlearn: 0.1473836\ttotal: 371ms\tremaining: 615ms\n",
      "376:\tlearn: 0.1473006\ttotal: 371ms\tremaining: 614ms\n",
      "377:\tlearn: 0.1470284\ttotal: 372ms\tremaining: 613ms\n",
      "378:\tlearn: 0.1468160\ttotal: 373ms\tremaining: 612ms\n",
      "379:\tlearn: 0.1466572\ttotal: 374ms\tremaining: 610ms\n",
      "380:\tlearn: 0.1464002\ttotal: 375ms\tremaining: 609ms\n",
      "381:\tlearn: 0.1459685\ttotal: 376ms\tremaining: 608ms\n",
      "382:\tlearn: 0.1457198\ttotal: 377ms\tremaining: 607ms\n",
      "383:\tlearn: 0.1455083\ttotal: 377ms\tremaining: 605ms\n",
      "384:\tlearn: 0.1452785\ttotal: 378ms\tremaining: 604ms\n",
      "385:\tlearn: 0.1451284\ttotal: 379ms\tremaining: 603ms\n",
      "386:\tlearn: 0.1448205\ttotal: 380ms\tremaining: 602ms\n"
     ]
    },
    {
     "name": "stdout",
     "output_type": "stream",
     "text": [
      "387:\tlearn: 0.1447519\ttotal: 381ms\tremaining: 601ms\n",
      "388:\tlearn: 0.1445368\ttotal: 382ms\tremaining: 600ms\n",
      "389:\tlearn: 0.1442355\ttotal: 383ms\tremaining: 599ms\n",
      "390:\tlearn: 0.1440965\ttotal: 384ms\tremaining: 598ms\n",
      "391:\tlearn: 0.1438359\ttotal: 385ms\tremaining: 596ms\n",
      "392:\tlearn: 0.1434332\ttotal: 385ms\tremaining: 595ms\n",
      "393:\tlearn: 0.1431410\ttotal: 386ms\tremaining: 594ms\n",
      "394:\tlearn: 0.1429000\ttotal: 387ms\tremaining: 593ms\n",
      "395:\tlearn: 0.1426201\ttotal: 388ms\tremaining: 592ms\n",
      "396:\tlearn: 0.1421926\ttotal: 389ms\tremaining: 591ms\n",
      "397:\tlearn: 0.1421348\ttotal: 390ms\tremaining: 590ms\n",
      "398:\tlearn: 0.1417603\ttotal: 391ms\tremaining: 589ms\n",
      "399:\tlearn: 0.1415094\ttotal: 391ms\tremaining: 587ms\n",
      "400:\tlearn: 0.1412046\ttotal: 392ms\tremaining: 586ms\n",
      "401:\tlearn: 0.1407584\ttotal: 393ms\tremaining: 585ms\n",
      "402:\tlearn: 0.1406380\ttotal: 394ms\tremaining: 583ms\n",
      "403:\tlearn: 0.1403414\ttotal: 395ms\tremaining: 582ms\n",
      "404:\tlearn: 0.1400336\ttotal: 395ms\tremaining: 581ms\n",
      "405:\tlearn: 0.1397964\ttotal: 396ms\tremaining: 580ms\n",
      "406:\tlearn: 0.1397313\ttotal: 397ms\tremaining: 578ms\n",
      "407:\tlearn: 0.1394865\ttotal: 398ms\tremaining: 577ms\n",
      "408:\tlearn: 0.1392533\ttotal: 399ms\tremaining: 576ms\n",
      "409:\tlearn: 0.1389138\ttotal: 399ms\tremaining: 575ms\n",
      "410:\tlearn: 0.1386624\ttotal: 400ms\tremaining: 573ms\n",
      "411:\tlearn: 0.1384333\ttotal: 401ms\tremaining: 572ms\n",
      "412:\tlearn: 0.1380299\ttotal: 402ms\tremaining: 571ms\n",
      "413:\tlearn: 0.1377480\ttotal: 403ms\tremaining: 570ms\n",
      "414:\tlearn: 0.1377012\ttotal: 403ms\tremaining: 569ms\n",
      "415:\tlearn: 0.1373798\ttotal: 404ms\tremaining: 567ms\n",
      "416:\tlearn: 0.1370742\ttotal: 405ms\tremaining: 566ms\n",
      "417:\tlearn: 0.1368062\ttotal: 406ms\tremaining: 565ms\n",
      "418:\tlearn: 0.1365889\ttotal: 406ms\tremaining: 564ms\n",
      "419:\tlearn: 0.1363634\ttotal: 407ms\tremaining: 562ms\n",
      "420:\tlearn: 0.1360405\ttotal: 408ms\tremaining: 561ms\n",
      "421:\tlearn: 0.1356451\ttotal: 409ms\tremaining: 560ms\n",
      "422:\tlearn: 0.1354563\ttotal: 410ms\tremaining: 559ms\n",
      "423:\tlearn: 0.1352635\ttotal: 411ms\tremaining: 558ms\n",
      "424:\tlearn: 0.1350871\ttotal: 412ms\tremaining: 557ms\n",
      "425:\tlearn: 0.1348082\ttotal: 412ms\tremaining: 556ms\n",
      "426:\tlearn: 0.1343903\ttotal: 413ms\tremaining: 555ms\n",
      "427:\tlearn: 0.1340304\ttotal: 414ms\tremaining: 553ms\n",
      "428:\tlearn: 0.1337723\ttotal: 415ms\tremaining: 552ms\n",
      "429:\tlearn: 0.1335245\ttotal: 416ms\tremaining: 551ms\n",
      "430:\tlearn: 0.1333909\ttotal: 417ms\tremaining: 550ms\n",
      "431:\tlearn: 0.1331698\ttotal: 418ms\tremaining: 549ms\n",
      "432:\tlearn: 0.1328724\ttotal: 419ms\tremaining: 548ms\n",
      "433:\tlearn: 0.1325481\ttotal: 419ms\tremaining: 547ms\n",
      "434:\tlearn: 0.1325030\ttotal: 420ms\tremaining: 546ms\n",
      "435:\tlearn: 0.1322172\ttotal: 421ms\tremaining: 545ms\n",
      "436:\tlearn: 0.1319321\ttotal: 422ms\tremaining: 544ms\n",
      "437:\tlearn: 0.1318416\ttotal: 423ms\tremaining: 542ms\n",
      "438:\tlearn: 0.1315616\ttotal: 424ms\tremaining: 541ms\n",
      "439:\tlearn: 0.1311778\ttotal: 424ms\tremaining: 540ms\n",
      "440:\tlearn: 0.1307834\ttotal: 425ms\tremaining: 539ms\n",
      "441:\tlearn: 0.1305190\ttotal: 426ms\tremaining: 538ms\n",
      "442:\tlearn: 0.1301749\ttotal: 427ms\tremaining: 537ms\n",
      "443:\tlearn: 0.1300430\ttotal: 428ms\tremaining: 535ms\n",
      "444:\tlearn: 0.1296551\ttotal: 429ms\tremaining: 535ms\n",
      "445:\tlearn: 0.1293545\ttotal: 430ms\tremaining: 534ms\n",
      "446:\tlearn: 0.1291504\ttotal: 431ms\tremaining: 533ms\n",
      "447:\tlearn: 0.1288566\ttotal: 432ms\tremaining: 532ms\n",
      "448:\tlearn: 0.1287314\ttotal: 432ms\tremaining: 531ms\n",
      "449:\tlearn: 0.1283150\ttotal: 433ms\tremaining: 530ms\n",
      "450:\tlearn: 0.1279606\ttotal: 434ms\tremaining: 529ms\n",
      "451:\tlearn: 0.1277075\ttotal: 435ms\tremaining: 527ms\n",
      "452:\tlearn: 0.1274352\ttotal: 436ms\tremaining: 526ms\n",
      "453:\tlearn: 0.1271253\ttotal: 437ms\tremaining: 525ms\n",
      "454:\tlearn: 0.1269175\ttotal: 438ms\tremaining: 524ms\n",
      "455:\tlearn: 0.1267468\ttotal: 438ms\tremaining: 523ms\n",
      "456:\tlearn: 0.1265055\ttotal: 439ms\tremaining: 522ms\n",
      "457:\tlearn: 0.1263292\ttotal: 440ms\tremaining: 521ms\n",
      "458:\tlearn: 0.1261212\ttotal: 441ms\tremaining: 520ms\n",
      "459:\tlearn: 0.1258663\ttotal: 442ms\tremaining: 519ms\n",
      "460:\tlearn: 0.1257021\ttotal: 443ms\tremaining: 517ms\n",
      "461:\tlearn: 0.1254257\ttotal: 443ms\tremaining: 516ms\n",
      "462:\tlearn: 0.1252525\ttotal: 444ms\tremaining: 515ms\n",
      "463:\tlearn: 0.1249723\ttotal: 445ms\tremaining: 514ms\n",
      "464:\tlearn: 0.1246484\ttotal: 446ms\tremaining: 513ms\n",
      "465:\tlearn: 0.1243896\ttotal: 447ms\tremaining: 512ms\n",
      "466:\tlearn: 0.1241488\ttotal: 448ms\tremaining: 511ms\n",
      "467:\tlearn: 0.1238398\ttotal: 448ms\tremaining: 510ms\n",
      "468:\tlearn: 0.1236318\ttotal: 449ms\tremaining: 509ms\n",
      "469:\tlearn: 0.1233598\ttotal: 451ms\tremaining: 508ms\n",
      "470:\tlearn: 0.1231110\ttotal: 452ms\tremaining: 507ms\n",
      "471:\tlearn: 0.1228967\ttotal: 452ms\tremaining: 506ms\n",
      "472:\tlearn: 0.1227112\ttotal: 453ms\tremaining: 505ms\n",
      "473:\tlearn: 0.1224213\ttotal: 454ms\tremaining: 504ms\n",
      "474:\tlearn: 0.1220922\ttotal: 455ms\tremaining: 503ms\n",
      "475:\tlearn: 0.1218462\ttotal: 456ms\tremaining: 502ms\n",
      "476:\tlearn: 0.1216604\ttotal: 457ms\tremaining: 501ms\n",
      "477:\tlearn: 0.1213431\ttotal: 457ms\tremaining: 500ms\n",
      "478:\tlearn: 0.1210996\ttotal: 458ms\tremaining: 498ms\n",
      "479:\tlearn: 0.1210638\ttotal: 459ms\tremaining: 497ms\n",
      "480:\tlearn: 0.1208250\ttotal: 460ms\tremaining: 496ms\n",
      "481:\tlearn: 0.1205178\ttotal: 461ms\tremaining: 495ms\n",
      "482:\tlearn: 0.1201463\ttotal: 461ms\tremaining: 494ms\n",
      "483:\tlearn: 0.1200171\ttotal: 462ms\tremaining: 493ms\n",
      "484:\tlearn: 0.1196903\ttotal: 463ms\tremaining: 492ms\n",
      "485:\tlearn: 0.1195447\ttotal: 464ms\tremaining: 490ms\n",
      "486:\tlearn: 0.1192865\ttotal: 465ms\tremaining: 489ms\n",
      "487:\tlearn: 0.1190281\ttotal: 465ms\tremaining: 488ms\n",
      "488:\tlearn: 0.1187885\ttotal: 466ms\tremaining: 487ms\n",
      "489:\tlearn: 0.1185544\ttotal: 467ms\tremaining: 486ms\n",
      "490:\tlearn: 0.1184326\ttotal: 468ms\tremaining: 485ms\n",
      "491:\tlearn: 0.1181618\ttotal: 468ms\tremaining: 484ms\n",
      "492:\tlearn: 0.1178369\ttotal: 469ms\tremaining: 483ms\n",
      "493:\tlearn: 0.1174609\ttotal: 470ms\tremaining: 481ms\n",
      "494:\tlearn: 0.1173926\ttotal: 471ms\tremaining: 480ms\n",
      "495:\tlearn: 0.1171285\ttotal: 472ms\tremaining: 479ms\n",
      "496:\tlearn: 0.1168046\ttotal: 472ms\tremaining: 478ms\n",
      "497:\tlearn: 0.1165969\ttotal: 473ms\tremaining: 477ms\n",
      "498:\tlearn: 0.1163778\ttotal: 474ms\tremaining: 476ms\n",
      "499:\tlearn: 0.1162825\ttotal: 475ms\tremaining: 475ms\n",
      "500:\tlearn: 0.1161830\ttotal: 476ms\tremaining: 474ms\n",
      "501:\tlearn: 0.1160108\ttotal: 477ms\tremaining: 473ms\n",
      "502:\tlearn: 0.1157586\ttotal: 477ms\tremaining: 472ms\n",
      "503:\tlearn: 0.1155432\ttotal: 478ms\tremaining: 471ms\n",
      "504:\tlearn: 0.1153454\ttotal: 479ms\tremaining: 470ms\n",
      "505:\tlearn: 0.1150867\ttotal: 480ms\tremaining: 468ms\n",
      "506:\tlearn: 0.1148009\ttotal: 481ms\tremaining: 467ms\n",
      "507:\tlearn: 0.1145942\ttotal: 482ms\tremaining: 466ms\n",
      "508:\tlearn: 0.1144060\ttotal: 482ms\tremaining: 465ms\n",
      "509:\tlearn: 0.1141087\ttotal: 483ms\tremaining: 464ms\n",
      "510:\tlearn: 0.1138463\ttotal: 484ms\tremaining: 463ms\n",
      "511:\tlearn: 0.1136687\ttotal: 485ms\tremaining: 462ms\n",
      "512:\tlearn: 0.1133351\ttotal: 486ms\tremaining: 461ms\n",
      "513:\tlearn: 0.1131082\ttotal: 486ms\tremaining: 460ms\n",
      "514:\tlearn: 0.1129721\ttotal: 487ms\tremaining: 459ms\n"
     ]
    },
    {
     "name": "stdout",
     "output_type": "stream",
     "text": [
      "515:\tlearn: 0.1129138\ttotal: 488ms\tremaining: 458ms\n",
      "516:\tlearn: 0.1126648\ttotal: 489ms\tremaining: 457ms\n",
      "517:\tlearn: 0.1123994\ttotal: 490ms\tremaining: 456ms\n",
      "518:\tlearn: 0.1121154\ttotal: 491ms\tremaining: 455ms\n",
      "519:\tlearn: 0.1119516\ttotal: 492ms\tremaining: 454ms\n",
      "520:\tlearn: 0.1119074\ttotal: 493ms\tremaining: 453ms\n",
      "521:\tlearn: 0.1117356\ttotal: 493ms\tremaining: 452ms\n",
      "522:\tlearn: 0.1116187\ttotal: 494ms\tremaining: 451ms\n",
      "523:\tlearn: 0.1113950\ttotal: 495ms\tremaining: 450ms\n",
      "524:\tlearn: 0.1111126\ttotal: 496ms\tremaining: 449ms\n",
      "525:\tlearn: 0.1108284\ttotal: 497ms\tremaining: 448ms\n",
      "526:\tlearn: 0.1106489\ttotal: 498ms\tremaining: 447ms\n",
      "527:\tlearn: 0.1105016\ttotal: 498ms\tremaining: 446ms\n",
      "528:\tlearn: 0.1101868\ttotal: 499ms\tremaining: 445ms\n",
      "529:\tlearn: 0.1099424\ttotal: 500ms\tremaining: 444ms\n",
      "530:\tlearn: 0.1096996\ttotal: 501ms\tremaining: 443ms\n",
      "531:\tlearn: 0.1095309\ttotal: 502ms\tremaining: 441ms\n",
      "532:\tlearn: 0.1093088\ttotal: 503ms\tremaining: 440ms\n",
      "533:\tlearn: 0.1092733\ttotal: 503ms\tremaining: 439ms\n",
      "534:\tlearn: 0.1090885\ttotal: 504ms\tremaining: 438ms\n",
      "535:\tlearn: 0.1089552\ttotal: 505ms\tremaining: 437ms\n",
      "536:\tlearn: 0.1087722\ttotal: 506ms\tremaining: 436ms\n",
      "537:\tlearn: 0.1086302\ttotal: 507ms\tremaining: 435ms\n",
      "538:\tlearn: 0.1085005\ttotal: 507ms\tremaining: 434ms\n",
      "539:\tlearn: 0.1083345\ttotal: 508ms\tremaining: 433ms\n",
      "540:\tlearn: 0.1081477\ttotal: 509ms\tremaining: 432ms\n",
      "541:\tlearn: 0.1079972\ttotal: 510ms\tremaining: 431ms\n",
      "542:\tlearn: 0.1077721\ttotal: 511ms\tremaining: 430ms\n",
      "543:\tlearn: 0.1075324\ttotal: 512ms\tremaining: 429ms\n",
      "544:\tlearn: 0.1073414\ttotal: 513ms\tremaining: 428ms\n",
      "545:\tlearn: 0.1072258\ttotal: 513ms\tremaining: 427ms\n",
      "546:\tlearn: 0.1071190\ttotal: 514ms\tremaining: 426ms\n",
      "547:\tlearn: 0.1068873\ttotal: 515ms\tremaining: 425ms\n",
      "548:\tlearn: 0.1065629\ttotal: 516ms\tremaining: 424ms\n",
      "549:\tlearn: 0.1063051\ttotal: 517ms\tremaining: 423ms\n",
      "550:\tlearn: 0.1060643\ttotal: 518ms\tremaining: 422ms\n",
      "551:\tlearn: 0.1060375\ttotal: 518ms\tremaining: 421ms\n",
      "552:\tlearn: 0.1059279\ttotal: 519ms\tremaining: 420ms\n",
      "553:\tlearn: 0.1057050\ttotal: 520ms\tremaining: 419ms\n",
      "554:\tlearn: 0.1056030\ttotal: 521ms\tremaining: 418ms\n",
      "555:\tlearn: 0.1054705\ttotal: 522ms\tremaining: 417ms\n",
      "556:\tlearn: 0.1052185\ttotal: 523ms\tremaining: 416ms\n",
      "557:\tlearn: 0.1050302\ttotal: 523ms\tremaining: 415ms\n",
      "558:\tlearn: 0.1050001\ttotal: 524ms\tremaining: 413ms\n",
      "559:\tlearn: 0.1049677\ttotal: 525ms\tremaining: 412ms\n",
      "560:\tlearn: 0.1047710\ttotal: 526ms\tremaining: 411ms\n",
      "561:\tlearn: 0.1045564\ttotal: 526ms\tremaining: 410ms\n",
      "562:\tlearn: 0.1043933\ttotal: 527ms\tremaining: 409ms\n",
      "563:\tlearn: 0.1041707\ttotal: 528ms\tremaining: 408ms\n",
      "564:\tlearn: 0.1040044\ttotal: 529ms\tremaining: 407ms\n",
      "565:\tlearn: 0.1037666\ttotal: 530ms\tremaining: 406ms\n",
      "566:\tlearn: 0.1035296\ttotal: 531ms\tremaining: 405ms\n",
      "567:\tlearn: 0.1033475\ttotal: 532ms\tremaining: 404ms\n",
      "568:\tlearn: 0.1032491\ttotal: 532ms\tremaining: 403ms\n",
      "569:\tlearn: 0.1031125\ttotal: 533ms\tremaining: 402ms\n",
      "570:\tlearn: 0.1028454\ttotal: 534ms\tremaining: 401ms\n",
      "571:\tlearn: 0.1027893\ttotal: 535ms\tremaining: 400ms\n",
      "572:\tlearn: 0.1027377\ttotal: 536ms\tremaining: 399ms\n",
      "573:\tlearn: 0.1026527\ttotal: 536ms\tremaining: 398ms\n",
      "574:\tlearn: 0.1024384\ttotal: 537ms\tremaining: 397ms\n",
      "575:\tlearn: 0.1022684\ttotal: 538ms\tremaining: 396ms\n",
      "576:\tlearn: 0.1020000\ttotal: 539ms\tremaining: 395ms\n",
      "577:\tlearn: 0.1019199\ttotal: 540ms\tremaining: 394ms\n",
      "578:\tlearn: 0.1018068\ttotal: 541ms\tremaining: 393ms\n",
      "579:\tlearn: 0.1015320\ttotal: 542ms\tremaining: 392ms\n",
      "580:\tlearn: 0.1013496\ttotal: 542ms\tremaining: 391ms\n",
      "581:\tlearn: 0.1012593\ttotal: 543ms\tremaining: 390ms\n",
      "582:\tlearn: 0.1011855\ttotal: 544ms\tremaining: 389ms\n",
      "583:\tlearn: 0.1010392\ttotal: 545ms\tremaining: 388ms\n",
      "584:\tlearn: 0.1007905\ttotal: 546ms\tremaining: 387ms\n",
      "585:\tlearn: 0.1005910\ttotal: 546ms\tremaining: 386ms\n",
      "586:\tlearn: 0.1003594\ttotal: 547ms\tremaining: 385ms\n",
      "587:\tlearn: 0.1002529\ttotal: 548ms\tremaining: 384ms\n",
      "588:\tlearn: 0.1001884\ttotal: 549ms\tremaining: 383ms\n",
      "589:\tlearn: 0.1000075\ttotal: 550ms\tremaining: 382ms\n",
      "590:\tlearn: 0.0999283\ttotal: 550ms\tremaining: 381ms\n",
      "591:\tlearn: 0.0998410\ttotal: 551ms\tremaining: 380ms\n",
      "592:\tlearn: 0.0995540\ttotal: 552ms\tremaining: 379ms\n",
      "593:\tlearn: 0.0993907\ttotal: 553ms\tremaining: 378ms\n",
      "594:\tlearn: 0.0992610\ttotal: 554ms\tremaining: 377ms\n",
      "595:\tlearn: 0.0991645\ttotal: 554ms\tremaining: 376ms\n",
      "596:\tlearn: 0.0989508\ttotal: 555ms\tremaining: 375ms\n",
      "597:\tlearn: 0.0987686\ttotal: 556ms\tremaining: 374ms\n",
      "598:\tlearn: 0.0986058\ttotal: 557ms\tremaining: 373ms\n",
      "599:\tlearn: 0.0984063\ttotal: 558ms\tremaining: 372ms\n",
      "600:\tlearn: 0.0983845\ttotal: 558ms\tremaining: 371ms\n",
      "601:\tlearn: 0.0981961\ttotal: 559ms\tremaining: 370ms\n",
      "602:\tlearn: 0.0979484\ttotal: 560ms\tremaining: 369ms\n",
      "603:\tlearn: 0.0977481\ttotal: 561ms\tremaining: 368ms\n",
      "604:\tlearn: 0.0975110\ttotal: 562ms\tremaining: 367ms\n",
      "605:\tlearn: 0.0973393\ttotal: 563ms\tremaining: 366ms\n",
      "606:\tlearn: 0.0972671\ttotal: 564ms\tremaining: 365ms\n",
      "607:\tlearn: 0.0970447\ttotal: 565ms\tremaining: 364ms\n",
      "608:\tlearn: 0.0967949\ttotal: 565ms\tremaining: 363ms\n",
      "609:\tlearn: 0.0967142\ttotal: 567ms\tremaining: 362ms\n",
      "610:\tlearn: 0.0965976\ttotal: 568ms\tremaining: 361ms\n",
      "611:\tlearn: 0.0965151\ttotal: 568ms\tremaining: 360ms\n",
      "612:\tlearn: 0.0963434\ttotal: 569ms\tremaining: 359ms\n",
      "613:\tlearn: 0.0961487\ttotal: 570ms\tremaining: 358ms\n"
     ]
    },
    {
     "name": "stdout",
     "output_type": "stream",
     "text": [
      "614:\tlearn: 0.0959467\ttotal: 571ms\tremaining: 358ms\n",
      "615:\tlearn: 0.0957729\ttotal: 572ms\tremaining: 357ms\n",
      "616:\tlearn: 0.0955402\ttotal: 573ms\tremaining: 356ms\n",
      "617:\tlearn: 0.0953990\ttotal: 574ms\tremaining: 355ms\n",
      "618:\tlearn: 0.0952723\ttotal: 575ms\tremaining: 354ms\n",
      "619:\tlearn: 0.0951274\ttotal: 576ms\tremaining: 353ms\n",
      "620:\tlearn: 0.0949719\ttotal: 577ms\tremaining: 352ms\n",
      "621:\tlearn: 0.0947058\ttotal: 578ms\tremaining: 351ms\n",
      "622:\tlearn: 0.0944787\ttotal: 579ms\tremaining: 350ms\n",
      "623:\tlearn: 0.0944588\ttotal: 580ms\tremaining: 349ms\n",
      "624:\tlearn: 0.0943744\ttotal: 581ms\tremaining: 348ms\n",
      "625:\tlearn: 0.0942341\ttotal: 582ms\tremaining: 348ms\n",
      "626:\tlearn: 0.0941311\ttotal: 583ms\tremaining: 347ms\n",
      "627:\tlearn: 0.0940142\ttotal: 583ms\tremaining: 346ms\n",
      "628:\tlearn: 0.0939214\ttotal: 584ms\tremaining: 345ms\n",
      "629:\tlearn: 0.0937239\ttotal: 585ms\tremaining: 344ms\n",
      "630:\tlearn: 0.0937060\ttotal: 586ms\tremaining: 342ms\n",
      "631:\tlearn: 0.0935414\ttotal: 586ms\tremaining: 341ms\n",
      "632:\tlearn: 0.0933627\ttotal: 587ms\tremaining: 340ms\n",
      "633:\tlearn: 0.0931827\ttotal: 588ms\tremaining: 339ms\n",
      "634:\tlearn: 0.0930729\ttotal: 589ms\tremaining: 339ms\n",
      "635:\tlearn: 0.0929186\ttotal: 590ms\tremaining: 338ms\n",
      "636:\tlearn: 0.0927447\ttotal: 591ms\tremaining: 337ms\n",
      "637:\tlearn: 0.0926717\ttotal: 591ms\tremaining: 336ms\n",
      "638:\tlearn: 0.0926129\ttotal: 592ms\tremaining: 335ms\n",
      "639:\tlearn: 0.0923601\ttotal: 593ms\tremaining: 334ms\n",
      "640:\tlearn: 0.0921925\ttotal: 594ms\tremaining: 333ms\n",
      "641:\tlearn: 0.0920547\ttotal: 595ms\tremaining: 332ms\n",
      "642:\tlearn: 0.0919304\ttotal: 596ms\tremaining: 331ms\n",
      "643:\tlearn: 0.0919165\ttotal: 596ms\tremaining: 330ms\n",
      "644:\tlearn: 0.0917737\ttotal: 597ms\tremaining: 329ms\n",
      "645:\tlearn: 0.0916029\ttotal: 598ms\tremaining: 328ms\n",
      "646:\tlearn: 0.0915322\ttotal: 599ms\tremaining: 327ms\n",
      "647:\tlearn: 0.0912680\ttotal: 600ms\tremaining: 326ms\n",
      "648:\tlearn: 0.0910361\ttotal: 601ms\tremaining: 325ms\n",
      "649:\tlearn: 0.0908152\ttotal: 601ms\tremaining: 324ms\n",
      "650:\tlearn: 0.0906331\ttotal: 602ms\tremaining: 323ms\n",
      "651:\tlearn: 0.0905523\ttotal: 603ms\tremaining: 322ms\n",
      "652:\tlearn: 0.0904490\ttotal: 604ms\tremaining: 321ms\n",
      "653:\tlearn: 0.0902398\ttotal: 605ms\tremaining: 320ms\n",
      "654:\tlearn: 0.0900597\ttotal: 605ms\tremaining: 319ms\n",
      "655:\tlearn: 0.0898812\ttotal: 606ms\tremaining: 318ms\n",
      "656:\tlearn: 0.0898484\ttotal: 607ms\tremaining: 317ms\n",
      "657:\tlearn: 0.0897309\ttotal: 608ms\tremaining: 316ms\n",
      "658:\tlearn: 0.0894898\ttotal: 609ms\tremaining: 315ms\n",
      "659:\tlearn: 0.0894367\ttotal: 610ms\tremaining: 314ms\n",
      "660:\tlearn: 0.0892853\ttotal: 611ms\tremaining: 313ms\n",
      "661:\tlearn: 0.0890831\ttotal: 612ms\tremaining: 312ms\n",
      "662:\tlearn: 0.0890159\ttotal: 612ms\tremaining: 311ms\n",
      "663:\tlearn: 0.0888606\ttotal: 613ms\tremaining: 310ms\n",
      "664:\tlearn: 0.0887561\ttotal: 614ms\tremaining: 309ms\n",
      "665:\tlearn: 0.0886155\ttotal: 615ms\tremaining: 308ms\n",
      "666:\tlearn: 0.0884441\ttotal: 616ms\tremaining: 307ms\n",
      "667:\tlearn: 0.0882365\ttotal: 617ms\tremaining: 306ms\n",
      "668:\tlearn: 0.0880275\ttotal: 618ms\tremaining: 306ms\n",
      "669:\tlearn: 0.0878424\ttotal: 618ms\tremaining: 305ms\n",
      "670:\tlearn: 0.0876522\ttotal: 619ms\tremaining: 304ms\n",
      "671:\tlearn: 0.0874337\ttotal: 620ms\tremaining: 303ms\n",
      "672:\tlearn: 0.0873650\ttotal: 621ms\tremaining: 302ms\n",
      "673:\tlearn: 0.0872066\ttotal: 622ms\tremaining: 301ms\n",
      "674:\tlearn: 0.0870594\ttotal: 623ms\tremaining: 300ms\n",
      "675:\tlearn: 0.0868930\ttotal: 623ms\tremaining: 299ms\n",
      "676:\tlearn: 0.0867523\ttotal: 624ms\tremaining: 298ms\n",
      "677:\tlearn: 0.0865907\ttotal: 625ms\tremaining: 297ms\n",
      "678:\tlearn: 0.0864360\ttotal: 626ms\tremaining: 296ms\n",
      "679:\tlearn: 0.0862570\ttotal: 627ms\tremaining: 295ms\n",
      "680:\tlearn: 0.0861339\ttotal: 627ms\tremaining: 294ms\n",
      "681:\tlearn: 0.0859543\ttotal: 628ms\tremaining: 293ms\n",
      "682:\tlearn: 0.0857952\ttotal: 629ms\tremaining: 292ms\n",
      "683:\tlearn: 0.0857036\ttotal: 630ms\tremaining: 291ms\n",
      "684:\tlearn: 0.0856353\ttotal: 631ms\tremaining: 290ms\n",
      "685:\tlearn: 0.0854936\ttotal: 632ms\tremaining: 289ms\n",
      "686:\tlearn: 0.0854720\ttotal: 632ms\tremaining: 288ms\n",
      "687:\tlearn: 0.0852568\ttotal: 633ms\tremaining: 287ms\n",
      "688:\tlearn: 0.0851085\ttotal: 634ms\tremaining: 286ms\n",
      "689:\tlearn: 0.0849841\ttotal: 635ms\tremaining: 285ms\n",
      "690:\tlearn: 0.0848034\ttotal: 636ms\tremaining: 284ms\n",
      "691:\tlearn: 0.0846494\ttotal: 636ms\tremaining: 283ms\n",
      "692:\tlearn: 0.0844885\ttotal: 637ms\tremaining: 282ms\n",
      "693:\tlearn: 0.0843757\ttotal: 638ms\tremaining: 281ms\n",
      "694:\tlearn: 0.0841922\ttotal: 639ms\tremaining: 280ms\n",
      "695:\tlearn: 0.0840580\ttotal: 640ms\tremaining: 279ms\n",
      "696:\tlearn: 0.0838987\ttotal: 640ms\tremaining: 278ms\n",
      "697:\tlearn: 0.0836907\ttotal: 641ms\tremaining: 277ms\n",
      "698:\tlearn: 0.0835766\ttotal: 642ms\tremaining: 276ms\n",
      "699:\tlearn: 0.0835596\ttotal: 643ms\tremaining: 276ms\n",
      "700:\tlearn: 0.0834429\ttotal: 644ms\tremaining: 275ms\n",
      "701:\tlearn: 0.0833798\ttotal: 644ms\tremaining: 274ms\n",
      "702:\tlearn: 0.0832342\ttotal: 645ms\tremaining: 273ms\n",
      "703:\tlearn: 0.0831168\ttotal: 646ms\tremaining: 272ms\n",
      "704:\tlearn: 0.0829950\ttotal: 647ms\tremaining: 271ms\n",
      "705:\tlearn: 0.0828574\ttotal: 648ms\tremaining: 270ms\n",
      "706:\tlearn: 0.0828419\ttotal: 649ms\tremaining: 269ms\n",
      "707:\tlearn: 0.0827190\ttotal: 650ms\tremaining: 268ms\n",
      "708:\tlearn: 0.0827066\ttotal: 650ms\tremaining: 267ms\n",
      "709:\tlearn: 0.0826526\ttotal: 651ms\tremaining: 266ms\n",
      "710:\tlearn: 0.0825843\ttotal: 652ms\tremaining: 265ms\n",
      "711:\tlearn: 0.0824751\ttotal: 653ms\tremaining: 264ms\n",
      "712:\tlearn: 0.0823097\ttotal: 654ms\tremaining: 263ms\n",
      "713:\tlearn: 0.0821464\ttotal: 655ms\tremaining: 262ms\n",
      "714:\tlearn: 0.0819551\ttotal: 655ms\tremaining: 261ms\n",
      "715:\tlearn: 0.0817477\ttotal: 656ms\tremaining: 260ms\n",
      "716:\tlearn: 0.0816022\ttotal: 657ms\tremaining: 259ms\n",
      "717:\tlearn: 0.0814563\ttotal: 658ms\tremaining: 258ms\n",
      "718:\tlearn: 0.0814396\ttotal: 659ms\tremaining: 257ms\n",
      "719:\tlearn: 0.0813368\ttotal: 659ms\tremaining: 256ms\n",
      "720:\tlearn: 0.0812685\ttotal: 660ms\tremaining: 255ms\n",
      "721:\tlearn: 0.0811259\ttotal: 661ms\tremaining: 255ms\n",
      "722:\tlearn: 0.0810349\ttotal: 662ms\tremaining: 254ms\n",
      "723:\tlearn: 0.0809373\ttotal: 663ms\tremaining: 253ms\n"
     ]
    },
    {
     "name": "stdout",
     "output_type": "stream",
     "text": [
      "724:\tlearn: 0.0808208\ttotal: 664ms\tremaining: 252ms\n",
      "725:\tlearn: 0.0807225\ttotal: 665ms\tremaining: 251ms\n",
      "726:\tlearn: 0.0805949\ttotal: 666ms\tremaining: 250ms\n",
      "727:\tlearn: 0.0804804\ttotal: 667ms\tremaining: 249ms\n",
      "728:\tlearn: 0.0803541\ttotal: 667ms\tremaining: 248ms\n",
      "729:\tlearn: 0.0801274\ttotal: 668ms\tremaining: 247ms\n",
      "730:\tlearn: 0.0800270\ttotal: 669ms\tremaining: 246ms\n",
      "731:\tlearn: 0.0798770\ttotal: 670ms\tremaining: 245ms\n",
      "732:\tlearn: 0.0797721\ttotal: 671ms\tremaining: 244ms\n",
      "733:\tlearn: 0.0796380\ttotal: 672ms\tremaining: 243ms\n",
      "734:\tlearn: 0.0796236\ttotal: 673ms\tremaining: 242ms\n",
      "735:\tlearn: 0.0795245\ttotal: 673ms\tremaining: 242ms\n",
      "736:\tlearn: 0.0794022\ttotal: 674ms\tremaining: 241ms\n",
      "737:\tlearn: 0.0792630\ttotal: 675ms\tremaining: 240ms\n",
      "738:\tlearn: 0.0792371\ttotal: 676ms\tremaining: 239ms\n",
      "739:\tlearn: 0.0791649\ttotal: 677ms\tremaining: 238ms\n",
      "740:\tlearn: 0.0789666\ttotal: 677ms\tremaining: 237ms\n",
      "741:\tlearn: 0.0788291\ttotal: 678ms\tremaining: 236ms\n",
      "742:\tlearn: 0.0787100\ttotal: 679ms\tremaining: 235ms\n",
      "743:\tlearn: 0.0786247\ttotal: 680ms\tremaining: 234ms\n",
      "744:\tlearn: 0.0784980\ttotal: 681ms\tremaining: 233ms\n",
      "745:\tlearn: 0.0783752\ttotal: 681ms\tremaining: 232ms\n",
      "746:\tlearn: 0.0782494\ttotal: 682ms\tremaining: 231ms\n",
      "747:\tlearn: 0.0781273\ttotal: 683ms\tremaining: 230ms\n",
      "748:\tlearn: 0.0780010\ttotal: 684ms\tremaining: 229ms\n",
      "749:\tlearn: 0.0778783\ttotal: 685ms\tremaining: 228ms\n",
      "750:\tlearn: 0.0777784\ttotal: 685ms\tremaining: 227ms\n",
      "751:\tlearn: 0.0776374\ttotal: 686ms\tremaining: 226ms\n",
      "752:\tlearn: 0.0775208\ttotal: 687ms\tremaining: 225ms\n",
      "753:\tlearn: 0.0773908\ttotal: 688ms\tremaining: 224ms\n",
      "754:\tlearn: 0.0772880\ttotal: 689ms\tremaining: 224ms\n",
      "755:\tlearn: 0.0770910\ttotal: 690ms\tremaining: 223ms\n",
      "756:\tlearn: 0.0770203\ttotal: 691ms\tremaining: 222ms\n",
      "757:\tlearn: 0.0769481\ttotal: 691ms\tremaining: 221ms\n",
      "758:\tlearn: 0.0768643\ttotal: 692ms\tremaining: 220ms\n",
      "759:\tlearn: 0.0767003\ttotal: 693ms\tremaining: 219ms\n",
      "760:\tlearn: 0.0766452\ttotal: 694ms\tremaining: 218ms\n",
      "761:\tlearn: 0.0764917\ttotal: 695ms\tremaining: 217ms\n",
      "762:\tlearn: 0.0763525\ttotal: 695ms\tremaining: 216ms\n",
      "763:\tlearn: 0.0762246\ttotal: 696ms\tremaining: 215ms\n",
      "764:\tlearn: 0.0760888\ttotal: 697ms\tremaining: 214ms\n",
      "765:\tlearn: 0.0759839\ttotal: 698ms\tremaining: 213ms\n",
      "766:\tlearn: 0.0758767\ttotal: 699ms\tremaining: 212ms\n",
      "767:\tlearn: 0.0757913\ttotal: 700ms\tremaining: 211ms\n",
      "768:\tlearn: 0.0756234\ttotal: 700ms\tremaining: 210ms\n",
      "769:\tlearn: 0.0754363\ttotal: 701ms\tremaining: 209ms\n",
      "770:\tlearn: 0.0752536\ttotal: 702ms\tremaining: 209ms\n",
      "771:\tlearn: 0.0751810\ttotal: 703ms\tremaining: 208ms\n",
      "772:\tlearn: 0.0750507\ttotal: 704ms\tremaining: 207ms\n",
      "773:\tlearn: 0.0749171\ttotal: 704ms\tremaining: 206ms\n",
      "774:\tlearn: 0.0748580\ttotal: 705ms\tremaining: 205ms\n",
      "775:\tlearn: 0.0747572\ttotal: 706ms\tremaining: 204ms\n",
      "776:\tlearn: 0.0746469\ttotal: 707ms\tremaining: 203ms\n",
      "777:\tlearn: 0.0745515\ttotal: 708ms\tremaining: 202ms\n",
      "778:\tlearn: 0.0745132\ttotal: 709ms\tremaining: 201ms\n",
      "779:\tlearn: 0.0743731\ttotal: 709ms\tremaining: 200ms\n",
      "780:\tlearn: 0.0742708\ttotal: 710ms\tremaining: 199ms\n",
      "781:\tlearn: 0.0741610\ttotal: 711ms\tremaining: 198ms\n",
      "782:\tlearn: 0.0740540\ttotal: 712ms\tremaining: 197ms\n",
      "783:\tlearn: 0.0738674\ttotal: 713ms\tremaining: 196ms\n",
      "784:\tlearn: 0.0738530\ttotal: 714ms\tremaining: 195ms\n",
      "785:\tlearn: 0.0738091\ttotal: 714ms\tremaining: 195ms\n",
      "786:\tlearn: 0.0737165\ttotal: 715ms\tremaining: 194ms\n",
      "787:\tlearn: 0.0736984\ttotal: 716ms\tremaining: 193ms\n",
      "788:\tlearn: 0.0736248\ttotal: 717ms\tremaining: 192ms\n",
      "789:\tlearn: 0.0735813\ttotal: 718ms\tremaining: 191ms\n",
      "790:\tlearn: 0.0733852\ttotal: 718ms\tremaining: 190ms\n",
      "791:\tlearn: 0.0733146\ttotal: 719ms\tremaining: 189ms\n",
      "792:\tlearn: 0.0732393\ttotal: 720ms\tremaining: 188ms\n",
      "793:\tlearn: 0.0731195\ttotal: 721ms\tremaining: 187ms\n",
      "794:\tlearn: 0.0730684\ttotal: 722ms\tremaining: 186ms\n",
      "795:\tlearn: 0.0729781\ttotal: 723ms\tremaining: 185ms\n",
      "796:\tlearn: 0.0728471\ttotal: 724ms\tremaining: 184ms\n",
      "797:\tlearn: 0.0727437\ttotal: 725ms\tremaining: 183ms\n",
      "798:\tlearn: 0.0726833\ttotal: 725ms\tremaining: 182ms\n",
      "799:\tlearn: 0.0726615\ttotal: 726ms\tremaining: 182ms\n",
      "800:\tlearn: 0.0724742\ttotal: 727ms\tremaining: 181ms\n",
      "801:\tlearn: 0.0723724\ttotal: 728ms\tremaining: 180ms\n",
      "802:\tlearn: 0.0722723\ttotal: 729ms\tremaining: 179ms\n",
      "803:\tlearn: 0.0721103\ttotal: 729ms\tremaining: 178ms\n",
      "804:\tlearn: 0.0720193\ttotal: 730ms\tremaining: 177ms\n",
      "805:\tlearn: 0.0719578\ttotal: 731ms\tremaining: 176ms\n",
      "806:\tlearn: 0.0718623\ttotal: 732ms\tremaining: 175ms\n",
      "807:\tlearn: 0.0717900\ttotal: 733ms\tremaining: 174ms\n",
      "808:\tlearn: 0.0717754\ttotal: 733ms\tremaining: 173ms\n",
      "809:\tlearn: 0.0716137\ttotal: 734ms\tremaining: 172ms\n",
      "810:\tlearn: 0.0715328\ttotal: 735ms\tremaining: 171ms\n",
      "811:\tlearn: 0.0713652\ttotal: 736ms\tremaining: 170ms\n",
      "812:\tlearn: 0.0712632\ttotal: 737ms\tremaining: 170ms\n",
      "813:\tlearn: 0.0711450\ttotal: 738ms\tremaining: 169ms\n",
      "814:\tlearn: 0.0710227\ttotal: 739ms\tremaining: 168ms\n",
      "815:\tlearn: 0.0709412\ttotal: 740ms\tremaining: 167ms\n",
      "816:\tlearn: 0.0708222\ttotal: 741ms\tremaining: 166ms\n",
      "817:\tlearn: 0.0707004\ttotal: 742ms\tremaining: 165ms\n",
      "818:\tlearn: 0.0705759\ttotal: 742ms\tremaining: 164ms\n",
      "819:\tlearn: 0.0705033\ttotal: 743ms\tremaining: 163ms\n",
      "820:\tlearn: 0.0704448\ttotal: 744ms\tremaining: 162ms\n",
      "821:\tlearn: 0.0703661\ttotal: 745ms\tremaining: 161ms\n",
      "822:\tlearn: 0.0702203\ttotal: 746ms\tremaining: 160ms\n"
     ]
    },
    {
     "name": "stdout",
     "output_type": "stream",
     "text": [
      "823:\tlearn: 0.0701165\ttotal: 747ms\tremaining: 160ms\n",
      "824:\tlearn: 0.0700355\ttotal: 748ms\tremaining: 159ms\n",
      "825:\tlearn: 0.0698683\ttotal: 749ms\tremaining: 158ms\n",
      "826:\tlearn: 0.0696871\ttotal: 749ms\tremaining: 157ms\n",
      "827:\tlearn: 0.0695924\ttotal: 750ms\tremaining: 156ms\n",
      "828:\tlearn: 0.0695554\ttotal: 751ms\tremaining: 155ms\n",
      "829:\tlearn: 0.0695326\ttotal: 752ms\tremaining: 154ms\n",
      "830:\tlearn: 0.0695190\ttotal: 753ms\tremaining: 153ms\n",
      "831:\tlearn: 0.0694246\ttotal: 754ms\tremaining: 152ms\n",
      "832:\tlearn: 0.0693539\ttotal: 754ms\tremaining: 151ms\n",
      "833:\tlearn: 0.0692933\ttotal: 755ms\tremaining: 150ms\n",
      "834:\tlearn: 0.0691621\ttotal: 756ms\tremaining: 149ms\n",
      "835:\tlearn: 0.0689541\ttotal: 757ms\tremaining: 148ms\n",
      "836:\tlearn: 0.0688836\ttotal: 758ms\tremaining: 148ms\n",
      "837:\tlearn: 0.0687557\ttotal: 759ms\tremaining: 147ms\n",
      "838:\tlearn: 0.0686450\ttotal: 760ms\tremaining: 146ms\n",
      "839:\tlearn: 0.0685207\ttotal: 760ms\tremaining: 145ms\n",
      "840:\tlearn: 0.0684155\ttotal: 761ms\tremaining: 144ms\n",
      "841:\tlearn: 0.0683552\ttotal: 762ms\tremaining: 143ms\n",
      "842:\tlearn: 0.0682222\ttotal: 763ms\tremaining: 142ms\n",
      "843:\tlearn: 0.0681125\ttotal: 764ms\tremaining: 141ms\n",
      "844:\tlearn: 0.0680424\ttotal: 765ms\tremaining: 140ms\n",
      "845:\tlearn: 0.0679729\ttotal: 765ms\tremaining: 139ms\n",
      "846:\tlearn: 0.0679223\ttotal: 766ms\tremaining: 138ms\n",
      "847:\tlearn: 0.0678692\ttotal: 767ms\tremaining: 137ms\n",
      "848:\tlearn: 0.0678587\ttotal: 768ms\tremaining: 137ms\n",
      "849:\tlearn: 0.0677977\ttotal: 769ms\tremaining: 136ms\n",
      "850:\tlearn: 0.0676784\ttotal: 770ms\tremaining: 135ms\n",
      "851:\tlearn: 0.0675946\ttotal: 770ms\tremaining: 134ms\n",
      "852:\tlearn: 0.0675740\ttotal: 771ms\tremaining: 133ms\n",
      "853:\tlearn: 0.0675198\ttotal: 772ms\tremaining: 132ms\n",
      "854:\tlearn: 0.0674965\ttotal: 773ms\tremaining: 131ms\n",
      "855:\tlearn: 0.0673841\ttotal: 774ms\tremaining: 130ms\n",
      "856:\tlearn: 0.0672970\ttotal: 774ms\tremaining: 129ms\n",
      "857:\tlearn: 0.0671374\ttotal: 775ms\tremaining: 128ms\n",
      "858:\tlearn: 0.0670494\ttotal: 776ms\tremaining: 127ms\n",
      "859:\tlearn: 0.0670345\ttotal: 777ms\tremaining: 126ms\n",
      "860:\tlearn: 0.0669702\ttotal: 778ms\tremaining: 126ms\n",
      "861:\tlearn: 0.0669576\ttotal: 779ms\tremaining: 125ms\n",
      "862:\tlearn: 0.0668805\ttotal: 780ms\tremaining: 124ms\n",
      "863:\tlearn: 0.0667414\ttotal: 781ms\tremaining: 123ms\n",
      "864:\tlearn: 0.0666344\ttotal: 782ms\tremaining: 122ms\n",
      "865:\tlearn: 0.0665668\ttotal: 782ms\tremaining: 121ms\n",
      "866:\tlearn: 0.0664684\ttotal: 783ms\tremaining: 120ms\n",
      "867:\tlearn: 0.0663840\ttotal: 784ms\tremaining: 119ms\n",
      "868:\tlearn: 0.0663092\ttotal: 785ms\tremaining: 118ms\n",
      "869:\tlearn: 0.0661817\ttotal: 785ms\tremaining: 117ms\n",
      "870:\tlearn: 0.0660959\ttotal: 786ms\tremaining: 116ms\n",
      "871:\tlearn: 0.0660033\ttotal: 787ms\tremaining: 116ms\n",
      "872:\tlearn: 0.0659249\ttotal: 788ms\tremaining: 115ms\n",
      "873:\tlearn: 0.0658065\ttotal: 789ms\tremaining: 114ms\n",
      "874:\tlearn: 0.0657442\ttotal: 789ms\tremaining: 113ms\n",
      "875:\tlearn: 0.0656619\ttotal: 790ms\tremaining: 112ms\n",
      "876:\tlearn: 0.0656007\ttotal: 791ms\tremaining: 111ms\n",
      "877:\tlearn: 0.0654257\ttotal: 792ms\tremaining: 110ms\n",
      "878:\tlearn: 0.0653259\ttotal: 793ms\tremaining: 109ms\n",
      "879:\tlearn: 0.0652548\ttotal: 794ms\tremaining: 108ms\n",
      "880:\tlearn: 0.0651311\ttotal: 795ms\tremaining: 107ms\n",
      "881:\tlearn: 0.0650566\ttotal: 795ms\tremaining: 106ms\n",
      "882:\tlearn: 0.0648863\ttotal: 796ms\tremaining: 106ms\n",
      "883:\tlearn: 0.0647922\ttotal: 797ms\tremaining: 105ms\n",
      "884:\tlearn: 0.0647305\ttotal: 798ms\tremaining: 104ms\n",
      "885:\tlearn: 0.0646407\ttotal: 799ms\tremaining: 103ms\n",
      "886:\tlearn: 0.0645262\ttotal: 799ms\tremaining: 102ms\n",
      "887:\tlearn: 0.0643950\ttotal: 800ms\tremaining: 101ms\n",
      "888:\tlearn: 0.0643130\ttotal: 801ms\tremaining: 100ms\n",
      "889:\tlearn: 0.0642085\ttotal: 802ms\tremaining: 99.1ms\n",
      "890:\tlearn: 0.0641013\ttotal: 803ms\tremaining: 98.2ms\n",
      "891:\tlearn: 0.0640139\ttotal: 804ms\tremaining: 97.3ms\n",
      "892:\tlearn: 0.0639442\ttotal: 805ms\tremaining: 96.4ms\n",
      "893:\tlearn: 0.0638139\ttotal: 806ms\tremaining: 95.5ms\n",
      "894:\tlearn: 0.0637168\ttotal: 807ms\tremaining: 94.6ms\n",
      "895:\tlearn: 0.0636685\ttotal: 807ms\tremaining: 93.7ms\n",
      "896:\tlearn: 0.0635944\ttotal: 808ms\tremaining: 92.8ms\n",
      "897:\tlearn: 0.0635525\ttotal: 809ms\tremaining: 91.9ms\n",
      "898:\tlearn: 0.0634769\ttotal: 810ms\tremaining: 91ms\n",
      "899:\tlearn: 0.0634650\ttotal: 810ms\tremaining: 90ms\n",
      "900:\tlearn: 0.0634000\ttotal: 811ms\tremaining: 89.1ms\n",
      "901:\tlearn: 0.0633838\ttotal: 812ms\tremaining: 88.2ms\n",
      "902:\tlearn: 0.0632489\ttotal: 813ms\tremaining: 87.3ms\n",
      "903:\tlearn: 0.0632091\ttotal: 814ms\tremaining: 86.4ms\n",
      "904:\tlearn: 0.0630831\ttotal: 814ms\tremaining: 85.5ms\n",
      "905:\tlearn: 0.0630667\ttotal: 815ms\tremaining: 84.6ms\n",
      "906:\tlearn: 0.0629662\ttotal: 816ms\tremaining: 83.7ms\n",
      "907:\tlearn: 0.0629554\ttotal: 817ms\tremaining: 82.8ms\n",
      "908:\tlearn: 0.0628542\ttotal: 818ms\tremaining: 81.9ms\n",
      "909:\tlearn: 0.0627243\ttotal: 819ms\tremaining: 81ms\n",
      "910:\tlearn: 0.0626267\ttotal: 820ms\tremaining: 80.1ms\n",
      "911:\tlearn: 0.0624840\ttotal: 821ms\tremaining: 79.2ms\n",
      "912:\tlearn: 0.0623896\ttotal: 822ms\tremaining: 78.3ms\n",
      "913:\tlearn: 0.0622848\ttotal: 822ms\tremaining: 77.4ms\n",
      "914:\tlearn: 0.0621270\ttotal: 823ms\tremaining: 76.5ms\n",
      "915:\tlearn: 0.0619996\ttotal: 824ms\tremaining: 75.6ms\n",
      "916:\tlearn: 0.0618447\ttotal: 825ms\tremaining: 74.6ms\n",
      "917:\tlearn: 0.0617865\ttotal: 826ms\tremaining: 73.7ms\n",
      "918:\tlearn: 0.0616559\ttotal: 826ms\tremaining: 72.8ms\n",
      "919:\tlearn: 0.0614860\ttotal: 827ms\tremaining: 71.9ms\n",
      "920:\tlearn: 0.0613356\ttotal: 828ms\tremaining: 71ms\n",
      "921:\tlearn: 0.0612700\ttotal: 829ms\tremaining: 70.1ms\n",
      "922:\tlearn: 0.0611598\ttotal: 830ms\tremaining: 69.2ms\n",
      "923:\tlearn: 0.0611462\ttotal: 831ms\tremaining: 68.3ms\n",
      "924:\tlearn: 0.0610830\ttotal: 832ms\tremaining: 67.4ms\n",
      "925:\tlearn: 0.0609747\ttotal: 832ms\tremaining: 66.5ms\n",
      "926:\tlearn: 0.0608625\ttotal: 833ms\tremaining: 65.6ms\n",
      "927:\tlearn: 0.0607436\ttotal: 834ms\tremaining: 64.7ms\n",
      "928:\tlearn: 0.0606756\ttotal: 835ms\tremaining: 63.8ms\n",
      "929:\tlearn: 0.0605579\ttotal: 836ms\tremaining: 62.9ms\n",
      "930:\tlearn: 0.0604708\ttotal: 837ms\tremaining: 62ms\n",
      "931:\tlearn: 0.0604020\ttotal: 837ms\tremaining: 61.1ms\n",
      "932:\tlearn: 0.0602744\ttotal: 838ms\tremaining: 60.2ms\n",
      "933:\tlearn: 0.0601761\ttotal: 839ms\tremaining: 59.3ms\n",
      "934:\tlearn: 0.0601651\ttotal: 840ms\tremaining: 58.4ms\n",
      "935:\tlearn: 0.0601147\ttotal: 840ms\tremaining: 57.5ms\n",
      "936:\tlearn: 0.0600226\ttotal: 841ms\tremaining: 56.6ms\n",
      "937:\tlearn: 0.0598935\ttotal: 842ms\tremaining: 55.6ms\n",
      "938:\tlearn: 0.0597752\ttotal: 843ms\tremaining: 54.8ms\n",
      "939:\tlearn: 0.0597379\ttotal: 844ms\tremaining: 53.8ms\n",
      "940:\tlearn: 0.0596235\ttotal: 845ms\tremaining: 53ms\n",
      "941:\tlearn: 0.0594993\ttotal: 845ms\tremaining: 52.1ms\n",
      "942:\tlearn: 0.0594129\ttotal: 846ms\tremaining: 51.2ms\n",
      "943:\tlearn: 0.0593957\ttotal: 847ms\tremaining: 50.2ms\n",
      "944:\tlearn: 0.0593357\ttotal: 848ms\tremaining: 49.3ms\n",
      "945:\tlearn: 0.0592115\ttotal: 849ms\tremaining: 48.4ms\n",
      "946:\tlearn: 0.0590723\ttotal: 849ms\tremaining: 47.5ms\n",
      "947:\tlearn: 0.0590162\ttotal: 850ms\tremaining: 46.6ms\n",
      "948:\tlearn: 0.0589337\ttotal: 851ms\tremaining: 45.7ms\n",
      "949:\tlearn: 0.0588646\ttotal: 852ms\tremaining: 44.8ms\n",
      "950:\tlearn: 0.0587898\ttotal: 853ms\tremaining: 43.9ms\n",
      "951:\tlearn: 0.0587255\ttotal: 853ms\tremaining: 43ms\n"
     ]
    },
    {
     "name": "stdout",
     "output_type": "stream",
     "text": [
      "952:\tlearn: 0.0586555\ttotal: 854ms\tremaining: 42.1ms\n",
      "953:\tlearn: 0.0585267\ttotal: 855ms\tremaining: 41.2ms\n",
      "954:\tlearn: 0.0585146\ttotal: 856ms\tremaining: 40.3ms\n",
      "955:\tlearn: 0.0584712\ttotal: 857ms\tremaining: 39.4ms\n",
      "956:\tlearn: 0.0584193\ttotal: 858ms\tremaining: 38.5ms\n",
      "957:\tlearn: 0.0584080\ttotal: 859ms\tremaining: 37.6ms\n",
      "958:\tlearn: 0.0583047\ttotal: 859ms\tremaining: 36.7ms\n",
      "959:\tlearn: 0.0581898\ttotal: 860ms\tremaining: 35.8ms\n",
      "960:\tlearn: 0.0580728\ttotal: 861ms\tremaining: 34.9ms\n",
      "961:\tlearn: 0.0580631\ttotal: 862ms\tremaining: 34ms\n",
      "962:\tlearn: 0.0579752\ttotal: 863ms\tremaining: 33.1ms\n",
      "963:\tlearn: 0.0578895\ttotal: 863ms\tremaining: 32.2ms\n",
      "964:\tlearn: 0.0578437\ttotal: 864ms\tremaining: 31.3ms\n",
      "965:\tlearn: 0.0577256\ttotal: 865ms\tremaining: 30.4ms\n",
      "966:\tlearn: 0.0576287\ttotal: 866ms\tremaining: 29.5ms\n",
      "967:\tlearn: 0.0575046\ttotal: 866ms\tremaining: 28.6ms\n",
      "968:\tlearn: 0.0574817\ttotal: 867ms\tremaining: 27.7ms\n",
      "969:\tlearn: 0.0573515\ttotal: 868ms\tremaining: 26.9ms\n",
      "970:\tlearn: 0.0572937\ttotal: 869ms\tremaining: 26ms\n",
      "971:\tlearn: 0.0571930\ttotal: 870ms\tremaining: 25.1ms\n",
      "972:\tlearn: 0.0570686\ttotal: 871ms\tremaining: 24.2ms\n",
      "973:\tlearn: 0.0570129\ttotal: 872ms\tremaining: 23.3ms\n",
      "974:\tlearn: 0.0569423\ttotal: 872ms\tremaining: 22.4ms\n",
      "975:\tlearn: 0.0568841\ttotal: 873ms\tremaining: 21.5ms\n",
      "976:\tlearn: 0.0568047\ttotal: 874ms\tremaining: 20.6ms\n",
      "977:\tlearn: 0.0566619\ttotal: 876ms\tremaining: 19.7ms\n",
      "978:\tlearn: 0.0565713\ttotal: 876ms\tremaining: 18.8ms\n",
      "979:\tlearn: 0.0565063\ttotal: 877ms\tremaining: 17.9ms\n",
      "980:\tlearn: 0.0564575\ttotal: 878ms\tremaining: 17ms\n",
      "981:\tlearn: 0.0564502\ttotal: 879ms\tremaining: 16.1ms\n",
      "982:\tlearn: 0.0564257\ttotal: 879ms\tremaining: 15.2ms\n",
      "983:\tlearn: 0.0563594\ttotal: 880ms\tremaining: 14.3ms\n",
      "984:\tlearn: 0.0563013\ttotal: 881ms\tremaining: 13.4ms\n",
      "985:\tlearn: 0.0562432\ttotal: 882ms\tremaining: 12.5ms\n",
      "986:\tlearn: 0.0561814\ttotal: 883ms\tremaining: 11.6ms\n",
      "987:\tlearn: 0.0561733\ttotal: 884ms\tremaining: 10.7ms\n",
      "988:\tlearn: 0.0560993\ttotal: 884ms\tremaining: 9.84ms\n",
      "989:\tlearn: 0.0559798\ttotal: 885ms\tremaining: 8.94ms\n",
      "990:\tlearn: 0.0558805\ttotal: 886ms\tremaining: 8.05ms\n",
      "991:\tlearn: 0.0558162\ttotal: 887ms\tremaining: 7.15ms\n",
      "992:\tlearn: 0.0556767\ttotal: 888ms\tremaining: 6.26ms\n",
      "993:\tlearn: 0.0555611\ttotal: 889ms\tremaining: 5.36ms\n",
      "994:\tlearn: 0.0555125\ttotal: 890ms\tremaining: 4.47ms\n",
      "995:\tlearn: 0.0554278\ttotal: 890ms\tremaining: 3.58ms\n",
      "996:\tlearn: 0.0553381\ttotal: 891ms\tremaining: 2.68ms\n",
      "997:\tlearn: 0.0552970\ttotal: 892ms\tremaining: 1.79ms\n",
      "998:\tlearn: 0.0552787\ttotal: 893ms\tremaining: 893us\n",
      "999:\tlearn: 0.0551873\ttotal: 894ms\tremaining: 0us\n"
     ]
    },
    {
     "data": {
      "text/plain": [
       "<catboost.core.CatBoostRegressor at 0x7fb6497727f0>"
      ]
     },
     "execution_count": 9,
     "metadata": {},
     "output_type": "execute_result"
    }
   ],
   "source": [
    "#Train the Model \n",
    "prior_model = ctb.CatBoostRegressor()\n",
    "prior_model.fit(X_train,Y_train)"
   ]
  },
  {
   "cell_type": "code",
   "execution_count": 10,
   "id": "af65dcda",
   "metadata": {
    "execution": {
     "iopub.execute_input": "2022-06-12T06:33:24.018808Z",
     "iopub.status.busy": "2022-06-12T06:33:24.018426Z",
     "iopub.status.idle": "2022-06-12T06:33:24.026099Z",
     "shell.execute_reply": "2022-06-12T06:33:24.026459Z"
    },
    "id": "af65dcda",
    "papermill": {
     "duration": 0.020943,
     "end_time": "2022-06-12T06:33:24.026579",
     "exception": false,
     "start_time": "2022-06-12T06:33:24.005636",
     "status": "completed"
    },
    "tags": []
   },
   "outputs": [
    {
     "data": {
      "application/scrapbook.scrap.json+json": {
       "data": 0.08271818450494353,
       "encoder": "json",
       "name": "Prior Model MSE",
       "version": 1
      }
     },
     "metadata": {
      "scrapbook": {
       "data": true,
       "display": false,
       "name": "Prior Model MSE"
      }
     },
     "output_type": "display_data"
    },
    {
     "data": {
      "application/scrapbook.scrap.json+json": {
       "data": 0.09391224485698096,
       "encoder": "json",
       "name": "ABC Pre-generator MSE",
       "version": 1
      }
     },
     "metadata": {
      "scrapbook": {
       "data": true,
       "display": false,
       "name": "ABC Pre-generator MSE"
      }
     },
     "output_type": "display_data"
    },
    {
     "data": {
      "application/scrapbook.scrap.json+json": {
       "data": 0.19897202966573369,
       "encoder": "json",
       "name": "Prior Model MSE",
       "version": 1
      }
     },
     "metadata": {
      "scrapbook": {
       "data": true,
       "display": false,
       "name": "Prior Model MSE"
      }
     },
     "output_type": "display_data"
    },
    {
     "data": {
      "application/scrapbook.scrap.json+json": {
       "data": 0.22590528515328961,
       "encoder": "json",
       "name": "ABC Pre-generator MSE",
       "version": 1
      }
     },
     "metadata": {
      "scrapbook": {
       "data": true,
       "display": false,
       "name": "ABC Pre-generator MSE"
      }
     },
     "output_type": "display_data"
    }
   ],
   "source": [
    "y_pred = prior_model.predict(X_test)\n",
    "y_abc = y_pred + np.random.normal(0,variance, y_pred.shape) + bias \n",
    "mse = mean_squared_error(y_pred,Y_test)\n",
    "sb.glue(\"Prior Model MSE\",mse)\n",
    "mse = mean_squared_error(y_abc,Y_test)\n",
    "sb.glue(\"ABC Pre-generator MSE\",mse)\n",
    "mae = mean_absolute_error(y_pred,Y_test)\n",
    "sb.glue(\"Prior Model MSE\",mae)\n",
    "mae = mean_absolute_error(y_abc,Y_test)\n",
    "sb.glue(\"ABC Pre-generator MSE\",mae)"
   ]
  },
  {
   "cell_type": "markdown",
   "id": "25609da2",
   "metadata": {
    "papermill": {
     "duration": 0.009751,
     "end_time": "2022-06-12T06:33:24.046442",
     "exception": false,
     "start_time": "2022-06-12T06:33:24.036691",
     "status": "completed"
    },
    "tags": []
   },
   "source": [
    "# ABC GAN Model"
   ]
  },
  {
   "cell_type": "code",
   "execution_count": 11,
   "id": "dfc3464d",
   "metadata": {
    "execution": {
     "iopub.execute_input": "2022-06-12T06:33:24.069108Z",
     "iopub.status.busy": "2022-06-12T06:33:24.068734Z",
     "iopub.status.idle": "2022-06-12T06:33:24.071318Z",
     "shell.execute_reply": "2022-06-12T06:33:24.071559Z"
    },
    "papermill": {
     "duration": 0.015309,
     "end_time": "2022-06-12T06:33:24.071671",
     "exception": false,
     "start_time": "2022-06-12T06:33:24.056362",
     "status": "completed"
    },
    "tags": []
   },
   "outputs": [],
   "source": [
    "gen = network.Generator(n_features+1).to(device)\n",
    "disc = network.Discriminator(n_features+1).to(device)\n",
    "\n",
    "criterion = torch.nn.BCELoss()\n",
    "gen_opt = torch.optim.Adam(gen.parameters(), lr=0.001, betas=(0.5, 0.999))\n",
    "disc_opt = torch.optim.Adam(disc.parameters(), lr=0.001, betas=(0.5, 0.999))"
   ]
  },
  {
   "cell_type": "code",
   "execution_count": 12,
   "id": "b75fdd85",
   "metadata": {
    "execution": {
     "iopub.execute_input": "2022-06-12T06:33:24.094257Z",
     "iopub.status.busy": "2022-06-12T06:33:24.093897Z",
     "iopub.status.idle": "2022-06-12T06:34:25.116843Z",
     "shell.execute_reply": "2022-06-12T06:34:25.117232Z"
    },
    "papermill": {
     "duration": 61.035694,
     "end_time": "2022-06-12T06:34:25.117359",
     "exception": false,
     "start_time": "2022-06-12T06:33:24.081665",
     "status": "completed"
    },
    "tags": []
   },
   "outputs": [
    {
     "data": {
      "image/png": "[encoded data removed]",
      "text/plain": [
       "<Figure size 432x288 with 1 Axes>"
      ]
     },
     "metadata": {
      "needs_background": "light"
     },
     "output_type": "display_data"
    },
    {
     "data": {
      "image/png": "[encoded data removed]",
      "text/plain": [
       "<Figure size 432x288 with 1 Axes>"
      ]
     },
     "metadata": {
      "needs_background": "light"
     },
     "output_type": "display_data"
    }
   ],
   "source": [
    "#Training the ABC_GAN \n",
    "ABC_train_test2.training_GAN(disc,gen,disc_opt,gen_opt,train_data,batch_size,n_epochs,criterion,prior_model,variance,bias,device)"
   ]
  },
  {
   "cell_type": "code",
   "execution_count": 13,
   "id": "1fa7c368",
   "metadata": {
    "execution": {
     "iopub.execute_input": "2022-06-12T06:34:25.141850Z",
     "iopub.status.busy": "2022-06-12T06:34:25.141460Z",
     "iopub.status.idle": "2022-06-12T06:34:25.454980Z",
     "shell.execute_reply": "2022-06-12T06:34:25.455332Z"
    },
    "papermill": {
     "duration": 0.327103,
     "end_time": "2022-06-12T06:34:25.455468",
     "exception": false,
     "start_time": "2022-06-12T06:34:25.128365",
     "status": "completed"
    },
    "tags": []
   },
   "outputs": [
    {
     "data": {
      "application/scrapbook.scrap.json+json": {
       "data": 0.08339038702041178,
       "encoder": "json",
       "name": "ABC-GAN Model 1 MSE",
       "version": 1
      }
     },
     "metadata": {
      "scrapbook": {
       "data": true,
       "display": false,
       "name": "ABC-GAN Model 1 MSE"
      }
     },
     "output_type": "display_data"
    },
    {
     "data": {
      "application/scrapbook.scrap.json+json": {
       "data": 0.19798431777304001,
       "encoder": "json",
       "name": "ABC-GAN Model 1 MAE",
       "version": 1
      }
     },
     "metadata": {
      "scrapbook": {
       "data": true,
       "display": false,
       "name": "ABC-GAN Model 1 MAE"
      }
     },
     "output_type": "display_data"
    },
    {
     "data": {
      "application/scrapbook.scrap.json+json": {
       "data": 20.194400412850083,
       "encoder": "json",
       "name": "ABC-GAN Model 1 Manhattan Distance",
       "version": 1
      }
     },
     "metadata": {
      "scrapbook": {
       "data": true,
       "display": false,
       "name": "ABC-GAN Model 1 Manhattan Distance"
      }
     },
     "output_type": "display_data"
    },
    {
     "data": {
      "application/scrapbook.scrap.json+json": {
       "data": 2.9155015696659174,
       "encoder": "json",
       "name": "ABC-GAN Model 1 Euclidean distance",
       "version": 1
      }
     },
     "metadata": {
      "scrapbook": {
       "data": true,
       "display": false,
       "name": "ABC-GAN Model 1 Euclidean distance"
      }
     },
     "output_type": "display_data"
    },
    {
     "data": {
      "application/scrapbook.scrap.json+json": {
       "data": [
        [
         0.08387210835191984,
         0.0891340869816636,
         0.08441343312463344,
         0.07569418147707027,
         0.08780875848415821,
         0.08170180049474655,
         0.08458121272799164,
         0.0775993520496919,
         0.08245428740368614,
         0.08645772748138654,
         0.0823340741595514,
         0.08190124224768558,
         0.08187918291630684,
         0.08320373869358628,
         0.08659310392475267,
         0.08671214898466699,
         0.08075080275463974,
         0.08363697040249196,
         0.07829134061252936,
         0.07551636933279436,
         0.08419488725880193,
         0.08575415703046062,
         0.07359836571476858,
         0.08794071645719755,
         0.07824978163450498,
         0.08736483626258588,
         0.08346196800808758,
         0.08465700964744524,
         0.08475783719634583,
         0.07397379574338864,
         0.08404347794265747,
         0.08481409140563276,
         0.08313518300677832,
         0.07845926350609532,
         0.08339748348852642,
         0.08927835759407589,
         0.0875726830571512,
         0.07572823272601832,
         0.08062472197812835,
         0.08638728819246463,
         0.08730501488625636,
         0.08557090010055862,
         0.07724655237104863,
         0.08066358118115001,
         0.0944579186284028,
         0.085575427829413,
         0.07985546778947059,
         0.08420329864161215,
         0.08494804829011551,
         0.0857836486294065,
         0.08541396906883815,
         0.07896145821607378,
         0.0888439370386315,
         0.07879729414834806,
         0.09334208914778593,
         0.08164864398730183,
         0.09050352308528552,
         0.08170928207044198,
         0.0849004182598645,
         0.08922750308886665,
         0.08375558572639928,
         0.07623122269585188,
         0.08215978634579266,
         0.08241865363611747,
         0.08463930169431863,
         0.08798565522317803,
         0.08600366347047075,
         0.08466580257819153,
         0.07842213355191446,
         0.08909836497362851,
         0.08846346099367465,
         0.08550379010589568,
         0.07790608849477337,
         0.0835490215396026,
         0.0770301001651585,
         0.08422035993663957,
         0.07876396973700919,
         0.07585628964295164,
         0.08267272930794632,
         0.08882582261191875,
         0.07454722288753893,
         0.08533660197954814,
         0.08205473048176602,
         0.08177506020717454,
         0.07742959783158283,
         0.08039361393288902,
         0.08308804256313278,
         0.08038088025312627,
         0.08784494426350012,
         0.08195746810480795,
         0.08343516203736716,
         0.08629981983518445,
         0.08380785791923685,
         0.09118935333013885,
         0.0829744901181897,
         0.08130499838020276,
         0.08563127523662935,
         0.09154348397908538,
         0.0824653562687659,
         0.08651890308393605
        ],
        [
         0.1973483453084733,
         0.2032746511383676,
         0.20225397689158425,
         0.19335848818003548,
         0.20140504553987115,
         0.1927315832535718,
         0.19522540828249618,
         0.1952292455506383,
         0.19410762426388614,
         0.20239090709490518,
         0.19753756558559105,
         0.19533375400465494,
         0.19402394613579793,
         0.19653071085100665,
         0.19800370685098803,
         0.20011110262324414,
         0.19156662223166696,
         0.19550873202216976,
         0.19211270640074624,
         0.182547643433745,
         0.20415850927797602,
         0.207792809360898,
         0.1865658077283525,
         0.19795960606094085,
         0.18922566792325063,
         0.20317743910366998,
         0.19548532996764956,
         0.19849248363764263,
         0.20201934620226716,
         0.188537189791746,
         0.19872203208140882,
         0.2010005790849819,
         0.20152401487689978,
         0.1928169064990738,
         0.1962828627586657,
         0.20396741788249975,
         0.2038388215918459,
         0.19171492465059548,
         0.196719579636028,
         0.20433801808851024,
         0.20499700601851822,
         0.2001176009173779,
         0.19554829504340887,
         0.19095648176895053,
         0.20111205375881172,
         0.19750563933641888,
         0.19814537416267045,
         0.20900398823341318,
         0.20077148724493443,
         0.20185371972255262,
         0.20446698347508324,
         0.19358945406023778,
         0.2020593669228986,
         0.19283159152038543,
         0.21070567344991015,
         0.19090512323686304,
         0.20396562484914765,
         0.1971909734877009,
         0.19997030060153967,
         0.2087731983914387,
         0.19617551304034742,
         0.19573074047837188,
         0.19498198941423028,
         0.19643380859976306,
         0.19919391957056873,
         0.20643203685461892,
         0.20174703369026675,
         0.19765199299025185,
         0.1926036155143497,
         0.20515682769245377,
         0.2079122889166077,
         0.1940894117578864,
         0.1940807021752584,
         0.19548115559725784,
         0.18979192139836504,
         0.19443071679230414,
         0.1961291801440073,
         0.1889598399729413,
         0.19527057501688308,
         0.2060530231169918,
         0.19099919711623123,
         0.2051869015958087,
         0.1948137689637495,
         0.1935994363042946,
         0.194262507736829,
         0.19077657018879465,
         0.19569565569434097,
         0.19529168002818728,
         0.202240439697954,
         0.1973343775151115,
         0.20063295684681803,
         0.19686516558787986,
         0.20195538187216894,
         0.20719830624247884,
         0.19380658260528363,
         0.19556551019423732,
         0.20784108810053736,
         0.2038006263365056,
         0.19754669232768754,
         0.19530159156477334
        ],
        [
         20.129531221464276,
         20.734014416113496,
         20.629905642941594,
         19.722565794363618,
         20.543314645066857,
         19.658621491864324,
         19.91299164481461,
         19.91338304616511,
         19.798977674916387,
         20.64387252368033,
         20.148831689730287,
         19.924042908474803,
         19.790442505851388,
         20.046132506802678,
         20.19637809880078,
         20.4113324675709,
         19.53979546763003,
         19.941890666261315,
         19.595496052876115,
         18.61985963024199,
         20.824167946353555,
         21.194866554811597,
         19.029712388291955,
         20.191879818215966,
         19.301018128171563,
         20.724098788574338,
         19.939503656700253,
         20.246233331039548,
         20.60597331263125,
         19.230793358758092,
         20.2696472723037,
         20.502059066668153,
         20.555449517443776,
         19.667324462905526,
         20.0208520013839,
         20.804676624014974,
         20.791559802368283,
         19.554922314360738,
         20.065397122874856,
         20.842477845028043,
         20.90969461388886,
         20.411995293572545,
         19.945926094427705,
         19.477561140432954,
         20.513429483398795,
         20.145575212314725,
         20.210828164592385,
         21.318406799808145,
         20.47869169898331,
         20.589079411700368,
         20.85563231445849,
         19.746124314144254,
         20.61005542613566,
         19.668822335079312,
         21.491978691890836,
         19.47232257016003,
         20.80449373461306,
         20.113479295745492,
         20.396970661357045,
         21.294866235926747,
         20.009902330115438,
         19.96453552879393,
         19.88816292025149,
         20.036248477175832,
         20.31777979619801,
         21.05606775917113,
         20.57819743640721,
         20.16050328500569,
         19.64556878246367,
         20.925996424630284,
         21.207053469493985,
         19.797119999304414,
         19.79623162187636,
         19.9390778709203,
         19.358775982633233,
         19.831933112815022,
         20.005176374688745,
         19.273903677240014,
         19.917598651722074,
         21.017408357933164,
         19.481918105855584,
         20.92906396277249,
         19.87100443430245,
         19.74714250303805,
         19.814775789156556,
         19.459210159257054,
         19.960956880822778,
         19.919751362875104,
         20.628524849191308,
         20.12810650654137,
         20.46456159837544,
         20.080246889963746,
         20.599448950961232,
         21.13422723673284,
         19.76827142573893,
         19.947682039812207,
         21.19979098625481,
         20.78766388632357,
         20.14976261742413,
         19.92076233960688
        ],
        [
         2.924885476714571,
         3.0152407652009625,
         2.9343091484560047,
         2.778633928868855,
         2.9927401098966366,
         2.8867947018214077,
         2.9372238079954247,
         2.8133847779975945,
         2.900058157205814,
         2.9696276202752134,
         2.8979433335167615,
         2.890316022386467,
         2.8899267564184554,
         2.9132080850405795,
         2.97195164838272,
         2.9739938124407774,
         2.8699445780316473,
         2.920782597362251,
         2.8259010496615042,
         2.7753683849076727,
         2.93050823243986,
         2.95751990984118,
         2.739896586170068,
         2.9949879930701138,
         2.825150921051742,
         2.9851655395947074,
         2.917725267537184,
         2.938539600556612,
         2.940288998385579,
         2.7468758919590153,
         2.9278720515335124,
         2.941264578948066,
         2.9120076694080645,
         2.828929988108882,
         2.916597900950643,
         3.01767998213789,
         2.9887143844518524,
         2.7792588468967527,
         2.8677031997347795,
         2.9684176585567252,
         2.984143347494914,
         2.9543581046069853,
         2.8069820700971637,
         2.8683941989338386,
         3.1039825547346567,
         2.954436264095085,
         2.8539897887914734,
         2.9306546131273192,
         2.943586405321199,
         2.9580284245083686,
         2.951647818595825,
         2.8379691221081886,
         3.010329147774444,
         2.835017460815983,
         3.0855944472782166,
         2.8858554514571217,
         3.0383152164808576,
         2.8869268731966664,
         2.9427610610625825,
         3.0168203982114017,
         2.92285301445227,
         2.7884735456835323,
         2.894874471763992,
         2.899431439245284,
         2.93823225304272,
         2.9957531328138765,
         2.9618193182549164,
         2.938692202830289,
         2.8282605294235665,
         3.014636500029499,
         3.003876332566775,
         2.953199382161887,
         2.818939698976706,
         2.919246511865599,
         2.803046595553875,
         2.9309515031022317,
         2.8344179143476596,
         2.7816077264023167,
         2.90389710379182,
         3.0100222435084616,
         2.7575019010925397,
         2.950310729722194,
         2.8930230744223477,
         2.888088665732373,
         2.8103058514726555,
         2.8635901629169425,
         2.9111819492157376,
         2.8633633695042757,
         2.9933566969001553,
         2.8913079646918294,
         2.917256678424346,
         2.9669144954293527,
         2.9237649542605433,
         3.0498055740774954,
         2.909191982674115,
         2.8797760042719776,
         2.955400154655236,
         3.055721742218474,
         2.9002528061212387,
         2.970678056363812
        ]
       ],
       "encoder": "json",
       "name": "ABC_GAN_1 Metrics",
       "version": 1
      }
     },
     "metadata": {
      "scrapbook": {
       "data": true,
       "display": false,
       "name": "ABC_GAN_1 Metrics"
      }
     },
     "output_type": "display_data"
    },
    {
     "name": "stdout",
     "output_type": "stream",
     "text": [
      "MSE\n",
      "0.08339038702041178\n"
     ]
    }
   ],
   "source": [
    "ABC_GAN1_metrics=ABC_train_test2.test_generator(gen,test_data,prior_model,variance,bias,\"1\",device)\n",
    "sb.glue(\"ABC_GAN_1 Metrics\",ABC_GAN1_metrics)\n",
    "\n",
    "print(\"MSE\")\n",
    "print(mean(ABC_GAN1_metrics[0]))"
   ]
  },
  {
   "cell_type": "code",
   "execution_count": 14,
   "id": "eb22ce5c",
   "metadata": {
    "execution": {
     "iopub.execute_input": "2022-06-12T06:34:25.483120Z",
     "iopub.status.busy": "2022-06-12T06:34:25.482749Z",
     "iopub.status.idle": "2022-06-12T06:34:25.798243Z",
     "shell.execute_reply": "2022-06-12T06:34:25.798500Z"
    },
    "papermill": {
     "duration": 0.330364,
     "end_time": "2022-06-12T06:34:25.798622",
     "exception": false,
     "start_time": "2022-06-12T06:34:25.468258",
     "status": "completed"
    },
    "tags": []
   },
   "outputs": [
    {
     "data": {
      "image/png": "[encoded data removed]",
      "text/plain": [
       "<Figure size 432x288 with 1 Axes>"
      ]
     },
     "metadata": {
      "needs_background": "light"
     },
     "output_type": "display_data"
    },
    {
     "data": {
      "image/png": "[encoded data removed]",
      "text/plain": [
       "<Figure size 432x288 with 1 Axes>"
      ]
     },
     "metadata": {
      "needs_background": "light"
     },
     "output_type": "display_data"
    },
    {
     "data": {
      "image/png": "[encoded data removed]",
      "text/plain": [
       "<Figure size 432x288 with 1 Axes>"
      ]
     },
     "metadata": {
      "needs_background": "light"
     },
     "output_type": "display_data"
    },
    {
     "data": {
      "image/png": "[encoded data removed]",
      "text/plain": [
       "<Figure size 432x288 with 1 Axes>"
      ]
     },
     "metadata": {
      "needs_background": "light"
     },
     "output_type": "display_data"
    }
   ],
   "source": [
    "sanityChecks.discProbVsError(train_data,disc,device)\n",
    "sanityChecks.discProbVsError(test_data,disc,device)"
   ]
  },
  {
   "cell_type": "markdown",
   "id": "130f3a4d",
   "metadata": {
    "id": "130f3a4d",
    "papermill": {
     "duration": 0.014506,
     "end_time": "2022-06-12T06:34:25.828038",
     "exception": false,
     "start_time": "2022-06-12T06:34:25.813532",
     "status": "completed"
    },
    "tags": []
   },
   "source": [
    "# ABC - GAN Model with skip connection"
   ]
  },
  {
   "cell_type": "code",
   "execution_count": 15,
   "id": "4e43dad1",
   "metadata": {
    "execution": {
     "iopub.execute_input": "2022-06-12T06:34:25.860543Z",
     "iopub.status.busy": "2022-06-12T06:34:25.860175Z",
     "iopub.status.idle": "2022-06-12T06:34:25.862439Z",
     "shell.execute_reply": "2022-06-12T06:34:25.862731Z"
    },
    "id": "4e43dad1",
    "papermill": {
     "duration": 0.020174,
     "end_time": "2022-06-12T06:34:25.862845",
     "exception": false,
     "start_time": "2022-06-12T06:34:25.842671",
     "status": "completed"
    },
    "tags": []
   },
   "outputs": [],
   "source": [
    "#Generator\n",
    "gen3 = network.GeneratorWithSkipConnection(n_features+1).to(device)\n",
    "constraints=network.weightConstraint()\n",
    "#Discriminator \n",
    "disc3 = network.Discriminator(n_features+1).to(device)\n",
    "\n",
    "criterion = torch.nn.BCELoss()\n",
    "gen_opt = torch.optim.Adam(gen3.parameters(), lr=0.001, betas=(0.5, 0.999))\n",
    "disc_opt = torch.optim.Adam(disc3.parameters(), lr=0.001, betas=(0.5, 0.999))\n"
   ]
  },
  {
   "cell_type": "code",
   "execution_count": 16,
   "id": "26acbc37",
   "metadata": {
    "execution": {
     "iopub.execute_input": "2022-06-12T06:34:25.894744Z",
     "iopub.status.busy": "2022-06-12T06:34:25.894374Z",
     "iopub.status.idle": "2022-06-12T06:37:23.873947Z",
     "shell.execute_reply": "2022-06-12T06:37:23.874376Z"
    },
    "id": "26acbc37",
    "papermill": {
     "duration": 177.996711,
     "end_time": "2022-06-12T06:37:23.874505",
     "exception": false,
     "start_time": "2022-06-12T06:34:25.877794",
     "status": "completed"
    },
    "tags": []
   },
   "outputs": [
    {
     "data": {
      "image/png": "[encoded data removed]",
      "text/plain": [
       "<Figure size 432x288 with 1 Axes>"
      ]
     },
     "metadata": {
      "needs_background": "light"
     },
     "output_type": "display_data"
    },
    {
     "data": {
      "image/png": "[encoded data removed]",
      "text/plain": [
       "<Figure size 432x288 with 1 Axes>"
      ]
     },
     "metadata": {
      "needs_background": "light"
     },
     "output_type": "display_data"
    }
   ],
   "source": [
    "ABC_train_test2.training_GAN_skip_connection(disc3,gen3,disc_opt,gen_opt,train_data,batch_size,n_epochs,criterion,prior_model,variance,bias,device)"
   ]
  },
  {
   "cell_type": "code",
   "execution_count": 17,
   "id": "c5e0717b",
   "metadata": {
    "execution": {
     "iopub.execute_input": "2022-06-12T06:37:23.908807Z",
     "iopub.status.busy": "2022-06-12T06:37:23.908431Z",
     "iopub.status.idle": "2022-06-12T06:37:24.746117Z",
     "shell.execute_reply": "2022-06-12T06:37:24.746499Z"
    },
    "id": "c5e0717b",
    "papermill": {
     "duration": 0.856039,
     "end_time": "2022-06-12T06:37:24.746627",
     "exception": false,
     "start_time": "2022-06-12T06:37:23.890588",
     "status": "completed"
    },
    "tags": []
   },
   "outputs": [
    {
     "data": {
      "application/scrapbook.scrap.json+json": {
       "data": 0.09317126239707757,
       "encoder": "json",
       "name": "ABC-GAN Model 3 MSE",
       "version": 1
      }
     },
     "metadata": {
      "scrapbook": {
       "data": true,
       "display": false,
       "name": "ABC-GAN Model 3 MSE"
      }
     },
     "output_type": "display_data"
    },
    {
     "data": {
      "application/scrapbook.scrap.json+json": {
       "data": 0.21972996771230172,
       "encoder": "json",
       "name": "ABC-GAN Model 3 MAE",
       "version": 1
      }
     },
     "metadata": {
      "scrapbook": {
       "data": true,
       "display": false,
       "name": "ABC-GAN Model 3 MAE"
      }
     },
     "output_type": "display_data"
    },
    {
     "data": {
      "application/scrapbook.scrap.json+json": {
       "data": 22.412456706654776,
       "encoder": "json",
       "name": "ABC-GAN Model 3 Manhattan Distance",
       "version": 1
      }
     },
     "metadata": {
      "scrapbook": {
       "data": true,
       "display": false,
       "name": "ABC-GAN Model 3 Manhattan Distance"
      }
     },
     "output_type": "display_data"
    },
    {
     "data": {
      "application/scrapbook.scrap.json+json": {
       "data": 3.0810606441684545,
       "encoder": "json",
       "name": "ABC-GAN Model 3 Euclidean distance",
       "version": 1
      }
     },
     "metadata": {
      "scrapbook": {
       "data": true,
       "display": false,
       "name": "ABC-GAN Model 3 Euclidean distance"
      }
     },
     "output_type": "display_data"
    },
    {
     "data": {
      "application/scrapbook.scrap.json+json": {
       "data": [
        [
         0.09419528609028406,
         0.08784660003778574,
         0.08792142943489409,
         0.08823138051426214,
         0.09035325381457546,
         0.09620866197752405,
         0.09929740847156387,
         0.09010909649185883,
         0.09286806409899616,
         0.0926808869677585,
         0.09289871963506684,
         0.08221712338735979,
         0.0825188608348463,
         0.11123608358653593,
         0.0922643772586783,
         0.08841259508740676,
         0.08414688820437176,
         0.09547951443650855,
         0.0893336218283451,
         0.10486124450070129,
         0.09214091912716071,
         0.09246617402220864,
         0.08398524543801382,
         0.10690062841767771,
         0.09195577943412775,
         0.09014798118499324,
         0.10140955460758298,
         0.10116505991343573,
         0.10281189076373401,
         0.08692408232611788,
         0.0982962814966176,
         0.09516882681988797,
         0.09324523111076988,
         0.10881892176664826,
         0.0945024549126932,
         0.09025972165972518,
         0.08432649729113745,
         0.08301175047157312,
         0.10082711611472889,
         0.0948859378187651,
         0.08997847912302241,
         0.08419744154089914,
         0.08748149573860292,
         0.09408658259285711,
         0.09254063838282035,
         0.0895904295445705,
         0.09145868506866066,
         0.08980253627085877,
         0.10164566599634378,
         0.08967957978967561,
         0.10040782796856704,
         0.09827546006823251,
         0.09679849246209268,
         0.08913078697752157,
         0.0992541218281785,
         0.10047461349431493,
         0.09001669608905112,
         0.09240197279003753,
         0.095753198955299,
         0.09660522857165656,
         0.08833610806036177,
         0.08947945147190633,
         0.10182657143157538,
         0.08824062461553851,
         0.10378266119257933,
         0.10098283792209466,
         0.089297933335832,
         0.09225500958545872,
         0.08318601150295264,
         0.09990787221688084,
         0.09053177941246421,
         0.09468542621909003,
         0.09829887477441204,
         0.09288822982838017,
         0.09460886304323317,
         0.09342585466703991,
         0.08798351520567711,
         0.10747174271508735,
         0.09097219465192749,
         0.09421590846774576,
         0.09496987705831307,
         0.10023639152774252,
         0.09317425677662594,
         0.09455595279243191,
         0.09724996950305086,
         0.08965935536300644,
         0.09555317340665707,
         0.09402652836430742,
         0.09632950022684376,
         0.08725391768885536,
         0.08647194514622977,
         0.08810875335093997,
         0.0960751058784486,
         0.08618882586747505,
         0.07885982114728887,
         0.09268186831140555,
         0.08865218330750492,
         0.09810355724467275,
         0.08623665255819887,
         0.084450049257335
        ],
        [
         0.22749205629624353,
         0.20854297273463623,
         0.2110055834785396,
         0.21465313087366453,
         0.221774632814249,
         0.21505579109390394,
         0.23202692585832932,
         0.22077399919576504,
         0.22343071372996942,
         0.22403087029655866,
         0.22139447636836135,
         0.20062160348592728,
         0.2105067692441391,
         0.23124514156769888,
         0.21584859526460515,
         0.2128938593189506,
         0.20315455560293963,
         0.21944109894399183,
         0.2167642122755448,
         0.2248138995001129,
         0.2222242899531243,
         0.21937466327867963,
         0.21021557334518315,
         0.23760540677490188,
         0.21129543069686157,
         0.21942811529608627,
         0.2264626207533201,
         0.22553557782164574,
         0.2336946895183977,
         0.20745099990117347,
         0.22951550555287623,
         0.22371110806752945,
         0.2167900659134794,
         0.23294987788939775,
         0.22047221882487922,
         0.2189565793264146,
         0.20998974776297225,
         0.2068137460771729,
         0.2289236946323631,
         0.22097385365187244,
         0.21851029643114409,
         0.2039662929726582,
         0.21204906146900326,
         0.22216076348045402,
         0.2218083692714572,
         0.21342246176038102,
         0.22419384391247935,
         0.2143645839224679,
         0.2354702835414084,
         0.2138795269283411,
         0.23014363498591325,
         0.22526428653109892,
         0.22240538551819092,
         0.2138138651099129,
         0.22963537097744205,
         0.2296297163337323,
         0.2148710621415875,
         0.2174432522448364,
         0.2181353840940431,
         0.22243619826165775,
         0.2171338173542537,
         0.22480521800781728,
         0.21412842326304493,
         0.2196928820682361,
         0.22175257363557524,
         0.2301235355461911,
         0.22289453339123844,
         0.2226602358574632,
         0.20634758791557567,
         0.23408838915087934,
         0.2235988213032411,
         0.21554589388873793,
         0.2332495577249895,
         0.21728379802102699,
         0.21727944685456654,
         0.22617214326472843,
         0.2245669993183886,
         0.23830468163770788,
         0.21816446619363977,
         0.22060406102808008,
         0.21485438047652589,
         0.23068588195076467,
         0.22112594767674512,
         0.22276898280160465,
         0.22973990120283583,
         0.2121635124922785,
         0.22268710233951353,
         0.21962600018756062,
         0.21967737951690294,
         0.2149981167321504,
         0.2075793113121215,
         0.20959139320378503,
         0.2088397307453823,
         0.2111402556337827,
         0.20640042615944848,
         0.22526867591830738,
         0.21539830489257605,
         0.22148506476486207,
         0.2194215360408028,
         0.2096895088861678
        ],
        [
         23.20418974221684,
         21.271383218932897,
         21.52256951481104,
         21.894619349113782,
         22.621012547053397,
         21.935690691578202,
         23.66674643754959,
         22.518947917968035,
         22.78993280045688,
         22.851148770248983,
         22.582236589572858,
         20.463403555564582,
         21.47169046290219,
         23.587004439905286,
         22.016556716989726,
         21.71517365053296,
         20.72176467149984,
         22.382992092287168,
         22.10994965210557,
         22.931017749011517,
         22.666877575218678,
         22.376215654425323,
         21.441988481208682,
         24.23575149103999,
         21.55213393107988,
         22.3816677602008,
         23.099187316838652,
         23.004628937807865,
         23.836858330876566,
         21.160001989919692,
         23.410581566393375,
         22.818533022888005,
         22.1125867231749,
         23.76088754471857,
         22.48816632013768,
         22.33357109129429,
         21.418954271823168,
         21.095002099871635,
         23.350216852501035,
         22.53933307249099,
         22.288050235976698,
         20.804561883211136,
         21.629004269838333,
         22.66039787500631,
         22.624453665688634,
         21.769091099558864,
         22.867772079072893,
         21.865187560091726,
         24.017968921223655,
         21.815711746690795,
         23.47465076856315,
         22.97695722617209,
         22.685349322855473,
         21.809014241211116,
         23.42280783969909,
         23.422231066040695,
         21.916848338441923,
         22.179211728973314,
         22.249809177592397,
         22.688492222689092,
         22.147649370133877,
         22.930132236797363,
         21.84109917283058,
         22.40867397096008,
         22.618762510828674,
         23.472600625711493,
         22.73524240590632,
         22.711344057461247,
         21.04745396738872,
         23.877015693389694,
         22.807079772930592,
         21.98568117665127,
         23.79145488794893,
         22.162947398144752,
         22.162503579165787,
         23.0695586130023,
         22.905833930475637,
         24.307077527046204,
         22.252775551751256,
         22.50161422486417,
         21.91514680860564,
         23.529959958977997,
         22.554846663028002,
         22.722436245763674,
         23.433469922689255,
         21.640678274212405,
         22.71408443863038,
         22.401852019131184,
         22.4070927107241,
         21.929807906679343,
         21.173089753836393,
         21.378322106786072,
         21.301652536028996,
         21.536306074645836,
         21.052843468263745,
         22.977404943667352,
         21.97062709904276,
         22.59147660601593,
         22.380996676161885,
         21.388329906389117
        ],
        [
         3.0996643658965684,
         2.9933849074006735,
         2.9946595469868016,
         2.999933468004706,
         3.035791805952229,
         3.132616082718636,
         3.18250462122202,
         3.0316872929392966,
         3.0777495898948004,
         3.074646397671018,
         3.0782575270397405,
         2.895884421987642,
         2.9011935139101497,
         3.3683943542623784,
         3.067729857791455,
         3.003012603855583,
         2.929672779824723,
         3.120722748422851,
         3.0186138253329458,
         3.270450571262549,
         3.0656767199054755,
         3.0710828302514535,
         2.926857535767228,
         3.30209995284866,
         3.0625952233818023,
         3.0323413529596746,
         3.2161739023214313,
         3.212294524350226,
         3.2383348897081157,
         2.9776259666492746,
         3.1664208047344236,
         3.115641239878008,
         3.0839931214739322,
         3.331595716799702,
         3.104714222129745,
         3.0342200990191808,
         2.932797763858944,
         2.9098451072351703,
         3.206924670724641,
         3.111007177348525,
         3.0294892095117762,
         2.9305526845923975,
         2.987157941143638,
         3.097875308089631,
         3.0723191753214176,
         3.0229495221631124,
         3.054306120382073,
         3.026525846515704,
         3.219915826792226,
         3.024453196620327,
         3.20024974850305,
         3.1660854263521876,
         3.142204040340705,
         3.0151849481760147,
         3.1818108722037843,
         3.2013138828331282,
         3.0301325055322605,
         3.0700164860443055,
         3.125192201039881,
         3.139065675373641,
         3.001713347766055,
         3.021076637580458,
         3.222779900337702,
         3.000090617095578,
         3.253587472566719,
         3.209400172626289,
         3.0180108018784266,
         3.0675741193517703,
         2.9128977279165102,
         3.192272382821028,
         3.0387894793932917,
         3.107718371144203,
         3.1664625731232046,
         3.0780837289610523,
         3.106461657643593,
         3.086978648458403,
         2.995716700721059,
         3.310908901938999,
         3.046172000149794,
         3.1000036554349526,
         3.1123829230909124,
         3.1975165262793777,
         3.082819195349583,
         3.105592887811932,
         3.1495232796903068,
         3.0241121419396237,
         3.1219262783542825,
         3.096886483738039,
         3.1345827510432804,
         2.9832699516240977,
         2.9698717825716714,
         2.99784803514052,
         3.1304409912345825,
         2.9650059424025534,
         2.8361420551558174,
         3.0746626754431716,
         3.0070787647425363,
         3.16331516592271,
         2.9658284780034547,
         2.9349454891442486
        ]
       ],
       "encoder": "json",
       "name": "ABC_GAN_3 Metrics",
       "version": 1
      }
     },
     "metadata": {
      "scrapbook": {
       "data": true,
       "display": false,
       "name": "ABC_GAN_3 Metrics"
      }
     },
     "output_type": "display_data"
    },
    {
     "name": "stdout",
     "output_type": "stream",
     "text": [
      "MSE\n",
      "0.09317126239707757\n"
     ]
    }
   ],
   "source": [
    "ABC_GAN3_metrics=ABC_train_test2.test_generator(gen3,test_data,prior_model,variance,bias,\"3\",device)\n",
    "sb.glue(\"ABC_GAN_3 Metrics\",ABC_GAN3_metrics)\n",
    "\n",
    "print(\"MSE\")\n",
    "print(mean(ABC_GAN3_metrics[0]))"
   ]
  },
  {
   "cell_type": "code",
   "execution_count": 18,
   "id": "c8e46b48",
   "metadata": {
    "execution": {
     "iopub.execute_input": "2022-06-12T06:37:24.783483Z",
     "iopub.status.busy": "2022-06-12T06:37:24.783121Z",
     "iopub.status.idle": "2022-06-12T06:37:25.100215Z",
     "shell.execute_reply": "2022-06-12T06:37:25.100518Z"
    },
    "id": "c8e46b48",
    "papermill": {
     "duration": 0.336681,
     "end_time": "2022-06-12T06:37:25.100640",
     "exception": false,
     "start_time": "2022-06-12T06:37:24.763959",
     "status": "completed"
    },
    "tags": []
   },
   "outputs": [
    {
     "data": {
      "image/png": "[encoded data removed]",
      "text/plain": [
       "<Figure size 432x288 with 1 Axes>"
      ]
     },
     "metadata": {
      "needs_background": "light"
     },
     "output_type": "display_data"
    },
    {
     "data": {
      "image/png": "[encoded data removed]",
      "text/plain": [
       "<Figure size 432x288 with 1 Axes>"
      ]
     },
     "metadata": {
      "needs_background": "light"
     },
     "output_type": "display_data"
    },
    {
     "data": {
      "image/png": "[encoded data removed]",
      "text/plain": [
       "<Figure size 432x288 with 1 Axes>"
      ]
     },
     "metadata": {
      "needs_background": "light"
     },
     "output_type": "display_data"
    },
    {
     "data": {
      "image/png": "[encoded data removed]",
      "text/plain": [
       "<Figure size 432x288 with 1 Axes>"
      ]
     },
     "metadata": {
      "needs_background": "light"
     },
     "output_type": "display_data"
    }
   ],
   "source": [
    "sanityChecks.discProbVsError(train_data,disc3,device)\n",
    "sanityChecks.discProbVsError(test_data,disc3,device)"
   ]
  },
  {
   "cell_type": "markdown",
   "id": "a5bd74c3",
   "metadata": {
    "id": "a5bd74c3",
    "papermill": {
     "duration": 0.019335,
     "end_time": "2022-06-12T06:37:25.139837",
     "exception": false,
     "start_time": "2022-06-12T06:37:25.120502",
     "status": "completed"
    },
    "tags": []
   },
   "source": [
    "## Skip Connection Model Analysis - ABC-GAN "
   ]
  },
  {
   "cell_type": "markdown",
   "id": "5744a8bf",
   "metadata": {
    "id": "5744a8bf",
    "papermill": {
     "duration": 0.019101,
     "end_time": "2022-06-12T06:37:25.178145",
     "exception": false,
     "start_time": "2022-06-12T06:37:25.159044",
     "status": "completed"
    },
    "tags": []
   },
   "source": [
    "### Weight Analysis \n",
    "\n",
    "Study the weights of the skip connection layer\n",
    "\n",
    "Equation of the skip connection is \n",
    "\n",
    "$output = y_{gan} * w + y_{abc} * (1-w)$"
   ]
  },
  {
   "cell_type": "code",
   "execution_count": 19,
   "id": "52c31dea",
   "metadata": {
    "execution": {
     "iopub.execute_input": "2022-06-12T06:37:25.219404Z",
     "iopub.status.busy": "2022-06-12T06:37:25.219011Z",
     "iopub.status.idle": "2022-06-12T06:37:25.222106Z",
     "shell.execute_reply": "2022-06-12T06:37:25.222360Z"
    },
    "id": "52c31dea",
    "papermill": {
     "duration": 0.025151,
     "end_time": "2022-06-12T06:37:25.222476",
     "exception": false,
     "start_time": "2022-06-12T06:37:25.197325",
     "status": "completed"
    },
    "tags": []
   },
   "outputs": [
    {
     "name": "stdout",
     "output_type": "stream",
     "text": [
      "Weight of the node at skip connection\n",
      "Parameter containing:\n",
      "tensor([[0.]], requires_grad=True)\n"
     ]
    },
    {
     "data": {
      "application/scrapbook.scrap.json+json": {
       "data": 0.0,
       "encoder": "json",
       "name": "Skip Connection Weight",
       "version": 1
      }
     },
     "metadata": {
      "scrapbook": {
       "data": true,
       "display": false,
       "name": "Skip Connection Weight"
      }
     },
     "output_type": "display_data"
    }
   ],
   "source": [
    "print(\"Weight of the node at skip connection\")\n",
    "for name,param in gen3.named_parameters():\n",
    "    if(name == \"skipNode.weight\"):\n",
    "        print(param)\n",
    "        sb.glue(\"Skip Connection Weight\",param.item())"
   ]
  }
 ],
 "metadata": {
  "colab": {
   "collapsed_sections": [],
   "name": "ABC_GAN_Model-Catboost_Pre-gen.ipynb",
   "provenance": []
  },
  "interpreter": {
   "hash": "31f2aee4e71d21fbe5cf8b01ff0e069b9275f58929596ceb00d14d90e3e16cd6"
  },
  "kernelspec": {
   "display_name": "Python 3 (ipykernel)",
   "language": "python",
   "name": "python3"
  },
  "language_info": {
   "codemirror_mode": {
    "name": "ipython",
    "version": 3
   },
   "file_extension": ".py",
   "mimetype": "text/x-python",
   "name": "python",
   "nbconvert_exporter": "python",
   "pygments_lexer": "ipython3",
   "version": "3.8.11"
  },
  "papermill": {
   "default_parameters": {},
   "duration": 245.457551,
   "end_time": "2022-06-12T06:37:25.550564",
   "environment_variables": {},
   "exception": null,
   "input_path": "ABC_GAN-Catboost.ipynb",
   "output_path": "./ABC_GAN_Catboost/ABC-GAN_output_7_7.ipynb",
   "parameters": {
    "bias": 0.01,
    "variance": 0.1
   },
   "start_time": "2022-06-12T06:33:20.093013",
   "version": "2.3.3"
  }
 },
 "nbformat": 4,
 "nbformat_minor": 5
}