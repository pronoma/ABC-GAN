{
 "cells": [
  {
   "cell_type": "markdown",
   "id": "622780e6",
   "metadata": {
    "id": "622780e6",
    "papermill": {
     "duration": 0.035107,
     "end_time": "2022-06-12T04:22:24.391217",
     "exception": false,
     "start_time": "2022-06-12T04:22:24.356110",
     "status": "completed"
    },
    "tags": []
   },
   "source": [
    "## Import Libraries "
   ]
  },
  {
   "cell_type": "code",
   "execution_count": 1,
   "id": "a62397e3",
   "metadata": {
    "execution": {
     "iopub.execute_input": "2022-06-12T04:22:24.428648Z",
     "iopub.status.busy": "2022-06-12T04:22:24.428114Z",
     "iopub.status.idle": "2022-06-12T04:22:24.430508Z",
     "shell.execute_reply": "2022-06-12T04:22:24.430855Z"
    },
    "id": "a62397e3",
    "papermill": {
     "duration": 0.023076,
     "end_time": "2022-06-12T04:22:24.431091",
     "exception": false,
     "start_time": "2022-06-12T04:22:24.408015",
     "status": "completed"
    },
    "tags": []
   },
   "outputs": [],
   "source": [
    "import warnings\n",
    "import sys\n",
    "sys.path.insert(0, '../../src')\n",
    "warnings.filterwarnings('ignore')"
   ]
  },
  {
   "cell_type": "code",
   "execution_count": 2,
   "id": "d6a4e155",
   "metadata": {
    "execution": {
     "iopub.execute_input": "2022-06-12T04:22:24.451575Z",
     "iopub.status.busy": "2022-06-12T04:22:24.451157Z",
     "iopub.status.idle": "2022-06-12T04:22:26.035179Z",
     "shell.execute_reply": "2022-06-12T04:22:26.035440Z"
    },
    "id": "d6a4e155",
    "papermill": {
     "duration": 1.594979,
     "end_time": "2022-06-12T04:22:26.035568",
     "exception": false,
     "start_time": "2022-06-12T04:22:24.440589",
     "status": "completed"
    },
    "tags": []
   },
   "outputs": [],
   "source": [
    "import ABC_train_test2\n",
    "import bostonDataset\n",
    "import network\n",
    "import dataset\n",
    "import sanityChecks\n",
    "import torch \n",
    "import scrapbook as sb\n",
    "from statistics import mean \n",
    "import catboost as ctb \n",
    "from sklearn.model_selection import train_test_split\n",
    "from sklearn.metrics import mean_squared_error,mean_absolute_error\n",
    "import numpy as np"
   ]
  },
  {
   "cell_type": "markdown",
   "id": "2fa5b0f7",
   "metadata": {
    "id": "2fa5b0f7",
    "papermill": {
     "duration": 0.006776,
     "end_time": "2022-06-12T04:22:26.049536",
     "exception": false,
     "start_time": "2022-06-12T04:22:26.042760",
     "status": "completed"
    },
    "tags": []
   },
   "source": [
    "## Parameters "
   ]
  },
  {
   "cell_type": "code",
   "execution_count": 3,
   "id": "783186fb",
   "metadata": {
    "execution": {
     "iopub.execute_input": "2022-06-12T04:22:26.065391Z",
     "iopub.status.busy": "2022-06-12T04:22:26.064964Z",
     "iopub.status.idle": "2022-06-12T04:22:26.066035Z",
     "shell.execute_reply": "2022-06-12T04:22:26.066336Z"
    },
    "id": "783186fb",
    "papermill": {
     "duration": 0.010159,
     "end_time": "2022-06-12T04:22:26.066447",
     "exception": false,
     "start_time": "2022-06-12T04:22:26.056288",
     "status": "completed"
    },
    "tags": [
     "parameters"
    ]
   },
   "outputs": [],
   "source": [
    "variance = 1\n",
    "bias = 1 "
   ]
  },
  {
   "cell_type": "code",
   "execution_count": 4,
   "id": "46cb1933",
   "metadata": {
    "execution": {
     "iopub.execute_input": "2022-06-12T04:22:26.081917Z",
     "iopub.status.busy": "2022-06-12T04:22:26.081551Z",
     "iopub.status.idle": "2022-06-12T04:22:26.082764Z",
     "shell.execute_reply": "2022-06-12T04:22:26.083081Z"
    },
    "papermill": {
     "duration": 0.009907,
     "end_time": "2022-06-12T04:22:26.083184",
     "exception": false,
     "start_time": "2022-06-12T04:22:26.073277",
     "status": "completed"
    },
    "tags": [
     "injected-parameters"
    ]
   },
   "outputs": [],
   "source": [
    "# Parameters\n",
    "variance = 0.1\n",
    "bias = 0.1\n"
   ]
  },
  {
   "cell_type": "markdown",
   "id": "391cdbfd",
   "metadata": {
    "id": "391cdbfd",
    "papermill": {
     "duration": 0.006812,
     "end_time": "2022-06-12T04:22:26.096889",
     "exception": false,
     "start_time": "2022-06-12T04:22:26.090077",
     "status": "completed"
    },
    "tags": []
   },
   "source": [
    "## Dataset \n"
   ]
  },
  {
   "cell_type": "code",
   "execution_count": 5,
   "id": "5b51f161",
   "metadata": {
    "execution": {
     "iopub.execute_input": "2022-06-12T04:22:26.112431Z",
     "iopub.status.busy": "2022-06-12T04:22:26.112075Z",
     "iopub.status.idle": "2022-06-12T04:22:26.113262Z",
     "shell.execute_reply": "2022-06-12T04:22:26.113491Z"
    },
    "id": "5b51f161",
    "papermill": {
     "duration": 0.009856,
     "end_time": "2022-06-12T04:22:26.113593",
     "exception": false,
     "start_time": "2022-06-12T04:22:26.103737",
     "status": "completed"
    },
    "tags": []
   },
   "outputs": [],
   "source": [
    "#Parameters \n",
    "n_features = 13\n",
    "n_samples= 506\n",
    "n_target = 1 "
   ]
  },
  {
   "cell_type": "code",
   "execution_count": 6,
   "id": "5d6eced4",
   "metadata": {
    "execution": {
     "iopub.execute_input": "2022-06-12T04:22:26.129390Z",
     "iopub.status.busy": "2022-06-12T04:22:26.129028Z",
     "iopub.status.idle": "2022-06-12T04:22:26.139041Z",
     "shell.execute_reply": "2022-06-12T04:22:26.139276Z"
    },
    "id": "5d6eced4",
    "papermill": {
     "duration": 0.018877,
     "end_time": "2022-06-12T04:22:26.139389",
     "exception": false,
     "start_time": "2022-06-12T04:22:26.120512",
     "status": "completed"
    },
    "tags": []
   },
   "outputs": [
    {
     "name": "stdout",
     "output_type": "stream",
     "text": [
      "         X1        X2        X3        X4        X5        X6        X7  \\\n",
      "0 -0.419782  0.284830 -1.287909 -0.272599 -0.144217  0.413672 -0.120013   \n",
      "1 -0.417339 -0.487722 -0.593381 -0.272599 -0.740262  0.194274  0.367166   \n",
      "2 -0.417342 -0.487722 -0.593381 -0.272599 -0.740262  1.282714 -0.265812   \n",
      "3 -0.416750 -0.487722 -1.306878 -0.272599 -0.835284  1.016303 -0.809889   \n",
      "4 -0.412482 -0.487722 -1.306878 -0.272599 -0.835284  1.228577 -0.511180   \n",
      "\n",
      "         X8        X9       X10       X11       X12       X13         Y  \n",
      "0  0.140214 -0.982843 -0.666608 -1.459000  0.441052 -1.075562  0.159686  \n",
      "1  0.557160 -0.867883 -0.987329 -0.303094  0.441052 -0.492439 -0.101524  \n",
      "2  0.557160 -0.867883 -0.987329 -0.303094  0.396427 -1.208727  1.324247  \n",
      "3  1.077737 -0.752922 -1.106115  0.113032  0.416163 -1.361517  1.182758  \n",
      "4  1.077737 -0.752922 -1.106115  0.113032  0.441052 -1.026501  1.487503  \n"
     ]
    }
   ],
   "source": [
    "X,Y = bostonDataset.boston_data()"
   ]
  },
  {
   "cell_type": "code",
   "execution_count": 7,
   "id": "fe007438",
   "metadata": {
    "execution": {
     "iopub.execute_input": "2022-06-12T04:22:26.156320Z",
     "iopub.status.busy": "2022-06-12T04:22:26.155961Z",
     "iopub.status.idle": "2022-06-12T04:22:26.157544Z",
     "shell.execute_reply": "2022-06-12T04:22:26.157786Z"
    },
    "id": "fe007438",
    "papermill": {
     "duration": 0.011148,
     "end_time": "2022-06-12T04:22:26.157897",
     "exception": false,
     "start_time": "2022-06-12T04:22:26.146749",
     "status": "completed"
    },
    "tags": []
   },
   "outputs": [],
   "source": [
    "#Train test split for dataset \n",
    "X_train,X_test,Y_train,Y_test = train_test_split(X,Y,test_size = 0.2)\n",
    "train_data = dataset.CustomDataset(X_train,Y_train)\n",
    "test_data = dataset.CustomDataset(X_test,Y_test)\n"
   ]
  },
  {
   "cell_type": "markdown",
   "id": "a9a1af34",
   "metadata": {
    "id": "a9a1af34",
    "papermill": {
     "duration": 0.007037,
     "end_time": "2022-06-12T04:22:26.172150",
     "exception": false,
     "start_time": "2022-06-12T04:22:26.165113",
     "status": "completed"
    },
    "tags": []
   },
   "source": [
    "## Training Parameters "
   ]
  },
  {
   "cell_type": "code",
   "execution_count": 8,
   "id": "952b7fc8",
   "metadata": {
    "execution": {
     "iopub.execute_input": "2022-06-12T04:22:26.188542Z",
     "iopub.status.busy": "2022-06-12T04:22:26.188164Z",
     "iopub.status.idle": "2022-06-12T04:22:26.189396Z",
     "shell.execute_reply": "2022-06-12T04:22:26.189633Z"
    },
    "id": "952b7fc8",
    "papermill": {
     "duration": 0.010534,
     "end_time": "2022-06-12T04:22:26.189738",
     "exception": false,
     "start_time": "2022-06-12T04:22:26.179204",
     "status": "completed"
    },
    "tags": []
   },
   "outputs": [],
   "source": [
    "batch_size = 32\n",
    "n_epochs = 1000\n",
    "#Select the device \n",
    "device = torch.device('cuda' if torch.cuda.is_available() else 'cpu')"
   ]
  },
  {
   "cell_type": "markdown",
   "id": "a95e1600",
   "metadata": {
    "id": "a95e1600",
    "papermill": {
     "duration": 0.007032,
     "end_time": "2022-06-12T04:22:26.203970",
     "exception": false,
     "start_time": "2022-06-12T04:22:26.196938",
     "status": "completed"
    },
    "tags": []
   },
   "source": [
    "# ABC Pre-generator Model \n",
    "\n",
    "1. The catboost model is used as a pre-generator model for the ABC-GAN. \n",
    "2. The model is first trained on the entire dataset \n",
    "3. It generats X,Y pairs and we add some Gaussian noise with mean 0 and variance 1 to it which is then feed as input to the generator.\n"
   ]
  },
  {
   "cell_type": "code",
   "execution_count": 9,
   "id": "ff8ce7bd",
   "metadata": {
    "execution": {
     "iopub.execute_input": "2022-06-12T04:22:26.222687Z",
     "iopub.status.busy": "2022-06-12T04:22:26.222307Z",
     "iopub.status.idle": "2022-06-12T04:22:27.198592Z",
     "shell.execute_reply": "2022-06-12T04:22:27.198882Z"
    },
    "id": "ff8ce7bd",
    "papermill": {
     "duration": 0.987901,
     "end_time": "2022-06-12T04:22:27.199001",
     "exception": false,
     "start_time": "2022-06-12T04:22:26.211100",
     "status": "completed"
    },
    "tags": []
   },
   "outputs": [
    {
     "name": "stdout",
     "output_type": "stream",
     "text": [
      "Learning rate set to 0.033215\n",
      "0:\tlearn: 0.9665568\ttotal: 57.7ms\tremaining: 57.6s\n",
      "1:\tlearn: 0.9482675\ttotal: 58.7ms\tremaining: 29.3s\n",
      "2:\tlearn: 0.9281462\ttotal: 59.5ms\tremaining: 19.8s\n",
      "3:\tlearn: 0.9117801\ttotal: 60.6ms\tremaining: 15.1s\n",
      "4:\tlearn: 0.8962696\ttotal: 61.4ms\tremaining: 12.2s\n",
      "5:\tlearn: 0.8788976\ttotal: 62.3ms\tremaining: 10.3s\n",
      "6:\tlearn: 0.8623329\ttotal: 63.1ms\tremaining: 8.95s\n",
      "7:\tlearn: 0.8457992\ttotal: 64ms\tremaining: 7.93s\n",
      "8:\tlearn: 0.8307713\ttotal: 64.8ms\tremaining: 7.13s\n",
      "9:\tlearn: 0.8142058\ttotal: 65.6ms\tremaining: 6.49s\n",
      "10:\tlearn: 0.8011519\ttotal: 66.6ms\tremaining: 5.99s\n",
      "11:\tlearn: 0.7872717\ttotal: 67.4ms\tremaining: 5.55s\n",
      "12:\tlearn: 0.7729293\ttotal: 68.2ms\tremaining: 5.18s\n",
      "13:\tlearn: 0.7579522\ttotal: 69ms\tremaining: 4.86s\n",
      "14:\tlearn: 0.7459589\ttotal: 69.8ms\tremaining: 4.58s\n",
      "15:\tlearn: 0.7329829\ttotal: 70.6ms\tremaining: 4.34s\n",
      "16:\tlearn: 0.7206705\ttotal: 71.5ms\tremaining: 4.13s\n",
      "17:\tlearn: 0.7089446\ttotal: 72.3ms\tremaining: 3.94s\n",
      "18:\tlearn: 0.6971789\ttotal: 73.8ms\tremaining: 3.81s\n",
      "19:\tlearn: 0.6859038\ttotal: 74.5ms\tremaining: 3.65s\n",
      "20:\tlearn: 0.6740812\ttotal: 75.4ms\tremaining: 3.52s\n",
      "21:\tlearn: 0.6637513\ttotal: 76.2ms\tremaining: 3.39s\n",
      "22:\tlearn: 0.6537912\ttotal: 77ms\tremaining: 3.27s\n",
      "23:\tlearn: 0.6446411\ttotal: 77.8ms\tremaining: 3.16s\n",
      "24:\tlearn: 0.6355615\ttotal: 78.6ms\tremaining: 3.07s\n",
      "25:\tlearn: 0.6271987\ttotal: 79.5ms\tremaining: 2.98s\n",
      "26:\tlearn: 0.6183232\ttotal: 80.3ms\tremaining: 2.89s\n",
      "27:\tlearn: 0.6098847\ttotal: 81.1ms\tremaining: 2.82s\n",
      "28:\tlearn: 0.6014916\ttotal: 82ms\tremaining: 2.75s\n",
      "29:\tlearn: 0.5916830\ttotal: 82.7ms\tremaining: 2.67s\n",
      "30:\tlearn: 0.5830225\ttotal: 83.5ms\tremaining: 2.61s\n",
      "31:\tlearn: 0.5748958\ttotal: 84.3ms\tremaining: 2.55s\n",
      "32:\tlearn: 0.5676414\ttotal: 85ms\tremaining: 2.49s\n",
      "33:\tlearn: 0.5605615\ttotal: 85.7ms\tremaining: 2.43s\n",
      "34:\tlearn: 0.5535737\ttotal: 86.5ms\tremaining: 2.38s\n",
      "35:\tlearn: 0.5462074\ttotal: 87.5ms\tremaining: 2.34s\n",
      "36:\tlearn: 0.5390296\ttotal: 88.2ms\tremaining: 2.29s\n",
      "37:\tlearn: 0.5313976\ttotal: 89.2ms\tremaining: 2.26s\n",
      "38:\tlearn: 0.5237258\ttotal: 90ms\tremaining: 2.22s\n",
      "39:\tlearn: 0.5158940\ttotal: 90.8ms\tremaining: 2.18s\n",
      "40:\tlearn: 0.5103515\ttotal: 91.6ms\tremaining: 2.14s\n",
      "41:\tlearn: 0.5034021\ttotal: 92.4ms\tremaining: 2.11s\n",
      "42:\tlearn: 0.4971502\ttotal: 93.2ms\tremaining: 2.07s\n",
      "43:\tlearn: 0.4917797\ttotal: 94ms\tremaining: 2.04s\n",
      "44:\tlearn: 0.4865917\ttotal: 94.8ms\tremaining: 2.01s\n",
      "45:\tlearn: 0.4808671\ttotal: 95.6ms\tremaining: 1.98s\n",
      "46:\tlearn: 0.4759547\ttotal: 96.4ms\tremaining: 1.96s\n",
      "47:\tlearn: 0.4697954\ttotal: 97.1ms\tremaining: 1.93s\n",
      "48:\tlearn: 0.4656392\ttotal: 98.1ms\tremaining: 1.9s\n",
      "49:\tlearn: 0.4616060\ttotal: 98.9ms\tremaining: 1.88s\n",
      "50:\tlearn: 0.4557681\ttotal: 99.8ms\tremaining: 1.86s\n",
      "51:\tlearn: 0.4515205\ttotal: 101ms\tremaining: 1.83s\n",
      "52:\tlearn: 0.4454052\ttotal: 101ms\tremaining: 1.81s\n",
      "53:\tlearn: 0.4416185\ttotal: 102ms\tremaining: 1.78s\n",
      "54:\tlearn: 0.4371247\ttotal: 103ms\tremaining: 1.76s\n",
      "55:\tlearn: 0.4340975\ttotal: 103ms\tremaining: 1.74s\n",
      "56:\tlearn: 0.4291539\ttotal: 104ms\tremaining: 1.72s\n",
      "57:\tlearn: 0.4254243\ttotal: 105ms\tremaining: 1.71s\n",
      "58:\tlearn: 0.4215977\ttotal: 106ms\tremaining: 1.69s\n",
      "59:\tlearn: 0.4169744\ttotal: 107ms\tremaining: 1.67s\n",
      "60:\tlearn: 0.4122547\ttotal: 108ms\tremaining: 1.66s\n",
      "61:\tlearn: 0.4078403\ttotal: 109ms\tremaining: 1.64s\n"
     ]
    },
    {
     "name": "stdout",
     "output_type": "stream",
     "text": [
      "62:\tlearn: 0.4049997\ttotal: 110ms\tremaining: 1.63s\n",
      "63:\tlearn: 0.4017942\ttotal: 110ms\tremaining: 1.61s\n",
      "64:\tlearn: 0.3982097\ttotal: 111ms\tremaining: 1.6s\n",
      "65:\tlearn: 0.3940487\ttotal: 112ms\tremaining: 1.59s\n",
      "66:\tlearn: 0.3902099\ttotal: 113ms\tremaining: 1.58s\n",
      "67:\tlearn: 0.3866002\ttotal: 114ms\tremaining: 1.56s\n",
      "68:\tlearn: 0.3831883\ttotal: 115ms\tremaining: 1.55s\n",
      "69:\tlearn: 0.3801228\ttotal: 116ms\tremaining: 1.54s\n",
      "70:\tlearn: 0.3766611\ttotal: 116ms\tremaining: 1.52s\n",
      "71:\tlearn: 0.3741562\ttotal: 117ms\tremaining: 1.51s\n",
      "72:\tlearn: 0.3717812\ttotal: 118ms\tremaining: 1.5s\n",
      "73:\tlearn: 0.3688281\ttotal: 119ms\tremaining: 1.49s\n",
      "74:\tlearn: 0.3654270\ttotal: 120ms\tremaining: 1.48s\n",
      "75:\tlearn: 0.3630559\ttotal: 121ms\tremaining: 1.47s\n",
      "76:\tlearn: 0.3603431\ttotal: 121ms\tremaining: 1.45s\n",
      "77:\tlearn: 0.3579572\ttotal: 122ms\tremaining: 1.44s\n",
      "78:\tlearn: 0.3554327\ttotal: 123ms\tremaining: 1.43s\n",
      "79:\tlearn: 0.3530434\ttotal: 124ms\tremaining: 1.42s\n",
      "80:\tlearn: 0.3503818\ttotal: 125ms\tremaining: 1.42s\n",
      "81:\tlearn: 0.3476452\ttotal: 126ms\tremaining: 1.41s\n",
      "82:\tlearn: 0.3452949\ttotal: 127ms\tremaining: 1.4s\n",
      "83:\tlearn: 0.3431161\ttotal: 127ms\tremaining: 1.39s\n",
      "84:\tlearn: 0.3405374\ttotal: 128ms\tremaining: 1.38s\n",
      "85:\tlearn: 0.3377071\ttotal: 129ms\tremaining: 1.37s\n",
      "86:\tlearn: 0.3353818\ttotal: 130ms\tremaining: 1.36s\n",
      "87:\tlearn: 0.3326643\ttotal: 131ms\tremaining: 1.36s\n",
      "88:\tlearn: 0.3302330\ttotal: 132ms\tremaining: 1.35s\n",
      "89:\tlearn: 0.3277043\ttotal: 133ms\tremaining: 1.34s\n",
      "90:\tlearn: 0.3256865\ttotal: 134ms\tremaining: 1.33s\n",
      "91:\tlearn: 0.3234903\ttotal: 134ms\tremaining: 1.33s\n",
      "92:\tlearn: 0.3212206\ttotal: 135ms\tremaining: 1.32s\n",
      "93:\tlearn: 0.3191168\ttotal: 136ms\tremaining: 1.31s\n",
      "94:\tlearn: 0.3173435\ttotal: 137ms\tremaining: 1.3s\n",
      "95:\tlearn: 0.3161491\ttotal: 138ms\tremaining: 1.3s\n",
      "96:\tlearn: 0.3146788\ttotal: 139ms\tremaining: 1.29s\n",
      "97:\tlearn: 0.3130166\ttotal: 140ms\tremaining: 1.28s\n",
      "98:\tlearn: 0.3111077\ttotal: 140ms\tremaining: 1.28s\n",
      "99:\tlearn: 0.3091391\ttotal: 141ms\tremaining: 1.27s\n",
      "100:\tlearn: 0.3075185\ttotal: 142ms\tremaining: 1.26s\n",
      "101:\tlearn: 0.3060908\ttotal: 143ms\tremaining: 1.25s\n",
      "102:\tlearn: 0.3044692\ttotal: 143ms\tremaining: 1.25s\n",
      "103:\tlearn: 0.3029174\ttotal: 144ms\tremaining: 1.24s\n",
      "104:\tlearn: 0.3011364\ttotal: 145ms\tremaining: 1.24s\n",
      "105:\tlearn: 0.2997771\ttotal: 146ms\tremaining: 1.23s\n",
      "106:\tlearn: 0.2982095\ttotal: 147ms\tremaining: 1.22s\n",
      "107:\tlearn: 0.2969069\ttotal: 147ms\tremaining: 1.22s\n",
      "108:\tlearn: 0.2953321\ttotal: 148ms\tremaining: 1.21s\n",
      "109:\tlearn: 0.2939200\ttotal: 149ms\tremaining: 1.21s\n",
      "110:\tlearn: 0.2930493\ttotal: 150ms\tremaining: 1.2s\n",
      "111:\tlearn: 0.2918989\ttotal: 151ms\tremaining: 1.19s\n",
      "112:\tlearn: 0.2903862\ttotal: 151ms\tremaining: 1.19s\n",
      "113:\tlearn: 0.2890201\ttotal: 152ms\tremaining: 1.18s\n",
      "114:\tlearn: 0.2876308\ttotal: 153ms\tremaining: 1.18s\n",
      "115:\tlearn: 0.2863382\ttotal: 154ms\tremaining: 1.17s\n",
      "116:\tlearn: 0.2849924\ttotal: 155ms\tremaining: 1.17s\n",
      "117:\tlearn: 0.2836149\ttotal: 156ms\tremaining: 1.16s\n",
      "118:\tlearn: 0.2821803\ttotal: 156ms\tremaining: 1.16s\n",
      "119:\tlearn: 0.2813674\ttotal: 157ms\tremaining: 1.15s\n",
      "120:\tlearn: 0.2800203\ttotal: 158ms\tremaining: 1.15s\n",
      "121:\tlearn: 0.2794142\ttotal: 159ms\tremaining: 1.14s\n",
      "122:\tlearn: 0.2783112\ttotal: 160ms\tremaining: 1.14s\n",
      "123:\tlearn: 0.2772587\ttotal: 161ms\tremaining: 1.13s\n",
      "124:\tlearn: 0.2763570\ttotal: 161ms\tremaining: 1.13s\n",
      "125:\tlearn: 0.2752737\ttotal: 162ms\tremaining: 1.13s\n",
      "126:\tlearn: 0.2742308\ttotal: 163ms\tremaining: 1.12s\n",
      "127:\tlearn: 0.2730606\ttotal: 165ms\tremaining: 1.12s\n",
      "128:\tlearn: 0.2718670\ttotal: 166ms\tremaining: 1.12s\n",
      "129:\tlearn: 0.2707309\ttotal: 166ms\tremaining: 1.11s\n",
      "130:\tlearn: 0.2699475\ttotal: 167ms\tremaining: 1.11s\n",
      "131:\tlearn: 0.2689321\ttotal: 168ms\tremaining: 1.1s\n",
      "132:\tlearn: 0.2683706\ttotal: 168ms\tremaining: 1.1s\n",
      "133:\tlearn: 0.2672302\ttotal: 169ms\tremaining: 1.09s\n",
      "134:\tlearn: 0.2664336\ttotal: 170ms\tremaining: 1.09s\n",
      "135:\tlearn: 0.2651775\ttotal: 172ms\tremaining: 1.09s\n",
      "136:\tlearn: 0.2641927\ttotal: 172ms\tremaining: 1.09s\n",
      "137:\tlearn: 0.2632668\ttotal: 173ms\tremaining: 1.08s\n",
      "138:\tlearn: 0.2625160\ttotal: 174ms\tremaining: 1.08s\n",
      "139:\tlearn: 0.2618145\ttotal: 175ms\tremaining: 1.07s\n",
      "140:\tlearn: 0.2609867\ttotal: 176ms\tremaining: 1.07s\n",
      "141:\tlearn: 0.2601594\ttotal: 177ms\tremaining: 1.07s\n",
      "142:\tlearn: 0.2594966\ttotal: 177ms\tremaining: 1.06s\n",
      "143:\tlearn: 0.2586869\ttotal: 178ms\tremaining: 1.06s\n",
      "144:\tlearn: 0.2574670\ttotal: 179ms\tremaining: 1.05s\n",
      "145:\tlearn: 0.2560648\ttotal: 180ms\tremaining: 1.05s\n",
      "146:\tlearn: 0.2551935\ttotal: 181ms\tremaining: 1.05s\n",
      "147:\tlearn: 0.2543867\ttotal: 182ms\tremaining: 1.04s\n",
      "148:\tlearn: 0.2536217\ttotal: 182ms\tremaining: 1.04s\n",
      "149:\tlearn: 0.2527130\ttotal: 183ms\tremaining: 1.04s\n",
      "150:\tlearn: 0.2516549\ttotal: 184ms\tremaining: 1.03s\n",
      "151:\tlearn: 0.2507017\ttotal: 185ms\tremaining: 1.03s\n",
      "152:\tlearn: 0.2498796\ttotal: 186ms\tremaining: 1.03s\n",
      "153:\tlearn: 0.2490153\ttotal: 187ms\tremaining: 1.02s\n",
      "154:\tlearn: 0.2482467\ttotal: 187ms\tremaining: 1.02s\n",
      "155:\tlearn: 0.2474693\ttotal: 188ms\tremaining: 1.02s\n",
      "156:\tlearn: 0.2463891\ttotal: 189ms\tremaining: 1.01s\n",
      "157:\tlearn: 0.2456355\ttotal: 190ms\tremaining: 1.01s\n",
      "158:\tlearn: 0.2448427\ttotal: 190ms\tremaining: 1.01s\n",
      "159:\tlearn: 0.2441806\ttotal: 191ms\tremaining: 1s\n"
     ]
    },
    {
     "name": "stdout",
     "output_type": "stream",
     "text": [
      "160:\tlearn: 0.2433942\ttotal: 192ms\tremaining: 1s\n",
      "161:\tlearn: 0.2424730\ttotal: 193ms\tremaining: 998ms\n",
      "162:\tlearn: 0.2417930\ttotal: 194ms\tremaining: 995ms\n",
      "163:\tlearn: 0.2409938\ttotal: 195ms\tremaining: 992ms\n",
      "164:\tlearn: 0.2402959\ttotal: 196ms\tremaining: 990ms\n",
      "165:\tlearn: 0.2394886\ttotal: 197ms\tremaining: 988ms\n",
      "166:\tlearn: 0.2387224\ttotal: 197ms\tremaining: 985ms\n",
      "167:\tlearn: 0.2380206\ttotal: 198ms\tremaining: 982ms\n",
      "168:\tlearn: 0.2372914\ttotal: 199ms\tremaining: 979ms\n",
      "169:\tlearn: 0.2366132\ttotal: 200ms\tremaining: 976ms\n",
      "170:\tlearn: 0.2356810\ttotal: 201ms\tremaining: 973ms\n",
      "171:\tlearn: 0.2350661\ttotal: 202ms\tremaining: 970ms\n",
      "172:\tlearn: 0.2345504\ttotal: 202ms\tremaining: 967ms\n",
      "173:\tlearn: 0.2336863\ttotal: 203ms\tremaining: 964ms\n",
      "174:\tlearn: 0.2328102\ttotal: 204ms\tremaining: 961ms\n",
      "175:\tlearn: 0.2322532\ttotal: 205ms\tremaining: 958ms\n",
      "176:\tlearn: 0.2316903\ttotal: 206ms\tremaining: 956ms\n",
      "177:\tlearn: 0.2310448\ttotal: 206ms\tremaining: 953ms\n",
      "178:\tlearn: 0.2305144\ttotal: 207ms\tremaining: 951ms\n",
      "179:\tlearn: 0.2299647\ttotal: 208ms\tremaining: 948ms\n",
      "180:\tlearn: 0.2292327\ttotal: 209ms\tremaining: 946ms\n",
      "181:\tlearn: 0.2285852\ttotal: 210ms\tremaining: 943ms\n",
      "182:\tlearn: 0.2277143\ttotal: 211ms\tremaining: 940ms\n",
      "183:\tlearn: 0.2267880\ttotal: 211ms\tremaining: 938ms\n",
      "184:\tlearn: 0.2260731\ttotal: 212ms\tremaining: 935ms\n",
      "185:\tlearn: 0.2250597\ttotal: 213ms\tremaining: 933ms\n",
      "186:\tlearn: 0.2244666\ttotal: 214ms\tremaining: 930ms\n",
      "187:\tlearn: 0.2239819\ttotal: 215ms\tremaining: 927ms\n",
      "188:\tlearn: 0.2233393\ttotal: 216ms\tremaining: 925ms\n",
      "189:\tlearn: 0.2225568\ttotal: 217ms\tremaining: 923ms\n",
      "190:\tlearn: 0.2219647\ttotal: 217ms\tremaining: 921ms\n",
      "191:\tlearn: 0.2211527\ttotal: 218ms\tremaining: 919ms\n",
      "192:\tlearn: 0.2205123\ttotal: 219ms\tremaining: 917ms\n",
      "193:\tlearn: 0.2198587\ttotal: 220ms\tremaining: 915ms\n",
      "194:\tlearn: 0.2190546\ttotal: 221ms\tremaining: 912ms\n",
      "195:\tlearn: 0.2183810\ttotal: 222ms\tremaining: 910ms\n",
      "196:\tlearn: 0.2177590\ttotal: 223ms\tremaining: 908ms\n",
      "197:\tlearn: 0.2171815\ttotal: 223ms\tremaining: 905ms\n",
      "198:\tlearn: 0.2164578\ttotal: 225ms\tremaining: 904ms\n",
      "199:\tlearn: 0.2157983\ttotal: 225ms\tremaining: 902ms\n",
      "200:\tlearn: 0.2152114\ttotal: 226ms\tremaining: 900ms\n",
      "201:\tlearn: 0.2146359\ttotal: 227ms\tremaining: 898ms\n",
      "202:\tlearn: 0.2139896\ttotal: 228ms\tremaining: 895ms\n",
      "203:\tlearn: 0.2135523\ttotal: 229ms\tremaining: 893ms\n",
      "204:\tlearn: 0.2131614\ttotal: 230ms\tremaining: 890ms\n",
      "205:\tlearn: 0.2126833\ttotal: 230ms\tremaining: 888ms\n",
      "206:\tlearn: 0.2121429\ttotal: 231ms\tremaining: 885ms\n",
      "207:\tlearn: 0.2117890\ttotal: 232ms\tremaining: 883ms\n",
      "208:\tlearn: 0.2114531\ttotal: 233ms\tremaining: 881ms\n",
      "209:\tlearn: 0.2108335\ttotal: 234ms\tremaining: 879ms\n",
      "210:\tlearn: 0.2101646\ttotal: 234ms\tremaining: 877ms\n",
      "211:\tlearn: 0.2095577\ttotal: 235ms\tremaining: 875ms\n",
      "212:\tlearn: 0.2090624\ttotal: 236ms\tremaining: 872ms\n",
      "213:\tlearn: 0.2087208\ttotal: 237ms\tremaining: 870ms\n",
      "214:\tlearn: 0.2082175\ttotal: 238ms\tremaining: 869ms\n",
      "215:\tlearn: 0.2075212\ttotal: 239ms\tremaining: 867ms\n",
      "216:\tlearn: 0.2069033\ttotal: 240ms\tremaining: 865ms\n",
      "217:\tlearn: 0.2064528\ttotal: 240ms\tremaining: 862ms\n",
      "218:\tlearn: 0.2059559\ttotal: 241ms\tremaining: 860ms\n",
      "219:\tlearn: 0.2054281\ttotal: 242ms\tremaining: 858ms\n",
      "220:\tlearn: 0.2048201\ttotal: 243ms\tremaining: 856ms\n",
      "221:\tlearn: 0.2044840\ttotal: 244ms\tremaining: 855ms\n",
      "222:\tlearn: 0.2038227\ttotal: 245ms\tremaining: 852ms\n",
      "223:\tlearn: 0.2033114\ttotal: 245ms\tremaining: 850ms\n",
      "224:\tlearn: 0.2026793\ttotal: 246ms\tremaining: 848ms\n",
      "225:\tlearn: 0.2020112\ttotal: 247ms\tremaining: 847ms\n",
      "226:\tlearn: 0.2013334\ttotal: 248ms\tremaining: 845ms\n",
      "227:\tlearn: 0.2007159\ttotal: 249ms\tremaining: 843ms\n",
      "228:\tlearn: 0.2001654\ttotal: 250ms\tremaining: 841ms\n",
      "229:\tlearn: 0.1997368\ttotal: 250ms\tremaining: 839ms\n",
      "230:\tlearn: 0.1991915\ttotal: 251ms\tremaining: 837ms\n",
      "231:\tlearn: 0.1987768\ttotal: 252ms\tremaining: 835ms\n",
      "232:\tlearn: 0.1981951\ttotal: 253ms\tremaining: 833ms\n",
      "233:\tlearn: 0.1979292\ttotal: 254ms\tremaining: 831ms\n",
      "234:\tlearn: 0.1973303\ttotal: 255ms\tremaining: 829ms\n",
      "235:\tlearn: 0.1968529\ttotal: 255ms\tremaining: 827ms\n",
      "236:\tlearn: 0.1963032\ttotal: 256ms\tremaining: 826ms\n",
      "237:\tlearn: 0.1961075\ttotal: 257ms\tremaining: 824ms\n",
      "238:\tlearn: 0.1959213\ttotal: 258ms\tremaining: 822ms\n",
      "239:\tlearn: 0.1954279\ttotal: 259ms\tremaining: 820ms\n",
      "240:\tlearn: 0.1952673\ttotal: 260ms\tremaining: 818ms\n",
      "241:\tlearn: 0.1949186\ttotal: 261ms\tremaining: 816ms\n",
      "242:\tlearn: 0.1944525\ttotal: 261ms\tremaining: 814ms\n",
      "243:\tlearn: 0.1938619\ttotal: 262ms\tremaining: 812ms\n",
      "244:\tlearn: 0.1933535\ttotal: 263ms\tremaining: 810ms\n",
      "245:\tlearn: 0.1927665\ttotal: 264ms\tremaining: 809ms\n",
      "246:\tlearn: 0.1924512\ttotal: 265ms\tremaining: 807ms\n",
      "247:\tlearn: 0.1921923\ttotal: 265ms\tremaining: 805ms\n",
      "248:\tlearn: 0.1918386\ttotal: 266ms\tremaining: 803ms\n",
      "249:\tlearn: 0.1917404\ttotal: 267ms\tremaining: 801ms\n",
      "250:\tlearn: 0.1914547\ttotal: 268ms\tremaining: 799ms\n",
      "251:\tlearn: 0.1909620\ttotal: 269ms\tremaining: 797ms\n",
      "252:\tlearn: 0.1903220\ttotal: 269ms\tremaining: 795ms\n",
      "253:\tlearn: 0.1897241\ttotal: 270ms\tremaining: 794ms\n",
      "254:\tlearn: 0.1893775\ttotal: 272ms\tremaining: 794ms\n",
      "255:\tlearn: 0.1889486\ttotal: 273ms\tremaining: 792ms\n",
      "256:\tlearn: 0.1884350\ttotal: 273ms\tremaining: 791ms\n",
      "257:\tlearn: 0.1878817\ttotal: 274ms\tremaining: 789ms\n",
      "258:\tlearn: 0.1877498\ttotal: 275ms\tremaining: 787ms\n",
      "259:\tlearn: 0.1872336\ttotal: 276ms\tremaining: 785ms\n",
      "260:\tlearn: 0.1867306\ttotal: 277ms\tremaining: 784ms\n",
      "261:\tlearn: 0.1860669\ttotal: 278ms\tremaining: 782ms\n",
      "262:\tlearn: 0.1859696\ttotal: 278ms\tremaining: 780ms\n",
      "263:\tlearn: 0.1856692\ttotal: 279ms\tremaining: 779ms\n",
      "264:\tlearn: 0.1851848\ttotal: 280ms\tremaining: 777ms\n",
      "265:\tlearn: 0.1848247\ttotal: 281ms\tremaining: 775ms\n",
      "266:\tlearn: 0.1843854\ttotal: 282ms\tremaining: 774ms\n",
      "267:\tlearn: 0.1839668\ttotal: 283ms\tremaining: 772ms\n",
      "268:\tlearn: 0.1835296\ttotal: 284ms\tremaining: 771ms\n",
      "269:\tlearn: 0.1832356\ttotal: 284ms\tremaining: 769ms\n",
      "270:\tlearn: 0.1827664\ttotal: 285ms\tremaining: 768ms\n",
      "271:\tlearn: 0.1825559\ttotal: 286ms\tremaining: 766ms\n",
      "272:\tlearn: 0.1821035\ttotal: 287ms\tremaining: 765ms\n",
      "273:\tlearn: 0.1820141\ttotal: 288ms\tremaining: 763ms\n",
      "274:\tlearn: 0.1816388\ttotal: 289ms\tremaining: 761ms\n",
      "275:\tlearn: 0.1808767\ttotal: 289ms\tremaining: 759ms\n",
      "276:\tlearn: 0.1803822\ttotal: 290ms\tremaining: 757ms\n",
      "277:\tlearn: 0.1798084\ttotal: 291ms\tremaining: 756ms\n",
      "278:\tlearn: 0.1792794\ttotal: 292ms\tremaining: 754ms\n",
      "279:\tlearn: 0.1786949\ttotal: 293ms\tremaining: 753ms\n",
      "280:\tlearn: 0.1783892\ttotal: 294ms\tremaining: 751ms\n",
      "281:\tlearn: 0.1780200\ttotal: 295ms\tremaining: 750ms\n",
      "282:\tlearn: 0.1774190\ttotal: 295ms\tremaining: 748ms\n",
      "283:\tlearn: 0.1770197\ttotal: 296ms\tremaining: 747ms\n",
      "284:\tlearn: 0.1764317\ttotal: 297ms\tremaining: 745ms\n",
      "285:\tlearn: 0.1757821\ttotal: 298ms\tremaining: 744ms\n",
      "286:\tlearn: 0.1753625\ttotal: 299ms\tremaining: 742ms\n",
      "287:\tlearn: 0.1750240\ttotal: 299ms\tremaining: 740ms\n"
     ]
    },
    {
     "name": "stdout",
     "output_type": "stream",
     "text": [
      "288:\tlearn: 0.1748504\ttotal: 300ms\tremaining: 739ms\n",
      "289:\tlearn: 0.1742255\ttotal: 301ms\tremaining: 738ms\n",
      "290:\tlearn: 0.1741238\ttotal: 302ms\tremaining: 736ms\n",
      "291:\tlearn: 0.1737604\ttotal: 303ms\tremaining: 734ms\n",
      "292:\tlearn: 0.1733723\ttotal: 304ms\tremaining: 733ms\n",
      "293:\tlearn: 0.1729701\ttotal: 305ms\tremaining: 731ms\n",
      "294:\tlearn: 0.1726329\ttotal: 305ms\tremaining: 730ms\n",
      "295:\tlearn: 0.1722476\ttotal: 306ms\tremaining: 729ms\n",
      "296:\tlearn: 0.1716879\ttotal: 307ms\tremaining: 728ms\n",
      "297:\tlearn: 0.1711709\ttotal: 308ms\tremaining: 726ms\n",
      "298:\tlearn: 0.1706544\ttotal: 309ms\tremaining: 725ms\n",
      "299:\tlearn: 0.1705413\ttotal: 310ms\tremaining: 723ms\n",
      "300:\tlearn: 0.1699474\ttotal: 311ms\tremaining: 722ms\n",
      "301:\tlearn: 0.1695876\ttotal: 312ms\tremaining: 720ms\n",
      "302:\tlearn: 0.1693061\ttotal: 312ms\tremaining: 718ms\n",
      "303:\tlearn: 0.1689727\ttotal: 313ms\tremaining: 717ms\n",
      "304:\tlearn: 0.1684998\ttotal: 314ms\tremaining: 716ms\n",
      "305:\tlearn: 0.1683920\ttotal: 315ms\tremaining: 714ms\n",
      "306:\tlearn: 0.1682867\ttotal: 316ms\tremaining: 713ms\n",
      "307:\tlearn: 0.1678024\ttotal: 316ms\tremaining: 711ms\n",
      "308:\tlearn: 0.1677014\ttotal: 317ms\tremaining: 710ms\n",
      "309:\tlearn: 0.1674090\ttotal: 318ms\tremaining: 708ms\n",
      "310:\tlearn: 0.1670134\ttotal: 319ms\tremaining: 707ms\n",
      "311:\tlearn: 0.1664808\ttotal: 320ms\tremaining: 706ms\n",
      "312:\tlearn: 0.1663865\ttotal: 321ms\tremaining: 705ms\n",
      "313:\tlearn: 0.1660890\ttotal: 322ms\tremaining: 703ms\n",
      "314:\tlearn: 0.1660045\ttotal: 323ms\tremaining: 702ms\n",
      "315:\tlearn: 0.1654895\ttotal: 323ms\tremaining: 700ms\n",
      "316:\tlearn: 0.1651545\ttotal: 324ms\tremaining: 699ms\n",
      "317:\tlearn: 0.1646324\ttotal: 325ms\tremaining: 697ms\n",
      "318:\tlearn: 0.1641740\ttotal: 326ms\tremaining: 696ms\n",
      "319:\tlearn: 0.1638437\ttotal: 327ms\tremaining: 695ms\n",
      "320:\tlearn: 0.1637615\ttotal: 328ms\tremaining: 693ms\n",
      "321:\tlearn: 0.1636814\ttotal: 329ms\tremaining: 692ms\n",
      "322:\tlearn: 0.1630834\ttotal: 330ms\tremaining: 691ms\n",
      "323:\tlearn: 0.1627872\ttotal: 331ms\tremaining: 690ms\n",
      "324:\tlearn: 0.1626104\ttotal: 331ms\tremaining: 688ms\n",
      "325:\tlearn: 0.1621766\ttotal: 332ms\tremaining: 687ms\n",
      "326:\tlearn: 0.1618172\ttotal: 333ms\tremaining: 685ms\n",
      "327:\tlearn: 0.1615631\ttotal: 334ms\tremaining: 684ms\n",
      "328:\tlearn: 0.1614957\ttotal: 334ms\tremaining: 682ms\n",
      "329:\tlearn: 0.1612862\ttotal: 335ms\tremaining: 681ms\n",
      "330:\tlearn: 0.1612201\ttotal: 336ms\tremaining: 679ms\n",
      "331:\tlearn: 0.1609857\ttotal: 337ms\tremaining: 678ms\n",
      "332:\tlearn: 0.1604262\ttotal: 338ms\tremaining: 677ms\n",
      "333:\tlearn: 0.1603486\ttotal: 339ms\tremaining: 676ms\n",
      "334:\tlearn: 0.1599343\ttotal: 340ms\tremaining: 674ms\n",
      "335:\tlearn: 0.1598738\ttotal: 341ms\tremaining: 673ms\n",
      "336:\tlearn: 0.1597997\ttotal: 341ms\tremaining: 672ms\n",
      "337:\tlearn: 0.1593572\ttotal: 342ms\tremaining: 670ms\n",
      "338:\tlearn: 0.1588798\ttotal: 343ms\tremaining: 669ms\n",
      "339:\tlearn: 0.1584444\ttotal: 344ms\tremaining: 667ms\n",
      "340:\tlearn: 0.1580685\ttotal: 345ms\tremaining: 666ms\n",
      "341:\tlearn: 0.1576707\ttotal: 346ms\tremaining: 665ms\n",
      "342:\tlearn: 0.1576146\ttotal: 346ms\tremaining: 663ms\n",
      "343:\tlearn: 0.1575446\ttotal: 347ms\tremaining: 662ms\n",
      "344:\tlearn: 0.1572615\ttotal: 348ms\tremaining: 661ms\n",
      "345:\tlearn: 0.1570072\ttotal: 349ms\tremaining: 660ms\n",
      "346:\tlearn: 0.1565973\ttotal: 350ms\tremaining: 658ms\n",
      "347:\tlearn: 0.1561483\ttotal: 351ms\tremaining: 657ms\n",
      "348:\tlearn: 0.1556300\ttotal: 351ms\tremaining: 655ms\n",
      "349:\tlearn: 0.1553358\ttotal: 352ms\tremaining: 654ms\n",
      "350:\tlearn: 0.1549573\ttotal: 353ms\tremaining: 653ms\n",
      "351:\tlearn: 0.1548802\ttotal: 354ms\tremaining: 651ms\n",
      "352:\tlearn: 0.1544422\ttotal: 355ms\tremaining: 651ms\n",
      "353:\tlearn: 0.1541750\ttotal: 356ms\tremaining: 650ms\n",
      "354:\tlearn: 0.1541249\ttotal: 357ms\tremaining: 649ms\n",
      "355:\tlearn: 0.1540761\ttotal: 358ms\tremaining: 647ms\n",
      "356:\tlearn: 0.1536837\ttotal: 359ms\tremaining: 646ms\n",
      "357:\tlearn: 0.1531823\ttotal: 360ms\tremaining: 645ms\n",
      "358:\tlearn: 0.1527553\ttotal: 361ms\tremaining: 645ms\n",
      "359:\tlearn: 0.1525155\ttotal: 362ms\tremaining: 643ms\n",
      "360:\tlearn: 0.1524492\ttotal: 363ms\tremaining: 642ms\n",
      "361:\tlearn: 0.1522106\ttotal: 363ms\tremaining: 640ms\n",
      "362:\tlearn: 0.1519296\ttotal: 364ms\tremaining: 639ms\n",
      "363:\tlearn: 0.1516939\ttotal: 365ms\tremaining: 638ms\n",
      "364:\tlearn: 0.1511856\ttotal: 366ms\tremaining: 637ms\n",
      "365:\tlearn: 0.1507408\ttotal: 367ms\tremaining: 635ms\n",
      "366:\tlearn: 0.1503449\ttotal: 368ms\tremaining: 634ms\n",
      "367:\tlearn: 0.1502710\ttotal: 368ms\tremaining: 633ms\n",
      "368:\tlearn: 0.1502257\ttotal: 369ms\tremaining: 631ms\n",
      "369:\tlearn: 0.1499315\ttotal: 371ms\tremaining: 631ms\n",
      "370:\tlearn: 0.1495231\ttotal: 371ms\tremaining: 630ms\n",
      "371:\tlearn: 0.1493180\ttotal: 372ms\tremaining: 628ms\n",
      "372:\tlearn: 0.1490828\ttotal: 374ms\tremaining: 628ms\n",
      "373:\tlearn: 0.1486912\ttotal: 374ms\tremaining: 627ms\n",
      "374:\tlearn: 0.1484006\ttotal: 375ms\tremaining: 625ms\n",
      "375:\tlearn: 0.1479366\ttotal: 376ms\tremaining: 624ms\n",
      "376:\tlearn: 0.1476767\ttotal: 377ms\tremaining: 623ms\n",
      "377:\tlearn: 0.1476062\ttotal: 378ms\tremaining: 621ms\n",
      "378:\tlearn: 0.1473443\ttotal: 379ms\tremaining: 620ms\n",
      "379:\tlearn: 0.1472748\ttotal: 379ms\tremaining: 619ms\n",
      "380:\tlearn: 0.1472277\ttotal: 380ms\tremaining: 617ms\n",
      "381:\tlearn: 0.1471717\ttotal: 381ms\tremaining: 616ms\n",
      "382:\tlearn: 0.1468293\ttotal: 382ms\tremaining: 615ms\n"
     ]
    },
    {
     "name": "stdout",
     "output_type": "stream",
     "text": [
      "383:\tlearn: 0.1466309\ttotal: 383ms\tremaining: 614ms\n",
      "384:\tlearn: 0.1465851\ttotal: 384ms\tremaining: 613ms\n",
      "385:\tlearn: 0.1463961\ttotal: 385ms\tremaining: 612ms\n",
      "386:\tlearn: 0.1459968\ttotal: 386ms\tremaining: 611ms\n",
      "387:\tlearn: 0.1458722\ttotal: 386ms\tremaining: 610ms\n",
      "388:\tlearn: 0.1458311\ttotal: 387ms\tremaining: 608ms\n",
      "389:\tlearn: 0.1456846\ttotal: 388ms\tremaining: 607ms\n",
      "390:\tlearn: 0.1454855\ttotal: 389ms\tremaining: 606ms\n",
      "391:\tlearn: 0.1451413\ttotal: 390ms\tremaining: 605ms\n",
      "392:\tlearn: 0.1447976\ttotal: 391ms\tremaining: 603ms\n",
      "393:\tlearn: 0.1445856\ttotal: 392ms\tremaining: 603ms\n",
      "394:\tlearn: 0.1445247\ttotal: 393ms\tremaining: 601ms\n",
      "395:\tlearn: 0.1444721\ttotal: 393ms\tremaining: 600ms\n",
      "396:\tlearn: 0.1442432\ttotal: 395ms\tremaining: 600ms\n",
      "397:\tlearn: 0.1439885\ttotal: 396ms\tremaining: 598ms\n",
      "398:\tlearn: 0.1435346\ttotal: 397ms\tremaining: 597ms\n",
      "399:\tlearn: 0.1432661\ttotal: 397ms\tremaining: 596ms\n",
      "400:\tlearn: 0.1429352\ttotal: 398ms\tremaining: 595ms\n",
      "401:\tlearn: 0.1426081\ttotal: 399ms\tremaining: 593ms\n",
      "402:\tlearn: 0.1423853\ttotal: 400ms\tremaining: 592ms\n",
      "403:\tlearn: 0.1420790\ttotal: 401ms\tremaining: 591ms\n",
      "404:\tlearn: 0.1418445\ttotal: 401ms\tremaining: 589ms\n",
      "405:\tlearn: 0.1415924\ttotal: 402ms\tremaining: 588ms\n",
      "406:\tlearn: 0.1415577\ttotal: 403ms\tremaining: 587ms\n",
      "407:\tlearn: 0.1411252\ttotal: 404ms\tremaining: 586ms\n",
      "408:\tlearn: 0.1406956\ttotal: 404ms\tremaining: 584ms\n",
      "409:\tlearn: 0.1403747\ttotal: 405ms\tremaining: 583ms\n",
      "410:\tlearn: 0.1399462\ttotal: 406ms\tremaining: 582ms\n",
      "411:\tlearn: 0.1396920\ttotal: 407ms\tremaining: 581ms\n",
      "412:\tlearn: 0.1396585\ttotal: 408ms\tremaining: 580ms\n",
      "413:\tlearn: 0.1393487\ttotal: 409ms\tremaining: 579ms\n",
      "414:\tlearn: 0.1391268\ttotal: 410ms\tremaining: 578ms\n",
      "415:\tlearn: 0.1389713\ttotal: 411ms\tremaining: 577ms\n",
      "416:\tlearn: 0.1387740\ttotal: 411ms\tremaining: 575ms\n",
      "417:\tlearn: 0.1384838\ttotal: 412ms\tremaining: 574ms\n",
      "418:\tlearn: 0.1381748\ttotal: 413ms\tremaining: 573ms\n",
      "419:\tlearn: 0.1381421\ttotal: 414ms\tremaining: 572ms\n",
      "420:\tlearn: 0.1381057\ttotal: 415ms\tremaining: 571ms\n",
      "421:\tlearn: 0.1379176\ttotal: 416ms\tremaining: 569ms\n",
      "422:\tlearn: 0.1374596\ttotal: 416ms\tremaining: 568ms\n",
      "423:\tlearn: 0.1371251\ttotal: 417ms\tremaining: 567ms\n",
      "424:\tlearn: 0.1368888\ttotal: 418ms\tremaining: 566ms\n",
      "425:\tlearn: 0.1365974\ttotal: 419ms\tremaining: 565ms\n",
      "426:\tlearn: 0.1361371\ttotal: 420ms\tremaining: 564ms\n",
      "427:\tlearn: 0.1356759\ttotal: 421ms\tremaining: 562ms\n",
      "428:\tlearn: 0.1353772\ttotal: 422ms\tremaining: 561ms\n",
      "429:\tlearn: 0.1351639\ttotal: 422ms\tremaining: 560ms\n",
      "430:\tlearn: 0.1348751\ttotal: 423ms\tremaining: 559ms\n",
      "431:\tlearn: 0.1347375\ttotal: 424ms\tremaining: 557ms\n",
      "432:\tlearn: 0.1345416\ttotal: 425ms\tremaining: 556ms\n",
      "433:\tlearn: 0.1342330\ttotal: 426ms\tremaining: 555ms\n",
      "434:\tlearn: 0.1339909\ttotal: 426ms\tremaining: 554ms\n",
      "435:\tlearn: 0.1336582\ttotal: 427ms\tremaining: 553ms\n",
      "436:\tlearn: 0.1334764\ttotal: 428ms\tremaining: 552ms\n",
      "437:\tlearn: 0.1333906\ttotal: 429ms\tremaining: 551ms\n",
      "438:\tlearn: 0.1331469\ttotal: 430ms\tremaining: 549ms\n",
      "439:\tlearn: 0.1327325\ttotal: 431ms\tremaining: 548ms\n",
      "440:\tlearn: 0.1323210\ttotal: 432ms\tremaining: 547ms\n",
      "441:\tlearn: 0.1320276\ttotal: 432ms\tremaining: 546ms\n",
      "442:\tlearn: 0.1316490\ttotal: 433ms\tremaining: 545ms\n",
      "443:\tlearn: 0.1314607\ttotal: 434ms\tremaining: 544ms\n",
      "444:\tlearn: 0.1313252\ttotal: 435ms\tremaining: 543ms\n",
      "445:\tlearn: 0.1310750\ttotal: 436ms\tremaining: 542ms\n",
      "446:\tlearn: 0.1308375\ttotal: 437ms\tremaining: 540ms\n",
      "447:\tlearn: 0.1306331\ttotal: 438ms\tremaining: 539ms\n",
      "448:\tlearn: 0.1304519\ttotal: 438ms\tremaining: 538ms\n",
      "449:\tlearn: 0.1302197\ttotal: 439ms\tremaining: 537ms\n",
      "450:\tlearn: 0.1300679\ttotal: 440ms\tremaining: 536ms\n",
      "451:\tlearn: 0.1298336\ttotal: 441ms\tremaining: 535ms\n",
      "452:\tlearn: 0.1295305\ttotal: 442ms\tremaining: 534ms\n",
      "453:\tlearn: 0.1293839\ttotal: 443ms\tremaining: 533ms\n",
      "454:\tlearn: 0.1291886\ttotal: 444ms\tremaining: 532ms\n",
      "455:\tlearn: 0.1289244\ttotal: 445ms\tremaining: 530ms\n",
      "456:\tlearn: 0.1287813\ttotal: 445ms\tremaining: 529ms\n",
      "457:\tlearn: 0.1284749\ttotal: 446ms\tremaining: 528ms\n",
      "458:\tlearn: 0.1282510\ttotal: 447ms\tremaining: 527ms\n",
      "459:\tlearn: 0.1279192\ttotal: 448ms\tremaining: 526ms\n",
      "460:\tlearn: 0.1276196\ttotal: 449ms\tremaining: 525ms\n",
      "461:\tlearn: 0.1275810\ttotal: 450ms\tremaining: 524ms\n",
      "462:\tlearn: 0.1273300\ttotal: 450ms\tremaining: 523ms\n",
      "463:\tlearn: 0.1271474\ttotal: 451ms\tremaining: 521ms\n",
      "464:\tlearn: 0.1269642\ttotal: 453ms\tremaining: 521ms\n",
      "465:\tlearn: 0.1267742\ttotal: 454ms\tremaining: 520ms\n",
      "466:\tlearn: 0.1265197\ttotal: 454ms\tremaining: 519ms\n",
      "467:\tlearn: 0.1263826\ttotal: 455ms\tremaining: 518ms\n",
      "468:\tlearn: 0.1262690\ttotal: 456ms\tremaining: 517ms\n",
      "469:\tlearn: 0.1259298\ttotal: 457ms\tremaining: 515ms\n",
      "470:\tlearn: 0.1257288\ttotal: 458ms\tremaining: 514ms\n",
      "471:\tlearn: 0.1255231\ttotal: 459ms\tremaining: 513ms\n",
      "472:\tlearn: 0.1251762\ttotal: 459ms\tremaining: 512ms\n",
      "473:\tlearn: 0.1249814\ttotal: 460ms\tremaining: 511ms\n",
      "474:\tlearn: 0.1247754\ttotal: 462ms\tremaining: 510ms\n",
      "475:\tlearn: 0.1245266\ttotal: 463ms\tremaining: 510ms\n",
      "476:\tlearn: 0.1243582\ttotal: 464ms\tremaining: 509ms\n",
      "477:\tlearn: 0.1241038\ttotal: 465ms\tremaining: 508ms\n",
      "478:\tlearn: 0.1237515\ttotal: 466ms\tremaining: 506ms\n",
      "479:\tlearn: 0.1235983\ttotal: 466ms\tremaining: 505ms\n",
      "480:\tlearn: 0.1233367\ttotal: 467ms\tremaining: 504ms\n",
      "481:\tlearn: 0.1230773\ttotal: 468ms\tremaining: 503ms\n",
      "482:\tlearn: 0.1227030\ttotal: 469ms\tremaining: 502ms\n",
      "483:\tlearn: 0.1225002\ttotal: 470ms\tremaining: 501ms\n",
      "484:\tlearn: 0.1224122\ttotal: 471ms\tremaining: 500ms\n",
      "485:\tlearn: 0.1223562\ttotal: 472ms\tremaining: 499ms\n",
      "486:\tlearn: 0.1222351\ttotal: 472ms\tremaining: 498ms\n",
      "487:\tlearn: 0.1218937\ttotal: 473ms\tremaining: 497ms\n",
      "488:\tlearn: 0.1215790\ttotal: 474ms\tremaining: 495ms\n",
      "489:\tlearn: 0.1214430\ttotal: 475ms\tremaining: 494ms\n",
      "490:\tlearn: 0.1210864\ttotal: 476ms\tremaining: 493ms\n",
      "491:\tlearn: 0.1207610\ttotal: 477ms\tremaining: 492ms\n",
      "492:\tlearn: 0.1205983\ttotal: 478ms\tremaining: 491ms\n",
      "493:\tlearn: 0.1203543\ttotal: 478ms\tremaining: 490ms\n",
      "494:\tlearn: 0.1199573\ttotal: 479ms\tremaining: 489ms\n",
      "495:\tlearn: 0.1198010\ttotal: 480ms\tremaining: 488ms\n",
      "496:\tlearn: 0.1196339\ttotal: 481ms\tremaining: 487ms\n",
      "497:\tlearn: 0.1194470\ttotal: 482ms\tremaining: 486ms\n",
      "498:\tlearn: 0.1192283\ttotal: 482ms\tremaining: 484ms\n",
      "499:\tlearn: 0.1189584\ttotal: 483ms\tremaining: 483ms\n",
      "500:\tlearn: 0.1187192\ttotal: 484ms\tremaining: 482ms\n",
      "501:\tlearn: 0.1183530\ttotal: 485ms\tremaining: 481ms\n",
      "502:\tlearn: 0.1182768\ttotal: 486ms\tremaining: 480ms\n",
      "503:\tlearn: 0.1178426\ttotal: 486ms\tremaining: 479ms\n",
      "504:\tlearn: 0.1175282\ttotal: 487ms\tremaining: 478ms\n",
      "505:\tlearn: 0.1173521\ttotal: 488ms\tremaining: 477ms\n",
      "506:\tlearn: 0.1171435\ttotal: 489ms\tremaining: 476ms\n",
      "507:\tlearn: 0.1169851\ttotal: 490ms\tremaining: 475ms\n"
     ]
    },
    {
     "name": "stdout",
     "output_type": "stream",
     "text": [
      "508:\tlearn: 0.1167024\ttotal: 491ms\tremaining: 474ms\n",
      "509:\tlearn: 0.1165361\ttotal: 492ms\tremaining: 473ms\n",
      "510:\tlearn: 0.1165111\ttotal: 493ms\tremaining: 472ms\n",
      "511:\tlearn: 0.1163017\ttotal: 494ms\tremaining: 471ms\n",
      "512:\tlearn: 0.1162653\ttotal: 494ms\tremaining: 469ms\n",
      "513:\tlearn: 0.1160349\ttotal: 495ms\tremaining: 468ms\n",
      "514:\tlearn: 0.1158306\ttotal: 496ms\tremaining: 467ms\n",
      "515:\tlearn: 0.1155633\ttotal: 497ms\tremaining: 466ms\n",
      "516:\tlearn: 0.1152753\ttotal: 498ms\tremaining: 465ms\n",
      "517:\tlearn: 0.1151695\ttotal: 499ms\tremaining: 464ms\n",
      "518:\tlearn: 0.1149619\ttotal: 500ms\tremaining: 463ms\n",
      "519:\tlearn: 0.1146828\ttotal: 500ms\tremaining: 462ms\n",
      "520:\tlearn: 0.1146196\ttotal: 501ms\tremaining: 461ms\n",
      "521:\tlearn: 0.1144434\ttotal: 502ms\tremaining: 460ms\n",
      "522:\tlearn: 0.1142774\ttotal: 503ms\tremaining: 459ms\n",
      "523:\tlearn: 0.1140789\ttotal: 504ms\tremaining: 458ms\n",
      "524:\tlearn: 0.1140525\ttotal: 505ms\tremaining: 456ms\n",
      "525:\tlearn: 0.1140037\ttotal: 505ms\tremaining: 455ms\n",
      "526:\tlearn: 0.1138901\ttotal: 506ms\tremaining: 455ms\n",
      "527:\tlearn: 0.1136024\ttotal: 507ms\tremaining: 453ms\n",
      "528:\tlearn: 0.1134616\ttotal: 508ms\tremaining: 452ms\n",
      "529:\tlearn: 0.1132767\ttotal: 509ms\tremaining: 451ms\n",
      "530:\tlearn: 0.1130915\ttotal: 510ms\tremaining: 450ms\n",
      "531:\tlearn: 0.1127923\ttotal: 511ms\tremaining: 449ms\n",
      "532:\tlearn: 0.1125465\ttotal: 512ms\tremaining: 448ms\n",
      "533:\tlearn: 0.1123862\ttotal: 512ms\tremaining: 447ms\n",
      "534:\tlearn: 0.1122550\ttotal: 513ms\tremaining: 446ms\n",
      "535:\tlearn: 0.1122319\ttotal: 514ms\tremaining: 445ms\n",
      "536:\tlearn: 0.1119038\ttotal: 515ms\tremaining: 444ms\n",
      "537:\tlearn: 0.1118827\ttotal: 516ms\tremaining: 443ms\n",
      "538:\tlearn: 0.1116315\ttotal: 517ms\tremaining: 442ms\n",
      "539:\tlearn: 0.1114213\ttotal: 517ms\tremaining: 441ms\n",
      "540:\tlearn: 0.1112059\ttotal: 519ms\tremaining: 440ms\n",
      "541:\tlearn: 0.1110352\ttotal: 519ms\tremaining: 439ms\n",
      "542:\tlearn: 0.1108670\ttotal: 520ms\tremaining: 438ms\n",
      "543:\tlearn: 0.1106277\ttotal: 521ms\tremaining: 437ms\n",
      "544:\tlearn: 0.1103671\ttotal: 522ms\tremaining: 436ms\n",
      "545:\tlearn: 0.1103427\ttotal: 523ms\tremaining: 435ms\n",
      "546:\tlearn: 0.1102120\ttotal: 524ms\tremaining: 434ms\n",
      "547:\tlearn: 0.1100799\ttotal: 524ms\tremaining: 433ms\n",
      "548:\tlearn: 0.1099766\ttotal: 525ms\tremaining: 431ms\n",
      "549:\tlearn: 0.1099380\ttotal: 526ms\tremaining: 430ms\n",
      "550:\tlearn: 0.1097898\ttotal: 527ms\tremaining: 429ms\n",
      "551:\tlearn: 0.1096629\ttotal: 528ms\tremaining: 428ms\n",
      "552:\tlearn: 0.1094815\ttotal: 529ms\tremaining: 427ms\n",
      "553:\tlearn: 0.1092603\ttotal: 530ms\tremaining: 426ms\n",
      "554:\tlearn: 0.1090255\ttotal: 530ms\tremaining: 425ms\n",
      "555:\tlearn: 0.1087703\ttotal: 531ms\tremaining: 424ms\n",
      "556:\tlearn: 0.1086980\ttotal: 532ms\tremaining: 423ms\n",
      "557:\tlearn: 0.1085483\ttotal: 533ms\tremaining: 422ms\n",
      "558:\tlearn: 0.1085239\ttotal: 533ms\tremaining: 421ms\n",
      "559:\tlearn: 0.1083531\ttotal: 534ms\tremaining: 420ms\n",
      "560:\tlearn: 0.1082533\ttotal: 535ms\tremaining: 419ms\n",
      "561:\tlearn: 0.1079522\ttotal: 536ms\tremaining: 418ms\n",
      "562:\tlearn: 0.1077472\ttotal: 537ms\tremaining: 417ms\n",
      "563:\tlearn: 0.1075686\ttotal: 537ms\tremaining: 415ms\n",
      "564:\tlearn: 0.1075447\ttotal: 538ms\tremaining: 414ms\n",
      "565:\tlearn: 0.1075277\ttotal: 539ms\tremaining: 413ms\n",
      "566:\tlearn: 0.1072960\ttotal: 540ms\tremaining: 412ms\n",
      "567:\tlearn: 0.1072782\ttotal: 540ms\tremaining: 411ms\n",
      "568:\tlearn: 0.1071946\ttotal: 541ms\tremaining: 410ms\n",
      "569:\tlearn: 0.1070095\ttotal: 542ms\tremaining: 409ms\n",
      "570:\tlearn: 0.1068025\ttotal: 543ms\tremaining: 408ms\n",
      "571:\tlearn: 0.1065646\ttotal: 544ms\tremaining: 407ms\n",
      "572:\tlearn: 0.1063951\ttotal: 545ms\tremaining: 406ms\n",
      "573:\tlearn: 0.1061112\ttotal: 546ms\tremaining: 405ms\n",
      "574:\tlearn: 0.1058806\ttotal: 546ms\tremaining: 404ms\n",
      "575:\tlearn: 0.1056363\ttotal: 547ms\tremaining: 403ms\n",
      "576:\tlearn: 0.1053302\ttotal: 548ms\tremaining: 402ms\n",
      "577:\tlearn: 0.1052555\ttotal: 549ms\tremaining: 401ms\n",
      "578:\tlearn: 0.1049533\ttotal: 550ms\tremaining: 400ms\n",
      "579:\tlearn: 0.1047214\ttotal: 551ms\tremaining: 399ms\n",
      "580:\tlearn: 0.1046168\ttotal: 551ms\tremaining: 398ms\n",
      "581:\tlearn: 0.1045978\ttotal: 552ms\tremaining: 397ms\n",
      "582:\tlearn: 0.1043513\ttotal: 553ms\tremaining: 396ms\n",
      "583:\tlearn: 0.1041332\ttotal: 554ms\tremaining: 394ms\n",
      "584:\tlearn: 0.1038729\ttotal: 555ms\tremaining: 394ms\n",
      "585:\tlearn: 0.1036659\ttotal: 555ms\tremaining: 392ms\n",
      "586:\tlearn: 0.1035728\ttotal: 556ms\tremaining: 391ms\n",
      "587:\tlearn: 0.1034953\ttotal: 557ms\tremaining: 390ms\n",
      "588:\tlearn: 0.1032965\ttotal: 558ms\tremaining: 389ms\n",
      "589:\tlearn: 0.1030550\ttotal: 559ms\tremaining: 388ms\n",
      "590:\tlearn: 0.1030370\ttotal: 560ms\tremaining: 387ms\n",
      "591:\tlearn: 0.1028844\ttotal: 561ms\tremaining: 386ms\n",
      "592:\tlearn: 0.1027230\ttotal: 561ms\tremaining: 385ms\n",
      "593:\tlearn: 0.1025507\ttotal: 562ms\tremaining: 384ms\n",
      "594:\tlearn: 0.1024103\ttotal: 563ms\tremaining: 383ms\n",
      "595:\tlearn: 0.1021755\ttotal: 564ms\tremaining: 382ms\n",
      "596:\tlearn: 0.1020560\ttotal: 565ms\tremaining: 381ms\n",
      "597:\tlearn: 0.1019442\ttotal: 566ms\tremaining: 380ms\n",
      "598:\tlearn: 0.1019265\ttotal: 566ms\tremaining: 379ms\n",
      "599:\tlearn: 0.1017524\ttotal: 567ms\tremaining: 378ms\n",
      "600:\tlearn: 0.1014840\ttotal: 568ms\tremaining: 377ms\n",
      "601:\tlearn: 0.1014675\ttotal: 569ms\tremaining: 376ms\n",
      "602:\tlearn: 0.1013851\ttotal: 569ms\tremaining: 375ms\n",
      "603:\tlearn: 0.1011950\ttotal: 570ms\tremaining: 374ms\n",
      "604:\tlearn: 0.1010150\ttotal: 571ms\tremaining: 373ms\n",
      "605:\tlearn: 0.1008128\ttotal: 572ms\tremaining: 372ms\n",
      "606:\tlearn: 0.1006119\ttotal: 573ms\tremaining: 371ms\n"
     ]
    },
    {
     "name": "stdout",
     "output_type": "stream",
     "text": [
      "607:\tlearn: 0.1004578\ttotal: 574ms\tremaining: 370ms\n",
      "608:\tlearn: 0.1002593\ttotal: 575ms\tremaining: 369ms\n",
      "609:\tlearn: 0.1000867\ttotal: 576ms\tremaining: 368ms\n",
      "610:\tlearn: 0.0999072\ttotal: 576ms\tremaining: 367ms\n",
      "611:\tlearn: 0.0996390\ttotal: 577ms\tremaining: 366ms\n",
      "612:\tlearn: 0.0994836\ttotal: 578ms\tremaining: 365ms\n",
      "613:\tlearn: 0.0993555\ttotal: 579ms\tremaining: 364ms\n",
      "614:\tlearn: 0.0991532\ttotal: 580ms\tremaining: 363ms\n",
      "615:\tlearn: 0.0990776\ttotal: 580ms\tremaining: 362ms\n",
      "616:\tlearn: 0.0988156\ttotal: 581ms\tremaining: 361ms\n",
      "617:\tlearn: 0.0987159\ttotal: 582ms\tremaining: 360ms\n",
      "618:\tlearn: 0.0985592\ttotal: 583ms\tremaining: 359ms\n",
      "619:\tlearn: 0.0983900\ttotal: 584ms\tremaining: 358ms\n",
      "620:\tlearn: 0.0981685\ttotal: 584ms\tremaining: 357ms\n",
      "621:\tlearn: 0.0980241\ttotal: 585ms\tremaining: 356ms\n",
      "622:\tlearn: 0.0979502\ttotal: 586ms\tremaining: 355ms\n",
      "623:\tlearn: 0.0977850\ttotal: 587ms\tremaining: 354ms\n",
      "624:\tlearn: 0.0976436\ttotal: 587ms\tremaining: 352ms\n",
      "625:\tlearn: 0.0975074\ttotal: 589ms\tremaining: 352ms\n",
      "626:\tlearn: 0.0972520\ttotal: 590ms\tremaining: 351ms\n",
      "627:\tlearn: 0.0970061\ttotal: 591ms\tremaining: 350ms\n",
      "628:\tlearn: 0.0967939\ttotal: 592ms\tremaining: 349ms\n",
      "629:\tlearn: 0.0966393\ttotal: 593ms\tremaining: 348ms\n",
      "630:\tlearn: 0.0965875\ttotal: 594ms\tremaining: 347ms\n",
      "631:\tlearn: 0.0964382\ttotal: 595ms\tremaining: 346ms\n",
      "632:\tlearn: 0.0961976\ttotal: 595ms\tremaining: 345ms\n",
      "633:\tlearn: 0.0960090\ttotal: 596ms\tremaining: 344ms\n",
      "634:\tlearn: 0.0958783\ttotal: 597ms\tremaining: 343ms\n",
      "635:\tlearn: 0.0956575\ttotal: 598ms\tremaining: 342ms\n",
      "636:\tlearn: 0.0955704\ttotal: 599ms\tremaining: 341ms\n",
      "637:\tlearn: 0.0953316\ttotal: 600ms\tremaining: 340ms\n",
      "638:\tlearn: 0.0952431\ttotal: 601ms\tremaining: 339ms\n",
      "639:\tlearn: 0.0951303\ttotal: 601ms\tremaining: 338ms\n",
      "640:\tlearn: 0.0950447\ttotal: 602ms\tremaining: 337ms\n",
      "641:\tlearn: 0.0949133\ttotal: 603ms\tremaining: 336ms\n",
      "642:\tlearn: 0.0948054\ttotal: 604ms\tremaining: 335ms\n",
      "643:\tlearn: 0.0947138\ttotal: 605ms\tremaining: 335ms\n",
      "644:\tlearn: 0.0944940\ttotal: 606ms\tremaining: 334ms\n",
      "645:\tlearn: 0.0942989\ttotal: 607ms\tremaining: 333ms\n",
      "646:\tlearn: 0.0942582\ttotal: 608ms\tremaining: 332ms\n",
      "647:\tlearn: 0.0942442\ttotal: 609ms\tremaining: 331ms\n",
      "648:\tlearn: 0.0940364\ttotal: 610ms\tremaining: 330ms\n",
      "649:\tlearn: 0.0939324\ttotal: 611ms\tremaining: 329ms\n",
      "650:\tlearn: 0.0937672\ttotal: 612ms\tremaining: 328ms\n",
      "651:\tlearn: 0.0936189\ttotal: 613ms\tremaining: 327ms\n",
      "652:\tlearn: 0.0934533\ttotal: 614ms\tremaining: 326ms\n",
      "653:\tlearn: 0.0933712\ttotal: 615ms\tremaining: 325ms\n",
      "654:\tlearn: 0.0931855\ttotal: 616ms\tremaining: 324ms\n",
      "655:\tlearn: 0.0931704\ttotal: 616ms\tremaining: 323ms\n",
      "656:\tlearn: 0.0930750\ttotal: 617ms\tremaining: 322ms\n",
      "657:\tlearn: 0.0929812\ttotal: 618ms\tremaining: 321ms\n",
      "658:\tlearn: 0.0928000\ttotal: 620ms\tremaining: 321ms\n",
      "659:\tlearn: 0.0926540\ttotal: 621ms\tremaining: 320ms\n",
      "660:\tlearn: 0.0925892\ttotal: 622ms\tremaining: 319ms\n",
      "661:\tlearn: 0.0924241\ttotal: 623ms\tremaining: 318ms\n",
      "662:\tlearn: 0.0922715\ttotal: 623ms\tremaining: 317ms\n",
      "663:\tlearn: 0.0921147\ttotal: 624ms\tremaining: 316ms\n",
      "664:\tlearn: 0.0918712\ttotal: 625ms\tremaining: 315ms\n",
      "665:\tlearn: 0.0917620\ttotal: 626ms\tremaining: 314ms\n",
      "666:\tlearn: 0.0916270\ttotal: 627ms\tremaining: 313ms\n",
      "667:\tlearn: 0.0915125\ttotal: 628ms\tremaining: 312ms\n",
      "668:\tlearn: 0.0913591\ttotal: 628ms\tremaining: 311ms\n",
      "669:\tlearn: 0.0911782\ttotal: 629ms\tremaining: 310ms\n",
      "670:\tlearn: 0.0910521\ttotal: 630ms\tremaining: 309ms\n",
      "671:\tlearn: 0.0908820\ttotal: 631ms\tremaining: 308ms\n",
      "672:\tlearn: 0.0908045\ttotal: 632ms\tremaining: 307ms\n",
      "673:\tlearn: 0.0907387\ttotal: 633ms\tremaining: 306ms\n",
      "674:\tlearn: 0.0905674\ttotal: 633ms\tremaining: 305ms\n",
      "675:\tlearn: 0.0903461\ttotal: 634ms\tremaining: 304ms\n",
      "676:\tlearn: 0.0902653\ttotal: 635ms\tremaining: 303ms\n",
      "677:\tlearn: 0.0901702\ttotal: 636ms\tremaining: 302ms\n",
      "678:\tlearn: 0.0900877\ttotal: 637ms\tremaining: 301ms\n",
      "679:\tlearn: 0.0899095\ttotal: 638ms\tremaining: 300ms\n",
      "680:\tlearn: 0.0897887\ttotal: 638ms\tremaining: 299ms\n",
      "681:\tlearn: 0.0897549\ttotal: 639ms\tremaining: 298ms\n",
      "682:\tlearn: 0.0896077\ttotal: 640ms\tremaining: 297ms\n",
      "683:\tlearn: 0.0894493\ttotal: 641ms\tremaining: 296ms\n",
      "684:\tlearn: 0.0893358\ttotal: 642ms\tremaining: 295ms\n",
      "685:\tlearn: 0.0892030\ttotal: 643ms\tremaining: 294ms\n",
      "686:\tlearn: 0.0889815\ttotal: 643ms\tremaining: 293ms\n",
      "687:\tlearn: 0.0888186\ttotal: 644ms\tremaining: 292ms\n",
      "688:\tlearn: 0.0886743\ttotal: 645ms\tremaining: 291ms\n",
      "689:\tlearn: 0.0885836\ttotal: 646ms\tremaining: 290ms\n",
      "690:\tlearn: 0.0884104\ttotal: 647ms\tremaining: 289ms\n",
      "691:\tlearn: 0.0882363\ttotal: 648ms\tremaining: 288ms\n",
      "692:\tlearn: 0.0880897\ttotal: 648ms\tremaining: 287ms\n",
      "693:\tlearn: 0.0878950\ttotal: 650ms\tremaining: 287ms\n",
      "694:\tlearn: 0.0877784\ttotal: 651ms\tremaining: 286ms\n",
      "695:\tlearn: 0.0877553\ttotal: 652ms\tremaining: 285ms\n",
      "696:\tlearn: 0.0877232\ttotal: 652ms\tremaining: 284ms\n",
      "697:\tlearn: 0.0876026\ttotal: 653ms\tremaining: 283ms\n",
      "698:\tlearn: 0.0874565\ttotal: 654ms\tremaining: 282ms\n",
      "699:\tlearn: 0.0874278\ttotal: 655ms\tremaining: 281ms\n",
      "700:\tlearn: 0.0873577\ttotal: 656ms\tremaining: 280ms\n",
      "701:\tlearn: 0.0872202\ttotal: 656ms\tremaining: 279ms\n",
      "702:\tlearn: 0.0872040\ttotal: 657ms\tremaining: 278ms\n",
      "703:\tlearn: 0.0871765\ttotal: 658ms\tremaining: 277ms\n",
      "704:\tlearn: 0.0870013\ttotal: 659ms\tremaining: 276ms\n",
      "705:\tlearn: 0.0868214\ttotal: 660ms\tremaining: 275ms\n",
      "706:\tlearn: 0.0866926\ttotal: 661ms\tremaining: 274ms\n",
      "707:\tlearn: 0.0865499\ttotal: 662ms\tremaining: 273ms\n",
      "708:\tlearn: 0.0863900\ttotal: 662ms\tremaining: 272ms\n",
      "709:\tlearn: 0.0863309\ttotal: 663ms\tremaining: 271ms\n",
      "710:\tlearn: 0.0861962\ttotal: 664ms\tremaining: 270ms\n",
      "711:\tlearn: 0.0861288\ttotal: 665ms\tremaining: 269ms\n",
      "712:\tlearn: 0.0860318\ttotal: 666ms\tremaining: 268ms\n",
      "713:\tlearn: 0.0858868\ttotal: 667ms\tremaining: 267ms\n",
      "714:\tlearn: 0.0858736\ttotal: 668ms\tremaining: 266ms\n",
      "715:\tlearn: 0.0857728\ttotal: 669ms\tremaining: 265ms\n",
      "716:\tlearn: 0.0856867\ttotal: 670ms\tremaining: 264ms\n",
      "717:\tlearn: 0.0856599\ttotal: 671ms\tremaining: 263ms\n",
      "718:\tlearn: 0.0855182\ttotal: 671ms\tremaining: 262ms\n",
      "719:\tlearn: 0.0853831\ttotal: 672ms\tremaining: 261ms\n",
      "720:\tlearn: 0.0852323\ttotal: 673ms\tremaining: 261ms\n",
      "721:\tlearn: 0.0850360\ttotal: 674ms\tremaining: 260ms\n",
      "722:\tlearn: 0.0849097\ttotal: 675ms\tremaining: 259ms\n",
      "723:\tlearn: 0.0848335\ttotal: 676ms\tremaining: 258ms\n",
      "724:\tlearn: 0.0846693\ttotal: 677ms\tremaining: 257ms\n",
      "725:\tlearn: 0.0845660\ttotal: 678ms\tremaining: 256ms\n",
      "726:\tlearn: 0.0844448\ttotal: 679ms\tremaining: 255ms\n",
      "727:\tlearn: 0.0843034\ttotal: 679ms\tremaining: 254ms\n",
      "728:\tlearn: 0.0841895\ttotal: 680ms\tremaining: 253ms\n"
     ]
    },
    {
     "name": "stdout",
     "output_type": "stream",
     "text": [
      "729:\tlearn: 0.0839971\ttotal: 681ms\tremaining: 252ms\n",
      "730:\tlearn: 0.0838895\ttotal: 682ms\tremaining: 251ms\n",
      "731:\tlearn: 0.0838135\ttotal: 683ms\tremaining: 250ms\n",
      "732:\tlearn: 0.0835704\ttotal: 684ms\tremaining: 249ms\n",
      "733:\tlearn: 0.0835589\ttotal: 685ms\tremaining: 248ms\n",
      "734:\tlearn: 0.0834270\ttotal: 686ms\tremaining: 247ms\n",
      "735:\tlearn: 0.0833005\ttotal: 687ms\tremaining: 246ms\n",
      "736:\tlearn: 0.0830553\ttotal: 688ms\tremaining: 246ms\n",
      "737:\tlearn: 0.0830353\ttotal: 689ms\tremaining: 245ms\n",
      "738:\tlearn: 0.0830180\ttotal: 690ms\tremaining: 244ms\n",
      "739:\tlearn: 0.0828249\ttotal: 691ms\tremaining: 243ms\n",
      "740:\tlearn: 0.0827040\ttotal: 692ms\tremaining: 242ms\n",
      "741:\tlearn: 0.0825707\ttotal: 692ms\tremaining: 241ms\n",
      "742:\tlearn: 0.0824712\ttotal: 693ms\tremaining: 240ms\n",
      "743:\tlearn: 0.0823008\ttotal: 694ms\tremaining: 239ms\n",
      "744:\tlearn: 0.0821105\ttotal: 695ms\tremaining: 238ms\n",
      "745:\tlearn: 0.0819939\ttotal: 696ms\tremaining: 237ms\n",
      "746:\tlearn: 0.0819739\ttotal: 697ms\tremaining: 236ms\n",
      "747:\tlearn: 0.0817991\ttotal: 697ms\tremaining: 235ms\n",
      "748:\tlearn: 0.0816586\ttotal: 698ms\tremaining: 234ms\n",
      "749:\tlearn: 0.0815031\ttotal: 699ms\tremaining: 233ms\n",
      "750:\tlearn: 0.0813835\ttotal: 700ms\tremaining: 232ms\n",
      "751:\tlearn: 0.0811687\ttotal: 701ms\tremaining: 231ms\n",
      "752:\tlearn: 0.0811387\ttotal: 702ms\tremaining: 230ms\n",
      "753:\tlearn: 0.0809621\ttotal: 702ms\tremaining: 229ms\n",
      "754:\tlearn: 0.0808610\ttotal: 703ms\tremaining: 228ms\n",
      "755:\tlearn: 0.0808457\ttotal: 704ms\tremaining: 227ms\n",
      "756:\tlearn: 0.0808266\ttotal: 705ms\tremaining: 226ms\n",
      "757:\tlearn: 0.0807067\ttotal: 706ms\tremaining: 225ms\n",
      "758:\tlearn: 0.0806754\ttotal: 707ms\tremaining: 224ms\n",
      "759:\tlearn: 0.0806065\ttotal: 707ms\tremaining: 223ms\n",
      "760:\tlearn: 0.0804947\ttotal: 708ms\tremaining: 222ms\n",
      "761:\tlearn: 0.0804761\ttotal: 709ms\tremaining: 221ms\n",
      "762:\tlearn: 0.0804406\ttotal: 710ms\tremaining: 220ms\n",
      "763:\tlearn: 0.0802771\ttotal: 710ms\tremaining: 219ms\n",
      "764:\tlearn: 0.0801590\ttotal: 711ms\tremaining: 218ms\n",
      "765:\tlearn: 0.0800326\ttotal: 712ms\tremaining: 218ms\n",
      "766:\tlearn: 0.0798975\ttotal: 713ms\tremaining: 217ms\n",
      "767:\tlearn: 0.0797015\ttotal: 714ms\tremaining: 216ms\n",
      "768:\tlearn: 0.0795329\ttotal: 715ms\tremaining: 215ms\n",
      "769:\tlearn: 0.0793451\ttotal: 716ms\tremaining: 214ms\n",
      "770:\tlearn: 0.0792091\ttotal: 717ms\tremaining: 213ms\n",
      "771:\tlearn: 0.0791043\ttotal: 718ms\tremaining: 212ms\n",
      "772:\tlearn: 0.0789979\ttotal: 718ms\tremaining: 211ms\n",
      "773:\tlearn: 0.0788873\ttotal: 719ms\tremaining: 210ms\n",
      "774:\tlearn: 0.0788201\ttotal: 720ms\tremaining: 209ms\n",
      "775:\tlearn: 0.0787946\ttotal: 721ms\tremaining: 208ms\n",
      "776:\tlearn: 0.0786396\ttotal: 722ms\tremaining: 207ms\n",
      "777:\tlearn: 0.0784357\ttotal: 722ms\tremaining: 206ms\n",
      "778:\tlearn: 0.0782730\ttotal: 723ms\tremaining: 205ms\n",
      "779:\tlearn: 0.0780683\ttotal: 724ms\tremaining: 204ms\n",
      "780:\tlearn: 0.0780523\ttotal: 725ms\tremaining: 203ms\n",
      "781:\tlearn: 0.0779763\ttotal: 726ms\tremaining: 202ms\n",
      "782:\tlearn: 0.0779467\ttotal: 726ms\tremaining: 201ms\n",
      "783:\tlearn: 0.0778230\ttotal: 727ms\tremaining: 200ms\n",
      "784:\tlearn: 0.0778054\ttotal: 728ms\tremaining: 199ms\n",
      "785:\tlearn: 0.0776765\ttotal: 729ms\tremaining: 198ms\n",
      "786:\tlearn: 0.0775792\ttotal: 730ms\tremaining: 198ms\n",
      "787:\tlearn: 0.0774648\ttotal: 731ms\tremaining: 197ms\n",
      "788:\tlearn: 0.0772997\ttotal: 731ms\tremaining: 196ms\n",
      "789:\tlearn: 0.0771309\ttotal: 732ms\tremaining: 195ms\n",
      "790:\tlearn: 0.0769966\ttotal: 733ms\tremaining: 194ms\n",
      "791:\tlearn: 0.0769132\ttotal: 734ms\tremaining: 193ms\n",
      "792:\tlearn: 0.0768241\ttotal: 735ms\tremaining: 192ms\n",
      "793:\tlearn: 0.0768042\ttotal: 735ms\tremaining: 191ms\n",
      "794:\tlearn: 0.0767544\ttotal: 736ms\tremaining: 190ms\n",
      "795:\tlearn: 0.0765787\ttotal: 737ms\tremaining: 189ms\n",
      "796:\tlearn: 0.0764494\ttotal: 738ms\tremaining: 188ms\n",
      "797:\tlearn: 0.0764147\ttotal: 739ms\tremaining: 187ms\n",
      "798:\tlearn: 0.0763990\ttotal: 740ms\tremaining: 186ms\n",
      "799:\tlearn: 0.0763570\ttotal: 740ms\tremaining: 185ms\n",
      "800:\tlearn: 0.0762241\ttotal: 741ms\tremaining: 184ms\n",
      "801:\tlearn: 0.0761032\ttotal: 742ms\tremaining: 183ms\n",
      "802:\tlearn: 0.0759271\ttotal: 743ms\tremaining: 182ms\n",
      "803:\tlearn: 0.0758203\ttotal: 744ms\tremaining: 181ms\n",
      "804:\tlearn: 0.0757772\ttotal: 744ms\tremaining: 180ms\n",
      "805:\tlearn: 0.0756440\ttotal: 745ms\tremaining: 179ms\n",
      "806:\tlearn: 0.0755101\ttotal: 746ms\tremaining: 178ms\n",
      "807:\tlearn: 0.0753048\ttotal: 747ms\tremaining: 177ms\n",
      "808:\tlearn: 0.0752104\ttotal: 748ms\tremaining: 177ms\n",
      "809:\tlearn: 0.0751899\ttotal: 748ms\tremaining: 176ms\n",
      "810:\tlearn: 0.0750833\ttotal: 749ms\tremaining: 175ms\n",
      "811:\tlearn: 0.0749165\ttotal: 750ms\tremaining: 174ms\n",
      "812:\tlearn: 0.0747567\ttotal: 751ms\tremaining: 173ms\n",
      "813:\tlearn: 0.0747129\ttotal: 752ms\tremaining: 172ms\n",
      "814:\tlearn: 0.0745288\ttotal: 752ms\tremaining: 171ms\n",
      "815:\tlearn: 0.0745107\ttotal: 753ms\tremaining: 170ms\n",
      "816:\tlearn: 0.0743227\ttotal: 754ms\tremaining: 169ms\n",
      "817:\tlearn: 0.0742173\ttotal: 755ms\tremaining: 168ms\n",
      "818:\tlearn: 0.0740390\ttotal: 756ms\tremaining: 167ms\n",
      "819:\tlearn: 0.0738788\ttotal: 757ms\tremaining: 166ms\n",
      "820:\tlearn: 0.0737540\ttotal: 758ms\tremaining: 165ms\n",
      "821:\tlearn: 0.0737163\ttotal: 758ms\tremaining: 164ms\n",
      "822:\tlearn: 0.0736050\ttotal: 759ms\tremaining: 163ms\n",
      "823:\tlearn: 0.0734528\ttotal: 760ms\tremaining: 162ms\n",
      "824:\tlearn: 0.0733350\ttotal: 761ms\tremaining: 161ms\n",
      "825:\tlearn: 0.0732633\ttotal: 762ms\tremaining: 160ms\n",
      "826:\tlearn: 0.0731537\ttotal: 763ms\tremaining: 160ms\n",
      "827:\tlearn: 0.0730070\ttotal: 763ms\tremaining: 159ms\n"
     ]
    },
    {
     "name": "stdout",
     "output_type": "stream",
     "text": [
      "828:\tlearn: 0.0728431\ttotal: 764ms\tremaining: 158ms\n",
      "829:\tlearn: 0.0728042\ttotal: 765ms\tremaining: 157ms\n",
      "830:\tlearn: 0.0726421\ttotal: 766ms\tremaining: 156ms\n",
      "831:\tlearn: 0.0725081\ttotal: 767ms\tremaining: 155ms\n",
      "832:\tlearn: 0.0724845\ttotal: 768ms\tremaining: 154ms\n",
      "833:\tlearn: 0.0723470\ttotal: 769ms\tremaining: 153ms\n",
      "834:\tlearn: 0.0722337\ttotal: 770ms\tremaining: 152ms\n",
      "835:\tlearn: 0.0721803\ttotal: 770ms\tremaining: 151ms\n",
      "836:\tlearn: 0.0721332\ttotal: 771ms\tremaining: 150ms\n",
      "837:\tlearn: 0.0720136\ttotal: 772ms\tremaining: 149ms\n",
      "838:\tlearn: 0.0719054\ttotal: 773ms\tremaining: 148ms\n",
      "839:\tlearn: 0.0718285\ttotal: 774ms\tremaining: 147ms\n",
      "840:\tlearn: 0.0716973\ttotal: 775ms\tremaining: 146ms\n",
      "841:\tlearn: 0.0715485\ttotal: 775ms\tremaining: 146ms\n",
      "842:\tlearn: 0.0714212\ttotal: 776ms\tremaining: 145ms\n",
      "843:\tlearn: 0.0714043\ttotal: 777ms\tremaining: 144ms\n",
      "844:\tlearn: 0.0712515\ttotal: 778ms\tremaining: 143ms\n",
      "845:\tlearn: 0.0710991\ttotal: 779ms\tremaining: 142ms\n",
      "846:\tlearn: 0.0710802\ttotal: 780ms\tremaining: 141ms\n",
      "847:\tlearn: 0.0709521\ttotal: 780ms\tremaining: 140ms\n",
      "848:\tlearn: 0.0708148\ttotal: 781ms\tremaining: 139ms\n",
      "849:\tlearn: 0.0706938\ttotal: 782ms\tremaining: 138ms\n",
      "850:\tlearn: 0.0706789\ttotal: 783ms\tremaining: 137ms\n",
      "851:\tlearn: 0.0705619\ttotal: 784ms\tremaining: 136ms\n",
      "852:\tlearn: 0.0705158\ttotal: 785ms\tremaining: 135ms\n",
      "853:\tlearn: 0.0704252\ttotal: 786ms\tremaining: 134ms\n",
      "854:\tlearn: 0.0702907\ttotal: 787ms\tremaining: 134ms\n",
      "855:\tlearn: 0.0701991\ttotal: 788ms\tremaining: 133ms\n",
      "856:\tlearn: 0.0701447\ttotal: 789ms\tremaining: 132ms\n",
      "857:\tlearn: 0.0700425\ttotal: 790ms\tremaining: 131ms\n",
      "858:\tlearn: 0.0700276\ttotal: 791ms\tremaining: 130ms\n",
      "859:\tlearn: 0.0699209\ttotal: 792ms\tremaining: 129ms\n",
      "860:\tlearn: 0.0698835\ttotal: 793ms\tremaining: 128ms\n",
      "861:\tlearn: 0.0698097\ttotal: 794ms\tremaining: 127ms\n",
      "862:\tlearn: 0.0696925\ttotal: 795ms\tremaining: 126ms\n",
      "863:\tlearn: 0.0696156\ttotal: 796ms\tremaining: 125ms\n",
      "864:\tlearn: 0.0695122\ttotal: 796ms\tremaining: 124ms\n",
      "865:\tlearn: 0.0694600\ttotal: 797ms\tremaining: 123ms\n",
      "866:\tlearn: 0.0694246\ttotal: 798ms\tremaining: 122ms\n",
      "867:\tlearn: 0.0692629\ttotal: 799ms\tremaining: 121ms\n",
      "868:\tlearn: 0.0691473\ttotal: 800ms\tremaining: 121ms\n",
      "869:\tlearn: 0.0691198\ttotal: 800ms\tremaining: 120ms\n",
      "870:\tlearn: 0.0690216\ttotal: 801ms\tremaining: 119ms\n",
      "871:\tlearn: 0.0690039\ttotal: 802ms\tremaining: 118ms\n",
      "872:\tlearn: 0.0687812\ttotal: 803ms\tremaining: 117ms\n",
      "873:\tlearn: 0.0686809\ttotal: 804ms\tremaining: 116ms\n",
      "874:\tlearn: 0.0685380\ttotal: 805ms\tremaining: 115ms\n",
      "875:\tlearn: 0.0685133\ttotal: 806ms\tremaining: 114ms\n",
      "876:\tlearn: 0.0683936\ttotal: 807ms\tremaining: 113ms\n",
      "877:\tlearn: 0.0682650\ttotal: 808ms\tremaining: 112ms\n",
      "878:\tlearn: 0.0681316\ttotal: 809ms\tremaining: 111ms\n",
      "879:\tlearn: 0.0680317\ttotal: 811ms\tremaining: 111ms\n",
      "880:\tlearn: 0.0680125\ttotal: 812ms\tremaining: 110ms\n",
      "881:\tlearn: 0.0678829\ttotal: 813ms\tremaining: 109ms\n",
      "882:\tlearn: 0.0677421\ttotal: 814ms\tremaining: 108ms\n",
      "883:\tlearn: 0.0677285\ttotal: 814ms\tremaining: 107ms\n",
      "884:\tlearn: 0.0676297\ttotal: 815ms\tremaining: 106ms\n",
      "885:\tlearn: 0.0676161\ttotal: 816ms\tremaining: 105ms\n",
      "886:\tlearn: 0.0674998\ttotal: 817ms\tremaining: 104ms\n",
      "887:\tlearn: 0.0674104\ttotal: 818ms\tremaining: 103ms\n",
      "888:\tlearn: 0.0673872\ttotal: 819ms\tremaining: 102ms\n",
      "889:\tlearn: 0.0672824\ttotal: 819ms\tremaining: 101ms\n",
      "890:\tlearn: 0.0671873\ttotal: 820ms\tremaining: 100ms\n",
      "891:\tlearn: 0.0670332\ttotal: 821ms\tremaining: 99.4ms\n",
      "892:\tlearn: 0.0669706\ttotal: 822ms\tremaining: 98.5ms\n",
      "893:\tlearn: 0.0668307\ttotal: 822ms\tremaining: 97.5ms\n",
      "894:\tlearn: 0.0667120\ttotal: 823ms\tremaining: 96.6ms\n",
      "895:\tlearn: 0.0665965\ttotal: 824ms\tremaining: 95.7ms\n",
      "896:\tlearn: 0.0664950\ttotal: 825ms\tremaining: 94.7ms\n",
      "897:\tlearn: 0.0664825\ttotal: 826ms\tremaining: 93.8ms\n",
      "898:\tlearn: 0.0663927\ttotal: 827ms\tremaining: 92.9ms\n",
      "899:\tlearn: 0.0662881\ttotal: 828ms\tremaining: 92ms\n",
      "900:\tlearn: 0.0662004\ttotal: 829ms\tremaining: 91.1ms\n",
      "901:\tlearn: 0.0661121\ttotal: 830ms\tremaining: 90.2ms\n",
      "902:\tlearn: 0.0660668\ttotal: 831ms\tremaining: 89.3ms\n",
      "903:\tlearn: 0.0660536\ttotal: 832ms\tremaining: 88.4ms\n",
      "904:\tlearn: 0.0659132\ttotal: 833ms\tremaining: 87.4ms\n",
      "905:\tlearn: 0.0658999\ttotal: 834ms\tremaining: 86.5ms\n",
      "906:\tlearn: 0.0658519\ttotal: 835ms\tremaining: 85.6ms\n",
      "907:\tlearn: 0.0657673\ttotal: 835ms\tremaining: 84.6ms\n",
      "908:\tlearn: 0.0656756\ttotal: 836ms\tremaining: 83.7ms\n",
      "909:\tlearn: 0.0656267\ttotal: 837ms\tremaining: 82.8ms\n",
      "910:\tlearn: 0.0655829\ttotal: 838ms\tremaining: 81.9ms\n",
      "911:\tlearn: 0.0654372\ttotal: 839ms\tremaining: 80.9ms\n",
      "912:\tlearn: 0.0654207\ttotal: 839ms\tremaining: 80ms\n",
      "913:\tlearn: 0.0653872\ttotal: 840ms\tremaining: 79.1ms\n",
      "914:\tlearn: 0.0652724\ttotal: 841ms\tremaining: 78.2ms\n",
      "915:\tlearn: 0.0651743\ttotal: 842ms\tremaining: 77.2ms\n",
      "916:\tlearn: 0.0650664\ttotal: 843ms\tremaining: 76.3ms\n",
      "917:\tlearn: 0.0649263\ttotal: 844ms\tremaining: 75.4ms\n",
      "918:\tlearn: 0.0649176\ttotal: 845ms\tremaining: 74.5ms\n",
      "919:\tlearn: 0.0648289\ttotal: 846ms\tremaining: 73.5ms\n",
      "920:\tlearn: 0.0647659\ttotal: 847ms\tremaining: 72.6ms\n",
      "921:\tlearn: 0.0646507\ttotal: 847ms\tremaining: 71.7ms\n",
      "922:\tlearn: 0.0646407\ttotal: 848ms\tremaining: 70.8ms\n",
      "923:\tlearn: 0.0645377\ttotal: 849ms\tremaining: 69.8ms\n",
      "924:\tlearn: 0.0644827\ttotal: 850ms\tremaining: 68.9ms\n",
      "925:\tlearn: 0.0644218\ttotal: 851ms\tremaining: 68ms\n",
      "926:\tlearn: 0.0643842\ttotal: 851ms\tremaining: 67.1ms\n",
      "927:\tlearn: 0.0643051\ttotal: 852ms\tremaining: 66.1ms\n",
      "928:\tlearn: 0.0642952\ttotal: 853ms\tremaining: 65.2ms\n",
      "929:\tlearn: 0.0642834\ttotal: 854ms\tremaining: 64.3ms\n",
      "930:\tlearn: 0.0642494\ttotal: 855ms\tremaining: 63.4ms\n",
      "931:\tlearn: 0.0642391\ttotal: 856ms\tremaining: 62.4ms\n",
      "932:\tlearn: 0.0642260\ttotal: 856ms\tremaining: 61.5ms\n",
      "933:\tlearn: 0.0641513\ttotal: 857ms\tremaining: 60.6ms\n",
      "934:\tlearn: 0.0640748\ttotal: 858ms\tremaining: 59.6ms\n",
      "935:\tlearn: 0.0640613\ttotal: 859ms\tremaining: 58.7ms\n",
      "936:\tlearn: 0.0640477\ttotal: 860ms\tremaining: 57.8ms\n",
      "937:\tlearn: 0.0639562\ttotal: 860ms\tremaining: 56.9ms\n",
      "938:\tlearn: 0.0638482\ttotal: 861ms\tremaining: 56ms\n",
      "939:\tlearn: 0.0636992\ttotal: 862ms\tremaining: 55ms\n",
      "940:\tlearn: 0.0636864\ttotal: 863ms\tremaining: 54.1ms\n",
      "941:\tlearn: 0.0635892\ttotal: 864ms\tremaining: 53.2ms\n",
      "942:\tlearn: 0.0634779\ttotal: 865ms\tremaining: 52.3ms\n",
      "943:\tlearn: 0.0633925\ttotal: 865ms\tremaining: 51.3ms\n",
      "944:\tlearn: 0.0633030\ttotal: 866ms\tremaining: 50.4ms\n",
      "945:\tlearn: 0.0632904\ttotal: 867ms\tremaining: 49.5ms\n",
      "946:\tlearn: 0.0631812\ttotal: 868ms\tremaining: 48.6ms\n",
      "947:\tlearn: 0.0630678\ttotal: 869ms\tremaining: 47.6ms\n",
      "948:\tlearn: 0.0629772\ttotal: 869ms\tremaining: 46.7ms\n",
      "949:\tlearn: 0.0628447\ttotal: 870ms\tremaining: 45.8ms\n",
      "950:\tlearn: 0.0627423\ttotal: 871ms\tremaining: 44.9ms\n",
      "951:\tlearn: 0.0626374\ttotal: 872ms\tremaining: 43.9ms\n"
     ]
    },
    {
     "name": "stdout",
     "output_type": "stream",
     "text": [
      "952:\tlearn: 0.0625702\ttotal: 873ms\tremaining: 43ms\n",
      "953:\tlearn: 0.0624572\ttotal: 875ms\tremaining: 42.2ms\n",
      "954:\tlearn: 0.0623258\ttotal: 876ms\tremaining: 41.3ms\n",
      "955:\tlearn: 0.0622465\ttotal: 876ms\tremaining: 40.3ms\n",
      "956:\tlearn: 0.0621315\ttotal: 877ms\tremaining: 39.4ms\n",
      "957:\tlearn: 0.0620472\ttotal: 878ms\tremaining: 38.5ms\n",
      "958:\tlearn: 0.0619590\ttotal: 879ms\tremaining: 37.6ms\n",
      "959:\tlearn: 0.0619494\ttotal: 880ms\tremaining: 36.7ms\n",
      "960:\tlearn: 0.0618683\ttotal: 881ms\tremaining: 35.7ms\n",
      "961:\tlearn: 0.0618438\ttotal: 882ms\tremaining: 34.8ms\n",
      "962:\tlearn: 0.0617168\ttotal: 882ms\tremaining: 33.9ms\n",
      "963:\tlearn: 0.0616457\ttotal: 883ms\tremaining: 33ms\n",
      "964:\tlearn: 0.0615450\ttotal: 884ms\tremaining: 32.1ms\n",
      "965:\tlearn: 0.0614680\ttotal: 885ms\tremaining: 31.1ms\n",
      "966:\tlearn: 0.0613858\ttotal: 886ms\tremaining: 30.2ms\n",
      "967:\tlearn: 0.0613344\ttotal: 886ms\tremaining: 29.3ms\n",
      "968:\tlearn: 0.0612807\ttotal: 887ms\tremaining: 28.4ms\n",
      "969:\tlearn: 0.0612367\ttotal: 888ms\tremaining: 27.5ms\n",
      "970:\tlearn: 0.0611617\ttotal: 889ms\tremaining: 26.6ms\n",
      "971:\tlearn: 0.0611542\ttotal: 890ms\tremaining: 25.6ms\n",
      "972:\tlearn: 0.0610269\ttotal: 891ms\tremaining: 24.7ms\n",
      "973:\tlearn: 0.0608909\ttotal: 892ms\tremaining: 23.8ms\n",
      "974:\tlearn: 0.0608264\ttotal: 893ms\tremaining: 22.9ms\n",
      "975:\tlearn: 0.0606915\ttotal: 894ms\tremaining: 22ms\n",
      "976:\tlearn: 0.0605595\ttotal: 895ms\tremaining: 21.1ms\n",
      "977:\tlearn: 0.0604886\ttotal: 896ms\tremaining: 20.1ms\n",
      "978:\tlearn: 0.0603739\ttotal: 896ms\tremaining: 19.2ms\n",
      "979:\tlearn: 0.0602837\ttotal: 897ms\tremaining: 18.3ms\n",
      "980:\tlearn: 0.0602386\ttotal: 898ms\tremaining: 17.4ms\n",
      "981:\tlearn: 0.0601338\ttotal: 899ms\tremaining: 16.5ms\n",
      "982:\tlearn: 0.0600290\ttotal: 900ms\tremaining: 15.6ms\n",
      "983:\tlearn: 0.0599184\ttotal: 900ms\tremaining: 14.6ms\n",
      "984:\tlearn: 0.0597721\ttotal: 901ms\tremaining: 13.7ms\n",
      "985:\tlearn: 0.0597045\ttotal: 902ms\tremaining: 12.8ms\n",
      "986:\tlearn: 0.0596255\ttotal: 903ms\tremaining: 11.9ms\n",
      "987:\tlearn: 0.0595336\ttotal: 904ms\tremaining: 11ms\n",
      "988:\tlearn: 0.0594241\ttotal: 905ms\tremaining: 10.1ms\n",
      "989:\tlearn: 0.0593191\ttotal: 905ms\tremaining: 9.14ms\n",
      "990:\tlearn: 0.0591968\ttotal: 906ms\tremaining: 8.23ms\n",
      "991:\tlearn: 0.0590808\ttotal: 907ms\tremaining: 7.31ms\n",
      "992:\tlearn: 0.0590728\ttotal: 908ms\tremaining: 6.4ms\n",
      "993:\tlearn: 0.0589705\ttotal: 909ms\tremaining: 5.48ms\n",
      "994:\tlearn: 0.0588770\ttotal: 909ms\tremaining: 4.57ms\n",
      "995:\tlearn: 0.0587916\ttotal: 910ms\tremaining: 3.65ms\n",
      "996:\tlearn: 0.0586654\ttotal: 911ms\tremaining: 2.74ms\n",
      "997:\tlearn: 0.0586489\ttotal: 912ms\tremaining: 1.83ms\n",
      "998:\tlearn: 0.0585262\ttotal: 913ms\tremaining: 913us\n",
      "999:\tlearn: 0.0585076\ttotal: 913ms\tremaining: 0us\n"
     ]
    },
    {
     "data": {
      "text/plain": [
       "<catboost.core.CatBoostRegressor at 0x7f8f297f2400>"
      ]
     },
     "execution_count": 9,
     "metadata": {},
     "output_type": "execute_result"
    }
   ],
   "source": [
    "#Train the Model \n",
    "prior_model = ctb.CatBoostRegressor()\n",
    "prior_model.fit(X_train,Y_train)"
   ]
  },
  {
   "cell_type": "code",
   "execution_count": 10,
   "id": "af65dcda",
   "metadata": {
    "execution": {
     "iopub.execute_input": "2022-06-12T04:22:27.221919Z",
     "iopub.status.busy": "2022-06-12T04:22:27.221508Z",
     "iopub.status.idle": "2022-06-12T04:22:27.228975Z",
     "shell.execute_reply": "2022-06-12T04:22:27.229270Z"
    },
    "id": "af65dcda",
    "papermill": {
     "duration": 0.02091,
     "end_time": "2022-06-12T04:22:27.229389",
     "exception": false,
     "start_time": "2022-06-12T04:22:27.208479",
     "status": "completed"
    },
    "tags": []
   },
   "outputs": [
    {
     "data": {
      "application/scrapbook.scrap.json+json": {
       "data": 0.15930292695188888,
       "encoder": "json",
       "name": "Prior Model MSE",
       "version": 1
      }
     },
     "metadata": {
      "scrapbook": {
       "data": true,
       "display": false,
       "name": "Prior Model MSE"
      }
     },
     "output_type": "display_data"
    },
    {
     "data": {
      "application/scrapbook.scrap.json+json": {
       "data": 0.17778836618313945,
       "encoder": "json",
       "name": "ABC Pre-generator MSE",
       "version": 1
      }
     },
     "metadata": {
      "scrapbook": {
       "data": true,
       "display": false,
       "name": "ABC Pre-generator MSE"
      }
     },
     "output_type": "display_data"
    },
    {
     "data": {
      "application/scrapbook.scrap.json+json": {
       "data": 0.2642760106873129,
       "encoder": "json",
       "name": "Prior Model MSE",
       "version": 1
      }
     },
     "metadata": {
      "scrapbook": {
       "data": true,
       "display": false,
       "name": "Prior Model MSE"
      }
     },
     "output_type": "display_data"
    },
    {
     "data": {
      "application/scrapbook.scrap.json+json": {
       "data": 0.2924082660093354,
       "encoder": "json",
       "name": "ABC Pre-generator MSE",
       "version": 1
      }
     },
     "metadata": {
      "scrapbook": {
       "data": true,
       "display": false,
       "name": "ABC Pre-generator MSE"
      }
     },
     "output_type": "display_data"
    }
   ],
   "source": [
    "y_pred = prior_model.predict(X_test)\n",
    "y_abc = y_pred + np.random.normal(0,variance, y_pred.shape) + bias \n",
    "mse = mean_squared_error(y_pred,Y_test)\n",
    "sb.glue(\"Prior Model MSE\",mse)\n",
    "mse = mean_squared_error(y_abc,Y_test)\n",
    "sb.glue(\"ABC Pre-generator MSE\",mse)\n",
    "mae = mean_absolute_error(y_pred,Y_test)\n",
    "sb.glue(\"Prior Model MSE\",mae)\n",
    "mae = mean_absolute_error(y_abc,Y_test)\n",
    "sb.glue(\"ABC Pre-generator MSE\",mae)"
   ]
  },
  {
   "cell_type": "markdown",
   "id": "25609da2",
   "metadata": {
    "papermill": {
     "duration": 0.009743,
     "end_time": "2022-06-12T04:22:27.249343",
     "exception": false,
     "start_time": "2022-06-12T04:22:27.239600",
     "status": "completed"
    },
    "tags": []
   },
   "source": [
    "# ABC GAN Model"
   ]
  },
  {
   "cell_type": "code",
   "execution_count": 11,
   "id": "dfc3464d",
   "metadata": {
    "execution": {
     "iopub.execute_input": "2022-06-12T04:22:27.271750Z",
     "iopub.status.busy": "2022-06-12T04:22:27.271377Z",
     "iopub.status.idle": "2022-06-12T04:22:27.273913Z",
     "shell.execute_reply": "2022-06-12T04:22:27.274150Z"
    },
    "papermill": {
     "duration": 0.015173,
     "end_time": "2022-06-12T04:22:27.274261",
     "exception": false,
     "start_time": "2022-06-12T04:22:27.259088",
     "status": "completed"
    },
    "tags": []
   },
   "outputs": [],
   "source": [
    "gen = network.Generator(n_features+1).to(device)\n",
    "disc = network.Discriminator(n_features+1).to(device)\n",
    "\n",
    "criterion = torch.nn.BCELoss()\n",
    "gen_opt = torch.optim.Adam(gen.parameters(), lr=0.001, betas=(0.5, 0.999))\n",
    "disc_opt = torch.optim.Adam(disc.parameters(), lr=0.001, betas=(0.5, 0.999))"
   ]
  },
  {
   "cell_type": "code",
   "execution_count": 12,
   "id": "b75fdd85",
   "metadata": {
    "execution": {
     "iopub.execute_input": "2022-06-12T04:22:27.296979Z",
     "iopub.status.busy": "2022-06-12T04:22:27.296628Z",
     "iopub.status.idle": "2022-06-12T04:23:31.456061Z",
     "shell.execute_reply": "2022-06-12T04:23:31.456373Z"
    },
    "papermill": {
     "duration": 64.172146,
     "end_time": "2022-06-12T04:23:31.456498",
     "exception": false,
     "start_time": "2022-06-12T04:22:27.284352",
     "status": "completed"
    },
    "tags": []
   },
   "outputs": [
    {
     "data": {
      "image/png": "[encoded data removed]",
      "text/plain": [
       "<Figure size 432x288 with 1 Axes>"
      ]
     },
     "metadata": {
      "needs_background": "light"
     },
     "output_type": "display_data"
    },
    {
     "data": {
      "image/png": "[encoded data removed]",
      "text/plain": [
       "<Figure size 432x288 with 1 Axes>"
      ]
     },
     "metadata": {
      "needs_background": "light"
     },
     "output_type": "display_data"
    }
   ],
   "source": [
    "#Training the ABC_GAN \n",
    "ABC_train_test2.training_GAN(disc,gen,disc_opt,gen_opt,train_data,batch_size,n_epochs,criterion,prior_model,variance,bias,device)"
   ]
  },
  {
   "cell_type": "code",
   "execution_count": 13,
   "id": "1fa7c368",
   "metadata": {
    "execution": {
     "iopub.execute_input": "2022-06-12T04:23:31.481037Z",
     "iopub.status.busy": "2022-06-12T04:23:31.480663Z",
     "iopub.status.idle": "2022-06-12T04:23:31.817407Z",
     "shell.execute_reply": "2022-06-12T04:23:31.817774Z"
    },
    "papermill": {
     "duration": 0.350434,
     "end_time": "2022-06-12T04:23:31.817898",
     "exception": false,
     "start_time": "2022-06-12T04:23:31.467464",
     "status": "completed"
    },
    "tags": []
   },
   "outputs": [
    {
     "data": {
      "application/scrapbook.scrap.json+json": {
       "data": 0.1510763453863635,
       "encoder": "json",
       "name": "ABC-GAN Model 1 MSE",
       "version": 1
      }
     },
     "metadata": {
      "scrapbook": {
       "data": true,
       "display": false,
       "name": "ABC-GAN Model 1 MSE"
      }
     },
     "output_type": "display_data"
    },
    {
     "data": {
      "application/scrapbook.scrap.json+json": {
       "data": 0.2580290465337206,
       "encoder": "json",
       "name": "ABC-GAN Model 1 MAE",
       "version": 1
      }
     },
     "metadata": {
      "scrapbook": {
       "data": true,
       "display": false,
       "name": "ABC-GAN Model 1 MAE"
      }
     },
     "output_type": "display_data"
    },
    {
     "data": {
      "application/scrapbook.scrap.json+json": {
       "data": 26.318962746439503,
       "encoder": "json",
       "name": "ABC-GAN Model 1 Manhattan Distance",
       "version": 1
      }
     },
     "metadata": {
      "scrapbook": {
       "data": true,
       "display": false,
       "name": "ABC-GAN Model 1 Manhattan Distance"
      }
     },
     "output_type": "display_data"
    },
    {
     "data": {
      "application/scrapbook.scrap.json+json": {
       "data": 3.924308876356297,
       "encoder": "json",
       "name": "ABC-GAN Model 1 Euclidean distance",
       "version": 1
      }
     },
     "metadata": {
      "scrapbook": {
       "data": true,
       "display": false,
       "name": "ABC-GAN Model 1 Euclidean distance"
      }
     },
     "output_type": "display_data"
    },
    {
     "data": {
      "application/scrapbook.scrap.json+json": {
       "data": [
        [
         0.15065126404339874,
         0.15069387510069357,
         0.15742934017255128,
         0.17411410233307043,
         0.14952468347495915,
         0.15637149988243024,
         0.15694461024384818,
         0.13966420763488155,
         0.155276455579605,
         0.13764545662639827,
         0.14451915566467477,
         0.15449318311245566,
         0.14230295806025803,
         0.15677597310046743,
         0.15013933222230524,
         0.16804315960931754,
         0.1515661611663655,
         0.1512430537405384,
         0.1515345499896479,
         0.14961366321961753,
         0.15160915317513737,
         0.1495300291388128,
         0.15643142062429238,
         0.15542840678628045,
         0.15682969487936269,
         0.15426707688751667,
         0.15340692881416346,
         0.14898833883472581,
         0.13993922631865652,
         0.15101907539831905,
         0.14430981736711207,
         0.14448296584385115,
         0.14607425820983458,
         0.1361053135782068,
         0.15269342025493857,
         0.16169834951672424,
         0.1622720809635,
         0.14715406867215367,
         0.1514887275494501,
         0.15195295569510736,
         0.13883946969213992,
         0.15148180638106545,
         0.14662741433593238,
         0.15970314167854638,
         0.14294496108963273,
         0.1522027058036751,
         0.14907952808203814,
         0.16001028393359448,
         0.14514816341790548,
         0.14307012644954495,
         0.15062555054498405,
         0.14216444099816145,
         0.1541813238507478,
         0.14953395214181528,
         0.15771216969012214,
         0.15267922867698974,
         0.14398618277551437,
         0.14573243592213722,
         0.14136913846936058,
         0.1459480844246825,
         0.14876841297651133,
         0.16403961470709985,
         0.1703660844051381,
         0.15702120980068743,
         0.13672486814249107,
         0.1636787336198496,
         0.15563465518585817,
         0.15017734279492925,
         0.14555125151438747,
         0.15388968771819878,
         0.1667820210475332,
         0.15249422095777912,
         0.14052040138291588,
         0.14540361666700755,
         0.15338793037627607,
         0.15129439483383553,
         0.14800080229012297,
         0.1460039151056795,
         0.15178220038176524,
         0.16001060988921345,
         0.15468624732898006,
         0.15346026588187703,
         0.14245599529954114,
         0.15218334902529704,
         0.1488703338932512,
         0.1483612638238513,
         0.14855986692993806,
         0.1464344997510419,
         0.14714032868176896,
         0.13325211804427597,
         0.14445438943272626,
         0.16293563369250072,
         0.14941646230835523,
         0.15530443926004805,
         0.16353329170859182,
         0.1372126343000776,
         0.15431866544713516,
         0.15501599709977376,
         0.15178722698384087,
         0.15945145410197664
        ],
        [
         0.2607094894035482,
         0.25152363982416837,
         0.2624369740084398,
         0.2721587693063067,
         0.2555768515951201,
         0.26208953495484355,
         0.2634253244043565,
         0.2539173921971929,
         0.26157181118341055,
         0.2525112810270751,
         0.2428060582309377,
         0.2546102258139381,
         0.24624567057060845,
         0.2667235343023112,
         0.26532813913974107,
         0.2719848107765703,
         0.26146054446843325,
         0.2541711153279917,
         0.2550209440181361,
         0.25901201009458186,
         0.26041509284108294,
         0.25492130168804933,
         0.2554916883179662,
         0.2624007331791754,
         0.2659022167288497,
         0.25761313508173417,
         0.2554649315847486,
         0.25590887921405775,
         0.2515208488330245,
         0.2551156078081797,
         0.2510868934366633,
         0.254622245253082,
         0.2509223360513501,
         0.25864710845053196,
         0.2598929234835155,
         0.257823523846181,
         0.2708934814687453,
         0.24885866535352727,
         0.2609385838366899,
         0.25686998475416034,
         0.2542084632624014,
         0.26003825534865554,
         0.25499230813162,
         0.2652295784038656,
         0.24690896066307438,
         0.2558532603011996,
         0.2559281572078665,
         0.266428427222897,
         0.2614188313885939,
         0.2506521968718837,
         0.25690510071010564,
         0.24795524257363058,
         0.25965791023975493,
         0.25163345477160287,
         0.262177509639193,
         0.26165144514365524,
         0.25275580880834775,
         0.25357149585204963,
         0.2485080660850394,
         0.2633009436631612,
         0.25286961365125926,
         0.26567719774503334,
         0.2628344141275567,
         0.25867535897037564,
         0.2483408649945084,
         0.27338966612211046,
         0.25481182382460316,
         0.2522390520967105,
         0.25588798101114874,
         0.26267026697157647,
         0.2730773607013272,
         0.2634821090226372,
         0.25367639617373544,
         0.25433957721928463,
         0.26579560732067214,
         0.25639500686277944,
         0.26432983944302096,
         0.251393197524343,
         0.2518817610381281,
         0.2622998674747114,
         0.256348723746544,
         0.2578177595346728,
         0.26206142493688006,
         0.26368046800295514,
         0.25285180482794256,
         0.2527329825485746,
         0.2638851876790617,
         0.2652895536054583,
         0.256284218482381,
         0.25226112754613744,
         0.2577447436165576,
         0.2632689154798202,
         0.2610723710454562,
         0.26769668170634436,
         0.25878112344984333,
         0.2458515385275378,
         0.2590366793686853,
         0.2568306084904893,
         0.25959773202810216,
         0.25737432830547
        ],
        [
         26.592367919161916,
         25.655411262065172,
         26.76857134886086,
         27.760194469243288,
         26.06883886270225,
         26.733132565394044,
         26.869383089244366,
         25.899574004113674,
         26.680324740707874,
         25.756150664761662,
         24.766217939555645,
         25.97024303302169,
         25.11705839820206,
         27.205800498835742,
         27.06347019225359,
         27.742450699210167,
         26.66897553578019,
         25.925453763455153,
         26.012136289849877,
         26.41922502964735,
         26.56233946979046,
         26.001972772181034,
         26.060152208432555,
         26.76487478427589,
         27.122026106342673,
         26.276539778336883,
         26.057423021644354,
         26.10270567983389,
         25.6551265809685,
         26.02179199643433,
         25.610863130539656,
         25.971469015814364,
         25.594078277237713,
         26.38200506195426,
         26.50907819531858,
         26.297999432310462,
         27.63113510981202,
         25.38358386605978,
         26.615735551342368,
         26.200738444924355,
         25.92926325276494,
         26.523902045562863,
         26.00921542942524,
         27.05341699719429,
         25.184713987633586,
         26.09703255072236,
         26.104672035202384,
         27.175699576735497,
         26.664720801636577,
         25.56652408093214,
         26.204320272430778,
         25.29143474251032,
         26.485106844455004,
         25.66661238670349,
         26.74210598319769,
         26.688447404652834,
         25.78109249845147,
         25.864292576909065,
         25.34782274067402,
         26.85669625364244,
         25.792700592428446,
         27.0990741699934,
         26.809110241010785,
         26.384886614978313,
         25.330768229439855,
         27.885745944455266,
         25.990806030109525,
         25.72838331386447,
         26.100574063137174,
         26.792367231100798,
         27.853890791535378,
         26.875175120308995,
         25.874992409721017,
         25.942636876367033,
         27.11115194670856,
         26.152290700003505,
         26.961643623188138,
         25.64210614748299,
         25.691939625889063,
         26.754586482420564,
         26.14756982214749,
         26.297411472536623,
         26.73026534356177,
         26.895407736301422,
         25.790884092450142,
         25.77876421995461,
         26.916289143264294,
         27.059534467756748,
         26.14099028520286,
         25.73063500970602,
         26.289963848888874,
         26.853429378941655,
         26.629381846636534,
         27.305061534047127,
         26.395674591884017,
         25.076856929808855,
         26.421741295605898,
         26.196722066029906,
         26.47896866686642,
         26.25218148715794
        ],
        [
         3.9200036903588074,
         3.9205580291931335,
         4.00721757552547,
         4.2142186034866755,
         3.905319156540964,
         3.9937317120717912,
         4.001043644459845,
         3.774354140612393,
         3.979723416158429,
         3.7469769916417452,
         3.839394988510146,
         3.969673119725411,
         3.8098427424430934,
         3.998893503989282,
         3.913337691367195,
         4.140096892604133,
         3.9318886605509675,
         3.9276954415451955,
         3.93147861483998,
         3.906480980166292,
         3.9324462645869698,
         3.9053889655396565,
         3.9944968273460693,
         3.981670188777645,
         3.9995785875133145,
         3.9667671777565547,
         3.9556929530797342,
         3.8983086795611808,
         3.778068433009514,
         3.924786069409203,
         3.836613268423784,
         3.83891423661337,
         3.8599966758279893,
         3.725955177531943,
         3.9464831009398402,
         4.0611859906566545,
         4.068384477686075,
         3.874237344892498,
         3.9308841511858246,
         3.9369025236727606,
         3.7631935784115957,
         3.9307943536731442,
         3.867298315654626,
         4.0360525828105525,
         3.8184271671910333,
         3.940136544838879,
         3.8995014892121653,
         4.039931801556387,
         3.8477412424208515,
         3.820098545568371,
         3.9196691385355957,
         3.8079880490637654,
         3.9656645133919577,
         3.9054401952232167,
         4.010815541556662,
         3.9462997003589266,
         3.8323087875460224,
         3.8554777218988048,
         3.797321704027034,
         3.8583292512844998,
         3.895430415705581,
         4.090481719812984,
         4.168613751515495,
         4.002019914951712,
         3.7344258662522796,
         4.085979788156648,
         3.984311085866355,
         3.9138330272359325,
         3.8530802813421268,
         3.961912183183301,
         4.124532233702191,
         3.9439080285540977,
         3.7859055642022317,
         3.8511256666116167,
         3.955448002234407,
         3.9283620343663865,
         3.8853676574543807,
         3.859067159402556,
         3.9346898783690754,
         4.039935916410032,
         3.972152719566049,
         3.9563805580292017,
         3.81189080648347,
         3.93988598827178,
         3.8967645626996283,
         3.8900962597386766,
         3.892699118459283,
         3.8647534170508573,
         3.874056469069654,
         3.6866944598808495,
         3.838534580036772,
         4.076694081806369,
         3.903905628399877,
         3.980082009773782,
         4.084164021470779,
         3.7410812205307584,
         3.9674303869895162,
         3.9763842500665008,
         3.93475503079312,
         4.032870977157789
        ]
       ],
       "encoder": "json",
       "name": "ABC_GAN_1 Metrics",
       "version": 1
      }
     },
     "metadata": {
      "scrapbook": {
       "data": true,
       "display": false,
       "name": "ABC_GAN_1 Metrics"
      }
     },
     "output_type": "display_data"
    },
    {
     "name": "stdout",
     "output_type": "stream",
     "text": [
      "MSE\n",
      "0.1510763453863635\n"
     ]
    }
   ],
   "source": [
    "ABC_GAN1_metrics=ABC_train_test2.test_generator(gen,test_data,prior_model,variance,bias,\"1\",device)\n",
    "sb.glue(\"ABC_GAN_1 Metrics\",ABC_GAN1_metrics)\n",
    "\n",
    "print(\"MSE\")\n",
    "print(mean(ABC_GAN1_metrics[0]))"
   ]
  },
  {
   "cell_type": "code",
   "execution_count": 14,
   "id": "eb22ce5c",
   "metadata": {
    "execution": {
     "iopub.execute_input": "2022-06-12T04:23:31.845519Z",
     "iopub.status.busy": "2022-06-12T04:23:31.845140Z",
     "iopub.status.idle": "2022-06-12T04:23:32.169933Z",
     "shell.execute_reply": "2022-06-12T04:23:32.170179Z"
    },
    "papermill": {
     "duration": 0.33982,
     "end_time": "2022-06-12T04:23:32.170302",
     "exception": false,
     "start_time": "2022-06-12T04:23:31.830482",
     "status": "completed"
    },
    "tags": []
   },
   "outputs": [
    {
     "data": {
      "image/png": "[encoded data removed]",
      "text/plain": [
       "<Figure size 432x288 with 1 Axes>"
      ]
     },
     "metadata": {
      "needs_background": "light"
     },
     "output_type": "display_data"
    },
    {
     "data": {
      "image/png": "[encoded data removed]",
      "text/plain": [
       "<Figure size 432x288 with 1 Axes>"
      ]
     },
     "metadata": {
      "needs_background": "light"
     },
     "output_type": "display_data"
    },
    {
     "data": {
      "image/png": "[encoded data removed]",
      "text/plain": [
       "<Figure size 432x288 with 1 Axes>"
      ]
     },
     "metadata": {
      "needs_background": "light"
     },
     "output_type": "display_data"
    },
    {
     "data": {
      "image/png": "[encoded data removed]",
      "text/plain": [
       "<Figure size 432x288 with 1 Axes>"
      ]
     },
     "metadata": {
      "needs_background": "light"
     },
     "output_type": "display_data"
    }
   ],
   "source": [
    "sanityChecks.discProbVsError(train_data,disc,device)\n",
    "sanityChecks.discProbVsError(test_data,disc,device)"
   ]
  },
  {
   "cell_type": "markdown",
   "id": "130f3a4d",
   "metadata": {
    "id": "130f3a4d",
    "papermill": {
     "duration": 0.014436,
     "end_time": "2022-06-12T04:23:32.199642",
     "exception": false,
     "start_time": "2022-06-12T04:23:32.185206",
     "status": "completed"
    },
    "tags": []
   },
   "source": [
    "# ABC - GAN Model with skip connection"
   ]
  },
  {
   "cell_type": "code",
   "execution_count": 15,
   "id": "4e43dad1",
   "metadata": {
    "execution": {
     "iopub.execute_input": "2022-06-12T04:23:32.232578Z",
     "iopub.status.busy": "2022-06-12T04:23:32.232215Z",
     "iopub.status.idle": "2022-06-12T04:23:32.234337Z",
     "shell.execute_reply": "2022-06-12T04:23:32.234637Z"
    },
    "id": "4e43dad1",
    "papermill": {
     "duration": 0.020513,
     "end_time": "2022-06-12T04:23:32.234747",
     "exception": false,
     "start_time": "2022-06-12T04:23:32.214234",
     "status": "completed"
    },
    "tags": []
   },
   "outputs": [],
   "source": [
    "#Generator\n",
    "gen3 = network.GeneratorWithSkipConnection(n_features+1).to(device)\n",
    "constraints=network.weightConstraint()\n",
    "#Discriminator \n",
    "disc3 = network.Discriminator(n_features+1).to(device)\n",
    "\n",
    "criterion = torch.nn.BCELoss()\n",
    "gen_opt = torch.optim.Adam(gen3.parameters(), lr=0.001, betas=(0.5, 0.999))\n",
    "disc_opt = torch.optim.Adam(disc3.parameters(), lr=0.001, betas=(0.5, 0.999))\n"
   ]
  },
  {
   "cell_type": "code",
   "execution_count": 16,
   "id": "26acbc37",
   "metadata": {
    "execution": {
     "iopub.execute_input": "2022-06-12T04:23:32.266417Z",
     "iopub.status.busy": "2022-06-12T04:23:32.266052Z",
     "iopub.status.idle": "2022-06-12T04:26:36.690485Z",
     "shell.execute_reply": "2022-06-12T04:26:36.690890Z"
    },
    "id": "26acbc37",
    "papermill": {
     "duration": 184.441598,
     "end_time": "2022-06-12T04:26:36.691060",
     "exception": false,
     "start_time": "2022-06-12T04:23:32.249462",
     "status": "completed"
    },
    "tags": []
   },
   "outputs": [
    {
     "data": {
      "image/png": "[encoded data removed]",
      "text/plain": [
       "<Figure size 432x288 with 1 Axes>"
      ]
     },
     "metadata": {
      "needs_background": "light"
     },
     "output_type": "display_data"
    },
    {
     "data": {
      "image/png": "[encoded data removed]",
      "text/plain": [
       "<Figure size 432x288 with 1 Axes>"
      ]
     },
     "metadata": {
      "needs_background": "light"
     },
     "output_type": "display_data"
    }
   ],
   "source": [
    "ABC_train_test2.training_GAN_skip_connection(disc3,gen3,disc_opt,gen_opt,train_data,batch_size,n_epochs,criterion,prior_model,variance,bias,device)"
   ]
  },
  {
   "cell_type": "code",
   "execution_count": 17,
   "id": "c5e0717b",
   "metadata": {
    "execution": {
     "iopub.execute_input": "2022-06-12T04:26:36.725970Z",
     "iopub.status.busy": "2022-06-12T04:26:36.725585Z",
     "iopub.status.idle": "2022-06-12T04:26:37.572522Z",
     "shell.execute_reply": "2022-06-12T04:26:37.572832Z"
    },
    "id": "c5e0717b",
    "papermill": {
     "duration": 0.866014,
     "end_time": "2022-06-12T04:26:37.572958",
     "exception": false,
     "start_time": "2022-06-12T04:26:36.706944",
     "status": "completed"
    },
    "tags": []
   },
   "outputs": [
    {
     "data": {
      "application/scrapbook.scrap.json+json": {
       "data": 0.1812163390130107,
       "encoder": "json",
       "name": "ABC-GAN Model 3 MSE",
       "version": 1
      }
     },
     "metadata": {
      "scrapbook": {
       "data": true,
       "display": false,
       "name": "ABC-GAN Model 3 MSE"
      }
     },
     "output_type": "display_data"
    },
    {
     "data": {
      "application/scrapbook.scrap.json+json": {
       "data": 0.2777160661323361,
       "encoder": "json",
       "name": "ABC-GAN Model 3 MAE",
       "version": 1
      }
     },
     "metadata": {
      "scrapbook": {
       "data": true,
       "display": false,
       "name": "ABC-GAN Model 3 MAE"
      }
     },
     "output_type": "display_data"
    },
    {
     "data": {
      "application/scrapbook.scrap.json+json": {
       "data": 28.327038745498285,
       "encoder": "json",
       "name": "ABC-GAN Model 3 Manhattan Distance",
       "version": 1
      }
     },
     "metadata": {
      "scrapbook": {
       "data": true,
       "display": false,
       "name": "ABC-GAN Model 3 Manhattan Distance"
      }
     },
     "output_type": "display_data"
    },
    {
     "data": {
      "application/scrapbook.scrap.json+json": {
       "data": 4.298334832359601,
       "encoder": "json",
       "name": "ABC-GAN Model 3 Euclidean distance",
       "version": 1
      }
     },
     "metadata": {
      "scrapbook": {
       "data": true,
       "display": false,
       "name": "ABC-GAN Model 3 Euclidean distance"
      }
     },
     "output_type": "display_data"
    },
    {
     "data": {
      "application/scrapbook.scrap.json+json": {
       "data": [
        [
         0.17729232140769946,
         0.1916094407488729,
         0.19599411454871582,
         0.17884515160221348,
         0.2032781140145079,
         0.1984775914698642,
         0.1737975960309048,
         0.171528709111701,
         0.18376374771591503,
         0.17940668298893864,
         0.18429454211380056,
         0.1857643876208052,
         0.17247351732432975,
         0.18324717652538763,
         0.18115292620608137,
         0.17867876151391446,
         0.1901913866908495,
         0.1825633502890495,
         0.18292662022654654,
         0.16916798554478946,
         0.18516524414358812,
         0.1809049605378687,
         0.18970270875961529,
         0.1980905421628519,
         0.17933936102020878,
         0.17908626704720051,
         0.18786091195110613,
         0.17804302825637855,
         0.18094377483622742,
         0.1892848608881642,
         0.1714729638207438,
         0.17640429620068204,
         0.18726867497990002,
         0.16404494273424228,
         0.1749358841386254,
         0.18802969833601949,
         0.18918770066975427,
         0.17423499900973735,
         0.17943699463158394,
         0.1740721134185507,
         0.1858181647366769,
         0.17727718177059307,
         0.18985363372070405,
         0.18323992695089875,
         0.17515364355447097,
         0.1861866538125625,
         0.18081575999719499,
         0.1853549566567975,
         0.1798765393956428,
         0.17314038252793457,
         0.17664083120442503,
         0.18480272775867715,
         0.18277236313386613,
         0.17549373791763595,
         0.1923552301012852,
         0.18758121985372123,
         0.17303214709205147,
         0.18156869537720724,
         0.19518411294115828,
         0.17306388097732991,
         0.1804226882947424,
         0.1761293422651591,
         0.18175693635061926,
         0.17110024285288064,
         0.18121301037768853,
         0.17735045413925107,
         0.1850120312251306,
         0.18132533698535838,
         0.17530909449427853,
         0.16856678715927445,
         0.18167532780109438,
         0.18787136373940536,
         0.17012448700817676,
         0.1734963800224958,
         0.17949086705472805,
         0.17718077621447853,
         0.1808173961112979,
         0.17262088511635973,
         0.17674633554452632,
         0.16703992977332996,
         0.19850466935164315,
         0.18636409111640984,
         0.17596089501864892,
         0.16034949369325063,
         0.18252409699885844,
         0.19056477210103298,
         0.18101920282299439,
         0.17893844081912336,
         0.17457610148059183,
         0.18111606548039832,
         0.17422956934250064,
         0.19565162258257834,
         0.1940639259786022,
         0.1834772866139864,
         0.18011768108031337,
         0.18391956214555016,
         0.1770508461213833,
         0.18760999007623033,
         0.1788961534546366,
         0.1802739217732923
        ],
        [
         0.28031437035065654,
         0.28425795270823967,
         0.2921607199800657,
         0.27084096163219096,
         0.2970310031052898,
         0.2886308890347387,
         0.2713685375181775,
         0.2724754623886125,
         0.279980500571101,
         0.28467360122458024,
         0.2839460889260997,
         0.27986775641786116,
         0.27394844350569386,
         0.2796401861762884,
         0.28041001091546874,
         0.2767100187438522,
         0.27962778042088826,
         0.28117075098641947,
         0.2808559493654791,
         0.26430692746504847,
         0.28371391396093015,
         0.2799007734283805,
         0.28435751331933573,
         0.29757891091353755,
         0.27817497553997766,
         0.2746922314240068,
         0.2837354616791594,
         0.2801335312645225,
         0.28385417918473776,
         0.29140471402263524,
         0.2686596808261147,
         0.2697818172620792,
         0.2770369927782346,
         0.27204898690037865,
         0.2745014629965904,
         0.2818662778784831,
         0.28055527391752194,
         0.26475552268618463,
         0.2752728363973837,
         0.26847260668143336,
         0.27926816088238765,
         0.2742174345744299,
         0.27597039879537094,
         0.28230623314704967,
         0.27075649564172705,
         0.28515011987046285,
         0.2730573231683058,
         0.28241198292622965,
         0.27440009244224606,
         0.27499278817398876,
         0.27172262311054796,
         0.27698575131430786,
         0.2825996274603348,
         0.272381495100026,
         0.28231258891230704,
         0.28710799905307155,
         0.26593381230372426,
         0.28163017836563725,
         0.2896820409771274,
         0.2734500106570183,
         0.27630230519628407,
         0.271448146515325,
         0.2760548314956181,
         0.26714764535427094,
         0.2792055649208088,
         0.2727299755183505,
         0.283648393126022,
         0.2760357744626555,
         0.26406980343345626,
         0.2755052759220787,
         0.2801408113035209,
         0.27767736479347827,
         0.27530191232468565,
         0.2710424257150176,
         0.2734949179176314,
         0.2769647739352841,
         0.27574953000408176,
         0.27555104803440034,
         0.27196954270167384,
         0.2729540468723166,
         0.28508922222125177,
         0.2835891785867074,
         0.279336576167421,
         0.2624864678135982,
         0.28000474985981105,
         0.28508008645810917,
         0.27554528964866026,
         0.27395326426873606,
         0.2648835007795224,
         0.2731735657024033,
         0.27027101332650466,
         0.28887301838646334,
         0.2805586917800646,
         0.2837056837902934,
         0.2775622143903199,
         0.27728655510673333,
         0.2762767068366064,
         0.2816879146494994,
         0.27663943562291415,
         0.2735566569163519
        ],
        [
         28.59206577576697,
         28.994311176240444,
         29.800393437966704,
         27.62577808648348,
         30.29716231673956,
         29.44035068154335,
         27.67959082685411,
         27.792497163638473,
         28.558011058252305,
         29.036707324907184,
         28.962501070462167,
         28.54651115462184,
         27.942741237580776,
         28.523298989981413,
         28.60182111337781,
         28.224421911872923,
         28.522033602930605,
         28.679416600614786,
         28.64730683527887,
         26.959306601434946,
         28.93881922401488,
         28.54987888969481,
         29.004466358572245,
         30.353048913180828,
         28.37384750507772,
         28.01860760524869,
         28.94101709127426,
         28.573620188981295,
         28.95312627684325,
         29.723280830308795,
         27.403287444263697,
         27.51774536073208,
         28.25777326337993,
         27.748996663838625,
         27.999149225652218,
         28.75036034360528,
         28.616637939587235,
         27.00506331399083,
         28.07782931253314,
         27.384205881506205,
         28.485352410003543,
         27.97017832659185,
         28.148980677127838,
         28.795235780999064,
         27.61716255545616,
         29.08531222678721,
         27.85184696316719,
         28.806022258475423,
         27.988809429109097,
         28.049264393746853,
         27.71570755727589,
         28.2525466340594,
         28.82516200095415,
         27.782912500202656,
         28.79588406905532,
         29.285015903413296,
         27.125248854979873,
         28.726278193295002,
         29.547568179666996,
         27.891901087015867,
         28.182835130020976,
         27.68771094456315,
         28.157592812553048,
         27.249059826135635,
         28.478967621922493,
         27.818457502871752,
         28.932136098854244,
         28.15564899519086,
         26.93511995021254,
         28.10153814405203,
         28.574362752959132,
         28.323091208934784,
         28.08079505711794,
         27.64632742293179,
         27.896481627598405,
         28.25040694139898,
         28.12645206041634,
         28.106206899508834,
         27.740893355570734,
         27.841312780976295,
         29.079100666567683,
         28.926096215844154,
         28.492330769076943,
         26.773619716987014,
         28.560484485700727,
         29.078168818727136,
         28.105619544163346,
         27.943232955411077,
         27.018117079511285,
         27.863703701645136,
         27.567643359303474,
         29.46504787541926,
         28.61698656156659,
         28.937979746609926,
         28.311345867812634,
         28.283228620886803,
         28.18022409733385,
         28.73216729424894,
         28.217222433537245,
         27.90277900546789
        ],
        [
         4.2525071174056075,
         4.420878075267971,
         4.471174307043846,
         4.271089493727072,
         4.553500590697206,
         4.499412664995971,
         4.2103865374989375,
         4.182813446640132,
         4.329422856111808,
         4.277789343208913,
         4.335671031755944,
         4.35292631884829,
         4.19431743756736,
         4.323333436781108,
         4.298557720098718,
         4.2691022094135045,
         4.4044887833285085,
         4.315259172921488,
         4.319550354273898,
         4.153930009709903,
         4.345900931066652,
         4.295614737713638,
         4.398826695095041,
         4.495023392665592,
         4.2769866523127344,
         4.27396762257442,
         4.377420818131703,
         4.261500778147367,
         4.296075538592774,
         4.393979495923113,
         4.182133702993708,
         4.24184372796424,
         4.370515398434125,
         4.090548148951765,
         4.224152007461354,
         4.3793868555168745,
         4.392851632859336,
         4.215681427597822,
         4.278150704734648,
         4.213710427721888,
         4.353556339722852,
         4.252325544993056,
         4.400576171311185,
         4.32324791667002,
         4.2267802926762155,
         4.35787088942311,
         4.29455556719364,
         4.348126674671903,
         4.283387329947592,
         4.202418234522752,
         4.244686653081867,
         4.341644645913006,
         4.317728689907963,
         4.230881854601812,
         4.429473272335108,
         4.3741609967032025,
         4.2011044980325405,
         4.303487763253793,
         4.461925539495045,
         4.2014897190981735,
         4.289885104063246,
         4.238536647363832,
         4.30571800142127,
         4.177585998036883,
         4.299270526324697,
         4.253204241769211,
         4.344102575327074,
         4.30060279176147,
         4.228655535559312,
         4.146542208906837,
         4.3047512629316484,
         4.377542587048051,
         4.165656931965716,
         4.20673635521583,
         4.278792871778472,
         4.251169153759563,
         4.2945749968247595,
         4.1961089454241645,
         4.245954100734214,
         4.127720053114026,
         4.499719577247854,
         4.35994693704795,
         4.236509328669322,
         4.044211710174378,
         4.314795231976085,
         4.408810129083057,
         4.296970873527702,
         4.272203291458703,
         4.219805961299685,
         4.298120365811156,
         4.2156157406641155,
         4.467265998731549,
         4.449103330989,
         4.326047068008692,
         4.286257513284983,
         4.331257939542057,
         4.249610135574921,
         4.374496426764512,
         4.271698450543171,
         4.288116138921124
        ]
       ],
       "encoder": "json",
       "name": "ABC_GAN_3 Metrics",
       "version": 1
      }
     },
     "metadata": {
      "scrapbook": {
       "data": true,
       "display": false,
       "name": "ABC_GAN_3 Metrics"
      }
     },
     "output_type": "display_data"
    },
    {
     "name": "stdout",
     "output_type": "stream",
     "text": [
      "MSE\n",
      "0.1812163390130107\n"
     ]
    }
   ],
   "source": [
    "ABC_GAN3_metrics=ABC_train_test2.test_generator(gen3,test_data,prior_model,variance,bias,\"3\",device)\n",
    "sb.glue(\"ABC_GAN_3 Metrics\",ABC_GAN3_metrics)\n",
    "\n",
    "print(\"MSE\")\n",
    "print(mean(ABC_GAN3_metrics[0]))"
   ]
  },
  {
   "cell_type": "code",
   "execution_count": 18,
   "id": "c8e46b48",
   "metadata": {
    "execution": {
     "iopub.execute_input": "2022-06-12T04:26:37.610170Z",
     "iopub.status.busy": "2022-06-12T04:26:37.609815Z",
     "iopub.status.idle": "2022-06-12T04:26:37.939265Z",
     "shell.execute_reply": "2022-06-12T04:26:37.939651Z"
    },
    "id": "c8e46b48",
    "papermill": {
     "duration": 0.349129,
     "end_time": "2022-06-12T04:26:37.939771",
     "exception": false,
     "start_time": "2022-06-12T04:26:37.590642",
     "status": "completed"
    },
    "tags": []
   },
   "outputs": [
    {
     "data": {
      "image/png": "[encoded data removed]",
      "text/plain": [
       "<Figure size 432x288 with 1 Axes>"
      ]
     },
     "metadata": {
      "needs_background": "light"
     },
     "output_type": "display_data"
    },
    {
     "data": {
      "image/png": "[encoded data removed]",
      "text/plain": [
       "<Figure size 432x288 with 1 Axes>"
      ]
     },
     "metadata": {
      "needs_background": "light"
     },
     "output_type": "display_data"
    },
    {
     "data": {
      "image/png": "[encoded data removed]",
      "text/plain": [
       "<Figure size 432x288 with 1 Axes>"
      ]
     },
     "metadata": {
      "needs_background": "light"
     },
     "output_type": "display_data"
    },
    {
     "data": {
      "image/png": "[encoded data removed]",
      "text/plain": [
       "<Figure size 432x288 with 1 Axes>"
      ]
     },
     "metadata": {
      "needs_background": "light"
     },
     "output_type": "display_data"
    }
   ],
   "source": [
    "sanityChecks.discProbVsError(train_data,disc3,device)\n",
    "sanityChecks.discProbVsError(test_data,disc3,device)"
   ]
  },
  {
   "cell_type": "markdown",
   "id": "a5bd74c3",
   "metadata": {
    "id": "a5bd74c3",
    "papermill": {
     "duration": 0.019181,
     "end_time": "2022-06-12T04:26:37.978726",
     "exception": false,
     "start_time": "2022-06-12T04:26:37.959545",
     "status": "completed"
    },
    "tags": []
   },
   "source": [
    "## Skip Connection Model Analysis - ABC-GAN "
   ]
  },
  {
   "cell_type": "markdown",
   "id": "5744a8bf",
   "metadata": {
    "id": "5744a8bf",
    "papermill": {
     "duration": 0.01899,
     "end_time": "2022-06-12T04:26:38.016780",
     "exception": false,
     "start_time": "2022-06-12T04:26:37.997790",
     "status": "completed"
    },
    "tags": []
   },
   "source": [
    "### Weight Analysis \n",
    "\n",
    "Study the weights of the skip connection layer\n",
    "\n",
    "Equation of the skip connection is \n",
    "\n",
    "$output = y_{gan} * w + y_{abc} * (1-w)$"
   ]
  },
  {
   "cell_type": "code",
   "execution_count": 19,
   "id": "52c31dea",
   "metadata": {
    "execution": {
     "iopub.execute_input": "2022-06-12T04:26:38.057901Z",
     "iopub.status.busy": "2022-06-12T04:26:38.057508Z",
     "iopub.status.idle": "2022-06-12T04:26:38.060895Z",
     "shell.execute_reply": "2022-06-12T04:26:38.061181Z"
    },
    "id": "52c31dea",
    "papermill": {
     "duration": 0.025497,
     "end_time": "2022-06-12T04:26:38.061300",
     "exception": false,
     "start_time": "2022-06-12T04:26:38.035803",
     "status": "completed"
    },
    "tags": []
   },
   "outputs": [
    {
     "name": "stdout",
     "output_type": "stream",
     "text": [
      "Weight of the node at skip connection\n",
      "Parameter containing:\n",
      "tensor([[0.1585]], requires_grad=True)\n"
     ]
    },
    {
     "data": {
      "application/scrapbook.scrap.json+json": {
       "data": 0.1584835946559906,
       "encoder": "json",
       "name": "Skip Connection Weight",
       "version": 1
      }
     },
     "metadata": {
      "scrapbook": {
       "data": true,
       "display": false,
       "name": "Skip Connection Weight"
      }
     },
     "output_type": "display_data"
    }
   ],
   "source": [
    "print(\"Weight of the node at skip connection\")\n",
    "for name,param in gen3.named_parameters():\n",
    "    if(name == \"skipNode.weight\"):\n",
    "        print(param)\n",
    "        sb.glue(\"Skip Connection Weight\",param.item())"
   ]
  }
 ],
 "metadata": {
  "colab": {
   "collapsed_sections": [],
   "name": "ABC_GAN_Model-Catboost_Pre-gen.ipynb",
   "provenance": []
  },
  "interpreter": {
   "hash": "31f2aee4e71d21fbe5cf8b01ff0e069b9275f58929596ceb00d14d90e3e16cd6"
  },
  "kernelspec": {
   "display_name": "Python 3 (ipykernel)",
   "language": "python",
   "name": "python3"
  },
  "language_info": {
   "codemirror_mode": {
    "name": "ipython",
    "version": 3
   },
   "file_extension": ".py",
   "mimetype": "text/x-python",
   "name": "python",
   "nbconvert_exporter": "python",
   "pygments_lexer": "ipython3",
   "version": "3.8.11"
  },
  "papermill": {
   "default_parameters": {},
   "duration": 254.986393,
   "end_time": "2022-06-12T04:26:38.491127",
   "environment_variables": {},
   "exception": null,
   "input_path": "ABC_GAN-Catboost.ipynb",
   "output_path": "./ABC_GAN_Catboost/ABC-GAN_output_4_4.ipynb",
   "parameters": {
    "bias": 0.1,
    "variance": 0.1
   },
   "start_time": "2022-06-12T04:22:23.504734",
   "version": "2.3.3"
  }
 },
 "nbformat": 4,
 "nbformat_minor": 5
}