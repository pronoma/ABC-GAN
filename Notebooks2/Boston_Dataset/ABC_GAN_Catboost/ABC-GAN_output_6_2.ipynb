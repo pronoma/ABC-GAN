{
 "cells": [
  {
   "cell_type": "markdown",
   "id": "622780e6",
   "metadata": {
    "id": "622780e6",
    "papermill": {
     "duration": 0.032854,
     "end_time": "2022-06-12T05:35:52.290749",
     "exception": false,
     "start_time": "2022-06-12T05:35:52.257895",
     "status": "completed"
    },
    "tags": []
   },
   "source": [
    "## Import Libraries "
   ]
  },
  {
   "cell_type": "code",
   "execution_count": 1,
   "id": "a62397e3",
   "metadata": {
    "execution": {
     "iopub.execute_input": "2022-06-12T05:35:52.329925Z",
     "iopub.status.busy": "2022-06-12T05:35:52.329262Z",
     "iopub.status.idle": "2022-06-12T05:35:52.331840Z",
     "shell.execute_reply": "2022-06-12T05:35:52.332183Z"
    },
    "id": "a62397e3",
    "papermill": {
     "duration": 0.024421,
     "end_time": "2022-06-12T05:35:52.332410",
     "exception": false,
     "start_time": "2022-06-12T05:35:52.307989",
     "status": "completed"
    },
    "tags": []
   },
   "outputs": [],
   "source": [
    "import warnings\n",
    "import sys\n",
    "sys.path.insert(0, '../../src')\n",
    "warnings.filterwarnings('ignore')"
   ]
  },
  {
   "cell_type": "code",
   "execution_count": 2,
   "id": "d6a4e155",
   "metadata": {
    "execution": {
     "iopub.execute_input": "2022-06-12T05:35:52.353125Z",
     "iopub.status.busy": "2022-06-12T05:35:52.352716Z",
     "iopub.status.idle": "2022-06-12T05:35:54.243245Z",
     "shell.execute_reply": "2022-06-12T05:35:54.243533Z"
    },
    "id": "d6a4e155",
    "papermill": {
     "duration": 1.9019,
     "end_time": "2022-06-12T05:35:54.243762",
     "exception": false,
     "start_time": "2022-06-12T05:35:52.341862",
     "status": "completed"
    },
    "tags": []
   },
   "outputs": [],
   "source": [
    "import ABC_train_test2\n",
    "import bostonDataset\n",
    "import network\n",
    "import dataset\n",
    "import sanityChecks\n",
    "import torch \n",
    "import scrapbook as sb\n",
    "from statistics import mean \n",
    "import catboost as ctb \n",
    "from sklearn.model_selection import train_test_split\n",
    "from sklearn.metrics import mean_squared_error,mean_absolute_error\n",
    "import numpy as np"
   ]
  },
  {
   "cell_type": "markdown",
   "id": "2fa5b0f7",
   "metadata": {
    "id": "2fa5b0f7",
    "papermill": {
     "duration": 0.006791,
     "end_time": "2022-06-12T05:35:54.258193",
     "exception": false,
     "start_time": "2022-06-12T05:35:54.251402",
     "status": "completed"
    },
    "tags": []
   },
   "source": [
    "## Parameters "
   ]
  },
  {
   "cell_type": "code",
   "execution_count": 3,
   "id": "783186fb",
   "metadata": {
    "execution": {
     "iopub.execute_input": "2022-06-12T05:35:54.274015Z",
     "iopub.status.busy": "2022-06-12T05:35:54.273641Z",
     "iopub.status.idle": "2022-06-12T05:35:54.274928Z",
     "shell.execute_reply": "2022-06-12T05:35:54.275172Z"
    },
    "id": "783186fb",
    "papermill": {
     "duration": 0.010371,
     "end_time": "2022-06-12T05:35:54.275277",
     "exception": false,
     "start_time": "2022-06-12T05:35:54.264906",
     "status": "completed"
    },
    "tags": [
     "parameters"
    ]
   },
   "outputs": [],
   "source": [
    "variance = 1\n",
    "bias = 1 "
   ]
  },
  {
   "cell_type": "code",
   "execution_count": 4,
   "id": "3525eabe",
   "metadata": {
    "execution": {
     "iopub.execute_input": "2022-06-12T05:35:54.290728Z",
     "iopub.status.busy": "2022-06-12T05:35:54.290353Z",
     "iopub.status.idle": "2022-06-12T05:35:54.291485Z",
     "shell.execute_reply": "2022-06-12T05:35:54.291726Z"
    },
    "papermill": {
     "duration": 0.009756,
     "end_time": "2022-06-12T05:35:54.291831",
     "exception": false,
     "start_time": "2022-06-12T05:35:54.282075",
     "status": "completed"
    },
    "tags": [
     "injected-parameters"
    ]
   },
   "outputs": [],
   "source": [
    "# Parameters\n",
    "variance = 0.01\n",
    "bias = 1\n"
   ]
  },
  {
   "cell_type": "markdown",
   "id": "391cdbfd",
   "metadata": {
    "id": "391cdbfd",
    "papermill": {
     "duration": 0.006754,
     "end_time": "2022-06-12T05:35:54.305507",
     "exception": false,
     "start_time": "2022-06-12T05:35:54.298753",
     "status": "completed"
    },
    "tags": []
   },
   "source": [
    "## Dataset \n"
   ]
  },
  {
   "cell_type": "code",
   "execution_count": 5,
   "id": "5b51f161",
   "metadata": {
    "execution": {
     "iopub.execute_input": "2022-06-12T05:35:54.321021Z",
     "iopub.status.busy": "2022-06-12T05:35:54.320660Z",
     "iopub.status.idle": "2022-06-12T05:35:54.321893Z",
     "shell.execute_reply": "2022-06-12T05:35:54.322127Z"
    },
    "id": "5b51f161",
    "papermill": {
     "duration": 0.009881,
     "end_time": "2022-06-12T05:35:54.322229",
     "exception": false,
     "start_time": "2022-06-12T05:35:54.312348",
     "status": "completed"
    },
    "tags": []
   },
   "outputs": [],
   "source": [
    "#Parameters \n",
    "n_features = 13\n",
    "n_samples= 506\n",
    "n_target = 1 "
   ]
  },
  {
   "cell_type": "code",
   "execution_count": 6,
   "id": "5d6eced4",
   "metadata": {
    "execution": {
     "iopub.execute_input": "2022-06-12T05:35:54.337914Z",
     "iopub.status.busy": "2022-06-12T05:35:54.337535Z",
     "iopub.status.idle": "2022-06-12T05:35:54.348362Z",
     "shell.execute_reply": "2022-06-12T05:35:54.348599Z"
    },
    "id": "5d6eced4",
    "papermill": {
     "duration": 0.019573,
     "end_time": "2022-06-12T05:35:54.348709",
     "exception": false,
     "start_time": "2022-06-12T05:35:54.329136",
     "status": "completed"
    },
    "tags": []
   },
   "outputs": [
    {
     "name": "stdout",
     "output_type": "stream",
     "text": [
      "         X1        X2        X3        X4        X5        X6        X7  \\\n",
      "0 -0.419782  0.284830 -1.287909 -0.272599 -0.144217  0.413672 -0.120013   \n",
      "1 -0.417339 -0.487722 -0.593381 -0.272599 -0.740262  0.194274  0.367166   \n",
      "2 -0.417342 -0.487722 -0.593381 -0.272599 -0.740262  1.282714 -0.265812   \n",
      "3 -0.416750 -0.487722 -1.306878 -0.272599 -0.835284  1.016303 -0.809889   \n",
      "4 -0.412482 -0.487722 -1.306878 -0.272599 -0.835284  1.228577 -0.511180   \n",
      "\n",
      "         X8        X9       X10       X11       X12       X13         Y  \n",
      "0  0.140214 -0.982843 -0.666608 -1.459000  0.441052 -1.075562  0.159686  \n",
      "1  0.557160 -0.867883 -0.987329 -0.303094  0.441052 -0.492439 -0.101524  \n",
      "2  0.557160 -0.867883 -0.987329 -0.303094  0.396427 -1.208727  1.324247  \n",
      "3  1.077737 -0.752922 -1.106115  0.113032  0.416163 -1.361517  1.182758  \n",
      "4  1.077737 -0.752922 -1.106115  0.113032  0.441052 -1.026501  1.487503  \n"
     ]
    }
   ],
   "source": [
    "X,Y = bostonDataset.boston_data()"
   ]
  },
  {
   "cell_type": "code",
   "execution_count": 7,
   "id": "fe007438",
   "metadata": {
    "execution": {
     "iopub.execute_input": "2022-06-12T05:35:54.365920Z",
     "iopub.status.busy": "2022-06-12T05:35:54.365552Z",
     "iopub.status.idle": "2022-06-12T05:35:54.366871Z",
     "shell.execute_reply": "2022-06-12T05:35:54.367117Z"
    },
    "id": "fe007438",
    "papermill": {
     "duration": 0.011161,
     "end_time": "2022-06-12T05:35:54.367227",
     "exception": false,
     "start_time": "2022-06-12T05:35:54.356066",
     "status": "completed"
    },
    "tags": []
   },
   "outputs": [],
   "source": [
    "#Train test split for dataset \n",
    "X_train,X_test,Y_train,Y_test = train_test_split(X,Y,test_size = 0.2)\n",
    "train_data = dataset.CustomDataset(X_train,Y_train)\n",
    "test_data = dataset.CustomDataset(X_test,Y_test)\n"
   ]
  },
  {
   "cell_type": "markdown",
   "id": "a9a1af34",
   "metadata": {
    "id": "a9a1af34",
    "papermill": {
     "duration": 0.007089,
     "end_time": "2022-06-12T05:35:54.381576",
     "exception": false,
     "start_time": "2022-06-12T05:35:54.374487",
     "status": "completed"
    },
    "tags": []
   },
   "source": [
    "## Training Parameters "
   ]
  },
  {
   "cell_type": "code",
   "execution_count": 8,
   "id": "952b7fc8",
   "metadata": {
    "execution": {
     "iopub.execute_input": "2022-06-12T05:35:54.397996Z",
     "iopub.status.busy": "2022-06-12T05:35:54.397631Z",
     "iopub.status.idle": "2022-06-12T05:35:54.398921Z",
     "shell.execute_reply": "2022-06-12T05:35:54.399173Z"
    },
    "id": "952b7fc8",
    "papermill": {
     "duration": 0.010579,
     "end_time": "2022-06-12T05:35:54.399279",
     "exception": false,
     "start_time": "2022-06-12T05:35:54.388700",
     "status": "completed"
    },
    "tags": []
   },
   "outputs": [],
   "source": [
    "batch_size = 32\n",
    "n_epochs = 1000\n",
    "#Select the device \n",
    "device = torch.device('cuda' if torch.cuda.is_available() else 'cpu')"
   ]
  },
  {
   "cell_type": "markdown",
   "id": "a95e1600",
   "metadata": {
    "id": "a95e1600",
    "papermill": {
     "duration": 0.00702,
     "end_time": "2022-06-12T05:35:54.413435",
     "exception": false,
     "start_time": "2022-06-12T05:35:54.406415",
     "status": "completed"
    },
    "tags": []
   },
   "source": [
    "# ABC Pre-generator Model \n",
    "\n",
    "1. The catboost model is used as a pre-generator model for the ABC-GAN. \n",
    "2. The model is first trained on the entire dataset \n",
    "3. It generats X,Y pairs and we add some Gaussian noise with mean 0 and variance 1 to it which is then feed as input to the generator.\n"
   ]
  },
  {
   "cell_type": "code",
   "execution_count": 9,
   "id": "ff8ce7bd",
   "metadata": {
    "execution": {
     "iopub.execute_input": "2022-06-12T05:35:54.432452Z",
     "iopub.status.busy": "2022-06-12T05:35:54.432041Z",
     "iopub.status.idle": "2022-06-12T05:35:55.385537Z",
     "shell.execute_reply": "2022-06-12T05:35:55.385901Z"
    },
    "id": "ff8ce7bd",
    "papermill": {
     "duration": 0.96546,
     "end_time": "2022-06-12T05:35:55.386024",
     "exception": false,
     "start_time": "2022-06-12T05:35:54.420564",
     "status": "completed"
    },
    "tags": []
   },
   "outputs": [
    {
     "name": "stdout",
     "output_type": "stream",
     "text": [
      "Learning rate set to 0.033215\n",
      "0:\tlearn: 0.9666860\ttotal: 58.7ms\tremaining: 58.7s\n",
      "1:\tlearn: 0.9488731\ttotal: 59.7ms\tremaining: 29.8s\n",
      "2:\tlearn: 0.9307413\ttotal: 60.7ms\tremaining: 20.2s\n",
      "3:\tlearn: 0.9156883\ttotal: 61.7ms\tremaining: 15.4s\n",
      "4:\tlearn: 0.9007824\ttotal: 62.7ms\tremaining: 12.5s\n",
      "5:\tlearn: 0.8835012\ttotal: 63.7ms\tremaining: 10.6s\n",
      "6:\tlearn: 0.8667032\ttotal: 64.6ms\tremaining: 9.17s\n",
      "7:\tlearn: 0.8514466\ttotal: 65.6ms\tremaining: 8.13s\n",
      "8:\tlearn: 0.8362561\ttotal: 66.5ms\tremaining: 7.32s\n",
      "9:\tlearn: 0.8205990\ttotal: 67.4ms\tremaining: 6.67s\n",
      "10:\tlearn: 0.8064379\ttotal: 68.2ms\tremaining: 6.13s\n",
      "11:\tlearn: 0.7925015\ttotal: 69ms\tremaining: 5.68s\n",
      "12:\tlearn: 0.7786243\ttotal: 69.7ms\tremaining: 5.29s\n",
      "13:\tlearn: 0.7643350\ttotal: 70.4ms\tremaining: 4.96s\n",
      "14:\tlearn: 0.7519375\ttotal: 71.2ms\tremaining: 4.67s\n",
      "15:\tlearn: 0.7390120\ttotal: 72ms\tremaining: 4.43s\n",
      "16:\tlearn: 0.7266339\ttotal: 72.9ms\tremaining: 4.21s\n",
      "17:\tlearn: 0.7147492\ttotal: 73.7ms\tremaining: 4.02s\n",
      "18:\tlearn: 0.7031419\ttotal: 74.4ms\tremaining: 3.84s\n",
      "19:\tlearn: 0.6906237\ttotal: 75.2ms\tremaining: 3.68s\n",
      "20:\tlearn: 0.6806900\ttotal: 76ms\tremaining: 3.54s\n",
      "21:\tlearn: 0.6696575\ttotal: 76.8ms\tremaining: 3.41s\n",
      "22:\tlearn: 0.6603660\ttotal: 77.6ms\tremaining: 3.29s\n",
      "23:\tlearn: 0.6506406\ttotal: 78.3ms\tremaining: 3.19s\n",
      "24:\tlearn: 0.6405904\ttotal: 79.2ms\tremaining: 3.09s\n",
      "25:\tlearn: 0.6308061\ttotal: 80ms\tremaining: 3s\n",
      "26:\tlearn: 0.6229716\ttotal: 80.7ms\tremaining: 2.91s\n",
      "27:\tlearn: 0.6145170\ttotal: 81.4ms\tremaining: 2.83s\n",
      "28:\tlearn: 0.6052739\ttotal: 82.1ms\tremaining: 2.75s\n",
      "29:\tlearn: 0.5953979\ttotal: 82.9ms\tremaining: 2.68s\n",
      "30:\tlearn: 0.5874467\ttotal: 83.8ms\tremaining: 2.62s\n",
      "31:\tlearn: 0.5801274\ttotal: 84.7ms\tremaining: 2.56s\n",
      "32:\tlearn: 0.5734152\ttotal: 85.4ms\tremaining: 2.5s\n",
      "33:\tlearn: 0.5664718\ttotal: 86.2ms\tremaining: 2.45s\n",
      "34:\tlearn: 0.5594501\ttotal: 87.1ms\tremaining: 2.4s\n",
      "35:\tlearn: 0.5530469\ttotal: 87.9ms\tremaining: 2.35s\n",
      "36:\tlearn: 0.5468915\ttotal: 88.7ms\tremaining: 2.31s\n",
      "37:\tlearn: 0.5404516\ttotal: 89.5ms\tremaining: 2.27s\n",
      "38:\tlearn: 0.5329132\ttotal: 90.3ms\tremaining: 2.22s\n",
      "39:\tlearn: 0.5249913\ttotal: 91ms\tremaining: 2.18s\n",
      "40:\tlearn: 0.5190896\ttotal: 91.9ms\tremaining: 2.15s\n",
      "41:\tlearn: 0.5123791\ttotal: 92.7ms\tremaining: 2.12s\n",
      "42:\tlearn: 0.5074089\ttotal: 93.6ms\tremaining: 2.08s\n",
      "43:\tlearn: 0.5006777\ttotal: 94.4ms\tremaining: 2.05s\n",
      "44:\tlearn: 0.4954125\ttotal: 95.2ms\tremaining: 2.02s\n",
      "45:\tlearn: 0.4901428\ttotal: 96ms\tremaining: 1.99s\n",
      "46:\tlearn: 0.4856387\ttotal: 96.9ms\tremaining: 1.97s\n",
      "47:\tlearn: 0.4793666\ttotal: 97.7ms\tremaining: 1.94s\n",
      "48:\tlearn: 0.4748034\ttotal: 98.6ms\tremaining: 1.91s\n",
      "49:\tlearn: 0.4702652\ttotal: 99.4ms\tremaining: 1.89s\n",
      "50:\tlearn: 0.4656565\ttotal: 100ms\tremaining: 1.87s\n",
      "51:\tlearn: 0.4616424\ttotal: 101ms\tremaining: 1.84s\n",
      "52:\tlearn: 0.4572009\ttotal: 102ms\tremaining: 1.82s\n",
      "53:\tlearn: 0.4538756\ttotal: 103ms\tremaining: 1.79s\n",
      "54:\tlearn: 0.4486958\ttotal: 103ms\tremaining: 1.77s\n",
      "55:\tlearn: 0.4448856\ttotal: 104ms\tremaining: 1.76s\n",
      "56:\tlearn: 0.4401911\ttotal: 105ms\tremaining: 1.74s\n",
      "57:\tlearn: 0.4360606\ttotal: 106ms\tremaining: 1.72s\n",
      "58:\tlearn: 0.4328393\ttotal: 107ms\tremaining: 1.7s\n",
      "59:\tlearn: 0.4281435\ttotal: 107ms\tremaining: 1.68s\n"
     ]
    },
    {
     "name": "stdout",
     "output_type": "stream",
     "text": [
      "60:\tlearn: 0.4229346\ttotal: 108ms\tremaining: 1.67s\n",
      "61:\tlearn: 0.4184049\ttotal: 109ms\tremaining: 1.65s\n",
      "62:\tlearn: 0.4157558\ttotal: 110ms\tremaining: 1.64s\n",
      "63:\tlearn: 0.4122915\ttotal: 111ms\tremaining: 1.62s\n",
      "64:\tlearn: 0.4076828\ttotal: 112ms\tremaining: 1.61s\n",
      "65:\tlearn: 0.4043549\ttotal: 112ms\tremaining: 1.59s\n",
      "66:\tlearn: 0.4001434\ttotal: 113ms\tremaining: 1.58s\n",
      "67:\tlearn: 0.3959869\ttotal: 114ms\tremaining: 1.56s\n",
      "68:\tlearn: 0.3922709\ttotal: 115ms\tremaining: 1.55s\n",
      "69:\tlearn: 0.3893062\ttotal: 116ms\tremaining: 1.54s\n",
      "70:\tlearn: 0.3860810\ttotal: 117ms\tremaining: 1.53s\n",
      "71:\tlearn: 0.3838198\ttotal: 118ms\tremaining: 1.51s\n",
      "72:\tlearn: 0.3815750\ttotal: 118ms\tremaining: 1.5s\n",
      "73:\tlearn: 0.3782231\ttotal: 119ms\tremaining: 1.49s\n",
      "74:\tlearn: 0.3750871\ttotal: 120ms\tremaining: 1.48s\n",
      "75:\tlearn: 0.3720703\ttotal: 121ms\tremaining: 1.47s\n",
      "76:\tlearn: 0.3692591\ttotal: 122ms\tremaining: 1.46s\n",
      "77:\tlearn: 0.3657765\ttotal: 123ms\tremaining: 1.45s\n",
      "78:\tlearn: 0.3626706\ttotal: 123ms\tremaining: 1.44s\n",
      "79:\tlearn: 0.3605183\ttotal: 124ms\tremaining: 1.43s\n",
      "80:\tlearn: 0.3581393\ttotal: 125ms\tremaining: 1.42s\n",
      "81:\tlearn: 0.3551953\ttotal: 126ms\tremaining: 1.41s\n",
      "82:\tlearn: 0.3529265\ttotal: 126ms\tremaining: 1.4s\n",
      "83:\tlearn: 0.3512734\ttotal: 127ms\tremaining: 1.39s\n",
      "84:\tlearn: 0.3486562\ttotal: 128ms\tremaining: 1.38s\n",
      "85:\tlearn: 0.3465341\ttotal: 129ms\tremaining: 1.37s\n",
      "86:\tlearn: 0.3442003\ttotal: 130ms\tremaining: 1.36s\n",
      "87:\tlearn: 0.3418732\ttotal: 131ms\tremaining: 1.35s\n",
      "88:\tlearn: 0.3397982\ttotal: 131ms\tremaining: 1.34s\n",
      "89:\tlearn: 0.3378126\ttotal: 132ms\tremaining: 1.33s\n",
      "90:\tlearn: 0.3358641\ttotal: 133ms\tremaining: 1.33s\n",
      "91:\tlearn: 0.3342155\ttotal: 134ms\tremaining: 1.32s\n",
      "92:\tlearn: 0.3323687\ttotal: 134ms\tremaining: 1.31s\n",
      "93:\tlearn: 0.3302368\ttotal: 135ms\tremaining: 1.3s\n",
      "94:\tlearn: 0.3276485\ttotal: 136ms\tremaining: 1.3s\n",
      "95:\tlearn: 0.3265540\ttotal: 137ms\tremaining: 1.29s\n",
      "96:\tlearn: 0.3243925\ttotal: 138ms\tremaining: 1.28s\n",
      "97:\tlearn: 0.3229134\ttotal: 138ms\tremaining: 1.27s\n",
      "98:\tlearn: 0.3209875\ttotal: 139ms\tremaining: 1.27s\n",
      "99:\tlearn: 0.3196935\ttotal: 140ms\tremaining: 1.26s\n",
      "100:\tlearn: 0.3177884\ttotal: 141ms\tremaining: 1.25s\n",
      "101:\tlearn: 0.3155830\ttotal: 142ms\tremaining: 1.25s\n",
      "102:\tlearn: 0.3138287\ttotal: 143ms\tremaining: 1.24s\n",
      "103:\tlearn: 0.3124235\ttotal: 143ms\tremaining: 1.24s\n",
      "104:\tlearn: 0.3106015\ttotal: 144ms\tremaining: 1.23s\n",
      "105:\tlearn: 0.3090277\ttotal: 145ms\tremaining: 1.22s\n",
      "106:\tlearn: 0.3072093\ttotal: 146ms\tremaining: 1.22s\n",
      "107:\tlearn: 0.3053305\ttotal: 147ms\tremaining: 1.21s\n",
      "108:\tlearn: 0.3038046\ttotal: 148ms\tremaining: 1.21s\n",
      "109:\tlearn: 0.3027057\ttotal: 148ms\tremaining: 1.2s\n",
      "110:\tlearn: 0.3013028\ttotal: 149ms\tremaining: 1.2s\n",
      "111:\tlearn: 0.3000015\ttotal: 150ms\tremaining: 1.19s\n",
      "112:\tlearn: 0.2984161\ttotal: 151ms\tremaining: 1.18s\n",
      "113:\tlearn: 0.2969240\ttotal: 152ms\tremaining: 1.18s\n",
      "114:\tlearn: 0.2951404\ttotal: 152ms\tremaining: 1.17s\n",
      "115:\tlearn: 0.2940278\ttotal: 153ms\tremaining: 1.17s\n",
      "116:\tlearn: 0.2926835\ttotal: 154ms\tremaining: 1.16s\n",
      "117:\tlearn: 0.2915332\ttotal: 155ms\tremaining: 1.16s\n",
      "118:\tlearn: 0.2903282\ttotal: 156ms\tremaining: 1.15s\n",
      "119:\tlearn: 0.2892890\ttotal: 157ms\tremaining: 1.15s\n",
      "120:\tlearn: 0.2878798\ttotal: 158ms\tremaining: 1.14s\n",
      "121:\tlearn: 0.2865200\ttotal: 158ms\tremaining: 1.14s\n",
      "122:\tlearn: 0.2854496\ttotal: 159ms\tremaining: 1.13s\n",
      "123:\tlearn: 0.2846082\ttotal: 160ms\tremaining: 1.13s\n",
      "124:\tlearn: 0.2834672\ttotal: 161ms\tremaining: 1.13s\n",
      "125:\tlearn: 0.2821560\ttotal: 162ms\tremaining: 1.12s\n",
      "126:\tlearn: 0.2809857\ttotal: 162ms\tremaining: 1.12s\n",
      "127:\tlearn: 0.2795670\ttotal: 163ms\tremaining: 1.11s\n",
      "128:\tlearn: 0.2785267\ttotal: 164ms\tremaining: 1.11s\n",
      "129:\tlearn: 0.2772638\ttotal: 165ms\tremaining: 1.1s\n",
      "130:\tlearn: 0.2762639\ttotal: 166ms\tremaining: 1.1s\n",
      "131:\tlearn: 0.2746872\ttotal: 166ms\tremaining: 1.09s\n",
      "132:\tlearn: 0.2736267\ttotal: 167ms\tremaining: 1.09s\n",
      "133:\tlearn: 0.2725950\ttotal: 168ms\tremaining: 1.09s\n",
      "134:\tlearn: 0.2713136\ttotal: 169ms\tremaining: 1.08s\n",
      "135:\tlearn: 0.2700690\ttotal: 170ms\tremaining: 1.08s\n",
      "136:\tlearn: 0.2691034\ttotal: 171ms\tremaining: 1.07s\n",
      "137:\tlearn: 0.2677329\ttotal: 171ms\tremaining: 1.07s\n",
      "138:\tlearn: 0.2664431\ttotal: 172ms\tremaining: 1.07s\n",
      "139:\tlearn: 0.2657038\ttotal: 173ms\tremaining: 1.06s\n",
      "140:\tlearn: 0.2648454\ttotal: 174ms\tremaining: 1.06s\n",
      "141:\tlearn: 0.2637205\ttotal: 175ms\tremaining: 1.06s\n",
      "142:\tlearn: 0.2632213\ttotal: 176ms\tremaining: 1.05s\n",
      "143:\tlearn: 0.2622432\ttotal: 177ms\tremaining: 1.05s\n",
      "144:\tlearn: 0.2611179\ttotal: 177ms\tremaining: 1.05s\n",
      "145:\tlearn: 0.2598662\ttotal: 178ms\tremaining: 1.04s\n",
      "146:\tlearn: 0.2590153\ttotal: 179ms\tremaining: 1.04s\n",
      "147:\tlearn: 0.2580129\ttotal: 180ms\tremaining: 1.03s\n",
      "148:\tlearn: 0.2565082\ttotal: 181ms\tremaining: 1.03s\n",
      "149:\tlearn: 0.2558552\ttotal: 181ms\tremaining: 1.03s\n",
      "150:\tlearn: 0.2550954\ttotal: 182ms\tremaining: 1.02s\n",
      "151:\tlearn: 0.2539335\ttotal: 183ms\tremaining: 1.02s\n",
      "152:\tlearn: 0.2533060\ttotal: 184ms\tremaining: 1.02s\n",
      "153:\tlearn: 0.2522156\ttotal: 185ms\tremaining: 1.01s\n",
      "154:\tlearn: 0.2510280\ttotal: 186ms\tremaining: 1.01s\n",
      "155:\tlearn: 0.2502650\ttotal: 187ms\tremaining: 1.01s\n",
      "156:\tlearn: 0.2491300\ttotal: 187ms\tremaining: 1s\n",
      "157:\tlearn: 0.2482242\ttotal: 188ms\tremaining: 1s\n",
      "158:\tlearn: 0.2472187\ttotal: 189ms\tremaining: 999ms\n",
      "159:\tlearn: 0.2462933\ttotal: 190ms\tremaining: 995ms\n",
      "160:\tlearn: 0.2454860\ttotal: 190ms\tremaining: 993ms\n",
      "161:\tlearn: 0.2447633\ttotal: 191ms\tremaining: 989ms\n"
     ]
    },
    {
     "name": "stdout",
     "output_type": "stream",
     "text": [
      "162:\tlearn: 0.2442183\ttotal: 192ms\tremaining: 986ms\n",
      "163:\tlearn: 0.2433258\ttotal: 193ms\tremaining: 984ms\n",
      "164:\tlearn: 0.2427752\ttotal: 194ms\tremaining: 981ms\n",
      "165:\tlearn: 0.2419310\ttotal: 195ms\tremaining: 978ms\n",
      "166:\tlearn: 0.2412959\ttotal: 196ms\tremaining: 976ms\n",
      "167:\tlearn: 0.2401820\ttotal: 196ms\tremaining: 973ms\n",
      "168:\tlearn: 0.2396648\ttotal: 197ms\tremaining: 970ms\n",
      "169:\tlearn: 0.2390039\ttotal: 198ms\tremaining: 967ms\n",
      "170:\tlearn: 0.2383779\ttotal: 199ms\tremaining: 965ms\n",
      "171:\tlearn: 0.2379008\ttotal: 200ms\tremaining: 962ms\n",
      "172:\tlearn: 0.2373370\ttotal: 201ms\tremaining: 959ms\n",
      "173:\tlearn: 0.2366222\ttotal: 201ms\tremaining: 956ms\n",
      "174:\tlearn: 0.2357552\ttotal: 202ms\tremaining: 954ms\n",
      "175:\tlearn: 0.2354227\ttotal: 203ms\tremaining: 951ms\n",
      "176:\tlearn: 0.2344394\ttotal: 204ms\tremaining: 948ms\n",
      "177:\tlearn: 0.2336145\ttotal: 205ms\tremaining: 945ms\n",
      "178:\tlearn: 0.2328384\ttotal: 205ms\tremaining: 942ms\n",
      "179:\tlearn: 0.2318337\ttotal: 206ms\tremaining: 939ms\n",
      "180:\tlearn: 0.2309135\ttotal: 207ms\tremaining: 937ms\n",
      "181:\tlearn: 0.2302018\ttotal: 208ms\tremaining: 934ms\n",
      "182:\tlearn: 0.2293878\ttotal: 209ms\tremaining: 931ms\n",
      "183:\tlearn: 0.2288868\ttotal: 209ms\tremaining: 929ms\n",
      "184:\tlearn: 0.2279959\ttotal: 210ms\tremaining: 926ms\n",
      "185:\tlearn: 0.2272694\ttotal: 211ms\tremaining: 924ms\n",
      "186:\tlearn: 0.2268177\ttotal: 212ms\tremaining: 921ms\n",
      "187:\tlearn: 0.2265320\ttotal: 213ms\tremaining: 919ms\n",
      "188:\tlearn: 0.2258212\ttotal: 214ms\tremaining: 916ms\n",
      "189:\tlearn: 0.2251321\ttotal: 214ms\tremaining: 914ms\n",
      "190:\tlearn: 0.2244637\ttotal: 215ms\tremaining: 911ms\n",
      "191:\tlearn: 0.2239855\ttotal: 216ms\tremaining: 909ms\n",
      "192:\tlearn: 0.2233302\ttotal: 217ms\tremaining: 906ms\n",
      "193:\tlearn: 0.2224755\ttotal: 217ms\tremaining: 903ms\n",
      "194:\tlearn: 0.2219913\ttotal: 218ms\tremaining: 900ms\n",
      "195:\tlearn: 0.2213546\ttotal: 219ms\tremaining: 898ms\n",
      "196:\tlearn: 0.2207093\ttotal: 220ms\tremaining: 895ms\n",
      "197:\tlearn: 0.2203034\ttotal: 220ms\tremaining: 893ms\n",
      "198:\tlearn: 0.2196995\ttotal: 221ms\tremaining: 891ms\n",
      "199:\tlearn: 0.2191162\ttotal: 222ms\tremaining: 888ms\n",
      "200:\tlearn: 0.2188275\ttotal: 223ms\tremaining: 886ms\n",
      "201:\tlearn: 0.2181566\ttotal: 224ms\tremaining: 884ms\n",
      "202:\tlearn: 0.2177215\ttotal: 224ms\tremaining: 881ms\n",
      "203:\tlearn: 0.2168924\ttotal: 225ms\tremaining: 879ms\n",
      "204:\tlearn: 0.2164278\ttotal: 226ms\tremaining: 877ms\n",
      "205:\tlearn: 0.2158072\ttotal: 227ms\tremaining: 875ms\n",
      "206:\tlearn: 0.2154685\ttotal: 228ms\tremaining: 872ms\n",
      "207:\tlearn: 0.2150704\ttotal: 229ms\tremaining: 871ms\n",
      "208:\tlearn: 0.2145465\ttotal: 229ms\tremaining: 868ms\n",
      "209:\tlearn: 0.2140789\ttotal: 230ms\tremaining: 866ms\n",
      "210:\tlearn: 0.2134533\ttotal: 231ms\tremaining: 864ms\n",
      "211:\tlearn: 0.2131578\ttotal: 232ms\tremaining: 862ms\n",
      "212:\tlearn: 0.2129032\ttotal: 233ms\tremaining: 860ms\n",
      "213:\tlearn: 0.2125114\ttotal: 233ms\tremaining: 858ms\n",
      "214:\tlearn: 0.2118979\ttotal: 234ms\tremaining: 855ms\n",
      "215:\tlearn: 0.2113535\ttotal: 235ms\tremaining: 854ms\n",
      "216:\tlearn: 0.2109015\ttotal: 236ms\tremaining: 852ms\n",
      "217:\tlearn: 0.2101929\ttotal: 237ms\tremaining: 849ms\n",
      "218:\tlearn: 0.2097589\ttotal: 238ms\tremaining: 848ms\n",
      "219:\tlearn: 0.2092830\ttotal: 238ms\tremaining: 845ms\n",
      "220:\tlearn: 0.2085020\ttotal: 239ms\tremaining: 843ms\n",
      "221:\tlearn: 0.2081152\ttotal: 240ms\tremaining: 841ms\n",
      "222:\tlearn: 0.2077221\ttotal: 241ms\tremaining: 839ms\n",
      "223:\tlearn: 0.2069821\ttotal: 242ms\tremaining: 838ms\n",
      "224:\tlearn: 0.2065384\ttotal: 243ms\tremaining: 836ms\n",
      "225:\tlearn: 0.2058732\ttotal: 243ms\tremaining: 834ms\n",
      "226:\tlearn: 0.2053028\ttotal: 244ms\tremaining: 832ms\n",
      "227:\tlearn: 0.2047147\ttotal: 245ms\tremaining: 830ms\n",
      "228:\tlearn: 0.2044204\ttotal: 246ms\tremaining: 828ms\n",
      "229:\tlearn: 0.2039062\ttotal: 247ms\tremaining: 826ms\n",
      "230:\tlearn: 0.2034649\ttotal: 248ms\tremaining: 824ms\n",
      "231:\tlearn: 0.2028975\ttotal: 249ms\tremaining: 823ms\n",
      "232:\tlearn: 0.2023386\ttotal: 249ms\tremaining: 821ms\n",
      "233:\tlearn: 0.2021202\ttotal: 250ms\tremaining: 819ms\n",
      "234:\tlearn: 0.2015679\ttotal: 251ms\tremaining: 817ms\n",
      "235:\tlearn: 0.2011206\ttotal: 252ms\tremaining: 816ms\n",
      "236:\tlearn: 0.2004601\ttotal: 253ms\tremaining: 814ms\n",
      "237:\tlearn: 0.2000625\ttotal: 253ms\tremaining: 811ms\n",
      "238:\tlearn: 0.1995119\ttotal: 254ms\tremaining: 810ms\n",
      "239:\tlearn: 0.1989393\ttotal: 255ms\tremaining: 808ms\n",
      "240:\tlearn: 0.1987288\ttotal: 256ms\tremaining: 806ms\n",
      "241:\tlearn: 0.1984921\ttotal: 257ms\tremaining: 804ms\n",
      "242:\tlearn: 0.1980724\ttotal: 258ms\tremaining: 802ms\n",
      "243:\tlearn: 0.1978611\ttotal: 258ms\tremaining: 801ms\n",
      "244:\tlearn: 0.1972943\ttotal: 259ms\tremaining: 799ms\n",
      "245:\tlearn: 0.1968391\ttotal: 260ms\tremaining: 797ms\n",
      "246:\tlearn: 0.1963643\ttotal: 261ms\tremaining: 795ms\n",
      "247:\tlearn: 0.1959784\ttotal: 262ms\tremaining: 793ms\n",
      "248:\tlearn: 0.1953340\ttotal: 262ms\tremaining: 791ms\n",
      "249:\tlearn: 0.1949604\ttotal: 263ms\tremaining: 790ms\n",
      "250:\tlearn: 0.1947999\ttotal: 264ms\tremaining: 789ms\n",
      "251:\tlearn: 0.1946556\ttotal: 265ms\tremaining: 787ms\n",
      "252:\tlearn: 0.1940712\ttotal: 266ms\tremaining: 786ms\n",
      "253:\tlearn: 0.1934898\ttotal: 267ms\tremaining: 784ms\n",
      "254:\tlearn: 0.1928723\ttotal: 268ms\tremaining: 782ms\n",
      "255:\tlearn: 0.1926621\ttotal: 268ms\tremaining: 780ms\n",
      "256:\tlearn: 0.1921775\ttotal: 269ms\tremaining: 779ms\n",
      "257:\tlearn: 0.1917673\ttotal: 270ms\tremaining: 777ms\n",
      "258:\tlearn: 0.1913123\ttotal: 271ms\tremaining: 775ms\n",
      "259:\tlearn: 0.1911025\ttotal: 272ms\tremaining: 773ms\n",
      "260:\tlearn: 0.1906279\ttotal: 272ms\tremaining: 771ms\n",
      "261:\tlearn: 0.1904031\ttotal: 273ms\tremaining: 770ms\n",
      "262:\tlearn: 0.1899615\ttotal: 274ms\tremaining: 769ms\n",
      "263:\tlearn: 0.1894174\ttotal: 275ms\tremaining: 767ms\n",
      "264:\tlearn: 0.1888424\ttotal: 276ms\tremaining: 766ms\n",
      "265:\tlearn: 0.1882268\ttotal: 277ms\tremaining: 764ms\n",
      "266:\tlearn: 0.1877370\ttotal: 278ms\tremaining: 762ms\n",
      "267:\tlearn: 0.1871134\ttotal: 278ms\tremaining: 760ms\n",
      "268:\tlearn: 0.1864587\ttotal: 279ms\tremaining: 758ms\n",
      "269:\tlearn: 0.1857656\ttotal: 280ms\tremaining: 757ms\n",
      "270:\tlearn: 0.1852577\ttotal: 281ms\tremaining: 755ms\n",
      "271:\tlearn: 0.1846479\ttotal: 282ms\tremaining: 754ms\n",
      "272:\tlearn: 0.1841755\ttotal: 282ms\tremaining: 752ms\n",
      "273:\tlearn: 0.1837095\ttotal: 283ms\tremaining: 750ms\n",
      "274:\tlearn: 0.1834234\ttotal: 284ms\tremaining: 749ms\n",
      "275:\tlearn: 0.1832260\ttotal: 285ms\tremaining: 748ms\n",
      "276:\tlearn: 0.1827666\ttotal: 286ms\tremaining: 746ms\n",
      "277:\tlearn: 0.1824062\ttotal: 287ms\tremaining: 744ms\n",
      "278:\tlearn: 0.1819906\ttotal: 287ms\tremaining: 743ms\n",
      "279:\tlearn: 0.1815732\ttotal: 288ms\tremaining: 741ms\n",
      "280:\tlearn: 0.1812254\ttotal: 289ms\tremaining: 739ms\n",
      "281:\tlearn: 0.1807471\ttotal: 290ms\tremaining: 738ms\n",
      "282:\tlearn: 0.1802836\ttotal: 291ms\tremaining: 737ms\n",
      "283:\tlearn: 0.1796373\ttotal: 292ms\tremaining: 735ms\n",
      "284:\tlearn: 0.1792766\ttotal: 292ms\tremaining: 733ms\n",
      "285:\tlearn: 0.1788418\ttotal: 293ms\tremaining: 732ms\n",
      "286:\tlearn: 0.1783258\ttotal: 294ms\tremaining: 731ms\n",
      "287:\tlearn: 0.1777294\ttotal: 295ms\tremaining: 730ms\n",
      "288:\tlearn: 0.1773460\ttotal: 296ms\tremaining: 729ms\n",
      "289:\tlearn: 0.1766837\ttotal: 297ms\tremaining: 728ms\n",
      "290:\tlearn: 0.1764508\ttotal: 298ms\tremaining: 726ms\n"
     ]
    },
    {
     "name": "stdout",
     "output_type": "stream",
     "text": [
      "291:\tlearn: 0.1759633\ttotal: 299ms\tremaining: 725ms\n",
      "292:\tlearn: 0.1758244\ttotal: 300ms\tremaining: 724ms\n",
      "293:\tlearn: 0.1753965\ttotal: 301ms\tremaining: 723ms\n",
      "294:\tlearn: 0.1748400\ttotal: 302ms\tremaining: 722ms\n",
      "295:\tlearn: 0.1743772\ttotal: 303ms\tremaining: 720ms\n",
      "296:\tlearn: 0.1737910\ttotal: 304ms\tremaining: 719ms\n",
      "297:\tlearn: 0.1733870\ttotal: 305ms\tremaining: 718ms\n",
      "298:\tlearn: 0.1729052\ttotal: 306ms\tremaining: 718ms\n",
      "299:\tlearn: 0.1724351\ttotal: 307ms\tremaining: 716ms\n",
      "300:\tlearn: 0.1719524\ttotal: 308ms\tremaining: 715ms\n",
      "301:\tlearn: 0.1716319\ttotal: 309ms\tremaining: 713ms\n",
      "302:\tlearn: 0.1710632\ttotal: 309ms\tremaining: 712ms\n",
      "303:\tlearn: 0.1707661\ttotal: 310ms\tremaining: 710ms\n",
      "304:\tlearn: 0.1705903\ttotal: 311ms\tremaining: 708ms\n",
      "305:\tlearn: 0.1701574\ttotal: 312ms\tremaining: 707ms\n",
      "306:\tlearn: 0.1697214\ttotal: 312ms\tremaining: 705ms\n",
      "307:\tlearn: 0.1695545\ttotal: 313ms\tremaining: 704ms\n",
      "308:\tlearn: 0.1693928\ttotal: 314ms\tremaining: 702ms\n",
      "309:\tlearn: 0.1693101\ttotal: 315ms\tremaining: 700ms\n",
      "310:\tlearn: 0.1689107\ttotal: 315ms\tremaining: 699ms\n",
      "311:\tlearn: 0.1684902\ttotal: 316ms\tremaining: 698ms\n",
      "312:\tlearn: 0.1681559\ttotal: 317ms\tremaining: 696ms\n",
      "313:\tlearn: 0.1677149\ttotal: 318ms\tremaining: 694ms\n",
      "314:\tlearn: 0.1673086\ttotal: 319ms\tremaining: 693ms\n",
      "315:\tlearn: 0.1669801\ttotal: 320ms\tremaining: 692ms\n",
      "316:\tlearn: 0.1665740\ttotal: 321ms\tremaining: 691ms\n",
      "317:\tlearn: 0.1661112\ttotal: 321ms\tremaining: 689ms\n",
      "318:\tlearn: 0.1657725\ttotal: 322ms\tremaining: 687ms\n",
      "319:\tlearn: 0.1653760\ttotal: 323ms\tremaining: 686ms\n",
      "320:\tlearn: 0.1649176\ttotal: 324ms\tremaining: 684ms\n",
      "321:\tlearn: 0.1646109\ttotal: 324ms\tremaining: 683ms\n",
      "322:\tlearn: 0.1641806\ttotal: 325ms\tremaining: 682ms\n",
      "323:\tlearn: 0.1636824\ttotal: 326ms\tremaining: 680ms\n",
      "324:\tlearn: 0.1632844\ttotal: 327ms\tremaining: 679ms\n",
      "325:\tlearn: 0.1629441\ttotal: 328ms\tremaining: 677ms\n",
      "326:\tlearn: 0.1625648\ttotal: 329ms\tremaining: 676ms\n",
      "327:\tlearn: 0.1622017\ttotal: 329ms\tremaining: 675ms\n",
      "328:\tlearn: 0.1618438\ttotal: 330ms\tremaining: 673ms\n",
      "329:\tlearn: 0.1615459\ttotal: 331ms\tremaining: 672ms\n",
      "330:\tlearn: 0.1612586\ttotal: 332ms\tremaining: 671ms\n",
      "331:\tlearn: 0.1609096\ttotal: 333ms\tremaining: 669ms\n",
      "332:\tlearn: 0.1605520\ttotal: 334ms\tremaining: 668ms\n",
      "333:\tlearn: 0.1603410\ttotal: 334ms\tremaining: 667ms\n",
      "334:\tlearn: 0.1598863\ttotal: 335ms\tremaining: 666ms\n",
      "335:\tlearn: 0.1595602\ttotal: 336ms\tremaining: 664ms\n",
      "336:\tlearn: 0.1593207\ttotal: 337ms\tremaining: 664ms\n",
      "337:\tlearn: 0.1589785\ttotal: 338ms\tremaining: 662ms\n",
      "338:\tlearn: 0.1587059\ttotal: 339ms\tremaining: 661ms\n",
      "339:\tlearn: 0.1583727\ttotal: 340ms\tremaining: 660ms\n",
      "340:\tlearn: 0.1581738\ttotal: 341ms\tremaining: 658ms\n",
      "341:\tlearn: 0.1578617\ttotal: 342ms\tremaining: 657ms\n",
      "342:\tlearn: 0.1576260\ttotal: 342ms\tremaining: 656ms\n",
      "343:\tlearn: 0.1574163\ttotal: 343ms\tremaining: 654ms\n",
      "344:\tlearn: 0.1570861\ttotal: 344ms\tremaining: 653ms\n",
      "345:\tlearn: 0.1566201\ttotal: 344ms\tremaining: 651ms\n",
      "346:\tlearn: 0.1562096\ttotal: 345ms\tremaining: 650ms\n",
      "347:\tlearn: 0.1559100\ttotal: 346ms\tremaining: 648ms\n",
      "348:\tlearn: 0.1555494\ttotal: 347ms\tremaining: 647ms\n",
      "349:\tlearn: 0.1551834\ttotal: 348ms\tremaining: 646ms\n",
      "350:\tlearn: 0.1549621\ttotal: 349ms\tremaining: 644ms\n",
      "351:\tlearn: 0.1546746\ttotal: 349ms\tremaining: 643ms\n",
      "352:\tlearn: 0.1543582\ttotal: 350ms\tremaining: 642ms\n",
      "353:\tlearn: 0.1541414\ttotal: 351ms\tremaining: 640ms\n",
      "354:\tlearn: 0.1540266\ttotal: 352ms\tremaining: 639ms\n",
      "355:\tlearn: 0.1535657\ttotal: 352ms\tremaining: 638ms\n",
      "356:\tlearn: 0.1532644\ttotal: 353ms\tremaining: 636ms\n",
      "357:\tlearn: 0.1528980\ttotal: 354ms\tremaining: 635ms\n",
      "358:\tlearn: 0.1525968\ttotal: 355ms\tremaining: 634ms\n",
      "359:\tlearn: 0.1522257\ttotal: 356ms\tremaining: 632ms\n",
      "360:\tlearn: 0.1519286\ttotal: 357ms\tremaining: 631ms\n",
      "361:\tlearn: 0.1517834\ttotal: 357ms\tremaining: 630ms\n",
      "362:\tlearn: 0.1515127\ttotal: 358ms\tremaining: 628ms\n",
      "363:\tlearn: 0.1514274\ttotal: 359ms\tremaining: 627ms\n",
      "364:\tlearn: 0.1510679\ttotal: 360ms\tremaining: 626ms\n",
      "365:\tlearn: 0.1506775\ttotal: 361ms\tremaining: 625ms\n",
      "366:\tlearn: 0.1503714\ttotal: 361ms\tremaining: 623ms\n",
      "367:\tlearn: 0.1500807\ttotal: 362ms\tremaining: 622ms\n",
      "368:\tlearn: 0.1497119\ttotal: 363ms\tremaining: 621ms\n",
      "369:\tlearn: 0.1493876\ttotal: 364ms\tremaining: 619ms\n",
      "370:\tlearn: 0.1491672\ttotal: 365ms\tremaining: 618ms\n",
      "371:\tlearn: 0.1488891\ttotal: 366ms\tremaining: 617ms\n",
      "372:\tlearn: 0.1486956\ttotal: 366ms\tremaining: 616ms\n",
      "373:\tlearn: 0.1483945\ttotal: 367ms\tremaining: 615ms\n",
      "374:\tlearn: 0.1480380\ttotal: 369ms\tremaining: 614ms\n",
      "375:\tlearn: 0.1478212\ttotal: 369ms\tremaining: 613ms\n",
      "376:\tlearn: 0.1475322\ttotal: 370ms\tremaining: 612ms\n",
      "377:\tlearn: 0.1472258\ttotal: 371ms\tremaining: 611ms\n",
      "378:\tlearn: 0.1469413\ttotal: 372ms\tremaining: 610ms\n",
      "379:\tlearn: 0.1465627\ttotal: 373ms\tremaining: 608ms\n",
      "380:\tlearn: 0.1462621\ttotal: 374ms\tremaining: 607ms\n",
      "381:\tlearn: 0.1461745\ttotal: 374ms\tremaining: 606ms\n",
      "382:\tlearn: 0.1458917\ttotal: 375ms\tremaining: 605ms\n",
      "383:\tlearn: 0.1456503\ttotal: 376ms\tremaining: 603ms\n",
      "384:\tlearn: 0.1452205\ttotal: 377ms\tremaining: 602ms\n",
      "385:\tlearn: 0.1449163\ttotal: 378ms\tremaining: 601ms\n",
      "386:\tlearn: 0.1447008\ttotal: 378ms\tremaining: 599ms\n",
      "387:\tlearn: 0.1444298\ttotal: 379ms\tremaining: 598ms\n",
      "388:\tlearn: 0.1440646\ttotal: 380ms\tremaining: 597ms\n",
      "389:\tlearn: 0.1438164\ttotal: 381ms\tremaining: 595ms\n",
      "390:\tlearn: 0.1435751\ttotal: 382ms\tremaining: 594ms\n"
     ]
    },
    {
     "name": "stdout",
     "output_type": "stream",
     "text": [
      "391:\tlearn: 0.1433783\ttotal: 382ms\tremaining: 593ms\n",
      "392:\tlearn: 0.1430723\ttotal: 384ms\tremaining: 592ms\n",
      "393:\tlearn: 0.1428088\ttotal: 385ms\tremaining: 591ms\n",
      "394:\tlearn: 0.1425780\ttotal: 385ms\tremaining: 590ms\n",
      "395:\tlearn: 0.1422648\ttotal: 386ms\tremaining: 589ms\n",
      "396:\tlearn: 0.1418928\ttotal: 387ms\tremaining: 588ms\n",
      "397:\tlearn: 0.1416621\ttotal: 388ms\tremaining: 587ms\n",
      "398:\tlearn: 0.1413220\ttotal: 389ms\tremaining: 585ms\n",
      "399:\tlearn: 0.1412117\ttotal: 389ms\tremaining: 584ms\n",
      "400:\tlearn: 0.1408578\ttotal: 390ms\tremaining: 583ms\n",
      "401:\tlearn: 0.1405503\ttotal: 391ms\tremaining: 582ms\n",
      "402:\tlearn: 0.1403354\ttotal: 392ms\tremaining: 581ms\n",
      "403:\tlearn: 0.1400801\ttotal: 393ms\tremaining: 580ms\n",
      "404:\tlearn: 0.1397876\ttotal: 394ms\tremaining: 579ms\n",
      "405:\tlearn: 0.1396097\ttotal: 395ms\tremaining: 578ms\n",
      "406:\tlearn: 0.1393051\ttotal: 396ms\tremaining: 576ms\n",
      "407:\tlearn: 0.1389651\ttotal: 397ms\tremaining: 575ms\n",
      "408:\tlearn: 0.1387891\ttotal: 397ms\tremaining: 574ms\n",
      "409:\tlearn: 0.1384527\ttotal: 398ms\tremaining: 573ms\n",
      "410:\tlearn: 0.1381756\ttotal: 399ms\tremaining: 572ms\n",
      "411:\tlearn: 0.1379539\ttotal: 400ms\tremaining: 570ms\n",
      "412:\tlearn: 0.1377391\ttotal: 401ms\tremaining: 569ms\n",
      "413:\tlearn: 0.1374107\ttotal: 401ms\tremaining: 568ms\n",
      "414:\tlearn: 0.1371261\ttotal: 402ms\tremaining: 567ms\n",
      "415:\tlearn: 0.1368900\ttotal: 403ms\tremaining: 566ms\n",
      "416:\tlearn: 0.1366094\ttotal: 404ms\tremaining: 565ms\n",
      "417:\tlearn: 0.1363206\ttotal: 405ms\tremaining: 563ms\n",
      "418:\tlearn: 0.1361261\ttotal: 405ms\tremaining: 562ms\n",
      "419:\tlearn: 0.1359615\ttotal: 406ms\tremaining: 561ms\n",
      "420:\tlearn: 0.1356384\ttotal: 407ms\tremaining: 560ms\n",
      "421:\tlearn: 0.1355784\ttotal: 408ms\tremaining: 559ms\n",
      "422:\tlearn: 0.1351994\ttotal: 409ms\tremaining: 557ms\n",
      "423:\tlearn: 0.1349161\ttotal: 410ms\tremaining: 556ms\n",
      "424:\tlearn: 0.1346233\ttotal: 410ms\tremaining: 555ms\n",
      "425:\tlearn: 0.1343685\ttotal: 411ms\tremaining: 554ms\n",
      "426:\tlearn: 0.1343093\ttotal: 412ms\tremaining: 553ms\n",
      "427:\tlearn: 0.1341117\ttotal: 413ms\tremaining: 552ms\n",
      "428:\tlearn: 0.1338639\ttotal: 414ms\tremaining: 551ms\n",
      "429:\tlearn: 0.1335980\ttotal: 415ms\tremaining: 550ms\n",
      "430:\tlearn: 0.1335287\ttotal: 416ms\tremaining: 549ms\n",
      "431:\tlearn: 0.1331627\ttotal: 416ms\tremaining: 548ms\n",
      "432:\tlearn: 0.1328973\ttotal: 417ms\tremaining: 546ms\n",
      "433:\tlearn: 0.1326705\ttotal: 418ms\tremaining: 545ms\n",
      "434:\tlearn: 0.1323999\ttotal: 419ms\tremaining: 544ms\n",
      "435:\tlearn: 0.1321790\ttotal: 420ms\tremaining: 543ms\n",
      "436:\tlearn: 0.1317983\ttotal: 420ms\tremaining: 542ms\n",
      "437:\tlearn: 0.1315404\ttotal: 421ms\tremaining: 540ms\n",
      "438:\tlearn: 0.1314857\ttotal: 422ms\tremaining: 539ms\n",
      "439:\tlearn: 0.1312968\ttotal: 423ms\tremaining: 538ms\n",
      "440:\tlearn: 0.1310059\ttotal: 424ms\tremaining: 537ms\n",
      "441:\tlearn: 0.1307221\ttotal: 425ms\tremaining: 536ms\n",
      "442:\tlearn: 0.1305222\ttotal: 425ms\tremaining: 535ms\n",
      "443:\tlearn: 0.1302749\ttotal: 426ms\tremaining: 534ms\n",
      "444:\tlearn: 0.1299446\ttotal: 427ms\tremaining: 532ms\n",
      "445:\tlearn: 0.1297365\ttotal: 428ms\tremaining: 531ms\n",
      "446:\tlearn: 0.1296055\ttotal: 428ms\tremaining: 530ms\n",
      "447:\tlearn: 0.1294212\ttotal: 429ms\tremaining: 529ms\n",
      "448:\tlearn: 0.1293495\ttotal: 430ms\tremaining: 528ms\n",
      "449:\tlearn: 0.1290437\ttotal: 431ms\tremaining: 527ms\n",
      "450:\tlearn: 0.1289338\ttotal: 432ms\tremaining: 526ms\n",
      "451:\tlearn: 0.1287813\ttotal: 433ms\tremaining: 525ms\n",
      "452:\tlearn: 0.1286848\ttotal: 433ms\tremaining: 523ms\n",
      "453:\tlearn: 0.1284805\ttotal: 434ms\tremaining: 522ms\n",
      "454:\tlearn: 0.1284220\ttotal: 435ms\tremaining: 521ms\n",
      "455:\tlearn: 0.1281932\ttotal: 436ms\tremaining: 520ms\n",
      "456:\tlearn: 0.1281444\ttotal: 436ms\tremaining: 519ms\n",
      "457:\tlearn: 0.1279094\ttotal: 437ms\tremaining: 517ms\n",
      "458:\tlearn: 0.1276257\ttotal: 438ms\tremaining: 516ms\n",
      "459:\tlearn: 0.1274339\ttotal: 439ms\tremaining: 515ms\n",
      "460:\tlearn: 0.1270733\ttotal: 440ms\tremaining: 514ms\n",
      "461:\tlearn: 0.1269069\ttotal: 441ms\tremaining: 513ms\n",
      "462:\tlearn: 0.1265300\ttotal: 441ms\tremaining: 512ms\n",
      "463:\tlearn: 0.1264851\ttotal: 442ms\tremaining: 511ms\n",
      "464:\tlearn: 0.1260933\ttotal: 443ms\tremaining: 510ms\n",
      "465:\tlearn: 0.1260056\ttotal: 444ms\tremaining: 509ms\n",
      "466:\tlearn: 0.1259608\ttotal: 445ms\tremaining: 508ms\n",
      "467:\tlearn: 0.1256457\ttotal: 446ms\tremaining: 507ms\n",
      "468:\tlearn: 0.1254853\ttotal: 446ms\tremaining: 505ms\n",
      "469:\tlearn: 0.1252277\ttotal: 447ms\tremaining: 504ms\n",
      "470:\tlearn: 0.1251011\ttotal: 448ms\tremaining: 503ms\n",
      "471:\tlearn: 0.1248518\ttotal: 449ms\tremaining: 502ms\n",
      "472:\tlearn: 0.1245902\ttotal: 450ms\tremaining: 501ms\n",
      "473:\tlearn: 0.1243445\ttotal: 450ms\tremaining: 500ms\n",
      "474:\tlearn: 0.1242725\ttotal: 451ms\tremaining: 499ms\n",
      "475:\tlearn: 0.1241383\ttotal: 452ms\tremaining: 497ms\n",
      "476:\tlearn: 0.1240071\ttotal: 453ms\tremaining: 496ms\n",
      "477:\tlearn: 0.1237137\ttotal: 453ms\tremaining: 495ms\n",
      "478:\tlearn: 0.1235468\ttotal: 454ms\tremaining: 494ms\n",
      "479:\tlearn: 0.1233086\ttotal: 455ms\tremaining: 493ms\n",
      "480:\tlearn: 0.1229965\ttotal: 456ms\tremaining: 492ms\n",
      "481:\tlearn: 0.1228141\ttotal: 457ms\tremaining: 491ms\n",
      "482:\tlearn: 0.1227589\ttotal: 457ms\tremaining: 490ms\n",
      "483:\tlearn: 0.1226339\ttotal: 458ms\tremaining: 489ms\n",
      "484:\tlearn: 0.1224771\ttotal: 459ms\tremaining: 487ms\n",
      "485:\tlearn: 0.1223588\ttotal: 460ms\tremaining: 486ms\n",
      "486:\tlearn: 0.1221297\ttotal: 461ms\tremaining: 485ms\n",
      "487:\tlearn: 0.1220322\ttotal: 462ms\tremaining: 484ms\n",
      "488:\tlearn: 0.1217605\ttotal: 462ms\tremaining: 483ms\n",
      "489:\tlearn: 0.1214237\ttotal: 463ms\tremaining: 482ms\n",
      "490:\tlearn: 0.1211380\ttotal: 464ms\tremaining: 481ms\n",
      "491:\tlearn: 0.1210872\ttotal: 465ms\tremaining: 480ms\n",
      "492:\tlearn: 0.1208062\ttotal: 466ms\tremaining: 479ms\n",
      "493:\tlearn: 0.1205676\ttotal: 466ms\tremaining: 478ms\n",
      "494:\tlearn: 0.1204311\ttotal: 467ms\tremaining: 477ms\n",
      "495:\tlearn: 0.1203520\ttotal: 468ms\tremaining: 476ms\n",
      "496:\tlearn: 0.1200628\ttotal: 469ms\tremaining: 475ms\n",
      "497:\tlearn: 0.1199748\ttotal: 470ms\tremaining: 474ms\n",
      "498:\tlearn: 0.1197143\ttotal: 470ms\tremaining: 472ms\n",
      "499:\tlearn: 0.1196672\ttotal: 471ms\tremaining: 471ms\n",
      "500:\tlearn: 0.1193768\ttotal: 472ms\tremaining: 470ms\n",
      "501:\tlearn: 0.1190867\ttotal: 473ms\tremaining: 469ms\n",
      "502:\tlearn: 0.1188902\ttotal: 474ms\tremaining: 468ms\n",
      "503:\tlearn: 0.1187969\ttotal: 475ms\tremaining: 467ms\n",
      "504:\tlearn: 0.1186499\ttotal: 476ms\tremaining: 466ms\n",
      "505:\tlearn: 0.1183844\ttotal: 476ms\tremaining: 465ms\n",
      "506:\tlearn: 0.1181917\ttotal: 477ms\tremaining: 464ms\n",
      "507:\tlearn: 0.1178921\ttotal: 478ms\tremaining: 463ms\n",
      "508:\tlearn: 0.1177776\ttotal: 479ms\tremaining: 462ms\n",
      "509:\tlearn: 0.1175979\ttotal: 480ms\tremaining: 461ms\n",
      "510:\tlearn: 0.1175250\ttotal: 480ms\tremaining: 460ms\n",
      "511:\tlearn: 0.1173009\ttotal: 481ms\tremaining: 459ms\n",
      "512:\tlearn: 0.1169825\ttotal: 482ms\tremaining: 458ms\n",
      "513:\tlearn: 0.1169374\ttotal: 483ms\tremaining: 457ms\n",
      "514:\tlearn: 0.1167423\ttotal: 484ms\tremaining: 456ms\n",
      "515:\tlearn: 0.1164582\ttotal: 485ms\tremaining: 455ms\n",
      "516:\tlearn: 0.1163893\ttotal: 486ms\tremaining: 454ms\n",
      "517:\tlearn: 0.1160777\ttotal: 486ms\tremaining: 453ms\n",
      "518:\tlearn: 0.1157829\ttotal: 487ms\tremaining: 452ms\n",
      "519:\tlearn: 0.1156091\ttotal: 488ms\tremaining: 451ms\n",
      "520:\tlearn: 0.1155162\ttotal: 489ms\tremaining: 450ms\n"
     ]
    },
    {
     "name": "stdout",
     "output_type": "stream",
     "text": [
      "521:\tlearn: 0.1152208\ttotal: 490ms\tremaining: 449ms\n",
      "522:\tlearn: 0.1151081\ttotal: 491ms\tremaining: 448ms\n",
      "523:\tlearn: 0.1149807\ttotal: 492ms\tremaining: 447ms\n",
      "524:\tlearn: 0.1147785\ttotal: 492ms\tremaining: 446ms\n",
      "525:\tlearn: 0.1147277\ttotal: 493ms\tremaining: 445ms\n",
      "526:\tlearn: 0.1146793\ttotal: 494ms\tremaining: 444ms\n",
      "527:\tlearn: 0.1144832\ttotal: 495ms\tremaining: 442ms\n",
      "528:\tlearn: 0.1142764\ttotal: 496ms\tremaining: 441ms\n",
      "529:\tlearn: 0.1141176\ttotal: 497ms\tremaining: 440ms\n",
      "530:\tlearn: 0.1140851\ttotal: 497ms\tremaining: 439ms\n",
      "531:\tlearn: 0.1139926\ttotal: 498ms\tremaining: 438ms\n",
      "532:\tlearn: 0.1139696\ttotal: 499ms\tremaining: 437ms\n",
      "533:\tlearn: 0.1139335\ttotal: 500ms\tremaining: 436ms\n",
      "534:\tlearn: 0.1136930\ttotal: 501ms\tremaining: 435ms\n",
      "535:\tlearn: 0.1134793\ttotal: 501ms\tremaining: 434ms\n",
      "536:\tlearn: 0.1132397\ttotal: 502ms\tremaining: 433ms\n",
      "537:\tlearn: 0.1129723\ttotal: 503ms\tremaining: 432ms\n",
      "538:\tlearn: 0.1126477\ttotal: 504ms\tremaining: 431ms\n",
      "539:\tlearn: 0.1123941\ttotal: 505ms\tremaining: 430ms\n",
      "540:\tlearn: 0.1121063\ttotal: 506ms\tremaining: 429ms\n",
      "541:\tlearn: 0.1118865\ttotal: 507ms\tremaining: 428ms\n",
      "542:\tlearn: 0.1117000\ttotal: 507ms\tremaining: 427ms\n",
      "543:\tlearn: 0.1114951\ttotal: 508ms\tremaining: 426ms\n",
      "544:\tlearn: 0.1112218\ttotal: 509ms\tremaining: 425ms\n",
      "545:\tlearn: 0.1111890\ttotal: 510ms\tremaining: 424ms\n",
      "546:\tlearn: 0.1111069\ttotal: 510ms\tremaining: 423ms\n",
      "547:\tlearn: 0.1109279\ttotal: 511ms\tremaining: 422ms\n",
      "548:\tlearn: 0.1107464\ttotal: 512ms\tremaining: 420ms\n",
      "549:\tlearn: 0.1106385\ttotal: 513ms\tremaining: 419ms\n",
      "550:\tlearn: 0.1104499\ttotal: 513ms\tremaining: 418ms\n",
      "551:\tlearn: 0.1104288\ttotal: 514ms\tremaining: 417ms\n",
      "552:\tlearn: 0.1101992\ttotal: 515ms\tremaining: 416ms\n",
      "553:\tlearn: 0.1098930\ttotal: 516ms\tremaining: 415ms\n",
      "554:\tlearn: 0.1097006\ttotal: 517ms\tremaining: 414ms\n",
      "555:\tlearn: 0.1094994\ttotal: 517ms\tremaining: 413ms\n",
      "556:\tlearn: 0.1093288\ttotal: 518ms\tremaining: 412ms\n",
      "557:\tlearn: 0.1090716\ttotal: 519ms\tremaining: 411ms\n",
      "558:\tlearn: 0.1089504\ttotal: 520ms\tremaining: 410ms\n",
      "559:\tlearn: 0.1087834\ttotal: 521ms\tremaining: 409ms\n",
      "560:\tlearn: 0.1086969\ttotal: 522ms\tremaining: 408ms\n",
      "561:\tlearn: 0.1084735\ttotal: 523ms\tremaining: 407ms\n",
      "562:\tlearn: 0.1083103\ttotal: 523ms\tremaining: 406ms\n",
      "563:\tlearn: 0.1080544\ttotal: 524ms\tremaining: 405ms\n",
      "564:\tlearn: 0.1078093\ttotal: 525ms\tremaining: 404ms\n",
      "565:\tlearn: 0.1076297\ttotal: 526ms\tremaining: 403ms\n",
      "566:\tlearn: 0.1073849\ttotal: 527ms\tremaining: 402ms\n",
      "567:\tlearn: 0.1071326\ttotal: 528ms\tremaining: 401ms\n",
      "568:\tlearn: 0.1069447\ttotal: 529ms\tremaining: 401ms\n",
      "569:\tlearn: 0.1067955\ttotal: 530ms\tremaining: 400ms\n",
      "570:\tlearn: 0.1065377\ttotal: 531ms\tremaining: 399ms\n",
      "571:\tlearn: 0.1063871\ttotal: 532ms\tremaining: 398ms\n",
      "572:\tlearn: 0.1063688\ttotal: 533ms\tremaining: 397ms\n",
      "573:\tlearn: 0.1061540\ttotal: 533ms\tremaining: 396ms\n",
      "574:\tlearn: 0.1059066\ttotal: 534ms\tremaining: 395ms\n",
      "575:\tlearn: 0.1057697\ttotal: 535ms\tremaining: 394ms\n",
      "576:\tlearn: 0.1057076\ttotal: 536ms\tremaining: 393ms\n",
      "577:\tlearn: 0.1056352\ttotal: 537ms\tremaining: 392ms\n",
      "578:\tlearn: 0.1054376\ttotal: 538ms\tremaining: 391ms\n",
      "579:\tlearn: 0.1052519\ttotal: 539ms\tremaining: 391ms\n",
      "580:\tlearn: 0.1050838\ttotal: 540ms\tremaining: 390ms\n",
      "581:\tlearn: 0.1049371\ttotal: 541ms\tremaining: 389ms\n",
      "582:\tlearn: 0.1046676\ttotal: 542ms\tremaining: 388ms\n",
      "583:\tlearn: 0.1044875\ttotal: 543ms\tremaining: 387ms\n",
      "584:\tlearn: 0.1043683\ttotal: 544ms\tremaining: 386ms\n",
      "585:\tlearn: 0.1041847\ttotal: 545ms\tremaining: 385ms\n",
      "586:\tlearn: 0.1040166\ttotal: 545ms\tremaining: 384ms\n",
      "587:\tlearn: 0.1038467\ttotal: 546ms\tremaining: 383ms\n",
      "588:\tlearn: 0.1036682\ttotal: 547ms\tremaining: 382ms\n",
      "589:\tlearn: 0.1036462\ttotal: 548ms\tremaining: 381ms\n",
      "590:\tlearn: 0.1034619\ttotal: 549ms\tremaining: 380ms\n",
      "591:\tlearn: 0.1032183\ttotal: 550ms\tremaining: 379ms\n",
      "592:\tlearn: 0.1030635\ttotal: 551ms\tremaining: 378ms\n",
      "593:\tlearn: 0.1029518\ttotal: 551ms\tremaining: 377ms\n",
      "594:\tlearn: 0.1027945\ttotal: 552ms\tremaining: 376ms\n",
      "595:\tlearn: 0.1025879\ttotal: 553ms\tremaining: 375ms\n",
      "596:\tlearn: 0.1024608\ttotal: 554ms\tremaining: 374ms\n",
      "597:\tlearn: 0.1021862\ttotal: 555ms\tremaining: 373ms\n",
      "598:\tlearn: 0.1020797\ttotal: 555ms\tremaining: 372ms\n",
      "599:\tlearn: 0.1020178\ttotal: 556ms\tremaining: 371ms\n",
      "600:\tlearn: 0.1019425\ttotal: 557ms\tremaining: 370ms\n",
      "601:\tlearn: 0.1017663\ttotal: 558ms\tremaining: 369ms\n",
      "602:\tlearn: 0.1017361\ttotal: 559ms\tremaining: 368ms\n",
      "603:\tlearn: 0.1015024\ttotal: 559ms\tremaining: 367ms\n",
      "604:\tlearn: 0.1013311\ttotal: 560ms\tremaining: 366ms\n",
      "605:\tlearn: 0.1011608\ttotal: 561ms\tremaining: 365ms\n",
      "606:\tlearn: 0.1011174\ttotal: 562ms\tremaining: 364ms\n",
      "607:\tlearn: 0.1008026\ttotal: 563ms\tremaining: 363ms\n",
      "608:\tlearn: 0.1006471\ttotal: 563ms\tremaining: 362ms\n",
      "609:\tlearn: 0.1004088\ttotal: 564ms\tremaining: 361ms\n",
      "610:\tlearn: 0.1003269\ttotal: 565ms\tremaining: 360ms\n",
      "611:\tlearn: 0.1001267\ttotal: 566ms\tremaining: 359ms\n",
      "612:\tlearn: 0.0999866\ttotal: 567ms\tremaining: 358ms\n",
      "613:\tlearn: 0.0998159\ttotal: 567ms\tremaining: 357ms\n",
      "614:\tlearn: 0.0996171\ttotal: 568ms\tremaining: 356ms\n",
      "615:\tlearn: 0.0995628\ttotal: 569ms\tremaining: 355ms\n",
      "616:\tlearn: 0.0993628\ttotal: 570ms\tremaining: 354ms\n",
      "617:\tlearn: 0.0992836\ttotal: 571ms\tremaining: 353ms\n",
      "618:\tlearn: 0.0991336\ttotal: 572ms\tremaining: 352ms\n"
     ]
    },
    {
     "name": "stdout",
     "output_type": "stream",
     "text": [
      "619:\tlearn: 0.0991020\ttotal: 573ms\tremaining: 351ms\n",
      "620:\tlearn: 0.0989477\ttotal: 574ms\tremaining: 350ms\n",
      "621:\tlearn: 0.0987937\ttotal: 575ms\tremaining: 349ms\n",
      "622:\tlearn: 0.0986119\ttotal: 575ms\tremaining: 348ms\n",
      "623:\tlearn: 0.0983713\ttotal: 576ms\tremaining: 347ms\n",
      "624:\tlearn: 0.0982439\ttotal: 577ms\tremaining: 346ms\n",
      "625:\tlearn: 0.0981186\ttotal: 578ms\tremaining: 345ms\n",
      "626:\tlearn: 0.0980540\ttotal: 579ms\tremaining: 344ms\n",
      "627:\tlearn: 0.0979056\ttotal: 580ms\tremaining: 343ms\n",
      "628:\tlearn: 0.0977573\ttotal: 580ms\tremaining: 342ms\n",
      "629:\tlearn: 0.0975414\ttotal: 581ms\tremaining: 341ms\n",
      "630:\tlearn: 0.0973864\ttotal: 582ms\tremaining: 340ms\n",
      "631:\tlearn: 0.0971894\ttotal: 583ms\tremaining: 339ms\n",
      "632:\tlearn: 0.0970631\ttotal: 584ms\tremaining: 339ms\n",
      "633:\tlearn: 0.0969309\ttotal: 585ms\tremaining: 338ms\n",
      "634:\tlearn: 0.0967048\ttotal: 585ms\tremaining: 337ms\n",
      "635:\tlearn: 0.0965783\ttotal: 586ms\tremaining: 336ms\n",
      "636:\tlearn: 0.0963048\ttotal: 587ms\tremaining: 335ms\n",
      "637:\tlearn: 0.0961820\ttotal: 588ms\tremaining: 334ms\n",
      "638:\tlearn: 0.0960427\ttotal: 589ms\tremaining: 333ms\n",
      "639:\tlearn: 0.0959984\ttotal: 589ms\tremaining: 332ms\n",
      "640:\tlearn: 0.0958919\ttotal: 590ms\tremaining: 331ms\n",
      "641:\tlearn: 0.0956637\ttotal: 591ms\tremaining: 330ms\n",
      "642:\tlearn: 0.0955070\ttotal: 592ms\tremaining: 329ms\n",
      "643:\tlearn: 0.0953338\ttotal: 593ms\tremaining: 328ms\n",
      "644:\tlearn: 0.0952842\ttotal: 593ms\tremaining: 327ms\n",
      "645:\tlearn: 0.0951978\ttotal: 594ms\tremaining: 326ms\n",
      "646:\tlearn: 0.0950510\ttotal: 595ms\tremaining: 325ms\n",
      "647:\tlearn: 0.0950130\ttotal: 596ms\tremaining: 324ms\n",
      "648:\tlearn: 0.0948182\ttotal: 596ms\tremaining: 323ms\n",
      "649:\tlearn: 0.0945610\ttotal: 597ms\tremaining: 322ms\n",
      "650:\tlearn: 0.0945352\ttotal: 598ms\tremaining: 321ms\n",
      "651:\tlearn: 0.0944342\ttotal: 599ms\tremaining: 320ms\n",
      "652:\tlearn: 0.0942959\ttotal: 600ms\tremaining: 319ms\n",
      "653:\tlearn: 0.0942532\ttotal: 600ms\tremaining: 318ms\n",
      "654:\tlearn: 0.0940978\ttotal: 601ms\tremaining: 317ms\n",
      "655:\tlearn: 0.0940255\ttotal: 602ms\tremaining: 316ms\n",
      "656:\tlearn: 0.0939756\ttotal: 603ms\tremaining: 315ms\n",
      "657:\tlearn: 0.0937548\ttotal: 604ms\tremaining: 314ms\n",
      "658:\tlearn: 0.0935974\ttotal: 605ms\tremaining: 313ms\n",
      "659:\tlearn: 0.0934575\ttotal: 605ms\tremaining: 312ms\n",
      "660:\tlearn: 0.0934342\ttotal: 606ms\tremaining: 311ms\n",
      "661:\tlearn: 0.0932609\ttotal: 607ms\tremaining: 310ms\n",
      "662:\tlearn: 0.0931087\ttotal: 608ms\tremaining: 309ms\n",
      "663:\tlearn: 0.0930945\ttotal: 609ms\tremaining: 308ms\n",
      "664:\tlearn: 0.0928971\ttotal: 610ms\tremaining: 307ms\n",
      "665:\tlearn: 0.0927575\ttotal: 611ms\tremaining: 306ms\n",
      "666:\tlearn: 0.0925926\ttotal: 611ms\tremaining: 305ms\n",
      "667:\tlearn: 0.0924759\ttotal: 613ms\tremaining: 304ms\n",
      "668:\tlearn: 0.0923701\ttotal: 613ms\tremaining: 303ms\n",
      "669:\tlearn: 0.0922138\ttotal: 614ms\tremaining: 302ms\n",
      "670:\tlearn: 0.0921100\ttotal: 615ms\tremaining: 301ms\n",
      "671:\tlearn: 0.0919112\ttotal: 616ms\tremaining: 301ms\n",
      "672:\tlearn: 0.0917862\ttotal: 617ms\tremaining: 300ms\n",
      "673:\tlearn: 0.0916424\ttotal: 617ms\tremaining: 299ms\n",
      "674:\tlearn: 0.0914081\ttotal: 618ms\tremaining: 298ms\n",
      "675:\tlearn: 0.0913795\ttotal: 619ms\tremaining: 297ms\n",
      "676:\tlearn: 0.0911469\ttotal: 620ms\tremaining: 296ms\n",
      "677:\tlearn: 0.0909830\ttotal: 621ms\tremaining: 295ms\n",
      "678:\tlearn: 0.0908043\ttotal: 622ms\tremaining: 294ms\n",
      "679:\tlearn: 0.0906006\ttotal: 623ms\tremaining: 293ms\n",
      "680:\tlearn: 0.0904166\ttotal: 623ms\tremaining: 292ms\n",
      "681:\tlearn: 0.0904009\ttotal: 624ms\tremaining: 291ms\n",
      "682:\tlearn: 0.0903114\ttotal: 625ms\tremaining: 290ms\n",
      "683:\tlearn: 0.0901495\ttotal: 626ms\tremaining: 289ms\n",
      "684:\tlearn: 0.0900393\ttotal: 627ms\tremaining: 288ms\n",
      "685:\tlearn: 0.0899334\ttotal: 628ms\tremaining: 287ms\n",
      "686:\tlearn: 0.0898406\ttotal: 629ms\tremaining: 286ms\n",
      "687:\tlearn: 0.0897074\ttotal: 629ms\tremaining: 285ms\n",
      "688:\tlearn: 0.0894756\ttotal: 630ms\tremaining: 285ms\n",
      "689:\tlearn: 0.0894362\ttotal: 631ms\tremaining: 284ms\n",
      "690:\tlearn: 0.0894172\ttotal: 632ms\tremaining: 283ms\n",
      "691:\tlearn: 0.0893968\ttotal: 633ms\tremaining: 282ms\n",
      "692:\tlearn: 0.0893114\ttotal: 634ms\tremaining: 281ms\n",
      "693:\tlearn: 0.0890962\ttotal: 634ms\tremaining: 280ms\n",
      "694:\tlearn: 0.0890475\ttotal: 635ms\tremaining: 279ms\n",
      "695:\tlearn: 0.0888187\ttotal: 636ms\tremaining: 278ms\n",
      "696:\tlearn: 0.0888044\ttotal: 637ms\tremaining: 277ms\n",
      "697:\tlearn: 0.0887083\ttotal: 638ms\tremaining: 276ms\n",
      "698:\tlearn: 0.0886856\ttotal: 638ms\tremaining: 275ms\n",
      "699:\tlearn: 0.0886062\ttotal: 639ms\tremaining: 274ms\n",
      "700:\tlearn: 0.0885891\ttotal: 640ms\tremaining: 273ms\n",
      "701:\tlearn: 0.0884275\ttotal: 641ms\tremaining: 272ms\n",
      "702:\tlearn: 0.0882503\ttotal: 642ms\tremaining: 271ms\n",
      "703:\tlearn: 0.0879964\ttotal: 642ms\tremaining: 270ms\n",
      "704:\tlearn: 0.0878803\ttotal: 643ms\tremaining: 269ms\n",
      "705:\tlearn: 0.0877757\ttotal: 644ms\tremaining: 268ms\n",
      "706:\tlearn: 0.0877461\ttotal: 645ms\tremaining: 267ms\n",
      "707:\tlearn: 0.0876218\ttotal: 646ms\tremaining: 266ms\n",
      "708:\tlearn: 0.0874800\ttotal: 646ms\tremaining: 265ms\n",
      "709:\tlearn: 0.0873056\ttotal: 647ms\tremaining: 264ms\n",
      "710:\tlearn: 0.0871844\ttotal: 648ms\tremaining: 263ms\n",
      "711:\tlearn: 0.0870941\ttotal: 649ms\tremaining: 263ms\n",
      "712:\tlearn: 0.0869310\ttotal: 650ms\tremaining: 262ms\n",
      "713:\tlearn: 0.0869043\ttotal: 651ms\tremaining: 261ms\n",
      "714:\tlearn: 0.0868849\ttotal: 651ms\tremaining: 260ms\n",
      "715:\tlearn: 0.0866115\ttotal: 652ms\tremaining: 259ms\n",
      "716:\tlearn: 0.0865554\ttotal: 653ms\tremaining: 258ms\n",
      "717:\tlearn: 0.0864759\ttotal: 654ms\tremaining: 257ms\n",
      "718:\tlearn: 0.0863049\ttotal: 654ms\tremaining: 256ms\n",
      "719:\tlearn: 0.0862186\ttotal: 655ms\tremaining: 255ms\n",
      "720:\tlearn: 0.0861209\ttotal: 656ms\tremaining: 254ms\n",
      "721:\tlearn: 0.0859226\ttotal: 657ms\tremaining: 253ms\n",
      "722:\tlearn: 0.0858006\ttotal: 658ms\tremaining: 252ms\n",
      "723:\tlearn: 0.0856920\ttotal: 659ms\tremaining: 251ms\n",
      "724:\tlearn: 0.0855684\ttotal: 659ms\tremaining: 250ms\n",
      "725:\tlearn: 0.0855530\ttotal: 660ms\tremaining: 249ms\n",
      "726:\tlearn: 0.0855337\ttotal: 661ms\tremaining: 248ms\n",
      "727:\tlearn: 0.0854850\ttotal: 662ms\tremaining: 247ms\n",
      "728:\tlearn: 0.0853752\ttotal: 663ms\tremaining: 246ms\n",
      "729:\tlearn: 0.0851694\ttotal: 664ms\tremaining: 245ms\n",
      "730:\tlearn: 0.0850494\ttotal: 664ms\tremaining: 244ms\n",
      "731:\tlearn: 0.0849230\ttotal: 665ms\tremaining: 244ms\n",
      "732:\tlearn: 0.0848931\ttotal: 666ms\tremaining: 243ms\n",
      "733:\tlearn: 0.0847274\ttotal: 667ms\tremaining: 242ms\n",
      "734:\tlearn: 0.0846292\ttotal: 668ms\tremaining: 241ms\n",
      "735:\tlearn: 0.0845570\ttotal: 668ms\tremaining: 240ms\n",
      "736:\tlearn: 0.0844615\ttotal: 669ms\tremaining: 239ms\n",
      "737:\tlearn: 0.0843236\ttotal: 670ms\tremaining: 238ms\n",
      "738:\tlearn: 0.0843117\ttotal: 671ms\tremaining: 237ms\n",
      "739:\tlearn: 0.0842930\ttotal: 672ms\tremaining: 236ms\n",
      "740:\tlearn: 0.0841626\ttotal: 673ms\tremaining: 235ms\n",
      "741:\tlearn: 0.0839310\ttotal: 674ms\tremaining: 234ms\n",
      "742:\tlearn: 0.0838380\ttotal: 674ms\tremaining: 233ms\n",
      "743:\tlearn: 0.0837704\ttotal: 675ms\tremaining: 232ms\n",
      "744:\tlearn: 0.0835367\ttotal: 676ms\tremaining: 231ms\n",
      "745:\tlearn: 0.0834903\ttotal: 677ms\tremaining: 230ms\n",
      "746:\tlearn: 0.0834412\ttotal: 678ms\tremaining: 230ms\n",
      "747:\tlearn: 0.0833121\ttotal: 678ms\tremaining: 229ms\n",
      "748:\tlearn: 0.0831840\ttotal: 679ms\tremaining: 228ms\n"
     ]
    },
    {
     "name": "stdout",
     "output_type": "stream",
     "text": [
      "749:\tlearn: 0.0830507\ttotal: 680ms\tremaining: 227ms\n",
      "750:\tlearn: 0.0828958\ttotal: 681ms\tremaining: 226ms\n",
      "751:\tlearn: 0.0828435\ttotal: 682ms\tremaining: 225ms\n",
      "752:\tlearn: 0.0826384\ttotal: 683ms\tremaining: 224ms\n",
      "753:\tlearn: 0.0826076\ttotal: 684ms\tremaining: 223ms\n",
      "754:\tlearn: 0.0825293\ttotal: 685ms\tremaining: 222ms\n",
      "755:\tlearn: 0.0823961\ttotal: 685ms\tremaining: 221ms\n",
      "756:\tlearn: 0.0823665\ttotal: 686ms\tremaining: 220ms\n",
      "757:\tlearn: 0.0822630\ttotal: 687ms\tremaining: 219ms\n",
      "758:\tlearn: 0.0820817\ttotal: 688ms\tremaining: 218ms\n",
      "759:\tlearn: 0.0819234\ttotal: 689ms\tremaining: 217ms\n",
      "760:\tlearn: 0.0818831\ttotal: 689ms\tremaining: 217ms\n",
      "761:\tlearn: 0.0817579\ttotal: 690ms\tremaining: 216ms\n",
      "762:\tlearn: 0.0816850\ttotal: 691ms\tremaining: 215ms\n",
      "763:\tlearn: 0.0815926\ttotal: 692ms\tremaining: 214ms\n",
      "764:\tlearn: 0.0815732\ttotal: 693ms\tremaining: 213ms\n",
      "765:\tlearn: 0.0814021\ttotal: 694ms\tremaining: 212ms\n",
      "766:\tlearn: 0.0813669\ttotal: 694ms\tremaining: 211ms\n",
      "767:\tlearn: 0.0812474\ttotal: 695ms\tremaining: 210ms\n",
      "768:\tlearn: 0.0811310\ttotal: 696ms\tremaining: 209ms\n",
      "769:\tlearn: 0.0809675\ttotal: 697ms\tremaining: 208ms\n",
      "770:\tlearn: 0.0808631\ttotal: 698ms\tremaining: 207ms\n",
      "771:\tlearn: 0.0807669\ttotal: 698ms\tremaining: 206ms\n",
      "772:\tlearn: 0.0805985\ttotal: 699ms\tremaining: 205ms\n",
      "773:\tlearn: 0.0804222\ttotal: 700ms\tremaining: 204ms\n",
      "774:\tlearn: 0.0803166\ttotal: 701ms\tremaining: 203ms\n",
      "775:\tlearn: 0.0802545\ttotal: 701ms\tremaining: 202ms\n",
      "776:\tlearn: 0.0801425\ttotal: 702ms\tremaining: 202ms\n",
      "777:\tlearn: 0.0799763\ttotal: 703ms\tremaining: 201ms\n",
      "778:\tlearn: 0.0798936\ttotal: 704ms\tremaining: 200ms\n",
      "779:\tlearn: 0.0797424\ttotal: 705ms\tremaining: 199ms\n",
      "780:\tlearn: 0.0796378\ttotal: 706ms\tremaining: 198ms\n",
      "781:\tlearn: 0.0796123\ttotal: 707ms\tremaining: 197ms\n",
      "782:\tlearn: 0.0794411\ttotal: 708ms\tremaining: 196ms\n",
      "783:\tlearn: 0.0793207\ttotal: 709ms\tremaining: 195ms\n",
      "784:\tlearn: 0.0792964\ttotal: 709ms\tremaining: 194ms\n",
      "785:\tlearn: 0.0791084\ttotal: 710ms\tremaining: 193ms\n",
      "786:\tlearn: 0.0789575\ttotal: 711ms\tremaining: 192ms\n",
      "787:\tlearn: 0.0789158\ttotal: 712ms\tremaining: 191ms\n",
      "788:\tlearn: 0.0787687\ttotal: 713ms\tremaining: 191ms\n",
      "789:\tlearn: 0.0786101\ttotal: 713ms\tremaining: 190ms\n",
      "790:\tlearn: 0.0784605\ttotal: 714ms\tremaining: 189ms\n",
      "791:\tlearn: 0.0783771\ttotal: 715ms\tremaining: 188ms\n",
      "792:\tlearn: 0.0783378\ttotal: 716ms\tremaining: 187ms\n",
      "793:\tlearn: 0.0781918\ttotal: 717ms\tremaining: 186ms\n",
      "794:\tlearn: 0.0781676\ttotal: 717ms\tremaining: 185ms\n",
      "795:\tlearn: 0.0780313\ttotal: 718ms\tremaining: 184ms\n",
      "796:\tlearn: 0.0780140\ttotal: 719ms\tremaining: 183ms\n",
      "797:\tlearn: 0.0779112\ttotal: 720ms\tremaining: 182ms\n",
      "798:\tlearn: 0.0778585\ttotal: 721ms\tremaining: 181ms\n",
      "799:\tlearn: 0.0777625\ttotal: 722ms\tremaining: 180ms\n",
      "800:\tlearn: 0.0776794\ttotal: 722ms\tremaining: 179ms\n",
      "801:\tlearn: 0.0776137\ttotal: 723ms\tremaining: 179ms\n",
      "802:\tlearn: 0.0774366\ttotal: 724ms\tremaining: 178ms\n",
      "803:\tlearn: 0.0773118\ttotal: 725ms\tremaining: 177ms\n",
      "804:\tlearn: 0.0772589\ttotal: 726ms\tremaining: 176ms\n",
      "805:\tlearn: 0.0771326\ttotal: 727ms\tremaining: 175ms\n",
      "806:\tlearn: 0.0771147\ttotal: 727ms\tremaining: 174ms\n",
      "807:\tlearn: 0.0770496\ttotal: 728ms\tremaining: 173ms\n",
      "808:\tlearn: 0.0769596\ttotal: 729ms\tremaining: 172ms\n",
      "809:\tlearn: 0.0768775\ttotal: 730ms\tremaining: 171ms\n",
      "810:\tlearn: 0.0767177\ttotal: 731ms\tremaining: 170ms\n",
      "811:\tlearn: 0.0765505\ttotal: 731ms\tremaining: 169ms\n",
      "812:\tlearn: 0.0765345\ttotal: 732ms\tremaining: 168ms\n",
      "813:\tlearn: 0.0764443\ttotal: 733ms\tremaining: 167ms\n",
      "814:\tlearn: 0.0764353\ttotal: 734ms\tremaining: 167ms\n",
      "815:\tlearn: 0.0763469\ttotal: 734ms\tremaining: 166ms\n",
      "816:\tlearn: 0.0762895\ttotal: 735ms\tremaining: 165ms\n",
      "817:\tlearn: 0.0761165\ttotal: 736ms\tremaining: 164ms\n",
      "818:\tlearn: 0.0760463\ttotal: 737ms\tremaining: 163ms\n",
      "819:\tlearn: 0.0758903\ttotal: 738ms\tremaining: 162ms\n",
      "820:\tlearn: 0.0758646\ttotal: 738ms\tremaining: 161ms\n",
      "821:\tlearn: 0.0757055\ttotal: 739ms\tremaining: 160ms\n",
      "822:\tlearn: 0.0756261\ttotal: 740ms\tremaining: 159ms\n",
      "823:\tlearn: 0.0754828\ttotal: 741ms\tremaining: 158ms\n",
      "824:\tlearn: 0.0753605\ttotal: 742ms\tremaining: 157ms\n",
      "825:\tlearn: 0.0753499\ttotal: 743ms\tremaining: 156ms\n",
      "826:\tlearn: 0.0752158\ttotal: 743ms\tremaining: 156ms\n",
      "827:\tlearn: 0.0752060\ttotal: 744ms\tremaining: 155ms\n",
      "828:\tlearn: 0.0751026\ttotal: 745ms\tremaining: 154ms\n",
      "829:\tlearn: 0.0749997\ttotal: 746ms\tremaining: 153ms\n",
      "830:\tlearn: 0.0749850\ttotal: 747ms\tremaining: 152ms\n",
      "831:\tlearn: 0.0748663\ttotal: 748ms\tremaining: 151ms\n",
      "832:\tlearn: 0.0747812\ttotal: 749ms\tremaining: 150ms\n",
      "833:\tlearn: 0.0746850\ttotal: 749ms\tremaining: 149ms\n",
      "834:\tlearn: 0.0746605\ttotal: 750ms\tremaining: 148ms\n",
      "835:\tlearn: 0.0745799\ttotal: 751ms\tremaining: 147ms\n",
      "836:\tlearn: 0.0745427\ttotal: 752ms\tremaining: 146ms\n",
      "837:\tlearn: 0.0745095\ttotal: 752ms\tremaining: 145ms\n",
      "838:\tlearn: 0.0744519\ttotal: 753ms\tremaining: 145ms\n",
      "839:\tlearn: 0.0743072\ttotal: 754ms\tremaining: 144ms\n",
      "840:\tlearn: 0.0741944\ttotal: 755ms\tremaining: 143ms\n",
      "841:\tlearn: 0.0741269\ttotal: 756ms\tremaining: 142ms\n",
      "842:\tlearn: 0.0740422\ttotal: 757ms\tremaining: 141ms\n",
      "843:\tlearn: 0.0738437\ttotal: 758ms\tremaining: 140ms\n",
      "844:\tlearn: 0.0738077\ttotal: 759ms\tremaining: 139ms\n",
      "845:\tlearn: 0.0736508\ttotal: 760ms\tremaining: 138ms\n",
      "846:\tlearn: 0.0734946\ttotal: 760ms\tremaining: 137ms\n",
      "847:\tlearn: 0.0733117\ttotal: 761ms\tremaining: 136ms\n",
      "848:\tlearn: 0.0732981\ttotal: 762ms\tremaining: 136ms\n"
     ]
    },
    {
     "name": "stdout",
     "output_type": "stream",
     "text": [
      "849:\tlearn: 0.0731621\ttotal: 763ms\tremaining: 135ms\n",
      "850:\tlearn: 0.0730730\ttotal: 764ms\tremaining: 134ms\n",
      "851:\tlearn: 0.0730215\ttotal: 765ms\tremaining: 133ms\n",
      "852:\tlearn: 0.0729509\ttotal: 766ms\tremaining: 132ms\n",
      "853:\tlearn: 0.0728161\ttotal: 767ms\tremaining: 131ms\n",
      "854:\tlearn: 0.0726702\ttotal: 767ms\tremaining: 130ms\n",
      "855:\tlearn: 0.0726297\ttotal: 768ms\tremaining: 129ms\n",
      "856:\tlearn: 0.0724927\ttotal: 769ms\tremaining: 128ms\n",
      "857:\tlearn: 0.0723944\ttotal: 770ms\tremaining: 127ms\n",
      "858:\tlearn: 0.0723738\ttotal: 771ms\tremaining: 127ms\n",
      "859:\tlearn: 0.0723433\ttotal: 772ms\tremaining: 126ms\n",
      "860:\tlearn: 0.0723191\ttotal: 773ms\tremaining: 125ms\n",
      "861:\tlearn: 0.0721817\ttotal: 774ms\tremaining: 124ms\n",
      "862:\tlearn: 0.0721400\ttotal: 774ms\tremaining: 123ms\n",
      "863:\tlearn: 0.0720490\ttotal: 775ms\tremaining: 122ms\n",
      "864:\tlearn: 0.0719122\ttotal: 776ms\tremaining: 121ms\n",
      "865:\tlearn: 0.0718171\ttotal: 777ms\tremaining: 120ms\n",
      "866:\tlearn: 0.0717395\ttotal: 778ms\tremaining: 119ms\n",
      "867:\tlearn: 0.0716468\ttotal: 779ms\tremaining: 119ms\n",
      "868:\tlearn: 0.0716290\ttotal: 780ms\tremaining: 118ms\n",
      "869:\tlearn: 0.0715654\ttotal: 781ms\tremaining: 117ms\n",
      "870:\tlearn: 0.0714205\ttotal: 782ms\tremaining: 116ms\n",
      "871:\tlearn: 0.0712834\ttotal: 783ms\tremaining: 115ms\n",
      "872:\tlearn: 0.0712628\ttotal: 784ms\tremaining: 114ms\n",
      "873:\tlearn: 0.0711721\ttotal: 785ms\tremaining: 113ms\n",
      "874:\tlearn: 0.0711600\ttotal: 786ms\tremaining: 112ms\n",
      "875:\tlearn: 0.0710439\ttotal: 787ms\tremaining: 111ms\n",
      "876:\tlearn: 0.0709056\ttotal: 788ms\tremaining: 110ms\n",
      "877:\tlearn: 0.0708905\ttotal: 789ms\tremaining: 110ms\n",
      "878:\tlearn: 0.0707005\ttotal: 789ms\tremaining: 109ms\n",
      "879:\tlearn: 0.0706024\ttotal: 790ms\tremaining: 108ms\n",
      "880:\tlearn: 0.0704495\ttotal: 791ms\tremaining: 107ms\n",
      "881:\tlearn: 0.0703717\ttotal: 792ms\tremaining: 106ms\n",
      "882:\tlearn: 0.0702716\ttotal: 793ms\tremaining: 105ms\n",
      "883:\tlearn: 0.0701639\ttotal: 793ms\tremaining: 104ms\n",
      "884:\tlearn: 0.0700749\ttotal: 794ms\tremaining: 103ms\n",
      "885:\tlearn: 0.0699452\ttotal: 795ms\tremaining: 102ms\n",
      "886:\tlearn: 0.0699173\ttotal: 796ms\tremaining: 101ms\n",
      "887:\tlearn: 0.0697448\ttotal: 797ms\tremaining: 100ms\n",
      "888:\tlearn: 0.0696717\ttotal: 798ms\tremaining: 99.6ms\n",
      "889:\tlearn: 0.0695760\ttotal: 799ms\tremaining: 98.7ms\n",
      "890:\tlearn: 0.0694585\ttotal: 799ms\tremaining: 97.8ms\n",
      "891:\tlearn: 0.0694505\ttotal: 800ms\tremaining: 96.9ms\n",
      "892:\tlearn: 0.0692814\ttotal: 801ms\tremaining: 96ms\n",
      "893:\tlearn: 0.0692016\ttotal: 802ms\tremaining: 95ms\n",
      "894:\tlearn: 0.0691031\ttotal: 802ms\tremaining: 94.1ms\n",
      "895:\tlearn: 0.0690165\ttotal: 803ms\tremaining: 93.2ms\n",
      "896:\tlearn: 0.0689018\ttotal: 804ms\tremaining: 92.3ms\n",
      "897:\tlearn: 0.0687567\ttotal: 805ms\tremaining: 91.4ms\n",
      "898:\tlearn: 0.0686079\ttotal: 806ms\tremaining: 90.5ms\n",
      "899:\tlearn: 0.0684980\ttotal: 806ms\tremaining: 89.6ms\n",
      "900:\tlearn: 0.0684313\ttotal: 807ms\tremaining: 88.7ms\n",
      "901:\tlearn: 0.0683327\ttotal: 808ms\tremaining: 87.8ms\n",
      "902:\tlearn: 0.0681947\ttotal: 809ms\tremaining: 86.9ms\n",
      "903:\tlearn: 0.0680481\ttotal: 810ms\tremaining: 86ms\n",
      "904:\tlearn: 0.0679946\ttotal: 810ms\tremaining: 85.1ms\n",
      "905:\tlearn: 0.0678884\ttotal: 811ms\tremaining: 84.2ms\n",
      "906:\tlearn: 0.0677556\ttotal: 812ms\tremaining: 83.3ms\n",
      "907:\tlearn: 0.0676591\ttotal: 813ms\tremaining: 82.4ms\n",
      "908:\tlearn: 0.0675542\ttotal: 814ms\tremaining: 81.5ms\n",
      "909:\tlearn: 0.0675020\ttotal: 815ms\tremaining: 80.6ms\n",
      "910:\tlearn: 0.0674748\ttotal: 816ms\tremaining: 79.7ms\n",
      "911:\tlearn: 0.0673103\ttotal: 816ms\tremaining: 78.8ms\n",
      "912:\tlearn: 0.0672530\ttotal: 817ms\tremaining: 77.9ms\n",
      "913:\tlearn: 0.0672186\ttotal: 818ms\tremaining: 77ms\n",
      "914:\tlearn: 0.0671414\ttotal: 819ms\tremaining: 76.1ms\n",
      "915:\tlearn: 0.0669563\ttotal: 820ms\tremaining: 75.2ms\n",
      "916:\tlearn: 0.0668203\ttotal: 821ms\tremaining: 74.3ms\n",
      "917:\tlearn: 0.0667953\ttotal: 821ms\tremaining: 73.4ms\n",
      "918:\tlearn: 0.0667419\ttotal: 822ms\tremaining: 72.5ms\n",
      "919:\tlearn: 0.0666007\ttotal: 823ms\tremaining: 71.6ms\n",
      "920:\tlearn: 0.0665557\ttotal: 824ms\tremaining: 70.7ms\n",
      "921:\tlearn: 0.0664326\ttotal: 825ms\tremaining: 69.8ms\n",
      "922:\tlearn: 0.0662914\ttotal: 825ms\tremaining: 68.9ms\n",
      "923:\tlearn: 0.0662499\ttotal: 826ms\tremaining: 68ms\n",
      "924:\tlearn: 0.0661072\ttotal: 827ms\tremaining: 67.1ms\n",
      "925:\tlearn: 0.0660581\ttotal: 828ms\tremaining: 66.2ms\n",
      "926:\tlearn: 0.0659379\ttotal: 829ms\tremaining: 65.3ms\n",
      "927:\tlearn: 0.0657691\ttotal: 829ms\tremaining: 64.4ms\n",
      "928:\tlearn: 0.0656421\ttotal: 830ms\tremaining: 63.5ms\n",
      "929:\tlearn: 0.0655679\ttotal: 831ms\tremaining: 62.5ms\n",
      "930:\tlearn: 0.0655315\ttotal: 832ms\tremaining: 61.6ms\n",
      "931:\tlearn: 0.0654151\ttotal: 833ms\tremaining: 60.7ms\n",
      "932:\tlearn: 0.0652973\ttotal: 833ms\tremaining: 59.8ms\n",
      "933:\tlearn: 0.0651888\ttotal: 834ms\tremaining: 58.9ms\n",
      "934:\tlearn: 0.0651678\ttotal: 835ms\tremaining: 58.1ms\n",
      "935:\tlearn: 0.0651360\ttotal: 836ms\tremaining: 57.2ms\n",
      "936:\tlearn: 0.0650758\ttotal: 837ms\tremaining: 56.2ms\n",
      "937:\tlearn: 0.0649742\ttotal: 837ms\tremaining: 55.3ms\n",
      "938:\tlearn: 0.0648589\ttotal: 838ms\tremaining: 54.5ms\n",
      "939:\tlearn: 0.0647748\ttotal: 839ms\tremaining: 53.5ms\n",
      "940:\tlearn: 0.0646578\ttotal: 840ms\tremaining: 52.6ms\n",
      "941:\tlearn: 0.0645566\ttotal: 840ms\tremaining: 51.7ms\n",
      "942:\tlearn: 0.0644562\ttotal: 841ms\tremaining: 50.9ms\n",
      "943:\tlearn: 0.0643902\ttotal: 842ms\tremaining: 50ms\n",
      "944:\tlearn: 0.0642410\ttotal: 843ms\tremaining: 49.1ms\n",
      "945:\tlearn: 0.0641142\ttotal: 844ms\tremaining: 48.2ms\n",
      "946:\tlearn: 0.0640109\ttotal: 845ms\tremaining: 47.3ms\n",
      "947:\tlearn: 0.0639626\ttotal: 845ms\tremaining: 46.4ms\n",
      "948:\tlearn: 0.0638046\ttotal: 846ms\tremaining: 45.5ms\n",
      "949:\tlearn: 0.0637319\ttotal: 847ms\tremaining: 44.6ms\n",
      "950:\tlearn: 0.0636253\ttotal: 848ms\tremaining: 43.7ms\n",
      "951:\tlearn: 0.0635127\ttotal: 849ms\tremaining: 42.8ms\n",
      "952:\tlearn: 0.0634454\ttotal: 849ms\tremaining: 41.9ms\n",
      "953:\tlearn: 0.0633372\ttotal: 850ms\tremaining: 41ms\n",
      "954:\tlearn: 0.0632271\ttotal: 851ms\tremaining: 40.1ms\n",
      "955:\tlearn: 0.0632133\ttotal: 852ms\tremaining: 39.2ms\n",
      "956:\tlearn: 0.0631113\ttotal: 853ms\tremaining: 38.3ms\n",
      "957:\tlearn: 0.0630245\ttotal: 853ms\tremaining: 37.4ms\n",
      "958:\tlearn: 0.0629041\ttotal: 854ms\tremaining: 36.5ms\n",
      "959:\tlearn: 0.0628330\ttotal: 855ms\tremaining: 35.6ms\n",
      "960:\tlearn: 0.0626970\ttotal: 856ms\tremaining: 34.7ms\n",
      "961:\tlearn: 0.0625930\ttotal: 857ms\tremaining: 33.8ms\n",
      "962:\tlearn: 0.0624539\ttotal: 858ms\tremaining: 32.9ms\n",
      "963:\tlearn: 0.0623728\ttotal: 858ms\tremaining: 32.1ms\n",
      "964:\tlearn: 0.0622800\ttotal: 859ms\tremaining: 31.2ms\n",
      "965:\tlearn: 0.0622144\ttotal: 860ms\tremaining: 30.3ms\n",
      "966:\tlearn: 0.0621117\ttotal: 861ms\tremaining: 29.4ms\n",
      "967:\tlearn: 0.0620357\ttotal: 862ms\tremaining: 28.5ms\n",
      "968:\tlearn: 0.0619161\ttotal: 863ms\tremaining: 27.6ms\n",
      "969:\tlearn: 0.0618782\ttotal: 864ms\tremaining: 26.7ms\n",
      "970:\tlearn: 0.0618490\ttotal: 865ms\tremaining: 25.8ms\n",
      "971:\tlearn: 0.0617406\ttotal: 865ms\tremaining: 24.9ms\n",
      "972:\tlearn: 0.0616517\ttotal: 866ms\tremaining: 24ms\n",
      "973:\tlearn: 0.0616158\ttotal: 867ms\tremaining: 23.1ms\n",
      "974:\tlearn: 0.0614563\ttotal: 868ms\tremaining: 22.3ms\n",
      "975:\tlearn: 0.0613354\ttotal: 869ms\tremaining: 21.4ms\n",
      "976:\tlearn: 0.0613210\ttotal: 870ms\tremaining: 20.5ms\n",
      "977:\tlearn: 0.0612529\ttotal: 871ms\tremaining: 19.6ms\n"
     ]
    },
    {
     "name": "stdout",
     "output_type": "stream",
     "text": [
      "978:\tlearn: 0.0612381\ttotal: 872ms\tremaining: 18.7ms\n",
      "979:\tlearn: 0.0611762\ttotal: 872ms\tremaining: 17.8ms\n",
      "980:\tlearn: 0.0611495\ttotal: 873ms\tremaining: 16.9ms\n",
      "981:\tlearn: 0.0610271\ttotal: 874ms\tremaining: 16ms\n",
      "982:\tlearn: 0.0609615\ttotal: 875ms\tremaining: 15.1ms\n",
      "983:\tlearn: 0.0609469\ttotal: 876ms\tremaining: 14.2ms\n",
      "984:\tlearn: 0.0608500\ttotal: 878ms\tremaining: 13.4ms\n",
      "985:\tlearn: 0.0607485\ttotal: 878ms\tremaining: 12.5ms\n",
      "986:\tlearn: 0.0606771\ttotal: 879ms\tremaining: 11.6ms\n",
      "987:\tlearn: 0.0605785\ttotal: 880ms\tremaining: 10.7ms\n",
      "988:\tlearn: 0.0604635\ttotal: 881ms\tremaining: 9.8ms\n",
      "989:\tlearn: 0.0603774\ttotal: 882ms\tremaining: 8.91ms\n",
      "990:\tlearn: 0.0602974\ttotal: 883ms\tremaining: 8.01ms\n",
      "991:\tlearn: 0.0602072\ttotal: 883ms\tremaining: 7.12ms\n",
      "992:\tlearn: 0.0601236\ttotal: 884ms\tremaining: 6.23ms\n",
      "993:\tlearn: 0.0600273\ttotal: 885ms\tremaining: 5.34ms\n",
      "994:\tlearn: 0.0599752\ttotal: 886ms\tremaining: 4.45ms\n",
      "995:\tlearn: 0.0599077\ttotal: 886ms\tremaining: 3.56ms\n",
      "996:\tlearn: 0.0598685\ttotal: 887ms\tremaining: 2.67ms\n",
      "997:\tlearn: 0.0597609\ttotal: 888ms\tremaining: 1.78ms\n",
      "998:\tlearn: 0.0597471\ttotal: 889ms\tremaining: 889us\n",
      "999:\tlearn: 0.0596810\ttotal: 890ms\tremaining: 0us\n"
     ]
    },
    {
     "data": {
      "text/plain": [
       "<catboost.core.CatBoostRegressor at 0x7fef5b380b50>"
      ]
     },
     "execution_count": 9,
     "metadata": {},
     "output_type": "execute_result"
    }
   ],
   "source": [
    "#Train the Model \n",
    "prior_model = ctb.CatBoostRegressor()\n",
    "prior_model.fit(X_train,Y_train)"
   ]
  },
  {
   "cell_type": "code",
   "execution_count": 10,
   "id": "af65dcda",
   "metadata": {
    "execution": {
     "iopub.execute_input": "2022-06-12T05:35:55.408741Z",
     "iopub.status.busy": "2022-06-12T05:35:55.408345Z",
     "iopub.status.idle": "2022-06-12T05:35:55.415960Z",
     "shell.execute_reply": "2022-06-12T05:35:55.416194Z"
    },
    "id": "af65dcda",
    "papermill": {
     "duration": 0.020682,
     "end_time": "2022-06-12T05:35:55.416309",
     "exception": false,
     "start_time": "2022-06-12T05:35:55.395627",
     "status": "completed"
    },
    "tags": []
   },
   "outputs": [
    {
     "data": {
      "application/scrapbook.scrap.json+json": {
       "data": 0.08127221753166883,
       "encoder": "json",
       "name": "Prior Model MSE",
       "version": 1
      }
     },
     "metadata": {
      "scrapbook": {
       "data": true,
       "display": false,
       "name": "Prior Model MSE"
      }
     },
     "output_type": "display_data"
    },
    {
     "data": {
      "application/scrapbook.scrap.json+json": {
       "data": 1.0587901355573235,
       "encoder": "json",
       "name": "ABC Pre-generator MSE",
       "version": 1
      }
     },
     "metadata": {
      "scrapbook": {
       "data": true,
       "display": false,
       "name": "ABC Pre-generator MSE"
      }
     },
     "output_type": "display_data"
    },
    {
     "data": {
      "application/scrapbook.scrap.json+json": {
       "data": 0.200710543567091,
       "encoder": "json",
       "name": "Prior Model MSE",
       "version": 1
      }
     },
     "metadata": {
      "scrapbook": {
       "data": true,
       "display": false,
       "name": "Prior Model MSE"
      }
     },
     "output_type": "display_data"
    },
    {
     "data": {
      "application/scrapbook.scrap.json+json": {
       "data": 0.9887234388254686,
       "encoder": "json",
       "name": "ABC Pre-generator MSE",
       "version": 1
      }
     },
     "metadata": {
      "scrapbook": {
       "data": true,
       "display": false,
       "name": "ABC Pre-generator MSE"
      }
     },
     "output_type": "display_data"
    }
   ],
   "source": [
    "y_pred = prior_model.predict(X_test)\n",
    "y_abc = y_pred + np.random.normal(0,variance, y_pred.shape) + bias \n",
    "mse = mean_squared_error(y_pred,Y_test)\n",
    "sb.glue(\"Prior Model MSE\",mse)\n",
    "mse = mean_squared_error(y_abc,Y_test)\n",
    "sb.glue(\"ABC Pre-generator MSE\",mse)\n",
    "mae = mean_absolute_error(y_pred,Y_test)\n",
    "sb.glue(\"Prior Model MSE\",mae)\n",
    "mae = mean_absolute_error(y_abc,Y_test)\n",
    "sb.glue(\"ABC Pre-generator MSE\",mae)"
   ]
  },
  {
   "cell_type": "markdown",
   "id": "25609da2",
   "metadata": {
    "papermill": {
     "duration": 0.009748,
     "end_time": "2022-06-12T05:35:55.436205",
     "exception": false,
     "start_time": "2022-06-12T05:35:55.426457",
     "status": "completed"
    },
    "tags": []
   },
   "source": [
    "# ABC GAN Model"
   ]
  },
  {
   "cell_type": "code",
   "execution_count": 11,
   "id": "dfc3464d",
   "metadata": {
    "execution": {
     "iopub.execute_input": "2022-06-12T05:35:55.458778Z",
     "iopub.status.busy": "2022-06-12T05:35:55.458421Z",
     "iopub.status.idle": "2022-06-12T05:35:55.460937Z",
     "shell.execute_reply": "2022-06-12T05:35:55.461170Z"
    },
    "papermill": {
     "duration": 0.015343,
     "end_time": "2022-06-12T05:35:55.461280",
     "exception": false,
     "start_time": "2022-06-12T05:35:55.445937",
     "status": "completed"
    },
    "tags": []
   },
   "outputs": [],
   "source": [
    "gen = network.Generator(n_features+1).to(device)\n",
    "disc = network.Discriminator(n_features+1).to(device)\n",
    "\n",
    "criterion = torch.nn.BCELoss()\n",
    "gen_opt = torch.optim.Adam(gen.parameters(), lr=0.001, betas=(0.5, 0.999))\n",
    "disc_opt = torch.optim.Adam(disc.parameters(), lr=0.001, betas=(0.5, 0.999))"
   ]
  },
  {
   "cell_type": "code",
   "execution_count": 12,
   "id": "b75fdd85",
   "metadata": {
    "execution": {
     "iopub.execute_input": "2022-06-12T05:35:55.483836Z",
     "iopub.status.busy": "2022-06-12T05:35:55.483461Z",
     "iopub.status.idle": "2022-06-12T05:36:57.504715Z",
     "shell.execute_reply": "2022-06-12T05:36:57.504447Z"
    },
    "papermill": {
     "duration": 62.033641,
     "end_time": "2022-06-12T05:36:57.504823",
     "exception": false,
     "start_time": "2022-06-12T05:35:55.471182",
     "status": "completed"
    },
    "tags": []
   },
   "outputs": [
    {
     "data": {
      "image/png": "[encoded data removed]",
      "text/plain": [
       "<Figure size 432x288 with 1 Axes>"
      ]
     },
     "metadata": {
      "needs_background": "light"
     },
     "output_type": "display_data"
    },
    {
     "data": {
      "image/png": "[encoded data removed]",
      "text/plain": [
       "<Figure size 432x288 with 1 Axes>"
      ]
     },
     "metadata": {
      "needs_background": "light"
     },
     "output_type": "display_data"
    }
   ],
   "source": [
    "#Training the ABC_GAN \n",
    "ABC_train_test2.training_GAN(disc,gen,disc_opt,gen_opt,train_data,batch_size,n_epochs,criterion,prior_model,variance,bias,device)"
   ]
  },
  {
   "cell_type": "code",
   "execution_count": 13,
   "id": "1fa7c368",
   "metadata": {
    "execution": {
     "iopub.execute_input": "2022-06-12T05:36:57.528828Z",
     "iopub.status.busy": "2022-06-12T05:36:57.528437Z",
     "iopub.status.idle": "2022-06-12T05:36:57.840394Z",
     "shell.execute_reply": "2022-06-12T05:36:57.840697Z"
    },
    "papermill": {
     "duration": 0.325337,
     "end_time": "2022-06-12T05:36:57.840819",
     "exception": false,
     "start_time": "2022-06-12T05:36:57.515482",
     "status": "completed"
    },
    "tags": []
   },
   "outputs": [
    {
     "data": {
      "application/scrapbook.scrap.json+json": {
       "data": 0.0856845781288789,
       "encoder": "json",
       "name": "ABC-GAN Model 1 MSE",
       "version": 1
      }
     },
     "metadata": {
      "scrapbook": {
       "data": true,
       "display": false,
       "name": "ABC-GAN Model 1 MSE"
      }
     },
     "output_type": "display_data"
    },
    {
     "data": {
      "application/scrapbook.scrap.json+json": {
       "data": 0.2144147198997876,
       "encoder": "json",
       "name": "ABC-GAN Model 1 MAE",
       "version": 1
      }
     },
     "metadata": {
      "scrapbook": {
       "data": true,
       "display": false,
       "name": "ABC-GAN Model 1 MAE"
      }
     },
     "output_type": "display_data"
    },
    {
     "data": {
      "application/scrapbook.scrap.json+json": {
       "data": 21.870301429778337,
       "encoder": "json",
       "name": "ABC-GAN Model 1 Manhattan Distance",
       "version": 1
      }
     },
     "metadata": {
      "scrapbook": {
       "data": true,
       "display": false,
       "name": "ABC-GAN Model 1 Manhattan Distance"
      }
     },
     "output_type": "display_data"
    },
    {
     "data": {
      "application/scrapbook.scrap.json+json": {
       "data": 2.9563037142025985,
       "encoder": "json",
       "name": "ABC-GAN Model 1 Euclidean distance",
       "version": 1
      }
     },
     "metadata": {
      "scrapbook": {
       "data": true,
       "display": false,
       "name": "ABC-GAN Model 1 Euclidean distance"
      }
     },
     "output_type": "display_data"
    },
    {
     "data": {
      "application/scrapbook.scrap.json+json": {
       "data": [
        [
         0.08555601813117822,
         0.08583966334875903,
         0.08514050519061311,
         0.08467617277668865,
         0.08572738440621619,
         0.0852145935155743,
         0.0856010042409663,
         0.08606221013270027,
         0.08588616210878638,
         0.08632384449724712,
         0.08678335770436214,
         0.08433217755692232,
         0.0868850803995443,
         0.08577338478115892,
         0.08563785399205244,
         0.085963860583295,
         0.08619105092348035,
         0.08451594652503855,
         0.08490285692048041,
         0.08569705693605535,
         0.08552081010731959,
         0.08504345740812938,
         0.08657533551435448,
         0.08574138171265756,
         0.08533126305325456,
         0.08535902132146937,
         0.08556952840954732,
         0.08509669237664287,
         0.08513280983774574,
         0.08613969075346192,
         0.08621535304564483,
         0.08657663248609905,
         0.0856695568145922,
         0.08563848178765085,
         0.08591799548513362,
         0.0862915907446578,
         0.08528331989946039,
         0.08558391858101214,
         0.0865286290562548,
         0.08559278339324919,
         0.08608904676514754,
         0.08519629016635853,
         0.08576768367808167,
         0.0861463549046832,
         0.08593823051730684,
         0.08480197606801611,
         0.08573901581357297,
         0.08631717949700128,
         0.08497471232289676,
         0.0853660628730754,
         0.08569200102900192,
         0.08715478625528264,
         0.08593387335591354,
         0.08616702228360483,
         0.08496851952317307,
         0.08534951973594995,
         0.08515106784711125,
         0.0860837108383942,
         0.08606799004753617,
         0.08491807593727722,
         0.08453350211039184,
         0.08524033816429237,
         0.08674108246414966,
         0.08514215650609887,
         0.0865009880372903,
         0.08504032839736264,
         0.0858951830937648,
         0.08512649551953952,
         0.08578802764132674,
         0.08532717866952186,
         0.08587141795634096,
         0.08589197844771451,
         0.08609231544805958,
         0.08574201165596582,
         0.08528901478848493,
         0.0858311310175294,
         0.08619702614656541,
         0.08501166864406791,
         0.08599057263791957,
         0.08578222748289459,
         0.0850832356095261,
         0.08644804221314879,
         0.08650299194462781,
         0.08523492492254983,
         0.08515366542414747,
         0.08673267591262425,
         0.08601686723365694,
         0.08569613685348003,
         0.0855664471678159,
         0.08635928602898044,
         0.08497609648290533,
         0.08555117095862992,
         0.08595374827326333,
         0.08533014946605413,
         0.08600568697770551,
         0.08587468024474747,
         0.08551680591211502,
         0.08596086777244785,
         0.08546021521526478,
         0.08465791752607675
        ],
        [
         0.21367742312962518,
         0.21340586820288615,
         0.21370575078489149,
         0.21398683149805842,
         0.21389363514369025,
         0.2127864838340411,
         0.21476555314353285,
         0.21480267818140633,
         0.21494535110233462,
         0.21405081076584026,
         0.21611618833141585,
         0.21241152160527074,
         0.21558105490882606,
         0.21574328461771503,
         0.2134159806860136,
         0.21407121772348298,
         0.21552963903648595,
         0.21362786884328314,
         0.2143893193490073,
         0.21462277803277852,
         0.21276843677475757,
         0.21317990162574194,
         0.21502540390208072,
         0.21400990620182425,
         0.2140242720534112,
         0.21477798345115254,
         0.21443907750368701,
         0.21369297994191155,
         0.21468387341455503,
         0.2154493313100116,
         0.21611467484092595,
         0.21573597044848344,
         0.2141266454412949,
         0.21507745124764888,
         0.21534919813640563,
         0.21501897551192373,
         0.21390604225955173,
         0.2151559663790406,
         0.21535516367750426,
         0.21447499321006677,
         0.21505688939827913,
         0.21448888565760618,
         0.21406333380397044,
         0.21436448331337934,
         0.21473366502380253,
         0.2133486755374892,
         0.21368946578791914,
         0.21509159409313225,
         0.21396082601345637,
         0.21375800177966262,
         0.21375110856823476,
         0.21809799587536677,
         0.2157844529834156,
         0.2142167780365722,
         0.2131282466408961,
         0.21366503902290965,
         0.2134179326650851,
         0.21502742195027133,
         0.2148723864708753,
         0.21313791910149887,
         0.2129614967304994,
         0.21383225127105035,
         0.2161278361454606,
         0.2138167747716401,
         0.21632685010120564,
         0.21377016839516513,
         0.21462379540225454,
         0.21293890788493788,
         0.2144292978862045,
         0.21317520984174573,
         0.21388852452019266,
         0.21448983706753044,
         0.21446039492958316,
         0.2152116256492103,
         0.21355689651168444,
         0.2143184757590586,
         0.21505929871151844,
         0.21397107450620217,
         0.21423012600736877,
         0.2145083678301935,
         0.21402522660426648,
         0.2161880223007471,
         0.215304493118881,
         0.21377787934433595,
         0.2131224722583212,
         0.21680883893414454,
         0.21422160192228415,
         0.21462902801074818,
         0.21521802712231874,
         0.2148504800108426,
         0.21370781386526777,
         0.21411715124678962,
         0.21380453149550685,
         0.21313148161725087,
         0.21437075874749936,
         0.21571227190468242,
         0.21395792481580786,
         0.2144110413706478,
         0.21581199719552316,
         0.21305315019380228
        ],
        [
         21.79509715922177,
         21.76739855669439,
         21.797986580058932,
         21.826656812801957,
         21.817150784656405,
         21.704221351072192,
         21.90608642064035,
         21.909873174503446,
         21.92442581243813,
         21.833182698115706,
         22.043851209804416,
         21.665975203737617,
         21.98926760070026,
         22.005815031006932,
         21.768430029973388,
         21.835264207795262,
         21.984023181721568,
         21.79004262201488,
         21.867710573598742,
         21.89152335934341,
         21.70238055102527,
         21.744349965825677,
         21.932591198012233,
         21.829010432586074,
         21.830475749447942,
         21.90735431201756,
         21.872785905376077,
         21.79668395407498,
         21.89775508828461,
         21.975831793621182,
         22.043696833774447,
         22.00506898574531,
         21.84091783501208,
         21.937900027260184,
         21.965618209913373,
         21.93193550221622,
         21.818416310474277,
         21.94590857066214,
         21.966226695105433,
         21.87644930742681,
         21.935802718624473,
         21.87786633707583,
         21.834460048004985,
         21.865177297964692,
         21.90283383242786,
         21.7615649048239,
         21.79632551036775,
         21.93934259749949,
         21.82400425337255,
         21.803316181525588,
         21.802613073959947,
         22.24599557928741,
         22.01001420430839,
         21.850111359730363,
         21.739081157371402,
         21.793833980336785,
         21.76862913183868,
         21.932797038927674,
         21.916983420029283,
         21.740067748352885,
         21.72207266651094,
         21.810889629647136,
         22.04503928683698,
         21.80931102670729,
         22.065338710322976,
         21.804557176306844,
         21.891627131029963,
         21.719768604263663,
         21.871788384392858,
         21.743871403858066,
         21.81662950105965,
         21.877963380888104,
         21.874960282817483,
         21.95158581621945,
         21.782803444191813,
         21.860484527423978,
         21.93604846857488,
         21.82504959963262,
         21.851472852751613,
         21.879853518679738,
         21.830573113635182,
         22.051178274676204,
         21.961058298125863,
         21.805343693122268,
         21.738492170348763,
         22.114501571282744,
         21.850603396072984,
         21.892160857096314,
         21.952238766476512,
         21.914748961105943,
         21.798197014257312,
         21.83994942717254,
         21.8080622125417,
         21.739411124959588,
         21.865817392244935,
         22.002651734277606,
         21.8237083312124,
         21.869926219806075,
         22.012823713943362,
         21.731421319767833
        ],
        [
         2.954101191459117,
         2.958994028647814,
         2.9469189892907703,
         2.9388721685745773,
         2.9570582019016887,
         2.9482008986140307,
         2.954877735639591,
         2.962827270283475,
         2.959795353583793,
         2.9673274404283734,
         2.9752146957564145,
         2.93289653939686,
         2.976957876885986,
         2.9578514580144506,
         2.955513679073292,
         2.961133867202914,
         2.965044214543013,
         2.9360903503730826,
         2.942803324364202,
         2.956535101681975,
         2.9534932928562068,
         2.9452389810725363,
         2.9716467189866553,
         2.957299601780494,
         2.950218437918108,
         2.950698252073545,
         2.954334425513439,
         2.9461606579440933,
         2.946785808885685,
         2.9641606665046205,
         2.965462191742759,
         2.971668977793809,
         2.956060688668012,
         2.9555245122212037,
         2.9603438211605804,
         2.9667730374861994,
         2.9493895350978914,
         2.95458282931165,
         2.9708450251970375,
         2.9547358437111453,
         2.963289180968514,
         2.9478842577293576,
         2.9577531565640043,
         2.964275324641367,
         2.9606924042806773,
         2.9410544977843656,
         2.9572588004745954,
         2.967212885637653,
         2.944048344870625,
         2.950819956055213,
         2.956447886393093,
         2.9815747849146472,
         2.9606173481730425,
         2.9646308830826964,
         2.943941064519406,
         2.950534021675889,
         2.94710178317705,
         2.9631973450170688,
         2.962926759953523,
         2.943067064407856,
         2.936395275718166,
         2.9486462135627285,
         2.9744899413753716,
         2.9469475671654024,
         2.9703704785436464,
         2.9451847983668165,
         2.959950789382149,
         2.9466765250011795,
         2.9581039230249035,
         2.950147830921567,
         2.9595412873529536,
         2.959895572763823,
         2.96334543644545,
         2.957310465424371,
         2.949488007845677,
         2.958846965253187,
         2.9651469890967745,
         2.944688472775163,
         2.9615938967163933,
         2.9580039221162715,
         2.945927703147459,
         2.9694612820747763,
         2.9704048845825777,
         2.948552584252158,
         2.9471467342606203,
         2.9743458008590173,
         2.9620466670586074,
         2.9565192302866827,
         2.9542812342627807,
         2.9679365180131465,
         2.944072322694594,
         2.954017508035497,
         2.9609596964283145,
         2.9501991874342184,
         2.961854161116978,
         2.959597503878566,
         2.9534241488542974,
         2.9610823211774573,
         2.952446773772053,
         2.938555357256321
        ]
       ],
       "encoder": "json",
       "name": "ABC_GAN_1 Metrics",
       "version": 1
      }
     },
     "metadata": {
      "scrapbook": {
       "data": true,
       "display": false,
       "name": "ABC_GAN_1 Metrics"
      }
     },
     "output_type": "display_data"
    },
    {
     "name": "stdout",
     "output_type": "stream",
     "text": [
      "MSE\n",
      "0.0856845781288789\n"
     ]
    }
   ],
   "source": [
    "ABC_GAN1_metrics=ABC_train_test2.test_generator(gen,test_data,prior_model,variance,bias,\"1\",device)\n",
    "sb.glue(\"ABC_GAN_1 Metrics\",ABC_GAN1_metrics)\n",
    "\n",
    "print(\"MSE\")\n",
    "print(mean(ABC_GAN1_metrics[0]))"
   ]
  },
  {
   "cell_type": "code",
   "execution_count": 14,
   "id": "eb22ce5c",
   "metadata": {
    "execution": {
     "iopub.execute_input": "2022-06-12T05:36:57.868077Z",
     "iopub.status.busy": "2022-06-12T05:36:57.867698Z",
     "iopub.status.idle": "2022-06-12T05:36:58.193261Z",
     "shell.execute_reply": "2022-06-12T05:36:58.193711Z"
    },
    "papermill": {
     "duration": 0.340408,
     "end_time": "2022-06-12T05:36:58.193855",
     "exception": false,
     "start_time": "2022-06-12T05:36:57.853447",
     "status": "completed"
    },
    "tags": []
   },
   "outputs": [
    {
     "data": {
      "image/png": "[encoded data removed]",
      "text/plain": [
       "<Figure size 432x288 with 1 Axes>"
      ]
     },
     "metadata": {
      "needs_background": "light"
     },
     "output_type": "display_data"
    },
    {
     "data": {
      "image/png": "[encoded data removed]",
      "text/plain": [
       "<Figure size 432x288 with 1 Axes>"
      ]
     },
     "metadata": {
      "needs_background": "light"
     },
     "output_type": "display_data"
    },
    {
     "data": {
      "image/png": "[encoded data removed]",
      "text/plain": [
       "<Figure size 432x288 with 1 Axes>"
      ]
     },
     "metadata": {
      "needs_background": "light"
     },
     "output_type": "display_data"
    },
    {
     "data": {
      "image/png": "[encoded data removed]",
      "text/plain": [
       "<Figure size 432x288 with 1 Axes>"
      ]
     },
     "metadata": {
      "needs_background": "light"
     },
     "output_type": "display_data"
    }
   ],
   "source": [
    "sanityChecks.discProbVsError(train_data,disc,device)\n",
    "sanityChecks.discProbVsError(test_data,disc,device)"
   ]
  },
  {
   "cell_type": "markdown",
   "id": "130f3a4d",
   "metadata": {
    "id": "130f3a4d",
    "papermill": {
     "duration": 0.014981,
     "end_time": "2022-06-12T05:36:58.224054",
     "exception": false,
     "start_time": "2022-06-12T05:36:58.209073",
     "status": "completed"
    },
    "tags": []
   },
   "source": [
    "# ABC - GAN Model with skip connection"
   ]
  },
  {
   "cell_type": "code",
   "execution_count": 15,
   "id": "4e43dad1",
   "metadata": {
    "execution": {
     "iopub.execute_input": "2022-06-12T05:36:58.258046Z",
     "iopub.status.busy": "2022-06-12T05:36:58.257617Z",
     "iopub.status.idle": "2022-06-12T05:36:58.259785Z",
     "shell.execute_reply": "2022-06-12T05:36:58.260186Z"
    },
    "id": "4e43dad1",
    "papermill": {
     "duration": 0.021131,
     "end_time": "2022-06-12T05:36:58.260348",
     "exception": false,
     "start_time": "2022-06-12T05:36:58.239217",
     "status": "completed"
    },
    "tags": []
   },
   "outputs": [],
   "source": [
    "#Generator\n",
    "gen3 = network.GeneratorWithSkipConnection(n_features+1).to(device)\n",
    "constraints=network.weightConstraint()\n",
    "#Discriminator \n",
    "disc3 = network.Discriminator(n_features+1).to(device)\n",
    "\n",
    "criterion = torch.nn.BCELoss()\n",
    "gen_opt = torch.optim.Adam(gen3.parameters(), lr=0.001, betas=(0.5, 0.999))\n",
    "disc_opt = torch.optim.Adam(disc3.parameters(), lr=0.001, betas=(0.5, 0.999))\n"
   ]
  },
  {
   "cell_type": "code",
   "execution_count": 16,
   "id": "26acbc37",
   "metadata": {
    "execution": {
     "iopub.execute_input": "2022-06-12T05:36:58.293337Z",
     "iopub.status.busy": "2022-06-12T05:36:58.292976Z",
     "iopub.status.idle": "2022-06-12T05:39:56.085581Z",
     "shell.execute_reply": "2022-06-12T05:39:56.085890Z"
    },
    "id": "26acbc37",
    "papermill": {
     "duration": 177.810267,
     "end_time": "2022-06-12T05:39:56.086011",
     "exception": false,
     "start_time": "2022-06-12T05:36:58.275744",
     "status": "completed"
    },
    "tags": []
   },
   "outputs": [
    {
     "data": {
      "image/png": "[encoded data removed]",
      "text/plain": [
       "<Figure size 432x288 with 1 Axes>"
      ]
     },
     "metadata": {
      "needs_background": "light"
     },
     "output_type": "display_data"
    },
    {
     "data": {
      "image/png": "[encoded data removed]",
      "text/plain": [
       "<Figure size 432x288 with 1 Axes>"
      ]
     },
     "metadata": {
      "needs_background": "light"
     },
     "output_type": "display_data"
    }
   ],
   "source": [
    "ABC_train_test2.training_GAN_skip_connection(disc3,gen3,disc_opt,gen_opt,train_data,batch_size,n_epochs,criterion,prior_model,variance,bias,device)"
   ]
  },
  {
   "cell_type": "code",
   "execution_count": 17,
   "id": "c5e0717b",
   "metadata": {
    "execution": {
     "iopub.execute_input": "2022-06-12T05:39:56.119443Z",
     "iopub.status.busy": "2022-06-12T05:39:56.119074Z",
     "iopub.status.idle": "2022-06-12T05:39:56.956487Z",
     "shell.execute_reply": "2022-06-12T05:39:56.956794Z"
    },
    "id": "c5e0717b",
    "papermill": {
     "duration": 0.85533,
     "end_time": "2022-06-12T05:39:56.956919",
     "exception": false,
     "start_time": "2022-06-12T05:39:56.101589",
     "status": "completed"
    },
    "tags": []
   },
   "outputs": [
    {
     "data": {
      "application/scrapbook.scrap.json+json": {
       "data": 0.07845757435878538,
       "encoder": "json",
       "name": "ABC-GAN Model 3 MSE",
       "version": 1
      }
     },
     "metadata": {
      "scrapbook": {
       "data": true,
       "display": false,
       "name": "ABC-GAN Model 3 MSE"
      }
     },
     "output_type": "display_data"
    },
    {
     "data": {
      "application/scrapbook.scrap.json+json": {
       "data": 0.2128350302686586,
       "encoder": "json",
       "name": "ABC-GAN Model 3 MAE",
       "version": 1
      }
     },
     "metadata": {
      "scrapbook": {
       "data": true,
       "display": false,
       "name": "ABC-GAN Model 3 MAE"
      }
     },
     "output_type": "display_data"
    },
    {
     "data": {
      "application/scrapbook.scrap.json+json": {
       "data": 21.70917308740318,
       "encoder": "json",
       "name": "ABC-GAN Model 3 Manhattan Distance",
       "version": 1
      }
     },
     "metadata": {
      "scrapbook": {
       "data": true,
       "display": false,
       "name": "ABC-GAN Model 3 Manhattan Distance"
      }
     },
     "output_type": "display_data"
    },
    {
     "data": {
      "application/scrapbook.scrap.json+json": {
       "data": 2.82888675567176,
       "encoder": "json",
       "name": "ABC-GAN Model 3 Euclidean distance",
       "version": 1
      }
     },
     "metadata": {
      "scrapbook": {
       "data": true,
       "display": false,
       "name": "ABC-GAN Model 3 Euclidean distance"
      }
     },
     "output_type": "display_data"
    },
    {
     "data": {
      "application/scrapbook.scrap.json+json": {
       "data": [
        [
         0.0780781751343388,
         0.07768238982994413,
         0.07865539163516044,
         0.07792998124794645,
         0.07978101480319232,
         0.0779636511818608,
         0.07848875526274922,
         0.0781566535323384,
         0.07822649654755065,
         0.078256521304259,
         0.07799521927727236,
         0.07867268038246578,
         0.07920774888111991,
         0.07840047661560756,
         0.07876259217849021,
         0.07905156310548538,
         0.07797650739837732,
         0.0784996681392239,
         0.07826310053750891,
         0.07847483090540608,
         0.07817185340810263,
         0.07784577286665847,
         0.07842598748192581,
         0.07881464972395183,
         0.07806374330555614,
         0.07847113368466099,
         0.0783845594281726,
         0.07860212074034585,
         0.07807031836783918,
         0.07887463255908057,
         0.07834483177325101,
         0.0777791328090387,
         0.07838007567867254,
         0.07835392006754431,
         0.07860107325089852,
         0.07859924634424631,
         0.07881440232225922,
         0.07869803637224938,
         0.07839541883166758,
         0.07836090918114179,
         0.07963167683589736,
         0.07849487659750116,
         0.07868323275286815,
         0.07881034514860642,
         0.07880373150181452,
         0.07816587180751693,
         0.07905722819416643,
         0.07913392204206356,
         0.07895324701551629,
         0.07787238560840541,
         0.07857623750340732,
         0.07904005653160232,
         0.07826157452671272,
         0.07828914684781739,
         0.07847879281941098,
         0.07832421762042507,
         0.0784195850057045,
         0.07825296199348188,
         0.07804458784349688,
         0.0794332250001742,
         0.0786304672922661,
         0.07846473149128035,
         0.07884138983467973,
         0.07928368434037393,
         0.07846167988992497,
         0.07833602849483741,
         0.07885104177223187,
         0.07902088501002724,
         0.07829780101674193,
         0.07907050078946741,
         0.07890841332795684,
         0.07834024649052783,
         0.07804907145623555,
         0.0777146273521037,
         0.07875362509910942,
         0.0777726482324629,
         0.07834112626152141,
         0.07841508886370614,
         0.07812962399782931,
         0.07798039092501588,
         0.0783591154525762,
         0.07776153257237657,
         0.07973109339237451,
         0.07748679316179413,
         0.07838860677000711,
         0.07796105553087448,
         0.0774047184228647,
         0.07850214027023689,
         0.07813446425117887,
         0.0784999810831284,
         0.07780203740959002,
         0.07879690691793924,
         0.07883000868072954,
         0.07850926134462771,
         0.07818406993116651,
         0.07956624903937598,
         0.07865212802481478,
         0.07779233820195652,
         0.07852990945798034,
         0.07789981473049495
        ],
        [
         0.212034146191881,
         0.21150134173313193,
         0.2125976426599949,
         0.21232830446359574,
         0.21427540150562338,
         0.21211792132360677,
         0.21271117606802897,
         0.2117367987064462,
         0.21245953869805032,
         0.21211524152507386,
         0.21108958934086794,
         0.21271131514553346,
         0.21397070782076494,
         0.21328003023404116,
         0.2140785352527803,
         0.21315244210920498,
         0.21163155801375122,
         0.21394582112849342,
         0.21162523195951008,
         0.2132794303892582,
         0.2121829486032035,
         0.21172254830233606,
         0.2131537165967565,
         0.21332391240067927,
         0.21231045345684477,
         0.21410092614664167,
         0.2131940227768877,
         0.214305311642295,
         0.21218002330073538,
         0.21411071620954603,
         0.21175084823705986,
         0.21133209463647185,
         0.2122455349411158,
         0.21310814672752337,
         0.21404688518640458,
         0.21222511209620565,
         0.21264787418219974,
         0.21239593236104531,
         0.21233879334713315,
         0.2131491206111569,
         0.21488899976818585,
         0.2129897497703924,
         0.21318133721383764,
         0.21306656430676288,
         0.21355036213336623,
         0.21292833120142127,
         0.21417032494483626,
         0.21500953847505883,
         0.21459866700438307,
         0.2116335567415637,
         0.21280684561340832,
         0.2141678317760428,
         0.2112408069090224,
         0.21272001654713177,
         0.21322470543650435,
         0.21246302023749142,
         0.21317285465478314,
         0.21380462736694836,
         0.2120470707578694,
         0.21418922253902636,
         0.2138756524369705,
         0.21255381571530713,
         0.21327712596850654,
         0.21347263796875873,
         0.21217151415333443,
         0.21256572875541216,
         0.21440959727282033,
         0.21274644448695815,
         0.21150688701035344,
         0.21318086125321833,
         0.21360179305295734,
         0.21117020462292665,
         0.21320145611888638,
         0.2123383665457368,
         0.2136691188366682,
         0.21225960981831246,
         0.21237550695956336,
         0.21411984594648376,
         0.212560166531772,
         0.2131726048411984,
         0.21308163471300812,
         0.21236526394518568,
         0.21448008349055753,
         0.2116714720888173,
         0.21351708374990552,
         0.21174718401230433,
         0.21135150091539995,
         0.21141038855136024,
         0.21293713756855212,
         0.21340079830192468,
         0.2128621067157855,
         0.21348218289295248,
         0.21213700832324286,
         0.21206737957967847,
         0.212418490966015,
         0.21300891996817847,
         0.21296281606762432,
         0.21198342877494938,
         0.2123931303583816,
         0.2116745481559751
        ],
        [
         21.62748291157186,
         21.573136856779456,
         21.68495955131948,
         21.657487055286765,
         21.856090953573585,
         21.63602797500789,
         21.696539958938956,
         21.597153468057513,
         21.670872947201133,
         21.635754635557532,
         21.53113811276853,
         21.696554144844413,
         21.825012197718024,
         21.7545630838722,
         21.83601059578359,
         21.741549095138907,
         21.586418917402625,
         21.82247375510633,
         21.58577365987003,
         21.754501899704337,
         21.642660757526755,
         21.59569992683828,
         21.741679092869163,
         21.759039064869285,
         21.655666252598166,
         21.83829446695745,
         21.745790323242545,
         21.85914178751409,
         21.64236237667501,
         21.839293053373694,
         21.598586520180106,
         21.555873652920127,
         21.64904456399381,
         21.737030966207385,
         21.832782289013267,
         21.646961433812976,
         21.690083166584373,
         21.66438510082662,
         21.65855692140758,
         21.741210302338004,
         21.918677976354957,
         21.724954476580024,
         21.74449639581144,
         21.732789559289813,
         21.782136937603354,
         21.71868978254497,
         21.845373144373298,
         21.930972924456,
         21.889064034447074,
         21.5866227876395,
         21.70629825256765,
         21.845118841156363,
         21.546562304720283,
         21.69744168780744,
         21.748919954523444,
         21.671228064224124,
         21.74363117478788,
         21.808071991428733,
         21.62880121730268,
         21.84730069898069,
         21.81531654857099,
         21.680489202961326,
         21.754266848787665,
         21.77420907281339,
         21.641494443640113,
         21.68170433305204,
         21.869778921827674,
         21.70013733766973,
         21.573702475056052,
         21.74444784782827,
         21.78738289140165,
         21.53936087153852,
         21.74654852412641,
         21.658513387665153,
         21.794250121340156,
         21.65048020146787,
         21.662301709875464,
         21.840224286541343,
         21.681136986240745,
         21.743605693802238,
         21.73432674072683,
         21.66125692240894,
         21.876968516036868,
         21.590490153059363,
         21.778742542490363,
         21.598212769255042,
         21.557853093370795,
         21.563859632238746,
         21.719588031992316,
         21.766881426796317,
         21.711934885010123,
         21.775182655081153,
         21.63797484897077,
         21.630872717127204,
         21.66668607853353,
         21.726909836754203,
         21.72220723889768,
         21.622309735044837,
         21.664099296554923,
         21.59080391190946
        ],
        [
         2.8220513573821715,
         2.8148896537261097,
         2.832463582605496,
         2.8193719313511183,
         2.852659024476219,
         2.8199809255648876,
         2.829461616067696,
         2.8234692596694786,
         2.8247305442909356,
         2.8252725838464534,
         2.820551784009962,
         2.83277485851091,
         2.842391666515055,
         2.827869978409893,
         2.8343931276740704,
         2.8395878991078103,
         2.820213423596605,
         2.82965830979658,
         2.8253913454291437,
         2.8292106235399688,
         2.823743799927052,
         2.817848262841554,
         2.828330023734223,
         2.835329658407129,
         2.821790533892749,
         2.8291439758053003,
         2.827582900937407,
         2.831504249602193,
         2.8219093666380557,
         2.8364083840353835,
         2.8268662580446926,
         2.816641891778567,
         2.8275020281557,
         2.827030216833474,
         2.8314853825495283,
         2.8314524765768403,
         2.8353252083086415,
         2.833231319530659,
         2.82777876094119,
         2.827156298558051,
         2.8499879012482716,
         2.8295719487132884,
         2.8329648322548144,
         2.835252229548167,
         2.8351332619799514,
         2.823635763402696,
         2.839689644275404,
         2.8410667095811886,
         2.83782155809393,
         2.8183298834695254,
         2.8310380119926943,
         2.839381229462404,
         2.825363799889263,
         2.8258614577642285,
         2.8292820410096833,
         2.826494329957758,
         2.8282145729385277,
         2.825208332731438,
         2.8214443039047716,
         2.846434427493064,
         2.832014771114576,
         2.8290285633253323,
         2.835810600716721,
         2.843753822453368,
         2.8289735503840165,
         2.8267074320617995,
         2.8359841785115183,
         2.8390368562283195,
         2.826017640374468,
         2.8399280062222836,
         2.8370157136419945,
         2.826783532928165,
         2.82152534784574,
         2.8154736706129175,
         2.834231776003713,
         2.816524475255135,
         2.826799405454017,
         2.828133494744904,
         2.822980986081661,
         2.820283651399557,
         2.8271239407147983,
         2.816323192103919,
         2.851766386999854,
         2.811343611603356,
         2.8276559003069526,
         2.8199339822324205,
         2.809854316353821,
         2.829702865596344,
         2.8230684287881234,
         2.8296639500970953,
         2.8170565872516975,
         2.8350104948006454,
         2.83560591151775,
         2.8298312064771682,
         2.823964435501797,
         2.8488168424832696,
         2.8324048189711704,
         2.816880987297753,
         2.8302033080176403,
         2.8188261923202154
        ]
       ],
       "encoder": "json",
       "name": "ABC_GAN_3 Metrics",
       "version": 1
      }
     },
     "metadata": {
      "scrapbook": {
       "data": true,
       "display": false,
       "name": "ABC_GAN_3 Metrics"
      }
     },
     "output_type": "display_data"
    },
    {
     "name": "stdout",
     "output_type": "stream",
     "text": [
      "MSE\n",
      "0.07845757435878538\n"
     ]
    }
   ],
   "source": [
    "ABC_GAN3_metrics=ABC_train_test2.test_generator(gen3,test_data,prior_model,variance,bias,\"3\",device)\n",
    "sb.glue(\"ABC_GAN_3 Metrics\",ABC_GAN3_metrics)\n",
    "\n",
    "print(\"MSE\")\n",
    "print(mean(ABC_GAN3_metrics[0]))"
   ]
  },
  {
   "cell_type": "code",
   "execution_count": 18,
   "id": "c8e46b48",
   "metadata": {
    "execution": {
     "iopub.execute_input": "2022-06-12T05:39:56.993350Z",
     "iopub.status.busy": "2022-06-12T05:39:56.992981Z",
     "iopub.status.idle": "2022-06-12T05:39:57.317547Z",
     "shell.execute_reply": "2022-06-12T05:39:57.317856Z"
    },
    "id": "c8e46b48",
    "papermill": {
     "duration": 0.343885,
     "end_time": "2022-06-12T05:39:57.317983",
     "exception": false,
     "start_time": "2022-06-12T05:39:56.974098",
     "status": "completed"
    },
    "tags": []
   },
   "outputs": [
    {
     "data": {
      "image/png": "[encoded data removed]",
      "text/plain": [
       "<Figure size 432x288 with 1 Axes>"
      ]
     },
     "metadata": {
      "needs_background": "light"
     },
     "output_type": "display_data"
    },
    {
     "data": {
      "image/png": "[encoded data removed]",
      "text/plain": [
       "<Figure size 432x288 with 1 Axes>"
      ]
     },
     "metadata": {
      "needs_background": "light"
     },
     "output_type": "display_data"
    },
    {
     "data": {
      "image/png": "[encoded data removed]",
      "text/plain": [
       "<Figure size 432x288 with 1 Axes>"
      ]
     },
     "metadata": {
      "needs_background": "light"
     },
     "output_type": "display_data"
    },
    {
     "data": {
      "image/png": "[encoded data removed]",
      "text/plain": [
       "<Figure size 432x288 with 1 Axes>"
      ]
     },
     "metadata": {
      "needs_background": "light"
     },
     "output_type": "display_data"
    }
   ],
   "source": [
    "sanityChecks.discProbVsError(train_data,disc3,device)\n",
    "sanityChecks.discProbVsError(test_data,disc3,device)"
   ]
  },
  {
   "cell_type": "markdown",
   "id": "a5bd74c3",
   "metadata": {
    "id": "a5bd74c3",
    "papermill": {
     "duration": 0.019173,
     "end_time": "2022-06-12T05:39:57.356685",
     "exception": false,
     "start_time": "2022-06-12T05:39:57.337512",
     "status": "completed"
    },
    "tags": []
   },
   "source": [
    "## Skip Connection Model Analysis - ABC-GAN "
   ]
  },
  {
   "cell_type": "markdown",
   "id": "5744a8bf",
   "metadata": {
    "id": "5744a8bf",
    "papermill": {
     "duration": 0.019099,
     "end_time": "2022-06-12T05:39:57.394742",
     "exception": false,
     "start_time": "2022-06-12T05:39:57.375643",
     "status": "completed"
    },
    "tags": []
   },
   "source": [
    "### Weight Analysis \n",
    "\n",
    "Study the weights of the skip connection layer\n",
    "\n",
    "Equation of the skip connection is \n",
    "\n",
    "$output = y_{gan} * w + y_{abc} * (1-w)$"
   ]
  },
  {
   "cell_type": "code",
   "execution_count": 19,
   "id": "52c31dea",
   "metadata": {
    "execution": {
     "iopub.execute_input": "2022-06-12T05:39:57.435507Z",
     "iopub.status.busy": "2022-06-12T05:39:57.435118Z",
     "iopub.status.idle": "2022-06-12T05:39:57.438388Z",
     "shell.execute_reply": "2022-06-12T05:39:57.438626Z"
    },
    "id": "52c31dea",
    "papermill": {
     "duration": 0.025,
     "end_time": "2022-06-12T05:39:57.438737",
     "exception": false,
     "start_time": "2022-06-12T05:39:57.413737",
     "status": "completed"
    },
    "tags": []
   },
   "outputs": [
    {
     "name": "stdout",
     "output_type": "stream",
     "text": [
      "Weight of the node at skip connection\n",
      "Parameter containing:\n",
      "tensor([[0.2737]], requires_grad=True)\n"
     ]
    },
    {
     "data": {
      "application/scrapbook.scrap.json+json": {
       "data": 0.27367570996284485,
       "encoder": "json",
       "name": "Skip Connection Weight",
       "version": 1
      }
     },
     "metadata": {
      "scrapbook": {
       "data": true,
       "display": false,
       "name": "Skip Connection Weight"
      }
     },
     "output_type": "display_data"
    }
   ],
   "source": [
    "print(\"Weight of the node at skip connection\")\n",
    "for name,param in gen3.named_parameters():\n",
    "    if(name == \"skipNode.weight\"):\n",
    "        print(param)\n",
    "        sb.glue(\"Skip Connection Weight\",param.item())"
   ]
  }
 ],
 "metadata": {
  "colab": {
   "collapsed_sections": [],
   "name": "ABC_GAN_Model-Catboost_Pre-gen.ipynb",
   "provenance": []
  },
  "interpreter": {
   "hash": "31f2aee4e71d21fbe5cf8b01ff0e069b9275f58929596ceb00d14d90e3e16cd6"
  },
  "kernelspec": {
   "display_name": "Python 3 (ipykernel)",
   "language": "python",
   "name": "python3"
  },
  "language_info": {
   "codemirror_mode": {
    "name": "ipython",
    "version": 3
   },
   "file_extension": ".py",
   "mimetype": "text/x-python",
   "name": "python",
   "nbconvert_exporter": "python",
   "pygments_lexer": "ipython3",
   "version": "3.8.11"
  },
  "papermill": {
   "default_parameters": {},
   "duration": 246.766016,
   "end_time": "2022-06-12T05:39:57.766149",
   "environment_variables": {},
   "exception": null,
   "input_path": "ABC_GAN-Catboost.ipynb",
   "output_path": "./ABC_GAN_Catboost/ABC-GAN_output_6_2.ipynb",
   "parameters": {
    "bias": 1,
    "variance": 0.01
   },
   "start_time": "2022-06-12T05:35:51.000133",
   "version": "2.3.3"
  }
 },
 "nbformat": 4,
 "nbformat_minor": 5
}