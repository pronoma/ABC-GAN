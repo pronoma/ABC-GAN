{
 "cells": [
  {
   "cell_type": "markdown",
   "id": "622780e6",
   "metadata": {
    "id": "622780e6",
    "papermill": {
     "duration": 0.02442,
     "end_time": "2022-06-12T05:43:59.689316",
     "exception": false,
     "start_time": "2022-06-12T05:43:59.664896",
     "status": "completed"
    },
    "tags": []
   },
   "source": [
    "## Import Libraries "
   ]
  },
  {
   "cell_type": "code",
   "execution_count": 1,
   "id": "a62397e3",
   "metadata": {
    "execution": {
     "iopub.execute_input": "2022-06-12T05:43:59.723626Z",
     "iopub.status.busy": "2022-06-12T05:43:59.723075Z",
     "iopub.status.idle": "2022-06-12T05:43:59.725623Z",
     "shell.execute_reply": "2022-06-12T05:43:59.725954Z"
    },
    "id": "a62397e3",
    "papermill": {
     "duration": 0.021856,
     "end_time": "2022-06-12T05:43:59.726162",
     "exception": false,
     "start_time": "2022-06-12T05:43:59.704306",
     "status": "completed"
    },
    "tags": []
   },
   "outputs": [],
   "source": [
    "import warnings\n",
    "import sys\n",
    "sys.path.insert(0, '../../src')\n",
    "warnings.filterwarnings('ignore')"
   ]
  },
  {
   "cell_type": "code",
   "execution_count": 2,
   "id": "d6a4e155",
   "metadata": {
    "execution": {
     "iopub.execute_input": "2022-06-12T05:43:59.747099Z",
     "iopub.status.busy": "2022-06-12T05:43:59.746689Z",
     "iopub.status.idle": "2022-06-12T05:44:01.533453Z",
     "shell.execute_reply": "2022-06-12T05:44:01.533709Z"
    },
    "id": "d6a4e155",
    "papermill": {
     "duration": 1.797984,
     "end_time": "2022-06-12T05:44:01.533833",
     "exception": false,
     "start_time": "2022-06-12T05:43:59.735849",
     "status": "completed"
    },
    "tags": []
   },
   "outputs": [],
   "source": [
    "import ABC_train_test2\n",
    "import bostonDataset\n",
    "import network\n",
    "import dataset\n",
    "import sanityChecks\n",
    "import torch \n",
    "import scrapbook as sb\n",
    "from statistics import mean \n",
    "import catboost as ctb \n",
    "from sklearn.model_selection import train_test_split\n",
    "from sklearn.metrics import mean_squared_error,mean_absolute_error\n",
    "import numpy as np"
   ]
  },
  {
   "cell_type": "markdown",
   "id": "2fa5b0f7",
   "metadata": {
    "id": "2fa5b0f7",
    "papermill": {
     "duration": 0.006759,
     "end_time": "2022-06-12T05:44:01.547692",
     "exception": false,
     "start_time": "2022-06-12T05:44:01.540933",
     "status": "completed"
    },
    "tags": []
   },
   "source": [
    "## Parameters "
   ]
  },
  {
   "cell_type": "code",
   "execution_count": 3,
   "id": "783186fb",
   "metadata": {
    "execution": {
     "iopub.execute_input": "2022-06-12T05:44:01.563434Z",
     "iopub.status.busy": "2022-06-12T05:44:01.563065Z",
     "iopub.status.idle": "2022-06-12T05:44:01.564485Z",
     "shell.execute_reply": "2022-06-12T05:44:01.564738Z"
    },
    "id": "783186fb",
    "papermill": {
     "duration": 0.01045,
     "end_time": "2022-06-12T05:44:01.564851",
     "exception": false,
     "start_time": "2022-06-12T05:44:01.554401",
     "status": "completed"
    },
    "tags": [
     "parameters"
    ]
   },
   "outputs": [],
   "source": [
    "variance = 1\n",
    "bias = 1 "
   ]
  },
  {
   "cell_type": "code",
   "execution_count": 4,
   "id": "92f15218",
   "metadata": {
    "execution": {
     "iopub.execute_input": "2022-06-12T05:44:01.580429Z",
     "iopub.status.busy": "2022-06-12T05:44:01.580059Z",
     "iopub.status.idle": "2022-06-12T05:44:01.581373Z",
     "shell.execute_reply": "2022-06-12T05:44:01.581611Z"
    },
    "papermill": {
     "duration": 0.009903,
     "end_time": "2022-06-12T05:44:01.581715",
     "exception": false,
     "start_time": "2022-06-12T05:44:01.571812",
     "status": "completed"
    },
    "tags": [
     "injected-parameters"
    ]
   },
   "outputs": [],
   "source": [
    "# Parameters\n",
    "variance = 0.1\n",
    "bias = 0.1\n"
   ]
  },
  {
   "cell_type": "markdown",
   "id": "391cdbfd",
   "metadata": {
    "id": "391cdbfd",
    "papermill": {
     "duration": 0.006681,
     "end_time": "2022-06-12T05:44:01.595188",
     "exception": false,
     "start_time": "2022-06-12T05:44:01.588507",
     "status": "completed"
    },
    "tags": []
   },
   "source": [
    "## Dataset \n"
   ]
  },
  {
   "cell_type": "code",
   "execution_count": 5,
   "id": "5b51f161",
   "metadata": {
    "execution": {
     "iopub.execute_input": "2022-06-12T05:44:01.610645Z",
     "iopub.status.busy": "2022-06-12T05:44:01.610283Z",
     "iopub.status.idle": "2022-06-12T05:44:01.611424Z",
     "shell.execute_reply": "2022-06-12T05:44:01.611669Z"
    },
    "id": "5b51f161",
    "papermill": {
     "duration": 0.009773,
     "end_time": "2022-06-12T05:44:01.611775",
     "exception": false,
     "start_time": "2022-06-12T05:44:01.602002",
     "status": "completed"
    },
    "tags": []
   },
   "outputs": [],
   "source": [
    "#Parameters \n",
    "n_features = 13\n",
    "n_samples= 506\n",
    "n_target = 1 "
   ]
  },
  {
   "cell_type": "code",
   "execution_count": 6,
   "id": "5d6eced4",
   "metadata": {
    "execution": {
     "iopub.execute_input": "2022-06-12T05:44:01.627432Z",
     "iopub.status.busy": "2022-06-12T05:44:01.627072Z",
     "iopub.status.idle": "2022-06-12T05:44:01.638303Z",
     "shell.execute_reply": "2022-06-12T05:44:01.638550Z"
    },
    "id": "5d6eced4",
    "papermill": {
     "duration": 0.019994,
     "end_time": "2022-06-12T05:44:01.638660",
     "exception": false,
     "start_time": "2022-06-12T05:44:01.618666",
     "status": "completed"
    },
    "tags": []
   },
   "outputs": [
    {
     "name": "stdout",
     "output_type": "stream",
     "text": [
      "         X1        X2        X3        X4        X5        X6        X7  \\\n",
      "0 -0.419782  0.284830 -1.287909 -0.272599 -0.144217  0.413672 -0.120013   \n",
      "1 -0.417339 -0.487722 -0.593381 -0.272599 -0.740262  0.194274  0.367166   \n",
      "2 -0.417342 -0.487722 -0.593381 -0.272599 -0.740262  1.282714 -0.265812   \n",
      "3 -0.416750 -0.487722 -1.306878 -0.272599 -0.835284  1.016303 -0.809889   \n",
      "4 -0.412482 -0.487722 -1.306878 -0.272599 -0.835284  1.228577 -0.511180   \n",
      "\n",
      "         X8        X9       X10       X11       X12       X13         Y  \n",
      "0  0.140214 -0.982843 -0.666608 -1.459000  0.441052 -1.075562  0.159686  \n",
      "1  0.557160 -0.867883 -0.987329 -0.303094  0.441052 -0.492439 -0.101524  \n",
      "2  0.557160 -0.867883 -0.987329 -0.303094  0.396427 -1.208727  1.324247  \n",
      "3  1.077737 -0.752922 -1.106115  0.113032  0.416163 -1.361517  1.182758  \n",
      "4  1.077737 -0.752922 -1.106115  0.113032  0.441052 -1.026501  1.487503  \n"
     ]
    }
   ],
   "source": [
    "X,Y = bostonDataset.boston_data()"
   ]
  },
  {
   "cell_type": "code",
   "execution_count": 7,
   "id": "fe007438",
   "metadata": {
    "execution": {
     "iopub.execute_input": "2022-06-12T05:44:01.655432Z",
     "iopub.status.busy": "2022-06-12T05:44:01.655060Z",
     "iopub.status.idle": "2022-06-12T05:44:01.656782Z",
     "shell.execute_reply": "2022-06-12T05:44:01.657028Z"
    },
    "id": "fe007438",
    "papermill": {
     "duration": 0.011217,
     "end_time": "2022-06-12T05:44:01.657134",
     "exception": false,
     "start_time": "2022-06-12T05:44:01.645917",
     "status": "completed"
    },
    "tags": []
   },
   "outputs": [],
   "source": [
    "#Train test split for dataset \n",
    "X_train,X_test,Y_train,Y_test = train_test_split(X,Y,test_size = 0.2)\n",
    "train_data = dataset.CustomDataset(X_train,Y_train)\n",
    "test_data = dataset.CustomDataset(X_test,Y_test)\n"
   ]
  },
  {
   "cell_type": "markdown",
   "id": "a9a1af34",
   "metadata": {
    "id": "a9a1af34",
    "papermill": {
     "duration": 0.007037,
     "end_time": "2022-06-12T05:44:01.671282",
     "exception": false,
     "start_time": "2022-06-12T05:44:01.664245",
     "status": "completed"
    },
    "tags": []
   },
   "source": [
    "## Training Parameters "
   ]
  },
  {
   "cell_type": "code",
   "execution_count": 8,
   "id": "952b7fc8",
   "metadata": {
    "execution": {
     "iopub.execute_input": "2022-06-12T05:44:01.687475Z",
     "iopub.status.busy": "2022-06-12T05:44:01.687112Z",
     "iopub.status.idle": "2022-06-12T05:44:01.688463Z",
     "shell.execute_reply": "2022-06-12T05:44:01.688714Z"
    },
    "id": "952b7fc8",
    "papermill": {
     "duration": 0.01054,
     "end_time": "2022-06-12T05:44:01.688826",
     "exception": false,
     "start_time": "2022-06-12T05:44:01.678286",
     "status": "completed"
    },
    "tags": []
   },
   "outputs": [],
   "source": [
    "batch_size = 32\n",
    "n_epochs = 1000\n",
    "#Select the device \n",
    "device = torch.device('cuda' if torch.cuda.is_available() else 'cpu')"
   ]
  },
  {
   "cell_type": "markdown",
   "id": "a95e1600",
   "metadata": {
    "id": "a95e1600",
    "papermill": {
     "duration": 0.007016,
     "end_time": "2022-06-12T05:44:01.703037",
     "exception": false,
     "start_time": "2022-06-12T05:44:01.696021",
     "status": "completed"
    },
    "tags": []
   },
   "source": [
    "# ABC Pre-generator Model \n",
    "\n",
    "1. The catboost model is used as a pre-generator model for the ABC-GAN. \n",
    "2. The model is first trained on the entire dataset \n",
    "3. It generats X,Y pairs and we add some Gaussian noise with mean 0 and variance 1 to it which is then feed as input to the generator.\n"
   ]
  },
  {
   "cell_type": "code",
   "execution_count": 9,
   "id": "ff8ce7bd",
   "metadata": {
    "execution": {
     "iopub.execute_input": "2022-06-12T05:44:01.721707Z",
     "iopub.status.busy": "2022-06-12T05:44:01.721330Z",
     "iopub.status.idle": "2022-06-12T05:44:02.687540Z",
     "shell.execute_reply": "2022-06-12T05:44:02.687850Z"
    },
    "id": "ff8ce7bd",
    "papermill": {
     "duration": 0.977845,
     "end_time": "2022-06-12T05:44:02.687974",
     "exception": false,
     "start_time": "2022-06-12T05:44:01.710129",
     "status": "completed"
    },
    "tags": []
   },
   "outputs": [
    {
     "name": "stdout",
     "output_type": "stream",
     "text": [
      "Learning rate set to 0.033215\n",
      "0:\tlearn: 0.9811731\ttotal: 69.6ms\tremaining: 1m 9s\n",
      "1:\tlearn: 0.9619383\ttotal: 71.4ms\tremaining: 35.6s\n",
      "2:\tlearn: 0.9422030\ttotal: 72.6ms\tremaining: 24.1s\n",
      "3:\tlearn: 0.9253760\ttotal: 73.8ms\tremaining: 18.4s\n",
      "4:\tlearn: 0.9080573\ttotal: 74.9ms\tremaining: 14.9s\n",
      "5:\tlearn: 0.8916599\ttotal: 75.8ms\tremaining: 12.6s\n",
      "6:\tlearn: 0.8766037\ttotal: 76.9ms\tremaining: 10.9s\n",
      "7:\tlearn: 0.8605603\ttotal: 78ms\tremaining: 9.68s\n",
      "8:\tlearn: 0.8450524\ttotal: 79.9ms\tremaining: 8.8s\n",
      "9:\tlearn: 0.8290906\ttotal: 80.8ms\tremaining: 8s\n",
      "10:\tlearn: 0.8154066\ttotal: 81.8ms\tremaining: 7.35s\n",
      "11:\tlearn: 0.8011635\ttotal: 82.7ms\tremaining: 6.81s\n",
      "12:\tlearn: 0.7862982\ttotal: 83.6ms\tremaining: 6.35s\n",
      "13:\tlearn: 0.7716962\ttotal: 84.6ms\tremaining: 5.96s\n",
      "14:\tlearn: 0.7595283\ttotal: 85.6ms\tremaining: 5.62s\n",
      "15:\tlearn: 0.7459665\ttotal: 86.5ms\tremaining: 5.32s\n",
      "16:\tlearn: 0.7341450\ttotal: 87.5ms\tremaining: 5.06s\n",
      "17:\tlearn: 0.7213989\ttotal: 89.3ms\tremaining: 4.87s\n",
      "18:\tlearn: 0.7094101\ttotal: 90.3ms\tremaining: 4.66s\n",
      "19:\tlearn: 0.6969951\ttotal: 91.2ms\tremaining: 4.47s\n",
      "20:\tlearn: 0.6866835\ttotal: 92ms\tremaining: 4.29s\n",
      "21:\tlearn: 0.6757114\ttotal: 92.8ms\tremaining: 4.13s\n",
      "22:\tlearn: 0.6655071\ttotal: 93.7ms\tremaining: 3.98s\n",
      "23:\tlearn: 0.6553603\ttotal: 94.6ms\tremaining: 3.85s\n",
      "24:\tlearn: 0.6464803\ttotal: 95.5ms\tremaining: 3.72s\n",
      "25:\tlearn: 0.6372921\ttotal: 96.3ms\tremaining: 3.6s\n",
      "26:\tlearn: 0.6286199\ttotal: 97.1ms\tremaining: 3.5s\n",
      "27:\tlearn: 0.6196521\ttotal: 98ms\tremaining: 3.4s\n",
      "28:\tlearn: 0.6106070\ttotal: 98.8ms\tremaining: 3.31s\n",
      "29:\tlearn: 0.6012969\ttotal: 99.6ms\tremaining: 3.22s\n",
      "30:\tlearn: 0.5925453\ttotal: 100ms\tremaining: 3.14s\n",
      "31:\tlearn: 0.5849416\ttotal: 101ms\tremaining: 3.06s\n",
      "32:\tlearn: 0.5778695\ttotal: 102ms\tremaining: 2.99s\n",
      "33:\tlearn: 0.5701925\ttotal: 103ms\tremaining: 2.92s\n",
      "34:\tlearn: 0.5628137\ttotal: 104ms\tremaining: 2.86s\n",
      "35:\tlearn: 0.5553324\ttotal: 104ms\tremaining: 2.79s\n",
      "36:\tlearn: 0.5488997\ttotal: 105ms\tremaining: 2.73s\n",
      "37:\tlearn: 0.5417723\ttotal: 106ms\tremaining: 2.68s\n",
      "38:\tlearn: 0.5342250\ttotal: 107ms\tremaining: 2.63s\n",
      "39:\tlearn: 0.5269127\ttotal: 107ms\tremaining: 2.58s\n",
      "40:\tlearn: 0.5205494\ttotal: 108ms\tremaining: 2.53s\n",
      "41:\tlearn: 0.5137918\ttotal: 109ms\tremaining: 2.48s\n"
     ]
    },
    {
     "name": "stdout",
     "output_type": "stream",
     "text": [
      "42:\tlearn: 0.5069163\ttotal: 110ms\tremaining: 2.45s\n",
      "43:\tlearn: 0.5004918\ttotal: 111ms\tremaining: 2.41s\n",
      "44:\tlearn: 0.4947967\ttotal: 112ms\tremaining: 2.37s\n",
      "45:\tlearn: 0.4874741\ttotal: 113ms\tremaining: 2.33s\n",
      "46:\tlearn: 0.4825413\ttotal: 113ms\tremaining: 2.3s\n",
      "47:\tlearn: 0.4770539\ttotal: 114ms\tremaining: 2.26s\n",
      "48:\tlearn: 0.4712199\ttotal: 115ms\tremaining: 2.23s\n",
      "49:\tlearn: 0.4665631\ttotal: 116ms\tremaining: 2.2s\n",
      "50:\tlearn: 0.4618167\ttotal: 116ms\tremaining: 2.17s\n",
      "51:\tlearn: 0.4572319\ttotal: 117ms\tremaining: 2.13s\n",
      "52:\tlearn: 0.4520688\ttotal: 118ms\tremaining: 2.11s\n",
      "53:\tlearn: 0.4485357\ttotal: 118ms\tremaining: 2.07s\n",
      "54:\tlearn: 0.4443203\ttotal: 119ms\tremaining: 2.05s\n",
      "55:\tlearn: 0.4397836\ttotal: 120ms\tremaining: 2.02s\n",
      "56:\tlearn: 0.4363247\ttotal: 121ms\tremaining: 2s\n",
      "57:\tlearn: 0.4321604\ttotal: 122ms\tremaining: 1.97s\n",
      "58:\tlearn: 0.4284254\ttotal: 122ms\tremaining: 1.95s\n",
      "59:\tlearn: 0.4250269\ttotal: 123ms\tremaining: 1.93s\n",
      "60:\tlearn: 0.4208297\ttotal: 124ms\tremaining: 1.91s\n",
      "61:\tlearn: 0.4162073\ttotal: 125ms\tremaining: 1.88s\n",
      "62:\tlearn: 0.4126975\ttotal: 125ms\tremaining: 1.86s\n",
      "63:\tlearn: 0.4088906\ttotal: 126ms\tremaining: 1.84s\n",
      "64:\tlearn: 0.4051050\ttotal: 127ms\tremaining: 1.82s\n",
      "65:\tlearn: 0.4009710\ttotal: 128ms\tremaining: 1.8s\n",
      "66:\tlearn: 0.3975967\ttotal: 128ms\tremaining: 1.79s\n",
      "67:\tlearn: 0.3941819\ttotal: 129ms\tremaining: 1.77s\n",
      "68:\tlearn: 0.3909161\ttotal: 130ms\tremaining: 1.75s\n",
      "69:\tlearn: 0.3885427\ttotal: 131ms\tremaining: 1.74s\n",
      "70:\tlearn: 0.3851896\ttotal: 132ms\tremaining: 1.72s\n",
      "71:\tlearn: 0.3817308\ttotal: 132ms\tremaining: 1.71s\n",
      "72:\tlearn: 0.3792636\ttotal: 133ms\tremaining: 1.69s\n",
      "73:\tlearn: 0.3757655\ttotal: 134ms\tremaining: 1.68s\n",
      "74:\tlearn: 0.3732227\ttotal: 135ms\tremaining: 1.67s\n",
      "75:\tlearn: 0.3703514\ttotal: 136ms\tremaining: 1.65s\n",
      "76:\tlearn: 0.3678374\ttotal: 137ms\tremaining: 1.64s\n",
      "77:\tlearn: 0.3643653\ttotal: 137ms\tremaining: 1.62s\n",
      "78:\tlearn: 0.3620646\ttotal: 138ms\tremaining: 1.61s\n",
      "79:\tlearn: 0.3594949\ttotal: 139ms\tremaining: 1.6s\n",
      "80:\tlearn: 0.3572433\ttotal: 140ms\tremaining: 1.59s\n",
      "81:\tlearn: 0.3547525\ttotal: 141ms\tremaining: 1.58s\n",
      "82:\tlearn: 0.3531011\ttotal: 142ms\tremaining: 1.56s\n",
      "83:\tlearn: 0.3508207\ttotal: 142ms\tremaining: 1.55s\n",
      "84:\tlearn: 0.3487337\ttotal: 143ms\tremaining: 1.54s\n",
      "85:\tlearn: 0.3466552\ttotal: 144ms\tremaining: 1.53s\n",
      "86:\tlearn: 0.3445650\ttotal: 145ms\tremaining: 1.52s\n",
      "87:\tlearn: 0.3423698\ttotal: 146ms\tremaining: 1.51s\n",
      "88:\tlearn: 0.3405094\ttotal: 146ms\tremaining: 1.5s\n",
      "89:\tlearn: 0.3377254\ttotal: 147ms\tremaining: 1.49s\n",
      "90:\tlearn: 0.3356930\ttotal: 148ms\tremaining: 1.48s\n",
      "91:\tlearn: 0.3339519\ttotal: 149ms\tremaining: 1.47s\n",
      "92:\tlearn: 0.3323390\ttotal: 150ms\tremaining: 1.46s\n",
      "93:\tlearn: 0.3306695\ttotal: 151ms\tremaining: 1.45s\n",
      "94:\tlearn: 0.3288320\ttotal: 151ms\tremaining: 1.44s\n",
      "95:\tlearn: 0.3283492\ttotal: 152ms\tremaining: 1.43s\n",
      "96:\tlearn: 0.3270376\ttotal: 153ms\tremaining: 1.43s\n",
      "97:\tlearn: 0.3253778\ttotal: 154ms\tremaining: 1.42s\n",
      "98:\tlearn: 0.3238005\ttotal: 155ms\tremaining: 1.41s\n",
      "99:\tlearn: 0.3225710\ttotal: 156ms\tremaining: 1.41s\n",
      "100:\tlearn: 0.3205891\ttotal: 157ms\tremaining: 1.4s\n",
      "101:\tlearn: 0.3188737\ttotal: 158ms\tremaining: 1.39s\n",
      "102:\tlearn: 0.3174912\ttotal: 159ms\tremaining: 1.38s\n",
      "103:\tlearn: 0.3158874\ttotal: 160ms\tremaining: 1.38s\n",
      "104:\tlearn: 0.3144705\ttotal: 161ms\tremaining: 1.37s\n",
      "105:\tlearn: 0.3127453\ttotal: 161ms\tremaining: 1.36s\n",
      "106:\tlearn: 0.3110339\ttotal: 162ms\tremaining: 1.35s\n",
      "107:\tlearn: 0.3088142\ttotal: 163ms\tremaining: 1.34s\n",
      "108:\tlearn: 0.3075347\ttotal: 164ms\tremaining: 1.34s\n",
      "109:\tlearn: 0.3064132\ttotal: 164ms\tremaining: 1.33s\n",
      "110:\tlearn: 0.3047265\ttotal: 165ms\tremaining: 1.32s\n",
      "111:\tlearn: 0.3034218\ttotal: 166ms\tremaining: 1.32s\n",
      "112:\tlearn: 0.3020728\ttotal: 167ms\tremaining: 1.31s\n",
      "113:\tlearn: 0.3006416\ttotal: 168ms\tremaining: 1.3s\n",
      "114:\tlearn: 0.2995388\ttotal: 168ms\tremaining: 1.3s\n",
      "115:\tlearn: 0.2987769\ttotal: 169ms\tremaining: 1.29s\n",
      "116:\tlearn: 0.2972853\ttotal: 170ms\tremaining: 1.28s\n",
      "117:\tlearn: 0.2957276\ttotal: 171ms\tremaining: 1.28s\n",
      "118:\tlearn: 0.2947776\ttotal: 172ms\tremaining: 1.27s\n",
      "119:\tlearn: 0.2936485\ttotal: 172ms\tremaining: 1.26s\n",
      "120:\tlearn: 0.2925580\ttotal: 173ms\tremaining: 1.26s\n",
      "121:\tlearn: 0.2916335\ttotal: 174ms\tremaining: 1.25s\n",
      "122:\tlearn: 0.2904015\ttotal: 175ms\tremaining: 1.25s\n",
      "123:\tlearn: 0.2885908\ttotal: 176ms\tremaining: 1.24s\n",
      "124:\tlearn: 0.2875358\ttotal: 176ms\tremaining: 1.23s\n",
      "125:\tlearn: 0.2863113\ttotal: 177ms\tremaining: 1.23s\n",
      "126:\tlearn: 0.2848345\ttotal: 178ms\tremaining: 1.22s\n",
      "127:\tlearn: 0.2842465\ttotal: 179ms\tremaining: 1.22s\n",
      "128:\tlearn: 0.2826235\ttotal: 180ms\tremaining: 1.21s\n",
      "129:\tlearn: 0.2817618\ttotal: 180ms\tremaining: 1.21s\n",
      "130:\tlearn: 0.2808015\ttotal: 181ms\tremaining: 1.2s\n",
      "131:\tlearn: 0.2797572\ttotal: 182ms\tremaining: 1.2s\n",
      "132:\tlearn: 0.2785566\ttotal: 183ms\tremaining: 1.19s\n",
      "133:\tlearn: 0.2777221\ttotal: 184ms\tremaining: 1.19s\n",
      "134:\tlearn: 0.2773401\ttotal: 186ms\tremaining: 1.19s\n",
      "135:\tlearn: 0.2767245\ttotal: 186ms\tremaining: 1.18s\n",
      "136:\tlearn: 0.2759531\ttotal: 187ms\tremaining: 1.18s\n",
      "137:\tlearn: 0.2752042\ttotal: 188ms\tremaining: 1.17s\n",
      "138:\tlearn: 0.2741685\ttotal: 189ms\tremaining: 1.17s\n",
      "139:\tlearn: 0.2734526\ttotal: 190ms\tremaining: 1.16s\n",
      "140:\tlearn: 0.2728726\ttotal: 190ms\tremaining: 1.16s\n",
      "141:\tlearn: 0.2721786\ttotal: 191ms\tremaining: 1.16s\n"
     ]
    },
    {
     "name": "stdout",
     "output_type": "stream",
     "text": [
      "142:\tlearn: 0.2714116\ttotal: 192ms\tremaining: 1.15s\n",
      "143:\tlearn: 0.2706915\ttotal: 193ms\tremaining: 1.15s\n",
      "144:\tlearn: 0.2700675\ttotal: 194ms\tremaining: 1.14s\n",
      "145:\tlearn: 0.2689436\ttotal: 195ms\tremaining: 1.14s\n",
      "146:\tlearn: 0.2683950\ttotal: 196ms\tremaining: 1.13s\n",
      "147:\tlearn: 0.2680048\ttotal: 196ms\tremaining: 1.13s\n",
      "148:\tlearn: 0.2668393\ttotal: 197ms\tremaining: 1.13s\n",
      "149:\tlearn: 0.2662739\ttotal: 198ms\tremaining: 1.12s\n",
      "150:\tlearn: 0.2650087\ttotal: 199ms\tremaining: 1.12s\n",
      "151:\tlearn: 0.2643253\ttotal: 200ms\tremaining: 1.11s\n",
      "152:\tlearn: 0.2634162\ttotal: 200ms\tremaining: 1.11s\n",
      "153:\tlearn: 0.2627830\ttotal: 201ms\tremaining: 1.1s\n",
      "154:\tlearn: 0.2623300\ttotal: 202ms\tremaining: 1.1s\n",
      "155:\tlearn: 0.2613065\ttotal: 203ms\tremaining: 1.1s\n",
      "156:\tlearn: 0.2608171\ttotal: 204ms\tremaining: 1.09s\n",
      "157:\tlearn: 0.2601098\ttotal: 204ms\tremaining: 1.09s\n",
      "158:\tlearn: 0.2597019\ttotal: 205ms\tremaining: 1.08s\n",
      "159:\tlearn: 0.2589798\ttotal: 206ms\tremaining: 1.08s\n",
      "160:\tlearn: 0.2581041\ttotal: 207ms\tremaining: 1.08s\n",
      "161:\tlearn: 0.2573431\ttotal: 208ms\tremaining: 1.07s\n",
      "162:\tlearn: 0.2568511\ttotal: 208ms\tremaining: 1.07s\n",
      "163:\tlearn: 0.2562360\ttotal: 209ms\tremaining: 1.07s\n",
      "164:\tlearn: 0.2554809\ttotal: 210ms\tremaining: 1.06s\n",
      "165:\tlearn: 0.2550174\ttotal: 211ms\tremaining: 1.06s\n",
      "166:\tlearn: 0.2547402\ttotal: 212ms\tremaining: 1.06s\n",
      "167:\tlearn: 0.2541737\ttotal: 213ms\tremaining: 1.05s\n",
      "168:\tlearn: 0.2536243\ttotal: 213ms\tremaining: 1.05s\n",
      "169:\tlearn: 0.2531163\ttotal: 214ms\tremaining: 1.05s\n",
      "170:\tlearn: 0.2523364\ttotal: 215ms\tremaining: 1.04s\n",
      "171:\tlearn: 0.2513443\ttotal: 216ms\tremaining: 1.04s\n",
      "172:\tlearn: 0.2505419\ttotal: 217ms\tremaining: 1.04s\n",
      "173:\tlearn: 0.2494473\ttotal: 218ms\tremaining: 1.03s\n",
      "174:\tlearn: 0.2486532\ttotal: 218ms\tremaining: 1.03s\n",
      "175:\tlearn: 0.2481628\ttotal: 219ms\tremaining: 1.03s\n",
      "176:\tlearn: 0.2475341\ttotal: 220ms\tremaining: 1.02s\n",
      "177:\tlearn: 0.2469982\ttotal: 221ms\tremaining: 1.02s\n",
      "178:\tlearn: 0.2465098\ttotal: 222ms\tremaining: 1.02s\n",
      "179:\tlearn: 0.2457981\ttotal: 223ms\tremaining: 1.01s\n",
      "180:\tlearn: 0.2451967\ttotal: 223ms\tremaining: 1.01s\n",
      "181:\tlearn: 0.2446625\ttotal: 224ms\tremaining: 1.01s\n",
      "182:\tlearn: 0.2436811\ttotal: 225ms\tremaining: 1s\n",
      "183:\tlearn: 0.2430328\ttotal: 226ms\tremaining: 1s\n",
      "184:\tlearn: 0.2421152\ttotal: 227ms\tremaining: 998ms\n",
      "185:\tlearn: 0.2412789\ttotal: 227ms\tremaining: 995ms\n",
      "186:\tlearn: 0.2407249\ttotal: 228ms\tremaining: 992ms\n",
      "187:\tlearn: 0.2402237\ttotal: 229ms\tremaining: 989ms\n",
      "188:\tlearn: 0.2396360\ttotal: 230ms\tremaining: 986ms\n",
      "189:\tlearn: 0.2388957\ttotal: 231ms\tremaining: 984ms\n",
      "190:\tlearn: 0.2379552\ttotal: 232ms\tremaining: 981ms\n",
      "191:\tlearn: 0.2374310\ttotal: 233ms\tremaining: 979ms\n",
      "192:\tlearn: 0.2370531\ttotal: 233ms\tremaining: 976ms\n",
      "193:\tlearn: 0.2365050\ttotal: 234ms\tremaining: 973ms\n",
      "194:\tlearn: 0.2360034\ttotal: 235ms\tremaining: 970ms\n",
      "195:\tlearn: 0.2351812\ttotal: 236ms\tremaining: 967ms\n",
      "196:\tlearn: 0.2348616\ttotal: 237ms\tremaining: 964ms\n",
      "197:\tlearn: 0.2343337\ttotal: 237ms\tremaining: 962ms\n",
      "198:\tlearn: 0.2338038\ttotal: 238ms\tremaining: 959ms\n",
      "199:\tlearn: 0.2332493\ttotal: 239ms\tremaining: 957ms\n",
      "200:\tlearn: 0.2329843\ttotal: 240ms\tremaining: 954ms\n",
      "201:\tlearn: 0.2325959\ttotal: 241ms\tremaining: 951ms\n",
      "202:\tlearn: 0.2315922\ttotal: 242ms\tremaining: 949ms\n",
      "203:\tlearn: 0.2311086\ttotal: 242ms\tremaining: 946ms\n",
      "204:\tlearn: 0.2306600\ttotal: 243ms\tremaining: 943ms\n",
      "205:\tlearn: 0.2299321\ttotal: 244ms\tremaining: 941ms\n",
      "206:\tlearn: 0.2292648\ttotal: 245ms\tremaining: 939ms\n",
      "207:\tlearn: 0.2289285\ttotal: 246ms\tremaining: 936ms\n",
      "208:\tlearn: 0.2283672\ttotal: 247ms\tremaining: 934ms\n",
      "209:\tlearn: 0.2277686\ttotal: 248ms\tremaining: 932ms\n",
      "210:\tlearn: 0.2273645\ttotal: 248ms\tremaining: 929ms\n",
      "211:\tlearn: 0.2269547\ttotal: 249ms\tremaining: 926ms\n",
      "212:\tlearn: 0.2264517\ttotal: 250ms\tremaining: 923ms\n",
      "213:\tlearn: 0.2260987\ttotal: 251ms\tremaining: 921ms\n",
      "214:\tlearn: 0.2256003\ttotal: 251ms\tremaining: 918ms\n",
      "215:\tlearn: 0.2253040\ttotal: 252ms\tremaining: 915ms\n",
      "216:\tlearn: 0.2248438\ttotal: 253ms\tremaining: 913ms\n",
      "217:\tlearn: 0.2243238\ttotal: 254ms\tremaining: 911ms\n",
      "218:\tlearn: 0.2238879\ttotal: 255ms\tremaining: 909ms\n",
      "219:\tlearn: 0.2236314\ttotal: 256ms\tremaining: 906ms\n",
      "220:\tlearn: 0.2230005\ttotal: 256ms\tremaining: 904ms\n",
      "221:\tlearn: 0.2227871\ttotal: 257ms\tremaining: 901ms\n",
      "222:\tlearn: 0.2222499\ttotal: 258ms\tremaining: 899ms\n",
      "223:\tlearn: 0.2217311\ttotal: 259ms\tremaining: 896ms\n",
      "224:\tlearn: 0.2213225\ttotal: 259ms\tremaining: 894ms\n",
      "225:\tlearn: 0.2207412\ttotal: 260ms\tremaining: 891ms\n",
      "226:\tlearn: 0.2201055\ttotal: 261ms\tremaining: 889ms\n",
      "227:\tlearn: 0.2197888\ttotal: 262ms\tremaining: 886ms\n",
      "228:\tlearn: 0.2191370\ttotal: 263ms\tremaining: 884ms\n",
      "229:\tlearn: 0.2185841\ttotal: 263ms\tremaining: 882ms\n",
      "230:\tlearn: 0.2183766\ttotal: 264ms\tremaining: 879ms\n",
      "231:\tlearn: 0.2180501\ttotal: 265ms\tremaining: 877ms\n",
      "232:\tlearn: 0.2175975\ttotal: 266ms\tremaining: 875ms\n",
      "233:\tlearn: 0.2171744\ttotal: 267ms\tremaining: 874ms\n",
      "234:\tlearn: 0.2167026\ttotal: 268ms\tremaining: 871ms\n",
      "235:\tlearn: 0.2162561\ttotal: 268ms\tremaining: 869ms\n",
      "236:\tlearn: 0.2157547\ttotal: 269ms\tremaining: 867ms\n",
      "237:\tlearn: 0.2153593\ttotal: 270ms\tremaining: 865ms\n",
      "238:\tlearn: 0.2149923\ttotal: 271ms\tremaining: 863ms\n",
      "239:\tlearn: 0.2148175\ttotal: 272ms\tremaining: 860ms\n",
      "240:\tlearn: 0.2142874\ttotal: 272ms\tremaining: 858ms\n",
      "241:\tlearn: 0.2139047\ttotal: 273ms\tremaining: 856ms\n",
      "242:\tlearn: 0.2135873\ttotal: 274ms\tremaining: 854ms\n",
      "243:\tlearn: 0.2129962\ttotal: 275ms\tremaining: 851ms\n",
      "244:\tlearn: 0.2126246\ttotal: 276ms\tremaining: 849ms\n",
      "245:\tlearn: 0.2123158\ttotal: 276ms\tremaining: 846ms\n",
      "246:\tlearn: 0.2117005\ttotal: 277ms\tremaining: 844ms\n",
      "247:\tlearn: 0.2113949\ttotal: 278ms\tremaining: 842ms\n",
      "248:\tlearn: 0.2108788\ttotal: 279ms\tremaining: 840ms\n",
      "249:\tlearn: 0.2105697\ttotal: 280ms\tremaining: 839ms\n",
      "250:\tlearn: 0.2099895\ttotal: 281ms\tremaining: 837ms\n",
      "251:\tlearn: 0.2097721\ttotal: 281ms\tremaining: 835ms\n",
      "252:\tlearn: 0.2094863\ttotal: 282ms\tremaining: 833ms\n",
      "253:\tlearn: 0.2089912\ttotal: 283ms\tremaining: 831ms\n",
      "254:\tlearn: 0.2085207\ttotal: 284ms\tremaining: 829ms\n",
      "255:\tlearn: 0.2081179\ttotal: 285ms\tremaining: 827ms\n",
      "256:\tlearn: 0.2078543\ttotal: 286ms\tremaining: 825ms\n",
      "257:\tlearn: 0.2076877\ttotal: 287ms\tremaining: 824ms\n",
      "258:\tlearn: 0.2072346\ttotal: 287ms\tremaining: 822ms\n",
      "259:\tlearn: 0.2069518\ttotal: 288ms\tremaining: 820ms\n",
      "260:\tlearn: 0.2066151\ttotal: 289ms\tremaining: 818ms\n",
      "261:\tlearn: 0.2062067\ttotal: 290ms\tremaining: 817ms\n",
      "262:\tlearn: 0.2055550\ttotal: 291ms\tremaining: 815ms\n",
      "263:\tlearn: 0.2049985\ttotal: 292ms\tremaining: 814ms\n",
      "264:\tlearn: 0.2045676\ttotal: 293ms\tremaining: 812ms\n",
      "265:\tlearn: 0.2039212\ttotal: 294ms\tremaining: 811ms\n",
      "266:\tlearn: 0.2036572\ttotal: 295ms\tremaining: 809ms\n",
      "267:\tlearn: 0.2034701\ttotal: 296ms\tremaining: 807ms\n",
      "268:\tlearn: 0.2028561\ttotal: 297ms\tremaining: 806ms\n",
      "269:\tlearn: 0.2026847\ttotal: 297ms\tremaining: 804ms\n",
      "270:\tlearn: 0.2025907\ttotal: 298ms\tremaining: 802ms\n",
      "271:\tlearn: 0.2019639\ttotal: 299ms\tremaining: 801ms\n"
     ]
    },
    {
     "name": "stdout",
     "output_type": "stream",
     "text": [
      "272:\tlearn: 0.2017924\ttotal: 300ms\tremaining: 800ms\n",
      "273:\tlearn: 0.2013312\ttotal: 301ms\tremaining: 799ms\n",
      "274:\tlearn: 0.2009899\ttotal: 302ms\tremaining: 797ms\n",
      "275:\tlearn: 0.2004386\ttotal: 303ms\tremaining: 795ms\n",
      "276:\tlearn: 0.1999046\ttotal: 304ms\tremaining: 794ms\n",
      "277:\tlearn: 0.1995704\ttotal: 305ms\tremaining: 792ms\n",
      "278:\tlearn: 0.1989607\ttotal: 306ms\tremaining: 791ms\n",
      "279:\tlearn: 0.1985500\ttotal: 307ms\tremaining: 789ms\n",
      "280:\tlearn: 0.1980698\ttotal: 308ms\tremaining: 788ms\n",
      "281:\tlearn: 0.1977798\ttotal: 309ms\tremaining: 786ms\n",
      "282:\tlearn: 0.1970836\ttotal: 310ms\tremaining: 785ms\n",
      "283:\tlearn: 0.1966477\ttotal: 312ms\tremaining: 785ms\n",
      "284:\tlearn: 0.1964373\ttotal: 312ms\tremaining: 784ms\n",
      "285:\tlearn: 0.1960959\ttotal: 313ms\tremaining: 782ms\n",
      "286:\tlearn: 0.1958373\ttotal: 314ms\tremaining: 780ms\n",
      "287:\tlearn: 0.1955853\ttotal: 315ms\tremaining: 778ms\n",
      "288:\tlearn: 0.1953424\ttotal: 316ms\tremaining: 776ms\n",
      "289:\tlearn: 0.1950334\ttotal: 317ms\tremaining: 775ms\n",
      "290:\tlearn: 0.1945938\ttotal: 317ms\tremaining: 773ms\n",
      "291:\tlearn: 0.1943541\ttotal: 318ms\tremaining: 771ms\n",
      "292:\tlearn: 0.1939146\ttotal: 319ms\tremaining: 770ms\n",
      "293:\tlearn: 0.1936623\ttotal: 320ms\tremaining: 768ms\n",
      "294:\tlearn: 0.1928828\ttotal: 321ms\tremaining: 766ms\n",
      "295:\tlearn: 0.1924652\ttotal: 321ms\tremaining: 764ms\n",
      "296:\tlearn: 0.1921431\ttotal: 322ms\tremaining: 763ms\n",
      "297:\tlearn: 0.1915981\ttotal: 323ms\tremaining: 761ms\n",
      "298:\tlearn: 0.1910128\ttotal: 324ms\tremaining: 760ms\n",
      "299:\tlearn: 0.1904969\ttotal: 325ms\tremaining: 758ms\n",
      "300:\tlearn: 0.1899195\ttotal: 326ms\tremaining: 757ms\n",
      "301:\tlearn: 0.1898482\ttotal: 327ms\tremaining: 755ms\n",
      "302:\tlearn: 0.1895631\ttotal: 327ms\tremaining: 753ms\n",
      "303:\tlearn: 0.1891491\ttotal: 328ms\tremaining: 752ms\n",
      "304:\tlearn: 0.1889613\ttotal: 329ms\tremaining: 750ms\n",
      "305:\tlearn: 0.1884335\ttotal: 330ms\tremaining: 749ms\n",
      "306:\tlearn: 0.1881731\ttotal: 331ms\tremaining: 747ms\n",
      "307:\tlearn: 0.1877379\ttotal: 332ms\tremaining: 745ms\n",
      "308:\tlearn: 0.1872608\ttotal: 332ms\tremaining: 743ms\n",
      "309:\tlearn: 0.1869394\ttotal: 333ms\tremaining: 741ms\n",
      "310:\tlearn: 0.1866855\ttotal: 334ms\tremaining: 740ms\n",
      "311:\tlearn: 0.1862924\ttotal: 335ms\tremaining: 738ms\n",
      "312:\tlearn: 0.1857013\ttotal: 336ms\tremaining: 737ms\n",
      "313:\tlearn: 0.1855435\ttotal: 336ms\tremaining: 735ms\n",
      "314:\tlearn: 0.1852678\ttotal: 337ms\tremaining: 733ms\n",
      "315:\tlearn: 0.1851398\ttotal: 338ms\tremaining: 731ms\n",
      "316:\tlearn: 0.1848182\ttotal: 339ms\tremaining: 730ms\n",
      "317:\tlearn: 0.1846512\ttotal: 340ms\tremaining: 728ms\n",
      "318:\tlearn: 0.1844397\ttotal: 340ms\tremaining: 727ms\n",
      "319:\tlearn: 0.1841938\ttotal: 341ms\tremaining: 725ms\n",
      "320:\tlearn: 0.1838482\ttotal: 342ms\tremaining: 723ms\n",
      "321:\tlearn: 0.1832164\ttotal: 343ms\tremaining: 722ms\n",
      "322:\tlearn: 0.1830478\ttotal: 344ms\tremaining: 720ms\n",
      "323:\tlearn: 0.1827196\ttotal: 344ms\tremaining: 719ms\n",
      "324:\tlearn: 0.1823778\ttotal: 345ms\tremaining: 717ms\n",
      "325:\tlearn: 0.1821087\ttotal: 346ms\tremaining: 716ms\n",
      "326:\tlearn: 0.1819559\ttotal: 347ms\tremaining: 714ms\n",
      "327:\tlearn: 0.1818854\ttotal: 348ms\tremaining: 713ms\n",
      "328:\tlearn: 0.1814091\ttotal: 349ms\tremaining: 711ms\n",
      "329:\tlearn: 0.1810672\ttotal: 349ms\tremaining: 709ms\n",
      "330:\tlearn: 0.1808592\ttotal: 350ms\tremaining: 708ms\n",
      "331:\tlearn: 0.1807955\ttotal: 351ms\tremaining: 706ms\n",
      "332:\tlearn: 0.1806688\ttotal: 352ms\tremaining: 705ms\n",
      "333:\tlearn: 0.1804160\ttotal: 352ms\tremaining: 703ms\n",
      "334:\tlearn: 0.1799750\ttotal: 353ms\tremaining: 701ms\n",
      "335:\tlearn: 0.1799081\ttotal: 354ms\tremaining: 700ms\n",
      "336:\tlearn: 0.1795403\ttotal: 355ms\tremaining: 698ms\n",
      "337:\tlearn: 0.1792017\ttotal: 356ms\tremaining: 697ms\n",
      "338:\tlearn: 0.1790111\ttotal: 357ms\tremaining: 695ms\n",
      "339:\tlearn: 0.1787841\ttotal: 357ms\tremaining: 694ms\n",
      "340:\tlearn: 0.1784161\ttotal: 358ms\tremaining: 692ms\n",
      "341:\tlearn: 0.1779432\ttotal: 359ms\tremaining: 691ms\n",
      "342:\tlearn: 0.1775118\ttotal: 360ms\tremaining: 689ms\n",
      "343:\tlearn: 0.1774736\ttotal: 361ms\tremaining: 688ms\n",
      "344:\tlearn: 0.1774190\ttotal: 362ms\tremaining: 687ms\n",
      "345:\tlearn: 0.1772605\ttotal: 362ms\tremaining: 685ms\n",
      "346:\tlearn: 0.1766898\ttotal: 363ms\tremaining: 683ms\n",
      "347:\tlearn: 0.1760387\ttotal: 364ms\tremaining: 682ms\n",
      "348:\tlearn: 0.1759746\ttotal: 365ms\tremaining: 680ms\n",
      "349:\tlearn: 0.1755406\ttotal: 366ms\tremaining: 679ms\n",
      "350:\tlearn: 0.1754952\ttotal: 367ms\tremaining: 678ms\n",
      "351:\tlearn: 0.1751696\ttotal: 368ms\tremaining: 677ms\n",
      "352:\tlearn: 0.1751312\ttotal: 368ms\tremaining: 675ms\n",
      "353:\tlearn: 0.1746936\ttotal: 369ms\tremaining: 674ms\n",
      "354:\tlearn: 0.1745014\ttotal: 370ms\tremaining: 672ms\n",
      "355:\tlearn: 0.1739821\ttotal: 371ms\tremaining: 671ms\n",
      "356:\tlearn: 0.1736308\ttotal: 372ms\tremaining: 669ms\n",
      "357:\tlearn: 0.1729938\ttotal: 372ms\tremaining: 668ms\n",
      "358:\tlearn: 0.1726223\ttotal: 373ms\tremaining: 666ms\n",
      "359:\tlearn: 0.1720736\ttotal: 374ms\tremaining: 665ms\n",
      "360:\tlearn: 0.1716064\ttotal: 375ms\tremaining: 663ms\n",
      "361:\tlearn: 0.1711174\ttotal: 376ms\tremaining: 662ms\n",
      "362:\tlearn: 0.1710839\ttotal: 376ms\tremaining: 660ms\n",
      "363:\tlearn: 0.1705239\ttotal: 377ms\tremaining: 659ms\n",
      "364:\tlearn: 0.1703430\ttotal: 378ms\tremaining: 657ms\n",
      "365:\tlearn: 0.1697265\ttotal: 379ms\tremaining: 656ms\n",
      "366:\tlearn: 0.1694916\ttotal: 380ms\tremaining: 655ms\n",
      "367:\tlearn: 0.1690343\ttotal: 380ms\tremaining: 653ms\n",
      "368:\tlearn: 0.1689969\ttotal: 381ms\tremaining: 652ms\n"
     ]
    },
    {
     "name": "stdout",
     "output_type": "stream",
     "text": [
      "369:\tlearn: 0.1686202\ttotal: 382ms\tremaining: 651ms\n",
      "370:\tlearn: 0.1682427\ttotal: 383ms\tremaining: 650ms\n",
      "371:\tlearn: 0.1678035\ttotal: 384ms\tremaining: 648ms\n",
      "372:\tlearn: 0.1674499\ttotal: 385ms\tremaining: 647ms\n",
      "373:\tlearn: 0.1674004\ttotal: 386ms\tremaining: 645ms\n",
      "374:\tlearn: 0.1669093\ttotal: 386ms\tremaining: 644ms\n",
      "375:\tlearn: 0.1668346\ttotal: 387ms\tremaining: 643ms\n",
      "376:\tlearn: 0.1664408\ttotal: 388ms\tremaining: 641ms\n",
      "377:\tlearn: 0.1662130\ttotal: 389ms\tremaining: 640ms\n",
      "378:\tlearn: 0.1657752\ttotal: 390ms\tremaining: 639ms\n",
      "379:\tlearn: 0.1654713\ttotal: 391ms\tremaining: 637ms\n",
      "380:\tlearn: 0.1649896\ttotal: 391ms\tremaining: 636ms\n",
      "381:\tlearn: 0.1647001\ttotal: 392ms\tremaining: 634ms\n",
      "382:\tlearn: 0.1644679\ttotal: 393ms\tremaining: 633ms\n",
      "383:\tlearn: 0.1642089\ttotal: 394ms\tremaining: 632ms\n",
      "384:\tlearn: 0.1638085\ttotal: 395ms\tremaining: 630ms\n",
      "385:\tlearn: 0.1635725\ttotal: 396ms\tremaining: 629ms\n",
      "386:\tlearn: 0.1631651\ttotal: 396ms\tremaining: 628ms\n",
      "387:\tlearn: 0.1626923\ttotal: 397ms\tremaining: 626ms\n",
      "388:\tlearn: 0.1623014\ttotal: 398ms\tremaining: 625ms\n",
      "389:\tlearn: 0.1619192\ttotal: 399ms\tremaining: 624ms\n",
      "390:\tlearn: 0.1615141\ttotal: 400ms\tremaining: 622ms\n",
      "391:\tlearn: 0.1611552\ttotal: 400ms\tremaining: 621ms\n",
      "392:\tlearn: 0.1609810\ttotal: 401ms\tremaining: 620ms\n",
      "393:\tlearn: 0.1608057\ttotal: 402ms\tremaining: 618ms\n",
      "394:\tlearn: 0.1607658\ttotal: 403ms\tremaining: 617ms\n",
      "395:\tlearn: 0.1603876\ttotal: 404ms\tremaining: 616ms\n",
      "396:\tlearn: 0.1601231\ttotal: 405ms\tremaining: 614ms\n",
      "397:\tlearn: 0.1595207\ttotal: 405ms\tremaining: 613ms\n",
      "398:\tlearn: 0.1592780\ttotal: 406ms\tremaining: 612ms\n",
      "399:\tlearn: 0.1589910\ttotal: 407ms\tremaining: 610ms\n",
      "400:\tlearn: 0.1586603\ttotal: 408ms\tremaining: 609ms\n",
      "401:\tlearn: 0.1584064\ttotal: 409ms\tremaining: 608ms\n",
      "402:\tlearn: 0.1580620\ttotal: 409ms\tremaining: 607ms\n",
      "403:\tlearn: 0.1577575\ttotal: 410ms\tremaining: 605ms\n",
      "404:\tlearn: 0.1573975\ttotal: 411ms\tremaining: 604ms\n",
      "405:\tlearn: 0.1573680\ttotal: 412ms\tremaining: 603ms\n",
      "406:\tlearn: 0.1572905\ttotal: 413ms\tremaining: 601ms\n",
      "407:\tlearn: 0.1570296\ttotal: 413ms\tremaining: 600ms\n",
      "408:\tlearn: 0.1566007\ttotal: 414ms\tremaining: 599ms\n",
      "409:\tlearn: 0.1563105\ttotal: 415ms\tremaining: 597ms\n",
      "410:\tlearn: 0.1560661\ttotal: 416ms\tremaining: 596ms\n",
      "411:\tlearn: 0.1555974\ttotal: 417ms\tremaining: 595ms\n",
      "412:\tlearn: 0.1553412\ttotal: 418ms\tremaining: 594ms\n",
      "413:\tlearn: 0.1549462\ttotal: 419ms\tremaining: 592ms\n",
      "414:\tlearn: 0.1547196\ttotal: 419ms\tremaining: 591ms\n",
      "415:\tlearn: 0.1542898\ttotal: 420ms\tremaining: 590ms\n",
      "416:\tlearn: 0.1539287\ttotal: 421ms\tremaining: 588ms\n",
      "417:\tlearn: 0.1535571\ttotal: 422ms\tremaining: 587ms\n",
      "418:\tlearn: 0.1532940\ttotal: 422ms\tremaining: 586ms\n",
      "419:\tlearn: 0.1529148\ttotal: 423ms\tremaining: 585ms\n",
      "420:\tlearn: 0.1525334\ttotal: 424ms\tremaining: 584ms\n",
      "421:\tlearn: 0.1521620\ttotal: 425ms\tremaining: 582ms\n",
      "422:\tlearn: 0.1518299\ttotal: 426ms\tremaining: 581ms\n",
      "423:\tlearn: 0.1515308\ttotal: 427ms\tremaining: 580ms\n",
      "424:\tlearn: 0.1511256\ttotal: 428ms\tremaining: 579ms\n",
      "425:\tlearn: 0.1507631\ttotal: 429ms\tremaining: 578ms\n",
      "426:\tlearn: 0.1502991\ttotal: 430ms\tremaining: 577ms\n",
      "427:\tlearn: 0.1499483\ttotal: 431ms\tremaining: 576ms\n",
      "428:\tlearn: 0.1495824\ttotal: 432ms\tremaining: 575ms\n",
      "429:\tlearn: 0.1493158\ttotal: 432ms\tremaining: 573ms\n",
      "430:\tlearn: 0.1492941\ttotal: 433ms\tremaining: 572ms\n",
      "431:\tlearn: 0.1490721\ttotal: 434ms\tremaining: 571ms\n",
      "432:\tlearn: 0.1486188\ttotal: 435ms\tremaining: 570ms\n",
      "433:\tlearn: 0.1483035\ttotal: 436ms\tremaining: 568ms\n",
      "434:\tlearn: 0.1480606\ttotal: 437ms\tremaining: 567ms\n",
      "435:\tlearn: 0.1477009\ttotal: 437ms\tremaining: 566ms\n",
      "436:\tlearn: 0.1474578\ttotal: 438ms\tremaining: 565ms\n",
      "437:\tlearn: 0.1471910\ttotal: 439ms\tremaining: 563ms\n",
      "438:\tlearn: 0.1468787\ttotal: 440ms\tremaining: 562ms\n",
      "439:\tlearn: 0.1465653\ttotal: 441ms\tremaining: 561ms\n",
      "440:\tlearn: 0.1462169\ttotal: 441ms\tremaining: 560ms\n",
      "441:\tlearn: 0.1460071\ttotal: 442ms\tremaining: 558ms\n",
      "442:\tlearn: 0.1459511\ttotal: 443ms\tremaining: 557ms\n",
      "443:\tlearn: 0.1456497\ttotal: 444ms\tremaining: 556ms\n",
      "444:\tlearn: 0.1452563\ttotal: 445ms\tremaining: 555ms\n",
      "445:\tlearn: 0.1450243\ttotal: 445ms\tremaining: 553ms\n",
      "446:\tlearn: 0.1449988\ttotal: 446ms\tremaining: 552ms\n",
      "447:\tlearn: 0.1447774\ttotal: 447ms\tremaining: 551ms\n",
      "448:\tlearn: 0.1443023\ttotal: 448ms\tremaining: 550ms\n",
      "449:\tlearn: 0.1441053\ttotal: 449ms\tremaining: 549ms\n",
      "450:\tlearn: 0.1439971\ttotal: 450ms\tremaining: 548ms\n",
      "451:\tlearn: 0.1438061\ttotal: 451ms\tremaining: 547ms\n",
      "452:\tlearn: 0.1433737\ttotal: 452ms\tremaining: 546ms\n",
      "453:\tlearn: 0.1433269\ttotal: 453ms\tremaining: 544ms\n",
      "454:\tlearn: 0.1430790\ttotal: 453ms\tremaining: 543ms\n",
      "455:\tlearn: 0.1428788\ttotal: 454ms\tremaining: 542ms\n",
      "456:\tlearn: 0.1425913\ttotal: 455ms\tremaining: 541ms\n",
      "457:\tlearn: 0.1423465\ttotal: 456ms\tremaining: 539ms\n",
      "458:\tlearn: 0.1421900\ttotal: 457ms\tremaining: 538ms\n",
      "459:\tlearn: 0.1420929\ttotal: 457ms\tremaining: 537ms\n",
      "460:\tlearn: 0.1418501\ttotal: 458ms\tremaining: 536ms\n",
      "461:\tlearn: 0.1415217\ttotal: 459ms\tremaining: 535ms\n",
      "462:\tlearn: 0.1414260\ttotal: 460ms\tremaining: 534ms\n",
      "463:\tlearn: 0.1411293\ttotal: 461ms\tremaining: 532ms\n",
      "464:\tlearn: 0.1407572\ttotal: 462ms\tremaining: 531ms\n",
      "465:\tlearn: 0.1404219\ttotal: 463ms\tremaining: 530ms\n",
      "466:\tlearn: 0.1401592\ttotal: 463ms\tremaining: 529ms\n",
      "467:\tlearn: 0.1399096\ttotal: 464ms\tremaining: 528ms\n",
      "468:\tlearn: 0.1395427\ttotal: 465ms\tremaining: 527ms\n",
      "469:\tlearn: 0.1394252\ttotal: 466ms\tremaining: 525ms\n",
      "470:\tlearn: 0.1391949\ttotal: 467ms\tremaining: 524ms\n",
      "471:\tlearn: 0.1391539\ttotal: 468ms\tremaining: 523ms\n",
      "472:\tlearn: 0.1390213\ttotal: 468ms\tremaining: 522ms\n",
      "473:\tlearn: 0.1384116\ttotal: 469ms\tremaining: 521ms\n",
      "474:\tlearn: 0.1382414\ttotal: 470ms\tremaining: 520ms\n",
      "475:\tlearn: 0.1379416\ttotal: 471ms\tremaining: 519ms\n",
      "476:\tlearn: 0.1378115\ttotal: 472ms\tremaining: 518ms\n",
      "477:\tlearn: 0.1375636\ttotal: 473ms\tremaining: 517ms\n",
      "478:\tlearn: 0.1373899\ttotal: 474ms\tremaining: 515ms\n",
      "479:\tlearn: 0.1371305\ttotal: 475ms\tremaining: 514ms\n",
      "480:\tlearn: 0.1368985\ttotal: 475ms\tremaining: 513ms\n",
      "481:\tlearn: 0.1367965\ttotal: 476ms\tremaining: 512ms\n",
      "482:\tlearn: 0.1365181\ttotal: 477ms\tremaining: 511ms\n",
      "483:\tlearn: 0.1362835\ttotal: 478ms\tremaining: 509ms\n",
      "484:\tlearn: 0.1359811\ttotal: 479ms\tremaining: 508ms\n",
      "485:\tlearn: 0.1356209\ttotal: 479ms\tremaining: 507ms\n",
      "486:\tlearn: 0.1354230\ttotal: 480ms\tremaining: 506ms\n",
      "487:\tlearn: 0.1351168\ttotal: 481ms\tremaining: 505ms\n",
      "488:\tlearn: 0.1348801\ttotal: 482ms\tremaining: 504ms\n",
      "489:\tlearn: 0.1348449\ttotal: 483ms\tremaining: 502ms\n",
      "490:\tlearn: 0.1345530\ttotal: 483ms\tremaining: 501ms\n",
      "491:\tlearn: 0.1342193\ttotal: 484ms\tremaining: 500ms\n",
      "492:\tlearn: 0.1338918\ttotal: 485ms\tremaining: 499ms\n",
      "493:\tlearn: 0.1335915\ttotal: 486ms\tremaining: 498ms\n",
      "494:\tlearn: 0.1334240\ttotal: 487ms\tremaining: 497ms\n",
      "495:\tlearn: 0.1331919\ttotal: 488ms\tremaining: 495ms\n",
      "496:\tlearn: 0.1329883\ttotal: 488ms\tremaining: 494ms\n",
      "497:\tlearn: 0.1327039\ttotal: 489ms\tremaining: 493ms\n",
      "498:\tlearn: 0.1325655\ttotal: 490ms\tremaining: 492ms\n"
     ]
    },
    {
     "name": "stdout",
     "output_type": "stream",
     "text": [
      "499:\tlearn: 0.1324908\ttotal: 491ms\tremaining: 491ms\n",
      "500:\tlearn: 0.1323480\ttotal: 492ms\tremaining: 490ms\n",
      "501:\tlearn: 0.1320869\ttotal: 492ms\tremaining: 489ms\n",
      "502:\tlearn: 0.1318877\ttotal: 493ms\tremaining: 487ms\n",
      "503:\tlearn: 0.1315814\ttotal: 494ms\tremaining: 486ms\n",
      "504:\tlearn: 0.1313048\ttotal: 495ms\tremaining: 485ms\n",
      "505:\tlearn: 0.1311140\ttotal: 496ms\tremaining: 484ms\n",
      "506:\tlearn: 0.1307942\ttotal: 496ms\tremaining: 483ms\n",
      "507:\tlearn: 0.1305973\ttotal: 497ms\tremaining: 481ms\n",
      "508:\tlearn: 0.1302839\ttotal: 498ms\tremaining: 480ms\n",
      "509:\tlearn: 0.1302683\ttotal: 499ms\tremaining: 479ms\n",
      "510:\tlearn: 0.1300244\ttotal: 500ms\tremaining: 478ms\n",
      "511:\tlearn: 0.1295833\ttotal: 500ms\tremaining: 477ms\n",
      "512:\tlearn: 0.1292647\ttotal: 501ms\tremaining: 476ms\n",
      "513:\tlearn: 0.1290228\ttotal: 502ms\tremaining: 475ms\n",
      "514:\tlearn: 0.1288297\ttotal: 503ms\tremaining: 474ms\n",
      "515:\tlearn: 0.1285979\ttotal: 504ms\tremaining: 473ms\n",
      "516:\tlearn: 0.1283088\ttotal: 505ms\tremaining: 472ms\n",
      "517:\tlearn: 0.1279767\ttotal: 506ms\tremaining: 471ms\n",
      "518:\tlearn: 0.1277079\ttotal: 507ms\tremaining: 470ms\n",
      "519:\tlearn: 0.1274868\ttotal: 508ms\tremaining: 468ms\n",
      "520:\tlearn: 0.1272608\ttotal: 508ms\tremaining: 467ms\n",
      "521:\tlearn: 0.1269196\ttotal: 509ms\tremaining: 466ms\n",
      "522:\tlearn: 0.1267508\ttotal: 510ms\tremaining: 465ms\n",
      "523:\tlearn: 0.1264101\ttotal: 511ms\tremaining: 464ms\n",
      "524:\tlearn: 0.1261760\ttotal: 511ms\tremaining: 463ms\n",
      "525:\tlearn: 0.1261135\ttotal: 512ms\tremaining: 462ms\n",
      "526:\tlearn: 0.1257511\ttotal: 513ms\tremaining: 460ms\n",
      "527:\tlearn: 0.1255943\ttotal: 514ms\tremaining: 459ms\n",
      "528:\tlearn: 0.1253752\ttotal: 515ms\tremaining: 458ms\n",
      "529:\tlearn: 0.1251622\ttotal: 515ms\tremaining: 457ms\n",
      "530:\tlearn: 0.1251384\ttotal: 516ms\tremaining: 456ms\n",
      "531:\tlearn: 0.1247747\ttotal: 517ms\tremaining: 455ms\n",
      "532:\tlearn: 0.1244666\ttotal: 518ms\tremaining: 454ms\n",
      "533:\tlearn: 0.1242552\ttotal: 519ms\tremaining: 453ms\n",
      "534:\tlearn: 0.1240761\ttotal: 519ms\tremaining: 451ms\n",
      "535:\tlearn: 0.1238251\ttotal: 521ms\tremaining: 451ms\n",
      "536:\tlearn: 0.1235805\ttotal: 522ms\tremaining: 450ms\n",
      "537:\tlearn: 0.1233178\ttotal: 523ms\tremaining: 449ms\n",
      "538:\tlearn: 0.1231858\ttotal: 523ms\tremaining: 448ms\n",
      "539:\tlearn: 0.1230041\ttotal: 524ms\tremaining: 446ms\n",
      "540:\tlearn: 0.1229149\ttotal: 525ms\tremaining: 445ms\n",
      "541:\tlearn: 0.1227093\ttotal: 526ms\tremaining: 444ms\n",
      "542:\tlearn: 0.1226088\ttotal: 527ms\tremaining: 443ms\n",
      "543:\tlearn: 0.1222806\ttotal: 527ms\tremaining: 442ms\n",
      "544:\tlearn: 0.1220842\ttotal: 528ms\tremaining: 441ms\n",
      "545:\tlearn: 0.1217870\ttotal: 529ms\tremaining: 440ms\n",
      "546:\tlearn: 0.1215866\ttotal: 530ms\tremaining: 439ms\n",
      "547:\tlearn: 0.1212762\ttotal: 531ms\tremaining: 438ms\n",
      "548:\tlearn: 0.1212554\ttotal: 531ms\tremaining: 436ms\n",
      "549:\tlearn: 0.1210415\ttotal: 532ms\tremaining: 435ms\n",
      "550:\tlearn: 0.1209482\ttotal: 533ms\tremaining: 434ms\n",
      "551:\tlearn: 0.1207064\ttotal: 534ms\tremaining: 433ms\n",
      "552:\tlearn: 0.1205473\ttotal: 535ms\tremaining: 432ms\n",
      "553:\tlearn: 0.1204011\ttotal: 535ms\tremaining: 431ms\n",
      "554:\tlearn: 0.1202103\ttotal: 536ms\tremaining: 430ms\n",
      "555:\tlearn: 0.1200132\ttotal: 537ms\tremaining: 429ms\n",
      "556:\tlearn: 0.1197349\ttotal: 537ms\tremaining: 427ms\n",
      "557:\tlearn: 0.1195625\ttotal: 538ms\tremaining: 426ms\n",
      "558:\tlearn: 0.1193550\ttotal: 539ms\tremaining: 425ms\n",
      "559:\tlearn: 0.1191398\ttotal: 540ms\tremaining: 424ms\n",
      "560:\tlearn: 0.1188920\ttotal: 541ms\tremaining: 423ms\n",
      "561:\tlearn: 0.1188292\ttotal: 542ms\tremaining: 422ms\n",
      "562:\tlearn: 0.1186040\ttotal: 543ms\tremaining: 421ms\n",
      "563:\tlearn: 0.1183483\ttotal: 543ms\tremaining: 420ms\n",
      "564:\tlearn: 0.1179984\ttotal: 544ms\tremaining: 419ms\n",
      "565:\tlearn: 0.1177340\ttotal: 545ms\tremaining: 418ms\n",
      "566:\tlearn: 0.1174889\ttotal: 546ms\tremaining: 417ms\n",
      "567:\tlearn: 0.1172847\ttotal: 547ms\tremaining: 416ms\n",
      "568:\tlearn: 0.1171256\ttotal: 548ms\tremaining: 415ms\n",
      "569:\tlearn: 0.1169438\ttotal: 548ms\tremaining: 414ms\n",
      "570:\tlearn: 0.1166471\ttotal: 549ms\tremaining: 412ms\n",
      "571:\tlearn: 0.1163689\ttotal: 550ms\tremaining: 411ms\n",
      "572:\tlearn: 0.1161231\ttotal: 551ms\tremaining: 410ms\n",
      "573:\tlearn: 0.1160885\ttotal: 551ms\tremaining: 409ms\n",
      "574:\tlearn: 0.1160586\ttotal: 552ms\tremaining: 408ms\n",
      "575:\tlearn: 0.1156856\ttotal: 553ms\tremaining: 407ms\n",
      "576:\tlearn: 0.1153219\ttotal: 554ms\tremaining: 406ms\n",
      "577:\tlearn: 0.1152890\ttotal: 555ms\tremaining: 405ms\n",
      "578:\tlearn: 0.1150512\ttotal: 556ms\tremaining: 404ms\n",
      "579:\tlearn: 0.1150335\ttotal: 556ms\tremaining: 403ms\n",
      "580:\tlearn: 0.1150112\ttotal: 557ms\tremaining: 402ms\n",
      "581:\tlearn: 0.1147840\ttotal: 558ms\tremaining: 401ms\n",
      "582:\tlearn: 0.1145758\ttotal: 559ms\tremaining: 400ms\n",
      "583:\tlearn: 0.1144324\ttotal: 560ms\tremaining: 399ms\n",
      "584:\tlearn: 0.1140372\ttotal: 561ms\tremaining: 398ms\n",
      "585:\tlearn: 0.1138722\ttotal: 562ms\tremaining: 397ms\n",
      "586:\tlearn: 0.1136993\ttotal: 562ms\tremaining: 396ms\n",
      "587:\tlearn: 0.1136147\ttotal: 563ms\tremaining: 395ms\n",
      "588:\tlearn: 0.1133143\ttotal: 564ms\tremaining: 393ms\n",
      "589:\tlearn: 0.1131195\ttotal: 565ms\tremaining: 392ms\n",
      "590:\tlearn: 0.1129345\ttotal: 566ms\tremaining: 391ms\n",
      "591:\tlearn: 0.1126702\ttotal: 566ms\tremaining: 390ms\n",
      "592:\tlearn: 0.1125732\ttotal: 567ms\tremaining: 389ms\n",
      "593:\tlearn: 0.1124394\ttotal: 568ms\tremaining: 388ms\n",
      "594:\tlearn: 0.1122670\ttotal: 569ms\tremaining: 387ms\n",
      "595:\tlearn: 0.1121567\ttotal: 570ms\tremaining: 386ms\n",
      "596:\tlearn: 0.1118882\ttotal: 570ms\tremaining: 385ms\n",
      "597:\tlearn: 0.1115782\ttotal: 571ms\tremaining: 384ms\n",
      "598:\tlearn: 0.1112591\ttotal: 572ms\tremaining: 383ms\n"
     ]
    },
    {
     "name": "stdout",
     "output_type": "stream",
     "text": [
      "599:\tlearn: 0.1110257\ttotal: 573ms\tremaining: 382ms\n",
      "600:\tlearn: 0.1107985\ttotal: 574ms\tremaining: 381ms\n",
      "601:\tlearn: 0.1106343\ttotal: 574ms\tremaining: 380ms\n",
      "602:\tlearn: 0.1104366\ttotal: 575ms\tremaining: 379ms\n",
      "603:\tlearn: 0.1102431\ttotal: 576ms\tremaining: 378ms\n",
      "604:\tlearn: 0.1100229\ttotal: 577ms\tremaining: 377ms\n",
      "605:\tlearn: 0.1099151\ttotal: 578ms\tremaining: 376ms\n",
      "606:\tlearn: 0.1096809\ttotal: 579ms\tremaining: 375ms\n",
      "607:\tlearn: 0.1095798\ttotal: 579ms\tremaining: 373ms\n",
      "608:\tlearn: 0.1094111\ttotal: 580ms\tremaining: 372ms\n",
      "609:\tlearn: 0.1092544\ttotal: 581ms\tremaining: 371ms\n",
      "610:\tlearn: 0.1091114\ttotal: 582ms\tremaining: 370ms\n",
      "611:\tlearn: 0.1088260\ttotal: 583ms\tremaining: 369ms\n",
      "612:\tlearn: 0.1086632\ttotal: 584ms\tremaining: 368ms\n",
      "613:\tlearn: 0.1084424\ttotal: 584ms\tremaining: 367ms\n",
      "614:\tlearn: 0.1082786\ttotal: 585ms\tremaining: 366ms\n",
      "615:\tlearn: 0.1080545\ttotal: 586ms\tremaining: 365ms\n",
      "616:\tlearn: 0.1077747\ttotal: 587ms\tremaining: 364ms\n",
      "617:\tlearn: 0.1075524\ttotal: 588ms\tremaining: 363ms\n",
      "618:\tlearn: 0.1072336\ttotal: 588ms\tremaining: 362ms\n",
      "619:\tlearn: 0.1070518\ttotal: 589ms\tremaining: 361ms\n",
      "620:\tlearn: 0.1068482\ttotal: 590ms\tremaining: 360ms\n",
      "621:\tlearn: 0.1066941\ttotal: 591ms\tremaining: 359ms\n",
      "622:\tlearn: 0.1065507\ttotal: 592ms\tremaining: 358ms\n",
      "623:\tlearn: 0.1065295\ttotal: 593ms\tremaining: 357ms\n",
      "624:\tlearn: 0.1063803\ttotal: 593ms\tremaining: 356ms\n",
      "625:\tlearn: 0.1062271\ttotal: 594ms\tremaining: 355ms\n",
      "626:\tlearn: 0.1059818\ttotal: 595ms\tremaining: 354ms\n",
      "627:\tlearn: 0.1057011\ttotal: 596ms\tremaining: 353ms\n",
      "628:\tlearn: 0.1055046\ttotal: 597ms\tremaining: 352ms\n",
      "629:\tlearn: 0.1053826\ttotal: 597ms\tremaining: 351ms\n",
      "630:\tlearn: 0.1053617\ttotal: 598ms\tremaining: 350ms\n",
      "631:\tlearn: 0.1051909\ttotal: 599ms\tremaining: 349ms\n",
      "632:\tlearn: 0.1049908\ttotal: 600ms\tremaining: 348ms\n",
      "633:\tlearn: 0.1048015\ttotal: 601ms\tremaining: 347ms\n",
      "634:\tlearn: 0.1045508\ttotal: 601ms\tremaining: 346ms\n",
      "635:\tlearn: 0.1042711\ttotal: 602ms\tremaining: 345ms\n",
      "636:\tlearn: 0.1040491\ttotal: 603ms\tremaining: 344ms\n",
      "637:\tlearn: 0.1039217\ttotal: 604ms\tremaining: 343ms\n",
      "638:\tlearn: 0.1038107\ttotal: 605ms\tremaining: 342ms\n",
      "639:\tlearn: 0.1036212\ttotal: 605ms\tremaining: 341ms\n",
      "640:\tlearn: 0.1034506\ttotal: 606ms\tremaining: 339ms\n",
      "641:\tlearn: 0.1032551\ttotal: 607ms\tremaining: 338ms\n",
      "642:\tlearn: 0.1030885\ttotal: 608ms\tremaining: 337ms\n",
      "643:\tlearn: 0.1029208\ttotal: 609ms\tremaining: 336ms\n",
      "644:\tlearn: 0.1026993\ttotal: 609ms\tremaining: 335ms\n",
      "645:\tlearn: 0.1024563\ttotal: 610ms\tremaining: 334ms\n",
      "646:\tlearn: 0.1022650\ttotal: 611ms\tremaining: 333ms\n",
      "647:\tlearn: 0.1021278\ttotal: 612ms\tremaining: 332ms\n",
      "648:\tlearn: 0.1019645\ttotal: 613ms\tremaining: 331ms\n",
      "649:\tlearn: 0.1017714\ttotal: 613ms\tremaining: 330ms\n",
      "650:\tlearn: 0.1015629\ttotal: 614ms\tremaining: 329ms\n",
      "651:\tlearn: 0.1013853\ttotal: 615ms\tremaining: 328ms\n",
      "652:\tlearn: 0.1013056\ttotal: 616ms\tremaining: 327ms\n",
      "653:\tlearn: 0.1011314\ttotal: 617ms\tremaining: 326ms\n",
      "654:\tlearn: 0.1009880\ttotal: 618ms\tremaining: 325ms\n",
      "655:\tlearn: 0.1008471\ttotal: 618ms\tremaining: 324ms\n",
      "656:\tlearn: 0.1005987\ttotal: 619ms\tremaining: 323ms\n",
      "657:\tlearn: 0.1004822\ttotal: 620ms\tremaining: 322ms\n",
      "658:\tlearn: 0.1004161\ttotal: 621ms\tremaining: 321ms\n",
      "659:\tlearn: 0.1002050\ttotal: 622ms\tremaining: 320ms\n",
      "660:\tlearn: 0.1000473\ttotal: 623ms\tremaining: 319ms\n",
      "661:\tlearn: 0.0999240\ttotal: 624ms\tremaining: 318ms\n",
      "662:\tlearn: 0.0998678\ttotal: 624ms\tremaining: 317ms\n",
      "663:\tlearn: 0.0997225\ttotal: 625ms\tremaining: 316ms\n",
      "664:\tlearn: 0.0995819\ttotal: 626ms\tremaining: 315ms\n",
      "665:\tlearn: 0.0995125\ttotal: 627ms\tremaining: 314ms\n",
      "666:\tlearn: 0.0993774\ttotal: 628ms\tremaining: 313ms\n",
      "667:\tlearn: 0.0991924\ttotal: 628ms\tremaining: 312ms\n",
      "668:\tlearn: 0.0990542\ttotal: 629ms\tremaining: 311ms\n",
      "669:\tlearn: 0.0988832\ttotal: 630ms\tremaining: 310ms\n",
      "670:\tlearn: 0.0987376\ttotal: 631ms\tremaining: 309ms\n",
      "671:\tlearn: 0.0985931\ttotal: 632ms\tremaining: 308ms\n",
      "672:\tlearn: 0.0984329\ttotal: 633ms\tremaining: 307ms\n",
      "673:\tlearn: 0.0982729\ttotal: 634ms\tremaining: 306ms\n",
      "674:\tlearn: 0.0981529\ttotal: 634ms\tremaining: 305ms\n",
      "675:\tlearn: 0.0979820\ttotal: 635ms\tremaining: 304ms\n",
      "676:\tlearn: 0.0978820\ttotal: 636ms\tremaining: 303ms\n",
      "677:\tlearn: 0.0976651\ttotal: 637ms\tremaining: 302ms\n",
      "678:\tlearn: 0.0975433\ttotal: 637ms\tremaining: 301ms\n",
      "679:\tlearn: 0.0974337\ttotal: 638ms\tremaining: 300ms\n",
      "680:\tlearn: 0.0972795\ttotal: 639ms\tremaining: 299ms\n",
      "681:\tlearn: 0.0971013\ttotal: 640ms\tremaining: 298ms\n",
      "682:\tlearn: 0.0968998\ttotal: 641ms\tremaining: 297ms\n",
      "683:\tlearn: 0.0967714\ttotal: 642ms\tremaining: 296ms\n",
      "684:\tlearn: 0.0966413\ttotal: 642ms\tremaining: 295ms\n",
      "685:\tlearn: 0.0964443\ttotal: 643ms\tremaining: 294ms\n",
      "686:\tlearn: 0.0963224\ttotal: 644ms\tremaining: 293ms\n",
      "687:\tlearn: 0.0962475\ttotal: 645ms\tremaining: 293ms\n",
      "688:\tlearn: 0.0959914\ttotal: 646ms\tremaining: 292ms\n",
      "689:\tlearn: 0.0958214\ttotal: 647ms\tremaining: 291ms\n",
      "690:\tlearn: 0.0955951\ttotal: 648ms\tremaining: 290ms\n",
      "691:\tlearn: 0.0955255\ttotal: 648ms\tremaining: 289ms\n",
      "692:\tlearn: 0.0953987\ttotal: 649ms\tremaining: 288ms\n",
      "693:\tlearn: 0.0952894\ttotal: 650ms\tremaining: 287ms\n",
      "694:\tlearn: 0.0951486\ttotal: 651ms\tremaining: 286ms\n",
      "695:\tlearn: 0.0950032\ttotal: 651ms\tremaining: 285ms\n",
      "696:\tlearn: 0.0947510\ttotal: 652ms\tremaining: 284ms\n",
      "697:\tlearn: 0.0946410\ttotal: 653ms\tremaining: 283ms\n",
      "698:\tlearn: 0.0944304\ttotal: 654ms\tremaining: 282ms\n",
      "699:\tlearn: 0.0942761\ttotal: 655ms\tremaining: 281ms\n",
      "700:\tlearn: 0.0941242\ttotal: 656ms\tremaining: 280ms\n",
      "701:\tlearn: 0.0939009\ttotal: 657ms\tremaining: 279ms\n",
      "702:\tlearn: 0.0937200\ttotal: 657ms\tremaining: 278ms\n",
      "703:\tlearn: 0.0934990\ttotal: 658ms\tremaining: 277ms\n",
      "704:\tlearn: 0.0933172\ttotal: 659ms\tremaining: 276ms\n",
      "705:\tlearn: 0.0931792\ttotal: 660ms\tremaining: 275ms\n",
      "706:\tlearn: 0.0930480\ttotal: 661ms\tremaining: 274ms\n",
      "707:\tlearn: 0.0928332\ttotal: 661ms\tremaining: 273ms\n",
      "708:\tlearn: 0.0926915\ttotal: 662ms\tremaining: 272ms\n",
      "709:\tlearn: 0.0925671\ttotal: 663ms\tremaining: 271ms\n",
      "710:\tlearn: 0.0924343\ttotal: 664ms\tremaining: 270ms\n",
      "711:\tlearn: 0.0922645\ttotal: 665ms\tremaining: 269ms\n",
      "712:\tlearn: 0.0920815\ttotal: 666ms\tremaining: 268ms\n",
      "713:\tlearn: 0.0919445\ttotal: 666ms\tremaining: 267ms\n",
      "714:\tlearn: 0.0918702\ttotal: 667ms\tremaining: 266ms\n",
      "715:\tlearn: 0.0916914\ttotal: 668ms\tremaining: 265ms\n",
      "716:\tlearn: 0.0914617\ttotal: 669ms\tremaining: 264ms\n",
      "717:\tlearn: 0.0912956\ttotal: 670ms\tremaining: 263ms\n",
      "718:\tlearn: 0.0911044\ttotal: 670ms\tremaining: 262ms\n",
      "719:\tlearn: 0.0909506\ttotal: 671ms\tremaining: 261ms\n",
      "720:\tlearn: 0.0908392\ttotal: 672ms\tremaining: 260ms\n",
      "721:\tlearn: 0.0907871\ttotal: 673ms\tremaining: 259ms\n",
      "722:\tlearn: 0.0906332\ttotal: 674ms\tremaining: 258ms\n",
      "723:\tlearn: 0.0904264\ttotal: 675ms\tremaining: 257ms\n",
      "724:\tlearn: 0.0903040\ttotal: 676ms\tremaining: 256ms\n",
      "725:\tlearn: 0.0901120\ttotal: 676ms\tremaining: 255ms\n",
      "726:\tlearn: 0.0899508\ttotal: 677ms\tremaining: 254ms\n",
      "727:\tlearn: 0.0898529\ttotal: 678ms\tremaining: 253ms\n",
      "728:\tlearn: 0.0897352\ttotal: 679ms\tremaining: 252ms\n",
      "729:\tlearn: 0.0895818\ttotal: 680ms\tremaining: 251ms\n",
      "730:\tlearn: 0.0894443\ttotal: 680ms\tremaining: 250ms\n"
     ]
    },
    {
     "name": "stdout",
     "output_type": "stream",
     "text": [
      "731:\tlearn: 0.0892370\ttotal: 681ms\tremaining: 249ms\n",
      "732:\tlearn: 0.0890981\ttotal: 682ms\tremaining: 249ms\n",
      "733:\tlearn: 0.0889062\ttotal: 683ms\tremaining: 248ms\n",
      "734:\tlearn: 0.0888029\ttotal: 684ms\tremaining: 247ms\n",
      "735:\tlearn: 0.0887302\ttotal: 685ms\tremaining: 246ms\n",
      "736:\tlearn: 0.0884971\ttotal: 686ms\tremaining: 245ms\n",
      "737:\tlearn: 0.0883422\ttotal: 687ms\tremaining: 244ms\n",
      "738:\tlearn: 0.0881913\ttotal: 687ms\tremaining: 243ms\n",
      "739:\tlearn: 0.0879788\ttotal: 688ms\tremaining: 242ms\n",
      "740:\tlearn: 0.0878099\ttotal: 689ms\tremaining: 241ms\n",
      "741:\tlearn: 0.0877586\ttotal: 690ms\tremaining: 240ms\n",
      "742:\tlearn: 0.0877436\ttotal: 691ms\tremaining: 239ms\n",
      "743:\tlearn: 0.0875541\ttotal: 691ms\tremaining: 238ms\n",
      "744:\tlearn: 0.0874226\ttotal: 692ms\tremaining: 237ms\n",
      "745:\tlearn: 0.0874088\ttotal: 693ms\tremaining: 236ms\n",
      "746:\tlearn: 0.0873448\ttotal: 694ms\tremaining: 235ms\n",
      "747:\tlearn: 0.0871505\ttotal: 695ms\tremaining: 234ms\n",
      "748:\tlearn: 0.0869958\ttotal: 696ms\tremaining: 233ms\n",
      "749:\tlearn: 0.0868761\ttotal: 696ms\tremaining: 232ms\n",
      "750:\tlearn: 0.0867675\ttotal: 697ms\tremaining: 231ms\n",
      "751:\tlearn: 0.0867443\ttotal: 698ms\tremaining: 230ms\n",
      "752:\tlearn: 0.0865706\ttotal: 699ms\tremaining: 229ms\n",
      "753:\tlearn: 0.0863641\ttotal: 700ms\tremaining: 228ms\n",
      "754:\tlearn: 0.0862094\ttotal: 700ms\tremaining: 227ms\n",
      "755:\tlearn: 0.0860893\ttotal: 701ms\tremaining: 226ms\n",
      "756:\tlearn: 0.0859915\ttotal: 702ms\tremaining: 225ms\n",
      "757:\tlearn: 0.0858714\ttotal: 703ms\tremaining: 224ms\n",
      "758:\tlearn: 0.0858222\ttotal: 704ms\tremaining: 223ms\n",
      "759:\tlearn: 0.0856287\ttotal: 705ms\tremaining: 223ms\n",
      "760:\tlearn: 0.0855547\ttotal: 705ms\tremaining: 222ms\n",
      "761:\tlearn: 0.0854265\ttotal: 706ms\tremaining: 221ms\n",
      "762:\tlearn: 0.0852441\ttotal: 707ms\tremaining: 220ms\n",
      "763:\tlearn: 0.0850752\ttotal: 708ms\tremaining: 219ms\n",
      "764:\tlearn: 0.0849480\ttotal: 709ms\tremaining: 218ms\n",
      "765:\tlearn: 0.0848312\ttotal: 710ms\tremaining: 217ms\n",
      "766:\tlearn: 0.0846620\ttotal: 710ms\tremaining: 216ms\n",
      "767:\tlearn: 0.0845047\ttotal: 711ms\tremaining: 215ms\n",
      "768:\tlearn: 0.0844917\ttotal: 712ms\tremaining: 214ms\n",
      "769:\tlearn: 0.0843426\ttotal: 713ms\tremaining: 213ms\n",
      "770:\tlearn: 0.0842055\ttotal: 714ms\tremaining: 212ms\n",
      "771:\tlearn: 0.0840986\ttotal: 714ms\tremaining: 211ms\n",
      "772:\tlearn: 0.0839770\ttotal: 715ms\tremaining: 210ms\n",
      "773:\tlearn: 0.0838708\ttotal: 716ms\tremaining: 209ms\n",
      "774:\tlearn: 0.0837723\ttotal: 717ms\tremaining: 208ms\n",
      "775:\tlearn: 0.0836651\ttotal: 718ms\tremaining: 207ms\n",
      "776:\tlearn: 0.0835513\ttotal: 718ms\tremaining: 206ms\n",
      "777:\tlearn: 0.0834465\ttotal: 719ms\tremaining: 205ms\n",
      "778:\tlearn: 0.0832666\ttotal: 720ms\tremaining: 204ms\n",
      "779:\tlearn: 0.0831176\ttotal: 721ms\tremaining: 203ms\n",
      "780:\tlearn: 0.0829844\ttotal: 721ms\tremaining: 202ms\n",
      "781:\tlearn: 0.0829380\ttotal: 722ms\tremaining: 201ms\n",
      "782:\tlearn: 0.0827975\ttotal: 723ms\tremaining: 200ms\n",
      "783:\tlearn: 0.0827240\ttotal: 724ms\tremaining: 199ms\n",
      "784:\tlearn: 0.0826004\ttotal: 725ms\tremaining: 199ms\n",
      "785:\tlearn: 0.0824960\ttotal: 726ms\tremaining: 198ms\n",
      "786:\tlearn: 0.0824080\ttotal: 727ms\tremaining: 197ms\n",
      "787:\tlearn: 0.0823430\ttotal: 727ms\tremaining: 196ms\n",
      "788:\tlearn: 0.0822798\ttotal: 728ms\tremaining: 195ms\n",
      "789:\tlearn: 0.0821475\ttotal: 729ms\tremaining: 194ms\n",
      "790:\tlearn: 0.0819882\ttotal: 730ms\tremaining: 193ms\n",
      "791:\tlearn: 0.0819701\ttotal: 730ms\tremaining: 192ms\n",
      "792:\tlearn: 0.0819572\ttotal: 731ms\tremaining: 191ms\n",
      "793:\tlearn: 0.0818469\ttotal: 732ms\tremaining: 190ms\n",
      "794:\tlearn: 0.0816322\ttotal: 733ms\tremaining: 189ms\n",
      "795:\tlearn: 0.0815664\ttotal: 734ms\tremaining: 188ms\n",
      "796:\tlearn: 0.0813542\ttotal: 734ms\tremaining: 187ms\n",
      "797:\tlearn: 0.0813477\ttotal: 735ms\tremaining: 186ms\n",
      "798:\tlearn: 0.0812889\ttotal: 736ms\tremaining: 185ms\n",
      "799:\tlearn: 0.0811738\ttotal: 737ms\tremaining: 184ms\n",
      "800:\tlearn: 0.0811333\ttotal: 738ms\tremaining: 183ms\n",
      "801:\tlearn: 0.0810827\ttotal: 739ms\tremaining: 182ms\n",
      "802:\tlearn: 0.0810164\ttotal: 739ms\tremaining: 181ms\n",
      "803:\tlearn: 0.0809141\ttotal: 740ms\tremaining: 180ms\n",
      "804:\tlearn: 0.0807101\ttotal: 741ms\tremaining: 180ms\n",
      "805:\tlearn: 0.0806542\ttotal: 742ms\tremaining: 179ms\n",
      "806:\tlearn: 0.0805154\ttotal: 743ms\tremaining: 178ms\n",
      "807:\tlearn: 0.0804498\ttotal: 744ms\tremaining: 177ms\n",
      "808:\tlearn: 0.0803009\ttotal: 744ms\tremaining: 176ms\n",
      "809:\tlearn: 0.0800712\ttotal: 745ms\tremaining: 175ms\n",
      "810:\tlearn: 0.0799584\ttotal: 746ms\tremaining: 174ms\n",
      "811:\tlearn: 0.0798544\ttotal: 747ms\tremaining: 173ms\n",
      "812:\tlearn: 0.0797950\ttotal: 748ms\tremaining: 172ms\n",
      "813:\tlearn: 0.0797008\ttotal: 749ms\tremaining: 171ms\n",
      "814:\tlearn: 0.0796400\ttotal: 750ms\tremaining: 170ms\n",
      "815:\tlearn: 0.0796271\ttotal: 750ms\tremaining: 169ms\n",
      "816:\tlearn: 0.0796177\ttotal: 751ms\tremaining: 168ms\n",
      "817:\tlearn: 0.0795855\ttotal: 752ms\tremaining: 167ms\n",
      "818:\tlearn: 0.0794697\ttotal: 753ms\tremaining: 166ms\n",
      "819:\tlearn: 0.0793290\ttotal: 753ms\tremaining: 165ms\n",
      "820:\tlearn: 0.0792136\ttotal: 754ms\tremaining: 164ms\n",
      "821:\tlearn: 0.0790083\ttotal: 755ms\tremaining: 163ms\n",
      "822:\tlearn: 0.0789442\ttotal: 756ms\tremaining: 163ms\n",
      "823:\tlearn: 0.0788730\ttotal: 757ms\tremaining: 162ms\n",
      "824:\tlearn: 0.0787372\ttotal: 757ms\tremaining: 161ms\n",
      "825:\tlearn: 0.0785448\ttotal: 758ms\tremaining: 160ms\n",
      "826:\tlearn: 0.0784662\ttotal: 759ms\tremaining: 159ms\n",
      "827:\tlearn: 0.0783595\ttotal: 760ms\tremaining: 158ms\n",
      "828:\tlearn: 0.0782829\ttotal: 761ms\tremaining: 157ms\n",
      "829:\tlearn: 0.0781460\ttotal: 762ms\tremaining: 156ms\n",
      "830:\tlearn: 0.0780821\ttotal: 762ms\tremaining: 155ms\n"
     ]
    },
    {
     "name": "stdout",
     "output_type": "stream",
     "text": [
      "831:\tlearn: 0.0779228\ttotal: 763ms\tremaining: 154ms\n",
      "832:\tlearn: 0.0778504\ttotal: 764ms\tremaining: 153ms\n",
      "833:\tlearn: 0.0777013\ttotal: 765ms\tremaining: 152ms\n",
      "834:\tlearn: 0.0776053\ttotal: 766ms\tremaining: 151ms\n",
      "835:\tlearn: 0.0774863\ttotal: 766ms\tremaining: 150ms\n",
      "836:\tlearn: 0.0773914\ttotal: 767ms\tremaining: 149ms\n",
      "837:\tlearn: 0.0773389\ttotal: 768ms\tremaining: 148ms\n",
      "838:\tlearn: 0.0772286\ttotal: 769ms\tremaining: 148ms\n",
      "839:\tlearn: 0.0770671\ttotal: 770ms\tremaining: 147ms\n",
      "840:\tlearn: 0.0770039\ttotal: 771ms\tremaining: 146ms\n",
      "841:\tlearn: 0.0769330\ttotal: 771ms\tremaining: 145ms\n",
      "842:\tlearn: 0.0767164\ttotal: 772ms\tremaining: 144ms\n",
      "843:\tlearn: 0.0765448\ttotal: 773ms\tremaining: 143ms\n",
      "844:\tlearn: 0.0764452\ttotal: 774ms\tremaining: 142ms\n",
      "845:\tlearn: 0.0763739\ttotal: 775ms\tremaining: 141ms\n",
      "846:\tlearn: 0.0762203\ttotal: 775ms\tremaining: 140ms\n",
      "847:\tlearn: 0.0760737\ttotal: 776ms\tremaining: 139ms\n",
      "848:\tlearn: 0.0760028\ttotal: 777ms\tremaining: 138ms\n",
      "849:\tlearn: 0.0758749\ttotal: 778ms\tremaining: 137ms\n",
      "850:\tlearn: 0.0757636\ttotal: 779ms\tremaining: 136ms\n",
      "851:\tlearn: 0.0755865\ttotal: 780ms\tremaining: 135ms\n",
      "852:\tlearn: 0.0754136\ttotal: 780ms\tremaining: 134ms\n",
      "853:\tlearn: 0.0752953\ttotal: 781ms\tremaining: 134ms\n",
      "854:\tlearn: 0.0752328\ttotal: 782ms\tremaining: 133ms\n",
      "855:\tlearn: 0.0750607\ttotal: 782ms\tremaining: 132ms\n",
      "856:\tlearn: 0.0748805\ttotal: 783ms\tremaining: 131ms\n",
      "857:\tlearn: 0.0747169\ttotal: 784ms\tremaining: 130ms\n",
      "858:\tlearn: 0.0745740\ttotal: 785ms\tremaining: 129ms\n",
      "859:\tlearn: 0.0744363\ttotal: 786ms\tremaining: 128ms\n",
      "860:\tlearn: 0.0742928\ttotal: 786ms\tremaining: 127ms\n",
      "861:\tlearn: 0.0741926\ttotal: 787ms\tremaining: 126ms\n",
      "862:\tlearn: 0.0740472\ttotal: 788ms\tremaining: 125ms\n",
      "863:\tlearn: 0.0738801\ttotal: 789ms\tremaining: 124ms\n",
      "864:\tlearn: 0.0737619\ttotal: 790ms\tremaining: 123ms\n",
      "865:\tlearn: 0.0736135\ttotal: 791ms\tremaining: 122ms\n",
      "866:\tlearn: 0.0734651\ttotal: 792ms\tremaining: 121ms\n",
      "867:\tlearn: 0.0733442\ttotal: 792ms\tremaining: 120ms\n",
      "868:\tlearn: 0.0732338\ttotal: 793ms\tremaining: 120ms\n",
      "869:\tlearn: 0.0731008\ttotal: 794ms\tremaining: 119ms\n",
      "870:\tlearn: 0.0729385\ttotal: 795ms\tremaining: 118ms\n",
      "871:\tlearn: 0.0727765\ttotal: 796ms\tremaining: 117ms\n",
      "872:\tlearn: 0.0726637\ttotal: 796ms\tremaining: 116ms\n",
      "873:\tlearn: 0.0725561\ttotal: 797ms\tremaining: 115ms\n",
      "874:\tlearn: 0.0724587\ttotal: 798ms\tremaining: 114ms\n",
      "875:\tlearn: 0.0724103\ttotal: 799ms\tremaining: 113ms\n",
      "876:\tlearn: 0.0722874\ttotal: 800ms\tremaining: 112ms\n",
      "877:\tlearn: 0.0722463\ttotal: 801ms\tremaining: 111ms\n",
      "878:\tlearn: 0.0721617\ttotal: 801ms\tremaining: 110ms\n",
      "879:\tlearn: 0.0719688\ttotal: 802ms\tremaining: 109ms\n",
      "880:\tlearn: 0.0718725\ttotal: 803ms\tremaining: 108ms\n",
      "881:\tlearn: 0.0717184\ttotal: 804ms\tremaining: 108ms\n",
      "882:\tlearn: 0.0716596\ttotal: 805ms\tremaining: 107ms\n",
      "883:\tlearn: 0.0715641\ttotal: 805ms\tremaining: 106ms\n",
      "884:\tlearn: 0.0715219\ttotal: 806ms\tremaining: 105ms\n",
      "885:\tlearn: 0.0714596\ttotal: 807ms\tremaining: 104ms\n",
      "886:\tlearn: 0.0713447\ttotal: 807ms\tremaining: 103ms\n",
      "887:\tlearn: 0.0712332\ttotal: 808ms\tremaining: 102ms\n",
      "888:\tlearn: 0.0711141\ttotal: 809ms\tremaining: 101ms\n",
      "889:\tlearn: 0.0710242\ttotal: 810ms\tremaining: 100ms\n",
      "890:\tlearn: 0.0709533\ttotal: 811ms\tremaining: 99.2ms\n",
      "891:\tlearn: 0.0708504\ttotal: 812ms\tremaining: 98.3ms\n",
      "892:\tlearn: 0.0707524\ttotal: 813ms\tremaining: 97.4ms\n",
      "893:\tlearn: 0.0706009\ttotal: 814ms\tremaining: 96.5ms\n",
      "894:\tlearn: 0.0705175\ttotal: 815ms\tremaining: 95.6ms\n",
      "895:\tlearn: 0.0703808\ttotal: 815ms\tremaining: 94.6ms\n",
      "896:\tlearn: 0.0703440\ttotal: 816ms\tremaining: 93.7ms\n",
      "897:\tlearn: 0.0702354\ttotal: 817ms\tremaining: 92.8ms\n",
      "898:\tlearn: 0.0701292\ttotal: 818ms\tremaining: 91.9ms\n",
      "899:\tlearn: 0.0700317\ttotal: 819ms\tremaining: 91ms\n",
      "900:\tlearn: 0.0698856\ttotal: 819ms\tremaining: 90ms\n",
      "901:\tlearn: 0.0697245\ttotal: 820ms\tremaining: 89.1ms\n",
      "902:\tlearn: 0.0696929\ttotal: 821ms\tremaining: 88.2ms\n",
      "903:\tlearn: 0.0695961\ttotal: 822ms\tremaining: 87.3ms\n",
      "904:\tlearn: 0.0694973\ttotal: 823ms\tremaining: 86.3ms\n",
      "905:\tlearn: 0.0694129\ttotal: 823ms\tremaining: 85.4ms\n",
      "906:\tlearn: 0.0692873\ttotal: 824ms\tremaining: 84.5ms\n",
      "907:\tlearn: 0.0691042\ttotal: 825ms\tremaining: 83.6ms\n",
      "908:\tlearn: 0.0689956\ttotal: 826ms\tremaining: 82.7ms\n",
      "909:\tlearn: 0.0688489\ttotal: 827ms\tremaining: 81.8ms\n",
      "910:\tlearn: 0.0687396\ttotal: 828ms\tremaining: 80.9ms\n",
      "911:\tlearn: 0.0686490\ttotal: 828ms\tremaining: 79.9ms\n",
      "912:\tlearn: 0.0685389\ttotal: 829ms\tremaining: 79ms\n",
      "913:\tlearn: 0.0684334\ttotal: 830ms\tremaining: 78.1ms\n",
      "914:\tlearn: 0.0683316\ttotal: 831ms\tremaining: 77.2ms\n",
      "915:\tlearn: 0.0682386\ttotal: 832ms\tremaining: 76.3ms\n",
      "916:\tlearn: 0.0681799\ttotal: 832ms\tremaining: 75.3ms\n",
      "917:\tlearn: 0.0680739\ttotal: 833ms\tremaining: 74.4ms\n",
      "918:\tlearn: 0.0679486\ttotal: 834ms\tremaining: 73.5ms\n",
      "919:\tlearn: 0.0677983\ttotal: 835ms\tremaining: 72.6ms\n",
      "920:\tlearn: 0.0676577\ttotal: 836ms\tremaining: 71.7ms\n",
      "921:\tlearn: 0.0675413\ttotal: 837ms\tremaining: 70.8ms\n",
      "922:\tlearn: 0.0674857\ttotal: 837ms\tremaining: 69.9ms\n",
      "923:\tlearn: 0.0673807\ttotal: 838ms\tremaining: 68.9ms\n",
      "924:\tlearn: 0.0672737\ttotal: 839ms\tremaining: 68ms\n",
      "925:\tlearn: 0.0671432\ttotal: 841ms\tremaining: 67.2ms\n",
      "926:\tlearn: 0.0670651\ttotal: 842ms\tremaining: 66.3ms\n",
      "927:\tlearn: 0.0669731\ttotal: 842ms\tremaining: 65.4ms\n",
      "928:\tlearn: 0.0669381\ttotal: 843ms\tremaining: 64.4ms\n",
      "929:\tlearn: 0.0669090\ttotal: 844ms\tremaining: 63.5ms\n",
      "930:\tlearn: 0.0668292\ttotal: 845ms\tremaining: 62.6ms\n",
      "931:\tlearn: 0.0667077\ttotal: 845ms\tremaining: 61.7ms\n",
      "932:\tlearn: 0.0666901\ttotal: 846ms\tremaining: 60.8ms\n",
      "933:\tlearn: 0.0665937\ttotal: 847ms\tremaining: 59.9ms\n",
      "934:\tlearn: 0.0665023\ttotal: 848ms\tremaining: 59ms\n",
      "935:\tlearn: 0.0664956\ttotal: 849ms\tremaining: 58ms\n",
      "936:\tlearn: 0.0664636\ttotal: 850ms\tremaining: 57.1ms\n",
      "937:\tlearn: 0.0664178\ttotal: 850ms\tremaining: 56.2ms\n",
      "938:\tlearn: 0.0663415\ttotal: 851ms\tremaining: 55.3ms\n",
      "939:\tlearn: 0.0662256\ttotal: 852ms\tremaining: 54.4ms\n",
      "940:\tlearn: 0.0661485\ttotal: 853ms\tremaining: 53.5ms\n",
      "941:\tlearn: 0.0661414\ttotal: 854ms\tremaining: 52.6ms\n",
      "942:\tlearn: 0.0661019\ttotal: 854ms\tremaining: 51.6ms\n",
      "943:\tlearn: 0.0660363\ttotal: 855ms\tremaining: 50.7ms\n",
      "944:\tlearn: 0.0659079\ttotal: 856ms\tremaining: 49.8ms\n",
      "945:\tlearn: 0.0658167\ttotal: 857ms\tremaining: 48.9ms\n",
      "946:\tlearn: 0.0657032\ttotal: 858ms\tremaining: 48ms\n",
      "947:\tlearn: 0.0656899\ttotal: 859ms\tremaining: 47.1ms\n",
      "948:\tlearn: 0.0655590\ttotal: 859ms\tremaining: 46.2ms\n",
      "949:\tlearn: 0.0654945\ttotal: 860ms\tremaining: 45.3ms\n",
      "950:\tlearn: 0.0653904\ttotal: 861ms\tremaining: 44.4ms\n",
      "951:\tlearn: 0.0652334\ttotal: 862ms\tremaining: 43.5ms\n",
      "952:\tlearn: 0.0651873\ttotal: 863ms\tremaining: 42.5ms\n",
      "953:\tlearn: 0.0651692\ttotal: 863ms\tremaining: 41.6ms\n",
      "954:\tlearn: 0.0650450\ttotal: 864ms\tremaining: 40.7ms\n",
      "955:\tlearn: 0.0649435\ttotal: 865ms\tremaining: 39.8ms\n",
      "956:\tlearn: 0.0648283\ttotal: 866ms\tremaining: 38.9ms\n",
      "957:\tlearn: 0.0647180\ttotal: 867ms\tremaining: 38ms\n",
      "958:\tlearn: 0.0646006\ttotal: 867ms\tremaining: 37.1ms\n",
      "959:\tlearn: 0.0645115\ttotal: 868ms\tremaining: 36.2ms\n",
      "960:\tlearn: 0.0644482\ttotal: 869ms\tremaining: 35.3ms\n",
      "961:\tlearn: 0.0643683\ttotal: 870ms\tremaining: 34.4ms\n",
      "962:\tlearn: 0.0643244\ttotal: 871ms\tremaining: 33.4ms\n"
     ]
    },
    {
     "name": "stdout",
     "output_type": "stream",
     "text": [
      "963:\tlearn: 0.0643153\ttotal: 872ms\tremaining: 32.5ms\n",
      "964:\tlearn: 0.0643003\ttotal: 873ms\tremaining: 31.6ms\n",
      "965:\tlearn: 0.0641544\ttotal: 873ms\tremaining: 30.7ms\n",
      "966:\tlearn: 0.0640598\ttotal: 874ms\tremaining: 29.8ms\n",
      "967:\tlearn: 0.0639657\ttotal: 875ms\tremaining: 28.9ms\n",
      "968:\tlearn: 0.0639258\ttotal: 876ms\tremaining: 28ms\n",
      "969:\tlearn: 0.0638366\ttotal: 877ms\tremaining: 27.1ms\n",
      "970:\tlearn: 0.0637150\ttotal: 878ms\tremaining: 26.2ms\n",
      "971:\tlearn: 0.0636851\ttotal: 879ms\tremaining: 25.3ms\n",
      "972:\tlearn: 0.0635830\ttotal: 879ms\tremaining: 24.4ms\n",
      "973:\tlearn: 0.0635144\ttotal: 880ms\tremaining: 23.5ms\n",
      "974:\tlearn: 0.0633994\ttotal: 881ms\tremaining: 22.6ms\n",
      "975:\tlearn: 0.0633542\ttotal: 882ms\tremaining: 21.7ms\n",
      "976:\tlearn: 0.0632177\ttotal: 883ms\tremaining: 20.8ms\n",
      "977:\tlearn: 0.0631549\ttotal: 883ms\tremaining: 19.9ms\n",
      "978:\tlearn: 0.0630449\ttotal: 884ms\tremaining: 19ms\n",
      "979:\tlearn: 0.0629108\ttotal: 885ms\tremaining: 18.1ms\n",
      "980:\tlearn: 0.0628365\ttotal: 886ms\tremaining: 17.2ms\n",
      "981:\tlearn: 0.0628012\ttotal: 887ms\tremaining: 16.3ms\n",
      "982:\tlearn: 0.0627428\ttotal: 888ms\tremaining: 15.4ms\n",
      "983:\tlearn: 0.0626787\ttotal: 889ms\tremaining: 14.4ms\n",
      "984:\tlearn: 0.0626178\ttotal: 889ms\tremaining: 13.5ms\n",
      "985:\tlearn: 0.0625227\ttotal: 890ms\tremaining: 12.6ms\n",
      "986:\tlearn: 0.0624699\ttotal: 891ms\tremaining: 11.7ms\n",
      "987:\tlearn: 0.0624035\ttotal: 892ms\tremaining: 10.8ms\n",
      "988:\tlearn: 0.0622797\ttotal: 893ms\tremaining: 9.93ms\n",
      "989:\tlearn: 0.0621993\ttotal: 893ms\tremaining: 9.02ms\n",
      "990:\tlearn: 0.0621141\ttotal: 894ms\tremaining: 8.12ms\n",
      "991:\tlearn: 0.0620710\ttotal: 895ms\tremaining: 7.22ms\n",
      "992:\tlearn: 0.0619576\ttotal: 896ms\tremaining: 6.32ms\n",
      "993:\tlearn: 0.0619089\ttotal: 897ms\tremaining: 5.41ms\n",
      "994:\tlearn: 0.0618044\ttotal: 898ms\tremaining: 4.51ms\n",
      "995:\tlearn: 0.0617604\ttotal: 899ms\tremaining: 3.61ms\n",
      "996:\tlearn: 0.0616859\ttotal: 899ms\tremaining: 2.71ms\n",
      "997:\tlearn: 0.0616259\ttotal: 900ms\tremaining: 1.8ms\n",
      "998:\tlearn: 0.0615842\ttotal: 901ms\tremaining: 901us\n",
      "999:\tlearn: 0.0614908\ttotal: 902ms\tremaining: 0us\n"
     ]
    },
    {
     "data": {
      "text/plain": [
       "<catboost.core.CatBoostRegressor at 0x7fafa026efd0>"
      ]
     },
     "execution_count": 9,
     "metadata": {},
     "output_type": "execute_result"
    }
   ],
   "source": [
    "#Train the Model \n",
    "prior_model = ctb.CatBoostRegressor()\n",
    "prior_model.fit(X_train,Y_train)"
   ]
  },
  {
   "cell_type": "code",
   "execution_count": 10,
   "id": "af65dcda",
   "metadata": {
    "execution": {
     "iopub.execute_input": "2022-06-12T05:44:02.710680Z",
     "iopub.status.busy": "2022-06-12T05:44:02.710294Z",
     "iopub.status.idle": "2022-06-12T05:44:02.718010Z",
     "shell.execute_reply": "2022-06-12T05:44:02.718302Z"
    },
    "id": "af65dcda",
    "papermill": {
     "duration": 0.020955,
     "end_time": "2022-06-12T05:44:02.718415",
     "exception": false,
     "start_time": "2022-06-12T05:44:02.697460",
     "status": "completed"
    },
    "tags": []
   },
   "outputs": [
    {
     "data": {
      "application/scrapbook.scrap.json+json": {
       "data": 0.07938569270527343,
       "encoder": "json",
       "name": "Prior Model MSE",
       "version": 1
      }
     },
     "metadata": {
      "scrapbook": {
       "data": true,
       "display": false,
       "name": "Prior Model MSE"
      }
     },
     "output_type": "display_data"
    },
    {
     "data": {
      "application/scrapbook.scrap.json+json": {
       "data": 0.10157328033101728,
       "encoder": "json",
       "name": "ABC Pre-generator MSE",
       "version": 1
      }
     },
     "metadata": {
      "scrapbook": {
       "data": true,
       "display": false,
       "name": "ABC Pre-generator MSE"
      }
     },
     "output_type": "display_data"
    },
    {
     "data": {
      "application/scrapbook.scrap.json+json": {
       "data": 0.20925004497863947,
       "encoder": "json",
       "name": "Prior Model MSE",
       "version": 1
      }
     },
     "metadata": {
      "scrapbook": {
       "data": true,
       "display": false,
       "name": "Prior Model MSE"
      }
     },
     "output_type": "display_data"
    },
    {
     "data": {
      "application/scrapbook.scrap.json+json": {
       "data": 0.2424637810516558,
       "encoder": "json",
       "name": "ABC Pre-generator MSE",
       "version": 1
      }
     },
     "metadata": {
      "scrapbook": {
       "data": true,
       "display": false,
       "name": "ABC Pre-generator MSE"
      }
     },
     "output_type": "display_data"
    }
   ],
   "source": [
    "y_pred = prior_model.predict(X_test)\n",
    "y_abc = y_pred + np.random.normal(0,variance, y_pred.shape) + bias \n",
    "mse = mean_squared_error(y_pred,Y_test)\n",
    "sb.glue(\"Prior Model MSE\",mse)\n",
    "mse = mean_squared_error(y_abc,Y_test)\n",
    "sb.glue(\"ABC Pre-generator MSE\",mse)\n",
    "mae = mean_absolute_error(y_pred,Y_test)\n",
    "sb.glue(\"Prior Model MSE\",mae)\n",
    "mae = mean_absolute_error(y_abc,Y_test)\n",
    "sb.glue(\"ABC Pre-generator MSE\",mae)"
   ]
  },
  {
   "cell_type": "markdown",
   "id": "25609da2",
   "metadata": {
    "papermill": {
     "duration": 0.009775,
     "end_time": "2022-06-12T05:44:02.738307",
     "exception": false,
     "start_time": "2022-06-12T05:44:02.728532",
     "status": "completed"
    },
    "tags": []
   },
   "source": [
    "# ABC GAN Model"
   ]
  },
  {
   "cell_type": "code",
   "execution_count": 11,
   "id": "dfc3464d",
   "metadata": {
    "execution": {
     "iopub.execute_input": "2022-06-12T05:44:02.760636Z",
     "iopub.status.busy": "2022-06-12T05:44:02.760261Z",
     "iopub.status.idle": "2022-06-12T05:44:02.763081Z",
     "shell.execute_reply": "2022-06-12T05:44:02.763312Z"
    },
    "papermill": {
     "duration": 0.015347,
     "end_time": "2022-06-12T05:44:02.763420",
     "exception": false,
     "start_time": "2022-06-12T05:44:02.748073",
     "status": "completed"
    },
    "tags": []
   },
   "outputs": [],
   "source": [
    "gen = network.Generator(n_features+1).to(device)\n",
    "disc = network.Discriminator(n_features+1).to(device)\n",
    "\n",
    "criterion = torch.nn.BCELoss()\n",
    "gen_opt = torch.optim.Adam(gen.parameters(), lr=0.001, betas=(0.5, 0.999))\n",
    "disc_opt = torch.optim.Adam(disc.parameters(), lr=0.001, betas=(0.5, 0.999))"
   ]
  },
  {
   "cell_type": "code",
   "execution_count": 12,
   "id": "b75fdd85",
   "metadata": {
    "execution": {
     "iopub.execute_input": "2022-06-12T05:44:02.785689Z",
     "iopub.status.busy": "2022-06-12T05:44:02.785310Z",
     "iopub.status.idle": "2022-06-12T05:45:02.404286Z",
     "shell.execute_reply": "2022-06-12T05:45:02.404544Z"
    },
    "papermill": {
     "duration": 59.631416,
     "end_time": "2022-06-12T05:45:02.404683",
     "exception": false,
     "start_time": "2022-06-12T05:44:02.773267",
     "status": "completed"
    },
    "tags": []
   },
   "outputs": [
    {
     "data": {
      "image/png": "[encoded data removed]",
      "text/plain": [
       "<Figure size 432x288 with 1 Axes>"
      ]
     },
     "metadata": {
      "needs_background": "light"
     },
     "output_type": "display_data"
    },
    {
     "data": {
      "image/png": "[encoded data removed]",
      "text/plain": [
       "<Figure size 432x288 with 1 Axes>"
      ]
     },
     "metadata": {
      "needs_background": "light"
     },
     "output_type": "display_data"
    }
   ],
   "source": [
    "#Training the ABC_GAN \n",
    "ABC_train_test2.training_GAN(disc,gen,disc_opt,gen_opt,train_data,batch_size,n_epochs,criterion,prior_model,variance,bias,device)"
   ]
  },
  {
   "cell_type": "code",
   "execution_count": 13,
   "id": "1fa7c368",
   "metadata": {
    "execution": {
     "iopub.execute_input": "2022-06-12T05:45:02.429339Z",
     "iopub.status.busy": "2022-06-12T05:45:02.428952Z",
     "iopub.status.idle": "2022-06-12T05:45:02.739417Z",
     "shell.execute_reply": "2022-06-12T05:45:02.739731Z"
    },
    "papermill": {
     "duration": 0.324228,
     "end_time": "2022-06-12T05:45:02.739855",
     "exception": false,
     "start_time": "2022-06-12T05:45:02.415627",
     "status": "completed"
    },
    "tags": []
   },
   "outputs": [
    {
     "data": {
      "application/scrapbook.scrap.json+json": {
       "data": 0.0902167529781095,
       "encoder": "json",
       "name": "ABC-GAN Model 1 MSE",
       "version": 1
      }
     },
     "metadata": {
      "scrapbook": {
       "data": true,
       "display": false,
       "name": "ABC-GAN Model 1 MSE"
      }
     },
     "output_type": "display_data"
    },
    {
     "data": {
      "application/scrapbook.scrap.json+json": {
       "data": 0.2144542958616626,
       "encoder": "json",
       "name": "ABC-GAN Model 1 MAE",
       "version": 1
      }
     },
     "metadata": {
      "scrapbook": {
       "data": true,
       "display": false,
       "name": "ABC-GAN Model 1 MAE"
      }
     },
     "output_type": "display_data"
    },
    {
     "data": {
      "application/scrapbook.scrap.json+json": {
       "data": 21.874338177889584,
       "encoder": "json",
       "name": "ABC-GAN Model 1 Manhattan Distance",
       "version": 1
      }
     },
     "metadata": {
      "scrapbook": {
       "data": true,
       "display": false,
       "name": "ABC-GAN Model 1 Manhattan Distance"
      }
     },
     "output_type": "display_data"
    },
    {
     "data": {
      "application/scrapbook.scrap.json+json": {
       "data": 3.03275160002614,
       "encoder": "json",
       "name": "ABC-GAN Model 1 Euclidean distance",
       "version": 1
      }
     },
     "metadata": {
      "scrapbook": {
       "data": true,
       "display": false,
       "name": "ABC-GAN Model 1 Euclidean distance"
      }
     },
     "output_type": "display_data"
    },
    {
     "data": {
      "application/scrapbook.scrap.json+json": {
       "data": [
        [
         0.09319110498395272,
         0.0830946167784443,
         0.09201658888954367,
         0.10231625432430355,
         0.0868465692888467,
         0.08785983121386323,
         0.09165592802834659,
         0.08933764560250915,
         0.08800549994929806,
         0.09171620204134362,
         0.09145369158969548,
         0.09524635028195462,
         0.08977171436025606,
         0.08598452347867817,
         0.09719755958578925,
         0.09087437955533377,
         0.08818411071067395,
         0.08444558509893889,
         0.09232973244010738,
         0.09534280080444772,
         0.08579434492439852,
         0.0882292413215358,
         0.08088099769828476,
         0.08084164347068064,
         0.08959993724532889,
         0.09336490827287275,
         0.08516155485109805,
         0.09505212402286484,
         0.08918821185310125,
         0.08901632494925718,
         0.08567727849518858,
         0.09488608819947475,
         0.09415345509443285,
         0.09251030228995805,
         0.08949161907123676,
         0.0928973065262505,
         0.09766380942747425,
         0.09058125317816902,
         0.09053010439210314,
         0.08455152923404927,
         0.0882229172831739,
         0.09199903759815659,
         0.09299246416104122,
         0.08786552720976851,
         0.08902544368318267,
         0.0986508516495249,
         0.08535749497123213,
         0.08614786586639653,
         0.08785130759477297,
         0.09132871875241008,
         0.08932441623569641,
         0.08838324683233864,
         0.0848860687123315,
         0.09287301595559083,
         0.0882011383692458,
         0.09212248516267224,
         0.09029387817355705,
         0.09009759370898107,
         0.08982234162108635,
         0.08897314976375262,
         0.09511074935967109,
         0.09657752137214536,
         0.08953249037723335,
         0.08573853798171993,
         0.09524972445758123,
         0.09257974368896964,
         0.08457682608198751,
         0.08741418921762246,
         0.08997733556624986,
         0.08622116124146384,
         0.0840649775406406,
         0.09441842502916892,
         0.09252562294749181,
         0.08994531291034874,
         0.08689682665110884,
         0.08843196846766017,
         0.0965838232024601,
         0.0898950228636949,
         0.09413813365085819,
         0.0946407565965034,
         0.09023923483843356,
         0.09206022967007436,
         0.08426735298983645,
         0.0841688119946216,
         0.09108624658464685,
         0.08386905020984692,
         0.09261311005837068,
         0.09114586105800257,
         0.09005208816089448,
         0.08945548426000349,
         0.08527342841677578,
         0.09606112878240872,
         0.08642165672193813,
         0.0905158918675436,
         0.09556257715841208,
         0.0950488541540537,
         0.09266681607720371,
         0.08892646937422173,
         0.09301433951891384,
         0.093345829881169
        ],
        [
         0.2198944237612772,
         0.20420788561779202,
         0.21698644257826255,
         0.22698663340370154,
         0.21379496724180438,
         0.20957060864049137,
         0.22120420580875932,
         0.21524948339142344,
         0.20897276757065864,
         0.21328406398385472,
         0.2134030377035778,
         0.21438740695114522,
         0.2105247828032018,
         0.207233339027666,
         0.22242119124013127,
         0.21878937782500596,
         0.2179478450459154,
         0.20844651230008288,
         0.21578911705599987,
         0.22580760619694404,
         0.21186327641172445,
         0.2117539419171711,
         0.20079178689047694,
         0.20487091629126786,
         0.21665176695358812,
         0.21818861727803654,
         0.2087513208845813,
         0.2231573941386944,
         0.21728299854907626,
         0.21478752796446868,
         0.2119854790085525,
         0.21620322600481848,
         0.21585851481330454,
         0.21688770689983286,
         0.21944510999738293,
         0.2161167069411307,
         0.2191402434152277,
         0.21739342922856117,
         0.21428717138683973,
         0.20862471669291457,
         0.21698412880776266,
         0.21860279826739548,
         0.21645740402278071,
         0.21193546033920904,
         0.21238822985769196,
         0.21969384332096167,
         0.20909189563427194,
         0.20572576530314252,
         0.21195360759784485,
         0.2146341389903397,
         0.21095814085656814,
         0.21339947782347307,
         0.21216653080145811,
         0.21062583860703835,
         0.21292405784604887,
         0.2163626091171275,
         0.21801755633022563,
         0.2152195254103372,
         0.2107132155831684,
         0.21265755393816269,
         0.21886769328814218,
         0.21811735108677371,
         0.2168978586080758,
         0.20880785304139934,
         0.2224483724920919,
         0.21835373989397697,
         0.20926158266215056,
         0.2069244179418128,
         0.21521070063588957,
         0.20967271251092648,
         0.2099478453416012,
         0.2189311032073901,
         0.21626807901752637,
         0.2185742578140515,
         0.2120955766763027,
         0.20968900808114924,
         0.2208910015886467,
         0.21081658157830438,
         0.2197575439772039,
         0.218941838106177,
         0.2161047195413095,
         0.21640931950955122,
         0.21386048509100197,
         0.20517110493143692,
         0.21248870676237286,
         0.20568026769358447,
         0.21560387018447122,
         0.2130211332867689,
         0.22451275379816985,
         0.21354269067409867,
         0.20972373423294402,
         0.21717942817428826,
         0.20378846511719564,
         0.21485365077159277,
         0.21873769818750374,
         0.2182996954275843,
         0.2147819025569833,
         0.21639806358143687,
         0.22054878378506093,
         0.21479266703895786
        ],
        [
         22.429231223650277,
         20.829204333014786,
         22.13261714298278,
         23.152636607177556,
         21.807086658664048,
         21.37620208133012,
         22.56282899249345,
         21.95544730592519,
         21.31522229220718,
         21.75497452635318,
         21.767109845764935,
         21.867515509016812,
         21.473527845926583,
         21.13780058082193,
         22.68696150649339,
         22.31651653815061,
         22.230680194683373,
         21.261544254608452,
         22.010489939711988,
         23.03237583208829,
         21.610054193995893,
         21.59890207555145,
         20.480762262828648,
         20.89683346170932,
         22.098480229265988,
         22.255238962359726,
         21.29263473022729,
         22.762054202146828,
         22.16286585200578,
         21.908327852375805,
         21.622518858872354,
         22.052729052491486,
         22.017568510957062,
         22.122546103782952,
         22.38340121973306,
         22.04390410799533,
         22.352304828353226,
         22.17412978131324,
         21.85729148145765,
         21.279721102677286,
         22.132381138391793,
         22.29748542327434,
         22.07865521032363,
         21.61741695459932,
         21.66359944548458,
         22.40877201873809,
         21.327373354695737,
         20.984028060920537,
         21.619267974980175,
         21.89268217701465,
         21.51773036736995,
         21.766746737994254,
         21.640986141748726,
         21.483835537917912,
         21.718253900296986,
         22.068986129947007,
         22.237790745683014,
         21.952391591854393,
         21.492747989483178,
         21.691070501692593,
         22.324504715390503,
         22.24796981085092,
         22.12358157802373,
         21.298401010222733,
         22.689733994193375,
         22.27208146918565,
         21.344681431539357,
         21.106290630064905,
         21.951491464860737,
         21.3866166761145,
         21.414680224843323,
         22.33097252715379,
         22.05934405978769,
         22.29457429703325,
         21.633748820982873,
         21.388278824277222,
         22.530882162041962,
         21.503291320987046,
         22.4152694856748,
         22.332067486830056,
         22.04268139321357,
         22.073750589974225,
         21.8137694792822,
         20.927452703006566,
         21.673848089762032,
         20.979387304745615,
         21.991594758816063,
         21.728155595250428,
         22.900300887413323,
         21.781354448758066,
         21.39182089176029,
         22.1523016737774,
         20.786423441953957,
         21.91507237870246,
         22.311245215125382,
         22.2665689336136,
         21.907754060812294,
         22.07260248530656,
         22.495975946076214,
         21.908852037973702
        ],
        [
         3.08309790768363,
         2.9112971183651655,
         3.0636076881241596,
         3.2305197633010945,
         2.9762980474848897,
         2.9936103259799944,
         3.0575978576149203,
         3.01868180692433,
         2.996090952362495,
         3.0586030484875035,
         3.0542227394459855,
         3.1169099648144107,
         3.026006421795254,
         2.961489725598449,
         3.1486744953631685,
         3.0445339076193663,
         2.9991297558606465,
         2.934867915271788,
         3.0688161738512374,
         3.118487723569497,
         2.9582128358670627,
         2.9998971007013973,
         2.8722572595826175,
         2.871558398154115,
         3.023109921756658,
         3.085971588306189,
         2.947283256630078,
         3.1137303432269485,
         3.016156098250939,
         3.013248271355056,
         2.9561939054313124,
         3.1110096425993965,
         3.098976027598818,
         3.071815559823819,
         3.0212820366966984,
         3.078234114825828,
         3.156217445234465,
         3.0396196841337306,
         3.038761367398652,
         2.936708358327913,
         2.999789586434978,
         3.063315497139002,
         3.0798102773427787,
         2.99370736301937,
         3.0134026043137068,
         3.172126553000611,
         2.950671870450131,
         2.964301320441707,
         2.993465111650183,
         3.0521352055152846,
         3.018458291254168,
         3.0025141426642006,
         2.9425123633823205,
         3.0778316437827247,
         2.999419296074337,
         3.065370040727966,
         3.0347941567267482,
         3.0314937833213627,
         3.026859568158194,
         3.012517431634673,
         3.1146904235712496,
         3.1386154877523347,
         3.021971875858179,
         2.957250559918019,
         3.116965173798592,
         3.0729682484976806,
         2.9371476402051577,
         2.9860085901077866,
         3.029469958219999,
         2.965562079375394,
         2.928246524653507,
         3.103333587124534,
         3.0720699114187107,
         3.0289308207444368,
         2.9771591019650097,
         3.0033416028985678,
         3.1387178858016105,
         3.0280839374259223,
         3.098723871594166,
         3.1069852225016046,
         3.033875731390497,
         3.0643340918293456,
         2.9317690913445618,
         2.9300544062271956,
         3.0480808965042216,
         2.9248321526891736,
         3.073521957942356,
         3.049078193145637,
         3.030728129082388,
         3.0206720104176084,
         2.9492184894495574,
         3.1302132732140935,
         2.9690080811000987,
         3.0385228270476174,
         3.122079894903081,
         3.113676785363805,
         3.074412991104932,
         3.011727058710769,
         3.0801725001904052,
         3.0856562750700602
        ]
       ],
       "encoder": "json",
       "name": "ABC_GAN_1 Metrics",
       "version": 1
      }
     },
     "metadata": {
      "scrapbook": {
       "data": true,
       "display": false,
       "name": "ABC_GAN_1 Metrics"
      }
     },
     "output_type": "display_data"
    },
    {
     "name": "stdout",
     "output_type": "stream",
     "text": [
      "MSE\n",
      "0.0902167529781095\n"
     ]
    }
   ],
   "source": [
    "ABC_GAN1_metrics=ABC_train_test2.test_generator(gen,test_data,prior_model,variance,bias,\"1\",device)\n",
    "sb.glue(\"ABC_GAN_1 Metrics\",ABC_GAN1_metrics)\n",
    "\n",
    "print(\"MSE\")\n",
    "print(mean(ABC_GAN1_metrics[0]))"
   ]
  },
  {
   "cell_type": "code",
   "execution_count": 14,
   "id": "eb22ce5c",
   "metadata": {
    "execution": {
     "iopub.execute_input": "2022-06-12T05:45:02.767327Z",
     "iopub.status.busy": "2022-06-12T05:45:02.766959Z",
     "iopub.status.idle": "2022-06-12T05:45:03.087336Z",
     "shell.execute_reply": "2022-06-12T05:45:03.087634Z"
    },
    "papermill": {
     "duration": 0.33523,
     "end_time": "2022-06-12T05:45:03.087754",
     "exception": false,
     "start_time": "2022-06-12T05:45:02.752524",
     "status": "completed"
    },
    "tags": []
   },
   "outputs": [
    {
     "data": {
      "image/png": "[encoded data removed]",
      "text/plain": [
       "<Figure size 432x288 with 1 Axes>"
      ]
     },
     "metadata": {
      "needs_background": "light"
     },
     "output_type": "display_data"
    },
    {
     "data": {
      "image/png": "[encoded data removed]",
      "text/plain": [
       "<Figure size 432x288 with 1 Axes>"
      ]
     },
     "metadata": {
      "needs_background": "light"
     },
     "output_type": "display_data"
    },
    {
     "data": {
      "image/png": "[encoded data removed]",
      "text/plain": [
       "<Figure size 432x288 with 1 Axes>"
      ]
     },
     "metadata": {
      "needs_background": "light"
     },
     "output_type": "display_data"
    },
    {
     "data": {
      "image/png": "[encoded data removed]",
      "text/plain": [
       "<Figure size 432x288 with 1 Axes>"
      ]
     },
     "metadata": {
      "needs_background": "light"
     },
     "output_type": "display_data"
    }
   ],
   "source": [
    "sanityChecks.discProbVsError(train_data,disc,device)\n",
    "sanityChecks.discProbVsError(test_data,disc,device)"
   ]
  },
  {
   "cell_type": "markdown",
   "id": "130f3a4d",
   "metadata": {
    "id": "130f3a4d",
    "papermill": {
     "duration": 0.014441,
     "end_time": "2022-06-12T05:45:03.117126",
     "exception": false,
     "start_time": "2022-06-12T05:45:03.102685",
     "status": "completed"
    },
    "tags": []
   },
   "source": [
    "# ABC - GAN Model with skip connection"
   ]
  },
  {
   "cell_type": "code",
   "execution_count": 15,
   "id": "4e43dad1",
   "metadata": {
    "execution": {
     "iopub.execute_input": "2022-06-12T05:45:03.149831Z",
     "iopub.status.busy": "2022-06-12T05:45:03.149431Z",
     "iopub.status.idle": "2022-06-12T05:45:03.151838Z",
     "shell.execute_reply": "2022-06-12T05:45:03.152082Z"
    },
    "id": "4e43dad1",
    "papermill": {
     "duration": 0.020517,
     "end_time": "2022-06-12T05:45:03.152192",
     "exception": false,
     "start_time": "2022-06-12T05:45:03.131675",
     "status": "completed"
    },
    "tags": []
   },
   "outputs": [],
   "source": [
    "#Generator\n",
    "gen3 = network.GeneratorWithSkipConnection(n_features+1).to(device)\n",
    "constraints=network.weightConstraint()\n",
    "#Discriminator \n",
    "disc3 = network.Discriminator(n_features+1).to(device)\n",
    "\n",
    "criterion = torch.nn.BCELoss()\n",
    "gen_opt = torch.optim.Adam(gen3.parameters(), lr=0.001, betas=(0.5, 0.999))\n",
    "disc_opt = torch.optim.Adam(disc3.parameters(), lr=0.001, betas=(0.5, 0.999))\n"
   ]
  },
  {
   "cell_type": "code",
   "execution_count": 16,
   "id": "26acbc37",
   "metadata": {
    "execution": {
     "iopub.execute_input": "2022-06-12T05:45:03.183717Z",
     "iopub.status.busy": "2022-06-12T05:45:03.183348Z",
     "iopub.status.idle": "2022-06-12T05:47:55.865821Z",
     "shell.execute_reply": "2022-06-12T05:47:55.866146Z"
    },
    "id": "26acbc37",
    "papermill": {
     "duration": 172.699475,
     "end_time": "2022-06-12T05:47:55.866269",
     "exception": false,
     "start_time": "2022-06-12T05:45:03.166794",
     "status": "completed"
    },
    "tags": []
   },
   "outputs": [
    {
     "data": {
      "image/png": "[encoded data removed]",
      "text/plain": [
       "<Figure size 432x288 with 1 Axes>"
      ]
     },
     "metadata": {
      "needs_background": "light"
     },
     "output_type": "display_data"
    },
    {
     "data": {
      "image/png": "[encoded data removed]",
      "text/plain": [
       "<Figure size 432x288 with 1 Axes>"
      ]
     },
     "metadata": {
      "needs_background": "light"
     },
     "output_type": "display_data"
    }
   ],
   "source": [
    "ABC_train_test2.training_GAN_skip_connection(disc3,gen3,disc_opt,gen_opt,train_data,batch_size,n_epochs,criterion,prior_model,variance,bias,device)"
   ]
  },
  {
   "cell_type": "code",
   "execution_count": 17,
   "id": "c5e0717b",
   "metadata": {
    "execution": {
     "iopub.execute_input": "2022-06-12T05:47:55.899900Z",
     "iopub.status.busy": "2022-06-12T05:47:55.899533Z",
     "iopub.status.idle": "2022-06-12T05:47:56.734150Z",
     "shell.execute_reply": "2022-06-12T05:47:56.734457Z"
    },
    "id": "c5e0717b",
    "papermill": {
     "duration": 0.852657,
     "end_time": "2022-06-12T05:47:56.734588",
     "exception": false,
     "start_time": "2022-06-12T05:47:55.881931",
     "status": "completed"
    },
    "tags": []
   },
   "outputs": [
    {
     "data": {
      "application/scrapbook.scrap.json+json": {
       "data": 103.57788210193574,
       "encoder": "json",
       "name": "ABC-GAN Model 3 MSE",
       "version": 1
      }
     },
     "metadata": {
      "scrapbook": {
       "data": true,
       "display": false,
       "name": "ABC-GAN Model 3 MSE"
      }
     },
     "output_type": "display_data"
    },
    {
     "data": {
      "application/scrapbook.scrap.json+json": {
       "data": 9.672893474195883,
       "encoder": "json",
       "name": "ABC-GAN Model 3 MAE",
       "version": 1
      }
     },
     "metadata": {
      "scrapbook": {
       "data": true,
       "display": false,
       "name": "ABC-GAN Model 3 MAE"
      }
     },
     "output_type": "display_data"
    },
    {
     "data": {
      "application/scrapbook.scrap.json+json": {
       "data": 986.6351343679801,
       "encoder": "json",
       "name": "ABC-GAN Model 3 Manhattan Distance",
       "version": 1
      }
     },
     "metadata": {
      "scrapbook": {
       "data": true,
       "display": false,
       "name": "ABC-GAN Model 3 Manhattan Distance"
      }
     },
     "output_type": "display_data"
    },
    {
     "data": {
      "application/scrapbook.scrap.json+json": {
       "data": 102.78576284990497,
       "encoder": "json",
       "name": "ABC-GAN Model 3 Euclidean distance",
       "version": 1
      }
     },
     "metadata": {
      "scrapbook": {
       "data": true,
       "display": false,
       "name": "ABC-GAN Model 3 Euclidean distance"
      }
     },
     "output_type": "display_data"
    },
    {
     "data": {
      "application/scrapbook.scrap.json+json": {
       "data": [
        [
         104.07279929585953,
         103.57941642643884,
         103.4019025097495,
         103.23062541173651,
         103.88033253539226,
         103.49691302428381,
         103.55542189966398,
         103.56264267727167,
         103.49805545044258,
         103.24240185943121,
         103.57538075615712,
         103.49178954376366,
         103.57272882240731,
         102.67291520632743,
         103.33156946880307,
         104.10982243732653,
         103.55717489940113,
         103.52948986912256,
         103.52946349878864,
         103.41294274404551,
         103.56742908542148,
         103.84724282714876,
         103.47943603536832,
         103.09725008459421,
         103.55725886334425,
         103.96460463209922,
         103.32680620169693,
         103.81563561624026,
         103.82785870720005,
         103.92869345081321,
         104.11286104711576,
         103.34561716883637,
         103.43397551970618,
         103.76685859583883,
         103.18558574970382,
         103.50625395398777,
         103.04583492025687,
         104.02857215909866,
         102.6196609304181,
         104.02921733348299,
         103.40943756675404,
         103.60838283387761,
         103.74922818311187,
         104.20442336586432,
         103.84213349852241,
         103.6353651920695,
         103.73079194679015,
         103.83488604545445,
         102.83257241764083,
         103.78930735072834,
         103.64682279529258,
         103.31064673080826,
         103.04946632938419,
         103.74089265958312,
         103.46872057511258,
         103.94741101272454,
         103.9064818798947,
         104.1087534769037,
         102.98837367000336,
         103.4144066146197,
         102.67798120015574,
         102.99413854879843,
         103.20850099813131,
         103.98314698954914,
         103.59858869534658,
         103.80268584668774,
         103.85763073619968,
         103.98406682488962,
         103.67255529557825,
         103.91662100744729,
         103.55126687205025,
         103.9191278829793,
         103.82580429074969,
         103.49524902676919,
         103.52013827841839,
         103.26546551987134,
         103.99612133501013,
         103.36490264061075,
         103.77238562053283,
         104.09239015373056,
         103.22652314695878,
         103.95453827607629,
         103.38032425390318,
         103.95755805952354,
         103.54824981569772,
         103.7966013718798,
         104.10310642169533,
         103.14665961235671,
         103.32624740991943,
         103.55457328211676,
         103.66345294679739,
         103.680629929748,
         103.90662793384104,
         103.26459743942644,
         103.73405271664866,
         103.12313715642983,
         103.80846286855308,
         103.72385655074454,
         103.80724345450017,
         102.57405441932588
        ],
        [
         9.695290695592835,
         9.673217903539612,
         9.665386979860783,
         9.660381746432726,
         9.67807669186161,
         9.663994063723687,
         9.677659875411978,
         9.672731777406572,
         9.670576786668057,
         9.662708005858768,
         9.675211176358383,
         9.671306296096494,
         9.678776875804818,
         9.636588100499162,
         9.659963088082698,
         9.687228398370173,
         9.668440116761143,
         9.678113328849934,
         9.66693320849399,
         9.672186528140788,
         9.671808863761743,
         9.673472758976049,
         9.666294073731656,
         9.646827696959543,
         9.664843694042123,
         9.697101442627243,
         9.654088659988096,
         9.67656499652338,
         9.684960439299033,
         9.699442937467978,
         9.692764468427162,
         9.663798149099902,
         9.664219444078922,
         9.676076916292967,
         9.663797452543662,
         9.668882018585196,
         9.645891478623026,
         9.699121161208799,
         9.632536410491037,
         9.696426601176533,
         9.669025887835625,
         9.676526307265329,
         9.67686123394535,
         9.70157951387741,
         9.677343774449957,
         9.679480458381494,
         9.679463932701552,
         9.695698218392756,
         9.639819696043418,
         9.686450747088255,
         9.672395854978365,
         9.671823496117677,
         9.642737238220505,
         9.675171257608442,
         9.667464535984704,
         9.694564827891321,
         9.688098789804487,
         9.702019101638784,
         9.647801403111467,
         9.669272590291632,
         9.628625036829023,
         9.63981690514358,
         9.656230949093679,
         9.686051480115994,
         9.672525428463796,
         9.673122260290398,
         9.694374794259156,
         9.691516585584145,
         9.671879099070223,
         9.679937338502164,
         9.672862930999448,
         9.692664257825955,
         9.68364754765678,
         9.669273777709654,
         9.676553136367788,
         9.64997758972915,
         9.690321080030545,
         9.665701351119388,
         9.681487690374329,
         9.694367431332449,
         9.663498601867069,
         9.689459145443477,
         9.660743399367979,
         9.689147167720412,
         9.664486234468937,
         9.68194196191525,
         9.700990115100627,
         9.652673538199023,
         9.664220304255757,
         9.676303675736063,
         9.679413210317566,
         9.67346028641195,
         9.686526779240618,
         9.651405670269227,
         9.686125057959455,
         9.654870513981828,
         9.689288839780014,
         9.674232285771081,
         9.677915848143325,
         9.634417939794195
        ],
        [
         988.9196509504691,
         986.6682261610404,
         985.8694719457999,
         985.358938136138,
         987.1638225698844,
         985.727394499816,
         987.1213072920218,
         986.6186412954703,
         986.3988322401419,
         985.5962165975943,
         986.871539988555,
         986.4732422018424,
         987.2352413320914,
         982.9319862509146,
         985.3162349844351,
         988.0972966337577,
         986.1808919096366,
         987.1675595426932,
         986.027187266387,
         986.5630258703604,
         986.5245041036978,
         986.694221415557,
         985.961995520629,
         983.9764250898734,
         985.8140567922965,
         989.1043471479788,
         984.7170433187857,
         987.0096296453848,
         987.8659648085013,
         989.3431796217337,
         988.6619757795706,
         985.70741120819,
         985.7503832960501,
         986.9598454618827,
         985.7073401594535,
         986.22596589569,
         983.8809308195487,
         989.3103584432974,
         982.5187138700858,
         989.0355133200064,
         986.2406405592337,
         987.0056833410636,
         987.0398458624259,
         989.5611104154959,
         987.0890649938956,
         987.3070067549124,
         987.3053211355582,
         988.9612182760611,
         983.2616089964285,
         988.017976203002,
         986.5843772077933,
         986.525996604003,
         983.5591982984915,
         986.8674682760611,
         986.0813826704398,
         988.8456124449149,
         988.1860765600577,
         989.6059483671561,
         984.0757431173697,
         986.2658042097464,
         982.1197537565604,
         983.2613243246451,
         984.9355568075553,
         987.9772509718314,
         986.5975937033072,
         986.6584705496207,
         988.8262290144339,
         988.5346917295828,
         986.5316681051627,
         987.3536085272208,
         986.6320189619437,
         988.6517542982474,
         987.7320498609915,
         986.2659253263846,
         987.0084199095145,
         984.2977141523734,
         988.4127501631156,
         985.9015378141776,
         987.5117444181815,
         988.8254779959098,
         985.676857390441,
         988.3248328352347,
         985.3958267355338,
         988.293011107482,
         985.7775959158316,
         987.5580801153556,
         989.500991740264,
         984.5727008963004,
         985.7504710340872,
         986.9829749250785,
         987.3001474523917,
         986.6929492140189,
         988.025731482543,
         984.4433783674613,
         987.9847559118643,
         984.7967924261466,
         988.3074616575614,
         986.7716931486502,
         987.1474165106192,
         982.7106298590079
        ],
        [
         103.03118716280848,
         102.78667460082931,
         102.69855917194968,
         102.61346788797819,
         102.93587284620466,
         102.74573046349391,
         102.77476846855815,
         102.77835157795495,
         102.74629752913306,
         102.6193207425482,
         102.78467218962187,
         102.74318728491873,
         102.78335633693591,
         102.33590450592301,
         102.66362591403984,
         103.04951183099952,
         102.77563835724355,
         102.76189939199499,
         102.76188630458493,
         102.70404159473298,
         102.78072663059447,
         102.91947710889899,
         102.7370550269355,
         102.54715748682949,
         102.7756800223726,
         102.97761733733269,
         102.66125964828744,
         102.90381350006669,
         102.90987118898947,
         102.95983067188367,
         103.05101565150055,
         102.6706041241665,
         102.71448536117015,
         102.87963635615927,
         102.59108024808882,
         102.75036692541177,
         102.52158388293759,
         103.00929259163014,
         102.30936132584667,
         103.0096120175941,
         102.70230100542496,
         102.80104595312012,
         102.87089614987033,
         103.0963199310148,
         102.91694523667755,
         102.81443113489028,
         102.86175566542015,
         102.91335373330496,
         102.41544017675929,
         102.89076416167921,
         102.82011439946879,
         102.65323164198217,
         102.52339033409493,
         102.86676358901097,
         102.73173559646251,
         102.969101789313,
         102.94882783086585,
         103.04898279286495,
         102.49299544037314,
         102.70476850999282,
         102.33842915745718,
         102.49586397497919,
         102.60247122662005,
         102.98680009075929,
         102.79618692794665,
         102.89739528463367,
         102.92462453219038,
         102.98725560057784,
         102.83287723364052,
         102.9538505484842,
         102.77270659542411,
         102.95509236586547,
         102.90885305772515,
         102.74490450007954,
         102.7572581592107,
         102.63078233662101,
         102.993224904219,
         102.68018343060308,
         102.88237620357701,
         103.04088409791775,
         102.61142899789377,
         102.97263182108041,
         102.68784287294247,
         102.97412744020413,
         102.77120939835808,
         102.8943795351901,
         103.04618796934183,
         102.57172749086557,
         102.66098205166259,
         102.77434735757706,
         102.82836282161327,
         102.83688177319603,
         102.94890018476052,
         102.63035096316051,
         102.86337237859824,
         102.5600311522761,
         102.90025856426415,
         102.85831696161445,
         102.89965418969598,
         102.28662449592927
        ]
       ],
       "encoder": "json",
       "name": "ABC_GAN_3 Metrics",
       "version": 1
      }
     },
     "metadata": {
      "scrapbook": {
       "data": true,
       "display": false,
       "name": "ABC_GAN_3 Metrics"
      }
     },
     "output_type": "display_data"
    },
    {
     "name": "stdout",
     "output_type": "stream",
     "text": [
      "MSE\n",
      "103.57788210193574\n"
     ]
    }
   ],
   "source": [
    "ABC_GAN3_metrics=ABC_train_test2.test_generator(gen3,test_data,prior_model,variance,bias,\"3\",device)\n",
    "sb.glue(\"ABC_GAN_3 Metrics\",ABC_GAN3_metrics)\n",
    "\n",
    "print(\"MSE\")\n",
    "print(mean(ABC_GAN3_metrics[0]))"
   ]
  },
  {
   "cell_type": "code",
   "execution_count": 18,
   "id": "c8e46b48",
   "metadata": {
    "execution": {
     "iopub.execute_input": "2022-06-12T05:47:56.771883Z",
     "iopub.status.busy": "2022-06-12T05:47:56.771504Z",
     "iopub.status.idle": "2022-06-12T05:47:57.100040Z",
     "shell.execute_reply": "2022-06-12T05:47:57.100391Z"
    },
    "id": "c8e46b48",
    "papermill": {
     "duration": 0.348409,
     "end_time": "2022-06-12T05:47:57.100511",
     "exception": false,
     "start_time": "2022-06-12T05:47:56.752102",
     "status": "completed"
    },
    "tags": []
   },
   "outputs": [
    {
     "data": {
      "image/png": "[encoded data removed]",
      "text/plain": [
       "<Figure size 432x288 with 1 Axes>"
      ]
     },
     "metadata": {
      "needs_background": "light"
     },
     "output_type": "display_data"
    },
    {
     "data": {
      "image/png": "[encoded data removed]",
      "text/plain": [
       "<Figure size 432x288 with 1 Axes>"
      ]
     },
     "metadata": {
      "needs_background": "light"
     },
     "output_type": "display_data"
    },
    {
     "data": {
      "image/png": "[encoded data removed]",
      "text/plain": [
       "<Figure size 432x288 with 1 Axes>"
      ]
     },
     "metadata": {
      "needs_background": "light"
     },
     "output_type": "display_data"
    },
    {
     "data": {
      "image/png": "[encoded data removed]",
      "text/plain": [
       "<Figure size 432x288 with 1 Axes>"
      ]
     },
     "metadata": {
      "needs_background": "light"
     },
     "output_type": "display_data"
    }
   ],
   "source": [
    "sanityChecks.discProbVsError(train_data,disc3,device)\n",
    "sanityChecks.discProbVsError(test_data,disc3,device)"
   ]
  },
  {
   "cell_type": "markdown",
   "id": "a5bd74c3",
   "metadata": {
    "id": "a5bd74c3",
    "papermill": {
     "duration": 0.019095,
     "end_time": "2022-06-12T05:47:57.139026",
     "exception": false,
     "start_time": "2022-06-12T05:47:57.119931",
     "status": "completed"
    },
    "tags": []
   },
   "source": [
    "## Skip Connection Model Analysis - ABC-GAN "
   ]
  },
  {
   "cell_type": "markdown",
   "id": "5744a8bf",
   "metadata": {
    "id": "5744a8bf",
    "papermill": {
     "duration": 0.018799,
     "end_time": "2022-06-12T05:47:57.176786",
     "exception": false,
     "start_time": "2022-06-12T05:47:57.157987",
     "status": "completed"
    },
    "tags": []
   },
   "source": [
    "### Weight Analysis \n",
    "\n",
    "Study the weights of the skip connection layer\n",
    "\n",
    "Equation of the skip connection is \n",
    "\n",
    "$output = y_{gan} * w + y_{abc} * (1-w)$"
   ]
  },
  {
   "cell_type": "code",
   "execution_count": 19,
   "id": "52c31dea",
   "metadata": {
    "execution": {
     "iopub.execute_input": "2022-06-12T05:47:57.217358Z",
     "iopub.status.busy": "2022-06-12T05:47:57.216972Z",
     "iopub.status.idle": "2022-06-12T05:47:57.220298Z",
     "shell.execute_reply": "2022-06-12T05:47:57.220549Z"
    },
    "id": "52c31dea",
    "papermill": {
     "duration": 0.025003,
     "end_time": "2022-06-12T05:47:57.220676",
     "exception": false,
     "start_time": "2022-06-12T05:47:57.195673",
     "status": "completed"
    },
    "tags": []
   },
   "outputs": [
    {
     "name": "stdout",
     "output_type": "stream",
     "text": [
      "Weight of the node at skip connection\n",
      "Parameter containing:\n",
      "tensor([[0.0400]], requires_grad=True)\n"
     ]
    },
    {
     "data": {
      "application/scrapbook.scrap.json+json": {
       "data": 0.03999519720673561,
       "encoder": "json",
       "name": "Skip Connection Weight",
       "version": 1
      }
     },
     "metadata": {
      "scrapbook": {
       "data": true,
       "display": false,
       "name": "Skip Connection Weight"
      }
     },
     "output_type": "display_data"
    }
   ],
   "source": [
    "print(\"Weight of the node at skip connection\")\n",
    "for name,param in gen3.named_parameters():\n",
    "    if(name == \"skipNode.weight\"):\n",
    "        print(param)\n",
    "        sb.glue(\"Skip Connection Weight\",param.item())"
   ]
  }
 ],
 "metadata": {
  "colab": {
   "collapsed_sections": [],
   "name": "ABC_GAN_Model-Catboost_Pre-gen.ipynb",
   "provenance": []
  },
  "interpreter": {
   "hash": "31f2aee4e71d21fbe5cf8b01ff0e069b9275f58929596ceb00d14d90e3e16cd6"
  },
  "kernelspec": {
   "display_name": "Python 3 (ipykernel)",
   "language": "python",
   "name": "python3"
  },
  "language_info": {
   "codemirror_mode": {
    "name": "ipython",
    "version": 3
   },
   "file_extension": ".py",
   "mimetype": "text/x-python",
   "name": "python",
   "nbconvert_exporter": "python",
   "pygments_lexer": "ipython3",
   "version": "3.8.11"
  },
  "papermill": {
   "default_parameters": {},
   "duration": 238.72318,
   "end_time": "2022-06-12T05:47:57.552420",
   "environment_variables": {},
   "exception": null,
   "input_path": "ABC_GAN-Catboost.ipynb",
   "output_path": "./ABC_GAN_Catboost/ABC-GAN_output_6_4.ipynb",
   "parameters": {
    "bias": 0.1,
    "variance": 0.1
   },
   "start_time": "2022-06-12T05:43:58.829240",
   "version": "2.3.3"
  }
 },
 "nbformat": 4,
 "nbformat_minor": 5
}