{
 "cells": [
  {
   "cell_type": "markdown",
   "id": "622780e6",
   "metadata": {
    "id": "622780e6",
    "papermill": {
     "duration": 0.024858,
     "end_time": "2022-06-12T03:04:42.169246",
     "exception": false,
     "start_time": "2022-06-12T03:04:42.144388",
     "status": "completed"
    },
    "tags": []
   },
   "source": [
    "## Import Libraries "
   ]
  },
  {
   "cell_type": "code",
   "execution_count": 1,
   "id": "a62397e3",
   "metadata": {
    "execution": {
     "iopub.execute_input": "2022-06-12T03:04:42.204905Z",
     "iopub.status.busy": "2022-06-12T03:04:42.204248Z",
     "iopub.status.idle": "2022-06-12T03:04:42.206658Z",
     "shell.execute_reply": "2022-06-12T03:04:42.206986Z"
    },
    "id": "a62397e3",
    "papermill": {
     "duration": 0.022538,
     "end_time": "2022-06-12T03:04:42.207217",
     "exception": false,
     "start_time": "2022-06-12T03:04:42.184679",
     "status": "completed"
    },
    "tags": []
   },
   "outputs": [],
   "source": [
    "import warnings\n",
    "import sys\n",
    "sys.path.insert(0, '../../src')\n",
    "warnings.filterwarnings('ignore')"
   ]
  },
  {
   "cell_type": "code",
   "execution_count": 2,
   "id": "d6a4e155",
   "metadata": {
    "execution": {
     "iopub.execute_input": "2022-06-12T03:04:42.227753Z",
     "iopub.status.busy": "2022-06-12T03:04:42.227352Z",
     "iopub.status.idle": "2022-06-12T03:04:43.806489Z",
     "shell.execute_reply": "2022-06-12T03:04:43.806723Z"
    },
    "id": "d6a4e155",
    "papermill": {
     "duration": 1.590113,
     "end_time": "2022-06-12T03:04:43.806850",
     "exception": false,
     "start_time": "2022-06-12T03:04:42.216737",
     "status": "completed"
    },
    "tags": []
   },
   "outputs": [],
   "source": [
    "import ABC_train_test2\n",
    "import bostonDataset\n",
    "import network\n",
    "import dataset\n",
    "import sanityChecks\n",
    "import torch \n",
    "import scrapbook as sb\n",
    "from statistics import mean \n",
    "import catboost as ctb \n",
    "from sklearn.model_selection import train_test_split\n",
    "from sklearn.metrics import mean_squared_error,mean_absolute_error\n",
    "import numpy as np"
   ]
  },
  {
   "cell_type": "markdown",
   "id": "2fa5b0f7",
   "metadata": {
    "id": "2fa5b0f7",
    "papermill": {
     "duration": 0.007304,
     "end_time": "2022-06-12T03:04:43.821382",
     "exception": false,
     "start_time": "2022-06-12T03:04:43.814078",
     "status": "completed"
    },
    "tags": []
   },
   "source": [
    "## Parameters "
   ]
  },
  {
   "cell_type": "code",
   "execution_count": 3,
   "id": "783186fb",
   "metadata": {
    "execution": {
     "iopub.execute_input": "2022-06-12T03:04:43.837476Z",
     "iopub.status.busy": "2022-06-12T03:04:43.837112Z",
     "iopub.status.idle": "2022-06-12T03:04:43.838337Z",
     "shell.execute_reply": "2022-06-12T03:04:43.838676Z"
    },
    "id": "783186fb",
    "papermill": {
     "duration": 0.010589,
     "end_time": "2022-06-12T03:04:43.838805",
     "exception": false,
     "start_time": "2022-06-12T03:04:43.828216",
     "status": "completed"
    },
    "tags": [
     "parameters"
    ]
   },
   "outputs": [],
   "source": [
    "variance = 1\n",
    "bias = 1 "
   ]
  },
  {
   "cell_type": "code",
   "execution_count": 4,
   "id": "805f4524",
   "metadata": {
    "execution": {
     "iopub.execute_input": "2022-06-12T03:04:43.854657Z",
     "iopub.status.busy": "2022-06-12T03:04:43.854299Z",
     "iopub.status.idle": "2022-06-12T03:04:43.855580Z",
     "shell.execute_reply": "2022-06-12T03:04:43.855823Z"
    },
    "papermill": {
     "duration": 0.010056,
     "end_time": "2022-06-12T03:04:43.855926",
     "exception": false,
     "start_time": "2022-06-12T03:04:43.845870",
     "status": "completed"
    },
    "tags": [
     "injected-parameters"
    ]
   },
   "outputs": [],
   "source": [
    "# Parameters\n",
    "variance = 0.01\n",
    "bias = 0.01\n"
   ]
  },
  {
   "cell_type": "markdown",
   "id": "391cdbfd",
   "metadata": {
    "id": "391cdbfd",
    "papermill": {
     "duration": 0.00685,
     "end_time": "2022-06-12T03:04:43.869720",
     "exception": false,
     "start_time": "2022-06-12T03:04:43.862870",
     "status": "completed"
    },
    "tags": []
   },
   "source": [
    "## Dataset \n"
   ]
  },
  {
   "cell_type": "code",
   "execution_count": 5,
   "id": "5b51f161",
   "metadata": {
    "execution": {
     "iopub.execute_input": "2022-06-12T03:04:43.885412Z",
     "iopub.status.busy": "2022-06-12T03:04:43.885041Z",
     "iopub.status.idle": "2022-06-12T03:04:43.886259Z",
     "shell.execute_reply": "2022-06-12T03:04:43.886540Z"
    },
    "id": "5b51f161",
    "papermill": {
     "duration": 0.010018,
     "end_time": "2022-06-12T03:04:43.886656",
     "exception": false,
     "start_time": "2022-06-12T03:04:43.876638",
     "status": "completed"
    },
    "tags": []
   },
   "outputs": [],
   "source": [
    "#Parameters \n",
    "n_features = 13\n",
    "n_samples= 506\n",
    "n_target = 1 "
   ]
  },
  {
   "cell_type": "code",
   "execution_count": 6,
   "id": "5d6eced4",
   "metadata": {
    "execution": {
     "iopub.execute_input": "2022-06-12T03:04:43.903044Z",
     "iopub.status.busy": "2022-06-12T03:04:43.902687Z",
     "iopub.status.idle": "2022-06-12T03:04:43.913353Z",
     "shell.execute_reply": "2022-06-12T03:04:43.913584Z"
    },
    "id": "5d6eced4",
    "papermill": {
     "duration": 0.020083,
     "end_time": "2022-06-12T03:04:43.913701",
     "exception": false,
     "start_time": "2022-06-12T03:04:43.893618",
     "status": "completed"
    },
    "tags": []
   },
   "outputs": [
    {
     "name": "stdout",
     "output_type": "stream",
     "text": [
      "         X1        X2        X3        X4        X5        X6        X7  \\\n",
      "0 -0.419782  0.284830 -1.287909 -0.272599 -0.144217  0.413672 -0.120013   \n",
      "1 -0.417339 -0.487722 -0.593381 -0.272599 -0.740262  0.194274  0.367166   \n",
      "2 -0.417342 -0.487722 -0.593381 -0.272599 -0.740262  1.282714 -0.265812   \n",
      "3 -0.416750 -0.487722 -1.306878 -0.272599 -0.835284  1.016303 -0.809889   \n",
      "4 -0.412482 -0.487722 -1.306878 -0.272599 -0.835284  1.228577 -0.511180   \n",
      "\n",
      "         X8        X9       X10       X11       X12       X13         Y  \n",
      "0  0.140214 -0.982843 -0.666608 -1.459000  0.441052 -1.075562  0.159686  \n",
      "1  0.557160 -0.867883 -0.987329 -0.303094  0.441052 -0.492439 -0.101524  \n",
      "2  0.557160 -0.867883 -0.987329 -0.303094  0.396427 -1.208727  1.324247  \n",
      "3  1.077737 -0.752922 -1.106115  0.113032  0.416163 -1.361517  1.182758  \n",
      "4  1.077737 -0.752922 -1.106115  0.113032  0.441052 -1.026501  1.487503  \n"
     ]
    }
   ],
   "source": [
    "X,Y = bostonDataset.boston_data()"
   ]
  },
  {
   "cell_type": "code",
   "execution_count": 7,
   "id": "fe007438",
   "metadata": {
    "execution": {
     "iopub.execute_input": "2022-06-12T03:04:43.930755Z",
     "iopub.status.busy": "2022-06-12T03:04:43.930373Z",
     "iopub.status.idle": "2022-06-12T03:04:43.931877Z",
     "shell.execute_reply": "2022-06-12T03:04:43.932130Z"
    },
    "id": "fe007438",
    "papermill": {
     "duration": 0.011166,
     "end_time": "2022-06-12T03:04:43.932236",
     "exception": false,
     "start_time": "2022-06-12T03:04:43.921070",
     "status": "completed"
    },
    "tags": []
   },
   "outputs": [],
   "source": [
    "#Train test split for dataset \n",
    "X_train,X_test,Y_train,Y_test = train_test_split(X,Y,test_size = 0.2)\n",
    "train_data = dataset.CustomDataset(X_train,Y_train)\n",
    "test_data = dataset.CustomDataset(X_test,Y_test)\n"
   ]
  },
  {
   "cell_type": "markdown",
   "id": "a9a1af34",
   "metadata": {
    "id": "a9a1af34",
    "papermill": {
     "duration": 0.007148,
     "end_time": "2022-06-12T03:04:43.947038",
     "exception": false,
     "start_time": "2022-06-12T03:04:43.939890",
     "status": "completed"
    },
    "tags": []
   },
   "source": [
    "## Training Parameters "
   ]
  },
  {
   "cell_type": "code",
   "execution_count": 8,
   "id": "952b7fc8",
   "metadata": {
    "execution": {
     "iopub.execute_input": "2022-06-12T03:04:43.964129Z",
     "iopub.status.busy": "2022-06-12T03:04:43.963766Z",
     "iopub.status.idle": "2022-06-12T03:04:43.965054Z",
     "shell.execute_reply": "2022-06-12T03:04:43.965283Z"
    },
    "id": "952b7fc8",
    "papermill": {
     "duration": 0.011114,
     "end_time": "2022-06-12T03:04:43.965399",
     "exception": false,
     "start_time": "2022-06-12T03:04:43.954285",
     "status": "completed"
    },
    "tags": []
   },
   "outputs": [],
   "source": [
    "batch_size = 32\n",
    "n_epochs = 1000\n",
    "#Select the device \n",
    "device = torch.device('cuda' if torch.cuda.is_available() else 'cpu')"
   ]
  },
  {
   "cell_type": "markdown",
   "id": "a95e1600",
   "metadata": {
    "id": "a95e1600",
    "papermill": {
     "duration": 0.00712,
     "end_time": "2022-06-12T03:04:43.979889",
     "exception": false,
     "start_time": "2022-06-12T03:04:43.972769",
     "status": "completed"
    },
    "tags": []
   },
   "source": [
    "# ABC Pre-generator Model \n",
    "\n",
    "1. The catboost model is used as a pre-generator model for the ABC-GAN. \n",
    "2. The model is first trained on the entire dataset \n",
    "3. It generats X,Y pairs and we add some Gaussian noise with mean 0 and variance 1 to it which is then feed as input to the generator.\n"
   ]
  },
  {
   "cell_type": "code",
   "execution_count": 9,
   "id": "ff8ce7bd",
   "metadata": {
    "execution": {
     "iopub.execute_input": "2022-06-12T03:04:43.999243Z",
     "iopub.status.busy": "2022-06-12T03:04:43.998849Z",
     "iopub.status.idle": "2022-06-12T03:04:44.960399Z",
     "shell.execute_reply": "2022-06-12T03:04:44.960703Z"
    },
    "id": "ff8ce7bd",
    "papermill": {
     "duration": 0.973674,
     "end_time": "2022-06-12T03:04:44.960824",
     "exception": false,
     "start_time": "2022-06-12T03:04:43.987150",
     "status": "completed"
    },
    "tags": []
   },
   "outputs": [
    {
     "name": "stdout",
     "output_type": "stream",
     "text": [
      "Learning rate set to 0.033215\n",
      "0:\tlearn: 0.9644070\ttotal: 58.6ms\tremaining: 58.6s\n",
      "1:\tlearn: 0.9442255\ttotal: 59.6ms\tremaining: 29.7s\n",
      "2:\tlearn: 0.9240354\ttotal: 60.7ms\tremaining: 20.2s\n",
      "3:\tlearn: 0.9072933\ttotal: 61.9ms\tremaining: 15.4s\n",
      "4:\tlearn: 0.8889636\ttotal: 62.8ms\tremaining: 12.5s\n",
      "5:\tlearn: 0.8747660\ttotal: 63.9ms\tremaining: 10.6s\n",
      "6:\tlearn: 0.8584676\ttotal: 64.8ms\tremaining: 9.19s\n",
      "7:\tlearn: 0.8429741\ttotal: 65.8ms\tremaining: 8.15s\n",
      "8:\tlearn: 0.8280620\ttotal: 66.7ms\tremaining: 7.34s\n",
      "9:\tlearn: 0.8130690\ttotal: 67.6ms\tremaining: 6.69s\n",
      "10:\tlearn: 0.7975148\ttotal: 68.5ms\tremaining: 6.16s\n",
      "11:\tlearn: 0.7823251\ttotal: 69.5ms\tremaining: 5.72s\n",
      "12:\tlearn: 0.7675039\ttotal: 70.3ms\tremaining: 5.34s\n",
      "13:\tlearn: 0.7534686\ttotal: 71.2ms\tremaining: 5.01s\n",
      "14:\tlearn: 0.7392670\ttotal: 72.1ms\tremaining: 4.74s\n",
      "15:\tlearn: 0.7256084\ttotal: 73ms\tremaining: 4.49s\n",
      "16:\tlearn: 0.7123141\ttotal: 73.9ms\tremaining: 4.27s\n",
      "17:\tlearn: 0.7016125\ttotal: 74.8ms\tremaining: 4.08s\n",
      "18:\tlearn: 0.6896603\ttotal: 75.7ms\tremaining: 3.91s\n",
      "19:\tlearn: 0.6781528\ttotal: 76.6ms\tremaining: 3.75s\n",
      "20:\tlearn: 0.6671860\ttotal: 77.4ms\tremaining: 3.61s\n",
      "21:\tlearn: 0.6556444\ttotal: 78.2ms\tremaining: 3.48s\n",
      "22:\tlearn: 0.6456074\ttotal: 79ms\tremaining: 3.35s\n",
      "23:\tlearn: 0.6359972\ttotal: 79.7ms\tremaining: 3.24s\n",
      "24:\tlearn: 0.6259184\ttotal: 80.4ms\tremaining: 3.14s\n",
      "25:\tlearn: 0.6169674\ttotal: 81.2ms\tremaining: 3.04s\n",
      "26:\tlearn: 0.6079998\ttotal: 82.1ms\tremaining: 2.96s\n",
      "27:\tlearn: 0.5998238\ttotal: 82.9ms\tremaining: 2.88s\n",
      "28:\tlearn: 0.5915784\ttotal: 83.6ms\tremaining: 2.8s\n",
      "29:\tlearn: 0.5827394\ttotal: 84.4ms\tremaining: 2.73s\n",
      "30:\tlearn: 0.5737752\ttotal: 85.2ms\tremaining: 2.66s\n",
      "31:\tlearn: 0.5655846\ttotal: 85.9ms\tremaining: 2.6s\n",
      "32:\tlearn: 0.5585322\ttotal: 86.8ms\tremaining: 2.54s\n",
      "33:\tlearn: 0.5511378\ttotal: 87.6ms\tremaining: 2.49s\n",
      "34:\tlearn: 0.5448937\ttotal: 88.4ms\tremaining: 2.44s\n",
      "35:\tlearn: 0.5372864\ttotal: 89.2ms\tremaining: 2.39s\n",
      "36:\tlearn: 0.5308719\ttotal: 90ms\tremaining: 2.34s\n",
      "37:\tlearn: 0.5238222\ttotal: 90.8ms\tremaining: 2.3s\n",
      "38:\tlearn: 0.5159943\ttotal: 91.6ms\tremaining: 2.26s\n",
      "39:\tlearn: 0.5085839\ttotal: 92.4ms\tremaining: 2.22s\n",
      "40:\tlearn: 0.5024743\ttotal: 93.2ms\tremaining: 2.18s\n",
      "41:\tlearn: 0.4952325\ttotal: 94.1ms\tremaining: 2.15s\n",
      "42:\tlearn: 0.4883521\ttotal: 94.9ms\tremaining: 2.11s\n",
      "43:\tlearn: 0.4819809\ttotal: 95.7ms\tremaining: 2.08s\n",
      "44:\tlearn: 0.4764305\ttotal: 96.4ms\tremaining: 2.05s\n",
      "45:\tlearn: 0.4710596\ttotal: 97.1ms\tremaining: 2.01s\n",
      "46:\tlearn: 0.4656846\ttotal: 98ms\tremaining: 1.99s\n",
      "47:\tlearn: 0.4604014\ttotal: 98.9ms\tremaining: 1.96s\n",
      "48:\tlearn: 0.4549087\ttotal: 99.7ms\tremaining: 1.93s\n",
      "49:\tlearn: 0.4503658\ttotal: 100ms\tremaining: 1.91s\n",
      "50:\tlearn: 0.4450933\ttotal: 101ms\tremaining: 1.88s\n",
      "51:\tlearn: 0.4406184\ttotal: 102ms\tremaining: 1.86s\n",
      "52:\tlearn: 0.4356501\ttotal: 103ms\tremaining: 1.84s\n",
      "53:\tlearn: 0.4314951\ttotal: 104ms\tremaining: 1.81s\n",
      "54:\tlearn: 0.4274818\ttotal: 104ms\tremaining: 1.79s\n",
      "55:\tlearn: 0.4232856\ttotal: 105ms\tremaining: 1.77s\n",
      "56:\tlearn: 0.4193060\ttotal: 106ms\tremaining: 1.75s\n"
     ]
    },
    {
     "name": "stdout",
     "output_type": "stream",
     "text": [
      "57:\tlearn: 0.4150819\ttotal: 107ms\tremaining: 1.74s\n",
      "58:\tlearn: 0.4112043\ttotal: 108ms\tremaining: 1.72s\n",
      "59:\tlearn: 0.4074107\ttotal: 109ms\tremaining: 1.7s\n",
      "60:\tlearn: 0.4042240\ttotal: 110ms\tremaining: 1.69s\n",
      "61:\tlearn: 0.4002493\ttotal: 110ms\tremaining: 1.67s\n",
      "62:\tlearn: 0.3969345\ttotal: 111ms\tremaining: 1.65s\n",
      "63:\tlearn: 0.3940851\ttotal: 112ms\tremaining: 1.64s\n",
      "64:\tlearn: 0.3905581\ttotal: 113ms\tremaining: 1.63s\n",
      "65:\tlearn: 0.3875263\ttotal: 114ms\tremaining: 1.61s\n",
      "66:\tlearn: 0.3844361\ttotal: 115ms\tremaining: 1.6s\n",
      "67:\tlearn: 0.3812789\ttotal: 116ms\tremaining: 1.58s\n",
      "68:\tlearn: 0.3787735\ttotal: 116ms\tremaining: 1.57s\n",
      "69:\tlearn: 0.3759060\ttotal: 117ms\tremaining: 1.56s\n",
      "70:\tlearn: 0.3725057\ttotal: 118ms\tremaining: 1.54s\n",
      "71:\tlearn: 0.3697115\ttotal: 119ms\tremaining: 1.53s\n",
      "72:\tlearn: 0.3668896\ttotal: 120ms\tremaining: 1.52s\n",
      "73:\tlearn: 0.3643506\ttotal: 120ms\tremaining: 1.5s\n",
      "74:\tlearn: 0.3608716\ttotal: 121ms\tremaining: 1.5s\n",
      "75:\tlearn: 0.3579178\ttotal: 122ms\tremaining: 1.48s\n",
      "76:\tlearn: 0.3545166\ttotal: 123ms\tremaining: 1.47s\n",
      "77:\tlearn: 0.3516205\ttotal: 123ms\tremaining: 1.46s\n",
      "78:\tlearn: 0.3489104\ttotal: 124ms\tremaining: 1.45s\n",
      "79:\tlearn: 0.3465581\ttotal: 125ms\tremaining: 1.44s\n",
      "80:\tlearn: 0.3439139\ttotal: 126ms\tremaining: 1.43s\n",
      "81:\tlearn: 0.3418566\ttotal: 127ms\tremaining: 1.42s\n",
      "82:\tlearn: 0.3390781\ttotal: 128ms\tremaining: 1.41s\n",
      "83:\tlearn: 0.3373120\ttotal: 129ms\tremaining: 1.4s\n",
      "84:\tlearn: 0.3352037\ttotal: 129ms\tremaining: 1.39s\n",
      "85:\tlearn: 0.3333446\ttotal: 130ms\tremaining: 1.38s\n",
      "86:\tlearn: 0.3314023\ttotal: 131ms\tremaining: 1.37s\n",
      "87:\tlearn: 0.3286335\ttotal: 132ms\tremaining: 1.37s\n",
      "88:\tlearn: 0.3270160\ttotal: 133ms\tremaining: 1.36s\n",
      "89:\tlearn: 0.3251116\ttotal: 133ms\tremaining: 1.35s\n",
      "90:\tlearn: 0.3232596\ttotal: 134ms\tremaining: 1.34s\n",
      "91:\tlearn: 0.3213935\ttotal: 135ms\tremaining: 1.33s\n",
      "92:\tlearn: 0.3196593\ttotal: 136ms\tremaining: 1.33s\n",
      "93:\tlearn: 0.3177336\ttotal: 137ms\tremaining: 1.32s\n",
      "94:\tlearn: 0.3164245\ttotal: 138ms\tremaining: 1.31s\n",
      "95:\tlearn: 0.3153848\ttotal: 138ms\tremaining: 1.3s\n",
      "96:\tlearn: 0.3140207\ttotal: 139ms\tremaining: 1.3s\n",
      "97:\tlearn: 0.3126234\ttotal: 140ms\tremaining: 1.29s\n",
      "98:\tlearn: 0.3112909\ttotal: 141ms\tremaining: 1.28s\n",
      "99:\tlearn: 0.3101914\ttotal: 142ms\tremaining: 1.28s\n",
      "100:\tlearn: 0.3087814\ttotal: 143ms\tremaining: 1.27s\n",
      "101:\tlearn: 0.3071025\ttotal: 144ms\tremaining: 1.26s\n",
      "102:\tlearn: 0.3058091\ttotal: 144ms\tremaining: 1.26s\n",
      "103:\tlearn: 0.3038407\ttotal: 145ms\tremaining: 1.25s\n",
      "104:\tlearn: 0.3026794\ttotal: 146ms\tremaining: 1.25s\n",
      "105:\tlearn: 0.3015146\ttotal: 147ms\tremaining: 1.24s\n",
      "106:\tlearn: 0.3001633\ttotal: 148ms\tremaining: 1.23s\n",
      "107:\tlearn: 0.2992129\ttotal: 149ms\tremaining: 1.23s\n",
      "108:\tlearn: 0.2982203\ttotal: 150ms\tremaining: 1.22s\n",
      "109:\tlearn: 0.2968678\ttotal: 150ms\tremaining: 1.22s\n",
      "110:\tlearn: 0.2958769\ttotal: 151ms\tremaining: 1.21s\n",
      "111:\tlearn: 0.2946908\ttotal: 152ms\tremaining: 1.2s\n",
      "112:\tlearn: 0.2943601\ttotal: 153ms\tremaining: 1.2s\n",
      "113:\tlearn: 0.2931355\ttotal: 154ms\tremaining: 1.19s\n",
      "114:\tlearn: 0.2919482\ttotal: 155ms\tremaining: 1.19s\n",
      "115:\tlearn: 0.2909740\ttotal: 155ms\tremaining: 1.18s\n",
      "116:\tlearn: 0.2900071\ttotal: 156ms\tremaining: 1.18s\n",
      "117:\tlearn: 0.2890110\ttotal: 157ms\tremaining: 1.18s\n",
      "118:\tlearn: 0.2881015\ttotal: 158ms\tremaining: 1.17s\n",
      "119:\tlearn: 0.2870021\ttotal: 159ms\tremaining: 1.16s\n",
      "120:\tlearn: 0.2857111\ttotal: 160ms\tremaining: 1.16s\n",
      "121:\tlearn: 0.2847206\ttotal: 160ms\tremaining: 1.15s\n",
      "122:\tlearn: 0.2839964\ttotal: 161ms\tremaining: 1.15s\n",
      "123:\tlearn: 0.2831286\ttotal: 162ms\tremaining: 1.14s\n",
      "124:\tlearn: 0.2818353\ttotal: 163ms\tremaining: 1.14s\n",
      "125:\tlearn: 0.2809194\ttotal: 164ms\tremaining: 1.14s\n",
      "126:\tlearn: 0.2798932\ttotal: 164ms\tremaining: 1.13s\n",
      "127:\tlearn: 0.2788838\ttotal: 165ms\tremaining: 1.13s\n",
      "128:\tlearn: 0.2777149\ttotal: 166ms\tremaining: 1.12s\n",
      "129:\tlearn: 0.2765948\ttotal: 167ms\tremaining: 1.12s\n",
      "130:\tlearn: 0.2756645\ttotal: 168ms\tremaining: 1.11s\n",
      "131:\tlearn: 0.2748690\ttotal: 169ms\tremaining: 1.11s\n",
      "132:\tlearn: 0.2738437\ttotal: 170ms\tremaining: 1.11s\n",
      "133:\tlearn: 0.2725011\ttotal: 171ms\tremaining: 1.1s\n",
      "134:\tlearn: 0.2717397\ttotal: 171ms\tremaining: 1.1s\n",
      "135:\tlearn: 0.2705333\ttotal: 172ms\tremaining: 1.09s\n",
      "136:\tlearn: 0.2700872\ttotal: 173ms\tremaining: 1.09s\n",
      "137:\tlearn: 0.2689616\ttotal: 174ms\tremaining: 1.08s\n",
      "138:\tlearn: 0.2679439\ttotal: 175ms\tremaining: 1.08s\n",
      "139:\tlearn: 0.2670485\ttotal: 175ms\tremaining: 1.08s\n",
      "140:\tlearn: 0.2661873\ttotal: 177ms\tremaining: 1.08s\n",
      "141:\tlearn: 0.2652061\ttotal: 178ms\tremaining: 1.07s\n",
      "142:\tlearn: 0.2644509\ttotal: 179ms\tremaining: 1.07s\n",
      "143:\tlearn: 0.2641775\ttotal: 179ms\tremaining: 1.06s\n",
      "144:\tlearn: 0.2631417\ttotal: 180ms\tremaining: 1.06s\n",
      "145:\tlearn: 0.2624543\ttotal: 181ms\tremaining: 1.06s\n",
      "146:\tlearn: 0.2621730\ttotal: 182ms\tremaining: 1.05s\n",
      "147:\tlearn: 0.2616891\ttotal: 183ms\tremaining: 1.05s\n",
      "148:\tlearn: 0.2610322\ttotal: 183ms\tremaining: 1.05s\n",
      "149:\tlearn: 0.2600813\ttotal: 184ms\tremaining: 1.04s\n",
      "150:\tlearn: 0.2594018\ttotal: 185ms\tremaining: 1.04s\n",
      "151:\tlearn: 0.2587270\ttotal: 186ms\tremaining: 1.03s\n",
      "152:\tlearn: 0.2582083\ttotal: 186ms\tremaining: 1.03s\n",
      "153:\tlearn: 0.2573291\ttotal: 187ms\tremaining: 1.03s\n",
      "154:\tlearn: 0.2570906\ttotal: 188ms\tremaining: 1.03s\n",
      "155:\tlearn: 0.2559309\ttotal: 189ms\tremaining: 1.02s\n",
      "156:\tlearn: 0.2552408\ttotal: 190ms\tremaining: 1.02s\n",
      "157:\tlearn: 0.2548973\ttotal: 191ms\tremaining: 1.02s\n"
     ]
    },
    {
     "name": "stdout",
     "output_type": "stream",
     "text": [
      "158:\tlearn: 0.2546435\ttotal: 192ms\tremaining: 1.01s\n",
      "159:\tlearn: 0.2542026\ttotal: 193ms\tremaining: 1.01s\n",
      "160:\tlearn: 0.2534733\ttotal: 194ms\tremaining: 1.01s\n",
      "161:\tlearn: 0.2527791\ttotal: 194ms\tremaining: 1s\n",
      "162:\tlearn: 0.2522545\ttotal: 195ms\tremaining: 1s\n",
      "163:\tlearn: 0.2517790\ttotal: 197ms\tremaining: 1s\n",
      "164:\tlearn: 0.2510744\ttotal: 197ms\tremaining: 999ms\n",
      "165:\tlearn: 0.2504162\ttotal: 198ms\tremaining: 996ms\n",
      "166:\tlearn: 0.2496696\ttotal: 199ms\tremaining: 993ms\n",
      "167:\tlearn: 0.2485922\ttotal: 200ms\tremaining: 990ms\n",
      "168:\tlearn: 0.2481580\ttotal: 201ms\tremaining: 986ms\n",
      "169:\tlearn: 0.2474340\ttotal: 202ms\tremaining: 984ms\n",
      "170:\tlearn: 0.2469311\ttotal: 202ms\tremaining: 981ms\n",
      "171:\tlearn: 0.2462878\ttotal: 203ms\tremaining: 978ms\n",
      "172:\tlearn: 0.2456339\ttotal: 204ms\tremaining: 976ms\n",
      "173:\tlearn: 0.2449229\ttotal: 205ms\tremaining: 972ms\n",
      "174:\tlearn: 0.2443054\ttotal: 206ms\tremaining: 969ms\n",
      "175:\tlearn: 0.2437577\ttotal: 207ms\tremaining: 967ms\n",
      "176:\tlearn: 0.2432768\ttotal: 207ms\tremaining: 964ms\n",
      "177:\tlearn: 0.2426380\ttotal: 208ms\tremaining: 962ms\n",
      "178:\tlearn: 0.2422228\ttotal: 209ms\tremaining: 959ms\n",
      "179:\tlearn: 0.2417518\ttotal: 210ms\tremaining: 956ms\n",
      "180:\tlearn: 0.2410172\ttotal: 211ms\tremaining: 953ms\n",
      "181:\tlearn: 0.2403654\ttotal: 211ms\tremaining: 950ms\n",
      "182:\tlearn: 0.2399537\ttotal: 212ms\tremaining: 947ms\n",
      "183:\tlearn: 0.2389617\ttotal: 213ms\tremaining: 945ms\n",
      "184:\tlearn: 0.2380239\ttotal: 214ms\tremaining: 942ms\n",
      "185:\tlearn: 0.2372356\ttotal: 215ms\tremaining: 939ms\n",
      "186:\tlearn: 0.2365423\ttotal: 215ms\tremaining: 936ms\n",
      "187:\tlearn: 0.2362228\ttotal: 216ms\tremaining: 934ms\n",
      "188:\tlearn: 0.2355815\ttotal: 217ms\tremaining: 932ms\n",
      "189:\tlearn: 0.2349240\ttotal: 218ms\tremaining: 929ms\n",
      "190:\tlearn: 0.2342487\ttotal: 219ms\tremaining: 927ms\n",
      "191:\tlearn: 0.2335603\ttotal: 220ms\tremaining: 924ms\n",
      "192:\tlearn: 0.2329899\ttotal: 220ms\tremaining: 922ms\n",
      "193:\tlearn: 0.2323160\ttotal: 221ms\tremaining: 919ms\n",
      "194:\tlearn: 0.2318273\ttotal: 222ms\tremaining: 916ms\n",
      "195:\tlearn: 0.2313832\ttotal: 223ms\tremaining: 914ms\n",
      "196:\tlearn: 0.2308212\ttotal: 224ms\tremaining: 911ms\n",
      "197:\tlearn: 0.2302906\ttotal: 224ms\tremaining: 909ms\n",
      "198:\tlearn: 0.2297681\ttotal: 225ms\tremaining: 906ms\n",
      "199:\tlearn: 0.2294612\ttotal: 226ms\tremaining: 904ms\n",
      "200:\tlearn: 0.2290041\ttotal: 227ms\tremaining: 901ms\n",
      "201:\tlearn: 0.2286102\ttotal: 228ms\tremaining: 899ms\n",
      "202:\tlearn: 0.2277568\ttotal: 228ms\tremaining: 897ms\n",
      "203:\tlearn: 0.2272698\ttotal: 229ms\tremaining: 894ms\n",
      "204:\tlearn: 0.2267817\ttotal: 230ms\tremaining: 892ms\n",
      "205:\tlearn: 0.2259697\ttotal: 231ms\tremaining: 890ms\n",
      "206:\tlearn: 0.2255787\ttotal: 232ms\tremaining: 887ms\n",
      "207:\tlearn: 0.2252376\ttotal: 232ms\tremaining: 885ms\n",
      "208:\tlearn: 0.2247594\ttotal: 233ms\tremaining: 882ms\n",
      "209:\tlearn: 0.2240843\ttotal: 234ms\tremaining: 880ms\n",
      "210:\tlearn: 0.2235888\ttotal: 235ms\tremaining: 878ms\n",
      "211:\tlearn: 0.2227511\ttotal: 235ms\tremaining: 875ms\n",
      "212:\tlearn: 0.2223166\ttotal: 236ms\tremaining: 873ms\n",
      "213:\tlearn: 0.2220887\ttotal: 237ms\tremaining: 871ms\n",
      "214:\tlearn: 0.2215501\ttotal: 238ms\tremaining: 868ms\n",
      "215:\tlearn: 0.2212016\ttotal: 239ms\tremaining: 866ms\n",
      "216:\tlearn: 0.2209898\ttotal: 239ms\tremaining: 864ms\n",
      "217:\tlearn: 0.2205491\ttotal: 240ms\tremaining: 862ms\n",
      "218:\tlearn: 0.2201133\ttotal: 241ms\tremaining: 859ms\n",
      "219:\tlearn: 0.2197341\ttotal: 242ms\tremaining: 857ms\n",
      "220:\tlearn: 0.2192062\ttotal: 243ms\tremaining: 855ms\n",
      "221:\tlearn: 0.2189188\ttotal: 243ms\tremaining: 853ms\n",
      "222:\tlearn: 0.2181234\ttotal: 244ms\tremaining: 850ms\n",
      "223:\tlearn: 0.2180243\ttotal: 245ms\tremaining: 849ms\n",
      "224:\tlearn: 0.2178683\ttotal: 246ms\tremaining: 847ms\n",
      "225:\tlearn: 0.2175992\ttotal: 247ms\tremaining: 845ms\n",
      "226:\tlearn: 0.2170657\ttotal: 247ms\tremaining: 842ms\n",
      "227:\tlearn: 0.2169916\ttotal: 248ms\tremaining: 840ms\n",
      "228:\tlearn: 0.2168878\ttotal: 249ms\tremaining: 837ms\n",
      "229:\tlearn: 0.2162041\ttotal: 250ms\tremaining: 835ms\n",
      "230:\tlearn: 0.2158441\ttotal: 250ms\tremaining: 833ms\n",
      "231:\tlearn: 0.2152893\ttotal: 251ms\tremaining: 831ms\n",
      "232:\tlearn: 0.2148423\ttotal: 252ms\tremaining: 829ms\n",
      "233:\tlearn: 0.2147176\ttotal: 253ms\tremaining: 827ms\n",
      "234:\tlearn: 0.2145769\ttotal: 254ms\tremaining: 826ms\n",
      "235:\tlearn: 0.2142266\ttotal: 254ms\tremaining: 824ms\n",
      "236:\tlearn: 0.2137615\ttotal: 255ms\tremaining: 822ms\n",
      "237:\tlearn: 0.2136576\ttotal: 256ms\tremaining: 820ms\n",
      "238:\tlearn: 0.2132518\ttotal: 257ms\tremaining: 818ms\n",
      "239:\tlearn: 0.2129784\ttotal: 258ms\tremaining: 816ms\n",
      "240:\tlearn: 0.2126933\ttotal: 259ms\tremaining: 814ms\n",
      "241:\tlearn: 0.2123207\ttotal: 259ms\tremaining: 812ms\n",
      "242:\tlearn: 0.2120294\ttotal: 260ms\tremaining: 810ms\n",
      "243:\tlearn: 0.2117006\ttotal: 261ms\tremaining: 808ms\n",
      "244:\tlearn: 0.2112581\ttotal: 262ms\tremaining: 806ms\n",
      "245:\tlearn: 0.2109249\ttotal: 262ms\tremaining: 804ms\n",
      "246:\tlearn: 0.2103971\ttotal: 263ms\tremaining: 803ms\n",
      "247:\tlearn: 0.2099485\ttotal: 264ms\tremaining: 801ms\n",
      "248:\tlearn: 0.2095852\ttotal: 265ms\tremaining: 799ms\n",
      "249:\tlearn: 0.2091790\ttotal: 266ms\tremaining: 797ms\n",
      "250:\tlearn: 0.2090540\ttotal: 267ms\tremaining: 795ms\n",
      "251:\tlearn: 0.2089302\ttotal: 267ms\tremaining: 794ms\n",
      "252:\tlearn: 0.2084063\ttotal: 268ms\tremaining: 792ms\n",
      "253:\tlearn: 0.2076796\ttotal: 269ms\tremaining: 790ms\n",
      "254:\tlearn: 0.2076201\ttotal: 270ms\tremaining: 789ms\n",
      "255:\tlearn: 0.2072039\ttotal: 271ms\tremaining: 788ms\n",
      "256:\tlearn: 0.2067731\ttotal: 272ms\tremaining: 786ms\n",
      "257:\tlearn: 0.2063925\ttotal: 273ms\tremaining: 784ms\n",
      "258:\tlearn: 0.2059580\ttotal: 274ms\tremaining: 783ms\n",
      "259:\tlearn: 0.2055719\ttotal: 274ms\tremaining: 781ms\n",
      "260:\tlearn: 0.2050069\ttotal: 275ms\tremaining: 779ms\n",
      "261:\tlearn: 0.2046021\ttotal: 276ms\tremaining: 778ms\n",
      "262:\tlearn: 0.2041983\ttotal: 277ms\tremaining: 776ms\n",
      "263:\tlearn: 0.2039040\ttotal: 278ms\tremaining: 775ms\n",
      "264:\tlearn: 0.2034307\ttotal: 279ms\tremaining: 773ms\n",
      "265:\tlearn: 0.2028568\ttotal: 280ms\tremaining: 771ms\n",
      "266:\tlearn: 0.2022988\ttotal: 280ms\tremaining: 770ms\n",
      "267:\tlearn: 0.2017734\ttotal: 281ms\tremaining: 768ms\n",
      "268:\tlearn: 0.2013950\ttotal: 282ms\tremaining: 766ms\n",
      "269:\tlearn: 0.2011947\ttotal: 283ms\tremaining: 765ms\n",
      "270:\tlearn: 0.2010306\ttotal: 283ms\tremaining: 762ms\n",
      "271:\tlearn: 0.2005727\ttotal: 284ms\tremaining: 761ms\n",
      "272:\tlearn: 0.2002047\ttotal: 285ms\tremaining: 759ms\n",
      "273:\tlearn: 0.1997363\ttotal: 286ms\tremaining: 758ms\n",
      "274:\tlearn: 0.1994295\ttotal: 287ms\tremaining: 756ms\n",
      "275:\tlearn: 0.1990942\ttotal: 288ms\tremaining: 754ms\n",
      "276:\tlearn: 0.1986745\ttotal: 288ms\tremaining: 753ms\n",
      "277:\tlearn: 0.1983166\ttotal: 289ms\tremaining: 751ms\n",
      "278:\tlearn: 0.1981033\ttotal: 290ms\tremaining: 750ms\n",
      "279:\tlearn: 0.1975275\ttotal: 291ms\tremaining: 748ms\n",
      "280:\tlearn: 0.1971247\ttotal: 292ms\tremaining: 747ms\n",
      "281:\tlearn: 0.1967336\ttotal: 293ms\tremaining: 745ms\n",
      "282:\tlearn: 0.1964694\ttotal: 294ms\tremaining: 744ms\n",
      "283:\tlearn: 0.1961437\ttotal: 294ms\tremaining: 742ms\n",
      "284:\tlearn: 0.1958233\ttotal: 295ms\tremaining: 741ms\n",
      "285:\tlearn: 0.1955174\ttotal: 296ms\tremaining: 740ms\n"
     ]
    },
    {
     "name": "stdout",
     "output_type": "stream",
     "text": [
      "286:\tlearn: 0.1952501\ttotal: 297ms\tremaining: 739ms\n",
      "287:\tlearn: 0.1951050\ttotal: 299ms\tremaining: 738ms\n",
      "288:\tlearn: 0.1950431\ttotal: 299ms\tremaining: 736ms\n",
      "289:\tlearn: 0.1943564\ttotal: 300ms\tremaining: 735ms\n",
      "290:\tlearn: 0.1939833\ttotal: 301ms\tremaining: 734ms\n",
      "291:\tlearn: 0.1934505\ttotal: 302ms\tremaining: 732ms\n",
      "292:\tlearn: 0.1928899\ttotal: 303ms\tremaining: 731ms\n",
      "293:\tlearn: 0.1926520\ttotal: 304ms\tremaining: 730ms\n",
      "294:\tlearn: 0.1925941\ttotal: 305ms\tremaining: 728ms\n",
      "295:\tlearn: 0.1921099\ttotal: 306ms\tremaining: 727ms\n",
      "296:\tlearn: 0.1918810\ttotal: 306ms\tremaining: 725ms\n",
      "297:\tlearn: 0.1912412\ttotal: 307ms\tremaining: 723ms\n",
      "298:\tlearn: 0.1906900\ttotal: 309ms\tremaining: 724ms\n",
      "299:\tlearn: 0.1902202\ttotal: 309ms\tremaining: 722ms\n",
      "300:\tlearn: 0.1898300\ttotal: 310ms\tremaining: 720ms\n",
      "301:\tlearn: 0.1894066\ttotal: 311ms\tremaining: 719ms\n",
      "302:\tlearn: 0.1892372\ttotal: 312ms\tremaining: 718ms\n",
      "303:\tlearn: 0.1888495\ttotal: 313ms\tremaining: 716ms\n",
      "304:\tlearn: 0.1885832\ttotal: 313ms\tremaining: 714ms\n",
      "305:\tlearn: 0.1881920\ttotal: 314ms\tremaining: 713ms\n",
      "306:\tlearn: 0.1878805\ttotal: 315ms\tremaining: 711ms\n",
      "307:\tlearn: 0.1875854\ttotal: 316ms\tremaining: 710ms\n",
      "308:\tlearn: 0.1869217\ttotal: 317ms\tremaining: 708ms\n",
      "309:\tlearn: 0.1868670\ttotal: 318ms\tremaining: 707ms\n",
      "310:\tlearn: 0.1864326\ttotal: 319ms\tremaining: 706ms\n",
      "311:\tlearn: 0.1858254\ttotal: 319ms\tremaining: 704ms\n",
      "312:\tlearn: 0.1853996\ttotal: 320ms\tremaining: 703ms\n",
      "313:\tlearn: 0.1851266\ttotal: 321ms\tremaining: 701ms\n",
      "314:\tlearn: 0.1847847\ttotal: 322ms\tremaining: 700ms\n",
      "315:\tlearn: 0.1844900\ttotal: 323ms\tremaining: 698ms\n",
      "316:\tlearn: 0.1841562\ttotal: 324ms\tremaining: 697ms\n",
      "317:\tlearn: 0.1839697\ttotal: 324ms\tremaining: 696ms\n",
      "318:\tlearn: 0.1834395\ttotal: 325ms\tremaining: 694ms\n",
      "319:\tlearn: 0.1830390\ttotal: 326ms\tremaining: 693ms\n",
      "320:\tlearn: 0.1828761\ttotal: 327ms\tremaining: 692ms\n",
      "321:\tlearn: 0.1824920\ttotal: 328ms\tremaining: 690ms\n",
      "322:\tlearn: 0.1821133\ttotal: 328ms\tremaining: 688ms\n",
      "323:\tlearn: 0.1817549\ttotal: 329ms\tremaining: 687ms\n",
      "324:\tlearn: 0.1814030\ttotal: 330ms\tremaining: 686ms\n",
      "325:\tlearn: 0.1810300\ttotal: 331ms\tremaining: 684ms\n",
      "326:\tlearn: 0.1805917\ttotal: 332ms\tremaining: 683ms\n",
      "327:\tlearn: 0.1802931\ttotal: 332ms\tremaining: 681ms\n",
      "328:\tlearn: 0.1798373\ttotal: 333ms\tremaining: 680ms\n",
      "329:\tlearn: 0.1794422\ttotal: 334ms\tremaining: 678ms\n",
      "330:\tlearn: 0.1788064\ttotal: 336ms\tremaining: 678ms\n",
      "331:\tlearn: 0.1782682\ttotal: 336ms\tremaining: 677ms\n",
      "332:\tlearn: 0.1782101\ttotal: 337ms\tremaining: 675ms\n",
      "333:\tlearn: 0.1779683\ttotal: 338ms\tremaining: 674ms\n",
      "334:\tlearn: 0.1776382\ttotal: 339ms\tremaining: 673ms\n",
      "335:\tlearn: 0.1773253\ttotal: 340ms\tremaining: 671ms\n",
      "336:\tlearn: 0.1766938\ttotal: 340ms\tremaining: 670ms\n",
      "337:\tlearn: 0.1762297\ttotal: 341ms\tremaining: 669ms\n",
      "338:\tlearn: 0.1758246\ttotal: 342ms\tremaining: 667ms\n",
      "339:\tlearn: 0.1754513\ttotal: 343ms\tremaining: 666ms\n",
      "340:\tlearn: 0.1751885\ttotal: 344ms\tremaining: 665ms\n",
      "341:\tlearn: 0.1746896\ttotal: 345ms\tremaining: 663ms\n",
      "342:\tlearn: 0.1743582\ttotal: 346ms\tremaining: 662ms\n",
      "343:\tlearn: 0.1738019\ttotal: 346ms\tremaining: 661ms\n",
      "344:\tlearn: 0.1735701\ttotal: 347ms\tremaining: 659ms\n",
      "345:\tlearn: 0.1732624\ttotal: 348ms\tremaining: 658ms\n",
      "346:\tlearn: 0.1728200\ttotal: 349ms\tremaining: 657ms\n",
      "347:\tlearn: 0.1724961\ttotal: 350ms\tremaining: 655ms\n",
      "348:\tlearn: 0.1724545\ttotal: 351ms\tremaining: 654ms\n",
      "349:\tlearn: 0.1724137\ttotal: 351ms\tremaining: 653ms\n",
      "350:\tlearn: 0.1720282\ttotal: 352ms\tremaining: 651ms\n",
      "351:\tlearn: 0.1715829\ttotal: 353ms\tremaining: 650ms\n",
      "352:\tlearn: 0.1713162\ttotal: 354ms\tremaining: 648ms\n",
      "353:\tlearn: 0.1709709\ttotal: 355ms\tremaining: 647ms\n",
      "354:\tlearn: 0.1705979\ttotal: 355ms\tremaining: 646ms\n",
      "355:\tlearn: 0.1705592\ttotal: 356ms\tremaining: 644ms\n",
      "356:\tlearn: 0.1704380\ttotal: 357ms\tremaining: 643ms\n",
      "357:\tlearn: 0.1700453\ttotal: 358ms\tremaining: 642ms\n",
      "358:\tlearn: 0.1695970\ttotal: 359ms\tremaining: 641ms\n",
      "359:\tlearn: 0.1692030\ttotal: 360ms\tremaining: 640ms\n",
      "360:\tlearn: 0.1687195\ttotal: 361ms\tremaining: 638ms\n",
      "361:\tlearn: 0.1682923\ttotal: 361ms\tremaining: 637ms\n",
      "362:\tlearn: 0.1680347\ttotal: 362ms\tremaining: 636ms\n",
      "363:\tlearn: 0.1675235\ttotal: 363ms\tremaining: 635ms\n",
      "364:\tlearn: 0.1673020\ttotal: 364ms\tremaining: 633ms\n",
      "365:\tlearn: 0.1672681\ttotal: 365ms\tremaining: 632ms\n",
      "366:\tlearn: 0.1668113\ttotal: 366ms\tremaining: 631ms\n",
      "367:\tlearn: 0.1662593\ttotal: 366ms\tremaining: 629ms\n",
      "368:\tlearn: 0.1658496\ttotal: 367ms\tremaining: 628ms\n",
      "369:\tlearn: 0.1656800\ttotal: 368ms\tremaining: 627ms\n",
      "370:\tlearn: 0.1651517\ttotal: 369ms\tremaining: 626ms\n",
      "371:\tlearn: 0.1647622\ttotal: 370ms\tremaining: 625ms\n",
      "372:\tlearn: 0.1644672\ttotal: 371ms\tremaining: 623ms\n",
      "373:\tlearn: 0.1640347\ttotal: 372ms\tremaining: 622ms\n",
      "374:\tlearn: 0.1635088\ttotal: 372ms\tremaining: 621ms\n",
      "375:\tlearn: 0.1629922\ttotal: 373ms\tremaining: 619ms\n",
      "376:\tlearn: 0.1628562\ttotal: 374ms\tremaining: 618ms\n",
      "377:\tlearn: 0.1626158\ttotal: 375ms\tremaining: 617ms\n",
      "378:\tlearn: 0.1622546\ttotal: 376ms\tremaining: 617ms\n",
      "379:\tlearn: 0.1620397\ttotal: 377ms\tremaining: 616ms\n",
      "380:\tlearn: 0.1616845\ttotal: 378ms\tremaining: 614ms\n",
      "381:\tlearn: 0.1614471\ttotal: 379ms\tremaining: 613ms\n",
      "382:\tlearn: 0.1611156\ttotal: 380ms\tremaining: 612ms\n",
      "383:\tlearn: 0.1606381\ttotal: 381ms\tremaining: 610ms\n",
      "384:\tlearn: 0.1603330\ttotal: 381ms\tremaining: 609ms\n"
     ]
    },
    {
     "name": "stdout",
     "output_type": "stream",
     "text": [
      "385:\tlearn: 0.1598438\ttotal: 382ms\tremaining: 608ms\n",
      "386:\tlearn: 0.1595735\ttotal: 383ms\tremaining: 607ms\n",
      "387:\tlearn: 0.1590989\ttotal: 384ms\tremaining: 606ms\n",
      "388:\tlearn: 0.1588182\ttotal: 385ms\tremaining: 605ms\n",
      "389:\tlearn: 0.1583901\ttotal: 386ms\tremaining: 604ms\n",
      "390:\tlearn: 0.1581266\ttotal: 387ms\tremaining: 603ms\n",
      "391:\tlearn: 0.1578408\ttotal: 388ms\tremaining: 601ms\n",
      "392:\tlearn: 0.1575531\ttotal: 389ms\tremaining: 600ms\n",
      "393:\tlearn: 0.1571988\ttotal: 389ms\tremaining: 599ms\n",
      "394:\tlearn: 0.1567779\ttotal: 390ms\tremaining: 598ms\n",
      "395:\tlearn: 0.1564337\ttotal: 391ms\tremaining: 596ms\n",
      "396:\tlearn: 0.1560672\ttotal: 392ms\tremaining: 595ms\n",
      "397:\tlearn: 0.1558735\ttotal: 393ms\tremaining: 594ms\n",
      "398:\tlearn: 0.1555483\ttotal: 394ms\tremaining: 593ms\n",
      "399:\tlearn: 0.1551759\ttotal: 394ms\tremaining: 592ms\n",
      "400:\tlearn: 0.1549881\ttotal: 395ms\tremaining: 590ms\n",
      "401:\tlearn: 0.1548303\ttotal: 396ms\tremaining: 589ms\n",
      "402:\tlearn: 0.1544639\ttotal: 397ms\tremaining: 588ms\n",
      "403:\tlearn: 0.1540788\ttotal: 398ms\tremaining: 587ms\n",
      "404:\tlearn: 0.1537279\ttotal: 398ms\tremaining: 585ms\n",
      "405:\tlearn: 0.1533810\ttotal: 399ms\tremaining: 584ms\n",
      "406:\tlearn: 0.1530446\ttotal: 400ms\tremaining: 583ms\n",
      "407:\tlearn: 0.1526008\ttotal: 401ms\tremaining: 582ms\n",
      "408:\tlearn: 0.1521698\ttotal: 402ms\tremaining: 581ms\n",
      "409:\tlearn: 0.1520083\ttotal: 403ms\tremaining: 580ms\n",
      "410:\tlearn: 0.1517963\ttotal: 404ms\tremaining: 578ms\n",
      "411:\tlearn: 0.1514277\ttotal: 405ms\tremaining: 577ms\n",
      "412:\tlearn: 0.1510981\ttotal: 406ms\tremaining: 576ms\n",
      "413:\tlearn: 0.1508257\ttotal: 406ms\tremaining: 575ms\n",
      "414:\tlearn: 0.1504768\ttotal: 407ms\tremaining: 574ms\n",
      "415:\tlearn: 0.1503000\ttotal: 408ms\tremaining: 573ms\n",
      "416:\tlearn: 0.1499662\ttotal: 409ms\tremaining: 571ms\n",
      "417:\tlearn: 0.1495990\ttotal: 410ms\tremaining: 571ms\n",
      "418:\tlearn: 0.1492646\ttotal: 411ms\tremaining: 569ms\n",
      "419:\tlearn: 0.1487552\ttotal: 411ms\tremaining: 568ms\n",
      "420:\tlearn: 0.1484458\ttotal: 412ms\tremaining: 567ms\n",
      "421:\tlearn: 0.1480927\ttotal: 413ms\tremaining: 566ms\n",
      "422:\tlearn: 0.1475852\ttotal: 414ms\tremaining: 565ms\n",
      "423:\tlearn: 0.1474114\ttotal: 415ms\tremaining: 564ms\n",
      "424:\tlearn: 0.1471557\ttotal: 416ms\tremaining: 562ms\n",
      "425:\tlearn: 0.1467850\ttotal: 417ms\tremaining: 561ms\n",
      "426:\tlearn: 0.1464639\ttotal: 417ms\tremaining: 560ms\n",
      "427:\tlearn: 0.1462281\ttotal: 418ms\tremaining: 559ms\n",
      "428:\tlearn: 0.1460811\ttotal: 419ms\tremaining: 558ms\n",
      "429:\tlearn: 0.1458776\ttotal: 420ms\tremaining: 556ms\n",
      "430:\tlearn: 0.1455267\ttotal: 421ms\tremaining: 555ms\n",
      "431:\tlearn: 0.1451177\ttotal: 422ms\tremaining: 554ms\n",
      "432:\tlearn: 0.1448002\ttotal: 423ms\tremaining: 553ms\n",
      "433:\tlearn: 0.1444818\ttotal: 424ms\tremaining: 552ms\n",
      "434:\tlearn: 0.1442505\ttotal: 425ms\tremaining: 551ms\n",
      "435:\tlearn: 0.1439613\ttotal: 426ms\tremaining: 551ms\n",
      "436:\tlearn: 0.1436100\ttotal: 426ms\tremaining: 549ms\n",
      "437:\tlearn: 0.1435376\ttotal: 427ms\tremaining: 548ms\n",
      "438:\tlearn: 0.1432008\ttotal: 428ms\tremaining: 547ms\n",
      "439:\tlearn: 0.1428648\ttotal: 429ms\tremaining: 546ms\n",
      "440:\tlearn: 0.1426103\ttotal: 430ms\tremaining: 545ms\n",
      "441:\tlearn: 0.1423769\ttotal: 431ms\tremaining: 544ms\n",
      "442:\tlearn: 0.1421126\ttotal: 432ms\tremaining: 543ms\n",
      "443:\tlearn: 0.1415658\ttotal: 432ms\tremaining: 541ms\n",
      "444:\tlearn: 0.1413030\ttotal: 433ms\tremaining: 540ms\n",
      "445:\tlearn: 0.1410035\ttotal: 434ms\tremaining: 539ms\n",
      "446:\tlearn: 0.1406268\ttotal: 435ms\tremaining: 538ms\n",
      "447:\tlearn: 0.1403151\ttotal: 435ms\tremaining: 536ms\n",
      "448:\tlearn: 0.1399650\ttotal: 436ms\tremaining: 535ms\n",
      "449:\tlearn: 0.1397502\ttotal: 437ms\tremaining: 534ms\n",
      "450:\tlearn: 0.1394029\ttotal: 438ms\tremaining: 533ms\n",
      "451:\tlearn: 0.1392141\ttotal: 438ms\tremaining: 532ms\n",
      "452:\tlearn: 0.1389017\ttotal: 439ms\tremaining: 530ms\n",
      "453:\tlearn: 0.1385092\ttotal: 440ms\tremaining: 529ms\n",
      "454:\tlearn: 0.1382169\ttotal: 441ms\tremaining: 528ms\n",
      "455:\tlearn: 0.1380852\ttotal: 442ms\tremaining: 527ms\n",
      "456:\tlearn: 0.1377765\ttotal: 443ms\tremaining: 526ms\n",
      "457:\tlearn: 0.1375722\ttotal: 444ms\tremaining: 525ms\n",
      "458:\tlearn: 0.1373010\ttotal: 444ms\tremaining: 524ms\n",
      "459:\tlearn: 0.1370419\ttotal: 445ms\tremaining: 523ms\n",
      "460:\tlearn: 0.1367464\ttotal: 446ms\tremaining: 521ms\n",
      "461:\tlearn: 0.1364533\ttotal: 447ms\tremaining: 520ms\n",
      "462:\tlearn: 0.1361861\ttotal: 447ms\tremaining: 519ms\n",
      "463:\tlearn: 0.1359026\ttotal: 448ms\tremaining: 518ms\n",
      "464:\tlearn: 0.1357773\ttotal: 449ms\tremaining: 517ms\n",
      "465:\tlearn: 0.1355687\ttotal: 450ms\tremaining: 516ms\n",
      "466:\tlearn: 0.1353080\ttotal: 451ms\tremaining: 515ms\n",
      "467:\tlearn: 0.1350415\ttotal: 452ms\tremaining: 514ms\n",
      "468:\tlearn: 0.1347750\ttotal: 453ms\tremaining: 512ms\n",
      "469:\tlearn: 0.1345828\ttotal: 453ms\tremaining: 511ms\n",
      "470:\tlearn: 0.1342697\ttotal: 454ms\tremaining: 510ms\n",
      "471:\tlearn: 0.1340245\ttotal: 455ms\tremaining: 509ms\n",
      "472:\tlearn: 0.1338649\ttotal: 456ms\tremaining: 508ms\n",
      "473:\tlearn: 0.1336119\ttotal: 457ms\tremaining: 507ms\n",
      "474:\tlearn: 0.1331511\ttotal: 458ms\tremaining: 506ms\n",
      "475:\tlearn: 0.1329230\ttotal: 458ms\tremaining: 505ms\n",
      "476:\tlearn: 0.1326086\ttotal: 459ms\tremaining: 504ms\n",
      "477:\tlearn: 0.1324301\ttotal: 460ms\tremaining: 502ms\n",
      "478:\tlearn: 0.1320333\ttotal: 461ms\tremaining: 501ms\n",
      "479:\tlearn: 0.1317410\ttotal: 462ms\tremaining: 500ms\n",
      "480:\tlearn: 0.1315776\ttotal: 462ms\tremaining: 499ms\n",
      "481:\tlearn: 0.1312718\ttotal: 463ms\tremaining: 498ms\n",
      "482:\tlearn: 0.1310719\ttotal: 464ms\tremaining: 497ms\n",
      "483:\tlearn: 0.1308745\ttotal: 465ms\tremaining: 496ms\n",
      "484:\tlearn: 0.1304677\ttotal: 466ms\tremaining: 494ms\n",
      "485:\tlearn: 0.1301582\ttotal: 467ms\tremaining: 493ms\n",
      "486:\tlearn: 0.1298449\ttotal: 467ms\tremaining: 492ms\n",
      "487:\tlearn: 0.1296228\ttotal: 468ms\tremaining: 491ms\n",
      "488:\tlearn: 0.1293452\ttotal: 469ms\tremaining: 490ms\n",
      "489:\tlearn: 0.1289746\ttotal: 470ms\tremaining: 489ms\n",
      "490:\tlearn: 0.1287466\ttotal: 471ms\tremaining: 488ms\n",
      "491:\tlearn: 0.1283693\ttotal: 471ms\tremaining: 487ms\n",
      "492:\tlearn: 0.1280848\ttotal: 472ms\tremaining: 486ms\n",
      "493:\tlearn: 0.1278037\ttotal: 473ms\tremaining: 485ms\n",
      "494:\tlearn: 0.1276500\ttotal: 474ms\tremaining: 483ms\n",
      "495:\tlearn: 0.1272990\ttotal: 475ms\tremaining: 482ms\n",
      "496:\tlearn: 0.1271055\ttotal: 476ms\tremaining: 481ms\n",
      "497:\tlearn: 0.1269187\ttotal: 476ms\tremaining: 480ms\n",
      "498:\tlearn: 0.1266886\ttotal: 477ms\tremaining: 479ms\n",
      "499:\tlearn: 0.1264645\ttotal: 478ms\tremaining: 478ms\n",
      "500:\tlearn: 0.1261628\ttotal: 479ms\tremaining: 477ms\n",
      "501:\tlearn: 0.1258906\ttotal: 480ms\tremaining: 476ms\n",
      "502:\tlearn: 0.1257524\ttotal: 481ms\tremaining: 475ms\n",
      "503:\tlearn: 0.1254820\ttotal: 481ms\tremaining: 474ms\n",
      "504:\tlearn: 0.1251694\ttotal: 482ms\tremaining: 473ms\n",
      "505:\tlearn: 0.1248898\ttotal: 483ms\tremaining: 472ms\n",
      "506:\tlearn: 0.1245543\ttotal: 484ms\tremaining: 470ms\n",
      "507:\tlearn: 0.1243204\ttotal: 485ms\tremaining: 469ms\n",
      "508:\tlearn: 0.1241210\ttotal: 486ms\tremaining: 468ms\n",
      "509:\tlearn: 0.1237092\ttotal: 486ms\tremaining: 467ms\n"
     ]
    },
    {
     "name": "stdout",
     "output_type": "stream",
     "text": [
      "510:\tlearn: 0.1234458\ttotal: 487ms\tremaining: 466ms\n",
      "511:\tlearn: 0.1233220\ttotal: 488ms\tremaining: 466ms\n",
      "512:\tlearn: 0.1231051\ttotal: 489ms\tremaining: 464ms\n",
      "513:\tlearn: 0.1229020\ttotal: 490ms\tremaining: 464ms\n",
      "514:\tlearn: 0.1225282\ttotal: 491ms\tremaining: 463ms\n",
      "515:\tlearn: 0.1223062\ttotal: 492ms\tremaining: 462ms\n",
      "516:\tlearn: 0.1219983\ttotal: 493ms\tremaining: 461ms\n",
      "517:\tlearn: 0.1217789\ttotal: 494ms\tremaining: 460ms\n",
      "518:\tlearn: 0.1215683\ttotal: 495ms\tremaining: 459ms\n",
      "519:\tlearn: 0.1214015\ttotal: 496ms\tremaining: 458ms\n",
      "520:\tlearn: 0.1212099\ttotal: 497ms\tremaining: 457ms\n",
      "521:\tlearn: 0.1208767\ttotal: 498ms\tremaining: 456ms\n",
      "522:\tlearn: 0.1206712\ttotal: 499ms\tremaining: 455ms\n",
      "523:\tlearn: 0.1204025\ttotal: 500ms\tremaining: 454ms\n",
      "524:\tlearn: 0.1202420\ttotal: 501ms\tremaining: 453ms\n",
      "525:\tlearn: 0.1199710\ttotal: 502ms\tremaining: 452ms\n",
      "526:\tlearn: 0.1196733\ttotal: 503ms\tremaining: 451ms\n",
      "527:\tlearn: 0.1193540\ttotal: 504ms\tremaining: 451ms\n",
      "528:\tlearn: 0.1191141\ttotal: 505ms\tremaining: 450ms\n",
      "529:\tlearn: 0.1187890\ttotal: 506ms\tremaining: 449ms\n",
      "530:\tlearn: 0.1184992\ttotal: 507ms\tremaining: 448ms\n",
      "531:\tlearn: 0.1183724\ttotal: 508ms\tremaining: 447ms\n",
      "532:\tlearn: 0.1181840\ttotal: 509ms\tremaining: 446ms\n",
      "533:\tlearn: 0.1179353\ttotal: 510ms\tremaining: 445ms\n",
      "534:\tlearn: 0.1176341\ttotal: 511ms\tremaining: 444ms\n",
      "535:\tlearn: 0.1175125\ttotal: 511ms\tremaining: 443ms\n",
      "536:\tlearn: 0.1173241\ttotal: 513ms\tremaining: 442ms\n",
      "537:\tlearn: 0.1170998\ttotal: 513ms\tremaining: 441ms\n",
      "538:\tlearn: 0.1168554\ttotal: 514ms\tremaining: 440ms\n",
      "539:\tlearn: 0.1166098\ttotal: 515ms\tremaining: 439ms\n",
      "540:\tlearn: 0.1163263\ttotal: 516ms\tremaining: 438ms\n",
      "541:\tlearn: 0.1160827\ttotal: 517ms\tremaining: 437ms\n",
      "542:\tlearn: 0.1158248\ttotal: 517ms\tremaining: 435ms\n",
      "543:\tlearn: 0.1154904\ttotal: 518ms\tremaining: 434ms\n",
      "544:\tlearn: 0.1153003\ttotal: 519ms\tremaining: 433ms\n",
      "545:\tlearn: 0.1152516\ttotal: 520ms\tremaining: 432ms\n",
      "546:\tlearn: 0.1150437\ttotal: 521ms\tremaining: 431ms\n",
      "547:\tlearn: 0.1148284\ttotal: 522ms\tremaining: 430ms\n",
      "548:\tlearn: 0.1146540\ttotal: 522ms\tremaining: 429ms\n",
      "549:\tlearn: 0.1144175\ttotal: 523ms\tremaining: 428ms\n",
      "550:\tlearn: 0.1142907\ttotal: 524ms\tremaining: 427ms\n",
      "551:\tlearn: 0.1140008\ttotal: 525ms\tremaining: 426ms\n",
      "552:\tlearn: 0.1137591\ttotal: 526ms\tremaining: 425ms\n",
      "553:\tlearn: 0.1135361\ttotal: 526ms\tremaining: 424ms\n",
      "554:\tlearn: 0.1134146\ttotal: 527ms\tremaining: 423ms\n",
      "555:\tlearn: 0.1131808\ttotal: 528ms\tremaining: 421ms\n",
      "556:\tlearn: 0.1130436\ttotal: 529ms\tremaining: 420ms\n",
      "557:\tlearn: 0.1127459\ttotal: 530ms\tremaining: 419ms\n",
      "558:\tlearn: 0.1125522\ttotal: 530ms\tremaining: 418ms\n",
      "559:\tlearn: 0.1122000\ttotal: 531ms\tremaining: 417ms\n",
      "560:\tlearn: 0.1120114\ttotal: 532ms\tremaining: 416ms\n",
      "561:\tlearn: 0.1117996\ttotal: 533ms\tremaining: 415ms\n",
      "562:\tlearn: 0.1116105\ttotal: 534ms\tremaining: 414ms\n",
      "563:\tlearn: 0.1113182\ttotal: 534ms\tremaining: 413ms\n",
      "564:\tlearn: 0.1111029\ttotal: 535ms\tremaining: 412ms\n",
      "565:\tlearn: 0.1109861\ttotal: 536ms\tremaining: 411ms\n",
      "566:\tlearn: 0.1109448\ttotal: 537ms\tremaining: 410ms\n",
      "567:\tlearn: 0.1106901\ttotal: 538ms\tremaining: 409ms\n",
      "568:\tlearn: 0.1103781\ttotal: 539ms\tremaining: 408ms\n",
      "569:\tlearn: 0.1101022\ttotal: 539ms\tremaining: 407ms\n",
      "570:\tlearn: 0.1098044\ttotal: 540ms\tremaining: 406ms\n",
      "571:\tlearn: 0.1095386\ttotal: 541ms\tremaining: 405ms\n",
      "572:\tlearn: 0.1093704\ttotal: 542ms\tremaining: 404ms\n",
      "573:\tlearn: 0.1093320\ttotal: 543ms\tremaining: 403ms\n",
      "574:\tlearn: 0.1092900\ttotal: 544ms\tremaining: 402ms\n",
      "575:\tlearn: 0.1091122\ttotal: 545ms\tremaining: 401ms\n",
      "576:\tlearn: 0.1090991\ttotal: 545ms\tremaining: 400ms\n",
      "577:\tlearn: 0.1088824\ttotal: 546ms\tremaining: 399ms\n",
      "578:\tlearn: 0.1086297\ttotal: 547ms\tremaining: 398ms\n",
      "579:\tlearn: 0.1086056\ttotal: 547ms\tremaining: 396ms\n",
      "580:\tlearn: 0.1085693\ttotal: 548ms\tremaining: 395ms\n",
      "581:\tlearn: 0.1083548\ttotal: 549ms\tremaining: 394ms\n",
      "582:\tlearn: 0.1081439\ttotal: 550ms\tremaining: 393ms\n",
      "583:\tlearn: 0.1079633\ttotal: 551ms\tremaining: 392ms\n",
      "584:\tlearn: 0.1077845\ttotal: 552ms\tremaining: 391ms\n",
      "585:\tlearn: 0.1076220\ttotal: 552ms\tremaining: 390ms\n",
      "586:\tlearn: 0.1075837\ttotal: 553ms\tremaining: 389ms\n",
      "587:\tlearn: 0.1075466\ttotal: 554ms\tremaining: 388ms\n",
      "588:\tlearn: 0.1074376\ttotal: 555ms\tremaining: 387ms\n",
      "589:\tlearn: 0.1074031\ttotal: 556ms\tremaining: 386ms\n",
      "590:\tlearn: 0.1071856\ttotal: 556ms\tremaining: 385ms\n",
      "591:\tlearn: 0.1069536\ttotal: 557ms\tremaining: 384ms\n",
      "592:\tlearn: 0.1068632\ttotal: 558ms\tremaining: 383ms\n",
      "593:\tlearn: 0.1067122\ttotal: 559ms\tremaining: 382ms\n",
      "594:\tlearn: 0.1065712\ttotal: 560ms\tremaining: 381ms\n",
      "595:\tlearn: 0.1064003\ttotal: 560ms\tremaining: 380ms\n",
      "596:\tlearn: 0.1061298\ttotal: 561ms\tremaining: 379ms\n",
      "597:\tlearn: 0.1059496\ttotal: 562ms\tremaining: 378ms\n",
      "598:\tlearn: 0.1059127\ttotal: 563ms\tremaining: 377ms\n",
      "599:\tlearn: 0.1057978\ttotal: 564ms\tremaining: 376ms\n",
      "600:\tlearn: 0.1057500\ttotal: 565ms\tremaining: 375ms\n",
      "601:\tlearn: 0.1054690\ttotal: 565ms\tremaining: 374ms\n",
      "602:\tlearn: 0.1052420\ttotal: 566ms\tremaining: 373ms\n",
      "603:\tlearn: 0.1050415\ttotal: 567ms\tremaining: 372ms\n",
      "604:\tlearn: 0.1049154\ttotal: 568ms\tremaining: 371ms\n",
      "605:\tlearn: 0.1048190\ttotal: 569ms\tremaining: 370ms\n",
      "606:\tlearn: 0.1046306\ttotal: 569ms\tremaining: 369ms\n",
      "607:\tlearn: 0.1043297\ttotal: 571ms\tremaining: 368ms\n",
      "608:\tlearn: 0.1042237\ttotal: 571ms\tremaining: 367ms\n"
     ]
    },
    {
     "name": "stdout",
     "output_type": "stream",
     "text": [
      "609:\tlearn: 0.1040615\ttotal: 572ms\tremaining: 366ms\n",
      "610:\tlearn: 0.1039212\ttotal: 573ms\tremaining: 365ms\n",
      "611:\tlearn: 0.1037546\ttotal: 574ms\tremaining: 364ms\n",
      "612:\tlearn: 0.1036630\ttotal: 575ms\tremaining: 363ms\n",
      "613:\tlearn: 0.1034948\ttotal: 576ms\tremaining: 362ms\n",
      "614:\tlearn: 0.1033674\ttotal: 577ms\tremaining: 361ms\n",
      "615:\tlearn: 0.1032255\ttotal: 578ms\tremaining: 360ms\n",
      "616:\tlearn: 0.1030620\ttotal: 579ms\tremaining: 359ms\n",
      "617:\tlearn: 0.1029498\ttotal: 579ms\tremaining: 358ms\n",
      "618:\tlearn: 0.1027409\ttotal: 580ms\tremaining: 357ms\n",
      "619:\tlearn: 0.1025955\ttotal: 581ms\tremaining: 356ms\n",
      "620:\tlearn: 0.1025614\ttotal: 582ms\tremaining: 355ms\n",
      "621:\tlearn: 0.1023485\ttotal: 582ms\tremaining: 354ms\n",
      "622:\tlearn: 0.1021800\ttotal: 583ms\tremaining: 353ms\n",
      "623:\tlearn: 0.1019350\ttotal: 584ms\tremaining: 352ms\n",
      "624:\tlearn: 0.1018472\ttotal: 585ms\tremaining: 351ms\n",
      "625:\tlearn: 0.1016164\ttotal: 586ms\tremaining: 350ms\n",
      "626:\tlearn: 0.1013714\ttotal: 586ms\tremaining: 349ms\n",
      "627:\tlearn: 0.1012135\ttotal: 587ms\tremaining: 348ms\n",
      "628:\tlearn: 0.1011824\ttotal: 588ms\tremaining: 347ms\n",
      "629:\tlearn: 0.1010285\ttotal: 589ms\tremaining: 346ms\n",
      "630:\tlearn: 0.1008266\ttotal: 590ms\tremaining: 345ms\n",
      "631:\tlearn: 0.1006674\ttotal: 591ms\tremaining: 344ms\n",
      "632:\tlearn: 0.1004469\ttotal: 591ms\tremaining: 343ms\n",
      "633:\tlearn: 0.1002932\ttotal: 592ms\tremaining: 342ms\n",
      "634:\tlearn: 0.1000416\ttotal: 593ms\tremaining: 341ms\n",
      "635:\tlearn: 0.0998858\ttotal: 594ms\tremaining: 340ms\n",
      "636:\tlearn: 0.0996139\ttotal: 595ms\tremaining: 339ms\n",
      "637:\tlearn: 0.0995153\ttotal: 596ms\tremaining: 338ms\n",
      "638:\tlearn: 0.0993789\ttotal: 596ms\tremaining: 337ms\n",
      "639:\tlearn: 0.0992644\ttotal: 597ms\tremaining: 336ms\n",
      "640:\tlearn: 0.0991276\ttotal: 598ms\tremaining: 335ms\n",
      "641:\tlearn: 0.0988879\ttotal: 599ms\tremaining: 334ms\n",
      "642:\tlearn: 0.0987201\ttotal: 599ms\tremaining: 333ms\n",
      "643:\tlearn: 0.0984665\ttotal: 600ms\tremaining: 332ms\n",
      "644:\tlearn: 0.0983976\ttotal: 601ms\tremaining: 331ms\n",
      "645:\tlearn: 0.0982509\ttotal: 602ms\tremaining: 330ms\n",
      "646:\tlearn: 0.0982157\ttotal: 603ms\tremaining: 329ms\n",
      "647:\tlearn: 0.0980243\ttotal: 603ms\tremaining: 328ms\n",
      "648:\tlearn: 0.0978954\ttotal: 604ms\tremaining: 327ms\n",
      "649:\tlearn: 0.0976772\ttotal: 605ms\tremaining: 326ms\n",
      "650:\tlearn: 0.0975375\ttotal: 606ms\tremaining: 325ms\n",
      "651:\tlearn: 0.0974601\ttotal: 607ms\tremaining: 324ms\n",
      "652:\tlearn: 0.0973855\ttotal: 608ms\tremaining: 323ms\n",
      "653:\tlearn: 0.0972961\ttotal: 608ms\tremaining: 322ms\n",
      "654:\tlearn: 0.0971365\ttotal: 609ms\tremaining: 321ms\n",
      "655:\tlearn: 0.0971127\ttotal: 610ms\tremaining: 320ms\n",
      "656:\tlearn: 0.0969431\ttotal: 611ms\tremaining: 319ms\n",
      "657:\tlearn: 0.0967189\ttotal: 612ms\tremaining: 318ms\n",
      "658:\tlearn: 0.0966885\ttotal: 612ms\tremaining: 317ms\n",
      "659:\tlearn: 0.0965628\ttotal: 613ms\tremaining: 316ms\n",
      "660:\tlearn: 0.0963585\ttotal: 614ms\tremaining: 315ms\n",
      "661:\tlearn: 0.0961964\ttotal: 615ms\tremaining: 314ms\n",
      "662:\tlearn: 0.0961643\ttotal: 616ms\tremaining: 313ms\n",
      "663:\tlearn: 0.0959236\ttotal: 616ms\tremaining: 312ms\n",
      "664:\tlearn: 0.0957451\ttotal: 617ms\tremaining: 311ms\n",
      "665:\tlearn: 0.0954640\ttotal: 618ms\tremaining: 310ms\n",
      "666:\tlearn: 0.0953156\ttotal: 619ms\tremaining: 309ms\n",
      "667:\tlearn: 0.0951566\ttotal: 620ms\tremaining: 308ms\n",
      "668:\tlearn: 0.0950721\ttotal: 621ms\tremaining: 307ms\n",
      "669:\tlearn: 0.0949631\ttotal: 622ms\tremaining: 306ms\n",
      "670:\tlearn: 0.0946681\ttotal: 623ms\tremaining: 305ms\n",
      "671:\tlearn: 0.0946363\ttotal: 624ms\tremaining: 305ms\n",
      "672:\tlearn: 0.0944714\ttotal: 625ms\tremaining: 304ms\n",
      "673:\tlearn: 0.0943953\ttotal: 626ms\tremaining: 303ms\n",
      "674:\tlearn: 0.0941669\ttotal: 627ms\tremaining: 302ms\n",
      "675:\tlearn: 0.0941339\ttotal: 627ms\tremaining: 301ms\n",
      "676:\tlearn: 0.0940623\ttotal: 628ms\tremaining: 300ms\n",
      "677:\tlearn: 0.0939018\ttotal: 629ms\tremaining: 299ms\n",
      "678:\tlearn: 0.0937114\ttotal: 630ms\tremaining: 298ms\n",
      "679:\tlearn: 0.0934973\ttotal: 630ms\tremaining: 297ms\n",
      "680:\tlearn: 0.0933220\ttotal: 631ms\tremaining: 296ms\n",
      "681:\tlearn: 0.0931126\ttotal: 632ms\tremaining: 295ms\n",
      "682:\tlearn: 0.0928673\ttotal: 633ms\tremaining: 294ms\n",
      "683:\tlearn: 0.0928375\ttotal: 634ms\tremaining: 293ms\n",
      "684:\tlearn: 0.0926549\ttotal: 635ms\tremaining: 292ms\n",
      "685:\tlearn: 0.0924641\ttotal: 635ms\tremaining: 291ms\n",
      "686:\tlearn: 0.0923484\ttotal: 636ms\tremaining: 290ms\n",
      "687:\tlearn: 0.0923007\ttotal: 637ms\tremaining: 289ms\n",
      "688:\tlearn: 0.0921215\ttotal: 638ms\tremaining: 288ms\n",
      "689:\tlearn: 0.0919973\ttotal: 639ms\tremaining: 287ms\n",
      "690:\tlearn: 0.0918758\ttotal: 639ms\tremaining: 286ms\n",
      "691:\tlearn: 0.0917730\ttotal: 640ms\tremaining: 285ms\n",
      "692:\tlearn: 0.0916982\ttotal: 641ms\tremaining: 284ms\n",
      "693:\tlearn: 0.0915109\ttotal: 642ms\tremaining: 283ms\n",
      "694:\tlearn: 0.0914835\ttotal: 643ms\tremaining: 282ms\n",
      "695:\tlearn: 0.0914541\ttotal: 643ms\tremaining: 281ms\n",
      "696:\tlearn: 0.0913324\ttotal: 644ms\tremaining: 280ms\n",
      "697:\tlearn: 0.0911025\ttotal: 645ms\tremaining: 279ms\n",
      "698:\tlearn: 0.0910757\ttotal: 646ms\tremaining: 278ms\n",
      "699:\tlearn: 0.0908189\ttotal: 647ms\tremaining: 277ms\n",
      "700:\tlearn: 0.0906397\ttotal: 648ms\tremaining: 276ms\n",
      "701:\tlearn: 0.0904295\ttotal: 648ms\tremaining: 275ms\n",
      "702:\tlearn: 0.0904010\ttotal: 649ms\tremaining: 274ms\n",
      "703:\tlearn: 0.0903748\ttotal: 650ms\tremaining: 273ms\n",
      "704:\tlearn: 0.0902200\ttotal: 651ms\tremaining: 272ms\n",
      "705:\tlearn: 0.0901579\ttotal: 652ms\tremaining: 271ms\n",
      "706:\tlearn: 0.0900295\ttotal: 652ms\tremaining: 270ms\n",
      "707:\tlearn: 0.0899951\ttotal: 653ms\tremaining: 269ms\n",
      "708:\tlearn: 0.0897790\ttotal: 654ms\tremaining: 269ms\n",
      "709:\tlearn: 0.0896308\ttotal: 655ms\tremaining: 268ms\n",
      "710:\tlearn: 0.0894883\ttotal: 656ms\tremaining: 267ms\n",
      "711:\tlearn: 0.0894632\ttotal: 657ms\tremaining: 266ms\n",
      "712:\tlearn: 0.0894391\ttotal: 658ms\tremaining: 265ms\n",
      "713:\tlearn: 0.0892411\ttotal: 658ms\tremaining: 264ms\n",
      "714:\tlearn: 0.0891231\ttotal: 659ms\tremaining: 263ms\n",
      "715:\tlearn: 0.0890602\ttotal: 660ms\tremaining: 262ms\n",
      "716:\tlearn: 0.0890372\ttotal: 661ms\tremaining: 261ms\n",
      "717:\tlearn: 0.0888713\ttotal: 662ms\tremaining: 260ms\n",
      "718:\tlearn: 0.0887495\ttotal: 662ms\tremaining: 259ms\n",
      "719:\tlearn: 0.0886386\ttotal: 663ms\tremaining: 258ms\n",
      "720:\tlearn: 0.0884239\ttotal: 664ms\tremaining: 257ms\n",
      "721:\tlearn: 0.0882977\ttotal: 665ms\tremaining: 256ms\n",
      "722:\tlearn: 0.0881852\ttotal: 666ms\tremaining: 255ms\n",
      "723:\tlearn: 0.0879910\ttotal: 666ms\tremaining: 254ms\n",
      "724:\tlearn: 0.0878256\ttotal: 667ms\tremaining: 253ms\n",
      "725:\tlearn: 0.0875503\ttotal: 668ms\tremaining: 252ms\n",
      "726:\tlearn: 0.0874128\ttotal: 669ms\tremaining: 251ms\n",
      "727:\tlearn: 0.0872835\ttotal: 670ms\tremaining: 250ms\n",
      "728:\tlearn: 0.0870889\ttotal: 671ms\tremaining: 249ms\n",
      "729:\tlearn: 0.0870661\ttotal: 671ms\tremaining: 248ms\n",
      "730:\tlearn: 0.0870122\ttotal: 672ms\tremaining: 247ms\n",
      "731:\tlearn: 0.0869901\ttotal: 673ms\tremaining: 246ms\n",
      "732:\tlearn: 0.0868632\ttotal: 674ms\tremaining: 245ms\n",
      "733:\tlearn: 0.0867149\ttotal: 675ms\tremaining: 245ms\n",
      "734:\tlearn: 0.0866585\ttotal: 676ms\tremaining: 244ms\n",
      "735:\tlearn: 0.0864978\ttotal: 676ms\tremaining: 243ms\n"
     ]
    },
    {
     "name": "stdout",
     "output_type": "stream",
     "text": [
      "736:\tlearn: 0.0863262\ttotal: 677ms\tremaining: 242ms\n",
      "737:\tlearn: 0.0862089\ttotal: 678ms\tremaining: 241ms\n",
      "738:\tlearn: 0.0860506\ttotal: 679ms\tremaining: 240ms\n",
      "739:\tlearn: 0.0858598\ttotal: 680ms\tremaining: 239ms\n",
      "740:\tlearn: 0.0857176\ttotal: 681ms\tremaining: 238ms\n",
      "741:\tlearn: 0.0855721\ttotal: 682ms\tremaining: 237ms\n",
      "742:\tlearn: 0.0854238\ttotal: 682ms\tremaining: 236ms\n",
      "743:\tlearn: 0.0852705\ttotal: 683ms\tremaining: 235ms\n",
      "744:\tlearn: 0.0851402\ttotal: 684ms\tremaining: 234ms\n",
      "745:\tlearn: 0.0850042\ttotal: 685ms\tremaining: 233ms\n",
      "746:\tlearn: 0.0848406\ttotal: 686ms\tremaining: 232ms\n",
      "747:\tlearn: 0.0848087\ttotal: 686ms\tremaining: 231ms\n",
      "748:\tlearn: 0.0846466\ttotal: 687ms\tremaining: 230ms\n",
      "749:\tlearn: 0.0845104\ttotal: 688ms\tremaining: 229ms\n",
      "750:\tlearn: 0.0842938\ttotal: 689ms\tremaining: 228ms\n",
      "751:\tlearn: 0.0841314\ttotal: 690ms\tremaining: 227ms\n",
      "752:\tlearn: 0.0840412\ttotal: 691ms\tremaining: 227ms\n",
      "753:\tlearn: 0.0838399\ttotal: 691ms\tremaining: 226ms\n",
      "754:\tlearn: 0.0836976\ttotal: 692ms\tremaining: 225ms\n",
      "755:\tlearn: 0.0835636\ttotal: 693ms\tremaining: 224ms\n",
      "756:\tlearn: 0.0833403\ttotal: 694ms\tremaining: 223ms\n",
      "757:\tlearn: 0.0832152\ttotal: 695ms\tremaining: 222ms\n",
      "758:\tlearn: 0.0830761\ttotal: 695ms\tremaining: 221ms\n",
      "759:\tlearn: 0.0829997\ttotal: 696ms\tremaining: 220ms\n",
      "760:\tlearn: 0.0828311\ttotal: 697ms\tremaining: 219ms\n",
      "761:\tlearn: 0.0827584\ttotal: 698ms\tremaining: 218ms\n",
      "762:\tlearn: 0.0826418\ttotal: 699ms\tremaining: 217ms\n",
      "763:\tlearn: 0.0825329\ttotal: 700ms\tremaining: 216ms\n",
      "764:\tlearn: 0.0824239\ttotal: 701ms\tremaining: 215ms\n",
      "765:\tlearn: 0.0823124\ttotal: 702ms\tremaining: 214ms\n",
      "766:\tlearn: 0.0823032\ttotal: 703ms\tremaining: 213ms\n",
      "767:\tlearn: 0.0821877\ttotal: 704ms\tremaining: 213ms\n",
      "768:\tlearn: 0.0820614\ttotal: 704ms\tremaining: 212ms\n",
      "769:\tlearn: 0.0820414\ttotal: 705ms\tremaining: 211ms\n",
      "770:\tlearn: 0.0819252\ttotal: 706ms\tremaining: 210ms\n",
      "771:\tlearn: 0.0817741\ttotal: 707ms\tremaining: 209ms\n",
      "772:\tlearn: 0.0816502\ttotal: 708ms\tremaining: 208ms\n",
      "773:\tlearn: 0.0814280\ttotal: 709ms\tremaining: 207ms\n",
      "774:\tlearn: 0.0812046\ttotal: 709ms\tremaining: 206ms\n",
      "775:\tlearn: 0.0809912\ttotal: 710ms\tremaining: 205ms\n",
      "776:\tlearn: 0.0808421\ttotal: 711ms\tremaining: 204ms\n",
      "777:\tlearn: 0.0806597\ttotal: 712ms\tremaining: 203ms\n",
      "778:\tlearn: 0.0804994\ttotal: 713ms\tremaining: 202ms\n",
      "779:\tlearn: 0.0804328\ttotal: 714ms\tremaining: 201ms\n",
      "780:\tlearn: 0.0803371\ttotal: 714ms\tremaining: 200ms\n",
      "781:\tlearn: 0.0802357\ttotal: 715ms\tremaining: 199ms\n",
      "782:\tlearn: 0.0801362\ttotal: 716ms\tremaining: 198ms\n",
      "783:\tlearn: 0.0800117\ttotal: 717ms\tremaining: 198ms\n",
      "784:\tlearn: 0.0798470\ttotal: 718ms\tremaining: 197ms\n",
      "785:\tlearn: 0.0797599\ttotal: 718ms\tremaining: 196ms\n",
      "786:\tlearn: 0.0795814\ttotal: 719ms\tremaining: 195ms\n",
      "787:\tlearn: 0.0795163\ttotal: 720ms\tremaining: 194ms\n",
      "788:\tlearn: 0.0793566\ttotal: 721ms\tremaining: 193ms\n",
      "789:\tlearn: 0.0792533\ttotal: 722ms\tremaining: 192ms\n",
      "790:\tlearn: 0.0790979\ttotal: 723ms\tremaining: 191ms\n",
      "791:\tlearn: 0.0789515\ttotal: 723ms\tremaining: 190ms\n",
      "792:\tlearn: 0.0789360\ttotal: 724ms\tremaining: 189ms\n",
      "793:\tlearn: 0.0788095\ttotal: 725ms\tremaining: 188ms\n",
      "794:\tlearn: 0.0787837\ttotal: 726ms\tremaining: 187ms\n",
      "795:\tlearn: 0.0786240\ttotal: 727ms\tremaining: 186ms\n",
      "796:\tlearn: 0.0785081\ttotal: 728ms\tremaining: 185ms\n",
      "797:\tlearn: 0.0783089\ttotal: 728ms\tremaining: 184ms\n",
      "798:\tlearn: 0.0782202\ttotal: 729ms\tremaining: 183ms\n",
      "799:\tlearn: 0.0781323\ttotal: 730ms\tremaining: 182ms\n",
      "800:\tlearn: 0.0780144\ttotal: 731ms\tremaining: 182ms\n",
      "801:\tlearn: 0.0779394\ttotal: 732ms\tremaining: 181ms\n",
      "802:\tlearn: 0.0777837\ttotal: 733ms\tremaining: 180ms\n",
      "803:\tlearn: 0.0776702\ttotal: 733ms\tremaining: 179ms\n",
      "804:\tlearn: 0.0774988\ttotal: 734ms\tremaining: 178ms\n",
      "805:\tlearn: 0.0773485\ttotal: 735ms\tremaining: 177ms\n",
      "806:\tlearn: 0.0772227\ttotal: 736ms\tremaining: 176ms\n",
      "807:\tlearn: 0.0771679\ttotal: 737ms\tremaining: 175ms\n",
      "808:\tlearn: 0.0770475\ttotal: 738ms\tremaining: 174ms\n",
      "809:\tlearn: 0.0768979\ttotal: 739ms\tremaining: 173ms\n",
      "810:\tlearn: 0.0767781\ttotal: 739ms\tremaining: 172ms\n",
      "811:\tlearn: 0.0767263\ttotal: 740ms\tremaining: 171ms\n",
      "812:\tlearn: 0.0766970\ttotal: 741ms\tremaining: 170ms\n",
      "813:\tlearn: 0.0765411\ttotal: 742ms\tremaining: 170ms\n",
      "814:\tlearn: 0.0764276\ttotal: 743ms\tremaining: 169ms\n",
      "815:\tlearn: 0.0763152\ttotal: 744ms\tremaining: 168ms\n",
      "816:\tlearn: 0.0762216\ttotal: 745ms\tremaining: 167ms\n",
      "817:\tlearn: 0.0760742\ttotal: 746ms\tremaining: 166ms\n",
      "818:\tlearn: 0.0760551\ttotal: 747ms\tremaining: 165ms\n",
      "819:\tlearn: 0.0760311\ttotal: 747ms\tremaining: 164ms\n",
      "820:\tlearn: 0.0758776\ttotal: 748ms\tremaining: 163ms\n",
      "821:\tlearn: 0.0757525\ttotal: 749ms\tremaining: 162ms\n",
      "822:\tlearn: 0.0756572\ttotal: 750ms\tremaining: 161ms\n",
      "823:\tlearn: 0.0755548\ttotal: 751ms\tremaining: 160ms\n",
      "824:\tlearn: 0.0753882\ttotal: 752ms\tremaining: 160ms\n",
      "825:\tlearn: 0.0753033\ttotal: 753ms\tremaining: 159ms\n",
      "826:\tlearn: 0.0751701\ttotal: 754ms\tremaining: 158ms\n",
      "827:\tlearn: 0.0750660\ttotal: 754ms\tremaining: 157ms\n",
      "828:\tlearn: 0.0748783\ttotal: 755ms\tremaining: 156ms\n",
      "829:\tlearn: 0.0746890\ttotal: 756ms\tremaining: 155ms\n",
      "830:\tlearn: 0.0745879\ttotal: 757ms\tremaining: 154ms\n",
      "831:\tlearn: 0.0744732\ttotal: 758ms\tremaining: 153ms\n",
      "832:\tlearn: 0.0743595\ttotal: 759ms\tremaining: 152ms\n",
      "833:\tlearn: 0.0742152\ttotal: 759ms\tremaining: 151ms\n",
      "834:\tlearn: 0.0740536\ttotal: 760ms\tremaining: 150ms\n",
      "835:\tlearn: 0.0739106\ttotal: 761ms\tremaining: 149ms\n",
      "836:\tlearn: 0.0737629\ttotal: 762ms\tremaining: 148ms\n"
     ]
    },
    {
     "name": "stdout",
     "output_type": "stream",
     "text": [
      "837:\tlearn: 0.0736442\ttotal: 763ms\tremaining: 147ms\n",
      "838:\tlearn: 0.0735083\ttotal: 764ms\tremaining: 147ms\n",
      "839:\tlearn: 0.0733453\ttotal: 765ms\tremaining: 146ms\n",
      "840:\tlearn: 0.0732295\ttotal: 765ms\tremaining: 145ms\n",
      "841:\tlearn: 0.0731530\ttotal: 766ms\tremaining: 144ms\n",
      "842:\tlearn: 0.0731356\ttotal: 767ms\tremaining: 143ms\n",
      "843:\tlearn: 0.0730216\ttotal: 768ms\tremaining: 142ms\n",
      "844:\tlearn: 0.0729138\ttotal: 769ms\tremaining: 141ms\n",
      "845:\tlearn: 0.0728118\ttotal: 770ms\tremaining: 140ms\n",
      "846:\tlearn: 0.0726929\ttotal: 771ms\tremaining: 139ms\n",
      "847:\tlearn: 0.0726025\ttotal: 771ms\tremaining: 138ms\n",
      "848:\tlearn: 0.0724801\ttotal: 772ms\tremaining: 137ms\n",
      "849:\tlearn: 0.0723898\ttotal: 773ms\tremaining: 136ms\n",
      "850:\tlearn: 0.0723344\ttotal: 774ms\tremaining: 135ms\n",
      "851:\tlearn: 0.0722911\ttotal: 774ms\tremaining: 135ms\n",
      "852:\tlearn: 0.0722623\ttotal: 775ms\tremaining: 134ms\n",
      "853:\tlearn: 0.0720984\ttotal: 776ms\tremaining: 133ms\n",
      "854:\tlearn: 0.0720063\ttotal: 777ms\tremaining: 132ms\n",
      "855:\tlearn: 0.0719134\ttotal: 778ms\tremaining: 131ms\n",
      "856:\tlearn: 0.0718976\ttotal: 778ms\tremaining: 130ms\n",
      "857:\tlearn: 0.0718240\ttotal: 779ms\tremaining: 129ms\n",
      "858:\tlearn: 0.0717773\ttotal: 780ms\tremaining: 128ms\n",
      "859:\tlearn: 0.0716051\ttotal: 781ms\tremaining: 127ms\n",
      "860:\tlearn: 0.0714575\ttotal: 782ms\tremaining: 126ms\n",
      "861:\tlearn: 0.0714176\ttotal: 783ms\tremaining: 125ms\n",
      "862:\tlearn: 0.0712871\ttotal: 783ms\tremaining: 124ms\n",
      "863:\tlearn: 0.0712199\ttotal: 784ms\tremaining: 123ms\n",
      "864:\tlearn: 0.0710738\ttotal: 785ms\tremaining: 123ms\n",
      "865:\tlearn: 0.0710104\ttotal: 786ms\tremaining: 122ms\n",
      "866:\tlearn: 0.0708542\ttotal: 787ms\tremaining: 121ms\n",
      "867:\tlearn: 0.0707057\ttotal: 788ms\tremaining: 120ms\n",
      "868:\tlearn: 0.0706106\ttotal: 788ms\tremaining: 119ms\n",
      "869:\tlearn: 0.0705179\ttotal: 789ms\tremaining: 118ms\n",
      "870:\tlearn: 0.0703758\ttotal: 790ms\tremaining: 117ms\n",
      "871:\tlearn: 0.0702626\ttotal: 791ms\tremaining: 116ms\n",
      "872:\tlearn: 0.0701740\ttotal: 792ms\tremaining: 115ms\n",
      "873:\tlearn: 0.0700845\ttotal: 793ms\tremaining: 114ms\n",
      "874:\tlearn: 0.0699947\ttotal: 794ms\tremaining: 113ms\n",
      "875:\tlearn: 0.0699078\ttotal: 795ms\tremaining: 113ms\n",
      "876:\tlearn: 0.0698782\ttotal: 796ms\tremaining: 112ms\n",
      "877:\tlearn: 0.0697661\ttotal: 797ms\tremaining: 111ms\n",
      "878:\tlearn: 0.0696050\ttotal: 797ms\tremaining: 110ms\n",
      "879:\tlearn: 0.0694690\ttotal: 798ms\tremaining: 109ms\n",
      "880:\tlearn: 0.0694122\ttotal: 799ms\tremaining: 108ms\n",
      "881:\tlearn: 0.0693211\ttotal: 800ms\tremaining: 107ms\n",
      "882:\tlearn: 0.0692659\ttotal: 801ms\tremaining: 106ms\n",
      "883:\tlearn: 0.0691548\ttotal: 802ms\tremaining: 105ms\n",
      "884:\tlearn: 0.0691440\ttotal: 802ms\tremaining: 104ms\n",
      "885:\tlearn: 0.0690449\ttotal: 803ms\tremaining: 103ms\n",
      "886:\tlearn: 0.0689583\ttotal: 804ms\tremaining: 102ms\n",
      "887:\tlearn: 0.0688094\ttotal: 805ms\tremaining: 101ms\n",
      "888:\tlearn: 0.0687098\ttotal: 806ms\tremaining: 101ms\n",
      "889:\tlearn: 0.0686143\ttotal: 806ms\tremaining: 99.7ms\n",
      "890:\tlearn: 0.0684763\ttotal: 807ms\tremaining: 98.7ms\n",
      "891:\tlearn: 0.0684514\ttotal: 808ms\tremaining: 97.8ms\n",
      "892:\tlearn: 0.0682806\ttotal: 809ms\tremaining: 96.9ms\n",
      "893:\tlearn: 0.0682238\ttotal: 809ms\tremaining: 96ms\n",
      "894:\tlearn: 0.0681387\ttotal: 810ms\tremaining: 95ms\n",
      "895:\tlearn: 0.0680111\ttotal: 811ms\tremaining: 94.1ms\n",
      "896:\tlearn: 0.0678161\ttotal: 812ms\tremaining: 93.2ms\n",
      "897:\tlearn: 0.0677585\ttotal: 813ms\tremaining: 92.3ms\n",
      "898:\tlearn: 0.0676871\ttotal: 813ms\tremaining: 91.4ms\n",
      "899:\tlearn: 0.0675454\ttotal: 814ms\tremaining: 90.5ms\n",
      "900:\tlearn: 0.0674140\ttotal: 815ms\tremaining: 89.6ms\n",
      "901:\tlearn: 0.0673101\ttotal: 816ms\tremaining: 88.6ms\n",
      "902:\tlearn: 0.0671280\ttotal: 817ms\tremaining: 87.7ms\n",
      "903:\tlearn: 0.0670225\ttotal: 817ms\tremaining: 86.8ms\n",
      "904:\tlearn: 0.0669339\ttotal: 818ms\tremaining: 85.9ms\n",
      "905:\tlearn: 0.0668814\ttotal: 819ms\tremaining: 85ms\n",
      "906:\tlearn: 0.0667684\ttotal: 820ms\tremaining: 84.1ms\n",
      "907:\tlearn: 0.0666818\ttotal: 820ms\tremaining: 83.1ms\n",
      "908:\tlearn: 0.0665974\ttotal: 821ms\tremaining: 82.2ms\n",
      "909:\tlearn: 0.0664794\ttotal: 822ms\tremaining: 81.3ms\n",
      "910:\tlearn: 0.0664382\ttotal: 823ms\tremaining: 80.4ms\n",
      "911:\tlearn: 0.0663361\ttotal: 824ms\tremaining: 79.5ms\n",
      "912:\tlearn: 0.0662585\ttotal: 825ms\tremaining: 78.6ms\n",
      "913:\tlearn: 0.0661694\ttotal: 825ms\tremaining: 77.7ms\n",
      "914:\tlearn: 0.0661320\ttotal: 826ms\tremaining: 76.8ms\n",
      "915:\tlearn: 0.0660452\ttotal: 827ms\tremaining: 75.8ms\n",
      "916:\tlearn: 0.0659592\ttotal: 828ms\tremaining: 74.9ms\n",
      "917:\tlearn: 0.0658477\ttotal: 829ms\tremaining: 74ms\n",
      "918:\tlearn: 0.0657645\ttotal: 830ms\tremaining: 73.1ms\n",
      "919:\tlearn: 0.0656229\ttotal: 831ms\tremaining: 72.2ms\n",
      "920:\tlearn: 0.0655939\ttotal: 831ms\tremaining: 71.3ms\n",
      "921:\tlearn: 0.0655452\ttotal: 832ms\tremaining: 70.4ms\n",
      "922:\tlearn: 0.0653690\ttotal: 833ms\tremaining: 69.5ms\n",
      "923:\tlearn: 0.0652993\ttotal: 834ms\tremaining: 68.6ms\n",
      "924:\tlearn: 0.0650898\ttotal: 834ms\tremaining: 67.7ms\n",
      "925:\tlearn: 0.0649485\ttotal: 835ms\tremaining: 66.8ms\n",
      "926:\tlearn: 0.0648505\ttotal: 836ms\tremaining: 65.8ms\n",
      "927:\tlearn: 0.0647226\ttotal: 837ms\tremaining: 64.9ms\n",
      "928:\tlearn: 0.0647083\ttotal: 838ms\tremaining: 64ms\n",
      "929:\tlearn: 0.0646324\ttotal: 839ms\tremaining: 63.1ms\n",
      "930:\tlearn: 0.0645219\ttotal: 840ms\tremaining: 62.2ms\n",
      "931:\tlearn: 0.0643968\ttotal: 840ms\tremaining: 61.3ms\n",
      "932:\tlearn: 0.0643126\ttotal: 841ms\tremaining: 60.4ms\n",
      "933:\tlearn: 0.0642274\ttotal: 842ms\tremaining: 59.5ms\n",
      "934:\tlearn: 0.0640831\ttotal: 843ms\tremaining: 58.6ms\n",
      "935:\tlearn: 0.0639776\ttotal: 844ms\tremaining: 57.7ms\n",
      "936:\tlearn: 0.0639040\ttotal: 845ms\tremaining: 56.8ms\n",
      "937:\tlearn: 0.0638412\ttotal: 845ms\tremaining: 55.9ms\n",
      "938:\tlearn: 0.0637541\ttotal: 846ms\tremaining: 55ms\n",
      "939:\tlearn: 0.0636717\ttotal: 847ms\tremaining: 54.1ms\n",
      "940:\tlearn: 0.0635790\ttotal: 848ms\tremaining: 53.2ms\n",
      "941:\tlearn: 0.0635273\ttotal: 849ms\tremaining: 52.3ms\n",
      "942:\tlearn: 0.0634307\ttotal: 849ms\tremaining: 51.3ms\n",
      "943:\tlearn: 0.0633615\ttotal: 850ms\tremaining: 50.4ms\n",
      "944:\tlearn: 0.0632214\ttotal: 851ms\tremaining: 49.5ms\n",
      "945:\tlearn: 0.0631408\ttotal: 852ms\tremaining: 48.6ms\n",
      "946:\tlearn: 0.0629392\ttotal: 853ms\tremaining: 47.7ms\n",
      "947:\tlearn: 0.0628353\ttotal: 854ms\tremaining: 46.8ms\n",
      "948:\tlearn: 0.0627714\ttotal: 855ms\tremaining: 45.9ms\n",
      "949:\tlearn: 0.0626824\ttotal: 855ms\tremaining: 45ms\n",
      "950:\tlearn: 0.0625827\ttotal: 856ms\tremaining: 44.1ms\n",
      "951:\tlearn: 0.0624738\ttotal: 857ms\tremaining: 43.2ms\n",
      "952:\tlearn: 0.0623856\ttotal: 858ms\tremaining: 42.3ms\n",
      "953:\tlearn: 0.0622804\ttotal: 858ms\tremaining: 41.4ms\n",
      "954:\tlearn: 0.0622171\ttotal: 859ms\tremaining: 40.5ms\n",
      "955:\tlearn: 0.0621627\ttotal: 860ms\tremaining: 39.6ms\n",
      "956:\tlearn: 0.0620852\ttotal: 861ms\tremaining: 38.7ms\n",
      "957:\tlearn: 0.0620087\ttotal: 862ms\tremaining: 37.8ms\n",
      "958:\tlearn: 0.0619370\ttotal: 862ms\tremaining: 36.9ms\n",
      "959:\tlearn: 0.0618822\ttotal: 863ms\tremaining: 36ms\n",
      "960:\tlearn: 0.0618331\ttotal: 864ms\tremaining: 35.1ms\n",
      "961:\tlearn: 0.0617861\ttotal: 865ms\tremaining: 34.2ms\n",
      "962:\tlearn: 0.0617120\ttotal: 866ms\tremaining: 33.3ms\n",
      "963:\tlearn: 0.0616216\ttotal: 867ms\tremaining: 32.4ms\n"
     ]
    },
    {
     "name": "stdout",
     "output_type": "stream",
     "text": [
      "964:\tlearn: 0.0615549\ttotal: 868ms\tremaining: 31.5ms\n",
      "965:\tlearn: 0.0614311\ttotal: 868ms\tremaining: 30.6ms\n",
      "966:\tlearn: 0.0613302\ttotal: 869ms\tremaining: 29.7ms\n",
      "967:\tlearn: 0.0612856\ttotal: 870ms\tremaining: 28.8ms\n",
      "968:\tlearn: 0.0612259\ttotal: 871ms\tremaining: 27.9ms\n",
      "969:\tlearn: 0.0611609\ttotal: 872ms\tremaining: 27ms\n",
      "970:\tlearn: 0.0610567\ttotal: 872ms\tremaining: 26.1ms\n",
      "971:\tlearn: 0.0610317\ttotal: 873ms\tremaining: 25.2ms\n",
      "972:\tlearn: 0.0609063\ttotal: 874ms\tremaining: 24.3ms\n",
      "973:\tlearn: 0.0608122\ttotal: 875ms\tremaining: 23.4ms\n",
      "974:\tlearn: 0.0607396\ttotal: 876ms\tremaining: 22.4ms\n",
      "975:\tlearn: 0.0606654\ttotal: 876ms\tremaining: 21.5ms\n",
      "976:\tlearn: 0.0606066\ttotal: 877ms\tremaining: 20.6ms\n",
      "977:\tlearn: 0.0604967\ttotal: 878ms\tremaining: 19.8ms\n",
      "978:\tlearn: 0.0604451\ttotal: 879ms\tremaining: 18.9ms\n",
      "979:\tlearn: 0.0603898\ttotal: 880ms\tremaining: 18ms\n",
      "980:\tlearn: 0.0603235\ttotal: 880ms\tremaining: 17.1ms\n",
      "981:\tlearn: 0.0602860\ttotal: 881ms\tremaining: 16.2ms\n",
      "982:\tlearn: 0.0601743\ttotal: 882ms\tremaining: 15.3ms\n",
      "983:\tlearn: 0.0601002\ttotal: 883ms\tremaining: 14.4ms\n",
      "984:\tlearn: 0.0599992\ttotal: 884ms\tremaining: 13.5ms\n",
      "985:\tlearn: 0.0599169\ttotal: 885ms\tremaining: 12.6ms\n",
      "986:\tlearn: 0.0598484\ttotal: 885ms\tremaining: 11.7ms\n",
      "987:\tlearn: 0.0597370\ttotal: 886ms\tremaining: 10.8ms\n",
      "988:\tlearn: 0.0596729\ttotal: 887ms\tremaining: 9.87ms\n",
      "989:\tlearn: 0.0596345\ttotal: 888ms\tremaining: 8.97ms\n",
      "990:\tlearn: 0.0595679\ttotal: 889ms\tremaining: 8.07ms\n",
      "991:\tlearn: 0.0595086\ttotal: 890ms\tremaining: 7.17ms\n",
      "992:\tlearn: 0.0594980\ttotal: 891ms\tremaining: 6.28ms\n",
      "993:\tlearn: 0.0594371\ttotal: 891ms\tremaining: 5.38ms\n",
      "994:\tlearn: 0.0593575\ttotal: 892ms\tremaining: 4.48ms\n",
      "995:\tlearn: 0.0592737\ttotal: 893ms\tremaining: 3.59ms\n",
      "996:\tlearn: 0.0591841\ttotal: 894ms\tremaining: 2.69ms\n",
      "997:\tlearn: 0.0590504\ttotal: 895ms\tremaining: 1.79ms\n",
      "998:\tlearn: 0.0590119\ttotal: 896ms\tremaining: 896us\n",
      "999:\tlearn: 0.0589703\ttotal: 897ms\tremaining: 0us\n"
     ]
    },
    {
     "data": {
      "text/plain": [
       "<catboost.core.CatBoostRegressor at 0x7fc7f97d6dc0>"
      ]
     },
     "execution_count": 9,
     "metadata": {},
     "output_type": "execute_result"
    }
   ],
   "source": [
    "#Train the Model \n",
    "prior_model = ctb.CatBoostRegressor()\n",
    "prior_model.fit(X_train,Y_train)"
   ]
  },
  {
   "cell_type": "code",
   "execution_count": 10,
   "id": "af65dcda",
   "metadata": {
    "execution": {
     "iopub.execute_input": "2022-06-12T03:04:44.984561Z",
     "iopub.status.busy": "2022-06-12T03:04:44.984158Z",
     "iopub.status.idle": "2022-06-12T03:04:44.992262Z",
     "shell.execute_reply": "2022-06-12T03:04:44.992562Z"
    },
    "id": "af65dcda",
    "papermill": {
     "duration": 0.022139,
     "end_time": "2022-06-12T03:04:44.992687",
     "exception": false,
     "start_time": "2022-06-12T03:04:44.970548",
     "status": "completed"
    },
    "tags": []
   },
   "outputs": [
    {
     "data": {
      "application/scrapbook.scrap.json+json": {
       "data": 0.11019111339379974,
       "encoder": "json",
       "name": "Prior Model MSE",
       "version": 1
      }
     },
     "metadata": {
      "scrapbook": {
       "data": true,
       "display": false,
       "name": "Prior Model MSE"
      }
     },
     "output_type": "display_data"
    },
    {
     "data": {
      "application/scrapbook.scrap.json+json": {
       "data": 0.10975786846784662,
       "encoder": "json",
       "name": "ABC Pre-generator MSE",
       "version": 1
      }
     },
     "metadata": {
      "scrapbook": {
       "data": true,
       "display": false,
       "name": "ABC Pre-generator MSE"
      }
     },
     "output_type": "display_data"
    },
    {
     "data": {
      "application/scrapbook.scrap.json+json": {
       "data": 0.23128576960407796,
       "encoder": "json",
       "name": "Prior Model MSE",
       "version": 1
      }
     },
     "metadata": {
      "scrapbook": {
       "data": true,
       "display": false,
       "name": "Prior Model MSE"
      }
     },
     "output_type": "display_data"
    },
    {
     "data": {
      "application/scrapbook.scrap.json+json": {
       "data": 0.23105240695020335,
       "encoder": "json",
       "name": "ABC Pre-generator MSE",
       "version": 1
      }
     },
     "metadata": {
      "scrapbook": {
       "data": true,
       "display": false,
       "name": "ABC Pre-generator MSE"
      }
     },
     "output_type": "display_data"
    }
   ],
   "source": [
    "y_pred = prior_model.predict(X_test)\n",
    "y_abc = y_pred + np.random.normal(0,variance, y_pred.shape) + bias \n",
    "mse = mean_squared_error(y_pred,Y_test)\n",
    "sb.glue(\"Prior Model MSE\",mse)\n",
    "mse = mean_squared_error(y_abc,Y_test)\n",
    "sb.glue(\"ABC Pre-generator MSE\",mse)\n",
    "mae = mean_absolute_error(y_pred,Y_test)\n",
    "sb.glue(\"Prior Model MSE\",mae)\n",
    "mae = mean_absolute_error(y_abc,Y_test)\n",
    "sb.glue(\"ABC Pre-generator MSE\",mae)"
   ]
  },
  {
   "cell_type": "markdown",
   "id": "25609da2",
   "metadata": {
    "papermill": {
     "duration": 0.00988,
     "end_time": "2022-06-12T03:04:45.012773",
     "exception": false,
     "start_time": "2022-06-12T03:04:45.002893",
     "status": "completed"
    },
    "tags": []
   },
   "source": [
    "# ABC GAN Model"
   ]
  },
  {
   "cell_type": "code",
   "execution_count": 11,
   "id": "dfc3464d",
   "metadata": {
    "execution": {
     "iopub.execute_input": "2022-06-12T03:04:45.035761Z",
     "iopub.status.busy": "2022-06-12T03:04:45.035342Z",
     "iopub.status.idle": "2022-06-12T03:04:45.037930Z",
     "shell.execute_reply": "2022-06-12T03:04:45.038167Z"
    },
    "papermill": {
     "duration": 0.015455,
     "end_time": "2022-06-12T03:04:45.038274",
     "exception": false,
     "start_time": "2022-06-12T03:04:45.022819",
     "status": "completed"
    },
    "tags": []
   },
   "outputs": [],
   "source": [
    "gen = network.Generator(n_features+1).to(device)\n",
    "disc = network.Discriminator(n_features+1).to(device)\n",
    "\n",
    "criterion = torch.nn.BCELoss()\n",
    "gen_opt = torch.optim.Adam(gen.parameters(), lr=0.001, betas=(0.5, 0.999))\n",
    "disc_opt = torch.optim.Adam(disc.parameters(), lr=0.001, betas=(0.5, 0.999))"
   ]
  },
  {
   "cell_type": "code",
   "execution_count": 12,
   "id": "b75fdd85",
   "metadata": {
    "execution": {
     "iopub.execute_input": "2022-06-12T03:04:45.061049Z",
     "iopub.status.busy": "2022-06-12T03:04:45.060675Z",
     "iopub.status.idle": "2022-06-12T03:05:44.340678Z",
     "shell.execute_reply": "2022-06-12T03:05:44.340974Z"
    },
    "papermill": {
     "duration": 59.292829,
     "end_time": "2022-06-12T03:05:44.341095",
     "exception": false,
     "start_time": "2022-06-12T03:04:45.048266",
     "status": "completed"
    },
    "tags": []
   },
   "outputs": [
    {
     "data": {
      "image/png": "[encoded data removed]",
      "text/plain": [
       "<Figure size 432x288 with 1 Axes>"
      ]
     },
     "metadata": {
      "needs_background": "light"
     },
     "output_type": "display_data"
    },
    {
     "data": {
      "image/png": "[encoded data removed]",
      "text/plain": [
       "<Figure size 432x288 with 1 Axes>"
      ]
     },
     "metadata": {
      "needs_background": "light"
     },
     "output_type": "display_data"
    }
   ],
   "source": [
    "#Training the ABC_GAN \n",
    "ABC_train_test2.training_GAN(disc,gen,disc_opt,gen_opt,train_data,batch_size,n_epochs,criterion,prior_model,variance,bias,device)"
   ]
  },
  {
   "cell_type": "code",
   "execution_count": 13,
   "id": "1fa7c368",
   "metadata": {
    "execution": {
     "iopub.execute_input": "2022-06-12T03:05:44.366406Z",
     "iopub.status.busy": "2022-06-12T03:05:44.365853Z",
     "iopub.status.idle": "2022-06-12T03:05:44.670655Z",
     "shell.execute_reply": "2022-06-12T03:05:44.670897Z"
    },
    "papermill": {
     "duration": 0.319008,
     "end_time": "2022-06-12T03:05:44.671018",
     "exception": false,
     "start_time": "2022-06-12T03:05:44.352010",
     "status": "completed"
    },
    "tags": []
   },
   "outputs": [
    {
     "data": {
      "application/scrapbook.scrap.json+json": {
       "data": 0.12003701921227074,
       "encoder": "json",
       "name": "ABC-GAN Model 1 MSE",
       "version": 1
      }
     },
     "metadata": {
      "scrapbook": {
       "data": true,
       "display": false,
       "name": "ABC-GAN Model 1 MSE"
      }
     },
     "output_type": "display_data"
    },
    {
     "data": {
      "application/scrapbook.scrap.json+json": {
       "data": 0.2338757084879805,
       "encoder": "json",
       "name": "ABC-GAN Model 1 MAE",
       "version": 1
      }
     },
     "metadata": {
      "scrapbook": {
       "data": true,
       "display": false,
       "name": "ABC-GAN Model 1 MAE"
      }
     },
     "output_type": "display_data"
    },
    {
     "data": {
      "application/scrapbook.scrap.json+json": {
       "data": 23.85532226577401,
       "encoder": "json",
       "name": "ABC-GAN Model 1 Manhattan Distance",
       "version": 1
      }
     },
     "metadata": {
      "scrapbook": {
       "data": true,
       "display": false,
       "name": "ABC-GAN Model 1 Manhattan Distance"
      }
     },
     "output_type": "display_data"
    },
    {
     "data": {
      "application/scrapbook.scrap.json+json": {
       "data": 3.499089432863448,
       "encoder": "json",
       "name": "ABC-GAN Model 1 Euclidean distance",
       "version": 1
      }
     },
     "metadata": {
      "scrapbook": {
       "data": true,
       "display": false,
       "name": "ABC-GAN Model 1 Euclidean distance"
      }
     },
     "output_type": "display_data"
    },
    {
     "data": {
      "application/scrapbook.scrap.json+json": {
       "data": [
        [
         0.11969344592132436,
         0.11891317535752534,
         0.1189832636904268,
         0.12076470818345478,
         0.12040208149204,
         0.11958473842389121,
         0.12024113223068181,
         0.11980519475724395,
         0.12030085900714128,
         0.11989625309658983,
         0.11988408277825656,
         0.12054674465602573,
         0.11792563918372602,
         0.12001853578868066,
         0.11972527281802964,
         0.12144690422387697,
         0.12038964501908148,
         0.12099271687518794,
         0.11940395328763578,
         0.11931248966539872,
         0.11822797155932438,
         0.12029230001056927,
         0.1189622038011108,
         0.12057534150169583,
         0.12030499658840806,
         0.1208323872425604,
         0.12029052269433928,
         0.1214240287855937,
         0.11982832014374142,
         0.12060460558360186,
         0.11977311733336275,
         0.12107343301877113,
         0.1203592007778384,
         0.12021698765689032,
         0.119388370553554,
         0.12142574949868527,
         0.11860452985665693,
         0.1208666123264215,
         0.11984410123963897,
         0.11907610321393626,
         0.1206841853860165,
         0.12146364604435085,
         0.11962669024319882,
         0.11901215114550269,
         0.12204969037038475,
         0.11921954793347259,
         0.12042224086654303,
         0.11840938020581936,
         0.12060086773490772,
         0.12008012982908038,
         0.11883874976633346,
         0.12135514648356245,
         0.11957753094447238,
         0.11908054066279997,
         0.12093628355594115,
         0.11931946910307299,
         0.1192681963189716,
         0.11878362380626975,
         0.12063042877952763,
         0.12069768089454662,
         0.12119764886085743,
         0.11968491125808874,
         0.12118457528035116,
         0.12005184332701316,
         0.11976097269772269,
         0.12054291067865608,
         0.1193402102111969,
         0.11974770742748979,
         0.119950087406791,
         0.12012335939662422,
         0.11953622933972985,
         0.12046094914008758,
         0.11988455447010361,
         0.1184514318985247,
         0.11816225539862911,
         0.12020105726265036,
         0.11928087365520286,
         0.1206030126158762,
         0.11962610048671454,
         0.12134075120578114,
         0.12073816915408304,
         0.12100848561281155,
         0.11977137483382778,
         0.12143867281034804,
         0.12083982233642947,
         0.12082958262841627,
         0.11984030956530692,
         0.1208709290486138,
         0.11971557222223769,
         0.11828031817138153,
         0.11957511733340948,
         0.12005482413203002,
         0.12029248164643608,
         0.12068522286925755,
         0.11993032732238178,
         0.11991676022777807,
         0.12037977800486252,
         0.11987235491110443,
         0.12007273196705215,
         0.12019974449352101
        ],
        [
         0.233344138746022,
         0.2332586068842633,
         0.23223342423272483,
         0.23419072930061935,
         0.235164281912148,
         0.23339314632775152,
         0.23457770310707537,
         0.23222235332736196,
         0.233977572426346,
         0.23400187534371428,
         0.23323214183762378,
         0.2338344647421264,
         0.23169315407308294,
         0.2336954600634236,
         0.2346923448985406,
         0.23593611297581127,
         0.23388184546766913,
         0.2331103577881175,
         0.232895423000788,
         0.23291972467639283,
         0.2322021574329804,
         0.23540109861642122,
         0.23327616140173346,
         0.23430401391769742,
         0.23377050165379165,
         0.23430668327080853,
         0.23284316996075943,
         0.2358418651034727,
         0.23417194134683586,
         0.2343491328807146,
         0.2328423945160181,
         0.23403252374526917,
         0.2344135898256711,
         0.23495854523178994,
         0.23324339404044783,
         0.23558807144781538,
         0.23170318197020712,
         0.2346557260984007,
         0.2354776456623393,
         0.23331378982858916,
         0.23560684428130294,
         0.23581213056675943,
         0.23394499841493135,
         0.23217283888701715,
         0.23527867462047758,
         0.2325224125319544,
         0.2340134452918873,
         0.23356552033082528,
         0.23403021808275404,
         0.23351987624796583,
         0.23316898326590366,
         0.23438481305378908,
         0.2345560983955568,
         0.2329720920317021,
         0.23463379093171918,
         0.231956615441424,
         0.23312481856156214,
         0.23212400836614416,
         0.2350339554798077,
         0.23507965434634803,
         0.23616073307964733,
         0.23462706773231426,
         0.23454607919077664,
         0.23416393182660436,
         0.23424496485249086,
         0.23432483295818754,
         0.23367475000593593,
         0.2337740387804076,
         0.23411126009316421,
         0.2338671623455251,
         0.23322506502782012,
         0.23419179173880347,
         0.23386528114696928,
         0.2325236586050368,
         0.2332342720462703,
         0.23322394612592226,
         0.23206733165345356,
         0.23348623855660358,
         0.2344655722343162,
         0.23477672067854335,
         0.23402583969793483,
         0.23452741563247115,
         0.23332882714549116,
         0.23444696324055686,
         0.23424594635691712,
         0.23546036331019565,
         0.23378596650253908,
         0.23389478230520205,
         0.23500375060693307,
         0.23218861278876954,
         0.23360321588595123,
         0.23384071044696897,
         0.23496726423721104,
         0.23405843898288758,
         0.23274429133344515,
         0.23335616580922813,
         0.2344017035200023,
         0.23453728955092967,
         0.2321414749375453,
         0.23400488961488008
        ],
        [
         23.801102152094245,
         23.792377902194858,
         23.687809271737933,
         23.887454388663173,
         23.986756755039096,
         23.806100925430655,
         23.926925716921687,
         23.68668003939092,
         23.865712387487292,
         23.868191285058856,
         23.789678467437625,
         23.851115403696895,
         23.63270171545446,
         23.836936926469207,
         23.93861917965114,
         24.065483523532748,
         23.85594823770225,
         23.777256494387984,
         23.755333146080375,
         23.75781191699207,
         23.684620058164,
         24.010912058874965,
         23.794168462976813,
         23.899009419605136,
         23.844591168686748,
         23.89928169362247,
         23.750003335997462,
         24.055870240554214,
         23.885538017377257,
         23.90361155383289,
         23.749924240633845,
         23.871317422017455,
         23.91018616221845,
         23.965771613642573,
         23.790826192125678,
         24.02998328767717,
         23.633724560961127,
         23.934884062036872,
         24.018719857558608,
         23.798006562516093,
         24.0318981166929,
         24.052837317809463,
         23.862389838322997,
         23.68162956647575,
         23.998424811288714,
         23.71728607825935,
         23.869371419772506,
         23.823683073744178,
         23.871082244440913,
         23.819027377292514,
         23.783236293122172,
         23.907250931486487,
         23.924722036346793,
         23.763153387233615,
         23.932646675035357,
         23.65957477502525,
         23.778731493279338,
         23.676648853346705,
         23.973463458940387,
         23.9781247433275,
         24.088394774124026,
         23.931960908696055,
         23.923700077459216,
         23.884721046313643,
         23.892986414954066,
         23.90113296173513,
         23.834824500605464,
         23.844951955601573,
         23.87934852950275,
         23.85445055924356,
         23.788956632837653,
         23.887562757357955,
         23.854258676990867,
         23.717413177713752,
         23.789895748719573,
         23.78884250484407,
         23.670867828652263,
         23.815596332773566,
         23.915488367900252,
         23.94722550921142,
         23.870635649189353,
         23.921796394512057,
         23.7995403688401,
         23.9135902505368,
         23.893086528405547,
         24.016957057639956,
         23.846168583258986,
         23.85726779513061,
         23.970382561907172,
         23.683238504454494,
         23.827528020367026,
         23.851752465590835,
         23.966660952195525,
         23.873960776254535,
         23.739917716011405,
         23.80232891254127,
         23.908973759040236,
         23.922803534194827,
         23.678430443629622,
         23.86849874071777
        ],
        [
         3.494099524051237,
         3.48269204588456,
         3.483718257325574,
         3.5097008753898646,
         3.5044275298810326,
         3.4925124651512554,
         3.502084448943163,
         3.4957302334761016,
         3.5029541274085227,
         3.497058451878115,
         3.4968809592810226,
         3.506532183641642,
         3.468200570431308,
         3.4988413297040815,
         3.4945640396820625,
         3.5196000100629967,
         3.504246536981425,
         3.513012542145155,
         3.4898715213226477,
         3.4885346416325964,
         3.472643531814212,
         3.502829513561581,
         3.483409936787988,
         3.5069480796232173,
         3.5030143665160174,
         3.5106841923962846,
         3.5028036363494026,
         3.5192685228795137,
         3.496067598697374,
         3.5073736284472727,
         3.495262217345502,
         3.514184139727833,
         3.503803430465173,
         3.50173281976264,
         3.489643792203224,
         3.5192934587592855,
         3.4781693526018835,
         3.5111813478222658,
         3.496297802882811,
         3.48507711935066,
         3.508530591198213,
         3.519842595418691,
         3.493125019922172,
         3.4841411304425187,
         3.528323740500472,
         3.4871756321146483,
         3.5047208973593578,
         3.475306717542147,
         3.5073192767355215,
         3.499739024922601,
         3.481601998529701,
         3.518270163208529,
         3.4924072151363132,
         3.4851420555847636,
         3.512193178443634,
         3.4886366747647193,
         3.48788704297245,
         3.4807943961457286,
         3.507749098141401,
         3.508726756423725,
         3.5159863742351805,
         3.493974949584648,
         3.5157967345391015,
         3.49932679516437,
         3.4950850082891707,
         3.5064764207424686,
         3.4889398735922748,
         3.494891437169967,
         3.497843466407935,
         3.5003689317635738,
         3.491804031249812,
         3.5052841271841193,
         3.4968878386288806,
         3.475923769827169,
         3.4716782757997846,
         3.501500798342096,
         3.4880724064776367,
         3.5073504653540635,
         3.4931164094036258,
         3.518061486527726,
         3.5093152115072916,
         3.5132414566190544,
         3.495236792128744,
         3.519480732530795,
         3.51079220095918,
         3.5106434492979277,
         3.496242493829812,
         3.5112440477640683,
         3.49442246539657,
         3.473412220494555,
         3.492371968735256,
         3.4993702378380958,
         3.502832158116697,
         3.508545672021994,
         3.497555344363107,
         3.4973575086389666,
         3.5041029317781134,
         3.4967099108923296,
         3.4996312178055726,
         3.5014816775672464
        ]
       ],
       "encoder": "json",
       "name": "ABC_GAN_1 Metrics",
       "version": 1
      }
     },
     "metadata": {
      "scrapbook": {
       "data": true,
       "display": false,
       "name": "ABC_GAN_1 Metrics"
      }
     },
     "output_type": "display_data"
    },
    {
     "name": "stdout",
     "output_type": "stream",
     "text": [
      "MSE\n",
      "0.12003701921227074\n"
     ]
    }
   ],
   "source": [
    "ABC_GAN1_metrics=ABC_train_test2.test_generator(gen,test_data,prior_model,variance,bias,\"1\",device)\n",
    "sb.glue(\"ABC_GAN_1 Metrics\",ABC_GAN1_metrics)\n",
    "\n",
    "print(\"MSE\")\n",
    "print(mean(ABC_GAN1_metrics[0]))"
   ]
  },
  {
   "cell_type": "code",
   "execution_count": 14,
   "id": "eb22ce5c",
   "metadata": {
    "execution": {
     "iopub.execute_input": "2022-06-12T03:05:44.699481Z",
     "iopub.status.busy": "2022-06-12T03:05:44.698995Z",
     "iopub.status.idle": "2022-06-12T03:05:45.023378Z",
     "shell.execute_reply": "2022-06-12T03:05:45.023684Z"
    },
    "papermill": {
     "duration": 0.340006,
     "end_time": "2022-06-12T03:05:45.023810",
     "exception": false,
     "start_time": "2022-06-12T03:05:44.683804",
     "status": "completed"
    },
    "tags": []
   },
   "outputs": [
    {
     "data": {
      "image/png": "[encoded data removed]",
      "text/plain": [
       "<Figure size 432x288 with 1 Axes>"
      ]
     },
     "metadata": {
      "needs_background": "light"
     },
     "output_type": "display_data"
    },
    {
     "data": {
      "image/png": "[encoded data removed]",
      "text/plain": [
       "<Figure size 432x288 with 1 Axes>"
      ]
     },
     "metadata": {
      "needs_background": "light"
     },
     "output_type": "display_data"
    },
    {
     "data": {
      "image/png": "[encoded data removed]",
      "text/plain": [
       "<Figure size 432x288 with 1 Axes>"
      ]
     },
     "metadata": {
      "needs_background": "light"
     },
     "output_type": "display_data"
    },
    {
     "data": {
      "image/png": "[encoded data removed]",
      "text/plain": [
       "<Figure size 432x288 with 1 Axes>"
      ]
     },
     "metadata": {
      "needs_background": "light"
     },
     "output_type": "display_data"
    }
   ],
   "source": [
    "sanityChecks.discProbVsError(train_data,disc,device)\n",
    "sanityChecks.discProbVsError(test_data,disc,device)"
   ]
  },
  {
   "cell_type": "markdown",
   "id": "130f3a4d",
   "metadata": {
    "id": "130f3a4d",
    "papermill": {
     "duration": 0.014615,
     "end_time": "2022-06-12T03:05:45.053515",
     "exception": false,
     "start_time": "2022-06-12T03:05:45.038900",
     "status": "completed"
    },
    "tags": []
   },
   "source": [
    "# ABC - GAN Model with skip connection"
   ]
  },
  {
   "cell_type": "code",
   "execution_count": 15,
   "id": "4e43dad1",
   "metadata": {
    "execution": {
     "iopub.execute_input": "2022-06-12T03:05:45.087056Z",
     "iopub.status.busy": "2022-06-12T03:05:45.086661Z",
     "iopub.status.idle": "2022-06-12T03:05:45.089075Z",
     "shell.execute_reply": "2022-06-12T03:05:45.089332Z"
    },
    "id": "4e43dad1",
    "papermill": {
     "duration": 0.02103,
     "end_time": "2022-06-12T03:05:45.089451",
     "exception": false,
     "start_time": "2022-06-12T03:05:45.068421",
     "status": "completed"
    },
    "tags": []
   },
   "outputs": [],
   "source": [
    "#Generator\n",
    "gen3 = network.GeneratorWithSkipConnection(n_features+1).to(device)\n",
    "constraints=network.weightConstraint()\n",
    "#Discriminator \n",
    "disc3 = network.Discriminator(n_features+1).to(device)\n",
    "\n",
    "criterion = torch.nn.BCELoss()\n",
    "gen_opt = torch.optim.Adam(gen3.parameters(), lr=0.001, betas=(0.5, 0.999))\n",
    "disc_opt = torch.optim.Adam(disc3.parameters(), lr=0.001, betas=(0.5, 0.999))\n"
   ]
  },
  {
   "cell_type": "code",
   "execution_count": 16,
   "id": "26acbc37",
   "metadata": {
    "execution": {
     "iopub.execute_input": "2022-06-12T03:05:45.121441Z",
     "iopub.status.busy": "2022-06-12T03:05:45.121080Z",
     "iopub.status.idle": "2022-06-12T03:09:38.618564Z",
     "shell.execute_reply": "2022-06-12T03:09:38.618876Z"
    },
    "id": "26acbc37",
    "papermill": {
     "duration": 233.514586,
     "end_time": "2022-06-12T03:09:38.618999",
     "exception": false,
     "start_time": "2022-06-12T03:05:45.104413",
     "status": "completed"
    },
    "tags": []
   },
   "outputs": [
    {
     "data": {
      "image/png": "[encoded data removed]",
      "text/plain": [
       "<Figure size 432x288 with 1 Axes>"
      ]
     },
     "metadata": {
      "needs_background": "light"
     },
     "output_type": "display_data"
    },
    {
     "data": {
      "image/png": "[encoded data removed]",
      "text/plain": [
       "<Figure size 432x288 with 1 Axes>"
      ]
     },
     "metadata": {
      "needs_background": "light"
     },
     "output_type": "display_data"
    }
   ],
   "source": [
    "ABC_train_test2.training_GAN_skip_connection(disc3,gen3,disc_opt,gen_opt,train_data,batch_size,n_epochs,criterion,prior_model,variance,bias,device)"
   ]
  },
  {
   "cell_type": "code",
   "execution_count": 17,
   "id": "c5e0717b",
   "metadata": {
    "execution": {
     "iopub.execute_input": "2022-06-12T03:09:38.653886Z",
     "iopub.status.busy": "2022-06-12T03:09:38.653417Z",
     "iopub.status.idle": "2022-06-12T03:09:39.466151Z",
     "shell.execute_reply": "2022-06-12T03:09:39.466494Z"
    },
    "id": "c5e0717b",
    "papermill": {
     "duration": 0.83173,
     "end_time": "2022-06-12T03:09:39.466621",
     "exception": false,
     "start_time": "2022-06-12T03:09:38.634891",
     "status": "completed"
    },
    "tags": []
   },
   "outputs": [
    {
     "data": {
      "application/scrapbook.scrap.json+json": {
       "data": 0.10237932070093239,
       "encoder": "json",
       "name": "ABC-GAN Model 3 MSE",
       "version": 1
      }
     },
     "metadata": {
      "scrapbook": {
       "data": true,
       "display": false,
       "name": "ABC-GAN Model 3 MSE"
      }
     },
     "output_type": "display_data"
    },
    {
     "data": {
      "application/scrapbook.scrap.json+json": {
       "data": 0.22271266072936008,
       "encoder": "json",
       "name": "ABC-GAN Model 3 MAE",
       "version": 1
      }
     },
     "metadata": {
      "scrapbook": {
       "data": true,
       "display": false,
       "name": "ABC-GAN Model 3 MAE"
      }
     },
     "output_type": "display_data"
    },
    {
     "data": {
      "application/scrapbook.scrap.json+json": {
       "data": 22.71669139439473,
       "encoder": "json",
       "name": "ABC-GAN Model 3 Manhattan Distance",
       "version": 1
      }
     },
     "metadata": {
      "scrapbook": {
       "data": true,
       "display": false,
       "name": "ABC-GAN Model 3 Manhattan Distance"
      }
     },
     "output_type": "display_data"
    },
    {
     "data": {
      "application/scrapbook.scrap.json+json": {
       "data": 3.2314975705622864,
       "encoder": "json",
       "name": "ABC-GAN Model 3 Euclidean distance",
       "version": 1
      }
     },
     "metadata": {
      "scrapbook": {
       "data": true,
       "display": false,
       "name": "ABC-GAN Model 3 Euclidean distance"
      }
     },
     "output_type": "display_data"
    },
    {
     "data": {
      "application/scrapbook.scrap.json+json": {
       "data": [
        [
         0.1028801208567065,
         0.10279144491363447,
         0.1029069999741307,
         0.10301079050277533,
         0.10277677979412743,
         0.10280255813922883,
         0.10216925792133154,
         0.1022662462535298,
         0.1021575323297954,
         0.10380122899058956,
         0.10113654423295516,
         0.10262616230281116,
         0.10177307151125001,
         0.10338769473564537,
         0.10349761967495301,
         0.10146989234698003,
         0.10217075637028669,
         0.10191820232485231,
         0.10288791931554597,
         0.10357324778630334,
         0.10243909334956289,
         0.1036692781652113,
         0.10206821561613703,
         0.10148818139404413,
         0.10236199522299987,
         0.10195784485293997,
         0.10292363834641,
         0.10382968163081786,
         0.10212824764432177,
         0.10120111618856337,
         0.10271470131069016,
         0.10244003896089854,
         0.10385851858308463,
         0.10165459109590982,
         0.10217571984192815,
         0.10276215195742769,
         0.10250705401421875,
         0.10279806070044753,
         0.10209965284822975,
         0.1030640764842554,
         0.101146003552878,
         0.1031227517699102,
         0.10222839440168226,
         0.10206548495812495,
         0.1023518855968457,
         0.10182613671021912,
         0.10197696726752066,
         0.1016293764612462,
         0.10216203954825118,
         0.10205862098954142,
         0.10207700313264555,
         0.10126632540701866,
         0.10267649826163198,
         0.10224520894646143,
         0.10213351169143702,
         0.10077400138226397,
         0.10192634891621452,
         0.10177617863135308,
         0.10295778934262048,
         0.10345063038761884,
         0.10234618187097418,
         0.10236265721025853,
         0.10238412736441521,
         0.10342945825467134,
         0.10225888371768814,
         0.10094945858084323,
         0.10318832819465651,
         0.10291431542568123,
         0.1025695212042999,
         0.10255658319872164,
         0.10207786357715565,
         0.10156794794187199,
         0.101984888472799,
         0.10122153494803178,
         0.10363162231661463,
         0.10326702146814123,
         0.1026420544840608,
         0.10166654632790471,
         0.10208802610405548,
         0.10118789225307036,
         0.10152223481207258,
         0.10216818571697597,
         0.10187762528186524,
         0.10215699404738318,
         0.10278735914589442,
         0.10247378085164646,
         0.10301551012897489,
         0.10299749816281809,
         0.10324211797494534,
         0.10215118984991539,
         0.10194556363247344,
         0.10175496218619913,
         0.1029677837533809,
         0.1022017667033438,
         0.10248671732909889,
         0.10240871990646638,
         0.10301844202613997,
         0.10237725182753489,
         0.10230023969624324,
         0.10178612830293494
        ],
        [
         0.22244255918571176,
         0.2232668146344961,
         0.22207628990359166,
         0.22373373874956193,
         0.22389525155920317,
         0.22473422126552345,
         0.2244374353858624,
         0.22267212201932482,
         0.2220749126235936,
         0.22529813566464274,
         0.2221746271334625,
         0.2229899450880932,
         0.22366324713563218,
         0.2228261717759511,
         0.22423865784680946,
         0.22091855909492747,
         0.22222078581541485,
         0.22019695855594953,
         0.2220742356251268,
         0.22401799308592638,
         0.2220022540868205,
         0.22449709407473897,
         0.22264921250433534,
         0.22149183612097711,
         0.22255393024533987,
         0.22154012350730745,
         0.22177166539226092,
         0.22483781708276593,
         0.22134295182174765,
         0.22154203986785576,
         0.2234226350567541,
         0.22350250525564394,
         0.22483658565747022,
         0.22073965012232827,
         0.22198261919787482,
         0.22236624231342883,
         0.22306163992513628,
         0.22317126156835287,
         0.2224425862945032,
         0.22366006812993802,
         0.2211575973048514,
         0.22336383379411465,
         0.2224168041492721,
         0.22284896320243383,
         0.22153911343319158,
         0.22212964169425414,
         0.22205467463708392,
         0.2210526700295946,
         0.22152966987706868,
         0.2218771147468657,
         0.22205358786353221,
         0.22141976020864995,
         0.22297110982860127,
         0.22331015578032853,
         0.22116700961601501,
         0.21986717736238942,
         0.2223974513186726,
         0.22195728873267917,
         0.22511056894619091,
         0.22480263664642824,
         0.22215874491752508,
         0.2229737319673101,
         0.22358168596767036,
         0.22309652452959733,
         0.22217903193086386,
         0.22169061877089097,
         0.2245428634296153,
         0.22324132008076297,
         0.22355557398359274,
         0.2241884981574235,
         0.22292451569627897,
         0.22231032089649827,
         0.2213233908428354,
         0.2221220519220201,
         0.22328818952847346,
         0.22360077164336747,
         0.2217356584984444,
         0.22169614773627153,
         0.22308349762769306,
         0.22110229285488672,
         0.22264458544041013,
         0.22360493301176557,
         0.22268224290718197,
         0.22295487210081488,
         0.2228339985560845,
         0.22238640076316454,
         0.22262628800144382,
         0.22492288799919918,
         0.22440498502121545,
         0.2217525932572636,
         0.22286253687286495,
         0.22233391328550436,
         0.22362937686015286,
         0.22275760954738977,
         0.22303036315476193,
         0.2230844405461468,
         0.22217937869330248,
         0.2226713703689622,
         0.22391054224149853,
         0.2212031137782569
        ],
        [
         22.6891410369426,
         22.7732150927186,
         22.65178157016635,
         22.820841352455318,
         22.837315659038723,
         22.922890569083393,
         22.892618409357965,
         22.71255644597113,
         22.65164108760655,
         22.98040983779356,
         22.661811967613176,
         22.744974398985505,
         22.813651207834482,
         22.728269521147013,
         22.872343100374565,
         22.533693027682602,
         22.666520153172314,
         22.46008977270685,
         22.651572033762932,
         22.84983529476449,
         22.644229916855693,
         22.898703595623374,
         22.710219675442204,
         22.592167284339666,
         22.700500885024667,
         22.59709259774536,
         22.620709870010614,
         22.933457342442125,
         22.57698108581826,
         22.597288066521287,
         22.789108775788918,
         22.79725553607568,
         22.933331737061962,
         22.515444312477484,
         22.642227158183232,
         22.68135671596974,
         22.7522872723639,
         22.763468679971993,
         22.689143802039325,
         22.81332694925368,
         22.558074925094843,
         22.783111046999693,
         22.686514023225754,
         22.730594246648252,
         22.596989570185542,
         22.657223452813923,
         22.64957681298256,
         22.54737234301865,
         22.596026327461004,
         22.6314657041803,
         22.649465962080285,
         22.584815541282296,
         22.74305320251733,
         22.777635889593512,
         22.55903498083353,
         22.42645209096372,
         22.684540034504607,
         22.639643450733274,
         22.961278032511473,
         22.92986893793568,
         22.66019198158756,
         22.74332066066563,
         22.805331968702376,
         22.75584550201893,
         22.662261256948113,
         22.612443114630878,
         22.90337206982076,
         22.770614648237824,
         22.80266854632646,
         22.867226812057197,
         22.738300601020455,
         22.675652731442824,
         22.57498586596921,
         22.65644929604605,
         22.775395331904292,
         22.80727870762348,
         22.617037166841328,
         22.613007069099694,
         22.754516758024693,
         22.552433871198446,
         22.709747714921832,
         22.80770316720009,
         22.71358877653256,
         22.74139695428312,
         22.72906785272062,
         22.683412877842784,
         22.70788137614727,
         22.942134575918317,
         22.889308472163975,
         22.618764512240887,
         22.731978761032224,
         22.678059155121446,
         22.81019643973559,
         22.721276173833758,
         22.749097041785717,
         22.754612935706973,
         22.662296626716852,
         22.712479777634144,
         22.83887530863285,
         22.562717605382204
        ],
        [
         3.239409255926775,
         3.238012875389892,
         3.239832402665504,
         3.2414658152266673,
         3.2377818856434724,
         3.2381879084144174,
         3.2281983067921667,
         3.2297301927343764,
         3.2280130572287233,
         3.2538785098771177,
         3.2118417631884397,
         3.235408560736455,
         3.221933161030424,
         3.2473904697519558,
         3.2491163732382997,
         3.217130556783787,
         3.2282219796304656,
         3.224229619170281,
         3.239532029504522,
         3.250303258805698,
         3.2324584330901165,
         3.251809707355514,
         3.226601616693015,
         3.217420473328362,
         3.2312417911301505,
         3.2248566130914837,
         3.2400943059321308,
         3.2543244347089035,
         3.2275503496802056,
         3.2128669208719898,
         3.2368039072038948,
         3.2324733524055,
         3.2547763203444,
         3.220057187657201,
         3.2283003924474984,
         3.237551466719506,
         3.2335305023225485,
         3.238117075006036,
         3.2270984785902384,
         3.2423040883597034,
         3.2119919617573074,
         3.2432268931622463,
         3.2291324266699855,
         3.2265584553404176,
         3.231082222859434,
         3.2227730209312515,
         3.225159013333623,
         3.2196578077564566,
         3.2280842668557486,
         3.2264499594652363,
         3.226740510101462,
         3.2139018640145034,
         3.2362019131516595,
         3.2293979798933217,
         3.227633528225683,
         3.206079871274408,
         3.224358477194166,
         3.2219823432784374,
         3.240631807679991,
         3.2483787186128903,
         3.2309921929400205,
         3.2312522395267083,
         3.2315910928164087,
         3.2480462961565797,
         3.2296139303644624,
         3.2088697036878915,
         3.244257923756211,
         3.2399475572020426,
         3.2345155994118486,
         3.234311593874284,
         3.2267541097626067,
         3.2186846210946083,
         3.225284270297038,
         3.213191025242545,
         3.251219075407668,
         3.245494752691861,
         3.235659060743916,
         3.2202465317808016,
         3.2269147281286594,
         3.2126570015818956,
         3.217960215855908,
         3.228181367756705,
         3.223587718482351,
         3.2280045527900176,
         3.237948522271661,
         3.2330056676207573,
         3.2415400711938513,
         3.2412566718184235,
         3.245103393336555,
         3.227912849612171,
         3.2246623839577824,
         3.221646495659061,
         3.2407890926200142,
         3.228711848979569,
         3.2332097314538832,
         3.2319791816253356,
         3.2415861991726014,
         3.2314825833367196,
         3.2302669315424706,
         3.222139830438673
        ]
       ],
       "encoder": "json",
       "name": "ABC_GAN_3 Metrics",
       "version": 1
      }
     },
     "metadata": {
      "scrapbook": {
       "data": true,
       "display": false,
       "name": "ABC_GAN_3 Metrics"
      }
     },
     "output_type": "display_data"
    },
    {
     "name": "stdout",
     "output_type": "stream",
     "text": [
      "MSE\n",
      "0.10237932070093239\n"
     ]
    }
   ],
   "source": [
    "ABC_GAN3_metrics=ABC_train_test2.test_generator(gen3,test_data,prior_model,variance,bias,\"3\",device)\n",
    "sb.glue(\"ABC_GAN_3 Metrics\",ABC_GAN3_metrics)\n",
    "\n",
    "print(\"MSE\")\n",
    "print(mean(ABC_GAN3_metrics[0]))"
   ]
  },
  {
   "cell_type": "code",
   "execution_count": 18,
   "id": "c8e46b48",
   "metadata": {
    "execution": {
     "iopub.execute_input": "2022-06-12T03:09:39.504389Z",
     "iopub.status.busy": "2022-06-12T03:09:39.503936Z",
     "iopub.status.idle": "2022-06-12T03:09:39.825306Z",
     "shell.execute_reply": "2022-06-12T03:09:39.825616Z"
    },
    "id": "c8e46b48",
    "papermill": {
     "duration": 0.341733,
     "end_time": "2022-06-12T03:09:39.825742",
     "exception": false,
     "start_time": "2022-06-12T03:09:39.484009",
     "status": "completed"
    },
    "tags": []
   },
   "outputs": [
    {
     "data": {
      "image/png": "[encoded data removed]",
      "text/plain": [
       "<Figure size 432x288 with 1 Axes>"
      ]
     },
     "metadata": {
      "needs_background": "light"
     },
     "output_type": "display_data"
    },
    {
     "data": {
      "image/png": "[encoded data removed]",
      "text/plain": [
       "<Figure size 432x288 with 1 Axes>"
      ]
     },
     "metadata": {
      "needs_background": "light"
     },
     "output_type": "display_data"
    },
    {
     "data": {
      "image/png": "[encoded data removed]",
      "text/plain": [
       "<Figure size 432x288 with 1 Axes>"
      ]
     },
     "metadata": {
      "needs_background": "light"
     },
     "output_type": "display_data"
    },
    {
     "data": {
      "image/png": "[encoded data removed]",
      "text/plain": [
       "<Figure size 432x288 with 1 Axes>"
      ]
     },
     "metadata": {
      "needs_background": "light"
     },
     "output_type": "display_data"
    }
   ],
   "source": [
    "sanityChecks.discProbVsError(train_data,disc3,device)\n",
    "sanityChecks.discProbVsError(test_data,disc3,device)"
   ]
  },
  {
   "cell_type": "markdown",
   "id": "a5bd74c3",
   "metadata": {
    "id": "a5bd74c3",
    "papermill": {
     "duration": 0.020064,
     "end_time": "2022-06-12T03:09:39.865530",
     "exception": false,
     "start_time": "2022-06-12T03:09:39.845466",
     "status": "completed"
    },
    "tags": []
   },
   "source": [
    "## Skip Connection Model Analysis - ABC-GAN "
   ]
  },
  {
   "cell_type": "markdown",
   "id": "5744a8bf",
   "metadata": {
    "id": "5744a8bf",
    "papermill": {
     "duration": 0.019097,
     "end_time": "2022-06-12T03:09:39.904014",
     "exception": false,
     "start_time": "2022-06-12T03:09:39.884917",
     "status": "completed"
    },
    "tags": []
   },
   "source": [
    "### Weight Analysis \n",
    "\n",
    "Study the weights of the skip connection layer\n",
    "\n",
    "Equation of the skip connection is \n",
    "\n",
    "$output = y_{gan} * w + y_{abc} * (1-w)$"
   ]
  },
  {
   "cell_type": "code",
   "execution_count": 19,
   "id": "52c31dea",
   "metadata": {
    "execution": {
     "iopub.execute_input": "2022-06-12T03:09:39.945269Z",
     "iopub.status.busy": "2022-06-12T03:09:39.944885Z",
     "iopub.status.idle": "2022-06-12T03:09:39.948455Z",
     "shell.execute_reply": "2022-06-12T03:09:39.948702Z"
    },
    "id": "52c31dea",
    "papermill": {
     "duration": 0.025764,
     "end_time": "2022-06-12T03:09:39.948820",
     "exception": false,
     "start_time": "2022-06-12T03:09:39.923056",
     "status": "completed"
    },
    "tags": []
   },
   "outputs": [
    {
     "name": "stdout",
     "output_type": "stream",
     "text": [
      "Weight of the node at skip connection\n",
      "Parameter containing:\n",
      "tensor([[0.1371]], requires_grad=True)\n"
     ]
    },
    {
     "data": {
      "application/scrapbook.scrap.json+json": {
       "data": 0.1370752602815628,
       "encoder": "json",
       "name": "Skip Connection Weight",
       "version": 1
      }
     },
     "metadata": {
      "scrapbook": {
       "data": true,
       "display": false,
       "name": "Skip Connection Weight"
      }
     },
     "output_type": "display_data"
    }
   ],
   "source": [
    "print(\"Weight of the node at skip connection\")\n",
    "for name,param in gen3.named_parameters():\n",
    "    if(name == \"skipNode.weight\"):\n",
    "        print(param)\n",
    "        sb.glue(\"Skip Connection Weight\",param.item())"
   ]
  }
 ],
 "metadata": {
  "colab": {
   "collapsed_sections": [],
   "name": "ABC_GAN_Model-Catboost_Pre-gen.ipynb",
   "provenance": []
  },
  "interpreter": {
   "hash": "31f2aee4e71d21fbe5cf8b01ff0e069b9275f58929596ceb00d14d90e3e16cd6"
  },
  "kernelspec": {
   "display_name": "Python 3 (ipykernel)",
   "language": "python",
   "name": "python3"
  },
  "language_info": {
   "codemirror_mode": {
    "name": "ipython",
    "version": 3
   },
   "file_extension": ".py",
   "mimetype": "text/x-python",
   "name": "python",
   "nbconvert_exporter": "python",
   "pygments_lexer": "ipython3",
   "version": "3.8.11"
  },
  "papermill": {
   "default_parameters": {},
   "duration": 299.076668,
   "end_time": "2022-06-12T03:09:40.276797",
   "environment_variables": {},
   "exception": null,
   "input_path": "ABC_GAN-Catboost.ipynb",
   "output_path": "./ABC_GAN_Catboost/ABC-GAN_output_3_8.ipynb",
   "parameters": {
    "bias": 0.01,
    "variance": 0.01
   },
   "start_time": "2022-06-12T03:04:41.200129",
   "version": "2.3.3"
  }
 },
 "nbformat": 4,
 "nbformat_minor": 5
}