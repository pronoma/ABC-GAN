{
 "cells": [
  {
   "cell_type": "markdown",
   "id": "622780e6",
   "metadata": {
    "id": "622780e6",
    "papermill": {
     "duration": 0.03593,
     "end_time": "2022-06-12T06:21:07.583636",
     "exception": false,
     "start_time": "2022-06-12T06:21:07.547706",
     "status": "completed"
    },
    "tags": []
   },
   "source": [
    "## Import Libraries "
   ]
  },
  {
   "cell_type": "code",
   "execution_count": 1,
   "id": "a62397e3",
   "metadata": {
    "execution": {
     "iopub.execute_input": "2022-06-12T06:21:07.619060Z",
     "iopub.status.busy": "2022-06-12T06:21:07.618576Z",
     "iopub.status.idle": "2022-06-12T06:21:07.620949Z",
     "shell.execute_reply": "2022-06-12T06:21:07.621298Z"
    },
    "id": "a62397e3",
    "papermill": {
     "duration": 0.021499,
     "end_time": "2022-06-12T06:21:07.621506",
     "exception": false,
     "start_time": "2022-06-12T06:21:07.600007",
     "status": "completed"
    },
    "tags": []
   },
   "outputs": [],
   "source": [
    "import warnings\n",
    "import sys\n",
    "sys.path.insert(0, '../../src')\n",
    "warnings.filterwarnings('ignore')"
   ]
  },
  {
   "cell_type": "code",
   "execution_count": 2,
   "id": "d6a4e155",
   "metadata": {
    "execution": {
     "iopub.execute_input": "2022-06-12T06:21:07.642041Z",
     "iopub.status.busy": "2022-06-12T06:21:07.641639Z",
     "iopub.status.idle": "2022-06-12T06:21:09.412837Z",
     "shell.execute_reply": "2022-06-12T06:21:09.413095Z"
    },
    "id": "d6a4e155",
    "papermill": {
     "duration": 1.782172,
     "end_time": "2022-06-12T06:21:09.413217",
     "exception": false,
     "start_time": "2022-06-12T06:21:07.631045",
     "status": "completed"
    },
    "tags": []
   },
   "outputs": [],
   "source": [
    "import ABC_train_test2\n",
    "import bostonDataset\n",
    "import network\n",
    "import dataset\n",
    "import sanityChecks\n",
    "import torch \n",
    "import scrapbook as sb\n",
    "from statistics import mean \n",
    "import catboost as ctb \n",
    "from sklearn.model_selection import train_test_split\n",
    "from sklearn.metrics import mean_squared_error,mean_absolute_error\n",
    "import numpy as np"
   ]
  },
  {
   "cell_type": "markdown",
   "id": "2fa5b0f7",
   "metadata": {
    "id": "2fa5b0f7",
    "papermill": {
     "duration": 0.00684,
     "end_time": "2022-06-12T06:21:09.427319",
     "exception": false,
     "start_time": "2022-06-12T06:21:09.420479",
     "status": "completed"
    },
    "tags": []
   },
   "source": [
    "## Parameters "
   ]
  },
  {
   "cell_type": "code",
   "execution_count": 3,
   "id": "783186fb",
   "metadata": {
    "execution": {
     "iopub.execute_input": "2022-06-12T06:21:09.443062Z",
     "iopub.status.busy": "2022-06-12T06:21:09.442694Z",
     "iopub.status.idle": "2022-06-12T06:21:09.443995Z",
     "shell.execute_reply": "2022-06-12T06:21:09.444251Z"
    },
    "id": "783186fb",
    "papermill": {
     "duration": 0.010225,
     "end_time": "2022-06-12T06:21:09.444359",
     "exception": false,
     "start_time": "2022-06-12T06:21:09.434134",
     "status": "completed"
    },
    "tags": [
     "parameters"
    ]
   },
   "outputs": [],
   "source": [
    "variance = 1\n",
    "bias = 1 "
   ]
  },
  {
   "cell_type": "code",
   "execution_count": 4,
   "id": "8dde6617",
   "metadata": {
    "execution": {
     "iopub.execute_input": "2022-06-12T06:21:09.460034Z",
     "iopub.status.busy": "2022-06-12T06:21:09.459676Z",
     "iopub.status.idle": "2022-06-12T06:21:09.460984Z",
     "shell.execute_reply": "2022-06-12T06:21:09.461239Z"
    },
    "papermill": {
     "duration": 0.010011,
     "end_time": "2022-06-12T06:21:09.461347",
     "exception": false,
     "start_time": "2022-06-12T06:21:09.451336",
     "status": "completed"
    },
    "tags": [
     "injected-parameters"
    ]
   },
   "outputs": [],
   "source": [
    "# Parameters\n",
    "variance = 0.1\n",
    "bias = 0.1\n"
   ]
  },
  {
   "cell_type": "markdown",
   "id": "391cdbfd",
   "metadata": {
    "id": "391cdbfd",
    "papermill": {
     "duration": 0.006823,
     "end_time": "2022-06-12T06:21:09.475144",
     "exception": false,
     "start_time": "2022-06-12T06:21:09.468321",
     "status": "completed"
    },
    "tags": []
   },
   "source": [
    "## Dataset \n"
   ]
  },
  {
   "cell_type": "code",
   "execution_count": 5,
   "id": "5b51f161",
   "metadata": {
    "execution": {
     "iopub.execute_input": "2022-06-12T06:21:09.490826Z",
     "iopub.status.busy": "2022-06-12T06:21:09.490452Z",
     "iopub.status.idle": "2022-06-12T06:21:09.491602Z",
     "shell.execute_reply": "2022-06-12T06:21:09.491851Z"
    },
    "id": "5b51f161",
    "papermill": {
     "duration": 0.009893,
     "end_time": "2022-06-12T06:21:09.491959",
     "exception": false,
     "start_time": "2022-06-12T06:21:09.482066",
     "status": "completed"
    },
    "tags": []
   },
   "outputs": [],
   "source": [
    "#Parameters \n",
    "n_features = 13\n",
    "n_samples= 506\n",
    "n_target = 1 "
   ]
  },
  {
   "cell_type": "code",
   "execution_count": 6,
   "id": "5d6eced4",
   "metadata": {
    "execution": {
     "iopub.execute_input": "2022-06-12T06:21:09.507809Z",
     "iopub.status.busy": "2022-06-12T06:21:09.507442Z",
     "iopub.status.idle": "2022-06-12T06:21:09.517491Z",
     "shell.execute_reply": "2022-06-12T06:21:09.517746Z"
    },
    "id": "5d6eced4",
    "papermill": {
     "duration": 0.018877,
     "end_time": "2022-06-12T06:21:09.517859",
     "exception": false,
     "start_time": "2022-06-12T06:21:09.498982",
     "status": "completed"
    },
    "tags": []
   },
   "outputs": [
    {
     "name": "stdout",
     "output_type": "stream",
     "text": [
      "         X1        X2        X3        X4        X5        X6        X7  \\\n",
      "0 -0.419782  0.284830 -1.287909 -0.272599 -0.144217  0.413672 -0.120013   \n",
      "1 -0.417339 -0.487722 -0.593381 -0.272599 -0.740262  0.194274  0.367166   \n",
      "2 -0.417342 -0.487722 -0.593381 -0.272599 -0.740262  1.282714 -0.265812   \n",
      "3 -0.416750 -0.487722 -1.306878 -0.272599 -0.835284  1.016303 -0.809889   \n",
      "4 -0.412482 -0.487722 -1.306878 -0.272599 -0.835284  1.228577 -0.511180   \n",
      "\n",
      "         X8        X9       X10       X11       X12       X13         Y  \n",
      "0  0.140214 -0.982843 -0.666608 -1.459000  0.441052 -1.075562  0.159686  \n",
      "1  0.557160 -0.867883 -0.987329 -0.303094  0.441052 -0.492439 -0.101524  \n",
      "2  0.557160 -0.867883 -0.987329 -0.303094  0.396427 -1.208727  1.324247  \n",
      "3  1.077737 -0.752922 -1.106115  0.113032  0.416163 -1.361517  1.182758  \n",
      "4  1.077737 -0.752922 -1.106115  0.113032  0.441052 -1.026501  1.487503  \n"
     ]
    }
   ],
   "source": [
    "X,Y = bostonDataset.boston_data()"
   ]
  },
  {
   "cell_type": "code",
   "execution_count": 7,
   "id": "fe007438",
   "metadata": {
    "execution": {
     "iopub.execute_input": "2022-06-12T06:21:09.535129Z",
     "iopub.status.busy": "2022-06-12T06:21:09.534747Z",
     "iopub.status.idle": "2022-06-12T06:21:09.536283Z",
     "shell.execute_reply": "2022-06-12T06:21:09.536568Z"
    },
    "id": "fe007438",
    "papermill": {
     "duration": 0.011428,
     "end_time": "2022-06-12T06:21:09.536679",
     "exception": false,
     "start_time": "2022-06-12T06:21:09.525251",
     "status": "completed"
    },
    "tags": []
   },
   "outputs": [],
   "source": [
    "#Train test split for dataset \n",
    "X_train,X_test,Y_train,Y_test = train_test_split(X,Y,test_size = 0.2)\n",
    "train_data = dataset.CustomDataset(X_train,Y_train)\n",
    "test_data = dataset.CustomDataset(X_test,Y_test)\n"
   ]
  },
  {
   "cell_type": "markdown",
   "id": "a9a1af34",
   "metadata": {
    "id": "a9a1af34",
    "papermill": {
     "duration": 0.007144,
     "end_time": "2022-06-12T06:21:09.551132",
     "exception": false,
     "start_time": "2022-06-12T06:21:09.543988",
     "status": "completed"
    },
    "tags": []
   },
   "source": [
    "## Training Parameters "
   ]
  },
  {
   "cell_type": "code",
   "execution_count": 8,
   "id": "952b7fc8",
   "metadata": {
    "execution": {
     "iopub.execute_input": "2022-06-12T06:21:09.567616Z",
     "iopub.status.busy": "2022-06-12T06:21:09.567263Z",
     "iopub.status.idle": "2022-06-12T06:21:09.568552Z",
     "shell.execute_reply": "2022-06-12T06:21:09.568798Z"
    },
    "id": "952b7fc8",
    "papermill": {
     "duration": 0.010656,
     "end_time": "2022-06-12T06:21:09.568905",
     "exception": false,
     "start_time": "2022-06-12T06:21:09.558249",
     "status": "completed"
    },
    "tags": []
   },
   "outputs": [],
   "source": [
    "batch_size = 32\n",
    "n_epochs = 1000\n",
    "#Select the device \n",
    "device = torch.device('cuda' if torch.cuda.is_available() else 'cpu')"
   ]
  },
  {
   "cell_type": "markdown",
   "id": "a95e1600",
   "metadata": {
    "id": "a95e1600",
    "papermill": {
     "duration": 0.007034,
     "end_time": "2022-06-12T06:21:09.583154",
     "exception": false,
     "start_time": "2022-06-12T06:21:09.576120",
     "status": "completed"
    },
    "tags": []
   },
   "source": [
    "# ABC Pre-generator Model \n",
    "\n",
    "1. The catboost model is used as a pre-generator model for the ABC-GAN. \n",
    "2. The model is first trained on the entire dataset \n",
    "3. It generats X,Y pairs and we add some Gaussian noise with mean 0 and variance 1 to it which is then feed as input to the generator.\n"
   ]
  },
  {
   "cell_type": "code",
   "execution_count": 9,
   "id": "ff8ce7bd",
   "metadata": {
    "execution": {
     "iopub.execute_input": "2022-06-12T06:21:09.602231Z",
     "iopub.status.busy": "2022-06-12T06:21:09.601848Z",
     "iopub.status.idle": "2022-06-12T06:21:10.599454Z",
     "shell.execute_reply": "2022-06-12T06:21:10.599758Z"
    },
    "id": "ff8ce7bd",
    "papermill": {
     "duration": 1.009594,
     "end_time": "2022-06-12T06:21:10.599876",
     "exception": false,
     "start_time": "2022-06-12T06:21:09.590282",
     "status": "completed"
    },
    "tags": []
   },
   "outputs": [
    {
     "name": "stdout",
     "output_type": "stream",
     "text": [
      "Learning rate set to 0.033215\n",
      "0:\tlearn: 0.9989982\ttotal: 56.8ms\tremaining: 56.8s\n",
      "1:\tlearn: 0.9781196\ttotal: 57.9ms\tremaining: 28.9s\n",
      "2:\tlearn: 0.9561419\ttotal: 58.9ms\tremaining: 19.6s\n",
      "3:\tlearn: 0.9382219\ttotal: 59.8ms\tremaining: 14.9s\n",
      "4:\tlearn: 0.9201172\ttotal: 60.7ms\tremaining: 12.1s\n",
      "5:\tlearn: 0.9057260\ttotal: 61.6ms\tremaining: 10.2s\n",
      "6:\tlearn: 0.8896506\ttotal: 62.7ms\tremaining: 8.89s\n",
      "7:\tlearn: 0.8730441\ttotal: 63.7ms\tremaining: 7.9s\n",
      "8:\tlearn: 0.8576261\ttotal: 64.7ms\tremaining: 7.13s\n",
      "9:\tlearn: 0.8418604\ttotal: 65.7ms\tremaining: 6.5s\n",
      "10:\tlearn: 0.8270822\ttotal: 66.7ms\tremaining: 5.99s\n",
      "11:\tlearn: 0.8118281\ttotal: 67.5ms\tremaining: 5.55s\n",
      "12:\tlearn: 0.7962290\ttotal: 68.4ms\tremaining: 5.19s\n",
      "13:\tlearn: 0.7812009\ttotal: 69.2ms\tremaining: 4.87s\n",
      "14:\tlearn: 0.7680345\ttotal: 69.9ms\tremaining: 4.59s\n",
      "15:\tlearn: 0.7550693\ttotal: 70.8ms\tremaining: 4.35s\n",
      "16:\tlearn: 0.7431282\ttotal: 71.7ms\tremaining: 4.14s\n",
      "17:\tlearn: 0.7297526\ttotal: 72.5ms\tremaining: 3.96s\n",
      "18:\tlearn: 0.7167876\ttotal: 73.3ms\tremaining: 3.79s\n",
      "19:\tlearn: 0.7053267\ttotal: 74.2ms\tremaining: 3.63s\n",
      "20:\tlearn: 0.6911847\ttotal: 75.1ms\tremaining: 3.5s\n",
      "21:\tlearn: 0.6798406\ttotal: 75.9ms\tremaining: 3.37s\n",
      "22:\tlearn: 0.6681022\ttotal: 77ms\tremaining: 3.27s\n",
      "23:\tlearn: 0.6582539\ttotal: 77.8ms\tremaining: 3.16s\n",
      "24:\tlearn: 0.6485894\ttotal: 78.5ms\tremaining: 3.06s\n",
      "25:\tlearn: 0.6370825\ttotal: 79.3ms\tremaining: 2.97s\n",
      "26:\tlearn: 0.6281961\ttotal: 80.1ms\tremaining: 2.89s\n",
      "27:\tlearn: 0.6191878\ttotal: 81ms\tremaining: 2.81s\n",
      "28:\tlearn: 0.6094439\ttotal: 81.9ms\tremaining: 2.74s\n",
      "29:\tlearn: 0.5996995\ttotal: 82.7ms\tremaining: 2.67s\n",
      "30:\tlearn: 0.5893563\ttotal: 83.7ms\tremaining: 2.62s\n",
      "31:\tlearn: 0.5815381\ttotal: 84.5ms\tremaining: 2.56s\n",
      "32:\tlearn: 0.5737364\ttotal: 85.3ms\tremaining: 2.5s\n",
      "33:\tlearn: 0.5666819\ttotal: 86.6ms\tremaining: 2.46s\n",
      "34:\tlearn: 0.5590086\ttotal: 88.1ms\tremaining: 2.43s\n",
      "35:\tlearn: 0.5527146\ttotal: 88.9ms\tremaining: 2.38s\n",
      "36:\tlearn: 0.5453929\ttotal: 89.8ms\tremaining: 2.34s\n",
      "37:\tlearn: 0.5370972\ttotal: 90.7ms\tremaining: 2.3s\n",
      "38:\tlearn: 0.5294483\ttotal: 91.6ms\tremaining: 2.26s\n",
      "39:\tlearn: 0.5222264\ttotal: 92.5ms\tremaining: 2.22s\n",
      "40:\tlearn: 0.5160509\ttotal: 93.4ms\tremaining: 2.18s\n",
      "41:\tlearn: 0.5095472\ttotal: 94.2ms\tremaining: 2.15s\n",
      "42:\tlearn: 0.5033214\ttotal: 95.2ms\tremaining: 2.12s\n",
      "43:\tlearn: 0.4977600\ttotal: 96.4ms\tremaining: 2.09s\n",
      "44:\tlearn: 0.4906712\ttotal: 97.8ms\tremaining: 2.08s\n",
      "45:\tlearn: 0.4847450\ttotal: 99ms\tremaining: 2.05s\n",
      "46:\tlearn: 0.4795240\ttotal: 99.9ms\tremaining: 2.02s\n",
      "47:\tlearn: 0.4737591\ttotal: 101ms\tremaining: 2s\n",
      "48:\tlearn: 0.4681402\ttotal: 102ms\tremaining: 1.97s\n",
      "49:\tlearn: 0.4635464\ttotal: 102ms\tremaining: 1.95s\n",
      "50:\tlearn: 0.4578291\ttotal: 103ms\tremaining: 1.92s\n",
      "51:\tlearn: 0.4523219\ttotal: 104ms\tremaining: 1.9s\n",
      "52:\tlearn: 0.4463503\ttotal: 105ms\tremaining: 1.88s\n",
      "53:\tlearn: 0.4426547\ttotal: 106ms\tremaining: 1.85s\n",
      "54:\tlearn: 0.4380814\ttotal: 107ms\tremaining: 1.83s\n",
      "55:\tlearn: 0.4344137\ttotal: 108ms\tremaining: 1.81s\n",
      "56:\tlearn: 0.4305221\ttotal: 108ms\tremaining: 1.79s\n"
     ]
    },
    {
     "name": "stdout",
     "output_type": "stream",
     "text": [
      "57:\tlearn: 0.4258277\ttotal: 109ms\tremaining: 1.77s\n",
      "58:\tlearn: 0.4208567\ttotal: 110ms\tremaining: 1.76s\n",
      "59:\tlearn: 0.4168503\ttotal: 111ms\tremaining: 1.74s\n",
      "60:\tlearn: 0.4128138\ttotal: 112ms\tremaining: 1.72s\n",
      "61:\tlearn: 0.4080581\ttotal: 113ms\tremaining: 1.71s\n",
      "62:\tlearn: 0.4052332\ttotal: 114ms\tremaining: 1.69s\n",
      "63:\tlearn: 0.4014038\ttotal: 115ms\tremaining: 1.68s\n",
      "64:\tlearn: 0.3981660\ttotal: 116ms\tremaining: 1.66s\n",
      "65:\tlearn: 0.3947449\ttotal: 117ms\tremaining: 1.65s\n",
      "66:\tlearn: 0.3912741\ttotal: 118ms\tremaining: 1.64s\n",
      "67:\tlearn: 0.3873391\ttotal: 118ms\tremaining: 1.62s\n",
      "68:\tlearn: 0.3842065\ttotal: 119ms\tremaining: 1.61s\n",
      "69:\tlearn: 0.3817284\ttotal: 120ms\tremaining: 1.59s\n",
      "70:\tlearn: 0.3778260\ttotal: 121ms\tremaining: 1.58s\n",
      "71:\tlearn: 0.3734080\ttotal: 122ms\tremaining: 1.57s\n",
      "72:\tlearn: 0.3708208\ttotal: 123ms\tremaining: 1.56s\n",
      "73:\tlearn: 0.3671536\ttotal: 124ms\tremaining: 1.55s\n",
      "74:\tlearn: 0.3643549\ttotal: 125ms\tremaining: 1.53s\n",
      "75:\tlearn: 0.3617514\ttotal: 125ms\tremaining: 1.52s\n",
      "76:\tlearn: 0.3582149\ttotal: 126ms\tremaining: 1.51s\n",
      "77:\tlearn: 0.3554247\ttotal: 127ms\tremaining: 1.5s\n",
      "78:\tlearn: 0.3533746\ttotal: 128ms\tremaining: 1.49s\n",
      "79:\tlearn: 0.3507960\ttotal: 129ms\tremaining: 1.48s\n",
      "80:\tlearn: 0.3486654\ttotal: 130ms\tremaining: 1.47s\n",
      "81:\tlearn: 0.3463117\ttotal: 131ms\tremaining: 1.46s\n",
      "82:\tlearn: 0.3446454\ttotal: 132ms\tremaining: 1.46s\n",
      "83:\tlearn: 0.3421708\ttotal: 133ms\tremaining: 1.45s\n",
      "84:\tlearn: 0.3402521\ttotal: 134ms\tremaining: 1.44s\n",
      "85:\tlearn: 0.3381234\ttotal: 135ms\tremaining: 1.43s\n",
      "86:\tlearn: 0.3359758\ttotal: 135ms\tremaining: 1.42s\n",
      "87:\tlearn: 0.3333901\ttotal: 136ms\tremaining: 1.41s\n",
      "88:\tlearn: 0.3316946\ttotal: 137ms\tremaining: 1.4s\n",
      "89:\tlearn: 0.3286329\ttotal: 138ms\tremaining: 1.39s\n",
      "90:\tlearn: 0.3263571\ttotal: 139ms\tremaining: 1.39s\n",
      "91:\tlearn: 0.3248701\ttotal: 139ms\tremaining: 1.38s\n",
      "92:\tlearn: 0.3232621\ttotal: 140ms\tremaining: 1.37s\n",
      "93:\tlearn: 0.3215258\ttotal: 141ms\tremaining: 1.36s\n",
      "94:\tlearn: 0.3191966\ttotal: 142ms\tremaining: 1.35s\n",
      "95:\tlearn: 0.3176956\ttotal: 143ms\tremaining: 1.35s\n",
      "96:\tlearn: 0.3160913\ttotal: 144ms\tremaining: 1.34s\n",
      "97:\tlearn: 0.3148388\ttotal: 145ms\tremaining: 1.33s\n",
      "98:\tlearn: 0.3134086\ttotal: 146ms\tremaining: 1.33s\n",
      "99:\tlearn: 0.3121798\ttotal: 147ms\tremaining: 1.32s\n",
      "100:\tlearn: 0.3102639\ttotal: 148ms\tremaining: 1.31s\n",
      "101:\tlearn: 0.3082356\ttotal: 148ms\tremaining: 1.31s\n",
      "102:\tlearn: 0.3066167\ttotal: 149ms\tremaining: 1.3s\n",
      "103:\tlearn: 0.3054157\ttotal: 150ms\tremaining: 1.29s\n",
      "104:\tlearn: 0.3043503\ttotal: 151ms\tremaining: 1.29s\n",
      "105:\tlearn: 0.3024641\ttotal: 152ms\tremaining: 1.28s\n",
      "106:\tlearn: 0.3010803\ttotal: 153ms\tremaining: 1.27s\n",
      "107:\tlearn: 0.2990357\ttotal: 154ms\tremaining: 1.27s\n",
      "108:\tlearn: 0.2973856\ttotal: 155ms\tremaining: 1.26s\n",
      "109:\tlearn: 0.2961069\ttotal: 155ms\tremaining: 1.26s\n",
      "110:\tlearn: 0.2944681\ttotal: 156ms\tremaining: 1.25s\n",
      "111:\tlearn: 0.2931979\ttotal: 157ms\tremaining: 1.25s\n",
      "112:\tlearn: 0.2914816\ttotal: 158ms\tremaining: 1.24s\n",
      "113:\tlearn: 0.2902574\ttotal: 159ms\tremaining: 1.23s\n",
      "114:\tlearn: 0.2890366\ttotal: 160ms\tremaining: 1.23s\n",
      "115:\tlearn: 0.2876633\ttotal: 161ms\tremaining: 1.22s\n",
      "116:\tlearn: 0.2864820\ttotal: 162ms\tremaining: 1.22s\n",
      "117:\tlearn: 0.2854661\ttotal: 163ms\tremaining: 1.22s\n",
      "118:\tlearn: 0.2842708\ttotal: 164ms\tremaining: 1.21s\n",
      "119:\tlearn: 0.2835552\ttotal: 165ms\tremaining: 1.21s\n",
      "120:\tlearn: 0.2820952\ttotal: 166ms\tremaining: 1.2s\n",
      "121:\tlearn: 0.2809306\ttotal: 167ms\tremaining: 1.2s\n",
      "122:\tlearn: 0.2796613\ttotal: 168ms\tremaining: 1.19s\n",
      "123:\tlearn: 0.2785988\ttotal: 168ms\tremaining: 1.19s\n",
      "124:\tlearn: 0.2771203\ttotal: 169ms\tremaining: 1.18s\n",
      "125:\tlearn: 0.2758977\ttotal: 170ms\tremaining: 1.18s\n",
      "126:\tlearn: 0.2743630\ttotal: 171ms\tremaining: 1.18s\n",
      "127:\tlearn: 0.2737433\ttotal: 172ms\tremaining: 1.17s\n",
      "128:\tlearn: 0.2729056\ttotal: 173ms\tremaining: 1.17s\n",
      "129:\tlearn: 0.2721863\ttotal: 174ms\tremaining: 1.16s\n",
      "130:\tlearn: 0.2709558\ttotal: 175ms\tremaining: 1.16s\n",
      "131:\tlearn: 0.2700650\ttotal: 175ms\tremaining: 1.15s\n",
      "132:\tlearn: 0.2693357\ttotal: 176ms\tremaining: 1.15s\n",
      "133:\tlearn: 0.2685601\ttotal: 177ms\tremaining: 1.14s\n",
      "134:\tlearn: 0.2678107\ttotal: 178ms\tremaining: 1.14s\n",
      "135:\tlearn: 0.2667670\ttotal: 179ms\tremaining: 1.14s\n",
      "136:\tlearn: 0.2661738\ttotal: 180ms\tremaining: 1.13s\n",
      "137:\tlearn: 0.2650424\ttotal: 181ms\tremaining: 1.13s\n",
      "138:\tlearn: 0.2638753\ttotal: 181ms\tremaining: 1.12s\n",
      "139:\tlearn: 0.2630312\ttotal: 182ms\tremaining: 1.12s\n",
      "140:\tlearn: 0.2622381\ttotal: 183ms\tremaining: 1.12s\n",
      "141:\tlearn: 0.2614612\ttotal: 184ms\tremaining: 1.11s\n",
      "142:\tlearn: 0.2603427\ttotal: 185ms\tremaining: 1.11s\n",
      "143:\tlearn: 0.2594746\ttotal: 186ms\tremaining: 1.1s\n",
      "144:\tlearn: 0.2585666\ttotal: 187ms\tremaining: 1.1s\n",
      "145:\tlearn: 0.2574492\ttotal: 188ms\tremaining: 1.1s\n",
      "146:\tlearn: 0.2566589\ttotal: 188ms\tremaining: 1.09s\n",
      "147:\tlearn: 0.2556513\ttotal: 189ms\tremaining: 1.09s\n",
      "148:\tlearn: 0.2548607\ttotal: 190ms\tremaining: 1.08s\n",
      "149:\tlearn: 0.2542448\ttotal: 191ms\tremaining: 1.08s\n",
      "150:\tlearn: 0.2532902\ttotal: 192ms\tremaining: 1.08s\n"
     ]
    },
    {
     "name": "stdout",
     "output_type": "stream",
     "text": [
      "151:\tlearn: 0.2526417\ttotal: 193ms\tremaining: 1.07s\n",
      "152:\tlearn: 0.2518300\ttotal: 194ms\tremaining: 1.07s\n",
      "153:\tlearn: 0.2512676\ttotal: 195ms\tremaining: 1.07s\n",
      "154:\tlearn: 0.2504188\ttotal: 195ms\tremaining: 1.06s\n",
      "155:\tlearn: 0.2496917\ttotal: 196ms\tremaining: 1.06s\n",
      "156:\tlearn: 0.2486128\ttotal: 197ms\tremaining: 1.06s\n",
      "157:\tlearn: 0.2479242\ttotal: 198ms\tremaining: 1.05s\n",
      "158:\tlearn: 0.2471378\ttotal: 199ms\tremaining: 1.05s\n",
      "159:\tlearn: 0.2465246\ttotal: 200ms\tremaining: 1.05s\n",
      "160:\tlearn: 0.2455050\ttotal: 200ms\tremaining: 1.04s\n",
      "161:\tlearn: 0.2448197\ttotal: 201ms\tremaining: 1.04s\n",
      "162:\tlearn: 0.2442333\ttotal: 202ms\tremaining: 1.04s\n",
      "163:\tlearn: 0.2434853\ttotal: 203ms\tremaining: 1.03s\n",
      "164:\tlearn: 0.2426636\ttotal: 204ms\tremaining: 1.03s\n",
      "165:\tlearn: 0.2420179\ttotal: 205ms\tremaining: 1.03s\n",
      "166:\tlearn: 0.2415394\ttotal: 205ms\tremaining: 1.02s\n",
      "167:\tlearn: 0.2410567\ttotal: 206ms\tremaining: 1.02s\n",
      "168:\tlearn: 0.2402442\ttotal: 207ms\tremaining: 1.02s\n",
      "169:\tlearn: 0.2393721\ttotal: 208ms\tremaining: 1.01s\n",
      "170:\tlearn: 0.2386751\ttotal: 209ms\tremaining: 1.01s\n",
      "171:\tlearn: 0.2380685\ttotal: 210ms\tremaining: 1.01s\n",
      "172:\tlearn: 0.2374723\ttotal: 211ms\tremaining: 1.01s\n",
      "173:\tlearn: 0.2366112\ttotal: 212ms\tremaining: 1s\n",
      "174:\tlearn: 0.2359968\ttotal: 212ms\tremaining: 1s\n",
      "175:\tlearn: 0.2356917\ttotal: 213ms\tremaining: 998ms\n",
      "176:\tlearn: 0.2349617\ttotal: 214ms\tremaining: 995ms\n",
      "177:\tlearn: 0.2341807\ttotal: 215ms\tremaining: 993ms\n",
      "178:\tlearn: 0.2336644\ttotal: 216ms\tremaining: 990ms\n",
      "179:\tlearn: 0.2330520\ttotal: 217ms\tremaining: 987ms\n",
      "180:\tlearn: 0.2321915\ttotal: 218ms\tremaining: 984ms\n",
      "181:\tlearn: 0.2317969\ttotal: 218ms\tremaining: 981ms\n",
      "182:\tlearn: 0.2312549\ttotal: 219ms\tremaining: 979ms\n",
      "183:\tlearn: 0.2307253\ttotal: 220ms\tremaining: 976ms\n",
      "184:\tlearn: 0.2301488\ttotal: 221ms\tremaining: 974ms\n",
      "185:\tlearn: 0.2296185\ttotal: 222ms\tremaining: 971ms\n",
      "186:\tlearn: 0.2289430\ttotal: 223ms\tremaining: 968ms\n",
      "187:\tlearn: 0.2284095\ttotal: 223ms\tremaining: 965ms\n",
      "188:\tlearn: 0.2276776\ttotal: 224ms\tremaining: 962ms\n",
      "189:\tlearn: 0.2269352\ttotal: 225ms\tremaining: 959ms\n",
      "190:\tlearn: 0.2264154\ttotal: 226ms\tremaining: 957ms\n",
      "191:\tlearn: 0.2257901\ttotal: 227ms\tremaining: 955ms\n",
      "192:\tlearn: 0.2251098\ttotal: 228ms\tremaining: 953ms\n",
      "193:\tlearn: 0.2245099\ttotal: 229ms\tremaining: 950ms\n",
      "194:\tlearn: 0.2237812\ttotal: 229ms\tremaining: 947ms\n",
      "195:\tlearn: 0.2232516\ttotal: 230ms\tremaining: 945ms\n",
      "196:\tlearn: 0.2229250\ttotal: 231ms\tremaining: 942ms\n",
      "197:\tlearn: 0.2223440\ttotal: 232ms\tremaining: 940ms\n",
      "198:\tlearn: 0.2215711\ttotal: 233ms\tremaining: 938ms\n",
      "199:\tlearn: 0.2207121\ttotal: 234ms\tremaining: 935ms\n",
      "200:\tlearn: 0.2203461\ttotal: 235ms\tremaining: 932ms\n",
      "201:\tlearn: 0.2197224\ttotal: 235ms\tremaining: 930ms\n",
      "202:\tlearn: 0.2192200\ttotal: 236ms\tremaining: 928ms\n",
      "203:\tlearn: 0.2184594\ttotal: 237ms\tremaining: 925ms\n",
      "204:\tlearn: 0.2179694\ttotal: 238ms\tremaining: 922ms\n",
      "205:\tlearn: 0.2171986\ttotal: 239ms\tremaining: 920ms\n",
      "206:\tlearn: 0.2164691\ttotal: 240ms\tremaining: 918ms\n",
      "207:\tlearn: 0.2160044\ttotal: 240ms\tremaining: 916ms\n",
      "208:\tlearn: 0.2153342\ttotal: 241ms\tremaining: 914ms\n",
      "209:\tlearn: 0.2147810\ttotal: 242ms\tremaining: 912ms\n",
      "210:\tlearn: 0.2142374\ttotal: 243ms\tremaining: 909ms\n",
      "211:\tlearn: 0.2136607\ttotal: 244ms\tremaining: 907ms\n",
      "212:\tlearn: 0.2133003\ttotal: 245ms\tremaining: 905ms\n",
      "213:\tlearn: 0.2129931\ttotal: 246ms\tremaining: 903ms\n",
      "214:\tlearn: 0.2124384\ttotal: 247ms\tremaining: 900ms\n",
      "215:\tlearn: 0.2116388\ttotal: 247ms\tremaining: 898ms\n",
      "216:\tlearn: 0.2112129\ttotal: 248ms\tremaining: 895ms\n",
      "217:\tlearn: 0.2107275\ttotal: 249ms\tremaining: 893ms\n",
      "218:\tlearn: 0.2101866\ttotal: 250ms\tremaining: 892ms\n",
      "219:\tlearn: 0.2097945\ttotal: 251ms\tremaining: 889ms\n",
      "220:\tlearn: 0.2093891\ttotal: 252ms\tremaining: 887ms\n",
      "221:\tlearn: 0.2088481\ttotal: 253ms\tremaining: 885ms\n",
      "222:\tlearn: 0.2085757\ttotal: 254ms\tremaining: 886ms\n",
      "223:\tlearn: 0.2078037\ttotal: 255ms\tremaining: 883ms\n",
      "224:\tlearn: 0.2074240\ttotal: 256ms\tremaining: 881ms\n",
      "225:\tlearn: 0.2068903\ttotal: 257ms\tremaining: 879ms\n",
      "226:\tlearn: 0.2063325\ttotal: 257ms\tremaining: 877ms\n",
      "227:\tlearn: 0.2058139\ttotal: 259ms\tremaining: 875ms\n",
      "228:\tlearn: 0.2052002\ttotal: 259ms\tremaining: 873ms\n",
      "229:\tlearn: 0.2044224\ttotal: 260ms\tremaining: 872ms\n",
      "230:\tlearn: 0.2035968\ttotal: 261ms\tremaining: 870ms\n",
      "231:\tlearn: 0.2030318\ttotal: 262ms\tremaining: 868ms\n",
      "232:\tlearn: 0.2026115\ttotal: 264ms\tremaining: 868ms\n",
      "233:\tlearn: 0.2022381\ttotal: 264ms\tremaining: 866ms\n",
      "234:\tlearn: 0.2017783\ttotal: 265ms\tremaining: 863ms\n",
      "235:\tlearn: 0.2014293\ttotal: 266ms\tremaining: 861ms\n",
      "236:\tlearn: 0.2009882\ttotal: 267ms\tremaining: 859ms\n",
      "237:\tlearn: 0.2004546\ttotal: 268ms\tremaining: 857ms\n",
      "238:\tlearn: 0.2001584\ttotal: 269ms\tremaining: 855ms\n",
      "239:\tlearn: 0.1995912\ttotal: 269ms\tremaining: 853ms\n",
      "240:\tlearn: 0.1989043\ttotal: 270ms\tremaining: 851ms\n",
      "241:\tlearn: 0.1983666\ttotal: 271ms\tremaining: 849ms\n",
      "242:\tlearn: 0.1978078\ttotal: 272ms\tremaining: 847ms\n",
      "243:\tlearn: 0.1971188\ttotal: 273ms\tremaining: 845ms\n",
      "244:\tlearn: 0.1968938\ttotal: 273ms\tremaining: 843ms\n",
      "245:\tlearn: 0.1965940\ttotal: 274ms\tremaining: 841ms\n",
      "246:\tlearn: 0.1960588\ttotal: 275ms\tremaining: 839ms\n",
      "247:\tlearn: 0.1954251\ttotal: 276ms\tremaining: 837ms\n",
      "248:\tlearn: 0.1949606\ttotal: 277ms\tremaining: 835ms\n",
      "249:\tlearn: 0.1943856\ttotal: 278ms\tremaining: 833ms\n",
      "250:\tlearn: 0.1940993\ttotal: 278ms\tremaining: 831ms\n",
      "251:\tlearn: 0.1936428\ttotal: 279ms\tremaining: 829ms\n",
      "252:\tlearn: 0.1932447\ttotal: 280ms\tremaining: 827ms\n",
      "253:\tlearn: 0.1927782\ttotal: 281ms\tremaining: 825ms\n",
      "254:\tlearn: 0.1924637\ttotal: 282ms\tremaining: 823ms\n",
      "255:\tlearn: 0.1919174\ttotal: 283ms\tremaining: 822ms\n",
      "256:\tlearn: 0.1915781\ttotal: 284ms\tremaining: 820ms\n",
      "257:\tlearn: 0.1913007\ttotal: 284ms\tremaining: 818ms\n",
      "258:\tlearn: 0.1907845\ttotal: 285ms\tremaining: 816ms\n",
      "259:\tlearn: 0.1902435\ttotal: 286ms\tremaining: 815ms\n",
      "260:\tlearn: 0.1897598\ttotal: 287ms\tremaining: 813ms\n",
      "261:\tlearn: 0.1894299\ttotal: 288ms\tremaining: 811ms\n",
      "262:\tlearn: 0.1890020\ttotal: 289ms\tremaining: 810ms\n",
      "263:\tlearn: 0.1885079\ttotal: 290ms\tremaining: 808ms\n",
      "264:\tlearn: 0.1881074\ttotal: 291ms\tremaining: 806ms\n",
      "265:\tlearn: 0.1877284\ttotal: 292ms\tremaining: 805ms\n",
      "266:\tlearn: 0.1875175\ttotal: 293ms\tremaining: 803ms\n",
      "267:\tlearn: 0.1873255\ttotal: 294ms\tremaining: 802ms\n",
      "268:\tlearn: 0.1868415\ttotal: 294ms\tremaining: 800ms\n",
      "269:\tlearn: 0.1865366\ttotal: 295ms\tremaining: 798ms\n",
      "270:\tlearn: 0.1861820\ttotal: 296ms\tremaining: 796ms\n",
      "271:\tlearn: 0.1859092\ttotal: 297ms\tremaining: 795ms\n",
      "272:\tlearn: 0.1854742\ttotal: 298ms\tremaining: 793ms\n",
      "273:\tlearn: 0.1850973\ttotal: 299ms\tremaining: 792ms\n",
      "274:\tlearn: 0.1846480\ttotal: 300ms\tremaining: 790ms\n"
     ]
    },
    {
     "name": "stdout",
     "output_type": "stream",
     "text": [
      "275:\tlearn: 0.1843897\ttotal: 301ms\tremaining: 789ms\n",
      "276:\tlearn: 0.1839653\ttotal: 302ms\tremaining: 787ms\n",
      "277:\tlearn: 0.1832161\ttotal: 302ms\tremaining: 786ms\n",
      "278:\tlearn: 0.1827311\ttotal: 303ms\tremaining: 784ms\n",
      "279:\tlearn: 0.1820954\ttotal: 304ms\tremaining: 783ms\n",
      "280:\tlearn: 0.1817543\ttotal: 305ms\tremaining: 781ms\n",
      "281:\tlearn: 0.1813965\ttotal: 306ms\tremaining: 779ms\n",
      "282:\tlearn: 0.1808420\ttotal: 307ms\tremaining: 778ms\n",
      "283:\tlearn: 0.1804217\ttotal: 308ms\tremaining: 776ms\n",
      "284:\tlearn: 0.1800554\ttotal: 309ms\tremaining: 775ms\n",
      "285:\tlearn: 0.1797353\ttotal: 310ms\tremaining: 773ms\n",
      "286:\tlearn: 0.1792750\ttotal: 311ms\tremaining: 771ms\n",
      "287:\tlearn: 0.1789285\ttotal: 311ms\tremaining: 770ms\n",
      "288:\tlearn: 0.1785570\ttotal: 312ms\tremaining: 768ms\n",
      "289:\tlearn: 0.1780834\ttotal: 313ms\tremaining: 767ms\n",
      "290:\tlearn: 0.1776992\ttotal: 314ms\tremaining: 765ms\n",
      "291:\tlearn: 0.1772828\ttotal: 315ms\tremaining: 764ms\n",
      "292:\tlearn: 0.1770867\ttotal: 316ms\tremaining: 762ms\n",
      "293:\tlearn: 0.1768950\ttotal: 317ms\tremaining: 761ms\n",
      "294:\tlearn: 0.1765177\ttotal: 318ms\tremaining: 759ms\n",
      "295:\tlearn: 0.1763937\ttotal: 319ms\tremaining: 758ms\n",
      "296:\tlearn: 0.1760251\ttotal: 320ms\tremaining: 756ms\n",
      "297:\tlearn: 0.1755959\ttotal: 320ms\tremaining: 755ms\n",
      "298:\tlearn: 0.1751725\ttotal: 321ms\tremaining: 753ms\n",
      "299:\tlearn: 0.1747336\ttotal: 323ms\tremaining: 753ms\n",
      "300:\tlearn: 0.1741440\ttotal: 324ms\tremaining: 752ms\n",
      "301:\tlearn: 0.1736255\ttotal: 325ms\tremaining: 750ms\n",
      "302:\tlearn: 0.1734299\ttotal: 326ms\tremaining: 750ms\n",
      "303:\tlearn: 0.1730124\ttotal: 327ms\tremaining: 749ms\n",
      "304:\tlearn: 0.1728588\ttotal: 328ms\tremaining: 747ms\n",
      "305:\tlearn: 0.1724727\ttotal: 329ms\tremaining: 745ms\n",
      "306:\tlearn: 0.1721608\ttotal: 329ms\tremaining: 744ms\n",
      "307:\tlearn: 0.1715819\ttotal: 330ms\tremaining: 742ms\n",
      "308:\tlearn: 0.1710314\ttotal: 331ms\tremaining: 741ms\n",
      "309:\tlearn: 0.1706501\ttotal: 332ms\tremaining: 739ms\n",
      "310:\tlearn: 0.1703589\ttotal: 333ms\tremaining: 738ms\n",
      "311:\tlearn: 0.1698901\ttotal: 334ms\tremaining: 736ms\n",
      "312:\tlearn: 0.1692477\ttotal: 335ms\tremaining: 735ms\n",
      "313:\tlearn: 0.1688574\ttotal: 336ms\tremaining: 733ms\n",
      "314:\tlearn: 0.1685918\ttotal: 336ms\tremaining: 731ms\n",
      "315:\tlearn: 0.1680668\ttotal: 337ms\tremaining: 730ms\n",
      "316:\tlearn: 0.1676531\ttotal: 338ms\tremaining: 728ms\n",
      "317:\tlearn: 0.1672188\ttotal: 339ms\tremaining: 728ms\n",
      "318:\tlearn: 0.1666926\ttotal: 340ms\tremaining: 726ms\n",
      "319:\tlearn: 0.1664383\ttotal: 341ms\tremaining: 725ms\n",
      "320:\tlearn: 0.1661189\ttotal: 342ms\tremaining: 723ms\n",
      "321:\tlearn: 0.1658152\ttotal: 343ms\tremaining: 722ms\n",
      "322:\tlearn: 0.1654334\ttotal: 344ms\tremaining: 720ms\n",
      "323:\tlearn: 0.1652736\ttotal: 344ms\tremaining: 719ms\n",
      "324:\tlearn: 0.1649373\ttotal: 345ms\tremaining: 717ms\n",
      "325:\tlearn: 0.1645499\ttotal: 346ms\tremaining: 716ms\n",
      "326:\tlearn: 0.1640362\ttotal: 347ms\tremaining: 714ms\n",
      "327:\tlearn: 0.1637855\ttotal: 348ms\tremaining: 713ms\n",
      "328:\tlearn: 0.1632520\ttotal: 349ms\tremaining: 711ms\n",
      "329:\tlearn: 0.1628623\ttotal: 350ms\tremaining: 710ms\n",
      "330:\tlearn: 0.1624940\ttotal: 350ms\tremaining: 708ms\n",
      "331:\tlearn: 0.1622626\ttotal: 351ms\tremaining: 707ms\n",
      "332:\tlearn: 0.1618747\ttotal: 352ms\tremaining: 705ms\n",
      "333:\tlearn: 0.1616019\ttotal: 353ms\tremaining: 704ms\n",
      "334:\tlearn: 0.1614384\ttotal: 354ms\tremaining: 702ms\n",
      "335:\tlearn: 0.1610483\ttotal: 355ms\tremaining: 701ms\n",
      "336:\tlearn: 0.1608523\ttotal: 356ms\tremaining: 700ms\n",
      "337:\tlearn: 0.1605517\ttotal: 357ms\tremaining: 698ms\n",
      "338:\tlearn: 0.1602170\ttotal: 357ms\tremaining: 697ms\n",
      "339:\tlearn: 0.1600158\ttotal: 358ms\tremaining: 695ms\n",
      "340:\tlearn: 0.1598901\ttotal: 359ms\tremaining: 694ms\n",
      "341:\tlearn: 0.1597008\ttotal: 360ms\tremaining: 693ms\n",
      "342:\tlearn: 0.1592921\ttotal: 361ms\tremaining: 691ms\n",
      "343:\tlearn: 0.1591542\ttotal: 362ms\tremaining: 690ms\n",
      "344:\tlearn: 0.1588546\ttotal: 363ms\tremaining: 689ms\n",
      "345:\tlearn: 0.1587518\ttotal: 364ms\tremaining: 687ms\n",
      "346:\tlearn: 0.1586256\ttotal: 364ms\tremaining: 686ms\n",
      "347:\tlearn: 0.1582872\ttotal: 365ms\tremaining: 684ms\n",
      "348:\tlearn: 0.1579615\ttotal: 366ms\tremaining: 683ms\n",
      "349:\tlearn: 0.1578414\ttotal: 367ms\tremaining: 682ms\n",
      "350:\tlearn: 0.1574531\ttotal: 368ms\tremaining: 681ms\n",
      "351:\tlearn: 0.1570151\ttotal: 369ms\tremaining: 679ms\n",
      "352:\tlearn: 0.1567032\ttotal: 370ms\tremaining: 678ms\n",
      "353:\tlearn: 0.1564658\ttotal: 371ms\tremaining: 676ms\n",
      "354:\tlearn: 0.1562802\ttotal: 371ms\tremaining: 675ms\n",
      "355:\tlearn: 0.1561718\ttotal: 372ms\tremaining: 674ms\n",
      "356:\tlearn: 0.1558154\ttotal: 373ms\tremaining: 672ms\n",
      "357:\tlearn: 0.1555479\ttotal: 374ms\tremaining: 671ms\n",
      "358:\tlearn: 0.1551655\ttotal: 375ms\tremaining: 670ms\n",
      "359:\tlearn: 0.1548348\ttotal: 376ms\tremaining: 668ms\n",
      "360:\tlearn: 0.1544821\ttotal: 377ms\tremaining: 667ms\n",
      "361:\tlearn: 0.1542302\ttotal: 378ms\tremaining: 665ms\n",
      "362:\tlearn: 0.1539888\ttotal: 378ms\tremaining: 664ms\n",
      "363:\tlearn: 0.1535385\ttotal: 379ms\tremaining: 663ms\n",
      "364:\tlearn: 0.1533051\ttotal: 380ms\tremaining: 661ms\n",
      "365:\tlearn: 0.1530173\ttotal: 381ms\tremaining: 660ms\n",
      "366:\tlearn: 0.1525908\ttotal: 382ms\tremaining: 658ms\n",
      "367:\tlearn: 0.1522490\ttotal: 382ms\tremaining: 657ms\n"
     ]
    },
    {
     "name": "stdout",
     "output_type": "stream",
     "text": [
      "368:\tlearn: 0.1520417\ttotal: 384ms\tremaining: 656ms\n",
      "369:\tlearn: 0.1517485\ttotal: 385ms\tremaining: 655ms\n",
      "370:\tlearn: 0.1515472\ttotal: 385ms\tremaining: 654ms\n",
      "371:\tlearn: 0.1512588\ttotal: 386ms\tremaining: 652ms\n",
      "372:\tlearn: 0.1509729\ttotal: 387ms\tremaining: 651ms\n",
      "373:\tlearn: 0.1507614\ttotal: 388ms\tremaining: 649ms\n",
      "374:\tlearn: 0.1505843\ttotal: 389ms\tremaining: 648ms\n",
      "375:\tlearn: 0.1504778\ttotal: 390ms\tremaining: 647ms\n",
      "376:\tlearn: 0.1501474\ttotal: 390ms\tremaining: 645ms\n",
      "377:\tlearn: 0.1497634\ttotal: 391ms\tremaining: 644ms\n",
      "378:\tlearn: 0.1494318\ttotal: 392ms\tremaining: 642ms\n",
      "379:\tlearn: 0.1490924\ttotal: 393ms\tremaining: 641ms\n",
      "380:\tlearn: 0.1486440\ttotal: 394ms\tremaining: 640ms\n",
      "381:\tlearn: 0.1484185\ttotal: 394ms\tremaining: 638ms\n",
      "382:\tlearn: 0.1479814\ttotal: 395ms\tremaining: 637ms\n",
      "383:\tlearn: 0.1476759\ttotal: 396ms\tremaining: 636ms\n",
      "384:\tlearn: 0.1474804\ttotal: 397ms\tremaining: 634ms\n",
      "385:\tlearn: 0.1470735\ttotal: 398ms\tremaining: 633ms\n",
      "386:\tlearn: 0.1466425\ttotal: 399ms\tremaining: 632ms\n",
      "387:\tlearn: 0.1462716\ttotal: 400ms\tremaining: 630ms\n",
      "388:\tlearn: 0.1459129\ttotal: 400ms\tremaining: 629ms\n",
      "389:\tlearn: 0.1457065\ttotal: 401ms\tremaining: 628ms\n",
      "390:\tlearn: 0.1454176\ttotal: 402ms\tremaining: 627ms\n",
      "391:\tlearn: 0.1451220\ttotal: 403ms\tremaining: 625ms\n",
      "392:\tlearn: 0.1448572\ttotal: 404ms\tremaining: 624ms\n",
      "393:\tlearn: 0.1447661\ttotal: 405ms\tremaining: 623ms\n",
      "394:\tlearn: 0.1445124\ttotal: 406ms\tremaining: 621ms\n",
      "395:\tlearn: 0.1441170\ttotal: 407ms\tremaining: 620ms\n",
      "396:\tlearn: 0.1437562\ttotal: 408ms\tremaining: 619ms\n",
      "397:\tlearn: 0.1434740\ttotal: 409ms\tremaining: 618ms\n",
      "398:\tlearn: 0.1433744\ttotal: 409ms\tremaining: 617ms\n",
      "399:\tlearn: 0.1430344\ttotal: 410ms\tremaining: 615ms\n",
      "400:\tlearn: 0.1426740\ttotal: 411ms\tremaining: 614ms\n",
      "401:\tlearn: 0.1422322\ttotal: 412ms\tremaining: 613ms\n",
      "402:\tlearn: 0.1419002\ttotal: 413ms\tremaining: 611ms\n",
      "403:\tlearn: 0.1416400\ttotal: 413ms\tremaining: 610ms\n",
      "404:\tlearn: 0.1413896\ttotal: 414ms\tremaining: 609ms\n",
      "405:\tlearn: 0.1411014\ttotal: 415ms\tremaining: 607ms\n",
      "406:\tlearn: 0.1406917\ttotal: 416ms\tremaining: 606ms\n",
      "407:\tlearn: 0.1403752\ttotal: 417ms\tremaining: 605ms\n",
      "408:\tlearn: 0.1401981\ttotal: 418ms\tremaining: 603ms\n",
      "409:\tlearn: 0.1399544\ttotal: 418ms\tremaining: 602ms\n",
      "410:\tlearn: 0.1396020\ttotal: 419ms\tremaining: 601ms\n",
      "411:\tlearn: 0.1392319\ttotal: 420ms\tremaining: 600ms\n",
      "412:\tlearn: 0.1391143\ttotal: 421ms\tremaining: 599ms\n",
      "413:\tlearn: 0.1388965\ttotal: 422ms\tremaining: 598ms\n",
      "414:\tlearn: 0.1385972\ttotal: 423ms\tremaining: 597ms\n",
      "415:\tlearn: 0.1383323\ttotal: 424ms\tremaining: 596ms\n",
      "416:\tlearn: 0.1381600\ttotal: 425ms\tremaining: 595ms\n",
      "417:\tlearn: 0.1376543\ttotal: 426ms\tremaining: 593ms\n",
      "418:\tlearn: 0.1375458\ttotal: 427ms\tremaining: 593ms\n",
      "419:\tlearn: 0.1372586\ttotal: 428ms\tremaining: 592ms\n",
      "420:\tlearn: 0.1369152\ttotal: 429ms\tremaining: 591ms\n",
      "421:\tlearn: 0.1366530\ttotal: 430ms\tremaining: 589ms\n",
      "422:\tlearn: 0.1364025\ttotal: 431ms\tremaining: 588ms\n",
      "423:\tlearn: 0.1360746\ttotal: 432ms\tremaining: 587ms\n",
      "424:\tlearn: 0.1356630\ttotal: 433ms\tremaining: 586ms\n",
      "425:\tlearn: 0.1354420\ttotal: 434ms\tremaining: 585ms\n",
      "426:\tlearn: 0.1353384\ttotal: 435ms\tremaining: 584ms\n",
      "427:\tlearn: 0.1351643\ttotal: 436ms\tremaining: 583ms\n",
      "428:\tlearn: 0.1348299\ttotal: 437ms\tremaining: 582ms\n",
      "429:\tlearn: 0.1345220\ttotal: 438ms\tremaining: 581ms\n",
      "430:\tlearn: 0.1342600\ttotal: 439ms\tremaining: 580ms\n",
      "431:\tlearn: 0.1340786\ttotal: 440ms\tremaining: 579ms\n",
      "432:\tlearn: 0.1338809\ttotal: 441ms\tremaining: 578ms\n",
      "433:\tlearn: 0.1336510\ttotal: 442ms\tremaining: 576ms\n",
      "434:\tlearn: 0.1334235\ttotal: 443ms\tremaining: 575ms\n",
      "435:\tlearn: 0.1332935\ttotal: 444ms\tremaining: 574ms\n",
      "436:\tlearn: 0.1330707\ttotal: 445ms\tremaining: 573ms\n",
      "437:\tlearn: 0.1328098\ttotal: 445ms\tremaining: 572ms\n",
      "438:\tlearn: 0.1326884\ttotal: 446ms\tremaining: 570ms\n",
      "439:\tlearn: 0.1326219\ttotal: 447ms\tremaining: 569ms\n",
      "440:\tlearn: 0.1322375\ttotal: 448ms\tremaining: 568ms\n",
      "441:\tlearn: 0.1320859\ttotal: 449ms\tremaining: 567ms\n",
      "442:\tlearn: 0.1318021\ttotal: 450ms\tremaining: 566ms\n",
      "443:\tlearn: 0.1314971\ttotal: 451ms\tremaining: 564ms\n",
      "444:\tlearn: 0.1313007\ttotal: 452ms\tremaining: 563ms\n",
      "445:\tlearn: 0.1309239\ttotal: 453ms\tremaining: 562ms\n",
      "446:\tlearn: 0.1308836\ttotal: 453ms\tremaining: 561ms\n",
      "447:\tlearn: 0.1306487\ttotal: 454ms\tremaining: 560ms\n",
      "448:\tlearn: 0.1303538\ttotal: 455ms\tremaining: 558ms\n",
      "449:\tlearn: 0.1302590\ttotal: 456ms\tremaining: 557ms\n",
      "450:\tlearn: 0.1299302\ttotal: 457ms\tremaining: 556ms\n",
      "451:\tlearn: 0.1297484\ttotal: 458ms\tremaining: 555ms\n",
      "452:\tlearn: 0.1294940\ttotal: 458ms\tremaining: 554ms\n",
      "453:\tlearn: 0.1292128\ttotal: 459ms\tremaining: 552ms\n",
      "454:\tlearn: 0.1289967\ttotal: 460ms\tremaining: 551ms\n",
      "455:\tlearn: 0.1286553\ttotal: 461ms\tremaining: 550ms\n",
      "456:\tlearn: 0.1283699\ttotal: 462ms\tremaining: 549ms\n",
      "457:\tlearn: 0.1281502\ttotal: 463ms\tremaining: 548ms\n",
      "458:\tlearn: 0.1278821\ttotal: 464ms\tremaining: 547ms\n",
      "459:\tlearn: 0.1277605\ttotal: 465ms\tremaining: 546ms\n",
      "460:\tlearn: 0.1276344\ttotal: 466ms\tremaining: 544ms\n",
      "461:\tlearn: 0.1273260\ttotal: 466ms\tremaining: 543ms\n",
      "462:\tlearn: 0.1271492\ttotal: 467ms\tremaining: 542ms\n",
      "463:\tlearn: 0.1268804\ttotal: 468ms\tremaining: 541ms\n",
      "464:\tlearn: 0.1265545\ttotal: 469ms\tremaining: 540ms\n",
      "465:\tlearn: 0.1262602\ttotal: 470ms\tremaining: 538ms\n",
      "466:\tlearn: 0.1259921\ttotal: 471ms\tremaining: 537ms\n",
      "467:\tlearn: 0.1257971\ttotal: 472ms\tremaining: 536ms\n",
      "468:\tlearn: 0.1254382\ttotal: 473ms\tremaining: 535ms\n",
      "469:\tlearn: 0.1252120\ttotal: 473ms\tremaining: 534ms\n",
      "470:\tlearn: 0.1249860\ttotal: 474ms\tremaining: 533ms\n",
      "471:\tlearn: 0.1247687\ttotal: 476ms\tremaining: 532ms\n",
      "472:\tlearn: 0.1244587\ttotal: 477ms\tremaining: 531ms\n",
      "473:\tlearn: 0.1242753\ttotal: 478ms\tremaining: 530ms\n",
      "474:\tlearn: 0.1241137\ttotal: 478ms\tremaining: 529ms\n",
      "475:\tlearn: 0.1239942\ttotal: 479ms\tremaining: 528ms\n",
      "476:\tlearn: 0.1237510\ttotal: 480ms\tremaining: 527ms\n",
      "477:\tlearn: 0.1235088\ttotal: 481ms\tremaining: 526ms\n",
      "478:\tlearn: 0.1233079\ttotal: 482ms\tremaining: 524ms\n",
      "479:\tlearn: 0.1232129\ttotal: 483ms\tremaining: 523ms\n",
      "480:\tlearn: 0.1229201\ttotal: 484ms\tremaining: 522ms\n",
      "481:\tlearn: 0.1226652\ttotal: 485ms\tremaining: 521ms\n",
      "482:\tlearn: 0.1224793\ttotal: 486ms\tremaining: 520ms\n",
      "483:\tlearn: 0.1223391\ttotal: 486ms\tremaining: 519ms\n",
      "484:\tlearn: 0.1220165\ttotal: 487ms\tremaining: 517ms\n",
      "485:\tlearn: 0.1217007\ttotal: 488ms\tremaining: 516ms\n",
      "486:\tlearn: 0.1214260\ttotal: 489ms\tremaining: 515ms\n",
      "487:\tlearn: 0.1211433\ttotal: 490ms\tremaining: 514ms\n",
      "488:\tlearn: 0.1209061\ttotal: 491ms\tremaining: 513ms\n"
     ]
    },
    {
     "name": "stdout",
     "output_type": "stream",
     "text": [
      "489:\tlearn: 0.1205791\ttotal: 492ms\tremaining: 512ms\n",
      "490:\tlearn: 0.1205020\ttotal: 493ms\tremaining: 511ms\n",
      "491:\tlearn: 0.1202573\ttotal: 494ms\tremaining: 510ms\n",
      "492:\tlearn: 0.1199726\ttotal: 495ms\tremaining: 509ms\n",
      "493:\tlearn: 0.1198668\ttotal: 495ms\tremaining: 508ms\n",
      "494:\tlearn: 0.1196447\ttotal: 496ms\tremaining: 506ms\n",
      "495:\tlearn: 0.1194556\ttotal: 497ms\tremaining: 505ms\n",
      "496:\tlearn: 0.1193200\ttotal: 498ms\tremaining: 504ms\n",
      "497:\tlearn: 0.1191354\ttotal: 499ms\tremaining: 503ms\n",
      "498:\tlearn: 0.1189491\ttotal: 500ms\tremaining: 502ms\n",
      "499:\tlearn: 0.1187115\ttotal: 501ms\tremaining: 501ms\n",
      "500:\tlearn: 0.1184310\ttotal: 502ms\tremaining: 500ms\n",
      "501:\tlearn: 0.1181879\ttotal: 502ms\tremaining: 498ms\n",
      "502:\tlearn: 0.1181296\ttotal: 503ms\tremaining: 497ms\n",
      "503:\tlearn: 0.1178424\ttotal: 504ms\tremaining: 496ms\n",
      "504:\tlearn: 0.1175163\ttotal: 506ms\tremaining: 496ms\n",
      "505:\tlearn: 0.1174413\ttotal: 506ms\tremaining: 494ms\n",
      "506:\tlearn: 0.1172945\ttotal: 507ms\tremaining: 493ms\n",
      "507:\tlearn: 0.1170318\ttotal: 508ms\tremaining: 492ms\n",
      "508:\tlearn: 0.1167784\ttotal: 509ms\tremaining: 491ms\n",
      "509:\tlearn: 0.1166086\ttotal: 510ms\tremaining: 490ms\n",
      "510:\tlearn: 0.1164992\ttotal: 511ms\tremaining: 489ms\n",
      "511:\tlearn: 0.1163105\ttotal: 512ms\tremaining: 488ms\n",
      "512:\tlearn: 0.1160930\ttotal: 513ms\tremaining: 487ms\n",
      "513:\tlearn: 0.1158946\ttotal: 514ms\tremaining: 486ms\n",
      "514:\tlearn: 0.1156368\ttotal: 514ms\tremaining: 484ms\n",
      "515:\tlearn: 0.1153892\ttotal: 515ms\tremaining: 483ms\n",
      "516:\tlearn: 0.1151424\ttotal: 516ms\tremaining: 482ms\n",
      "517:\tlearn: 0.1149928\ttotal: 517ms\tremaining: 481ms\n",
      "518:\tlearn: 0.1148675\ttotal: 518ms\tremaining: 480ms\n",
      "519:\tlearn: 0.1147680\ttotal: 518ms\tremaining: 479ms\n",
      "520:\tlearn: 0.1145040\ttotal: 519ms\tremaining: 477ms\n",
      "521:\tlearn: 0.1142046\ttotal: 520ms\tremaining: 476ms\n",
      "522:\tlearn: 0.1140487\ttotal: 521ms\tremaining: 475ms\n",
      "523:\tlearn: 0.1138096\ttotal: 522ms\tremaining: 474ms\n",
      "524:\tlearn: 0.1137194\ttotal: 523ms\tremaining: 473ms\n",
      "525:\tlearn: 0.1135231\ttotal: 523ms\tremaining: 472ms\n",
      "526:\tlearn: 0.1132956\ttotal: 524ms\tremaining: 470ms\n",
      "527:\tlearn: 0.1131540\ttotal: 525ms\tremaining: 469ms\n",
      "528:\tlearn: 0.1129561\ttotal: 526ms\tremaining: 468ms\n",
      "529:\tlearn: 0.1126165\ttotal: 527ms\tremaining: 467ms\n",
      "530:\tlearn: 0.1123910\ttotal: 528ms\tremaining: 466ms\n",
      "531:\tlearn: 0.1121426\ttotal: 528ms\tremaining: 465ms\n",
      "532:\tlearn: 0.1118538\ttotal: 529ms\tremaining: 464ms\n",
      "533:\tlearn: 0.1115750\ttotal: 530ms\tremaining: 463ms\n",
      "534:\tlearn: 0.1113581\ttotal: 531ms\tremaining: 461ms\n",
      "535:\tlearn: 0.1113091\ttotal: 532ms\tremaining: 460ms\n",
      "536:\tlearn: 0.1110954\ttotal: 533ms\tremaining: 459ms\n",
      "537:\tlearn: 0.1110200\ttotal: 533ms\tremaining: 458ms\n",
      "538:\tlearn: 0.1108664\ttotal: 534ms\tremaining: 457ms\n",
      "539:\tlearn: 0.1105824\ttotal: 535ms\tremaining: 456ms\n",
      "540:\tlearn: 0.1104041\ttotal: 536ms\tremaining: 455ms\n",
      "541:\tlearn: 0.1102879\ttotal: 537ms\tremaining: 454ms\n",
      "542:\tlearn: 0.1100461\ttotal: 538ms\tremaining: 453ms\n",
      "543:\tlearn: 0.1098678\ttotal: 539ms\tremaining: 451ms\n",
      "544:\tlearn: 0.1096825\ttotal: 539ms\tremaining: 450ms\n",
      "545:\tlearn: 0.1094965\ttotal: 540ms\tremaining: 449ms\n",
      "546:\tlearn: 0.1093293\ttotal: 541ms\tremaining: 448ms\n",
      "547:\tlearn: 0.1091670\ttotal: 542ms\tremaining: 447ms\n",
      "548:\tlearn: 0.1090606\ttotal: 543ms\tremaining: 446ms\n",
      "549:\tlearn: 0.1088439\ttotal: 544ms\tremaining: 445ms\n",
      "550:\tlearn: 0.1086775\ttotal: 544ms\tremaining: 444ms\n",
      "551:\tlearn: 0.1085224\ttotal: 545ms\tremaining: 443ms\n",
      "552:\tlearn: 0.1084206\ttotal: 546ms\tremaining: 442ms\n",
      "553:\tlearn: 0.1081953\ttotal: 547ms\tremaining: 440ms\n",
      "554:\tlearn: 0.1080227\ttotal: 548ms\tremaining: 439ms\n",
      "555:\tlearn: 0.1079192\ttotal: 549ms\tremaining: 438ms\n",
      "556:\tlearn: 0.1077438\ttotal: 549ms\tremaining: 437ms\n",
      "557:\tlearn: 0.1075550\ttotal: 550ms\tremaining: 436ms\n",
      "558:\tlearn: 0.1074326\ttotal: 551ms\tremaining: 435ms\n",
      "559:\tlearn: 0.1072232\ttotal: 552ms\tremaining: 434ms\n",
      "560:\tlearn: 0.1070510\ttotal: 553ms\tremaining: 432ms\n",
      "561:\tlearn: 0.1069910\ttotal: 553ms\tremaining: 431ms\n",
      "562:\tlearn: 0.1067399\ttotal: 554ms\tremaining: 430ms\n",
      "563:\tlearn: 0.1065269\ttotal: 555ms\tremaining: 429ms\n",
      "564:\tlearn: 0.1062643\ttotal: 556ms\tremaining: 428ms\n",
      "565:\tlearn: 0.1061717\ttotal: 557ms\tremaining: 427ms\n",
      "566:\tlearn: 0.1059703\ttotal: 558ms\tremaining: 426ms\n",
      "567:\tlearn: 0.1057119\ttotal: 559ms\tremaining: 425ms\n",
      "568:\tlearn: 0.1056031\ttotal: 560ms\tremaining: 424ms\n",
      "569:\tlearn: 0.1053986\ttotal: 561ms\tremaining: 423ms\n",
      "570:\tlearn: 0.1052179\ttotal: 562ms\tremaining: 422ms\n",
      "571:\tlearn: 0.1050726\ttotal: 562ms\tremaining: 421ms\n",
      "572:\tlearn: 0.1048769\ttotal: 563ms\tremaining: 420ms\n",
      "573:\tlearn: 0.1048266\ttotal: 564ms\tremaining: 419ms\n",
      "574:\tlearn: 0.1046412\ttotal: 565ms\tremaining: 417ms\n",
      "575:\tlearn: 0.1044922\ttotal: 566ms\tremaining: 416ms\n",
      "576:\tlearn: 0.1043962\ttotal: 566ms\tremaining: 415ms\n",
      "577:\tlearn: 0.1042492\ttotal: 567ms\tremaining: 414ms\n",
      "578:\tlearn: 0.1041587\ttotal: 568ms\tremaining: 413ms\n",
      "579:\tlearn: 0.1041034\ttotal: 569ms\tremaining: 412ms\n",
      "580:\tlearn: 0.1039292\ttotal: 570ms\tremaining: 411ms\n",
      "581:\tlearn: 0.1038367\ttotal: 571ms\tremaining: 410ms\n",
      "582:\tlearn: 0.1036326\ttotal: 571ms\tremaining: 409ms\n",
      "583:\tlearn: 0.1033759\ttotal: 572ms\tremaining: 408ms\n",
      "584:\tlearn: 0.1032999\ttotal: 573ms\tremaining: 407ms\n"
     ]
    },
    {
     "name": "stdout",
     "output_type": "stream",
     "text": [
      "585:\tlearn: 0.1032388\ttotal: 575ms\tremaining: 406ms\n",
      "586:\tlearn: 0.1029453\ttotal: 576ms\tremaining: 405ms\n",
      "587:\tlearn: 0.1027510\ttotal: 577ms\tremaining: 404ms\n",
      "588:\tlearn: 0.1024732\ttotal: 577ms\tremaining: 403ms\n",
      "589:\tlearn: 0.1023013\ttotal: 578ms\tremaining: 402ms\n",
      "590:\tlearn: 0.1021952\ttotal: 579ms\tremaining: 401ms\n",
      "591:\tlearn: 0.1021304\ttotal: 580ms\tremaining: 400ms\n",
      "592:\tlearn: 0.1018935\ttotal: 581ms\tremaining: 399ms\n",
      "593:\tlearn: 0.1017798\ttotal: 582ms\tremaining: 398ms\n",
      "594:\tlearn: 0.1015383\ttotal: 582ms\tremaining: 396ms\n",
      "595:\tlearn: 0.1014134\ttotal: 583ms\tremaining: 395ms\n",
      "596:\tlearn: 0.1012306\ttotal: 584ms\tremaining: 394ms\n",
      "597:\tlearn: 0.1011174\ttotal: 585ms\tremaining: 393ms\n",
      "598:\tlearn: 0.1009779\ttotal: 586ms\tremaining: 392ms\n",
      "599:\tlearn: 0.1008959\ttotal: 587ms\tremaining: 391ms\n",
      "600:\tlearn: 0.1008218\ttotal: 588ms\tremaining: 390ms\n",
      "601:\tlearn: 0.1006726\ttotal: 589ms\tremaining: 389ms\n",
      "602:\tlearn: 0.1005439\ttotal: 589ms\tremaining: 388ms\n",
      "603:\tlearn: 0.1004487\ttotal: 590ms\tremaining: 387ms\n",
      "604:\tlearn: 0.1002028\ttotal: 591ms\tremaining: 386ms\n",
      "605:\tlearn: 0.1000321\ttotal: 592ms\tremaining: 385ms\n",
      "606:\tlearn: 0.0998751\ttotal: 593ms\tremaining: 384ms\n",
      "607:\tlearn: 0.0997112\ttotal: 594ms\tremaining: 383ms\n",
      "608:\tlearn: 0.0994062\ttotal: 595ms\tremaining: 382ms\n",
      "609:\tlearn: 0.0992019\ttotal: 596ms\tremaining: 381ms\n",
      "610:\tlearn: 0.0990185\ttotal: 597ms\tremaining: 380ms\n",
      "611:\tlearn: 0.0989233\ttotal: 597ms\tremaining: 379ms\n",
      "612:\tlearn: 0.0988436\ttotal: 598ms\tremaining: 378ms\n",
      "613:\tlearn: 0.0987485\ttotal: 599ms\tremaining: 377ms\n",
      "614:\tlearn: 0.0985267\ttotal: 600ms\tremaining: 376ms\n",
      "615:\tlearn: 0.0983886\ttotal: 601ms\tremaining: 375ms\n",
      "616:\tlearn: 0.0982603\ttotal: 602ms\tremaining: 373ms\n",
      "617:\tlearn: 0.0981291\ttotal: 602ms\tremaining: 372ms\n",
      "618:\tlearn: 0.0979222\ttotal: 603ms\tremaining: 371ms\n",
      "619:\tlearn: 0.0977141\ttotal: 604ms\tremaining: 370ms\n",
      "620:\tlearn: 0.0975961\ttotal: 605ms\tremaining: 369ms\n",
      "621:\tlearn: 0.0974718\ttotal: 606ms\tremaining: 368ms\n",
      "622:\tlearn: 0.0972486\ttotal: 607ms\tremaining: 367ms\n",
      "623:\tlearn: 0.0971633\ttotal: 607ms\tremaining: 366ms\n",
      "624:\tlearn: 0.0971229\ttotal: 608ms\tremaining: 365ms\n",
      "625:\tlearn: 0.0970113\ttotal: 609ms\tremaining: 364ms\n",
      "626:\tlearn: 0.0968953\ttotal: 610ms\tremaining: 363ms\n",
      "627:\tlearn: 0.0966774\ttotal: 611ms\tremaining: 362ms\n",
      "628:\tlearn: 0.0964787\ttotal: 611ms\tremaining: 361ms\n",
      "629:\tlearn: 0.0962631\ttotal: 612ms\tremaining: 360ms\n",
      "630:\tlearn: 0.0961385\ttotal: 614ms\tremaining: 359ms\n",
      "631:\tlearn: 0.0959851\ttotal: 614ms\tremaining: 358ms\n",
      "632:\tlearn: 0.0958650\ttotal: 615ms\tremaining: 357ms\n",
      "633:\tlearn: 0.0957685\ttotal: 616ms\tremaining: 356ms\n",
      "634:\tlearn: 0.0956447\ttotal: 617ms\tremaining: 355ms\n",
      "635:\tlearn: 0.0955214\ttotal: 618ms\tremaining: 354ms\n",
      "636:\tlearn: 0.0954657\ttotal: 619ms\tremaining: 353ms\n",
      "637:\tlearn: 0.0953827\ttotal: 620ms\tremaining: 352ms\n",
      "638:\tlearn: 0.0953419\ttotal: 620ms\tremaining: 351ms\n",
      "639:\tlearn: 0.0952256\ttotal: 621ms\tremaining: 349ms\n",
      "640:\tlearn: 0.0950015\ttotal: 622ms\tremaining: 348ms\n",
      "641:\tlearn: 0.0949684\ttotal: 623ms\tremaining: 347ms\n",
      "642:\tlearn: 0.0948184\ttotal: 624ms\tremaining: 346ms\n",
      "643:\tlearn: 0.0947129\ttotal: 625ms\tremaining: 345ms\n",
      "644:\tlearn: 0.0946552\ttotal: 626ms\tremaining: 344ms\n",
      "645:\tlearn: 0.0945308\ttotal: 627ms\tremaining: 343ms\n",
      "646:\tlearn: 0.0943009\ttotal: 627ms\tremaining: 342ms\n",
      "647:\tlearn: 0.0941995\ttotal: 628ms\tremaining: 341ms\n",
      "648:\tlearn: 0.0941428\ttotal: 629ms\tremaining: 340ms\n",
      "649:\tlearn: 0.0940873\ttotal: 630ms\tremaining: 339ms\n",
      "650:\tlearn: 0.0939090\ttotal: 631ms\tremaining: 338ms\n",
      "651:\tlearn: 0.0937302\ttotal: 632ms\tremaining: 337ms\n",
      "652:\tlearn: 0.0935867\ttotal: 632ms\tremaining: 336ms\n",
      "653:\tlearn: 0.0934525\ttotal: 633ms\tremaining: 335ms\n",
      "654:\tlearn: 0.0932912\ttotal: 634ms\tremaining: 334ms\n",
      "655:\tlearn: 0.0931104\ttotal: 635ms\tremaining: 333ms\n",
      "656:\tlearn: 0.0930140\ttotal: 636ms\tremaining: 332ms\n",
      "657:\tlearn: 0.0928802\ttotal: 637ms\tremaining: 331ms\n",
      "658:\tlearn: 0.0927775\ttotal: 638ms\tremaining: 330ms\n",
      "659:\tlearn: 0.0927506\ttotal: 638ms\tremaining: 329ms\n",
      "660:\tlearn: 0.0926741\ttotal: 639ms\tremaining: 328ms\n",
      "661:\tlearn: 0.0924865\ttotal: 640ms\tremaining: 327ms\n",
      "662:\tlearn: 0.0924379\ttotal: 641ms\tremaining: 326ms\n",
      "663:\tlearn: 0.0922987\ttotal: 642ms\tremaining: 325ms\n",
      "664:\tlearn: 0.0921765\ttotal: 643ms\tremaining: 324ms\n",
      "665:\tlearn: 0.0920906\ttotal: 644ms\tremaining: 323ms\n",
      "666:\tlearn: 0.0919525\ttotal: 645ms\tremaining: 322ms\n",
      "667:\tlearn: 0.0918738\ttotal: 646ms\tremaining: 321ms\n",
      "668:\tlearn: 0.0917995\ttotal: 646ms\tremaining: 320ms\n",
      "669:\tlearn: 0.0916644\ttotal: 647ms\tremaining: 319ms\n",
      "670:\tlearn: 0.0916404\ttotal: 648ms\tremaining: 318ms\n",
      "671:\tlearn: 0.0915340\ttotal: 649ms\tremaining: 317ms\n",
      "672:\tlearn: 0.0913271\ttotal: 651ms\tremaining: 316ms\n",
      "673:\tlearn: 0.0912870\ttotal: 651ms\tremaining: 315ms\n",
      "674:\tlearn: 0.0911294\ttotal: 652ms\tremaining: 314ms\n",
      "675:\tlearn: 0.0910875\ttotal: 653ms\tremaining: 313ms\n",
      "676:\tlearn: 0.0910283\ttotal: 654ms\tremaining: 312ms\n",
      "677:\tlearn: 0.0909747\ttotal: 655ms\tremaining: 311ms\n",
      "678:\tlearn: 0.0908672\ttotal: 656ms\tremaining: 310ms\n",
      "679:\tlearn: 0.0906951\ttotal: 657ms\tremaining: 309ms\n",
      "680:\tlearn: 0.0905626\ttotal: 657ms\tremaining: 308ms\n",
      "681:\tlearn: 0.0904755\ttotal: 658ms\tremaining: 307ms\n",
      "682:\tlearn: 0.0902149\ttotal: 659ms\tremaining: 306ms\n",
      "683:\tlearn: 0.0901048\ttotal: 660ms\tremaining: 305ms\n",
      "684:\tlearn: 0.0899345\ttotal: 661ms\tremaining: 304ms\n",
      "685:\tlearn: 0.0898259\ttotal: 662ms\tremaining: 303ms\n",
      "686:\tlearn: 0.0897881\ttotal: 663ms\tremaining: 302ms\n",
      "687:\tlearn: 0.0896245\ttotal: 664ms\tremaining: 301ms\n",
      "688:\tlearn: 0.0894323\ttotal: 664ms\tremaining: 300ms\n",
      "689:\tlearn: 0.0893045\ttotal: 665ms\tremaining: 299ms\n",
      "690:\tlearn: 0.0891485\ttotal: 666ms\tremaining: 298ms\n",
      "691:\tlearn: 0.0890279\ttotal: 667ms\tremaining: 297ms\n",
      "692:\tlearn: 0.0889296\ttotal: 668ms\tremaining: 296ms\n",
      "693:\tlearn: 0.0887992\ttotal: 669ms\tremaining: 295ms\n",
      "694:\tlearn: 0.0886068\ttotal: 670ms\tremaining: 294ms\n",
      "695:\tlearn: 0.0885646\ttotal: 670ms\tremaining: 293ms\n",
      "696:\tlearn: 0.0884309\ttotal: 671ms\tremaining: 292ms\n",
      "697:\tlearn: 0.0883883\ttotal: 672ms\tremaining: 291ms\n",
      "698:\tlearn: 0.0883315\ttotal: 673ms\tremaining: 290ms\n",
      "699:\tlearn: 0.0881401\ttotal: 674ms\tremaining: 289ms\n",
      "700:\tlearn: 0.0879619\ttotal: 675ms\tremaining: 288ms\n",
      "701:\tlearn: 0.0878428\ttotal: 675ms\tremaining: 287ms\n",
      "702:\tlearn: 0.0877730\ttotal: 676ms\tremaining: 286ms\n",
      "703:\tlearn: 0.0877260\ttotal: 677ms\tremaining: 285ms\n",
      "704:\tlearn: 0.0876914\ttotal: 678ms\tremaining: 284ms\n",
      "705:\tlearn: 0.0875323\ttotal: 679ms\tremaining: 283ms\n",
      "706:\tlearn: 0.0873983\ttotal: 680ms\tremaining: 282ms\n",
      "707:\tlearn: 0.0872050\ttotal: 680ms\tremaining: 281ms\n",
      "708:\tlearn: 0.0871099\ttotal: 681ms\tremaining: 280ms\n",
      "709:\tlearn: 0.0869209\ttotal: 682ms\tremaining: 279ms\n"
     ]
    },
    {
     "name": "stdout",
     "output_type": "stream",
     "text": [
      "710:\tlearn: 0.0868740\ttotal: 683ms\tremaining: 278ms\n",
      "711:\tlearn: 0.0867063\ttotal: 684ms\tremaining: 277ms\n",
      "712:\tlearn: 0.0864977\ttotal: 685ms\tremaining: 276ms\n",
      "713:\tlearn: 0.0864754\ttotal: 686ms\tremaining: 275ms\n",
      "714:\tlearn: 0.0863286\ttotal: 687ms\tremaining: 274ms\n",
      "715:\tlearn: 0.0862565\ttotal: 688ms\tremaining: 273ms\n",
      "716:\tlearn: 0.0861798\ttotal: 689ms\tremaining: 272ms\n",
      "717:\tlearn: 0.0860818\ttotal: 690ms\tremaining: 271ms\n",
      "718:\tlearn: 0.0859420\ttotal: 691ms\tremaining: 270ms\n",
      "719:\tlearn: 0.0858240\ttotal: 691ms\tremaining: 269ms\n",
      "720:\tlearn: 0.0856267\ttotal: 692ms\tremaining: 268ms\n",
      "721:\tlearn: 0.0855020\ttotal: 693ms\tremaining: 267ms\n",
      "722:\tlearn: 0.0854664\ttotal: 694ms\tremaining: 266ms\n",
      "723:\tlearn: 0.0854013\ttotal: 695ms\tremaining: 265ms\n",
      "724:\tlearn: 0.0853020\ttotal: 696ms\tremaining: 264ms\n",
      "725:\tlearn: 0.0852809\ttotal: 697ms\tremaining: 263ms\n",
      "726:\tlearn: 0.0851416\ttotal: 697ms\tremaining: 262ms\n",
      "727:\tlearn: 0.0850555\ttotal: 698ms\tremaining: 261ms\n",
      "728:\tlearn: 0.0849445\ttotal: 699ms\tremaining: 260ms\n",
      "729:\tlearn: 0.0848182\ttotal: 700ms\tremaining: 259ms\n",
      "730:\tlearn: 0.0847055\ttotal: 701ms\tremaining: 258ms\n",
      "731:\tlearn: 0.0846171\ttotal: 702ms\tremaining: 257ms\n",
      "732:\tlearn: 0.0845296\ttotal: 703ms\tremaining: 256ms\n",
      "733:\tlearn: 0.0844846\ttotal: 703ms\tremaining: 255ms\n",
      "734:\tlearn: 0.0843118\ttotal: 704ms\tremaining: 254ms\n",
      "735:\tlearn: 0.0842208\ttotal: 705ms\tremaining: 253ms\n",
      "736:\tlearn: 0.0840542\ttotal: 706ms\tremaining: 252ms\n",
      "737:\tlearn: 0.0838854\ttotal: 707ms\tremaining: 251ms\n",
      "738:\tlearn: 0.0838155\ttotal: 708ms\tremaining: 250ms\n",
      "739:\tlearn: 0.0837374\ttotal: 709ms\tremaining: 249ms\n",
      "740:\tlearn: 0.0836315\ttotal: 709ms\tremaining: 248ms\n",
      "741:\tlearn: 0.0835920\ttotal: 710ms\tremaining: 247ms\n",
      "742:\tlearn: 0.0834934\ttotal: 711ms\tremaining: 246ms\n",
      "743:\tlearn: 0.0834064\ttotal: 712ms\tremaining: 245ms\n",
      "744:\tlearn: 0.0831936\ttotal: 713ms\tremaining: 244ms\n",
      "745:\tlearn: 0.0829694\ttotal: 714ms\tremaining: 243ms\n",
      "746:\tlearn: 0.0828747\ttotal: 715ms\tremaining: 242ms\n",
      "747:\tlearn: 0.0828567\ttotal: 716ms\tremaining: 241ms\n",
      "748:\tlearn: 0.0828215\ttotal: 716ms\tremaining: 240ms\n",
      "749:\tlearn: 0.0827991\ttotal: 717ms\tremaining: 239ms\n",
      "750:\tlearn: 0.0826832\ttotal: 718ms\tremaining: 238ms\n",
      "751:\tlearn: 0.0826025\ttotal: 719ms\tremaining: 237ms\n",
      "752:\tlearn: 0.0824769\ttotal: 720ms\tremaining: 236ms\n",
      "753:\tlearn: 0.0823759\ttotal: 721ms\tremaining: 235ms\n",
      "754:\tlearn: 0.0822852\ttotal: 722ms\tremaining: 234ms\n",
      "755:\tlearn: 0.0821393\ttotal: 722ms\tremaining: 233ms\n",
      "756:\tlearn: 0.0818968\ttotal: 723ms\tremaining: 232ms\n",
      "757:\tlearn: 0.0818469\ttotal: 724ms\tremaining: 231ms\n",
      "758:\tlearn: 0.0817583\ttotal: 725ms\tremaining: 230ms\n",
      "759:\tlearn: 0.0815608\ttotal: 727ms\tremaining: 229ms\n",
      "760:\tlearn: 0.0814171\ttotal: 727ms\tremaining: 228ms\n",
      "761:\tlearn: 0.0812387\ttotal: 728ms\tremaining: 227ms\n",
      "762:\tlearn: 0.0810451\ttotal: 729ms\tremaining: 226ms\n",
      "763:\tlearn: 0.0810242\ttotal: 730ms\tremaining: 225ms\n",
      "764:\tlearn: 0.0809533\ttotal: 731ms\tremaining: 225ms\n",
      "765:\tlearn: 0.0808498\ttotal: 732ms\tremaining: 223ms\n",
      "766:\tlearn: 0.0807015\ttotal: 732ms\tremaining: 223ms\n",
      "767:\tlearn: 0.0806521\ttotal: 733ms\tremaining: 222ms\n",
      "768:\tlearn: 0.0806040\ttotal: 734ms\tremaining: 221ms\n",
      "769:\tlearn: 0.0804894\ttotal: 735ms\tremaining: 220ms\n",
      "770:\tlearn: 0.0803806\ttotal: 736ms\tremaining: 219ms\n",
      "771:\tlearn: 0.0803309\ttotal: 737ms\tremaining: 218ms\n",
      "772:\tlearn: 0.0803197\ttotal: 738ms\tremaining: 217ms\n",
      "773:\tlearn: 0.0802485\ttotal: 739ms\tremaining: 216ms\n",
      "774:\tlearn: 0.0801117\ttotal: 740ms\tremaining: 215ms\n",
      "775:\tlearn: 0.0800089\ttotal: 740ms\tremaining: 214ms\n",
      "776:\tlearn: 0.0799490\ttotal: 741ms\tremaining: 213ms\n",
      "777:\tlearn: 0.0798328\ttotal: 742ms\tremaining: 212ms\n",
      "778:\tlearn: 0.0796714\ttotal: 743ms\tremaining: 211ms\n",
      "779:\tlearn: 0.0795575\ttotal: 744ms\tremaining: 210ms\n",
      "780:\tlearn: 0.0794298\ttotal: 745ms\tremaining: 209ms\n",
      "781:\tlearn: 0.0792522\ttotal: 746ms\tremaining: 208ms\n",
      "782:\tlearn: 0.0791494\ttotal: 747ms\tremaining: 207ms\n",
      "783:\tlearn: 0.0791033\ttotal: 747ms\tremaining: 206ms\n",
      "784:\tlearn: 0.0790337\ttotal: 748ms\tremaining: 205ms\n",
      "785:\tlearn: 0.0788418\ttotal: 749ms\tremaining: 204ms\n",
      "786:\tlearn: 0.0787611\ttotal: 750ms\tremaining: 203ms\n",
      "787:\tlearn: 0.0786653\ttotal: 751ms\tremaining: 202ms\n",
      "788:\tlearn: 0.0785107\ttotal: 752ms\tremaining: 201ms\n",
      "789:\tlearn: 0.0784702\ttotal: 752ms\tremaining: 200ms\n",
      "790:\tlearn: 0.0784532\ttotal: 753ms\tremaining: 199ms\n",
      "791:\tlearn: 0.0783542\ttotal: 754ms\tremaining: 198ms\n",
      "792:\tlearn: 0.0781898\ttotal: 755ms\tremaining: 197ms\n",
      "793:\tlearn: 0.0780688\ttotal: 756ms\tremaining: 196ms\n",
      "794:\tlearn: 0.0778579\ttotal: 757ms\tremaining: 195ms\n",
      "795:\tlearn: 0.0777724\ttotal: 758ms\tremaining: 194ms\n",
      "796:\tlearn: 0.0777093\ttotal: 759ms\tremaining: 193ms\n",
      "797:\tlearn: 0.0776435\ttotal: 759ms\tremaining: 192ms\n",
      "798:\tlearn: 0.0775899\ttotal: 760ms\tremaining: 191ms\n",
      "799:\tlearn: 0.0775716\ttotal: 761ms\tremaining: 190ms\n",
      "800:\tlearn: 0.0774395\ttotal: 762ms\tremaining: 189ms\n",
      "801:\tlearn: 0.0773097\ttotal: 763ms\tremaining: 188ms\n",
      "802:\tlearn: 0.0772137\ttotal: 764ms\tremaining: 187ms\n",
      "803:\tlearn: 0.0771054\ttotal: 765ms\tremaining: 186ms\n"
     ]
    },
    {
     "name": "stdout",
     "output_type": "stream",
     "text": [
      "804:\tlearn: 0.0770085\ttotal: 765ms\tremaining: 185ms\n",
      "805:\tlearn: 0.0769895\ttotal: 767ms\tremaining: 185ms\n",
      "806:\tlearn: 0.0768137\ttotal: 768ms\tremaining: 184ms\n",
      "807:\tlearn: 0.0767044\ttotal: 768ms\tremaining: 183ms\n",
      "808:\tlearn: 0.0765133\ttotal: 769ms\tremaining: 182ms\n",
      "809:\tlearn: 0.0764312\ttotal: 770ms\tremaining: 181ms\n",
      "810:\tlearn: 0.0763894\ttotal: 771ms\tremaining: 180ms\n",
      "811:\tlearn: 0.0763087\ttotal: 772ms\tremaining: 179ms\n",
      "812:\tlearn: 0.0761259\ttotal: 773ms\tremaining: 178ms\n",
      "813:\tlearn: 0.0760533\ttotal: 774ms\tremaining: 177ms\n",
      "814:\tlearn: 0.0758500\ttotal: 775ms\tremaining: 176ms\n",
      "815:\tlearn: 0.0758289\ttotal: 776ms\tremaining: 175ms\n",
      "816:\tlearn: 0.0757776\ttotal: 776ms\tremaining: 174ms\n",
      "817:\tlearn: 0.0757022\ttotal: 777ms\tremaining: 173ms\n",
      "818:\tlearn: 0.0756082\ttotal: 778ms\tremaining: 172ms\n",
      "819:\tlearn: 0.0755159\ttotal: 779ms\tremaining: 171ms\n",
      "820:\tlearn: 0.0753459\ttotal: 780ms\tremaining: 170ms\n",
      "821:\tlearn: 0.0752432\ttotal: 781ms\tremaining: 169ms\n",
      "822:\tlearn: 0.0751552\ttotal: 782ms\tremaining: 168ms\n",
      "823:\tlearn: 0.0750573\ttotal: 782ms\tremaining: 167ms\n",
      "824:\tlearn: 0.0750380\ttotal: 783ms\tremaining: 166ms\n",
      "825:\tlearn: 0.0748386\ttotal: 784ms\tremaining: 165ms\n",
      "826:\tlearn: 0.0747406\ttotal: 785ms\tremaining: 164ms\n",
      "827:\tlearn: 0.0746656\ttotal: 786ms\tremaining: 163ms\n",
      "828:\tlearn: 0.0746256\ttotal: 787ms\tremaining: 162ms\n",
      "829:\tlearn: 0.0744883\ttotal: 788ms\tremaining: 161ms\n",
      "830:\tlearn: 0.0743620\ttotal: 789ms\tremaining: 160ms\n",
      "831:\tlearn: 0.0742887\ttotal: 789ms\tremaining: 159ms\n",
      "832:\tlearn: 0.0742666\ttotal: 790ms\tremaining: 158ms\n",
      "833:\tlearn: 0.0741696\ttotal: 791ms\tremaining: 157ms\n",
      "834:\tlearn: 0.0741478\ttotal: 792ms\tremaining: 156ms\n",
      "835:\tlearn: 0.0741398\ttotal: 793ms\tremaining: 156ms\n",
      "836:\tlearn: 0.0741246\ttotal: 794ms\tremaining: 155ms\n",
      "837:\tlearn: 0.0740106\ttotal: 795ms\tremaining: 154ms\n",
      "838:\tlearn: 0.0739790\ttotal: 796ms\tremaining: 153ms\n",
      "839:\tlearn: 0.0737840\ttotal: 797ms\tremaining: 152ms\n",
      "840:\tlearn: 0.0736817\ttotal: 797ms\tremaining: 151ms\n",
      "841:\tlearn: 0.0735989\ttotal: 798ms\tremaining: 150ms\n",
      "842:\tlearn: 0.0735360\ttotal: 799ms\tremaining: 149ms\n",
      "843:\tlearn: 0.0735263\ttotal: 800ms\tremaining: 148ms\n",
      "844:\tlearn: 0.0734532\ttotal: 801ms\tremaining: 147ms\n",
      "845:\tlearn: 0.0733300\ttotal: 802ms\tremaining: 146ms\n",
      "846:\tlearn: 0.0732387\ttotal: 803ms\tremaining: 145ms\n",
      "847:\tlearn: 0.0731872\ttotal: 804ms\tremaining: 144ms\n",
      "848:\tlearn: 0.0731428\ttotal: 805ms\tremaining: 143ms\n",
      "849:\tlearn: 0.0730476\ttotal: 806ms\tremaining: 142ms\n",
      "850:\tlearn: 0.0729698\ttotal: 807ms\tremaining: 141ms\n",
      "851:\tlearn: 0.0728231\ttotal: 807ms\tremaining: 140ms\n",
      "852:\tlearn: 0.0727268\ttotal: 808ms\tremaining: 139ms\n",
      "853:\tlearn: 0.0725816\ttotal: 809ms\tremaining: 138ms\n",
      "854:\tlearn: 0.0724564\ttotal: 810ms\tremaining: 137ms\n",
      "855:\tlearn: 0.0723701\ttotal: 811ms\tremaining: 136ms\n",
      "856:\tlearn: 0.0722687\ttotal: 812ms\tremaining: 135ms\n",
      "857:\tlearn: 0.0721794\ttotal: 813ms\tremaining: 134ms\n",
      "858:\tlearn: 0.0720887\ttotal: 813ms\tremaining: 134ms\n",
      "859:\tlearn: 0.0720271\ttotal: 814ms\tremaining: 133ms\n",
      "860:\tlearn: 0.0719349\ttotal: 815ms\tremaining: 132ms\n",
      "861:\tlearn: 0.0718781\ttotal: 816ms\tremaining: 131ms\n",
      "862:\tlearn: 0.0718418\ttotal: 817ms\tremaining: 130ms\n",
      "863:\tlearn: 0.0717762\ttotal: 818ms\tremaining: 129ms\n",
      "864:\tlearn: 0.0715732\ttotal: 818ms\tremaining: 128ms\n",
      "865:\tlearn: 0.0714735\ttotal: 819ms\tremaining: 127ms\n",
      "866:\tlearn: 0.0713362\ttotal: 820ms\tremaining: 126ms\n",
      "867:\tlearn: 0.0712706\ttotal: 821ms\tremaining: 125ms\n",
      "868:\tlearn: 0.0711810\ttotal: 822ms\tremaining: 124ms\n",
      "869:\tlearn: 0.0711658\ttotal: 823ms\tremaining: 123ms\n",
      "870:\tlearn: 0.0711491\ttotal: 824ms\tremaining: 122ms\n",
      "871:\tlearn: 0.0710212\ttotal: 825ms\tremaining: 121ms\n",
      "872:\tlearn: 0.0709717\ttotal: 825ms\tremaining: 120ms\n",
      "873:\tlearn: 0.0708498\ttotal: 826ms\tremaining: 119ms\n",
      "874:\tlearn: 0.0708149\ttotal: 827ms\tremaining: 118ms\n",
      "875:\tlearn: 0.0706717\ttotal: 828ms\tremaining: 117ms\n",
      "876:\tlearn: 0.0704939\ttotal: 829ms\tremaining: 116ms\n",
      "877:\tlearn: 0.0704398\ttotal: 830ms\tremaining: 115ms\n",
      "878:\tlearn: 0.0703867\ttotal: 831ms\tremaining: 114ms\n",
      "879:\tlearn: 0.0703246\ttotal: 831ms\tremaining: 113ms\n",
      "880:\tlearn: 0.0702159\ttotal: 832ms\tremaining: 112ms\n",
      "881:\tlearn: 0.0702017\ttotal: 833ms\tremaining: 111ms\n",
      "882:\tlearn: 0.0701916\ttotal: 834ms\tremaining: 110ms\n",
      "883:\tlearn: 0.0701303\ttotal: 835ms\tremaining: 110ms\n",
      "884:\tlearn: 0.0700333\ttotal: 835ms\tremaining: 109ms\n",
      "885:\tlearn: 0.0699781\ttotal: 836ms\tremaining: 108ms\n",
      "886:\tlearn: 0.0697949\ttotal: 837ms\tremaining: 107ms\n",
      "887:\tlearn: 0.0697199\ttotal: 838ms\tremaining: 106ms\n",
      "888:\tlearn: 0.0695454\ttotal: 839ms\tremaining: 105ms\n",
      "889:\tlearn: 0.0694883\ttotal: 840ms\tremaining: 104ms\n",
      "890:\tlearn: 0.0693134\ttotal: 841ms\tremaining: 103ms\n",
      "891:\tlearn: 0.0692332\ttotal: 841ms\tremaining: 102ms\n",
      "892:\tlearn: 0.0691758\ttotal: 842ms\tremaining: 101ms\n",
      "893:\tlearn: 0.0690607\ttotal: 843ms\tremaining: 100ms\n",
      "894:\tlearn: 0.0690536\ttotal: 844ms\tremaining: 99ms\n",
      "895:\tlearn: 0.0690423\ttotal: 845ms\tremaining: 98.1ms\n",
      "896:\tlearn: 0.0689414\ttotal: 846ms\tremaining: 97.1ms\n",
      "897:\tlearn: 0.0688514\ttotal: 847ms\tremaining: 96.2ms\n",
      "898:\tlearn: 0.0687964\ttotal: 847ms\tremaining: 95.2ms\n",
      "899:\tlearn: 0.0686610\ttotal: 848ms\tremaining: 94.3ms\n",
      "900:\tlearn: 0.0685274\ttotal: 849ms\tremaining: 93.3ms\n",
      "901:\tlearn: 0.0684703\ttotal: 850ms\tremaining: 92.4ms\n",
      "902:\tlearn: 0.0684164\ttotal: 851ms\tremaining: 91.4ms\n",
      "903:\tlearn: 0.0683608\ttotal: 852ms\tremaining: 90.5ms\n",
      "904:\tlearn: 0.0682792\ttotal: 853ms\tremaining: 89.5ms\n",
      "905:\tlearn: 0.0681787\ttotal: 853ms\tremaining: 88.5ms\n",
      "906:\tlearn: 0.0680008\ttotal: 854ms\tremaining: 87.6ms\n",
      "907:\tlearn: 0.0678022\ttotal: 855ms\tremaining: 86.6ms\n",
      "908:\tlearn: 0.0677197\ttotal: 856ms\tremaining: 85.7ms\n",
      "909:\tlearn: 0.0676875\ttotal: 857ms\tremaining: 84.7ms\n",
      "910:\tlearn: 0.0676586\ttotal: 857ms\tremaining: 83.8ms\n",
      "911:\tlearn: 0.0675870\ttotal: 858ms\tremaining: 82.8ms\n",
      "912:\tlearn: 0.0674049\ttotal: 859ms\tremaining: 81.9ms\n",
      "913:\tlearn: 0.0673241\ttotal: 860ms\tremaining: 80.9ms\n",
      "914:\tlearn: 0.0671973\ttotal: 861ms\tremaining: 80ms\n",
      "915:\tlearn: 0.0671835\ttotal: 862ms\tremaining: 79ms\n",
      "916:\tlearn: 0.0671216\ttotal: 863ms\tremaining: 78.1ms\n",
      "917:\tlearn: 0.0670292\ttotal: 864ms\tremaining: 77.1ms\n",
      "918:\tlearn: 0.0669290\ttotal: 864ms\tremaining: 76.2ms\n",
      "919:\tlearn: 0.0668849\ttotal: 865ms\tremaining: 75.2ms\n",
      "920:\tlearn: 0.0667984\ttotal: 866ms\tremaining: 74.3ms\n",
      "921:\tlearn: 0.0667338\ttotal: 867ms\tremaining: 73.4ms\n",
      "922:\tlearn: 0.0666601\ttotal: 868ms\tremaining: 72.4ms\n",
      "923:\tlearn: 0.0665723\ttotal: 869ms\tremaining: 71.5ms\n",
      "924:\tlearn: 0.0665420\ttotal: 870ms\tremaining: 70.5ms\n",
      "925:\tlearn: 0.0663502\ttotal: 871ms\tremaining: 69.6ms\n",
      "926:\tlearn: 0.0663387\ttotal: 871ms\tremaining: 68.6ms\n",
      "927:\tlearn: 0.0662337\ttotal: 872ms\tremaining: 67.7ms\n",
      "928:\tlearn: 0.0661253\ttotal: 873ms\tremaining: 66.7ms\n"
     ]
    },
    {
     "name": "stdout",
     "output_type": "stream",
     "text": [
      "929:\tlearn: 0.0660069\ttotal: 874ms\tremaining: 65.8ms\n",
      "930:\tlearn: 0.0659299\ttotal: 875ms\tremaining: 64.9ms\n",
      "931:\tlearn: 0.0658326\ttotal: 876ms\tremaining: 63.9ms\n",
      "932:\tlearn: 0.0656750\ttotal: 877ms\tremaining: 63ms\n",
      "933:\tlearn: 0.0655861\ttotal: 878ms\tremaining: 62ms\n",
      "934:\tlearn: 0.0654358\ttotal: 879ms\tremaining: 61.1ms\n",
      "935:\tlearn: 0.0653721\ttotal: 880ms\tremaining: 60.1ms\n",
      "936:\tlearn: 0.0652478\ttotal: 880ms\tremaining: 59.2ms\n",
      "937:\tlearn: 0.0651631\ttotal: 881ms\tremaining: 58.2ms\n",
      "938:\tlearn: 0.0650893\ttotal: 882ms\tremaining: 57.3ms\n",
      "939:\tlearn: 0.0649892\ttotal: 883ms\tremaining: 56.3ms\n",
      "940:\tlearn: 0.0649181\ttotal: 884ms\tremaining: 55.4ms\n",
      "941:\tlearn: 0.0648988\ttotal: 885ms\tremaining: 54.5ms\n",
      "942:\tlearn: 0.0648900\ttotal: 885ms\tremaining: 53.5ms\n",
      "943:\tlearn: 0.0646872\ttotal: 886ms\tremaining: 52.6ms\n",
      "944:\tlearn: 0.0645518\ttotal: 887ms\tremaining: 51.6ms\n",
      "945:\tlearn: 0.0644753\ttotal: 888ms\tremaining: 50.7ms\n",
      "946:\tlearn: 0.0643510\ttotal: 889ms\tremaining: 49.8ms\n",
      "947:\tlearn: 0.0642653\ttotal: 890ms\tremaining: 48.8ms\n",
      "948:\tlearn: 0.0641733\ttotal: 891ms\tremaining: 47.9ms\n",
      "949:\tlearn: 0.0641372\ttotal: 891ms\tremaining: 46.9ms\n",
      "950:\tlearn: 0.0640350\ttotal: 892ms\tremaining: 46ms\n",
      "951:\tlearn: 0.0639904\ttotal: 893ms\tremaining: 45ms\n",
      "952:\tlearn: 0.0639437\ttotal: 894ms\tremaining: 44.1ms\n",
      "953:\tlearn: 0.0638164\ttotal: 895ms\tremaining: 43.2ms\n",
      "954:\tlearn: 0.0637231\ttotal: 896ms\tremaining: 42.2ms\n",
      "955:\tlearn: 0.0636740\ttotal: 897ms\tremaining: 41.3ms\n",
      "956:\tlearn: 0.0636277\ttotal: 898ms\tremaining: 40.3ms\n",
      "957:\tlearn: 0.0636043\ttotal: 898ms\tremaining: 39.4ms\n",
      "958:\tlearn: 0.0634606\ttotal: 899ms\tremaining: 38.5ms\n",
      "959:\tlearn: 0.0633943\ttotal: 900ms\tremaining: 37.5ms\n",
      "960:\tlearn: 0.0633344\ttotal: 901ms\tremaining: 36.6ms\n",
      "961:\tlearn: 0.0632852\ttotal: 902ms\tremaining: 35.6ms\n",
      "962:\tlearn: 0.0632339\ttotal: 903ms\tremaining: 34.7ms\n",
      "963:\tlearn: 0.0631023\ttotal: 904ms\tremaining: 33.7ms\n",
      "964:\tlearn: 0.0629672\ttotal: 904ms\tremaining: 32.8ms\n",
      "965:\tlearn: 0.0629239\ttotal: 905ms\tremaining: 31.9ms\n",
      "966:\tlearn: 0.0628174\ttotal: 906ms\tremaining: 30.9ms\n",
      "967:\tlearn: 0.0626491\ttotal: 907ms\tremaining: 30ms\n",
      "968:\tlearn: 0.0625316\ttotal: 908ms\tremaining: 29ms\n",
      "969:\tlearn: 0.0624346\ttotal: 909ms\tremaining: 28.1ms\n",
      "970:\tlearn: 0.0623438\ttotal: 910ms\tremaining: 27.2ms\n",
      "971:\tlearn: 0.0623067\ttotal: 910ms\tremaining: 26.2ms\n",
      "972:\tlearn: 0.0622992\ttotal: 911ms\tremaining: 25.3ms\n",
      "973:\tlearn: 0.0622554\ttotal: 912ms\tremaining: 24.3ms\n",
      "974:\tlearn: 0.0622442\ttotal: 913ms\tremaining: 23.4ms\n",
      "975:\tlearn: 0.0621434\ttotal: 914ms\tremaining: 22.5ms\n",
      "976:\tlearn: 0.0620922\ttotal: 915ms\tremaining: 21.5ms\n",
      "977:\tlearn: 0.0620283\ttotal: 915ms\tremaining: 20.6ms\n",
      "978:\tlearn: 0.0618687\ttotal: 916ms\tremaining: 19.7ms\n",
      "979:\tlearn: 0.0618619\ttotal: 917ms\tremaining: 18.7ms\n",
      "980:\tlearn: 0.0617904\ttotal: 918ms\tremaining: 17.8ms\n",
      "981:\tlearn: 0.0617094\ttotal: 919ms\tremaining: 16.8ms\n",
      "982:\tlearn: 0.0615807\ttotal: 920ms\tremaining: 15.9ms\n",
      "983:\tlearn: 0.0614743\ttotal: 921ms\tremaining: 15ms\n",
      "984:\tlearn: 0.0614172\ttotal: 922ms\tremaining: 14ms\n",
      "985:\tlearn: 0.0612967\ttotal: 923ms\tremaining: 13.1ms\n",
      "986:\tlearn: 0.0612618\ttotal: 924ms\tremaining: 12.2ms\n",
      "987:\tlearn: 0.0612140\ttotal: 925ms\tremaining: 11.2ms\n",
      "988:\tlearn: 0.0611763\ttotal: 925ms\tremaining: 10.3ms\n",
      "989:\tlearn: 0.0610716\ttotal: 926ms\tremaining: 9.36ms\n",
      "990:\tlearn: 0.0610561\ttotal: 927ms\tremaining: 8.42ms\n",
      "991:\tlearn: 0.0609957\ttotal: 928ms\tremaining: 7.48ms\n",
      "992:\tlearn: 0.0609114\ttotal: 929ms\tremaining: 6.55ms\n",
      "993:\tlearn: 0.0607431\ttotal: 930ms\tremaining: 5.61ms\n",
      "994:\tlearn: 0.0607300\ttotal: 930ms\tremaining: 4.67ms\n",
      "995:\tlearn: 0.0606617\ttotal: 932ms\tremaining: 3.74ms\n",
      "996:\tlearn: 0.0605512\ttotal: 932ms\tremaining: 2.81ms\n",
      "997:\tlearn: 0.0604903\ttotal: 933ms\tremaining: 1.87ms\n",
      "998:\tlearn: 0.0604209\ttotal: 934ms\tremaining: 935us\n",
      "999:\tlearn: 0.0602921\ttotal: 935ms\tremaining: 0us\n"
     ]
    },
    {
     "data": {
      "text/plain": [
       "<catboost.core.CatBoostRegressor at 0x7fb1cb478ee0>"
      ]
     },
     "execution_count": 9,
     "metadata": {},
     "output_type": "execute_result"
    }
   ],
   "source": [
    "#Train the Model \n",
    "prior_model = ctb.CatBoostRegressor()\n",
    "prior_model.fit(X_train,Y_train)"
   ]
  },
  {
   "cell_type": "code",
   "execution_count": 10,
   "id": "af65dcda",
   "metadata": {
    "execution": {
     "iopub.execute_input": "2022-06-12T06:21:10.622999Z",
     "iopub.status.busy": "2022-06-12T06:21:10.622600Z",
     "iopub.status.idle": "2022-06-12T06:21:10.629929Z",
     "shell.execute_reply": "2022-06-12T06:21:10.630167Z"
    },
    "id": "af65dcda",
    "papermill": {
     "duration": 0.020659,
     "end_time": "2022-06-12T06:21:10.630285",
     "exception": false,
     "start_time": "2022-06-12T06:21:10.609626",
     "status": "completed"
    },
    "tags": []
   },
   "outputs": [
    {
     "data": {
      "application/scrapbook.scrap.json+json": {
       "data": 0.08697380813608047,
       "encoder": "json",
       "name": "Prior Model MSE",
       "version": 1
      }
     },
     "metadata": {
      "scrapbook": {
       "data": true,
       "display": false,
       "name": "Prior Model MSE"
      }
     },
     "output_type": "display_data"
    },
    {
     "data": {
      "application/scrapbook.scrap.json+json": {
       "data": 0.11805252825688739,
       "encoder": "json",
       "name": "ABC Pre-generator MSE",
       "version": 1
      }
     },
     "metadata": {
      "scrapbook": {
       "data": true,
       "display": false,
       "name": "ABC Pre-generator MSE"
      }
     },
     "output_type": "display_data"
    },
    {
     "data": {
      "application/scrapbook.scrap.json+json": {
       "data": 0.1995718818426412,
       "encoder": "json",
       "name": "Prior Model MSE",
       "version": 1
      }
     },
     "metadata": {
      "scrapbook": {
       "data": true,
       "display": false,
       "name": "Prior Model MSE"
      }
     },
     "output_type": "display_data"
    },
    {
     "data": {
      "application/scrapbook.scrap.json+json": {
       "data": 0.2548380155836298,
       "encoder": "json",
       "name": "ABC Pre-generator MSE",
       "version": 1
      }
     },
     "metadata": {
      "scrapbook": {
       "data": true,
       "display": false,
       "name": "ABC Pre-generator MSE"
      }
     },
     "output_type": "display_data"
    }
   ],
   "source": [
    "y_pred = prior_model.predict(X_test)\n",
    "y_abc = y_pred + np.random.normal(0,variance, y_pred.shape) + bias \n",
    "mse = mean_squared_error(y_pred,Y_test)\n",
    "sb.glue(\"Prior Model MSE\",mse)\n",
    "mse = mean_squared_error(y_abc,Y_test)\n",
    "sb.glue(\"ABC Pre-generator MSE\",mse)\n",
    "mae = mean_absolute_error(y_pred,Y_test)\n",
    "sb.glue(\"Prior Model MSE\",mae)\n",
    "mae = mean_absolute_error(y_abc,Y_test)\n",
    "sb.glue(\"ABC Pre-generator MSE\",mae)"
   ]
  },
  {
   "cell_type": "markdown",
   "id": "25609da2",
   "metadata": {
    "papermill": {
     "duration": 0.009883,
     "end_time": "2022-06-12T06:21:10.650416",
     "exception": false,
     "start_time": "2022-06-12T06:21:10.640533",
     "status": "completed"
    },
    "tags": []
   },
   "source": [
    "# ABC GAN Model"
   ]
  },
  {
   "cell_type": "code",
   "execution_count": 11,
   "id": "dfc3464d",
   "metadata": {
    "execution": {
     "iopub.execute_input": "2022-06-12T06:21:10.673363Z",
     "iopub.status.busy": "2022-06-12T06:21:10.672986Z",
     "iopub.status.idle": "2022-06-12T06:21:10.675517Z",
     "shell.execute_reply": "2022-06-12T06:21:10.675762Z"
    },
    "papermill": {
     "duration": 0.015401,
     "end_time": "2022-06-12T06:21:10.675869",
     "exception": false,
     "start_time": "2022-06-12T06:21:10.660468",
     "status": "completed"
    },
    "tags": []
   },
   "outputs": [],
   "source": [
    "gen = network.Generator(n_features+1).to(device)\n",
    "disc = network.Discriminator(n_features+1).to(device)\n",
    "\n",
    "criterion = torch.nn.BCELoss()\n",
    "gen_opt = torch.optim.Adam(gen.parameters(), lr=0.001, betas=(0.5, 0.999))\n",
    "disc_opt = torch.optim.Adam(disc.parameters(), lr=0.001, betas=(0.5, 0.999))"
   ]
  },
  {
   "cell_type": "code",
   "execution_count": 12,
   "id": "b75fdd85",
   "metadata": {
    "execution": {
     "iopub.execute_input": "2022-06-12T06:21:10.698787Z",
     "iopub.status.busy": "2022-06-12T06:21:10.698386Z",
     "iopub.status.idle": "2022-06-12T06:22:11.897120Z",
     "shell.execute_reply": "2022-06-12T06:22:11.897495Z"
    },
    "papermill": {
     "duration": 61.211544,
     "end_time": "2022-06-12T06:22:11.897616",
     "exception": false,
     "start_time": "2022-06-12T06:21:10.686072",
     "status": "completed"
    },
    "tags": []
   },
   "outputs": [
    {
     "data": {
      "image/png": "[encoded data removed]",
      "text/plain": [
       "<Figure size 432x288 with 1 Axes>"
      ]
     },
     "metadata": {
      "needs_background": "light"
     },
     "output_type": "display_data"
    },
    {
     "data": {
      "image/png": "[encoded data removed]",
      "text/plain": [
       "<Figure size 432x288 with 1 Axes>"
      ]
     },
     "metadata": {
      "needs_background": "light"
     },
     "output_type": "display_data"
    }
   ],
   "source": [
    "#Training the ABC_GAN \n",
    "ABC_train_test2.training_GAN(disc,gen,disc_opt,gen_opt,train_data,batch_size,n_epochs,criterion,prior_model,variance,bias,device)"
   ]
  },
  {
   "cell_type": "code",
   "execution_count": 13,
   "id": "1fa7c368",
   "metadata": {
    "execution": {
     "iopub.execute_input": "2022-06-12T06:22:11.922256Z",
     "iopub.status.busy": "2022-06-12T06:22:11.921875Z",
     "iopub.status.idle": "2022-06-12T06:22:12.236532Z",
     "shell.execute_reply": "2022-06-12T06:22:12.236851Z"
    },
    "papermill": {
     "duration": 0.328211,
     "end_time": "2022-06-12T06:22:12.236973",
     "exception": false,
     "start_time": "2022-06-12T06:22:11.908762",
     "status": "completed"
    },
    "tags": []
   },
   "outputs": [
    {
     "data": {
      "application/scrapbook.scrap.json+json": {
       "data": 0.08325733417541112,
       "encoder": "json",
       "name": "ABC-GAN Model 1 MSE",
       "version": 1
      }
     },
     "metadata": {
      "scrapbook": {
       "data": true,
       "display": false,
       "name": "ABC-GAN Model 1 MSE"
      }
     },
     "output_type": "display_data"
    },
    {
     "data": {
      "application/scrapbook.scrap.json+json": {
       "data": 0.20665167227780046,
       "encoder": "json",
       "name": "ABC-GAN Model 1 MAE",
       "version": 1
      }
     },
     "metadata": {
      "scrapbook": {
       "data": true,
       "display": false,
       "name": "ABC-GAN Model 1 MAE"
      }
     },
     "output_type": "display_data"
    },
    {
     "data": {
      "application/scrapbook.scrap.json+json": {
       "data": 21.078470572335647,
       "encoder": "json",
       "name": "ABC-GAN Model 1 Manhattan Distance",
       "version": 1
      }
     },
     "metadata": {
      "scrapbook": {
       "data": true,
       "display": false,
       "name": "ABC-GAN Model 1 Manhattan Distance"
      }
     },
     "output_type": "display_data"
    },
    {
     "data": {
      "application/scrapbook.scrap.json+json": {
       "data": 2.9124304155479837,
       "encoder": "json",
       "name": "ABC-GAN Model 1 Euclidean distance",
       "version": 1
      }
     },
     "metadata": {
      "scrapbook": {
       "data": true,
       "display": false,
       "name": "ABC-GAN Model 1 Euclidean distance"
      }
     },
     "output_type": "display_data"
    },
    {
     "data": {
      "application/scrapbook.scrap.json+json": {
       "data": [
        [
         0.08043260576260067,
         0.0809408160281831,
         0.08578154466212316,
         0.0866350225856098,
         0.08057358051678368,
         0.09597693458424966,
         0.0835491079249961,
         0.07249686813787105,
         0.07894876712671213,
         0.07499344513323299,
         0.08935896650755394,
         0.0825570969622449,
         0.0773973708966251,
         0.0734440686888111,
         0.08500264959867766,
         0.08803257303320403,
         0.08968849116087817,
         0.08242532370064694,
         0.08101874524164637,
         0.08079667676556379,
         0.08525866629068457,
         0.08759390319183061,
         0.08374494627273654,
         0.08651390932577756,
         0.08758850809962886,
         0.07733103582201557,
         0.07431742217997861,
         0.07907252686500123,
         0.07515373662915394,
         0.08213954029079655,
         0.102293874499765,
         0.08602479971333804,
         0.0816000044845662,
         0.08590232025524741,
         0.08476598777301315,
         0.078766738680807,
         0.08248474923253504,
         0.09374507240809954,
         0.07562837733983425,
         0.08353024754450386,
         0.08109679648075035,
         0.08570974599373525,
         0.08665256419123345,
         0.08769327282271937,
         0.0828959575427583,
         0.08297850402299704,
         0.07767845591887497,
         0.07933572224458794,
         0.07745903269898771,
         0.08481595020946449,
         0.08393678309112636,
         0.08018187694307159,
         0.07757066688981494,
         0.08773171083193404,
         0.08349702011117828,
         0.08590417032275906,
         0.08384536622390237,
         0.08788363205087459,
         0.08818871295497321,
         0.08188915694765062,
         0.07115402861590918,
         0.08534949461387897,
         0.08397314535160244,
         0.07774258311762483,
         0.09069398672571945,
         0.08469627561791028,
         0.08330226458155784,
         0.07633992682662966,
         0.09690227131491198,
         0.07952811911159459,
         0.07990393580598158,
         0.09710064362631016,
         0.09114825572021569,
         0.07853694162551264,
         0.07581350593795655,
         0.08610878608790715,
         0.08599218444641607,
         0.10031577098479678,
         0.0808261019441123,
         0.08359739998669449,
         0.08807259833309072,
         0.09541878170340166,
         0.08258278950621462,
         0.08140921575636367,
         0.07841738947815441,
         0.0859201846156639,
         0.08252996439122255,
         0.08408630585529421,
         0.084580350737321,
         0.07815786730079483,
         0.08090230023622191,
         0.08286787757316193,
         0.08125628444600548,
         0.07810797239128789,
         0.08820019351329644,
         0.07791699808732154,
         0.0802360755465394,
         0.07265149669348486,
         0.0847047222880279,
         0.07823630663407902
        ],
        [
         0.20111781019060052,
         0.20358815716177808,
         0.2084573770818465,
         0.2077688551416584,
         0.20705656539283546,
         0.22316035633797154,
         0.20958272165016217,
         0.19222261871704283,
         0.20366724081994855,
         0.20050020632790586,
         0.20807727148719862,
         0.2050001027208625,
         0.19800831083500503,
         0.19543735493047565,
         0.20925228553367595,
         0.21318339925332397,
         0.2159201053756417,
         0.21024916151209788,
         0.2050929955736387,
         0.1984792840027926,
         0.20673414122532396,
         0.21526767043214218,
         0.2054171068046023,
         0.21286020415159418,
         0.21601582669159947,
         0.20314461078640877,
         0.20593064899245897,
         0.20389772485941648,
         0.20135721250199803,
         0.20135691924495439,
         0.21616792182127634,
         0.21407784543493213,
         0.21134000481562873,
         0.20468052633691067,
         0.19907819346396946,
         0.20223889074416138,
         0.2115061010654066,
         0.21571333257152753,
         0.20372459078755448,
         0.20870144104621574,
         0.2082774674008582,
         0.2110333970985284,
         0.21817236906830587,
         0.20116224572719896,
         0.20382816850335575,
         0.20695177821771188,
         0.20542875014464645,
         0.1989530794979895,
         0.19908614451175227,
         0.20619350962121696,
         0.20312557782174326,
         0.2088369784383651,
         0.20599555551056184,
         0.20866781429332845,
         0.20966456065356148,
         0.20727590644987776,
         0.2129433981380334,
         0.20622218285194216,
         0.21380532532930374,
         0.203325664076735,
         0.1966040194326756,
         0.2161629369080651,
         0.20090415310479848,
         0.20560101708214656,
         0.20721187681763195,
         0.20521672197854987,
         0.20944630520820035,
         0.20250137438815013,
         0.2180483381026516,
         0.2110857098710303,
         0.20566901449552355,
         0.21742254230832936,
         0.2062307766766525,
         0.20410997637857994,
         0.19904873291870542,
         0.20955542785425982,
         0.2100205559685242,
         0.2156289603342028,
         0.202621582384203,
         0.20318652136141763,
         0.20600102135144613,
         0.20821755691705382,
         0.21348165059644802,
         0.20266709547928152,
         0.20311739553204355,
         0.2094924228229359,
         0.2010193482297016,
         0.2074017093023833,
         0.21299582555451813,
         0.20199810645963048,
         0.20597196680804095,
         0.21142775517906628,
         0.1964393870758952,
         0.1988853765103747,
         0.19531338892000563,
         0.2081232418068776,
         0.20347167460211352,
         0.20114456487856075,
         0.21556500327207295,
         0.20217322572773577
        ],
        [
         20.51401663944125,
         20.765992030501366,
         21.262652462348342,
         21.192423224449158,
         21.119769670069218,
         22.762356346473098,
         21.37743760831654,
         19.60670710913837,
         20.774058563634753,
         20.451021045446396,
         21.22388169169426,
         20.910010477527976,
         20.196847705170512,
         19.934610202908516,
         21.343733124434948,
         21.744706723839045,
         22.023850748315454,
         21.445414474233985,
         20.919485548511147,
         20.244886968284845,
         21.086882404983044,
         21.957302384078503,
         20.952544894069433,
         21.711740823462605,
         22.033614322543144,
         20.720750300213695,
         21.004926197230816,
         20.79756793566048,
         20.5384356752038,
         20.53840576298535,
         22.049128025770187,
         21.83594023436308,
         21.55668049119413,
         20.87741368636489,
         20.305975733324885,
         20.62836685590446,
         21.573622308671474,
         22.00275992229581,
         20.779908260330558,
         21.287546986714005,
         21.244301674887538,
         21.525406504049897,
         22.2535816449672,
         20.518549064174294,
         20.790473187342286,
         21.10908137820661,
         20.953732514753938,
         20.293214108794928,
         20.30678674019873,
         21.03173798136413,
         20.718808937817812,
         21.30137180071324,
         21.011546662077308,
         21.284117057919502,
         21.38578518666327,
         21.14214245788753,
         21.720226610079408,
         21.0346626508981,
         21.80814318358898,
         20.73921773582697,
         20.05360998213291,
         22.04861956462264,
         20.492223616689444,
         20.97130374237895,
         21.13561143539846,
         20.932105641812086,
         21.363523131236434,
         20.655140187591314,
         22.24093048647046,
         21.530742406845093,
         20.9782394785434,
         22.177099315449595,
         21.035539221018553,
         20.819217590615153,
         20.302970757707953,
         21.3746536411345,
         21.422096708789468,
         21.994153954088688,
         20.667401403188705,
         20.7250251788646,
         21.012104177847505,
         21.23819080553949,
         21.775128360837698,
         20.672043738886714,
         20.71797434426844,
         21.368227127939463,
         20.503973519429564,
         21.154974348843098,
         21.72557420656085,
         20.603806858882308,
         21.009140614420176,
         21.56563102826476,
         20.03681748174131,
         20.286308404058218,
         19.921965669840574,
         21.228570664301515,
         20.75411080941558,
         20.516745617613196,
         21.98763033375144,
         20.62166902422905
        ],
        [
         2.8642845158582393,
         2.8733192017029143,
         2.9579921493365333,
         2.972670904041044,
         2.8667935420451776,
         3.1288412116298687,
         2.9192480210406244,
         2.7193161916303237,
         2.837741046488322,
         2.765742468775747,
         3.0190419976824603,
         2.9018655878846253,
         2.809720952595784,
         2.7370230189493716,
         2.9445322649047543,
         2.9965517598377662,
         3.024603461349863,
         2.8995487610085102,
         2.87470207406749,
         2.870759660801912,
         2.948963201135244,
         2.989076466998916,
         2.9226673638680007,
         2.9705923232967044,
         2.988984413837273,
         2.808516628728694,
         2.753248456343491,
         2.8399643906623417,
         2.768696649359352,
         2.8945177680679812,
         3.230166435181944,
         2.96218324395377,
         2.884995746517792,
         2.9600737602355855,
         2.940430368644587,
         2.83446773582666,
         2.900593805019685,
         3.092247950217794,
         2.7774258745577884,
         2.918918506834234,
         2.876086445334447,
         2.9567539788357426,
         2.9729718376577017,
         2.9907714436107242,
         2.9078149303835255,
         2.909262348146983,
         2.81481837846161,
         2.8446869193195883,
         2.810839969705986,
         2.941296809464386,
         2.9260129656744325,
         2.859816680871923,
         2.812864735951788,
         2.991426834281138,
         2.9183378919069987,
         2.960105635432868,
         2.9244191482819355,
         2.994015776376138,
         2.9992080156946885,
         2.8901027678372206,
         2.6940139047196356,
         2.950533587440695,
         2.9266466862030764,
         2.8159800208804273,
         3.041510586209324,
         2.939221004454556,
         2.914932415566251,
         2.790460989929124,
         3.143887986891553,
         2.8481341522798127,
         2.854855767321726,
         3.1471043277723787,
         3.0491182468808917,
         2.8303300241848635,
         2.7808231884950123,
         2.96362888718654,
         2.961621652665046,
         3.198782368409778,
         2.871282361297728,
         2.920091573674161,
         2.997232895518006,
         3.1197300738600715,
         2.90231709667188,
         2.8816210727902956,
         2.828174981639529,
         2.9603815346670634,
         2.901388696452907,
         2.928617967103256,
         2.9372088409247894,
         2.823491183744173,
         2.8726354840276263,
         2.9073223956868826,
         2.8789131653269013,
         2.8225898008586663,
         2.9994032303703744,
         2.8191370674209506,
         2.8607830581410783,
         2.72221466139896,
         2.939367563503899,
         2.824907658079474
        ]
       ],
       "encoder": "json",
       "name": "ABC_GAN_1 Metrics",
       "version": 1
      }
     },
     "metadata": {
      "scrapbook": {
       "data": true,
       "display": false,
       "name": "ABC_GAN_1 Metrics"
      }
     },
     "output_type": "display_data"
    },
    {
     "name": "stdout",
     "output_type": "stream",
     "text": [
      "MSE\n",
      "0.08325733417541112\n"
     ]
    }
   ],
   "source": [
    "ABC_GAN1_metrics=ABC_train_test2.test_generator(gen,test_data,prior_model,variance,bias,\"1\",device)\n",
    "sb.glue(\"ABC_GAN_1 Metrics\",ABC_GAN1_metrics)\n",
    "\n",
    "print(\"MSE\")\n",
    "print(mean(ABC_GAN1_metrics[0]))"
   ]
  },
  {
   "cell_type": "code",
   "execution_count": 14,
   "id": "eb22ce5c",
   "metadata": {
    "execution": {
     "iopub.execute_input": "2022-06-12T06:22:12.264977Z",
     "iopub.status.busy": "2022-06-12T06:22:12.264570Z",
     "iopub.status.idle": "2022-06-12T06:22:12.585909Z",
     "shell.execute_reply": "2022-06-12T06:22:12.586155Z"
    },
    "papermill": {
     "duration": 0.336445,
     "end_time": "2022-06-12T06:22:12.586296",
     "exception": false,
     "start_time": "2022-06-12T06:22:12.249851",
     "status": "completed"
    },
    "tags": []
   },
   "outputs": [
    {
     "data": {
      "image/png": "[encoded data removed]",
      "text/plain": [
       "<Figure size 432x288 with 1 Axes>"
      ]
     },
     "metadata": {
      "needs_background": "light"
     },
     "output_type": "display_data"
    },
    {
     "data": {
      "image/png": "[encoded data removed]",
      "text/plain": [
       "<Figure size 432x288 with 1 Axes>"
      ]
     },
     "metadata": {
      "needs_background": "light"
     },
     "output_type": "display_data"
    },
    {
     "data": {
      "image/png": "[encoded data removed]",
      "text/plain": [
       "<Figure size 432x288 with 1 Axes>"
      ]
     },
     "metadata": {
      "needs_background": "light"
     },
     "output_type": "display_data"
    },
    {
     "data": {
      "image/png": "[encoded data removed]",
      "text/plain": [
       "<Figure size 432x288 with 1 Axes>"
      ]
     },
     "metadata": {
      "needs_background": "light"
     },
     "output_type": "display_data"
    }
   ],
   "source": [
    "sanityChecks.discProbVsError(train_data,disc,device)\n",
    "sanityChecks.discProbVsError(test_data,disc,device)"
   ]
  },
  {
   "cell_type": "markdown",
   "id": "130f3a4d",
   "metadata": {
    "id": "130f3a4d",
    "papermill": {
     "duration": 0.014631,
     "end_time": "2022-06-12T06:22:12.616093",
     "exception": false,
     "start_time": "2022-06-12T06:22:12.601462",
     "status": "completed"
    },
    "tags": []
   },
   "source": [
    "# ABC - GAN Model with skip connection"
   ]
  },
  {
   "cell_type": "code",
   "execution_count": 15,
   "id": "4e43dad1",
   "metadata": {
    "execution": {
     "iopub.execute_input": "2022-06-12T06:22:12.649002Z",
     "iopub.status.busy": "2022-06-12T06:22:12.648622Z",
     "iopub.status.idle": "2022-06-12T06:22:12.651013Z",
     "shell.execute_reply": "2022-06-12T06:22:12.651264Z"
    },
    "id": "4e43dad1",
    "papermill": {
     "duration": 0.020456,
     "end_time": "2022-06-12T06:22:12.651379",
     "exception": false,
     "start_time": "2022-06-12T06:22:12.630923",
     "status": "completed"
    },
    "tags": []
   },
   "outputs": [],
   "source": [
    "#Generator\n",
    "gen3 = network.GeneratorWithSkipConnection(n_features+1).to(device)\n",
    "constraints=network.weightConstraint()\n",
    "#Discriminator \n",
    "disc3 = network.Discriminator(n_features+1).to(device)\n",
    "\n",
    "criterion = torch.nn.BCELoss()\n",
    "gen_opt = torch.optim.Adam(gen3.parameters(), lr=0.001, betas=(0.5, 0.999))\n",
    "disc_opt = torch.optim.Adam(disc3.parameters(), lr=0.001, betas=(0.5, 0.999))\n"
   ]
  },
  {
   "cell_type": "code",
   "execution_count": 16,
   "id": "26acbc37",
   "metadata": {
    "execution": {
     "iopub.execute_input": "2022-06-12T06:22:12.683536Z",
     "iopub.status.busy": "2022-06-12T06:22:12.683192Z",
     "iopub.status.idle": "2022-06-12T06:25:10.953228Z",
     "shell.execute_reply": "2022-06-12T06:25:10.953558Z"
    },
    "id": "26acbc37",
    "papermill": {
     "duration": 178.287282,
     "end_time": "2022-06-12T06:25:10.953684",
     "exception": false,
     "start_time": "2022-06-12T06:22:12.666402",
     "status": "completed"
    },
    "tags": []
   },
   "outputs": [
    {
     "data": {
      "image/png": "[encoded data removed]",
      "text/plain": [
       "<Figure size 432x288 with 1 Axes>"
      ]
     },
     "metadata": {
      "needs_background": "light"
     },
     "output_type": "display_data"
    },
    {
     "data": {
      "image/png": "[encoded data removed]",
      "text/plain": [
       "<Figure size 432x288 with 1 Axes>"
      ]
     },
     "metadata": {
      "needs_background": "light"
     },
     "output_type": "display_data"
    }
   ],
   "source": [
    "ABC_train_test2.training_GAN_skip_connection(disc3,gen3,disc_opt,gen_opt,train_data,batch_size,n_epochs,criterion,prior_model,variance,bias,device)"
   ]
  },
  {
   "cell_type": "code",
   "execution_count": 17,
   "id": "c5e0717b",
   "metadata": {
    "execution": {
     "iopub.execute_input": "2022-06-12T06:25:10.988363Z",
     "iopub.status.busy": "2022-06-12T06:25:10.987980Z",
     "iopub.status.idle": "2022-06-12T06:25:11.824252Z",
     "shell.execute_reply": "2022-06-12T06:25:11.824638Z"
    },
    "id": "c5e0717b",
    "papermill": {
     "duration": 0.854986,
     "end_time": "2022-06-12T06:25:11.824763",
     "exception": false,
     "start_time": "2022-06-12T06:25:10.969777",
     "status": "completed"
    },
    "tags": []
   },
   "outputs": [
    {
     "data": {
      "application/scrapbook.scrap.json+json": {
       "data": 0.08802601440584369,
       "encoder": "json",
       "name": "ABC-GAN Model 3 MSE",
       "version": 1
      }
     },
     "metadata": {
      "scrapbook": {
       "data": true,
       "display": false,
       "name": "ABC-GAN Model 3 MSE"
      }
     },
     "output_type": "display_data"
    },
    {
     "data": {
      "application/scrapbook.scrap.json+json": {
       "data": 0.20037186828131476,
       "encoder": "json",
       "name": "ABC-GAN Model 3 MAE",
       "version": 1
      }
     },
     "metadata": {
      "scrapbook": {
       "data": true,
       "display": false,
       "name": "ABC-GAN Model 3 MAE"
      }
     },
     "output_type": "display_data"
    },
    {
     "data": {
      "application/scrapbook.scrap.json+json": {
       "data": 20.437930564694106,
       "encoder": "json",
       "name": "ABC-GAN Model 3 Manhattan Distance",
       "version": 1
      }
     },
     "metadata": {
      "scrapbook": {
       "data": true,
       "display": false,
       "name": "ABC-GAN Model 3 Manhattan Distance"
      }
     },
     "output_type": "display_data"
    },
    {
     "data": {
      "application/scrapbook.scrap.json+json": {
       "data": 2.995439991743617,
       "encoder": "json",
       "name": "ABC-GAN Model 3 Euclidean distance",
       "version": 1
      }
     },
     "metadata": {
      "scrapbook": {
       "data": true,
       "display": false,
       "name": "ABC-GAN Model 3 Euclidean distance"
      }
     },
     "output_type": "display_data"
    },
    {
     "data": {
      "application/scrapbook.scrap.json+json": {
       "data": [
        [
         0.08818739851207939,
         0.09330446749379852,
         0.08929369439138725,
         0.08033946517614085,
         0.09132463032429168,
         0.08586357210606894,
         0.09118780792220221,
         0.08689886212772646,
         0.10241431122511069,
         0.08018158173684636,
         0.09156591268200566,
         0.08412053567165369,
         0.08692383752509071,
         0.0911879761707396,
         0.08546652195078093,
         0.09701601183038537,
         0.07910508911716513,
         0.08947636045195335,
         0.0912141630725719,
         0.08393465552385536,
         0.09194674925261193,
         0.08977556131013303,
         0.09286043876999588,
         0.08564732175339572,
         0.08552450336875768,
         0.08726276971765266,
         0.0909702866412232,
         0.0885416252820467,
         0.09007840023753182,
         0.08178765765499241,
         0.0930036937713742,
         0.09050311861456246,
         0.08913982058653107,
         0.0839382748136941,
         0.08712167636830376,
         0.08074807428508722,
         0.09200235446853873,
         0.0825733354889441,
         0.08341753093875114,
         0.08653388267398303,
         0.08787179087822725,
         0.08816108008145228,
         0.08603329676287326,
         0.08803663307027454,
         0.09703100816198935,
         0.08247947178126572,
         0.08158277242516675,
         0.08584430923577405,
         0.08796944920904544,
         0.09596200781519851,
         0.08886519257601655,
         0.08827685974026292,
         0.09510593933541955,
         0.08068916073978447,
         0.08249631590810996,
         0.08120947688064603,
         0.0922161224317693,
         0.07960983756370314,
         0.09340063859044602,
         0.10007924867725251,
         0.08757126571923386,
         0.08476159005233515,
         0.09094789813527128,
         0.08732473969407675,
         0.09107568579103148,
         0.09233636538977122,
         0.09264779540105451,
         0.09336323121094373,
         0.08309893155545249,
         0.09292249057941272,
         0.08869663904840407,
         0.09270859327034929,
         0.08994948669250356,
         0.08977686746185515,
         0.08889043464808892,
         0.08721340127182194,
         0.0850641738302057,
         0.08474886833891898,
         0.09467792006143683,
         0.08693750010497468,
         0.08264839881589063,
         0.08971886396699916,
         0.08909812366910205,
         0.08223520991382004,
         0.0845195004258018,
         0.08846443967610487,
         0.08267968679722272,
         0.08606422732012889,
         0.08702395427565905,
         0.09008518181561952,
         0.09171706488322771,
         0.0873679732685994,
         0.09221595614852456,
         0.0867664623861103,
         0.08318554239555333,
         0.08281901869291182,
         0.08133882756782952,
         0.08416974310488753,
         0.08893146907129765,
         0.09153337525729321
        ],
        [
         0.20451933193915323,
         0.20309072720142557,
         0.19736826301132346,
         0.1894230223352126,
         0.19922839457570923,
         0.19873616466408267,
         0.20465788966519574,
         0.2018496402374962,
         0.22429447833850397,
         0.1901477437064636,
         0.20342536544536843,
         0.19520840642279855,
         0.20004885304061806,
         0.20515879705621332,
         0.1973646413717492,
         0.21335366417599075,
         0.18638002019667743,
         0.1985831301038464,
         0.20607977504750677,
         0.19386717408676357,
         0.20496686852957105,
         0.19875629618763924,
         0.20211031118079142,
         0.20076279391479843,
         0.1992279038326267,
         0.2004894245890718,
         0.2033600029079061,
         0.19913418517977582,
         0.1996056321898804,
         0.1929543594482775,
         0.21177461233866565,
         0.19647059452665203,
         0.20035673683399663,
         0.19804326541648776,
         0.1979559713645893,
         0.19077053764725432,
         0.20944822070134037,
         0.1945122730388653,
         0.19745173632149018,
         0.20190478450454333,
         0.20511181561239794,
         0.20338123368428035,
         0.19942581315762273,
         0.1983220558796151,
         0.2122849173222979,
         0.19283283985785993,
         0.19143878904116504,
         0.20306568006601403,
         0.20110662717956537,
         0.21169689715858184,
         0.203104418574595,
         0.19905979987964326,
         0.21486592060868062,
         0.18899377258311884,
         0.19635803491680645,
         0.1945046521449352,
         0.20122643446951521,
         0.1878506784309067,
         0.2013776397661251,
         0.2120883047909421,
         0.20115962619071498,
         0.19964695846041045,
         0.20155841764975704,
         0.19690930406909948,
         0.20457269581874796,
         0.20960599169427274,
         0.20662017928107695,
         0.20811916175572312,
         0.19588652466807296,
         0.20422880525025083,
         0.1990341475763011,
         0.20348720615912302,
         0.20577558592034906,
         0.20088606738649747,
         0.20465788425987258,
         0.19818755098636828,
         0.19755821914284252,
         0.19736914780429182,
         0.20771909397387622,
         0.19716936735180662,
         0.20012873712488832,
         0.20336854141935998,
         0.20582284067994824,
         0.18493994539055755,
         0.19318032942200994,
         0.20803552973723294,
         0.19172184255120217,
         0.18704718437191903,
         0.2022293913999901,
         0.2045331367601951,
         0.20696240679963546,
         0.1954276864142979,
         0.20660187776072644,
         0.2046706288614694,
         0.19272855042899942,
         0.19171773782913007,
         0.1899823225377237,
         0.19318827004263214,
         0.19974905510853028,
         0.20406055969058298
        ],
        [
         20.86097185779363,
         20.715254174545407,
         20.131562827154994,
         19.321148278191686,
         20.32129624672234,
         20.271088795736432,
         20.875104745849967,
         20.58866330422461,
         22.878036790527403,
         19.395069858059287,
         20.74938727542758,
         19.91125745512545,
         20.40498301014304,
         20.926197299733758,
         20.131193419918418,
         21.762073745951056,
         19.010762060061097,
         20.255479270592332,
         21.02013705484569,
         19.774451756849885,
         20.906620590016246,
         20.273142211139202,
         20.615251740440726,
         20.47780497930944,
         20.321246190927923,
         20.449921308085322,
         20.74272029660642,
         20.311686888337135,
         20.3597744833678,
         19.681344663724303,
         21.601010458543897,
         20.040000641718507,
         20.436387157067657,
         20.20041307248175,
         20.19150907918811,
         19.45859484001994,
         21.363718511536717,
         19.84025184996426,
         20.140077104792,
         20.59428801946342,
         20.92140519246459,
         20.744885835796595,
         20.341432942077518,
         20.22884969972074,
         21.653061566874385,
         19.668949665501714,
         19.526756482198834,
         20.712699366733432,
         20.51287597231567,
         21.593083510175347,
         20.71665069460869,
         20.304099587723613,
         21.916323902085423,
         19.27736480347812,
         20.02851956151426,
         19.83947451878339,
         20.52509631589055,
         19.160769199952483,
         20.540519256144762,
         21.633007088676095,
         20.518281871452928,
         20.363989762961864,
         20.55895860027522,
         20.084749015048146,
         20.866414973512292,
         21.37981115281582,
         21.07525828666985,
         21.228154499083757,
         19.98042551614344,
         20.831338135525584,
         20.301483052782714,
         20.755695028230548,
         20.989109763875604,
         20.490378873422742,
         20.875104194507003,
         20.215130200609565,
         20.150938352569938,
         20.131653076037765,
         21.187347585335374,
         20.111275469884276,
         20.41313118673861,
         20.74359122477472,
         20.99392974935472,
         18.86387442983687,
         19.704393601045012,
         21.21962403319776,
         19.55562794022262,
         19.07881280593574,
         20.62739792279899,
         20.8623799495399,
         21.110165493562818,
         19.933624014258385,
         21.073391531594098,
         20.876404143869877,
         19.65831214375794,
         19.555209258571267,
         19.37819689884782,
         19.70520354434848,
         20.374403621070087,
         20.814177088439465
        ],
        [
         2.9991856641815455,
         3.084972558122268,
         3.017939169022712,
         2.862625621342471,
         3.0520668886965354,
         2.9594060814323937,
         3.0497797310731523,
         2.977193970339873,
         3.2320674103368083,
         2.859811416362682,
         3.0560960543746947,
         2.9292139967077646,
         2.9776217737582544,
         3.049782544611244,
         2.952555713103421,
         3.145732538964384,
         2.8405490824752246,
         3.0210244563888,
         3.05022042374028,
         2.9259758822371116,
         3.062444844199878,
         3.0260712571969566,
         3.077623231414069,
         2.9556770491456543,
         2.9535570662530435,
         2.9834212761862124,
         3.0461400554480034,
         3.0052031177224547,
         3.0311708668810216,
         2.888311112191557,
         3.0799962280301854,
         3.038308427182035,
         3.0153377422481498,
         2.926038966076289,
         2.9810083846857895,
         2.869896091686752,
         3.063370717982228,
         2.9021509643490804,
         2.9169484321380477,
         2.9709352118055796,
         2.9938140673026403,
         2.998738095984398,
         2.9623295343045597,
         2.996620859095792,
         3.1459756566958545,
         2.9005010121854986,
         2.884691107790747,
         2.9590741021557663,
         2.995477227308302,
         3.1285978963667165,
         3.010689230517438,
         3.000706532386467,
         3.1146116631472354,
         2.868848967000183,
         2.90079717019774,
         2.8780838489915292,
         3.066927532244684,
         2.8495970647615643,
         3.0865620253326345,
         3.195009133802242,
         2.988690198625788,
         2.940354091829449,
         3.0457651928206264,
         2.9844804319673175,
         3.0479041898795325,
         3.068926403444153,
         3.074097449806619,
         3.0859438723859283,
         2.911372703495063,
         3.0786513344482676,
         3.007832638784481,
         3.075105935342005,
         3.029001096506134,
         3.026093270391583,
         3.0111167918407067,
         2.982577229465456,
         2.9455976864943696,
         2.940133427341306,
         3.1075951870001597,
         2.9778557739936664,
         2.9034697655083033,
         3.0251155555836067,
         3.0146324177664527,
         2.8962029299083376,
         2.9361520811142903,
         3.003892948652248,
         2.9040192928623454,
         2.9628619925087882,
         2.9793360562577065,
         3.0312849660157637,
         3.05861743571981,
         2.9852191332291067,
         3.0669247671159954,
         2.974925068532526,
         2.9128895146137004,
         2.9064651910313684,
         2.880375047093453,
         2.9300706129201957,
         3.01181172141825,
         3.055553022980276
        ]
       ],
       "encoder": "json",
       "name": "ABC_GAN_3 Metrics",
       "version": 1
      }
     },
     "metadata": {
      "scrapbook": {
       "data": true,
       "display": false,
       "name": "ABC_GAN_3 Metrics"
      }
     },
     "output_type": "display_data"
    },
    {
     "name": "stdout",
     "output_type": "stream",
     "text": [
      "MSE\n",
      "0.08802601440584369\n"
     ]
    }
   ],
   "source": [
    "ABC_GAN3_metrics=ABC_train_test2.test_generator(gen3,test_data,prior_model,variance,bias,\"3\",device)\n",
    "sb.glue(\"ABC_GAN_3 Metrics\",ABC_GAN3_metrics)\n",
    "\n",
    "print(\"MSE\")\n",
    "print(mean(ABC_GAN3_metrics[0]))"
   ]
  },
  {
   "cell_type": "code",
   "execution_count": 18,
   "id": "c8e46b48",
   "metadata": {
    "execution": {
     "iopub.execute_input": "2022-06-12T06:25:11.862104Z",
     "iopub.status.busy": "2022-06-12T06:25:11.861729Z",
     "iopub.status.idle": "2022-06-12T06:25:12.186249Z",
     "shell.execute_reply": "2022-06-12T06:25:12.186543Z"
    },
    "id": "c8e46b48",
    "papermill": {
     "duration": 0.344391,
     "end_time": "2022-06-12T06:25:12.186668",
     "exception": false,
     "start_time": "2022-06-12T06:25:11.842277",
     "status": "completed"
    },
    "tags": []
   },
   "outputs": [
    {
     "data": {
      "image/png": "[encoded data removed]",
      "text/plain": [
       "<Figure size 432x288 with 1 Axes>"
      ]
     },
     "metadata": {
      "needs_background": "light"
     },
     "output_type": "display_data"
    },
    {
     "data": {
      "image/png": "[encoded data removed]",
      "text/plain": [
       "<Figure size 432x288 with 1 Axes>"
      ]
     },
     "metadata": {
      "needs_background": "light"
     },
     "output_type": "display_data"
    },
    {
     "data": {
      "image/png": "[encoded data removed]",
      "text/plain": [
       "<Figure size 432x288 with 1 Axes>"
      ]
     },
     "metadata": {
      "needs_background": "light"
     },
     "output_type": "display_data"
    },
    {
     "data": {
      "image/png": "[encoded data removed]",
      "text/plain": [
       "<Figure size 432x288 with 1 Axes>"
      ]
     },
     "metadata": {
      "needs_background": "light"
     },
     "output_type": "display_data"
    }
   ],
   "source": [
    "sanityChecks.discProbVsError(train_data,disc3,device)\n",
    "sanityChecks.discProbVsError(test_data,disc3,device)"
   ]
  },
  {
   "cell_type": "markdown",
   "id": "a5bd74c3",
   "metadata": {
    "id": "a5bd74c3",
    "papermill": {
     "duration": 0.019501,
     "end_time": "2022-06-12T06:25:12.226137",
     "exception": false,
     "start_time": "2022-06-12T06:25:12.206636",
     "status": "completed"
    },
    "tags": []
   },
   "source": [
    "## Skip Connection Model Analysis - ABC-GAN "
   ]
  },
  {
   "cell_type": "markdown",
   "id": "5744a8bf",
   "metadata": {
    "id": "5744a8bf",
    "papermill": {
     "duration": 0.019288,
     "end_time": "2022-06-12T06:25:12.264866",
     "exception": false,
     "start_time": "2022-06-12T06:25:12.245578",
     "status": "completed"
    },
    "tags": []
   },
   "source": [
    "### Weight Analysis \n",
    "\n",
    "Study the weights of the skip connection layer\n",
    "\n",
    "Equation of the skip connection is \n",
    "\n",
    "$output = y_{gan} * w + y_{abc} * (1-w)$"
   ]
  },
  {
   "cell_type": "code",
   "execution_count": 19,
   "id": "52c31dea",
   "metadata": {
    "execution": {
     "iopub.execute_input": "2022-06-12T06:25:12.306277Z",
     "iopub.status.busy": "2022-06-12T06:25:12.305890Z",
     "iopub.status.idle": "2022-06-12T06:25:12.309238Z",
     "shell.execute_reply": "2022-06-12T06:25:12.309482Z"
    },
    "id": "52c31dea",
    "papermill": {
     "duration": 0.025422,
     "end_time": "2022-06-12T06:25:12.309595",
     "exception": false,
     "start_time": "2022-06-12T06:25:12.284173",
     "status": "completed"
    },
    "tags": []
   },
   "outputs": [
    {
     "name": "stdout",
     "output_type": "stream",
     "text": [
      "Weight of the node at skip connection\n",
      "Parameter containing:\n",
      "tensor([[0.2942]], requires_grad=True)\n"
     ]
    },
    {
     "data": {
      "application/scrapbook.scrap.json+json": {
       "data": 0.29415351152420044,
       "encoder": "json",
       "name": "Skip Connection Weight",
       "version": 1
      }
     },
     "metadata": {
      "scrapbook": {
       "data": true,
       "display": false,
       "name": "Skip Connection Weight"
      }
     },
     "output_type": "display_data"
    }
   ],
   "source": [
    "print(\"Weight of the node at skip connection\")\n",
    "for name,param in gen3.named_parameters():\n",
    "    if(name == \"skipNode.weight\"):\n",
    "        print(param)\n",
    "        sb.glue(\"Skip Connection Weight\",param.item())"
   ]
  }
 ],
 "metadata": {
  "colab": {
   "collapsed_sections": [],
   "name": "ABC_GAN_Model-Catboost_Pre-gen.ipynb",
   "provenance": []
  },
  "interpreter": {
   "hash": "31f2aee4e71d21fbe5cf8b01ff0e069b9275f58929596ceb00d14d90e3e16cd6"
  },
  "kernelspec": {
   "display_name": "Python 3 (ipykernel)",
   "language": "python",
   "name": "python3"
  },
  "language_info": {
   "codemirror_mode": {
    "name": "ipython",
    "version": 3
   },
   "file_extension": ".py",
   "mimetype": "text/x-python",
   "name": "python",
   "nbconvert_exporter": "python",
   "pygments_lexer": "ipython3",
   "version": "3.8.11"
  },
  "papermill": {
   "default_parameters": {},
   "duration": 245.875685,
   "end_time": "2022-06-12T06:25:12.637223",
   "environment_variables": {},
   "exception": null,
   "input_path": "ABC_GAN-Catboost.ipynb",
   "output_path": "./ABC_GAN_Catboost/ABC-GAN_output_7_4.ipynb",
   "parameters": {
    "bias": 0.1,
    "variance": 0.1
   },
   "start_time": "2022-06-12T06:21:06.761538",
   "version": "2.3.3"
  }
 },
 "nbformat": 4,
 "nbformat_minor": 5
}